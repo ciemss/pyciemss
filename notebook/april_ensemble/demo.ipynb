{
 "cells": [
  {
   "cell_type": "code",
   "execution_count": 1,
   "metadata": {},
   "outputs": [],
   "source": [
    "import os\n",
    "import copy\n",
    "\n",
    "from pyciemss.PetriNetODE.base import MiraPetriNetODESystem, ScaledBetaNoisePetriNetODESystem\n",
    "from pyciemss.PetriNetODE.events import Event, StartEvent, LoggingEvent, ObservationEvent, StaticParameterInterventionEvent\n",
    "from pyciemss.Ensemble.base import EnsembleSystem\n",
    "import pyciemss\n",
    "\n",
    "from pyciemss.PetriNetODE.interfaces import load_petri_model\n",
    "from pyciemss.Ensemble.interfaces import setup_model, reset_model, intervene, sample, calibrate, optimize"
   ]
  },
  {
   "cell_type": "code",
   "execution_count": 2,
   "metadata": {},
   "outputs": [
    {
     "data": {
      "text/plain": [
       "ScaledBetaNoisePetriNetODESystem(\n",
       "\tbeta = Uniform(low: 0.00989999994635582, high: 0.01209999993443489),\n",
       "\tgamma = Uniform(low: 0.41040000319480896, high: 0.5016000270843506),\n",
       "\tdelta = Uniform(low: 0.00989999994635582, high: 0.01209999993443489),\n",
       "\talpha = Uniform(low: 0.5130000114440918, high: 0.6269999742507935),\n",
       "\tepsilon = Uniform(low: 0.15389999747276306, high: 0.18809999525547028),\n",
       "\tzeta = Uniform(low: 0.11249999701976776, high: 0.13750000298023224),\n",
       "\tXXlambdaXX = Uniform(low: 0.03060000017285347, high: 0.03739999979734421),\n",
       "\teta = Uniform(low: 0.11249999701976776, high: 0.13750000298023224),\n",
       "\trho = Uniform(low: 0.03060000017285347, high: 0.03739999979734421),\n",
       "\ttheta = Uniform(low: 0.33390000462532043, high: 0.4081000089645386),\n",
       "\tkappa = Uniform(low: 0.015300000086426735, high: 0.018699999898672104),\n",
       "\tmu = Uniform(low: 0.015300000086426735, high: 0.018699999898672104),\n",
       "\tnu = Uniform(low: 0.024299999698996544, high: 0.02969999983906746),\n",
       "\txi = Uniform(low: 0.015300000086426735, high: 0.018699999898672104),\n",
       "\ttau = Uniform(low: 0.008999999612569809, high: 0.010999999940395355),\n",
       "\tsigma = Uniform(low: 0.015300000086426735, high: 0.018699999898672104),\n",
       "\tpseudocount = 1.0\n",
       ")"
      ]
     },
     "execution_count": 2,
     "metadata": {},
     "output_type": "execute_result"
    }
   ],
   "source": [
    "MIRA_PATH = \"test/models/april_ensemble_demo/\"\n",
    "\n",
    "filename1 = \"BIOMD0000000955_template_model.json\"\n",
    "filename1 = os.path.join(MIRA_PATH, filename1)\n",
    "model1 = load_petri_model(filename1, add_uncertainty=True)\n",
    "\n",
    "\n",
    "# TODO: put this into the interfaces\n",
    "start_state1 = {k[0]: v.data['initial_value'] for k, v in model1.G.variables.items()}\n",
    "\n",
    "model1"
   ]
  },
  {
   "cell_type": "code",
   "execution_count": 3,
   "metadata": {},
   "outputs": [
    {
     "data": {
      "text/plain": [
       "ScaledBetaNoisePetriNetODESystem(\n",
       "\tmira_param_0 = Uniform(low: 0.0, high: 0.10000000149011612),\n",
       "\tmira_param_1 = Uniform(low: 0.0, high: 0.10000000149011612),\n",
       "\tmira_param_2 = Uniform(low: 0.0, high: 0.10000000149011612),\n",
       "\tmira_param_3 = Uniform(low: 0.02098800055682659, high: 0.025652000680565834),\n",
       "\tmira_param_4 = Uniform(low: 0.37501201033592224, high: 0.45834800601005554),\n",
       "\tmira_param_5 = Uniform(low: 0.4526999890804291, high: 0.5533000230789185),\n",
       "\tmira_param_6 = Uniform(low: 0.23669999837875366, high: 0.28929999470710754),\n",
       "\tmira_param_7 = Uniform(low: 0.0027000000700354576, high: 0.0032999999821186066),\n",
       "\tmira_param_8 = Uniform(low: 1.4759999513626099, high: 1.8040000200271606),\n",
       "\tmira_param_9 = Uniform(low: 0.0, high: 0.10000000149011612),\n",
       "\tmira_param_10 = Uniform(low: 0.007199999876320362, high: 0.008799999952316284),\n",
       "\tmira_param_11 = Uniform(low: 0.12690000236034393, high: 0.1551000028848648),\n",
       "\tpseudocount = 1.0\n",
       ")"
      ]
     },
     "execution_count": 3,
     "metadata": {},
     "output_type": "execute_result"
    }
   ],
   "source": [
    "filename2 = \"BIOMD0000000960_template_model.json\"\n",
    "filename2 = os.path.join(MIRA_PATH, filename2)\n",
    "model2 = load_petri_model(filename2, add_uncertainty=True)\n",
    "\n",
    "\n",
    "# TODO: put this into the interfaces\n",
    "start_state2 = {k[0]: v.data['initial_value'] for k, v in model2.G.variables.items()}\n",
    "\n",
    "model2"
   ]
  },
  {
   "cell_type": "code",
   "execution_count": 4,
   "metadata": {},
   "outputs": [],
   "source": [
    "from math import isclose\n",
    "\n",
    "solution_ratio = start_state2['Infectious'] / start_state1['Infected']\n",
    "solution_mapping1 = lambda x : {\"Infected\": x[\"Infected\"]}\n",
    "solution_mapping2 = lambda x: {\"Infected\": x[\"Infectious\"] / solution_ratio}\n",
    "\n",
    "# Assert that all of the variables in the solution mappings are the same.\n",
    "assert(set(solution_mapping1(start_state1).keys()) == set(solution_mapping2(start_state2).keys()))\n",
    "\n",
    "# Assert that the solution mappings are correct.\n",
    "assert(isclose(solution_mapping1(start_state1)[\"Infected\"], solution_mapping2(start_state2)[\"Infected\"]))"
   ]
  },
  {
   "cell_type": "code",
   "execution_count": 5,
   "metadata": {},
   "outputs": [
    {
     "data": {
      "text/plain": [
       "ScaledBetaNoisePetriNetODESystem(\n",
       "\tmira_param_0 = Uniform(low: 7.614000097078133e-09, high: 9.306000414710525e-09),\n",
       "\tmira_param_1 = Uniform(low: 1.5228000194156266e-08, high: 1.861200082942105e-08),\n",
       "\tmira_param_2 = Uniform(low: 1.9035000242695332e-09, high: 2.326500103677631e-09),\n",
       "\tmira_param_3 = Uniform(low: 3.8070000485390665e-09, high: 4.653000207355262e-09),\n",
       "\tmira_param_4 = Uniform(low: 0.019285714253783226, high: 0.023571427911520004),\n",
       "\tmira_param_5 = Uniform(low: 0.035999998450279236, high: 0.04399999976158142),\n",
       "\tmira_param_6 = Uniform(low: 0.14399999380111694, high: 0.17599999904632568),\n",
       "\tmira_param_7 = Uniform(low: 0.09000000357627869, high: 0.10999999940395355),\n",
       "\tmira_param_8 = Uniform(low: 0.22499999403953552, high: 0.2750000059604645),\n",
       "\tXXlambdaXX = Uniform(low: 0.27000001072883606, high: 0.33000001311302185),\n",
       "\ttheta = Uniform(low: 0.06428571045398712, high: 0.07857142388820648),\n",
       "\t(('Quarantined', ('identity', 'ido:0000514'), ('quarantined', 'ncit:C71902')), ('Susceptible_unconfined', ('identity', 'ido:0000514'), ('quarantined', 'ncit:C68851')), 'NaturalConversion', 'rate') = Uniform(low: 0.0, high: 1.0),\n",
       "\tmira_param_9 = Uniform(low: 0.015300000086426735, high: 0.018699999898672104),\n",
       "\tpseudocount = 1.0\n",
       ")"
      ]
     },
     "execution_count": 5,
     "metadata": {},
     "output_type": "execute_result"
    }
   ],
   "source": [
    "# JEREMY LOOK HERE.\n",
    "\n",
    "filename3 = \"BIOMD0000000983_template_model.json\"\n",
    "filename3 = os.path.join(MIRA_PATH, filename3)\n",
    "model3 = load_petri_model(filename3, add_uncertainty=True)\n",
    "\n",
    "# TODO: put this into the interfaces\n",
    "start_state3 = {k[0]: v.data['initial_value'] for k, v in model3.G.variables.items()}\n",
    "\n",
    "model3"
   ]
  },
  {
   "cell_type": "code",
   "execution_count": 6,
   "metadata": {},
   "outputs": [
    {
     "data": {
      "text/plain": [
       "Ensemble of 2 models. \n",
       "\n",
       " \tWeights: tensor([0.5000, 0.5000]). \n",
       "\n",
       " \tModels: [ScaledBetaNoisePetriNetODESystem(\n",
       "\tbeta = Uniform(low: 0.00989999994635582, high: 0.01209999993443489),\n",
       "\tgamma = Uniform(low: 0.41040000319480896, high: 0.5016000270843506),\n",
       "\tdelta = Uniform(low: 0.00989999994635582, high: 0.01209999993443489),\n",
       "\talpha = Uniform(low: 0.5130000114440918, high: 0.6269999742507935),\n",
       "\tepsilon = Uniform(low: 0.15389999747276306, high: 0.18809999525547028),\n",
       "\tzeta = Uniform(low: 0.11249999701976776, high: 0.13750000298023224),\n",
       "\tXXlambdaXX = Uniform(low: 0.03060000017285347, high: 0.03739999979734421),\n",
       "\teta = Uniform(low: 0.11249999701976776, high: 0.13750000298023224),\n",
       "\trho = Uniform(low: 0.03060000017285347, high: 0.03739999979734421),\n",
       "\ttheta = Uniform(low: 0.33390000462532043, high: 0.4081000089645386),\n",
       "\tkappa = Uniform(low: 0.015300000086426735, high: 0.018699999898672104),\n",
       "\tmu = Uniform(low: 0.015300000086426735, high: 0.018699999898672104),\n",
       "\tnu = Uniform(low: 0.024299999698996544, high: 0.02969999983906746),\n",
       "\txi = Uniform(low: 0.015300000086426735, high: 0.018699999898672104),\n",
       "\ttau = Uniform(low: 0.008999999612569809, high: 0.010999999940395355),\n",
       "\tsigma = Uniform(low: 0.015300000086426735, high: 0.018699999898672104),\n",
       "\tpseudocount = 1.0\n",
       "), ScaledBetaNoisePetriNetODESystem(\n",
       "\tmira_param_0 = Uniform(low: 0.0, high: 0.10000000149011612),\n",
       "\tmira_param_1 = Uniform(low: 0.0, high: 0.10000000149011612),\n",
       "\tmira_param_2 = Uniform(low: 0.0, high: 0.10000000149011612),\n",
       "\tmira_param_3 = Uniform(low: 0.02098800055682659, high: 0.025652000680565834),\n",
       "\tmira_param_4 = Uniform(low: 0.37501201033592224, high: 0.45834800601005554),\n",
       "\tmira_param_5 = Uniform(low: 0.4526999890804291, high: 0.5533000230789185),\n",
       "\tmira_param_6 = Uniform(low: 0.23669999837875366, high: 0.28929999470710754),\n",
       "\tmira_param_7 = Uniform(low: 0.0027000000700354576, high: 0.0032999999821186066),\n",
       "\tmira_param_8 = Uniform(low: 1.4759999513626099, high: 1.8040000200271606),\n",
       "\tmira_param_9 = Uniform(low: 0.0, high: 0.10000000149011612),\n",
       "\tmira_param_10 = Uniform(low: 0.007199999876320362, high: 0.008799999952316284),\n",
       "\tmira_param_11 = Uniform(low: 0.12690000236034393, high: 0.1551000028848648),\n",
       "\tpseudocount = 1.0\n",
       ")]"
      ]
     },
     "execution_count": 6,
     "metadata": {},
     "output_type": "execute_result"
    }
   ],
   "source": [
    "# Setup the Ensemble\n",
    "\n",
    "models = [model1, model2]\n",
    "weights = [0.5, 0.5]\n",
    "start_time = 0.0\n",
    "\n",
    "start_states = [start_state1, start_state2]\n",
    "solution_mappings = [solution_mapping1, solution_mapping2]\n",
    "\n",
    "ensemble = setup_model(models, weights, solution_mappings, start_time, start_states)\n",
    "ensemble"
   ]
  },
  {
   "cell_type": "code",
   "execution_count": 7,
   "metadata": {},
   "outputs": [
    {
     "data": {
      "text/plain": [
       "{'model_0/beta': tensor([0.0117, 0.0116]),\n",
       " 'model_0/gamma': tensor([0.4262, 0.4232]),\n",
       " 'model_0/delta': tensor([0.0119, 0.0113]),\n",
       " 'model_0/alpha': tensor([0.5657, 0.5252]),\n",
       " 'model_0/epsilon': tensor([0.1697, 0.1824]),\n",
       " 'model_0/zeta': tensor([0.1203, 0.1331]),\n",
       " 'model_0/XXlambdaXX': tensor([0.0318, 0.0325]),\n",
       " 'model_0/eta': tensor([0.1182, 0.1196]),\n",
       " 'model_0/rho': tensor([0.0351, 0.0326]),\n",
       " 'model_0/theta': tensor([0.3922, 0.3962]),\n",
       " 'model_0/kappa': tensor([0.0163, 0.0165]),\n",
       " 'model_0/mu': tensor([0.0175, 0.0160]),\n",
       " 'model_0/nu': tensor([0.0247, 0.0286]),\n",
       " 'model_0/xi': tensor([0.0165, 0.0157]),\n",
       " 'model_0/tau': tensor([0.0102, 0.0095]),\n",
       " 'model_0/sigma': tensor([0.0173, 0.0184]),\n",
       " 'model_1/mira_param_0': tensor([0.0260, 0.0607]),\n",
       " 'model_1/mira_param_1': tensor([0.0729, 0.0428]),\n",
       " 'model_1/mira_param_2': tensor([0.0791, 0.0884]),\n",
       " 'model_1/mira_param_3': tensor([0.0232, 0.0225]),\n",
       " 'model_1/mira_param_4': tensor([0.3826, 0.4567]),\n",
       " 'model_1/mira_param_5': tensor([0.5137, 0.4648]),\n",
       " 'model_1/mira_param_6': tensor([0.2679, 0.2613]),\n",
       " 'model_1/mira_param_7': tensor([0.0029, 0.0033]),\n",
       " 'model_1/mira_param_8': tensor([1.7713, 1.5912]),\n",
       " 'model_1/mira_param_9': tensor([0.0606, 0.0064]),\n",
       " 'model_1/mira_param_10': tensor([0.0088, 0.0073]),\n",
       " 'model_1/mira_param_11': tensor([0.1404, 0.1505]),\n",
       " 'model_weights': tensor([[9.9988e-01, 1.2241e-04],\n",
       "         [9.9879e-01, 1.2092e-03]]),\n",
       " 'Infected_sol': tensor([[4.3585e-06, 1.4972e-05, 7.3960e-05],\n",
       "         [4.0871e-06, 1.1192e-05, 4.2396e-05]])}"
      ]
     },
     "execution_count": 7,
     "metadata": {},
     "output_type": "execute_result"
    }
   ],
   "source": [
    "# Sample from the Ensemble\n",
    "\n",
    "timepoints = [1.0, 5.0, 10.0]\n",
    "num_samples = 2\n",
    "ensemble_solution = sample(ensemble, timepoints, num_samples)\n",
    "ensemble_solution\n"
   ]
  },
  {
   "cell_type": "code",
   "execution_count": 8,
   "metadata": {},
   "outputs": [
    {
     "name": "stdout",
     "output_type": "stream",
     "text": [
      "iteration 0: loss = 87.72814571857452\n"
     ]
    }
   ],
   "source": [
    "data = [(1.1, {\"Infected\": 0.003}), (1.2, {\"Infected\": 0.005})]\n",
    "\n",
    "# TODO: increase the number of iterations\n",
    "inferred_parameters = calibrate(ensemble, data, num_iterations=100, verbose=True)"
   ]
  },
  {
   "cell_type": "code",
   "execution_count": null,
   "metadata": {},
   "outputs": [
    {
     "data": {
      "text/plain": [
       "{'model_0/beta': tensor([0.0104, 0.0115]),\n",
       " 'model_0/gamma': tensor([0.4795, 0.4929]),\n",
       " 'model_0/delta': tensor([0.0109, 0.0116]),\n",
       " 'model_0/alpha': tensor([0.5467, 0.6214]),\n",
       " 'model_0/epsilon': tensor([0.1701, 0.1735]),\n",
       " 'model_0/zeta': tensor([0.1325, 0.1242]),\n",
       " 'model_0/XXlambdaXX': tensor([0.0340, 0.0315]),\n",
       " 'model_0/eta': tensor([0.1267, 0.1131]),\n",
       " 'model_0/rho': tensor([0.0324, 0.0321]),\n",
       " 'model_0/theta': tensor([0.3431, 0.3572]),\n",
       " 'model_0/kappa': tensor([0.0167, 0.0171]),\n",
       " 'model_0/mu': tensor([0.0174, 0.0166]),\n",
       " 'model_0/nu': tensor([0.0277, 0.0258]),\n",
       " 'model_0/xi': tensor([0.0181, 0.0181]),\n",
       " 'model_0/tau': tensor([0.0107, 0.0094]),\n",
       " 'model_0/sigma': tensor([0.0160, 0.0174]),\n",
       " 'model_1/mira_param_0': tensor([0.0270, 0.0085]),\n",
       " 'model_1/mira_param_1': tensor([0.0350, 0.0062]),\n",
       " 'model_1/mira_param_2': tensor([0.0351, 0.0659]),\n",
       " 'model_1/mira_param_3': tensor([0.0243, 0.0251]),\n",
       " 'model_1/mira_param_4': tensor([0.3824, 0.3990]),\n",
       " 'model_1/mira_param_5': tensor([0.5456, 0.5423]),\n",
       " 'model_1/mira_param_6': tensor([0.2592, 0.2733]),\n",
       " 'model_1/mira_param_7': tensor([0.0030, 0.0029]),\n",
       " 'model_1/mira_param_8': tensor([1.6838, 1.6359]),\n",
       " 'model_1/mira_param_9': tensor([0.0092, 0.0915]),\n",
       " 'model_1/mira_param_10': tensor([0.0086, 0.0080]),\n",
       " 'model_1/mira_param_11': tensor([0.1376, 0.1446]),\n",
       " 'model_weights': tensor([[0.3797, 0.6203],\n",
       "         [0.9800, 0.0200]]),\n",
       " 'Infected_sol': tensor([[3.9116e-06, 5.9758e-06, 2.4479e-05],\n",
       "         [4.5750e-06, 1.9503e-05, 1.2864e-04]])}"
      ]
     },
     "execution_count": 12,
     "metadata": {},
     "output_type": "execute_result"
    }
   ],
   "source": [
    "posterior_predictive = sample(ensemble, timepoints, num_samples, inferred_parameters)\n",
    "posterior_predictive"
   ]
  },
  {
   "attachments": {},
   "cell_type": "markdown",
   "metadata": {},
   "source": [
    "## MIRA Explorations below"
   ]
  },
  {
   "cell_type": "code",
   "execution_count": null,
   "metadata": {},
   "outputs": [],
   "source": [
    "import json\n",
    "import mira\n",
    "\n",
    "filename1 = \"BIOMD0000000955_template_model.json\"\n",
    "filename1 = os.path.join(MIRA_PATH, filename1)\n",
    "\n",
    "with open(filename1, \"r\") as f:\n",
    "    model_json1 = json.load(f)\n",
    "\n",
    "template1 = mira.metamodel.TemplateModel.from_json(model_json1)\n",
    "model1 = mira.modeling.Model(template1)\n",
    "\n",
    "filename3 = \"BIOMD0000000983_template_model.json\"\n",
    "filename3 = os.path.join(MIRA_PATH, filename3)\n",
    "\n",
    "with open(filename3, \"r\") as f:\n",
    "    model_json3 = json.load(f)\n",
    "\n",
    "template3 = mira.metamodel.TemplateModel.from_json(model_json3)\n",
    "model3 = mira.modeling.Model(template3)\n",
    "# G = pyciemss.PetriNetODE.base.PetriNet.from_mira(filename3)\n",
    "\n",
    "# model3 = MiraPetriNetODESystem.from_mira(filename3)\n",
    "# model3 = ScaledBetaNoisePetriNetODESystem.from_mira(filename3)\n",
    "# model3"
   ]
  },
  {
   "cell_type": "code",
   "execution_count": null,
   "metadata": {},
   "outputs": [],
   "source": [
    "from mira.metamodel.ops import simplify_rate_laws, aggregate_parameters"
   ]
  },
  {
   "cell_type": "code",
   "execution_count": 8,
   "metadata": {},
   "outputs": [
    {
     "data": {
      "text/plain": [
       "{'alpha': Parameter(name='alpha', identifiers={}, context={}, value=0.57, distribution=Distribution(type='StandardUniform1', parameters={'minimum': 0.45599999999999996, 'maximum': 0.6839999999999999})),\n",
       " 'beta': Parameter(name='beta', identifiers={}, context={}, value=0.011, distribution=Distribution(type='StandardUniform1', parameters={'minimum': 0.008799999999999999, 'maximum': 0.0132})),\n",
       " 'gamma': Parameter(name='gamma', identifiers={}, context={}, value=0.456, distribution=Distribution(type='StandardUniform1', parameters={'minimum': 0.3648, 'maximum': 0.5472})),\n",
       " 'delta': Parameter(name='delta', identifiers={}, context={}, value=0.011, distribution=Distribution(type='StandardUniform1', parameters={'minimum': 0.008799999999999999, 'maximum': 0.0132})),\n",
       " 'epsilon': Parameter(name='epsilon', identifiers={}, context={}, value=0.171, distribution=Distribution(type='StandardUniform1', parameters={'minimum': 0.1368, 'maximum': 0.20520000000000002})),\n",
       " 'theta': Parameter(name='theta', identifiers={}, context={}, value=0.371, distribution=Distribution(type='StandardUniform1', parameters={'minimum': 0.2968, 'maximum': 0.4452})),\n",
       " 'zeta': Parameter(name='zeta', identifiers={}, context={}, value=0.125, distribution=Distribution(type='StandardUniform1', parameters={'minimum': 0.1, 'maximum': 0.15})),\n",
       " 'eta': Parameter(name='eta', identifiers={}, context={}, value=0.125, distribution=Distribution(type='StandardUniform1', parameters={'minimum': 0.1, 'maximum': 0.15})),\n",
       " 'mu': Parameter(name='mu', identifiers={}, context={}, value=0.017, distribution=Distribution(type='StandardUniform1', parameters={'minimum': 0.013600000000000001, 'maximum': 0.0204})),\n",
       " 'nu': Parameter(name='nu', identifiers={}, context={}, value=0.027, distribution=Distribution(type='StandardUniform1', parameters={'minimum': 0.0216, 'maximum': 0.0324})),\n",
       " 'tau': Parameter(name='tau', identifiers={}, context={}, value=0.01, distribution=Distribution(type='StandardUniform1', parameters={'minimum': 0.008, 'maximum': 0.012})),\n",
       " 'kappa': Parameter(name='kappa', identifiers={}, context={}, value=0.017, distribution=Distribution(type='StandardUniform1', parameters={'minimum': 0.013600000000000001, 'maximum': 0.0204})),\n",
       " 'rho': Parameter(name='rho', identifiers={}, context={}, value=0.034, distribution=Distribution(type='StandardUniform1', parameters={'minimum': 0.027200000000000002, 'maximum': 0.0408})),\n",
       " 'sigma': Parameter(name='sigma', identifiers={}, context={}, value=0.017, distribution=Distribution(type='StandardUniform1', parameters={'minimum': 0.013600000000000001, 'maximum': 0.0204})),\n",
       " 'xi': Parameter(name='xi', identifiers={}, context={}, value=0.017, distribution=Distribution(type='StandardUniform1', parameters={'minimum': 0.013600000000000001, 'maximum': 0.0204})),\n",
       " 'epsilon_modifier': Parameter(name='epsilon_modifier', identifiers={}, context={}, value=1.0, distribution=Distribution(type='StandardUniform1', parameters={'minimum': 0.8, 'maximum': 1.2})),\n",
       " 'alpha_modifier': Parameter(name='alpha_modifier', identifiers={}, context={}, value=1.0, distribution=Distribution(type='StandardUniform1', parameters={'minimum': 0.8, 'maximum': 1.2})),\n",
       " 'XXlambdaXX': Parameter(name='XXlambdaXX', identifiers={}, context={}, value=0.034, distribution=Distribution(type='StandardUniform1', parameters={'minimum': 0.027200000000000002, 'maximum': 0.0408}))}"
      ]
     },
     "execution_count": 8,
     "metadata": {},
     "output_type": "execute_result"
    }
   ],
   "source": [
    "template1.parameters"
   ]
  },
  {
   "cell_type": "code",
   "execution_count": 16,
   "metadata": {},
   "outputs": [
    {
     "data": {
      "text/plain": [
       "{'alpha': Parameter(name='alpha', identifiers={}, context={}, value=0.57, distribution=Distribution(type='StandardUniform1', parameters={'minimum': 0.45599999999999996, 'maximum': 0.6839999999999999})),\n",
       " 'beta': Parameter(name='beta', identifiers={}, context={}, value=0.011, distribution=Distribution(type='StandardUniform1', parameters={'minimum': 0.008799999999999999, 'maximum': 0.0132})),\n",
       " 'gamma': Parameter(name='gamma', identifiers={}, context={}, value=0.456, distribution=Distribution(type='StandardUniform1', parameters={'minimum': 0.3648, 'maximum': 0.5472})),\n",
       " 'delta': Parameter(name='delta', identifiers={}, context={}, value=0.011, distribution=Distribution(type='StandardUniform1', parameters={'minimum': 0.008799999999999999, 'maximum': 0.0132})),\n",
       " 'epsilon': Parameter(name='epsilon', identifiers={}, context={}, value=0.171, distribution=Distribution(type='StandardUniform1', parameters={'minimum': 0.1368, 'maximum': 0.20520000000000002})),\n",
       " 'theta': Parameter(name='theta', identifiers={}, context={}, value=0.371, distribution=Distribution(type='StandardUniform1', parameters={'minimum': 0.2968, 'maximum': 0.4452})),\n",
       " 'zeta': Parameter(name='zeta', identifiers={}, context={}, value=0.125, distribution=Distribution(type='StandardUniform1', parameters={'minimum': 0.1, 'maximum': 0.15})),\n",
       " 'eta': Parameter(name='eta', identifiers={}, context={}, value=0.125, distribution=Distribution(type='StandardUniform1', parameters={'minimum': 0.1, 'maximum': 0.15})),\n",
       " 'mu': Parameter(name='mu', identifiers={}, context={}, value=0.017, distribution=Distribution(type='StandardUniform1', parameters={'minimum': 0.013600000000000001, 'maximum': 0.0204})),\n",
       " 'nu': Parameter(name='nu', identifiers={}, context={}, value=0.027, distribution=Distribution(type='StandardUniform1', parameters={'minimum': 0.0216, 'maximum': 0.0324})),\n",
       " 'tau': Parameter(name='tau', identifiers={}, context={}, value=0.01, distribution=Distribution(type='StandardUniform1', parameters={'minimum': 0.008, 'maximum': 0.012})),\n",
       " 'kappa': Parameter(name='kappa', identifiers={}, context={}, value=0.017, distribution=Distribution(type='StandardUniform1', parameters={'minimum': 0.013600000000000001, 'maximum': 0.0204})),\n",
       " 'rho': Parameter(name='rho', identifiers={}, context={}, value=0.034, distribution=Distribution(type='StandardUniform1', parameters={'minimum': 0.027200000000000002, 'maximum': 0.0408})),\n",
       " 'sigma': Parameter(name='sigma', identifiers={}, context={}, value=0.017, distribution=Distribution(type='StandardUniform1', parameters={'minimum': 0.013600000000000001, 'maximum': 0.0204})),\n",
       " 'xi': Parameter(name='xi', identifiers={}, context={}, value=0.017, distribution=Distribution(type='StandardUniform1', parameters={'minimum': 0.013600000000000001, 'maximum': 0.0204})),\n",
       " 'epsilon_modifier': Parameter(name='epsilon_modifier', identifiers={}, context={}, value=1.0, distribution=Distribution(type='StandardUniform1', parameters={'minimum': 0.8, 'maximum': 1.2})),\n",
       " 'alpha_modifier': Parameter(name='alpha_modifier', identifiers={}, context={}, value=1.0, distribution=Distribution(type='StandardUniform1', parameters={'minimum': 0.8, 'maximum': 1.2})),\n",
       " 'XXlambdaXX': Parameter(name='XXlambdaXX', identifiers={}, context={}, value=0.034, distribution=Distribution(type='StandardUniform1', parameters={'minimum': 0.027200000000000002, 'maximum': 0.0408})),\n",
       " 'mira_param_0': Parameter(name='mira_param_0', identifiers={}, context={}, value=0.011, distribution=None),\n",
       " 'mira_param_1': Parameter(name='mira_param_1', identifiers={}, context={}, value=0.456, distribution=None),\n",
       " 'mira_param_2': Parameter(name='mira_param_2', identifiers={}, context={}, value=0.011, distribution=None),\n",
       " 'mira_param_3': Parameter(name='mira_param_3', identifiers={}, context={}, value=0.57, distribution=None),\n",
       " 'mira_param_4': Parameter(name='mira_param_4', identifiers={}, context={}, value=0.171, distribution=None),\n",
       " 'mira_param_5': Parameter(name='mira_param_5', identifiers={}, context={}, value=0.125, distribution=None),\n",
       " 'mira_param_6': Parameter(name='mira_param_6', identifiers={}, context={}, value=0.034, distribution=None),\n",
       " 'mira_param_7': Parameter(name='mira_param_7', identifiers={}, context={}, value=0.125, distribution=None),\n",
       " 'mira_param_8': Parameter(name='mira_param_8', identifiers={}, context={}, value=0.034, distribution=None),\n",
       " 'mira_param_9': Parameter(name='mira_param_9', identifiers={}, context={}, value=0.371, distribution=None),\n",
       " 'mira_param_10': Parameter(name='mira_param_10', identifiers={}, context={}, value=0.017, distribution=None),\n",
       " 'mira_param_11': Parameter(name='mira_param_11', identifiers={}, context={}, value=0.017, distribution=None),\n",
       " 'mira_param_12': Parameter(name='mira_param_12', identifiers={}, context={}, value=0.027, distribution=None),\n",
       " 'mira_param_13': Parameter(name='mira_param_13', identifiers={}, context={}, value=0.017, distribution=None),\n",
       " 'mira_param_14': Parameter(name='mira_param_14', identifiers={}, context={}, value=0.01, distribution=None),\n",
       " 'mira_param_15': Parameter(name='mira_param_15', identifiers={}, context={}, value=0.017, distribution=None)}"
      ]
     },
     "execution_count": 16,
     "metadata": {},
     "output_type": "execute_result"
    }
   ],
   "source": [
    "new_template = simplify_rate_laws(aggregate_parameters(template1))\n",
    "# new_template = simplify_rate_laws(template1)\n",
    "new_template.parameters\n",
    "\n"
   ]
  },
  {
   "cell_type": "code",
   "execution_count": 12,
   "metadata": {},
   "outputs": [
    {
     "data": {
      "text/plain": [
       "{'f': Parameter(name='f', identifiers={}, context={}, value=0.2, distribution=Distribution(type='StandardUniform1', parameters={'minimum': 0.16, 'maximum': 0.24000000000000002})),\n",
       " 'n': Parameter(name='n', identifiers={}, context={}, value=0.5, distribution=Distribution(type='StandardUniform1', parameters={'minimum': 0.4, 'maximum': 0.6})),\n",
       " 'q': Parameter(name='q', identifiers={}, context={}, value=0.83, distribution=Distribution(type='StandardUniform1', parameters={'minimum': 0.6639999999999999, 'maximum': 0.996})),\n",
       " 'sigma': Parameter(name='sigma', identifiers={}, context={}, value=0.2, distribution=Distribution(type='StandardUniform1', parameters={'minimum': 0.16, 'maximum': 0.24000000000000002})),\n",
       " 'beta': Parameter(name='beta', identifiers={}, context={}, value=2.115e-08, distribution=Distribution(type='StandardUniform1', parameters={'minimum': 1.6920000000000002e-08, 'maximum': 2.538e-08})),\n",
       " 'mu': Parameter(name='mu', identifiers={}, context={}, value=0.2, distribution=Distribution(type='StandardUniform1', parameters={'minimum': 0.16, 'maximum': 0.24000000000000002})),\n",
       " 'eta_r': Parameter(name='eta_r', identifiers={}, context={}, value=0.1, distribution=Distribution(type='StandardUniform1', parameters={'minimum': 0.08, 'maximum': 0.12000000000000001})),\n",
       " 'eta_u': Parameter(name='eta_u', identifiers={}, context={}, value=0.25, distribution=Distribution(type='StandardUniform1', parameters={'minimum': 0.2, 'maximum': 0.3})),\n",
       " 'theta': Parameter(name='theta', identifiers={}, context={}, value=0.07142857, distribution=Distribution(type='StandardUniform1', parameters={'minimum': 0.057142856, 'maximum': 0.085714284})),\n",
       " '_1': Parameter(name='_1', identifiers={}, context={}, value=1.0, distribution=Distribution(type='StandardUniform1', parameters={'minimum': 0.8, 'maximum': 1.2})),\n",
       " 'XXlambdaXX': Parameter(name='XXlambdaXX', identifiers={}, context={}, value=0.3, distribution=Distribution(type='StandardUniform1', parameters={'minimum': 0.24, 'maximum': 0.36})),\n",
       " 'h': Parameter(name='h', identifiers={}, context={}, value=0.05, distribution=Distribution(type='StandardUniform1', parameters={'minimum': 0.04, 'maximum': 0.060000000000000005}))}"
      ]
     },
     "execution_count": 12,
     "metadata": {},
     "output_type": "execute_result"
    }
   ],
   "source": [
    "\n",
    "template3.parameters"
   ]
  },
  {
   "cell_type": "code",
   "execution_count": 22,
   "metadata": {},
   "outputs": [
    {
     "data": {
      "text/plain": [
       "{'mira_param_0': <mira.modeling.ModelParameter at 0x7fee91669960>,\n",
       " 'mira_param_1': <mira.modeling.ModelParameter at 0x7fee91669de0>,\n",
       " 'mira_param_2': <mira.modeling.ModelParameter at 0x7fee91669d50>,\n",
       " 'mira_param_3': <mira.modeling.ModelParameter at 0x7fee916694b0>,\n",
       " 'mira_param_4': <mira.modeling.ModelParameter at 0x7fee91669450>,\n",
       " 'mira_param_5': <mira.modeling.ModelParameter at 0x7fee91669360>,\n",
       " 'mira_param_6': <mira.modeling.ModelParameter at 0x7fee91669330>,\n",
       " 'mira_param_7': <mira.modeling.ModelParameter at 0x7fee91669240>,\n",
       " 'mira_param_8': <mira.modeling.ModelParameter at 0x7fee91669210>,\n",
       " 'XXlambdaXX': <mira.modeling.ModelParameter at 0x7fee91669f30>,\n",
       " 'theta': <mira.modeling.ModelParameter at 0x7fee91669150>,\n",
       " (('Quarantined', ('identity', 'ido:0000514'), ('quarantined', 'ncit:C71902')),\n",
       "  ('Susceptible_unconfined',\n",
       "   ('identity', 'ido:0000514'),\n",
       "   ('quarantined', 'ncit:C68851')),\n",
       "  'NaturalConversion',\n",
       "  'rate'): <mira.modeling.ModelParameter at 0x7fee916690f0>,\n",
       " 'mira_param_9': <mira.modeling.ModelParameter at 0x7fee91669090>}"
      ]
     },
     "execution_count": 22,
     "metadata": {},
     "output_type": "execute_result"
    }
   ],
   "source": [
    "from mira.metamodel.ops import aggregate_parameters\n",
    "\n",
    "filename3 = \"BIOMD0000000983_template_model.json\"\n",
    "filename3 = os.path.join(MIRA_PATH, filename3)\n",
    "\n",
    "with open(filename3, \"r\") as f:\n",
    "    model_json3 = json.load(f)\n",
    "\n",
    "template3 = mira.metamodel.TemplateModel.from_json(model_json3)\n",
    "model3 = mira.modeling.Model(template3)\n",
    "\n",
    "new_template = aggregate_parameters(template3)\n",
    "new_model = mira.modeling.Model(new_template)\n",
    "new_model.parameters"
   ]
  },
  {
   "cell_type": "code",
   "execution_count": 26,
   "metadata": {},
   "outputs": [
    {
     "data": {
      "text/plain": [
       "{'beta': <mira.modeling.ModelParameter at 0x7fcb7c5388e0>,\n",
       " 'gamma': <mira.modeling.ModelParameter at 0x7fcb7c53bc10>,\n",
       " 'delta': <mira.modeling.ModelParameter at 0x7fcb7c53a050>,\n",
       " 'alpha': <mira.modeling.ModelParameter at 0x7fcb7c5e9570>,\n",
       " 'epsilon': <mira.modeling.ModelParameter at 0x7fcb7c5eb430>,\n",
       " 'zeta': <mira.modeling.ModelParameter at 0x7fcb7c5eac80>,\n",
       " 'XXlambdaXX': <mira.modeling.ModelParameter at 0x7fcb7c5eabc0>,\n",
       " 'eta': <mira.modeling.ModelParameter at 0x7fcb7c5eab00>,\n",
       " 'rho': <mira.modeling.ModelParameter at 0x7fcb7c5eaa70>,\n",
       " 'theta': <mira.modeling.ModelParameter at 0x7fcb7c5ea9e0>,\n",
       " 'kappa': <mira.modeling.ModelParameter at 0x7fcb7c5ea950>,\n",
       " 'mu': <mira.modeling.ModelParameter at 0x7fcb7c5ea890>,\n",
       " 'nu': <mira.modeling.ModelParameter at 0x7fcb7c5ea7d0>,\n",
       " 'xi': <mira.modeling.ModelParameter at 0x7fcb7c5ea740>,\n",
       " 'tau': <mira.modeling.ModelParameter at 0x7fcb7c5ea680>,\n",
       " 'sigma': <mira.modeling.ModelParameter at 0x7fcb7c5ea5c0>}"
      ]
     },
     "execution_count": 26,
     "metadata": {},
     "output_type": "execute_result"
    }
   ],
   "source": [
    "model1.parameters"
   ]
  },
  {
   "cell_type": "code",
   "execution_count": 44,
   "metadata": {},
   "outputs": [
    {
     "data": {
      "text/plain": [
       "{(('Susceptible_unconfined',\n",
       "   ('identity', 'ido:0000514'),\n",
       "   ('quarantined', 'ncit:C68851')),\n",
       "  ('Exposed', ('identity', 'apollosv:00000154')),\n",
       "  ('Infected_reported',\n",
       "   ('identity', 'ido:0000511'),\n",
       "   ('diagnosis', 'ncit:C15220')),\n",
       "  'ControlledConversion'): <mira.modeling.Transition at 0x7fcb7c5e8d00>,\n",
       " (('Susceptible_unconfined',\n",
       "   ('identity', 'ido:0000514'),\n",
       "   ('quarantined', 'ncit:C68851')),\n",
       "  ('Exposed', ('identity', 'apollosv:00000154')),\n",
       "  ('Infected_unreported',\n",
       "   ('identity', 'ido:0000511'),\n",
       "   ('diagnosed', 'ncit:C113725')),\n",
       "  'ControlledConversion'): <mira.modeling.Transition at 0x7fcb7c5e8c10>,\n",
       " (('Susceptible_unconfined',\n",
       "   ('identity', 'ido:0000514'),\n",
       "   ('quarantined', 'ncit:C68851')),\n",
       "  ('Quarantined', ('identity', 'ido:0000514'), ('quarantined', 'ncit:C71902')),\n",
       "  ('Infected_reported',\n",
       "   ('identity', 'ido:0000511'),\n",
       "   ('diagnosis', 'ncit:C15220')),\n",
       "  'ControlledConversion'): <mira.modeling.Transition at 0x7fcb7c5e8b20>,\n",
       " (('Susceptible_unconfined',\n",
       "   ('identity', 'ido:0000514'),\n",
       "   ('quarantined', 'ncit:C68851')),\n",
       "  ('Quarantined', ('identity', 'ido:0000514'), ('quarantined', 'ncit:C71902')),\n",
       "  ('Infected_unreported',\n",
       "   ('identity', 'ido:0000511'),\n",
       "   ('diagnosed', 'ncit:C113725')),\n",
       "  'ControlledConversion'): <mira.modeling.Transition at 0x7fcb7c5e8a90>,\n",
       " (('Quarantined', ('identity', 'ido:0000514'), ('quarantined', 'ncit:C71902')),\n",
       "  ('Infected_reported',\n",
       "   ('identity', 'ido:0000511'),\n",
       "   ('diagnosis', 'ncit:C15220')),\n",
       "  'NaturalConversion'): <mira.modeling.Transition at 0x7fcb7c5e87f0>,\n",
       " (('Exposed', ('identity', 'apollosv:00000154')),\n",
       "  ('Infected_reported',\n",
       "   ('identity', 'ido:0000511'),\n",
       "   ('diagnosis', 'ncit:C15220')),\n",
       "  'NaturalConversion'): <mira.modeling.Transition at 0x7fcb7c5e82b0>,\n",
       " (('Exposed', ('identity', 'apollosv:00000154')),\n",
       "  ('Infected_unreported',\n",
       "   ('identity', 'ido:0000511'),\n",
       "   ('diagnosed', 'ncit:C113725')),\n",
       "  'NaturalConversion'): <mira.modeling.Transition at 0x7fcb7c5e8370>,\n",
       " (('Infected_reported',\n",
       "   ('identity', 'ido:0000511'),\n",
       "   ('diagnosis', 'ncit:C15220')),\n",
       "  ('Recovered', ('identity', 'ido:0000592')),\n",
       "  'NaturalConversion'): <mira.modeling.Transition at 0x7fcb7c5e8550>,\n",
       " (('Infected_unreported',\n",
       "   ('identity', 'ido:0000511'),\n",
       "   ('diagnosed', 'ncit:C113725')),\n",
       "  ('Recovered', ('identity', 'ido:0000592')),\n",
       "  'NaturalConversion'): <mira.modeling.Transition at 0x7fcb7c5e8460>,\n",
       " (('Quarantined', ('identity', 'ido:0000514'), ('quarantined', 'ncit:C71902')),\n",
       "  ('Susceptible_unconfined',\n",
       "   ('identity', 'ido:0000514'),\n",
       "   ('quarantined', 'ncit:C68851')),\n",
       "  'NaturalConversion'): <mira.modeling.Transition at 0x7fcb7c5e8760>,\n",
       " (('Infected_reported',\n",
       "   ('identity', 'ido:0000511'),\n",
       "   ('diagnosis', 'ncit:C15220')),\n",
       "  ('Deceased', ('identity', 'ncit:C28554')),\n",
       "  'NaturalConversion'): <mira.modeling.Transition at 0x7fcb7c5ea170>}"
      ]
     },
     "execution_count": 44,
     "metadata": {},
     "output_type": "execute_result"
    }
   ],
   "source": [
    "model3.transitions"
   ]
  },
  {
   "cell_type": "code",
   "execution_count": 42,
   "metadata": {},
   "outputs": [
    {
     "data": {
      "text/plain": [
       "<function mira.modeling.ode.OdeModel.get_rhs.<locals>.rhs(t, y)>"
      ]
     },
     "execution_count": 42,
     "metadata": {},
     "output_type": "execute_result"
    }
   ],
   "source": [
    "from mira.modeling.ode import OdeModel\n",
    "\n",
    "ode1 = OdeModel(model1)\n",
    "\n",
    "ode1.set_parameters({'beta': 0.5})\n",
    "\n",
    "ode1.kinetics\n",
    "ode1.get_rhs()"
   ]
  },
  {
   "cell_type": "code",
   "execution_count": 35,
   "metadata": {},
   "outputs": [
    {
     "data": {
      "text/plain": [
       "ControlledConversion(rate_law=Infected_reported*Susceptible_unconfined*beta*n*(1.0 - sigma), type='ControlledConversion', controller=Concept(name='Infected_reported', identifiers={'ido': '0000511'}, context={'diagnosis': 'ncit:C15220'}), subject=Concept(name='Susceptible_unconfined', identifiers={'ido': '0000514'}, context={'quarantined': 'ncit:C68851'}), outcome=Concept(name='Exposed', identifiers={'apollosv': '00000154'}, context={}), provenance=[])"
      ]
     },
     "execution_count": 35,
     "metadata": {},
     "output_type": "execute_result"
    }
   ],
   "source": [
    "\n",
    "\n",
    "list(model3.transitions.values())[0].template"
   ]
  },
  {
   "cell_type": "code",
   "execution_count": 13,
   "metadata": {},
   "outputs": [],
   "source": [
    "import json\n",
    "import mira\n",
    "\n",
    "filename3 = \"BIOMD0000000983_template_model.json\"\n",
    "filename3 = os.path.join(MIRA_PATH, filename3)\n",
    "\n",
    "with open(filename3, \"r\") as f:\n",
    "    model_json3 = json.load(f)\n",
    "\n",
    "example_template = mira.metamodel.TemplateModel.from_json(model_json3)\n",
    "\n",
    "example_model = mira.modeling.Model(example_template)"
   ]
  },
  {
   "cell_type": "code",
   "execution_count": 14,
   "metadata": {},
   "outputs": [
    {
     "name": "stdout",
     "output_type": "stream",
     "text": [
      "f 0.2\n",
      "n 0.5\n",
      "q 0.83\n",
      "sigma 0.2\n",
      "beta 2.115e-08\n",
      "mu 0.2\n",
      "eta_r 0.1\n",
      "eta_u 0.25\n",
      "theta 0.07142857\n",
      "_1 1.0\n",
      "XXlambdaXX 0.3\n",
      "h 0.05\n"
     ]
    }
   ],
   "source": [
    "for p, v in example_template.parameters.items():\n",
    "    print(p, v.value)\n",
    "    "
   ]
  },
  {
   "cell_type": "code",
   "execution_count": null,
   "metadata": {},
   "outputs": [],
   "source": [
    "for p, v in example_template.parameters.items():\n",
    "    print(p, v.value)"
   ]
  }
 ],
 "metadata": {
  "kernelspec": {
   "display_name": "askem-test",
   "language": "python",
   "name": "python3"
  },
  "language_info": {
   "codemirror_mode": {
    "name": "ipython",
    "version": 3
   },
   "file_extension": ".py",
   "mimetype": "text/x-python",
   "name": "python",
   "nbconvert_exporter": "python",
   "pygments_lexer": "ipython3",
   "version": "3.10.0"
  },
  "orig_nbformat": 4
 },
 "nbformat": 4,
 "nbformat_minor": 2
}
