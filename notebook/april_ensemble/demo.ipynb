{
 "cells": [
  {
   "attachments": {},
   "cell_type": "markdown",
   "metadata": {},
   "source": [
    "## Load Dependencies"
   ]
  },
  {
   "cell_type": "code",
   "execution_count": 1,
   "metadata": {},
   "outputs": [],
   "source": [
    "import os\n",
    "import copy\n",
    "\n",
    "from pyciemss.PetriNetODE.base import MiraPetriNetODESystem, ScaledBetaNoisePetriNetODESystem\n",
    "from pyciemss.PetriNetODE.events import Event, StartEvent, LoggingEvent, ObservationEvent, StaticParameterInterventionEvent\n",
    "from pyciemss.Ensemble.base import EnsembleSystem\n",
    "import pyciemss\n",
    "\n",
    "from pyciemss.PetriNetODE.interfaces import load_petri_model\n",
    "from pyciemss.Ensemble.interfaces import setup_model, reset_model, intervene, sample, calibrate, optimize"
   ]
  },
  {
   "cell_type": "code",
   "execution_count": 2,
   "metadata": {},
   "outputs": [
    {
     "data": {
      "text/plain": [
       "ScaledBetaNoisePetriNetODESystem(\n",
       "\tbeta = Uniform(low: 0.00989999994635582, high: 0.01209999993443489),\n",
       "\tgamma = Uniform(low: 0.41040000319480896, high: 0.5016000270843506),\n",
       "\tdelta = Uniform(low: 0.00989999994635582, high: 0.01209999993443489),\n",
       "\talpha = Uniform(low: 0.5130000114440918, high: 0.6269999742507935),\n",
       "\tepsilon = Uniform(low: 0.15389999747276306, high: 0.18809999525547028),\n",
       "\tzeta = Uniform(low: 0.11249999701976776, high: 0.13750000298023224),\n",
       "\tXXlambdaXX = Uniform(low: 0.03060000017285347, high: 0.03739999979734421),\n",
       "\teta = Uniform(low: 0.11249999701976776, high: 0.13750000298023224),\n",
       "\trho = Uniform(low: 0.03060000017285347, high: 0.03739999979734421),\n",
       "\ttheta = Uniform(low: 0.33390000462532043, high: 0.4081000089645386),\n",
       "\tkappa = Uniform(low: 0.015300000086426735, high: 0.018699999898672104),\n",
       "\tmu = Uniform(low: 0.015300000086426735, high: 0.018699999898672104),\n",
       "\tnu = Uniform(low: 0.024299999698996544, high: 0.02969999983906746),\n",
       "\txi = Uniform(low: 0.015300000086426735, high: 0.018699999898672104),\n",
       "\ttau = Uniform(low: 0.008999999612569809, high: 0.010999999940395355),\n",
       "\tsigma = Uniform(low: 0.015300000086426735, high: 0.018699999898672104),\n",
       "\tpseudocount = 1.0\n",
       ")"
      ]
     },
     "execution_count": 2,
     "metadata": {},
     "output_type": "execute_result"
    }
   ],
   "source": [
    "MIRA_PATH = \"test/models/april_ensemble_demo/\"\n",
    "\n",
    "filename1 = \"BIOMD0000000955_template_model.json\"\n",
    "filename1 = os.path.join(MIRA_PATH, filename1)\n",
    "model1 = load_petri_model(filename1, add_uncertainty=True)\n",
    "\n",
    "\n",
    "# TODO: put this into the interfaces\n",
    "start_state1 = {k[0]: v.data['initial_value'] for k, v in model1.G.variables.items()}\n",
    "\n",
    "model1"
   ]
  },
  {
   "cell_type": "code",
   "execution_count": 3,
   "metadata": {},
   "outputs": [
    {
     "name": "stderr",
     "output_type": "stream",
     "text": [
      "/Users/sam-basis/Desktop/Research/pyciemss/src/pyciemss/PetriNetODE/base.py:414: UserWarning: Parameter ModelValue_5 has value 0.0 <= 0.0 and will be set to Uniform(0, 0.1)\n",
      "  warnings.warn(f\"Parameter {get_name(param_info)} has value {param_value} <= 0.0 and will be set to Uniform(0, 0.1)\")\n",
      "/Users/sam-basis/Desktop/Research/pyciemss/src/pyciemss/PetriNetODE/base.py:414: UserWarning: Parameter ModelValue_18 has value 0.0 <= 0.0 and will be set to Uniform(0, 0.1)\n",
      "  warnings.warn(f\"Parameter {get_name(param_info)} has value {param_value} <= 0.0 and will be set to Uniform(0, 0.1)\")\n",
      "/Users/sam-basis/Desktop/Research/pyciemss/src/pyciemss/PetriNetODE/base.py:414: UserWarning: Parameter mira_param_0 has value 0.0 <= 0.0 and will be set to Uniform(0, 0.1)\n",
      "  warnings.warn(f\"Parameter {get_name(param_info)} has value {param_value} <= 0.0 and will be set to Uniform(0, 0.1)\")\n",
      "/Users/sam-basis/Desktop/Research/pyciemss/src/pyciemss/PetriNetODE/base.py:414: UserWarning: Parameter mira_param_1 has value 0.0 <= 0.0 and will be set to Uniform(0, 0.1)\n",
      "  warnings.warn(f\"Parameter {get_name(param_info)} has value {param_value} <= 0.0 and will be set to Uniform(0, 0.1)\")\n",
      "/Users/sam-basis/Desktop/Research/pyciemss/src/pyciemss/PetriNetODE/base.py:414: UserWarning: Parameter mira_param_2 has value 0.0 <= 0.0 and will be set to Uniform(0, 0.1)\n",
      "  warnings.warn(f\"Parameter {get_name(param_info)} has value {param_value} <= 0.0 and will be set to Uniform(0, 0.1)\")\n",
      "/Users/sam-basis/Desktop/Research/pyciemss/src/pyciemss/PetriNetODE/base.py:414: UserWarning: Parameter mira_param_9 has value 0.0 <= 0.0 and will be set to Uniform(0, 0.1)\n",
      "  warnings.warn(f\"Parameter {get_name(param_info)} has value {param_value} <= 0.0 and will be set to Uniform(0, 0.1)\")\n"
     ]
    },
    {
     "data": {
      "text/plain": [
       "ScaledBetaNoisePetriNetODESystem(\n",
       "\tmira_param_0 = Uniform(low: 0.0, high: 0.10000000149011612),\n",
       "\tmira_param_1 = Uniform(low: 0.0, high: 0.10000000149011612),\n",
       "\tmira_param_2 = Uniform(low: 0.0, high: 0.10000000149011612),\n",
       "\tmira_param_3 = Uniform(low: 0.02098800055682659, high: 0.025652000680565834),\n",
       "\tmira_param_4 = Uniform(low: 0.37501201033592224, high: 0.45834800601005554),\n",
       "\tmira_param_5 = Uniform(low: 0.4526999890804291, high: 0.5533000230789185),\n",
       "\tmira_param_6 = Uniform(low: 0.23669999837875366, high: 0.28929999470710754),\n",
       "\tmira_param_7 = Uniform(low: 0.0027000000700354576, high: 0.0032999999821186066),\n",
       "\tmira_param_8 = Uniform(low: 1.4759999513626099, high: 1.8040000200271606),\n",
       "\tmira_param_9 = Uniform(low: 0.0, high: 0.10000000149011612),\n",
       "\tmira_param_10 = Uniform(low: 0.007199999876320362, high: 0.008799999952316284),\n",
       "\tmira_param_11 = Uniform(low: 0.12690000236034393, high: 0.1551000028848648),\n",
       "\tpseudocount = 1.0\n",
       ")"
      ]
     },
     "execution_count": 3,
     "metadata": {},
     "output_type": "execute_result"
    }
   ],
   "source": [
    "filename2 = \"BIOMD0000000960_template_model.json\"\n",
    "filename2 = os.path.join(MIRA_PATH, filename2)\n",
    "model2 = load_petri_model(filename2, add_uncertainty=True)\n",
    "\n",
    "\n",
    "# TODO: put this into the interfaces\n",
    "start_state2 = {k[0]: v.data['initial_value'] for k, v in model2.G.variables.items()}\n",
    "\n",
    "model2"
   ]
  },
  {
   "cell_type": "code",
   "execution_count": 4,
   "metadata": {},
   "outputs": [
    {
     "data": {
      "text/plain": [
       "ScaledBetaNoisePetriNetODESystem(\n",
       "\tmira_param_0 = Uniform(low: 7.614000097078133e-09, high: 9.306000414710525e-09),\n",
       "\tmira_param_1 = Uniform(low: 1.5228000194156266e-08, high: 1.861200082942105e-08),\n",
       "\tmira_param_2 = Uniform(low: 1.9035000242695332e-09, high: 2.326500103677631e-09),\n",
       "\tmira_param_3 = Uniform(low: 3.8070000485390665e-09, high: 4.653000207355262e-09),\n",
       "\tmira_param_4 = Uniform(low: 0.019285714253783226, high: 0.023571427911520004),\n",
       "\tmira_param_5 = Uniform(low: 0.035999998450279236, high: 0.04399999976158142),\n",
       "\tmira_param_6 = Uniform(low: 0.14399999380111694, high: 0.17599999904632568),\n",
       "\tmira_param_7 = Uniform(low: 0.09000000357627869, high: 0.10999999940395355),\n",
       "\tmira_param_8 = Uniform(low: 0.22499999403953552, high: 0.2750000059604645),\n",
       "\tmira_param_9 = Uniform(low: 0.044999998062849045, high: 0.054999999701976776),\n",
       "\tmira_param_10 = Uniform(low: 0.015300000086426735, high: 0.018699999898672104),\n",
       "\tpseudocount = 1.0\n",
       ")"
      ]
     },
     "execution_count": 4,
     "metadata": {},
     "output_type": "execute_result"
    }
   ],
   "source": [
    "filename3 = \"BIOMD0000000983_template_model.json\"\n",
    "filename3 = os.path.join(MIRA_PATH, filename3)\n",
    "model3 = load_petri_model(filename3, add_uncertainty=True)\n",
    "\n",
    "# TODO: put this into the interfaces\n",
    "start_state3 = {k[0]: v.data['initial_value'] for k, v in model3.G.variables.items()}\n",
    "start_state3['Deceased'] = 0.0\n",
    "\n",
    "model3"
   ]
  },
  {
   "cell_type": "code",
   "execution_count": 6,
   "metadata": {},
   "outputs": [],
   "source": [
    "from math import isclose\n",
    "\n",
    "solution_ratio21 = start_state2['Infectious'] / start_state1['Infected']\n",
    "solution_ratio31 = (start_state3['Infected_reported'] + start_state3['Infected_unreported']) / start_state1['Infected']\n",
    "\n",
    "solution_mapping1 = lambda x : {\"Infected\": x[\"Infected\"]}\n",
    "solution_mapping2 = lambda x : {\"Infected\": x[\"Infectious\"] / solution_ratio21}\n",
    "solution_mapping3 = lambda x : {\"Infected\": (x[\"Infected_reported\"] + x[\"Infected_unreported\"]) / solution_ratio31}\n",
    "\n",
    "# Assert that all of the variables in the solution mappings are the same.\n",
    "assert(set(solution_mapping1(start_state1).keys()) \n",
    "       == set(solution_mapping2(start_state2).keys())\n",
    "       == set(solution_mapping3(start_state3).keys()))\n",
    "\n",
    "# Assert that the solution mappings are correct.\n",
    "assert(isclose(solution_mapping1(start_state1)[\"Infected\"], solution_mapping2(start_state2)[\"Infected\"]))\n",
    "assert(isclose(solution_mapping1(start_state1)[\"Infected\"], solution_mapping3(start_state3)[\"Infected\"]))"
   ]
  },
  {
   "cell_type": "code",
   "execution_count": 7,
   "metadata": {},
   "outputs": [
    {
     "data": {
      "text/plain": [
       "Ensemble of 3 models. \n",
       "\n",
       " \tDirichlet Alpha: tensor([3.3333, 3.3333, 3.3333]). \n",
       "\n",
       " \tModels: [ScaledBetaNoisePetriNetODESystem(\n",
       "\tbeta = Uniform(low: 0.00989999994635582, high: 0.01209999993443489),\n",
       "\tgamma = Uniform(low: 0.41040000319480896, high: 0.5016000270843506),\n",
       "\tdelta = Uniform(low: 0.00989999994635582, high: 0.01209999993443489),\n",
       "\talpha = Uniform(low: 0.5130000114440918, high: 0.6269999742507935),\n",
       "\tepsilon = Uniform(low: 0.15389999747276306, high: 0.18809999525547028),\n",
       "\tzeta = Uniform(low: 0.11249999701976776, high: 0.13750000298023224),\n",
       "\tXXlambdaXX = Uniform(low: 0.03060000017285347, high: 0.03739999979734421),\n",
       "\teta = Uniform(low: 0.11249999701976776, high: 0.13750000298023224),\n",
       "\trho = Uniform(low: 0.03060000017285347, high: 0.03739999979734421),\n",
       "\ttheta = Uniform(low: 0.33390000462532043, high: 0.4081000089645386),\n",
       "\tkappa = Uniform(low: 0.015300000086426735, high: 0.018699999898672104),\n",
       "\tmu = Uniform(low: 0.015300000086426735, high: 0.018699999898672104),\n",
       "\tnu = Uniform(low: 0.024299999698996544, high: 0.02969999983906746),\n",
       "\txi = Uniform(low: 0.015300000086426735, high: 0.018699999898672104),\n",
       "\ttau = Uniform(low: 0.008999999612569809, high: 0.010999999940395355),\n",
       "\tsigma = Uniform(low: 0.015300000086426735, high: 0.018699999898672104),\n",
       "\tpseudocount = 1.0\n",
       "), ScaledBetaNoisePetriNetODESystem(\n",
       "\tmira_param_0 = Uniform(low: 0.0, high: 0.10000000149011612),\n",
       "\tmira_param_1 = Uniform(low: 0.0, high: 0.10000000149011612),\n",
       "\tmira_param_2 = Uniform(low: 0.0, high: 0.10000000149011612),\n",
       "\tmira_param_3 = Uniform(low: 0.02098800055682659, high: 0.025652000680565834),\n",
       "\tmira_param_4 = Uniform(low: 0.37501201033592224, high: 0.45834800601005554),\n",
       "\tmira_param_5 = Uniform(low: 0.4526999890804291, high: 0.5533000230789185),\n",
       "\tmira_param_6 = Uniform(low: 0.23669999837875366, high: 0.28929999470710754),\n",
       "\tmira_param_7 = Uniform(low: 0.0027000000700354576, high: 0.0032999999821186066),\n",
       "\tmira_param_8 = Uniform(low: 1.4759999513626099, high: 1.8040000200271606),\n",
       "\tmira_param_9 = Uniform(low: 0.0, high: 0.10000000149011612),\n",
       "\tmira_param_10 = Uniform(low: 0.007199999876320362, high: 0.008799999952316284),\n",
       "\tmira_param_11 = Uniform(low: 0.12690000236034393, high: 0.1551000028848648),\n",
       "\tpseudocount = 1.0\n",
       "), ScaledBetaNoisePetriNetODESystem(\n",
       "\tmira_param_0 = Uniform(low: 7.614000097078133e-09, high: 9.306000414710525e-09),\n",
       "\tmira_param_1 = Uniform(low: 1.5228000194156266e-08, high: 1.861200082942105e-08),\n",
       "\tmira_param_2 = Uniform(low: 1.9035000242695332e-09, high: 2.326500103677631e-09),\n",
       "\tmira_param_3 = Uniform(low: 3.8070000485390665e-09, high: 4.653000207355262e-09),\n",
       "\tmira_param_4 = Uniform(low: 0.019285714253783226, high: 0.023571427911520004),\n",
       "\tmira_param_5 = Uniform(low: 0.035999998450279236, high: 0.04399999976158142),\n",
       "\tmira_param_6 = Uniform(low: 0.14399999380111694, high: 0.17599999904632568),\n",
       "\tmira_param_7 = Uniform(low: 0.09000000357627869, high: 0.10999999940395355),\n",
       "\tmira_param_8 = Uniform(low: 0.22499999403953552, high: 0.2750000059604645),\n",
       "\tmira_param_9 = Uniform(low: 0.044999998062849045, high: 0.054999999701976776),\n",
       "\tmira_param_10 = Uniform(low: 0.015300000086426735, high: 0.018699999898672104),\n",
       "\tpseudocount = 1.0\n",
       ")]"
      ]
     },
     "execution_count": 7,
     "metadata": {},
     "output_type": "execute_result"
    }
   ],
   "source": [
    "# Setup the Ensemble\n",
    "\n",
    "models = [model1, model2, model3]\n",
    "weights = [1/3, 1/3, 1/3]\n",
    "start_time = 0.0\n",
    "\n",
    "start_states = [start_state1, start_state2, start_state3]\n",
    "solution_mappings = [solution_mapping1, solution_mapping2, solution_mapping3]\n",
    "\n",
    "total_population = 1.0\n",
    "dirichlet_concentration = 10.0\n",
    "\n",
    "ensemble = setup_model(models, \n",
    "                       weights, \n",
    "                       solution_mappings, \n",
    "                       start_time, \n",
    "                       start_states, \n",
    "                       total_population, \n",
    "                       dirichlet_concentration=dirichlet_concentration)\n",
    "ensemble"
   ]
  },
  {
   "cell_type": "code",
   "execution_count": 8,
   "metadata": {},
   "outputs": [],
   "source": [
    "# # Setup the Ensemble\n",
    "\n",
    "# models = [model1, model2]\n",
    "# weights = [0.5, 0.5]\n",
    "# start_time = 0.0\n",
    "\n",
    "# start_states = [start_state1, start_state2]\n",
    "# solution_mappings = [solution_mapping1, solution_mapping2]\n",
    "\n",
    "# total_population = 1.0\n",
    "# dirichlet_concentration = 10.0\n",
    "\n",
    "# ensemble = setup_model(models, \n",
    "#                        weights, \n",
    "#                        solution_mappings, \n",
    "#                        start_time, \n",
    "#                        start_states, \n",
    "#                        total_population, \n",
    "#                        dirichlet_concentration=dirichlet_concentration)\n",
    "# ensemble"
   ]
  },
  {
   "cell_type": "code",
   "execution_count": 9,
   "metadata": {},
   "outputs": [
    {
     "data": {
      "text/plain": [
       "{'model_0/beta': tensor([0.0101, 0.0101]),\n",
       " 'model_0/gamma': tensor([0.4241, 0.4174]),\n",
       " 'model_0/delta': tensor([0.0119, 0.0112]),\n",
       " 'model_0/alpha': tensor([0.5969, 0.5452]),\n",
       " 'model_0/epsilon': tensor([0.1779, 0.1793]),\n",
       " 'model_0/zeta': tensor([0.1305, 0.1315]),\n",
       " 'model_0/XXlambdaXX': tensor([0.0310, 0.0313]),\n",
       " 'model_0/eta': tensor([0.1233, 0.1310]),\n",
       " 'model_0/rho': tensor([0.0337, 0.0348]),\n",
       " 'model_0/theta': tensor([0.3395, 0.3802]),\n",
       " 'model_0/kappa': tensor([0.0172, 0.0179]),\n",
       " 'model_0/mu': tensor([0.0181, 0.0185]),\n",
       " 'model_0/nu': tensor([0.0272, 0.0259]),\n",
       " 'model_0/xi': tensor([0.0166, 0.0166]),\n",
       " 'model_0/tau': tensor([0.0095, 0.0093]),\n",
       " 'model_0/sigma': tensor([0.0179, 0.0186]),\n",
       " 'model_1/mira_param_0': tensor([0.0617, 0.0311]),\n",
       " 'model_1/mira_param_1': tensor([0.0940, 0.0142]),\n",
       " 'model_1/mira_param_2': tensor([0.0138, 0.0171]),\n",
       " 'model_1/mira_param_3': tensor([0.0255, 0.0216]),\n",
       " 'model_1/mira_param_4': tensor([0.3803, 0.4371]),\n",
       " 'model_1/mira_param_5': tensor([0.5452, 0.4759]),\n",
       " 'model_1/mira_param_6': tensor([0.2452, 0.2371]),\n",
       " 'model_1/mira_param_7': tensor([0.0030, 0.0028]),\n",
       " 'model_1/mira_param_8': tensor([1.5763, 1.7580]),\n",
       " 'model_1/mira_param_9': tensor([0.0298, 0.0115]),\n",
       " 'model_1/mira_param_10': tensor([0.0086, 0.0078]),\n",
       " 'model_1/mira_param_11': tensor([0.1502, 0.1507]),\n",
       " 'model_2/mira_param_0': tensor([9.2574e-09, 8.2147e-09]),\n",
       " 'model_2/mira_param_1': tensor([1.6348e-08, 1.8539e-08]),\n",
       " 'model_2/mira_param_2': tensor([2.1479e-09, 1.9172e-09]),\n",
       " 'model_2/mira_param_3': tensor([4.2941e-09, 4.4919e-09]),\n",
       " 'model_2/mira_param_4': tensor([0.0235, 0.0205]),\n",
       " 'model_2/mira_param_5': tensor([0.0426, 0.0378]),\n",
       " 'model_2/mira_param_6': tensor([0.1712, 0.1670]),\n",
       " 'model_2/mira_param_7': tensor([0.0974, 0.0943]),\n",
       " 'model_2/mira_param_8': tensor([0.2389, 0.2543]),\n",
       " 'model_2/mira_param_9': tensor([0.0482, 0.0522]),\n",
       " 'model_2/mira_param_10': tensor([0.0186, 0.0176]),\n",
       " 'model_weights': tensor([[0.2730, 0.1989, 0.5281],\n",
       "         [0.2736, 0.3062, 0.4202]]),\n",
       " 'Infected_sol': tensor([[3.9709e-06, 6.6493e-06, 2.5926e-05],\n",
       "         [3.8130e-06, 5.2037e-06, 1.5444e-05]])}"
      ]
     },
     "execution_count": 9,
     "metadata": {},
     "output_type": "execute_result"
    }
   ],
   "source": [
    "# Sample from the Ensemble\n",
    "\n",
    "timepoints = [1.0, 5.0, 10.0]\n",
    "num_samples = 2\n",
    "ensemble_solution = sample(ensemble, timepoints, num_samples)\n",
    "ensemble_solution\n"
   ]
  },
  {
   "cell_type": "code",
   "execution_count": 10,
   "metadata": {},
   "outputs": [
    {
     "name": "stdout",
     "output_type": "stream",
     "text": [
      "iteration 0: loss = 109.49366772174835\n",
      "iteration 25: loss = 73.74292767047882\n",
      "iteration 50: loss = 58.04669487476349\n",
      "iteration 75: loss = 40.39387404918671\n"
     ]
    }
   ],
   "source": [
    "data = [(1.1, {\"Infected\": 0.003}), (1.2, {\"Infected\": 0.005})]\n",
    "\n",
    "# TODO: increase the number of iterations\n",
    "inferred_parameters = calibrate(ensemble, data, num_iterations=100, verbose=True)"
   ]
  },
  {
   "cell_type": "code",
   "execution_count": 11,
   "metadata": {},
   "outputs": [
    {
     "data": {
      "text/plain": [
       "{'model_0/beta': tensor([0.0114, 0.0102]),\n",
       " 'model_0/gamma': tensor([0.4481, 0.4255]),\n",
       " 'model_0/delta': tensor([0.0119, 0.0104]),\n",
       " 'model_0/alpha': tensor([0.6044, 0.6091]),\n",
       " 'model_0/epsilon': tensor([0.1710, 0.1738]),\n",
       " 'model_0/zeta': tensor([0.1300, 0.1299]),\n",
       " 'model_0/XXlambdaXX': tensor([0.0327, 0.0347]),\n",
       " 'model_0/eta': tensor([0.1196, 0.1189]),\n",
       " 'model_0/rho': tensor([0.0341, 0.0315]),\n",
       " 'model_0/theta': tensor([0.3747, 0.3676]),\n",
       " 'model_0/kappa': tensor([0.0164, 0.0157]),\n",
       " 'model_0/mu': tensor([0.0164, 0.0185]),\n",
       " 'model_0/nu': tensor([0.0258, 0.0282]),\n",
       " 'model_0/xi': tensor([0.0176, 0.0169]),\n",
       " 'model_0/tau': tensor([0.0106, 0.0106]),\n",
       " 'model_0/sigma': tensor([0.0170, 0.0171]),\n",
       " 'model_1/mira_param_0': tensor([0.0494, 0.0172]),\n",
       " 'model_1/mira_param_1': tensor([0.0725, 0.0820]),\n",
       " 'model_1/mira_param_2': tensor([0.0216, 0.0433]),\n",
       " 'model_1/mira_param_3': tensor([0.0254, 0.0252]),\n",
       " 'model_1/mira_param_4': tensor([0.4014, 0.4124]),\n",
       " 'model_1/mira_param_5': tensor([0.5465, 0.5442]),\n",
       " 'model_1/mira_param_6': tensor([0.2674, 0.2490]),\n",
       " 'model_1/mira_param_7': tensor([0.0028, 0.0028]),\n",
       " 'model_1/mira_param_8': tensor([1.6905, 1.7527]),\n",
       " 'model_1/mira_param_9': tensor([0.0662, 0.0896]),\n",
       " 'model_1/mira_param_10': tensor([0.0084, 0.0076]),\n",
       " 'model_1/mira_param_11': tensor([0.1415, 0.1317]),\n",
       " 'model_2/mira_param_0': tensor([8.8997e-09, 8.2571e-09]),\n",
       " 'model_2/mira_param_1': tensor([1.8218e-08, 1.5655e-08]),\n",
       " 'model_2/mira_param_2': tensor([1.9927e-09, 2.1497e-09]),\n",
       " 'model_2/mira_param_3': tensor([4.3682e-09, 4.4656e-09]),\n",
       " 'model_2/mira_param_4': tensor([0.0198, 0.0197]),\n",
       " 'model_2/mira_param_5': tensor([0.0419, 0.0435]),\n",
       " 'model_2/mira_param_6': tensor([0.1523, 0.1632]),\n",
       " 'model_2/mira_param_7': tensor([0.0965, 0.1081]),\n",
       " 'model_2/mira_param_8': tensor([0.2513, 0.2516]),\n",
       " 'model_2/mira_param_9': tensor([0.0465, 0.0509]),\n",
       " 'model_2/mira_param_10': tensor([0.0176, 0.0175]),\n",
       " 'model_weights': tensor([[0.2783, 0.3506, 0.3711],\n",
       "         [0.3111, 0.4830, 0.2059]]),\n",
       " 'Infected_sol': tensor([[3.9265e-06, 6.5860e-06, 2.9598e-05],\n",
       "         [3.9886e-06, 6.7017e-06, 3.1623e-05]])}"
      ]
     },
     "execution_count": 11,
     "metadata": {},
     "output_type": "execute_result"
    }
   ],
   "source": [
    "posterior_predictive = sample(ensemble, timepoints, num_samples, inferred_parameters)\n",
    "posterior_predictive"
   ]
  },
  {
   "cell_type": "code",
   "execution_count": null,
   "metadata": {},
   "outputs": [],
   "source": []
  }
 ],
 "metadata": {
  "kernelspec": {
   "display_name": "askem-test",
   "language": "python",
   "name": "python3"
  },
  "language_info": {
   "codemirror_mode": {
    "name": "ipython",
    "version": 3
   },
   "file_extension": ".py",
   "mimetype": "text/x-python",
   "name": "python",
   "nbconvert_exporter": "python",
   "pygments_lexer": "ipython3",
   "version": "3.10.0"
  },
  "orig_nbformat": 4
 },
 "nbformat": 4,
 "nbformat_minor": 2
}
