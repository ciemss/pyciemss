{
 "cells": [
  {
   "cell_type": "code",
   "execution_count": 1,
   "metadata": {},
   "outputs": [],
   "source": [
    "import os\n",
    "\n",
    "from pyciemss.PetriNetODE.base import MiraPetriNetODESystem, ScaledBetaNoisePetriNetODESystem\n",
    "from pyciemss.PetriNetODE.events import Event, StartEvent, LoggingEvent, ObservationEvent, StaticParameterInterventionEvent\n",
    "from pyciemss.Ensemble.base import EnsembleSystem\n",
    "import pyciemss\n",
    "\n",
    "from pyciemss.PetriNetODE.interfaces import load_petri_model\n",
    "from pyciemss.Ensemble.interfaces import setup_model, reset_model, intervene, sample, calibrate, optimize"
   ]
  },
  {
   "cell_type": "code",
   "execution_count": 33,
   "metadata": {},
   "outputs": [],
   "source": [
    "MIRA_PATH = \"test/models/april_ensemble_demo/\"\n",
    "\n",
    "filename1 = \"BIOMD0000000955_template_model.json\"\n",
    "filename1 = os.path.join(MIRA_PATH, filename1)\n",
    "model1 = load_petri_model(filename1, add_uncertainty=True)"
   ]
  },
  {
   "cell_type": "code",
   "execution_count": 56,
   "metadata": {},
   "outputs": [],
   "source": [
    "# TODO: put this into the interfaces\n",
    "start_state1 = {k[0]: v.data['initial_value'] for k, v in model1.G.variables.items()}"
   ]
  },
  {
   "cell_type": "code",
   "execution_count": 57,
   "metadata": {},
   "outputs": [
    {
     "data": {
      "text/plain": [
       "ScaledBetaNoisePetriNetODESystem(\n",
       "\tmira_param_0 = Uniform(low: 0.0, high: 0.10000000149011612),\n",
       "\tmira_param_1 = Uniform(low: 0.0, high: 0.10000000149011612),\n",
       "\tmira_param_2 = Uniform(low: 0.0, high: 0.10000000149011612),\n",
       "\tmira_param_3 = Uniform(low: 0.02098800055682659, high: 0.025652000680565834),\n",
       "\tmira_param_4 = Uniform(low: 0.37501201033592224, high: 0.45834800601005554),\n",
       "\tmira_param_5 = Uniform(low: 0.4526999890804291, high: 0.5533000230789185),\n",
       "\tmira_param_6 = Uniform(low: 0.23669999837875366, high: 0.28929999470710754),\n",
       "\tmira_param_7 = Uniform(low: 0.0027000000700354576, high: 0.0032999999821186066),\n",
       "\tmira_param_8 = Uniform(low: 1.4759999513626099, high: 1.8040000200271606),\n",
       "\tmira_param_9 = Uniform(low: 0.0, high: 0.10000000149011612),\n",
       "\tmira_param_10 = Uniform(low: 0.007199999876320362, high: 0.008799999952316284),\n",
       "\tmira_param_11 = Uniform(low: 0.12690000236034393, high: 0.1551000028848648),\n",
       "\tpseudocount = 1.0\n",
       ")"
      ]
     },
     "execution_count": 57,
     "metadata": {},
     "output_type": "execute_result"
    }
   ],
   "source": [
    "# Placeholder for now while I debug other MIRA models.\n",
    "filename2 = \"BIOMD0000000960_template_model.json\"\n",
    "filename2 = os.path.join(MIRA_PATH, filename2)\n",
    "model2 = load_petri_model(filename2, add_uncertainty=True)\n",
    "model2\n",
    "\n"
   ]
  },
  {
   "cell_type": "code",
   "execution_count": 55,
   "metadata": {},
   "outputs": [],
   "source": [
    "# TODO: put this into the interfaces\n",
    "start_state2 = {k[0]: v.data['initial_value'] for k, v in model2.G.variables.items()}"
   ]
  },
  {
   "cell_type": "code",
   "execution_count": 58,
   "metadata": {},
   "outputs": [],
   "source": [
    "# Setup the Ensemble\n",
    "\n",
    "# Placeholder for now while I debug other MIRA models.\n",
    "models = [model1, model2]\n",
    "weights = [0.5, 0.5]\n",
    "start_time = 0.0\n",
    "\n",
    "start_states = [start_state1, start_state2]\n",
    "\n",
    "ensemble = setup_model(models, weights, start_time, start_states)\n"
   ]
  },
  {
   "cell_type": "code",
   "execution_count": 59,
   "metadata": {},
   "outputs": [
    {
     "ename": "KeyError",
     "evalue": "'Asymptomatic_sol'",
     "output_type": "error",
     "traceback": [
      "\u001b[0;31m---------------------------------------------------------------------------\u001b[0m",
      "\u001b[0;31mKeyError\u001b[0m                                  Traceback (most recent call last)",
      "Cell \u001b[0;32mIn[59], line 6\u001b[0m\n\u001b[1;32m      4\u001b[0m num_samples \u001b[39m=\u001b[39m \u001b[39m10\u001b[39m\n\u001b[1;32m      5\u001b[0m \u001b[39m# ensemble_solution = sample(ensemble.models[0], timepoints, num_samples)\u001b[39;00m\n\u001b[0;32m----> 6\u001b[0m ensemble_solution \u001b[39m=\u001b[39m sample(ensemble, timepoints, num_samples, method\u001b[39m=\u001b[39;49m\u001b[39m\"\u001b[39;49m\u001b[39meuler\u001b[39;49m\u001b[39m\"\u001b[39;49m)\n\u001b[1;32m      7\u001b[0m ensemble_solution\n",
      "File \u001b[0;32m~/opt/anaconda3/envs/askem-test/lib/python3.10/functools.py:878\u001b[0m, in \u001b[0;36msingledispatch.<locals>.wrapper\u001b[0;34m(*args, **kw)\u001b[0m\n\u001b[1;32m    874\u001b[0m \u001b[39mif\u001b[39;00m \u001b[39mnot\u001b[39;00m args:\n\u001b[1;32m    875\u001b[0m     \u001b[39mraise\u001b[39;00m \u001b[39mTypeError\u001b[39;00m(\u001b[39mf\u001b[39m\u001b[39m'\u001b[39m\u001b[39m{\u001b[39;00mfuncname\u001b[39m}\u001b[39;00m\u001b[39m requires at least \u001b[39m\u001b[39m'\u001b[39m\n\u001b[1;32m    876\u001b[0m                     \u001b[39m'\u001b[39m\u001b[39m1 positional argument\u001b[39m\u001b[39m'\u001b[39m)\n\u001b[0;32m--> 878\u001b[0m \u001b[39mreturn\u001b[39;00m dispatch(args[\u001b[39m0\u001b[39;49m]\u001b[39m.\u001b[39;49m\u001b[39m__class__\u001b[39;49m)(\u001b[39m*\u001b[39;49margs, \u001b[39m*\u001b[39;49m\u001b[39m*\u001b[39;49mkw)\n",
      "File \u001b[0;32m~/Desktop/Research/pyciemss/src/pyciemss/Ensemble/interfaces.py:73\u001b[0m, in \u001b[0;36msample_ensemble_model\u001b[0;34m(ensemble, timepoints, num_samples, inferred_parameters, *args, **kwargs)\u001b[0m\n\u001b[1;32m     71\u001b[0m new_ensemble\u001b[39m.\u001b[39mload_events(logging_events)\n\u001b[1;32m     72\u001b[0m \u001b[39m# **kwargs is used to pass in optional model parameters, such as the solver method for an ODE.\u001b[39;00m\n\u001b[0;32m---> 73\u001b[0m \u001b[39mreturn\u001b[39;00m Predictive(new_ensemble, guide\u001b[39m=\u001b[39;49minferred_parameters, num_samples\u001b[39m=\u001b[39;49mnum_samples)(\u001b[39m*\u001b[39;49margs, \u001b[39m*\u001b[39;49m\u001b[39m*\u001b[39;49mkwargs)\n",
      "File \u001b[0;32m~/opt/anaconda3/envs/askem-test/lib/python3.10/site-packages/torch/nn/modules/module.py:1501\u001b[0m, in \u001b[0;36mModule._call_impl\u001b[0;34m(self, *args, **kwargs)\u001b[0m\n\u001b[1;32m   1496\u001b[0m \u001b[39m# If we don't have any hooks, we want to skip the rest of the logic in\u001b[39;00m\n\u001b[1;32m   1497\u001b[0m \u001b[39m# this function, and just call forward.\u001b[39;00m\n\u001b[1;32m   1498\u001b[0m \u001b[39mif\u001b[39;00m \u001b[39mnot\u001b[39;00m (\u001b[39mself\u001b[39m\u001b[39m.\u001b[39m_backward_hooks \u001b[39mor\u001b[39;00m \u001b[39mself\u001b[39m\u001b[39m.\u001b[39m_backward_pre_hooks \u001b[39mor\u001b[39;00m \u001b[39mself\u001b[39m\u001b[39m.\u001b[39m_forward_hooks \u001b[39mor\u001b[39;00m \u001b[39mself\u001b[39m\u001b[39m.\u001b[39m_forward_pre_hooks\n\u001b[1;32m   1499\u001b[0m         \u001b[39mor\u001b[39;00m _global_backward_pre_hooks \u001b[39mor\u001b[39;00m _global_backward_hooks\n\u001b[1;32m   1500\u001b[0m         \u001b[39mor\u001b[39;00m _global_forward_hooks \u001b[39mor\u001b[39;00m _global_forward_pre_hooks):\n\u001b[0;32m-> 1501\u001b[0m     \u001b[39mreturn\u001b[39;00m forward_call(\u001b[39m*\u001b[39;49margs, \u001b[39m*\u001b[39;49m\u001b[39m*\u001b[39;49mkwargs)\n\u001b[1;32m   1502\u001b[0m \u001b[39m# Do not call functions when jit is used\u001b[39;00m\n\u001b[1;32m   1503\u001b[0m full_backward_hooks, non_full_backward_hooks \u001b[39m=\u001b[39m [], []\n",
      "File \u001b[0;32m~/opt/anaconda3/envs/askem-test/lib/python3.10/site-packages/pyro/infer/predictive.py:273\u001b[0m, in \u001b[0;36mPredictive.forward\u001b[0;34m(self, *args, **kwargs)\u001b[0m\n\u001b[1;32m    263\u001b[0m     return_sites \u001b[39m=\u001b[39m \u001b[39mNone\u001b[39;00m \u001b[39mif\u001b[39;00m \u001b[39mnot\u001b[39;00m return_sites \u001b[39melse\u001b[39;00m return_sites\n\u001b[1;32m    264\u001b[0m     posterior_samples \u001b[39m=\u001b[39m _predictive(\n\u001b[1;32m    265\u001b[0m         \u001b[39mself\u001b[39m\u001b[39m.\u001b[39mguide,\n\u001b[1;32m    266\u001b[0m         posterior_samples,\n\u001b[0;32m   (...)\u001b[0m\n\u001b[1;32m    271\u001b[0m         model_kwargs\u001b[39m=\u001b[39mkwargs,\n\u001b[1;32m    272\u001b[0m     )\n\u001b[0;32m--> 273\u001b[0m \u001b[39mreturn\u001b[39;00m _predictive(\n\u001b[1;32m    274\u001b[0m     \u001b[39mself\u001b[39;49m\u001b[39m.\u001b[39;49mmodel,\n\u001b[1;32m    275\u001b[0m     posterior_samples,\n\u001b[1;32m    276\u001b[0m     \u001b[39mself\u001b[39;49m\u001b[39m.\u001b[39;49mnum_samples,\n\u001b[1;32m    277\u001b[0m     return_sites\u001b[39m=\u001b[39;49mreturn_sites,\n\u001b[1;32m    278\u001b[0m     parallel\u001b[39m=\u001b[39;49m\u001b[39mself\u001b[39;49m\u001b[39m.\u001b[39;49mparallel,\n\u001b[1;32m    279\u001b[0m     model_args\u001b[39m=\u001b[39;49margs,\n\u001b[1;32m    280\u001b[0m     model_kwargs\u001b[39m=\u001b[39;49mkwargs,\n\u001b[1;32m    281\u001b[0m )\n",
      "File \u001b[0;32m~/opt/anaconda3/envs/askem-test/lib/python3.10/site-packages/pyro/infer/predictive.py:127\u001b[0m, in \u001b[0;36m_predictive\u001b[0;34m(model, posterior_samples, num_samples, return_sites, return_trace, parallel, model_args, model_kwargs)\u001b[0m\n\u001b[1;32m    124\u001b[0m     return_site_shapes[\u001b[39m\"\u001b[39m\u001b[39m_RETURN\u001b[39m\u001b[39m\"\u001b[39m] \u001b[39m=\u001b[39m shape\n\u001b[1;32m    126\u001b[0m \u001b[39mif\u001b[39;00m \u001b[39mnot\u001b[39;00m parallel:\n\u001b[0;32m--> 127\u001b[0m     \u001b[39mreturn\u001b[39;00m _predictive_sequential(\n\u001b[1;32m    128\u001b[0m         model,\n\u001b[1;32m    129\u001b[0m         posterior_samples,\n\u001b[1;32m    130\u001b[0m         model_args,\n\u001b[1;32m    131\u001b[0m         model_kwargs,\n\u001b[1;32m    132\u001b[0m         num_samples,\n\u001b[1;32m    133\u001b[0m         return_site_shapes,\n\u001b[1;32m    134\u001b[0m         return_trace\u001b[39m=\u001b[39;49m\u001b[39mFalse\u001b[39;49;00m,\n\u001b[1;32m    135\u001b[0m     )\n\u001b[1;32m    137\u001b[0m trace \u001b[39m=\u001b[39m poutine\u001b[39m.\u001b[39mtrace(\n\u001b[1;32m    138\u001b[0m     poutine\u001b[39m.\u001b[39mcondition(vectorize(model), reshaped_samples)\n\u001b[1;32m    139\u001b[0m )\u001b[39m.\u001b[39mget_trace(\u001b[39m*\u001b[39mmodel_args, \u001b[39m*\u001b[39m\u001b[39m*\u001b[39mmodel_kwargs)\n\u001b[1;32m    140\u001b[0m predictions \u001b[39m=\u001b[39m {}\n",
      "File \u001b[0;32m~/opt/anaconda3/envs/askem-test/lib/python3.10/site-packages/pyro/infer/predictive.py:55\u001b[0m, in \u001b[0;36m_predictive_sequential\u001b[0;34m(model, posterior_samples, model_args, model_kwargs, num_samples, return_site_shapes, return_trace)\u001b[0m\n\u001b[1;32m     52\u001b[0m         collected\u001b[39m.\u001b[39mappend(trace)\n\u001b[1;32m     53\u001b[0m     \u001b[39melse\u001b[39;00m:\n\u001b[1;32m     54\u001b[0m         collected\u001b[39m.\u001b[39mappend(\n\u001b[0;32m---> 55\u001b[0m             {site: trace\u001b[39m.\u001b[39mnodes[site][\u001b[39m\"\u001b[39m\u001b[39mvalue\u001b[39m\u001b[39m\"\u001b[39m] \u001b[39mfor\u001b[39;00m site \u001b[39min\u001b[39;00m return_site_shapes}\n\u001b[1;32m     56\u001b[0m         )\n\u001b[1;32m     58\u001b[0m \u001b[39mif\u001b[39;00m return_trace:\n\u001b[1;32m     59\u001b[0m     \u001b[39mreturn\u001b[39;00m collected\n",
      "File \u001b[0;32m~/opt/anaconda3/envs/askem-test/lib/python3.10/site-packages/pyro/infer/predictive.py:55\u001b[0m, in \u001b[0;36m<dictcomp>\u001b[0;34m(.0)\u001b[0m\n\u001b[1;32m     52\u001b[0m         collected\u001b[39m.\u001b[39mappend(trace)\n\u001b[1;32m     53\u001b[0m     \u001b[39melse\u001b[39;00m:\n\u001b[1;32m     54\u001b[0m         collected\u001b[39m.\u001b[39mappend(\n\u001b[0;32m---> 55\u001b[0m             {site: trace\u001b[39m.\u001b[39;49mnodes[site][\u001b[39m\"\u001b[39m\u001b[39mvalue\u001b[39m\u001b[39m\"\u001b[39m] \u001b[39mfor\u001b[39;00m site \u001b[39min\u001b[39;00m return_site_shapes}\n\u001b[1;32m     56\u001b[0m         )\n\u001b[1;32m     58\u001b[0m \u001b[39mif\u001b[39;00m return_trace:\n\u001b[1;32m     59\u001b[0m     \u001b[39mreturn\u001b[39;00m collected\n",
      "\u001b[0;31mKeyError\u001b[0m: 'Asymptomatic_sol'"
     ]
    }
   ],
   "source": [
    "# Sample from the Ensemble\n",
    "\n",
    "timepoints = [1.0, 5.0, 10.0]\n",
    "num_samples = 10\n",
    "# ensemble_solution = sample(ensemble.models[0], timepoints, num_samples)\n",
    "ensemble_solution = sample(ensemble, timepoints, num_samples, method=\"euler\")\n",
    "ensemble_solution\n"
   ]
  },
  {
   "attachments": {},
   "cell_type": "markdown",
   "metadata": {},
   "source": [
    "## MIRA Explorations below"
   ]
  },
  {
   "cell_type": "code",
   "execution_count": 24,
   "metadata": {},
   "outputs": [
    {
     "data": {
      "text/plain": [
       "ScaledBetaNoisePetriNetODESystem(\n",
       "\tModelValue_5 = Uniform(low: 0.0, high: 0.10000000149011612),\n",
       "\tbeta_1_USA = Uniform(low: 0.2727000117301941, high: 0.33329999446868896),\n",
       "\tModelValue_135 = Uniform(low: 295380000.0, high: 361020000.0),\n",
       "\t(('Susceptible', ('identity', 'ido:0000514')), ('Exposed', ('identity', 'apollosv:00000154')), ('Infectious', ('identity', 'ido:0000511'), ('disease_severity', 'ncit:C25269'), ('hospitalization', 'ncit:C68851')), 'ControlledConversion', 'rate') = Uniform(low: 0.0, high: 1.0),\n",
       "\tl_a_1_USA = Uniform(low: 3.680999994277954, high: 4.499000072479248),\n",
       "\t(('Susceptible', ('identity', 'ido:0000514')), ('Exposed', ('identity', 'apollosv:00000154')), ('Asymptomatic', ('identity', 'ido:0000511'), ('disease_severity', 'ncit:C3833'), ('hospitalization', 'ncit:C68851')), 'ControlledConversion', 'rate') = Uniform(low: 0.0, high: 1.0),\n",
       "\tl_1_USA = Uniform(low: 0.7659000158309937, high: 0.9361000061035156),\n",
       "\t(('Susceptible', ('identity', 'ido:0000514')), ('Exposed', ('identity', 'apollosv:00000154')), ('Hospitalized', ('identity', 'ido:0000511'), ('disease_severity', 'ncit:C25269'), ('hospitalization', 'ncit:C25179')), 'ControlledConversion', 'rate') = Uniform(low: 0.0, high: 1.0),\n",
       "\tModelValue_13 = Uniform(low: 0.04769999906420708, high: 0.05829999968409538),\n",
       "\tModelValue_119 = Uniform(low: 0.0494999997317791, high: 0.060499999672174454),\n",
       "\t(('Infectious', ('identity', 'ido:0000511'), ('disease_severity', 'ncit:C25269'), ('hospitalization', 'ncit:C68851')), ('Hospitalized', ('identity', 'ido:0000511'), ('disease_severity', 'ncit:C25269'), ('hospitalization', 'ncit:C25179')), 'NaturalConversion', 'rate') = Uniform(low: 0.0, high: 1.0),\n",
       "\tModelValue_120 = Uniform(low: 0.266400009393692, high: 0.3255999982357025),\n",
       "\t(('Infectious', ('identity', 'ido:0000511'), ('disease_severity', 'ncit:C25269'), ('hospitalization', 'ncit:C68851')), ('Recovered', ('identity', 'ido:0000592')), 'NaturalConversion', 'rate') = Uniform(low: 0.0, high: 1.0),\n",
       "\tModelValue_125 = Uniform(low: 0.02070000022649765, high: 0.025299999862909317),\n",
       "\t(('Infectious', ('identity', 'ido:0000511'), ('disease_severity', 'ncit:C25269'), ('hospitalization', 'ncit:C68851')), ('Deceased', ('identity', 'ncit:C28554')), 'NaturalConversion', 'rate') = Uniform(low: 0.0, high: 1.0),\n",
       "\tModelValue_18 = Uniform(low: 0.0, high: 0.10000000149011612),\n",
       "\tModelValue_17 = Uniform(low: 1.4759999513626099, high: 1.8040000200271606),\n",
       "\t(('Asymptomatic', ('identity', 'ido:0000511'), ('disease_severity', 'ncit:C3833'), ('hospitalization', 'ncit:C68851')), ('Recovered', ('identity', 'ido:0000592')), 'NaturalConversion', 'rate') = Uniform(low: 0.0, high: 1.0),\n",
       "\t(('Asymptomatic', ('identity', 'ido:0000511'), ('disease_severity', 'ncit:C3833'), ('hospitalization', 'ncit:C68851')), ('Deceased', ('identity', 'ncit:C28554')), 'NaturalConversion', 'rate') = Uniform(low: 0.0, high: 1.0),\n",
       "\tModelValue_124 = Uniform(low: 0.0002610000083222985, high: 0.00031900001340545714),\n",
       "\t(('Hospitalized', ('identity', 'ido:0000511'), ('disease_severity', 'ncit:C25269'), ('hospitalization', 'ncit:C25179')), ('Deceased', ('identity', 'ncit:C28554')), 'NaturalConversion', 'rate') = Uniform(low: 0.0, high: 1.0),\n",
       "\tModelValue_121 = Uniform(low: 0.016200000420212746, high: 0.01979999989271164),\n",
       "\t(('Hospitalized', ('identity', 'ido:0000511'), ('disease_severity', 'ncit:C25269'), ('hospitalization', 'ncit:C25179')), ('Recovered', ('identity', 'ido:0000592')), 'NaturalConversion', 'rate') = Uniform(low: 0.0, high: 1.0),\n",
       "\tpseudocount = 1\n",
       ")"
      ]
     },
     "execution_count": 24,
     "metadata": {},
     "output_type": "execute_result"
    }
   ],
   "source": [
    "filename2 = \"BIOMD0000000960_template_model.json\"\n",
    "filename2 = os.path.join(MIRA_PATH, filename2)\n",
    "# model2 = MiraPetriNetODESystem.from_mira(filename2)\n",
    "model2 = ScaledBetaNoisePetriNetODESystem.from_mira(filename2)\n",
    "model2"
   ]
  },
  {
   "cell_type": "code",
   "execution_count": 25,
   "metadata": {},
   "outputs": [],
   "source": [
    "import json\n",
    "import mira\n",
    "\n",
    "filename1 = \"BIOMD0000000955_template_model.json\"\n",
    "filename1 = os.path.join(MIRA_PATH, filename1)\n",
    "\n",
    "with open(filename1, \"r\") as f:\n",
    "    model_json1 = json.load(f)\n",
    "\n",
    "template1 = mira.metamodel.TemplateModel.from_json(model_json1)\n",
    "model1 = mira.modeling.Model(template1)\n",
    "\n",
    "filename3 = \"BIOMD0000000983_template_model.json\"\n",
    "filename3 = os.path.join(MIRA_PATH, filename3)\n",
    "\n",
    "with open(filename3, \"r\") as f:\n",
    "    model_json3 = json.load(f)\n",
    "\n",
    "template3 = mira.metamodel.TemplateModel.from_json(model_json3)\n",
    "model3 = mira.modeling.Model(template3)\n",
    "# G = pyciemss.PetriNetODE.base.PetriNet.from_mira(filename3)\n",
    "\n",
    "# model3 = MiraPetriNetODESystem.from_mira(filename3)\n",
    "# model3 = ScaledBetaNoisePetriNetODESystem.from_mira(filename3)\n",
    "# model3"
   ]
  },
  {
   "cell_type": "code",
   "execution_count": 30,
   "metadata": {},
   "outputs": [],
   "source": [
    "from mira.metamodel.ops import simplify_rate_laws, aggregate_parameters"
   ]
  },
  {
   "cell_type": "code",
   "execution_count": 31,
   "metadata": {},
   "outputs": [
    {
     "data": {
      "text/plain": [
       "{'alpha': Parameter(name='alpha', identifiers={}, context={}, value=0.57, distribution=Distribution(type='StandardUniform1', parameters={'minimum': 0.45599999999999996, 'maximum': 0.6839999999999999})),\n",
       " 'beta': Parameter(name='beta', identifiers={}, context={}, value=0.011, distribution=Distribution(type='StandardUniform1', parameters={'minimum': 0.008799999999999999, 'maximum': 0.0132})),\n",
       " 'gamma': Parameter(name='gamma', identifiers={}, context={}, value=0.456, distribution=Distribution(type='StandardUniform1', parameters={'minimum': 0.3648, 'maximum': 0.5472})),\n",
       " 'delta': Parameter(name='delta', identifiers={}, context={}, value=0.011, distribution=Distribution(type='StandardUniform1', parameters={'minimum': 0.008799999999999999, 'maximum': 0.0132})),\n",
       " 'epsilon': Parameter(name='epsilon', identifiers={}, context={}, value=0.171, distribution=Distribution(type='StandardUniform1', parameters={'minimum': 0.1368, 'maximum': 0.20520000000000002})),\n",
       " 'theta': Parameter(name='theta', identifiers={}, context={}, value=0.371, distribution=Distribution(type='StandardUniform1', parameters={'minimum': 0.2968, 'maximum': 0.4452})),\n",
       " 'zeta': Parameter(name='zeta', identifiers={}, context={}, value=0.125, distribution=Distribution(type='StandardUniform1', parameters={'minimum': 0.1, 'maximum': 0.15})),\n",
       " 'eta': Parameter(name='eta', identifiers={}, context={}, value=0.125, distribution=Distribution(type='StandardUniform1', parameters={'minimum': 0.1, 'maximum': 0.15})),\n",
       " 'mu': Parameter(name='mu', identifiers={}, context={}, value=0.017, distribution=Distribution(type='StandardUniform1', parameters={'minimum': 0.013600000000000001, 'maximum': 0.0204})),\n",
       " 'nu': Parameter(name='nu', identifiers={}, context={}, value=0.027, distribution=Distribution(type='StandardUniform1', parameters={'minimum': 0.0216, 'maximum': 0.0324})),\n",
       " 'tau': Parameter(name='tau', identifiers={}, context={}, value=0.01, distribution=Distribution(type='StandardUniform1', parameters={'minimum': 0.008, 'maximum': 0.012})),\n",
       " 'kappa': Parameter(name='kappa', identifiers={}, context={}, value=0.017, distribution=Distribution(type='StandardUniform1', parameters={'minimum': 0.013600000000000001, 'maximum': 0.0204})),\n",
       " 'rho': Parameter(name='rho', identifiers={}, context={}, value=0.034, distribution=Distribution(type='StandardUniform1', parameters={'minimum': 0.027200000000000002, 'maximum': 0.0408})),\n",
       " 'sigma': Parameter(name='sigma', identifiers={}, context={}, value=0.017, distribution=Distribution(type='StandardUniform1', parameters={'minimum': 0.013600000000000001, 'maximum': 0.0204})),\n",
       " 'xi': Parameter(name='xi', identifiers={}, context={}, value=0.017, distribution=Distribution(type='StandardUniform1', parameters={'minimum': 0.013600000000000001, 'maximum': 0.0204})),\n",
       " 'epsilon_modifier': Parameter(name='epsilon_modifier', identifiers={}, context={}, value=1.0, distribution=Distribution(type='StandardUniform1', parameters={'minimum': 0.8, 'maximum': 1.2})),\n",
       " 'alpha_modifier': Parameter(name='alpha_modifier', identifiers={}, context={}, value=1.0, distribution=Distribution(type='StandardUniform1', parameters={'minimum': 0.8, 'maximum': 1.2})),\n",
       " 'XXlambdaXX': Parameter(name='XXlambdaXX', identifiers={}, context={}, value=0.034, distribution=Distribution(type='StandardUniform1', parameters={'minimum': 0.027200000000000002, 'maximum': 0.0408}))}"
      ]
     },
     "execution_count": 31,
     "metadata": {},
     "output_type": "execute_result"
    }
   ],
   "source": [
    "template1.parameters"
   ]
  },
  {
   "cell_type": "code",
   "execution_count": 40,
   "metadata": {},
   "outputs": [
    {
     "data": {
      "text/plain": [
       "[0.011,\n",
       " 0.456,\n",
       " 0.011,\n",
       " 0.57,\n",
       " 0.171,\n",
       " 0.125,\n",
       " 0.034,\n",
       " 0.125,\n",
       " 0.034,\n",
       " 0.371,\n",
       " 0.017,\n",
       " 0.017,\n",
       " 0.027,\n",
       " 0.017,\n",
       " 0.01,\n",
       " 0.017]"
      ]
     },
     "execution_count": 40,
     "metadata": {},
     "output_type": "execute_result"
    }
   ],
   "source": [
    "new_template = aggregate_parameters(template1)\n",
    "# new_template = simplify_rate_laws(template1)\n",
    "new_model = mira.modeling.Model(new_template)\n",
    "[p.value for p in new_model.parameters.values()]"
   ]
  },
  {
   "cell_type": "code",
   "execution_count": 22,
   "metadata": {},
   "outputs": [
    {
     "data": {
      "text/plain": [
       "{'f': Parameter(name='f', identifiers={}, context={}, value=0.2, distribution=Distribution(type='StandardUniform1', parameters={'minimum': 0.16, 'maximum': 0.24000000000000002})),\n",
       " 'n': Parameter(name='n', identifiers={}, context={}, value=0.5, distribution=Distribution(type='StandardUniform1', parameters={'minimum': 0.4, 'maximum': 0.6})),\n",
       " 'q': Parameter(name='q', identifiers={}, context={}, value=0.83, distribution=Distribution(type='StandardUniform1', parameters={'minimum': 0.6639999999999999, 'maximum': 0.996})),\n",
       " 'sigma': Parameter(name='sigma', identifiers={}, context={}, value=0.2, distribution=Distribution(type='StandardUniform1', parameters={'minimum': 0.16, 'maximum': 0.24000000000000002})),\n",
       " 'beta': Parameter(name='beta', identifiers={}, context={}, value=2.115e-08, distribution=Distribution(type='StandardUniform1', parameters={'minimum': 1.6920000000000002e-08, 'maximum': 2.538e-08})),\n",
       " 'mu': Parameter(name='mu', identifiers={}, context={}, value=0.2, distribution=Distribution(type='StandardUniform1', parameters={'minimum': 0.16, 'maximum': 0.24000000000000002})),\n",
       " 'eta_r': Parameter(name='eta_r', identifiers={}, context={}, value=0.1, distribution=Distribution(type='StandardUniform1', parameters={'minimum': 0.08, 'maximum': 0.12000000000000001})),\n",
       " 'eta_u': Parameter(name='eta_u', identifiers={}, context={}, value=0.25, distribution=Distribution(type='StandardUniform1', parameters={'minimum': 0.2, 'maximum': 0.3})),\n",
       " 'theta': Parameter(name='theta', identifiers={}, context={}, value=0.07142857, distribution=Distribution(type='StandardUniform1', parameters={'minimum': 0.057142856, 'maximum': 0.085714284})),\n",
       " '_1': Parameter(name='_1', identifiers={}, context={}, value=1.0, distribution=Distribution(type='StandardUniform1', parameters={'minimum': 0.8, 'maximum': 1.2})),\n",
       " 'XXlambdaXX': Parameter(name='XXlambdaXX', identifiers={}, context={}, value=0.3, distribution=Distribution(type='StandardUniform1', parameters={'minimum': 0.24, 'maximum': 0.36})),\n",
       " 'h': Parameter(name='h', identifiers={}, context={}, value=0.05, distribution=Distribution(type='StandardUniform1', parameters={'minimum': 0.04, 'maximum': 0.060000000000000005}))}"
      ]
     },
     "execution_count": 22,
     "metadata": {},
     "output_type": "execute_result"
    }
   ],
   "source": [
    "template3.parameters"
   ]
  },
  {
   "cell_type": "code",
   "execution_count": 26,
   "metadata": {},
   "outputs": [
    {
     "data": {
      "text/plain": [
       "{'beta': <mira.modeling.ModelParameter at 0x7fcb7c5388e0>,\n",
       " 'gamma': <mira.modeling.ModelParameter at 0x7fcb7c53bc10>,\n",
       " 'delta': <mira.modeling.ModelParameter at 0x7fcb7c53a050>,\n",
       " 'alpha': <mira.modeling.ModelParameter at 0x7fcb7c5e9570>,\n",
       " 'epsilon': <mira.modeling.ModelParameter at 0x7fcb7c5eb430>,\n",
       " 'zeta': <mira.modeling.ModelParameter at 0x7fcb7c5eac80>,\n",
       " 'XXlambdaXX': <mira.modeling.ModelParameter at 0x7fcb7c5eabc0>,\n",
       " 'eta': <mira.modeling.ModelParameter at 0x7fcb7c5eab00>,\n",
       " 'rho': <mira.modeling.ModelParameter at 0x7fcb7c5eaa70>,\n",
       " 'theta': <mira.modeling.ModelParameter at 0x7fcb7c5ea9e0>,\n",
       " 'kappa': <mira.modeling.ModelParameter at 0x7fcb7c5ea950>,\n",
       " 'mu': <mira.modeling.ModelParameter at 0x7fcb7c5ea890>,\n",
       " 'nu': <mira.modeling.ModelParameter at 0x7fcb7c5ea7d0>,\n",
       " 'xi': <mira.modeling.ModelParameter at 0x7fcb7c5ea740>,\n",
       " 'tau': <mira.modeling.ModelParameter at 0x7fcb7c5ea680>,\n",
       " 'sigma': <mira.modeling.ModelParameter at 0x7fcb7c5ea5c0>}"
      ]
     },
     "execution_count": 26,
     "metadata": {},
     "output_type": "execute_result"
    }
   ],
   "source": [
    "model1.parameters"
   ]
  },
  {
   "cell_type": "code",
   "execution_count": 44,
   "metadata": {},
   "outputs": [
    {
     "data": {
      "text/plain": [
       "{(('Susceptible_unconfined',\n",
       "   ('identity', 'ido:0000514'),\n",
       "   ('quarantined', 'ncit:C68851')),\n",
       "  ('Exposed', ('identity', 'apollosv:00000154')),\n",
       "  ('Infected_reported',\n",
       "   ('identity', 'ido:0000511'),\n",
       "   ('diagnosis', 'ncit:C15220')),\n",
       "  'ControlledConversion'): <mira.modeling.Transition at 0x7fcb7c5e8d00>,\n",
       " (('Susceptible_unconfined',\n",
       "   ('identity', 'ido:0000514'),\n",
       "   ('quarantined', 'ncit:C68851')),\n",
       "  ('Exposed', ('identity', 'apollosv:00000154')),\n",
       "  ('Infected_unreported',\n",
       "   ('identity', 'ido:0000511'),\n",
       "   ('diagnosed', 'ncit:C113725')),\n",
       "  'ControlledConversion'): <mira.modeling.Transition at 0x7fcb7c5e8c10>,\n",
       " (('Susceptible_unconfined',\n",
       "   ('identity', 'ido:0000514'),\n",
       "   ('quarantined', 'ncit:C68851')),\n",
       "  ('Quarantined', ('identity', 'ido:0000514'), ('quarantined', 'ncit:C71902')),\n",
       "  ('Infected_reported',\n",
       "   ('identity', 'ido:0000511'),\n",
       "   ('diagnosis', 'ncit:C15220')),\n",
       "  'ControlledConversion'): <mira.modeling.Transition at 0x7fcb7c5e8b20>,\n",
       " (('Susceptible_unconfined',\n",
       "   ('identity', 'ido:0000514'),\n",
       "   ('quarantined', 'ncit:C68851')),\n",
       "  ('Quarantined', ('identity', 'ido:0000514'), ('quarantined', 'ncit:C71902')),\n",
       "  ('Infected_unreported',\n",
       "   ('identity', 'ido:0000511'),\n",
       "   ('diagnosed', 'ncit:C113725')),\n",
       "  'ControlledConversion'): <mira.modeling.Transition at 0x7fcb7c5e8a90>,\n",
       " (('Quarantined', ('identity', 'ido:0000514'), ('quarantined', 'ncit:C71902')),\n",
       "  ('Infected_reported',\n",
       "   ('identity', 'ido:0000511'),\n",
       "   ('diagnosis', 'ncit:C15220')),\n",
       "  'NaturalConversion'): <mira.modeling.Transition at 0x7fcb7c5e87f0>,\n",
       " (('Exposed', ('identity', 'apollosv:00000154')),\n",
       "  ('Infected_reported',\n",
       "   ('identity', 'ido:0000511'),\n",
       "   ('diagnosis', 'ncit:C15220')),\n",
       "  'NaturalConversion'): <mira.modeling.Transition at 0x7fcb7c5e82b0>,\n",
       " (('Exposed', ('identity', 'apollosv:00000154')),\n",
       "  ('Infected_unreported',\n",
       "   ('identity', 'ido:0000511'),\n",
       "   ('diagnosed', 'ncit:C113725')),\n",
       "  'NaturalConversion'): <mira.modeling.Transition at 0x7fcb7c5e8370>,\n",
       " (('Infected_reported',\n",
       "   ('identity', 'ido:0000511'),\n",
       "   ('diagnosis', 'ncit:C15220')),\n",
       "  ('Recovered', ('identity', 'ido:0000592')),\n",
       "  'NaturalConversion'): <mira.modeling.Transition at 0x7fcb7c5e8550>,\n",
       " (('Infected_unreported',\n",
       "   ('identity', 'ido:0000511'),\n",
       "   ('diagnosed', 'ncit:C113725')),\n",
       "  ('Recovered', ('identity', 'ido:0000592')),\n",
       "  'NaturalConversion'): <mira.modeling.Transition at 0x7fcb7c5e8460>,\n",
       " (('Quarantined', ('identity', 'ido:0000514'), ('quarantined', 'ncit:C71902')),\n",
       "  ('Susceptible_unconfined',\n",
       "   ('identity', 'ido:0000514'),\n",
       "   ('quarantined', 'ncit:C68851')),\n",
       "  'NaturalConversion'): <mira.modeling.Transition at 0x7fcb7c5e8760>,\n",
       " (('Infected_reported',\n",
       "   ('identity', 'ido:0000511'),\n",
       "   ('diagnosis', 'ncit:C15220')),\n",
       "  ('Deceased', ('identity', 'ncit:C28554')),\n",
       "  'NaturalConversion'): <mira.modeling.Transition at 0x7fcb7c5ea170>}"
      ]
     },
     "execution_count": 44,
     "metadata": {},
     "output_type": "execute_result"
    }
   ],
   "source": [
    "model3.transitions"
   ]
  },
  {
   "cell_type": "code",
   "execution_count": 42,
   "metadata": {},
   "outputs": [
    {
     "data": {
      "text/plain": [
       "<function mira.modeling.ode.OdeModel.get_rhs.<locals>.rhs(t, y)>"
      ]
     },
     "execution_count": 42,
     "metadata": {},
     "output_type": "execute_result"
    }
   ],
   "source": [
    "from mira.modeling.ode import OdeModel\n",
    "\n",
    "ode1 = OdeModel(model1)\n",
    "\n",
    "ode1.set_parameters({'beta': 0.5})\n",
    "\n",
    "ode1.kinetics\n",
    "ode1.get_rhs()"
   ]
  },
  {
   "cell_type": "code",
   "execution_count": 35,
   "metadata": {},
   "outputs": [
    {
     "data": {
      "text/plain": [
       "ControlledConversion(rate_law=Infected_reported*Susceptible_unconfined*beta*n*(1.0 - sigma), type='ControlledConversion', controller=Concept(name='Infected_reported', identifiers={'ido': '0000511'}, context={'diagnosis': 'ncit:C15220'}), subject=Concept(name='Susceptible_unconfined', identifiers={'ido': '0000514'}, context={'quarantined': 'ncit:C68851'}), outcome=Concept(name='Exposed', identifiers={'apollosv': '00000154'}, context={}), provenance=[])"
      ]
     },
     "execution_count": 35,
     "metadata": {},
     "output_type": "execute_result"
    }
   ],
   "source": [
    "\n",
    "\n",
    "list(model3.transitions.values())[0].template"
   ]
  },
  {
   "cell_type": "code",
   "execution_count": 13,
   "metadata": {},
   "outputs": [],
   "source": [
    "import json\n",
    "import mira\n",
    "\n",
    "filename3 = \"BIOMD0000000983_template_model.json\"\n",
    "filename3 = os.path.join(MIRA_PATH, filename3)\n",
    "\n",
    "with open(filename3, \"r\") as f:\n",
    "    model_json3 = json.load(f)\n",
    "\n",
    "example_template = mira.metamodel.TemplateModel.from_json(model_json3)\n",
    "\n",
    "example_model = mira.modeling.Model(example_template)"
   ]
  },
  {
   "cell_type": "code",
   "execution_count": 14,
   "metadata": {},
   "outputs": [
    {
     "name": "stdout",
     "output_type": "stream",
     "text": [
      "f 0.2\n",
      "n 0.5\n",
      "q 0.83\n",
      "sigma 0.2\n",
      "beta 2.115e-08\n",
      "mu 0.2\n",
      "eta_r 0.1\n",
      "eta_u 0.25\n",
      "theta 0.07142857\n",
      "_1 1.0\n",
      "XXlambdaXX 0.3\n",
      "h 0.05\n"
     ]
    }
   ],
   "source": [
    "for p, v in example_template.parameters.items():\n",
    "    print(p, v.value)\n",
    "    "
   ]
  },
  {
   "cell_type": "code",
   "execution_count": null,
   "metadata": {},
   "outputs": [],
   "source": [
    "for p, v in example_template.parameters.items():\n",
    "    print(p, v.value)"
   ]
  }
 ],
 "metadata": {
  "kernelspec": {
   "display_name": "askem-test",
   "language": "python",
   "name": "python3"
  },
  "language_info": {
   "codemirror_mode": {
    "name": "ipython",
    "version": 3
   },
   "file_extension": ".py",
   "mimetype": "text/x-python",
   "name": "python",
   "nbconvert_exporter": "python",
   "pygments_lexer": "ipython3",
   "version": "3.10.0"
  },
  "orig_nbformat": 4
 },
 "nbformat": 4,
 "nbformat_minor": 2
}
