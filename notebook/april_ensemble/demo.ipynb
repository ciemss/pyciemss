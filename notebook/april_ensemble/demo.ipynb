{
 "cells": [
  {
   "attachments": {},
   "cell_type": "markdown",
   "metadata": {},
   "source": [
    "# Introduction\n",
    "------------\n",
    "\n",
    "## Extremely Brief Probabilistic Programming Background\n",
    "Probabilistic programming languages like `Pyro`, `Turing.jl`, `Gen.jl`, `Stan`, etc. (partially) automate the difficult task of probabilistic modeling and inference.\n",
    "\n",
    "TLDR: Bayes Theorem is very flexible and powerful, but hard to work with!\n",
    "\n",
    "These technologies build on techniques in programming languages theory, Bayesian statistics, and probabilistic machine learning to provide efficient model-agnostic approximate solutions to hard probabilsitic inference problems.\n",
    "\n",
    "## General ASKEM Goal 1: \n",
    "Represent dynamical systems models with uncertainty as probabilistic programs in a probabilistic programming language.\n",
    "\n",
    "## General ASKEM Goal 2:\n",
    "Represent ASKEM questions in terms of primitive query operations that PPLs (partially) automate for any probabilistic program. \n",
    "\n",
    "In `Pyro` and `CausalPyro`, the probabilistic programming languages we're using and developing: this includes operations like `sample`, `condition`, `intervene`, etc.\n",
    "\n",
    "## Ensemble Challenge Goal:\n",
    "Demonstrate how probabilsitic programming lets us think about probabilsitic models the way we think about software.\n",
    "\n",
    "First, we'll demonstrate how we can build probabilistic ensemble models compositionally from probabilsitic ODE models, with very few lines of code, and without losing any probabilsitic modeling functionality.\n",
    "\n",
    "Second, we'll show how to use our ASKEM-specific abstractions for building ensemble models in a no-code workflow. Using these abstractions, we'll make example forecasts based on historical data."
   ]
  },
  {
   "attachments": {},
   "cell_type": "markdown",
   "metadata": {},
   "source": [
    "-----------"
   ]
  },
  {
   "attachments": {},
   "cell_type": "markdown",
   "metadata": {},
   "source": [
    "# A Brief Tour of Ensemble Modeling in PyCIEMSS"
   ]
  },
  {
   "attachments": {},
   "cell_type": "markdown",
   "metadata": {},
   "source": [
    "```python\n",
    "class DynamicalSystem(pyro.nn.module):\n",
    "    \n",
    "    ...\n",
    "\n",
    "    def forward(self, *args, **kwargs) -> Solution:\n",
    "        '''\n",
    "        Joint distribution over model parameters, trajectories, and noisy observations.\n",
    "        '''\n",
    "        # Setup the anything the dynamical system needs before solving.\n",
    "        self.setup_before_solve()\n",
    "\n",
    "        # Sample parameters from the prior\n",
    "        self.param_prior()\n",
    "\n",
    "        # \"Solve\" the Dynamical System\n",
    "        solution = self.get_solution(*args, **kwargs)        \n",
    "\n",
    "        # Add the observation likelihoods for probabilistic inference (if applicable)\n",
    "        self.add_observation_likelihoods(solution)\n",
    "\n",
    "        return self.log_solution(solution) \n",
    "```"
   ]
  },
  {
   "attachments": {},
   "cell_type": "markdown",
   "metadata": {},
   "source": [
    "```python\n",
    "class ODESystem(DynamicalSystem):\n",
    "    \n",
    "    ...\n",
    "\n",
    "    def param_prior(self):\n",
    "        # Sample all of the parameters from the prior and store them as attributes of the ODESystem.\n",
    "        ...\n",
    "    \n",
    "    def get_solution(*args, **kwargs):\n",
    "        # Run an off-the-shelf ODE solver, using the parameters generated from the call to self.param_prior()\n",
    "        # Make sure to evaluate at all points the user wants logged, and at all observations.\n",
    "        ...\n",
    "        local_solution = torchdiffeq.odeint(self.deriv, initial_state, local_tspan)\n",
    "        ...\n",
    "    \n",
    "```"
   ]
  },
  {
   "attachments": {},
   "cell_type": "markdown",
   "metadata": {},
   "source": [
    "```python\n",
    "class EnsembleSystem(DynamicalSystem):\n",
    "\n",
    "        def __init__(self, \n",
    "                     models: List[DynamicalSystem], \n",
    "                     dirichlet_alpha: torch.tensor,\n",
    "                     solution_mappings: Callable) -> None:\n",
    "\n",
    "        self.models = models\n",
    "        self.dirichlet_alpha = dirichlet_alpha\n",
    "        self.solution_mappings = solution_mappings\n",
    "\n",
    "    ...\n",
    "\n",
    "    def param_prior(self):\n",
    "        # The prior distribution over parameters in an ensemble is just the prior distribution over each constituent model's parameters.\n",
    "        for i, model in enumerate(self.models):\n",
    "            with scope(prefix=f'model_{i}'):\n",
    "                model.param_prior()\n",
    "    \n",
    "    def get_solution(self, *args, **kwargs):\n",
    "        \n",
    "        # Sample model weights from a Dirichlet distribution\n",
    "        model_weights = pyro.sample('model_weights', pyro.distributions.Dirichlet(self.dirichlet_alpha))\n",
    "\n",
    "        # Solve the Dynamical System for each model in self.models, mapping outputs to the shared state representation.\n",
    "        solutions = [mapping(model.get_solution(*args, **kwargs)) for model, mapping in zip(self.models, self.solution_mappings)]\n",
    "\n",
    "        # Combine the ensemble solutions, scaled by `model_weights`.\n",
    "        solution = {k: sum([model_weights[i] * v[k] for i, v in enumerate(solutions)]) for k in solutions[0].keys()}\n",
    "\n",
    "        return solution\n",
    "```\n"
   ]
  },
  {
   "attachments": {},
   "cell_type": "markdown",
   "metadata": {},
   "source": [
    "---"
   ]
  },
  {
   "attachments": {},
   "cell_type": "markdown",
   "metadata": {},
   "source": [
    "# A Brief Tour of ASKEM-specific interfaces\n",
    "\n",
    "Here we show how PyCIEMSS can be used in a no-code (or low-code) modeling workflow"
   ]
  },
  {
   "cell_type": "code",
   "execution_count": 1,
   "metadata": {},
   "outputs": [],
   "source": [
    "# First, let's load the dependencies and set up the notebook environment.\n",
    "import os\n",
    "\n",
    "import torch\n",
    "import pandas as pd\n",
    "\n",
    "from pyciemss.PetriNetODE.interfaces import load_petri_model\n",
    "from pyciemss.Ensemble.interfaces import setup_model, reset_model, intervene, sample, calibrate, optimize"
   ]
  },
  {
   "attachments": {},
   "cell_type": "markdown",
   "metadata": {},
   "source": [
    "## Load Data"
   ]
  },
  {
   "cell_type": "code",
   "execution_count": 2,
   "metadata": {},
   "outputs": [
    {
     "data": {
      "text/html": [
       "<div>\n",
       "<style scoped>\n",
       "    .dataframe tbody tr th:only-of-type {\n",
       "        vertical-align: middle;\n",
       "    }\n",
       "\n",
       "    .dataframe tbody tr th {\n",
       "        vertical-align: top;\n",
       "    }\n",
       "\n",
       "    .dataframe thead th {\n",
       "        text-align: right;\n",
       "    }\n",
       "</style>\n",
       "<table border=\"1\" class=\"dataframe\">\n",
       "  <thead>\n",
       "    <tr style=\"text-align: right;\">\n",
       "      <th></th>\n",
       "      <th>date</th>\n",
       "      <th>case_census</th>\n",
       "      <th>cumulative_deaths</th>\n",
       "      <th>hospital_census</th>\n",
       "    </tr>\n",
       "  </thead>\n",
       "  <tbody>\n",
       "    <tr>\n",
       "      <th>0</th>\n",
       "      <td>2020-01-22</td>\n",
       "      <td>1</td>\n",
       "      <td>1</td>\n",
       "      <td>NaN</td>\n",
       "    </tr>\n",
       "    <tr>\n",
       "      <th>1</th>\n",
       "      <td>2020-01-23</td>\n",
       "      <td>1</td>\n",
       "      <td>1</td>\n",
       "      <td>NaN</td>\n",
       "    </tr>\n",
       "    <tr>\n",
       "      <th>2</th>\n",
       "      <td>2020-01-24</td>\n",
       "      <td>2</td>\n",
       "      <td>1</td>\n",
       "      <td>NaN</td>\n",
       "    </tr>\n",
       "    <tr>\n",
       "      <th>3</th>\n",
       "      <td>2020-01-25</td>\n",
       "      <td>2</td>\n",
       "      <td>1</td>\n",
       "      <td>NaN</td>\n",
       "    </tr>\n",
       "    <tr>\n",
       "      <th>4</th>\n",
       "      <td>2020-01-26</td>\n",
       "      <td>5</td>\n",
       "      <td>1</td>\n",
       "      <td>NaN</td>\n",
       "    </tr>\n",
       "    <tr>\n",
       "      <th>...</th>\n",
       "      <td>...</td>\n",
       "      <td>...</td>\n",
       "      <td>...</td>\n",
       "      <td>...</td>\n",
       "    </tr>\n",
       "    <tr>\n",
       "      <th>1133</th>\n",
       "      <td>2023-02-28</td>\n",
       "      <td>306041</td>\n",
       "      <td>1120002</td>\n",
       "      <td>19702.0</td>\n",
       "    </tr>\n",
       "    <tr>\n",
       "      <th>1134</th>\n",
       "      <td>2023-03-01</td>\n",
       "      <td>388037</td>\n",
       "      <td>1120911</td>\n",
       "      <td>19554.0</td>\n",
       "    </tr>\n",
       "    <tr>\n",
       "      <th>1135</th>\n",
       "      <td>2023-03-02</td>\n",
       "      <td>447253</td>\n",
       "      <td>1121667</td>\n",
       "      <td>19470.0</td>\n",
       "    </tr>\n",
       "    <tr>\n",
       "      <th>1136</th>\n",
       "      <td>2023-03-03</td>\n",
       "      <td>446842</td>\n",
       "      <td>1122157</td>\n",
       "      <td>19694.0</td>\n",
       "    </tr>\n",
       "    <tr>\n",
       "      <th>1137</th>\n",
       "      <td>2023-03-04</td>\n",
       "      <td>338633</td>\n",
       "      <td>1122164</td>\n",
       "      <td>19278.0</td>\n",
       "    </tr>\n",
       "  </tbody>\n",
       "</table>\n",
       "<p>1138 rows × 4 columns</p>\n",
       "</div>"
      ],
      "text/plain": [
       "            date  case_census  cumulative_deaths  hospital_census\n",
       "0     2020-01-22            1                  1              NaN\n",
       "1     2020-01-23            1                  1              NaN\n",
       "2     2020-01-24            2                  1              NaN\n",
       "3     2020-01-25            2                  1              NaN\n",
       "4     2020-01-26            5                  1              NaN\n",
       "...          ...          ...                ...              ...\n",
       "1133  2023-02-28       306041            1120002          19702.0\n",
       "1134  2023-03-01       388037            1120911          19554.0\n",
       "1135  2023-03-02       447253            1121667          19470.0\n",
       "1136  2023-03-03       446842            1122157          19694.0\n",
       "1137  2023-03-04       338633            1122164          19278.0\n",
       "\n",
       "[1138 rows x 4 columns]"
      ]
     },
     "execution_count": 2,
     "metadata": {},
     "output_type": "execute_result"
    }
   ],
   "source": [
    "\n",
    "# Load the data as a torch tensor.\n",
    "DATA_PATH = \"notebook/april_ensemble/covid_data/\"\n",
    "data_filename = \"US_case_hospital_death.csv\"\n",
    "data_filename = os.path.join(DATA_PATH, data_filename)\n",
    "\n",
    "data = pd.read_csv(data_filename)\n",
    "\n",
    "# data = torch.tensor(torch.load(data_filename))\n",
    "data"
   ]
  },
  {
   "attachments": {},
   "cell_type": "markdown",
   "metadata": {},
   "source": [
    "## Setup Models"
   ]
  },
  {
   "cell_type": "code",
   "execution_count": 3,
   "metadata": {},
   "outputs": [
    {
     "data": {
      "text/plain": [
       "ScaledBetaNoisePetriNetODESystem(\n",
       "\tbeta = Uniform(low: 0.00989999994635582, high: 0.01209999993443489),\n",
       "\tgamma = Uniform(low: 0.41040000319480896, high: 0.5016000270843506),\n",
       "\tdelta = Uniform(low: 0.00989999994635582, high: 0.01209999993443489),\n",
       "\talpha = Uniform(low: 0.5130000114440918, high: 0.6269999742507935),\n",
       "\tepsilon = Uniform(low: 0.15389999747276306, high: 0.18809999525547028),\n",
       "\tzeta = Uniform(low: 0.11249999701976776, high: 0.13750000298023224),\n",
       "\tXXlambdaXX = Uniform(low: 0.03060000017285347, high: 0.03739999979734421),\n",
       "\teta = Uniform(low: 0.11249999701976776, high: 0.13750000298023224),\n",
       "\trho = Uniform(low: 0.03060000017285347, high: 0.03739999979734421),\n",
       "\ttheta = Uniform(low: 0.33390000462532043, high: 0.4081000089645386),\n",
       "\tkappa = Uniform(low: 0.015300000086426735, high: 0.018699999898672104),\n",
       "\tmu = Uniform(low: 0.015300000086426735, high: 0.018699999898672104),\n",
       "\tnu = Uniform(low: 0.024299999698996544, high: 0.02969999983906746),\n",
       "\txi = Uniform(low: 0.015300000086426735, high: 0.018699999898672104),\n",
       "\ttau = Uniform(low: 0.008999999612569809, high: 0.010999999940395355),\n",
       "\tsigma = Uniform(low: 0.015300000086426735, high: 0.018699999898672104),\n",
       "\tpseudocount = 1.0\n",
       ")"
      ]
     },
     "execution_count": 3,
     "metadata": {},
     "output_type": "execute_result"
    }
   ],
   "source": [
    "MIRA_PATH = \"test/models/april_ensemble_demo/\"\n",
    "\n",
    "filename1 = \"BIOMD0000000955_template_model.json\"\n",
    "filename1 = os.path.join(MIRA_PATH, filename1)\n",
    "model1 = load_petri_model(filename1, add_uncertainty=True)\n",
    "\n",
    "\n",
    "# TODO: put this into the interfaces\n",
    "start_state1 = {k[0]: v.data['initial_value'] for k, v in model1.G.variables.items()}\n",
    "\n",
    "model1"
   ]
  },
  {
   "cell_type": "code",
   "execution_count": 4,
   "metadata": {},
   "outputs": [
    {
     "data": {
      "text/plain": [
       "{'Susceptible': 0.9999963,\n",
       " 'Infected': 3.33333333e-06,\n",
       " 'Diagnosed': 3.33333333e-07,\n",
       " 'Ailing': 1.66666666e-08,\n",
       " 'Recognized': 3.33333333e-08,\n",
       " 'Healed': 0.0,\n",
       " 'Threatened': 0.0,\n",
       " 'Extinct': 0.0}"
      ]
     },
     "execution_count": 4,
     "metadata": {},
     "output_type": "execute_result"
    }
   ],
   "source": [
    "start_state1"
   ]
  },
  {
   "cell_type": "code",
   "execution_count": 5,
   "metadata": {},
   "outputs": [],
   "source": [
    "# solution_mapping1 = lambda x : {\"Infected\": x[\"Infected\"]}\n",
    "def solution_mapping1(model1_solution: dict) -> dict:\n",
    "    mapped_dict = {}\n",
    "    mapped_dict[\"Infected\"] = model1_solution[\"Infected\"]\n",
    "    mapped_dict[\"Hospitalized\"] = model1_solution[\"Ailing\"]\n",
    "    mapped_dict[\"Dead\"] = model1_solution[\"Extinct\"]\n",
    "    return mapped_dict"
   ]
  },
  {
   "cell_type": "code",
   "execution_count": 6,
   "metadata": {},
   "outputs": [
    {
     "name": "stderr",
     "output_type": "stream",
     "text": [
      "/Users/sam-basis/Desktop/Research/pyciemss/src/pyciemss/PetriNetODE/base.py:415: UserWarning: Parameter ModelValue_5 has value 0.0 <= 0.0 and will be set to Uniform(0, 0.1)\n",
      "  warnings.warn(warnings_string)\n",
      "/Users/sam-basis/Desktop/Research/pyciemss/src/pyciemss/PetriNetODE/base.py:415: UserWarning: Parameter ModelValue_18 has value 0.0 <= 0.0 and will be set to Uniform(0, 0.1)\n",
      "  warnings.warn(warnings_string)\n",
      "/Users/sam-basis/Desktop/Research/pyciemss/src/pyciemss/PetriNetODE/base.py:415: UserWarning: Parameter mira_param_0 has value 0.0 <= 0.0 and will be set to Uniform(0, 0.1)\n",
      "  warnings.warn(warnings_string)\n",
      "/Users/sam-basis/Desktop/Research/pyciemss/src/pyciemss/PetriNetODE/base.py:415: UserWarning: Parameter mira_param_1 has value 0.0 <= 0.0 and will be set to Uniform(0, 0.1)\n",
      "  warnings.warn(warnings_string)\n",
      "/Users/sam-basis/Desktop/Research/pyciemss/src/pyciemss/PetriNetODE/base.py:415: UserWarning: Parameter mira_param_2 has value 0.0 <= 0.0 and will be set to Uniform(0, 0.1)\n",
      "  warnings.warn(warnings_string)\n",
      "/Users/sam-basis/Desktop/Research/pyciemss/src/pyciemss/PetriNetODE/base.py:415: UserWarning: Parameter mira_param_9 has value 0.0 <= 0.0 and will be set to Uniform(0, 0.1)\n",
      "  warnings.warn(warnings_string)\n"
     ]
    },
    {
     "data": {
      "text/plain": [
       "ScaledBetaNoisePetriNetODESystem(\n",
       "\tmira_param_0 = Uniform(low: 0.0, high: 0.10000000149011612),\n",
       "\tmira_param_1 = Uniform(low: 0.0, high: 0.10000000149011612),\n",
       "\tmira_param_2 = Uniform(low: 0.0, high: 0.10000000149011612),\n",
       "\tmira_param_3 = Uniform(low: 0.02098800055682659, high: 0.025652000680565834),\n",
       "\tmira_param_4 = Uniform(low: 0.37501201033592224, high: 0.45834800601005554),\n",
       "\tmira_param_5 = Uniform(low: 0.4526999890804291, high: 0.5533000230789185),\n",
       "\tmira_param_6 = Uniform(low: 0.23669999837875366, high: 0.28929999470710754),\n",
       "\tmira_param_7 = Uniform(low: 0.0027000000700354576, high: 0.0032999999821186066),\n",
       "\tmira_param_8 = Uniform(low: 1.4759999513626099, high: 1.8040000200271606),\n",
       "\tmira_param_9 = Uniform(low: 0.0, high: 0.10000000149011612),\n",
       "\tmira_param_10 = Uniform(low: 0.007199999876320362, high: 0.008799999952316284),\n",
       "\tmira_param_11 = Uniform(low: 0.12690000236034393, high: 0.1551000028848648),\n",
       "\tpseudocount = 1.0\n",
       ")"
      ]
     },
     "execution_count": 6,
     "metadata": {},
     "output_type": "execute_result"
    }
   ],
   "source": [
    "filename2 = \"BIOMD0000000960_template_model.json\"\n",
    "filename2 = os.path.join(MIRA_PATH, filename2)\n",
    "model2 = load_petri_model(filename2, add_uncertainty=True)\n",
    "\n",
    "\n",
    "# TODO: put this into the interfaces\n",
    "start_state2 = {k[0]: v.data['initial_value'] for k, v in model2.G.variables.items()}\n",
    "\n",
    "model2"
   ]
  },
  {
   "cell_type": "code",
   "execution_count": 7,
   "metadata": {},
   "outputs": [
    {
     "data": {
      "text/plain": [
       "{'Susceptible': 9900000.0,\n",
       " 'Exposed': 36600.0,\n",
       " 'Infectious': 732.0,\n",
       " 'Asymptomatic': 2196.0,\n",
       " 'Hospitalized': 0.0,\n",
       " 'Recovered': 0.0,\n",
       " 'Deceased': 0.0}"
      ]
     },
     "execution_count": 7,
     "metadata": {},
     "output_type": "execute_result"
    }
   ],
   "source": [
    "start_state2"
   ]
  },
  {
   "cell_type": "code",
   "execution_count": 8,
   "metadata": {},
   "outputs": [],
   "source": [
    "model2_total_population = sum(start_state2.values())\n",
    "\n",
    "def solution_mapping2(model2_solution: dict) -> dict:\n",
    "    mapped_dict = {}\n",
    "    mapped_dict[\"Infected\"] = model2_solution[\"Infectious\"] / model2_total_population\n",
    "    mapped_dict[\"Hospitalized\"] = model2_solution[\"Hospitalized\"] / model2_total_population\n",
    "    mapped_dict[\"Dead\"] = model2_solution[\"Deceased\"] / model2_total_population\n",
    "    return mapped_dict"
   ]
  },
  {
   "cell_type": "code",
   "execution_count": 9,
   "metadata": {},
   "outputs": [
    {
     "data": {
      "text/plain": [
       "ScaledBetaNoisePetriNetODESystem(\n",
       "\tmira_param_0 = Uniform(low: 7.614000097078133e-09, high: 9.306000414710525e-09),\n",
       "\tmira_param_1 = Uniform(low: 1.5228000194156266e-08, high: 1.861200082942105e-08),\n",
       "\tmira_param_2 = Uniform(low: 1.9035000242695332e-09, high: 2.326500103677631e-09),\n",
       "\tmira_param_3 = Uniform(low: 3.8070000485390665e-09, high: 4.653000207355262e-09),\n",
       "\tmira_param_4 = Uniform(low: 0.019285714253783226, high: 0.023571427911520004),\n",
       "\tmira_param_5 = Uniform(low: 0.035999998450279236, high: 0.04399999976158142),\n",
       "\tmira_param_6 = Uniform(low: 0.14399999380111694, high: 0.17599999904632568),\n",
       "\tmira_param_7 = Uniform(low: 0.09000000357627869, high: 0.10999999940395355),\n",
       "\tmira_param_8 = Uniform(low: 0.22499999403953552, high: 0.2750000059604645),\n",
       "\tmira_param_9 = Uniform(low: 0.044999998062849045, high: 0.054999999701976776),\n",
       "\tmira_param_10 = Uniform(low: 0.015300000086426735, high: 0.018699999898672104),\n",
       "\tpseudocount = 1.0\n",
       ")"
      ]
     },
     "execution_count": 9,
     "metadata": {},
     "output_type": "execute_result"
    }
   ],
   "source": [
    "filename3 = \"BIOMD0000000983_template_model.json\"\n",
    "filename3 = os.path.join(MIRA_PATH, filename3)\n",
    "model3 = load_petri_model(filename3, add_uncertainty=True)\n",
    "\n",
    "# TODO: put this into the interfaces\n",
    "start_state3 = {k[0]: v.data['initial_value'] for k, v in model3.G.variables.items()}\n",
    "start_state3['Deceased'] = 0.0\n",
    "\n",
    "model3"
   ]
  },
  {
   "cell_type": "code",
   "execution_count": 10,
   "metadata": {},
   "outputs": [
    {
     "data": {
      "text/plain": [
       "{'Susceptible_unconfined': 66990000.0,\n",
       " 'Exposed': 112.0,\n",
       " 'Infected_reported': 12.0,\n",
       " 'Infected_unreported': 50.0,\n",
       " 'Quarantined': 36.0,\n",
       " 'Recovered': 0.0,\n",
       " 'Deceased': 0.0}"
      ]
     },
     "execution_count": 10,
     "metadata": {},
     "output_type": "execute_result"
    }
   ],
   "source": [
    "start_state3"
   ]
  },
  {
   "cell_type": "code",
   "execution_count": 11,
   "metadata": {},
   "outputs": [],
   "source": [
    "model3_total_population = sum(start_state3.values())\n",
    "\n",
    "def solution_mapping3(model3_solution: dict) -> dict:\n",
    "    mapped_dict = {}\n",
    "    # Ideally we would make better use of this distinction between \"reported\" and \"unreported\".\n",
    "    # However, as other models don't include this distinction, we must instead sum them together to make solution outputs comparable.\n",
    "    mapped_dict[\"Infected\"] = (model3_solution[\"Infected_reported\"] + model3_solution[\"Infected_unreported\"]) / model3_total_population\n",
    "    mapped_dict[\"Hospitalized\"] = (model3_solution[\"Quarantined\"]) / model3_total_population\n",
    "    mapped_dict[\"Dead\"] = (model3_solution[\"Deceased\"]) / model3_total_population\n",
    "    return mapped_dict\n"
   ]
  },
  {
   "cell_type": "code",
   "execution_count": 12,
   "metadata": {},
   "outputs": [
    {
     "name": "stdout",
     "output_type": "stream",
     "text": [
      "Model 2 total population is 9939528.0\n",
      "Model 3 total population is 66990210.0\n",
      "These values are not equal, initiate reachback to TA1 and TA2!\n"
     ]
    }
   ],
   "source": [
    "print(f\"Model 2 total population is {model2_total_population}\")\n",
    "print(f\"Model 3 total population is {model3_total_population}\")\n",
    "print(\"These values are not equal, initiate reachback to TA1 and TA2!\")"
   ]
  },
  {
   "cell_type": "code",
   "execution_count": 13,
   "metadata": {},
   "outputs": [],
   "source": [
    "# Assert that all of the variables in the solution mappings are the same.\n",
    "assert(set(solution_mapping1(start_state1).keys()) \n",
    "       == set(solution_mapping2(start_state2).keys())\n",
    "       == set(solution_mapping3(start_state3).keys()))"
   ]
  },
  {
   "attachments": {},
   "cell_type": "markdown",
   "metadata": {},
   "source": [
    "## Setup some plotting utilities"
   ]
  },
  {
   "cell_type": "code",
   "execution_count": 33,
   "metadata": {},
   "outputs": [],
   "source": [
    "import matplotlib.pyplot as plt\n",
    "\n",
    "def setup_ax(ax=None):\n",
    "\n",
    "    if not ax:\n",
    "        fig = plt.figure(facecolor='w', figsize=(9, 9))\n",
    "        ax = fig.add_subplot(111, axisbelow=True)\n",
    "\n",
    "    ax.set_xlabel('Time (days)')\n",
    "    ax.set_ylabel('Dead (Prop. of Population)')\n",
    "    return ax\n",
    "\n",
    "def plot_predictive(prediction, tspan, tmin=None, ax=None, alpha=0.2, color=\"black\", **kwargs):\n",
    "    vars = [\"Dead_sol\"]\n",
    "\n",
    "    tspan = torch.as_tensor(tspan)\n",
    "    \n",
    "    I_low = torch.quantile(prediction[\"Dead_sol\"], 0.05, dim=0).detach().numpy()\n",
    "    I_up = torch.quantile(prediction[\"Dead_sol\"], 0.95, dim=0).detach().numpy()\n",
    "\n",
    "    if tmin:\n",
    "        indeces = tspan >= tmin\n",
    "    else:\n",
    "        indeces = torch.ones_like(tspan).bool()\n",
    "\n",
    "    if not ax:\n",
    "        fig = plt.figure(facecolor='w')\n",
    "        ax = fig.add_subplot(111, facecolor='#dddddd', axisbelow=True)\n",
    "    \n",
    "    ax.fill_between(tspan[indeces], I_low[indeces], I_up[indeces], alpha=alpha, color=color, **kwargs)\n",
    "\n",
    "    legend = ax.legend()\n",
    "    legend.get_frame().set_alpha(0.5)\n",
    "\n",
    "    return ax"
   ]
  },
  {
   "attachments": {},
   "cell_type": "markdown",
   "metadata": {},
   "source": [
    "## Prior samples from each individual model"
   ]
  },
  {
   "cell_type": "code",
   "execution_count": 34,
   "metadata": {},
   "outputs": [
    {
     "data": {
      "image/png": "[encoded data removed]",
      "text/plain": [
       "<Figure size 900x900 with 1 Axes>"
      ]
     },
     "metadata": {},
     "output_type": "display_data"
    }
   ],
   "source": [
    "timepoints = range(1, 100)\n",
    "num_samples = 50\n",
    "\n",
    "# Wrapping model1 in a single \"ensemble\" model automatically applies the solution mapping functions, making these three models easier to compare.\n",
    "ensemble1 = setup_model([model1], weights=[1.0], start_time=0.0, start_states=[start_state1], solution_mappings=[solution_mapping1])\n",
    "ensemble1_solution = sample(ensemble1, timepoints, num_samples)\n",
    "\n",
    "ensemble2 = setup_model([model2], weights=[1.0], start_time=0.0, start_states=[start_state2], solution_mappings=[solution_mapping2])\n",
    "ensemble2_solution = sample(ensemble2, timepoints, num_samples)\n",
    "\n",
    "ensemble3 = setup_model([model3], weights=[1.0], start_time=0.0, start_states=[start_state3], solution_mappings=[solution_mapping3])\n",
    "ensemble3_solution = sample(ensemble3, timepoints, num_samples)\n",
    "\n",
    "# Plot trajectories from the prior.\n",
    "ax = plot_predictive(ensemble1_solution, timepoints, ax=setup_ax(), color=\"blue\", label=\"Model 1 Prior\")\n",
    "ax = plot_predictive(ensemble2_solution, timepoints, ax=ax, color=\"red\", label=\"Model 2 Prior\")\n",
    "ax = plot_predictive(ensemble3_solution, timepoints, ax=ax, color=\"green\", label=\"Model 3 Prior\")"
   ]
  },
  {
   "attachments": {},
   "cell_type": "markdown",
   "metadata": {},
   "source": [
    "## Setup the full ensemble of all three models"
   ]
  },
  {
   "cell_type": "code",
   "execution_count": 39,
   "metadata": {},
   "outputs": [
    {
     "data": {
      "text/plain": [
       "Ensemble of 3 models. \n",
       "\n",
       " \tDirichlet Alpha: tensor([3.3333, 3.3333, 3.3333]). \n",
       "\n",
       " \tModels: [ScaledBetaNoisePetriNetODESystem(\n",
       "\tbeta = Uniform(low: 0.00989999994635582, high: 0.01209999993443489),\n",
       "\tgamma = Uniform(low: 0.41040000319480896, high: 0.5016000270843506),\n",
       "\tdelta = Uniform(low: 0.00989999994635582, high: 0.01209999993443489),\n",
       "\talpha = Uniform(low: 0.5130000114440918, high: 0.6269999742507935),\n",
       "\tepsilon = Uniform(low: 0.15389999747276306, high: 0.18809999525547028),\n",
       "\tzeta = Uniform(low: 0.11249999701976776, high: 0.13750000298023224),\n",
       "\tXXlambdaXX = Uniform(low: 0.03060000017285347, high: 0.03739999979734421),\n",
       "\teta = Uniform(low: 0.11249999701976776, high: 0.13750000298023224),\n",
       "\trho = Uniform(low: 0.03060000017285347, high: 0.03739999979734421),\n",
       "\ttheta = Uniform(low: 0.33390000462532043, high: 0.4081000089645386),\n",
       "\tkappa = Uniform(low: 0.015300000086426735, high: 0.018699999898672104),\n",
       "\tmu = Uniform(low: 0.015300000086426735, high: 0.018699999898672104),\n",
       "\tnu = Uniform(low: 0.024299999698996544, high: 0.02969999983906746),\n",
       "\txi = Uniform(low: 0.015300000086426735, high: 0.018699999898672104),\n",
       "\ttau = Uniform(low: 0.008999999612569809, high: 0.010999999940395355),\n",
       "\tsigma = Uniform(low: 0.015300000086426735, high: 0.018699999898672104),\n",
       "\tpseudocount = 1.0\n",
       "), ScaledBetaNoisePetriNetODESystem(\n",
       "\tmira_param_0 = Uniform(low: 0.0, high: 0.10000000149011612),\n",
       "\tmira_param_1 = Uniform(low: 0.0, high: 0.10000000149011612),\n",
       "\tmira_param_2 = Uniform(low: 0.0, high: 0.10000000149011612),\n",
       "\tmira_param_3 = Uniform(low: 0.02098800055682659, high: 0.025652000680565834),\n",
       "\tmira_param_4 = Uniform(low: 0.37501201033592224, high: 0.45834800601005554),\n",
       "\tmira_param_5 = Uniform(low: 0.4526999890804291, high: 0.5533000230789185),\n",
       "\tmira_param_6 = Uniform(low: 0.23669999837875366, high: 0.28929999470710754),\n",
       "\tmira_param_7 = Uniform(low: 0.0027000000700354576, high: 0.0032999999821186066),\n",
       "\tmira_param_8 = Uniform(low: 1.4759999513626099, high: 1.8040000200271606),\n",
       "\tmira_param_9 = Uniform(low: 0.0, high: 0.10000000149011612),\n",
       "\tmira_param_10 = Uniform(low: 0.007199999876320362, high: 0.008799999952316284),\n",
       "\tmira_param_11 = Uniform(low: 0.12690000236034393, high: 0.1551000028848648),\n",
       "\tpseudocount = 1.0\n",
       "), ScaledBetaNoisePetriNetODESystem(\n",
       "\tmira_param_0 = Uniform(low: 7.614000097078133e-09, high: 9.306000414710525e-09),\n",
       "\tmira_param_1 = Uniform(low: 1.5228000194156266e-08, high: 1.861200082942105e-08),\n",
       "\tmira_param_2 = Uniform(low: 1.9035000242695332e-09, high: 2.326500103677631e-09),\n",
       "\tmira_param_3 = Uniform(low: 3.8070000485390665e-09, high: 4.653000207355262e-09),\n",
       "\tmira_param_4 = Uniform(low: 0.019285714253783226, high: 0.023571427911520004),\n",
       "\tmira_param_5 = Uniform(low: 0.035999998450279236, high: 0.04399999976158142),\n",
       "\tmira_param_6 = Uniform(low: 0.14399999380111694, high: 0.17599999904632568),\n",
       "\tmira_param_7 = Uniform(low: 0.09000000357627869, high: 0.10999999940395355),\n",
       "\tmira_param_8 = Uniform(low: 0.22499999403953552, high: 0.2750000059604645),\n",
       "\tmira_param_9 = Uniform(low: 0.044999998062849045, high: 0.054999999701976776),\n",
       "\tmira_param_10 = Uniform(low: 0.015300000086426735, high: 0.018699999898672104),\n",
       "\tpseudocount = 1.0\n",
       ")]"
      ]
     },
     "execution_count": 39,
     "metadata": {},
     "output_type": "execute_result"
    }
   ],
   "source": [
    "# Setup the Ensemble\n",
    "\n",
    "models = [model1, model2, model3]\n",
    "weights = [1/3, 1/3, 1/3]\n",
    "start_time = 0.0\n",
    "\n",
    "start_states = [start_state1, start_state2, start_state3]\n",
    "solution_mappings = [solution_mapping1, solution_mapping2, solution_mapping3]\n",
    "\n",
    "total_population = 1.0\n",
    "dirichlet_concentration = 10.0\n",
    "\n",
    "ensemble = setup_model(models, \n",
    "                       weights, \n",
    "                       solution_mappings, \n",
    "                       start_time, \n",
    "                       start_states, \n",
    "                       total_population, \n",
    "                       dirichlet_concentration=dirichlet_concentration)\n",
    "ensemble"
   ]
  },
  {
   "cell_type": "code",
   "execution_count": 40,
   "metadata": {},
   "outputs": [
    {
     "data": {
      "image/png": "[encoded data removed]",
      "text/plain": [
       "<Figure size 900x900 with 1 Axes>"
      ]
     },
     "metadata": {},
     "output_type": "display_data"
    }
   ],
   "source": [
    "# Sample from the Ensemble\n",
    "ensemble_solution = sample(ensemble, timepoints, num_samples)\n",
    "ax = plot_predictive(ensemble_solution, timepoints, ax=setup_ax(), color=\"blue\", label=\"Ensemble Model Prior\")"
   ]
  },
  {
   "attachments": {},
   "cell_type": "markdown",
   "metadata": {},
   "source": [
    "## Calibration"
   ]
  },
  {
   "cell_type": "code",
   "execution_count": 94,
   "metadata": {},
   "outputs": [],
   "source": [
    "total_population = 331893745\n",
    "\n",
    "def get_filtered_data(data: pd.DataFrame, start_date: str, end_date: str) -> pd.DataFrame:\n",
    "    filtered_df = data[(data['date'] >= start_date) & (data['date'] <= end_date)]\n",
    "    filtered_data = [0] * filtered_df.shape[0]\n",
    "    start_time = filtered_df.index[0]\n",
    "\n",
    "    for time, row in filtered_df.iterrows():\n",
    "        row_dict = {}\n",
    "        row_dict[\"Infected\"] = row[\"case_census\"] / total_population\n",
    "        row_dict[\"Dead\"] = row[\"cumulative_deaths\"] / total_population\n",
    "        if row[\"hospital_census\"] > 0:\n",
    "            row_dict[\"Hospitalized\"] = row[\"hospital_census\"] / total_population\n",
    "\n",
    "        index = time - start_time\n",
    "        filtered_data[index] = (float(time), row_dict)\n",
    "\n",
    "    return filtered_data\n",
    "    "
   ]
  },
  {
   "cell_type": "code",
   "execution_count": 98,
   "metadata": {},
   "outputs": [],
   "source": [
    "filtered_data = get_filtered_data(data, \"2020-01-22\", \"2020-01-30\")"
   ]
  },
  {
   "cell_type": "code",
   "execution_count": 8,
   "metadata": {},
   "outputs": [
    {
     "name": "stdout",
     "output_type": "stream",
     "text": [
      "iteration 0: loss = 121.81931269168854\n",
      "iteration 25: loss = 83.86965811252594\n",
      "iteration 50: loss = 56.698450922966\n",
      "iteration 75: loss = 45.0703843832016\n"
     ]
    }
   ],
   "source": [
    "inferred_parameters = calibrate(ensemble, data, num_iterations=100, verbose=True)"
   ]
  },
  {
   "cell_type": "code",
   "execution_count": 11,
   "metadata": {},
   "outputs": [
    {
     "data": {
      "text/plain": [
       "{'model_0/beta': tensor([0.0116, 0.0104, 0.0109, 0.0109, 0.0106, 0.0111, 0.0118, 0.0114]),\n",
       " 'model_0/gamma': tensor([0.4782, 0.4203, 0.4472, 0.4657, 0.4172, 0.4556, 0.4303, 0.4709]),\n",
       " 'model_0/delta': tensor([0.0115, 0.0113, 0.0116, 0.0113, 0.0105, 0.0118, 0.0114, 0.0108]),\n",
       " 'model_0/alpha': tensor([0.5262, 0.5824, 0.5639, 0.5621, 0.5608, 0.5868, 0.5840, 0.5672]),\n",
       " 'model_0/epsilon': tensor([0.1820, 0.1556, 0.1728, 0.1761, 0.1654, 0.1749, 0.1602, 0.1680]),\n",
       " 'model_0/zeta': tensor([0.1243, 0.1143, 0.1306, 0.1294, 0.1241, 0.1320, 0.1191, 0.1159]),\n",
       " 'model_0/XXlambdaXX': tensor([0.0350, 0.0328, 0.0348, 0.0366, 0.0329, 0.0368, 0.0357, 0.0331]),\n",
       " 'model_0/eta': tensor([0.1330, 0.1187, 0.1320, 0.1229, 0.1165, 0.1274, 0.1274, 0.1272]),\n",
       " 'model_0/rho': tensor([0.0358, 0.0318, 0.0346, 0.0334, 0.0325, 0.0322, 0.0332, 0.0347]),\n",
       " 'model_0/theta': tensor([0.3914, 0.3517, 0.3714, 0.3847, 0.3689, 0.3951, 0.3489, 0.3693]),\n",
       " 'model_0/kappa': tensor([0.0159, 0.0171, 0.0172, 0.0168, 0.0172, 0.0187, 0.0168, 0.0162]),\n",
       " 'model_0/mu': tensor([0.0164, 0.0184, 0.0177, 0.0165, 0.0158, 0.0182, 0.0180, 0.0179]),\n",
       " 'model_0/nu': tensor([0.0277, 0.0262, 0.0257, 0.0261, 0.0264, 0.0249, 0.0279, 0.0293]),\n",
       " 'model_0/xi': tensor([0.0159, 0.0171, 0.0175, 0.0164, 0.0168, 0.0180, 0.0171, 0.0163]),\n",
       " 'model_0/tau': tensor([0.0097, 0.0100, 0.0098, 0.0099, 0.0097, 0.0092, 0.0091, 0.0100]),\n",
       " 'model_0/sigma': tensor([0.0177, 0.0174, 0.0183, 0.0168, 0.0166, 0.0184, 0.0181, 0.0180]),\n",
       " 'model_1/mira_param_0': tensor([0.0331, 0.0714, 0.0539, 0.0562, 0.0457, 0.0589, 0.0307, 0.0624]),\n",
       " 'model_1/mira_param_1': tensor([0.0116, 0.0260, 0.0535, 0.0506, 0.0764, 0.0945, 0.0060, 0.0111]),\n",
       " 'model_1/mira_param_2': tensor([0.0922, 0.0235, 0.0420, 0.0244, 0.0312, 0.0484, 0.0743, 0.0801]),\n",
       " 'model_1/mira_param_3': tensor([0.0246, 0.0231, 0.0230, 0.0248, 0.0241, 0.0227, 0.0238, 0.0231]),\n",
       " 'model_1/mira_param_4': tensor([0.3875, 0.4528, 0.3987, 0.4133, 0.4413, 0.4228, 0.4069, 0.3966]),\n",
       " 'model_1/mira_param_5': tensor([0.5337, 0.4710, 0.5181, 0.5203, 0.5036, 0.5269, 0.5377, 0.4907]),\n",
       " 'model_1/mira_param_6': tensor([0.2803, 0.2537, 0.2567, 0.2581, 0.2522, 0.2513, 0.2473, 0.2620]),\n",
       " 'model_1/mira_param_7': tensor([0.0030, 0.0029, 0.0031, 0.0029, 0.0032, 0.0028, 0.0030, 0.0031]),\n",
       " 'model_1/mira_param_8': tensor([1.5735, 1.5523, 1.6184, 1.5459, 1.5995, 1.6641, 1.5724, 1.6115]),\n",
       " 'model_1/mira_param_9': tensor([0.0845, 0.0345, 0.0467, 0.0820, 0.0836, 0.0466, 0.0689, 0.0590]),\n",
       " 'model_1/mira_param_10': tensor([0.0076, 0.0083, 0.0080, 0.0076, 0.0084, 0.0085, 0.0082, 0.0080]),\n",
       " 'model_1/mira_param_11': tensor([0.1395, 0.1445, 0.1327, 0.1505, 0.1440, 0.1462, 0.1500, 0.1307]),\n",
       " 'model_2/mira_param_0': tensor([7.9211e-09, 8.8861e-09, 8.3474e-09, 8.8837e-09, 8.1196e-09, 8.5771e-09,\n",
       "         7.9741e-09, 8.5275e-09]),\n",
       " 'model_2/mira_param_1': tensor([1.5944e-08, 1.6628e-08, 1.6585e-08, 1.7801e-08, 1.7151e-08, 1.8117e-08,\n",
       "         1.7147e-08, 1.5857e-08]),\n",
       " 'model_2/mira_param_2': tensor([2.2554e-09, 1.9415e-09, 2.1852e-09, 2.2316e-09, 2.2289e-09, 2.0778e-09,\n",
       "         2.2129e-09, 2.0263e-09]),\n",
       " 'model_2/mira_param_3': tensor([4.5298e-09, 4.0230e-09, 4.0656e-09, 4.5318e-09, 4.0495e-09, 4.3607e-09,\n",
       "         4.1277e-09, 3.9628e-09]),\n",
       " 'model_2/mira_param_4': tensor([0.0232, 0.0198, 0.0228, 0.0216, 0.0212, 0.0220, 0.0211, 0.0212]),\n",
       " 'model_2/mira_param_5': tensor([0.0393, 0.0410, 0.0413, 0.0409, 0.0397, 0.0366, 0.0396, 0.0406]),\n",
       " 'model_2/mira_param_6': tensor([0.1639, 0.1592, 0.1541, 0.1692, 0.1625, 0.1537, 0.1609, 0.1539]),\n",
       " 'model_2/mira_param_7': tensor([0.1026, 0.1014, 0.1035, 0.0934, 0.0944, 0.1011, 0.0997, 0.0982]),\n",
       " 'model_2/mira_param_8': tensor([0.2402, 0.2654, 0.2460, 0.2496, 0.2607, 0.2601, 0.2377, 0.2452]),\n",
       " 'model_2/mira_param_9': tensor([0.0465, 0.0544, 0.0495, 0.0455, 0.0499, 0.0542, 0.0527, 0.0482]),\n",
       " 'model_2/mira_param_10': tensor([0.0176, 0.0162, 0.0163, 0.0165, 0.0170, 0.0170, 0.0155, 0.0163]),\n",
       " 'model_weights': tensor([[0.3027, 0.2200, 0.4773],\n",
       "         [0.2903, 0.3552, 0.3545],\n",
       "         [0.2107, 0.3870, 0.4023],\n",
       "         [0.2705, 0.3121, 0.4173],\n",
       "         [0.3593, 0.3126, 0.3281],\n",
       "         [0.3600, 0.1929, 0.4470],\n",
       "         [0.5180, 0.2712, 0.2108],\n",
       "         [0.5660, 0.1870, 0.2470]]),\n",
       " 'Infected_sol': tensor([[3.8401e-06, 5.4951e-06, 1.5393e-05],\n",
       "         [3.9244e-06, 6.6591e-06, 3.0117e-05],\n",
       "         [3.7980e-06, 4.8443e-06, 1.5360e-05],\n",
       "         [3.8970e-06, 5.6125e-06, 1.8760e-05],\n",
       "         [3.9375e-06, 6.7313e-06, 2.6356e-05],\n",
       "         [3.8841e-06, 7.2652e-06, 2.9906e-05],\n",
       "         [4.0984e-06, 9.8581e-06, 4.9988e-05],\n",
       "         [4.0888e-06, 9.9819e-06, 4.7079e-05]])}"
      ]
     },
     "execution_count": 11,
     "metadata": {},
     "output_type": "execute_result"
    }
   ],
   "source": [
    "forecasts = sample(ensemble, timepoints, num_samples, inferred_parameters)\n",
    "forecasts"
   ]
  }
 ],
 "metadata": {
  "kernelspec": {
   "display_name": "askem-test",
   "language": "python",
   "name": "python3"
  },
  "language_info": {
   "codemirror_mode": {
    "name": "ipython",
    "version": 3
   },
   "file_extension": ".py",
   "mimetype": "text/x-python",
   "name": "python",
   "nbconvert_exporter": "python",
   "pygments_lexer": "ipython3",
   "version": "3.10.0"
  },
  "orig_nbformat": 4
 },
 "nbformat": 4,
 "nbformat_minor": 2
}
