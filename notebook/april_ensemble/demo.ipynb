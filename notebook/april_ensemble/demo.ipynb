{
 "cells": [
  {
   "cell_type": "code",
   "execution_count": 1,
   "metadata": {},
   "outputs": [],
   "source": [
    "import os\n",
    "import copy\n",
    "\n",
    "from pyciemss.PetriNetODE.base import MiraPetriNetODESystem, ScaledBetaNoisePetriNetODESystem\n",
    "from pyciemss.PetriNetODE.events import Event, StartEvent, LoggingEvent, ObservationEvent, StaticParameterInterventionEvent\n",
    "from pyciemss.Ensemble.base import EnsembleSystem\n",
    "import pyciemss\n",
    "\n",
    "from pyciemss.PetriNetODE.interfaces import load_petri_model\n",
    "from pyciemss.Ensemble.interfaces import setup_model, reset_model, intervene, sample, calibrate, optimize"
   ]
  },
  {
   "cell_type": "code",
   "execution_count": 2,
   "metadata": {},
   "outputs": [
    {
     "data": {
      "text/plain": [
       "ScaledBetaNoisePetriNetODESystem(\n",
       "\tbeta = Uniform(low: 0.00989999994635582, high: 0.01209999993443489),\n",
       "\tgamma = Uniform(low: 0.41040000319480896, high: 0.5016000270843506),\n",
       "\tdelta = Uniform(low: 0.00989999994635582, high: 0.01209999993443489),\n",
       "\talpha = Uniform(low: 0.5130000114440918, high: 0.6269999742507935),\n",
       "\tepsilon = Uniform(low: 0.15389999747276306, high: 0.18809999525547028),\n",
       "\tzeta = Uniform(low: 0.11249999701976776, high: 0.13750000298023224),\n",
       "\tXXlambdaXX = Uniform(low: 0.03060000017285347, high: 0.03739999979734421),\n",
       "\teta = Uniform(low: 0.11249999701976776, high: 0.13750000298023224),\n",
       "\trho = Uniform(low: 0.03060000017285347, high: 0.03739999979734421),\n",
       "\ttheta = Uniform(low: 0.33390000462532043, high: 0.4081000089645386),\n",
       "\tkappa = Uniform(low: 0.015300000086426735, high: 0.018699999898672104),\n",
       "\tmu = Uniform(low: 0.015300000086426735, high: 0.018699999898672104),\n",
       "\tnu = Uniform(low: 0.024299999698996544, high: 0.02969999983906746),\n",
       "\txi = Uniform(low: 0.015300000086426735, high: 0.018699999898672104),\n",
       "\ttau = Uniform(low: 0.008999999612569809, high: 0.010999999940395355),\n",
       "\tsigma = Uniform(low: 0.015300000086426735, high: 0.018699999898672104),\n",
       "\tpseudocount = 1.0\n",
       ")"
      ]
     },
     "execution_count": 2,
     "metadata": {},
     "output_type": "execute_result"
    }
   ],
   "source": [
    "MIRA_PATH = \"test/models/april_ensemble_demo/\"\n",
    "\n",
    "filename1 = \"BIOMD0000000955_template_model.json\"\n",
    "filename1 = os.path.join(MIRA_PATH, filename1)\n",
    "model1 = load_petri_model(filename1, add_uncertainty=True)\n",
    "\n",
    "\n",
    "# TODO: put this into the interfaces\n",
    "start_state1 = {k[0]: v.data['initial_value'] for k, v in model1.G.variables.items()}\n",
    "\n",
    "model1"
   ]
  },
  {
   "cell_type": "code",
   "execution_count": 3,
   "metadata": {},
   "outputs": [
    {
     "data": {
      "text/plain": [
       "ScaledBetaNoisePetriNetODESystem(\n",
       "\tmira_param_0 = Uniform(low: 0.0, high: 0.10000000149011612),\n",
       "\tmira_param_1 = Uniform(low: 0.0, high: 0.10000000149011612),\n",
       "\tmira_param_2 = Uniform(low: 0.0, high: 0.10000000149011612),\n",
       "\tmira_param_3 = Uniform(low: 0.02098800055682659, high: 0.025652000680565834),\n",
       "\tmira_param_4 = Uniform(low: 0.37501201033592224, high: 0.45834800601005554),\n",
       "\tmira_param_5 = Uniform(low: 0.4526999890804291, high: 0.5533000230789185),\n",
       "\tmira_param_6 = Uniform(low: 0.23669999837875366, high: 0.28929999470710754),\n",
       "\tmira_param_7 = Uniform(low: 0.0027000000700354576, high: 0.0032999999821186066),\n",
       "\tmira_param_8 = Uniform(low: 1.4759999513626099, high: 1.8040000200271606),\n",
       "\tmira_param_9 = Uniform(low: 0.0, high: 0.10000000149011612),\n",
       "\tmira_param_10 = Uniform(low: 0.007199999876320362, high: 0.008799999952316284),\n",
       "\tmira_param_11 = Uniform(low: 0.12690000236034393, high: 0.1551000028848648),\n",
       "\tpseudocount = 1.0\n",
       ")"
      ]
     },
     "execution_count": 3,
     "metadata": {},
     "output_type": "execute_result"
    }
   ],
   "source": [
    "filename2 = \"BIOMD0000000960_template_model.json\"\n",
    "filename2 = os.path.join(MIRA_PATH, filename2)\n",
    "model2 = load_petri_model(filename2, add_uncertainty=True)\n",
    "\n",
    "\n",
    "# TODO: put this into the interfaces\n",
    "start_state2 = {k[0]: v.data['initial_value'] for k, v in model2.G.variables.items()}\n",
    "\n",
    "model2"
   ]
  },
  {
   "cell_type": "code",
   "execution_count": 4,
   "metadata": {},
   "outputs": [],
   "source": [
    "from math import isclose\n",
    "\n",
    "solution_ratio = start_state2['Infectious'] / start_state1['Infected']\n",
    "solution_mapping1 = lambda x : {\"Infected\": x[\"Infected\"]}\n",
    "solution_mapping2 = lambda x: {\"Infected\": x[\"Infectious\"] / solution_ratio}\n",
    "\n",
    "# Assert that all of the variables in the solution mappings are the same.\n",
    "assert(set(solution_mapping1(start_state1).keys()) == set(solution_mapping2(start_state2).keys()))\n",
    "\n",
    "# Assert that the solution mappings are correct.\n",
    "assert(isclose(solution_mapping1(start_state1)[\"Infected\"], solution_mapping2(start_state2)[\"Infected\"]))"
   ]
  },
  {
   "cell_type": "code",
   "execution_count": 5,
   "metadata": {},
   "outputs": [],
   "source": [
    "# # JEREMY LOOK HERE.\n",
    "\n",
    "# filename3 = \"BIOMD0000000983_template_model.json\"\n",
    "# filename3 = os.path.join(MIRA_PATH, filename3)\n",
    "# model3 = load_petri_model(filename3, add_uncertainty=True)\n",
    "\n",
    "# # TODO: put this into the interfaces\n",
    "# start_state3 = {k[0]: v.data['initial_value'] for k, v in model3.G.variables.items()}\n",
    "\n",
    "# model3"
   ]
  },
  {
   "cell_type": "code",
   "execution_count": 7,
   "metadata": {},
   "outputs": [
    {
     "data": {
      "text/plain": [
       "Ensemble of 2 models. \n",
       "\n",
       " \tDirichlet Alpha: tensor([5., 5.]). \n",
       "\n",
       " \tModels: [ScaledBetaNoisePetriNetODESystem(\n",
       "\tbeta = Uniform(low: 0.00989999994635582, high: 0.01209999993443489),\n",
       "\tgamma = Uniform(low: 0.41040000319480896, high: 0.5016000270843506),\n",
       "\tdelta = Uniform(low: 0.00989999994635582, high: 0.01209999993443489),\n",
       "\talpha = Uniform(low: 0.5130000114440918, high: 0.6269999742507935),\n",
       "\tepsilon = Uniform(low: 0.15389999747276306, high: 0.18809999525547028),\n",
       "\tzeta = Uniform(low: 0.11249999701976776, high: 0.13750000298023224),\n",
       "\tXXlambdaXX = Uniform(low: 0.03060000017285347, high: 0.03739999979734421),\n",
       "\teta = Uniform(low: 0.11249999701976776, high: 0.13750000298023224),\n",
       "\trho = Uniform(low: 0.03060000017285347, high: 0.03739999979734421),\n",
       "\ttheta = Uniform(low: 0.33390000462532043, high: 0.4081000089645386),\n",
       "\tkappa = Uniform(low: 0.015300000086426735, high: 0.018699999898672104),\n",
       "\tmu = Uniform(low: 0.015300000086426735, high: 0.018699999898672104),\n",
       "\tnu = Uniform(low: 0.024299999698996544, high: 0.02969999983906746),\n",
       "\txi = Uniform(low: 0.015300000086426735, high: 0.018699999898672104),\n",
       "\ttau = Uniform(low: 0.008999999612569809, high: 0.010999999940395355),\n",
       "\tsigma = Uniform(low: 0.015300000086426735, high: 0.018699999898672104),\n",
       "\tpseudocount = 1.0\n",
       "), ScaledBetaNoisePetriNetODESystem(\n",
       "\tmira_param_0 = Uniform(low: 0.0, high: 0.10000000149011612),\n",
       "\tmira_param_1 = Uniform(low: 0.0, high: 0.10000000149011612),\n",
       "\tmira_param_2 = Uniform(low: 0.0, high: 0.10000000149011612),\n",
       "\tmira_param_3 = Uniform(low: 0.02098800055682659, high: 0.025652000680565834),\n",
       "\tmira_param_4 = Uniform(low: 0.37501201033592224, high: 0.45834800601005554),\n",
       "\tmira_param_5 = Uniform(low: 0.4526999890804291, high: 0.5533000230789185),\n",
       "\tmira_param_6 = Uniform(low: 0.23669999837875366, high: 0.28929999470710754),\n",
       "\tmira_param_7 = Uniform(low: 0.0027000000700354576, high: 0.0032999999821186066),\n",
       "\tmira_param_8 = Uniform(low: 1.4759999513626099, high: 1.8040000200271606),\n",
       "\tmira_param_9 = Uniform(low: 0.0, high: 0.10000000149011612),\n",
       "\tmira_param_10 = Uniform(low: 0.007199999876320362, high: 0.008799999952316284),\n",
       "\tmira_param_11 = Uniform(low: 0.12690000236034393, high: 0.1551000028848648),\n",
       "\tpseudocount = 1.0\n",
       ")]"
      ]
     },
     "execution_count": 7,
     "metadata": {},
     "output_type": "execute_result"
    }
   ],
   "source": [
    "# Setup the Ensemble\n",
    "\n",
    "models = [model1, model2]\n",
    "weights = [0.5, 0.5]\n",
    "start_time = 0.0\n",
    "\n",
    "start_states = [start_state1, start_state2]\n",
    "solution_mappings = [solution_mapping1, solution_mapping2]\n",
    "\n",
    "total_population = 1.0\n",
    "dirichlet_concentration = 10.0\n",
    "\n",
    "ensemble = setup_model(models, \n",
    "                       weights, \n",
    "                       solution_mappings, \n",
    "                       start_time, \n",
    "                       start_states, \n",
    "                       total_population, \n",
    "                       dirichlet_concentration=dirichlet_concentration)\n",
    "ensemble"
   ]
  },
  {
   "cell_type": "code",
   "execution_count": 14,
   "metadata": {},
   "outputs": [
    {
     "data": {
      "text/plain": [
       "{'model_0/beta': tensor([0.0115, 0.0103]),\n",
       " 'model_0/gamma': tensor([0.4975, 0.4608]),\n",
       " 'model_0/delta': tensor([0.0115, 0.0112]),\n",
       " 'model_0/alpha': tensor([0.5387, 0.5770]),\n",
       " 'model_0/epsilon': tensor([0.1776, 0.1634]),\n",
       " 'model_0/zeta': tensor([0.1241, 0.1310]),\n",
       " 'model_0/XXlambdaXX': tensor([0.0369, 0.0358]),\n",
       " 'model_0/eta': tensor([0.1155, 0.1204]),\n",
       " 'model_0/rho': tensor([0.0308, 0.0362]),\n",
       " 'model_0/theta': tensor([0.3523, 0.3512]),\n",
       " 'model_0/kappa': tensor([0.0163, 0.0155]),\n",
       " 'model_0/mu': tensor([0.0174, 0.0185]),\n",
       " 'model_0/nu': tensor([0.0272, 0.0292]),\n",
       " 'model_0/xi': tensor([0.0185, 0.0158]),\n",
       " 'model_0/tau': tensor([0.0093, 0.0109]),\n",
       " 'model_0/sigma': tensor([0.0187, 0.0158]),\n",
       " 'model_1/mira_param_0': tensor([0.0848, 0.0463]),\n",
       " 'model_1/mira_param_1': tensor([0.0821, 0.0246]),\n",
       " 'model_1/mira_param_2': tensor([0.0865, 0.0228]),\n",
       " 'model_1/mira_param_3': tensor([0.0240, 0.0213]),\n",
       " 'model_1/mira_param_4': tensor([0.4252, 0.4177]),\n",
       " 'model_1/mira_param_5': tensor([0.4600, 0.4762]),\n",
       " 'model_1/mira_param_6': tensor([0.2628, 0.2645]),\n",
       " 'model_1/mira_param_7': tensor([0.0032, 0.0028]),\n",
       " 'model_1/mira_param_8': tensor([1.5651, 1.7105]),\n",
       " 'model_1/mira_param_9': tensor([0.0239, 0.0615]),\n",
       " 'model_1/mira_param_10': tensor([0.0077, 0.0080]),\n",
       " 'model_1/mira_param_11': tensor([0.1523, 0.1464]),\n",
       " 'model_weights': tensor([[0.4037, 0.5963],\n",
       "         [0.7011, 0.2989]]),\n",
       " 'Infected_sol': tensor([[3.9948e-06, 6.0393e-06, 2.3291e-05],\n",
       "         [4.1412e-06, 1.1540e-05, 6.0176e-05]])}"
      ]
     },
     "execution_count": 14,
     "metadata": {},
     "output_type": "execute_result"
    }
   ],
   "source": [
    "# Sample from the Ensemble\n",
    "\n",
    "timepoints = [1.0, 5.0, 10.0]\n",
    "num_samples = 2\n",
    "ensemble_solution = sample(ensemble, timepoints, num_samples)\n",
    "ensemble_solution\n"
   ]
  },
  {
   "cell_type": "code",
   "execution_count": 15,
   "metadata": {},
   "outputs": [
    {
     "name": "stdout",
     "output_type": "stream",
     "text": [
      "iteration 0: loss = 85.91385185718536\n",
      "iteration 25: loss = 61.73275029659271\n",
      "iteration 50: loss = 46.769694209098816\n",
      "iteration 75: loss = 30.32486641407013\n"
     ]
    }
   ],
   "source": [
    "data = [(1.1, {\"Infected\": 0.003}), (1.2, {\"Infected\": 0.005})]\n",
    "\n",
    "# TODO: increase the number of iterations\n",
    "inferred_parameters = calibrate(ensemble, data, num_iterations=1000, verbose=True)"
   ]
  },
  {
   "cell_type": "code",
   "execution_count": 16,
   "metadata": {},
   "outputs": [
    {
     "data": {
      "text/plain": [
       "{'model_0/beta': tensor([0.0110, 0.0108]),\n",
       " 'model_0/gamma': tensor([0.4769, 0.4470]),\n",
       " 'model_0/delta': tensor([0.0107, 0.0115]),\n",
       " 'model_0/alpha': tensor([0.5843, 0.5954]),\n",
       " 'model_0/epsilon': tensor([0.1744, 0.1641]),\n",
       " 'model_0/zeta': tensor([0.1169, 0.1226]),\n",
       " 'model_0/XXlambdaXX': tensor([0.0347, 0.0328]),\n",
       " 'model_0/eta': tensor([0.1277, 0.1211]),\n",
       " 'model_0/rho': tensor([0.0327, 0.0366]),\n",
       " 'model_0/theta': tensor([0.4003, 0.3625]),\n",
       " 'model_0/kappa': tensor([0.0183, 0.0183]),\n",
       " 'model_0/mu': tensor([0.0167, 0.0178]),\n",
       " 'model_0/nu': tensor([0.0246, 0.0273]),\n",
       " 'model_0/xi': tensor([0.0175, 0.0171]),\n",
       " 'model_0/tau': tensor([0.0101, 0.0104]),\n",
       " 'model_0/sigma': tensor([0.0175, 0.0177]),\n",
       " 'model_1/mira_param_0': tensor([0.0489, 0.0564]),\n",
       " 'model_1/mira_param_1': tensor([0.0288, 0.0380]),\n",
       " 'model_1/mira_param_2': tensor([0.0527, 0.0793]),\n",
       " 'model_1/mira_param_3': tensor([0.0223, 0.0231]),\n",
       " 'model_1/mira_param_4': tensor([0.4205, 0.4055]),\n",
       " 'model_1/mira_param_5': tensor([0.4896, 0.4580]),\n",
       " 'model_1/mira_param_6': tensor([0.2391, 0.2466]),\n",
       " 'model_1/mira_param_7': tensor([0.0032, 0.0028]),\n",
       " 'model_1/mira_param_8': tensor([1.6264, 1.6176]),\n",
       " 'model_1/mira_param_9': tensor([0.0779, 0.0284]),\n",
       " 'model_1/mira_param_10': tensor([0.0076, 0.0084]),\n",
       " 'model_1/mira_param_11': tensor([0.1391, 0.1397]),\n",
       " 'model_weights': tensor([[0.4252, 0.5748],\n",
       "         [0.3252, 0.6748]]),\n",
       " 'Infected_sol': tensor([[4.0022e-06, 7.6292e-06, 3.7431e-05],\n",
       "         [4.0580e-06, 6.7193e-06, 3.4193e-05]])}"
      ]
     },
     "execution_count": 16,
     "metadata": {},
     "output_type": "execute_result"
    }
   ],
   "source": [
    "posterior_predictive = sample(ensemble, timepoints, num_samples, inferred_parameters)\n",
    "posterior_predictive"
   ]
  },
  {
   "attachments": {},
   "cell_type": "markdown",
   "metadata": {},
   "source": [
    "## MIRA Explorations below"
   ]
  },
  {
   "cell_type": "code",
   "execution_count": 10,
   "metadata": {},
   "outputs": [],
   "source": [
    "import json\n",
    "import mira\n",
    "\n",
    "filename1 = \"BIOMD0000000955_template_model.json\"\n",
    "filename1 = os.path.join(MIRA_PATH, filename1)\n",
    "\n",
    "with open(filename1, \"r\") as f:\n",
    "    model_json1 = json.load(f)\n",
    "\n",
    "template1 = mira.metamodel.TemplateModel.from_json(model_json1)\n",
    "model1 = mira.modeling.Model(template1)\n",
    "\n",
    "filename3 = \"BIOMD0000000983_template_model.json\"\n",
    "filename3 = os.path.join(MIRA_PATH, filename3)\n",
    "\n",
    "with open(filename3, \"r\") as f:\n",
    "    model_json3 = json.load(f)\n",
    "\n",
    "template3 = mira.metamodel.TemplateModel.from_json(model_json3)\n",
    "model3 = mira.modeling.Model(template3)\n",
    "# G = pyciemss.PetriNetODE.base.PetriNet.from_mira(filename3)\n",
    "\n",
    "# model3 = MiraPetriNetODESystem.from_mira(filename3)\n",
    "# model3 = ScaledBetaNoisePetriNetODESystem.from_mira(filename3)\n",
    "# model3"
   ]
  },
  {
   "cell_type": "code",
   "execution_count": 11,
   "metadata": {},
   "outputs": [],
   "source": [
    "from mira.metamodel.ops import simplify_rate_laws, aggregate_parameters"
   ]
  },
  {
   "cell_type": "code",
   "execution_count": 8,
   "metadata": {},
   "outputs": [
    {
     "data": {
      "text/plain": [
       "{'alpha': Parameter(name='alpha', identifiers={}, context={}, value=0.57, distribution=Distribution(type='StandardUniform1', parameters={'minimum': 0.45599999999999996, 'maximum': 0.6839999999999999})),\n",
       " 'beta': Parameter(name='beta', identifiers={}, context={}, value=0.011, distribution=Distribution(type='StandardUniform1', parameters={'minimum': 0.008799999999999999, 'maximum': 0.0132})),\n",
       " 'gamma': Parameter(name='gamma', identifiers={}, context={}, value=0.456, distribution=Distribution(type='StandardUniform1', parameters={'minimum': 0.3648, 'maximum': 0.5472})),\n",
       " 'delta': Parameter(name='delta', identifiers={}, context={}, value=0.011, distribution=Distribution(type='StandardUniform1', parameters={'minimum': 0.008799999999999999, 'maximum': 0.0132})),\n",
       " 'epsilon': Parameter(name='epsilon', identifiers={}, context={}, value=0.171, distribution=Distribution(type='StandardUniform1', parameters={'minimum': 0.1368, 'maximum': 0.20520000000000002})),\n",
       " 'theta': Parameter(name='theta', identifiers={}, context={}, value=0.371, distribution=Distribution(type='StandardUniform1', parameters={'minimum': 0.2968, 'maximum': 0.4452})),\n",
       " 'zeta': Parameter(name='zeta', identifiers={}, context={}, value=0.125, distribution=Distribution(type='StandardUniform1', parameters={'minimum': 0.1, 'maximum': 0.15})),\n",
       " 'eta': Parameter(name='eta', identifiers={}, context={}, value=0.125, distribution=Distribution(type='StandardUniform1', parameters={'minimum': 0.1, 'maximum': 0.15})),\n",
       " 'mu': Parameter(name='mu', identifiers={}, context={}, value=0.017, distribution=Distribution(type='StandardUniform1', parameters={'minimum': 0.013600000000000001, 'maximum': 0.0204})),\n",
       " 'nu': Parameter(name='nu', identifiers={}, context={}, value=0.027, distribution=Distribution(type='StandardUniform1', parameters={'minimum': 0.0216, 'maximum': 0.0324})),\n",
       " 'tau': Parameter(name='tau', identifiers={}, context={}, value=0.01, distribution=Distribution(type='StandardUniform1', parameters={'minimum': 0.008, 'maximum': 0.012})),\n",
       " 'kappa': Parameter(name='kappa', identifiers={}, context={}, value=0.017, distribution=Distribution(type='StandardUniform1', parameters={'minimum': 0.013600000000000001, 'maximum': 0.0204})),\n",
       " 'rho': Parameter(name='rho', identifiers={}, context={}, value=0.034, distribution=Distribution(type='StandardUniform1', parameters={'minimum': 0.027200000000000002, 'maximum': 0.0408})),\n",
       " 'sigma': Parameter(name='sigma', identifiers={}, context={}, value=0.017, distribution=Distribution(type='StandardUniform1', parameters={'minimum': 0.013600000000000001, 'maximum': 0.0204})),\n",
       " 'xi': Parameter(name='xi', identifiers={}, context={}, value=0.017, distribution=Distribution(type='StandardUniform1', parameters={'minimum': 0.013600000000000001, 'maximum': 0.0204})),\n",
       " 'epsilon_modifier': Parameter(name='epsilon_modifier', identifiers={}, context={}, value=1.0, distribution=Distribution(type='StandardUniform1', parameters={'minimum': 0.8, 'maximum': 1.2})),\n",
       " 'alpha_modifier': Parameter(name='alpha_modifier', identifiers={}, context={}, value=1.0, distribution=Distribution(type='StandardUniform1', parameters={'minimum': 0.8, 'maximum': 1.2})),\n",
       " 'XXlambdaXX': Parameter(name='XXlambdaXX', identifiers={}, context={}, value=0.034, distribution=Distribution(type='StandardUniform1', parameters={'minimum': 0.027200000000000002, 'maximum': 0.0408}))}"
      ]
     },
     "execution_count": 8,
     "metadata": {},
     "output_type": "execute_result"
    }
   ],
   "source": [
    "template1.parameters"
   ]
  },
  {
   "cell_type": "code",
   "execution_count": 16,
   "metadata": {},
   "outputs": [
    {
     "data": {
      "text/plain": [
       "{'alpha': Parameter(name='alpha', identifiers={}, context={}, value=0.57, distribution=Distribution(type='StandardUniform1', parameters={'minimum': 0.45599999999999996, 'maximum': 0.6839999999999999})),\n",
       " 'beta': Parameter(name='beta', identifiers={}, context={}, value=0.011, distribution=Distribution(type='StandardUniform1', parameters={'minimum': 0.008799999999999999, 'maximum': 0.0132})),\n",
       " 'gamma': Parameter(name='gamma', identifiers={}, context={}, value=0.456, distribution=Distribution(type='StandardUniform1', parameters={'minimum': 0.3648, 'maximum': 0.5472})),\n",
       " 'delta': Parameter(name='delta', identifiers={}, context={}, value=0.011, distribution=Distribution(type='StandardUniform1', parameters={'minimum': 0.008799999999999999, 'maximum': 0.0132})),\n",
       " 'epsilon': Parameter(name='epsilon', identifiers={}, context={}, value=0.171, distribution=Distribution(type='StandardUniform1', parameters={'minimum': 0.1368, 'maximum': 0.20520000000000002})),\n",
       " 'theta': Parameter(name='theta', identifiers={}, context={}, value=0.371, distribution=Distribution(type='StandardUniform1', parameters={'minimum': 0.2968, 'maximum': 0.4452})),\n",
       " 'zeta': Parameter(name='zeta', identifiers={}, context={}, value=0.125, distribution=Distribution(type='StandardUniform1', parameters={'minimum': 0.1, 'maximum': 0.15})),\n",
       " 'eta': Parameter(name='eta', identifiers={}, context={}, value=0.125, distribution=Distribution(type='StandardUniform1', parameters={'minimum': 0.1, 'maximum': 0.15})),\n",
       " 'mu': Parameter(name='mu', identifiers={}, context={}, value=0.017, distribution=Distribution(type='StandardUniform1', parameters={'minimum': 0.013600000000000001, 'maximum': 0.0204})),\n",
       " 'nu': Parameter(name='nu', identifiers={}, context={}, value=0.027, distribution=Distribution(type='StandardUniform1', parameters={'minimum': 0.0216, 'maximum': 0.0324})),\n",
       " 'tau': Parameter(name='tau', identifiers={}, context={}, value=0.01, distribution=Distribution(type='StandardUniform1', parameters={'minimum': 0.008, 'maximum': 0.012})),\n",
       " 'kappa': Parameter(name='kappa', identifiers={}, context={}, value=0.017, distribution=Distribution(type='StandardUniform1', parameters={'minimum': 0.013600000000000001, 'maximum': 0.0204})),\n",
       " 'rho': Parameter(name='rho', identifiers={}, context={}, value=0.034, distribution=Distribution(type='StandardUniform1', parameters={'minimum': 0.027200000000000002, 'maximum': 0.0408})),\n",
       " 'sigma': Parameter(name='sigma', identifiers={}, context={}, value=0.017, distribution=Distribution(type='StandardUniform1', parameters={'minimum': 0.013600000000000001, 'maximum': 0.0204})),\n",
       " 'xi': Parameter(name='xi', identifiers={}, context={}, value=0.017, distribution=Distribution(type='StandardUniform1', parameters={'minimum': 0.013600000000000001, 'maximum': 0.0204})),\n",
       " 'epsilon_modifier': Parameter(name='epsilon_modifier', identifiers={}, context={}, value=1.0, distribution=Distribution(type='StandardUniform1', parameters={'minimum': 0.8, 'maximum': 1.2})),\n",
       " 'alpha_modifier': Parameter(name='alpha_modifier', identifiers={}, context={}, value=1.0, distribution=Distribution(type='StandardUniform1', parameters={'minimum': 0.8, 'maximum': 1.2})),\n",
       " 'XXlambdaXX': Parameter(name='XXlambdaXX', identifiers={}, context={}, value=0.034, distribution=Distribution(type='StandardUniform1', parameters={'minimum': 0.027200000000000002, 'maximum': 0.0408})),\n",
       " 'mira_param_0': Parameter(name='mira_param_0', identifiers={}, context={}, value=0.011, distribution=None),\n",
       " 'mira_param_1': Parameter(name='mira_param_1', identifiers={}, context={}, value=0.456, distribution=None),\n",
       " 'mira_param_2': Parameter(name='mira_param_2', identifiers={}, context={}, value=0.011, distribution=None),\n",
       " 'mira_param_3': Parameter(name='mira_param_3', identifiers={}, context={}, value=0.57, distribution=None),\n",
       " 'mira_param_4': Parameter(name='mira_param_4', identifiers={}, context={}, value=0.171, distribution=None),\n",
       " 'mira_param_5': Parameter(name='mira_param_5', identifiers={}, context={}, value=0.125, distribution=None),\n",
       " 'mira_param_6': Parameter(name='mira_param_6', identifiers={}, context={}, value=0.034, distribution=None),\n",
       " 'mira_param_7': Parameter(name='mira_param_7', identifiers={}, context={}, value=0.125, distribution=None),\n",
       " 'mira_param_8': Parameter(name='mira_param_8', identifiers={}, context={}, value=0.034, distribution=None),\n",
       " 'mira_param_9': Parameter(name='mira_param_9', identifiers={}, context={}, value=0.371, distribution=None),\n",
       " 'mira_param_10': Parameter(name='mira_param_10', identifiers={}, context={}, value=0.017, distribution=None),\n",
       " 'mira_param_11': Parameter(name='mira_param_11', identifiers={}, context={}, value=0.017, distribution=None),\n",
       " 'mira_param_12': Parameter(name='mira_param_12', identifiers={}, context={}, value=0.027, distribution=None),\n",
       " 'mira_param_13': Parameter(name='mira_param_13', identifiers={}, context={}, value=0.017, distribution=None),\n",
       " 'mira_param_14': Parameter(name='mira_param_14', identifiers={}, context={}, value=0.01, distribution=None),\n",
       " 'mira_param_15': Parameter(name='mira_param_15', identifiers={}, context={}, value=0.017, distribution=None)}"
      ]
     },
     "execution_count": 16,
     "metadata": {},
     "output_type": "execute_result"
    }
   ],
   "source": [
    "new_template = simplify_rate_laws(aggregate_parameters(template1))\n",
    "# new_template = simplify_rate_laws(template1)\n",
    "new_template.parameters\n",
    "\n"
   ]
  },
  {
   "cell_type": "code",
   "execution_count": 12,
   "metadata": {},
   "outputs": [
    {
     "data": {
      "text/plain": [
       "{'f': Parameter(name='f', identifiers={}, context={}, value=0.2, distribution=Distribution(type='StandardUniform1', parameters={'minimum': 0.16, 'maximum': 0.24000000000000002})),\n",
       " 'n': Parameter(name='n', identifiers={}, context={}, value=0.5, distribution=Distribution(type='StandardUniform1', parameters={'minimum': 0.4, 'maximum': 0.6})),\n",
       " 'q': Parameter(name='q', identifiers={}, context={}, value=0.83, distribution=Distribution(type='StandardUniform1', parameters={'minimum': 0.6639999999999999, 'maximum': 0.996})),\n",
       " 'sigma': Parameter(name='sigma', identifiers={}, context={}, value=0.2, distribution=Distribution(type='StandardUniform1', parameters={'minimum': 0.16, 'maximum': 0.24000000000000002})),\n",
       " 'beta': Parameter(name='beta', identifiers={}, context={}, value=2.115e-08, distribution=Distribution(type='StandardUniform1', parameters={'minimum': 1.6920000000000002e-08, 'maximum': 2.538e-08})),\n",
       " 'mu': Parameter(name='mu', identifiers={}, context={}, value=0.2, distribution=Distribution(type='StandardUniform1', parameters={'minimum': 0.16, 'maximum': 0.24000000000000002})),\n",
       " 'eta_r': Parameter(name='eta_r', identifiers={}, context={}, value=0.1, distribution=Distribution(type='StandardUniform1', parameters={'minimum': 0.08, 'maximum': 0.12000000000000001})),\n",
       " 'eta_u': Parameter(name='eta_u', identifiers={}, context={}, value=0.25, distribution=Distribution(type='StandardUniform1', parameters={'minimum': 0.2, 'maximum': 0.3})),\n",
       " 'theta': Parameter(name='theta', identifiers={}, context={}, value=0.07142857, distribution=Distribution(type='StandardUniform1', parameters={'minimum': 0.057142856, 'maximum': 0.085714284})),\n",
       " '_1': Parameter(name='_1', identifiers={}, context={}, value=1.0, distribution=Distribution(type='StandardUniform1', parameters={'minimum': 0.8, 'maximum': 1.2})),\n",
       " 'XXlambdaXX': Parameter(name='XXlambdaXX', identifiers={}, context={}, value=0.3, distribution=Distribution(type='StandardUniform1', parameters={'minimum': 0.24, 'maximum': 0.36})),\n",
       " 'h': Parameter(name='h', identifiers={}, context={}, value=0.05, distribution=Distribution(type='StandardUniform1', parameters={'minimum': 0.04, 'maximum': 0.060000000000000005}))}"
      ]
     },
     "execution_count": 12,
     "metadata": {},
     "output_type": "execute_result"
    }
   ],
   "source": [
    "\n",
    "template3.parameters"
   ]
  },
  {
   "cell_type": "code",
   "execution_count": 22,
   "metadata": {},
   "outputs": [
    {
     "data": {
      "text/plain": [
       "{'mira_param_0': <mira.modeling.ModelParameter at 0x7fee91669960>,\n",
       " 'mira_param_1': <mira.modeling.ModelParameter at 0x7fee91669de0>,\n",
       " 'mira_param_2': <mira.modeling.ModelParameter at 0x7fee91669d50>,\n",
       " 'mira_param_3': <mira.modeling.ModelParameter at 0x7fee916694b0>,\n",
       " 'mira_param_4': <mira.modeling.ModelParameter at 0x7fee91669450>,\n",
       " 'mira_param_5': <mira.modeling.ModelParameter at 0x7fee91669360>,\n",
       " 'mira_param_6': <mira.modeling.ModelParameter at 0x7fee91669330>,\n",
       " 'mira_param_7': <mira.modeling.ModelParameter at 0x7fee91669240>,\n",
       " 'mira_param_8': <mira.modeling.ModelParameter at 0x7fee91669210>,\n",
       " 'XXlambdaXX': <mira.modeling.ModelParameter at 0x7fee91669f30>,\n",
       " 'theta': <mira.modeling.ModelParameter at 0x7fee91669150>,\n",
       " (('Quarantined', ('identity', 'ido:0000514'), ('quarantined', 'ncit:C71902')),\n",
       "  ('Susceptible_unconfined',\n",
       "   ('identity', 'ido:0000514'),\n",
       "   ('quarantined', 'ncit:C68851')),\n",
       "  'NaturalConversion',\n",
       "  'rate'): <mira.modeling.ModelParameter at 0x7fee916690f0>,\n",
       " 'mira_param_9': <mira.modeling.ModelParameter at 0x7fee91669090>}"
      ]
     },
     "execution_count": 22,
     "metadata": {},
     "output_type": "execute_result"
    }
   ],
   "source": [
    "from mira.metamodel.ops import aggregate_parameters\n",
    "\n",
    "filename3 = \"BIOMD0000000983_template_model.json\"\n",
    "filename3 = os.path.join(MIRA_PATH, filename3)\n",
    "\n",
    "with open(filename3, \"r\") as f:\n",
    "    model_json3 = json.load(f)\n",
    "\n",
    "template3 = mira.metamodel.TemplateModel.from_json(model_json3)\n",
    "model3 = mira.modeling.Model(template3)\n",
    "\n",
    "new_template = aggregate_parameters(template3)\n",
    "new_model = mira.modeling.Model(new_template)\n",
    "new_model.parameters"
   ]
  },
  {
   "cell_type": "code",
   "execution_count": 26,
   "metadata": {},
   "outputs": [
    {
     "data": {
      "text/plain": [
       "{'beta': <mira.modeling.ModelParameter at 0x7fcb7c5388e0>,\n",
       " 'gamma': <mira.modeling.ModelParameter at 0x7fcb7c53bc10>,\n",
       " 'delta': <mira.modeling.ModelParameter at 0x7fcb7c53a050>,\n",
       " 'alpha': <mira.modeling.ModelParameter at 0x7fcb7c5e9570>,\n",
       " 'epsilon': <mira.modeling.ModelParameter at 0x7fcb7c5eb430>,\n",
       " 'zeta': <mira.modeling.ModelParameter at 0x7fcb7c5eac80>,\n",
       " 'XXlambdaXX': <mira.modeling.ModelParameter at 0x7fcb7c5eabc0>,\n",
       " 'eta': <mira.modeling.ModelParameter at 0x7fcb7c5eab00>,\n",
       " 'rho': <mira.modeling.ModelParameter at 0x7fcb7c5eaa70>,\n",
       " 'theta': <mira.modeling.ModelParameter at 0x7fcb7c5ea9e0>,\n",
       " 'kappa': <mira.modeling.ModelParameter at 0x7fcb7c5ea950>,\n",
       " 'mu': <mira.modeling.ModelParameter at 0x7fcb7c5ea890>,\n",
       " 'nu': <mira.modeling.ModelParameter at 0x7fcb7c5ea7d0>,\n",
       " 'xi': <mira.modeling.ModelParameter at 0x7fcb7c5ea740>,\n",
       " 'tau': <mira.modeling.ModelParameter at 0x7fcb7c5ea680>,\n",
       " 'sigma': <mira.modeling.ModelParameter at 0x7fcb7c5ea5c0>}"
      ]
     },
     "execution_count": 26,
     "metadata": {},
     "output_type": "execute_result"
    }
   ],
   "source": [
    "model1.parameters"
   ]
  },
  {
   "cell_type": "code",
   "execution_count": 44,
   "metadata": {},
   "outputs": [
    {
     "data": {
      "text/plain": [
       "{(('Susceptible_unconfined',\n",
       "   ('identity', 'ido:0000514'),\n",
       "   ('quarantined', 'ncit:C68851')),\n",
       "  ('Exposed', ('identity', 'apollosv:00000154')),\n",
       "  ('Infected_reported',\n",
       "   ('identity', 'ido:0000511'),\n",
       "   ('diagnosis', 'ncit:C15220')),\n",
       "  'ControlledConversion'): <mira.modeling.Transition at 0x7fcb7c5e8d00>,\n",
       " (('Susceptible_unconfined',\n",
       "   ('identity', 'ido:0000514'),\n",
       "   ('quarantined', 'ncit:C68851')),\n",
       "  ('Exposed', ('identity', 'apollosv:00000154')),\n",
       "  ('Infected_unreported',\n",
       "   ('identity', 'ido:0000511'),\n",
       "   ('diagnosed', 'ncit:C113725')),\n",
       "  'ControlledConversion'): <mira.modeling.Transition at 0x7fcb7c5e8c10>,\n",
       " (('Susceptible_unconfined',\n",
       "   ('identity', 'ido:0000514'),\n",
       "   ('quarantined', 'ncit:C68851')),\n",
       "  ('Quarantined', ('identity', 'ido:0000514'), ('quarantined', 'ncit:C71902')),\n",
       "  ('Infected_reported',\n",
       "   ('identity', 'ido:0000511'),\n",
       "   ('diagnosis', 'ncit:C15220')),\n",
       "  'ControlledConversion'): <mira.modeling.Transition at 0x7fcb7c5e8b20>,\n",
       " (('Susceptible_unconfined',\n",
       "   ('identity', 'ido:0000514'),\n",
       "   ('quarantined', 'ncit:C68851')),\n",
       "  ('Quarantined', ('identity', 'ido:0000514'), ('quarantined', 'ncit:C71902')),\n",
       "  ('Infected_unreported',\n",
       "   ('identity', 'ido:0000511'),\n",
       "   ('diagnosed', 'ncit:C113725')),\n",
       "  'ControlledConversion'): <mira.modeling.Transition at 0x7fcb7c5e8a90>,\n",
       " (('Quarantined', ('identity', 'ido:0000514'), ('quarantined', 'ncit:C71902')),\n",
       "  ('Infected_reported',\n",
       "   ('identity', 'ido:0000511'),\n",
       "   ('diagnosis', 'ncit:C15220')),\n",
       "  'NaturalConversion'): <mira.modeling.Transition at 0x7fcb7c5e87f0>,\n",
       " (('Exposed', ('identity', 'apollosv:00000154')),\n",
       "  ('Infected_reported',\n",
       "   ('identity', 'ido:0000511'),\n",
       "   ('diagnosis', 'ncit:C15220')),\n",
       "  'NaturalConversion'): <mira.modeling.Transition at 0x7fcb7c5e82b0>,\n",
       " (('Exposed', ('identity', 'apollosv:00000154')),\n",
       "  ('Infected_unreported',\n",
       "   ('identity', 'ido:0000511'),\n",
       "   ('diagnosed', 'ncit:C113725')),\n",
       "  'NaturalConversion'): <mira.modeling.Transition at 0x7fcb7c5e8370>,\n",
       " (('Infected_reported',\n",
       "   ('identity', 'ido:0000511'),\n",
       "   ('diagnosis', 'ncit:C15220')),\n",
       "  ('Recovered', ('identity', 'ido:0000592')),\n",
       "  'NaturalConversion'): <mira.modeling.Transition at 0x7fcb7c5e8550>,\n",
       " (('Infected_unreported',\n",
       "   ('identity', 'ido:0000511'),\n",
       "   ('diagnosed', 'ncit:C113725')),\n",
       "  ('Recovered', ('identity', 'ido:0000592')),\n",
       "  'NaturalConversion'): <mira.modeling.Transition at 0x7fcb7c5e8460>,\n",
       " (('Quarantined', ('identity', 'ido:0000514'), ('quarantined', 'ncit:C71902')),\n",
       "  ('Susceptible_unconfined',\n",
       "   ('identity', 'ido:0000514'),\n",
       "   ('quarantined', 'ncit:C68851')),\n",
       "  'NaturalConversion'): <mira.modeling.Transition at 0x7fcb7c5e8760>,\n",
       " (('Infected_reported',\n",
       "   ('identity', 'ido:0000511'),\n",
       "   ('diagnosis', 'ncit:C15220')),\n",
       "  ('Deceased', ('identity', 'ncit:C28554')),\n",
       "  'NaturalConversion'): <mira.modeling.Transition at 0x7fcb7c5ea170>}"
      ]
     },
     "execution_count": 44,
     "metadata": {},
     "output_type": "execute_result"
    }
   ],
   "source": [
    "model3.transitions"
   ]
  },
  {
   "cell_type": "code",
   "execution_count": 42,
   "metadata": {},
   "outputs": [
    {
     "data": {
      "text/plain": [
       "<function mira.modeling.ode.OdeModel.get_rhs.<locals>.rhs(t, y)>"
      ]
     },
     "execution_count": 42,
     "metadata": {},
     "output_type": "execute_result"
    }
   ],
   "source": [
    "from mira.modeling.ode import OdeModel\n",
    "\n",
    "ode1 = OdeModel(model1)\n",
    "\n",
    "ode1.set_parameters({'beta': 0.5})\n",
    "\n",
    "ode1.kinetics\n",
    "ode1.get_rhs()"
   ]
  },
  {
   "cell_type": "code",
   "execution_count": 35,
   "metadata": {},
   "outputs": [
    {
     "data": {
      "text/plain": [
       "ControlledConversion(rate_law=Infected_reported*Susceptible_unconfined*beta*n*(1.0 - sigma), type='ControlledConversion', controller=Concept(name='Infected_reported', identifiers={'ido': '0000511'}, context={'diagnosis': 'ncit:C15220'}), subject=Concept(name='Susceptible_unconfined', identifiers={'ido': '0000514'}, context={'quarantined': 'ncit:C68851'}), outcome=Concept(name='Exposed', identifiers={'apollosv': '00000154'}, context={}), provenance=[])"
      ]
     },
     "execution_count": 35,
     "metadata": {},
     "output_type": "execute_result"
    }
   ],
   "source": [
    "\n",
    "\n",
    "list(model3.transitions.values())[0].template"
   ]
  },
  {
   "cell_type": "code",
   "execution_count": 13,
   "metadata": {},
   "outputs": [],
   "source": [
    "import json\n",
    "import mira\n",
    "\n",
    "filename3 = \"BIOMD0000000983_template_model.json\"\n",
    "filename3 = os.path.join(MIRA_PATH, filename3)\n",
    "\n",
    "with open(filename3, \"r\") as f:\n",
    "    model_json3 = json.load(f)\n",
    "\n",
    "example_template = mira.metamodel.TemplateModel.from_json(model_json3)\n",
    "\n",
    "example_model = mira.modeling.Model(example_template)"
   ]
  },
  {
   "cell_type": "code",
   "execution_count": 14,
   "metadata": {},
   "outputs": [
    {
     "name": "stdout",
     "output_type": "stream",
     "text": [
      "f 0.2\n",
      "n 0.5\n",
      "q 0.83\n",
      "sigma 0.2\n",
      "beta 2.115e-08\n",
      "mu 0.2\n",
      "eta_r 0.1\n",
      "eta_u 0.25\n",
      "theta 0.07142857\n",
      "_1 1.0\n",
      "XXlambdaXX 0.3\n",
      "h 0.05\n"
     ]
    }
   ],
   "source": [
    "for p, v in example_template.parameters.items():\n",
    "    print(p, v.value)\n",
    "    "
   ]
  },
  {
   "cell_type": "code",
   "execution_count": null,
   "metadata": {},
   "outputs": [],
   "source": [
    "for p, v in example_template.parameters.items():\n",
    "    print(p, v.value)"
   ]
  },
  {
   "cell_type": "code",
   "execution_count": 20,
   "metadata": {},
   "outputs": [],
   "source": [
    "class Test1():\n",
    "    def __init__(self):\n",
    "        self.x = 0\n",
    "\n",
    "    def test_func(self):\n",
    "        print(self.x)\n",
    "        self.x += 1\n",
    "        print(self.x)\n",
    "        \n",
    "        \n",
    "\n",
    "class Test2():\n",
    "    def __init__(self, t2):\n",
    "        self.x = 1\n",
    "        self.t2 = t2\n",
    "\n",
    "    def test_func(self):\n",
    "        return self.t2.__class__.test_func(self)"
   ]
  },
  {
   "cell_type": "code",
   "execution_count": 21,
   "metadata": {},
   "outputs": [
    {
     "name": "stdout",
     "output_type": "stream",
     "text": [
      "1\n",
      "2\n"
     ]
    }
   ],
   "source": [
    "t1 = Test1()\n",
    "t2 = Test2(t1)\n",
    "t2.test_func()"
   ]
  },
  {
   "cell_type": "code",
   "execution_count": 13,
   "metadata": {},
   "outputs": [
    {
     "data": {
      "text/plain": [
       "<function __main__.Test1.test_func(self)>"
      ]
     },
     "execution_count": 13,
     "metadata": {},
     "output_type": "execute_result"
    }
   ],
   "source": [
    "t1.__class__.test_func"
   ]
  },
  {
   "cell_type": "code",
   "execution_count": 20,
   "metadata": {},
   "outputs": [],
   "source": [
    "# Get the class of the object\n",
    "class_ = t2.test_func.__self__.__class__"
   ]
  },
  {
   "cell_type": "code",
   "execution_count": 21,
   "metadata": {},
   "outputs": [
    {
     "data": {
      "text/plain": [
       "__main__.Test1"
      ]
     },
     "execution_count": 21,
     "metadata": {},
     "output_type": "execute_result"
    }
   ],
   "source": [
    "class_"
   ]
  },
  {
   "cell_type": "code",
   "execution_count": null,
   "metadata": {},
   "outputs": [],
   "source": []
  }
 ],
 "metadata": {
  "kernelspec": {
   "display_name": "askem-test",
   "language": "python",
   "name": "python3"
  },
  "language_info": {
   "codemirror_mode": {
    "name": "ipython",
    "version": 3
   },
   "file_extension": ".py",
   "mimetype": "text/x-python",
   "name": "python",
   "nbconvert_exporter": "python",
   "pygments_lexer": "ipython3",
   "version": "3.10.0"
  },
  "orig_nbformat": 4
 },
 "nbformat": 4,
 "nbformat_minor": 2
}
