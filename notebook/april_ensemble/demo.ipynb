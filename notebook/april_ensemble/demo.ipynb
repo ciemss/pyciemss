{
 "cells": [
  {
   "attachments": {},
   "cell_type": "markdown",
   "metadata": {},
   "source": [
    "## Load Dependencies"
   ]
  },
  {
   "cell_type": "code",
   "execution_count": 1,
   "metadata": {},
   "outputs": [],
   "source": [
    "import os\n",
    "import copy\n",
    "\n",
    "from pyciemss.PetriNetODE.base import MiraPetriNetODESystem, ScaledBetaNoisePetriNetODESystem\n",
    "from pyciemss.PetriNetODE.events import Event, StartEvent, LoggingEvent, ObservationEvent, StaticParameterInterventionEvent\n",
    "from pyciemss.Ensemble.base import EnsembleSystem\n",
    "import pyciemss\n",
    "\n",
    "from pyciemss.PetriNetODE.interfaces import load_petri_model\n",
    "from pyciemss.Ensemble.interfaces import setup_model, reset_model, intervene, sample, calibrate, optimize"
   ]
  },
  {
   "cell_type": "code",
   "execution_count": 2,
   "metadata": {},
   "outputs": [
    {
     "data": {
      "text/plain": [
       "ScaledBetaNoisePetriNetODESystem(\n",
       "\tbeta = Uniform(low: 0.00989999994635582, high: 0.01209999993443489),\n",
       "\tgamma = Uniform(low: 0.41040000319480896, high: 0.5016000270843506),\n",
       "\tdelta = Uniform(low: 0.00989999994635582, high: 0.01209999993443489),\n",
       "\talpha = Uniform(low: 0.5130000114440918, high: 0.6269999742507935),\n",
       "\tepsilon = Uniform(low: 0.15389999747276306, high: 0.18809999525547028),\n",
       "\tzeta = Uniform(low: 0.11249999701976776, high: 0.13750000298023224),\n",
       "\tXXlambdaXX = Uniform(low: 0.03060000017285347, high: 0.03739999979734421),\n",
       "\teta = Uniform(low: 0.11249999701976776, high: 0.13750000298023224),\n",
       "\trho = Uniform(low: 0.03060000017285347, high: 0.03739999979734421),\n",
       "\ttheta = Uniform(low: 0.33390000462532043, high: 0.4081000089645386),\n",
       "\tkappa = Uniform(low: 0.015300000086426735, high: 0.018699999898672104),\n",
       "\tmu = Uniform(low: 0.015300000086426735, high: 0.018699999898672104),\n",
       "\tnu = Uniform(low: 0.024299999698996544, high: 0.02969999983906746),\n",
       "\txi = Uniform(low: 0.015300000086426735, high: 0.018699999898672104),\n",
       "\ttau = Uniform(low: 0.008999999612569809, high: 0.010999999940395355),\n",
       "\tsigma = Uniform(low: 0.015300000086426735, high: 0.018699999898672104),\n",
       "\tpseudocount = 1.0\n",
       ")"
      ]
     },
     "execution_count": 2,
     "metadata": {},
     "output_type": "execute_result"
    }
   ],
   "source": [
    "MIRA_PATH = \"test/models/april_ensemble_demo/\"\n",
    "\n",
    "filename1 = \"BIOMD0000000955_template_model.json\"\n",
    "filename1 = os.path.join(MIRA_PATH, filename1)\n",
    "model1 = load_petri_model(filename1, add_uncertainty=True)\n",
    "\n",
    "\n",
    "# TODO: put this into the interfaces\n",
    "start_state1 = {k[0]: v.data['initial_value'] for k, v in model1.G.variables.items()}\n",
    "\n",
    "model1"
   ]
  },
  {
   "cell_type": "code",
   "execution_count": 3,
   "metadata": {},
   "outputs": [
    {
     "name": "stderr",
     "output_type": "stream",
     "text": [
      "/Users/sam-basis/Desktop/Research/pyciemss/src/pyciemss/PetriNetODE/base.py:414: UserWarning: Parameter ModelValue_5 has value 0.0 <= 0.0 and will be set to Uniform(0, 0.1)\n",
      "  warnings.warn(f\"Parameter {get_name(param_info)} has value {param_value} <= 0.0 and will be set to Uniform(0, 0.1)\")\n",
      "/Users/sam-basis/Desktop/Research/pyciemss/src/pyciemss/PetriNetODE/base.py:414: UserWarning: Parameter ModelValue_18 has value 0.0 <= 0.0 and will be set to Uniform(0, 0.1)\n",
      "  warnings.warn(f\"Parameter {get_name(param_info)} has value {param_value} <= 0.0 and will be set to Uniform(0, 0.1)\")\n",
      "/Users/sam-basis/Desktop/Research/pyciemss/src/pyciemss/PetriNetODE/base.py:414: UserWarning: Parameter mira_param_0 has value 0.0 <= 0.0 and will be set to Uniform(0, 0.1)\n",
      "  warnings.warn(f\"Parameter {get_name(param_info)} has value {param_value} <= 0.0 and will be set to Uniform(0, 0.1)\")\n",
      "/Users/sam-basis/Desktop/Research/pyciemss/src/pyciemss/PetriNetODE/base.py:414: UserWarning: Parameter mira_param_1 has value 0.0 <= 0.0 and will be set to Uniform(0, 0.1)\n",
      "  warnings.warn(f\"Parameter {get_name(param_info)} has value {param_value} <= 0.0 and will be set to Uniform(0, 0.1)\")\n",
      "/Users/sam-basis/Desktop/Research/pyciemss/src/pyciemss/PetriNetODE/base.py:414: UserWarning: Parameter mira_param_2 has value 0.0 <= 0.0 and will be set to Uniform(0, 0.1)\n",
      "  warnings.warn(f\"Parameter {get_name(param_info)} has value {param_value} <= 0.0 and will be set to Uniform(0, 0.1)\")\n",
      "/Users/sam-basis/Desktop/Research/pyciemss/src/pyciemss/PetriNetODE/base.py:414: UserWarning: Parameter mira_param_9 has value 0.0 <= 0.0 and will be set to Uniform(0, 0.1)\n",
      "  warnings.warn(f\"Parameter {get_name(param_info)} has value {param_value} <= 0.0 and will be set to Uniform(0, 0.1)\")\n"
     ]
    },
    {
     "data": {
      "text/plain": [
       "ScaledBetaNoisePetriNetODESystem(\n",
       "\tmira_param_0 = Uniform(low: 0.0, high: 0.10000000149011612),\n",
       "\tmira_param_1 = Uniform(low: 0.0, high: 0.10000000149011612),\n",
       "\tmira_param_2 = Uniform(low: 0.0, high: 0.10000000149011612),\n",
       "\tmira_param_3 = Uniform(low: 0.02098800055682659, high: 0.025652000680565834),\n",
       "\tmira_param_4 = Uniform(low: 0.37501201033592224, high: 0.45834800601005554),\n",
       "\tmira_param_5 = Uniform(low: 0.4526999890804291, high: 0.5533000230789185),\n",
       "\tmira_param_6 = Uniform(low: 0.23669999837875366, high: 0.28929999470710754),\n",
       "\tmira_param_7 = Uniform(low: 0.0027000000700354576, high: 0.0032999999821186066),\n",
       "\tmira_param_8 = Uniform(low: 1.4759999513626099, high: 1.8040000200271606),\n",
       "\tmira_param_9 = Uniform(low: 0.0, high: 0.10000000149011612),\n",
       "\tmira_param_10 = Uniform(low: 0.007199999876320362, high: 0.008799999952316284),\n",
       "\tmira_param_11 = Uniform(low: 0.12690000236034393, high: 0.1551000028848648),\n",
       "\tpseudocount = 1.0\n",
       ")"
      ]
     },
     "execution_count": 3,
     "metadata": {},
     "output_type": "execute_result"
    }
   ],
   "source": [
    "filename2 = \"BIOMD0000000960_template_model.json\"\n",
    "filename2 = os.path.join(MIRA_PATH, filename2)\n",
    "model2 = load_petri_model(filename2, add_uncertainty=True)\n",
    "\n",
    "\n",
    "# TODO: put this into the interfaces\n",
    "start_state2 = {k[0]: v.data['initial_value'] for k, v in model2.G.variables.items()}\n",
    "\n",
    "model2"
   ]
  },
  {
   "cell_type": "code",
   "execution_count": 4,
   "metadata": {},
   "outputs": [
    {
     "data": {
      "text/plain": [
       "ScaledBetaNoisePetriNetODESystem(\n",
       "\tmira_param_0 = Uniform(low: 7.614000097078133e-09, high: 9.306000414710525e-09),\n",
       "\tmira_param_1 = Uniform(low: 1.5228000194156266e-08, high: 1.861200082942105e-08),\n",
       "\tmira_param_2 = Uniform(low: 1.9035000242695332e-09, high: 2.326500103677631e-09),\n",
       "\tmira_param_3 = Uniform(low: 3.8070000485390665e-09, high: 4.653000207355262e-09),\n",
       "\tmira_param_4 = Uniform(low: 0.019285714253783226, high: 0.023571427911520004),\n",
       "\tmira_param_5 = Uniform(low: 0.035999998450279236, high: 0.04399999976158142),\n",
       "\tmira_param_6 = Uniform(low: 0.14399999380111694, high: 0.17599999904632568),\n",
       "\tmira_param_7 = Uniform(low: 0.09000000357627869, high: 0.10999999940395355),\n",
       "\tmira_param_8 = Uniform(low: 0.22499999403953552, high: 0.2750000059604645),\n",
       "\tmira_param_9 = Uniform(low: 0.044999998062849045, high: 0.054999999701976776),\n",
       "\tmira_param_10 = Uniform(low: 0.015300000086426735, high: 0.018699999898672104),\n",
       "\tpseudocount = 1.0\n",
       ")"
      ]
     },
     "execution_count": 4,
     "metadata": {},
     "output_type": "execute_result"
    }
   ],
   "source": [
    "filename3 = \"BIOMD0000000983_template_model.json\"\n",
    "filename3 = os.path.join(MIRA_PATH, filename3)\n",
    "model3 = load_petri_model(filename3, add_uncertainty=True)\n",
    "\n",
    "# TODO: put this into the interfaces\n",
    "start_state3 = {k[0]: v.data['initial_value'] for k, v in model3.G.variables.items()}\n",
    "start_state3['Deceased'] = 0.0\n",
    "\n",
    "model3"
   ]
  },
  {
   "cell_type": "code",
   "execution_count": 5,
   "metadata": {},
   "outputs": [],
   "source": [
    "from math import isclose\n",
    "\n",
    "solution_ratio21 = start_state2['Infectious'] / start_state1['Infected']\n",
    "solution_ratio31 = (start_state3['Infected_reported'] + start_state3['Infected_unreported']) / start_state1['Infected']\n",
    "\n",
    "solution_mapping1 = lambda x : {\"Infected\": x[\"Infected\"]}\n",
    "solution_mapping2 = lambda x : {\"Infected\": x[\"Infectious\"] / solution_ratio21}\n",
    "solution_mapping3 = lambda x : {\"Infected\": (x[\"Infected_reported\"] + x[\"Infected_unreported\"]) / solution_ratio31}\n",
    "\n",
    "# Assert that all of the variables in the solution mappings are the same.\n",
    "assert(set(solution_mapping1(start_state1).keys()) \n",
    "       == set(solution_mapping2(start_state2).keys())\n",
    "       == set(solution_mapping3(start_state3).keys()))\n",
    "\n",
    "# Assert that the solution mappings are correct.\n",
    "assert(isclose(solution_mapping1(start_state1)[\"Infected\"], solution_mapping2(start_state2)[\"Infected\"]))\n",
    "assert(isclose(solution_mapping1(start_state1)[\"Infected\"], solution_mapping3(start_state3)[\"Infected\"]))"
   ]
  },
  {
   "cell_type": "code",
   "execution_count": 6,
   "metadata": {},
   "outputs": [
    {
     "data": {
      "text/plain": [
       "Ensemble of 3 models. \n",
       "\n",
       " \tDirichlet Alpha: tensor([3.3333, 3.3333, 3.3333]). \n",
       "\n",
       " \tModels: [ScaledBetaNoisePetriNetODESystem(\n",
       "\tbeta = Uniform(low: 0.00989999994635582, high: 0.01209999993443489),\n",
       "\tgamma = Uniform(low: 0.41040000319480896, high: 0.5016000270843506),\n",
       "\tdelta = Uniform(low: 0.00989999994635582, high: 0.01209999993443489),\n",
       "\talpha = Uniform(low: 0.5130000114440918, high: 0.6269999742507935),\n",
       "\tepsilon = Uniform(low: 0.15389999747276306, high: 0.18809999525547028),\n",
       "\tzeta = Uniform(low: 0.11249999701976776, high: 0.13750000298023224),\n",
       "\tXXlambdaXX = Uniform(low: 0.03060000017285347, high: 0.03739999979734421),\n",
       "\teta = Uniform(low: 0.11249999701976776, high: 0.13750000298023224),\n",
       "\trho = Uniform(low: 0.03060000017285347, high: 0.03739999979734421),\n",
       "\ttheta = Uniform(low: 0.33390000462532043, high: 0.4081000089645386),\n",
       "\tkappa = Uniform(low: 0.015300000086426735, high: 0.018699999898672104),\n",
       "\tmu = Uniform(low: 0.015300000086426735, high: 0.018699999898672104),\n",
       "\tnu = Uniform(low: 0.024299999698996544, high: 0.02969999983906746),\n",
       "\txi = Uniform(low: 0.015300000086426735, high: 0.018699999898672104),\n",
       "\ttau = Uniform(low: 0.008999999612569809, high: 0.010999999940395355),\n",
       "\tsigma = Uniform(low: 0.015300000086426735, high: 0.018699999898672104),\n",
       "\tpseudocount = 1.0\n",
       "), ScaledBetaNoisePetriNetODESystem(\n",
       "\tmira_param_0 = Uniform(low: 0.0, high: 0.10000000149011612),\n",
       "\tmira_param_1 = Uniform(low: 0.0, high: 0.10000000149011612),\n",
       "\tmira_param_2 = Uniform(low: 0.0, high: 0.10000000149011612),\n",
       "\tmira_param_3 = Uniform(low: 0.02098800055682659, high: 0.025652000680565834),\n",
       "\tmira_param_4 = Uniform(low: 0.37501201033592224, high: 0.45834800601005554),\n",
       "\tmira_param_5 = Uniform(low: 0.4526999890804291, high: 0.5533000230789185),\n",
       "\tmira_param_6 = Uniform(low: 0.23669999837875366, high: 0.28929999470710754),\n",
       "\tmira_param_7 = Uniform(low: 0.0027000000700354576, high: 0.0032999999821186066),\n",
       "\tmira_param_8 = Uniform(low: 1.4759999513626099, high: 1.8040000200271606),\n",
       "\tmira_param_9 = Uniform(low: 0.0, high: 0.10000000149011612),\n",
       "\tmira_param_10 = Uniform(low: 0.007199999876320362, high: 0.008799999952316284),\n",
       "\tmira_param_11 = Uniform(low: 0.12690000236034393, high: 0.1551000028848648),\n",
       "\tpseudocount = 1.0\n",
       "), ScaledBetaNoisePetriNetODESystem(\n",
       "\tmira_param_0 = Uniform(low: 7.614000097078133e-09, high: 9.306000414710525e-09),\n",
       "\tmira_param_1 = Uniform(low: 1.5228000194156266e-08, high: 1.861200082942105e-08),\n",
       "\tmira_param_2 = Uniform(low: 1.9035000242695332e-09, high: 2.326500103677631e-09),\n",
       "\tmira_param_3 = Uniform(low: 3.8070000485390665e-09, high: 4.653000207355262e-09),\n",
       "\tmira_param_4 = Uniform(low: 0.019285714253783226, high: 0.023571427911520004),\n",
       "\tmira_param_5 = Uniform(low: 0.035999998450279236, high: 0.04399999976158142),\n",
       "\tmira_param_6 = Uniform(low: 0.14399999380111694, high: 0.17599999904632568),\n",
       "\tmira_param_7 = Uniform(low: 0.09000000357627869, high: 0.10999999940395355),\n",
       "\tmira_param_8 = Uniform(low: 0.22499999403953552, high: 0.2750000059604645),\n",
       "\tmira_param_9 = Uniform(low: 0.044999998062849045, high: 0.054999999701976776),\n",
       "\tmira_param_10 = Uniform(low: 0.015300000086426735, high: 0.018699999898672104),\n",
       "\tpseudocount = 1.0\n",
       ")]"
      ]
     },
     "execution_count": 6,
     "metadata": {},
     "output_type": "execute_result"
    }
   ],
   "source": [
    "# Setup the Ensemble\n",
    "\n",
    "models = [model1, model2, model3]\n",
    "weights = [1/3, 1/3, 1/3]\n",
    "start_time = 0.0\n",
    "\n",
    "start_states = [start_state1, start_state2, start_state3]\n",
    "solution_mappings = [solution_mapping1, solution_mapping2, solution_mapping3]\n",
    "\n",
    "total_population = 1.0\n",
    "dirichlet_concentration = 10.0\n",
    "\n",
    "ensemble = setup_model(models, \n",
    "                       weights, \n",
    "                       solution_mappings, \n",
    "                       start_time, \n",
    "                       start_states, \n",
    "                       total_population, \n",
    "                       dirichlet_concentration=dirichlet_concentration)\n",
    "ensemble"
   ]
  },
  {
   "cell_type": "code",
   "execution_count": 7,
   "metadata": {},
   "outputs": [
    {
     "data": {
      "text/plain": [
       "{'model_0/beta': tensor([0.0114, 0.0104]),\n",
       " 'model_0/gamma': tensor([0.4126, 0.4373]),\n",
       " 'model_0/delta': tensor([0.0116, 0.0104]),\n",
       " 'model_0/alpha': tensor([0.5601, 0.5350]),\n",
       " 'model_0/epsilon': tensor([0.1738, 0.1587]),\n",
       " 'model_0/zeta': tensor([0.1274, 0.1288]),\n",
       " 'model_0/XXlambdaXX': tensor([0.0365, 0.0337]),\n",
       " 'model_0/eta': tensor([0.1170, 0.1148]),\n",
       " 'model_0/rho': tensor([0.0306, 0.0323]),\n",
       " 'model_0/theta': tensor([0.4060, 0.3452]),\n",
       " 'model_0/kappa': tensor([0.0159, 0.0183]),\n",
       " 'model_0/mu': tensor([0.0160, 0.0159]),\n",
       " 'model_0/nu': tensor([0.0249, 0.0259]),\n",
       " 'model_0/xi': tensor([0.0171, 0.0184]),\n",
       " 'model_0/tau': tensor([0.0106, 0.0099]),\n",
       " 'model_0/sigma': tensor([0.0168, 0.0168]),\n",
       " 'model_1/mira_param_0': tensor([0.0179, 0.0102]),\n",
       " 'model_1/mira_param_1': tensor([0.0641, 0.0733]),\n",
       " 'model_1/mira_param_2': tensor([0.0765, 0.0969]),\n",
       " 'model_1/mira_param_3': tensor([0.0236, 0.0251]),\n",
       " 'model_1/mira_param_4': tensor([0.4277, 0.4454]),\n",
       " 'model_1/mira_param_5': tensor([0.5304, 0.5431]),\n",
       " 'model_1/mira_param_6': tensor([0.2511, 0.2608]),\n",
       " 'model_1/mira_param_7': tensor([0.0028, 0.0030]),\n",
       " 'model_1/mira_param_8': tensor([1.7979, 1.7663]),\n",
       " 'model_1/mira_param_9': tensor([0.0526, 0.0235]),\n",
       " 'model_1/mira_param_10': tensor([0.0073, 0.0081]),\n",
       " 'model_1/mira_param_11': tensor([0.1433, 0.1530]),\n",
       " 'model_2/mira_param_0': tensor([8.2985e-09, 8.5063e-09]),\n",
       " 'model_2/mira_param_1': tensor([1.5307e-08, 1.6785e-08]),\n",
       " 'model_2/mira_param_2': tensor([2.3024e-09, 2.0376e-09]),\n",
       " 'model_2/mira_param_3': tensor([4.3526e-09, 3.9659e-09]),\n",
       " 'model_2/mira_param_4': tensor([0.0197, 0.0208]),\n",
       " 'model_2/mira_param_5': tensor([0.0391, 0.0388]),\n",
       " 'model_2/mira_param_6': tensor([0.1639, 0.1535]),\n",
       " 'model_2/mira_param_7': tensor([0.1052, 0.1067]),\n",
       " 'model_2/mira_param_8': tensor([0.2511, 0.2716]),\n",
       " 'model_2/mira_param_9': tensor([0.0537, 0.0454]),\n",
       " 'model_2/mira_param_10': tensor([0.0184, 0.0173]),\n",
       " 'model_weights': tensor([[0.2477, 0.5159, 0.2364],\n",
       "         [0.3693, 0.3071, 0.3236]]),\n",
       " 'Infected_sol': tensor([[3.8172e-06, 4.7377e-06, 1.5689e-05],\n",
       "         [3.8681e-06, 6.3189e-06, 2.3143e-05]])}"
      ]
     },
     "execution_count": 7,
     "metadata": {},
     "output_type": "execute_result"
    }
   ],
   "source": [
    "# Sample from the Ensemble\n",
    "\n",
    "timepoints = [1.0, 5.0, 10.0]\n",
    "num_samples = 2\n",
    "ensemble_solution = sample(ensemble, timepoints, num_samples)\n",
    "ensemble_solution\n"
   ]
  },
  {
   "cell_type": "code",
   "execution_count": 8,
   "metadata": {},
   "outputs": [
    {
     "name": "stdout",
     "output_type": "stream",
     "text": [
      "iteration 0: loss = 124.01205384731293\n",
      "iteration 25: loss = 80.36706840991974\n",
      "iteration 50: loss = 55.31959640979767\n",
      "iteration 75: loss = 48.00017011165619\n"
     ]
    }
   ],
   "source": [
    "data = [(1.1, {\"Infected\": 0.003}), (1.2, {\"Infected\": 0.005})]\n",
    "\n",
    "# TODO: increase the number of iterations\n",
    "inferred_parameters = calibrate(ensemble, data, num_iterations=100, verbose=True)"
   ]
  },
  {
   "cell_type": "code",
   "execution_count": 9,
   "metadata": {},
   "outputs": [
    {
     "data": {
      "text/plain": [
       "{'model_0/beta': tensor([0.0113, 0.0115]),\n",
       " 'model_0/gamma': tensor([0.4465, 0.4743]),\n",
       " 'model_0/delta': tensor([0.0113, 0.0109]),\n",
       " 'model_0/alpha': tensor([0.6186, 0.5877]),\n",
       " 'model_0/epsilon': tensor([0.1722, 0.1700]),\n",
       " 'model_0/zeta': tensor([0.1290, 0.1194]),\n",
       " 'model_0/XXlambdaXX': tensor([0.0339, 0.0338]),\n",
       " 'model_0/eta': tensor([0.1340, 0.1299]),\n",
       " 'model_0/rho': tensor([0.0317, 0.0334]),\n",
       " 'model_0/theta': tensor([0.3650, 0.3480]),\n",
       " 'model_0/kappa': tensor([0.0175, 0.0165]),\n",
       " 'model_0/mu': tensor([0.0167, 0.0173]),\n",
       " 'model_0/nu': tensor([0.0246, 0.0262]),\n",
       " 'model_0/xi': tensor([0.0169, 0.0166]),\n",
       " 'model_0/tau': tensor([0.0099, 0.0107]),\n",
       " 'model_0/sigma': tensor([0.0176, 0.0183]),\n",
       " 'model_1/mira_param_0': tensor([0.0764, 0.0329]),\n",
       " 'model_1/mira_param_1': tensor([0.0658, 0.0686]),\n",
       " 'model_1/mira_param_2': tensor([0.0730, 0.0543]),\n",
       " 'model_1/mira_param_3': tensor([0.0242, 0.0244]),\n",
       " 'model_1/mira_param_4': tensor([0.4384, 0.4114]),\n",
       " 'model_1/mira_param_5': tensor([0.5201, 0.5256]),\n",
       " 'model_1/mira_param_6': tensor([0.2701, 0.2663]),\n",
       " 'model_1/mira_param_7': tensor([0.0029, 0.0030]),\n",
       " 'model_1/mira_param_8': tensor([1.7159, 1.5092]),\n",
       " 'model_1/mira_param_9': tensor([0.0543, 0.0112]),\n",
       " 'model_1/mira_param_10': tensor([0.0078, 0.0083]),\n",
       " 'model_1/mira_param_11': tensor([0.1396, 0.1390]),\n",
       " 'model_2/mira_param_0': tensor([8.0393e-09, 8.4323e-09]),\n",
       " 'model_2/mira_param_1': tensor([1.6782e-08, 1.5592e-08]),\n",
       " 'model_2/mira_param_2': tensor([2.0034e-09, 1.9674e-09]),\n",
       " 'model_2/mira_param_3': tensor([4.5383e-09, 4.1290e-09]),\n",
       " 'model_2/mira_param_4': tensor([0.0211, 0.0213]),\n",
       " 'model_2/mira_param_5': tensor([0.0385, 0.0401]),\n",
       " 'model_2/mira_param_6': tensor([0.1700, 0.1600]),\n",
       " 'model_2/mira_param_7': tensor([0.0986, 0.1011]),\n",
       " 'model_2/mira_param_8': tensor([0.2598, 0.2631]),\n",
       " 'model_2/mira_param_9': tensor([0.0542, 0.0521]),\n",
       " 'model_2/mira_param_10': tensor([0.0161, 0.0165]),\n",
       " 'model_weights': tensor([[0.3561, 0.2000, 0.4438],\n",
       "         [0.2517, 0.2754, 0.4730]]),\n",
       " 'Infected_sol': tensor([[3.9943e-06, 8.3706e-06, 4.2232e-05],\n",
       "         [3.8737e-06, 6.1886e-06, 2.5519e-05]])}"
      ]
     },
     "execution_count": 9,
     "metadata": {},
     "output_type": "execute_result"
    }
   ],
   "source": [
    "posterior_predictive = sample(ensemble, timepoints, num_samples, inferred_parameters)\n",
    "posterior_predictive"
   ]
  },
  {
   "cell_type": "code",
   "execution_count": null,
   "metadata": {},
   "outputs": [],
   "source": []
  }
 ],
 "metadata": {
  "kernelspec": {
   "display_name": "askem-test",
   "language": "python",
   "name": "python3"
  },
  "language_info": {
   "codemirror_mode": {
    "name": "ipython",
    "version": 3
   },
   "file_extension": ".py",
   "mimetype": "text/x-python",
   "name": "python",
   "nbconvert_exporter": "python",
   "pygments_lexer": "ipython3",
   "version": "3.10.0"
  },
  "orig_nbformat": 4
 },
 "nbformat": 4,
 "nbformat_minor": 2
}
