{
 "cells": [
  {
   "cell_type": "code",
   "execution_count": 1,
   "metadata": {},
   "outputs": [],
   "source": [
    "import os\n",
    "\n",
    "from pyciemss.PetriNetODE.base import MiraPetriNetODESystem, ScaledBetaNoisePetriNetODESystem\n",
    "from pyciemss.PetriNetODE.events import Event, StartEvent, LoggingEvent, ObservationEvent, StaticParameterInterventionEvent\n",
    "from pyciemss.Ensemble.base import EnsembleSystem\n",
    "import pyciemss\n",
    "\n",
    "from pyciemss.PetriNetODE.interfaces import load_petri_model\n",
    "from pyciemss.Ensemble.interfaces import setup_model, reset_model, intervene, sample, calibrate, optimize"
   ]
  },
  {
   "cell_type": "code",
   "execution_count": 5,
   "metadata": {},
   "outputs": [
    {
     "data": {
      "text/plain": [
       "ScaledBetaNoisePetriNetODESystem(\n",
       "\tbeta = Uniform(low: 0.00989999994635582, high: 0.01209999993443489),\n",
       "\tgamma = Uniform(low: 0.41040000319480896, high: 0.5016000270843506),\n",
       "\tdelta = Uniform(low: 0.00989999994635582, high: 0.01209999993443489),\n",
       "\talpha = Uniform(low: 0.5130000114440918, high: 0.6269999742507935),\n",
       "\tepsilon = Uniform(low: 0.15389999747276306, high: 0.18809999525547028),\n",
       "\tzeta = Uniform(low: 0.11249999701976776, high: 0.13750000298023224),\n",
       "\tXXlambdaXX = Uniform(low: 0.03060000017285347, high: 0.03739999979734421),\n",
       "\teta = Uniform(low: 0.11249999701976776, high: 0.13750000298023224),\n",
       "\trho = Uniform(low: 0.03060000017285347, high: 0.03739999979734421),\n",
       "\ttheta = Uniform(low: 0.33390000462532043, high: 0.4081000089645386),\n",
       "\tkappa = Uniform(low: 0.015300000086426735, high: 0.018699999898672104),\n",
       "\tmu = Uniform(low: 0.015300000086426735, high: 0.018699999898672104),\n",
       "\tnu = Uniform(low: 0.024299999698996544, high: 0.02969999983906746),\n",
       "\txi = Uniform(low: 0.015300000086426735, high: 0.018699999898672104),\n",
       "\ttau = Uniform(low: 0.008999999612569809, high: 0.010999999940395355),\n",
       "\tsigma = Uniform(low: 0.015300000086426735, high: 0.018699999898672104),\n",
       "\tpseudocount = 1.0\n",
       ")"
      ]
     },
     "execution_count": 5,
     "metadata": {},
     "output_type": "execute_result"
    }
   ],
   "source": [
    "MIRA_PATH = \"test/models/april_ensemble_demo/\"\n",
    "\n",
    "filename1 = \"BIOMD0000000955_template_model.json\"\n",
    "filename1 = os.path.join(MIRA_PATH, filename1)\n",
    "model1 = load_petri_model(filename1, add_uncertainty=True)\n",
    "solution_mapping1 = lambda x : {\"Infected\": x[\"Infected\"]}\n",
    "\n",
    "# TODO: put this into the interfaces\n",
    "start_state1 = {k[0]: v.data['initial_value'] for k, v in model1.G.variables.items()}\n",
    "\n",
    "model1"
   ]
  },
  {
   "cell_type": "code",
   "execution_count": 6,
   "metadata": {},
   "outputs": [
    {
     "data": {
      "text/plain": [
       "ScaledBetaNoisePetriNetODESystem(\n",
       "\tmira_param_0 = Uniform(low: 0.0, high: 0.10000000149011612),\n",
       "\tmira_param_1 = Uniform(low: 0.0, high: 0.10000000149011612),\n",
       "\tmira_param_2 = Uniform(low: 0.0, high: 0.10000000149011612),\n",
       "\tmira_param_3 = Uniform(low: 0.02098800055682659, high: 0.025652000680565834),\n",
       "\tmira_param_4 = Uniform(low: 0.37501201033592224, high: 0.45834800601005554),\n",
       "\tmira_param_5 = Uniform(low: 0.4526999890804291, high: 0.5533000230789185),\n",
       "\tmira_param_6 = Uniform(low: 0.23669999837875366, high: 0.28929999470710754),\n",
       "\tmira_param_7 = Uniform(low: 0.0027000000700354576, high: 0.0032999999821186066),\n",
       "\tmira_param_8 = Uniform(low: 1.4759999513626099, high: 1.8040000200271606),\n",
       "\tmira_param_9 = Uniform(low: 0.0, high: 0.10000000149011612),\n",
       "\tmira_param_10 = Uniform(low: 0.007199999876320362, high: 0.008799999952316284),\n",
       "\tmira_param_11 = Uniform(low: 0.12690000236034393, high: 0.1551000028848648),\n",
       "\tpseudocount = 1.0\n",
       ")"
      ]
     },
     "execution_count": 6,
     "metadata": {},
     "output_type": "execute_result"
    }
   ],
   "source": [
    "filename2 = \"BIOMD0000000960_template_model.json\"\n",
    "filename2 = os.path.join(MIRA_PATH, filename2)\n",
    "model2 = load_petri_model(filename2, add_uncertainty=True)\n",
    "solution_mapping2 = lambda x: {\"Infectious\": x[\"Infected\"]}\n",
    "\n",
    "# TODO: put this into the interfaces\n",
    "start_state2 = {k[0]: v.data['initial_value'] for k, v in model2.G.variables.items()}\n",
    "\n",
    "model2"
   ]
  },
  {
   "cell_type": "code",
   "execution_count": 7,
   "metadata": {},
   "outputs": [],
   "source": [
    "# filename3 = \"BIOMD0000000983_template_model.json\"\n",
    "# filename3 = os.path.join(MIRA_PATH, filename3)\n",
    "# model3 = load_petri_model(filename3, add_uncertainty=True)\n",
    "\n",
    "# # TODO: put this into the interfaces\n",
    "# start_state3 = {k[0]: v.data['initial_value'] for k, v in model3.G.variables.items()}\n",
    "\n",
    "# model3"
   ]
  },
  {
   "cell_type": "code",
   "execution_count": 8,
   "metadata": {},
   "outputs": [
    {
     "ename": "AttributeError",
     "evalue": "'function' object has no attribute 'values'",
     "output_type": "error",
     "traceback": [
      "\u001b[0;31m---------------------------------------------------------------------------\u001b[0m",
      "\u001b[0;31mAttributeError\u001b[0m                            Traceback (most recent call last)",
      "Cell \u001b[0;32mIn[8], line 11\u001b[0m\n\u001b[1;32m      8\u001b[0m start_states \u001b[39m=\u001b[39m [start_state1, start_state2]\n\u001b[1;32m      9\u001b[0m solution_mappings \u001b[39m=\u001b[39m [solution_mapping1, solution_mapping2]\n\u001b[0;32m---> 11\u001b[0m ensemble \u001b[39m=\u001b[39m setup_model(models, weights, solution_mappings, start_time, start_states)\n",
      "File \u001b[0;32m~/opt/anaconda3/envs/askem-test/lib/python3.10/functools.py:878\u001b[0m, in \u001b[0;36msingledispatch.<locals>.wrapper\u001b[0;34m(*args, **kw)\u001b[0m\n\u001b[1;32m    874\u001b[0m \u001b[39mif\u001b[39;00m \u001b[39mnot\u001b[39;00m args:\n\u001b[1;32m    875\u001b[0m     \u001b[39mraise\u001b[39;00m \u001b[39mTypeError\u001b[39;00m(\u001b[39mf\u001b[39m\u001b[39m'\u001b[39m\u001b[39m{\u001b[39;00mfuncname\u001b[39m}\u001b[39;00m\u001b[39m requires at least \u001b[39m\u001b[39m'\u001b[39m\n\u001b[1;32m    876\u001b[0m                     \u001b[39m'\u001b[39m\u001b[39m1 positional argument\u001b[39m\u001b[39m'\u001b[39m)\n\u001b[0;32m--> 878\u001b[0m \u001b[39mreturn\u001b[39;00m dispatch(args[\u001b[39m0\u001b[39;49m]\u001b[39m.\u001b[39;49m\u001b[39m__class__\u001b[39;49m)(\u001b[39m*\u001b[39;49margs, \u001b[39m*\u001b[39;49m\u001b[39m*\u001b[39;49mkw)\n",
      "File \u001b[0;32m~/Desktop/Research/pyciemss/src/pyciemss/Ensemble/interfaces.py:32\u001b[0m, in \u001b[0;36msetup_ensemble_model\u001b[0;34m(models, weights, solution_mappings, start_time, start_states)\u001b[0m\n\u001b[1;32m     21\u001b[0m \u001b[39m@setup_model\u001b[39m\u001b[39m.\u001b[39mregister(\u001b[39mlist\u001b[39m)\n\u001b[1;32m     22\u001b[0m \u001b[39mdef\u001b[39;00m \u001b[39msetup_ensemble_model\u001b[39m(models: \u001b[39mlist\u001b[39m[DynamicalSystem],\n\u001b[1;32m     23\u001b[0m                          weights: Iterable[\u001b[39mfloat\u001b[39m], \n\u001b[0;32m   (...)\u001b[0m\n\u001b[1;32m     27\u001b[0m \n\u001b[1;32m     28\u001b[0m                          ) \u001b[39m-\u001b[39m\u001b[39m>\u001b[39m EnsembleSystem:\n\u001b[1;32m     29\u001b[0m \u001b[39m    \u001b[39m\u001b[39m'''\u001b[39;00m\n\u001b[1;32m     30\u001b[0m \u001b[39m    Instatiate a model for a particular configuration of initial conditions\u001b[39;00m\n\u001b[1;32m     31\u001b[0m \u001b[39m    '''\u001b[39;00m\n\u001b[0;32m---> 32\u001b[0m     ensemble_model \u001b[39m=\u001b[39m copy\u001b[39m.\u001b[39mdeepcopy(EnsembleSystem(models, torch\u001b[39m.\u001b[39;49mas_tensor(weights), solution_mappings))\n\u001b[1;32m     33\u001b[0m     \u001b[39mfor\u001b[39;00m i, m \u001b[39min\u001b[39;00m \u001b[39menumerate\u001b[39m(ensemble_model\u001b[39m.\u001b[39mmodels):\n\u001b[1;32m     34\u001b[0m         start_event \u001b[39m=\u001b[39m StartEvent(start_time, start_states[i])\n",
      "File \u001b[0;32m~/Desktop/Research/pyciemss/src/pyciemss/Ensemble/base.py:32\u001b[0m, in \u001b[0;36mEnsembleSystem.__init__\u001b[0;34m(self, models, weights, solution_mappings)\u001b[0m\n\u001b[1;32m     29\u001b[0m \u001b[39massert\u001b[39;00m(\u001b[39mlen\u001b[39m(model_types) \u001b[39m==\u001b[39m \u001b[39m1\u001b[39m)\n\u001b[1;32m     31\u001b[0m \u001b[39m# Check that all of the solution mappings map to the same set of variables.\u001b[39;00m\n\u001b[0;32m---> 32\u001b[0m solution_mapping_variables \u001b[39m=\u001b[39m [\u001b[39mset\u001b[39m(mapping\u001b[39m.\u001b[39mvalues()) \u001b[39mfor\u001b[39;00m mapping \u001b[39min\u001b[39;00m \u001b[39mself\u001b[39m\u001b[39m.\u001b[39msolution_mappings]\n\u001b[1;32m     33\u001b[0m \u001b[39massert\u001b[39;00m \u001b[39mall\u001b[39m(x \u001b[39m==\u001b[39m solution_mapping_variables[\u001b[39m0\u001b[39m] \u001b[39mfor\u001b[39;00m x \u001b[39min\u001b[39;00m solution_mapping_variables)\n\u001b[1;32m     35\u001b[0m \u001b[39msuper\u001b[39m()\u001b[39m.\u001b[39m\u001b[39m__init__\u001b[39m()\n",
      "File \u001b[0;32m~/Desktop/Research/pyciemss/src/pyciemss/Ensemble/base.py:32\u001b[0m, in \u001b[0;36m<listcomp>\u001b[0;34m(.0)\u001b[0m\n\u001b[1;32m     29\u001b[0m \u001b[39massert\u001b[39;00m(\u001b[39mlen\u001b[39m(model_types) \u001b[39m==\u001b[39m \u001b[39m1\u001b[39m)\n\u001b[1;32m     31\u001b[0m \u001b[39m# Check that all of the solution mappings map to the same set of variables.\u001b[39;00m\n\u001b[0;32m---> 32\u001b[0m solution_mapping_variables \u001b[39m=\u001b[39m [\u001b[39mset\u001b[39m(mapping\u001b[39m.\u001b[39;49mvalues()) \u001b[39mfor\u001b[39;00m mapping \u001b[39min\u001b[39;00m \u001b[39mself\u001b[39m\u001b[39m.\u001b[39msolution_mappings]\n\u001b[1;32m     33\u001b[0m \u001b[39massert\u001b[39;00m \u001b[39mall\u001b[39m(x \u001b[39m==\u001b[39m solution_mapping_variables[\u001b[39m0\u001b[39m] \u001b[39mfor\u001b[39;00m x \u001b[39min\u001b[39;00m solution_mapping_variables)\n\u001b[1;32m     35\u001b[0m \u001b[39msuper\u001b[39m()\u001b[39m.\u001b[39m\u001b[39m__init__\u001b[39m()\n",
      "\u001b[0;31mAttributeError\u001b[0m: 'function' object has no attribute 'values'"
     ]
    }
   ],
   "source": [
    "# Setup the Ensemble\n",
    "\n",
    "# Placeholder for now while I debug other MIRA models.\n",
    "models = [model1, model2]\n",
    "weights = [0.5, 0.5]\n",
    "start_time = 0.0\n",
    "\n",
    "start_states = [start_state1, start_state2]\n",
    "solution_mappings = [solution_mapping1, solution_mapping2]\n",
    "\n",
    "ensemble = setup_model(models, weights, solution_mappings, start_time, start_states)\n"
   ]
  },
  {
   "cell_type": "code",
   "execution_count": 6,
   "metadata": {},
   "outputs": [],
   "source": [
    "ensemble.param_prior()"
   ]
  },
  {
   "cell_type": "code",
   "execution_count": 7,
   "metadata": {},
   "outputs": [
    {
     "data": {
      "text/plain": [
       "{'model_assignment': tensor([[6.5775e-01, 3.4225e-01],\n",
       "         [1.4768e-01, 8.5232e-01],\n",
       "         [3.4075e-01, 6.5925e-01],\n",
       "         [9.6081e-01, 3.9188e-02],\n",
       "         [5.2181e-02, 9.4782e-01],\n",
       "         [1.8118e-01, 8.1882e-01],\n",
       "         [3.3382e-01, 6.6618e-01],\n",
       "         [9.9923e-01, 7.6567e-04],\n",
       "         [2.4420e-01, 7.5580e-01],\n",
       "         [9.6090e-02, 9.0391e-01]]),\n",
       " 'beta': tensor([0.0116, 0.0108, 0.0099, 0.0114, 0.0117, 0.0119, 0.0103, 0.0114, 0.0119,\n",
       "         0.0110]),\n",
       " 'gamma': tensor([0.4379, 0.4416, 0.4561, 0.4749, 0.4675, 0.4524, 0.4331, 0.4531, 0.4618,\n",
       "         0.4770]),\n",
       " 'delta': tensor([0.0120, 0.0116, 0.0116, 0.0111, 0.0099, 0.0100, 0.0100, 0.0116, 0.0108,\n",
       "         0.0101]),\n",
       " 'alpha': tensor([0.5156, 0.5964, 0.5848, 0.5721, 0.5592, 0.5605, 0.5604, 0.5700, 0.5691,\n",
       "         0.5242]),\n",
       " 'epsilon': tensor([0.1701, 0.1852, 0.1694, 0.1641, 0.1552, 0.1665, 0.1765, 0.1866, 0.1799,\n",
       "         0.1600]),\n",
       " 'zeta': tensor([0.1212, 0.1309, 0.1319, 0.1264, 0.1132, 0.1203, 0.1127, 0.1178, 0.1193,\n",
       "         0.1134]),\n",
       " 'XXlambdaXX': tensor([0.0356, 0.0353, 0.0308, 0.0337, 0.0316, 0.0309, 0.0351, 0.0307, 0.0371,\n",
       "         0.0360]),\n",
       " 'eta': tensor([0.1264, 0.1153, 0.1149, 0.1321, 0.1231, 0.1370, 0.1171, 0.1301, 0.1226,\n",
       "         0.1202]),\n",
       " 'rho': tensor([0.0335, 0.0348, 0.0331, 0.0366, 0.0359, 0.0334, 0.0336, 0.0331, 0.0341,\n",
       "         0.0323]),\n",
       " 'theta': tensor([0.3879, 0.3592, 0.3381, 0.3821, 0.4069, 0.4040, 0.3567, 0.3488, 0.3775,\n",
       "         0.3652]),\n",
       " 'kappa': tensor([0.0186, 0.0179, 0.0164, 0.0159, 0.0170, 0.0167, 0.0175, 0.0161, 0.0187,\n",
       "         0.0164]),\n",
       " 'mu': tensor([0.0167, 0.0168, 0.0162, 0.0170, 0.0179, 0.0182, 0.0161, 0.0180, 0.0175,\n",
       "         0.0158]),\n",
       " 'nu': tensor([0.0268, 0.0248, 0.0254, 0.0248, 0.0262, 0.0289, 0.0273, 0.0281, 0.0271,\n",
       "         0.0264]),\n",
       " 'xi': tensor([0.0168, 0.0186, 0.0175, 0.0175, 0.0171, 0.0177, 0.0178, 0.0166, 0.0178,\n",
       "         0.0175]),\n",
       " 'tau': tensor([0.0108, 0.0105, 0.0096, 0.0109, 0.0100, 0.0092, 0.0110, 0.0092, 0.0104,\n",
       "         0.0095]),\n",
       " 'sigma': tensor([0.0171, 0.0162, 0.0172, 0.0167, 0.0170, 0.0158, 0.0172, 0.0183, 0.0177,\n",
       "         0.0170]),\n",
       " 'mira_param_0': tensor([0.0846, 0.0854, 0.0563, 0.0193, 0.0673, 0.0246, 0.0194, 0.0281, 0.0072,\n",
       "         0.0754]),\n",
       " 'mira_param_1': tensor([0.0257, 0.0710, 0.0016, 0.0816, 0.0828, 0.0571, 0.0884, 0.0180, 0.0233,\n",
       "         0.0650]),\n",
       " 'mira_param_2': tensor([0.0647, 0.0243, 0.0915, 0.0697, 0.0174, 0.0866, 0.0236, 0.0454, 0.0135,\n",
       "         0.0596]),\n",
       " 'mira_param_3': tensor([0.0253, 0.0247, 0.0225, 0.0228, 0.0236, 0.0224, 0.0244, 0.0252, 0.0213,\n",
       "         0.0231]),\n",
       " 'mira_param_4': tensor([0.3982, 0.4449, 0.4583, 0.4263, 0.4047, 0.4309, 0.4086, 0.3884, 0.4264,\n",
       "         0.4517]),\n",
       " 'mira_param_5': tensor([0.4943, 0.5411, 0.4741, 0.5516, 0.4846, 0.5312, 0.5384, 0.4583, 0.4882,\n",
       "         0.5471]),\n",
       " 'mira_param_6': tensor([0.2846, 0.2860, 0.2673, 0.2606, 0.2488, 0.2566, 0.2419, 0.2572, 0.2873,\n",
       "         0.2453]),\n",
       " 'mira_param_7': tensor([0.0029, 0.0029, 0.0032, 0.0032, 0.0033, 0.0027, 0.0032, 0.0028, 0.0028,\n",
       "         0.0027]),\n",
       " 'mira_param_8': tensor([1.5395, 1.5513, 1.5023, 1.5057, 1.6416, 1.4803, 1.6115, 1.5419, 1.5310,\n",
       "         1.5818]),\n",
       " 'mira_param_9': tensor([0.0839, 0.0510, 0.0692, 0.0370, 0.0598, 0.0599, 0.0112, 0.0679, 0.0501,\n",
       "         0.0852]),\n",
       " 'mira_param_10': tensor([0.0087, 0.0078, 0.0073, 0.0086, 0.0073, 0.0079, 0.0076, 0.0079, 0.0082,\n",
       "         0.0086]),\n",
       " 'mira_param_11': tensor([0.1287, 0.1447, 0.1435, 0.1361, 0.1503, 0.1447, 0.1391, 0.1396, 0.1410,\n",
       "         0.1436]),\n",
       " 'Ailing_sol': tensor([[3.7987e-07, 1.9857e-06, 7.9159e-06],\n",
       "         [4.2792e-07, 2.7740e-06, 1.4797e-05],\n",
       "         [4.3779e-07, 2.9883e-06, 1.6877e-05],\n",
       "         [4.1032e-07, 2.6441e-06, 1.4271e-05],\n",
       "         [3.6587e-07, 2.3212e-06, 1.2449e-05],\n",
       "         [3.8554e-07, 2.3472e-06, 1.1838e-05],\n",
       "         [3.6817e-07, 2.2519e-06, 1.0910e-05],\n",
       "         [3.8596e-07, 2.4120e-06, 1.2058e-05],\n",
       "         [3.8472e-07, 2.3327e-06, 1.1475e-05],\n",
       "         [3.6538e-07, 2.1179e-06, 9.6102e-06]]),\n",
       " 'Diagnosed_sol': tensor([[8.6829e-07, 4.2620e-06, 1.7743e-05],\n",
       "         [9.4547e-07, 5.7031e-06, 3.1397e-05],\n",
       "         [8.9336e-07, 5.4245e-06, 3.1403e-05],\n",
       "         [8.6152e-07, 4.9760e-06, 2.7534e-05],\n",
       "         [8.3773e-07, 4.8458e-06, 2.6781e-05],\n",
       "         [8.6684e-07, 4.8561e-06, 2.5246e-05],\n",
       "         [9.1035e-07, 5.1463e-06, 2.5814e-05],\n",
       "         [9.3905e-07, 5.3842e-06, 2.7710e-05],\n",
       "         [9.1863e-07, 5.2243e-06, 2.6608e-05],\n",
       "         [8.4543e-07, 4.4321e-06, 2.0817e-05]]),\n",
       " 'Extinct_sol': tensor([[2.2371e-11, 3.1990e-09, 4.0729e-08],\n",
       "         [2.2174e-11, 3.3879e-09, 4.8936e-08],\n",
       "         [1.9884e-11, 3.0654e-09, 4.5462e-08],\n",
       "         [2.2905e-11, 3.4879e-09, 5.0447e-08],\n",
       "         [2.0456e-11, 3.0605e-09, 4.4213e-08],\n",
       "         [2.0995e-11, 3.2044e-09, 4.5548e-08],\n",
       "         [2.1343e-11, 3.1843e-09, 4.4650e-08],\n",
       "         [2.0200e-11, 3.0561e-09, 4.3248e-08],\n",
       "         [2.2152e-11, 3.3167e-09, 4.6403e-08],\n",
       "         [1.8035e-11, 2.6147e-09, 3.5261e-08]]),\n",
       " 'Healed_sol': tensor([[1.5722e-07, 1.6587e-06, 8.7894e-06],\n",
       "         [1.6236e-07, 2.0054e-06, 1.3399e-05],\n",
       "         [1.4355e-07, 1.8153e-06, 1.2669e-05],\n",
       "         [1.5569e-07, 1.9095e-06, 1.2825e-05],\n",
       "         [1.4706e-07, 1.8080e-06, 1.2106e-05],\n",
       "         [1.4289e-07, 1.7194e-06, 1.1014e-05],\n",
       "         [1.5891e-07, 1.8511e-06, 1.1394e-05],\n",
       "         [1.4205e-07, 1.7094e-06, 1.0856e-05],\n",
       "         [1.6724e-07, 1.9592e-06, 1.2217e-05],\n",
       "         [1.5889e-07, 1.7507e-06, 1.0163e-05]]),\n",
       " 'Infected_sol': tensor([[4.1292e-06, 1.1643e-05, 4.5497e-05],\n",
       "         [4.3758e-06, 1.5657e-05, 8.2079e-05],\n",
       "         [4.4130e-06, 1.6475e-05, 9.1341e-05],\n",
       "         [4.3919e-06, 1.5932e-05, 8.4676e-05],\n",
       "         [4.4277e-06, 1.6132e-05, 8.5304e-05],\n",
       "         [4.3585e-06, 1.5052e-05, 7.4782e-05],\n",
       "         [4.3206e-06, 1.4336e-05, 6.8036e-05],\n",
       "         [4.3248e-06, 1.4653e-05, 7.1804e-05],\n",
       "         [4.3183e-06, 1.4517e-05, 7.0191e-05],\n",
       "         [4.2399e-06, 1.3285e-05, 5.9057e-05]]),\n",
       " 'Recognized_sol': tensor([[1.8348e-07, 2.8608e-06, 1.5540e-05],\n",
       "         [1.8280e-07, 3.3193e-06, 2.2751e-05],\n",
       "         [1.7626e-07, 3.2338e-06, 2.3157e-05],\n",
       "         [1.8984e-07, 3.3638e-06, 2.3103e-05],\n",
       "         [1.7948e-07, 3.1130e-06, 2.1262e-05],\n",
       "         [1.9274e-07, 3.2948e-06, 2.1386e-05],\n",
       "         [1.7077e-07, 2.8875e-06, 1.8325e-05],\n",
       "         [1.8199e-07, 3.1435e-06, 2.0428e-05],\n",
       "         [1.8195e-07, 3.1201e-06, 1.9990e-05],\n",
       "         [1.7052e-07, 2.7514e-06, 1.6506e-05]]),\n",
       " 'Susceptible_sol': tensor([[1.0000, 1.0000, 0.9999],\n",
       "         [1.0000, 1.0000, 0.9998],\n",
       "         [1.0000, 1.0000, 0.9998],\n",
       "         [1.0000, 1.0000, 0.9998],\n",
       "         [1.0000, 1.0000, 0.9998],\n",
       "         [1.0000, 1.0000, 0.9999],\n",
       "         [1.0000, 1.0000, 0.9999],\n",
       "         [1.0000, 1.0000, 0.9999],\n",
       "         [1.0000, 1.0000, 0.9999],\n",
       "         [1.0000, 1.0000, 0.9999]]),\n",
       " 'Threatened_sol': tensor([[5.7897e-09, 2.0206e-07, 1.5110e-06],\n",
       "         [5.9621e-09, 2.2648e-07, 2.0151e-06],\n",
       "         [5.8705e-09, 2.2660e-07, 2.0889e-06],\n",
       "         [5.9489e-09, 2.2528e-07, 2.0115e-06],\n",
       "         [5.7600e-09, 2.1582e-07, 1.9248e-06],\n",
       "         [6.4114e-09, 2.4382e-07, 2.1115e-06],\n",
       "         [5.4339e-09, 2.0332e-07, 1.7254e-06],\n",
       "         [6.1580e-09, 2.3237e-07, 2.0008e-06],\n",
       "         [5.9710e-09, 2.2233e-07, 1.8895e-06],\n",
       "         [5.3012e-09, 1.9094e-07, 1.5445e-06]]),\n",
       " 'Asymptomatic_sol': tensor([[6011.6865, 1551.3488,  230.0251],\n",
       "         [6585.1787, 1535.7856,  183.1962],\n",
       "         [6778.4253, 1436.2587,  168.4348],\n",
       "         [6573.2212, 1705.7903,  245.4059],\n",
       "         [5906.2856, 1522.9442,  215.1229],\n",
       "         [6618.7852, 1656.8738,  231.8721],\n",
       "         [6152.7378, 1612.4512,  227.3931],\n",
       "         [5933.4272, 1555.6691,  225.1418],\n",
       "         [6433.1504, 1514.4896,  174.5192],\n",
       "         [6467.5430, 1444.0742,  180.2013]]),\n",
       " 'Deceased_sol': tensor([[ 422.7766, 1667.9408, 1995.3760],\n",
       "         [ 280.2779, 1092.0557, 1286.5593],\n",
       "         [ 389.1406, 1474.5145, 1701.3088],\n",
       "         [ 202.6221,  826.8483, 1002.5848],\n",
       "         [ 299.6240, 1171.2185, 1403.0223],\n",
       "         [ 326.8553, 1305.2712, 1550.8024],\n",
       "         [  60.8887,  260.0820,  336.4947],\n",
       "         [ 337.8523, 1343.4236, 1611.7250],\n",
       "         [ 268.7773, 1051.8588, 1237.3878],\n",
       "         [ 462.1519, 1747.4862, 2038.0691]]),\n",
       " 'Exposed_sol': tensor([[24137.7129,  4774.1357,   731.6409],\n",
       "         [23256.3945,  4042.4502,   489.5341],\n",
       "         [22685.6504,  3491.8721,   436.6731],\n",
       "         [23743.4238,  4558.7539,   679.6389],\n",
       "         [24235.8828,  4916.1426,   699.5808],\n",
       "         [23545.7812,  4333.5034,   634.0092],\n",
       "         [24126.4082,  4837.8296,   690.2326],\n",
       "         [24301.5430,  4857.6226,   718.9556],\n",
       "         [23499.0566,  4075.3389,   472.5763],\n",
       "         [23106.8848,  3941.5615,   510.2857]]),\n",
       " 'Hospitalized_sol': tensor([[ 380.1426, 1034.5898,  729.7950],\n",
       "         [ 399.9620,  973.2264,  617.4906],\n",
       "         [ 349.3168,  857.0853,  545.2673],\n",
       "         [ 400.5790,  997.2585,  668.0614],\n",
       "         [ 365.9826,  969.9363,  644.9478],\n",
       "         [ 384.9354,  943.0199,  611.2484],\n",
       "         [ 406.3417, 1072.1981,  729.8417],\n",
       "         [ 359.8088, 1012.3043,  704.7009],\n",
       "         [ 349.6956,  850.0372,  548.4370],\n",
       "         [ 399.6621,  969.7752,  617.7740]]),\n",
       " 'Infectious_sol': tensor([[845.5922, 285.0626,  44.4474],\n",
       "         [797.8145, 229.7980,  29.2004],\n",
       "         [795.1241, 228.8522,  28.7274],\n",
       "         [773.7361, 235.1858,  34.9814],\n",
       "         [837.5251, 297.4409,  46.4272],\n",
       "         [776.1597, 234.6224,  34.0889],\n",
       "         [826.7617, 277.4301,  42.0388],\n",
       "         [884.3636, 327.4552,  52.3279],\n",
       "         [760.3445, 222.8258,  28.2498],\n",
       "         [784.2577, 226.8458,  29.8141]]),\n",
       " 'Recovered_sol': tensor([[ 7939.2471, 31198.3613, 37215.6289],\n",
       "         [ 8664.2002, 33440.9648, 39072.0117],\n",
       "         [ 8599.6445, 32507.9121, 37474.8086],\n",
       "         [ 8299.2373, 33231.7383, 39533.3281],\n",
       "         [ 8348.2588, 32483.3809, 38744.6445],\n",
       "         [ 8218.6924, 32620.5996, 38590.4062],\n",
       "         [ 8423.4980, 33369.3594, 39834.5195],\n",
       "         [ 7830.9297, 31024.2266, 37091.1367],\n",
       "         [ 8347.6846, 32345.5820, 37722.2773],\n",
       "         [ 8726.6748, 32909.6133, 38334.0078]]),\n",
       " 'Susceptible_sol__1': tensor([[9899790., 9899020., 9898584.],\n",
       "         [9899543., 9898209., 9897854.],\n",
       "         [9899932., 9899514., 9899173.],\n",
       "         [9899536., 9897975., 9897366.],\n",
       "         [9899536., 9898170., 9897776.],\n",
       "         [9899659., 9898431., 9897872.],\n",
       "         [9899531., 9898095., 9897663.],\n",
       "         [9899878., 9899398., 9899138.],\n",
       "         [9899871., 9899476., 9899348.],\n",
       "         [9899582., 9898285., 9897813.]])}"
      ]
     },
     "execution_count": 7,
     "metadata": {},
     "output_type": "execute_result"
    }
   ],
   "source": [
    "# Sample from the Ensemble\n",
    "\n",
    "timepoints = [1.0, 5.0, 10.0]\n",
    "num_samples = 10\n",
    "# ensemble_solution = sample(ensemble.models[0], timepoints, num_samples)\n",
    "ensemble_solution = sample(ensemble, timepoints, num_samples)\n",
    "ensemble_solution\n"
   ]
  },
  {
   "attachments": {},
   "cell_type": "markdown",
   "metadata": {},
   "source": [
    "## MIRA Explorations below"
   ]
  },
  {
   "cell_type": "code",
   "execution_count": 6,
   "metadata": {},
   "outputs": [],
   "source": [
    "import json\n",
    "import mira\n",
    "\n",
    "filename1 = \"BIOMD0000000955_template_model.json\"\n",
    "filename1 = os.path.join(MIRA_PATH, filename1)\n",
    "\n",
    "with open(filename1, \"r\") as f:\n",
    "    model_json1 = json.load(f)\n",
    "\n",
    "template1 = mira.metamodel.TemplateModel.from_json(model_json1)\n",
    "model1 = mira.modeling.Model(template1)\n",
    "\n",
    "filename3 = \"BIOMD0000000983_template_model.json\"\n",
    "filename3 = os.path.join(MIRA_PATH, filename3)\n",
    "\n",
    "with open(filename3, \"r\") as f:\n",
    "    model_json3 = json.load(f)\n",
    "\n",
    "template3 = mira.metamodel.TemplateModel.from_json(model_json3)\n",
    "model3 = mira.modeling.Model(template3)\n",
    "# G = pyciemss.PetriNetODE.base.PetriNet.from_mira(filename3)\n",
    "\n",
    "# model3 = MiraPetriNetODESystem.from_mira(filename3)\n",
    "# model3 = ScaledBetaNoisePetriNetODESystem.from_mira(filename3)\n",
    "# model3"
   ]
  },
  {
   "cell_type": "code",
   "execution_count": 7,
   "metadata": {},
   "outputs": [],
   "source": [
    "from mira.metamodel.ops import simplify_rate_laws, aggregate_parameters"
   ]
  },
  {
   "cell_type": "code",
   "execution_count": 8,
   "metadata": {},
   "outputs": [
    {
     "data": {
      "text/plain": [
       "{'alpha': Parameter(name='alpha', identifiers={}, context={}, value=0.57, distribution=Distribution(type='StandardUniform1', parameters={'minimum': 0.45599999999999996, 'maximum': 0.6839999999999999})),\n",
       " 'beta': Parameter(name='beta', identifiers={}, context={}, value=0.011, distribution=Distribution(type='StandardUniform1', parameters={'minimum': 0.008799999999999999, 'maximum': 0.0132})),\n",
       " 'gamma': Parameter(name='gamma', identifiers={}, context={}, value=0.456, distribution=Distribution(type='StandardUniform1', parameters={'minimum': 0.3648, 'maximum': 0.5472})),\n",
       " 'delta': Parameter(name='delta', identifiers={}, context={}, value=0.011, distribution=Distribution(type='StandardUniform1', parameters={'minimum': 0.008799999999999999, 'maximum': 0.0132})),\n",
       " 'epsilon': Parameter(name='epsilon', identifiers={}, context={}, value=0.171, distribution=Distribution(type='StandardUniform1', parameters={'minimum': 0.1368, 'maximum': 0.20520000000000002})),\n",
       " 'theta': Parameter(name='theta', identifiers={}, context={}, value=0.371, distribution=Distribution(type='StandardUniform1', parameters={'minimum': 0.2968, 'maximum': 0.4452})),\n",
       " 'zeta': Parameter(name='zeta', identifiers={}, context={}, value=0.125, distribution=Distribution(type='StandardUniform1', parameters={'minimum': 0.1, 'maximum': 0.15})),\n",
       " 'eta': Parameter(name='eta', identifiers={}, context={}, value=0.125, distribution=Distribution(type='StandardUniform1', parameters={'minimum': 0.1, 'maximum': 0.15})),\n",
       " 'mu': Parameter(name='mu', identifiers={}, context={}, value=0.017, distribution=Distribution(type='StandardUniform1', parameters={'minimum': 0.013600000000000001, 'maximum': 0.0204})),\n",
       " 'nu': Parameter(name='nu', identifiers={}, context={}, value=0.027, distribution=Distribution(type='StandardUniform1', parameters={'minimum': 0.0216, 'maximum': 0.0324})),\n",
       " 'tau': Parameter(name='tau', identifiers={}, context={}, value=0.01, distribution=Distribution(type='StandardUniform1', parameters={'minimum': 0.008, 'maximum': 0.012})),\n",
       " 'kappa': Parameter(name='kappa', identifiers={}, context={}, value=0.017, distribution=Distribution(type='StandardUniform1', parameters={'minimum': 0.013600000000000001, 'maximum': 0.0204})),\n",
       " 'rho': Parameter(name='rho', identifiers={}, context={}, value=0.034, distribution=Distribution(type='StandardUniform1', parameters={'minimum': 0.027200000000000002, 'maximum': 0.0408})),\n",
       " 'sigma': Parameter(name='sigma', identifiers={}, context={}, value=0.017, distribution=Distribution(type='StandardUniform1', parameters={'minimum': 0.013600000000000001, 'maximum': 0.0204})),\n",
       " 'xi': Parameter(name='xi', identifiers={}, context={}, value=0.017, distribution=Distribution(type='StandardUniform1', parameters={'minimum': 0.013600000000000001, 'maximum': 0.0204})),\n",
       " 'epsilon_modifier': Parameter(name='epsilon_modifier', identifiers={}, context={}, value=1.0, distribution=Distribution(type='StandardUniform1', parameters={'minimum': 0.8, 'maximum': 1.2})),\n",
       " 'alpha_modifier': Parameter(name='alpha_modifier', identifiers={}, context={}, value=1.0, distribution=Distribution(type='StandardUniform1', parameters={'minimum': 0.8, 'maximum': 1.2})),\n",
       " 'XXlambdaXX': Parameter(name='XXlambdaXX', identifiers={}, context={}, value=0.034, distribution=Distribution(type='StandardUniform1', parameters={'minimum': 0.027200000000000002, 'maximum': 0.0408}))}"
      ]
     },
     "execution_count": 8,
     "metadata": {},
     "output_type": "execute_result"
    }
   ],
   "source": [
    "template1.parameters"
   ]
  },
  {
   "cell_type": "code",
   "execution_count": 16,
   "metadata": {},
   "outputs": [
    {
     "data": {
      "text/plain": [
       "{'alpha': Parameter(name='alpha', identifiers={}, context={}, value=0.57, distribution=Distribution(type='StandardUniform1', parameters={'minimum': 0.45599999999999996, 'maximum': 0.6839999999999999})),\n",
       " 'beta': Parameter(name='beta', identifiers={}, context={}, value=0.011, distribution=Distribution(type='StandardUniform1', parameters={'minimum': 0.008799999999999999, 'maximum': 0.0132})),\n",
       " 'gamma': Parameter(name='gamma', identifiers={}, context={}, value=0.456, distribution=Distribution(type='StandardUniform1', parameters={'minimum': 0.3648, 'maximum': 0.5472})),\n",
       " 'delta': Parameter(name='delta', identifiers={}, context={}, value=0.011, distribution=Distribution(type='StandardUniform1', parameters={'minimum': 0.008799999999999999, 'maximum': 0.0132})),\n",
       " 'epsilon': Parameter(name='epsilon', identifiers={}, context={}, value=0.171, distribution=Distribution(type='StandardUniform1', parameters={'minimum': 0.1368, 'maximum': 0.20520000000000002})),\n",
       " 'theta': Parameter(name='theta', identifiers={}, context={}, value=0.371, distribution=Distribution(type='StandardUniform1', parameters={'minimum': 0.2968, 'maximum': 0.4452})),\n",
       " 'zeta': Parameter(name='zeta', identifiers={}, context={}, value=0.125, distribution=Distribution(type='StandardUniform1', parameters={'minimum': 0.1, 'maximum': 0.15})),\n",
       " 'eta': Parameter(name='eta', identifiers={}, context={}, value=0.125, distribution=Distribution(type='StandardUniform1', parameters={'minimum': 0.1, 'maximum': 0.15})),\n",
       " 'mu': Parameter(name='mu', identifiers={}, context={}, value=0.017, distribution=Distribution(type='StandardUniform1', parameters={'minimum': 0.013600000000000001, 'maximum': 0.0204})),\n",
       " 'nu': Parameter(name='nu', identifiers={}, context={}, value=0.027, distribution=Distribution(type='StandardUniform1', parameters={'minimum': 0.0216, 'maximum': 0.0324})),\n",
       " 'tau': Parameter(name='tau', identifiers={}, context={}, value=0.01, distribution=Distribution(type='StandardUniform1', parameters={'minimum': 0.008, 'maximum': 0.012})),\n",
       " 'kappa': Parameter(name='kappa', identifiers={}, context={}, value=0.017, distribution=Distribution(type='StandardUniform1', parameters={'minimum': 0.013600000000000001, 'maximum': 0.0204})),\n",
       " 'rho': Parameter(name='rho', identifiers={}, context={}, value=0.034, distribution=Distribution(type='StandardUniform1', parameters={'minimum': 0.027200000000000002, 'maximum': 0.0408})),\n",
       " 'sigma': Parameter(name='sigma', identifiers={}, context={}, value=0.017, distribution=Distribution(type='StandardUniform1', parameters={'minimum': 0.013600000000000001, 'maximum': 0.0204})),\n",
       " 'xi': Parameter(name='xi', identifiers={}, context={}, value=0.017, distribution=Distribution(type='StandardUniform1', parameters={'minimum': 0.013600000000000001, 'maximum': 0.0204})),\n",
       " 'epsilon_modifier': Parameter(name='epsilon_modifier', identifiers={}, context={}, value=1.0, distribution=Distribution(type='StandardUniform1', parameters={'minimum': 0.8, 'maximum': 1.2})),\n",
       " 'alpha_modifier': Parameter(name='alpha_modifier', identifiers={}, context={}, value=1.0, distribution=Distribution(type='StandardUniform1', parameters={'minimum': 0.8, 'maximum': 1.2})),\n",
       " 'XXlambdaXX': Parameter(name='XXlambdaXX', identifiers={}, context={}, value=0.034, distribution=Distribution(type='StandardUniform1', parameters={'minimum': 0.027200000000000002, 'maximum': 0.0408})),\n",
       " 'mira_param_0': Parameter(name='mira_param_0', identifiers={}, context={}, value=0.011, distribution=None),\n",
       " 'mira_param_1': Parameter(name='mira_param_1', identifiers={}, context={}, value=0.456, distribution=None),\n",
       " 'mira_param_2': Parameter(name='mira_param_2', identifiers={}, context={}, value=0.011, distribution=None),\n",
       " 'mira_param_3': Parameter(name='mira_param_3', identifiers={}, context={}, value=0.57, distribution=None),\n",
       " 'mira_param_4': Parameter(name='mira_param_4', identifiers={}, context={}, value=0.171, distribution=None),\n",
       " 'mira_param_5': Parameter(name='mira_param_5', identifiers={}, context={}, value=0.125, distribution=None),\n",
       " 'mira_param_6': Parameter(name='mira_param_6', identifiers={}, context={}, value=0.034, distribution=None),\n",
       " 'mira_param_7': Parameter(name='mira_param_7', identifiers={}, context={}, value=0.125, distribution=None),\n",
       " 'mira_param_8': Parameter(name='mira_param_8', identifiers={}, context={}, value=0.034, distribution=None),\n",
       " 'mira_param_9': Parameter(name='mira_param_9', identifiers={}, context={}, value=0.371, distribution=None),\n",
       " 'mira_param_10': Parameter(name='mira_param_10', identifiers={}, context={}, value=0.017, distribution=None),\n",
       " 'mira_param_11': Parameter(name='mira_param_11', identifiers={}, context={}, value=0.017, distribution=None),\n",
       " 'mira_param_12': Parameter(name='mira_param_12', identifiers={}, context={}, value=0.027, distribution=None),\n",
       " 'mira_param_13': Parameter(name='mira_param_13', identifiers={}, context={}, value=0.017, distribution=None),\n",
       " 'mira_param_14': Parameter(name='mira_param_14', identifiers={}, context={}, value=0.01, distribution=None),\n",
       " 'mira_param_15': Parameter(name='mira_param_15', identifiers={}, context={}, value=0.017, distribution=None)}"
      ]
     },
     "execution_count": 16,
     "metadata": {},
     "output_type": "execute_result"
    }
   ],
   "source": [
    "new_template = simplify_rate_laws(aggregate_parameters(template1))\n",
    "# new_template = simplify_rate_laws(template1)\n",
    "new_template.parameters\n",
    "\n"
   ]
  },
  {
   "cell_type": "code",
   "execution_count": 12,
   "metadata": {},
   "outputs": [
    {
     "data": {
      "text/plain": [
       "{'f': Parameter(name='f', identifiers={}, context={}, value=0.2, distribution=Distribution(type='StandardUniform1', parameters={'minimum': 0.16, 'maximum': 0.24000000000000002})),\n",
       " 'n': Parameter(name='n', identifiers={}, context={}, value=0.5, distribution=Distribution(type='StandardUniform1', parameters={'minimum': 0.4, 'maximum': 0.6})),\n",
       " 'q': Parameter(name='q', identifiers={}, context={}, value=0.83, distribution=Distribution(type='StandardUniform1', parameters={'minimum': 0.6639999999999999, 'maximum': 0.996})),\n",
       " 'sigma': Parameter(name='sigma', identifiers={}, context={}, value=0.2, distribution=Distribution(type='StandardUniform1', parameters={'minimum': 0.16, 'maximum': 0.24000000000000002})),\n",
       " 'beta': Parameter(name='beta', identifiers={}, context={}, value=2.115e-08, distribution=Distribution(type='StandardUniform1', parameters={'minimum': 1.6920000000000002e-08, 'maximum': 2.538e-08})),\n",
       " 'mu': Parameter(name='mu', identifiers={}, context={}, value=0.2, distribution=Distribution(type='StandardUniform1', parameters={'minimum': 0.16, 'maximum': 0.24000000000000002})),\n",
       " 'eta_r': Parameter(name='eta_r', identifiers={}, context={}, value=0.1, distribution=Distribution(type='StandardUniform1', parameters={'minimum': 0.08, 'maximum': 0.12000000000000001})),\n",
       " 'eta_u': Parameter(name='eta_u', identifiers={}, context={}, value=0.25, distribution=Distribution(type='StandardUniform1', parameters={'minimum': 0.2, 'maximum': 0.3})),\n",
       " 'theta': Parameter(name='theta', identifiers={}, context={}, value=0.07142857, distribution=Distribution(type='StandardUniform1', parameters={'minimum': 0.057142856, 'maximum': 0.085714284})),\n",
       " '_1': Parameter(name='_1', identifiers={}, context={}, value=1.0, distribution=Distribution(type='StandardUniform1', parameters={'minimum': 0.8, 'maximum': 1.2})),\n",
       " 'XXlambdaXX': Parameter(name='XXlambdaXX', identifiers={}, context={}, value=0.3, distribution=Distribution(type='StandardUniform1', parameters={'minimum': 0.24, 'maximum': 0.36})),\n",
       " 'h': Parameter(name='h', identifiers={}, context={}, value=0.05, distribution=Distribution(type='StandardUniform1', parameters={'minimum': 0.04, 'maximum': 0.060000000000000005}))}"
      ]
     },
     "execution_count": 12,
     "metadata": {},
     "output_type": "execute_result"
    }
   ],
   "source": [
    "\n",
    "template3.parameters"
   ]
  },
  {
   "cell_type": "code",
   "execution_count": 22,
   "metadata": {},
   "outputs": [
    {
     "data": {
      "text/plain": [
       "{'mira_param_0': <mira.modeling.ModelParameter at 0x7fee91669960>,\n",
       " 'mira_param_1': <mira.modeling.ModelParameter at 0x7fee91669de0>,\n",
       " 'mira_param_2': <mira.modeling.ModelParameter at 0x7fee91669d50>,\n",
       " 'mira_param_3': <mira.modeling.ModelParameter at 0x7fee916694b0>,\n",
       " 'mira_param_4': <mira.modeling.ModelParameter at 0x7fee91669450>,\n",
       " 'mira_param_5': <mira.modeling.ModelParameter at 0x7fee91669360>,\n",
       " 'mira_param_6': <mira.modeling.ModelParameter at 0x7fee91669330>,\n",
       " 'mira_param_7': <mira.modeling.ModelParameter at 0x7fee91669240>,\n",
       " 'mira_param_8': <mira.modeling.ModelParameter at 0x7fee91669210>,\n",
       " 'XXlambdaXX': <mira.modeling.ModelParameter at 0x7fee91669f30>,\n",
       " 'theta': <mira.modeling.ModelParameter at 0x7fee91669150>,\n",
       " (('Quarantined', ('identity', 'ido:0000514'), ('quarantined', 'ncit:C71902')),\n",
       "  ('Susceptible_unconfined',\n",
       "   ('identity', 'ido:0000514'),\n",
       "   ('quarantined', 'ncit:C68851')),\n",
       "  'NaturalConversion',\n",
       "  'rate'): <mira.modeling.ModelParameter at 0x7fee916690f0>,\n",
       " 'mira_param_9': <mira.modeling.ModelParameter at 0x7fee91669090>}"
      ]
     },
     "execution_count": 22,
     "metadata": {},
     "output_type": "execute_result"
    }
   ],
   "source": [
    "from mira.metamodel.ops import aggregate_parameters\n",
    "\n",
    "filename3 = \"BIOMD0000000983_template_model.json\"\n",
    "filename3 = os.path.join(MIRA_PATH, filename3)\n",
    "\n",
    "with open(filename3, \"r\") as f:\n",
    "    model_json3 = json.load(f)\n",
    "\n",
    "template3 = mira.metamodel.TemplateModel.from_json(model_json3)\n",
    "model3 = mira.modeling.Model(template3)\n",
    "\n",
    "new_template = aggregate_parameters(template3)\n",
    "new_model = mira.modeling.Model(new_template)\n",
    "new_model.parameters"
   ]
  },
  {
   "cell_type": "code",
   "execution_count": 26,
   "metadata": {},
   "outputs": [
    {
     "data": {
      "text/plain": [
       "{'beta': <mira.modeling.ModelParameter at 0x7fcb7c5388e0>,\n",
       " 'gamma': <mira.modeling.ModelParameter at 0x7fcb7c53bc10>,\n",
       " 'delta': <mira.modeling.ModelParameter at 0x7fcb7c53a050>,\n",
       " 'alpha': <mira.modeling.ModelParameter at 0x7fcb7c5e9570>,\n",
       " 'epsilon': <mira.modeling.ModelParameter at 0x7fcb7c5eb430>,\n",
       " 'zeta': <mira.modeling.ModelParameter at 0x7fcb7c5eac80>,\n",
       " 'XXlambdaXX': <mira.modeling.ModelParameter at 0x7fcb7c5eabc0>,\n",
       " 'eta': <mira.modeling.ModelParameter at 0x7fcb7c5eab00>,\n",
       " 'rho': <mira.modeling.ModelParameter at 0x7fcb7c5eaa70>,\n",
       " 'theta': <mira.modeling.ModelParameter at 0x7fcb7c5ea9e0>,\n",
       " 'kappa': <mira.modeling.ModelParameter at 0x7fcb7c5ea950>,\n",
       " 'mu': <mira.modeling.ModelParameter at 0x7fcb7c5ea890>,\n",
       " 'nu': <mira.modeling.ModelParameter at 0x7fcb7c5ea7d0>,\n",
       " 'xi': <mira.modeling.ModelParameter at 0x7fcb7c5ea740>,\n",
       " 'tau': <mira.modeling.ModelParameter at 0x7fcb7c5ea680>,\n",
       " 'sigma': <mira.modeling.ModelParameter at 0x7fcb7c5ea5c0>}"
      ]
     },
     "execution_count": 26,
     "metadata": {},
     "output_type": "execute_result"
    }
   ],
   "source": [
    "model1.parameters"
   ]
  },
  {
   "cell_type": "code",
   "execution_count": 44,
   "metadata": {},
   "outputs": [
    {
     "data": {
      "text/plain": [
       "{(('Susceptible_unconfined',\n",
       "   ('identity', 'ido:0000514'),\n",
       "   ('quarantined', 'ncit:C68851')),\n",
       "  ('Exposed', ('identity', 'apollosv:00000154')),\n",
       "  ('Infected_reported',\n",
       "   ('identity', 'ido:0000511'),\n",
       "   ('diagnosis', 'ncit:C15220')),\n",
       "  'ControlledConversion'): <mira.modeling.Transition at 0x7fcb7c5e8d00>,\n",
       " (('Susceptible_unconfined',\n",
       "   ('identity', 'ido:0000514'),\n",
       "   ('quarantined', 'ncit:C68851')),\n",
       "  ('Exposed', ('identity', 'apollosv:00000154')),\n",
       "  ('Infected_unreported',\n",
       "   ('identity', 'ido:0000511'),\n",
       "   ('diagnosed', 'ncit:C113725')),\n",
       "  'ControlledConversion'): <mira.modeling.Transition at 0x7fcb7c5e8c10>,\n",
       " (('Susceptible_unconfined',\n",
       "   ('identity', 'ido:0000514'),\n",
       "   ('quarantined', 'ncit:C68851')),\n",
       "  ('Quarantined', ('identity', 'ido:0000514'), ('quarantined', 'ncit:C71902')),\n",
       "  ('Infected_reported',\n",
       "   ('identity', 'ido:0000511'),\n",
       "   ('diagnosis', 'ncit:C15220')),\n",
       "  'ControlledConversion'): <mira.modeling.Transition at 0x7fcb7c5e8b20>,\n",
       " (('Susceptible_unconfined',\n",
       "   ('identity', 'ido:0000514'),\n",
       "   ('quarantined', 'ncit:C68851')),\n",
       "  ('Quarantined', ('identity', 'ido:0000514'), ('quarantined', 'ncit:C71902')),\n",
       "  ('Infected_unreported',\n",
       "   ('identity', 'ido:0000511'),\n",
       "   ('diagnosed', 'ncit:C113725')),\n",
       "  'ControlledConversion'): <mira.modeling.Transition at 0x7fcb7c5e8a90>,\n",
       " (('Quarantined', ('identity', 'ido:0000514'), ('quarantined', 'ncit:C71902')),\n",
       "  ('Infected_reported',\n",
       "   ('identity', 'ido:0000511'),\n",
       "   ('diagnosis', 'ncit:C15220')),\n",
       "  'NaturalConversion'): <mira.modeling.Transition at 0x7fcb7c5e87f0>,\n",
       " (('Exposed', ('identity', 'apollosv:00000154')),\n",
       "  ('Infected_reported',\n",
       "   ('identity', 'ido:0000511'),\n",
       "   ('diagnosis', 'ncit:C15220')),\n",
       "  'NaturalConversion'): <mira.modeling.Transition at 0x7fcb7c5e82b0>,\n",
       " (('Exposed', ('identity', 'apollosv:00000154')),\n",
       "  ('Infected_unreported',\n",
       "   ('identity', 'ido:0000511'),\n",
       "   ('diagnosed', 'ncit:C113725')),\n",
       "  'NaturalConversion'): <mira.modeling.Transition at 0x7fcb7c5e8370>,\n",
       " (('Infected_reported',\n",
       "   ('identity', 'ido:0000511'),\n",
       "   ('diagnosis', 'ncit:C15220')),\n",
       "  ('Recovered', ('identity', 'ido:0000592')),\n",
       "  'NaturalConversion'): <mira.modeling.Transition at 0x7fcb7c5e8550>,\n",
       " (('Infected_unreported',\n",
       "   ('identity', 'ido:0000511'),\n",
       "   ('diagnosed', 'ncit:C113725')),\n",
       "  ('Recovered', ('identity', 'ido:0000592')),\n",
       "  'NaturalConversion'): <mira.modeling.Transition at 0x7fcb7c5e8460>,\n",
       " (('Quarantined', ('identity', 'ido:0000514'), ('quarantined', 'ncit:C71902')),\n",
       "  ('Susceptible_unconfined',\n",
       "   ('identity', 'ido:0000514'),\n",
       "   ('quarantined', 'ncit:C68851')),\n",
       "  'NaturalConversion'): <mira.modeling.Transition at 0x7fcb7c5e8760>,\n",
       " (('Infected_reported',\n",
       "   ('identity', 'ido:0000511'),\n",
       "   ('diagnosis', 'ncit:C15220')),\n",
       "  ('Deceased', ('identity', 'ncit:C28554')),\n",
       "  'NaturalConversion'): <mira.modeling.Transition at 0x7fcb7c5ea170>}"
      ]
     },
     "execution_count": 44,
     "metadata": {},
     "output_type": "execute_result"
    }
   ],
   "source": [
    "model3.transitions"
   ]
  },
  {
   "cell_type": "code",
   "execution_count": 42,
   "metadata": {},
   "outputs": [
    {
     "data": {
      "text/plain": [
       "<function mira.modeling.ode.OdeModel.get_rhs.<locals>.rhs(t, y)>"
      ]
     },
     "execution_count": 42,
     "metadata": {},
     "output_type": "execute_result"
    }
   ],
   "source": [
    "from mira.modeling.ode import OdeModel\n",
    "\n",
    "ode1 = OdeModel(model1)\n",
    "\n",
    "ode1.set_parameters({'beta': 0.5})\n",
    "\n",
    "ode1.kinetics\n",
    "ode1.get_rhs()"
   ]
  },
  {
   "cell_type": "code",
   "execution_count": 35,
   "metadata": {},
   "outputs": [
    {
     "data": {
      "text/plain": [
       "ControlledConversion(rate_law=Infected_reported*Susceptible_unconfined*beta*n*(1.0 - sigma), type='ControlledConversion', controller=Concept(name='Infected_reported', identifiers={'ido': '0000511'}, context={'diagnosis': 'ncit:C15220'}), subject=Concept(name='Susceptible_unconfined', identifiers={'ido': '0000514'}, context={'quarantined': 'ncit:C68851'}), outcome=Concept(name='Exposed', identifiers={'apollosv': '00000154'}, context={}), provenance=[])"
      ]
     },
     "execution_count": 35,
     "metadata": {},
     "output_type": "execute_result"
    }
   ],
   "source": [
    "\n",
    "\n",
    "list(model3.transitions.values())[0].template"
   ]
  },
  {
   "cell_type": "code",
   "execution_count": 13,
   "metadata": {},
   "outputs": [],
   "source": [
    "import json\n",
    "import mira\n",
    "\n",
    "filename3 = \"BIOMD0000000983_template_model.json\"\n",
    "filename3 = os.path.join(MIRA_PATH, filename3)\n",
    "\n",
    "with open(filename3, \"r\") as f:\n",
    "    model_json3 = json.load(f)\n",
    "\n",
    "example_template = mira.metamodel.TemplateModel.from_json(model_json3)\n",
    "\n",
    "example_model = mira.modeling.Model(example_template)"
   ]
  },
  {
   "cell_type": "code",
   "execution_count": 14,
   "metadata": {},
   "outputs": [
    {
     "name": "stdout",
     "output_type": "stream",
     "text": [
      "f 0.2\n",
      "n 0.5\n",
      "q 0.83\n",
      "sigma 0.2\n",
      "beta 2.115e-08\n",
      "mu 0.2\n",
      "eta_r 0.1\n",
      "eta_u 0.25\n",
      "theta 0.07142857\n",
      "_1 1.0\n",
      "XXlambdaXX 0.3\n",
      "h 0.05\n"
     ]
    }
   ],
   "source": [
    "for p, v in example_template.parameters.items():\n",
    "    print(p, v.value)\n",
    "    "
   ]
  },
  {
   "cell_type": "code",
   "execution_count": null,
   "metadata": {},
   "outputs": [],
   "source": [
    "for p, v in example_template.parameters.items():\n",
    "    print(p, v.value)"
   ]
  }
 ],
 "metadata": {
  "kernelspec": {
   "display_name": "askem-test",
   "language": "python",
   "name": "python3"
  },
  "language_info": {
   "codemirror_mode": {
    "name": "ipython",
    "version": 3
   },
   "file_extension": ".py",
   "mimetype": "text/x-python",
   "name": "python",
   "nbconvert_exporter": "python",
   "pygments_lexer": "ipython3",
   "version": "3.10.0"
  },
  "orig_nbformat": 4
 },
 "nbformat": 4,
 "nbformat_minor": 2
}
