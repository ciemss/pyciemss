{
 "cells": [
  {
   "attachments": {},
   "cell_type": "markdown",
   "metadata": {},
   "source": [
    "# Introduction\n",
    "------------\n",
    "\n",
    "## Extremely Brief Probabilistic Programming Background\n",
    "Probabilistic programming languages like `Pyro`, `Turing.jl`, `Gen.jl`, `Stan`, etc. (partially) automate the difficult task of probabilistic modeling and inference.\n",
    "\n",
    "TLDR: Bayes Theorem is very flexible and powerful, but hard to work with!\n",
    "\n",
    "These technologies build on techniques in programming languages theory, Bayesian statistics, and probabilistic machine learning to provide efficient model-agnostic approximate solutions to hard probabilsitic inference problems.\n",
    "\n",
    "## General ASKEM Goal 1: \n",
    "Represent continuous-time dynamical systems models with uncertainty as probabilistic programs in a probabilistic programming language.\n",
    "\n",
    "## General ASKEM Goal 2:\n",
    "Represent ASKEM questions in terms of primitive query operations that PPLs (partially) automate for any probabilistic program. \n",
    "\n",
    "In `Pyro` and `CausalPyro`, the probabilistic programming languages we're using and developing: this includes operations like `sample`, `condition`, `intervene`, etc.\n",
    "\n",
    "## Ensemble Challenge Goal:\n",
    "Demonstrate how probabilsitic programming lets us think about probabilsitic models the way we think about software.\n",
    "\n",
    "First, we'll demonstrate how we can build probabilistic ensemble models compositionally from probabilsitic ODE models, with very few lines of code, and without losing any probabilsitic modeling functionality.\n",
    "\n",
    "Second, we'll show how to use our ASKEM-specific abstractions for building ensemble models in a no-code workflow. Using these abstractions, we'll make example forecasts based on historical data."
   ]
  },
  {
   "attachments": {},
   "cell_type": "markdown",
   "metadata": {},
   "source": [
    "-----------"
   ]
  },
  {
   "attachments": {},
   "cell_type": "markdown",
   "metadata": {},
   "source": [
    "# A Brief Tour of Ensemble Modeling in PyCIEMSS"
   ]
  },
  {
   "attachments": {},
   "cell_type": "markdown",
   "metadata": {},
   "source": [
    "```python\n",
    "\n",
    "class DynamicalSystem(pyro.nn.module):\n",
    "    \n",
    "    ...\n",
    "\n",
    "    def forward(self, *args, **kwargs) -> Solution:\n",
    "        '''\n",
    "        Joint distribution over model parameters, trajectories, and noisy observations.\n",
    "        '''\n",
    "        # Setup the anything the dynamical system needs before solving.\n",
    "        self.setup_before_solve()\n",
    "\n",
    "        # Sample parameters from the prior\n",
    "        self.param_prior()\n",
    "\n",
    "        # \"Solve\" the Dynamical System\n",
    "        solution = self.get_solution(*args, **kwargs)        \n",
    "\n",
    "        # Add the observation likelihoods for probabilistic inference (if applicable)\n",
    "        self.add_observation_likelihoods(solution)\n",
    "\n",
    "        return self.log_solution(solution) \n",
    "```"
   ]
  },
  {
   "attachments": {},
   "cell_type": "markdown",
   "metadata": {},
   "source": [
    "```python\n",
    "\n",
    "class ODESystem(DynamicalSystem):\n",
    "    \n",
    "    ...\n",
    "\n",
    "    def param_prior(self):\n",
    "        # Sample all of the parameters from the prior and store them as attributes of the ODESystem.\n",
    "        ...\n",
    "    \n",
    "    def get_solution(*args, **kwargs):\n",
    "        # Run an off-the-shelf ODE solver, using the parameters generated from the call to self.param_prior()\n",
    "        # Make sure to evaluate at all points the user wants logged, and at all observations.\n",
    "        ...\n",
    "        local_solution = torchdiffeq.odeint(self.deriv, initial_state, local_tspan)\n",
    "        ...\n",
    "    \n",
    "```"
   ]
  },
  {
   "attachments": {},
   "cell_type": "markdown",
   "metadata": {},
   "source": [
    "```python\n",
    "class EnsembleSystem(DynamicalSystem):\n",
    "\n",
    "        def __init__(self, \n",
    "                     models: List[DynamicalSystem], \n",
    "                     dirichlet_alpha: torch.tensor,\n",
    "                     solution_mappings: Callable) -> None:\n",
    "\n",
    "        self.models = models\n",
    "        self.dirichlet_alpha = dirichlet_alpha\n",
    "        self.solution_mappings = solution_mappings\n",
    "\n",
    "    ...\n",
    "\n",
    "    def param_prior(self):\n",
    "        # The prior distribution over parameters in an ensemble is just the prior distribution over each constituent model's parameters.\n",
    "        for i, model in enumerate(self.models):\n",
    "            with scope(prefix=f'model_{i}'):\n",
    "                model.param_prior()\n",
    "    \n",
    "    def get_solution(self, *args, **kwargs):\n",
    "        \n",
    "        # Sample model weights from a Dirichlet distribution\n",
    "        model_weights = pyro.sample('model_weights', pyro.distributions.Dirichlet(self.dirichlet_alpha))\n",
    "\n",
    "        # Solve the Dynamical System for each model in self.models, mapping outputs to the shared state representation.\n",
    "        solutions = [mapping(model.get_solution(*args, **kwargs)) for model, mapping in zip(self.models, self.solution_mappings)]\n",
    "\n",
    "        # Combine the ensemble solutions, scaled by `model_weights`.\n",
    "        solution = {k: sum([model_weights[i] * v[k] for i, v in enumerate(solutions)]) for k in solutions[0].keys()}\n",
    "\n",
    "        return solution\n",
    "```\n"
   ]
  },
  {
   "attachments": {},
   "cell_type": "markdown",
   "metadata": {},
   "source": [
    "---"
   ]
  },
  {
   "attachments": {},
   "cell_type": "markdown",
   "metadata": {},
   "source": [
    "### Limitations\n",
    "\n",
    "1. Fixed parameters for all time\n",
    "2. Fixed mixture weights for all time\n",
    "\n",
    "### Possible Future Developments\n",
    "\n",
    "1. Translate ODE models to SDE models with time-varying stochastic parameters. (Be careful for reasons Chris R mentioned)\n",
    "2. Allows mixture to weights to smoothly vary (with uncertainty) over time. \n",
    "    - Hidden markov model with local transitions over mixture weights\n",
    "    - Gaussian process prior over time-varying dirichlet weights"
   ]
  },
  {
   "attachments": {},
   "cell_type": "markdown",
   "metadata": {},
   "source": [
    "# A Brief Tour of ASKEM-specific interfaces\n",
    "\n",
    "Here we show how PyCIEMSS can be used in a no-code (or low-code) modeling workflow"
   ]
  },
  {
   "cell_type": "code",
   "execution_count": 66,
   "metadata": {},
   "outputs": [
    {
     "name": "stdout",
     "output_type": "stream",
     "text": [
      "The autoreload extension is already loaded. To reload it, use:\n",
      "  %reload_ext autoreload\n"
     ]
    }
   ],
   "source": [
    "%load_ext autoreload\n",
    "%autoreload 2"
   ]
  },
  {
   "cell_type": "code",
   "execution_count": 67,
   "metadata": {},
   "outputs": [],
   "source": [
    "# First, let's load the dependencies and set up the notebook environment.\n",
    "import os\n",
    "\n",
    "import torch\n",
    "import pandas as pd\n",
    "import numpy as np\n",
    "import matplotlib.pyplot as plt\n",
    "import seaborn as sns\n",
    "\n",
    "from pyciemss.PetriNetODE.interfaces import load_petri_model\n",
    "from pyciemss.Ensemble.interfaces import setup_model, reset_model, intervene, sample, calibrate\n",
    "from pyciemss.utils.interface_utils import convert_to_output_format\n",
    "import pyciemss.visuals.plots as plots\n"
   ]
  },
  {
   "attachments": {},
   "cell_type": "markdown",
   "metadata": {},
   "source": [
    "## Load Data"
   ]
  },
  {
   "cell_type": "code",
   "execution_count": 68,
   "metadata": {},
   "outputs": [
    {
     "data": {
      "text/html": [
       "<div>\n",
       "<style scoped>\n",
       "    .dataframe tbody tr th:only-of-type {\n",
       "        vertical-align: middle;\n",
       "    }\n",
       "\n",
       "    .dataframe tbody tr th {\n",
       "        vertical-align: top;\n",
       "    }\n",
       "\n",
       "    .dataframe thead th {\n",
       "        text-align: right;\n",
       "    }\n",
       "</style>\n",
       "<table border=\"1\" class=\"dataframe\">\n",
       "  <thead>\n",
       "    <tr style=\"text-align: right;\">\n",
       "      <th></th>\n",
       "      <th>date</th>\n",
       "      <th>case_census</th>\n",
       "      <th>cumulative_deaths</th>\n",
       "      <th>hospital_census</th>\n",
       "    </tr>\n",
       "  </thead>\n",
       "  <tbody>\n",
       "    <tr>\n",
       "      <th>0</th>\n",
       "      <td>2020-01-22</td>\n",
       "      <td>1</td>\n",
       "      <td>1</td>\n",
       "      <td>NaN</td>\n",
       "    </tr>\n",
       "    <tr>\n",
       "      <th>1</th>\n",
       "      <td>2020-01-23</td>\n",
       "      <td>1</td>\n",
       "      <td>1</td>\n",
       "      <td>NaN</td>\n",
       "    </tr>\n",
       "    <tr>\n",
       "      <th>2</th>\n",
       "      <td>2020-01-24</td>\n",
       "      <td>2</td>\n",
       "      <td>1</td>\n",
       "      <td>NaN</td>\n",
       "    </tr>\n",
       "    <tr>\n",
       "      <th>3</th>\n",
       "      <td>2020-01-25</td>\n",
       "      <td>2</td>\n",
       "      <td>1</td>\n",
       "      <td>NaN</td>\n",
       "    </tr>\n",
       "    <tr>\n",
       "      <th>4</th>\n",
       "      <td>2020-01-26</td>\n",
       "      <td>5</td>\n",
       "      <td>1</td>\n",
       "      <td>NaN</td>\n",
       "    </tr>\n",
       "    <tr>\n",
       "      <th>...</th>\n",
       "      <td>...</td>\n",
       "      <td>...</td>\n",
       "      <td>...</td>\n",
       "      <td>...</td>\n",
       "    </tr>\n",
       "    <tr>\n",
       "      <th>1133</th>\n",
       "      <td>2023-02-28</td>\n",
       "      <td>306041</td>\n",
       "      <td>1120002</td>\n",
       "      <td>19702.0</td>\n",
       "    </tr>\n",
       "    <tr>\n",
       "      <th>1134</th>\n",
       "      <td>2023-03-01</td>\n",
       "      <td>388037</td>\n",
       "      <td>1120911</td>\n",
       "      <td>19554.0</td>\n",
       "    </tr>\n",
       "    <tr>\n",
       "      <th>1135</th>\n",
       "      <td>2023-03-02</td>\n",
       "      <td>447253</td>\n",
       "      <td>1121667</td>\n",
       "      <td>19470.0</td>\n",
       "    </tr>\n",
       "    <tr>\n",
       "      <th>1136</th>\n",
       "      <td>2023-03-03</td>\n",
       "      <td>446842</td>\n",
       "      <td>1122157</td>\n",
       "      <td>19694.0</td>\n",
       "    </tr>\n",
       "    <tr>\n",
       "      <th>1137</th>\n",
       "      <td>2023-03-04</td>\n",
       "      <td>338633</td>\n",
       "      <td>1122164</td>\n",
       "      <td>19278.0</td>\n",
       "    </tr>\n",
       "  </tbody>\n",
       "</table>\n",
       "<p>1138 rows × 4 columns</p>\n",
       "</div>"
      ],
      "text/plain": [
       "            date  case_census  cumulative_deaths  hospital_census\n",
       "0     2020-01-22            1                  1              NaN\n",
       "1     2020-01-23            1                  1              NaN\n",
       "2     2020-01-24            2                  1              NaN\n",
       "3     2020-01-25            2                  1              NaN\n",
       "4     2020-01-26            5                  1              NaN\n",
       "...          ...          ...                ...              ...\n",
       "1133  2023-02-28       306041            1120002          19702.0\n",
       "1134  2023-03-01       388037            1120911          19554.0\n",
       "1135  2023-03-02       447253            1121667          19470.0\n",
       "1136  2023-03-03       446842            1122157          19694.0\n",
       "1137  2023-03-04       338633            1122164          19278.0\n",
       "\n",
       "[1138 rows x 4 columns]"
      ]
     },
     "execution_count": 68,
     "metadata": {},
     "output_type": "execute_result"
    }
   ],
   "source": [
    "# works with main \n",
    "# Load the data as a torch tensor.\n",
    "DATA_PATH = \"../../notebook/april_ensemble/covid_data/\"\n",
    "data_filename = \"US_case_hospital_death.csv\"\n",
    "data_filename = os.path.join(DATA_PATH, data_filename)\n",
    "\n",
    "data = pd.read_csv(data_filename)\n",
    "\n",
    "# Clip off the first 2 months of data\n",
    "data_total_population = 331893745\n",
    "train_start_date = \"2021-12-01\"\n",
    "test_start_date = \"2022-03-01\"\n",
    "test_end_date = \"2022-04-01\"\n",
    "\n",
    "data"
   ]
  },
  {
   "cell_type": "code",
   "execution_count": 69,
   "metadata": {},
   "outputs": [],
   "source": [
    "def get_train_test_data(data: pd.DataFrame, train_start_date: str, test_start_date: str, test_end_date: str) -> pd.DataFrame:\n",
    "    train_df = data[(data['date'] >= train_start_date) & (data['date'] < test_start_date)]\n",
    "    train_data = [0] * train_df.shape[0]\n",
    "    start_time = train_df.index[0]\n",
    "\n",
    "    train_cases = np.array(train_df[\"case_census\"].astype(\"float\")) / data_total_population\n",
    "    train_timepoints = np.array(train_df.index.astype(\"float\"))\n",
    "\n",
    "    test_df = data[(data['date'] >= test_start_date) & (data['date'] < test_end_date)]\n",
    "    test_cases = np.array(test_df[\"case_census\"].astype(\"float\")) / data_total_population\n",
    "    test_timepoints = np.array(test_df.index.astype(\"float\"))\n",
    "\n",
    "    for time, row in train_df.iterrows():\n",
    "        row_dict = {}\n",
    "        row_dict[\"Cases\"] = row[\"case_census\"] / data_total_population\n",
    "        row_dict[\"Dead\"] = row[\"cumulative_deaths\"] / data_total_population\n",
    "        if row[\"hospital_census\"] > 0:\n",
    "            row_dict[\"Hospitalizations\"] = row[\"hospital_census\"] / data_total_population\n",
    "\n",
    "        index = time - start_time\n",
    "        train_data[index] = (float(time), row_dict)\n",
    "    \n",
    "    all_timepoints = np.concatenate((train_timepoints, test_timepoints))\n",
    "\n",
    "    return train_data, train_cases, train_timepoints, test_cases, test_timepoints, all_timepoints"
   ]
  },
  {
   "cell_type": "code",
   "execution_count": 70,
   "metadata": {},
   "outputs": [],
   "source": [
    "train_data, train_cases, train_timepoints, test_cases, test_timepoints, all_timepoints = get_train_test_data(data, train_start_date, test_start_date, test_end_date)"
   ]
  },
  {
   "cell_type": "code",
   "execution_count": null,
   "metadata": {},
   "outputs": [],
   "source": []
  },
  {
   "attachments": {},
   "cell_type": "markdown",
   "metadata": {},
   "source": [
    "## Setup Models"
   ]
  },
  {
   "attachments": {},
   "cell_type": "markdown",
   "metadata": {},
   "source": [
    "### Model 1"
   ]
  },
  {
   "cell_type": "code",
   "execution_count": 71,
   "metadata": {},
   "outputs": [
    {
     "data": {
      "text/plain": [
       "ScaledNormalNoisePetriNetODESystem(\n",
       "\tbeta = Uniform(low: 0.008799999952316284, high: 0.013199999928474426),\n",
       "\tgamma = Uniform(low: 0.36480000615119934, high: 0.5472000241279602),\n",
       "\tdelta = Uniform(low: 0.008799999952316284, high: 0.013199999928474426),\n",
       "\talpha = Uniform(low: 0.4560000002384186, high: 0.6840000152587891),\n",
       "\tepsilon = Uniform(low: 0.13680000603199005, high: 0.20520000159740448),\n",
       "\tzeta = Uniform(low: 0.10000000149011612, high: 0.15000000596046448),\n",
       "\tXXlambdaXX = Uniform(low: 0.0272000003606081, high: 0.040800001472234726),\n",
       "\teta = Uniform(low: 0.10000000149011612, high: 0.15000000596046448),\n",
       "\trho = Uniform(low: 0.0272000003606081, high: 0.040800001472234726),\n",
       "\ttheta = Uniform(low: 0.29679998755455017, high: 0.44519999623298645),\n",
       "\tkappa = Uniform(low: 0.01360000018030405, high: 0.020400000736117363),\n",
       "\tmu = Uniform(low: 0.01360000018030405, high: 0.020400000736117363),\n",
       "\tnu = Uniform(low: 0.02160000056028366, high: 0.03240000084042549),\n",
       "\txi = Uniform(low: 0.01360000018030405, high: 0.020400000736117363),\n",
       "\ttau = Uniform(low: 0.00800000037997961, high: 0.012000000104308128),\n",
       "\tsigma = Uniform(low: 0.01360000018030405, high: 0.020400000736117363),\n",
       "\tnoise_scale = 0.10000000149011612\n",
       ")"
      ]
     },
     "execution_count": 71,
     "metadata": {},
     "output_type": "execute_result"
    }
   ],
   "source": [
    "MIRA_PATH = \"../../test/models/april_ensemble_demo/\"\n",
    "\n",
    "filename1 = \"BIOMD0000000955_template_model.json\"\n",
    "filename1 = os.path.join(MIRA_PATH, filename1)\n",
    "model1 = load_petri_model(filename1, add_uncertainty=True)\n",
    "\n",
    "model1"
   ]
  },
  {
   "cell_type": "code",
   "execution_count": 72,
   "metadata": {},
   "outputs": [],
   "source": [
    "def create_start_state1(data, start_date):\n",
    "    start_state = data.set_index('date').loc[start_date].to_dict()\n",
    "\n",
    "    returned_state = {}\n",
    "    returned_state[\"Extinct\"] = start_state['cumulative_deaths']\n",
    "    \n",
    "    if np.isnan(start_state['hospital_census']):\n",
    "        returned_state[\"Threatened\"] = start_state['case_census'] / 100\n",
    "    else:\n",
    "        returned_state[\"Threatened\"] = start_state['hospital_census']\n",
    "\n",
    "    returned_state[\"Diagnosed\"] = start_state['case_census'] / 2\n",
    "    returned_state[\"Recognized\"] = start_state['case_census'] / 2\n",
    "    returned_state['Infected'] = start_state['case_census'] * 5\n",
    "    returned_state['Ailing'] = returned_state[\"Threatened\"] * 50\n",
    "\n",
    "    returned_state['Healed'] = start_state['cumulative_deaths'] * 50\n",
    "    returned_state['Susceptible'] =  data_total_population - sum(returned_state.values())\n",
    "    assert(returned_state['Susceptible'] > 0)\n",
    "    return {k:v/data_total_population for k, v in returned_state.items()}"
   ]
  },
  {
   "cell_type": "code",
   "execution_count": 73,
   "metadata": {},
   "outputs": [],
   "source": [
    "test_dates = pd.date_range(start=train_start_date, end=test_end_date, freq=\"1D\")\n",
    "test_dates = [date.strftime(\"%Y-%m-%d\") for date in test_dates[1:-1]]"
   ]
  },
  {
   "cell_type": "code",
   "execution_count": 74,
   "metadata": {},
   "outputs": [
    {
     "data": {
      "text/plain": [
       "{'Extinct': 0.002354530664625813,\n",
       " 'Threatened': 0.00012599815642804597,\n",
       " 'Diagnosed': 0.0014301113146919957,\n",
       " 'Recognized': 0.0014301113146919957,\n",
       " 'Infected': 0.014301113146919958,\n",
       " 'Ailing': 0.006299907821402298,\n",
       " 'Healed': 0.11772653323129063,\n",
       " 'Susceptible': 0.8563316943499493}"
      ]
     },
     "execution_count": 74,
     "metadata": {},
     "output_type": "execute_result"
    }
   ],
   "source": [
    "# Check all dates to make sure no initial values are negative\n",
    "[create_start_state1(data, date) for date in test_dates]\n",
    "\n",
    "start_state1 = create_start_state1(data, train_start_date)\n",
    "start_state1"
   ]
  },
  {
   "cell_type": "code",
   "execution_count": 75,
   "metadata": {},
   "outputs": [],
   "source": [
    "# Taken from \"observables\" in JSON file\n",
    "def solution_mapping1(model1_solution: dict) -> dict:\n",
    "    mapped_dict = {}\n",
    "    mapped_dict[\"Cases\"] = model1_solution[\"Diagnosed\"] + model1_solution[\"Recognized\"]\n",
    "    mapped_dict[\"Hospitalizations\"] = model1_solution[\"Threatened\"]\n",
    "    mapped_dict[\"Dead\"] = model1_solution[\"Extinct\"]\n",
    "    return mapped_dict"
   ]
  },
  {
   "attachments": {},
   "cell_type": "markdown",
   "metadata": {},
   "source": [
    "## NOTE - This mapping from MIRA uses the same state variables multiple times. This violates the implicit mass balance assumption of this ensemble.\n",
    "\n",
    "We changed the above mapping to ensure that each state variable was used only once."
   ]
  },
  {
   "attachments": {},
   "cell_type": "markdown",
   "metadata": {},
   "source": [
    "### Model 2"
   ]
  },
  {
   "cell_type": "code",
   "execution_count": 76,
   "metadata": {},
   "outputs": [
    {
     "name": "stderr",
     "output_type": "stream",
     "text": [
      "/Users/oost464/Library/CloudStorage/OneDrive-PNNL/Desktop/projects/pyciemss/src/pyciemss/PetriNetODE/base.py:342: UserWarning: Parameter (('Susceptible', ('identity', 'ido:0000514')), ('Exposed', ('identity', 'apollosv:00000154')), ('Infectious', ('identity', 'ido:0000511'), ('disease_severity', 'ncit:C25269'), ('hospitalization', 'ncit:C68851')), 'ControlledConversion', 'rate') has value None and will be set to Uniform(0, 1). This is likely to be an error.\n",
      "  warnings.warn(warnings_string)\n",
      "/Users/oost464/Library/CloudStorage/OneDrive-PNNL/Desktop/projects/pyciemss/src/pyciemss/PetriNetODE/base.py:342: UserWarning: Parameter (('Susceptible', ('identity', 'ido:0000514')), ('Exposed', ('identity', 'apollosv:00000154')), ('Asymptomatic', ('identity', 'ido:0000511'), ('disease_severity', 'ncit:C3833'), ('hospitalization', 'ncit:C68851')), 'ControlledConversion', 'rate') has value None and will be set to Uniform(0, 1). This is likely to be an error.\n",
      "  warnings.warn(warnings_string)\n",
      "/Users/oost464/Library/CloudStorage/OneDrive-PNNL/Desktop/projects/pyciemss/src/pyciemss/PetriNetODE/base.py:342: UserWarning: Parameter (('Susceptible', ('identity', 'ido:0000514')), ('Exposed', ('identity', 'apollosv:00000154')), ('Hospitalized', ('identity', 'ido:0000511'), ('disease_severity', 'ncit:C25269'), ('hospitalization', 'ncit:C25179')), 'ControlledConversion', 'rate') has value None and will be set to Uniform(0, 1). This is likely to be an error.\n",
      "  warnings.warn(warnings_string)\n",
      "/Users/oost464/Library/CloudStorage/OneDrive-PNNL/Desktop/projects/pyciemss/src/pyciemss/PetriNetODE/base.py:342: UserWarning: Parameter (('Exposed', ('identity', 'apollosv:00000154')), ('Infectious', ('identity', 'ido:0000511'), ('disease_severity', 'ncit:C25269'), ('hospitalization', 'ncit:C68851')), 'NaturalConversion', 'rate') has value None and will be set to Uniform(0, 1). This is likely to be an error.\n",
      "  warnings.warn(warnings_string)\n",
      "/Users/oost464/Library/CloudStorage/OneDrive-PNNL/Desktop/projects/pyciemss/src/pyciemss/PetriNetODE/base.py:342: UserWarning: Parameter (('Exposed', ('identity', 'apollosv:00000154')), ('Asymptomatic', ('identity', 'ido:0000511'), ('disease_severity', 'ncit:C3833'), ('hospitalization', 'ncit:C68851')), 'NaturalConversion', 'rate') has value None and will be set to Uniform(0, 1). This is likely to be an error.\n",
      "  warnings.warn(warnings_string)\n",
      "/Users/oost464/Library/CloudStorage/OneDrive-PNNL/Desktop/projects/pyciemss/src/pyciemss/PetriNetODE/base.py:346: UserWarning: Parameter delta_A has value 0.0 <= 0.0. This is likely to be an error.\n",
      "  warnings.warn(warnings_string)\n",
      "/Users/oost464/Library/CloudStorage/OneDrive-PNNL/Desktop/projects/pyciemss/src/pyciemss/PetriNetODE/base.py:342: UserWarning: Parameter (('Asymptomatic', ('identity', 'ido:0000511'), ('disease_severity', 'ncit:C3833'), ('hospitalization', 'ncit:C68851')), ('Recovered', ('identity', 'ido:0000592')), 'NaturalConversion', 'rate') has value None and will be set to Uniform(0, 1). This is likely to be an error.\n",
      "  warnings.warn(warnings_string)\n",
      "/Users/oost464/Library/CloudStorage/OneDrive-PNNL/Desktop/projects/pyciemss/src/pyciemss/PetriNetODE/base.py:342: UserWarning: Parameter (('Asymptomatic', ('identity', 'ido:0000511'), ('disease_severity', 'ncit:C3833'), ('hospitalization', 'ncit:C68851')), ('Deceased', ('identity', 'ncit:C28554')), 'NaturalConversion', 'rate') has value None and will be set to Uniform(0, 1). This is likely to be an error.\n",
      "  warnings.warn(warnings_string)\n"
     ]
    },
    {
     "data": {
      "text/plain": [
       "ScaledNormalNoisePetriNetODESystem(\n",
       "\tTotal_pop_USA = Uniform(low: 262560000.0, high: 393840000.0),\n",
       "\tbeta_1_USA = Uniform(low: 0.24240000545978546, high: 0.3635999858379364),\n",
       "\t(('Susceptible', ('identity', 'ido:0000514')), ('Exposed', ('identity', 'apollosv:00000154')), ('Infectious', ('identity', 'ido:0000511'), ('disease_severity', 'ncit:C25269'), ('hospitalization', 'ncit:C68851')), 'ControlledConversion', 'rate') = Uniform(low: 0.0, high: 1.0),\n",
       "\tl_a_1_USA = Uniform(low: 3.2720000743865967, high: 4.9079999923706055),\n",
       "\t(('Susceptible', ('identity', 'ido:0000514')), ('Exposed', ('identity', 'apollosv:00000154')), ('Asymptomatic', ('identity', 'ido:0000511'), ('disease_severity', 'ncit:C3833'), ('hospitalization', 'ncit:C68851')), 'ControlledConversion', 'rate') = Uniform(low: 0.0, high: 1.0),\n",
       "\tl_1_USA = Uniform(low: 0.6808000206947327, high: 1.0211999416351318),\n",
       "\t(('Susceptible', ('identity', 'ido:0000514')), ('Exposed', ('identity', 'apollosv:00000154')), ('Hospitalized', ('identity', 'ido:0000511'), ('disease_severity', 'ncit:C25269'), ('hospitalization', 'ncit:C25179')), 'ControlledConversion', 'rate') = Uniform(low: 0.0, high: 1.0),\n",
       "\trho = Uniform(low: 0.042399998754262924, high: 0.06360000371932983),\n",
       "\tkappa = Uniform(low: 0.35199999809265137, high: 0.527999997138977),\n",
       "\t(('Exposed', ('identity', 'apollosv:00000154')), ('Infectious', ('identity', 'ido:0000511'), ('disease_severity', 'ncit:C25269'), ('hospitalization', 'ncit:C68851')), 'NaturalConversion', 'rate') = Uniform(low: 0.0, high: 1.0),\n",
       "\t(('Exposed', ('identity', 'apollosv:00000154')), ('Asymptomatic', ('identity', 'ido:0000511'), ('disease_severity', 'ncit:C3833'), ('hospitalization', 'ncit:C68851')), 'NaturalConversion', 'rate') = Uniform(low: 0.0, high: 1.0),\n",
       "\tgamma_a_USA = Uniform(low: 0.04399999976158142, high: 0.06599999964237213),\n",
       "\tgamma_i_USA = Uniform(low: 0.23680000007152557, high: 0.35519999265670776),\n",
       "\tdelta_I_USA = Uniform(low: 0.018400000408291817, high: 0.02759999968111515),\n",
       "\tdelta_A = 0.0,\n",
       "\tmu = Uniform(low: 1.312000036239624, high: 1.968000054359436),\n",
       "\t(('Asymptomatic', ('identity', 'ido:0000511'), ('disease_severity', 'ncit:C3833'), ('hospitalization', 'ncit:C68851')), ('Recovered', ('identity', 'ido:0000592')), 'NaturalConversion', 'rate') = Uniform(low: 0.0, high: 1.0),\n",
       "\t(('Asymptomatic', ('identity', 'ido:0000511'), ('disease_severity', 'ncit:C3833'), ('hospitalization', 'ncit:C68851')), ('Deceased', ('identity', 'ncit:C28554')), 'NaturalConversion', 'rate') = Uniform(low: 0.0, high: 1.0),\n",
       "\tdelta_H_USA = Uniform(low: 0.00023200000578071922, high: 0.0003480000013951212),\n",
       "\tgamma_r_USA = Uniform(low: 0.014399999752640724, high: 0.02160000056028366),\n",
       "\tnoise_scale = 0.10000000149011612\n",
       ")"
      ]
     },
     "execution_count": 76,
     "metadata": {},
     "output_type": "execute_result"
    }
   ],
   "source": [
    "filename2 = \"BIOMD0000000960_template_model.json\"\n",
    "filename2 = os.path.join(MIRA_PATH, filename2)\n",
    "model2 = load_petri_model(filename2, add_uncertainty=True)\n",
    "\n",
    "# TODO: put this into the interfaces\n",
    "mira_start_state2 = {k[0]: v.data['initial_value'] for k, v in model2.G.variables.items()}\n",
    "\n",
    "model2"
   ]
  },
  {
   "cell_type": "code",
   "execution_count": 77,
   "metadata": {},
   "outputs": [],
   "source": [
    "model2_total_population = sum(mira_start_state2.values())\n",
    "\n",
    "def solution_mapping2(model2_solution: dict) -> dict:\n",
    "    mapped_dict = {}\n",
    "    mapped_dict[\"Cases\"] = model2_solution[\"Infectious\"] / model2_total_population\n",
    "    mapped_dict[\"Hospitalizations\"] = model2_solution[\"Hospitalized\"] / model2_total_population\n",
    "    mapped_dict[\"Dead\"] = model2_solution[\"Deceased\"] / model2_total_population\n",
    "    return mapped_dict"
   ]
  },
  {
   "cell_type": "code",
   "execution_count": 78,
   "metadata": {},
   "outputs": [],
   "source": [
    "def create_start_state2(data, start_date):\n",
    "    start_state = data.set_index('date').loc[start_date].to_dict()\n",
    "\n",
    "    returned_state = {}\n",
    "    returned_state[\"Deceased\"] = start_state['cumulative_deaths']\n",
    "    \n",
    "    if np.isnan(start_state['hospital_census']):\n",
    "        returned_state[\"Hospitalized\"] = start_state['case_census'] / 100\n",
    "    else:\n",
    "        returned_state[\"Hospitalized\"] = start_state['hospital_census']\n",
    "    \n",
    "    returned_state[\"Infectious\"] = start_state['case_census']\n",
    "\n",
    "    returned_state['Exposed'] = start_state['case_census'] * 10\n",
    "    returned_state['Asymptomatic'] = start_state['case_census'] * 5\n",
    "\n",
    "    returned_state['Recovered'] = start_state['cumulative_deaths'] * 10\n",
    "\n",
    "    returned_state['Susceptible'] =  data_total_population - sum(returned_state.values())\n",
    "    assert(returned_state['Susceptible'] > 0)\n",
    "    return {k:v*(model2_total_population/data_total_population) for k, v in returned_state.items()}"
   ]
  },
  {
   "cell_type": "code",
   "execution_count": null,
   "metadata": {},
   "outputs": [],
   "source": []
  },
  {
   "cell_type": "code",
   "execution_count": 79,
   "metadata": {},
   "outputs": [
    {
     "data": {
      "text/plain": [
       "{'Deceased': 23402.923467906872,\n",
       " 'Hospitalized': 1252.362203764943,\n",
       " 'Infectious': 28429.262910995807,\n",
       " 'Exposed': 284292.62910995807,\n",
       " 'Asymptomatic': 142146.31455497904,\n",
       " 'Recovered': 234029.23467906873,\n",
       " 'Susceptible': 9225975.273073327}"
      ]
     },
     "execution_count": 79,
     "metadata": {},
     "output_type": "execute_result"
    }
   ],
   "source": [
    "[create_start_state2(data, date) for date in test_dates]\n",
    "start_state2 = create_start_state2(data, train_start_date)\n",
    "start_state2"
   ]
  },
  {
   "attachments": {},
   "cell_type": "markdown",
   "metadata": {},
   "source": [
    "### Model 3"
   ]
  },
  {
   "cell_type": "code",
   "execution_count": 80,
   "metadata": {},
   "outputs": [
    {
     "name": "stderr",
     "output_type": "stream",
     "text": [
      "/Users/oost464/Library/CloudStorage/OneDrive-PNNL/Desktop/projects/pyciemss/src/pyciemss/PetriNetODE/base.py:342: UserWarning: Parameter (('Susceptible_unconfined', ('identity', 'ido:0000514'), ('quarantined', 'ncit:C68851')), ('Exposed', ('identity', 'apollosv:00000154')), ('Infected_reported', ('identity', 'ido:0000511'), ('diagnosis', 'ncit:C15220')), 'ControlledConversion', 'rate') has value None and will be set to Uniform(0, 1). This is likely to be an error.\n",
      "  warnings.warn(warnings_string)\n",
      "/Users/oost464/Library/CloudStorage/OneDrive-PNNL/Desktop/projects/pyciemss/src/pyciemss/PetriNetODE/base.py:342: UserWarning: Parameter (('Susceptible_unconfined', ('identity', 'ido:0000514'), ('quarantined', 'ncit:C68851')), ('Exposed', ('identity', 'apollosv:00000154')), ('Infected_unreported', ('identity', 'ido:0000511'), ('diagnosed', 'ncit:C113725')), 'ControlledConversion', 'rate') has value None and will be set to Uniform(0, 1). This is likely to be an error.\n",
      "  warnings.warn(warnings_string)\n",
      "/Users/oost464/Library/CloudStorage/OneDrive-PNNL/Desktop/projects/pyciemss/src/pyciemss/PetriNetODE/base.py:342: UserWarning: Parameter (('Susceptible_unconfined', ('identity', 'ido:0000514'), ('quarantined', 'ncit:C68851')), ('Quarantined', ('identity', 'ido:0000514'), ('quarantined', 'ncit:C71902')), ('Infected_reported', ('identity', 'ido:0000511'), ('diagnosis', 'ncit:C15220')), 'ControlledConversion', 'rate') has value None and will be set to Uniform(0, 1). This is likely to be an error.\n",
      "  warnings.warn(warnings_string)\n",
      "/Users/oost464/Library/CloudStorage/OneDrive-PNNL/Desktop/projects/pyciemss/src/pyciemss/PetriNetODE/base.py:342: UserWarning: Parameter (('Susceptible_unconfined', ('identity', 'ido:0000514'), ('quarantined', 'ncit:C68851')), ('Quarantined', ('identity', 'ido:0000514'), ('quarantined', 'ncit:C71902')), ('Infected_unreported', ('identity', 'ido:0000511'), ('diagnosed', 'ncit:C113725')), 'ControlledConversion', 'rate') has value None and will be set to Uniform(0, 1). This is likely to be an error.\n",
      "  warnings.warn(warnings_string)\n",
      "/Users/oost464/Library/CloudStorage/OneDrive-PNNL/Desktop/projects/pyciemss/src/pyciemss/PetriNetODE/base.py:342: UserWarning: Parameter (('Quarantined', ('identity', 'ido:0000514'), ('quarantined', 'ncit:C71902')), ('Infected_reported', ('identity', 'ido:0000511'), ('diagnosis', 'ncit:C15220')), 'NaturalConversion', 'rate') has value None and will be set to Uniform(0, 1). This is likely to be an error.\n",
      "  warnings.warn(warnings_string)\n",
      "/Users/oost464/Library/CloudStorage/OneDrive-PNNL/Desktop/projects/pyciemss/src/pyciemss/PetriNetODE/base.py:342: UserWarning: Parameter (('Exposed', ('identity', 'apollosv:00000154')), ('Infected_reported', ('identity', 'ido:0000511'), ('diagnosis', 'ncit:C15220')), 'NaturalConversion', 'rate') has value None and will be set to Uniform(0, 1). This is likely to be an error.\n",
      "  warnings.warn(warnings_string)\n",
      "/Users/oost464/Library/CloudStorage/OneDrive-PNNL/Desktop/projects/pyciemss/src/pyciemss/PetriNetODE/base.py:342: UserWarning: Parameter (('Exposed', ('identity', 'apollosv:00000154')), ('Infected_unreported', ('identity', 'ido:0000511'), ('diagnosed', 'ncit:C113725')), 'NaturalConversion', 'rate') has value None and will be set to Uniform(0, 1). This is likely to be an error.\n",
      "  warnings.warn(warnings_string)\n",
      "/Users/oost464/Library/CloudStorage/OneDrive-PNNL/Desktop/projects/pyciemss/src/pyciemss/PetriNetODE/base.py:342: UserWarning: Parameter (('Quarantined', ('identity', 'ido:0000514'), ('quarantined', 'ncit:C71902')), ('Susceptible_unconfined', ('identity', 'ido:0000514'), ('quarantined', 'ncit:C68851')), 'NaturalConversion', 'rate') has value None and will be set to Uniform(0, 1). This is likely to be an error.\n",
      "  warnings.warn(warnings_string)\n",
      "/Users/oost464/Library/CloudStorage/OneDrive-PNNL/Desktop/projects/pyciemss/src/pyciemss/PetriNetODE/base.py:342: UserWarning: Parameter (('Infected_reported', ('identity', 'ido:0000511'), ('diagnosis', 'ncit:C15220')), ('Deceased', ('identity', 'ncit:C28554')), 'NaturalConversion', 'rate') has value None and will be set to Uniform(0, 1). This is likely to be an error.\n",
      "  warnings.warn(warnings_string)\n"
     ]
    },
    {
     "data": {
      "text/plain": [
       "ScaledNormalNoisePetriNetODESystem(\n",
       "\tn = Uniform(low: 0.4000000059604645, high: 0.6000000238418579),\n",
       "\tbeta = Uniform(low: 1.6919999623610238e-08, high: 2.5380000323593777e-08),\n",
       "\tsigma = Uniform(low: 0.1599999964237213, high: 0.23999999463558197),\n",
       "\t(('Susceptible_unconfined', ('identity', 'ido:0000514'), ('quarantined', 'ncit:C68851')), ('Exposed', ('identity', 'apollosv:00000154')), ('Infected_reported', ('identity', 'ido:0000511'), ('diagnosis', 'ncit:C15220')), 'ControlledConversion', 'rate') = Uniform(low: 0.0, high: 1.0),\n",
       "\t(('Susceptible_unconfined', ('identity', 'ido:0000514'), ('quarantined', 'ncit:C68851')), ('Exposed', ('identity', 'apollosv:00000154')), ('Infected_unreported', ('identity', 'ido:0000511'), ('diagnosed', 'ncit:C113725')), 'ControlledConversion', 'rate') = Uniform(low: 0.0, high: 1.0),\n",
       "\t(('Susceptible_unconfined', ('identity', 'ido:0000514'), ('quarantined', 'ncit:C68851')), ('Quarantined', ('identity', 'ido:0000514'), ('quarantined', 'ncit:C71902')), ('Infected_reported', ('identity', 'ido:0000511'), ('diagnosis', 'ncit:C15220')), 'ControlledConversion', 'rate') = Uniform(low: 0.0, high: 1.0),\n",
       "\t(('Susceptible_unconfined', ('identity', 'ido:0000514'), ('quarantined', 'ncit:C68851')), ('Quarantined', ('identity', 'ido:0000514'), ('quarantined', 'ncit:C71902')), ('Infected_unreported', ('identity', 'ido:0000511'), ('diagnosed', 'ncit:C113725')), 'ControlledConversion', 'rate') = Uniform(low: 0.0, high: 1.0),\n",
       "\tXXlambdaXX = Uniform(low: 0.23999999463558197, high: 0.36000001430511475),\n",
       "\ttheta = Uniform(low: 0.05714285746216774, high: 0.08571428060531616),\n",
       "\t(('Quarantined', ('identity', 'ido:0000514'), ('quarantined', 'ncit:C71902')), ('Infected_reported', ('identity', 'ido:0000511'), ('diagnosis', 'ncit:C15220')), 'NaturalConversion', 'rate') = Uniform(low: 0.0, high: 1.0),\n",
       "\tmu = Uniform(low: 0.1599999964237213, high: 0.23999999463558197),\n",
       "\tf = Uniform(low: 0.1599999964237213, high: 0.23999999463558197),\n",
       "\t(('Exposed', ('identity', 'apollosv:00000154')), ('Infected_reported', ('identity', 'ido:0000511'), ('diagnosis', 'ncit:C15220')), 'NaturalConversion', 'rate') = Uniform(low: 0.0, high: 1.0),\n",
       "\t(('Exposed', ('identity', 'apollosv:00000154')), ('Infected_unreported', ('identity', 'ido:0000511'), ('diagnosed', 'ncit:C113725')), 'NaturalConversion', 'rate') = Uniform(low: 0.0, high: 1.0),\n",
       "\teta_r = Uniform(low: 0.07999999821186066, high: 0.11999999731779099),\n",
       "\teta_u = Uniform(low: 0.20000000298023224, high: 0.30000001192092896),\n",
       "\t(('Quarantined', ('identity', 'ido:0000514'), ('quarantined', 'ncit:C71902')), ('Susceptible_unconfined', ('identity', 'ido:0000514'), ('quarantined', 'ncit:C68851')), 'NaturalConversion', 'rate') = Uniform(low: 0.0, high: 1.0),\n",
       "\tq = Uniform(low: 0.6639999747276306, high: 0.9959999918937683),\n",
       "\t(('Infected_reported', ('identity', 'ido:0000511'), ('diagnosis', 'ncit:C15220')), ('Deceased', ('identity', 'ncit:C28554')), 'NaturalConversion', 'rate') = Uniform(low: 0.0, high: 1.0),\n",
       "\tnoise_scale = 0.10000000149011612\n",
       ")"
      ]
     },
     "execution_count": 80,
     "metadata": {},
     "output_type": "execute_result"
    }
   ],
   "source": [
    "filename3 = \"BIOMD0000000983_template_model.json\"\n",
    "filename3 = os.path.join(MIRA_PATH, filename3)\n",
    "model3 = load_petri_model(filename3, add_uncertainty=True)\n",
    "\n",
    "# TODO: put this into the interfaces\n",
    "mira_start_state3 = {k[0]: v.data['initial_value'] for k, v in model3.G.variables.items()}\n",
    "mira_start_state3['Deceased'] = 0.0\n",
    "\n",
    "model3"
   ]
  },
  {
   "cell_type": "code",
   "execution_count": 81,
   "metadata": {},
   "outputs": [
    {
     "data": {
      "text/plain": [
       "{'Infected_reported': 12.0,\n",
       " 'Exposed': 112.0,\n",
       " 'Susceptible_unconfined': 66990000.0,\n",
       " 'Infected_unreported': 50.0,\n",
       " 'Quarantined': 36.0,\n",
       " 'Recovered': 0.0,\n",
       " 'Deceased': 0.0}"
      ]
     },
     "execution_count": 81,
     "metadata": {},
     "output_type": "execute_result"
    }
   ],
   "source": [
    "mira_start_state3"
   ]
  },
  {
   "cell_type": "code",
   "execution_count": 82,
   "metadata": {},
   "outputs": [],
   "source": [
    "model3_total_population = sum(mira_start_state3.values())\n",
    "h = 0.01\n",
    "\n",
    "def solution_mapping3(model3_solution: dict) -> dict:\n",
    "    mapped_dict = {}\n",
    "    # Ideally we would make better use of this distinction between \"reported\" and \"unreported\".\n",
    "    # However, as other models don't include this distinction, we must instead sum them together to make solution outputs comparable.\n",
    "    mapped_dict[\"Cases\"] = model3_solution[\"Infected_reported\"] / model3_total_population\n",
    "    mapped_dict[\"Hospitalizations\"] = (model3_solution[\"Infected_unreported\"] * h) / model3_total_population\n",
    "    mapped_dict[\"Dead\"] = (model3_solution[\"Deceased\"]) / model3_total_population\n",
    "    return mapped_dict\n"
   ]
  },
  {
   "cell_type": "code",
   "execution_count": 83,
   "metadata": {},
   "outputs": [],
   "source": [
    "#model2_total_population"
   ]
  },
  {
   "cell_type": "code",
   "execution_count": 84,
   "metadata": {},
   "outputs": [],
   "source": [
    "def create_start_state3(data, start_date):\n",
    "    start_state = data.set_index('date').loc[start_date].to_dict()\n",
    "\n",
    "    returned_state = {}\n",
    "\n",
    "    if np.isnan(start_state['hospital_census']):\n",
    "        returned_state[\"Infected_unreported\"] = start_state['case_census'] / (100 * h)\n",
    "    else:\n",
    "        returned_state[\"Infected_unreported\"] = start_state['hospital_census']/h\n",
    "\n",
    "    returned_state[\"Infected_reported\"] = start_state['case_census']\n",
    "    returned_state[\"Deceased\"] = start_state['cumulative_deaths']\n",
    "    returned_state['Exposed'] = start_state['case_census'] * 10\n",
    "    returned_state['Recovered'] = start_state['cumulative_deaths'] * 5\n",
    "    returned_state['Quarantined'] = returned_state[\"Infected_reported\"] * 0.5\n",
    "\n",
    "    returned_state['Susceptible_unconfined'] =  data_total_population - sum(returned_state.values())\n",
    "    assert(returned_state['Susceptible_unconfined'] > 0)\n",
    "    return {k:v*(model3_total_population/data_total_population) for k, v in returned_state.items()}"
   ]
  },
  {
   "cell_type": "code",
   "execution_count": 85,
   "metadata": {},
   "outputs": [
    {
     "data": {
      "text/plain": [
       "{'Infected_unreported': 844064.2958727649,\n",
       " 'Infected_reported': 191606.91458918576,\n",
       " 'Deceased': 157730.50367472277,\n",
       " 'Exposed': 1916069.1458918576,\n",
       " 'Recovered': 788652.5183736138,\n",
       " 'Quarantined': 95803.45729459288,\n",
       " 'Susceptible_unconfined': 62996283.16430326}"
      ]
     },
     "execution_count": 85,
     "metadata": {},
     "output_type": "execute_result"
    }
   ],
   "source": [
    "[create_start_state3(data, date) for date in test_dates]\n",
    "start_state3 = create_start_state3(data, train_start_date)\n",
    "start_state3"
   ]
  },
  {
   "cell_type": "code",
   "execution_count": 86,
   "metadata": {},
   "outputs": [
    {
     "name": "stdout",
     "output_type": "stream",
     "text": [
      "Model 1 mapped start state is {'Cases': 0.0028602226293839915, 'Hospitalizations': 0.00012599815642804597, 'Dead': 0.002354530664625813}\n",
      "Model 2 mapped start state is {'Cases': 0.0028602226293839915, 'Hospitalizations': 0.00012599815642804597, 'Dead': 0.0023545306646258124}\n",
      "Model 3 mapped start state is {'Cases': 0.0028602226293839915, 'Hospitalizations': 0.00012599815642804597, 'Dead': 0.002354530664625813}\n"
     ]
    }
   ],
   "source": [
    "print(f\"Model 1 mapped start state is {solution_mapping1(start_state1)}\")\n",
    "print(f\"Model 2 mapped start state is {solution_mapping2(start_state2)}\")\n",
    "print(f\"Model 3 mapped start state is {solution_mapping3(start_state3)}\")"
   ]
  },
  {
   "cell_type": "code",
   "execution_count": 87,
   "metadata": {},
   "outputs": [
    {
     "name": "stdout",
     "output_type": "stream",
     "text": [
      "Model 2 total population is 9939528.0\n",
      "Model 3 total population is 66990210.0\n",
      "These values are not equal, initiate reachback to TA1 and TA2!\n"
     ]
    }
   ],
   "source": [
    "print(f\"Model 2 total population is {model2_total_population}\")\n",
    "print(f\"Model 3 total population is {model3_total_population}\")\n",
    "print(\"These values are not equal, initiate reachback to TA1 and TA2!\")"
   ]
  },
  {
   "cell_type": "code",
   "execution_count": 88,
   "metadata": {},
   "outputs": [],
   "source": [
    "# Assert that all of the variables in the solution mappings are the same.\n",
    "assert(set(solution_mapping1(start_state1).keys()) \n",
    "       == set(solution_mapping2(start_state2).keys())\n",
    "       == set(solution_mapping3(start_state3).keys()))"
   ]
  },
  {
   "attachments": {},
   "cell_type": "markdown",
   "metadata": {},
   "source": [
    "## Setup some plotting utilities"
   ]
  },
  {
   "cell_type": "code",
   "execution_count": 89,
   "metadata": {},
   "outputs": [],
   "source": [
    "def setup_ax(ax=None):\n",
    "\n",
    "    if not ax:\n",
    "        fig = plt.figure(facecolor='w', figsize=(9, 9))\n",
    "        ax = fig.add_subplot(111, axisbelow=True)\n",
    "\n",
    "    ax.set_xlabel('Time since start of pandemic (days)')\n",
    "    ax.set_ylabel('Cases (Prop. of Population)')\n",
    "    ax.set_yscale('log')\n",
    "    return ax\n",
    "\n",
    "def plot_trajectory(prediction, tspan, ax=None, alpha=0.2, color=\"black\", **kwargs):\n",
    "    tspan = torch.as_tensor(tspan)\n",
    "\n",
    "    if not ax:\n",
    "        fig = plt.figure(facecolor='w')\n",
    "        ax = fig.add_subplot(111, facecolor='#dddddd', axisbelow=True)\n",
    "\n",
    "    I = prediction[\"Cases_sol\"].detach().numpy().squeeze()\n",
    "    ax.plot(tspan, I, alpha=0.5, lw=2, color=color, **kwargs)\n",
    "    legend = ax.legend()\n",
    "    legend.get_frame().set_alpha(0.5)\n",
    "\n",
    "    return ax\n",
    "\n",
    "def plot_predictive(prediction, tspan, ax=None, title=None, alpha=0.2, color=\"black\", **kwargs):\n",
    "    tspan = torch.as_tensor(tspan)\n",
    "    indeces = torch.ones_like(tspan).bool()\n",
    "    \n",
    "    I_low = torch.quantile(prediction[\"Cases_sol\"], 0.05, dim=0).detach().numpy()\n",
    "    I_up = torch.quantile(prediction[\"Cases_sol\"], 0.95, dim=0).detach().numpy()\n",
    "\n",
    "    if not ax:\n",
    "        fig = plt.figure(facecolor='w')\n",
    "        ax = fig.add_subplot(111, facecolor='#dddddd', axisbelow=True)\n",
    "\n",
    "    if title:\n",
    "        ax.set_title(title)\n",
    "\n",
    "    ax.fill_between(tspan[indeces], I_low[indeces], I_up[indeces], alpha=alpha, color=color, **kwargs)\n",
    "\n",
    "    legend = ax.legend()\n",
    "    legend.get_frame().set_alpha(0.5)\n",
    "\n",
    "    return ax\n",
    "\n",
    "def plot_observations(data, tspan,  ax=None, color='black', alpha=0.5, lw=0, marker='.', label=None, ):\n",
    "    # Plot the data on three separate curves for S(t), I(t) and R(t)\n",
    "\n",
    "    if not ax:\n",
    "        fig = plt.figure(facecolor='w')\n",
    "        ax = fig.add_subplot(111, facecolor='#dddddd', axisbelow=True)\n",
    "\n",
    "    ax.plot(tspan, data, color, alpha=alpha, lw=lw, marker=marker, label=label)\n",
    "    legend = ax.legend()\n",
    "    legend.get_frame().set_alpha(0.5)\n",
    "    \n",
    "    return ax\n",
    "\n",
    "from pyro.distributions import Dirichlet\n",
    "import matplotlib.tri as tri\n",
    "\n",
    "corners = np.array([[0, 0], [1, 0], [0.5, 0.75**0.5]])\n",
    "AREA = 0.5 * 1 * 0.75**0.5\n",
    "triangle = tri.Triangulation(corners[:, 0], corners[:, 1])\n",
    "refiner = tri.UniformTriRefiner(triangle)\n",
    "trimesh = refiner.refine_triangulation(subdiv=4)\n",
    "\n",
    "# For each corner of the triangle, the pair of other corners\n",
    "pairs = [corners[np.roll(range(3), -i)[1:]] for i in range(3)]\n",
    "# The area of the triangle formed by point xy and another pair or points\n",
    "tri_area = lambda xy, pair: 0.5 * np.linalg.norm(np.cross(*(pair - xy)))\n",
    "\n",
    "def xy2bc(xy, tol=1.e-4):\n",
    "    '''Converts 2D Cartesian coordinates to barycentric.'''\n",
    "    coords = np.array([tri_area(xy, p) for p in pairs]) / AREA\n",
    "    return np.clip(coords, tol, 1.0 - tol)\n",
    "\n",
    "# Adapted from https://blog.bogatron.net/blog/2014/02/02/visualizing-dirichlet-distributions/\n",
    "def plot_weights(samples, ax=None, title=None, concentration=20, nlevels=200, subdiv=7, **kwargs):\n",
    "    import math\n",
    "    refiner = tri.UniformTriRefiner(triangle)\n",
    "    trimesh = refiner.refine_triangulation(subdiv=subdiv)\n",
    "\n",
    "    points = torch.tensor(np.array([(xy2bc(xy)) for xy in zip(trimesh.x, trimesh.y)]))\n",
    "    points /= torch.sum(points, dim=1, keepdim=True)\n",
    "\n",
    "    alpha = samples * concentration\n",
    "    vals = torch.stack([torch.exp(Dirichlet(alpha).log_prob(points[i,:])) for i in range(points.shape[0])])\n",
    "    vals /= torch.max(vals, dim=0, keepdim=True)[0]\n",
    "    vals = torch.sum(vals, dim=1)\n",
    "    vals /= torch.sum(vals)\n",
    "\n",
    "    if not ax:\n",
    "        fig = plt.figure(facecolor='w')\n",
    "        ax = fig.add_subplot(111, facecolor='#dddddd', axisbelow=True)\n",
    "\n",
    "    if title:\n",
    "        ax.set_title(title)\n",
    "\n",
    "    mappable = ax.tricontourf(trimesh, vals, nlevels, cmap='jet', **kwargs)\n",
    "    ax.axis('equal')\n",
    "    ax.set_xlim(0, 1)\n",
    "    ax.set_ylim(0, 0.75**0.5)\n",
    "    ax.axis('off')\n",
    "\n",
    "    # label vertices \"Model 1\", \"Model 2\", and \"Model 3\"\n",
    "    ax.text(-0.05, -0.08, 'Model 1', fontsize=14, ha='left')\n",
    "    ax.text(1.05, -0.08, 'Model 2', fontsize=14, ha='right')\n",
    "    ax.text(0.5,  0.75**0.5+0.03, 'Model 3', fontsize=14, ha='center')\n",
    "    # add a colorbar with no numbers\n",
    "    plt.colorbar(mappable, ticks=[], pad=0.1, ax=ax)\n",
    "    return ax"
   ]
  },
  {
   "cell_type": "code",
   "execution_count": 90,
   "metadata": {},
   "outputs": [],
   "source": [
    "def plot_trajectories(title, *args, xtitle=\"Time since start of pandemic (days)\", ytitle=\"Cases (Prop. of Population)\", size=(500, 500), **kwargs):\n",
    "    schema = plots.trajectories(*args, **kwargs, \n",
    "                                logy=True)\n",
    "    \n",
    "    schema = plots.title(schema, title)\n",
    "    schema = plots.title(schema, xtitle, target=\"x\")\n",
    "    schema = plots.title(schema, ytitle, target=\"y\")\n",
    "    schema = plots.resize(schema, w=size[0], h=size[1])\n",
    "    schema = plots.orient_legend(schema, \"color_legend\", \"top-right\")\n",
    "    return schema"
   ]
  },
  {
   "cell_type": "code",
   "execution_count": 91,
   "metadata": {},
   "outputs": [
    {
     "data": {
      "text/plain": [
       "{'Infected_unreported': 844064.2958727649,\n",
       " 'Infected_reported': 191606.91458918576,\n",
       " 'Deceased': 157730.50367472277,\n",
       " 'Exposed': 1916069.1458918576,\n",
       " 'Recovered': 788652.5183736138,\n",
       " 'Quarantined': 95803.45729459288,\n",
       " 'Susceptible_unconfined': 62996283.16430326}"
      ]
     },
     "execution_count": 91,
     "metadata": {},
     "output_type": "execute_result"
    }
   ],
   "source": [
    "start_state3"
   ]
  },
  {
   "attachments": {},
   "cell_type": "markdown",
   "metadata": {},
   "source": [
    "## Prior samples from each individual model"
   ]
  },
  {
   "cell_type": "code",
   "execution_count": 92,
   "metadata": {},
   "outputs": [
    {
     "name": "stderr",
     "output_type": "stream",
     "text": [
      "ERROR:root:\n",
      "                ###############################\n",
      "\n",
      "                There was an exception in pyciemss\n",
      "                \n",
      "                Error occured in function: setup_ensemble_model\n",
      "\n",
      "                Function docs : \n",
      "    Instatiate a model for a particular configuration of initial conditions\n",
      "    \n",
      "\n",
      "                ################################\n",
      "            \n",
      "Traceback (most recent call last):\n",
      "  File \"/Users/oost464/Library/CloudStorage/OneDrive-PNNL/Desktop/projects/pyciemss/src/pyciemss/custom_decorators.py\", line 9, in wrapped\n",
      "    result = function(*args, **kwargs)\n",
      "  File \"/Users/oost464/Library/CloudStorage/OneDrive-PNNL/Desktop/projects/pyciemss/src/pyciemss/Ensemble/interfaces.py\", line 107, in setup_ensemble_model\n",
      "    start_event = StartEvent(start_time, start_states[i])\n",
      "  File \"/Users/oost464/Library/CloudStorage/OneDrive-PNNL/Desktop/projects/pyciemss/src/pyciemss/PetriNetODE/events.py\", line 52, in __init__\n",
      "    self.initial_state = {k: torch.as_tensor(v) for k, v in initial_state.items()}\n",
      "  File \"/Users/oost464/Library/CloudStorage/OneDrive-PNNL/Desktop/projects/pyciemss/src/pyciemss/PetriNetODE/events.py\", line 52, in <dictcomp>\n",
      "    self.initial_state = {k: torch.as_tensor(v) for k, v in initial_state.items()}\n",
      "RuntimeError: Could not infer dtype of NoneType\n"
     ]
    },
    {
     "ename": "RuntimeError",
     "evalue": "Could not infer dtype of NoneType",
     "output_type": "error",
     "traceback": [
      "\u001b[0;31m---------------------------------------------------------------------------\u001b[0m",
      "\u001b[0;31mRuntimeError\u001b[0m                              Traceback (most recent call last)",
      "\u001b[1;32m/Users/oost464/Library/CloudStorage/OneDrive-PNNL/Desktop/projects/pyciemss/notebook/april_ensemble/demo.ipynb Cell 46\u001b[0m line \u001b[0;36m1\n\u001b[1;32m     <a href='vscode-notebook-cell:/Users/oost464/Library/CloudStorage/OneDrive-PNNL/Desktop/projects/pyciemss/notebook/april_ensemble/demo.ipynb#X63sZmlsZQ%3D%3D?line=10'>11</a>\u001b[0m ensemble2 \u001b[39m=\u001b[39m setup_model([model2], weights\u001b[39m=\u001b[39m[\u001b[39m1.0\u001b[39m], start_time\u001b[39m=\u001b[39mstart_time, start_states\u001b[39m=\u001b[39m[start_state2], solution_mappings\u001b[39m=\u001b[39m[solution_mapping2])\n\u001b[1;32m     <a href='vscode-notebook-cell:/Users/oost464/Library/CloudStorage/OneDrive-PNNL/Desktop/projects/pyciemss/notebook/april_ensemble/demo.ipynb#X63sZmlsZQ%3D%3D?line=11'>12</a>\u001b[0m ensemble2_prior_forecasts \u001b[39m=\u001b[39m sample(ensemble2, all_timepoints, num_samples)\n\u001b[0;32m---> <a href='vscode-notebook-cell:/Users/oost464/Library/CloudStorage/OneDrive-PNNL/Desktop/projects/pyciemss/notebook/april_ensemble/demo.ipynb#X63sZmlsZQ%3D%3D?line=13'>14</a>\u001b[0m ensemble3 \u001b[39m=\u001b[39m setup_model([model3], weights\u001b[39m=\u001b[39;49m[\u001b[39m1.0\u001b[39;49m], start_time\u001b[39m=\u001b[39;49mstart_time, start_states\u001b[39m=\u001b[39;49m[start_state3], solution_mappings\u001b[39m=\u001b[39;49m[solution_mapping3])\n\u001b[1;32m     <a href='vscode-notebook-cell:/Users/oost464/Library/CloudStorage/OneDrive-PNNL/Desktop/projects/pyciemss/notebook/april_ensemble/demo.ipynb#X63sZmlsZQ%3D%3D?line=14'>15</a>\u001b[0m ensemble3_prior_forecasts \u001b[39m=\u001b[39m sample(ensemble3, all_timepoints, num_samples)\n\u001b[1;32m     <a href='vscode-notebook-cell:/Users/oost464/Library/CloudStorage/OneDrive-PNNL/Desktop/projects/pyciemss/notebook/april_ensemble/demo.ipynb#X63sZmlsZQ%3D%3D?line=16'>17</a>\u001b[0m plotting_cases \u001b[39m=\u001b[39m np\u001b[39m.\u001b[39marray(data[\u001b[39m\"\u001b[39m\u001b[39mcase_census\u001b[39m\u001b[39m\"\u001b[39m][all_timepoints]\u001b[39m.\u001b[39mastype(\u001b[39m\"\u001b[39m\u001b[39mfloat\u001b[39m\u001b[39m\"\u001b[39m)) \u001b[39m/\u001b[39m data_total_population\n",
      "File \u001b[0;32m~/opt/anaconda3/envs/CIEMSS_ENV/lib/python3.10/functools.py:889\u001b[0m, in \u001b[0;36msingledispatch.<locals>.wrapper\u001b[0;34m(*args, **kw)\u001b[0m\n\u001b[1;32m    885\u001b[0m \u001b[39mif\u001b[39;00m \u001b[39mnot\u001b[39;00m args:\n\u001b[1;32m    886\u001b[0m     \u001b[39mraise\u001b[39;00m \u001b[39mTypeError\u001b[39;00m(\u001b[39mf\u001b[39m\u001b[39m'\u001b[39m\u001b[39m{\u001b[39;00mfuncname\u001b[39m}\u001b[39;00m\u001b[39m requires at least \u001b[39m\u001b[39m'\u001b[39m\n\u001b[1;32m    887\u001b[0m                     \u001b[39m'\u001b[39m\u001b[39m1 positional argument\u001b[39m\u001b[39m'\u001b[39m)\n\u001b[0;32m--> 889\u001b[0m \u001b[39mreturn\u001b[39;00m dispatch(args[\u001b[39m0\u001b[39;49m]\u001b[39m.\u001b[39;49m\u001b[39m__class__\u001b[39;49m)(\u001b[39m*\u001b[39;49margs, \u001b[39m*\u001b[39;49m\u001b[39m*\u001b[39;49mkw)\n",
      "File \u001b[0;32m~/Library/CloudStorage/OneDrive-PNNL/Desktop/projects/pyciemss/src/pyciemss/custom_decorators.py:30\u001b[0m, in \u001b[0;36mpyciemss_logging_wrapper.<locals>.wrapped\u001b[0;34m(*args, **kwargs)\u001b[0m\n\u001b[1;32m     18\u001b[0m log_message \u001b[39m=\u001b[39m \u001b[39m\"\"\"\u001b[39m\n\u001b[1;32m     19\u001b[0m \u001b[39m    ###############################\u001b[39m\n\u001b[1;32m     20\u001b[0m \n\u001b[0;32m   (...)\u001b[0m\n\u001b[1;32m     27\u001b[0m \u001b[39m    ################################\u001b[39m\n\u001b[1;32m     28\u001b[0m \u001b[39m\u001b[39m\u001b[39m\"\"\"\u001b[39m\n\u001b[1;32m     29\u001b[0m logging\u001b[39m.\u001b[39mexception(log_message, function\u001b[39m.\u001b[39m\u001b[39m__name__\u001b[39m, function\u001b[39m.\u001b[39m\u001b[39m__doc__\u001b[39m)\n\u001b[0;32m---> 30\u001b[0m \u001b[39mraise\u001b[39;00m e\n",
      "File \u001b[0;32m~/Library/CloudStorage/OneDrive-PNNL/Desktop/projects/pyciemss/src/pyciemss/custom_decorators.py:9\u001b[0m, in \u001b[0;36mpyciemss_logging_wrapper.<locals>.wrapped\u001b[0;34m(*args, **kwargs)\u001b[0m\n\u001b[1;32m      7\u001b[0m \u001b[39mtry\u001b[39;00m:\n\u001b[1;32m      8\u001b[0m     start_time \u001b[39m=\u001b[39m time\u001b[39m.\u001b[39mperf_counter()\n\u001b[0;32m----> 9\u001b[0m     result \u001b[39m=\u001b[39m function(\u001b[39m*\u001b[39;49margs, \u001b[39m*\u001b[39;49m\u001b[39m*\u001b[39;49mkwargs)\n\u001b[1;32m     10\u001b[0m     end_time \u001b[39m=\u001b[39m time\u001b[39m.\u001b[39mperf_counter()\n\u001b[1;32m     11\u001b[0m     logging\u001b[39m.\u001b[39minfo(\n\u001b[1;32m     12\u001b[0m         \u001b[39m\"\u001b[39m\u001b[39mElapsed time for \u001b[39m\u001b[39m%s\u001b[39;00m\u001b[39m: \u001b[39m\u001b[39m%f\u001b[39;00m\u001b[39m\"\u001b[39m,\n\u001b[1;32m     13\u001b[0m         function\u001b[39m.\u001b[39m\u001b[39m__name__\u001b[39m, end_time \u001b[39m-\u001b[39m start_time\n\u001b[1;32m     14\u001b[0m     )\n",
      "File \u001b[0;32m~/Library/CloudStorage/OneDrive-PNNL/Desktop/projects/pyciemss/src/pyciemss/Ensemble/interfaces.py:107\u001b[0m, in \u001b[0;36msetup_ensemble_model\u001b[0;34m(models, weights, solution_mappings, start_time, start_states, total_population, noise_model, noise_scale, dirichlet_concentration)\u001b[0m\n\u001b[1;32m    104\u001b[0m     \u001b[39mraise\u001b[39;00m \u001b[39mValueError\u001b[39;00m(\u001b[39mf\u001b[39m\u001b[39m\"\u001b[39m\u001b[39mnoise_model \u001b[39m\u001b[39m{\u001b[39;00mnoise_model\u001b[39m}\u001b[39;00m\u001b[39m not recognized\u001b[39m\u001b[39m\"\u001b[39m)\n\u001b[1;32m    106\u001b[0m \u001b[39mfor\u001b[39;00m i, m \u001b[39min\u001b[39;00m \u001b[39menumerate\u001b[39m(ensemble_model\u001b[39m.\u001b[39mmodels):\n\u001b[0;32m--> 107\u001b[0m     start_event \u001b[39m=\u001b[39m StartEvent(start_time, start_states[i])\n\u001b[1;32m    108\u001b[0m     m\u001b[39m.\u001b[39mload_event(start_event)\n\u001b[1;32m    109\u001b[0m \u001b[39mreturn\u001b[39;00m ensemble_model\n",
      "File \u001b[0;32m~/Library/CloudStorage/OneDrive-PNNL/Desktop/projects/pyciemss/src/pyciemss/PetriNetODE/events.py:52\u001b[0m, in \u001b[0;36mStartEvent.__init__\u001b[0;34m(self, time, initial_state)\u001b[0m\n\u001b[1;32m     51\u001b[0m \u001b[39mdef\u001b[39;00m \u001b[39m__init__\u001b[39m(\u001b[39mself\u001b[39m, time: \u001b[39mfloat\u001b[39m, initial_state: Dict[\u001b[39mstr\u001b[39m, \u001b[39mfloat\u001b[39m]):\n\u001b[0;32m---> 52\u001b[0m     \u001b[39mself\u001b[39m\u001b[39m.\u001b[39minitial_state \u001b[39m=\u001b[39m {k: torch\u001b[39m.\u001b[39mas_tensor(v) \u001b[39mfor\u001b[39;00m k, v \u001b[39min\u001b[39;00m initial_state\u001b[39m.\u001b[39mitems()}\n\u001b[1;32m     53\u001b[0m     \u001b[39msuper\u001b[39m()\u001b[39m.\u001b[39m\u001b[39m__init__\u001b[39m(time)\n",
      "File \u001b[0;32m~/Library/CloudStorage/OneDrive-PNNL/Desktop/projects/pyciemss/src/pyciemss/PetriNetODE/events.py:52\u001b[0m, in \u001b[0;36m<dictcomp>\u001b[0;34m(.0)\u001b[0m\n\u001b[1;32m     51\u001b[0m \u001b[39mdef\u001b[39;00m \u001b[39m__init__\u001b[39m(\u001b[39mself\u001b[39m, time: \u001b[39mfloat\u001b[39m, initial_state: Dict[\u001b[39mstr\u001b[39m, \u001b[39mfloat\u001b[39m]):\n\u001b[0;32m---> 52\u001b[0m     \u001b[39mself\u001b[39m\u001b[39m.\u001b[39minitial_state \u001b[39m=\u001b[39m {k: torch\u001b[39m.\u001b[39;49mas_tensor(v) \u001b[39mfor\u001b[39;00m k, v \u001b[39min\u001b[39;00m initial_state\u001b[39m.\u001b[39mitems()}\n\u001b[1;32m     53\u001b[0m     \u001b[39msuper\u001b[39m()\u001b[39m.\u001b[39m\u001b[39m__init__\u001b[39m(time)\n",
      "\u001b[0;31mRuntimeError\u001b[0m: Could not infer dtype of NoneType"
     ]
    }
   ],
   "source": [
    "# TODO: change this to be larger\n",
    "num_samples = 3\n",
    "# num_samples = 2\n",
    "\n",
    "start_time = train_timepoints[0] - 1e-5\n",
    "\n",
    "# Wrapping model1 in a single \"ensemble\" model automatically applies the solution mapping functions, making these three models easier to compare.\n",
    "ensemble1 = setup_model([model1], weights=[1.0], start_time=start_time, start_states=[start_state1], solution_mappings=[solution_mapping1])\n",
    "ensemble1_prior_forecasts = sample(ensemble1, all_timepoints, num_samples)\n",
    "\n",
    "ensemble2 = setup_model([model2], weights=[1.0], start_time=start_time, start_states=[start_state2], solution_mappings=[solution_mapping2])\n",
    "ensemble2_prior_forecasts = sample(ensemble2, all_timepoints, num_samples)\n",
    "\n",
    "ensemble3 = setup_model([model3], weights=[1.0], start_time=start_time, start_states=[start_state3], solution_mappings=[solution_mapping3])\n",
    "ensemble3_prior_forecasts = sample(ensemble3, all_timepoints, num_samples)\n",
    "\n",
    "plotting_cases = np.array(data[\"case_census\"][all_timepoints].astype(\"float\")) / data_total_population"
   ]
  },
  {
   "cell_type": "code",
   "execution_count": null,
   "metadata": {},
   "outputs": [
    {
     "data": {
      "text/html": [
       "<div>\n",
       "<style scoped>\n",
       "    .dataframe tbody tr th:only-of-type {\n",
       "        vertical-align: middle;\n",
       "    }\n",
       "\n",
       "    .dataframe tbody tr th {\n",
       "        vertical-align: top;\n",
       "    }\n",
       "\n",
       "    .dataframe thead th {\n",
       "        text-align: right;\n",
       "    }\n",
       "</style>\n",
       "<table border=\"1\" class=\"dataframe\">\n",
       "  <thead>\n",
       "    <tr style=\"text-align: right;\">\n",
       "      <th></th>\n",
       "      <th>timepoint_id</th>\n",
       "      <th>sample_id</th>\n",
       "      <th>model_0/beta_param</th>\n",
       "      <th>model_0/gamma_param</th>\n",
       "      <th>model_0/delta_param</th>\n",
       "      <th>model_0/alpha_param</th>\n",
       "      <th>model_0/epsilon_param</th>\n",
       "      <th>model_0/zeta_param</th>\n",
       "      <th>model_0/XXlambdaXX_param</th>\n",
       "      <th>model_0/eta_param</th>\n",
       "      <th>...</th>\n",
       "      <th>model_0/mu_param</th>\n",
       "      <th>model_0/nu_param</th>\n",
       "      <th>model_0/xi_param</th>\n",
       "      <th>model_0/tau_param</th>\n",
       "      <th>model_0/sigma_param</th>\n",
       "      <th>model_0_weight</th>\n",
       "      <th>Cases_sol</th>\n",
       "      <th>Hospitalizations_sol</th>\n",
       "      <th>Dead_sol</th>\n",
       "      <th>timepoint_days</th>\n",
       "    </tr>\n",
       "  </thead>\n",
       "  <tbody>\n",
       "    <tr>\n",
       "      <th>0</th>\n",
       "      <td>0</td>\n",
       "      <td>0</td>\n",
       "      <td>0.009097</td>\n",
       "      <td>0.444898</td>\n",
       "      <td>0.013056</td>\n",
       "      <td>0.623977</td>\n",
       "      <td>0.168795</td>\n",
       "      <td>0.118833</td>\n",
       "      <td>0.033681</td>\n",
       "      <td>0.132108</td>\n",
       "      <td>...</td>\n",
       "      <td>0.015806</td>\n",
       "      <td>0.021737</td>\n",
       "      <td>0.014848</td>\n",
       "      <td>0.008854</td>\n",
       "      <td>0.014440</td>\n",
       "      <td>1.0</td>\n",
       "      <td>0.002860</td>\n",
       "      <td>0.000126</td>\n",
       "      <td>0.002355</td>\n",
       "      <td>679.0</td>\n",
       "    </tr>\n",
       "    <tr>\n",
       "      <th>1</th>\n",
       "      <td>1</td>\n",
       "      <td>0</td>\n",
       "      <td>0.009097</td>\n",
       "      <td>0.444898</td>\n",
       "      <td>0.013056</td>\n",
       "      <td>0.623977</td>\n",
       "      <td>0.168795</td>\n",
       "      <td>0.118833</td>\n",
       "      <td>0.033681</td>\n",
       "      <td>0.132108</td>\n",
       "      <td>...</td>\n",
       "      <td>0.015806</td>\n",
       "      <td>0.021737</td>\n",
       "      <td>0.014848</td>\n",
       "      <td>0.008854</td>\n",
       "      <td>0.014440</td>\n",
       "      <td>1.0</td>\n",
       "      <td>0.008086</td>\n",
       "      <td>0.000276</td>\n",
       "      <td>0.002356</td>\n",
       "      <td>680.0</td>\n",
       "    </tr>\n",
       "    <tr>\n",
       "      <th>2</th>\n",
       "      <td>2</td>\n",
       "      <td>0</td>\n",
       "      <td>0.009097</td>\n",
       "      <td>0.444898</td>\n",
       "      <td>0.013056</td>\n",
       "      <td>0.623977</td>\n",
       "      <td>0.168795</td>\n",
       "      <td>0.118833</td>\n",
       "      <td>0.033681</td>\n",
       "      <td>0.132108</td>\n",
       "      <td>...</td>\n",
       "      <td>0.015806</td>\n",
       "      <td>0.021737</td>\n",
       "      <td>0.014848</td>\n",
       "      <td>0.008854</td>\n",
       "      <td>0.014440</td>\n",
       "      <td>1.0</td>\n",
       "      <td>0.014088</td>\n",
       "      <td>0.000479</td>\n",
       "      <td>0.002360</td>\n",
       "      <td>681.0</td>\n",
       "    </tr>\n",
       "    <tr>\n",
       "      <th>3</th>\n",
       "      <td>3</td>\n",
       "      <td>0</td>\n",
       "      <td>0.009097</td>\n",
       "      <td>0.444898</td>\n",
       "      <td>0.013056</td>\n",
       "      <td>0.623977</td>\n",
       "      <td>0.168795</td>\n",
       "      <td>0.118833</td>\n",
       "      <td>0.033681</td>\n",
       "      <td>0.132108</td>\n",
       "      <td>...</td>\n",
       "      <td>0.015806</td>\n",
       "      <td>0.021737</td>\n",
       "      <td>0.014848</td>\n",
       "      <td>0.008854</td>\n",
       "      <td>0.014440</td>\n",
       "      <td>1.0</td>\n",
       "      <td>0.021363</td>\n",
       "      <td>0.000755</td>\n",
       "      <td>0.002365</td>\n",
       "      <td>682.0</td>\n",
       "    </tr>\n",
       "    <tr>\n",
       "      <th>4</th>\n",
       "      <td>4</td>\n",
       "      <td>0</td>\n",
       "      <td>0.009097</td>\n",
       "      <td>0.444898</td>\n",
       "      <td>0.013056</td>\n",
       "      <td>0.623977</td>\n",
       "      <td>0.168795</td>\n",
       "      <td>0.118833</td>\n",
       "      <td>0.033681</td>\n",
       "      <td>0.132108</td>\n",
       "      <td>...</td>\n",
       "      <td>0.015806</td>\n",
       "      <td>0.021737</td>\n",
       "      <td>0.014848</td>\n",
       "      <td>0.008854</td>\n",
       "      <td>0.014440</td>\n",
       "      <td>1.0</td>\n",
       "      <td>0.030381</td>\n",
       "      <td>0.001126</td>\n",
       "      <td>0.002373</td>\n",
       "      <td>683.0</td>\n",
       "    </tr>\n",
       "    <tr>\n",
       "      <th>...</th>\n",
       "      <td>...</td>\n",
       "      <td>...</td>\n",
       "      <td>...</td>\n",
       "      <td>...</td>\n",
       "      <td>...</td>\n",
       "      <td>...</td>\n",
       "      <td>...</td>\n",
       "      <td>...</td>\n",
       "      <td>...</td>\n",
       "      <td>...</td>\n",
       "      <td>...</td>\n",
       "      <td>...</td>\n",
       "      <td>...</td>\n",
       "      <td>...</td>\n",
       "      <td>...</td>\n",
       "      <td>...</td>\n",
       "      <td>...</td>\n",
       "      <td>...</td>\n",
       "      <td>...</td>\n",
       "      <td>...</td>\n",
       "      <td>...</td>\n",
       "    </tr>\n",
       "    <tr>\n",
       "      <th>358</th>\n",
       "      <td>116</td>\n",
       "      <td>2</td>\n",
       "      <td>0.010603</td>\n",
       "      <td>0.371399</td>\n",
       "      <td>0.011424</td>\n",
       "      <td>0.599006</td>\n",
       "      <td>0.195774</td>\n",
       "      <td>0.146045</td>\n",
       "      <td>0.030608</td>\n",
       "      <td>0.111852</td>\n",
       "      <td>...</td>\n",
       "      <td>0.016401</td>\n",
       "      <td>0.028062</td>\n",
       "      <td>0.014827</td>\n",
       "      <td>0.008180</td>\n",
       "      <td>0.014648</td>\n",
       "      <td>1.0</td>\n",
       "      <td>0.012513</td>\n",
       "      <td>0.074458</td>\n",
       "      <td>0.098748</td>\n",
       "      <td>795.0</td>\n",
       "    </tr>\n",
       "    <tr>\n",
       "      <th>359</th>\n",
       "      <td>117</td>\n",
       "      <td>2</td>\n",
       "      <td>0.010603</td>\n",
       "      <td>0.371399</td>\n",
       "      <td>0.011424</td>\n",
       "      <td>0.599006</td>\n",
       "      <td>0.195774</td>\n",
       "      <td>0.146045</td>\n",
       "      <td>0.030608</td>\n",
       "      <td>0.111852</td>\n",
       "      <td>...</td>\n",
       "      <td>0.016401</td>\n",
       "      <td>0.028062</td>\n",
       "      <td>0.014827</td>\n",
       "      <td>0.008180</td>\n",
       "      <td>0.014648</td>\n",
       "      <td>1.0</td>\n",
       "      <td>0.012034</td>\n",
       "      <td>0.073112</td>\n",
       "      <td>0.099351</td>\n",
       "      <td>796.0</td>\n",
       "    </tr>\n",
       "    <tr>\n",
       "      <th>360</th>\n",
       "      <td>118</td>\n",
       "      <td>2</td>\n",
       "      <td>0.010603</td>\n",
       "      <td>0.371399</td>\n",
       "      <td>0.011424</td>\n",
       "      <td>0.599006</td>\n",
       "      <td>0.195774</td>\n",
       "      <td>0.146045</td>\n",
       "      <td>0.030608</td>\n",
       "      <td>0.111852</td>\n",
       "      <td>...</td>\n",
       "      <td>0.016401</td>\n",
       "      <td>0.028062</td>\n",
       "      <td>0.014827</td>\n",
       "      <td>0.008180</td>\n",
       "      <td>0.014648</td>\n",
       "      <td>1.0</td>\n",
       "      <td>0.011574</td>\n",
       "      <td>0.071784</td>\n",
       "      <td>0.099944</td>\n",
       "      <td>797.0</td>\n",
       "    </tr>\n",
       "    <tr>\n",
       "      <th>361</th>\n",
       "      <td>119</td>\n",
       "      <td>2</td>\n",
       "      <td>0.010603</td>\n",
       "      <td>0.371399</td>\n",
       "      <td>0.011424</td>\n",
       "      <td>0.599006</td>\n",
       "      <td>0.195774</td>\n",
       "      <td>0.146045</td>\n",
       "      <td>0.030608</td>\n",
       "      <td>0.111852</td>\n",
       "      <td>...</td>\n",
       "      <td>0.016401</td>\n",
       "      <td>0.028062</td>\n",
       "      <td>0.014827</td>\n",
       "      <td>0.008180</td>\n",
       "      <td>0.014648</td>\n",
       "      <td>1.0</td>\n",
       "      <td>0.011132</td>\n",
       "      <td>0.070473</td>\n",
       "      <td>0.100526</td>\n",
       "      <td>798.0</td>\n",
       "    </tr>\n",
       "    <tr>\n",
       "      <th>362</th>\n",
       "      <td>120</td>\n",
       "      <td>2</td>\n",
       "      <td>0.010603</td>\n",
       "      <td>0.371399</td>\n",
       "      <td>0.011424</td>\n",
       "      <td>0.599006</td>\n",
       "      <td>0.195774</td>\n",
       "      <td>0.146045</td>\n",
       "      <td>0.030608</td>\n",
       "      <td>0.111852</td>\n",
       "      <td>...</td>\n",
       "      <td>0.016401</td>\n",
       "      <td>0.028062</td>\n",
       "      <td>0.014827</td>\n",
       "      <td>0.008180</td>\n",
       "      <td>0.014648</td>\n",
       "      <td>1.0</td>\n",
       "      <td>0.010706</td>\n",
       "      <td>0.069180</td>\n",
       "      <td>0.101097</td>\n",
       "      <td>799.0</td>\n",
       "    </tr>\n",
       "  </tbody>\n",
       "</table>\n",
       "<p>363 rows × 23 columns</p>\n",
       "</div>"
      ],
      "text/plain": [
       "     timepoint_id  sample_id  model_0/beta_param  model_0/gamma_param  \\\n",
       "0               0          0            0.009097             0.444898   \n",
       "1               1          0            0.009097             0.444898   \n",
       "2               2          0            0.009097             0.444898   \n",
       "3               3          0            0.009097             0.444898   \n",
       "4               4          0            0.009097             0.444898   \n",
       "..            ...        ...                 ...                  ...   \n",
       "358           116          2            0.010603             0.371399   \n",
       "359           117          2            0.010603             0.371399   \n",
       "360           118          2            0.010603             0.371399   \n",
       "361           119          2            0.010603             0.371399   \n",
       "362           120          2            0.010603             0.371399   \n",
       "\n",
       "     model_0/delta_param  model_0/alpha_param  model_0/epsilon_param  \\\n",
       "0               0.013056             0.623977               0.168795   \n",
       "1               0.013056             0.623977               0.168795   \n",
       "2               0.013056             0.623977               0.168795   \n",
       "3               0.013056             0.623977               0.168795   \n",
       "4               0.013056             0.623977               0.168795   \n",
       "..                   ...                  ...                    ...   \n",
       "358             0.011424             0.599006               0.195774   \n",
       "359             0.011424             0.599006               0.195774   \n",
       "360             0.011424             0.599006               0.195774   \n",
       "361             0.011424             0.599006               0.195774   \n",
       "362             0.011424             0.599006               0.195774   \n",
       "\n",
       "     model_0/zeta_param  model_0/XXlambdaXX_param  model_0/eta_param  ...  \\\n",
       "0              0.118833                  0.033681           0.132108  ...   \n",
       "1              0.118833                  0.033681           0.132108  ...   \n",
       "2              0.118833                  0.033681           0.132108  ...   \n",
       "3              0.118833                  0.033681           0.132108  ...   \n",
       "4              0.118833                  0.033681           0.132108  ...   \n",
       "..                  ...                       ...                ...  ...   \n",
       "358            0.146045                  0.030608           0.111852  ...   \n",
       "359            0.146045                  0.030608           0.111852  ...   \n",
       "360            0.146045                  0.030608           0.111852  ...   \n",
       "361            0.146045                  0.030608           0.111852  ...   \n",
       "362            0.146045                  0.030608           0.111852  ...   \n",
       "\n",
       "     model_0/mu_param  model_0/nu_param  model_0/xi_param  model_0/tau_param  \\\n",
       "0            0.015806          0.021737          0.014848           0.008854   \n",
       "1            0.015806          0.021737          0.014848           0.008854   \n",
       "2            0.015806          0.021737          0.014848           0.008854   \n",
       "3            0.015806          0.021737          0.014848           0.008854   \n",
       "4            0.015806          0.021737          0.014848           0.008854   \n",
       "..                ...               ...               ...                ...   \n",
       "358          0.016401          0.028062          0.014827           0.008180   \n",
       "359          0.016401          0.028062          0.014827           0.008180   \n",
       "360          0.016401          0.028062          0.014827           0.008180   \n",
       "361          0.016401          0.028062          0.014827           0.008180   \n",
       "362          0.016401          0.028062          0.014827           0.008180   \n",
       "\n",
       "     model_0/sigma_param  model_0_weight  Cases_sol  Hospitalizations_sol  \\\n",
       "0               0.014440             1.0   0.002860              0.000126   \n",
       "1               0.014440             1.0   0.008086              0.000276   \n",
       "2               0.014440             1.0   0.014088              0.000479   \n",
       "3               0.014440             1.0   0.021363              0.000755   \n",
       "4               0.014440             1.0   0.030381              0.001126   \n",
       "..                   ...             ...        ...                   ...   \n",
       "358             0.014648             1.0   0.012513              0.074458   \n",
       "359             0.014648             1.0   0.012034              0.073112   \n",
       "360             0.014648             1.0   0.011574              0.071784   \n",
       "361             0.014648             1.0   0.011132              0.070473   \n",
       "362             0.014648             1.0   0.010706              0.069180   \n",
       "\n",
       "     Dead_sol  timepoint_days  \n",
       "0    0.002355           679.0  \n",
       "1    0.002356           680.0  \n",
       "2    0.002360           681.0  \n",
       "3    0.002365           682.0  \n",
       "4    0.002373           683.0  \n",
       "..        ...             ...  \n",
       "358  0.098748           795.0  \n",
       "359  0.099351           796.0  \n",
       "360  0.099944           797.0  \n",
       "361  0.100526           798.0  \n",
       "362  0.101097           799.0  \n",
       "\n",
       "[363 rows x 23 columns]"
      ]
     },
     "execution_count": 32,
     "metadata": {},
     "output_type": "execute_result"
    }
   ],
   "source": [
    "case1"
   ]
  },
  {
   "cell_type": "code",
   "execution_count": null,
   "metadata": {},
   "outputs": [
    {
     "data": {
      "application/vnd.vega.v5+json": {
       "$schema": "https://vega.github.io/schema/vega/v5.json",
       "axes": [
        {
         "name": "x_axis",
         "orient": "bottom",
         "scale": "xscale",
         "title": "Time since start of pandemic (days)",
         "zindex": 100
        },
        {
         "name": "y_axis",
         "orient": "left",
         "scale": "yscale",
         "title": "Cases (Prop. of Population)",
         "zindex": 100
        }
       ],
       "data": [
        {
         "name": "distributions",
         "values": [
          {
           "lower": 0.002860269509255886,
           "timepoint": 679,
           "trajectory": "Model 1 Prior Forecasts",
           "upper": 0.0028602726524695754
          },
          {
           "lower": 0.0077203745022416115,
           "timepoint": 680,
           "trajectory": "Model 1 Prior Forecasts",
           "upper": 0.008083795383572578
          },
          {
           "lower": 0.013104626163840293,
           "timepoint": 681,
           "trajectory": "Model 1 Prior Forecasts",
           "upper": 0.014081273786723613
          },
          {
           "lower": 0.019326023384928705,
           "timepoint": 682,
           "trajectory": "Model 1 Prior Forecasts",
           "upper": 0.021328180097043514
          },
          {
           "lower": 0.026657676324248314,
           "timepoint": 683,
           "trajectory": "Model 1 Prior Forecasts",
           "upper": 0.030271237157285212
          },
          {
           "lower": 0.03534544184803963,
           "timepoint": 684,
           "trajectory": "Model 1 Prior Forecasts",
           "upper": 0.041334298253059384
          },
          {
           "lower": 0.045606201887130736,
           "timepoint": 685,
           "trajectory": "Model 1 Prior Forecasts",
           "upper": 0.054896009340882304
          },
          {
           "lower": 0.05761502906680107,
           "timepoint": 686,
           "trajectory": "Model 1 Prior Forecasts",
           "upper": 0.07124329954385758
          },
          {
           "lower": 0.07148465812206269,
           "timepoint": 687,
           "trajectory": "Model 1 Prior Forecasts",
           "upper": 0.09050892293453217
          },
          {
           "lower": 0.08724067658185959,
           "timepoint": 688,
           "trajectory": "Model 1 Prior Forecasts",
           "upper": 0.11260937824845314
          },
          {
           "lower": 0.104799335449934,
           "timepoint": 689,
           "trajectory": "Model 1 Prior Forecasts",
           "upper": 0.13720441684126855
          },
          {
           "lower": 0.1239528201520443,
           "timepoint": 690,
           "trajectory": "Model 1 Prior Forecasts",
           "upper": 0.16369780004024506
          },
          {
           "lower": 0.14436890482902526,
           "timepoint": 691,
           "trajectory": "Model 1 Prior Forecasts",
           "upper": 0.19128767400979996
          },
          {
           "lower": 0.16560665369033814,
           "timepoint": 692,
           "trajectory": "Model 1 Prior Forecasts",
           "upper": 0.21905613243579863
          },
          {
           "lower": 0.18714822381734847,
           "timepoint": 693,
           "trajectory": "Model 1 Prior Forecasts",
           "upper": 0.24607596695423126
          },
          {
           "lower": 0.20844082534313202,
           "timepoint": 694,
           "trajectory": "Model 1 Prior Forecasts",
           "upper": 0.27150851786136626
          },
          {
           "lower": 0.22894143760204316,
           "timepoint": 695,
           "trajectory": "Model 1 Prior Forecasts",
           "upper": 0.29467244297266004
          },
          {
           "lower": 0.2481582224369049,
           "timepoint": 696,
           "trajectory": "Model 1 Prior Forecasts",
           "upper": 0.3150807857513428
          },
          {
           "lower": 0.26568093001842497,
           "timepoint": 697,
           "trajectory": "Model 1 Prior Forecasts",
           "upper": 0.3324428290128708
          },
          {
           "lower": 0.28119864165782926,
           "timepoint": 698,
           "trajectory": "Model 1 Prior Forecasts",
           "upper": 0.3466470628976822
          },
          {
           "lower": 0.29450663924217224,
           "timepoint": 699,
           "trajectory": "Model 1 Prior Forecasts",
           "upper": 0.3577265202999115
          },
          {
           "lower": 0.30550074577331543,
           "timepoint": 700,
           "trajectory": "Model 1 Prior Forecasts",
           "upper": 0.3658276230096817
          },
          {
           "lower": 0.3135315954685211,
           "timepoint": 701,
           "trajectory": "Model 1 Prior Forecasts",
           "upper": 0.37125042676925657
          },
          {
           "lower": 0.3181364506483078,
           "timepoint": 702,
           "trajectory": "Model 1 Prior Forecasts",
           "upper": 0.3743267983198166
          },
          {
           "lower": 0.32072395980358126,
           "timepoint": 703,
           "trajectory": "Model 1 Prior Forecasts",
           "upper": 0.3751833975315094
          },
          {
           "lower": 0.3214828372001648,
           "timepoint": 704,
           "trajectory": "Model 1 Prior Forecasts",
           "upper": 0.37410772442817686
          },
          {
           "lower": 0.3206135094165802,
           "timepoint": 705,
           "trajectory": "Model 1 Prior Forecasts",
           "upper": 0.37137831151485445
          },
          {
           "lower": 0.31832035481929777,
           "timepoint": 706,
           "trajectory": "Model 1 Prior Forecasts",
           "upper": 0.3672577142715454
          },
          {
           "lower": 0.31480255126953127,
           "timepoint": 707,
           "trajectory": "Model 1 Prior Forecasts",
           "upper": 0.3619853436946869
          },
          {
           "lower": 0.3102507531642914,
           "timepoint": 708,
           "trajectory": "Model 1 Prior Forecasts",
           "upper": 0.355776771903038
          },
          {
           "lower": 0.3048385262489319,
           "timepoint": 709,
           "trajectory": "Model 1 Prior Forecasts",
           "upper": 0.34882181882858276
          },
          {
           "lower": 0.298725563287735,
           "timepoint": 710,
           "trajectory": "Model 1 Prior Forecasts",
           "upper": 0.34128766059875487
          },
          {
           "lower": 0.2920545697212219,
           "timepoint": 711,
           "trajectory": "Model 1 Prior Forecasts",
           "upper": 0.3333145886659622
          },
          {
           "lower": 0.2849516272544861,
           "timepoint": 712,
           "trajectory": "Model 1 Prior Forecasts",
           "upper": 0.32502584159374237
          },
          {
           "lower": 0.2775260329246521,
           "timepoint": 713,
           "trajectory": "Model 1 Prior Forecasts",
           "upper": 0.31652352809906004
          },
          {
           "lower": 0.26987349390983584,
           "timepoint": 714,
           "trajectory": "Model 1 Prior Forecasts",
           "upper": 0.3078937530517578
          },
          {
           "lower": 0.26207469403743744,
           "timepoint": 715,
           "trajectory": "Model 1 Prior Forecasts",
           "upper": 0.29920765161514284
          },
          {
           "lower": 0.25419860184192655,
           "timepoint": 716,
           "trajectory": "Model 1 Prior Forecasts",
           "upper": 0.29052397310733796
          },
          {
           "lower": 0.246302992105484,
           "timepoint": 717,
           "trajectory": "Model 1 Prior Forecasts",
           "upper": 0.2818904608488083
          },
          {
           "lower": 0.2384362980723381,
           "timepoint": 718,
           "trajectory": "Model 1 Prior Forecasts",
           "upper": 0.27334563732147216
          },
          {
           "lower": 0.23063770383596421,
           "timepoint": 719,
           "trajectory": "Model 1 Prior Forecasts",
           "upper": 0.2649205058813095
          },
          {
           "lower": 0.22293959856033324,
           "timepoint": 720,
           "trajectory": "Model 1 Prior Forecasts",
           "upper": 0.2566394492983818
          },
          {
           "lower": 0.21536796689033508,
           "timepoint": 721,
           "trajectory": "Model 1 Prior Forecasts",
           "upper": 0.24852117002010346
          },
          {
           "lower": 0.20794339776039122,
           "timepoint": 722,
           "trajectory": "Model 1 Prior Forecasts",
           "upper": 0.24057981967926026
          },
          {
           "lower": 0.20068195909261705,
           "timepoint": 723,
           "trajectory": "Model 1 Prior Forecasts",
           "upper": 0.23282579332590103
          },
          {
           "lower": 0.19359531700611116,
           "timepoint": 724,
           "trajectory": "Model 1 Prior Forecasts",
           "upper": 0.2252667337656021
          },
          {
           "lower": 0.18669306337833405,
           "timepoint": 725,
           "trajectory": "Model 1 Prior Forecasts",
           "upper": 0.21790693551301957
          },
          {
           "lower": 0.17998071908950805,
           "timepoint": 726,
           "trajectory": "Model 1 Prior Forecasts",
           "upper": 0.21074943840503693
          },
          {
           "lower": 0.17346244752407075,
           "timepoint": 727,
           "trajectory": "Model 1 Prior Forecasts",
           "upper": 0.20379538834095
          },
          {
           "lower": 0.1671403869986534,
           "timepoint": 728,
           "trajectory": "Model 1 Prior Forecasts",
           "upper": 0.1970439597964287
          },
          {
           "lower": 0.16101474165916443,
           "timepoint": 729,
           "trajectory": "Model 1 Prior Forecasts",
           "upper": 0.19049469977617264
          },
          {
           "lower": 0.1550848290324211,
           "timepoint": 730,
           "trajectory": "Model 1 Prior Forecasts",
           "upper": 0.18414428383111953
          },
          {
           "lower": 0.14934910237789153,
           "timepoint": 731,
           "trajectory": "Model 1 Prior Forecasts",
           "upper": 0.17799002528190613
          },
          {
           "lower": 0.14380481094121933,
           "timepoint": 732,
           "trajectory": "Model 1 Prior Forecasts",
           "upper": 0.17202858328819276
          },
          {
           "lower": 0.13844863921403885,
           "timepoint": 733,
           "trajectory": "Model 1 Prior Forecasts",
           "upper": 0.16625586450099944
          },
          {
           "lower": 0.13327700048685073,
           "timepoint": 734,
           "trajectory": "Model 1 Prior Forecasts",
           "upper": 0.1606677994132042
          },
          {
           "lower": 0.1282854288816452,
           "timepoint": 735,
           "trajectory": "Model 1 Prior Forecasts",
           "upper": 0.15525950640439987
          },
          {
           "lower": 0.12347043156623841,
           "timepoint": 736,
           "trajectory": "Model 1 Prior Forecasts",
           "upper": 0.15002674162387847
          },
          {
           "lower": 0.11882643476128578,
           "timepoint": 737,
           "trajectory": "Model 1 Prior Forecasts",
           "upper": 0.14496497735381125
          },
          {
           "lower": 0.1143490269780159,
           "timepoint": 738,
           "trajectory": "Model 1 Prior Forecasts",
           "upper": 0.1400690846145153
          },
          {
           "lower": 0.11003335937857628,
           "timepoint": 739,
           "trajectory": "Model 1 Prior Forecasts",
           "upper": 0.13533468395471573
          },
          {
           "lower": 0.1058745600283146,
           "timepoint": 740,
           "trajectory": "Model 1 Prior Forecasts",
           "upper": 0.13075683638453484
          },
          {
           "lower": 0.10186773687601089,
           "timepoint": 741,
           "trajectory": "Model 1 Prior Forecasts",
           "upper": 0.12633073702454567
          },
          {
           "lower": 0.09800802245736122,
           "timepoint": 742,
           "trajectory": "Model 1 Prior Forecasts",
           "upper": 0.1220519945025444
          },
          {
           "lower": 0.09429063871502877,
           "timepoint": 743,
           "trajectory": "Model 1 Prior Forecasts",
           "upper": 0.11791600510478019
          },
          {
           "lower": 0.0907107874751091,
           "timepoint": 744,
           "trajectory": "Model 1 Prior Forecasts",
           "upper": 0.11391821205615997
          },
          {
           "lower": 0.08726381063461304,
           "timepoint": 745,
           "trajectory": "Model 1 Prior Forecasts",
           "upper": 0.11005444005131722
          },
          {
           "lower": 0.08394536077976227,
           "timepoint": 746,
           "trajectory": "Model 1 Prior Forecasts",
           "upper": 0.1063202477991581
          },
          {
           "lower": 0.08059772327542306,
           "timepoint": 747,
           "trajectory": "Model 1 Prior Forecasts",
           "upper": 0.10273059457540512
          },
          {
           "lower": 0.07738023772835731,
           "timepoint": 748,
           "trajectory": "Model 1 Prior Forecasts",
           "upper": 0.09926104843616486
          },
          {
           "lower": 0.07428902983665467,
           "timepoint": 749,
           "trajectory": "Model 1 Prior Forecasts",
           "upper": 0.09590758755803108
          },
          {
           "lower": 0.07131937369704247,
           "timepoint": 750,
           "trajectory": "Model 1 Prior Forecasts",
           "upper": 0.09266645833849907
          },
          {
           "lower": 0.06846666112542152,
           "timepoint": 751,
           "trajectory": "Model 1 Prior Forecasts",
           "upper": 0.0895340047776699
          },
          {
           "lower": 0.06572662144899369,
           "timepoint": 752,
           "trajectory": "Model 1 Prior Forecasts",
           "upper": 0.08650661334395408
          },
          {
           "lower": 0.06309499591588974,
           "timepoint": 753,
           "trajectory": "Model 1 Prior Forecasts",
           "upper": 0.08358088359236716
          },
          {
           "lower": 0.06056747660040855,
           "timepoint": 754,
           "trajectory": "Model 1 Prior Forecasts",
           "upper": 0.0807533759623766
          },
          {
           "lower": 0.058140238747000694,
           "timepoint": 755,
           "trajectory": "Model 1 Prior Forecasts",
           "upper": 0.07802117094397544
          },
          {
           "lower": 0.05580943152308464,
           "timepoint": 756,
           "trajectory": "Model 1 Prior Forecasts",
           "upper": 0.07538077980279922
          },
          {
           "lower": 0.05357125587761402,
           "timepoint": 757,
           "trajectory": "Model 1 Prior Forecasts",
           "upper": 0.07282931543886662
          },
          {
           "lower": 0.051422152668237686,
           "timepoint": 758,
           "trajectory": "Model 1 Prior Forecasts",
           "upper": 0.07036366462707519
          },
          {
           "lower": 0.049358637630939485,
           "timepoint": 759,
           "trajectory": "Model 1 Prior Forecasts",
           "upper": 0.06798114106059074
          },
          {
           "lower": 0.04737738259136677,
           "timepoint": 760,
           "trajectory": "Model 1 Prior Forecasts",
           "upper": 0.0656789630651474
          },
          {
           "lower": 0.04547516666352749,
           "timepoint": 761,
           "trajectory": "Model 1 Prior Forecasts",
           "upper": 0.06345439925789832
          },
          {
           "lower": 0.04364890493452549,
           "timepoint": 762,
           "trajectory": "Model 1 Prior Forecasts",
           "upper": 0.061304881051182744
          },
          {
           "lower": 0.04189559556543827,
           "timepoint": 763,
           "trajectory": "Model 1 Prior Forecasts",
           "upper": 0.059227919578552245
          },
          {
           "lower": 0.0402123786509037,
           "timepoint": 764,
           "trajectory": "Model 1 Prior Forecasts",
           "upper": 0.05722106397151947
          },
          {
           "lower": 0.03859646394848824,
           "timepoint": 765,
           "trajectory": "Model 1 Prior Forecasts",
           "upper": 0.055281990021467206
          },
          {
           "lower": 0.03704520873725414,
           "timepoint": 766,
           "trajectory": "Model 1 Prior Forecasts",
           "upper": 0.053408413752913476
          },
          {
           "lower": 0.03555605784058571,
           "timepoint": 767,
           "trajectory": "Model 1 Prior Forecasts",
           "upper": 0.05159812532365322
          },
          {
           "lower": 0.03412655144929886,
           "timepoint": 768,
           "trajectory": "Model 1 Prior Forecasts",
           "upper": 0.04984908401966095
          },
          {
           "lower": 0.032754310593009,
           "timepoint": 769,
           "trajectory": "Model 1 Prior Forecasts",
           "upper": 0.04815914221107959
          },
          {
           "lower": 0.03143708221614361,
           "timepoint": 770,
           "trajectory": "Model 1 Prior Forecasts",
           "upper": 0.0465263620018959
          },
          {
           "lower": 0.030172668769955634,
           "timepoint": 771,
           "trajectory": "Model 1 Prior Forecasts",
           "upper": 0.04494878053665161
          },
          {
           "lower": 0.028958937153220177,
           "timepoint": 772,
           "trajectory": "Model 1 Prior Forecasts",
           "upper": 0.04342457819730043
          },
          {
           "lower": 0.02779391538351774,
           "timepoint": 773,
           "trajectory": "Model 1 Prior Forecasts",
           "upper": 0.041951957345008846
          },
          {
           "lower": 0.026675643771886824,
           "timepoint": 774,
           "trajectory": "Model 1 Prior Forecasts",
           "upper": 0.040529174543917176
          },
          {
           "lower": 0.02560226321220398,
           "timepoint": 775,
           "trajectory": "Model 1 Prior Forecasts",
           "upper": 0.03915457017719746
          },
          {
           "lower": 0.024571969546377657,
           "timepoint": 776,
           "trajectory": "Model 1 Prior Forecasts",
           "upper": 0.037826501019299026
          },
          {
           "lower": 0.023583054915070532,
           "timepoint": 777,
           "trajectory": "Model 1 Prior Forecasts",
           "upper": 0.036543411761522294
          },
          {
           "lower": 0.02263386342674494,
           "timepoint": 778,
           "trajectory": "Model 1 Prior Forecasts",
           "upper": 0.03530378565192222
          },
          {
           "lower": 0.02172280102968216,
           "timepoint": 779,
           "trajectory": "Model 1 Prior Forecasts",
           "upper": 0.03410609737038612
          },
          {
           "lower": 0.020848348177969454,
           "timepoint": 780,
           "trajectory": "Model 1 Prior Forecasts",
           "upper": 0.03294902350753546
          },
          {
           "lower": 0.02000904269516468,
           "timepoint": 781,
           "trajectory": "Model 1 Prior Forecasts",
           "upper": 0.03183116391301155
          },
          {
           "lower": 0.019203470274806022,
           "timepoint": 782,
           "trajectory": "Model 1 Prior Forecasts",
           "upper": 0.030751186423003674
          },
          {
           "lower": 0.018430276215076445,
           "timepoint": 783,
           "trajectory": "Model 1 Prior Forecasts",
           "upper": 0.029707766510546206
          },
          {
           "lower": 0.017688167467713355,
           "timepoint": 784,
           "trajectory": "Model 1 Prior Forecasts",
           "upper": 0.02869974188506603
          },
          {
           "lower": 0.01697592847049236,
           "timepoint": 785,
           "trajectory": "Model 1 Prior Forecasts",
           "upper": 0.027725886926054953
          },
          {
           "lower": 0.016292317025363445,
           "timepoint": 786,
           "trajectory": "Model 1 Prior Forecasts",
           "upper": 0.026785046607255936
          },
          {
           "lower": 0.01563620790839195,
           "timepoint": 787,
           "trajectory": "Model 1 Prior Forecasts",
           "upper": 0.025876119174063204
          },
          {
           "lower": 0.015006494149565697,
           "timepoint": 788,
           "trajectory": "Model 1 Prior Forecasts",
           "upper": 0.02499800268560648
          },
          {
           "lower": 0.014402101840823888,
           "timepoint": 789,
           "trajectory": "Model 1 Prior Forecasts",
           "upper": 0.024149662628769875
          },
          {
           "lower": 0.013822035677731038,
           "timepoint": 790,
           "trajectory": "Model 1 Prior Forecasts",
           "upper": 0.02333009447902441
          },
          {
           "lower": 0.013265313860028983,
           "timepoint": 791,
           "trajectory": "Model 1 Prior Forecasts",
           "upper": 0.02253833822906017
          },
          {
           "lower": 0.012731001246720552,
           "timepoint": 792,
           "trajectory": "Model 1 Prior Forecasts",
           "upper": 0.021773426886647938
          },
          {
           "lower": 0.01221818123012781,
           "timepoint": 793,
           "trajectory": "Model 1 Prior Forecasts",
           "upper": 0.021034467313438655
          },
          {
           "lower": 0.011726010218262672,
           "timepoint": 794,
           "trajectory": "Model 1 Prior Forecasts",
           "upper": 0.02032057400792837
          },
          {
           "lower": 0.011253650486469268,
           "timepoint": 795,
           "trajectory": "Model 1 Prior Forecasts",
           "upper": 0.01963090756908059
          },
          {
           "lower": 0.010800312273204327,
           "timepoint": 796,
           "trajectory": "Model 1 Prior Forecasts",
           "upper": 0.01896463297307491
          },
          {
           "lower": 0.010365228075534106,
           "timepoint": 797,
           "trajectory": "Model 1 Prior Forecasts",
           "upper": 0.018320968467742203
          },
          {
           "lower": 0.00994763821363449,
           "timepoint": 798,
           "trajectory": "Model 1 Prior Forecasts",
           "upper": 0.017699143476784227
          },
          {
           "lower": 0.00954687651246786,
           "timepoint": 799,
           "trajectory": "Model 1 Prior Forecasts",
           "upper": 0.017098423931747674
          },
          {
           "lower": 0.0028602916980162265,
           "timepoint": 679,
           "trajectory": "Model 2 Prior Forecasts",
           "upper": 0.002860423712991178
          },
          {
           "lower": 0.006267639808356762,
           "timepoint": 680,
           "trajectory": "Model 2 Prior Forecasts",
           "upper": 0.01670254934579134
          },
          {
           "lower": 0.006354791345074773,
           "timepoint": 681,
           "trajectory": "Model 2 Prior Forecasts",
           "upper": 0.023628194350749254
          },
          {
           "lower": 0.005542872520163655,
           "timepoint": 682,
           "trajectory": "Model 2 Prior Forecasts",
           "upper": 0.028624448273330924
          },
          {
           "lower": 0.004583519278094172,
           "timepoint": 683,
           "trajectory": "Model 2 Prior Forecasts",
           "upper": 0.033567725121974944
          },
          {
           "lower": 0.0037136697443202137,
           "timepoint": 684,
           "trajectory": "Model 2 Prior Forecasts",
           "upper": 0.03905210983939469
          },
          {
           "lower": 0.002994505688548088,
           "timepoint": 685,
           "trajectory": "Model 2 Prior Forecasts",
           "upper": 0.045212113903835414
          },
          {
           "lower": 0.002425326290540397,
           "timepoint": 686,
           "trajectory": "Model 2 Prior Forecasts",
           "upper": 0.05199718219228088
          },
          {
           "lower": 0.0019854827201925217,
           "timepoint": 687,
           "trajectory": "Model 2 Prior Forecasts",
           "upper": 0.05924825770780444
          },
          {
           "lower": 0.0016503937542438508,
           "timepoint": 688,
           "trajectory": "Model 2 Prior Forecasts",
           "upper": 0.06671661760192364
          },
          {
           "lower": 0.0013974131201393903,
           "timepoint": 689,
           "trajectory": "Model 2 Prior Forecasts",
           "upper": 0.07407525004819035
          },
          {
           "lower": 0.0012075961916707457,
           "timepoint": 690,
           "trajectory": "Model 2 Prior Forecasts",
           "upper": 0.08093890773598104
          },
          {
           "lower": 0.0010658340412192046,
           "timepoint": 691,
           "trajectory": "Model 2 Prior Forecasts",
           "upper": 0.08690060712397098
          },
          {
           "lower": 0.0009603868995327503,
           "timepoint": 692,
           "trajectory": "Model 2 Prior Forecasts",
           "upper": 0.09157879683189094
          },
          {
           "lower": 0.0008822708099614829,
           "timepoint": 693,
           "trajectory": "Model 2 Prior Forecasts",
           "upper": 0.09466740158386527
          },
          {
           "lower": 0.0008246805577073247,
           "timepoint": 694,
           "trajectory": "Model 2 Prior Forecasts",
           "upper": 0.09598005542065947
          },
          {
           "lower": 0.0007824884378351271,
           "timepoint": 695,
           "trajectory": "Model 2 Prior Forecasts",
           "upper": 0.09547273446805774
          },
          {
           "lower": 0.0007518497353885324,
           "timepoint": 696,
           "trajectory": "Model 2 Prior Forecasts",
           "upper": 0.09324676264077424
          },
          {
           "lower": 0.0007298772950889542,
           "timepoint": 697,
           "trajectory": "Model 2 Prior Forecasts",
           "upper": 0.08952389520127325
          },
          {
           "lower": 0.0007144162780605256,
           "timepoint": 698,
           "trajectory": "Model 2 Prior Forecasts",
           "upper": 0.08460892776492983
          },
          {
           "lower": 0.0007038512761937455,
           "timepoint": 699,
           "trajectory": "Model 2 Prior Forecasts",
           "upper": 0.07884644775185734
          },
          {
           "lower": 0.000696978677297011,
           "timepoint": 700,
           "trajectory": "Model 2 Prior Forecasts",
           "upper": 0.07257908596657216
          },
          {
           "lower": 0.0006928942544618622,
           "timepoint": 701,
           "trajectory": "Model 2 Prior Forecasts",
           "upper": 0.0661163276527077
          },
          {
           "lower": 0.0006909220275701955,
           "timepoint": 702,
           "trajectory": "Model 2 Prior Forecasts",
           "upper": 0.059714961261488494
          },
          {
           "lower": 0.0006905574206029996,
           "timepoint": 703,
           "trajectory": "Model 2 Prior Forecasts",
           "upper": 0.053571007959544656
          },
          {
           "lower": 0.0006914190656971187,
           "timepoint": 704,
           "trajectory": "Model 2 Prior Forecasts",
           "upper": 0.04782034042291343
          },
          {
           "lower": 0.0006932226184289903,
           "timepoint": 705,
           "trajectory": "Model 2 Prior Forecasts",
           "upper": 0.0425453373696655
          },
          {
           "lower": 0.0006957532750675455,
           "timepoint": 706,
           "trajectory": "Model 2 Prior Forecasts",
           "upper": 0.0377844953443855
          },
          {
           "lower": 0.0006988489360082895,
           "timepoint": 707,
           "trajectory": "Model 2 Prior Forecasts",
           "upper": 0.033542892429977655
          },
          {
           "lower": 0.0007023870683042332,
           "timepoint": 708,
           "trajectory": "Model 2 Prior Forecasts",
           "upper": 0.029802020965144036
          },
          {
           "lower": 0.0007062743301503361,
           "timepoint": 709,
           "trajectory": "Model 2 Prior Forecasts",
           "upper": 0.026527979830279946
          },
          {
           "lower": 0.000710440063267015,
           "timepoint": 710,
           "trajectory": "Model 2 Prior Forecasts",
           "upper": 0.023678609216585753
          },
          {
           "lower": 0.0007148275792133064,
           "timepoint": 711,
           "trajectory": "Model 2 Prior Forecasts",
           "upper": 0.021207884978502987
          },
          {
           "lower": 0.0007193952857051045,
           "timepoint": 712,
           "trajectory": "Model 2 Prior Forecasts",
           "upper": 0.019069835916161536
          },
          {
           "lower": 0.0007241091137984768,
           "timepoint": 713,
           "trajectory": "Model 2 Prior Forecasts",
           "upper": 0.01722068223170936
          },
          {
           "lower": 0.0007289418514119461,
           "timepoint": 714,
           "trajectory": "Model 2 Prior Forecasts",
           "upper": 0.01562013942748308
          },
          {
           "lower": 0.0007338722614804282,
           "timepoint": 715,
           "trajectory": "Model 2 Prior Forecasts",
           "upper": 0.014232196286320685
          },
          {
           "lower": 0.0007388800499029458,
           "timepoint": 716,
           "trajectory": "Model 2 Prior Forecasts",
           "upper": 0.01302517713047564
          },
          {
           "lower": 0.0007439510925905779,
           "timepoint": 717,
           "trajectory": "Model 2 Prior Forecasts",
           "upper": 0.011971731437370181
          },
          {
           "lower": 0.0007490724208764731,
           "timepoint": 718,
           "trajectory": "Model 2 Prior Forecasts",
           "upper": 0.011048442078754305
          },
          {
           "lower": 0.0007542296429164709,
           "timepoint": 719,
           "trajectory": "Model 2 Prior Forecasts",
           "upper": 0.01023550103418529
          },
          {
           "lower": 0.0007594127324409783,
           "timepoint": 720,
           "trajectory": "Model 2 Prior Forecasts",
           "upper": 0.00951622575521469
          },
          {
           "lower": 0.0007646112993825228,
           "timepoint": 721,
           "trajectory": "Model 2 Prior Forecasts",
           "upper": 0.008876663027331233
          },
          {
           "lower": 0.0007698152039665729,
           "timepoint": 722,
           "trajectory": "Model 2 Prior Forecasts",
           "upper": 0.008305145474150776
          },
          {
           "lower": 0.0007750147284241393,
           "timepoint": 723,
           "trajectory": "Model 2 Prior Forecasts",
           "upper": 0.007791986130177974
          },
          {
           "lower": 0.0007802005420671776,
           "timepoint": 724,
           "trajectory": "Model 2 Prior Forecasts",
           "upper": 0.007329063396900892
          },
          {
           "lower": 0.000785364248440601,
           "timepoint": 725,
           "trajectory": "Model 2 Prior Forecasts",
           "upper": 0.0069096599239856
          },
          {
           "lower": 0.0007904954283731059,
           "timepoint": 726,
           "trajectory": "Model 2 Prior Forecasts",
           "upper": 0.006528137158602476
          },
          {
           "lower": 0.0007955860142828897,
           "timepoint": 727,
           "trajectory": "Model 2 Prior Forecasts",
           "upper": 0.006179765611886978
          },
          {
           "lower": 0.0008006266754819081,
           "timepoint": 728,
           "trajectory": "Model 2 Prior Forecasts",
           "upper": 0.0058605999685823916
          },
          {
           "lower": 0.000789264650666155,
           "timepoint": 729,
           "trajectory": "Model 2 Prior Forecasts",
           "upper": 0.005698003945872188
          },
          {
           "lower": 0.0007558310258900747,
           "timepoint": 730,
           "trajectory": "Model 2 Prior Forecasts",
           "upper": 0.00573442536406219
          },
          {
           "lower": 0.000724720602738671,
           "timepoint": 731,
           "trajectory": "Model 2 Prior Forecasts",
           "upper": 0.005772200040519237
          },
          {
           "lower": 0.0006957012054044753,
           "timepoint": 732,
           "trajectory": "Model 2 Prior Forecasts",
           "upper": 0.005811009649187326
          },
          {
           "lower": 0.0006685723928967491,
           "timepoint": 733,
           "trajectory": "Model 2 Prior Forecasts",
           "upper": 0.005850590020418167
          },
          {
           "lower": 0.0006431594811147079,
           "timepoint": 734,
           "trajectory": "Model 2 Prior Forecasts",
           "upper": 0.005890686763450503
          },
          {
           "lower": 0.0006193103981786408,
           "timepoint": 735,
           "trajectory": "Model 2 Prior Forecasts",
           "upper": 0.005931082833558321
          },
          {
           "lower": 0.0005968899349682033,
           "timepoint": 736,
           "trajectory": "Model 2 Prior Forecasts",
           "upper": 0.00597153902053833
          },
          {
           "lower": 0.0005757806822657586,
           "timepoint": 737,
           "trajectory": "Model 2 Prior Forecasts",
           "upper": 0.0060118920635432
          },
          {
           "lower": 0.0005558766977628693,
           "timepoint": 738,
           "trajectory": "Model 2 Prior Forecasts",
           "upper": 0.00605195821262896
          },
          {
           "lower": 0.00053708315390395,
           "timepoint": 739,
           "trajectory": "Model 2 Prior Forecasts",
           "upper": 0.006091568525880575
          },
          {
           "lower": 0.0005193161428906024,
           "timepoint": 740,
           "trajectory": "Model 2 Prior Forecasts",
           "upper": 0.006130570848472416
          },
          {
           "lower": 0.0005024990561651066,
           "timepoint": 741,
           "trajectory": "Model 2 Prior Forecasts",
           "upper": 0.006168815400451421
          },
          {
           "lower": 0.00048656316212145615,
           "timepoint": 742,
           "trajectory": "Model 2 Prior Forecasts",
           "upper": 0.006206178339198232
          },
          {
           "lower": 0.0004714459151728079,
           "timepoint": 743,
           "trajectory": "Model 2 Prior Forecasts",
           "upper": 0.006242525205016136
          },
          {
           "lower": 0.0004570903998683207,
           "timepoint": 744,
           "trajectory": "Model 2 Prior Forecasts",
           "upper": 0.006277739256620406
          },
          {
           "lower": 0.0004434449481777847,
           "timepoint": 745,
           "trajectory": "Model 2 Prior Forecasts",
           "upper": 0.0063117047306150195
          },
          {
           "lower": 0.0004304614732973278,
           "timepoint": 746,
           "trajectory": "Model 2 Prior Forecasts",
           "upper": 0.006344322371296584
          },
          {
           "lower": 0.00041809705435298384,
           "timepoint": 747,
           "trajectory": "Model 2 Prior Forecasts",
           "upper": 0.006375497486442327
          },
          {
           "lower": 0.00040631136362208055,
           "timepoint": 748,
           "trajectory": "Model 2 Prior Forecasts",
           "upper": 0.00640513056423515
          },
          {
           "lower": 0.00039506805769633506,
           "timepoint": 749,
           "trajectory": "Model 2 Prior Forecasts",
           "upper": 0.006433141138404607
          },
          {
           "lower": 0.00038433285517385234,
           "timepoint": 750,
           "trajectory": "Model 2 Prior Forecasts",
           "upper": 0.006459451001137494
          },
          {
           "lower": 0.0003740746542462148,
           "timepoint": 751,
           "trajectory": "Model 2 Prior Forecasts",
           "upper": 0.006483977776952088
          },
          {
           "lower": 0.000364264624658972,
           "timepoint": 752,
           "trajectory": "Model 2 Prior Forecasts",
           "upper": 0.006506674981210381
          },
          {
           "lower": 0.00035487532732076944,
           "timepoint": 753,
           "trajectory": "Model 2 Prior Forecasts",
           "upper": 0.006527462683152407
          },
          {
           "lower": 0.00034588286507641897,
           "timepoint": 754,
           "trajectory": "Model 2 Prior Forecasts",
           "upper": 0.006546292966231704
          },
          {
           "lower": 0.00033726338151609527,
           "timepoint": 755,
           "trajectory": "Model 2 Prior Forecasts",
           "upper": 0.0065630977856926615
          },
          {
           "lower": 0.0003289959990070201,
           "timepoint": 756,
           "trajectory": "Model 2 Prior Forecasts",
           "upper": 0.006577877991367131
          },
          {
           "lower": 0.00032106060098158196,
           "timepoint": 757,
           "trajectory": "Model 2 Prior Forecasts",
           "upper": 0.006590549764223397
          },
          {
           "lower": 0.00031343864684458823,
           "timepoint": 758,
           "trajectory": "Model 2 Prior Forecasts",
           "upper": 0.006601101858541369
          },
          {
           "lower": 0.00030611290712840856,
           "timepoint": 759,
           "trajectory": "Model 2 Prior Forecasts",
           "upper": 0.0066094925277866414
          },
          {
           "lower": 0.00029906729323556645,
           "timepoint": 760,
           "trajectory": "Model 2 Prior Forecasts",
           "upper": 0.006615686614532023
          },
          {
           "lower": 0.00029228664643596856,
           "timepoint": 761,
           "trajectory": "Model 2 Prior Forecasts",
           "upper": 0.006619709520600736
          },
          {
           "lower": 0.00028575702017406,
           "timepoint": 762,
           "trajectory": "Model 2 Prior Forecasts",
           "upper": 0.006621525611262768
          },
          {
           "lower": 0.0002794651809381321,
           "timepoint": 763,
           "trajectory": "Model 2 Prior Forecasts",
           "upper": 0.006621103186625987
          },
          {
           "lower": 0.00027339895023033024,
           "timepoint": 764,
           "trajectory": "Model 2 Prior Forecasts",
           "upper": 0.0066184621420688925
          },
          {
           "lower": 0.00026754702848847957,
           "timepoint": 765,
           "trajectory": "Model 2 Prior Forecasts",
           "upper": 0.0066135951201431445
          },
          {
           "lower": 0.0002618982165586203,
           "timepoint": 766,
           "trajectory": "Model 2 Prior Forecasts",
           "upper": 0.006606517848558723
          },
          {
           "lower": 0.00025644250854384154,
           "timepoint": 767,
           "trajectory": "Model 2 Prior Forecasts",
           "upper": 0.006597219326067715
          },
          {
           "lower": 0.00025117050972767174,
           "timepoint": 768,
           "trajectory": "Model 2 Prior Forecasts",
           "upper": 0.006585736363194882
          },
          {
           "lower": 0.00024607315281173215,
           "timepoint": 769,
           "trajectory": "Model 2 Prior Forecasts",
           "upper": 0.00657207365729846
          },
          {
           "lower": 0.0002411420544376597,
           "timepoint": 770,
           "trajectory": "Model 2 Prior Forecasts",
           "upper": 0.006556251912843435
          },
          {
           "lower": 0.0002363699153647758,
           "timepoint": 771,
           "trajectory": "Model 2 Prior Forecasts",
           "upper": 0.006538307049777358
          },
          {
           "lower": 0.0002317484249942936,
           "timepoint": 772,
           "trajectory": "Model 2 Prior Forecasts",
           "upper": 0.006518259609583765
          },
          {
           "lower": 0.0002272712314152159,
           "timepoint": 773,
           "trajectory": "Model 2 Prior Forecasts",
           "upper": 0.006496141705429181
          },
          {
           "lower": 0.00022293124784482642,
           "timepoint": 774,
           "trajectory": "Model 2 Prior Forecasts",
           "upper": 0.00647199714439921
          },
          {
           "lower": 0.00021872274955967442,
           "timepoint": 775,
           "trajectory": "Model 2 Prior Forecasts",
           "upper": 0.0064458564796950665
          },
          {
           "lower": 0.0002146399929188192,
           "timepoint": 776,
           "trajectory": "Model 2 Prior Forecasts",
           "upper": 0.006417773570865392
          },
          {
           "lower": 0.0002106768326484598,
           "timepoint": 777,
           "trajectory": "Model 2 Prior Forecasts",
           "upper": 0.0063877691864036015
          },
          {
           "lower": 0.00020682827162090688,
           "timepoint": 778,
           "trajectory": "Model 2 Prior Forecasts",
           "upper": 0.006355914525920525
          },
          {
           "lower": 0.00020308958628447726,
           "timepoint": 779,
           "trajectory": "Model 2 Prior Forecasts",
           "upper": 0.006322255183476954
          },
          {
           "lower": 0.0001994562626350671,
           "timepoint": 780,
           "trajectory": "Model 2 Prior Forecasts",
           "upper": 0.006286827690200879
          },
          {
           "lower": 0.00019592345488490538,
           "timepoint": 781,
           "trajectory": "Model 2 Prior Forecasts",
           "upper": 0.006249698105966672
          },
          {
           "lower": 0.0001924872020026669,
           "timepoint": 782,
           "trajectory": "Model 2 Prior Forecasts",
           "upper": 0.006210921535966917
          },
          {
           "lower": 0.0001891436317237094,
           "timepoint": 783,
           "trajectory": "Model 2 Prior Forecasts",
           "upper": 0.006170547555666417
          },
          {
           "lower": 0.00018588887469377368,
           "timepoint": 784,
           "trajectory": "Model 2 Prior Forecasts",
           "upper": 0.006128644105046987
          },
          {
           "lower": 0.00018271987646585331,
           "timepoint": 785,
           "trajectory": "Model 2 Prior Forecasts",
           "upper": 0.006085262808483093
          },
          {
           "lower": 0.00017963177815545351,
           "timepoint": 786,
           "trajectory": "Model 2 Prior Forecasts",
           "upper": 0.006040467839920893
          },
          {
           "lower": 0.00017662349418969824,
           "timepoint": 787,
           "trajectory": "Model 2 Prior Forecasts",
           "upper": 0.005994318018201738
          },
          {
           "lower": 0.00017369036213494838,
           "timepoint": 788,
           "trajectory": "Model 2 Prior Forecasts",
           "upper": 0.005946876888629048
          },
          {
           "lower": 0.0001708303432678804,
           "timepoint": 789,
           "trajectory": "Model 2 Prior Forecasts",
           "upper": 0.005898202984826639
          },
          {
           "lower": 0.0001680404442595318,
           "timepoint": 790,
           "trajectory": "Model 2 Prior Forecasts",
           "upper": 0.0058483663277002045
          },
          {
           "lower": 0.0001653178420383483,
           "timepoint": 791,
           "trajectory": "Model 2 Prior Forecasts",
           "upper": 0.005797421248280443
          },
          {
           "lower": 0.00016266060702037067,
           "timepoint": 792,
           "trajectory": "Model 2 Prior Forecasts",
           "upper": 0.005745441542239859
          },
          {
           "lower": 0.00016006593505153434,
           "timepoint": 793,
           "trajectory": "Model 2 Prior Forecasts",
           "upper": 0.005692469314089976
          },
          {
           "lower": 0.0001575317161041312,
           "timepoint": 794,
           "trajectory": "Model 2 Prior Forecasts",
           "upper": 0.00563858252717182
          },
          {
           "lower": 0.0001550561108160764,
           "timepoint": 795,
           "trajectory": "Model 2 Prior Forecasts",
           "upper": 0.005583847576053813
          },
          {
           "lower": 0.0001526363892480731,
           "timepoint": 796,
           "trajectory": "Model 2 Prior Forecasts",
           "upper": 0.005528310686349868
          },
          {
           "lower": 0.0001502711354987696,
           "timepoint": 797,
           "trajectory": "Model 2 Prior Forecasts",
           "upper": 0.005472038924926891
          },
          {
           "lower": 0.00014795833194511943,
           "timepoint": 798,
           "trajectory": "Model 2 Prior Forecasts",
           "upper": 0.005415101186372339
          },
          {
           "lower": 0.00014569653721991928,
           "timepoint": 799,
           "trajectory": "Model 2 Prior Forecasts",
           "upper": 0.005357543026912026
          },
          {
           "lower": 0.0028602448059245945,
           "timepoint": 679,
           "trajectory": "Model 3 Prior Forecasts",
           "upper": 0.0028604055289179085
          },
          {
           "lower": 0.005689509073272347,
           "timepoint": 680,
           "trajectory": "Model 3 Prior Forecasts",
           "upper": 0.013622899958863854
          },
          {
           "lower": 0.007108464511111379,
           "timepoint": 681,
           "trajectory": "Model 3 Prior Forecasts",
           "upper": 0.01848216690123081
          },
          {
           "lower": 0.0081634480971843,
           "timepoint": 682,
           "trajectory": "Model 3 Prior Forecasts",
           "upper": 0.02179743628948927
          },
          {
           "lower": 0.009052326623350381,
           "timepoint": 683,
           "trajectory": "Model 3 Prior Forecasts",
           "upper": 0.024401716142892837
          },
          {
           "lower": 0.009769316203892231,
           "timepoint": 684,
           "trajectory": "Model 3 Prior Forecasts",
           "upper": 0.02662509884685278
          },
          {
           "lower": 0.01016843570396304,
           "timepoint": 685,
           "trajectory": "Model 3 Prior Forecasts",
           "upper": 0.02962875310331583
          },
          {
           "lower": 0.010457173455506563,
           "timepoint": 686,
           "trajectory": "Model 3 Prior Forecasts",
           "upper": 0.03178217932581902
          },
          {
           "lower": 0.010646960698068142,
           "timepoint": 687,
           "trajectory": "Model 3 Prior Forecasts",
           "upper": 0.033078449033200744
          },
          {
           "lower": 0.010749670770019292,
           "timepoint": 688,
           "trajectory": "Model 3 Prior Forecasts",
           "upper": 0.03354724794626236
          },
          {
           "lower": 0.010776219796389342,
           "timepoint": 689,
           "trajectory": "Model 3 Prior Forecasts",
           "upper": 0.033256530202925204
          },
          {
           "lower": 0.010736462567001582,
           "timepoint": 690,
           "trajectory": "Model 3 Prior Forecasts",
           "upper": 0.03230842277407646
          },
          {
           "lower": 0.010639307089149952,
           "timepoint": 691,
           "trajectory": "Model 3 Prior Forecasts",
           "upper": 0.03082898836582899
          },
          {
           "lower": 0.010493005625903606,
           "timepoint": 692,
           "trajectory": "Model 3 Prior Forecasts",
           "upper": 0.028955527022480963
          },
          {
           "lower": 0.010305275674909353,
           "timepoint": 693,
           "trajectory": "Model 3 Prior Forecasts",
           "upper": 0.026823548413813115
          },
          {
           "lower": 0.01008318392559886,
           "timepoint": 694,
           "trajectory": "Model 3 Prior Forecasts",
           "upper": 0.024555590003728867
          },
          {
           "lower": 0.00983327068388462,
           "timepoint": 695,
           "trajectory": "Model 3 Prior Forecasts",
           "upper": 0.02225446663796902
          },
          {
           "lower": 0.009561352152377366,
           "timepoint": 696,
           "trajectory": "Model 3 Prior Forecasts",
           "upper": 0.020000310987234114
          },
          {
           "lower": 0.009246362559497356,
           "timepoint": 697,
           "trajectory": "Model 3 Prior Forecasts",
           "upper": 0.01806022208184004
          },
          {
           "lower": 0.008894653152674436,
           "timepoint": 698,
           "trajectory": "Model 3 Prior Forecasts",
           "upper": 0.016456401348114012
          },
          {
           "lower": 0.008545179851353168,
           "timepoint": 699,
           "trajectory": "Model 3 Prior Forecasts",
           "upper": 0.014928489457815886
          },
          {
           "lower": 0.008200393011793494,
           "timepoint": 700,
           "trajectory": "Model 3 Prior Forecasts",
           "upper": 0.013490773271769285
          },
          {
           "lower": 0.00786182158626616,
           "timepoint": 701,
           "trajectory": "Model 3 Prior Forecasts",
           "upper": 0.012151559349149466
          },
          {
           "lower": 0.007530381949618459,
           "timepoint": 702,
           "trajectory": "Model 3 Prior Forecasts",
           "upper": 0.010914626065641642
          },
          {
           "lower": 0.007206600764766336,
           "timepoint": 703,
           "trajectory": "Model 3 Prior Forecasts",
           "upper": 0.009780081827193499
          },
          {
           "lower": 0.006890777871012688,
           "timepoint": 704,
           "trajectory": "Model 3 Prior Forecasts",
           "upper": 0.008745486428961158
          },
          {
           "lower": 0.006188735505566001,
           "timepoint": 705,
           "trajectory": "Model 3 Prior Forecasts",
           "upper": 0.007855889340862631
          },
          {
           "lower": 0.005442349007353187,
           "timepoint": 706,
           "trajectory": "Model 3 Prior Forecasts",
           "upper": 0.007063171453773975
          },
          {
           "lower": 0.004788364050909877,
           "timepoint": 707,
           "trajectory": "Model 3 Prior Forecasts",
           "upper": 0.0063441743608564135
          },
          {
           "lower": 0.004193263221532106,
           "timepoint": 708,
           "trajectory": "Model 3 Prior Forecasts",
           "upper": 0.005874074948951602
          },
          {
           "lower": 0.003654244216158986,
           "timepoint": 709,
           "trajectory": "Model 3 Prior Forecasts",
           "upper": 0.005590431997552514
          },
          {
           "lower": 0.0031840410083532333,
           "timepoint": 710,
           "trajectory": "Model 3 Prior Forecasts",
           "upper": 0.005314950039610267
          },
          {
           "lower": 0.0027740833815187217,
           "timepoint": 711,
           "trajectory": "Model 3 Prior Forecasts",
           "upper": 0.0050480534788221116
          },
          {
           "lower": 0.0024167814059183,
           "timepoint": 712,
           "trajectory": "Model 3 Prior Forecasts",
           "upper": 0.004790053376927971
          },
          {
           "lower": 0.0021054473239928485,
           "timepoint": 713,
           "trajectory": "Model 3 Prior Forecasts",
           "upper": 0.004541179980151355
          },
          {
           "lower": 0.0018342136638239027,
           "timepoint": 714,
           "trajectory": "Model 3 Prior Forecasts",
           "upper": 0.004301590099930763
          },
          {
           "lower": 0.0015979355783201754,
           "timepoint": 715,
           "trajectory": "Model 3 Prior Forecasts",
           "upper": 0.004071370977908373
          },
          {
           "lower": 0.0013921211357228458,
           "timepoint": 716,
           "trajectory": "Model 3 Prior Forecasts",
           "upper": 0.0038505432894453406
          },
          {
           "lower": 0.0012128456495702268,
           "timepoint": 717,
           "trajectory": "Model 3 Prior Forecasts",
           "upper": 0.003639073437079787
          },
          {
           "lower": 0.0010566875920630992,
           "timepoint": 718,
           "trajectory": "Model 3 Prior Forecasts",
           "upper": 0.0034368982072919604
          },
          {
           "lower": 0.0009206667076796293,
           "timepoint": 719,
           "trajectory": "Model 3 Prior Forecasts",
           "upper": 0.0032438762951642274
          },
          {
           "lower": 0.0008021818939596415,
           "timepoint": 720,
           "trajectory": "Model 3 Prior Forecasts",
           "upper": 0.0030598551617003976
          },
          {
           "lower": 0.0006989687914028764,
           "timepoint": 721,
           "trajectory": "Model 3 Prior Forecasts",
           "upper": 0.002884641720447689
          },
          {
           "lower": 0.0006090591545216739,
           "timepoint": 722,
           "trajectory": "Model 3 Prior Forecasts",
           "upper": 0.002718021534383297
          },
          {
           "lower": 0.0005307346989866346,
           "timepoint": 723,
           "trajectory": "Model 3 Prior Forecasts",
           "upper": 0.0025597449857741594
          },
          {
           "lower": 0.00046249744482338426,
           "timepoint": 724,
           "trajectory": "Model 3 Prior Forecasts",
           "upper": 0.002409561688546091
          },
          {
           "lower": 0.00040304952708538624,
           "timepoint": 725,
           "trajectory": "Model 3 Prior Forecasts",
           "upper": 0.0022671991202514617
          },
          {
           "lower": 0.00035125551221426576,
           "timepoint": 726,
           "trajectory": "Model 3 Prior Forecasts",
           "upper": 0.0021323749155271795
          },
          {
           "lower": 0.0003061287570744753,
           "timepoint": 727,
           "trajectory": "Model 3 Prior Forecasts",
           "upper": 0.002004799386486411
          },
          {
           "lower": 0.00026680969313019887,
           "timepoint": 728,
           "trajectory": "Model 3 Prior Forecasts",
           "upper": 0.0018841840210370717
          },
          {
           "lower": 0.00023254962434293702,
           "timepoint": 729,
           "trajectory": "Model 3 Prior Forecasts",
           "upper": 0.001770233584102243
          },
          {
           "lower": 0.00020269642409402876,
           "timepoint": 730,
           "trajectory": "Model 3 Prior Forecasts",
           "upper": 0.0016626571828965097
          },
          {
           "lower": 0.00017668251384748146,
           "timepoint": 731,
           "trajectory": "Model 3 Prior Forecasts",
           "upper": 0.0015611596638336776
          },
          {
           "lower": 0.00015401303535327314,
           "timepoint": 732,
           "trajectory": "Model 3 Prior Forecasts",
           "upper": 0.00146546192409005
          },
          {
           "lower": 0.00013425757351797073,
           "timepoint": 733,
           "trajectory": "Model 3 Prior Forecasts",
           "upper": 0.0013752803759416565
          },
          {
           "lower": 0.00011704087519319728,
           "timepoint": 734,
           "trajectory": "Model 3 Prior Forecasts",
           "upper": 0.0012903455615742132
          },
          {
           "lower": 0.00010203614510828629,
           "timepoint": 735,
           "trajectory": "Model 3 Prior Forecasts",
           "upper": 0.0012103887172997929
          },
          {
           "lower": 0.00008895848732208833,
           "timepoint": 736,
           "trajectory": "Model 3 Prior Forecasts",
           "upper": 0.001135154532676097
          },
          {
           "lower": 0.0000775603904912714,
           "timepoint": 737,
           "trajectory": "Model 3 Prior Forecasts",
           "upper": 0.001064390447572805
          },
          {
           "lower": 0.00006762544981029351,
           "timepoint": 738,
           "trajectory": "Model 3 Prior Forecasts",
           "upper": 0.0009978618036257103
          },
          {
           "lower": 0.000058965633434127086,
           "timepoint": 739,
           "trajectory": "Model 3 Prior Forecasts",
           "upper": 0.0009353357847430743
          },
          {
           "lower": 0.000051416947098914537,
           "timepoint": 740,
           "trajectory": "Model 3 Prior Forecasts",
           "upper": 0.0008765895006945356
          },
          {
           "lower": 0.00004483661250560544,
           "timepoint": 741,
           "trajectory": "Model 3 Prior Forecasts",
           "upper": 0.0008214185203542
          },
          {
           "lower": 0.00003910013037966564,
           "timepoint": 742,
           "trajectory": "Model 3 Prior Forecasts",
           "upper": 0.0007696151049458421
          },
          {
           "lower": 0.00003409911387279863,
           "timepoint": 743,
           "trajectory": "Model 3 Prior Forecasts",
           "upper": 0.0007209883697214535
          },
          {
           "lower": 0.000029739087767666206,
           "timepoint": 744,
           "trajectory": "Model 3 Prior Forecasts",
           "upper": 0.000675354970007902
          },
          {
           "lower": 0.000025937726604752243,
           "timepoint": 745,
           "trajectory": "Model 3 Prior Forecasts",
           "upper": 0.0006325422997178975
          },
          {
           "lower": 0.000022623319637204986,
           "timepoint": 746,
           "trajectory": "Model 3 Prior Forecasts",
           "upper": 0.0005923833694396307
          },
          {
           "lower": 0.000019733364206331315,
           "timepoint": 747,
           "trajectory": "Model 3 Prior Forecasts",
           "upper": 0.0005547219072468578
          },
          {
           "lower": 0.000017213383580383378,
           "timepoint": 748,
           "trajectory": "Model 3 Prior Forecasts",
           "upper": 0.0005194093970203538
          },
          {
           "lower": 0.00001501592396380147,
           "timepoint": 749,
           "trajectory": "Model 3 Prior Forecasts",
           "upper": 0.00048630511664669027
          },
          {
           "lower": 0.000013099627722112928,
           "timepoint": 750,
           "trajectory": "Model 3 Prior Forecasts",
           "upper": 0.0004552765716653084
          },
          {
           "lower": 0.000011428437483118615,
           "timepoint": 751,
           "trajectory": "Model 3 Prior Forecasts",
           "upper": 0.0004261975558620179
          },
          {
           "lower": 0.000009970950486604124,
           "timepoint": 752,
           "trajectory": "Model 3 Prior Forecasts",
           "upper": 0.00039894867859402433
          },
          {
           "lower": 0.000008699761565367226,
           "timepoint": 753,
           "trajectory": "Model 3 Prior Forecasts",
           "upper": 0.00037341906354413366
          },
          {
           "lower": 0.000007591004487039754,
           "timepoint": 754,
           "trajectory": "Model 3 Prior Forecasts",
           "upper": 0.00034950451899931064
          },
          {
           "lower": 0.000006623901026614476,
           "timepoint": 755,
           "trajectory": "Model 3 Prior Forecasts",
           "upper": 0.0003271034345743828
          },
          {
           "lower": 0.000005780300352853374,
           "timepoint": 756,
           "trajectory": "Model 3 Prior Forecasts",
           "upper": 0.00030612300361099187
          },
          {
           "lower": 0.000005044394902142812,
           "timepoint": 757,
           "trajectory": "Model 3 Prior Forecasts",
           "upper": 0.0002864750010303396
          },
          {
           "lower": 0.000004402412741910666,
           "timepoint": 758,
           "trajectory": "Model 3 Prior Forecasts",
           "upper": 0.0002680766327102901
          },
          {
           "lower": 0.000003842330988845788,
           "timepoint": 759,
           "trajectory": "Model 3 Prior Forecasts",
           "upper": 0.0002508498273527948
          },
          {
           "lower": 0.0000033536812452439334,
           "timepoint": 760,
           "trajectory": "Model 3 Prior Forecasts",
           "upper": 0.00023472128441426318
          },
          {
           "lower": 0.000002927329774138343,
           "timepoint": 761,
           "trajectory": "Model 3 Prior Forecasts",
           "upper": 0.00021962213477308976
          },
          {
           "lower": 0.000002555317223595921,
           "timepoint": 762,
           "trajectory": "Model 3 Prior Forecasts",
           "upper": 0.00020548765255625764
          },
          {
           "lower": 0.000002230703194072703,
           "timepoint": 763,
           "trajectory": "Model 3 Prior Forecasts",
           "upper": 0.00019225705591452422
          },
          {
           "lower": 0.000001947428268067597,
           "timepoint": 764,
           "trajectory": "Model 3 Prior Forecasts",
           "upper": 0.0001798733133909991
          },
          {
           "lower": 0.0000017002222989503935,
           "timepoint": 765,
           "trajectory": "Model 3 Prior Forecasts",
           "upper": 0.00016828283764880322
          },
          {
           "lower": 0.0000014844781958345266,
           "timepoint": 766,
           "trajectory": "Model 3 Prior Forecasts",
           "upper": 0.00015743508606647083
          },
          {
           "lower": 0.0000012961798006472236,
           "timepoint": 767,
           "trajectory": "Model 3 Prior Forecasts",
           "upper": 0.0001472841920076462
          },
          {
           "lower": 0.000001131831140810391,
           "timepoint": 768,
           "trajectory": "Model 3 Prior Forecasts",
           "upper": 0.0001377838380221874
          },
          {
           "lower": 9.883760526463447e-7,
           "timepoint": 769,
           "trajectory": "Model 3 Prior Forecasts",
           "upper": 0.00012889427982827327
          },
          {
           "lower": 8.631521041024826e-7,
           "timepoint": 770,
           "trajectory": "Model 3 Prior Forecasts",
           "upper": 0.00012057609392286393
          },
          {
           "lower": 7.538377303717425e-7,
           "timepoint": 771,
           "trajectory": "Model 3 Prior Forecasts",
           "upper": 0.00011279270661361805
          },
          {
           "lower": 6.584025072697841e-7,
           "timepoint": 772,
           "trajectory": "Model 3 Prior Forecasts",
           "upper": 0.00010551008604124944
          },
          {
           "lower": 5.750840614382469e-7,
           "timepoint": 773,
           "trajectory": "Model 3 Prior Forecasts",
           "upper": 0.0000986962265301372
          },
          {
           "lower": 5.023382726676573e-7,
           "timepoint": 774,
           "trajectory": "Model 3 Prior Forecasts",
           "upper": 0.0000923211527378953
          },
          {
           "lower": 4.3882000397843515e-7,
           "timepoint": 775,
           "trajectory": "Model 3 Prior Forecasts",
           "upper": 0.00008635678670998458
          },
          {
           "lower": 3.833561152077891e-7,
           "timepoint": 776,
           "trajectory": "Model 3 Prior Forecasts",
           "upper": 0.00008077674048081462
          },
          {
           "lower": 3.34921764988394e-7,
           "timepoint": 777,
           "trajectory": "Model 3 Prior Forecasts",
           "upper": 0.00007555645470347372
          },
          {
           "lower": 2.9262434253496394e-7,
           "timepoint": 778,
           "trajectory": "Model 3 Prior Forecasts",
           "upper": 0.00007067278378372066
          },
          {
           "lower": 2.556838012424123e-7,
           "timepoint": 779,
           "trajectory": "Model 3 Prior Forecasts",
           "upper": 0.00006610416697299114
          },
          {
           "lower": 2.234201332385055e-7,
           "timepoint": 780,
           "trajectory": "Model 3 Prior Forecasts",
           "upper": 0.00006183015518104184
          },
          {
           "lower": 1.9523913437069494e-7,
           "timepoint": 781,
           "trajectory": "Model 3 Prior Forecasts",
           "upper": 0.000057832297562754315
          },
          {
           "lower": 1.7062313446558618e-7,
           "timepoint": 782,
           "trajectory": "Model 3 Prior Forecasts",
           "upper": 0.000054092431452090746
          },
          {
           "lower": 1.4911997539002187e-7,
           "timepoint": 783,
           "trajectory": "Model 3 Prior Forecasts",
           "upper": 0.00005059400469917818
          },
          {
           "lower": 1.3033461101485955e-7,
           "timepoint": 784,
           "trajectory": "Model 3 Prior Forecasts",
           "upper": 0.000047321557201485116
          },
          {
           "lower": 1.1392275141020037e-7,
           "timepoint": 785,
           "trajectory": "Model 3 Prior Forecasts",
           "upper": 0.00004426047344168182
          },
          {
           "lower": 9.958358972994575e-8,
           "timepoint": 786,
           "trajectory": "Model 3 Prior Forecasts",
           "upper": 0.00004139716097313339
          },
          {
           "lower": 8.705467209324525e-8,
           "timepoint": 787,
           "trajectory": "Model 3 Prior Forecasts",
           "upper": 0.00003871887252557826
          },
          {
           "lower": 7.610676533431615e-8,
           "timepoint": 788,
           "trajectory": "Model 3 Prior Forecasts",
           "upper": 0.00003621365866024462
          },
          {
           "lower": 6.653977102644149e-8,
           "timepoint": 789,
           "trajectory": "Model 3 Prior Forecasts",
           "upper": 0.00003387045212832618
          },
          {
           "lower": 5.817904771276972e-8,
           "timepoint": 790,
           "trajectory": "Model 3 Prior Forecasts",
           "upper": 0.000031678670588064506
          },
          {
           "lower": 5.0872134949031533e-8,
           "timepoint": 791,
           "trajectory": "Model 3 Prior Forecasts",
           "upper": 0.000029628556519867287
          },
          {
           "lower": 4.4485603467592225e-8,
           "timepoint": 792,
           "trajectory": "Model 3 Prior Forecasts",
           "upper": 0.000027711149961362477
          },
          {
           "lower": 3.89033671055472e-8,
           "timepoint": 793,
           "trajectory": "Model 3 Prior Forecasts",
           "upper": 0.00002591764326211887
          },
          {
           "lower": 3.402374471050962e-8,
           "timepoint": 794,
           "trajectory": "Model 3 Prior Forecasts",
           "upper": 0.000024240116965756896
          },
          {
           "lower": 2.9758088615494674e-8,
           "timepoint": 795,
           "trajectory": "Model 3 Prior Forecasts",
           "upper": 0.000022671172690991166
          },
          {
           "lower": 2.6028850186321506e-8,
           "timepoint": 796,
           "trajectory": "Model 3 Prior Forecasts",
           "upper": 0.000021203680469739082
          },
          {
           "lower": 2.276844472959283e-8,
           "timepoint": 797,
           "trajectory": "Model 3 Prior Forecasts",
           "upper": 0.00001983111750973876
          },
          {
           "lower": 1.9917693894200283e-8,
           "timepoint": 798,
           "trajectory": "Model 3 Prior Forecasts",
           "upper": 0.00001854738907738351
          },
          {
           "lower": 1.7425038301155382e-8,
           "timepoint": 799,
           "trajectory": "Model 3 Prior Forecasts",
           "upper": 0.00001734670400850291
          }
         ]
        },
        {
         "name": "traces",
         "transform": [
          {
           "expr": "isValid(datum.value)",
           "type": "filter"
          }
         ],
         "values": []
        },
        {
         "name": "points",
         "values": [
          {
           "sample_id": 0,
           "timepoint": 679,
           "trajectory": "Reported Cases",
           "value": 0.0028602226293839915
          },
          {
           "sample_id": 0,
           "timepoint": 680,
           "trajectory": "Reported Cases",
           "value": 0.0028512318001051814
          },
          {
           "sample_id": 0,
           "timepoint": 681,
           "trajectory": "Reported Cases",
           "value": 0.0030509222160845484
          },
          {
           "sample_id": 0,
           "timepoint": 682,
           "trajectory": "Reported Cases",
           "value": 0.0029190607373453213
          },
          {
           "sample_id": 0,
           "timepoint": 683,
           "trajectory": "Reported Cases",
           "value": 0.002977829546019314
          },
          {
           "sample_id": 0,
           "timepoint": 684,
           "trajectory": "Reported Cases",
           "value": 0.0033400719859905765
          },
          {
           "sample_id": 0,
           "timepoint": 685,
           "trajectory": "Reported Cases",
           "value": 0.0035931710614190695
          },
          {
           "sample_id": 0,
           "timepoint": 686,
           "trajectory": "Reported Cases",
           "value": 0.003907292678866244
          },
          {
           "sample_id": 0,
           "timepoint": 687,
           "trajectory": "Reported Cases",
           "value": 0.0037228420800759594
          },
          {
           "sample_id": 0,
           "timepoint": 688,
           "trajectory": "Reported Cases",
           "value": 0.0038427901074182644
          },
          {
           "sample_id": 0,
           "timepoint": 689,
           "trajectory": "Reported Cases",
           "value": 0.0036039787372310977
          },
          {
           "sample_id": 0,
           "timepoint": 690,
           "trajectory": "Reported Cases",
           "value": 0.003349333986393748
          },
          {
           "sample_id": 0,
           "timepoint": 691,
           "trajectory": "Reported Cases",
           "value": 0.0034254306299144025
          },
          {
           "sample_id": 0,
           "timepoint": 692,
           "trajectory": "Reported Cases",
           "value": 0.0035626492448660035
          },
          {
           "sample_id": 0,
           "timepoint": 693,
           "trajectory": "Reported Cases",
           "value": 0.003830967046396129
          },
          {
           "sample_id": 0,
           "timepoint": 694,
           "trajectory": "Reported Cases",
           "value": 0.0037323541605160412
          },
          {
           "sample_id": 0,
           "timepoint": 695,
           "trajectory": "Reported Cases",
           "value": 0.003973515680447668
          },
          {
           "sample_id": 0,
           "timepoint": 696,
           "trajectory": "Reported Cases",
           "value": 0.003769543773715892
          },
          {
           "sample_id": 0,
           "timepoint": 697,
           "trajectory": "Reported Cases",
           "value": 0.003670066153250342
          },
          {
           "sample_id": 0,
           "timepoint": 698,
           "trajectory": "Reported Cases",
           "value": 0.003922396910493146
          },
          {
           "sample_id": 0,
           "timepoint": 699,
           "trajectory": "Reported Cases",
           "value": 0.004297613382258831
          },
          {
           "sample_id": 0,
           "timepoint": 700,
           "trajectory": "Reported Cases",
           "value": 0.004883514752590471
          },
          {
           "sample_id": 0,
           "timepoint": 701,
           "trajectory": "Reported Cases",
           "value": 0.0051581056461308126
          },
          {
           "sample_id": 0,
           "timepoint": 702,
           "trajectory": "Reported Cases",
           "value": 0.0055646182786602385
          },
          {
           "sample_id": 0,
           "timepoint": 703,
           "trajectory": "Reported Cases",
           "value": 0.005391972662817131
          },
          {
           "sample_id": 0,
           "timepoint": 704,
           "trajectory": "Reported Cases",
           "value": 0.0055165034821611355
          },
          {
           "sample_id": 0,
           "timepoint": 705,
           "trajectory": "Reported Cases",
           "value": 0.0064612697054594985
          },
          {
           "sample_id": 0,
           "timepoint": 706,
           "trajectory": "Reported Cases",
           "value": 0.007337390465132146
          },
          {
           "sample_id": 0,
           "timepoint": 707,
           "trajectory": "Reported Cases",
           "value": 0.008603154000386479
          },
          {
           "sample_id": 0,
           "timepoint": 708,
           "trajectory": "Reported Cases",
           "value": 0.009678151662665412
          },
          {
           "sample_id": 0,
           "timepoint": 709,
           "trajectory": "Reported Cases",
           "value": 0.010671746766423695
          },
          {
           "sample_id": 0,
           "timepoint": 710,
           "trajectory": "Reported Cases",
           "value": 0.01050415397253118
          },
          {
           "sample_id": 0,
           "timepoint": 711,
           "trajectory": "Reported Cases",
           "value": 0.010570000347550991
          },
          {
           "sample_id": 0,
           "timepoint": 712,
           "trajectory": "Reported Cases",
           "value": 0.012963889994371543
          },
          {
           "sample_id": 0,
           "timepoint": 713,
           "trajectory": "Reported Cases",
           "value": 0.01519500164126323
          },
          {
           "sample_id": 0,
           "timepoint": 714,
           "trajectory": "Reported Cases",
           "value": 0.01667816607993019
          },
          {
           "sample_id": 0,
           "timepoint": 715,
           "trajectory": "Reported Cases",
           "value": 0.017698164212163744
          },
          {
           "sample_id": 0,
           "timepoint": 716,
           "trajectory": "Reported Cases",
           "value": 0.0192243544692293
          },
          {
           "sample_id": 0,
           "timepoint": 717,
           "trajectory": "Reported Cases",
           "value": 0.018915996744681043
          },
          {
           "sample_id": 0,
           "timepoint": 718,
           "trajectory": "Reported Cases",
           "value": 0.01860103449674835
          },
          {
           "sample_id": 0,
           "timepoint": 719,
           "trajectory": "Reported Cases",
           "value": 0.02113938604055343
          },
          {
           "sample_id": 0,
           "timepoint": 720,
           "trajectory": "Reported Cases",
           "value": 0.02292907930518546
          },
          {
           "sample_id": 0,
           "timepoint": 721,
           "trajectory": "Reported Cases",
           "value": 0.024609210396538204
          },
          {
           "sample_id": 0,
           "timepoint": 722,
           "trajectory": "Reported Cases",
           "value": 0.024074427796161087
          },
          {
           "sample_id": 0,
           "timepoint": 723,
           "trajectory": "Reported Cases",
           "value": 0.024226108871078605
          },
          {
           "sample_id": 0,
           "timepoint": 724,
           "trajectory": "Reported Cases",
           "value": 0.023444310467496156
          },
          {
           "sample_id": 0,
           "timepoint": 725,
           "trajectory": "Reported Cases",
           "value": 0.022364133436741932
          },
          {
           "sample_id": 0,
           "timepoint": 726,
           "trajectory": "Reported Cases",
           "value": 0.021705030927895313
          },
          {
           "sample_id": 0,
           "timepoint": 727,
           "trajectory": "Reported Cases",
           "value": 0.023887027458140257
          },
          {
           "sample_id": 0,
           "timepoint": 728,
           "trajectory": "Reported Cases",
           "value": 0.025141745289595622
          },
          {
           "sample_id": 0,
           "timepoint": 729,
           "trajectory": "Reported Cases",
           "value": 0.02326275838672404
          },
          {
           "sample_id": 0,
           "timepoint": 730,
           "trajectory": "Reported Cases",
           "value": 0.023321578416610412
          },
          {
           "sample_id": 0,
           "timepoint": 731,
           "trajectory": "Reported Cases",
           "value": 0.021682770791597774
          },
          {
           "sample_id": 0,
           "timepoint": 732,
           "trajectory": "Reported Cases",
           "value": 0.020193212740420883
          },
          {
           "sample_id": 0,
           "timepoint": 733,
           "trajectory": "Reported Cases",
           "value": 0.02028240694924817
          },
          {
           "sample_id": 0,
           "timepoint": 734,
           "trajectory": "Reported Cases",
           "value": 0.020511266339171292
          },
          {
           "sample_id": 0,
           "timepoint": 735,
           "trajectory": "Reported Cases",
           "value": 0.02108676076435246
          },
          {
           "sample_id": 0,
           "timepoint": 736,
           "trajectory": "Reported Cases",
           "value": 0.020613862427566992
          },
          {
           "sample_id": 0,
           "timepoint": 737,
           "trajectory": "Reported Cases",
           "value": 0.01904642402947365
          },
          {
           "sample_id": 0,
           "timepoint": 738,
           "trajectory": "Reported Cases",
           "value": 0.016855442695974884
          },
          {
           "sample_id": 0,
           "timepoint": 739,
           "trajectory": "Reported Cases",
           "value": 0.015258937766362545
          },
          {
           "sample_id": 0,
           "timepoint": 740,
           "trajectory": "Reported Cases",
           "value": 0.014444137836945375
          },
          {
           "sample_id": 0,
           "timepoint": 741,
           "trajectory": "Reported Cases",
           "value": 0.014493786256803363
          },
          {
           "sample_id": 0,
           "timepoint": 742,
           "trajectory": "Reported Cases",
           "value": 0.014361737971289576
          },
          {
           "sample_id": 0,
           "timepoint": 743,
           "trajectory": "Reported Cases",
           "value": 0.012448095398724672
          },
          {
           "sample_id": 0,
           "timepoint": 744,
           "trajectory": "Reported Cases",
           "value": 0.012033751946726203
          },
          {
           "sample_id": 0,
           "timepoint": 745,
           "trajectory": "Reported Cases",
           "value": 0.01026004873939399
          },
          {
           "sample_id": 0,
           "timepoint": 746,
           "trajectory": "Reported Cases",
           "value": 0.008999805043026648
          },
          {
           "sample_id": 0,
           "timepoint": 747,
           "trajectory": "Reported Cases",
           "value": 0.008186125954256836
          },
          {
           "sample_id": 0,
           "timepoint": 748,
           "trajectory": "Reported Cases",
           "value": 0.0082799541762982
          },
          {
           "sample_id": 0,
           "timepoint": 749,
           "trajectory": "Reported Cases",
           "value": 0.008238196836159114
          },
          {
           "sample_id": 0,
           "timepoint": 750,
           "trajectory": "Reported Cases",
           "value": 0.007138597926875663
          },
          {
           "sample_id": 0,
           "timepoint": 751,
           "trajectory": "Reported Cases",
           "value": 0.006782260991390483
          },
          {
           "sample_id": 0,
           "timepoint": 752,
           "trajectory": "Reported Cases",
           "value": 0.005955791664588316
          },
          {
           "sample_id": 0,
           "timepoint": 753,
           "trajectory": "Reported Cases",
           "value": 0.0053097113957360055
          },
          {
           "sample_id": 0,
           "timepoint": 754,
           "trajectory": "Reported Cases",
           "value": 0.00474465404583024
          },
          {
           "sample_id": 0,
           "timepoint": 755,
           "trajectory": "Reported Cases",
           "value": 0.004810828839211779
          },
          {
           "sample_id": 0,
           "timepoint": 756,
           "trajectory": "Reported Cases",
           "value": 0.00489755539080738
          },
          {
           "sample_id": 0,
           "timepoint": 757,
           "trajectory": "Reported Cases",
           "value": 0.0041704522030085265
          },
          {
           "sample_id": 0,
           "timepoint": 758,
           "trajectory": "Reported Cases",
           "value": 0.003959761278417585
          },
          {
           "sample_id": 0,
           "timepoint": 759,
           "trajectory": "Reported Cases",
           "value": 0.003492762420093214
          },
          {
           "sample_id": 0,
           "timepoint": 760,
           "trajectory": "Reported Cases",
           "value": 0.0030503858998608122
          },
          {
           "sample_id": 0,
           "timepoint": 761,
           "trajectory": "Reported Cases",
           "value": 0.002663138469210982
          },
          {
           "sample_id": 0,
           "timepoint": 762,
           "trajectory": "Reported Cases",
           "value": 0.002772775967802587
          },
          {
           "sample_id": 0,
           "timepoint": 763,
           "trajectory": "Reported Cases",
           "value": 0.0028476493282511245
          },
          {
           "sample_id": 0,
           "timepoint": 764,
           "trajectory": "Reported Cases",
           "value": 0.002544323334566007
          },
          {
           "sample_id": 0,
           "timepoint": 765,
           "trajectory": "Reported Cases",
           "value": 0.0024336222425644085
          },
          {
           "sample_id": 0,
           "timepoint": 766,
           "trajectory": "Reported Cases",
           "value": 0.002234871886482826
          },
          {
           "sample_id": 0,
           "timepoint": 767,
           "trajectory": "Reported Cases",
           "value": 0.0019855902978828358
          },
          {
           "sample_id": 0,
           "timepoint": 768,
           "trajectory": "Reported Cases",
           "value": 0.0018436050971674684
          },
          {
           "sample_id": 0,
           "timepoint": 769,
           "trajectory": "Reported Cases",
           "value": 0.0018866761107534582
          },
          {
           "sample_id": 0,
           "timepoint": 770,
           "trajectory": "Reported Cases",
           "value": 0.0019755057450691034
          },
          {
           "sample_id": 0,
           "timepoint": 771,
           "trajectory": "Reported Cases",
           "value": 0.0018816263018153596
          },
          {
           "sample_id": 0,
           "timepoint": 772,
           "trajectory": "Reported Cases",
           "value": 0.0017891780394957428
          },
          {
           "sample_id": 0,
           "timepoint": 773,
           "trajectory": "Reported Cases",
           "value": 0.0015819430402341569
          },
          {
           "sample_id": 0,
           "timepoint": 774,
           "trajectory": "Reported Cases",
           "value": 0.0014195296148169349
          },
          {
           "sample_id": 0,
           "timepoint": 775,
           "trajectory": "Reported Cases",
           "value": 0.0013587752309101215
          },
          {
           "sample_id": 0,
           "timepoint": 776,
           "trajectory": "Reported Cases",
           "value": 0.0013030134087040417
          },
          {
           "sample_id": 0,
           "timepoint": 777,
           "trajectory": "Reported Cases",
           "value": 0.0013583383440986512
          },
          {
           "sample_id": 0,
           "timepoint": 778,
           "trajectory": "Reported Cases",
           "value": 0.0012043824447489965
          },
          {
           "sample_id": 0,
           "timepoint": 779,
           "trajectory": "Reported Cases",
           "value": 0.0012113334645701141
          },
          {
           "sample_id": 0,
           "timepoint": 780,
           "trajectory": "Reported Cases",
           "value": 0.0010832623555469538
          },
          {
           "sample_id": 0,
           "timepoint": 781,
           "trajectory": "Reported Cases",
           "value": 0.0009712415640734657
          },
          {
           "sample_id": 0,
           "timepoint": 782,
           "trajectory": "Reported Cases",
           "value": 0.0008982392843830184
          },
          {
           "sample_id": 0,
           "timepoint": 783,
           "trajectory": "Reported Cases",
           "value": 0.0009230875984119556
          },
          {
           "sample_id": 0,
           "timepoint": 784,
           "trajectory": "Reported Cases",
           "value": 0.0010394230237752748
          },
          {
           "sample_id": 0,
           "timepoint": 785,
           "trajectory": "Reported Cases",
           "value": 0.0010350451166230928
          },
          {
           "sample_id": 0,
           "timepoint": 786,
           "trajectory": "Reported Cases",
           "value": 0.0010419629933067886
          },
          {
           "sample_id": 0,
           "timepoint": 787,
           "trajectory": "Reported Cases",
           "value": 0.0009643056093148125
          },
          {
           "sample_id": 0,
           "timepoint": 788,
           "trajectory": "Reported Cases",
           "value": 0.0008618601715437572
          },
          {
           "sample_id": 0,
           "timepoint": 789,
           "trajectory": "Reported Cases",
           "value": 0.0008386117671485493
          },
          {
           "sample_id": 0,
           "timepoint": 790,
           "trajectory": "Reported Cases",
           "value": 0.0008708841439599894
          },
          {
           "sample_id": 0,
           "timepoint": 791,
           "trajectory": "Reported Cases",
           "value": 0.0009570352101694475
          },
          {
           "sample_id": 0,
           "timepoint": 792,
           "trajectory": "Reported Cases",
           "value": 0.0009804794603766938
          },
          {
           "sample_id": 0,
           "timepoint": 793,
           "trajectory": "Reported Cases",
           "value": 0.0010434574475032665
          },
          {
           "sample_id": 0,
           "timepoint": 794,
           "trajectory": "Reported Cases",
           "value": 0.0009182969085482464
          },
          {
           "sample_id": 0,
           "timepoint": 795,
           "trajectory": "Reported Cases",
           "value": 0.0007978095519697125
          },
          {
           "sample_id": 0,
           "timepoint": 796,
           "trajectory": "Reported Cases",
           "value": 0.0008161316809390306
          },
          {
           "sample_id": 0,
           "timepoint": 797,
           "trajectory": "Reported Cases",
           "value": 0.0008521040370917506
          },
          {
           "sample_id": 0,
           "timepoint": 798,
           "trajectory": "Reported Cases",
           "value": 0.0009318042435539121
          },
          {
           "sample_id": 0,
           "timepoint": 799,
           "trajectory": "Reported Cases",
           "value": 0.0009423678653540156
          }
         ]
        },
        {
         "name": "markers",
         "values": []
        },
        {
         "name": "selected",
         "on": [
          {
           "remove": true,
           "trigger": "clear"
          },
          {
           "remove": true,
           "trigger": "!shift"
          },
          {
           "insert": "clicked",
           "trigger": "!shift && clicked"
          },
          {
           "toggle": "clicked",
           "trigger": "shift && clicked"
          }
         ]
        }
       ],
       "height": 500,
       "legends": [
        {
         "encode": {
          "labels": {
           "interactive": true,
           "name": "legendLabel",
           "update": {
            "opacity": [
             {
              "test": "!length(data('selected')) || indata('selected', 'value', datum.value)",
              "value": 1
             },
             {
              "value": 0.25
             }
            ]
           }
          },
          "symbols": {
           "interactive": true,
           "name": "legendSymbol",
           "update": {
            "fill": {
             "value": "transparent"
            },
            "opacity": [
             {
              "test": "!length(data('selected')) || indata('selected', 'value', datum.value)",
              "value": 0.7
             },
             {
              "value": 0.15
             }
            ],
            "size": {
             "value": 64
            },
            "strokeWidth": {
             "value": 2
            }
           }
          }
         },
         "name": "color_legend",
         "orient": "top-right",
         "stroke": "color"
        }
       ],
       "marks": [
        {
         "from": {
          "facet": {
           "data": "points",
           "groupby": "trajectory",
           "name": "points_split"
          }
         },
         "marks": [
          {
           "encode": {
            "hover": {
             "fillOpacity": {
              "value": 0.9
             }
            },
            "update": {
             "fill": {
              "field": "trajectory",
              "scale": "color"
             },
             "fillOpacity": [
              {
               "test": "!length(data('selected')) || indata('selected', 'value', datum.trajectory)",
               "value": 0.5
              },
              {
               "value": 0.15
              }
             ],
             "size": {
              "value": 10
             },
             "stroke": {
              "field": "trajectory",
              "scale": "color"
             },
             "strokeOpacity": [
              {
               "test": "!length(data('selected')) || indata('selected', 'value', datum.trajectory)",
               "value": 0.75
              },
              {
               "value": 0.15
              }
             ],
             "strokeWidth": {
              "value": 2
             },
             "tooltip": {
              "field": "value"
             },
             "x": {
              "field": "timepoint",
              "scale": "xscale"
             },
             "y": {
              "field": "value",
              "scale": "yscale"
             }
            }
           },
           "from": {
            "data": "points"
           },
           "name": "_points_symbol",
           "type": "symbol",
           "zindex": 3
          },
          {
           "encode": {
            "hover": {
             "fillOpacity": {
              "value": 0.9
             }
            },
            "update": {
             "interpolate": {
              "value": "linear"
             },
             "stroke": {
              "field": "trajectory",
              "scale": "color"
             },
             "strokeOpacity": [
              {
               "test": "!length(data('selected')) || indata('selected', 'value', datum.trajectory)",
               "value": 0.3
              },
              {
               "value": 0.1
              }
             ],
             "strokeWidth": {
              "value": 2
             },
             "x": {
              "field": "timepoint",
              "scale": "xscale"
             },
             "y": {
              "field": "value",
              "scale": "yscale"
             }
            }
           },
           "from": {
            "data": "points"
           },
           "name": "_points_line",
           "type": "line",
           "zindex": 3
          }
         ],
         "name": "_points",
         "type": "group",
         "zindex": 3
        },
        {
         "from": {
          "facet": {
           "data": "traces",
           "groupby": "trajectory",
           "name": "traces_split"
          }
         },
         "marks": [
          {
           "encode": {
            "hover": {
             "fillOpacity": {
              "value": 0.9
             }
            },
            "update": {
             "interpolate": {
              "value": "linear"
             },
             "stroke": {
              "field": "trajectory",
              "scale": "color"
             },
             "strokeOpacity": [
              {
               "test": "!length(data('selected')) || indata('selected', 'value', datum.trajectory)",
               "value": 0.75
              },
              {
               "value": 0.15
              }
             ],
             "strokeWidth": {
              "value": 2
             },
             "x": {
              "field": "timepoint",
              "scale": "xscale"
             },
             "y": {
              "field": "value",
              "scale": "yscale"
             }
            }
           },
           "from": {
            "data": "traces_split"
           },
           "name": "_traces_lines",
           "type": "line"
          }
         ],
         "name": "_traces",
         "type": "group",
         "zindex": 2
        },
        {
         "from": {
          "facet": {
           "data": "distributions",
           "groupby": "trajectory",
           "name": "trajectory_split"
          }
         },
         "marks": [
          {
           "encode": {
            "hover": {
             "fillOpacity": {
              "value": 0.9
             }
            },
            "update": {
             "fill": {
              "field": "trajectory",
              "scale": "color"
             },
             "fillOpacity": [
              {
               "test": "!length(data('selected')) || indata('selected', 'value', datum.trajectory)",
               "value": 0.5
              },
              {
               "value": 0.15
              }
             ],
             "interpolate": {
              "value": "linear"
             },
             "stroke": {
              "field": "trajectory",
              "scale": "color"
             },
             "strokeOpacity": [
              {
               "test": "!length(data('selected')) || indata('selected', 'value', datum.trajectory)",
               "value": 0.75
              },
              {
               "value": 0.15
              }
             ],
             "strokeWidth": {
              "value": 2
             },
             "x": {
              "field": "timepoint",
              "scale": "xscale"
             },
             "y": {
              "field": "upper",
              "scale": "yscale"
             },
             "y2": {
              "field": "lower",
              "scale": "yscale"
             }
            }
           },
           "from": {
            "data": "trajectory_split"
           },
           "type": "area"
          }
         ],
         "name": "_distributions",
         "type": "group",
         "zindex": 1
        },
        {
         "marks": [
          {
           "encode": {
            "enter": {
             "stroke": {
              "value": "lightgray"
             }
            },
            "update": {
             "opacity": {
              "value": 1
             },
             "x": {
              "field": "timepoint",
              "scale": "xscale"
             },
             "y": {
              "signal": "height"
             },
             "y2": {
              "value": 0
             }
            }
           },
           "from": {
            "data": "markers"
           },
           "name": "_marker text",
           "type": "rule"
          },
          {
           "encode": {
            "enter": {
             "fontSize": {
              "value": 8
             },
             "text": {
              "field": "datum.label"
             },
             "y": {
              "value": 0
             }
            }
           },
           "from": {
            "data": "_marker text"
           },
           "name": "_marker flags",
           "transform": [
            {
             "as": [
              "x",
              "_y",
              "opacity",
              "align",
              "baseline"
             ],
             "lineAnchor": "start",
             "offset": [
              1
             ],
             "size": {
              "signal": "[width, height]"
             },
             "type": "label"
            }
           ],
           "type": "text"
          }
         ],
         "name": "_markers",
         "type": "group"
        }
       ],
       "scales": [
        {
         "domain": {
          "fields": [
           {
            "data": "distributions",
            "field": "timepoint"
           },
           {
            "data": "traces",
            "field": "timepoint"
           },
           {
            "data": "points",
            "field": "timepoint"
           },
           {
            "data": "markers",
            "field": "timepoint"
           }
          ]
         },
         "name": "xscale",
         "range": "width",
         "type": "linear",
         "zero": false
        },
        {
         "domain": {
          "fields": [
           {
            "data": "distributions",
            "field": "lower"
           },
           {
            "data": "distributions",
            "field": "upper"
           },
           {
            "data": "traces",
            "field": "value"
           },
           {
            "data": "points",
            "field": "value"
           }
          ]
         },
         "name": "yscale",
         "nice": true,
         "range": "height",
         "type": "log",
         "zero": false
        },
        {
         "domain": {
          "fields": [
           {
            "data": "distributions",
            "field": "trajectory"
           },
           {
            "data": "traces",
            "field": "trajectory"
           },
           {
            "data": "points",
            "field": "trajectory"
           }
          ]
         },
         "name": "color",
         "range": "category",
         "type": "ordinal"
        }
       ],
       "signals": [
        {
         "name": "clear",
         "on": [
          {
           "events": "mouseup[!event.item]",
           "force": true,
           "update": "true"
          }
         ],
         "value": true
        },
        {
         "name": "shift",
         "on": [
          {
           "events": "@legendSymbol:click, @legendLabel:click",
           "force": true,
           "update": "event.shiftKey"
          }
         ],
         "value": false
        },
        {
         "name": "clicked",
         "on": [
          {
           "events": "@legendSymbol:click, @legendLabel:click",
           "force": true,
           "update": "{value: datum.value}"
          }
         ],
         "value": null
        }
       ],
       "title": "Prior Forecasts - Individual Models",
       "width": 500
      }
     },
     "metadata": {},
     "output_type": "display_data"
    }
   ],
   "source": [
    "case1 = (convert_to_output_format(ensemble1_prior_forecasts, all_timepoints, time_unit=\"days\")\n",
    "         .set_index(\"timepoint_days\")[\"Cases_sol\"]\n",
    "         .rename(\"Model 1 Prior Forecasts\"))\n",
    "case2 = (convert_to_output_format(ensemble2_prior_forecasts, all_timepoints, time_unit=\"days\")\n",
    "         .set_index(\"timepoint_days\")[\"Cases_sol\"]\n",
    "         .rename(\"Model 2 Prior Forecasts\"))\n",
    "case3 = (convert_to_output_format(ensemble3_prior_forecasts, all_timepoints, time_unit=\"days\")\n",
    "         .set_index(\"timepoint_days\")[\"Cases_sol\"]\n",
    "         .rename(\"Model 3 Prior Forecasts\"))\n",
    "df = pd.concat([case1, case2, case3], axis=\"columns\")\n",
    "\n",
    "case_df = pd.DataFrame({\"Reported Cases\": plotting_cases, \n",
    "                        \"timepoint_days\": all_timepoints}).assign(sample_id=0)\n",
    "\n",
    "schema = plot_trajectories(\"Prior Forecasts - Individual Models\", \n",
    "                           df,\n",
    "                            points=case_df)\n",
    "plots.save_schema(schema, \"_schema.json\")\n",
    "plots.ipy_display(schema)"
   ]
  },
  {
   "cell_type": "code",
   "execution_count": null,
   "metadata": {},
   "outputs": [
    {
     "data": {
      "text/plain": [
       "tensor([[1.0000],\n",
       "        [1.0000],\n",
       "        [1.0000]])"
      ]
     },
     "execution_count": 36,
     "metadata": {},
     "output_type": "execute_result"
    }
   ],
   "source": [
    "ensemble2_prior_forecasts[\"model_weights\"]"
   ]
  },
  {
   "cell_type": "code",
   "execution_count": null,
   "metadata": {},
   "outputs": [
    {
     "ename": "NameError",
     "evalue": "name 'ensemble3_prior_forecasts' is not defined",
     "output_type": "error",
     "traceback": [
      "\u001b[0;31m---------------------------------------------------------------------------\u001b[0m",
      "\u001b[0;31mNameError\u001b[0m                                 Traceback (most recent call last)",
      "\u001b[1;32m/Users/oost464/Library/CloudStorage/OneDrive-PNNL/Desktop/projects/pyciemss/notebook/april_ensemble/demo.ipynb Cell 50\u001b[0m line \u001b[0;36m1\n\u001b[0;32m----> <a href='vscode-notebook-cell:/Users/oost464/Library/CloudStorage/OneDrive-PNNL/Desktop/projects/pyciemss/notebook/april_ensemble/demo.ipynb#Y100sZmlsZQ%3D%3D?line=0'>1</a>\u001b[0m \u001b[39mlen\u001b[39m(ensemble3_prior_forecasts[\u001b[39m'\u001b[39m\u001b[39mCases_sol\u001b[39m\u001b[39m'\u001b[39m][\u001b[39m0\u001b[39m])\n\u001b[1;32m      <a href='vscode-notebook-cell:/Users/oost464/Library/CloudStorage/OneDrive-PNNL/Desktop/projects/pyciemss/notebook/april_ensemble/demo.ipynb#Y100sZmlsZQ%3D%3D?line=1'>2</a>\u001b[0m ensemble3_prior_forecasts\u001b[39m.\u001b[39mkeys()\n\u001b[1;32m      <a href='vscode-notebook-cell:/Users/oost464/Library/CloudStorage/OneDrive-PNNL/Desktop/projects/pyciemss/notebook/april_ensemble/demo.ipynb#Y100sZmlsZQ%3D%3D?line=2'>3</a>\u001b[0m ensemble3_prior_forecasts[\u001b[39m\"\u001b[39m\u001b[39mmodel_weights\u001b[39m\u001b[39m\"\u001b[39m]\n",
      "\u001b[0;31mNameError\u001b[0m: name 'ensemble3_prior_forecasts' is not defined"
     ]
    }
   ],
   "source": [
    "\n",
    "# created with case_sol"
   ]
  },
  {
   "attachments": {},
   "cell_type": "markdown",
   "metadata": {},
   "source": [
    "## NOTE: The MIRA models did not contain enough information to align the data with the start state. We constructed somewhat handwavy mappings manually based on data."
   ]
  },
  {
   "attachments": {},
   "cell_type": "markdown",
   "metadata": {},
   "source": [
    "## Setup the full ensemble of all three models"
   ]
  },
  {
   "cell_type": "code",
   "execution_count": 93,
   "metadata": {},
   "outputs": [
    {
     "name": "stderr",
     "output_type": "stream",
     "text": [
      "ERROR:root:\n",
      "                ###############################\n",
      "\n",
      "                There was an exception in pyciemss\n",
      "                \n",
      "                Error occured in function: setup_ensemble_model\n",
      "\n",
      "                Function docs : \n",
      "    Instatiate a model for a particular configuration of initial conditions\n",
      "    \n",
      "\n",
      "                ################################\n",
      "            \n",
      "Traceback (most recent call last):\n",
      "  File \"/Users/oost464/Library/CloudStorage/OneDrive-PNNL/Desktop/projects/pyciemss/src/pyciemss/custom_decorators.py\", line 9, in wrapped\n",
      "    result = function(*args, **kwargs)\n",
      "TypeError: setup_ensemble_model() got an unexpected keyword argument 'noise_pseudocount'\n"
     ]
    },
    {
     "ename": "TypeError",
     "evalue": "setup_ensemble_model() got an unexpected keyword argument 'noise_pseudocount'",
     "output_type": "error",
     "traceback": [
      "\u001b[0;31m---------------------------------------------------------------------------\u001b[0m",
      "\u001b[0;31mTypeError\u001b[0m                                 Traceback (most recent call last)",
      "\u001b[1;32m/Users/oost464/Library/CloudStorage/OneDrive-PNNL/Desktop/projects/pyciemss/notebook/april_ensemble/demo.ipynb Cell 53\u001b[0m line \u001b[0;36m1\n\u001b[1;32m     <a href='vscode-notebook-cell:/Users/oost464/Library/CloudStorage/OneDrive-PNNL/Desktop/projects/pyciemss/notebook/april_ensemble/demo.ipynb#Y103sZmlsZQ%3D%3D?line=9'>10</a>\u001b[0m dirichlet_concentration \u001b[39m=\u001b[39m \u001b[39m1.0\u001b[39m\n\u001b[1;32m     <a href='vscode-notebook-cell:/Users/oost464/Library/CloudStorage/OneDrive-PNNL/Desktop/projects/pyciemss/notebook/april_ensemble/demo.ipynb#Y103sZmlsZQ%3D%3D?line=10'>11</a>\u001b[0m noise_pseudocount \u001b[39m=\u001b[39m \u001b[39m100.0\u001b[39m\n\u001b[0;32m---> <a href='vscode-notebook-cell:/Users/oost464/Library/CloudStorage/OneDrive-PNNL/Desktop/projects/pyciemss/notebook/april_ensemble/demo.ipynb#Y103sZmlsZQ%3D%3D?line=12'>13</a>\u001b[0m ensemble \u001b[39m=\u001b[39m setup_model(models, \n\u001b[1;32m     <a href='vscode-notebook-cell:/Users/oost464/Library/CloudStorage/OneDrive-PNNL/Desktop/projects/pyciemss/notebook/april_ensemble/demo.ipynb#Y103sZmlsZQ%3D%3D?line=13'>14</a>\u001b[0m                        weights, \n\u001b[1;32m     <a href='vscode-notebook-cell:/Users/oost464/Library/CloudStorage/OneDrive-PNNL/Desktop/projects/pyciemss/notebook/april_ensemble/demo.ipynb#Y103sZmlsZQ%3D%3D?line=14'>15</a>\u001b[0m                        solution_mappings, \n\u001b[1;32m     <a href='vscode-notebook-cell:/Users/oost464/Library/CloudStorage/OneDrive-PNNL/Desktop/projects/pyciemss/notebook/april_ensemble/demo.ipynb#Y103sZmlsZQ%3D%3D?line=15'>16</a>\u001b[0m                        start_time, \n\u001b[1;32m     <a href='vscode-notebook-cell:/Users/oost464/Library/CloudStorage/OneDrive-PNNL/Desktop/projects/pyciemss/notebook/april_ensemble/demo.ipynb#Y103sZmlsZQ%3D%3D?line=16'>17</a>\u001b[0m                        start_states, \n\u001b[1;32m     <a href='vscode-notebook-cell:/Users/oost464/Library/CloudStorage/OneDrive-PNNL/Desktop/projects/pyciemss/notebook/april_ensemble/demo.ipynb#Y103sZmlsZQ%3D%3D?line=17'>18</a>\u001b[0m                        ensemble_total_population, \n\u001b[1;32m     <a href='vscode-notebook-cell:/Users/oost464/Library/CloudStorage/OneDrive-PNNL/Desktop/projects/pyciemss/notebook/april_ensemble/demo.ipynb#Y103sZmlsZQ%3D%3D?line=18'>19</a>\u001b[0m                        dirichlet_concentration\u001b[39m=\u001b[39;49mdirichlet_concentration,\n\u001b[1;32m     <a href='vscode-notebook-cell:/Users/oost464/Library/CloudStorage/OneDrive-PNNL/Desktop/projects/pyciemss/notebook/april_ensemble/demo.ipynb#Y103sZmlsZQ%3D%3D?line=19'>20</a>\u001b[0m                        noise_pseudocount\u001b[39m=\u001b[39;49mnoise_pseudocount)\n\u001b[1;32m     <a href='vscode-notebook-cell:/Users/oost464/Library/CloudStorage/OneDrive-PNNL/Desktop/projects/pyciemss/notebook/april_ensemble/demo.ipynb#Y103sZmlsZQ%3D%3D?line=20'>21</a>\u001b[0m ensemble\n",
      "File \u001b[0;32m~/opt/anaconda3/envs/CIEMSS_ENV/lib/python3.10/functools.py:889\u001b[0m, in \u001b[0;36msingledispatch.<locals>.wrapper\u001b[0;34m(*args, **kw)\u001b[0m\n\u001b[1;32m    885\u001b[0m \u001b[39mif\u001b[39;00m \u001b[39mnot\u001b[39;00m args:\n\u001b[1;32m    886\u001b[0m     \u001b[39mraise\u001b[39;00m \u001b[39mTypeError\u001b[39;00m(\u001b[39mf\u001b[39m\u001b[39m'\u001b[39m\u001b[39m{\u001b[39;00mfuncname\u001b[39m}\u001b[39;00m\u001b[39m requires at least \u001b[39m\u001b[39m'\u001b[39m\n\u001b[1;32m    887\u001b[0m                     \u001b[39m'\u001b[39m\u001b[39m1 positional argument\u001b[39m\u001b[39m'\u001b[39m)\n\u001b[0;32m--> 889\u001b[0m \u001b[39mreturn\u001b[39;00m dispatch(args[\u001b[39m0\u001b[39;49m]\u001b[39m.\u001b[39;49m\u001b[39m__class__\u001b[39;49m)(\u001b[39m*\u001b[39;49margs, \u001b[39m*\u001b[39;49m\u001b[39m*\u001b[39;49mkw)\n",
      "File \u001b[0;32m~/Library/CloudStorage/OneDrive-PNNL/Desktop/projects/pyciemss/src/pyciemss/custom_decorators.py:30\u001b[0m, in \u001b[0;36mpyciemss_logging_wrapper.<locals>.wrapped\u001b[0;34m(*args, **kwargs)\u001b[0m\n\u001b[1;32m     18\u001b[0m log_message \u001b[39m=\u001b[39m \u001b[39m\"\"\"\u001b[39m\n\u001b[1;32m     19\u001b[0m \u001b[39m    ###############################\u001b[39m\n\u001b[1;32m     20\u001b[0m \n\u001b[0;32m   (...)\u001b[0m\n\u001b[1;32m     27\u001b[0m \u001b[39m    ################################\u001b[39m\n\u001b[1;32m     28\u001b[0m \u001b[39m\u001b[39m\u001b[39m\"\"\"\u001b[39m\n\u001b[1;32m     29\u001b[0m logging\u001b[39m.\u001b[39mexception(log_message, function\u001b[39m.\u001b[39m\u001b[39m__name__\u001b[39m, function\u001b[39m.\u001b[39m\u001b[39m__doc__\u001b[39m)\n\u001b[0;32m---> 30\u001b[0m \u001b[39mraise\u001b[39;00m e\n",
      "File \u001b[0;32m~/Library/CloudStorage/OneDrive-PNNL/Desktop/projects/pyciemss/src/pyciemss/custom_decorators.py:9\u001b[0m, in \u001b[0;36mpyciemss_logging_wrapper.<locals>.wrapped\u001b[0;34m(*args, **kwargs)\u001b[0m\n\u001b[1;32m      7\u001b[0m \u001b[39mtry\u001b[39;00m:\n\u001b[1;32m      8\u001b[0m     start_time \u001b[39m=\u001b[39m time\u001b[39m.\u001b[39mperf_counter()\n\u001b[0;32m----> 9\u001b[0m     result \u001b[39m=\u001b[39m function(\u001b[39m*\u001b[39;49margs, \u001b[39m*\u001b[39;49m\u001b[39m*\u001b[39;49mkwargs)\n\u001b[1;32m     10\u001b[0m     end_time \u001b[39m=\u001b[39m time\u001b[39m.\u001b[39mperf_counter()\n\u001b[1;32m     11\u001b[0m     logging\u001b[39m.\u001b[39minfo(\n\u001b[1;32m     12\u001b[0m         \u001b[39m\"\u001b[39m\u001b[39mElapsed time for \u001b[39m\u001b[39m%s\u001b[39;00m\u001b[39m: \u001b[39m\u001b[39m%f\u001b[39;00m\u001b[39m\"\u001b[39m,\n\u001b[1;32m     13\u001b[0m         function\u001b[39m.\u001b[39m\u001b[39m__name__\u001b[39m, end_time \u001b[39m-\u001b[39m start_time\n\u001b[1;32m     14\u001b[0m     )\n",
      "\u001b[0;31mTypeError\u001b[0m: setup_ensemble_model() got an unexpected keyword argument 'noise_pseudocount'"
     ]
    }
   ],
   "source": [
    "# Setup the Ensemble\n",
    "\n",
    "models = [model1, model2, model3]\n",
    "weights = [1/3, 1/3, 1/3]\n",
    "\n",
    "start_states = [start_state1, start_state2, start_state3]\n",
    "solution_mappings = [solution_mapping1, solution_mapping2, solution_mapping3]\n",
    "\n",
    "ensemble_total_population = 1.0\n",
    "dirichlet_concentration = 1.0\n",
    "noise_pseudocount = 100.0\n",
    "\n",
    "ensemble = setup_model(models, \n",
    "                       weights, \n",
    "                       solution_mappings, \n",
    "                       start_time, \n",
    "                       start_states, \n",
    "                       ensemble_total_population, \n",
    "                       dirichlet_concentration=dirichlet_concentration,\n",
    "                       noise_pseudocount=noise_pseudocount)\n",
    "ensemble"
   ]
  },
  {
   "cell_type": "code",
   "execution_count": 94,
   "metadata": {},
   "outputs": [
    {
     "ename": "NameError",
     "evalue": "name 'ensemble' is not defined",
     "output_type": "error",
     "traceback": [
      "\u001b[0;31m---------------------------------------------------------------------------\u001b[0m",
      "\u001b[0;31mNameError\u001b[0m                                 Traceback (most recent call last)",
      "\u001b[1;32m/Users/oost464/Library/CloudStorage/OneDrive-PNNL/Desktop/projects/pyciemss/notebook/april_ensemble/demo.ipynb Cell 54\u001b[0m line \u001b[0;36m2\n\u001b[1;32m      <a href='vscode-notebook-cell:/Users/oost464/Library/CloudStorage/OneDrive-PNNL/Desktop/projects/pyciemss/notebook/april_ensemble/demo.ipynb#Y104sZmlsZQ%3D%3D?line=0'>1</a>\u001b[0m \u001b[39m# Sample from the Ensemble\u001b[39;00m\n\u001b[0;32m----> <a href='vscode-notebook-cell:/Users/oost464/Library/CloudStorage/OneDrive-PNNL/Desktop/projects/pyciemss/notebook/april_ensemble/demo.ipynb#Y104sZmlsZQ%3D%3D?line=1'>2</a>\u001b[0m ensemble_prior_forecasts \u001b[39m=\u001b[39m sample(ensemble, all_timepoints, num_samples)\n",
      "\u001b[0;31mNameError\u001b[0m: name 'ensemble' is not defined"
     ]
    }
   ],
   "source": [
    "# Sample from the Ensemble\n",
    "ensemble_prior_forecasts = sample(ensemble, all_timepoints, num_samples)"
   ]
  },
  {
   "cell_type": "code",
   "execution_count": null,
   "metadata": {},
   "outputs": [
    {
     "data": {
      "application/vnd.vega.v5+json": {
       "$schema": "https://vega.github.io/schema/vega/v5.json",
       "axes": [
        {
         "name": "x_axis",
         "orient": "bottom",
         "scale": "xscale",
         "title": "Time since start of pandemic (days)",
         "zindex": 100
        },
        {
         "name": "y_axis",
         "orient": "left",
         "scale": "yscale",
         "title": "Cases (Prop. of Population)",
         "zindex": 100
        }
       ],
       "data": [
        {
         "name": "distributions",
         "values": [
          {
           "lower": 0.0028603037586435675,
           "timepoint": 679,
           "trajectory": "Ensemble Model Prior Forecasts",
           "upper": 0.0028603307902812956
          },
          {
           "lower": 0.00887348297983408,
           "timepoint": 680,
           "trajectory": "Ensemble Model Prior Forecasts",
           "upper": 0.00988621637225151
          },
          {
           "lower": 0.012392042111605406,
           "timepoint": 681,
           "trajectory": "Ensemble Model Prior Forecasts",
           "upper": 0.014631495531648397
          },
          {
           "lower": 0.015484394505620003,
           "timepoint": 682,
           "trajectory": "Ensemble Model Prior Forecasts",
           "upper": 0.019516641460359096
          },
          {
           "lower": 0.018776619993150234,
           "timepoint": 683,
           "trajectory": "Ensemble Model Prior Forecasts",
           "upper": 0.0251133119687438
          },
          {
           "lower": 0.022494891285896303,
           "timepoint": 684,
           "trajectory": "Ensemble Model Prior Forecasts",
           "upper": 0.03168448135256767
          },
          {
           "lower": 0.026744007132947445,
           "timepoint": 685,
           "trajectory": "Ensemble Model Prior Forecasts",
           "upper": 0.03940447624772787
          },
          {
           "lower": 0.03157833926379681,
           "timepoint": 686,
           "trajectory": "Ensemble Model Prior Forecasts",
           "upper": 0.04838243573904037
          },
          {
           "lower": 0.03701473996043205,
           "timepoint": 687,
           "trajectory": "Ensemble Model Prior Forecasts",
           "upper": 0.05865080580115318
          },
          {
           "lower": 0.04303013756871223,
           "timepoint": 688,
           "trajectory": "Ensemble Model Prior Forecasts",
           "upper": 0.07014736458659172
          },
          {
           "lower": 0.04955706410109997,
           "timepoint": 689,
           "trajectory": "Ensemble Model Prior Forecasts",
           "upper": 0.08270324319601059
          },
          {
           "lower": 0.05648309402167797,
           "timepoint": 690,
           "trajectory": "Ensemble Model Prior Forecasts",
           "upper": 0.09604360833764077
          },
          {
           "lower": 0.06365581154823304,
           "timepoint": 691,
           "trajectory": "Ensemble Model Prior Forecasts",
           "upper": 0.10980634242296218
          },
          {
           "lower": 0.07089436426758766,
           "timepoint": 692,
           "trajectory": "Ensemble Model Prior Forecasts",
           "upper": 0.12357624173164367
          },
          {
           "lower": 0.07800492644309998,
           "timepoint": 693,
           "trajectory": "Ensemble Model Prior Forecasts",
           "upper": 0.13692790865898133
          },
          {
           "lower": 0.08479779213666916,
           "timepoint": 694,
           "trajectory": "Ensemble Model Prior Forecasts",
           "upper": 0.14946762844920158
          },
          {
           "lower": 0.09110272154211999,
           "timepoint": 695,
           "trajectory": "Ensemble Model Prior Forecasts",
           "upper": 0.16086667627096177
          },
          {
           "lower": 0.09677996039390564,
           "timepoint": 696,
           "trajectory": "Ensemble Model Prior Forecasts",
           "upper": 0.1708807587623596
          },
          {
           "lower": 0.1017275683581829,
           "timepoint": 697,
           "trajectory": "Ensemble Model Prior Forecasts",
           "upper": 0.17935598120093346
          },
          {
           "lower": 0.1058815822005272,
           "timepoint": 698,
           "trajectory": "Ensemble Model Prior Forecasts",
           "upper": 0.18622362613677979
          },
          {
           "lower": 0.1092149257659912,
           "timepoint": 699,
           "trajectory": "Ensemble Model Prior Forecasts",
           "upper": 0.19148805290460585
          },
          {
           "lower": 0.11173197031021118,
           "timepoint": 700,
           "trajectory": "Ensemble Model Prior Forecasts",
           "upper": 0.19521105885505677
          },
          {
           "lower": 0.11346272975206376,
           "timepoint": 701,
           "trajectory": "Ensemble Model Prior Forecasts",
           "upper": 0.19749576151371
          },
          {
           "lower": 0.11445604041218757,
           "timepoint": 702,
           "trajectory": "Ensemble Model Prior Forecasts",
           "upper": 0.1984723553061485
          },
          {
           "lower": 0.11477372720837593,
           "timepoint": 703,
           "trajectory": "Ensemble Model Prior Forecasts",
           "upper": 0.1982846602797508
          },
          {
           "lower": 0.11448518410325051,
           "timepoint": 704,
           "trajectory": "Ensemble Model Prior Forecasts",
           "upper": 0.19708062559366227
          },
          {
           "lower": 0.11366311311721802,
           "timepoint": 705,
           "trajectory": "Ensemble Model Prior Forecasts",
           "upper": 0.19500714987516402
          },
          {
           "lower": 0.11237978786230088,
           "timepoint": 706,
           "trajectory": "Ensemble Model Prior Forecasts",
           "upper": 0.1922024354338646
          },
          {
           "lower": 0.1107051894068718,
           "timepoint": 707,
           "trajectory": "Ensemble Model Prior Forecasts",
           "upper": 0.18879432529211043
          },
          {
           "lower": 0.10870500430464744,
           "timepoint": 708,
           "trajectory": "Ensemble Model Prior Forecasts",
           "upper": 0.18489862978458405
          },
          {
           "lower": 0.10643919631838798,
           "timepoint": 709,
           "trajectory": "Ensemble Model Prior Forecasts",
           "upper": 0.18061791956424714
          },
          {
           "lower": 0.10396229699254037,
           "timepoint": 710,
           "trajectory": "Ensemble Model Prior Forecasts",
           "upper": 0.17604292929172516
          },
          {
           "lower": 0.10132258906960487,
           "timepoint": 711,
           "trajectory": "Ensemble Model Prior Forecasts",
           "upper": 0.17125056087970733
          },
          {
           "lower": 0.09856244176626205,
           "timepoint": 712,
           "trajectory": "Ensemble Model Prior Forecasts",
           "upper": 0.1663080945611
          },
          {
           "lower": 0.09571857303380966,
           "timepoint": 713,
           "trajectory": "Ensemble Model Prior Forecasts",
           "upper": 0.16127176806330681
          },
          {
           "lower": 0.09282251670956612,
           "timepoint": 714,
           "trajectory": "Ensemble Model Prior Forecasts",
           "upper": 0.15618891343474386
          },
          {
           "lower": 0.08990090638399124,
           "timepoint": 715,
           "trajectory": "Ensemble Model Prior Forecasts",
           "upper": 0.15109882429242133
          },
          {
           "lower": 0.08697612062096596,
           "timepoint": 716,
           "trajectory": "Ensemble Model Prior Forecasts",
           "upper": 0.14603386372327803
          },
          {
           "lower": 0.0840667724609375,
           "timepoint": 717,
           "trajectory": "Ensemble Model Prior Forecasts",
           "upper": 0.1410204030573368
          },
          {
           "lower": 0.08118804916739464,
           "timepoint": 718,
           "trajectory": "Ensemble Model Prior Forecasts",
           "upper": 0.1360796108841896
          },
          {
           "lower": 0.07835231497883796,
           "timepoint": 719,
           "trajectory": "Ensemble Model Prior Forecasts",
           "upper": 0.13122814968228338
          },
          {
           "lower": 0.07556935697793961,
           "timepoint": 720,
           "trajectory": "Ensemble Model Prior Forecasts",
           "upper": 0.12647951468825339
          },
          {
           "lower": 0.07284689098596572,
           "timepoint": 721,
           "trajectory": "Ensemble Model Prior Forecasts",
           "upper": 0.12184373512864112
          },
          {
           "lower": 0.07019075229763985,
           "timepoint": 722,
           "trajectory": "Ensemble Model Prior Forecasts",
           "upper": 0.11732794046401977
          },
          {
           "lower": 0.06760526522994041,
           "timepoint": 723,
           "trajectory": "Ensemble Model Prior Forecasts",
           "upper": 0.11293759495019913
          },
          {
           "lower": 0.06509350538253784,
           "timepoint": 724,
           "trajectory": "Ensemble Model Prior Forecasts",
           "upper": 0.1086762435734272
          },
          {
           "lower": 0.06265743523836136,
           "timepoint": 725,
           "trajectory": "Ensemble Model Prior Forecasts",
           "upper": 0.10454600304365158
          },
          {
           "lower": 0.06029811315238476,
           "timepoint": 726,
           "trajectory": "Ensemble Model Prior Forecasts",
           "upper": 0.10054739192128181
          },
          {
           "lower": 0.0580158993601799,
           "timepoint": 727,
           "trajectory": "Ensemble Model Prior Forecasts",
           "upper": 0.09668070003390312
          },
          {
           "lower": 0.055810656398534775,
           "timepoint": 728,
           "trajectory": "Ensemble Model Prior Forecasts",
           "upper": 0.09294476062059402
          },
          {
           "lower": 0.053681605681777,
           "timepoint": 729,
           "trajectory": "Ensemble Model Prior Forecasts",
           "upper": 0.08933801725506782
          },
          {
           "lower": 0.051627719029784205,
           "timepoint": 730,
           "trajectory": "Ensemble Model Prior Forecasts",
           "upper": 0.08585855662822724
          },
          {
           "lower": 0.049647556617856026,
           "timepoint": 731,
           "trajectory": "Ensemble Model Prior Forecasts",
           "upper": 0.08250371515750884
          },
          {
           "lower": 0.047739559039473536,
           "timepoint": 732,
           "trajectory": "Ensemble Model Prior Forecasts",
           "upper": 0.07927071638405322
          },
          {
           "lower": 0.04590195715427399,
           "timepoint": 733,
           "trajectory": "Ensemble Model Prior Forecasts",
           "upper": 0.07615683227777481
          },
          {
           "lower": 0.04413286969065666,
           "timepoint": 734,
           "trajectory": "Ensemble Model Prior Forecasts",
           "upper": 0.07315860912203788
          },
          {
           "lower": 0.042430229112505914,
           "timepoint": 735,
           "trajectory": "Ensemble Model Prior Forecasts",
           "upper": 0.07027289979159831
          },
          {
           "lower": 0.040792140364646914,
           "timepoint": 736,
           "trajectory": "Ensemble Model Prior Forecasts",
           "upper": 0.06749633736908436
          },
          {
           "lower": 0.039216451719403266,
           "timepoint": 737,
           "trajectory": "Ensemble Model Prior Forecasts",
           "upper": 0.06482537873089314
          },
          {
           "lower": 0.03770098127424717,
           "timepoint": 738,
           "trajectory": "Ensemble Model Prior Forecasts",
           "upper": 0.062256785854697225
          },
          {
           "lower": 0.03624378740787506,
           "timepoint": 739,
           "trajectory": "Ensemble Model Prior Forecasts",
           "upper": 0.05978712178766727
          },
          {
           "lower": 0.03484282568097115,
           "timepoint": 740,
           "trajectory": "Ensemble Model Prior Forecasts",
           "upper": 0.0574130043387413
          },
          {
           "lower": 0.03349603116512299,
           "timepoint": 741,
           "trajectory": "Ensemble Model Prior Forecasts",
           "upper": 0.055131128057837486
          },
          {
           "lower": 0.03220139257609844,
           "timepoint": 742,
           "trajectory": "Ensemble Model Prior Forecasts",
           "upper": 0.05293821096420288
          },
          {
           "lower": 0.03095702901482582,
           "timepoint": 743,
           "trajectory": "Ensemble Model Prior Forecasts",
           "upper": 0.050831084698438646
          },
          {
           "lower": 0.029761053062975405,
           "timepoint": 744,
           "trajectory": "Ensemble Model Prior Forecasts",
           "upper": 0.04880664311349392
          },
          {
           "lower": 0.02861164677888155,
           "timepoint": 745,
           "trajectory": "Ensemble Model Prior Forecasts",
           "upper": 0.046861767396330835
          },
          {
           "lower": 0.02750695701688528,
           "timepoint": 746,
           "trajectory": "Ensemble Model Prior Forecasts",
           "upper": 0.04499358683824539
          },
          {
           "lower": 0.02644534092396498,
           "timepoint": 747,
           "trajectory": "Ensemble Model Prior Forecasts",
           "upper": 0.04319913424551487
          },
          {
           "lower": 0.02542510014027357,
           "timepoint": 748,
           "trajectory": "Ensemble Model Prior Forecasts",
           "upper": 0.041475655138492586
          },
          {
           "lower": 0.024444641172885896,
           "timepoint": 749,
           "trajectory": "Ensemble Model Prior Forecasts",
           "upper": 0.03982056193053722
          },
          {
           "lower": 0.023502390645444394,
           "timepoint": 750,
           "trajectory": "Ensemble Model Prior Forecasts",
           "upper": 0.038231106102466585
          },
          {
           "lower": 0.02259695138782263,
           "timepoint": 751,
           "trajectory": "Ensemble Model Prior Forecasts",
           "upper": 0.036704768985509874
          },
          {
           "lower": 0.02172677554190159,
           "timepoint": 752,
           "trajectory": "Ensemble Model Prior Forecasts",
           "upper": 0.03523915447294712
          },
          {
           "lower": 0.020890538953244685,
           "timepoint": 753,
           "trajectory": "Ensemble Model Prior Forecasts",
           "upper": 0.033831882290542126
          },
          {
           "lower": 0.020086883939802645,
           "timepoint": 754,
           "trajectory": "Ensemble Model Prior Forecasts",
           "upper": 0.03248069118708372
          },
          {
           "lower": 0.0193145327270031,
           "timepoint": 755,
           "trajectory": "Ensemble Model Prior Forecasts",
           "upper": 0.031183383055031298
          },
          {
           "lower": 0.018572288937866686,
           "timepoint": 756,
           "trajectory": "Ensemble Model Prior Forecasts",
           "upper": 0.02993784286081791
          },
          {
           "lower": 0.017858923599123954,
           "timepoint": 757,
           "trajectory": "Ensemble Model Prior Forecasts",
           "upper": 0.02874203696846962
          },
          {
           "lower": 0.017173316888511182,
           "timepoint": 758,
           "trajectory": "Ensemble Model Prior Forecasts",
           "upper": 0.027594010718166827
          },
          {
           "lower": 0.016514401137828826,
           "timepoint": 759,
           "trajectory": "Ensemble Model Prior Forecasts",
           "upper": 0.026491868309676647
          },
          {
           "lower": 0.015881094336509704,
           "timepoint": 760,
           "trajectory": "Ensemble Model Prior Forecasts",
           "upper": 0.025433810241520406
          },
          {
           "lower": 0.015272396057844162,
           "timepoint": 761,
           "trajectory": "Ensemble Model Prior Forecasts",
           "upper": 0.024418090097606183
          },
          {
           "lower": 0.014687375072389841,
           "timepoint": 762,
           "trajectory": "Ensemble Model Prior Forecasts",
           "upper": 0.02344298455864191
          },
          {
           "lower": 0.014125051256269217,
           "timepoint": 763,
           "trajectory": "Ensemble Model Prior Forecasts",
           "upper": 0.022506941854953767
          },
          {
           "lower": 0.013584558572620153,
           "timepoint": 764,
           "trajectory": "Ensemble Model Prior Forecasts",
           "upper": 0.021608377620577813
          },
          {
           "lower": 0.013065042626112699,
           "timepoint": 765,
           "trajectory": "Ensemble Model Prior Forecasts",
           "upper": 0.02074578031897545
          },
          {
           "lower": 0.012565670162439346,
           "timepoint": 766,
           "trajectory": "Ensemble Model Prior Forecasts",
           "upper": 0.019917752593755722
          },
          {
           "lower": 0.012085653934627771,
           "timepoint": 767,
           "trajectory": "Ensemble Model Prior Forecasts",
           "upper": 0.019122896157205103
          },
          {
           "lower": 0.011624238267540932,
           "timepoint": 768,
           "trajectory": "Ensemble Model Prior Forecasts",
           "upper": 0.018359878659248353
          },
          {
           "lower": 0.011180694494396449,
           "timepoint": 769,
           "trajectory": "Ensemble Model Prior Forecasts",
           "upper": 0.017627478577196598
          },
          {
           "lower": 0.010754320584237576,
           "timepoint": 770,
           "trajectory": "Ensemble Model Prior Forecasts",
           "upper": 0.01692440966144204
          },
          {
           "lower": 0.010344445239752531,
           "timepoint": 771,
           "trajectory": "Ensemble Model Prior Forecasts",
           "upper": 0.016249519493430852
          },
          {
           "lower": 0.009950423613190651,
           "timepoint": 772,
           "trajectory": "Ensemble Model Prior Forecasts",
           "upper": 0.015601691324263811
          },
          {
           "lower": 0.009571635443717242,
           "timepoint": 773,
           "trajectory": "Ensemble Model Prior Forecasts",
           "upper": 0.014979822933673859
          },
          {
           "lower": 0.009207487478852272,
           "timepoint": 774,
           "trajectory": "Ensemble Model Prior Forecasts",
           "upper": 0.014382884372025728
          },
          {
           "lower": 0.008857408445328474,
           "timepoint": 775,
           "trajectory": "Ensemble Model Prior Forecasts",
           "upper": 0.013809875212609768
          },
          {
           "lower": 0.008520847372710704,
           "timepoint": 776,
           "trajectory": "Ensemble Model Prior Forecasts",
           "upper": 0.013259836286306382
          },
          {
           "lower": 0.00819726991467178,
           "timepoint": 777,
           "trajectory": "Ensemble Model Prior Forecasts",
           "upper": 0.01273185145109892
          },
          {
           "lower": 0.007886181538924574,
           "timepoint": 778,
           "trajectory": "Ensemble Model Prior Forecasts",
           "upper": 0.012225027196109295
          },
          {
           "lower": 0.007587090507149697,
           "timepoint": 779,
           "trajectory": "Ensemble Model Prior Forecasts",
           "upper": 0.011738519743084907
          },
          {
           "lower": 0.00729952952824533,
           "timepoint": 780,
           "trajectory": "Ensemble Model Prior Forecasts",
           "upper": 0.011271514371037484
          },
          {
           "lower": 0.007023056922480464,
           "timepoint": 781,
           "trajectory": "Ensemble Model Prior Forecasts",
           "upper": 0.010823205206543207
          },
          {
           "lower": 0.0067572300788015125,
           "timepoint": 782,
           "trajectory": "Ensemble Model Prior Forecasts",
           "upper": 0.010392870940268039
          },
          {
           "lower": 0.006501638377085328,
           "timepoint": 783,
           "trajectory": "Ensemble Model Prior Forecasts",
           "upper": 0.00997978076338768
          },
          {
           "lower": 0.006255885865539312,
           "timepoint": 784,
           "trajectory": "Ensemble Model Prior Forecasts",
           "upper": 0.009583242423832416
          },
          {
           "lower": 0.006019588233903051,
           "timepoint": 785,
           "trajectory": "Ensemble Model Prior Forecasts",
           "upper": 0.00920258704572916
          },
          {
           "lower": 0.005792378587648273,
           "timepoint": 786,
           "trajectory": "Ensemble Model Prior Forecasts",
           "upper": 0.008837179094552994
          },
          {
           "lower": 0.005573905445635319,
           "timepoint": 787,
           "trajectory": "Ensemble Model Prior Forecasts",
           "upper": 0.008486406411975622
          },
          {
           "lower": 0.005363826965913176,
           "timepoint": 788,
           "trajectory": "Ensemble Model Prior Forecasts",
           "upper": 0.008149682823568583
          },
          {
           "lower": 0.005161817790940404,
           "timepoint": 789,
           "trajectory": "Ensemble Model Prior Forecasts",
           "upper": 0.007826436962932348
          },
          {
           "lower": 0.004967569839209318,
           "timepoint": 790,
           "trajectory": "Ensemble Model Prior Forecasts",
           "upper": 0.007516131922602654
          },
          {
           "lower": 0.004780776193365454,
           "timepoint": 791,
           "trajectory": "Ensemble Model Prior Forecasts",
           "upper": 0.007218249561265111
          },
          {
           "lower": 0.004601149400696158,
           "timepoint": 792,
           "trajectory": "Ensemble Model Prior Forecasts",
           "upper": 0.00693228910677135
          },
          {
           "lower": 0.004426147742196918,
           "timepoint": 793,
           "trajectory": "Ensemble Model Prior Forecasts",
           "upper": 0.006675903778523206
          },
          {
           "lower": 0.0042570009361952545,
           "timepoint": 794,
           "trajectory": "Ensemble Model Prior Forecasts",
           "upper": 0.006436578230932355
          },
          {
           "lower": 0.004094447381794453,
           "timepoint": 795,
           "trajectory": "Ensemble Model Prior Forecasts",
           "upper": 0.006206023972481489
          },
          {
           "lower": 0.003938224329613149,
           "timepoint": 796,
           "trajectory": "Ensemble Model Prior Forecasts",
           "upper": 0.005983890872448683
          },
          {
           "lower": 0.003788080927915871,
           "timepoint": 797,
           "trajectory": "Ensemble Model Prior Forecasts",
           "upper": 0.005769878625869751
          },
          {
           "lower": 0.003643781039863825,
           "timepoint": 798,
           "trajectory": "Ensemble Model Prior Forecasts",
           "upper": 0.005563691165298224
          },
          {
           "lower": 0.0035050982609391213,
           "timepoint": 799,
           "trajectory": "Ensemble Model Prior Forecasts",
           "upper": 0.005365035450085998
          }
         ]
        },
        {
         "name": "traces",
         "transform": [
          {
           "expr": "isValid(datum.value)",
           "type": "filter"
          }
         ],
         "values": []
        },
        {
         "name": "points",
         "values": [
          {
           "sample_id": 0,
           "timepoint": 679,
           "trajectory": "Reported Cases",
           "value": 0.0028602226293839915
          },
          {
           "sample_id": 0,
           "timepoint": 680,
           "trajectory": "Reported Cases",
           "value": 0.0028512318001051814
          },
          {
           "sample_id": 0,
           "timepoint": 681,
           "trajectory": "Reported Cases",
           "value": 0.0030509222160845484
          },
          {
           "sample_id": 0,
           "timepoint": 682,
           "trajectory": "Reported Cases",
           "value": 0.0029190607373453213
          },
          {
           "sample_id": 0,
           "timepoint": 683,
           "trajectory": "Reported Cases",
           "value": 0.002977829546019314
          },
          {
           "sample_id": 0,
           "timepoint": 684,
           "trajectory": "Reported Cases",
           "value": 0.0033400719859905765
          },
          {
           "sample_id": 0,
           "timepoint": 685,
           "trajectory": "Reported Cases",
           "value": 0.0035931710614190695
          },
          {
           "sample_id": 0,
           "timepoint": 686,
           "trajectory": "Reported Cases",
           "value": 0.003907292678866244
          },
          {
           "sample_id": 0,
           "timepoint": 687,
           "trajectory": "Reported Cases",
           "value": 0.0037228420800759594
          },
          {
           "sample_id": 0,
           "timepoint": 688,
           "trajectory": "Reported Cases",
           "value": 0.0038427901074182644
          },
          {
           "sample_id": 0,
           "timepoint": 689,
           "trajectory": "Reported Cases",
           "value": 0.0036039787372310977
          },
          {
           "sample_id": 0,
           "timepoint": 690,
           "trajectory": "Reported Cases",
           "value": 0.003349333986393748
          },
          {
           "sample_id": 0,
           "timepoint": 691,
           "trajectory": "Reported Cases",
           "value": 0.0034254306299144025
          },
          {
           "sample_id": 0,
           "timepoint": 692,
           "trajectory": "Reported Cases",
           "value": 0.0035626492448660035
          },
          {
           "sample_id": 0,
           "timepoint": 693,
           "trajectory": "Reported Cases",
           "value": 0.003830967046396129
          },
          {
           "sample_id": 0,
           "timepoint": 694,
           "trajectory": "Reported Cases",
           "value": 0.0037323541605160412
          },
          {
           "sample_id": 0,
           "timepoint": 695,
           "trajectory": "Reported Cases",
           "value": 0.003973515680447668
          },
          {
           "sample_id": 0,
           "timepoint": 696,
           "trajectory": "Reported Cases",
           "value": 0.003769543773715892
          },
          {
           "sample_id": 0,
           "timepoint": 697,
           "trajectory": "Reported Cases",
           "value": 0.003670066153250342
          },
          {
           "sample_id": 0,
           "timepoint": 698,
           "trajectory": "Reported Cases",
           "value": 0.003922396910493146
          },
          {
           "sample_id": 0,
           "timepoint": 699,
           "trajectory": "Reported Cases",
           "value": 0.004297613382258831
          },
          {
           "sample_id": 0,
           "timepoint": 700,
           "trajectory": "Reported Cases",
           "value": 0.004883514752590471
          },
          {
           "sample_id": 0,
           "timepoint": 701,
           "trajectory": "Reported Cases",
           "value": 0.0051581056461308126
          },
          {
           "sample_id": 0,
           "timepoint": 702,
           "trajectory": "Reported Cases",
           "value": 0.0055646182786602385
          },
          {
           "sample_id": 0,
           "timepoint": 703,
           "trajectory": "Reported Cases",
           "value": 0.005391972662817131
          },
          {
           "sample_id": 0,
           "timepoint": 704,
           "trajectory": "Reported Cases",
           "value": 0.0055165034821611355
          },
          {
           "sample_id": 0,
           "timepoint": 705,
           "trajectory": "Reported Cases",
           "value": 0.0064612697054594985
          },
          {
           "sample_id": 0,
           "timepoint": 706,
           "trajectory": "Reported Cases",
           "value": 0.007337390465132146
          },
          {
           "sample_id": 0,
           "timepoint": 707,
           "trajectory": "Reported Cases",
           "value": 0.008603154000386479
          },
          {
           "sample_id": 0,
           "timepoint": 708,
           "trajectory": "Reported Cases",
           "value": 0.009678151662665412
          },
          {
           "sample_id": 0,
           "timepoint": 709,
           "trajectory": "Reported Cases",
           "value": 0.010671746766423695
          },
          {
           "sample_id": 0,
           "timepoint": 710,
           "trajectory": "Reported Cases",
           "value": 0.01050415397253118
          },
          {
           "sample_id": 0,
           "timepoint": 711,
           "trajectory": "Reported Cases",
           "value": 0.010570000347550991
          },
          {
           "sample_id": 0,
           "timepoint": 712,
           "trajectory": "Reported Cases",
           "value": 0.012963889994371543
          },
          {
           "sample_id": 0,
           "timepoint": 713,
           "trajectory": "Reported Cases",
           "value": 0.01519500164126323
          },
          {
           "sample_id": 0,
           "timepoint": 714,
           "trajectory": "Reported Cases",
           "value": 0.01667816607993019
          },
          {
           "sample_id": 0,
           "timepoint": 715,
           "trajectory": "Reported Cases",
           "value": 0.017698164212163744
          },
          {
           "sample_id": 0,
           "timepoint": 716,
           "trajectory": "Reported Cases",
           "value": 0.0192243544692293
          },
          {
           "sample_id": 0,
           "timepoint": 717,
           "trajectory": "Reported Cases",
           "value": 0.018915996744681043
          },
          {
           "sample_id": 0,
           "timepoint": 718,
           "trajectory": "Reported Cases",
           "value": 0.01860103449674835
          },
          {
           "sample_id": 0,
           "timepoint": 719,
           "trajectory": "Reported Cases",
           "value": 0.02113938604055343
          },
          {
           "sample_id": 0,
           "timepoint": 720,
           "trajectory": "Reported Cases",
           "value": 0.02292907930518546
          },
          {
           "sample_id": 0,
           "timepoint": 721,
           "trajectory": "Reported Cases",
           "value": 0.024609210396538204
          },
          {
           "sample_id": 0,
           "timepoint": 722,
           "trajectory": "Reported Cases",
           "value": 0.024074427796161087
          },
          {
           "sample_id": 0,
           "timepoint": 723,
           "trajectory": "Reported Cases",
           "value": 0.024226108871078605
          },
          {
           "sample_id": 0,
           "timepoint": 724,
           "trajectory": "Reported Cases",
           "value": 0.023444310467496156
          },
          {
           "sample_id": 0,
           "timepoint": 725,
           "trajectory": "Reported Cases",
           "value": 0.022364133436741932
          },
          {
           "sample_id": 0,
           "timepoint": 726,
           "trajectory": "Reported Cases",
           "value": 0.021705030927895313
          },
          {
           "sample_id": 0,
           "timepoint": 727,
           "trajectory": "Reported Cases",
           "value": 0.023887027458140257
          },
          {
           "sample_id": 0,
           "timepoint": 728,
           "trajectory": "Reported Cases",
           "value": 0.025141745289595622
          },
          {
           "sample_id": 0,
           "timepoint": 729,
           "trajectory": "Reported Cases",
           "value": 0.02326275838672404
          },
          {
           "sample_id": 0,
           "timepoint": 730,
           "trajectory": "Reported Cases",
           "value": 0.023321578416610412
          },
          {
           "sample_id": 0,
           "timepoint": 731,
           "trajectory": "Reported Cases",
           "value": 0.021682770791597774
          },
          {
           "sample_id": 0,
           "timepoint": 732,
           "trajectory": "Reported Cases",
           "value": 0.020193212740420883
          },
          {
           "sample_id": 0,
           "timepoint": 733,
           "trajectory": "Reported Cases",
           "value": 0.02028240694924817
          },
          {
           "sample_id": 0,
           "timepoint": 734,
           "trajectory": "Reported Cases",
           "value": 0.020511266339171292
          },
          {
           "sample_id": 0,
           "timepoint": 735,
           "trajectory": "Reported Cases",
           "value": 0.02108676076435246
          },
          {
           "sample_id": 0,
           "timepoint": 736,
           "trajectory": "Reported Cases",
           "value": 0.020613862427566992
          },
          {
           "sample_id": 0,
           "timepoint": 737,
           "trajectory": "Reported Cases",
           "value": 0.01904642402947365
          },
          {
           "sample_id": 0,
           "timepoint": 738,
           "trajectory": "Reported Cases",
           "value": 0.016855442695974884
          },
          {
           "sample_id": 0,
           "timepoint": 739,
           "trajectory": "Reported Cases",
           "value": 0.015258937766362545
          },
          {
           "sample_id": 0,
           "timepoint": 740,
           "trajectory": "Reported Cases",
           "value": 0.014444137836945375
          },
          {
           "sample_id": 0,
           "timepoint": 741,
           "trajectory": "Reported Cases",
           "value": 0.014493786256803363
          },
          {
           "sample_id": 0,
           "timepoint": 742,
           "trajectory": "Reported Cases",
           "value": 0.014361737971289576
          },
          {
           "sample_id": 0,
           "timepoint": 743,
           "trajectory": "Reported Cases",
           "value": 0.012448095398724672
          },
          {
           "sample_id": 0,
           "timepoint": 744,
           "trajectory": "Reported Cases",
           "value": 0.012033751946726203
          },
          {
           "sample_id": 0,
           "timepoint": 745,
           "trajectory": "Reported Cases",
           "value": 0.01026004873939399
          },
          {
           "sample_id": 0,
           "timepoint": 746,
           "trajectory": "Reported Cases",
           "value": 0.008999805043026648
          },
          {
           "sample_id": 0,
           "timepoint": 747,
           "trajectory": "Reported Cases",
           "value": 0.008186125954256836
          },
          {
           "sample_id": 0,
           "timepoint": 748,
           "trajectory": "Reported Cases",
           "value": 0.0082799541762982
          },
          {
           "sample_id": 0,
           "timepoint": 749,
           "trajectory": "Reported Cases",
           "value": 0.008238196836159114
          },
          {
           "sample_id": 0,
           "timepoint": 750,
           "trajectory": "Reported Cases",
           "value": 0.007138597926875663
          },
          {
           "sample_id": 0,
           "timepoint": 751,
           "trajectory": "Reported Cases",
           "value": 0.006782260991390483
          },
          {
           "sample_id": 0,
           "timepoint": 752,
           "trajectory": "Reported Cases",
           "value": 0.005955791664588316
          },
          {
           "sample_id": 0,
           "timepoint": 753,
           "trajectory": "Reported Cases",
           "value": 0.0053097113957360055
          },
          {
           "sample_id": 0,
           "timepoint": 754,
           "trajectory": "Reported Cases",
           "value": 0.00474465404583024
          },
          {
           "sample_id": 0,
           "timepoint": 755,
           "trajectory": "Reported Cases",
           "value": 0.004810828839211779
          },
          {
           "sample_id": 0,
           "timepoint": 756,
           "trajectory": "Reported Cases",
           "value": 0.00489755539080738
          },
          {
           "sample_id": 0,
           "timepoint": 757,
           "trajectory": "Reported Cases",
           "value": 0.0041704522030085265
          },
          {
           "sample_id": 0,
           "timepoint": 758,
           "trajectory": "Reported Cases",
           "value": 0.003959761278417585
          },
          {
           "sample_id": 0,
           "timepoint": 759,
           "trajectory": "Reported Cases",
           "value": 0.003492762420093214
          },
          {
           "sample_id": 0,
           "timepoint": 760,
           "trajectory": "Reported Cases",
           "value": 0.0030503858998608122
          },
          {
           "sample_id": 0,
           "timepoint": 761,
           "trajectory": "Reported Cases",
           "value": 0.002663138469210982
          },
          {
           "sample_id": 0,
           "timepoint": 762,
           "trajectory": "Reported Cases",
           "value": 0.002772775967802587
          },
          {
           "sample_id": 0,
           "timepoint": 763,
           "trajectory": "Reported Cases",
           "value": 0.0028476493282511245
          },
          {
           "sample_id": 0,
           "timepoint": 764,
           "trajectory": "Reported Cases",
           "value": 0.002544323334566007
          },
          {
           "sample_id": 0,
           "timepoint": 765,
           "trajectory": "Reported Cases",
           "value": 0.0024336222425644085
          },
          {
           "sample_id": 0,
           "timepoint": 766,
           "trajectory": "Reported Cases",
           "value": 0.002234871886482826
          },
          {
           "sample_id": 0,
           "timepoint": 767,
           "trajectory": "Reported Cases",
           "value": 0.0019855902978828358
          },
          {
           "sample_id": 0,
           "timepoint": 768,
           "trajectory": "Reported Cases",
           "value": 0.0018436050971674684
          },
          {
           "sample_id": 0,
           "timepoint": 769,
           "trajectory": "Reported Cases",
           "value": 0.0018866761107534582
          },
          {
           "sample_id": 0,
           "timepoint": 770,
           "trajectory": "Reported Cases",
           "value": 0.0019755057450691034
          },
          {
           "sample_id": 0,
           "timepoint": 771,
           "trajectory": "Reported Cases",
           "value": 0.0018816263018153596
          },
          {
           "sample_id": 0,
           "timepoint": 772,
           "trajectory": "Reported Cases",
           "value": 0.0017891780394957428
          },
          {
           "sample_id": 0,
           "timepoint": 773,
           "trajectory": "Reported Cases",
           "value": 0.0015819430402341569
          },
          {
           "sample_id": 0,
           "timepoint": 774,
           "trajectory": "Reported Cases",
           "value": 0.0014195296148169349
          },
          {
           "sample_id": 0,
           "timepoint": 775,
           "trajectory": "Reported Cases",
           "value": 0.0013587752309101215
          },
          {
           "sample_id": 0,
           "timepoint": 776,
           "trajectory": "Reported Cases",
           "value": 0.0013030134087040417
          },
          {
           "sample_id": 0,
           "timepoint": 777,
           "trajectory": "Reported Cases",
           "value": 0.0013583383440986512
          },
          {
           "sample_id": 0,
           "timepoint": 778,
           "trajectory": "Reported Cases",
           "value": 0.0012043824447489965
          },
          {
           "sample_id": 0,
           "timepoint": 779,
           "trajectory": "Reported Cases",
           "value": 0.0012113334645701141
          },
          {
           "sample_id": 0,
           "timepoint": 780,
           "trajectory": "Reported Cases",
           "value": 0.0010832623555469538
          },
          {
           "sample_id": 0,
           "timepoint": 781,
           "trajectory": "Reported Cases",
           "value": 0.0009712415640734657
          },
          {
           "sample_id": 0,
           "timepoint": 782,
           "trajectory": "Reported Cases",
           "value": 0.0008982392843830184
          },
          {
           "sample_id": 0,
           "timepoint": 783,
           "trajectory": "Reported Cases",
           "value": 0.0009230875984119556
          },
          {
           "sample_id": 0,
           "timepoint": 784,
           "trajectory": "Reported Cases",
           "value": 0.0010394230237752748
          },
          {
           "sample_id": 0,
           "timepoint": 785,
           "trajectory": "Reported Cases",
           "value": 0.0010350451166230928
          },
          {
           "sample_id": 0,
           "timepoint": 786,
           "trajectory": "Reported Cases",
           "value": 0.0010419629933067886
          },
          {
           "sample_id": 0,
           "timepoint": 787,
           "trajectory": "Reported Cases",
           "value": 0.0009643056093148125
          },
          {
           "sample_id": 0,
           "timepoint": 788,
           "trajectory": "Reported Cases",
           "value": 0.0008618601715437572
          },
          {
           "sample_id": 0,
           "timepoint": 789,
           "trajectory": "Reported Cases",
           "value": 0.0008386117671485493
          },
          {
           "sample_id": 0,
           "timepoint": 790,
           "trajectory": "Reported Cases",
           "value": 0.0008708841439599894
          },
          {
           "sample_id": 0,
           "timepoint": 791,
           "trajectory": "Reported Cases",
           "value": 0.0009570352101694475
          },
          {
           "sample_id": 0,
           "timepoint": 792,
           "trajectory": "Reported Cases",
           "value": 0.0009804794603766938
          },
          {
           "sample_id": 0,
           "timepoint": 793,
           "trajectory": "Reported Cases",
           "value": 0.0010434574475032665
          },
          {
           "sample_id": 0,
           "timepoint": 794,
           "trajectory": "Reported Cases",
           "value": 0.0009182969085482464
          },
          {
           "sample_id": 0,
           "timepoint": 795,
           "trajectory": "Reported Cases",
           "value": 0.0007978095519697125
          },
          {
           "sample_id": 0,
           "timepoint": 796,
           "trajectory": "Reported Cases",
           "value": 0.0008161316809390306
          },
          {
           "sample_id": 0,
           "timepoint": 797,
           "trajectory": "Reported Cases",
           "value": 0.0008521040370917506
          },
          {
           "sample_id": 0,
           "timepoint": 798,
           "trajectory": "Reported Cases",
           "value": 0.0009318042435539121
          },
          {
           "sample_id": 0,
           "timepoint": 799,
           "trajectory": "Reported Cases",
           "value": 0.0009423678653540156
          }
         ]
        },
        {
         "name": "markers",
         "values": []
        },
        {
         "name": "selected",
         "on": [
          {
           "remove": true,
           "trigger": "clear"
          },
          {
           "remove": true,
           "trigger": "!shift"
          },
          {
           "insert": "clicked",
           "trigger": "!shift && clicked"
          },
          {
           "toggle": "clicked",
           "trigger": "shift && clicked"
          }
         ]
        }
       ],
       "height": 500,
       "legends": [
        {
         "encode": {
          "labels": {
           "interactive": true,
           "name": "legendLabel",
           "update": {
            "opacity": [
             {
              "test": "!length(data('selected')) || indata('selected', 'value', datum.value)",
              "value": 1
             },
             {
              "value": 0.25
             }
            ]
           }
          },
          "symbols": {
           "interactive": true,
           "name": "legendSymbol",
           "update": {
            "fill": {
             "value": "transparent"
            },
            "opacity": [
             {
              "test": "!length(data('selected')) || indata('selected', 'value', datum.value)",
              "value": 0.7
             },
             {
              "value": 0.15
             }
            ],
            "size": {
             "value": 64
            },
            "strokeWidth": {
             "value": 2
            }
           }
          }
         },
         "name": "color_legend",
         "orient": "top-right",
         "stroke": "color"
        }
       ],
       "marks": [
        {
         "from": {
          "facet": {
           "data": "points",
           "groupby": "trajectory",
           "name": "points_split"
          }
         },
         "marks": [
          {
           "encode": {
            "hover": {
             "fillOpacity": {
              "value": 0.9
             }
            },
            "update": {
             "fill": {
              "field": "trajectory",
              "scale": "color"
             },
             "fillOpacity": [
              {
               "test": "!length(data('selected')) || indata('selected', 'value', datum.trajectory)",
               "value": 0.5
              },
              {
               "value": 0.15
              }
             ],
             "size": {
              "value": 10
             },
             "stroke": {
              "field": "trajectory",
              "scale": "color"
             },
             "strokeOpacity": [
              {
               "test": "!length(data('selected')) || indata('selected', 'value', datum.trajectory)",
               "value": 0.75
              },
              {
               "value": 0.15
              }
             ],
             "strokeWidth": {
              "value": 2
             },
             "tooltip": {
              "field": "value"
             },
             "x": {
              "field": "timepoint",
              "scale": "xscale"
             },
             "y": {
              "field": "value",
              "scale": "yscale"
             }
            }
           },
           "from": {
            "data": "points"
           },
           "name": "_points_symbol",
           "type": "symbol",
           "zindex": 3
          },
          {
           "encode": {
            "hover": {
             "fillOpacity": {
              "value": 0.9
             }
            },
            "update": {
             "interpolate": {
              "value": "linear"
             },
             "stroke": {
              "field": "trajectory",
              "scale": "color"
             },
             "strokeOpacity": [
              {
               "test": "!length(data('selected')) || indata('selected', 'value', datum.trajectory)",
               "value": 0.3
              },
              {
               "value": 0.1
              }
             ],
             "strokeWidth": {
              "value": 2
             },
             "x": {
              "field": "timepoint",
              "scale": "xscale"
             },
             "y": {
              "field": "value",
              "scale": "yscale"
             }
            }
           },
           "from": {
            "data": "points"
           },
           "name": "_points_line",
           "type": "line",
           "zindex": 3
          }
         ],
         "name": "_points",
         "type": "group",
         "zindex": 3
        },
        {
         "from": {
          "facet": {
           "data": "traces",
           "groupby": "trajectory",
           "name": "traces_split"
          }
         },
         "marks": [
          {
           "encode": {
            "hover": {
             "fillOpacity": {
              "value": 0.9
             }
            },
            "update": {
             "interpolate": {
              "value": "linear"
             },
             "stroke": {
              "field": "trajectory",
              "scale": "color"
             },
             "strokeOpacity": [
              {
               "test": "!length(data('selected')) || indata('selected', 'value', datum.trajectory)",
               "value": 0.75
              },
              {
               "value": 0.15
              }
             ],
             "strokeWidth": {
              "value": 2
             },
             "x": {
              "field": "timepoint",
              "scale": "xscale"
             },
             "y": {
              "field": "value",
              "scale": "yscale"
             }
            }
           },
           "from": {
            "data": "traces_split"
           },
           "name": "_traces_lines",
           "type": "line"
          }
         ],
         "name": "_traces",
         "type": "group",
         "zindex": 2
        },
        {
         "from": {
          "facet": {
           "data": "distributions",
           "groupby": "trajectory",
           "name": "trajectory_split"
          }
         },
         "marks": [
          {
           "encode": {
            "hover": {
             "fillOpacity": {
              "value": 0.9
             }
            },
            "update": {
             "fill": {
              "field": "trajectory",
              "scale": "color"
             },
             "fillOpacity": [
              {
               "test": "!length(data('selected')) || indata('selected', 'value', datum.trajectory)",
               "value": 0.5
              },
              {
               "value": 0.15
              }
             ],
             "interpolate": {
              "value": "linear"
             },
             "stroke": {
              "field": "trajectory",
              "scale": "color"
             },
             "strokeOpacity": [
              {
               "test": "!length(data('selected')) || indata('selected', 'value', datum.trajectory)",
               "value": 0.75
              },
              {
               "value": 0.15
              }
             ],
             "strokeWidth": {
              "value": 2
             },
             "x": {
              "field": "timepoint",
              "scale": "xscale"
             },
             "y": {
              "field": "upper",
              "scale": "yscale"
             },
             "y2": {
              "field": "lower",
              "scale": "yscale"
             }
            }
           },
           "from": {
            "data": "trajectory_split"
           },
           "type": "area"
          }
         ],
         "name": "_distributions",
         "type": "group",
         "zindex": 1
        },
        {
         "marks": [
          {
           "encode": {
            "enter": {
             "stroke": {
              "value": "lightgray"
             }
            },
            "update": {
             "opacity": {
              "value": 1
             },
             "x": {
              "field": "timepoint",
              "scale": "xscale"
             },
             "y": {
              "signal": "height"
             },
             "y2": {
              "value": 0
             }
            }
           },
           "from": {
            "data": "markers"
           },
           "name": "_marker text",
           "type": "rule"
          },
          {
           "encode": {
            "enter": {
             "fontSize": {
              "value": 8
             },
             "text": {
              "field": "datum.label"
             },
             "y": {
              "value": 0
             }
            }
           },
           "from": {
            "data": "_marker text"
           },
           "name": "_marker flags",
           "transform": [
            {
             "as": [
              "x",
              "_y",
              "opacity",
              "align",
              "baseline"
             ],
             "lineAnchor": "start",
             "offset": [
              1
             ],
             "size": {
              "signal": "[width, height]"
             },
             "type": "label"
            }
           ],
           "type": "text"
          }
         ],
         "name": "_markers",
         "type": "group"
        }
       ],
       "scales": [
        {
         "domain": {
          "fields": [
           {
            "data": "distributions",
            "field": "timepoint"
           },
           {
            "data": "traces",
            "field": "timepoint"
           },
           {
            "data": "points",
            "field": "timepoint"
           },
           {
            "data": "markers",
            "field": "timepoint"
           }
          ]
         },
         "name": "xscale",
         "range": "width",
         "type": "linear",
         "zero": false
        },
        {
         "domain": {
          "fields": [
           {
            "data": "distributions",
            "field": "lower"
           },
           {
            "data": "distributions",
            "field": "upper"
           },
           {
            "data": "traces",
            "field": "value"
           },
           {
            "data": "points",
            "field": "value"
           }
          ]
         },
         "name": "yscale",
         "nice": true,
         "range": "height",
         "type": "log",
         "zero": false
        },
        {
         "domain": [
          "Ensemble Model Prior Forecasts",
          "Reported Cases"
         ],
         "name": "color",
         "range": [
          "blue",
          "black"
         ],
         "type": "ordinal"
        }
       ],
       "signals": [
        {
         "name": "clear",
         "on": [
          {
           "events": "mouseup[!event.item]",
           "force": true,
           "update": "true"
          }
         ],
         "value": true
        },
        {
         "name": "shift",
         "on": [
          {
           "events": "@legendSymbol:click, @legendLabel:click",
           "force": true,
           "update": "event.shiftKey"
          }
         ],
         "value": false
        },
        {
         "name": "clicked",
         "on": [
          {
           "events": "@legendSymbol:click, @legendLabel:click",
           "force": true,
           "update": "{value: datum.value}"
          }
         ],
         "value": null
        }
       ],
       "title": "Prior Forecasts - Ensemble",
       "width": 500
      }
     },
     "metadata": {},
     "output_type": "display_data"
    }
   ],
   "source": [
    "# ensemble_prior_forecasts = sample(ensemble, all_timepoints, num_samples)\n",
    "\n",
    "ensemble_prior_forecasts_df = convert_to_output_format(ensemble_prior_forecasts, all_timepoints, time_unit=\"days\")\n",
    "case_df = pd.DataFrame({\"Reported Cases\": plotting_cases, \n",
    "                        \"timepoint_days\": all_timepoints})\n",
    "\n",
    "schema = plot_trajectories(\"Prior Forecasts - Ensemble\", \n",
    "                           ensemble_prior_forecasts_df,\n",
    "                            points=case_df,\n",
    "                            keep=[\"Cases_sol\"],\n",
    "                            relabel={\"Cases_sol\": \"Ensemble Model Prior Forecasts\"},\n",
    "                            colors={\n",
    "                                \"Ensemble Model Prior Forecasts\": \"blue\",\n",
    "                                \"Reported Cases\": \"black\",\n",
    "                            })\n",
    "plots.save_schema(schema, \"_schema.json\")\n",
    "plots.ipy_display(schema)"
   ]
  },
  {
   "cell_type": "code",
   "execution_count": null,
   "metadata": {},
   "outputs": [
    {
     "ename": "NameError",
     "evalue": "name 'ensemble_prior_forecasts' is not defined",
     "output_type": "error",
     "traceback": [
      "\u001b[0;31m---------------------------------------------------------------------------\u001b[0m",
      "\u001b[0;31mNameError\u001b[0m                                 Traceback (most recent call last)",
      "\u001b[1;32m/Users/oost464/Library/CloudStorage/OneDrive-PNNL/Desktop/projects/pyciemss/notebook/april_ensemble/demo.ipynb Cell 56\u001b[0m line \u001b[0;36m1\n\u001b[0;32m----> <a href='vscode-notebook-cell:/Users/oost464/Library/CloudStorage/OneDrive-PNNL/Desktop/projects/pyciemss/notebook/april_ensemble/demo.ipynb#Y106sZmlsZQ%3D%3D?line=0'>1</a>\u001b[0m schema \u001b[39m=\u001b[39m plots\u001b[39m.\u001b[39mtriangle_contour(ensemble_prior_forecasts[\u001b[39m\"\u001b[39m\u001b[39mmodel_weights\u001b[39m\u001b[39m\"\u001b[39m], title\u001b[39m=\u001b[39m\u001b[39m\"\u001b[39m\u001b[39mPrior Ensemble Weights\u001b[39m\u001b[39m\"\u001b[39m)\n\u001b[1;32m      <a href='vscode-notebook-cell:/Users/oost464/Library/CloudStorage/OneDrive-PNNL/Desktop/projects/pyciemss/notebook/april_ensemble/demo.ipynb#Y106sZmlsZQ%3D%3D?line=1'>2</a>\u001b[0m plots\u001b[39m.\u001b[39mipy_display(schema)\n",
      "\u001b[0;31mNameError\u001b[0m: name 'ensemble_prior_forecasts' is not defined"
     ]
    }
   ],
   "source": [
    "schema = plots.triangle_contour(ensemble_prior_forecasts[\"model_weights\"], title=\"Prior Ensemble Weights\")\n",
    "plots.ipy_display(schema)"
   ]
  },
  {
   "attachments": {},
   "cell_type": "markdown",
   "metadata": {},
   "source": [
    "## Calibration"
   ]
  },
  {
   "cell_type": "code",
   "execution_count": null,
   "metadata": {},
   "outputs": [],
   "source": [
    "num_iterations = 100"
   ]
  },
  {
   "cell_type": "code",
   "execution_count": null,
   "metadata": {},
   "outputs": [
    {
     "name": "stdout",
     "output_type": "stream",
     "text": [
      "iteration 0: loss = 4753.969912856817\n",
      "iteration 10: loss = 2561.7285459935665\n",
      "iteration 20: loss = 347.73242887854576\n",
      "iteration 30: loss = -379.04515329003334\n",
      "iteration 40: loss = -771.5341877043247\n",
      "iteration 50: loss = -970.4428513348103\n",
      "iteration 60: loss = -992.49901881814\n",
      "iteration 70: loss = -1069.4369306862354\n",
      "iteration 80: loss = -1106.5056444704533\n",
      "iteration 90: loss = -1111.8690342009068\n"
     ]
    }
   ],
   "source": [
    "import pyro\n",
    "import dill\n",
    "\n",
    "save_path = \"../../notebook/april_ensemble/saved_guides/\"\n",
    "\n",
    "try:\n",
    "    with open(os.path.join(save_path, \"inferred_parameters2.pkl\"), \"rb\") as f:\n",
    "        inferred_parameters = dill.load(f)\n",
    "    print(\"Loaded inferred parameters from file.\")\n",
    "except:\n",
    "    autoguide = pyro.infer.autoguide.AutoDiagonalNormal\n",
    "    inferred_parameters = calibrate(ensemble, train_data, num_iterations=num_iterations, verbose=True, verbose_every=10, autoguide=autoguide)\n",
    "\n",
    "    with open(os.path.join(save_path, \"inferred_parameters2.pkl\"), \"wb\") as f:\n",
    "        dill.dump(inferred_parameters, f)"
   ]
  },
  {
   "cell_type": "code",
   "execution_count": null,
   "metadata": {},
   "outputs": [
    {
     "name": "stdout",
     "output_type": "stream",
     "text": [
      "Loaded deterministic parameters from file.\n"
     ]
    }
   ],
   "source": [
    "try:\n",
    "    with open(os.path.join(save_path, \"deterministic_parameters2.pkl\"), \"rb\") as f:\n",
    "        deterministic_parameters = dill.load(f)\n",
    "    print(\"Loaded deterministic parameters from file.\")\n",
    "except: \n",
    "    deterministic_autoguide = pyro.infer.autoguide.AutoDelta\n",
    "    deterministic_parameters = calibrate(ensemble, train_data, num_iterations=num_iterations, verbose=True, verbose_every=10, autoguide=deterministic_autoguide)\n",
    "\n",
    "    with open(os.path.join(save_path, \"deterministic_parameters2.pkl\"), \"wb\") as f:\n",
    "        dill.dump(deterministic_parameters, f)"
   ]
  },
  {
   "cell_type": "code",
   "execution_count": null,
   "metadata": {},
   "outputs": [],
   "source": [
    "ensemble_posterior_forecasts = sample(ensemble, all_timepoints, num_samples, inferred_parameters)\n",
    "ensemble_deterministic_forecasts = sample(ensemble, all_timepoints, 1, deterministic_parameters)"
   ]
  },
  {
   "cell_type": "code",
   "execution_count": null,
   "metadata": {},
   "outputs": [
    {
     "data": {
      "application/vnd.vega.v5+json": {
       "$schema": "https://vega.github.io/schema/vega/v5.json",
       "axes": [
        {
         "name": "x_axis",
         "orient": "bottom",
         "scale": "xscale",
         "title": "Time since start of pandemic (days)",
         "zindex": 100
        },
        {
         "name": "y_axis",
         "orient": "left",
         "scale": "yscale",
         "title": "Cases (Prop. of Population)",
         "zindex": 100
        }
       ],
       "data": [
        {
         "name": "distributions",
         "values": [
          {
           "lower": 0.0028602981474250555,
           "timepoint": 679,
           "trajectory": "Ensemble Model Deterministic Forecasts",
           "upper": 0.0028602981474250555
          },
          {
           "lower": 0.0071688462048769,
           "timepoint": 680,
           "trajectory": "Ensemble Model Deterministic Forecasts",
           "upper": 0.0071688462048769
          },
          {
           "lower": 0.009328633546829224,
           "timepoint": 681,
           "trajectory": "Ensemble Model Deterministic Forecasts",
           "upper": 0.009328633546829224
          },
          {
           "lower": 0.01085928175598383,
           "timepoint": 682,
           "trajectory": "Ensemble Model Deterministic Forecasts",
           "upper": 0.01085928175598383
          },
          {
           "lower": 0.012082301080226898,
           "timepoint": 683,
           "trajectory": "Ensemble Model Deterministic Forecasts",
           "upper": 0.012082301080226898
          },
          {
           "lower": 0.013146510347723961,
           "timepoint": 684,
           "trajectory": "Ensemble Model Deterministic Forecasts",
           "upper": 0.013146510347723961
          },
          {
           "lower": 0.014103012159466743,
           "timepoint": 685,
           "trajectory": "Ensemble Model Deterministic Forecasts",
           "upper": 0.014103012159466743
          },
          {
           "lower": 0.014951454475522041,
           "timepoint": 686,
           "trajectory": "Ensemble Model Deterministic Forecasts",
           "upper": 0.014951454475522041
          },
          {
           "lower": 0.015676170587539673,
           "timepoint": 687,
           "trajectory": "Ensemble Model Deterministic Forecasts",
           "upper": 0.015676170587539673
          },
          {
           "lower": 0.0162664707750082,
           "timepoint": 688,
           "trajectory": "Ensemble Model Deterministic Forecasts",
           "upper": 0.0162664707750082
          },
          {
           "lower": 0.01672462746500969,
           "timepoint": 689,
           "trajectory": "Ensemble Model Deterministic Forecasts",
           "upper": 0.01672462746500969
          },
          {
           "lower": 0.017065465450286865,
           "timepoint": 690,
           "trajectory": "Ensemble Model Deterministic Forecasts",
           "upper": 0.017065465450286865
          },
          {
           "lower": 0.017312098294496536,
           "timepoint": 691,
           "trajectory": "Ensemble Model Deterministic Forecasts",
           "upper": 0.017312098294496536
          },
          {
           "lower": 0.01748991198837757,
           "timepoint": 692,
           "trajectory": "Ensemble Model Deterministic Forecasts",
           "upper": 0.01748991198837757
          },
          {
           "lower": 0.017621640115976334,
           "timepoint": 693,
           "trajectory": "Ensemble Model Deterministic Forecasts",
           "upper": 0.017621640115976334
          },
          {
           "lower": 0.017724044620990753,
           "timepoint": 694,
           "trajectory": "Ensemble Model Deterministic Forecasts",
           "upper": 0.017724044620990753
          },
          {
           "lower": 0.017806963995099068,
           "timepoint": 695,
           "trajectory": "Ensemble Model Deterministic Forecasts",
           "upper": 0.017806963995099068
          },
          {
           "lower": 0.017873719334602356,
           "timepoint": 696,
           "trajectory": "Ensemble Model Deterministic Forecasts",
           "upper": 0.017873719334602356
          },
          {
           "lower": 0.01792280375957489,
           "timepoint": 697,
           "trajectory": "Ensemble Model Deterministic Forecasts",
           "upper": 0.01792280375957489
          },
          {
           "lower": 0.017949771136045456,
           "timepoint": 698,
           "trajectory": "Ensemble Model Deterministic Forecasts",
           "upper": 0.017949771136045456
          },
          {
           "lower": 0.017948977649211884,
           "timepoint": 699,
           "trajectory": "Ensemble Model Deterministic Forecasts",
           "upper": 0.017948977649211884
          },
          {
           "lower": 0.017915060743689537,
           "timepoint": 700,
           "trajectory": "Ensemble Model Deterministic Forecasts",
           "upper": 0.017915060743689537
          },
          {
           "lower": 0.017843738198280334,
           "timepoint": 701,
           "trajectory": "Ensemble Model Deterministic Forecasts",
           "upper": 0.017843738198280334
          },
          {
           "lower": 0.017732299864292145,
           "timepoint": 702,
           "trajectory": "Ensemble Model Deterministic Forecasts",
           "upper": 0.017732299864292145
          },
          {
           "lower": 0.017579814419150352,
           "timepoint": 703,
           "trajectory": "Ensemble Model Deterministic Forecasts",
           "upper": 0.017579814419150352
          },
          {
           "lower": 0.017386822029948235,
           "timepoint": 704,
           "trajectory": "Ensemble Model Deterministic Forecasts",
           "upper": 0.017386822029948235
          },
          {
           "lower": 0.017155243083834648,
           "timepoint": 705,
           "trajectory": "Ensemble Model Deterministic Forecasts",
           "upper": 0.017155243083834648
          },
          {
           "lower": 0.016888003796339035,
           "timepoint": 706,
           "trajectory": "Ensemble Model Deterministic Forecasts",
           "upper": 0.016888003796339035
          },
          {
           "lower": 0.0165887288749218,
           "timepoint": 707,
           "trajectory": "Ensemble Model Deterministic Forecasts",
           "upper": 0.0165887288749218
          },
          {
           "lower": 0.016261421144008636,
           "timepoint": 708,
           "trajectory": "Ensemble Model Deterministic Forecasts",
           "upper": 0.016261421144008636
          },
          {
           "lower": 0.015910319983959198,
           "timepoint": 709,
           "trajectory": "Ensemble Model Deterministic Forecasts",
           "upper": 0.015910319983959198
          },
          {
           "lower": 0.015539606101810932,
           "timepoint": 710,
           "trajectory": "Ensemble Model Deterministic Forecasts",
           "upper": 0.015539606101810932
          },
          {
           "lower": 0.015153327956795692,
           "timepoint": 711,
           "trajectory": "Ensemble Model Deterministic Forecasts",
           "upper": 0.015153327956795692
          },
          {
           "lower": 0.014755254611372948,
           "timepoint": 712,
           "trajectory": "Ensemble Model Deterministic Forecasts",
           "upper": 0.014755254611372948
          },
          {
           "lower": 0.01434886734932661,
           "timepoint": 713,
           "trajectory": "Ensemble Model Deterministic Forecasts",
           "upper": 0.01434886734932661
          },
          {
           "lower": 0.013937290757894516,
           "timepoint": 714,
           "trajectory": "Ensemble Model Deterministic Forecasts",
           "upper": 0.013937290757894516
          },
          {
           "lower": 0.013523275963962078,
           "timepoint": 715,
           "trajectory": "Ensemble Model Deterministic Forecasts",
           "upper": 0.013523275963962078
          },
          {
           "lower": 0.013109308667480946,
           "timepoint": 716,
           "trajectory": "Ensemble Model Deterministic Forecasts",
           "upper": 0.013109308667480946
          },
          {
           "lower": 0.012697393074631691,
           "timepoint": 717,
           "trajectory": "Ensemble Model Deterministic Forecasts",
           "upper": 0.012697393074631691
          },
          {
           "lower": 0.012289338745176792,
           "timepoint": 718,
           "trajectory": "Ensemble Model Deterministic Forecasts",
           "upper": 0.012289338745176792
          },
          {
           "lower": 0.011886618100106716,
           "timepoint": 719,
           "trajectory": "Ensemble Model Deterministic Forecasts",
           "upper": 0.011886618100106716
          },
          {
           "lower": 0.011490450240671635,
           "timepoint": 720,
           "trajectory": "Ensemble Model Deterministic Forecasts",
           "upper": 0.011490450240671635
          },
          {
           "lower": 0.011101835407316685,
           "timepoint": 721,
           "trajectory": "Ensemble Model Deterministic Forecasts",
           "upper": 0.011101835407316685
          },
          {
           "lower": 0.010721556842327118,
           "timepoint": 722,
           "trajectory": "Ensemble Model Deterministic Forecasts",
           "upper": 0.010721556842327118
          },
          {
           "lower": 0.010350225493311882,
           "timepoint": 723,
           "trajectory": "Ensemble Model Deterministic Forecasts",
           "upper": 0.010350225493311882
          },
          {
           "lower": 0.009988329373300076,
           "timepoint": 724,
           "trajectory": "Ensemble Model Deterministic Forecasts",
           "upper": 0.009988329373300076
          },
          {
           "lower": 0.009636168368160725,
           "timepoint": 725,
           "trajectory": "Ensemble Model Deterministic Forecasts",
           "upper": 0.009636168368160725
          },
          {
           "lower": 0.009293965063989162,
           "timepoint": 726,
           "trajectory": "Ensemble Model Deterministic Forecasts",
           "upper": 0.009293965063989162
          },
          {
           "lower": 0.008961858227849007,
           "timepoint": 727,
           "trajectory": "Ensemble Model Deterministic Forecasts",
           "upper": 0.008961858227849007
          },
          {
           "lower": 0.008639882318675518,
           "timepoint": 728,
           "trajectory": "Ensemble Model Deterministic Forecasts",
           "upper": 0.008639882318675518
          },
          {
           "lower": 0.008328036405146122,
           "timepoint": 729,
           "trajectory": "Ensemble Model Deterministic Forecasts",
           "upper": 0.008328036405146122
          },
          {
           "lower": 0.008026232942938805,
           "timepoint": 730,
           "trajectory": "Ensemble Model Deterministic Forecasts",
           "upper": 0.008026232942938805
          },
          {
           "lower": 0.007734362035989761,
           "timepoint": 731,
           "trajectory": "Ensemble Model Deterministic Forecasts",
           "upper": 0.007734362035989761
          },
          {
           "lower": 0.007452264428138733,
           "timepoint": 732,
           "trajectory": "Ensemble Model Deterministic Forecasts",
           "upper": 0.007452264428138733
          },
          {
           "lower": 0.00717976875603199,
           "timepoint": 733,
           "trajectory": "Ensemble Model Deterministic Forecasts",
           "upper": 0.00717976875603199
          },
          {
           "lower": 0.006916670594364405,
           "timepoint": 734,
           "trajectory": "Ensemble Model Deterministic Forecasts",
           "upper": 0.006916670594364405
          },
          {
           "lower": 0.006662750616669655,
           "timepoint": 735,
           "trajectory": "Ensemble Model Deterministic Forecasts",
           "upper": 0.006662750616669655
          },
          {
           "lower": 0.006417777389287949,
           "timepoint": 736,
           "trajectory": "Ensemble Model Deterministic Forecasts",
           "upper": 0.006417777389287949
          },
          {
           "lower": 0.006181508302688599,
           "timepoint": 737,
           "trajectory": "Ensemble Model Deterministic Forecasts",
           "upper": 0.006181508302688599
          },
          {
           "lower": 0.005953706800937653,
           "timepoint": 738,
           "trajectory": "Ensemble Model Deterministic Forecasts",
           "upper": 0.005953706800937653
          },
          {
           "lower": 0.0057341051287949085,
           "timepoint": 739,
           "trajectory": "Ensemble Model Deterministic Forecasts",
           "upper": 0.0057341051287949085
          },
          {
           "lower": 0.005522469058632851,
           "timepoint": 740,
           "trajectory": "Ensemble Model Deterministic Forecasts",
           "upper": 0.005522469058632851
          },
          {
           "lower": 0.005318543873727322,
           "timepoint": 741,
           "trajectory": "Ensemble Model Deterministic Forecasts",
           "upper": 0.005318543873727322
          },
          {
           "lower": 0.0051220799796283245,
           "timepoint": 742,
           "trajectory": "Ensemble Model Deterministic Forecasts",
           "upper": 0.0051220799796283245
          },
          {
           "lower": 0.004932830110192299,
           "timepoint": 743,
           "trajectory": "Ensemble Model Deterministic Forecasts",
           "upper": 0.004932830110192299
          },
          {
           "lower": 0.00475054606795311,
           "timepoint": 744,
           "trajectory": "Ensemble Model Deterministic Forecasts",
           "upper": 0.00475054606795311
          },
          {
           "lower": 0.00457502156496048,
           "timepoint": 745,
           "trajectory": "Ensemble Model Deterministic Forecasts",
           "upper": 0.00457502156496048
          },
          {
           "lower": 0.004405986983329058,
           "timepoint": 746,
           "trajectory": "Ensemble Model Deterministic Forecasts",
           "upper": 0.004405986983329058
          },
          {
           "lower": 0.00424323882907629,
           "timepoint": 747,
           "trajectory": "Ensemble Model Deterministic Forecasts",
           "upper": 0.00424323882907629
          },
          {
           "lower": 0.004086547531187534,
           "timepoint": 748,
           "trajectory": "Ensemble Model Deterministic Forecasts",
           "upper": 0.004086547531187534
          },
          {
           "lower": 0.003935688175261021,
           "timepoint": 749,
           "trajectory": "Ensemble Model Deterministic Forecasts",
           "upper": 0.003935688175261021
          },
          {
           "lower": 0.003790465882048011,
           "timepoint": 750,
           "trajectory": "Ensemble Model Deterministic Forecasts",
           "upper": 0.003790465882048011
          },
          {
           "lower": 0.00365067133679986,
           "timepoint": 751,
           "trajectory": "Ensemble Model Deterministic Forecasts",
           "upper": 0.00365067133679986
          },
          {
           "lower": 0.003516121068969369,
           "timepoint": 752,
           "trajectory": "Ensemble Model Deterministic Forecasts",
           "upper": 0.003516121068969369
          },
          {
           "lower": 0.003386611817404628,
           "timepoint": 753,
           "trajectory": "Ensemble Model Deterministic Forecasts",
           "upper": 0.003386611817404628
          },
          {
           "lower": 0.0032619538251310587,
           "timepoint": 754,
           "trajectory": "Ensemble Model Deterministic Forecasts",
           "upper": 0.0032619538251310587
          },
          {
           "lower": 0.00314198131673038,
           "timepoint": 755,
           "trajectory": "Ensemble Model Deterministic Forecasts",
           "upper": 0.00314198131673038
          },
          {
           "lower": 0.0030265182722359896,
           "timepoint": 756,
           "trajectory": "Ensemble Model Deterministic Forecasts",
           "upper": 0.0030265182722359896
          },
          {
           "lower": 0.002915395190939307,
           "timepoint": 757,
           "trajectory": "Ensemble Model Deterministic Forecasts",
           "upper": 0.002915395190939307
          },
          {
           "lower": 0.0028084535151720047,
           "timepoint": 758,
           "trajectory": "Ensemble Model Deterministic Forecasts",
           "upper": 0.0028084535151720047
          },
          {
           "lower": 0.002705536549910903,
           "timepoint": 759,
           "trajectory": "Ensemble Model Deterministic Forecasts",
           "upper": 0.002705536549910903
          },
          {
           "lower": 0.002606502966955304,
           "timepoint": 760,
           "trajectory": "Ensemble Model Deterministic Forecasts",
           "upper": 0.002606502966955304
          },
          {
           "lower": 0.0025111979339271784,
           "timepoint": 761,
           "trajectory": "Ensemble Model Deterministic Forecasts",
           "upper": 0.0025111979339271784
          },
          {
           "lower": 0.002419484546408057,
           "timepoint": 762,
           "trajectory": "Ensemble Model Deterministic Forecasts",
           "upper": 0.002419484546408057
          },
          {
           "lower": 0.00233123148791492,
           "timepoint": 763,
           "trajectory": "Ensemble Model Deterministic Forecasts",
           "upper": 0.00233123148791492
          },
          {
           "lower": 0.002246306510642171,
           "timepoint": 764,
           "trajectory": "Ensemble Model Deterministic Forecasts",
           "upper": 0.002246306510642171
          },
          {
           "lower": 0.002164586214348674,
           "timepoint": 765,
           "trajectory": "Ensemble Model Deterministic Forecasts",
           "upper": 0.002164586214348674
          },
          {
           "lower": 0.002085949294269085,
           "timepoint": 766,
           "trajectory": "Ensemble Model Deterministic Forecasts",
           "upper": 0.002085949294269085
          },
          {
           "lower": 0.002010280964896083,
           "timepoint": 767,
           "trajectory": "Ensemble Model Deterministic Forecasts",
           "upper": 0.002010280964896083
          },
          {
           "lower": 0.0019374698167666793,
           "timepoint": 768,
           "trajectory": "Ensemble Model Deterministic Forecasts",
           "upper": 0.0019374698167666793
          },
          {
           "lower": 0.001867408398538828,
           "timepoint": 769,
           "trajectory": "Ensemble Model Deterministic Forecasts",
           "upper": 0.001867408398538828
          },
          {
           "lower": 0.0017999880947172642,
           "timepoint": 770,
           "trajectory": "Ensemble Model Deterministic Forecasts",
           "upper": 0.0017999880947172642
          },
          {
           "lower": 0.001735116122290492,
           "timepoint": 771,
           "trajectory": "Ensemble Model Deterministic Forecasts",
           "upper": 0.001735116122290492
          },
          {
           "lower": 0.0016726928297430277,
           "timepoint": 772,
           "trajectory": "Ensemble Model Deterministic Forecasts",
           "upper": 0.0016726928297430277
          },
          {
           "lower": 0.001612628111615777,
           "timepoint": 773,
           "trajectory": "Ensemble Model Deterministic Forecasts",
           "upper": 0.001612628111615777
          },
          {
           "lower": 0.0015548303490504622,
           "timepoint": 774,
           "trajectory": "Ensemble Model Deterministic Forecasts",
           "upper": 0.0015548303490504622
          },
          {
           "lower": 0.0014992152573540807,
           "timepoint": 775,
           "trajectory": "Ensemble Model Deterministic Forecasts",
           "upper": 0.0014992152573540807
          },
          {
           "lower": 0.0014456999488174915,
           "timepoint": 776,
           "trajectory": "Ensemble Model Deterministic Forecasts",
           "upper": 0.0014456999488174915
          },
          {
           "lower": 0.001394203631207347,
           "timepoint": 777,
           "trajectory": "Ensemble Model Deterministic Forecasts",
           "upper": 0.001394203631207347
          },
          {
           "lower": 0.0013446514494717121,
           "timepoint": 778,
           "trajectory": "Ensemble Model Deterministic Forecasts",
           "upper": 0.0013446514494717121
          },
          {
           "lower": 0.0012969691306352615,
           "timepoint": 779,
           "trajectory": "Ensemble Model Deterministic Forecasts",
           "upper": 0.0012969691306352615
          },
          {
           "lower": 0.0012510857777670026,
           "timepoint": 780,
           "trajectory": "Ensemble Model Deterministic Forecasts",
           "upper": 0.0012510857777670026
          },
          {
           "lower": 0.0012069344520568848,
           "timepoint": 781,
           "trajectory": "Ensemble Model Deterministic Forecasts",
           "upper": 0.0012069344520568848
          },
          {
           "lower": 0.0011644475162029266,
           "timepoint": 782,
           "trajectory": "Ensemble Model Deterministic Forecasts",
           "upper": 0.0011644475162029266
          },
          {
           "lower": 0.0011235628044232726,
           "timepoint": 783,
           "trajectory": "Ensemble Model Deterministic Forecasts",
           "upper": 0.0011235628044232726
          },
          {
           "lower": 0.0010842186165973544,
           "timepoint": 784,
           "trajectory": "Ensemble Model Deterministic Forecasts",
           "upper": 0.0010842186165973544
          },
          {
           "lower": 0.0010463582584634423,
           "timepoint": 785,
           "trajectory": "Ensemble Model Deterministic Forecasts",
           "upper": 0.0010463582584634423
          },
          {
           "lower": 0.0010099236387759447,
           "timepoint": 786,
           "trajectory": "Ensemble Model Deterministic Forecasts",
           "upper": 0.0010099236387759447
          },
          {
           "lower": 0.0009748609736561775,
           "timepoint": 787,
           "trajectory": "Ensemble Model Deterministic Forecasts",
           "upper": 0.0009748609736561775
          },
          {
           "lower": 0.0009411181672476232,
           "timepoint": 788,
           "trajectory": "Ensemble Model Deterministic Forecasts",
           "upper": 0.0009411181672476232
          },
          {
           "lower": 0.0009086451027542353,
           "timepoint": 789,
           "trajectory": "Ensemble Model Deterministic Forecasts",
           "upper": 0.0009086451027542353
          },
          {
           "lower": 0.0008773946901783347,
           "timepoint": 790,
           "trajectory": "Ensemble Model Deterministic Forecasts",
           "upper": 0.0008773946901783347
          },
          {
           "lower": 0.0008473185589537024,
           "timepoint": 791,
           "trajectory": "Ensemble Model Deterministic Forecasts",
           "upper": 0.0008473185589537024
          },
          {
           "lower": 0.000818372645881027,
           "timepoint": 792,
           "trajectory": "Ensemble Model Deterministic Forecasts",
           "upper": 0.000818372645881027
          },
          {
           "lower": 0.0007905137026682496,
           "timepoint": 793,
           "trajectory": "Ensemble Model Deterministic Forecasts",
           "upper": 0.0007905137026682496
          },
          {
           "lower": 0.0007637020316906273,
           "timepoint": 794,
           "trajectory": "Ensemble Model Deterministic Forecasts",
           "upper": 0.0007637020316906273
          },
          {
           "lower": 0.0007378954906016588,
           "timepoint": 795,
           "trajectory": "Ensemble Model Deterministic Forecasts",
           "upper": 0.0007378954906016588
          },
          {
           "lower": 0.000713057117536664,
           "timepoint": 796,
           "trajectory": "Ensemble Model Deterministic Forecasts",
           "upper": 0.000713057117536664
          },
          {
           "lower": 0.000689149834215641,
           "timepoint": 797,
           "trajectory": "Ensemble Model Deterministic Forecasts",
           "upper": 0.000689149834215641
          },
          {
           "lower": 0.000666137901134789,
           "timepoint": 798,
           "trajectory": "Ensemble Model Deterministic Forecasts",
           "upper": 0.000666137901134789
          },
          {
           "lower": 0.0006439874414354563,
           "timepoint": 799,
           "trajectory": "Ensemble Model Deterministic Forecasts",
           "upper": 0.0006439874414354563
          },
          {
           "lower": 0.00286026697140187,
           "timepoint": 679,
           "trajectory": "Ensemble Model Posterior Forecasts",
           "upper": 0.002860272000543773
          },
          {
           "lower": 0.005073178512975574,
           "timepoint": 680,
           "trajectory": "Ensemble Model Posterior Forecasts",
           "upper": 0.005257113091647625
          },
          {
           "lower": 0.005245793564245105,
           "timepoint": 681,
           "trajectory": "Ensemble Model Posterior Forecasts",
           "upper": 0.00538393403403461
          },
          {
           "lower": 0.00494598769582808,
           "timepoint": 682,
           "trajectory": "Ensemble Model Posterior Forecasts",
           "upper": 0.005037625785917044
          },
          {
           "lower": 0.00464226258918643,
           "timepoint": 683,
           "trajectory": "Ensemble Model Posterior Forecasts",
           "upper": 0.004722349997609854
          },
          {
           "lower": 0.004462518682703376,
           "timepoint": 684,
           "trajectory": "Ensemble Model Posterior Forecasts",
           "upper": 0.004624328808858991
          },
          {
           "lower": 0.004442290868610144,
           "timepoint": 685,
           "trajectory": "Ensemble Model Posterior Forecasts",
           "upper": 0.004714597947895527
          },
          {
           "lower": 0.004577074432745576,
           "timepoint": 686,
           "trajectory": "Ensemble Model Posterior Forecasts",
           "upper": 0.004977894946932793
          },
          {
           "lower": 0.004851137846708297,
           "timepoint": 687,
           "trajectory": "Ensemble Model Posterior Forecasts",
           "upper": 0.005394479213282466
          },
          {
           "lower": 0.005246046558022499,
           "timepoint": 688,
           "trajectory": "Ensemble Model Posterior Forecasts",
           "upper": 0.005943493405357003
          },
          {
           "lower": 0.005743282893672585,
           "timepoint": 689,
           "trajectory": "Ensemble Model Posterior Forecasts",
           "upper": 0.006604680186137557
          },
          {
           "lower": 0.006324879033491016,
           "timepoint": 690,
           "trajectory": "Ensemble Model Posterior Forecasts",
           "upper": 0.007358369790017605
          },
          {
           "lower": 0.006973301433026791,
           "timepoint": 691,
           "trajectory": "Ensemble Model Posterior Forecasts",
           "upper": 0.008185074012726546
          },
          {
           "lower": 0.0076712904497981075,
           "timepoint": 692,
           "trajectory": "Ensemble Model Posterior Forecasts",
           "upper": 0.009065115451812744
          },
          {
           "lower": 0.008401711285114289,
           "timepoint": 693,
           "trajectory": "Ensemble Model Posterior Forecasts",
           "upper": 0.009978541731834411
          },
          {
           "lower": 0.00914768287912011,
           "timepoint": 694,
           "trajectory": "Ensemble Model Posterior Forecasts",
           "upper": 0.010905318520963192
          },
          {
           "lower": 0.009892806317657233,
           "timepoint": 695,
           "trajectory": "Ensemble Model Posterior Forecasts",
           "upper": 0.011825817357748746
          },
          {
           "lower": 0.010621551889926195,
           "timepoint": 696,
           "trajectory": "Ensemble Model Posterior Forecasts",
           "upper": 0.012721346877515315
          },
          {
           "lower": 0.011319745518267154,
           "timepoint": 697,
           "trajectory": "Ensemble Model Posterior Forecasts",
           "upper": 0.013574825320392846
          },
          {
           "lower": 0.011974904127418995,
           "timepoint": 698,
           "trajectory": "Ensemble Model Posterior Forecasts",
           "upper": 0.014371328800916672
          },
          {
           "lower": 0.01257662009447813,
           "timepoint": 699,
           "trajectory": "Ensemble Model Posterior Forecasts",
           "upper": 0.015098551195114851
          },
          {
           "lower": 0.01311671370640397,
           "timepoint": 700,
           "trajectory": "Ensemble Model Posterior Forecasts",
           "upper": 0.015747004374861717
          },
          {
           "lower": 0.013589337840676308,
           "timepoint": 701,
           "trajectory": "Ensemble Model Posterior Forecasts",
           "upper": 0.01631014384329319
          },
          {
           "lower": 0.013990897033363581,
           "timepoint": 702,
           "trajectory": "Ensemble Model Posterior Forecasts",
           "upper": 0.016784193087369205
          },
          {
           "lower": 0.014319897815585136,
           "timepoint": 703,
           "trajectory": "Ensemble Model Posterior Forecasts",
           "upper": 0.017168048396706583
          },
          {
           "lower": 0.014576680399477482,
           "timepoint": 704,
           "trajectory": "Ensemble Model Posterior Forecasts",
           "upper": 0.0174627473577857
          },
          {
           "lower": 0.014763159211724997,
           "timepoint": 705,
           "trajectory": "Ensemble Model Posterior Forecasts",
           "upper": 0.01767123620957136
          },
          {
           "lower": 0.014882499165832997,
           "timepoint": 706,
           "trajectory": "Ensemble Model Posterior Forecasts",
           "upper": 0.01779792457818985
          },
          {
           "lower": 0.014938819967210294,
           "timepoint": 707,
           "trajectory": "Ensemble Model Posterior Forecasts",
           "upper": 0.01784831266850233
          },
          {
           "lower": 0.014936879556626082,
           "timepoint": 708,
           "trajectory": "Ensemble Model Posterior Forecasts",
           "upper": 0.017828605137765408
          },
          {
           "lower": 0.014881863351911306,
           "timepoint": 709,
           "trajectory": "Ensemble Model Posterior Forecasts",
           "upper": 0.017745434120297433
          },
          {
           "lower": 0.014779210276901721,
           "timepoint": 710,
           "trajectory": "Ensemble Model Posterior Forecasts",
           "upper": 0.017605576291680337
          },
          {
           "lower": 0.014634225238114595,
           "timepoint": 711,
           "trajectory": "Ensemble Model Posterior Forecasts",
           "upper": 0.0174158176407218
          },
          {
           "lower": 0.014452268276363612,
           "timepoint": 712,
           "trajectory": "Ensemble Model Posterior Forecasts",
           "upper": 0.017182672396302223
          },
          {
           "lower": 0.014238392561674118,
           "timepoint": 713,
           "trajectory": "Ensemble Model Posterior Forecasts",
           "upper": 0.01691231857985258
          },
          {
           "lower": 0.013997368235141038,
           "timepoint": 714,
           "trajectory": "Ensemble Model Posterior Forecasts",
           "upper": 0.016610615141689777
          },
          {
           "lower": 0.01373363183811307,
           "timepoint": 715,
           "trajectory": "Ensemble Model Posterior Forecasts",
           "upper": 0.016282905545085668
          },
          {
           "lower": 0.013451251853257417,
           "timepoint": 716,
           "trajectory": "Ensemble Model Posterior Forecasts",
           "upper": 0.015934077184647323
          },
          {
           "lower": 0.013153909612447024,
           "timepoint": 717,
           "trajectory": "Ensemble Model Posterior Forecasts",
           "upper": 0.015568534750491381
          },
          {
           "lower": 0.01284493850544095,
           "timepoint": 718,
           "trajectory": "Ensemble Model Posterior Forecasts",
           "upper": 0.015190224349498748
          },
          {
           "lower": 0.012527275644242764,
           "timepoint": 719,
           "trajectory": "Ensemble Model Posterior Forecasts",
           "upper": 0.014802609477192164
          },
          {
           "lower": 0.0122035326436162,
           "timepoint": 720,
           "trajectory": "Ensemble Model Posterior Forecasts",
           "upper": 0.014408807177096606
          },
          {
           "lower": 0.01187598966062069,
           "timepoint": 721,
           "trajectory": "Ensemble Model Posterior Forecasts",
           "upper": 0.014011435396969318
          },
          {
           "lower": 0.01154665108770132,
           "timepoint": 722,
           "trajectory": "Ensemble Model Posterior Forecasts",
           "upper": 0.013612827938050031
          },
          {
           "lower": 0.011217195726931094,
           "timepoint": 723,
           "trajectory": "Ensemble Model Posterior Forecasts",
           "upper": 0.013214958645403386
          },
          {
           "lower": 0.010889133345335722,
           "timepoint": 724,
           "trajectory": "Ensemble Model Posterior Forecasts",
           "upper": 0.012819517496973276
          },
          {
           "lower": 0.010563682671636343,
           "timepoint": 725,
           "trajectory": "Ensemble Model Posterior Forecasts",
           "upper": 0.012427933607250452
          },
          {
           "lower": 0.01024190941825509,
           "timepoint": 726,
           "trajectory": "Ensemble Model Posterior Forecasts",
           "upper": 0.012041389197111129
          },
          {
           "lower": 0.009924663417041301,
           "timepoint": 727,
           "trajectory": "Ensemble Model Posterior Forecasts",
           "upper": 0.01166087407618761
          },
          {
           "lower": 0.009612688142806292,
           "timepoint": 728,
           "trajectory": "Ensemble Model Posterior Forecasts",
           "upper": 0.011287192068994045
          },
          {
           "lower": 0.009306562319397926,
           "timepoint": 729,
           "trajectory": "Ensemble Model Posterior Forecasts",
           "upper": 0.010920991469174624
          },
          {
           "lower": 0.009006749466061592,
           "timepoint": 730,
           "trajectory": "Ensemble Model Posterior Forecasts",
           "upper": 0.010562778543680906
          },
          {
           "lower": 0.008713629562407732,
           "timepoint": 731,
           "trajectory": "Ensemble Model Posterior Forecasts",
           "upper": 0.010212943330407143
          },
          {
           "lower": 0.008427463751286269,
           "timepoint": 732,
           "trajectory": "Ensemble Model Posterior Forecasts",
           "upper": 0.009871775470674037
          },
          {
           "lower": 0.008148460183292627,
           "timepoint": 733,
           "trajectory": "Ensemble Model Posterior Forecasts",
           "upper": 0.009539484791457654
          },
          {
           "lower": 0.007876758975908161,
           "timepoint": 734,
           "trajectory": "Ensemble Model Posterior Forecasts",
           "upper": 0.009216184169054032
          },
          {
           "lower": 0.007612432911992073,
           "timepoint": 735,
           "trajectory": "Ensemble Model Posterior Forecasts",
           "upper": 0.008901950996369123
          },
          {
           "lower": 0.007355516124516725,
           "timepoint": 736,
           "trajectory": "Ensemble Model Posterior Forecasts",
           "upper": 0.008596793841570615
          },
          {
           "lower": 0.00710601145401597,
           "timepoint": 737,
           "trajectory": "Ensemble Model Posterior Forecasts",
           "upper": 0.008300662320107222
          },
          {
           "lower": 0.006863872148096561,
           "timepoint": 738,
           "trajectory": "Ensemble Model Posterior Forecasts",
           "upper": 0.008013513032346964
          },
          {
           "lower": 0.006629026727750897,
           "timepoint": 739,
           "trajectory": "Ensemble Model Posterior Forecasts",
           "upper": 0.007735225884243846
          },
          {
           "lower": 0.006401391979306936,
           "timepoint": 740,
           "trajectory": "Ensemble Model Posterior Forecasts",
           "upper": 0.007465658988803625
          },
          {
           "lower": 0.006180858239531517,
           "timepoint": 741,
           "trajectory": "Ensemble Model Posterior Forecasts",
           "upper": 0.007204680889844895
          },
          {
           "lower": 0.005967295309528708,
           "timepoint": 742,
           "trajectory": "Ensemble Model Posterior Forecasts",
           "upper": 0.006952136661857367
          },
          {
           "lower": 0.005760575598105788,
           "timepoint": 743,
           "trajectory": "Ensemble Model Posterior Forecasts",
           "upper": 0.006707836268469691
          },
          {
           "lower": 0.005560549534857273,
           "timepoint": 744,
           "trajectory": "Ensemble Model Posterior Forecasts",
           "upper": 0.00647157272323966
          },
          {
           "lower": 0.005367053300142288,
           "timepoint": 745,
           "trajectory": "Ensemble Model Posterior Forecasts",
           "upper": 0.006243172567337751
          },
          {
           "lower": 0.005179941514506936,
           "timepoint": 746,
           "trajectory": "Ensemble Model Posterior Forecasts",
           "upper": 0.006022446835413575
          },
          {
           "lower": 0.0049990419764071705,
           "timepoint": 747,
           "trajectory": "Ensemble Model Posterior Forecasts",
           "upper": 0.00580916297622025
          },
          {
           "lower": 0.004824191052466631,
           "timepoint": 748,
           "trajectory": "Ensemble Model Posterior Forecasts",
           "upper": 0.005603137658908963
          },
          {
           "lower": 0.004655236238613724,
           "timepoint": 749,
           "trajectory": "Ensemble Model Posterior Forecasts",
           "upper": 0.005404152162373066
          },
          {
           "lower": 0.004491993505507707,
           "timepoint": 750,
           "trajectory": "Ensemble Model Posterior Forecasts",
           "upper": 0.005211995635181666
          },
          {
           "lower": 0.004334304016083479,
           "timepoint": 751,
           "trajectory": "Ensemble Model Posterior Forecasts",
           "upper": 0.005026476131752134
          },
          {
           "lower": 0.004182002181187272,
           "timepoint": 752,
           "trajectory": "Ensemble Model Posterior Forecasts",
           "upper": 0.004847381124272942
          },
          {
           "lower": 0.004034926928579807,
           "timepoint": 753,
           "trajectory": "Ensemble Model Posterior Forecasts",
           "upper": 0.00467451517470181
          },
          {
           "lower": 0.0038929090136662126,
           "timepoint": 754,
           "trajectory": "Ensemble Model Posterior Forecasts",
           "upper": 0.004507679492235184
          },
          {
           "lower": 0.003755803662352264,
           "timepoint": 755,
           "trajectory": "Ensemble Model Posterior Forecasts",
           "upper": 0.004346689907833934
          },
          {
           "lower": 0.0036234420025721193,
           "timepoint": 756,
           "trajectory": "Ensemble Model Posterior Forecasts",
           "upper": 0.00419134465046227
          },
          {
           "lower": 0.003495682147331536,
           "timepoint": 757,
           "trajectory": "Ensemble Model Posterior Forecasts",
           "upper": 0.004041468934156
          },
          {
           "lower": 0.0033723705215379595,
           "timepoint": 758,
           "trajectory": "Ensemble Model Posterior Forecasts",
           "upper": 0.0038968767039477825
          },
          {
           "lower": 0.0032533662859350445,
           "timepoint": 759,
           "trajectory": "Ensemble Model Posterior Forecasts",
           "upper": 0.0037573925452306866
          },
          {
           "lower": 0.003138521942310035,
           "timepoint": 760,
           "trajectory": "Ensemble Model Posterior Forecasts",
           "upper": 0.0036228482145816087
          },
          {
           "lower": 0.0030277058947831394,
           "timepoint": 761,
           "trajectory": "Ensemble Model Posterior Forecasts",
           "upper": 0.003493073768913746
          },
          {
           "lower": 0.002920779213309288,
           "timepoint": 762,
           "trajectory": "Ensemble Model Posterior Forecasts",
           "upper": 0.0033679095329716803
          },
          {
           "lower": 0.002817612187936902,
           "timepoint": 763,
           "trajectory": "Ensemble Model Posterior Forecasts",
           "upper": 0.0032471956219524145
          },
          {
           "lower": 0.002718077297322452,
           "timepoint": 764,
           "trajectory": "Ensemble Model Posterior Forecasts",
           "upper": 0.0031307820929214357
          },
          {
           "lower": 0.002622053469531238,
           "timepoint": 765,
           "trajectory": "Ensemble Model Posterior Forecasts",
           "upper": 0.0030185227282345296
          },
          {
           "lower": 0.0025294208666309715,
           "timepoint": 766,
           "trajectory": "Ensemble Model Posterior Forecasts",
           "upper": 0.0029102633241564037
          },
          {
           "lower": 0.002440059697255492,
           "timepoint": 767,
           "trajectory": "Ensemble Model Posterior Forecasts",
           "upper": 0.0028058765456080437
          },
          {
           "lower": 0.0023538624634966256,
           "timepoint": 768,
           "trajectory": "Ensemble Model Posterior Forecasts",
           "upper": 0.0027052232529968024
          },
          {
           "lower": 0.002270718105137348,
           "timepoint": 769,
           "trajectory": "Ensemble Model Posterior Forecasts",
           "upper": 0.0026081737363711
          },
          {
           "lower": 0.0021905209636315704,
           "timepoint": 770,
           "trajectory": "Ensemble Model Posterior Forecasts",
           "upper": 0.002514600963331759
          },
          {
           "lower": 0.0021131696412339807,
           "timepoint": 771,
           "trajectory": "Ensemble Model Posterior Forecasts",
           "upper": 0.0024243825813755394
          },
          {
           "lower": 0.002038564858958125,
           "timepoint": 772,
           "trajectory": "Ensemble Model Posterior Forecasts",
           "upper": 0.002337399614043534
          },
          {
           "lower": 0.0019666109583340585,
           "timepoint": 773,
           "trajectory": "Ensemble Model Posterior Forecasts",
           "upper": 0.002253545401617885
          },
          {
           "lower": 0.0018972151214256884,
           "timepoint": 774,
           "trajectory": "Ensemble Model Posterior Forecasts",
           "upper": 0.0021727004088461397
          },
          {
           "lower": 0.0018302881042473018,
           "timepoint": 775,
           "trajectory": "Ensemble Model Posterior Forecasts",
           "upper": 0.002094762399792671
          },
          {
           "lower": 0.0017657434451393782,
           "timepoint": 776,
           "trajectory": "Ensemble Model Posterior Forecasts",
           "upper": 0.0020196239580400287
          },
          {
           "lower": 0.001703498070128262,
           "timepoint": 777,
           "trajectory": "Ensemble Model Posterior Forecasts",
           "upper": 0.0019471903797239065
          },
          {
           "lower": 0.0016434696619398892,
           "timepoint": 778,
           "trajectory": "Ensemble Model Posterior Forecasts",
           "upper": 0.0018773635267280043
          },
          {
           "lower": 0.0015855799545533955,
           "timepoint": 779,
           "trajectory": "Ensemble Model Posterior Forecasts",
           "upper": 0.0018100499408319592
          },
          {
           "lower": 0.001529758027754724,
           "timepoint": 780,
           "trajectory": "Ensemble Model Posterior Forecasts",
           "upper": 0.0017451651860028506
          },
          {
           "lower": 0.0014759253710508347,
           "timepoint": 781,
           "trajectory": "Ensemble Model Posterior Forecasts",
           "upper": 0.001682615978643298
          },
          {
           "lower": 0.0014240139513276517,
           "timepoint": 782,
           "trajectory": "Ensemble Model Posterior Forecasts",
           "upper": 0.0016223221318796277
          },
          {
           "lower": 0.001373956457246095,
           "timepoint": 783,
           "trajectory": "Ensemble Model Posterior Forecasts",
           "upper": 0.0015641999896615743
          },
          {
           "lower": 0.0013256818405352534,
           "timepoint": 784,
           "trajectory": "Ensemble Model Posterior Forecasts",
           "upper": 0.0015081751509569586
          },
          {
           "lower": 0.0012791340472176672,
           "timepoint": 785,
           "trajectory": "Ensemble Model Posterior Forecasts",
           "upper": 0.0014541713404469191
          },
          {
           "lower": 0.0012342491187155246,
           "timepoint": 786,
           "trajectory": "Ensemble Model Posterior Forecasts",
           "upper": 0.0014021169510670007
          },
          {
           "lower": 0.001190965180285275,
           "timepoint": 787,
           "trajectory": "Ensemble Model Posterior Forecasts",
           "upper": 0.0013519380590878427
          },
          {
           "lower": 0.0011492290999740363,
           "timepoint": 788,
           "trajectory": "Ensemble Model Posterior Forecasts",
           "upper": 0.001303571683820337
          },
          {
           "lower": 0.0011089839274063707,
           "timepoint": 789,
           "trajectory": "Ensemble Model Posterior Forecasts",
           "upper": 0.001256951130926609
          },
          {
           "lower": 0.001070176810026169,
           "timepoint": 790,
           "trajectory": "Ensemble Model Posterior Forecasts",
           "upper": 0.0012120134895667433
          },
          {
           "lower": 0.0010327566997148097,
           "timepoint": 791,
           "trajectory": "Ensemble Model Posterior Forecasts",
           "upper": 0.0011686998535878957
          },
          {
           "lower": 0.0009966734913177788,
           "timepoint": 792,
           "trajectory": "Ensemble Model Posterior Forecasts",
           "upper": 0.0011269491165876388
          },
          {
           "lower": 0.0009618799085728824,
           "timepoint": 793,
           "trajectory": "Ensemble Model Posterior Forecasts",
           "upper": 0.0010867059347219766
          },
          {
           "lower": 0.0009283297462388873,
           "timepoint": 794,
           "trajectory": "Ensemble Model Posterior Forecasts",
           "upper": 0.0010479163494892419
          },
          {
           "lower": 0.00089597855694592,
           "timepoint": 795,
           "trajectory": "Ensemble Model Posterior Forecasts",
           "upper": 0.0010105275316163898
          },
          {
           "lower": 0.0008647832612041384,
           "timepoint": 796,
           "trajectory": "Ensemble Model Posterior Forecasts",
           "upper": 0.0009744900627993048
          },
          {
           "lower": 0.0008347027178388089,
           "timepoint": 797,
           "trajectory": "Ensemble Model Posterior Forecasts",
           "upper": 0.0009397535293828696
          },
          {
           "lower": 0.0008056972117628902,
           "timepoint": 798,
           "trajectory": "Ensemble Model Posterior Forecasts",
           "upper": 0.0009062716679181903
          },
          {
           "lower": 0.0007777281804010272,
           "timepoint": 799,
           "trajectory": "Ensemble Model Posterior Forecasts",
           "upper": 0.0008739993150811643
          },
          {
           "lower": 0.0028603037586435675,
           "timepoint": 679,
           "trajectory": "Ensemble Model Prior Forecasts",
           "upper": 0.0028603307902812956
          },
          {
           "lower": 0.00887348297983408,
           "timepoint": 680,
           "trajectory": "Ensemble Model Prior Forecasts",
           "upper": 0.00988621637225151
          },
          {
           "lower": 0.012392042111605406,
           "timepoint": 681,
           "trajectory": "Ensemble Model Prior Forecasts",
           "upper": 0.014631495531648397
          },
          {
           "lower": 0.015484394505620003,
           "timepoint": 682,
           "trajectory": "Ensemble Model Prior Forecasts",
           "upper": 0.019516641460359096
          },
          {
           "lower": 0.018776619993150234,
           "timepoint": 683,
           "trajectory": "Ensemble Model Prior Forecasts",
           "upper": 0.0251133119687438
          },
          {
           "lower": 0.022494891285896303,
           "timepoint": 684,
           "trajectory": "Ensemble Model Prior Forecasts",
           "upper": 0.03168448135256767
          },
          {
           "lower": 0.026744007132947445,
           "timepoint": 685,
           "trajectory": "Ensemble Model Prior Forecasts",
           "upper": 0.03940447624772787
          },
          {
           "lower": 0.03157833926379681,
           "timepoint": 686,
           "trajectory": "Ensemble Model Prior Forecasts",
           "upper": 0.04838243573904037
          },
          {
           "lower": 0.03701473996043205,
           "timepoint": 687,
           "trajectory": "Ensemble Model Prior Forecasts",
           "upper": 0.05865080580115318
          },
          {
           "lower": 0.04303013756871223,
           "timepoint": 688,
           "trajectory": "Ensemble Model Prior Forecasts",
           "upper": 0.07014736458659172
          },
          {
           "lower": 0.04955706410109997,
           "timepoint": 689,
           "trajectory": "Ensemble Model Prior Forecasts",
           "upper": 0.08270324319601059
          },
          {
           "lower": 0.05648309402167797,
           "timepoint": 690,
           "trajectory": "Ensemble Model Prior Forecasts",
           "upper": 0.09604360833764077
          },
          {
           "lower": 0.06365581154823304,
           "timepoint": 691,
           "trajectory": "Ensemble Model Prior Forecasts",
           "upper": 0.10980634242296218
          },
          {
           "lower": 0.07089436426758766,
           "timepoint": 692,
           "trajectory": "Ensemble Model Prior Forecasts",
           "upper": 0.12357624173164367
          },
          {
           "lower": 0.07800492644309998,
           "timepoint": 693,
           "trajectory": "Ensemble Model Prior Forecasts",
           "upper": 0.13692790865898133
          },
          {
           "lower": 0.08479779213666916,
           "timepoint": 694,
           "trajectory": "Ensemble Model Prior Forecasts",
           "upper": 0.14946762844920158
          },
          {
           "lower": 0.09110272154211999,
           "timepoint": 695,
           "trajectory": "Ensemble Model Prior Forecasts",
           "upper": 0.16086667627096177
          },
          {
           "lower": 0.09677996039390564,
           "timepoint": 696,
           "trajectory": "Ensemble Model Prior Forecasts",
           "upper": 0.1708807587623596
          },
          {
           "lower": 0.1017275683581829,
           "timepoint": 697,
           "trajectory": "Ensemble Model Prior Forecasts",
           "upper": 0.17935598120093346
          },
          {
           "lower": 0.1058815822005272,
           "timepoint": 698,
           "trajectory": "Ensemble Model Prior Forecasts",
           "upper": 0.18622362613677979
          },
          {
           "lower": 0.1092149257659912,
           "timepoint": 699,
           "trajectory": "Ensemble Model Prior Forecasts",
           "upper": 0.19148805290460585
          },
          {
           "lower": 0.11173197031021118,
           "timepoint": 700,
           "trajectory": "Ensemble Model Prior Forecasts",
           "upper": 0.19521105885505677
          },
          {
           "lower": 0.11346272975206376,
           "timepoint": 701,
           "trajectory": "Ensemble Model Prior Forecasts",
           "upper": 0.19749576151371
          },
          {
           "lower": 0.11445604041218757,
           "timepoint": 702,
           "trajectory": "Ensemble Model Prior Forecasts",
           "upper": 0.1984723553061485
          },
          {
           "lower": 0.11477372720837593,
           "timepoint": 703,
           "trajectory": "Ensemble Model Prior Forecasts",
           "upper": 0.1982846602797508
          },
          {
           "lower": 0.11448518410325051,
           "timepoint": 704,
           "trajectory": "Ensemble Model Prior Forecasts",
           "upper": 0.19708062559366227
          },
          {
           "lower": 0.11366311311721802,
           "timepoint": 705,
           "trajectory": "Ensemble Model Prior Forecasts",
           "upper": 0.19500714987516402
          },
          {
           "lower": 0.11237978786230088,
           "timepoint": 706,
           "trajectory": "Ensemble Model Prior Forecasts",
           "upper": 0.1922024354338646
          },
          {
           "lower": 0.1107051894068718,
           "timepoint": 707,
           "trajectory": "Ensemble Model Prior Forecasts",
           "upper": 0.18879432529211043
          },
          {
           "lower": 0.10870500430464744,
           "timepoint": 708,
           "trajectory": "Ensemble Model Prior Forecasts",
           "upper": 0.18489862978458405
          },
          {
           "lower": 0.10643919631838798,
           "timepoint": 709,
           "trajectory": "Ensemble Model Prior Forecasts",
           "upper": 0.18061791956424714
          },
          {
           "lower": 0.10396229699254037,
           "timepoint": 710,
           "trajectory": "Ensemble Model Prior Forecasts",
           "upper": 0.17604292929172516
          },
          {
           "lower": 0.10132258906960487,
           "timepoint": 711,
           "trajectory": "Ensemble Model Prior Forecasts",
           "upper": 0.17125056087970733
          },
          {
           "lower": 0.09856244176626205,
           "timepoint": 712,
           "trajectory": "Ensemble Model Prior Forecasts",
           "upper": 0.1663080945611
          },
          {
           "lower": 0.09571857303380966,
           "timepoint": 713,
           "trajectory": "Ensemble Model Prior Forecasts",
           "upper": 0.16127176806330681
          },
          {
           "lower": 0.09282251670956612,
           "timepoint": 714,
           "trajectory": "Ensemble Model Prior Forecasts",
           "upper": 0.15618891343474386
          },
          {
           "lower": 0.08990090638399124,
           "timepoint": 715,
           "trajectory": "Ensemble Model Prior Forecasts",
           "upper": 0.15109882429242133
          },
          {
           "lower": 0.08697612062096596,
           "timepoint": 716,
           "trajectory": "Ensemble Model Prior Forecasts",
           "upper": 0.14603386372327803
          },
          {
           "lower": 0.0840667724609375,
           "timepoint": 717,
           "trajectory": "Ensemble Model Prior Forecasts",
           "upper": 0.1410204030573368
          },
          {
           "lower": 0.08118804916739464,
           "timepoint": 718,
           "trajectory": "Ensemble Model Prior Forecasts",
           "upper": 0.1360796108841896
          },
          {
           "lower": 0.07835231497883796,
           "timepoint": 719,
           "trajectory": "Ensemble Model Prior Forecasts",
           "upper": 0.13122814968228338
          },
          {
           "lower": 0.07556935697793961,
           "timepoint": 720,
           "trajectory": "Ensemble Model Prior Forecasts",
           "upper": 0.12647951468825339
          },
          {
           "lower": 0.07284689098596572,
           "timepoint": 721,
           "trajectory": "Ensemble Model Prior Forecasts",
           "upper": 0.12184373512864112
          },
          {
           "lower": 0.07019075229763985,
           "timepoint": 722,
           "trajectory": "Ensemble Model Prior Forecasts",
           "upper": 0.11732794046401977
          },
          {
           "lower": 0.06760526522994041,
           "timepoint": 723,
           "trajectory": "Ensemble Model Prior Forecasts",
           "upper": 0.11293759495019913
          },
          {
           "lower": 0.06509350538253784,
           "timepoint": 724,
           "trajectory": "Ensemble Model Prior Forecasts",
           "upper": 0.1086762435734272
          },
          {
           "lower": 0.06265743523836136,
           "timepoint": 725,
           "trajectory": "Ensemble Model Prior Forecasts",
           "upper": 0.10454600304365158
          },
          {
           "lower": 0.06029811315238476,
           "timepoint": 726,
           "trajectory": "Ensemble Model Prior Forecasts",
           "upper": 0.10054739192128181
          },
          {
           "lower": 0.0580158993601799,
           "timepoint": 727,
           "trajectory": "Ensemble Model Prior Forecasts",
           "upper": 0.09668070003390312
          },
          {
           "lower": 0.055810656398534775,
           "timepoint": 728,
           "trajectory": "Ensemble Model Prior Forecasts",
           "upper": 0.09294476062059402
          },
          {
           "lower": 0.053681605681777,
           "timepoint": 729,
           "trajectory": "Ensemble Model Prior Forecasts",
           "upper": 0.08933801725506782
          },
          {
           "lower": 0.051627719029784205,
           "timepoint": 730,
           "trajectory": "Ensemble Model Prior Forecasts",
           "upper": 0.08585855662822724
          },
          {
           "lower": 0.049647556617856026,
           "timepoint": 731,
           "trajectory": "Ensemble Model Prior Forecasts",
           "upper": 0.08250371515750884
          },
          {
           "lower": 0.047739559039473536,
           "timepoint": 732,
           "trajectory": "Ensemble Model Prior Forecasts",
           "upper": 0.07927071638405322
          },
          {
           "lower": 0.04590195715427399,
           "timepoint": 733,
           "trajectory": "Ensemble Model Prior Forecasts",
           "upper": 0.07615683227777481
          },
          {
           "lower": 0.04413286969065666,
           "timepoint": 734,
           "trajectory": "Ensemble Model Prior Forecasts",
           "upper": 0.07315860912203788
          },
          {
           "lower": 0.042430229112505914,
           "timepoint": 735,
           "trajectory": "Ensemble Model Prior Forecasts",
           "upper": 0.07027289979159831
          },
          {
           "lower": 0.040792140364646914,
           "timepoint": 736,
           "trajectory": "Ensemble Model Prior Forecasts",
           "upper": 0.06749633736908436
          },
          {
           "lower": 0.039216451719403266,
           "timepoint": 737,
           "trajectory": "Ensemble Model Prior Forecasts",
           "upper": 0.06482537873089314
          },
          {
           "lower": 0.03770098127424717,
           "timepoint": 738,
           "trajectory": "Ensemble Model Prior Forecasts",
           "upper": 0.062256785854697225
          },
          {
           "lower": 0.03624378740787506,
           "timepoint": 739,
           "trajectory": "Ensemble Model Prior Forecasts",
           "upper": 0.05978712178766727
          },
          {
           "lower": 0.03484282568097115,
           "timepoint": 740,
           "trajectory": "Ensemble Model Prior Forecasts",
           "upper": 0.0574130043387413
          },
          {
           "lower": 0.03349603116512299,
           "timepoint": 741,
           "trajectory": "Ensemble Model Prior Forecasts",
           "upper": 0.055131128057837486
          },
          {
           "lower": 0.03220139257609844,
           "timepoint": 742,
           "trajectory": "Ensemble Model Prior Forecasts",
           "upper": 0.05293821096420288
          },
          {
           "lower": 0.03095702901482582,
           "timepoint": 743,
           "trajectory": "Ensemble Model Prior Forecasts",
           "upper": 0.050831084698438646
          },
          {
           "lower": 0.029761053062975405,
           "timepoint": 744,
           "trajectory": "Ensemble Model Prior Forecasts",
           "upper": 0.04880664311349392
          },
          {
           "lower": 0.02861164677888155,
           "timepoint": 745,
           "trajectory": "Ensemble Model Prior Forecasts",
           "upper": 0.046861767396330835
          },
          {
           "lower": 0.02750695701688528,
           "timepoint": 746,
           "trajectory": "Ensemble Model Prior Forecasts",
           "upper": 0.04499358683824539
          },
          {
           "lower": 0.02644534092396498,
           "timepoint": 747,
           "trajectory": "Ensemble Model Prior Forecasts",
           "upper": 0.04319913424551487
          },
          {
           "lower": 0.02542510014027357,
           "timepoint": 748,
           "trajectory": "Ensemble Model Prior Forecasts",
           "upper": 0.041475655138492586
          },
          {
           "lower": 0.024444641172885896,
           "timepoint": 749,
           "trajectory": "Ensemble Model Prior Forecasts",
           "upper": 0.03982056193053722
          },
          {
           "lower": 0.023502390645444394,
           "timepoint": 750,
           "trajectory": "Ensemble Model Prior Forecasts",
           "upper": 0.038231106102466585
          },
          {
           "lower": 0.02259695138782263,
           "timepoint": 751,
           "trajectory": "Ensemble Model Prior Forecasts",
           "upper": 0.036704768985509874
          },
          {
           "lower": 0.02172677554190159,
           "timepoint": 752,
           "trajectory": "Ensemble Model Prior Forecasts",
           "upper": 0.03523915447294712
          },
          {
           "lower": 0.020890538953244685,
           "timepoint": 753,
           "trajectory": "Ensemble Model Prior Forecasts",
           "upper": 0.033831882290542126
          },
          {
           "lower": 0.020086883939802645,
           "timepoint": 754,
           "trajectory": "Ensemble Model Prior Forecasts",
           "upper": 0.03248069118708372
          },
          {
           "lower": 0.0193145327270031,
           "timepoint": 755,
           "trajectory": "Ensemble Model Prior Forecasts",
           "upper": 0.031183383055031298
          },
          {
           "lower": 0.018572288937866686,
           "timepoint": 756,
           "trajectory": "Ensemble Model Prior Forecasts",
           "upper": 0.02993784286081791
          },
          {
           "lower": 0.017858923599123954,
           "timepoint": 757,
           "trajectory": "Ensemble Model Prior Forecasts",
           "upper": 0.02874203696846962
          },
          {
           "lower": 0.017173316888511182,
           "timepoint": 758,
           "trajectory": "Ensemble Model Prior Forecasts",
           "upper": 0.027594010718166827
          },
          {
           "lower": 0.016514401137828826,
           "timepoint": 759,
           "trajectory": "Ensemble Model Prior Forecasts",
           "upper": 0.026491868309676647
          },
          {
           "lower": 0.015881094336509704,
           "timepoint": 760,
           "trajectory": "Ensemble Model Prior Forecasts",
           "upper": 0.025433810241520406
          },
          {
           "lower": 0.015272396057844162,
           "timepoint": 761,
           "trajectory": "Ensemble Model Prior Forecasts",
           "upper": 0.024418090097606183
          },
          {
           "lower": 0.014687375072389841,
           "timepoint": 762,
           "trajectory": "Ensemble Model Prior Forecasts",
           "upper": 0.02344298455864191
          },
          {
           "lower": 0.014125051256269217,
           "timepoint": 763,
           "trajectory": "Ensemble Model Prior Forecasts",
           "upper": 0.022506941854953767
          },
          {
           "lower": 0.013584558572620153,
           "timepoint": 764,
           "trajectory": "Ensemble Model Prior Forecasts",
           "upper": 0.021608377620577813
          },
          {
           "lower": 0.013065042626112699,
           "timepoint": 765,
           "trajectory": "Ensemble Model Prior Forecasts",
           "upper": 0.02074578031897545
          },
          {
           "lower": 0.012565670162439346,
           "timepoint": 766,
           "trajectory": "Ensemble Model Prior Forecasts",
           "upper": 0.019917752593755722
          },
          {
           "lower": 0.012085653934627771,
           "timepoint": 767,
           "trajectory": "Ensemble Model Prior Forecasts",
           "upper": 0.019122896157205103
          },
          {
           "lower": 0.011624238267540932,
           "timepoint": 768,
           "trajectory": "Ensemble Model Prior Forecasts",
           "upper": 0.018359878659248353
          },
          {
           "lower": 0.011180694494396449,
           "timepoint": 769,
           "trajectory": "Ensemble Model Prior Forecasts",
           "upper": 0.017627478577196598
          },
          {
           "lower": 0.010754320584237576,
           "timepoint": 770,
           "trajectory": "Ensemble Model Prior Forecasts",
           "upper": 0.01692440966144204
          },
          {
           "lower": 0.010344445239752531,
           "timepoint": 771,
           "trajectory": "Ensemble Model Prior Forecasts",
           "upper": 0.016249519493430852
          },
          {
           "lower": 0.009950423613190651,
           "timepoint": 772,
           "trajectory": "Ensemble Model Prior Forecasts",
           "upper": 0.015601691324263811
          },
          {
           "lower": 0.009571635443717242,
           "timepoint": 773,
           "trajectory": "Ensemble Model Prior Forecasts",
           "upper": 0.014979822933673859
          },
          {
           "lower": 0.009207487478852272,
           "timepoint": 774,
           "trajectory": "Ensemble Model Prior Forecasts",
           "upper": 0.014382884372025728
          },
          {
           "lower": 0.008857408445328474,
           "timepoint": 775,
           "trajectory": "Ensemble Model Prior Forecasts",
           "upper": 0.013809875212609768
          },
          {
           "lower": 0.008520847372710704,
           "timepoint": 776,
           "trajectory": "Ensemble Model Prior Forecasts",
           "upper": 0.013259836286306382
          },
          {
           "lower": 0.00819726991467178,
           "timepoint": 777,
           "trajectory": "Ensemble Model Prior Forecasts",
           "upper": 0.01273185145109892
          },
          {
           "lower": 0.007886181538924574,
           "timepoint": 778,
           "trajectory": "Ensemble Model Prior Forecasts",
           "upper": 0.012225027196109295
          },
          {
           "lower": 0.007587090507149697,
           "timepoint": 779,
           "trajectory": "Ensemble Model Prior Forecasts",
           "upper": 0.011738519743084907
          },
          {
           "lower": 0.00729952952824533,
           "timepoint": 780,
           "trajectory": "Ensemble Model Prior Forecasts",
           "upper": 0.011271514371037484
          },
          {
           "lower": 0.007023056922480464,
           "timepoint": 781,
           "trajectory": "Ensemble Model Prior Forecasts",
           "upper": 0.010823205206543207
          },
          {
           "lower": 0.0067572300788015125,
           "timepoint": 782,
           "trajectory": "Ensemble Model Prior Forecasts",
           "upper": 0.010392870940268039
          },
          {
           "lower": 0.006501638377085328,
           "timepoint": 783,
           "trajectory": "Ensemble Model Prior Forecasts",
           "upper": 0.00997978076338768
          },
          {
           "lower": 0.006255885865539312,
           "timepoint": 784,
           "trajectory": "Ensemble Model Prior Forecasts",
           "upper": 0.009583242423832416
          },
          {
           "lower": 0.006019588233903051,
           "timepoint": 785,
           "trajectory": "Ensemble Model Prior Forecasts",
           "upper": 0.00920258704572916
          },
          {
           "lower": 0.005792378587648273,
           "timepoint": 786,
           "trajectory": "Ensemble Model Prior Forecasts",
           "upper": 0.008837179094552994
          },
          {
           "lower": 0.005573905445635319,
           "timepoint": 787,
           "trajectory": "Ensemble Model Prior Forecasts",
           "upper": 0.008486406411975622
          },
          {
           "lower": 0.005363826965913176,
           "timepoint": 788,
           "trajectory": "Ensemble Model Prior Forecasts",
           "upper": 0.008149682823568583
          },
          {
           "lower": 0.005161817790940404,
           "timepoint": 789,
           "trajectory": "Ensemble Model Prior Forecasts",
           "upper": 0.007826436962932348
          },
          {
           "lower": 0.004967569839209318,
           "timepoint": 790,
           "trajectory": "Ensemble Model Prior Forecasts",
           "upper": 0.007516131922602654
          },
          {
           "lower": 0.004780776193365454,
           "timepoint": 791,
           "trajectory": "Ensemble Model Prior Forecasts",
           "upper": 0.007218249561265111
          },
          {
           "lower": 0.004601149400696158,
           "timepoint": 792,
           "trajectory": "Ensemble Model Prior Forecasts",
           "upper": 0.00693228910677135
          },
          {
           "lower": 0.004426147742196918,
           "timepoint": 793,
           "trajectory": "Ensemble Model Prior Forecasts",
           "upper": 0.006675903778523206
          },
          {
           "lower": 0.0042570009361952545,
           "timepoint": 794,
           "trajectory": "Ensemble Model Prior Forecasts",
           "upper": 0.006436578230932355
          },
          {
           "lower": 0.004094447381794453,
           "timepoint": 795,
           "trajectory": "Ensemble Model Prior Forecasts",
           "upper": 0.006206023972481489
          },
          {
           "lower": 0.003938224329613149,
           "timepoint": 796,
           "trajectory": "Ensemble Model Prior Forecasts",
           "upper": 0.005983890872448683
          },
          {
           "lower": 0.003788080927915871,
           "timepoint": 797,
           "trajectory": "Ensemble Model Prior Forecasts",
           "upper": 0.005769878625869751
          },
          {
           "lower": 0.003643781039863825,
           "timepoint": 798,
           "trajectory": "Ensemble Model Prior Forecasts",
           "upper": 0.005563691165298224
          },
          {
           "lower": 0.0035050982609391213,
           "timepoint": 799,
           "trajectory": "Ensemble Model Prior Forecasts",
           "upper": 0.005365035450085998
          }
         ]
        },
        {
         "name": "traces",
         "transform": [
          {
           "expr": "isValid(datum.value)",
           "type": "filter"
          }
         ],
         "values": []
        },
        {
         "name": "points",
         "values": [
          {
           "sample_id": 0,
           "timepoint": 679,
           "trajectory": "Reported Cases - Training Data",
           "value": 0.0028602226293839915
          },
          {
           "sample_id": 0,
           "timepoint": 680,
           "trajectory": "Reported Cases - Training Data",
           "value": 0.0028512318001051814
          },
          {
           "sample_id": 0,
           "timepoint": 681,
           "trajectory": "Reported Cases - Training Data",
           "value": 0.0030509222160845484
          },
          {
           "sample_id": 0,
           "timepoint": 682,
           "trajectory": "Reported Cases - Training Data",
           "value": 0.0029190607373453213
          },
          {
           "sample_id": 0,
           "timepoint": 683,
           "trajectory": "Reported Cases - Training Data",
           "value": 0.002977829546019314
          },
          {
           "sample_id": 0,
           "timepoint": 684,
           "trajectory": "Reported Cases - Training Data",
           "value": 0.0033400719859905765
          },
          {
           "sample_id": 0,
           "timepoint": 685,
           "trajectory": "Reported Cases - Training Data",
           "value": 0.0035931710614190695
          },
          {
           "sample_id": 0,
           "timepoint": 686,
           "trajectory": "Reported Cases - Training Data",
           "value": 0.003907292678866244
          },
          {
           "sample_id": 0,
           "timepoint": 687,
           "trajectory": "Reported Cases - Training Data",
           "value": 0.0037228420800759594
          },
          {
           "sample_id": 0,
           "timepoint": 688,
           "trajectory": "Reported Cases - Training Data",
           "value": 0.0038427901074182644
          },
          {
           "sample_id": 0,
           "timepoint": 689,
           "trajectory": "Reported Cases - Training Data",
           "value": 0.0036039787372310977
          },
          {
           "sample_id": 0,
           "timepoint": 690,
           "trajectory": "Reported Cases - Training Data",
           "value": 0.003349333986393748
          },
          {
           "sample_id": 0,
           "timepoint": 691,
           "trajectory": "Reported Cases - Training Data",
           "value": 0.0034254306299144025
          },
          {
           "sample_id": 0,
           "timepoint": 692,
           "trajectory": "Reported Cases - Training Data",
           "value": 0.0035626492448660035
          },
          {
           "sample_id": 0,
           "timepoint": 693,
           "trajectory": "Reported Cases - Training Data",
           "value": 0.003830967046396129
          },
          {
           "sample_id": 0,
           "timepoint": 694,
           "trajectory": "Reported Cases - Training Data",
           "value": 0.0037323541605160412
          },
          {
           "sample_id": 0,
           "timepoint": 695,
           "trajectory": "Reported Cases - Training Data",
           "value": 0.003973515680447668
          },
          {
           "sample_id": 0,
           "timepoint": 696,
           "trajectory": "Reported Cases - Training Data",
           "value": 0.003769543773715892
          },
          {
           "sample_id": 0,
           "timepoint": 697,
           "trajectory": "Reported Cases - Training Data",
           "value": 0.003670066153250342
          },
          {
           "sample_id": 0,
           "timepoint": 698,
           "trajectory": "Reported Cases - Training Data",
           "value": 0.003922396910493146
          },
          {
           "sample_id": 0,
           "timepoint": 699,
           "trajectory": "Reported Cases - Training Data",
           "value": 0.004297613382258831
          },
          {
           "sample_id": 0,
           "timepoint": 700,
           "trajectory": "Reported Cases - Training Data",
           "value": 0.004883514752590471
          },
          {
           "sample_id": 0,
           "timepoint": 701,
           "trajectory": "Reported Cases - Training Data",
           "value": 0.0051581056461308126
          },
          {
           "sample_id": 0,
           "timepoint": 702,
           "trajectory": "Reported Cases - Training Data",
           "value": 0.0055646182786602385
          },
          {
           "sample_id": 0,
           "timepoint": 703,
           "trajectory": "Reported Cases - Training Data",
           "value": 0.005391972662817131
          },
          {
           "sample_id": 0,
           "timepoint": 704,
           "trajectory": "Reported Cases - Training Data",
           "value": 0.0055165034821611355
          },
          {
           "sample_id": 0,
           "timepoint": 705,
           "trajectory": "Reported Cases - Training Data",
           "value": 0.0064612697054594985
          },
          {
           "sample_id": 0,
           "timepoint": 706,
           "trajectory": "Reported Cases - Training Data",
           "value": 0.007337390465132146
          },
          {
           "sample_id": 0,
           "timepoint": 707,
           "trajectory": "Reported Cases - Training Data",
           "value": 0.008603154000386479
          },
          {
           "sample_id": 0,
           "timepoint": 708,
           "trajectory": "Reported Cases - Training Data",
           "value": 0.009678151662665412
          },
          {
           "sample_id": 0,
           "timepoint": 709,
           "trajectory": "Reported Cases - Training Data",
           "value": 0.010671746766423695
          },
          {
           "sample_id": 0,
           "timepoint": 710,
           "trajectory": "Reported Cases - Training Data",
           "value": 0.01050415397253118
          },
          {
           "sample_id": 0,
           "timepoint": 711,
           "trajectory": "Reported Cases - Training Data",
           "value": 0.010570000347550991
          },
          {
           "sample_id": 0,
           "timepoint": 712,
           "trajectory": "Reported Cases - Training Data",
           "value": 0.012963889994371543
          },
          {
           "sample_id": 0,
           "timepoint": 713,
           "trajectory": "Reported Cases - Training Data",
           "value": 0.01519500164126323
          },
          {
           "sample_id": 0,
           "timepoint": 714,
           "trajectory": "Reported Cases - Training Data",
           "value": 0.01667816607993019
          },
          {
           "sample_id": 0,
           "timepoint": 715,
           "trajectory": "Reported Cases - Training Data",
           "value": 0.017698164212163744
          },
          {
           "sample_id": 0,
           "timepoint": 716,
           "trajectory": "Reported Cases - Training Data",
           "value": 0.0192243544692293
          },
          {
           "sample_id": 0,
           "timepoint": 717,
           "trajectory": "Reported Cases - Training Data",
           "value": 0.018915996744681043
          },
          {
           "sample_id": 0,
           "timepoint": 718,
           "trajectory": "Reported Cases - Training Data",
           "value": 0.01860103449674835
          },
          {
           "sample_id": 0,
           "timepoint": 719,
           "trajectory": "Reported Cases - Training Data",
           "value": 0.02113938604055343
          },
          {
           "sample_id": 0,
           "timepoint": 720,
           "trajectory": "Reported Cases - Training Data",
           "value": 0.02292907930518546
          },
          {
           "sample_id": 0,
           "timepoint": 721,
           "trajectory": "Reported Cases - Training Data",
           "value": 0.024609210396538204
          },
          {
           "sample_id": 0,
           "timepoint": 722,
           "trajectory": "Reported Cases - Training Data",
           "value": 0.024074427796161087
          },
          {
           "sample_id": 0,
           "timepoint": 723,
           "trajectory": "Reported Cases - Training Data",
           "value": 0.024226108871078605
          },
          {
           "sample_id": 0,
           "timepoint": 724,
           "trajectory": "Reported Cases - Training Data",
           "value": 0.023444310467496156
          },
          {
           "sample_id": 0,
           "timepoint": 725,
           "trajectory": "Reported Cases - Training Data",
           "value": 0.022364133436741932
          },
          {
           "sample_id": 0,
           "timepoint": 726,
           "trajectory": "Reported Cases - Training Data",
           "value": 0.021705030927895313
          },
          {
           "sample_id": 0,
           "timepoint": 727,
           "trajectory": "Reported Cases - Training Data",
           "value": 0.023887027458140257
          },
          {
           "sample_id": 0,
           "timepoint": 728,
           "trajectory": "Reported Cases - Training Data",
           "value": 0.025141745289595622
          },
          {
           "sample_id": 0,
           "timepoint": 729,
           "trajectory": "Reported Cases - Training Data",
           "value": 0.02326275838672404
          },
          {
           "sample_id": 0,
           "timepoint": 730,
           "trajectory": "Reported Cases - Training Data",
           "value": 0.023321578416610412
          },
          {
           "sample_id": 0,
           "timepoint": 731,
           "trajectory": "Reported Cases - Training Data",
           "value": 0.021682770791597774
          },
          {
           "sample_id": 0,
           "timepoint": 732,
           "trajectory": "Reported Cases - Training Data",
           "value": 0.020193212740420883
          },
          {
           "sample_id": 0,
           "timepoint": 733,
           "trajectory": "Reported Cases - Training Data",
           "value": 0.02028240694924817
          },
          {
           "sample_id": 0,
           "timepoint": 734,
           "trajectory": "Reported Cases - Training Data",
           "value": 0.020511266339171292
          },
          {
           "sample_id": 0,
           "timepoint": 735,
           "trajectory": "Reported Cases - Training Data",
           "value": 0.02108676076435246
          },
          {
           "sample_id": 0,
           "timepoint": 736,
           "trajectory": "Reported Cases - Training Data",
           "value": 0.020613862427566992
          },
          {
           "sample_id": 0,
           "timepoint": 737,
           "trajectory": "Reported Cases - Training Data",
           "value": 0.01904642402947365
          },
          {
           "sample_id": 0,
           "timepoint": 738,
           "trajectory": "Reported Cases - Training Data",
           "value": 0.016855442695974884
          },
          {
           "sample_id": 0,
           "timepoint": 739,
           "trajectory": "Reported Cases - Training Data",
           "value": 0.015258937766362545
          },
          {
           "sample_id": 0,
           "timepoint": 740,
           "trajectory": "Reported Cases - Training Data",
           "value": 0.014444137836945375
          },
          {
           "sample_id": 0,
           "timepoint": 741,
           "trajectory": "Reported Cases - Training Data",
           "value": 0.014493786256803363
          },
          {
           "sample_id": 0,
           "timepoint": 742,
           "trajectory": "Reported Cases - Training Data",
           "value": 0.014361737971289576
          },
          {
           "sample_id": 0,
           "timepoint": 743,
           "trajectory": "Reported Cases - Training Data",
           "value": 0.012448095398724672
          },
          {
           "sample_id": 0,
           "timepoint": 744,
           "trajectory": "Reported Cases - Training Data",
           "value": 0.012033751946726203
          },
          {
           "sample_id": 0,
           "timepoint": 745,
           "trajectory": "Reported Cases - Training Data",
           "value": 0.01026004873939399
          },
          {
           "sample_id": 0,
           "timepoint": 746,
           "trajectory": "Reported Cases - Training Data",
           "value": 0.008999805043026648
          },
          {
           "sample_id": 0,
           "timepoint": 747,
           "trajectory": "Reported Cases - Training Data",
           "value": 0.008186125954256836
          },
          {
           "sample_id": 0,
           "timepoint": 748,
           "trajectory": "Reported Cases - Training Data",
           "value": 0.0082799541762982
          },
          {
           "sample_id": 0,
           "timepoint": 749,
           "trajectory": "Reported Cases - Training Data",
           "value": 0.008238196836159114
          },
          {
           "sample_id": 0,
           "timepoint": 750,
           "trajectory": "Reported Cases - Training Data",
           "value": 0.007138597926875663
          },
          {
           "sample_id": 0,
           "timepoint": 751,
           "trajectory": "Reported Cases - Training Data",
           "value": 0.006782260991390483
          },
          {
           "sample_id": 0,
           "timepoint": 752,
           "trajectory": "Reported Cases - Training Data",
           "value": 0.005955791664588316
          },
          {
           "sample_id": 0,
           "timepoint": 753,
           "trajectory": "Reported Cases - Training Data",
           "value": 0.0053097113957360055
          },
          {
           "sample_id": 0,
           "timepoint": 754,
           "trajectory": "Reported Cases - Training Data",
           "value": 0.00474465404583024
          },
          {
           "sample_id": 0,
           "timepoint": 755,
           "trajectory": "Reported Cases - Training Data",
           "value": 0.004810828839211779
          },
          {
           "sample_id": 0,
           "timepoint": 756,
           "trajectory": "Reported Cases - Training Data",
           "value": 0.00489755539080738
          },
          {
           "sample_id": 0,
           "timepoint": 757,
           "trajectory": "Reported Cases - Training Data",
           "value": 0.0041704522030085265
          },
          {
           "sample_id": 0,
           "timepoint": 758,
           "trajectory": "Reported Cases - Training Data",
           "value": 0.003959761278417585
          },
          {
           "sample_id": 0,
           "timepoint": 759,
           "trajectory": "Reported Cases - Training Data",
           "value": 0.003492762420093214
          },
          {
           "sample_id": 0,
           "timepoint": 760,
           "trajectory": "Reported Cases - Training Data",
           "value": 0.0030503858998608122
          },
          {
           "sample_id": 0,
           "timepoint": 761,
           "trajectory": "Reported Cases - Training Data",
           "value": 0.002663138469210982
          },
          {
           "sample_id": 0,
           "timepoint": 762,
           "trajectory": "Reported Cases - Training Data",
           "value": 0.002772775967802587
          },
          {
           "sample_id": 0,
           "timepoint": 763,
           "trajectory": "Reported Cases - Training Data",
           "value": 0.0028476493282511245
          },
          {
           "sample_id": 0,
           "timepoint": 764,
           "trajectory": "Reported Cases - Training Data",
           "value": 0.002544323334566007
          },
          {
           "sample_id": 0,
           "timepoint": 765,
           "trajectory": "Reported Cases - Training Data",
           "value": 0.0024336222425644085
          },
          {
           "sample_id": 0,
           "timepoint": 766,
           "trajectory": "Reported Cases - Training Data",
           "value": 0.002234871886482826
          },
          {
           "sample_id": 0,
           "timepoint": 767,
           "trajectory": "Reported Cases - Training Data",
           "value": 0.0019855902978828358
          },
          {
           "sample_id": 0,
           "timepoint": 768,
           "trajectory": "Reported Cases - Training Data",
           "value": 0.0018436050971674684
          },
          {
           "sample_id": 0,
           "timepoint": 769,
           "trajectory": "Reported Cases - Testing Data",
           "value": 0.0018866761107534582
          },
          {
           "sample_id": 0,
           "timepoint": 770,
           "trajectory": "Reported Cases - Testing Data",
           "value": 0.0019755057450691034
          },
          {
           "sample_id": 0,
           "timepoint": 771,
           "trajectory": "Reported Cases - Testing Data",
           "value": 0.0018816263018153596
          },
          {
           "sample_id": 0,
           "timepoint": 772,
           "trajectory": "Reported Cases - Testing Data",
           "value": 0.0017891780394957428
          },
          {
           "sample_id": 0,
           "timepoint": 773,
           "trajectory": "Reported Cases - Testing Data",
           "value": 0.0015819430402341569
          },
          {
           "sample_id": 0,
           "timepoint": 774,
           "trajectory": "Reported Cases - Testing Data",
           "value": 0.0014195296148169349
          },
          {
           "sample_id": 0,
           "timepoint": 775,
           "trajectory": "Reported Cases - Testing Data",
           "value": 0.0013587752309101215
          },
          {
           "sample_id": 0,
           "timepoint": 776,
           "trajectory": "Reported Cases - Testing Data",
           "value": 0.0013030134087040417
          },
          {
           "sample_id": 0,
           "timepoint": 777,
           "trajectory": "Reported Cases - Testing Data",
           "value": 0.0013583383440986512
          },
          {
           "sample_id": 0,
           "timepoint": 778,
           "trajectory": "Reported Cases - Testing Data",
           "value": 0.0012043824447489965
          },
          {
           "sample_id": 0,
           "timepoint": 779,
           "trajectory": "Reported Cases - Testing Data",
           "value": 0.0012113334645701141
          },
          {
           "sample_id": 0,
           "timepoint": 780,
           "trajectory": "Reported Cases - Testing Data",
           "value": 0.0010832623555469538
          },
          {
           "sample_id": 0,
           "timepoint": 781,
           "trajectory": "Reported Cases - Testing Data",
           "value": 0.0009712415640734657
          },
          {
           "sample_id": 0,
           "timepoint": 782,
           "trajectory": "Reported Cases - Testing Data",
           "value": 0.0008982392843830184
          },
          {
           "sample_id": 0,
           "timepoint": 783,
           "trajectory": "Reported Cases - Testing Data",
           "value": 0.0009230875984119556
          },
          {
           "sample_id": 0,
           "timepoint": 784,
           "trajectory": "Reported Cases - Testing Data",
           "value": 0.0010394230237752748
          },
          {
           "sample_id": 0,
           "timepoint": 785,
           "trajectory": "Reported Cases - Testing Data",
           "value": 0.0010350451166230928
          },
          {
           "sample_id": 0,
           "timepoint": 786,
           "trajectory": "Reported Cases - Testing Data",
           "value": 0.0010419629933067886
          },
          {
           "sample_id": 0,
           "timepoint": 787,
           "trajectory": "Reported Cases - Testing Data",
           "value": 0.0009643056093148125
          },
          {
           "sample_id": 0,
           "timepoint": 788,
           "trajectory": "Reported Cases - Testing Data",
           "value": 0.0008618601715437572
          },
          {
           "sample_id": 0,
           "timepoint": 789,
           "trajectory": "Reported Cases - Testing Data",
           "value": 0.0008386117671485493
          },
          {
           "sample_id": 0,
           "timepoint": 790,
           "trajectory": "Reported Cases - Testing Data",
           "value": 0.0008708841439599894
          },
          {
           "sample_id": 0,
           "timepoint": 791,
           "trajectory": "Reported Cases - Testing Data",
           "value": 0.0009570352101694475
          },
          {
           "sample_id": 0,
           "timepoint": 792,
           "trajectory": "Reported Cases - Testing Data",
           "value": 0.0009804794603766938
          },
          {
           "sample_id": 0,
           "timepoint": 793,
           "trajectory": "Reported Cases - Testing Data",
           "value": 0.0010434574475032665
          },
          {
           "sample_id": 0,
           "timepoint": 794,
           "trajectory": "Reported Cases - Testing Data",
           "value": 0.0009182969085482464
          },
          {
           "sample_id": 0,
           "timepoint": 795,
           "trajectory": "Reported Cases - Testing Data",
           "value": 0.0007978095519697125
          },
          {
           "sample_id": 0,
           "timepoint": 796,
           "trajectory": "Reported Cases - Testing Data",
           "value": 0.0008161316809390306
          },
          {
           "sample_id": 0,
           "timepoint": 797,
           "trajectory": "Reported Cases - Testing Data",
           "value": 0.0008521040370917506
          },
          {
           "sample_id": 0,
           "timepoint": 798,
           "trajectory": "Reported Cases - Testing Data",
           "value": 0.0009318042435539121
          },
          {
           "sample_id": 0,
           "timepoint": 799,
           "trajectory": "Reported Cases - Testing Data",
           "value": 0.0009423678653540156
          }
         ]
        },
        {
         "name": "markers",
         "values": []
        },
        {
         "name": "selected",
         "on": [
          {
           "remove": true,
           "trigger": "clear"
          },
          {
           "remove": true,
           "trigger": "!shift"
          },
          {
           "insert": "clicked",
           "trigger": "!shift && clicked"
          },
          {
           "toggle": "clicked",
           "trigger": "shift && clicked"
          }
         ]
        }
       ],
       "height": 500,
       "legends": [
        {
         "encode": {
          "labels": {
           "interactive": true,
           "name": "legendLabel",
           "update": {
            "opacity": [
             {
              "test": "!length(data('selected')) || indata('selected', 'value', datum.value)",
              "value": 1
             },
             {
              "value": 0.25
             }
            ]
           }
          },
          "symbols": {
           "interactive": true,
           "name": "legendSymbol",
           "update": {
            "fill": {
             "value": "transparent"
            },
            "opacity": [
             {
              "test": "!length(data('selected')) || indata('selected', 'value', datum.value)",
              "value": 0.7
             },
             {
              "value": 0.15
             }
            ],
            "size": {
             "value": 64
            },
            "strokeWidth": {
             "value": 2
            }
           }
          }
         },
         "name": "color_legend",
         "orient": "top-right",
         "stroke": "color"
        }
       ],
       "marks": [
        {
         "from": {
          "facet": {
           "data": "points",
           "groupby": "trajectory",
           "name": "points_split"
          }
         },
         "marks": [
          {
           "encode": {
            "hover": {
             "fillOpacity": {
              "value": 0.9
             }
            },
            "update": {
             "fill": {
              "field": "trajectory",
              "scale": "color"
             },
             "fillOpacity": [
              {
               "test": "!length(data('selected')) || indata('selected', 'value', datum.trajectory)",
               "value": 0.5
              },
              {
               "value": 0.15
              }
             ],
             "size": {
              "value": 10
             },
             "stroke": {
              "field": "trajectory",
              "scale": "color"
             },
             "strokeOpacity": [
              {
               "test": "!length(data('selected')) || indata('selected', 'value', datum.trajectory)",
               "value": 0.75
              },
              {
               "value": 0.15
              }
             ],
             "strokeWidth": {
              "value": 2
             },
             "tooltip": {
              "field": "value"
             },
             "x": {
              "field": "timepoint",
              "scale": "xscale"
             },
             "y": {
              "field": "value",
              "scale": "yscale"
             }
            }
           },
           "from": {
            "data": "points"
           },
           "name": "_points_symbol",
           "type": "symbol",
           "zindex": 3
          },
          {
           "encode": {
            "hover": {
             "fillOpacity": {
              "value": 0.9
             }
            },
            "update": {
             "interpolate": {
              "value": "linear"
             },
             "stroke": {
              "field": "trajectory",
              "scale": "color"
             },
             "strokeOpacity": [
              {
               "test": "!length(data('selected')) || indata('selected', 'value', datum.trajectory)",
               "value": 0.3
              },
              {
               "value": 0.1
              }
             ],
             "strokeWidth": {
              "value": 2
             },
             "x": {
              "field": "timepoint",
              "scale": "xscale"
             },
             "y": {
              "field": "value",
              "scale": "yscale"
             }
            }
           },
           "from": {
            "data": "points"
           },
           "name": "_points_line",
           "type": "line",
           "zindex": 3
          }
         ],
         "name": "_points",
         "type": "group",
         "zindex": 3
        },
        {
         "from": {
          "facet": {
           "data": "traces",
           "groupby": "trajectory",
           "name": "traces_split"
          }
         },
         "marks": [
          {
           "encode": {
            "hover": {
             "fillOpacity": {
              "value": 0.9
             }
            },
            "update": {
             "interpolate": {
              "value": "linear"
             },
             "stroke": {
              "field": "trajectory",
              "scale": "color"
             },
             "strokeOpacity": [
              {
               "test": "!length(data('selected')) || indata('selected', 'value', datum.trajectory)",
               "value": 0.75
              },
              {
               "value": 0.15
              }
             ],
             "strokeWidth": {
              "value": 2
             },
             "x": {
              "field": "timepoint",
              "scale": "xscale"
             },
             "y": {
              "field": "value",
              "scale": "yscale"
             }
            }
           },
           "from": {
            "data": "traces_split"
           },
           "name": "_traces_lines",
           "type": "line"
          }
         ],
         "name": "_traces",
         "type": "group",
         "zindex": 2
        },
        {
         "from": {
          "facet": {
           "data": "distributions",
           "groupby": "trajectory",
           "name": "trajectory_split"
          }
         },
         "marks": [
          {
           "encode": {
            "hover": {
             "fillOpacity": {
              "value": 0.9
             }
            },
            "update": {
             "fill": {
              "field": "trajectory",
              "scale": "color"
             },
             "fillOpacity": [
              {
               "test": "!length(data('selected')) || indata('selected', 'value', datum.trajectory)",
               "value": 0.5
              },
              {
               "value": 0.15
              }
             ],
             "interpolate": {
              "value": "linear"
             },
             "stroke": {
              "field": "trajectory",
              "scale": "color"
             },
             "strokeOpacity": [
              {
               "test": "!length(data('selected')) || indata('selected', 'value', datum.trajectory)",
               "value": 0.75
              },
              {
               "value": 0.15
              }
             ],
             "strokeWidth": {
              "value": 2
             },
             "x": {
              "field": "timepoint",
              "scale": "xscale"
             },
             "y": {
              "field": "upper",
              "scale": "yscale"
             },
             "y2": {
              "field": "lower",
              "scale": "yscale"
             }
            }
           },
           "from": {
            "data": "trajectory_split"
           },
           "type": "area"
          }
         ],
         "name": "_distributions",
         "type": "group",
         "zindex": 1
        },
        {
         "marks": [
          {
           "encode": {
            "enter": {
             "stroke": {
              "value": "lightgray"
             }
            },
            "update": {
             "opacity": {
              "value": 1
             },
             "x": {
              "field": "timepoint",
              "scale": "xscale"
             },
             "y": {
              "signal": "height"
             },
             "y2": {
              "value": 0
             }
            }
           },
           "from": {
            "data": "markers"
           },
           "name": "_marker text",
           "type": "rule"
          },
          {
           "encode": {
            "enter": {
             "fontSize": {
              "value": 8
             },
             "text": {
              "field": "datum.label"
             },
             "y": {
              "value": 0
             }
            }
           },
           "from": {
            "data": "_marker text"
           },
           "name": "_marker flags",
           "transform": [
            {
             "as": [
              "x",
              "_y",
              "opacity",
              "align",
              "baseline"
             ],
             "lineAnchor": "start",
             "offset": [
              1
             ],
             "size": {
              "signal": "[width, height]"
             },
             "type": "label"
            }
           ],
           "type": "text"
          }
         ],
         "name": "_markers",
         "type": "group"
        }
       ],
       "scales": [
        {
         "domain": {
          "fields": [
           {
            "data": "distributions",
            "field": "timepoint"
           },
           {
            "data": "traces",
            "field": "timepoint"
           },
           {
            "data": "points",
            "field": "timepoint"
           },
           {
            "data": "markers",
            "field": "timepoint"
           }
          ]
         },
         "name": "xscale",
         "range": "width",
         "type": "linear",
         "zero": false
        },
        {
         "domain": {
          "fields": [
           {
            "data": "distributions",
            "field": "lower"
           },
           {
            "data": "distributions",
            "field": "upper"
           },
           {
            "data": "traces",
            "field": "value"
           },
           {
            "data": "points",
            "field": "value"
           }
          ]
         },
         "name": "yscale",
         "nice": true,
         "range": "height",
         "type": "log",
         "zero": false
        },
        {
         "domain": [
          "Ensemble Model Prior Forecasts",
          "Ensemble Model Posterior Forecasts",
          "Ensemble Model Deterministic Forecasts",
          "Reported Cases - Training Data",
          "Reported Cases - Testing Data"
         ],
         "name": "color",
         "range": [
          "blue",
          "green",
          "orange",
          "black",
          "red"
         ],
         "type": "ordinal"
        }
       ],
       "signals": [
        {
         "name": "clear",
         "on": [
          {
           "events": "mouseup[!event.item]",
           "force": true,
           "update": "true"
          }
         ],
         "value": true
        },
        {
         "name": "shift",
         "on": [
          {
           "events": "@legendSymbol:click, @legendLabel:click",
           "force": true,
           "update": "event.shiftKey"
          }
         ],
         "value": false
        },
        {
         "name": "clicked",
         "on": [
          {
           "events": "@legendSymbol:click, @legendLabel:click",
           "force": true,
           "update": "{value: datum.value}"
          }
         ],
         "value": null
        }
       ],
       "title": "Prior Forecasts - Ensemble",
       "width": 500
      }
     },
     "metadata": {},
     "output_type": "display_data"
    }
   ],
   "source": [
    "\n",
    "prior = (convert_to_output_format(ensemble_prior_forecasts, all_timepoints, time_unit=\"days\")\n",
    "            .set_index(\"timepoint_days\")[\"Cases_sol\"]\n",
    "            .rename(\"Ensemble Model Prior Forecasts\"))\n",
    "posterior = (convert_to_output_format(ensemble_posterior_forecasts, all_timepoints, time_unit=\"days\")\n",
    "             .set_index(\"timepoint_days\")[\"Cases_sol\"]\n",
    "             .rename(\"Ensemble Model Posterior Forecasts\"))\n",
    "deterministic = (convert_to_output_format(ensemble_deterministic_forecasts, all_timepoints, time_unit=\"days\")\n",
    "                 .set_index(\"timepoint_days\")[\"Cases_sol\"]\n",
    "                 .rename(\"Ensemble Model Deterministic Forecasts\"))\n",
    "dist_df = pd.concat([prior, posterior, deterministic], axis=\"columns\")\n",
    "\n",
    "train = pd.Series(train_cases, \n",
    "                  index=pd.Index(train_timepoints, name=\"timepoint_days\"), \n",
    "                  name=\"Reported Cases - Training Data\")\n",
    "test = pd.Series(test_cases, \n",
    "                 index=pd.Index(test_timepoints, name=\"timepoint_days\"), \n",
    "                 name=\"Reported Cases - Testing Data\")\n",
    "case_df = pd.concat([train, test], axis=\"columns\")\n",
    "\n",
    "colors = {\"Ensemble Model Prior Forecasts\": \"blue\",\n",
    "          \"Ensemble Model Posterior Forecasts\": \"green\",\n",
    "          \"Ensemble Model Deterministic Forecasts\": \"orange\",\n",
    "          \"Reported Cases - Training Data\": \"black\",\n",
    "          \"Reported Cases - Testing Data\": \"red\"}\n",
    "\n",
    "schema = plot_trajectories(\"Prior Forecasts - Ensemble\", \n",
    "                           dist_df,\n",
    "                            points=case_df,\n",
    "                            colors=colors\n",
    ")\n",
    "plots.save_schema(schema, \"_schema.json\")\n",
    "plots.ipy_display(schema)"
   ]
  },
  {
   "cell_type": "code",
   "execution_count": null,
   "metadata": {},
   "outputs": [
    {
     "data": {
      "application/vnd.vega.v5+json": {
       "$schema": "https://vega.github.io/schema/vega/v5.json",
       "data": [
        {
         "name": "contributions",
         "url": "data/contour_grid.json",
         "values": {
          "height": 65,
          "values": [
           0,
           0,
           0,
           0,
           0,
           0,
           0,
           0,
           0,
           0,
           0,
           0,
           0,
           0,
           0,
           0,
           0,
           0,
           0,
           0,
           0,
           0,
           0,
           0,
           0,
           0,
           0,
           0,
           0,
           0,
           0,
           0,
           0,
           0,
           0,
           0,
           0,
           0,
           0,
           0,
           0,
           0,
           0,
           0,
           0,
           0,
           0,
           0,
           0,
           0,
           0,
           0,
           0,
           0,
           0,
           0,
           0,
           0,
           0,
           0,
           0,
           0,
           0,
           0,
           1.2167665813245378e-51,
           0,
           0,
           0,
           0,
           0,
           0,
           0,
           0,
           0,
           0,
           0,
           0,
           0,
           0,
           0,
           0,
           0,
           0,
           0,
           0,
           0,
           0,
           0,
           0,
           0,
           0,
           0,
           0,
           0,
           0,
           0,
           0,
           0,
           0,
           0,
           0,
           0,
           0,
           0,
           0,
           0,
           0,
           0,
           0,
           0,
           0,
           0,
           0,
           0,
           0,
           0,
           0,
           0,
           0,
           0,
           0,
           0,
           0,
           0,
           0,
           0,
           0,
           0,
           0,
           0,
           0,
           0,
           0,
           0,
           0,
           0,
           0,
           0,
           0,
           0,
           0,
           0,
           0,
           0,
           0,
           0,
           0,
           0,
           0,
           0,
           0,
           0,
           0,
           0,
           0,
           0,
           0,
           0,
           0,
           0,
           0,
           0,
           0,
           0,
           0,
           0,
           0,
           0,
           0,
           0,
           0,
           0,
           0,
           0,
           0,
           0,
           0,
           0,
           0,
           0,
           0,
           0,
           0,
           0,
           0,
           0,
           0,
           0,
           0,
           0,
           0,
           0,
           5.188010152440703e-51,
           1.1929260746857581e-26,
           2.7769448487044664e-23,
           0,
           0,
           0,
           0,
           0,
           0,
           0,
           0,
           0,
           0,
           0,
           0,
           0,
           0,
           0,
           0,
           0,
           0,
           0,
           0,
           0,
           0,
           0,
           0,
           0,
           0,
           0,
           0,
           0,
           0,
           0,
           0,
           0,
           0,
           0,
           0,
           0,
           0,
           0,
           0,
           0,
           0,
           0,
           0,
           0,
           0,
           0,
           0,
           0,
           0,
           0,
           0,
           0,
           0,
           0,
           0,
           0,
           0,
           0,
           0,
           0,
           0,
           0,
           0,
           0,
           0,
           0,
           0,
           0,
           0,
           0,
           0,
           0,
           0,
           0,
           0,
           0,
           0,
           0,
           0,
           0,
           0,
           0,
           0,
           0,
           0,
           0,
           0,
           0,
           0,
           0,
           0,
           0,
           0,
           0,
           0,
           0,
           0,
           0,
           0,
           0,
           0,
           0,
           0,
           0,
           0,
           0,
           0,
           0,
           0,
           0,
           0,
           0,
           0,
           0,
           0,
           0,
           0,
           0,
           0,
           0,
           0,
           0,
           0,
           0,
           6.114632134536421e-51,
           1.5683065151589352e-26,
           1.0751181390316456e-22,
           1.6498246376043635e-20,
           2.0571147530441658e-19,
           0,
           0,
           0,
           0,
           0,
           0,
           0,
           0,
           0,
           0,
           0,
           0,
           0,
           0,
           0,
           0,
           0,
           0,
           0,
           0,
           0,
           0,
           0,
           0,
           0,
           0,
           0,
           0,
           0,
           0,
           0,
           0,
           0,
           0,
           0,
           0,
           0,
           0,
           0,
           0,
           0,
           0,
           0,
           0,
           0,
           0,
           0,
           0,
           0,
           0,
           0,
           0,
           0,
           0,
           0,
           0,
           0,
           0,
           0,
           0,
           0,
           0,
           0,
           0,
           0,
           0,
           0,
           0,
           0,
           0,
           0,
           0,
           0,
           0,
           0,
           0,
           0,
           0,
           0,
           0,
           0,
           0,
           0,
           0,
           0,
           0,
           0,
           0,
           0,
           0,
           0,
           0,
           0,
           0,
           0,
           0,
           0,
           0,
           0,
           0,
           0,
           0,
           0,
           0,
           0,
           0,
           0,
           0,
           0,
           0,
           0,
           0,
           0,
           0,
           0,
           0,
           0,
           0,
           0,
           0,
           0,
           0,
           0,
           6.570856471690128e-51,
           1.7290774808811136e-26,
           1.2498797575073808e-22,
           2.157204638264667e-20,
           7.856747500290717e-19,
           1.1443777539094016e-17,
           3.6780175075864743e-17,
           0,
           0,
           0,
           0,
           0,
           0,
           0,
           0,
           0,
           0,
           0,
           0,
           0,
           0,
           0,
           0,
           0,
           0,
           0,
           0,
           0,
           0,
           0,
           0,
           0,
           0,
           0,
           0,
           0,
           0,
           0,
           0,
           0,
           0,
           0,
           0,
           0,
           0,
           0,
           0,
           0,
           0,
           0,
           0,
           0,
           0,
           0,
           0,
           0,
           0,
           0,
           0,
           0,
           0,
           0,
           0,
           0,
           0,
           0,
           0,
           0,
           0,
           0,
           0,
           0,
           0,
           0,
           0,
           0,
           0,
           0,
           0,
           0,
           0,
           0,
           0,
           0,
           0,
           0,
           0,
           0,
           0,
           0,
           0,
           0,
           0,
           0,
           0,
           0,
           0,
           0,
           0,
           0,
           0,
           0,
           0,
           0,
           0,
           0,
           0,
           0,
           0,
           0,
           0,
           0,
           0,
           0,
           0,
           0,
           0,
           0,
           0,
           0,
           0,
           0,
           0,
           0,
           0,
           0,
           0,
           0,
           6.791814112783814e-51,
           1.8061388671487053e-26,
           1.3319837556431032e-22,
           2.3710791728105846e-20,
           9.108709696570059e-19,
           1.491771168565016e-17,
           1.3933411223378302e-16,
           8.327559134993517e-16,
           1.4305146923040602e-15,
           0,
           0,
           0,
           0,
           0,
           0,
           0,
           0,
           0,
           0,
           0,
           0,
           0,
           0,
           0,
           0,
           0,
           0,
           0,
           0,
           0,
           0,
           0,
           0,
           0,
           0,
           0,
           0,
           0,
           0,
           0,
           0,
           0,
           0,
           0,
           0,
           0,
           0,
           0,
           0,
           0,
           0,
           0,
           0,
           0,
           0,
           0,
           0,
           0,
           0,
           0,
           0,
           0,
           0,
           0,
           0,
           0,
           0,
           0,
           0,
           0,
           0,
           0,
           0,
           0,
           0,
           0,
           0,
           0,
           0,
           0,
           0,
           0,
           0,
           0,
           0,
           0,
           0,
           0,
           0,
           0,
           0,
           0,
           0,
           0,
           0,
           0,
           0,
           0,
           0,
           0,
           0,
           0,
           0,
           0,
           0,
           0,
           0,
           0,
           0,
           0,
           0,
           0,
           0,
           0,
           0,
           0,
           0,
           0,
           0,
           0,
           0,
           0,
           0,
           0,
           0,
           0,
           0,
           0,
           6.867761870952018e-51,
           1.8360213367249517e-26,
           1.3682732839392415e-22,
           2.470852179726044e-20,
           9.687083561557996e-19,
           1.636426748176856e-17,
           1.6120670791532246e-16,
           1.083003655918895e-15,
           5.3870479140199676e-15,
           2.0134803947326045e-14,
           2.410690459057234e-14,
           0,
           0,
           0,
           0,
           0,
           0,
           0,
           0,
           0,
           0,
           0,
           0,
           0,
           0,
           0,
           0,
           0,
           0,
           0,
           0,
           0,
           0,
           0,
           0,
           0,
           0,
           0,
           0,
           0,
           0,
           0,
           0,
           0,
           0,
           0,
           0,
           0,
           0,
           0,
           0,
           0,
           0,
           0,
           0,
           0,
           0,
           0,
           0,
           0,
           0,
           0,
           0,
           0,
           0,
           0,
           0,
           0,
           0,
           0,
           0,
           0,
           0,
           0,
           0,
           0,
           0,
           0,
           0,
           0,
           0,
           0,
           0,
           0,
           0,
           0,
           0,
           0,
           0,
           0,
           0,
           0,
           0,
           0,
           0,
           0,
           0,
           0,
           0,
           0,
           0,
           0,
           0,
           0,
           0,
           0,
           0,
           0,
           0,
           0,
           0,
           0,
           0,
           0,
           0,
           0,
           0,
           0,
           0,
           0,
           0,
           0,
           0,
           0,
           0,
           0,
           0,
           0,
           6.845429694253424e-51,
           1.8354072089622833e-26,
           1.3766019524703657e-22,
           2.5065171468140065e-20,
           9.93312950803618e-19,
           1.7023987246204897e-17,
           1.7115790849711687e-16,
           1.1860221815630233e-15,
           6.221655665250057e-15,
           2.613230854064915e-14,
           9.035045743695907e-14,
           2.5269044280161406e-13,
           2.3924856690754066e-13,
           0,
           0,
           0,
           0,
           0,
           0,
           0,
           0,
           0,
           0,
           0,
           0,
           0,
           0,
           0,
           0,
           0,
           0,
           0,
           0,
           0,
           0,
           0,
           0,
           0,
           0,
           0,
           0,
           0,
           0,
           0,
           0,
           0,
           0,
           0,
           0,
           0,
           0,
           0,
           0,
           0,
           0,
           0,
           0,
           0,
           0,
           0,
           0,
           0,
           0,
           0,
           0,
           0,
           0,
           0,
           0,
           0,
           0,
           0,
           0,
           0,
           0,
           0,
           0,
           0,
           0,
           0,
           0,
           0,
           0,
           0,
           0,
           0,
           0,
           0,
           0,
           0,
           0,
           0,
           0,
           0,
           0,
           0,
           0,
           0,
           0,
           0,
           0,
           0,
           0,
           0,
           0,
           0,
           0,
           0,
           0,
           0,
           0,
           0,
           0,
           0,
           0,
           0,
           0,
           0,
           0,
           0,
           0,
           0,
           0,
           0,
           0,
           0,
           0,
           0,
           6.753034111597823e-51,
           1.8136826415022283e-26,
           1.3661665555531266e-22,
           2.5008876800630865e-20,
           9.976878419734028e-19,
           1.7242519081656396e-17,
           1.7523676985701805e-16,
           1.2319685861151013e-15,
           6.595663625101991e-15,
           2.8573519138312487e-14,
           1.0417704601064223e-13,
           3.273505825845002e-13,
           8.930760537727049e-13,
           2.051214473064672e-12,
           1.6470608919708657e-12,
           0,
           0,
           0,
           0,
           0,
           0,
           0,
           0,
           0,
           0,
           0,
           0,
           0,
           0,
           0,
           0,
           0,
           0,
           0,
           0,
           0,
           0,
           0,
           0,
           0,
           0,
           0,
           0,
           0,
           0,
           0,
           0,
           0,
           0,
           0,
           0,
           0,
           0,
           0,
           0,
           0,
           0,
           0,
           0,
           0,
           0,
           0,
           0,
           0,
           0,
           0,
           0,
           0,
           0,
           0,
           0,
           0,
           0,
           0,
           0,
           0,
           0,
           0,
           0,
           0,
           0,
           0,
           0,
           0,
           0,
           0,
           0,
           0,
           0,
           0,
           0,
           0,
           0,
           0,
           0,
           0,
           0,
           0,
           0,
           0,
           0,
           0,
           0,
           0,
           0,
           0,
           0,
           0,
           0,
           0,
           0,
           0,
           0,
           0,
           0,
           0,
           0,
           0,
           0,
           0,
           0,
           0,
           0,
           0,
           0,
           0,
           0,
           0,
           6.609302303571066e-51,
           1.7767981077514472e-26,
           1.3424965523092697e-22,
           2.4667918834589016e-20,
           9.885301846266192e-19,
           1.7177605701585346e-17,
           1.757486820694588e-16,
           1.2459701667975974e-15,
           6.743096502773794e-15,
           2.963751890810196e-14,
           1.1027793111075096e-13,
           3.5739401857618514e-13,
           1.0281254543248033e-12,
           2.6526105242397308e-12,
           6.12652528688671e-12,
           1.2202415049436241e-11,
           8.672659552385566e-12,
           0,
           0,
           0,
           0,
           0,
           0,
           0,
           0,
           0,
           0,
           0,
           0,
           0,
           0,
           0,
           0,
           0,
           0,
           0,
           0,
           0,
           0,
           0,
           0,
           0,
           0,
           0,
           0,
           0,
           0,
           0,
           0,
           0,
           0,
           0,
           0,
           0,
           0,
           0,
           0,
           0,
           0,
           0,
           0,
           0,
           0,
           0,
           0,
           0,
           0,
           0,
           0,
           0,
           0,
           0,
           0,
           0,
           0,
           0,
           0,
           0,
           0,
           0,
           0,
           0,
           0,
           0,
           0,
           0,
           0,
           0,
           0,
           0,
           0,
           0,
           0,
           0,
           0,
           0,
           0,
           0,
           0,
           0,
           0,
           0,
           0,
           0,
           0,
           0,
           0,
           0,
           0,
           0,
           0,
           0,
           0,
           0,
           0,
           0,
           0,
           0,
           0,
           0,
           0,
           0,
           0,
           0,
           0,
           0,
           0,
           0,
           6.427478904923585e-51,
           1.7288284383460905e-26,
           1.3092473423290438e-22,
           2.4123570253587278e-20,
           9.698656905901307e-19,
           1.691794826660098e-17,
           1.7388125828679273e-16,
           1.2394980575203022e-15,
           6.753184010999285e-15,
           2.993193786152031e-14,
           1.1258331732282984e-13,
           3.701743121151999e-13,
           1.086765050466942e-12,
           2.891784815588887e-12,
           7.042098505843747e-12,
           1.5753322224388408e-11,
           3.215696248967796e-11,
           5.7497103803164344e-11,
           3.7199646170359735e-11,
           0,
           0,
           0,
           0,
           0,
           0,
           0,
           0,
           0,
           0,
           0,
           0,
           0,
           0,
           0,
           0,
           0,
           0,
           0,
           0,
           0,
           0,
           0,
           0,
           0,
           0,
           0,
           0,
           0,
           0,
           0,
           0,
           0,
           0,
           0,
           0,
           0,
           0,
           0,
           0,
           0,
           0,
           0,
           0,
           0,
           0,
           0,
           0,
           0,
           0,
           0,
           0,
           0,
           0,
           0,
           0,
           0,
           0,
           0,
           0,
           0,
           0,
           0,
           0,
           0,
           0,
           0,
           0,
           0,
           0,
           0,
           0,
           0,
           0,
           0,
           0,
           0,
           0,
           0,
           0,
           0,
           0,
           0,
           0,
           0,
           0,
           0,
           0,
           0,
           0,
           0,
           0,
           0,
           0,
           0,
           0,
           0,
           0,
           0,
           0,
           0,
           0,
           0,
           0,
           0,
           0,
           0,
           0,
           0,
           6.217362606744936e-51,
           1.6727168844108386e-26,
           1.2689942436263803e-22,
           2.343144283599757e-20,
           9.443547171958595e-19,
           1.6519737119212887e-17,
           1.703484297417729e-16,
           1.2190040628481475e-15,
           6.6719086473790525e-15,
           2.973430175996658e-14,
           1.1259258118941347e-13,
           3.733238794075898e-13,
           1.1079129728552313e-12,
           2.9909229931927386e-12,
           7.433002525464229e-12,
           1.7148418579219066e-11,
           3.690606721778618e-11,
           7.410547169008908e-11,
           1.3752817739717492e-10,
           2.259695221662167e-10,
           1.3568908474767844e-10,
           0,
           0,
           0,
           0,
           0,
           0,
           0,
           0,
           0,
           0,
           0,
           0,
           0,
           0,
           0,
           0,
           0,
           0,
           0,
           0,
           0,
           0,
           0,
           0,
           0,
           0,
           0,
           0,
           0,
           0,
           0,
           0,
           0,
           0,
           0,
           0,
           0,
           0,
           0,
           0,
           0,
           0,
           0,
           0,
           0,
           0,
           0,
           0,
           0,
           0,
           0,
           0,
           0,
           0,
           0,
           0,
           0,
           0,
           0,
           0,
           0,
           0,
           0,
           0,
           0,
           0,
           0,
           0,
           0,
           0,
           0,
           0,
           0,
           0,
           0,
           0,
           0,
           0,
           0,
           0,
           0,
           0,
           0,
           0,
           0,
           0,
           0,
           0,
           0,
           0,
           0,
           0,
           0,
           0,
           0,
           0,
           0,
           0,
           0,
           0,
           0,
           0,
           0,
           0,
           0,
           0,
           0,
           5.986445947776967e-51,
           1.6106726541197384e-26,
           1.2236351412601337e-22,
           2.2631666900991917e-20,
           9.138705353676053e-19,
           1.602140955046588e-17,
           1.6562193597812098e-16,
           1.1885754258041034e-15,
           6.526917710127707e-15,
           2.920075072917135e-14,
           1.1107873119672006e-13,
           3.703306463472485e-13,
           1.1064263650367292e-12,
           3.0120682374597774e-12,
           7.566793642438794e-12,
           1.7710737852731493e-11,
           3.889790535468725e-11,
           8.054835666747162e-11,
           1.5759681378185323e-10,
           2.907621293774249e-10,
           5.002785736806202e-10,
           7.679460710703567e-10,
           4.3399506955085795e-10,
           0,
           0,
           0,
           0,
           0,
           0,
           0,
           0,
           0,
           0,
           0,
           0,
           0,
           0,
           0,
           0,
           0,
           0,
           0,
           0,
           0,
           0,
           0,
           0,
           0,
           0,
           0,
           0,
           0,
           0,
           0,
           0,
           0,
           0,
           0,
           0,
           0,
           0,
           0,
           0,
           0,
           0,
           0,
           0,
           0,
           0,
           0,
           0,
           0,
           0,
           0,
           0,
           0,
           0,
           0,
           0,
           0,
           0,
           0,
           0,
           0,
           0,
           0,
           0,
           0,
           0,
           0,
           0,
           0,
           0,
           0,
           0,
           0,
           0,
           0,
           0,
           0,
           0,
           0,
           0,
           0,
           0,
           0,
           0,
           0,
           0,
           0,
           0,
           0,
           0,
           0,
           0,
           0,
           0,
           0,
           0,
           0,
           0,
           0,
           0,
           0,
           0,
           0,
           0,
           0,
           5.740601190580359e-51,
           1.5444017717522947e-26,
           1.1746154038300894e-22,
           2.1754329373733473e-20,
           8.797926081790323e-19,
           1.5450688089812298e-17,
           1.6003383736793463e-16,
           1.1510075517757367e-15,
           6.33647895959309e-15,
           2.8430210826225805e-14,
           1.0850665647560282e-13,
           3.6315770119020246e-13,
           1.0899686863921641e-12,
           2.983591105657925e-12,
           7.545687528980125e-12,
           1.7810037632224937e-11,
           3.954029198154867e-11,
           8.306751628837071e-11,
           1.6585609038174105e-10,
           3.155653602337683e-10,
           5.72392387966386e-10,
           9.865109486721458e-10,
           1.5959876421374045e-9,
           2.3166842679542017e-9,
           1.2450384611050904e-9,
           0,
           0,
           0,
           0,
           0,
           0,
           0,
           0,
           0,
           0,
           0,
           0,
           0,
           0,
           0,
           0,
           0,
           0,
           0,
           0,
           0,
           0,
           0,
           0,
           0,
           0,
           0,
           0,
           0,
           0,
           0,
           0,
           0,
           0,
           0,
           0,
           0,
           0,
           0,
           0,
           0,
           0,
           0,
           0,
           0,
           0,
           0,
           0,
           0,
           0,
           0,
           0,
           0,
           0,
           0,
           0,
           0,
           0,
           0,
           0,
           0,
           0,
           0,
           0,
           0,
           0,
           0,
           0,
           0,
           0,
           0,
           0,
           0,
           0,
           0,
           0,
           0,
           0,
           0,
           0,
           0,
           0,
           0,
           0,
           0,
           0,
           0,
           0,
           0,
           0,
           0,
           0,
           0,
           0,
           0,
           0,
           0,
           0,
           0,
           0,
           0,
           0,
           0,
           5.484517193939179e-51,
           1.475250025351005e-26,
           1.1230630098690662e-22,
           2.0822631727348088e-20,
           8.431704374601769e-19,
           1.482834131484398e-17,
           1.5382851948155568e-16,
           1.1083157581413816e-15,
           6.113447711200202e-15,
           2.749033222047012e-14,
           1.051835317444365e-13,
           3.53048980420759e-13,
           1.0631500369487996e-12,
           2.9214657702185068e-12,
           7.422436524269419e-12,
           1.761551047773183e-11,
           3.937148806199257e-11,
           8.340899024773824e-11,
           1.6834338193781322e-10,
           3.249458935767931e-10,
           6.014773019601277e-10,
           1.0690191797900882e-9,
           1.8231691393361722e-9,
           2.9710907134669625e-9,
           4.567236776519684e-9,
           6.326708747399737e-9,
           3.2590659507071496e-9,
           0,
           0,
           0,
           0,
           0,
           0,
           0,
           0,
           0,
           0,
           0,
           0,
           0,
           0,
           0,
           0,
           0,
           0,
           0,
           0,
           0,
           0,
           0,
           0,
           0,
           0,
           0,
           0,
           0,
           0,
           0,
           0,
           0,
           0,
           0,
           0,
           0,
           0,
           0,
           0,
           0,
           0,
           0,
           0,
           0,
           0,
           0,
           0,
           0,
           0,
           0,
           0,
           0,
           0,
           0,
           0,
           0,
           0,
           0,
           0,
           0,
           0,
           0,
           0,
           0,
           0,
           0,
           0,
           0,
           0,
           0,
           0,
           0,
           0,
           0,
           0,
           0,
           0,
           0,
           0,
           0,
           0,
           0,
           0,
           0,
           0,
           0,
           0,
           0,
           0,
           0,
           0,
           0,
           0,
           0,
           0,
           0,
           0,
           0,
           0,
           0,
           5.2219907468249414e-51,
           1.404296117498874e-26,
           1.0698744971773142e-22,
           1.985484546571463e-20,
           8.04822019721585e-19,
           1.4170368370634996e-17,
           1.471917552791434e-16,
           1.0620088097639017e-15,
           5.86728002393908e-15,
           2.6429867558979955e-14,
           1.0132546647634752e-13,
           3.4085504789135127e-13,
           1.0290166030374032e-12,
           2.8358160984506977e-12,
           7.228784270602277e-12,
           1.722246260581004e-11,
           3.8669443363667173e-11,
           8.237229383641448e-11,
           1.6736896040965472e-10,
           3.2578271351811646e-10,
           6.095605764372256e-10,
           1.0990989191074552e-9,
           1.9128315202775043e-9,
           3.2145161474439898e-9,
           5.208976898764127e-9,
           8.100193260314606e-9,
           1.1926863433645579e-8,
           1.5878383312851955e-8,
           7.8886722687537e-9,
           0,
           0,
           0,
           0,
           0,
           0,
           0,
           0,
           0,
           0,
           0,
           0,
           0,
           0,
           0,
           0,
           0,
           0,
           0,
           0,
           0,
           0,
           0,
           0,
           0,
           0,
           0,
           0,
           0,
           0,
           0,
           0,
           0,
           0,
           0,
           0,
           0,
           0,
           0,
           0,
           0,
           0,
           0,
           0,
           0,
           0,
           0,
           0,
           0,
           0,
           0,
           0,
           0,
           0,
           0,
           0,
           0,
           0,
           0,
           0,
           0,
           0,
           0,
           0,
           0,
           0,
           0,
           0,
           0,
           0,
           0,
           0,
           0,
           0,
           0,
           0,
           0,
           0,
           0,
           0,
           0,
           0,
           0,
           0,
           0,
           0,
           0,
           0,
           0,
           0,
           0,
           0,
           0,
           0,
           0,
           0,
           0,
           0,
           0,
           4.956128352381577e-51,
           1.3324149525979696e-26,
           1.0157722093073548e-22,
           1.886558653159726e-20,
           7.653964859063137e-19,
           1.3489352097170736e-17,
           1.4026817463808666e-16,
           1.0132478638610752e-15,
           5.605158181113866e-15,
           2.5285290922312032e-14,
           9.709134101291002e-14,
           3.2718862818513514e-13,
           9.897109492784598e-13,
           2.7335636615297022e-12,
           6.985706320212937e-12,
           1.6691305785737093e-11,
           3.7601465618242755e-11,
           8.040799921188081e-11,
           1.6412653181569107e-10,
           3.212280738097971e-10,
           6.050787397837621e-10,
           1.1001918334652676e-9,
           1.935471764526607e-9,
           3.2997137494553826e-9,
           5.456409076346774e-9,
           8.749686563419397e-9,
           1.3580309083221908e-8,
           2.0294547137085554e-8,
           2.880222159961402e-8,
           3.705813069464114e-8,
           1.784419446126267e-8,
           0,
           0,
           0,
           0,
           0,
           0,
           0,
           0,
           0,
           0,
           0,
           0,
           0,
           0,
           0,
           0,
           0,
           0,
           0,
           0,
           0,
           0,
           0,
           0,
           0,
           0,
           0,
           0,
           0,
           0,
           0,
           0,
           0,
           0,
           0,
           0,
           0,
           0,
           0,
           0,
           0,
           0,
           0,
           0,
           0,
           0,
           0,
           0,
           0,
           0,
           0,
           0,
           0,
           0,
           0,
           0,
           0,
           0,
           0,
           0,
           0,
           0,
           0,
           0,
           0,
           0,
           0,
           0,
           0,
           0,
           0,
           0,
           0,
           0,
           0,
           0,
           0,
           0,
           0,
           0,
           0,
           0,
           0,
           0,
           0,
           0,
           0,
           0,
           0,
           0,
           0,
           0,
           0,
           0,
           0,
           0,
           0,
           4.689490516294818e-51,
           1.2603221572724338e-26,
           9.613439030700036e-23,
           1.7866681282879088e-20,
           7.254158344736075e-19,
           1.2795341179910753e-17,
           1.3317238303459875e-16,
           9.62944962379065e-16,
           5.332667506315545e-15,
           2.4084645573389273e-14,
           9.260173096096586e-14,
           3.125078098879807e-13,
           9.46807381181976e-13,
           2.61969251283552e-12,
           6.707951991169129e-12,
           1.606333746330753e-11,
           3.627811008472762e-11,
           7.780175746925596e-11,
           1.5933485604830788e-10,
           3.130592794539284e-10,
           5.923936188911156e-10,
           1.0830482953665666e-9,
           1.918115838571129e-9,
           3.297611377941619e-9,
           5.511967435817154e-9,
           8.9668508168342e-9,
           1.4201911696836025e-8,
           2.1885308166028066e-8,
           3.2739663438839964e-8,
           4.728201826264925e-8,
           6.500198233598613e-8,
           8.119069233278872e-8,
           3.804165593880734e-8,
           0,
           0,
           0,
           0,
           0,
           0,
           0,
           0,
           0,
           0,
           0,
           0,
           0,
           0,
           0,
           0,
           0,
           0,
           0,
           0,
           0,
           0,
           0,
           0,
           0,
           0,
           0,
           0,
           0,
           0,
           0,
           0,
           0,
           0,
           0,
           0,
           0,
           0,
           0,
           0,
           0,
           0,
           0,
           0,
           0,
           0,
           0,
           0,
           0,
           0,
           0,
           0,
           0,
           0,
           0,
           0,
           0,
           0,
           0,
           0,
           0,
           0,
           0,
           0,
           0,
           0,
           0,
           0,
           0,
           0,
           0,
           0,
           0,
           0,
           0,
           0,
           0,
           0,
           0,
           0,
           0,
           0,
           0,
           0,
           0,
           0,
           0,
           0,
           0,
           0,
           0,
           0,
           0,
           0,
           0,
           4.424197772060486e-51,
           1.1886063370885429e-26,
           9.070710434854978e-23,
           1.6867775799994127e-20,
           6.85303814929664e-19,
           1.2096449809912684e-17,
           1.2599637229832282e-16,
           9.118272703079906e-16,
           5.054227322852717e-15,
           2.284992935591323e-14,
           8.79502927963233e-14,
           2.971644362720297e-13,
           9.014996011223661e-13,
           2.49792611081842e-12,
           6.406352290580553e-12,
           1.5368281538378105e-11,
           3.4777092019705475e-11,
           7.47488095091127e-11,
           1.53468881898575e-10,
           3.024032703907485e-10,
           5.74132402353701e-10,
           1.053732470424109e-9,
           1.8747455750770004e-9,
           3.2407629043697214e-9,
           5.4533339070290754e-9,
           8.946008828218802e-9,
           1.4322239107617434e-8,
           2.2390407518722085e-8,
           3.4179805069347805e-8,
           5.09004722214981e-8,
           7.375939372325331e-8,
           1.0340440341075171e-7,
           1.382637682768922e-7,
           1.6826554644255854e-7,
           7.696628293857928e-8,
           0,
           0,
           0,
           0,
           0,
           0,
           0,
           0,
           0,
           0,
           0,
           0,
           0,
           0,
           0,
           0,
           0,
           0,
           0,
           0,
           0,
           0,
           0,
           0,
           0,
           0,
           0,
           0,
           0,
           0,
           0,
           0,
           0,
           0,
           0,
           0,
           0,
           0,
           0,
           0,
           0,
           0,
           0,
           0,
           0,
           0,
           0,
           0,
           0,
           0,
           0,
           0,
           0,
           0,
           0,
           0,
           0,
           0,
           0,
           0,
           0,
           0,
           0,
           0,
           0,
           0,
           0,
           0,
           0,
           0,
           0,
           0,
           0,
           0,
           0,
           0,
           0,
           0,
           0,
           0,
           0,
           0,
           0,
           0,
           0,
           0,
           0,
           0,
           0,
           0,
           0,
           0,
           0,
           4.1620104493738556e-51,
           1.1177530487798309e-26,
           8.533495777974112e-23,
           1.5876777460849995e-20,
           6.454065692218954e-19,
           1.139927978411689e-17,
           1.188146518865182e-16,
           8.604807632633364e-16,
           4.77337833127028e-15,
           2.1598651247706746e-14,
           8.321101718028032e-14,
           2.814341199436926e-13,
           8.54713666004514e-13,
           2.371121214905713e-12,
           6.089112000633085e-12,
           1.4628326347178998e-11,
           3.315544397615315e-11,
           7.13896107305649e-11,
           1.4686236247128148e-10,
           2.9003016125877727e-10,
           5.520310655473959e-10,
           1.0160900159621539e-9,
           1.813785019624835e-9,
           3.147540421693508e-9,
           5.320723433244332e-9,
           8.7764236770865e-9,
           1.4145098791335457e-8,
           2.2299228061047527e-8,
           3.440888118322065e-8,
           5.19835306561473e-8,
           7.68677382352314e-8,
           1.111197387683142e-7,
           1.5660901592906814e-7,
           2.1390762472004682e-7,
           2.791094442861543e-7,
           3.3195361995559743e-7,
           1.4862988504940768e-7,
           0,
           0,
           0,
           0,
           0,
           0,
           0,
           0,
           0,
           0,
           0,
           0,
           0,
           0,
           0,
           0,
           0,
           0,
           0,
           0,
           0,
           0,
           0,
           0,
           0,
           0,
           0,
           0,
           0,
           0,
           0,
           0,
           0,
           0,
           0,
           0,
           0,
           0,
           0,
           0,
           0,
           0,
           0,
           0,
           0,
           0,
           0,
           0,
           0,
           0,
           0,
           0,
           0,
           0,
           0,
           0,
           0,
           0,
           0,
           0,
           0,
           0,
           0,
           0,
           0,
           0,
           0,
           0,
           0,
           0,
           0,
           0,
           0,
           0,
           0,
           0,
           0,
           0,
           0,
           0,
           0,
           0,
           0,
           0,
           0,
           0,
           0,
           0,
           0,
           0,
           0,
           3.9043899400299455e-51,
           1.0481630139089224e-26,
           8.005055531495994e-23,
           1.490018320037803e-20,
           6.060077925865136e-19,
           1.070922654536212e-17,
           1.1168791765897579e-16,
           8.093809943798879e-16,
           4.492981693363875e-15,
           2.0344890499327927e-14,
           7.844306824345692e-14,
           2.6553583881669606e-13,
           8.071799866356805e-13,
           2.241512333771302e-12,
           5.7625878585656e-12,
           1.3860475610815593e-11,
           3.145632576376346e-11,
           6.782891803513307e-11,
           1.3976005446965812e-10,
           2.7649366457317355e-10,
           5.273090286241117e-10,
           9.727483432853788e-10,
           1.7408002506982665e-9,
           3.02959618184735e-9,
           5.13837269627527e-9,
           8.508496029973065e-9,
           1.3776069660091511e-8,
           2.1836763154409014e-8,
           3.3921497492237745e-8,
           5.1677555105500457e-8,
           7.724173319055084e-8,
           1.1327658425234332e-7,
           1.629092173445216e-7,
           2.2944372934927813e-7,
           3.155535395349623e-7,
           4.2119370922431797e-7,
           5.377810676950482e-7,
           6.266395022032828e-7,
           2.7526539721207226e-7,
           0,
           0,
           0,
           0,
           0,
           0,
           0,
           0,
           0,
           0,
           0,
           0,
           0,
           0,
           0,
           0,
           0,
           0,
           0,
           0,
           0,
           0,
           0,
           0,
           0,
           0,
           0,
           0,
           0,
           0,
           0,
           0,
           0,
           0,
           0,
           0,
           0,
           0,
           0,
           0,
           0,
           0,
           0,
           0,
           0,
           0,
           0,
           0,
           0,
           0,
           0,
           0,
           0,
           0,
           0,
           0,
           0,
           0,
           0,
           0,
           0,
           0,
           0,
           0,
           0,
           0,
           0,
           0,
           0,
           0,
           0,
           0,
           0,
           0,
           0,
           0,
           0,
           0,
           0,
           0,
           0,
           0,
           0,
           0,
           0,
           0,
           0,
           0,
           0,
           3.652546619642252e-51,
           9.80166229051371e-27,
           7.488071037351678e-23,
           1.394332899783379e-20,
           5.673401362527122e-19,
           1.0030706797118159e-17,
           1.0466574792034902e-16,
           7.589154133366899e-16,
           4.215361450772602e-15,
           1.9100042940044565e-14,
           7.369413791902605e-14,
           2.4964527745397376e-13,
           7.59481391619192e-13,
           2.1108714117070867e-12,
           5.431784853631168e-12,
           1.307800825167956e-11,
           2.971312822583789e-11,
           6.414690888041738e-11,
           1.3234697481735966e-10,
           2.622063705082351e-10,
           5.008598521443456e-10,
           9.25595402741091e-10,
           1.6596993748763627e-9,
           2.894889031743047e-9,
           4.922294307809752e-9,
           8.174194788107193e-9,
           1.327879977533291e-8,
           2.1130111409232342e-8,
           3.29740489885987e-8,
           5.051004875182244e-8,
           7.600342654245936e-8,
           1.1239632236372485e-7,
           1.6339098396657714e-7,
           2.334521779748604e-7,
           3.276214186073899e-7,
           4.509188004627962e-7,
           6.068257844306637e-7,
           7.935382638967094e-7,
           9.937374255233419e-7,
           0.0000011368831958198252,
           4.908913927101509e-7,
           0,
           0,
           0,
           0,
           0,
           0,
           0,
           0,
           0,
           0,
           0,
           0,
           0,
           0,
           0,
           0,
           0,
           0,
           0,
           0,
           0,
           0,
           0,
           0,
           0,
           0,
           0,
           0,
           0,
           0,
           0,
           0,
           0,
           0,
           0,
           0,
           0,
           0,
           0,
           0,
           0,
           0,
           0,
           0,
           0,
           0,
           0,
           0,
           0,
           0,
           0,
           0,
           0,
           0,
           0,
           0,
           0,
           0,
           0,
           0,
           0,
           0,
           0,
           0,
           0,
           0,
           0,
           0,
           0,
           0,
           0,
           0,
           0,
           0,
           0,
           0,
           0,
           0,
           0,
           0,
           0,
           0,
           0,
           0,
           0,
           0,
           0,
           3.4074779464947514e-51,
           9.140330873966188e-27,
           6.984738215523481e-23,
           1.301058322627236e-20,
           5.295939635487094e-19,
           9.367331586818072e-18,
           9.778863225415564e-17,
           7.093999752385194e-16,
           3.942409242818174e-15,
           1.787336268021788e-14,
           6.900284694051914e-14,
           2.339042334197039e-13,
           7.120864625895901e-13,
           1.9806166117424308e-12,
           5.100687735143321e-12,
           1.2291432599960531e-11,
           2.795209208210042e-11,
           6.040608984498212e-11,
           1.2476604189061242e-10,
           2.474836277083477e-10,
           4.73358183744461e-10,
           8.760365148982046e-10,
           1.5733436851003797e-9,
           2.7491339449691045e-9,
           4.683725483782373e-9,
           7.795348625560685e-9,
           1.2695334265933183e-8,
           2.025989571039189e-8,
           3.172114327444566e-8,
           4.877913724825398e-8,
           7.373486461143702e-8,
           1.0964022401658975e-7,
           1.6045402593100544e-7,
           2.3118009716059736e-7,
           3.2793984544637946e-7,
           4.578867359014735e-7,
           6.287805721007197e-7,
           8.478459505133243e-7,
           0.000001119069867344665,
           0.0000014367488284818464,
           0.0000017681401967807685,
           0.0000019896578027408737,
           8.458480501246965e-7,
           0,
           0,
           0,
           0,
           0,
           0,
           0,
           0,
           0,
           0,
           0,
           0,
           0,
           0,
           0,
           0,
           0,
           0,
           0,
           0,
           0,
           0,
           0,
           0,
           0,
           0,
           0,
           0,
           0,
           0,
           0,
           0,
           0,
           0,
           0,
           0,
           0,
           0,
           0,
           0,
           0,
           0,
           0,
           0,
           0,
           0,
           0,
           0,
           0,
           0,
           0,
           0,
           0,
           0,
           0,
           0,
           0,
           0,
           0,
           0,
           0,
           0,
           0,
           0,
           0,
           0,
           0,
           0,
           0,
           0,
           0,
           0,
           0,
           0,
           0,
           0,
           0,
           0,
           0,
           0,
           0,
           0,
           0,
           0,
           0,
           3.16999919697375e-51,
           8.499832812990327e-27,
           6.496842025304814e-23,
           1.210549911173911e-20,
           4.929241982969194e-19,
           8.72204051694937e-18,
           9.108953035578273e-17,
           6.610917778665238e-16,
           3.675663156746638e-15,
           1.6672365470844278e-14,
           6.440051134787351e-14,
           2.1842744910488375e-13,
           6.653734102726781e-13,
           1.8518890620978327e-12,
           4.77249107982503e-12,
           1.15091368428823e-11,
           2.6194058340111276e-11,
           5.665581530187434e-11,
           1.1712934059723432e-10,
           2.3257082520466939e-10,
           4.453242868133144e-10,
           8.251441752175819e-10,
           1.4838906353932598e-9,
           2.596580089636589e-9,
           4.430885603033098e-9,
           7.3876198799241e-9,
           1.2055162123157321e-8,
           1.9281144889967087e-8,
           3.026489328506015e-8,
           4.667393565232364e-8,
           7.078710697448724e-8,
           1.0566489628967093e-7,
           1.55344009191527e-7,
           2.250463739503243e-7,
           3.2138081411794333e-7,
           4.524942889639402e-7,
           6.280910605360887e-7,
           8.591658354678454e-7,
           0.0000011571530874817975,
           0.0000015318834402056045,
           0.000001986979489827257,
           0.0000025091374629707328,
           0.0000030396315121651672,
           0.00000336956984307579,
           0.0000014123489860647108,
           0,
           0,
           0,
           0,
           0,
           0,
           0,
           0,
           0,
           0,
           0,
           0,
           0,
           0,
           0,
           0,
           0,
           0,
           0,
           0,
           0,
           0,
           0,
           0,
           0,
           0,
           0,
           0,
           0,
           0,
           0,
           0,
           0,
           0,
           0,
           0,
           0,
           0,
           0,
           0,
           0,
           0,
           0,
           0,
           0,
           0,
           0,
           0,
           0,
           0,
           0,
           0,
           0,
           0,
           0,
           0,
           0,
           0,
           0,
           0,
           0,
           0,
           0,
           0,
           0,
           0,
           0,
           0,
           0,
           0,
           0,
           0,
           0,
           0,
           0,
           0,
           0,
           0,
           0,
           0,
           0,
           0,
           0,
           2.940768590747695e-51,
           7.881930285419415e-27,
           6.025816508415168e-23,
           1.1230936827029346e-20,
           4.574557695795577e-19,
           8.097207634498996e-18,
           8.459509198272384e-17,
           6.141988669078023e-16,
           3.416368350150138e-15,
           1.550313580761536e-14,
           5.99124734978635e-14,
           2.0330770215968207e-13,
           6.196476526782998e-13,
           1.7256086342696662e-12,
           4.449764185916349e-12,
           1.0737848225134658e-11,
           2.445568390456376e-11,
           5.293536972435334e-11,
           1.0952565696118734e-10,
           2.1766124877505944e-10,
           4.171652743076203e-10,
           7.737512552502469e-10,
           1.3930009236411388e-9,
           2.440464970671011e-9,
           4.169963203965627e-9,
           6.962639089804602e-9,
           1.137982992241437e-8,
           1.8233308620388005e-8,
           2.8676869920611434e-8,
           4.4323464669293726e-8,
           6.739195958182947e-8,
           1.0088684555312618e-7,
           1.4881240598417725e-7,
           2.1641929740478754e-7,
           3.1047505364956766e-7,
           4.395387806408191e-7,
           6.142008773908694e-7,
           8.472147446800663e-7,
           0.000001153386862603775,
           0.0000015489785189163754,
           0.0000020501476093888134,
           0.0000026694709669259857,
           0.000003408393255428295,
           0.000004239986506849479,
           0.000005063484549900614,
           0.000005537044059018876,
           0.000002291006738759262,
           0,
           0,
           0,
           0,
           0,
           0,
           0,
           0,
           0,
           0,
           0,
           0,
           0,
           0,
           0,
           0,
           0,
           0,
           0,
           0,
           0,
           0,
           0,
           0,
           0,
           0,
           0,
           0,
           0,
           0,
           0,
           0,
           0,
           0,
           0,
           0,
           0,
           0,
           0,
           0,
           0,
           0,
           0,
           0,
           0,
           0,
           0,
           0,
           0,
           0,
           0,
           0,
           0,
           0,
           0,
           0,
           0,
           0,
           0,
           0,
           0,
           0,
           0,
           0,
           0,
           0,
           0,
           0,
           0,
           0,
           0,
           0,
           0,
           0,
           0,
           0,
           0,
           0,
           0,
           0,
           0,
           2.720308078465346e-51,
           7.288010126054471e-27,
           5.572793853352436e-23,
           1.0389162643892427e-20,
           4.23288004751421e-19,
           7.494726282860636e-18,
           7.832662749238284e-17,
           5.688879771713e-16,
           3.165524526305713e-15,
           1.4370565375157822e-14,
           5.555912608964828e-14,
           1.8861968386444443e-13,
           5.751550690079213e-13,
           1.6025155327952788e-12,
           4.134572558267418e-12,
           9.982967024649182e-12,
           2.2750313448812324e-11,
           4.927614526388951e-11,
           1.0202571440414153e-10,
           2.029082699438259e-10,
           3.8920270750673426e-10,
           7.225120477501538e-10,
           1.3019709124901089e-9,
           2.283297178286112e-9,
           3.9057123468229635e-9,
           6.529251779160341e-9,
           1.0685534634376013e-8,
           1.714564071374484e-8,
           2.700930566994662e-8,
           4.182012809016133e-8,
           6.371177186461573e-8,
           9.559007353216702e-8,
           1.4135526135057882e-7,
           2.0616674818147023e-7,
           2.9674952633019767e-7,
           4.2173503380547693e-7,
           5.920187795031273e-7,
           8.210991294732831e-7,
           0.00000112533137994028,
           0.0000015239791303910978,
           0.00000203885241466504,
           0.000002693149681020182,
           0.0000035087777207226803,
           0.0000045006769246507,
           0.00000566484291305465,
           0.000006951384787114661,
           0.000008193883812962414,
           0.000008849136143589679,
           0.000003618171513917262,
           0,
           0,
           0,
           0,
           0,
           0,
           0,
           0,
           0,
           0,
           0,
           0,
           0,
           0,
           0,
           0,
           0,
           0,
           0,
           0,
           0,
           0,
           0,
           0,
           0,
           0,
           0,
           0,
           0,
           0,
           0,
           0,
           0,
           0,
           0,
           0,
           0,
           0,
           0,
           0,
           0,
           0,
           0,
           0,
           0,
           0,
           0,
           0,
           0,
           0,
           0,
           0,
           0,
           0,
           0,
           0,
           0,
           0,
           0,
           0,
           0,
           0,
           0,
           0,
           0,
           0,
           0,
           0,
           0,
           0,
           0,
           0,
           0,
           0,
           0,
           0,
           0,
           0,
           0,
           2.5090207313571704e-51,
           6.719133225174654e-27,
           5.1386449764056125e-23,
           9.581930482544858e-21,
           3.9049822140461176e-19,
           6.916078055208758e-18,
           7.230089143671798e-17,
           5.25290740148374e-16,
           2.923923730220593e-15,
           1.3278541433647286e-14,
           5.13567146931481e-14,
           1.7442301260650632e-13,
           5.320922041723044e-13,
           1.483202005673798e-12,
           3.8285695757452666e-12,
           9.248815760181598e-12,
           2.10886222428386e-11,
           4.570322668594148e-11,
           9.468593218423504e-11,
           1.8843396370829274e-10,
           3.616917906694054e-10,
           6.719439683682492e-10,
           1.211821328724454e-9,
           2.127041723284214e-9,
           3.6418342516239567e-9,
           6.094295292454805e-9,
           9.984691440543769e-9,
           1.6040345900103172e-8,
           2.5301395598419757e-8,
           3.9232342237401584e-8,
           5.98648703694086e-8,
           8.997775793299065e-8,
           1.3331968867843505e-7,
           1.9488013157727652e-7,
           2.8121178349241855e-7,
           4.008047691831283e-7,
           5.645069067721738e-7,
           7.859743611806026e-7,
           0.0000010821204353639492,
           0.000001473502862653322,
           0.0000019845442701433863,
           0.000002643402513114131,
           0.000003481169682666282,
           0.000004529821982095567,
           0.000005817831141906977,
           0.000007361230479708421,
           0.000009145167936479538,
           0.000011082894455095941,
           0.000012908657028644374,
           0.000013782223374855577,
           0.000005573773660043977,
           0,
           0,
           0,
           0,
           0,
           0,
           0,
           0,
           0,
           0,
           0,
           0,
           0,
           0,
           0,
           0,
           0,
           0,
           0,
           0,
           0,
           0,
           0,
           0,
           0,
           0,
           0,
           0,
           0,
           0,
           0,
           0,
           0,
           0,
           0,
           0,
           0,
           0,
           0,
           0,
           0,
           0,
           0,
           0,
           0,
           0,
           0,
           0,
           0,
           0,
           0,
           0,
           0,
           0,
           0,
           0,
           0,
           0,
           0,
           0,
           0,
           0,
           0,
           0,
           0,
           0,
           0,
           0,
           0,
           0,
           0,
           0,
           0,
           0,
           0,
           0,
           0,
           2.3072054365242147e-51,
           6.1760760456123064e-27,
           4.72401346005879e-23,
           8.810549765335338e-21,
           3.591447002133605e-19,
           6.362389545809088e-18,
           6.653072373200898e-17,
           4.835087321825745e-16,
           2.6921808872627313e-15,
           1.2230097997268498e-14,
           4.7317977144926874e-14,
           1.6076461655463582e-13,
           4.906142722516966e-13,
           1.368137002371703e-12,
           3.5330671233790697e-12,
           8.538829350344025e-12,
           1.947910158477275e-11,
           4.2236574956848095e-11,
           8.755119866988835e-11,
           1.7433538586031375e-10,
           3.3483515928427986e-10,
           6.224570625265868e-10,
           1.1233590018658403e-9,
           1.9732467458315645e-9,
           3.3812331341979875e-9,
           5.663108399119546e-9,
           9.286937847579946e-9,
           1.4934542061764124e-8,
           2.358311046636853e-8,
           3.661192435730937e-8,
           5.59398742798398e-8,
           8.42000758790733e-8,
           1.2495830570190158e-7,
           1.8298202443228877e-7,
           2.6456617593004396e-7,
           3.779203661469429e-7,
           5.336188633415846e-7,
           7.451092444412733e-7,
           0.0000010292660793438722,
           0.0000014069606228812587,
           0.0000019035925030555807,
           0.000002549488770220707,
           0.000003380008580013461,
           0.000004435077955865261,
           0.000005757678223123424,
           0.00000739043780550792,
           0.000009368729981205754,
           0.00001170704102919146,
           0.000014371308855767666,
           0.00001721797746826889,
           0.00001983524117024103,
           0.000020955322346344883,
           0.000008389184087072675,
           0,
           0,
           0,
           0,
           0,
           0,
           0,
           0,
           0,
           0,
           0,
           0,
           0,
           0,
           0,
           0,
           0,
           0,
           0,
           0,
           0,
           0,
           0,
           0,
           0,
           0,
           0,
           0,
           0,
           0,
           0,
           0,
           0,
           0,
           0,
           0,
           0,
           0,
           0,
           0,
           0,
           0,
           0,
           0,
           0,
           0,
           0,
           0,
           0,
           0,
           0,
           0,
           0,
           0,
           0,
           0,
           0,
           0,
           0,
           0,
           0,
           0,
           0,
           0,
           0,
           0,
           0,
           0,
           0,
           0,
           0,
           0,
           0,
           0,
           0,
           2.1150694324379256e-51,
           5.659365859002034e-27,
           4.3293442271391747e-23,
           8.075942478915597e-21,
           3.292691728828533e-19,
           5.834479604855844e-18,
           6.102558071713838e-17,
           4.436176325259219e-16,
           2.47075881077862e-15,
           1.1227538874697668e-14,
           4.345266058480524e-14,
           1.4768064727774644e-13,
           4.5084153825197706e-13,
           1.257685686173617e-12,
           3.2490910350219568e-12,
           7.855703103009905e-12,
           1.7928433147875133e-11,
           3.8891931134295956e-11,
           8.065696731833257e-11,
           1.6068926462455156e-10,
           3.0879306262614935e-10,
           5.743755167782849e-10,
           1.0372212504929033e-9,
           1.8231332459879576e-9,
           3.126194428619189e-9,
           5.2398799892721605e-9,
           8.599807374882693e-9,
           1.384154854432958e-8,
           2.1877640915702157e-8,
           3.3998703681064346e-8,
           5.200436594288824e-8,
           7.837049475328363e-8,
           1.1645990018854069e-7,
           1.7078417848465135e-7,
           2.4732446561069547e-7,
           3.5391836553987935e-7,
           5.007188258411853e-7,
           7.007277184143684e-7,
           9.704015366162289e-7,
           0.000001330317710610079,
           0.0000018058756565777338,
           0.0000024279837581436094,
           0.0000032336469997494088,
           0.000004266311332432649,
           0.000005575724694106647,
           0.000007216912059206486,
           0.000009247575330991413,
           0.000011722694807470404,
           0.000014684038934708004,
           0.00001813993430186731,
           0.000022024781800011598,
           0.000026110479256216292,
           0.000029776038236684033,
           0.0000311522138200621,
           0.000012354411248909895,
           0,
           0,
           0,
           0,
           0,
           0,
           0,
           0,
           0,
           0,
           0,
           0,
           0,
           0,
           0,
           0,
           0,
           0,
           0,
           0,
           0,
           0,
           0,
           0,
           0,
           0,
           0,
           0,
           0,
           0,
           0,
           0,
           0,
           0,
           0,
           0,
           0,
           0,
           0,
           0,
           0,
           0,
           0,
           0,
           0,
           0,
           0,
           0,
           0,
           0,
           0,
           0,
           0,
           0,
           0,
           0,
           0,
           0,
           0,
           0,
           0,
           0,
           0,
           0,
           0,
           0,
           0,
           0,
           0,
           0,
           0,
           0,
           0,
           1.9327390957328408e-51,
           5.169310924056798e-27,
           3.9549079970627244e-23,
           7.378691635198609e-21,
           3.0089892573010965e-19,
           5.332899108643677e-18,
           5.579197994671021e-17,
           4.056706884286988e-16,
           2.2599889321451527e-15,
           1.027253909932271e-14,
           3.97679452063452e-14,
           1.3519803851594293e-13,
           4.128644830142587e-13,
           1.1521251187765779e-12,
           2.9774253400787973e-12,
           7.2015099236291986e-12,
           1.644178307948113e-11,
           3.568152042475059e-11,
           7.403087443094854e-11,
           1.475555867449115e-10,
           2.8369106626626645e-10,
           5.279537504414166e-10,
           9.53908690227035e-10,
           1.6776605576136296e-9,
           2.8785130316667332e-9,
           4.827896225921991e-9,
           7.929199279878559e-9,
           1.2771768462746158e-8,
           2.0203038797235392e-8,
           3.1423551521961624e-8,
           4.8110453569196784e-8,
           7.257594828866378e-8,
           1.0796801987616648e-7,
           1.585215121058676e-7,
           2.2986819280106308e-7,
           3.2941461444085084e-7,
           4.667961489331638e-7,
           6.544141829149799e-7,
           9.080606011771469e-7,
           0.0000012476286121880976,
           0.0000016979005649009212,
           0.0000022893899730057386,
           0.000003059193862232427,
           0.000004051778569235082,
           0.000005319570280233058,
           0.000006923138954829468,
           0.000008930629416647273,
           0.000011415865895159212,
           0.000014454155209407932,
           0.00001811406495874241,
           0.000022441948547577944,
           0.0000274326661659825,
           0.0000329716419735211,
           0.000038708763922192515,
           0.00004373063390070097,
           0.000045339949011997764,
           0.000017823750512323708,
           0,
           0,
           0,
           0,
           0,
           0,
           0,
           0,
           0,
           0,
           0,
           0,
           0,
           0,
           0,
           0,
           0,
           0,
           0,
           0,
           0,
           0,
           0,
           0,
           0,
           0,
           0,
           0,
           0,
           0,
           0,
           0,
           0,
           0,
           0,
           0,
           0,
           0,
           0,
           0,
           0,
           0,
           0,
           0,
           0,
           0,
           0,
           0,
           0,
           0,
           0,
           0,
           0,
           0,
           0,
           0,
           0,
           0,
           0,
           0,
           0,
           0,
           0,
           0,
           0,
           0,
           0,
           0,
           0,
           0,
           0,
           1.7602692991040814e-51,
           4.7060265523853636e-27,
           3.600822328530844e-23,
           6.719082804667151e-21,
           2.7404859522695485e-19,
           4.857964762619155e-18,
           5.083387658357153e-17,
           3.697016338965994e-16,
           2.0600886785295185e-15,
           9.366229529775646e-15,
           3.6268795836063693e-14,
           1.233357923237869e-13,
           3.767480400511138e-13,
           1.0516570479860984e-12,
           2.718648105947154e-12,
           6.577794616515904e-12,
           1.5023036925060683e-11,
           3.261461031185787e-11,
           6.76940112829201e-11,
           1.3498039333214835e-10,
           2.596260026581546e-10,
           4.833887267501781e-10,
           8.73810074105342e-10,
           1.5375753718691726e-9,
           2.6395881825598743e-9,
           4.429721053407367e-9,
           7.279716876479885e-9,
           1.1733314656283749e-8,
           1.8573362649330223e-8,
           2.8910458396672467e-8,
           4.4298510217341376e-8,
           6.688352992778306e-8,
           9.959291031838639e-8,
           1.463733632399736e-7,
           2.1248651942078492e-7,
           3.0487180812410917e-7,
           4.3258648242132576e-7,
           6.073323028358333e-7,
           8.440771066506463e-7,
           0.0000011617767950231632,
           0.0000015841984734380603,
           0.0000021408375683198695,
           0.0000028679092019050703,
           0.000003809374640551567,
           0.000005017933660095864,
           0.0000065558674629761065,
           0.00000849554484225448,
           0.000010919290281528954,
           0.00001391812722388414,
           0.000017588597204998238,
           0.000022026304094948487,
           0.000027313801039354478,
           0.0000334983588404876,
           0.00004055054787954135,
           0.00004828300525973455,
           0.000056174365714079965,
           0.00006291166159262866,
           0.00006468071501843508,
           0.000025218808451038222,
           0,
           0,
           0,
           0,
           0,
           0,
           0,
           0,
           0,
           0,
           0,
           0,
           0,
           0,
           0,
           0,
           0,
           0,
           0,
           0,
           0,
           0,
           0,
           0,
           0,
           0,
           0,
           0,
           0,
           0,
           0,
           0,
           0,
           0,
           0,
           0,
           0,
           0,
           0,
           0,
           0,
           0,
           0,
           0,
           0,
           0,
           0,
           0,
           0,
           0,
           0,
           0,
           0,
           0,
           0,
           0,
           0,
           0,
           0,
           0,
           0,
           0,
           0,
           0,
           0,
           0,
           0,
           0,
           0,
           1.597651591777953e-51,
           4.269457801105769e-27,
           3.2670698741887885e-23,
           6.097140016290414e-21,
           2.487217141954622e-19,
           4.409788097155046e-18,
           4.6152984958984854e-17,
           3.357271727562605e-16,
           1.8711761917364545e-15,
           8.509268177568411e-15,
           3.295825693291857e-14,
           1.1210605281894232e-13,
           3.42535114104361e-13,
           9.56418468873885e-13,
           2.4731608680455045e-12,
           5.9856508426276746e-12,
           1.3674990113483667e-11,
           2.9697960038371096e-11,
           6.166194127471909e-11,
           1.229979983717242e-10,
           2.366706549641933e-10,
           4.4082956045622394e-10,
           7.972215018148186e-10,
           1.4034492801480848e-9,
           2.410495371114273e-9,
           4.047331485752398e-9,
           6.65491808141821e-9,
           1.0732467307707272e-8,
           1.6999503540669664e-8,
           2.6478009102646077e-8,
           4.059978580475303e-8,
           6.13450856424077e-8,
           9.141954689535008e-8,
           1.344774824700128e-7,
           1.9540055493453274e-7,
           2.806417618704017e-7,
           3.986453362809108e-7,
           5.603534830128046e-7,
           7.798106008050189e-7,
           0.0000010748744653012749,
           0.0000014680413234111746,
           0.0000019873873340413558,
           0.000002667621361039138,
           0.000003551232429774375,
           0.000004689697186441532,
           0.000006144685387185062,
           0.000007989160016927276,
           0.000010308205426022937,
           0.000013199319139150552,
           0.000016771748747632843,
           0.000021144204866372462,
           0.0000264398591563127,
           0.00003277679092521971,
           0.00004025064800737167,
           0.000048903462754681595,
           0.000058666283970400495,
           0.00006924747391648174,
           0.00007989132830106155,
           0.00008875046003342786,
           0.00009053350921451804,
           0.00003502766204176791,
           0,
           0,
           0,
           0,
           0,
           0,
           0,
           0,
           0,
           0,
           0,
           0,
           0,
           0,
           0,
           0,
           0,
           0,
           0,
           0,
           0,
           0,
           0,
           0,
           0,
           0,
           0,
           0,
           0,
           0,
           0,
           0,
           0,
           0,
           0,
           0,
           0,
           0,
           0,
           0,
           0,
           0,
           0,
           0,
           0,
           0,
           0,
           0,
           0,
           0,
           0,
           0,
           0,
           0,
           0,
           0,
           0,
           0,
           0,
           0,
           0,
           0,
           0,
           0,
           0,
           0,
           0,
           1.4448214022524148e-51,
           3.8593993762217525e-27,
           2.953514338909921e-23,
           5.512657036152036e-21,
           2.249120543081389e-19,
           3.988300553259986e-18,
           4.17490557361068e-17,
           3.037491106166796e-16,
           1.6932829149348646e-15,
           7.701900946428145e-15,
           2.983770269584714e-14,
           1.0151501236506199e-13,
           3.102495363926307e-13,
           8.664904496623381e-13,
           2.241213095037261e-12,
           5.425784741834496e-12,
           1.2399504521636512e-11,
           2.6936187793635058e-11,
           5.5945525516995056e-11,
           1.1163277719793675e-10,
           2.148775059216673e-10,
           4.0038514930384434e-10,
           7.243615552449771e-10,
           1.2757081027678976e-9,
           2.1920420023580144e-9,
           3.682221319933287e-9,
           6.057505497368757e-9,
           9.77401727876601e-9,
           1.5489797296568837e-8,
           2.4140462233424838e-8,
           3.7038292226951934e-8,
           5.600047895718231e-8,
           8.351325175777685e-8,
           1.2293964478121398e-7,
           1.787797404463341e-7,
           2.5699327221134344e-7,
           3.6539541831529195e-7,
           5.14137360095588e-7,
           7.162835618267809e-7,
           9.884975403424716e-7,
           0.0000013518468331802972,
           0.0000018327355245194,
           0.000002463968457781247,
           0.0000032859443117490986,
           0.000004347963832937743,
           0.000005709622930704871,
           0.000007442235416162404,
           0.000009630192884393729,
           0.000012372113323275642,
           0.000015781545372518003,
           0.00001998686491595161,
           0.000025129795715880372,
           0.00003136165332412126,
           0.00003883585101036048,
           0.00004769421468728772,
           0.000058042789832625055,
           0.0000699090457524504,
           0.00008316395874949303,
           0.00009737118165270849,
           0.0001114618266762986,
           0.00012288817328863304,
           0.0001244416858375151,
           0.00004779880610465399,
           0,
           0,
           0,
           0,
           0,
           0,
           0,
           0,
           0,
           0,
           0,
           0,
           0,
           0,
           0,
           0,
           0,
           0,
           0,
           0,
           0,
           0,
           0,
           0,
           0,
           0,
           0,
           0,
           0,
           0,
           0,
           0,
           0,
           0,
           0,
           0,
           0,
           0,
           0,
           0,
           0,
           0,
           0,
           0,
           0,
           0,
           0,
           0,
           0,
           0,
           0,
           0,
           0,
           0,
           0,
           0,
           0,
           0,
           0,
           0,
           0,
           0,
           0,
           0,
           0,
           1.3016644233609175e-51,
           3.475513212496311e-27,
           2.659914532018745e-23,
           4.965224824458119e-21,
           2.0260480078620805e-19,
           3.593275360054634e-18,
           3.7620116796737306e-17,
           2.7375620118165006e-16,
           1.5263644525658823e-15,
           6.944013836461954e-15,
           2.6907051162131477e-14,
           9.156368403670615e-14,
           2.79898572757424e-13,
           7.819055880927142e-13,
           2.022922758934738e-12,
           4.898568157961065e-12,
           1.1197638765351803e-11,
           2.4332074597910988e-11,
           5.055160212714258e-11,
           1.0090062909300415e-10,
           1.9428178394500986e-10,
           3.6213033288535915e-10,
           6.553834259105068e-10,
           1.1546552105801142e-9,
           1.9848113042550393e-9,
           3.335482245679453e-9,
           5.4894737188591216e-9,
           8.861529603181106e-9,
           1.405048949029216e-8,
           2.1908560993025508e-8,
           3.363220240464491e-8,
           5.087998305284348e-8,
           7.592375212692922e-8,
           1.1184049010747192e-7,
           1.627533191266368e-7,
           2.3413127591495227e-7,
           3.3315855267515073e-7,
           4.6918491354526164e-7,
           6.542697926138958e-7,
           9.038330271926705e-7,
           0.0000012374250736181013,
           0.0000016796286101439674,
           0.0000022611012612520495,
           0.0000030197652349301355,
           0.000004002143184089254,
           0.000005264829499923852,
           0.000006876070957676092,
           0.000008917407881380836,
           0.000011485293369652054,
           0.000014692558435218468,
           0.000018669517019811838,
           0.000023564393618219992,
           0.000029542585742177092,
           0.00003678400558310836,
           0.00004547731085064712,
           0.00005580910180074412,
           0.00006794486220090258,
           0.00008199597419755507,
           0.00009796216261476907,
           0.00011562759991133206,
           0.0001343607292233272,
           0.00015268330162978116,
           0.00016714767206263087,
           0.0001681022757021557,
           0.00006412851988286688,
           0,
           0,
           0,
           0,
           0,
           0,
           0,
           0,
           0,
           0,
           0,
           0,
           0,
           0,
           0,
           0,
           0,
           0,
           0,
           0,
           0,
           0,
           0,
           0,
           0,
           0,
           0,
           0,
           0,
           0,
           0,
           0,
           0,
           0,
           0,
           0,
           0,
           0,
           0,
           0,
           0,
           0,
           0,
           0,
           0,
           0,
           0,
           0,
           0,
           0,
           0,
           0,
           0,
           0,
           0,
           0,
           0,
           0,
           0,
           0,
           0,
           0,
           0,
           1.1680223090544241e-51,
           3.1173441045945726e-27,
           2.3859368261935137e-23,
           4.4542558088443856e-21,
           1.8177758779884864e-19,
           3.2243467587101277e-18,
           3.3762684237661316e-17,
           2.4572575813194116e-16,
           1.370310018908699e-15,
           6.235178202461468e-15,
           2.4164949133293957e-14,
           8.224856626187867e-14,
           2.514750730595326e-13,
           7.02654374543193e-13,
           1.818293812527809e-12,
           4.404083655047442e-12,
           1.0069757869402282e-11,
           2.1886818811549506e-11,
           4.548355216890167e-11,
           9.081018910549808e-11,
           1.749039723278188e-10,
           3.2611093504550895e-10,
           5.903847802349326e-10,
           1.0404903678799084e-9,
           1.7891975494134903e-9,
           3.0078684168030775e-9,
           4.952225660098162e-9,
           7.997549792230126e-9,
           1.2686096208909107e-8,
           1.9790156179807036e-8,
           3.039491411103098e-8,
           4.600607955173174e-8,
           6.868819569726532e-8,
           1.0124054089396036e-7,
           1.4741863343545739e-7,
           2.1221050116077247e-7,
           3.021780521405345e-7,
           4.2587503079078945e-7,
           5.943540929320202e-7,
           8.217763822509157e-7,
           0.0000011261374987892884,
           0.0000015301237240948902,
           0.000002062111542246894,
           0.000002757321507036086,
           0.000003659133851614438,
           0.000004820567222509234,
           0.000006305912571667003,
           0.000008192500179226978,
           0.000010572557023437097,
           0.00001355508136151862,
           0.000017267617103926477,
           0.000021857745730733988,
           0.000027494017712570324,
           0.00003436590182837251,
           0.00004268211123101286,
           0.00005266632052667223,
           0.00006454872920277262,
           0.00007855098246169777,
           0.00009486028344889066,
           0.00011358536377948062,
           0.00013468052614743484,
           0.00015780950290933776,
           0.0001820841313872535,
           0.0002055022906016697,
           0.0002234817355097675,
           0.00022331313184471008,
           0.00008464037524033416,
           0,
           0,
           0,
           0,
           0,
           0,
           0,
           0,
           0,
           0,
           0,
           0,
           0,
           0,
           0,
           0,
           0,
           0,
           0,
           0,
           0,
           0,
           0,
           0,
           0,
           0,
           0,
           0,
           0,
           0,
           0,
           0,
           0,
           0,
           0,
           0,
           0,
           0,
           0,
           0,
           0,
           0,
           0,
           0,
           0,
           0,
           0,
           0,
           0,
           0,
           0,
           0,
           0,
           0,
           0,
           0,
           0,
           0,
           0,
           0,
           0,
           1.043697788367348e-51,
           2.7843336936429154e-27,
           2.1311662758287348e-23,
           3.979005487472323e-21,
           1.6240141740946088e-19,
           2.881027015509548e-18,
           3.01719485498599e-17,
           2.1962507307401888e-16,
           1.2249507235202222e-15,
           5.574690310469842e-15,
           2.1608933252089876e-14,
           7.356221969562439e-14,
           2.2495932985336223e-13,
           6.286906733402732e-13,
           1.627231184467404e-12,
           3.942162978480667e-12,
           9.015626558790289e-12,
           1.9600251646846142e-11,
           4.074177658829442e-11,
           8.136384418421712e-11,
           1.567519022290283e-10,
           2.923479467262762e-10,
           5.294158957998428e-10,
           9.333251782188036e-10,
           1.6054347416261967e-9,
           2.6998486856886198e-9,
           4.446665984200143e-9,
           7.183768275088427e-9,
           1.1399689300358455e-8,
           1.779069456017345e-8,
           2.733587636445174e-8,
           4.1394842309065055e-8,
           6.183344636753053e-8,
           9.11839798206048e-8,
           1.328472977881741e-7,
           1.9134549317126817e-7,
           2.7263492143938197e-7,
           3.844905931526441e-7,
           5.369741369620206e-7,
           7.429986239365768e-7,
           0.0000010190044368432356,
           0.0000013857609314122003,
           0.0000018693086878932336,
           0.0000025020564419576483,
           0.0000033240449766348562,
           0.0000043843868912656345,
           0.000005742885608417419,
           0.000007471828363047715,
           0.000009657935021042086,
           0.000012404425670775824,
           0.000015833142539282544,
           0.000020086622267779233,
           0.000025329957500320084,
           0.000031752203761120956,
           0.00003956696560579787,
           0.00004901161375256079,
           0.000060344306609859637,
           0.0000738375529730451,
           0.00008976634394088023,
           0.00010838768304470659,
           0.00012990620977998781,
           0.00015441657270865008,
           0.0001818049579907963,
           0.00021157363289588365,
           0.00024250515491080075,
           0.00027194052394555266,
           0.00029389342999320596,
           0.00029189451068546067,
           0.00010995584397740835,
           0,
           0,
           0,
           0,
           0,
           0,
           0,
           0,
           0,
           0,
           0,
           0,
           0,
           0,
           0,
           0,
           0,
           0,
           0,
           0,
           0,
           0,
           0,
           0,
           0,
           0,
           0,
           0,
           0,
           0,
           0,
           0,
           0,
           0,
           0,
           0,
           0,
           0,
           0,
           0,
           0,
           0,
           0,
           0,
           0,
           0,
           0,
           0,
           0,
           0,
           0,
           0,
           0,
           0,
           0,
           0,
           0,
           0,
           0,
           9.284592831974533e-52,
           2.475833057997488e-27,
           1.895116600854139e-23,
           3.53859177876307e-21,
           1.4444148054170783e-19,
           2.5627215804930442e-18,
           2.6841940048678552e-17,
           1.9541267188597608e-16,
           1.0900668908140874e-15,
           4.961606176704979e-15,
           1.9235571420946385e-14,
           6.54937720292763e-14,
           2.0032069933285904e-13,
           5.599364860739187e-13,
           1.4495537621335977e-12,
           3.512420227176659e-12,
           8.034489399296109e-12,
           1.7471021527717634e-11,
           3.632410243018927e-11,
           7.255859469758954e-11,
           1.3982251873004118e-10,
           2.608410378132847e-10,
           4.724864566232843e-10,
           8.33195913586647e-10,
           1.4336203049803064e-9,
           2.411649475690935e-9,
           3.973277295258007e-9,
           6.421153593515357e-9,
           1.0193125767821562e-8,
           1.5913608643241578e-8,
           2.4461243684211544e-8,
           3.7057023620514906e-8,
           5.53778699239539e-8,
           8.170155978677493e-8,
           1.1908990419864766e-7,
           1.716181724528633e-7,
           2.44659927508487e-7,
           3.4523765906698974e-7,
           4.824508436320836e-7,
           6.67994274978726e-7,
           9.167806266225599e-7,
           0.0000012476821366968228,
           0.0000016844069179923452,
           0.0000022565255199567604,
           0.000003000662773677476,
           0.000003961868323495198,
           0.00000519517616895353,
           0.0000067673584371331295,
           0.000008758870697441194,
           0.000011265974341518266,
           0.000014403004376163392,
           0.000018304726287414355,
           0.000023128690363467455,
           0.000029057441515938027,
           0.000036300370473668434,
           0.000045094887894518534,
           0.000055706450127903685,
           0.0000684267375245161,
           0.00008356893866728445,
           0.00010145854856145412,
           0.00012241720284266285,
           0.00014673556875087864,
           0.00017462863657252039,
           0.00020616167646945438,
           0.00024112472686840737,
           0.0002788100497015781,
           0.00031758721065901934,
           0.00035398978242421394,
           0.0003803256559533393,
           0.0003755827445445689,
           0.00014065536657575722,
           0,
           0,
           0,
           0,
           0,
           0,
           0,
           0,
           0,
           0,
           0,
           0,
           0,
           0,
           0,
           0,
           0,
           0,
           0,
           0,
           0,
           0,
           0,
           0,
           0,
           0,
           0,
           0,
           0,
           0,
           0,
           0,
           0,
           0,
           0,
           0,
           0,
           0,
           0,
           0,
           0,
           0,
           0,
           0,
           0,
           0,
           0,
           0,
           0,
           0,
           0,
           0,
           0,
           0,
           0,
           0,
           0,
           8.220451015860709e-52,
           2.1911141132908583e-27,
           1.677239205204032e-23,
           3.1320124588984023e-21,
           1.2785789502626772e-19,
           2.2687426811940612e-18,
           2.3765676845855048e-17,
           1.730394355078523e-16,
           9.6539457203355e-16,
           4.394772474862555e-15,
           1.7040587893603172e-14,
           5.802936316335496e-14,
           1.77519026281408e-13,
           4.962861252616686e-13,
           1.2850057286896651e-12,
           3.1142807182024857e-12,
           7.125140274883279e-12,
           1.5496753306866272e-11,
           3.2226132254598584e-11,
           6.438679239979122e-11,
           1.2410338702951635e-10,
           2.3157153860694698e-10,
           4.1957129470397063e-10,
           7.400743000994024e-10,
           1.2737348954265068e-9,
           2.143290438977293e-9,
           3.532183142810695e-9,
           5.7100618731269874e-9,
           9.067235098487537e-9,
           1.416063282747338e-8,
           2.1774402965222607e-8,
           3.29989223305784e-8,
           4.9332749726241025e-8,
           7.281289127830107e-8,
           1.0617968755592931e-7,
           1.5308366504453538e-7,
           2.1834281395632145e-7,
           3.0825994643516153e-7,
           4.3101103202407345e-7,
           5.971166681236587e-7,
           8.200100753667997e-7,
           0.000001116716146406982,
           0.0000015086570328193966,
           0.0000020226004088077142,
           0.0000026917667415076257,
           0.0000035571114111779872,
           0.0000046687960737647654,
           0.000006087860859607348,
           0.000007888104339983398,
           0.000010158170970688589,
           0.000013003834988145193,
           0.000016550454177993106,
           0.000020945544728968665,
           0.000026361396933515266,
           0.000032997607064583596,
           0.0000410833378558807,
           0.000050879030398059855,
           0.00006267716125581194,
           0.00007680145016474698,
           0.00009360364311175595,
           0.00011345656783746938,
           0.0001367414872313157,
           0.00016382668377319285,
           0.00019503235415702409,
           0.00023057358067069897,
           0.0002704668477580423,
           0.00031437264796678135,
           0.0003613175360879489,
           0.0004091643759558313,
           0.00045347357750937726,
           0.00048451849239229146,
           0.00047589526602862155,
           0.00017722983940259436,
           0,
           0,
           0,
           0,
           0,
           0,
           0,
           0,
           0,
           0,
           0,
           0,
           0,
           0,
           0,
           0,
           0,
           0,
           0,
           0,
           0,
           0,
           0,
           0,
           0,
           0,
           0,
           0,
           0,
           0,
           0,
           0,
           0,
           0,
           0,
           0,
           0,
           0,
           0,
           0,
           0,
           0,
           0,
           0,
           0,
           0,
           0,
           0,
           0,
           0,
           0,
           0,
           0,
           0,
           0,
           7.241672662441443e-52,
           1.929379992031296e-27,
           1.476931369944587e-23,
           2.758160968407056e-21,
           1.12606373104885e-19,
           1.9983215885166103e-18,
           2.0935298047974574e-17,
           1.5244960634280008e-16,
           8.506313777089222e-16,
           3.872854145397181e-15,
           1.501897471425419e-14,
           5.115254067595273e-14,
           1.5650590622439402e-13,
           4.3760989998115264e-13,
           1.1332665430081277e-12,
           2.747006313142999e-12,
           6.285983141671863e-12,
           1.3674187000713156e-11,
           2.8441547484629875e-11,
           5.683677864933834e-11,
           1.0957398985605993e-10,
           2.0450499732338546e-10,
           3.706152936912887e-10,
           6.538766878303633e-10,
           1.1256591641347272e-9,
           1.894614477637931e-9,
           3.1232007893345565e-9,
           5.0503280044342515e-9,
           8.02197439333268e-9,
           1.2532063616086232e-8,
           1.927640436380158e-8,
           2.9223088986628968e-8,
           4.370342843817375e-8,
           6.452827314601317e-8,
           9.413543573767503e-8,
           1.3577489211502e-7,
           1.9373948895955355e-7,
           2.736500205853912e-7,
           3.828047423498042e-7,
           5.306046399686205e-7,
           7.290670422972871e-7,
           9.934414045337349e-7,
           0.0000013429422375192027,
           0.0000018016151330579036,
           0.000002399352522671283,
           0.0000031730760585565827,
           0.000004168102122667715,
           0.0000054397056904038305,
           0.000007054895251282912,
           0.000009094407256672684,
           0.0000116549220034079,
           0.000014851493134280458,
           0.000018820168900738904,
           0.00002372076341703406,
           0.00002973970814213735,
           0.00003709287464112493,
           0.00004602820480612946,
           0.00005682790754280587,
           0.0000698098714996009,
           0.00008532778639245233,
           0.00010376923655285584,
           0.00012555068980869694,
           0.00015110778561126185,
           0.00018087851061678284,
           0.00021527552146040504,
           0.00025464161578731356,
           0.00029917830916243495,
           0.0003488297716815168,
           0.00040308853606820915,
           0.00046065354118414865,
           0.0005187792486771847,
           0.0005718759925290064,
           0.0006078353092072026,
           0.0005939684504518875,
           0.00022002327219121563,
           0,
           0,
           0,
           0,
           0,
           0,
           0,
           0,
           0,
           0,
           0,
           0,
           0,
           0,
           0,
           0,
           0,
           0,
           0,
           0,
           0,
           0,
           0,
           0,
           0,
           0,
           0,
           0,
           0,
           0,
           0,
           0,
           0,
           0,
           0,
           0,
           0,
           0,
           0,
           0,
           0,
           0,
           0,
           0,
           0,
           0,
           0,
           0,
           0,
           0,
           0,
           0,
           0,
           6.345150284655213e-52,
           1.6897745451371985e-27,
           1.2935437377597994e-23,
           2.4158408215579986e-21,
           9.863882863999793e-20,
           1.750619750364873e-18,
           1.8342184388845375e-17,
           1.335816976110914e-16,
           7.454417351548364e-16,
           3.3943592219725005e-15,
           1.3165091670060552e-14,
           4.484461359719865e-14,
           1.372258114476263e-13,
           3.837573947270871e-13,
           9.939597922545358e-13,
           2.4097178156657187e-12,
           5.5150855876199e-12,
           1.1999299697275514e-11,
           2.4962374058894e-11,
           4.989344135062546e-11,
           9.620685550392712e-11,
           1.79593395218995e-10,
           3.255376191746225e-10,
           5.744719285355058e-10,
           9.891880962091706e-10,
           1.6653133059560527e-9,
           2.7458859269786825e-9,
           4.441342527581707e-9,
           7.056558490858472e-9,
           1.102697669011246e-8,
           1.6966318672288565e-8,
           2.5728907140512163e-8,
           3.849024320451437e-8,
           5.685018204665503e-8,
           8.296384025022054e-8,
           1.1970624918576717e-7,
           1.708777412147093e-7,
           2.414581153983748e-7,
           3.379187688731236e-7,
           4.6860318534098197e-7,
           6.441874221227898e-7,
           8.782335013172385e-7,
           0.0000011878498459940132,
           0.0000015944740505549055,
           0.00000212479425683952,
           0.000002811826119729207,
           0.0000036961626498756066,
           0.000004827413935072231,
           0.000006265852626846136,
           0.000008084278820687866,
           0.000010370114141852481,
           0.000013227728922976578,
           0.00001678099758882377,
           0.00002117606475533636,
           0.00002658428675410662,
           0.000033205288447708926,
           0.00004127004070414764,
           0.000051043816055681836,
           0.0000628288135391477,
           0.00007696615063019733,
           0.00009383678867915183,
           0.00011386077000716159,
           0.0001374938707407975,
           0.00016522036595134707,
           0.0001975399821232794,
           0.00023494613457453582,
           0.00027789095343786987,
           0.00032672988704063755,
           0.0003816338023369208,
           0.0004424472065651512,
           0.0005084520612043959,
           0.000577953235891145,
           0.0006474902163671988,
           0.0007101410411366207,
           0.000751061657995566,
           0.0007303725526897057,
           0.00026916835851130465,
           0,
           0,
           0,
           0,
           0,
           0,
           0,
           0,
           0,
           0,
           0,
           0,
           0,
           0,
           0,
           0,
           0,
           0,
           0,
           0,
           0,
           0,
           0,
           0,
           0,
           0,
           0,
           0,
           0,
           0,
           0,
           0,
           0,
           0,
           0,
           0,
           0,
           0,
           0,
           0,
           0,
           0,
           0,
           0,
           0,
           0,
           0,
           0,
           0,
           0,
           0,
           5.527581097986413e-52,
           1.471391085307597e-27,
           1.1263871867648101e-23,
           2.103778814154361e-21,
           8.59039325789774e-20,
           1.5247389556729265e-18,
           1.5977068125135253e-17,
           1.163693199786734e-16,
           6.49461657047708e-16,
           2.957661297496907e-15,
           1.1472756526232066e-14,
           3.9084971008001104e-14,
           1.1961710249070415e-13,
           3.345604070750431e-13,
           8.66661101800772e-13,
           2.1014149279261563e-12,
           4.810226415839593e-12,
           1.0467413534484845e-11,
           2.1779216993011398e-11,
           4.3538705114086645e-11,
           8.396854725311945e-11,
           1.567770826834515e-10,
           2.842354025623737e-10,
           5.016882096765764e-10,
           8.640434002222955e-10,
           1.4549494460905427e-9,
           2.399570988302941e-9,
           3.88211720406619e-9,
           6.169570417294311e-9,
           9.643410245541174e-9,
           1.4841537578387335e-8,
           2.251307907126752e-8,
           3.36893025629385e-8,
           4.977450231442995e-8,
           7.26614248086417e-8,
           1.0487660437775598e-7,
           1.4976186471666835e-7,
           2.116992165810049e-7,
           2.9638743966925936e-7,
           4.111797697087588e-7,
           5.654933065904547e-7,
           7.713019956130339e-7,
           0.0000010437262822645408,
           0.000001401733760996645,
           0.000001868966275290827,
           0.0000024747099068183515,
           0.0000032550250190566745,
           0.000004254053868624976,
           0.000005525523100215427,
           0.000007134457482125669,
           0.000009159119236586025,
           0.000011693183902312466,
           0.000014848158349132554,
           0.000018756038701556545,
           0.000023572194659803664,
           0.000029478450874831527,
           0.00003668631406124998,
           0.000045440264243804963,
           0.00005602098688690545,
           0.00006874836532694086,
           0.00008398397365254443,
           0.00010213269971178315,
           0.00012364297230561697,
           0.00014900484424760244,
           0.0001787448594690551,
           0.00021341615139184106,
           0.0002535814858181179,
           0.0002997858061555713,
           0.00035251295173382047,
           0.00041211800066627,
           0.0004787209040051963,
           0.00055203601383041,
           0.0006310892680416396,
           0.0007137229197278868,
           0.0007956543513833242,
           0.000868449633981881,
           0.000914184652098477,
           0.0008849113808107712,
           0.00032451786640922607,
           0,
           0,
           0,
           0,
           0,
           0,
           0,
           0,
           0,
           0,
           0,
           0,
           0,
           0,
           0,
           0,
           0,
           0,
           0,
           0,
           0,
           0,
           0,
           0,
           0,
           0,
           0,
           0,
           0,
           0,
           0,
           0,
           0,
           0,
           0,
           0,
           0,
           0,
           0,
           0,
           0,
           0,
           0,
           0,
           0,
           0,
           0,
           0,
           0,
           4.785497075304275e-52,
           1.2732804739007312e-27,
           9.747391764737587e-24,
           1.820637194592284e-21,
           7.434762385685448e-20,
           1.3197306650794949e-18,
           1.3830133722735732e-17,
           1.0074193737949369e-16,
           5.623030924491245e-16,
           2.5610199789024262e-15,
           9.935327000838988e-15,
           3.385137081198918e-14,
           1.0361294278122478e-13,
           2.8983559755866663e-13,
           7.509052522516728e-13,
           1.820994159693044e-12,
           4.168938231090513e-12,
           9.07329206900591e-12,
           1.888146911441707e-11,
           3.775196613386031e-11,
           7.282053845570826e-11,
           1.3598648604767333e-10,
           2.465869777349777e-10,
           4.3531903771382004e-10,
           7.498843158044138e-10,
           1.2629753422033703e-9,
           2.0833983058954018e-9,
           3.3713415366760958e-9,
           5.3590561775449985e-9,
           8.378521625004565e-9,
           1.2898028971784623e-8,
           1.9570036737342373e-8,
           2.9293140335676574e-8,
           4.329155542371122e-8,
           6.321615036404583e-8,
           9.127177853513568e-8,
           1.3037645990574186e-7,
           1.843588442269305e-7,
           2.5820135416134417e-7,
           3.5833745143115283e-7,
           4.930125844826154e-7,
           6.727195490813336e-7,
           9.107202041160514e-7,
           0.000001223666706022116,
           0.0000016323366186597966,
           0.000002162497370166116,
           0.0000028459164966528124,
           0.0000037215348460023567,
           0.000004836820297897449,
           0.000006249319438610467,
           0.000008028423816495513,
           0.000010257365644264046,
           0.000013035454778919784,
           0.00001648056407142051,
           0.00002073186317358714,
           0.00002595279087644003,
           0.00003233424204143981,
           0.000040097925840195436,
           0.000049499825522198656,
           0.0000608336537766024,
           0.00007443414843118352,
           0.00009067998573975298,
           0.00010999599559964458,
           0.00013285423399029883,
           0.00015977328651225808,
           0.00019131491798711115,
           0.00022807680659082879,
           0.00027067954114136833,
           0.0003197452051562941,
           0.00037586352377541024,
           0.00043953934563861714,
           0.000511111465564181,
           0.0005906260144248981,
           0.0006776346527019721,
           0.0007708609417632525,
           0.0008676171533223913,
           0.0009626964324850191,
           0.0010459855937864212,
           0.0010961647928465674,
           0.0010564181549822095,
           0.0003855760487658637,
           0,
           0,
           0,
           0,
           0,
           0,
           0,
           0,
           0,
           0,
           0,
           0,
           0,
           0,
           0,
           0,
           0,
           0,
           0,
           0,
           0,
           0,
           0,
           0,
           0,
           0,
           0,
           0,
           0,
           0,
           0,
           0,
           0,
           0,
           0,
           0,
           0,
           0,
           0,
           0,
           0,
           0,
           0,
           0,
           0,
           0,
           0,
           4.1152929487758216e-52,
           1.0944586381521977e-27,
           8.378496364513772e-24,
           1.565024938160351e-21,
           6.391358181869859e-20,
           1.1346046232300037e-18,
           1.1891110618963456e-17,
           8.662556202775936e-17,
           4.835579199326957e-16,
           2.202599621574794e-15,
           8.545775689285297e-15,
           2.912020310650733e-14,
           8.91421309746557e-14,
           2.4938689562944617e-13,
           6.461926261525994e-13,
           1.5672650112432887e-12,
           3.5885458246466163e-12,
           7.811226911154111e-12,
           1.6257498207884967e-11,
           3.2510480997858635e-11,
           6.271999265770179e-11,
           1.1714362459988373e-10,
           2.124547488242396e-10,
           3.7512852232874074e-10,
           6.463171263712309e-10,
           1.0887501255821892e-9,
           1.7963490908031603e-9,
           2.9074319749443783e-9,
           4.622606951710722e-9,
           7.228722576529566e-9,
           1.1130556460124676e-8,
           1.6892293521060534e-8,
           2.5291272662879112e-8,
           3.738697261169956e-8,
           5.4608768523183064e-8,
           7.886662512942885e-8,
           1.126896031010814e-7,
           1.5939784519840048e-7,
           2.2331457829034372e-7,
           3.1002561487469636e-7,
           4.2669485894866167e-7,
           5.824454079343682e-7,
           7.888169821962777e-7,
           0.0000010603115879592083,
           0.0000014150405021887975,
           0.0000018754868239222855,
           0.000002469398918550258,
           0.00000323083102770913,
           0.000004201348047034179,
           0.0000054314118825144555,
           0.000006981966748704604,
           0.000008926240094820916,
           0.000011351774313840495,
           0.00001436270171598841,
           0.000018082271056774682,
           0.000022655627713181166,
           0.000028252840760410514,
           0.0000350721578715523,
           0.000043343452018511585,
           0.00005333180087929543,
           0.00006534110858899082,
           0.00007971763715641859,
           0.00009685325750477647,
           0.00011718815197848029,
           0.00014121259300680793,
           0.00016946727415400266,
           0.0002025414614179774,
           0.00024106793548536254,
           0.00028571326362084823,
           0.00033716129715022906,
           0.0003960868080771203,
           0.00046311462815237537,
           0.0005387571144570172,
           0.0006233184194020232,
           0.0007167462064992978,
           0.000818396412395646,
           0.0009266455006504476,
           0.0010382136617749032,
           0.001146879367602899,
           0.0012407069290444428,
           0.0012947167871750894,
           0.0012425630504157988,
           0.00045143562004498235,
           0,
           0,
           0,
           0,
           0,
           0,
           0,
           0,
           0,
           0,
           0,
           0,
           0,
           0,
           0,
           0,
           0,
           0,
           0,
           0,
           0,
           0,
           0,
           0,
           0,
           0,
           0,
           0,
           0,
           0,
           0,
           0,
           0,
           0,
           0,
           0,
           0,
           0,
           0,
           0,
           0,
           0,
           0,
           0,
           0,
           3.5132524255694346e-52,
           9.339135934363795e-28,
           7.149464581545533e-24,
           1.3355082443144687e-21,
           5.454366534827073e-20,
           9.683368504841e-19,
           1.0149359150109723e-17,
           7.394339706884774e-17,
           4.1280163307825735e-16,
           1.880486587747127e-15,
           7.296758951240699e-15,
           2.486673184497447e-14,
           7.612986310878367e-14,
           2.1300769804202507e-13,
           5.51995085549222e-13,
           1.3389646940425183e-12,
           3.0662010089633923e-12,
           6.6751161563352565e-12,
           1.389481601529493e-11,
           2.7789716887273364e-11,
           5.362046436294688e-11,
           1.0016346948835952e-10,
           1.8168775167702688e-10,
           3.208560820855964e-10,
           5.529036039721272e-10,
           9.315544496549577e-10,
           1.5372689886368856e-9,
           2.488575157797996e-9,
           3.957431067959577e-9,
           6.189797239477836e-9,
           9.532870094757364e-9,
           1.4470748578400045e-8,
           2.167067790020775e-8,
           3.20424432703858e-8,
           4.681397680369753e-8,
           6.762679683690057e-8,
           9.665552448823233e-8,
           1.3675642031249475e-7,
           1.916506561380713e-7,
           2.6614888382970907e-7,
           3.664245819849869e-7,
           5.003446489980622e-7,
           6.778667587127165e-7,
           9.115140909921627e-7,
           0.0000012169391765608459,
           0.0000016135897293145027,
           0.000002125490447427393,
           0.000002782155803948689,
           0.0000036196497618965234,
           0.000004681809065241717,
           0.000006021647181794306,
           0.000007702955986513586,
           0.000009802121720042986,
           0.000012410170439962397,
           0.00001563505584818268,
           0.000019604198701344052,
           0.000024467281571026326,
           0.000030399294969826323,
           0.000037603820081581574,
           0.000046316518583691195,
           0.00005680878006647591,
           0.00006939145064086017,
           0.00008441853016521534,
           0.0001022906769118137,
           0.00012345829293548968,
           0.0001484238744800957,
           0.00017774319012237085,
           0.00021202468114614562,
           0.0002519262428247456,
           0.0002981482091435307,
           0.00035142087471582177,
           0.00041248416007026907,
           0.00048205591327973423,
           0.0005607835820932368,
           0.0006491711056214025,
           0.0007474679287646162,
           0.0008554981102999377,
           0.0009723903241340444,
           0.0010961339298855592,
           0.0012228049965628044,
           0.0013450962640687769,
           0.0014491434627611792,
           0.0015061205222360592,
           0.00143969192834747,
           0.000520727143628184,
           0,
           0,
           0,
           0,
           0,
           0,
           0,
           0,
           0,
           0,
           0,
           0,
           0,
           0,
           0,
           0,
           0,
           0,
           0,
           0,
           0,
           0,
           0,
           0,
           0,
           0,
           0,
           0,
           0,
           0,
           0,
           0,
           0,
           0,
           0,
           0,
           0,
           0,
           0,
           0,
           0,
           0,
           0,
           2.975572849428177e-52,
           7.906120353533621e-28,
           6.0524064227951394e-24,
           1.1306203601594226e-21,
           4.617832316174369e-20,
           8.198770978381988e-19,
           8.593950575425947e-18,
           6.261643406715626e-17,
           3.495967610261018e-16,
           1.5927052357184898e-15,
           6.180680614823717e-15,
           2.1065317896674723e-14,
           6.449843472506001e-14,
           1.804828900313304e-13,
           4.677613646370393e-13,
           1.1347716082485257e-12,
           2.598914440600994e-12,
           5.658535873244552e-12,
           1.1780231914228652e-11,
           2.3563669257811852e-11,
           4.5472533136933786e-11,
           8.49551701762854e-11,
           1.5412395946521966e-10,
           2.722206683008093e-10,
           4.691685676781617e-10,
           7.906037280914069e-10,
           1.304890813941971e-9,
           2.1127662576460245e-9,
           3.360417608356877e-9,
           5.257006050650992e-9,
           8.097873726236894e-9,
           1.2294952884949733e-8,
           1.8416214462810325e-8,
           2.7236363880991845e-8,
           3.980141604699959e-8,
           5.751026387718966e-8,
           8.221689893992496e-8,
           1.1635755227056213e-7,
           1.631077004603365e-7,
           2.2657462810395802e-7,
           3.120320524875591e-7,
           4.262041980073757e-7,
           5.776076518143704e-7,
           7.769603311059846e-7,
           0.0000010376679350083154,
           0.000001376399323964805,
           0.000001813763344808029,
           0.00000237510067057714,
           0.00000309140521164737,
           0.000004000390528196918,
           0.000005147717368217989,
           0.000006588398886685992,
           0.000008388400163639143,
           0.000010626448196210051,
           0.000013396067419485693,
           0.00001680785379342707,
           0.000020991997296712697,
           0.000026101057932357916,
           0.00003231299360870237,
           0.00003983442890835665,
           0.00004890414100608797,
           0.00005979672180061386,
           0.00007282635229324713,
           0.00008835059450196658,
           0.00010677406518082546,
           0.00012855180077443807,
           0.00015419204938825126,
           0.00018425812596607847,
           0.00021936883094923575,
           0.0002601967450056203,
           0.00030746344949189624,
           0.00036193034758565687,
           0.0004243832159727452,
           0.0004956078050473297,
           0.000576352562021506,
           0.0006672725840808292,
           0.0007688456770619059,
           0.0008812458468028302,
           0.001004149514570729,
           0.0011364304259889272,
           0.0012756590794889425,
           0.0014172307663613286,
           0.0015527091467957739,
           0.0016662464857944684,
           0.0017250875874649145,
           0.0016427193271855993,
           0.0005915887836367962,
           0,
           0,
           0,
           0,
           0,
           0,
           0,
           0,
           0,
           0,
           0,
           0,
           0,
           0,
           0,
           0,
           0,
           0,
           0,
           0,
           0,
           0,
           0,
           0,
           0,
           0,
           0,
           0,
           0,
           0,
           0,
           0,
           0,
           0,
           0,
           0,
           0,
           0,
           0,
           0,
           0,
           2.4983885118134764e-52,
           6.635055582964879e-28,
           5.0793114723721415e-24,
           9.488708198992542e-22,
           3.875697913221773e-20,
           6.881558375117792e-19,
           7.213742000026193e-18,
           5.256401151621903e-17,
           2.934960606636876e-16,
           1.337232816552618e-15,
           5.189751225701562e-15,
           1.7689626139589593e-14,
           5.416789154311588e-14,
           1.5159071487776174e-13,
           3.9292204826298224e-13,
           9.533177603933834e-13,
           2.1835848805351048e-12,
           4.754805696161926e-12,
           9.899993614008125e-12,
           1.980515202739429e-11,
           3.822438148205468e-11,
           7.142316944795745e-11,
           1.2959237355759752e-10,
           2.2892458562834428e-10,
           3.9460670204371765e-10,
           6.650600438902484e-10,
           1.0978549434601291e-9,
           1.7778432734244058e-9,
           2.8281931187366567e-9,
           4.425178087346595e-9,
           6.817773238648817e-9,
           1.0353344065007377e-8,
           1.5510988304736992e-8,
           2.2944406574290056e-8,
           3.3536540853543835e-8,
           4.846863360702845e-8,
           6.930682841942582e-8,
           9.810995874219163e-8,
           1.3756275742189868e-7,
           1.9113936808209757e-7,
           2.633027511096956e-7,
           3.5974635156532877e-7,
           4.876852316819954e-7,
           6.562047624325905e-7,
           8.766759098705606e-7,
           0.0000011632471320618544,
           0.0000015334239066150526,
           0.0000020087479169266745,
           0.0000026155889105178834,
           0.0000033860631702700312,
           0.0000043590933638093485,
           0.000005581625199925603,
           0.000007110016750125374,
           0.000009011616394846808,
           0.000011366545009268013,
           0.000014269697063366823,
           0.00001783297358527629,
           0.000022187757185106318,
           0.000027487635251136138,
           0.00003391137161822139,
           0.000041666118962539476,
           0.00005099085323978622,
           0.00006215999679547143,
           0.0000754871772004944,
           0.00009132904288801106,
           0.0001100890222447278,
           0.00013222086714730736,
           0.00015823176115957978,
           0.00018868469126599954,
           0.00022419967230332644,
           0.0002654532637760552,
           0.0003131756125459687,
           0.0003681439661619893,
           0.0004311711900786822,
           0.0005030872231605935,
           0.0005847105130703419,
           0.0006768051042324238,
           0.0007800168827563464,
           0.000894778915808581,
           0.0010211696901359132,
           0.001158696945289322,
           0.0013059583778192564,
           0.001460085930807216,
           0.001615778419753468,
           0.0017634633090090927,
           0.0018853198010206167,
           0.0019447120102552126,
           0.0018451014170868514,
           0.0006616651240701135,
           0,
           0,
           0,
           0,
           0,
           0,
           0,
           0,
           0,
           0,
           0,
           0,
           0,
           0,
           0,
           0,
           0,
           0,
           0,
           0,
           0,
           0,
           0,
           0,
           0,
           0,
           0,
           0,
           0,
           0,
           0,
           0,
           0,
           0,
           0,
           0,
           0,
           0,
           0,
           2.07779279316987e-52,
           5.5153655053227195e-28,
           4.222094789226639e-24,
           7.8875417904876475e-22,
           3.2218396028246725e-20,
           5.720908524138512e-19,
           5.997446894809759e-18,
           4.3704339735485726e-17,
           2.4404551206554463e-16,
           1.112013430514985e-15,
           4.316043466291513e-15,
           1.471281884341494e-14,
           4.5056636017744807e-14,
           1.2610451363685312e-13,
           3.2689419627788857e-13,
           7.932002761745843e-13,
           1.817026270026179e-12,
           3.9570494000430575e-12,
           8.23991682406487e-12,
           1.64860644548727e-11,
           3.1822325138372276e-11,
           5.946822431916136e-11,
           1.0791493349328948e-10,
           1.9065697370979424e-10,
           3.2868875523891935e-10,
           5.540429471524345e-10,
           9.147277570969495e-10,
           1.4815179550593936e-9,
           2.357172601564536e-9,
           3.6887938544384853e-9,
           5.6842090340880215e-9,
           8.63345559722823e-9,
           1.2936679209165426e-8,
           1.9140022211753322e-8,
           2.7981386989703992e-8,
           4.044830953895367e-8,
           5.7850576312606387e-8,
           8.191066530969327e-8,
           1.148755931681574e-7,
           1.5965430599787589e-7,
           2.1998536440537582e-7,
           3.006403432422842e-7,
           4.0766909345767317e-7,
           5.486937948957551e-7,
           7.332595608345298e-7,
           9.732502309273534e-7,
           0.0000012833788993470062,
           0.0000016817636559098922,
           0.000002190599951661517,
           0.000002836941912941314,
           0.0000036536057882936963,
           0.00000468020948092686,
           0.000005964362745026036,
           0.000007563023042872378,
           0.000009544032190348838,
           0.00001198784865893471,
           0.000014989489624157861,
           0.000018660695391695047,
           0.000023132326488329253,
           0.00002855700021662073,
           0.00003511196850969473,
           0.00004300223206418605,
           0.000052463876432083675,
           0.00006376760331167184,
           0.00007722241377263134,
           0.00009317937836387151,
           0.00011203540036060495,
           0.0001342368406156747,
           0.00016028282258731368,
           0.00019072796995461765,
           0.00022618424092914625,
           0.000267321404503392,
           0.00031486554214028265,
           0.00036959473545987784,
           0.00043233078836010254,
           0.0005039253870410035,
           0.0005852384534877454,
           0.000677105481165489,
           0.0007802891576651768,
           0.0008954082254375849,
           0.0010228326548034855,
           0.0011625275282440598,
           0.0013138159264824399,
           0.0014750077291759527,
           0.0016427925437890146,
           0.0018111834098583316,
           0.0019695087993104586,
           0.0020980636452271476,
           0.0021565355190998935,
           0.002038915709502414,
           0.0007281439402396432,
           0,
           0,
           0,
           0,
           0,
           0,
           0,
           0,
           0,
           0,
           0,
           0,
           0,
           0,
           0,
           0,
           0,
           0,
           0,
           0,
           0,
           0,
           0,
           0,
           0,
           0,
           0,
           0,
           0,
           0,
           0,
           0,
           0,
           0,
           0,
           0,
           0,
           1.709859296133564e-52,
           4.536438104598553e-28,
           3.472640575261455e-24,
           6.487583133162296e-22,
           2.6501020658999238e-20,
           4.705934802349731e-19,
           4.933701827091682e-18,
           3.5954996854740595e-17,
           2.0078714480897593e-16,
           9.149711758323592e-16,
           3.551544287707006e-15,
           1.2107737295497545e-14,
           3.7081996098250504e-14,
           1.0379435374790776e-13,
           2.6908566512697294e-13,
           6.529921405908553e-13,
           1.4959929436911293e-12,
           3.258251203101857e-12,
           6.785505545390017e-12,
           1.3577638230242174e-11,
           2.621130306313516e-11,
           4.8988347339729636e-11,
           8.890827419879605e-11,
           1.5709700318828902e-10,
           2.708672155063306e-10,
           4.5663932036110927e-10,
           7.540184445913568e-10,
           1.2214039150305367e-9,
           1.9436057473506277e-9,
           3.042060134617456e-9,
           4.688375473836357e-9,
           7.122104864913403e-9,
           1.0673833181131228e-8,
           1.579488976163115e-8,
           2.3095254593267267e-8,
           3.339151962007067e-8,
           4.776710057840957e-8,
           6.764727140829933e-8,
           9.489201551311972e-8,
           1.319101582661111e-7,
           1.8179876504561452e-7,
           2.485123599254236e-7,
           3.370671423029112e-7,
           4.537860514712838e-7,
           6.065912503007534e-7,
           8.053513649134075e-7,
           0.0000010622916214796366,
           0.0000013924758553127851,
           0.0000018143702192738123,
           0.0000023504992720409647,
           0.0000030282059609855877,
           0.000003880527802038375,
           0.000004947202265316313,
           0.00000627581495643293,
           0.000007923104583911345,
           0.000009956438853374367,
           0.000012455475241977075,
           0.000015514019972629352,
           0.000019242097289975192,
           0.000023768239166887477,
           0.00002924200262479843,
           0.00003583671765968532,
           0.00004375246298000701,
           0.000053219258938659624,
           0.00006450045660579672,
           0.00007789628814094624,
           0.00009374752550999801,
           0.00011243917087194363,
           0.00013440407091714718,
           0.00016012630675518475,
           0.00019014415745019286,
           0.00022505236457184892,
           0.00026550333094067314,
           0.00031220676015219427,
           0.00036592707138087375,
           0.0004274776868592953,
           0.0004977109574885396,
           0.000577502018632877,
           0.0006677241783578071,
           0.0007692124101146224,
           0.0008827099386942059,
           0.00100879039428138,
           0.0011477438628631868,
           0.00129940801229622,
           0.0014629124883250553,
           0.0016362796727934195,
           0.0018157725411670031,
           0.001994760276775194,
           0.0021615607735179627,
           0.002294762694426108,
           0.002350756874991198,
           0.0022150731591332722,
           0.0007878391890900209,
           0,
           0,
           0,
           0,
           0,
           0,
           0,
           0,
           0,
           0,
           0,
           0,
           0,
           0,
           0,
           0,
           0,
           0,
           0,
           0,
           0,
           0,
           0,
           0,
           0,
           0,
           0,
           0,
           0,
           0,
           0,
           0,
           0,
           0,
           0,
           1.3906621176435373e-52,
           3.687679244408017e-28,
           2.8228439360634693e-24,
           5.273723449647885e-22,
           2.154331310596258e-20,
           3.825745619244223e-19,
           4.011129947966618e-18,
           2.923340005521361e-17,
           1.6326171958230377e-16,
           7.440226065834139e-16,
           2.888204230934834e-15,
           9.847073378605946e-15,
           3.016076170213543e-14,
           8.442856278765072e-14,
           2.1889917118763806e-13,
           5.312522795568685e-13,
           1.2172032564044444e-12,
           2.6513084350428344e-12,
           5.522064394482088e-12,
           1.105066777097837e-11,
           2.1335333235617245e-11,
           3.987968051866963e-11,
           7.238535411249735e-11,
           1.2791683072595542e-10,
           2.205815482319476e-10,
           3.719124597102359e-10,
           6.141944409207626e-10,
           9.95042384680691e-10,
           1.5836191881022982e-9,
           2.478978223335602e-9,
           3.821129475032209e-9,
           5.8055636634136045e-9,
           8.702126809085366e-9,
           1.2879321394394581e-8,
           1.883532216858804e-8,
           2.723723739878907e-8,
           3.897042264476149e-8,
           5.519996652552873e-8,
           7.74468189082856e-8,
           1.0768142372443267e-7,
           1.4843815312445367e-7,
           2.029543184026779e-7,
           2.753380569485932e-7,
           3.707699635466712e-7,
           4.957439478160111e-7,
           6.583534553992486e-7,
           8.686298851030012e-7,
           0.0000011389407621055014,
           0.0000014844559808133572,
           0.000001923691199363076,
           0.000002479138237045053,
           0.0000031779930777525745,
           0.000004052992793408154,
           0.000005143373341324438,
           0.000006495960720957389,
           0.000008166408351280668,
           0.000010220593691028156,
           0.000012736186996697049,
           0.000015804404605707228,
           0.000019531958130023956,
           0.00002404320930590116,
           0.00002948253778914295,
           0.00003601692568736464,
           0.000043838757797039674,
           0.00005316883000298631,
           0.00006425954964066411,
           0.00007739830022440486,
           0.00009291092803848283,
           0.0001111652886659656,
           0.00013257476626125613,
           0.00015760164547594531,
           0.00018676017301463366,
           0.00022061908952320831,
           0.0002598033382987597,
           0.00030499455865921,
           0.00035692983937859346,
           0.00041639802769641234,
           0.00048423264159300563,
           0.0005613000860308151,
           0.0006484813787477283,
           0.0007466448692130275,
           0.0008566063549949549,
           0.0009790713392990463,
           0.001114551533484445,
           0.0012632433485243438,
           0.0014248485931682904,
           0.0015983039091755557,
           0.0017813589821428348,
           0.0019698882491088893,
           0.0021566938128486195,
           0.0023292274286565444,
           0.0024646457483916114,
           0.0025166107383034196,
           0.002363684132056364,
           0.0008373268147286798,
           0,
           0,
           0,
           0,
           0,
           0,
           0,
           0,
           0,
           0,
           0,
           0,
           0,
           0,
           0,
           0,
           0,
           0,
           0,
           0,
           0,
           0,
           0,
           0,
           0,
           0,
           0,
           0,
           0,
           0,
           0,
           0,
           0,
           1.1162953954945788e-52,
           2.9585644328453457e-28,
           2.2646510290370634e-24,
           4.2309425391852094e-22,
           1.728406247634875e-20,
           3.069501396133189e-19,
           3.2184017291735922e-18,
           2.3457255816887637e-17,
           1.3101128696961048e-16,
           5.970886040489957e-16,
           2.317984361334071e-15,
           7.90353261617318e-15,
           2.4209693774409343e-14,
           6.777518169289612e-14,
           1.7573613490828765e-13,
           4.2653508277723694e-13,
           9.773618649778499e-13,
           2.129081124730841e-12,
           4.434804178278955e-12,
           8.875726303618294e-12,
           1.7137939560613486e-11,
           3.203731232376988e-11,
           5.8156974359506466e-11,
           1.027843508698221e-10,
           1.7726306311021226e-10,
           2.989104973798835e-10,
           4.936957106733981e-10,
           7.99925996801495e-10,
           1.2732554231262601e-9,
           1.9934066404436976e-9,
           3.0730900713752443e-9,
           4.669714122053008e-9,
           7.0006083747941724e-9,
           1.036263093823448e-8,
           1.5157203463715317e-8,
           2.1922015039700644e-8,
           3.137086152361959e-8,
           4.4443342113370224e-8,
           6.236642227663245e-8,
           8.673019359042888e-8,
           1.1958051843654444e-7,
           1.6353164239954892e-7,
           2.219022907770667e-7,
           2.9887923847116237e-7,
           3.997128546528408e-7,
           5.309496741024277e-7,
           7.007076340967158e-7,
           9.190002359030465e-7,
           0.0000011981165385071896,
           0.0000015530645623339933,
           0.0000020020863632010547,
           0.0000025672537194305023,
           0.0000032751540422213216,
           0.0000041576767510016425,
           0.000005252910926194443,
           0.000006606165529844144,
           0.00000827112383017137,
           0.000010311143829964753,
           0.000012800716419467837,
           0.000015827092575999204,
           0.00001949209012053547,
           0.000023914089198534482,
           0.000029230223632184544,
           0.00003559877241131663,
           0.00004320175162109715,
           0.00005224770175713059,
           0.0000629746582858201,
           0.00007565328400119457,
           0.00009059012960589344,
           0.00010813097322106366,
           0.00012866416918247796,
           0.00015262391015158225,
           0.00018049327244461946,
           0.00021280687010027453,
           0.00025015288518838625,
           0.00029317416550327335,
           0.0003425679794256615,
           0.0003990838817910016,
           0.00046351896001164814,
           0.0005367094754297563,
           0.0006195175587425685,
           0.0007128111098871539,
           0.0008174343107437902,
           0.0009341650485890166,
           0.0010636538380610224,
           0.0012063361072562357,
           0.0013623052125322174,
           0.0015311257671822168,
           0.001711552704454271,
           0.0019010940483882742,
           0.002095297991986659,
           0.0022865130142567824,
           0.0024615269818512057,
           0.002596436771373136,
           0.0026429332456920254,
           0.0024745917505762877,
           0.0008731369910770859,
           0,
           0,
           0,
           0,
           0,
           0,
           0,
           0,
           0,
           0,
           0,
           0,
           0,
           0,
           0,
           0,
           0,
           0,
           0,
           0,
           0,
           0,
           0,
           0,
           0,
           0,
           0,
           0,
           0,
           0,
           0,
           8.828922566619806e-53,
           2.3386889205636386e-28,
           1.7900978734838537e-24,
           3.3443822675307045e-22,
           1.366269142968787e-20,
           2.4264694549488655e-19,
           2.5442934017649115e-18,
           1.8544992601054184e-17,
           1.035816433521027e-16,
           4.721057562341049e-16,
           1.8329012000310717e-15,
           6.249990050747351e-15,
           1.914601030554649e-14,
           5.360335026252446e-14,
           1.390003405422888e-13,
           3.37399456436676e-13,
           7.73180877640061e-13,
           1.6844389949940294e-12,
           3.5089417889280874e-12,
           7.0233699840191474e-12,
           1.35625544596079e-11,
           2.535604681448414e-11,
           4.6033206363600684e-11,
           8.136577729783648e-11,
           1.4033947087830794e-10,
           2.366742712185066e-10,
           3.9094806830179786e-10,
           6.335209168909795e-10,
           1.0085089642648444e-9,
           1.5791192330408993e-9,
           2.434730445541639e-9,
           3.7001924944742344e-9,
           5.547919658486991e-9,
           8.213471973576778e-9,
           1.201545711733563e-8,
           1.7380743611424975e-8,
           2.4876156998189683e-8,
           3.524803580228074e-8,
           4.947125541756168e-8,
           6.880958735886625e-8,
           9.488955025706425e-8,
           1.2979022903718518e-7,
           1.761518911256095e-7,
           2.3730661415872185e-7,
           3.174345589358148e-7,
           4.2174997412248826e-7,
           5.56721504595169e-7,
           7.30331891554453e-7,
           9.523826967527508e-7,
           0.0000012348502511570711,
           0.0000015922996142288264,
           0.000002042363925874948,
           0.0000026062971287017677,
           0.0000033096086202327354,
           0.000004182788946405158,
           0.0000052621361477778515,
           0.000006590692792027558,
           0.000008219304037636253,
           0.000010207807233481018,
           0.000012626363517032693,
           0.000015556941567910474,
           0.0000190949630268711,
           0.000023351118007976502,
           0.000028453357495995372,
           0.00003454906708573703,
           0.000041807423302414376,
           0.0000504219294133946,
           0.000060613121913336465,
           0.00007263143137085627,
           0.00008676017159821417,
           0.00010331861854458532,
           0.00012266512413726822,
           0.00014520018947990313,
           0.00017136939500634208,
           0.00020166605056640905,
           0.00023663338352117907,
           0.0002768660243632144,
           0.00032301047242685695,
           0.0003757641222217504,
           0.00043587229416236576,
           0.0005041225278149238,
           0.0005813351400230678,
           0.0006683486919076714,
           0.0007659984967652773,
           0.0008750855531019563,
           0.0009963321668881235,
           0.001130318800103479,
           0.0012773939305340417,
           0.0014375441518868486,
           0.0016102038599484514,
           0.001793969500398434,
           0.001986155478752091,
           0.0021820705043254663,
           0.002373758948803614,
           0.002547602658605991,
           0.002679103780983879,
           0.0027189180783725934,
           0.002538073619637556,
           0.0008920019169848781,
           0,
           0,
           0,
           0,
           0,
           0,
           0,
           0,
           0,
           0,
           0,
           0,
           0,
           0,
           0,
           0,
           0,
           0,
           0,
           0,
           0,
           0,
           0,
           0,
           0,
           0,
           0,
           0,
           0,
           6.866432896679248e-53,
           1.8178164632191084e-28,
           1.3913480838303456e-24,
           2.5994179393202857e-22,
           1.0619551603137834e-20,
           1.8860772069923698e-19,
           1.977743520280396e-18,
           1.441617916783123e-17,
           8.052470246008573e-17,
           3.6703733324802388e-16,
           1.4250700059289077e-15,
           4.859640210075782e-15,
           1.4887853308639622e-14,
           4.1684636610850287e-14,
           1.0810144305113956e-13,
           2.624174857400435e-13,
           6.014000630457477e-13,
           1.3103063016942702e-12,
           2.729795372448324e-12,
           5.464332059267747e-12,
           1.0552901211332185e-11,
           1.9731132891848355e-11,
           3.582474315375811e-11,
           6.332808186897818e-11,
           1.0923918135764775e-10,
           1.8424473403347738e-10,
           3.043756954129619e-10,
           4.932875997944708e-10,
           7.853601679791473e-10,
           1.2298594472536317e-9,
           1.8964637094323755e-9,
           2.8825228845342994e-9,
           4.3225017479865515e-9,
           6.400150804468812e-9,
           9.364057282619875e-9,
           1.3547353385085509e-8,
           1.939250147758477e-8,
           2.7482237815453303e-8,
           3.857793925574694e-8,
           5.366688270984375e-8,
           7.402009630546151e-8,
           1.0126275568280939e-7,
           1.3745935971572282e-7,
           1.8521622816674157e-7,
           2.478041999979659e-7,
           3.293047755257701e-7,
           4.3478333810035574e-7,
           5.704935106790237e-7,
           7.441171479662445e-7,
           9.650449332200989e-7,
           0.0000012447030367638229,
           0.0000015969317957286704,
           0.000002038422884986836,
           0.0000025892219590250873,
           0.000003273304242683051,
           0.00000411923102136659,
           0.0000051608954111850746,
           0.00000643836615486299,
           0.000007998838463522711,
           0.00000989770107457245,
           0.000012199728681391085,
           0.000014980408661385953,
           0.00001832741052394028,
           0.000022342205643192413,
           0.00002714184353928994,
           0.00003286088911042737,
           0.000039653522653504515,
           0.00004769580106523973,
           0.00005718807406458308,
           0.00006835754333973693,
           0.00008146094484197228,
           0.000096787324567598,
           0.00011466086550157058,
           0.00013544370717818245,
           0.00015953867854497748,
           0.00018739183816819842,
           0.0002194946815118227,
           0.0002563858306407082,
           0.00029865196391576566,
           0.0003469276674214497,
           0.0004018937894063515,
           0.00046427374442274764,
           0.0005348270311525975,
           0.000614338976157721,
           0.0007036053628728537,
           0.0008034101006195749,
           0.0009144933508483818,
           0.001037506421884318,
           0.0011729480365459718,
           0.001321073853940231,
           0.001481766613873772,
           0.001654346454833605,
           0.0018372866911717557,
           0.0020277726350019292,
           0.0022209830298971426,
           0.002408840064280906,
           0.0025776260342376114,
           0.0027027928076523494,
           0.0027350475786846844,
           0.0025456952978711255,
           0.0008911520728547988,
           0,
           0,
           0,
           0,
           0,
           0,
           0,
           0,
           0,
           0,
           0,
           0,
           0,
           0,
           0,
           0,
           0,
           0,
           0,
           0,
           0,
           0,
           0,
           0,
           0,
           0,
           0,
           5.238146614697938e-53,
           1.385927072746208e-28,
           1.0607297808749432e-24,
           1.9817280422947237e-22,
           8.096211992674383e-21,
           1.4379640179056184e-19,
           1.507908059156831e-18,
           1.0991931587536671e-17,
           6.140080022012491e-17,
           2.798839416731953e-16,
           1.0867467422593725e-15,
           3.706142340043534e-15,
           1.1354740500407775e-14,
           3.179432145081038e-14,
           8.245835147665668e-14,
           2.0018278124733103e-13,
           4.588062951785897e-13,
           9.99704917390496e-13,
           2.0828756411088517e-12,
           4.1697088891836354e-12,
           8.053359711560474e-12,
           1.5058960846070456e-11,
           2.7344188025080617e-11,
           4.834131680733502e-11,
           8.339538869383131e-11,
           1.4066998388777111e-10,
           2.324129966942085e-10,
           3.7670041369931984e-10,
           5.998071610376739e-10,
           9.393914424455675e-10,
           1.4487235319401802e-9,
           2.2022426802231096e-9,
           3.3027876746412605e-9,
           4.8909187527092385e-9,
           7.156832158185823e-9,
           1.0355464843050868e-8,
           1.4825496891539175e-8,
           2.101308442990111e-8,
           2.950129735065931e-8,
           4.104639537213499e-8,
           5.662225398428247e-8,
           7.747444984452882e-8,
           1.0518573422431428e-7,
           1.4175486406661392e-7,
           1.8969102380231927e-7,
           2.521263577433198e-7,
           3.329494427570932e-7,
           4.3696286376564846e-7,
           5.70068409638041e-7,
           7.39483782888554e-7,
           9.539951111365697e-7,
           0.0000012242499585118438,
           0.0000015630959569932385,
           0.0000019859706056276786,
           0.0000025113482126850336,
           0.0000031612503731554026,
           0.00000396182677038859,
           0.00000494401345215525,
           0.000006144276040691526,
           0.000007605445572074563,
           0.000009377654796396509,
           0.000011519382774576278,
           0.000014098615440977673,
           0.000017194129415152502,
           0.00002089690568199504,
           0.00002531167874492363,
           0.00003055862540219663,
           0.00003677519529198551,
           0.0000441180826608181,
           0.00005276533526238672,
           0.00006291859167655005,
           0.00007480543238336249,
           0.00008868182229388754,
           0.00010483461269360911,
           0.00012358405813523105,
           0.00014528628799719166,
           0.00017033565224608153,
           0.00019916683513626244,
           0.00023225659744493526,
           0.0002701249650601873,
           0.00031333562612333334,
           0.00036249522601647843,
           0.00041825115295032045,
           0.0004812872776015181,
           0.000552316934719321,
           0.0006320721926698715,
           0.0007212881175163054,
           0.0008206802527056629,
           0.0009309128250393747,
           0.0010525541213854488,
           0.001186013833275291,
           0.0013314545357251105,
           0.0014886651020063178,
           0.0016568762874659359,
           0.001834484890308942,
           0.0020186260258147444,
           0.002204476716334718,
           0.0023840441672144286,
           0.0025438537369857194,
           0.0026599082794414547,
           0.002684157997994694,
           0.0024912757998802122,
           0.0008686458852898767,
           0,
           0,
           0,
           0,
           0,
           0,
           0,
           0,
           0,
           0,
           0,
           0,
           0,
           0,
           0,
           0,
           0,
           0,
           0,
           0,
           0,
           0,
           0,
           0,
           0,
           3.907660011964369e-53,
           1.033264084995407e-28,
           7.907719372351818e-25,
           1.4773628532359735e-22,
           6.035742340538801e-21,
           1.0720321223182556e-19,
           1.124214443323273e-18,
           8.195311955860581e-18,
           4.5780950184329045e-17,
           2.0869393901022914e-16,
           8.103690519555551e-16,
           2.7637620444825536e-15,
           8.4680052898596e-15,
           2.371264762847085e-14,
           6.150251672196804e-14,
           1.493185791883834e-13,
           3.4225240075974884e-13,
           7.457960359915872e-13,
           1.5539741434548545e-12,
           3.111139520353645e-12,
           6.009319053062087e-12,
           1.1237732823700188e-11,
           2.0407293088916192e-11,
           3.608084314845824e-11,
           6.224998548788582e-11,
           1.0501198898081149e-10,
           1.735159218195786e-10,
           2.812663479803664e-10,
           4.4789622186768603e-10,
           7.015486442225648e-10,
           1.0820405828561624e-9,
           1.6450212485542824e-9,
           2.4673843360509592e-9,
           3.654247628240958e-9,
           5.34787640028524e-9,
           7.738999570633014e-9,
           1.1081050583089844e-8,
           1.5707959547054933e-8,
           2.20562302043491e-8,
           3.069215582281738e-8,
           4.234516311465708e-8,
           5.794842368042448e-8,
           7.868803916740956e-8,
           1.0606229009536082e-7,
           1.4195263981469692e-7,
           1.8870840483404553e-7,
           2.492472410916688e-7,
           3.2717385269622215e-7,
           4.26919604950619e-7,
           5.539060164257416e-7,
           7.147354143096293e-7,
           9.174123614752898e-7,
           0.000001171599800226726,
           0.0000014889142031822514,
           0.0000018832643718906211,
           0.000002371238872969131,
           0.000002972547442743294,
           0.0000037105220157211666,
           0.0000046126833287892115,
           0.000005711379308252176,
           0.000007044501644160211,
           0.000008656287075462865,
           0.000010598209925599103,
           0.000012929972310913296,
           0.000015720598156864018,
           0.00001904963665430048,
           0.00002300848001501769,
           0.00002770179927485435,
           0.000033249100360793386,
           0.00003978640058352055,
           0.00004746802301193588,
           0.0000564685026733864,
           0.00006698459400533936,
           0.00007923736321198001,
           0.00009347434183705055,
           0.00010997170854849397,
           0.00012903645432074093,
           0.0001510084712196605,
           0.00017626248595357098,
           0.0002052097350694241,
           0.000238299247558363,
           0.0002760185605285895,
           0.0003188936415261339,
           0.00036748772286627655,
           0.0004223986630534647,
           0.0004842543294470616,
           0.0005537053321548241,
           0.0006314142127430606,
           0.0007180398736135347,
           0.0008142155789734681,
           0.0009205181921255032,
           0.0010374253129616239,
           0.0011652554316814924,
           0.001304083740245159,
           0.001453622133557581,
           0.001613044799017096,
           0.0017807277504150384,
           0.001953845288559197,
           0.0021277131310552607,
           0.0022946451530619642,
           0.0024417704003918627,
           0.002546268747885128,
           0.0025625663570120433,
           0.002371897103327333,
           0.0008237081513085883,
           0,
           0,
           0,
           0,
           0,
           0,
           0,
           0,
           0,
           0,
           0,
           0,
           0,
           0,
           0,
           0,
           0,
           0,
           0,
           0,
           0,
           0,
           0,
           2.8396817924366637e-53,
           7.503808858236929e-29,
           5.74240423417974e-25,
           1.0728124129028517e-22,
           4.3829936433419556e-21,
           7.784969716383167e-20,
           8.164149239346042e-19,
           5.951721876711894e-18,
           3.3249067060288364e-17,
           1.515736900035762e-16,
           5.885965674980398e-16,
           2.007510471407436e-15,
           6.151228660057783e-15,
           1.7226045228000525e-14,
           4.46811512734895e-14,
           1.0848566458121119e-13,
           2.486755717357058e-13,
           5.419208638405384e-13,
           1.1292492782276745e-12,
           2.260980439700083e-12,
           4.367520177291589e-12,
           8.168113512449161e-12,
           1.483415957110166e-11,
           2.6229487212669933e-11,
           4.5257344842367615e-11,
           7.635307560703042e-11,
           1.26172871232256e-10,
           2.0454300422072152e-10,
           3.257509490495892e-10,
           5.102802791610723e-10,
           7.871156697458818e-10,
           1.1967732891739573e-9,
           1.7952459069521496e-9,
           2.659091804138008e-9,
           3.891942699977541e-9,
           5.632759095461365e-9,
           8.06622239786542e-9,
           1.1435722669848396e-8,
           1.6059479597161698e-8,
           2.2350423051677855e-8,
           3.084055919806187e-8,
           4.22106591925493e-8,
           5.732623085784299e-8,
           7.728086994506496e-8,
           1.0344823729546438e-7,
           1.3754407187665723e-7,
           1.8169982764816555e-7,
           2.3854971470351915e-7,
           3.113331321315492e-7,
           4.040147012755769e-7,
           5.214243429745869e-7,
           6.694200899979432e-7,
           8.550765848333508e-7,
           0.0000010869024813089654,
           0.0000013750902436216252,
           0.0000017318021148170337,
           0.000002171496304299946,
           0.0000027112977150987654,
           0.000003371417789588818,
           0.0000041756282888110565,
           0.000005151794025115555,
           0.000006332469728021243,
           0.000007755566323570383,
           0.00000946509192939131,
           0.000011511972788473158,
           0.000013954959156721091,
           0.00001686162078916377,
           0.00002030943609639822,
           0.000024386978216669393,
           0.000029195200108950502,
           0.00003484881924373434,
           0.00004147780045878691,
           0.000049228932942761785,
           0.00005826749396832828,
           0.00006877898774056136,
           0.00008097094233180187,
           0.00009507474085675796,
           0.00011134745443765366,
           0.00013007363364967296,
           0.00015156700141093712,
           0.0001761719728854745,
           0.0002042649058340316,
           0.00023625495653959984,
           0.00027258437999564983,
           0.00031372806577443564,
           0.00036019203910721476,
           0.0004125105748253296,
           0.0004712414621410458,
           0.0005369588093071305,
           0.0006102425717137818,
           0.0006916636984090599,
           0.0007817633785456362,
           0.0008810242632170538,
           0.0009898306268311511,
           0.001108413021393856,
           0.0012367707195052125,
           0.0013745614889825969,
           0.0015209417215195622,
           0.0016743280048432728,
           0.0018320279929995118,
           0.001989639637391106,
           0.0021400052137870726,
           0.0022712126218690227,
           0.002362228750811503,
           0.002371149642763973,
           0.0021888570567993445,
           0.0007570417443508287,
           0,
           0,
           0,
           0,
           0,
           0,
           0,
           0,
           0,
           0,
           0,
           0,
           0,
           0,
           0,
           0,
           0,
           0,
           0,
           0,
           0,
           2.000211219556873e-53,
           5.281876668186791e-29,
           4.0417404240492985e-25,
           7.550744159092415e-23,
           3.0848780470297353e-21,
           5.47937424281563e-20,
           5.746397360212174e-19,
           4.1892939551841e-18,
           2.3404176800111584e-17,
           1.0669775065704465e-16,
           4.143508952785525e-16,
           1.4132822300856119e-15,
           4.3306666520046064e-15,
           1.212834287069071e-14,
           3.146040906998161e-14,
           7.639018731199946e-14,
           1.7511550773419764e-13,
           3.8164066597023295e-13,
           7.953108413823985e-13,
           1.5924771320402599e-12,
           3.0763918268306543e-12,
           5.7538672638490924e-12,
           1.0450411505701147e-11,
           1.847964636158777e-11,
           3.1888008217323184e-11,
           5.380224532112116e-11,
           8.891529896355934e-11,
           1.441560605959957e-10,
           2.296005313492907e-10,
           3.596964030905267e-10,
           5.548903893483573e-10,
           8.437681482274391e-10,
           1.2658407753183827e-9,
           1.875140048635375e-9,
           2.744817352947808e-9,
           3.97297899576488e-9,
           5.690033972255839e-9,
           8.067879680863226e-9,
           1.13313071888467e-8,
           1.5772070959698162e-8,
           2.1766139046366705e-8,
           2.9794719183263376e-8,
           4.0469744517688395e-8,
           5.456460042146005e-8,
           7.305098138845972e-8,
           9.714288486812898e-8,
           1.2834887734658165e-7,
           1.685339073048892e-7,
           2.199920899721534e-7,
           2.855320500077336e-7,
           3.685765801598168e-7,
           4.7327855609103864e-7,
           6.046552391892826e-7,
           7.687432992074339e-7,
           9.727770955081031e-7,
           0.0000012253929675517123,
           0.0000015368624995035866,
           0.0000019193579372037893,
           0.00000238725314417855,
           0.0000029574636818330145,
           0.000003649829781248765,
           0.000004487546132523165,
           0.0000054976425430821626,
           0.000006711519597636511,
           0.000008165543475811457,
           0.000009901704032466129,
           0.000011968340100359714,
           0.000014420935710924897,
           0.000017322990517143727,
           0.000020746967107240923,
           0.000024775317075709055,
           0.00002950158661603018,
           0.000035031600952318945,
           0.000041484725054906466,
           0.00004899519568849242,
           0.000057713516797583685,
           0.00006780790638809588,
           0.0000794657782215918,
           0.00009289523555254726,
           0.00010832654649296806,
           0.00012601356097429681,
           0.00014623501716169685,
           0.00016929566986002546,
           0.00019552715400193482,
           0.0002252884714717408,
           0.0002589659575830562,
           0.0002969725421298479,
           0.0003397460657551679,
           0.0003877463407093476,
           0.0004414505490628225,
           0.0005013464410105398,
           0.0005679226158703785,
           0.0006416549153733203,
           0.0007229875960415433,
           0.0008123074152385574,
           0.0009099079644465009,
           0.0010159403421181874,
           0.0011303442703547383,
           0.0012527504516653724,
           0.0013823392093693983,
           0.0015176299183226089,
           0.0016561551993574558,
           0.001793930698739874,
           0.0019245315932923622,
           0.0020373266179451598,
           0.002113616011256743,
           0.0021162274092441946,
           0.0019484303670761391,
           0.0006710658598629326,
           0,
           0,
           0,
           0,
           0,
           0,
           0,
           0,
           0,
           0,
           0,
           0,
           0,
           0,
           0,
           0,
           0,
           0,
           0,
           1.3567182134189438e-53,
           3.5799863053409914e-29,
           2.7392087718609705e-25,
           5.117226284822035e-23,
           2.0906506633779344e-21,
           3.713462343560081e-20,
           3.894505227750444e-19,
           2.8392848844830497e-18,
           1.586263356640281e-17,
           7.231907399344835e-17,
           2.8085564558723367e-16,
           9.57993325822072e-16,
           2.9356774622885956e-15,
           8.221976645092944e-15,
           2.1328555740427506e-14,
           5.179144598344501e-14,
           1.1873246342846656e-13,
           2.587765567633011e-13,
           5.393039349426667e-13,
           1.079934138436735e-12,
           2.086383153147176e-12,
           3.902488080121907e-12,
           7.0883547899247626e-12,
           1.2535365749745386e-11,
           2.16323175769864e-11,
           3.650138806149275e-11,
           6.03281260221143e-11,
           9.781639926094828e-11,
           1.5580743081097134e-10,
           2.4411192685454895e-10,
           3.766160971315454e-10,
           5.727363572792973e-10,
           8.593139700466499e-10,
           1.2730601367247293e-9,
           1.86368441900791e-9,
           2.6978652007768376e-9,
           3.8642505516577125e-9,
           5.4797117069325776e-9,
           7.697109820599957e-9,
           1.0714880077734879e-8,
           1.4788786070717694e-8,
           2.02462519526312e-8,
           2.750374067469432e-8,
           3.708771397366064e-8,
           4.965978405801393e-8,
           6.604674847462564e-8,
           8.727628870248081e-8,
           1.1461920984179828e-7,
           1.4963920349651896e-7,
           1.9425122864493683e-7,
           2.5078972590266437e-7,
           3.2208800891080047e-7,
           4.1157031226830625e-7,
           5.233581179068243e-7,
           6.623925302709071e-7,
           8.345746240195904e-7,
           0.0000010469258447634723,
           0.0000013077707017418447,
           0.0000016269441489865345,
           0.0000020160262054943804,
           0.0000024886065116344605,
           0.0000030605816540297085,
           0.000003750488209088322,
           0.000004579874549676196,
           0.000005573714522200077,
           0.000006760866123045906,
           0.00000817457827234475,
           0.000009853048685494078,
           0.00001184003566194159,
           0.00001418552632613747,
           0.000016946463442718256,
           0.000020187532357097886,
           0.000023982008847476542,
           0.00002841266767059345,
           0.00003357275028714972,
           0.000039566988596976674,
           0.00004651267941616523,
           0.00005454080178574236,
           0.00006379716588542523,
           0.00007444357817422997,
           0.00008665900218616425,
           0.00010064068790988693,
           0.00011660523453501135,
           0.00013478954110985512,
           0.0001554515867398261,
           0.00017887096558174835,
           0.00020534908100546873,
           0.00023520887646473175,
           0.00026879394585961885,
           0.00030646682069713506,
           0.0003486061711942684,
           0.0003956025778625423,
           0.0004478524205645162,
           0.0005057492807352909,
           0.0005696720396973664,
           0.0006399685506620439,
           0.0007169333137210902,
           0.0008007769078178905,
           0.0008915838863314267,
           0.0009892541637976891,
           0.0010934201249543367,
           0.0012033268202281053,
           0.0013176536897935758,
           0.001434238858562946,
           0.0015496304511416236,
           0.0016583047882305817,
           0.0017511702609819926,
           0.0018122922315927065,
           0.001810060418074633,
           0.0016622692851831263,
           0.0005700237314268091,
           0,
           0,
           0,
           0,
           0,
           0,
           0,
           0,
           0,
           0,
           0,
           0,
           0,
           0,
           0,
           0,
           0,
           8.783272930590852e-54,
           2.3158014189877544e-29,
           1.7717533374138343e-25,
           3.30976554368711e-23,
           1.3521962766076971e-21,
           2.4018137106696775e-20,
           2.5189459026375314e-19,
           1.836474280320695e-18,
           1.0260367035642748e-17,
           4.677934574796318e-17,
           1.816769334341919e-16,
           6.197205810245513e-16,
           1.8991527135687925e-15,
           5.319209610696581e-15,
           1.3799163260413812e-14,
           3.350972343331878e-14,
           7.682539611074613e-14,
           1.6744946747910793e-13,
           3.48993153966731e-13,
           6.988854819172275e-13,
           1.3502966508154275e-12,
           2.525829460779678e-12,
           4.588134554723862e-12,
           8.114409446041997e-12,
           1.4004033017948587e-11,
           2.363146226471603e-11,
           3.9060084442156396e-11,
           6.333709609242879e-11,
           1.0089480432925955e-10,
           1.5809016256533434e-10,
           2.439220235921794e-10,
           3.7097469259248373e-10,
           5.566470802197991e-10,
           8.247392940069652e-10,
           1.2074830810883217e-9,
           1.7481193752683293e-9,
           2.5041455473574753e-9,
           3.551377060514773e-9,
           4.988993352175204e-9,
           6.945766168126289e-9,
           9.587700534162882e-9,
           1.3127354339902056e-8,
           1.7835142399325014e-8,
           2.4052975108921253e-8,
           3.221063070141799e-8,
           4.2845313828588674e-8,
           5.6624912014463926e-8,
           7.437552558263644e-8,
           9.711391611946734e-8,
           1.2608559347821322e-7,
           1.6280934178231521e-7,
           2.091290707950904e-7,
           2.6727397023740553e-7,
           3.399280408882608e-7,
           4.30310177189978e-7,
           5.422660810283335e-7,
           6.803733945994115e-7,
           8.500615508057183e-7,
           0.0000010577479511629906,
           0.000001310992192136655,
           0.0000016186701691648343,
           0.000001991169990905069,
           0.0000024406117314629597,
           0.0000029810931318752776,
           0.00000362896342951546,
           0.000004403127540042681,
           0.000005325382834617499,
           0.000006420790737649052,
           0.00000771808530805595,
           0.00000925012084877078,
           0.000011054360401585267,
           0.000013173406711252846,
           0.000015655576864504954,
           0.000018555521302641643,
           0.00002193488724188286,
           0.000025863025678654552,
           0.000030417740064491237,
           0.00003568607335441694,
           0.000041765128398121376,
           0.000048762914473578206,
           0.00005679921005600413,
           0.00006600642854257772,
           0.00007653046945164008,
           0.00008853153237460101,
           0.00010218486440855738,
           0.00011768140358399848,
           0.0001352282704586399,
           0.00015504904695367683,
           0.0001773837648241935,
           0.0002024885047359496,
           0.00023063447918113728,
           0.0002621064361796298,
           0.0002972001727035271,
           0.0003362188824229922,
           0.0003794679748901296,
           0.000427247882387329,
           0.0004798442005453058,
           0.0005375142645103936,
           0.0006004689034288877,
           0.0006688475747292443,
           0.0007426842394647035,
           0.0008218599917917557,
           0.0009060362085419869,
           0.0009945580705412991,
           0.0010863111263534793,
           0.001179499554506679,
           0.0012712852860712984,
           0.001357158928325214,
           0.001429735031315503,
           0.0014761123887790724,
           0.0014707475765954581,
           0.0013472504053342728,
           0.0004598955425864648,
           0,
           0,
           0,
           0,
           0,
           0,
           0,
           0,
           0,
           0,
           0,
           0,
           0,
           0,
           0,
           5.36007723202208e-54,
           1.4120044185309967e-29,
           1.080163526139731e-25,
           2.01773237416738e-23,
           8.2432459200208025e-22,
           1.4641882175256682e-20,
           1.5356068212412953e-19,
           1.1195743273795444e-18,
           6.255188556235741e-18,
           2.851958107985628e-17,
           1.1076486368055772e-16,
           3.7784430984302083e-16,
           1.1579583647919538e-15,
           3.2433773375236295e-15,
           8.414369551353571e-15,
           2.04342733859646e-14,
           4.68504440541927e-14,
           1.0212079907962049e-13,
           2.1284812416994753e-13,
           4.262676356666969e-13,
           8.236256762679584e-13,
           1.5407421839625522e-12,
           2.7989057304908477e-12,
           4.950352635766049e-12,
           8.543982699802986e-12,
           1.4418722273428145e-11,
           2.3834126989111102e-11,
           3.8650495595460134e-11,
           6.157402523470377e-11,
           9.648646784091824e-11,
           1.4888344640663712e-10,
           2.2645116670039726e-10,
           3.3981783143176157e-10,
           5.035237553803864e-10,
           7.372631256863197e-10,
           1.067460693600491e-9,
           1.5292585725103002e-9,
           2.1690019090591953e-9,
           3.0473276529781883e-9,
           4.2429781453061404e-9,
           5.8574809462860254e-9,
           8.02085840788183e-9,
           1.0898555136316803e-8,
           1.4699798859959217e-8,
           1.968764048513238e-8,
           2.619095244676833e-8,
           3.4618700990191585e-8,
           4.547684788632251e-8,
           5.9388280395411026e-8,
           7.711621513680088e-8,
           9.959157194250027e-8,
           1.2794486777643753e-7,
           1.6354323834324932e-7,
           2.080332559817945e-7,
           2.6339027665549405e-7,
           3.3197511604049315e-7,
           4.1659892449307283e-7,
           5.205972025426492e-7,
           6.479139718491566e-7,
           8.031971904500496e-7,
           9.919065745600244e-7,
           0.0000012204350608877809,
           0.0000014962452118201062,
           0.000001828021928973241,
           0.0000022258428961998368,
           0.0000027013682183622317,
           0.000003268050753667522,
           0.000003941368651060724,
           0.000004739081595238571,
           0.00000568151222446633,
           0.000006791854113589037,
           0.000008096507598073037,
           0.0000096254445445608,
           0.000011412602937197457,
           0.000013496311832327739,
           0.000015919746819442792,
           0.0000187314155920827,
           0.000021985672552684426,
           0.0000257432605181736,
           0.000030071876519113148,
           0.000035046757345807225,
           0.000040751278829345006,
           0.00004727756077826095,
           0.00005472706692648288,
           0.00006321118606368906,
           0.00007285177655882474,
           0.00008378165154913371,
           0.00009614497588648925,
           0.00011009753816147373,
           0.00012580685129845828,
           0.00014345202270405743,
           0.00016322331889858177,
           0.00018532132877653907,
           0.00020995560245653792,
           0.0002373426067069821,
           0.00026770278970676334,
           0.0003012564822956077,
           0.0003382182721557391,
           0.000378789359624132,
           0.00042314722023389326,
           0.0004714316290847146,
           0.0005237256947260397,
           0.0005800299172958186,
           0.0006402262692293503,
           0.000704027601350908,
           0.0007709047214709123,
           0.0008399780663170299,
           0.0009098502902494085,
           0.0009783337773870647,
           0.0010419754332021624,
           0.0010951459694077546,
           0.0011280426359993017,
           0.0011212918097447116,
           0.001024566270022354,
           0.00034805150381114834,
           0,
           0,
           0,
           0,
           0,
           0,
           0,
           0,
           0,
           0,
           0,
           0,
           0,
           3.0277295384301727e-54,
           7.968172711592642e-30,
           6.094740515212854e-26,
           1.1384235526982956e-23,
           4.650787608622562e-22,
           8.260772307241474e-21,
           8.663716406755669e-20,
           6.316567576864864e-19,
           3.529192780681346e-18,
           1.609115019443757e-17,
           6.249665636634253e-17,
           2.1319649754811665e-16,
           6.533922047125834e-16,
           1.8301790617019834e-15,
           4.7482541789545335e-15,
           1.1531583389158045e-14,
           2.6440024824656306e-14,
           5.76343957406405e-14,
           1.2013172571575973e-13,
           2.4059773191821023e-13,
           4.649018126486081e-13,
           8.69729960170204e-13,
           1.5800350425585766e-12,
           2.7947274943085966e-12,
           4.8238019481793335e-12,
           8.14109011653232e-12,
           1.3458064927583414e-11,
           2.182563765644084e-11,
           3.477273535111491e-11,
           5.449267186697315e-11,
           8.409098888607113e-11,
           1.279116050671169e-10,
           1.919618387073368e-10,
           2.844612338506424e-10,
           4.165441985166709e-10,
           6.031523383944456e-10,
           8.64159126330599e-10,
           1.2257772779611627e-9,
           1.7223080015072128e-9,
           2.39830125306036e-9,
           3.3112073582923555e-9,
           4.534612959959898e-9,
           6.1621683212266025e-9,
           8.312328660736434e-9,
           1.1134049517842959e-8,
           1.4813595243303325e-8,
           1.9582640674588608e-8,
           2.5727868970601007e-8,
           3.360229352257917e-8,
           4.363855888750385e-8,
           5.636450485164625e-8,
           7.242130904823008e-8,
           9.258455702191023e-8,
           1.1778862421997391e-7,
           1.4915479202420198e-7,
           1.880235595015404e-7,
           2.3599165387576526e-7,
           2.949542855723647e-7,
           3.671532377559605e-7,
           4.5523142516642817e-7,
           5.622946022647318e-7,
           6.919809455984301e-7,
           8.485392791216408e-7,
           0.0000010369167530174358,
           0.0000012628568252354258,
           0.0000015330084291020774,
           0.000001855047238337327,
           0.000002237809960642733,
           0.0000026914426003494156,
           0.0000032275636266042252,
           0.000003859442962856753,
           0.000004602197671958272,
           0.000005473005144180669,
           0.000006491334497144561,
           0.00000767919676009973,
           0.000009061414231923428,
           0.000010665909162584293,
           0.000012524011599563253,
           0.000014670785849144315,
           0.00001714537450969533,
           0.00001999135841814404,
           0.000023257130084854473,
           0.000026996277242649364,
           0.00003126797196124002,
           0.00003613735932670139,
           0.000041675937891050654,
           0.000047961921875682864,
           0.00005508057235688704,
           0.00006312448123268582,
           0.00007219378748582852,
           0.00008239629987753253,
           0.00009384749340953915,
           0.00010667033824460537,
           0.00012099490868445272,
           0.00013695770544691068,
           0.00015470060570343187,
           0.00017436933048098783,
           0.00019611128569615088,
           0.00022007258771839988,
           0.00024639402158662006,
           0.000275205591545087,
           0.0003066191963333714,
           0.00034071877441570577,
           0.00037754698156128536,
           0.0004170870235363361,
           0.0004592375600927774,
           0.00050377741691292,
           0.0005503147844761,
           0.0005982118025540898,
           0.0006464680415785575,
           0.0006935308256665753,
           0.0007369642946049977,
           0.0007728147360349211,
           0.0007942175199044552,
           0.0007876289907269975,
           0.0007178848487069842,
           0.00024259072630002608,
           0,
           0,
           0,
           0,
           0,
           0,
           0,
           0,
           0,
           0,
           0,
           1.5389362332934153e-54,
           4.045570501903751e-30,
           3.093912286143134e-26,
           5.7786191441234876e-24,
           2.360636803416819e-22,
           4.192897759354145e-21,
           4.397383537869411e-20,
           3.2060606294374647e-19,
           1.791304676630957e-18,
           8.167461227616708e-18,
           3.1722302497767245e-17,
           1.082175337668659e-16,
           3.316673127843858e-16,
           9.290408583123591e-16,
           2.4103989644036465e-15,
           5.854081967874178e-15,
           1.3422940539903829e-14,
           2.926068712325785e-14,
           6.099278073047759e-14,
           1.2216059235436947e-13,
           2.3605904209828305e-13,
           4.416360646420142e-13,
           8.023584056055213e-13,
           1.4192654248769268e-12,
           2.4498357577990837e-12,
           4.134797894649933e-12,
           6.835644201865636e-12,
           1.1086380145538382e-11,
           1.7663980416283103e-11,
           2.7683157719908753e-11,
           4.272240718820288e-11,
           6.498990130394249e-11,
           9.75397112096936e-11,
           1.4455105723383294e-10,
           2.116858840162951e-10,
           3.065430559346487e-10,
           4.392309212935046e-10,
           6.230839459741838e-10,
           8.75553618137348e-10,
           1.2193089262370842e-9,
           1.683587465758125e-9,
           2.3058446896755417e-9,
           3.1337560383736437e-9,
           4.22763472157812e-9,
           5.663336832246082e-9,
           7.535735303599067e-9,
           9.962855026736487e-9,
           1.3090773275519448e-8,
           1.709940248124954e-8,
           2.220928639985229e-8,
           2.8689555849096437e-8,
           3.686720648377275e-8,
           4.713787853207296e-8,
           5.997833703193099e-8,
           7.596087086008195e-8,
           9.576984969694288e-8,
           1.2022069995076234e-7,
           1.5028158347970747e-7,
           1.8709808657155472e-7,
           2.3202125089840297e-7,
           2.8663930284221803e-7,
           3.5281346241490263e-7,
           4.327182376380277e-7,
           5.288866342906347e-7,
           6.442607338780666e-7,
           7.822481139155886e-7,
           9.467846034301788e-7,
           0.0000011424038820905774,
           0.000001374314442538355,
           0.0000016484844410688405,
           0.0000019717349603212176,
           0.0000023518421973203235,
           0.0000027976490689714386,
           0.000003319186692444725,
           0.0000039278061468184845,
           0.000004636320851317816,
           0.000005459159800227083,
           0.000006412531769950199,
           0.000007514600453585236,
           0.000008785670275320693,
           0.000010248382381922332,
           0.00001192791999055873,
           0.000013852221877737109,
           0.000016052202306606896,
           0.00001856197508880772,
           0.00002141907873680115,
           0.000024664698751154356,
           0.000028343881963974058,
           0.000032505736472986635,
           0.00003720360898429316,
           0.00004249522924964549,
           0.000048442808623738025,
           0.00005511307642984518,
           0.00006257723360952522,
           0.0000709107977754823,
           0.00008019330691834656,
           0.00009050784012787865,
           0.00010194030205867205,
           0.00011457840247280381,
           0.00012851024153364806,
           0.0001438223833946809,
           0.00016059726168358673,
           0.0001789097055672525,
           0.0001988222960408407,
           0.00022037914566963977,
           0.00024359751907626024,
           0.0002684564377189638,
           0.00029488097223701623,
           0.00032272019015218965,
           0.00035171544278521654,
           0.00038145331498936746,
           0.0004112929460830652,
           0.00044024770001583805,
           0.00046677861848491475,
           0.0004883980456454791,
           0.0005007989041914558,
           0.0004954974530482425,
           0.00045047847145176227,
           0.0001513409838756611,
           0,
           0,
           0,
           0,
           0,
           0,
           0,
           0,
           0,
           6.713041441882342e-55,
           1.7624253478558208e-30,
           1.3475805528563117e-26,
           2.5166813400711436e-24,
           1.02803586467327e-22,
           1.8259048686659272e-21,
           1.9149145742049936e-20,
           1.39611929874234e-19,
           7.800446342064254e-19,
           3.5566326604926676e-18,
           1.3814043781708904e-17,
           4.712592296120484e-17,
           1.4443507935079667e-16,
           4.045890079922814e-16,
           1.0497328415485634e-15,
           2.5495319710991415e-15,
           5.846046664432258e-15,
           1.2744216739908793e-14,
           2.6565750854873242e-14,
           5.3209698533935997e-14,
           1.0282465405758954e-13,
           1.9237959769388336e-13,
           3.4952774049154547e-13,
           6.182961068669566e-13,
           1.0673095127893308e-12,
           1.801478529535038e-12,
           2.9783553780320645e-12,
           4.830698905046235e-12,
           7.697200340271076e-12,
           1.2063817017714093e-11,
           1.8618754400797914e-11,
           2.8324841481508166e-11,
           4.251387601949341e-11,
           6.300849043154728e-11,
           9.227822390999881e-11,
           1.33637800186935e-10,
           1.9149712305499002e-10,
           2.716742341761562e-10,
           3.817844517437238e-10,
           5.317211470147706e-10,
           7.342461422061789e-10,
           1.0057105520002904e-9,
           1.3669300666579364e-9,
           1.844242212456094e-9,
           2.470777049810584e-9,
           3.2879771056464333e-9,
           4.347407108293126e-9,
           5.712899323260281e-9,
           7.463085997949103e-9,
           9.694376631779541e-9,
           1.2524444511647788e-8,
           1.6096294203799964e-8,
           2.058298948039521e-8,
           2.6193129485094326e-8,
           3.317716980319996e-8,
           4.183469448656193e-8,
           5.2522754970543e-8,
           6.566540217757338e-8,
           8.176454888369204e-8,
           1.0141231056996738e-7,
           1.2530498441049315e-7,
           1.5425883766208145e-7,
           1.8922788839211016e-7,
           2.313238730552119e-7,
           2.8183860671737546e-7,
           3.422689524983654e-7,
           4.143446267840357e-7,
           5.00059075618164e-7,
           6.017036650237505e-7,
           7.219054333552608e-7,
           8.636686565864488e-7,
           0.0000010304204770281208,
           0.0000012260608415576443,
           0.000001455016986090038,
           0.0000017223026876173048,
           0.000002033582482365175,
           0.0000023952410168906773,
           0.00000281445765639074,
           0.000003299286418865731,
           0.0000038587412323872555,
           0.00000450288642231626,
           0.000005242932221988339,
           0.000006091334959381986,
           0.000007061901397825276,
           0.000008169896493794017,
           0.00000943215357058831,
           0.00001086718558234072,
           0.000012495295744943802,
           0.000014338685322186311,
           0.00001642155575528771,
           0.000018770201584885105,
           0.00002141308970136057,
           0.00002438091932680595,
           0.000027706655720487753,
           0.00003142552883078266,
           0.000035574985885079976,
           0.000040194584072849244,
           0.000045325805841062225,
           0.00005101177461482686,
           0.00005729684259820204,
           0.00006422601415525187,
           0.00007184415732578761,
           0.00008019494111784041,
           0.00008931941556201578,
           0.0000992541223653919,
           0.00011002858201975272,
           0.00012166194134231032,
           0.0001341584718466103,
           0.00014750146363246185,
           0.00016164482497744862,
           0.00017650130580257014,
           0.00019192557842832384,
           0.00020768914950411915,
           0.00022344161276296635,
           0.0002386475542340553,
           0.00025247637260321154,
           0.00026359070706775435,
           0.0002696813299254724,
           0.0002662070253385187,
           0.0002413901965135682,
           0.00008055382743593471,
           0,
           0,
           0,
           0,
           0,
           0,
           0,
           2.2996768165557987e-55,
           6.0277752797956425e-31,
           4.607785015100665e-27,
           8.604147639262306e-25,
           3.514402111441835e-23,
           6.241613694612999e-22,
           6.545630121527624e-21,
           4.772142432781412e-20,
           2.6662647262170503e-19,
           1.2156793250620622e-18,
           4.721714378702152e-18,
           1.6107934530453547e-17,
           4.936915549067324e-17,
           1.3829351362760518e-16,
           3.588167796229416e-16,
           8.714892224178463e-16,
           1.9983552453557345e-15,
           4.3564586598259544e-15,
           9.081418231484816e-15,
           1.8190077904003786e-14,
           3.5152336544138925e-14,
           6.577034155134169e-14,
           1.194999753199851e-13,
           2.1139692890916082e-13,
           3.6492988983053627e-13,
           6.159790287202404e-13,
           1.0184319424222522e-12,
           1.6519047384465476e-12,
           2.632256634985776e-12,
           4.1257362915076424e-12,
           6.36780146313585e-12,
           9.687895279933677e-12,
           1.4541747696444462e-11,
           2.1553105062628734e-11,
           3.156718037883245e-11,
           4.571856807360609e-11,
           6.551688694875536e-11,
           9.29540105263461e-11,
           1.306374230322778e-10,
           1.8195500962591634e-10,
           2.512774595041667e-10,
           3.4420543869791623e-10,
           4.678697844663493e-10,
           6.312941940401004e-10,
           8.458312359785087e-10,
           1.1256840114546373e-9,
           1.488527444071096e-9,
           1.9562449887563637e-9,
           2.5557985308673118e-9,
           3.3202514031802787e-9,
           4.289966787514532e-9,
           5.514006294761633e-9,
           7.0517562362203515e-9,
           8.974812012844622e-9,
           1.1369154157783594e-8,
           1.4337652869496014e-8,
           1.8002941362941293e-8,
           2.2510702036648253e-8,
           2.8033413291547893e-8,
           3.477460882628323e-8,
           4.2973705350635344e-8,
           5.2911458874558266e-8,
           6.491611400827529e-8,
           7.937031500322929e-8,
           9.671885151826867e-8,
           1.1747731624205403e-7,
           1.4224175545888552e-7,
           1.7169939731212377e-7,
           2.0664054577897946e-7,
           2.4797173108195096e-7,
           2.967302092586341e-7,
           3.5409990469482816e-7,
           4.214288893614398e-7,
           5.002484910060123e-7,
           5.922941193063943e-7,
           6.995278936083451e-7,
           8.241631478798614e-7,
           9.686908773760047e-7,
           0.0000011359081765688809,
           0.0000013289486983834033,
           0.0000015513151397653667,
           0.0000018069137269844522,
           0.000002100090634507446,
           0.0000024356702221554187,
           0.000002818994914629168,
           0.000003255966472970995,
           0.0000037530883162122598,
           0.000004317508439746789,
           0.000004957062340421591,
           0.000005680315191403033,
           0.000006496602305593466,
           0.0000074160666759276895,
           0.000008449692073036095,
           0.00000960932980106712,
           0.000010907716742166629,
           0.000012358481734639315,
           0.000013976136596647079,
           0.00001577604718289527,
           0.00001777437868718652,
           0.000019988007898172648,
           0.000022434393166826514,
           0.00002513139029380671,
           0.000028096999166390108,
           0.00003134902143807792,
           0.0000349046033601756,
           0.00003877962930383569,
           0.00004298791940984503,
           0.000047540167362008416,
           0.00005244252855668982,
           0.00005769473001198716,
           0.00006328751270597462,
           0.00006919911935389362,
           0.00007539037725022496,
           0.0000817976402422846,
           0.00008832232836714694,
           0.00009481477498782689,
           0.00010104792036983648,
           0.00010667135649130216,
           0.00011112303279183145,
           0.00011343502898961693,
           0.00011170698525991588,
           0.00010101373501968738,
           0.00003343624261106183,
           0,
           0,
           0,
           0,
           0,
           5.06909155786689e-56,
           1.3258050956790532e-31,
           1.0131230636751905e-27,
           1.891442231169227e-25,
           7.72467723906059e-24,
           1.3717826768326808e-22,
           1.438499296567583e-21,
           1.0486934421259854e-20,
           5.858963112074617e-20,
           2.671302527597998e-19,
           1.0375133855388613e-18,
           3.539375461725892e-18,
           1.0847700199097326e-17,
           3.038652778284259e-17,
           7.884082307156798e-17,
           1.9148784988623987e-16,
           4.390906586870662e-16,
           9.572354701345552e-16,
           1.9954636791002233e-15,
           3.996969874037646e-15,
           7.724276533190369e-15,
           1.4452470555426318e-14,
           2.6259667786383645e-14,
           4.645478998089953e-14,
           8.019598924026999e-14,
           1.3536970183470703e-13,
           2.2382099380708197e-13,
           3.630512898004948e-13,
           5.785305506329961e-13,
           9.068083658053256e-13,
           1.399653224092332e-12,
           2.1295024791036547e-12,
           3.196568390377437e-12,
           4.738019341322567e-12,
           6.939741254675997e-12,
           1.0051283779525507e-11,
           1.4404710539167913e-11,
           2.043820422357829e-11,
           2.872542728707682e-11,
           4.001180925392832e-11,
           5.525912399784355e-11,
           7.569993676497327e-11,
           1.0290374312554124e-10,
           1.3885689247676996e-10,
           1.860586892113864e-10,
           2.4763639724653104e-10,
           3.274822402919038e-10,
           4.3041589299125455e-10,
           5.623763987876932e-10,
           7.306479308168478e-10,
           9.44124333943975e-10,
           1.21361795064987e-9,
           1.5522188419973705e-9,
           1.9757111682168352e-9,
           2.503054191984587e-9,
           3.1569361112097884e-9,
           3.964409716500063e-9,
           4.9576197001779844e-9,
           6.174632316702569e-9,
           7.660379005606217e-9,
           9.467726533478596e-9,
           1.1658687185715173e-8,
           1.4305783534797046e-8,
           1.749358332112124e-8,
           2.1320420994162805e-8,
           2.5900323462950927e-8,
           3.136515857965453e-8,
           3.786702580946297e-8,
           4.5580909401148045e-8,
           5.470761513858121e-8,
           6.547701239187408e-8,
           7.81516036595837e-8,
           9.303044405554084e-8,
           1.1045343319210151e-7,
           1.308060015832729e-7,
           1.5452421296212462e-7,
           1.8210030268982123e-7,
           2.1408867062518994e-7,
           2.511123443019156e-7,
           2.9386992488043343e-7,
           3.431430239315814e-7,
           3.9980419346454424e-7,
           4.648253444882638e-7,
           5.392866405008919e-7,
           6.243858412842163e-7,
           7.21448058814872e-7,
           8.31935870476621e-7,
           9.57459714440863e-7,
           0.0000010997884673074222,
           0.0000012608600739178118,
           0.0000014427920624954198,
           0.0000016478917334671115,
           0.0000018786657556398892,
           0.000002137828836514803,
           0.0000024283110514490317,
           0.000002753263315300306,
           0.000003116060355142772,
           0.000003520300387118901,
           0.000003969800505866377,
           0.000004468586549683889,
           0.00000502087589303192,
           0.0000056310512186387205,
           0.0000063036228045576825,
           0.000007043176184908356,
           0.00000785430114643371,
           0.000008741496818589083,
           0.00000970904597235366,
           0.000010760849365181761,
           0.000011900207751661592,
           0.000013129534538799687,
           0.000014449975216495472,
           0.000015860899323372036,
           0.000017359214540881616,
           0.00001893842645756994,
           0.00002058732394782152,
           0.000022288093872544633,
           0.000024013528441080125,
           0.000025722713699563287,
           0.00002735400732093367,
           0.00002881276779319534,
           0.000029947767944623128,
           0.000030499283503595695,
           0.00002995828720918255,
           0.000027006764889051475,
           0.000008843912780281452,
           0,
           0,
           0,
           3.8073246572518357e-57,
           9.923392405623627e-33,
           7.57856084311667e-29,
           1.414391681363285e-26,
           5.775029161489825e-25,
           1.0253721296516206e-23,
           1.075088755342467e-22,
           7.836695317016413e-22,
           4.37787428049644e-21,
           1.9958605587667787e-20,
           7.751230063954145e-20,
           2.644098515694358e-19,
           8.103382696847237e-19,
           2.2698152943947505e-18,
           5.8890337555985305e-18,
           1.4302763002890326e-17,
           3.279599892603286e-17,
           7.149494066174956e-17,
           1.4903626693352572e-16,
           2.9851917309126487e-16,
           5.768911552487582e-16,
           1.0793797583435389e-15,
           1.96118619923285e-15,
           3.4694351493160074e-15,
           5.9893650460216654e-15,
           1.0109987300458206e-14,
           1.6715988390013927e-14,
           2.7114549611608093e-14,
           4.3208074898336206e-14,
           6.772661365202162e-14,
           1.0453711575066568e-13,
           1.5905063934474472e-13,
           2.3875333537204347e-13,
           3.538925496429766e-13,
           5.183558148115983e-13,
           7.507879586644641e-13,
           1.0760001471374718e-12,
           1.5267345324424442e-12,
           2.1458594174463187e-12,
           2.9890826120865162e-12,
           4.128285087021193e-12,
           5.6555932699819e-12,
           7.688326531908883e-12,
           1.0374976726866863e-11,
           1.3902399238269239e-11,
           1.8504420001389214e-11,
           2.4472090575250548e-11,
           3.216585368010123e-11,
           4.2029914849560325e-11,
           5.460915211196621e-11,
           7.056893504633947e-11,
           9.071826727445349e-11,
           1.1603671255467088e-10,
           1.4770561421709225e-10,
           1.8714417077877057e-10,
           2.3605098722608925e-10,
           2.9645178163462673e-10,
           3.707539904551859e-10,
           4.6180908281451984e-10,
           5.729834643838672e-10,
           7.082389245061159e-10,
           8.722236560055167e-10,
           1.0703749549924416e-9,
           1.3090347874630482e-9,
           1.5955794898854648e-9,
           1.938564951407955e-9,
           2.3478887047832044e-9,
           2.8349704303266737e-9,
           3.41295245071788e-9,
           4.0969218624260355e-9,
           4.9041560098775305e-9,
           5.854393058674222e-9,
           6.970129461259736e-9,
           8.276946128927475e-9,
           9.803865123865462e-9,
           1.1583738659208156e-8,
           1.3653672138137103e-8,
           1.6055482868253007e-8,
           1.8836195946863585e-8,
           2.2048578617213826e-8,
           2.5751714134063054e-8,
           3.001161583642638e-8,
           3.490188169035559e-8,
           4.050438901704292e-8,
           4.69100284394672e-8,
           5.421947523812e-8,
           6.254399527165091e-8,
           7.200628135363646e-8,
           8.274131443614079e-8,
           9.489724207828123e-8,
           1.0863626440499017e-7,
           1.2413551500302429e-7,
           1.4158792085311275e-7,
           1.6120302132805482e-7,
           1.8320772133206715e-7,
           2.0784694760825062e-7,
           2.353841698327107e-7,
           2.661017390029548e-7,
           3.003009843696109e-7,
           3.383019961702376e-7,
           3.8044300392812203e-7,
           4.2707923804032885e-7,
           4.785811343919964e-7,
           5.353317058682537e-7,
           5.977228582065489e-7,
           6.661503668524891e-7,
           7.41007150922073e-7,
           8.226743721203119e-7,
           9.115097387784098e-7,
           0.0000010078321902756372,
           0.0000011119018475149591,
           0.0000012238936972722704,
           0.0000013438628613018614,
           0.0000014716983664054112,
           0.000001607060873853217,
           0.0000017492974764673255,
           0.0000018973227371311254,
           0.000002049448259861979,
           0.0000022031304082191853,
           0.0000023545809559577168,
           0.0000024981330253704563,
           0.0000026251330326413,
           0.0000027218104320946183,
           0.0000027645882407461855,
           0.0000027073616501563963,
           0.000002430941796405608,
           7.825223456549502e-7,
           0,
           2.3864688289531013e-65,
           6.085171550672932e-41,
           4.630403677432382e-37,
           8.622754821670799e-35,
           3.515082304927214e-33,
           6.233218678666707e-32,
           6.528552807174931e-31,
           4.754571123494004e-30,
           2.653961142088377e-29,
           1.2090673002066303e-28,
           4.6925455007696235e-28,
           1.5997652651555075e-27,
           4.900099786734442e-27,
           1.3718453814420149e-26,
           3.557529547821185e-26,
           8.636267815585053e-26,
           1.9794249712338858e-25,
           4.313348977828974e-25,
           8.98794488466643e-25,
           1.7996041648668034e-24,
           3.4764933038579396e-24,
           6.502350056295191e-24,
           1.1810511981327357e-23,
           2.0886577281539078e-23,
           3.6045600938282754e-23,
           6.082597724522233e-23,
           1.0054054632729967e-22,
           1.6303681541762149e-22,
           2.597320103724113e-22,
           4.0700536136892036e-22,
           6.28050010394894e-22,
           9.553106788247834e-22,
           1.4336612642104662e-21,
           2.1245094014332894e-21,
           3.111053321807513e-21,
           4.5049607139199275e-21,
           6.4547904128092386e-21,
           9.156536340917637e-21,
           1.2866739955395969e-20,
           1.7918693318838535e-20,
           2.4742340635222878e-20,
           3.3888582540726926e-20,
           4.605879549681446e-20,
           6.21404992072555e-20,
           8.325023899185642e-20,
           1.1078489842363404e-19,
           1.4648282119569796e-19,
           1.9249630103784446e-19,
           2.5147719543325503e-19,
           3.2667763373465106e-19,
           4.2206802383198433e-19,
           5.424748144898633e-19,
           6.937407434655629e-19,
           8.829105950293126e-19,
           1.1184458048807175e-18,
           1.4104715858511844e-18,
           1.7710606041482588e-18,
           2.2145576129230636e-18,
           2.7579498470111888e-18,
           3.421288398839873e-18,
           4.228166229320074e-18,
           5.206258917178555e-18,
           6.387934713191172e-18,
           7.810940939062613e-18,
           9.519174250408732e-18,
           1.1563542764709919e-17,
           1.4002928532480186e-17,
           1.6905259296334464e-17,
           2.03486989298834e-17,
           2.4422966366630728e-17,
           2.9230793206686265e-17,
           3.488953051244801e-17,
           4.153291555733586e-17,
           4.9313009455288606e-17,
           5.840231665089026e-17,
           6.89960971647196e-17,
           8.13148822354484e-17,
           9.560720354376151e-17,
           1.1215254550167966e-16,
           1.312645290955062e-16,
           1.5329433442406651e-16,
           1.7863436730877897e-16,
           2.077221730890417e-16,
           2.410445978617466e-16,
           2.7914219386657494e-16,
           3.2261386132734843e-16,
           3.7212171367747366e-16,
           4.2839614653663337e-16,
           4.92241082841674e-16,
           5.645393568953321e-16,
           6.4625818845359745e-16,
           7.384546839256603e-16,
           8.422812848193941e-16,
           9.589910631265479e-16,
           1.0899427386569689e-15,
           1.2366052634669327e-15,
           1.400561782309526e-15,
           1.583512733979941e-15,
           1.787277804639878e-15,
           2.013796378241308e-15,
           2.265126047861791e-15,
           2.543438650951431e-15,
           2.8510131656660968e-15,
           3.1902246472402462e-15,
           3.5635281827311864e-15,
           3.97343658571502e-15,
           4.4224902205398504e-15,
           4.913216911607409e-15,
           5.448079318270759e-15,
           6.029406384084294e-15,
           6.65930441693169e-15,
           7.339541897821607e-15,
           8.071400055824967e-15,
           8.855478275931532e-15,
           9.691439023590802e-15,
           1.0577670334243856e-14,
           1.1510833574994036e-14,
           1.2485247529497247e-14,
           1.3492031997951544e-14,
           1.451788542268917e-14,
           1.554328149756079e-14,
           1.6539694551206463e-14,
           1.7465094209702106e-14,
           1.8256094712876124e-14,
           1.8812907169106602e-14,
           1.8966326513835887e-14,
           1.838855778485347e-14,
           1.624109754452539e-14,
           4.6929639547371276e-15
          ],
          "width": 129
         }
        },
        {
         "name": "contours",
         "source": "contributions",
         "transform": [
          {
           "scale": {
            "expr": "width / datum.width"
           },
           "smooth": true,
           "type": "isocontour",
           "zero": false
          }
         ]
        }
       ],
       "description": "A plot of relative contribution from three points on a triangle",
       "height": 195,
       "legends": [
        {
         "orient": "left",
         "stroke": "color",
         "symbolType": "stroke"
        }
       ],
       "marks": [
        {
         "encode": {
          "enter": {
           "fill": {
            "field": "contour.value",
            "scale": "color"
           },
           "stroke": {
            "value": "#ccc"
           },
           "strokeWidth": {
            "value": 0.5
           },
           "x": {
            "value": 50
           },
           "y": {
            "value": 0
           }
          }
         },
         "from": {
          "data": "contours"
         },
         "name": "_contours",
         "transform": [
          {
           "field": "datum.contour",
           "type": "geopath"
          }
         ],
         "type": "path"
        },
        {
         "encode": {
          "enter": {
           "stroke": {
            "value": "#ccc"
           }
          },
          "update": {
           "opacity": {
            "value": 1
           },
           "path": {
            "value": "L0,195 L193,0 L387,195 L0,195"
           },
           "strokeWidth": {
            "value": 1
           },
           "x": {
            "value": 50
           },
           "y": {
            "value": 0
           }
          }
         },
         "name": "outline",
         "type": "path"
        },
        {
         "marks": [
          {
           "encode": {
            "enter": {
             "fill": {
              "value": "#000"
             },
             "text": {
              "value": "Model 2"
             }
            },
            "update": {
             "opacity": {
              "value": 1
             },
             "x": {
              "value": 0
             },
             "y": {
              "value": 195
             }
            }
           },
           "type": "text"
          },
          {
           "encode": {
            "enter": {
             "fill": {
              "value": "#000"
             },
             "text": {
              "value": "Model 3"
             }
            },
            "update": {
             "opacity": {
              "value": 1
             },
             "x": {
              "value": 195
             },
             "y": {
              "value": 0
             }
            }
           },
           "type": "text"
          },
          {
           "encode": {
            "enter": {
             "fill": {
              "value": "#000"
             },
             "text": {
              "value": "Model 2"
             }
            },
            "update": {
             "opacity": {
              "value": 1
             },
             "x": {
              "value": 450
             },
             "y": {
              "value": 195
             }
            }
           },
           "type": "text"
          }
         ],
         "name": "labels",
         "type": "group"
        }
       ],
       "scales": [
        {
         "domain": {
          "data": "contours",
          "field": "contour.value"
         },
         "name": "color",
         "range": {
          "scheme": "reds"
         },
         "type": "linear"
        }
       ],
       "title": "Prior Ensemble Weights",
       "width": 387
      }
     },
     "metadata": {},
     "output_type": "display_data"
    }
   ],
   "source": [
    "schema = plots.triangle_contour(ensemble_posterior_forecasts[\"model_weights\"], title=\"Prior Ensemble Weights\")\n",
    "plots.ipy_display(schema)"
   ]
  },
  {
   "attachments": {},
   "cell_type": "markdown",
   "metadata": {},
   "source": [
    "## Forecasting over time - Sliding Window Calibration"
   ]
  },
  {
   "cell_type": "code",
   "execution_count": null,
   "metadata": {},
   "outputs": [],
   "source": [
    "dates = pd.date_range(start=train_start_date, end=test_end_date, freq=\"14D\")\n",
    "dates = [date.strftime(\"%Y-%m-%d\") for date in dates[1:-1]]"
   ]
  },
  {
   "cell_type": "code",
   "execution_count": null,
   "metadata": {},
   "outputs": [
    {
     "data": {
      "image/png": "[encoded data removed]",
      "text/plain": [
       "<Figure size 1000x2100 with 15 Axes>"
      ]
     },
     "metadata": {},
     "output_type": "display_data"
    }
   ],
   "source": [
    "# Setup plt axes\n",
    "fig, axes = plt.subplots(nrows=len(dates)-2, ncols=2, figsize=(10, 3*len(dates)))\n",
    "\n",
    "for i in range(1, len(dates)-1):\n",
    "    _train_start_date = dates[i-1]\n",
    "    _test_start_date = dates[i]\n",
    "    _test_end_date = dates[i+1]\n",
    "    \n",
    "    _train_data, _train_cases, _train_timepoints, _test_cases, _test_timepoints, _all_timepoints = get_train_test_data(data, _train_start_date, _test_start_date, _test_end_date)\n",
    "    _start_states = [create_start_state1(data, _train_start_date), create_start_state2(data, _train_start_date), create_start_state3(data, _train_start_date)]\n",
    "    _start_time = _train_timepoints[0] - 1e-5\n",
    "\n",
    "    _ensemble = setup_model(models, \n",
    "                        weights, \n",
    "                        solution_mappings, \n",
    "                        _start_time, \n",
    "                        _start_states, \n",
    "                        ensemble_total_population, \n",
    "                        dirichlet_concentration=dirichlet_concentration,\n",
    "                        noise_pseudocount=noise_pseudocount)\n",
    "    \n",
    "    _ensemble_prior_forecasts = sample(_ensemble, _all_timepoints, num_samples)\n",
    "\n",
    "    try:\n",
    "        with open(os.path.join(save_path, f\"inferred_parameters2_{i}.pkl\"), \"rb\") as f:\n",
    "            _inferred_parameters = dill.load(f)\n",
    "    except:\n",
    "        _autoguide = pyro.infer.autoguide.AutoDiagonalNormal\n",
    "        _inferred_parameters = calibrate(_ensemble, _train_data, num_iterations=num_iterations, autoguide=_autoguide)\n",
    "\n",
    "        with open(os.path.join(save_path, f\"inferred_parameters2_{i}.pkl\"), \"wb\") as f:\n",
    "            dill.dump(_inferred_parameters, f)\n",
    "\n",
    "    _ensemble_posterior_forecasts = sample(_ensemble, _all_timepoints, num_samples, _inferred_parameters)\n",
    "\n",
    "    try:\n",
    "        with open(os.path.join(save_path, f\"deterministic_parameters2_{i}.pkl\"), \"rb\") as f:\n",
    "            _deterministic_parameters = dill.load(f)\n",
    "\n",
    "    except:\n",
    "        _deterministic_autoguide = pyro.infer.autoguide.AutoDelta\n",
    "        _deterministic_parameters = calibrate(_ensemble, _train_data, num_iterations=num_iterations, autoguide=_deterministic_autoguide)\n",
    "\n",
    "        with open(os.path.join(save_path, f\"deterministic_parameters2_{i}.pkl\"), \"wb\") as f:\n",
    "            dill.dump(_deterministic_parameters, f)\n",
    "    _ensemble_deterministic_forecasts = sample(_ensemble, _all_timepoints, 1, _deterministic_parameters)\n",
    "\n",
    "    ax = setup_ax(axes[i-1, 0])\n",
    "    ax = plot_predictive(_ensemble_prior_forecasts, _all_timepoints, ax=ax, color=\"blue\", label=\"Prior\")\n",
    "    ax = plot_predictive(_ensemble_posterior_forecasts, _all_timepoints, ax=ax, color=\"green\", label=\"Posterior\")\n",
    "    ax = plot_trajectory(_ensemble_deterministic_forecasts, _all_timepoints, ax=ax, color=\"orange\", label=\"Deterministic\")\n",
    "    ax = plot_observations(_train_cases, _train_timepoints, ax=ax, color=\"black\", label=\"Training\")\n",
    "    ax = plot_observations(_test_cases, _test_timepoints, ax=ax, color=\"red\", label=\"Testing\")\n",
    "    \n",
    "    plot_weights(_ensemble_posterior_forecasts[\"model_weights\"], ax=axes[i-1, 1])"
   ]
  },
  {
   "cell_type": "code",
   "execution_count": null,
   "metadata": {},
   "outputs": [],
   "source": []
  }
 ],
 "metadata": {
  "kernelspec": {
   "display_name": "CIEMSS_ENV",
   "language": "python",
   "name": "python3"
  },
  "language_info": {
   "codemirror_mode": {
    "name": "ipython",
    "version": 3
   },
   "file_extension": ".py",
   "mimetype": "text/x-python",
   "name": "python",
   "nbconvert_exporter": "python",
   "pygments_lexer": "ipython3",
   "version": "3.10.11"
  }
 },
 "nbformat": 4,
 "nbformat_minor": 4
}
