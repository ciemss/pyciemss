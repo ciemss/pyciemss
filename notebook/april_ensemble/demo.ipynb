{
 "cells": [
  {
   "cell_type": "code",
   "execution_count": 1,
   "metadata": {},
   "outputs": [],
   "source": [
    "import os\n",
    "\n",
    "from pyciemss.PetriNetODE.base import MiraPetriNetODESystem, ScaledBetaNoisePetriNetODESystem\n",
    "from pyciemss.PetriNetODE.events import Event, StartEvent, LoggingEvent, ObservationEvent, StaticParameterInterventionEvent\n",
    "from pyciemss.Ensemble.base import EnsembleSystem\n",
    "import pyciemss\n",
    "\n",
    "from pyciemss.PetriNetODE.interfaces import load_petri_model\n",
    "from pyciemss.Ensemble.interfaces import setup_model, reset_model, intervene, sample, calibrate, optimize"
   ]
  },
  {
   "cell_type": "code",
   "execution_count": 2,
   "metadata": {},
   "outputs": [
    {
     "data": {
      "text/plain": [
       "ScaledBetaNoisePetriNetODESystem(\n",
       "\tbeta = Uniform(low: 0.00989999994635582, high: 0.01209999993443489),\n",
       "\tgamma = Uniform(low: 0.41040000319480896, high: 0.5016000270843506),\n",
       "\tdelta = Uniform(low: 0.00989999994635582, high: 0.01209999993443489),\n",
       "\talpha = Uniform(low: 0.5130000114440918, high: 0.6269999742507935),\n",
       "\tepsilon = Uniform(low: 0.15389999747276306, high: 0.18809999525547028),\n",
       "\tzeta = Uniform(low: 0.11249999701976776, high: 0.13750000298023224),\n",
       "\tXXlambdaXX = Uniform(low: 0.03060000017285347, high: 0.03739999979734421),\n",
       "\teta = Uniform(low: 0.11249999701976776, high: 0.13750000298023224),\n",
       "\trho = Uniform(low: 0.03060000017285347, high: 0.03739999979734421),\n",
       "\ttheta = Uniform(low: 0.33390000462532043, high: 0.4081000089645386),\n",
       "\tkappa = Uniform(low: 0.015300000086426735, high: 0.018699999898672104),\n",
       "\tmu = Uniform(low: 0.015300000086426735, high: 0.018699999898672104),\n",
       "\tnu = Uniform(low: 0.024299999698996544, high: 0.02969999983906746),\n",
       "\txi = Uniform(low: 0.015300000086426735, high: 0.018699999898672104),\n",
       "\ttau = Uniform(low: 0.008999999612569809, high: 0.010999999940395355),\n",
       "\tsigma = Uniform(low: 0.015300000086426735, high: 0.018699999898672104),\n",
       "\tpseudocount = 1\n",
       ")"
      ]
     },
     "execution_count": 2,
     "metadata": {},
     "output_type": "execute_result"
    }
   ],
   "source": [
    "MIRA_PATH = \"test/models/april_ensemble_demo/\"\n",
    "\n",
    "filename1 = \"BIOMD0000000955_template_model.json\"\n",
    "filename1 = os.path.join(MIRA_PATH, filename1)\n",
    "model1 = ScaledBetaNoisePetriNetODESystem.from_mira(filename1)\n",
    "model1"
   ]
  },
  {
   "cell_type": "code",
   "execution_count": 3,
   "metadata": {},
   "outputs": [],
   "source": [
    "start_state1 = {'Susceptible': 0.9999963,\n",
    "                'Infected': 3.33333333e-06,\n",
    "                'Diagnosed': 3.33333333e-07,\n",
    "                'Ailing': 1.66666666e-08,\n",
    "                'Recognized': 3.33333333e-08,\n",
    "                'Threatened': 0.0,\n",
    "                'Healed': 0.0,\n",
    "                'Extinct': 0.0}"
   ]
  },
  {
   "cell_type": "code",
   "execution_count": 4,
   "metadata": {},
   "outputs": [],
   "source": [
    "# Placeholder for now while I debug other MIRA models.\n",
    "import copy\n",
    "model2 = copy.deepcopy(model1)\n",
    "start_state2 = copy.deepcopy(start_state1)"
   ]
  },
  {
   "cell_type": "code",
   "execution_count": 5,
   "metadata": {},
   "outputs": [],
   "source": [
    "# Setup the Ensemble\n",
    "\n",
    "# Placeholder for now while I debug other MIRA models.\n",
    "models = [model1, model2]\n",
    "weights = [0.5, 0.5]\n",
    "start_time = 0.0\n",
    "\n",
    "start_states = [start_state1, start_state2]\n",
    "\n",
    "ensemble = setup_model(models, weights, start_time, start_states)\n"
   ]
  },
  {
   "cell_type": "code",
   "execution_count": 6,
   "metadata": {},
   "outputs": [
    {
     "data": {
      "text/plain": [
       "{'model_assignment': tensor([0, 1, 0, 0, 1, 0, 0, 1, 1, 1]),\n",
       " 'beta': tensor([0.0113, 0.0108, 0.0113, 0.0110, 0.0112, 0.0112, 0.0115, 0.0103, 0.0121,\n",
       "         0.0100]),\n",
       " 'gamma': tensor([0.4390, 0.4148, 0.4490, 0.4576, 0.4580, 0.4253, 0.4450, 0.4897, 0.4895,\n",
       "         0.4630]),\n",
       " 'delta': tensor([0.0104, 0.0118, 0.0104, 0.0119, 0.0109, 0.0118, 0.0102, 0.0117, 0.0111,\n",
       "         0.0108]),\n",
       " 'alpha': tensor([0.5388, 0.6264, 0.5534, 0.5944, 0.6202, 0.5161, 0.5700, 0.5753, 0.5618,\n",
       "         0.6159]),\n",
       " 'epsilon': tensor([0.1676, 0.1689, 0.1878, 0.1630, 0.1585, 0.1806, 0.1809, 0.1600, 0.1541,\n",
       "         0.1841]),\n",
       " 'zeta': tensor([0.1233, 0.1272, 0.1196, 0.1371, 0.1289, 0.1313, 0.1273, 0.1283, 0.1248,\n",
       "         0.1160]),\n",
       " 'XXlambdaXX': tensor([0.0334, 0.0337, 0.0309, 0.0355, 0.0341, 0.0347, 0.0358, 0.0355, 0.0309,\n",
       "         0.0322]),\n",
       " 'eta': tensor([0.1192, 0.1286, 0.1281, 0.1151, 0.1129, 0.1244, 0.1349, 0.1332, 0.1235,\n",
       "         0.1159]),\n",
       " 'rho': tensor([0.0355, 0.0348, 0.0340, 0.0366, 0.0367, 0.0345, 0.0311, 0.0366, 0.0362,\n",
       "         0.0363]),\n",
       " 'theta': tensor([0.3834, 0.3445, 0.4080, 0.3879, 0.3407, 0.4078, 0.3809, 0.3911, 0.3745,\n",
       "         0.4079]),\n",
       " 'kappa': tensor([0.0176, 0.0184, 0.0165, 0.0183, 0.0182, 0.0181, 0.0187, 0.0159, 0.0158,\n",
       "         0.0176]),\n",
       " 'mu': tensor([0.0156, 0.0161, 0.0180, 0.0160, 0.0160, 0.0169, 0.0157, 0.0185, 0.0156,\n",
       "         0.0171]),\n",
       " 'nu': tensor([0.0284, 0.0274, 0.0246, 0.0253, 0.0247, 0.0287, 0.0283, 0.0283, 0.0295,\n",
       "         0.0266]),\n",
       " 'xi': tensor([0.0160, 0.0171, 0.0186, 0.0176, 0.0160, 0.0181, 0.0167, 0.0186, 0.0183,\n",
       "         0.0174]),\n",
       " 'tau': tensor([0.0108, 0.0094, 0.0095, 0.0098, 0.0092, 0.0102, 0.0103, 0.0104, 0.0105,\n",
       "         0.0099]),\n",
       " 'sigma': tensor([0.0172, 0.0179, 0.0173, 0.0187, 0.0172, 0.0172, 0.0172, 0.0174, 0.0172,\n",
       "         0.0154]),\n",
       " 'Ailing_sol': tensor([[4.2076e-07, 1.7221e-06, 3.2670e-06],\n",
       "         [4.3433e-07, 1.9805e-06, 4.7367e-06],\n",
       "         [4.0799e-07, 1.6292e-06, 3.0083e-06],\n",
       "         [4.6651e-07, 1.9856e-06, 4.2760e-06],\n",
       "         [4.4015e-07, 2.0186e-06, 4.9224e-06],\n",
       "         [4.4683e-07, 1.7080e-06, 2.7588e-06],\n",
       "         [4.3414e-07, 1.8001e-06, 3.5496e-06],\n",
       "         [4.3737e-07, 1.8405e-06, 3.8824e-06],\n",
       "         [4.2595e-07, 1.8241e-06, 3.9130e-06],\n",
       "         [3.9604e-07, 1.6859e-06, 3.7154e-06]]),\n",
       " 'Diagnosed_sol': tensor([[8.4034e-07, 3.0417e-06, 7.6635e-06],\n",
       "         [8.4185e-07, 3.2189e-06, 9.2319e-06],\n",
       "         [9.0543e-07, 3.3701e-06, 8.4643e-06],\n",
       "         [8.2601e-07, 3.0679e-06, 8.4486e-06],\n",
       "         [8.1165e-07, 3.0775e-06, 8.9962e-06],\n",
       "         [8.8239e-07, 3.1459e-06, 7.2960e-06],\n",
       "         [8.8099e-07, 3.2615e-06, 8.3511e-06],\n",
       "         [8.1000e-07, 2.9369e-06, 7.8700e-06],\n",
       "         [7.9389e-07, 2.8674e-06, 7.7294e-06],\n",
       "         [8.9614e-07, 3.5092e-06, 9.9772e-06]]),\n",
       " 'Extinct_sol': tensor([[0.0000e+00, 5.2314e-11, 2.0151e-09],\n",
       "         [0.0000e+00, 4.4322e-11, 1.8195e-09],\n",
       "         [0.0000e+00, 4.2495e-11, 1.8625e-09],\n",
       "         [0.0000e+00, 4.3515e-11, 1.9389e-09],\n",
       "         [0.0000e+00, 4.0063e-11, 1.7211e-09],\n",
       "         [0.0000e+00, 5.0751e-11, 2.1229e-09],\n",
       "         [0.0000e+00, 4.9460e-11, 1.9864e-09],\n",
       "         [0.0000e+00, 5.2139e-11, 2.2838e-09],\n",
       "         [0.0000e+00, 5.2501e-11, 2.0085e-09],\n",
       "         [0.0000e+00, 4.6666e-11, 1.8571e-09]]),\n",
       " 'Healed_sol': tensor([[1.2389e-07, 8.1991e-07, 2.9928e-06],\n",
       "         [1.2488e-07, 8.6389e-07, 3.4278e-06],\n",
       "         [1.1509e-07, 7.7257e-07, 2.8798e-06],\n",
       "         [1.3146e-07, 8.8977e-07, 3.4189e-06],\n",
       "         [1.2658e-07, 8.7403e-07, 3.4748e-06],\n",
       "         [1.2823e-07, 8.3166e-07, 2.9235e-06],\n",
       "         [1.3058e-07, 8.6514e-07, 3.1869e-06],\n",
       "         [1.3157e-07, 8.7906e-07, 3.3269e-06],\n",
       "         [1.1582e-07, 7.8029e-07, 2.9786e-06],\n",
       "         [1.2037e-07, 8.3680e-07, 3.3231e-06]]),\n",
       " 'Infected_sol': tensor([[4.0600e-06, 8.3245e-06, 2.1264e-05],\n",
       "         [4.3329e-06, 1.0234e-05, 2.9756e-05],\n",
       "         [4.0617e-06, 8.3326e-06, 2.1202e-05],\n",
       "         [4.2079e-06, 9.4591e-06, 2.6483e-05],\n",
       "         [4.3411e-06, 1.0376e-05, 3.0729e-05],\n",
       "         [3.9095e-06, 7.3632e-06, 1.7484e-05],\n",
       "         [4.0982e-06, 8.6197e-06, 2.2614e-05],\n",
       "         [4.1834e-06, 9.2845e-06, 2.5682e-05],\n",
       "         [4.1857e-06, 9.2795e-06, 2.5666e-05],\n",
       "         [4.2902e-06, 9.9301e-06, 2.8151e-05]]),\n",
       " 'Recognized_sol': tensor([[7.7973e-08, 1.1100e-06, 5.9771e-06],\n",
       "         [8.0464e-08, 1.0977e-06, 6.3351e-06],\n",
       "         [8.1408e-08, 1.1972e-06, 6.4212e-06],\n",
       "         [7.6738e-08, 1.1678e-06, 6.5344e-06],\n",
       "         [7.5281e-08, 1.0293e-06, 5.9953e-06],\n",
       "         [8.0023e-08, 1.2329e-06, 6.3832e-06],\n",
       "         [8.3147e-08, 1.2051e-06, 6.5625e-06],\n",
       "         [8.2696e-08, 1.1830e-06, 6.4605e-06],\n",
       "         [7.9152e-08, 1.0943e-06, 6.0189e-06],\n",
       "         [7.7299e-08, 1.1253e-06, 6.3493e-06]]),\n",
       " 'Susceptible_sol': tensor([[1.0000, 1.0000, 1.0000],\n",
       "         [1.0000, 1.0000, 0.9999],\n",
       "         [1.0000, 1.0000, 1.0000],\n",
       "         [1.0000, 1.0000, 1.0000],\n",
       "         [1.0000, 1.0000, 0.9999],\n",
       "         [1.0000, 1.0000, 1.0000],\n",
       "         [1.0000, 1.0000, 1.0000],\n",
       "         [1.0000, 1.0000, 1.0000],\n",
       "         [1.0000, 1.0000, 1.0000],\n",
       "         [1.0000, 1.0000, 0.9999]]),\n",
       " 'Threatened_sol': tensor([[1.2087e-09, 3.6278e-08, 3.2376e-07],\n",
       "         [1.1801e-09, 3.7812e-08, 3.4216e-07],\n",
       "         [1.1202e-09, 3.8380e-08, 3.2713e-07],\n",
       "         [1.1100e-09, 3.8677e-08, 3.4003e-07],\n",
       "         [1.0919e-09, 3.6654e-08, 3.2097e-07],\n",
       "         [1.2396e-09, 4.0489e-08, 3.5635e-07],\n",
       "         [1.2044e-09, 3.7735e-08, 3.4424e-07],\n",
       "         [1.2537e-09, 4.2929e-08, 3.7524e-07],\n",
       "         [1.2449e-09, 3.7105e-08, 3.3618e-07],\n",
       "         [1.1733e-09, 3.6413e-08, 3.2599e-07]])}"
      ]
     },
     "execution_count": 6,
     "metadata": {},
     "output_type": "execute_result"
    }
   ],
   "source": [
    "# Sample from the Ensemble\n",
    "\n",
    "timepoints = [1.0, 5.0, 10.0]\n",
    "num_samples = 10\n",
    "# ensemble_solution = sample(ensemble.models[0], timepoints, num_samples)\n",
    "ensemble_solution = sample(ensemble, timepoints, num_samples, method=\"euler\")\n",
    "ensemble_solution\n"
   ]
  },
  {
   "attachments": {},
   "cell_type": "markdown",
   "metadata": {},
   "source": [
    "## MIRA Explorations below"
   ]
  },
  {
   "cell_type": "code",
   "execution_count": 3,
   "metadata": {},
   "outputs": [],
   "source": [
    "filename2 = \"BIOMD0000000960_template_model.json\"\n",
    "filename2 = os.path.join(MIRA_PATH, filename2)\n",
    "# model2 = MiraPetriNetODESystem.from_mira(filename2)\n",
    "# model2 = ScaledBetaNoisePetriNetODESystem.from_mira(filename2)\n",
    "# model2"
   ]
  },
  {
   "cell_type": "code",
   "execution_count": 23,
   "metadata": {},
   "outputs": [],
   "source": [
    "import json\n",
    "import mira\n",
    "\n",
    "# filename3 = \"BIOMD0000000983_template_model.json\"\n",
    "filename3 = \"BIOMD0000000955_template_model.json\"\n",
    "filename3 = os.path.join(MIRA_PATH, filename3)\n",
    "\n",
    "with open(filename3, \"r\") as f:\n",
    "    model_json3 = json.load(f)\n",
    "\n",
    "G = mira.metamodel.TemplateModel.from_json(model_json3)\n",
    "\n",
    "Q = mira.modeling.Model(G)\n",
    "# G = pyciemss.PetriNetODE.base.PetriNet.from_mira(filename3)\n",
    "\n",
    "# model3 = MiraPetriNetODESystem.from_mira(filename3)\n",
    "# model3 = ScaledBetaNoisePetriNetODESystem.from_mira(filename3)\n",
    "# model3"
   ]
  },
  {
   "cell_type": "code",
   "execution_count": 26,
   "metadata": {},
   "outputs": [
    {
     "data": {
      "text/plain": [
       "{'alpha': Parameter(name='alpha', identifiers={}, context={}, value=0.57, distribution=Distribution(type='StandardUniform1', parameters={'minimum': 0.45599999999999996, 'maximum': 0.6839999999999999})),\n",
       " 'beta': Parameter(name='beta', identifiers={}, context={}, value=0.011, distribution=Distribution(type='StandardUniform1', parameters={'minimum': 0.008799999999999999, 'maximum': 0.0132})),\n",
       " 'gamma': Parameter(name='gamma', identifiers={}, context={}, value=0.456, distribution=Distribution(type='StandardUniform1', parameters={'minimum': 0.3648, 'maximum': 0.5472})),\n",
       " 'delta': Parameter(name='delta', identifiers={}, context={}, value=0.011, distribution=Distribution(type='StandardUniform1', parameters={'minimum': 0.008799999999999999, 'maximum': 0.0132})),\n",
       " 'epsilon': Parameter(name='epsilon', identifiers={}, context={}, value=0.171, distribution=Distribution(type='StandardUniform1', parameters={'minimum': 0.1368, 'maximum': 0.20520000000000002})),\n",
       " 'theta': Parameter(name='theta', identifiers={}, context={}, value=0.371, distribution=Distribution(type='StandardUniform1', parameters={'minimum': 0.2968, 'maximum': 0.4452})),\n",
       " 'zeta': Parameter(name='zeta', identifiers={}, context={}, value=0.125, distribution=Distribution(type='StandardUniform1', parameters={'minimum': 0.1, 'maximum': 0.15})),\n",
       " 'eta': Parameter(name='eta', identifiers={}, context={}, value=0.125, distribution=Distribution(type='StandardUniform1', parameters={'minimum': 0.1, 'maximum': 0.15})),\n",
       " 'mu': Parameter(name='mu', identifiers={}, context={}, value=0.017, distribution=Distribution(type='StandardUniform1', parameters={'minimum': 0.013600000000000001, 'maximum': 0.0204})),\n",
       " 'nu': Parameter(name='nu', identifiers={}, context={}, value=0.027, distribution=Distribution(type='StandardUniform1', parameters={'minimum': 0.0216, 'maximum': 0.0324})),\n",
       " 'tau': Parameter(name='tau', identifiers={}, context={}, value=0.01, distribution=Distribution(type='StandardUniform1', parameters={'minimum': 0.008, 'maximum': 0.012})),\n",
       " 'kappa': Parameter(name='kappa', identifiers={}, context={}, value=0.017, distribution=Distribution(type='StandardUniform1', parameters={'minimum': 0.013600000000000001, 'maximum': 0.0204})),\n",
       " 'rho': Parameter(name='rho', identifiers={}, context={}, value=0.034, distribution=Distribution(type='StandardUniform1', parameters={'minimum': 0.027200000000000002, 'maximum': 0.0408})),\n",
       " 'sigma': Parameter(name='sigma', identifiers={}, context={}, value=0.017, distribution=Distribution(type='StandardUniform1', parameters={'minimum': 0.013600000000000001, 'maximum': 0.0204})),\n",
       " 'xi': Parameter(name='xi', identifiers={}, context={}, value=0.017, distribution=Distribution(type='StandardUniform1', parameters={'minimum': 0.013600000000000001, 'maximum': 0.0204})),\n",
       " 'epsilon_modifier': Parameter(name='epsilon_modifier', identifiers={}, context={}, value=1.0, distribution=Distribution(type='StandardUniform1', parameters={'minimum': 0.8, 'maximum': 1.2})),\n",
       " 'alpha_modifier': Parameter(name='alpha_modifier', identifiers={}, context={}, value=1.0, distribution=Distribution(type='StandardUniform1', parameters={'minimum': 0.8, 'maximum': 1.2})),\n",
       " 'XXlambdaXX': Parameter(name='XXlambdaXX', identifiers={}, context={}, value=0.034, distribution=Distribution(type='StandardUniform1', parameters={'minimum': 0.027200000000000002, 'maximum': 0.0408}))}"
      ]
     },
     "execution_count": 26,
     "metadata": {},
     "output_type": "execute_result"
    }
   ],
   "source": [
    "G.parameters"
   ]
  },
  {
   "cell_type": "code",
   "execution_count": 29,
   "metadata": {},
   "outputs": [
    {
     "data": {
      "text/plain": [
       "{'Susceptible': Initial(concept=Concept(name='Susceptible', identifiers={'ido': '0000514'}, context={}), value=0.9999963),\n",
       " 'Infected': Initial(concept=Concept(name='Infected', identifiers={'ido': '0000511'}, context={}), value=3.33333333e-06),\n",
       " 'Diagnosed': Initial(concept=Concept(name='Diagnosed', identifiers={'ido': '0000511'}, context={'diagnosis': 'ncit:C15220'}), value=3.33333333e-07),\n",
       " 'Ailing': Initial(concept=Concept(name='Ailing', identifiers={'ido': '0000511'}, context={'disease_severity': 'ncit:C25269', 'diagnosis': 'ncit:C113725'}), value=1.66666666e-08),\n",
       " 'Recognized': Initial(concept=Concept(name='Recognized', identifiers={'ido': '0000511'}, context={'diagnosis': 'ncit:C15220'}), value=3.33333333e-08),\n",
       " 'Threatened': Initial(concept=Concept(name='Threatened', identifiers={'ido': '0000511'}, context={'disease_severity': 'ncit:C25467'}), value=0.0),\n",
       " 'Healed': Initial(concept=Concept(name='Healed', identifiers={'ido': '0000592'}, context={}), value=0.0),\n",
       " 'Extinct': Initial(concept=Concept(name='Extinct', identifiers={'ncit': 'C28554'}, context={}), value=0.0)}"
      ]
     },
     "execution_count": 29,
     "metadata": {},
     "output_type": "execute_result"
    }
   ],
   "source": []
  },
  {
   "cell_type": "code",
   "execution_count": 5,
   "metadata": {},
   "outputs": [],
   "source": [
    "import json\n",
    "import mira\n",
    "\n",
    "filename3 = \"BIOMD0000000983_template_model.json\"\n",
    "filename3 = os.path.join(MIRA_PATH, filename3)\n",
    "\n",
    "with open(filename3, \"r\") as f:\n",
    "    model_json3 = json.load(f)\n",
    "\n",
    "G = mira.metamodel.TemplateModel.from_json(model_json3)\n",
    "G.parameters['n']\n",
    "\n",
    "Q = mira.modeling.Model(G)"
   ]
  },
  {
   "cell_type": "code",
   "execution_count": 14,
   "metadata": {},
   "outputs": [
    {
     "data": {
      "text/plain": [
       "[ControlledConversion(rate_law=Infected_reported*Susceptible_unconfined*beta*n*(1.0 - sigma), type='ControlledConversion', controller=Concept(name='Infected_reported', identifiers={'ido': '0000511'}, context={'diagnosis': 'ncit:C15220'}), subject=Concept(name='Susceptible_unconfined', identifiers={'ido': '0000514'}, context={'quarantined': 'ncit:C68851'}), outcome=Concept(name='Exposed', identifiers={'apollosv': '00000154'}, context={}), provenance=[]),\n",
       " ControlledConversion(rate_law=Infected_unreported*Susceptible_unconfined*beta*(1.0 - sigma), type='ControlledConversion', controller=Concept(name='Infected_unreported', identifiers={'ido': '0000511'}, context={'diagnosed': 'ncit:C113725'}), subject=Concept(name='Susceptible_unconfined', identifiers={'ido': '0000514'}, context={'quarantined': 'ncit:C68851'}), outcome=Concept(name='Exposed', identifiers={'apollosv': '00000154'}, context={}), provenance=[]),\n",
       " ControlledConversion(rate_law=Infected_reported*Susceptible_unconfined*beta*n*sigma, type='ControlledConversion', controller=Concept(name='Infected_reported', identifiers={'ido': '0000511'}, context={'diagnosis': 'ncit:C15220'}), subject=Concept(name='Susceptible_unconfined', identifiers={'ido': '0000514'}, context={'quarantined': 'ncit:C68851'}), outcome=Concept(name='Quarantined', identifiers={'ido': '0000514'}, context={'quarantined': 'ncit:C71902'}), provenance=[]),\n",
       " ControlledConversion(rate_law=Infected_unreported*Susceptible_unconfined*beta*sigma, type='ControlledConversion', controller=Concept(name='Infected_unreported', identifiers={'ido': '0000511'}, context={'diagnosed': 'ncit:C113725'}), subject=Concept(name='Susceptible_unconfined', identifiers={'ido': '0000514'}, context={'quarantined': 'ncit:C68851'}), outcome=Concept(name='Quarantined', identifiers={'ido': '0000514'}, context={'quarantined': 'ncit:C71902'}), provenance=[]),\n",
       " NaturalConversion(rate_law=Quarantined*XXlambdaXX*theta, type='NaturalConversion', subject=Concept(name='Quarantined', identifiers={'ido': '0000514'}, context={'quarantined': 'ncit:C71902'}), outcome=Concept(name='Infected_reported', identifiers={'ido': '0000511'}, context={'diagnosis': 'ncit:C15220'}), provenance=[]),\n",
       " NaturalConversion(rate_law=Exposed*f*mu, type='NaturalConversion', subject=Concept(name='Exposed', identifiers={'apollosv': '00000154'}, context={}), outcome=Concept(name='Infected_reported', identifiers={'ido': '0000511'}, context={'diagnosis': 'ncit:C15220'}), provenance=[]),\n",
       " NaturalConversion(rate_law=Exposed*mu*(1.0 - f), type='NaturalConversion', subject=Concept(name='Exposed', identifiers={'apollosv': '00000154'}, context={}), outcome=Concept(name='Infected_unreported', identifiers={'ido': '0000511'}, context={'diagnosed': 'ncit:C113725'}), provenance=[]),\n",
       " NaturalConversion(rate_law=Infected_reported*eta_r, type='NaturalConversion', subject=Concept(name='Infected_reported', identifiers={'ido': '0000511'}, context={'diagnosis': 'ncit:C15220'}), outcome=Concept(name='Recovered', identifiers={'ido': '0000592'}, context={}), provenance=[]),\n",
       " NaturalConversion(rate_law=Infected_unreported*eta_u, type='NaturalConversion', subject=Concept(name='Infected_unreported', identifiers={'ido': '0000511'}, context={'diagnosed': 'ncit:C113725'}), outcome=Concept(name='Recovered', identifiers={'ido': '0000592'}, context={}), provenance=[]),\n",
       " NaturalConversion(rate_law=XXlambdaXX*theta*(1.0 - Quarantined), type='NaturalConversion', subject=Concept(name='Quarantined', identifiers={'ido': '0000514'}, context={'quarantined': 'ncit:C71902'}), outcome=Concept(name='Susceptible_unconfined', identifiers={'ido': '0000514'}, context={'quarantined': 'ncit:C68851'}), provenance=[]),\n",
       " NaturalConversion(rate_law=Infected_reported*eta_r*(1 - q), type='NaturalConversion', subject=Concept(name='Infected_reported', identifiers={'ido': '0000511'}, context={'diagnosis': 'ncit:C15220'}), outcome=Concept(name='Deceased', identifiers={'ncit': 'C28554'}, context={}), provenance=[])]"
      ]
     },
     "execution_count": 14,
     "metadata": {},
     "output_type": "execute_result"
    }
   ],
   "source": [
    "dir(G)\n",
    "# G.initials\n",
    "G.templates\n"
   ]
  },
  {
   "cell_type": "code",
   "execution_count": 14,
   "metadata": {},
   "outputs": [
    {
     "name": "stdout",
     "output_type": "stream",
     "text": [
      "beta 2.115e-08\n",
      "sigma 0.2\n",
      "n 0.5\n",
      "(('Susceptible_unconfined', ('identity', 'ido:0000514'), ('quarantined', 'ncit:C68851')), ('Exposed', ('identity', 'apollosv:00000154')), ('Infected_reported', ('identity', 'ido:0000511'), ('diagnosis', 'ncit:C15220')), 'ControlledConversion', 'rate') None\n",
      "(('Susceptible_unconfined', ('identity', 'ido:0000514'), ('quarantined', 'ncit:C68851')), ('Exposed', ('identity', 'apollosv:00000154')), ('Infected_unreported', ('identity', 'ido:0000511'), ('diagnosed', 'ncit:C113725')), 'ControlledConversion', 'rate') None\n",
      "(('Susceptible_unconfined', ('identity', 'ido:0000514'), ('quarantined', 'ncit:C68851')), ('Quarantined', ('identity', 'ido:0000514'), ('quarantined', 'ncit:C71902')), ('Infected_reported', ('identity', 'ido:0000511'), ('diagnosis', 'ncit:C15220')), 'ControlledConversion', 'rate') None\n",
      "(('Susceptible_unconfined', ('identity', 'ido:0000514'), ('quarantined', 'ncit:C68851')), ('Quarantined', ('identity', 'ido:0000514'), ('quarantined', 'ncit:C71902')), ('Infected_unreported', ('identity', 'ido:0000511'), ('diagnosed', 'ncit:C113725')), 'ControlledConversion', 'rate') None\n",
      "XXlambdaXX 0.3\n",
      "theta 0.07142857\n",
      "(('Quarantined', ('identity', 'ido:0000514'), ('quarantined', 'ncit:C71902')), ('Infected_reported', ('identity', 'ido:0000511'), ('diagnosis', 'ncit:C15220')), 'NaturalConversion', 'rate') None\n",
      "mu 0.2\n",
      "f 0.2\n",
      "(('Exposed', ('identity', 'apollosv:00000154')), ('Infected_reported', ('identity', 'ido:0000511'), ('diagnosis', 'ncit:C15220')), 'NaturalConversion', 'rate') None\n",
      "(('Exposed', ('identity', 'apollosv:00000154')), ('Infected_unreported', ('identity', 'ido:0000511'), ('diagnosed', 'ncit:C113725')), 'NaturalConversion', 'rate') None\n",
      "eta_r 0.1\n",
      "eta_u 0.25\n",
      "(('Quarantined', ('identity', 'ido:0000514'), ('quarantined', 'ncit:C71902')), ('Susceptible_unconfined', ('identity', 'ido:0000514'), ('quarantined', 'ncit:C68851')), 'NaturalConversion', 'rate') None\n",
      "q 0.83\n",
      "(('Infected_reported', ('identity', 'ido:0000511'), ('diagnosis', 'ncit:C15220')), ('Deceased', ('identity', 'ncit:C28554')), 'NaturalConversion', 'rate') None\n"
     ]
    }
   ],
   "source": [
    "for p, v in Q.parameters.items():\n",
    "    print(p, v.value)\n",
    "    "
   ]
  },
  {
   "cell_type": "code",
   "execution_count": null,
   "metadata": {},
   "outputs": [],
   "source": []
  }
 ],
 "metadata": {
  "kernelspec": {
   "display_name": "askem-test",
   "language": "python",
   "name": "python3"
  },
  "language_info": {
   "codemirror_mode": {
    "name": "ipython",
    "version": 3
   },
   "file_extension": ".py",
   "mimetype": "text/x-python",
   "name": "python",
   "nbconvert_exporter": "python",
   "pygments_lexer": "ipython3",
   "version": "3.10.0"
  },
  "orig_nbformat": 4
 },
 "nbformat": 4,
 "nbformat_minor": 2
}
