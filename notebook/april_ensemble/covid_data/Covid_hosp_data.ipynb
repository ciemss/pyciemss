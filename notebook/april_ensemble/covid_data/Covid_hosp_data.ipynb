{
 "cells": [
  {
   "cell_type": "code",
   "execution_count": null,
   "id": "43b5eadd-87b9-4a36-b427-a0f3da642d70",
   "metadata": {},
   "outputs": [],
   "source": [
    "import pandas as pd\n",
    "import numpy as np"
   ]
  },
  {
   "cell_type": "markdown",
   "id": "89d5e28a-2581-4c2a-9143-c69c3a2a7671",
   "metadata": {},
   "source": [
    "# Get data-truth from Covid-19 forecast hub"
   ]
  },
  {
   "cell_type": "markdown",
   "id": "6db143bc-bb04-4aa0-9e96-cd4c481bdc10",
   "metadata": {},
   "source": [
    "## Get incident case data"
   ]
  },
  {
   "cell_type": "code",
   "execution_count": null,
   "id": "8fc31701-dbb4-452a-9d04-760581a65739",
   "metadata": {},
   "outputs": [],
   "source": [
    "url = 'https://media.githubusercontent.com/media/reichlab/covid19-forecast-hub/master/data-truth/truth-Incident%20Cases.csv'\n",
    "raw_cases = pd.read_csv(url)\n",
    "#raw_cases"
   ]
  },
  {
   "cell_type": "markdown",
   "id": "f3012260-ce6c-431d-be8c-117f131be5dc",
   "metadata": {},
   "source": [
    "## Get incident hospitalization data"
   ]
  },
  {
   "cell_type": "code",
   "execution_count": null,
   "id": "bbb17333-c867-4c5f-ba1f-20bcbba9bce9",
   "metadata": {},
   "outputs": [],
   "source": [
    "url = 'https://media.githubusercontent.com/media/reichlab/covid19-forecast-hub/master/data-truth/truth-Incident%20Hospitalizations.csv'\n",
    "raw_hosp = pd.read_csv(url)\n",
    "#raw_hosp"
   ]
  },
  {
   "cell_type": "markdown",
   "id": "1d18311c-3cd0-4cd2-a36b-0408faa222e4",
   "metadata": {},
   "source": [
    "## Get cumulative death data"
   ]
  },
  {
   "cell_type": "code",
   "execution_count": null,
   "id": "f5c35c96-176c-419d-87d7-e35a0557775a",
   "metadata": {},
   "outputs": [],
   "source": [
    "url = 'https://media.githubusercontent.com/media/reichlab/covid19-forecast-hub/master/data-truth/truth-Cumulative%20Deaths.csv'\n",
    "raw_deaths = pd.read_csv(url)\n",
    "raw_deaths"
   ]
  },
  {
   "cell_type": "code",
   "execution_count": null,
   "id": "2871348d",
   "metadata": {},
   "outputs": [],
   "source": [
    "raw_cases['date'] = pd.to_datetime(raw_cases.date, infer_datetime_format = True)\n",
    "raw_cases.sort_values(by = 'date', ascending = True, inplace = True)\n",
    "display(raw_cases.head())\n",
    "\n",
    "raw_hosp['date'] = pd.to_datetime(raw_hosp.date, infer_datetime_format = True)\n",
    "raw_hosp.sort_values(by = 'date', ascending = True, inplace = True)\n",
    "display(raw_hosp.head())\n",
    "\n",
    "raw_deaths['date'] = pd.to_datetime(raw_deaths.date, infer_datetime_format = True)\n",
    "raw_deaths.sort_values(by = 'date', ascending = True, inplace = True)\n",
    "display(raw_deaths.head())"
   ]
  },
  {
   "cell_type": "code",
   "execution_count": null,
   "id": "5eb646c4",
   "metadata": {},
   "outputs": [],
   "source": [
    "raw_hosp.date[1]"
   ]
  },
  {
   "cell_type": "markdown",
   "id": "c671ccd8-415d-420b-8d5b-74014d0994f8",
   "metadata": {},
   "source": [
    "# Process US hospitalizations, deaths and cases"
   ]
  },
  {
   "cell_type": "markdown",
   "id": "9d904eaf-5850-4fc1-9d5c-29263263e8ca",
   "metadata": {},
   "source": [
    "## Incident to census function"
   ]
  },
  {
   "cell_type": "code",
   "execution_count": null,
   "id": "464bc244-3f00-4207-b5ec-53da8e9bc851",
   "metadata": {},
   "outputs": [],
   "source": [
    "def incident_to_census(data, duration):\n",
    "    '''This function converts incident data to census data.\n",
    "    \n",
    "    :param data: data must be a DataFrame with a census and value column, where value column corresponds to incident data\n",
    "    :param duration: this is the length of time before leaving state variable category\n",
    "    :returns: DataFrame with census column filled out\n",
    "    '''\n",
    "    for i in range(0, len(data.index) - duration):\n",
    "        for j in range(0, duration + 1):\n",
    "            data.census[i + j] += data.value[i]\n",
    "            \n",
    "        data.census[i + duration] -= data.value[i]\n",
    "\n",
    "    for i in range(len(data.index) - duration, len(data.index)):\n",
    "        rows_left = len(data.index) - i\n",
    "        for j in range(0, rows_left):\n",
    "            data.census[i + j] += data.value[i]\n",
    "        \n",
    "    return data"
   ]
  },
  {
   "cell_type": "markdown",
   "id": "4ece77a6-8b76-4620-ab57-5f3a647181f5",
   "metadata": {},
   "source": [
    "## Convert US case incident to census data"
   ]
  },
  {
   "cell_type": "code",
   "execution_count": null,
   "id": "607649f6",
   "metadata": {},
   "outputs": [],
   "source": [
    "us_cases1 = raw_cases[raw_cases[\"location\"] == \"US\"]\n",
    "us_cases1\n",
    "us_cases = us_cases1\n",
    "infectious_period = 10\n",
    "us_cases[\"infectious_period\"] = infectious_period\n",
    "us_cases[\"census\"] = 0\n",
    "us_cases = us_cases.reset_index()\n",
    "us_cases\n",
    "\n",
    "cases_census = incident_to_census(us_cases, infectious_period)"
   ]
  },
  {
   "cell_type": "code",
   "execution_count": null,
   "id": "769f9efe",
   "metadata": {},
   "outputs": [],
   "source": [
    "from IPython.display import HTML \n",
    "HTML(cases_census.to_html())"
   ]
  },
  {
   "cell_type": "markdown",
   "id": "c0ab246f",
   "metadata": {},
   "source": [
    "## Convert US hospital incident to census data "
   ]
  },
  {
   "cell_type": "code",
   "execution_count": null,
   "id": "6fdccec8",
   "metadata": {},
   "outputs": [],
   "source": [
    "us_hosp1 = raw_hosp[raw_hosp[\"location\"] == \"US\"]\n",
    "us_hosp1\n",
    "us_hosp = us_hosp1\n",
    "length_of_stay = 6\n",
    "us_hosp[\"length_of_stay\"] = length_of_stay\n",
    "us_hosp[\"census\"] = 0\n",
    "us_hosp = us_hosp.reset_index()\n",
    "us_hosp\n",
    "mo_hosp = us_hosp.copy()\n",
    "mo_hosp[\"value\"] = 1\n",
    "\n",
    "hosp_census = incident_to_census(us_hosp, length_of_stay)"
   ]
  },
  {
   "cell_type": "code",
   "execution_count": null,
   "id": "e409c922",
   "metadata": {},
   "outputs": [],
   "source": [
    "from IPython.display import HTML \n",
    "HTML(hosp_census.to_html())"
   ]
  },
  {
   "cell_type": "markdown",
   "id": "0788e2d8-31df-4735-a5d6-11681de0e67b",
   "metadata": {},
   "source": [
    "## Extract US cumulative deaths"
   ]
  },
  {
   "cell_type": "code",
   "execution_count": null,
   "id": "0a9d1684",
   "metadata": {},
   "outputs": [],
   "source": [
    "us_deaths = raw_deaths[raw_deaths[\"location\"] == \"US\"]\n",
    "us_deaths"
   ]
  },
  {
   "cell_type": "markdown",
   "id": "172d5ea9-a257-4648-acff-9ba8160e3bc3",
   "metadata": {},
   "source": [
    "## Export hospitalization, cases, and deaths individually"
   ]
  },
  {
   "cell_type": "code",
   "execution_count": null,
   "id": "30181e19",
   "metadata": {},
   "outputs": [],
   "source": [
    "us_hosp.to_csv('us_hospitalization_census_and_incident_data.csv', columns=[\"date\", \"location\", \"length_of_stay\", \"value\", \"census\"], \n",
    "              header=[\"date\", \"location\", \"length_of_stay\", \"admissions\", \"hospital_census\"])"
   ]
  },
  {
   "cell_type": "code",
   "execution_count": null,
   "id": "4e95bbb4",
   "metadata": {},
   "outputs": [],
   "source": [
    "us_cases.to_csv('us_case_census_and_incident_data.csv', columns=[\"date\", \"location\", \"infectious_period\", \"value\", \"census\"], \n",
    "              header=[\"date\", \"location\", \"infectious_period\", \"new_cases\", \"case_census\"])"
   ]
  },
  {
   "cell_type": "code",
   "execution_count": null,
   "id": "d99f7fb6",
   "metadata": {},
   "outputs": [],
   "source": [
    "us_deaths.to_csv('us_cumulative_death_data.csv', columns=[\"date\", \"location\", \"value\"], \n",
    "              header=[\"date\", \"location\", \"cumulative_deaths\"])"
   ]
  },
  {
   "cell_type": "markdown",
   "id": "2eddaf75-6d66-4992-a4ec-4a3a4c1e9ea8",
   "metadata": {},
   "source": [
    "# Combine US cases, hospitalizations, and deaths into one dataframe and export"
   ]
  },
  {
   "cell_type": "code",
   "execution_count": null,
   "id": "4f76a960-a80c-4173-80dc-c82038182f84",
   "metadata": {},
   "outputs": [],
   "source": [
    "import os\n",
    "import pandas as pd\n",
    "DATA_PATH = \".\"\n",
    "\n",
    "cases_data_fname = \"us_case_census_and_incident_data.csv\"\n",
    "cases_data_fname = os.path.join(DATA_PATH, cases_data_fname)\n",
    "cases_df = pd.read_csv(cases_data_fname, index_col=0).set_index(\"date\")\n",
    "display(cases_df.head())\n",
    "\n",
    "hospital_data_fname = \"us_hospitalization_census_and_incident_data.csv\"\n",
    "hospital_data_fname = os.path.join(DATA_PATH, hospital_data_fname)\n",
    "hospital_df = pd.read_csv(hospital_data_fname, index_col=0).set_index(\"date\")\n",
    "display(hospital_df.head())\n",
    "\n",
    "death_data_fname = \"us_cumulative_death_data.csv\"\n",
    "death_data_fname = os.path.join(DATA_PATH, death_data_fname)\n",
    "death_df = pd.read_csv(death_data_fname, index_col=0).set_index(\"date\")\n",
    "display(death_df.head())\n",
    "\n",
    "keep_cols = [\"case_census\", \"cumulative_deaths\", \"hospital_census\"]\n",
    "\n",
    "obs_df = pd.merge(cases_df, death_df, how=\"inner\", left_index=True, right_index=True)\n",
    "obs_df = pd.merge(obs_df, hospital_df, how=\"left\", left_index=True, right_index=True)\n",
    "obs_df[keep_cols].to_csv(\"US_case_hospital_death.csv\")\n",
    "\n",
    "obs_df[keep_cols]\n"
   ]
  },
  {
   "cell_type": "code",
   "execution_count": null,
   "id": "786f7b56",
   "metadata": {},
   "outputs": [],
   "source": []
  }
 ],
 "metadata": {
  "kernelspec": {
   "display_name": "sa_covid_data",
   "language": "python",
   "name": "sa_covid_data"
  },
  "language_info": {
   "codemirror_mode": {
    "name": "ipython",
    "version": 3
   },
   "file_extension": ".py",
   "mimetype": "text/x-python",
   "name": "python",
   "nbconvert_exporter": "python",
   "pygments_lexer": "ipython3",
   "version": "3.10.9"
  }
 },
 "nbformat": 4,
 "nbformat_minor": 5
}
