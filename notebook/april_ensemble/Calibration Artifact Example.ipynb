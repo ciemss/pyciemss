{
 "cells": [
  {
   "cell_type": "code",
   "execution_count": 1,
   "metadata": {},
   "outputs": [],
   "source": [
    "import pyro\n",
    "import dill\n",
    "import os"
   ]
  },
  {
   "cell_type": "code",
   "execution_count": 2,
   "metadata": {},
   "outputs": [
    {
     "name": "stdout",
     "output_type": "stream",
     "text": [
      "Loaded inferred parameters from file.\n"
     ]
    }
   ],
   "source": [
    "# Load saved parameters\n",
    "\n",
    "save_path = \"./saved_guides/\"\n",
    "\n",
    "with open(os.path.join(save_path, \"inferred_parameters2.pkl\"), \"rb\") as f:\n",
    "    inferred_parameters = dill.load(f)\n",
    "print(\"Loaded inferred parameters from file.\")"
   ]
  },
  {
   "cell_type": "code",
   "execution_count": 3,
   "metadata": {},
   "outputs": [
    {
     "data": {
      "text/plain": [
       "[('loc',\n",
       "  Parameter containing:\n",
       "  tensor([-0.3419, -1.8542, -0.9878, -1.0106,  1.2021,  1.2849,  2.2740, -1.5860,\n",
       "           1.9740,  1.5441,  0.9700, -0.0286, -2.1124,  1.3206,  1.6324,  1.6865,\n",
       "           0.2351,  0.1138,  0.2430,  0.1416, -0.1850, -0.0614, -0.3492,  0.0622,\n",
       "          -0.1692,  0.8840,  0.0276, -0.5106, -0.1815, -0.0883,  0.0168, -0.1803,\n",
       "           0.2660, -0.1332,  0.1727,  0.1170,  0.1163,  0.0087,  0.0054, -1.7854,\n",
       "           1.9843], requires_grad=True)),\n",
       " ('scale_unconstrained',\n",
       "  Parameter containing:\n",
       "  tensor([ 0.3795, -0.5289,  0.3884, -1.6352, -1.0087,  0.3064, -0.0165, -0.0054,\n",
       "           0.0226, -0.1191,  0.2943,  0.3943, -0.9570, -0.8787,  0.1069, -0.7997,\n",
       "           0.4267,  0.4204,  0.4664,  0.4563,  0.4117,  0.4294,  0.4210,  0.4147,\n",
       "           0.4345,  0.2505,  0.3819,  0.4337,  0.4461,  0.3777,  0.4550,  0.4119,\n",
       "           0.4483,  0.4159,  0.4482,  0.4427,  0.4390,  0.3692,  0.4392, -2.2280,\n",
       "          -0.0145], requires_grad=True))]"
      ]
     },
     "execution_count": 3,
     "metadata": {},
     "output_type": "execute_result"
    }
   ],
   "source": [
    "[*inferred_parameters.named_parameters()]"
   ]
  }
 ],
 "metadata": {
  "kernelspec": {
   "display_name": "CIEMSS_ENV",
   "language": "python",
   "name": "python3"
  },
  "language_info": {
   "codemirror_mode": {
    "name": "ipython",
    "version": 3
   },
   "file_extension": ".py",
   "mimetype": "text/x-python",
   "name": "python",
   "nbconvert_exporter": "python",
   "pygments_lexer": "ipython3",
   "version": "3.11.4"
  }
 },
 "nbformat": 4,
 "nbformat_minor": 4
}
