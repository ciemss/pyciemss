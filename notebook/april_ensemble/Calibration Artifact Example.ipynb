{
 "cells": [
  {
   "cell_type": "code",
   "execution_count": 7,
   "metadata": {},
   "outputs": [],
   "source": [
    "import pyro\n",
    "import dill\n",
    "import os\n",
    "from pathlib import Path\n",
    "import pandas as pd\n",
    "import numpy as np\n",
    "\n",
    "from pyciemss.PetriNetODE.interfaces import load_petri_model\n",
    "from pyciemss.Ensemble.interfaces import setup_model, sample, calibrate\n",
    "from pyciemss.utils.interface_utils import convert_to_output_format"
   ]
  },
  {
   "cell_type": "code",
   "execution_count": 8,
   "metadata": {},
   "outputs": [],
   "source": [
    "DATA_PATH = Path(\".\")/\"covid_data\"\n",
    "data_filename = DATA_PATH / \"US_case_hospital_death.csv\"\n",
    "data = pd.read_csv(data_filename)\n",
    "\n",
    "# Clip off the first 2 months of data\n",
    "data_total_population = 331893745\n",
    "train_start_date = \"2021-12-01\"\n",
    "test_start_date = \"2022-03-01\"\n",
    "test_end_date = \"2022-04-01\"\n"
   ]
  },
  {
   "cell_type": "code",
   "execution_count": 21,
   "metadata": {},
   "outputs": [],
   "source": [
    "def get_train_test_data(data: pd.DataFrame, train_start_date: str, test_start_date: str, test_end_date: str) -> pd.DataFrame:\n",
    "    train_df = data[(data['date'] >= train_start_date) & (data['date'] < test_start_date)]\n",
    "    train_data = [0] * train_df.shape[0]\n",
    "    start_time = train_df.index[0]\n",
    "\n",
    "    train_cases = np.array(train_df[\"case_census\"].astype(\"float\")) / data_total_population\n",
    "    train_timepoints = np.array(train_df.index.astype(\"float\"))\n",
    "\n",
    "    test_df = data[(data['date'] >= test_start_date) & (data['date'] < test_end_date)]\n",
    "    test_cases = np.array(test_df[\"case_census\"].astype(\"float\")) / data_total_population\n",
    "    test_timepoints = np.array(test_df.index.astype(\"float\"))\n",
    "\n",
    "    for time, row in train_df.iterrows():\n",
    "        row_dict = {}\n",
    "        row_dict[\"Cases\"] = row[\"case_census\"] / data_total_population\n",
    "        row_dict[\"Dead\"] = row[\"cumulative_deaths\"] / data_total_population\n",
    "        if row[\"hospital_census\"] > 0:\n",
    "            row_dict[\"Hospitalizations\"] = row[\"hospital_census\"] / data_total_population\n",
    "\n",
    "        index = time - start_time\n",
    "        train_data[index] = (float(time), row_dict)\n",
    "    \n",
    "    all_timepoints = np.concatenate((train_timepoints, test_timepoints))\n",
    "\n",
    "    return train_data, train_cases, train_timepoints, test_cases, test_timepoints, all_timepoints\n",
    "\n",
    "train_data, train_cases, train_timepoints, test_cases, test_timepoints, all_timepoints = get_train_test_data(data, train_start_date, test_start_date, test_end_date)"
   ]
  },
  {
   "cell_type": "markdown",
   "metadata": {},
   "source": [
    "### Setup Models"
   ]
  },
  {
   "cell_type": "code",
   "execution_count": 9,
   "metadata": {},
   "outputs": [],
   "source": [
    "MIRA_PATH = Path(\"..\")/\"..\"/\"test\"/\"models\"/\"april_ensemble_demo\""
   ]
  },
  {
   "cell_type": "code",
   "execution_count": 16,
   "metadata": {},
   "outputs": [],
   "source": [
    "filename1 = MIRA_PATH/\"BIOMD0000000955_template_model.json\"\n",
    "model1 = load_petri_model(str(filename1), add_uncertainty=True)\n",
    "\n",
    "def create_start_state1(data, start_date):\n",
    "    start_state = data.set_index('date').loc[start_date].to_dict()\n",
    "\n",
    "    returned_state = {}\n",
    "    returned_state[\"Extinct\"] = start_state['cumulative_deaths']\n",
    "    \n",
    "    if np.isnan(start_state['hospital_census']):\n",
    "        returned_state[\"Threatened\"] = start_state['case_census'] / 100\n",
    "    else:\n",
    "        returned_state[\"Threatened\"] = start_state['hospital_census']\n",
    "\n",
    "    returned_state[\"Diagnosed\"] = start_state['case_census'] / 2\n",
    "    returned_state[\"Recognized\"] = start_state['case_census'] / 2\n",
    "    returned_state['Infected'] = start_state['case_census'] * 5\n",
    "    returned_state['Ailing'] = returned_state[\"Threatened\"] * 50\n",
    "\n",
    "    returned_state['Healed'] = start_state['cumulative_deaths'] * 50\n",
    "    returned_state['Susceptible'] =  data_total_population - sum(returned_state.values())\n",
    "    assert(returned_state['Susceptible'] > 0)\n",
    "    return {k:v/data_total_population for k, v in returned_state.items()}\n",
    "\n",
    "start_state1 = create_start_state1(data, train_start_date)\n",
    "\n",
    "def solution_mapping1(model1_solution: dict) -> dict:\n",
    "    mapped_dict = {}\n",
    "    mapped_dict[\"Cases\"] = model1_solution[\"Diagnosed\"] + model1_solution[\"Recognized\"]\n",
    "    mapped_dict[\"Hospitalizations\"] = model1_solution[\"Threatened\"]\n",
    "    mapped_dict[\"Dead\"] = model1_solution[\"Extinct\"]\n",
    "    return mapped_dict"
   ]
  },
  {
   "cell_type": "code",
   "execution_count": 17,
   "metadata": {},
   "outputs": [
    {
     "name": "stderr",
     "output_type": "stream",
     "text": [
      "/Users/cott741/projects/ASKEM/pyciemss/src/pyciemss/PetriNetODE/base.py:342: UserWarning: Parameter (('Susceptible', ('identity', 'ido:0000514')), ('Exposed', ('identity', 'apollosv:00000154')), ('Infectious', ('identity', 'ido:0000511'), ('disease_severity', 'ncit:C25269'), ('hospitalization', 'ncit:C68851')), 'ControlledConversion', 'rate') has value None and will be set to Uniform(0, 1). This is likely to be an error.\n",
      "  warnings.warn(warnings_string)\n",
      "/Users/cott741/projects/ASKEM/pyciemss/src/pyciemss/PetriNetODE/base.py:342: UserWarning: Parameter (('Susceptible', ('identity', 'ido:0000514')), ('Exposed', ('identity', 'apollosv:00000154')), ('Asymptomatic', ('identity', 'ido:0000511'), ('disease_severity', 'ncit:C3833'), ('hospitalization', 'ncit:C68851')), 'ControlledConversion', 'rate') has value None and will be set to Uniform(0, 1). This is likely to be an error.\n",
      "  warnings.warn(warnings_string)\n",
      "/Users/cott741/projects/ASKEM/pyciemss/src/pyciemss/PetriNetODE/base.py:342: UserWarning: Parameter (('Susceptible', ('identity', 'ido:0000514')), ('Exposed', ('identity', 'apollosv:00000154')), ('Hospitalized', ('identity', 'ido:0000511'), ('disease_severity', 'ncit:C25269'), ('hospitalization', 'ncit:C25179')), 'ControlledConversion', 'rate') has value None and will be set to Uniform(0, 1). This is likely to be an error.\n",
      "  warnings.warn(warnings_string)\n",
      "/Users/cott741/projects/ASKEM/pyciemss/src/pyciemss/PetriNetODE/base.py:342: UserWarning: Parameter (('Exposed', ('identity', 'apollosv:00000154')), ('Infectious', ('identity', 'ido:0000511'), ('disease_severity', 'ncit:C25269'), ('hospitalization', 'ncit:C68851')), 'NaturalConversion', 'rate') has value None and will be set to Uniform(0, 1). This is likely to be an error.\n",
      "  warnings.warn(warnings_string)\n",
      "/Users/cott741/projects/ASKEM/pyciemss/src/pyciemss/PetriNetODE/base.py:342: UserWarning: Parameter (('Exposed', ('identity', 'apollosv:00000154')), ('Asymptomatic', ('identity', 'ido:0000511'), ('disease_severity', 'ncit:C3833'), ('hospitalization', 'ncit:C68851')), 'NaturalConversion', 'rate') has value None and will be set to Uniform(0, 1). This is likely to be an error.\n",
      "  warnings.warn(warnings_string)\n",
      "/Users/cott741/projects/ASKEM/pyciemss/src/pyciemss/PetriNetODE/base.py:346: UserWarning: Parameter delta_A has value 0.0 <= 0.0. This is likely to be an error.\n",
      "  warnings.warn(warnings_string)\n",
      "/Users/cott741/projects/ASKEM/pyciemss/src/pyciemss/PetriNetODE/base.py:342: UserWarning: Parameter (('Asymptomatic', ('identity', 'ido:0000511'), ('disease_severity', 'ncit:C3833'), ('hospitalization', 'ncit:C68851')), ('Recovered', ('identity', 'ido:0000592')), 'NaturalConversion', 'rate') has value None and will be set to Uniform(0, 1). This is likely to be an error.\n",
      "  warnings.warn(warnings_string)\n",
      "/Users/cott741/projects/ASKEM/pyciemss/src/pyciemss/PetriNetODE/base.py:342: UserWarning: Parameter (('Asymptomatic', ('identity', 'ido:0000511'), ('disease_severity', 'ncit:C3833'), ('hospitalization', 'ncit:C68851')), ('Deceased', ('identity', 'ncit:C28554')), 'NaturalConversion', 'rate') has value None and will be set to Uniform(0, 1). This is likely to be an error.\n",
      "  warnings.warn(warnings_string)\n"
     ]
    }
   ],
   "source": [
    "filename2 = MIRA_PATH/\"BIOMD0000000960_template_model.json\"\n",
    "model2 = load_petri_model(str(filename2), add_uncertainty=True)\n",
    "\n",
    "mira_start_state2 = {k[0]: v.data['initial_value'] for k, v in model2.G.variables.items()}\n",
    "model2_total_population = sum(mira_start_state2.values())\n",
    "\n",
    "def create_start_state2(data, start_date):\n",
    "    start_state = data.set_index('date').loc[start_date].to_dict()\n",
    "\n",
    "    returned_state = {}\n",
    "    returned_state[\"Deceased\"] = start_state['cumulative_deaths']\n",
    "    \n",
    "    if np.isnan(start_state['hospital_census']):\n",
    "        returned_state[\"Hospitalized\"] = start_state['case_census'] / 100\n",
    "    else:\n",
    "        returned_state[\"Hospitalized\"] = start_state['hospital_census']\n",
    "    \n",
    "    returned_state[\"Infectious\"] = start_state['case_census']\n",
    "\n",
    "    returned_state['Exposed'] = start_state['case_census'] * 10\n",
    "    returned_state['Asymptomatic'] = start_state['case_census'] * 5\n",
    "\n",
    "    returned_state['Recovered'] = start_state['cumulative_deaths'] * 10\n",
    "\n",
    "    returned_state['Susceptible'] =  data_total_population - sum(returned_state.values())\n",
    "    assert(returned_state['Susceptible'] > 0)\n",
    "    return {k:v*(model2_total_population/data_total_population) for k, v in returned_state.items()}\n",
    "\n",
    "start_state2 = create_start_state2(data, train_start_date)\n",
    "\n",
    "def solution_mapping2(model2_solution: dict) -> dict:\n",
    "    mapped_dict = {}\n",
    "    mapped_dict[\"Cases\"] = model2_solution[\"Infectious\"] / model2_total_population\n",
    "    mapped_dict[\"Hospitalizations\"] = model2_solution[\"Hospitalized\"] / model2_total_population\n",
    "    mapped_dict[\"Dead\"] = model2_solution[\"Deceased\"] / model2_total_population\n",
    "    return mapped_dict"
   ]
  },
  {
   "cell_type": "code",
   "execution_count": 18,
   "metadata": {},
   "outputs": [
    {
     "name": "stderr",
     "output_type": "stream",
     "text": [
      "/Users/cott741/projects/ASKEM/pyciemss/src/pyciemss/PetriNetODE/base.py:342: UserWarning: Parameter (('Susceptible_unconfined', ('identity', 'ido:0000514'), ('quarantined', 'ncit:C68851')), ('Exposed', ('identity', 'apollosv:00000154')), ('Infected_reported', ('identity', 'ido:0000511'), ('diagnosis', 'ncit:C15220')), 'ControlledConversion', 'rate') has value None and will be set to Uniform(0, 1). This is likely to be an error.\n",
      "  warnings.warn(warnings_string)\n",
      "/Users/cott741/projects/ASKEM/pyciemss/src/pyciemss/PetriNetODE/base.py:342: UserWarning: Parameter (('Susceptible_unconfined', ('identity', 'ido:0000514'), ('quarantined', 'ncit:C68851')), ('Exposed', ('identity', 'apollosv:00000154')), ('Infected_unreported', ('identity', 'ido:0000511'), ('diagnosed', 'ncit:C113725')), 'ControlledConversion', 'rate') has value None and will be set to Uniform(0, 1). This is likely to be an error.\n",
      "  warnings.warn(warnings_string)\n",
      "/Users/cott741/projects/ASKEM/pyciemss/src/pyciemss/PetriNetODE/base.py:342: UserWarning: Parameter (('Susceptible_unconfined', ('identity', 'ido:0000514'), ('quarantined', 'ncit:C68851')), ('Quarantined', ('identity', 'ido:0000514'), ('quarantined', 'ncit:C71902')), ('Infected_reported', ('identity', 'ido:0000511'), ('diagnosis', 'ncit:C15220')), 'ControlledConversion', 'rate') has value None and will be set to Uniform(0, 1). This is likely to be an error.\n",
      "  warnings.warn(warnings_string)\n",
      "/Users/cott741/projects/ASKEM/pyciemss/src/pyciemss/PetriNetODE/base.py:342: UserWarning: Parameter (('Susceptible_unconfined', ('identity', 'ido:0000514'), ('quarantined', 'ncit:C68851')), ('Quarantined', ('identity', 'ido:0000514'), ('quarantined', 'ncit:C71902')), ('Infected_unreported', ('identity', 'ido:0000511'), ('diagnosed', 'ncit:C113725')), 'ControlledConversion', 'rate') has value None and will be set to Uniform(0, 1). This is likely to be an error.\n",
      "  warnings.warn(warnings_string)\n",
      "/Users/cott741/projects/ASKEM/pyciemss/src/pyciemss/PetriNetODE/base.py:342: UserWarning: Parameter (('Quarantined', ('identity', 'ido:0000514'), ('quarantined', 'ncit:C71902')), ('Infected_reported', ('identity', 'ido:0000511'), ('diagnosis', 'ncit:C15220')), 'NaturalConversion', 'rate') has value None and will be set to Uniform(0, 1). This is likely to be an error.\n",
      "  warnings.warn(warnings_string)\n",
      "/Users/cott741/projects/ASKEM/pyciemss/src/pyciemss/PetriNetODE/base.py:342: UserWarning: Parameter (('Exposed', ('identity', 'apollosv:00000154')), ('Infected_reported', ('identity', 'ido:0000511'), ('diagnosis', 'ncit:C15220')), 'NaturalConversion', 'rate') has value None and will be set to Uniform(0, 1). This is likely to be an error.\n",
      "  warnings.warn(warnings_string)\n",
      "/Users/cott741/projects/ASKEM/pyciemss/src/pyciemss/PetriNetODE/base.py:342: UserWarning: Parameter (('Exposed', ('identity', 'apollosv:00000154')), ('Infected_unreported', ('identity', 'ido:0000511'), ('diagnosed', 'ncit:C113725')), 'NaturalConversion', 'rate') has value None and will be set to Uniform(0, 1). This is likely to be an error.\n",
      "  warnings.warn(warnings_string)\n",
      "/Users/cott741/projects/ASKEM/pyciemss/src/pyciemss/PetriNetODE/base.py:342: UserWarning: Parameter (('Quarantined', ('identity', 'ido:0000514'), ('quarantined', 'ncit:C71902')), ('Susceptible_unconfined', ('identity', 'ido:0000514'), ('quarantined', 'ncit:C68851')), 'NaturalConversion', 'rate') has value None and will be set to Uniform(0, 1). This is likely to be an error.\n",
      "  warnings.warn(warnings_string)\n",
      "/Users/cott741/projects/ASKEM/pyciemss/src/pyciemss/PetriNetODE/base.py:342: UserWarning: Parameter (('Infected_reported', ('identity', 'ido:0000511'), ('diagnosis', 'ncit:C15220')), ('Deceased', ('identity', 'ncit:C28554')), 'NaturalConversion', 'rate') has value None and will be set to Uniform(0, 1). This is likely to be an error.\n",
      "  warnings.warn(warnings_string)\n"
     ]
    }
   ],
   "source": [
    "filename3 = MIRA_PATH/\"BIOMD0000000983_template_model.json\"\n",
    "model3 = load_petri_model(str(filename3), add_uncertainty=True)\n",
    "\n",
    "mira_start_state3 = {k[0]: v.data['initial_value'] for k, v in model3.G.variables.items()}\n",
    "mira_start_state3['Deceased'] = 0.0\n",
    "\n",
    "model3_total_population = sum(mira_start_state3.values())\n",
    "h = 0.01\n",
    "\n",
    "def create_start_state3(data, start_date):\n",
    "    start_state = data.set_index('date').loc[start_date].to_dict()\n",
    "\n",
    "    returned_state = {}\n",
    "\n",
    "    if np.isnan(start_state['hospital_census']):\n",
    "        returned_state[\"Infected_unreported\"] = start_state['case_census'] / (100 * h)\n",
    "    else:\n",
    "        returned_state[\"Infected_unreported\"] = start_state['hospital_census']/h\n",
    "\n",
    "    returned_state[\"Infected_reported\"] = start_state['case_census']\n",
    "    returned_state[\"Deceased\"] = start_state['cumulative_deaths']\n",
    "    returned_state['Exposed'] = start_state['case_census'] * 10\n",
    "    returned_state['Recovered'] = start_state['cumulative_deaths'] * 5\n",
    "    returned_state['Quarantined'] = returned_state[\"Infected_reported\"] * 0.5\n",
    "\n",
    "    returned_state['Susceptible_unconfined'] =  data_total_population - sum(returned_state.values())\n",
    "    assert(returned_state['Susceptible_unconfined'] > 0)\n",
    "    return {k:v*(model3_total_population/data_total_population) for k, v in returned_state.items()}\n",
    "\n",
    "\n",
    "start_state3 = create_start_state3(data, train_start_date)\n",
    "\n",
    "def solution_mapping3(model3_solution: dict) -> dict:\n",
    "    mapped_dict = {}\n",
    "    # Ideally we would make better use of this distinction between \"reported\" and \"unreported\".\n",
    "    # However, as other models don't include this distinction, we must instead sum them together to make solution outputs comparable.\n",
    "    mapped_dict[\"Cases\"] = model3_solution[\"Infected_reported\"] / model3_total_population\n",
    "    mapped_dict[\"Hospitalizations\"] = (model3_solution[\"Infected_unreported\"] * h) / model3_total_population\n",
    "    mapped_dict[\"Dead\"] = (model3_solution[\"Deceased\"]) / model3_total_population\n",
    "    return mapped_dict\n",
    "\n"
   ]
  },
  {
   "cell_type": "markdown",
   "metadata": {},
   "source": [
    "### Setup Ensemble"
   ]
  },
  {
   "cell_type": "code",
   "execution_count": 22,
   "metadata": {},
   "outputs": [
    {
     "data": {
      "text/plain": [
       "Ensemble of 3 models. \n",
       "\n",
       " \tDirichlet Alpha: tensor([0.3333, 0.3333, 0.3333]). \n",
       "\n",
       " \tModels: [ScaledNormalNoisePetriNetODESystem(\n",
       "\tbeta = Uniform(low: 0.008799999952316284, high: 0.013199999928474426),\n",
       "\tgamma = Uniform(low: 0.36480000615119934, high: 0.5472000241279602),\n",
       "\tdelta = Uniform(low: 0.008799999952316284, high: 0.013199999928474426),\n",
       "\talpha = Uniform(low: 0.4560000002384186, high: 0.6840000152587891),\n",
       "\tepsilon = Uniform(low: 0.13680000603199005, high: 0.20520000159740448),\n",
       "\tzeta = Uniform(low: 0.10000000149011612, high: 0.15000000596046448),\n",
       "\tXXlambdaXX = Uniform(low: 0.0272000003606081, high: 0.040800001472234726),\n",
       "\teta = Uniform(low: 0.10000000149011612, high: 0.15000000596046448),\n",
       "\trho = Uniform(low: 0.0272000003606081, high: 0.040800001472234726),\n",
       "\ttheta = Uniform(low: 0.29679998755455017, high: 0.44519999623298645),\n",
       "\tkappa = Uniform(low: 0.01360000018030405, high: 0.020400000736117363),\n",
       "\tmu = Uniform(low: 0.01360000018030405, high: 0.020400000736117363),\n",
       "\tnu = Uniform(low: 0.02160000056028366, high: 0.03240000084042549),\n",
       "\txi = Uniform(low: 0.01360000018030405, high: 0.020400000736117363),\n",
       "\ttau = Uniform(low: 0.00800000037997961, high: 0.012000000104308128),\n",
       "\tsigma = Uniform(low: 0.01360000018030405, high: 0.020400000736117363),\n",
       "\tnoise_scale = 0.10000000149011612\n",
       "), ScaledNormalNoisePetriNetODESystem(\n",
       "\tTotal_pop_USA = Uniform(low: 262560000.0, high: 393840000.0),\n",
       "\tbeta_1_USA = Uniform(low: 0.24240000545978546, high: 0.3635999858379364),\n",
       "\t(('Susceptible', ('identity', 'ido:0000514')), ('Exposed', ('identity', 'apollosv:00000154')), ('Infectious', ('identity', 'ido:0000511'), ('disease_severity', 'ncit:C25269'), ('hospitalization', 'ncit:C68851')), 'ControlledConversion', 'rate') = Uniform(low: 0.0, high: 1.0),\n",
       "\tl_a_1_USA = Uniform(low: 3.2720000743865967, high: 4.9079999923706055),\n",
       "\t(('Susceptible', ('identity', 'ido:0000514')), ('Exposed', ('identity', 'apollosv:00000154')), ('Asymptomatic', ('identity', 'ido:0000511'), ('disease_severity', 'ncit:C3833'), ('hospitalization', 'ncit:C68851')), 'ControlledConversion', 'rate') = Uniform(low: 0.0, high: 1.0),\n",
       "\tl_1_USA = Uniform(low: 0.6808000206947327, high: 1.0211999416351318),\n",
       "\t(('Susceptible', ('identity', 'ido:0000514')), ('Exposed', ('identity', 'apollosv:00000154')), ('Hospitalized', ('identity', 'ido:0000511'), ('disease_severity', 'ncit:C25269'), ('hospitalization', 'ncit:C25179')), 'ControlledConversion', 'rate') = Uniform(low: 0.0, high: 1.0),\n",
       "\tkappa = Uniform(low: 0.35199999809265137, high: 0.527999997138977),\n",
       "\trho = Uniform(low: 0.042399998754262924, high: 0.06360000371932983),\n",
       "\t(('Exposed', ('identity', 'apollosv:00000154')), ('Infectious', ('identity', 'ido:0000511'), ('disease_severity', 'ncit:C25269'), ('hospitalization', 'ncit:C68851')), 'NaturalConversion', 'rate') = Uniform(low: 0.0, high: 1.0),\n",
       "\t(('Exposed', ('identity', 'apollosv:00000154')), ('Asymptomatic', ('identity', 'ido:0000511'), ('disease_severity', 'ncit:C3833'), ('hospitalization', 'ncit:C68851')), 'NaturalConversion', 'rate') = Uniform(low: 0.0, high: 1.0),\n",
       "\tgamma_a_USA = Uniform(low: 0.04399999976158142, high: 0.06599999964237213),\n",
       "\tgamma_i_USA = Uniform(low: 0.23680000007152557, high: 0.35519999265670776),\n",
       "\tdelta_I_USA = Uniform(low: 0.018400000408291817, high: 0.02759999968111515),\n",
       "\tdelta_A = 0.0,\n",
       "\tmu = Uniform(low: 1.312000036239624, high: 1.968000054359436),\n",
       "\t(('Asymptomatic', ('identity', 'ido:0000511'), ('disease_severity', 'ncit:C3833'), ('hospitalization', 'ncit:C68851')), ('Recovered', ('identity', 'ido:0000592')), 'NaturalConversion', 'rate') = Uniform(low: 0.0, high: 1.0),\n",
       "\t(('Asymptomatic', ('identity', 'ido:0000511'), ('disease_severity', 'ncit:C3833'), ('hospitalization', 'ncit:C68851')), ('Deceased', ('identity', 'ncit:C28554')), 'NaturalConversion', 'rate') = Uniform(low: 0.0, high: 1.0),\n",
       "\tdelta_H_USA = Uniform(low: 0.00023200000578071922, high: 0.0003480000013951212),\n",
       "\tgamma_r_USA = Uniform(low: 0.014399999752640724, high: 0.02160000056028366),\n",
       "\tnoise_scale = 0.10000000149011612\n",
       "), ScaledNormalNoisePetriNetODESystem(\n",
       "\tbeta = Uniform(low: 1.6919999623610238e-08, high: 2.5380000323593777e-08),\n",
       "\tn = Uniform(low: 0.4000000059604645, high: 0.6000000238418579),\n",
       "\tsigma = Uniform(low: 0.1599999964237213, high: 0.23999999463558197),\n",
       "\t(('Susceptible_unconfined', ('identity', 'ido:0000514'), ('quarantined', 'ncit:C68851')), ('Exposed', ('identity', 'apollosv:00000154')), ('Infected_reported', ('identity', 'ido:0000511'), ('diagnosis', 'ncit:C15220')), 'ControlledConversion', 'rate') = Uniform(low: 0.0, high: 1.0),\n",
       "\t(('Susceptible_unconfined', ('identity', 'ido:0000514'), ('quarantined', 'ncit:C68851')), ('Exposed', ('identity', 'apollosv:00000154')), ('Infected_unreported', ('identity', 'ido:0000511'), ('diagnosed', 'ncit:C113725')), 'ControlledConversion', 'rate') = Uniform(low: 0.0, high: 1.0),\n",
       "\t(('Susceptible_unconfined', ('identity', 'ido:0000514'), ('quarantined', 'ncit:C68851')), ('Quarantined', ('identity', 'ido:0000514'), ('quarantined', 'ncit:C71902')), ('Infected_reported', ('identity', 'ido:0000511'), ('diagnosis', 'ncit:C15220')), 'ControlledConversion', 'rate') = Uniform(low: 0.0, high: 1.0),\n",
       "\t(('Susceptible_unconfined', ('identity', 'ido:0000514'), ('quarantined', 'ncit:C68851')), ('Quarantined', ('identity', 'ido:0000514'), ('quarantined', 'ncit:C71902')), ('Infected_unreported', ('identity', 'ido:0000511'), ('diagnosed', 'ncit:C113725')), 'ControlledConversion', 'rate') = Uniform(low: 0.0, high: 1.0),\n",
       "\tXXlambdaXX = Uniform(low: 0.23999999463558197, high: 0.36000001430511475),\n",
       "\ttheta = Uniform(low: 0.05714285746216774, high: 0.08571428060531616),\n",
       "\t(('Quarantined', ('identity', 'ido:0000514'), ('quarantined', 'ncit:C71902')), ('Infected_reported', ('identity', 'ido:0000511'), ('diagnosis', 'ncit:C15220')), 'NaturalConversion', 'rate') = Uniform(low: 0.0, high: 1.0),\n",
       "\tf = Uniform(low: 0.1599999964237213, high: 0.23999999463558197),\n",
       "\tmu = Uniform(low: 0.1599999964237213, high: 0.23999999463558197),\n",
       "\t(('Exposed', ('identity', 'apollosv:00000154')), ('Infected_reported', ('identity', 'ido:0000511'), ('diagnosis', 'ncit:C15220')), 'NaturalConversion', 'rate') = Uniform(low: 0.0, high: 1.0),\n",
       "\t(('Exposed', ('identity', 'apollosv:00000154')), ('Infected_unreported', ('identity', 'ido:0000511'), ('diagnosed', 'ncit:C113725')), 'NaturalConversion', 'rate') = Uniform(low: 0.0, high: 1.0),\n",
       "\teta_r = Uniform(low: 0.07999999821186066, high: 0.11999999731779099),\n",
       "\teta_u = Uniform(low: 0.20000000298023224, high: 0.30000001192092896),\n",
       "\t(('Quarantined', ('identity', 'ido:0000514'), ('quarantined', 'ncit:C71902')), ('Susceptible_unconfined', ('identity', 'ido:0000514'), ('quarantined', 'ncit:C68851')), 'NaturalConversion', 'rate') = Uniform(low: 0.0, high: 1.0),\n",
       "\tq = Uniform(low: 0.6639999747276306, high: 0.9959999918937683),\n",
       "\t(('Infected_reported', ('identity', 'ido:0000511'), ('diagnosis', 'ncit:C15220')), ('Deceased', ('identity', 'ncit:C28554')), 'NaturalConversion', 'rate') = Uniform(low: 0.0, high: 1.0),\n",
       "\tnoise_scale = 0.10000000149011612\n",
       ")]"
      ]
     },
     "execution_count": 22,
     "metadata": {},
     "output_type": "execute_result"
    }
   ],
   "source": [
    "models = [model1, model2, model3]\n",
    "weights = [1/3, 1/3, 1/3]\n",
    "start_time = train_timepoints[0] - 1e-5\n",
    "\n",
    "start_states = [start_state1, start_state2, start_state3]\n",
    "solution_mappings = [solution_mapping1, solution_mapping2, solution_mapping3]\n",
    "\n",
    "ensemble_total_population = 1.0\n",
    "dirichlet_concentration = 1.0\n",
    "\n",
    "ensemble = setup_model(models, \n",
    "                       weights, \n",
    "                       solution_mappings, \n",
    "                       start_time, \n",
    "                       start_states, \n",
    "                       dirichlet_concentration=dirichlet_concentration)\n",
    "ensemble"
   ]
  },
  {
   "cell_type": "markdown",
   "metadata": {},
   "source": [
    "### Calibrate"
   ]
  },
  {
   "cell_type": "code",
   "execution_count": 23,
   "metadata": {},
   "outputs": [
    {
     "name": "stdout",
     "output_type": "stream",
     "text": [
      "iteration 0: loss = 10212.50804528594\n",
      "iteration 10: loss = 9551.916983693838\n",
      "iteration 20: loss = 7870.280524224043\n",
      "iteration 30: loss = 7196.783444136381\n",
      "iteration 40: loss = 6517.996141523123\n",
      "iteration 50: loss = 6085.240189522505\n",
      "iteration 60: loss = 5393.360059708357\n",
      "iteration 70: loss = 4939.177564591169\n",
      "iteration 80: loss = 4633.045360416174\n",
      "iteration 90: loss = 4085.2261367738247\n"
     ]
    }
   ],
   "source": [
    "num_iterations = 100\n",
    "inferred_parameters = calibrate(ensemble, train_data, num_iterations=num_iterations, verbose=True, verbose_every=10)"
   ]
  },
  {
   "cell_type": "code",
   "execution_count": 24,
   "metadata": {},
   "outputs": [
    {
     "name": "stdout",
     "output_type": "stream",
     "text": [
      "Loaded inferred parameters from file.\n"
     ]
    }
   ],
   "source": [
    "# Load saved parameters\n",
    "\n",
    "save_path = \"./saved_guides/\"\n",
    "\n",
    "with open(os.path.join(save_path, \"inferred_parameters2.pkl\"), \"rb\") as f:\n",
    "    inferred_parameters = dill.load(f)\n",
    "print(\"Loaded inferred parameters from file.\")"
   ]
  },
  {
   "cell_type": "code",
   "execution_count": 26,
   "metadata": {},
   "outputs": [],
   "source": [
    "num_samples = 3\n",
    "ensemble_posterior_forecasts = sample(ensemble, all_timepoints, num_samples, inferred_parameters)"
   ]
  },
  {
   "cell_type": "code",
   "execution_count": 3,
   "metadata": {},
   "outputs": [
    {
     "data": {
      "text/plain": [
       "[('loc',\n",
       "  Parameter containing:\n",
       "  tensor([-0.3419, -1.8542, -0.9878, -1.0106,  1.2021,  1.2849,  2.2740, -1.5860,\n",
       "           1.9740,  1.5441,  0.9700, -0.0286, -2.1124,  1.3206,  1.6324,  1.6865,\n",
       "           0.2351,  0.1138,  0.2430,  0.1416, -0.1850, -0.0614, -0.3492,  0.0622,\n",
       "          -0.1692,  0.8840,  0.0276, -0.5106, -0.1815, -0.0883,  0.0168, -0.1803,\n",
       "           0.2660, -0.1332,  0.1727,  0.1170,  0.1163,  0.0087,  0.0054, -1.7854,\n",
       "           1.9843], requires_grad=True)),\n",
       " ('scale_unconstrained',\n",
       "  Parameter containing:\n",
       "  tensor([ 0.3795, -0.5289,  0.3884, -1.6352, -1.0087,  0.3064, -0.0165, -0.0054,\n",
       "           0.0226, -0.1191,  0.2943,  0.3943, -0.9570, -0.8787,  0.1069, -0.7997,\n",
       "           0.4267,  0.4204,  0.4664,  0.4563,  0.4117,  0.4294,  0.4210,  0.4147,\n",
       "           0.4345,  0.2505,  0.3819,  0.4337,  0.4461,  0.3777,  0.4550,  0.4119,\n",
       "           0.4483,  0.4159,  0.4482,  0.4427,  0.4390,  0.3692,  0.4392, -2.2280,\n",
       "          -0.0145], requires_grad=True))]"
      ]
     },
     "execution_count": 3,
     "metadata": {},
     "output_type": "execute_result"
    }
   ],
   "source": [
    "[*inferred_parameters.named_parameters()]"
   ]
  }
 ],
 "metadata": {
  "kernelspec": {
   "display_name": "CIEMSS_ENV",
   "language": "python",
   "name": "python3"
  },
  "language_info": {
   "codemirror_mode": {
    "name": "ipython",
    "version": 3
   },
   "file_extension": ".py",
   "mimetype": "text/x-python",
   "name": "python",
   "nbconvert_exporter": "python",
   "pygments_lexer": "ipython3",
   "version": "3.11.4"
  }
 },
 "nbformat": 4,
 "nbformat_minor": 4
}
