{
 "cells": [
  {
   "cell_type": "code",
   "execution_count": 1,
   "metadata": {},
   "outputs": [],
   "source": [
    "%load_ext autoreload\n",
    "%autoreload 2"
   ]
  },
  {
   "cell_type": "code",
   "execution_count": 21,
   "metadata": {},
   "outputs": [],
   "source": [
    "import pandas as pd\n",
    "import numpy as np\n",
    "import torch\n",
    "\n",
    "import json\n",
    "from pathlib import Path\n",
    "from copy import deepcopy\n",
    "\n",
    "import pyciemss.visuals.vega as vega\n",
    "from pyciemss.utils import get_tspan\n",
    "from pyciemss.utils.interface_utils import convert_to_output_format\n"
   ]
  },
  {
   "cell_type": "code",
   "execution_count": 33,
   "metadata": {},
   "outputs": [],
   "source": [
    "# Load cached data...\n",
    "tspan = get_tspan(1, 50, 500)\n",
    "\n",
    "root = Path(\"..\")/\"test\"/\"data/\"\n",
    "prior_samples = convert_to_output_format(vega.tensor_load(root/\"prior_samples.json\"), tspan)\n",
    "intervened_samples = vega.tensor_load(root/\"intervened_samples.json\")\n",
    "observed_trajectory = convert_to_output_format(vega.tensor_load(root/\"observed_trajectory.json\"), tspan)\n",
    "\n",
    "observed_points = (observed_trajectory\n",
    "    .rename(columns={\"Rabbits_sol\": \"Rabbits Example\"})\n",
    "    .drop(columns=[\"Wolves_sol\", \"alpha_param\", \"beta_param\", \"delta_param\", \"gamma_param\"])\n",
    "    .iloc[::10]\n",
    ")\n"
   ]
  },
  {
   "cell_type": "code",
   "execution_count": 81,
   "metadata": {},
   "outputs": [
    {
     "data": {
      "text/plain": [
       "[{'timepoint_id': 0,\n",
       "  'sample_id': 0,\n",
       "  'trajectory': 'Rabbits Example',\n",
       "  'value': 0.5774485468864441},\n",
       " {'timepoint_id': 10,\n",
       "  'sample_id': 0,\n",
       "  'trajectory': 'Rabbits Example',\n",
       "  'value': 0.4931105971336365},\n",
       " {'timepoint_id': 20,\n",
       "  'sample_id': 0,\n",
       "  'trajectory': 'Rabbits Example',\n",
       "  'value': 0.5761047005653381},\n",
       " {'timepoint_id': 30,\n",
       "  'sample_id': 0,\n",
       "  'trajectory': 'Rabbits Example',\n",
       "  'value': 0.7969658970832825},\n",
       " {'timepoint_id': 40,\n",
       "  'sample_id': 0,\n",
       "  'trajectory': 'Rabbits Example',\n",
       "  'value': 1.1683192253112793},\n",
       " {'timepoint_id': 50,\n",
       "  'sample_id': 0,\n",
       "  'trajectory': 'Rabbits Example',\n",
       "  'value': 1.6221495866775513},\n",
       " {'timepoint_id': 60,\n",
       "  'sample_id': 0,\n",
       "  'trajectory': 'Rabbits Example',\n",
       "  'value': 1.7182937860488892},\n",
       " {'timepoint_id': 70,\n",
       "  'sample_id': 0,\n",
       "  'trajectory': 'Rabbits Example',\n",
       "  'value': 1.0860116481781006},\n",
       " {'timepoint_id': 80,\n",
       "  'sample_id': 0,\n",
       "  'trajectory': 'Rabbits Example',\n",
       "  'value': 0.6113320589065552},\n",
       " {'timepoint_id': 90,\n",
       "  'sample_id': 0,\n",
       "  'trajectory': 'Rabbits Example',\n",
       "  'value': 0.4930415153503418},\n",
       " {'timepoint_id': 100,\n",
       "  'sample_id': 0,\n",
       "  'trajectory': 'Rabbits Example',\n",
       "  'value': 0.5555301308631897},\n",
       " {'timepoint_id': 110,\n",
       "  'sample_id': 0,\n",
       "  'trajectory': 'Rabbits Example',\n",
       "  'value': 0.7555342316627502},\n",
       " {'timepoint_id': 120,\n",
       "  'sample_id': 0,\n",
       "  'trajectory': 'Rabbits Example',\n",
       "  'value': 1.1050314903259277},\n",
       " {'timepoint_id': 130,\n",
       "  'sample_id': 0,\n",
       "  'trajectory': 'Rabbits Example',\n",
       "  'value': 1.561277985572815},\n",
       " {'timepoint_id': 140,\n",
       "  'sample_id': 0,\n",
       "  'trajectory': 'Rabbits Example',\n",
       "  'value': 1.7557481527328491},\n",
       " {'timepoint_id': 150,\n",
       "  'sample_id': 0,\n",
       "  'trajectory': 'Rabbits Example',\n",
       "  'value': 1.1907449960708618},\n",
       " {'timepoint_id': 160,\n",
       "  'sample_id': 0,\n",
       "  'trajectory': 'Rabbits Example',\n",
       "  'value': 0.6529028415679932},\n",
       " {'timepoint_id': 170,\n",
       "  'sample_id': 0,\n",
       "  'trajectory': 'Rabbits Example',\n",
       "  'value': 0.496554970741272},\n",
       " {'timepoint_id': 180,\n",
       "  'sample_id': 0,\n",
       "  'trajectory': 'Rabbits Example',\n",
       "  'value': 0.5378015637397766},\n",
       " {'timepoint_id': 190,\n",
       "  'sample_id': 0,\n",
       "  'trajectory': 'Rabbits Example',\n",
       "  'value': 0.7173503041267395},\n",
       " {'timepoint_id': 200,\n",
       "  'sample_id': 0,\n",
       "  'trajectory': 'Rabbits Example',\n",
       "  'value': 1.0445382595062256},\n",
       " {'timepoint_id': 210,\n",
       "  'sample_id': 0,\n",
       "  'trajectory': 'Rabbits Example',\n",
       "  'value': 1.495972752571106},\n",
       " {'timepoint_id': 220,\n",
       "  'sample_id': 0,\n",
       "  'trajectory': 'Rabbits Example',\n",
       "  'value': 1.7724984884262085},\n",
       " {'timepoint_id': 230,\n",
       "  'sample_id': 0,\n",
       "  'trajectory': 'Rabbits Example',\n",
       "  'value': 1.2989596128463745},\n",
       " {'timepoint_id': 240,\n",
       "  'sample_id': 0,\n",
       "  'trajectory': 'Rabbits Example',\n",
       "  'value': 0.70307457447052},\n",
       " {'timepoint_id': 250,\n",
       "  'sample_id': 0,\n",
       "  'trajectory': 'Rabbits Example',\n",
       "  'value': 0.5039738416671753},\n",
       " {'timepoint_id': 260,\n",
       "  'sample_id': 0,\n",
       "  'trajectory': 'Rabbits Example',\n",
       "  'value': 0.5229206085205078},\n",
       " {'timepoint_id': 270,\n",
       "  'sample_id': 0,\n",
       "  'trajectory': 'Rabbits Example',\n",
       "  'value': 0.6823447346687317},\n",
       " {'timepoint_id': 280,\n",
       "  'sample_id': 0,\n",
       "  'trajectory': 'Rabbits Example',\n",
       "  'value': 0.9871031641960144},\n",
       " {'timepoint_id': 290,\n",
       "  'sample_id': 0,\n",
       "  'trajectory': 'Rabbits Example',\n",
       "  'value': 1.428144931793213},\n",
       " {'timepoint_id': 300,\n",
       "  'sample_id': 0,\n",
       "  'trajectory': 'Rabbits Example',\n",
       "  'value': 1.7697229385375977},\n",
       " {'timepoint_id': 310,\n",
       "  'sample_id': 0,\n",
       "  'trajectory': 'Rabbits Example',\n",
       "  'value': 1.406166672706604},\n",
       " {'timepoint_id': 320,\n",
       "  'sample_id': 0,\n",
       "  'trajectory': 'Rabbits Example',\n",
       "  'value': 0.762713611125946},\n",
       " {'timepoint_id': 330,\n",
       "  'sample_id': 0,\n",
       "  'trajectory': 'Rabbits Example',\n",
       "  'value': 0.5157046914100647},\n",
       " {'timepoint_id': 340,\n",
       "  'sample_id': 0,\n",
       "  'trajectory': 'Rabbits Example',\n",
       "  'value': 0.5109087824821472},\n",
       " {'timepoint_id': 350,\n",
       "  'sample_id': 0,\n",
       "  'trajectory': 'Rabbits Example',\n",
       "  'value': 0.6504457592964172},\n",
       " {'timepoint_id': 360,\n",
       "  'sample_id': 0,\n",
       "  'trajectory': 'Rabbits Example',\n",
       "  'value': 0.9328932762145996},\n",
       " {'timepoint_id': 370,\n",
       "  'sample_id': 0,\n",
       "  'trajectory': 'Rabbits Example',\n",
       "  'value': 1.3593549728393555},\n",
       " {'timepoint_id': 380,\n",
       "  'sample_id': 0,\n",
       "  'trajectory': 'Rabbits Example',\n",
       "  'value': 1.7495903968811035},\n",
       " {'timepoint_id': 390,\n",
       "  'sample_id': 0,\n",
       "  'trajectory': 'Rabbits Example',\n",
       "  'value': 1.5072137117385864},\n",
       " {'timepoint_id': 400,\n",
       "  'sample_id': 0,\n",
       "  'trajectory': 'Rabbits Example',\n",
       "  'value': 0.8324921727180481},\n",
       " {'timepoint_id': 410,\n",
       "  'sample_id': 0,\n",
       "  'trajectory': 'Rabbits Example',\n",
       "  'value': 0.532248854637146},\n",
       " {'timepoint_id': 420,\n",
       "  'sample_id': 0,\n",
       "  'trajectory': 'Rabbits Example',\n",
       "  'value': 0.5018233060836792},\n",
       " {'timepoint_id': 430,\n",
       "  'sample_id': 0,\n",
       "  'trajectory': 'Rabbits Example',\n",
       "  'value': 0.6215773820877075},\n",
       " {'timepoint_id': 440,\n",
       "  'sample_id': 0,\n",
       "  'trajectory': 'Rabbits Example',\n",
       "  'value': 0.8819983601570129},\n",
       " {'timepoint_id': 450,\n",
       "  'sample_id': 0,\n",
       "  'trajectory': 'Rabbits Example',\n",
       "  'value': 1.2908376455307007},\n",
       " {'timepoint_id': 460,\n",
       "  'sample_id': 0,\n",
       "  'trajectory': 'Rabbits Example',\n",
       "  'value': 1.7148245573043823},\n",
       " {'timepoint_id': 470,\n",
       "  'sample_id': 0,\n",
       "  'trajectory': 'Rabbits Example',\n",
       "  'value': 1.5969091653823853},\n",
       " {'timepoint_id': 480,\n",
       "  'sample_id': 0,\n",
       "  'trajectory': 'Rabbits Example',\n",
       "  'value': 0.9126989841461182},\n",
       " {'timepoint_id': 490,\n",
       "  'sample_id': 0,\n",
       "  'trajectory': 'Rabbits Example',\n",
       "  'value': 0.5542105436325073}]"
      ]
     },
     "execution_count": 81,
     "metadata": {},
     "output_type": "execute_result"
    }
   ],
   "source": [
    "observed_points.set_index([\"timepoint_id\", \"sample_id\"]).melt(ignore_index=False, var_name=\"trajectory\").reset_index().to_dict(orient=\"records\")"
   ]
  },
  {
   "cell_type": "code",
   "execution_count": 45,
   "metadata": {},
   "outputs": [
    {
     "data": {
      "text/html": [
       "<div>\n",
       "<style scoped>\n",
       "    .dataframe tbody tr th:only-of-type {\n",
       "        vertical-align: middle;\n",
       "    }\n",
       "\n",
       "    .dataframe tbody tr th {\n",
       "        vertical-align: top;\n",
       "    }\n",
       "\n",
       "    .dataframe thead th {\n",
       "        text-align: right;\n",
       "    }\n",
       "</style>\n",
       "<table border=\"1\" class=\"dataframe\">\n",
       "  <thead>\n",
       "    <tr style=\"text-align: right;\">\n",
       "      <th></th>\n",
       "      <th></th>\n",
       "      <th></th>\n",
       "      <th>value</th>\n",
       "    </tr>\n",
       "    <tr>\n",
       "      <th>timepoint_id</th>\n",
       "      <th>sample_id</th>\n",
       "      <th>trajectory</th>\n",
       "      <th></th>\n",
       "    </tr>\n",
       "  </thead>\n",
       "  <tbody>\n",
       "    <tr>\n",
       "      <th>0</th>\n",
       "      <th>0</th>\n",
       "      <th>Rabbits_sol</th>\n",
       "      <td>0.485634</td>\n",
       "    </tr>\n",
       "    <tr>\n",
       "      <th>1</th>\n",
       "      <th>0</th>\n",
       "      <th>Rabbits_sol</th>\n",
       "      <td>0.461909</td>\n",
       "    </tr>\n",
       "    <tr>\n",
       "      <th>2</th>\n",
       "      <th>0</th>\n",
       "      <th>Rabbits_sol</th>\n",
       "      <td>0.441513</td>\n",
       "    </tr>\n",
       "    <tr>\n",
       "      <th>3</th>\n",
       "      <th>0</th>\n",
       "      <th>Rabbits_sol</th>\n",
       "      <td>0.424107</td>\n",
       "    </tr>\n",
       "    <tr>\n",
       "      <th>4</th>\n",
       "      <th>0</th>\n",
       "      <th>Rabbits_sol</th>\n",
       "      <td>0.409390</td>\n",
       "    </tr>\n",
       "  </tbody>\n",
       "</table>\n",
       "</div>"
      ],
      "text/plain": [
       "                                       value\n",
       "timepoint_id sample_id trajectory           \n",
       "0            0         Rabbits_sol  0.485634\n",
       "1            0         Rabbits_sol  0.461909\n",
       "2            0         Rabbits_sol  0.441513\n",
       "3            0         Rabbits_sol  0.424107\n",
       "4            0         Rabbits_sol  0.409390"
      ]
     },
     "execution_count": 45,
     "metadata": {},
     "output_type": "execute_result"
    }
   ],
   "source": [
    "observations = prior_samples.set_index([\"timepoint_id\", \"sample_id\"]).drop(columns=[\"alpha_param\", \"beta_param\", \"delta_param\", \"gamma_param\"])\n",
    "long = observations.melt(ignore_index=False, var_name=\"trajectory\").set_index(\"trajectory\", append=True)\n",
    "long.head()"
   ]
  },
  {
   "cell_type": "code",
   "execution_count": 82,
   "metadata": {},
   "outputs": [
    {
     "data": {
      "application/vnd.vega.v5+json": {
       "$schema": "https://vega.github.io/schema/vega/v5.json",
       "axes": [
        {
         "orient": "bottom",
         "scale": "xscale",
         "zindex": 100
        },
        {
         "orient": "left",
         "scale": "yscale",
         "zindex": 100
        }
       ],
       "data": [
        {
         "name": "distributions",
         "values": [
          {
           "lower": 0.5051243111491204,
           "timepoint_id": 0,
           "trajectory": "Rabbits",
           "upper": 0.6488389670848846
          },
          {
           "lower": 0.4810523107647896,
           "timepoint_id": 1,
           "trajectory": "Rabbits",
           "upper": 0.6317649573087692
          },
          {
           "lower": 0.4601885452866554,
           "timepoint_id": 2,
           "trajectory": "Rabbits",
           "upper": 0.6172279119491577
          },
          {
           "lower": 0.44223228096961975,
           "timepoint_id": 3,
           "trajectory": "Rabbits",
           "upper": 0.6050723165273666
          },
          {
           "lower": 0.4269068524241447,
           "timepoint_id": 4,
           "trajectory": "Rabbits",
           "upper": 0.5951532989740371
          },
          {
           "lower": 0.41377234309911726,
           "timepoint_id": 5,
           "trajectory": "Rabbits",
           "upper": 0.5873368799686431
          },
          {
           "lower": 0.40248590111732485,
           "timepoint_id": 6,
           "trajectory": "Rabbits",
           "upper": 0.5815026640892028
          },
          {
           "lower": 0.3931929439306259,
           "timepoint_id": 7,
           "trajectory": "Rabbits",
           "upper": 0.5775427132844925
          },
          {
           "lower": 0.3862742096185684,
           "timepoint_id": 8,
           "trajectory": "Rabbits",
           "upper": 0.5753624409437179
          },
          {
           "lower": 0.38118805140256884,
           "timepoint_id": 9,
           "trajectory": "Rabbits",
           "upper": 0.5757302582263947
          },
          {
           "lower": 0.3776500791311264,
           "timepoint_id": 10,
           "trajectory": "Rabbits",
           "upper": 0.5796148270368576
          },
          {
           "lower": 0.37555393427610395,
           "timepoint_id": 11,
           "trajectory": "Rabbits",
           "upper": 0.585342624783516
          },
          {
           "lower": 0.3748101145029068,
           "timepoint_id": 12,
           "trajectory": "Rabbits",
           "upper": 0.5931292980909347
          },
          {
           "lower": 0.3753451660275459,
           "timepoint_id": 13,
           "trajectory": "Rabbits",
           "upper": 0.6025383323431015
          },
          {
           "lower": 0.377096489071846,
           "timepoint_id": 14,
           "trajectory": "Rabbits",
           "upper": 0.6135480284690856
          },
          {
           "lower": 0.3800157144665718,
           "timepoint_id": 15,
           "trajectory": "Rabbits",
           "upper": 0.6261454164981841
          },
          {
           "lower": 0.3840783342719078,
           "timepoint_id": 16,
           "trajectory": "Rabbits",
           "upper": 0.6403272837400436
          },
          {
           "lower": 0.3895245581865311,
           "timepoint_id": 17,
           "trajectory": "Rabbits",
           "upper": 0.6560939222574232
          },
          {
           "lower": 0.39607561081647874,
           "timepoint_id": 18,
           "trajectory": "Rabbits",
           "upper": 0.6737348735332488
          },
          {
           "lower": 0.4037196129560471,
           "timepoint_id": 19,
           "trajectory": "Rabbits",
           "upper": 0.6940728366374967
          },
          {
           "lower": 0.41245175153017044,
           "timepoint_id": 20,
           "trajectory": "Rabbits",
           "upper": 0.7161092609167097
          },
          {
           "lower": 0.4222735777497292,
           "timepoint_id": 21,
           "trajectory": "Rabbits",
           "upper": 0.7398648440837858
          },
          {
           "lower": 0.43319143205881117,
           "timepoint_id": 22,
           "trajectory": "Rabbits",
           "upper": 0.7646123915910719
          },
          {
           "lower": 0.4452171564102173,
           "timepoint_id": 23,
           "trajectory": "Rabbits",
           "upper": 0.7892877429723737
          },
          {
           "lower": 0.4569105193018913,
           "timepoint_id": 24,
           "trajectory": "Rabbits",
           "upper": 0.815542286634445
          },
          {
           "lower": 0.4695918634533882,
           "timepoint_id": 25,
           "trajectory": "Rabbits",
           "upper": 0.8433761298656461
          },
          {
           "lower": 0.483332422375679,
           "timepoint_id": 26,
           "trajectory": "Rabbits",
           "upper": 0.8727851301431654
          },
          {
           "lower": 0.4981502011418343,
           "timepoint_id": 27,
           "trajectory": "Rabbits",
           "upper": 0.9037574321031568
          },
          {
           "lower": 0.5140681594610215,
           "timepoint_id": 28,
           "trajectory": "Rabbits",
           "upper": 0.9362738102674482
          },
          {
           "lower": 0.5311100453138351,
           "timepoint_id": 29,
           "trajectory": "Rabbits",
           "upper": 0.970302867889404
          },
          {
           "lower": 0.5493017822504044,
           "timepoint_id": 30,
           "trajectory": "Rabbits",
           "upper": 1.0058008164167402
          },
          {
           "lower": 0.5684487670660019,
           "timepoint_id": 31,
           "trajectory": "Rabbits",
           "upper": 1.0427060514688489
          },
          {
           "lower": 0.5885705500841141,
           "timepoint_id": 32,
           "trajectory": "Rabbits",
           "upper": 1.0809359312057492
          },
          {
           "lower": 0.6098981499671936,
           "timepoint_id": 33,
           "trajectory": "Rabbits",
           "upper": 1.1203878223896024
          },
          {
           "lower": 0.6324594795703888,
           "timepoint_id": 34,
           "trajectory": "Rabbits",
           "upper": 1.1609291970729825
          },
          {
           "lower": 0.6562829375267029,
           "timepoint_id": 35,
           "trajectory": "Rabbits",
           "upper": 1.2023967802524564
          },
          {
           "lower": 0.6823425441980362,
           "timepoint_id": 36,
           "trajectory": "Rabbits",
           "upper": 1.244588083028793
          },
          {
           "lower": 0.7107869565486908,
           "timepoint_id": 37,
           "trajectory": "Rabbits",
           "upper": 1.2872623503208158
          },
          {
           "lower": 0.7407032549381256,
           "timepoint_id": 38,
           "trajectory": "Rabbits",
           "upper": 1.3301270723342893
          },
          {
           "lower": 0.7721204370260238,
           "timepoint_id": 39,
           "trajectory": "Rabbits",
           "upper": 1.3728431224822994
          },
          {
           "lower": 0.805060988664627,
           "timepoint_id": 40,
           "trajectory": "Rabbits",
           "upper": 1.4171339631080624
          },
          {
           "lower": 0.8395456910133362,
           "timepoint_id": 41,
           "trajectory": "Rabbits",
           "upper": 1.4623533129692075
          },
          {
           "lower": 0.8755844682455063,
           "timepoint_id": 42,
           "trajectory": "Rabbits",
           "upper": 1.5069728612899778
          },
          {
           "lower": 0.9131788015365601,
           "timepoint_id": 43,
           "trajectory": "Rabbits",
           "upper": 1.5505466878414154
          },
          {
           "lower": 0.9523179590702057,
           "timepoint_id": 44,
           "trajectory": "Rabbits",
           "upper": 1.5925707936286926
          },
          {
           "lower": 0.9904650866985321,
           "timepoint_id": 45,
           "trajectory": "Rabbits",
           "upper": 1.6349843382835387
          },
          {
           "lower": 1.0290996789932252,
           "timepoint_id": 46,
           "trajectory": "Rabbits",
           "upper": 1.6903327703475952
          },
          {
           "lower": 1.068894773721695,
           "timepoint_id": 47,
           "trajectory": "Rabbits",
           "upper": 1.7450684905052185
          },
          {
           "lower": 1.1097592115402222,
           "timepoint_id": 48,
           "trajectory": "Rabbits",
           "upper": 1.7986104249954225
          },
          {
           "lower": 1.151575994491577,
           "timepoint_id": 49,
           "trajectory": "Rabbits",
           "upper": 1.850271362066269
          },
          {
           "lower": 1.1941976070404052,
           "timepoint_id": 50,
           "trajectory": "Rabbits",
           "upper": 1.899582540988922
          },
          {
           "lower": 1.23744078874588,
           "timepoint_id": 51,
           "trajectory": "Rabbits",
           "upper": 1.943354856967926
          },
          {
           "lower": 1.2810803174972534,
           "timepoint_id": 52,
           "trajectory": "Rabbits",
           "upper": 1.9746112644672393
          },
          {
           "lower": 1.3245567440986634,
           "timepoint_id": 53,
           "trajectory": "Rabbits",
           "upper": 2.006672477722168
          },
          {
           "lower": 1.3671102821826935,
           "timepoint_id": 54,
           "trajectory": "Rabbits",
           "upper": 2.0283280491828917
          },
          {
           "lower": 1.408983862400055,
           "timepoint_id": 55,
           "trajectory": "Rabbits",
           "upper": 2.01531400680542
          },
          {
           "lower": 1.4367581963539124,
           "timepoint_id": 56,
           "trajectory": "Rabbits",
           "upper": 2.0211418747901915
          },
          {
           "lower": 1.4506515979766845,
           "timepoint_id": 57,
           "trajectory": "Rabbits",
           "upper": 2.015464460849762
          },
          {
           "lower": 1.4284321010112762,
           "timepoint_id": 58,
           "trajectory": "Rabbits",
           "upper": 1.9974848330020905
          },
          {
           "lower": 1.4066657185554505,
           "timepoint_id": 59,
           "trajectory": "Rabbits",
           "upper": 1.9946840226650238
          },
          {
           "lower": 1.3370188474655151,
           "timepoint_id": 60,
           "trajectory": "Rabbits",
           "upper": 1.973221319913864
          },
          {
           "lower": 1.268656712770462,
           "timepoint_id": 61,
           "trajectory": "Rabbits",
           "upper": 1.946996235847473
          },
          {
           "lower": 1.2056418180465698,
           "timepoint_id": 62,
           "trajectory": "Rabbits",
           "upper": 1.926825213432312
          },
          {
           "lower": 1.1426748096942902,
           "timepoint_id": 63,
           "trajectory": "Rabbits",
           "upper": 1.8917805612087248
          },
          {
           "lower": 1.0809118807315827,
           "timepoint_id": 64,
           "trajectory": "Rabbits",
           "upper": 1.873773556947708
          },
          {
           "lower": 1.021326494216919,
           "timepoint_id": 65,
           "trajectory": "Rabbits",
           "upper": 1.838645803928375
          },
          {
           "lower": 0.9646812707185746,
           "timepoint_id": 66,
           "trajectory": "Rabbits",
           "upper": 1.7861752212047575
          },
          {
           "lower": 0.9115411072969437,
           "timepoint_id": 67,
           "trajectory": "Rabbits",
           "upper": 1.7476635694503784
          },
          {
           "lower": 0.8622704237699509,
           "timepoint_id": 68,
           "trajectory": "Rabbits",
           "upper": 1.7020660996437074
          },
          {
           "lower": 0.8200316578149796,
           "timepoint_id": 69,
           "trajectory": "Rabbits",
           "upper": 1.650298374891281
          },
          {
           "lower": 0.7819973856210709,
           "timepoint_id": 70,
           "trajectory": "Rabbits",
           "upper": 1.6116529524326324
          },
          {
           "lower": 0.7480799227952957,
           "timepoint_id": 71,
           "trajectory": "Rabbits",
           "upper": 1.563731038570404
          },
          {
           "lower": 0.7194193333387375,
           "timepoint_id": 72,
           "trajectory": "Rabbits",
           "upper": 1.5072274923324585
          },
          {
           "lower": 0.6914891541004181,
           "timepoint_id": 73,
           "trajectory": "Rabbits",
           "upper": 1.4292892456054687
          },
          {
           "lower": 0.6670606106519699,
           "timepoint_id": 74,
           "trajectory": "Rabbits",
           "upper": 1.3471659898757935
          },
          {
           "lower": 0.641142001748085,
           "timepoint_id": 75,
           "trajectory": "Rabbits",
           "upper": 1.2633545577526093
          },
          {
           "lower": 0.6135189205408096,
           "timepoint_id": 76,
           "trajectory": "Rabbits",
           "upper": 1.1872593283653259
          },
          {
           "lower": 0.5919944554567337,
           "timepoint_id": 77,
           "trajectory": "Rabbits",
           "upper": 1.1166882276535033
          },
          {
           "lower": 0.571210527420044,
           "timepoint_id": 78,
           "trajectory": "Rabbits",
           "upper": 1.0470829546451568
          },
          {
           "lower": 0.5549307703971863,
           "timepoint_id": 79,
           "trajectory": "Rabbits",
           "upper": 0.9762333691120146
          },
          {
           "lower": 0.5424787819385528,
           "timepoint_id": 80,
           "trajectory": "Rabbits",
           "upper": 0.9051215559244155
          },
          {
           "lower": 0.5280335992574692,
           "timepoint_id": 81,
           "trajectory": "Rabbits",
           "upper": 0.8438710719346999
          },
          {
           "lower": 0.5136239737272262,
           "timepoint_id": 82,
           "trajectory": "Rabbits",
           "upper": 0.7899392932653426
          },
          {
           "lower": 0.5010840415954589,
           "timepoint_id": 83,
           "trajectory": "Rabbits",
           "upper": 0.741310104727745
          },
          {
           "lower": 0.4843059152364731,
           "timepoint_id": 84,
           "trajectory": "Rabbits",
           "upper": 0.6987793892621994
          },
          {
           "lower": 0.46948242634534837,
           "timepoint_id": 85,
           "trajectory": "Rabbits",
           "upper": 0.6654698103666306
          },
          {
           "lower": 0.456996813416481,
           "timepoint_id": 86,
           "trajectory": "Rabbits",
           "upper": 0.6317428410053253
          },
          {
           "lower": 0.44688632488250735,
           "timepoint_id": 87,
           "trajectory": "Rabbits",
           "upper": 0.6195917665958404
          },
          {
           "lower": 0.4393170580267906,
           "timepoint_id": 88,
           "trajectory": "Rabbits",
           "upper": 0.5936942964792251
          },
          {
           "lower": 0.43049156963825225,
           "timepoint_id": 89,
           "trajectory": "Rabbits",
           "upper": 0.5928875982761382
          },
          {
           "lower": 0.42122622579336166,
           "timepoint_id": 90,
           "trajectory": "Rabbits",
           "upper": 0.604402607679367
          },
          {
           "lower": 0.4145303204655647,
           "timepoint_id": 91,
           "trajectory": "Rabbits",
           "upper": 0.6175673276185989
          },
          {
           "lower": 0.409544937312603,
           "timepoint_id": 92,
           "trajectory": "Rabbits",
           "upper": 0.6323772072792053
          },
          {
           "lower": 0.4043998926877975,
           "timepoint_id": 93,
           "trajectory": "Rabbits",
           "upper": 0.648832431435585
          },
          {
           "lower": 0.39657222479581833,
           "timepoint_id": 94,
           "trajectory": "Rabbits",
           "upper": 0.6669412821531295
          },
          {
           "lower": 0.3914209812879562,
           "timepoint_id": 95,
           "trajectory": "Rabbits",
           "upper": 0.6867181420326233
          },
          {
           "lower": 0.38856773972511294,
           "timepoint_id": 96,
           "trajectory": "Rabbits",
           "upper": 0.7081786185503005
          },
          {
           "lower": 0.3846037968993187,
           "timepoint_id": 97,
           "trajectory": "Rabbits",
           "upper": 0.7313447654247283
          },
          {
           "lower": 0.38213504999876025,
           "timepoint_id": 98,
           "trajectory": "Rabbits",
           "upper": 0.7562388241291045
          },
          {
           "lower": 0.3810760900378227,
           "timepoint_id": 99,
           "trajectory": "Rabbits",
           "upper": 0.7828852593898772
          },
          {
           "lower": 0.38122865110635756,
           "timepoint_id": 100,
           "trajectory": "Rabbits",
           "upper": 0.8113089025020598
          },
          {
           "lower": 0.38336937576532365,
           "timepoint_id": 101,
           "trajectory": "Rabbits",
           "upper": 0.8415317207574843
          },
          {
           "lower": 0.3866841092705727,
           "timepoint_id": 102,
           "trajectory": "Rabbits",
           "upper": 0.8735748052597044
          },
          {
           "lower": 0.3911342531442642,
           "timepoint_id": 103,
           "trajectory": "Rabbits",
           "upper": 0.9074536323547362
          },
          {
           "lower": 0.39669124931097033,
           "timepoint_id": 104,
           "trajectory": "Rabbits",
           "upper": 0.9431790947914122
          },
          {
           "lower": 0.40181774348020555,
           "timepoint_id": 105,
           "trajectory": "Rabbits",
           "upper": 0.9807507842779157
          },
          {
           "lower": 0.407728835940361,
           "timepoint_id": 106,
           "trajectory": "Rabbits",
           "upper": 1.0201601594686507
          },
          {
           "lower": 0.4146845549345016,
           "timepoint_id": 107,
           "trajectory": "Rabbits",
           "upper": 1.0613841593265532
          },
          {
           "lower": 0.42267623692750933,
           "timepoint_id": 108,
           "trajectory": "Rabbits",
           "upper": 1.1043815016746519
          },
          {
           "lower": 0.4317007020115852,
           "timepoint_id": 109,
           "trajectory": "Rabbits",
           "upper": 1.1490903258323666
          },
          {
           "lower": 0.4413680672645569,
           "timepoint_id": 110,
           "trajectory": "Rabbits",
           "upper": 1.195424300432205
          },
          {
           "lower": 0.4518758445978165,
           "timepoint_id": 111,
           "trajectory": "Rabbits",
           "upper": 1.2405022025108334
          },
          {
           "lower": 0.4634175285696983,
           "timepoint_id": 112,
           "trajectory": "Rabbits",
           "upper": 1.2830369472503658
          },
          {
           "lower": 0.476004995405674,
           "timepoint_id": 113,
           "trajectory": "Rabbits",
           "upper": 1.3257771432399745
          },
          {
           "lower": 0.48965266942977903,
           "timepoint_id": 114,
           "trajectory": "Rabbits",
           "upper": 1.368388450145721
          },
          {
           "lower": 0.5043785005807877,
           "timepoint_id": 115,
           "trajectory": "Rabbits",
           "upper": 1.4104705750942226
          },
          {
           "lower": 0.5202018976211548,
           "timepoint_id": 116,
           "trajectory": "Rabbits",
           "upper": 1.4515727937221523
          },
          {
           "lower": 0.5371453166007996,
           "timepoint_id": 117,
           "trajectory": "Rabbits",
           "upper": 1.491175544261932
          },
          {
           "lower": 0.5552328586578369,
           "timepoint_id": 118,
           "trajectory": "Rabbits",
           "upper": 1.5286987662315366
          },
          {
           "lower": 0.5746016263961792,
           "timepoint_id": 119,
           "trajectory": "Rabbits",
           "upper": 1.5635028123855588
          },
          {
           "lower": 0.5970102906227112,
           "timepoint_id": 120,
           "trajectory": "Rabbits",
           "upper": 1.5948892235755918
          },
          {
           "lower": 0.6207388818264008,
           "timepoint_id": 121,
           "trajectory": "Rabbits",
           "upper": 1.6221232175827025
          },
          {
           "lower": 0.6453634649515152,
           "timepoint_id": 122,
           "trajectory": "Rabbits",
           "upper": 1.644442594051361
          },
          {
           "lower": 0.6708035081624985,
           "timepoint_id": 123,
           "trajectory": "Rabbits",
           "upper": 1.6610858678817748
          },
          {
           "lower": 0.6968708425760269,
           "timepoint_id": 124,
           "trajectory": "Rabbits",
           "upper": 1.6713273644447326
          },
          {
           "lower": 0.7234418570995331,
           "timepoint_id": 125,
           "trajectory": "Rabbits",
           "upper": 1.6745122253894806
          },
          {
           "lower": 0.7513154923915863,
           "timepoint_id": 126,
           "trajectory": "Rabbits",
           "upper": 1.6727754712104796
          },
          {
           "lower": 0.78050856590271,
           "timepoint_id": 127,
           "trajectory": "Rabbits",
           "upper": 1.716128623485565
          },
          {
           "lower": 0.8110340058803559,
           "timepoint_id": 128,
           "trajectory": "Rabbits",
           "upper": 1.7695979833602904
          },
          {
           "lower": 0.842897766828537,
           "timepoint_id": 129,
           "trajectory": "Rabbits",
           "upper": 1.8139043271541595
          },
          {
           "lower": 0.8761000365018845,
           "timepoint_id": 130,
           "trajectory": "Rabbits",
           "upper": 1.8211844146251677
          },
          {
           "lower": 0.9106319785118103,
           "timepoint_id": 131,
           "trajectory": "Rabbits",
           "upper": 1.8637800216674802
          },
          {
           "lower": 0.9464745968580246,
           "timepoint_id": 132,
           "trajectory": "Rabbits",
           "upper": 1.8995178580284118
          },
          {
           "lower": 0.9835943669080734,
           "timepoint_id": 133,
           "trajectory": "Rabbits",
           "upper": 1.912487632036209
          },
          {
           "lower": 1.0219449251890182,
           "timepoint_id": 134,
           "trajectory": "Rabbits",
           "upper": 1.9452049076557159
          },
          {
           "lower": 1.0614603579044342,
           "timepoint_id": 135,
           "trajectory": "Rabbits",
           "upper": 1.9617474615573882
          },
          {
           "lower": 1.1020531356334686,
           "timepoint_id": 136,
           "trajectory": "Rabbits",
           "upper": 1.9881222665309906
          },
          {
           "lower": 1.1269083678722382,
           "timepoint_id": 137,
           "trajectory": "Rabbits",
           "upper": 2.0061532855033875
          },
          {
           "lower": 1.1055106699466706,
           "timepoint_id": 138,
           "trajectory": "Rabbits",
           "upper": 2.0061437666416166
          },
          {
           "lower": 1.0808826684951782,
           "timepoint_id": 139,
           "trajectory": "Rabbits",
           "upper": 1.9949356257915496
          },
          {
           "lower": 1.0539768517017365,
           "timepoint_id": 140,
           "trajectory": "Rabbits",
           "upper": 1.987330251932144
          },
          {
           "lower": 0.9956606686115265,
           "timepoint_id": 141,
           "trajectory": "Rabbits",
           "upper": 1.977737545967102
          },
          {
           "lower": 0.9405529707670212,
           "timepoint_id": 142,
           "trajectory": "Rabbits",
           "upper": 1.9775248050689695
          },
          {
           "lower": 0.8891286879777909,
           "timepoint_id": 143,
           "trajectory": "Rabbits",
           "upper": 1.9683462738990782
          },
          {
           "lower": 0.8416773855686188,
           "timepoint_id": 144,
           "trajectory": "Rabbits",
           "upper": 1.9223632514476774
          },
          {
           "lower": 0.7987896740436554,
           "timepoint_id": 145,
           "trajectory": "Rabbits",
           "upper": 1.9055021107196808
          },
          {
           "lower": 0.7641114115715026,
           "timepoint_id": 146,
           "trajectory": "Rabbits",
           "upper": 1.8573774456977843
          },
          {
           "lower": 0.7325069457292557,
           "timepoint_id": 147,
           "trajectory": "Rabbits",
           "upper": 1.838408941030502
          },
          {
           "lower": 0.7046769589185715,
           "timepoint_id": 148,
           "trajectory": "Rabbits",
           "upper": 1.8566193163394926
          },
          {
           "lower": 0.6805095404386521,
           "timepoint_id": 149,
           "trajectory": "Rabbits",
           "upper": 1.8516739666461943
          },
          {
           "lower": 0.6646953701972962,
           "timepoint_id": 150,
           "trajectory": "Rabbits",
           "upper": 1.8386036038398743
          },
          {
           "lower": 0.6481923609972,
           "timepoint_id": 151,
           "trajectory": "Rabbits",
           "upper": 1.8343990445137024
          },
          {
           "lower": 0.6312552928924561,
           "timepoint_id": 152,
           "trajectory": "Rabbits",
           "upper": 1.8231343924999235
          },
          {
           "lower": 0.6174396783113479,
           "timepoint_id": 153,
           "trajectory": "Rabbits",
           "upper": 1.796340215206146
          },
          {
           "lower": 0.6048211842775345,
           "timepoint_id": 154,
           "trajectory": "Rabbits",
           "upper": 1.7632344782352447
          },
          {
           "lower": 0.5861428260803223,
           "timepoint_id": 155,
           "trajectory": "Rabbits",
           "upper": 1.7273318111896514
          },
          {
           "lower": 0.5645932614803314,
           "timepoint_id": 156,
           "trajectory": "Rabbits",
           "upper": 1.6872319936752318
          },
          {
           "lower": 0.5531397134065628,
           "timepoint_id": 157,
           "trajectory": "Rabbits",
           "upper": 1.6694511115550994
          },
          {
           "lower": 0.5454001277685165,
           "timepoint_id": 158,
           "trajectory": "Rabbits",
           "upper": 1.6414436995983124
          },
          {
           "lower": 0.5345095366239547,
           "timepoint_id": 159,
           "trajectory": "Rabbits",
           "upper": 1.6056683242321013
          },
          {
           "lower": 0.5248127788305282,
           "timepoint_id": 160,
           "trajectory": "Rabbits",
           "upper": 1.5370599269866942
          },
          {
           "lower": 0.5188495635986328,
           "timepoint_id": 161,
           "trajectory": "Rabbits",
           "upper": 1.4614464104175569
          },
          {
           "lower": 0.5141069158911705,
           "timepoint_id": 162,
           "trajectory": "Rabbits",
           "upper": 1.3810622274875641
          },
          {
           "lower": 0.5036842778325081,
           "timepoint_id": 163,
           "trajectory": "Rabbits",
           "upper": 1.3148657023906707
          },
          {
           "lower": 0.4955750972032547,
           "timepoint_id": 164,
           "trajectory": "Rabbits",
           "upper": 1.2469740509986875
          },
          {
           "lower": 0.486618934571743,
           "timepoint_id": 165,
           "trajectory": "Rabbits",
           "upper": 1.1773756980895993
          },
          {
           "lower": 0.4762810945510864,
           "timepoint_id": 166,
           "trajectory": "Rabbits",
           "upper": 1.1075618743896483
          },
          {
           "lower": 0.4718186900019646,
           "timepoint_id": 167,
           "trajectory": "Rabbits",
           "upper": 1.0388622075319287
          },
          {
           "lower": 0.4622297614812851,
           "timepoint_id": 168,
           "trajectory": "Rabbits",
           "upper": 0.9670342475175854
          },
          {
           "lower": 0.4485212951898575,
           "timepoint_id": 169,
           "trajectory": "Rabbits",
           "upper": 0.8990428447723385
          },
          {
           "lower": 0.44212027490139005,
           "timepoint_id": 170,
           "trajectory": "Rabbits",
           "upper": 0.8747189581394195
          },
          {
           "lower": 0.44298544377088545,
           "timepoint_id": 171,
           "trajectory": "Rabbits",
           "upper": 0.8403298556804656
          },
          {
           "lower": 0.4412238642573357,
           "timepoint_id": 172,
           "trajectory": "Rabbits",
           "upper": 0.8073499917984008
          },
          {
           "lower": 0.4404029667377472,
           "timepoint_id": 173,
           "trajectory": "Rabbits",
           "upper": 0.756241524219513
          },
          {
           "lower": 0.4368326559662819,
           "timepoint_id": 174,
           "trajectory": "Rabbits",
           "upper": 0.748366367816925
          },
          {
           "lower": 0.42849123030900954,
           "timepoint_id": 175,
           "trajectory": "Rabbits",
           "upper": 0.7742634236812591
          },
          {
           "lower": 0.41640654951334,
           "timepoint_id": 176,
           "trajectory": "Rabbits",
           "upper": 0.8020657032728196
          },
          {
           "lower": 0.4095948994159698,
           "timepoint_id": 177,
           "trajectory": "Rabbits",
           "upper": 0.8316493302583694
          },
          {
           "lower": 0.4073739260435104,
           "timepoint_id": 178,
           "trajectory": "Rabbits",
           "upper": 0.8630342334508896
          },
          {
           "lower": 0.4066722258925438,
           "timepoint_id": 179,
           "trajectory": "Rabbits",
           "upper": 0.8962369143962859
          },
          {
           "lower": 0.4074068084359169,
           "timepoint_id": 180,
           "trajectory": "Rabbits",
           "upper": 0.931265839934349
          },
          {
           "lower": 0.40268880128860474,
           "timepoint_id": 181,
           "trajectory": "Rabbits",
           "upper": 0.9681242197751998
          },
          {
           "lower": 0.399829663336277,
           "timepoint_id": 182,
           "trajectory": "Rabbits",
           "upper": 1.006803148984909
          },
          {
           "lower": 0.40095287263393403,
           "timepoint_id": 183,
           "trajectory": "Rabbits",
           "upper": 1.047283226251602
          },
          {
           "lower": 0.4031273275613785,
           "timepoint_id": 184,
           "trajectory": "Rabbits",
           "upper": 1.0895249366760253
          },
          {
           "lower": 0.3990011066198349,
           "timepoint_id": 185,
           "trajectory": "Rabbits",
           "upper": 1.1334718346595762
          },
          {
           "lower": 0.39364364594221113,
           "timepoint_id": 186,
           "trajectory": "Rabbits",
           "upper": 1.1790435075759886
          },
          {
           "lower": 0.38806077688932417,
           "timepoint_id": 187,
           "trajectory": "Rabbits",
           "upper": 1.2261301219463348
          },
          {
           "lower": 0.38450371026992797,
           "timepoint_id": 188,
           "trajectory": "Rabbits",
           "upper": 1.2745866119861602
          },
          {
           "lower": 0.3875089153647423,
           "timepoint_id": 189,
           "trajectory": "Rabbits",
           "upper": 1.3242292463779448
          },
          {
           "lower": 0.39167160391807554,
           "timepoint_id": 190,
           "trajectory": "Rabbits",
           "upper": 1.374829018115997
          },
          {
           "lower": 0.3969603732228279,
           "timepoint_id": 191,
           "trajectory": "Rabbits",
           "upper": 1.426099723577499
          },
          {
           "lower": 0.4033517211675644,
           "timepoint_id": 192,
           "trajectory": "Rabbits",
           "upper": 1.4776994168758388
          },
          {
           "lower": 0.4093814805150032,
           "timepoint_id": 193,
           "trajectory": "Rabbits",
           "upper": 1.5238482177257533
          },
          {
           "lower": 0.415441007912159,
           "timepoint_id": 194,
           "trajectory": "Rabbits",
           "upper": 1.5586489498615261
          },
          {
           "lower": 0.4219281882047653,
           "timepoint_id": 195,
           "trajectory": "Rabbits",
           "upper": 1.590088194608688
          },
          {
           "lower": 0.4287471905350685,
           "timepoint_id": 196,
           "trajectory": "Rabbits",
           "upper": 1.6174417972564694
          },
          {
           "lower": 0.4356454789638519,
           "timepoint_id": 197,
           "trajectory": "Rabbits",
           "upper": 1.639961630105972
          },
          {
           "lower": 0.4435746371746063,
           "timepoint_id": 198,
           "trajectory": "Rabbits",
           "upper": 1.656901055574417
          },
          {
           "lower": 0.4525284916162491,
           "timepoint_id": 199,
           "trajectory": "Rabbits",
           "upper": 1.6675437271595
          },
          {
           "lower": 0.4625064104795456,
           "timepoint_id": 200,
           "trajectory": "Rabbits",
           "upper": 1.6712466537952422
          },
          {
           "lower": 0.4735117956995964,
           "timepoint_id": 201,
           "trajectory": "Rabbits",
           "upper": 1.6674805879592896
          },
          {
           "lower": 0.485551755130291,
           "timepoint_id": 202,
           "trajectory": "Rabbits",
           "upper": 1.6580154597759247
          },
          {
           "lower": 0.49863721430301666,
           "timepoint_id": 203,
           "trajectory": "Rabbits",
           "upper": 1.6465700745582579
          },
          {
           "lower": 0.51282719373703,
           "timepoint_id": 204,
           "trajectory": "Rabbits",
           "upper": 1.6579146325588225
          },
          {
           "lower": 0.5302152931690216,
           "timepoint_id": 205,
           "trajectory": "Rabbits",
           "upper": 1.681108945608139
          },
          {
           "lower": 0.548772668838501,
           "timepoint_id": 206,
           "trajectory": "Rabbits",
           "upper": 1.7017919838428497
          },
          {
           "lower": 0.5685295164585114,
           "timepoint_id": 207,
           "trajectory": "Rabbits",
           "upper": 1.7162834405899046
          },
          {
           "lower": 0.5895175069570542,
           "timepoint_id": 208,
           "trajectory": "Rabbits",
           "upper": 1.750265085697174
          },
          {
           "lower": 0.6117695927619934,
           "timepoint_id": 209,
           "trajectory": "Rabbits",
           "upper": 1.7796592116355896
          },
          {
           "lower": 0.6353199332952499,
           "timepoint_id": 210,
           "trajectory": "Rabbits",
           "upper": 1.8073849022388457
          },
          {
           "lower": 0.6602031528949738,
           "timepoint_id": 211,
           "trajectory": "Rabbits",
           "upper": 1.8098789393901824
          },
          {
           "lower": 0.6864525496959687,
           "timepoint_id": 212,
           "trajectory": "Rabbits",
           "upper": 1.7979984700679776
          },
          {
           "lower": 0.7141019701957703,
           "timepoint_id": 213,
           "trajectory": "Rabbits",
           "upper": 1.8413004696369168
          },
          {
           "lower": 0.7431831270456314,
           "timepoint_id": 214,
           "trajectory": "Rabbits",
           "upper": 1.8793084323406217
          },
          {
           "lower": 0.7737266510725022,
           "timepoint_id": 215,
           "trajectory": "Rabbits",
           "upper": 1.9107930481433866
          },
          {
           "lower": 0.8055409729480744,
           "timepoint_id": 216,
           "trajectory": "Rabbits",
           "upper": 1.9169816553592682
          },
          {
           "lower": 0.8251921176910401,
           "timepoint_id": 217,
           "trajectory": "Rabbits",
           "upper": 1.9464172065258025
          },
          {
           "lower": 0.8253151297569274,
           "timepoint_id": 218,
           "trajectory": "Rabbits",
           "upper": 1.9703969955444336
          },
          {
           "lower": 0.8099280536174774,
           "timepoint_id": 219,
           "trajectory": "Rabbits",
           "upper": 1.9839801490306854
          },
          {
           "lower": 0.8038699805736542,
           "timepoint_id": 220,
           "trajectory": "Rabbits",
           "upper": 1.988193392753601
          },
          {
           "lower": 0.7710606127977371,
           "timepoint_id": 221,
           "trajectory": "Rabbits",
           "upper": 1.9942415654659271
          },
          {
           "lower": 0.7470197588205337,
           "timepoint_id": 222,
           "trajectory": "Rabbits",
           "upper": 1.9898629844188689
          },
          {
           "lower": 0.7182540386915207,
           "timepoint_id": 223,
           "trajectory": "Rabbits",
           "upper": 1.9742455959320067
          },
          {
           "lower": 0.6924134820699692,
           "timepoint_id": 224,
           "trajectory": "Rabbits",
           "upper": 1.9520539820194243
          },
          {
           "lower": 0.6701061934232712,
           "timepoint_id": 225,
           "trajectory": "Rabbits",
           "upper": 1.951135867834091
          },
          {
           "lower": 0.6516568928956985,
           "timepoint_id": 226,
           "trajectory": "Rabbits",
           "upper": 1.945321691036224
          },
          {
           "lower": 0.641685864329338,
           "timepoint_id": 227,
           "trajectory": "Rabbits",
           "upper": 1.9135046660900112
          },
          {
           "lower": 0.6342681467533111,
           "timepoint_id": 228,
           "trajectory": "Rabbits",
           "upper": 1.8663897991180416
          },
          {
           "lower": 0.6220158934593201,
           "timepoint_id": 229,
           "trajectory": "Rabbits",
           "upper": 1.8201657950878143
          },
          {
           "lower": 0.6110246002674102,
           "timepoint_id": 230,
           "trajectory": "Rabbits",
           "upper": 1.7957899630069734
          },
          {
           "lower": 0.6024056732654571,
           "timepoint_id": 231,
           "trajectory": "Rabbits",
           "upper": 1.7897957324981688
          },
          {
           "lower": 0.5948467195034027,
           "timepoint_id": 232,
           "trajectory": "Rabbits",
           "upper": 1.80155633687973
          },
          {
           "lower": 0.5786105751991272,
           "timepoint_id": 233,
           "trajectory": "Rabbits",
           "upper": 1.8087110340595243
          },
          {
           "lower": 0.5645324528217316,
           "timepoint_id": 234,
           "trajectory": "Rabbits",
           "upper": 1.7801218628883362
          },
          {
           "lower": 0.5540674448013305,
           "timepoint_id": 235,
           "trajectory": "Rabbits",
           "upper": 1.7751892149448394
          },
          {
           "lower": 0.5473203241825104,
           "timepoint_id": 236,
           "trajectory": "Rabbits",
           "upper": 1.8003147721290587
          },
          {
           "lower": 0.5480239897966385,
           "timepoint_id": 237,
           "trajectory": "Rabbits",
           "upper": 1.8223768889904022
          },
          {
           "lower": 0.54021315574646,
           "timepoint_id": 238,
           "trajectory": "Rabbits",
           "upper": 1.8227047383785249
          },
          {
           "lower": 0.5324098408222199,
           "timepoint_id": 239,
           "trajectory": "Rabbits",
           "upper": 1.8212045967578887
          },
          {
           "lower": 0.5270693153142929,
           "timepoint_id": 240,
           "trajectory": "Rabbits",
           "upper": 1.8120733976364134
          },
          {
           "lower": 0.52107774913311,
           "timepoint_id": 241,
           "trajectory": "Rabbits",
           "upper": 1.7703063786029813
          },
          {
           "lower": 0.5165954396128655,
           "timepoint_id": 242,
           "trajectory": "Rabbits",
           "upper": 1.7401071548461913
          },
          {
           "lower": 0.5104622498154641,
           "timepoint_id": 243,
           "trajectory": "Rabbits",
           "upper": 1.7071489214897153
          },
          {
           "lower": 0.5042807430028915,
           "timepoint_id": 244,
           "trajectory": "Rabbits",
           "upper": 1.6857240855693814
          },
          {
           "lower": 0.4970978781580925,
           "timepoint_id": 245,
           "trajectory": "Rabbits",
           "upper": 1.676756316423416
          },
          {
           "lower": 0.4849018916487694,
           "timepoint_id": 246,
           "trajectory": "Rabbits",
           "upper": 1.6580952823162078
          },
          {
           "lower": 0.4760160893201828,
           "timepoint_id": 247,
           "trajectory": "Rabbits",
           "upper": 1.6309352219104767
          },
          {
           "lower": 0.47461206316947935,
           "timepoint_id": 248,
           "trajectory": "Rabbits",
           "upper": 1.565701252222061
          },
          {
           "lower": 0.4717500790953636,
           "timepoint_id": 249,
           "trajectory": "Rabbits",
           "upper": 1.4927363455295564
          },
          {
           "lower": 0.4649355515837669,
           "timepoint_id": 250,
           "trajectory": "Rabbits",
           "upper": 1.427871537208557
          },
          {
           "lower": 0.4553666740655899,
           "timepoint_id": 251,
           "trajectory": "Rabbits",
           "upper": 1.3679876148700711
          },
          {
           "lower": 0.4450364723801613,
           "timepoint_id": 252,
           "trajectory": "Rabbits",
           "upper": 1.303653812408447
          },
          {
           "lower": 0.4424390897154808,
           "timepoint_id": 253,
           "trajectory": "Rabbits",
           "upper": 1.2363705337047572
          },
          {
           "lower": 0.44176057875156405,
           "timepoint_id": 254,
           "trajectory": "Rabbits",
           "upper": 1.2129586338996885
          },
          {
           "lower": 0.44264096915721896,
           "timepoint_id": 255,
           "trajectory": "Rabbits",
           "upper": 1.1858134746551512
          },
          {
           "lower": 0.444147065281868,
           "timepoint_id": 256,
           "trajectory": "Rabbits",
           "upper": 1.1125576615333557
          },
          {
           "lower": 0.4409631475806236,
           "timepoint_id": 257,
           "trajectory": "Rabbits",
           "upper": 1.0961318790912626
          },
          {
           "lower": 0.4385117799043655,
           "timepoint_id": 258,
           "trajectory": "Rabbits",
           "upper": 1.0390619158744812
          },
          {
           "lower": 0.43313329964876174,
           "timepoint_id": 259,
           "trajectory": "Rabbits",
           "upper": 1.0374710619449614
          },
          {
           "lower": 0.42651846557855605,
           "timepoint_id": 260,
           "trajectory": "Rabbits",
           "upper": 1.078562933206558
          },
          {
           "lower": 0.42028400897979734,
           "timepoint_id": 261,
           "trajectory": "Rabbits",
           "upper": 1.1212464570999146
          },
          {
           "lower": 0.41851030141115186,
           "timepoint_id": 262,
           "trajectory": "Rabbits",
           "upper": 1.1654311060905456
          },
          {
           "lower": 0.413428770005703,
           "timepoint_id": 263,
           "trajectory": "Rabbits",
           "upper": 1.2109955728054047
          },
          {
           "lower": 0.41161238849163057,
           "timepoint_id": 264,
           "trajectory": "Rabbits",
           "upper": 1.2577878415584565
          },
          {
           "lower": 0.4150161102414131,
           "timepoint_id": 265,
           "trajectory": "Rabbits",
           "upper": 1.3064170897006988
          },
          {
           "lower": 0.4207983836531639,
           "timepoint_id": 266,
           "trajectory": "Rabbits",
           "upper": 1.3561907589435578
          },
          {
           "lower": 0.4277648523449898,
           "timepoint_id": 267,
           "trajectory": "Rabbits",
           "upper": 1.4066593289375304
          },
          {
           "lower": 0.42866419106721876,
           "timepoint_id": 268,
           "trajectory": "Rabbits",
           "upper": 1.4574932754039762
          },
          {
           "lower": 0.4253242269158363,
           "timepoint_id": 269,
           "trajectory": "Rabbits",
           "upper": 1.5082980334758758
          },
          {
           "lower": 0.41685053110122683,
           "timepoint_id": 270,
           "trajectory": "Rabbits",
           "upper": 1.5586107611656186
          },
          {
           "lower": 0.41453602015972135,
           "timepoint_id": 271,
           "trajectory": "Rabbits",
           "upper": 1.6078900456428524
          },
          {
           "lower": 0.4145487532019615,
           "timepoint_id": 272,
           "trajectory": "Rabbits",
           "upper": 1.6348855912685392
          },
          {
           "lower": 0.412854041159153,
           "timepoint_id": 273,
           "trajectory": "Rabbits",
           "upper": 1.652022325992584
          },
          {
           "lower": 0.40423967093229296,
           "timepoint_id": 274,
           "trajectory": "Rabbits",
           "upper": 1.6629717230796812
          },
          {
           "lower": 0.39665575325489044,
           "timepoint_id": 275,
           "trajectory": "Rabbits",
           "upper": 1.6671080231666564
          },
          {
           "lower": 0.3907979890704155,
           "timepoint_id": 276,
           "trajectory": "Rabbits",
           "upper": 1.6639088928699493
          },
          {
           "lower": 0.3935821086168289,
           "timepoint_id": 277,
           "trajectory": "Rabbits",
           "upper": 1.6557608664035797
          },
          {
           "lower": 0.39856401085853577,
           "timepoint_id": 278,
           "trajectory": "Rabbits",
           "upper": 1.639836424589157
          },
          {
           "lower": 0.404674831032753,
           "timepoint_id": 279,
           "trajectory": "Rabbits",
           "upper": 1.629011660814285
          },
          {
           "lower": 0.41125942319631575,
           "timepoint_id": 280,
           "trajectory": "Rabbits",
           "upper": 1.616130632162094
          },
          {
           "lower": 0.4133000984787941,
           "timepoint_id": 281,
           "trajectory": "Rabbits",
           "upper": 1.6224951922893522
          },
          {
           "lower": 0.41600040942430494,
           "timepoint_id": 282,
           "trajectory": "Rabbits",
           "upper": 1.604687875509262
          },
          {
           "lower": 0.419818215072155,
           "timepoint_id": 283,
           "trajectory": "Rabbits",
           "upper": 1.5689333200454711
          },
          {
           "lower": 0.4247225522994995,
           "timepoint_id": 284,
           "trajectory": "Rabbits",
           "upper": 1.605749088525772
          },
          {
           "lower": 0.43069083243608475,
           "timepoint_id": 285,
           "trajectory": "Rabbits",
           "upper": 1.6541750848293302
          },
          {
           "lower": 0.4377057060599327,
           "timepoint_id": 286,
           "trajectory": "Rabbits",
           "upper": 1.700001937150955
          },
          {
           "lower": 0.44575624018907545,
           "timepoint_id": 287,
           "trajectory": "Rabbits",
           "upper": 1.732171511650085
          },
          {
           "lower": 0.4548378333449364,
           "timepoint_id": 288,
           "trajectory": "Rabbits",
           "upper": 1.7420642554759977
          },
          {
           "lower": 0.4649491384625435,
           "timepoint_id": 289,
           "trajectory": "Rabbits",
           "upper": 1.7516489982604981
          },
          {
           "lower": 0.47579763233661654,
           "timepoint_id": 290,
           "trajectory": "Rabbits",
           "upper": 1.7386007368564604
          },
          {
           "lower": 0.4891229450702667,
           "timepoint_id": 291,
           "trajectory": "Rabbits",
           "upper": 1.7452050268650054
          },
          {
           "lower": 0.5040813356637954,
           "timepoint_id": 292,
           "trajectory": "Rabbits",
           "upper": 1.7711842000484466
          },
          {
           "lower": 0.5201665133237838,
           "timepoint_id": 293,
           "trajectory": "Rabbits",
           "upper": 1.8023575127124785
          },
          {
           "lower": 0.5374025821685791,
           "timepoint_id": 294,
           "trajectory": "Rabbits",
           "upper": 1.8451899886131284
          },
          {
           "lower": 0.5558172702789307,
           "timepoint_id": 295,
           "trajectory": "Rabbits",
           "upper": 1.8826105952262877
          },
          {
           "lower": 0.5754400938749313,
           "timepoint_id": 296,
           "trajectory": "Rabbits",
           "upper": 1.8895355403423308
          },
          {
           "lower": 0.5963023632764817,
           "timepoint_id": 297,
           "trajectory": "Rabbits",
           "upper": 1.8820030152797698
          },
          {
           "lower": 0.6184376865625382,
           "timepoint_id": 298,
           "trajectory": "Rabbits",
           "upper": 1.9074315130710602
          },
          {
           "lower": 0.6331823855638504,
           "timepoint_id": 299,
           "trajectory": "Rabbits",
           "upper": 1.9259164452552795
          },
          {
           "lower": 0.6396550983190536,
           "timepoint_id": 300,
           "trajectory": "Rabbits",
           "upper": 1.9575332403182983
          },
          {
           "lower": 0.6352047085762024,
           "timepoint_id": 301,
           "trajectory": "Rabbits",
           "upper": 1.9521862268447876
          },
          {
           "lower": 0.6227093160152435,
           "timepoint_id": 302,
           "trajectory": "Rabbits",
           "upper": 1.9816403448581696
          },
          {
           "lower": 0.6086790233850479,
           "timepoint_id": 303,
           "trajectory": "Rabbits",
           "upper": 1.9924682796001434
          },
          {
           "lower": 0.600580582022667,
           "timepoint_id": 304,
           "trajectory": "Rabbits",
           "upper": 1.9912116348743438
          },
          {
           "lower": 0.6105746477842331,
           "timepoint_id": 305,
           "trajectory": "Rabbits",
           "upper": 1.9789631009101867
          },
          {
           "lower": 0.6185706049203873,
           "timepoint_id": 306,
           "trajectory": "Rabbits",
           "upper": 1.9551160156726834
          },
          {
           "lower": 0.6101013958454132,
           "timepoint_id": 307,
           "trajectory": "Rabbits",
           "upper": 1.9200285851955412
          },
          {
           "lower": 0.6034355491399765,
           "timepoint_id": 308,
           "trajectory": "Rabbits",
           "upper": 1.9168525636196136
          },
          {
           "lower": 0.5982402086257934,
           "timepoint_id": 309,
           "trajectory": "Rabbits",
           "upper": 1.91293408870697
          },
          {
           "lower": 0.5867925018072129,
           "timepoint_id": 310,
           "trajectory": "Rabbits",
           "upper": 1.9078599810600276
          },
          {
           "lower": 0.5724489957094192,
           "timepoint_id": 311,
           "trajectory": "Rabbits",
           "upper": 1.8693072557449337
          },
          {
           "lower": 0.5638573288917541,
           "timepoint_id": 312,
           "trajectory": "Rabbits",
           "upper": 1.8201348185539243
          },
          {
           "lower": 0.5624638974666596,
           "timepoint_id": 313,
           "trajectory": "Rabbits",
           "upper": 1.7697234213352202
          },
          {
           "lower": 0.5507203966379166,
           "timepoint_id": 314,
           "trajectory": "Rabbits",
           "upper": 1.7301194071769714
          },
          {
           "lower": 0.5544991075992585,
           "timepoint_id": 315,
           "trajectory": "Rabbits",
           "upper": 1.7313940346240997
          },
          {
           "lower": 0.560020101070404,
           "timepoint_id": 316,
           "trajectory": "Rabbits",
           "upper": 1.7541727066040038
          },
          {
           "lower": 0.554255124926567,
           "timepoint_id": 317,
           "trajectory": "Rabbits",
           "upper": 1.7718619644641875
          },
          {
           "lower": 0.5480907291173935,
           "timepoint_id": 318,
           "trajectory": "Rabbits",
           "upper": 1.7652491748332975
          },
          {
           "lower": 0.5356627881526947,
           "timepoint_id": 319,
           "trajectory": "Rabbits",
           "upper": 1.7113009810447692
          },
          {
           "lower": 0.5229950040578842,
           "timepoint_id": 320,
           "trajectory": "Rabbits",
           "upper": 1.7353079974651335
          },
          {
           "lower": 0.5182398110628128,
           "timepoint_id": 321,
           "trajectory": "Rabbits",
           "upper": 1.756126809120178
          },
          {
           "lower": 0.5166056036949158,
           "timepoint_id": 322,
           "trajectory": "Rabbits",
           "upper": 1.769816994667053
          },
          {
           "lower": 0.5164867341518402,
           "timepoint_id": 323,
           "trajectory": "Rabbits",
           "upper": 1.7754958629608153
          },
          {
           "lower": 0.515685823559761,
           "timepoint_id": 324,
           "trajectory": "Rabbits",
           "upper": 1.7829261362552642
          },
          {
           "lower": 0.5072418957948684,
           "timepoint_id": 325,
           "trajectory": "Rabbits",
           "upper": 1.7994502186775208
          },
          {
           "lower": 0.4941129207611084,
           "timepoint_id": 326,
           "trajectory": "Rabbits",
           "upper": 1.8093173563480378
          },
          {
           "lower": 0.4832419604063034,
           "timepoint_id": 327,
           "trajectory": "Rabbits",
           "upper": 1.814925742149353
          },
          {
           "lower": 0.47836018800735475,
           "timepoint_id": 328,
           "trajectory": "Rabbits",
           "upper": 1.7878687262535093
          },
          {
           "lower": 0.4781149536371231,
           "timepoint_id": 329,
           "trajectory": "Rabbits",
           "upper": 1.742596834897995
          },
          {
           "lower": 0.47555607110261916,
           "timepoint_id": 330,
           "trajectory": "Rabbits",
           "upper": 1.721788442134857
          },
          {
           "lower": 0.46873447448015215,
           "timepoint_id": 331,
           "trajectory": "Rabbits",
           "upper": 1.6993482708930967
          },
          {
           "lower": 0.4732772186398506,
           "timepoint_id": 332,
           "trajectory": "Rabbits",
           "upper": 1.6743481099605557
          },
          {
           "lower": 0.468516506254673,
           "timepoint_id": 333,
           "trajectory": "Rabbits",
           "upper": 1.673043769598007
          },
          {
           "lower": 0.4522621363401413,
           "timepoint_id": 334,
           "trajectory": "Rabbits",
           "upper": 1.662751567363739
          },
          {
           "lower": 0.4430853143334389,
           "timepoint_id": 335,
           "trajectory": "Rabbits",
           "upper": 1.64410360455513
          },
          {
           "lower": 0.4432558551430702,
           "timepoint_id": 336,
           "trajectory": "Rabbits",
           "upper": 1.5930341601371765
          },
          {
           "lower": 0.445137058198452,
           "timepoint_id": 337,
           "trajectory": "Rabbits",
           "upper": 1.5551829457283017
          },
          {
           "lower": 0.4464197546243668,
           "timepoint_id": 338,
           "trajectory": "Rabbits",
           "upper": 1.5624677062034602
          },
          {
           "lower": 0.4474971190094948,
           "timepoint_id": 339,
           "trajectory": "Rabbits",
           "upper": 1.5318945050239559
          },
          {
           "lower": 0.4469641879200935,
           "timepoint_id": 340,
           "trajectory": "Rabbits",
           "upper": 1.5298158288002013
          },
          {
           "lower": 0.44488638937473296,
           "timepoint_id": 341,
           "trajectory": "Rabbits",
           "upper": 1.4993150174617766
          },
          {
           "lower": 0.4385147958993912,
           "timepoint_id": 342,
           "trajectory": "Rabbits",
           "upper": 1.429887247085571
          },
          {
           "lower": 0.4331304594874382,
           "timepoint_id": 343,
           "trajectory": "Rabbits",
           "upper": 1.4057254314422607
          },
          {
           "lower": 0.42956598550081254,
           "timepoint_id": 344,
           "trajectory": "Rabbits",
           "upper": 1.4403165519237517
          },
          {
           "lower": 0.4253564924001694,
           "timepoint_id": 345,
           "trajectory": "Rabbits",
           "upper": 1.4883637964725493
          },
          {
           "lower": 0.4244931101799011,
           "timepoint_id": 346,
           "trajectory": "Rabbits",
           "upper": 1.5368669986724852
          },
          {
           "lower": 0.4283281609416008,
           "timepoint_id": 347,
           "trajectory": "Rabbits",
           "upper": 1.5852935135364532
          },
          {
           "lower": 0.42513045519590376,
           "timepoint_id": 348,
           "trajectory": "Rabbits",
           "upper": 1.632164007425308
          },
          {
           "lower": 0.4200458973646164,
           "timepoint_id": 349,
           "trajectory": "Rabbits",
           "upper": 1.6576512217521666
          },
          {
           "lower": 0.42672457695007326,
           "timepoint_id": 350,
           "trajectory": "Rabbits",
           "upper": 1.6621334195137023
          },
          {
           "lower": 0.4345822066068649,
           "timepoint_id": 351,
           "trajectory": "Rabbits",
           "upper": 1.6594287574291229
          },
          {
           "lower": 0.4436092182993889,
           "timepoint_id": 352,
           "trajectory": "Rabbits",
           "upper": 1.6523966014385223
          },
          {
           "lower": 0.45380297005176545,
           "timepoint_id": 353,
           "trajectory": "Rabbits",
           "upper": 1.6378264129161832
          },
          {
           "lower": 0.4610008031129837,
           "timepoint_id": 354,
           "trajectory": "Rabbits",
           "upper": 1.6328679680824278
          },
          {
           "lower": 0.4575705140829086,
           "timepoint_id": 355,
           "trajectory": "Rabbits",
           "upper": 1.6230205595493314
          },
          {
           "lower": 0.4455138087272644,
           "timepoint_id": 356,
           "trajectory": "Rabbits",
           "upper": 1.6049207866191864
          },
          {
           "lower": 0.43511883020401,
           "timepoint_id": 357,
           "trajectory": "Rabbits",
           "upper": 1.578563404083252
          },
          {
           "lower": 0.42818028330802915,
           "timepoint_id": 358,
           "trajectory": "Rabbits",
           "upper": 1.560998100042343
          },
          {
           "lower": 0.42777920365333555,
           "timepoint_id": 359,
           "trajectory": "Rabbits",
           "upper": 1.503386640548706
          },
          {
           "lower": 0.42754523903131486,
           "timepoint_id": 360,
           "trajectory": "Rabbits",
           "upper": 1.480780619382858
          },
          {
           "lower": 0.4262489452958107,
           "timepoint_id": 361,
           "trajectory": "Rabbits",
           "upper": 1.5112244009971618
          },
          {
           "lower": 0.4160794273018837,
           "timepoint_id": 362,
           "trajectory": "Rabbits",
           "upper": 1.5504247188568114
          },
          {
           "lower": 0.4073982730507851,
           "timepoint_id": 363,
           "trajectory": "Rabbits",
           "upper": 1.5913909077644346
          },
          {
           "lower": 0.4004003912210464,
           "timepoint_id": 364,
           "trajectory": "Rabbits",
           "upper": 1.6403545439243314
          },
          {
           "lower": 0.4014432460069656,
           "timepoint_id": 365,
           "trajectory": "Rabbits",
           "upper": 1.6869548618793484
          },
          {
           "lower": 0.406353235244751,
           "timepoint_id": 366,
           "trajectory": "Rabbits",
           "upper": 1.7125972688198088
          },
          {
           "lower": 0.4120946392416954,
           "timepoint_id": 367,
           "trajectory": "Rabbits",
           "upper": 1.6813135623931883
          },
          {
           "lower": 0.41201861947774887,
           "timepoint_id": 368,
           "trajectory": "Rabbits",
           "upper": 1.695450896024704
          },
          {
           "lower": 0.4131871834397316,
           "timepoint_id": 369,
           "trajectory": "Rabbits",
           "upper": 1.704049777984619
          },
          {
           "lower": 0.4150891095399857,
           "timepoint_id": 370,
           "trajectory": "Rabbits",
           "upper": 1.7009122908115384
          },
          {
           "lower": 0.4178817912936211,
           "timepoint_id": 371,
           "trajectory": "Rabbits",
           "upper": 1.725430756807327
          },
          {
           "lower": 0.42179676443338393,
           "timepoint_id": 372,
           "trajectory": "Rabbits",
           "upper": 1.7459316432476044
          },
          {
           "lower": 0.4268047958612442,
           "timepoint_id": 373,
           "trajectory": "Rabbits",
           "upper": 1.76577513217926
          },
          {
           "lower": 0.4328827723860741,
           "timepoint_id": 374,
           "trajectory": "Rabbits",
           "upper": 1.8066574811935423
          },
          {
           "lower": 0.4390408143401146,
           "timepoint_id": 375,
           "trajectory": "Rabbits",
           "upper": 1.8490019261837003
          },
          {
           "lower": 0.4459463968873024,
           "timepoint_id": 376,
           "trajectory": "Rabbits",
           "upper": 1.8599211990833282
          },
          {
           "lower": 0.4538986936211586,
           "timepoint_id": 377,
           "trajectory": "Rabbits",
           "upper": 1.8497736155986784
          },
          {
           "lower": 0.4651094362139702,
           "timepoint_id": 378,
           "trajectory": "Rabbits",
           "upper": 1.8601066946983336
          },
          {
           "lower": 0.4780843734741211,
           "timepoint_id": 379,
           "trajectory": "Rabbits",
           "upper": 1.8876757025718687
          },
          {
           "lower": 0.492148357629776,
           "timepoint_id": 380,
           "trajectory": "Rabbits",
           "upper": 1.9079487442970275
          },
          {
           "lower": 0.5073222741484642,
           "timepoint_id": 381,
           "trajectory": "Rabbits",
           "upper": 1.9209326088428498
          },
          {
           "lower": 0.5236279129981994,
           "timepoint_id": 382,
           "trajectory": "Rabbits",
           "upper": 1.9155714392662049
          },
          {
           "lower": 0.5333443999290466,
           "timepoint_id": 383,
           "trajectory": "Rabbits",
           "upper": 1.9256284475326537
          },
          {
           "lower": 0.5407276719808578,
           "timepoint_id": 384,
           "trajectory": "Rabbits",
           "upper": 1.9541174590587616
          },
          {
           "lower": 0.5475086867809296,
           "timepoint_id": 385,
           "trajectory": "Rabbits",
           "upper": 1.978466236591339
          },
          {
           "lower": 0.5465062320232391,
           "timepoint_id": 386,
           "trajectory": "Rabbits",
           "upper": 1.9914168894290922
          },
          {
           "lower": 0.5525976806879044,
           "timepoint_id": 387,
           "trajectory": "Rabbits",
           "upper": 1.9824489414691924
          },
          {
           "lower": 0.5636728644371033,
           "timepoint_id": 388,
           "trajectory": "Rabbits",
           "upper": 1.9620773255825041
          },
          {
           "lower": 0.5675195813179016,
           "timepoint_id": 389,
           "trajectory": "Rabbits",
           "upper": 1.929941552877426
          },
          {
           "lower": 0.5573868989944458,
           "timepoint_id": 390,
           "trajectory": "Rabbits",
           "upper": 1.8860995233058926
          },
          {
           "lower": 0.5549980401992798,
           "timepoint_id": 391,
           "trajectory": "Rabbits",
           "upper": 1.8778917074203492
          },
          {
           "lower": 0.5580355763435364,
           "timepoint_id": 392,
           "trajectory": "Rabbits",
           "upper": 1.8730241835117338
          },
          {
           "lower": 0.5666703373193741,
           "timepoint_id": 393,
           "trajectory": "Rabbits",
           "upper": 1.8939713478088376
          },
          {
           "lower": 0.5745903313159942,
           "timepoint_id": 394,
           "trajectory": "Rabbits",
           "upper": 1.8707408785820006
          },
          {
           "lower": 0.5794445455074311,
           "timepoint_id": 395,
           "trajectory": "Rabbits",
           "upper": 1.8239542603492735
          },
          {
           "lower": 0.5653527587652206,
           "timepoint_id": 396,
           "trajectory": "Rabbits",
           "upper": 1.7833893656730653
          },
          {
           "lower": 0.5516872137784958,
           "timepoint_id": 397,
           "trajectory": "Rabbits",
           "upper": 1.7533719480037688
          },
          {
           "lower": 0.5397428452968598,
           "timepoint_id": 398,
           "trajectory": "Rabbits",
           "upper": 1.697965383529663
          },
          {
           "lower": 0.5263006567955018,
           "timepoint_id": 399,
           "trajectory": "Rabbits",
           "upper": 1.6832296729087828
          },
          {
           "lower": 0.5212005943059921,
           "timepoint_id": 400,
           "trajectory": "Rabbits",
           "upper": 1.65513117313385
          },
          {
           "lower": 0.5204062521457672,
           "timepoint_id": 401,
           "trajectory": "Rabbits",
           "upper": 1.6790795803070069
          },
          {
           "lower": 0.5212742745876312,
           "timepoint_id": 402,
           "trajectory": "Rabbits",
           "upper": 1.7225245833396912
          },
          {
           "lower": 0.5229991644620895,
           "timepoint_id": 403,
           "trajectory": "Rabbits",
           "upper": 1.730085062980652
          },
          {
           "lower": 0.522838044166565,
           "timepoint_id": 404,
           "trajectory": "Rabbits",
           "upper": 1.694386202096939
          },
          {
           "lower": 0.5160812020301819,
           "timepoint_id": 405,
           "trajectory": "Rabbits",
           "upper": 1.6922270357608795
          },
          {
           "lower": 0.5036900967359543,
           "timepoint_id": 406,
           "trajectory": "Rabbits",
           "upper": 1.7067781984806059
          },
          {
           "lower": 0.49137296676635744,
           "timepoint_id": 407,
           "trajectory": "Rabbits",
           "upper": 1.730581349134445
          },
          {
           "lower": 0.48303412944078444,
           "timepoint_id": 408,
           "trajectory": "Rabbits",
           "upper": 1.7478553891181945
          },
          {
           "lower": 0.48240396082401277,
           "timepoint_id": 409,
           "trajectory": "Rabbits",
           "upper": 1.7600879192352294
          },
          {
           "lower": 0.478350593149662,
           "timepoint_id": 410,
           "trajectory": "Rabbits",
           "upper": 1.764333701133728
          },
          {
           "lower": 0.4821579858660698,
           "timepoint_id": 411,
           "trajectory": "Rabbits",
           "upper": 1.7599210083484647
          },
          {
           "lower": 0.47911573350429537,
           "timepoint_id": 412,
           "trajectory": "Rabbits",
           "upper": 1.776980400085449
          },
          {
           "lower": 0.4739988923072815,
           "timepoint_id": 413,
           "trajectory": "Rabbits",
           "upper": 1.786699366569519
          },
          {
           "lower": 0.4728016659617424,
           "timepoint_id": 414,
           "trajectory": "Rabbits",
           "upper": 1.785502678155899
          },
          {
           "lower": 0.47174362689256666,
           "timepoint_id": 415,
           "trajectory": "Rabbits",
           "upper": 1.7991522669792175
          },
          {
           "lower": 0.46309907287359237,
           "timepoint_id": 416,
           "trajectory": "Rabbits",
           "upper": 1.7694347620010376
          },
          {
           "lower": 0.44931227415800096,
           "timepoint_id": 417,
           "trajectory": "Rabbits",
           "upper": 1.780850529670715
          },
          {
           "lower": 0.44567641615867615,
           "timepoint_id": 418,
           "trajectory": "Rabbits",
           "upper": 1.8043862819671628
          },
          {
           "lower": 0.44674141258001326,
           "timepoint_id": 419,
           "trajectory": "Rabbits",
           "upper": 1.800585466623306
          },
          {
           "lower": 0.44667655378580096,
           "timepoint_id": 420,
           "trajectory": "Rabbits",
           "upper": 1.7862511932849883
          },
          {
           "lower": 0.4480611220002174,
           "timepoint_id": 421,
           "trajectory": "Rabbits",
           "upper": 1.7608599722385405
          },
          {
           "lower": 0.4508348643779755,
           "timepoint_id": 422,
           "trajectory": "Rabbits",
           "upper": 1.724252951145172
          },
          {
           "lower": 0.45494675934314727,
           "timepoint_id": 423,
           "trajectory": "Rabbits",
           "upper": 1.6898755848407745
          },
          {
           "lower": 0.45285946875810623,
           "timepoint_id": 424,
           "trajectory": "Rabbits",
           "upper": 1.6663192331790924
          },
          {
           "lower": 0.44594485461711886,
           "timepoint_id": 425,
           "trajectory": "Rabbits",
           "upper": 1.6706449449062346
          },
          {
           "lower": 0.4385737970471382,
           "timepoint_id": 426,
           "trajectory": "Rabbits",
           "upper": 1.69396036863327
          },
          {
           "lower": 0.43317885547876356,
           "timepoint_id": 427,
           "trajectory": "Rabbits",
           "upper": 1.701903975009918
          },
          {
           "lower": 0.42960587739944456,
           "timepoint_id": 428,
           "trajectory": "Rabbits",
           "upper": 1.6650055527687073
          },
          {
           "lower": 0.4296691849827766,
           "timepoint_id": 429,
           "trajectory": "Rabbits",
           "upper": 1.634255015850067
          },
          {
           "lower": 0.4290746435523033,
           "timepoint_id": 430,
           "trajectory": "Rabbits",
           "upper": 1.6288334131240843
          },
          {
           "lower": 0.4286207392811775,
           "timepoint_id": 431,
           "trajectory": "Rabbits",
           "upper": 1.6152874886989592
          },
          {
           "lower": 0.4312332525849342,
           "timepoint_id": 432,
           "trajectory": "Rabbits",
           "upper": 1.5934741914272308
          },
          {
           "lower": 0.43520423769950867,
           "timepoint_id": 433,
           "trajectory": "Rabbits",
           "upper": 1.563509178161621
          },
          {
           "lower": 0.4337076425552368,
           "timepoint_id": 434,
           "trajectory": "Rabbits",
           "upper": 1.5209748685359954
          },
          {
           "lower": 0.44245827943086624,
           "timepoint_id": 435,
           "trajectory": "Rabbits",
           "upper": 1.483392971754074
          },
          {
           "lower": 0.45230783224105836,
           "timepoint_id": 436,
           "trajectory": "Rabbits",
           "upper": 1.4413735747337342
          },
          {
           "lower": 0.4630254492163658,
           "timepoint_id": 437,
           "trajectory": "Rabbits",
           "upper": 1.4341596007347106
          },
          {
           "lower": 0.47416217923164367,
           "timepoint_id": 438,
           "trajectory": "Rabbits",
           "upper": 1.4368768870830533
          },
          {
           "lower": 0.47718397676944735,
           "timepoint_id": 439,
           "trajectory": "Rabbits",
           "upper": 1.4758596479892727
          },
          {
           "lower": 0.47828148752450944,
           "timepoint_id": 440,
           "trajectory": "Rabbits",
           "upper": 1.5129901826381682
          },
          {
           "lower": 0.4808869779109955,
           "timepoint_id": 441,
           "trajectory": "Rabbits",
           "upper": 1.5477491676807402
          },
          {
           "lower": 0.4719135418534279,
           "timepoint_id": 442,
           "trajectory": "Rabbits",
           "upper": 1.582797646522522
          },
          {
           "lower": 0.4590594068169594,
           "timepoint_id": 443,
           "trajectory": "Rabbits",
           "upper": 1.6263654887676238
          },
          {
           "lower": 0.44851022213697433,
           "timepoint_id": 444,
           "trajectory": "Rabbits",
           "upper": 1.6408966422080993
          },
          {
           "lower": 0.44312494844198225,
           "timepoint_id": 445,
           "trajectory": "Rabbits",
           "upper": 1.633244502544403
          },
          {
           "lower": 0.443962661921978,
           "timepoint_id": 446,
           "trajectory": "Rabbits",
           "upper": 1.6598603188991543
          },
          {
           "lower": 0.43872047662734986,
           "timepoint_id": 447,
           "trajectory": "Rabbits",
           "upper": 1.6537000775337218
          },
          {
           "lower": 0.4330864563584328,
           "timepoint_id": 448,
           "trajectory": "Rabbits",
           "upper": 1.6327678859233856
          },
          {
           "lower": 0.4272132471203804,
           "timepoint_id": 449,
           "trajectory": "Rabbits",
           "upper": 1.6633822619915006
          },
          {
           "lower": 0.4229541838169098,
           "timepoint_id": 450,
           "trajectory": "Rabbits",
           "upper": 1.68935130238533
          },
          {
           "lower": 0.42015309184789656,
           "timepoint_id": 451,
           "trajectory": "Rabbits",
           "upper": 1.7020507633686062
          },
          {
           "lower": 0.4154145985841751,
           "timepoint_id": 452,
           "trajectory": "Rabbits",
           "upper": 1.719242763519287
          },
          {
           "lower": 0.41348221302032473,
           "timepoint_id": 453,
           "trajectory": "Rabbits",
           "upper": 1.7336568772792815
          },
          {
           "lower": 0.4150035724043846,
           "timepoint_id": 454,
           "trajectory": "Rabbits",
           "upper": 1.764562529325485
          },
          {
           "lower": 0.4149696618318558,
           "timepoint_id": 455,
           "trajectory": "Rabbits",
           "upper": 1.8108898639678952
          },
          {
           "lower": 0.41395452320575715,
           "timepoint_id": 456,
           "trajectory": "Rabbits",
           "upper": 1.824523389339447
          },
          {
           "lower": 0.4140619054436684,
           "timepoint_id": 457,
           "trajectory": "Rabbits",
           "upper": 1.813973444700241
          },
          {
           "lower": 0.41541619300842286,
           "timepoint_id": 458,
           "trajectory": "Rabbits",
           "upper": 1.8230098664760586
          },
          {
           "lower": 0.4171424895524979,
           "timepoint_id": 459,
           "trajectory": "Rabbits",
           "upper": 1.8459568142890928
          },
          {
           "lower": 0.42002087384462355,
           "timepoint_id": 460,
           "trajectory": "Rabbits",
           "upper": 1.8654019176959988
          },
          {
           "lower": 0.42402760237455367,
           "timepoint_id": 461,
           "trajectory": "Rabbits",
           "upper": 1.8877334773540495
          },
          {
           "lower": 0.42738759964704515,
           "timepoint_id": 462,
           "trajectory": "Rabbits",
           "upper": 1.902269196510315
          },
          {
           "lower": 0.4318558230996132,
           "timepoint_id": 463,
           "trajectory": "Rabbits",
           "upper": 1.8940174400806427
          },
          {
           "lower": 0.43740634620189667,
           "timepoint_id": 464,
           "trajectory": "Rabbits",
           "upper": 1.8821656048297881
          },
          {
           "lower": 0.4447771281003952,
           "timepoint_id": 465,
           "trajectory": "Rabbits",
           "upper": 1.882305562496185
          },
          {
           "lower": 0.4558165818452835,
           "timepoint_id": 466,
           "trajectory": "Rabbits",
           "upper": 1.9225153148174283
          },
          {
           "lower": 0.4679217264056206,
           "timepoint_id": 467,
           "trajectory": "Rabbits",
           "upper": 1.9554853141307829
          },
          {
           "lower": 0.48110533952713014,
           "timepoint_id": 468,
           "trajectory": "Rabbits",
           "upper": 1.9698303520679474
          },
          {
           "lower": 0.49538414031267164,
           "timepoint_id": 469,
           "trajectory": "Rabbits",
           "upper": 1.9792747676372526
          },
          {
           "lower": 0.5080586045980453,
           "timepoint_id": 470,
           "trajectory": "Rabbits",
           "upper": 1.967767035961151
          },
          {
           "lower": 0.5129945755004883,
           "timepoint_id": 471,
           "trajectory": "Rabbits",
           "upper": 1.9391654551029203
          },
          {
           "lower": 0.5108693033456803,
           "timepoint_id": 472,
           "trajectory": "Rabbits",
           "upper": 1.8988539218902585
          },
          {
           "lower": 0.4991100400686264,
           "timepoint_id": 473,
           "trajectory": "Rabbits",
           "upper": 1.8478488326072688
          },
          {
           "lower": 0.5031557589769363,
           "timepoint_id": 474,
           "trajectory": "Rabbits",
           "upper": 1.8340315818786619
          },
          {
           "lower": 0.5088341951370239,
           "timepoint_id": 475,
           "trajectory": "Rabbits",
           "upper": 1.8401550590991973
          },
          {
           "lower": 0.5159552216529846,
           "timepoint_id": 476,
           "trajectory": "Rabbits",
           "upper": 1.8687605321407317
          },
          {
           "lower": 0.5092094346880913,
           "timepoint_id": 477,
           "trajectory": "Rabbits",
           "upper": 1.8707273721694944
          },
          {
           "lower": 0.5044783890247345,
           "timepoint_id": 478,
           "trajectory": "Rabbits",
           "upper": 1.8262719750404357
          },
          {
           "lower": 0.5081981033086777,
           "timepoint_id": 479,
           "trajectory": "Rabbits",
           "upper": 1.792725670337677
          },
          {
           "lower": 0.5200009018182754,
           "timepoint_id": 480,
           "trajectory": "Rabbits",
           "upper": 1.774888491630554
          },
          {
           "lower": 0.5272310882806778,
           "timepoint_id": 481,
           "trajectory": "Rabbits",
           "upper": 1.715480238199234
          },
          {
           "lower": 0.5269260108470917,
           "timepoint_id": 482,
           "trajectory": "Rabbits",
           "upper": 1.6720775485038757
          },
          {
           "lower": 0.5233244180679322,
           "timepoint_id": 483,
           "trajectory": "Rabbits",
           "upper": 1.6669860184192655
          },
          {
           "lower": 0.5214826852083206,
           "timepoint_id": 484,
           "trajectory": "Rabbits",
           "upper": 1.630444073677063
          },
          {
           "lower": 0.5193063199520112,
           "timepoint_id": 485,
           "trajectory": "Rabbits",
           "upper": 1.5780684947967527
          },
          {
           "lower": 0.5129514932632446,
           "timepoint_id": 486,
           "trajectory": "Rabbits",
           "upper": 1.5786680579185486
          },
          {
           "lower": 0.500324958562851,
           "timepoint_id": 487,
           "trajectory": "Rabbits",
           "upper": 1.6250803112983703
          },
          {
           "lower": 0.488868248462677,
           "timepoint_id": 488,
           "trajectory": "Rabbits",
           "upper": 1.6607791423797607
          },
          {
           "lower": 0.486769101023674,
           "timepoint_id": 489,
           "trajectory": "Rabbits",
           "upper": 1.6902902007102965
          },
          {
           "lower": 0.48539797216653824,
           "timepoint_id": 490,
           "trajectory": "Rabbits",
           "upper": 1.6994019508361815
          },
          {
           "lower": 0.4866256728768349,
           "timepoint_id": 491,
           "trajectory": "Rabbits",
           "upper": 1.7332690715789794
          },
          {
           "lower": 0.48455681949853896,
           "timepoint_id": 492,
           "trajectory": "Rabbits",
           "upper": 1.7707481265068052
          },
          {
           "lower": 0.48429418802261354,
           "timepoint_id": 493,
           "trajectory": "Rabbits",
           "upper": 1.792945963144302
          },
          {
           "lower": 0.4749647453427315,
           "timepoint_id": 494,
           "trajectory": "Rabbits",
           "upper": 1.8070252597331997
          },
          {
           "lower": 0.4730565622448921,
           "timepoint_id": 495,
           "trajectory": "Rabbits",
           "upper": 1.812970924377441
          },
          {
           "lower": 0.4718085706233978,
           "timepoint_id": 496,
           "trajectory": "Rabbits",
           "upper": 1.8213407933712003
          },
          {
           "lower": 0.46968354731798173,
           "timepoint_id": 497,
           "trajectory": "Rabbits",
           "upper": 1.830135244131088
          },
          {
           "lower": 0.46901567131280897,
           "timepoint_id": 498,
           "trajectory": "Rabbits",
           "upper": 1.8315934181213378
          },
          {
           "lower": 0.45796349793672564,
           "timepoint_id": 499,
           "trajectory": "Rabbits",
           "upper": 1.8251835584640501
          },
          {
           "lower": 0.6978829830884934,
           "timepoint_id": 0,
           "trajectory": "Wolves",
           "upper": 0.8785625755786896
          },
          {
           "lower": 0.6641233384609222,
           "timepoint_id": 1,
           "trajectory": "Wolves",
           "upper": 0.8490899831056594
          },
          {
           "lower": 0.6312833309173584,
           "timepoint_id": 2,
           "trajectory": "Wolves",
           "upper": 0.8187080174684525
          },
          {
           "lower": 0.5993284106254577,
           "timepoint_id": 3,
           "trajectory": "Wolves",
           "upper": 0.7882281363010406
          },
          {
           "lower": 0.5684530228376389,
           "timepoint_id": 4,
           "trajectory": "Wolves",
           "upper": 0.7585157841444015
          },
          {
           "lower": 0.5389212429523468,
           "timepoint_id": 5,
           "trajectory": "Wolves",
           "upper": 0.728909558057785
          },
          {
           "lower": 0.508569210767746,
           "timepoint_id": 6,
           "trajectory": "Wolves",
           "upper": 0.699645733833313
          },
          {
           "lower": 0.47970481812953947,
           "timepoint_id": 7,
           "trajectory": "Wolves",
           "upper": 0.6709146112203598
          },
          {
           "lower": 0.4523730292916298,
           "timepoint_id": 8,
           "trajectory": "Wolves",
           "upper": 0.6427964657545089
          },
          {
           "lower": 0.4274070724844933,
           "timepoint_id": 9,
           "trajectory": "Wolves",
           "upper": 0.6151410669088363
          },
          {
           "lower": 0.4040606811642647,
           "timepoint_id": 10,
           "trajectory": "Wolves",
           "upper": 0.5883755654096603
          },
          {
           "lower": 0.38189286440610887,
           "timepoint_id": 11,
           "trajectory": "Wolves",
           "upper": 0.5625755846500397
          },
          {
           "lower": 0.3611419662833214,
           "timepoint_id": 12,
           "trajectory": "Wolves",
           "upper": 0.5377932578325272
          },
          {
           "lower": 0.3418260633945465,
           "timepoint_id": 13,
           "trajectory": "Wolves",
           "upper": 0.5140648692846298
          },
          {
           "lower": 0.32434320002794265,
           "timepoint_id": 14,
           "trajectory": "Wolves",
           "upper": 0.4914118558168411
          },
          {
           "lower": 0.308052234351635,
           "timepoint_id": 15,
           "trajectory": "Wolves",
           "upper": 0.46984291523694993
          },
          {
           "lower": 0.292301145195961,
           "timepoint_id": 16,
           "trajectory": "Wolves",
           "upper": 0.44935783445835115
          },
          {
           "lower": 0.2778008684515953,
           "timepoint_id": 17,
           "trajectory": "Wolves",
           "upper": 0.4301173686981201
          },
          {
           "lower": 0.26438556164503096,
           "timepoint_id": 18,
           "trajectory": "Wolves",
           "upper": 0.4124217718839645
          },
          {
           "lower": 0.2520015753805637,
           "timepoint_id": 19,
           "trajectory": "Wolves",
           "upper": 0.3966095671057701
          },
          {
           "lower": 0.2405976265668869,
           "timepoint_id": 20,
           "trajectory": "Wolves",
           "upper": 0.3818202704191208
          },
          {
           "lower": 0.23012515902519226,
           "timepoint_id": 21,
           "trajectory": "Wolves",
           "upper": 0.36814202964305875
          },
          {
           "lower": 0.2205386035144329,
           "timepoint_id": 22,
           "trajectory": "Wolves",
           "upper": 0.355433976650238
          },
          {
           "lower": 0.2117955356836319,
           "timepoint_id": 23,
           "trajectory": "Wolves",
           "upper": 0.3443806380033493
          },
          {
           "lower": 0.20385783836245536,
           "timepoint_id": 24,
           "trajectory": "Wolves",
           "upper": 0.3340659737586975
          },
          {
           "lower": 0.19668957069516183,
           "timepoint_id": 25,
           "trajectory": "Wolves",
           "upper": 0.3246395543217659
          },
          {
           "lower": 0.19026003256440163,
           "timepoint_id": 26,
           "trajectory": "Wolves",
           "upper": 0.31551031321287154
          },
          {
           "lower": 0.1845422215759754,
           "timepoint_id": 27,
           "trajectory": "Wolves",
           "upper": 0.30778101086616516
          },
          {
           "lower": 0.17951351404190063,
           "timepoint_id": 28,
           "trajectory": "Wolves",
           "upper": 0.3014834031462669
          },
          {
           "lower": 0.17515575438737868,
           "timepoint_id": 29,
           "trajectory": "Wolves",
           "upper": 0.2960398867726326
          },
          {
           "lower": 0.17145556807518006,
           "timepoint_id": 30,
           "trajectory": "Wolves",
           "upper": 0.29144793599843977
          },
          {
           "lower": 0.1682551011443138,
           "timepoint_id": 31,
           "trajectory": "Wolves",
           "upper": 0.2877653166651726
          },
          {
           "lower": 0.16566150188446044,
           "timepoint_id": 32,
           "trajectory": "Wolves",
           "upper": 0.28693538904190063
          },
          {
           "lower": 0.16270144805312156,
           "timepoint_id": 33,
           "trajectory": "Wolves",
           "upper": 0.2872831955552101
          },
          {
           "lower": 0.15977166518568992,
           "timepoint_id": 34,
           "trajectory": "Wolves",
           "upper": 0.2855072125792503
          },
          {
           "lower": 0.15745530575513839,
           "timepoint_id": 35,
           "trajectory": "Wolves",
           "upper": 0.28406711816787716
          },
          {
           "lower": 0.15635407567024232,
           "timepoint_id": 36,
           "trajectory": "Wolves",
           "upper": 0.28420774787664416
          },
          {
           "lower": 0.1553159050643444,
           "timepoint_id": 37,
           "trajectory": "Wolves",
           "upper": 0.2906181916594505
          },
          {
           "lower": 0.15418352782726288,
           "timepoint_id": 38,
           "trajectory": "Wolves",
           "upper": 0.2981049165129661
          },
          {
           "lower": 0.15248012393712998,
           "timepoint_id": 39,
           "trajectory": "Wolves",
           "upper": 0.30431753545999524
          },
          {
           "lower": 0.1513179808855057,
           "timepoint_id": 40,
           "trajectory": "Wolves",
           "upper": 0.31276321113109584
          },
          {
           "lower": 0.150708919018507,
           "timepoint_id": 41,
           "trajectory": "Wolves",
           "upper": 0.3227651119232177
          },
          {
           "lower": 0.15067099034786224,
           "timepoint_id": 42,
           "trajectory": "Wolves",
           "upper": 0.33444448262453075
          },
          {
           "lower": 0.15122820064425468,
           "timepoint_id": 43,
           "trajectory": "Wolves",
           "upper": 0.3479314237833023
          },
          {
           "lower": 0.1519061431288719,
           "timepoint_id": 44,
           "trajectory": "Wolves",
           "upper": 0.3636187583208084
          },
          {
           "lower": 0.15300024896860123,
           "timepoint_id": 45,
           "trajectory": "Wolves",
           "upper": 0.3816536068916321
          },
          {
           "lower": 0.1547201916575432,
           "timepoint_id": 46,
           "trajectory": "Wolves",
           "upper": 0.40196546912193293
          },
          {
           "lower": 0.15870047509670257,
           "timepoint_id": 47,
           "trajectory": "Wolves",
           "upper": 0.425565093755722
          },
          {
           "lower": 0.16432776749134065,
           "timepoint_id": 48,
           "trajectory": "Wolves",
           "upper": 0.45279376059770576
          },
          {
           "lower": 0.16942375674843788,
           "timepoint_id": 49,
           "trajectory": "Wolves",
           "upper": 0.4828007921576499
          },
          {
           "lower": 0.175539580732584,
           "timepoint_id": 50,
           "trajectory": "Wolves",
           "upper": 0.5155815362930297
          },
          {
           "lower": 0.18278886899352073,
           "timepoint_id": 51,
           "trajectory": "Wolves",
           "upper": 0.5510401755571365
          },
          {
           "lower": 0.1913030579686165,
           "timepoint_id": 52,
           "trajectory": "Wolves",
           "upper": 0.5889679074287414
          },
          {
           "lower": 0.20104168206453324,
           "timepoint_id": 53,
           "trajectory": "Wolves",
           "upper": 0.6290197759866714
          },
          {
           "lower": 0.21211343184113501,
           "timepoint_id": 54,
           "trajectory": "Wolves",
           "upper": 0.6707020252943038
          },
          {
           "lower": 0.22486768662929535,
           "timepoint_id": 55,
           "trajectory": "Wolves",
           "upper": 0.7164292693138121
          },
          {
           "lower": 0.239505136013031,
           "timepoint_id": 56,
           "trajectory": "Wolves",
           "upper": 0.7632388323545456
          },
          {
           "lower": 0.256245319545269,
           "timepoint_id": 57,
           "trajectory": "Wolves",
           "upper": 0.8089749157428742
          },
          {
           "lower": 0.27532428354024885,
           "timepoint_id": 58,
           "trajectory": "Wolves",
           "upper": 0.8524002462625504
          },
          {
           "lower": 0.2969896480441093,
           "timepoint_id": 59,
           "trajectory": "Wolves",
           "upper": 0.8927618145942687
          },
          {
           "lower": 0.32149026095867156,
           "timepoint_id": 60,
           "trajectory": "Wolves",
           "upper": 0.928539514541626
          },
          {
           "lower": 0.34906338155269623,
           "timepoint_id": 61,
           "trajectory": "Wolves",
           "upper": 0.9584593564271926
          },
          {
           "lower": 0.37991348952054976,
           "timepoint_id": 62,
           "trajectory": "Wolves",
           "upper": 0.9817579507827758
          },
          {
           "lower": 0.4126221776008606,
           "timepoint_id": 63,
           "trajectory": "Wolves",
           "upper": 0.9952844083309174
          },
          {
           "lower": 0.4471473842859268,
           "timepoint_id": 64,
           "trajectory": "Wolves",
           "upper": 0.999888813495636
          },
          {
           "lower": 0.4840144827961922,
           "timepoint_id": 65,
           "trajectory": "Wolves",
           "upper": 0.9991763532161713
          },
          {
           "lower": 0.5238396972417831,
           "timepoint_id": 66,
           "trajectory": "Wolves",
           "upper": 0.9945943206548691
          },
          {
           "lower": 0.5663493752479554,
           "timepoint_id": 67,
           "trajectory": "Wolves",
           "upper": 0.996418884396553
          },
          {
           "lower": 0.6110985726118088,
           "timepoint_id": 68,
           "trajectory": "Wolves",
           "upper": 0.9992064297199249
          },
          {
           "lower": 0.6574589967727661,
           "timepoint_id": 69,
           "trajectory": "Wolves",
           "upper": 1.000333058834076
          },
          {
           "lower": 0.7046235054731369,
           "timepoint_id": 70,
           "trajectory": "Wolves",
           "upper": 1.0065573751926422
          },
          {
           "lower": 0.7525284260511398,
           "timepoint_id": 71,
           "trajectory": "Wolves",
           "upper": 1.0058083832263947
          },
          {
           "lower": 0.7894466161727905,
           "timepoint_id": 72,
           "trajectory": "Wolves",
           "upper": 1.0090785443782806
          },
          {
           "lower": 0.817705824971199,
           "timepoint_id": 73,
           "trajectory": "Wolves",
           "upper": 1.0075386762619019
          },
          {
           "lower": 0.8005896002054215,
           "timepoint_id": 74,
           "trajectory": "Wolves",
           "upper": 1.0106054842472076
          },
          {
           "lower": 0.7775146216154099,
           "timepoint_id": 75,
           "trajectory": "Wolves",
           "upper": 1.0060164749622345
          },
          {
           "lower": 0.7466731667518616,
           "timepoint_id": 76,
           "trajectory": "Wolves",
           "upper": 1.002402228116989
          },
          {
           "lower": 0.7160019606351853,
           "timepoint_id": 77,
           "trajectory": "Wolves",
           "upper": 1.0037639915943146
          },
          {
           "lower": 0.6857686698436737,
           "timepoint_id": 78,
           "trajectory": "Wolves",
           "upper": 1.0013867408037185
          },
          {
           "lower": 0.6561907947063446,
           "timepoint_id": 79,
           "trajectory": "Wolves",
           "upper": 1.0036586046218872
          },
          {
           "lower": 0.6274442553520203,
           "timepoint_id": 80,
           "trajectory": "Wolves",
           "upper": 1.0084400415420531
          },
          {
           "lower": 0.5996661454439163,
           "timepoint_id": 81,
           "trajectory": "Wolves",
           "upper": 1.0045182228088378
          },
          {
           "lower": 0.57296042740345,
           "timepoint_id": 82,
           "trajectory": "Wolves",
           "upper": 0.9934995383024215
          },
          {
           "lower": 0.547403609752655,
           "timepoint_id": 83,
           "trajectory": "Wolves",
           "upper": 0.9773024916648865
          },
          {
           "lower": 0.5230468422174454,
           "timepoint_id": 84,
           "trajectory": "Wolves",
           "upper": 0.9568425595760346
          },
          {
           "lower": 0.49992330372333527,
           "timepoint_id": 85,
           "trajectory": "Wolves",
           "upper": 0.9327404618263244
          },
          {
           "lower": 0.478048375248909,
           "timepoint_id": 86,
           "trajectory": "Wolves",
           "upper": 0.9057140052318573
          },
          {
           "lower": 0.45742707401514054,
           "timepoint_id": 87,
           "trajectory": "Wolves",
           "upper": 0.8764394521713257
          },
          {
           "lower": 0.43804881274700164,
           "timepoint_id": 88,
           "trajectory": "Wolves",
           "upper": 0.8455302238464355
          },
          {
           "lower": 0.41914495676755903,
           "timepoint_id": 89,
           "trajectory": "Wolves",
           "upper": 0.8135338127613067
          },
          {
           "lower": 0.39964639097452165,
           "timepoint_id": 90,
           "trajectory": "Wolves",
           "upper": 0.7809252381324767
          },
          {
           "lower": 0.38090849965810775,
           "timepoint_id": 91,
           "trajectory": "Wolves",
           "upper": 0.7481121331453322
          },
          {
           "lower": 0.36345911026000977,
           "timepoint_id": 92,
           "trajectory": "Wolves",
           "upper": 0.7154356390237807
          },
          {
           "lower": 0.3472597599029541,
           "timepoint_id": 93,
           "trajectory": "Wolves",
           "upper": 0.6831769913434981
          },
          {
           "lower": 0.3300993725657463,
           "timepoint_id": 94,
           "trajectory": "Wolves",
           "upper": 0.6515639722347258
          },
          {
           "lower": 0.3140900060534477,
           "timepoint_id": 95,
           "trajectory": "Wolves",
           "upper": 0.6220583736896513
          },
          {
           "lower": 0.29845099747180937,
           "timepoint_id": 96,
           "trajectory": "Wolves",
           "upper": 0.5940448939800261
          },
          {
           "lower": 0.2848609298467636,
           "timepoint_id": 97,
           "trajectory": "Wolves",
           "upper": 0.5669990092515944
          },
          {
           "lower": 0.2750711590051651,
           "timepoint_id": 98,
           "trajectory": "Wolves",
           "upper": 0.5409881681203841
          },
          {
           "lower": 0.2662804305553436,
           "timepoint_id": 99,
           "trajectory": "Wolves",
           "upper": 0.5160592570900916
          },
          {
           "lower": 0.2568549528717995,
           "timepoint_id": 100,
           "trajectory": "Wolves",
           "upper": 0.4922410160303115
          },
          {
           "lower": 0.2453808605670929,
           "timepoint_id": 101,
           "trajectory": "Wolves",
           "upper": 0.4695479169487952
          },
          {
           "lower": 0.23483706042170524,
           "timepoint_id": 102,
           "trajectory": "Wolves",
           "upper": 0.44798238128423684
          },
          {
           "lower": 0.22517933696508408,
           "timepoint_id": 103,
           "trajectory": "Wolves",
           "upper": 0.4275363013148307
          },
          {
           "lower": 0.21632617264986037,
           "timepoint_id": 104,
           "trajectory": "Wolves",
           "upper": 0.40819491893053045
          },
          {
           "lower": 0.20827872157096863,
           "timepoint_id": 105,
           "trajectory": "Wolves",
           "upper": 0.38993706703186026
          },
          {
           "lower": 0.20180438086390495,
           "timepoint_id": 106,
           "trajectory": "Wolves",
           "upper": 0.372736433148384
          },
          {
           "lower": 0.1948359914124012,
           "timepoint_id": 107,
           "trajectory": "Wolves",
           "upper": 0.3565643206238746
          },
          {
           "lower": 0.1886773332953453,
           "timepoint_id": 108,
           "trajectory": "Wolves",
           "upper": 0.34142603725194925
          },
          {
           "lower": 0.1822824612259865,
           "timepoint_id": 109,
           "trajectory": "Wolves",
           "upper": 0.3280029445886612
          },
          {
           "lower": 0.1768182784318924,
           "timepoint_id": 110,
           "trajectory": "Wolves",
           "upper": 0.3155541613698006
          },
          {
           "lower": 0.17241908088326455,
           "timepoint_id": 111,
           "trajectory": "Wolves",
           "upper": 0.30780972689390185
          },
          {
           "lower": 0.16910969465970993,
           "timepoint_id": 112,
           "trajectory": "Wolves",
           "upper": 0.29929260164499283
          },
          {
           "lower": 0.16727722436189651,
           "timepoint_id": 113,
           "trajectory": "Wolves",
           "upper": 0.30073579549789425
          },
          {
           "lower": 0.16588936671614646,
           "timepoint_id": 114,
           "trajectory": "Wolves",
           "upper": 0.3032856702804565
          },
          {
           "lower": 0.1639499694108963,
           "timepoint_id": 115,
           "trajectory": "Wolves",
           "upper": 0.3007561579346657
          },
          {
           "lower": 0.1626553200185299,
           "timepoint_id": 116,
           "trajectory": "Wolves",
           "upper": 0.30875262916088103
          },
          {
           "lower": 0.1620188243687153,
           "timepoint_id": 117,
           "trajectory": "Wolves",
           "upper": 0.3202205196022987
          },
          {
           "lower": 0.16206154301762582,
           "timepoint_id": 118,
           "trajectory": "Wolves",
           "upper": 0.334099380671978
          },
          {
           "lower": 0.16281294375658034,
           "timepoint_id": 119,
           "trajectory": "Wolves",
           "upper": 0.3500352308154106
          },
          {
           "lower": 0.1627533718943596,
           "timepoint_id": 120,
           "trajectory": "Wolves",
           "upper": 0.3681897342205047
          },
          {
           "lower": 0.1629971034824848,
           "timepoint_id": 121,
           "trajectory": "Wolves",
           "upper": 0.3887231931090354
          },
          {
           "lower": 0.16158675104379655,
           "timepoint_id": 122,
           "trajectory": "Wolves",
           "upper": 0.41178561300039285
          },
          {
           "lower": 0.16041808053851128,
           "timepoint_id": 123,
           "trajectory": "Wolves",
           "upper": 0.4375055462121963
          },
          {
           "lower": 0.15754736736416816,
           "timepoint_id": 124,
           "trajectory": "Wolves",
           "upper": 0.46597421467304223
          },
          {
           "lower": 0.1552147835493088,
           "timepoint_id": 125,
           "trajectory": "Wolves",
           "upper": 0.4972257941961288
          },
          {
           "lower": 0.15341154709458352,
           "timepoint_id": 126,
           "trajectory": "Wolves",
           "upper": 0.5312163263559341
          },
          {
           "lower": 0.15204961746931075,
           "timepoint_id": 127,
           "trajectory": "Wolves",
           "upper": 0.5678020358085631
          },
          {
           "lower": 0.15124001801013948,
           "timepoint_id": 128,
           "trajectory": "Wolves",
           "upper": 0.6067143827676772
          },
          {
           "lower": 0.15099834725260736,
           "timepoint_id": 129,
           "trajectory": "Wolves",
           "upper": 0.6475424587726591
          },
          {
           "lower": 0.15297048538923264,
           "timepoint_id": 130,
           "trajectory": "Wolves",
           "upper": 0.6897222399711608
          },
          {
           "lower": 0.15530856102705,
           "timepoint_id": 131,
           "trajectory": "Wolves",
           "upper": 0.7325359314680098
          },
          {
           "lower": 0.154922217130661,
           "timepoint_id": 132,
           "trajectory": "Wolves",
           "upper": 0.775128862261772
          },
          {
           "lower": 0.1550935097038746,
           "timepoint_id": 133,
           "trajectory": "Wolves",
           "upper": 0.8165419191122054
          },
          {
           "lower": 0.15602648109197617,
           "timepoint_id": 134,
           "trajectory": "Wolves",
           "upper": 0.8557619512081145
          },
          {
           "lower": 0.15872434675693511,
           "timepoint_id": 135,
           "trajectory": "Wolves",
           "upper": 0.8917760968208313
          },
          {
           "lower": 0.1621825523674488,
           "timepoint_id": 136,
           "trajectory": "Wolves",
           "upper": 0.9236480355262755
          },
          {
           "lower": 0.1664690352976322,
           "timepoint_id": 137,
           "trajectory": "Wolves",
           "upper": 0.9505664110183715
          },
          {
           "lower": 0.1716640517115593,
           "timepoint_id": 138,
           "trajectory": "Wolves",
           "upper": 0.9747474461793899
          },
          {
           "lower": 0.17786126136779784,
           "timepoint_id": 139,
           "trajectory": "Wolves",
           "upper": 0.9923914164304733
          },
          {
           "lower": 0.1851704627275467,
           "timepoint_id": 140,
           "trajectory": "Wolves",
           "upper": 0.9977774322032928
          },
          {
           "lower": 0.19371743574738504,
           "timepoint_id": 141,
           "trajectory": "Wolves",
           "upper": 0.9930166512727737
          },
          {
           "lower": 0.20364718586206437,
           "timepoint_id": 142,
           "trajectory": "Wolves",
           "upper": 0.9828639149665832
          },
          {
           "lower": 0.21503195986151696,
           "timepoint_id": 143,
           "trajectory": "Wolves",
           "upper": 0.9812245339155197
          },
          {
           "lower": 0.22812195122241974,
           "timepoint_id": 144,
           "trajectory": "Wolves",
           "upper": 0.9861322522163392
          },
          {
           "lower": 0.24313153102993965,
           "timepoint_id": 145,
           "trajectory": "Wolves",
           "upper": 0.9755009979009628
          },
          {
           "lower": 0.2602828934788704,
           "timepoint_id": 146,
           "trajectory": "Wolves",
           "upper": 0.9892365634441376
          },
          {
           "lower": 0.27981317788362503,
           "timepoint_id": 147,
           "trajectory": "Wolves",
           "upper": 0.9977049201726913
          },
          {
           "lower": 0.3019690975546837,
           "timepoint_id": 148,
           "trajectory": "Wolves",
           "upper": 0.9995893061161041
          },
          {
           "lower": 0.32699553817510607,
           "timepoint_id": 149,
           "trajectory": "Wolves",
           "upper": 0.9988284707069397
          },
          {
           "lower": 0.3521470993757248,
           "timepoint_id": 150,
           "trajectory": "Wolves",
           "upper": 0.9993571370840073
          },
          {
           "lower": 0.37960807234048843,
           "timepoint_id": 151,
           "trajectory": "Wolves",
           "upper": 1.0005356311798095
          },
          {
           "lower": 0.40954194217920303,
           "timepoint_id": 152,
           "trajectory": "Wolves",
           "upper": 1.0013312101364136
          },
          {
           "lower": 0.4423285946249962,
           "timepoint_id": 153,
           "trajectory": "Wolves",
           "upper": 1.0075413048267365
          },
          {
           "lower": 0.4781190812587738,
           "timepoint_id": 154,
           "trajectory": "Wolves",
           "upper": 1.0118739128112793
          },
          {
           "lower": 0.516811516880989,
           "timepoint_id": 155,
           "trajectory": "Wolves",
           "upper": 1.0101054847240447
          },
          {
           "lower": 0.5441705912351609,
           "timepoint_id": 156,
           "trajectory": "Wolves",
           "upper": 1.0067384481430053
          },
          {
           "lower": 0.568549570441246,
           "timepoint_id": 157,
           "trajectory": "Wolves",
           "upper": 1.002038586139679
          },
          {
           "lower": 0.5429022997617722,
           "timepoint_id": 158,
           "trajectory": "Wolves",
           "upper": 1.0011488199234009
          },
          {
           "lower": 0.5336899936199189,
           "timepoint_id": 159,
           "trajectory": "Wolves",
           "upper": 0.9971868366003036
          },
          {
           "lower": 0.5072744593024254,
           "timepoint_id": 160,
           "trajectory": "Wolves",
           "upper": 0.9897120624780655
          },
          {
           "lower": 0.48223721534013747,
           "timepoint_id": 161,
           "trajectory": "Wolves",
           "upper": 0.9831840842962265
          },
          {
           "lower": 0.4597930729389191,
           "timepoint_id": 162,
           "trajectory": "Wolves",
           "upper": 0.9957805424928665
          },
          {
           "lower": 0.4402854099869728,
           "timepoint_id": 163,
           "trajectory": "Wolves",
           "upper": 1.0009864032268525
          },
          {
           "lower": 0.42200980633497237,
           "timepoint_id": 164,
           "trajectory": "Wolves",
           "upper": 1.0010557353496552
          },
          {
           "lower": 0.40494498014450075,
           "timepoint_id": 165,
           "trajectory": "Wolves",
           "upper": 0.9978171199560165
          },
          {
           "lower": 0.3890667766332626,
           "timepoint_id": 166,
           "trajectory": "Wolves",
           "upper": 0.9965868800878525
          },
          {
           "lower": 0.3743485063314438,
           "timepoint_id": 167,
           "trajectory": "Wolves",
           "upper": 0.998455336689949
          },
          {
           "lower": 0.3607614189386368,
           "timepoint_id": 168,
           "trajectory": "Wolves",
           "upper": 0.9998154699802398
          },
          {
           "lower": 0.3482774034142494,
           "timepoint_id": 169,
           "trajectory": "Wolves",
           "upper": 1.0002733141183853
          },
          {
           "lower": 0.3368685841560364,
           "timepoint_id": 170,
           "trajectory": "Wolves",
           "upper": 0.9956602454185486
          },
          {
           "lower": 0.3265078768134117,
           "timepoint_id": 171,
           "trajectory": "Wolves",
           "upper": 0.9811929523944855
          },
          {
           "lower": 0.3171424388885498,
           "timepoint_id": 172,
           "trajectory": "Wolves",
           "upper": 0.9618608713150024
          },
          {
           "lower": 0.3085785865783691,
           "timepoint_id": 173,
           "trajectory": "Wolves",
           "upper": 0.9382475227117538
          },
          {
           "lower": 0.3010013967752457,
           "timepoint_id": 174,
           "trajectory": "Wolves",
           "upper": 0.9111802756786347
          },
          {
           "lower": 0.2920254796743393,
           "timepoint_id": 175,
           "trajectory": "Wolves",
           "upper": 0.8814419984817505
          },
          {
           "lower": 0.28120449781417844,
           "timepoint_id": 176,
           "trajectory": "Wolves",
           "upper": 0.8504221975803375
          },
          {
           "lower": 0.26939221322536466,
           "timepoint_id": 177,
           "trajectory": "Wolves",
           "upper": 0.8195193082094192
          },
          {
           "lower": 0.25854006707668303,
           "timepoint_id": 178,
           "trajectory": "Wolves",
           "upper": 0.7879701435565949
          },
          {
           "lower": 0.25412780195474627,
           "timepoint_id": 179,
           "trajectory": "Wolves",
           "upper": 0.7561036467552185
          },
          {
           "lower": 0.2500698037445545,
           "timepoint_id": 180,
           "trajectory": "Wolves",
           "upper": 0.7242607533931732
          },
          {
           "lower": 0.24498572200536728,
           "timepoint_id": 181,
           "trajectory": "Wolves",
           "upper": 0.692724061012268
          },
          {
           "lower": 0.23654634952545167,
           "timepoint_id": 182,
           "trajectory": "Wolves",
           "upper": 0.6617236942052841
          },
          {
           "lower": 0.22896385863423346,
           "timepoint_id": 183,
           "trajectory": "Wolves",
           "upper": 0.6314462453126907
          },
          {
           "lower": 0.22203873470425606,
           "timepoint_id": 184,
           "trajectory": "Wolves",
           "upper": 0.602038112282753
          },
          {
           "lower": 0.2138136386871338,
           "timepoint_id": 185,
           "trajectory": "Wolves",
           "upper": 0.5736097812652587
          },
          {
           "lower": 0.20605550929903985,
           "timepoint_id": 186,
           "trajectory": "Wolves",
           "upper": 0.5462440490722655
          },
          {
           "lower": 0.20027177259325982,
           "timepoint_id": 187,
           "trajectory": "Wolves",
           "upper": 0.5199971854686737
          },
          {
           "lower": 0.19767072200775146,
           "timepoint_id": 188,
           "trajectory": "Wolves",
           "upper": 0.49490585774183266
          },
          {
           "lower": 0.19202626794576644,
           "timepoint_id": 189,
           "trajectory": "Wolves",
           "upper": 0.4709893852472305
          },
          {
           "lower": 0.18630552366375924,
           "timepoint_id": 190,
           "trajectory": "Wolves",
           "upper": 0.44825136810541144
          },
          {
           "lower": 0.1812824599444866,
           "timepoint_id": 191,
           "trajectory": "Wolves",
           "upper": 0.42668551057577125
          },
          {
           "lower": 0.17693950831890107,
           "timepoint_id": 192,
           "trajectory": "Wolves",
           "upper": 0.40627554655075065
          },
          {
           "lower": 0.17324449941515924,
           "timepoint_id": 193,
           "trajectory": "Wolves",
           "upper": 0.4030626893043518
          },
          {
           "lower": 0.1699801467359066,
           "timepoint_id": 194,
           "trajectory": "Wolves",
           "upper": 0.41938123404979705
          },
          {
           "lower": 0.16804226040840148,
           "timepoint_id": 195,
           "trajectory": "Wolves",
           "upper": 0.4239849567413329
          },
          {
           "lower": 0.1663979098200798,
           "timepoint_id": 196,
           "trajectory": "Wolves",
           "upper": 0.40634532272815693
          },
          {
           "lower": 0.1647381938993931,
           "timepoint_id": 197,
           "trajectory": "Wolves",
           "upper": 0.4069538936018944
          },
          {
           "lower": 0.1636613830924034,
           "timepoint_id": 198,
           "trajectory": "Wolves",
           "upper": 0.42307848632335654
          },
          {
           "lower": 0.16307924538850785,
           "timepoint_id": 199,
           "trajectory": "Wolves",
           "upper": 0.45002248883247364
          },
          {
           "lower": 0.1631910242140293,
           "timepoint_id": 200,
           "trajectory": "Wolves",
           "upper": 0.47973577231168735
          },
          {
           "lower": 0.1640276603400707,
           "timepoint_id": 201,
           "trajectory": "Wolves",
           "upper": 0.5122190564870833
          },
          {
           "lower": 0.16413161009550095,
           "timepoint_id": 202,
           "trajectory": "Wolves",
           "upper": 0.5473854094743728
          },
          {
           "lower": 0.16348991319537162,
           "timepoint_id": 203,
           "trajectory": "Wolves",
           "upper": 0.5850378274917601
          },
          {
           "lower": 0.16351921632885932,
           "timepoint_id": 204,
           "trajectory": "Wolves",
           "upper": 0.6248426437377929
          },
          {
           "lower": 0.16417717114090918,
           "timepoint_id": 205,
           "trajectory": "Wolves",
           "upper": 0.6663227587938307
          },
          {
           "lower": 0.1669645145535469,
           "timepoint_id": 206,
           "trajectory": "Wolves",
           "upper": 0.7088437467813491
          },
          {
           "lower": 0.16852254420518875,
           "timepoint_id": 207,
           "trajectory": "Wolves",
           "upper": 0.7516247153282164
          },
          {
           "lower": 0.16876422837376595,
           "timepoint_id": 208,
           "trajectory": "Wolves",
           "upper": 0.7937631100416183
          },
          {
           "lower": 0.16696756705641747,
           "timepoint_id": 209,
           "trajectory": "Wolves",
           "upper": 0.8342687219381331
          },
          {
           "lower": 0.16534425914287568,
           "timepoint_id": 210,
           "trajectory": "Wolves",
           "upper": 0.8721249610185622
          },
          {
           "lower": 0.16089281365275382,
           "timepoint_id": 211,
           "trajectory": "Wolves",
           "upper": 0.9063484132289885
          },
          {
           "lower": 0.15697359889745713,
           "timepoint_id": 212,
           "trajectory": "Wolves",
           "upper": 0.9360553205013274
          },
          {
           "lower": 0.154640594124794,
           "timepoint_id": 213,
           "trajectory": "Wolves",
           "upper": 0.9605146616697311
          },
          {
           "lower": 0.15332131534814836,
           "timepoint_id": 214,
           "trajectory": "Wolves",
           "upper": 0.9791977941989898
          },
          {
           "lower": 0.15479821115732192,
           "timepoint_id": 215,
           "trajectory": "Wolves",
           "upper": 0.9899740725755691
          },
          {
           "lower": 0.1562502309679985,
           "timepoint_id": 216,
           "trajectory": "Wolves",
           "upper": 0.9913704872131348
          },
          {
           "lower": 0.15635684356093407,
           "timepoint_id": 217,
           "trajectory": "Wolves",
           "upper": 0.9836450457572936
          },
          {
           "lower": 0.15691652297973632,
           "timepoint_id": 218,
           "trajectory": "Wolves",
           "upper": 0.9693858861923217
          },
          {
           "lower": 0.1567702919244766,
           "timepoint_id": 219,
           "trajectory": "Wolves",
           "upper": 0.957481563091278
          },
          {
           "lower": 0.15576769188046455,
           "timepoint_id": 220,
           "trajectory": "Wolves",
           "upper": 0.9601654708385468
          },
          {
           "lower": 0.15524135902523994,
           "timepoint_id": 221,
           "trajectory": "Wolves",
           "upper": 0.9679513245820999
          },
          {
           "lower": 0.15515390932559966,
           "timepoint_id": 222,
           "trajectory": "Wolves",
           "upper": 0.9604407727718353
          },
          {
           "lower": 0.15675759613513945,
           "timepoint_id": 223,
           "trajectory": "Wolves",
           "upper": 0.9531516194343567
          },
          {
           "lower": 0.15964649021625518,
           "timepoint_id": 224,
           "trajectory": "Wolves",
           "upper": 0.9758219718933105
          },
          {
           "lower": 0.1633138231933117,
           "timepoint_id": 225,
           "trajectory": "Wolves",
           "upper": 0.9886273086071015
          },
          {
           "lower": 0.16777151376008986,
           "timepoint_id": 226,
           "trajectory": "Wolves",
           "upper": 0.9938872128725051
          },
          {
           "lower": 0.17308537811040878,
           "timepoint_id": 227,
           "trajectory": "Wolves",
           "upper": 0.998961278796196
          },
          {
           "lower": 0.17941494137048722,
           "timepoint_id": 228,
           "trajectory": "Wolves",
           "upper": 0.9986775547266007
          },
          {
           "lower": 0.18687143698334693,
           "timepoint_id": 229,
           "trajectory": "Wolves",
           "upper": 0.9936696499586105
          },
          {
           "lower": 0.19558281004428862,
           "timepoint_id": 230,
           "trajectory": "Wolves",
           "upper": 0.9958069503307342
          },
          {
           "lower": 0.2056956894695759,
           "timepoint_id": 231,
           "trajectory": "Wolves",
           "upper": 0.9991126477718353
          },
          {
           "lower": 0.21737605109810829,
           "timepoint_id": 232,
           "trajectory": "Wolves",
           "upper": 0.9998131990432739
          },
          {
           "lower": 0.23081071451306343,
           "timepoint_id": 233,
           "trajectory": "Wolves",
           "upper": 1.0008575558662414
          },
          {
           "lower": 0.24620597064495087,
           "timepoint_id": 234,
           "trajectory": "Wolves",
           "upper": 1.0023418217897415
          },
          {
           "lower": 0.2637864500284195,
           "timepoint_id": 235,
           "trajectory": "Wolves",
           "upper": 1.0047442853450774
          },
          {
           "lower": 0.2813341706991196,
           "timepoint_id": 236,
           "trajectory": "Wolves",
           "upper": 1.0071383357048034
          },
          {
           "lower": 0.300195649266243,
           "timepoint_id": 237,
           "trajectory": "Wolves",
           "upper": 1.0098597288131714
          },
          {
           "lower": 0.3214712753891945,
           "timepoint_id": 238,
           "trajectory": "Wolves",
           "upper": 1.0062338650226592
          },
          {
           "lower": 0.34536351412534716,
           "timepoint_id": 239,
           "trajectory": "Wolves",
           "upper": 1.0044687688350677
          },
          {
           "lower": 0.367728054523468,
           "timepoint_id": 240,
           "trajectory": "Wolves",
           "upper": 1.0002803087234498
          },
          {
           "lower": 0.38795277923345567,
           "timepoint_id": 241,
           "trajectory": "Wolves",
           "upper": 0.9997890084981919
          },
          {
           "lower": 0.37223185151815413,
           "timepoint_id": 242,
           "trajectory": "Wolves",
           "upper": 1.0002581000328064
          },
          {
           "lower": 0.35696167796850203,
           "timepoint_id": 243,
           "trajectory": "Wolves",
           "upper": 0.9956646740436554
          },
          {
           "lower": 0.3499200239777565,
           "timepoint_id": 244,
           "trajectory": "Wolves",
           "upper": 0.9856657922267914
          },
          {
           "lower": 0.3383984312415123,
           "timepoint_id": 245,
           "trajectory": "Wolves",
           "upper": 0.97026427090168
          },
          {
           "lower": 0.3279294118285179,
           "timepoint_id": 246,
           "trajectory": "Wolves",
           "upper": 0.9504680514335632
          },
          {
           "lower": 0.3184893622994423,
           "timepoint_id": 247,
           "trajectory": "Wolves",
           "upper": 0.9639508128166199
          },
          {
           "lower": 0.3100573495030403,
           "timepoint_id": 248,
           "trajectory": "Wolves",
           "upper": 0.9828543901443482
          },
          {
           "lower": 0.30261566340923307,
           "timepoint_id": 249,
           "trajectory": "Wolves",
           "upper": 0.9932814210653305
          },
          {
           "lower": 0.2958703711628914,
           "timepoint_id": 250,
           "trajectory": "Wolves",
           "upper": 1.0015631079673768
          },
          {
           "lower": 0.290073935687542,
           "timepoint_id": 251,
           "trajectory": "Wolves",
           "upper": 1.00171440243721
          },
          {
           "lower": 0.2852397307753563,
           "timepoint_id": 252,
           "trajectory": "Wolves",
           "upper": 0.9975081235170364
          },
          {
           "lower": 0.28125953674316406,
           "timepoint_id": 253,
           "trajectory": "Wolves",
           "upper": 0.9917439252138137
          },
          {
           "lower": 0.2763360753655434,
           "timepoint_id": 254,
           "trajectory": "Wolves",
           "upper": 0.9886632561683655
          },
          {
           "lower": 0.27026546001434326,
           "timepoint_id": 255,
           "trajectory": "Wolves",
           "upper": 0.992416152358055
          },
          {
           "lower": 0.2641956403851509,
           "timepoint_id": 256,
           "trajectory": "Wolves",
           "upper": 0.9974153727293015
          },
          {
           "lower": 0.25686232149600985,
           "timepoint_id": 257,
           "trajectory": "Wolves",
           "upper": 0.9975637286901474
          },
          {
           "lower": 0.2524468004703522,
           "timepoint_id": 258,
           "trajectory": "Wolves",
           "upper": 0.9941886335611343
          },
          {
           "lower": 0.250233206897974,
           "timepoint_id": 259,
           "trajectory": "Wolves",
           "upper": 0.9922847658395767
          },
          {
           "lower": 0.24744433909654617,
           "timepoint_id": 260,
           "trajectory": "Wolves",
           "upper": 0.9774287074804305
          },
          {
           "lower": 0.24069003984332085,
           "timepoint_id": 261,
           "trajectory": "Wolves",
           "upper": 0.9576320976018905
          },
          {
           "lower": 0.23299262896180153,
           "timepoint_id": 262,
           "trajectory": "Wolves",
           "upper": 0.9337229430675507
          },
          {
           "lower": 0.22615034729242325,
           "timepoint_id": 263,
           "trajectory": "Wolves",
           "upper": 0.9065086483955382
          },
          {
           "lower": 0.22014274969696998,
           "timepoint_id": 264,
           "trajectory": "Wolves",
           "upper": 0.8767463326454162
          },
          {
           "lower": 0.21495493426918982,
           "timepoint_id": 265,
           "trajectory": "Wolves",
           "upper": 0.8451279789209365
          },
          {
           "lower": 0.21040329113602638,
           "timepoint_id": 266,
           "trajectory": "Wolves",
           "upper": 0.8122650057077407
          },
          {
           "lower": 0.20782150849699974,
           "timepoint_id": 267,
           "trajectory": "Wolves",
           "upper": 0.7786888509988784
          },
          {
           "lower": 0.20393504947423935,
           "timepoint_id": 268,
           "trajectory": "Wolves",
           "upper": 0.7448512762784957
          },
          {
           "lower": 0.1997904509305954,
           "timepoint_id": 269,
           "trajectory": "Wolves",
           "upper": 0.711536556482315
          },
          {
           "lower": 0.19380126595497132,
           "timepoint_id": 270,
           "trajectory": "Wolves",
           "upper": 0.6800334751605986
          },
          {
           "lower": 0.18869468942284584,
           "timepoint_id": 271,
           "trajectory": "Wolves",
           "upper": 0.6491338193416595
          },
          {
           "lower": 0.1845427230000496,
           "timepoint_id": 272,
           "trajectory": "Wolves",
           "upper": 0.6190116941928863
          },
          {
           "lower": 0.18000969290733337,
           "timepoint_id": 273,
           "trajectory": "Wolves",
           "upper": 0.5898068785667419
          },
          {
           "lower": 0.17606869861483573,
           "timepoint_id": 274,
           "trajectory": "Wolves",
           "upper": 0.5842533469200134
          },
          {
           "lower": 0.17280452623963355,
           "timepoint_id": 275,
           "trajectory": "Wolves",
           "upper": 0.6242456018924712
          },
          {
           "lower": 0.17038027569651604,
           "timepoint_id": 276,
           "trajectory": "Wolves",
           "upper": 0.6405353367328643
          },
          {
           "lower": 0.17137352749705315,
           "timepoint_id": 277,
           "trajectory": "Wolves",
           "upper": 0.6109578549861907
          },
          {
           "lower": 0.17117936834692954,
           "timepoint_id": 278,
           "trajectory": "Wolves",
           "upper": 0.5901211947202682
          },
          {
           "lower": 0.16935733556747437,
           "timepoint_id": 279,
           "trajectory": "Wolves",
           "upper": 0.602705419063568
          },
          {
           "lower": 0.16538334637880325,
           "timepoint_id": 280,
           "trajectory": "Wolves",
           "upper": 0.6432965725660322
          },
          {
           "lower": 0.16492010951042174,
           "timepoint_id": 281,
           "trajectory": "Wolves",
           "upper": 0.6852882236242293
          },
          {
           "lower": 0.16513916999101638,
           "timepoint_id": 282,
           "trajectory": "Wolves",
           "upper": 0.7279811799526212
          },
          {
           "lower": 0.16611068099737167,
           "timepoint_id": 283,
           "trajectory": "Wolves",
           "upper": 0.770535635948181
          },
          {
           "lower": 0.16611216142773627,
           "timepoint_id": 284,
           "trajectory": "Wolves",
           "upper": 0.8120082557201383
          },
          {
           "lower": 0.16527557000517845,
           "timepoint_id": 285,
           "trajectory": "Wolves",
           "upper": 0.8513918578624724
          },
          {
           "lower": 0.16442229971289635,
           "timepoint_id": 286,
           "trajectory": "Wolves",
           "upper": 0.887682408094406
          },
          {
           "lower": 0.16423994824290275,
           "timepoint_id": 287,
           "trajectory": "Wolves",
           "upper": 0.9199351370334624
          },
          {
           "lower": 0.16475595831871032,
           "timepoint_id": 288,
           "trajectory": "Wolves",
           "upper": 0.947332864999771
          },
          {
           "lower": 0.16838487461209298,
           "timepoint_id": 289,
           "trajectory": "Wolves",
           "upper": 0.9692333668470382
          },
          {
           "lower": 0.17303766161203385,
           "timepoint_id": 290,
           "trajectory": "Wolves",
           "upper": 0.9841682225465774
          },
          {
           "lower": 0.1767550677061081,
           "timepoint_id": 291,
           "trajectory": "Wolves",
           "upper": 0.9848017454147339
          },
          {
           "lower": 0.1763964533805847,
           "timepoint_id": 292,
           "trajectory": "Wolves",
           "upper": 0.9717929661273956
          },
          {
           "lower": 0.17324413508176803,
           "timepoint_id": 293,
           "trajectory": "Wolves",
           "upper": 0.9724552452564238
          },
          {
           "lower": 0.1732856586575508,
           "timepoint_id": 294,
           "trajectory": "Wolves",
           "upper": 0.9535309344530104
          },
          {
           "lower": 0.1748480811715126,
           "timepoint_id": 295,
           "trajectory": "Wolves",
           "upper": 0.9326310396194456
          },
          {
           "lower": 0.1762670285999775,
           "timepoint_id": 296,
           "trajectory": "Wolves",
           "upper": 0.9295841276645659
          },
          {
           "lower": 0.1725742846727371,
           "timepoint_id": 297,
           "trajectory": "Wolves",
           "upper": 0.93381769657135
          },
          {
           "lower": 0.16734498590230942,
           "timepoint_id": 298,
           "trajectory": "Wolves",
           "upper": 0.9433647364377975
          },
          {
           "lower": 0.16266994401812554,
           "timepoint_id": 299,
           "trajectory": "Wolves",
           "upper": 0.9434632927179335
          },
          {
           "lower": 0.16204190626740456,
           "timepoint_id": 300,
           "trajectory": "Wolves",
           "upper": 0.929745441675186
          },
          {
           "lower": 0.16401308104395868,
           "timepoint_id": 301,
           "trajectory": "Wolves",
           "upper": 0.9312633752822875
          },
          {
           "lower": 0.1610918827354908,
           "timepoint_id": 302,
           "trajectory": "Wolves",
           "upper": 0.9575984060764312
          },
          {
           "lower": 0.1595179870724678,
           "timepoint_id": 303,
           "trajectory": "Wolves",
           "upper": 0.9786773830652237
          },
          {
           "lower": 0.15940841659903526,
           "timepoint_id": 304,
           "trajectory": "Wolves",
           "upper": 0.9792006373405456
          },
          {
           "lower": 0.15988668873906137,
           "timepoint_id": 305,
           "trajectory": "Wolves",
           "upper": 0.9875351130962372
          },
          {
           "lower": 0.16055451333522797,
           "timepoint_id": 306,
           "trajectory": "Wolves",
           "upper": 0.9977742075920105
          },
          {
           "lower": 0.15932910442352294,
           "timepoint_id": 307,
           "trajectory": "Wolves",
           "upper": 0.9986422032117843
          },
          {
           "lower": 0.15757134035229683,
           "timepoint_id": 308,
           "trajectory": "Wolves",
           "upper": 0.989025405049324
          },
          {
           "lower": 0.15634625032544136,
           "timepoint_id": 309,
           "trajectory": "Wolves",
           "upper": 0.9840576946735382
          },
          {
           "lower": 0.15566499382257462,
           "timepoint_id": 310,
           "trajectory": "Wolves",
           "upper": 0.9887935400009156
          },
          {
           "lower": 0.15536050274968147,
           "timepoint_id": 311,
           "trajectory": "Wolves",
           "upper": 0.9944401711225509
          },
          {
           "lower": 0.15766284391283988,
           "timepoint_id": 312,
           "trajectory": "Wolves",
           "upper": 0.9981949865818024
          },
          {
           "lower": 0.16062793880701065,
           "timepoint_id": 313,
           "trajectory": "Wolves",
           "upper": 0.9991020292043686
          },
          {
           "lower": 0.16433920487761497,
           "timepoint_id": 314,
           "trajectory": "Wolves",
           "upper": 1.0005050778388977
          },
          {
           "lower": 0.1689063861966133,
           "timepoint_id": 315,
           "trajectory": "Wolves",
           "upper": 0.9980441331863403
          },
          {
           "lower": 0.1744140401482582,
           "timepoint_id": 316,
           "trajectory": "Wolves",
           "upper": 1.002093893289566
          },
          {
           "lower": 0.180960863083601,
           "timepoint_id": 317,
           "trajectory": "Wolves",
           "upper": 1.0046568274497987
          },
          {
           "lower": 0.18866176828742026,
           "timepoint_id": 318,
           "trajectory": "Wolves",
           "upper": 1.0050383269786836
          },
          {
           "lower": 0.19764822348952293,
           "timepoint_id": 319,
           "trajectory": "Wolves",
           "upper": 1.0042850017547607
          },
          {
           "lower": 0.2080702915787697,
           "timepoint_id": 320,
           "trajectory": "Wolves",
           "upper": 1.0060572564601897
          },
          {
           "lower": 0.22009876295924188,
           "timepoint_id": 321,
           "trajectory": "Wolves",
           "upper": 1.0043819844722748
          },
          {
           "lower": 0.23392256274819376,
           "timepoint_id": 322,
           "trajectory": "Wolves",
           "upper": 1.0045744061470032
          },
          {
           "lower": 0.24646704196929933,
           "timepoint_id": 323,
           "trajectory": "Wolves",
           "upper": 0.999964925646782
          },
          {
           "lower": 0.258404316008091,
           "timepoint_id": 324,
           "trajectory": "Wolves",
           "upper": 0.9990847498178482
          },
          {
           "lower": 0.2694392278790474,
           "timepoint_id": 325,
           "trajectory": "Wolves",
           "upper": 0.9982341974973679
          },
          {
           "lower": 0.2790683969855309,
           "timepoint_id": 326,
           "trajectory": "Wolves",
           "upper": 0.9961802691221237
          },
          {
           "lower": 0.271256597340107,
           "timepoint_id": 327,
           "trajectory": "Wolves",
           "upper": 0.9862695634365081
          },
          {
           "lower": 0.2650373473763466,
           "timepoint_id": 328,
           "trajectory": "Wolves",
           "upper": 0.9797636747360229
          },
          {
           "lower": 0.2695761099457741,
           "timepoint_id": 329,
           "trajectory": "Wolves",
           "upper": 0.9708830118179321
          },
          {
           "lower": 0.27450200766324995,
           "timepoint_id": 330,
           "trajectory": "Wolves",
           "upper": 0.9488632947206497
          },
          {
           "lower": 0.2709284335374832,
           "timepoint_id": 331,
           "trajectory": "Wolves",
           "upper": 0.9224707871675492
          },
          {
           "lower": 0.2682962015271187,
           "timepoint_id": 332,
           "trajectory": "Wolves",
           "upper": 0.915161994099617
          },
          {
           "lower": 0.2666212901473045,
           "timepoint_id": 333,
           "trajectory": "Wolves",
           "upper": 0.9424799859523774
          },
          {
           "lower": 0.26394947469234464,
           "timepoint_id": 334,
           "trajectory": "Wolves",
           "upper": 0.9665680795907974
          },
          {
           "lower": 0.266243776679039,
           "timepoint_id": 335,
           "trajectory": "Wolves",
           "upper": 0.9792508184909821
          },
          {
           "lower": 0.2637952476739883,
           "timepoint_id": 336,
           "trajectory": "Wolves",
           "upper": 0.9932046800851821
          },
          {
           "lower": 0.25837850794196127,
           "timepoint_id": 337,
           "trajectory": "Wolves",
           "upper": 1.0007458627223969
          },
          {
           "lower": 0.25344827473163606,
           "timepoint_id": 338,
           "trajectory": "Wolves",
           "upper": 1.0012211203575134
          },
          {
           "lower": 0.24386561065912246,
           "timepoint_id": 339,
           "trajectory": "Wolves",
           "upper": 0.995558163523674
          },
          {
           "lower": 0.23652473539114,
           "timepoint_id": 340,
           "trajectory": "Wolves",
           "upper": 0.9877487063407898
          },
          {
           "lower": 0.23099110648036003,
           "timepoint_id": 341,
           "trajectory": "Wolves",
           "upper": 0.9768257975578308
          },
          {
           "lower": 0.22627165019512177,
           "timepoint_id": 342,
           "trajectory": "Wolves",
           "upper": 0.9792587578296661
          },
          {
           "lower": 0.22236145287752151,
           "timepoint_id": 343,
           "trajectory": "Wolves",
           "upper": 0.986902728676796
          },
          {
           "lower": 0.2194741278886795,
           "timepoint_id": 344,
           "trajectory": "Wolves",
           "upper": 0.98967787027359
          },
          {
           "lower": 0.21946358680725098,
           "timepoint_id": 345,
           "trajectory": "Wolves",
           "upper": 0.9947674691677093
          },
          {
           "lower": 0.21704072132706642,
           "timepoint_id": 346,
           "trajectory": "Wolves",
           "upper": 0.9874040722846985
          },
          {
           "lower": 0.21221753284335138,
           "timepoint_id": 347,
           "trajectory": "Wolves",
           "upper": 0.9867628872394562
          },
          {
           "lower": 0.2088850162923336,
           "timepoint_id": 348,
           "trajectory": "Wolves",
           "upper": 0.9872895181179047
          },
          {
           "lower": 0.2051271066069603,
           "timepoint_id": 349,
           "trajectory": "Wolves",
           "upper": 0.9737116515636444
          },
          {
           "lower": 0.19921137690544127,
           "timepoint_id": 350,
           "trajectory": "Wolves",
           "upper": 0.9534397929906844
          },
          {
           "lower": 0.19328893572092057,
           "timepoint_id": 351,
           "trajectory": "Wolves",
           "upper": 0.9291817784309386
          },
          {
           "lower": 0.1880706124007702,
           "timepoint_id": 352,
           "trajectory": "Wolves",
           "upper": 0.9017300635576246
          },
          {
           "lower": 0.18374776765704154,
           "timepoint_id": 353,
           "trajectory": "Wolves",
           "upper": 0.8718287050724028
          },
          {
           "lower": 0.18044356778264045,
           "timepoint_id": 354,
           "trajectory": "Wolves",
           "upper": 0.8401537984609603
          },
          {
           "lower": 0.17781589925289154,
           "timepoint_id": 355,
           "trajectory": "Wolves",
           "upper": 0.838287615776062
          },
          {
           "lower": 0.17685115560889245,
           "timepoint_id": 356,
           "trajectory": "Wolves",
           "upper": 0.8782581955194473
          },
          {
           "lower": 0.17651358023285865,
           "timepoint_id": 357,
           "trajectory": "Wolves",
           "upper": 0.9031823456287383
          },
          {
           "lower": 0.17541647106409072,
           "timepoint_id": 358,
           "trajectory": "Wolves",
           "upper": 0.8767389118671417
          },
          {
           "lower": 0.17425118684768676,
           "timepoint_id": 359,
           "trajectory": "Wolves",
           "upper": 0.8459935784339905
          },
          {
           "lower": 0.17419764325022696,
           "timepoint_id": 360,
           "trajectory": "Wolves",
           "upper": 0.8399101436138152
          },
          {
           "lower": 0.17339342311024666,
           "timepoint_id": 361,
           "trajectory": "Wolves",
           "upper": 0.867813330888748
          },
          {
           "lower": 0.17133173942565919,
           "timepoint_id": 362,
           "trajectory": "Wolves",
           "upper": 0.9023440331220626
          },
          {
           "lower": 0.17077715024352075,
           "timepoint_id": 363,
           "trajectory": "Wolves",
           "upper": 0.9324636578559874
          },
          {
           "lower": 0.1690235637128353,
           "timepoint_id": 364,
           "trajectory": "Wolves",
           "upper": 0.9574289798736572
          },
          {
           "lower": 0.16846948787569999,
           "timepoint_id": 365,
           "trajectory": "Wolves",
           "upper": 0.9766945660114288
          },
          {
           "lower": 0.16690961197018622,
           "timepoint_id": 366,
           "trajectory": "Wolves",
           "upper": 0.9784235924482345
          },
          {
           "lower": 0.1658799521625042,
           "timepoint_id": 367,
           "trajectory": "Wolves",
           "upper": 0.9686709612607955
          },
          {
           "lower": 0.16550885662436485,
           "timepoint_id": 368,
           "trajectory": "Wolves",
           "upper": 0.9483280420303345
          },
          {
           "lower": 0.16554983854293823,
           "timepoint_id": 369,
           "trajectory": "Wolves",
           "upper": 0.9513815075159071
          },
          {
           "lower": 0.16551879644393921,
           "timepoint_id": 370,
           "trajectory": "Wolves",
           "upper": 0.938515371084213
          },
          {
           "lower": 0.1666104257106781,
           "timepoint_id": 371,
           "trajectory": "Wolves",
           "upper": 0.9142257273197172
          },
          {
           "lower": 0.16982588320970535,
           "timepoint_id": 372,
           "trajectory": "Wolves",
           "upper": 0.8906619012355802
          },
          {
           "lower": 0.17467070892453193,
           "timepoint_id": 373,
           "trajectory": "Wolves",
           "upper": 0.8956397712230681
          },
          {
           "lower": 0.17906989976763726,
           "timepoint_id": 374,
           "trajectory": "Wolves",
           "upper": 0.9054218500852584
          },
          {
           "lower": 0.18450178802013398,
           "timepoint_id": 375,
           "trajectory": "Wolves",
           "upper": 0.9133259296417235
          },
          {
           "lower": 0.18393647372722627,
           "timepoint_id": 376,
           "trajectory": "Wolves",
           "upper": 0.9148140907287595
          },
          {
           "lower": 0.17978139147162436,
           "timepoint_id": 377,
           "trajectory": "Wolves",
           "upper": 0.9014464795589444
          },
          {
           "lower": 0.17623483017086983,
           "timepoint_id": 378,
           "trajectory": "Wolves",
           "upper": 0.9042280673980712
          },
          {
           "lower": 0.17535646259784698,
           "timepoint_id": 379,
           "trajectory": "Wolves",
           "upper": 0.9070893198251723
          },
          {
           "lower": 0.17748943343758583,
           "timepoint_id": 380,
           "trajectory": "Wolves",
           "upper": 0.9348081707954405
          },
          {
           "lower": 0.1802469238638878,
           "timepoint_id": 381,
           "trajectory": "Wolves",
           "upper": 0.9610650300979613
          },
          {
           "lower": 0.18075069710612296,
           "timepoint_id": 382,
           "trajectory": "Wolves",
           "upper": 0.9667689472436904
          },
          {
           "lower": 0.17994418293237685,
           "timepoint_id": 383,
           "trajectory": "Wolves",
           "upper": 0.9735250145196914
          },
          {
           "lower": 0.17771267220377923,
           "timepoint_id": 384,
           "trajectory": "Wolves",
           "upper": 0.9830871045589447
          },
          {
           "lower": 0.17378287985920907,
           "timepoint_id": 385,
           "trajectory": "Wolves",
           "upper": 0.9956873834133149
          },
          {
           "lower": 0.17184447944164277,
           "timepoint_id": 386,
           "trajectory": "Wolves",
           "upper": 0.9964617758989334
          },
          {
           "lower": 0.16898305863142013,
           "timepoint_id": 387,
           "trajectory": "Wolves",
           "upper": 0.9863021343946456
          },
          {
           "lower": 0.16669340208172798,
           "timepoint_id": 388,
           "trajectory": "Wolves",
           "upper": 0.9826664566993714
          },
          {
           "lower": 0.16497921720147132,
           "timepoint_id": 389,
           "trajectory": "Wolves",
           "upper": 0.9727314472198486
          },
          {
           "lower": 0.16416606903076172,
           "timepoint_id": 390,
           "trajectory": "Wolves",
           "upper": 0.9792365282773972
          },
          {
           "lower": 0.1638589732348919,
           "timepoint_id": 391,
           "trajectory": "Wolves",
           "upper": 0.9855025500059127
          },
          {
           "lower": 0.1642313100397587,
           "timepoint_id": 392,
           "trajectory": "Wolves",
           "upper": 0.9948146313428878
          },
          {
           "lower": 0.16483238935470582,
           "timepoint_id": 393,
           "trajectory": "Wolves",
           "upper": 0.9963617712259293
          },
          {
           "lower": 0.16590516418218612,
           "timepoint_id": 394,
           "trajectory": "Wolves",
           "upper": 0.9987373322248458
          },
          {
           "lower": 0.1629737839102745,
           "timepoint_id": 395,
           "trajectory": "Wolves",
           "upper": 1.00008482336998
          },
          {
           "lower": 0.1604690246284008,
           "timepoint_id": 396,
           "trajectory": "Wolves",
           "upper": 0.9975865095853805
          },
          {
           "lower": 0.1584906168282032,
           "timepoint_id": 397,
           "trajectory": "Wolves",
           "upper": 0.9969373792409897
          },
          {
           "lower": 0.1570437505841255,
           "timepoint_id": 398,
           "trajectory": "Wolves",
           "upper": 1.0013433933258056
          },
          {
           "lower": 0.15613754987716674,
           "timepoint_id": 399,
           "trajectory": "Wolves",
           "upper": 1.004535299539566
          },
          {
           "lower": 0.15617748349905014,
           "timepoint_id": 400,
           "trajectory": "Wolves",
           "upper": 1.0031640112400055
          },
          {
           "lower": 0.15852109864354133,
           "timepoint_id": 401,
           "trajectory": "Wolves",
           "upper": 1.00209139585495
          },
          {
           "lower": 0.16160307601094245,
           "timepoint_id": 402,
           "trajectory": "Wolves",
           "upper": 1.0031655102968215
          },
          {
           "lower": 0.16548710390925409,
           "timepoint_id": 403,
           "trajectory": "Wolves",
           "upper": 1.000268706679344
          },
          {
           "lower": 0.17024710550904273,
           "timepoint_id": 404,
           "trajectory": "Wolves",
           "upper": 1.0053135573863983
          },
          {
           "lower": 0.17597175016999245,
           "timepoint_id": 405,
           "trajectory": "Wolves",
           "upper": 1.0042481005191803
          },
          {
           "lower": 0.18276265785098075,
           "timepoint_id": 406,
           "trajectory": "Wolves",
           "upper": 1.0015988886356353
          },
          {
           "lower": 0.19073781594634057,
           "timepoint_id": 407,
           "trajectory": "Wolves",
           "upper": 0.9987025201320648
          },
          {
           "lower": 0.20003380924463274,
           "timepoint_id": 408,
           "trajectory": "Wolves",
           "upper": 0.9941364258527756
          },
          {
           "lower": 0.20846241042017938,
           "timepoint_id": 409,
           "trajectory": "Wolves",
           "upper": 0.9933387547731399
          },
          {
           "lower": 0.21300329491496087,
           "timepoint_id": 410,
           "trajectory": "Wolves",
           "upper": 0.9923468470573424
          },
          {
           "lower": 0.22190933227539061,
           "timepoint_id": 411,
           "trajectory": "Wolves",
           "upper": 0.9829826682806014
          },
          {
           "lower": 0.23667190596461296,
           "timepoint_id": 412,
           "trajectory": "Wolves",
           "upper": 0.967493814229965
          },
          {
           "lower": 0.24873205795884132,
           "timepoint_id": 413,
           "trajectory": "Wolves",
           "upper": 0.9696071535348892
          },
          {
           "lower": 0.252624849230051,
           "timepoint_id": 414,
           "trajectory": "Wolves",
           "upper": 0.9495100855827331
          },
          {
           "lower": 0.24948872104287148,
           "timepoint_id": 415,
           "trajectory": "Wolves",
           "upper": 0.9230954587459564
          },
          {
           "lower": 0.24057377353310586,
           "timepoint_id": 416,
           "trajectory": "Wolves",
           "upper": 0.8931585371494293
          },
          {
           "lower": 0.23964940011501312,
           "timepoint_id": 417,
           "trajectory": "Wolves",
           "upper": 0.8765404343605041
          },
          {
           "lower": 0.24154147878289223,
           "timepoint_id": 418,
           "trajectory": "Wolves",
           "upper": 0.8842344284057617
          },
          {
           "lower": 0.23490473479032517,
           "timepoint_id": 419,
           "trajectory": "Wolves",
           "upper": 0.9177514046430587
          },
          {
           "lower": 0.22757762968540193,
           "timepoint_id": 420,
           "trajectory": "Wolves",
           "upper": 0.9464763581752776
          },
          {
           "lower": 0.2235584504902363,
           "timepoint_id": 421,
           "trajectory": "Wolves",
           "upper": 0.9540556102991103
          },
          {
           "lower": 0.22396748512983322,
           "timepoint_id": 422,
           "trajectory": "Wolves",
           "upper": 0.9755993127822875
          },
          {
           "lower": 0.22564252614974975,
           "timepoint_id": 423,
           "trajectory": "Wolves",
           "upper": 0.9908364653587342
          },
          {
           "lower": 0.22745415866374968,
           "timepoint_id": 424,
           "trajectory": "Wolves",
           "upper": 0.9996582806110382
          },
          {
           "lower": 0.22303478196263313,
           "timepoint_id": 425,
           "trajectory": "Wolves",
           "upper": 0.9967845916748046
          },
          {
           "lower": 0.21770877838134767,
           "timepoint_id": 426,
           "trajectory": "Wolves",
           "upper": 0.9930602729320526
          },
          {
           "lower": 0.21676131710410118,
           "timepoint_id": 427,
           "trajectory": "Wolves",
           "upper": 0.9873218834400177
          },
          {
           "lower": 0.2125228926539421,
           "timepoint_id": 428,
           "trajectory": "Wolves",
           "upper": 0.9763293206691742
          },
          {
           "lower": 0.20825617164373397,
           "timepoint_id": 429,
           "trajectory": "Wolves",
           "upper": 0.9599705278873444
          },
          {
           "lower": 0.20480770468711854,
           "timepoint_id": 430,
           "trajectory": "Wolves",
           "upper": 0.9704875797033309
          },
          {
           "lower": 0.19864267855882645,
           "timepoint_id": 431,
           "trajectory": "Wolves",
           "upper": 0.9803441017866135
          },
          {
           "lower": 0.19278619289398194,
           "timepoint_id": 432,
           "trajectory": "Wolves",
           "upper": 0.9819544672966002
          },
          {
           "lower": 0.18763251826167107,
           "timepoint_id": 433,
           "trajectory": "Wolves",
           "upper": 0.9851570159196853
          },
          {
           "lower": 0.18316455334424972,
           "timepoint_id": 434,
           "trajectory": "Wolves",
           "upper": 0.9856617510318756
          },
          {
           "lower": 0.17988908290863037,
           "timepoint_id": 435,
           "trajectory": "Wolves",
           "upper": 0.9911581814289092
          },
          {
           "lower": 0.17933618202805518,
           "timepoint_id": 436,
           "trajectory": "Wolves",
           "upper": 0.9942106962203979
          },
          {
           "lower": 0.18049367815256118,
           "timepoint_id": 437,
           "trajectory": "Wolves",
           "upper": 0.999222519993782
          },
          {
           "lower": 0.18218330666422844,
           "timepoint_id": 438,
           "trajectory": "Wolves",
           "upper": 0.9999788880348205
          },
          {
           "lower": 0.17931619584560393,
           "timepoint_id": 439,
           "trajectory": "Wolves",
           "upper": 1.0049906104803086
          },
          {
           "lower": 0.17619916945695877,
           "timepoint_id": 440,
           "trajectory": "Wolves",
           "upper": 1.0021923750638961
          },
          {
           "lower": 0.17557455822825432,
           "timepoint_id": 441,
           "trajectory": "Wolves",
           "upper": 0.9986036211252213
          },
          {
           "lower": 0.1763834498822689,
           "timepoint_id": 442,
           "trajectory": "Wolves",
           "upper": 0.9899148404598236
          },
          {
           "lower": 0.1755789965391159,
           "timepoint_id": 443,
           "trajectory": "Wolves",
           "upper": 0.9872723191976547
          },
          {
           "lower": 0.1731801487505436,
           "timepoint_id": 444,
           "trajectory": "Wolves",
           "upper": 0.9692124962806701
          },
          {
           "lower": 0.17481856048107147,
           "timepoint_id": 445,
           "trajectory": "Wolves",
           "upper": 0.9520798653364181
          },
          {
           "lower": 0.1763616219162941,
           "timepoint_id": 446,
           "trajectory": "Wolves",
           "upper": 0.950083702802658
          },
          {
           "lower": 0.17467631101608277,
           "timepoint_id": 447,
           "trajectory": "Wolves",
           "upper": 0.9260579675436019
          },
          {
           "lower": 0.17083724737167358,
           "timepoint_id": 448,
           "trajectory": "Wolves",
           "upper": 0.8992494136095046
          },
          {
           "lower": 0.1666094593703747,
           "timepoint_id": 449,
           "trajectory": "Wolves",
           "upper": 0.8703008115291594
          },
          {
           "lower": 0.1656822994351387,
           "timepoint_id": 450,
           "trajectory": "Wolves",
           "upper": 0.8571781814098357
          },
          {
           "lower": 0.1654304549098015,
           "timepoint_id": 451,
           "trajectory": "Wolves",
           "upper": 0.8730472445487976
          },
          {
           "lower": 0.1663128986954689,
           "timepoint_id": 452,
           "trajectory": "Wolves",
           "upper": 0.8788756728172301
          },
          {
           "lower": 0.16778351962566376,
           "timepoint_id": 453,
           "trajectory": "Wolves",
           "upper": 0.8818724185228345
          },
          {
           "lower": 0.1688595473766327,
           "timepoint_id": 454,
           "trajectory": "Wolves",
           "upper": 0.8816515505313869
          },
          {
           "lower": 0.17143086344003677,
           "timepoint_id": 455,
           "trajectory": "Wolves",
           "upper": 0.8742863327264783
          },
          {
           "lower": 0.1752846710383892,
           "timepoint_id": 456,
           "trajectory": "Wolves",
           "upper": 0.8763623982667923
          },
          {
           "lower": 0.17985443621873856,
           "timepoint_id": 457,
           "trajectory": "Wolves",
           "upper": 0.8810112625360488
          },
          {
           "lower": 0.18417395576834678,
           "timepoint_id": 458,
           "trajectory": "Wolves",
           "upper": 0.9080043017864226
          },
          {
           "lower": 0.18885962814092636,
           "timepoint_id": 459,
           "trajectory": "Wolves",
           "upper": 0.9386744022369383
          },
          {
           "lower": 0.18875136002898216,
           "timepoint_id": 460,
           "trajectory": "Wolves",
           "upper": 0.951682311296463
          },
          {
           "lower": 0.1875740148127079,
           "timepoint_id": 461,
           "trajectory": "Wolves",
           "upper": 0.9526154279708862
          },
          {
           "lower": 0.18340350538492203,
           "timepoint_id": 462,
           "trajectory": "Wolves",
           "upper": 0.967214611172676
          },
          {
           "lower": 0.1797109790146351,
           "timepoint_id": 463,
           "trajectory": "Wolves",
           "upper": 0.9782778948545456
          },
          {
           "lower": 0.1780935861170292,
           "timepoint_id": 464,
           "trajectory": "Wolves",
           "upper": 0.9929623037576676
          },
          {
           "lower": 0.18051922917366028,
           "timepoint_id": 465,
           "trajectory": "Wolves",
           "upper": 0.9935926169157028
          },
          {
           "lower": 0.1835742212831974,
           "timepoint_id": 466,
           "trajectory": "Wolves",
           "upper": 0.982981064915657
          },
          {
           "lower": 0.18483320698142053,
           "timepoint_id": 467,
           "trajectory": "Wolves",
           "upper": 0.9751109391450882
          },
          {
           "lower": 0.18378577679395675,
           "timepoint_id": 468,
           "trajectory": "Wolves",
           "upper": 0.9734359979629517
          },
          {
           "lower": 0.18323469310998916,
           "timepoint_id": 469,
           "trajectory": "Wolves",
           "upper": 0.9589579313993454
          },
          {
           "lower": 0.18296254724264144,
           "timepoint_id": 470,
           "trajectory": "Wolves",
           "upper": 0.9672924876213074
          },
          {
           "lower": 0.18928456977009772,
           "timepoint_id": 471,
           "trajectory": "Wolves",
           "upper": 0.9726561933755874
          },
          {
           "lower": 0.1836253210902214,
           "timepoint_id": 472,
           "trajectory": "Wolves",
           "upper": 0.9888338655233383
          },
          {
           "lower": 0.17733232229948043,
           "timepoint_id": 473,
           "trajectory": "Wolves",
           "upper": 0.9925686925649643
          },
          {
           "lower": 0.1724783331155777,
           "timepoint_id": 474,
           "trajectory": "Wolves",
           "upper": 0.995303800702095
          },
          {
           "lower": 0.16982696056365967,
           "timepoint_id": 475,
           "trajectory": "Wolves",
           "upper": 0.9976611137390137
          },
          {
           "lower": 0.16763659566640854,
           "timepoint_id": 476,
           "trajectory": "Wolves",
           "upper": 0.9995992243289947
          },
          {
           "lower": 0.16603316590189934,
           "timepoint_id": 477,
           "trajectory": "Wolves",
           "upper": 0.9973608493804932
          },
          {
           "lower": 0.16775305867195128,
           "timepoint_id": 478,
           "trajectory": "Wolves",
           "upper": 0.9954323470592499
          },
          {
           "lower": 0.16995794773101808,
           "timepoint_id": 479,
           "trajectory": "Wolves",
           "upper": 0.9963240295648574
          },
          {
           "lower": 0.17077829837799072,
           "timepoint_id": 480,
           "trajectory": "Wolves",
           "upper": 1.0007076144218445
          },
          {
           "lower": 0.17158592715859414,
           "timepoint_id": 481,
           "trajectory": "Wolves",
           "upper": 1.0012928336858749
          },
          {
           "lower": 0.17150169163942336,
           "timepoint_id": 482,
           "trajectory": "Wolves",
           "upper": 0.9991271167993545
          },
          {
           "lower": 0.1677117846906185,
           "timepoint_id": 483,
           "trajectory": "Wolves",
           "upper": 1.0007474809885024
          },
          {
           "lower": 0.1644555762410164,
           "timepoint_id": 484,
           "trajectory": "Wolves",
           "upper": 1.0012450426816941
          },
          {
           "lower": 0.1617278590798378,
           "timepoint_id": 485,
           "trajectory": "Wolves",
           "upper": 0.9981553196907044
          },
          {
           "lower": 0.15952814891934394,
           "timepoint_id": 486,
           "trajectory": "Wolves",
           "upper": 1.0005579859018325
          },
          {
           "lower": 0.15785960704088212,
           "timepoint_id": 487,
           "trajectory": "Wolves",
           "upper": 1.0051156818866729
          },
          {
           "lower": 0.1567295730113983,
           "timepoint_id": 488,
           "trajectory": "Wolves",
           "upper": 1.003503081202507
          },
          {
           "lower": 0.15729982852935792,
           "timepoint_id": 489,
           "trajectory": "Wolves",
           "upper": 1.003023886680603
          },
          {
           "lower": 0.15950344130396843,
           "timepoint_id": 490,
           "trajectory": "Wolves",
           "upper": 0.9974136888980866
          },
          {
           "lower": 0.16275647804141044,
           "timepoint_id": 491,
           "trajectory": "Wolves",
           "upper": 0.9931495100259781
          },
          {
           "lower": 0.16683145835995675,
           "timepoint_id": 492,
           "trajectory": "Wolves",
           "upper": 0.9876937597990035
          },
          {
           "lower": 0.17180634289979935,
           "timepoint_id": 493,
           "trajectory": "Wolves",
           "upper": 0.9899403691291809
          },
          {
           "lower": 0.17777244374155998,
           "timepoint_id": 494,
           "trajectory": "Wolves",
           "upper": 0.9889350175857543
          },
          {
           "lower": 0.18516932129859925,
           "timepoint_id": 495,
           "trajectory": "Wolves",
           "upper": 0.9785982936620711
          },
          {
           "lower": 0.19280534088611603,
           "timepoint_id": 496,
           "trajectory": "Wolves",
           "upper": 0.961494669318199
          },
          {
           "lower": 0.19997676312923432,
           "timepoint_id": 497,
           "trajectory": "Wolves",
           "upper": 0.9558734208345413
          },
          {
           "lower": 0.20854627192020417,
           "timepoint_id": 498,
           "trajectory": "Wolves",
           "upper": 0.9501699745655059
          },
          {
           "lower": 0.21367589011788368,
           "timepoint_id": 499,
           "trajectory": "Wolves",
           "upper": 0.9239561259746552
          }
         ]
        },
        {
         "name": "points",
         "values": [
          {
           "sample_id": 0,
           "timepoint_id": 0,
           "trajectory": "Rabbits Example",
           "value": 0.5774485468864441
          },
          {
           "sample_id": 0,
           "timepoint_id": 10,
           "trajectory": "Rabbits Example",
           "value": 0.4931105971336365
          },
          {
           "sample_id": 0,
           "timepoint_id": 20,
           "trajectory": "Rabbits Example",
           "value": 0.5761047005653381
          },
          {
           "sample_id": 0,
           "timepoint_id": 30,
           "trajectory": "Rabbits Example",
           "value": 0.7969658970832825
          },
          {
           "sample_id": 0,
           "timepoint_id": 40,
           "trajectory": "Rabbits Example",
           "value": 1.1683192253112793
          },
          {
           "sample_id": 0,
           "timepoint_id": 50,
           "trajectory": "Rabbits Example",
           "value": 1.6221495866775513
          },
          {
           "sample_id": 0,
           "timepoint_id": 60,
           "trajectory": "Rabbits Example",
           "value": 1.7182937860488892
          },
          {
           "sample_id": 0,
           "timepoint_id": 70,
           "trajectory": "Rabbits Example",
           "value": 1.0860116481781006
          },
          {
           "sample_id": 0,
           "timepoint_id": 80,
           "trajectory": "Rabbits Example",
           "value": 0.6113320589065552
          },
          {
           "sample_id": 0,
           "timepoint_id": 90,
           "trajectory": "Rabbits Example",
           "value": 0.4930415153503418
          },
          {
           "sample_id": 0,
           "timepoint_id": 100,
           "trajectory": "Rabbits Example",
           "value": 0.5555301308631897
          },
          {
           "sample_id": 0,
           "timepoint_id": 110,
           "trajectory": "Rabbits Example",
           "value": 0.7555342316627502
          },
          {
           "sample_id": 0,
           "timepoint_id": 120,
           "trajectory": "Rabbits Example",
           "value": 1.1050314903259277
          },
          {
           "sample_id": 0,
           "timepoint_id": 130,
           "trajectory": "Rabbits Example",
           "value": 1.561277985572815
          },
          {
           "sample_id": 0,
           "timepoint_id": 140,
           "trajectory": "Rabbits Example",
           "value": 1.7557481527328491
          },
          {
           "sample_id": 0,
           "timepoint_id": 150,
           "trajectory": "Rabbits Example",
           "value": 1.1907449960708618
          },
          {
           "sample_id": 0,
           "timepoint_id": 160,
           "trajectory": "Rabbits Example",
           "value": 0.6529028415679932
          },
          {
           "sample_id": 0,
           "timepoint_id": 170,
           "trajectory": "Rabbits Example",
           "value": 0.496554970741272
          },
          {
           "sample_id": 0,
           "timepoint_id": 180,
           "trajectory": "Rabbits Example",
           "value": 0.5378015637397766
          },
          {
           "sample_id": 0,
           "timepoint_id": 190,
           "trajectory": "Rabbits Example",
           "value": 0.7173503041267395
          },
          {
           "sample_id": 0,
           "timepoint_id": 200,
           "trajectory": "Rabbits Example",
           "value": 1.0445382595062256
          },
          {
           "sample_id": 0,
           "timepoint_id": 210,
           "trajectory": "Rabbits Example",
           "value": 1.495972752571106
          },
          {
           "sample_id": 0,
           "timepoint_id": 220,
           "trajectory": "Rabbits Example",
           "value": 1.7724984884262085
          },
          {
           "sample_id": 0,
           "timepoint_id": 230,
           "trajectory": "Rabbits Example",
           "value": 1.2989596128463745
          },
          {
           "sample_id": 0,
           "timepoint_id": 240,
           "trajectory": "Rabbits Example",
           "value": 0.70307457447052
          },
          {
           "sample_id": 0,
           "timepoint_id": 250,
           "trajectory": "Rabbits Example",
           "value": 0.5039738416671753
          },
          {
           "sample_id": 0,
           "timepoint_id": 260,
           "trajectory": "Rabbits Example",
           "value": 0.5229206085205078
          },
          {
           "sample_id": 0,
           "timepoint_id": 270,
           "trajectory": "Rabbits Example",
           "value": 0.6823447346687317
          },
          {
           "sample_id": 0,
           "timepoint_id": 280,
           "trajectory": "Rabbits Example",
           "value": 0.9871031641960144
          },
          {
           "sample_id": 0,
           "timepoint_id": 290,
           "trajectory": "Rabbits Example",
           "value": 1.428144931793213
          },
          {
           "sample_id": 0,
           "timepoint_id": 300,
           "trajectory": "Rabbits Example",
           "value": 1.7697229385375977
          },
          {
           "sample_id": 0,
           "timepoint_id": 310,
           "trajectory": "Rabbits Example",
           "value": 1.406166672706604
          },
          {
           "sample_id": 0,
           "timepoint_id": 320,
           "trajectory": "Rabbits Example",
           "value": 0.762713611125946
          },
          {
           "sample_id": 0,
           "timepoint_id": 330,
           "trajectory": "Rabbits Example",
           "value": 0.5157046914100647
          },
          {
           "sample_id": 0,
           "timepoint_id": 340,
           "trajectory": "Rabbits Example",
           "value": 0.5109087824821472
          },
          {
           "sample_id": 0,
           "timepoint_id": 350,
           "trajectory": "Rabbits Example",
           "value": 0.6504457592964172
          },
          {
           "sample_id": 0,
           "timepoint_id": 360,
           "trajectory": "Rabbits Example",
           "value": 0.9328932762145996
          },
          {
           "sample_id": 0,
           "timepoint_id": 370,
           "trajectory": "Rabbits Example",
           "value": 1.3593549728393555
          },
          {
           "sample_id": 0,
           "timepoint_id": 380,
           "trajectory": "Rabbits Example",
           "value": 1.7495903968811035
          },
          {
           "sample_id": 0,
           "timepoint_id": 390,
           "trajectory": "Rabbits Example",
           "value": 1.5072137117385864
          },
          {
           "sample_id": 0,
           "timepoint_id": 400,
           "trajectory": "Rabbits Example",
           "value": 0.8324921727180481
          },
          {
           "sample_id": 0,
           "timepoint_id": 410,
           "trajectory": "Rabbits Example",
           "value": 0.532248854637146
          },
          {
           "sample_id": 0,
           "timepoint_id": 420,
           "trajectory": "Rabbits Example",
           "value": 0.5018233060836792
          },
          {
           "sample_id": 0,
           "timepoint_id": 430,
           "trajectory": "Rabbits Example",
           "value": 0.6215773820877075
          },
          {
           "sample_id": 0,
           "timepoint_id": 440,
           "trajectory": "Rabbits Example",
           "value": 0.8819983601570129
          },
          {
           "sample_id": 0,
           "timepoint_id": 450,
           "trajectory": "Rabbits Example",
           "value": 1.2908376455307007
          },
          {
           "sample_id": 0,
           "timepoint_id": 460,
           "trajectory": "Rabbits Example",
           "value": 1.7148245573043823
          },
          {
           "sample_id": 0,
           "timepoint_id": 470,
           "trajectory": "Rabbits Example",
           "value": 1.5969091653823853
          },
          {
           "sample_id": 0,
           "timepoint_id": 480,
           "trajectory": "Rabbits Example",
           "value": 0.9126989841461182
          },
          {
           "sample_id": 0,
           "timepoint_id": 490,
           "trajectory": "Rabbits Example",
           "value": 0.5542105436325073
          }
         ]
        },
        {
         "name": "selected",
         "on": [
          {
           "remove": true,
           "trigger": "clear"
          },
          {
           "remove": true,
           "trigger": "!shift"
          },
          {
           "insert": "clicked",
           "trigger": "!shift && clicked"
          },
          {
           "toggle": "clicked",
           "trigger": "shift && clicked"
          }
         ]
        }
       ],
       "height": 300,
       "legends": [
        {
         "encode": {
          "labels": {
           "interactive": true,
           "name": "legendLabel",
           "update": {
            "opacity": [
             {
              "test": "!length(data('selected')) || indata('selected', 'value', datum.value)",
              "value": 1
             },
             {
              "value": 0.25
             }
            ]
           }
          },
          "symbols": {
           "interactive": true,
           "name": "legendSymbol",
           "update": {
            "fill": {
             "value": "transparent"
            },
            "opacity": [
             {
              "test": "!length(data('selected')) || indata('selected', 'value', datum.value)",
              "value": 0.7
             },
             {
              "value": 0.15
             }
            ],
            "size": {
             "value": 64
            },
            "strokeWidth": {
             "value": 2
            }
           }
          }
         },
         "stroke": "color"
        }
       ],
       "marks": [
        {
         "from": {
          "facet": {
           "data": "points",
           "groupby": "trajectory",
           "name": "points_split"
          }
         },
         "marks": [
          {
           "encode": {
            "hover": {
             "fillOpacity": {
              "value": 0.9
             }
            },
            "update": {
             "fill": {
              "field": "trajectory",
              "scale": "color"
             },
             "fillOpacity": [
              {
               "test": "!length(data('selected')) || indata('selected', 'value', datum.trajectory)",
               "value": 0.5
              },
              {
               "value": 0.15
              }
             ],
             "stroke": {
              "field": "trajectory",
              "scale": "color"
             },
             "strokeOpacity": [
              {
               "test": "!length(data('selected')) || indata('selected', 'value', datum.trajectory)",
               "value": 0.75
              },
              {
               "value": 0.15
              }
             ],
             "strokeWidth": {
              "value": 2
             },
             "x": {
              "field": "timepoint_id",
              "scale": "xscale"
             },
             "y": {
              "field": "value",
              "scale": "yscale"
             }
            }
           },
           "from": {
            "data": "points"
           },
           "name": "_points",
           "type": "symbol",
           "zindex": 3
          },
          {
           "encode": {
            "hover": {
             "fillOpacity": {
              "value": 0.9
             }
            },
            "update": {
             "interpolate": {
              "value": "linear"
             },
             "stroke": {
              "field": "trajectory",
              "scale": "color"
             },
             "strokeOpacity": [
              {
               "test": "!length(data('selected')) || indata('selected', 'value', datum.trajectory)",
               "value": 0.3
              },
              {
               "value": 0.1
              }
             ],
             "strokeWidth": {
              "value": 2
             },
             "x": {
              "field": "timepoint_id",
              "scale": "xscale"
             },
             "y": {
              "field": "value",
              "scale": "yscale"
             }
            }
           },
           "from": {
            "data": "points"
           },
           "name": "_points_line",
           "type": "line",
           "zindex": 3
          }
         ],
         "type": "group",
         "zindex": 3
        },
        {
         "from": {
          "facet": {
           "data": "distributions",
           "groupby": "trajectory",
           "name": "trajectory_split"
          }
         },
         "marks": [
          {
           "encode": {
            "hover": {
             "fillOpacity": {
              "value": 0.9
             }
            },
            "update": {
             "fill": {
              "field": "trajectory",
              "scale": "color"
             },
             "fillOpacity": [
              {
               "test": "!length(data('selected')) || indata('selected', 'value', datum.trajectory)",
               "value": 0.5
              },
              {
               "value": 0.15
              }
             ],
             "interpolate": {
              "value": "linear"
             },
             "stroke": {
              "field": "trajectory",
              "scale": "color"
             },
             "strokeOpacity": [
              {
               "test": "!length(data('selected')) || indata('selected', 'value', datum.trajectory)",
               "value": 0.75
              },
              {
               "value": 0.15
              }
             ],
             "strokeWidth": {
              "value": 2
             },
             "x": {
              "field": "timepoint_id",
              "scale": "xscale"
             },
             "y": {
              "field": "upper",
              "scale": "yscale"
             },
             "y2": {
              "field": "lower",
              "scale": "yscale"
             }
            }
           },
           "from": {
            "data": "trajectory_split"
           },
           "type": "area"
          }
         ],
         "name": "_distributions",
         "type": "group",
         "zindex": 1
        }
       ],
       "padding": 5,
       "scales": [
        {
         "domain": {
          "fields": [
           {
            "data": "distributions",
            "field": "timepoint_id"
           },
           {
            "data": "points",
            "field": "timepoint_id"
           }
          ]
         },
         "name": "xscale",
         "range": "width",
         "type": "linear",
         "zero": false
        },
        {
         "domain": {
          "fields": [
           {
            "data": "distributions",
            "field": "lower"
           },
           {
            "data": "distributions",
            "field": "upper"
           },
           {
            "data": "points",
            "field": "value"
           }
          ]
         },
         "name": "yscale",
         "nice": true,
         "range": "height",
         "type": "linear",
         "zero": true
        },
        {
         "domain": {
          "fields": [
           {
            "data": "distributions",
            "field": "trajectory"
           },
           {
            "data": "points",
            "field": "trajectory"
           }
          ]
         },
         "name": "color",
         "range": "category",
         "type": "ordinal"
        }
       ],
       "signals": [
        {
         "name": "clear",
         "on": [
          {
           "events": "mouseup[!event.item]",
           "force": true,
           "update": "true"
          }
         ],
         "value": true
        },
        {
         "name": "shift",
         "on": [
          {
           "events": "@legendSymbol:click, @legendLabel:click",
           "force": true,
           "update": "event.shiftKey"
          }
         ],
         "value": false
        },
        {
         "name": "clicked",
         "on": [
          {
           "events": "@legendSymbol:click, @legendLabel:click",
           "force": true,
           "update": "{value: datum.value}"
          }
         ],
         "value": null
        }
       ],
       "width": 500
      }
     },
     "metadata": {},
     "output_type": "display_data"
    }
   ],
   "source": [
    "nice_labels={\"Rabbits_sol\": \"Rabbits\", \"Wolves_sol\": \"Wolves\"}\n",
    "\n",
    "schema = vega.trajectories(prior_samples, \n",
    "                           subset=\".*_sol\", \n",
    "                           relabel=nice_labels,\n",
    "                           points=observed_points\n",
    "                           )\n",
    "schema = vega.pad(schema, 5)\n",
    "vega.save_schema(schema, \"_schema.json\")\n",
    "vega.ipy_display(schema)"
   ]
  },
  {
   "cell_type": "code",
   "execution_count": 84,
   "metadata": {},
   "outputs": [
    {
     "data": {
      "application/vnd.vega.v5+json": {
       "$schema": "https://vega.github.io/schema/vega/v5.json",
       "axes": [
        {
         "orient": "bottom",
         "scale": "xscale",
         "zindex": 100
        },
        {
         "orient": "left",
         "scale": "yscale",
         "zindex": 100
        }
       ],
       "data": [
        {
         "name": "distributions",
         "values": [
          {
           "lower": 0.5051243111491204,
           "timepoint_id": 0,
           "trajectory": "Rabbits",
           "upper": 0.6488389670848846
          },
          {
           "lower": 0.4810523107647896,
           "timepoint_id": 1,
           "trajectory": "Rabbits",
           "upper": 0.6317649573087692
          },
          {
           "lower": 0.4601885452866554,
           "timepoint_id": 2,
           "trajectory": "Rabbits",
           "upper": 0.6172279119491577
          },
          {
           "lower": 0.44223228096961975,
           "timepoint_id": 3,
           "trajectory": "Rabbits",
           "upper": 0.6050723165273666
          },
          {
           "lower": 0.4269068524241447,
           "timepoint_id": 4,
           "trajectory": "Rabbits",
           "upper": 0.5951532989740371
          },
          {
           "lower": 0.41377234309911726,
           "timepoint_id": 5,
           "trajectory": "Rabbits",
           "upper": 0.5873368799686431
          },
          {
           "lower": 0.40248590111732485,
           "timepoint_id": 6,
           "trajectory": "Rabbits",
           "upper": 0.5815026640892028
          },
          {
           "lower": 0.3931929439306259,
           "timepoint_id": 7,
           "trajectory": "Rabbits",
           "upper": 0.5775427132844925
          },
          {
           "lower": 0.3862742096185684,
           "timepoint_id": 8,
           "trajectory": "Rabbits",
           "upper": 0.5753624409437179
          },
          {
           "lower": 0.38118805140256884,
           "timepoint_id": 9,
           "trajectory": "Rabbits",
           "upper": 0.5757302582263947
          },
          {
           "lower": 0.3776500791311264,
           "timepoint_id": 10,
           "trajectory": "Rabbits",
           "upper": 0.5796148270368576
          },
          {
           "lower": 0.37555393427610395,
           "timepoint_id": 11,
           "trajectory": "Rabbits",
           "upper": 0.585342624783516
          },
          {
           "lower": 0.3748101145029068,
           "timepoint_id": 12,
           "trajectory": "Rabbits",
           "upper": 0.5931292980909347
          },
          {
           "lower": 0.3753451660275459,
           "timepoint_id": 13,
           "trajectory": "Rabbits",
           "upper": 0.6025383323431015
          },
          {
           "lower": 0.377096489071846,
           "timepoint_id": 14,
           "trajectory": "Rabbits",
           "upper": 0.6135480284690856
          },
          {
           "lower": 0.3800157144665718,
           "timepoint_id": 15,
           "trajectory": "Rabbits",
           "upper": 0.6261454164981841
          },
          {
           "lower": 0.3840783342719078,
           "timepoint_id": 16,
           "trajectory": "Rabbits",
           "upper": 0.6403272837400436
          },
          {
           "lower": 0.3895245581865311,
           "timepoint_id": 17,
           "trajectory": "Rabbits",
           "upper": 0.6560939222574232
          },
          {
           "lower": 0.39607561081647874,
           "timepoint_id": 18,
           "trajectory": "Rabbits",
           "upper": 0.6737348735332488
          },
          {
           "lower": 0.4037196129560471,
           "timepoint_id": 19,
           "trajectory": "Rabbits",
           "upper": 0.6940728366374967
          },
          {
           "lower": 0.41245175153017044,
           "timepoint_id": 20,
           "trajectory": "Rabbits",
           "upper": 0.7161092609167097
          },
          {
           "lower": 0.4222735777497292,
           "timepoint_id": 21,
           "trajectory": "Rabbits",
           "upper": 0.7398648440837858
          },
          {
           "lower": 0.43319143205881117,
           "timepoint_id": 22,
           "trajectory": "Rabbits",
           "upper": 0.7646123915910719
          },
          {
           "lower": 0.4452171564102173,
           "timepoint_id": 23,
           "trajectory": "Rabbits",
           "upper": 0.7892877429723737
          },
          {
           "lower": 0.4569105193018913,
           "timepoint_id": 24,
           "trajectory": "Rabbits",
           "upper": 0.815542286634445
          },
          {
           "lower": 0.4695918634533882,
           "timepoint_id": 25,
           "trajectory": "Rabbits",
           "upper": 0.8433761298656461
          },
          {
           "lower": 0.483332422375679,
           "timepoint_id": 26,
           "trajectory": "Rabbits",
           "upper": 0.8727851301431654
          },
          {
           "lower": 0.4981502011418343,
           "timepoint_id": 27,
           "trajectory": "Rabbits",
           "upper": 0.9037574321031568
          },
          {
           "lower": 0.5140681594610215,
           "timepoint_id": 28,
           "trajectory": "Rabbits",
           "upper": 0.9362738102674482
          },
          {
           "lower": 0.5311100453138351,
           "timepoint_id": 29,
           "trajectory": "Rabbits",
           "upper": 0.970302867889404
          },
          {
           "lower": 0.5493017822504044,
           "timepoint_id": 30,
           "trajectory": "Rabbits",
           "upper": 1.0058008164167402
          },
          {
           "lower": 0.5684487670660019,
           "timepoint_id": 31,
           "trajectory": "Rabbits",
           "upper": 1.0427060514688489
          },
          {
           "lower": 0.5885705500841141,
           "timepoint_id": 32,
           "trajectory": "Rabbits",
           "upper": 1.0809359312057492
          },
          {
           "lower": 0.6098981499671936,
           "timepoint_id": 33,
           "trajectory": "Rabbits",
           "upper": 1.1203878223896024
          },
          {
           "lower": 0.6324594795703888,
           "timepoint_id": 34,
           "trajectory": "Rabbits",
           "upper": 1.1609291970729825
          },
          {
           "lower": 0.6562829375267029,
           "timepoint_id": 35,
           "trajectory": "Rabbits",
           "upper": 1.2023967802524564
          },
          {
           "lower": 0.6823425441980362,
           "timepoint_id": 36,
           "trajectory": "Rabbits",
           "upper": 1.244588083028793
          },
          {
           "lower": 0.7107869565486908,
           "timepoint_id": 37,
           "trajectory": "Rabbits",
           "upper": 1.2872623503208158
          },
          {
           "lower": 0.7407032549381256,
           "timepoint_id": 38,
           "trajectory": "Rabbits",
           "upper": 1.3301270723342893
          },
          {
           "lower": 0.7721204370260238,
           "timepoint_id": 39,
           "trajectory": "Rabbits",
           "upper": 1.3728431224822994
          },
          {
           "lower": 0.805060988664627,
           "timepoint_id": 40,
           "trajectory": "Rabbits",
           "upper": 1.4171339631080624
          },
          {
           "lower": 0.8395456910133362,
           "timepoint_id": 41,
           "trajectory": "Rabbits",
           "upper": 1.4623533129692075
          },
          {
           "lower": 0.8755844682455063,
           "timepoint_id": 42,
           "trajectory": "Rabbits",
           "upper": 1.5069728612899778
          },
          {
           "lower": 0.9131788015365601,
           "timepoint_id": 43,
           "trajectory": "Rabbits",
           "upper": 1.5505466878414154
          },
          {
           "lower": 0.9523179590702057,
           "timepoint_id": 44,
           "trajectory": "Rabbits",
           "upper": 1.5925707936286926
          },
          {
           "lower": 0.9904650866985321,
           "timepoint_id": 45,
           "trajectory": "Rabbits",
           "upper": 1.6349843382835387
          },
          {
           "lower": 1.0290996789932252,
           "timepoint_id": 46,
           "trajectory": "Rabbits",
           "upper": 1.6903327703475952
          },
          {
           "lower": 1.068894773721695,
           "timepoint_id": 47,
           "trajectory": "Rabbits",
           "upper": 1.7450684905052185
          },
          {
           "lower": 1.1097592115402222,
           "timepoint_id": 48,
           "trajectory": "Rabbits",
           "upper": 1.7986104249954225
          },
          {
           "lower": 1.151575994491577,
           "timepoint_id": 49,
           "trajectory": "Rabbits",
           "upper": 1.850271362066269
          },
          {
           "lower": 1.1941976070404052,
           "timepoint_id": 50,
           "trajectory": "Rabbits",
           "upper": 1.899582540988922
          },
          {
           "lower": 1.23744078874588,
           "timepoint_id": 51,
           "trajectory": "Rabbits",
           "upper": 1.943354856967926
          },
          {
           "lower": 1.2810803174972534,
           "timepoint_id": 52,
           "trajectory": "Rabbits",
           "upper": 1.9746112644672393
          },
          {
           "lower": 1.3245567440986634,
           "timepoint_id": 53,
           "trajectory": "Rabbits",
           "upper": 2.006672477722168
          },
          {
           "lower": 1.3671102821826935,
           "timepoint_id": 54,
           "trajectory": "Rabbits",
           "upper": 2.0283280491828917
          },
          {
           "lower": 1.408983862400055,
           "timepoint_id": 55,
           "trajectory": "Rabbits",
           "upper": 2.01531400680542
          },
          {
           "lower": 1.4367581963539124,
           "timepoint_id": 56,
           "trajectory": "Rabbits",
           "upper": 2.0211418747901915
          },
          {
           "lower": 1.4506515979766845,
           "timepoint_id": 57,
           "trajectory": "Rabbits",
           "upper": 2.015464460849762
          },
          {
           "lower": 1.4284321010112762,
           "timepoint_id": 58,
           "trajectory": "Rabbits",
           "upper": 1.9974848330020905
          },
          {
           "lower": 1.4066657185554505,
           "timepoint_id": 59,
           "trajectory": "Rabbits",
           "upper": 1.9946840226650238
          },
          {
           "lower": 1.3370188474655151,
           "timepoint_id": 60,
           "trajectory": "Rabbits",
           "upper": 1.973221319913864
          },
          {
           "lower": 1.268656712770462,
           "timepoint_id": 61,
           "trajectory": "Rabbits",
           "upper": 1.946996235847473
          },
          {
           "lower": 1.2056418180465698,
           "timepoint_id": 62,
           "trajectory": "Rabbits",
           "upper": 1.926825213432312
          },
          {
           "lower": 1.1426748096942902,
           "timepoint_id": 63,
           "trajectory": "Rabbits",
           "upper": 1.8917805612087248
          },
          {
           "lower": 1.0809118807315827,
           "timepoint_id": 64,
           "trajectory": "Rabbits",
           "upper": 1.873773556947708
          },
          {
           "lower": 1.021326494216919,
           "timepoint_id": 65,
           "trajectory": "Rabbits",
           "upper": 1.838645803928375
          },
          {
           "lower": 0.9646812707185746,
           "timepoint_id": 66,
           "trajectory": "Rabbits",
           "upper": 1.7861752212047575
          },
          {
           "lower": 0.9115411072969437,
           "timepoint_id": 67,
           "trajectory": "Rabbits",
           "upper": 1.7476635694503784
          },
          {
           "lower": 0.8622704237699509,
           "timepoint_id": 68,
           "trajectory": "Rabbits",
           "upper": 1.7020660996437074
          },
          {
           "lower": 0.8200316578149796,
           "timepoint_id": 69,
           "trajectory": "Rabbits",
           "upper": 1.650298374891281
          },
          {
           "lower": 0.7819973856210709,
           "timepoint_id": 70,
           "trajectory": "Rabbits",
           "upper": 1.6116529524326324
          },
          {
           "lower": 0.7480799227952957,
           "timepoint_id": 71,
           "trajectory": "Rabbits",
           "upper": 1.563731038570404
          },
          {
           "lower": 0.7194193333387375,
           "timepoint_id": 72,
           "trajectory": "Rabbits",
           "upper": 1.5072274923324585
          },
          {
           "lower": 0.6914891541004181,
           "timepoint_id": 73,
           "trajectory": "Rabbits",
           "upper": 1.4292892456054687
          },
          {
           "lower": 0.6670606106519699,
           "timepoint_id": 74,
           "trajectory": "Rabbits",
           "upper": 1.3471659898757935
          },
          {
           "lower": 0.641142001748085,
           "timepoint_id": 75,
           "trajectory": "Rabbits",
           "upper": 1.2633545577526093
          },
          {
           "lower": 0.6135189205408096,
           "timepoint_id": 76,
           "trajectory": "Rabbits",
           "upper": 1.1872593283653259
          },
          {
           "lower": 0.5919944554567337,
           "timepoint_id": 77,
           "trajectory": "Rabbits",
           "upper": 1.1166882276535033
          },
          {
           "lower": 0.571210527420044,
           "timepoint_id": 78,
           "trajectory": "Rabbits",
           "upper": 1.0470829546451568
          },
          {
           "lower": 0.5549307703971863,
           "timepoint_id": 79,
           "trajectory": "Rabbits",
           "upper": 0.9762333691120146
          },
          {
           "lower": 0.5424787819385528,
           "timepoint_id": 80,
           "trajectory": "Rabbits",
           "upper": 0.9051215559244155
          },
          {
           "lower": 0.5280335992574692,
           "timepoint_id": 81,
           "trajectory": "Rabbits",
           "upper": 0.8438710719346999
          },
          {
           "lower": 0.5136239737272262,
           "timepoint_id": 82,
           "trajectory": "Rabbits",
           "upper": 0.7899392932653426
          },
          {
           "lower": 0.5010840415954589,
           "timepoint_id": 83,
           "trajectory": "Rabbits",
           "upper": 0.741310104727745
          },
          {
           "lower": 0.4843059152364731,
           "timepoint_id": 84,
           "trajectory": "Rabbits",
           "upper": 0.6987793892621994
          },
          {
           "lower": 0.46948242634534837,
           "timepoint_id": 85,
           "trajectory": "Rabbits",
           "upper": 0.6654698103666306
          },
          {
           "lower": 0.456996813416481,
           "timepoint_id": 86,
           "trajectory": "Rabbits",
           "upper": 0.6317428410053253
          },
          {
           "lower": 0.44688632488250735,
           "timepoint_id": 87,
           "trajectory": "Rabbits",
           "upper": 0.6195917665958404
          },
          {
           "lower": 0.4393170580267906,
           "timepoint_id": 88,
           "trajectory": "Rabbits",
           "upper": 0.5936942964792251
          },
          {
           "lower": 0.43049156963825225,
           "timepoint_id": 89,
           "trajectory": "Rabbits",
           "upper": 0.5928875982761382
          },
          {
           "lower": 0.42122622579336166,
           "timepoint_id": 90,
           "trajectory": "Rabbits",
           "upper": 0.604402607679367
          },
          {
           "lower": 0.4145303204655647,
           "timepoint_id": 91,
           "trajectory": "Rabbits",
           "upper": 0.6175673276185989
          },
          {
           "lower": 0.409544937312603,
           "timepoint_id": 92,
           "trajectory": "Rabbits",
           "upper": 0.6323772072792053
          },
          {
           "lower": 0.4043998926877975,
           "timepoint_id": 93,
           "trajectory": "Rabbits",
           "upper": 0.648832431435585
          },
          {
           "lower": 0.39657222479581833,
           "timepoint_id": 94,
           "trajectory": "Rabbits",
           "upper": 0.6669412821531295
          },
          {
           "lower": 0.3914209812879562,
           "timepoint_id": 95,
           "trajectory": "Rabbits",
           "upper": 0.6867181420326233
          },
          {
           "lower": 0.38856773972511294,
           "timepoint_id": 96,
           "trajectory": "Rabbits",
           "upper": 0.7081786185503005
          },
          {
           "lower": 0.3846037968993187,
           "timepoint_id": 97,
           "trajectory": "Rabbits",
           "upper": 0.7313447654247283
          },
          {
           "lower": 0.38213504999876025,
           "timepoint_id": 98,
           "trajectory": "Rabbits",
           "upper": 0.7562388241291045
          },
          {
           "lower": 0.3810760900378227,
           "timepoint_id": 99,
           "trajectory": "Rabbits",
           "upper": 0.7828852593898772
          },
          {
           "lower": 0.38122865110635756,
           "timepoint_id": 100,
           "trajectory": "Rabbits",
           "upper": 0.8113089025020598
          },
          {
           "lower": 0.38336937576532365,
           "timepoint_id": 101,
           "trajectory": "Rabbits",
           "upper": 0.8415317207574843
          },
          {
           "lower": 0.3866841092705727,
           "timepoint_id": 102,
           "trajectory": "Rabbits",
           "upper": 0.8735748052597044
          },
          {
           "lower": 0.3911342531442642,
           "timepoint_id": 103,
           "trajectory": "Rabbits",
           "upper": 0.9074536323547362
          },
          {
           "lower": 0.39669124931097033,
           "timepoint_id": 104,
           "trajectory": "Rabbits",
           "upper": 0.9431790947914122
          },
          {
           "lower": 0.40181774348020555,
           "timepoint_id": 105,
           "trajectory": "Rabbits",
           "upper": 0.9807507842779157
          },
          {
           "lower": 0.407728835940361,
           "timepoint_id": 106,
           "trajectory": "Rabbits",
           "upper": 1.0201601594686507
          },
          {
           "lower": 0.4146845549345016,
           "timepoint_id": 107,
           "trajectory": "Rabbits",
           "upper": 1.0613841593265532
          },
          {
           "lower": 0.42267623692750933,
           "timepoint_id": 108,
           "trajectory": "Rabbits",
           "upper": 1.1043815016746519
          },
          {
           "lower": 0.4317007020115852,
           "timepoint_id": 109,
           "trajectory": "Rabbits",
           "upper": 1.1490903258323666
          },
          {
           "lower": 0.4413680672645569,
           "timepoint_id": 110,
           "trajectory": "Rabbits",
           "upper": 1.195424300432205
          },
          {
           "lower": 0.4518758445978165,
           "timepoint_id": 111,
           "trajectory": "Rabbits",
           "upper": 1.2405022025108334
          },
          {
           "lower": 0.4634175285696983,
           "timepoint_id": 112,
           "trajectory": "Rabbits",
           "upper": 1.2830369472503658
          },
          {
           "lower": 0.476004995405674,
           "timepoint_id": 113,
           "trajectory": "Rabbits",
           "upper": 1.3257771432399745
          },
          {
           "lower": 0.48965266942977903,
           "timepoint_id": 114,
           "trajectory": "Rabbits",
           "upper": 1.368388450145721
          },
          {
           "lower": 0.5043785005807877,
           "timepoint_id": 115,
           "trajectory": "Rabbits",
           "upper": 1.4104705750942226
          },
          {
           "lower": 0.5202018976211548,
           "timepoint_id": 116,
           "trajectory": "Rabbits",
           "upper": 1.4515727937221523
          },
          {
           "lower": 0.5371453166007996,
           "timepoint_id": 117,
           "trajectory": "Rabbits",
           "upper": 1.491175544261932
          },
          {
           "lower": 0.5552328586578369,
           "timepoint_id": 118,
           "trajectory": "Rabbits",
           "upper": 1.5286987662315366
          },
          {
           "lower": 0.5746016263961792,
           "timepoint_id": 119,
           "trajectory": "Rabbits",
           "upper": 1.5635028123855588
          },
          {
           "lower": 0.5970102906227112,
           "timepoint_id": 120,
           "trajectory": "Rabbits",
           "upper": 1.5948892235755918
          },
          {
           "lower": 0.6207388818264008,
           "timepoint_id": 121,
           "trajectory": "Rabbits",
           "upper": 1.6221232175827025
          },
          {
           "lower": 0.6453634649515152,
           "timepoint_id": 122,
           "trajectory": "Rabbits",
           "upper": 1.644442594051361
          },
          {
           "lower": 0.6708035081624985,
           "timepoint_id": 123,
           "trajectory": "Rabbits",
           "upper": 1.6610858678817748
          },
          {
           "lower": 0.6968708425760269,
           "timepoint_id": 124,
           "trajectory": "Rabbits",
           "upper": 1.6713273644447326
          },
          {
           "lower": 0.7234418570995331,
           "timepoint_id": 125,
           "trajectory": "Rabbits",
           "upper": 1.6745122253894806
          },
          {
           "lower": 0.7513154923915863,
           "timepoint_id": 126,
           "trajectory": "Rabbits",
           "upper": 1.6727754712104796
          },
          {
           "lower": 0.78050856590271,
           "timepoint_id": 127,
           "trajectory": "Rabbits",
           "upper": 1.716128623485565
          },
          {
           "lower": 0.8110340058803559,
           "timepoint_id": 128,
           "trajectory": "Rabbits",
           "upper": 1.7695979833602904
          },
          {
           "lower": 0.842897766828537,
           "timepoint_id": 129,
           "trajectory": "Rabbits",
           "upper": 1.8139043271541595
          },
          {
           "lower": 0.8761000365018845,
           "timepoint_id": 130,
           "trajectory": "Rabbits",
           "upper": 1.8211844146251677
          },
          {
           "lower": 0.9106319785118103,
           "timepoint_id": 131,
           "trajectory": "Rabbits",
           "upper": 1.8637800216674802
          },
          {
           "lower": 0.9464745968580246,
           "timepoint_id": 132,
           "trajectory": "Rabbits",
           "upper": 1.8995178580284118
          },
          {
           "lower": 0.9835943669080734,
           "timepoint_id": 133,
           "trajectory": "Rabbits",
           "upper": 1.912487632036209
          },
          {
           "lower": 1.0219449251890182,
           "timepoint_id": 134,
           "trajectory": "Rabbits",
           "upper": 1.9452049076557159
          },
          {
           "lower": 1.0614603579044342,
           "timepoint_id": 135,
           "trajectory": "Rabbits",
           "upper": 1.9617474615573882
          },
          {
           "lower": 1.1020531356334686,
           "timepoint_id": 136,
           "trajectory": "Rabbits",
           "upper": 1.9881222665309906
          },
          {
           "lower": 1.1269083678722382,
           "timepoint_id": 137,
           "trajectory": "Rabbits",
           "upper": 2.0061532855033875
          },
          {
           "lower": 1.1055106699466706,
           "timepoint_id": 138,
           "trajectory": "Rabbits",
           "upper": 2.0061437666416166
          },
          {
           "lower": 1.0808826684951782,
           "timepoint_id": 139,
           "trajectory": "Rabbits",
           "upper": 1.9949356257915496
          },
          {
           "lower": 1.0539768517017365,
           "timepoint_id": 140,
           "trajectory": "Rabbits",
           "upper": 1.987330251932144
          },
          {
           "lower": 0.9956606686115265,
           "timepoint_id": 141,
           "trajectory": "Rabbits",
           "upper": 1.977737545967102
          },
          {
           "lower": 0.9405529707670212,
           "timepoint_id": 142,
           "trajectory": "Rabbits",
           "upper": 1.9775248050689695
          },
          {
           "lower": 0.8891286879777909,
           "timepoint_id": 143,
           "trajectory": "Rabbits",
           "upper": 1.9683462738990782
          },
          {
           "lower": 0.8416773855686188,
           "timepoint_id": 144,
           "trajectory": "Rabbits",
           "upper": 1.9223632514476774
          },
          {
           "lower": 0.7987896740436554,
           "timepoint_id": 145,
           "trajectory": "Rabbits",
           "upper": 1.9055021107196808
          },
          {
           "lower": 0.7641114115715026,
           "timepoint_id": 146,
           "trajectory": "Rabbits",
           "upper": 1.8573774456977843
          },
          {
           "lower": 0.7325069457292557,
           "timepoint_id": 147,
           "trajectory": "Rabbits",
           "upper": 1.838408941030502
          },
          {
           "lower": 0.7046769589185715,
           "timepoint_id": 148,
           "trajectory": "Rabbits",
           "upper": 1.8566193163394926
          },
          {
           "lower": 0.6805095404386521,
           "timepoint_id": 149,
           "trajectory": "Rabbits",
           "upper": 1.8516739666461943
          },
          {
           "lower": 0.6646953701972962,
           "timepoint_id": 150,
           "trajectory": "Rabbits",
           "upper": 1.8386036038398743
          },
          {
           "lower": 0.6481923609972,
           "timepoint_id": 151,
           "trajectory": "Rabbits",
           "upper": 1.8343990445137024
          },
          {
           "lower": 0.6312552928924561,
           "timepoint_id": 152,
           "trajectory": "Rabbits",
           "upper": 1.8231343924999235
          },
          {
           "lower": 0.6174396783113479,
           "timepoint_id": 153,
           "trajectory": "Rabbits",
           "upper": 1.796340215206146
          },
          {
           "lower": 0.6048211842775345,
           "timepoint_id": 154,
           "trajectory": "Rabbits",
           "upper": 1.7632344782352447
          },
          {
           "lower": 0.5861428260803223,
           "timepoint_id": 155,
           "trajectory": "Rabbits",
           "upper": 1.7273318111896514
          },
          {
           "lower": 0.5645932614803314,
           "timepoint_id": 156,
           "trajectory": "Rabbits",
           "upper": 1.6872319936752318
          },
          {
           "lower": 0.5531397134065628,
           "timepoint_id": 157,
           "trajectory": "Rabbits",
           "upper": 1.6694511115550994
          },
          {
           "lower": 0.5454001277685165,
           "timepoint_id": 158,
           "trajectory": "Rabbits",
           "upper": 1.6414436995983124
          },
          {
           "lower": 0.5345095366239547,
           "timepoint_id": 159,
           "trajectory": "Rabbits",
           "upper": 1.6056683242321013
          },
          {
           "lower": 0.5248127788305282,
           "timepoint_id": 160,
           "trajectory": "Rabbits",
           "upper": 1.5370599269866942
          },
          {
           "lower": 0.5188495635986328,
           "timepoint_id": 161,
           "trajectory": "Rabbits",
           "upper": 1.4614464104175569
          },
          {
           "lower": 0.5141069158911705,
           "timepoint_id": 162,
           "trajectory": "Rabbits",
           "upper": 1.3810622274875641
          },
          {
           "lower": 0.5036842778325081,
           "timepoint_id": 163,
           "trajectory": "Rabbits",
           "upper": 1.3148657023906707
          },
          {
           "lower": 0.4955750972032547,
           "timepoint_id": 164,
           "trajectory": "Rabbits",
           "upper": 1.2469740509986875
          },
          {
           "lower": 0.486618934571743,
           "timepoint_id": 165,
           "trajectory": "Rabbits",
           "upper": 1.1773756980895993
          },
          {
           "lower": 0.4762810945510864,
           "timepoint_id": 166,
           "trajectory": "Rabbits",
           "upper": 1.1075618743896483
          },
          {
           "lower": 0.4718186900019646,
           "timepoint_id": 167,
           "trajectory": "Rabbits",
           "upper": 1.0388622075319287
          },
          {
           "lower": 0.4622297614812851,
           "timepoint_id": 168,
           "trajectory": "Rabbits",
           "upper": 0.9670342475175854
          },
          {
           "lower": 0.4485212951898575,
           "timepoint_id": 169,
           "trajectory": "Rabbits",
           "upper": 0.8990428447723385
          },
          {
           "lower": 0.44212027490139005,
           "timepoint_id": 170,
           "trajectory": "Rabbits",
           "upper": 0.8747189581394195
          },
          {
           "lower": 0.44298544377088545,
           "timepoint_id": 171,
           "trajectory": "Rabbits",
           "upper": 0.8403298556804656
          },
          {
           "lower": 0.4412238642573357,
           "timepoint_id": 172,
           "trajectory": "Rabbits",
           "upper": 0.8073499917984008
          },
          {
           "lower": 0.4404029667377472,
           "timepoint_id": 173,
           "trajectory": "Rabbits",
           "upper": 0.756241524219513
          },
          {
           "lower": 0.4368326559662819,
           "timepoint_id": 174,
           "trajectory": "Rabbits",
           "upper": 0.748366367816925
          },
          {
           "lower": 0.42849123030900954,
           "timepoint_id": 175,
           "trajectory": "Rabbits",
           "upper": 0.7742634236812591
          },
          {
           "lower": 0.41640654951334,
           "timepoint_id": 176,
           "trajectory": "Rabbits",
           "upper": 0.8020657032728196
          },
          {
           "lower": 0.4095948994159698,
           "timepoint_id": 177,
           "trajectory": "Rabbits",
           "upper": 0.8316493302583694
          },
          {
           "lower": 0.4073739260435104,
           "timepoint_id": 178,
           "trajectory": "Rabbits",
           "upper": 0.8630342334508896
          },
          {
           "lower": 0.4066722258925438,
           "timepoint_id": 179,
           "trajectory": "Rabbits",
           "upper": 0.8962369143962859
          },
          {
           "lower": 0.4074068084359169,
           "timepoint_id": 180,
           "trajectory": "Rabbits",
           "upper": 0.931265839934349
          },
          {
           "lower": 0.40268880128860474,
           "timepoint_id": 181,
           "trajectory": "Rabbits",
           "upper": 0.9681242197751998
          },
          {
           "lower": 0.399829663336277,
           "timepoint_id": 182,
           "trajectory": "Rabbits",
           "upper": 1.006803148984909
          },
          {
           "lower": 0.40095287263393403,
           "timepoint_id": 183,
           "trajectory": "Rabbits",
           "upper": 1.047283226251602
          },
          {
           "lower": 0.4031273275613785,
           "timepoint_id": 184,
           "trajectory": "Rabbits",
           "upper": 1.0895249366760253
          },
          {
           "lower": 0.3990011066198349,
           "timepoint_id": 185,
           "trajectory": "Rabbits",
           "upper": 1.1334718346595762
          },
          {
           "lower": 0.39364364594221113,
           "timepoint_id": 186,
           "trajectory": "Rabbits",
           "upper": 1.1790435075759886
          },
          {
           "lower": 0.38806077688932417,
           "timepoint_id": 187,
           "trajectory": "Rabbits",
           "upper": 1.2261301219463348
          },
          {
           "lower": 0.38450371026992797,
           "timepoint_id": 188,
           "trajectory": "Rabbits",
           "upper": 1.2745866119861602
          },
          {
           "lower": 0.3875089153647423,
           "timepoint_id": 189,
           "trajectory": "Rabbits",
           "upper": 1.3242292463779448
          },
          {
           "lower": 0.39167160391807554,
           "timepoint_id": 190,
           "trajectory": "Rabbits",
           "upper": 1.374829018115997
          },
          {
           "lower": 0.3969603732228279,
           "timepoint_id": 191,
           "trajectory": "Rabbits",
           "upper": 1.426099723577499
          },
          {
           "lower": 0.4033517211675644,
           "timepoint_id": 192,
           "trajectory": "Rabbits",
           "upper": 1.4776994168758388
          },
          {
           "lower": 0.4093814805150032,
           "timepoint_id": 193,
           "trajectory": "Rabbits",
           "upper": 1.5238482177257533
          },
          {
           "lower": 0.415441007912159,
           "timepoint_id": 194,
           "trajectory": "Rabbits",
           "upper": 1.5586489498615261
          },
          {
           "lower": 0.4219281882047653,
           "timepoint_id": 195,
           "trajectory": "Rabbits",
           "upper": 1.590088194608688
          },
          {
           "lower": 0.4287471905350685,
           "timepoint_id": 196,
           "trajectory": "Rabbits",
           "upper": 1.6174417972564694
          },
          {
           "lower": 0.4356454789638519,
           "timepoint_id": 197,
           "trajectory": "Rabbits",
           "upper": 1.639961630105972
          },
          {
           "lower": 0.4435746371746063,
           "timepoint_id": 198,
           "trajectory": "Rabbits",
           "upper": 1.656901055574417
          },
          {
           "lower": 0.4525284916162491,
           "timepoint_id": 199,
           "trajectory": "Rabbits",
           "upper": 1.6675437271595
          },
          {
           "lower": 0.4625064104795456,
           "timepoint_id": 200,
           "trajectory": "Rabbits",
           "upper": 1.6712466537952422
          },
          {
           "lower": 0.4735117956995964,
           "timepoint_id": 201,
           "trajectory": "Rabbits",
           "upper": 1.6674805879592896
          },
          {
           "lower": 0.485551755130291,
           "timepoint_id": 202,
           "trajectory": "Rabbits",
           "upper": 1.6580154597759247
          },
          {
           "lower": 0.49863721430301666,
           "timepoint_id": 203,
           "trajectory": "Rabbits",
           "upper": 1.6465700745582579
          },
          {
           "lower": 0.51282719373703,
           "timepoint_id": 204,
           "trajectory": "Rabbits",
           "upper": 1.6579146325588225
          },
          {
           "lower": 0.5302152931690216,
           "timepoint_id": 205,
           "trajectory": "Rabbits",
           "upper": 1.681108945608139
          },
          {
           "lower": 0.548772668838501,
           "timepoint_id": 206,
           "trajectory": "Rabbits",
           "upper": 1.7017919838428497
          },
          {
           "lower": 0.5685295164585114,
           "timepoint_id": 207,
           "trajectory": "Rabbits",
           "upper": 1.7162834405899046
          },
          {
           "lower": 0.5895175069570542,
           "timepoint_id": 208,
           "trajectory": "Rabbits",
           "upper": 1.750265085697174
          },
          {
           "lower": 0.6117695927619934,
           "timepoint_id": 209,
           "trajectory": "Rabbits",
           "upper": 1.7796592116355896
          },
          {
           "lower": 0.6353199332952499,
           "timepoint_id": 210,
           "trajectory": "Rabbits",
           "upper": 1.8073849022388457
          },
          {
           "lower": 0.6602031528949738,
           "timepoint_id": 211,
           "trajectory": "Rabbits",
           "upper": 1.8098789393901824
          },
          {
           "lower": 0.6864525496959687,
           "timepoint_id": 212,
           "trajectory": "Rabbits",
           "upper": 1.7979984700679776
          },
          {
           "lower": 0.7141019701957703,
           "timepoint_id": 213,
           "trajectory": "Rabbits",
           "upper": 1.8413004696369168
          },
          {
           "lower": 0.7431831270456314,
           "timepoint_id": 214,
           "trajectory": "Rabbits",
           "upper": 1.8793084323406217
          },
          {
           "lower": 0.7737266510725022,
           "timepoint_id": 215,
           "trajectory": "Rabbits",
           "upper": 1.9107930481433866
          },
          {
           "lower": 0.8055409729480744,
           "timepoint_id": 216,
           "trajectory": "Rabbits",
           "upper": 1.9169816553592682
          },
          {
           "lower": 0.8251921176910401,
           "timepoint_id": 217,
           "trajectory": "Rabbits",
           "upper": 1.9464172065258025
          },
          {
           "lower": 0.8253151297569274,
           "timepoint_id": 218,
           "trajectory": "Rabbits",
           "upper": 1.9703969955444336
          },
          {
           "lower": 0.8099280536174774,
           "timepoint_id": 219,
           "trajectory": "Rabbits",
           "upper": 1.9839801490306854
          },
          {
           "lower": 0.8038699805736542,
           "timepoint_id": 220,
           "trajectory": "Rabbits",
           "upper": 1.988193392753601
          },
          {
           "lower": 0.7710606127977371,
           "timepoint_id": 221,
           "trajectory": "Rabbits",
           "upper": 1.9942415654659271
          },
          {
           "lower": 0.7470197588205337,
           "timepoint_id": 222,
           "trajectory": "Rabbits",
           "upper": 1.9898629844188689
          },
          {
           "lower": 0.7182540386915207,
           "timepoint_id": 223,
           "trajectory": "Rabbits",
           "upper": 1.9742455959320067
          },
          {
           "lower": 0.6924134820699692,
           "timepoint_id": 224,
           "trajectory": "Rabbits",
           "upper": 1.9520539820194243
          },
          {
           "lower": 0.6701061934232712,
           "timepoint_id": 225,
           "trajectory": "Rabbits",
           "upper": 1.951135867834091
          },
          {
           "lower": 0.6516568928956985,
           "timepoint_id": 226,
           "trajectory": "Rabbits",
           "upper": 1.945321691036224
          },
          {
           "lower": 0.641685864329338,
           "timepoint_id": 227,
           "trajectory": "Rabbits",
           "upper": 1.9135046660900112
          },
          {
           "lower": 0.6342681467533111,
           "timepoint_id": 228,
           "trajectory": "Rabbits",
           "upper": 1.8663897991180416
          },
          {
           "lower": 0.6220158934593201,
           "timepoint_id": 229,
           "trajectory": "Rabbits",
           "upper": 1.8201657950878143
          },
          {
           "lower": 0.6110246002674102,
           "timepoint_id": 230,
           "trajectory": "Rabbits",
           "upper": 1.7957899630069734
          },
          {
           "lower": 0.6024056732654571,
           "timepoint_id": 231,
           "trajectory": "Rabbits",
           "upper": 1.7897957324981688
          },
          {
           "lower": 0.5948467195034027,
           "timepoint_id": 232,
           "trajectory": "Rabbits",
           "upper": 1.80155633687973
          },
          {
           "lower": 0.5786105751991272,
           "timepoint_id": 233,
           "trajectory": "Rabbits",
           "upper": 1.8087110340595243
          },
          {
           "lower": 0.5645324528217316,
           "timepoint_id": 234,
           "trajectory": "Rabbits",
           "upper": 1.7801218628883362
          },
          {
           "lower": 0.5540674448013305,
           "timepoint_id": 235,
           "trajectory": "Rabbits",
           "upper": 1.7751892149448394
          },
          {
           "lower": 0.5473203241825104,
           "timepoint_id": 236,
           "trajectory": "Rabbits",
           "upper": 1.8003147721290587
          },
          {
           "lower": 0.5480239897966385,
           "timepoint_id": 237,
           "trajectory": "Rabbits",
           "upper": 1.8223768889904022
          },
          {
           "lower": 0.54021315574646,
           "timepoint_id": 238,
           "trajectory": "Rabbits",
           "upper": 1.8227047383785249
          },
          {
           "lower": 0.5324098408222199,
           "timepoint_id": 239,
           "trajectory": "Rabbits",
           "upper": 1.8212045967578887
          },
          {
           "lower": 0.5270693153142929,
           "timepoint_id": 240,
           "trajectory": "Rabbits",
           "upper": 1.8120733976364134
          },
          {
           "lower": 0.52107774913311,
           "timepoint_id": 241,
           "trajectory": "Rabbits",
           "upper": 1.7703063786029813
          },
          {
           "lower": 0.5165954396128655,
           "timepoint_id": 242,
           "trajectory": "Rabbits",
           "upper": 1.7401071548461913
          },
          {
           "lower": 0.5104622498154641,
           "timepoint_id": 243,
           "trajectory": "Rabbits",
           "upper": 1.7071489214897153
          },
          {
           "lower": 0.5042807430028915,
           "timepoint_id": 244,
           "trajectory": "Rabbits",
           "upper": 1.6857240855693814
          },
          {
           "lower": 0.4970978781580925,
           "timepoint_id": 245,
           "trajectory": "Rabbits",
           "upper": 1.676756316423416
          },
          {
           "lower": 0.4849018916487694,
           "timepoint_id": 246,
           "trajectory": "Rabbits",
           "upper": 1.6580952823162078
          },
          {
           "lower": 0.4760160893201828,
           "timepoint_id": 247,
           "trajectory": "Rabbits",
           "upper": 1.6309352219104767
          },
          {
           "lower": 0.47461206316947935,
           "timepoint_id": 248,
           "trajectory": "Rabbits",
           "upper": 1.565701252222061
          },
          {
           "lower": 0.4717500790953636,
           "timepoint_id": 249,
           "trajectory": "Rabbits",
           "upper": 1.4927363455295564
          },
          {
           "lower": 0.4649355515837669,
           "timepoint_id": 250,
           "trajectory": "Rabbits",
           "upper": 1.427871537208557
          },
          {
           "lower": 0.4553666740655899,
           "timepoint_id": 251,
           "trajectory": "Rabbits",
           "upper": 1.3679876148700711
          },
          {
           "lower": 0.4450364723801613,
           "timepoint_id": 252,
           "trajectory": "Rabbits",
           "upper": 1.303653812408447
          },
          {
           "lower": 0.4424390897154808,
           "timepoint_id": 253,
           "trajectory": "Rabbits",
           "upper": 1.2363705337047572
          },
          {
           "lower": 0.44176057875156405,
           "timepoint_id": 254,
           "trajectory": "Rabbits",
           "upper": 1.2129586338996885
          },
          {
           "lower": 0.44264096915721896,
           "timepoint_id": 255,
           "trajectory": "Rabbits",
           "upper": 1.1858134746551512
          },
          {
           "lower": 0.444147065281868,
           "timepoint_id": 256,
           "trajectory": "Rabbits",
           "upper": 1.1125576615333557
          },
          {
           "lower": 0.4409631475806236,
           "timepoint_id": 257,
           "trajectory": "Rabbits",
           "upper": 1.0961318790912626
          },
          {
           "lower": 0.4385117799043655,
           "timepoint_id": 258,
           "trajectory": "Rabbits",
           "upper": 1.0390619158744812
          },
          {
           "lower": 0.43313329964876174,
           "timepoint_id": 259,
           "trajectory": "Rabbits",
           "upper": 1.0374710619449614
          },
          {
           "lower": 0.42651846557855605,
           "timepoint_id": 260,
           "trajectory": "Rabbits",
           "upper": 1.078562933206558
          },
          {
           "lower": 0.42028400897979734,
           "timepoint_id": 261,
           "trajectory": "Rabbits",
           "upper": 1.1212464570999146
          },
          {
           "lower": 0.41851030141115186,
           "timepoint_id": 262,
           "trajectory": "Rabbits",
           "upper": 1.1654311060905456
          },
          {
           "lower": 0.413428770005703,
           "timepoint_id": 263,
           "trajectory": "Rabbits",
           "upper": 1.2109955728054047
          },
          {
           "lower": 0.41161238849163057,
           "timepoint_id": 264,
           "trajectory": "Rabbits",
           "upper": 1.2577878415584565
          },
          {
           "lower": 0.4150161102414131,
           "timepoint_id": 265,
           "trajectory": "Rabbits",
           "upper": 1.3064170897006988
          },
          {
           "lower": 0.4207983836531639,
           "timepoint_id": 266,
           "trajectory": "Rabbits",
           "upper": 1.3561907589435578
          },
          {
           "lower": 0.4277648523449898,
           "timepoint_id": 267,
           "trajectory": "Rabbits",
           "upper": 1.4066593289375304
          },
          {
           "lower": 0.42866419106721876,
           "timepoint_id": 268,
           "trajectory": "Rabbits",
           "upper": 1.4574932754039762
          },
          {
           "lower": 0.4253242269158363,
           "timepoint_id": 269,
           "trajectory": "Rabbits",
           "upper": 1.5082980334758758
          },
          {
           "lower": 0.41685053110122683,
           "timepoint_id": 270,
           "trajectory": "Rabbits",
           "upper": 1.5586107611656186
          },
          {
           "lower": 0.41453602015972135,
           "timepoint_id": 271,
           "trajectory": "Rabbits",
           "upper": 1.6078900456428524
          },
          {
           "lower": 0.4145487532019615,
           "timepoint_id": 272,
           "trajectory": "Rabbits",
           "upper": 1.6348855912685392
          },
          {
           "lower": 0.412854041159153,
           "timepoint_id": 273,
           "trajectory": "Rabbits",
           "upper": 1.652022325992584
          },
          {
           "lower": 0.40423967093229296,
           "timepoint_id": 274,
           "trajectory": "Rabbits",
           "upper": 1.6629717230796812
          },
          {
           "lower": 0.39665575325489044,
           "timepoint_id": 275,
           "trajectory": "Rabbits",
           "upper": 1.6671080231666564
          },
          {
           "lower": 0.3907979890704155,
           "timepoint_id": 276,
           "trajectory": "Rabbits",
           "upper": 1.6639088928699493
          },
          {
           "lower": 0.3935821086168289,
           "timepoint_id": 277,
           "trajectory": "Rabbits",
           "upper": 1.6557608664035797
          },
          {
           "lower": 0.39856401085853577,
           "timepoint_id": 278,
           "trajectory": "Rabbits",
           "upper": 1.639836424589157
          },
          {
           "lower": 0.404674831032753,
           "timepoint_id": 279,
           "trajectory": "Rabbits",
           "upper": 1.629011660814285
          },
          {
           "lower": 0.41125942319631575,
           "timepoint_id": 280,
           "trajectory": "Rabbits",
           "upper": 1.616130632162094
          },
          {
           "lower": 0.4133000984787941,
           "timepoint_id": 281,
           "trajectory": "Rabbits",
           "upper": 1.6224951922893522
          },
          {
           "lower": 0.41600040942430494,
           "timepoint_id": 282,
           "trajectory": "Rabbits",
           "upper": 1.604687875509262
          },
          {
           "lower": 0.419818215072155,
           "timepoint_id": 283,
           "trajectory": "Rabbits",
           "upper": 1.5689333200454711
          },
          {
           "lower": 0.4247225522994995,
           "timepoint_id": 284,
           "trajectory": "Rabbits",
           "upper": 1.605749088525772
          },
          {
           "lower": 0.43069083243608475,
           "timepoint_id": 285,
           "trajectory": "Rabbits",
           "upper": 1.6541750848293302
          },
          {
           "lower": 0.4377057060599327,
           "timepoint_id": 286,
           "trajectory": "Rabbits",
           "upper": 1.700001937150955
          },
          {
           "lower": 0.44575624018907545,
           "timepoint_id": 287,
           "trajectory": "Rabbits",
           "upper": 1.732171511650085
          },
          {
           "lower": 0.4548378333449364,
           "timepoint_id": 288,
           "trajectory": "Rabbits",
           "upper": 1.7420642554759977
          },
          {
           "lower": 0.4649491384625435,
           "timepoint_id": 289,
           "trajectory": "Rabbits",
           "upper": 1.7516489982604981
          },
          {
           "lower": 0.47579763233661654,
           "timepoint_id": 290,
           "trajectory": "Rabbits",
           "upper": 1.7386007368564604
          },
          {
           "lower": 0.4891229450702667,
           "timepoint_id": 291,
           "trajectory": "Rabbits",
           "upper": 1.7452050268650054
          },
          {
           "lower": 0.5040813356637954,
           "timepoint_id": 292,
           "trajectory": "Rabbits",
           "upper": 1.7711842000484466
          },
          {
           "lower": 0.5201665133237838,
           "timepoint_id": 293,
           "trajectory": "Rabbits",
           "upper": 1.8023575127124785
          },
          {
           "lower": 0.5374025821685791,
           "timepoint_id": 294,
           "trajectory": "Rabbits",
           "upper": 1.8451899886131284
          },
          {
           "lower": 0.5558172702789307,
           "timepoint_id": 295,
           "trajectory": "Rabbits",
           "upper": 1.8826105952262877
          },
          {
           "lower": 0.5754400938749313,
           "timepoint_id": 296,
           "trajectory": "Rabbits",
           "upper": 1.8895355403423308
          },
          {
           "lower": 0.5963023632764817,
           "timepoint_id": 297,
           "trajectory": "Rabbits",
           "upper": 1.8820030152797698
          },
          {
           "lower": 0.6184376865625382,
           "timepoint_id": 298,
           "trajectory": "Rabbits",
           "upper": 1.9074315130710602
          },
          {
           "lower": 0.6331823855638504,
           "timepoint_id": 299,
           "trajectory": "Rabbits",
           "upper": 1.9259164452552795
          },
          {
           "lower": 0.6396550983190536,
           "timepoint_id": 300,
           "trajectory": "Rabbits",
           "upper": 1.9575332403182983
          },
          {
           "lower": 0.6352047085762024,
           "timepoint_id": 301,
           "trajectory": "Rabbits",
           "upper": 1.9521862268447876
          },
          {
           "lower": 0.6227093160152435,
           "timepoint_id": 302,
           "trajectory": "Rabbits",
           "upper": 1.9816403448581696
          },
          {
           "lower": 0.6086790233850479,
           "timepoint_id": 303,
           "trajectory": "Rabbits",
           "upper": 1.9924682796001434
          },
          {
           "lower": 0.600580582022667,
           "timepoint_id": 304,
           "trajectory": "Rabbits",
           "upper": 1.9912116348743438
          },
          {
           "lower": 0.6105746477842331,
           "timepoint_id": 305,
           "trajectory": "Rabbits",
           "upper": 1.9789631009101867
          },
          {
           "lower": 0.6185706049203873,
           "timepoint_id": 306,
           "trajectory": "Rabbits",
           "upper": 1.9551160156726834
          },
          {
           "lower": 0.6101013958454132,
           "timepoint_id": 307,
           "trajectory": "Rabbits",
           "upper": 1.9200285851955412
          },
          {
           "lower": 0.6034355491399765,
           "timepoint_id": 308,
           "trajectory": "Rabbits",
           "upper": 1.9168525636196136
          },
          {
           "lower": 0.5982402086257934,
           "timepoint_id": 309,
           "trajectory": "Rabbits",
           "upper": 1.91293408870697
          },
          {
           "lower": 0.5867925018072129,
           "timepoint_id": 310,
           "trajectory": "Rabbits",
           "upper": 1.9078599810600276
          },
          {
           "lower": 0.5724489957094192,
           "timepoint_id": 311,
           "trajectory": "Rabbits",
           "upper": 1.8693072557449337
          },
          {
           "lower": 0.5638573288917541,
           "timepoint_id": 312,
           "trajectory": "Rabbits",
           "upper": 1.8201348185539243
          },
          {
           "lower": 0.5624638974666596,
           "timepoint_id": 313,
           "trajectory": "Rabbits",
           "upper": 1.7697234213352202
          },
          {
           "lower": 0.5507203966379166,
           "timepoint_id": 314,
           "trajectory": "Rabbits",
           "upper": 1.7301194071769714
          },
          {
           "lower": 0.5544991075992585,
           "timepoint_id": 315,
           "trajectory": "Rabbits",
           "upper": 1.7313940346240997
          },
          {
           "lower": 0.560020101070404,
           "timepoint_id": 316,
           "trajectory": "Rabbits",
           "upper": 1.7541727066040038
          },
          {
           "lower": 0.554255124926567,
           "timepoint_id": 317,
           "trajectory": "Rabbits",
           "upper": 1.7718619644641875
          },
          {
           "lower": 0.5480907291173935,
           "timepoint_id": 318,
           "trajectory": "Rabbits",
           "upper": 1.7652491748332975
          },
          {
           "lower": 0.5356627881526947,
           "timepoint_id": 319,
           "trajectory": "Rabbits",
           "upper": 1.7113009810447692
          },
          {
           "lower": 0.5229950040578842,
           "timepoint_id": 320,
           "trajectory": "Rabbits",
           "upper": 1.7353079974651335
          },
          {
           "lower": 0.5182398110628128,
           "timepoint_id": 321,
           "trajectory": "Rabbits",
           "upper": 1.756126809120178
          },
          {
           "lower": 0.5166056036949158,
           "timepoint_id": 322,
           "trajectory": "Rabbits",
           "upper": 1.769816994667053
          },
          {
           "lower": 0.5164867341518402,
           "timepoint_id": 323,
           "trajectory": "Rabbits",
           "upper": 1.7754958629608153
          },
          {
           "lower": 0.515685823559761,
           "timepoint_id": 324,
           "trajectory": "Rabbits",
           "upper": 1.7829261362552642
          },
          {
           "lower": 0.5072418957948684,
           "timepoint_id": 325,
           "trajectory": "Rabbits",
           "upper": 1.7994502186775208
          },
          {
           "lower": 0.4941129207611084,
           "timepoint_id": 326,
           "trajectory": "Rabbits",
           "upper": 1.8093173563480378
          },
          {
           "lower": 0.4832419604063034,
           "timepoint_id": 327,
           "trajectory": "Rabbits",
           "upper": 1.814925742149353
          },
          {
           "lower": 0.47836018800735475,
           "timepoint_id": 328,
           "trajectory": "Rabbits",
           "upper": 1.7878687262535093
          },
          {
           "lower": 0.4781149536371231,
           "timepoint_id": 329,
           "trajectory": "Rabbits",
           "upper": 1.742596834897995
          },
          {
           "lower": 0.47555607110261916,
           "timepoint_id": 330,
           "trajectory": "Rabbits",
           "upper": 1.721788442134857
          },
          {
           "lower": 0.46873447448015215,
           "timepoint_id": 331,
           "trajectory": "Rabbits",
           "upper": 1.6993482708930967
          },
          {
           "lower": 0.4732772186398506,
           "timepoint_id": 332,
           "trajectory": "Rabbits",
           "upper": 1.6743481099605557
          },
          {
           "lower": 0.468516506254673,
           "timepoint_id": 333,
           "trajectory": "Rabbits",
           "upper": 1.673043769598007
          },
          {
           "lower": 0.4522621363401413,
           "timepoint_id": 334,
           "trajectory": "Rabbits",
           "upper": 1.662751567363739
          },
          {
           "lower": 0.4430853143334389,
           "timepoint_id": 335,
           "trajectory": "Rabbits",
           "upper": 1.64410360455513
          },
          {
           "lower": 0.4432558551430702,
           "timepoint_id": 336,
           "trajectory": "Rabbits",
           "upper": 1.5930341601371765
          },
          {
           "lower": 0.445137058198452,
           "timepoint_id": 337,
           "trajectory": "Rabbits",
           "upper": 1.5551829457283017
          },
          {
           "lower": 0.4464197546243668,
           "timepoint_id": 338,
           "trajectory": "Rabbits",
           "upper": 1.5624677062034602
          },
          {
           "lower": 0.4474971190094948,
           "timepoint_id": 339,
           "trajectory": "Rabbits",
           "upper": 1.5318945050239559
          },
          {
           "lower": 0.4469641879200935,
           "timepoint_id": 340,
           "trajectory": "Rabbits",
           "upper": 1.5298158288002013
          },
          {
           "lower": 0.44488638937473296,
           "timepoint_id": 341,
           "trajectory": "Rabbits",
           "upper": 1.4993150174617766
          },
          {
           "lower": 0.4385147958993912,
           "timepoint_id": 342,
           "trajectory": "Rabbits",
           "upper": 1.429887247085571
          },
          {
           "lower": 0.4331304594874382,
           "timepoint_id": 343,
           "trajectory": "Rabbits",
           "upper": 1.4057254314422607
          },
          {
           "lower": 0.42956598550081254,
           "timepoint_id": 344,
           "trajectory": "Rabbits",
           "upper": 1.4403165519237517
          },
          {
           "lower": 0.4253564924001694,
           "timepoint_id": 345,
           "trajectory": "Rabbits",
           "upper": 1.4883637964725493
          },
          {
           "lower": 0.4244931101799011,
           "timepoint_id": 346,
           "trajectory": "Rabbits",
           "upper": 1.5368669986724852
          },
          {
           "lower": 0.4283281609416008,
           "timepoint_id": 347,
           "trajectory": "Rabbits",
           "upper": 1.5852935135364532
          },
          {
           "lower": 0.42513045519590376,
           "timepoint_id": 348,
           "trajectory": "Rabbits",
           "upper": 1.632164007425308
          },
          {
           "lower": 0.4200458973646164,
           "timepoint_id": 349,
           "trajectory": "Rabbits",
           "upper": 1.6576512217521666
          },
          {
           "lower": 0.42672457695007326,
           "timepoint_id": 350,
           "trajectory": "Rabbits",
           "upper": 1.6621334195137023
          },
          {
           "lower": 0.4345822066068649,
           "timepoint_id": 351,
           "trajectory": "Rabbits",
           "upper": 1.6594287574291229
          },
          {
           "lower": 0.4436092182993889,
           "timepoint_id": 352,
           "trajectory": "Rabbits",
           "upper": 1.6523966014385223
          },
          {
           "lower": 0.45380297005176545,
           "timepoint_id": 353,
           "trajectory": "Rabbits",
           "upper": 1.6378264129161832
          },
          {
           "lower": 0.4610008031129837,
           "timepoint_id": 354,
           "trajectory": "Rabbits",
           "upper": 1.6328679680824278
          },
          {
           "lower": 0.4575705140829086,
           "timepoint_id": 355,
           "trajectory": "Rabbits",
           "upper": 1.6230205595493314
          },
          {
           "lower": 0.4455138087272644,
           "timepoint_id": 356,
           "trajectory": "Rabbits",
           "upper": 1.6049207866191864
          },
          {
           "lower": 0.43511883020401,
           "timepoint_id": 357,
           "trajectory": "Rabbits",
           "upper": 1.578563404083252
          },
          {
           "lower": 0.42818028330802915,
           "timepoint_id": 358,
           "trajectory": "Rabbits",
           "upper": 1.560998100042343
          },
          {
           "lower": 0.42777920365333555,
           "timepoint_id": 359,
           "trajectory": "Rabbits",
           "upper": 1.503386640548706
          },
          {
           "lower": 0.42754523903131486,
           "timepoint_id": 360,
           "trajectory": "Rabbits",
           "upper": 1.480780619382858
          },
          {
           "lower": 0.4262489452958107,
           "timepoint_id": 361,
           "trajectory": "Rabbits",
           "upper": 1.5112244009971618
          },
          {
           "lower": 0.4160794273018837,
           "timepoint_id": 362,
           "trajectory": "Rabbits",
           "upper": 1.5504247188568114
          },
          {
           "lower": 0.4073982730507851,
           "timepoint_id": 363,
           "trajectory": "Rabbits",
           "upper": 1.5913909077644346
          },
          {
           "lower": 0.4004003912210464,
           "timepoint_id": 364,
           "trajectory": "Rabbits",
           "upper": 1.6403545439243314
          },
          {
           "lower": 0.4014432460069656,
           "timepoint_id": 365,
           "trajectory": "Rabbits",
           "upper": 1.6869548618793484
          },
          {
           "lower": 0.406353235244751,
           "timepoint_id": 366,
           "trajectory": "Rabbits",
           "upper": 1.7125972688198088
          },
          {
           "lower": 0.4120946392416954,
           "timepoint_id": 367,
           "trajectory": "Rabbits",
           "upper": 1.6813135623931883
          },
          {
           "lower": 0.41201861947774887,
           "timepoint_id": 368,
           "trajectory": "Rabbits",
           "upper": 1.695450896024704
          },
          {
           "lower": 0.4131871834397316,
           "timepoint_id": 369,
           "trajectory": "Rabbits",
           "upper": 1.704049777984619
          },
          {
           "lower": 0.4150891095399857,
           "timepoint_id": 370,
           "trajectory": "Rabbits",
           "upper": 1.7009122908115384
          },
          {
           "lower": 0.4178817912936211,
           "timepoint_id": 371,
           "trajectory": "Rabbits",
           "upper": 1.725430756807327
          },
          {
           "lower": 0.42179676443338393,
           "timepoint_id": 372,
           "trajectory": "Rabbits",
           "upper": 1.7459316432476044
          },
          {
           "lower": 0.4268047958612442,
           "timepoint_id": 373,
           "trajectory": "Rabbits",
           "upper": 1.76577513217926
          },
          {
           "lower": 0.4328827723860741,
           "timepoint_id": 374,
           "trajectory": "Rabbits",
           "upper": 1.8066574811935423
          },
          {
           "lower": 0.4390408143401146,
           "timepoint_id": 375,
           "trajectory": "Rabbits",
           "upper": 1.8490019261837003
          },
          {
           "lower": 0.4459463968873024,
           "timepoint_id": 376,
           "trajectory": "Rabbits",
           "upper": 1.8599211990833282
          },
          {
           "lower": 0.4538986936211586,
           "timepoint_id": 377,
           "trajectory": "Rabbits",
           "upper": 1.8497736155986784
          },
          {
           "lower": 0.4651094362139702,
           "timepoint_id": 378,
           "trajectory": "Rabbits",
           "upper": 1.8601066946983336
          },
          {
           "lower": 0.4780843734741211,
           "timepoint_id": 379,
           "trajectory": "Rabbits",
           "upper": 1.8876757025718687
          },
          {
           "lower": 0.492148357629776,
           "timepoint_id": 380,
           "trajectory": "Rabbits",
           "upper": 1.9079487442970275
          },
          {
           "lower": 0.5073222741484642,
           "timepoint_id": 381,
           "trajectory": "Rabbits",
           "upper": 1.9209326088428498
          },
          {
           "lower": 0.5236279129981994,
           "timepoint_id": 382,
           "trajectory": "Rabbits",
           "upper": 1.9155714392662049
          },
          {
           "lower": 0.5333443999290466,
           "timepoint_id": 383,
           "trajectory": "Rabbits",
           "upper": 1.9256284475326537
          },
          {
           "lower": 0.5407276719808578,
           "timepoint_id": 384,
           "trajectory": "Rabbits",
           "upper": 1.9541174590587616
          },
          {
           "lower": 0.5475086867809296,
           "timepoint_id": 385,
           "trajectory": "Rabbits",
           "upper": 1.978466236591339
          },
          {
           "lower": 0.5465062320232391,
           "timepoint_id": 386,
           "trajectory": "Rabbits",
           "upper": 1.9914168894290922
          },
          {
           "lower": 0.5525976806879044,
           "timepoint_id": 387,
           "trajectory": "Rabbits",
           "upper": 1.9824489414691924
          },
          {
           "lower": 0.5636728644371033,
           "timepoint_id": 388,
           "trajectory": "Rabbits",
           "upper": 1.9620773255825041
          },
          {
           "lower": 0.5675195813179016,
           "timepoint_id": 389,
           "trajectory": "Rabbits",
           "upper": 1.929941552877426
          },
          {
           "lower": 0.5573868989944458,
           "timepoint_id": 390,
           "trajectory": "Rabbits",
           "upper": 1.8860995233058926
          },
          {
           "lower": 0.5549980401992798,
           "timepoint_id": 391,
           "trajectory": "Rabbits",
           "upper": 1.8778917074203492
          },
          {
           "lower": 0.5580355763435364,
           "timepoint_id": 392,
           "trajectory": "Rabbits",
           "upper": 1.8730241835117338
          },
          {
           "lower": 0.5666703373193741,
           "timepoint_id": 393,
           "trajectory": "Rabbits",
           "upper": 1.8939713478088376
          },
          {
           "lower": 0.5745903313159942,
           "timepoint_id": 394,
           "trajectory": "Rabbits",
           "upper": 1.8707408785820006
          },
          {
           "lower": 0.5794445455074311,
           "timepoint_id": 395,
           "trajectory": "Rabbits",
           "upper": 1.8239542603492735
          },
          {
           "lower": 0.5653527587652206,
           "timepoint_id": 396,
           "trajectory": "Rabbits",
           "upper": 1.7833893656730653
          },
          {
           "lower": 0.5516872137784958,
           "timepoint_id": 397,
           "trajectory": "Rabbits",
           "upper": 1.7533719480037688
          },
          {
           "lower": 0.5397428452968598,
           "timepoint_id": 398,
           "trajectory": "Rabbits",
           "upper": 1.697965383529663
          },
          {
           "lower": 0.5263006567955018,
           "timepoint_id": 399,
           "trajectory": "Rabbits",
           "upper": 1.6832296729087828
          },
          {
           "lower": 0.5212005943059921,
           "timepoint_id": 400,
           "trajectory": "Rabbits",
           "upper": 1.65513117313385
          },
          {
           "lower": 0.5204062521457672,
           "timepoint_id": 401,
           "trajectory": "Rabbits",
           "upper": 1.6790795803070069
          },
          {
           "lower": 0.5212742745876312,
           "timepoint_id": 402,
           "trajectory": "Rabbits",
           "upper": 1.7225245833396912
          },
          {
           "lower": 0.5229991644620895,
           "timepoint_id": 403,
           "trajectory": "Rabbits",
           "upper": 1.730085062980652
          },
          {
           "lower": 0.522838044166565,
           "timepoint_id": 404,
           "trajectory": "Rabbits",
           "upper": 1.694386202096939
          },
          {
           "lower": 0.5160812020301819,
           "timepoint_id": 405,
           "trajectory": "Rabbits",
           "upper": 1.6922270357608795
          },
          {
           "lower": 0.5036900967359543,
           "timepoint_id": 406,
           "trajectory": "Rabbits",
           "upper": 1.7067781984806059
          },
          {
           "lower": 0.49137296676635744,
           "timepoint_id": 407,
           "trajectory": "Rabbits",
           "upper": 1.730581349134445
          },
          {
           "lower": 0.48303412944078444,
           "timepoint_id": 408,
           "trajectory": "Rabbits",
           "upper": 1.7478553891181945
          },
          {
           "lower": 0.48240396082401277,
           "timepoint_id": 409,
           "trajectory": "Rabbits",
           "upper": 1.7600879192352294
          },
          {
           "lower": 0.478350593149662,
           "timepoint_id": 410,
           "trajectory": "Rabbits",
           "upper": 1.764333701133728
          },
          {
           "lower": 0.4821579858660698,
           "timepoint_id": 411,
           "trajectory": "Rabbits",
           "upper": 1.7599210083484647
          },
          {
           "lower": 0.47911573350429537,
           "timepoint_id": 412,
           "trajectory": "Rabbits",
           "upper": 1.776980400085449
          },
          {
           "lower": 0.4739988923072815,
           "timepoint_id": 413,
           "trajectory": "Rabbits",
           "upper": 1.786699366569519
          },
          {
           "lower": 0.4728016659617424,
           "timepoint_id": 414,
           "trajectory": "Rabbits",
           "upper": 1.785502678155899
          },
          {
           "lower": 0.47174362689256666,
           "timepoint_id": 415,
           "trajectory": "Rabbits",
           "upper": 1.7991522669792175
          },
          {
           "lower": 0.46309907287359237,
           "timepoint_id": 416,
           "trajectory": "Rabbits",
           "upper": 1.7694347620010376
          },
          {
           "lower": 0.44931227415800096,
           "timepoint_id": 417,
           "trajectory": "Rabbits",
           "upper": 1.780850529670715
          },
          {
           "lower": 0.44567641615867615,
           "timepoint_id": 418,
           "trajectory": "Rabbits",
           "upper": 1.8043862819671628
          },
          {
           "lower": 0.44674141258001326,
           "timepoint_id": 419,
           "trajectory": "Rabbits",
           "upper": 1.800585466623306
          },
          {
           "lower": 0.44667655378580096,
           "timepoint_id": 420,
           "trajectory": "Rabbits",
           "upper": 1.7862511932849883
          },
          {
           "lower": 0.4480611220002174,
           "timepoint_id": 421,
           "trajectory": "Rabbits",
           "upper": 1.7608599722385405
          },
          {
           "lower": 0.4508348643779755,
           "timepoint_id": 422,
           "trajectory": "Rabbits",
           "upper": 1.724252951145172
          },
          {
           "lower": 0.45494675934314727,
           "timepoint_id": 423,
           "trajectory": "Rabbits",
           "upper": 1.6898755848407745
          },
          {
           "lower": 0.45285946875810623,
           "timepoint_id": 424,
           "trajectory": "Rabbits",
           "upper": 1.6663192331790924
          },
          {
           "lower": 0.44594485461711886,
           "timepoint_id": 425,
           "trajectory": "Rabbits",
           "upper": 1.6706449449062346
          },
          {
           "lower": 0.4385737970471382,
           "timepoint_id": 426,
           "trajectory": "Rabbits",
           "upper": 1.69396036863327
          },
          {
           "lower": 0.43317885547876356,
           "timepoint_id": 427,
           "trajectory": "Rabbits",
           "upper": 1.701903975009918
          },
          {
           "lower": 0.42960587739944456,
           "timepoint_id": 428,
           "trajectory": "Rabbits",
           "upper": 1.6650055527687073
          },
          {
           "lower": 0.4296691849827766,
           "timepoint_id": 429,
           "trajectory": "Rabbits",
           "upper": 1.634255015850067
          },
          {
           "lower": 0.4290746435523033,
           "timepoint_id": 430,
           "trajectory": "Rabbits",
           "upper": 1.6288334131240843
          },
          {
           "lower": 0.4286207392811775,
           "timepoint_id": 431,
           "trajectory": "Rabbits",
           "upper": 1.6152874886989592
          },
          {
           "lower": 0.4312332525849342,
           "timepoint_id": 432,
           "trajectory": "Rabbits",
           "upper": 1.5934741914272308
          },
          {
           "lower": 0.43520423769950867,
           "timepoint_id": 433,
           "trajectory": "Rabbits",
           "upper": 1.563509178161621
          },
          {
           "lower": 0.4337076425552368,
           "timepoint_id": 434,
           "trajectory": "Rabbits",
           "upper": 1.5209748685359954
          },
          {
           "lower": 0.44245827943086624,
           "timepoint_id": 435,
           "trajectory": "Rabbits",
           "upper": 1.483392971754074
          },
          {
           "lower": 0.45230783224105836,
           "timepoint_id": 436,
           "trajectory": "Rabbits",
           "upper": 1.4413735747337342
          },
          {
           "lower": 0.4630254492163658,
           "timepoint_id": 437,
           "trajectory": "Rabbits",
           "upper": 1.4341596007347106
          },
          {
           "lower": 0.47416217923164367,
           "timepoint_id": 438,
           "trajectory": "Rabbits",
           "upper": 1.4368768870830533
          },
          {
           "lower": 0.47718397676944735,
           "timepoint_id": 439,
           "trajectory": "Rabbits",
           "upper": 1.4758596479892727
          },
          {
           "lower": 0.47828148752450944,
           "timepoint_id": 440,
           "trajectory": "Rabbits",
           "upper": 1.5129901826381682
          },
          {
           "lower": 0.4808869779109955,
           "timepoint_id": 441,
           "trajectory": "Rabbits",
           "upper": 1.5477491676807402
          },
          {
           "lower": 0.4719135418534279,
           "timepoint_id": 442,
           "trajectory": "Rabbits",
           "upper": 1.582797646522522
          },
          {
           "lower": 0.4590594068169594,
           "timepoint_id": 443,
           "trajectory": "Rabbits",
           "upper": 1.6263654887676238
          },
          {
           "lower": 0.44851022213697433,
           "timepoint_id": 444,
           "trajectory": "Rabbits",
           "upper": 1.6408966422080993
          },
          {
           "lower": 0.44312494844198225,
           "timepoint_id": 445,
           "trajectory": "Rabbits",
           "upper": 1.633244502544403
          },
          {
           "lower": 0.443962661921978,
           "timepoint_id": 446,
           "trajectory": "Rabbits",
           "upper": 1.6598603188991543
          },
          {
           "lower": 0.43872047662734986,
           "timepoint_id": 447,
           "trajectory": "Rabbits",
           "upper": 1.6537000775337218
          },
          {
           "lower": 0.4330864563584328,
           "timepoint_id": 448,
           "trajectory": "Rabbits",
           "upper": 1.6327678859233856
          },
          {
           "lower": 0.4272132471203804,
           "timepoint_id": 449,
           "trajectory": "Rabbits",
           "upper": 1.6633822619915006
          },
          {
           "lower": 0.4229541838169098,
           "timepoint_id": 450,
           "trajectory": "Rabbits",
           "upper": 1.68935130238533
          },
          {
           "lower": 0.42015309184789656,
           "timepoint_id": 451,
           "trajectory": "Rabbits",
           "upper": 1.7020507633686062
          },
          {
           "lower": 0.4154145985841751,
           "timepoint_id": 452,
           "trajectory": "Rabbits",
           "upper": 1.719242763519287
          },
          {
           "lower": 0.41348221302032473,
           "timepoint_id": 453,
           "trajectory": "Rabbits",
           "upper": 1.7336568772792815
          },
          {
           "lower": 0.4150035724043846,
           "timepoint_id": 454,
           "trajectory": "Rabbits",
           "upper": 1.764562529325485
          },
          {
           "lower": 0.4149696618318558,
           "timepoint_id": 455,
           "trajectory": "Rabbits",
           "upper": 1.8108898639678952
          },
          {
           "lower": 0.41395452320575715,
           "timepoint_id": 456,
           "trajectory": "Rabbits",
           "upper": 1.824523389339447
          },
          {
           "lower": 0.4140619054436684,
           "timepoint_id": 457,
           "trajectory": "Rabbits",
           "upper": 1.813973444700241
          },
          {
           "lower": 0.41541619300842286,
           "timepoint_id": 458,
           "trajectory": "Rabbits",
           "upper": 1.8230098664760586
          },
          {
           "lower": 0.4171424895524979,
           "timepoint_id": 459,
           "trajectory": "Rabbits",
           "upper": 1.8459568142890928
          },
          {
           "lower": 0.42002087384462355,
           "timepoint_id": 460,
           "trajectory": "Rabbits",
           "upper": 1.8654019176959988
          },
          {
           "lower": 0.42402760237455367,
           "timepoint_id": 461,
           "trajectory": "Rabbits",
           "upper": 1.8877334773540495
          },
          {
           "lower": 0.42738759964704515,
           "timepoint_id": 462,
           "trajectory": "Rabbits",
           "upper": 1.902269196510315
          },
          {
           "lower": 0.4318558230996132,
           "timepoint_id": 463,
           "trajectory": "Rabbits",
           "upper": 1.8940174400806427
          },
          {
           "lower": 0.43740634620189667,
           "timepoint_id": 464,
           "trajectory": "Rabbits",
           "upper": 1.8821656048297881
          },
          {
           "lower": 0.4447771281003952,
           "timepoint_id": 465,
           "trajectory": "Rabbits",
           "upper": 1.882305562496185
          },
          {
           "lower": 0.4558165818452835,
           "timepoint_id": 466,
           "trajectory": "Rabbits",
           "upper": 1.9225153148174283
          },
          {
           "lower": 0.4679217264056206,
           "timepoint_id": 467,
           "trajectory": "Rabbits",
           "upper": 1.9554853141307829
          },
          {
           "lower": 0.48110533952713014,
           "timepoint_id": 468,
           "trajectory": "Rabbits",
           "upper": 1.9698303520679474
          },
          {
           "lower": 0.49538414031267164,
           "timepoint_id": 469,
           "trajectory": "Rabbits",
           "upper": 1.9792747676372526
          },
          {
           "lower": 0.5080586045980453,
           "timepoint_id": 470,
           "trajectory": "Rabbits",
           "upper": 1.967767035961151
          },
          {
           "lower": 0.5129945755004883,
           "timepoint_id": 471,
           "trajectory": "Rabbits",
           "upper": 1.9391654551029203
          },
          {
           "lower": 0.5108693033456803,
           "timepoint_id": 472,
           "trajectory": "Rabbits",
           "upper": 1.8988539218902585
          },
          {
           "lower": 0.4991100400686264,
           "timepoint_id": 473,
           "trajectory": "Rabbits",
           "upper": 1.8478488326072688
          },
          {
           "lower": 0.5031557589769363,
           "timepoint_id": 474,
           "trajectory": "Rabbits",
           "upper": 1.8340315818786619
          },
          {
           "lower": 0.5088341951370239,
           "timepoint_id": 475,
           "trajectory": "Rabbits",
           "upper": 1.8401550590991973
          },
          {
           "lower": 0.5159552216529846,
           "timepoint_id": 476,
           "trajectory": "Rabbits",
           "upper": 1.8687605321407317
          },
          {
           "lower": 0.5092094346880913,
           "timepoint_id": 477,
           "trajectory": "Rabbits",
           "upper": 1.8707273721694944
          },
          {
           "lower": 0.5044783890247345,
           "timepoint_id": 478,
           "trajectory": "Rabbits",
           "upper": 1.8262719750404357
          },
          {
           "lower": 0.5081981033086777,
           "timepoint_id": 479,
           "trajectory": "Rabbits",
           "upper": 1.792725670337677
          },
          {
           "lower": 0.5200009018182754,
           "timepoint_id": 480,
           "trajectory": "Rabbits",
           "upper": 1.774888491630554
          },
          {
           "lower": 0.5272310882806778,
           "timepoint_id": 481,
           "trajectory": "Rabbits",
           "upper": 1.715480238199234
          },
          {
           "lower": 0.5269260108470917,
           "timepoint_id": 482,
           "trajectory": "Rabbits",
           "upper": 1.6720775485038757
          },
          {
           "lower": 0.5233244180679322,
           "timepoint_id": 483,
           "trajectory": "Rabbits",
           "upper": 1.6669860184192655
          },
          {
           "lower": 0.5214826852083206,
           "timepoint_id": 484,
           "trajectory": "Rabbits",
           "upper": 1.630444073677063
          },
          {
           "lower": 0.5193063199520112,
           "timepoint_id": 485,
           "trajectory": "Rabbits",
           "upper": 1.5780684947967527
          },
          {
           "lower": 0.5129514932632446,
           "timepoint_id": 486,
           "trajectory": "Rabbits",
           "upper": 1.5786680579185486
          },
          {
           "lower": 0.500324958562851,
           "timepoint_id": 487,
           "trajectory": "Rabbits",
           "upper": 1.6250803112983703
          },
          {
           "lower": 0.488868248462677,
           "timepoint_id": 488,
           "trajectory": "Rabbits",
           "upper": 1.6607791423797607
          },
          {
           "lower": 0.486769101023674,
           "timepoint_id": 489,
           "trajectory": "Rabbits",
           "upper": 1.6902902007102965
          },
          {
           "lower": 0.48539797216653824,
           "timepoint_id": 490,
           "trajectory": "Rabbits",
           "upper": 1.6994019508361815
          },
          {
           "lower": 0.4866256728768349,
           "timepoint_id": 491,
           "trajectory": "Rabbits",
           "upper": 1.7332690715789794
          },
          {
           "lower": 0.48455681949853896,
           "timepoint_id": 492,
           "trajectory": "Rabbits",
           "upper": 1.7707481265068052
          },
          {
           "lower": 0.48429418802261354,
           "timepoint_id": 493,
           "trajectory": "Rabbits",
           "upper": 1.792945963144302
          },
          {
           "lower": 0.4749647453427315,
           "timepoint_id": 494,
           "trajectory": "Rabbits",
           "upper": 1.8070252597331997
          },
          {
           "lower": 0.4730565622448921,
           "timepoint_id": 495,
           "trajectory": "Rabbits",
           "upper": 1.812970924377441
          },
          {
           "lower": 0.4718085706233978,
           "timepoint_id": 496,
           "trajectory": "Rabbits",
           "upper": 1.8213407933712003
          },
          {
           "lower": 0.46968354731798173,
           "timepoint_id": 497,
           "trajectory": "Rabbits",
           "upper": 1.830135244131088
          },
          {
           "lower": 0.46901567131280897,
           "timepoint_id": 498,
           "trajectory": "Rabbits",
           "upper": 1.8315934181213378
          },
          {
           "lower": 0.45796349793672564,
           "timepoint_id": 499,
           "trajectory": "Rabbits",
           "upper": 1.8251835584640501
          },
          {
           "lower": 0.6978829830884934,
           "timepoint_id": 0,
           "trajectory": "Wolves",
           "upper": 0.8785625755786896
          },
          {
           "lower": 0.6641233384609222,
           "timepoint_id": 1,
           "trajectory": "Wolves",
           "upper": 0.8490899831056594
          },
          {
           "lower": 0.6312833309173584,
           "timepoint_id": 2,
           "trajectory": "Wolves",
           "upper": 0.8187080174684525
          },
          {
           "lower": 0.5993284106254577,
           "timepoint_id": 3,
           "trajectory": "Wolves",
           "upper": 0.7882281363010406
          },
          {
           "lower": 0.5684530228376389,
           "timepoint_id": 4,
           "trajectory": "Wolves",
           "upper": 0.7585157841444015
          },
          {
           "lower": 0.5389212429523468,
           "timepoint_id": 5,
           "trajectory": "Wolves",
           "upper": 0.728909558057785
          },
          {
           "lower": 0.508569210767746,
           "timepoint_id": 6,
           "trajectory": "Wolves",
           "upper": 0.699645733833313
          },
          {
           "lower": 0.47970481812953947,
           "timepoint_id": 7,
           "trajectory": "Wolves",
           "upper": 0.6709146112203598
          },
          {
           "lower": 0.4523730292916298,
           "timepoint_id": 8,
           "trajectory": "Wolves",
           "upper": 0.6427964657545089
          },
          {
           "lower": 0.4274070724844933,
           "timepoint_id": 9,
           "trajectory": "Wolves",
           "upper": 0.6151410669088363
          },
          {
           "lower": 0.4040606811642647,
           "timepoint_id": 10,
           "trajectory": "Wolves",
           "upper": 0.5883755654096603
          },
          {
           "lower": 0.38189286440610887,
           "timepoint_id": 11,
           "trajectory": "Wolves",
           "upper": 0.5625755846500397
          },
          {
           "lower": 0.3611419662833214,
           "timepoint_id": 12,
           "trajectory": "Wolves",
           "upper": 0.5377932578325272
          },
          {
           "lower": 0.3418260633945465,
           "timepoint_id": 13,
           "trajectory": "Wolves",
           "upper": 0.5140648692846298
          },
          {
           "lower": 0.32434320002794265,
           "timepoint_id": 14,
           "trajectory": "Wolves",
           "upper": 0.4914118558168411
          },
          {
           "lower": 0.308052234351635,
           "timepoint_id": 15,
           "trajectory": "Wolves",
           "upper": 0.46984291523694993
          },
          {
           "lower": 0.292301145195961,
           "timepoint_id": 16,
           "trajectory": "Wolves",
           "upper": 0.44935783445835115
          },
          {
           "lower": 0.2778008684515953,
           "timepoint_id": 17,
           "trajectory": "Wolves",
           "upper": 0.4301173686981201
          },
          {
           "lower": 0.26438556164503096,
           "timepoint_id": 18,
           "trajectory": "Wolves",
           "upper": 0.4124217718839645
          },
          {
           "lower": 0.2520015753805637,
           "timepoint_id": 19,
           "trajectory": "Wolves",
           "upper": 0.3966095671057701
          },
          {
           "lower": 0.2405976265668869,
           "timepoint_id": 20,
           "trajectory": "Wolves",
           "upper": 0.3818202704191208
          },
          {
           "lower": 0.23012515902519226,
           "timepoint_id": 21,
           "trajectory": "Wolves",
           "upper": 0.36814202964305875
          },
          {
           "lower": 0.2205386035144329,
           "timepoint_id": 22,
           "trajectory": "Wolves",
           "upper": 0.355433976650238
          },
          {
           "lower": 0.2117955356836319,
           "timepoint_id": 23,
           "trajectory": "Wolves",
           "upper": 0.3443806380033493
          },
          {
           "lower": 0.20385783836245536,
           "timepoint_id": 24,
           "trajectory": "Wolves",
           "upper": 0.3340659737586975
          },
          {
           "lower": 0.19668957069516183,
           "timepoint_id": 25,
           "trajectory": "Wolves",
           "upper": 0.3246395543217659
          },
          {
           "lower": 0.19026003256440163,
           "timepoint_id": 26,
           "trajectory": "Wolves",
           "upper": 0.31551031321287154
          },
          {
           "lower": 0.1845422215759754,
           "timepoint_id": 27,
           "trajectory": "Wolves",
           "upper": 0.30778101086616516
          },
          {
           "lower": 0.17951351404190063,
           "timepoint_id": 28,
           "trajectory": "Wolves",
           "upper": 0.3014834031462669
          },
          {
           "lower": 0.17515575438737868,
           "timepoint_id": 29,
           "trajectory": "Wolves",
           "upper": 0.2960398867726326
          },
          {
           "lower": 0.17145556807518006,
           "timepoint_id": 30,
           "trajectory": "Wolves",
           "upper": 0.29144793599843977
          },
          {
           "lower": 0.1682551011443138,
           "timepoint_id": 31,
           "trajectory": "Wolves",
           "upper": 0.2877653166651726
          },
          {
           "lower": 0.16566150188446044,
           "timepoint_id": 32,
           "trajectory": "Wolves",
           "upper": 0.28693538904190063
          },
          {
           "lower": 0.16270144805312156,
           "timepoint_id": 33,
           "trajectory": "Wolves",
           "upper": 0.2872831955552101
          },
          {
           "lower": 0.15977166518568992,
           "timepoint_id": 34,
           "trajectory": "Wolves",
           "upper": 0.2855072125792503
          },
          {
           "lower": 0.15745530575513839,
           "timepoint_id": 35,
           "trajectory": "Wolves",
           "upper": 0.28406711816787716
          },
          {
           "lower": 0.15635407567024232,
           "timepoint_id": 36,
           "trajectory": "Wolves",
           "upper": 0.28420774787664416
          },
          {
           "lower": 0.1553159050643444,
           "timepoint_id": 37,
           "trajectory": "Wolves",
           "upper": 0.2906181916594505
          },
          {
           "lower": 0.15418352782726288,
           "timepoint_id": 38,
           "trajectory": "Wolves",
           "upper": 0.2981049165129661
          },
          {
           "lower": 0.15248012393712998,
           "timepoint_id": 39,
           "trajectory": "Wolves",
           "upper": 0.30431753545999524
          },
          {
           "lower": 0.1513179808855057,
           "timepoint_id": 40,
           "trajectory": "Wolves",
           "upper": 0.31276321113109584
          },
          {
           "lower": 0.150708919018507,
           "timepoint_id": 41,
           "trajectory": "Wolves",
           "upper": 0.3227651119232177
          },
          {
           "lower": 0.15067099034786224,
           "timepoint_id": 42,
           "trajectory": "Wolves",
           "upper": 0.33444448262453075
          },
          {
           "lower": 0.15122820064425468,
           "timepoint_id": 43,
           "trajectory": "Wolves",
           "upper": 0.3479314237833023
          },
          {
           "lower": 0.1519061431288719,
           "timepoint_id": 44,
           "trajectory": "Wolves",
           "upper": 0.3636187583208084
          },
          {
           "lower": 0.15300024896860123,
           "timepoint_id": 45,
           "trajectory": "Wolves",
           "upper": 0.3816536068916321
          },
          {
           "lower": 0.1547201916575432,
           "timepoint_id": 46,
           "trajectory": "Wolves",
           "upper": 0.40196546912193293
          },
          {
           "lower": 0.15870047509670257,
           "timepoint_id": 47,
           "trajectory": "Wolves",
           "upper": 0.425565093755722
          },
          {
           "lower": 0.16432776749134065,
           "timepoint_id": 48,
           "trajectory": "Wolves",
           "upper": 0.45279376059770576
          },
          {
           "lower": 0.16942375674843788,
           "timepoint_id": 49,
           "trajectory": "Wolves",
           "upper": 0.4828007921576499
          },
          {
           "lower": 0.175539580732584,
           "timepoint_id": 50,
           "trajectory": "Wolves",
           "upper": 0.5155815362930297
          },
          {
           "lower": 0.18278886899352073,
           "timepoint_id": 51,
           "trajectory": "Wolves",
           "upper": 0.5510401755571365
          },
          {
           "lower": 0.1913030579686165,
           "timepoint_id": 52,
           "trajectory": "Wolves",
           "upper": 0.5889679074287414
          },
          {
           "lower": 0.20104168206453324,
           "timepoint_id": 53,
           "trajectory": "Wolves",
           "upper": 0.6290197759866714
          },
          {
           "lower": 0.21211343184113501,
           "timepoint_id": 54,
           "trajectory": "Wolves",
           "upper": 0.6707020252943038
          },
          {
           "lower": 0.22486768662929535,
           "timepoint_id": 55,
           "trajectory": "Wolves",
           "upper": 0.7164292693138121
          },
          {
           "lower": 0.239505136013031,
           "timepoint_id": 56,
           "trajectory": "Wolves",
           "upper": 0.7632388323545456
          },
          {
           "lower": 0.256245319545269,
           "timepoint_id": 57,
           "trajectory": "Wolves",
           "upper": 0.8089749157428742
          },
          {
           "lower": 0.27532428354024885,
           "timepoint_id": 58,
           "trajectory": "Wolves",
           "upper": 0.8524002462625504
          },
          {
           "lower": 0.2969896480441093,
           "timepoint_id": 59,
           "trajectory": "Wolves",
           "upper": 0.8927618145942687
          },
          {
           "lower": 0.32149026095867156,
           "timepoint_id": 60,
           "trajectory": "Wolves",
           "upper": 0.928539514541626
          },
          {
           "lower": 0.34906338155269623,
           "timepoint_id": 61,
           "trajectory": "Wolves",
           "upper": 0.9584593564271926
          },
          {
           "lower": 0.37991348952054976,
           "timepoint_id": 62,
           "trajectory": "Wolves",
           "upper": 0.9817579507827758
          },
          {
           "lower": 0.4126221776008606,
           "timepoint_id": 63,
           "trajectory": "Wolves",
           "upper": 0.9952844083309174
          },
          {
           "lower": 0.4471473842859268,
           "timepoint_id": 64,
           "trajectory": "Wolves",
           "upper": 0.999888813495636
          },
          {
           "lower": 0.4840144827961922,
           "timepoint_id": 65,
           "trajectory": "Wolves",
           "upper": 0.9991763532161713
          },
          {
           "lower": 0.5238396972417831,
           "timepoint_id": 66,
           "trajectory": "Wolves",
           "upper": 0.9945943206548691
          },
          {
           "lower": 0.5663493752479554,
           "timepoint_id": 67,
           "trajectory": "Wolves",
           "upper": 0.996418884396553
          },
          {
           "lower": 0.6110985726118088,
           "timepoint_id": 68,
           "trajectory": "Wolves",
           "upper": 0.9992064297199249
          },
          {
           "lower": 0.6574589967727661,
           "timepoint_id": 69,
           "trajectory": "Wolves",
           "upper": 1.000333058834076
          },
          {
           "lower": 0.7046235054731369,
           "timepoint_id": 70,
           "trajectory": "Wolves",
           "upper": 1.0065573751926422
          },
          {
           "lower": 0.7525284260511398,
           "timepoint_id": 71,
           "trajectory": "Wolves",
           "upper": 1.0058083832263947
          },
          {
           "lower": 0.7894466161727905,
           "timepoint_id": 72,
           "trajectory": "Wolves",
           "upper": 1.0090785443782806
          },
          {
           "lower": 0.817705824971199,
           "timepoint_id": 73,
           "trajectory": "Wolves",
           "upper": 1.0075386762619019
          },
          {
           "lower": 0.8005896002054215,
           "timepoint_id": 74,
           "trajectory": "Wolves",
           "upper": 1.0106054842472076
          },
          {
           "lower": 0.7775146216154099,
           "timepoint_id": 75,
           "trajectory": "Wolves",
           "upper": 1.0060164749622345
          },
          {
           "lower": 0.7466731667518616,
           "timepoint_id": 76,
           "trajectory": "Wolves",
           "upper": 1.002402228116989
          },
          {
           "lower": 0.7160019606351853,
           "timepoint_id": 77,
           "trajectory": "Wolves",
           "upper": 1.0037639915943146
          },
          {
           "lower": 0.6857686698436737,
           "timepoint_id": 78,
           "trajectory": "Wolves",
           "upper": 1.0013867408037185
          },
          {
           "lower": 0.6561907947063446,
           "timepoint_id": 79,
           "trajectory": "Wolves",
           "upper": 1.0036586046218872
          },
          {
           "lower": 0.6274442553520203,
           "timepoint_id": 80,
           "trajectory": "Wolves",
           "upper": 1.0084400415420531
          },
          {
           "lower": 0.5996661454439163,
           "timepoint_id": 81,
           "trajectory": "Wolves",
           "upper": 1.0045182228088378
          },
          {
           "lower": 0.57296042740345,
           "timepoint_id": 82,
           "trajectory": "Wolves",
           "upper": 0.9934995383024215
          },
          {
           "lower": 0.547403609752655,
           "timepoint_id": 83,
           "trajectory": "Wolves",
           "upper": 0.9773024916648865
          },
          {
           "lower": 0.5230468422174454,
           "timepoint_id": 84,
           "trajectory": "Wolves",
           "upper": 0.9568425595760346
          },
          {
           "lower": 0.49992330372333527,
           "timepoint_id": 85,
           "trajectory": "Wolves",
           "upper": 0.9327404618263244
          },
          {
           "lower": 0.478048375248909,
           "timepoint_id": 86,
           "trajectory": "Wolves",
           "upper": 0.9057140052318573
          },
          {
           "lower": 0.45742707401514054,
           "timepoint_id": 87,
           "trajectory": "Wolves",
           "upper": 0.8764394521713257
          },
          {
           "lower": 0.43804881274700164,
           "timepoint_id": 88,
           "trajectory": "Wolves",
           "upper": 0.8455302238464355
          },
          {
           "lower": 0.41914495676755903,
           "timepoint_id": 89,
           "trajectory": "Wolves",
           "upper": 0.8135338127613067
          },
          {
           "lower": 0.39964639097452165,
           "timepoint_id": 90,
           "trajectory": "Wolves",
           "upper": 0.7809252381324767
          },
          {
           "lower": 0.38090849965810775,
           "timepoint_id": 91,
           "trajectory": "Wolves",
           "upper": 0.7481121331453322
          },
          {
           "lower": 0.36345911026000977,
           "timepoint_id": 92,
           "trajectory": "Wolves",
           "upper": 0.7154356390237807
          },
          {
           "lower": 0.3472597599029541,
           "timepoint_id": 93,
           "trajectory": "Wolves",
           "upper": 0.6831769913434981
          },
          {
           "lower": 0.3300993725657463,
           "timepoint_id": 94,
           "trajectory": "Wolves",
           "upper": 0.6515639722347258
          },
          {
           "lower": 0.3140900060534477,
           "timepoint_id": 95,
           "trajectory": "Wolves",
           "upper": 0.6220583736896513
          },
          {
           "lower": 0.29845099747180937,
           "timepoint_id": 96,
           "trajectory": "Wolves",
           "upper": 0.5940448939800261
          },
          {
           "lower": 0.2848609298467636,
           "timepoint_id": 97,
           "trajectory": "Wolves",
           "upper": 0.5669990092515944
          },
          {
           "lower": 0.2750711590051651,
           "timepoint_id": 98,
           "trajectory": "Wolves",
           "upper": 0.5409881681203841
          },
          {
           "lower": 0.2662804305553436,
           "timepoint_id": 99,
           "trajectory": "Wolves",
           "upper": 0.5160592570900916
          },
          {
           "lower": 0.2568549528717995,
           "timepoint_id": 100,
           "trajectory": "Wolves",
           "upper": 0.4922410160303115
          },
          {
           "lower": 0.2453808605670929,
           "timepoint_id": 101,
           "trajectory": "Wolves",
           "upper": 0.4695479169487952
          },
          {
           "lower": 0.23483706042170524,
           "timepoint_id": 102,
           "trajectory": "Wolves",
           "upper": 0.44798238128423684
          },
          {
           "lower": 0.22517933696508408,
           "timepoint_id": 103,
           "trajectory": "Wolves",
           "upper": 0.4275363013148307
          },
          {
           "lower": 0.21632617264986037,
           "timepoint_id": 104,
           "trajectory": "Wolves",
           "upper": 0.40819491893053045
          },
          {
           "lower": 0.20827872157096863,
           "timepoint_id": 105,
           "trajectory": "Wolves",
           "upper": 0.38993706703186026
          },
          {
           "lower": 0.20180438086390495,
           "timepoint_id": 106,
           "trajectory": "Wolves",
           "upper": 0.372736433148384
          },
          {
           "lower": 0.1948359914124012,
           "timepoint_id": 107,
           "trajectory": "Wolves",
           "upper": 0.3565643206238746
          },
          {
           "lower": 0.1886773332953453,
           "timepoint_id": 108,
           "trajectory": "Wolves",
           "upper": 0.34142603725194925
          },
          {
           "lower": 0.1822824612259865,
           "timepoint_id": 109,
           "trajectory": "Wolves",
           "upper": 0.3280029445886612
          },
          {
           "lower": 0.1768182784318924,
           "timepoint_id": 110,
           "trajectory": "Wolves",
           "upper": 0.3155541613698006
          },
          {
           "lower": 0.17241908088326455,
           "timepoint_id": 111,
           "trajectory": "Wolves",
           "upper": 0.30780972689390185
          },
          {
           "lower": 0.16910969465970993,
           "timepoint_id": 112,
           "trajectory": "Wolves",
           "upper": 0.29929260164499283
          },
          {
           "lower": 0.16727722436189651,
           "timepoint_id": 113,
           "trajectory": "Wolves",
           "upper": 0.30073579549789425
          },
          {
           "lower": 0.16588936671614646,
           "timepoint_id": 114,
           "trajectory": "Wolves",
           "upper": 0.3032856702804565
          },
          {
           "lower": 0.1639499694108963,
           "timepoint_id": 115,
           "trajectory": "Wolves",
           "upper": 0.3007561579346657
          },
          {
           "lower": 0.1626553200185299,
           "timepoint_id": 116,
           "trajectory": "Wolves",
           "upper": 0.30875262916088103
          },
          {
           "lower": 0.1620188243687153,
           "timepoint_id": 117,
           "trajectory": "Wolves",
           "upper": 0.3202205196022987
          },
          {
           "lower": 0.16206154301762582,
           "timepoint_id": 118,
           "trajectory": "Wolves",
           "upper": 0.334099380671978
          },
          {
           "lower": 0.16281294375658034,
           "timepoint_id": 119,
           "trajectory": "Wolves",
           "upper": 0.3500352308154106
          },
          {
           "lower": 0.1627533718943596,
           "timepoint_id": 120,
           "trajectory": "Wolves",
           "upper": 0.3681897342205047
          },
          {
           "lower": 0.1629971034824848,
           "timepoint_id": 121,
           "trajectory": "Wolves",
           "upper": 0.3887231931090354
          },
          {
           "lower": 0.16158675104379655,
           "timepoint_id": 122,
           "trajectory": "Wolves",
           "upper": 0.41178561300039285
          },
          {
           "lower": 0.16041808053851128,
           "timepoint_id": 123,
           "trajectory": "Wolves",
           "upper": 0.4375055462121963
          },
          {
           "lower": 0.15754736736416816,
           "timepoint_id": 124,
           "trajectory": "Wolves",
           "upper": 0.46597421467304223
          },
          {
           "lower": 0.1552147835493088,
           "timepoint_id": 125,
           "trajectory": "Wolves",
           "upper": 0.4972257941961288
          },
          {
           "lower": 0.15341154709458352,
           "timepoint_id": 126,
           "trajectory": "Wolves",
           "upper": 0.5312163263559341
          },
          {
           "lower": 0.15204961746931075,
           "timepoint_id": 127,
           "trajectory": "Wolves",
           "upper": 0.5678020358085631
          },
          {
           "lower": 0.15124001801013948,
           "timepoint_id": 128,
           "trajectory": "Wolves",
           "upper": 0.6067143827676772
          },
          {
           "lower": 0.15099834725260736,
           "timepoint_id": 129,
           "trajectory": "Wolves",
           "upper": 0.6475424587726591
          },
          {
           "lower": 0.15297048538923264,
           "timepoint_id": 130,
           "trajectory": "Wolves",
           "upper": 0.6897222399711608
          },
          {
           "lower": 0.15530856102705,
           "timepoint_id": 131,
           "trajectory": "Wolves",
           "upper": 0.7325359314680098
          },
          {
           "lower": 0.154922217130661,
           "timepoint_id": 132,
           "trajectory": "Wolves",
           "upper": 0.775128862261772
          },
          {
           "lower": 0.1550935097038746,
           "timepoint_id": 133,
           "trajectory": "Wolves",
           "upper": 0.8165419191122054
          },
          {
           "lower": 0.15602648109197617,
           "timepoint_id": 134,
           "trajectory": "Wolves",
           "upper": 0.8557619512081145
          },
          {
           "lower": 0.15872434675693511,
           "timepoint_id": 135,
           "trajectory": "Wolves",
           "upper": 0.8917760968208313
          },
          {
           "lower": 0.1621825523674488,
           "timepoint_id": 136,
           "trajectory": "Wolves",
           "upper": 0.9236480355262755
          },
          {
           "lower": 0.1664690352976322,
           "timepoint_id": 137,
           "trajectory": "Wolves",
           "upper": 0.9505664110183715
          },
          {
           "lower": 0.1716640517115593,
           "timepoint_id": 138,
           "trajectory": "Wolves",
           "upper": 0.9747474461793899
          },
          {
           "lower": 0.17786126136779784,
           "timepoint_id": 139,
           "trajectory": "Wolves",
           "upper": 0.9923914164304733
          },
          {
           "lower": 0.1851704627275467,
           "timepoint_id": 140,
           "trajectory": "Wolves",
           "upper": 0.9977774322032928
          },
          {
           "lower": 0.19371743574738504,
           "timepoint_id": 141,
           "trajectory": "Wolves",
           "upper": 0.9930166512727737
          },
          {
           "lower": 0.20364718586206437,
           "timepoint_id": 142,
           "trajectory": "Wolves",
           "upper": 0.9828639149665832
          },
          {
           "lower": 0.21503195986151696,
           "timepoint_id": 143,
           "trajectory": "Wolves",
           "upper": 0.9812245339155197
          },
          {
           "lower": 0.22812195122241974,
           "timepoint_id": 144,
           "trajectory": "Wolves",
           "upper": 0.9861322522163392
          },
          {
           "lower": 0.24313153102993965,
           "timepoint_id": 145,
           "trajectory": "Wolves",
           "upper": 0.9755009979009628
          },
          {
           "lower": 0.2602828934788704,
           "timepoint_id": 146,
           "trajectory": "Wolves",
           "upper": 0.9892365634441376
          },
          {
           "lower": 0.27981317788362503,
           "timepoint_id": 147,
           "trajectory": "Wolves",
           "upper": 0.9977049201726913
          },
          {
           "lower": 0.3019690975546837,
           "timepoint_id": 148,
           "trajectory": "Wolves",
           "upper": 0.9995893061161041
          },
          {
           "lower": 0.32699553817510607,
           "timepoint_id": 149,
           "trajectory": "Wolves",
           "upper": 0.9988284707069397
          },
          {
           "lower": 0.3521470993757248,
           "timepoint_id": 150,
           "trajectory": "Wolves",
           "upper": 0.9993571370840073
          },
          {
           "lower": 0.37960807234048843,
           "timepoint_id": 151,
           "trajectory": "Wolves",
           "upper": 1.0005356311798095
          },
          {
           "lower": 0.40954194217920303,
           "timepoint_id": 152,
           "trajectory": "Wolves",
           "upper": 1.0013312101364136
          },
          {
           "lower": 0.4423285946249962,
           "timepoint_id": 153,
           "trajectory": "Wolves",
           "upper": 1.0075413048267365
          },
          {
           "lower": 0.4781190812587738,
           "timepoint_id": 154,
           "trajectory": "Wolves",
           "upper": 1.0118739128112793
          },
          {
           "lower": 0.516811516880989,
           "timepoint_id": 155,
           "trajectory": "Wolves",
           "upper": 1.0101054847240447
          },
          {
           "lower": 0.5441705912351609,
           "timepoint_id": 156,
           "trajectory": "Wolves",
           "upper": 1.0067384481430053
          },
          {
           "lower": 0.568549570441246,
           "timepoint_id": 157,
           "trajectory": "Wolves",
           "upper": 1.002038586139679
          },
          {
           "lower": 0.5429022997617722,
           "timepoint_id": 158,
           "trajectory": "Wolves",
           "upper": 1.0011488199234009
          },
          {
           "lower": 0.5336899936199189,
           "timepoint_id": 159,
           "trajectory": "Wolves",
           "upper": 0.9971868366003036
          },
          {
           "lower": 0.5072744593024254,
           "timepoint_id": 160,
           "trajectory": "Wolves",
           "upper": 0.9897120624780655
          },
          {
           "lower": 0.48223721534013747,
           "timepoint_id": 161,
           "trajectory": "Wolves",
           "upper": 0.9831840842962265
          },
          {
           "lower": 0.4597930729389191,
           "timepoint_id": 162,
           "trajectory": "Wolves",
           "upper": 0.9957805424928665
          },
          {
           "lower": 0.4402854099869728,
           "timepoint_id": 163,
           "trajectory": "Wolves",
           "upper": 1.0009864032268525
          },
          {
           "lower": 0.42200980633497237,
           "timepoint_id": 164,
           "trajectory": "Wolves",
           "upper": 1.0010557353496552
          },
          {
           "lower": 0.40494498014450075,
           "timepoint_id": 165,
           "trajectory": "Wolves",
           "upper": 0.9978171199560165
          },
          {
           "lower": 0.3890667766332626,
           "timepoint_id": 166,
           "trajectory": "Wolves",
           "upper": 0.9965868800878525
          },
          {
           "lower": 0.3743485063314438,
           "timepoint_id": 167,
           "trajectory": "Wolves",
           "upper": 0.998455336689949
          },
          {
           "lower": 0.3607614189386368,
           "timepoint_id": 168,
           "trajectory": "Wolves",
           "upper": 0.9998154699802398
          },
          {
           "lower": 0.3482774034142494,
           "timepoint_id": 169,
           "trajectory": "Wolves",
           "upper": 1.0002733141183853
          },
          {
           "lower": 0.3368685841560364,
           "timepoint_id": 170,
           "trajectory": "Wolves",
           "upper": 0.9956602454185486
          },
          {
           "lower": 0.3265078768134117,
           "timepoint_id": 171,
           "trajectory": "Wolves",
           "upper": 0.9811929523944855
          },
          {
           "lower": 0.3171424388885498,
           "timepoint_id": 172,
           "trajectory": "Wolves",
           "upper": 0.9618608713150024
          },
          {
           "lower": 0.3085785865783691,
           "timepoint_id": 173,
           "trajectory": "Wolves",
           "upper": 0.9382475227117538
          },
          {
           "lower": 0.3010013967752457,
           "timepoint_id": 174,
           "trajectory": "Wolves",
           "upper": 0.9111802756786347
          },
          {
           "lower": 0.2920254796743393,
           "timepoint_id": 175,
           "trajectory": "Wolves",
           "upper": 0.8814419984817505
          },
          {
           "lower": 0.28120449781417844,
           "timepoint_id": 176,
           "trajectory": "Wolves",
           "upper": 0.8504221975803375
          },
          {
           "lower": 0.26939221322536466,
           "timepoint_id": 177,
           "trajectory": "Wolves",
           "upper": 0.8195193082094192
          },
          {
           "lower": 0.25854006707668303,
           "timepoint_id": 178,
           "trajectory": "Wolves",
           "upper": 0.7879701435565949
          },
          {
           "lower": 0.25412780195474627,
           "timepoint_id": 179,
           "trajectory": "Wolves",
           "upper": 0.7561036467552185
          },
          {
           "lower": 0.2500698037445545,
           "timepoint_id": 180,
           "trajectory": "Wolves",
           "upper": 0.7242607533931732
          },
          {
           "lower": 0.24498572200536728,
           "timepoint_id": 181,
           "trajectory": "Wolves",
           "upper": 0.692724061012268
          },
          {
           "lower": 0.23654634952545167,
           "timepoint_id": 182,
           "trajectory": "Wolves",
           "upper": 0.6617236942052841
          },
          {
           "lower": 0.22896385863423346,
           "timepoint_id": 183,
           "trajectory": "Wolves",
           "upper": 0.6314462453126907
          },
          {
           "lower": 0.22203873470425606,
           "timepoint_id": 184,
           "trajectory": "Wolves",
           "upper": 0.602038112282753
          },
          {
           "lower": 0.2138136386871338,
           "timepoint_id": 185,
           "trajectory": "Wolves",
           "upper": 0.5736097812652587
          },
          {
           "lower": 0.20605550929903985,
           "timepoint_id": 186,
           "trajectory": "Wolves",
           "upper": 0.5462440490722655
          },
          {
           "lower": 0.20027177259325982,
           "timepoint_id": 187,
           "trajectory": "Wolves",
           "upper": 0.5199971854686737
          },
          {
           "lower": 0.19767072200775146,
           "timepoint_id": 188,
           "trajectory": "Wolves",
           "upper": 0.49490585774183266
          },
          {
           "lower": 0.19202626794576644,
           "timepoint_id": 189,
           "trajectory": "Wolves",
           "upper": 0.4709893852472305
          },
          {
           "lower": 0.18630552366375924,
           "timepoint_id": 190,
           "trajectory": "Wolves",
           "upper": 0.44825136810541144
          },
          {
           "lower": 0.1812824599444866,
           "timepoint_id": 191,
           "trajectory": "Wolves",
           "upper": 0.42668551057577125
          },
          {
           "lower": 0.17693950831890107,
           "timepoint_id": 192,
           "trajectory": "Wolves",
           "upper": 0.40627554655075065
          },
          {
           "lower": 0.17324449941515924,
           "timepoint_id": 193,
           "trajectory": "Wolves",
           "upper": 0.4030626893043518
          },
          {
           "lower": 0.1699801467359066,
           "timepoint_id": 194,
           "trajectory": "Wolves",
           "upper": 0.41938123404979705
          },
          {
           "lower": 0.16804226040840148,
           "timepoint_id": 195,
           "trajectory": "Wolves",
           "upper": 0.4239849567413329
          },
          {
           "lower": 0.1663979098200798,
           "timepoint_id": 196,
           "trajectory": "Wolves",
           "upper": 0.40634532272815693
          },
          {
           "lower": 0.1647381938993931,
           "timepoint_id": 197,
           "trajectory": "Wolves",
           "upper": 0.4069538936018944
          },
          {
           "lower": 0.1636613830924034,
           "timepoint_id": 198,
           "trajectory": "Wolves",
           "upper": 0.42307848632335654
          },
          {
           "lower": 0.16307924538850785,
           "timepoint_id": 199,
           "trajectory": "Wolves",
           "upper": 0.45002248883247364
          },
          {
           "lower": 0.1631910242140293,
           "timepoint_id": 200,
           "trajectory": "Wolves",
           "upper": 0.47973577231168735
          },
          {
           "lower": 0.1640276603400707,
           "timepoint_id": 201,
           "trajectory": "Wolves",
           "upper": 0.5122190564870833
          },
          {
           "lower": 0.16413161009550095,
           "timepoint_id": 202,
           "trajectory": "Wolves",
           "upper": 0.5473854094743728
          },
          {
           "lower": 0.16348991319537162,
           "timepoint_id": 203,
           "trajectory": "Wolves",
           "upper": 0.5850378274917601
          },
          {
           "lower": 0.16351921632885932,
           "timepoint_id": 204,
           "trajectory": "Wolves",
           "upper": 0.6248426437377929
          },
          {
           "lower": 0.16417717114090918,
           "timepoint_id": 205,
           "trajectory": "Wolves",
           "upper": 0.6663227587938307
          },
          {
           "lower": 0.1669645145535469,
           "timepoint_id": 206,
           "trajectory": "Wolves",
           "upper": 0.7088437467813491
          },
          {
           "lower": 0.16852254420518875,
           "timepoint_id": 207,
           "trajectory": "Wolves",
           "upper": 0.7516247153282164
          },
          {
           "lower": 0.16876422837376595,
           "timepoint_id": 208,
           "trajectory": "Wolves",
           "upper": 0.7937631100416183
          },
          {
           "lower": 0.16696756705641747,
           "timepoint_id": 209,
           "trajectory": "Wolves",
           "upper": 0.8342687219381331
          },
          {
           "lower": 0.16534425914287568,
           "timepoint_id": 210,
           "trajectory": "Wolves",
           "upper": 0.8721249610185622
          },
          {
           "lower": 0.16089281365275382,
           "timepoint_id": 211,
           "trajectory": "Wolves",
           "upper": 0.9063484132289885
          },
          {
           "lower": 0.15697359889745713,
           "timepoint_id": 212,
           "trajectory": "Wolves",
           "upper": 0.9360553205013274
          },
          {
           "lower": 0.154640594124794,
           "timepoint_id": 213,
           "trajectory": "Wolves",
           "upper": 0.9605146616697311
          },
          {
           "lower": 0.15332131534814836,
           "timepoint_id": 214,
           "trajectory": "Wolves",
           "upper": 0.9791977941989898
          },
          {
           "lower": 0.15479821115732192,
           "timepoint_id": 215,
           "trajectory": "Wolves",
           "upper": 0.9899740725755691
          },
          {
           "lower": 0.1562502309679985,
           "timepoint_id": 216,
           "trajectory": "Wolves",
           "upper": 0.9913704872131348
          },
          {
           "lower": 0.15635684356093407,
           "timepoint_id": 217,
           "trajectory": "Wolves",
           "upper": 0.9836450457572936
          },
          {
           "lower": 0.15691652297973632,
           "timepoint_id": 218,
           "trajectory": "Wolves",
           "upper": 0.9693858861923217
          },
          {
           "lower": 0.1567702919244766,
           "timepoint_id": 219,
           "trajectory": "Wolves",
           "upper": 0.957481563091278
          },
          {
           "lower": 0.15576769188046455,
           "timepoint_id": 220,
           "trajectory": "Wolves",
           "upper": 0.9601654708385468
          },
          {
           "lower": 0.15524135902523994,
           "timepoint_id": 221,
           "trajectory": "Wolves",
           "upper": 0.9679513245820999
          },
          {
           "lower": 0.15515390932559966,
           "timepoint_id": 222,
           "trajectory": "Wolves",
           "upper": 0.9604407727718353
          },
          {
           "lower": 0.15675759613513945,
           "timepoint_id": 223,
           "trajectory": "Wolves",
           "upper": 0.9531516194343567
          },
          {
           "lower": 0.15964649021625518,
           "timepoint_id": 224,
           "trajectory": "Wolves",
           "upper": 0.9758219718933105
          },
          {
           "lower": 0.1633138231933117,
           "timepoint_id": 225,
           "trajectory": "Wolves",
           "upper": 0.9886273086071015
          },
          {
           "lower": 0.16777151376008986,
           "timepoint_id": 226,
           "trajectory": "Wolves",
           "upper": 0.9938872128725051
          },
          {
           "lower": 0.17308537811040878,
           "timepoint_id": 227,
           "trajectory": "Wolves",
           "upper": 0.998961278796196
          },
          {
           "lower": 0.17941494137048722,
           "timepoint_id": 228,
           "trajectory": "Wolves",
           "upper": 0.9986775547266007
          },
          {
           "lower": 0.18687143698334693,
           "timepoint_id": 229,
           "trajectory": "Wolves",
           "upper": 0.9936696499586105
          },
          {
           "lower": 0.19558281004428862,
           "timepoint_id": 230,
           "trajectory": "Wolves",
           "upper": 0.9958069503307342
          },
          {
           "lower": 0.2056956894695759,
           "timepoint_id": 231,
           "trajectory": "Wolves",
           "upper": 0.9991126477718353
          },
          {
           "lower": 0.21737605109810829,
           "timepoint_id": 232,
           "trajectory": "Wolves",
           "upper": 0.9998131990432739
          },
          {
           "lower": 0.23081071451306343,
           "timepoint_id": 233,
           "trajectory": "Wolves",
           "upper": 1.0008575558662414
          },
          {
           "lower": 0.24620597064495087,
           "timepoint_id": 234,
           "trajectory": "Wolves",
           "upper": 1.0023418217897415
          },
          {
           "lower": 0.2637864500284195,
           "timepoint_id": 235,
           "trajectory": "Wolves",
           "upper": 1.0047442853450774
          },
          {
           "lower": 0.2813341706991196,
           "timepoint_id": 236,
           "trajectory": "Wolves",
           "upper": 1.0071383357048034
          },
          {
           "lower": 0.300195649266243,
           "timepoint_id": 237,
           "trajectory": "Wolves",
           "upper": 1.0098597288131714
          },
          {
           "lower": 0.3214712753891945,
           "timepoint_id": 238,
           "trajectory": "Wolves",
           "upper": 1.0062338650226592
          },
          {
           "lower": 0.34536351412534716,
           "timepoint_id": 239,
           "trajectory": "Wolves",
           "upper": 1.0044687688350677
          },
          {
           "lower": 0.367728054523468,
           "timepoint_id": 240,
           "trajectory": "Wolves",
           "upper": 1.0002803087234498
          },
          {
           "lower": 0.38795277923345567,
           "timepoint_id": 241,
           "trajectory": "Wolves",
           "upper": 0.9997890084981919
          },
          {
           "lower": 0.37223185151815413,
           "timepoint_id": 242,
           "trajectory": "Wolves",
           "upper": 1.0002581000328064
          },
          {
           "lower": 0.35696167796850203,
           "timepoint_id": 243,
           "trajectory": "Wolves",
           "upper": 0.9956646740436554
          },
          {
           "lower": 0.3499200239777565,
           "timepoint_id": 244,
           "trajectory": "Wolves",
           "upper": 0.9856657922267914
          },
          {
           "lower": 0.3383984312415123,
           "timepoint_id": 245,
           "trajectory": "Wolves",
           "upper": 0.97026427090168
          },
          {
           "lower": 0.3279294118285179,
           "timepoint_id": 246,
           "trajectory": "Wolves",
           "upper": 0.9504680514335632
          },
          {
           "lower": 0.3184893622994423,
           "timepoint_id": 247,
           "trajectory": "Wolves",
           "upper": 0.9639508128166199
          },
          {
           "lower": 0.3100573495030403,
           "timepoint_id": 248,
           "trajectory": "Wolves",
           "upper": 0.9828543901443482
          },
          {
           "lower": 0.30261566340923307,
           "timepoint_id": 249,
           "trajectory": "Wolves",
           "upper": 0.9932814210653305
          },
          {
           "lower": 0.2958703711628914,
           "timepoint_id": 250,
           "trajectory": "Wolves",
           "upper": 1.0015631079673768
          },
          {
           "lower": 0.290073935687542,
           "timepoint_id": 251,
           "trajectory": "Wolves",
           "upper": 1.00171440243721
          },
          {
           "lower": 0.2852397307753563,
           "timepoint_id": 252,
           "trajectory": "Wolves",
           "upper": 0.9975081235170364
          },
          {
           "lower": 0.28125953674316406,
           "timepoint_id": 253,
           "trajectory": "Wolves",
           "upper": 0.9917439252138137
          },
          {
           "lower": 0.2763360753655434,
           "timepoint_id": 254,
           "trajectory": "Wolves",
           "upper": 0.9886632561683655
          },
          {
           "lower": 0.27026546001434326,
           "timepoint_id": 255,
           "trajectory": "Wolves",
           "upper": 0.992416152358055
          },
          {
           "lower": 0.2641956403851509,
           "timepoint_id": 256,
           "trajectory": "Wolves",
           "upper": 0.9974153727293015
          },
          {
           "lower": 0.25686232149600985,
           "timepoint_id": 257,
           "trajectory": "Wolves",
           "upper": 0.9975637286901474
          },
          {
           "lower": 0.2524468004703522,
           "timepoint_id": 258,
           "trajectory": "Wolves",
           "upper": 0.9941886335611343
          },
          {
           "lower": 0.250233206897974,
           "timepoint_id": 259,
           "trajectory": "Wolves",
           "upper": 0.9922847658395767
          },
          {
           "lower": 0.24744433909654617,
           "timepoint_id": 260,
           "trajectory": "Wolves",
           "upper": 0.9774287074804305
          },
          {
           "lower": 0.24069003984332085,
           "timepoint_id": 261,
           "trajectory": "Wolves",
           "upper": 0.9576320976018905
          },
          {
           "lower": 0.23299262896180153,
           "timepoint_id": 262,
           "trajectory": "Wolves",
           "upper": 0.9337229430675507
          },
          {
           "lower": 0.22615034729242325,
           "timepoint_id": 263,
           "trajectory": "Wolves",
           "upper": 0.9065086483955382
          },
          {
           "lower": 0.22014274969696998,
           "timepoint_id": 264,
           "trajectory": "Wolves",
           "upper": 0.8767463326454162
          },
          {
           "lower": 0.21495493426918982,
           "timepoint_id": 265,
           "trajectory": "Wolves",
           "upper": 0.8451279789209365
          },
          {
           "lower": 0.21040329113602638,
           "timepoint_id": 266,
           "trajectory": "Wolves",
           "upper": 0.8122650057077407
          },
          {
           "lower": 0.20782150849699974,
           "timepoint_id": 267,
           "trajectory": "Wolves",
           "upper": 0.7786888509988784
          },
          {
           "lower": 0.20393504947423935,
           "timepoint_id": 268,
           "trajectory": "Wolves",
           "upper": 0.7448512762784957
          },
          {
           "lower": 0.1997904509305954,
           "timepoint_id": 269,
           "trajectory": "Wolves",
           "upper": 0.711536556482315
          },
          {
           "lower": 0.19380126595497132,
           "timepoint_id": 270,
           "trajectory": "Wolves",
           "upper": 0.6800334751605986
          },
          {
           "lower": 0.18869468942284584,
           "timepoint_id": 271,
           "trajectory": "Wolves",
           "upper": 0.6491338193416595
          },
          {
           "lower": 0.1845427230000496,
           "timepoint_id": 272,
           "trajectory": "Wolves",
           "upper": 0.6190116941928863
          },
          {
           "lower": 0.18000969290733337,
           "timepoint_id": 273,
           "trajectory": "Wolves",
           "upper": 0.5898068785667419
          },
          {
           "lower": 0.17606869861483573,
           "timepoint_id": 274,
           "trajectory": "Wolves",
           "upper": 0.5842533469200134
          },
          {
           "lower": 0.17280452623963355,
           "timepoint_id": 275,
           "trajectory": "Wolves",
           "upper": 0.6242456018924712
          },
          {
           "lower": 0.17038027569651604,
           "timepoint_id": 276,
           "trajectory": "Wolves",
           "upper": 0.6405353367328643
          },
          {
           "lower": 0.17137352749705315,
           "timepoint_id": 277,
           "trajectory": "Wolves",
           "upper": 0.6109578549861907
          },
          {
           "lower": 0.17117936834692954,
           "timepoint_id": 278,
           "trajectory": "Wolves",
           "upper": 0.5901211947202682
          },
          {
           "lower": 0.16935733556747437,
           "timepoint_id": 279,
           "trajectory": "Wolves",
           "upper": 0.602705419063568
          },
          {
           "lower": 0.16538334637880325,
           "timepoint_id": 280,
           "trajectory": "Wolves",
           "upper": 0.6432965725660322
          },
          {
           "lower": 0.16492010951042174,
           "timepoint_id": 281,
           "trajectory": "Wolves",
           "upper": 0.6852882236242293
          },
          {
           "lower": 0.16513916999101638,
           "timepoint_id": 282,
           "trajectory": "Wolves",
           "upper": 0.7279811799526212
          },
          {
           "lower": 0.16611068099737167,
           "timepoint_id": 283,
           "trajectory": "Wolves",
           "upper": 0.770535635948181
          },
          {
           "lower": 0.16611216142773627,
           "timepoint_id": 284,
           "trajectory": "Wolves",
           "upper": 0.8120082557201383
          },
          {
           "lower": 0.16527557000517845,
           "timepoint_id": 285,
           "trajectory": "Wolves",
           "upper": 0.8513918578624724
          },
          {
           "lower": 0.16442229971289635,
           "timepoint_id": 286,
           "trajectory": "Wolves",
           "upper": 0.887682408094406
          },
          {
           "lower": 0.16423994824290275,
           "timepoint_id": 287,
           "trajectory": "Wolves",
           "upper": 0.9199351370334624
          },
          {
           "lower": 0.16475595831871032,
           "timepoint_id": 288,
           "trajectory": "Wolves",
           "upper": 0.947332864999771
          },
          {
           "lower": 0.16838487461209298,
           "timepoint_id": 289,
           "trajectory": "Wolves",
           "upper": 0.9692333668470382
          },
          {
           "lower": 0.17303766161203385,
           "timepoint_id": 290,
           "trajectory": "Wolves",
           "upper": 0.9841682225465774
          },
          {
           "lower": 0.1767550677061081,
           "timepoint_id": 291,
           "trajectory": "Wolves",
           "upper": 0.9848017454147339
          },
          {
           "lower": 0.1763964533805847,
           "timepoint_id": 292,
           "trajectory": "Wolves",
           "upper": 0.9717929661273956
          },
          {
           "lower": 0.17324413508176803,
           "timepoint_id": 293,
           "trajectory": "Wolves",
           "upper": 0.9724552452564238
          },
          {
           "lower": 0.1732856586575508,
           "timepoint_id": 294,
           "trajectory": "Wolves",
           "upper": 0.9535309344530104
          },
          {
           "lower": 0.1748480811715126,
           "timepoint_id": 295,
           "trajectory": "Wolves",
           "upper": 0.9326310396194456
          },
          {
           "lower": 0.1762670285999775,
           "timepoint_id": 296,
           "trajectory": "Wolves",
           "upper": 0.9295841276645659
          },
          {
           "lower": 0.1725742846727371,
           "timepoint_id": 297,
           "trajectory": "Wolves",
           "upper": 0.93381769657135
          },
          {
           "lower": 0.16734498590230942,
           "timepoint_id": 298,
           "trajectory": "Wolves",
           "upper": 0.9433647364377975
          },
          {
           "lower": 0.16266994401812554,
           "timepoint_id": 299,
           "trajectory": "Wolves",
           "upper": 0.9434632927179335
          },
          {
           "lower": 0.16204190626740456,
           "timepoint_id": 300,
           "trajectory": "Wolves",
           "upper": 0.929745441675186
          },
          {
           "lower": 0.16401308104395868,
           "timepoint_id": 301,
           "trajectory": "Wolves",
           "upper": 0.9312633752822875
          },
          {
           "lower": 0.1610918827354908,
           "timepoint_id": 302,
           "trajectory": "Wolves",
           "upper": 0.9575984060764312
          },
          {
           "lower": 0.1595179870724678,
           "timepoint_id": 303,
           "trajectory": "Wolves",
           "upper": 0.9786773830652237
          },
          {
           "lower": 0.15940841659903526,
           "timepoint_id": 304,
           "trajectory": "Wolves",
           "upper": 0.9792006373405456
          },
          {
           "lower": 0.15988668873906137,
           "timepoint_id": 305,
           "trajectory": "Wolves",
           "upper": 0.9875351130962372
          },
          {
           "lower": 0.16055451333522797,
           "timepoint_id": 306,
           "trajectory": "Wolves",
           "upper": 0.9977742075920105
          },
          {
           "lower": 0.15932910442352294,
           "timepoint_id": 307,
           "trajectory": "Wolves",
           "upper": 0.9986422032117843
          },
          {
           "lower": 0.15757134035229683,
           "timepoint_id": 308,
           "trajectory": "Wolves",
           "upper": 0.989025405049324
          },
          {
           "lower": 0.15634625032544136,
           "timepoint_id": 309,
           "trajectory": "Wolves",
           "upper": 0.9840576946735382
          },
          {
           "lower": 0.15566499382257462,
           "timepoint_id": 310,
           "trajectory": "Wolves",
           "upper": 0.9887935400009156
          },
          {
           "lower": 0.15536050274968147,
           "timepoint_id": 311,
           "trajectory": "Wolves",
           "upper": 0.9944401711225509
          },
          {
           "lower": 0.15766284391283988,
           "timepoint_id": 312,
           "trajectory": "Wolves",
           "upper": 0.9981949865818024
          },
          {
           "lower": 0.16062793880701065,
           "timepoint_id": 313,
           "trajectory": "Wolves",
           "upper": 0.9991020292043686
          },
          {
           "lower": 0.16433920487761497,
           "timepoint_id": 314,
           "trajectory": "Wolves",
           "upper": 1.0005050778388977
          },
          {
           "lower": 0.1689063861966133,
           "timepoint_id": 315,
           "trajectory": "Wolves",
           "upper": 0.9980441331863403
          },
          {
           "lower": 0.1744140401482582,
           "timepoint_id": 316,
           "trajectory": "Wolves",
           "upper": 1.002093893289566
          },
          {
           "lower": 0.180960863083601,
           "timepoint_id": 317,
           "trajectory": "Wolves",
           "upper": 1.0046568274497987
          },
          {
           "lower": 0.18866176828742026,
           "timepoint_id": 318,
           "trajectory": "Wolves",
           "upper": 1.0050383269786836
          },
          {
           "lower": 0.19764822348952293,
           "timepoint_id": 319,
           "trajectory": "Wolves",
           "upper": 1.0042850017547607
          },
          {
           "lower": 0.2080702915787697,
           "timepoint_id": 320,
           "trajectory": "Wolves",
           "upper": 1.0060572564601897
          },
          {
           "lower": 0.22009876295924188,
           "timepoint_id": 321,
           "trajectory": "Wolves",
           "upper": 1.0043819844722748
          },
          {
           "lower": 0.23392256274819376,
           "timepoint_id": 322,
           "trajectory": "Wolves",
           "upper": 1.0045744061470032
          },
          {
           "lower": 0.24646704196929933,
           "timepoint_id": 323,
           "trajectory": "Wolves",
           "upper": 0.999964925646782
          },
          {
           "lower": 0.258404316008091,
           "timepoint_id": 324,
           "trajectory": "Wolves",
           "upper": 0.9990847498178482
          },
          {
           "lower": 0.2694392278790474,
           "timepoint_id": 325,
           "trajectory": "Wolves",
           "upper": 0.9982341974973679
          },
          {
           "lower": 0.2790683969855309,
           "timepoint_id": 326,
           "trajectory": "Wolves",
           "upper": 0.9961802691221237
          },
          {
           "lower": 0.271256597340107,
           "timepoint_id": 327,
           "trajectory": "Wolves",
           "upper": 0.9862695634365081
          },
          {
           "lower": 0.2650373473763466,
           "timepoint_id": 328,
           "trajectory": "Wolves",
           "upper": 0.9797636747360229
          },
          {
           "lower": 0.2695761099457741,
           "timepoint_id": 329,
           "trajectory": "Wolves",
           "upper": 0.9708830118179321
          },
          {
           "lower": 0.27450200766324995,
           "timepoint_id": 330,
           "trajectory": "Wolves",
           "upper": 0.9488632947206497
          },
          {
           "lower": 0.2709284335374832,
           "timepoint_id": 331,
           "trajectory": "Wolves",
           "upper": 0.9224707871675492
          },
          {
           "lower": 0.2682962015271187,
           "timepoint_id": 332,
           "trajectory": "Wolves",
           "upper": 0.915161994099617
          },
          {
           "lower": 0.2666212901473045,
           "timepoint_id": 333,
           "trajectory": "Wolves",
           "upper": 0.9424799859523774
          },
          {
           "lower": 0.26394947469234464,
           "timepoint_id": 334,
           "trajectory": "Wolves",
           "upper": 0.9665680795907974
          },
          {
           "lower": 0.266243776679039,
           "timepoint_id": 335,
           "trajectory": "Wolves",
           "upper": 0.9792508184909821
          },
          {
           "lower": 0.2637952476739883,
           "timepoint_id": 336,
           "trajectory": "Wolves",
           "upper": 0.9932046800851821
          },
          {
           "lower": 0.25837850794196127,
           "timepoint_id": 337,
           "trajectory": "Wolves",
           "upper": 1.0007458627223969
          },
          {
           "lower": 0.25344827473163606,
           "timepoint_id": 338,
           "trajectory": "Wolves",
           "upper": 1.0012211203575134
          },
          {
           "lower": 0.24386561065912246,
           "timepoint_id": 339,
           "trajectory": "Wolves",
           "upper": 0.995558163523674
          },
          {
           "lower": 0.23652473539114,
           "timepoint_id": 340,
           "trajectory": "Wolves",
           "upper": 0.9877487063407898
          },
          {
           "lower": 0.23099110648036003,
           "timepoint_id": 341,
           "trajectory": "Wolves",
           "upper": 0.9768257975578308
          },
          {
           "lower": 0.22627165019512177,
           "timepoint_id": 342,
           "trajectory": "Wolves",
           "upper": 0.9792587578296661
          },
          {
           "lower": 0.22236145287752151,
           "timepoint_id": 343,
           "trajectory": "Wolves",
           "upper": 0.986902728676796
          },
          {
           "lower": 0.2194741278886795,
           "timepoint_id": 344,
           "trajectory": "Wolves",
           "upper": 0.98967787027359
          },
          {
           "lower": 0.21946358680725098,
           "timepoint_id": 345,
           "trajectory": "Wolves",
           "upper": 0.9947674691677093
          },
          {
           "lower": 0.21704072132706642,
           "timepoint_id": 346,
           "trajectory": "Wolves",
           "upper": 0.9874040722846985
          },
          {
           "lower": 0.21221753284335138,
           "timepoint_id": 347,
           "trajectory": "Wolves",
           "upper": 0.9867628872394562
          },
          {
           "lower": 0.2088850162923336,
           "timepoint_id": 348,
           "trajectory": "Wolves",
           "upper": 0.9872895181179047
          },
          {
           "lower": 0.2051271066069603,
           "timepoint_id": 349,
           "trajectory": "Wolves",
           "upper": 0.9737116515636444
          },
          {
           "lower": 0.19921137690544127,
           "timepoint_id": 350,
           "trajectory": "Wolves",
           "upper": 0.9534397929906844
          },
          {
           "lower": 0.19328893572092057,
           "timepoint_id": 351,
           "trajectory": "Wolves",
           "upper": 0.9291817784309386
          },
          {
           "lower": 0.1880706124007702,
           "timepoint_id": 352,
           "trajectory": "Wolves",
           "upper": 0.9017300635576246
          },
          {
           "lower": 0.18374776765704154,
           "timepoint_id": 353,
           "trajectory": "Wolves",
           "upper": 0.8718287050724028
          },
          {
           "lower": 0.18044356778264045,
           "timepoint_id": 354,
           "trajectory": "Wolves",
           "upper": 0.8401537984609603
          },
          {
           "lower": 0.17781589925289154,
           "timepoint_id": 355,
           "trajectory": "Wolves",
           "upper": 0.838287615776062
          },
          {
           "lower": 0.17685115560889245,
           "timepoint_id": 356,
           "trajectory": "Wolves",
           "upper": 0.8782581955194473
          },
          {
           "lower": 0.17651358023285865,
           "timepoint_id": 357,
           "trajectory": "Wolves",
           "upper": 0.9031823456287383
          },
          {
           "lower": 0.17541647106409072,
           "timepoint_id": 358,
           "trajectory": "Wolves",
           "upper": 0.8767389118671417
          },
          {
           "lower": 0.17425118684768676,
           "timepoint_id": 359,
           "trajectory": "Wolves",
           "upper": 0.8459935784339905
          },
          {
           "lower": 0.17419764325022696,
           "timepoint_id": 360,
           "trajectory": "Wolves",
           "upper": 0.8399101436138152
          },
          {
           "lower": 0.17339342311024666,
           "timepoint_id": 361,
           "trajectory": "Wolves",
           "upper": 0.867813330888748
          },
          {
           "lower": 0.17133173942565919,
           "timepoint_id": 362,
           "trajectory": "Wolves",
           "upper": 0.9023440331220626
          },
          {
           "lower": 0.17077715024352075,
           "timepoint_id": 363,
           "trajectory": "Wolves",
           "upper": 0.9324636578559874
          },
          {
           "lower": 0.1690235637128353,
           "timepoint_id": 364,
           "trajectory": "Wolves",
           "upper": 0.9574289798736572
          },
          {
           "lower": 0.16846948787569999,
           "timepoint_id": 365,
           "trajectory": "Wolves",
           "upper": 0.9766945660114288
          },
          {
           "lower": 0.16690961197018622,
           "timepoint_id": 366,
           "trajectory": "Wolves",
           "upper": 0.9784235924482345
          },
          {
           "lower": 0.1658799521625042,
           "timepoint_id": 367,
           "trajectory": "Wolves",
           "upper": 0.9686709612607955
          },
          {
           "lower": 0.16550885662436485,
           "timepoint_id": 368,
           "trajectory": "Wolves",
           "upper": 0.9483280420303345
          },
          {
           "lower": 0.16554983854293823,
           "timepoint_id": 369,
           "trajectory": "Wolves",
           "upper": 0.9513815075159071
          },
          {
           "lower": 0.16551879644393921,
           "timepoint_id": 370,
           "trajectory": "Wolves",
           "upper": 0.938515371084213
          },
          {
           "lower": 0.1666104257106781,
           "timepoint_id": 371,
           "trajectory": "Wolves",
           "upper": 0.9142257273197172
          },
          {
           "lower": 0.16982588320970535,
           "timepoint_id": 372,
           "trajectory": "Wolves",
           "upper": 0.8906619012355802
          },
          {
           "lower": 0.17467070892453193,
           "timepoint_id": 373,
           "trajectory": "Wolves",
           "upper": 0.8956397712230681
          },
          {
           "lower": 0.17906989976763726,
           "timepoint_id": 374,
           "trajectory": "Wolves",
           "upper": 0.9054218500852584
          },
          {
           "lower": 0.18450178802013398,
           "timepoint_id": 375,
           "trajectory": "Wolves",
           "upper": 0.9133259296417235
          },
          {
           "lower": 0.18393647372722627,
           "timepoint_id": 376,
           "trajectory": "Wolves",
           "upper": 0.9148140907287595
          },
          {
           "lower": 0.17978139147162436,
           "timepoint_id": 377,
           "trajectory": "Wolves",
           "upper": 0.9014464795589444
          },
          {
           "lower": 0.17623483017086983,
           "timepoint_id": 378,
           "trajectory": "Wolves",
           "upper": 0.9042280673980712
          },
          {
           "lower": 0.17535646259784698,
           "timepoint_id": 379,
           "trajectory": "Wolves",
           "upper": 0.9070893198251723
          },
          {
           "lower": 0.17748943343758583,
           "timepoint_id": 380,
           "trajectory": "Wolves",
           "upper": 0.9348081707954405
          },
          {
           "lower": 0.1802469238638878,
           "timepoint_id": 381,
           "trajectory": "Wolves",
           "upper": 0.9610650300979613
          },
          {
           "lower": 0.18075069710612296,
           "timepoint_id": 382,
           "trajectory": "Wolves",
           "upper": 0.9667689472436904
          },
          {
           "lower": 0.17994418293237685,
           "timepoint_id": 383,
           "trajectory": "Wolves",
           "upper": 0.9735250145196914
          },
          {
           "lower": 0.17771267220377923,
           "timepoint_id": 384,
           "trajectory": "Wolves",
           "upper": 0.9830871045589447
          },
          {
           "lower": 0.17378287985920907,
           "timepoint_id": 385,
           "trajectory": "Wolves",
           "upper": 0.9956873834133149
          },
          {
           "lower": 0.17184447944164277,
           "timepoint_id": 386,
           "trajectory": "Wolves",
           "upper": 0.9964617758989334
          },
          {
           "lower": 0.16898305863142013,
           "timepoint_id": 387,
           "trajectory": "Wolves",
           "upper": 0.9863021343946456
          },
          {
           "lower": 0.16669340208172798,
           "timepoint_id": 388,
           "trajectory": "Wolves",
           "upper": 0.9826664566993714
          },
          {
           "lower": 0.16497921720147132,
           "timepoint_id": 389,
           "trajectory": "Wolves",
           "upper": 0.9727314472198486
          },
          {
           "lower": 0.16416606903076172,
           "timepoint_id": 390,
           "trajectory": "Wolves",
           "upper": 0.9792365282773972
          },
          {
           "lower": 0.1638589732348919,
           "timepoint_id": 391,
           "trajectory": "Wolves",
           "upper": 0.9855025500059127
          },
          {
           "lower": 0.1642313100397587,
           "timepoint_id": 392,
           "trajectory": "Wolves",
           "upper": 0.9948146313428878
          },
          {
           "lower": 0.16483238935470582,
           "timepoint_id": 393,
           "trajectory": "Wolves",
           "upper": 0.9963617712259293
          },
          {
           "lower": 0.16590516418218612,
           "timepoint_id": 394,
           "trajectory": "Wolves",
           "upper": 0.9987373322248458
          },
          {
           "lower": 0.1629737839102745,
           "timepoint_id": 395,
           "trajectory": "Wolves",
           "upper": 1.00008482336998
          },
          {
           "lower": 0.1604690246284008,
           "timepoint_id": 396,
           "trajectory": "Wolves",
           "upper": 0.9975865095853805
          },
          {
           "lower": 0.1584906168282032,
           "timepoint_id": 397,
           "trajectory": "Wolves",
           "upper": 0.9969373792409897
          },
          {
           "lower": 0.1570437505841255,
           "timepoint_id": 398,
           "trajectory": "Wolves",
           "upper": 1.0013433933258056
          },
          {
           "lower": 0.15613754987716674,
           "timepoint_id": 399,
           "trajectory": "Wolves",
           "upper": 1.004535299539566
          },
          {
           "lower": 0.15617748349905014,
           "timepoint_id": 400,
           "trajectory": "Wolves",
           "upper": 1.0031640112400055
          },
          {
           "lower": 0.15852109864354133,
           "timepoint_id": 401,
           "trajectory": "Wolves",
           "upper": 1.00209139585495
          },
          {
           "lower": 0.16160307601094245,
           "timepoint_id": 402,
           "trajectory": "Wolves",
           "upper": 1.0031655102968215
          },
          {
           "lower": 0.16548710390925409,
           "timepoint_id": 403,
           "trajectory": "Wolves",
           "upper": 1.000268706679344
          },
          {
           "lower": 0.17024710550904273,
           "timepoint_id": 404,
           "trajectory": "Wolves",
           "upper": 1.0053135573863983
          },
          {
           "lower": 0.17597175016999245,
           "timepoint_id": 405,
           "trajectory": "Wolves",
           "upper": 1.0042481005191803
          },
          {
           "lower": 0.18276265785098075,
           "timepoint_id": 406,
           "trajectory": "Wolves",
           "upper": 1.0015988886356353
          },
          {
           "lower": 0.19073781594634057,
           "timepoint_id": 407,
           "trajectory": "Wolves",
           "upper": 0.9987025201320648
          },
          {
           "lower": 0.20003380924463274,
           "timepoint_id": 408,
           "trajectory": "Wolves",
           "upper": 0.9941364258527756
          },
          {
           "lower": 0.20846241042017938,
           "timepoint_id": 409,
           "trajectory": "Wolves",
           "upper": 0.9933387547731399
          },
          {
           "lower": 0.21300329491496087,
           "timepoint_id": 410,
           "trajectory": "Wolves",
           "upper": 0.9923468470573424
          },
          {
           "lower": 0.22190933227539061,
           "timepoint_id": 411,
           "trajectory": "Wolves",
           "upper": 0.9829826682806014
          },
          {
           "lower": 0.23667190596461296,
           "timepoint_id": 412,
           "trajectory": "Wolves",
           "upper": 0.967493814229965
          },
          {
           "lower": 0.24873205795884132,
           "timepoint_id": 413,
           "trajectory": "Wolves",
           "upper": 0.9696071535348892
          },
          {
           "lower": 0.252624849230051,
           "timepoint_id": 414,
           "trajectory": "Wolves",
           "upper": 0.9495100855827331
          },
          {
           "lower": 0.24948872104287148,
           "timepoint_id": 415,
           "trajectory": "Wolves",
           "upper": 0.9230954587459564
          },
          {
           "lower": 0.24057377353310586,
           "timepoint_id": 416,
           "trajectory": "Wolves",
           "upper": 0.8931585371494293
          },
          {
           "lower": 0.23964940011501312,
           "timepoint_id": 417,
           "trajectory": "Wolves",
           "upper": 0.8765404343605041
          },
          {
           "lower": 0.24154147878289223,
           "timepoint_id": 418,
           "trajectory": "Wolves",
           "upper": 0.8842344284057617
          },
          {
           "lower": 0.23490473479032517,
           "timepoint_id": 419,
           "trajectory": "Wolves",
           "upper": 0.9177514046430587
          },
          {
           "lower": 0.22757762968540193,
           "timepoint_id": 420,
           "trajectory": "Wolves",
           "upper": 0.9464763581752776
          },
          {
           "lower": 0.2235584504902363,
           "timepoint_id": 421,
           "trajectory": "Wolves",
           "upper": 0.9540556102991103
          },
          {
           "lower": 0.22396748512983322,
           "timepoint_id": 422,
           "trajectory": "Wolves",
           "upper": 0.9755993127822875
          },
          {
           "lower": 0.22564252614974975,
           "timepoint_id": 423,
           "trajectory": "Wolves",
           "upper": 0.9908364653587342
          },
          {
           "lower": 0.22745415866374968,
           "timepoint_id": 424,
           "trajectory": "Wolves",
           "upper": 0.9996582806110382
          },
          {
           "lower": 0.22303478196263313,
           "timepoint_id": 425,
           "trajectory": "Wolves",
           "upper": 0.9967845916748046
          },
          {
           "lower": 0.21770877838134767,
           "timepoint_id": 426,
           "trajectory": "Wolves",
           "upper": 0.9930602729320526
          },
          {
           "lower": 0.21676131710410118,
           "timepoint_id": 427,
           "trajectory": "Wolves",
           "upper": 0.9873218834400177
          },
          {
           "lower": 0.2125228926539421,
           "timepoint_id": 428,
           "trajectory": "Wolves",
           "upper": 0.9763293206691742
          },
          {
           "lower": 0.20825617164373397,
           "timepoint_id": 429,
           "trajectory": "Wolves",
           "upper": 0.9599705278873444
          },
          {
           "lower": 0.20480770468711854,
           "timepoint_id": 430,
           "trajectory": "Wolves",
           "upper": 0.9704875797033309
          },
          {
           "lower": 0.19864267855882645,
           "timepoint_id": 431,
           "trajectory": "Wolves",
           "upper": 0.9803441017866135
          },
          {
           "lower": 0.19278619289398194,
           "timepoint_id": 432,
           "trajectory": "Wolves",
           "upper": 0.9819544672966002
          },
          {
           "lower": 0.18763251826167107,
           "timepoint_id": 433,
           "trajectory": "Wolves",
           "upper": 0.9851570159196853
          },
          {
           "lower": 0.18316455334424972,
           "timepoint_id": 434,
           "trajectory": "Wolves",
           "upper": 0.9856617510318756
          },
          {
           "lower": 0.17988908290863037,
           "timepoint_id": 435,
           "trajectory": "Wolves",
           "upper": 0.9911581814289092
          },
          {
           "lower": 0.17933618202805518,
           "timepoint_id": 436,
           "trajectory": "Wolves",
           "upper": 0.9942106962203979
          },
          {
           "lower": 0.18049367815256118,
           "timepoint_id": 437,
           "trajectory": "Wolves",
           "upper": 0.999222519993782
          },
          {
           "lower": 0.18218330666422844,
           "timepoint_id": 438,
           "trajectory": "Wolves",
           "upper": 0.9999788880348205
          },
          {
           "lower": 0.17931619584560393,
           "timepoint_id": 439,
           "trajectory": "Wolves",
           "upper": 1.0049906104803086
          },
          {
           "lower": 0.17619916945695877,
           "timepoint_id": 440,
           "trajectory": "Wolves",
           "upper": 1.0021923750638961
          },
          {
           "lower": 0.17557455822825432,
           "timepoint_id": 441,
           "trajectory": "Wolves",
           "upper": 0.9986036211252213
          },
          {
           "lower": 0.1763834498822689,
           "timepoint_id": 442,
           "trajectory": "Wolves",
           "upper": 0.9899148404598236
          },
          {
           "lower": 0.1755789965391159,
           "timepoint_id": 443,
           "trajectory": "Wolves",
           "upper": 0.9872723191976547
          },
          {
           "lower": 0.1731801487505436,
           "timepoint_id": 444,
           "trajectory": "Wolves",
           "upper": 0.9692124962806701
          },
          {
           "lower": 0.17481856048107147,
           "timepoint_id": 445,
           "trajectory": "Wolves",
           "upper": 0.9520798653364181
          },
          {
           "lower": 0.1763616219162941,
           "timepoint_id": 446,
           "trajectory": "Wolves",
           "upper": 0.950083702802658
          },
          {
           "lower": 0.17467631101608277,
           "timepoint_id": 447,
           "trajectory": "Wolves",
           "upper": 0.9260579675436019
          },
          {
           "lower": 0.17083724737167358,
           "timepoint_id": 448,
           "trajectory": "Wolves",
           "upper": 0.8992494136095046
          },
          {
           "lower": 0.1666094593703747,
           "timepoint_id": 449,
           "trajectory": "Wolves",
           "upper": 0.8703008115291594
          },
          {
           "lower": 0.1656822994351387,
           "timepoint_id": 450,
           "trajectory": "Wolves",
           "upper": 0.8571781814098357
          },
          {
           "lower": 0.1654304549098015,
           "timepoint_id": 451,
           "trajectory": "Wolves",
           "upper": 0.8730472445487976
          },
          {
           "lower": 0.1663128986954689,
           "timepoint_id": 452,
           "trajectory": "Wolves",
           "upper": 0.8788756728172301
          },
          {
           "lower": 0.16778351962566376,
           "timepoint_id": 453,
           "trajectory": "Wolves",
           "upper": 0.8818724185228345
          },
          {
           "lower": 0.1688595473766327,
           "timepoint_id": 454,
           "trajectory": "Wolves",
           "upper": 0.8816515505313869
          },
          {
           "lower": 0.17143086344003677,
           "timepoint_id": 455,
           "trajectory": "Wolves",
           "upper": 0.8742863327264783
          },
          {
           "lower": 0.1752846710383892,
           "timepoint_id": 456,
           "trajectory": "Wolves",
           "upper": 0.8763623982667923
          },
          {
           "lower": 0.17985443621873856,
           "timepoint_id": 457,
           "trajectory": "Wolves",
           "upper": 0.8810112625360488
          },
          {
           "lower": 0.18417395576834678,
           "timepoint_id": 458,
           "trajectory": "Wolves",
           "upper": 0.9080043017864226
          },
          {
           "lower": 0.18885962814092636,
           "timepoint_id": 459,
           "trajectory": "Wolves",
           "upper": 0.9386744022369383
          },
          {
           "lower": 0.18875136002898216,
           "timepoint_id": 460,
           "trajectory": "Wolves",
           "upper": 0.951682311296463
          },
          {
           "lower": 0.1875740148127079,
           "timepoint_id": 461,
           "trajectory": "Wolves",
           "upper": 0.9526154279708862
          },
          {
           "lower": 0.18340350538492203,
           "timepoint_id": 462,
           "trajectory": "Wolves",
           "upper": 0.967214611172676
          },
          {
           "lower": 0.1797109790146351,
           "timepoint_id": 463,
           "trajectory": "Wolves",
           "upper": 0.9782778948545456
          },
          {
           "lower": 0.1780935861170292,
           "timepoint_id": 464,
           "trajectory": "Wolves",
           "upper": 0.9929623037576676
          },
          {
           "lower": 0.18051922917366028,
           "timepoint_id": 465,
           "trajectory": "Wolves",
           "upper": 0.9935926169157028
          },
          {
           "lower": 0.1835742212831974,
           "timepoint_id": 466,
           "trajectory": "Wolves",
           "upper": 0.982981064915657
          },
          {
           "lower": 0.18483320698142053,
           "timepoint_id": 467,
           "trajectory": "Wolves",
           "upper": 0.9751109391450882
          },
          {
           "lower": 0.18378577679395675,
           "timepoint_id": 468,
           "trajectory": "Wolves",
           "upper": 0.9734359979629517
          },
          {
           "lower": 0.18323469310998916,
           "timepoint_id": 469,
           "trajectory": "Wolves",
           "upper": 0.9589579313993454
          },
          {
           "lower": 0.18296254724264144,
           "timepoint_id": 470,
           "trajectory": "Wolves",
           "upper": 0.9672924876213074
          },
          {
           "lower": 0.18928456977009772,
           "timepoint_id": 471,
           "trajectory": "Wolves",
           "upper": 0.9726561933755874
          },
          {
           "lower": 0.1836253210902214,
           "timepoint_id": 472,
           "trajectory": "Wolves",
           "upper": 0.9888338655233383
          },
          {
           "lower": 0.17733232229948043,
           "timepoint_id": 473,
           "trajectory": "Wolves",
           "upper": 0.9925686925649643
          },
          {
           "lower": 0.1724783331155777,
           "timepoint_id": 474,
           "trajectory": "Wolves",
           "upper": 0.995303800702095
          },
          {
           "lower": 0.16982696056365967,
           "timepoint_id": 475,
           "trajectory": "Wolves",
           "upper": 0.9976611137390137
          },
          {
           "lower": 0.16763659566640854,
           "timepoint_id": 476,
           "trajectory": "Wolves",
           "upper": 0.9995992243289947
          },
          {
           "lower": 0.16603316590189934,
           "timepoint_id": 477,
           "trajectory": "Wolves",
           "upper": 0.9973608493804932
          },
          {
           "lower": 0.16775305867195128,
           "timepoint_id": 478,
           "trajectory": "Wolves",
           "upper": 0.9954323470592499
          },
          {
           "lower": 0.16995794773101808,
           "timepoint_id": 479,
           "trajectory": "Wolves",
           "upper": 0.9963240295648574
          },
          {
           "lower": 0.17077829837799072,
           "timepoint_id": 480,
           "trajectory": "Wolves",
           "upper": 1.0007076144218445
          },
          {
           "lower": 0.17158592715859414,
           "timepoint_id": 481,
           "trajectory": "Wolves",
           "upper": 1.0012928336858749
          },
          {
           "lower": 0.17150169163942336,
           "timepoint_id": 482,
           "trajectory": "Wolves",
           "upper": 0.9991271167993545
          },
          {
           "lower": 0.1677117846906185,
           "timepoint_id": 483,
           "trajectory": "Wolves",
           "upper": 1.0007474809885024
          },
          {
           "lower": 0.1644555762410164,
           "timepoint_id": 484,
           "trajectory": "Wolves",
           "upper": 1.0012450426816941
          },
          {
           "lower": 0.1617278590798378,
           "timepoint_id": 485,
           "trajectory": "Wolves",
           "upper": 0.9981553196907044
          },
          {
           "lower": 0.15952814891934394,
           "timepoint_id": 486,
           "trajectory": "Wolves",
           "upper": 1.0005579859018325
          },
          {
           "lower": 0.15785960704088212,
           "timepoint_id": 487,
           "trajectory": "Wolves",
           "upper": 1.0051156818866729
          },
          {
           "lower": 0.1567295730113983,
           "timepoint_id": 488,
           "trajectory": "Wolves",
           "upper": 1.003503081202507
          },
          {
           "lower": 0.15729982852935792,
           "timepoint_id": 489,
           "trajectory": "Wolves",
           "upper": 1.003023886680603
          },
          {
           "lower": 0.15950344130396843,
           "timepoint_id": 490,
           "trajectory": "Wolves",
           "upper": 0.9974136888980866
          },
          {
           "lower": 0.16275647804141044,
           "timepoint_id": 491,
           "trajectory": "Wolves",
           "upper": 0.9931495100259781
          },
          {
           "lower": 0.16683145835995675,
           "timepoint_id": 492,
           "trajectory": "Wolves",
           "upper": 0.9876937597990035
          },
          {
           "lower": 0.17180634289979935,
           "timepoint_id": 493,
           "trajectory": "Wolves",
           "upper": 0.9899403691291809
          },
          {
           "lower": 0.17777244374155998,
           "timepoint_id": 494,
           "trajectory": "Wolves",
           "upper": 0.9889350175857543
          },
          {
           "lower": 0.18516932129859925,
           "timepoint_id": 495,
           "trajectory": "Wolves",
           "upper": 0.9785982936620711
          },
          {
           "lower": 0.19280534088611603,
           "timepoint_id": 496,
           "trajectory": "Wolves",
           "upper": 0.961494669318199
          },
          {
           "lower": 0.19997676312923432,
           "timepoint_id": 497,
           "trajectory": "Wolves",
           "upper": 0.9558734208345413
          },
          {
           "lower": 0.20854627192020417,
           "timepoint_id": 498,
           "trajectory": "Wolves",
           "upper": 0.9501699745655059
          },
          {
           "lower": 0.21367589011788368,
           "timepoint_id": 499,
           "trajectory": "Wolves",
           "upper": 0.9239561259746552
          }
         ]
        },
        {
         "name": "points",
         "values": [
          {
           "sample_id": 0,
           "timepoint_id": 0,
           "trajectory": "Rabbits Example",
           "value": 0.5774485468864441
          },
          {
           "sample_id": 0,
           "timepoint_id": 10,
           "trajectory": "Rabbits Example",
           "value": 0.4931105971336365
          },
          {
           "sample_id": 0,
           "timepoint_id": 20,
           "trajectory": "Rabbits Example",
           "value": 0.5761047005653381
          },
          {
           "sample_id": 0,
           "timepoint_id": 30,
           "trajectory": "Rabbits Example",
           "value": 0.7969658970832825
          },
          {
           "sample_id": 0,
           "timepoint_id": 40,
           "trajectory": "Rabbits Example",
           "value": 1.1683192253112793
          },
          {
           "sample_id": 0,
           "timepoint_id": 50,
           "trajectory": "Rabbits Example",
           "value": 1.6221495866775513
          },
          {
           "sample_id": 0,
           "timepoint_id": 60,
           "trajectory": "Rabbits Example",
           "value": 1.7182937860488892
          },
          {
           "sample_id": 0,
           "timepoint_id": 70,
           "trajectory": "Rabbits Example",
           "value": 1.0860116481781006
          },
          {
           "sample_id": 0,
           "timepoint_id": 80,
           "trajectory": "Rabbits Example",
           "value": 0.6113320589065552
          },
          {
           "sample_id": 0,
           "timepoint_id": 90,
           "trajectory": "Rabbits Example",
           "value": 0.4930415153503418
          },
          {
           "sample_id": 0,
           "timepoint_id": 100,
           "trajectory": "Rabbits Example",
           "value": 0.5555301308631897
          },
          {
           "sample_id": 0,
           "timepoint_id": 110,
           "trajectory": "Rabbits Example",
           "value": 0.7555342316627502
          },
          {
           "sample_id": 0,
           "timepoint_id": 120,
           "trajectory": "Rabbits Example",
           "value": 1.1050314903259277
          },
          {
           "sample_id": 0,
           "timepoint_id": 130,
           "trajectory": "Rabbits Example",
           "value": 1.561277985572815
          },
          {
           "sample_id": 0,
           "timepoint_id": 140,
           "trajectory": "Rabbits Example",
           "value": 1.7557481527328491
          },
          {
           "sample_id": 0,
           "timepoint_id": 150,
           "trajectory": "Rabbits Example",
           "value": 1.1907449960708618
          },
          {
           "sample_id": 0,
           "timepoint_id": 160,
           "trajectory": "Rabbits Example",
           "value": 0.6529028415679932
          },
          {
           "sample_id": 0,
           "timepoint_id": 170,
           "trajectory": "Rabbits Example",
           "value": 0.496554970741272
          },
          {
           "sample_id": 0,
           "timepoint_id": 180,
           "trajectory": "Rabbits Example",
           "value": 0.5378015637397766
          },
          {
           "sample_id": 0,
           "timepoint_id": 190,
           "trajectory": "Rabbits Example",
           "value": 0.7173503041267395
          },
          {
           "sample_id": 0,
           "timepoint_id": 200,
           "trajectory": "Rabbits Example",
           "value": 1.0445382595062256
          },
          {
           "sample_id": 0,
           "timepoint_id": 210,
           "trajectory": "Rabbits Example",
           "value": 1.495972752571106
          },
          {
           "sample_id": 0,
           "timepoint_id": 220,
           "trajectory": "Rabbits Example",
           "value": 1.7724984884262085
          },
          {
           "sample_id": 0,
           "timepoint_id": 230,
           "trajectory": "Rabbits Example",
           "value": 1.2989596128463745
          },
          {
           "sample_id": 0,
           "timepoint_id": 240,
           "trajectory": "Rabbits Example",
           "value": 0.70307457447052
          },
          {
           "sample_id": 0,
           "timepoint_id": 250,
           "trajectory": "Rabbits Example",
           "value": 0.5039738416671753
          },
          {
           "sample_id": 0,
           "timepoint_id": 260,
           "trajectory": "Rabbits Example",
           "value": 0.5229206085205078
          },
          {
           "sample_id": 0,
           "timepoint_id": 270,
           "trajectory": "Rabbits Example",
           "value": 0.6823447346687317
          },
          {
           "sample_id": 0,
           "timepoint_id": 280,
           "trajectory": "Rabbits Example",
           "value": 0.9871031641960144
          },
          {
           "sample_id": 0,
           "timepoint_id": 290,
           "trajectory": "Rabbits Example",
           "value": 1.428144931793213
          },
          {
           "sample_id": 0,
           "timepoint_id": 300,
           "trajectory": "Rabbits Example",
           "value": 1.7697229385375977
          },
          {
           "sample_id": 0,
           "timepoint_id": 310,
           "trajectory": "Rabbits Example",
           "value": 1.406166672706604
          },
          {
           "sample_id": 0,
           "timepoint_id": 320,
           "trajectory": "Rabbits Example",
           "value": 0.762713611125946
          },
          {
           "sample_id": 0,
           "timepoint_id": 330,
           "trajectory": "Rabbits Example",
           "value": 0.5157046914100647
          },
          {
           "sample_id": 0,
           "timepoint_id": 340,
           "trajectory": "Rabbits Example",
           "value": 0.5109087824821472
          },
          {
           "sample_id": 0,
           "timepoint_id": 350,
           "trajectory": "Rabbits Example",
           "value": 0.6504457592964172
          },
          {
           "sample_id": 0,
           "timepoint_id": 360,
           "trajectory": "Rabbits Example",
           "value": 0.9328932762145996
          },
          {
           "sample_id": 0,
           "timepoint_id": 370,
           "trajectory": "Rabbits Example",
           "value": 1.3593549728393555
          },
          {
           "sample_id": 0,
           "timepoint_id": 380,
           "trajectory": "Rabbits Example",
           "value": 1.7495903968811035
          },
          {
           "sample_id": 0,
           "timepoint_id": 390,
           "trajectory": "Rabbits Example",
           "value": 1.5072137117385864
          },
          {
           "sample_id": 0,
           "timepoint_id": 400,
           "trajectory": "Rabbits Example",
           "value": 0.8324921727180481
          },
          {
           "sample_id": 0,
           "timepoint_id": 410,
           "trajectory": "Rabbits Example",
           "value": 0.532248854637146
          },
          {
           "sample_id": 0,
           "timepoint_id": 420,
           "trajectory": "Rabbits Example",
           "value": 0.5018233060836792
          },
          {
           "sample_id": 0,
           "timepoint_id": 430,
           "trajectory": "Rabbits Example",
           "value": 0.6215773820877075
          },
          {
           "sample_id": 0,
           "timepoint_id": 440,
           "trajectory": "Rabbits Example",
           "value": 0.8819983601570129
          },
          {
           "sample_id": 0,
           "timepoint_id": 450,
           "trajectory": "Rabbits Example",
           "value": 1.2908376455307007
          },
          {
           "sample_id": 0,
           "timepoint_id": 460,
           "trajectory": "Rabbits Example",
           "value": 1.7148245573043823
          },
          {
           "sample_id": 0,
           "timepoint_id": 470,
           "trajectory": "Rabbits Example",
           "value": 1.5969091653823853
          },
          {
           "sample_id": 0,
           "timepoint_id": 480,
           "trajectory": "Rabbits Example",
           "value": 0.9126989841461182
          },
          {
           "sample_id": 0,
           "timepoint_id": 490,
           "trajectory": "Rabbits Example",
           "value": 0.5542105436325073
          }
         ]
        },
        {
         "name": "selected",
         "on": [
          {
           "remove": true,
           "trigger": "clear"
          },
          {
           "remove": true,
           "trigger": "!shift"
          },
          {
           "insert": "clicked",
           "trigger": "!shift && clicked"
          },
          {
           "toggle": "clicked",
           "trigger": "shift && clicked"
          }
         ]
        }
       ],
       "height": 300,
       "legends": [
        {
         "encode": {
          "labels": {
           "interactive": true,
           "name": "legendLabel",
           "update": {
            "opacity": [
             {
              "test": "!length(data('selected')) || indata('selected', 'value', datum.value)",
              "value": 1
             },
             {
              "value": 0.25
             }
            ]
           }
          },
          "symbols": {
           "interactive": true,
           "name": "legendSymbol",
           "update": {
            "fill": {
             "value": "transparent"
            },
            "opacity": [
             {
              "test": "!length(data('selected')) || indata('selected', 'value', datum.value)",
              "value": 0.7
             },
             {
              "value": 0.15
             }
            ],
            "size": {
             "value": 64
            },
            "strokeWidth": {
             "value": 2
            }
           }
          }
         },
         "stroke": "color"
        }
       ],
       "marks": [
        {
         "from": {
          "facet": {
           "data": "points",
           "groupby": "trajectory",
           "name": "points_split"
          }
         },
         "marks": [
          {
           "encode": {
            "hover": {
             "fillOpacity": {
              "value": 0.9
             }
            },
            "update": {
             "fill": {
              "field": "trajectory",
              "scale": "color"
             },
             "fillOpacity": [
              {
               "test": "!length(data('selected')) || indata('selected', 'value', datum.trajectory)",
               "value": 0.5
              },
              {
               "value": 0.15
              }
             ],
             "stroke": {
              "field": "trajectory",
              "scale": "color"
             },
             "strokeOpacity": [
              {
               "test": "!length(data('selected')) || indata('selected', 'value', datum.trajectory)",
               "value": 0.75
              },
              {
               "value": 0.15
              }
             ],
             "strokeWidth": {
              "value": 2
             },
             "x": {
              "field": "timepoint_id",
              "scale": "xscale"
             },
             "y": {
              "field": "value",
              "scale": "yscale"
             }
            }
           },
           "from": {
            "data": "points"
           },
           "name": "_points",
           "type": "symbol",
           "zindex": 3
          },
          {
           "encode": {
            "hover": {
             "fillOpacity": {
              "value": 0.9
             }
            },
            "update": {
             "interpolate": {
              "value": "linear"
             },
             "stroke": {
              "field": "trajectory",
              "scale": "color"
             },
             "strokeOpacity": [
              {
               "test": "!length(data('selected')) || indata('selected', 'value', datum.trajectory)",
               "value": 0.3
              },
              {
               "value": 0.1
              }
             ],
             "strokeWidth": {
              "value": 2
             },
             "x": {
              "field": "timepoint_id",
              "scale": "xscale"
             },
             "y": {
              "field": "value",
              "scale": "yscale"
             }
            }
           },
           "from": {
            "data": "points"
           },
           "name": "_points_line",
           "type": "line",
           "zindex": 3
          }
         ],
         "type": "group",
         "zindex": 3
        },
        {
         "from": {
          "facet": {
           "data": "distributions",
           "groupby": "trajectory",
           "name": "trajectory_split"
          }
         },
         "marks": [
          {
           "encode": {
            "hover": {
             "fillOpacity": {
              "value": 0.9
             }
            },
            "update": {
             "fill": {
              "field": "trajectory",
              "scale": "color"
             },
             "fillOpacity": [
              {
               "test": "!length(data('selected')) || indata('selected', 'value', datum.trajectory)",
               "value": 0.5
              },
              {
               "value": 0.15
              }
             ],
             "interpolate": {
              "value": "linear"
             },
             "stroke": {
              "field": "trajectory",
              "scale": "color"
             },
             "strokeOpacity": [
              {
               "test": "!length(data('selected')) || indata('selected', 'value', datum.trajectory)",
               "value": 0.75
              },
              {
               "value": 0.15
              }
             ],
             "strokeWidth": {
              "value": 2
             },
             "x": {
              "field": "timepoint_id",
              "scale": "xscale"
             },
             "y": {
              "field": "upper",
              "scale": "yscale"
             },
             "y2": {
              "field": "lower",
              "scale": "yscale"
             }
            }
           },
           "from": {
            "data": "trajectory_split"
           },
           "type": "area"
          }
         ],
         "name": "_distributions",
         "type": "group",
         "zindex": 1
        }
       ],
       "padding": 5,
       "scales": [
        {
         "domain": {
          "fields": [
           {
            "data": "distributions",
            "field": "timepoint_id"
           },
           {
            "data": "points",
            "field": "timepoint_id"
           }
          ]
         },
         "name": "xscale",
         "range": "width",
         "type": "linear",
         "zero": false
        },
        {
         "domain": {
          "fields": [
           {
            "data": "distributions",
            "field": "lower"
           },
           {
            "data": "distributions",
            "field": "upper"
           },
           {
            "data": "points",
            "field": "value"
           }
          ]
         },
         "name": "yscale",
         "nice": true,
         "range": "height",
         "type": "linear",
         "zero": true
        },
        {
         "domain": [
          "Rabbits",
          "Wolves"
         ],
         "name": "color",
         "range": [
          "black",
          "red"
         ],
         "type": "ordinal"
        }
       ],
       "signals": [
        {
         "name": "clear",
         "on": [
          {
           "events": "mouseup[!event.item]",
           "force": true,
           "update": "true"
          }
         ],
         "value": true
        },
        {
         "name": "shift",
         "on": [
          {
           "events": "@legendSymbol:click, @legendLabel:click",
           "force": true,
           "update": "event.shiftKey"
          }
         ],
         "value": false
        },
        {
         "name": "clicked",
         "on": [
          {
           "events": "@legendSymbol:click, @legendLabel:click",
           "force": true,
           "update": "{value: datum.value}"
          }
         ],
         "value": null
        }
       ],
       "width": 500
      }
     },
     "metadata": {},
     "output_type": "display_data"
    }
   ],
   "source": [
    "nice_labels={\"Rabbits_sol\": \"Rabbits\", \"Wolves_sol\": \"Wolves\"}\n",
    "schema = vega.trajectories(prior_samples, \n",
    "                           subset=\".*_sol\", \n",
    "                           relabel=nice_labels,\n",
    "                           points=observed_points,\n",
    "                           colors={\"Rabbits_sol\": \"black\", \"Wolves_sol\": \"red\"})\n",
    "schema = vega.pad(schema, 5)\n",
    "vega.save_schema(schema, \"_schema.json\")\n",
    "vega.ipy_display(schema)"
   ]
  },
  {
   "cell_type": "code",
   "execution_count": 86,
   "metadata": {},
   "outputs": [
    {
     "data": {
      "application/vnd.vega.v5+json": {
       "$schema": "https://vega.github.io/schema/vega/v5.json",
       "axes": [
        {
         "orient": "bottom",
         "scale": "xscale",
         "zindex": 100
        },
        {
         "orient": "left",
         "scale": "yscale",
         "zindex": 100
        }
       ],
       "data": [
        {
         "name": "distributions",
         "values": [
          {
           "lower": 0.46190929412841797,
           "timepoint_id": 0,
           "trajectory": "Rabbit Example",
           "upper": 0.46190929412841797
          },
          {
           "lower": 0.46190929412841797,
           "timepoint_id": 1,
           "trajectory": "Rabbit Example",
           "upper": 0.46190929412841797
          },
          {
           "lower": 0.46190929412841797,
           "timepoint_id": 2,
           "trajectory": "Rabbit Example",
           "upper": 0.46190929412841797
          },
          {
           "lower": 0.46190929412841797,
           "timepoint_id": 3,
           "trajectory": "Rabbit Example",
           "upper": 0.46190929412841797
          },
          {
           "lower": 0.46190929412841797,
           "timepoint_id": 4,
           "trajectory": "Rabbit Example",
           "upper": 0.46190929412841797
          },
          {
           "lower": 0.46190929412841797,
           "timepoint_id": 5,
           "trajectory": "Rabbit Example",
           "upper": 0.46190929412841797
          },
          {
           "lower": 0.46190929412841797,
           "timepoint_id": 6,
           "trajectory": "Rabbit Example",
           "upper": 0.46190929412841797
          },
          {
           "lower": 0.46190929412841797,
           "timepoint_id": 7,
           "trajectory": "Rabbit Example",
           "upper": 0.46190929412841797
          },
          {
           "lower": 0.46190929412841797,
           "timepoint_id": 8,
           "trajectory": "Rabbit Example",
           "upper": 0.46190929412841797
          },
          {
           "lower": 0.46190929412841797,
           "timepoint_id": 9,
           "trajectory": "Rabbit Example",
           "upper": 0.46190929412841797
          },
          {
           "lower": 0.46190929412841797,
           "timepoint_id": 10,
           "trajectory": "Rabbit Example",
           "upper": 0.46190929412841797
          },
          {
           "lower": 0.46190929412841797,
           "timepoint_id": 11,
           "trajectory": "Rabbit Example",
           "upper": 0.46190929412841797
          },
          {
           "lower": 0.46190929412841797,
           "timepoint_id": 12,
           "trajectory": "Rabbit Example",
           "upper": 0.46190929412841797
          },
          {
           "lower": 0.46190929412841797,
           "timepoint_id": 13,
           "trajectory": "Rabbit Example",
           "upper": 0.46190929412841797
          },
          {
           "lower": 0.46190929412841797,
           "timepoint_id": 14,
           "trajectory": "Rabbit Example",
           "upper": 0.46190929412841797
          },
          {
           "lower": 0.46190929412841797,
           "timepoint_id": 15,
           "trajectory": "Rabbit Example",
           "upper": 0.46190929412841797
          },
          {
           "lower": 0.46190929412841797,
           "timepoint_id": 16,
           "trajectory": "Rabbit Example",
           "upper": 0.46190929412841797
          },
          {
           "lower": 0.46190929412841797,
           "timepoint_id": 17,
           "trajectory": "Rabbit Example",
           "upper": 0.46190929412841797
          },
          {
           "lower": 0.46190929412841797,
           "timepoint_id": 18,
           "trajectory": "Rabbit Example",
           "upper": 0.46190929412841797
          },
          {
           "lower": 0.46190929412841797,
           "timepoint_id": 19,
           "trajectory": "Rabbit Example",
           "upper": 0.46190929412841797
          },
          {
           "lower": 0.46190929412841797,
           "timepoint_id": 20,
           "trajectory": "Rabbit Example",
           "upper": 0.46190929412841797
          },
          {
           "lower": 0.46190929412841797,
           "timepoint_id": 21,
           "trajectory": "Rabbit Example",
           "upper": 0.46190929412841797
          },
          {
           "lower": 0.46190929412841797,
           "timepoint_id": 22,
           "trajectory": "Rabbit Example",
           "upper": 0.46190929412841797
          },
          {
           "lower": 0.46190929412841797,
           "timepoint_id": 23,
           "trajectory": "Rabbit Example",
           "upper": 0.46190929412841797
          },
          {
           "lower": 0.46190929412841797,
           "timepoint_id": 24,
           "trajectory": "Rabbit Example",
           "upper": 0.46190929412841797
          },
          {
           "lower": 0.46190929412841797,
           "timepoint_id": 25,
           "trajectory": "Rabbit Example",
           "upper": 0.46190929412841797
          },
          {
           "lower": 0.46190929412841797,
           "timepoint_id": 26,
           "trajectory": "Rabbit Example",
           "upper": 0.46190929412841797
          },
          {
           "lower": 0.46190929412841797,
           "timepoint_id": 27,
           "trajectory": "Rabbit Example",
           "upper": 0.46190929412841797
          },
          {
           "lower": 0.46190929412841797,
           "timepoint_id": 28,
           "trajectory": "Rabbit Example",
           "upper": 0.46190929412841797
          },
          {
           "lower": 0.46190929412841797,
           "timepoint_id": 29,
           "trajectory": "Rabbit Example",
           "upper": 0.46190929412841797
          },
          {
           "lower": 0.46190929412841797,
           "timepoint_id": 30,
           "trajectory": "Rabbit Example",
           "upper": 0.46190929412841797
          },
          {
           "lower": 0.46190929412841797,
           "timepoint_id": 31,
           "trajectory": "Rabbit Example",
           "upper": 0.46190929412841797
          },
          {
           "lower": 0.46190929412841797,
           "timepoint_id": 32,
           "trajectory": "Rabbit Example",
           "upper": 0.46190929412841797
          },
          {
           "lower": 0.46190929412841797,
           "timepoint_id": 33,
           "trajectory": "Rabbit Example",
           "upper": 0.46190929412841797
          },
          {
           "lower": 0.46190929412841797,
           "timepoint_id": 34,
           "trajectory": "Rabbit Example",
           "upper": 0.46190929412841797
          },
          {
           "lower": 0.46190929412841797,
           "timepoint_id": 35,
           "trajectory": "Rabbit Example",
           "upper": 0.46190929412841797
          },
          {
           "lower": 0.46190929412841797,
           "timepoint_id": 36,
           "trajectory": "Rabbit Example",
           "upper": 0.46190929412841797
          },
          {
           "lower": 0.46190929412841797,
           "timepoint_id": 37,
           "trajectory": "Rabbit Example",
           "upper": 0.46190929412841797
          },
          {
           "lower": 0.46190929412841797,
           "timepoint_id": 38,
           "trajectory": "Rabbit Example",
           "upper": 0.46190929412841797
          },
          {
           "lower": 0.46190929412841797,
           "timepoint_id": 39,
           "trajectory": "Rabbit Example",
           "upper": 0.46190929412841797
          },
          {
           "lower": 0.46190929412841797,
           "timepoint_id": 40,
           "trajectory": "Rabbit Example",
           "upper": 0.46190929412841797
          },
          {
           "lower": 0.46190929412841797,
           "timepoint_id": 41,
           "trajectory": "Rabbit Example",
           "upper": 0.46190929412841797
          },
          {
           "lower": 0.46190929412841797,
           "timepoint_id": 42,
           "trajectory": "Rabbit Example",
           "upper": 0.46190929412841797
          },
          {
           "lower": 0.46190929412841797,
           "timepoint_id": 43,
           "trajectory": "Rabbit Example",
           "upper": 0.46190929412841797
          },
          {
           "lower": 0.46190929412841797,
           "timepoint_id": 44,
           "trajectory": "Rabbit Example",
           "upper": 0.46190929412841797
          },
          {
           "lower": 0.46190929412841797,
           "timepoint_id": 45,
           "trajectory": "Rabbit Example",
           "upper": 0.46190929412841797
          },
          {
           "lower": 0.46190929412841797,
           "timepoint_id": 46,
           "trajectory": "Rabbit Example",
           "upper": 0.46190929412841797
          },
          {
           "lower": 0.46190929412841797,
           "timepoint_id": 47,
           "trajectory": "Rabbit Example",
           "upper": 0.46190929412841797
          },
          {
           "lower": 0.46190929412841797,
           "timepoint_id": 48,
           "trajectory": "Rabbit Example",
           "upper": 0.46190929412841797
          },
          {
           "lower": 0.46190929412841797,
           "timepoint_id": 49,
           "trajectory": "Rabbit Example",
           "upper": 0.46190929412841797
          },
          {
           "lower": 0.46190929412841797,
           "timepoint_id": 50,
           "trajectory": "Rabbit Example",
           "upper": 0.46190929412841797
          },
          {
           "lower": 0.46190929412841797,
           "timepoint_id": 51,
           "trajectory": "Rabbit Example",
           "upper": 0.46190929412841797
          },
          {
           "lower": 0.46190929412841797,
           "timepoint_id": 52,
           "trajectory": "Rabbit Example",
           "upper": 0.46190929412841797
          },
          {
           "lower": 0.46190929412841797,
           "timepoint_id": 53,
           "trajectory": "Rabbit Example",
           "upper": 0.46190929412841797
          },
          {
           "lower": 0.46190929412841797,
           "timepoint_id": 54,
           "trajectory": "Rabbit Example",
           "upper": 0.46190929412841797
          },
          {
           "lower": 0.46190929412841797,
           "timepoint_id": 55,
           "trajectory": "Rabbit Example",
           "upper": 0.46190929412841797
          },
          {
           "lower": 0.46190929412841797,
           "timepoint_id": 56,
           "trajectory": "Rabbit Example",
           "upper": 0.46190929412841797
          },
          {
           "lower": 0.46190929412841797,
           "timepoint_id": 57,
           "trajectory": "Rabbit Example",
           "upper": 0.46190929412841797
          },
          {
           "lower": 0.46190929412841797,
           "timepoint_id": 58,
           "trajectory": "Rabbit Example",
           "upper": 0.46190929412841797
          },
          {
           "lower": 0.46190929412841797,
           "timepoint_id": 59,
           "trajectory": "Rabbit Example",
           "upper": 0.46190929412841797
          },
          {
           "lower": 0.46190929412841797,
           "timepoint_id": 60,
           "trajectory": "Rabbit Example",
           "upper": 0.46190929412841797
          },
          {
           "lower": 0.46190929412841797,
           "timepoint_id": 61,
           "trajectory": "Rabbit Example",
           "upper": 0.46190929412841797
          },
          {
           "lower": 0.46190929412841797,
           "timepoint_id": 62,
           "trajectory": "Rabbit Example",
           "upper": 0.46190929412841797
          },
          {
           "lower": 0.46190929412841797,
           "timepoint_id": 63,
           "trajectory": "Rabbit Example",
           "upper": 0.46190929412841797
          },
          {
           "lower": 0.46190929412841797,
           "timepoint_id": 64,
           "trajectory": "Rabbit Example",
           "upper": 0.46190929412841797
          },
          {
           "lower": 0.46190929412841797,
           "timepoint_id": 65,
           "trajectory": "Rabbit Example",
           "upper": 0.46190929412841797
          },
          {
           "lower": 0.46190929412841797,
           "timepoint_id": 66,
           "trajectory": "Rabbit Example",
           "upper": 0.46190929412841797
          },
          {
           "lower": 0.46190929412841797,
           "timepoint_id": 67,
           "trajectory": "Rabbit Example",
           "upper": 0.46190929412841797
          },
          {
           "lower": 0.46190929412841797,
           "timepoint_id": 68,
           "trajectory": "Rabbit Example",
           "upper": 0.46190929412841797
          },
          {
           "lower": 0.46190929412841797,
           "timepoint_id": 69,
           "trajectory": "Rabbit Example",
           "upper": 0.46190929412841797
          },
          {
           "lower": 0.46190929412841797,
           "timepoint_id": 70,
           "trajectory": "Rabbit Example",
           "upper": 0.46190929412841797
          },
          {
           "lower": 0.46190929412841797,
           "timepoint_id": 71,
           "trajectory": "Rabbit Example",
           "upper": 0.46190929412841797
          },
          {
           "lower": 0.46190929412841797,
           "timepoint_id": 72,
           "trajectory": "Rabbit Example",
           "upper": 0.46190929412841797
          },
          {
           "lower": 0.46190929412841797,
           "timepoint_id": 73,
           "trajectory": "Rabbit Example",
           "upper": 0.46190929412841797
          },
          {
           "lower": 0.46190929412841797,
           "timepoint_id": 74,
           "trajectory": "Rabbit Example",
           "upper": 0.46190929412841797
          },
          {
           "lower": 0.46190929412841797,
           "timepoint_id": 75,
           "trajectory": "Rabbit Example",
           "upper": 0.46190929412841797
          },
          {
           "lower": 0.46190929412841797,
           "timepoint_id": 76,
           "trajectory": "Rabbit Example",
           "upper": 0.46190929412841797
          },
          {
           "lower": 0.46190929412841797,
           "timepoint_id": 77,
           "trajectory": "Rabbit Example",
           "upper": 0.46190929412841797
          },
          {
           "lower": 0.46190929412841797,
           "timepoint_id": 78,
           "trajectory": "Rabbit Example",
           "upper": 0.46190929412841797
          },
          {
           "lower": 0.46190929412841797,
           "timepoint_id": 79,
           "trajectory": "Rabbit Example",
           "upper": 0.46190929412841797
          },
          {
           "lower": 0.46190929412841797,
           "timepoint_id": 80,
           "trajectory": "Rabbit Example",
           "upper": 0.46190929412841797
          },
          {
           "lower": 0.46190929412841797,
           "timepoint_id": 81,
           "trajectory": "Rabbit Example",
           "upper": 0.46190929412841797
          },
          {
           "lower": 0.46190929412841797,
           "timepoint_id": 82,
           "trajectory": "Rabbit Example",
           "upper": 0.46190929412841797
          },
          {
           "lower": 0.46190929412841797,
           "timepoint_id": 83,
           "trajectory": "Rabbit Example",
           "upper": 0.46190929412841797
          },
          {
           "lower": 0.46190929412841797,
           "timepoint_id": 84,
           "trajectory": "Rabbit Example",
           "upper": 0.46190929412841797
          },
          {
           "lower": 0.46190929412841797,
           "timepoint_id": 85,
           "trajectory": "Rabbit Example",
           "upper": 0.46190929412841797
          },
          {
           "lower": 0.46190929412841797,
           "timepoint_id": 86,
           "trajectory": "Rabbit Example",
           "upper": 0.46190929412841797
          },
          {
           "lower": 0.46190929412841797,
           "timepoint_id": 87,
           "trajectory": "Rabbit Example",
           "upper": 0.46190929412841797
          },
          {
           "lower": 0.46190929412841797,
           "timepoint_id": 88,
           "trajectory": "Rabbit Example",
           "upper": 0.46190929412841797
          },
          {
           "lower": 0.46190929412841797,
           "timepoint_id": 89,
           "trajectory": "Rabbit Example",
           "upper": 0.46190929412841797
          },
          {
           "lower": 0.46190929412841797,
           "timepoint_id": 90,
           "trajectory": "Rabbit Example",
           "upper": 0.46190929412841797
          },
          {
           "lower": 0.46190929412841797,
           "timepoint_id": 91,
           "trajectory": "Rabbit Example",
           "upper": 0.46190929412841797
          },
          {
           "lower": 0.46190929412841797,
           "timepoint_id": 92,
           "trajectory": "Rabbit Example",
           "upper": 0.46190929412841797
          },
          {
           "lower": 0.46190929412841797,
           "timepoint_id": 93,
           "trajectory": "Rabbit Example",
           "upper": 0.46190929412841797
          },
          {
           "lower": 0.46190929412841797,
           "timepoint_id": 94,
           "trajectory": "Rabbit Example",
           "upper": 0.46190929412841797
          },
          {
           "lower": 0.46190929412841797,
           "timepoint_id": 95,
           "trajectory": "Rabbit Example",
           "upper": 0.46190929412841797
          },
          {
           "lower": 0.46190929412841797,
           "timepoint_id": 96,
           "trajectory": "Rabbit Example",
           "upper": 0.46190929412841797
          },
          {
           "lower": 0.46190929412841797,
           "timepoint_id": 97,
           "trajectory": "Rabbit Example",
           "upper": 0.46190929412841797
          },
          {
           "lower": 0.46190929412841797,
           "timepoint_id": 98,
           "trajectory": "Rabbit Example",
           "upper": 0.46190929412841797
          },
          {
           "lower": 0.46190929412841797,
           "timepoint_id": 99,
           "trajectory": "Rabbit Example",
           "upper": 0.46190929412841797
          },
          {
           "lower": 0.46190929412841797,
           "timepoint_id": 100,
           "trajectory": "Rabbit Example",
           "upper": 0.46190929412841797
          },
          {
           "lower": 0.46190929412841797,
           "timepoint_id": 101,
           "trajectory": "Rabbit Example",
           "upper": 0.46190929412841797
          },
          {
           "lower": 0.46190929412841797,
           "timepoint_id": 102,
           "trajectory": "Rabbit Example",
           "upper": 0.46190929412841797
          },
          {
           "lower": 0.46190929412841797,
           "timepoint_id": 103,
           "trajectory": "Rabbit Example",
           "upper": 0.46190929412841797
          },
          {
           "lower": 0.46190929412841797,
           "timepoint_id": 104,
           "trajectory": "Rabbit Example",
           "upper": 0.46190929412841797
          },
          {
           "lower": 0.46190929412841797,
           "timepoint_id": 105,
           "trajectory": "Rabbit Example",
           "upper": 0.46190929412841797
          },
          {
           "lower": 0.46190929412841797,
           "timepoint_id": 106,
           "trajectory": "Rabbit Example",
           "upper": 0.46190929412841797
          },
          {
           "lower": 0.46190929412841797,
           "timepoint_id": 107,
           "trajectory": "Rabbit Example",
           "upper": 0.46190929412841797
          },
          {
           "lower": 0.46190929412841797,
           "timepoint_id": 108,
           "trajectory": "Rabbit Example",
           "upper": 0.46190929412841797
          },
          {
           "lower": 0.46190929412841797,
           "timepoint_id": 109,
           "trajectory": "Rabbit Example",
           "upper": 0.46190929412841797
          },
          {
           "lower": 0.46190929412841797,
           "timepoint_id": 110,
           "trajectory": "Rabbit Example",
           "upper": 0.46190929412841797
          },
          {
           "lower": 0.46190929412841797,
           "timepoint_id": 111,
           "trajectory": "Rabbit Example",
           "upper": 0.46190929412841797
          },
          {
           "lower": 0.46190929412841797,
           "timepoint_id": 112,
           "trajectory": "Rabbit Example",
           "upper": 0.46190929412841797
          },
          {
           "lower": 0.46190929412841797,
           "timepoint_id": 113,
           "trajectory": "Rabbit Example",
           "upper": 0.46190929412841797
          },
          {
           "lower": 0.46190929412841797,
           "timepoint_id": 114,
           "trajectory": "Rabbit Example",
           "upper": 0.46190929412841797
          },
          {
           "lower": 0.46190929412841797,
           "timepoint_id": 115,
           "trajectory": "Rabbit Example",
           "upper": 0.46190929412841797
          },
          {
           "lower": 0.46190929412841797,
           "timepoint_id": 116,
           "trajectory": "Rabbit Example",
           "upper": 0.46190929412841797
          },
          {
           "lower": 0.46190929412841797,
           "timepoint_id": 117,
           "trajectory": "Rabbit Example",
           "upper": 0.46190929412841797
          },
          {
           "lower": 0.46190929412841797,
           "timepoint_id": 118,
           "trajectory": "Rabbit Example",
           "upper": 0.46190929412841797
          },
          {
           "lower": 0.46190929412841797,
           "timepoint_id": 119,
           "trajectory": "Rabbit Example",
           "upper": 0.46190929412841797
          },
          {
           "lower": 0.46190929412841797,
           "timepoint_id": 120,
           "trajectory": "Rabbit Example",
           "upper": 0.46190929412841797
          },
          {
           "lower": 0.46190929412841797,
           "timepoint_id": 121,
           "trajectory": "Rabbit Example",
           "upper": 0.46190929412841797
          },
          {
           "lower": 0.46190929412841797,
           "timepoint_id": 122,
           "trajectory": "Rabbit Example",
           "upper": 0.46190929412841797
          },
          {
           "lower": 0.46190929412841797,
           "timepoint_id": 123,
           "trajectory": "Rabbit Example",
           "upper": 0.46190929412841797
          },
          {
           "lower": 0.46190929412841797,
           "timepoint_id": 124,
           "trajectory": "Rabbit Example",
           "upper": 0.46190929412841797
          },
          {
           "lower": 0.46190929412841797,
           "timepoint_id": 125,
           "trajectory": "Rabbit Example",
           "upper": 0.46190929412841797
          },
          {
           "lower": 0.46190929412841797,
           "timepoint_id": 126,
           "trajectory": "Rabbit Example",
           "upper": 0.46190929412841797
          },
          {
           "lower": 0.46190929412841797,
           "timepoint_id": 127,
           "trajectory": "Rabbit Example",
           "upper": 0.46190929412841797
          },
          {
           "lower": 0.46190929412841797,
           "timepoint_id": 128,
           "trajectory": "Rabbit Example",
           "upper": 0.46190929412841797
          },
          {
           "lower": 0.46190929412841797,
           "timepoint_id": 129,
           "trajectory": "Rabbit Example",
           "upper": 0.46190929412841797
          },
          {
           "lower": 0.46190929412841797,
           "timepoint_id": 130,
           "trajectory": "Rabbit Example",
           "upper": 0.46190929412841797
          },
          {
           "lower": 0.46190929412841797,
           "timepoint_id": 131,
           "trajectory": "Rabbit Example",
           "upper": 0.46190929412841797
          },
          {
           "lower": 0.46190929412841797,
           "timepoint_id": 132,
           "trajectory": "Rabbit Example",
           "upper": 0.46190929412841797
          },
          {
           "lower": 0.46190929412841797,
           "timepoint_id": 133,
           "trajectory": "Rabbit Example",
           "upper": 0.46190929412841797
          },
          {
           "lower": 0.46190929412841797,
           "timepoint_id": 134,
           "trajectory": "Rabbit Example",
           "upper": 0.46190929412841797
          },
          {
           "lower": 0.46190929412841797,
           "timepoint_id": 135,
           "trajectory": "Rabbit Example",
           "upper": 0.46190929412841797
          },
          {
           "lower": 0.46190929412841797,
           "timepoint_id": 136,
           "trajectory": "Rabbit Example",
           "upper": 0.46190929412841797
          },
          {
           "lower": 0.46190929412841797,
           "timepoint_id": 137,
           "trajectory": "Rabbit Example",
           "upper": 0.46190929412841797
          },
          {
           "lower": 0.46190929412841797,
           "timepoint_id": 138,
           "trajectory": "Rabbit Example",
           "upper": 0.46190929412841797
          },
          {
           "lower": 0.46190929412841797,
           "timepoint_id": 139,
           "trajectory": "Rabbit Example",
           "upper": 0.46190929412841797
          },
          {
           "lower": 0.46190929412841797,
           "timepoint_id": 140,
           "trajectory": "Rabbit Example",
           "upper": 0.46190929412841797
          },
          {
           "lower": 0.46190929412841797,
           "timepoint_id": 141,
           "trajectory": "Rabbit Example",
           "upper": 0.46190929412841797
          },
          {
           "lower": 0.46190929412841797,
           "timepoint_id": 142,
           "trajectory": "Rabbit Example",
           "upper": 0.46190929412841797
          },
          {
           "lower": 0.46190929412841797,
           "timepoint_id": 143,
           "trajectory": "Rabbit Example",
           "upper": 0.46190929412841797
          },
          {
           "lower": 0.46190929412841797,
           "timepoint_id": 144,
           "trajectory": "Rabbit Example",
           "upper": 0.46190929412841797
          },
          {
           "lower": 0.46190929412841797,
           "timepoint_id": 145,
           "trajectory": "Rabbit Example",
           "upper": 0.46190929412841797
          },
          {
           "lower": 0.46190929412841797,
           "timepoint_id": 146,
           "trajectory": "Rabbit Example",
           "upper": 0.46190929412841797
          },
          {
           "lower": 0.46190929412841797,
           "timepoint_id": 147,
           "trajectory": "Rabbit Example",
           "upper": 0.46190929412841797
          },
          {
           "lower": 0.46190929412841797,
           "timepoint_id": 148,
           "trajectory": "Rabbit Example",
           "upper": 0.46190929412841797
          },
          {
           "lower": 0.46190929412841797,
           "timepoint_id": 149,
           "trajectory": "Rabbit Example",
           "upper": 0.46190929412841797
          },
          {
           "lower": 0.46190929412841797,
           "timepoint_id": 150,
           "trajectory": "Rabbit Example",
           "upper": 0.46190929412841797
          },
          {
           "lower": 0.46190929412841797,
           "timepoint_id": 151,
           "trajectory": "Rabbit Example",
           "upper": 0.46190929412841797
          },
          {
           "lower": 0.46190929412841797,
           "timepoint_id": 152,
           "trajectory": "Rabbit Example",
           "upper": 0.46190929412841797
          },
          {
           "lower": 0.46190929412841797,
           "timepoint_id": 153,
           "trajectory": "Rabbit Example",
           "upper": 0.46190929412841797
          },
          {
           "lower": 0.46190929412841797,
           "timepoint_id": 154,
           "trajectory": "Rabbit Example",
           "upper": 0.46190929412841797
          },
          {
           "lower": 0.46190929412841797,
           "timepoint_id": 155,
           "trajectory": "Rabbit Example",
           "upper": 0.46190929412841797
          },
          {
           "lower": 0.46190929412841797,
           "timepoint_id": 156,
           "trajectory": "Rabbit Example",
           "upper": 0.46190929412841797
          },
          {
           "lower": 0.46190929412841797,
           "timepoint_id": 157,
           "trajectory": "Rabbit Example",
           "upper": 0.46190929412841797
          },
          {
           "lower": 0.46190929412841797,
           "timepoint_id": 158,
           "trajectory": "Rabbit Example",
           "upper": 0.46190929412841797
          },
          {
           "lower": 0.46190929412841797,
           "timepoint_id": 159,
           "trajectory": "Rabbit Example",
           "upper": 0.46190929412841797
          },
          {
           "lower": 0.46190929412841797,
           "timepoint_id": 160,
           "trajectory": "Rabbit Example",
           "upper": 0.46190929412841797
          },
          {
           "lower": 0.46190929412841797,
           "timepoint_id": 161,
           "trajectory": "Rabbit Example",
           "upper": 0.46190929412841797
          },
          {
           "lower": 0.46190929412841797,
           "timepoint_id": 162,
           "trajectory": "Rabbit Example",
           "upper": 0.46190929412841797
          },
          {
           "lower": 0.46190929412841797,
           "timepoint_id": 163,
           "trajectory": "Rabbit Example",
           "upper": 0.46190929412841797
          },
          {
           "lower": 0.46190929412841797,
           "timepoint_id": 164,
           "trajectory": "Rabbit Example",
           "upper": 0.46190929412841797
          },
          {
           "lower": 0.46190929412841797,
           "timepoint_id": 165,
           "trajectory": "Rabbit Example",
           "upper": 0.46190929412841797
          },
          {
           "lower": 0.46190929412841797,
           "timepoint_id": 166,
           "trajectory": "Rabbit Example",
           "upper": 0.46190929412841797
          },
          {
           "lower": 0.46190929412841797,
           "timepoint_id": 167,
           "trajectory": "Rabbit Example",
           "upper": 0.46190929412841797
          },
          {
           "lower": 0.46190929412841797,
           "timepoint_id": 168,
           "trajectory": "Rabbit Example",
           "upper": 0.46190929412841797
          },
          {
           "lower": 0.46190929412841797,
           "timepoint_id": 169,
           "trajectory": "Rabbit Example",
           "upper": 0.46190929412841797
          },
          {
           "lower": 0.46190929412841797,
           "timepoint_id": 170,
           "trajectory": "Rabbit Example",
           "upper": 0.46190929412841797
          },
          {
           "lower": 0.46190929412841797,
           "timepoint_id": 171,
           "trajectory": "Rabbit Example",
           "upper": 0.46190929412841797
          },
          {
           "lower": 0.46190929412841797,
           "timepoint_id": 172,
           "trajectory": "Rabbit Example",
           "upper": 0.46190929412841797
          },
          {
           "lower": 0.46190929412841797,
           "timepoint_id": 173,
           "trajectory": "Rabbit Example",
           "upper": 0.46190929412841797
          },
          {
           "lower": 0.46190929412841797,
           "timepoint_id": 174,
           "trajectory": "Rabbit Example",
           "upper": 0.46190929412841797
          },
          {
           "lower": 0.46190929412841797,
           "timepoint_id": 175,
           "trajectory": "Rabbit Example",
           "upper": 0.46190929412841797
          },
          {
           "lower": 0.46190929412841797,
           "timepoint_id": 176,
           "trajectory": "Rabbit Example",
           "upper": 0.46190929412841797
          },
          {
           "lower": 0.46190929412841797,
           "timepoint_id": 177,
           "trajectory": "Rabbit Example",
           "upper": 0.46190929412841797
          },
          {
           "lower": 0.46190929412841797,
           "timepoint_id": 178,
           "trajectory": "Rabbit Example",
           "upper": 0.46190929412841797
          },
          {
           "lower": 0.46190929412841797,
           "timepoint_id": 179,
           "trajectory": "Rabbit Example",
           "upper": 0.46190929412841797
          },
          {
           "lower": 0.46190929412841797,
           "timepoint_id": 180,
           "trajectory": "Rabbit Example",
           "upper": 0.46190929412841797
          },
          {
           "lower": 0.46190929412841797,
           "timepoint_id": 181,
           "trajectory": "Rabbit Example",
           "upper": 0.46190929412841797
          },
          {
           "lower": 0.46190929412841797,
           "timepoint_id": 182,
           "trajectory": "Rabbit Example",
           "upper": 0.46190929412841797
          },
          {
           "lower": 0.46190929412841797,
           "timepoint_id": 183,
           "trajectory": "Rabbit Example",
           "upper": 0.46190929412841797
          },
          {
           "lower": 0.46190929412841797,
           "timepoint_id": 184,
           "trajectory": "Rabbit Example",
           "upper": 0.46190929412841797
          },
          {
           "lower": 0.46190929412841797,
           "timepoint_id": 185,
           "trajectory": "Rabbit Example",
           "upper": 0.46190929412841797
          },
          {
           "lower": 0.46190929412841797,
           "timepoint_id": 186,
           "trajectory": "Rabbit Example",
           "upper": 0.46190929412841797
          },
          {
           "lower": 0.46190929412841797,
           "timepoint_id": 187,
           "trajectory": "Rabbit Example",
           "upper": 0.46190929412841797
          },
          {
           "lower": 0.46190929412841797,
           "timepoint_id": 188,
           "trajectory": "Rabbit Example",
           "upper": 0.46190929412841797
          },
          {
           "lower": 0.46190929412841797,
           "timepoint_id": 189,
           "trajectory": "Rabbit Example",
           "upper": 0.46190929412841797
          },
          {
           "lower": 0.46190929412841797,
           "timepoint_id": 190,
           "trajectory": "Rabbit Example",
           "upper": 0.46190929412841797
          },
          {
           "lower": 0.46190929412841797,
           "timepoint_id": 191,
           "trajectory": "Rabbit Example",
           "upper": 0.46190929412841797
          },
          {
           "lower": 0.46190929412841797,
           "timepoint_id": 192,
           "trajectory": "Rabbit Example",
           "upper": 0.46190929412841797
          },
          {
           "lower": 0.46190929412841797,
           "timepoint_id": 193,
           "trajectory": "Rabbit Example",
           "upper": 0.46190929412841797
          },
          {
           "lower": 0.46190929412841797,
           "timepoint_id": 194,
           "trajectory": "Rabbit Example",
           "upper": 0.46190929412841797
          },
          {
           "lower": 0.46190929412841797,
           "timepoint_id": 195,
           "trajectory": "Rabbit Example",
           "upper": 0.46190929412841797
          },
          {
           "lower": 0.46190929412841797,
           "timepoint_id": 196,
           "trajectory": "Rabbit Example",
           "upper": 0.46190929412841797
          },
          {
           "lower": 0.46190929412841797,
           "timepoint_id": 197,
           "trajectory": "Rabbit Example",
           "upper": 0.46190929412841797
          },
          {
           "lower": 0.46190929412841797,
           "timepoint_id": 198,
           "trajectory": "Rabbit Example",
           "upper": 0.46190929412841797
          },
          {
           "lower": 0.46190929412841797,
           "timepoint_id": 199,
           "trajectory": "Rabbit Example",
           "upper": 0.46190929412841797
          },
          {
           "lower": 0.46190929412841797,
           "timepoint_id": 200,
           "trajectory": "Rabbit Example",
           "upper": 0.46190929412841797
          },
          {
           "lower": 0.46190929412841797,
           "timepoint_id": 201,
           "trajectory": "Rabbit Example",
           "upper": 0.46190929412841797
          },
          {
           "lower": 0.46190929412841797,
           "timepoint_id": 202,
           "trajectory": "Rabbit Example",
           "upper": 0.46190929412841797
          },
          {
           "lower": 0.46190929412841797,
           "timepoint_id": 203,
           "trajectory": "Rabbit Example",
           "upper": 0.46190929412841797
          },
          {
           "lower": 0.46190929412841797,
           "timepoint_id": 204,
           "trajectory": "Rabbit Example",
           "upper": 0.46190929412841797
          },
          {
           "lower": 0.46190929412841797,
           "timepoint_id": 205,
           "trajectory": "Rabbit Example",
           "upper": 0.46190929412841797
          },
          {
           "lower": 0.46190929412841797,
           "timepoint_id": 206,
           "trajectory": "Rabbit Example",
           "upper": 0.46190929412841797
          },
          {
           "lower": 0.46190929412841797,
           "timepoint_id": 207,
           "trajectory": "Rabbit Example",
           "upper": 0.46190929412841797
          },
          {
           "lower": 0.46190929412841797,
           "timepoint_id": 208,
           "trajectory": "Rabbit Example",
           "upper": 0.46190929412841797
          },
          {
           "lower": 0.46190929412841797,
           "timepoint_id": 209,
           "trajectory": "Rabbit Example",
           "upper": 0.46190929412841797
          },
          {
           "lower": 0.46190929412841797,
           "timepoint_id": 210,
           "trajectory": "Rabbit Example",
           "upper": 0.46190929412841797
          },
          {
           "lower": 0.46190929412841797,
           "timepoint_id": 211,
           "trajectory": "Rabbit Example",
           "upper": 0.46190929412841797
          },
          {
           "lower": 0.46190929412841797,
           "timepoint_id": 212,
           "trajectory": "Rabbit Example",
           "upper": 0.46190929412841797
          },
          {
           "lower": 0.46190929412841797,
           "timepoint_id": 213,
           "trajectory": "Rabbit Example",
           "upper": 0.46190929412841797
          },
          {
           "lower": 0.46190929412841797,
           "timepoint_id": 214,
           "trajectory": "Rabbit Example",
           "upper": 0.46190929412841797
          },
          {
           "lower": 0.46190929412841797,
           "timepoint_id": 215,
           "trajectory": "Rabbit Example",
           "upper": 0.46190929412841797
          },
          {
           "lower": 0.46190929412841797,
           "timepoint_id": 216,
           "trajectory": "Rabbit Example",
           "upper": 0.46190929412841797
          },
          {
           "lower": 0.46190929412841797,
           "timepoint_id": 217,
           "trajectory": "Rabbit Example",
           "upper": 0.46190929412841797
          },
          {
           "lower": 0.46190929412841797,
           "timepoint_id": 218,
           "trajectory": "Rabbit Example",
           "upper": 0.46190929412841797
          },
          {
           "lower": 0.46190929412841797,
           "timepoint_id": 219,
           "trajectory": "Rabbit Example",
           "upper": 0.46190929412841797
          },
          {
           "lower": 0.46190929412841797,
           "timepoint_id": 220,
           "trajectory": "Rabbit Example",
           "upper": 0.46190929412841797
          },
          {
           "lower": 0.46190929412841797,
           "timepoint_id": 221,
           "trajectory": "Rabbit Example",
           "upper": 0.46190929412841797
          },
          {
           "lower": 0.46190929412841797,
           "timepoint_id": 222,
           "trajectory": "Rabbit Example",
           "upper": 0.46190929412841797
          },
          {
           "lower": 0.46190929412841797,
           "timepoint_id": 223,
           "trajectory": "Rabbit Example",
           "upper": 0.46190929412841797
          },
          {
           "lower": 0.46190929412841797,
           "timepoint_id": 224,
           "trajectory": "Rabbit Example",
           "upper": 0.46190929412841797
          },
          {
           "lower": 0.46190929412841797,
           "timepoint_id": 225,
           "trajectory": "Rabbit Example",
           "upper": 0.46190929412841797
          },
          {
           "lower": 0.46190929412841797,
           "timepoint_id": 226,
           "trajectory": "Rabbit Example",
           "upper": 0.46190929412841797
          },
          {
           "lower": 0.46190929412841797,
           "timepoint_id": 227,
           "trajectory": "Rabbit Example",
           "upper": 0.46190929412841797
          },
          {
           "lower": 0.46190929412841797,
           "timepoint_id": 228,
           "trajectory": "Rabbit Example",
           "upper": 0.46190929412841797
          },
          {
           "lower": 0.46190929412841797,
           "timepoint_id": 229,
           "trajectory": "Rabbit Example",
           "upper": 0.46190929412841797
          },
          {
           "lower": 0.46190929412841797,
           "timepoint_id": 230,
           "trajectory": "Rabbit Example",
           "upper": 0.46190929412841797
          },
          {
           "lower": 0.46190929412841797,
           "timepoint_id": 231,
           "trajectory": "Rabbit Example",
           "upper": 0.46190929412841797
          },
          {
           "lower": 0.46190929412841797,
           "timepoint_id": 232,
           "trajectory": "Rabbit Example",
           "upper": 0.46190929412841797
          },
          {
           "lower": 0.46190929412841797,
           "timepoint_id": 233,
           "trajectory": "Rabbit Example",
           "upper": 0.46190929412841797
          },
          {
           "lower": 0.46190929412841797,
           "timepoint_id": 234,
           "trajectory": "Rabbit Example",
           "upper": 0.46190929412841797
          },
          {
           "lower": 0.46190929412841797,
           "timepoint_id": 235,
           "trajectory": "Rabbit Example",
           "upper": 0.46190929412841797
          },
          {
           "lower": 0.46190929412841797,
           "timepoint_id": 236,
           "trajectory": "Rabbit Example",
           "upper": 0.46190929412841797
          },
          {
           "lower": 0.46190929412841797,
           "timepoint_id": 237,
           "trajectory": "Rabbit Example",
           "upper": 0.46190929412841797
          },
          {
           "lower": 0.46190929412841797,
           "timepoint_id": 238,
           "trajectory": "Rabbit Example",
           "upper": 0.46190929412841797
          },
          {
           "lower": 0.46190929412841797,
           "timepoint_id": 239,
           "trajectory": "Rabbit Example",
           "upper": 0.46190929412841797
          },
          {
           "lower": 0.46190929412841797,
           "timepoint_id": 240,
           "trajectory": "Rabbit Example",
           "upper": 0.46190929412841797
          },
          {
           "lower": 0.46190929412841797,
           "timepoint_id": 241,
           "trajectory": "Rabbit Example",
           "upper": 0.46190929412841797
          },
          {
           "lower": 0.46190929412841797,
           "timepoint_id": 242,
           "trajectory": "Rabbit Example",
           "upper": 0.46190929412841797
          },
          {
           "lower": 0.46190929412841797,
           "timepoint_id": 243,
           "trajectory": "Rabbit Example",
           "upper": 0.46190929412841797
          },
          {
           "lower": 0.46190929412841797,
           "timepoint_id": 244,
           "trajectory": "Rabbit Example",
           "upper": 0.46190929412841797
          },
          {
           "lower": 0.46190929412841797,
           "timepoint_id": 245,
           "trajectory": "Rabbit Example",
           "upper": 0.46190929412841797
          },
          {
           "lower": 0.46190929412841797,
           "timepoint_id": 246,
           "trajectory": "Rabbit Example",
           "upper": 0.46190929412841797
          },
          {
           "lower": 0.46190929412841797,
           "timepoint_id": 247,
           "trajectory": "Rabbit Example",
           "upper": 0.46190929412841797
          },
          {
           "lower": 0.46190929412841797,
           "timepoint_id": 248,
           "trajectory": "Rabbit Example",
           "upper": 0.46190929412841797
          },
          {
           "lower": 0.46190929412841797,
           "timepoint_id": 249,
           "trajectory": "Rabbit Example",
           "upper": 0.46190929412841797
          },
          {
           "lower": 0.46190929412841797,
           "timepoint_id": 250,
           "trajectory": "Rabbit Example",
           "upper": 0.46190929412841797
          },
          {
           "lower": 0.46190929412841797,
           "timepoint_id": 251,
           "trajectory": "Rabbit Example",
           "upper": 0.46190929412841797
          },
          {
           "lower": 0.46190929412841797,
           "timepoint_id": 252,
           "trajectory": "Rabbit Example",
           "upper": 0.46190929412841797
          },
          {
           "lower": 0.46190929412841797,
           "timepoint_id": 253,
           "trajectory": "Rabbit Example",
           "upper": 0.46190929412841797
          },
          {
           "lower": 0.46190929412841797,
           "timepoint_id": 254,
           "trajectory": "Rabbit Example",
           "upper": 0.46190929412841797
          },
          {
           "lower": 0.46190929412841797,
           "timepoint_id": 255,
           "trajectory": "Rabbit Example",
           "upper": 0.46190929412841797
          },
          {
           "lower": 0.46190929412841797,
           "timepoint_id": 256,
           "trajectory": "Rabbit Example",
           "upper": 0.46190929412841797
          },
          {
           "lower": 0.46190929412841797,
           "timepoint_id": 257,
           "trajectory": "Rabbit Example",
           "upper": 0.46190929412841797
          },
          {
           "lower": 0.46190929412841797,
           "timepoint_id": 258,
           "trajectory": "Rabbit Example",
           "upper": 0.46190929412841797
          },
          {
           "lower": 0.46190929412841797,
           "timepoint_id": 259,
           "trajectory": "Rabbit Example",
           "upper": 0.46190929412841797
          },
          {
           "lower": 0.46190929412841797,
           "timepoint_id": 260,
           "trajectory": "Rabbit Example",
           "upper": 0.46190929412841797
          },
          {
           "lower": 0.46190929412841797,
           "timepoint_id": 261,
           "trajectory": "Rabbit Example",
           "upper": 0.46190929412841797
          },
          {
           "lower": 0.46190929412841797,
           "timepoint_id": 262,
           "trajectory": "Rabbit Example",
           "upper": 0.46190929412841797
          },
          {
           "lower": 0.46190929412841797,
           "timepoint_id": 263,
           "trajectory": "Rabbit Example",
           "upper": 0.46190929412841797
          },
          {
           "lower": 0.46190929412841797,
           "timepoint_id": 264,
           "trajectory": "Rabbit Example",
           "upper": 0.46190929412841797
          },
          {
           "lower": 0.46190929412841797,
           "timepoint_id": 265,
           "trajectory": "Rabbit Example",
           "upper": 0.46190929412841797
          },
          {
           "lower": 0.46190929412841797,
           "timepoint_id": 266,
           "trajectory": "Rabbit Example",
           "upper": 0.46190929412841797
          },
          {
           "lower": 0.46190929412841797,
           "timepoint_id": 267,
           "trajectory": "Rabbit Example",
           "upper": 0.46190929412841797
          },
          {
           "lower": 0.46190929412841797,
           "timepoint_id": 268,
           "trajectory": "Rabbit Example",
           "upper": 0.46190929412841797
          },
          {
           "lower": 0.46190929412841797,
           "timepoint_id": 269,
           "trajectory": "Rabbit Example",
           "upper": 0.46190929412841797
          },
          {
           "lower": 0.46190929412841797,
           "timepoint_id": 270,
           "trajectory": "Rabbit Example",
           "upper": 0.46190929412841797
          },
          {
           "lower": 0.46190929412841797,
           "timepoint_id": 271,
           "trajectory": "Rabbit Example",
           "upper": 0.46190929412841797
          },
          {
           "lower": 0.46190929412841797,
           "timepoint_id": 272,
           "trajectory": "Rabbit Example",
           "upper": 0.46190929412841797
          },
          {
           "lower": 0.46190929412841797,
           "timepoint_id": 273,
           "trajectory": "Rabbit Example",
           "upper": 0.46190929412841797
          },
          {
           "lower": 0.46190929412841797,
           "timepoint_id": 274,
           "trajectory": "Rabbit Example",
           "upper": 0.46190929412841797
          },
          {
           "lower": 0.46190929412841797,
           "timepoint_id": 275,
           "trajectory": "Rabbit Example",
           "upper": 0.46190929412841797
          },
          {
           "lower": 0.46190929412841797,
           "timepoint_id": 276,
           "trajectory": "Rabbit Example",
           "upper": 0.46190929412841797
          },
          {
           "lower": 0.46190929412841797,
           "timepoint_id": 277,
           "trajectory": "Rabbit Example",
           "upper": 0.46190929412841797
          },
          {
           "lower": 0.46190929412841797,
           "timepoint_id": 278,
           "trajectory": "Rabbit Example",
           "upper": 0.46190929412841797
          },
          {
           "lower": 0.46190929412841797,
           "timepoint_id": 279,
           "trajectory": "Rabbit Example",
           "upper": 0.46190929412841797
          },
          {
           "lower": 0.46190929412841797,
           "timepoint_id": 280,
           "trajectory": "Rabbit Example",
           "upper": 0.46190929412841797
          },
          {
           "lower": 0.46190929412841797,
           "timepoint_id": 281,
           "trajectory": "Rabbit Example",
           "upper": 0.46190929412841797
          },
          {
           "lower": 0.46190929412841797,
           "timepoint_id": 282,
           "trajectory": "Rabbit Example",
           "upper": 0.46190929412841797
          },
          {
           "lower": 0.46190929412841797,
           "timepoint_id": 283,
           "trajectory": "Rabbit Example",
           "upper": 0.46190929412841797
          },
          {
           "lower": 0.46190929412841797,
           "timepoint_id": 284,
           "trajectory": "Rabbit Example",
           "upper": 0.46190929412841797
          },
          {
           "lower": 0.46190929412841797,
           "timepoint_id": 285,
           "trajectory": "Rabbit Example",
           "upper": 0.46190929412841797
          },
          {
           "lower": 0.46190929412841797,
           "timepoint_id": 286,
           "trajectory": "Rabbit Example",
           "upper": 0.46190929412841797
          },
          {
           "lower": 0.46190929412841797,
           "timepoint_id": 287,
           "trajectory": "Rabbit Example",
           "upper": 0.46190929412841797
          },
          {
           "lower": 0.46190929412841797,
           "timepoint_id": 288,
           "trajectory": "Rabbit Example",
           "upper": 0.46190929412841797
          },
          {
           "lower": 0.46190929412841797,
           "timepoint_id": 289,
           "trajectory": "Rabbit Example",
           "upper": 0.46190929412841797
          },
          {
           "lower": 0.46190929412841797,
           "timepoint_id": 290,
           "trajectory": "Rabbit Example",
           "upper": 0.46190929412841797
          },
          {
           "lower": 0.46190929412841797,
           "timepoint_id": 291,
           "trajectory": "Rabbit Example",
           "upper": 0.46190929412841797
          },
          {
           "lower": 0.46190929412841797,
           "timepoint_id": 292,
           "trajectory": "Rabbit Example",
           "upper": 0.46190929412841797
          },
          {
           "lower": 0.46190929412841797,
           "timepoint_id": 293,
           "trajectory": "Rabbit Example",
           "upper": 0.46190929412841797
          },
          {
           "lower": 0.46190929412841797,
           "timepoint_id": 294,
           "trajectory": "Rabbit Example",
           "upper": 0.46190929412841797
          },
          {
           "lower": 0.46190929412841797,
           "timepoint_id": 295,
           "trajectory": "Rabbit Example",
           "upper": 0.46190929412841797
          },
          {
           "lower": 0.46190929412841797,
           "timepoint_id": 296,
           "trajectory": "Rabbit Example",
           "upper": 0.46190929412841797
          },
          {
           "lower": 0.46190929412841797,
           "timepoint_id": 297,
           "trajectory": "Rabbit Example",
           "upper": 0.46190929412841797
          },
          {
           "lower": 0.46190929412841797,
           "timepoint_id": 298,
           "trajectory": "Rabbit Example",
           "upper": 0.46190929412841797
          },
          {
           "lower": 0.46190929412841797,
           "timepoint_id": 299,
           "trajectory": "Rabbit Example",
           "upper": 0.46190929412841797
          },
          {
           "lower": 0.46190929412841797,
           "timepoint_id": 300,
           "trajectory": "Rabbit Example",
           "upper": 0.46190929412841797
          },
          {
           "lower": 0.46190929412841797,
           "timepoint_id": 301,
           "trajectory": "Rabbit Example",
           "upper": 0.46190929412841797
          },
          {
           "lower": 0.46190929412841797,
           "timepoint_id": 302,
           "trajectory": "Rabbit Example",
           "upper": 0.46190929412841797
          },
          {
           "lower": 0.46190929412841797,
           "timepoint_id": 303,
           "trajectory": "Rabbit Example",
           "upper": 0.46190929412841797
          },
          {
           "lower": 0.46190929412841797,
           "timepoint_id": 304,
           "trajectory": "Rabbit Example",
           "upper": 0.46190929412841797
          },
          {
           "lower": 0.46190929412841797,
           "timepoint_id": 305,
           "trajectory": "Rabbit Example",
           "upper": 0.46190929412841797
          },
          {
           "lower": 0.46190929412841797,
           "timepoint_id": 306,
           "trajectory": "Rabbit Example",
           "upper": 0.46190929412841797
          },
          {
           "lower": 0.46190929412841797,
           "timepoint_id": 307,
           "trajectory": "Rabbit Example",
           "upper": 0.46190929412841797
          },
          {
           "lower": 0.46190929412841797,
           "timepoint_id": 308,
           "trajectory": "Rabbit Example",
           "upper": 0.46190929412841797
          },
          {
           "lower": 0.46190929412841797,
           "timepoint_id": 309,
           "trajectory": "Rabbit Example",
           "upper": 0.46190929412841797
          },
          {
           "lower": 0.46190929412841797,
           "timepoint_id": 310,
           "trajectory": "Rabbit Example",
           "upper": 0.46190929412841797
          },
          {
           "lower": 0.46190929412841797,
           "timepoint_id": 311,
           "trajectory": "Rabbit Example",
           "upper": 0.46190929412841797
          },
          {
           "lower": 0.46190929412841797,
           "timepoint_id": 312,
           "trajectory": "Rabbit Example",
           "upper": 0.46190929412841797
          },
          {
           "lower": 0.46190929412841797,
           "timepoint_id": 313,
           "trajectory": "Rabbit Example",
           "upper": 0.46190929412841797
          },
          {
           "lower": 0.46190929412841797,
           "timepoint_id": 314,
           "trajectory": "Rabbit Example",
           "upper": 0.46190929412841797
          },
          {
           "lower": 0.46190929412841797,
           "timepoint_id": 315,
           "trajectory": "Rabbit Example",
           "upper": 0.46190929412841797
          },
          {
           "lower": 0.46190929412841797,
           "timepoint_id": 316,
           "trajectory": "Rabbit Example",
           "upper": 0.46190929412841797
          },
          {
           "lower": 0.46190929412841797,
           "timepoint_id": 317,
           "trajectory": "Rabbit Example",
           "upper": 0.46190929412841797
          },
          {
           "lower": 0.46190929412841797,
           "timepoint_id": 318,
           "trajectory": "Rabbit Example",
           "upper": 0.46190929412841797
          },
          {
           "lower": 0.46190929412841797,
           "timepoint_id": 319,
           "trajectory": "Rabbit Example",
           "upper": 0.46190929412841797
          },
          {
           "lower": 0.46190929412841797,
           "timepoint_id": 320,
           "trajectory": "Rabbit Example",
           "upper": 0.46190929412841797
          },
          {
           "lower": 0.46190929412841797,
           "timepoint_id": 321,
           "trajectory": "Rabbit Example",
           "upper": 0.46190929412841797
          },
          {
           "lower": 0.46190929412841797,
           "timepoint_id": 322,
           "trajectory": "Rabbit Example",
           "upper": 0.46190929412841797
          },
          {
           "lower": 0.46190929412841797,
           "timepoint_id": 323,
           "trajectory": "Rabbit Example",
           "upper": 0.46190929412841797
          },
          {
           "lower": 0.46190929412841797,
           "timepoint_id": 324,
           "trajectory": "Rabbit Example",
           "upper": 0.46190929412841797
          },
          {
           "lower": 0.46190929412841797,
           "timepoint_id": 325,
           "trajectory": "Rabbit Example",
           "upper": 0.46190929412841797
          },
          {
           "lower": 0.46190929412841797,
           "timepoint_id": 326,
           "trajectory": "Rabbit Example",
           "upper": 0.46190929412841797
          },
          {
           "lower": 0.46190929412841797,
           "timepoint_id": 327,
           "trajectory": "Rabbit Example",
           "upper": 0.46190929412841797
          },
          {
           "lower": 0.46190929412841797,
           "timepoint_id": 328,
           "trajectory": "Rabbit Example",
           "upper": 0.46190929412841797
          },
          {
           "lower": 0.46190929412841797,
           "timepoint_id": 329,
           "trajectory": "Rabbit Example",
           "upper": 0.46190929412841797
          },
          {
           "lower": 0.46190929412841797,
           "timepoint_id": 330,
           "trajectory": "Rabbit Example",
           "upper": 0.46190929412841797
          },
          {
           "lower": 0.46190929412841797,
           "timepoint_id": 331,
           "trajectory": "Rabbit Example",
           "upper": 0.46190929412841797
          },
          {
           "lower": 0.46190929412841797,
           "timepoint_id": 332,
           "trajectory": "Rabbit Example",
           "upper": 0.46190929412841797
          },
          {
           "lower": 0.46190929412841797,
           "timepoint_id": 333,
           "trajectory": "Rabbit Example",
           "upper": 0.46190929412841797
          },
          {
           "lower": 0.46190929412841797,
           "timepoint_id": 334,
           "trajectory": "Rabbit Example",
           "upper": 0.46190929412841797
          },
          {
           "lower": 0.46190929412841797,
           "timepoint_id": 335,
           "trajectory": "Rabbit Example",
           "upper": 0.46190929412841797
          },
          {
           "lower": 0.46190929412841797,
           "timepoint_id": 336,
           "trajectory": "Rabbit Example",
           "upper": 0.46190929412841797
          },
          {
           "lower": 0.46190929412841797,
           "timepoint_id": 337,
           "trajectory": "Rabbit Example",
           "upper": 0.46190929412841797
          },
          {
           "lower": 0.46190929412841797,
           "timepoint_id": 338,
           "trajectory": "Rabbit Example",
           "upper": 0.46190929412841797
          },
          {
           "lower": 0.46190929412841797,
           "timepoint_id": 339,
           "trajectory": "Rabbit Example",
           "upper": 0.46190929412841797
          },
          {
           "lower": 0.46190929412841797,
           "timepoint_id": 340,
           "trajectory": "Rabbit Example",
           "upper": 0.46190929412841797
          },
          {
           "lower": 0.46190929412841797,
           "timepoint_id": 341,
           "trajectory": "Rabbit Example",
           "upper": 0.46190929412841797
          },
          {
           "lower": 0.46190929412841797,
           "timepoint_id": 342,
           "trajectory": "Rabbit Example",
           "upper": 0.46190929412841797
          },
          {
           "lower": 0.46190929412841797,
           "timepoint_id": 343,
           "trajectory": "Rabbit Example",
           "upper": 0.46190929412841797
          },
          {
           "lower": 0.46190929412841797,
           "timepoint_id": 344,
           "trajectory": "Rabbit Example",
           "upper": 0.46190929412841797
          },
          {
           "lower": 0.46190929412841797,
           "timepoint_id": 345,
           "trajectory": "Rabbit Example",
           "upper": 0.46190929412841797
          },
          {
           "lower": 0.46190929412841797,
           "timepoint_id": 346,
           "trajectory": "Rabbit Example",
           "upper": 0.46190929412841797
          },
          {
           "lower": 0.46190929412841797,
           "timepoint_id": 347,
           "trajectory": "Rabbit Example",
           "upper": 0.46190929412841797
          },
          {
           "lower": 0.46190929412841797,
           "timepoint_id": 348,
           "trajectory": "Rabbit Example",
           "upper": 0.46190929412841797
          },
          {
           "lower": 0.46190929412841797,
           "timepoint_id": 349,
           "trajectory": "Rabbit Example",
           "upper": 0.46190929412841797
          },
          {
           "lower": 0.46190929412841797,
           "timepoint_id": 350,
           "trajectory": "Rabbit Example",
           "upper": 0.46190929412841797
          },
          {
           "lower": 0.46190929412841797,
           "timepoint_id": 351,
           "trajectory": "Rabbit Example",
           "upper": 0.46190929412841797
          },
          {
           "lower": 0.46190929412841797,
           "timepoint_id": 352,
           "trajectory": "Rabbit Example",
           "upper": 0.46190929412841797
          },
          {
           "lower": 0.46190929412841797,
           "timepoint_id": 353,
           "trajectory": "Rabbit Example",
           "upper": 0.46190929412841797
          },
          {
           "lower": 0.46190929412841797,
           "timepoint_id": 354,
           "trajectory": "Rabbit Example",
           "upper": 0.46190929412841797
          },
          {
           "lower": 0.46190929412841797,
           "timepoint_id": 355,
           "trajectory": "Rabbit Example",
           "upper": 0.46190929412841797
          },
          {
           "lower": 0.46190929412841797,
           "timepoint_id": 356,
           "trajectory": "Rabbit Example",
           "upper": 0.46190929412841797
          },
          {
           "lower": 0.46190929412841797,
           "timepoint_id": 357,
           "trajectory": "Rabbit Example",
           "upper": 0.46190929412841797
          },
          {
           "lower": 0.46190929412841797,
           "timepoint_id": 358,
           "trajectory": "Rabbit Example",
           "upper": 0.46190929412841797
          },
          {
           "lower": 0.46190929412841797,
           "timepoint_id": 359,
           "trajectory": "Rabbit Example",
           "upper": 0.46190929412841797
          },
          {
           "lower": 0.46190929412841797,
           "timepoint_id": 360,
           "trajectory": "Rabbit Example",
           "upper": 0.46190929412841797
          },
          {
           "lower": 0.46190929412841797,
           "timepoint_id": 361,
           "trajectory": "Rabbit Example",
           "upper": 0.46190929412841797
          },
          {
           "lower": 0.46190929412841797,
           "timepoint_id": 362,
           "trajectory": "Rabbit Example",
           "upper": 0.46190929412841797
          },
          {
           "lower": 0.46190929412841797,
           "timepoint_id": 363,
           "trajectory": "Rabbit Example",
           "upper": 0.46190929412841797
          },
          {
           "lower": 0.46190929412841797,
           "timepoint_id": 364,
           "trajectory": "Rabbit Example",
           "upper": 0.46190929412841797
          },
          {
           "lower": 0.46190929412841797,
           "timepoint_id": 365,
           "trajectory": "Rabbit Example",
           "upper": 0.46190929412841797
          },
          {
           "lower": 0.46190929412841797,
           "timepoint_id": 366,
           "trajectory": "Rabbit Example",
           "upper": 0.46190929412841797
          },
          {
           "lower": 0.46190929412841797,
           "timepoint_id": 367,
           "trajectory": "Rabbit Example",
           "upper": 0.46190929412841797
          },
          {
           "lower": 0.46190929412841797,
           "timepoint_id": 368,
           "trajectory": "Rabbit Example",
           "upper": 0.46190929412841797
          },
          {
           "lower": 0.46190929412841797,
           "timepoint_id": 369,
           "trajectory": "Rabbit Example",
           "upper": 0.46190929412841797
          },
          {
           "lower": 0.46190929412841797,
           "timepoint_id": 370,
           "trajectory": "Rabbit Example",
           "upper": 0.46190929412841797
          },
          {
           "lower": 0.46190929412841797,
           "timepoint_id": 371,
           "trajectory": "Rabbit Example",
           "upper": 0.46190929412841797
          },
          {
           "lower": 0.46190929412841797,
           "timepoint_id": 372,
           "trajectory": "Rabbit Example",
           "upper": 0.46190929412841797
          },
          {
           "lower": 0.46190929412841797,
           "timepoint_id": 373,
           "trajectory": "Rabbit Example",
           "upper": 0.46190929412841797
          },
          {
           "lower": 0.46190929412841797,
           "timepoint_id": 374,
           "trajectory": "Rabbit Example",
           "upper": 0.46190929412841797
          },
          {
           "lower": 0.46190929412841797,
           "timepoint_id": 375,
           "trajectory": "Rabbit Example",
           "upper": 0.46190929412841797
          },
          {
           "lower": 0.46190929412841797,
           "timepoint_id": 376,
           "trajectory": "Rabbit Example",
           "upper": 0.46190929412841797
          },
          {
           "lower": 0.46190929412841797,
           "timepoint_id": 377,
           "trajectory": "Rabbit Example",
           "upper": 0.46190929412841797
          },
          {
           "lower": 0.46190929412841797,
           "timepoint_id": 378,
           "trajectory": "Rabbit Example",
           "upper": 0.46190929412841797
          },
          {
           "lower": 0.46190929412841797,
           "timepoint_id": 379,
           "trajectory": "Rabbit Example",
           "upper": 0.46190929412841797
          },
          {
           "lower": 0.46190929412841797,
           "timepoint_id": 380,
           "trajectory": "Rabbit Example",
           "upper": 0.46190929412841797
          },
          {
           "lower": 0.46190929412841797,
           "timepoint_id": 381,
           "trajectory": "Rabbit Example",
           "upper": 0.46190929412841797
          },
          {
           "lower": 0.46190929412841797,
           "timepoint_id": 382,
           "trajectory": "Rabbit Example",
           "upper": 0.46190929412841797
          },
          {
           "lower": 0.46190929412841797,
           "timepoint_id": 383,
           "trajectory": "Rabbit Example",
           "upper": 0.46190929412841797
          },
          {
           "lower": 0.46190929412841797,
           "timepoint_id": 384,
           "trajectory": "Rabbit Example",
           "upper": 0.46190929412841797
          },
          {
           "lower": 0.46190929412841797,
           "timepoint_id": 385,
           "trajectory": "Rabbit Example",
           "upper": 0.46190929412841797
          },
          {
           "lower": 0.46190929412841797,
           "timepoint_id": 386,
           "trajectory": "Rabbit Example",
           "upper": 0.46190929412841797
          },
          {
           "lower": 0.46190929412841797,
           "timepoint_id": 387,
           "trajectory": "Rabbit Example",
           "upper": 0.46190929412841797
          },
          {
           "lower": 0.46190929412841797,
           "timepoint_id": 388,
           "trajectory": "Rabbit Example",
           "upper": 0.46190929412841797
          },
          {
           "lower": 0.46190929412841797,
           "timepoint_id": 389,
           "trajectory": "Rabbit Example",
           "upper": 0.46190929412841797
          },
          {
           "lower": 0.46190929412841797,
           "timepoint_id": 390,
           "trajectory": "Rabbit Example",
           "upper": 0.46190929412841797
          },
          {
           "lower": 0.46190929412841797,
           "timepoint_id": 391,
           "trajectory": "Rabbit Example",
           "upper": 0.46190929412841797
          },
          {
           "lower": 0.46190929412841797,
           "timepoint_id": 392,
           "trajectory": "Rabbit Example",
           "upper": 0.46190929412841797
          },
          {
           "lower": 0.46190929412841797,
           "timepoint_id": 393,
           "trajectory": "Rabbit Example",
           "upper": 0.46190929412841797
          },
          {
           "lower": 0.46190929412841797,
           "timepoint_id": 394,
           "trajectory": "Rabbit Example",
           "upper": 0.46190929412841797
          },
          {
           "lower": 0.46190929412841797,
           "timepoint_id": 395,
           "trajectory": "Rabbit Example",
           "upper": 0.46190929412841797
          },
          {
           "lower": 0.46190929412841797,
           "timepoint_id": 396,
           "trajectory": "Rabbit Example",
           "upper": 0.46190929412841797
          },
          {
           "lower": 0.46190929412841797,
           "timepoint_id": 397,
           "trajectory": "Rabbit Example",
           "upper": 0.46190929412841797
          },
          {
           "lower": 0.46190929412841797,
           "timepoint_id": 398,
           "trajectory": "Rabbit Example",
           "upper": 0.46190929412841797
          },
          {
           "lower": 0.46190929412841797,
           "timepoint_id": 399,
           "trajectory": "Rabbit Example",
           "upper": 0.46190929412841797
          },
          {
           "lower": 0.46190929412841797,
           "timepoint_id": 400,
           "trajectory": "Rabbit Example",
           "upper": 0.46190929412841797
          },
          {
           "lower": 0.46190929412841797,
           "timepoint_id": 401,
           "trajectory": "Rabbit Example",
           "upper": 0.46190929412841797
          },
          {
           "lower": 0.46190929412841797,
           "timepoint_id": 402,
           "trajectory": "Rabbit Example",
           "upper": 0.46190929412841797
          },
          {
           "lower": 0.46190929412841797,
           "timepoint_id": 403,
           "trajectory": "Rabbit Example",
           "upper": 0.46190929412841797
          },
          {
           "lower": 0.46190929412841797,
           "timepoint_id": 404,
           "trajectory": "Rabbit Example",
           "upper": 0.46190929412841797
          },
          {
           "lower": 0.46190929412841797,
           "timepoint_id": 405,
           "trajectory": "Rabbit Example",
           "upper": 0.46190929412841797
          },
          {
           "lower": 0.46190929412841797,
           "timepoint_id": 406,
           "trajectory": "Rabbit Example",
           "upper": 0.46190929412841797
          },
          {
           "lower": 0.46190929412841797,
           "timepoint_id": 407,
           "trajectory": "Rabbit Example",
           "upper": 0.46190929412841797
          },
          {
           "lower": 0.46190929412841797,
           "timepoint_id": 408,
           "trajectory": "Rabbit Example",
           "upper": 0.46190929412841797
          },
          {
           "lower": 0.46190929412841797,
           "timepoint_id": 409,
           "trajectory": "Rabbit Example",
           "upper": 0.46190929412841797
          },
          {
           "lower": 0.46190929412841797,
           "timepoint_id": 410,
           "trajectory": "Rabbit Example",
           "upper": 0.46190929412841797
          },
          {
           "lower": 0.46190929412841797,
           "timepoint_id": 411,
           "trajectory": "Rabbit Example",
           "upper": 0.46190929412841797
          },
          {
           "lower": 0.46190929412841797,
           "timepoint_id": 412,
           "trajectory": "Rabbit Example",
           "upper": 0.46190929412841797
          },
          {
           "lower": 0.46190929412841797,
           "timepoint_id": 413,
           "trajectory": "Rabbit Example",
           "upper": 0.46190929412841797
          },
          {
           "lower": 0.46190929412841797,
           "timepoint_id": 414,
           "trajectory": "Rabbit Example",
           "upper": 0.46190929412841797
          },
          {
           "lower": 0.46190929412841797,
           "timepoint_id": 415,
           "trajectory": "Rabbit Example",
           "upper": 0.46190929412841797
          },
          {
           "lower": 0.46190929412841797,
           "timepoint_id": 416,
           "trajectory": "Rabbit Example",
           "upper": 0.46190929412841797
          },
          {
           "lower": 0.46190929412841797,
           "timepoint_id": 417,
           "trajectory": "Rabbit Example",
           "upper": 0.46190929412841797
          },
          {
           "lower": 0.46190929412841797,
           "timepoint_id": 418,
           "trajectory": "Rabbit Example",
           "upper": 0.46190929412841797
          },
          {
           "lower": 0.46190929412841797,
           "timepoint_id": 419,
           "trajectory": "Rabbit Example",
           "upper": 0.46190929412841797
          },
          {
           "lower": 0.46190929412841797,
           "timepoint_id": 420,
           "trajectory": "Rabbit Example",
           "upper": 0.46190929412841797
          },
          {
           "lower": 0.46190929412841797,
           "timepoint_id": 421,
           "trajectory": "Rabbit Example",
           "upper": 0.46190929412841797
          },
          {
           "lower": 0.46190929412841797,
           "timepoint_id": 422,
           "trajectory": "Rabbit Example",
           "upper": 0.46190929412841797
          },
          {
           "lower": 0.46190929412841797,
           "timepoint_id": 423,
           "trajectory": "Rabbit Example",
           "upper": 0.46190929412841797
          },
          {
           "lower": 0.46190929412841797,
           "timepoint_id": 424,
           "trajectory": "Rabbit Example",
           "upper": 0.46190929412841797
          },
          {
           "lower": 0.46190929412841797,
           "timepoint_id": 425,
           "trajectory": "Rabbit Example",
           "upper": 0.46190929412841797
          },
          {
           "lower": 0.46190929412841797,
           "timepoint_id": 426,
           "trajectory": "Rabbit Example",
           "upper": 0.46190929412841797
          },
          {
           "lower": 0.46190929412841797,
           "timepoint_id": 427,
           "trajectory": "Rabbit Example",
           "upper": 0.46190929412841797
          },
          {
           "lower": 0.46190929412841797,
           "timepoint_id": 428,
           "trajectory": "Rabbit Example",
           "upper": 0.46190929412841797
          },
          {
           "lower": 0.46190929412841797,
           "timepoint_id": 429,
           "trajectory": "Rabbit Example",
           "upper": 0.46190929412841797
          },
          {
           "lower": 0.46190929412841797,
           "timepoint_id": 430,
           "trajectory": "Rabbit Example",
           "upper": 0.46190929412841797
          },
          {
           "lower": 0.46190929412841797,
           "timepoint_id": 431,
           "trajectory": "Rabbit Example",
           "upper": 0.46190929412841797
          },
          {
           "lower": 0.46190929412841797,
           "timepoint_id": 432,
           "trajectory": "Rabbit Example",
           "upper": 0.46190929412841797
          },
          {
           "lower": 0.46190929412841797,
           "timepoint_id": 433,
           "trajectory": "Rabbit Example",
           "upper": 0.46190929412841797
          },
          {
           "lower": 0.46190929412841797,
           "timepoint_id": 434,
           "trajectory": "Rabbit Example",
           "upper": 0.46190929412841797
          },
          {
           "lower": 0.46190929412841797,
           "timepoint_id": 435,
           "trajectory": "Rabbit Example",
           "upper": 0.46190929412841797
          },
          {
           "lower": 0.46190929412841797,
           "timepoint_id": 436,
           "trajectory": "Rabbit Example",
           "upper": 0.46190929412841797
          },
          {
           "lower": 0.46190929412841797,
           "timepoint_id": 437,
           "trajectory": "Rabbit Example",
           "upper": 0.46190929412841797
          },
          {
           "lower": 0.46190929412841797,
           "timepoint_id": 438,
           "trajectory": "Rabbit Example",
           "upper": 0.46190929412841797
          },
          {
           "lower": 0.46190929412841797,
           "timepoint_id": 439,
           "trajectory": "Rabbit Example",
           "upper": 0.46190929412841797
          },
          {
           "lower": 0.46190929412841797,
           "timepoint_id": 440,
           "trajectory": "Rabbit Example",
           "upper": 0.46190929412841797
          },
          {
           "lower": 0.46190929412841797,
           "timepoint_id": 441,
           "trajectory": "Rabbit Example",
           "upper": 0.46190929412841797
          },
          {
           "lower": 0.46190929412841797,
           "timepoint_id": 442,
           "trajectory": "Rabbit Example",
           "upper": 0.46190929412841797
          },
          {
           "lower": 0.46190929412841797,
           "timepoint_id": 443,
           "trajectory": "Rabbit Example",
           "upper": 0.46190929412841797
          },
          {
           "lower": 0.46190929412841797,
           "timepoint_id": 444,
           "trajectory": "Rabbit Example",
           "upper": 0.46190929412841797
          },
          {
           "lower": 0.46190929412841797,
           "timepoint_id": 445,
           "trajectory": "Rabbit Example",
           "upper": 0.46190929412841797
          },
          {
           "lower": 0.46190929412841797,
           "timepoint_id": 446,
           "trajectory": "Rabbit Example",
           "upper": 0.46190929412841797
          },
          {
           "lower": 0.46190929412841797,
           "timepoint_id": 447,
           "trajectory": "Rabbit Example",
           "upper": 0.46190929412841797
          },
          {
           "lower": 0.46190929412841797,
           "timepoint_id": 448,
           "trajectory": "Rabbit Example",
           "upper": 0.46190929412841797
          },
          {
           "lower": 0.46190929412841797,
           "timepoint_id": 449,
           "trajectory": "Rabbit Example",
           "upper": 0.46190929412841797
          },
          {
           "lower": 0.46190929412841797,
           "timepoint_id": 450,
           "trajectory": "Rabbit Example",
           "upper": 0.46190929412841797
          },
          {
           "lower": 0.46190929412841797,
           "timepoint_id": 451,
           "trajectory": "Rabbit Example",
           "upper": 0.46190929412841797
          },
          {
           "lower": 0.46190929412841797,
           "timepoint_id": 452,
           "trajectory": "Rabbit Example",
           "upper": 0.46190929412841797
          },
          {
           "lower": 0.46190929412841797,
           "timepoint_id": 453,
           "trajectory": "Rabbit Example",
           "upper": 0.46190929412841797
          },
          {
           "lower": 0.46190929412841797,
           "timepoint_id": 454,
           "trajectory": "Rabbit Example",
           "upper": 0.46190929412841797
          },
          {
           "lower": 0.46190929412841797,
           "timepoint_id": 455,
           "trajectory": "Rabbit Example",
           "upper": 0.46190929412841797
          },
          {
           "lower": 0.46190929412841797,
           "timepoint_id": 456,
           "trajectory": "Rabbit Example",
           "upper": 0.46190929412841797
          },
          {
           "lower": 0.46190929412841797,
           "timepoint_id": 457,
           "trajectory": "Rabbit Example",
           "upper": 0.46190929412841797
          },
          {
           "lower": 0.46190929412841797,
           "timepoint_id": 458,
           "trajectory": "Rabbit Example",
           "upper": 0.46190929412841797
          },
          {
           "lower": 0.46190929412841797,
           "timepoint_id": 459,
           "trajectory": "Rabbit Example",
           "upper": 0.46190929412841797
          },
          {
           "lower": 0.46190929412841797,
           "timepoint_id": 460,
           "trajectory": "Rabbit Example",
           "upper": 0.46190929412841797
          },
          {
           "lower": 0.46190929412841797,
           "timepoint_id": 461,
           "trajectory": "Rabbit Example",
           "upper": 0.46190929412841797
          },
          {
           "lower": 0.46190929412841797,
           "timepoint_id": 462,
           "trajectory": "Rabbit Example",
           "upper": 0.46190929412841797
          },
          {
           "lower": 0.46190929412841797,
           "timepoint_id": 463,
           "trajectory": "Rabbit Example",
           "upper": 0.46190929412841797
          },
          {
           "lower": 0.46190929412841797,
           "timepoint_id": 464,
           "trajectory": "Rabbit Example",
           "upper": 0.46190929412841797
          },
          {
           "lower": 0.46190929412841797,
           "timepoint_id": 465,
           "trajectory": "Rabbit Example",
           "upper": 0.46190929412841797
          },
          {
           "lower": 0.46190929412841797,
           "timepoint_id": 466,
           "trajectory": "Rabbit Example",
           "upper": 0.46190929412841797
          },
          {
           "lower": 0.46190929412841797,
           "timepoint_id": 467,
           "trajectory": "Rabbit Example",
           "upper": 0.46190929412841797
          },
          {
           "lower": 0.46190929412841797,
           "timepoint_id": 468,
           "trajectory": "Rabbit Example",
           "upper": 0.46190929412841797
          },
          {
           "lower": 0.46190929412841797,
           "timepoint_id": 469,
           "trajectory": "Rabbit Example",
           "upper": 0.46190929412841797
          },
          {
           "lower": 0.46190929412841797,
           "timepoint_id": 470,
           "trajectory": "Rabbit Example",
           "upper": 0.46190929412841797
          },
          {
           "lower": 0.46190929412841797,
           "timepoint_id": 471,
           "trajectory": "Rabbit Example",
           "upper": 0.46190929412841797
          },
          {
           "lower": 0.46190929412841797,
           "timepoint_id": 472,
           "trajectory": "Rabbit Example",
           "upper": 0.46190929412841797
          },
          {
           "lower": 0.46190929412841797,
           "timepoint_id": 473,
           "trajectory": "Rabbit Example",
           "upper": 0.46190929412841797
          },
          {
           "lower": 0.46190929412841797,
           "timepoint_id": 474,
           "trajectory": "Rabbit Example",
           "upper": 0.46190929412841797
          },
          {
           "lower": 0.46190929412841797,
           "timepoint_id": 475,
           "trajectory": "Rabbit Example",
           "upper": 0.46190929412841797
          },
          {
           "lower": 0.46190929412841797,
           "timepoint_id": 476,
           "trajectory": "Rabbit Example",
           "upper": 0.46190929412841797
          },
          {
           "lower": 0.46190929412841797,
           "timepoint_id": 477,
           "trajectory": "Rabbit Example",
           "upper": 0.46190929412841797
          },
          {
           "lower": 0.46190929412841797,
           "timepoint_id": 478,
           "trajectory": "Rabbit Example",
           "upper": 0.46190929412841797
          },
          {
           "lower": 0.46190929412841797,
           "timepoint_id": 479,
           "trajectory": "Rabbit Example",
           "upper": 0.46190929412841797
          },
          {
           "lower": 0.46190929412841797,
           "timepoint_id": 480,
           "trajectory": "Rabbit Example",
           "upper": 0.46190929412841797
          },
          {
           "lower": 0.46190929412841797,
           "timepoint_id": 481,
           "trajectory": "Rabbit Example",
           "upper": 0.46190929412841797
          },
          {
           "lower": 0.46190929412841797,
           "timepoint_id": 482,
           "trajectory": "Rabbit Example",
           "upper": 0.46190929412841797
          },
          {
           "lower": 0.46190929412841797,
           "timepoint_id": 483,
           "trajectory": "Rabbit Example",
           "upper": 0.46190929412841797
          },
          {
           "lower": 0.46190929412841797,
           "timepoint_id": 484,
           "trajectory": "Rabbit Example",
           "upper": 0.46190929412841797
          },
          {
           "lower": 0.46190929412841797,
           "timepoint_id": 485,
           "trajectory": "Rabbit Example",
           "upper": 0.46190929412841797
          },
          {
           "lower": 0.46190929412841797,
           "timepoint_id": 486,
           "trajectory": "Rabbit Example",
           "upper": 0.46190929412841797
          },
          {
           "lower": 0.46190929412841797,
           "timepoint_id": 487,
           "trajectory": "Rabbit Example",
           "upper": 0.46190929412841797
          },
          {
           "lower": 0.46190929412841797,
           "timepoint_id": 488,
           "trajectory": "Rabbit Example",
           "upper": 0.46190929412841797
          },
          {
           "lower": 0.46190929412841797,
           "timepoint_id": 489,
           "trajectory": "Rabbit Example",
           "upper": 0.46190929412841797
          },
          {
           "lower": 0.46190929412841797,
           "timepoint_id": 490,
           "trajectory": "Rabbit Example",
           "upper": 0.46190929412841797
          },
          {
           "lower": 0.46190929412841797,
           "timepoint_id": 491,
           "trajectory": "Rabbit Example",
           "upper": 0.46190929412841797
          },
          {
           "lower": 0.46190929412841797,
           "timepoint_id": 492,
           "trajectory": "Rabbit Example",
           "upper": 0.46190929412841797
          },
          {
           "lower": 0.46190929412841797,
           "timepoint_id": 493,
           "trajectory": "Rabbit Example",
           "upper": 0.46190929412841797
          },
          {
           "lower": 0.46190929412841797,
           "timepoint_id": 494,
           "trajectory": "Rabbit Example",
           "upper": 0.46190929412841797
          },
          {
           "lower": 0.46190929412841797,
           "timepoint_id": 495,
           "trajectory": "Rabbit Example",
           "upper": 0.46190929412841797
          },
          {
           "lower": 0.46190929412841797,
           "timepoint_id": 496,
           "trajectory": "Rabbit Example",
           "upper": 0.46190929412841797
          },
          {
           "lower": 0.46190929412841797,
           "timepoint_id": 497,
           "trajectory": "Rabbit Example",
           "upper": 0.46190929412841797
          },
          {
           "lower": 0.46190929412841797,
           "timepoint_id": 498,
           "trajectory": "Rabbit Example",
           "upper": 0.46190929412841797
          },
          {
           "lower": 0.46190929412841797,
           "timepoint_id": 499,
           "trajectory": "Rabbit Example",
           "upper": 0.46190929412841797
          },
          {
           "lower": 0.5051243111491204,
           "timepoint_id": 0,
           "trajectory": "Rabbits",
           "upper": 0.6488389670848846
          },
          {
           "lower": 0.4810523107647896,
           "timepoint_id": 1,
           "trajectory": "Rabbits",
           "upper": 0.6317649573087692
          },
          {
           "lower": 0.4601885452866554,
           "timepoint_id": 2,
           "trajectory": "Rabbits",
           "upper": 0.6172279119491577
          },
          {
           "lower": 0.44223228096961975,
           "timepoint_id": 3,
           "trajectory": "Rabbits",
           "upper": 0.6050723165273666
          },
          {
           "lower": 0.4269068524241447,
           "timepoint_id": 4,
           "trajectory": "Rabbits",
           "upper": 0.5951532989740371
          },
          {
           "lower": 0.41377234309911726,
           "timepoint_id": 5,
           "trajectory": "Rabbits",
           "upper": 0.5873368799686431
          },
          {
           "lower": 0.40248590111732485,
           "timepoint_id": 6,
           "trajectory": "Rabbits",
           "upper": 0.5815026640892028
          },
          {
           "lower": 0.3931929439306259,
           "timepoint_id": 7,
           "trajectory": "Rabbits",
           "upper": 0.5775427132844925
          },
          {
           "lower": 0.3862742096185684,
           "timepoint_id": 8,
           "trajectory": "Rabbits",
           "upper": 0.5753624409437179
          },
          {
           "lower": 0.38118805140256884,
           "timepoint_id": 9,
           "trajectory": "Rabbits",
           "upper": 0.5757302582263947
          },
          {
           "lower": 0.3776500791311264,
           "timepoint_id": 10,
           "trajectory": "Rabbits",
           "upper": 0.5796148270368576
          },
          {
           "lower": 0.37555393427610395,
           "timepoint_id": 11,
           "trajectory": "Rabbits",
           "upper": 0.585342624783516
          },
          {
           "lower": 0.3748101145029068,
           "timepoint_id": 12,
           "trajectory": "Rabbits",
           "upper": 0.5931292980909347
          },
          {
           "lower": 0.3753451660275459,
           "timepoint_id": 13,
           "trajectory": "Rabbits",
           "upper": 0.6025383323431015
          },
          {
           "lower": 0.377096489071846,
           "timepoint_id": 14,
           "trajectory": "Rabbits",
           "upper": 0.6135480284690856
          },
          {
           "lower": 0.3800157144665718,
           "timepoint_id": 15,
           "trajectory": "Rabbits",
           "upper": 0.6261454164981841
          },
          {
           "lower": 0.3840783342719078,
           "timepoint_id": 16,
           "trajectory": "Rabbits",
           "upper": 0.6403272837400436
          },
          {
           "lower": 0.3895245581865311,
           "timepoint_id": 17,
           "trajectory": "Rabbits",
           "upper": 0.6560939222574232
          },
          {
           "lower": 0.39607561081647874,
           "timepoint_id": 18,
           "trajectory": "Rabbits",
           "upper": 0.6737348735332488
          },
          {
           "lower": 0.4037196129560471,
           "timepoint_id": 19,
           "trajectory": "Rabbits",
           "upper": 0.6940728366374967
          },
          {
           "lower": 0.41245175153017044,
           "timepoint_id": 20,
           "trajectory": "Rabbits",
           "upper": 0.7161092609167097
          },
          {
           "lower": 0.4222735777497292,
           "timepoint_id": 21,
           "trajectory": "Rabbits",
           "upper": 0.7398648440837858
          },
          {
           "lower": 0.43319143205881117,
           "timepoint_id": 22,
           "trajectory": "Rabbits",
           "upper": 0.7646123915910719
          },
          {
           "lower": 0.4452171564102173,
           "timepoint_id": 23,
           "trajectory": "Rabbits",
           "upper": 0.7892877429723737
          },
          {
           "lower": 0.4569105193018913,
           "timepoint_id": 24,
           "trajectory": "Rabbits",
           "upper": 0.815542286634445
          },
          {
           "lower": 0.4695918634533882,
           "timepoint_id": 25,
           "trajectory": "Rabbits",
           "upper": 0.8433761298656461
          },
          {
           "lower": 0.483332422375679,
           "timepoint_id": 26,
           "trajectory": "Rabbits",
           "upper": 0.8727851301431654
          },
          {
           "lower": 0.4981502011418343,
           "timepoint_id": 27,
           "trajectory": "Rabbits",
           "upper": 0.9037574321031568
          },
          {
           "lower": 0.5140681594610215,
           "timepoint_id": 28,
           "trajectory": "Rabbits",
           "upper": 0.9362738102674482
          },
          {
           "lower": 0.5311100453138351,
           "timepoint_id": 29,
           "trajectory": "Rabbits",
           "upper": 0.970302867889404
          },
          {
           "lower": 0.5493017822504044,
           "timepoint_id": 30,
           "trajectory": "Rabbits",
           "upper": 1.0058008164167402
          },
          {
           "lower": 0.5684487670660019,
           "timepoint_id": 31,
           "trajectory": "Rabbits",
           "upper": 1.0427060514688489
          },
          {
           "lower": 0.5885705500841141,
           "timepoint_id": 32,
           "trajectory": "Rabbits",
           "upper": 1.0809359312057492
          },
          {
           "lower": 0.6098981499671936,
           "timepoint_id": 33,
           "trajectory": "Rabbits",
           "upper": 1.1203878223896024
          },
          {
           "lower": 0.6324594795703888,
           "timepoint_id": 34,
           "trajectory": "Rabbits",
           "upper": 1.1609291970729825
          },
          {
           "lower": 0.6562829375267029,
           "timepoint_id": 35,
           "trajectory": "Rabbits",
           "upper": 1.2023967802524564
          },
          {
           "lower": 0.6823425441980362,
           "timepoint_id": 36,
           "trajectory": "Rabbits",
           "upper": 1.244588083028793
          },
          {
           "lower": 0.7107869565486908,
           "timepoint_id": 37,
           "trajectory": "Rabbits",
           "upper": 1.2872623503208158
          },
          {
           "lower": 0.7407032549381256,
           "timepoint_id": 38,
           "trajectory": "Rabbits",
           "upper": 1.3301270723342893
          },
          {
           "lower": 0.7721204370260238,
           "timepoint_id": 39,
           "trajectory": "Rabbits",
           "upper": 1.3728431224822994
          },
          {
           "lower": 0.805060988664627,
           "timepoint_id": 40,
           "trajectory": "Rabbits",
           "upper": 1.4171339631080624
          },
          {
           "lower": 0.8395456910133362,
           "timepoint_id": 41,
           "trajectory": "Rabbits",
           "upper": 1.4623533129692075
          },
          {
           "lower": 0.8755844682455063,
           "timepoint_id": 42,
           "trajectory": "Rabbits",
           "upper": 1.5069728612899778
          },
          {
           "lower": 0.9131788015365601,
           "timepoint_id": 43,
           "trajectory": "Rabbits",
           "upper": 1.5505466878414154
          },
          {
           "lower": 0.9523179590702057,
           "timepoint_id": 44,
           "trajectory": "Rabbits",
           "upper": 1.5925707936286926
          },
          {
           "lower": 0.9904650866985321,
           "timepoint_id": 45,
           "trajectory": "Rabbits",
           "upper": 1.6349843382835387
          },
          {
           "lower": 1.0290996789932252,
           "timepoint_id": 46,
           "trajectory": "Rabbits",
           "upper": 1.6903327703475952
          },
          {
           "lower": 1.068894773721695,
           "timepoint_id": 47,
           "trajectory": "Rabbits",
           "upper": 1.7450684905052185
          },
          {
           "lower": 1.1097592115402222,
           "timepoint_id": 48,
           "trajectory": "Rabbits",
           "upper": 1.7986104249954225
          },
          {
           "lower": 1.151575994491577,
           "timepoint_id": 49,
           "trajectory": "Rabbits",
           "upper": 1.850271362066269
          },
          {
           "lower": 1.1941976070404052,
           "timepoint_id": 50,
           "trajectory": "Rabbits",
           "upper": 1.899582540988922
          },
          {
           "lower": 1.23744078874588,
           "timepoint_id": 51,
           "trajectory": "Rabbits",
           "upper": 1.943354856967926
          },
          {
           "lower": 1.2810803174972534,
           "timepoint_id": 52,
           "trajectory": "Rabbits",
           "upper": 1.9746112644672393
          },
          {
           "lower": 1.3245567440986634,
           "timepoint_id": 53,
           "trajectory": "Rabbits",
           "upper": 2.006672477722168
          },
          {
           "lower": 1.3671102821826935,
           "timepoint_id": 54,
           "trajectory": "Rabbits",
           "upper": 2.0283280491828917
          },
          {
           "lower": 1.408983862400055,
           "timepoint_id": 55,
           "trajectory": "Rabbits",
           "upper": 2.01531400680542
          },
          {
           "lower": 1.4367581963539124,
           "timepoint_id": 56,
           "trajectory": "Rabbits",
           "upper": 2.0211418747901915
          },
          {
           "lower": 1.4506515979766845,
           "timepoint_id": 57,
           "trajectory": "Rabbits",
           "upper": 2.015464460849762
          },
          {
           "lower": 1.4284321010112762,
           "timepoint_id": 58,
           "trajectory": "Rabbits",
           "upper": 1.9974848330020905
          },
          {
           "lower": 1.4066657185554505,
           "timepoint_id": 59,
           "trajectory": "Rabbits",
           "upper": 1.9946840226650238
          },
          {
           "lower": 1.3370188474655151,
           "timepoint_id": 60,
           "trajectory": "Rabbits",
           "upper": 1.973221319913864
          },
          {
           "lower": 1.268656712770462,
           "timepoint_id": 61,
           "trajectory": "Rabbits",
           "upper": 1.946996235847473
          },
          {
           "lower": 1.2056418180465698,
           "timepoint_id": 62,
           "trajectory": "Rabbits",
           "upper": 1.926825213432312
          },
          {
           "lower": 1.1426748096942902,
           "timepoint_id": 63,
           "trajectory": "Rabbits",
           "upper": 1.8917805612087248
          },
          {
           "lower": 1.0809118807315827,
           "timepoint_id": 64,
           "trajectory": "Rabbits",
           "upper": 1.873773556947708
          },
          {
           "lower": 1.021326494216919,
           "timepoint_id": 65,
           "trajectory": "Rabbits",
           "upper": 1.838645803928375
          },
          {
           "lower": 0.9646812707185746,
           "timepoint_id": 66,
           "trajectory": "Rabbits",
           "upper": 1.7861752212047575
          },
          {
           "lower": 0.9115411072969437,
           "timepoint_id": 67,
           "trajectory": "Rabbits",
           "upper": 1.7476635694503784
          },
          {
           "lower": 0.8622704237699509,
           "timepoint_id": 68,
           "trajectory": "Rabbits",
           "upper": 1.7020660996437074
          },
          {
           "lower": 0.8200316578149796,
           "timepoint_id": 69,
           "trajectory": "Rabbits",
           "upper": 1.650298374891281
          },
          {
           "lower": 0.7819973856210709,
           "timepoint_id": 70,
           "trajectory": "Rabbits",
           "upper": 1.6116529524326324
          },
          {
           "lower": 0.7480799227952957,
           "timepoint_id": 71,
           "trajectory": "Rabbits",
           "upper": 1.563731038570404
          },
          {
           "lower": 0.7194193333387375,
           "timepoint_id": 72,
           "trajectory": "Rabbits",
           "upper": 1.5072274923324585
          },
          {
           "lower": 0.6914891541004181,
           "timepoint_id": 73,
           "trajectory": "Rabbits",
           "upper": 1.4292892456054687
          },
          {
           "lower": 0.6670606106519699,
           "timepoint_id": 74,
           "trajectory": "Rabbits",
           "upper": 1.3471659898757935
          },
          {
           "lower": 0.641142001748085,
           "timepoint_id": 75,
           "trajectory": "Rabbits",
           "upper": 1.2633545577526093
          },
          {
           "lower": 0.6135189205408096,
           "timepoint_id": 76,
           "trajectory": "Rabbits",
           "upper": 1.1872593283653259
          },
          {
           "lower": 0.5919944554567337,
           "timepoint_id": 77,
           "trajectory": "Rabbits",
           "upper": 1.1166882276535033
          },
          {
           "lower": 0.571210527420044,
           "timepoint_id": 78,
           "trajectory": "Rabbits",
           "upper": 1.0470829546451568
          },
          {
           "lower": 0.5549307703971863,
           "timepoint_id": 79,
           "trajectory": "Rabbits",
           "upper": 0.9762333691120146
          },
          {
           "lower": 0.5424787819385528,
           "timepoint_id": 80,
           "trajectory": "Rabbits",
           "upper": 0.9051215559244155
          },
          {
           "lower": 0.5280335992574692,
           "timepoint_id": 81,
           "trajectory": "Rabbits",
           "upper": 0.8438710719346999
          },
          {
           "lower": 0.5136239737272262,
           "timepoint_id": 82,
           "trajectory": "Rabbits",
           "upper": 0.7899392932653426
          },
          {
           "lower": 0.5010840415954589,
           "timepoint_id": 83,
           "trajectory": "Rabbits",
           "upper": 0.741310104727745
          },
          {
           "lower": 0.4843059152364731,
           "timepoint_id": 84,
           "trajectory": "Rabbits",
           "upper": 0.6987793892621994
          },
          {
           "lower": 0.46948242634534837,
           "timepoint_id": 85,
           "trajectory": "Rabbits",
           "upper": 0.6654698103666306
          },
          {
           "lower": 0.456996813416481,
           "timepoint_id": 86,
           "trajectory": "Rabbits",
           "upper": 0.6317428410053253
          },
          {
           "lower": 0.44688632488250735,
           "timepoint_id": 87,
           "trajectory": "Rabbits",
           "upper": 0.6195917665958404
          },
          {
           "lower": 0.4393170580267906,
           "timepoint_id": 88,
           "trajectory": "Rabbits",
           "upper": 0.5936942964792251
          },
          {
           "lower": 0.43049156963825225,
           "timepoint_id": 89,
           "trajectory": "Rabbits",
           "upper": 0.5928875982761382
          },
          {
           "lower": 0.42122622579336166,
           "timepoint_id": 90,
           "trajectory": "Rabbits",
           "upper": 0.604402607679367
          },
          {
           "lower": 0.4145303204655647,
           "timepoint_id": 91,
           "trajectory": "Rabbits",
           "upper": 0.6175673276185989
          },
          {
           "lower": 0.409544937312603,
           "timepoint_id": 92,
           "trajectory": "Rabbits",
           "upper": 0.6323772072792053
          },
          {
           "lower": 0.4043998926877975,
           "timepoint_id": 93,
           "trajectory": "Rabbits",
           "upper": 0.648832431435585
          },
          {
           "lower": 0.39657222479581833,
           "timepoint_id": 94,
           "trajectory": "Rabbits",
           "upper": 0.6669412821531295
          },
          {
           "lower": 0.3914209812879562,
           "timepoint_id": 95,
           "trajectory": "Rabbits",
           "upper": 0.6867181420326233
          },
          {
           "lower": 0.38856773972511294,
           "timepoint_id": 96,
           "trajectory": "Rabbits",
           "upper": 0.7081786185503005
          },
          {
           "lower": 0.3846037968993187,
           "timepoint_id": 97,
           "trajectory": "Rabbits",
           "upper": 0.7313447654247283
          },
          {
           "lower": 0.38213504999876025,
           "timepoint_id": 98,
           "trajectory": "Rabbits",
           "upper": 0.7562388241291045
          },
          {
           "lower": 0.3810760900378227,
           "timepoint_id": 99,
           "trajectory": "Rabbits",
           "upper": 0.7828852593898772
          },
          {
           "lower": 0.38122865110635756,
           "timepoint_id": 100,
           "trajectory": "Rabbits",
           "upper": 0.8113089025020598
          },
          {
           "lower": 0.38336937576532365,
           "timepoint_id": 101,
           "trajectory": "Rabbits",
           "upper": 0.8415317207574843
          },
          {
           "lower": 0.3866841092705727,
           "timepoint_id": 102,
           "trajectory": "Rabbits",
           "upper": 0.8735748052597044
          },
          {
           "lower": 0.3911342531442642,
           "timepoint_id": 103,
           "trajectory": "Rabbits",
           "upper": 0.9074536323547362
          },
          {
           "lower": 0.39669124931097033,
           "timepoint_id": 104,
           "trajectory": "Rabbits",
           "upper": 0.9431790947914122
          },
          {
           "lower": 0.40181774348020555,
           "timepoint_id": 105,
           "trajectory": "Rabbits",
           "upper": 0.9807507842779157
          },
          {
           "lower": 0.407728835940361,
           "timepoint_id": 106,
           "trajectory": "Rabbits",
           "upper": 1.0201601594686507
          },
          {
           "lower": 0.4146845549345016,
           "timepoint_id": 107,
           "trajectory": "Rabbits",
           "upper": 1.0613841593265532
          },
          {
           "lower": 0.42267623692750933,
           "timepoint_id": 108,
           "trajectory": "Rabbits",
           "upper": 1.1043815016746519
          },
          {
           "lower": 0.4317007020115852,
           "timepoint_id": 109,
           "trajectory": "Rabbits",
           "upper": 1.1490903258323666
          },
          {
           "lower": 0.4413680672645569,
           "timepoint_id": 110,
           "trajectory": "Rabbits",
           "upper": 1.195424300432205
          },
          {
           "lower": 0.4518758445978165,
           "timepoint_id": 111,
           "trajectory": "Rabbits",
           "upper": 1.2405022025108334
          },
          {
           "lower": 0.4634175285696983,
           "timepoint_id": 112,
           "trajectory": "Rabbits",
           "upper": 1.2830369472503658
          },
          {
           "lower": 0.476004995405674,
           "timepoint_id": 113,
           "trajectory": "Rabbits",
           "upper": 1.3257771432399745
          },
          {
           "lower": 0.48965266942977903,
           "timepoint_id": 114,
           "trajectory": "Rabbits",
           "upper": 1.368388450145721
          },
          {
           "lower": 0.5043785005807877,
           "timepoint_id": 115,
           "trajectory": "Rabbits",
           "upper": 1.4104705750942226
          },
          {
           "lower": 0.5202018976211548,
           "timepoint_id": 116,
           "trajectory": "Rabbits",
           "upper": 1.4515727937221523
          },
          {
           "lower": 0.5371453166007996,
           "timepoint_id": 117,
           "trajectory": "Rabbits",
           "upper": 1.491175544261932
          },
          {
           "lower": 0.5552328586578369,
           "timepoint_id": 118,
           "trajectory": "Rabbits",
           "upper": 1.5286987662315366
          },
          {
           "lower": 0.5746016263961792,
           "timepoint_id": 119,
           "trajectory": "Rabbits",
           "upper": 1.5635028123855588
          },
          {
           "lower": 0.5970102906227112,
           "timepoint_id": 120,
           "trajectory": "Rabbits",
           "upper": 1.5948892235755918
          },
          {
           "lower": 0.6207388818264008,
           "timepoint_id": 121,
           "trajectory": "Rabbits",
           "upper": 1.6221232175827025
          },
          {
           "lower": 0.6453634649515152,
           "timepoint_id": 122,
           "trajectory": "Rabbits",
           "upper": 1.644442594051361
          },
          {
           "lower": 0.6708035081624985,
           "timepoint_id": 123,
           "trajectory": "Rabbits",
           "upper": 1.6610858678817748
          },
          {
           "lower": 0.6968708425760269,
           "timepoint_id": 124,
           "trajectory": "Rabbits",
           "upper": 1.6713273644447326
          },
          {
           "lower": 0.7234418570995331,
           "timepoint_id": 125,
           "trajectory": "Rabbits",
           "upper": 1.6745122253894806
          },
          {
           "lower": 0.7513154923915863,
           "timepoint_id": 126,
           "trajectory": "Rabbits",
           "upper": 1.6727754712104796
          },
          {
           "lower": 0.78050856590271,
           "timepoint_id": 127,
           "trajectory": "Rabbits",
           "upper": 1.716128623485565
          },
          {
           "lower": 0.8110340058803559,
           "timepoint_id": 128,
           "trajectory": "Rabbits",
           "upper": 1.7695979833602904
          },
          {
           "lower": 0.842897766828537,
           "timepoint_id": 129,
           "trajectory": "Rabbits",
           "upper": 1.8139043271541595
          },
          {
           "lower": 0.8761000365018845,
           "timepoint_id": 130,
           "trajectory": "Rabbits",
           "upper": 1.8211844146251677
          },
          {
           "lower": 0.9106319785118103,
           "timepoint_id": 131,
           "trajectory": "Rabbits",
           "upper": 1.8637800216674802
          },
          {
           "lower": 0.9464745968580246,
           "timepoint_id": 132,
           "trajectory": "Rabbits",
           "upper": 1.8995178580284118
          },
          {
           "lower": 0.9835943669080734,
           "timepoint_id": 133,
           "trajectory": "Rabbits",
           "upper": 1.912487632036209
          },
          {
           "lower": 1.0219449251890182,
           "timepoint_id": 134,
           "trajectory": "Rabbits",
           "upper": 1.9452049076557159
          },
          {
           "lower": 1.0614603579044342,
           "timepoint_id": 135,
           "trajectory": "Rabbits",
           "upper": 1.9617474615573882
          },
          {
           "lower": 1.1020531356334686,
           "timepoint_id": 136,
           "trajectory": "Rabbits",
           "upper": 1.9881222665309906
          },
          {
           "lower": 1.1269083678722382,
           "timepoint_id": 137,
           "trajectory": "Rabbits",
           "upper": 2.0061532855033875
          },
          {
           "lower": 1.1055106699466706,
           "timepoint_id": 138,
           "trajectory": "Rabbits",
           "upper": 2.0061437666416166
          },
          {
           "lower": 1.0808826684951782,
           "timepoint_id": 139,
           "trajectory": "Rabbits",
           "upper": 1.9949356257915496
          },
          {
           "lower": 1.0539768517017365,
           "timepoint_id": 140,
           "trajectory": "Rabbits",
           "upper": 1.987330251932144
          },
          {
           "lower": 0.9956606686115265,
           "timepoint_id": 141,
           "trajectory": "Rabbits",
           "upper": 1.977737545967102
          },
          {
           "lower": 0.9405529707670212,
           "timepoint_id": 142,
           "trajectory": "Rabbits",
           "upper": 1.9775248050689695
          },
          {
           "lower": 0.8891286879777909,
           "timepoint_id": 143,
           "trajectory": "Rabbits",
           "upper": 1.9683462738990782
          },
          {
           "lower": 0.8416773855686188,
           "timepoint_id": 144,
           "trajectory": "Rabbits",
           "upper": 1.9223632514476774
          },
          {
           "lower": 0.7987896740436554,
           "timepoint_id": 145,
           "trajectory": "Rabbits",
           "upper": 1.9055021107196808
          },
          {
           "lower": 0.7641114115715026,
           "timepoint_id": 146,
           "trajectory": "Rabbits",
           "upper": 1.8573774456977843
          },
          {
           "lower": 0.7325069457292557,
           "timepoint_id": 147,
           "trajectory": "Rabbits",
           "upper": 1.838408941030502
          },
          {
           "lower": 0.7046769589185715,
           "timepoint_id": 148,
           "trajectory": "Rabbits",
           "upper": 1.8566193163394926
          },
          {
           "lower": 0.6805095404386521,
           "timepoint_id": 149,
           "trajectory": "Rabbits",
           "upper": 1.8516739666461943
          },
          {
           "lower": 0.6646953701972962,
           "timepoint_id": 150,
           "trajectory": "Rabbits",
           "upper": 1.8386036038398743
          },
          {
           "lower": 0.6481923609972,
           "timepoint_id": 151,
           "trajectory": "Rabbits",
           "upper": 1.8343990445137024
          },
          {
           "lower": 0.6312552928924561,
           "timepoint_id": 152,
           "trajectory": "Rabbits",
           "upper": 1.8231343924999235
          },
          {
           "lower": 0.6174396783113479,
           "timepoint_id": 153,
           "trajectory": "Rabbits",
           "upper": 1.796340215206146
          },
          {
           "lower": 0.6048211842775345,
           "timepoint_id": 154,
           "trajectory": "Rabbits",
           "upper": 1.7632344782352447
          },
          {
           "lower": 0.5861428260803223,
           "timepoint_id": 155,
           "trajectory": "Rabbits",
           "upper": 1.7273318111896514
          },
          {
           "lower": 0.5645932614803314,
           "timepoint_id": 156,
           "trajectory": "Rabbits",
           "upper": 1.6872319936752318
          },
          {
           "lower": 0.5531397134065628,
           "timepoint_id": 157,
           "trajectory": "Rabbits",
           "upper": 1.6694511115550994
          },
          {
           "lower": 0.5454001277685165,
           "timepoint_id": 158,
           "trajectory": "Rabbits",
           "upper": 1.6414436995983124
          },
          {
           "lower": 0.5345095366239547,
           "timepoint_id": 159,
           "trajectory": "Rabbits",
           "upper": 1.6056683242321013
          },
          {
           "lower": 0.5248127788305282,
           "timepoint_id": 160,
           "trajectory": "Rabbits",
           "upper": 1.5370599269866942
          },
          {
           "lower": 0.5188495635986328,
           "timepoint_id": 161,
           "trajectory": "Rabbits",
           "upper": 1.4614464104175569
          },
          {
           "lower": 0.5141069158911705,
           "timepoint_id": 162,
           "trajectory": "Rabbits",
           "upper": 1.3810622274875641
          },
          {
           "lower": 0.5036842778325081,
           "timepoint_id": 163,
           "trajectory": "Rabbits",
           "upper": 1.3148657023906707
          },
          {
           "lower": 0.4955750972032547,
           "timepoint_id": 164,
           "trajectory": "Rabbits",
           "upper": 1.2469740509986875
          },
          {
           "lower": 0.486618934571743,
           "timepoint_id": 165,
           "trajectory": "Rabbits",
           "upper": 1.1773756980895993
          },
          {
           "lower": 0.4762810945510864,
           "timepoint_id": 166,
           "trajectory": "Rabbits",
           "upper": 1.1075618743896483
          },
          {
           "lower": 0.4718186900019646,
           "timepoint_id": 167,
           "trajectory": "Rabbits",
           "upper": 1.0388622075319287
          },
          {
           "lower": 0.4622297614812851,
           "timepoint_id": 168,
           "trajectory": "Rabbits",
           "upper": 0.9670342475175854
          },
          {
           "lower": 0.4485212951898575,
           "timepoint_id": 169,
           "trajectory": "Rabbits",
           "upper": 0.8990428447723385
          },
          {
           "lower": 0.44212027490139005,
           "timepoint_id": 170,
           "trajectory": "Rabbits",
           "upper": 0.8747189581394195
          },
          {
           "lower": 0.44298544377088545,
           "timepoint_id": 171,
           "trajectory": "Rabbits",
           "upper": 0.8403298556804656
          },
          {
           "lower": 0.4412238642573357,
           "timepoint_id": 172,
           "trajectory": "Rabbits",
           "upper": 0.8073499917984008
          },
          {
           "lower": 0.4404029667377472,
           "timepoint_id": 173,
           "trajectory": "Rabbits",
           "upper": 0.756241524219513
          },
          {
           "lower": 0.4368326559662819,
           "timepoint_id": 174,
           "trajectory": "Rabbits",
           "upper": 0.748366367816925
          },
          {
           "lower": 0.42849123030900954,
           "timepoint_id": 175,
           "trajectory": "Rabbits",
           "upper": 0.7742634236812591
          },
          {
           "lower": 0.41640654951334,
           "timepoint_id": 176,
           "trajectory": "Rabbits",
           "upper": 0.8020657032728196
          },
          {
           "lower": 0.4095948994159698,
           "timepoint_id": 177,
           "trajectory": "Rabbits",
           "upper": 0.8316493302583694
          },
          {
           "lower": 0.4073739260435104,
           "timepoint_id": 178,
           "trajectory": "Rabbits",
           "upper": 0.8630342334508896
          },
          {
           "lower": 0.4066722258925438,
           "timepoint_id": 179,
           "trajectory": "Rabbits",
           "upper": 0.8962369143962859
          },
          {
           "lower": 0.4074068084359169,
           "timepoint_id": 180,
           "trajectory": "Rabbits",
           "upper": 0.931265839934349
          },
          {
           "lower": 0.40268880128860474,
           "timepoint_id": 181,
           "trajectory": "Rabbits",
           "upper": 0.9681242197751998
          },
          {
           "lower": 0.399829663336277,
           "timepoint_id": 182,
           "trajectory": "Rabbits",
           "upper": 1.006803148984909
          },
          {
           "lower": 0.40095287263393403,
           "timepoint_id": 183,
           "trajectory": "Rabbits",
           "upper": 1.047283226251602
          },
          {
           "lower": 0.4031273275613785,
           "timepoint_id": 184,
           "trajectory": "Rabbits",
           "upper": 1.0895249366760253
          },
          {
           "lower": 0.3990011066198349,
           "timepoint_id": 185,
           "trajectory": "Rabbits",
           "upper": 1.1334718346595762
          },
          {
           "lower": 0.39364364594221113,
           "timepoint_id": 186,
           "trajectory": "Rabbits",
           "upper": 1.1790435075759886
          },
          {
           "lower": 0.38806077688932417,
           "timepoint_id": 187,
           "trajectory": "Rabbits",
           "upper": 1.2261301219463348
          },
          {
           "lower": 0.38450371026992797,
           "timepoint_id": 188,
           "trajectory": "Rabbits",
           "upper": 1.2745866119861602
          },
          {
           "lower": 0.3875089153647423,
           "timepoint_id": 189,
           "trajectory": "Rabbits",
           "upper": 1.3242292463779448
          },
          {
           "lower": 0.39167160391807554,
           "timepoint_id": 190,
           "trajectory": "Rabbits",
           "upper": 1.374829018115997
          },
          {
           "lower": 0.3969603732228279,
           "timepoint_id": 191,
           "trajectory": "Rabbits",
           "upper": 1.426099723577499
          },
          {
           "lower": 0.4033517211675644,
           "timepoint_id": 192,
           "trajectory": "Rabbits",
           "upper": 1.4776994168758388
          },
          {
           "lower": 0.4093814805150032,
           "timepoint_id": 193,
           "trajectory": "Rabbits",
           "upper": 1.5238482177257533
          },
          {
           "lower": 0.415441007912159,
           "timepoint_id": 194,
           "trajectory": "Rabbits",
           "upper": 1.5586489498615261
          },
          {
           "lower": 0.4219281882047653,
           "timepoint_id": 195,
           "trajectory": "Rabbits",
           "upper": 1.590088194608688
          },
          {
           "lower": 0.4287471905350685,
           "timepoint_id": 196,
           "trajectory": "Rabbits",
           "upper": 1.6174417972564694
          },
          {
           "lower": 0.4356454789638519,
           "timepoint_id": 197,
           "trajectory": "Rabbits",
           "upper": 1.639961630105972
          },
          {
           "lower": 0.4435746371746063,
           "timepoint_id": 198,
           "trajectory": "Rabbits",
           "upper": 1.656901055574417
          },
          {
           "lower": 0.4525284916162491,
           "timepoint_id": 199,
           "trajectory": "Rabbits",
           "upper": 1.6675437271595
          },
          {
           "lower": 0.4625064104795456,
           "timepoint_id": 200,
           "trajectory": "Rabbits",
           "upper": 1.6712466537952422
          },
          {
           "lower": 0.4735117956995964,
           "timepoint_id": 201,
           "trajectory": "Rabbits",
           "upper": 1.6674805879592896
          },
          {
           "lower": 0.485551755130291,
           "timepoint_id": 202,
           "trajectory": "Rabbits",
           "upper": 1.6580154597759247
          },
          {
           "lower": 0.49863721430301666,
           "timepoint_id": 203,
           "trajectory": "Rabbits",
           "upper": 1.6465700745582579
          },
          {
           "lower": 0.51282719373703,
           "timepoint_id": 204,
           "trajectory": "Rabbits",
           "upper": 1.6579146325588225
          },
          {
           "lower": 0.5302152931690216,
           "timepoint_id": 205,
           "trajectory": "Rabbits",
           "upper": 1.681108945608139
          },
          {
           "lower": 0.548772668838501,
           "timepoint_id": 206,
           "trajectory": "Rabbits",
           "upper": 1.7017919838428497
          },
          {
           "lower": 0.5685295164585114,
           "timepoint_id": 207,
           "trajectory": "Rabbits",
           "upper": 1.7162834405899046
          },
          {
           "lower": 0.5895175069570542,
           "timepoint_id": 208,
           "trajectory": "Rabbits",
           "upper": 1.750265085697174
          },
          {
           "lower": 0.6117695927619934,
           "timepoint_id": 209,
           "trajectory": "Rabbits",
           "upper": 1.7796592116355896
          },
          {
           "lower": 0.6353199332952499,
           "timepoint_id": 210,
           "trajectory": "Rabbits",
           "upper": 1.8073849022388457
          },
          {
           "lower": 0.6602031528949738,
           "timepoint_id": 211,
           "trajectory": "Rabbits",
           "upper": 1.8098789393901824
          },
          {
           "lower": 0.6864525496959687,
           "timepoint_id": 212,
           "trajectory": "Rabbits",
           "upper": 1.7979984700679776
          },
          {
           "lower": 0.7141019701957703,
           "timepoint_id": 213,
           "trajectory": "Rabbits",
           "upper": 1.8413004696369168
          },
          {
           "lower": 0.7431831270456314,
           "timepoint_id": 214,
           "trajectory": "Rabbits",
           "upper": 1.8793084323406217
          },
          {
           "lower": 0.7737266510725022,
           "timepoint_id": 215,
           "trajectory": "Rabbits",
           "upper": 1.9107930481433866
          },
          {
           "lower": 0.8055409729480744,
           "timepoint_id": 216,
           "trajectory": "Rabbits",
           "upper": 1.9169816553592682
          },
          {
           "lower": 0.8251921176910401,
           "timepoint_id": 217,
           "trajectory": "Rabbits",
           "upper": 1.9464172065258025
          },
          {
           "lower": 0.8253151297569274,
           "timepoint_id": 218,
           "trajectory": "Rabbits",
           "upper": 1.9703969955444336
          },
          {
           "lower": 0.8099280536174774,
           "timepoint_id": 219,
           "trajectory": "Rabbits",
           "upper": 1.9839801490306854
          },
          {
           "lower": 0.8038699805736542,
           "timepoint_id": 220,
           "trajectory": "Rabbits",
           "upper": 1.988193392753601
          },
          {
           "lower": 0.7710606127977371,
           "timepoint_id": 221,
           "trajectory": "Rabbits",
           "upper": 1.9942415654659271
          },
          {
           "lower": 0.7470197588205337,
           "timepoint_id": 222,
           "trajectory": "Rabbits",
           "upper": 1.9898629844188689
          },
          {
           "lower": 0.7182540386915207,
           "timepoint_id": 223,
           "trajectory": "Rabbits",
           "upper": 1.9742455959320067
          },
          {
           "lower": 0.6924134820699692,
           "timepoint_id": 224,
           "trajectory": "Rabbits",
           "upper": 1.9520539820194243
          },
          {
           "lower": 0.6701061934232712,
           "timepoint_id": 225,
           "trajectory": "Rabbits",
           "upper": 1.951135867834091
          },
          {
           "lower": 0.6516568928956985,
           "timepoint_id": 226,
           "trajectory": "Rabbits",
           "upper": 1.945321691036224
          },
          {
           "lower": 0.641685864329338,
           "timepoint_id": 227,
           "trajectory": "Rabbits",
           "upper": 1.9135046660900112
          },
          {
           "lower": 0.6342681467533111,
           "timepoint_id": 228,
           "trajectory": "Rabbits",
           "upper": 1.8663897991180416
          },
          {
           "lower": 0.6220158934593201,
           "timepoint_id": 229,
           "trajectory": "Rabbits",
           "upper": 1.8201657950878143
          },
          {
           "lower": 0.6110246002674102,
           "timepoint_id": 230,
           "trajectory": "Rabbits",
           "upper": 1.7957899630069734
          },
          {
           "lower": 0.6024056732654571,
           "timepoint_id": 231,
           "trajectory": "Rabbits",
           "upper": 1.7897957324981688
          },
          {
           "lower": 0.5948467195034027,
           "timepoint_id": 232,
           "trajectory": "Rabbits",
           "upper": 1.80155633687973
          },
          {
           "lower": 0.5786105751991272,
           "timepoint_id": 233,
           "trajectory": "Rabbits",
           "upper": 1.8087110340595243
          },
          {
           "lower": 0.5645324528217316,
           "timepoint_id": 234,
           "trajectory": "Rabbits",
           "upper": 1.7801218628883362
          },
          {
           "lower": 0.5540674448013305,
           "timepoint_id": 235,
           "trajectory": "Rabbits",
           "upper": 1.7751892149448394
          },
          {
           "lower": 0.5473203241825104,
           "timepoint_id": 236,
           "trajectory": "Rabbits",
           "upper": 1.8003147721290587
          },
          {
           "lower": 0.5480239897966385,
           "timepoint_id": 237,
           "trajectory": "Rabbits",
           "upper": 1.8223768889904022
          },
          {
           "lower": 0.54021315574646,
           "timepoint_id": 238,
           "trajectory": "Rabbits",
           "upper": 1.8227047383785249
          },
          {
           "lower": 0.5324098408222199,
           "timepoint_id": 239,
           "trajectory": "Rabbits",
           "upper": 1.8212045967578887
          },
          {
           "lower": 0.5270693153142929,
           "timepoint_id": 240,
           "trajectory": "Rabbits",
           "upper": 1.8120733976364134
          },
          {
           "lower": 0.52107774913311,
           "timepoint_id": 241,
           "trajectory": "Rabbits",
           "upper": 1.7703063786029813
          },
          {
           "lower": 0.5165954396128655,
           "timepoint_id": 242,
           "trajectory": "Rabbits",
           "upper": 1.7401071548461913
          },
          {
           "lower": 0.5104622498154641,
           "timepoint_id": 243,
           "trajectory": "Rabbits",
           "upper": 1.7071489214897153
          },
          {
           "lower": 0.5042807430028915,
           "timepoint_id": 244,
           "trajectory": "Rabbits",
           "upper": 1.6857240855693814
          },
          {
           "lower": 0.4970978781580925,
           "timepoint_id": 245,
           "trajectory": "Rabbits",
           "upper": 1.676756316423416
          },
          {
           "lower": 0.4849018916487694,
           "timepoint_id": 246,
           "trajectory": "Rabbits",
           "upper": 1.6580952823162078
          },
          {
           "lower": 0.4760160893201828,
           "timepoint_id": 247,
           "trajectory": "Rabbits",
           "upper": 1.6309352219104767
          },
          {
           "lower": 0.47461206316947935,
           "timepoint_id": 248,
           "trajectory": "Rabbits",
           "upper": 1.565701252222061
          },
          {
           "lower": 0.4717500790953636,
           "timepoint_id": 249,
           "trajectory": "Rabbits",
           "upper": 1.4927363455295564
          },
          {
           "lower": 0.4649355515837669,
           "timepoint_id": 250,
           "trajectory": "Rabbits",
           "upper": 1.427871537208557
          },
          {
           "lower": 0.4553666740655899,
           "timepoint_id": 251,
           "trajectory": "Rabbits",
           "upper": 1.3679876148700711
          },
          {
           "lower": 0.4450364723801613,
           "timepoint_id": 252,
           "trajectory": "Rabbits",
           "upper": 1.303653812408447
          },
          {
           "lower": 0.4424390897154808,
           "timepoint_id": 253,
           "trajectory": "Rabbits",
           "upper": 1.2363705337047572
          },
          {
           "lower": 0.44176057875156405,
           "timepoint_id": 254,
           "trajectory": "Rabbits",
           "upper": 1.2129586338996885
          },
          {
           "lower": 0.44264096915721896,
           "timepoint_id": 255,
           "trajectory": "Rabbits",
           "upper": 1.1858134746551512
          },
          {
           "lower": 0.444147065281868,
           "timepoint_id": 256,
           "trajectory": "Rabbits",
           "upper": 1.1125576615333557
          },
          {
           "lower": 0.4409631475806236,
           "timepoint_id": 257,
           "trajectory": "Rabbits",
           "upper": 1.0961318790912626
          },
          {
           "lower": 0.4385117799043655,
           "timepoint_id": 258,
           "trajectory": "Rabbits",
           "upper": 1.0390619158744812
          },
          {
           "lower": 0.43313329964876174,
           "timepoint_id": 259,
           "trajectory": "Rabbits",
           "upper": 1.0374710619449614
          },
          {
           "lower": 0.42651846557855605,
           "timepoint_id": 260,
           "trajectory": "Rabbits",
           "upper": 1.078562933206558
          },
          {
           "lower": 0.42028400897979734,
           "timepoint_id": 261,
           "trajectory": "Rabbits",
           "upper": 1.1212464570999146
          },
          {
           "lower": 0.41851030141115186,
           "timepoint_id": 262,
           "trajectory": "Rabbits",
           "upper": 1.1654311060905456
          },
          {
           "lower": 0.413428770005703,
           "timepoint_id": 263,
           "trajectory": "Rabbits",
           "upper": 1.2109955728054047
          },
          {
           "lower": 0.41161238849163057,
           "timepoint_id": 264,
           "trajectory": "Rabbits",
           "upper": 1.2577878415584565
          },
          {
           "lower": 0.4150161102414131,
           "timepoint_id": 265,
           "trajectory": "Rabbits",
           "upper": 1.3064170897006988
          },
          {
           "lower": 0.4207983836531639,
           "timepoint_id": 266,
           "trajectory": "Rabbits",
           "upper": 1.3561907589435578
          },
          {
           "lower": 0.4277648523449898,
           "timepoint_id": 267,
           "trajectory": "Rabbits",
           "upper": 1.4066593289375304
          },
          {
           "lower": 0.42866419106721876,
           "timepoint_id": 268,
           "trajectory": "Rabbits",
           "upper": 1.4574932754039762
          },
          {
           "lower": 0.4253242269158363,
           "timepoint_id": 269,
           "trajectory": "Rabbits",
           "upper": 1.5082980334758758
          },
          {
           "lower": 0.41685053110122683,
           "timepoint_id": 270,
           "trajectory": "Rabbits",
           "upper": 1.5586107611656186
          },
          {
           "lower": 0.41453602015972135,
           "timepoint_id": 271,
           "trajectory": "Rabbits",
           "upper": 1.6078900456428524
          },
          {
           "lower": 0.4145487532019615,
           "timepoint_id": 272,
           "trajectory": "Rabbits",
           "upper": 1.6348855912685392
          },
          {
           "lower": 0.412854041159153,
           "timepoint_id": 273,
           "trajectory": "Rabbits",
           "upper": 1.652022325992584
          },
          {
           "lower": 0.40423967093229296,
           "timepoint_id": 274,
           "trajectory": "Rabbits",
           "upper": 1.6629717230796812
          },
          {
           "lower": 0.39665575325489044,
           "timepoint_id": 275,
           "trajectory": "Rabbits",
           "upper": 1.6671080231666564
          },
          {
           "lower": 0.3907979890704155,
           "timepoint_id": 276,
           "trajectory": "Rabbits",
           "upper": 1.6639088928699493
          },
          {
           "lower": 0.3935821086168289,
           "timepoint_id": 277,
           "trajectory": "Rabbits",
           "upper": 1.6557608664035797
          },
          {
           "lower": 0.39856401085853577,
           "timepoint_id": 278,
           "trajectory": "Rabbits",
           "upper": 1.639836424589157
          },
          {
           "lower": 0.404674831032753,
           "timepoint_id": 279,
           "trajectory": "Rabbits",
           "upper": 1.629011660814285
          },
          {
           "lower": 0.41125942319631575,
           "timepoint_id": 280,
           "trajectory": "Rabbits",
           "upper": 1.616130632162094
          },
          {
           "lower": 0.4133000984787941,
           "timepoint_id": 281,
           "trajectory": "Rabbits",
           "upper": 1.6224951922893522
          },
          {
           "lower": 0.41600040942430494,
           "timepoint_id": 282,
           "trajectory": "Rabbits",
           "upper": 1.604687875509262
          },
          {
           "lower": 0.419818215072155,
           "timepoint_id": 283,
           "trajectory": "Rabbits",
           "upper": 1.5689333200454711
          },
          {
           "lower": 0.4247225522994995,
           "timepoint_id": 284,
           "trajectory": "Rabbits",
           "upper": 1.605749088525772
          },
          {
           "lower": 0.43069083243608475,
           "timepoint_id": 285,
           "trajectory": "Rabbits",
           "upper": 1.6541750848293302
          },
          {
           "lower": 0.4377057060599327,
           "timepoint_id": 286,
           "trajectory": "Rabbits",
           "upper": 1.700001937150955
          },
          {
           "lower": 0.44575624018907545,
           "timepoint_id": 287,
           "trajectory": "Rabbits",
           "upper": 1.732171511650085
          },
          {
           "lower": 0.4548378333449364,
           "timepoint_id": 288,
           "trajectory": "Rabbits",
           "upper": 1.7420642554759977
          },
          {
           "lower": 0.4649491384625435,
           "timepoint_id": 289,
           "trajectory": "Rabbits",
           "upper": 1.7516489982604981
          },
          {
           "lower": 0.47579763233661654,
           "timepoint_id": 290,
           "trajectory": "Rabbits",
           "upper": 1.7386007368564604
          },
          {
           "lower": 0.4891229450702667,
           "timepoint_id": 291,
           "trajectory": "Rabbits",
           "upper": 1.7452050268650054
          },
          {
           "lower": 0.5040813356637954,
           "timepoint_id": 292,
           "trajectory": "Rabbits",
           "upper": 1.7711842000484466
          },
          {
           "lower": 0.5201665133237838,
           "timepoint_id": 293,
           "trajectory": "Rabbits",
           "upper": 1.8023575127124785
          },
          {
           "lower": 0.5374025821685791,
           "timepoint_id": 294,
           "trajectory": "Rabbits",
           "upper": 1.8451899886131284
          },
          {
           "lower": 0.5558172702789307,
           "timepoint_id": 295,
           "trajectory": "Rabbits",
           "upper": 1.8826105952262877
          },
          {
           "lower": 0.5754400938749313,
           "timepoint_id": 296,
           "trajectory": "Rabbits",
           "upper": 1.8895355403423308
          },
          {
           "lower": 0.5963023632764817,
           "timepoint_id": 297,
           "trajectory": "Rabbits",
           "upper": 1.8820030152797698
          },
          {
           "lower": 0.6184376865625382,
           "timepoint_id": 298,
           "trajectory": "Rabbits",
           "upper": 1.9074315130710602
          },
          {
           "lower": 0.6331823855638504,
           "timepoint_id": 299,
           "trajectory": "Rabbits",
           "upper": 1.9259164452552795
          },
          {
           "lower": 0.6396550983190536,
           "timepoint_id": 300,
           "trajectory": "Rabbits",
           "upper": 1.9575332403182983
          },
          {
           "lower": 0.6352047085762024,
           "timepoint_id": 301,
           "trajectory": "Rabbits",
           "upper": 1.9521862268447876
          },
          {
           "lower": 0.6227093160152435,
           "timepoint_id": 302,
           "trajectory": "Rabbits",
           "upper": 1.9816403448581696
          },
          {
           "lower": 0.6086790233850479,
           "timepoint_id": 303,
           "trajectory": "Rabbits",
           "upper": 1.9924682796001434
          },
          {
           "lower": 0.600580582022667,
           "timepoint_id": 304,
           "trajectory": "Rabbits",
           "upper": 1.9912116348743438
          },
          {
           "lower": 0.6105746477842331,
           "timepoint_id": 305,
           "trajectory": "Rabbits",
           "upper": 1.9789631009101867
          },
          {
           "lower": 0.6185706049203873,
           "timepoint_id": 306,
           "trajectory": "Rabbits",
           "upper": 1.9551160156726834
          },
          {
           "lower": 0.6101013958454132,
           "timepoint_id": 307,
           "trajectory": "Rabbits",
           "upper": 1.9200285851955412
          },
          {
           "lower": 0.6034355491399765,
           "timepoint_id": 308,
           "trajectory": "Rabbits",
           "upper": 1.9168525636196136
          },
          {
           "lower": 0.5982402086257934,
           "timepoint_id": 309,
           "trajectory": "Rabbits",
           "upper": 1.91293408870697
          },
          {
           "lower": 0.5867925018072129,
           "timepoint_id": 310,
           "trajectory": "Rabbits",
           "upper": 1.9078599810600276
          },
          {
           "lower": 0.5724489957094192,
           "timepoint_id": 311,
           "trajectory": "Rabbits",
           "upper": 1.8693072557449337
          },
          {
           "lower": 0.5638573288917541,
           "timepoint_id": 312,
           "trajectory": "Rabbits",
           "upper": 1.8201348185539243
          },
          {
           "lower": 0.5624638974666596,
           "timepoint_id": 313,
           "trajectory": "Rabbits",
           "upper": 1.7697234213352202
          },
          {
           "lower": 0.5507203966379166,
           "timepoint_id": 314,
           "trajectory": "Rabbits",
           "upper": 1.7301194071769714
          },
          {
           "lower": 0.5544991075992585,
           "timepoint_id": 315,
           "trajectory": "Rabbits",
           "upper": 1.7313940346240997
          },
          {
           "lower": 0.560020101070404,
           "timepoint_id": 316,
           "trajectory": "Rabbits",
           "upper": 1.7541727066040038
          },
          {
           "lower": 0.554255124926567,
           "timepoint_id": 317,
           "trajectory": "Rabbits",
           "upper": 1.7718619644641875
          },
          {
           "lower": 0.5480907291173935,
           "timepoint_id": 318,
           "trajectory": "Rabbits",
           "upper": 1.7652491748332975
          },
          {
           "lower": 0.5356627881526947,
           "timepoint_id": 319,
           "trajectory": "Rabbits",
           "upper": 1.7113009810447692
          },
          {
           "lower": 0.5229950040578842,
           "timepoint_id": 320,
           "trajectory": "Rabbits",
           "upper": 1.7353079974651335
          },
          {
           "lower": 0.5182398110628128,
           "timepoint_id": 321,
           "trajectory": "Rabbits",
           "upper": 1.756126809120178
          },
          {
           "lower": 0.5166056036949158,
           "timepoint_id": 322,
           "trajectory": "Rabbits",
           "upper": 1.769816994667053
          },
          {
           "lower": 0.5164867341518402,
           "timepoint_id": 323,
           "trajectory": "Rabbits",
           "upper": 1.7754958629608153
          },
          {
           "lower": 0.515685823559761,
           "timepoint_id": 324,
           "trajectory": "Rabbits",
           "upper": 1.7829261362552642
          },
          {
           "lower": 0.5072418957948684,
           "timepoint_id": 325,
           "trajectory": "Rabbits",
           "upper": 1.7994502186775208
          },
          {
           "lower": 0.4941129207611084,
           "timepoint_id": 326,
           "trajectory": "Rabbits",
           "upper": 1.8093173563480378
          },
          {
           "lower": 0.4832419604063034,
           "timepoint_id": 327,
           "trajectory": "Rabbits",
           "upper": 1.814925742149353
          },
          {
           "lower": 0.47836018800735475,
           "timepoint_id": 328,
           "trajectory": "Rabbits",
           "upper": 1.7878687262535093
          },
          {
           "lower": 0.4781149536371231,
           "timepoint_id": 329,
           "trajectory": "Rabbits",
           "upper": 1.742596834897995
          },
          {
           "lower": 0.47555607110261916,
           "timepoint_id": 330,
           "trajectory": "Rabbits",
           "upper": 1.721788442134857
          },
          {
           "lower": 0.46873447448015215,
           "timepoint_id": 331,
           "trajectory": "Rabbits",
           "upper": 1.6993482708930967
          },
          {
           "lower": 0.4732772186398506,
           "timepoint_id": 332,
           "trajectory": "Rabbits",
           "upper": 1.6743481099605557
          },
          {
           "lower": 0.468516506254673,
           "timepoint_id": 333,
           "trajectory": "Rabbits",
           "upper": 1.673043769598007
          },
          {
           "lower": 0.4522621363401413,
           "timepoint_id": 334,
           "trajectory": "Rabbits",
           "upper": 1.662751567363739
          },
          {
           "lower": 0.4430853143334389,
           "timepoint_id": 335,
           "trajectory": "Rabbits",
           "upper": 1.64410360455513
          },
          {
           "lower": 0.4432558551430702,
           "timepoint_id": 336,
           "trajectory": "Rabbits",
           "upper": 1.5930341601371765
          },
          {
           "lower": 0.445137058198452,
           "timepoint_id": 337,
           "trajectory": "Rabbits",
           "upper": 1.5551829457283017
          },
          {
           "lower": 0.4464197546243668,
           "timepoint_id": 338,
           "trajectory": "Rabbits",
           "upper": 1.5624677062034602
          },
          {
           "lower": 0.4474971190094948,
           "timepoint_id": 339,
           "trajectory": "Rabbits",
           "upper": 1.5318945050239559
          },
          {
           "lower": 0.4469641879200935,
           "timepoint_id": 340,
           "trajectory": "Rabbits",
           "upper": 1.5298158288002013
          },
          {
           "lower": 0.44488638937473296,
           "timepoint_id": 341,
           "trajectory": "Rabbits",
           "upper": 1.4993150174617766
          },
          {
           "lower": 0.4385147958993912,
           "timepoint_id": 342,
           "trajectory": "Rabbits",
           "upper": 1.429887247085571
          },
          {
           "lower": 0.4331304594874382,
           "timepoint_id": 343,
           "trajectory": "Rabbits",
           "upper": 1.4057254314422607
          },
          {
           "lower": 0.42956598550081254,
           "timepoint_id": 344,
           "trajectory": "Rabbits",
           "upper": 1.4403165519237517
          },
          {
           "lower": 0.4253564924001694,
           "timepoint_id": 345,
           "trajectory": "Rabbits",
           "upper": 1.4883637964725493
          },
          {
           "lower": 0.4244931101799011,
           "timepoint_id": 346,
           "trajectory": "Rabbits",
           "upper": 1.5368669986724852
          },
          {
           "lower": 0.4283281609416008,
           "timepoint_id": 347,
           "trajectory": "Rabbits",
           "upper": 1.5852935135364532
          },
          {
           "lower": 0.42513045519590376,
           "timepoint_id": 348,
           "trajectory": "Rabbits",
           "upper": 1.632164007425308
          },
          {
           "lower": 0.4200458973646164,
           "timepoint_id": 349,
           "trajectory": "Rabbits",
           "upper": 1.6576512217521666
          },
          {
           "lower": 0.42672457695007326,
           "timepoint_id": 350,
           "trajectory": "Rabbits",
           "upper": 1.6621334195137023
          },
          {
           "lower": 0.4345822066068649,
           "timepoint_id": 351,
           "trajectory": "Rabbits",
           "upper": 1.6594287574291229
          },
          {
           "lower": 0.4436092182993889,
           "timepoint_id": 352,
           "trajectory": "Rabbits",
           "upper": 1.6523966014385223
          },
          {
           "lower": 0.45380297005176545,
           "timepoint_id": 353,
           "trajectory": "Rabbits",
           "upper": 1.6378264129161832
          },
          {
           "lower": 0.4610008031129837,
           "timepoint_id": 354,
           "trajectory": "Rabbits",
           "upper": 1.6328679680824278
          },
          {
           "lower": 0.4575705140829086,
           "timepoint_id": 355,
           "trajectory": "Rabbits",
           "upper": 1.6230205595493314
          },
          {
           "lower": 0.4455138087272644,
           "timepoint_id": 356,
           "trajectory": "Rabbits",
           "upper": 1.6049207866191864
          },
          {
           "lower": 0.43511883020401,
           "timepoint_id": 357,
           "trajectory": "Rabbits",
           "upper": 1.578563404083252
          },
          {
           "lower": 0.42818028330802915,
           "timepoint_id": 358,
           "trajectory": "Rabbits",
           "upper": 1.560998100042343
          },
          {
           "lower": 0.42777920365333555,
           "timepoint_id": 359,
           "trajectory": "Rabbits",
           "upper": 1.503386640548706
          },
          {
           "lower": 0.42754523903131486,
           "timepoint_id": 360,
           "trajectory": "Rabbits",
           "upper": 1.480780619382858
          },
          {
           "lower": 0.4262489452958107,
           "timepoint_id": 361,
           "trajectory": "Rabbits",
           "upper": 1.5112244009971618
          },
          {
           "lower": 0.4160794273018837,
           "timepoint_id": 362,
           "trajectory": "Rabbits",
           "upper": 1.5504247188568114
          },
          {
           "lower": 0.4073982730507851,
           "timepoint_id": 363,
           "trajectory": "Rabbits",
           "upper": 1.5913909077644346
          },
          {
           "lower": 0.4004003912210464,
           "timepoint_id": 364,
           "trajectory": "Rabbits",
           "upper": 1.6403545439243314
          },
          {
           "lower": 0.4014432460069656,
           "timepoint_id": 365,
           "trajectory": "Rabbits",
           "upper": 1.6869548618793484
          },
          {
           "lower": 0.406353235244751,
           "timepoint_id": 366,
           "trajectory": "Rabbits",
           "upper": 1.7125972688198088
          },
          {
           "lower": 0.4120946392416954,
           "timepoint_id": 367,
           "trajectory": "Rabbits",
           "upper": 1.6813135623931883
          },
          {
           "lower": 0.41201861947774887,
           "timepoint_id": 368,
           "trajectory": "Rabbits",
           "upper": 1.695450896024704
          },
          {
           "lower": 0.4131871834397316,
           "timepoint_id": 369,
           "trajectory": "Rabbits",
           "upper": 1.704049777984619
          },
          {
           "lower": 0.4150891095399857,
           "timepoint_id": 370,
           "trajectory": "Rabbits",
           "upper": 1.7009122908115384
          },
          {
           "lower": 0.4178817912936211,
           "timepoint_id": 371,
           "trajectory": "Rabbits",
           "upper": 1.725430756807327
          },
          {
           "lower": 0.42179676443338393,
           "timepoint_id": 372,
           "trajectory": "Rabbits",
           "upper": 1.7459316432476044
          },
          {
           "lower": 0.4268047958612442,
           "timepoint_id": 373,
           "trajectory": "Rabbits",
           "upper": 1.76577513217926
          },
          {
           "lower": 0.4328827723860741,
           "timepoint_id": 374,
           "trajectory": "Rabbits",
           "upper": 1.8066574811935423
          },
          {
           "lower": 0.4390408143401146,
           "timepoint_id": 375,
           "trajectory": "Rabbits",
           "upper": 1.8490019261837003
          },
          {
           "lower": 0.4459463968873024,
           "timepoint_id": 376,
           "trajectory": "Rabbits",
           "upper": 1.8599211990833282
          },
          {
           "lower": 0.4538986936211586,
           "timepoint_id": 377,
           "trajectory": "Rabbits",
           "upper": 1.8497736155986784
          },
          {
           "lower": 0.4651094362139702,
           "timepoint_id": 378,
           "trajectory": "Rabbits",
           "upper": 1.8601066946983336
          },
          {
           "lower": 0.4780843734741211,
           "timepoint_id": 379,
           "trajectory": "Rabbits",
           "upper": 1.8876757025718687
          },
          {
           "lower": 0.492148357629776,
           "timepoint_id": 380,
           "trajectory": "Rabbits",
           "upper": 1.9079487442970275
          },
          {
           "lower": 0.5073222741484642,
           "timepoint_id": 381,
           "trajectory": "Rabbits",
           "upper": 1.9209326088428498
          },
          {
           "lower": 0.5236279129981994,
           "timepoint_id": 382,
           "trajectory": "Rabbits",
           "upper": 1.9155714392662049
          },
          {
           "lower": 0.5333443999290466,
           "timepoint_id": 383,
           "trajectory": "Rabbits",
           "upper": 1.9256284475326537
          },
          {
           "lower": 0.5407276719808578,
           "timepoint_id": 384,
           "trajectory": "Rabbits",
           "upper": 1.9541174590587616
          },
          {
           "lower": 0.5475086867809296,
           "timepoint_id": 385,
           "trajectory": "Rabbits",
           "upper": 1.978466236591339
          },
          {
           "lower": 0.5465062320232391,
           "timepoint_id": 386,
           "trajectory": "Rabbits",
           "upper": 1.9914168894290922
          },
          {
           "lower": 0.5525976806879044,
           "timepoint_id": 387,
           "trajectory": "Rabbits",
           "upper": 1.9824489414691924
          },
          {
           "lower": 0.5636728644371033,
           "timepoint_id": 388,
           "trajectory": "Rabbits",
           "upper": 1.9620773255825041
          },
          {
           "lower": 0.5675195813179016,
           "timepoint_id": 389,
           "trajectory": "Rabbits",
           "upper": 1.929941552877426
          },
          {
           "lower": 0.5573868989944458,
           "timepoint_id": 390,
           "trajectory": "Rabbits",
           "upper": 1.8860995233058926
          },
          {
           "lower": 0.5549980401992798,
           "timepoint_id": 391,
           "trajectory": "Rabbits",
           "upper": 1.8778917074203492
          },
          {
           "lower": 0.5580355763435364,
           "timepoint_id": 392,
           "trajectory": "Rabbits",
           "upper": 1.8730241835117338
          },
          {
           "lower": 0.5666703373193741,
           "timepoint_id": 393,
           "trajectory": "Rabbits",
           "upper": 1.8939713478088376
          },
          {
           "lower": 0.5745903313159942,
           "timepoint_id": 394,
           "trajectory": "Rabbits",
           "upper": 1.8707408785820006
          },
          {
           "lower": 0.5794445455074311,
           "timepoint_id": 395,
           "trajectory": "Rabbits",
           "upper": 1.8239542603492735
          },
          {
           "lower": 0.5653527587652206,
           "timepoint_id": 396,
           "trajectory": "Rabbits",
           "upper": 1.7833893656730653
          },
          {
           "lower": 0.5516872137784958,
           "timepoint_id": 397,
           "trajectory": "Rabbits",
           "upper": 1.7533719480037688
          },
          {
           "lower": 0.5397428452968598,
           "timepoint_id": 398,
           "trajectory": "Rabbits",
           "upper": 1.697965383529663
          },
          {
           "lower": 0.5263006567955018,
           "timepoint_id": 399,
           "trajectory": "Rabbits",
           "upper": 1.6832296729087828
          },
          {
           "lower": 0.5212005943059921,
           "timepoint_id": 400,
           "trajectory": "Rabbits",
           "upper": 1.65513117313385
          },
          {
           "lower": 0.5204062521457672,
           "timepoint_id": 401,
           "trajectory": "Rabbits",
           "upper": 1.6790795803070069
          },
          {
           "lower": 0.5212742745876312,
           "timepoint_id": 402,
           "trajectory": "Rabbits",
           "upper": 1.7225245833396912
          },
          {
           "lower": 0.5229991644620895,
           "timepoint_id": 403,
           "trajectory": "Rabbits",
           "upper": 1.730085062980652
          },
          {
           "lower": 0.522838044166565,
           "timepoint_id": 404,
           "trajectory": "Rabbits",
           "upper": 1.694386202096939
          },
          {
           "lower": 0.5160812020301819,
           "timepoint_id": 405,
           "trajectory": "Rabbits",
           "upper": 1.6922270357608795
          },
          {
           "lower": 0.5036900967359543,
           "timepoint_id": 406,
           "trajectory": "Rabbits",
           "upper": 1.7067781984806059
          },
          {
           "lower": 0.49137296676635744,
           "timepoint_id": 407,
           "trajectory": "Rabbits",
           "upper": 1.730581349134445
          },
          {
           "lower": 0.48303412944078444,
           "timepoint_id": 408,
           "trajectory": "Rabbits",
           "upper": 1.7478553891181945
          },
          {
           "lower": 0.48240396082401277,
           "timepoint_id": 409,
           "trajectory": "Rabbits",
           "upper": 1.7600879192352294
          },
          {
           "lower": 0.478350593149662,
           "timepoint_id": 410,
           "trajectory": "Rabbits",
           "upper": 1.764333701133728
          },
          {
           "lower": 0.4821579858660698,
           "timepoint_id": 411,
           "trajectory": "Rabbits",
           "upper": 1.7599210083484647
          },
          {
           "lower": 0.47911573350429537,
           "timepoint_id": 412,
           "trajectory": "Rabbits",
           "upper": 1.776980400085449
          },
          {
           "lower": 0.4739988923072815,
           "timepoint_id": 413,
           "trajectory": "Rabbits",
           "upper": 1.786699366569519
          },
          {
           "lower": 0.4728016659617424,
           "timepoint_id": 414,
           "trajectory": "Rabbits",
           "upper": 1.785502678155899
          },
          {
           "lower": 0.47174362689256666,
           "timepoint_id": 415,
           "trajectory": "Rabbits",
           "upper": 1.7991522669792175
          },
          {
           "lower": 0.46309907287359237,
           "timepoint_id": 416,
           "trajectory": "Rabbits",
           "upper": 1.7694347620010376
          },
          {
           "lower": 0.44931227415800096,
           "timepoint_id": 417,
           "trajectory": "Rabbits",
           "upper": 1.780850529670715
          },
          {
           "lower": 0.44567641615867615,
           "timepoint_id": 418,
           "trajectory": "Rabbits",
           "upper": 1.8043862819671628
          },
          {
           "lower": 0.44674141258001326,
           "timepoint_id": 419,
           "trajectory": "Rabbits",
           "upper": 1.800585466623306
          },
          {
           "lower": 0.44667655378580096,
           "timepoint_id": 420,
           "trajectory": "Rabbits",
           "upper": 1.7862511932849883
          },
          {
           "lower": 0.4480611220002174,
           "timepoint_id": 421,
           "trajectory": "Rabbits",
           "upper": 1.7608599722385405
          },
          {
           "lower": 0.4508348643779755,
           "timepoint_id": 422,
           "trajectory": "Rabbits",
           "upper": 1.724252951145172
          },
          {
           "lower": 0.45494675934314727,
           "timepoint_id": 423,
           "trajectory": "Rabbits",
           "upper": 1.6898755848407745
          },
          {
           "lower": 0.45285946875810623,
           "timepoint_id": 424,
           "trajectory": "Rabbits",
           "upper": 1.6663192331790924
          },
          {
           "lower": 0.44594485461711886,
           "timepoint_id": 425,
           "trajectory": "Rabbits",
           "upper": 1.6706449449062346
          },
          {
           "lower": 0.4385737970471382,
           "timepoint_id": 426,
           "trajectory": "Rabbits",
           "upper": 1.69396036863327
          },
          {
           "lower": 0.43317885547876356,
           "timepoint_id": 427,
           "trajectory": "Rabbits",
           "upper": 1.701903975009918
          },
          {
           "lower": 0.42960587739944456,
           "timepoint_id": 428,
           "trajectory": "Rabbits",
           "upper": 1.6650055527687073
          },
          {
           "lower": 0.4296691849827766,
           "timepoint_id": 429,
           "trajectory": "Rabbits",
           "upper": 1.634255015850067
          },
          {
           "lower": 0.4290746435523033,
           "timepoint_id": 430,
           "trajectory": "Rabbits",
           "upper": 1.6288334131240843
          },
          {
           "lower": 0.4286207392811775,
           "timepoint_id": 431,
           "trajectory": "Rabbits",
           "upper": 1.6152874886989592
          },
          {
           "lower": 0.4312332525849342,
           "timepoint_id": 432,
           "trajectory": "Rabbits",
           "upper": 1.5934741914272308
          },
          {
           "lower": 0.43520423769950867,
           "timepoint_id": 433,
           "trajectory": "Rabbits",
           "upper": 1.563509178161621
          },
          {
           "lower": 0.4337076425552368,
           "timepoint_id": 434,
           "trajectory": "Rabbits",
           "upper": 1.5209748685359954
          },
          {
           "lower": 0.44245827943086624,
           "timepoint_id": 435,
           "trajectory": "Rabbits",
           "upper": 1.483392971754074
          },
          {
           "lower": 0.45230783224105836,
           "timepoint_id": 436,
           "trajectory": "Rabbits",
           "upper": 1.4413735747337342
          },
          {
           "lower": 0.4630254492163658,
           "timepoint_id": 437,
           "trajectory": "Rabbits",
           "upper": 1.4341596007347106
          },
          {
           "lower": 0.47416217923164367,
           "timepoint_id": 438,
           "trajectory": "Rabbits",
           "upper": 1.4368768870830533
          },
          {
           "lower": 0.47718397676944735,
           "timepoint_id": 439,
           "trajectory": "Rabbits",
           "upper": 1.4758596479892727
          },
          {
           "lower": 0.47828148752450944,
           "timepoint_id": 440,
           "trajectory": "Rabbits",
           "upper": 1.5129901826381682
          },
          {
           "lower": 0.4808869779109955,
           "timepoint_id": 441,
           "trajectory": "Rabbits",
           "upper": 1.5477491676807402
          },
          {
           "lower": 0.4719135418534279,
           "timepoint_id": 442,
           "trajectory": "Rabbits",
           "upper": 1.582797646522522
          },
          {
           "lower": 0.4590594068169594,
           "timepoint_id": 443,
           "trajectory": "Rabbits",
           "upper": 1.6263654887676238
          },
          {
           "lower": 0.44851022213697433,
           "timepoint_id": 444,
           "trajectory": "Rabbits",
           "upper": 1.6408966422080993
          },
          {
           "lower": 0.44312494844198225,
           "timepoint_id": 445,
           "trajectory": "Rabbits",
           "upper": 1.633244502544403
          },
          {
           "lower": 0.443962661921978,
           "timepoint_id": 446,
           "trajectory": "Rabbits",
           "upper": 1.6598603188991543
          },
          {
           "lower": 0.43872047662734986,
           "timepoint_id": 447,
           "trajectory": "Rabbits",
           "upper": 1.6537000775337218
          },
          {
           "lower": 0.4330864563584328,
           "timepoint_id": 448,
           "trajectory": "Rabbits",
           "upper": 1.6327678859233856
          },
          {
           "lower": 0.4272132471203804,
           "timepoint_id": 449,
           "trajectory": "Rabbits",
           "upper": 1.6633822619915006
          },
          {
           "lower": 0.4229541838169098,
           "timepoint_id": 450,
           "trajectory": "Rabbits",
           "upper": 1.68935130238533
          },
          {
           "lower": 0.42015309184789656,
           "timepoint_id": 451,
           "trajectory": "Rabbits",
           "upper": 1.7020507633686062
          },
          {
           "lower": 0.4154145985841751,
           "timepoint_id": 452,
           "trajectory": "Rabbits",
           "upper": 1.719242763519287
          },
          {
           "lower": 0.41348221302032473,
           "timepoint_id": 453,
           "trajectory": "Rabbits",
           "upper": 1.7336568772792815
          },
          {
           "lower": 0.4150035724043846,
           "timepoint_id": 454,
           "trajectory": "Rabbits",
           "upper": 1.764562529325485
          },
          {
           "lower": 0.4149696618318558,
           "timepoint_id": 455,
           "trajectory": "Rabbits",
           "upper": 1.8108898639678952
          },
          {
           "lower": 0.41395452320575715,
           "timepoint_id": 456,
           "trajectory": "Rabbits",
           "upper": 1.824523389339447
          },
          {
           "lower": 0.4140619054436684,
           "timepoint_id": 457,
           "trajectory": "Rabbits",
           "upper": 1.813973444700241
          },
          {
           "lower": 0.41541619300842286,
           "timepoint_id": 458,
           "trajectory": "Rabbits",
           "upper": 1.8230098664760586
          },
          {
           "lower": 0.4171424895524979,
           "timepoint_id": 459,
           "trajectory": "Rabbits",
           "upper": 1.8459568142890928
          },
          {
           "lower": 0.42002087384462355,
           "timepoint_id": 460,
           "trajectory": "Rabbits",
           "upper": 1.8654019176959988
          },
          {
           "lower": 0.42402760237455367,
           "timepoint_id": 461,
           "trajectory": "Rabbits",
           "upper": 1.8877334773540495
          },
          {
           "lower": 0.42738759964704515,
           "timepoint_id": 462,
           "trajectory": "Rabbits",
           "upper": 1.902269196510315
          },
          {
           "lower": 0.4318558230996132,
           "timepoint_id": 463,
           "trajectory": "Rabbits",
           "upper": 1.8940174400806427
          },
          {
           "lower": 0.43740634620189667,
           "timepoint_id": 464,
           "trajectory": "Rabbits",
           "upper": 1.8821656048297881
          },
          {
           "lower": 0.4447771281003952,
           "timepoint_id": 465,
           "trajectory": "Rabbits",
           "upper": 1.882305562496185
          },
          {
           "lower": 0.4558165818452835,
           "timepoint_id": 466,
           "trajectory": "Rabbits",
           "upper": 1.9225153148174283
          },
          {
           "lower": 0.4679217264056206,
           "timepoint_id": 467,
           "trajectory": "Rabbits",
           "upper": 1.9554853141307829
          },
          {
           "lower": 0.48110533952713014,
           "timepoint_id": 468,
           "trajectory": "Rabbits",
           "upper": 1.9698303520679474
          },
          {
           "lower": 0.49538414031267164,
           "timepoint_id": 469,
           "trajectory": "Rabbits",
           "upper": 1.9792747676372526
          },
          {
           "lower": 0.5080586045980453,
           "timepoint_id": 470,
           "trajectory": "Rabbits",
           "upper": 1.967767035961151
          },
          {
           "lower": 0.5129945755004883,
           "timepoint_id": 471,
           "trajectory": "Rabbits",
           "upper": 1.9391654551029203
          },
          {
           "lower": 0.5108693033456803,
           "timepoint_id": 472,
           "trajectory": "Rabbits",
           "upper": 1.8988539218902585
          },
          {
           "lower": 0.4991100400686264,
           "timepoint_id": 473,
           "trajectory": "Rabbits",
           "upper": 1.8478488326072688
          },
          {
           "lower": 0.5031557589769363,
           "timepoint_id": 474,
           "trajectory": "Rabbits",
           "upper": 1.8340315818786619
          },
          {
           "lower": 0.5088341951370239,
           "timepoint_id": 475,
           "trajectory": "Rabbits",
           "upper": 1.8401550590991973
          },
          {
           "lower": 0.5159552216529846,
           "timepoint_id": 476,
           "trajectory": "Rabbits",
           "upper": 1.8687605321407317
          },
          {
           "lower": 0.5092094346880913,
           "timepoint_id": 477,
           "trajectory": "Rabbits",
           "upper": 1.8707273721694944
          },
          {
           "lower": 0.5044783890247345,
           "timepoint_id": 478,
           "trajectory": "Rabbits",
           "upper": 1.8262719750404357
          },
          {
           "lower": 0.5081981033086777,
           "timepoint_id": 479,
           "trajectory": "Rabbits",
           "upper": 1.792725670337677
          },
          {
           "lower": 0.5200009018182754,
           "timepoint_id": 480,
           "trajectory": "Rabbits",
           "upper": 1.774888491630554
          },
          {
           "lower": 0.5272310882806778,
           "timepoint_id": 481,
           "trajectory": "Rabbits",
           "upper": 1.715480238199234
          },
          {
           "lower": 0.5269260108470917,
           "timepoint_id": 482,
           "trajectory": "Rabbits",
           "upper": 1.6720775485038757
          },
          {
           "lower": 0.5233244180679322,
           "timepoint_id": 483,
           "trajectory": "Rabbits",
           "upper": 1.6669860184192655
          },
          {
           "lower": 0.5214826852083206,
           "timepoint_id": 484,
           "trajectory": "Rabbits",
           "upper": 1.630444073677063
          },
          {
           "lower": 0.5193063199520112,
           "timepoint_id": 485,
           "trajectory": "Rabbits",
           "upper": 1.5780684947967527
          },
          {
           "lower": 0.5129514932632446,
           "timepoint_id": 486,
           "trajectory": "Rabbits",
           "upper": 1.5786680579185486
          },
          {
           "lower": 0.500324958562851,
           "timepoint_id": 487,
           "trajectory": "Rabbits",
           "upper": 1.6250803112983703
          },
          {
           "lower": 0.488868248462677,
           "timepoint_id": 488,
           "trajectory": "Rabbits",
           "upper": 1.6607791423797607
          },
          {
           "lower": 0.486769101023674,
           "timepoint_id": 489,
           "trajectory": "Rabbits",
           "upper": 1.6902902007102965
          },
          {
           "lower": 0.48539797216653824,
           "timepoint_id": 490,
           "trajectory": "Rabbits",
           "upper": 1.6994019508361815
          },
          {
           "lower": 0.4866256728768349,
           "timepoint_id": 491,
           "trajectory": "Rabbits",
           "upper": 1.7332690715789794
          },
          {
           "lower": 0.48455681949853896,
           "timepoint_id": 492,
           "trajectory": "Rabbits",
           "upper": 1.7707481265068052
          },
          {
           "lower": 0.48429418802261354,
           "timepoint_id": 493,
           "trajectory": "Rabbits",
           "upper": 1.792945963144302
          },
          {
           "lower": 0.4749647453427315,
           "timepoint_id": 494,
           "trajectory": "Rabbits",
           "upper": 1.8070252597331997
          },
          {
           "lower": 0.4730565622448921,
           "timepoint_id": 495,
           "trajectory": "Rabbits",
           "upper": 1.812970924377441
          },
          {
           "lower": 0.4718085706233978,
           "timepoint_id": 496,
           "trajectory": "Rabbits",
           "upper": 1.8213407933712003
          },
          {
           "lower": 0.46968354731798173,
           "timepoint_id": 497,
           "trajectory": "Rabbits",
           "upper": 1.830135244131088
          },
          {
           "lower": 0.46901567131280897,
           "timepoint_id": 498,
           "trajectory": "Rabbits",
           "upper": 1.8315934181213378
          },
          {
           "lower": 0.45796349793672564,
           "timepoint_id": 499,
           "trajectory": "Rabbits",
           "upper": 1.8251835584640501
          },
          {
           "lower": 0.7873044013977051,
           "timepoint_id": 0,
           "trajectory": "Wolf Example",
           "upper": 0.7873044013977051
          },
          {
           "lower": 0.7873044013977051,
           "timepoint_id": 1,
           "trajectory": "Wolf Example",
           "upper": 0.7873044013977051
          },
          {
           "lower": 0.7873044013977051,
           "timepoint_id": 2,
           "trajectory": "Wolf Example",
           "upper": 0.7873044013977051
          },
          {
           "lower": 0.7873044013977051,
           "timepoint_id": 3,
           "trajectory": "Wolf Example",
           "upper": 0.7873044013977051
          },
          {
           "lower": 0.7873044013977051,
           "timepoint_id": 4,
           "trajectory": "Wolf Example",
           "upper": 0.7873044013977051
          },
          {
           "lower": 0.7873044013977051,
           "timepoint_id": 5,
           "trajectory": "Wolf Example",
           "upper": 0.7873044013977051
          },
          {
           "lower": 0.7873044013977051,
           "timepoint_id": 6,
           "trajectory": "Wolf Example",
           "upper": 0.7873044013977051
          },
          {
           "lower": 0.7873044013977051,
           "timepoint_id": 7,
           "trajectory": "Wolf Example",
           "upper": 0.7873044013977051
          },
          {
           "lower": 0.7873044013977051,
           "timepoint_id": 8,
           "trajectory": "Wolf Example",
           "upper": 0.7873044013977051
          },
          {
           "lower": 0.7873044013977051,
           "timepoint_id": 9,
           "trajectory": "Wolf Example",
           "upper": 0.7873044013977051
          },
          {
           "lower": 0.7873044013977051,
           "timepoint_id": 10,
           "trajectory": "Wolf Example",
           "upper": 0.7873044013977051
          },
          {
           "lower": 0.7873044013977051,
           "timepoint_id": 11,
           "trajectory": "Wolf Example",
           "upper": 0.7873044013977051
          },
          {
           "lower": 0.7873044013977051,
           "timepoint_id": 12,
           "trajectory": "Wolf Example",
           "upper": 0.7873044013977051
          },
          {
           "lower": 0.7873044013977051,
           "timepoint_id": 13,
           "trajectory": "Wolf Example",
           "upper": 0.7873044013977051
          },
          {
           "lower": 0.7873044013977051,
           "timepoint_id": 14,
           "trajectory": "Wolf Example",
           "upper": 0.7873044013977051
          },
          {
           "lower": 0.7873044013977051,
           "timepoint_id": 15,
           "trajectory": "Wolf Example",
           "upper": 0.7873044013977051
          },
          {
           "lower": 0.7873044013977051,
           "timepoint_id": 16,
           "trajectory": "Wolf Example",
           "upper": 0.7873044013977051
          },
          {
           "lower": 0.7873044013977051,
           "timepoint_id": 17,
           "trajectory": "Wolf Example",
           "upper": 0.7873044013977051
          },
          {
           "lower": 0.7873044013977051,
           "timepoint_id": 18,
           "trajectory": "Wolf Example",
           "upper": 0.7873044013977051
          },
          {
           "lower": 0.7873044013977051,
           "timepoint_id": 19,
           "trajectory": "Wolf Example",
           "upper": 0.7873044013977051
          },
          {
           "lower": 0.7873044013977051,
           "timepoint_id": 20,
           "trajectory": "Wolf Example",
           "upper": 0.7873044013977051
          },
          {
           "lower": 0.7873044013977051,
           "timepoint_id": 21,
           "trajectory": "Wolf Example",
           "upper": 0.7873044013977051
          },
          {
           "lower": 0.7873044013977051,
           "timepoint_id": 22,
           "trajectory": "Wolf Example",
           "upper": 0.7873044013977051
          },
          {
           "lower": 0.7873044013977051,
           "timepoint_id": 23,
           "trajectory": "Wolf Example",
           "upper": 0.7873044013977051
          },
          {
           "lower": 0.7873044013977051,
           "timepoint_id": 24,
           "trajectory": "Wolf Example",
           "upper": 0.7873044013977051
          },
          {
           "lower": 0.7873044013977051,
           "timepoint_id": 25,
           "trajectory": "Wolf Example",
           "upper": 0.7873044013977051
          },
          {
           "lower": 0.7873044013977051,
           "timepoint_id": 26,
           "trajectory": "Wolf Example",
           "upper": 0.7873044013977051
          },
          {
           "lower": 0.7873044013977051,
           "timepoint_id": 27,
           "trajectory": "Wolf Example",
           "upper": 0.7873044013977051
          },
          {
           "lower": 0.7873044013977051,
           "timepoint_id": 28,
           "trajectory": "Wolf Example",
           "upper": 0.7873044013977051
          },
          {
           "lower": 0.7873044013977051,
           "timepoint_id": 29,
           "trajectory": "Wolf Example",
           "upper": 0.7873044013977051
          },
          {
           "lower": 0.7873044013977051,
           "timepoint_id": 30,
           "trajectory": "Wolf Example",
           "upper": 0.7873044013977051
          },
          {
           "lower": 0.7873044013977051,
           "timepoint_id": 31,
           "trajectory": "Wolf Example",
           "upper": 0.7873044013977051
          },
          {
           "lower": 0.7873044013977051,
           "timepoint_id": 32,
           "trajectory": "Wolf Example",
           "upper": 0.7873044013977051
          },
          {
           "lower": 0.7873044013977051,
           "timepoint_id": 33,
           "trajectory": "Wolf Example",
           "upper": 0.7873044013977051
          },
          {
           "lower": 0.7873044013977051,
           "timepoint_id": 34,
           "trajectory": "Wolf Example",
           "upper": 0.7873044013977051
          },
          {
           "lower": 0.7873044013977051,
           "timepoint_id": 35,
           "trajectory": "Wolf Example",
           "upper": 0.7873044013977051
          },
          {
           "lower": 0.7873044013977051,
           "timepoint_id": 36,
           "trajectory": "Wolf Example",
           "upper": 0.7873044013977051
          },
          {
           "lower": 0.7873044013977051,
           "timepoint_id": 37,
           "trajectory": "Wolf Example",
           "upper": 0.7873044013977051
          },
          {
           "lower": 0.7873044013977051,
           "timepoint_id": 38,
           "trajectory": "Wolf Example",
           "upper": 0.7873044013977051
          },
          {
           "lower": 0.7873044013977051,
           "timepoint_id": 39,
           "trajectory": "Wolf Example",
           "upper": 0.7873044013977051
          },
          {
           "lower": 0.7873044013977051,
           "timepoint_id": 40,
           "trajectory": "Wolf Example",
           "upper": 0.7873044013977051
          },
          {
           "lower": 0.7873044013977051,
           "timepoint_id": 41,
           "trajectory": "Wolf Example",
           "upper": 0.7873044013977051
          },
          {
           "lower": 0.7873044013977051,
           "timepoint_id": 42,
           "trajectory": "Wolf Example",
           "upper": 0.7873044013977051
          },
          {
           "lower": 0.7873044013977051,
           "timepoint_id": 43,
           "trajectory": "Wolf Example",
           "upper": 0.7873044013977051
          },
          {
           "lower": 0.7873044013977051,
           "timepoint_id": 44,
           "trajectory": "Wolf Example",
           "upper": 0.7873044013977051
          },
          {
           "lower": 0.7873044013977051,
           "timepoint_id": 45,
           "trajectory": "Wolf Example",
           "upper": 0.7873044013977051
          },
          {
           "lower": 0.7873044013977051,
           "timepoint_id": 46,
           "trajectory": "Wolf Example",
           "upper": 0.7873044013977051
          },
          {
           "lower": 0.7873044013977051,
           "timepoint_id": 47,
           "trajectory": "Wolf Example",
           "upper": 0.7873044013977051
          },
          {
           "lower": 0.7873044013977051,
           "timepoint_id": 48,
           "trajectory": "Wolf Example",
           "upper": 0.7873044013977051
          },
          {
           "lower": 0.7873044013977051,
           "timepoint_id": 49,
           "trajectory": "Wolf Example",
           "upper": 0.7873044013977051
          },
          {
           "lower": 0.7873044013977051,
           "timepoint_id": 50,
           "trajectory": "Wolf Example",
           "upper": 0.7873044013977051
          },
          {
           "lower": 0.7873044013977051,
           "timepoint_id": 51,
           "trajectory": "Wolf Example",
           "upper": 0.7873044013977051
          },
          {
           "lower": 0.7873044013977051,
           "timepoint_id": 52,
           "trajectory": "Wolf Example",
           "upper": 0.7873044013977051
          },
          {
           "lower": 0.7873044013977051,
           "timepoint_id": 53,
           "trajectory": "Wolf Example",
           "upper": 0.7873044013977051
          },
          {
           "lower": 0.7873044013977051,
           "timepoint_id": 54,
           "trajectory": "Wolf Example",
           "upper": 0.7873044013977051
          },
          {
           "lower": 0.7873044013977051,
           "timepoint_id": 55,
           "trajectory": "Wolf Example",
           "upper": 0.7873044013977051
          },
          {
           "lower": 0.7873044013977051,
           "timepoint_id": 56,
           "trajectory": "Wolf Example",
           "upper": 0.7873044013977051
          },
          {
           "lower": 0.7873044013977051,
           "timepoint_id": 57,
           "trajectory": "Wolf Example",
           "upper": 0.7873044013977051
          },
          {
           "lower": 0.7873044013977051,
           "timepoint_id": 58,
           "trajectory": "Wolf Example",
           "upper": 0.7873044013977051
          },
          {
           "lower": 0.7873044013977051,
           "timepoint_id": 59,
           "trajectory": "Wolf Example",
           "upper": 0.7873044013977051
          },
          {
           "lower": 0.7873044013977051,
           "timepoint_id": 60,
           "trajectory": "Wolf Example",
           "upper": 0.7873044013977051
          },
          {
           "lower": 0.7873044013977051,
           "timepoint_id": 61,
           "trajectory": "Wolf Example",
           "upper": 0.7873044013977051
          },
          {
           "lower": 0.7873044013977051,
           "timepoint_id": 62,
           "trajectory": "Wolf Example",
           "upper": 0.7873044013977051
          },
          {
           "lower": 0.7873044013977051,
           "timepoint_id": 63,
           "trajectory": "Wolf Example",
           "upper": 0.7873044013977051
          },
          {
           "lower": 0.7873044013977051,
           "timepoint_id": 64,
           "trajectory": "Wolf Example",
           "upper": 0.7873044013977051
          },
          {
           "lower": 0.7873044013977051,
           "timepoint_id": 65,
           "trajectory": "Wolf Example",
           "upper": 0.7873044013977051
          },
          {
           "lower": 0.7873044013977051,
           "timepoint_id": 66,
           "trajectory": "Wolf Example",
           "upper": 0.7873044013977051
          },
          {
           "lower": 0.7873044013977051,
           "timepoint_id": 67,
           "trajectory": "Wolf Example",
           "upper": 0.7873044013977051
          },
          {
           "lower": 0.7873044013977051,
           "timepoint_id": 68,
           "trajectory": "Wolf Example",
           "upper": 0.7873044013977051
          },
          {
           "lower": 0.7873044013977051,
           "timepoint_id": 69,
           "trajectory": "Wolf Example",
           "upper": 0.7873044013977051
          },
          {
           "lower": 0.7873044013977051,
           "timepoint_id": 70,
           "trajectory": "Wolf Example",
           "upper": 0.7873044013977051
          },
          {
           "lower": 0.7873044013977051,
           "timepoint_id": 71,
           "trajectory": "Wolf Example",
           "upper": 0.7873044013977051
          },
          {
           "lower": 0.7873044013977051,
           "timepoint_id": 72,
           "trajectory": "Wolf Example",
           "upper": 0.7873044013977051
          },
          {
           "lower": 0.7873044013977051,
           "timepoint_id": 73,
           "trajectory": "Wolf Example",
           "upper": 0.7873044013977051
          },
          {
           "lower": 0.7873044013977051,
           "timepoint_id": 74,
           "trajectory": "Wolf Example",
           "upper": 0.7873044013977051
          },
          {
           "lower": 0.7873044013977051,
           "timepoint_id": 75,
           "trajectory": "Wolf Example",
           "upper": 0.7873044013977051
          },
          {
           "lower": 0.7873044013977051,
           "timepoint_id": 76,
           "trajectory": "Wolf Example",
           "upper": 0.7873044013977051
          },
          {
           "lower": 0.7873044013977051,
           "timepoint_id": 77,
           "trajectory": "Wolf Example",
           "upper": 0.7873044013977051
          },
          {
           "lower": 0.7873044013977051,
           "timepoint_id": 78,
           "trajectory": "Wolf Example",
           "upper": 0.7873044013977051
          },
          {
           "lower": 0.7873044013977051,
           "timepoint_id": 79,
           "trajectory": "Wolf Example",
           "upper": 0.7873044013977051
          },
          {
           "lower": 0.7873044013977051,
           "timepoint_id": 80,
           "trajectory": "Wolf Example",
           "upper": 0.7873044013977051
          },
          {
           "lower": 0.7873044013977051,
           "timepoint_id": 81,
           "trajectory": "Wolf Example",
           "upper": 0.7873044013977051
          },
          {
           "lower": 0.7873044013977051,
           "timepoint_id": 82,
           "trajectory": "Wolf Example",
           "upper": 0.7873044013977051
          },
          {
           "lower": 0.7873044013977051,
           "timepoint_id": 83,
           "trajectory": "Wolf Example",
           "upper": 0.7873044013977051
          },
          {
           "lower": 0.7873044013977051,
           "timepoint_id": 84,
           "trajectory": "Wolf Example",
           "upper": 0.7873044013977051
          },
          {
           "lower": 0.7873044013977051,
           "timepoint_id": 85,
           "trajectory": "Wolf Example",
           "upper": 0.7873044013977051
          },
          {
           "lower": 0.7873044013977051,
           "timepoint_id": 86,
           "trajectory": "Wolf Example",
           "upper": 0.7873044013977051
          },
          {
           "lower": 0.7873044013977051,
           "timepoint_id": 87,
           "trajectory": "Wolf Example",
           "upper": 0.7873044013977051
          },
          {
           "lower": 0.7873044013977051,
           "timepoint_id": 88,
           "trajectory": "Wolf Example",
           "upper": 0.7873044013977051
          },
          {
           "lower": 0.7873044013977051,
           "timepoint_id": 89,
           "trajectory": "Wolf Example",
           "upper": 0.7873044013977051
          },
          {
           "lower": 0.7873044013977051,
           "timepoint_id": 90,
           "trajectory": "Wolf Example",
           "upper": 0.7873044013977051
          },
          {
           "lower": 0.7873044013977051,
           "timepoint_id": 91,
           "trajectory": "Wolf Example",
           "upper": 0.7873044013977051
          },
          {
           "lower": 0.7873044013977051,
           "timepoint_id": 92,
           "trajectory": "Wolf Example",
           "upper": 0.7873044013977051
          },
          {
           "lower": 0.7873044013977051,
           "timepoint_id": 93,
           "trajectory": "Wolf Example",
           "upper": 0.7873044013977051
          },
          {
           "lower": 0.7873044013977051,
           "timepoint_id": 94,
           "trajectory": "Wolf Example",
           "upper": 0.7873044013977051
          },
          {
           "lower": 0.7873044013977051,
           "timepoint_id": 95,
           "trajectory": "Wolf Example",
           "upper": 0.7873044013977051
          },
          {
           "lower": 0.7873044013977051,
           "timepoint_id": 96,
           "trajectory": "Wolf Example",
           "upper": 0.7873044013977051
          },
          {
           "lower": 0.7873044013977051,
           "timepoint_id": 97,
           "trajectory": "Wolf Example",
           "upper": 0.7873044013977051
          },
          {
           "lower": 0.7873044013977051,
           "timepoint_id": 98,
           "trajectory": "Wolf Example",
           "upper": 0.7873044013977051
          },
          {
           "lower": 0.7873044013977051,
           "timepoint_id": 99,
           "trajectory": "Wolf Example",
           "upper": 0.7873044013977051
          },
          {
           "lower": 0.7873044013977051,
           "timepoint_id": 100,
           "trajectory": "Wolf Example",
           "upper": 0.7873044013977051
          },
          {
           "lower": 0.7873044013977051,
           "timepoint_id": 101,
           "trajectory": "Wolf Example",
           "upper": 0.7873044013977051
          },
          {
           "lower": 0.7873044013977051,
           "timepoint_id": 102,
           "trajectory": "Wolf Example",
           "upper": 0.7873044013977051
          },
          {
           "lower": 0.7873044013977051,
           "timepoint_id": 103,
           "trajectory": "Wolf Example",
           "upper": 0.7873044013977051
          },
          {
           "lower": 0.7873044013977051,
           "timepoint_id": 104,
           "trajectory": "Wolf Example",
           "upper": 0.7873044013977051
          },
          {
           "lower": 0.7873044013977051,
           "timepoint_id": 105,
           "trajectory": "Wolf Example",
           "upper": 0.7873044013977051
          },
          {
           "lower": 0.7873044013977051,
           "timepoint_id": 106,
           "trajectory": "Wolf Example",
           "upper": 0.7873044013977051
          },
          {
           "lower": 0.7873044013977051,
           "timepoint_id": 107,
           "trajectory": "Wolf Example",
           "upper": 0.7873044013977051
          },
          {
           "lower": 0.7873044013977051,
           "timepoint_id": 108,
           "trajectory": "Wolf Example",
           "upper": 0.7873044013977051
          },
          {
           "lower": 0.7873044013977051,
           "timepoint_id": 109,
           "trajectory": "Wolf Example",
           "upper": 0.7873044013977051
          },
          {
           "lower": 0.7873044013977051,
           "timepoint_id": 110,
           "trajectory": "Wolf Example",
           "upper": 0.7873044013977051
          },
          {
           "lower": 0.7873044013977051,
           "timepoint_id": 111,
           "trajectory": "Wolf Example",
           "upper": 0.7873044013977051
          },
          {
           "lower": 0.7873044013977051,
           "timepoint_id": 112,
           "trajectory": "Wolf Example",
           "upper": 0.7873044013977051
          },
          {
           "lower": 0.7873044013977051,
           "timepoint_id": 113,
           "trajectory": "Wolf Example",
           "upper": 0.7873044013977051
          },
          {
           "lower": 0.7873044013977051,
           "timepoint_id": 114,
           "trajectory": "Wolf Example",
           "upper": 0.7873044013977051
          },
          {
           "lower": 0.7873044013977051,
           "timepoint_id": 115,
           "trajectory": "Wolf Example",
           "upper": 0.7873044013977051
          },
          {
           "lower": 0.7873044013977051,
           "timepoint_id": 116,
           "trajectory": "Wolf Example",
           "upper": 0.7873044013977051
          },
          {
           "lower": 0.7873044013977051,
           "timepoint_id": 117,
           "trajectory": "Wolf Example",
           "upper": 0.7873044013977051
          },
          {
           "lower": 0.7873044013977051,
           "timepoint_id": 118,
           "trajectory": "Wolf Example",
           "upper": 0.7873044013977051
          },
          {
           "lower": 0.7873044013977051,
           "timepoint_id": 119,
           "trajectory": "Wolf Example",
           "upper": 0.7873044013977051
          },
          {
           "lower": 0.7873044013977051,
           "timepoint_id": 120,
           "trajectory": "Wolf Example",
           "upper": 0.7873044013977051
          },
          {
           "lower": 0.7873044013977051,
           "timepoint_id": 121,
           "trajectory": "Wolf Example",
           "upper": 0.7873044013977051
          },
          {
           "lower": 0.7873044013977051,
           "timepoint_id": 122,
           "trajectory": "Wolf Example",
           "upper": 0.7873044013977051
          },
          {
           "lower": 0.7873044013977051,
           "timepoint_id": 123,
           "trajectory": "Wolf Example",
           "upper": 0.7873044013977051
          },
          {
           "lower": 0.7873044013977051,
           "timepoint_id": 124,
           "trajectory": "Wolf Example",
           "upper": 0.7873044013977051
          },
          {
           "lower": 0.7873044013977051,
           "timepoint_id": 125,
           "trajectory": "Wolf Example",
           "upper": 0.7873044013977051
          },
          {
           "lower": 0.7873044013977051,
           "timepoint_id": 126,
           "trajectory": "Wolf Example",
           "upper": 0.7873044013977051
          },
          {
           "lower": 0.7873044013977051,
           "timepoint_id": 127,
           "trajectory": "Wolf Example",
           "upper": 0.7873044013977051
          },
          {
           "lower": 0.7873044013977051,
           "timepoint_id": 128,
           "trajectory": "Wolf Example",
           "upper": 0.7873044013977051
          },
          {
           "lower": 0.7873044013977051,
           "timepoint_id": 129,
           "trajectory": "Wolf Example",
           "upper": 0.7873044013977051
          },
          {
           "lower": 0.7873044013977051,
           "timepoint_id": 130,
           "trajectory": "Wolf Example",
           "upper": 0.7873044013977051
          },
          {
           "lower": 0.7873044013977051,
           "timepoint_id": 131,
           "trajectory": "Wolf Example",
           "upper": 0.7873044013977051
          },
          {
           "lower": 0.7873044013977051,
           "timepoint_id": 132,
           "trajectory": "Wolf Example",
           "upper": 0.7873044013977051
          },
          {
           "lower": 0.7873044013977051,
           "timepoint_id": 133,
           "trajectory": "Wolf Example",
           "upper": 0.7873044013977051
          },
          {
           "lower": 0.7873044013977051,
           "timepoint_id": 134,
           "trajectory": "Wolf Example",
           "upper": 0.7873044013977051
          },
          {
           "lower": 0.7873044013977051,
           "timepoint_id": 135,
           "trajectory": "Wolf Example",
           "upper": 0.7873044013977051
          },
          {
           "lower": 0.7873044013977051,
           "timepoint_id": 136,
           "trajectory": "Wolf Example",
           "upper": 0.7873044013977051
          },
          {
           "lower": 0.7873044013977051,
           "timepoint_id": 137,
           "trajectory": "Wolf Example",
           "upper": 0.7873044013977051
          },
          {
           "lower": 0.7873044013977051,
           "timepoint_id": 138,
           "trajectory": "Wolf Example",
           "upper": 0.7873044013977051
          },
          {
           "lower": 0.7873044013977051,
           "timepoint_id": 139,
           "trajectory": "Wolf Example",
           "upper": 0.7873044013977051
          },
          {
           "lower": 0.7873044013977051,
           "timepoint_id": 140,
           "trajectory": "Wolf Example",
           "upper": 0.7873044013977051
          },
          {
           "lower": 0.7873044013977051,
           "timepoint_id": 141,
           "trajectory": "Wolf Example",
           "upper": 0.7873044013977051
          },
          {
           "lower": 0.7873044013977051,
           "timepoint_id": 142,
           "trajectory": "Wolf Example",
           "upper": 0.7873044013977051
          },
          {
           "lower": 0.7873044013977051,
           "timepoint_id": 143,
           "trajectory": "Wolf Example",
           "upper": 0.7873044013977051
          },
          {
           "lower": 0.7873044013977051,
           "timepoint_id": 144,
           "trajectory": "Wolf Example",
           "upper": 0.7873044013977051
          },
          {
           "lower": 0.7873044013977051,
           "timepoint_id": 145,
           "trajectory": "Wolf Example",
           "upper": 0.7873044013977051
          },
          {
           "lower": 0.7873044013977051,
           "timepoint_id": 146,
           "trajectory": "Wolf Example",
           "upper": 0.7873044013977051
          },
          {
           "lower": 0.7873044013977051,
           "timepoint_id": 147,
           "trajectory": "Wolf Example",
           "upper": 0.7873044013977051
          },
          {
           "lower": 0.7873044013977051,
           "timepoint_id": 148,
           "trajectory": "Wolf Example",
           "upper": 0.7873044013977051
          },
          {
           "lower": 0.7873044013977051,
           "timepoint_id": 149,
           "trajectory": "Wolf Example",
           "upper": 0.7873044013977051
          },
          {
           "lower": 0.7873044013977051,
           "timepoint_id": 150,
           "trajectory": "Wolf Example",
           "upper": 0.7873044013977051
          },
          {
           "lower": 0.7873044013977051,
           "timepoint_id": 151,
           "trajectory": "Wolf Example",
           "upper": 0.7873044013977051
          },
          {
           "lower": 0.7873044013977051,
           "timepoint_id": 152,
           "trajectory": "Wolf Example",
           "upper": 0.7873044013977051
          },
          {
           "lower": 0.7873044013977051,
           "timepoint_id": 153,
           "trajectory": "Wolf Example",
           "upper": 0.7873044013977051
          },
          {
           "lower": 0.7873044013977051,
           "timepoint_id": 154,
           "trajectory": "Wolf Example",
           "upper": 0.7873044013977051
          },
          {
           "lower": 0.7873044013977051,
           "timepoint_id": 155,
           "trajectory": "Wolf Example",
           "upper": 0.7873044013977051
          },
          {
           "lower": 0.7873044013977051,
           "timepoint_id": 156,
           "trajectory": "Wolf Example",
           "upper": 0.7873044013977051
          },
          {
           "lower": 0.7873044013977051,
           "timepoint_id": 157,
           "trajectory": "Wolf Example",
           "upper": 0.7873044013977051
          },
          {
           "lower": 0.7873044013977051,
           "timepoint_id": 158,
           "trajectory": "Wolf Example",
           "upper": 0.7873044013977051
          },
          {
           "lower": 0.7873044013977051,
           "timepoint_id": 159,
           "trajectory": "Wolf Example",
           "upper": 0.7873044013977051
          },
          {
           "lower": 0.7873044013977051,
           "timepoint_id": 160,
           "trajectory": "Wolf Example",
           "upper": 0.7873044013977051
          },
          {
           "lower": 0.7873044013977051,
           "timepoint_id": 161,
           "trajectory": "Wolf Example",
           "upper": 0.7873044013977051
          },
          {
           "lower": 0.7873044013977051,
           "timepoint_id": 162,
           "trajectory": "Wolf Example",
           "upper": 0.7873044013977051
          },
          {
           "lower": 0.7873044013977051,
           "timepoint_id": 163,
           "trajectory": "Wolf Example",
           "upper": 0.7873044013977051
          },
          {
           "lower": 0.7873044013977051,
           "timepoint_id": 164,
           "trajectory": "Wolf Example",
           "upper": 0.7873044013977051
          },
          {
           "lower": 0.7873044013977051,
           "timepoint_id": 165,
           "trajectory": "Wolf Example",
           "upper": 0.7873044013977051
          },
          {
           "lower": 0.7873044013977051,
           "timepoint_id": 166,
           "trajectory": "Wolf Example",
           "upper": 0.7873044013977051
          },
          {
           "lower": 0.7873044013977051,
           "timepoint_id": 167,
           "trajectory": "Wolf Example",
           "upper": 0.7873044013977051
          },
          {
           "lower": 0.7873044013977051,
           "timepoint_id": 168,
           "trajectory": "Wolf Example",
           "upper": 0.7873044013977051
          },
          {
           "lower": 0.7873044013977051,
           "timepoint_id": 169,
           "trajectory": "Wolf Example",
           "upper": 0.7873044013977051
          },
          {
           "lower": 0.7873044013977051,
           "timepoint_id": 170,
           "trajectory": "Wolf Example",
           "upper": 0.7873044013977051
          },
          {
           "lower": 0.7873044013977051,
           "timepoint_id": 171,
           "trajectory": "Wolf Example",
           "upper": 0.7873044013977051
          },
          {
           "lower": 0.7873044013977051,
           "timepoint_id": 172,
           "trajectory": "Wolf Example",
           "upper": 0.7873044013977051
          },
          {
           "lower": 0.7873044013977051,
           "timepoint_id": 173,
           "trajectory": "Wolf Example",
           "upper": 0.7873044013977051
          },
          {
           "lower": 0.7873044013977051,
           "timepoint_id": 174,
           "trajectory": "Wolf Example",
           "upper": 0.7873044013977051
          },
          {
           "lower": 0.7873044013977051,
           "timepoint_id": 175,
           "trajectory": "Wolf Example",
           "upper": 0.7873044013977051
          },
          {
           "lower": 0.7873044013977051,
           "timepoint_id": 176,
           "trajectory": "Wolf Example",
           "upper": 0.7873044013977051
          },
          {
           "lower": 0.7873044013977051,
           "timepoint_id": 177,
           "trajectory": "Wolf Example",
           "upper": 0.7873044013977051
          },
          {
           "lower": 0.7873044013977051,
           "timepoint_id": 178,
           "trajectory": "Wolf Example",
           "upper": 0.7873044013977051
          },
          {
           "lower": 0.7873044013977051,
           "timepoint_id": 179,
           "trajectory": "Wolf Example",
           "upper": 0.7873044013977051
          },
          {
           "lower": 0.7873044013977051,
           "timepoint_id": 180,
           "trajectory": "Wolf Example",
           "upper": 0.7873044013977051
          },
          {
           "lower": 0.7873044013977051,
           "timepoint_id": 181,
           "trajectory": "Wolf Example",
           "upper": 0.7873044013977051
          },
          {
           "lower": 0.7873044013977051,
           "timepoint_id": 182,
           "trajectory": "Wolf Example",
           "upper": 0.7873044013977051
          },
          {
           "lower": 0.7873044013977051,
           "timepoint_id": 183,
           "trajectory": "Wolf Example",
           "upper": 0.7873044013977051
          },
          {
           "lower": 0.7873044013977051,
           "timepoint_id": 184,
           "trajectory": "Wolf Example",
           "upper": 0.7873044013977051
          },
          {
           "lower": 0.7873044013977051,
           "timepoint_id": 185,
           "trajectory": "Wolf Example",
           "upper": 0.7873044013977051
          },
          {
           "lower": 0.7873044013977051,
           "timepoint_id": 186,
           "trajectory": "Wolf Example",
           "upper": 0.7873044013977051
          },
          {
           "lower": 0.7873044013977051,
           "timepoint_id": 187,
           "trajectory": "Wolf Example",
           "upper": 0.7873044013977051
          },
          {
           "lower": 0.7873044013977051,
           "timepoint_id": 188,
           "trajectory": "Wolf Example",
           "upper": 0.7873044013977051
          },
          {
           "lower": 0.7873044013977051,
           "timepoint_id": 189,
           "trajectory": "Wolf Example",
           "upper": 0.7873044013977051
          },
          {
           "lower": 0.7873044013977051,
           "timepoint_id": 190,
           "trajectory": "Wolf Example",
           "upper": 0.7873044013977051
          },
          {
           "lower": 0.7873044013977051,
           "timepoint_id": 191,
           "trajectory": "Wolf Example",
           "upper": 0.7873044013977051
          },
          {
           "lower": 0.7873044013977051,
           "timepoint_id": 192,
           "trajectory": "Wolf Example",
           "upper": 0.7873044013977051
          },
          {
           "lower": 0.7873044013977051,
           "timepoint_id": 193,
           "trajectory": "Wolf Example",
           "upper": 0.7873044013977051
          },
          {
           "lower": 0.7873044013977051,
           "timepoint_id": 194,
           "trajectory": "Wolf Example",
           "upper": 0.7873044013977051
          },
          {
           "lower": 0.7873044013977051,
           "timepoint_id": 195,
           "trajectory": "Wolf Example",
           "upper": 0.7873044013977051
          },
          {
           "lower": 0.7873044013977051,
           "timepoint_id": 196,
           "trajectory": "Wolf Example",
           "upper": 0.7873044013977051
          },
          {
           "lower": 0.7873044013977051,
           "timepoint_id": 197,
           "trajectory": "Wolf Example",
           "upper": 0.7873044013977051
          },
          {
           "lower": 0.7873044013977051,
           "timepoint_id": 198,
           "trajectory": "Wolf Example",
           "upper": 0.7873044013977051
          },
          {
           "lower": 0.7873044013977051,
           "timepoint_id": 199,
           "trajectory": "Wolf Example",
           "upper": 0.7873044013977051
          },
          {
           "lower": 0.7873044013977051,
           "timepoint_id": 200,
           "trajectory": "Wolf Example",
           "upper": 0.7873044013977051
          },
          {
           "lower": 0.7873044013977051,
           "timepoint_id": 201,
           "trajectory": "Wolf Example",
           "upper": 0.7873044013977051
          },
          {
           "lower": 0.7873044013977051,
           "timepoint_id": 202,
           "trajectory": "Wolf Example",
           "upper": 0.7873044013977051
          },
          {
           "lower": 0.7873044013977051,
           "timepoint_id": 203,
           "trajectory": "Wolf Example",
           "upper": 0.7873044013977051
          },
          {
           "lower": 0.7873044013977051,
           "timepoint_id": 204,
           "trajectory": "Wolf Example",
           "upper": 0.7873044013977051
          },
          {
           "lower": 0.7873044013977051,
           "timepoint_id": 205,
           "trajectory": "Wolf Example",
           "upper": 0.7873044013977051
          },
          {
           "lower": 0.7873044013977051,
           "timepoint_id": 206,
           "trajectory": "Wolf Example",
           "upper": 0.7873044013977051
          },
          {
           "lower": 0.7873044013977051,
           "timepoint_id": 207,
           "trajectory": "Wolf Example",
           "upper": 0.7873044013977051
          },
          {
           "lower": 0.7873044013977051,
           "timepoint_id": 208,
           "trajectory": "Wolf Example",
           "upper": 0.7873044013977051
          },
          {
           "lower": 0.7873044013977051,
           "timepoint_id": 209,
           "trajectory": "Wolf Example",
           "upper": 0.7873044013977051
          },
          {
           "lower": 0.7873044013977051,
           "timepoint_id": 210,
           "trajectory": "Wolf Example",
           "upper": 0.7873044013977051
          },
          {
           "lower": 0.7873044013977051,
           "timepoint_id": 211,
           "trajectory": "Wolf Example",
           "upper": 0.7873044013977051
          },
          {
           "lower": 0.7873044013977051,
           "timepoint_id": 212,
           "trajectory": "Wolf Example",
           "upper": 0.7873044013977051
          },
          {
           "lower": 0.7873044013977051,
           "timepoint_id": 213,
           "trajectory": "Wolf Example",
           "upper": 0.7873044013977051
          },
          {
           "lower": 0.7873044013977051,
           "timepoint_id": 214,
           "trajectory": "Wolf Example",
           "upper": 0.7873044013977051
          },
          {
           "lower": 0.7873044013977051,
           "timepoint_id": 215,
           "trajectory": "Wolf Example",
           "upper": 0.7873044013977051
          },
          {
           "lower": 0.7873044013977051,
           "timepoint_id": 216,
           "trajectory": "Wolf Example",
           "upper": 0.7873044013977051
          },
          {
           "lower": 0.7873044013977051,
           "timepoint_id": 217,
           "trajectory": "Wolf Example",
           "upper": 0.7873044013977051
          },
          {
           "lower": 0.7873044013977051,
           "timepoint_id": 218,
           "trajectory": "Wolf Example",
           "upper": 0.7873044013977051
          },
          {
           "lower": 0.7873044013977051,
           "timepoint_id": 219,
           "trajectory": "Wolf Example",
           "upper": 0.7873044013977051
          },
          {
           "lower": 0.7873044013977051,
           "timepoint_id": 220,
           "trajectory": "Wolf Example",
           "upper": 0.7873044013977051
          },
          {
           "lower": 0.7873044013977051,
           "timepoint_id": 221,
           "trajectory": "Wolf Example",
           "upper": 0.7873044013977051
          },
          {
           "lower": 0.7873044013977051,
           "timepoint_id": 222,
           "trajectory": "Wolf Example",
           "upper": 0.7873044013977051
          },
          {
           "lower": 0.7873044013977051,
           "timepoint_id": 223,
           "trajectory": "Wolf Example",
           "upper": 0.7873044013977051
          },
          {
           "lower": 0.7873044013977051,
           "timepoint_id": 224,
           "trajectory": "Wolf Example",
           "upper": 0.7873044013977051
          },
          {
           "lower": 0.7873044013977051,
           "timepoint_id": 225,
           "trajectory": "Wolf Example",
           "upper": 0.7873044013977051
          },
          {
           "lower": 0.7873044013977051,
           "timepoint_id": 226,
           "trajectory": "Wolf Example",
           "upper": 0.7873044013977051
          },
          {
           "lower": 0.7873044013977051,
           "timepoint_id": 227,
           "trajectory": "Wolf Example",
           "upper": 0.7873044013977051
          },
          {
           "lower": 0.7873044013977051,
           "timepoint_id": 228,
           "trajectory": "Wolf Example",
           "upper": 0.7873044013977051
          },
          {
           "lower": 0.7873044013977051,
           "timepoint_id": 229,
           "trajectory": "Wolf Example",
           "upper": 0.7873044013977051
          },
          {
           "lower": 0.7873044013977051,
           "timepoint_id": 230,
           "trajectory": "Wolf Example",
           "upper": 0.7873044013977051
          },
          {
           "lower": 0.7873044013977051,
           "timepoint_id": 231,
           "trajectory": "Wolf Example",
           "upper": 0.7873044013977051
          },
          {
           "lower": 0.7873044013977051,
           "timepoint_id": 232,
           "trajectory": "Wolf Example",
           "upper": 0.7873044013977051
          },
          {
           "lower": 0.7873044013977051,
           "timepoint_id": 233,
           "trajectory": "Wolf Example",
           "upper": 0.7873044013977051
          },
          {
           "lower": 0.7873044013977051,
           "timepoint_id": 234,
           "trajectory": "Wolf Example",
           "upper": 0.7873044013977051
          },
          {
           "lower": 0.7873044013977051,
           "timepoint_id": 235,
           "trajectory": "Wolf Example",
           "upper": 0.7873044013977051
          },
          {
           "lower": 0.7873044013977051,
           "timepoint_id": 236,
           "trajectory": "Wolf Example",
           "upper": 0.7873044013977051
          },
          {
           "lower": 0.7873044013977051,
           "timepoint_id": 237,
           "trajectory": "Wolf Example",
           "upper": 0.7873044013977051
          },
          {
           "lower": 0.7873044013977051,
           "timepoint_id": 238,
           "trajectory": "Wolf Example",
           "upper": 0.7873044013977051
          },
          {
           "lower": 0.7873044013977051,
           "timepoint_id": 239,
           "trajectory": "Wolf Example",
           "upper": 0.7873044013977051
          },
          {
           "lower": 0.7873044013977051,
           "timepoint_id": 240,
           "trajectory": "Wolf Example",
           "upper": 0.7873044013977051
          },
          {
           "lower": 0.7873044013977051,
           "timepoint_id": 241,
           "trajectory": "Wolf Example",
           "upper": 0.7873044013977051
          },
          {
           "lower": 0.7873044013977051,
           "timepoint_id": 242,
           "trajectory": "Wolf Example",
           "upper": 0.7873044013977051
          },
          {
           "lower": 0.7873044013977051,
           "timepoint_id": 243,
           "trajectory": "Wolf Example",
           "upper": 0.7873044013977051
          },
          {
           "lower": 0.7873044013977051,
           "timepoint_id": 244,
           "trajectory": "Wolf Example",
           "upper": 0.7873044013977051
          },
          {
           "lower": 0.7873044013977051,
           "timepoint_id": 245,
           "trajectory": "Wolf Example",
           "upper": 0.7873044013977051
          },
          {
           "lower": 0.7873044013977051,
           "timepoint_id": 246,
           "trajectory": "Wolf Example",
           "upper": 0.7873044013977051
          },
          {
           "lower": 0.7873044013977051,
           "timepoint_id": 247,
           "trajectory": "Wolf Example",
           "upper": 0.7873044013977051
          },
          {
           "lower": 0.7873044013977051,
           "timepoint_id": 248,
           "trajectory": "Wolf Example",
           "upper": 0.7873044013977051
          },
          {
           "lower": 0.7873044013977051,
           "timepoint_id": 249,
           "trajectory": "Wolf Example",
           "upper": 0.7873044013977051
          },
          {
           "lower": 0.7873044013977051,
           "timepoint_id": 250,
           "trajectory": "Wolf Example",
           "upper": 0.7873044013977051
          },
          {
           "lower": 0.7873044013977051,
           "timepoint_id": 251,
           "trajectory": "Wolf Example",
           "upper": 0.7873044013977051
          },
          {
           "lower": 0.7873044013977051,
           "timepoint_id": 252,
           "trajectory": "Wolf Example",
           "upper": 0.7873044013977051
          },
          {
           "lower": 0.7873044013977051,
           "timepoint_id": 253,
           "trajectory": "Wolf Example",
           "upper": 0.7873044013977051
          },
          {
           "lower": 0.7873044013977051,
           "timepoint_id": 254,
           "trajectory": "Wolf Example",
           "upper": 0.7873044013977051
          },
          {
           "lower": 0.7873044013977051,
           "timepoint_id": 255,
           "trajectory": "Wolf Example",
           "upper": 0.7873044013977051
          },
          {
           "lower": 0.7873044013977051,
           "timepoint_id": 256,
           "trajectory": "Wolf Example",
           "upper": 0.7873044013977051
          },
          {
           "lower": 0.7873044013977051,
           "timepoint_id": 257,
           "trajectory": "Wolf Example",
           "upper": 0.7873044013977051
          },
          {
           "lower": 0.7873044013977051,
           "timepoint_id": 258,
           "trajectory": "Wolf Example",
           "upper": 0.7873044013977051
          },
          {
           "lower": 0.7873044013977051,
           "timepoint_id": 259,
           "trajectory": "Wolf Example",
           "upper": 0.7873044013977051
          },
          {
           "lower": 0.7873044013977051,
           "timepoint_id": 260,
           "trajectory": "Wolf Example",
           "upper": 0.7873044013977051
          },
          {
           "lower": 0.7873044013977051,
           "timepoint_id": 261,
           "trajectory": "Wolf Example",
           "upper": 0.7873044013977051
          },
          {
           "lower": 0.7873044013977051,
           "timepoint_id": 262,
           "trajectory": "Wolf Example",
           "upper": 0.7873044013977051
          },
          {
           "lower": 0.7873044013977051,
           "timepoint_id": 263,
           "trajectory": "Wolf Example",
           "upper": 0.7873044013977051
          },
          {
           "lower": 0.7873044013977051,
           "timepoint_id": 264,
           "trajectory": "Wolf Example",
           "upper": 0.7873044013977051
          },
          {
           "lower": 0.7873044013977051,
           "timepoint_id": 265,
           "trajectory": "Wolf Example",
           "upper": 0.7873044013977051
          },
          {
           "lower": 0.7873044013977051,
           "timepoint_id": 266,
           "trajectory": "Wolf Example",
           "upper": 0.7873044013977051
          },
          {
           "lower": 0.7873044013977051,
           "timepoint_id": 267,
           "trajectory": "Wolf Example",
           "upper": 0.7873044013977051
          },
          {
           "lower": 0.7873044013977051,
           "timepoint_id": 268,
           "trajectory": "Wolf Example",
           "upper": 0.7873044013977051
          },
          {
           "lower": 0.7873044013977051,
           "timepoint_id": 269,
           "trajectory": "Wolf Example",
           "upper": 0.7873044013977051
          },
          {
           "lower": 0.7873044013977051,
           "timepoint_id": 270,
           "trajectory": "Wolf Example",
           "upper": 0.7873044013977051
          },
          {
           "lower": 0.7873044013977051,
           "timepoint_id": 271,
           "trajectory": "Wolf Example",
           "upper": 0.7873044013977051
          },
          {
           "lower": 0.7873044013977051,
           "timepoint_id": 272,
           "trajectory": "Wolf Example",
           "upper": 0.7873044013977051
          },
          {
           "lower": 0.7873044013977051,
           "timepoint_id": 273,
           "trajectory": "Wolf Example",
           "upper": 0.7873044013977051
          },
          {
           "lower": 0.7873044013977051,
           "timepoint_id": 274,
           "trajectory": "Wolf Example",
           "upper": 0.7873044013977051
          },
          {
           "lower": 0.7873044013977051,
           "timepoint_id": 275,
           "trajectory": "Wolf Example",
           "upper": 0.7873044013977051
          },
          {
           "lower": 0.7873044013977051,
           "timepoint_id": 276,
           "trajectory": "Wolf Example",
           "upper": 0.7873044013977051
          },
          {
           "lower": 0.7873044013977051,
           "timepoint_id": 277,
           "trajectory": "Wolf Example",
           "upper": 0.7873044013977051
          },
          {
           "lower": 0.7873044013977051,
           "timepoint_id": 278,
           "trajectory": "Wolf Example",
           "upper": 0.7873044013977051
          },
          {
           "lower": 0.7873044013977051,
           "timepoint_id": 279,
           "trajectory": "Wolf Example",
           "upper": 0.7873044013977051
          },
          {
           "lower": 0.7873044013977051,
           "timepoint_id": 280,
           "trajectory": "Wolf Example",
           "upper": 0.7873044013977051
          },
          {
           "lower": 0.7873044013977051,
           "timepoint_id": 281,
           "trajectory": "Wolf Example",
           "upper": 0.7873044013977051
          },
          {
           "lower": 0.7873044013977051,
           "timepoint_id": 282,
           "trajectory": "Wolf Example",
           "upper": 0.7873044013977051
          },
          {
           "lower": 0.7873044013977051,
           "timepoint_id": 283,
           "trajectory": "Wolf Example",
           "upper": 0.7873044013977051
          },
          {
           "lower": 0.7873044013977051,
           "timepoint_id": 284,
           "trajectory": "Wolf Example",
           "upper": 0.7873044013977051
          },
          {
           "lower": 0.7873044013977051,
           "timepoint_id": 285,
           "trajectory": "Wolf Example",
           "upper": 0.7873044013977051
          },
          {
           "lower": 0.7873044013977051,
           "timepoint_id": 286,
           "trajectory": "Wolf Example",
           "upper": 0.7873044013977051
          },
          {
           "lower": 0.7873044013977051,
           "timepoint_id": 287,
           "trajectory": "Wolf Example",
           "upper": 0.7873044013977051
          },
          {
           "lower": 0.7873044013977051,
           "timepoint_id": 288,
           "trajectory": "Wolf Example",
           "upper": 0.7873044013977051
          },
          {
           "lower": 0.7873044013977051,
           "timepoint_id": 289,
           "trajectory": "Wolf Example",
           "upper": 0.7873044013977051
          },
          {
           "lower": 0.7873044013977051,
           "timepoint_id": 290,
           "trajectory": "Wolf Example",
           "upper": 0.7873044013977051
          },
          {
           "lower": 0.7873044013977051,
           "timepoint_id": 291,
           "trajectory": "Wolf Example",
           "upper": 0.7873044013977051
          },
          {
           "lower": 0.7873044013977051,
           "timepoint_id": 292,
           "trajectory": "Wolf Example",
           "upper": 0.7873044013977051
          },
          {
           "lower": 0.7873044013977051,
           "timepoint_id": 293,
           "trajectory": "Wolf Example",
           "upper": 0.7873044013977051
          },
          {
           "lower": 0.7873044013977051,
           "timepoint_id": 294,
           "trajectory": "Wolf Example",
           "upper": 0.7873044013977051
          },
          {
           "lower": 0.7873044013977051,
           "timepoint_id": 295,
           "trajectory": "Wolf Example",
           "upper": 0.7873044013977051
          },
          {
           "lower": 0.7873044013977051,
           "timepoint_id": 296,
           "trajectory": "Wolf Example",
           "upper": 0.7873044013977051
          },
          {
           "lower": 0.7873044013977051,
           "timepoint_id": 297,
           "trajectory": "Wolf Example",
           "upper": 0.7873044013977051
          },
          {
           "lower": 0.7873044013977051,
           "timepoint_id": 298,
           "trajectory": "Wolf Example",
           "upper": 0.7873044013977051
          },
          {
           "lower": 0.7873044013977051,
           "timepoint_id": 299,
           "trajectory": "Wolf Example",
           "upper": 0.7873044013977051
          },
          {
           "lower": 0.7873044013977051,
           "timepoint_id": 300,
           "trajectory": "Wolf Example",
           "upper": 0.7873044013977051
          },
          {
           "lower": 0.7873044013977051,
           "timepoint_id": 301,
           "trajectory": "Wolf Example",
           "upper": 0.7873044013977051
          },
          {
           "lower": 0.7873044013977051,
           "timepoint_id": 302,
           "trajectory": "Wolf Example",
           "upper": 0.7873044013977051
          },
          {
           "lower": 0.7873044013977051,
           "timepoint_id": 303,
           "trajectory": "Wolf Example",
           "upper": 0.7873044013977051
          },
          {
           "lower": 0.7873044013977051,
           "timepoint_id": 304,
           "trajectory": "Wolf Example",
           "upper": 0.7873044013977051
          },
          {
           "lower": 0.7873044013977051,
           "timepoint_id": 305,
           "trajectory": "Wolf Example",
           "upper": 0.7873044013977051
          },
          {
           "lower": 0.7873044013977051,
           "timepoint_id": 306,
           "trajectory": "Wolf Example",
           "upper": 0.7873044013977051
          },
          {
           "lower": 0.7873044013977051,
           "timepoint_id": 307,
           "trajectory": "Wolf Example",
           "upper": 0.7873044013977051
          },
          {
           "lower": 0.7873044013977051,
           "timepoint_id": 308,
           "trajectory": "Wolf Example",
           "upper": 0.7873044013977051
          },
          {
           "lower": 0.7873044013977051,
           "timepoint_id": 309,
           "trajectory": "Wolf Example",
           "upper": 0.7873044013977051
          },
          {
           "lower": 0.7873044013977051,
           "timepoint_id": 310,
           "trajectory": "Wolf Example",
           "upper": 0.7873044013977051
          },
          {
           "lower": 0.7873044013977051,
           "timepoint_id": 311,
           "trajectory": "Wolf Example",
           "upper": 0.7873044013977051
          },
          {
           "lower": 0.7873044013977051,
           "timepoint_id": 312,
           "trajectory": "Wolf Example",
           "upper": 0.7873044013977051
          },
          {
           "lower": 0.7873044013977051,
           "timepoint_id": 313,
           "trajectory": "Wolf Example",
           "upper": 0.7873044013977051
          },
          {
           "lower": 0.7873044013977051,
           "timepoint_id": 314,
           "trajectory": "Wolf Example",
           "upper": 0.7873044013977051
          },
          {
           "lower": 0.7873044013977051,
           "timepoint_id": 315,
           "trajectory": "Wolf Example",
           "upper": 0.7873044013977051
          },
          {
           "lower": 0.7873044013977051,
           "timepoint_id": 316,
           "trajectory": "Wolf Example",
           "upper": 0.7873044013977051
          },
          {
           "lower": 0.7873044013977051,
           "timepoint_id": 317,
           "trajectory": "Wolf Example",
           "upper": 0.7873044013977051
          },
          {
           "lower": 0.7873044013977051,
           "timepoint_id": 318,
           "trajectory": "Wolf Example",
           "upper": 0.7873044013977051
          },
          {
           "lower": 0.7873044013977051,
           "timepoint_id": 319,
           "trajectory": "Wolf Example",
           "upper": 0.7873044013977051
          },
          {
           "lower": 0.7873044013977051,
           "timepoint_id": 320,
           "trajectory": "Wolf Example",
           "upper": 0.7873044013977051
          },
          {
           "lower": 0.7873044013977051,
           "timepoint_id": 321,
           "trajectory": "Wolf Example",
           "upper": 0.7873044013977051
          },
          {
           "lower": 0.7873044013977051,
           "timepoint_id": 322,
           "trajectory": "Wolf Example",
           "upper": 0.7873044013977051
          },
          {
           "lower": 0.7873044013977051,
           "timepoint_id": 323,
           "trajectory": "Wolf Example",
           "upper": 0.7873044013977051
          },
          {
           "lower": 0.7873044013977051,
           "timepoint_id": 324,
           "trajectory": "Wolf Example",
           "upper": 0.7873044013977051
          },
          {
           "lower": 0.7873044013977051,
           "timepoint_id": 325,
           "trajectory": "Wolf Example",
           "upper": 0.7873044013977051
          },
          {
           "lower": 0.7873044013977051,
           "timepoint_id": 326,
           "trajectory": "Wolf Example",
           "upper": 0.7873044013977051
          },
          {
           "lower": 0.7873044013977051,
           "timepoint_id": 327,
           "trajectory": "Wolf Example",
           "upper": 0.7873044013977051
          },
          {
           "lower": 0.7873044013977051,
           "timepoint_id": 328,
           "trajectory": "Wolf Example",
           "upper": 0.7873044013977051
          },
          {
           "lower": 0.7873044013977051,
           "timepoint_id": 329,
           "trajectory": "Wolf Example",
           "upper": 0.7873044013977051
          },
          {
           "lower": 0.7873044013977051,
           "timepoint_id": 330,
           "trajectory": "Wolf Example",
           "upper": 0.7873044013977051
          },
          {
           "lower": 0.7873044013977051,
           "timepoint_id": 331,
           "trajectory": "Wolf Example",
           "upper": 0.7873044013977051
          },
          {
           "lower": 0.7873044013977051,
           "timepoint_id": 332,
           "trajectory": "Wolf Example",
           "upper": 0.7873044013977051
          },
          {
           "lower": 0.7873044013977051,
           "timepoint_id": 333,
           "trajectory": "Wolf Example",
           "upper": 0.7873044013977051
          },
          {
           "lower": 0.7873044013977051,
           "timepoint_id": 334,
           "trajectory": "Wolf Example",
           "upper": 0.7873044013977051
          },
          {
           "lower": 0.7873044013977051,
           "timepoint_id": 335,
           "trajectory": "Wolf Example",
           "upper": 0.7873044013977051
          },
          {
           "lower": 0.7873044013977051,
           "timepoint_id": 336,
           "trajectory": "Wolf Example",
           "upper": 0.7873044013977051
          },
          {
           "lower": 0.7873044013977051,
           "timepoint_id": 337,
           "trajectory": "Wolf Example",
           "upper": 0.7873044013977051
          },
          {
           "lower": 0.7873044013977051,
           "timepoint_id": 338,
           "trajectory": "Wolf Example",
           "upper": 0.7873044013977051
          },
          {
           "lower": 0.7873044013977051,
           "timepoint_id": 339,
           "trajectory": "Wolf Example",
           "upper": 0.7873044013977051
          },
          {
           "lower": 0.7873044013977051,
           "timepoint_id": 340,
           "trajectory": "Wolf Example",
           "upper": 0.7873044013977051
          },
          {
           "lower": 0.7873044013977051,
           "timepoint_id": 341,
           "trajectory": "Wolf Example",
           "upper": 0.7873044013977051
          },
          {
           "lower": 0.7873044013977051,
           "timepoint_id": 342,
           "trajectory": "Wolf Example",
           "upper": 0.7873044013977051
          },
          {
           "lower": 0.7873044013977051,
           "timepoint_id": 343,
           "trajectory": "Wolf Example",
           "upper": 0.7873044013977051
          },
          {
           "lower": 0.7873044013977051,
           "timepoint_id": 344,
           "trajectory": "Wolf Example",
           "upper": 0.7873044013977051
          },
          {
           "lower": 0.7873044013977051,
           "timepoint_id": 345,
           "trajectory": "Wolf Example",
           "upper": 0.7873044013977051
          },
          {
           "lower": 0.7873044013977051,
           "timepoint_id": 346,
           "trajectory": "Wolf Example",
           "upper": 0.7873044013977051
          },
          {
           "lower": 0.7873044013977051,
           "timepoint_id": 347,
           "trajectory": "Wolf Example",
           "upper": 0.7873044013977051
          },
          {
           "lower": 0.7873044013977051,
           "timepoint_id": 348,
           "trajectory": "Wolf Example",
           "upper": 0.7873044013977051
          },
          {
           "lower": 0.7873044013977051,
           "timepoint_id": 349,
           "trajectory": "Wolf Example",
           "upper": 0.7873044013977051
          },
          {
           "lower": 0.7873044013977051,
           "timepoint_id": 350,
           "trajectory": "Wolf Example",
           "upper": 0.7873044013977051
          },
          {
           "lower": 0.7873044013977051,
           "timepoint_id": 351,
           "trajectory": "Wolf Example",
           "upper": 0.7873044013977051
          },
          {
           "lower": 0.7873044013977051,
           "timepoint_id": 352,
           "trajectory": "Wolf Example",
           "upper": 0.7873044013977051
          },
          {
           "lower": 0.7873044013977051,
           "timepoint_id": 353,
           "trajectory": "Wolf Example",
           "upper": 0.7873044013977051
          },
          {
           "lower": 0.7873044013977051,
           "timepoint_id": 354,
           "trajectory": "Wolf Example",
           "upper": 0.7873044013977051
          },
          {
           "lower": 0.7873044013977051,
           "timepoint_id": 355,
           "trajectory": "Wolf Example",
           "upper": 0.7873044013977051
          },
          {
           "lower": 0.7873044013977051,
           "timepoint_id": 356,
           "trajectory": "Wolf Example",
           "upper": 0.7873044013977051
          },
          {
           "lower": 0.7873044013977051,
           "timepoint_id": 357,
           "trajectory": "Wolf Example",
           "upper": 0.7873044013977051
          },
          {
           "lower": 0.7873044013977051,
           "timepoint_id": 358,
           "trajectory": "Wolf Example",
           "upper": 0.7873044013977051
          },
          {
           "lower": 0.7873044013977051,
           "timepoint_id": 359,
           "trajectory": "Wolf Example",
           "upper": 0.7873044013977051
          },
          {
           "lower": 0.7873044013977051,
           "timepoint_id": 360,
           "trajectory": "Wolf Example",
           "upper": 0.7873044013977051
          },
          {
           "lower": 0.7873044013977051,
           "timepoint_id": 361,
           "trajectory": "Wolf Example",
           "upper": 0.7873044013977051
          },
          {
           "lower": 0.7873044013977051,
           "timepoint_id": 362,
           "trajectory": "Wolf Example",
           "upper": 0.7873044013977051
          },
          {
           "lower": 0.7873044013977051,
           "timepoint_id": 363,
           "trajectory": "Wolf Example",
           "upper": 0.7873044013977051
          },
          {
           "lower": 0.7873044013977051,
           "timepoint_id": 364,
           "trajectory": "Wolf Example",
           "upper": 0.7873044013977051
          },
          {
           "lower": 0.7873044013977051,
           "timepoint_id": 365,
           "trajectory": "Wolf Example",
           "upper": 0.7873044013977051
          },
          {
           "lower": 0.7873044013977051,
           "timepoint_id": 366,
           "trajectory": "Wolf Example",
           "upper": 0.7873044013977051
          },
          {
           "lower": 0.7873044013977051,
           "timepoint_id": 367,
           "trajectory": "Wolf Example",
           "upper": 0.7873044013977051
          },
          {
           "lower": 0.7873044013977051,
           "timepoint_id": 368,
           "trajectory": "Wolf Example",
           "upper": 0.7873044013977051
          },
          {
           "lower": 0.7873044013977051,
           "timepoint_id": 369,
           "trajectory": "Wolf Example",
           "upper": 0.7873044013977051
          },
          {
           "lower": 0.7873044013977051,
           "timepoint_id": 370,
           "trajectory": "Wolf Example",
           "upper": 0.7873044013977051
          },
          {
           "lower": 0.7873044013977051,
           "timepoint_id": 371,
           "trajectory": "Wolf Example",
           "upper": 0.7873044013977051
          },
          {
           "lower": 0.7873044013977051,
           "timepoint_id": 372,
           "trajectory": "Wolf Example",
           "upper": 0.7873044013977051
          },
          {
           "lower": 0.7873044013977051,
           "timepoint_id": 373,
           "trajectory": "Wolf Example",
           "upper": 0.7873044013977051
          },
          {
           "lower": 0.7873044013977051,
           "timepoint_id": 374,
           "trajectory": "Wolf Example",
           "upper": 0.7873044013977051
          },
          {
           "lower": 0.7873044013977051,
           "timepoint_id": 375,
           "trajectory": "Wolf Example",
           "upper": 0.7873044013977051
          },
          {
           "lower": 0.7873044013977051,
           "timepoint_id": 376,
           "trajectory": "Wolf Example",
           "upper": 0.7873044013977051
          },
          {
           "lower": 0.7873044013977051,
           "timepoint_id": 377,
           "trajectory": "Wolf Example",
           "upper": 0.7873044013977051
          },
          {
           "lower": 0.7873044013977051,
           "timepoint_id": 378,
           "trajectory": "Wolf Example",
           "upper": 0.7873044013977051
          },
          {
           "lower": 0.7873044013977051,
           "timepoint_id": 379,
           "trajectory": "Wolf Example",
           "upper": 0.7873044013977051
          },
          {
           "lower": 0.7873044013977051,
           "timepoint_id": 380,
           "trajectory": "Wolf Example",
           "upper": 0.7873044013977051
          },
          {
           "lower": 0.7873044013977051,
           "timepoint_id": 381,
           "trajectory": "Wolf Example",
           "upper": 0.7873044013977051
          },
          {
           "lower": 0.7873044013977051,
           "timepoint_id": 382,
           "trajectory": "Wolf Example",
           "upper": 0.7873044013977051
          },
          {
           "lower": 0.7873044013977051,
           "timepoint_id": 383,
           "trajectory": "Wolf Example",
           "upper": 0.7873044013977051
          },
          {
           "lower": 0.7873044013977051,
           "timepoint_id": 384,
           "trajectory": "Wolf Example",
           "upper": 0.7873044013977051
          },
          {
           "lower": 0.7873044013977051,
           "timepoint_id": 385,
           "trajectory": "Wolf Example",
           "upper": 0.7873044013977051
          },
          {
           "lower": 0.7873044013977051,
           "timepoint_id": 386,
           "trajectory": "Wolf Example",
           "upper": 0.7873044013977051
          },
          {
           "lower": 0.7873044013977051,
           "timepoint_id": 387,
           "trajectory": "Wolf Example",
           "upper": 0.7873044013977051
          },
          {
           "lower": 0.7873044013977051,
           "timepoint_id": 388,
           "trajectory": "Wolf Example",
           "upper": 0.7873044013977051
          },
          {
           "lower": 0.7873044013977051,
           "timepoint_id": 389,
           "trajectory": "Wolf Example",
           "upper": 0.7873044013977051
          },
          {
           "lower": 0.7873044013977051,
           "timepoint_id": 390,
           "trajectory": "Wolf Example",
           "upper": 0.7873044013977051
          },
          {
           "lower": 0.7873044013977051,
           "timepoint_id": 391,
           "trajectory": "Wolf Example",
           "upper": 0.7873044013977051
          },
          {
           "lower": 0.7873044013977051,
           "timepoint_id": 392,
           "trajectory": "Wolf Example",
           "upper": 0.7873044013977051
          },
          {
           "lower": 0.7873044013977051,
           "timepoint_id": 393,
           "trajectory": "Wolf Example",
           "upper": 0.7873044013977051
          },
          {
           "lower": 0.7873044013977051,
           "timepoint_id": 394,
           "trajectory": "Wolf Example",
           "upper": 0.7873044013977051
          },
          {
           "lower": 0.7873044013977051,
           "timepoint_id": 395,
           "trajectory": "Wolf Example",
           "upper": 0.7873044013977051
          },
          {
           "lower": 0.7873044013977051,
           "timepoint_id": 396,
           "trajectory": "Wolf Example",
           "upper": 0.7873044013977051
          },
          {
           "lower": 0.7873044013977051,
           "timepoint_id": 397,
           "trajectory": "Wolf Example",
           "upper": 0.7873044013977051
          },
          {
           "lower": 0.7873044013977051,
           "timepoint_id": 398,
           "trajectory": "Wolf Example",
           "upper": 0.7873044013977051
          },
          {
           "lower": 0.7873044013977051,
           "timepoint_id": 399,
           "trajectory": "Wolf Example",
           "upper": 0.7873044013977051
          },
          {
           "lower": 0.7873044013977051,
           "timepoint_id": 400,
           "trajectory": "Wolf Example",
           "upper": 0.7873044013977051
          },
          {
           "lower": 0.7873044013977051,
           "timepoint_id": 401,
           "trajectory": "Wolf Example",
           "upper": 0.7873044013977051
          },
          {
           "lower": 0.7873044013977051,
           "timepoint_id": 402,
           "trajectory": "Wolf Example",
           "upper": 0.7873044013977051
          },
          {
           "lower": 0.7873044013977051,
           "timepoint_id": 403,
           "trajectory": "Wolf Example",
           "upper": 0.7873044013977051
          },
          {
           "lower": 0.7873044013977051,
           "timepoint_id": 404,
           "trajectory": "Wolf Example",
           "upper": 0.7873044013977051
          },
          {
           "lower": 0.7873044013977051,
           "timepoint_id": 405,
           "trajectory": "Wolf Example",
           "upper": 0.7873044013977051
          },
          {
           "lower": 0.7873044013977051,
           "timepoint_id": 406,
           "trajectory": "Wolf Example",
           "upper": 0.7873044013977051
          },
          {
           "lower": 0.7873044013977051,
           "timepoint_id": 407,
           "trajectory": "Wolf Example",
           "upper": 0.7873044013977051
          },
          {
           "lower": 0.7873044013977051,
           "timepoint_id": 408,
           "trajectory": "Wolf Example",
           "upper": 0.7873044013977051
          },
          {
           "lower": 0.7873044013977051,
           "timepoint_id": 409,
           "trajectory": "Wolf Example",
           "upper": 0.7873044013977051
          },
          {
           "lower": 0.7873044013977051,
           "timepoint_id": 410,
           "trajectory": "Wolf Example",
           "upper": 0.7873044013977051
          },
          {
           "lower": 0.7873044013977051,
           "timepoint_id": 411,
           "trajectory": "Wolf Example",
           "upper": 0.7873044013977051
          },
          {
           "lower": 0.7873044013977051,
           "timepoint_id": 412,
           "trajectory": "Wolf Example",
           "upper": 0.7873044013977051
          },
          {
           "lower": 0.7873044013977051,
           "timepoint_id": 413,
           "trajectory": "Wolf Example",
           "upper": 0.7873044013977051
          },
          {
           "lower": 0.7873044013977051,
           "timepoint_id": 414,
           "trajectory": "Wolf Example",
           "upper": 0.7873044013977051
          },
          {
           "lower": 0.7873044013977051,
           "timepoint_id": 415,
           "trajectory": "Wolf Example",
           "upper": 0.7873044013977051
          },
          {
           "lower": 0.7873044013977051,
           "timepoint_id": 416,
           "trajectory": "Wolf Example",
           "upper": 0.7873044013977051
          },
          {
           "lower": 0.7873044013977051,
           "timepoint_id": 417,
           "trajectory": "Wolf Example",
           "upper": 0.7873044013977051
          },
          {
           "lower": 0.7873044013977051,
           "timepoint_id": 418,
           "trajectory": "Wolf Example",
           "upper": 0.7873044013977051
          },
          {
           "lower": 0.7873044013977051,
           "timepoint_id": 419,
           "trajectory": "Wolf Example",
           "upper": 0.7873044013977051
          },
          {
           "lower": 0.7873044013977051,
           "timepoint_id": 420,
           "trajectory": "Wolf Example",
           "upper": 0.7873044013977051
          },
          {
           "lower": 0.7873044013977051,
           "timepoint_id": 421,
           "trajectory": "Wolf Example",
           "upper": 0.7873044013977051
          },
          {
           "lower": 0.7873044013977051,
           "timepoint_id": 422,
           "trajectory": "Wolf Example",
           "upper": 0.7873044013977051
          },
          {
           "lower": 0.7873044013977051,
           "timepoint_id": 423,
           "trajectory": "Wolf Example",
           "upper": 0.7873044013977051
          },
          {
           "lower": 0.7873044013977051,
           "timepoint_id": 424,
           "trajectory": "Wolf Example",
           "upper": 0.7873044013977051
          },
          {
           "lower": 0.7873044013977051,
           "timepoint_id": 425,
           "trajectory": "Wolf Example",
           "upper": 0.7873044013977051
          },
          {
           "lower": 0.7873044013977051,
           "timepoint_id": 426,
           "trajectory": "Wolf Example",
           "upper": 0.7873044013977051
          },
          {
           "lower": 0.7873044013977051,
           "timepoint_id": 427,
           "trajectory": "Wolf Example",
           "upper": 0.7873044013977051
          },
          {
           "lower": 0.7873044013977051,
           "timepoint_id": 428,
           "trajectory": "Wolf Example",
           "upper": 0.7873044013977051
          },
          {
           "lower": 0.7873044013977051,
           "timepoint_id": 429,
           "trajectory": "Wolf Example",
           "upper": 0.7873044013977051
          },
          {
           "lower": 0.7873044013977051,
           "timepoint_id": 430,
           "trajectory": "Wolf Example",
           "upper": 0.7873044013977051
          },
          {
           "lower": 0.7873044013977051,
           "timepoint_id": 431,
           "trajectory": "Wolf Example",
           "upper": 0.7873044013977051
          },
          {
           "lower": 0.7873044013977051,
           "timepoint_id": 432,
           "trajectory": "Wolf Example",
           "upper": 0.7873044013977051
          },
          {
           "lower": 0.7873044013977051,
           "timepoint_id": 433,
           "trajectory": "Wolf Example",
           "upper": 0.7873044013977051
          },
          {
           "lower": 0.7873044013977051,
           "timepoint_id": 434,
           "trajectory": "Wolf Example",
           "upper": 0.7873044013977051
          },
          {
           "lower": 0.7873044013977051,
           "timepoint_id": 435,
           "trajectory": "Wolf Example",
           "upper": 0.7873044013977051
          },
          {
           "lower": 0.7873044013977051,
           "timepoint_id": 436,
           "trajectory": "Wolf Example",
           "upper": 0.7873044013977051
          },
          {
           "lower": 0.7873044013977051,
           "timepoint_id": 437,
           "trajectory": "Wolf Example",
           "upper": 0.7873044013977051
          },
          {
           "lower": 0.7873044013977051,
           "timepoint_id": 438,
           "trajectory": "Wolf Example",
           "upper": 0.7873044013977051
          },
          {
           "lower": 0.7873044013977051,
           "timepoint_id": 439,
           "trajectory": "Wolf Example",
           "upper": 0.7873044013977051
          },
          {
           "lower": 0.7873044013977051,
           "timepoint_id": 440,
           "trajectory": "Wolf Example",
           "upper": 0.7873044013977051
          },
          {
           "lower": 0.7873044013977051,
           "timepoint_id": 441,
           "trajectory": "Wolf Example",
           "upper": 0.7873044013977051
          },
          {
           "lower": 0.7873044013977051,
           "timepoint_id": 442,
           "trajectory": "Wolf Example",
           "upper": 0.7873044013977051
          },
          {
           "lower": 0.7873044013977051,
           "timepoint_id": 443,
           "trajectory": "Wolf Example",
           "upper": 0.7873044013977051
          },
          {
           "lower": 0.7873044013977051,
           "timepoint_id": 444,
           "trajectory": "Wolf Example",
           "upper": 0.7873044013977051
          },
          {
           "lower": 0.7873044013977051,
           "timepoint_id": 445,
           "trajectory": "Wolf Example",
           "upper": 0.7873044013977051
          },
          {
           "lower": 0.7873044013977051,
           "timepoint_id": 446,
           "trajectory": "Wolf Example",
           "upper": 0.7873044013977051
          },
          {
           "lower": 0.7873044013977051,
           "timepoint_id": 447,
           "trajectory": "Wolf Example",
           "upper": 0.7873044013977051
          },
          {
           "lower": 0.7873044013977051,
           "timepoint_id": 448,
           "trajectory": "Wolf Example",
           "upper": 0.7873044013977051
          },
          {
           "lower": 0.7873044013977051,
           "timepoint_id": 449,
           "trajectory": "Wolf Example",
           "upper": 0.7873044013977051
          },
          {
           "lower": 0.7873044013977051,
           "timepoint_id": 450,
           "trajectory": "Wolf Example",
           "upper": 0.7873044013977051
          },
          {
           "lower": 0.7873044013977051,
           "timepoint_id": 451,
           "trajectory": "Wolf Example",
           "upper": 0.7873044013977051
          },
          {
           "lower": 0.7873044013977051,
           "timepoint_id": 452,
           "trajectory": "Wolf Example",
           "upper": 0.7873044013977051
          },
          {
           "lower": 0.7873044013977051,
           "timepoint_id": 453,
           "trajectory": "Wolf Example",
           "upper": 0.7873044013977051
          },
          {
           "lower": 0.7873044013977051,
           "timepoint_id": 454,
           "trajectory": "Wolf Example",
           "upper": 0.7873044013977051
          },
          {
           "lower": 0.7873044013977051,
           "timepoint_id": 455,
           "trajectory": "Wolf Example",
           "upper": 0.7873044013977051
          },
          {
           "lower": 0.7873044013977051,
           "timepoint_id": 456,
           "trajectory": "Wolf Example",
           "upper": 0.7873044013977051
          },
          {
           "lower": 0.7873044013977051,
           "timepoint_id": 457,
           "trajectory": "Wolf Example",
           "upper": 0.7873044013977051
          },
          {
           "lower": 0.7873044013977051,
           "timepoint_id": 458,
           "trajectory": "Wolf Example",
           "upper": 0.7873044013977051
          },
          {
           "lower": 0.7873044013977051,
           "timepoint_id": 459,
           "trajectory": "Wolf Example",
           "upper": 0.7873044013977051
          },
          {
           "lower": 0.7873044013977051,
           "timepoint_id": 460,
           "trajectory": "Wolf Example",
           "upper": 0.7873044013977051
          },
          {
           "lower": 0.7873044013977051,
           "timepoint_id": 461,
           "trajectory": "Wolf Example",
           "upper": 0.7873044013977051
          },
          {
           "lower": 0.7873044013977051,
           "timepoint_id": 462,
           "trajectory": "Wolf Example",
           "upper": 0.7873044013977051
          },
          {
           "lower": 0.7873044013977051,
           "timepoint_id": 463,
           "trajectory": "Wolf Example",
           "upper": 0.7873044013977051
          },
          {
           "lower": 0.7873044013977051,
           "timepoint_id": 464,
           "trajectory": "Wolf Example",
           "upper": 0.7873044013977051
          },
          {
           "lower": 0.7873044013977051,
           "timepoint_id": 465,
           "trajectory": "Wolf Example",
           "upper": 0.7873044013977051
          },
          {
           "lower": 0.7873044013977051,
           "timepoint_id": 466,
           "trajectory": "Wolf Example",
           "upper": 0.7873044013977051
          },
          {
           "lower": 0.7873044013977051,
           "timepoint_id": 467,
           "trajectory": "Wolf Example",
           "upper": 0.7873044013977051
          },
          {
           "lower": 0.7873044013977051,
           "timepoint_id": 468,
           "trajectory": "Wolf Example",
           "upper": 0.7873044013977051
          },
          {
           "lower": 0.7873044013977051,
           "timepoint_id": 469,
           "trajectory": "Wolf Example",
           "upper": 0.7873044013977051
          },
          {
           "lower": 0.7873044013977051,
           "timepoint_id": 470,
           "trajectory": "Wolf Example",
           "upper": 0.7873044013977051
          },
          {
           "lower": 0.7873044013977051,
           "timepoint_id": 471,
           "trajectory": "Wolf Example",
           "upper": 0.7873044013977051
          },
          {
           "lower": 0.7873044013977051,
           "timepoint_id": 472,
           "trajectory": "Wolf Example",
           "upper": 0.7873044013977051
          },
          {
           "lower": 0.7873044013977051,
           "timepoint_id": 473,
           "trajectory": "Wolf Example",
           "upper": 0.7873044013977051
          },
          {
           "lower": 0.7873044013977051,
           "timepoint_id": 474,
           "trajectory": "Wolf Example",
           "upper": 0.7873044013977051
          },
          {
           "lower": 0.7873044013977051,
           "timepoint_id": 475,
           "trajectory": "Wolf Example",
           "upper": 0.7873044013977051
          },
          {
           "lower": 0.7873044013977051,
           "timepoint_id": 476,
           "trajectory": "Wolf Example",
           "upper": 0.7873044013977051
          },
          {
           "lower": 0.7873044013977051,
           "timepoint_id": 477,
           "trajectory": "Wolf Example",
           "upper": 0.7873044013977051
          },
          {
           "lower": 0.7873044013977051,
           "timepoint_id": 478,
           "trajectory": "Wolf Example",
           "upper": 0.7873044013977051
          },
          {
           "lower": 0.7873044013977051,
           "timepoint_id": 479,
           "trajectory": "Wolf Example",
           "upper": 0.7873044013977051
          },
          {
           "lower": 0.7873044013977051,
           "timepoint_id": 480,
           "trajectory": "Wolf Example",
           "upper": 0.7873044013977051
          },
          {
           "lower": 0.7873044013977051,
           "timepoint_id": 481,
           "trajectory": "Wolf Example",
           "upper": 0.7873044013977051
          },
          {
           "lower": 0.7873044013977051,
           "timepoint_id": 482,
           "trajectory": "Wolf Example",
           "upper": 0.7873044013977051
          },
          {
           "lower": 0.7873044013977051,
           "timepoint_id": 483,
           "trajectory": "Wolf Example",
           "upper": 0.7873044013977051
          },
          {
           "lower": 0.7873044013977051,
           "timepoint_id": 484,
           "trajectory": "Wolf Example",
           "upper": 0.7873044013977051
          },
          {
           "lower": 0.7873044013977051,
           "timepoint_id": 485,
           "trajectory": "Wolf Example",
           "upper": 0.7873044013977051
          },
          {
           "lower": 0.7873044013977051,
           "timepoint_id": 486,
           "trajectory": "Wolf Example",
           "upper": 0.7873044013977051
          },
          {
           "lower": 0.7873044013977051,
           "timepoint_id": 487,
           "trajectory": "Wolf Example",
           "upper": 0.7873044013977051
          },
          {
           "lower": 0.7873044013977051,
           "timepoint_id": 488,
           "trajectory": "Wolf Example",
           "upper": 0.7873044013977051
          },
          {
           "lower": 0.7873044013977051,
           "timepoint_id": 489,
           "trajectory": "Wolf Example",
           "upper": 0.7873044013977051
          },
          {
           "lower": 0.7873044013977051,
           "timepoint_id": 490,
           "trajectory": "Wolf Example",
           "upper": 0.7873044013977051
          },
          {
           "lower": 0.7873044013977051,
           "timepoint_id": 491,
           "trajectory": "Wolf Example",
           "upper": 0.7873044013977051
          },
          {
           "lower": 0.7873044013977051,
           "timepoint_id": 492,
           "trajectory": "Wolf Example",
           "upper": 0.7873044013977051
          },
          {
           "lower": 0.7873044013977051,
           "timepoint_id": 493,
           "trajectory": "Wolf Example",
           "upper": 0.7873044013977051
          },
          {
           "lower": 0.7873044013977051,
           "timepoint_id": 494,
           "trajectory": "Wolf Example",
           "upper": 0.7873044013977051
          },
          {
           "lower": 0.7873044013977051,
           "timepoint_id": 495,
           "trajectory": "Wolf Example",
           "upper": 0.7873044013977051
          },
          {
           "lower": 0.7873044013977051,
           "timepoint_id": 496,
           "trajectory": "Wolf Example",
           "upper": 0.7873044013977051
          },
          {
           "lower": 0.7873044013977051,
           "timepoint_id": 497,
           "trajectory": "Wolf Example",
           "upper": 0.7873044013977051
          },
          {
           "lower": 0.7873044013977051,
           "timepoint_id": 498,
           "trajectory": "Wolf Example",
           "upper": 0.7873044013977051
          },
          {
           "lower": 0.7873044013977051,
           "timepoint_id": 499,
           "trajectory": "Wolf Example",
           "upper": 0.7873044013977051
          },
          {
           "lower": 0.6978829830884934,
           "timepoint_id": 0,
           "trajectory": "Wolves",
           "upper": 0.8785625755786896
          },
          {
           "lower": 0.6641233384609222,
           "timepoint_id": 1,
           "trajectory": "Wolves",
           "upper": 0.8490899831056594
          },
          {
           "lower": 0.6312833309173584,
           "timepoint_id": 2,
           "trajectory": "Wolves",
           "upper": 0.8187080174684525
          },
          {
           "lower": 0.5993284106254577,
           "timepoint_id": 3,
           "trajectory": "Wolves",
           "upper": 0.7882281363010406
          },
          {
           "lower": 0.5684530228376389,
           "timepoint_id": 4,
           "trajectory": "Wolves",
           "upper": 0.7585157841444015
          },
          {
           "lower": 0.5389212429523468,
           "timepoint_id": 5,
           "trajectory": "Wolves",
           "upper": 0.728909558057785
          },
          {
           "lower": 0.508569210767746,
           "timepoint_id": 6,
           "trajectory": "Wolves",
           "upper": 0.699645733833313
          },
          {
           "lower": 0.47970481812953947,
           "timepoint_id": 7,
           "trajectory": "Wolves",
           "upper": 0.6709146112203598
          },
          {
           "lower": 0.4523730292916298,
           "timepoint_id": 8,
           "trajectory": "Wolves",
           "upper": 0.6427964657545089
          },
          {
           "lower": 0.4274070724844933,
           "timepoint_id": 9,
           "trajectory": "Wolves",
           "upper": 0.6151410669088363
          },
          {
           "lower": 0.4040606811642647,
           "timepoint_id": 10,
           "trajectory": "Wolves",
           "upper": 0.5883755654096603
          },
          {
           "lower": 0.38189286440610887,
           "timepoint_id": 11,
           "trajectory": "Wolves",
           "upper": 0.5625755846500397
          },
          {
           "lower": 0.3611419662833214,
           "timepoint_id": 12,
           "trajectory": "Wolves",
           "upper": 0.5377932578325272
          },
          {
           "lower": 0.3418260633945465,
           "timepoint_id": 13,
           "trajectory": "Wolves",
           "upper": 0.5140648692846298
          },
          {
           "lower": 0.32434320002794265,
           "timepoint_id": 14,
           "trajectory": "Wolves",
           "upper": 0.4914118558168411
          },
          {
           "lower": 0.308052234351635,
           "timepoint_id": 15,
           "trajectory": "Wolves",
           "upper": 0.46984291523694993
          },
          {
           "lower": 0.292301145195961,
           "timepoint_id": 16,
           "trajectory": "Wolves",
           "upper": 0.44935783445835115
          },
          {
           "lower": 0.2778008684515953,
           "timepoint_id": 17,
           "trajectory": "Wolves",
           "upper": 0.4301173686981201
          },
          {
           "lower": 0.26438556164503096,
           "timepoint_id": 18,
           "trajectory": "Wolves",
           "upper": 0.4124217718839645
          },
          {
           "lower": 0.2520015753805637,
           "timepoint_id": 19,
           "trajectory": "Wolves",
           "upper": 0.3966095671057701
          },
          {
           "lower": 0.2405976265668869,
           "timepoint_id": 20,
           "trajectory": "Wolves",
           "upper": 0.3818202704191208
          },
          {
           "lower": 0.23012515902519226,
           "timepoint_id": 21,
           "trajectory": "Wolves",
           "upper": 0.36814202964305875
          },
          {
           "lower": 0.2205386035144329,
           "timepoint_id": 22,
           "trajectory": "Wolves",
           "upper": 0.355433976650238
          },
          {
           "lower": 0.2117955356836319,
           "timepoint_id": 23,
           "trajectory": "Wolves",
           "upper": 0.3443806380033493
          },
          {
           "lower": 0.20385783836245536,
           "timepoint_id": 24,
           "trajectory": "Wolves",
           "upper": 0.3340659737586975
          },
          {
           "lower": 0.19668957069516183,
           "timepoint_id": 25,
           "trajectory": "Wolves",
           "upper": 0.3246395543217659
          },
          {
           "lower": 0.19026003256440163,
           "timepoint_id": 26,
           "trajectory": "Wolves",
           "upper": 0.31551031321287154
          },
          {
           "lower": 0.1845422215759754,
           "timepoint_id": 27,
           "trajectory": "Wolves",
           "upper": 0.30778101086616516
          },
          {
           "lower": 0.17951351404190063,
           "timepoint_id": 28,
           "trajectory": "Wolves",
           "upper": 0.3014834031462669
          },
          {
           "lower": 0.17515575438737868,
           "timepoint_id": 29,
           "trajectory": "Wolves",
           "upper": 0.2960398867726326
          },
          {
           "lower": 0.17145556807518006,
           "timepoint_id": 30,
           "trajectory": "Wolves",
           "upper": 0.29144793599843977
          },
          {
           "lower": 0.1682551011443138,
           "timepoint_id": 31,
           "trajectory": "Wolves",
           "upper": 0.2877653166651726
          },
          {
           "lower": 0.16566150188446044,
           "timepoint_id": 32,
           "trajectory": "Wolves",
           "upper": 0.28693538904190063
          },
          {
           "lower": 0.16270144805312156,
           "timepoint_id": 33,
           "trajectory": "Wolves",
           "upper": 0.2872831955552101
          },
          {
           "lower": 0.15977166518568992,
           "timepoint_id": 34,
           "trajectory": "Wolves",
           "upper": 0.2855072125792503
          },
          {
           "lower": 0.15745530575513839,
           "timepoint_id": 35,
           "trajectory": "Wolves",
           "upper": 0.28406711816787716
          },
          {
           "lower": 0.15635407567024232,
           "timepoint_id": 36,
           "trajectory": "Wolves",
           "upper": 0.28420774787664416
          },
          {
           "lower": 0.1553159050643444,
           "timepoint_id": 37,
           "trajectory": "Wolves",
           "upper": 0.2906181916594505
          },
          {
           "lower": 0.15418352782726288,
           "timepoint_id": 38,
           "trajectory": "Wolves",
           "upper": 0.2981049165129661
          },
          {
           "lower": 0.15248012393712998,
           "timepoint_id": 39,
           "trajectory": "Wolves",
           "upper": 0.30431753545999524
          },
          {
           "lower": 0.1513179808855057,
           "timepoint_id": 40,
           "trajectory": "Wolves",
           "upper": 0.31276321113109584
          },
          {
           "lower": 0.150708919018507,
           "timepoint_id": 41,
           "trajectory": "Wolves",
           "upper": 0.3227651119232177
          },
          {
           "lower": 0.15067099034786224,
           "timepoint_id": 42,
           "trajectory": "Wolves",
           "upper": 0.33444448262453075
          },
          {
           "lower": 0.15122820064425468,
           "timepoint_id": 43,
           "trajectory": "Wolves",
           "upper": 0.3479314237833023
          },
          {
           "lower": 0.1519061431288719,
           "timepoint_id": 44,
           "trajectory": "Wolves",
           "upper": 0.3636187583208084
          },
          {
           "lower": 0.15300024896860123,
           "timepoint_id": 45,
           "trajectory": "Wolves",
           "upper": 0.3816536068916321
          },
          {
           "lower": 0.1547201916575432,
           "timepoint_id": 46,
           "trajectory": "Wolves",
           "upper": 0.40196546912193293
          },
          {
           "lower": 0.15870047509670257,
           "timepoint_id": 47,
           "trajectory": "Wolves",
           "upper": 0.425565093755722
          },
          {
           "lower": 0.16432776749134065,
           "timepoint_id": 48,
           "trajectory": "Wolves",
           "upper": 0.45279376059770576
          },
          {
           "lower": 0.16942375674843788,
           "timepoint_id": 49,
           "trajectory": "Wolves",
           "upper": 0.4828007921576499
          },
          {
           "lower": 0.175539580732584,
           "timepoint_id": 50,
           "trajectory": "Wolves",
           "upper": 0.5155815362930297
          },
          {
           "lower": 0.18278886899352073,
           "timepoint_id": 51,
           "trajectory": "Wolves",
           "upper": 0.5510401755571365
          },
          {
           "lower": 0.1913030579686165,
           "timepoint_id": 52,
           "trajectory": "Wolves",
           "upper": 0.5889679074287414
          },
          {
           "lower": 0.20104168206453324,
           "timepoint_id": 53,
           "trajectory": "Wolves",
           "upper": 0.6290197759866714
          },
          {
           "lower": 0.21211343184113501,
           "timepoint_id": 54,
           "trajectory": "Wolves",
           "upper": 0.6707020252943038
          },
          {
           "lower": 0.22486768662929535,
           "timepoint_id": 55,
           "trajectory": "Wolves",
           "upper": 0.7164292693138121
          },
          {
           "lower": 0.239505136013031,
           "timepoint_id": 56,
           "trajectory": "Wolves",
           "upper": 0.7632388323545456
          },
          {
           "lower": 0.256245319545269,
           "timepoint_id": 57,
           "trajectory": "Wolves",
           "upper": 0.8089749157428742
          },
          {
           "lower": 0.27532428354024885,
           "timepoint_id": 58,
           "trajectory": "Wolves",
           "upper": 0.8524002462625504
          },
          {
           "lower": 0.2969896480441093,
           "timepoint_id": 59,
           "trajectory": "Wolves",
           "upper": 0.8927618145942687
          },
          {
           "lower": 0.32149026095867156,
           "timepoint_id": 60,
           "trajectory": "Wolves",
           "upper": 0.928539514541626
          },
          {
           "lower": 0.34906338155269623,
           "timepoint_id": 61,
           "trajectory": "Wolves",
           "upper": 0.9584593564271926
          },
          {
           "lower": 0.37991348952054976,
           "timepoint_id": 62,
           "trajectory": "Wolves",
           "upper": 0.9817579507827758
          },
          {
           "lower": 0.4126221776008606,
           "timepoint_id": 63,
           "trajectory": "Wolves",
           "upper": 0.9952844083309174
          },
          {
           "lower": 0.4471473842859268,
           "timepoint_id": 64,
           "trajectory": "Wolves",
           "upper": 0.999888813495636
          },
          {
           "lower": 0.4840144827961922,
           "timepoint_id": 65,
           "trajectory": "Wolves",
           "upper": 0.9991763532161713
          },
          {
           "lower": 0.5238396972417831,
           "timepoint_id": 66,
           "trajectory": "Wolves",
           "upper": 0.9945943206548691
          },
          {
           "lower": 0.5663493752479554,
           "timepoint_id": 67,
           "trajectory": "Wolves",
           "upper": 0.996418884396553
          },
          {
           "lower": 0.6110985726118088,
           "timepoint_id": 68,
           "trajectory": "Wolves",
           "upper": 0.9992064297199249
          },
          {
           "lower": 0.6574589967727661,
           "timepoint_id": 69,
           "trajectory": "Wolves",
           "upper": 1.000333058834076
          },
          {
           "lower": 0.7046235054731369,
           "timepoint_id": 70,
           "trajectory": "Wolves",
           "upper": 1.0065573751926422
          },
          {
           "lower": 0.7525284260511398,
           "timepoint_id": 71,
           "trajectory": "Wolves",
           "upper": 1.0058083832263947
          },
          {
           "lower": 0.7894466161727905,
           "timepoint_id": 72,
           "trajectory": "Wolves",
           "upper": 1.0090785443782806
          },
          {
           "lower": 0.817705824971199,
           "timepoint_id": 73,
           "trajectory": "Wolves",
           "upper": 1.0075386762619019
          },
          {
           "lower": 0.8005896002054215,
           "timepoint_id": 74,
           "trajectory": "Wolves",
           "upper": 1.0106054842472076
          },
          {
           "lower": 0.7775146216154099,
           "timepoint_id": 75,
           "trajectory": "Wolves",
           "upper": 1.0060164749622345
          },
          {
           "lower": 0.7466731667518616,
           "timepoint_id": 76,
           "trajectory": "Wolves",
           "upper": 1.002402228116989
          },
          {
           "lower": 0.7160019606351853,
           "timepoint_id": 77,
           "trajectory": "Wolves",
           "upper": 1.0037639915943146
          },
          {
           "lower": 0.6857686698436737,
           "timepoint_id": 78,
           "trajectory": "Wolves",
           "upper": 1.0013867408037185
          },
          {
           "lower": 0.6561907947063446,
           "timepoint_id": 79,
           "trajectory": "Wolves",
           "upper": 1.0036586046218872
          },
          {
           "lower": 0.6274442553520203,
           "timepoint_id": 80,
           "trajectory": "Wolves",
           "upper": 1.0084400415420531
          },
          {
           "lower": 0.5996661454439163,
           "timepoint_id": 81,
           "trajectory": "Wolves",
           "upper": 1.0045182228088378
          },
          {
           "lower": 0.57296042740345,
           "timepoint_id": 82,
           "trajectory": "Wolves",
           "upper": 0.9934995383024215
          },
          {
           "lower": 0.547403609752655,
           "timepoint_id": 83,
           "trajectory": "Wolves",
           "upper": 0.9773024916648865
          },
          {
           "lower": 0.5230468422174454,
           "timepoint_id": 84,
           "trajectory": "Wolves",
           "upper": 0.9568425595760346
          },
          {
           "lower": 0.49992330372333527,
           "timepoint_id": 85,
           "trajectory": "Wolves",
           "upper": 0.9327404618263244
          },
          {
           "lower": 0.478048375248909,
           "timepoint_id": 86,
           "trajectory": "Wolves",
           "upper": 0.9057140052318573
          },
          {
           "lower": 0.45742707401514054,
           "timepoint_id": 87,
           "trajectory": "Wolves",
           "upper": 0.8764394521713257
          },
          {
           "lower": 0.43804881274700164,
           "timepoint_id": 88,
           "trajectory": "Wolves",
           "upper": 0.8455302238464355
          },
          {
           "lower": 0.41914495676755903,
           "timepoint_id": 89,
           "trajectory": "Wolves",
           "upper": 0.8135338127613067
          },
          {
           "lower": 0.39964639097452165,
           "timepoint_id": 90,
           "trajectory": "Wolves",
           "upper": 0.7809252381324767
          },
          {
           "lower": 0.38090849965810775,
           "timepoint_id": 91,
           "trajectory": "Wolves",
           "upper": 0.7481121331453322
          },
          {
           "lower": 0.36345911026000977,
           "timepoint_id": 92,
           "trajectory": "Wolves",
           "upper": 0.7154356390237807
          },
          {
           "lower": 0.3472597599029541,
           "timepoint_id": 93,
           "trajectory": "Wolves",
           "upper": 0.6831769913434981
          },
          {
           "lower": 0.3300993725657463,
           "timepoint_id": 94,
           "trajectory": "Wolves",
           "upper": 0.6515639722347258
          },
          {
           "lower": 0.3140900060534477,
           "timepoint_id": 95,
           "trajectory": "Wolves",
           "upper": 0.6220583736896513
          },
          {
           "lower": 0.29845099747180937,
           "timepoint_id": 96,
           "trajectory": "Wolves",
           "upper": 0.5940448939800261
          },
          {
           "lower": 0.2848609298467636,
           "timepoint_id": 97,
           "trajectory": "Wolves",
           "upper": 0.5669990092515944
          },
          {
           "lower": 0.2750711590051651,
           "timepoint_id": 98,
           "trajectory": "Wolves",
           "upper": 0.5409881681203841
          },
          {
           "lower": 0.2662804305553436,
           "timepoint_id": 99,
           "trajectory": "Wolves",
           "upper": 0.5160592570900916
          },
          {
           "lower": 0.2568549528717995,
           "timepoint_id": 100,
           "trajectory": "Wolves",
           "upper": 0.4922410160303115
          },
          {
           "lower": 0.2453808605670929,
           "timepoint_id": 101,
           "trajectory": "Wolves",
           "upper": 0.4695479169487952
          },
          {
           "lower": 0.23483706042170524,
           "timepoint_id": 102,
           "trajectory": "Wolves",
           "upper": 0.44798238128423684
          },
          {
           "lower": 0.22517933696508408,
           "timepoint_id": 103,
           "trajectory": "Wolves",
           "upper": 0.4275363013148307
          },
          {
           "lower": 0.21632617264986037,
           "timepoint_id": 104,
           "trajectory": "Wolves",
           "upper": 0.40819491893053045
          },
          {
           "lower": 0.20827872157096863,
           "timepoint_id": 105,
           "trajectory": "Wolves",
           "upper": 0.38993706703186026
          },
          {
           "lower": 0.20180438086390495,
           "timepoint_id": 106,
           "trajectory": "Wolves",
           "upper": 0.372736433148384
          },
          {
           "lower": 0.1948359914124012,
           "timepoint_id": 107,
           "trajectory": "Wolves",
           "upper": 0.3565643206238746
          },
          {
           "lower": 0.1886773332953453,
           "timepoint_id": 108,
           "trajectory": "Wolves",
           "upper": 0.34142603725194925
          },
          {
           "lower": 0.1822824612259865,
           "timepoint_id": 109,
           "trajectory": "Wolves",
           "upper": 0.3280029445886612
          },
          {
           "lower": 0.1768182784318924,
           "timepoint_id": 110,
           "trajectory": "Wolves",
           "upper": 0.3155541613698006
          },
          {
           "lower": 0.17241908088326455,
           "timepoint_id": 111,
           "trajectory": "Wolves",
           "upper": 0.30780972689390185
          },
          {
           "lower": 0.16910969465970993,
           "timepoint_id": 112,
           "trajectory": "Wolves",
           "upper": 0.29929260164499283
          },
          {
           "lower": 0.16727722436189651,
           "timepoint_id": 113,
           "trajectory": "Wolves",
           "upper": 0.30073579549789425
          },
          {
           "lower": 0.16588936671614646,
           "timepoint_id": 114,
           "trajectory": "Wolves",
           "upper": 0.3032856702804565
          },
          {
           "lower": 0.1639499694108963,
           "timepoint_id": 115,
           "trajectory": "Wolves",
           "upper": 0.3007561579346657
          },
          {
           "lower": 0.1626553200185299,
           "timepoint_id": 116,
           "trajectory": "Wolves",
           "upper": 0.30875262916088103
          },
          {
           "lower": 0.1620188243687153,
           "timepoint_id": 117,
           "trajectory": "Wolves",
           "upper": 0.3202205196022987
          },
          {
           "lower": 0.16206154301762582,
           "timepoint_id": 118,
           "trajectory": "Wolves",
           "upper": 0.334099380671978
          },
          {
           "lower": 0.16281294375658034,
           "timepoint_id": 119,
           "trajectory": "Wolves",
           "upper": 0.3500352308154106
          },
          {
           "lower": 0.1627533718943596,
           "timepoint_id": 120,
           "trajectory": "Wolves",
           "upper": 0.3681897342205047
          },
          {
           "lower": 0.1629971034824848,
           "timepoint_id": 121,
           "trajectory": "Wolves",
           "upper": 0.3887231931090354
          },
          {
           "lower": 0.16158675104379655,
           "timepoint_id": 122,
           "trajectory": "Wolves",
           "upper": 0.41178561300039285
          },
          {
           "lower": 0.16041808053851128,
           "timepoint_id": 123,
           "trajectory": "Wolves",
           "upper": 0.4375055462121963
          },
          {
           "lower": 0.15754736736416816,
           "timepoint_id": 124,
           "trajectory": "Wolves",
           "upper": 0.46597421467304223
          },
          {
           "lower": 0.1552147835493088,
           "timepoint_id": 125,
           "trajectory": "Wolves",
           "upper": 0.4972257941961288
          },
          {
           "lower": 0.15341154709458352,
           "timepoint_id": 126,
           "trajectory": "Wolves",
           "upper": 0.5312163263559341
          },
          {
           "lower": 0.15204961746931075,
           "timepoint_id": 127,
           "trajectory": "Wolves",
           "upper": 0.5678020358085631
          },
          {
           "lower": 0.15124001801013948,
           "timepoint_id": 128,
           "trajectory": "Wolves",
           "upper": 0.6067143827676772
          },
          {
           "lower": 0.15099834725260736,
           "timepoint_id": 129,
           "trajectory": "Wolves",
           "upper": 0.6475424587726591
          },
          {
           "lower": 0.15297048538923264,
           "timepoint_id": 130,
           "trajectory": "Wolves",
           "upper": 0.6897222399711608
          },
          {
           "lower": 0.15530856102705,
           "timepoint_id": 131,
           "trajectory": "Wolves",
           "upper": 0.7325359314680098
          },
          {
           "lower": 0.154922217130661,
           "timepoint_id": 132,
           "trajectory": "Wolves",
           "upper": 0.775128862261772
          },
          {
           "lower": 0.1550935097038746,
           "timepoint_id": 133,
           "trajectory": "Wolves",
           "upper": 0.8165419191122054
          },
          {
           "lower": 0.15602648109197617,
           "timepoint_id": 134,
           "trajectory": "Wolves",
           "upper": 0.8557619512081145
          },
          {
           "lower": 0.15872434675693511,
           "timepoint_id": 135,
           "trajectory": "Wolves",
           "upper": 0.8917760968208313
          },
          {
           "lower": 0.1621825523674488,
           "timepoint_id": 136,
           "trajectory": "Wolves",
           "upper": 0.9236480355262755
          },
          {
           "lower": 0.1664690352976322,
           "timepoint_id": 137,
           "trajectory": "Wolves",
           "upper": 0.9505664110183715
          },
          {
           "lower": 0.1716640517115593,
           "timepoint_id": 138,
           "trajectory": "Wolves",
           "upper": 0.9747474461793899
          },
          {
           "lower": 0.17786126136779784,
           "timepoint_id": 139,
           "trajectory": "Wolves",
           "upper": 0.9923914164304733
          },
          {
           "lower": 0.1851704627275467,
           "timepoint_id": 140,
           "trajectory": "Wolves",
           "upper": 0.9977774322032928
          },
          {
           "lower": 0.19371743574738504,
           "timepoint_id": 141,
           "trajectory": "Wolves",
           "upper": 0.9930166512727737
          },
          {
           "lower": 0.20364718586206437,
           "timepoint_id": 142,
           "trajectory": "Wolves",
           "upper": 0.9828639149665832
          },
          {
           "lower": 0.21503195986151696,
           "timepoint_id": 143,
           "trajectory": "Wolves",
           "upper": 0.9812245339155197
          },
          {
           "lower": 0.22812195122241974,
           "timepoint_id": 144,
           "trajectory": "Wolves",
           "upper": 0.9861322522163392
          },
          {
           "lower": 0.24313153102993965,
           "timepoint_id": 145,
           "trajectory": "Wolves",
           "upper": 0.9755009979009628
          },
          {
           "lower": 0.2602828934788704,
           "timepoint_id": 146,
           "trajectory": "Wolves",
           "upper": 0.9892365634441376
          },
          {
           "lower": 0.27981317788362503,
           "timepoint_id": 147,
           "trajectory": "Wolves",
           "upper": 0.9977049201726913
          },
          {
           "lower": 0.3019690975546837,
           "timepoint_id": 148,
           "trajectory": "Wolves",
           "upper": 0.9995893061161041
          },
          {
           "lower": 0.32699553817510607,
           "timepoint_id": 149,
           "trajectory": "Wolves",
           "upper": 0.9988284707069397
          },
          {
           "lower": 0.3521470993757248,
           "timepoint_id": 150,
           "trajectory": "Wolves",
           "upper": 0.9993571370840073
          },
          {
           "lower": 0.37960807234048843,
           "timepoint_id": 151,
           "trajectory": "Wolves",
           "upper": 1.0005356311798095
          },
          {
           "lower": 0.40954194217920303,
           "timepoint_id": 152,
           "trajectory": "Wolves",
           "upper": 1.0013312101364136
          },
          {
           "lower": 0.4423285946249962,
           "timepoint_id": 153,
           "trajectory": "Wolves",
           "upper": 1.0075413048267365
          },
          {
           "lower": 0.4781190812587738,
           "timepoint_id": 154,
           "trajectory": "Wolves",
           "upper": 1.0118739128112793
          },
          {
           "lower": 0.516811516880989,
           "timepoint_id": 155,
           "trajectory": "Wolves",
           "upper": 1.0101054847240447
          },
          {
           "lower": 0.5441705912351609,
           "timepoint_id": 156,
           "trajectory": "Wolves",
           "upper": 1.0067384481430053
          },
          {
           "lower": 0.568549570441246,
           "timepoint_id": 157,
           "trajectory": "Wolves",
           "upper": 1.002038586139679
          },
          {
           "lower": 0.5429022997617722,
           "timepoint_id": 158,
           "trajectory": "Wolves",
           "upper": 1.0011488199234009
          },
          {
           "lower": 0.5336899936199189,
           "timepoint_id": 159,
           "trajectory": "Wolves",
           "upper": 0.9971868366003036
          },
          {
           "lower": 0.5072744593024254,
           "timepoint_id": 160,
           "trajectory": "Wolves",
           "upper": 0.9897120624780655
          },
          {
           "lower": 0.48223721534013747,
           "timepoint_id": 161,
           "trajectory": "Wolves",
           "upper": 0.9831840842962265
          },
          {
           "lower": 0.4597930729389191,
           "timepoint_id": 162,
           "trajectory": "Wolves",
           "upper": 0.9957805424928665
          },
          {
           "lower": 0.4402854099869728,
           "timepoint_id": 163,
           "trajectory": "Wolves",
           "upper": 1.0009864032268525
          },
          {
           "lower": 0.42200980633497237,
           "timepoint_id": 164,
           "trajectory": "Wolves",
           "upper": 1.0010557353496552
          },
          {
           "lower": 0.40494498014450075,
           "timepoint_id": 165,
           "trajectory": "Wolves",
           "upper": 0.9978171199560165
          },
          {
           "lower": 0.3890667766332626,
           "timepoint_id": 166,
           "trajectory": "Wolves",
           "upper": 0.9965868800878525
          },
          {
           "lower": 0.3743485063314438,
           "timepoint_id": 167,
           "trajectory": "Wolves",
           "upper": 0.998455336689949
          },
          {
           "lower": 0.3607614189386368,
           "timepoint_id": 168,
           "trajectory": "Wolves",
           "upper": 0.9998154699802398
          },
          {
           "lower": 0.3482774034142494,
           "timepoint_id": 169,
           "trajectory": "Wolves",
           "upper": 1.0002733141183853
          },
          {
           "lower": 0.3368685841560364,
           "timepoint_id": 170,
           "trajectory": "Wolves",
           "upper": 0.9956602454185486
          },
          {
           "lower": 0.3265078768134117,
           "timepoint_id": 171,
           "trajectory": "Wolves",
           "upper": 0.9811929523944855
          },
          {
           "lower": 0.3171424388885498,
           "timepoint_id": 172,
           "trajectory": "Wolves",
           "upper": 0.9618608713150024
          },
          {
           "lower": 0.3085785865783691,
           "timepoint_id": 173,
           "trajectory": "Wolves",
           "upper": 0.9382475227117538
          },
          {
           "lower": 0.3010013967752457,
           "timepoint_id": 174,
           "trajectory": "Wolves",
           "upper": 0.9111802756786347
          },
          {
           "lower": 0.2920254796743393,
           "timepoint_id": 175,
           "trajectory": "Wolves",
           "upper": 0.8814419984817505
          },
          {
           "lower": 0.28120449781417844,
           "timepoint_id": 176,
           "trajectory": "Wolves",
           "upper": 0.8504221975803375
          },
          {
           "lower": 0.26939221322536466,
           "timepoint_id": 177,
           "trajectory": "Wolves",
           "upper": 0.8195193082094192
          },
          {
           "lower": 0.25854006707668303,
           "timepoint_id": 178,
           "trajectory": "Wolves",
           "upper": 0.7879701435565949
          },
          {
           "lower": 0.25412780195474627,
           "timepoint_id": 179,
           "trajectory": "Wolves",
           "upper": 0.7561036467552185
          },
          {
           "lower": 0.2500698037445545,
           "timepoint_id": 180,
           "trajectory": "Wolves",
           "upper": 0.7242607533931732
          },
          {
           "lower": 0.24498572200536728,
           "timepoint_id": 181,
           "trajectory": "Wolves",
           "upper": 0.692724061012268
          },
          {
           "lower": 0.23654634952545167,
           "timepoint_id": 182,
           "trajectory": "Wolves",
           "upper": 0.6617236942052841
          },
          {
           "lower": 0.22896385863423346,
           "timepoint_id": 183,
           "trajectory": "Wolves",
           "upper": 0.6314462453126907
          },
          {
           "lower": 0.22203873470425606,
           "timepoint_id": 184,
           "trajectory": "Wolves",
           "upper": 0.602038112282753
          },
          {
           "lower": 0.2138136386871338,
           "timepoint_id": 185,
           "trajectory": "Wolves",
           "upper": 0.5736097812652587
          },
          {
           "lower": 0.20605550929903985,
           "timepoint_id": 186,
           "trajectory": "Wolves",
           "upper": 0.5462440490722655
          },
          {
           "lower": 0.20027177259325982,
           "timepoint_id": 187,
           "trajectory": "Wolves",
           "upper": 0.5199971854686737
          },
          {
           "lower": 0.19767072200775146,
           "timepoint_id": 188,
           "trajectory": "Wolves",
           "upper": 0.49490585774183266
          },
          {
           "lower": 0.19202626794576644,
           "timepoint_id": 189,
           "trajectory": "Wolves",
           "upper": 0.4709893852472305
          },
          {
           "lower": 0.18630552366375924,
           "timepoint_id": 190,
           "trajectory": "Wolves",
           "upper": 0.44825136810541144
          },
          {
           "lower": 0.1812824599444866,
           "timepoint_id": 191,
           "trajectory": "Wolves",
           "upper": 0.42668551057577125
          },
          {
           "lower": 0.17693950831890107,
           "timepoint_id": 192,
           "trajectory": "Wolves",
           "upper": 0.40627554655075065
          },
          {
           "lower": 0.17324449941515924,
           "timepoint_id": 193,
           "trajectory": "Wolves",
           "upper": 0.4030626893043518
          },
          {
           "lower": 0.1699801467359066,
           "timepoint_id": 194,
           "trajectory": "Wolves",
           "upper": 0.41938123404979705
          },
          {
           "lower": 0.16804226040840148,
           "timepoint_id": 195,
           "trajectory": "Wolves",
           "upper": 0.4239849567413329
          },
          {
           "lower": 0.1663979098200798,
           "timepoint_id": 196,
           "trajectory": "Wolves",
           "upper": 0.40634532272815693
          },
          {
           "lower": 0.1647381938993931,
           "timepoint_id": 197,
           "trajectory": "Wolves",
           "upper": 0.4069538936018944
          },
          {
           "lower": 0.1636613830924034,
           "timepoint_id": 198,
           "trajectory": "Wolves",
           "upper": 0.42307848632335654
          },
          {
           "lower": 0.16307924538850785,
           "timepoint_id": 199,
           "trajectory": "Wolves",
           "upper": 0.45002248883247364
          },
          {
           "lower": 0.1631910242140293,
           "timepoint_id": 200,
           "trajectory": "Wolves",
           "upper": 0.47973577231168735
          },
          {
           "lower": 0.1640276603400707,
           "timepoint_id": 201,
           "trajectory": "Wolves",
           "upper": 0.5122190564870833
          },
          {
           "lower": 0.16413161009550095,
           "timepoint_id": 202,
           "trajectory": "Wolves",
           "upper": 0.5473854094743728
          },
          {
           "lower": 0.16348991319537162,
           "timepoint_id": 203,
           "trajectory": "Wolves",
           "upper": 0.5850378274917601
          },
          {
           "lower": 0.16351921632885932,
           "timepoint_id": 204,
           "trajectory": "Wolves",
           "upper": 0.6248426437377929
          },
          {
           "lower": 0.16417717114090918,
           "timepoint_id": 205,
           "trajectory": "Wolves",
           "upper": 0.6663227587938307
          },
          {
           "lower": 0.1669645145535469,
           "timepoint_id": 206,
           "trajectory": "Wolves",
           "upper": 0.7088437467813491
          },
          {
           "lower": 0.16852254420518875,
           "timepoint_id": 207,
           "trajectory": "Wolves",
           "upper": 0.7516247153282164
          },
          {
           "lower": 0.16876422837376595,
           "timepoint_id": 208,
           "trajectory": "Wolves",
           "upper": 0.7937631100416183
          },
          {
           "lower": 0.16696756705641747,
           "timepoint_id": 209,
           "trajectory": "Wolves",
           "upper": 0.8342687219381331
          },
          {
           "lower": 0.16534425914287568,
           "timepoint_id": 210,
           "trajectory": "Wolves",
           "upper": 0.8721249610185622
          },
          {
           "lower": 0.16089281365275382,
           "timepoint_id": 211,
           "trajectory": "Wolves",
           "upper": 0.9063484132289885
          },
          {
           "lower": 0.15697359889745713,
           "timepoint_id": 212,
           "trajectory": "Wolves",
           "upper": 0.9360553205013274
          },
          {
           "lower": 0.154640594124794,
           "timepoint_id": 213,
           "trajectory": "Wolves",
           "upper": 0.9605146616697311
          },
          {
           "lower": 0.15332131534814836,
           "timepoint_id": 214,
           "trajectory": "Wolves",
           "upper": 0.9791977941989898
          },
          {
           "lower": 0.15479821115732192,
           "timepoint_id": 215,
           "trajectory": "Wolves",
           "upper": 0.9899740725755691
          },
          {
           "lower": 0.1562502309679985,
           "timepoint_id": 216,
           "trajectory": "Wolves",
           "upper": 0.9913704872131348
          },
          {
           "lower": 0.15635684356093407,
           "timepoint_id": 217,
           "trajectory": "Wolves",
           "upper": 0.9836450457572936
          },
          {
           "lower": 0.15691652297973632,
           "timepoint_id": 218,
           "trajectory": "Wolves",
           "upper": 0.9693858861923217
          },
          {
           "lower": 0.1567702919244766,
           "timepoint_id": 219,
           "trajectory": "Wolves",
           "upper": 0.957481563091278
          },
          {
           "lower": 0.15576769188046455,
           "timepoint_id": 220,
           "trajectory": "Wolves",
           "upper": 0.9601654708385468
          },
          {
           "lower": 0.15524135902523994,
           "timepoint_id": 221,
           "trajectory": "Wolves",
           "upper": 0.9679513245820999
          },
          {
           "lower": 0.15515390932559966,
           "timepoint_id": 222,
           "trajectory": "Wolves",
           "upper": 0.9604407727718353
          },
          {
           "lower": 0.15675759613513945,
           "timepoint_id": 223,
           "trajectory": "Wolves",
           "upper": 0.9531516194343567
          },
          {
           "lower": 0.15964649021625518,
           "timepoint_id": 224,
           "trajectory": "Wolves",
           "upper": 0.9758219718933105
          },
          {
           "lower": 0.1633138231933117,
           "timepoint_id": 225,
           "trajectory": "Wolves",
           "upper": 0.9886273086071015
          },
          {
           "lower": 0.16777151376008986,
           "timepoint_id": 226,
           "trajectory": "Wolves",
           "upper": 0.9938872128725051
          },
          {
           "lower": 0.17308537811040878,
           "timepoint_id": 227,
           "trajectory": "Wolves",
           "upper": 0.998961278796196
          },
          {
           "lower": 0.17941494137048722,
           "timepoint_id": 228,
           "trajectory": "Wolves",
           "upper": 0.9986775547266007
          },
          {
           "lower": 0.18687143698334693,
           "timepoint_id": 229,
           "trajectory": "Wolves",
           "upper": 0.9936696499586105
          },
          {
           "lower": 0.19558281004428862,
           "timepoint_id": 230,
           "trajectory": "Wolves",
           "upper": 0.9958069503307342
          },
          {
           "lower": 0.2056956894695759,
           "timepoint_id": 231,
           "trajectory": "Wolves",
           "upper": 0.9991126477718353
          },
          {
           "lower": 0.21737605109810829,
           "timepoint_id": 232,
           "trajectory": "Wolves",
           "upper": 0.9998131990432739
          },
          {
           "lower": 0.23081071451306343,
           "timepoint_id": 233,
           "trajectory": "Wolves",
           "upper": 1.0008575558662414
          },
          {
           "lower": 0.24620597064495087,
           "timepoint_id": 234,
           "trajectory": "Wolves",
           "upper": 1.0023418217897415
          },
          {
           "lower": 0.2637864500284195,
           "timepoint_id": 235,
           "trajectory": "Wolves",
           "upper": 1.0047442853450774
          },
          {
           "lower": 0.2813341706991196,
           "timepoint_id": 236,
           "trajectory": "Wolves",
           "upper": 1.0071383357048034
          },
          {
           "lower": 0.300195649266243,
           "timepoint_id": 237,
           "trajectory": "Wolves",
           "upper": 1.0098597288131714
          },
          {
           "lower": 0.3214712753891945,
           "timepoint_id": 238,
           "trajectory": "Wolves",
           "upper": 1.0062338650226592
          },
          {
           "lower": 0.34536351412534716,
           "timepoint_id": 239,
           "trajectory": "Wolves",
           "upper": 1.0044687688350677
          },
          {
           "lower": 0.367728054523468,
           "timepoint_id": 240,
           "trajectory": "Wolves",
           "upper": 1.0002803087234498
          },
          {
           "lower": 0.38795277923345567,
           "timepoint_id": 241,
           "trajectory": "Wolves",
           "upper": 0.9997890084981919
          },
          {
           "lower": 0.37223185151815413,
           "timepoint_id": 242,
           "trajectory": "Wolves",
           "upper": 1.0002581000328064
          },
          {
           "lower": 0.35696167796850203,
           "timepoint_id": 243,
           "trajectory": "Wolves",
           "upper": 0.9956646740436554
          },
          {
           "lower": 0.3499200239777565,
           "timepoint_id": 244,
           "trajectory": "Wolves",
           "upper": 0.9856657922267914
          },
          {
           "lower": 0.3383984312415123,
           "timepoint_id": 245,
           "trajectory": "Wolves",
           "upper": 0.97026427090168
          },
          {
           "lower": 0.3279294118285179,
           "timepoint_id": 246,
           "trajectory": "Wolves",
           "upper": 0.9504680514335632
          },
          {
           "lower": 0.3184893622994423,
           "timepoint_id": 247,
           "trajectory": "Wolves",
           "upper": 0.9639508128166199
          },
          {
           "lower": 0.3100573495030403,
           "timepoint_id": 248,
           "trajectory": "Wolves",
           "upper": 0.9828543901443482
          },
          {
           "lower": 0.30261566340923307,
           "timepoint_id": 249,
           "trajectory": "Wolves",
           "upper": 0.9932814210653305
          },
          {
           "lower": 0.2958703711628914,
           "timepoint_id": 250,
           "trajectory": "Wolves",
           "upper": 1.0015631079673768
          },
          {
           "lower": 0.290073935687542,
           "timepoint_id": 251,
           "trajectory": "Wolves",
           "upper": 1.00171440243721
          },
          {
           "lower": 0.2852397307753563,
           "timepoint_id": 252,
           "trajectory": "Wolves",
           "upper": 0.9975081235170364
          },
          {
           "lower": 0.28125953674316406,
           "timepoint_id": 253,
           "trajectory": "Wolves",
           "upper": 0.9917439252138137
          },
          {
           "lower": 0.2763360753655434,
           "timepoint_id": 254,
           "trajectory": "Wolves",
           "upper": 0.9886632561683655
          },
          {
           "lower": 0.27026546001434326,
           "timepoint_id": 255,
           "trajectory": "Wolves",
           "upper": 0.992416152358055
          },
          {
           "lower": 0.2641956403851509,
           "timepoint_id": 256,
           "trajectory": "Wolves",
           "upper": 0.9974153727293015
          },
          {
           "lower": 0.25686232149600985,
           "timepoint_id": 257,
           "trajectory": "Wolves",
           "upper": 0.9975637286901474
          },
          {
           "lower": 0.2524468004703522,
           "timepoint_id": 258,
           "trajectory": "Wolves",
           "upper": 0.9941886335611343
          },
          {
           "lower": 0.250233206897974,
           "timepoint_id": 259,
           "trajectory": "Wolves",
           "upper": 0.9922847658395767
          },
          {
           "lower": 0.24744433909654617,
           "timepoint_id": 260,
           "trajectory": "Wolves",
           "upper": 0.9774287074804305
          },
          {
           "lower": 0.24069003984332085,
           "timepoint_id": 261,
           "trajectory": "Wolves",
           "upper": 0.9576320976018905
          },
          {
           "lower": 0.23299262896180153,
           "timepoint_id": 262,
           "trajectory": "Wolves",
           "upper": 0.9337229430675507
          },
          {
           "lower": 0.22615034729242325,
           "timepoint_id": 263,
           "trajectory": "Wolves",
           "upper": 0.9065086483955382
          },
          {
           "lower": 0.22014274969696998,
           "timepoint_id": 264,
           "trajectory": "Wolves",
           "upper": 0.8767463326454162
          },
          {
           "lower": 0.21495493426918982,
           "timepoint_id": 265,
           "trajectory": "Wolves",
           "upper": 0.8451279789209365
          },
          {
           "lower": 0.21040329113602638,
           "timepoint_id": 266,
           "trajectory": "Wolves",
           "upper": 0.8122650057077407
          },
          {
           "lower": 0.20782150849699974,
           "timepoint_id": 267,
           "trajectory": "Wolves",
           "upper": 0.7786888509988784
          },
          {
           "lower": 0.20393504947423935,
           "timepoint_id": 268,
           "trajectory": "Wolves",
           "upper": 0.7448512762784957
          },
          {
           "lower": 0.1997904509305954,
           "timepoint_id": 269,
           "trajectory": "Wolves",
           "upper": 0.711536556482315
          },
          {
           "lower": 0.19380126595497132,
           "timepoint_id": 270,
           "trajectory": "Wolves",
           "upper": 0.6800334751605986
          },
          {
           "lower": 0.18869468942284584,
           "timepoint_id": 271,
           "trajectory": "Wolves",
           "upper": 0.6491338193416595
          },
          {
           "lower": 0.1845427230000496,
           "timepoint_id": 272,
           "trajectory": "Wolves",
           "upper": 0.6190116941928863
          },
          {
           "lower": 0.18000969290733337,
           "timepoint_id": 273,
           "trajectory": "Wolves",
           "upper": 0.5898068785667419
          },
          {
           "lower": 0.17606869861483573,
           "timepoint_id": 274,
           "trajectory": "Wolves",
           "upper": 0.5842533469200134
          },
          {
           "lower": 0.17280452623963355,
           "timepoint_id": 275,
           "trajectory": "Wolves",
           "upper": 0.6242456018924712
          },
          {
           "lower": 0.17038027569651604,
           "timepoint_id": 276,
           "trajectory": "Wolves",
           "upper": 0.6405353367328643
          },
          {
           "lower": 0.17137352749705315,
           "timepoint_id": 277,
           "trajectory": "Wolves",
           "upper": 0.6109578549861907
          },
          {
           "lower": 0.17117936834692954,
           "timepoint_id": 278,
           "trajectory": "Wolves",
           "upper": 0.5901211947202682
          },
          {
           "lower": 0.16935733556747437,
           "timepoint_id": 279,
           "trajectory": "Wolves",
           "upper": 0.602705419063568
          },
          {
           "lower": 0.16538334637880325,
           "timepoint_id": 280,
           "trajectory": "Wolves",
           "upper": 0.6432965725660322
          },
          {
           "lower": 0.16492010951042174,
           "timepoint_id": 281,
           "trajectory": "Wolves",
           "upper": 0.6852882236242293
          },
          {
           "lower": 0.16513916999101638,
           "timepoint_id": 282,
           "trajectory": "Wolves",
           "upper": 0.7279811799526212
          },
          {
           "lower": 0.16611068099737167,
           "timepoint_id": 283,
           "trajectory": "Wolves",
           "upper": 0.770535635948181
          },
          {
           "lower": 0.16611216142773627,
           "timepoint_id": 284,
           "trajectory": "Wolves",
           "upper": 0.8120082557201383
          },
          {
           "lower": 0.16527557000517845,
           "timepoint_id": 285,
           "trajectory": "Wolves",
           "upper": 0.8513918578624724
          },
          {
           "lower": 0.16442229971289635,
           "timepoint_id": 286,
           "trajectory": "Wolves",
           "upper": 0.887682408094406
          },
          {
           "lower": 0.16423994824290275,
           "timepoint_id": 287,
           "trajectory": "Wolves",
           "upper": 0.9199351370334624
          },
          {
           "lower": 0.16475595831871032,
           "timepoint_id": 288,
           "trajectory": "Wolves",
           "upper": 0.947332864999771
          },
          {
           "lower": 0.16838487461209298,
           "timepoint_id": 289,
           "trajectory": "Wolves",
           "upper": 0.9692333668470382
          },
          {
           "lower": 0.17303766161203385,
           "timepoint_id": 290,
           "trajectory": "Wolves",
           "upper": 0.9841682225465774
          },
          {
           "lower": 0.1767550677061081,
           "timepoint_id": 291,
           "trajectory": "Wolves",
           "upper": 0.9848017454147339
          },
          {
           "lower": 0.1763964533805847,
           "timepoint_id": 292,
           "trajectory": "Wolves",
           "upper": 0.9717929661273956
          },
          {
           "lower": 0.17324413508176803,
           "timepoint_id": 293,
           "trajectory": "Wolves",
           "upper": 0.9724552452564238
          },
          {
           "lower": 0.1732856586575508,
           "timepoint_id": 294,
           "trajectory": "Wolves",
           "upper": 0.9535309344530104
          },
          {
           "lower": 0.1748480811715126,
           "timepoint_id": 295,
           "trajectory": "Wolves",
           "upper": 0.9326310396194456
          },
          {
           "lower": 0.1762670285999775,
           "timepoint_id": 296,
           "trajectory": "Wolves",
           "upper": 0.9295841276645659
          },
          {
           "lower": 0.1725742846727371,
           "timepoint_id": 297,
           "trajectory": "Wolves",
           "upper": 0.93381769657135
          },
          {
           "lower": 0.16734498590230942,
           "timepoint_id": 298,
           "trajectory": "Wolves",
           "upper": 0.9433647364377975
          },
          {
           "lower": 0.16266994401812554,
           "timepoint_id": 299,
           "trajectory": "Wolves",
           "upper": 0.9434632927179335
          },
          {
           "lower": 0.16204190626740456,
           "timepoint_id": 300,
           "trajectory": "Wolves",
           "upper": 0.929745441675186
          },
          {
           "lower": 0.16401308104395868,
           "timepoint_id": 301,
           "trajectory": "Wolves",
           "upper": 0.9312633752822875
          },
          {
           "lower": 0.1610918827354908,
           "timepoint_id": 302,
           "trajectory": "Wolves",
           "upper": 0.9575984060764312
          },
          {
           "lower": 0.1595179870724678,
           "timepoint_id": 303,
           "trajectory": "Wolves",
           "upper": 0.9786773830652237
          },
          {
           "lower": 0.15940841659903526,
           "timepoint_id": 304,
           "trajectory": "Wolves",
           "upper": 0.9792006373405456
          },
          {
           "lower": 0.15988668873906137,
           "timepoint_id": 305,
           "trajectory": "Wolves",
           "upper": 0.9875351130962372
          },
          {
           "lower": 0.16055451333522797,
           "timepoint_id": 306,
           "trajectory": "Wolves",
           "upper": 0.9977742075920105
          },
          {
           "lower": 0.15932910442352294,
           "timepoint_id": 307,
           "trajectory": "Wolves",
           "upper": 0.9986422032117843
          },
          {
           "lower": 0.15757134035229683,
           "timepoint_id": 308,
           "trajectory": "Wolves",
           "upper": 0.989025405049324
          },
          {
           "lower": 0.15634625032544136,
           "timepoint_id": 309,
           "trajectory": "Wolves",
           "upper": 0.9840576946735382
          },
          {
           "lower": 0.15566499382257462,
           "timepoint_id": 310,
           "trajectory": "Wolves",
           "upper": 0.9887935400009156
          },
          {
           "lower": 0.15536050274968147,
           "timepoint_id": 311,
           "trajectory": "Wolves",
           "upper": 0.9944401711225509
          },
          {
           "lower": 0.15766284391283988,
           "timepoint_id": 312,
           "trajectory": "Wolves",
           "upper": 0.9981949865818024
          },
          {
           "lower": 0.16062793880701065,
           "timepoint_id": 313,
           "trajectory": "Wolves",
           "upper": 0.9991020292043686
          },
          {
           "lower": 0.16433920487761497,
           "timepoint_id": 314,
           "trajectory": "Wolves",
           "upper": 1.0005050778388977
          },
          {
           "lower": 0.1689063861966133,
           "timepoint_id": 315,
           "trajectory": "Wolves",
           "upper": 0.9980441331863403
          },
          {
           "lower": 0.1744140401482582,
           "timepoint_id": 316,
           "trajectory": "Wolves",
           "upper": 1.002093893289566
          },
          {
           "lower": 0.180960863083601,
           "timepoint_id": 317,
           "trajectory": "Wolves",
           "upper": 1.0046568274497987
          },
          {
           "lower": 0.18866176828742026,
           "timepoint_id": 318,
           "trajectory": "Wolves",
           "upper": 1.0050383269786836
          },
          {
           "lower": 0.19764822348952293,
           "timepoint_id": 319,
           "trajectory": "Wolves",
           "upper": 1.0042850017547607
          },
          {
           "lower": 0.2080702915787697,
           "timepoint_id": 320,
           "trajectory": "Wolves",
           "upper": 1.0060572564601897
          },
          {
           "lower": 0.22009876295924188,
           "timepoint_id": 321,
           "trajectory": "Wolves",
           "upper": 1.0043819844722748
          },
          {
           "lower": 0.23392256274819376,
           "timepoint_id": 322,
           "trajectory": "Wolves",
           "upper": 1.0045744061470032
          },
          {
           "lower": 0.24646704196929933,
           "timepoint_id": 323,
           "trajectory": "Wolves",
           "upper": 0.999964925646782
          },
          {
           "lower": 0.258404316008091,
           "timepoint_id": 324,
           "trajectory": "Wolves",
           "upper": 0.9990847498178482
          },
          {
           "lower": 0.2694392278790474,
           "timepoint_id": 325,
           "trajectory": "Wolves",
           "upper": 0.9982341974973679
          },
          {
           "lower": 0.2790683969855309,
           "timepoint_id": 326,
           "trajectory": "Wolves",
           "upper": 0.9961802691221237
          },
          {
           "lower": 0.271256597340107,
           "timepoint_id": 327,
           "trajectory": "Wolves",
           "upper": 0.9862695634365081
          },
          {
           "lower": 0.2650373473763466,
           "timepoint_id": 328,
           "trajectory": "Wolves",
           "upper": 0.9797636747360229
          },
          {
           "lower": 0.2695761099457741,
           "timepoint_id": 329,
           "trajectory": "Wolves",
           "upper": 0.9708830118179321
          },
          {
           "lower": 0.27450200766324995,
           "timepoint_id": 330,
           "trajectory": "Wolves",
           "upper": 0.9488632947206497
          },
          {
           "lower": 0.2709284335374832,
           "timepoint_id": 331,
           "trajectory": "Wolves",
           "upper": 0.9224707871675492
          },
          {
           "lower": 0.2682962015271187,
           "timepoint_id": 332,
           "trajectory": "Wolves",
           "upper": 0.915161994099617
          },
          {
           "lower": 0.2666212901473045,
           "timepoint_id": 333,
           "trajectory": "Wolves",
           "upper": 0.9424799859523774
          },
          {
           "lower": 0.26394947469234464,
           "timepoint_id": 334,
           "trajectory": "Wolves",
           "upper": 0.9665680795907974
          },
          {
           "lower": 0.266243776679039,
           "timepoint_id": 335,
           "trajectory": "Wolves",
           "upper": 0.9792508184909821
          },
          {
           "lower": 0.2637952476739883,
           "timepoint_id": 336,
           "trajectory": "Wolves",
           "upper": 0.9932046800851821
          },
          {
           "lower": 0.25837850794196127,
           "timepoint_id": 337,
           "trajectory": "Wolves",
           "upper": 1.0007458627223969
          },
          {
           "lower": 0.25344827473163606,
           "timepoint_id": 338,
           "trajectory": "Wolves",
           "upper": 1.0012211203575134
          },
          {
           "lower": 0.24386561065912246,
           "timepoint_id": 339,
           "trajectory": "Wolves",
           "upper": 0.995558163523674
          },
          {
           "lower": 0.23652473539114,
           "timepoint_id": 340,
           "trajectory": "Wolves",
           "upper": 0.9877487063407898
          },
          {
           "lower": 0.23099110648036003,
           "timepoint_id": 341,
           "trajectory": "Wolves",
           "upper": 0.9768257975578308
          },
          {
           "lower": 0.22627165019512177,
           "timepoint_id": 342,
           "trajectory": "Wolves",
           "upper": 0.9792587578296661
          },
          {
           "lower": 0.22236145287752151,
           "timepoint_id": 343,
           "trajectory": "Wolves",
           "upper": 0.986902728676796
          },
          {
           "lower": 0.2194741278886795,
           "timepoint_id": 344,
           "trajectory": "Wolves",
           "upper": 0.98967787027359
          },
          {
           "lower": 0.21946358680725098,
           "timepoint_id": 345,
           "trajectory": "Wolves",
           "upper": 0.9947674691677093
          },
          {
           "lower": 0.21704072132706642,
           "timepoint_id": 346,
           "trajectory": "Wolves",
           "upper": 0.9874040722846985
          },
          {
           "lower": 0.21221753284335138,
           "timepoint_id": 347,
           "trajectory": "Wolves",
           "upper": 0.9867628872394562
          },
          {
           "lower": 0.2088850162923336,
           "timepoint_id": 348,
           "trajectory": "Wolves",
           "upper": 0.9872895181179047
          },
          {
           "lower": 0.2051271066069603,
           "timepoint_id": 349,
           "trajectory": "Wolves",
           "upper": 0.9737116515636444
          },
          {
           "lower": 0.19921137690544127,
           "timepoint_id": 350,
           "trajectory": "Wolves",
           "upper": 0.9534397929906844
          },
          {
           "lower": 0.19328893572092057,
           "timepoint_id": 351,
           "trajectory": "Wolves",
           "upper": 0.9291817784309386
          },
          {
           "lower": 0.1880706124007702,
           "timepoint_id": 352,
           "trajectory": "Wolves",
           "upper": 0.9017300635576246
          },
          {
           "lower": 0.18374776765704154,
           "timepoint_id": 353,
           "trajectory": "Wolves",
           "upper": 0.8718287050724028
          },
          {
           "lower": 0.18044356778264045,
           "timepoint_id": 354,
           "trajectory": "Wolves",
           "upper": 0.8401537984609603
          },
          {
           "lower": 0.17781589925289154,
           "timepoint_id": 355,
           "trajectory": "Wolves",
           "upper": 0.838287615776062
          },
          {
           "lower": 0.17685115560889245,
           "timepoint_id": 356,
           "trajectory": "Wolves",
           "upper": 0.8782581955194473
          },
          {
           "lower": 0.17651358023285865,
           "timepoint_id": 357,
           "trajectory": "Wolves",
           "upper": 0.9031823456287383
          },
          {
           "lower": 0.17541647106409072,
           "timepoint_id": 358,
           "trajectory": "Wolves",
           "upper": 0.8767389118671417
          },
          {
           "lower": 0.17425118684768676,
           "timepoint_id": 359,
           "trajectory": "Wolves",
           "upper": 0.8459935784339905
          },
          {
           "lower": 0.17419764325022696,
           "timepoint_id": 360,
           "trajectory": "Wolves",
           "upper": 0.8399101436138152
          },
          {
           "lower": 0.17339342311024666,
           "timepoint_id": 361,
           "trajectory": "Wolves",
           "upper": 0.867813330888748
          },
          {
           "lower": 0.17133173942565919,
           "timepoint_id": 362,
           "trajectory": "Wolves",
           "upper": 0.9023440331220626
          },
          {
           "lower": 0.17077715024352075,
           "timepoint_id": 363,
           "trajectory": "Wolves",
           "upper": 0.9324636578559874
          },
          {
           "lower": 0.1690235637128353,
           "timepoint_id": 364,
           "trajectory": "Wolves",
           "upper": 0.9574289798736572
          },
          {
           "lower": 0.16846948787569999,
           "timepoint_id": 365,
           "trajectory": "Wolves",
           "upper": 0.9766945660114288
          },
          {
           "lower": 0.16690961197018622,
           "timepoint_id": 366,
           "trajectory": "Wolves",
           "upper": 0.9784235924482345
          },
          {
           "lower": 0.1658799521625042,
           "timepoint_id": 367,
           "trajectory": "Wolves",
           "upper": 0.9686709612607955
          },
          {
           "lower": 0.16550885662436485,
           "timepoint_id": 368,
           "trajectory": "Wolves",
           "upper": 0.9483280420303345
          },
          {
           "lower": 0.16554983854293823,
           "timepoint_id": 369,
           "trajectory": "Wolves",
           "upper": 0.9513815075159071
          },
          {
           "lower": 0.16551879644393921,
           "timepoint_id": 370,
           "trajectory": "Wolves",
           "upper": 0.938515371084213
          },
          {
           "lower": 0.1666104257106781,
           "timepoint_id": 371,
           "trajectory": "Wolves",
           "upper": 0.9142257273197172
          },
          {
           "lower": 0.16982588320970535,
           "timepoint_id": 372,
           "trajectory": "Wolves",
           "upper": 0.8906619012355802
          },
          {
           "lower": 0.17467070892453193,
           "timepoint_id": 373,
           "trajectory": "Wolves",
           "upper": 0.8956397712230681
          },
          {
           "lower": 0.17906989976763726,
           "timepoint_id": 374,
           "trajectory": "Wolves",
           "upper": 0.9054218500852584
          },
          {
           "lower": 0.18450178802013398,
           "timepoint_id": 375,
           "trajectory": "Wolves",
           "upper": 0.9133259296417235
          },
          {
           "lower": 0.18393647372722627,
           "timepoint_id": 376,
           "trajectory": "Wolves",
           "upper": 0.9148140907287595
          },
          {
           "lower": 0.17978139147162436,
           "timepoint_id": 377,
           "trajectory": "Wolves",
           "upper": 0.9014464795589444
          },
          {
           "lower": 0.17623483017086983,
           "timepoint_id": 378,
           "trajectory": "Wolves",
           "upper": 0.9042280673980712
          },
          {
           "lower": 0.17535646259784698,
           "timepoint_id": 379,
           "trajectory": "Wolves",
           "upper": 0.9070893198251723
          },
          {
           "lower": 0.17748943343758583,
           "timepoint_id": 380,
           "trajectory": "Wolves",
           "upper": 0.9348081707954405
          },
          {
           "lower": 0.1802469238638878,
           "timepoint_id": 381,
           "trajectory": "Wolves",
           "upper": 0.9610650300979613
          },
          {
           "lower": 0.18075069710612296,
           "timepoint_id": 382,
           "trajectory": "Wolves",
           "upper": 0.9667689472436904
          },
          {
           "lower": 0.17994418293237685,
           "timepoint_id": 383,
           "trajectory": "Wolves",
           "upper": 0.9735250145196914
          },
          {
           "lower": 0.17771267220377923,
           "timepoint_id": 384,
           "trajectory": "Wolves",
           "upper": 0.9830871045589447
          },
          {
           "lower": 0.17378287985920907,
           "timepoint_id": 385,
           "trajectory": "Wolves",
           "upper": 0.9956873834133149
          },
          {
           "lower": 0.17184447944164277,
           "timepoint_id": 386,
           "trajectory": "Wolves",
           "upper": 0.9964617758989334
          },
          {
           "lower": 0.16898305863142013,
           "timepoint_id": 387,
           "trajectory": "Wolves",
           "upper": 0.9863021343946456
          },
          {
           "lower": 0.16669340208172798,
           "timepoint_id": 388,
           "trajectory": "Wolves",
           "upper": 0.9826664566993714
          },
          {
           "lower": 0.16497921720147132,
           "timepoint_id": 389,
           "trajectory": "Wolves",
           "upper": 0.9727314472198486
          },
          {
           "lower": 0.16416606903076172,
           "timepoint_id": 390,
           "trajectory": "Wolves",
           "upper": 0.9792365282773972
          },
          {
           "lower": 0.1638589732348919,
           "timepoint_id": 391,
           "trajectory": "Wolves",
           "upper": 0.9855025500059127
          },
          {
           "lower": 0.1642313100397587,
           "timepoint_id": 392,
           "trajectory": "Wolves",
           "upper": 0.9948146313428878
          },
          {
           "lower": 0.16483238935470582,
           "timepoint_id": 393,
           "trajectory": "Wolves",
           "upper": 0.9963617712259293
          },
          {
           "lower": 0.16590516418218612,
           "timepoint_id": 394,
           "trajectory": "Wolves",
           "upper": 0.9987373322248458
          },
          {
           "lower": 0.1629737839102745,
           "timepoint_id": 395,
           "trajectory": "Wolves",
           "upper": 1.00008482336998
          },
          {
           "lower": 0.1604690246284008,
           "timepoint_id": 396,
           "trajectory": "Wolves",
           "upper": 0.9975865095853805
          },
          {
           "lower": 0.1584906168282032,
           "timepoint_id": 397,
           "trajectory": "Wolves",
           "upper": 0.9969373792409897
          },
          {
           "lower": 0.1570437505841255,
           "timepoint_id": 398,
           "trajectory": "Wolves",
           "upper": 1.0013433933258056
          },
          {
           "lower": 0.15613754987716674,
           "timepoint_id": 399,
           "trajectory": "Wolves",
           "upper": 1.004535299539566
          },
          {
           "lower": 0.15617748349905014,
           "timepoint_id": 400,
           "trajectory": "Wolves",
           "upper": 1.0031640112400055
          },
          {
           "lower": 0.15852109864354133,
           "timepoint_id": 401,
           "trajectory": "Wolves",
           "upper": 1.00209139585495
          },
          {
           "lower": 0.16160307601094245,
           "timepoint_id": 402,
           "trajectory": "Wolves",
           "upper": 1.0031655102968215
          },
          {
           "lower": 0.16548710390925409,
           "timepoint_id": 403,
           "trajectory": "Wolves",
           "upper": 1.000268706679344
          },
          {
           "lower": 0.17024710550904273,
           "timepoint_id": 404,
           "trajectory": "Wolves",
           "upper": 1.0053135573863983
          },
          {
           "lower": 0.17597175016999245,
           "timepoint_id": 405,
           "trajectory": "Wolves",
           "upper": 1.0042481005191803
          },
          {
           "lower": 0.18276265785098075,
           "timepoint_id": 406,
           "trajectory": "Wolves",
           "upper": 1.0015988886356353
          },
          {
           "lower": 0.19073781594634057,
           "timepoint_id": 407,
           "trajectory": "Wolves",
           "upper": 0.9987025201320648
          },
          {
           "lower": 0.20003380924463274,
           "timepoint_id": 408,
           "trajectory": "Wolves",
           "upper": 0.9941364258527756
          },
          {
           "lower": 0.20846241042017938,
           "timepoint_id": 409,
           "trajectory": "Wolves",
           "upper": 0.9933387547731399
          },
          {
           "lower": 0.21300329491496087,
           "timepoint_id": 410,
           "trajectory": "Wolves",
           "upper": 0.9923468470573424
          },
          {
           "lower": 0.22190933227539061,
           "timepoint_id": 411,
           "trajectory": "Wolves",
           "upper": 0.9829826682806014
          },
          {
           "lower": 0.23667190596461296,
           "timepoint_id": 412,
           "trajectory": "Wolves",
           "upper": 0.967493814229965
          },
          {
           "lower": 0.24873205795884132,
           "timepoint_id": 413,
           "trajectory": "Wolves",
           "upper": 0.9696071535348892
          },
          {
           "lower": 0.252624849230051,
           "timepoint_id": 414,
           "trajectory": "Wolves",
           "upper": 0.9495100855827331
          },
          {
           "lower": 0.24948872104287148,
           "timepoint_id": 415,
           "trajectory": "Wolves",
           "upper": 0.9230954587459564
          },
          {
           "lower": 0.24057377353310586,
           "timepoint_id": 416,
           "trajectory": "Wolves",
           "upper": 0.8931585371494293
          },
          {
           "lower": 0.23964940011501312,
           "timepoint_id": 417,
           "trajectory": "Wolves",
           "upper": 0.8765404343605041
          },
          {
           "lower": 0.24154147878289223,
           "timepoint_id": 418,
           "trajectory": "Wolves",
           "upper": 0.8842344284057617
          },
          {
           "lower": 0.23490473479032517,
           "timepoint_id": 419,
           "trajectory": "Wolves",
           "upper": 0.9177514046430587
          },
          {
           "lower": 0.22757762968540193,
           "timepoint_id": 420,
           "trajectory": "Wolves",
           "upper": 0.9464763581752776
          },
          {
           "lower": 0.2235584504902363,
           "timepoint_id": 421,
           "trajectory": "Wolves",
           "upper": 0.9540556102991103
          },
          {
           "lower": 0.22396748512983322,
           "timepoint_id": 422,
           "trajectory": "Wolves",
           "upper": 0.9755993127822875
          },
          {
           "lower": 0.22564252614974975,
           "timepoint_id": 423,
           "trajectory": "Wolves",
           "upper": 0.9908364653587342
          },
          {
           "lower": 0.22745415866374968,
           "timepoint_id": 424,
           "trajectory": "Wolves",
           "upper": 0.9996582806110382
          },
          {
           "lower": 0.22303478196263313,
           "timepoint_id": 425,
           "trajectory": "Wolves",
           "upper": 0.9967845916748046
          },
          {
           "lower": 0.21770877838134767,
           "timepoint_id": 426,
           "trajectory": "Wolves",
           "upper": 0.9930602729320526
          },
          {
           "lower": 0.21676131710410118,
           "timepoint_id": 427,
           "trajectory": "Wolves",
           "upper": 0.9873218834400177
          },
          {
           "lower": 0.2125228926539421,
           "timepoint_id": 428,
           "trajectory": "Wolves",
           "upper": 0.9763293206691742
          },
          {
           "lower": 0.20825617164373397,
           "timepoint_id": 429,
           "trajectory": "Wolves",
           "upper": 0.9599705278873444
          },
          {
           "lower": 0.20480770468711854,
           "timepoint_id": 430,
           "trajectory": "Wolves",
           "upper": 0.9704875797033309
          },
          {
           "lower": 0.19864267855882645,
           "timepoint_id": 431,
           "trajectory": "Wolves",
           "upper": 0.9803441017866135
          },
          {
           "lower": 0.19278619289398194,
           "timepoint_id": 432,
           "trajectory": "Wolves",
           "upper": 0.9819544672966002
          },
          {
           "lower": 0.18763251826167107,
           "timepoint_id": 433,
           "trajectory": "Wolves",
           "upper": 0.9851570159196853
          },
          {
           "lower": 0.18316455334424972,
           "timepoint_id": 434,
           "trajectory": "Wolves",
           "upper": 0.9856617510318756
          },
          {
           "lower": 0.17988908290863037,
           "timepoint_id": 435,
           "trajectory": "Wolves",
           "upper": 0.9911581814289092
          },
          {
           "lower": 0.17933618202805518,
           "timepoint_id": 436,
           "trajectory": "Wolves",
           "upper": 0.9942106962203979
          },
          {
           "lower": 0.18049367815256118,
           "timepoint_id": 437,
           "trajectory": "Wolves",
           "upper": 0.999222519993782
          },
          {
           "lower": 0.18218330666422844,
           "timepoint_id": 438,
           "trajectory": "Wolves",
           "upper": 0.9999788880348205
          },
          {
           "lower": 0.17931619584560393,
           "timepoint_id": 439,
           "trajectory": "Wolves",
           "upper": 1.0049906104803086
          },
          {
           "lower": 0.17619916945695877,
           "timepoint_id": 440,
           "trajectory": "Wolves",
           "upper": 1.0021923750638961
          },
          {
           "lower": 0.17557455822825432,
           "timepoint_id": 441,
           "trajectory": "Wolves",
           "upper": 0.9986036211252213
          },
          {
           "lower": 0.1763834498822689,
           "timepoint_id": 442,
           "trajectory": "Wolves",
           "upper": 0.9899148404598236
          },
          {
           "lower": 0.1755789965391159,
           "timepoint_id": 443,
           "trajectory": "Wolves",
           "upper": 0.9872723191976547
          },
          {
           "lower": 0.1731801487505436,
           "timepoint_id": 444,
           "trajectory": "Wolves",
           "upper": 0.9692124962806701
          },
          {
           "lower": 0.17481856048107147,
           "timepoint_id": 445,
           "trajectory": "Wolves",
           "upper": 0.9520798653364181
          },
          {
           "lower": 0.1763616219162941,
           "timepoint_id": 446,
           "trajectory": "Wolves",
           "upper": 0.950083702802658
          },
          {
           "lower": 0.17467631101608277,
           "timepoint_id": 447,
           "trajectory": "Wolves",
           "upper": 0.9260579675436019
          },
          {
           "lower": 0.17083724737167358,
           "timepoint_id": 448,
           "trajectory": "Wolves",
           "upper": 0.8992494136095046
          },
          {
           "lower": 0.1666094593703747,
           "timepoint_id": 449,
           "trajectory": "Wolves",
           "upper": 0.8703008115291594
          },
          {
           "lower": 0.1656822994351387,
           "timepoint_id": 450,
           "trajectory": "Wolves",
           "upper": 0.8571781814098357
          },
          {
           "lower": 0.1654304549098015,
           "timepoint_id": 451,
           "trajectory": "Wolves",
           "upper": 0.8730472445487976
          },
          {
           "lower": 0.1663128986954689,
           "timepoint_id": 452,
           "trajectory": "Wolves",
           "upper": 0.8788756728172301
          },
          {
           "lower": 0.16778351962566376,
           "timepoint_id": 453,
           "trajectory": "Wolves",
           "upper": 0.8818724185228345
          },
          {
           "lower": 0.1688595473766327,
           "timepoint_id": 454,
           "trajectory": "Wolves",
           "upper": 0.8816515505313869
          },
          {
           "lower": 0.17143086344003677,
           "timepoint_id": 455,
           "trajectory": "Wolves",
           "upper": 0.8742863327264783
          },
          {
           "lower": 0.1752846710383892,
           "timepoint_id": 456,
           "trajectory": "Wolves",
           "upper": 0.8763623982667923
          },
          {
           "lower": 0.17985443621873856,
           "timepoint_id": 457,
           "trajectory": "Wolves",
           "upper": 0.8810112625360488
          },
          {
           "lower": 0.18417395576834678,
           "timepoint_id": 458,
           "trajectory": "Wolves",
           "upper": 0.9080043017864226
          },
          {
           "lower": 0.18885962814092636,
           "timepoint_id": 459,
           "trajectory": "Wolves",
           "upper": 0.9386744022369383
          },
          {
           "lower": 0.18875136002898216,
           "timepoint_id": 460,
           "trajectory": "Wolves",
           "upper": 0.951682311296463
          },
          {
           "lower": 0.1875740148127079,
           "timepoint_id": 461,
           "trajectory": "Wolves",
           "upper": 0.9526154279708862
          },
          {
           "lower": 0.18340350538492203,
           "timepoint_id": 462,
           "trajectory": "Wolves",
           "upper": 0.967214611172676
          },
          {
           "lower": 0.1797109790146351,
           "timepoint_id": 463,
           "trajectory": "Wolves",
           "upper": 0.9782778948545456
          },
          {
           "lower": 0.1780935861170292,
           "timepoint_id": 464,
           "trajectory": "Wolves",
           "upper": 0.9929623037576676
          },
          {
           "lower": 0.18051922917366028,
           "timepoint_id": 465,
           "trajectory": "Wolves",
           "upper": 0.9935926169157028
          },
          {
           "lower": 0.1835742212831974,
           "timepoint_id": 466,
           "trajectory": "Wolves",
           "upper": 0.982981064915657
          },
          {
           "lower": 0.18483320698142053,
           "timepoint_id": 467,
           "trajectory": "Wolves",
           "upper": 0.9751109391450882
          },
          {
           "lower": 0.18378577679395675,
           "timepoint_id": 468,
           "trajectory": "Wolves",
           "upper": 0.9734359979629517
          },
          {
           "lower": 0.18323469310998916,
           "timepoint_id": 469,
           "trajectory": "Wolves",
           "upper": 0.9589579313993454
          },
          {
           "lower": 0.18296254724264144,
           "timepoint_id": 470,
           "trajectory": "Wolves",
           "upper": 0.9672924876213074
          },
          {
           "lower": 0.18928456977009772,
           "timepoint_id": 471,
           "trajectory": "Wolves",
           "upper": 0.9726561933755874
          },
          {
           "lower": 0.1836253210902214,
           "timepoint_id": 472,
           "trajectory": "Wolves",
           "upper": 0.9888338655233383
          },
          {
           "lower": 0.17733232229948043,
           "timepoint_id": 473,
           "trajectory": "Wolves",
           "upper": 0.9925686925649643
          },
          {
           "lower": 0.1724783331155777,
           "timepoint_id": 474,
           "trajectory": "Wolves",
           "upper": 0.995303800702095
          },
          {
           "lower": 0.16982696056365967,
           "timepoint_id": 475,
           "trajectory": "Wolves",
           "upper": 0.9976611137390137
          },
          {
           "lower": 0.16763659566640854,
           "timepoint_id": 476,
           "trajectory": "Wolves",
           "upper": 0.9995992243289947
          },
          {
           "lower": 0.16603316590189934,
           "timepoint_id": 477,
           "trajectory": "Wolves",
           "upper": 0.9973608493804932
          },
          {
           "lower": 0.16775305867195128,
           "timepoint_id": 478,
           "trajectory": "Wolves",
           "upper": 0.9954323470592499
          },
          {
           "lower": 0.16995794773101808,
           "timepoint_id": 479,
           "trajectory": "Wolves",
           "upper": 0.9963240295648574
          },
          {
           "lower": 0.17077829837799072,
           "timepoint_id": 480,
           "trajectory": "Wolves",
           "upper": 1.0007076144218445
          },
          {
           "lower": 0.17158592715859414,
           "timepoint_id": 481,
           "trajectory": "Wolves",
           "upper": 1.0012928336858749
          },
          {
           "lower": 0.17150169163942336,
           "timepoint_id": 482,
           "trajectory": "Wolves",
           "upper": 0.9991271167993545
          },
          {
           "lower": 0.1677117846906185,
           "timepoint_id": 483,
           "trajectory": "Wolves",
           "upper": 1.0007474809885024
          },
          {
           "lower": 0.1644555762410164,
           "timepoint_id": 484,
           "trajectory": "Wolves",
           "upper": 1.0012450426816941
          },
          {
           "lower": 0.1617278590798378,
           "timepoint_id": 485,
           "trajectory": "Wolves",
           "upper": 0.9981553196907044
          },
          {
           "lower": 0.15952814891934394,
           "timepoint_id": 486,
           "trajectory": "Wolves",
           "upper": 1.0005579859018325
          },
          {
           "lower": 0.15785960704088212,
           "timepoint_id": 487,
           "trajectory": "Wolves",
           "upper": 1.0051156818866729
          },
          {
           "lower": 0.1567295730113983,
           "timepoint_id": 488,
           "trajectory": "Wolves",
           "upper": 1.003503081202507
          },
          {
           "lower": 0.15729982852935792,
           "timepoint_id": 489,
           "trajectory": "Wolves",
           "upper": 1.003023886680603
          },
          {
           "lower": 0.15950344130396843,
           "timepoint_id": 490,
           "trajectory": "Wolves",
           "upper": 0.9974136888980866
          },
          {
           "lower": 0.16275647804141044,
           "timepoint_id": 491,
           "trajectory": "Wolves",
           "upper": 0.9931495100259781
          },
          {
           "lower": 0.16683145835995675,
           "timepoint_id": 492,
           "trajectory": "Wolves",
           "upper": 0.9876937597990035
          },
          {
           "lower": 0.17180634289979935,
           "timepoint_id": 493,
           "trajectory": "Wolves",
           "upper": 0.9899403691291809
          },
          {
           "lower": 0.17777244374155998,
           "timepoint_id": 494,
           "trajectory": "Wolves",
           "upper": 0.9889350175857543
          },
          {
           "lower": 0.18516932129859925,
           "timepoint_id": 495,
           "trajectory": "Wolves",
           "upper": 0.9785982936620711
          },
          {
           "lower": 0.19280534088611603,
           "timepoint_id": 496,
           "trajectory": "Wolves",
           "upper": 0.961494669318199
          },
          {
           "lower": 0.19997676312923432,
           "timepoint_id": 497,
           "trajectory": "Wolves",
           "upper": 0.9558734208345413
          },
          {
           "lower": 0.20854627192020417,
           "timepoint_id": 498,
           "trajectory": "Wolves",
           "upper": 0.9501699745655059
          },
          {
           "lower": 0.21367589011788368,
           "timepoint_id": 499,
           "trajectory": "Wolves",
           "upper": 0.9239561259746552
          }
         ]
        },
        {
         "name": "points",
         "values": []
        },
        {
         "name": "selected",
         "on": [
          {
           "remove": true,
           "trigger": "clear"
          },
          {
           "remove": true,
           "trigger": "!shift"
          },
          {
           "insert": "clicked",
           "trigger": "!shift && clicked"
          },
          {
           "toggle": "clicked",
           "trigger": "shift && clicked"
          }
         ]
        }
       ],
       "height": 300,
       "legends": [
        {
         "encode": {
          "labels": {
           "interactive": true,
           "name": "legendLabel",
           "update": {
            "opacity": [
             {
              "test": "!length(data('selected')) || indata('selected', 'value', datum.value)",
              "value": 1
             },
             {
              "value": 0.25
             }
            ]
           }
          },
          "symbols": {
           "interactive": true,
           "name": "legendSymbol",
           "update": {
            "fill": {
             "value": "transparent"
            },
            "opacity": [
             {
              "test": "!length(data('selected')) || indata('selected', 'value', datum.value)",
              "value": 0.7
             },
             {
              "value": 0.15
             }
            ],
            "size": {
             "value": 64
            },
            "strokeWidth": {
             "value": 2
            }
           }
          }
         },
         "stroke": "color"
        }
       ],
       "marks": [
        {
         "from": {
          "facet": {
           "data": "points",
           "groupby": "trajectory",
           "name": "points_split"
          }
         },
         "marks": [
          {
           "encode": {
            "hover": {
             "fillOpacity": {
              "value": 0.9
             }
            },
            "update": {
             "fill": {
              "field": "trajectory",
              "scale": "color"
             },
             "fillOpacity": [
              {
               "test": "!length(data('selected')) || indata('selected', 'value', datum.trajectory)",
               "value": 0.5
              },
              {
               "value": 0.15
              }
             ],
             "stroke": {
              "field": "trajectory",
              "scale": "color"
             },
             "strokeOpacity": [
              {
               "test": "!length(data('selected')) || indata('selected', 'value', datum.trajectory)",
               "value": 0.75
              },
              {
               "value": 0.15
              }
             ],
             "strokeWidth": {
              "value": 2
             },
             "x": {
              "field": "timepoint_id",
              "scale": "xscale"
             },
             "y": {
              "field": "value",
              "scale": "yscale"
             }
            }
           },
           "from": {
            "data": "points"
           },
           "name": "_points",
           "type": "symbol",
           "zindex": 3
          },
          {
           "encode": {
            "hover": {
             "fillOpacity": {
              "value": 0.9
             }
            },
            "update": {
             "interpolate": {
              "value": "linear"
             },
             "stroke": {
              "field": "trajectory",
              "scale": "color"
             },
             "strokeOpacity": [
              {
               "test": "!length(data('selected')) || indata('selected', 'value', datum.trajectory)",
               "value": 0.3
              },
              {
               "value": 0.1
              }
             ],
             "strokeWidth": {
              "value": 2
             },
             "x": {
              "field": "timepoint_id",
              "scale": "xscale"
             },
             "y": {
              "field": "value",
              "scale": "yscale"
             }
            }
           },
           "from": {
            "data": "points"
           },
           "name": "_points_line",
           "type": "line",
           "zindex": 3
          }
         ],
         "type": "group",
         "zindex": 3
        },
        {
         "from": {
          "facet": {
           "data": "distributions",
           "groupby": "trajectory",
           "name": "trajectory_split"
          }
         },
         "marks": [
          {
           "encode": {
            "hover": {
             "fillOpacity": {
              "value": 0.9
             }
            },
            "update": {
             "fill": {
              "field": "trajectory",
              "scale": "color"
             },
             "fillOpacity": [
              {
               "test": "!length(data('selected')) || indata('selected', 'value', datum.trajectory)",
               "value": 0.5
              },
              {
               "value": 0.15
              }
             ],
             "interpolate": {
              "value": "linear"
             },
             "stroke": {
              "field": "trajectory",
              "scale": "color"
             },
             "strokeOpacity": [
              {
               "test": "!length(data('selected')) || indata('selected', 'value', datum.trajectory)",
               "value": 0.75
              },
              {
               "value": 0.15
              }
             ],
             "strokeWidth": {
              "value": 2
             },
             "x": {
              "field": "timepoint_id",
              "scale": "xscale"
             },
             "y": {
              "field": "upper",
              "scale": "yscale"
             },
             "y2": {
              "field": "lower",
              "scale": "yscale"
             }
            }
           },
           "from": {
            "data": "trajectory_split"
           },
           "type": "area"
          }
         ],
         "name": "_distributions",
         "type": "group",
         "zindex": 1
        }
       ],
       "padding": 5,
       "scales": [
        {
         "domain": {
          "fields": [
           {
            "data": "distributions",
            "field": "timepoint_id"
           },
           {
            "data": "points",
            "field": "timepoint_id"
           }
          ]
         },
         "name": "xscale",
         "range": "width",
         "type": "linear",
         "zero": false
        },
        {
         "domain": {
          "fields": [
           {
            "data": "distributions",
            "field": "lower"
           },
           {
            "data": "distributions",
            "field": "upper"
           },
           {
            "data": "points",
            "field": "value"
           }
          ]
         },
         "name": "yscale",
         "nice": true,
         "range": "height",
         "type": "linear",
         "zero": true
        },
        {
         "domain": {
          "fields": [
           {
            "data": "distributions",
            "field": "trajectory"
           },
           {
            "data": "points",
            "field": "trajectory"
           }
          ]
         },
         "name": "color",
         "range": "category",
         "type": "ordinal"
        }
       ],
       "signals": [
        {
         "name": "clear",
         "on": [
          {
           "events": "mouseup[!event.item]",
           "force": true,
           "update": "true"
          }
         ],
         "value": true
        },
        {
         "name": "shift",
         "on": [
          {
           "events": "@legendSymbol:click, @legendLabel:click",
           "force": true,
           "update": "event.shiftKey"
          }
         ],
         "value": false
        },
        {
         "name": "clicked",
         "on": [
          {
           "events": "@legendSymbol:click, @legendLabel:click",
           "force": true,
           "update": "{value: datum.value}"
          }
         ],
         "value": null
        }
       ],
       "width": 500
      }
     },
     "metadata": {},
     "output_type": "display_data"
    }
   ],
   "source": [
    "ext_samples = deepcopy(prior_samples)\n",
    "ext_samples[\"Wolf Example\"] = prior_samples[\"Wolves_sol\"][1]\n",
    "ext_samples[\"Rabbit Example\"] = prior_samples[\"Rabbits_sol\"][1]\n",
    "subset = [\"Rabbits_sol\", \"Wolves_sol\", \"Rabbit Example\", \"Wolf Example\"]\n",
    "nice_labels={\"Rabbits_sol\": \"Rabbits\", \"Wolves_sol\": \"Wolves\"}\n",
    "schema = vega.trajectories(ext_samples, \n",
    "                           subset=subset, \n",
    "                           relabel=nice_labels)\n",
    "schema = vega.pad(schema, 5)\n",
    "vega.save_schema(schema, \"_schema.json\")\n",
    "vega.ipy_display(schema)\n",
    "#tracks = schema"
   ]
  },
  {
   "cell_type": "code",
   "execution_count": null,
   "metadata": {},
   "outputs": [],
   "source": []
  }
 ],
 "metadata": {
  "kernelspec": {
   "display_name": "ASKEM",
   "language": "python",
   "name": "python3"
  },
  "language_info": {
   "codemirror_mode": {
    "name": "ipython",
    "version": 3
   },
   "file_extension": ".py",
   "mimetype": "text/x-python",
   "name": "python",
   "nbconvert_exporter": "python",
   "pygments_lexer": "ipython3",
   "version": "3.10.4"
  },
  "orig_nbformat": 4
 },
 "nbformat": 4,
 "nbformat_minor": 2
}
