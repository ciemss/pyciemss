{
 "cells": [
  {
   "cell_type": "code",
   "execution_count": 1,
   "metadata": {},
   "outputs": [],
   "source": [
    "%load_ext autoreload\n",
    "%autoreload 2"
   ]
  },
  {
   "cell_type": "code",
   "execution_count": 2,
   "metadata": {},
   "outputs": [],
   "source": [
    "import pandas as pd\n",
    "import numpy as np\n",
    "import torch\n",
    "\n",
    "import json\n",
    "from pathlib import Path\n",
    "from copy import deepcopy\n",
    "\n",
    "import pyciemss.visuals.plots as plots\n",
    "from pyciemss.utils import get_tspan\n",
    "from pyciemss.utils.interface_utils import convert_to_output_format\n"
   ]
  },
  {
   "cell_type": "code",
   "execution_count": 8,
   "metadata": {},
   "outputs": [],
   "source": [
    "# Load cached data...\n",
    "tspan = get_tspan(1, 50, 500).detach().numpy()\n",
    "\n",
    "root = Path(\"..\")/\"test\"/\"data/\"\n",
    "prior_samples = convert_to_output_format(plots.tensor_load(root/\"prior_samples.json\"), \n",
    "                                         tspan, time_unit=\"years\")\n",
    "observed_trajectory = convert_to_output_format(plots.tensor_load(root/\"observed_trajectory.json\"), \n",
    "                                               tspan, time_unit=\"years\")\n",
    "\n",
    "observed_points = (observed_trajectory\n",
    "    .rename(columns={\"Rabbits_sol\": \"Rabbits Samples\"})\n",
    "    .drop(columns=[\"Wolves_sol\", \"alpha_param\", \"beta_param\", \"delta_param\", \"gamma_param\"])\n",
    "    .iloc[::10]\n",
    ")\n"
   ]
  },
  {
   "cell_type": "code",
   "execution_count": 24,
   "metadata": {},
   "outputs": [
    {
     "name": "stdout",
     "output_type": "stream",
     "text": [
      "Index(['timepoint', 'sample_id', 'trajectory', 'value'], dtype='object')\n"
     ]
    }
   ],
   "source": [
    "schema = plots.trajectories(\n",
    "    prior_samples,\n",
    "    subset=\".*_sol\",\n",
    "    points=observed_points)\n",
    "points = pd.DataFrame(plots.find_named(schema[\"data\"], \"points\")[\"values\"])\n",
    "print(points.columns)\n",
    "\n"
   ]
  },
  {
   "cell_type": "code",
   "execution_count": 22,
   "metadata": {},
   "outputs": [
    {
     "data": {
      "text/plain": [
       "[]"
      ]
     },
     "execution_count": 22,
     "metadata": {},
     "output_type": "execute_result"
    }
   ],
   "source": [
    "plots.find_named(schema[\"data\"], \"traces\")[\"values\"]"
   ]
  },
  {
   "cell_type": "code",
   "execution_count": 9,
   "metadata": {},
   "outputs": [
    {
     "data": {
      "application/vnd.vega.v5+json": {
       "$schema": "https://vega.github.io/schema/vega/v5.json",
       "axes": [
        {
         "name": "x_axis",
         "orient": "bottom",
         "scale": "xscale",
         "zindex": 100
        },
        {
         "name": "y_axis",
         "orient": "left",
         "scale": "yscale",
         "zindex": 100
        }
       ],
       "data": [
        {
         "name": "distributions",
         "values": [
          {
           "lower": 0.5051243111491204,
           "timepoint": 1,
           "trajectory": "Rabbits",
           "upper": 0.6488389670848846
          },
          {
           "lower": 0.4810523107647896,
           "timepoint": 1.0981963872909546,
           "trajectory": "Rabbits",
           "upper": 0.6317649573087692
          },
          {
           "lower": 0.4601885452866554,
           "timepoint": 1.1963927745819092,
           "trajectory": "Rabbits",
           "upper": 0.6172279119491577
          },
          {
           "lower": 0.44223228096961975,
           "timepoint": 1.2945891618728638,
           "trajectory": "Rabbits",
           "upper": 0.6050723165273666
          },
          {
           "lower": 0.4269068524241447,
           "timepoint": 1.3927855491638184,
           "trajectory": "Rabbits",
           "upper": 0.5951532989740371
          },
          {
           "lower": 0.41377234309911726,
           "timepoint": 1.490981936454773,
           "trajectory": "Rabbits",
           "upper": 0.5873368799686431
          },
          {
           "lower": 0.40248590111732485,
           "timepoint": 1.5891783237457275,
           "trajectory": "Rabbits",
           "upper": 0.5815026640892028
          },
          {
           "lower": 0.3931929439306259,
           "timepoint": 1.6873748302459717,
           "trajectory": "Rabbits",
           "upper": 0.5775427132844925
          },
          {
           "lower": 0.3862742096185684,
           "timepoint": 1.7855710983276367,
           "trajectory": "Rabbits",
           "upper": 0.5753624409437179
          },
          {
           "lower": 0.38118805140256884,
           "timepoint": 1.8837676048278809,
           "trajectory": "Rabbits",
           "upper": 0.5757302582263947
          },
          {
           "lower": 0.3776500791311264,
           "timepoint": 1.981963872909546,
           "trajectory": "Rabbits",
           "upper": 0.5796148270368576
          },
          {
           "lower": 0.37555393427610395,
           "timepoint": 2.08016037940979,
           "trajectory": "Rabbits",
           "upper": 0.585342624783516
          },
          {
           "lower": 0.3748101145029068,
           "timepoint": 2.178356647491455,
           "trajectory": "Rabbits",
           "upper": 0.5931292980909347
          },
          {
           "lower": 0.3753451660275459,
           "timepoint": 2.276553153991699,
           "trajectory": "Rabbits",
           "upper": 0.6025383323431015
          },
          {
           "lower": 0.377096489071846,
           "timepoint": 2.3747496604919434,
           "trajectory": "Rabbits",
           "upper": 0.6135480284690856
          },
          {
           "lower": 0.3800157144665718,
           "timepoint": 2.4729459285736084,
           "trajectory": "Rabbits",
           "upper": 0.6261454164981841
          },
          {
           "lower": 0.3840783342719078,
           "timepoint": 2.5711421966552734,
           "trajectory": "Rabbits",
           "upper": 0.6403272837400436
          },
          {
           "lower": 0.3895245581865311,
           "timepoint": 2.6693387031555176,
           "trajectory": "Rabbits",
           "upper": 0.6560939222574232
          },
          {
           "lower": 0.39607561081647874,
           "timepoint": 2.7675352096557617,
           "trajectory": "Rabbits",
           "upper": 0.6737348735332488
          },
          {
           "lower": 0.4037196129560471,
           "timepoint": 2.8657314777374268,
           "trajectory": "Rabbits",
           "upper": 0.6940728366374967
          },
          {
           "lower": 0.41245175153017044,
           "timepoint": 2.963927745819092,
           "trajectory": "Rabbits",
           "upper": 0.7161092609167097
          },
          {
           "lower": 0.4222735777497292,
           "timepoint": 3.062124252319336,
           "trajectory": "Rabbits",
           "upper": 0.7398648440837858
          },
          {
           "lower": 0.43319143205881117,
           "timepoint": 3.16032075881958,
           "trajectory": "Rabbits",
           "upper": 0.7646123915910719
          },
          {
           "lower": 0.4452171564102173,
           "timepoint": 3.258517026901245,
           "trajectory": "Rabbits",
           "upper": 0.7892877429723737
          },
          {
           "lower": 0.4569105193018913,
           "timepoint": 3.3567135334014893,
           "trajectory": "Rabbits",
           "upper": 0.815542286634445
          },
          {
           "lower": 0.4695918634533882,
           "timepoint": 3.4549098014831543,
           "trajectory": "Rabbits",
           "upper": 0.8433761298656461
          },
          {
           "lower": 0.483332422375679,
           "timepoint": 3.5531063079833984,
           "trajectory": "Rabbits",
           "upper": 0.8727851301431654
          },
          {
           "lower": 0.4981502011418343,
           "timepoint": 3.6513025760650635,
           "trajectory": "Rabbits",
           "upper": 0.9037574321031568
          },
          {
           "lower": 0.5140681594610215,
           "timepoint": 3.7494990825653076,
           "trajectory": "Rabbits",
           "upper": 0.9362738102674482
          },
          {
           "lower": 0.5311100453138351,
           "timepoint": 3.8476953506469727,
           "trajectory": "Rabbits",
           "upper": 0.970302867889404
          },
          {
           "lower": 0.5493017822504044,
           "timepoint": 3.945891857147217,
           "trajectory": "Rabbits",
           "upper": 1.0058008164167402
          },
          {
           "lower": 0.5684487670660019,
           "timepoint": 4.044088363647461,
           "trajectory": "Rabbits",
           "upper": 1.0427060514688489
          },
          {
           "lower": 0.5885705500841141,
           "timepoint": 4.142284393310547,
           "trajectory": "Rabbits",
           "upper": 1.0809359312057492
          },
          {
           "lower": 0.6098981499671936,
           "timepoint": 4.240481376647949,
           "trajectory": "Rabbits",
           "upper": 1.1203878223896024
          },
          {
           "lower": 0.6324594795703888,
           "timepoint": 4.338677406311035,
           "trajectory": "Rabbits",
           "upper": 1.1609291970729825
          },
          {
           "lower": 0.6562829375267029,
           "timepoint": 4.436873912811279,
           "trajectory": "Rabbits",
           "upper": 1.2023967802524564
          },
          {
           "lower": 0.6823425441980362,
           "timepoint": 4.535070419311523,
           "trajectory": "Rabbits",
           "upper": 1.244588083028793
          },
          {
           "lower": 0.7107869565486908,
           "timepoint": 4.633266448974609,
           "trajectory": "Rabbits",
           "upper": 1.2872623503208158
          },
          {
           "lower": 0.7407032549381256,
           "timepoint": 4.7314629554748535,
           "trajectory": "Rabbits",
           "upper": 1.3301270723342893
          },
          {
           "lower": 0.7721204370260238,
           "timepoint": 4.829659461975098,
           "trajectory": "Rabbits",
           "upper": 1.3728431224822994
          },
          {
           "lower": 0.805060988664627,
           "timepoint": 4.927855491638184,
           "trajectory": "Rabbits",
           "upper": 1.4171339631080624
          },
          {
           "lower": 0.8395456910133362,
           "timepoint": 5.026051998138428,
           "trajectory": "Rabbits",
           "upper": 1.4623533129692075
          },
          {
           "lower": 0.8755844682455063,
           "timepoint": 5.124248504638672,
           "trajectory": "Rabbits",
           "upper": 1.5069728612899778
          },
          {
           "lower": 0.9131788015365601,
           "timepoint": 5.222445011138916,
           "trajectory": "Rabbits",
           "upper": 1.5505466878414154
          },
          {
           "lower": 0.9523179590702057,
           "timepoint": 5.32064151763916,
           "trajectory": "Rabbits",
           "upper": 1.5925707936286926
          },
          {
           "lower": 0.9904650866985321,
           "timepoint": 5.418837547302246,
           "trajectory": "Rabbits",
           "upper": 1.6349843382835387
          },
          {
           "lower": 1.0290996789932252,
           "timepoint": 5.51703405380249,
           "trajectory": "Rabbits",
           "upper": 1.6903327703475952
          },
          {
           "lower": 1.068894773721695,
           "timepoint": 5.615230560302734,
           "trajectory": "Rabbits",
           "upper": 1.7450684905052185
          },
          {
           "lower": 1.1097592115402222,
           "timepoint": 5.7134270668029785,
           "trajectory": "Rabbits",
           "upper": 1.7986104249954225
          },
          {
           "lower": 1.151575994491577,
           "timepoint": 5.811623573303223,
           "trajectory": "Rabbits",
           "upper": 1.850271362066269
          },
          {
           "lower": 1.1941976070404052,
           "timepoint": 5.909819602966309,
           "trajectory": "Rabbits",
           "upper": 1.899582540988922
          },
          {
           "lower": 1.23744078874588,
           "timepoint": 6.008016109466553,
           "trajectory": "Rabbits",
           "upper": 1.943354856967926
          },
          {
           "lower": 1.2810803174972534,
           "timepoint": 6.106212615966797,
           "trajectory": "Rabbits",
           "upper": 1.9746112644672393
          },
          {
           "lower": 1.3245567440986634,
           "timepoint": 6.204409122467041,
           "trajectory": "Rabbits",
           "upper": 2.006672477722168
          },
          {
           "lower": 1.3671102821826935,
           "timepoint": 6.302605152130127,
           "trajectory": "Rabbits",
           "upper": 2.0283280491828917
          },
          {
           "lower": 1.408983862400055,
           "timepoint": 6.400801658630371,
           "trajectory": "Rabbits",
           "upper": 2.01531400680542
          },
          {
           "lower": 1.4367581963539124,
           "timepoint": 6.498998165130615,
           "trajectory": "Rabbits",
           "upper": 2.0211418747901915
          },
          {
           "lower": 1.4506515979766845,
           "timepoint": 6.597194671630859,
           "trajectory": "Rabbits",
           "upper": 2.015464460849762
          },
          {
           "lower": 1.4284321010112762,
           "timepoint": 6.695390701293945,
           "trajectory": "Rabbits",
           "upper": 1.9974848330020905
          },
          {
           "lower": 1.4066657185554505,
           "timepoint": 6.7935872077941895,
           "trajectory": "Rabbits",
           "upper": 1.9946840226650238
          },
          {
           "lower": 1.3370188474655151,
           "timepoint": 6.891783714294434,
           "trajectory": "Rabbits",
           "upper": 1.973221319913864
          },
          {
           "lower": 1.268656712770462,
           "timepoint": 6.989980220794678,
           "trajectory": "Rabbits",
           "upper": 1.946996235847473
          },
          {
           "lower": 1.2056418180465698,
           "timepoint": 7.088176250457764,
           "trajectory": "Rabbits",
           "upper": 1.926825213432312
          },
          {
           "lower": 1.1426748096942902,
           "timepoint": 7.186372756958008,
           "trajectory": "Rabbits",
           "upper": 1.8917805612087248
          },
          {
           "lower": 1.0809118807315827,
           "timepoint": 7.284569263458252,
           "trajectory": "Rabbits",
           "upper": 1.873773556947708
          },
          {
           "lower": 1.021326494216919,
           "timepoint": 7.382765769958496,
           "trajectory": "Rabbits",
           "upper": 1.838645803928375
          },
          {
           "lower": 0.9646812707185746,
           "timepoint": 7.48096227645874,
           "trajectory": "Rabbits",
           "upper": 1.7861752212047575
          },
          {
           "lower": 0.9115411072969437,
           "timepoint": 7.579158306121826,
           "trajectory": "Rabbits",
           "upper": 1.7476635694503784
          },
          {
           "lower": 0.8622704237699509,
           "timepoint": 7.67735481262207,
           "trajectory": "Rabbits",
           "upper": 1.7020660996437074
          },
          {
           "lower": 0.8200316578149796,
           "timepoint": 7.7755513191223145,
           "trajectory": "Rabbits",
           "upper": 1.650298374891281
          },
          {
           "lower": 0.7819973856210709,
           "timepoint": 7.873747825622559,
           "trajectory": "Rabbits",
           "upper": 1.6116529524326324
          },
          {
           "lower": 0.7480799227952957,
           "timepoint": 7.9719438552856445,
           "trajectory": "Rabbits",
           "upper": 1.563731038570404
          },
          {
           "lower": 0.7194193333387375,
           "timepoint": 8.070140838623047,
           "trajectory": "Rabbits",
           "upper": 1.5072274923324585
          },
          {
           "lower": 0.6914891541004181,
           "timepoint": 8.168336868286133,
           "trajectory": "Rabbits",
           "upper": 1.4292892456054687
          },
          {
           "lower": 0.6670606106519699,
           "timepoint": 8.266532897949219,
           "trajectory": "Rabbits",
           "upper": 1.3471659898757935
          },
          {
           "lower": 0.641142001748085,
           "timepoint": 8.364728927612305,
           "trajectory": "Rabbits",
           "upper": 1.2633545577526093
          },
          {
           "lower": 0.6135189205408096,
           "timepoint": 8.462925910949707,
           "trajectory": "Rabbits",
           "upper": 1.1872593283653259
          },
          {
           "lower": 0.5919944554567337,
           "timepoint": 8.56112289428711,
           "trajectory": "Rabbits",
           "upper": 1.1166882276535033
          },
          {
           "lower": 0.571210527420044,
           "timepoint": 8.659318923950195,
           "trajectory": "Rabbits",
           "upper": 1.0470829546451568
          },
          {
           "lower": 0.5549307703971863,
           "timepoint": 8.757514953613281,
           "trajectory": "Rabbits",
           "upper": 0.9762333691120146
          },
          {
           "lower": 0.5424787819385528,
           "timepoint": 8.855710983276367,
           "trajectory": "Rabbits",
           "upper": 0.9051215559244155
          },
          {
           "lower": 0.5280335992574692,
           "timepoint": 8.95390796661377,
           "trajectory": "Rabbits",
           "upper": 0.8438710719346999
          },
          {
           "lower": 0.5136239737272262,
           "timepoint": 9.052103996276855,
           "trajectory": "Rabbits",
           "upper": 0.7899392932653426
          },
          {
           "lower": 0.5010840415954589,
           "timepoint": 9.150300979614258,
           "trajectory": "Rabbits",
           "upper": 0.741310104727745
          },
          {
           "lower": 0.4843059152364731,
           "timepoint": 9.248497009277344,
           "trajectory": "Rabbits",
           "upper": 0.6987793892621994
          },
          {
           "lower": 0.46948242634534837,
           "timepoint": 9.346693992614746,
           "trajectory": "Rabbits",
           "upper": 0.6654698103666306
          },
          {
           "lower": 0.456996813416481,
           "timepoint": 9.444890022277832,
           "trajectory": "Rabbits",
           "upper": 0.6317428410053253
          },
          {
           "lower": 0.44688632488250735,
           "timepoint": 9.543086051940918,
           "trajectory": "Rabbits",
           "upper": 0.6195917665958404
          },
          {
           "lower": 0.4393170580267906,
           "timepoint": 9.64128303527832,
           "trajectory": "Rabbits",
           "upper": 0.5936942964792251
          },
          {
           "lower": 0.43049156963825225,
           "timepoint": 9.739479064941406,
           "trajectory": "Rabbits",
           "upper": 0.5928875982761382
          },
          {
           "lower": 0.42122622579336166,
           "timepoint": 9.837675094604492,
           "trajectory": "Rabbits",
           "upper": 0.604402607679367
          },
          {
           "lower": 0.4145303204655647,
           "timepoint": 9.935872077941895,
           "trajectory": "Rabbits",
           "upper": 0.6175673276185989
          },
          {
           "lower": 0.409544937312603,
           "timepoint": 10.03406810760498,
           "trajectory": "Rabbits",
           "upper": 0.6323772072792053
          },
          {
           "lower": 0.4043998926877975,
           "timepoint": 10.132265090942383,
           "trajectory": "Rabbits",
           "upper": 0.648832431435585
          },
          {
           "lower": 0.39657222479581833,
           "timepoint": 10.230461120605469,
           "trajectory": "Rabbits",
           "upper": 0.6669412821531295
          },
          {
           "lower": 0.3914209812879562,
           "timepoint": 10.328657150268555,
           "trajectory": "Rabbits",
           "upper": 0.6867181420326233
          },
          {
           "lower": 0.38856773972511294,
           "timepoint": 10.426854133605957,
           "trajectory": "Rabbits",
           "upper": 0.7081786185503005
          },
          {
           "lower": 0.3846037968993187,
           "timepoint": 10.525050163269043,
           "trajectory": "Rabbits",
           "upper": 0.7313447654247283
          },
          {
           "lower": 0.38213504999876025,
           "timepoint": 10.623247146606445,
           "trajectory": "Rabbits",
           "upper": 0.7562388241291045
          },
          {
           "lower": 0.3810760900378227,
           "timepoint": 10.721443176269531,
           "trajectory": "Rabbits",
           "upper": 0.7828852593898772
          },
          {
           "lower": 0.38122865110635756,
           "timepoint": 10.819639205932617,
           "trajectory": "Rabbits",
           "upper": 0.8113089025020598
          },
          {
           "lower": 0.38336937576532365,
           "timepoint": 10.91783618927002,
           "trajectory": "Rabbits",
           "upper": 0.8415317207574843
          },
          {
           "lower": 0.3866841092705727,
           "timepoint": 11.016032218933105,
           "trajectory": "Rabbits",
           "upper": 0.8735748052597044
          },
          {
           "lower": 0.3911342531442642,
           "timepoint": 11.114228248596191,
           "trajectory": "Rabbits",
           "upper": 0.9074536323547362
          },
          {
           "lower": 0.39669124931097033,
           "timepoint": 11.212425231933594,
           "trajectory": "Rabbits",
           "upper": 0.9431790947914122
          },
          {
           "lower": 0.40181774348020555,
           "timepoint": 11.31062126159668,
           "trajectory": "Rabbits",
           "upper": 0.9807507842779157
          },
          {
           "lower": 0.407728835940361,
           "timepoint": 11.408818244934082,
           "trajectory": "Rabbits",
           "upper": 1.0201601594686507
          },
          {
           "lower": 0.4146845549345016,
           "timepoint": 11.507014274597168,
           "trajectory": "Rabbits",
           "upper": 1.0613841593265532
          },
          {
           "lower": 0.42267623692750933,
           "timepoint": 11.605210304260254,
           "trajectory": "Rabbits",
           "upper": 1.1043815016746519
          },
          {
           "lower": 0.4317007020115852,
           "timepoint": 11.703407287597656,
           "trajectory": "Rabbits",
           "upper": 1.1490903258323666
          },
          {
           "lower": 0.4413680672645569,
           "timepoint": 11.801603317260742,
           "trajectory": "Rabbits",
           "upper": 1.195424300432205
          },
          {
           "lower": 0.4518758445978165,
           "timepoint": 11.899799346923828,
           "trajectory": "Rabbits",
           "upper": 1.2405022025108334
          },
          {
           "lower": 0.4634175285696983,
           "timepoint": 11.99799633026123,
           "trajectory": "Rabbits",
           "upper": 1.2830369472503658
          },
          {
           "lower": 0.476004995405674,
           "timepoint": 12.096192359924316,
           "trajectory": "Rabbits",
           "upper": 1.3257771432399745
          },
          {
           "lower": 0.48965266942977903,
           "timepoint": 12.194389343261719,
           "trajectory": "Rabbits",
           "upper": 1.368388450145721
          },
          {
           "lower": 0.5043785005807877,
           "timepoint": 12.292585372924805,
           "trajectory": "Rabbits",
           "upper": 1.4104705750942226
          },
          {
           "lower": 0.5202018976211548,
           "timepoint": 12.39078140258789,
           "trajectory": "Rabbits",
           "upper": 1.4515727937221523
          },
          {
           "lower": 0.5371453166007996,
           "timepoint": 12.488978385925293,
           "trajectory": "Rabbits",
           "upper": 1.491175544261932
          },
          {
           "lower": 0.5552328586578369,
           "timepoint": 12.587174415588379,
           "trajectory": "Rabbits",
           "upper": 1.5286987662315366
          },
          {
           "lower": 0.5746016263961792,
           "timepoint": 12.685371398925781,
           "trajectory": "Rabbits",
           "upper": 1.5635028123855588
          },
          {
           "lower": 0.5970102906227112,
           "timepoint": 12.783567428588867,
           "trajectory": "Rabbits",
           "upper": 1.5948892235755918
          },
          {
           "lower": 0.6207388818264008,
           "timepoint": 12.881763458251953,
           "trajectory": "Rabbits",
           "upper": 1.6221232175827025
          },
          {
           "lower": 0.6453634649515152,
           "timepoint": 12.979960441589355,
           "trajectory": "Rabbits",
           "upper": 1.644442594051361
          },
          {
           "lower": 0.6708035081624985,
           "timepoint": 13.078156471252441,
           "trajectory": "Rabbits",
           "upper": 1.6610858678817748
          },
          {
           "lower": 0.6968708425760269,
           "timepoint": 13.176352500915527,
           "trajectory": "Rabbits",
           "upper": 1.6713273644447326
          },
          {
           "lower": 0.7234418570995331,
           "timepoint": 13.27454948425293,
           "trajectory": "Rabbits",
           "upper": 1.6745122253894806
          },
          {
           "lower": 0.7513154923915863,
           "timepoint": 13.372745513916016,
           "trajectory": "Rabbits",
           "upper": 1.6727754712104796
          },
          {
           "lower": 0.78050856590271,
           "timepoint": 13.470942497253418,
           "trajectory": "Rabbits",
           "upper": 1.716128623485565
          },
          {
           "lower": 0.8110340058803559,
           "timepoint": 13.569138526916504,
           "trajectory": "Rabbits",
           "upper": 1.7695979833602904
          },
          {
           "lower": 0.842897766828537,
           "timepoint": 13.66733455657959,
           "trajectory": "Rabbits",
           "upper": 1.8139043271541595
          },
          {
           "lower": 0.8761000365018845,
           "timepoint": 13.765531539916992,
           "trajectory": "Rabbits",
           "upper": 1.8211844146251677
          },
          {
           "lower": 0.9106319785118103,
           "timepoint": 13.863727569580078,
           "trajectory": "Rabbits",
           "upper": 1.8637800216674802
          },
          {
           "lower": 0.9464745968580246,
           "timepoint": 13.96192455291748,
           "trajectory": "Rabbits",
           "upper": 1.8995178580284118
          },
          {
           "lower": 0.9835943669080734,
           "timepoint": 14.060120582580566,
           "trajectory": "Rabbits",
           "upper": 1.912487632036209
          },
          {
           "lower": 1.0219449251890182,
           "timepoint": 14.158316612243652,
           "trajectory": "Rabbits",
           "upper": 1.9452049076557159
          },
          {
           "lower": 1.0614603579044342,
           "timepoint": 14.256513595581055,
           "trajectory": "Rabbits",
           "upper": 1.9617474615573882
          },
          {
           "lower": 1.1020531356334686,
           "timepoint": 14.35470962524414,
           "trajectory": "Rabbits",
           "upper": 1.9881222665309906
          },
          {
           "lower": 1.1269083678722382,
           "timepoint": 14.452905654907227,
           "trajectory": "Rabbits",
           "upper": 2.0061532855033875
          },
          {
           "lower": 1.1055106699466706,
           "timepoint": 14.551102638244629,
           "trajectory": "Rabbits",
           "upper": 2.0061437666416166
          },
          {
           "lower": 1.0808826684951782,
           "timepoint": 14.649298667907715,
           "trajectory": "Rabbits",
           "upper": 1.9949356257915496
          },
          {
           "lower": 1.0539768517017365,
           "timepoint": 14.747495651245117,
           "trajectory": "Rabbits",
           "upper": 1.987330251932144
          },
          {
           "lower": 0.9956606686115265,
           "timepoint": 14.845691680908203,
           "trajectory": "Rabbits",
           "upper": 1.977737545967102
          },
          {
           "lower": 0.9405529707670212,
           "timepoint": 14.943887710571289,
           "trajectory": "Rabbits",
           "upper": 1.9775248050689695
          },
          {
           "lower": 0.8891286879777909,
           "timepoint": 15.042084693908691,
           "trajectory": "Rabbits",
           "upper": 1.9683462738990782
          },
          {
           "lower": 0.8416773855686188,
           "timepoint": 15.140280723571777,
           "trajectory": "Rabbits",
           "upper": 1.9223632514476774
          },
          {
           "lower": 0.7987896740436554,
           "timepoint": 15.23847770690918,
           "trajectory": "Rabbits",
           "upper": 1.9055021107196808
          },
          {
           "lower": 0.7641114115715026,
           "timepoint": 15.336673736572266,
           "trajectory": "Rabbits",
           "upper": 1.8573774456977843
          },
          {
           "lower": 0.7325069457292557,
           "timepoint": 15.434869766235352,
           "trajectory": "Rabbits",
           "upper": 1.838408941030502
          },
          {
           "lower": 0.7046769589185715,
           "timepoint": 15.533066749572754,
           "trajectory": "Rabbits",
           "upper": 1.8566193163394926
          },
          {
           "lower": 0.6805095404386521,
           "timepoint": 15.63126277923584,
           "trajectory": "Rabbits",
           "upper": 1.8516739666461943
          },
          {
           "lower": 0.6646953701972962,
           "timepoint": 15.729458808898926,
           "trajectory": "Rabbits",
           "upper": 1.8386036038398743
          },
          {
           "lower": 0.6481923609972,
           "timepoint": 15.827655792236328,
           "trajectory": "Rabbits",
           "upper": 1.8343990445137024
          },
          {
           "lower": 0.6312552928924561,
           "timepoint": 15.925851821899414,
           "trajectory": "Rabbits",
           "upper": 1.8231343924999235
          },
          {
           "lower": 0.6174396783113479,
           "timepoint": 16.0240478515625,
           "trajectory": "Rabbits",
           "upper": 1.796340215206146
          },
          {
           "lower": 0.6048211842775345,
           "timepoint": 16.12224578857422,
           "trajectory": "Rabbits",
           "upper": 1.7632344782352447
          },
          {
           "lower": 0.5861428260803223,
           "timepoint": 16.220439910888672,
           "trajectory": "Rabbits",
           "upper": 1.7273318111896514
          },
          {
           "lower": 0.5645932614803314,
           "timepoint": 16.31863784790039,
           "trajectory": "Rabbits",
           "upper": 1.6872319936752318
          },
          {
           "lower": 0.5531397134065628,
           "timepoint": 16.416833877563477,
           "trajectory": "Rabbits",
           "upper": 1.6694511115550994
          },
          {
           "lower": 0.5454001277685165,
           "timepoint": 16.515029907226562,
           "trajectory": "Rabbits",
           "upper": 1.6414436995983124
          },
          {
           "lower": 0.5345095366239547,
           "timepoint": 16.61322784423828,
           "trajectory": "Rabbits",
           "upper": 1.6056683242321013
          },
          {
           "lower": 0.5248127788305282,
           "timepoint": 16.711421966552734,
           "trajectory": "Rabbits",
           "upper": 1.5370599269866942
          },
          {
           "lower": 0.5188495635986328,
           "timepoint": 16.809619903564453,
           "trajectory": "Rabbits",
           "upper": 1.4614464104175569
          },
          {
           "lower": 0.5141069158911705,
           "timepoint": 16.90781593322754,
           "trajectory": "Rabbits",
           "upper": 1.3810622274875641
          },
          {
           "lower": 0.5036842778325081,
           "timepoint": 17.006011962890625,
           "trajectory": "Rabbits",
           "upper": 1.3148657023906707
          },
          {
           "lower": 0.4955750972032547,
           "timepoint": 17.10420799255371,
           "trajectory": "Rabbits",
           "upper": 1.2469740509986875
          },
          {
           "lower": 0.486618934571743,
           "timepoint": 17.20240592956543,
           "trajectory": "Rabbits",
           "upper": 1.1773756980895993
          },
          {
           "lower": 0.4762810945510864,
           "timepoint": 17.300601959228516,
           "trajectory": "Rabbits",
           "upper": 1.1075618743896483
          },
          {
           "lower": 0.4718186900019646,
           "timepoint": 17.3987979888916,
           "trajectory": "Rabbits",
           "upper": 1.0388622075319287
          },
          {
           "lower": 0.4622297614812851,
           "timepoint": 17.496994018554688,
           "trajectory": "Rabbits",
           "upper": 0.9670342475175854
          },
          {
           "lower": 0.4485212951898575,
           "timepoint": 17.595190048217773,
           "trajectory": "Rabbits",
           "upper": 0.8990428447723385
          },
          {
           "lower": 0.44212027490139005,
           "timepoint": 17.693387985229492,
           "trajectory": "Rabbits",
           "upper": 0.8747189581394195
          },
          {
           "lower": 0.44298544377088545,
           "timepoint": 17.791584014892578,
           "trajectory": "Rabbits",
           "upper": 0.8403298556804656
          },
          {
           "lower": 0.4412238642573357,
           "timepoint": 17.889780044555664,
           "trajectory": "Rabbits",
           "upper": 0.8073499917984008
          },
          {
           "lower": 0.4404029667377472,
           "timepoint": 17.98797607421875,
           "trajectory": "Rabbits",
           "upper": 0.756241524219513
          },
          {
           "lower": 0.4368326559662819,
           "timepoint": 18.086172103881836,
           "trajectory": "Rabbits",
           "upper": 0.748366367816925
          },
          {
           "lower": 0.42849123030900954,
           "timepoint": 18.184368133544922,
           "trajectory": "Rabbits",
           "upper": 0.7742634236812591
          },
          {
           "lower": 0.41640654951334,
           "timepoint": 18.28256607055664,
           "trajectory": "Rabbits",
           "upper": 0.8020657032728196
          },
          {
           "lower": 0.4095948994159698,
           "timepoint": 18.380762100219727,
           "trajectory": "Rabbits",
           "upper": 0.8316493302583694
          },
          {
           "lower": 0.4073739260435104,
           "timepoint": 18.478958129882812,
           "trajectory": "Rabbits",
           "upper": 0.8630342334508896
          },
          {
           "lower": 0.4066722258925438,
           "timepoint": 18.5771541595459,
           "trajectory": "Rabbits",
           "upper": 0.8962369143962859
          },
          {
           "lower": 0.4074068084359169,
           "timepoint": 18.675350189208984,
           "trajectory": "Rabbits",
           "upper": 0.931265839934349
          },
          {
           "lower": 0.40268880128860474,
           "timepoint": 18.773548126220703,
           "trajectory": "Rabbits",
           "upper": 0.9681242197751998
          },
          {
           "lower": 0.399829663336277,
           "timepoint": 18.87174415588379,
           "trajectory": "Rabbits",
           "upper": 1.006803148984909
          },
          {
           "lower": 0.40095287263393403,
           "timepoint": 18.969940185546875,
           "trajectory": "Rabbits",
           "upper": 1.047283226251602
          },
          {
           "lower": 0.4031273275613785,
           "timepoint": 19.06813621520996,
           "trajectory": "Rabbits",
           "upper": 1.0895249366760253
          },
          {
           "lower": 0.3990011066198349,
           "timepoint": 19.166332244873047,
           "trajectory": "Rabbits",
           "upper": 1.1334718346595762
          },
          {
           "lower": 0.39364364594221113,
           "timepoint": 19.264530181884766,
           "trajectory": "Rabbits",
           "upper": 1.1790435075759886
          },
          {
           "lower": 0.38806077688932417,
           "timepoint": 19.36272621154785,
           "trajectory": "Rabbits",
           "upper": 1.2261301219463348
          },
          {
           "lower": 0.38450371026992797,
           "timepoint": 19.460922241210938,
           "trajectory": "Rabbits",
           "upper": 1.2745866119861602
          },
          {
           "lower": 0.3875089153647423,
           "timepoint": 19.559118270874023,
           "trajectory": "Rabbits",
           "upper": 1.3242292463779448
          },
          {
           "lower": 0.39167160391807554,
           "timepoint": 19.65731430053711,
           "trajectory": "Rabbits",
           "upper": 1.374829018115997
          },
          {
           "lower": 0.3969603732228279,
           "timepoint": 19.755512237548828,
           "trajectory": "Rabbits",
           "upper": 1.426099723577499
          },
          {
           "lower": 0.4033517211675644,
           "timepoint": 19.853708267211914,
           "trajectory": "Rabbits",
           "upper": 1.4776994168758388
          },
          {
           "lower": 0.4093814805150032,
           "timepoint": 19.951904296875,
           "trajectory": "Rabbits",
           "upper": 1.5238482177257533
          },
          {
           "lower": 0.415441007912159,
           "timepoint": 20.050100326538086,
           "trajectory": "Rabbits",
           "upper": 1.5586489498615261
          },
          {
           "lower": 0.4219281882047653,
           "timepoint": 20.148296356201172,
           "trajectory": "Rabbits",
           "upper": 1.590088194608688
          },
          {
           "lower": 0.4287471905350685,
           "timepoint": 20.24649429321289,
           "trajectory": "Rabbits",
           "upper": 1.6174417972564694
          },
          {
           "lower": 0.4356454789638519,
           "timepoint": 20.344690322875977,
           "trajectory": "Rabbits",
           "upper": 1.639961630105972
          },
          {
           "lower": 0.4435746371746063,
           "timepoint": 20.442886352539062,
           "trajectory": "Rabbits",
           "upper": 1.656901055574417
          },
          {
           "lower": 0.4525284916162491,
           "timepoint": 20.54108238220215,
           "trajectory": "Rabbits",
           "upper": 1.6675437271595
          },
          {
           "lower": 0.4625064104795456,
           "timepoint": 20.639278411865234,
           "trajectory": "Rabbits",
           "upper": 1.6712466537952422
          },
          {
           "lower": 0.4735117956995964,
           "timepoint": 20.73747444152832,
           "trajectory": "Rabbits",
           "upper": 1.6674805879592896
          },
          {
           "lower": 0.485551755130291,
           "timepoint": 20.83567237854004,
           "trajectory": "Rabbits",
           "upper": 1.6580154597759247
          },
          {
           "lower": 0.49863721430301666,
           "timepoint": 20.933868408203125,
           "trajectory": "Rabbits",
           "upper": 1.6465700745582579
          },
          {
           "lower": 0.51282719373703,
           "timepoint": 21.03206443786621,
           "trajectory": "Rabbits",
           "upper": 1.6579146325588225
          },
          {
           "lower": 0.5302152931690216,
           "timepoint": 21.130260467529297,
           "trajectory": "Rabbits",
           "upper": 1.681108945608139
          },
          {
           "lower": 0.548772668838501,
           "timepoint": 21.228456497192383,
           "trajectory": "Rabbits",
           "upper": 1.7017919838428497
          },
          {
           "lower": 0.5685295164585114,
           "timepoint": 21.3266544342041,
           "trajectory": "Rabbits",
           "upper": 1.7162834405899046
          },
          {
           "lower": 0.5895175069570542,
           "timepoint": 21.424850463867188,
           "trajectory": "Rabbits",
           "upper": 1.750265085697174
          },
          {
           "lower": 0.6117695927619934,
           "timepoint": 21.523046493530273,
           "trajectory": "Rabbits",
           "upper": 1.7796592116355896
          },
          {
           "lower": 0.6353199332952499,
           "timepoint": 21.62124252319336,
           "trajectory": "Rabbits",
           "upper": 1.8073849022388457
          },
          {
           "lower": 0.6602031528949738,
           "timepoint": 21.719438552856445,
           "trajectory": "Rabbits",
           "upper": 1.8098789393901824
          },
          {
           "lower": 0.6864525496959687,
           "timepoint": 21.817636489868164,
           "trajectory": "Rabbits",
           "upper": 1.7979984700679776
          },
          {
           "lower": 0.7141019701957703,
           "timepoint": 21.91583251953125,
           "trajectory": "Rabbits",
           "upper": 1.8413004696369168
          },
          {
           "lower": 0.7431831270456314,
           "timepoint": 22.014028549194336,
           "trajectory": "Rabbits",
           "upper": 1.8793084323406217
          },
          {
           "lower": 0.7737266510725022,
           "timepoint": 22.112224578857422,
           "trajectory": "Rabbits",
           "upper": 1.9107930481433866
          },
          {
           "lower": 0.8055409729480744,
           "timepoint": 22.210420608520508,
           "trajectory": "Rabbits",
           "upper": 1.9169816553592682
          },
          {
           "lower": 0.8251921176910401,
           "timepoint": 22.308618545532227,
           "trajectory": "Rabbits",
           "upper": 1.9464172065258025
          },
          {
           "lower": 0.8253151297569274,
           "timepoint": 22.406814575195312,
           "trajectory": "Rabbits",
           "upper": 1.9703969955444336
          },
          {
           "lower": 0.8099280536174774,
           "timepoint": 22.5050106048584,
           "trajectory": "Rabbits",
           "upper": 1.9839801490306854
          },
          {
           "lower": 0.8038699805736542,
           "timepoint": 22.603206634521484,
           "trajectory": "Rabbits",
           "upper": 1.988193392753601
          },
          {
           "lower": 0.7710606127977371,
           "timepoint": 22.70140266418457,
           "trajectory": "Rabbits",
           "upper": 1.9942415654659271
          },
          {
           "lower": 0.7470197588205337,
           "timepoint": 22.799598693847656,
           "trajectory": "Rabbits",
           "upper": 1.9898629844188689
          },
          {
           "lower": 0.7182540386915207,
           "timepoint": 22.897796630859375,
           "trajectory": "Rabbits",
           "upper": 1.9742455959320067
          },
          {
           "lower": 0.6924134820699692,
           "timepoint": 22.99599266052246,
           "trajectory": "Rabbits",
           "upper": 1.9520539820194243
          },
          {
           "lower": 0.6701061934232712,
           "timepoint": 23.094188690185547,
           "trajectory": "Rabbits",
           "upper": 1.951135867834091
          },
          {
           "lower": 0.6516568928956985,
           "timepoint": 23.192384719848633,
           "trajectory": "Rabbits",
           "upper": 1.945321691036224
          },
          {
           "lower": 0.641685864329338,
           "timepoint": 23.29058074951172,
           "trajectory": "Rabbits",
           "upper": 1.9135046660900112
          },
          {
           "lower": 0.6342681467533111,
           "timepoint": 23.388778686523438,
           "trajectory": "Rabbits",
           "upper": 1.8663897991180416
          },
          {
           "lower": 0.6220158934593201,
           "timepoint": 23.486974716186523,
           "trajectory": "Rabbits",
           "upper": 1.8201657950878143
          },
          {
           "lower": 0.6110246002674102,
           "timepoint": 23.58517074584961,
           "trajectory": "Rabbits",
           "upper": 1.7957899630069734
          },
          {
           "lower": 0.6024056732654571,
           "timepoint": 23.683366775512695,
           "trajectory": "Rabbits",
           "upper": 1.7897957324981688
          },
          {
           "lower": 0.5948467195034027,
           "timepoint": 23.78156280517578,
           "trajectory": "Rabbits",
           "upper": 1.80155633687973
          },
          {
           "lower": 0.5786105751991272,
           "timepoint": 23.8797607421875,
           "trajectory": "Rabbits",
           "upper": 1.8087110340595243
          },
          {
           "lower": 0.5645324528217316,
           "timepoint": 23.977956771850586,
           "trajectory": "Rabbits",
           "upper": 1.7801218628883362
          },
          {
           "lower": 0.5540674448013305,
           "timepoint": 24.076152801513672,
           "trajectory": "Rabbits",
           "upper": 1.7751892149448394
          },
          {
           "lower": 0.5473203241825104,
           "timepoint": 24.174348831176758,
           "trajectory": "Rabbits",
           "upper": 1.8003147721290587
          },
          {
           "lower": 0.5480239897966385,
           "timepoint": 24.272544860839844,
           "trajectory": "Rabbits",
           "upper": 1.8223768889904022
          },
          {
           "lower": 0.54021315574646,
           "timepoint": 24.370742797851562,
           "trajectory": "Rabbits",
           "upper": 1.8227047383785249
          },
          {
           "lower": 0.5324098408222199,
           "timepoint": 24.46893882751465,
           "trajectory": "Rabbits",
           "upper": 1.8212045967578887
          },
          {
           "lower": 0.5270693153142929,
           "timepoint": 24.567134857177734,
           "trajectory": "Rabbits",
           "upper": 1.8120733976364134
          },
          {
           "lower": 0.52107774913311,
           "timepoint": 24.66533088684082,
           "trajectory": "Rabbits",
           "upper": 1.7703063786029813
          },
          {
           "lower": 0.5165954396128655,
           "timepoint": 24.763526916503906,
           "trajectory": "Rabbits",
           "upper": 1.7401071548461913
          },
          {
           "lower": 0.5104622498154641,
           "timepoint": 24.861724853515625,
           "trajectory": "Rabbits",
           "upper": 1.7071489214897153
          },
          {
           "lower": 0.5042807430028915,
           "timepoint": 24.95992088317871,
           "trajectory": "Rabbits",
           "upper": 1.6857240855693814
          },
          {
           "lower": 0.4970978781580925,
           "timepoint": 25.058116912841797,
           "trajectory": "Rabbits",
           "upper": 1.676756316423416
          },
          {
           "lower": 0.4849018916487694,
           "timepoint": 25.156312942504883,
           "trajectory": "Rabbits",
           "upper": 1.6580952823162078
          },
          {
           "lower": 0.4760160893201828,
           "timepoint": 25.25450897216797,
           "trajectory": "Rabbits",
           "upper": 1.6309352219104767
          },
          {
           "lower": 0.47461206316947935,
           "timepoint": 25.352705001831055,
           "trajectory": "Rabbits",
           "upper": 1.565701252222061
          },
          {
           "lower": 0.4717500790953636,
           "timepoint": 25.450902938842773,
           "trajectory": "Rabbits",
           "upper": 1.4927363455295564
          },
          {
           "lower": 0.4649355515837669,
           "timepoint": 25.549097061157227,
           "trajectory": "Rabbits",
           "upper": 1.427871537208557
          },
          {
           "lower": 0.4553666740655899,
           "timepoint": 25.647294998168945,
           "trajectory": "Rabbits",
           "upper": 1.3679876148700711
          },
          {
           "lower": 0.4450364723801613,
           "timepoint": 25.74549102783203,
           "trajectory": "Rabbits",
           "upper": 1.303653812408447
          },
          {
           "lower": 0.4424390897154808,
           "timepoint": 25.843687057495117,
           "trajectory": "Rabbits",
           "upper": 1.2363705337047572
          },
          {
           "lower": 0.44176057875156405,
           "timepoint": 25.941883087158203,
           "trajectory": "Rabbits",
           "upper": 1.2129586338996885
          },
          {
           "lower": 0.44264096915721896,
           "timepoint": 26.04007911682129,
           "trajectory": "Rabbits",
           "upper": 1.1858134746551512
          },
          {
           "lower": 0.444147065281868,
           "timepoint": 26.138275146484375,
           "trajectory": "Rabbits",
           "upper": 1.1125576615333557
          },
          {
           "lower": 0.4409631475806236,
           "timepoint": 26.236473083496094,
           "trajectory": "Rabbits",
           "upper": 1.0961318790912626
          },
          {
           "lower": 0.4385117799043655,
           "timepoint": 26.33466911315918,
           "trajectory": "Rabbits",
           "upper": 1.0390619158744812
          },
          {
           "lower": 0.43313329964876174,
           "timepoint": 26.432865142822266,
           "trajectory": "Rabbits",
           "upper": 1.0374710619449614
          },
          {
           "lower": 0.42651846557855605,
           "timepoint": 26.53106117248535,
           "trajectory": "Rabbits",
           "upper": 1.078562933206558
          },
          {
           "lower": 0.42028400897979734,
           "timepoint": 26.629257202148438,
           "trajectory": "Rabbits",
           "upper": 1.1212464570999146
          },
          {
           "lower": 0.41851030141115186,
           "timepoint": 26.727455139160156,
           "trajectory": "Rabbits",
           "upper": 1.1654311060905456
          },
          {
           "lower": 0.413428770005703,
           "timepoint": 26.825651168823242,
           "trajectory": "Rabbits",
           "upper": 1.2109955728054047
          },
          {
           "lower": 0.41161238849163057,
           "timepoint": 26.923847198486328,
           "trajectory": "Rabbits",
           "upper": 1.2577878415584565
          },
          {
           "lower": 0.4150161102414131,
           "timepoint": 27.022043228149414,
           "trajectory": "Rabbits",
           "upper": 1.3064170897006988
          },
          {
           "lower": 0.4207983836531639,
           "timepoint": 27.1202392578125,
           "trajectory": "Rabbits",
           "upper": 1.3561907589435578
          },
          {
           "lower": 0.4277648523449898,
           "timepoint": 27.21843719482422,
           "trajectory": "Rabbits",
           "upper": 1.4066593289375304
          },
          {
           "lower": 0.42866419106721876,
           "timepoint": 27.316633224487305,
           "trajectory": "Rabbits",
           "upper": 1.4574932754039762
          },
          {
           "lower": 0.4253242269158363,
           "timepoint": 27.41482925415039,
           "trajectory": "Rabbits",
           "upper": 1.5082980334758758
          },
          {
           "lower": 0.41685053110122683,
           "timepoint": 27.513025283813477,
           "trajectory": "Rabbits",
           "upper": 1.5586107611656186
          },
          {
           "lower": 0.41453602015972135,
           "timepoint": 27.611221313476562,
           "trajectory": "Rabbits",
           "upper": 1.6078900456428524
          },
          {
           "lower": 0.4145487532019615,
           "timepoint": 27.70941925048828,
           "trajectory": "Rabbits",
           "upper": 1.6348855912685392
          },
          {
           "lower": 0.412854041159153,
           "timepoint": 27.807615280151367,
           "trajectory": "Rabbits",
           "upper": 1.652022325992584
          },
          {
           "lower": 0.40423967093229296,
           "timepoint": 27.905811309814453,
           "trajectory": "Rabbits",
           "upper": 1.6629717230796812
          },
          {
           "lower": 0.39665575325489044,
           "timepoint": 28.00400733947754,
           "trajectory": "Rabbits",
           "upper": 1.6671080231666564
          },
          {
           "lower": 0.3907979890704155,
           "timepoint": 28.102203369140625,
           "trajectory": "Rabbits",
           "upper": 1.6639088928699493
          },
          {
           "lower": 0.3935821086168289,
           "timepoint": 28.200401306152344,
           "trajectory": "Rabbits",
           "upper": 1.6557608664035797
          },
          {
           "lower": 0.39856401085853577,
           "timepoint": 28.29859733581543,
           "trajectory": "Rabbits",
           "upper": 1.639836424589157
          },
          {
           "lower": 0.404674831032753,
           "timepoint": 28.396793365478516,
           "trajectory": "Rabbits",
           "upper": 1.629011660814285
          },
          {
           "lower": 0.41125942319631575,
           "timepoint": 28.4949893951416,
           "trajectory": "Rabbits",
           "upper": 1.616130632162094
          },
          {
           "lower": 0.4133000984787941,
           "timepoint": 28.593185424804688,
           "trajectory": "Rabbits",
           "upper": 1.6224951922893522
          },
          {
           "lower": 0.41600040942430494,
           "timepoint": 28.691381454467773,
           "trajectory": "Rabbits",
           "upper": 1.604687875509262
          },
          {
           "lower": 0.419818215072155,
           "timepoint": 28.789579391479492,
           "trajectory": "Rabbits",
           "upper": 1.5689333200454711
          },
          {
           "lower": 0.4247225522994995,
           "timepoint": 28.887775421142578,
           "trajectory": "Rabbits",
           "upper": 1.605749088525772
          },
          {
           "lower": 0.43069083243608475,
           "timepoint": 28.985971450805664,
           "trajectory": "Rabbits",
           "upper": 1.6541750848293302
          },
          {
           "lower": 0.4377057060599327,
           "timepoint": 29.08416748046875,
           "trajectory": "Rabbits",
           "upper": 1.700001937150955
          },
          {
           "lower": 0.44575624018907545,
           "timepoint": 29.182363510131836,
           "trajectory": "Rabbits",
           "upper": 1.732171511650085
          },
          {
           "lower": 0.4548378333449364,
           "timepoint": 29.280561447143555,
           "trajectory": "Rabbits",
           "upper": 1.7420642554759977
          },
          {
           "lower": 0.4649491384625435,
           "timepoint": 29.37875747680664,
           "trajectory": "Rabbits",
           "upper": 1.7516489982604981
          },
          {
           "lower": 0.47579763233661654,
           "timepoint": 29.476953506469727,
           "trajectory": "Rabbits",
           "upper": 1.7386007368564604
          },
          {
           "lower": 0.4891229450702667,
           "timepoint": 29.575149536132812,
           "trajectory": "Rabbits",
           "upper": 1.7452050268650054
          },
          {
           "lower": 0.5040813356637954,
           "timepoint": 29.6733455657959,
           "trajectory": "Rabbits",
           "upper": 1.7711842000484466
          },
          {
           "lower": 0.5201665133237838,
           "timepoint": 29.771543502807617,
           "trajectory": "Rabbits",
           "upper": 1.8023575127124785
          },
          {
           "lower": 0.5374025821685791,
           "timepoint": 29.869739532470703,
           "trajectory": "Rabbits",
           "upper": 1.8451899886131284
          },
          {
           "lower": 0.5558172702789307,
           "timepoint": 29.96793556213379,
           "trajectory": "Rabbits",
           "upper": 1.8826105952262877
          },
          {
           "lower": 0.5754400938749313,
           "timepoint": 30.066131591796875,
           "trajectory": "Rabbits",
           "upper": 1.8895355403423308
          },
          {
           "lower": 0.5963023632764817,
           "timepoint": 30.16432762145996,
           "trajectory": "Rabbits",
           "upper": 1.8820030152797698
          },
          {
           "lower": 0.6184376865625382,
           "timepoint": 30.26252555847168,
           "trajectory": "Rabbits",
           "upper": 1.9074315130710602
          },
          {
           "lower": 0.6331823855638504,
           "timepoint": 30.360721588134766,
           "trajectory": "Rabbits",
           "upper": 1.9259164452552795
          },
          {
           "lower": 0.6396550983190536,
           "timepoint": 30.45891761779785,
           "trajectory": "Rabbits",
           "upper": 1.9575332403182983
          },
          {
           "lower": 0.6352047085762024,
           "timepoint": 30.557113647460938,
           "trajectory": "Rabbits",
           "upper": 1.9521862268447876
          },
          {
           "lower": 0.6227093160152435,
           "timepoint": 30.655309677124023,
           "trajectory": "Rabbits",
           "upper": 1.9816403448581696
          },
          {
           "lower": 0.6086790233850479,
           "timepoint": 30.75350570678711,
           "trajectory": "Rabbits",
           "upper": 1.9924682796001434
          },
          {
           "lower": 0.600580582022667,
           "timepoint": 30.851703643798828,
           "trajectory": "Rabbits",
           "upper": 1.9912116348743438
          },
          {
           "lower": 0.6105746477842331,
           "timepoint": 30.949899673461914,
           "trajectory": "Rabbits",
           "upper": 1.9789631009101867
          },
          {
           "lower": 0.6185706049203873,
           "timepoint": 31.048095703125,
           "trajectory": "Rabbits",
           "upper": 1.9551160156726834
          },
          {
           "lower": 0.6101013958454132,
           "timepoint": 31.146291732788086,
           "trajectory": "Rabbits",
           "upper": 1.9200285851955412
          },
          {
           "lower": 0.6034355491399765,
           "timepoint": 31.244487762451172,
           "trajectory": "Rabbits",
           "upper": 1.9168525636196136
          },
          {
           "lower": 0.5982402086257934,
           "timepoint": 31.34268569946289,
           "trajectory": "Rabbits",
           "upper": 1.91293408870697
          },
          {
           "lower": 0.5867925018072129,
           "timepoint": 31.440881729125977,
           "trajectory": "Rabbits",
           "upper": 1.9078599810600276
          },
          {
           "lower": 0.5724489957094192,
           "timepoint": 31.539077758789062,
           "trajectory": "Rabbits",
           "upper": 1.8693072557449337
          },
          {
           "lower": 0.5638573288917541,
           "timepoint": 31.63727378845215,
           "trajectory": "Rabbits",
           "upper": 1.8201348185539243
          },
          {
           "lower": 0.5624638974666596,
           "timepoint": 31.735469818115234,
           "trajectory": "Rabbits",
           "upper": 1.7697234213352202
          },
          {
           "lower": 0.5507203966379166,
           "timepoint": 31.833667755126953,
           "trajectory": "Rabbits",
           "upper": 1.7301194071769714
          },
          {
           "lower": 0.5544991075992585,
           "timepoint": 31.93186378479004,
           "trajectory": "Rabbits",
           "upper": 1.7313940346240997
          },
          {
           "lower": 0.560020101070404,
           "timepoint": 32.030059814453125,
           "trajectory": "Rabbits",
           "upper": 1.7541727066040038
          },
          {
           "lower": 0.554255124926567,
           "timepoint": 32.128257751464844,
           "trajectory": "Rabbits",
           "upper": 1.7718619644641875
          },
          {
           "lower": 0.5480907291173935,
           "timepoint": 32.2264518737793,
           "trajectory": "Rabbits",
           "upper": 1.7652491748332975
          },
          {
           "lower": 0.5356627881526947,
           "timepoint": 32.324649810791016,
           "trajectory": "Rabbits",
           "upper": 1.7113009810447692
          },
          {
           "lower": 0.5229950040578842,
           "timepoint": 32.42284393310547,
           "trajectory": "Rabbits",
           "upper": 1.7353079974651335
          },
          {
           "lower": 0.5182398110628128,
           "timepoint": 32.52104187011719,
           "trajectory": "Rabbits",
           "upper": 1.756126809120178
          },
          {
           "lower": 0.5166056036949158,
           "timepoint": 32.619239807128906,
           "trajectory": "Rabbits",
           "upper": 1.769816994667053
          },
          {
           "lower": 0.5164867341518402,
           "timepoint": 32.71743392944336,
           "trajectory": "Rabbits",
           "upper": 1.7754958629608153
          },
          {
           "lower": 0.515685823559761,
           "timepoint": 32.81563186645508,
           "trajectory": "Rabbits",
           "upper": 1.7829261362552642
          },
          {
           "lower": 0.5072418957948684,
           "timepoint": 32.91382598876953,
           "trajectory": "Rabbits",
           "upper": 1.7994502186775208
          },
          {
           "lower": 0.4941129207611084,
           "timepoint": 33.01202392578125,
           "trajectory": "Rabbits",
           "upper": 1.8093173563480378
          },
          {
           "lower": 0.4832419604063034,
           "timepoint": 33.11022186279297,
           "trajectory": "Rabbits",
           "upper": 1.814925742149353
          },
          {
           "lower": 0.47836018800735475,
           "timepoint": 33.20841598510742,
           "trajectory": "Rabbits",
           "upper": 1.7878687262535093
          },
          {
           "lower": 0.4781149536371231,
           "timepoint": 33.306610107421875,
           "trajectory": "Rabbits",
           "upper": 1.742596834897995
          },
          {
           "lower": 0.47555607110261916,
           "timepoint": 33.404808044433594,
           "trajectory": "Rabbits",
           "upper": 1.721788442134857
          },
          {
           "lower": 0.46873447448015215,
           "timepoint": 33.50300598144531,
           "trajectory": "Rabbits",
           "upper": 1.6993482708930967
          },
          {
           "lower": 0.4732772186398506,
           "timepoint": 33.60120391845703,
           "trajectory": "Rabbits",
           "upper": 1.6743481099605557
          },
          {
           "lower": 0.468516506254673,
           "timepoint": 33.699398040771484,
           "trajectory": "Rabbits",
           "upper": 1.673043769598007
          },
          {
           "lower": 0.4522621363401413,
           "timepoint": 33.79759216308594,
           "trajectory": "Rabbits",
           "upper": 1.662751567363739
          },
          {
           "lower": 0.4430853143334389,
           "timepoint": 33.895790100097656,
           "trajectory": "Rabbits",
           "upper": 1.64410360455513
          },
          {
           "lower": 0.4432558551430702,
           "timepoint": 33.993988037109375,
           "trajectory": "Rabbits",
           "upper": 1.5930341601371765
          },
          {
           "lower": 0.445137058198452,
           "timepoint": 34.092185974121094,
           "trajectory": "Rabbits",
           "upper": 1.5551829457283017
          },
          {
           "lower": 0.4464197546243668,
           "timepoint": 34.19038009643555,
           "trajectory": "Rabbits",
           "upper": 1.5624677062034602
          },
          {
           "lower": 0.4474971190094948,
           "timepoint": 34.288578033447266,
           "trajectory": "Rabbits",
           "upper": 1.5318945050239559
          },
          {
           "lower": 0.4469641879200935,
           "timepoint": 34.38677215576172,
           "trajectory": "Rabbits",
           "upper": 1.5298158288002013
          },
          {
           "lower": 0.44488638937473296,
           "timepoint": 34.48497009277344,
           "trajectory": "Rabbits",
           "upper": 1.4993150174617766
          },
          {
           "lower": 0.4385147958993912,
           "timepoint": 34.583168029785156,
           "trajectory": "Rabbits",
           "upper": 1.429887247085571
          },
          {
           "lower": 0.4331304594874382,
           "timepoint": 34.68136215209961,
           "trajectory": "Rabbits",
           "upper": 1.4057254314422607
          },
          {
           "lower": 0.42956598550081254,
           "timepoint": 34.77956008911133,
           "trajectory": "Rabbits",
           "upper": 1.4403165519237517
          },
          {
           "lower": 0.4253564924001694,
           "timepoint": 34.87775421142578,
           "trajectory": "Rabbits",
           "upper": 1.4883637964725493
          },
          {
           "lower": 0.4244931101799011,
           "timepoint": 34.9759521484375,
           "trajectory": "Rabbits",
           "upper": 1.5368669986724852
          },
          {
           "lower": 0.4283281609416008,
           "timepoint": 35.07415008544922,
           "trajectory": "Rabbits",
           "upper": 1.5852935135364532
          },
          {
           "lower": 0.42513045519590376,
           "timepoint": 35.17234420776367,
           "trajectory": "Rabbits",
           "upper": 1.632164007425308
          },
          {
           "lower": 0.4200458973646164,
           "timepoint": 35.27054214477539,
           "trajectory": "Rabbits",
           "upper": 1.6576512217521666
          },
          {
           "lower": 0.42672457695007326,
           "timepoint": 35.368736267089844,
           "trajectory": "Rabbits",
           "upper": 1.6621334195137023
          },
          {
           "lower": 0.4345822066068649,
           "timepoint": 35.46693420410156,
           "trajectory": "Rabbits",
           "upper": 1.6594287574291229
          },
          {
           "lower": 0.4436092182993889,
           "timepoint": 35.56513214111328,
           "trajectory": "Rabbits",
           "upper": 1.6523966014385223
          },
          {
           "lower": 0.45380297005176545,
           "timepoint": 35.663326263427734,
           "trajectory": "Rabbits",
           "upper": 1.6378264129161832
          },
          {
           "lower": 0.4610008031129837,
           "timepoint": 35.76152038574219,
           "trajectory": "Rabbits",
           "upper": 1.6328679680824278
          },
          {
           "lower": 0.4575705140829086,
           "timepoint": 35.859718322753906,
           "trajectory": "Rabbits",
           "upper": 1.6230205595493314
          },
          {
           "lower": 0.4455138087272644,
           "timepoint": 35.957916259765625,
           "trajectory": "Rabbits",
           "upper": 1.6049207866191864
          },
          {
           "lower": 0.43511883020401,
           "timepoint": 36.056114196777344,
           "trajectory": "Rabbits",
           "upper": 1.578563404083252
          },
          {
           "lower": 0.42818028330802915,
           "timepoint": 36.1543083190918,
           "trajectory": "Rabbits",
           "upper": 1.560998100042343
          },
          {
           "lower": 0.42777920365333555,
           "timepoint": 36.25250244140625,
           "trajectory": "Rabbits",
           "upper": 1.503386640548706
          },
          {
           "lower": 0.42754523903131486,
           "timepoint": 36.35070037841797,
           "trajectory": "Rabbits",
           "upper": 1.480780619382858
          },
          {
           "lower": 0.4262489452958107,
           "timepoint": 36.44889831542969,
           "trajectory": "Rabbits",
           "upper": 1.5112244009971618
          },
          {
           "lower": 0.4160794273018837,
           "timepoint": 36.547096252441406,
           "trajectory": "Rabbits",
           "upper": 1.5504247188568114
          },
          {
           "lower": 0.4073982730507851,
           "timepoint": 36.64529037475586,
           "trajectory": "Rabbits",
           "upper": 1.5913909077644346
          },
          {
           "lower": 0.4004003912210464,
           "timepoint": 36.74348449707031,
           "trajectory": "Rabbits",
           "upper": 1.6403545439243314
          },
          {
           "lower": 0.4014432460069656,
           "timepoint": 36.84168243408203,
           "trajectory": "Rabbits",
           "upper": 1.6869548618793484
          },
          {
           "lower": 0.406353235244751,
           "timepoint": 36.93988037109375,
           "trajectory": "Rabbits",
           "upper": 1.7125972688198088
          },
          {
           "lower": 0.4120946392416954,
           "timepoint": 37.0380744934082,
           "trajectory": "Rabbits",
           "upper": 1.6813135623931883
          },
          {
           "lower": 0.41201861947774887,
           "timepoint": 37.13627243041992,
           "trajectory": "Rabbits",
           "upper": 1.695450896024704
          },
          {
           "lower": 0.4131871834397316,
           "timepoint": 37.234466552734375,
           "trajectory": "Rabbits",
           "upper": 1.704049777984619
          },
          {
           "lower": 0.4150891095399857,
           "timepoint": 37.332664489746094,
           "trajectory": "Rabbits",
           "upper": 1.7009122908115384
          },
          {
           "lower": 0.4178817912936211,
           "timepoint": 37.43086242675781,
           "trajectory": "Rabbits",
           "upper": 1.725430756807327
          },
          {
           "lower": 0.42179676443338393,
           "timepoint": 37.529056549072266,
           "trajectory": "Rabbits",
           "upper": 1.7459316432476044
          },
          {
           "lower": 0.4268047958612442,
           "timepoint": 37.627254486083984,
           "trajectory": "Rabbits",
           "upper": 1.76577513217926
          },
          {
           "lower": 0.4328827723860741,
           "timepoint": 37.72544860839844,
           "trajectory": "Rabbits",
           "upper": 1.8066574811935423
          },
          {
           "lower": 0.4390408143401146,
           "timepoint": 37.823646545410156,
           "trajectory": "Rabbits",
           "upper": 1.8490019261837003
          },
          {
           "lower": 0.4459463968873024,
           "timepoint": 37.921844482421875,
           "trajectory": "Rabbits",
           "upper": 1.8599211990833282
          },
          {
           "lower": 0.4538986936211586,
           "timepoint": 38.02003860473633,
           "trajectory": "Rabbits",
           "upper": 1.8497736155986784
          },
          {
           "lower": 0.4651094362139702,
           "timepoint": 38.11823654174805,
           "trajectory": "Rabbits",
           "upper": 1.8601066946983336
          },
          {
           "lower": 0.4780843734741211,
           "timepoint": 38.2164306640625,
           "trajectory": "Rabbits",
           "upper": 1.8876757025718687
          },
          {
           "lower": 0.492148357629776,
           "timepoint": 38.31462860107422,
           "trajectory": "Rabbits",
           "upper": 1.9079487442970275
          },
          {
           "lower": 0.5073222741484642,
           "timepoint": 38.41282653808594,
           "trajectory": "Rabbits",
           "upper": 1.9209326088428498
          },
          {
           "lower": 0.5236279129981994,
           "timepoint": 38.51102066040039,
           "trajectory": "Rabbits",
           "upper": 1.9155714392662049
          },
          {
           "lower": 0.5333443999290466,
           "timepoint": 38.60921859741211,
           "trajectory": "Rabbits",
           "upper": 1.9256284475326537
          },
          {
           "lower": 0.5407276719808578,
           "timepoint": 38.70741271972656,
           "trajectory": "Rabbits",
           "upper": 1.9541174590587616
          },
          {
           "lower": 0.5475086867809296,
           "timepoint": 38.80561065673828,
           "trajectory": "Rabbits",
           "upper": 1.978466236591339
          },
          {
           "lower": 0.5465062320232391,
           "timepoint": 38.90380859375,
           "trajectory": "Rabbits",
           "upper": 1.9914168894290922
          },
          {
           "lower": 0.5525976806879044,
           "timepoint": 39.00200271606445,
           "trajectory": "Rabbits",
           "upper": 1.9824489414691924
          },
          {
           "lower": 0.5636728644371033,
           "timepoint": 39.10020065307617,
           "trajectory": "Rabbits",
           "upper": 1.9620773255825041
          },
          {
           "lower": 0.5675195813179016,
           "timepoint": 39.198394775390625,
           "trajectory": "Rabbits",
           "upper": 1.929941552877426
          },
          {
           "lower": 0.5573868989944458,
           "timepoint": 39.296592712402344,
           "trajectory": "Rabbits",
           "upper": 1.8860995233058926
          },
          {
           "lower": 0.5549980401992798,
           "timepoint": 39.39479064941406,
           "trajectory": "Rabbits",
           "upper": 1.8778917074203492
          },
          {
           "lower": 0.5580355763435364,
           "timepoint": 39.492984771728516,
           "trajectory": "Rabbits",
           "upper": 1.8730241835117338
          },
          {
           "lower": 0.5666703373193741,
           "timepoint": 39.591182708740234,
           "trajectory": "Rabbits",
           "upper": 1.8939713478088376
          },
          {
           "lower": 0.5745903313159942,
           "timepoint": 39.68937683105469,
           "trajectory": "Rabbits",
           "upper": 1.8707408785820006
          },
          {
           "lower": 0.5794445455074311,
           "timepoint": 39.787574768066406,
           "trajectory": "Rabbits",
           "upper": 1.8239542603492735
          },
          {
           "lower": 0.5653527587652206,
           "timepoint": 39.885772705078125,
           "trajectory": "Rabbits",
           "upper": 1.7833893656730653
          },
          {
           "lower": 0.5516872137784958,
           "timepoint": 39.98396682739258,
           "trajectory": "Rabbits",
           "upper": 1.7533719480037688
          },
          {
           "lower": 0.5397428452968598,
           "timepoint": 40.0821647644043,
           "trajectory": "Rabbits",
           "upper": 1.697965383529663
          },
          {
           "lower": 0.5263006567955018,
           "timepoint": 40.18035888671875,
           "trajectory": "Rabbits",
           "upper": 1.6832296729087828
          },
          {
           "lower": 0.5212005943059921,
           "timepoint": 40.27855682373047,
           "trajectory": "Rabbits",
           "upper": 1.65513117313385
          },
          {
           "lower": 0.5204062521457672,
           "timepoint": 40.37675476074219,
           "trajectory": "Rabbits",
           "upper": 1.6790795803070069
          },
          {
           "lower": 0.5212742745876312,
           "timepoint": 40.47494888305664,
           "trajectory": "Rabbits",
           "upper": 1.7225245833396912
          },
          {
           "lower": 0.5229991644620895,
           "timepoint": 40.57314682006836,
           "trajectory": "Rabbits",
           "upper": 1.730085062980652
          },
          {
           "lower": 0.522838044166565,
           "timepoint": 40.67134094238281,
           "trajectory": "Rabbits",
           "upper": 1.694386202096939
          },
          {
           "lower": 0.5160812020301819,
           "timepoint": 40.76953887939453,
           "trajectory": "Rabbits",
           "upper": 1.6922270357608795
          },
          {
           "lower": 0.5036900967359543,
           "timepoint": 40.86773681640625,
           "trajectory": "Rabbits",
           "upper": 1.7067781984806059
          },
          {
           "lower": 0.49137296676635744,
           "timepoint": 40.9659309387207,
           "trajectory": "Rabbits",
           "upper": 1.730581349134445
          },
          {
           "lower": 0.48303412944078444,
           "timepoint": 41.06412887573242,
           "trajectory": "Rabbits",
           "upper": 1.7478553891181945
          },
          {
           "lower": 0.48240396082401277,
           "timepoint": 41.162322998046875,
           "trajectory": "Rabbits",
           "upper": 1.7600879192352294
          },
          {
           "lower": 0.478350593149662,
           "timepoint": 41.260520935058594,
           "trajectory": "Rabbits",
           "upper": 1.764333701133728
          },
          {
           "lower": 0.4821579858660698,
           "timepoint": 41.35871887207031,
           "trajectory": "Rabbits",
           "upper": 1.7599210083484647
          },
          {
           "lower": 0.47911573350429537,
           "timepoint": 41.456912994384766,
           "trajectory": "Rabbits",
           "upper": 1.776980400085449
          },
          {
           "lower": 0.4739988923072815,
           "timepoint": 41.555110931396484,
           "trajectory": "Rabbits",
           "upper": 1.786699366569519
          },
          {
           "lower": 0.4728016659617424,
           "timepoint": 41.65330505371094,
           "trajectory": "Rabbits",
           "upper": 1.785502678155899
          },
          {
           "lower": 0.47174362689256666,
           "timepoint": 41.751502990722656,
           "trajectory": "Rabbits",
           "upper": 1.7991522669792175
          },
          {
           "lower": 0.46309907287359237,
           "timepoint": 41.849700927734375,
           "trajectory": "Rabbits",
           "upper": 1.7694347620010376
          },
          {
           "lower": 0.44931227415800096,
           "timepoint": 41.94789505004883,
           "trajectory": "Rabbits",
           "upper": 1.780850529670715
          },
          {
           "lower": 0.44567641615867615,
           "timepoint": 42.04609298706055,
           "trajectory": "Rabbits",
           "upper": 1.8043862819671628
          },
          {
           "lower": 0.44674141258001326,
           "timepoint": 42.144287109375,
           "trajectory": "Rabbits",
           "upper": 1.800585466623306
          },
          {
           "lower": 0.44667655378580096,
           "timepoint": 42.24248504638672,
           "trajectory": "Rabbits",
           "upper": 1.7862511932849883
          },
          {
           "lower": 0.4480611220002174,
           "timepoint": 42.34068298339844,
           "trajectory": "Rabbits",
           "upper": 1.7608599722385405
          },
          {
           "lower": 0.4508348643779755,
           "timepoint": 42.43887710571289,
           "trajectory": "Rabbits",
           "upper": 1.724252951145172
          },
          {
           "lower": 0.45494675934314727,
           "timepoint": 42.53707504272461,
           "trajectory": "Rabbits",
           "upper": 1.6898755848407745
          },
          {
           "lower": 0.45285946875810623,
           "timepoint": 42.63526916503906,
           "trajectory": "Rabbits",
           "upper": 1.6663192331790924
          },
          {
           "lower": 0.44594485461711886,
           "timepoint": 42.73346710205078,
           "trajectory": "Rabbits",
           "upper": 1.6706449449062346
          },
          {
           "lower": 0.4385737970471382,
           "timepoint": 42.8316650390625,
           "trajectory": "Rabbits",
           "upper": 1.69396036863327
          },
          {
           "lower": 0.43317885547876356,
           "timepoint": 42.92985916137695,
           "trajectory": "Rabbits",
           "upper": 1.701903975009918
          },
          {
           "lower": 0.42960587739944456,
           "timepoint": 43.02805709838867,
           "trajectory": "Rabbits",
           "upper": 1.6650055527687073
          },
          {
           "lower": 0.4296691849827766,
           "timepoint": 43.126251220703125,
           "trajectory": "Rabbits",
           "upper": 1.634255015850067
          },
          {
           "lower": 0.4290746435523033,
           "timepoint": 43.224449157714844,
           "trajectory": "Rabbits",
           "upper": 1.6288334131240843
          },
          {
           "lower": 0.4286207392811775,
           "timepoint": 43.32264709472656,
           "trajectory": "Rabbits",
           "upper": 1.6152874886989592
          },
          {
           "lower": 0.4312332525849342,
           "timepoint": 43.420841217041016,
           "trajectory": "Rabbits",
           "upper": 1.5934741914272308
          },
          {
           "lower": 0.43520423769950867,
           "timepoint": 43.519039154052734,
           "trajectory": "Rabbits",
           "upper": 1.563509178161621
          },
          {
           "lower": 0.4337076425552368,
           "timepoint": 43.61723327636719,
           "trajectory": "Rabbits",
           "upper": 1.5209748685359954
          },
          {
           "lower": 0.44245827943086624,
           "timepoint": 43.715431213378906,
           "trajectory": "Rabbits",
           "upper": 1.483392971754074
          },
          {
           "lower": 0.45230783224105836,
           "timepoint": 43.813629150390625,
           "trajectory": "Rabbits",
           "upper": 1.4413735747337342
          },
          {
           "lower": 0.4630254492163658,
           "timepoint": 43.91182327270508,
           "trajectory": "Rabbits",
           "upper": 1.4341596007347106
          },
          {
           "lower": 0.47416217923164367,
           "timepoint": 44.0100212097168,
           "trajectory": "Rabbits",
           "upper": 1.4368768870830533
          },
          {
           "lower": 0.47718397676944735,
           "timepoint": 44.10821533203125,
           "trajectory": "Rabbits",
           "upper": 1.4758596479892727
          },
          {
           "lower": 0.47828148752450944,
           "timepoint": 44.20641326904297,
           "trajectory": "Rabbits",
           "upper": 1.5129901826381682
          },
          {
           "lower": 0.4808869779109955,
           "timepoint": 44.30461120605469,
           "trajectory": "Rabbits",
           "upper": 1.5477491676807402
          },
          {
           "lower": 0.4719135418534279,
           "timepoint": 44.40280532836914,
           "trajectory": "Rabbits",
           "upper": 1.582797646522522
          },
          {
           "lower": 0.4590594068169594,
           "timepoint": 44.50100326538086,
           "trajectory": "Rabbits",
           "upper": 1.6263654887676238
          },
          {
           "lower": 0.44851022213697433,
           "timepoint": 44.59919738769531,
           "trajectory": "Rabbits",
           "upper": 1.6408966422080993
          },
          {
           "lower": 0.44312494844198225,
           "timepoint": 44.69739532470703,
           "trajectory": "Rabbits",
           "upper": 1.633244502544403
          },
          {
           "lower": 0.443962661921978,
           "timepoint": 44.795589447021484,
           "trajectory": "Rabbits",
           "upper": 1.6598603188991543
          },
          {
           "lower": 0.43872047662734986,
           "timepoint": 44.8937873840332,
           "trajectory": "Rabbits",
           "upper": 1.6537000775337218
          },
          {
           "lower": 0.4330864563584328,
           "timepoint": 44.99198532104492,
           "trajectory": "Rabbits",
           "upper": 1.6327678859233856
          },
          {
           "lower": 0.4272132471203804,
           "timepoint": 45.090179443359375,
           "trajectory": "Rabbits",
           "upper": 1.6633822619915006
          },
          {
           "lower": 0.4229541838169098,
           "timepoint": 45.188377380371094,
           "trajectory": "Rabbits",
           "upper": 1.68935130238533
          },
          {
           "lower": 0.42015309184789656,
           "timepoint": 45.28657150268555,
           "trajectory": "Rabbits",
           "upper": 1.7020507633686062
          },
          {
           "lower": 0.4154145985841751,
           "timepoint": 45.384769439697266,
           "trajectory": "Rabbits",
           "upper": 1.719242763519287
          },
          {
           "lower": 0.41348221302032473,
           "timepoint": 45.482967376708984,
           "trajectory": "Rabbits",
           "upper": 1.7336568772792815
          },
          {
           "lower": 0.4150035724043846,
           "timepoint": 45.58116149902344,
           "trajectory": "Rabbits",
           "upper": 1.764562529325485
          },
          {
           "lower": 0.4149696618318558,
           "timepoint": 45.679359436035156,
           "trajectory": "Rabbits",
           "upper": 1.8108898639678952
          },
          {
           "lower": 0.41395452320575715,
           "timepoint": 45.77755355834961,
           "trajectory": "Rabbits",
           "upper": 1.824523389339447
          },
          {
           "lower": 0.4140619054436684,
           "timepoint": 45.87575149536133,
           "trajectory": "Rabbits",
           "upper": 1.813973444700241
          },
          {
           "lower": 0.41541619300842286,
           "timepoint": 45.97394943237305,
           "trajectory": "Rabbits",
           "upper": 1.8230098664760586
          },
          {
           "lower": 0.4171424895524979,
           "timepoint": 46.0721435546875,
           "trajectory": "Rabbits",
           "upper": 1.8459568142890928
          },
          {
           "lower": 0.42002087384462355,
           "timepoint": 46.17034149169922,
           "trajectory": "Rabbits",
           "upper": 1.8654019176959988
          },
          {
           "lower": 0.42402760237455367,
           "timepoint": 46.26853561401367,
           "trajectory": "Rabbits",
           "upper": 1.8877334773540495
          },
          {
           "lower": 0.42738759964704515,
           "timepoint": 46.36673355102539,
           "trajectory": "Rabbits",
           "upper": 1.902269196510315
          },
          {
           "lower": 0.4318558230996132,
           "timepoint": 46.46493148803711,
           "trajectory": "Rabbits",
           "upper": 1.8940174400806427
          },
          {
           "lower": 0.43740634620189667,
           "timepoint": 46.56312561035156,
           "trajectory": "Rabbits",
           "upper": 1.8821656048297881
          },
          {
           "lower": 0.4447771281003952,
           "timepoint": 46.66132354736328,
           "trajectory": "Rabbits",
           "upper": 1.882305562496185
          },
          {
           "lower": 0.4558165818452835,
           "timepoint": 46.759517669677734,
           "trajectory": "Rabbits",
           "upper": 1.9225153148174283
          },
          {
           "lower": 0.4679217264056206,
           "timepoint": 46.85771560668945,
           "trajectory": "Rabbits",
           "upper": 1.9554853141307829
          },
          {
           "lower": 0.48110533952713014,
           "timepoint": 46.95591354370117,
           "trajectory": "Rabbits",
           "upper": 1.9698303520679474
          },
          {
           "lower": 0.49538414031267164,
           "timepoint": 47.054107666015625,
           "trajectory": "Rabbits",
           "upper": 1.9792747676372526
          },
          {
           "lower": 0.5080586045980453,
           "timepoint": 47.152305603027344,
           "trajectory": "Rabbits",
           "upper": 1.967767035961151
          },
          {
           "lower": 0.5129945755004883,
           "timepoint": 47.2504997253418,
           "trajectory": "Rabbits",
           "upper": 1.9391654551029203
          },
          {
           "lower": 0.5108693033456803,
           "timepoint": 47.348697662353516,
           "trajectory": "Rabbits",
           "upper": 1.8988539218902585
          },
          {
           "lower": 0.4991100400686264,
           "timepoint": 47.44689178466797,
           "trajectory": "Rabbits",
           "upper": 1.8478488326072688
          },
          {
           "lower": 0.5031557589769363,
           "timepoint": 47.54508972167969,
           "trajectory": "Rabbits",
           "upper": 1.8340315818786619
          },
          {
           "lower": 0.5088341951370239,
           "timepoint": 47.643287658691406,
           "trajectory": "Rabbits",
           "upper": 1.8401550590991973
          },
          {
           "lower": 0.5159552216529846,
           "timepoint": 47.74148178100586,
           "trajectory": "Rabbits",
           "upper": 1.8687605321407317
          },
          {
           "lower": 0.5092094346880913,
           "timepoint": 47.83967971801758,
           "trajectory": "Rabbits",
           "upper": 1.8707273721694944
          },
          {
           "lower": 0.5044783890247345,
           "timepoint": 47.93787384033203,
           "trajectory": "Rabbits",
           "upper": 1.8262719750404357
          },
          {
           "lower": 0.5081981033086777,
           "timepoint": 48.03607177734375,
           "trajectory": "Rabbits",
           "upper": 1.792725670337677
          },
          {
           "lower": 0.5200009018182754,
           "timepoint": 48.13426971435547,
           "trajectory": "Rabbits",
           "upper": 1.774888491630554
          },
          {
           "lower": 0.5272310882806778,
           "timepoint": 48.23246383666992,
           "trajectory": "Rabbits",
           "upper": 1.715480238199234
          },
          {
           "lower": 0.5269260108470917,
           "timepoint": 48.33066177368164,
           "trajectory": "Rabbits",
           "upper": 1.6720775485038757
          },
          {
           "lower": 0.5233244180679322,
           "timepoint": 48.428855895996094,
           "trajectory": "Rabbits",
           "upper": 1.6669860184192655
          },
          {
           "lower": 0.5214826852083206,
           "timepoint": 48.52705383300781,
           "trajectory": "Rabbits",
           "upper": 1.630444073677063
          },
          {
           "lower": 0.5193063199520112,
           "timepoint": 48.62525177001953,
           "trajectory": "Rabbits",
           "upper": 1.5780684947967527
          },
          {
           "lower": 0.5129514932632446,
           "timepoint": 48.723445892333984,
           "trajectory": "Rabbits",
           "upper": 1.5786680579185486
          },
          {
           "lower": 0.500324958562851,
           "timepoint": 48.8216438293457,
           "trajectory": "Rabbits",
           "upper": 1.6250803112983703
          },
          {
           "lower": 0.488868248462677,
           "timepoint": 48.919837951660156,
           "trajectory": "Rabbits",
           "upper": 1.6607791423797607
          },
          {
           "lower": 0.486769101023674,
           "timepoint": 49.018035888671875,
           "trajectory": "Rabbits",
           "upper": 1.6902902007102965
          },
          {
           "lower": 0.48539797216653824,
           "timepoint": 49.116233825683594,
           "trajectory": "Rabbits",
           "upper": 1.6994019508361815
          },
          {
           "lower": 0.4866256728768349,
           "timepoint": 49.21442794799805,
           "trajectory": "Rabbits",
           "upper": 1.7332690715789794
          },
          {
           "lower": 0.48455681949853896,
           "timepoint": 49.312625885009766,
           "trajectory": "Rabbits",
           "upper": 1.7707481265068052
          },
          {
           "lower": 0.48429418802261354,
           "timepoint": 49.41082000732422,
           "trajectory": "Rabbits",
           "upper": 1.792945963144302
          },
          {
           "lower": 0.4749647453427315,
           "timepoint": 49.50901794433594,
           "trajectory": "Rabbits",
           "upper": 1.8070252597331997
          },
          {
           "lower": 0.4730565622448921,
           "timepoint": 49.607215881347656,
           "trajectory": "Rabbits",
           "upper": 1.812970924377441
          },
          {
           "lower": 0.4718085706233978,
           "timepoint": 49.70541000366211,
           "trajectory": "Rabbits",
           "upper": 1.8213407933712003
          },
          {
           "lower": 0.46968354731798173,
           "timepoint": 49.80360794067383,
           "trajectory": "Rabbits",
           "upper": 1.830135244131088
          },
          {
           "lower": 0.46901567131280897,
           "timepoint": 49.90180206298828,
           "trajectory": "Rabbits",
           "upper": 1.8315934181213378
          },
          {
           "lower": 0.45796349793672564,
           "timepoint": 50,
           "trajectory": "Rabbits",
           "upper": 1.8251835584640501
          },
          {
           "lower": 0.6978829830884934,
           "timepoint": 1,
           "trajectory": "Wolves",
           "upper": 0.8785625755786896
          },
          {
           "lower": 0.6641233384609222,
           "timepoint": 1.0981963872909546,
           "trajectory": "Wolves",
           "upper": 0.8490899831056594
          },
          {
           "lower": 0.6312833309173584,
           "timepoint": 1.1963927745819092,
           "trajectory": "Wolves",
           "upper": 0.8187080174684525
          },
          {
           "lower": 0.5993284106254577,
           "timepoint": 1.2945891618728638,
           "trajectory": "Wolves",
           "upper": 0.7882281363010406
          },
          {
           "lower": 0.5684530228376389,
           "timepoint": 1.3927855491638184,
           "trajectory": "Wolves",
           "upper": 0.7585157841444015
          },
          {
           "lower": 0.5389212429523468,
           "timepoint": 1.490981936454773,
           "trajectory": "Wolves",
           "upper": 0.728909558057785
          },
          {
           "lower": 0.508569210767746,
           "timepoint": 1.5891783237457275,
           "trajectory": "Wolves",
           "upper": 0.699645733833313
          },
          {
           "lower": 0.47970481812953947,
           "timepoint": 1.6873748302459717,
           "trajectory": "Wolves",
           "upper": 0.6709146112203598
          },
          {
           "lower": 0.4523730292916298,
           "timepoint": 1.7855710983276367,
           "trajectory": "Wolves",
           "upper": 0.6427964657545089
          },
          {
           "lower": 0.4274070724844933,
           "timepoint": 1.8837676048278809,
           "trajectory": "Wolves",
           "upper": 0.6151410669088363
          },
          {
           "lower": 0.4040606811642647,
           "timepoint": 1.981963872909546,
           "trajectory": "Wolves",
           "upper": 0.5883755654096603
          },
          {
           "lower": 0.38189286440610887,
           "timepoint": 2.08016037940979,
           "trajectory": "Wolves",
           "upper": 0.5625755846500397
          },
          {
           "lower": 0.3611419662833214,
           "timepoint": 2.178356647491455,
           "trajectory": "Wolves",
           "upper": 0.5377932578325272
          },
          {
           "lower": 0.3418260633945465,
           "timepoint": 2.276553153991699,
           "trajectory": "Wolves",
           "upper": 0.5140648692846298
          },
          {
           "lower": 0.32434320002794265,
           "timepoint": 2.3747496604919434,
           "trajectory": "Wolves",
           "upper": 0.4914118558168411
          },
          {
           "lower": 0.308052234351635,
           "timepoint": 2.4729459285736084,
           "trajectory": "Wolves",
           "upper": 0.46984291523694993
          },
          {
           "lower": 0.292301145195961,
           "timepoint": 2.5711421966552734,
           "trajectory": "Wolves",
           "upper": 0.44935783445835115
          },
          {
           "lower": 0.2778008684515953,
           "timepoint": 2.6693387031555176,
           "trajectory": "Wolves",
           "upper": 0.4301173686981201
          },
          {
           "lower": 0.26438556164503096,
           "timepoint": 2.7675352096557617,
           "trajectory": "Wolves",
           "upper": 0.4124217718839645
          },
          {
           "lower": 0.2520015753805637,
           "timepoint": 2.8657314777374268,
           "trajectory": "Wolves",
           "upper": 0.3966095671057701
          },
          {
           "lower": 0.2405976265668869,
           "timepoint": 2.963927745819092,
           "trajectory": "Wolves",
           "upper": 0.3818202704191208
          },
          {
           "lower": 0.23012515902519226,
           "timepoint": 3.062124252319336,
           "trajectory": "Wolves",
           "upper": 0.36814202964305875
          },
          {
           "lower": 0.2205386035144329,
           "timepoint": 3.16032075881958,
           "trajectory": "Wolves",
           "upper": 0.355433976650238
          },
          {
           "lower": 0.2117955356836319,
           "timepoint": 3.258517026901245,
           "trajectory": "Wolves",
           "upper": 0.3443806380033493
          },
          {
           "lower": 0.20385783836245536,
           "timepoint": 3.3567135334014893,
           "trajectory": "Wolves",
           "upper": 0.3340659737586975
          },
          {
           "lower": 0.19668957069516183,
           "timepoint": 3.4549098014831543,
           "trajectory": "Wolves",
           "upper": 0.3246395543217659
          },
          {
           "lower": 0.19026003256440163,
           "timepoint": 3.5531063079833984,
           "trajectory": "Wolves",
           "upper": 0.31551031321287154
          },
          {
           "lower": 0.1845422215759754,
           "timepoint": 3.6513025760650635,
           "trajectory": "Wolves",
           "upper": 0.30778101086616516
          },
          {
           "lower": 0.17951351404190063,
           "timepoint": 3.7494990825653076,
           "trajectory": "Wolves",
           "upper": 0.3014834031462669
          },
          {
           "lower": 0.17515575438737868,
           "timepoint": 3.8476953506469727,
           "trajectory": "Wolves",
           "upper": 0.2960398867726326
          },
          {
           "lower": 0.17145556807518006,
           "timepoint": 3.945891857147217,
           "trajectory": "Wolves",
           "upper": 0.29144793599843977
          },
          {
           "lower": 0.1682551011443138,
           "timepoint": 4.044088363647461,
           "trajectory": "Wolves",
           "upper": 0.2877653166651726
          },
          {
           "lower": 0.16566150188446044,
           "timepoint": 4.142284393310547,
           "trajectory": "Wolves",
           "upper": 0.28693538904190063
          },
          {
           "lower": 0.16270144805312156,
           "timepoint": 4.240481376647949,
           "trajectory": "Wolves",
           "upper": 0.2872831955552101
          },
          {
           "lower": 0.15977166518568992,
           "timepoint": 4.338677406311035,
           "trajectory": "Wolves",
           "upper": 0.2855072125792503
          },
          {
           "lower": 0.15745530575513839,
           "timepoint": 4.436873912811279,
           "trajectory": "Wolves",
           "upper": 0.28406711816787716
          },
          {
           "lower": 0.15635407567024232,
           "timepoint": 4.535070419311523,
           "trajectory": "Wolves",
           "upper": 0.28420774787664416
          },
          {
           "lower": 0.1553159050643444,
           "timepoint": 4.633266448974609,
           "trajectory": "Wolves",
           "upper": 0.2906181916594505
          },
          {
           "lower": 0.15418352782726288,
           "timepoint": 4.7314629554748535,
           "trajectory": "Wolves",
           "upper": 0.2981049165129661
          },
          {
           "lower": 0.15248012393712998,
           "timepoint": 4.829659461975098,
           "trajectory": "Wolves",
           "upper": 0.30431753545999524
          },
          {
           "lower": 0.1513179808855057,
           "timepoint": 4.927855491638184,
           "trajectory": "Wolves",
           "upper": 0.31276321113109584
          },
          {
           "lower": 0.150708919018507,
           "timepoint": 5.026051998138428,
           "trajectory": "Wolves",
           "upper": 0.3227651119232177
          },
          {
           "lower": 0.15067099034786224,
           "timepoint": 5.124248504638672,
           "trajectory": "Wolves",
           "upper": 0.33444448262453075
          },
          {
           "lower": 0.15122820064425468,
           "timepoint": 5.222445011138916,
           "trajectory": "Wolves",
           "upper": 0.3479314237833023
          },
          {
           "lower": 0.1519061431288719,
           "timepoint": 5.32064151763916,
           "trajectory": "Wolves",
           "upper": 0.3636187583208084
          },
          {
           "lower": 0.15300024896860123,
           "timepoint": 5.418837547302246,
           "trajectory": "Wolves",
           "upper": 0.3816536068916321
          },
          {
           "lower": 0.1547201916575432,
           "timepoint": 5.51703405380249,
           "trajectory": "Wolves",
           "upper": 0.40196546912193293
          },
          {
           "lower": 0.15870047509670257,
           "timepoint": 5.615230560302734,
           "trajectory": "Wolves",
           "upper": 0.425565093755722
          },
          {
           "lower": 0.16432776749134065,
           "timepoint": 5.7134270668029785,
           "trajectory": "Wolves",
           "upper": 0.45279376059770576
          },
          {
           "lower": 0.16942375674843788,
           "timepoint": 5.811623573303223,
           "trajectory": "Wolves",
           "upper": 0.4828007921576499
          },
          {
           "lower": 0.175539580732584,
           "timepoint": 5.909819602966309,
           "trajectory": "Wolves",
           "upper": 0.5155815362930297
          },
          {
           "lower": 0.18278886899352073,
           "timepoint": 6.008016109466553,
           "trajectory": "Wolves",
           "upper": 0.5510401755571365
          },
          {
           "lower": 0.1913030579686165,
           "timepoint": 6.106212615966797,
           "trajectory": "Wolves",
           "upper": 0.5889679074287414
          },
          {
           "lower": 0.20104168206453324,
           "timepoint": 6.204409122467041,
           "trajectory": "Wolves",
           "upper": 0.6290197759866714
          },
          {
           "lower": 0.21211343184113501,
           "timepoint": 6.302605152130127,
           "trajectory": "Wolves",
           "upper": 0.6707020252943038
          },
          {
           "lower": 0.22486768662929535,
           "timepoint": 6.400801658630371,
           "trajectory": "Wolves",
           "upper": 0.7164292693138121
          },
          {
           "lower": 0.239505136013031,
           "timepoint": 6.498998165130615,
           "trajectory": "Wolves",
           "upper": 0.7632388323545456
          },
          {
           "lower": 0.256245319545269,
           "timepoint": 6.597194671630859,
           "trajectory": "Wolves",
           "upper": 0.8089749157428742
          },
          {
           "lower": 0.27532428354024885,
           "timepoint": 6.695390701293945,
           "trajectory": "Wolves",
           "upper": 0.8524002462625504
          },
          {
           "lower": 0.2969896480441093,
           "timepoint": 6.7935872077941895,
           "trajectory": "Wolves",
           "upper": 0.8927618145942687
          },
          {
           "lower": 0.32149026095867156,
           "timepoint": 6.891783714294434,
           "trajectory": "Wolves",
           "upper": 0.928539514541626
          },
          {
           "lower": 0.34906338155269623,
           "timepoint": 6.989980220794678,
           "trajectory": "Wolves",
           "upper": 0.9584593564271926
          },
          {
           "lower": 0.37991348952054976,
           "timepoint": 7.088176250457764,
           "trajectory": "Wolves",
           "upper": 0.9817579507827758
          },
          {
           "lower": 0.4126221776008606,
           "timepoint": 7.186372756958008,
           "trajectory": "Wolves",
           "upper": 0.9952844083309174
          },
          {
           "lower": 0.4471473842859268,
           "timepoint": 7.284569263458252,
           "trajectory": "Wolves",
           "upper": 0.999888813495636
          },
          {
           "lower": 0.4840144827961922,
           "timepoint": 7.382765769958496,
           "trajectory": "Wolves",
           "upper": 0.9991763532161713
          },
          {
           "lower": 0.5238396972417831,
           "timepoint": 7.48096227645874,
           "trajectory": "Wolves",
           "upper": 0.9945943206548691
          },
          {
           "lower": 0.5663493752479554,
           "timepoint": 7.579158306121826,
           "trajectory": "Wolves",
           "upper": 0.996418884396553
          },
          {
           "lower": 0.6110985726118088,
           "timepoint": 7.67735481262207,
           "trajectory": "Wolves",
           "upper": 0.9992064297199249
          },
          {
           "lower": 0.6574589967727661,
           "timepoint": 7.7755513191223145,
           "trajectory": "Wolves",
           "upper": 1.000333058834076
          },
          {
           "lower": 0.7046235054731369,
           "timepoint": 7.873747825622559,
           "trajectory": "Wolves",
           "upper": 1.0065573751926422
          },
          {
           "lower": 0.7525284260511398,
           "timepoint": 7.9719438552856445,
           "trajectory": "Wolves",
           "upper": 1.0058083832263947
          },
          {
           "lower": 0.7894466161727905,
           "timepoint": 8.070140838623047,
           "trajectory": "Wolves",
           "upper": 1.0090785443782806
          },
          {
           "lower": 0.817705824971199,
           "timepoint": 8.168336868286133,
           "trajectory": "Wolves",
           "upper": 1.0075386762619019
          },
          {
           "lower": 0.8005896002054215,
           "timepoint": 8.266532897949219,
           "trajectory": "Wolves",
           "upper": 1.0106054842472076
          },
          {
           "lower": 0.7775146216154099,
           "timepoint": 8.364728927612305,
           "trajectory": "Wolves",
           "upper": 1.0060164749622345
          },
          {
           "lower": 0.7466731667518616,
           "timepoint": 8.462925910949707,
           "trajectory": "Wolves",
           "upper": 1.002402228116989
          },
          {
           "lower": 0.7160019606351853,
           "timepoint": 8.56112289428711,
           "trajectory": "Wolves",
           "upper": 1.0037639915943146
          },
          {
           "lower": 0.6857686698436737,
           "timepoint": 8.659318923950195,
           "trajectory": "Wolves",
           "upper": 1.0013867408037185
          },
          {
           "lower": 0.6561907947063446,
           "timepoint": 8.757514953613281,
           "trajectory": "Wolves",
           "upper": 1.0036586046218872
          },
          {
           "lower": 0.6274442553520203,
           "timepoint": 8.855710983276367,
           "trajectory": "Wolves",
           "upper": 1.0084400415420531
          },
          {
           "lower": 0.5996661454439163,
           "timepoint": 8.95390796661377,
           "trajectory": "Wolves",
           "upper": 1.0045182228088378
          },
          {
           "lower": 0.57296042740345,
           "timepoint": 9.052103996276855,
           "trajectory": "Wolves",
           "upper": 0.9934995383024215
          },
          {
           "lower": 0.547403609752655,
           "timepoint": 9.150300979614258,
           "trajectory": "Wolves",
           "upper": 0.9773024916648865
          },
          {
           "lower": 0.5230468422174454,
           "timepoint": 9.248497009277344,
           "trajectory": "Wolves",
           "upper": 0.9568425595760346
          },
          {
           "lower": 0.49992330372333527,
           "timepoint": 9.346693992614746,
           "trajectory": "Wolves",
           "upper": 0.9327404618263244
          },
          {
           "lower": 0.478048375248909,
           "timepoint": 9.444890022277832,
           "trajectory": "Wolves",
           "upper": 0.9057140052318573
          },
          {
           "lower": 0.45742707401514054,
           "timepoint": 9.543086051940918,
           "trajectory": "Wolves",
           "upper": 0.8764394521713257
          },
          {
           "lower": 0.43804881274700164,
           "timepoint": 9.64128303527832,
           "trajectory": "Wolves",
           "upper": 0.8455302238464355
          },
          {
           "lower": 0.41914495676755903,
           "timepoint": 9.739479064941406,
           "trajectory": "Wolves",
           "upper": 0.8135338127613067
          },
          {
           "lower": 0.39964639097452165,
           "timepoint": 9.837675094604492,
           "trajectory": "Wolves",
           "upper": 0.7809252381324767
          },
          {
           "lower": 0.38090849965810775,
           "timepoint": 9.935872077941895,
           "trajectory": "Wolves",
           "upper": 0.7481121331453322
          },
          {
           "lower": 0.36345911026000977,
           "timepoint": 10.03406810760498,
           "trajectory": "Wolves",
           "upper": 0.7154356390237807
          },
          {
           "lower": 0.3472597599029541,
           "timepoint": 10.132265090942383,
           "trajectory": "Wolves",
           "upper": 0.6831769913434981
          },
          {
           "lower": 0.3300993725657463,
           "timepoint": 10.230461120605469,
           "trajectory": "Wolves",
           "upper": 0.6515639722347258
          },
          {
           "lower": 0.3140900060534477,
           "timepoint": 10.328657150268555,
           "trajectory": "Wolves",
           "upper": 0.6220583736896513
          },
          {
           "lower": 0.29845099747180937,
           "timepoint": 10.426854133605957,
           "trajectory": "Wolves",
           "upper": 0.5940448939800261
          },
          {
           "lower": 0.2848609298467636,
           "timepoint": 10.525050163269043,
           "trajectory": "Wolves",
           "upper": 0.5669990092515944
          },
          {
           "lower": 0.2750711590051651,
           "timepoint": 10.623247146606445,
           "trajectory": "Wolves",
           "upper": 0.5409881681203841
          },
          {
           "lower": 0.2662804305553436,
           "timepoint": 10.721443176269531,
           "trajectory": "Wolves",
           "upper": 0.5160592570900916
          },
          {
           "lower": 0.2568549528717995,
           "timepoint": 10.819639205932617,
           "trajectory": "Wolves",
           "upper": 0.4922410160303115
          },
          {
           "lower": 0.2453808605670929,
           "timepoint": 10.91783618927002,
           "trajectory": "Wolves",
           "upper": 0.4695479169487952
          },
          {
           "lower": 0.23483706042170524,
           "timepoint": 11.016032218933105,
           "trajectory": "Wolves",
           "upper": 0.44798238128423684
          },
          {
           "lower": 0.22517933696508408,
           "timepoint": 11.114228248596191,
           "trajectory": "Wolves",
           "upper": 0.4275363013148307
          },
          {
           "lower": 0.21632617264986037,
           "timepoint": 11.212425231933594,
           "trajectory": "Wolves",
           "upper": 0.40819491893053045
          },
          {
           "lower": 0.20827872157096863,
           "timepoint": 11.31062126159668,
           "trajectory": "Wolves",
           "upper": 0.38993706703186026
          },
          {
           "lower": 0.20180438086390495,
           "timepoint": 11.408818244934082,
           "trajectory": "Wolves",
           "upper": 0.372736433148384
          },
          {
           "lower": 0.1948359914124012,
           "timepoint": 11.507014274597168,
           "trajectory": "Wolves",
           "upper": 0.3565643206238746
          },
          {
           "lower": 0.1886773332953453,
           "timepoint": 11.605210304260254,
           "trajectory": "Wolves",
           "upper": 0.34142603725194925
          },
          {
           "lower": 0.1822824612259865,
           "timepoint": 11.703407287597656,
           "trajectory": "Wolves",
           "upper": 0.3280029445886612
          },
          {
           "lower": 0.1768182784318924,
           "timepoint": 11.801603317260742,
           "trajectory": "Wolves",
           "upper": 0.3155541613698006
          },
          {
           "lower": 0.17241908088326455,
           "timepoint": 11.899799346923828,
           "trajectory": "Wolves",
           "upper": 0.30780972689390185
          },
          {
           "lower": 0.16910969465970993,
           "timepoint": 11.99799633026123,
           "trajectory": "Wolves",
           "upper": 0.29929260164499283
          },
          {
           "lower": 0.16727722436189651,
           "timepoint": 12.096192359924316,
           "trajectory": "Wolves",
           "upper": 0.30073579549789425
          },
          {
           "lower": 0.16588936671614646,
           "timepoint": 12.194389343261719,
           "trajectory": "Wolves",
           "upper": 0.3032856702804565
          },
          {
           "lower": 0.1639499694108963,
           "timepoint": 12.292585372924805,
           "trajectory": "Wolves",
           "upper": 0.3007561579346657
          },
          {
           "lower": 0.1626553200185299,
           "timepoint": 12.39078140258789,
           "trajectory": "Wolves",
           "upper": 0.30875262916088103
          },
          {
           "lower": 0.1620188243687153,
           "timepoint": 12.488978385925293,
           "trajectory": "Wolves",
           "upper": 0.3202205196022987
          },
          {
           "lower": 0.16206154301762582,
           "timepoint": 12.587174415588379,
           "trajectory": "Wolves",
           "upper": 0.334099380671978
          },
          {
           "lower": 0.16281294375658034,
           "timepoint": 12.685371398925781,
           "trajectory": "Wolves",
           "upper": 0.3500352308154106
          },
          {
           "lower": 0.1627533718943596,
           "timepoint": 12.783567428588867,
           "trajectory": "Wolves",
           "upper": 0.3681897342205047
          },
          {
           "lower": 0.1629971034824848,
           "timepoint": 12.881763458251953,
           "trajectory": "Wolves",
           "upper": 0.3887231931090354
          },
          {
           "lower": 0.16158675104379655,
           "timepoint": 12.979960441589355,
           "trajectory": "Wolves",
           "upper": 0.41178561300039285
          },
          {
           "lower": 0.16041808053851128,
           "timepoint": 13.078156471252441,
           "trajectory": "Wolves",
           "upper": 0.4375055462121963
          },
          {
           "lower": 0.15754736736416816,
           "timepoint": 13.176352500915527,
           "trajectory": "Wolves",
           "upper": 0.46597421467304223
          },
          {
           "lower": 0.1552147835493088,
           "timepoint": 13.27454948425293,
           "trajectory": "Wolves",
           "upper": 0.4972257941961288
          },
          {
           "lower": 0.15341154709458352,
           "timepoint": 13.372745513916016,
           "trajectory": "Wolves",
           "upper": 0.5312163263559341
          },
          {
           "lower": 0.15204961746931075,
           "timepoint": 13.470942497253418,
           "trajectory": "Wolves",
           "upper": 0.5678020358085631
          },
          {
           "lower": 0.15124001801013948,
           "timepoint": 13.569138526916504,
           "trajectory": "Wolves",
           "upper": 0.6067143827676772
          },
          {
           "lower": 0.15099834725260736,
           "timepoint": 13.66733455657959,
           "trajectory": "Wolves",
           "upper": 0.6475424587726591
          },
          {
           "lower": 0.15297048538923264,
           "timepoint": 13.765531539916992,
           "trajectory": "Wolves",
           "upper": 0.6897222399711608
          },
          {
           "lower": 0.15530856102705,
           "timepoint": 13.863727569580078,
           "trajectory": "Wolves",
           "upper": 0.7325359314680098
          },
          {
           "lower": 0.154922217130661,
           "timepoint": 13.96192455291748,
           "trajectory": "Wolves",
           "upper": 0.775128862261772
          },
          {
           "lower": 0.1550935097038746,
           "timepoint": 14.060120582580566,
           "trajectory": "Wolves",
           "upper": 0.8165419191122054
          },
          {
           "lower": 0.15602648109197617,
           "timepoint": 14.158316612243652,
           "trajectory": "Wolves",
           "upper": 0.8557619512081145
          },
          {
           "lower": 0.15872434675693511,
           "timepoint": 14.256513595581055,
           "trajectory": "Wolves",
           "upper": 0.8917760968208313
          },
          {
           "lower": 0.1621825523674488,
           "timepoint": 14.35470962524414,
           "trajectory": "Wolves",
           "upper": 0.9236480355262755
          },
          {
           "lower": 0.1664690352976322,
           "timepoint": 14.452905654907227,
           "trajectory": "Wolves",
           "upper": 0.9505664110183715
          },
          {
           "lower": 0.1716640517115593,
           "timepoint": 14.551102638244629,
           "trajectory": "Wolves",
           "upper": 0.9747474461793899
          },
          {
           "lower": 0.17786126136779784,
           "timepoint": 14.649298667907715,
           "trajectory": "Wolves",
           "upper": 0.9923914164304733
          },
          {
           "lower": 0.1851704627275467,
           "timepoint": 14.747495651245117,
           "trajectory": "Wolves",
           "upper": 0.9977774322032928
          },
          {
           "lower": 0.19371743574738504,
           "timepoint": 14.845691680908203,
           "trajectory": "Wolves",
           "upper": 0.9930166512727737
          },
          {
           "lower": 0.20364718586206437,
           "timepoint": 14.943887710571289,
           "trajectory": "Wolves",
           "upper": 0.9828639149665832
          },
          {
           "lower": 0.21503195986151696,
           "timepoint": 15.042084693908691,
           "trajectory": "Wolves",
           "upper": 0.9812245339155197
          },
          {
           "lower": 0.22812195122241974,
           "timepoint": 15.140280723571777,
           "trajectory": "Wolves",
           "upper": 0.9861322522163392
          },
          {
           "lower": 0.24313153102993965,
           "timepoint": 15.23847770690918,
           "trajectory": "Wolves",
           "upper": 0.9755009979009628
          },
          {
           "lower": 0.2602828934788704,
           "timepoint": 15.336673736572266,
           "trajectory": "Wolves",
           "upper": 0.9892365634441376
          },
          {
           "lower": 0.27981317788362503,
           "timepoint": 15.434869766235352,
           "trajectory": "Wolves",
           "upper": 0.9977049201726913
          },
          {
           "lower": 0.3019690975546837,
           "timepoint": 15.533066749572754,
           "trajectory": "Wolves",
           "upper": 0.9995893061161041
          },
          {
           "lower": 0.32699553817510607,
           "timepoint": 15.63126277923584,
           "trajectory": "Wolves",
           "upper": 0.9988284707069397
          },
          {
           "lower": 0.3521470993757248,
           "timepoint": 15.729458808898926,
           "trajectory": "Wolves",
           "upper": 0.9993571370840073
          },
          {
           "lower": 0.37960807234048843,
           "timepoint": 15.827655792236328,
           "trajectory": "Wolves",
           "upper": 1.0005356311798095
          },
          {
           "lower": 0.40954194217920303,
           "timepoint": 15.925851821899414,
           "trajectory": "Wolves",
           "upper": 1.0013312101364136
          },
          {
           "lower": 0.4423285946249962,
           "timepoint": 16.0240478515625,
           "trajectory": "Wolves",
           "upper": 1.0075413048267365
          },
          {
           "lower": 0.4781190812587738,
           "timepoint": 16.12224578857422,
           "trajectory": "Wolves",
           "upper": 1.0118739128112793
          },
          {
           "lower": 0.516811516880989,
           "timepoint": 16.220439910888672,
           "trajectory": "Wolves",
           "upper": 1.0101054847240447
          },
          {
           "lower": 0.5441705912351609,
           "timepoint": 16.31863784790039,
           "trajectory": "Wolves",
           "upper": 1.0067384481430053
          },
          {
           "lower": 0.568549570441246,
           "timepoint": 16.416833877563477,
           "trajectory": "Wolves",
           "upper": 1.002038586139679
          },
          {
           "lower": 0.5429022997617722,
           "timepoint": 16.515029907226562,
           "trajectory": "Wolves",
           "upper": 1.0011488199234009
          },
          {
           "lower": 0.5336899936199189,
           "timepoint": 16.61322784423828,
           "trajectory": "Wolves",
           "upper": 0.9971868366003036
          },
          {
           "lower": 0.5072744593024254,
           "timepoint": 16.711421966552734,
           "trajectory": "Wolves",
           "upper": 0.9897120624780655
          },
          {
           "lower": 0.48223721534013747,
           "timepoint": 16.809619903564453,
           "trajectory": "Wolves",
           "upper": 0.9831840842962265
          },
          {
           "lower": 0.4597930729389191,
           "timepoint": 16.90781593322754,
           "trajectory": "Wolves",
           "upper": 0.9957805424928665
          },
          {
           "lower": 0.4402854099869728,
           "timepoint": 17.006011962890625,
           "trajectory": "Wolves",
           "upper": 1.0009864032268525
          },
          {
           "lower": 0.42200980633497237,
           "timepoint": 17.10420799255371,
           "trajectory": "Wolves",
           "upper": 1.0010557353496552
          },
          {
           "lower": 0.40494498014450075,
           "timepoint": 17.20240592956543,
           "trajectory": "Wolves",
           "upper": 0.9978171199560165
          },
          {
           "lower": 0.3890667766332626,
           "timepoint": 17.300601959228516,
           "trajectory": "Wolves",
           "upper": 0.9965868800878525
          },
          {
           "lower": 0.3743485063314438,
           "timepoint": 17.3987979888916,
           "trajectory": "Wolves",
           "upper": 0.998455336689949
          },
          {
           "lower": 0.3607614189386368,
           "timepoint": 17.496994018554688,
           "trajectory": "Wolves",
           "upper": 0.9998154699802398
          },
          {
           "lower": 0.3482774034142494,
           "timepoint": 17.595190048217773,
           "trajectory": "Wolves",
           "upper": 1.0002733141183853
          },
          {
           "lower": 0.3368685841560364,
           "timepoint": 17.693387985229492,
           "trajectory": "Wolves",
           "upper": 0.9956602454185486
          },
          {
           "lower": 0.3265078768134117,
           "timepoint": 17.791584014892578,
           "trajectory": "Wolves",
           "upper": 0.9811929523944855
          },
          {
           "lower": 0.3171424388885498,
           "timepoint": 17.889780044555664,
           "trajectory": "Wolves",
           "upper": 0.9618608713150024
          },
          {
           "lower": 0.3085785865783691,
           "timepoint": 17.98797607421875,
           "trajectory": "Wolves",
           "upper": 0.9382475227117538
          },
          {
           "lower": 0.3010013967752457,
           "timepoint": 18.086172103881836,
           "trajectory": "Wolves",
           "upper": 0.9111802756786347
          },
          {
           "lower": 0.2920254796743393,
           "timepoint": 18.184368133544922,
           "trajectory": "Wolves",
           "upper": 0.8814419984817505
          },
          {
           "lower": 0.28120449781417844,
           "timepoint": 18.28256607055664,
           "trajectory": "Wolves",
           "upper": 0.8504221975803375
          },
          {
           "lower": 0.26939221322536466,
           "timepoint": 18.380762100219727,
           "trajectory": "Wolves",
           "upper": 0.8195193082094192
          },
          {
           "lower": 0.25854006707668303,
           "timepoint": 18.478958129882812,
           "trajectory": "Wolves",
           "upper": 0.7879701435565949
          },
          {
           "lower": 0.25412780195474627,
           "timepoint": 18.5771541595459,
           "trajectory": "Wolves",
           "upper": 0.7561036467552185
          },
          {
           "lower": 0.2500698037445545,
           "timepoint": 18.675350189208984,
           "trajectory": "Wolves",
           "upper": 0.7242607533931732
          },
          {
           "lower": 0.24498572200536728,
           "timepoint": 18.773548126220703,
           "trajectory": "Wolves",
           "upper": 0.692724061012268
          },
          {
           "lower": 0.23654634952545167,
           "timepoint": 18.87174415588379,
           "trajectory": "Wolves",
           "upper": 0.6617236942052841
          },
          {
           "lower": 0.22896385863423346,
           "timepoint": 18.969940185546875,
           "trajectory": "Wolves",
           "upper": 0.6314462453126907
          },
          {
           "lower": 0.22203873470425606,
           "timepoint": 19.06813621520996,
           "trajectory": "Wolves",
           "upper": 0.602038112282753
          },
          {
           "lower": 0.2138136386871338,
           "timepoint": 19.166332244873047,
           "trajectory": "Wolves",
           "upper": 0.5736097812652587
          },
          {
           "lower": 0.20605550929903985,
           "timepoint": 19.264530181884766,
           "trajectory": "Wolves",
           "upper": 0.5462440490722655
          },
          {
           "lower": 0.20027177259325982,
           "timepoint": 19.36272621154785,
           "trajectory": "Wolves",
           "upper": 0.5199971854686737
          },
          {
           "lower": 0.19767072200775146,
           "timepoint": 19.460922241210938,
           "trajectory": "Wolves",
           "upper": 0.49490585774183266
          },
          {
           "lower": 0.19202626794576644,
           "timepoint": 19.559118270874023,
           "trajectory": "Wolves",
           "upper": 0.4709893852472305
          },
          {
           "lower": 0.18630552366375924,
           "timepoint": 19.65731430053711,
           "trajectory": "Wolves",
           "upper": 0.44825136810541144
          },
          {
           "lower": 0.1812824599444866,
           "timepoint": 19.755512237548828,
           "trajectory": "Wolves",
           "upper": 0.42668551057577125
          },
          {
           "lower": 0.17693950831890107,
           "timepoint": 19.853708267211914,
           "trajectory": "Wolves",
           "upper": 0.40627554655075065
          },
          {
           "lower": 0.17324449941515924,
           "timepoint": 19.951904296875,
           "trajectory": "Wolves",
           "upper": 0.4030626893043518
          },
          {
           "lower": 0.1699801467359066,
           "timepoint": 20.050100326538086,
           "trajectory": "Wolves",
           "upper": 0.41938123404979705
          },
          {
           "lower": 0.16804226040840148,
           "timepoint": 20.148296356201172,
           "trajectory": "Wolves",
           "upper": 0.4239849567413329
          },
          {
           "lower": 0.1663979098200798,
           "timepoint": 20.24649429321289,
           "trajectory": "Wolves",
           "upper": 0.40634532272815693
          },
          {
           "lower": 0.1647381938993931,
           "timepoint": 20.344690322875977,
           "trajectory": "Wolves",
           "upper": 0.4069538936018944
          },
          {
           "lower": 0.1636613830924034,
           "timepoint": 20.442886352539062,
           "trajectory": "Wolves",
           "upper": 0.42307848632335654
          },
          {
           "lower": 0.16307924538850785,
           "timepoint": 20.54108238220215,
           "trajectory": "Wolves",
           "upper": 0.45002248883247364
          },
          {
           "lower": 0.1631910242140293,
           "timepoint": 20.639278411865234,
           "trajectory": "Wolves",
           "upper": 0.47973577231168735
          },
          {
           "lower": 0.1640276603400707,
           "timepoint": 20.73747444152832,
           "trajectory": "Wolves",
           "upper": 0.5122190564870833
          },
          {
           "lower": 0.16413161009550095,
           "timepoint": 20.83567237854004,
           "trajectory": "Wolves",
           "upper": 0.5473854094743728
          },
          {
           "lower": 0.16348991319537162,
           "timepoint": 20.933868408203125,
           "trajectory": "Wolves",
           "upper": 0.5850378274917601
          },
          {
           "lower": 0.16351921632885932,
           "timepoint": 21.03206443786621,
           "trajectory": "Wolves",
           "upper": 0.6248426437377929
          },
          {
           "lower": 0.16417717114090918,
           "timepoint": 21.130260467529297,
           "trajectory": "Wolves",
           "upper": 0.6663227587938307
          },
          {
           "lower": 0.1669645145535469,
           "timepoint": 21.228456497192383,
           "trajectory": "Wolves",
           "upper": 0.7088437467813491
          },
          {
           "lower": 0.16852254420518875,
           "timepoint": 21.3266544342041,
           "trajectory": "Wolves",
           "upper": 0.7516247153282164
          },
          {
           "lower": 0.16876422837376595,
           "timepoint": 21.424850463867188,
           "trajectory": "Wolves",
           "upper": 0.7937631100416183
          },
          {
           "lower": 0.16696756705641747,
           "timepoint": 21.523046493530273,
           "trajectory": "Wolves",
           "upper": 0.8342687219381331
          },
          {
           "lower": 0.16534425914287568,
           "timepoint": 21.62124252319336,
           "trajectory": "Wolves",
           "upper": 0.8721249610185622
          },
          {
           "lower": 0.16089281365275382,
           "timepoint": 21.719438552856445,
           "trajectory": "Wolves",
           "upper": 0.9063484132289885
          },
          {
           "lower": 0.15697359889745713,
           "timepoint": 21.817636489868164,
           "trajectory": "Wolves",
           "upper": 0.9360553205013274
          },
          {
           "lower": 0.154640594124794,
           "timepoint": 21.91583251953125,
           "trajectory": "Wolves",
           "upper": 0.9605146616697311
          },
          {
           "lower": 0.15332131534814836,
           "timepoint": 22.014028549194336,
           "trajectory": "Wolves",
           "upper": 0.9791977941989898
          },
          {
           "lower": 0.15479821115732192,
           "timepoint": 22.112224578857422,
           "trajectory": "Wolves",
           "upper": 0.9899740725755691
          },
          {
           "lower": 0.1562502309679985,
           "timepoint": 22.210420608520508,
           "trajectory": "Wolves",
           "upper": 0.9913704872131348
          },
          {
           "lower": 0.15635684356093407,
           "timepoint": 22.308618545532227,
           "trajectory": "Wolves",
           "upper": 0.9836450457572936
          },
          {
           "lower": 0.15691652297973632,
           "timepoint": 22.406814575195312,
           "trajectory": "Wolves",
           "upper": 0.9693858861923217
          },
          {
           "lower": 0.1567702919244766,
           "timepoint": 22.5050106048584,
           "trajectory": "Wolves",
           "upper": 0.957481563091278
          },
          {
           "lower": 0.15576769188046455,
           "timepoint": 22.603206634521484,
           "trajectory": "Wolves",
           "upper": 0.9601654708385468
          },
          {
           "lower": 0.15524135902523994,
           "timepoint": 22.70140266418457,
           "trajectory": "Wolves",
           "upper": 0.9679513245820999
          },
          {
           "lower": 0.15515390932559966,
           "timepoint": 22.799598693847656,
           "trajectory": "Wolves",
           "upper": 0.9604407727718353
          },
          {
           "lower": 0.15675759613513945,
           "timepoint": 22.897796630859375,
           "trajectory": "Wolves",
           "upper": 0.9531516194343567
          },
          {
           "lower": 0.15964649021625518,
           "timepoint": 22.99599266052246,
           "trajectory": "Wolves",
           "upper": 0.9758219718933105
          },
          {
           "lower": 0.1633138231933117,
           "timepoint": 23.094188690185547,
           "trajectory": "Wolves",
           "upper": 0.9886273086071015
          },
          {
           "lower": 0.16777151376008986,
           "timepoint": 23.192384719848633,
           "trajectory": "Wolves",
           "upper": 0.9938872128725051
          },
          {
           "lower": 0.17308537811040878,
           "timepoint": 23.29058074951172,
           "trajectory": "Wolves",
           "upper": 0.998961278796196
          },
          {
           "lower": 0.17941494137048722,
           "timepoint": 23.388778686523438,
           "trajectory": "Wolves",
           "upper": 0.9986775547266007
          },
          {
           "lower": 0.18687143698334693,
           "timepoint": 23.486974716186523,
           "trajectory": "Wolves",
           "upper": 0.9936696499586105
          },
          {
           "lower": 0.19558281004428862,
           "timepoint": 23.58517074584961,
           "trajectory": "Wolves",
           "upper": 0.9958069503307342
          },
          {
           "lower": 0.2056956894695759,
           "timepoint": 23.683366775512695,
           "trajectory": "Wolves",
           "upper": 0.9991126477718353
          },
          {
           "lower": 0.21737605109810829,
           "timepoint": 23.78156280517578,
           "trajectory": "Wolves",
           "upper": 0.9998131990432739
          },
          {
           "lower": 0.23081071451306343,
           "timepoint": 23.8797607421875,
           "trajectory": "Wolves",
           "upper": 1.0008575558662414
          },
          {
           "lower": 0.24620597064495087,
           "timepoint": 23.977956771850586,
           "trajectory": "Wolves",
           "upper": 1.0023418217897415
          },
          {
           "lower": 0.2637864500284195,
           "timepoint": 24.076152801513672,
           "trajectory": "Wolves",
           "upper": 1.0047442853450774
          },
          {
           "lower": 0.2813341706991196,
           "timepoint": 24.174348831176758,
           "trajectory": "Wolves",
           "upper": 1.0071383357048034
          },
          {
           "lower": 0.300195649266243,
           "timepoint": 24.272544860839844,
           "trajectory": "Wolves",
           "upper": 1.0098597288131714
          },
          {
           "lower": 0.3214712753891945,
           "timepoint": 24.370742797851562,
           "trajectory": "Wolves",
           "upper": 1.0062338650226592
          },
          {
           "lower": 0.34536351412534716,
           "timepoint": 24.46893882751465,
           "trajectory": "Wolves",
           "upper": 1.0044687688350677
          },
          {
           "lower": 0.367728054523468,
           "timepoint": 24.567134857177734,
           "trajectory": "Wolves",
           "upper": 1.0002803087234498
          },
          {
           "lower": 0.38795277923345567,
           "timepoint": 24.66533088684082,
           "trajectory": "Wolves",
           "upper": 0.9997890084981919
          },
          {
           "lower": 0.37223185151815413,
           "timepoint": 24.763526916503906,
           "trajectory": "Wolves",
           "upper": 1.0002581000328064
          },
          {
           "lower": 0.35696167796850203,
           "timepoint": 24.861724853515625,
           "trajectory": "Wolves",
           "upper": 0.9956646740436554
          },
          {
           "lower": 0.3499200239777565,
           "timepoint": 24.95992088317871,
           "trajectory": "Wolves",
           "upper": 0.9856657922267914
          },
          {
           "lower": 0.3383984312415123,
           "timepoint": 25.058116912841797,
           "trajectory": "Wolves",
           "upper": 0.97026427090168
          },
          {
           "lower": 0.3279294118285179,
           "timepoint": 25.156312942504883,
           "trajectory": "Wolves",
           "upper": 0.9504680514335632
          },
          {
           "lower": 0.3184893622994423,
           "timepoint": 25.25450897216797,
           "trajectory": "Wolves",
           "upper": 0.9639508128166199
          },
          {
           "lower": 0.3100573495030403,
           "timepoint": 25.352705001831055,
           "trajectory": "Wolves",
           "upper": 0.9828543901443482
          },
          {
           "lower": 0.30261566340923307,
           "timepoint": 25.450902938842773,
           "trajectory": "Wolves",
           "upper": 0.9932814210653305
          },
          {
           "lower": 0.2958703711628914,
           "timepoint": 25.549097061157227,
           "trajectory": "Wolves",
           "upper": 1.0015631079673768
          },
          {
           "lower": 0.290073935687542,
           "timepoint": 25.647294998168945,
           "trajectory": "Wolves",
           "upper": 1.00171440243721
          },
          {
           "lower": 0.2852397307753563,
           "timepoint": 25.74549102783203,
           "trajectory": "Wolves",
           "upper": 0.9975081235170364
          },
          {
           "lower": 0.28125953674316406,
           "timepoint": 25.843687057495117,
           "trajectory": "Wolves",
           "upper": 0.9917439252138137
          },
          {
           "lower": 0.2763360753655434,
           "timepoint": 25.941883087158203,
           "trajectory": "Wolves",
           "upper": 0.9886632561683655
          },
          {
           "lower": 0.27026546001434326,
           "timepoint": 26.04007911682129,
           "trajectory": "Wolves",
           "upper": 0.992416152358055
          },
          {
           "lower": 0.2641956403851509,
           "timepoint": 26.138275146484375,
           "trajectory": "Wolves",
           "upper": 0.9974153727293015
          },
          {
           "lower": 0.25686232149600985,
           "timepoint": 26.236473083496094,
           "trajectory": "Wolves",
           "upper": 0.9975637286901474
          },
          {
           "lower": 0.2524468004703522,
           "timepoint": 26.33466911315918,
           "trajectory": "Wolves",
           "upper": 0.9941886335611343
          },
          {
           "lower": 0.250233206897974,
           "timepoint": 26.432865142822266,
           "trajectory": "Wolves",
           "upper": 0.9922847658395767
          },
          {
           "lower": 0.24744433909654617,
           "timepoint": 26.53106117248535,
           "trajectory": "Wolves",
           "upper": 0.9774287074804305
          },
          {
           "lower": 0.24069003984332085,
           "timepoint": 26.629257202148438,
           "trajectory": "Wolves",
           "upper": 0.9576320976018905
          },
          {
           "lower": 0.23299262896180153,
           "timepoint": 26.727455139160156,
           "trajectory": "Wolves",
           "upper": 0.9337229430675507
          },
          {
           "lower": 0.22615034729242325,
           "timepoint": 26.825651168823242,
           "trajectory": "Wolves",
           "upper": 0.9065086483955382
          },
          {
           "lower": 0.22014274969696998,
           "timepoint": 26.923847198486328,
           "trajectory": "Wolves",
           "upper": 0.8767463326454162
          },
          {
           "lower": 0.21495493426918982,
           "timepoint": 27.022043228149414,
           "trajectory": "Wolves",
           "upper": 0.8451279789209365
          },
          {
           "lower": 0.21040329113602638,
           "timepoint": 27.1202392578125,
           "trajectory": "Wolves",
           "upper": 0.8122650057077407
          },
          {
           "lower": 0.20782150849699974,
           "timepoint": 27.21843719482422,
           "trajectory": "Wolves",
           "upper": 0.7786888509988784
          },
          {
           "lower": 0.20393504947423935,
           "timepoint": 27.316633224487305,
           "trajectory": "Wolves",
           "upper": 0.7448512762784957
          },
          {
           "lower": 0.1997904509305954,
           "timepoint": 27.41482925415039,
           "trajectory": "Wolves",
           "upper": 0.711536556482315
          },
          {
           "lower": 0.19380126595497132,
           "timepoint": 27.513025283813477,
           "trajectory": "Wolves",
           "upper": 0.6800334751605986
          },
          {
           "lower": 0.18869468942284584,
           "timepoint": 27.611221313476562,
           "trajectory": "Wolves",
           "upper": 0.6491338193416595
          },
          {
           "lower": 0.1845427230000496,
           "timepoint": 27.70941925048828,
           "trajectory": "Wolves",
           "upper": 0.6190116941928863
          },
          {
           "lower": 0.18000969290733337,
           "timepoint": 27.807615280151367,
           "trajectory": "Wolves",
           "upper": 0.5898068785667419
          },
          {
           "lower": 0.17606869861483573,
           "timepoint": 27.905811309814453,
           "trajectory": "Wolves",
           "upper": 0.5842533469200134
          },
          {
           "lower": 0.17280452623963355,
           "timepoint": 28.00400733947754,
           "trajectory": "Wolves",
           "upper": 0.6242456018924712
          },
          {
           "lower": 0.17038027569651604,
           "timepoint": 28.102203369140625,
           "trajectory": "Wolves",
           "upper": 0.6405353367328643
          },
          {
           "lower": 0.17137352749705315,
           "timepoint": 28.200401306152344,
           "trajectory": "Wolves",
           "upper": 0.6109578549861907
          },
          {
           "lower": 0.17117936834692954,
           "timepoint": 28.29859733581543,
           "trajectory": "Wolves",
           "upper": 0.5901211947202682
          },
          {
           "lower": 0.16935733556747437,
           "timepoint": 28.396793365478516,
           "trajectory": "Wolves",
           "upper": 0.602705419063568
          },
          {
           "lower": 0.16538334637880325,
           "timepoint": 28.4949893951416,
           "trajectory": "Wolves",
           "upper": 0.6432965725660322
          },
          {
           "lower": 0.16492010951042174,
           "timepoint": 28.593185424804688,
           "trajectory": "Wolves",
           "upper": 0.6852882236242293
          },
          {
           "lower": 0.16513916999101638,
           "timepoint": 28.691381454467773,
           "trajectory": "Wolves",
           "upper": 0.7279811799526212
          },
          {
           "lower": 0.16611068099737167,
           "timepoint": 28.789579391479492,
           "trajectory": "Wolves",
           "upper": 0.770535635948181
          },
          {
           "lower": 0.16611216142773627,
           "timepoint": 28.887775421142578,
           "trajectory": "Wolves",
           "upper": 0.8120082557201383
          },
          {
           "lower": 0.16527557000517845,
           "timepoint": 28.985971450805664,
           "trajectory": "Wolves",
           "upper": 0.8513918578624724
          },
          {
           "lower": 0.16442229971289635,
           "timepoint": 29.08416748046875,
           "trajectory": "Wolves",
           "upper": 0.887682408094406
          },
          {
           "lower": 0.16423994824290275,
           "timepoint": 29.182363510131836,
           "trajectory": "Wolves",
           "upper": 0.9199351370334624
          },
          {
           "lower": 0.16475595831871032,
           "timepoint": 29.280561447143555,
           "trajectory": "Wolves",
           "upper": 0.947332864999771
          },
          {
           "lower": 0.16838487461209298,
           "timepoint": 29.37875747680664,
           "trajectory": "Wolves",
           "upper": 0.9692333668470382
          },
          {
           "lower": 0.17303766161203385,
           "timepoint": 29.476953506469727,
           "trajectory": "Wolves",
           "upper": 0.9841682225465774
          },
          {
           "lower": 0.1767550677061081,
           "timepoint": 29.575149536132812,
           "trajectory": "Wolves",
           "upper": 0.9848017454147339
          },
          {
           "lower": 0.1763964533805847,
           "timepoint": 29.6733455657959,
           "trajectory": "Wolves",
           "upper": 0.9717929661273956
          },
          {
           "lower": 0.17324413508176803,
           "timepoint": 29.771543502807617,
           "trajectory": "Wolves",
           "upper": 0.9724552452564238
          },
          {
           "lower": 0.1732856586575508,
           "timepoint": 29.869739532470703,
           "trajectory": "Wolves",
           "upper": 0.9535309344530104
          },
          {
           "lower": 0.1748480811715126,
           "timepoint": 29.96793556213379,
           "trajectory": "Wolves",
           "upper": 0.9326310396194456
          },
          {
           "lower": 0.1762670285999775,
           "timepoint": 30.066131591796875,
           "trajectory": "Wolves",
           "upper": 0.9295841276645659
          },
          {
           "lower": 0.1725742846727371,
           "timepoint": 30.16432762145996,
           "trajectory": "Wolves",
           "upper": 0.93381769657135
          },
          {
           "lower": 0.16734498590230942,
           "timepoint": 30.26252555847168,
           "trajectory": "Wolves",
           "upper": 0.9433647364377975
          },
          {
           "lower": 0.16266994401812554,
           "timepoint": 30.360721588134766,
           "trajectory": "Wolves",
           "upper": 0.9434632927179335
          },
          {
           "lower": 0.16204190626740456,
           "timepoint": 30.45891761779785,
           "trajectory": "Wolves",
           "upper": 0.929745441675186
          },
          {
           "lower": 0.16401308104395868,
           "timepoint": 30.557113647460938,
           "trajectory": "Wolves",
           "upper": 0.9312633752822875
          },
          {
           "lower": 0.1610918827354908,
           "timepoint": 30.655309677124023,
           "trajectory": "Wolves",
           "upper": 0.9575984060764312
          },
          {
           "lower": 0.1595179870724678,
           "timepoint": 30.75350570678711,
           "trajectory": "Wolves",
           "upper": 0.9786773830652237
          },
          {
           "lower": 0.15940841659903526,
           "timepoint": 30.851703643798828,
           "trajectory": "Wolves",
           "upper": 0.9792006373405456
          },
          {
           "lower": 0.15988668873906137,
           "timepoint": 30.949899673461914,
           "trajectory": "Wolves",
           "upper": 0.9875351130962372
          },
          {
           "lower": 0.16055451333522797,
           "timepoint": 31.048095703125,
           "trajectory": "Wolves",
           "upper": 0.9977742075920105
          },
          {
           "lower": 0.15932910442352294,
           "timepoint": 31.146291732788086,
           "trajectory": "Wolves",
           "upper": 0.9986422032117843
          },
          {
           "lower": 0.15757134035229683,
           "timepoint": 31.244487762451172,
           "trajectory": "Wolves",
           "upper": 0.989025405049324
          },
          {
           "lower": 0.15634625032544136,
           "timepoint": 31.34268569946289,
           "trajectory": "Wolves",
           "upper": 0.9840576946735382
          },
          {
           "lower": 0.15566499382257462,
           "timepoint": 31.440881729125977,
           "trajectory": "Wolves",
           "upper": 0.9887935400009156
          },
          {
           "lower": 0.15536050274968147,
           "timepoint": 31.539077758789062,
           "trajectory": "Wolves",
           "upper": 0.9944401711225509
          },
          {
           "lower": 0.15766284391283988,
           "timepoint": 31.63727378845215,
           "trajectory": "Wolves",
           "upper": 0.9981949865818024
          },
          {
           "lower": 0.16062793880701065,
           "timepoint": 31.735469818115234,
           "trajectory": "Wolves",
           "upper": 0.9991020292043686
          },
          {
           "lower": 0.16433920487761497,
           "timepoint": 31.833667755126953,
           "trajectory": "Wolves",
           "upper": 1.0005050778388977
          },
          {
           "lower": 0.1689063861966133,
           "timepoint": 31.93186378479004,
           "trajectory": "Wolves",
           "upper": 0.9980441331863403
          },
          {
           "lower": 0.1744140401482582,
           "timepoint": 32.030059814453125,
           "trajectory": "Wolves",
           "upper": 1.002093893289566
          },
          {
           "lower": 0.180960863083601,
           "timepoint": 32.128257751464844,
           "trajectory": "Wolves",
           "upper": 1.0046568274497987
          },
          {
           "lower": 0.18866176828742026,
           "timepoint": 32.2264518737793,
           "trajectory": "Wolves",
           "upper": 1.0050383269786836
          },
          {
           "lower": 0.19764822348952293,
           "timepoint": 32.324649810791016,
           "trajectory": "Wolves",
           "upper": 1.0042850017547607
          },
          {
           "lower": 0.2080702915787697,
           "timepoint": 32.42284393310547,
           "trajectory": "Wolves",
           "upper": 1.0060572564601897
          },
          {
           "lower": 0.22009876295924188,
           "timepoint": 32.52104187011719,
           "trajectory": "Wolves",
           "upper": 1.0043819844722748
          },
          {
           "lower": 0.23392256274819376,
           "timepoint": 32.619239807128906,
           "trajectory": "Wolves",
           "upper": 1.0045744061470032
          },
          {
           "lower": 0.24646704196929933,
           "timepoint": 32.71743392944336,
           "trajectory": "Wolves",
           "upper": 0.999964925646782
          },
          {
           "lower": 0.258404316008091,
           "timepoint": 32.81563186645508,
           "trajectory": "Wolves",
           "upper": 0.9990847498178482
          },
          {
           "lower": 0.2694392278790474,
           "timepoint": 32.91382598876953,
           "trajectory": "Wolves",
           "upper": 0.9982341974973679
          },
          {
           "lower": 0.2790683969855309,
           "timepoint": 33.01202392578125,
           "trajectory": "Wolves",
           "upper": 0.9961802691221237
          },
          {
           "lower": 0.271256597340107,
           "timepoint": 33.11022186279297,
           "trajectory": "Wolves",
           "upper": 0.9862695634365081
          },
          {
           "lower": 0.2650373473763466,
           "timepoint": 33.20841598510742,
           "trajectory": "Wolves",
           "upper": 0.9797636747360229
          },
          {
           "lower": 0.2695761099457741,
           "timepoint": 33.306610107421875,
           "trajectory": "Wolves",
           "upper": 0.9708830118179321
          },
          {
           "lower": 0.27450200766324995,
           "timepoint": 33.404808044433594,
           "trajectory": "Wolves",
           "upper": 0.9488632947206497
          },
          {
           "lower": 0.2709284335374832,
           "timepoint": 33.50300598144531,
           "trajectory": "Wolves",
           "upper": 0.9224707871675492
          },
          {
           "lower": 0.2682962015271187,
           "timepoint": 33.60120391845703,
           "trajectory": "Wolves",
           "upper": 0.915161994099617
          },
          {
           "lower": 0.2666212901473045,
           "timepoint": 33.699398040771484,
           "trajectory": "Wolves",
           "upper": 0.9424799859523774
          },
          {
           "lower": 0.26394947469234464,
           "timepoint": 33.79759216308594,
           "trajectory": "Wolves",
           "upper": 0.9665680795907974
          },
          {
           "lower": 0.266243776679039,
           "timepoint": 33.895790100097656,
           "trajectory": "Wolves",
           "upper": 0.9792508184909821
          },
          {
           "lower": 0.2637952476739883,
           "timepoint": 33.993988037109375,
           "trajectory": "Wolves",
           "upper": 0.9932046800851821
          },
          {
           "lower": 0.25837850794196127,
           "timepoint": 34.092185974121094,
           "trajectory": "Wolves",
           "upper": 1.0007458627223969
          },
          {
           "lower": 0.25344827473163606,
           "timepoint": 34.19038009643555,
           "trajectory": "Wolves",
           "upper": 1.0012211203575134
          },
          {
           "lower": 0.24386561065912246,
           "timepoint": 34.288578033447266,
           "trajectory": "Wolves",
           "upper": 0.995558163523674
          },
          {
           "lower": 0.23652473539114,
           "timepoint": 34.38677215576172,
           "trajectory": "Wolves",
           "upper": 0.9877487063407898
          },
          {
           "lower": 0.23099110648036003,
           "timepoint": 34.48497009277344,
           "trajectory": "Wolves",
           "upper": 0.9768257975578308
          },
          {
           "lower": 0.22627165019512177,
           "timepoint": 34.583168029785156,
           "trajectory": "Wolves",
           "upper": 0.9792587578296661
          },
          {
           "lower": 0.22236145287752151,
           "timepoint": 34.68136215209961,
           "trajectory": "Wolves",
           "upper": 0.986902728676796
          },
          {
           "lower": 0.2194741278886795,
           "timepoint": 34.77956008911133,
           "trajectory": "Wolves",
           "upper": 0.98967787027359
          },
          {
           "lower": 0.21946358680725098,
           "timepoint": 34.87775421142578,
           "trajectory": "Wolves",
           "upper": 0.9947674691677093
          },
          {
           "lower": 0.21704072132706642,
           "timepoint": 34.9759521484375,
           "trajectory": "Wolves",
           "upper": 0.9874040722846985
          },
          {
           "lower": 0.21221753284335138,
           "timepoint": 35.07415008544922,
           "trajectory": "Wolves",
           "upper": 0.9867628872394562
          },
          {
           "lower": 0.2088850162923336,
           "timepoint": 35.17234420776367,
           "trajectory": "Wolves",
           "upper": 0.9872895181179047
          },
          {
           "lower": 0.2051271066069603,
           "timepoint": 35.27054214477539,
           "trajectory": "Wolves",
           "upper": 0.9737116515636444
          },
          {
           "lower": 0.19921137690544127,
           "timepoint": 35.368736267089844,
           "trajectory": "Wolves",
           "upper": 0.9534397929906844
          },
          {
           "lower": 0.19328893572092057,
           "timepoint": 35.46693420410156,
           "trajectory": "Wolves",
           "upper": 0.9291817784309386
          },
          {
           "lower": 0.1880706124007702,
           "timepoint": 35.56513214111328,
           "trajectory": "Wolves",
           "upper": 0.9017300635576246
          },
          {
           "lower": 0.18374776765704154,
           "timepoint": 35.663326263427734,
           "trajectory": "Wolves",
           "upper": 0.8718287050724028
          },
          {
           "lower": 0.18044356778264045,
           "timepoint": 35.76152038574219,
           "trajectory": "Wolves",
           "upper": 0.8401537984609603
          },
          {
           "lower": 0.17781589925289154,
           "timepoint": 35.859718322753906,
           "trajectory": "Wolves",
           "upper": 0.838287615776062
          },
          {
           "lower": 0.17685115560889245,
           "timepoint": 35.957916259765625,
           "trajectory": "Wolves",
           "upper": 0.8782581955194473
          },
          {
           "lower": 0.17651358023285865,
           "timepoint": 36.056114196777344,
           "trajectory": "Wolves",
           "upper": 0.9031823456287383
          },
          {
           "lower": 0.17541647106409072,
           "timepoint": 36.1543083190918,
           "trajectory": "Wolves",
           "upper": 0.8767389118671417
          },
          {
           "lower": 0.17425118684768676,
           "timepoint": 36.25250244140625,
           "trajectory": "Wolves",
           "upper": 0.8459935784339905
          },
          {
           "lower": 0.17419764325022696,
           "timepoint": 36.35070037841797,
           "trajectory": "Wolves",
           "upper": 0.8399101436138152
          },
          {
           "lower": 0.17339342311024666,
           "timepoint": 36.44889831542969,
           "trajectory": "Wolves",
           "upper": 0.867813330888748
          },
          {
           "lower": 0.17133173942565919,
           "timepoint": 36.547096252441406,
           "trajectory": "Wolves",
           "upper": 0.9023440331220626
          },
          {
           "lower": 0.17077715024352075,
           "timepoint": 36.64529037475586,
           "trajectory": "Wolves",
           "upper": 0.9324636578559874
          },
          {
           "lower": 0.1690235637128353,
           "timepoint": 36.74348449707031,
           "trajectory": "Wolves",
           "upper": 0.9574289798736572
          },
          {
           "lower": 0.16846948787569999,
           "timepoint": 36.84168243408203,
           "trajectory": "Wolves",
           "upper": 0.9766945660114288
          },
          {
           "lower": 0.16690961197018622,
           "timepoint": 36.93988037109375,
           "trajectory": "Wolves",
           "upper": 0.9784235924482345
          },
          {
           "lower": 0.1658799521625042,
           "timepoint": 37.0380744934082,
           "trajectory": "Wolves",
           "upper": 0.9686709612607955
          },
          {
           "lower": 0.16550885662436485,
           "timepoint": 37.13627243041992,
           "trajectory": "Wolves",
           "upper": 0.9483280420303345
          },
          {
           "lower": 0.16554983854293823,
           "timepoint": 37.234466552734375,
           "trajectory": "Wolves",
           "upper": 0.9513815075159071
          },
          {
           "lower": 0.16551879644393921,
           "timepoint": 37.332664489746094,
           "trajectory": "Wolves",
           "upper": 0.938515371084213
          },
          {
           "lower": 0.1666104257106781,
           "timepoint": 37.43086242675781,
           "trajectory": "Wolves",
           "upper": 0.9142257273197172
          },
          {
           "lower": 0.16982588320970535,
           "timepoint": 37.529056549072266,
           "trajectory": "Wolves",
           "upper": 0.8906619012355802
          },
          {
           "lower": 0.17467070892453193,
           "timepoint": 37.627254486083984,
           "trajectory": "Wolves",
           "upper": 0.8956397712230681
          },
          {
           "lower": 0.17906989976763726,
           "timepoint": 37.72544860839844,
           "trajectory": "Wolves",
           "upper": 0.9054218500852584
          },
          {
           "lower": 0.18450178802013398,
           "timepoint": 37.823646545410156,
           "trajectory": "Wolves",
           "upper": 0.9133259296417235
          },
          {
           "lower": 0.18393647372722627,
           "timepoint": 37.921844482421875,
           "trajectory": "Wolves",
           "upper": 0.9148140907287595
          },
          {
           "lower": 0.17978139147162436,
           "timepoint": 38.02003860473633,
           "trajectory": "Wolves",
           "upper": 0.9014464795589444
          },
          {
           "lower": 0.17623483017086983,
           "timepoint": 38.11823654174805,
           "trajectory": "Wolves",
           "upper": 0.9042280673980712
          },
          {
           "lower": 0.17535646259784698,
           "timepoint": 38.2164306640625,
           "trajectory": "Wolves",
           "upper": 0.9070893198251723
          },
          {
           "lower": 0.17748943343758583,
           "timepoint": 38.31462860107422,
           "trajectory": "Wolves",
           "upper": 0.9348081707954405
          },
          {
           "lower": 0.1802469238638878,
           "timepoint": 38.41282653808594,
           "trajectory": "Wolves",
           "upper": 0.9610650300979613
          },
          {
           "lower": 0.18075069710612296,
           "timepoint": 38.51102066040039,
           "trajectory": "Wolves",
           "upper": 0.9667689472436904
          },
          {
           "lower": 0.17994418293237685,
           "timepoint": 38.60921859741211,
           "trajectory": "Wolves",
           "upper": 0.9735250145196914
          },
          {
           "lower": 0.17771267220377923,
           "timepoint": 38.70741271972656,
           "trajectory": "Wolves",
           "upper": 0.9830871045589447
          },
          {
           "lower": 0.17378287985920907,
           "timepoint": 38.80561065673828,
           "trajectory": "Wolves",
           "upper": 0.9956873834133149
          },
          {
           "lower": 0.17184447944164277,
           "timepoint": 38.90380859375,
           "trajectory": "Wolves",
           "upper": 0.9964617758989334
          },
          {
           "lower": 0.16898305863142013,
           "timepoint": 39.00200271606445,
           "trajectory": "Wolves",
           "upper": 0.9863021343946456
          },
          {
           "lower": 0.16669340208172798,
           "timepoint": 39.10020065307617,
           "trajectory": "Wolves",
           "upper": 0.9826664566993714
          },
          {
           "lower": 0.16497921720147132,
           "timepoint": 39.198394775390625,
           "trajectory": "Wolves",
           "upper": 0.9727314472198486
          },
          {
           "lower": 0.16416606903076172,
           "timepoint": 39.296592712402344,
           "trajectory": "Wolves",
           "upper": 0.9792365282773972
          },
          {
           "lower": 0.1638589732348919,
           "timepoint": 39.39479064941406,
           "trajectory": "Wolves",
           "upper": 0.9855025500059127
          },
          {
           "lower": 0.1642313100397587,
           "timepoint": 39.492984771728516,
           "trajectory": "Wolves",
           "upper": 0.9948146313428878
          },
          {
           "lower": 0.16483238935470582,
           "timepoint": 39.591182708740234,
           "trajectory": "Wolves",
           "upper": 0.9963617712259293
          },
          {
           "lower": 0.16590516418218612,
           "timepoint": 39.68937683105469,
           "trajectory": "Wolves",
           "upper": 0.9987373322248458
          },
          {
           "lower": 0.1629737839102745,
           "timepoint": 39.787574768066406,
           "trajectory": "Wolves",
           "upper": 1.00008482336998
          },
          {
           "lower": 0.1604690246284008,
           "timepoint": 39.885772705078125,
           "trajectory": "Wolves",
           "upper": 0.9975865095853805
          },
          {
           "lower": 0.1584906168282032,
           "timepoint": 39.98396682739258,
           "trajectory": "Wolves",
           "upper": 0.9969373792409897
          },
          {
           "lower": 0.1570437505841255,
           "timepoint": 40.0821647644043,
           "trajectory": "Wolves",
           "upper": 1.0013433933258056
          },
          {
           "lower": 0.15613754987716674,
           "timepoint": 40.18035888671875,
           "trajectory": "Wolves",
           "upper": 1.004535299539566
          },
          {
           "lower": 0.15617748349905014,
           "timepoint": 40.27855682373047,
           "trajectory": "Wolves",
           "upper": 1.0031640112400055
          },
          {
           "lower": 0.15852109864354133,
           "timepoint": 40.37675476074219,
           "trajectory": "Wolves",
           "upper": 1.00209139585495
          },
          {
           "lower": 0.16160307601094245,
           "timepoint": 40.47494888305664,
           "trajectory": "Wolves",
           "upper": 1.0031655102968215
          },
          {
           "lower": 0.16548710390925409,
           "timepoint": 40.57314682006836,
           "trajectory": "Wolves",
           "upper": 1.000268706679344
          },
          {
           "lower": 0.17024710550904273,
           "timepoint": 40.67134094238281,
           "trajectory": "Wolves",
           "upper": 1.0053135573863983
          },
          {
           "lower": 0.17597175016999245,
           "timepoint": 40.76953887939453,
           "trajectory": "Wolves",
           "upper": 1.0042481005191803
          },
          {
           "lower": 0.18276265785098075,
           "timepoint": 40.86773681640625,
           "trajectory": "Wolves",
           "upper": 1.0015988886356353
          },
          {
           "lower": 0.19073781594634057,
           "timepoint": 40.9659309387207,
           "trajectory": "Wolves",
           "upper": 0.9987025201320648
          },
          {
           "lower": 0.20003380924463274,
           "timepoint": 41.06412887573242,
           "trajectory": "Wolves",
           "upper": 0.9941364258527756
          },
          {
           "lower": 0.20846241042017938,
           "timepoint": 41.162322998046875,
           "trajectory": "Wolves",
           "upper": 0.9933387547731399
          },
          {
           "lower": 0.21300329491496087,
           "timepoint": 41.260520935058594,
           "trajectory": "Wolves",
           "upper": 0.9923468470573424
          },
          {
           "lower": 0.22190933227539061,
           "timepoint": 41.35871887207031,
           "trajectory": "Wolves",
           "upper": 0.9829826682806014
          },
          {
           "lower": 0.23667190596461296,
           "timepoint": 41.456912994384766,
           "trajectory": "Wolves",
           "upper": 0.967493814229965
          },
          {
           "lower": 0.24873205795884132,
           "timepoint": 41.555110931396484,
           "trajectory": "Wolves",
           "upper": 0.9696071535348892
          },
          {
           "lower": 0.252624849230051,
           "timepoint": 41.65330505371094,
           "trajectory": "Wolves",
           "upper": 0.9495100855827331
          },
          {
           "lower": 0.24948872104287148,
           "timepoint": 41.751502990722656,
           "trajectory": "Wolves",
           "upper": 0.9230954587459564
          },
          {
           "lower": 0.24057377353310586,
           "timepoint": 41.849700927734375,
           "trajectory": "Wolves",
           "upper": 0.8931585371494293
          },
          {
           "lower": 0.23964940011501312,
           "timepoint": 41.94789505004883,
           "trajectory": "Wolves",
           "upper": 0.8765404343605041
          },
          {
           "lower": 0.24154147878289223,
           "timepoint": 42.04609298706055,
           "trajectory": "Wolves",
           "upper": 0.8842344284057617
          },
          {
           "lower": 0.23490473479032517,
           "timepoint": 42.144287109375,
           "trajectory": "Wolves",
           "upper": 0.9177514046430587
          },
          {
           "lower": 0.22757762968540193,
           "timepoint": 42.24248504638672,
           "trajectory": "Wolves",
           "upper": 0.9464763581752776
          },
          {
           "lower": 0.2235584504902363,
           "timepoint": 42.34068298339844,
           "trajectory": "Wolves",
           "upper": 0.9540556102991103
          },
          {
           "lower": 0.22396748512983322,
           "timepoint": 42.43887710571289,
           "trajectory": "Wolves",
           "upper": 0.9755993127822875
          },
          {
           "lower": 0.22564252614974975,
           "timepoint": 42.53707504272461,
           "trajectory": "Wolves",
           "upper": 0.9908364653587342
          },
          {
           "lower": 0.22745415866374968,
           "timepoint": 42.63526916503906,
           "trajectory": "Wolves",
           "upper": 0.9996582806110382
          },
          {
           "lower": 0.22303478196263313,
           "timepoint": 42.73346710205078,
           "trajectory": "Wolves",
           "upper": 0.9967845916748046
          },
          {
           "lower": 0.21770877838134767,
           "timepoint": 42.8316650390625,
           "trajectory": "Wolves",
           "upper": 0.9930602729320526
          },
          {
           "lower": 0.21676131710410118,
           "timepoint": 42.92985916137695,
           "trajectory": "Wolves",
           "upper": 0.9873218834400177
          },
          {
           "lower": 0.2125228926539421,
           "timepoint": 43.02805709838867,
           "trajectory": "Wolves",
           "upper": 0.9763293206691742
          },
          {
           "lower": 0.20825617164373397,
           "timepoint": 43.126251220703125,
           "trajectory": "Wolves",
           "upper": 0.9599705278873444
          },
          {
           "lower": 0.20480770468711854,
           "timepoint": 43.224449157714844,
           "trajectory": "Wolves",
           "upper": 0.9704875797033309
          },
          {
           "lower": 0.19864267855882645,
           "timepoint": 43.32264709472656,
           "trajectory": "Wolves",
           "upper": 0.9803441017866135
          },
          {
           "lower": 0.19278619289398194,
           "timepoint": 43.420841217041016,
           "trajectory": "Wolves",
           "upper": 0.9819544672966002
          },
          {
           "lower": 0.18763251826167107,
           "timepoint": 43.519039154052734,
           "trajectory": "Wolves",
           "upper": 0.9851570159196853
          },
          {
           "lower": 0.18316455334424972,
           "timepoint": 43.61723327636719,
           "trajectory": "Wolves",
           "upper": 0.9856617510318756
          },
          {
           "lower": 0.17988908290863037,
           "timepoint": 43.715431213378906,
           "trajectory": "Wolves",
           "upper": 0.9911581814289092
          },
          {
           "lower": 0.17933618202805518,
           "timepoint": 43.813629150390625,
           "trajectory": "Wolves",
           "upper": 0.9942106962203979
          },
          {
           "lower": 0.18049367815256118,
           "timepoint": 43.91182327270508,
           "trajectory": "Wolves",
           "upper": 0.999222519993782
          },
          {
           "lower": 0.18218330666422844,
           "timepoint": 44.0100212097168,
           "trajectory": "Wolves",
           "upper": 0.9999788880348205
          },
          {
           "lower": 0.17931619584560393,
           "timepoint": 44.10821533203125,
           "trajectory": "Wolves",
           "upper": 1.0049906104803086
          },
          {
           "lower": 0.17619916945695877,
           "timepoint": 44.20641326904297,
           "trajectory": "Wolves",
           "upper": 1.0021923750638961
          },
          {
           "lower": 0.17557455822825432,
           "timepoint": 44.30461120605469,
           "trajectory": "Wolves",
           "upper": 0.9986036211252213
          },
          {
           "lower": 0.1763834498822689,
           "timepoint": 44.40280532836914,
           "trajectory": "Wolves",
           "upper": 0.9899148404598236
          },
          {
           "lower": 0.1755789965391159,
           "timepoint": 44.50100326538086,
           "trajectory": "Wolves",
           "upper": 0.9872723191976547
          },
          {
           "lower": 0.1731801487505436,
           "timepoint": 44.59919738769531,
           "trajectory": "Wolves",
           "upper": 0.9692124962806701
          },
          {
           "lower": 0.17481856048107147,
           "timepoint": 44.69739532470703,
           "trajectory": "Wolves",
           "upper": 0.9520798653364181
          },
          {
           "lower": 0.1763616219162941,
           "timepoint": 44.795589447021484,
           "trajectory": "Wolves",
           "upper": 0.950083702802658
          },
          {
           "lower": 0.17467631101608277,
           "timepoint": 44.8937873840332,
           "trajectory": "Wolves",
           "upper": 0.9260579675436019
          },
          {
           "lower": 0.17083724737167358,
           "timepoint": 44.99198532104492,
           "trajectory": "Wolves",
           "upper": 0.8992494136095046
          },
          {
           "lower": 0.1666094593703747,
           "timepoint": 45.090179443359375,
           "trajectory": "Wolves",
           "upper": 0.8703008115291594
          },
          {
           "lower": 0.1656822994351387,
           "timepoint": 45.188377380371094,
           "trajectory": "Wolves",
           "upper": 0.8571781814098357
          },
          {
           "lower": 0.1654304549098015,
           "timepoint": 45.28657150268555,
           "trajectory": "Wolves",
           "upper": 0.8730472445487976
          },
          {
           "lower": 0.1663128986954689,
           "timepoint": 45.384769439697266,
           "trajectory": "Wolves",
           "upper": 0.8788756728172301
          },
          {
           "lower": 0.16778351962566376,
           "timepoint": 45.482967376708984,
           "trajectory": "Wolves",
           "upper": 0.8818724185228345
          },
          {
           "lower": 0.1688595473766327,
           "timepoint": 45.58116149902344,
           "trajectory": "Wolves",
           "upper": 0.8816515505313869
          },
          {
           "lower": 0.17143086344003677,
           "timepoint": 45.679359436035156,
           "trajectory": "Wolves",
           "upper": 0.8742863327264783
          },
          {
           "lower": 0.1752846710383892,
           "timepoint": 45.77755355834961,
           "trajectory": "Wolves",
           "upper": 0.8763623982667923
          },
          {
           "lower": 0.17985443621873856,
           "timepoint": 45.87575149536133,
           "trajectory": "Wolves",
           "upper": 0.8810112625360488
          },
          {
           "lower": 0.18417395576834678,
           "timepoint": 45.97394943237305,
           "trajectory": "Wolves",
           "upper": 0.9080043017864226
          },
          {
           "lower": 0.18885962814092636,
           "timepoint": 46.0721435546875,
           "trajectory": "Wolves",
           "upper": 0.9386744022369383
          },
          {
           "lower": 0.18875136002898216,
           "timepoint": 46.17034149169922,
           "trajectory": "Wolves",
           "upper": 0.951682311296463
          },
          {
           "lower": 0.1875740148127079,
           "timepoint": 46.26853561401367,
           "trajectory": "Wolves",
           "upper": 0.9526154279708862
          },
          {
           "lower": 0.18340350538492203,
           "timepoint": 46.36673355102539,
           "trajectory": "Wolves",
           "upper": 0.967214611172676
          },
          {
           "lower": 0.1797109790146351,
           "timepoint": 46.46493148803711,
           "trajectory": "Wolves",
           "upper": 0.9782778948545456
          },
          {
           "lower": 0.1780935861170292,
           "timepoint": 46.56312561035156,
           "trajectory": "Wolves",
           "upper": 0.9929623037576676
          },
          {
           "lower": 0.18051922917366028,
           "timepoint": 46.66132354736328,
           "trajectory": "Wolves",
           "upper": 0.9935926169157028
          },
          {
           "lower": 0.1835742212831974,
           "timepoint": 46.759517669677734,
           "trajectory": "Wolves",
           "upper": 0.982981064915657
          },
          {
           "lower": 0.18483320698142053,
           "timepoint": 46.85771560668945,
           "trajectory": "Wolves",
           "upper": 0.9751109391450882
          },
          {
           "lower": 0.18378577679395675,
           "timepoint": 46.95591354370117,
           "trajectory": "Wolves",
           "upper": 0.9734359979629517
          },
          {
           "lower": 0.18323469310998916,
           "timepoint": 47.054107666015625,
           "trajectory": "Wolves",
           "upper": 0.9589579313993454
          },
          {
           "lower": 0.18296254724264144,
           "timepoint": 47.152305603027344,
           "trajectory": "Wolves",
           "upper": 0.9672924876213074
          },
          {
           "lower": 0.18928456977009772,
           "timepoint": 47.2504997253418,
           "trajectory": "Wolves",
           "upper": 0.9726561933755874
          },
          {
           "lower": 0.1836253210902214,
           "timepoint": 47.348697662353516,
           "trajectory": "Wolves",
           "upper": 0.9888338655233383
          },
          {
           "lower": 0.17733232229948043,
           "timepoint": 47.44689178466797,
           "trajectory": "Wolves",
           "upper": 0.9925686925649643
          },
          {
           "lower": 0.1724783331155777,
           "timepoint": 47.54508972167969,
           "trajectory": "Wolves",
           "upper": 0.995303800702095
          },
          {
           "lower": 0.16982696056365967,
           "timepoint": 47.643287658691406,
           "trajectory": "Wolves",
           "upper": 0.9976611137390137
          },
          {
           "lower": 0.16763659566640854,
           "timepoint": 47.74148178100586,
           "trajectory": "Wolves",
           "upper": 0.9995992243289947
          },
          {
           "lower": 0.16603316590189934,
           "timepoint": 47.83967971801758,
           "trajectory": "Wolves",
           "upper": 0.9973608493804932
          },
          {
           "lower": 0.16775305867195128,
           "timepoint": 47.93787384033203,
           "trajectory": "Wolves",
           "upper": 0.9954323470592499
          },
          {
           "lower": 0.16995794773101808,
           "timepoint": 48.03607177734375,
           "trajectory": "Wolves",
           "upper": 0.9963240295648574
          },
          {
           "lower": 0.17077829837799072,
           "timepoint": 48.13426971435547,
           "trajectory": "Wolves",
           "upper": 1.0007076144218445
          },
          {
           "lower": 0.17158592715859414,
           "timepoint": 48.23246383666992,
           "trajectory": "Wolves",
           "upper": 1.0012928336858749
          },
          {
           "lower": 0.17150169163942336,
           "timepoint": 48.33066177368164,
           "trajectory": "Wolves",
           "upper": 0.9991271167993545
          },
          {
           "lower": 0.1677117846906185,
           "timepoint": 48.428855895996094,
           "trajectory": "Wolves",
           "upper": 1.0007474809885024
          },
          {
           "lower": 0.1644555762410164,
           "timepoint": 48.52705383300781,
           "trajectory": "Wolves",
           "upper": 1.0012450426816941
          },
          {
           "lower": 0.1617278590798378,
           "timepoint": 48.62525177001953,
           "trajectory": "Wolves",
           "upper": 0.9981553196907044
          },
          {
           "lower": 0.15952814891934394,
           "timepoint": 48.723445892333984,
           "trajectory": "Wolves",
           "upper": 1.0005579859018325
          },
          {
           "lower": 0.15785960704088212,
           "timepoint": 48.8216438293457,
           "trajectory": "Wolves",
           "upper": 1.0051156818866729
          },
          {
           "lower": 0.1567295730113983,
           "timepoint": 48.919837951660156,
           "trajectory": "Wolves",
           "upper": 1.003503081202507
          },
          {
           "lower": 0.15729982852935792,
           "timepoint": 49.018035888671875,
           "trajectory": "Wolves",
           "upper": 1.003023886680603
          },
          {
           "lower": 0.15950344130396843,
           "timepoint": 49.116233825683594,
           "trajectory": "Wolves",
           "upper": 0.9974136888980866
          },
          {
           "lower": 0.16275647804141044,
           "timepoint": 49.21442794799805,
           "trajectory": "Wolves",
           "upper": 0.9931495100259781
          },
          {
           "lower": 0.16683145835995675,
           "timepoint": 49.312625885009766,
           "trajectory": "Wolves",
           "upper": 0.9876937597990035
          },
          {
           "lower": 0.17180634289979935,
           "timepoint": 49.41082000732422,
           "trajectory": "Wolves",
           "upper": 0.9899403691291809
          },
          {
           "lower": 0.17777244374155998,
           "timepoint": 49.50901794433594,
           "trajectory": "Wolves",
           "upper": 0.9889350175857543
          },
          {
           "lower": 0.18516932129859925,
           "timepoint": 49.607215881347656,
           "trajectory": "Wolves",
           "upper": 0.9785982936620711
          },
          {
           "lower": 0.19280534088611603,
           "timepoint": 49.70541000366211,
           "trajectory": "Wolves",
           "upper": 0.961494669318199
          },
          {
           "lower": 0.19997676312923432,
           "timepoint": 49.80360794067383,
           "trajectory": "Wolves",
           "upper": 0.9558734208345413
          },
          {
           "lower": 0.20854627192020417,
           "timepoint": 49.90180206298828,
           "trajectory": "Wolves",
           "upper": 0.9501699745655059
          },
          {
           "lower": 0.21367589011788368,
           "timepoint": 50,
           "trajectory": "Wolves",
           "upper": 0.9239561259746552
          }
         ]
        },
        {
         "name": "traces",
         "transform": [
          {
           "expr": "isValid(datum.value)",
           "type": "filter"
          }
         ],
         "values": []
        },
        {
         "name": "points",
         "values": [
          {
           "sample_id": 0,
           "timepoint": 1,
           "trajectory": "Rabbits Samples",
           "value": 0.5774485468864441
          },
          {
           "sample_id": 0,
           "timepoint": 1.981963872909546,
           "trajectory": "Rabbits Samples",
           "value": 0.4931105971336365
          },
          {
           "sample_id": 0,
           "timepoint": 2.963927745819092,
           "trajectory": "Rabbits Samples",
           "value": 0.5761047005653381
          },
          {
           "sample_id": 0,
           "timepoint": 3.945891857147217,
           "trajectory": "Rabbits Samples",
           "value": 0.7969658970832825
          },
          {
           "sample_id": 0,
           "timepoint": 4.927855491638184,
           "trajectory": "Rabbits Samples",
           "value": 1.1683192253112793
          },
          {
           "sample_id": 0,
           "timepoint": 5.909819602966309,
           "trajectory": "Rabbits Samples",
           "value": 1.6221495866775513
          },
          {
           "sample_id": 0,
           "timepoint": 6.891783714294434,
           "trajectory": "Rabbits Samples",
           "value": 1.7182937860488892
          },
          {
           "sample_id": 0,
           "timepoint": 7.873747825622559,
           "trajectory": "Rabbits Samples",
           "value": 1.0860116481781006
          },
          {
           "sample_id": 0,
           "timepoint": 8.855710983276367,
           "trajectory": "Rabbits Samples",
           "value": 0.6113320589065552
          },
          {
           "sample_id": 0,
           "timepoint": 9.837675094604492,
           "trajectory": "Rabbits Samples",
           "value": 0.4930415153503418
          },
          {
           "sample_id": 0,
           "timepoint": 10.819639205932617,
           "trajectory": "Rabbits Samples",
           "value": 0.5555301308631897
          },
          {
           "sample_id": 0,
           "timepoint": 11.801603317260742,
           "trajectory": "Rabbits Samples",
           "value": 0.7555342316627502
          },
          {
           "sample_id": 0,
           "timepoint": 12.783567428588867,
           "trajectory": "Rabbits Samples",
           "value": 1.1050314903259277
          },
          {
           "sample_id": 0,
           "timepoint": 13.765531539916992,
           "trajectory": "Rabbits Samples",
           "value": 1.561277985572815
          },
          {
           "sample_id": 0,
           "timepoint": 14.747495651245117,
           "trajectory": "Rabbits Samples",
           "value": 1.7557481527328491
          },
          {
           "sample_id": 0,
           "timepoint": 15.729458808898926,
           "trajectory": "Rabbits Samples",
           "value": 1.1907449960708618
          },
          {
           "sample_id": 0,
           "timepoint": 16.711421966552734,
           "trajectory": "Rabbits Samples",
           "value": 0.6529028415679932
          },
          {
           "sample_id": 0,
           "timepoint": 17.693387985229492,
           "trajectory": "Rabbits Samples",
           "value": 0.496554970741272
          },
          {
           "sample_id": 0,
           "timepoint": 18.675350189208984,
           "trajectory": "Rabbits Samples",
           "value": 0.5378015637397766
          },
          {
           "sample_id": 0,
           "timepoint": 19.65731430053711,
           "trajectory": "Rabbits Samples",
           "value": 0.7173503041267395
          },
          {
           "sample_id": 0,
           "timepoint": 20.639278411865234,
           "trajectory": "Rabbits Samples",
           "value": 1.0445382595062256
          },
          {
           "sample_id": 0,
           "timepoint": 21.62124252319336,
           "trajectory": "Rabbits Samples",
           "value": 1.495972752571106
          },
          {
           "sample_id": 0,
           "timepoint": 22.603206634521484,
           "trajectory": "Rabbits Samples",
           "value": 1.7724984884262085
          },
          {
           "sample_id": 0,
           "timepoint": 23.58517074584961,
           "trajectory": "Rabbits Samples",
           "value": 1.2989596128463745
          },
          {
           "sample_id": 0,
           "timepoint": 24.567134857177734,
           "trajectory": "Rabbits Samples",
           "value": 0.70307457447052
          },
          {
           "sample_id": 0,
           "timepoint": 25.549097061157227,
           "trajectory": "Rabbits Samples",
           "value": 0.5039738416671753
          },
          {
           "sample_id": 0,
           "timepoint": 26.53106117248535,
           "trajectory": "Rabbits Samples",
           "value": 0.5229206085205078
          },
          {
           "sample_id": 0,
           "timepoint": 27.513025283813477,
           "trajectory": "Rabbits Samples",
           "value": 0.6823447346687317
          },
          {
           "sample_id": 0,
           "timepoint": 28.4949893951416,
           "trajectory": "Rabbits Samples",
           "value": 0.9871031641960144
          },
          {
           "sample_id": 0,
           "timepoint": 29.476953506469727,
           "trajectory": "Rabbits Samples",
           "value": 1.428144931793213
          },
          {
           "sample_id": 0,
           "timepoint": 30.45891761779785,
           "trajectory": "Rabbits Samples",
           "value": 1.7697229385375977
          },
          {
           "sample_id": 0,
           "timepoint": 31.440881729125977,
           "trajectory": "Rabbits Samples",
           "value": 1.406166672706604
          },
          {
           "sample_id": 0,
           "timepoint": 32.42284393310547,
           "trajectory": "Rabbits Samples",
           "value": 0.762713611125946
          },
          {
           "sample_id": 0,
           "timepoint": 33.404808044433594,
           "trajectory": "Rabbits Samples",
           "value": 0.5157046914100647
          },
          {
           "sample_id": 0,
           "timepoint": 34.38677215576172,
           "trajectory": "Rabbits Samples",
           "value": 0.5109087824821472
          },
          {
           "sample_id": 0,
           "timepoint": 35.368736267089844,
           "trajectory": "Rabbits Samples",
           "value": 0.6504457592964172
          },
          {
           "sample_id": 0,
           "timepoint": 36.35070037841797,
           "trajectory": "Rabbits Samples",
           "value": 0.9328932762145996
          },
          {
           "sample_id": 0,
           "timepoint": 37.332664489746094,
           "trajectory": "Rabbits Samples",
           "value": 1.3593549728393555
          },
          {
           "sample_id": 0,
           "timepoint": 38.31462860107422,
           "trajectory": "Rabbits Samples",
           "value": 1.7495903968811035
          },
          {
           "sample_id": 0,
           "timepoint": 39.296592712402344,
           "trajectory": "Rabbits Samples",
           "value": 1.5072137117385864
          },
          {
           "sample_id": 0,
           "timepoint": 40.27855682373047,
           "trajectory": "Rabbits Samples",
           "value": 0.8324921727180481
          },
          {
           "sample_id": 0,
           "timepoint": 41.260520935058594,
           "trajectory": "Rabbits Samples",
           "value": 0.532248854637146
          },
          {
           "sample_id": 0,
           "timepoint": 42.24248504638672,
           "trajectory": "Rabbits Samples",
           "value": 0.5018233060836792
          },
          {
           "sample_id": 0,
           "timepoint": 43.224449157714844,
           "trajectory": "Rabbits Samples",
           "value": 0.6215773820877075
          },
          {
           "sample_id": 0,
           "timepoint": 44.20641326904297,
           "trajectory": "Rabbits Samples",
           "value": 0.8819983601570129
          },
          {
           "sample_id": 0,
           "timepoint": 45.188377380371094,
           "trajectory": "Rabbits Samples",
           "value": 1.2908376455307007
          },
          {
           "sample_id": 0,
           "timepoint": 46.17034149169922,
           "trajectory": "Rabbits Samples",
           "value": 1.7148245573043823
          },
          {
           "sample_id": 0,
           "timepoint": 47.152305603027344,
           "trajectory": "Rabbits Samples",
           "value": 1.5969091653823853
          },
          {
           "sample_id": 0,
           "timepoint": 48.13426971435547,
           "trajectory": "Rabbits Samples",
           "value": 0.9126989841461182
          },
          {
           "sample_id": 0,
           "timepoint": 49.116233825683594,
           "trajectory": "Rabbits Samples",
           "value": 0.5542105436325073
          }
         ]
        },
        {
         "name": "markers",
         "values": []
        },
        {
         "name": "selected",
         "on": [
          {
           "remove": true,
           "trigger": "clear"
          },
          {
           "remove": true,
           "trigger": "!shift"
          },
          {
           "insert": "clicked",
           "trigger": "!shift && clicked"
          },
          {
           "toggle": "clicked",
           "trigger": "shift && clicked"
          }
         ]
        }
       ],
       "height": 300,
       "legends": [
        {
         "encode": {
          "labels": {
           "interactive": true,
           "name": "legendLabel",
           "update": {
            "opacity": [
             {
              "test": "!length(data('selected')) || indata('selected', 'value', datum.value)",
              "value": 1
             },
             {
              "value": 0.25
             }
            ]
           }
          },
          "symbols": {
           "interactive": true,
           "name": "legendSymbol",
           "update": {
            "fill": {
             "value": "transparent"
            },
            "opacity": [
             {
              "test": "!length(data('selected')) || indata('selected', 'value', datum.value)",
              "value": 0.7
             },
             {
              "value": 0.15
             }
            ],
            "size": {
             "value": 64
            },
            "strokeWidth": {
             "value": 2
            }
           }
          }
         },
         "name": "color_legend",
         "stroke": "color"
        }
       ],
       "marks": [
        {
         "from": {
          "facet": {
           "data": "points",
           "groupby": "trajectory",
           "name": "points_split"
          }
         },
         "marks": [
          {
           "encode": {
            "hover": {
             "fillOpacity": {
              "value": 0.9
             }
            },
            "update": {
             "fill": {
              "field": "trajectory",
              "scale": "color"
             },
             "fillOpacity": [
              {
               "test": "!length(data('selected')) || indata('selected', 'value', datum.trajectory)",
               "value": 0.5
              },
              {
               "value": 0.15
              }
             ],
             "size": {
              "value": 10
             },
             "stroke": {
              "field": "trajectory",
              "scale": "color"
             },
             "strokeOpacity": [
              {
               "test": "!length(data('selected')) || indata('selected', 'value', datum.trajectory)",
               "value": 0.75
              },
              {
               "value": 0.15
              }
             ],
             "strokeWidth": {
              "value": 2
             },
             "tooltip": {
              "field": "value"
             },
             "x": {
              "field": "timepoint",
              "scale": "xscale"
             },
             "y": {
              "field": "value",
              "scale": "yscale"
             }
            }
           },
           "from": {
            "data": "points"
           },
           "name": "_points_symbol",
           "type": "symbol",
           "zindex": 3
          },
          {
           "encode": {
            "hover": {
             "fillOpacity": {
              "value": 0.9
             }
            },
            "update": {
             "interpolate": {
              "value": "linear"
             },
             "stroke": {
              "field": "trajectory",
              "scale": "color"
             },
             "strokeOpacity": [
              {
               "test": "!length(data('selected')) || indata('selected', 'value', datum.trajectory)",
               "value": 0.3
              },
              {
               "value": 0.1
              }
             ],
             "strokeWidth": {
              "value": 2
             },
             "x": {
              "field": "timepoint",
              "scale": "xscale"
             },
             "y": {
              "field": "value",
              "scale": "yscale"
             }
            }
           },
           "from": {
            "data": "points"
           },
           "name": "_points_line",
           "type": "line",
           "zindex": 3
          }
         ],
         "name": "_points",
         "type": "group",
         "zindex": 3
        },
        {
         "from": {
          "facet": {
           "data": "traces",
           "groupby": "trajectory",
           "name": "traces_split"
          }
         },
         "marks": [
          {
           "encode": {
            "hover": {
             "fillOpacity": {
              "value": 0.9
             }
            },
            "update": {
             "interpolate": {
              "value": "linear"
             },
             "stroke": {
              "field": "trajectory",
              "scale": "color"
             },
             "strokeOpacity": [
              {
               "test": "!length(data('selected')) || indata('selected', 'value', datum.trajectory)",
               "value": 0.75
              },
              {
               "value": 0.15
              }
             ],
             "strokeWidth": {
              "value": 2
             },
             "x": {
              "field": "timepoint",
              "scale": "xscale"
             },
             "y": {
              "field": "value",
              "scale": "yscale"
             }
            }
           },
           "from": {
            "data": "traces_split"
           },
           "name": "_traces_lines",
           "type": "line"
          }
         ],
         "name": "_traces",
         "type": "group",
         "zindex": 2
        },
        {
         "from": {
          "facet": {
           "data": "distributions",
           "groupby": "trajectory",
           "name": "trajectory_split"
          }
         },
         "marks": [
          {
           "encode": {
            "hover": {
             "fillOpacity": {
              "value": 0.9
             }
            },
            "update": {
             "fill": {
              "field": "trajectory",
              "scale": "color"
             },
             "fillOpacity": [
              {
               "test": "!length(data('selected')) || indata('selected', 'value', datum.trajectory)",
               "value": 0.5
              },
              {
               "value": 0.15
              }
             ],
             "interpolate": {
              "value": "linear"
             },
             "stroke": {
              "field": "trajectory",
              "scale": "color"
             },
             "strokeOpacity": [
              {
               "test": "!length(data('selected')) || indata('selected', 'value', datum.trajectory)",
               "value": 0.75
              },
              {
               "value": 0.15
              }
             ],
             "strokeWidth": {
              "value": 2
             },
             "x": {
              "field": "timepoint",
              "scale": "xscale"
             },
             "y": {
              "field": "upper",
              "scale": "yscale"
             },
             "y2": {
              "field": "lower",
              "scale": "yscale"
             }
            }
           },
           "from": {
            "data": "trajectory_split"
           },
           "type": "area"
          }
         ],
         "name": "_distributions",
         "type": "group",
         "zindex": 1
        },
        {
         "marks": [
          {
           "encode": {
            "enter": {
             "stroke": {
              "value": "lightgray"
             }
            },
            "update": {
             "opacity": {
              "value": 1
             },
             "x": {
              "field": "timepoint",
              "scale": "xscale"
             },
             "y": {
              "signal": "height"
             },
             "y2": {
              "value": 0
             }
            }
           },
           "from": {
            "data": "markers"
           },
           "name": "_marker text",
           "type": "rule"
          },
          {
           "encode": {
            "enter": {
             "fontSize": {
              "value": 8
             },
             "text": {
              "field": "datum.label"
             },
             "y": {
              "value": 0
             }
            }
           },
           "from": {
            "data": "_marker text"
           },
           "name": "_marker flags",
           "transform": [
            {
             "as": [
              "x",
              "_y",
              "opacity",
              "align",
              "baseline"
             ],
             "lineAnchor": "start",
             "offset": [
              1
             ],
             "size": {
              "signal": "[width, height]"
             },
             "type": "label"
            }
           ],
           "type": "text"
          }
         ],
         "name": "_markers",
         "type": "group"
        }
       ],
       "padding": 5,
       "scales": [
        {
         "domain": {
          "fields": [
           {
            "data": "distributions",
            "field": "timepoint"
           },
           {
            "data": "traces",
            "field": "timepoint"
           },
           {
            "data": "points",
            "field": "timepoint"
           },
           {
            "data": "markers",
            "field": "timepoint"
           }
          ]
         },
         "name": "xscale",
         "range": "width",
         "type": "linear",
         "zero": false
        },
        {
         "domain": {
          "fields": [
           {
            "data": "distributions",
            "field": "lower"
           },
           {
            "data": "distributions",
            "field": "upper"
           },
           {
            "data": "traces",
            "field": "value"
           },
           {
            "data": "points",
            "field": "value"
           }
          ]
         },
         "name": "yscale",
         "nice": true,
         "range": "height",
         "type": "linear",
         "zero": true
        },
        {
         "domain": {
          "fields": [
           {
            "data": "distributions",
            "field": "trajectory"
           },
           {
            "data": "traces",
            "field": "trajectory"
           },
           {
            "data": "points",
            "field": "trajectory"
           }
          ]
         },
         "name": "color",
         "range": "category",
         "type": "ordinal"
        }
       ],
       "signals": [
        {
         "name": "clear",
         "on": [
          {
           "events": "mouseup[!event.item]",
           "force": true,
           "update": "true"
          }
         ],
         "value": true
        },
        {
         "name": "shift",
         "on": [
          {
           "events": "@legendSymbol:click, @legendLabel:click",
           "force": true,
           "update": "event.shiftKey"
          }
         ],
         "value": false
        },
        {
         "name": "clicked",
         "on": [
          {
           "events": "@legendSymbol:click, @legendLabel:click",
           "force": true,
           "update": "{value: datum.value}"
          }
         ],
         "value": null
        }
       ],
       "width": 500
      }
     },
     "metadata": {},
     "output_type": "display_data"
    }
   ],
   "source": [
    "nice_labels={\"Rabbits_sol\": \"Rabbits\", \"Wolves_sol\": \"Wolves\"}\n",
    "\n",
    "schema = plots.trajectories(prior_samples, \n",
    "                           subset=\".*_sol\", \n",
    "                           relabel=nice_labels,\n",
    "                           points=observed_points\n",
    "                           )\n",
    "schema = plots.pad(schema, 5)\n",
    "\n",
    "plots.save_schema(schema, \"_schema.json\")\n",
    "plots.ipy_display(schema)"
   ]
  },
  {
   "cell_type": "code",
   "execution_count": 33,
   "metadata": {},
   "outputs": [
    {
     "data": {
      "application/vnd.vega.v5+json": {
       "$schema": "https://vega.github.io/schema/vega/v5.json",
       "axes": [
        {
         "name": "x_axis",
         "orient": "bottom",
         "scale": "xscale",
         "zindex": 100
        },
        {
         "name": "y_axis",
         "orient": "left",
         "scale": "yscale",
         "zindex": 100
        }
       ],
       "data": [
        {
         "name": "distributions",
         "values": [
          {
           "lower": 0.5051243111491204,
           "timepoint": 1,
           "trajectory": "Rabbits",
           "upper": 0.6488389670848846
          },
          {
           "lower": 0.4810523107647896,
           "timepoint": 1.0981963872909546,
           "trajectory": "Rabbits",
           "upper": 0.6317649573087692
          },
          {
           "lower": 0.4601885452866554,
           "timepoint": 1.1963927745819092,
           "trajectory": "Rabbits",
           "upper": 0.6172279119491577
          },
          {
           "lower": 0.44223228096961975,
           "timepoint": 1.2945891618728638,
           "trajectory": "Rabbits",
           "upper": 0.6050723165273666
          },
          {
           "lower": 0.4269068524241447,
           "timepoint": 1.3927855491638184,
           "trajectory": "Rabbits",
           "upper": 0.5951532989740371
          },
          {
           "lower": 0.41377234309911726,
           "timepoint": 1.490981936454773,
           "trajectory": "Rabbits",
           "upper": 0.5873368799686431
          },
          {
           "lower": 0.40248590111732485,
           "timepoint": 1.5891783237457275,
           "trajectory": "Rabbits",
           "upper": 0.5815026640892028
          },
          {
           "lower": 0.3931929439306259,
           "timepoint": 1.6873748302459717,
           "trajectory": "Rabbits",
           "upper": 0.5775427132844925
          },
          {
           "lower": 0.3862742096185684,
           "timepoint": 1.7855710983276367,
           "trajectory": "Rabbits",
           "upper": 0.5753624409437179
          },
          {
           "lower": 0.38118805140256884,
           "timepoint": 1.8837676048278809,
           "trajectory": "Rabbits",
           "upper": 0.5757302582263947
          },
          {
           "lower": 0.3776500791311264,
           "timepoint": 1.981963872909546,
           "trajectory": "Rabbits",
           "upper": 0.5796148270368576
          },
          {
           "lower": 0.37555393427610395,
           "timepoint": 2.08016037940979,
           "trajectory": "Rabbits",
           "upper": 0.585342624783516
          },
          {
           "lower": 0.3748101145029068,
           "timepoint": 2.178356647491455,
           "trajectory": "Rabbits",
           "upper": 0.5931292980909347
          },
          {
           "lower": 0.3753451660275459,
           "timepoint": 2.276553153991699,
           "trajectory": "Rabbits",
           "upper": 0.6025383323431015
          },
          {
           "lower": 0.377096489071846,
           "timepoint": 2.3747496604919434,
           "trajectory": "Rabbits",
           "upper": 0.6135480284690856
          },
          {
           "lower": 0.3800157144665718,
           "timepoint": 2.4729459285736084,
           "trajectory": "Rabbits",
           "upper": 0.6261454164981841
          },
          {
           "lower": 0.3840783342719078,
           "timepoint": 2.5711421966552734,
           "trajectory": "Rabbits",
           "upper": 0.6403272837400436
          },
          {
           "lower": 0.3895245581865311,
           "timepoint": 2.6693387031555176,
           "trajectory": "Rabbits",
           "upper": 0.6560939222574232
          },
          {
           "lower": 0.39607561081647874,
           "timepoint": 2.7675352096557617,
           "trajectory": "Rabbits",
           "upper": 0.6737348735332488
          },
          {
           "lower": 0.4037196129560471,
           "timepoint": 2.8657314777374268,
           "trajectory": "Rabbits",
           "upper": 0.6940728366374967
          },
          {
           "lower": 0.41245175153017044,
           "timepoint": 2.963927745819092,
           "trajectory": "Rabbits",
           "upper": 0.7161092609167097
          },
          {
           "lower": 0.4222735777497292,
           "timepoint": 3.062124252319336,
           "trajectory": "Rabbits",
           "upper": 0.7398648440837858
          },
          {
           "lower": 0.43319143205881117,
           "timepoint": 3.16032075881958,
           "trajectory": "Rabbits",
           "upper": 0.7646123915910719
          },
          {
           "lower": 0.4452171564102173,
           "timepoint": 3.258517026901245,
           "trajectory": "Rabbits",
           "upper": 0.7892877429723737
          },
          {
           "lower": 0.4569105193018913,
           "timepoint": 3.3567135334014893,
           "trajectory": "Rabbits",
           "upper": 0.815542286634445
          },
          {
           "lower": 0.4695918634533882,
           "timepoint": 3.4549098014831543,
           "trajectory": "Rabbits",
           "upper": 0.8433761298656461
          },
          {
           "lower": 0.483332422375679,
           "timepoint": 3.5531063079833984,
           "trajectory": "Rabbits",
           "upper": 0.8727851301431654
          },
          {
           "lower": 0.4981502011418343,
           "timepoint": 3.6513025760650635,
           "trajectory": "Rabbits",
           "upper": 0.9037574321031568
          },
          {
           "lower": 0.5140681594610215,
           "timepoint": 3.7494990825653076,
           "trajectory": "Rabbits",
           "upper": 0.9362738102674482
          },
          {
           "lower": 0.5311100453138351,
           "timepoint": 3.8476953506469727,
           "trajectory": "Rabbits",
           "upper": 0.970302867889404
          },
          {
           "lower": 0.5493017822504044,
           "timepoint": 3.945891857147217,
           "trajectory": "Rabbits",
           "upper": 1.0058008164167402
          },
          {
           "lower": 0.5684487670660019,
           "timepoint": 4.044088363647461,
           "trajectory": "Rabbits",
           "upper": 1.0427060514688489
          },
          {
           "lower": 0.5885705500841141,
           "timepoint": 4.142284393310547,
           "trajectory": "Rabbits",
           "upper": 1.0809359312057492
          },
          {
           "lower": 0.6098981499671936,
           "timepoint": 4.240481376647949,
           "trajectory": "Rabbits",
           "upper": 1.1203878223896024
          },
          {
           "lower": 0.6324594795703888,
           "timepoint": 4.338677406311035,
           "trajectory": "Rabbits",
           "upper": 1.1609291970729825
          },
          {
           "lower": 0.6562829375267029,
           "timepoint": 4.436873912811279,
           "trajectory": "Rabbits",
           "upper": 1.2023967802524564
          },
          {
           "lower": 0.6823425441980362,
           "timepoint": 4.535070419311523,
           "trajectory": "Rabbits",
           "upper": 1.244588083028793
          },
          {
           "lower": 0.7107869565486908,
           "timepoint": 4.633266448974609,
           "trajectory": "Rabbits",
           "upper": 1.2872623503208158
          },
          {
           "lower": 0.7407032549381256,
           "timepoint": 4.7314629554748535,
           "trajectory": "Rabbits",
           "upper": 1.3301270723342893
          },
          {
           "lower": 0.7721204370260238,
           "timepoint": 4.829659461975098,
           "trajectory": "Rabbits",
           "upper": 1.3728431224822994
          },
          {
           "lower": 0.805060988664627,
           "timepoint": 4.927855491638184,
           "trajectory": "Rabbits",
           "upper": 1.4171339631080624
          },
          {
           "lower": 0.8395456910133362,
           "timepoint": 5.026051998138428,
           "trajectory": "Rabbits",
           "upper": 1.4623533129692075
          },
          {
           "lower": 0.8755844682455063,
           "timepoint": 5.124248504638672,
           "trajectory": "Rabbits",
           "upper": 1.5069728612899778
          },
          {
           "lower": 0.9131788015365601,
           "timepoint": 5.222445011138916,
           "trajectory": "Rabbits",
           "upper": 1.5505466878414154
          },
          {
           "lower": 0.9523179590702057,
           "timepoint": 5.32064151763916,
           "trajectory": "Rabbits",
           "upper": 1.5925707936286926
          },
          {
           "lower": 0.9904650866985321,
           "timepoint": 5.418837547302246,
           "trajectory": "Rabbits",
           "upper": 1.6349843382835387
          },
          {
           "lower": 1.0290996789932252,
           "timepoint": 5.51703405380249,
           "trajectory": "Rabbits",
           "upper": 1.6903327703475952
          },
          {
           "lower": 1.068894773721695,
           "timepoint": 5.615230560302734,
           "trajectory": "Rabbits",
           "upper": 1.7450684905052185
          },
          {
           "lower": 1.1097592115402222,
           "timepoint": 5.7134270668029785,
           "trajectory": "Rabbits",
           "upper": 1.7986104249954225
          },
          {
           "lower": 1.151575994491577,
           "timepoint": 5.811623573303223,
           "trajectory": "Rabbits",
           "upper": 1.850271362066269
          },
          {
           "lower": 1.1941976070404052,
           "timepoint": 5.909819602966309,
           "trajectory": "Rabbits",
           "upper": 1.899582540988922
          },
          {
           "lower": 1.23744078874588,
           "timepoint": 6.008016109466553,
           "trajectory": "Rabbits",
           "upper": 1.943354856967926
          },
          {
           "lower": 1.2810803174972534,
           "timepoint": 6.106212615966797,
           "trajectory": "Rabbits",
           "upper": 1.9746112644672393
          },
          {
           "lower": 1.3245567440986634,
           "timepoint": 6.204409122467041,
           "trajectory": "Rabbits",
           "upper": 2.006672477722168
          },
          {
           "lower": 1.3671102821826935,
           "timepoint": 6.302605152130127,
           "trajectory": "Rabbits",
           "upper": 2.0283280491828917
          },
          {
           "lower": 1.408983862400055,
           "timepoint": 6.400801658630371,
           "trajectory": "Rabbits",
           "upper": 2.01531400680542
          },
          {
           "lower": 1.4367581963539124,
           "timepoint": 6.498998165130615,
           "trajectory": "Rabbits",
           "upper": 2.0211418747901915
          },
          {
           "lower": 1.4506515979766845,
           "timepoint": 6.597194671630859,
           "trajectory": "Rabbits",
           "upper": 2.015464460849762
          },
          {
           "lower": 1.4284321010112762,
           "timepoint": 6.695390701293945,
           "trajectory": "Rabbits",
           "upper": 1.9974848330020905
          },
          {
           "lower": 1.4066657185554505,
           "timepoint": 6.7935872077941895,
           "trajectory": "Rabbits",
           "upper": 1.9946840226650238
          },
          {
           "lower": 1.3370188474655151,
           "timepoint": 6.891783714294434,
           "trajectory": "Rabbits",
           "upper": 1.973221319913864
          },
          {
           "lower": 1.268656712770462,
           "timepoint": 6.989980220794678,
           "trajectory": "Rabbits",
           "upper": 1.946996235847473
          },
          {
           "lower": 1.2056418180465698,
           "timepoint": 7.088176250457764,
           "trajectory": "Rabbits",
           "upper": 1.926825213432312
          },
          {
           "lower": 1.1426748096942902,
           "timepoint": 7.186372756958008,
           "trajectory": "Rabbits",
           "upper": 1.8917805612087248
          },
          {
           "lower": 1.0809118807315827,
           "timepoint": 7.284569263458252,
           "trajectory": "Rabbits",
           "upper": 1.873773556947708
          },
          {
           "lower": 1.021326494216919,
           "timepoint": 7.382765769958496,
           "trajectory": "Rabbits",
           "upper": 1.838645803928375
          },
          {
           "lower": 0.9646812707185746,
           "timepoint": 7.48096227645874,
           "trajectory": "Rabbits",
           "upper": 1.7861752212047575
          },
          {
           "lower": 0.9115411072969437,
           "timepoint": 7.579158306121826,
           "trajectory": "Rabbits",
           "upper": 1.7476635694503784
          },
          {
           "lower": 0.8622704237699509,
           "timepoint": 7.67735481262207,
           "trajectory": "Rabbits",
           "upper": 1.7020660996437074
          },
          {
           "lower": 0.8200316578149796,
           "timepoint": 7.7755513191223145,
           "trajectory": "Rabbits",
           "upper": 1.650298374891281
          },
          {
           "lower": 0.7819973856210709,
           "timepoint": 7.873747825622559,
           "trajectory": "Rabbits",
           "upper": 1.6116529524326324
          },
          {
           "lower": 0.7480799227952957,
           "timepoint": 7.9719438552856445,
           "trajectory": "Rabbits",
           "upper": 1.563731038570404
          },
          {
           "lower": 0.7194193333387375,
           "timepoint": 8.070140838623047,
           "trajectory": "Rabbits",
           "upper": 1.5072274923324585
          },
          {
           "lower": 0.6914891541004181,
           "timepoint": 8.168336868286133,
           "trajectory": "Rabbits",
           "upper": 1.4292892456054687
          },
          {
           "lower": 0.6670606106519699,
           "timepoint": 8.266532897949219,
           "trajectory": "Rabbits",
           "upper": 1.3471659898757935
          },
          {
           "lower": 0.641142001748085,
           "timepoint": 8.364728927612305,
           "trajectory": "Rabbits",
           "upper": 1.2633545577526093
          },
          {
           "lower": 0.6135189205408096,
           "timepoint": 8.462925910949707,
           "trajectory": "Rabbits",
           "upper": 1.1872593283653259
          },
          {
           "lower": 0.5919944554567337,
           "timepoint": 8.56112289428711,
           "trajectory": "Rabbits",
           "upper": 1.1166882276535033
          },
          {
           "lower": 0.571210527420044,
           "timepoint": 8.659318923950195,
           "trajectory": "Rabbits",
           "upper": 1.0470829546451568
          },
          {
           "lower": 0.5549307703971863,
           "timepoint": 8.757514953613281,
           "trajectory": "Rabbits",
           "upper": 0.9762333691120146
          },
          {
           "lower": 0.5424787819385528,
           "timepoint": 8.855710983276367,
           "trajectory": "Rabbits",
           "upper": 0.9051215559244155
          },
          {
           "lower": 0.5280335992574692,
           "timepoint": 8.95390796661377,
           "trajectory": "Rabbits",
           "upper": 0.8438710719346999
          },
          {
           "lower": 0.5136239737272262,
           "timepoint": 9.052103996276855,
           "trajectory": "Rabbits",
           "upper": 0.7899392932653426
          },
          {
           "lower": 0.5010840415954589,
           "timepoint": 9.150300979614258,
           "trajectory": "Rabbits",
           "upper": 0.741310104727745
          },
          {
           "lower": 0.4843059152364731,
           "timepoint": 9.248497009277344,
           "trajectory": "Rabbits",
           "upper": 0.6987793892621994
          },
          {
           "lower": 0.46948242634534837,
           "timepoint": 9.346693992614746,
           "trajectory": "Rabbits",
           "upper": 0.6654698103666306
          },
          {
           "lower": 0.456996813416481,
           "timepoint": 9.444890022277832,
           "trajectory": "Rabbits",
           "upper": 0.6317428410053253
          },
          {
           "lower": 0.44688632488250735,
           "timepoint": 9.543086051940918,
           "trajectory": "Rabbits",
           "upper": 0.6195917665958404
          },
          {
           "lower": 0.4393170580267906,
           "timepoint": 9.64128303527832,
           "trajectory": "Rabbits",
           "upper": 0.5936942964792251
          },
          {
           "lower": 0.43049156963825225,
           "timepoint": 9.739479064941406,
           "trajectory": "Rabbits",
           "upper": 0.5928875982761382
          },
          {
           "lower": 0.42122622579336166,
           "timepoint": 9.837675094604492,
           "trajectory": "Rabbits",
           "upper": 0.604402607679367
          },
          {
           "lower": 0.4145303204655647,
           "timepoint": 9.935872077941895,
           "trajectory": "Rabbits",
           "upper": 0.6175673276185989
          },
          {
           "lower": 0.409544937312603,
           "timepoint": 10.03406810760498,
           "trajectory": "Rabbits",
           "upper": 0.6323772072792053
          },
          {
           "lower": 0.4043998926877975,
           "timepoint": 10.132265090942383,
           "trajectory": "Rabbits",
           "upper": 0.648832431435585
          },
          {
           "lower": 0.39657222479581833,
           "timepoint": 10.230461120605469,
           "trajectory": "Rabbits",
           "upper": 0.6669412821531295
          },
          {
           "lower": 0.3914209812879562,
           "timepoint": 10.328657150268555,
           "trajectory": "Rabbits",
           "upper": 0.6867181420326233
          },
          {
           "lower": 0.38856773972511294,
           "timepoint": 10.426854133605957,
           "trajectory": "Rabbits",
           "upper": 0.7081786185503005
          },
          {
           "lower": 0.3846037968993187,
           "timepoint": 10.525050163269043,
           "trajectory": "Rabbits",
           "upper": 0.7313447654247283
          },
          {
           "lower": 0.38213504999876025,
           "timepoint": 10.623247146606445,
           "trajectory": "Rabbits",
           "upper": 0.7562388241291045
          },
          {
           "lower": 0.3810760900378227,
           "timepoint": 10.721443176269531,
           "trajectory": "Rabbits",
           "upper": 0.7828852593898772
          },
          {
           "lower": 0.38122865110635756,
           "timepoint": 10.819639205932617,
           "trajectory": "Rabbits",
           "upper": 0.8113089025020598
          },
          {
           "lower": 0.38336937576532365,
           "timepoint": 10.91783618927002,
           "trajectory": "Rabbits",
           "upper": 0.8415317207574843
          },
          {
           "lower": 0.3866841092705727,
           "timepoint": 11.016032218933105,
           "trajectory": "Rabbits",
           "upper": 0.8735748052597044
          },
          {
           "lower": 0.3911342531442642,
           "timepoint": 11.114228248596191,
           "trajectory": "Rabbits",
           "upper": 0.9074536323547362
          },
          {
           "lower": 0.39669124931097033,
           "timepoint": 11.212425231933594,
           "trajectory": "Rabbits",
           "upper": 0.9431790947914122
          },
          {
           "lower": 0.40181774348020555,
           "timepoint": 11.31062126159668,
           "trajectory": "Rabbits",
           "upper": 0.9807507842779157
          },
          {
           "lower": 0.407728835940361,
           "timepoint": 11.408818244934082,
           "trajectory": "Rabbits",
           "upper": 1.0201601594686507
          },
          {
           "lower": 0.4146845549345016,
           "timepoint": 11.507014274597168,
           "trajectory": "Rabbits",
           "upper": 1.0613841593265532
          },
          {
           "lower": 0.42267623692750933,
           "timepoint": 11.605210304260254,
           "trajectory": "Rabbits",
           "upper": 1.1043815016746519
          },
          {
           "lower": 0.4317007020115852,
           "timepoint": 11.703407287597656,
           "trajectory": "Rabbits",
           "upper": 1.1490903258323666
          },
          {
           "lower": 0.4413680672645569,
           "timepoint": 11.801603317260742,
           "trajectory": "Rabbits",
           "upper": 1.195424300432205
          },
          {
           "lower": 0.4518758445978165,
           "timepoint": 11.899799346923828,
           "trajectory": "Rabbits",
           "upper": 1.2405022025108334
          },
          {
           "lower": 0.4634175285696983,
           "timepoint": 11.99799633026123,
           "trajectory": "Rabbits",
           "upper": 1.2830369472503658
          },
          {
           "lower": 0.476004995405674,
           "timepoint": 12.096192359924316,
           "trajectory": "Rabbits",
           "upper": 1.3257771432399745
          },
          {
           "lower": 0.48965266942977903,
           "timepoint": 12.194389343261719,
           "trajectory": "Rabbits",
           "upper": 1.368388450145721
          },
          {
           "lower": 0.5043785005807877,
           "timepoint": 12.292585372924805,
           "trajectory": "Rabbits",
           "upper": 1.4104705750942226
          },
          {
           "lower": 0.5202018976211548,
           "timepoint": 12.39078140258789,
           "trajectory": "Rabbits",
           "upper": 1.4515727937221523
          },
          {
           "lower": 0.5371453166007996,
           "timepoint": 12.488978385925293,
           "trajectory": "Rabbits",
           "upper": 1.491175544261932
          },
          {
           "lower": 0.5552328586578369,
           "timepoint": 12.587174415588379,
           "trajectory": "Rabbits",
           "upper": 1.5286987662315366
          },
          {
           "lower": 0.5746016263961792,
           "timepoint": 12.685371398925781,
           "trajectory": "Rabbits",
           "upper": 1.5635028123855588
          },
          {
           "lower": 0.5970102906227112,
           "timepoint": 12.783567428588867,
           "trajectory": "Rabbits",
           "upper": 1.5948892235755918
          },
          {
           "lower": 0.6207388818264008,
           "timepoint": 12.881763458251953,
           "trajectory": "Rabbits",
           "upper": 1.6221232175827025
          },
          {
           "lower": 0.6453634649515152,
           "timepoint": 12.979960441589355,
           "trajectory": "Rabbits",
           "upper": 1.644442594051361
          },
          {
           "lower": 0.6708035081624985,
           "timepoint": 13.078156471252441,
           "trajectory": "Rabbits",
           "upper": 1.6610858678817748
          },
          {
           "lower": 0.6968708425760269,
           "timepoint": 13.176352500915527,
           "trajectory": "Rabbits",
           "upper": 1.6713273644447326
          },
          {
           "lower": 0.7234418570995331,
           "timepoint": 13.27454948425293,
           "trajectory": "Rabbits",
           "upper": 1.6745122253894806
          },
          {
           "lower": 0.7513154923915863,
           "timepoint": 13.372745513916016,
           "trajectory": "Rabbits",
           "upper": 1.6727754712104796
          },
          {
           "lower": 0.78050856590271,
           "timepoint": 13.470942497253418,
           "trajectory": "Rabbits",
           "upper": 1.716128623485565
          },
          {
           "lower": 0.8110340058803559,
           "timepoint": 13.569138526916504,
           "trajectory": "Rabbits",
           "upper": 1.7695979833602904
          },
          {
           "lower": 0.842897766828537,
           "timepoint": 13.66733455657959,
           "trajectory": "Rabbits",
           "upper": 1.8139043271541595
          },
          {
           "lower": 0.8761000365018845,
           "timepoint": 13.765531539916992,
           "trajectory": "Rabbits",
           "upper": 1.8211844146251677
          },
          {
           "lower": 0.9106319785118103,
           "timepoint": 13.863727569580078,
           "trajectory": "Rabbits",
           "upper": 1.8637800216674802
          },
          {
           "lower": 0.9464745968580246,
           "timepoint": 13.96192455291748,
           "trajectory": "Rabbits",
           "upper": 1.8995178580284118
          },
          {
           "lower": 0.9835943669080734,
           "timepoint": 14.060120582580566,
           "trajectory": "Rabbits",
           "upper": 1.912487632036209
          },
          {
           "lower": 1.0219449251890182,
           "timepoint": 14.158316612243652,
           "trajectory": "Rabbits",
           "upper": 1.9452049076557159
          },
          {
           "lower": 1.0614603579044342,
           "timepoint": 14.256513595581055,
           "trajectory": "Rabbits",
           "upper": 1.9617474615573882
          },
          {
           "lower": 1.1020531356334686,
           "timepoint": 14.35470962524414,
           "trajectory": "Rabbits",
           "upper": 1.9881222665309906
          },
          {
           "lower": 1.1269083678722382,
           "timepoint": 14.452905654907227,
           "trajectory": "Rabbits",
           "upper": 2.0061532855033875
          },
          {
           "lower": 1.1055106699466706,
           "timepoint": 14.551102638244629,
           "trajectory": "Rabbits",
           "upper": 2.0061437666416166
          },
          {
           "lower": 1.0808826684951782,
           "timepoint": 14.649298667907715,
           "trajectory": "Rabbits",
           "upper": 1.9949356257915496
          },
          {
           "lower": 1.0539768517017365,
           "timepoint": 14.747495651245117,
           "trajectory": "Rabbits",
           "upper": 1.987330251932144
          },
          {
           "lower": 0.9956606686115265,
           "timepoint": 14.845691680908203,
           "trajectory": "Rabbits",
           "upper": 1.977737545967102
          },
          {
           "lower": 0.9405529707670212,
           "timepoint": 14.943887710571289,
           "trajectory": "Rabbits",
           "upper": 1.9775248050689695
          },
          {
           "lower": 0.8891286879777909,
           "timepoint": 15.042084693908691,
           "trajectory": "Rabbits",
           "upper": 1.9683462738990782
          },
          {
           "lower": 0.8416773855686188,
           "timepoint": 15.140280723571777,
           "trajectory": "Rabbits",
           "upper": 1.9223632514476774
          },
          {
           "lower": 0.7987896740436554,
           "timepoint": 15.23847770690918,
           "trajectory": "Rabbits",
           "upper": 1.9055021107196808
          },
          {
           "lower": 0.7641114115715026,
           "timepoint": 15.336673736572266,
           "trajectory": "Rabbits",
           "upper": 1.8573774456977843
          },
          {
           "lower": 0.7325069457292557,
           "timepoint": 15.434869766235352,
           "trajectory": "Rabbits",
           "upper": 1.838408941030502
          },
          {
           "lower": 0.7046769589185715,
           "timepoint": 15.533066749572754,
           "trajectory": "Rabbits",
           "upper": 1.8566193163394926
          },
          {
           "lower": 0.6805095404386521,
           "timepoint": 15.63126277923584,
           "trajectory": "Rabbits",
           "upper": 1.8516739666461943
          },
          {
           "lower": 0.6646953701972962,
           "timepoint": 15.729458808898926,
           "trajectory": "Rabbits",
           "upper": 1.8386036038398743
          },
          {
           "lower": 0.6481923609972,
           "timepoint": 15.827655792236328,
           "trajectory": "Rabbits",
           "upper": 1.8343990445137024
          },
          {
           "lower": 0.6312552928924561,
           "timepoint": 15.925851821899414,
           "trajectory": "Rabbits",
           "upper": 1.8231343924999235
          },
          {
           "lower": 0.6174396783113479,
           "timepoint": 16.0240478515625,
           "trajectory": "Rabbits",
           "upper": 1.796340215206146
          },
          {
           "lower": 0.6048211842775345,
           "timepoint": 16.12224578857422,
           "trajectory": "Rabbits",
           "upper": 1.7632344782352447
          },
          {
           "lower": 0.5861428260803223,
           "timepoint": 16.220439910888672,
           "trajectory": "Rabbits",
           "upper": 1.7273318111896514
          },
          {
           "lower": 0.5645932614803314,
           "timepoint": 16.31863784790039,
           "trajectory": "Rabbits",
           "upper": 1.6872319936752318
          },
          {
           "lower": 0.5531397134065628,
           "timepoint": 16.416833877563477,
           "trajectory": "Rabbits",
           "upper": 1.6694511115550994
          },
          {
           "lower": 0.5454001277685165,
           "timepoint": 16.515029907226562,
           "trajectory": "Rabbits",
           "upper": 1.6414436995983124
          },
          {
           "lower": 0.5345095366239547,
           "timepoint": 16.61322784423828,
           "trajectory": "Rabbits",
           "upper": 1.6056683242321013
          },
          {
           "lower": 0.5248127788305282,
           "timepoint": 16.711421966552734,
           "trajectory": "Rabbits",
           "upper": 1.5370599269866942
          },
          {
           "lower": 0.5188495635986328,
           "timepoint": 16.809619903564453,
           "trajectory": "Rabbits",
           "upper": 1.4614464104175569
          },
          {
           "lower": 0.5141069158911705,
           "timepoint": 16.90781593322754,
           "trajectory": "Rabbits",
           "upper": 1.3810622274875641
          },
          {
           "lower": 0.5036842778325081,
           "timepoint": 17.006011962890625,
           "trajectory": "Rabbits",
           "upper": 1.3148657023906707
          },
          {
           "lower": 0.4955750972032547,
           "timepoint": 17.10420799255371,
           "trajectory": "Rabbits",
           "upper": 1.2469740509986875
          },
          {
           "lower": 0.486618934571743,
           "timepoint": 17.20240592956543,
           "trajectory": "Rabbits",
           "upper": 1.1773756980895993
          },
          {
           "lower": 0.4762810945510864,
           "timepoint": 17.300601959228516,
           "trajectory": "Rabbits",
           "upper": 1.1075618743896483
          },
          {
           "lower": 0.4718186900019646,
           "timepoint": 17.3987979888916,
           "trajectory": "Rabbits",
           "upper": 1.0388622075319287
          },
          {
           "lower": 0.4622297614812851,
           "timepoint": 17.496994018554688,
           "trajectory": "Rabbits",
           "upper": 0.9670342475175854
          },
          {
           "lower": 0.4485212951898575,
           "timepoint": 17.595190048217773,
           "trajectory": "Rabbits",
           "upper": 0.8990428447723385
          },
          {
           "lower": 0.44212027490139005,
           "timepoint": 17.693387985229492,
           "trajectory": "Rabbits",
           "upper": 0.8747189581394195
          },
          {
           "lower": 0.44298544377088545,
           "timepoint": 17.791584014892578,
           "trajectory": "Rabbits",
           "upper": 0.8403298556804656
          },
          {
           "lower": 0.4412238642573357,
           "timepoint": 17.889780044555664,
           "trajectory": "Rabbits",
           "upper": 0.8073499917984008
          },
          {
           "lower": 0.4404029667377472,
           "timepoint": 17.98797607421875,
           "trajectory": "Rabbits",
           "upper": 0.756241524219513
          },
          {
           "lower": 0.4368326559662819,
           "timepoint": 18.086172103881836,
           "trajectory": "Rabbits",
           "upper": 0.748366367816925
          },
          {
           "lower": 0.42849123030900954,
           "timepoint": 18.184368133544922,
           "trajectory": "Rabbits",
           "upper": 0.7742634236812591
          },
          {
           "lower": 0.41640654951334,
           "timepoint": 18.28256607055664,
           "trajectory": "Rabbits",
           "upper": 0.8020657032728196
          },
          {
           "lower": 0.4095948994159698,
           "timepoint": 18.380762100219727,
           "trajectory": "Rabbits",
           "upper": 0.8316493302583694
          },
          {
           "lower": 0.4073739260435104,
           "timepoint": 18.478958129882812,
           "trajectory": "Rabbits",
           "upper": 0.8630342334508896
          },
          {
           "lower": 0.4066722258925438,
           "timepoint": 18.5771541595459,
           "trajectory": "Rabbits",
           "upper": 0.8962369143962859
          },
          {
           "lower": 0.4074068084359169,
           "timepoint": 18.675350189208984,
           "trajectory": "Rabbits",
           "upper": 0.931265839934349
          },
          {
           "lower": 0.40268880128860474,
           "timepoint": 18.773548126220703,
           "trajectory": "Rabbits",
           "upper": 0.9681242197751998
          },
          {
           "lower": 0.399829663336277,
           "timepoint": 18.87174415588379,
           "trajectory": "Rabbits",
           "upper": 1.006803148984909
          },
          {
           "lower": 0.40095287263393403,
           "timepoint": 18.969940185546875,
           "trajectory": "Rabbits",
           "upper": 1.047283226251602
          },
          {
           "lower": 0.4031273275613785,
           "timepoint": 19.06813621520996,
           "trajectory": "Rabbits",
           "upper": 1.0895249366760253
          },
          {
           "lower": 0.3990011066198349,
           "timepoint": 19.166332244873047,
           "trajectory": "Rabbits",
           "upper": 1.1334718346595762
          },
          {
           "lower": 0.39364364594221113,
           "timepoint": 19.264530181884766,
           "trajectory": "Rabbits",
           "upper": 1.1790435075759886
          },
          {
           "lower": 0.38806077688932417,
           "timepoint": 19.36272621154785,
           "trajectory": "Rabbits",
           "upper": 1.2261301219463348
          },
          {
           "lower": 0.38450371026992797,
           "timepoint": 19.460922241210938,
           "trajectory": "Rabbits",
           "upper": 1.2745866119861602
          },
          {
           "lower": 0.3875089153647423,
           "timepoint": 19.559118270874023,
           "trajectory": "Rabbits",
           "upper": 1.3242292463779448
          },
          {
           "lower": 0.39167160391807554,
           "timepoint": 19.65731430053711,
           "trajectory": "Rabbits",
           "upper": 1.374829018115997
          },
          {
           "lower": 0.3969603732228279,
           "timepoint": 19.755512237548828,
           "trajectory": "Rabbits",
           "upper": 1.426099723577499
          },
          {
           "lower": 0.4033517211675644,
           "timepoint": 19.853708267211914,
           "trajectory": "Rabbits",
           "upper": 1.4776994168758388
          },
          {
           "lower": 0.4093814805150032,
           "timepoint": 19.951904296875,
           "trajectory": "Rabbits",
           "upper": 1.5238482177257533
          },
          {
           "lower": 0.415441007912159,
           "timepoint": 20.050100326538086,
           "trajectory": "Rabbits",
           "upper": 1.5586489498615261
          },
          {
           "lower": 0.4219281882047653,
           "timepoint": 20.148296356201172,
           "trajectory": "Rabbits",
           "upper": 1.590088194608688
          },
          {
           "lower": 0.4287471905350685,
           "timepoint": 20.24649429321289,
           "trajectory": "Rabbits",
           "upper": 1.6174417972564694
          },
          {
           "lower": 0.4356454789638519,
           "timepoint": 20.344690322875977,
           "trajectory": "Rabbits",
           "upper": 1.639961630105972
          },
          {
           "lower": 0.4435746371746063,
           "timepoint": 20.442886352539062,
           "trajectory": "Rabbits",
           "upper": 1.656901055574417
          },
          {
           "lower": 0.4525284916162491,
           "timepoint": 20.54108238220215,
           "trajectory": "Rabbits",
           "upper": 1.6675437271595
          },
          {
           "lower": 0.4625064104795456,
           "timepoint": 20.639278411865234,
           "trajectory": "Rabbits",
           "upper": 1.6712466537952422
          },
          {
           "lower": 0.4735117956995964,
           "timepoint": 20.73747444152832,
           "trajectory": "Rabbits",
           "upper": 1.6674805879592896
          },
          {
           "lower": 0.485551755130291,
           "timepoint": 20.83567237854004,
           "trajectory": "Rabbits",
           "upper": 1.6580154597759247
          },
          {
           "lower": 0.49863721430301666,
           "timepoint": 20.933868408203125,
           "trajectory": "Rabbits",
           "upper": 1.6465700745582579
          },
          {
           "lower": 0.51282719373703,
           "timepoint": 21.03206443786621,
           "trajectory": "Rabbits",
           "upper": 1.6579146325588225
          },
          {
           "lower": 0.5302152931690216,
           "timepoint": 21.130260467529297,
           "trajectory": "Rabbits",
           "upper": 1.681108945608139
          },
          {
           "lower": 0.548772668838501,
           "timepoint": 21.228456497192383,
           "trajectory": "Rabbits",
           "upper": 1.7017919838428497
          },
          {
           "lower": 0.5685295164585114,
           "timepoint": 21.3266544342041,
           "trajectory": "Rabbits",
           "upper": 1.7162834405899046
          },
          {
           "lower": 0.5895175069570542,
           "timepoint": 21.424850463867188,
           "trajectory": "Rabbits",
           "upper": 1.750265085697174
          },
          {
           "lower": 0.6117695927619934,
           "timepoint": 21.523046493530273,
           "trajectory": "Rabbits",
           "upper": 1.7796592116355896
          },
          {
           "lower": 0.6353199332952499,
           "timepoint": 21.62124252319336,
           "trajectory": "Rabbits",
           "upper": 1.8073849022388457
          },
          {
           "lower": 0.6602031528949738,
           "timepoint": 21.719438552856445,
           "trajectory": "Rabbits",
           "upper": 1.8098789393901824
          },
          {
           "lower": 0.6864525496959687,
           "timepoint": 21.817636489868164,
           "trajectory": "Rabbits",
           "upper": 1.7979984700679776
          },
          {
           "lower": 0.7141019701957703,
           "timepoint": 21.91583251953125,
           "trajectory": "Rabbits",
           "upper": 1.8413004696369168
          },
          {
           "lower": 0.7431831270456314,
           "timepoint": 22.014028549194336,
           "trajectory": "Rabbits",
           "upper": 1.8793084323406217
          },
          {
           "lower": 0.7737266510725022,
           "timepoint": 22.112224578857422,
           "trajectory": "Rabbits",
           "upper": 1.9107930481433866
          },
          {
           "lower": 0.8055409729480744,
           "timepoint": 22.210420608520508,
           "trajectory": "Rabbits",
           "upper": 1.9169816553592682
          },
          {
           "lower": 0.8251921176910401,
           "timepoint": 22.308618545532227,
           "trajectory": "Rabbits",
           "upper": 1.9464172065258025
          },
          {
           "lower": 0.8253151297569274,
           "timepoint": 22.406814575195312,
           "trajectory": "Rabbits",
           "upper": 1.9703969955444336
          },
          {
           "lower": 0.8099280536174774,
           "timepoint": 22.5050106048584,
           "trajectory": "Rabbits",
           "upper": 1.9839801490306854
          },
          {
           "lower": 0.8038699805736542,
           "timepoint": 22.603206634521484,
           "trajectory": "Rabbits",
           "upper": 1.988193392753601
          },
          {
           "lower": 0.7710606127977371,
           "timepoint": 22.70140266418457,
           "trajectory": "Rabbits",
           "upper": 1.9942415654659271
          },
          {
           "lower": 0.7470197588205337,
           "timepoint": 22.799598693847656,
           "trajectory": "Rabbits",
           "upper": 1.9898629844188689
          },
          {
           "lower": 0.7182540386915207,
           "timepoint": 22.897796630859375,
           "trajectory": "Rabbits",
           "upper": 1.9742455959320067
          },
          {
           "lower": 0.6924134820699692,
           "timepoint": 22.99599266052246,
           "trajectory": "Rabbits",
           "upper": 1.9520539820194243
          },
          {
           "lower": 0.6701061934232712,
           "timepoint": 23.094188690185547,
           "trajectory": "Rabbits",
           "upper": 1.951135867834091
          },
          {
           "lower": 0.6516568928956985,
           "timepoint": 23.192384719848633,
           "trajectory": "Rabbits",
           "upper": 1.945321691036224
          },
          {
           "lower": 0.641685864329338,
           "timepoint": 23.29058074951172,
           "trajectory": "Rabbits",
           "upper": 1.9135046660900112
          },
          {
           "lower": 0.6342681467533111,
           "timepoint": 23.388778686523438,
           "trajectory": "Rabbits",
           "upper": 1.8663897991180416
          },
          {
           "lower": 0.6220158934593201,
           "timepoint": 23.486974716186523,
           "trajectory": "Rabbits",
           "upper": 1.8201657950878143
          },
          {
           "lower": 0.6110246002674102,
           "timepoint": 23.58517074584961,
           "trajectory": "Rabbits",
           "upper": 1.7957899630069734
          },
          {
           "lower": 0.6024056732654571,
           "timepoint": 23.683366775512695,
           "trajectory": "Rabbits",
           "upper": 1.7897957324981688
          },
          {
           "lower": 0.5948467195034027,
           "timepoint": 23.78156280517578,
           "trajectory": "Rabbits",
           "upper": 1.80155633687973
          },
          {
           "lower": 0.5786105751991272,
           "timepoint": 23.8797607421875,
           "trajectory": "Rabbits",
           "upper": 1.8087110340595243
          },
          {
           "lower": 0.5645324528217316,
           "timepoint": 23.977956771850586,
           "trajectory": "Rabbits",
           "upper": 1.7801218628883362
          },
          {
           "lower": 0.5540674448013305,
           "timepoint": 24.076152801513672,
           "trajectory": "Rabbits",
           "upper": 1.7751892149448394
          },
          {
           "lower": 0.5473203241825104,
           "timepoint": 24.174348831176758,
           "trajectory": "Rabbits",
           "upper": 1.8003147721290587
          },
          {
           "lower": 0.5480239897966385,
           "timepoint": 24.272544860839844,
           "trajectory": "Rabbits",
           "upper": 1.8223768889904022
          },
          {
           "lower": 0.54021315574646,
           "timepoint": 24.370742797851562,
           "trajectory": "Rabbits",
           "upper": 1.8227047383785249
          },
          {
           "lower": 0.5324098408222199,
           "timepoint": 24.46893882751465,
           "trajectory": "Rabbits",
           "upper": 1.8212045967578887
          },
          {
           "lower": 0.5270693153142929,
           "timepoint": 24.567134857177734,
           "trajectory": "Rabbits",
           "upper": 1.8120733976364134
          },
          {
           "lower": 0.52107774913311,
           "timepoint": 24.66533088684082,
           "trajectory": "Rabbits",
           "upper": 1.7703063786029813
          },
          {
           "lower": 0.5165954396128655,
           "timepoint": 24.763526916503906,
           "trajectory": "Rabbits",
           "upper": 1.7401071548461913
          },
          {
           "lower": 0.5104622498154641,
           "timepoint": 24.861724853515625,
           "trajectory": "Rabbits",
           "upper": 1.7071489214897153
          },
          {
           "lower": 0.5042807430028915,
           "timepoint": 24.95992088317871,
           "trajectory": "Rabbits",
           "upper": 1.6857240855693814
          },
          {
           "lower": 0.4970978781580925,
           "timepoint": 25.058116912841797,
           "trajectory": "Rabbits",
           "upper": 1.676756316423416
          },
          {
           "lower": 0.4849018916487694,
           "timepoint": 25.156312942504883,
           "trajectory": "Rabbits",
           "upper": 1.6580952823162078
          },
          {
           "lower": 0.4760160893201828,
           "timepoint": 25.25450897216797,
           "trajectory": "Rabbits",
           "upper": 1.6309352219104767
          },
          {
           "lower": 0.47461206316947935,
           "timepoint": 25.352705001831055,
           "trajectory": "Rabbits",
           "upper": 1.565701252222061
          },
          {
           "lower": 0.4717500790953636,
           "timepoint": 25.450902938842773,
           "trajectory": "Rabbits",
           "upper": 1.4927363455295564
          },
          {
           "lower": 0.4649355515837669,
           "timepoint": 25.549097061157227,
           "trajectory": "Rabbits",
           "upper": 1.427871537208557
          },
          {
           "lower": 0.4553666740655899,
           "timepoint": 25.647294998168945,
           "trajectory": "Rabbits",
           "upper": 1.3679876148700711
          },
          {
           "lower": 0.4450364723801613,
           "timepoint": 25.74549102783203,
           "trajectory": "Rabbits",
           "upper": 1.303653812408447
          },
          {
           "lower": 0.4424390897154808,
           "timepoint": 25.843687057495117,
           "trajectory": "Rabbits",
           "upper": 1.2363705337047572
          },
          {
           "lower": 0.44176057875156405,
           "timepoint": 25.941883087158203,
           "trajectory": "Rabbits",
           "upper": 1.2129586338996885
          },
          {
           "lower": 0.44264096915721896,
           "timepoint": 26.04007911682129,
           "trajectory": "Rabbits",
           "upper": 1.1858134746551512
          },
          {
           "lower": 0.444147065281868,
           "timepoint": 26.138275146484375,
           "trajectory": "Rabbits",
           "upper": 1.1125576615333557
          },
          {
           "lower": 0.4409631475806236,
           "timepoint": 26.236473083496094,
           "trajectory": "Rabbits",
           "upper": 1.0961318790912626
          },
          {
           "lower": 0.4385117799043655,
           "timepoint": 26.33466911315918,
           "trajectory": "Rabbits",
           "upper": 1.0390619158744812
          },
          {
           "lower": 0.43313329964876174,
           "timepoint": 26.432865142822266,
           "trajectory": "Rabbits",
           "upper": 1.0374710619449614
          },
          {
           "lower": 0.42651846557855605,
           "timepoint": 26.53106117248535,
           "trajectory": "Rabbits",
           "upper": 1.078562933206558
          },
          {
           "lower": 0.42028400897979734,
           "timepoint": 26.629257202148438,
           "trajectory": "Rabbits",
           "upper": 1.1212464570999146
          },
          {
           "lower": 0.41851030141115186,
           "timepoint": 26.727455139160156,
           "trajectory": "Rabbits",
           "upper": 1.1654311060905456
          },
          {
           "lower": 0.413428770005703,
           "timepoint": 26.825651168823242,
           "trajectory": "Rabbits",
           "upper": 1.2109955728054047
          },
          {
           "lower": 0.41161238849163057,
           "timepoint": 26.923847198486328,
           "trajectory": "Rabbits",
           "upper": 1.2577878415584565
          },
          {
           "lower": 0.4150161102414131,
           "timepoint": 27.022043228149414,
           "trajectory": "Rabbits",
           "upper": 1.3064170897006988
          },
          {
           "lower": 0.4207983836531639,
           "timepoint": 27.1202392578125,
           "trajectory": "Rabbits",
           "upper": 1.3561907589435578
          },
          {
           "lower": 0.4277648523449898,
           "timepoint": 27.21843719482422,
           "trajectory": "Rabbits",
           "upper": 1.4066593289375304
          },
          {
           "lower": 0.42866419106721876,
           "timepoint": 27.316633224487305,
           "trajectory": "Rabbits",
           "upper": 1.4574932754039762
          },
          {
           "lower": 0.4253242269158363,
           "timepoint": 27.41482925415039,
           "trajectory": "Rabbits",
           "upper": 1.5082980334758758
          },
          {
           "lower": 0.41685053110122683,
           "timepoint": 27.513025283813477,
           "trajectory": "Rabbits",
           "upper": 1.5586107611656186
          },
          {
           "lower": 0.41453602015972135,
           "timepoint": 27.611221313476562,
           "trajectory": "Rabbits",
           "upper": 1.6078900456428524
          },
          {
           "lower": 0.4145487532019615,
           "timepoint": 27.70941925048828,
           "trajectory": "Rabbits",
           "upper": 1.6348855912685392
          },
          {
           "lower": 0.412854041159153,
           "timepoint": 27.807615280151367,
           "trajectory": "Rabbits",
           "upper": 1.652022325992584
          },
          {
           "lower": 0.40423967093229296,
           "timepoint": 27.905811309814453,
           "trajectory": "Rabbits",
           "upper": 1.6629717230796812
          },
          {
           "lower": 0.39665575325489044,
           "timepoint": 28.00400733947754,
           "trajectory": "Rabbits",
           "upper": 1.6671080231666564
          },
          {
           "lower": 0.3907979890704155,
           "timepoint": 28.102203369140625,
           "trajectory": "Rabbits",
           "upper": 1.6639088928699493
          },
          {
           "lower": 0.3935821086168289,
           "timepoint": 28.200401306152344,
           "trajectory": "Rabbits",
           "upper": 1.6557608664035797
          },
          {
           "lower": 0.39856401085853577,
           "timepoint": 28.29859733581543,
           "trajectory": "Rabbits",
           "upper": 1.639836424589157
          },
          {
           "lower": 0.404674831032753,
           "timepoint": 28.396793365478516,
           "trajectory": "Rabbits",
           "upper": 1.629011660814285
          },
          {
           "lower": 0.41125942319631575,
           "timepoint": 28.4949893951416,
           "trajectory": "Rabbits",
           "upper": 1.616130632162094
          },
          {
           "lower": 0.4133000984787941,
           "timepoint": 28.593185424804688,
           "trajectory": "Rabbits",
           "upper": 1.6224951922893522
          },
          {
           "lower": 0.41600040942430494,
           "timepoint": 28.691381454467773,
           "trajectory": "Rabbits",
           "upper": 1.604687875509262
          },
          {
           "lower": 0.419818215072155,
           "timepoint": 28.789579391479492,
           "trajectory": "Rabbits",
           "upper": 1.5689333200454711
          },
          {
           "lower": 0.4247225522994995,
           "timepoint": 28.887775421142578,
           "trajectory": "Rabbits",
           "upper": 1.605749088525772
          },
          {
           "lower": 0.43069083243608475,
           "timepoint": 28.985971450805664,
           "trajectory": "Rabbits",
           "upper": 1.6541750848293302
          },
          {
           "lower": 0.4377057060599327,
           "timepoint": 29.08416748046875,
           "trajectory": "Rabbits",
           "upper": 1.700001937150955
          },
          {
           "lower": 0.44575624018907545,
           "timepoint": 29.182363510131836,
           "trajectory": "Rabbits",
           "upper": 1.732171511650085
          },
          {
           "lower": 0.4548378333449364,
           "timepoint": 29.280561447143555,
           "trajectory": "Rabbits",
           "upper": 1.7420642554759977
          },
          {
           "lower": 0.4649491384625435,
           "timepoint": 29.37875747680664,
           "trajectory": "Rabbits",
           "upper": 1.7516489982604981
          },
          {
           "lower": 0.47579763233661654,
           "timepoint": 29.476953506469727,
           "trajectory": "Rabbits",
           "upper": 1.7386007368564604
          },
          {
           "lower": 0.4891229450702667,
           "timepoint": 29.575149536132812,
           "trajectory": "Rabbits",
           "upper": 1.7452050268650054
          },
          {
           "lower": 0.5040813356637954,
           "timepoint": 29.6733455657959,
           "trajectory": "Rabbits",
           "upper": 1.7711842000484466
          },
          {
           "lower": 0.5201665133237838,
           "timepoint": 29.771543502807617,
           "trajectory": "Rabbits",
           "upper": 1.8023575127124785
          },
          {
           "lower": 0.5374025821685791,
           "timepoint": 29.869739532470703,
           "trajectory": "Rabbits",
           "upper": 1.8451899886131284
          },
          {
           "lower": 0.5558172702789307,
           "timepoint": 29.96793556213379,
           "trajectory": "Rabbits",
           "upper": 1.8826105952262877
          },
          {
           "lower": 0.5754400938749313,
           "timepoint": 30.066131591796875,
           "trajectory": "Rabbits",
           "upper": 1.8895355403423308
          },
          {
           "lower": 0.5963023632764817,
           "timepoint": 30.16432762145996,
           "trajectory": "Rabbits",
           "upper": 1.8820030152797698
          },
          {
           "lower": 0.6184376865625382,
           "timepoint": 30.26252555847168,
           "trajectory": "Rabbits",
           "upper": 1.9074315130710602
          },
          {
           "lower": 0.6331823855638504,
           "timepoint": 30.360721588134766,
           "trajectory": "Rabbits",
           "upper": 1.9259164452552795
          },
          {
           "lower": 0.6396550983190536,
           "timepoint": 30.45891761779785,
           "trajectory": "Rabbits",
           "upper": 1.9575332403182983
          },
          {
           "lower": 0.6352047085762024,
           "timepoint": 30.557113647460938,
           "trajectory": "Rabbits",
           "upper": 1.9521862268447876
          },
          {
           "lower": 0.6227093160152435,
           "timepoint": 30.655309677124023,
           "trajectory": "Rabbits",
           "upper": 1.9816403448581696
          },
          {
           "lower": 0.6086790233850479,
           "timepoint": 30.75350570678711,
           "trajectory": "Rabbits",
           "upper": 1.9924682796001434
          },
          {
           "lower": 0.600580582022667,
           "timepoint": 30.851703643798828,
           "trajectory": "Rabbits",
           "upper": 1.9912116348743438
          },
          {
           "lower": 0.6105746477842331,
           "timepoint": 30.949899673461914,
           "trajectory": "Rabbits",
           "upper": 1.9789631009101867
          },
          {
           "lower": 0.6185706049203873,
           "timepoint": 31.048095703125,
           "trajectory": "Rabbits",
           "upper": 1.9551160156726834
          },
          {
           "lower": 0.6101013958454132,
           "timepoint": 31.146291732788086,
           "trajectory": "Rabbits",
           "upper": 1.9200285851955412
          },
          {
           "lower": 0.6034355491399765,
           "timepoint": 31.244487762451172,
           "trajectory": "Rabbits",
           "upper": 1.9168525636196136
          },
          {
           "lower": 0.5982402086257934,
           "timepoint": 31.34268569946289,
           "trajectory": "Rabbits",
           "upper": 1.91293408870697
          },
          {
           "lower": 0.5867925018072129,
           "timepoint": 31.440881729125977,
           "trajectory": "Rabbits",
           "upper": 1.9078599810600276
          },
          {
           "lower": 0.5724489957094192,
           "timepoint": 31.539077758789062,
           "trajectory": "Rabbits",
           "upper": 1.8693072557449337
          },
          {
           "lower": 0.5638573288917541,
           "timepoint": 31.63727378845215,
           "trajectory": "Rabbits",
           "upper": 1.8201348185539243
          },
          {
           "lower": 0.5624638974666596,
           "timepoint": 31.735469818115234,
           "trajectory": "Rabbits",
           "upper": 1.7697234213352202
          },
          {
           "lower": 0.5507203966379166,
           "timepoint": 31.833667755126953,
           "trajectory": "Rabbits",
           "upper": 1.7301194071769714
          },
          {
           "lower": 0.5544991075992585,
           "timepoint": 31.93186378479004,
           "trajectory": "Rabbits",
           "upper": 1.7313940346240997
          },
          {
           "lower": 0.560020101070404,
           "timepoint": 32.030059814453125,
           "trajectory": "Rabbits",
           "upper": 1.7541727066040038
          },
          {
           "lower": 0.554255124926567,
           "timepoint": 32.128257751464844,
           "trajectory": "Rabbits",
           "upper": 1.7718619644641875
          },
          {
           "lower": 0.5480907291173935,
           "timepoint": 32.2264518737793,
           "trajectory": "Rabbits",
           "upper": 1.7652491748332975
          },
          {
           "lower": 0.5356627881526947,
           "timepoint": 32.324649810791016,
           "trajectory": "Rabbits",
           "upper": 1.7113009810447692
          },
          {
           "lower": 0.5229950040578842,
           "timepoint": 32.42284393310547,
           "trajectory": "Rabbits",
           "upper": 1.7353079974651335
          },
          {
           "lower": 0.5182398110628128,
           "timepoint": 32.52104187011719,
           "trajectory": "Rabbits",
           "upper": 1.756126809120178
          },
          {
           "lower": 0.5166056036949158,
           "timepoint": 32.619239807128906,
           "trajectory": "Rabbits",
           "upper": 1.769816994667053
          },
          {
           "lower": 0.5164867341518402,
           "timepoint": 32.71743392944336,
           "trajectory": "Rabbits",
           "upper": 1.7754958629608153
          },
          {
           "lower": 0.515685823559761,
           "timepoint": 32.81563186645508,
           "trajectory": "Rabbits",
           "upper": 1.7829261362552642
          },
          {
           "lower": 0.5072418957948684,
           "timepoint": 32.91382598876953,
           "trajectory": "Rabbits",
           "upper": 1.7994502186775208
          },
          {
           "lower": 0.4941129207611084,
           "timepoint": 33.01202392578125,
           "trajectory": "Rabbits",
           "upper": 1.8093173563480378
          },
          {
           "lower": 0.4832419604063034,
           "timepoint": 33.11022186279297,
           "trajectory": "Rabbits",
           "upper": 1.814925742149353
          },
          {
           "lower": 0.47836018800735475,
           "timepoint": 33.20841598510742,
           "trajectory": "Rabbits",
           "upper": 1.7878687262535093
          },
          {
           "lower": 0.4781149536371231,
           "timepoint": 33.306610107421875,
           "trajectory": "Rabbits",
           "upper": 1.742596834897995
          },
          {
           "lower": 0.47555607110261916,
           "timepoint": 33.404808044433594,
           "trajectory": "Rabbits",
           "upper": 1.721788442134857
          },
          {
           "lower": 0.46873447448015215,
           "timepoint": 33.50300598144531,
           "trajectory": "Rabbits",
           "upper": 1.6993482708930967
          },
          {
           "lower": 0.4732772186398506,
           "timepoint": 33.60120391845703,
           "trajectory": "Rabbits",
           "upper": 1.6743481099605557
          },
          {
           "lower": 0.468516506254673,
           "timepoint": 33.699398040771484,
           "trajectory": "Rabbits",
           "upper": 1.673043769598007
          },
          {
           "lower": 0.4522621363401413,
           "timepoint": 33.79759216308594,
           "trajectory": "Rabbits",
           "upper": 1.662751567363739
          },
          {
           "lower": 0.4430853143334389,
           "timepoint": 33.895790100097656,
           "trajectory": "Rabbits",
           "upper": 1.64410360455513
          },
          {
           "lower": 0.4432558551430702,
           "timepoint": 33.993988037109375,
           "trajectory": "Rabbits",
           "upper": 1.5930341601371765
          },
          {
           "lower": 0.445137058198452,
           "timepoint": 34.092185974121094,
           "trajectory": "Rabbits",
           "upper": 1.5551829457283017
          },
          {
           "lower": 0.4464197546243668,
           "timepoint": 34.19038009643555,
           "trajectory": "Rabbits",
           "upper": 1.5624677062034602
          },
          {
           "lower": 0.4474971190094948,
           "timepoint": 34.288578033447266,
           "trajectory": "Rabbits",
           "upper": 1.5318945050239559
          },
          {
           "lower": 0.4469641879200935,
           "timepoint": 34.38677215576172,
           "trajectory": "Rabbits",
           "upper": 1.5298158288002013
          },
          {
           "lower": 0.44488638937473296,
           "timepoint": 34.48497009277344,
           "trajectory": "Rabbits",
           "upper": 1.4993150174617766
          },
          {
           "lower": 0.4385147958993912,
           "timepoint": 34.583168029785156,
           "trajectory": "Rabbits",
           "upper": 1.429887247085571
          },
          {
           "lower": 0.4331304594874382,
           "timepoint": 34.68136215209961,
           "trajectory": "Rabbits",
           "upper": 1.4057254314422607
          },
          {
           "lower": 0.42956598550081254,
           "timepoint": 34.77956008911133,
           "trajectory": "Rabbits",
           "upper": 1.4403165519237517
          },
          {
           "lower": 0.4253564924001694,
           "timepoint": 34.87775421142578,
           "trajectory": "Rabbits",
           "upper": 1.4883637964725493
          },
          {
           "lower": 0.4244931101799011,
           "timepoint": 34.9759521484375,
           "trajectory": "Rabbits",
           "upper": 1.5368669986724852
          },
          {
           "lower": 0.4283281609416008,
           "timepoint": 35.07415008544922,
           "trajectory": "Rabbits",
           "upper": 1.5852935135364532
          },
          {
           "lower": 0.42513045519590376,
           "timepoint": 35.17234420776367,
           "trajectory": "Rabbits",
           "upper": 1.632164007425308
          },
          {
           "lower": 0.4200458973646164,
           "timepoint": 35.27054214477539,
           "trajectory": "Rabbits",
           "upper": 1.6576512217521666
          },
          {
           "lower": 0.42672457695007326,
           "timepoint": 35.368736267089844,
           "trajectory": "Rabbits",
           "upper": 1.6621334195137023
          },
          {
           "lower": 0.4345822066068649,
           "timepoint": 35.46693420410156,
           "trajectory": "Rabbits",
           "upper": 1.6594287574291229
          },
          {
           "lower": 0.4436092182993889,
           "timepoint": 35.56513214111328,
           "trajectory": "Rabbits",
           "upper": 1.6523966014385223
          },
          {
           "lower": 0.45380297005176545,
           "timepoint": 35.663326263427734,
           "trajectory": "Rabbits",
           "upper": 1.6378264129161832
          },
          {
           "lower": 0.4610008031129837,
           "timepoint": 35.76152038574219,
           "trajectory": "Rabbits",
           "upper": 1.6328679680824278
          },
          {
           "lower": 0.4575705140829086,
           "timepoint": 35.859718322753906,
           "trajectory": "Rabbits",
           "upper": 1.6230205595493314
          },
          {
           "lower": 0.4455138087272644,
           "timepoint": 35.957916259765625,
           "trajectory": "Rabbits",
           "upper": 1.6049207866191864
          },
          {
           "lower": 0.43511883020401,
           "timepoint": 36.056114196777344,
           "trajectory": "Rabbits",
           "upper": 1.578563404083252
          },
          {
           "lower": 0.42818028330802915,
           "timepoint": 36.1543083190918,
           "trajectory": "Rabbits",
           "upper": 1.560998100042343
          },
          {
           "lower": 0.42777920365333555,
           "timepoint": 36.25250244140625,
           "trajectory": "Rabbits",
           "upper": 1.503386640548706
          },
          {
           "lower": 0.42754523903131486,
           "timepoint": 36.35070037841797,
           "trajectory": "Rabbits",
           "upper": 1.480780619382858
          },
          {
           "lower": 0.4262489452958107,
           "timepoint": 36.44889831542969,
           "trajectory": "Rabbits",
           "upper": 1.5112244009971618
          },
          {
           "lower": 0.4160794273018837,
           "timepoint": 36.547096252441406,
           "trajectory": "Rabbits",
           "upper": 1.5504247188568114
          },
          {
           "lower": 0.4073982730507851,
           "timepoint": 36.64529037475586,
           "trajectory": "Rabbits",
           "upper": 1.5913909077644346
          },
          {
           "lower": 0.4004003912210464,
           "timepoint": 36.74348449707031,
           "trajectory": "Rabbits",
           "upper": 1.6403545439243314
          },
          {
           "lower": 0.4014432460069656,
           "timepoint": 36.84168243408203,
           "trajectory": "Rabbits",
           "upper": 1.6869548618793484
          },
          {
           "lower": 0.406353235244751,
           "timepoint": 36.93988037109375,
           "trajectory": "Rabbits",
           "upper": 1.7125972688198088
          },
          {
           "lower": 0.4120946392416954,
           "timepoint": 37.0380744934082,
           "trajectory": "Rabbits",
           "upper": 1.6813135623931883
          },
          {
           "lower": 0.41201861947774887,
           "timepoint": 37.13627243041992,
           "trajectory": "Rabbits",
           "upper": 1.695450896024704
          },
          {
           "lower": 0.4131871834397316,
           "timepoint": 37.234466552734375,
           "trajectory": "Rabbits",
           "upper": 1.704049777984619
          },
          {
           "lower": 0.4150891095399857,
           "timepoint": 37.332664489746094,
           "trajectory": "Rabbits",
           "upper": 1.7009122908115384
          },
          {
           "lower": 0.4178817912936211,
           "timepoint": 37.43086242675781,
           "trajectory": "Rabbits",
           "upper": 1.725430756807327
          },
          {
           "lower": 0.42179676443338393,
           "timepoint": 37.529056549072266,
           "trajectory": "Rabbits",
           "upper": 1.7459316432476044
          },
          {
           "lower": 0.4268047958612442,
           "timepoint": 37.627254486083984,
           "trajectory": "Rabbits",
           "upper": 1.76577513217926
          },
          {
           "lower": 0.4328827723860741,
           "timepoint": 37.72544860839844,
           "trajectory": "Rabbits",
           "upper": 1.8066574811935423
          },
          {
           "lower": 0.4390408143401146,
           "timepoint": 37.823646545410156,
           "trajectory": "Rabbits",
           "upper": 1.8490019261837003
          },
          {
           "lower": 0.4459463968873024,
           "timepoint": 37.921844482421875,
           "trajectory": "Rabbits",
           "upper": 1.8599211990833282
          },
          {
           "lower": 0.4538986936211586,
           "timepoint": 38.02003860473633,
           "trajectory": "Rabbits",
           "upper": 1.8497736155986784
          },
          {
           "lower": 0.4651094362139702,
           "timepoint": 38.11823654174805,
           "trajectory": "Rabbits",
           "upper": 1.8601066946983336
          },
          {
           "lower": 0.4780843734741211,
           "timepoint": 38.2164306640625,
           "trajectory": "Rabbits",
           "upper": 1.8876757025718687
          },
          {
           "lower": 0.492148357629776,
           "timepoint": 38.31462860107422,
           "trajectory": "Rabbits",
           "upper": 1.9079487442970275
          },
          {
           "lower": 0.5073222741484642,
           "timepoint": 38.41282653808594,
           "trajectory": "Rabbits",
           "upper": 1.9209326088428498
          },
          {
           "lower": 0.5236279129981994,
           "timepoint": 38.51102066040039,
           "trajectory": "Rabbits",
           "upper": 1.9155714392662049
          },
          {
           "lower": 0.5333443999290466,
           "timepoint": 38.60921859741211,
           "trajectory": "Rabbits",
           "upper": 1.9256284475326537
          },
          {
           "lower": 0.5407276719808578,
           "timepoint": 38.70741271972656,
           "trajectory": "Rabbits",
           "upper": 1.9541174590587616
          },
          {
           "lower": 0.5475086867809296,
           "timepoint": 38.80561065673828,
           "trajectory": "Rabbits",
           "upper": 1.978466236591339
          },
          {
           "lower": 0.5465062320232391,
           "timepoint": 38.90380859375,
           "trajectory": "Rabbits",
           "upper": 1.9914168894290922
          },
          {
           "lower": 0.5525976806879044,
           "timepoint": 39.00200271606445,
           "trajectory": "Rabbits",
           "upper": 1.9824489414691924
          },
          {
           "lower": 0.5636728644371033,
           "timepoint": 39.10020065307617,
           "trajectory": "Rabbits",
           "upper": 1.9620773255825041
          },
          {
           "lower": 0.5675195813179016,
           "timepoint": 39.198394775390625,
           "trajectory": "Rabbits",
           "upper": 1.929941552877426
          },
          {
           "lower": 0.5573868989944458,
           "timepoint": 39.296592712402344,
           "trajectory": "Rabbits",
           "upper": 1.8860995233058926
          },
          {
           "lower": 0.5549980401992798,
           "timepoint": 39.39479064941406,
           "trajectory": "Rabbits",
           "upper": 1.8778917074203492
          },
          {
           "lower": 0.5580355763435364,
           "timepoint": 39.492984771728516,
           "trajectory": "Rabbits",
           "upper": 1.8730241835117338
          },
          {
           "lower": 0.5666703373193741,
           "timepoint": 39.591182708740234,
           "trajectory": "Rabbits",
           "upper": 1.8939713478088376
          },
          {
           "lower": 0.5745903313159942,
           "timepoint": 39.68937683105469,
           "trajectory": "Rabbits",
           "upper": 1.8707408785820006
          },
          {
           "lower": 0.5794445455074311,
           "timepoint": 39.787574768066406,
           "trajectory": "Rabbits",
           "upper": 1.8239542603492735
          },
          {
           "lower": 0.5653527587652206,
           "timepoint": 39.885772705078125,
           "trajectory": "Rabbits",
           "upper": 1.7833893656730653
          },
          {
           "lower": 0.5516872137784958,
           "timepoint": 39.98396682739258,
           "trajectory": "Rabbits",
           "upper": 1.7533719480037688
          },
          {
           "lower": 0.5397428452968598,
           "timepoint": 40.0821647644043,
           "trajectory": "Rabbits",
           "upper": 1.697965383529663
          },
          {
           "lower": 0.5263006567955018,
           "timepoint": 40.18035888671875,
           "trajectory": "Rabbits",
           "upper": 1.6832296729087828
          },
          {
           "lower": 0.5212005943059921,
           "timepoint": 40.27855682373047,
           "trajectory": "Rabbits",
           "upper": 1.65513117313385
          },
          {
           "lower": 0.5204062521457672,
           "timepoint": 40.37675476074219,
           "trajectory": "Rabbits",
           "upper": 1.6790795803070069
          },
          {
           "lower": 0.5212742745876312,
           "timepoint": 40.47494888305664,
           "trajectory": "Rabbits",
           "upper": 1.7225245833396912
          },
          {
           "lower": 0.5229991644620895,
           "timepoint": 40.57314682006836,
           "trajectory": "Rabbits",
           "upper": 1.730085062980652
          },
          {
           "lower": 0.522838044166565,
           "timepoint": 40.67134094238281,
           "trajectory": "Rabbits",
           "upper": 1.694386202096939
          },
          {
           "lower": 0.5160812020301819,
           "timepoint": 40.76953887939453,
           "trajectory": "Rabbits",
           "upper": 1.6922270357608795
          },
          {
           "lower": 0.5036900967359543,
           "timepoint": 40.86773681640625,
           "trajectory": "Rabbits",
           "upper": 1.7067781984806059
          },
          {
           "lower": 0.49137296676635744,
           "timepoint": 40.9659309387207,
           "trajectory": "Rabbits",
           "upper": 1.730581349134445
          },
          {
           "lower": 0.48303412944078444,
           "timepoint": 41.06412887573242,
           "trajectory": "Rabbits",
           "upper": 1.7478553891181945
          },
          {
           "lower": 0.48240396082401277,
           "timepoint": 41.162322998046875,
           "trajectory": "Rabbits",
           "upper": 1.7600879192352294
          },
          {
           "lower": 0.478350593149662,
           "timepoint": 41.260520935058594,
           "trajectory": "Rabbits",
           "upper": 1.764333701133728
          },
          {
           "lower": 0.4821579858660698,
           "timepoint": 41.35871887207031,
           "trajectory": "Rabbits",
           "upper": 1.7599210083484647
          },
          {
           "lower": 0.47911573350429537,
           "timepoint": 41.456912994384766,
           "trajectory": "Rabbits",
           "upper": 1.776980400085449
          },
          {
           "lower": 0.4739988923072815,
           "timepoint": 41.555110931396484,
           "trajectory": "Rabbits",
           "upper": 1.786699366569519
          },
          {
           "lower": 0.4728016659617424,
           "timepoint": 41.65330505371094,
           "trajectory": "Rabbits",
           "upper": 1.785502678155899
          },
          {
           "lower": 0.47174362689256666,
           "timepoint": 41.751502990722656,
           "trajectory": "Rabbits",
           "upper": 1.7991522669792175
          },
          {
           "lower": 0.46309907287359237,
           "timepoint": 41.849700927734375,
           "trajectory": "Rabbits",
           "upper": 1.7694347620010376
          },
          {
           "lower": 0.44931227415800096,
           "timepoint": 41.94789505004883,
           "trajectory": "Rabbits",
           "upper": 1.780850529670715
          },
          {
           "lower": 0.44567641615867615,
           "timepoint": 42.04609298706055,
           "trajectory": "Rabbits",
           "upper": 1.8043862819671628
          },
          {
           "lower": 0.44674141258001326,
           "timepoint": 42.144287109375,
           "trajectory": "Rabbits",
           "upper": 1.800585466623306
          },
          {
           "lower": 0.44667655378580096,
           "timepoint": 42.24248504638672,
           "trajectory": "Rabbits",
           "upper": 1.7862511932849883
          },
          {
           "lower": 0.4480611220002174,
           "timepoint": 42.34068298339844,
           "trajectory": "Rabbits",
           "upper": 1.7608599722385405
          },
          {
           "lower": 0.4508348643779755,
           "timepoint": 42.43887710571289,
           "trajectory": "Rabbits",
           "upper": 1.724252951145172
          },
          {
           "lower": 0.45494675934314727,
           "timepoint": 42.53707504272461,
           "trajectory": "Rabbits",
           "upper": 1.6898755848407745
          },
          {
           "lower": 0.45285946875810623,
           "timepoint": 42.63526916503906,
           "trajectory": "Rabbits",
           "upper": 1.6663192331790924
          },
          {
           "lower": 0.44594485461711886,
           "timepoint": 42.73346710205078,
           "trajectory": "Rabbits",
           "upper": 1.6706449449062346
          },
          {
           "lower": 0.4385737970471382,
           "timepoint": 42.8316650390625,
           "trajectory": "Rabbits",
           "upper": 1.69396036863327
          },
          {
           "lower": 0.43317885547876356,
           "timepoint": 42.92985916137695,
           "trajectory": "Rabbits",
           "upper": 1.701903975009918
          },
          {
           "lower": 0.42960587739944456,
           "timepoint": 43.02805709838867,
           "trajectory": "Rabbits",
           "upper": 1.6650055527687073
          },
          {
           "lower": 0.4296691849827766,
           "timepoint": 43.126251220703125,
           "trajectory": "Rabbits",
           "upper": 1.634255015850067
          },
          {
           "lower": 0.4290746435523033,
           "timepoint": 43.224449157714844,
           "trajectory": "Rabbits",
           "upper": 1.6288334131240843
          },
          {
           "lower": 0.4286207392811775,
           "timepoint": 43.32264709472656,
           "trajectory": "Rabbits",
           "upper": 1.6152874886989592
          },
          {
           "lower": 0.4312332525849342,
           "timepoint": 43.420841217041016,
           "trajectory": "Rabbits",
           "upper": 1.5934741914272308
          },
          {
           "lower": 0.43520423769950867,
           "timepoint": 43.519039154052734,
           "trajectory": "Rabbits",
           "upper": 1.563509178161621
          },
          {
           "lower": 0.4337076425552368,
           "timepoint": 43.61723327636719,
           "trajectory": "Rabbits",
           "upper": 1.5209748685359954
          },
          {
           "lower": 0.44245827943086624,
           "timepoint": 43.715431213378906,
           "trajectory": "Rabbits",
           "upper": 1.483392971754074
          },
          {
           "lower": 0.45230783224105836,
           "timepoint": 43.813629150390625,
           "trajectory": "Rabbits",
           "upper": 1.4413735747337342
          },
          {
           "lower": 0.4630254492163658,
           "timepoint": 43.91182327270508,
           "trajectory": "Rabbits",
           "upper": 1.4341596007347106
          },
          {
           "lower": 0.47416217923164367,
           "timepoint": 44.0100212097168,
           "trajectory": "Rabbits",
           "upper": 1.4368768870830533
          },
          {
           "lower": 0.47718397676944735,
           "timepoint": 44.10821533203125,
           "trajectory": "Rabbits",
           "upper": 1.4758596479892727
          },
          {
           "lower": 0.47828148752450944,
           "timepoint": 44.20641326904297,
           "trajectory": "Rabbits",
           "upper": 1.5129901826381682
          },
          {
           "lower": 0.4808869779109955,
           "timepoint": 44.30461120605469,
           "trajectory": "Rabbits",
           "upper": 1.5477491676807402
          },
          {
           "lower": 0.4719135418534279,
           "timepoint": 44.40280532836914,
           "trajectory": "Rabbits",
           "upper": 1.582797646522522
          },
          {
           "lower": 0.4590594068169594,
           "timepoint": 44.50100326538086,
           "trajectory": "Rabbits",
           "upper": 1.6263654887676238
          },
          {
           "lower": 0.44851022213697433,
           "timepoint": 44.59919738769531,
           "trajectory": "Rabbits",
           "upper": 1.6408966422080993
          },
          {
           "lower": 0.44312494844198225,
           "timepoint": 44.69739532470703,
           "trajectory": "Rabbits",
           "upper": 1.633244502544403
          },
          {
           "lower": 0.443962661921978,
           "timepoint": 44.795589447021484,
           "trajectory": "Rabbits",
           "upper": 1.6598603188991543
          },
          {
           "lower": 0.43872047662734986,
           "timepoint": 44.8937873840332,
           "trajectory": "Rabbits",
           "upper": 1.6537000775337218
          },
          {
           "lower": 0.4330864563584328,
           "timepoint": 44.99198532104492,
           "trajectory": "Rabbits",
           "upper": 1.6327678859233856
          },
          {
           "lower": 0.4272132471203804,
           "timepoint": 45.090179443359375,
           "trajectory": "Rabbits",
           "upper": 1.6633822619915006
          },
          {
           "lower": 0.4229541838169098,
           "timepoint": 45.188377380371094,
           "trajectory": "Rabbits",
           "upper": 1.68935130238533
          },
          {
           "lower": 0.42015309184789656,
           "timepoint": 45.28657150268555,
           "trajectory": "Rabbits",
           "upper": 1.7020507633686062
          },
          {
           "lower": 0.4154145985841751,
           "timepoint": 45.384769439697266,
           "trajectory": "Rabbits",
           "upper": 1.719242763519287
          },
          {
           "lower": 0.41348221302032473,
           "timepoint": 45.482967376708984,
           "trajectory": "Rabbits",
           "upper": 1.7336568772792815
          },
          {
           "lower": 0.4150035724043846,
           "timepoint": 45.58116149902344,
           "trajectory": "Rabbits",
           "upper": 1.764562529325485
          },
          {
           "lower": 0.4149696618318558,
           "timepoint": 45.679359436035156,
           "trajectory": "Rabbits",
           "upper": 1.8108898639678952
          },
          {
           "lower": 0.41395452320575715,
           "timepoint": 45.77755355834961,
           "trajectory": "Rabbits",
           "upper": 1.824523389339447
          },
          {
           "lower": 0.4140619054436684,
           "timepoint": 45.87575149536133,
           "trajectory": "Rabbits",
           "upper": 1.813973444700241
          },
          {
           "lower": 0.41541619300842286,
           "timepoint": 45.97394943237305,
           "trajectory": "Rabbits",
           "upper": 1.8230098664760586
          },
          {
           "lower": 0.4171424895524979,
           "timepoint": 46.0721435546875,
           "trajectory": "Rabbits",
           "upper": 1.8459568142890928
          },
          {
           "lower": 0.42002087384462355,
           "timepoint": 46.17034149169922,
           "trajectory": "Rabbits",
           "upper": 1.8654019176959988
          },
          {
           "lower": 0.42402760237455367,
           "timepoint": 46.26853561401367,
           "trajectory": "Rabbits",
           "upper": 1.8877334773540495
          },
          {
           "lower": 0.42738759964704515,
           "timepoint": 46.36673355102539,
           "trajectory": "Rabbits",
           "upper": 1.902269196510315
          },
          {
           "lower": 0.4318558230996132,
           "timepoint": 46.46493148803711,
           "trajectory": "Rabbits",
           "upper": 1.8940174400806427
          },
          {
           "lower": 0.43740634620189667,
           "timepoint": 46.56312561035156,
           "trajectory": "Rabbits",
           "upper": 1.8821656048297881
          },
          {
           "lower": 0.4447771281003952,
           "timepoint": 46.66132354736328,
           "trajectory": "Rabbits",
           "upper": 1.882305562496185
          },
          {
           "lower": 0.4558165818452835,
           "timepoint": 46.759517669677734,
           "trajectory": "Rabbits",
           "upper": 1.9225153148174283
          },
          {
           "lower": 0.4679217264056206,
           "timepoint": 46.85771560668945,
           "trajectory": "Rabbits",
           "upper": 1.9554853141307829
          },
          {
           "lower": 0.48110533952713014,
           "timepoint": 46.95591354370117,
           "trajectory": "Rabbits",
           "upper": 1.9698303520679474
          },
          {
           "lower": 0.49538414031267164,
           "timepoint": 47.054107666015625,
           "trajectory": "Rabbits",
           "upper": 1.9792747676372526
          },
          {
           "lower": 0.5080586045980453,
           "timepoint": 47.152305603027344,
           "trajectory": "Rabbits",
           "upper": 1.967767035961151
          },
          {
           "lower": 0.5129945755004883,
           "timepoint": 47.2504997253418,
           "trajectory": "Rabbits",
           "upper": 1.9391654551029203
          },
          {
           "lower": 0.5108693033456803,
           "timepoint": 47.348697662353516,
           "trajectory": "Rabbits",
           "upper": 1.8988539218902585
          },
          {
           "lower": 0.4991100400686264,
           "timepoint": 47.44689178466797,
           "trajectory": "Rabbits",
           "upper": 1.8478488326072688
          },
          {
           "lower": 0.5031557589769363,
           "timepoint": 47.54508972167969,
           "trajectory": "Rabbits",
           "upper": 1.8340315818786619
          },
          {
           "lower": 0.5088341951370239,
           "timepoint": 47.643287658691406,
           "trajectory": "Rabbits",
           "upper": 1.8401550590991973
          },
          {
           "lower": 0.5159552216529846,
           "timepoint": 47.74148178100586,
           "trajectory": "Rabbits",
           "upper": 1.8687605321407317
          },
          {
           "lower": 0.5092094346880913,
           "timepoint": 47.83967971801758,
           "trajectory": "Rabbits",
           "upper": 1.8707273721694944
          },
          {
           "lower": 0.5044783890247345,
           "timepoint": 47.93787384033203,
           "trajectory": "Rabbits",
           "upper": 1.8262719750404357
          },
          {
           "lower": 0.5081981033086777,
           "timepoint": 48.03607177734375,
           "trajectory": "Rabbits",
           "upper": 1.792725670337677
          },
          {
           "lower": 0.5200009018182754,
           "timepoint": 48.13426971435547,
           "trajectory": "Rabbits",
           "upper": 1.774888491630554
          },
          {
           "lower": 0.5272310882806778,
           "timepoint": 48.23246383666992,
           "trajectory": "Rabbits",
           "upper": 1.715480238199234
          },
          {
           "lower": 0.5269260108470917,
           "timepoint": 48.33066177368164,
           "trajectory": "Rabbits",
           "upper": 1.6720775485038757
          },
          {
           "lower": 0.5233244180679322,
           "timepoint": 48.428855895996094,
           "trajectory": "Rabbits",
           "upper": 1.6669860184192655
          },
          {
           "lower": 0.5214826852083206,
           "timepoint": 48.52705383300781,
           "trajectory": "Rabbits",
           "upper": 1.630444073677063
          },
          {
           "lower": 0.5193063199520112,
           "timepoint": 48.62525177001953,
           "trajectory": "Rabbits",
           "upper": 1.5780684947967527
          },
          {
           "lower": 0.5129514932632446,
           "timepoint": 48.723445892333984,
           "trajectory": "Rabbits",
           "upper": 1.5786680579185486
          },
          {
           "lower": 0.500324958562851,
           "timepoint": 48.8216438293457,
           "trajectory": "Rabbits",
           "upper": 1.6250803112983703
          },
          {
           "lower": 0.488868248462677,
           "timepoint": 48.919837951660156,
           "trajectory": "Rabbits",
           "upper": 1.6607791423797607
          },
          {
           "lower": 0.486769101023674,
           "timepoint": 49.018035888671875,
           "trajectory": "Rabbits",
           "upper": 1.6902902007102965
          },
          {
           "lower": 0.48539797216653824,
           "timepoint": 49.116233825683594,
           "trajectory": "Rabbits",
           "upper": 1.6994019508361815
          },
          {
           "lower": 0.4866256728768349,
           "timepoint": 49.21442794799805,
           "trajectory": "Rabbits",
           "upper": 1.7332690715789794
          },
          {
           "lower": 0.48455681949853896,
           "timepoint": 49.312625885009766,
           "trajectory": "Rabbits",
           "upper": 1.7707481265068052
          },
          {
           "lower": 0.48429418802261354,
           "timepoint": 49.41082000732422,
           "trajectory": "Rabbits",
           "upper": 1.792945963144302
          },
          {
           "lower": 0.4749647453427315,
           "timepoint": 49.50901794433594,
           "trajectory": "Rabbits",
           "upper": 1.8070252597331997
          },
          {
           "lower": 0.4730565622448921,
           "timepoint": 49.607215881347656,
           "trajectory": "Rabbits",
           "upper": 1.812970924377441
          },
          {
           "lower": 0.4718085706233978,
           "timepoint": 49.70541000366211,
           "trajectory": "Rabbits",
           "upper": 1.8213407933712003
          },
          {
           "lower": 0.46968354731798173,
           "timepoint": 49.80360794067383,
           "trajectory": "Rabbits",
           "upper": 1.830135244131088
          },
          {
           "lower": 0.46901567131280897,
           "timepoint": 49.90180206298828,
           "trajectory": "Rabbits",
           "upper": 1.8315934181213378
          },
          {
           "lower": 0.45796349793672564,
           "timepoint": 50,
           "trajectory": "Rabbits",
           "upper": 1.8251835584640501
          },
          {
           "lower": 0.6978829830884934,
           "timepoint": 1,
           "trajectory": "Wolves",
           "upper": 0.8785625755786896
          },
          {
           "lower": 0.6641233384609222,
           "timepoint": 1.0981963872909546,
           "trajectory": "Wolves",
           "upper": 0.8490899831056594
          },
          {
           "lower": 0.6312833309173584,
           "timepoint": 1.1963927745819092,
           "trajectory": "Wolves",
           "upper": 0.8187080174684525
          },
          {
           "lower": 0.5993284106254577,
           "timepoint": 1.2945891618728638,
           "trajectory": "Wolves",
           "upper": 0.7882281363010406
          },
          {
           "lower": 0.5684530228376389,
           "timepoint": 1.3927855491638184,
           "trajectory": "Wolves",
           "upper": 0.7585157841444015
          },
          {
           "lower": 0.5389212429523468,
           "timepoint": 1.490981936454773,
           "trajectory": "Wolves",
           "upper": 0.728909558057785
          },
          {
           "lower": 0.508569210767746,
           "timepoint": 1.5891783237457275,
           "trajectory": "Wolves",
           "upper": 0.699645733833313
          },
          {
           "lower": 0.47970481812953947,
           "timepoint": 1.6873748302459717,
           "trajectory": "Wolves",
           "upper": 0.6709146112203598
          },
          {
           "lower": 0.4523730292916298,
           "timepoint": 1.7855710983276367,
           "trajectory": "Wolves",
           "upper": 0.6427964657545089
          },
          {
           "lower": 0.4274070724844933,
           "timepoint": 1.8837676048278809,
           "trajectory": "Wolves",
           "upper": 0.6151410669088363
          },
          {
           "lower": 0.4040606811642647,
           "timepoint": 1.981963872909546,
           "trajectory": "Wolves",
           "upper": 0.5883755654096603
          },
          {
           "lower": 0.38189286440610887,
           "timepoint": 2.08016037940979,
           "trajectory": "Wolves",
           "upper": 0.5625755846500397
          },
          {
           "lower": 0.3611419662833214,
           "timepoint": 2.178356647491455,
           "trajectory": "Wolves",
           "upper": 0.5377932578325272
          },
          {
           "lower": 0.3418260633945465,
           "timepoint": 2.276553153991699,
           "trajectory": "Wolves",
           "upper": 0.5140648692846298
          },
          {
           "lower": 0.32434320002794265,
           "timepoint": 2.3747496604919434,
           "trajectory": "Wolves",
           "upper": 0.4914118558168411
          },
          {
           "lower": 0.308052234351635,
           "timepoint": 2.4729459285736084,
           "trajectory": "Wolves",
           "upper": 0.46984291523694993
          },
          {
           "lower": 0.292301145195961,
           "timepoint": 2.5711421966552734,
           "trajectory": "Wolves",
           "upper": 0.44935783445835115
          },
          {
           "lower": 0.2778008684515953,
           "timepoint": 2.6693387031555176,
           "trajectory": "Wolves",
           "upper": 0.4301173686981201
          },
          {
           "lower": 0.26438556164503096,
           "timepoint": 2.7675352096557617,
           "trajectory": "Wolves",
           "upper": 0.4124217718839645
          },
          {
           "lower": 0.2520015753805637,
           "timepoint": 2.8657314777374268,
           "trajectory": "Wolves",
           "upper": 0.3966095671057701
          },
          {
           "lower": 0.2405976265668869,
           "timepoint": 2.963927745819092,
           "trajectory": "Wolves",
           "upper": 0.3818202704191208
          },
          {
           "lower": 0.23012515902519226,
           "timepoint": 3.062124252319336,
           "trajectory": "Wolves",
           "upper": 0.36814202964305875
          },
          {
           "lower": 0.2205386035144329,
           "timepoint": 3.16032075881958,
           "trajectory": "Wolves",
           "upper": 0.355433976650238
          },
          {
           "lower": 0.2117955356836319,
           "timepoint": 3.258517026901245,
           "trajectory": "Wolves",
           "upper": 0.3443806380033493
          },
          {
           "lower": 0.20385783836245536,
           "timepoint": 3.3567135334014893,
           "trajectory": "Wolves",
           "upper": 0.3340659737586975
          },
          {
           "lower": 0.19668957069516183,
           "timepoint": 3.4549098014831543,
           "trajectory": "Wolves",
           "upper": 0.3246395543217659
          },
          {
           "lower": 0.19026003256440163,
           "timepoint": 3.5531063079833984,
           "trajectory": "Wolves",
           "upper": 0.31551031321287154
          },
          {
           "lower": 0.1845422215759754,
           "timepoint": 3.6513025760650635,
           "trajectory": "Wolves",
           "upper": 0.30778101086616516
          },
          {
           "lower": 0.17951351404190063,
           "timepoint": 3.7494990825653076,
           "trajectory": "Wolves",
           "upper": 0.3014834031462669
          },
          {
           "lower": 0.17515575438737868,
           "timepoint": 3.8476953506469727,
           "trajectory": "Wolves",
           "upper": 0.2960398867726326
          },
          {
           "lower": 0.17145556807518006,
           "timepoint": 3.945891857147217,
           "trajectory": "Wolves",
           "upper": 0.29144793599843977
          },
          {
           "lower": 0.1682551011443138,
           "timepoint": 4.044088363647461,
           "trajectory": "Wolves",
           "upper": 0.2877653166651726
          },
          {
           "lower": 0.16566150188446044,
           "timepoint": 4.142284393310547,
           "trajectory": "Wolves",
           "upper": 0.28693538904190063
          },
          {
           "lower": 0.16270144805312156,
           "timepoint": 4.240481376647949,
           "trajectory": "Wolves",
           "upper": 0.2872831955552101
          },
          {
           "lower": 0.15977166518568992,
           "timepoint": 4.338677406311035,
           "trajectory": "Wolves",
           "upper": 0.2855072125792503
          },
          {
           "lower": 0.15745530575513839,
           "timepoint": 4.436873912811279,
           "trajectory": "Wolves",
           "upper": 0.28406711816787716
          },
          {
           "lower": 0.15635407567024232,
           "timepoint": 4.535070419311523,
           "trajectory": "Wolves",
           "upper": 0.28420774787664416
          },
          {
           "lower": 0.1553159050643444,
           "timepoint": 4.633266448974609,
           "trajectory": "Wolves",
           "upper": 0.2906181916594505
          },
          {
           "lower": 0.15418352782726288,
           "timepoint": 4.7314629554748535,
           "trajectory": "Wolves",
           "upper": 0.2981049165129661
          },
          {
           "lower": 0.15248012393712998,
           "timepoint": 4.829659461975098,
           "trajectory": "Wolves",
           "upper": 0.30431753545999524
          },
          {
           "lower": 0.1513179808855057,
           "timepoint": 4.927855491638184,
           "trajectory": "Wolves",
           "upper": 0.31276321113109584
          },
          {
           "lower": 0.150708919018507,
           "timepoint": 5.026051998138428,
           "trajectory": "Wolves",
           "upper": 0.3227651119232177
          },
          {
           "lower": 0.15067099034786224,
           "timepoint": 5.124248504638672,
           "trajectory": "Wolves",
           "upper": 0.33444448262453075
          },
          {
           "lower": 0.15122820064425468,
           "timepoint": 5.222445011138916,
           "trajectory": "Wolves",
           "upper": 0.3479314237833023
          },
          {
           "lower": 0.1519061431288719,
           "timepoint": 5.32064151763916,
           "trajectory": "Wolves",
           "upper": 0.3636187583208084
          },
          {
           "lower": 0.15300024896860123,
           "timepoint": 5.418837547302246,
           "trajectory": "Wolves",
           "upper": 0.3816536068916321
          },
          {
           "lower": 0.1547201916575432,
           "timepoint": 5.51703405380249,
           "trajectory": "Wolves",
           "upper": 0.40196546912193293
          },
          {
           "lower": 0.15870047509670257,
           "timepoint": 5.615230560302734,
           "trajectory": "Wolves",
           "upper": 0.425565093755722
          },
          {
           "lower": 0.16432776749134065,
           "timepoint": 5.7134270668029785,
           "trajectory": "Wolves",
           "upper": 0.45279376059770576
          },
          {
           "lower": 0.16942375674843788,
           "timepoint": 5.811623573303223,
           "trajectory": "Wolves",
           "upper": 0.4828007921576499
          },
          {
           "lower": 0.175539580732584,
           "timepoint": 5.909819602966309,
           "trajectory": "Wolves",
           "upper": 0.5155815362930297
          },
          {
           "lower": 0.18278886899352073,
           "timepoint": 6.008016109466553,
           "trajectory": "Wolves",
           "upper": 0.5510401755571365
          },
          {
           "lower": 0.1913030579686165,
           "timepoint": 6.106212615966797,
           "trajectory": "Wolves",
           "upper": 0.5889679074287414
          },
          {
           "lower": 0.20104168206453324,
           "timepoint": 6.204409122467041,
           "trajectory": "Wolves",
           "upper": 0.6290197759866714
          },
          {
           "lower": 0.21211343184113501,
           "timepoint": 6.302605152130127,
           "trajectory": "Wolves",
           "upper": 0.6707020252943038
          },
          {
           "lower": 0.22486768662929535,
           "timepoint": 6.400801658630371,
           "trajectory": "Wolves",
           "upper": 0.7164292693138121
          },
          {
           "lower": 0.239505136013031,
           "timepoint": 6.498998165130615,
           "trajectory": "Wolves",
           "upper": 0.7632388323545456
          },
          {
           "lower": 0.256245319545269,
           "timepoint": 6.597194671630859,
           "trajectory": "Wolves",
           "upper": 0.8089749157428742
          },
          {
           "lower": 0.27532428354024885,
           "timepoint": 6.695390701293945,
           "trajectory": "Wolves",
           "upper": 0.8524002462625504
          },
          {
           "lower": 0.2969896480441093,
           "timepoint": 6.7935872077941895,
           "trajectory": "Wolves",
           "upper": 0.8927618145942687
          },
          {
           "lower": 0.32149026095867156,
           "timepoint": 6.891783714294434,
           "trajectory": "Wolves",
           "upper": 0.928539514541626
          },
          {
           "lower": 0.34906338155269623,
           "timepoint": 6.989980220794678,
           "trajectory": "Wolves",
           "upper": 0.9584593564271926
          },
          {
           "lower": 0.37991348952054976,
           "timepoint": 7.088176250457764,
           "trajectory": "Wolves",
           "upper": 0.9817579507827758
          },
          {
           "lower": 0.4126221776008606,
           "timepoint": 7.186372756958008,
           "trajectory": "Wolves",
           "upper": 0.9952844083309174
          },
          {
           "lower": 0.4471473842859268,
           "timepoint": 7.284569263458252,
           "trajectory": "Wolves",
           "upper": 0.999888813495636
          },
          {
           "lower": 0.4840144827961922,
           "timepoint": 7.382765769958496,
           "trajectory": "Wolves",
           "upper": 0.9991763532161713
          },
          {
           "lower": 0.5238396972417831,
           "timepoint": 7.48096227645874,
           "trajectory": "Wolves",
           "upper": 0.9945943206548691
          },
          {
           "lower": 0.5663493752479554,
           "timepoint": 7.579158306121826,
           "trajectory": "Wolves",
           "upper": 0.996418884396553
          },
          {
           "lower": 0.6110985726118088,
           "timepoint": 7.67735481262207,
           "trajectory": "Wolves",
           "upper": 0.9992064297199249
          },
          {
           "lower": 0.6574589967727661,
           "timepoint": 7.7755513191223145,
           "trajectory": "Wolves",
           "upper": 1.000333058834076
          },
          {
           "lower": 0.7046235054731369,
           "timepoint": 7.873747825622559,
           "trajectory": "Wolves",
           "upper": 1.0065573751926422
          },
          {
           "lower": 0.7525284260511398,
           "timepoint": 7.9719438552856445,
           "trajectory": "Wolves",
           "upper": 1.0058083832263947
          },
          {
           "lower": 0.7894466161727905,
           "timepoint": 8.070140838623047,
           "trajectory": "Wolves",
           "upper": 1.0090785443782806
          },
          {
           "lower": 0.817705824971199,
           "timepoint": 8.168336868286133,
           "trajectory": "Wolves",
           "upper": 1.0075386762619019
          },
          {
           "lower": 0.8005896002054215,
           "timepoint": 8.266532897949219,
           "trajectory": "Wolves",
           "upper": 1.0106054842472076
          },
          {
           "lower": 0.7775146216154099,
           "timepoint": 8.364728927612305,
           "trajectory": "Wolves",
           "upper": 1.0060164749622345
          },
          {
           "lower": 0.7466731667518616,
           "timepoint": 8.462925910949707,
           "trajectory": "Wolves",
           "upper": 1.002402228116989
          },
          {
           "lower": 0.7160019606351853,
           "timepoint": 8.56112289428711,
           "trajectory": "Wolves",
           "upper": 1.0037639915943146
          },
          {
           "lower": 0.6857686698436737,
           "timepoint": 8.659318923950195,
           "trajectory": "Wolves",
           "upper": 1.0013867408037185
          },
          {
           "lower": 0.6561907947063446,
           "timepoint": 8.757514953613281,
           "trajectory": "Wolves",
           "upper": 1.0036586046218872
          },
          {
           "lower": 0.6274442553520203,
           "timepoint": 8.855710983276367,
           "trajectory": "Wolves",
           "upper": 1.0084400415420531
          },
          {
           "lower": 0.5996661454439163,
           "timepoint": 8.95390796661377,
           "trajectory": "Wolves",
           "upper": 1.0045182228088378
          },
          {
           "lower": 0.57296042740345,
           "timepoint": 9.052103996276855,
           "trajectory": "Wolves",
           "upper": 0.9934995383024215
          },
          {
           "lower": 0.547403609752655,
           "timepoint": 9.150300979614258,
           "trajectory": "Wolves",
           "upper": 0.9773024916648865
          },
          {
           "lower": 0.5230468422174454,
           "timepoint": 9.248497009277344,
           "trajectory": "Wolves",
           "upper": 0.9568425595760346
          },
          {
           "lower": 0.49992330372333527,
           "timepoint": 9.346693992614746,
           "trajectory": "Wolves",
           "upper": 0.9327404618263244
          },
          {
           "lower": 0.478048375248909,
           "timepoint": 9.444890022277832,
           "trajectory": "Wolves",
           "upper": 0.9057140052318573
          },
          {
           "lower": 0.45742707401514054,
           "timepoint": 9.543086051940918,
           "trajectory": "Wolves",
           "upper": 0.8764394521713257
          },
          {
           "lower": 0.43804881274700164,
           "timepoint": 9.64128303527832,
           "trajectory": "Wolves",
           "upper": 0.8455302238464355
          },
          {
           "lower": 0.41914495676755903,
           "timepoint": 9.739479064941406,
           "trajectory": "Wolves",
           "upper": 0.8135338127613067
          },
          {
           "lower": 0.39964639097452165,
           "timepoint": 9.837675094604492,
           "trajectory": "Wolves",
           "upper": 0.7809252381324767
          },
          {
           "lower": 0.38090849965810775,
           "timepoint": 9.935872077941895,
           "trajectory": "Wolves",
           "upper": 0.7481121331453322
          },
          {
           "lower": 0.36345911026000977,
           "timepoint": 10.03406810760498,
           "trajectory": "Wolves",
           "upper": 0.7154356390237807
          },
          {
           "lower": 0.3472597599029541,
           "timepoint": 10.132265090942383,
           "trajectory": "Wolves",
           "upper": 0.6831769913434981
          },
          {
           "lower": 0.3300993725657463,
           "timepoint": 10.230461120605469,
           "trajectory": "Wolves",
           "upper": 0.6515639722347258
          },
          {
           "lower": 0.3140900060534477,
           "timepoint": 10.328657150268555,
           "trajectory": "Wolves",
           "upper": 0.6220583736896513
          },
          {
           "lower": 0.29845099747180937,
           "timepoint": 10.426854133605957,
           "trajectory": "Wolves",
           "upper": 0.5940448939800261
          },
          {
           "lower": 0.2848609298467636,
           "timepoint": 10.525050163269043,
           "trajectory": "Wolves",
           "upper": 0.5669990092515944
          },
          {
           "lower": 0.2750711590051651,
           "timepoint": 10.623247146606445,
           "trajectory": "Wolves",
           "upper": 0.5409881681203841
          },
          {
           "lower": 0.2662804305553436,
           "timepoint": 10.721443176269531,
           "trajectory": "Wolves",
           "upper": 0.5160592570900916
          },
          {
           "lower": 0.2568549528717995,
           "timepoint": 10.819639205932617,
           "trajectory": "Wolves",
           "upper": 0.4922410160303115
          },
          {
           "lower": 0.2453808605670929,
           "timepoint": 10.91783618927002,
           "trajectory": "Wolves",
           "upper": 0.4695479169487952
          },
          {
           "lower": 0.23483706042170524,
           "timepoint": 11.016032218933105,
           "trajectory": "Wolves",
           "upper": 0.44798238128423684
          },
          {
           "lower": 0.22517933696508408,
           "timepoint": 11.114228248596191,
           "trajectory": "Wolves",
           "upper": 0.4275363013148307
          },
          {
           "lower": 0.21632617264986037,
           "timepoint": 11.212425231933594,
           "trajectory": "Wolves",
           "upper": 0.40819491893053045
          },
          {
           "lower": 0.20827872157096863,
           "timepoint": 11.31062126159668,
           "trajectory": "Wolves",
           "upper": 0.38993706703186026
          },
          {
           "lower": 0.20180438086390495,
           "timepoint": 11.408818244934082,
           "trajectory": "Wolves",
           "upper": 0.372736433148384
          },
          {
           "lower": 0.1948359914124012,
           "timepoint": 11.507014274597168,
           "trajectory": "Wolves",
           "upper": 0.3565643206238746
          },
          {
           "lower": 0.1886773332953453,
           "timepoint": 11.605210304260254,
           "trajectory": "Wolves",
           "upper": 0.34142603725194925
          },
          {
           "lower": 0.1822824612259865,
           "timepoint": 11.703407287597656,
           "trajectory": "Wolves",
           "upper": 0.3280029445886612
          },
          {
           "lower": 0.1768182784318924,
           "timepoint": 11.801603317260742,
           "trajectory": "Wolves",
           "upper": 0.3155541613698006
          },
          {
           "lower": 0.17241908088326455,
           "timepoint": 11.899799346923828,
           "trajectory": "Wolves",
           "upper": 0.30780972689390185
          },
          {
           "lower": 0.16910969465970993,
           "timepoint": 11.99799633026123,
           "trajectory": "Wolves",
           "upper": 0.29929260164499283
          },
          {
           "lower": 0.16727722436189651,
           "timepoint": 12.096192359924316,
           "trajectory": "Wolves",
           "upper": 0.30073579549789425
          },
          {
           "lower": 0.16588936671614646,
           "timepoint": 12.194389343261719,
           "trajectory": "Wolves",
           "upper": 0.3032856702804565
          },
          {
           "lower": 0.1639499694108963,
           "timepoint": 12.292585372924805,
           "trajectory": "Wolves",
           "upper": 0.3007561579346657
          },
          {
           "lower": 0.1626553200185299,
           "timepoint": 12.39078140258789,
           "trajectory": "Wolves",
           "upper": 0.30875262916088103
          },
          {
           "lower": 0.1620188243687153,
           "timepoint": 12.488978385925293,
           "trajectory": "Wolves",
           "upper": 0.3202205196022987
          },
          {
           "lower": 0.16206154301762582,
           "timepoint": 12.587174415588379,
           "trajectory": "Wolves",
           "upper": 0.334099380671978
          },
          {
           "lower": 0.16281294375658034,
           "timepoint": 12.685371398925781,
           "trajectory": "Wolves",
           "upper": 0.3500352308154106
          },
          {
           "lower": 0.1627533718943596,
           "timepoint": 12.783567428588867,
           "trajectory": "Wolves",
           "upper": 0.3681897342205047
          },
          {
           "lower": 0.1629971034824848,
           "timepoint": 12.881763458251953,
           "trajectory": "Wolves",
           "upper": 0.3887231931090354
          },
          {
           "lower": 0.16158675104379655,
           "timepoint": 12.979960441589355,
           "trajectory": "Wolves",
           "upper": 0.41178561300039285
          },
          {
           "lower": 0.16041808053851128,
           "timepoint": 13.078156471252441,
           "trajectory": "Wolves",
           "upper": 0.4375055462121963
          },
          {
           "lower": 0.15754736736416816,
           "timepoint": 13.176352500915527,
           "trajectory": "Wolves",
           "upper": 0.46597421467304223
          },
          {
           "lower": 0.1552147835493088,
           "timepoint": 13.27454948425293,
           "trajectory": "Wolves",
           "upper": 0.4972257941961288
          },
          {
           "lower": 0.15341154709458352,
           "timepoint": 13.372745513916016,
           "trajectory": "Wolves",
           "upper": 0.5312163263559341
          },
          {
           "lower": 0.15204961746931075,
           "timepoint": 13.470942497253418,
           "trajectory": "Wolves",
           "upper": 0.5678020358085631
          },
          {
           "lower": 0.15124001801013948,
           "timepoint": 13.569138526916504,
           "trajectory": "Wolves",
           "upper": 0.6067143827676772
          },
          {
           "lower": 0.15099834725260736,
           "timepoint": 13.66733455657959,
           "trajectory": "Wolves",
           "upper": 0.6475424587726591
          },
          {
           "lower": 0.15297048538923264,
           "timepoint": 13.765531539916992,
           "trajectory": "Wolves",
           "upper": 0.6897222399711608
          },
          {
           "lower": 0.15530856102705,
           "timepoint": 13.863727569580078,
           "trajectory": "Wolves",
           "upper": 0.7325359314680098
          },
          {
           "lower": 0.154922217130661,
           "timepoint": 13.96192455291748,
           "trajectory": "Wolves",
           "upper": 0.775128862261772
          },
          {
           "lower": 0.1550935097038746,
           "timepoint": 14.060120582580566,
           "trajectory": "Wolves",
           "upper": 0.8165419191122054
          },
          {
           "lower": 0.15602648109197617,
           "timepoint": 14.158316612243652,
           "trajectory": "Wolves",
           "upper": 0.8557619512081145
          },
          {
           "lower": 0.15872434675693511,
           "timepoint": 14.256513595581055,
           "trajectory": "Wolves",
           "upper": 0.8917760968208313
          },
          {
           "lower": 0.1621825523674488,
           "timepoint": 14.35470962524414,
           "trajectory": "Wolves",
           "upper": 0.9236480355262755
          },
          {
           "lower": 0.1664690352976322,
           "timepoint": 14.452905654907227,
           "trajectory": "Wolves",
           "upper": 0.9505664110183715
          },
          {
           "lower": 0.1716640517115593,
           "timepoint": 14.551102638244629,
           "trajectory": "Wolves",
           "upper": 0.9747474461793899
          },
          {
           "lower": 0.17786126136779784,
           "timepoint": 14.649298667907715,
           "trajectory": "Wolves",
           "upper": 0.9923914164304733
          },
          {
           "lower": 0.1851704627275467,
           "timepoint": 14.747495651245117,
           "trajectory": "Wolves",
           "upper": 0.9977774322032928
          },
          {
           "lower": 0.19371743574738504,
           "timepoint": 14.845691680908203,
           "trajectory": "Wolves",
           "upper": 0.9930166512727737
          },
          {
           "lower": 0.20364718586206437,
           "timepoint": 14.943887710571289,
           "trajectory": "Wolves",
           "upper": 0.9828639149665832
          },
          {
           "lower": 0.21503195986151696,
           "timepoint": 15.042084693908691,
           "trajectory": "Wolves",
           "upper": 0.9812245339155197
          },
          {
           "lower": 0.22812195122241974,
           "timepoint": 15.140280723571777,
           "trajectory": "Wolves",
           "upper": 0.9861322522163392
          },
          {
           "lower": 0.24313153102993965,
           "timepoint": 15.23847770690918,
           "trajectory": "Wolves",
           "upper": 0.9755009979009628
          },
          {
           "lower": 0.2602828934788704,
           "timepoint": 15.336673736572266,
           "trajectory": "Wolves",
           "upper": 0.9892365634441376
          },
          {
           "lower": 0.27981317788362503,
           "timepoint": 15.434869766235352,
           "trajectory": "Wolves",
           "upper": 0.9977049201726913
          },
          {
           "lower": 0.3019690975546837,
           "timepoint": 15.533066749572754,
           "trajectory": "Wolves",
           "upper": 0.9995893061161041
          },
          {
           "lower": 0.32699553817510607,
           "timepoint": 15.63126277923584,
           "trajectory": "Wolves",
           "upper": 0.9988284707069397
          },
          {
           "lower": 0.3521470993757248,
           "timepoint": 15.729458808898926,
           "trajectory": "Wolves",
           "upper": 0.9993571370840073
          },
          {
           "lower": 0.37960807234048843,
           "timepoint": 15.827655792236328,
           "trajectory": "Wolves",
           "upper": 1.0005356311798095
          },
          {
           "lower": 0.40954194217920303,
           "timepoint": 15.925851821899414,
           "trajectory": "Wolves",
           "upper": 1.0013312101364136
          },
          {
           "lower": 0.4423285946249962,
           "timepoint": 16.0240478515625,
           "trajectory": "Wolves",
           "upper": 1.0075413048267365
          },
          {
           "lower": 0.4781190812587738,
           "timepoint": 16.12224578857422,
           "trajectory": "Wolves",
           "upper": 1.0118739128112793
          },
          {
           "lower": 0.516811516880989,
           "timepoint": 16.220439910888672,
           "trajectory": "Wolves",
           "upper": 1.0101054847240447
          },
          {
           "lower": 0.5441705912351609,
           "timepoint": 16.31863784790039,
           "trajectory": "Wolves",
           "upper": 1.0067384481430053
          },
          {
           "lower": 0.568549570441246,
           "timepoint": 16.416833877563477,
           "trajectory": "Wolves",
           "upper": 1.002038586139679
          },
          {
           "lower": 0.5429022997617722,
           "timepoint": 16.515029907226562,
           "trajectory": "Wolves",
           "upper": 1.0011488199234009
          },
          {
           "lower": 0.5336899936199189,
           "timepoint": 16.61322784423828,
           "trajectory": "Wolves",
           "upper": 0.9971868366003036
          },
          {
           "lower": 0.5072744593024254,
           "timepoint": 16.711421966552734,
           "trajectory": "Wolves",
           "upper": 0.9897120624780655
          },
          {
           "lower": 0.48223721534013747,
           "timepoint": 16.809619903564453,
           "trajectory": "Wolves",
           "upper": 0.9831840842962265
          },
          {
           "lower": 0.4597930729389191,
           "timepoint": 16.90781593322754,
           "trajectory": "Wolves",
           "upper": 0.9957805424928665
          },
          {
           "lower": 0.4402854099869728,
           "timepoint": 17.006011962890625,
           "trajectory": "Wolves",
           "upper": 1.0009864032268525
          },
          {
           "lower": 0.42200980633497237,
           "timepoint": 17.10420799255371,
           "trajectory": "Wolves",
           "upper": 1.0010557353496552
          },
          {
           "lower": 0.40494498014450075,
           "timepoint": 17.20240592956543,
           "trajectory": "Wolves",
           "upper": 0.9978171199560165
          },
          {
           "lower": 0.3890667766332626,
           "timepoint": 17.300601959228516,
           "trajectory": "Wolves",
           "upper": 0.9965868800878525
          },
          {
           "lower": 0.3743485063314438,
           "timepoint": 17.3987979888916,
           "trajectory": "Wolves",
           "upper": 0.998455336689949
          },
          {
           "lower": 0.3607614189386368,
           "timepoint": 17.496994018554688,
           "trajectory": "Wolves",
           "upper": 0.9998154699802398
          },
          {
           "lower": 0.3482774034142494,
           "timepoint": 17.595190048217773,
           "trajectory": "Wolves",
           "upper": 1.0002733141183853
          },
          {
           "lower": 0.3368685841560364,
           "timepoint": 17.693387985229492,
           "trajectory": "Wolves",
           "upper": 0.9956602454185486
          },
          {
           "lower": 0.3265078768134117,
           "timepoint": 17.791584014892578,
           "trajectory": "Wolves",
           "upper": 0.9811929523944855
          },
          {
           "lower": 0.3171424388885498,
           "timepoint": 17.889780044555664,
           "trajectory": "Wolves",
           "upper": 0.9618608713150024
          },
          {
           "lower": 0.3085785865783691,
           "timepoint": 17.98797607421875,
           "trajectory": "Wolves",
           "upper": 0.9382475227117538
          },
          {
           "lower": 0.3010013967752457,
           "timepoint": 18.086172103881836,
           "trajectory": "Wolves",
           "upper": 0.9111802756786347
          },
          {
           "lower": 0.2920254796743393,
           "timepoint": 18.184368133544922,
           "trajectory": "Wolves",
           "upper": 0.8814419984817505
          },
          {
           "lower": 0.28120449781417844,
           "timepoint": 18.28256607055664,
           "trajectory": "Wolves",
           "upper": 0.8504221975803375
          },
          {
           "lower": 0.26939221322536466,
           "timepoint": 18.380762100219727,
           "trajectory": "Wolves",
           "upper": 0.8195193082094192
          },
          {
           "lower": 0.25854006707668303,
           "timepoint": 18.478958129882812,
           "trajectory": "Wolves",
           "upper": 0.7879701435565949
          },
          {
           "lower": 0.25412780195474627,
           "timepoint": 18.5771541595459,
           "trajectory": "Wolves",
           "upper": 0.7561036467552185
          },
          {
           "lower": 0.2500698037445545,
           "timepoint": 18.675350189208984,
           "trajectory": "Wolves",
           "upper": 0.7242607533931732
          },
          {
           "lower": 0.24498572200536728,
           "timepoint": 18.773548126220703,
           "trajectory": "Wolves",
           "upper": 0.692724061012268
          },
          {
           "lower": 0.23654634952545167,
           "timepoint": 18.87174415588379,
           "trajectory": "Wolves",
           "upper": 0.6617236942052841
          },
          {
           "lower": 0.22896385863423346,
           "timepoint": 18.969940185546875,
           "trajectory": "Wolves",
           "upper": 0.6314462453126907
          },
          {
           "lower": 0.22203873470425606,
           "timepoint": 19.06813621520996,
           "trajectory": "Wolves",
           "upper": 0.602038112282753
          },
          {
           "lower": 0.2138136386871338,
           "timepoint": 19.166332244873047,
           "trajectory": "Wolves",
           "upper": 0.5736097812652587
          },
          {
           "lower": 0.20605550929903985,
           "timepoint": 19.264530181884766,
           "trajectory": "Wolves",
           "upper": 0.5462440490722655
          },
          {
           "lower": 0.20027177259325982,
           "timepoint": 19.36272621154785,
           "trajectory": "Wolves",
           "upper": 0.5199971854686737
          },
          {
           "lower": 0.19767072200775146,
           "timepoint": 19.460922241210938,
           "trajectory": "Wolves",
           "upper": 0.49490585774183266
          },
          {
           "lower": 0.19202626794576644,
           "timepoint": 19.559118270874023,
           "trajectory": "Wolves",
           "upper": 0.4709893852472305
          },
          {
           "lower": 0.18630552366375924,
           "timepoint": 19.65731430053711,
           "trajectory": "Wolves",
           "upper": 0.44825136810541144
          },
          {
           "lower": 0.1812824599444866,
           "timepoint": 19.755512237548828,
           "trajectory": "Wolves",
           "upper": 0.42668551057577125
          },
          {
           "lower": 0.17693950831890107,
           "timepoint": 19.853708267211914,
           "trajectory": "Wolves",
           "upper": 0.40627554655075065
          },
          {
           "lower": 0.17324449941515924,
           "timepoint": 19.951904296875,
           "trajectory": "Wolves",
           "upper": 0.4030626893043518
          },
          {
           "lower": 0.1699801467359066,
           "timepoint": 20.050100326538086,
           "trajectory": "Wolves",
           "upper": 0.41938123404979705
          },
          {
           "lower": 0.16804226040840148,
           "timepoint": 20.148296356201172,
           "trajectory": "Wolves",
           "upper": 0.4239849567413329
          },
          {
           "lower": 0.1663979098200798,
           "timepoint": 20.24649429321289,
           "trajectory": "Wolves",
           "upper": 0.40634532272815693
          },
          {
           "lower": 0.1647381938993931,
           "timepoint": 20.344690322875977,
           "trajectory": "Wolves",
           "upper": 0.4069538936018944
          },
          {
           "lower": 0.1636613830924034,
           "timepoint": 20.442886352539062,
           "trajectory": "Wolves",
           "upper": 0.42307848632335654
          },
          {
           "lower": 0.16307924538850785,
           "timepoint": 20.54108238220215,
           "trajectory": "Wolves",
           "upper": 0.45002248883247364
          },
          {
           "lower": 0.1631910242140293,
           "timepoint": 20.639278411865234,
           "trajectory": "Wolves",
           "upper": 0.47973577231168735
          },
          {
           "lower": 0.1640276603400707,
           "timepoint": 20.73747444152832,
           "trajectory": "Wolves",
           "upper": 0.5122190564870833
          },
          {
           "lower": 0.16413161009550095,
           "timepoint": 20.83567237854004,
           "trajectory": "Wolves",
           "upper": 0.5473854094743728
          },
          {
           "lower": 0.16348991319537162,
           "timepoint": 20.933868408203125,
           "trajectory": "Wolves",
           "upper": 0.5850378274917601
          },
          {
           "lower": 0.16351921632885932,
           "timepoint": 21.03206443786621,
           "trajectory": "Wolves",
           "upper": 0.6248426437377929
          },
          {
           "lower": 0.16417717114090918,
           "timepoint": 21.130260467529297,
           "trajectory": "Wolves",
           "upper": 0.6663227587938307
          },
          {
           "lower": 0.1669645145535469,
           "timepoint": 21.228456497192383,
           "trajectory": "Wolves",
           "upper": 0.7088437467813491
          },
          {
           "lower": 0.16852254420518875,
           "timepoint": 21.3266544342041,
           "trajectory": "Wolves",
           "upper": 0.7516247153282164
          },
          {
           "lower": 0.16876422837376595,
           "timepoint": 21.424850463867188,
           "trajectory": "Wolves",
           "upper": 0.7937631100416183
          },
          {
           "lower": 0.16696756705641747,
           "timepoint": 21.523046493530273,
           "trajectory": "Wolves",
           "upper": 0.8342687219381331
          },
          {
           "lower": 0.16534425914287568,
           "timepoint": 21.62124252319336,
           "trajectory": "Wolves",
           "upper": 0.8721249610185622
          },
          {
           "lower": 0.16089281365275382,
           "timepoint": 21.719438552856445,
           "trajectory": "Wolves",
           "upper": 0.9063484132289885
          },
          {
           "lower": 0.15697359889745713,
           "timepoint": 21.817636489868164,
           "trajectory": "Wolves",
           "upper": 0.9360553205013274
          },
          {
           "lower": 0.154640594124794,
           "timepoint": 21.91583251953125,
           "trajectory": "Wolves",
           "upper": 0.9605146616697311
          },
          {
           "lower": 0.15332131534814836,
           "timepoint": 22.014028549194336,
           "trajectory": "Wolves",
           "upper": 0.9791977941989898
          },
          {
           "lower": 0.15479821115732192,
           "timepoint": 22.112224578857422,
           "trajectory": "Wolves",
           "upper": 0.9899740725755691
          },
          {
           "lower": 0.1562502309679985,
           "timepoint": 22.210420608520508,
           "trajectory": "Wolves",
           "upper": 0.9913704872131348
          },
          {
           "lower": 0.15635684356093407,
           "timepoint": 22.308618545532227,
           "trajectory": "Wolves",
           "upper": 0.9836450457572936
          },
          {
           "lower": 0.15691652297973632,
           "timepoint": 22.406814575195312,
           "trajectory": "Wolves",
           "upper": 0.9693858861923217
          },
          {
           "lower": 0.1567702919244766,
           "timepoint": 22.5050106048584,
           "trajectory": "Wolves",
           "upper": 0.957481563091278
          },
          {
           "lower": 0.15576769188046455,
           "timepoint": 22.603206634521484,
           "trajectory": "Wolves",
           "upper": 0.9601654708385468
          },
          {
           "lower": 0.15524135902523994,
           "timepoint": 22.70140266418457,
           "trajectory": "Wolves",
           "upper": 0.9679513245820999
          },
          {
           "lower": 0.15515390932559966,
           "timepoint": 22.799598693847656,
           "trajectory": "Wolves",
           "upper": 0.9604407727718353
          },
          {
           "lower": 0.15675759613513945,
           "timepoint": 22.897796630859375,
           "trajectory": "Wolves",
           "upper": 0.9531516194343567
          },
          {
           "lower": 0.15964649021625518,
           "timepoint": 22.99599266052246,
           "trajectory": "Wolves",
           "upper": 0.9758219718933105
          },
          {
           "lower": 0.1633138231933117,
           "timepoint": 23.094188690185547,
           "trajectory": "Wolves",
           "upper": 0.9886273086071015
          },
          {
           "lower": 0.16777151376008986,
           "timepoint": 23.192384719848633,
           "trajectory": "Wolves",
           "upper": 0.9938872128725051
          },
          {
           "lower": 0.17308537811040878,
           "timepoint": 23.29058074951172,
           "trajectory": "Wolves",
           "upper": 0.998961278796196
          },
          {
           "lower": 0.17941494137048722,
           "timepoint": 23.388778686523438,
           "trajectory": "Wolves",
           "upper": 0.9986775547266007
          },
          {
           "lower": 0.18687143698334693,
           "timepoint": 23.486974716186523,
           "trajectory": "Wolves",
           "upper": 0.9936696499586105
          },
          {
           "lower": 0.19558281004428862,
           "timepoint": 23.58517074584961,
           "trajectory": "Wolves",
           "upper": 0.9958069503307342
          },
          {
           "lower": 0.2056956894695759,
           "timepoint": 23.683366775512695,
           "trajectory": "Wolves",
           "upper": 0.9991126477718353
          },
          {
           "lower": 0.21737605109810829,
           "timepoint": 23.78156280517578,
           "trajectory": "Wolves",
           "upper": 0.9998131990432739
          },
          {
           "lower": 0.23081071451306343,
           "timepoint": 23.8797607421875,
           "trajectory": "Wolves",
           "upper": 1.0008575558662414
          },
          {
           "lower": 0.24620597064495087,
           "timepoint": 23.977956771850586,
           "trajectory": "Wolves",
           "upper": 1.0023418217897415
          },
          {
           "lower": 0.2637864500284195,
           "timepoint": 24.076152801513672,
           "trajectory": "Wolves",
           "upper": 1.0047442853450774
          },
          {
           "lower": 0.2813341706991196,
           "timepoint": 24.174348831176758,
           "trajectory": "Wolves",
           "upper": 1.0071383357048034
          },
          {
           "lower": 0.300195649266243,
           "timepoint": 24.272544860839844,
           "trajectory": "Wolves",
           "upper": 1.0098597288131714
          },
          {
           "lower": 0.3214712753891945,
           "timepoint": 24.370742797851562,
           "trajectory": "Wolves",
           "upper": 1.0062338650226592
          },
          {
           "lower": 0.34536351412534716,
           "timepoint": 24.46893882751465,
           "trajectory": "Wolves",
           "upper": 1.0044687688350677
          },
          {
           "lower": 0.367728054523468,
           "timepoint": 24.567134857177734,
           "trajectory": "Wolves",
           "upper": 1.0002803087234498
          },
          {
           "lower": 0.38795277923345567,
           "timepoint": 24.66533088684082,
           "trajectory": "Wolves",
           "upper": 0.9997890084981919
          },
          {
           "lower": 0.37223185151815413,
           "timepoint": 24.763526916503906,
           "trajectory": "Wolves",
           "upper": 1.0002581000328064
          },
          {
           "lower": 0.35696167796850203,
           "timepoint": 24.861724853515625,
           "trajectory": "Wolves",
           "upper": 0.9956646740436554
          },
          {
           "lower": 0.3499200239777565,
           "timepoint": 24.95992088317871,
           "trajectory": "Wolves",
           "upper": 0.9856657922267914
          },
          {
           "lower": 0.3383984312415123,
           "timepoint": 25.058116912841797,
           "trajectory": "Wolves",
           "upper": 0.97026427090168
          },
          {
           "lower": 0.3279294118285179,
           "timepoint": 25.156312942504883,
           "trajectory": "Wolves",
           "upper": 0.9504680514335632
          },
          {
           "lower": 0.3184893622994423,
           "timepoint": 25.25450897216797,
           "trajectory": "Wolves",
           "upper": 0.9639508128166199
          },
          {
           "lower": 0.3100573495030403,
           "timepoint": 25.352705001831055,
           "trajectory": "Wolves",
           "upper": 0.9828543901443482
          },
          {
           "lower": 0.30261566340923307,
           "timepoint": 25.450902938842773,
           "trajectory": "Wolves",
           "upper": 0.9932814210653305
          },
          {
           "lower": 0.2958703711628914,
           "timepoint": 25.549097061157227,
           "trajectory": "Wolves",
           "upper": 1.0015631079673768
          },
          {
           "lower": 0.290073935687542,
           "timepoint": 25.647294998168945,
           "trajectory": "Wolves",
           "upper": 1.00171440243721
          },
          {
           "lower": 0.2852397307753563,
           "timepoint": 25.74549102783203,
           "trajectory": "Wolves",
           "upper": 0.9975081235170364
          },
          {
           "lower": 0.28125953674316406,
           "timepoint": 25.843687057495117,
           "trajectory": "Wolves",
           "upper": 0.9917439252138137
          },
          {
           "lower": 0.2763360753655434,
           "timepoint": 25.941883087158203,
           "trajectory": "Wolves",
           "upper": 0.9886632561683655
          },
          {
           "lower": 0.27026546001434326,
           "timepoint": 26.04007911682129,
           "trajectory": "Wolves",
           "upper": 0.992416152358055
          },
          {
           "lower": 0.2641956403851509,
           "timepoint": 26.138275146484375,
           "trajectory": "Wolves",
           "upper": 0.9974153727293015
          },
          {
           "lower": 0.25686232149600985,
           "timepoint": 26.236473083496094,
           "trajectory": "Wolves",
           "upper": 0.9975637286901474
          },
          {
           "lower": 0.2524468004703522,
           "timepoint": 26.33466911315918,
           "trajectory": "Wolves",
           "upper": 0.9941886335611343
          },
          {
           "lower": 0.250233206897974,
           "timepoint": 26.432865142822266,
           "trajectory": "Wolves",
           "upper": 0.9922847658395767
          },
          {
           "lower": 0.24744433909654617,
           "timepoint": 26.53106117248535,
           "trajectory": "Wolves",
           "upper": 0.9774287074804305
          },
          {
           "lower": 0.24069003984332085,
           "timepoint": 26.629257202148438,
           "trajectory": "Wolves",
           "upper": 0.9576320976018905
          },
          {
           "lower": 0.23299262896180153,
           "timepoint": 26.727455139160156,
           "trajectory": "Wolves",
           "upper": 0.9337229430675507
          },
          {
           "lower": 0.22615034729242325,
           "timepoint": 26.825651168823242,
           "trajectory": "Wolves",
           "upper": 0.9065086483955382
          },
          {
           "lower": 0.22014274969696998,
           "timepoint": 26.923847198486328,
           "trajectory": "Wolves",
           "upper": 0.8767463326454162
          },
          {
           "lower": 0.21495493426918982,
           "timepoint": 27.022043228149414,
           "trajectory": "Wolves",
           "upper": 0.8451279789209365
          },
          {
           "lower": 0.21040329113602638,
           "timepoint": 27.1202392578125,
           "trajectory": "Wolves",
           "upper": 0.8122650057077407
          },
          {
           "lower": 0.20782150849699974,
           "timepoint": 27.21843719482422,
           "trajectory": "Wolves",
           "upper": 0.7786888509988784
          },
          {
           "lower": 0.20393504947423935,
           "timepoint": 27.316633224487305,
           "trajectory": "Wolves",
           "upper": 0.7448512762784957
          },
          {
           "lower": 0.1997904509305954,
           "timepoint": 27.41482925415039,
           "trajectory": "Wolves",
           "upper": 0.711536556482315
          },
          {
           "lower": 0.19380126595497132,
           "timepoint": 27.513025283813477,
           "trajectory": "Wolves",
           "upper": 0.6800334751605986
          },
          {
           "lower": 0.18869468942284584,
           "timepoint": 27.611221313476562,
           "trajectory": "Wolves",
           "upper": 0.6491338193416595
          },
          {
           "lower": 0.1845427230000496,
           "timepoint": 27.70941925048828,
           "trajectory": "Wolves",
           "upper": 0.6190116941928863
          },
          {
           "lower": 0.18000969290733337,
           "timepoint": 27.807615280151367,
           "trajectory": "Wolves",
           "upper": 0.5898068785667419
          },
          {
           "lower": 0.17606869861483573,
           "timepoint": 27.905811309814453,
           "trajectory": "Wolves",
           "upper": 0.5842533469200134
          },
          {
           "lower": 0.17280452623963355,
           "timepoint": 28.00400733947754,
           "trajectory": "Wolves",
           "upper": 0.6242456018924712
          },
          {
           "lower": 0.17038027569651604,
           "timepoint": 28.102203369140625,
           "trajectory": "Wolves",
           "upper": 0.6405353367328643
          },
          {
           "lower": 0.17137352749705315,
           "timepoint": 28.200401306152344,
           "trajectory": "Wolves",
           "upper": 0.6109578549861907
          },
          {
           "lower": 0.17117936834692954,
           "timepoint": 28.29859733581543,
           "trajectory": "Wolves",
           "upper": 0.5901211947202682
          },
          {
           "lower": 0.16935733556747437,
           "timepoint": 28.396793365478516,
           "trajectory": "Wolves",
           "upper": 0.602705419063568
          },
          {
           "lower": 0.16538334637880325,
           "timepoint": 28.4949893951416,
           "trajectory": "Wolves",
           "upper": 0.6432965725660322
          },
          {
           "lower": 0.16492010951042174,
           "timepoint": 28.593185424804688,
           "trajectory": "Wolves",
           "upper": 0.6852882236242293
          },
          {
           "lower": 0.16513916999101638,
           "timepoint": 28.691381454467773,
           "trajectory": "Wolves",
           "upper": 0.7279811799526212
          },
          {
           "lower": 0.16611068099737167,
           "timepoint": 28.789579391479492,
           "trajectory": "Wolves",
           "upper": 0.770535635948181
          },
          {
           "lower": 0.16611216142773627,
           "timepoint": 28.887775421142578,
           "trajectory": "Wolves",
           "upper": 0.8120082557201383
          },
          {
           "lower": 0.16527557000517845,
           "timepoint": 28.985971450805664,
           "trajectory": "Wolves",
           "upper": 0.8513918578624724
          },
          {
           "lower": 0.16442229971289635,
           "timepoint": 29.08416748046875,
           "trajectory": "Wolves",
           "upper": 0.887682408094406
          },
          {
           "lower": 0.16423994824290275,
           "timepoint": 29.182363510131836,
           "trajectory": "Wolves",
           "upper": 0.9199351370334624
          },
          {
           "lower": 0.16475595831871032,
           "timepoint": 29.280561447143555,
           "trajectory": "Wolves",
           "upper": 0.947332864999771
          },
          {
           "lower": 0.16838487461209298,
           "timepoint": 29.37875747680664,
           "trajectory": "Wolves",
           "upper": 0.9692333668470382
          },
          {
           "lower": 0.17303766161203385,
           "timepoint": 29.476953506469727,
           "trajectory": "Wolves",
           "upper": 0.9841682225465774
          },
          {
           "lower": 0.1767550677061081,
           "timepoint": 29.575149536132812,
           "trajectory": "Wolves",
           "upper": 0.9848017454147339
          },
          {
           "lower": 0.1763964533805847,
           "timepoint": 29.6733455657959,
           "trajectory": "Wolves",
           "upper": 0.9717929661273956
          },
          {
           "lower": 0.17324413508176803,
           "timepoint": 29.771543502807617,
           "trajectory": "Wolves",
           "upper": 0.9724552452564238
          },
          {
           "lower": 0.1732856586575508,
           "timepoint": 29.869739532470703,
           "trajectory": "Wolves",
           "upper": 0.9535309344530104
          },
          {
           "lower": 0.1748480811715126,
           "timepoint": 29.96793556213379,
           "trajectory": "Wolves",
           "upper": 0.9326310396194456
          },
          {
           "lower": 0.1762670285999775,
           "timepoint": 30.066131591796875,
           "trajectory": "Wolves",
           "upper": 0.9295841276645659
          },
          {
           "lower": 0.1725742846727371,
           "timepoint": 30.16432762145996,
           "trajectory": "Wolves",
           "upper": 0.93381769657135
          },
          {
           "lower": 0.16734498590230942,
           "timepoint": 30.26252555847168,
           "trajectory": "Wolves",
           "upper": 0.9433647364377975
          },
          {
           "lower": 0.16266994401812554,
           "timepoint": 30.360721588134766,
           "trajectory": "Wolves",
           "upper": 0.9434632927179335
          },
          {
           "lower": 0.16204190626740456,
           "timepoint": 30.45891761779785,
           "trajectory": "Wolves",
           "upper": 0.929745441675186
          },
          {
           "lower": 0.16401308104395868,
           "timepoint": 30.557113647460938,
           "trajectory": "Wolves",
           "upper": 0.9312633752822875
          },
          {
           "lower": 0.1610918827354908,
           "timepoint": 30.655309677124023,
           "trajectory": "Wolves",
           "upper": 0.9575984060764312
          },
          {
           "lower": 0.1595179870724678,
           "timepoint": 30.75350570678711,
           "trajectory": "Wolves",
           "upper": 0.9786773830652237
          },
          {
           "lower": 0.15940841659903526,
           "timepoint": 30.851703643798828,
           "trajectory": "Wolves",
           "upper": 0.9792006373405456
          },
          {
           "lower": 0.15988668873906137,
           "timepoint": 30.949899673461914,
           "trajectory": "Wolves",
           "upper": 0.9875351130962372
          },
          {
           "lower": 0.16055451333522797,
           "timepoint": 31.048095703125,
           "trajectory": "Wolves",
           "upper": 0.9977742075920105
          },
          {
           "lower": 0.15932910442352294,
           "timepoint": 31.146291732788086,
           "trajectory": "Wolves",
           "upper": 0.9986422032117843
          },
          {
           "lower": 0.15757134035229683,
           "timepoint": 31.244487762451172,
           "trajectory": "Wolves",
           "upper": 0.989025405049324
          },
          {
           "lower": 0.15634625032544136,
           "timepoint": 31.34268569946289,
           "trajectory": "Wolves",
           "upper": 0.9840576946735382
          },
          {
           "lower": 0.15566499382257462,
           "timepoint": 31.440881729125977,
           "trajectory": "Wolves",
           "upper": 0.9887935400009156
          },
          {
           "lower": 0.15536050274968147,
           "timepoint": 31.539077758789062,
           "trajectory": "Wolves",
           "upper": 0.9944401711225509
          },
          {
           "lower": 0.15766284391283988,
           "timepoint": 31.63727378845215,
           "trajectory": "Wolves",
           "upper": 0.9981949865818024
          },
          {
           "lower": 0.16062793880701065,
           "timepoint": 31.735469818115234,
           "trajectory": "Wolves",
           "upper": 0.9991020292043686
          },
          {
           "lower": 0.16433920487761497,
           "timepoint": 31.833667755126953,
           "trajectory": "Wolves",
           "upper": 1.0005050778388977
          },
          {
           "lower": 0.1689063861966133,
           "timepoint": 31.93186378479004,
           "trajectory": "Wolves",
           "upper": 0.9980441331863403
          },
          {
           "lower": 0.1744140401482582,
           "timepoint": 32.030059814453125,
           "trajectory": "Wolves",
           "upper": 1.002093893289566
          },
          {
           "lower": 0.180960863083601,
           "timepoint": 32.128257751464844,
           "trajectory": "Wolves",
           "upper": 1.0046568274497987
          },
          {
           "lower": 0.18866176828742026,
           "timepoint": 32.2264518737793,
           "trajectory": "Wolves",
           "upper": 1.0050383269786836
          },
          {
           "lower": 0.19764822348952293,
           "timepoint": 32.324649810791016,
           "trajectory": "Wolves",
           "upper": 1.0042850017547607
          },
          {
           "lower": 0.2080702915787697,
           "timepoint": 32.42284393310547,
           "trajectory": "Wolves",
           "upper": 1.0060572564601897
          },
          {
           "lower": 0.22009876295924188,
           "timepoint": 32.52104187011719,
           "trajectory": "Wolves",
           "upper": 1.0043819844722748
          },
          {
           "lower": 0.23392256274819376,
           "timepoint": 32.619239807128906,
           "trajectory": "Wolves",
           "upper": 1.0045744061470032
          },
          {
           "lower": 0.24646704196929933,
           "timepoint": 32.71743392944336,
           "trajectory": "Wolves",
           "upper": 0.999964925646782
          },
          {
           "lower": 0.258404316008091,
           "timepoint": 32.81563186645508,
           "trajectory": "Wolves",
           "upper": 0.9990847498178482
          },
          {
           "lower": 0.2694392278790474,
           "timepoint": 32.91382598876953,
           "trajectory": "Wolves",
           "upper": 0.9982341974973679
          },
          {
           "lower": 0.2790683969855309,
           "timepoint": 33.01202392578125,
           "trajectory": "Wolves",
           "upper": 0.9961802691221237
          },
          {
           "lower": 0.271256597340107,
           "timepoint": 33.11022186279297,
           "trajectory": "Wolves",
           "upper": 0.9862695634365081
          },
          {
           "lower": 0.2650373473763466,
           "timepoint": 33.20841598510742,
           "trajectory": "Wolves",
           "upper": 0.9797636747360229
          },
          {
           "lower": 0.2695761099457741,
           "timepoint": 33.306610107421875,
           "trajectory": "Wolves",
           "upper": 0.9708830118179321
          },
          {
           "lower": 0.27450200766324995,
           "timepoint": 33.404808044433594,
           "trajectory": "Wolves",
           "upper": 0.9488632947206497
          },
          {
           "lower": 0.2709284335374832,
           "timepoint": 33.50300598144531,
           "trajectory": "Wolves",
           "upper": 0.9224707871675492
          },
          {
           "lower": 0.2682962015271187,
           "timepoint": 33.60120391845703,
           "trajectory": "Wolves",
           "upper": 0.915161994099617
          },
          {
           "lower": 0.2666212901473045,
           "timepoint": 33.699398040771484,
           "trajectory": "Wolves",
           "upper": 0.9424799859523774
          },
          {
           "lower": 0.26394947469234464,
           "timepoint": 33.79759216308594,
           "trajectory": "Wolves",
           "upper": 0.9665680795907974
          },
          {
           "lower": 0.266243776679039,
           "timepoint": 33.895790100097656,
           "trajectory": "Wolves",
           "upper": 0.9792508184909821
          },
          {
           "lower": 0.2637952476739883,
           "timepoint": 33.993988037109375,
           "trajectory": "Wolves",
           "upper": 0.9932046800851821
          },
          {
           "lower": 0.25837850794196127,
           "timepoint": 34.092185974121094,
           "trajectory": "Wolves",
           "upper": 1.0007458627223969
          },
          {
           "lower": 0.25344827473163606,
           "timepoint": 34.19038009643555,
           "trajectory": "Wolves",
           "upper": 1.0012211203575134
          },
          {
           "lower": 0.24386561065912246,
           "timepoint": 34.288578033447266,
           "trajectory": "Wolves",
           "upper": 0.995558163523674
          },
          {
           "lower": 0.23652473539114,
           "timepoint": 34.38677215576172,
           "trajectory": "Wolves",
           "upper": 0.9877487063407898
          },
          {
           "lower": 0.23099110648036003,
           "timepoint": 34.48497009277344,
           "trajectory": "Wolves",
           "upper": 0.9768257975578308
          },
          {
           "lower": 0.22627165019512177,
           "timepoint": 34.583168029785156,
           "trajectory": "Wolves",
           "upper": 0.9792587578296661
          },
          {
           "lower": 0.22236145287752151,
           "timepoint": 34.68136215209961,
           "trajectory": "Wolves",
           "upper": 0.986902728676796
          },
          {
           "lower": 0.2194741278886795,
           "timepoint": 34.77956008911133,
           "trajectory": "Wolves",
           "upper": 0.98967787027359
          },
          {
           "lower": 0.21946358680725098,
           "timepoint": 34.87775421142578,
           "trajectory": "Wolves",
           "upper": 0.9947674691677093
          },
          {
           "lower": 0.21704072132706642,
           "timepoint": 34.9759521484375,
           "trajectory": "Wolves",
           "upper": 0.9874040722846985
          },
          {
           "lower": 0.21221753284335138,
           "timepoint": 35.07415008544922,
           "trajectory": "Wolves",
           "upper": 0.9867628872394562
          },
          {
           "lower": 0.2088850162923336,
           "timepoint": 35.17234420776367,
           "trajectory": "Wolves",
           "upper": 0.9872895181179047
          },
          {
           "lower": 0.2051271066069603,
           "timepoint": 35.27054214477539,
           "trajectory": "Wolves",
           "upper": 0.9737116515636444
          },
          {
           "lower": 0.19921137690544127,
           "timepoint": 35.368736267089844,
           "trajectory": "Wolves",
           "upper": 0.9534397929906844
          },
          {
           "lower": 0.19328893572092057,
           "timepoint": 35.46693420410156,
           "trajectory": "Wolves",
           "upper": 0.9291817784309386
          },
          {
           "lower": 0.1880706124007702,
           "timepoint": 35.56513214111328,
           "trajectory": "Wolves",
           "upper": 0.9017300635576246
          },
          {
           "lower": 0.18374776765704154,
           "timepoint": 35.663326263427734,
           "trajectory": "Wolves",
           "upper": 0.8718287050724028
          },
          {
           "lower": 0.18044356778264045,
           "timepoint": 35.76152038574219,
           "trajectory": "Wolves",
           "upper": 0.8401537984609603
          },
          {
           "lower": 0.17781589925289154,
           "timepoint": 35.859718322753906,
           "trajectory": "Wolves",
           "upper": 0.838287615776062
          },
          {
           "lower": 0.17685115560889245,
           "timepoint": 35.957916259765625,
           "trajectory": "Wolves",
           "upper": 0.8782581955194473
          },
          {
           "lower": 0.17651358023285865,
           "timepoint": 36.056114196777344,
           "trajectory": "Wolves",
           "upper": 0.9031823456287383
          },
          {
           "lower": 0.17541647106409072,
           "timepoint": 36.1543083190918,
           "trajectory": "Wolves",
           "upper": 0.8767389118671417
          },
          {
           "lower": 0.17425118684768676,
           "timepoint": 36.25250244140625,
           "trajectory": "Wolves",
           "upper": 0.8459935784339905
          },
          {
           "lower": 0.17419764325022696,
           "timepoint": 36.35070037841797,
           "trajectory": "Wolves",
           "upper": 0.8399101436138152
          },
          {
           "lower": 0.17339342311024666,
           "timepoint": 36.44889831542969,
           "trajectory": "Wolves",
           "upper": 0.867813330888748
          },
          {
           "lower": 0.17133173942565919,
           "timepoint": 36.547096252441406,
           "trajectory": "Wolves",
           "upper": 0.9023440331220626
          },
          {
           "lower": 0.17077715024352075,
           "timepoint": 36.64529037475586,
           "trajectory": "Wolves",
           "upper": 0.9324636578559874
          },
          {
           "lower": 0.1690235637128353,
           "timepoint": 36.74348449707031,
           "trajectory": "Wolves",
           "upper": 0.9574289798736572
          },
          {
           "lower": 0.16846948787569999,
           "timepoint": 36.84168243408203,
           "trajectory": "Wolves",
           "upper": 0.9766945660114288
          },
          {
           "lower": 0.16690961197018622,
           "timepoint": 36.93988037109375,
           "trajectory": "Wolves",
           "upper": 0.9784235924482345
          },
          {
           "lower": 0.1658799521625042,
           "timepoint": 37.0380744934082,
           "trajectory": "Wolves",
           "upper": 0.9686709612607955
          },
          {
           "lower": 0.16550885662436485,
           "timepoint": 37.13627243041992,
           "trajectory": "Wolves",
           "upper": 0.9483280420303345
          },
          {
           "lower": 0.16554983854293823,
           "timepoint": 37.234466552734375,
           "trajectory": "Wolves",
           "upper": 0.9513815075159071
          },
          {
           "lower": 0.16551879644393921,
           "timepoint": 37.332664489746094,
           "trajectory": "Wolves",
           "upper": 0.938515371084213
          },
          {
           "lower": 0.1666104257106781,
           "timepoint": 37.43086242675781,
           "trajectory": "Wolves",
           "upper": 0.9142257273197172
          },
          {
           "lower": 0.16982588320970535,
           "timepoint": 37.529056549072266,
           "trajectory": "Wolves",
           "upper": 0.8906619012355802
          },
          {
           "lower": 0.17467070892453193,
           "timepoint": 37.627254486083984,
           "trajectory": "Wolves",
           "upper": 0.8956397712230681
          },
          {
           "lower": 0.17906989976763726,
           "timepoint": 37.72544860839844,
           "trajectory": "Wolves",
           "upper": 0.9054218500852584
          },
          {
           "lower": 0.18450178802013398,
           "timepoint": 37.823646545410156,
           "trajectory": "Wolves",
           "upper": 0.9133259296417235
          },
          {
           "lower": 0.18393647372722627,
           "timepoint": 37.921844482421875,
           "trajectory": "Wolves",
           "upper": 0.9148140907287595
          },
          {
           "lower": 0.17978139147162436,
           "timepoint": 38.02003860473633,
           "trajectory": "Wolves",
           "upper": 0.9014464795589444
          },
          {
           "lower": 0.17623483017086983,
           "timepoint": 38.11823654174805,
           "trajectory": "Wolves",
           "upper": 0.9042280673980712
          },
          {
           "lower": 0.17535646259784698,
           "timepoint": 38.2164306640625,
           "trajectory": "Wolves",
           "upper": 0.9070893198251723
          },
          {
           "lower": 0.17748943343758583,
           "timepoint": 38.31462860107422,
           "trajectory": "Wolves",
           "upper": 0.9348081707954405
          },
          {
           "lower": 0.1802469238638878,
           "timepoint": 38.41282653808594,
           "trajectory": "Wolves",
           "upper": 0.9610650300979613
          },
          {
           "lower": 0.18075069710612296,
           "timepoint": 38.51102066040039,
           "trajectory": "Wolves",
           "upper": 0.9667689472436904
          },
          {
           "lower": 0.17994418293237685,
           "timepoint": 38.60921859741211,
           "trajectory": "Wolves",
           "upper": 0.9735250145196914
          },
          {
           "lower": 0.17771267220377923,
           "timepoint": 38.70741271972656,
           "trajectory": "Wolves",
           "upper": 0.9830871045589447
          },
          {
           "lower": 0.17378287985920907,
           "timepoint": 38.80561065673828,
           "trajectory": "Wolves",
           "upper": 0.9956873834133149
          },
          {
           "lower": 0.17184447944164277,
           "timepoint": 38.90380859375,
           "trajectory": "Wolves",
           "upper": 0.9964617758989334
          },
          {
           "lower": 0.16898305863142013,
           "timepoint": 39.00200271606445,
           "trajectory": "Wolves",
           "upper": 0.9863021343946456
          },
          {
           "lower": 0.16669340208172798,
           "timepoint": 39.10020065307617,
           "trajectory": "Wolves",
           "upper": 0.9826664566993714
          },
          {
           "lower": 0.16497921720147132,
           "timepoint": 39.198394775390625,
           "trajectory": "Wolves",
           "upper": 0.9727314472198486
          },
          {
           "lower": 0.16416606903076172,
           "timepoint": 39.296592712402344,
           "trajectory": "Wolves",
           "upper": 0.9792365282773972
          },
          {
           "lower": 0.1638589732348919,
           "timepoint": 39.39479064941406,
           "trajectory": "Wolves",
           "upper": 0.9855025500059127
          },
          {
           "lower": 0.1642313100397587,
           "timepoint": 39.492984771728516,
           "trajectory": "Wolves",
           "upper": 0.9948146313428878
          },
          {
           "lower": 0.16483238935470582,
           "timepoint": 39.591182708740234,
           "trajectory": "Wolves",
           "upper": 0.9963617712259293
          },
          {
           "lower": 0.16590516418218612,
           "timepoint": 39.68937683105469,
           "trajectory": "Wolves",
           "upper": 0.9987373322248458
          },
          {
           "lower": 0.1629737839102745,
           "timepoint": 39.787574768066406,
           "trajectory": "Wolves",
           "upper": 1.00008482336998
          },
          {
           "lower": 0.1604690246284008,
           "timepoint": 39.885772705078125,
           "trajectory": "Wolves",
           "upper": 0.9975865095853805
          },
          {
           "lower": 0.1584906168282032,
           "timepoint": 39.98396682739258,
           "trajectory": "Wolves",
           "upper": 0.9969373792409897
          },
          {
           "lower": 0.1570437505841255,
           "timepoint": 40.0821647644043,
           "trajectory": "Wolves",
           "upper": 1.0013433933258056
          },
          {
           "lower": 0.15613754987716674,
           "timepoint": 40.18035888671875,
           "trajectory": "Wolves",
           "upper": 1.004535299539566
          },
          {
           "lower": 0.15617748349905014,
           "timepoint": 40.27855682373047,
           "trajectory": "Wolves",
           "upper": 1.0031640112400055
          },
          {
           "lower": 0.15852109864354133,
           "timepoint": 40.37675476074219,
           "trajectory": "Wolves",
           "upper": 1.00209139585495
          },
          {
           "lower": 0.16160307601094245,
           "timepoint": 40.47494888305664,
           "trajectory": "Wolves",
           "upper": 1.0031655102968215
          },
          {
           "lower": 0.16548710390925409,
           "timepoint": 40.57314682006836,
           "trajectory": "Wolves",
           "upper": 1.000268706679344
          },
          {
           "lower": 0.17024710550904273,
           "timepoint": 40.67134094238281,
           "trajectory": "Wolves",
           "upper": 1.0053135573863983
          },
          {
           "lower": 0.17597175016999245,
           "timepoint": 40.76953887939453,
           "trajectory": "Wolves",
           "upper": 1.0042481005191803
          },
          {
           "lower": 0.18276265785098075,
           "timepoint": 40.86773681640625,
           "trajectory": "Wolves",
           "upper": 1.0015988886356353
          },
          {
           "lower": 0.19073781594634057,
           "timepoint": 40.9659309387207,
           "trajectory": "Wolves",
           "upper": 0.9987025201320648
          },
          {
           "lower": 0.20003380924463274,
           "timepoint": 41.06412887573242,
           "trajectory": "Wolves",
           "upper": 0.9941364258527756
          },
          {
           "lower": 0.20846241042017938,
           "timepoint": 41.162322998046875,
           "trajectory": "Wolves",
           "upper": 0.9933387547731399
          },
          {
           "lower": 0.21300329491496087,
           "timepoint": 41.260520935058594,
           "trajectory": "Wolves",
           "upper": 0.9923468470573424
          },
          {
           "lower": 0.22190933227539061,
           "timepoint": 41.35871887207031,
           "trajectory": "Wolves",
           "upper": 0.9829826682806014
          },
          {
           "lower": 0.23667190596461296,
           "timepoint": 41.456912994384766,
           "trajectory": "Wolves",
           "upper": 0.967493814229965
          },
          {
           "lower": 0.24873205795884132,
           "timepoint": 41.555110931396484,
           "trajectory": "Wolves",
           "upper": 0.9696071535348892
          },
          {
           "lower": 0.252624849230051,
           "timepoint": 41.65330505371094,
           "trajectory": "Wolves",
           "upper": 0.9495100855827331
          },
          {
           "lower": 0.24948872104287148,
           "timepoint": 41.751502990722656,
           "trajectory": "Wolves",
           "upper": 0.9230954587459564
          },
          {
           "lower": 0.24057377353310586,
           "timepoint": 41.849700927734375,
           "trajectory": "Wolves",
           "upper": 0.8931585371494293
          },
          {
           "lower": 0.23964940011501312,
           "timepoint": 41.94789505004883,
           "trajectory": "Wolves",
           "upper": 0.8765404343605041
          },
          {
           "lower": 0.24154147878289223,
           "timepoint": 42.04609298706055,
           "trajectory": "Wolves",
           "upper": 0.8842344284057617
          },
          {
           "lower": 0.23490473479032517,
           "timepoint": 42.144287109375,
           "trajectory": "Wolves",
           "upper": 0.9177514046430587
          },
          {
           "lower": 0.22757762968540193,
           "timepoint": 42.24248504638672,
           "trajectory": "Wolves",
           "upper": 0.9464763581752776
          },
          {
           "lower": 0.2235584504902363,
           "timepoint": 42.34068298339844,
           "trajectory": "Wolves",
           "upper": 0.9540556102991103
          },
          {
           "lower": 0.22396748512983322,
           "timepoint": 42.43887710571289,
           "trajectory": "Wolves",
           "upper": 0.9755993127822875
          },
          {
           "lower": 0.22564252614974975,
           "timepoint": 42.53707504272461,
           "trajectory": "Wolves",
           "upper": 0.9908364653587342
          },
          {
           "lower": 0.22745415866374968,
           "timepoint": 42.63526916503906,
           "trajectory": "Wolves",
           "upper": 0.9996582806110382
          },
          {
           "lower": 0.22303478196263313,
           "timepoint": 42.73346710205078,
           "trajectory": "Wolves",
           "upper": 0.9967845916748046
          },
          {
           "lower": 0.21770877838134767,
           "timepoint": 42.8316650390625,
           "trajectory": "Wolves",
           "upper": 0.9930602729320526
          },
          {
           "lower": 0.21676131710410118,
           "timepoint": 42.92985916137695,
           "trajectory": "Wolves",
           "upper": 0.9873218834400177
          },
          {
           "lower": 0.2125228926539421,
           "timepoint": 43.02805709838867,
           "trajectory": "Wolves",
           "upper": 0.9763293206691742
          },
          {
           "lower": 0.20825617164373397,
           "timepoint": 43.126251220703125,
           "trajectory": "Wolves",
           "upper": 0.9599705278873444
          },
          {
           "lower": 0.20480770468711854,
           "timepoint": 43.224449157714844,
           "trajectory": "Wolves",
           "upper": 0.9704875797033309
          },
          {
           "lower": 0.19864267855882645,
           "timepoint": 43.32264709472656,
           "trajectory": "Wolves",
           "upper": 0.9803441017866135
          },
          {
           "lower": 0.19278619289398194,
           "timepoint": 43.420841217041016,
           "trajectory": "Wolves",
           "upper": 0.9819544672966002
          },
          {
           "lower": 0.18763251826167107,
           "timepoint": 43.519039154052734,
           "trajectory": "Wolves",
           "upper": 0.9851570159196853
          },
          {
           "lower": 0.18316455334424972,
           "timepoint": 43.61723327636719,
           "trajectory": "Wolves",
           "upper": 0.9856617510318756
          },
          {
           "lower": 0.17988908290863037,
           "timepoint": 43.715431213378906,
           "trajectory": "Wolves",
           "upper": 0.9911581814289092
          },
          {
           "lower": 0.17933618202805518,
           "timepoint": 43.813629150390625,
           "trajectory": "Wolves",
           "upper": 0.9942106962203979
          },
          {
           "lower": 0.18049367815256118,
           "timepoint": 43.91182327270508,
           "trajectory": "Wolves",
           "upper": 0.999222519993782
          },
          {
           "lower": 0.18218330666422844,
           "timepoint": 44.0100212097168,
           "trajectory": "Wolves",
           "upper": 0.9999788880348205
          },
          {
           "lower": 0.17931619584560393,
           "timepoint": 44.10821533203125,
           "trajectory": "Wolves",
           "upper": 1.0049906104803086
          },
          {
           "lower": 0.17619916945695877,
           "timepoint": 44.20641326904297,
           "trajectory": "Wolves",
           "upper": 1.0021923750638961
          },
          {
           "lower": 0.17557455822825432,
           "timepoint": 44.30461120605469,
           "trajectory": "Wolves",
           "upper": 0.9986036211252213
          },
          {
           "lower": 0.1763834498822689,
           "timepoint": 44.40280532836914,
           "trajectory": "Wolves",
           "upper": 0.9899148404598236
          },
          {
           "lower": 0.1755789965391159,
           "timepoint": 44.50100326538086,
           "trajectory": "Wolves",
           "upper": 0.9872723191976547
          },
          {
           "lower": 0.1731801487505436,
           "timepoint": 44.59919738769531,
           "trajectory": "Wolves",
           "upper": 0.9692124962806701
          },
          {
           "lower": 0.17481856048107147,
           "timepoint": 44.69739532470703,
           "trajectory": "Wolves",
           "upper": 0.9520798653364181
          },
          {
           "lower": 0.1763616219162941,
           "timepoint": 44.795589447021484,
           "trajectory": "Wolves",
           "upper": 0.950083702802658
          },
          {
           "lower": 0.17467631101608277,
           "timepoint": 44.8937873840332,
           "trajectory": "Wolves",
           "upper": 0.9260579675436019
          },
          {
           "lower": 0.17083724737167358,
           "timepoint": 44.99198532104492,
           "trajectory": "Wolves",
           "upper": 0.8992494136095046
          },
          {
           "lower": 0.1666094593703747,
           "timepoint": 45.090179443359375,
           "trajectory": "Wolves",
           "upper": 0.8703008115291594
          },
          {
           "lower": 0.1656822994351387,
           "timepoint": 45.188377380371094,
           "trajectory": "Wolves",
           "upper": 0.8571781814098357
          },
          {
           "lower": 0.1654304549098015,
           "timepoint": 45.28657150268555,
           "trajectory": "Wolves",
           "upper": 0.8730472445487976
          },
          {
           "lower": 0.1663128986954689,
           "timepoint": 45.384769439697266,
           "trajectory": "Wolves",
           "upper": 0.8788756728172301
          },
          {
           "lower": 0.16778351962566376,
           "timepoint": 45.482967376708984,
           "trajectory": "Wolves",
           "upper": 0.8818724185228345
          },
          {
           "lower": 0.1688595473766327,
           "timepoint": 45.58116149902344,
           "trajectory": "Wolves",
           "upper": 0.8816515505313869
          },
          {
           "lower": 0.17143086344003677,
           "timepoint": 45.679359436035156,
           "trajectory": "Wolves",
           "upper": 0.8742863327264783
          },
          {
           "lower": 0.1752846710383892,
           "timepoint": 45.77755355834961,
           "trajectory": "Wolves",
           "upper": 0.8763623982667923
          },
          {
           "lower": 0.17985443621873856,
           "timepoint": 45.87575149536133,
           "trajectory": "Wolves",
           "upper": 0.8810112625360488
          },
          {
           "lower": 0.18417395576834678,
           "timepoint": 45.97394943237305,
           "trajectory": "Wolves",
           "upper": 0.9080043017864226
          },
          {
           "lower": 0.18885962814092636,
           "timepoint": 46.0721435546875,
           "trajectory": "Wolves",
           "upper": 0.9386744022369383
          },
          {
           "lower": 0.18875136002898216,
           "timepoint": 46.17034149169922,
           "trajectory": "Wolves",
           "upper": 0.951682311296463
          },
          {
           "lower": 0.1875740148127079,
           "timepoint": 46.26853561401367,
           "trajectory": "Wolves",
           "upper": 0.9526154279708862
          },
          {
           "lower": 0.18340350538492203,
           "timepoint": 46.36673355102539,
           "trajectory": "Wolves",
           "upper": 0.967214611172676
          },
          {
           "lower": 0.1797109790146351,
           "timepoint": 46.46493148803711,
           "trajectory": "Wolves",
           "upper": 0.9782778948545456
          },
          {
           "lower": 0.1780935861170292,
           "timepoint": 46.56312561035156,
           "trajectory": "Wolves",
           "upper": 0.9929623037576676
          },
          {
           "lower": 0.18051922917366028,
           "timepoint": 46.66132354736328,
           "trajectory": "Wolves",
           "upper": 0.9935926169157028
          },
          {
           "lower": 0.1835742212831974,
           "timepoint": 46.759517669677734,
           "trajectory": "Wolves",
           "upper": 0.982981064915657
          },
          {
           "lower": 0.18483320698142053,
           "timepoint": 46.85771560668945,
           "trajectory": "Wolves",
           "upper": 0.9751109391450882
          },
          {
           "lower": 0.18378577679395675,
           "timepoint": 46.95591354370117,
           "trajectory": "Wolves",
           "upper": 0.9734359979629517
          },
          {
           "lower": 0.18323469310998916,
           "timepoint": 47.054107666015625,
           "trajectory": "Wolves",
           "upper": 0.9589579313993454
          },
          {
           "lower": 0.18296254724264144,
           "timepoint": 47.152305603027344,
           "trajectory": "Wolves",
           "upper": 0.9672924876213074
          },
          {
           "lower": 0.18928456977009772,
           "timepoint": 47.2504997253418,
           "trajectory": "Wolves",
           "upper": 0.9726561933755874
          },
          {
           "lower": 0.1836253210902214,
           "timepoint": 47.348697662353516,
           "trajectory": "Wolves",
           "upper": 0.9888338655233383
          },
          {
           "lower": 0.17733232229948043,
           "timepoint": 47.44689178466797,
           "trajectory": "Wolves",
           "upper": 0.9925686925649643
          },
          {
           "lower": 0.1724783331155777,
           "timepoint": 47.54508972167969,
           "trajectory": "Wolves",
           "upper": 0.995303800702095
          },
          {
           "lower": 0.16982696056365967,
           "timepoint": 47.643287658691406,
           "trajectory": "Wolves",
           "upper": 0.9976611137390137
          },
          {
           "lower": 0.16763659566640854,
           "timepoint": 47.74148178100586,
           "trajectory": "Wolves",
           "upper": 0.9995992243289947
          },
          {
           "lower": 0.16603316590189934,
           "timepoint": 47.83967971801758,
           "trajectory": "Wolves",
           "upper": 0.9973608493804932
          },
          {
           "lower": 0.16775305867195128,
           "timepoint": 47.93787384033203,
           "trajectory": "Wolves",
           "upper": 0.9954323470592499
          },
          {
           "lower": 0.16995794773101808,
           "timepoint": 48.03607177734375,
           "trajectory": "Wolves",
           "upper": 0.9963240295648574
          },
          {
           "lower": 0.17077829837799072,
           "timepoint": 48.13426971435547,
           "trajectory": "Wolves",
           "upper": 1.0007076144218445
          },
          {
           "lower": 0.17158592715859414,
           "timepoint": 48.23246383666992,
           "trajectory": "Wolves",
           "upper": 1.0012928336858749
          },
          {
           "lower": 0.17150169163942336,
           "timepoint": 48.33066177368164,
           "trajectory": "Wolves",
           "upper": 0.9991271167993545
          },
          {
           "lower": 0.1677117846906185,
           "timepoint": 48.428855895996094,
           "trajectory": "Wolves",
           "upper": 1.0007474809885024
          },
          {
           "lower": 0.1644555762410164,
           "timepoint": 48.52705383300781,
           "trajectory": "Wolves",
           "upper": 1.0012450426816941
          },
          {
           "lower": 0.1617278590798378,
           "timepoint": 48.62525177001953,
           "trajectory": "Wolves",
           "upper": 0.9981553196907044
          },
          {
           "lower": 0.15952814891934394,
           "timepoint": 48.723445892333984,
           "trajectory": "Wolves",
           "upper": 1.0005579859018325
          },
          {
           "lower": 0.15785960704088212,
           "timepoint": 48.8216438293457,
           "trajectory": "Wolves",
           "upper": 1.0051156818866729
          },
          {
           "lower": 0.1567295730113983,
           "timepoint": 48.919837951660156,
           "trajectory": "Wolves",
           "upper": 1.003503081202507
          },
          {
           "lower": 0.15729982852935792,
           "timepoint": 49.018035888671875,
           "trajectory": "Wolves",
           "upper": 1.003023886680603
          },
          {
           "lower": 0.15950344130396843,
           "timepoint": 49.116233825683594,
           "trajectory": "Wolves",
           "upper": 0.9974136888980866
          },
          {
           "lower": 0.16275647804141044,
           "timepoint": 49.21442794799805,
           "trajectory": "Wolves",
           "upper": 0.9931495100259781
          },
          {
           "lower": 0.16683145835995675,
           "timepoint": 49.312625885009766,
           "trajectory": "Wolves",
           "upper": 0.9876937597990035
          },
          {
           "lower": 0.17180634289979935,
           "timepoint": 49.41082000732422,
           "trajectory": "Wolves",
           "upper": 0.9899403691291809
          },
          {
           "lower": 0.17777244374155998,
           "timepoint": 49.50901794433594,
           "trajectory": "Wolves",
           "upper": 0.9889350175857543
          },
          {
           "lower": 0.18516932129859925,
           "timepoint": 49.607215881347656,
           "trajectory": "Wolves",
           "upper": 0.9785982936620711
          },
          {
           "lower": 0.19280534088611603,
           "timepoint": 49.70541000366211,
           "trajectory": "Wolves",
           "upper": 0.961494669318199
          },
          {
           "lower": 0.19997676312923432,
           "timepoint": 49.80360794067383,
           "trajectory": "Wolves",
           "upper": 0.9558734208345413
          },
          {
           "lower": 0.20854627192020417,
           "timepoint": 49.90180206298828,
           "trajectory": "Wolves",
           "upper": 0.9501699745655059
          },
          {
           "lower": 0.21367589011788368,
           "timepoint": 50,
           "trajectory": "Wolves",
           "upper": 0.9239561259746552
          }
         ]
        },
        {
         "name": "traces",
         "transform": [
          {
           "expr": "isValid(datum.value)",
           "type": "filter"
          }
         ],
         "values": [
          {
           "sample_id": 0,
           "timepoint": 1,
           "trajectory": "Wolves Example",
           "value": 0.821622908115387
          },
          {
           "sample_id": 0,
           "timepoint": 1.0981963872909546,
           "trajectory": "Wolves Example",
           "value": 0.7873044013977051
          },
          {
           "sample_id": 0,
           "timepoint": 1.1963927745819092,
           "trajectory": "Wolves Example",
           "value": 0.7526799440383911
          },
          {
           "sample_id": 0,
           "timepoint": 1.2945891618728638,
           "trajectory": "Wolves Example",
           "value": 0.7181562185287476
          },
          {
           "sample_id": 0,
           "timepoint": 1.3927855491638184,
           "trajectory": "Wolves Example",
           "value": 0.6840609908103943
          },
          {
           "sample_id": 0,
           "timepoint": 1.490981936454773,
           "trajectory": "Wolves Example",
           "value": 0.6506653428077698
          },
          {
           "sample_id": 0,
           "timepoint": 1.5891783237457275,
           "trajectory": "Wolves Example",
           "value": 0.6181739568710327
          },
          {
           "sample_id": 0,
           "timepoint": 1.6873748302459717,
           "trajectory": "Wolves Example",
           "value": 0.58674556016922
          },
          {
           "sample_id": 0,
           "timepoint": 1.7855710983276367,
           "trajectory": "Wolves Example",
           "value": 0.5564937591552734
          },
          {
           "sample_id": 0,
           "timepoint": 1.8837676048278809,
           "trajectory": "Wolves Example",
           "value": 0.5274980068206787
          },
          {
           "sample_id": 0,
           "timepoint": 1.981963872909546,
           "trajectory": "Wolves Example",
           "value": 0.49980974197387695
          },
          {
           "sample_id": 0,
           "timepoint": 2.08016037940979,
           "trajectory": "Wolves Example",
           "value": 0.4734557271003723
          },
          {
           "sample_id": 0,
           "timepoint": 2.178356647491455,
           "trajectory": "Wolves Example",
           "value": 0.4484410285949707
          },
          {
           "sample_id": 0,
           "timepoint": 2.276553153991699,
           "trajectory": "Wolves Example",
           "value": 0.424760639667511
          },
          {
           "sample_id": 0,
           "timepoint": 2.3747496604919434,
           "trajectory": "Wolves Example",
           "value": 0.40239378809928894
          },
          {
           "sample_id": 0,
           "timepoint": 2.4729459285736084,
           "trajectory": "Wolves Example",
           "value": 0.38131147623062134
          },
          {
           "sample_id": 0,
           "timepoint": 2.5711421966552734,
           "trajectory": "Wolves Example",
           "value": 0.36147844791412354
          },
          {
           "sample_id": 0,
           "timepoint": 2.6693387031555176,
           "trajectory": "Wolves Example",
           "value": 0.3428533971309662
          },
          {
           "sample_id": 0,
           "timepoint": 2.7675352096557617,
           "trajectory": "Wolves Example",
           "value": 0.32539263367652893
          },
          {
           "sample_id": 0,
           "timepoint": 2.8657314777374268,
           "trajectory": "Wolves Example",
           "value": 0.30904874205589294
          },
          {
           "sample_id": 0,
           "timepoint": 2.963927745819092,
           "trajectory": "Wolves Example",
           "value": 0.2937760353088379
          },
          {
           "sample_id": 0,
           "timepoint": 3.062124252319336,
           "trajectory": "Wolves Example",
           "value": 0.27952665090560913
          },
          {
           "sample_id": 0,
           "timepoint": 3.16032075881958,
           "trajectory": "Wolves Example",
           "value": 0.26625362038612366
          },
          {
           "sample_id": 0,
           "timepoint": 3.258517026901245,
           "trajectory": "Wolves Example",
           "value": 0.2539113163948059
          },
          {
           "sample_id": 0,
           "timepoint": 3.3567135334014893,
           "trajectory": "Wolves Example",
           "value": 0.2424553632736206
          },
          {
           "sample_id": 0,
           "timepoint": 3.4549098014831543,
           "trajectory": "Wolves Example",
           "value": 0.23184339702129364
          },
          {
           "sample_id": 0,
           "timepoint": 3.5531063079833984,
           "trajectory": "Wolves Example",
           "value": 0.22203589975833893
          },
          {
           "sample_id": 0,
           "timepoint": 3.6513025760650635,
           "trajectory": "Wolves Example",
           "value": 0.2129942625761032
          },
          {
           "sample_id": 0,
           "timepoint": 3.7494990825653076,
           "trajectory": "Wolves Example",
           "value": 0.20468349754810333
          },
          {
           "sample_id": 0,
           "timepoint": 3.8476953506469727,
           "trajectory": "Wolves Example",
           "value": 0.19707109034061432
          },
          {
           "sample_id": 0,
           "timepoint": 3.945891857147217,
           "trajectory": "Wolves Example",
           "value": 0.19012747704982758
          },
          {
           "sample_id": 0,
           "timepoint": 4.044088363647461,
           "trajectory": "Wolves Example",
           "value": 0.18382591009140015
          },
          {
           "sample_id": 0,
           "timepoint": 4.142284393310547,
           "trajectory": "Wolves Example",
           "value": 0.1781427413225174
          },
          {
           "sample_id": 0,
           "timepoint": 4.240481376647949,
           "trajectory": "Wolves Example",
           "value": 0.17305755615234375
          },
          {
           "sample_id": 0,
           "timepoint": 4.338677406311035,
           "trajectory": "Wolves Example",
           "value": 0.16855362057685852
          },
          {
           "sample_id": 0,
           "timepoint": 4.436873912811279,
           "trajectory": "Wolves Example",
           "value": 0.1646171510219574
          },
          {
           "sample_id": 0,
           "timepoint": 4.535070419311523,
           "trajectory": "Wolves Example",
           "value": 0.16123835742473602
          },
          {
           "sample_id": 0,
           "timepoint": 4.633266448974609,
           "trajectory": "Wolves Example",
           "value": 0.15841136872768402
          },
          {
           "sample_id": 0,
           "timepoint": 4.7314629554748535,
           "trajectory": "Wolves Example",
           "value": 0.15613549947738647
          },
          {
           "sample_id": 0,
           "timepoint": 4.829659461975098,
           "trajectory": "Wolves Example",
           "value": 0.15441250801086426
          },
          {
           "sample_id": 0,
           "timepoint": 4.927855491638184,
           "trajectory": "Wolves Example",
           "value": 0.15325087308883667
          },
          {
           "sample_id": 0,
           "timepoint": 5.026051998138428,
           "trajectory": "Wolves Example",
           "value": 0.1526639312505722
          },
          {
           "sample_id": 0,
           "timepoint": 5.124248504638672,
           "trajectory": "Wolves Example",
           "value": 0.15267105400562286
          },
          {
           "sample_id": 0,
           "timepoint": 5.222445011138916,
           "trajectory": "Wolves Example",
           "value": 0.15329870581626892
          },
          {
           "sample_id": 0,
           "timepoint": 5.32064151763916,
           "trajectory": "Wolves Example",
           "value": 0.15458041429519653
          },
          {
           "sample_id": 0,
           "timepoint": 5.418837547302246,
           "trajectory": "Wolves Example",
           "value": 0.1565585732460022
          },
          {
           "sample_id": 0,
           "timepoint": 5.51703405380249,
           "trajectory": "Wolves Example",
           "value": 0.15928515791893005
          },
          {
           "sample_id": 0,
           "timepoint": 5.615230560302734,
           "trajectory": "Wolves Example",
           "value": 0.16282318532466888
          },
          {
           "sample_id": 0,
           "timepoint": 5.7134270668029785,
           "trajectory": "Wolves Example",
           "value": 0.1672477424144745
          },
          {
           "sample_id": 0,
           "timepoint": 5.811623573303223,
           "trajectory": "Wolves Example",
           "value": 0.17264868319034576
          },
          {
           "sample_id": 0,
           "timepoint": 5.909819602966309,
           "trajectory": "Wolves Example",
           "value": 0.17913134396076202
          },
          {
           "sample_id": 0,
           "timepoint": 6.008016109466553,
           "trajectory": "Wolves Example",
           "value": 0.18681934475898743
          },
          {
           "sample_id": 0,
           "timepoint": 6.106212615966797,
           "trajectory": "Wolves Example",
           "value": 0.1958557516336441
          },
          {
           "sample_id": 0,
           "timepoint": 6.204409122467041,
           "trajectory": "Wolves Example",
           "value": 0.20640568435192108
          },
          {
           "sample_id": 0,
           "timepoint": 6.302605152130127,
           "trajectory": "Wolves Example",
           "value": 0.2186577022075653
          },
          {
           "sample_id": 0,
           "timepoint": 6.400801658630371,
           "trajectory": "Wolves Example",
           "value": 0.23282429575920105
          },
          {
           "sample_id": 0,
           "timepoint": 6.498998165130615,
           "trajectory": "Wolves Example",
           "value": 0.24914248287677765
          },
          {
           "sample_id": 0,
           "timepoint": 6.597194671630859,
           "trajectory": "Wolves Example",
           "value": 0.2678697109222412
          },
          {
           "sample_id": 0,
           "timepoint": 6.695390701293945,
           "trajectory": "Wolves Example",
           "value": 0.28928178548812866
          },
          {
           "sample_id": 0,
           "timepoint": 6.7935872077941895,
           "trajectory": "Wolves Example",
           "value": 0.3136606216430664
          },
          {
           "sample_id": 0,
           "timepoint": 6.891783714294434,
           "trajectory": "Wolves Example",
           "value": 0.34128323197364807
          },
          {
           "sample_id": 0,
           "timepoint": 6.989980220794678,
           "trajectory": "Wolves Example",
           "value": 0.3723979592323303
          },
          {
           "sample_id": 0,
           "timepoint": 7.088176250457764,
           "trajectory": "Wolves Example",
           "value": 0.40719833970069885
          },
          {
           "sample_id": 0,
           "timepoint": 7.186372756958008,
           "trajectory": "Wolves Example",
           "value": 0.4457855224609375
          },
          {
           "sample_id": 0,
           "timepoint": 7.284569263458252,
           "trajectory": "Wolves Example",
           "value": 0.48812609910964966
          },
          {
           "sample_id": 0,
           "timepoint": 7.382765769958496,
           "trajectory": "Wolves Example",
           "value": 0.5340039730072021
          },
          {
           "sample_id": 0,
           "timepoint": 7.48096227645874,
           "trajectory": "Wolves Example",
           "value": 0.582977831363678
          },
          {
           "sample_id": 0,
           "timepoint": 7.579158306121826,
           "trajectory": "Wolves Example",
           "value": 0.6343499422073364
          },
          {
           "sample_id": 0,
           "timepoint": 7.67735481262207,
           "trajectory": "Wolves Example",
           "value": 0.687146782875061
          },
          {
           "sample_id": 0,
           "timepoint": 7.7755513191223145,
           "trajectory": "Wolves Example",
           "value": 0.740150511264801
          },
          {
           "sample_id": 0,
           "timepoint": 7.873747825622559,
           "trajectory": "Wolves Example",
           "value": 0.7919411659240723
          },
          {
           "sample_id": 0,
           "timepoint": 7.9719438552856445,
           "trajectory": "Wolves Example",
           "value": 0.8409978151321411
          },
          {
           "sample_id": 0,
           "timepoint": 8.070140838623047,
           "trajectory": "Wolves Example",
           "value": 0.8858099579811096
          },
          {
           "sample_id": 0,
           "timepoint": 8.168336868286133,
           "trajectory": "Wolves Example",
           "value": 0.9250058531761169
          },
          {
           "sample_id": 0,
           "timepoint": 8.266532897949219,
           "trajectory": "Wolves Example",
           "value": 0.9574613571166992
          },
          {
           "sample_id": 0,
           "timepoint": 8.364728927612305,
           "trajectory": "Wolves Example",
           "value": 0.9823859333992004
          },
          {
           "sample_id": 0,
           "timepoint": 8.462925910949707,
           "trajectory": "Wolves Example",
           "value": 0.9993607997894287
          },
          {
           "sample_id": 0,
           "timepoint": 8.56112289428711,
           "trajectory": "Wolves Example",
           "value": 1.008333444595337
          },
          {
           "sample_id": 0,
           "timepoint": 8.659318923950195,
           "trajectory": "Wolves Example",
           "value": 1.0095834732055664
          },
          {
           "sample_id": 0,
           "timepoint": 8.757514953613281,
           "trajectory": "Wolves Example",
           "value": 1.003652572631836
          },
          {
           "sample_id": 0,
           "timepoint": 8.855710983276367,
           "trajectory": "Wolves Example",
           "value": 0.9912704825401306
          },
          {
           "sample_id": 0,
           "timepoint": 8.95390796661377,
           "trajectory": "Wolves Example",
           "value": 0.9732823967933655
          },
          {
           "sample_id": 0,
           "timepoint": 9.052103996276855,
           "trajectory": "Wolves Example",
           "value": 0.9505805969238281
          },
          {
           "sample_id": 0,
           "timepoint": 9.150300979614258,
           "trajectory": "Wolves Example",
           "value": 0.9240520596504211
          },
          {
           "sample_id": 0,
           "timepoint": 9.248497009277344,
           "trajectory": "Wolves Example",
           "value": 0.8945348858833313
          },
          {
           "sample_id": 0,
           "timepoint": 9.346693992614746,
           "trajectory": "Wolves Example",
           "value": 0.862805962562561
          },
          {
           "sample_id": 0,
           "timepoint": 9.444890022277832,
           "trajectory": "Wolves Example",
           "value": 0.8295533061027527
          },
          {
           "sample_id": 0,
           "timepoint": 9.543086051940918,
           "trajectory": "Wolves Example",
           "value": 0.7953763604164124
          },
          {
           "sample_id": 0,
           "timepoint": 9.64128303527832,
           "trajectory": "Wolves Example",
           "value": 0.7607815265655518
          },
          {
           "sample_id": 0,
           "timepoint": 9.739479064941406,
           "trajectory": "Wolves Example",
           "value": 0.7262004017829895
          },
          {
           "sample_id": 0,
           "timepoint": 9.837675094604492,
           "trajectory": "Wolves Example",
           "value": 0.6919798254966736
          },
          {
           "sample_id": 0,
           "timepoint": 9.935872077941895,
           "trajectory": "Wolves Example",
           "value": 0.6584003567695618
          },
          {
           "sample_id": 0,
           "timepoint": 10.03406810760498,
           "trajectory": "Wolves Example",
           "value": 0.6256820559501648
          },
          {
           "sample_id": 0,
           "timepoint": 10.132265090942383,
           "trajectory": "Wolves Example",
           "value": 0.5939931869506836
          },
          {
           "sample_id": 0,
           "timepoint": 10.230461120605469,
           "trajectory": "Wolves Example",
           "value": 0.5634579062461853
          },
          {
           "sample_id": 0,
           "timepoint": 10.328657150268555,
           "trajectory": "Wolves Example",
           "value": 0.534162700176239
          },
          {
           "sample_id": 0,
           "timepoint": 10.426854133605957,
           "trajectory": "Wolves Example",
           "value": 0.5061654448509216
          },
          {
           "sample_id": 0,
           "timepoint": 10.525050163269043,
           "trajectory": "Wolves Example",
           "value": 0.4794972240924835
          },
          {
           "sample_id": 0,
           "timepoint": 10.623247146606445,
           "trajectory": "Wolves Example",
           "value": 0.4541703462600708
          },
          {
           "sample_id": 0,
           "timepoint": 10.721443176269531,
           "trajectory": "Wolves Example",
           "value": 0.43017977476119995
          },
          {
           "sample_id": 0,
           "timepoint": 10.819639205932617,
           "trajectory": "Wolves Example",
           "value": 0.40750783681869507
          },
          {
           "sample_id": 0,
           "timepoint": 10.91783618927002,
           "trajectory": "Wolves Example",
           "value": 0.3861285448074341
          },
          {
           "sample_id": 0,
           "timepoint": 11.016032218933105,
           "trajectory": "Wolves Example",
           "value": 0.3660065829753876
          },
          {
           "sample_id": 0,
           "timepoint": 11.114228248596191,
           "trajectory": "Wolves Example",
           "value": 0.3471026122570038
          },
          {
           "sample_id": 0,
           "timepoint": 11.212425231933594,
           "trajectory": "Wolves Example",
           "value": 0.32937338948249817
          },
          {
           "sample_id": 0,
           "timepoint": 11.31062126159668,
           "trajectory": "Wolves Example",
           "value": 0.3127729892730713
          },
          {
           "sample_id": 0,
           "timepoint": 11.408818244934082,
           "trajectory": "Wolves Example",
           "value": 0.29725411534309387
          },
          {
           "sample_id": 0,
           "timepoint": 11.507014274597168,
           "trajectory": "Wolves Example",
           "value": 0.2827695906162262
          },
          {
           "sample_id": 0,
           "timepoint": 11.605210304260254,
           "trajectory": "Wolves Example",
           "value": 0.2692723274230957
          },
          {
           "sample_id": 0,
           "timepoint": 11.703407287597656,
           "trajectory": "Wolves Example",
           "value": 0.25671637058258057
          },
          {
           "sample_id": 0,
           "timepoint": 11.801603317260742,
           "trajectory": "Wolves Example",
           "value": 0.24505683779716492
          },
          {
           "sample_id": 0,
           "timepoint": 11.899799346923828,
           "trajectory": "Wolves Example",
           "value": 0.2342516928911209
          },
          {
           "sample_id": 0,
           "timepoint": 11.99799633026123,
           "trajectory": "Wolves Example",
           "value": 0.22425946593284607
          },
          {
           "sample_id": 0,
           "timepoint": 12.096192359924316,
           "trajectory": "Wolves Example",
           "value": 0.21504196524620056
          },
          {
           "sample_id": 0,
           "timepoint": 12.194389343261719,
           "trajectory": "Wolves Example",
           "value": 0.2065633088350296
          },
          {
           "sample_id": 0,
           "timepoint": 12.292585372924805,
           "trajectory": "Wolves Example",
           "value": 0.1987905204296112
          },
          {
           "sample_id": 0,
           "timepoint": 12.39078140258789,
           "trajectory": "Wolves Example",
           "value": 0.1916927844285965
          },
          {
           "sample_id": 0,
           "timepoint": 12.488978385925293,
           "trajectory": "Wolves Example",
           "value": 0.18524335324764252
          },
          {
           "sample_id": 0,
           "timepoint": 12.587174415588379,
           "trajectory": "Wolves Example",
           "value": 0.17941755056381226
          },
          {
           "sample_id": 0,
           "timepoint": 12.685371398925781,
           "trajectory": "Wolves Example",
           "value": 0.1741943359375
          },
          {
           "sample_id": 0,
           "timepoint": 12.783567428588867,
           "trajectory": "Wolves Example",
           "value": 0.16955561935901642
          },
          {
           "sample_id": 0,
           "timepoint": 12.881763458251953,
           "trajectory": "Wolves Example",
           "value": 0.16548745334148407
          },
          {
           "sample_id": 0,
           "timepoint": 12.979960441589355,
           "trajectory": "Wolves Example",
           "value": 0.16197894513607025
          },
          {
           "sample_id": 0,
           "timepoint": 13.078156471252441,
           "trajectory": "Wolves Example",
           "value": 0.15902355313301086
          },
          {
           "sample_id": 0,
           "timepoint": 13.176352500915527,
           "trajectory": "Wolves Example",
           "value": 0.15661843121051788
          },
          {
           "sample_id": 0,
           "timepoint": 13.27454948425293,
           "trajectory": "Wolves Example",
           "value": 0.15476548671722412
          },
          {
           "sample_id": 0,
           "timepoint": 13.372745513916016,
           "trajectory": "Wolves Example",
           "value": 0.1534716784954071
          },
          {
           "sample_id": 0,
           "timepoint": 13.470942497253418,
           "trajectory": "Wolves Example",
           "value": 0.15274885296821594
          },
          {
           "sample_id": 0,
           "timepoint": 13.569138526916504,
           "trajectory": "Wolves Example",
           "value": 0.15261511504650116
          },
          {
           "sample_id": 0,
           "timepoint": 13.66733455657959,
           "trajectory": "Wolves Example",
           "value": 0.15309478342533112
          },
          {
           "sample_id": 0,
           "timepoint": 13.765531539916992,
           "trajectory": "Wolves Example",
           "value": 0.1542200744152069
          },
          {
           "sample_id": 0,
           "timepoint": 13.863727569580078,
           "trajectory": "Wolves Example",
           "value": 0.15603111684322357
          },
          {
           "sample_id": 0,
           "timepoint": 13.96192455291748,
           "trajectory": "Wolves Example",
           "value": 0.15857741236686707
          },
          {
           "sample_id": 0,
           "timepoint": 14.060120582580566,
           "trajectory": "Wolves Example",
           "value": 0.16191919147968292
          },
          {
           "sample_id": 0,
           "timepoint": 14.158316612243652,
           "trajectory": "Wolves Example",
           "value": 0.16612915694713593
          },
          {
           "sample_id": 0,
           "timepoint": 14.256513595581055,
           "trajectory": "Wolves Example",
           "value": 0.1712929606437683
          },
          {
           "sample_id": 0,
           "timepoint": 14.35470962524414,
           "trajectory": "Wolves Example",
           "value": 0.17751237750053406
          },
          {
           "sample_id": 0,
           "timepoint": 14.452905654907227,
           "trajectory": "Wolves Example",
           "value": 0.18490640819072723
          },
          {
           "sample_id": 0,
           "timepoint": 14.551102638244629,
           "trajectory": "Wolves Example",
           "value": 0.1936136782169342
          },
          {
           "sample_id": 0,
           "timepoint": 14.649298667907715,
           "trajectory": "Wolves Example",
           "value": 0.203793466091156
          },
          {
           "sample_id": 0,
           "timepoint": 14.747495651245117,
           "trajectory": "Wolves Example",
           "value": 0.21562933921813965
          },
          {
           "sample_id": 0,
           "timepoint": 14.845691680908203,
           "trajectory": "Wolves Example",
           "value": 0.22932790219783783
          },
          {
           "sample_id": 0,
           "timepoint": 14.943887710571289,
           "trajectory": "Wolves Example",
           "value": 0.24512054026126862
          },
          {
           "sample_id": 0,
           "timepoint": 15.042084693908691,
           "trajectory": "Wolves Example",
           "value": 0.26326024532318115
          },
          {
           "sample_id": 0,
           "timepoint": 15.140280723571777,
           "trajectory": "Wolves Example",
           "value": 0.2840193212032318
          },
          {
           "sample_id": 0,
           "timepoint": 15.23847770690918,
           "trajectory": "Wolves Example",
           "value": 0.3076789379119873
          },
          {
           "sample_id": 0,
           "timepoint": 15.336673736572266,
           "trajectory": "Wolves Example",
           "value": 0.3345196545124054
          },
          {
           "sample_id": 0,
           "timepoint": 15.434869766235352,
           "trajectory": "Wolves Example",
           "value": 0.3647974133491516
          },
          {
           "sample_id": 0,
           "timepoint": 15.533066749572754,
           "trajectory": "Wolves Example",
           "value": 0.3987233340740204
          },
          {
           "sample_id": 0,
           "timepoint": 15.63126277923584,
           "trajectory": "Wolves Example",
           "value": 0.4364219605922699
          },
          {
           "sample_id": 0,
           "timepoint": 15.729458808898926,
           "trajectory": "Wolves Example",
           "value": 0.47789663076400757
          },
          {
           "sample_id": 0,
           "timepoint": 15.827655792236328,
           "trajectory": "Wolves Example",
           "value": 0.5229778289794922
          },
          {
           "sample_id": 0,
           "timepoint": 15.925851821899414,
           "trajectory": "Wolves Example",
           "value": 0.5712802410125732
          },
          {
           "sample_id": 0,
           "timepoint": 16.0240478515625,
           "trajectory": "Wolves Example",
           "value": 0.6221684813499451
          },
          {
           "sample_id": 0,
           "timepoint": 16.12224578857422,
           "trajectory": "Wolves Example",
           "value": 0.674732506275177
          },
          {
           "sample_id": 0,
           "timepoint": 16.220439910888672,
           "trajectory": "Wolves Example",
           "value": 0.727809727191925
          },
          {
           "sample_id": 0,
           "timepoint": 16.31863784790039,
           "trajectory": "Wolves Example",
           "value": 0.780018150806427
          },
          {
           "sample_id": 0,
           "timepoint": 16.416833877563477,
           "trajectory": "Wolves Example",
           "value": 0.8298512697219849
          },
          {
           "sample_id": 0,
           "timepoint": 16.515029907226562,
           "trajectory": "Wolves Example",
           "value": 0.8757861256599426
          },
          {
           "sample_id": 0,
           "timepoint": 16.61322784423828,
           "trajectory": "Wolves Example",
           "value": 0.9164060950279236
          },
          {
           "sample_id": 0,
           "timepoint": 16.711421966552734,
           "trajectory": "Wolves Example",
           "value": 0.9505221843719482
          },
          {
           "sample_id": 0,
           "timepoint": 16.809619903564453,
           "trajectory": "Wolves Example",
           "value": 0.9772599339485168
          },
          {
           "sample_id": 0,
           "timepoint": 16.90781593322754,
           "trajectory": "Wolves Example",
           "value": 0.9961108565330505
          },
          {
           "sample_id": 0,
           "timepoint": 17.006011962890625,
           "trajectory": "Wolves Example",
           "value": 1.0069416761398315
          },
          {
           "sample_id": 0,
           "timepoint": 17.10420799255371,
           "trajectory": "Wolves Example",
           "value": 1.0099570751190186
          },
          {
           "sample_id": 0,
           "timepoint": 17.20240592956543,
           "trajectory": "Wolves Example",
           "value": 1.005645990371704
          },
          {
           "sample_id": 0,
           "timepoint": 17.300601959228516,
           "trajectory": "Wolves Example",
           "value": 0.99470055103302
          },
          {
           "sample_id": 0,
           "timepoint": 17.3987979888916,
           "trajectory": "Wolves Example",
           "value": 0.9779447913169861
          },
          {
           "sample_id": 0,
           "timepoint": 17.496994018554688,
           "trajectory": "Wolves Example",
           "value": 0.9562644958496094
          },
          {
           "sample_id": 0,
           "timepoint": 17.595190048217773,
           "trajectory": "Wolves Example",
           "value": 0.9305527210235596
          },
          {
           "sample_id": 0,
           "timepoint": 17.693387985229492,
           "trajectory": "Wolves Example",
           "value": 0.9016628265380859
          },
          {
           "sample_id": 0,
           "timepoint": 17.791584014892578,
           "trajectory": "Wolves Example",
           "value": 0.8703854084014893
          },
          {
           "sample_id": 0,
           "timepoint": 17.889780044555664,
           "trajectory": "Wolves Example",
           "value": 0.8374325633049011
          },
          {
           "sample_id": 0,
           "timepoint": 17.98797607421875,
           "trajectory": "Wolves Example",
           "value": 0.8034222722053528
          },
          {
           "sample_id": 0,
           "timepoint": 18.086172103881836,
           "trajectory": "Wolves Example",
           "value": 0.7688846588134766
          },
          {
           "sample_id": 0,
           "timepoint": 18.184368133544922,
           "trajectory": "Wolves Example",
           "value": 0.7342663407325745
          },
          {
           "sample_id": 0,
           "timepoint": 18.28256607055664,
           "trajectory": "Wolves Example",
           "value": 0.6999338865280151
          },
          {
           "sample_id": 0,
           "timepoint": 18.380762100219727,
           "trajectory": "Wolves Example",
           "value": 0.6661818623542786
          },
          {
           "sample_id": 0,
           "timepoint": 18.478958129882812,
           "trajectory": "Wolves Example",
           "value": 0.633246898651123
          },
          {
           "sample_id": 0,
           "timepoint": 18.5771541595459,
           "trajectory": "Wolves Example",
           "value": 0.6013045907020569
          },
          {
           "sample_id": 0,
           "timepoint": 18.675350189208984,
           "trajectory": "Wolves Example",
           "value": 0.5704897046089172
          },
          {
           "sample_id": 0,
           "timepoint": 18.773548126220703,
           "trajectory": "Wolves Example",
           "value": 0.5408980846405029
          },
          {
           "sample_id": 0,
           "timepoint": 18.87174415588379,
           "trajectory": "Wolves Example",
           "value": 0.5125942230224609
          },
          {
           "sample_id": 0,
           "timepoint": 18.969940185546875,
           "trajectory": "Wolves Example",
           "value": 0.4856128394603729
          },
          {
           "sample_id": 0,
           "timepoint": 19.06813621520996,
           "trajectory": "Wolves Example",
           "value": 0.45997312664985657
          },
          {
           "sample_id": 0,
           "timepoint": 19.166332244873047,
           "trajectory": "Wolves Example",
           "value": 0.4356708228588104
          },
          {
           "sample_id": 0,
           "timepoint": 19.264530181884766,
           "trajectory": "Wolves Example",
           "value": 0.4126930832862854
          },
          {
           "sample_id": 0,
           "timepoint": 19.36272621154785,
           "trajectory": "Wolves Example",
           "value": 0.3910137414932251
          },
          {
           "sample_id": 0,
           "timepoint": 19.460922241210938,
           "trajectory": "Wolves Example",
           "value": 0.3706014156341553
          },
          {
           "sample_id": 0,
           "timepoint": 19.559118270874023,
           "trajectory": "Wolves Example",
           "value": 0.35141655802726746
          },
          {
           "sample_id": 0,
           "timepoint": 19.65731430053711,
           "trajectory": "Wolves Example",
           "value": 0.3334164023399353
          },
          {
           "sample_id": 0,
           "timepoint": 19.755512237548828,
           "trajectory": "Wolves Example",
           "value": 0.31655654311180115
          },
          {
           "sample_id": 0,
           "timepoint": 19.853708267211914,
           "trajectory": "Wolves Example",
           "value": 0.3007887899875641
          },
          {
           "sample_id": 0,
           "timepoint": 19.951904296875,
           "trajectory": "Wolves Example",
           "value": 0.2860668897628784
          },
          {
           "sample_id": 0,
           "timepoint": 20.050100326538086,
           "trajectory": "Wolves Example",
           "value": 0.2723427712917328
          },
          {
           "sample_id": 0,
           "timepoint": 20.148296356201172,
           "trajectory": "Wolves Example",
           "value": 0.2595705986022949
          },
          {
           "sample_id": 0,
           "timepoint": 20.24649429321289,
           "trajectory": "Wolves Example",
           "value": 0.2477055937051773
          },
          {
           "sample_id": 0,
           "timepoint": 20.344690322875977,
           "trajectory": "Wolves Example",
           "value": 0.23670423030853271
          },
          {
           "sample_id": 0,
           "timepoint": 20.442886352539062,
           "trajectory": "Wolves Example",
           "value": 0.22652539610862732
          },
          {
           "sample_id": 0,
           "timepoint": 20.54108238220215,
           "trajectory": "Wolves Example",
           "value": 0.21713002026081085
          },
          {
           "sample_id": 0,
           "timepoint": 20.639278411865234,
           "trajectory": "Wolves Example",
           "value": 0.20848172903060913
          },
          {
           "sample_id": 0,
           "timepoint": 20.73747444152832,
           "trajectory": "Wolves Example",
           "value": 0.20054678618907928
          },
          {
           "sample_id": 0,
           "timepoint": 20.83567237854004,
           "trajectory": "Wolves Example",
           "value": 0.19329364597797394
          },
          {
           "sample_id": 0,
           "timepoint": 20.933868408203125,
           "trajectory": "Wolves Example",
           "value": 0.18669483065605164
          },
          {
           "sample_id": 0,
           "timepoint": 21.03206443786621,
           "trajectory": "Wolves Example",
           "value": 0.18072520196437836
          },
          {
           "sample_id": 0,
           "timepoint": 21.130260467529297,
           "trajectory": "Wolves Example",
           "value": 0.1753627210855484
          },
          {
           "sample_id": 0,
           "timepoint": 21.228456497192383,
           "trajectory": "Wolves Example",
           "value": 0.17058883607387543
          },
          {
           "sample_id": 0,
           "timepoint": 21.3266544342041,
           "trajectory": "Wolves Example",
           "value": 0.1663883775472641
          },
          {
           "sample_id": 0,
           "timepoint": 21.424850463867188,
           "trajectory": "Wolves Example",
           "value": 0.1627497375011444
          },
          {
           "sample_id": 0,
           "timepoint": 21.523046493530273,
           "trajectory": "Wolves Example",
           "value": 0.1596653312444687
          },
          {
           "sample_id": 0,
           "timepoint": 21.62124252319336,
           "trajectory": "Wolves Example",
           "value": 0.15713158249855042
          },
          {
           "sample_id": 0,
           "timepoint": 21.719438552856445,
           "trajectory": "Wolves Example",
           "value": 0.15514911711215973
          },
          {
           "sample_id": 0,
           "timepoint": 21.817636489868164,
           "trajectory": "Wolves Example",
           "value": 0.1537236124277115
          },
          {
           "sample_id": 0,
           "timepoint": 21.91583251953125,
           "trajectory": "Wolves Example",
           "value": 0.15286585688591003
          },
          {
           "sample_id": 0,
           "timepoint": 22.014028549194336,
           "trajectory": "Wolves Example",
           "value": 0.15259233117103577
          },
          {
           "sample_id": 0,
           "timepoint": 22.112224578857422,
           "trajectory": "Wolves Example",
           "value": 0.15292604267597198
          },
          {
           "sample_id": 0,
           "timepoint": 22.210420608520508,
           "trajectory": "Wolves Example",
           "value": 0.15389706194400787
          },
          {
           "sample_id": 0,
           "timepoint": 22.308618545532227,
           "trajectory": "Wolves Example",
           "value": 0.15554341673851013
          },
          {
           "sample_id": 0,
           "timepoint": 22.406814575195312,
           "trajectory": "Wolves Example",
           "value": 0.15791301429271698
          },
          {
           "sample_id": 0,
           "timepoint": 22.5050106048584,
           "trajectory": "Wolves Example",
           "value": 0.16106297075748444
          },
          {
           "sample_id": 0,
           "timepoint": 22.603206634521484,
           "trajectory": "Wolves Example",
           "value": 0.16506259143352509
          },
          {
           "sample_id": 0,
           "timepoint": 22.70140266418457,
           "trajectory": "Wolves Example",
           "value": 0.16999486088752747
          },
          {
           "sample_id": 0,
           "timepoint": 22.799598693847656,
           "trajectory": "Wolves Example",
           "value": 0.17595748603343964
          },
          {
           "sample_id": 0,
           "timepoint": 22.897796630859375,
           "trajectory": "Wolves Example",
           "value": 0.18306498229503632
          },
          {
           "sample_id": 0,
           "timepoint": 22.99599266052246,
           "trajectory": "Wolves Example",
           "value": 0.1914515495300293
          },
          {
           "sample_id": 0,
           "timepoint": 23.094188690185547,
           "trajectory": "Wolves Example",
           "value": 0.20127162337303162
          },
          {
           "sample_id": 0,
           "timepoint": 23.192384719848633,
           "trajectory": "Wolves Example",
           "value": 0.21270251274108887
          },
          {
           "sample_id": 0,
           "timepoint": 23.29058074951172,
           "trajectory": "Wolves Example",
           "value": 0.22594593465328217
          },
          {
           "sample_id": 0,
           "timepoint": 23.388778686523438,
           "trajectory": "Wolves Example",
           "value": 0.2412268966436386
          },
          {
           "sample_id": 0,
           "timepoint": 23.486974716186523,
           "trajectory": "Wolves Example",
           "value": 0.2587938606739044
          },
          {
           "sample_id": 0,
           "timepoint": 23.58517074584961,
           "trajectory": "Wolves Example",
           "value": 0.2789151966571808
          },
          {
           "sample_id": 0,
           "timepoint": 23.683366775512695,
           "trajectory": "Wolves Example",
           "value": 0.30187126994132996
          },
          {
           "sample_id": 0,
           "timepoint": 23.78156280517578,
           "trajectory": "Wolves Example",
           "value": 0.32794347405433655
          },
          {
           "sample_id": 0,
           "timepoint": 23.8797607421875,
           "trajectory": "Wolves Example",
           "value": 0.35739660263061523
          },
          {
           "sample_id": 0,
           "timepoint": 23.977956771850586,
           "trajectory": "Wolves Example",
           "value": 0.3904538154602051
          },
          {
           "sample_id": 0,
           "timepoint": 24.076152801513672,
           "trajectory": "Wolves Example",
           "value": 0.4272656738758087
          },
          {
           "sample_id": 0,
           "timepoint": 24.174348831176758,
           "trajectory": "Wolves Example",
           "value": 0.467864990234375
          },
          {
           "sample_id": 0,
           "timepoint": 24.272544860839844,
           "trajectory": "Wolves Example",
           "value": 0.512128472328186
          },
          {
           "sample_id": 0,
           "timepoint": 24.370742797851562,
           "trajectory": "Wolves Example",
           "value": 0.5597257614135742
          },
          {
           "sample_id": 0,
           "timepoint": 24.46893882751465,
           "trajectory": "Wolves Example",
           "value": 0.6100799441337585
          },
          {
           "sample_id": 0,
           "timepoint": 24.567134857177734,
           "trajectory": "Wolves Example",
           "value": 0.662348747253418
          },
          {
           "sample_id": 0,
           "timepoint": 24.66533088684082,
           "trajectory": "Wolves Example",
           "value": 0.7154220938682556
          },
          {
           "sample_id": 0,
           "timepoint": 24.763526916503906,
           "trajectory": "Wolves Example",
           "value": 0.7679643034934998
          },
          {
           "sample_id": 0,
           "timepoint": 24.861724853515625,
           "trajectory": "Wolves Example",
           "value": 0.8184921145439148
          },
          {
           "sample_id": 0,
           "timepoint": 24.95992088317871,
           "trajectory": "Wolves Example",
           "value": 0.8654712438583374
          },
          {
           "sample_id": 0,
           "timepoint": 25.058116912841797,
           "trajectory": "Wolves Example",
           "value": 0.9074509739875793
          },
          {
           "sample_id": 0,
           "timepoint": 25.156312942504883,
           "trajectory": "Wolves Example",
           "value": 0.9431789517402649
          },
          {
           "sample_id": 0,
           "timepoint": 25.25450897216797,
           "trajectory": "Wolves Example",
           "value": 0.9717016816139221
          },
          {
           "sample_id": 0,
           "timepoint": 25.352705001831055,
           "trajectory": "Wolves Example",
           "value": 0.9924224019050598
          },
          {
           "sample_id": 0,
           "timepoint": 25.450902938842773,
           "trajectory": "Wolves Example",
           "value": 1.0051217079162598
          },
          {
           "sample_id": 0,
           "timepoint": 25.549097061157227,
           "trajectory": "Wolves Example",
           "value": 1.0099318027496338
          },
          {
           "sample_id": 0,
           "timepoint": 25.647294998168945,
           "trajectory": "Wolves Example",
           "value": 1.0072768926620483
          },
          {
           "sample_id": 0,
           "timepoint": 25.74549102783203,
           "trajectory": "Wolves Example",
           "value": 0.9978142976760864
          },
          {
           "sample_id": 0,
           "timepoint": 25.843687057495117,
           "trajectory": "Wolves Example",
           "value": 0.9823364615440369
          },
          {
           "sample_id": 0,
           "timepoint": 25.941883087158203,
           "trajectory": "Wolves Example",
           "value": 0.9617283940315247
          },
          {
           "sample_id": 0,
           "timepoint": 26.04007911682129,
           "trajectory": "Wolves Example",
           "value": 0.9368807673454285
          },
          {
           "sample_id": 0,
           "timepoint": 26.138275146484375,
           "trajectory": "Wolves Example",
           "value": 0.9086607098579407
          },
          {
           "sample_id": 0,
           "timepoint": 26.236473083496094,
           "trajectory": "Wolves Example",
           "value": 0.8778757452964783
          },
          {
           "sample_id": 0,
           "timepoint": 26.33466911315918,
           "trajectory": "Wolves Example",
           "value": 0.845255970954895
          },
          {
           "sample_id": 0,
           "timepoint": 26.432865142822266,
           "trajectory": "Wolves Example",
           "value": 0.8114410638809204
          },
          {
           "sample_id": 0,
           "timepoint": 26.53106117248535,
           "trajectory": "Wolves Example",
           "value": 0.7769839763641357
          },
          {
           "sample_id": 0,
           "timepoint": 26.629257202148438,
           "trajectory": "Wolves Example",
           "value": 0.7423492670059204
          },
          {
           "sample_id": 0,
           "timepoint": 26.727455139160156,
           "trajectory": "Wolves Example",
           "value": 0.70792156457901
          },
          {
           "sample_id": 0,
           "timepoint": 26.825651168823242,
           "trajectory": "Wolves Example",
           "value": 0.6740121841430664
          },
          {
           "sample_id": 0,
           "timepoint": 26.923847198486328,
           "trajectory": "Wolves Example",
           "value": 0.6408661603927612
          },
          {
           "sample_id": 0,
           "timepoint": 27.022043228149414,
           "trajectory": "Wolves Example",
           "value": 0.6086775660514832
          },
          {
           "sample_id": 0,
           "timepoint": 27.1202392578125,
           "trajectory": "Wolves Example",
           "value": 0.5775899291038513
          },
          {
           "sample_id": 0,
           "timepoint": 27.21843719482422,
           "trajectory": "Wolves Example",
           "value": 0.5477054715156555
          },
          {
           "sample_id": 0,
           "timepoint": 27.316633224487305,
           "trajectory": "Wolves Example",
           "value": 0.5190961360931396
          },
          {
           "sample_id": 0,
           "timepoint": 27.41482925415039,
           "trajectory": "Wolves Example",
           "value": 0.49180349707603455
          },
          {
           "sample_id": 0,
           "timepoint": 27.513025283813477,
           "trajectory": "Wolves Example",
           "value": 0.46584945917129517
          },
          {
           "sample_id": 0,
           "timepoint": 27.611221313476562,
           "trajectory": "Wolves Example",
           "value": 0.44123509526252747
          },
          {
           "sample_id": 0,
           "timepoint": 27.70941925048828,
           "trajectory": "Wolves Example",
           "value": 0.41794896125793457
          },
          {
           "sample_id": 0,
           "timepoint": 27.807615280151367,
           "trajectory": "Wolves Example",
           "value": 0.3959689140319824
          },
          {
           "sample_id": 0,
           "timepoint": 27.905811309814453,
           "trajectory": "Wolves Example",
           "value": 0.37526369094848633
          },
          {
           "sample_id": 0,
           "timepoint": 28.00400733947754,
           "trajectory": "Wolves Example",
           "value": 0.35579508543014526
          },
          {
           "sample_id": 0,
           "timepoint": 28.102203369140625,
           "trajectory": "Wolves Example",
           "value": 0.337522029876709
          },
          {
           "sample_id": 0,
           "timepoint": 28.200401306152344,
           "trajectory": "Wolves Example",
           "value": 0.32039961218833923
          },
          {
           "sample_id": 0,
           "timepoint": 28.29859733581543,
           "trajectory": "Wolves Example",
           "value": 0.3043808341026306
          },
          {
           "sample_id": 0,
           "timepoint": 28.396793365478516,
           "trajectory": "Wolves Example",
           "value": 0.2894185483455658
          },
          {
           "sample_id": 0,
           "timepoint": 28.4949893951416,
           "trajectory": "Wolves Example",
           "value": 0.27546530961990356
          },
          {
           "sample_id": 0,
           "timepoint": 28.593185424804688,
           "trajectory": "Wolves Example",
           "value": 0.26247483491897583
          },
          {
           "sample_id": 0,
           "timepoint": 28.691381454467773,
           "trajectory": "Wolves Example",
           "value": 0.25040167570114136
          },
          {
           "sample_id": 0,
           "timepoint": 28.789579391479492,
           "trajectory": "Wolves Example",
           "value": 0.23920200765132904
          },
          {
           "sample_id": 0,
           "timepoint": 28.887775421142578,
           "trajectory": "Wolves Example",
           "value": 0.22883425652980804
          },
          {
           "sample_id": 0,
           "timepoint": 28.985971450805664,
           "trajectory": "Wolves Example",
           "value": 0.21925896406173706
          },
          {
           "sample_id": 0,
           "timepoint": 29.08416748046875,
           "trajectory": "Wolves Example",
           "value": 0.21043895184993744
          },
          {
           "sample_id": 0,
           "timepoint": 29.182363510131836,
           "trajectory": "Wolves Example",
           "value": 0.202339768409729
          },
          {
           "sample_id": 0,
           "timepoint": 29.280561447143555,
           "trajectory": "Wolves Example",
           "value": 0.19493013620376587
          },
          {
           "sample_id": 0,
           "timepoint": 29.37875747680664,
           "trajectory": "Wolves Example",
           "value": 0.1881808340549469
          },
          {
           "sample_id": 0,
           "timepoint": 29.476953506469727,
           "trajectory": "Wolves Example",
           "value": 0.1820662021636963
          },
          {
           "sample_id": 0,
           "timepoint": 29.575149536132812,
           "trajectory": "Wolves Example",
           "value": 0.17656353116035461
          },
          {
           "sample_id": 0,
           "timepoint": 29.6733455657959,
           "trajectory": "Wolves Example",
           "value": 0.17165331542491913
          },
          {
           "sample_id": 0,
           "timepoint": 29.771543502807617,
           "trajectory": "Wolves Example",
           "value": 0.16731995344161987
          },
          {
           "sample_id": 0,
           "timepoint": 29.869739532470703,
           "trajectory": "Wolves Example",
           "value": 0.1635507494211197
          },
          {
           "sample_id": 0,
           "timepoint": 29.96793556213379,
           "trajectory": "Wolves Example",
           "value": 0.16033707559108734
          },
          {
           "sample_id": 0,
           "timepoint": 30.066131591796875,
           "trajectory": "Wolves Example",
           "value": 0.1576748937368393
          },
          {
           "sample_id": 0,
           "timepoint": 30.16432762145996,
           "trajectory": "Wolves Example",
           "value": 0.15556327998638153
          },
          {
           "sample_id": 0,
           "timepoint": 30.26252555847168,
           "trajectory": "Wolves Example",
           "value": 0.15400665998458862
          },
          {
           "sample_id": 0,
           "timepoint": 30.360721588134766,
           "trajectory": "Wolves Example",
           "value": 0.15301485359668732
          },
          {
           "sample_id": 0,
           "timepoint": 30.45891761779785,
           "trajectory": "Wolves Example",
           "value": 0.15260282158851624
          },
          {
           "sample_id": 0,
           "timepoint": 30.557113647460938,
           "trajectory": "Wolves Example",
           "value": 0.15279215574264526
          },
          {
           "sample_id": 0,
           "timepoint": 30.655309677124023,
           "trajectory": "Wolves Example",
           "value": 0.15361106395721436
          },
          {
           "sample_id": 0,
           "timepoint": 30.75350570678711,
           "trajectory": "Wolves Example",
           "value": 0.15509581565856934
          },
          {
           "sample_id": 0,
           "timepoint": 30.851703643798828,
           "trajectory": "Wolves Example",
           "value": 0.15729138255119324
          },
          {
           "sample_id": 0,
           "timepoint": 30.949899673461914,
           "trajectory": "Wolves Example",
           "value": 0.16025294363498688
          },
          {
           "sample_id": 0,
           "timepoint": 31.048095703125,
           "trajectory": "Wolves Example",
           "value": 0.1640470027923584
          },
          {
           "sample_id": 0,
           "timepoint": 31.146291732788086,
           "trajectory": "Wolves Example",
           "value": 0.16875311732292175
          },
          {
           "sample_id": 0,
           "timepoint": 31.244487762451172,
           "trajectory": "Wolves Example",
           "value": 0.17446522414684296
          },
          {
           "sample_id": 0,
           "timepoint": 31.34268569946289,
           "trajectory": "Wolves Example",
           "value": 0.18129368126392365
          },
          {
           "sample_id": 0,
           "timepoint": 31.440881729125977,
           "trajectory": "Wolves Example",
           "value": 0.18936821818351746
          },
          {
           "sample_id": 0,
           "timepoint": 31.539077758789062,
           "trajectory": "Wolves Example",
           "value": 0.1988377720117569
          },
          {
           "sample_id": 0,
           "timepoint": 31.63727378845215,
           "trajectory": "Wolves Example",
           "value": 0.20987474918365479
          },
          {
           "sample_id": 0,
           "timepoint": 31.735469818115234,
           "trajectory": "Wolves Example",
           "value": 0.22267481684684753
          },
          {
           "sample_id": 0,
           "timepoint": 31.833667755126953,
           "trajectory": "Wolves Example",
           "value": 0.23745769262313843
          },
          {
           "sample_id": 0,
           "timepoint": 31.93186378479004,
           "trajectory": "Wolves Example",
           "value": 0.2544669806957245
          },
          {
           "sample_id": 0,
           "timepoint": 32.030059814453125,
           "trajectory": "Wolves Example",
           "value": 0.27396607398986816
          },
          {
           "sample_id": 0,
           "timepoint": 32.128257751464844,
           "trajectory": "Wolves Example",
           "value": 0.29623347520828247
          },
          {
           "sample_id": 0,
           "timepoint": 32.2264518737793,
           "trajectory": "Wolves Example",
           "value": 0.32155272364616394
          },
          {
           "sample_id": 0,
           "timepoint": 32.324649810791016,
           "trajectory": "Wolves Example",
           "value": 0.35019370913505554
          },
          {
           "sample_id": 0,
           "timepoint": 32.42284393310547,
           "trajectory": "Wolves Example",
           "value": 0.3823906183242798
          },
          {
           "sample_id": 0,
           "timepoint": 32.52104187011719,
           "trajectory": "Wolves Example",
           "value": 0.41831621527671814
          },
          {
           "sample_id": 0,
           "timepoint": 32.619239807128906,
           "trajectory": "Wolves Example",
           "value": 0.4580337405204773
          },
          {
           "sample_id": 0,
           "timepoint": 32.71743392944336,
           "trajectory": "Wolves Example",
           "value": 0.5014625191688538
          },
          {
           "sample_id": 0,
           "timepoint": 32.81563186645508,
           "trajectory": "Wolves Example",
           "value": 0.5483213067054749
          },
          {
           "sample_id": 0,
           "timepoint": 32.91382598876953,
           "trajectory": "Wolves Example",
           "value": 0.5980971455574036
          },
          {
           "sample_id": 0,
           "timepoint": 33.01202392578125,
           "trajectory": "Wolves Example",
           "value": 0.6500085592269897
          },
          {
           "sample_id": 0,
           "timepoint": 33.11022186279297,
           "trajectory": "Wolves Example",
           "value": 0.7030047178268433
          },
          {
           "sample_id": 0,
           "timepoint": 33.20841598510742,
           "trajectory": "Wolves Example",
           "value": 0.75580233335495
          },
          {
           "sample_id": 0,
           "timepoint": 33.306610107421875,
           "trajectory": "Wolves Example",
           "value": 0.8069378733634949
          },
          {
           "sample_id": 0,
           "timepoint": 33.404808044433594,
           "trajectory": "Wolves Example",
           "value": 0.8548805713653564
          },
          {
           "sample_id": 0,
           "timepoint": 33.50300598144531,
           "trajectory": "Wolves Example",
           "value": 0.8981518745422363
          },
          {
           "sample_id": 0,
           "timepoint": 33.60120391845703,
           "trajectory": "Wolves Example",
           "value": 0.9354389309883118
          },
          {
           "sample_id": 0,
           "timepoint": 33.699398040771484,
           "trajectory": "Wolves Example",
           "value": 0.9657142758369446
          },
          {
           "sample_id": 0,
           "timepoint": 33.79759216308594,
           "trajectory": "Wolves Example",
           "value": 0.9882932901382446
          },
          {
           "sample_id": 0,
           "timepoint": 33.895790100097656,
           "trajectory": "Wolves Example",
           "value": 1.0028696060180664
          },
          {
           "sample_id": 0,
           "timepoint": 33.993988037109375,
           "trajectory": "Wolves Example",
           "value": 1.0094947814941406
          },
          {
           "sample_id": 0,
           "timepoint": 34.092185974121094,
           "trajectory": "Wolves Example",
           "value": 1.0085347890853882
          },
          {
           "sample_id": 0,
           "timepoint": 34.19038009643555,
           "trajectory": "Wolves Example",
           "value": 1.000596284866333
          },
          {
           "sample_id": 0,
           "timepoint": 34.288578033447266,
           "trajectory": "Wolves Example",
           "value": 0.9864488244056702
          },
          {
           "sample_id": 0,
           "timepoint": 34.38677215576172,
           "trajectory": "Wolves Example",
           "value": 0.9669603705406189
          },
          {
           "sample_id": 0,
           "timepoint": 34.48497009277344,
           "trajectory": "Wolves Example",
           "value": 0.9430241584777832
          },
          {
           "sample_id": 0,
           "timepoint": 34.583168029785156,
           "trajectory": "Wolves Example",
           "value": 0.9155175089836121
          },
          {
           "sample_id": 0,
           "timepoint": 34.68136215209961,
           "trajectory": "Wolves Example",
           "value": 0.88526451587677
          },
          {
           "sample_id": 0,
           "timepoint": 34.77956008911133,
           "trajectory": "Wolves Example",
           "value": 0.8530124425888062
          },
          {
           "sample_id": 0,
           "timepoint": 34.87775421142578,
           "trajectory": "Wolves Example",
           "value": 0.8194235563278198
          },
          {
           "sample_id": 0,
           "timepoint": 34.9759521484375,
           "trajectory": "Wolves Example",
           "value": 0.7850730419158936
          },
          {
           "sample_id": 0,
           "timepoint": 35.07415008544922,
           "trajectory": "Wolves Example",
           "value": 0.7504420876502991
          },
          {
           "sample_id": 0,
           "timepoint": 35.17234420776367,
           "trajectory": "Wolves Example",
           "value": 0.715936005115509
          },
          {
           "sample_id": 0,
           "timepoint": 35.27054214477539,
           "trajectory": "Wolves Example",
           "value": 0.681880533695221
          },
          {
           "sample_id": 0,
           "timepoint": 35.368736267089844,
           "trajectory": "Wolves Example",
           "value": 0.6485365629196167
          },
          {
           "sample_id": 0,
           "timepoint": 35.46693420410156,
           "trajectory": "Wolves Example",
           "value": 0.616111159324646
          },
          {
           "sample_id": 0,
           "timepoint": 35.56513214111328,
           "trajectory": "Wolves Example",
           "value": 0.5847542881965637
          },
          {
           "sample_id": 0,
           "timepoint": 35.663326263427734,
           "trajectory": "Wolves Example",
           "value": 0.554580569267273
          },
          {
           "sample_id": 0,
           "timepoint": 35.76152038574219,
           "trajectory": "Wolves Example",
           "value": 0.525669276714325
          },
          {
           "sample_id": 0,
           "timepoint": 35.859718322753906,
           "trajectory": "Wolves Example",
           "value": 0.49806562066078186
          },
          {
           "sample_id": 0,
           "timepoint": 35.957916259765625,
           "trajectory": "Wolves Example",
           "value": 0.4717983305454254
          },
          {
           "sample_id": 0,
           "timepoint": 36.056114196777344,
           "trajectory": "Wolves Example",
           "value": 0.446870356798172
          },
          {
           "sample_id": 0,
           "timepoint": 36.1543083190918,
           "trajectory": "Wolves Example",
           "value": 0.42327558994293213
          },
          {
           "sample_id": 0,
           "timepoint": 36.25250244140625,
           "trajectory": "Wolves Example",
           "value": 0.4009932577610016
          },
          {
           "sample_id": 0,
           "timepoint": 36.35070037841797,
           "trajectory": "Wolves Example",
           "value": 0.379993200302124
          },
          {
           "sample_id": 0,
           "timepoint": 36.44889831542969,
           "trajectory": "Wolves Example",
           "value": 0.3602392077445984
          },
          {
           "sample_id": 0,
           "timepoint": 36.547096252441406,
           "trajectory": "Wolves Example",
           "value": 0.34169086813926697
          },
          {
           "sample_id": 0,
           "timepoint": 36.64529037475586,
           "trajectory": "Wolves Example",
           "value": 0.32430317997932434
          },
          {
           "sample_id": 0,
           "timepoint": 36.74348449707031,
           "trajectory": "Wolves Example",
           "value": 0.30803072452545166
          },
          {
           "sample_id": 0,
           "timepoint": 36.84168243408203,
           "trajectory": "Wolves Example",
           "value": 0.2928251624107361
          },
          {
           "sample_id": 0,
           "timepoint": 36.93988037109375,
           "trajectory": "Wolves Example",
           "value": 0.27864015102386475
          },
          {
           "sample_id": 0,
           "timepoint": 37.0380744934082,
           "trajectory": "Wolves Example",
           "value": 0.26542893052101135
          },
          {
           "sample_id": 0,
           "timepoint": 37.13627243041992,
           "trajectory": "Wolves Example",
           "value": 0.2531450092792511
          },
          {
           "sample_id": 0,
           "timepoint": 37.234466552734375,
           "trajectory": "Wolves Example",
           "value": 0.24174493551254272
          },
          {
           "sample_id": 0,
           "timepoint": 37.332664489746094,
           "trajectory": "Wolves Example",
           "value": 0.2311863750219345
          },
          {
           "sample_id": 0,
           "timepoint": 37.43086242675781,
           "trajectory": "Wolves Example",
           "value": 0.2214290201663971
          },
          {
           "sample_id": 0,
           "timepoint": 37.529056549072266,
           "trajectory": "Wolves Example",
           "value": 0.2124357521533966
          },
          {
           "sample_id": 0,
           "timepoint": 37.627254486083984,
           "trajectory": "Wolves Example",
           "value": 0.2041708528995514
          },
          {
           "sample_id": 0,
           "timepoint": 37.72544860839844,
           "trajectory": "Wolves Example",
           "value": 0.19660261273384094
          },
          {
           "sample_id": 0,
           "timepoint": 37.823646545410156,
           "trajectory": "Wolves Example",
           "value": 0.1897014081478119
          },
          {
           "sample_id": 0,
           "timepoint": 37.921844482421875,
           "trajectory": "Wolves Example",
           "value": 0.18344037234783173
          },
          {
           "sample_id": 0,
           "timepoint": 38.02003860473633,
           "trajectory": "Wolves Example",
           "value": 0.17779648303985596
          },
          {
           "sample_id": 0,
           "timepoint": 38.11823654174805,
           "trajectory": "Wolves Example",
           "value": 0.17274980247020721
          },
          {
           "sample_id": 0,
           "timepoint": 38.2164306640625,
           "trajectory": "Wolves Example",
           "value": 0.16828228533267975
          },
          {
           "sample_id": 0,
           "timepoint": 38.31462860107422,
           "trajectory": "Wolves Example",
           "value": 0.1643822193145752
          },
          {
           "sample_id": 0,
           "timepoint": 38.41282653808594,
           "trajectory": "Wolves Example",
           "value": 0.16103945672512054
          },
          {
           "sample_id": 0,
           "timepoint": 38.51102066040039,
           "trajectory": "Wolves Example",
           "value": 0.15824809670448303
          },
          {
           "sample_id": 0,
           "timepoint": 38.60921859741211,
           "trajectory": "Wolves Example",
           "value": 0.15600742399692535
          },
          {
           "sample_id": 0,
           "timepoint": 38.70741271972656,
           "trajectory": "Wolves Example",
           "value": 0.15432046353816986
          },
          {
           "sample_id": 0,
           "timepoint": 38.80561065673828,
           "trajectory": "Wolves Example",
           "value": 0.15319547057151794
          },
          {
           "sample_id": 0,
           "timepoint": 38.90380859375,
           "trajectory": "Wolves Example",
           "value": 0.1526462286710739
          },
          {
           "sample_id": 0,
           "timepoint": 39.00200271606445,
           "trajectory": "Wolves Example",
           "value": 0.15269267559051514
          },
          {
           "sample_id": 0,
           "timepoint": 39.10020065307617,
           "trajectory": "Wolves Example",
           "value": 0.15336130559444427
          },
          {
           "sample_id": 0,
           "timepoint": 39.198394775390625,
           "trajectory": "Wolves Example",
           "value": 0.15468674898147583
          },
          {
           "sample_id": 0,
           "timepoint": 39.296592712402344,
           "trajectory": "Wolves Example",
           "value": 0.15671145915985107
          },
          {
           "sample_id": 0,
           "timepoint": 39.39479064941406,
           "trajectory": "Wolves Example",
           "value": 0.15948832035064697
          },
          {
           "sample_id": 0,
           "timepoint": 39.492984771728516,
           "trajectory": "Wolves Example",
           "value": 0.16308119893074036
          },
          {
           "sample_id": 0,
           "timepoint": 39.591182708740234,
           "trajectory": "Wolves Example",
           "value": 0.16756606101989746
          },
          {
           "sample_id": 0,
           "timepoint": 39.68937683105469,
           "trajectory": "Wolves Example",
           "value": 0.17303338646888733
          },
          {
           "sample_id": 0,
           "timepoint": 39.787574768066406,
           "trajectory": "Wolves Example",
           "value": 0.1795901507139206
          },
          {
           "sample_id": 0,
           "timepoint": 39.885772705078125,
           "trajectory": "Wolves Example",
           "value": 0.18736055493354797
          },
          {
           "sample_id": 0,
           "timepoint": 39.98396682739258,
           "trajectory": "Wolves Example",
           "value": 0.19648940861225128
          },
          {
           "sample_id": 0,
           "timepoint": 40.0821647644043,
           "trajectory": "Wolves Example",
           "value": 0.20714342594146729
          },
          {
           "sample_id": 0,
           "timepoint": 40.18035888671875,
           "trajectory": "Wolves Example",
           "value": 0.2195121794939041
          },
          {
           "sample_id": 0,
           "timepoint": 40.27855682373047,
           "trajectory": "Wolves Example",
           "value": 0.23381058871746063
          },
          {
           "sample_id": 0,
           "timepoint": 40.37675476074219,
           "trajectory": "Wolves Example",
           "value": 0.25027647614479065
          },
          {
           "sample_id": 0,
           "timepoint": 40.47494888305664,
           "trajectory": "Wolves Example",
           "value": 0.2691684365272522
          },
          {
           "sample_id": 0,
           "timepoint": 40.57314682006836,
           "trajectory": "Wolves Example",
           "value": 0.2907639741897583
          },
          {
           "sample_id": 0,
           "timepoint": 40.67134094238281,
           "trajectory": "Wolves Example",
           "value": 0.3153434693813324
          },
          {
           "sample_id": 0,
           "timepoint": 40.76953887939453,
           "trajectory": "Wolves Example",
           "value": 0.3431851267814636
          },
          {
           "sample_id": 0,
           "timepoint": 40.86773681640625,
           "trajectory": "Wolves Example",
           "value": 0.374533087015152
          },
          {
           "sample_id": 0,
           "timepoint": 40.9659309387207,
           "trajectory": "Wolves Example",
           "value": 0.40957579016685486
          },
          {
           "sample_id": 0,
           "timepoint": 41.06412887573242,
           "trajectory": "Wolves Example",
           "value": 0.4484085440635681
          },
          {
           "sample_id": 0,
           "timepoint": 41.162322998046875,
           "trajectory": "Wolves Example",
           "value": 0.4909868836402893
          },
          {
           "sample_id": 0,
           "timepoint": 41.260520935058594,
           "trajectory": "Wolves Example",
           "value": 0.537079930305481
          },
          {
           "sample_id": 0,
           "timepoint": 41.35871887207031,
           "trajectory": "Wolves Example",
           "value": 0.5862342119216919
          },
          {
           "sample_id": 0,
           "timepoint": 41.456912994384766,
           "trajectory": "Wolves Example",
           "value": 0.6377285122871399
          },
          {
           "sample_id": 0,
           "timepoint": 41.555110931396484,
           "trajectory": "Wolves Example",
           "value": 0.6905800700187683
          },
          {
           "sample_id": 0,
           "timepoint": 41.65330505371094,
           "trajectory": "Wolves Example",
           "value": 0.7435503005981445
          },
          {
           "sample_id": 0,
           "timepoint": 41.751502990722656,
           "trajectory": "Wolves Example",
           "value": 0.7952089905738831
          },
          {
           "sample_id": 0,
           "timepoint": 41.849700927734375,
           "trajectory": "Wolves Example",
           "value": 0.8440355658531189
          },
          {
           "sample_id": 0,
           "timepoint": 41.94789505004883,
           "trajectory": "Wolves Example",
           "value": 0.8885262608528137
          },
          {
           "sample_id": 0,
           "timepoint": 42.04609298706055,
           "trajectory": "Wolves Example",
           "value": 0.9273159503936768
          },
          {
           "sample_id": 0,
           "timepoint": 42.144287109375,
           "trajectory": "Wolves Example",
           "value": 0.959306001663208
          },
          {
           "sample_id": 0,
           "timepoint": 42.24248504638672,
           "trajectory": "Wolves Example",
           "value": 0.9837249517440796
          },
          {
           "sample_id": 0,
           "timepoint": 42.34068298339844,
           "trajectory": "Wolves Example",
           "value": 1.0001810789108276
          },
          {
           "sample_id": 0,
           "timepoint": 42.43887710571289,
           "trajectory": "Wolves Example",
           "value": 1.0086430311203003
          },
          {
           "sample_id": 0,
           "timepoint": 42.53707504272461,
           "trajectory": "Wolves Example",
           "value": 1.00941002368927
          },
          {
           "sample_id": 0,
           "timepoint": 42.63526916503906,
           "trajectory": "Wolves Example",
           "value": 1.003038763999939
          },
          {
           "sample_id": 0,
           "timepoint": 42.73346710205078,
           "trajectory": "Wolves Example",
           "value": 0.9902684688568115
          },
          {
           "sample_id": 0,
           "timepoint": 42.8316650390625,
           "trajectory": "Wolves Example",
           "value": 0.971949577331543
          },
          {
           "sample_id": 0,
           "timepoint": 42.92985916137695,
           "trajectory": "Wolves Example",
           "value": 0.9489732980728149
          },
          {
           "sample_id": 0,
           "timepoint": 43.02805709838867,
           "trajectory": "Wolves Example",
           "value": 0.922225832939148
          },
          {
           "sample_id": 0,
           "timepoint": 43.126251220703125,
           "trajectory": "Wolves Example",
           "value": 0.8925448656082153
          },
          {
           "sample_id": 0,
           "timepoint": 43.224449157714844,
           "trajectory": "Wolves Example",
           "value": 0.8606966137886047
          },
          {
           "sample_id": 0,
           "timepoint": 43.32264709472656,
           "trajectory": "Wolves Example",
           "value": 0.827367901802063
          },
          {
           "sample_id": 0,
           "timepoint": 43.420841217041016,
           "trajectory": "Wolves Example",
           "value": 0.7931471467018127
          },
          {
           "sample_id": 0,
           "timepoint": 43.519039154052734,
           "trajectory": "Wolves Example",
           "value": 0.7585433125495911
          },
          {
           "sample_id": 0,
           "timepoint": 43.61723327636719,
           "trajectory": "Wolves Example",
           "value": 0.7239772081375122
          },
          {
           "sample_id": 0,
           "timepoint": 43.715431213378906,
           "trajectory": "Wolves Example",
           "value": 0.6897886395454407
          },
          {
           "sample_id": 0,
           "timepoint": 43.813629150390625,
           "trajectory": "Wolves Example",
           "value": 0.6562598943710327
          },
          {
           "sample_id": 0,
           "timepoint": 43.91182327270508,
           "trajectory": "Wolves Example",
           "value": 0.6236026883125305
          },
          {
           "sample_id": 0,
           "timepoint": 44.0100212097168,
           "trajectory": "Wolves Example",
           "value": 0.591984748840332
          },
          {
           "sample_id": 0,
           "timepoint": 44.10821533203125,
           "trajectory": "Wolves Example",
           "value": 0.561527669429779
          },
          {
           "sample_id": 0,
           "timepoint": 44.20641326904297,
           "trajectory": "Wolves Example",
           "value": 0.5323147177696228
          },
          {
           "sample_id": 0,
           "timepoint": 44.30461120605469,
           "trajectory": "Wolves Example",
           "value": 0.5044020414352417
          },
          {
           "sample_id": 0,
           "timepoint": 44.40280532836914,
           "trajectory": "Wolves Example",
           "value": 0.4778211712837219
          },
          {
           "sample_id": 0,
           "timepoint": 44.50100326538086,
           "trajectory": "Wolves Example",
           "value": 0.4525800943374634
          },
          {
           "sample_id": 0,
           "timepoint": 44.59919738769531,
           "trajectory": "Wolves Example",
           "value": 0.42867496609687805
          },
          {
           "sample_id": 0,
           "timepoint": 44.69739532470703,
           "trajectory": "Wolves Example",
           "value": 0.4060881733894348
          },
          {
           "sample_id": 0,
           "timepoint": 44.795589447021484,
           "trajectory": "Wolves Example",
           "value": 0.38479018211364746
          },
          {
           "sample_id": 0,
           "timepoint": 44.8937873840332,
           "trajectory": "Wolves Example",
           "value": 0.3647492527961731
          },
          {
           "sample_id": 0,
           "timepoint": 44.99198532104492,
           "trajectory": "Wolves Example",
           "value": 0.3459223508834839
          },
          {
           "sample_id": 0,
           "timepoint": 45.090179443359375,
           "trajectory": "Wolves Example",
           "value": 0.3282672166824341
          },
          {
           "sample_id": 0,
           "timepoint": 45.188377380371094,
           "trajectory": "Wolves Example",
           "value": 0.3117382824420929
          },
          {
           "sample_id": 0,
           "timepoint": 45.28657150268555,
           "trajectory": "Wolves Example",
           "value": 0.296287477016449
          },
          {
           "sample_id": 0,
           "timepoint": 45.384769439697266,
           "trajectory": "Wolves Example",
           "value": 0.28186848759651184
          },
          {
           "sample_id": 0,
           "timepoint": 45.482967376708984,
           "trajectory": "Wolves Example",
           "value": 0.2684333026409149
          },
          {
           "sample_id": 0,
           "timepoint": 45.58116149902344,
           "trajectory": "Wolves Example",
           "value": 0.2559364438056946
          },
          {
           "sample_id": 0,
           "timepoint": 45.679359436035156,
           "trajectory": "Wolves Example",
           "value": 0.2443339228630066
          },
          {
           "sample_id": 0,
           "timepoint": 45.77755355834961,
           "trajectory": "Wolves Example",
           "value": 0.23358234763145447
          },
          {
           "sample_id": 0,
           "timepoint": 45.87575149536133,
           "trajectory": "Wolves Example",
           "value": 0.22364108264446259
          },
          {
           "sample_id": 0,
           "timepoint": 45.97394943237305,
           "trajectory": "Wolves Example",
           "value": 0.21447253227233887
          },
          {
           "sample_id": 0,
           "timepoint": 46.0721435546875,
           "trajectory": "Wolves Example",
           "value": 0.20604029297828674
          },
          {
           "sample_id": 0,
           "timepoint": 46.17034149169922,
           "trajectory": "Wolves Example",
           "value": 0.19831213355064392
          },
          {
           "sample_id": 0,
           "timepoint": 46.26853561401367,
           "trajectory": "Wolves Example",
           "value": 0.191257044672966
          },
          {
           "sample_id": 0,
           "timepoint": 46.36673355102539,
           "trajectory": "Wolves Example",
           "value": 0.18484841287136078
          },
          {
           "sample_id": 0,
           "timepoint": 46.46493148803711,
           "trajectory": "Wolves Example",
           "value": 0.17906217277050018
          },
          {
           "sample_id": 0,
           "timepoint": 46.56312561035156,
           "trajectory": "Wolves Example",
           "value": 0.17387700080871582
          },
          {
           "sample_id": 0,
           "timepoint": 46.66132354736328,
           "trajectory": "Wolves Example",
           "value": 0.16927570104599
          },
          {
           "sample_id": 0,
           "timepoint": 46.759517669677734,
           "trajectory": "Wolves Example",
           "value": 0.16524411737918854
          },
          {
           "sample_id": 0,
           "timepoint": 46.85771560668945,
           "trajectory": "Wolves Example",
           "value": 0.16177165508270264
          },
          {
           "sample_id": 0,
           "timepoint": 46.95591354370117,
           "trajectory": "Wolves Example",
           "value": 0.15885163843631744
          },
          {
           "sample_id": 0,
           "timepoint": 47.054107666015625,
           "trajectory": "Wolves Example",
           "value": 0.15648208558559418
          },
          {
           "sample_id": 0,
           "timepoint": 47.152305603027344,
           "trajectory": "Wolves Example",
           "value": 0.15466506779193878
          },
          {
           "sample_id": 0,
           "timepoint": 47.2504997253418,
           "trajectory": "Wolves Example",
           "value": 0.15340755879878998
          },
          {
           "sample_id": 0,
           "timepoint": 47.348697662353516,
           "trajectory": "Wolves Example",
           "value": 0.1527220904827118
          },
          {
           "sample_id": 0,
           "timepoint": 47.44689178466797,
           "trajectory": "Wolves Example",
           "value": 0.15262694656848907
          },
          {
           "sample_id": 0,
           "timepoint": 47.54508972167969,
           "trajectory": "Wolves Example",
           "value": 0.15314751863479614
          },
          {
           "sample_id": 0,
           "timepoint": 47.643287658691406,
           "trajectory": "Wolves Example",
           "value": 0.15431568026542664
          },
          {
           "sample_id": 0,
           "timepoint": 47.74148178100586,
           "trajectory": "Wolves Example",
           "value": 0.15617267787456512
          },
          {
           "sample_id": 0,
           "timepoint": 47.83967971801758,
           "trajectory": "Wolves Example",
           "value": 0.15876851975917816
          },
          {
           "sample_id": 0,
           "timepoint": 47.93787384033203,
           "trajectory": "Wolves Example",
           "value": 0.16216430068016052
          },
          {
           "sample_id": 0,
           "timepoint": 48.03607177734375,
           "trajectory": "Wolves Example",
           "value": 0.16643282771110535
          },
          {
           "sample_id": 0,
           "timepoint": 48.13426971435547,
           "trajectory": "Wolves Example",
           "value": 0.17166168987751007
          },
          {
           "sample_id": 0,
           "timepoint": 48.23246383666992,
           "trajectory": "Wolves Example",
           "value": 0.17795325815677643
          },
          {
           "sample_id": 0,
           "timepoint": 48.33066177368164,
           "trajectory": "Wolves Example",
           "value": 0.18542753159999847
          },
          {
           "sample_id": 0,
           "timepoint": 48.428855895996094,
           "trajectory": "Wolves Example",
           "value": 0.19422483444213867
          },
          {
           "sample_id": 0,
           "timepoint": 48.52705383300781,
           "trajectory": "Wolves Example",
           "value": 0.20450572669506073
          },
          {
           "sample_id": 0,
           "timepoint": 48.62525177001953,
           "trajectory": "Wolves Example",
           "value": 0.2164553999900818
          },
          {
           "sample_id": 0,
           "timepoint": 48.723445892333984,
           "trajectory": "Wolves Example",
           "value": 0.2302824705839157
          },
          {
           "sample_id": 0,
           "timepoint": 48.8216438293457,
           "trajectory": "Wolves Example",
           "value": 0.2462185174226761
          },
          {
           "sample_id": 0,
           "timepoint": 48.919837951660156,
           "trajectory": "Wolves Example",
           "value": 0.2645185589790344
          },
          {
           "sample_id": 0,
           "timepoint": 49.018035888671875,
           "trajectory": "Wolves Example",
           "value": 0.28545671701431274
          },
          {
           "sample_id": 0,
           "timepoint": 49.116233825683594,
           "trajectory": "Wolves Example",
           "value": 0.30931293964385986
          },
          {
           "sample_id": 0,
           "timepoint": 49.21442794799805,
           "trajectory": "Wolves Example",
           "value": 0.3363683223724365
          },
          {
           "sample_id": 0,
           "timepoint": 49.312625885009766,
           "trajectory": "Wolves Example",
           "value": 0.36687564849853516
          },
          {
           "sample_id": 0,
           "timepoint": 49.41082000732422,
           "trajectory": "Wolves Example",
           "value": 0.4010426104068756
          },
          {
           "sample_id": 0,
           "timepoint": 49.50901794433594,
           "trajectory": "Wolves Example",
           "value": 0.4389876127243042
          },
          {
           "sample_id": 0,
           "timepoint": 49.607215881347656,
           "trajectory": "Wolves Example",
           "value": 0.48070141673088074
          },
          {
           "sample_id": 0,
           "timepoint": 49.70541000366211,
           "trajectory": "Wolves Example",
           "value": 0.5260054469108582
          },
          {
           "sample_id": 0,
           "timepoint": 49.80360794067383,
           "trajectory": "Wolves Example",
           "value": 0.5744993090629578
          },
          {
           "sample_id": 0,
           "timepoint": 49.90180206298828,
           "trajectory": "Wolves Example",
           "value": 0.6255239248275757
          },
          {
           "sample_id": 0,
           "timepoint": 50,
           "trajectory": "Wolves Example",
           "value": 0.6781606674194336
          },
          {
           "sample_id": 0,
           "timepoint": 1,
           "trajectory": "Rabbits Example",
           "value": 0.48563435673713684
          },
          {
           "sample_id": 0,
           "timepoint": 1.0981963872909546,
           "trajectory": "Rabbits Example",
           "value": 0.46190929412841797
          },
          {
           "sample_id": 0,
           "timepoint": 1.1963927745819092,
           "trajectory": "Rabbits Example",
           "value": 0.44151270389556885
          },
          {
           "sample_id": 0,
           "timepoint": 1.2945891618728638,
           "trajectory": "Rabbits Example",
           "value": 0.4241073429584503
          },
          {
           "sample_id": 0,
           "timepoint": 1.3927855491638184,
           "trajectory": "Rabbits Example",
           "value": 0.40938955545425415
          },
          {
           "sample_id": 0,
           "timepoint": 1.490981936454773,
           "trajectory": "Rabbits Example",
           "value": 0.39709222316741943
          },
          {
           "sample_id": 0,
           "timepoint": 1.5891783237457275,
           "trajectory": "Rabbits Example",
           "value": 0.38698074221611023
          },
          {
           "sample_id": 0,
           "timepoint": 1.6873748302459717,
           "trajectory": "Rabbits Example",
           "value": 0.37885230779647827
          },
          {
           "sample_id": 0,
           "timepoint": 1.7855710983276367,
           "trajectory": "Rabbits Example",
           "value": 0.3725314438343048
          },
          {
           "sample_id": 0,
           "timepoint": 1.8837676048278809,
           "trajectory": "Rabbits Example",
           "value": 0.36786895990371704
          },
          {
           "sample_id": 0,
           "timepoint": 1.981963872909546,
           "trajectory": "Rabbits Example",
           "value": 0.3647378385066986
          },
          {
           "sample_id": 0,
           "timepoint": 2.08016037940979,
           "trajectory": "Rabbits Example",
           "value": 0.36303114891052246
          },
          {
           "sample_id": 0,
           "timepoint": 2.178356647491455,
           "trajectory": "Rabbits Example",
           "value": 0.36265990138053894
          },
          {
           "sample_id": 0,
           "timepoint": 2.276553153991699,
           "trajectory": "Rabbits Example",
           "value": 0.3635508120059967
          },
          {
           "sample_id": 0,
           "timepoint": 2.3747496604919434,
           "trajectory": "Rabbits Example",
           "value": 0.365642786026001
          },
          {
           "sample_id": 0,
           "timepoint": 2.4729459285736084,
           "trajectory": "Rabbits Example",
           "value": 0.36888962984085083
          },
          {
           "sample_id": 0,
           "timepoint": 2.5711421966552734,
           "trajectory": "Rabbits Example",
           "value": 0.3732534348964691
          },
          {
           "sample_id": 0,
           "timepoint": 2.6693387031555176,
           "trajectory": "Rabbits Example",
           "value": 0.37870702147483826
          },
          {
           "sample_id": 0,
           "timepoint": 2.7675352096557617,
           "trajectory": "Rabbits Example",
           "value": 0.385231077671051
          },
          {
           "sample_id": 0,
           "timepoint": 2.8657314777374268,
           "trajectory": "Rabbits Example",
           "value": 0.39281409978866577
          },
          {
           "sample_id": 0,
           "timepoint": 2.963927745819092,
           "trajectory": "Rabbits Example",
           "value": 0.40145114064216614
          },
          {
           "sample_id": 0,
           "timepoint": 3.062124252319336,
           "trajectory": "Rabbits Example",
           "value": 0.41114336252212524
          },
          {
           "sample_id": 0,
           "timepoint": 3.16032075881958,
           "trajectory": "Rabbits Example",
           "value": 0.42189744114875793
          },
          {
           "sample_id": 0,
           "timepoint": 3.258517026901245,
           "trajectory": "Rabbits Example",
           "value": 0.43372491002082825
          },
          {
           "sample_id": 0,
           "timepoint": 3.3567135334014893,
           "trajectory": "Rabbits Example",
           "value": 0.44664180278778076
          },
          {
           "sample_id": 0,
           "timepoint": 3.4549098014831543,
           "trajectory": "Rabbits Example",
           "value": 0.46066808700561523
          },
          {
           "sample_id": 0,
           "timepoint": 3.5531063079833984,
           "trajectory": "Rabbits Example",
           "value": 0.4758281111717224
          },
          {
           "sample_id": 0,
           "timepoint": 3.6513025760650635,
           "trajectory": "Rabbits Example",
           "value": 0.49214836955070496
          },
          {
           "sample_id": 0,
           "timepoint": 3.7494990825653076,
           "trajectory": "Rabbits Example",
           "value": 0.5096591711044312
          },
          {
           "sample_id": 0,
           "timepoint": 3.8476953506469727,
           "trajectory": "Rabbits Example",
           "value": 0.5283932089805603
          },
          {
           "sample_id": 0,
           "timepoint": 3.945891857147217,
           "trajectory": "Rabbits Example",
           "value": 0.5483850836753845
          },
          {
           "sample_id": 0,
           "timepoint": 4.044088363647461,
           "trajectory": "Rabbits Example",
           "value": 0.5696707367897034
          },
          {
           "sample_id": 0,
           "timepoint": 4.142284393310547,
           "trajectory": "Rabbits Example",
           "value": 0.5922895669937134
          },
          {
           "sample_id": 0,
           "timepoint": 4.240481376647949,
           "trajectory": "Rabbits Example",
           "value": 0.6162796020507812
          },
          {
           "sample_id": 0,
           "timepoint": 4.338677406311035,
           "trajectory": "Rabbits Example",
           "value": 0.6416810154914856
          },
          {
           "sample_id": 0,
           "timepoint": 4.436873912811279,
           "trajectory": "Rabbits Example",
           "value": 0.6685314178466797
          },
          {
           "sample_id": 0,
           "timepoint": 4.535070419311523,
           "trajectory": "Rabbits Example",
           "value": 0.6968693137168884
          },
          {
           "sample_id": 0,
           "timepoint": 4.633266448974609,
           "trajectory": "Rabbits Example",
           "value": 0.726730227470398
          },
          {
           "sample_id": 0,
           "timepoint": 4.7314629554748535,
           "trajectory": "Rabbits Example",
           "value": 0.7581465244293213
          },
          {
           "sample_id": 0,
           "timepoint": 4.829659461975098,
           "trajectory": "Rabbits Example",
           "value": 0.7911468744277954
          },
          {
           "sample_id": 0,
           "timepoint": 4.927855491638184,
           "trajectory": "Rabbits Example",
           "value": 0.825753927230835
          },
          {
           "sample_id": 0,
           "timepoint": 5.026051998138428,
           "trajectory": "Rabbits Example",
           "value": 0.8619824647903442
          },
          {
           "sample_id": 0,
           "timepoint": 5.124248504638672,
           "trajectory": "Rabbits Example",
           "value": 0.8998374938964844
          },
          {
           "sample_id": 0,
           "timepoint": 5.222445011138916,
           "trajectory": "Rabbits Example",
           "value": 0.9393137097358704
          },
          {
           "sample_id": 0,
           "timepoint": 5.32064151763916,
           "trajectory": "Rabbits Example",
           "value": 0.9803882837295532
          },
          {
           "sample_id": 0,
           "timepoint": 5.418837547302246,
           "trajectory": "Rabbits Example",
           "value": 1.0230214595794678
          },
          {
           "sample_id": 0,
           "timepoint": 5.51703405380249,
           "trajectory": "Rabbits Example",
           "value": 1.0671501159667969
          },
          {
           "sample_id": 0,
           "timepoint": 5.615230560302734,
           "trajectory": "Rabbits Example",
           "value": 1.1126848459243774
          },
          {
           "sample_id": 0,
           "timepoint": 5.7134270668029785,
           "trajectory": "Rabbits Example",
           "value": 1.159507393836975
          },
          {
           "sample_id": 0,
           "timepoint": 5.811623573303223,
           "trajectory": "Rabbits Example",
           "value": 1.2074531316757202
          },
          {
           "sample_id": 0,
           "timepoint": 5.909819602966309,
           "trajectory": "Rabbits Example",
           "value": 1.256317138671875
          },
          {
           "sample_id": 0,
           "timepoint": 6.008016109466553,
           "trajectory": "Rabbits Example",
           "value": 1.3058373928070068
          },
          {
           "sample_id": 0,
           "timepoint": 6.106212615966797,
           "trajectory": "Rabbits Example",
           "value": 1.3556952476501465
          },
          {
           "sample_id": 0,
           "timepoint": 6.204409122467041,
           "trajectory": "Rabbits Example",
           "value": 1.4054902791976929
          },
          {
           "sample_id": 0,
           "timepoint": 6.302605152130127,
           "trajectory": "Rabbits Example",
           "value": 1.4547497034072876
          },
          {
           "sample_id": 0,
           "timepoint": 6.400801658630371,
           "trajectory": "Rabbits Example",
           "value": 1.5029021501541138
          },
          {
           "sample_id": 0,
           "timepoint": 6.498998165130615,
           "trajectory": "Rabbits Example",
           "value": 1.5492775440216064
          },
          {
           "sample_id": 0,
           "timepoint": 6.597194671630859,
           "trajectory": "Rabbits Example",
           "value": 1.5931004285812378
          },
          {
           "sample_id": 0,
           "timepoint": 6.695390701293945,
           "trajectory": "Rabbits Example",
           "value": 1.6334805488586426
          },
          {
           "sample_id": 0,
           "timepoint": 6.7935872077941895,
           "trajectory": "Rabbits Example",
           "value": 1.6694234609603882
          },
          {
           "sample_id": 0,
           "timepoint": 6.891783714294434,
           "trajectory": "Rabbits Example",
           "value": 1.6998411417007446
          },
          {
           "sample_id": 0,
           "timepoint": 6.989980220794678,
           "trajectory": "Rabbits Example",
           "value": 1.7235767841339111
          },
          {
           "sample_id": 0,
           "timepoint": 7.088176250457764,
           "trajectory": "Rabbits Example",
           "value": 1.7394421100616455
          },
          {
           "sample_id": 0,
           "timepoint": 7.186372756958008,
           "trajectory": "Rabbits Example",
           "value": 1.7462832927703857
          },
          {
           "sample_id": 0,
           "timepoint": 7.284569263458252,
           "trajectory": "Rabbits Example",
           "value": 1.7430496215820312
          },
          {
           "sample_id": 0,
           "timepoint": 7.382765769958496,
           "trajectory": "Rabbits Example",
           "value": 1.728894829750061
          },
          {
           "sample_id": 0,
           "timepoint": 7.48096227645874,
           "trajectory": "Rabbits Example",
           "value": 1.7032687664031982
          },
          {
           "sample_id": 0,
           "timepoint": 7.579158306121826,
           "trajectory": "Rabbits Example",
           "value": 1.6660339832305908
          },
          {
           "sample_id": 0,
           "timepoint": 7.67735481262207,
           "trajectory": "Rabbits Example",
           "value": 1.617517113685608
          },
          {
           "sample_id": 0,
           "timepoint": 7.7755513191223145,
           "trajectory": "Rabbits Example",
           "value": 1.5585726499557495
          },
          {
           "sample_id": 0,
           "timepoint": 7.873747825622559,
           "trajectory": "Rabbits Example",
           "value": 1.4905569553375244
          },
          {
           "sample_id": 0,
           "timepoint": 7.9719438552856445,
           "trajectory": "Rabbits Example",
           "value": 1.415259838104248
          },
          {
           "sample_id": 0,
           "timepoint": 8.070140838623047,
           "trajectory": "Rabbits Example",
           "value": 1.3347676992416382
          },
          {
           "sample_id": 0,
           "timepoint": 8.168336868286133,
           "trajectory": "Rabbits Example",
           "value": 1.2513102293014526
          },
          {
           "sample_id": 0,
           "timepoint": 8.266532897949219,
           "trajectory": "Rabbits Example",
           "value": 1.167070984840393
          },
          {
           "sample_id": 0,
           "timepoint": 8.364728927612305,
           "trajectory": "Rabbits Example",
           "value": 1.0840468406677246
          },
          {
           "sample_id": 0,
           "timepoint": 8.462925910949707,
           "trajectory": "Rabbits Example",
           "value": 1.0039178133010864
          },
          {
           "sample_id": 0,
           "timepoint": 8.56112289428711,
           "trajectory": "Rabbits Example",
           "value": 0.9279943108558655
          },
          {
           "sample_id": 0,
           "timepoint": 8.659318923950195,
           "trajectory": "Rabbits Example",
           "value": 0.8571893572807312
          },
          {
           "sample_id": 0,
           "timepoint": 8.757514953613281,
           "trajectory": "Rabbits Example",
           "value": 0.7920597195625305
          },
          {
           "sample_id": 0,
           "timepoint": 8.855710983276367,
           "trajectory": "Rabbits Example",
           "value": 0.7328426241874695
          },
          {
           "sample_id": 0,
           "timepoint": 8.95390796661377,
           "trajectory": "Rabbits Example",
           "value": 0.6795304417610168
          },
          {
           "sample_id": 0,
           "timepoint": 9.052103996276855,
           "trajectory": "Rabbits Example",
           "value": 0.6319366693496704
          },
          {
           "sample_id": 0,
           "timepoint": 9.150300979614258,
           "trajectory": "Rabbits Example",
           "value": 0.5897508263587952
          },
          {
           "sample_id": 0,
           "timepoint": 9.248497009277344,
           "trajectory": "Rabbits Example",
           "value": 0.5525932908058167
          },
          {
           "sample_id": 0,
           "timepoint": 9.346693992614746,
           "trajectory": "Rabbits Example",
           "value": 0.5200497508049011
          },
          {
           "sample_id": 0,
           "timepoint": 9.444890022277832,
           "trajectory": "Rabbits Example",
           "value": 0.49170225858688354
          },
          {
           "sample_id": 0,
           "timepoint": 9.543086051940918,
           "trajectory": "Rabbits Example",
           "value": 0.46714600920677185
          },
          {
           "sample_id": 0,
           "timepoint": 9.64128303527832,
           "trajectory": "Rabbits Example",
           "value": 0.44600245356559753
          },
          {
           "sample_id": 0,
           "timepoint": 9.739479064941406,
           "trajectory": "Rabbits Example",
           "value": 0.42792606353759766
          },
          {
           "sample_id": 0,
           "timepoint": 9.837675094604492,
           "trajectory": "Rabbits Example",
           "value": 0.4126051962375641
          },
          {
           "sample_id": 0,
           "timepoint": 9.935872077941895,
           "trajectory": "Rabbits Example",
           "value": 0.3997645676136017
          },
          {
           "sample_id": 0,
           "timepoint": 10.03406810760498,
           "trajectory": "Rabbits Example",
           "value": 0.3891606628894806
          },
          {
           "sample_id": 0,
           "timepoint": 10.132265090942383,
           "trajectory": "Rabbits Example",
           "value": 0.3805851936340332
          },
          {
           "sample_id": 0,
           "timepoint": 10.230461120605469,
           "trajectory": "Rabbits Example",
           "value": 0.3738560080528259
          },
          {
           "sample_id": 0,
           "timepoint": 10.328657150268555,
           "trajectory": "Rabbits Example",
           "value": 0.36881783604621887
          },
          {
           "sample_id": 0,
           "timepoint": 10.426854133605957,
           "trajectory": "Rabbits Example",
           "value": 0.36533883213996887
          },
          {
           "sample_id": 0,
           "timepoint": 10.525050163269043,
           "trajectory": "Rabbits Example",
           "value": 0.363307923078537
          },
          {
           "sample_id": 0,
           "timepoint": 10.623247146606445,
           "trajectory": "Rabbits Example",
           "value": 0.3626311719417572
          },
          {
           "sample_id": 0,
           "timepoint": 10.721443176269531,
           "trajectory": "Rabbits Example",
           "value": 0.36323216557502747
          },
          {
           "sample_id": 0,
           "timepoint": 10.819639205932617,
           "trajectory": "Rabbits Example",
           "value": 0.3650485873222351
          },
          {
           "sample_id": 0,
           "timepoint": 10.91783618927002,
           "trajectory": "Rabbits Example",
           "value": 0.36802905797958374
          },
          {
           "sample_id": 0,
           "timepoint": 11.016032218933105,
           "trajectory": "Rabbits Example",
           "value": 0.3721345067024231
          },
          {
           "sample_id": 0,
           "timepoint": 11.114228248596191,
           "trajectory": "Rabbits Example",
           "value": 0.3773352801799774
          },
          {
           "sample_id": 0,
           "timepoint": 11.212425231933594,
           "trajectory": "Rabbits Example",
           "value": 0.3836101293563843
          },
          {
           "sample_id": 0,
           "timepoint": 11.31062126159668,
           "trajectory": "Rabbits Example",
           "value": 0.3909463882446289
          },
          {
           "sample_id": 0,
           "timepoint": 11.408818244934082,
           "trajectory": "Rabbits Example",
           "value": 0.39933714270591736
          },
          {
           "sample_id": 0,
           "timepoint": 11.507014274597168,
           "trajectory": "Rabbits Example",
           "value": 0.4087822735309601
          },
          {
           "sample_id": 0,
           "timepoint": 11.605210304260254,
           "trajectory": "Rabbits Example",
           "value": 0.41928714513778687
          },
          {
           "sample_id": 0,
           "timepoint": 11.703407287597656,
           "trajectory": "Rabbits Example",
           "value": 0.43086233735084534
          },
          {
           "sample_id": 0,
           "timepoint": 11.801603317260742,
           "trajectory": "Rabbits Example",
           "value": 0.44352293014526367
          },
          {
           "sample_id": 0,
           "timepoint": 11.899799346923828,
           "trajectory": "Rabbits Example",
           "value": 0.45728781819343567
          },
          {
           "sample_id": 0,
           "timepoint": 11.99799633026123,
           "trajectory": "Rabbits Example",
           "value": 0.47218015789985657
          },
          {
           "sample_id": 0,
           "timepoint": 12.096192359924316,
           "trajectory": "Rabbits Example",
           "value": 0.48822641372680664
          },
          {
           "sample_id": 0,
           "timepoint": 12.194389343261719,
           "trajectory": "Rabbits Example",
           "value": 0.5054560899734497
          },
          {
           "sample_id": 0,
           "timepoint": 12.292585372924805,
           "trajectory": "Rabbits Example",
           "value": 0.5239008069038391
          },
          {
           "sample_id": 0,
           "timepoint": 12.39078140258789,
           "trajectory": "Rabbits Example",
           "value": 0.5435951352119446
          },
          {
           "sample_id": 0,
           "timepoint": 12.488978385925293,
           "trajectory": "Rabbits Example",
           "value": 0.5645751357078552
          },
          {
           "sample_id": 0,
           "timepoint": 12.587174415588379,
           "trajectory": "Rabbits Example",
           "value": 0.586878776550293
          },
          {
           "sample_id": 0,
           "timepoint": 12.685371398925781,
           "trajectory": "Rabbits Example",
           "value": 0.6105446815490723
          },
          {
           "sample_id": 0,
           "timepoint": 12.783567428588867,
           "trajectory": "Rabbits Example",
           "value": 0.6356126666069031
          },
          {
           "sample_id": 0,
           "timepoint": 12.881763458251953,
           "trajectory": "Rabbits Example",
           "value": 0.6621207594871521
          },
          {
           "sample_id": 0,
           "timepoint": 12.979960441589355,
           "trajectory": "Rabbits Example",
           "value": 0.690108060836792
          },
          {
           "sample_id": 0,
           "timepoint": 13.078156471252441,
           "trajectory": "Rabbits Example",
           "value": 0.7196090817451477
          },
          {
           "sample_id": 0,
           "timepoint": 13.176352500915527,
           "trajectory": "Rabbits Example",
           "value": 0.750659167766571
          },
          {
           "sample_id": 0,
           "timepoint": 13.27454948425293,
           "trajectory": "Rabbits Example",
           "value": 0.7832866311073303
          },
          {
           "sample_id": 0,
           "timepoint": 13.372745513916016,
           "trajectory": "Rabbits Example",
           "value": 0.8175163865089417
          },
          {
           "sample_id": 0,
           "timepoint": 13.470942497253418,
           "trajectory": "Rabbits Example",
           "value": 0.8533649444580078
          },
          {
           "sample_id": 0,
           "timepoint": 13.569138526916504,
           "trajectory": "Rabbits Example",
           "value": 0.890839695930481
          },
          {
           "sample_id": 0,
           "timepoint": 13.66733455657959,
           "trajectory": "Rabbits Example",
           "value": 0.9299381971359253
          },
          {
           "sample_id": 0,
           "timepoint": 13.765531539916992,
           "trajectory": "Rabbits Example",
           "value": 0.970641553401947
          },
          {
           "sample_id": 0,
           "timepoint": 13.863727569580078,
           "trajectory": "Rabbits Example",
           "value": 1.0129138231277466
          },
          {
           "sample_id": 0,
           "timepoint": 13.96192455291748,
           "trajectory": "Rabbits Example",
           "value": 1.0567013025283813
          },
          {
           "sample_id": 0,
           "timepoint": 14.060120582580566,
           "trajectory": "Rabbits Example",
           "value": 1.1019184589385986
          },
          {
           "sample_id": 0,
           "timepoint": 14.158316612243652,
           "trajectory": "Rabbits Example",
           "value": 1.1484508514404297
          },
          {
           "sample_id": 0,
           "timepoint": 14.256513595581055,
           "trajectory": "Rabbits Example",
           "value": 1.1961500644683838
          },
          {
           "sample_id": 0,
           "timepoint": 14.35470962524414,
           "trajectory": "Rabbits Example",
           "value": 1.24481999874115
          },
          {
           "sample_id": 0,
           "timepoint": 14.452905654907227,
           "trajectory": "Rabbits Example",
           "value": 1.2942136526107788
          },
          {
           "sample_id": 0,
           "timepoint": 14.551102638244629,
           "trajectory": "Rabbits Example",
           "value": 1.3440251350402832
          },
          {
           "sample_id": 0,
           "timepoint": 14.649298667907715,
           "trajectory": "Rabbits Example",
           "value": 1.393874168395996
          },
          {
           "sample_id": 0,
           "timepoint": 14.747495651245117,
           "trajectory": "Rabbits Example",
           "value": 1.4433066844940186
          },
          {
           "sample_id": 0,
           "timepoint": 14.845691680908203,
           "trajectory": "Rabbits Example",
           "value": 1.491774320602417
          },
          {
           "sample_id": 0,
           "timepoint": 14.943887710571289,
           "trajectory": "Rabbits Example",
           "value": 1.5386326313018799
          },
          {
           "sample_id": 0,
           "timepoint": 15.042084693908691,
           "trajectory": "Rabbits Example",
           "value": 1.5831265449523926
          },
          {
           "sample_id": 0,
           "timepoint": 15.140280723571777,
           "trajectory": "Rabbits Example",
           "value": 1.6243969202041626
          },
          {
           "sample_id": 0,
           "timepoint": 15.23847770690918,
           "trajectory": "Rabbits Example",
           "value": 1.6614716053009033
          },
          {
           "sample_id": 0,
           "timepoint": 15.336673736572266,
           "trajectory": "Rabbits Example",
           "value": 1.6932841539382935
          },
          {
           "sample_id": 0,
           "timepoint": 15.434869766235352,
           "trajectory": "Rabbits Example",
           "value": 1.7186872959136963
          },
          {
           "sample_id": 0,
           "timepoint": 15.533066749572754,
           "trajectory": "Rabbits Example",
           "value": 1.7364999055862427
          },
          {
           "sample_id": 0,
           "timepoint": 15.63126277923584,
           "trajectory": "Rabbits Example",
           "value": 1.7455496788024902
          },
          {
           "sample_id": 0,
           "timepoint": 15.729458808898926,
           "trajectory": "Rabbits Example",
           "value": 1.7447559833526611
          },
          {
           "sample_id": 0,
           "timepoint": 15.827655792236328,
           "trajectory": "Rabbits Example",
           "value": 1.7332180738449097
          },
          {
           "sample_id": 0,
           "timepoint": 15.925851821899414,
           "trajectory": "Rabbits Example",
           "value": 1.710307240486145
          },
          {
           "sample_id": 0,
           "timepoint": 16.0240478515625,
           "trajectory": "Rabbits Example",
           "value": 1.6757729053497314
          },
          {
           "sample_id": 0,
           "timepoint": 16.12224578857422,
           "trajectory": "Rabbits Example",
           "value": 1.6298381090164185
          },
          {
           "sample_id": 0,
           "timepoint": 16.220439910888672,
           "trajectory": "Rabbits Example",
           "value": 1.5732265710830688
          },
          {
           "sample_id": 0,
           "timepoint": 16.31863784790039,
           "trajectory": "Rabbits Example",
           "value": 1.5071864128112793
          },
          {
           "sample_id": 0,
           "timepoint": 16.416833877563477,
           "trajectory": "Rabbits Example",
           "value": 1.4334133863449097
          },
          {
           "sample_id": 0,
           "timepoint": 16.515029907226562,
           "trajectory": "Rabbits Example",
           "value": 1.353939414024353
          },
          {
           "sample_id": 0,
           "timepoint": 16.61322784423828,
           "trajectory": "Rabbits Example",
           "value": 1.2709766626358032
          },
          {
           "sample_id": 0,
           "timepoint": 16.711421966552734,
           "trajectory": "Rabbits Example",
           "value": 1.1867319345474243
          },
          {
           "sample_id": 0,
           "timepoint": 16.809619903564453,
           "trajectory": "Rabbits Example",
           "value": 1.1032612323760986
          },
          {
           "sample_id": 0,
           "timepoint": 16.90781593322754,
           "trajectory": "Rabbits Example",
           "value": 1.0223236083984375
          },
          {
           "sample_id": 0,
           "timepoint": 17.006011962890625,
           "trajectory": "Rabbits Example",
           "value": 0.9453186988830566
          },
          {
           "sample_id": 0,
           "timepoint": 17.10420799255371,
           "trajectory": "Rabbits Example",
           "value": 0.8732560276985168
          },
          {
           "sample_id": 0,
           "timepoint": 17.20240592956543,
           "trajectory": "Rabbits Example",
           "value": 0.8067660927772522
          },
          {
           "sample_id": 0,
           "timepoint": 17.300601959228516,
           "trajectory": "Rabbits Example",
           "value": 0.7461583614349365
          },
          {
           "sample_id": 0,
           "timepoint": 17.3987979888916,
           "trajectory": "Rabbits Example",
           "value": 0.6914764642715454
          },
          {
           "sample_id": 0,
           "timepoint": 17.496994018554688,
           "trajectory": "Rabbits Example",
           "value": 0.6425689458847046
          },
          {
           "sample_id": 0,
           "timepoint": 17.595190048217773,
           "trajectory": "Rabbits Example",
           "value": 0.5991512537002563
          },
          {
           "sample_id": 0,
           "timepoint": 17.693387985229492,
           "trajectory": "Rabbits Example",
           "value": 0.5608540773391724
          },
          {
           "sample_id": 0,
           "timepoint": 17.791584014892578,
           "trajectory": "Rabbits Example",
           "value": 0.5272681713104248
          },
          {
           "sample_id": 0,
           "timepoint": 17.889780044555664,
           "trajectory": "Rabbits Example",
           "value": 0.4979768991470337
          },
          {
           "sample_id": 0,
           "timepoint": 17.98797607421875,
           "trajectory": "Rabbits Example",
           "value": 0.4725690484046936
          },
          {
           "sample_id": 0,
           "timepoint": 18.086172103881836,
           "trajectory": "Rabbits Example",
           "value": 0.45066019892692566
          },
          {
           "sample_id": 0,
           "timepoint": 18.184368133544922,
           "trajectory": "Rabbits Example",
           "value": 0.4318958818912506
          },
          {
           "sample_id": 0,
           "timepoint": 18.28256607055664,
           "trajectory": "Rabbits Example",
           "value": 0.41595613956451416
          },
          {
           "sample_id": 0,
           "timepoint": 18.380762100219727,
           "trajectory": "Rabbits Example",
           "value": 0.4025581479072571
          },
          {
           "sample_id": 0,
           "timepoint": 18.478958129882812,
           "trajectory": "Rabbits Example",
           "value": 0.39145147800445557
          },
          {
           "sample_id": 0,
           "timepoint": 18.5771541595459,
           "trajectory": "Rabbits Example",
           "value": 0.38241851329803467
          },
          {
           "sample_id": 0,
           "timepoint": 18.675350189208984,
           "trajectory": "Rabbits Example",
           "value": 0.37527263164520264
          },
          {
           "sample_id": 0,
           "timepoint": 18.773548126220703,
           "trajectory": "Rabbits Example",
           "value": 0.3698507845401764
          },
          {
           "sample_id": 0,
           "timepoint": 18.87174415588379,
           "trajectory": "Rabbits Example",
           "value": 0.3660188615322113
          },
          {
           "sample_id": 0,
           "timepoint": 18.969940185546875,
           "trajectory": "Rabbits Example",
           "value": 0.36365818977355957
          },
          {
           "sample_id": 0,
           "timepoint": 19.06813621520996,
           "trajectory": "Rabbits Example",
           "value": 0.3626723885536194
          },
          {
           "sample_id": 0,
           "timepoint": 19.166332244873047,
           "trajectory": "Rabbits Example",
           "value": 0.362981379032135
          },
          {
           "sample_id": 0,
           "timepoint": 19.264530181884766,
           "trajectory": "Rabbits Example",
           "value": 0.36451786756515503
          },
          {
           "sample_id": 0,
           "timepoint": 19.36272621154785,
           "trajectory": "Rabbits Example",
           "value": 0.36722996830940247
          },
          {
           "sample_id": 0,
           "timepoint": 19.460922241210938,
           "trajectory": "Rabbits Example",
           "value": 0.3710753917694092
          },
          {
           "sample_id": 0,
           "timepoint": 19.559118270874023,
           "trajectory": "Rabbits Example",
           "value": 0.3760221004486084
          },
          {
           "sample_id": 0,
           "timepoint": 19.65731430053711,
           "trajectory": "Rabbits Example",
           "value": 0.3820470869541168
          },
          {
           "sample_id": 0,
           "timepoint": 19.755512237548828,
           "trajectory": "Rabbits Example",
           "value": 0.3891361951828003
          },
          {
           "sample_id": 0,
           "timepoint": 19.853708267211914,
           "trajectory": "Rabbits Example",
           "value": 0.3972805142402649
          },
          {
           "sample_id": 0,
           "timepoint": 19.951904296875,
           "trajectory": "Rabbits Example",
           "value": 0.4064784049987793
          },
          {
           "sample_id": 0,
           "timepoint": 20.050100326538086,
           "trajectory": "Rabbits Example",
           "value": 0.41673508286476135
          },
          {
           "sample_id": 0,
           "timepoint": 20.148296356201172,
           "trajectory": "Rabbits Example",
           "value": 0.4280589520931244
          },
          {
           "sample_id": 0,
           "timepoint": 20.24649429321289,
           "trajectory": "Rabbits Example",
           "value": 0.44046396017074585
          },
          {
           "sample_id": 0,
           "timepoint": 20.344690322875977,
           "trajectory": "Rabbits Example",
           "value": 0.4539687931537628
          },
          {
           "sample_id": 0,
           "timepoint": 20.442886352539062,
           "trajectory": "Rabbits Example",
           "value": 0.4685952365398407
          },
          {
           "sample_id": 0,
           "timepoint": 20.54108238220215,
           "trajectory": "Rabbits Example",
           "value": 0.48436906933784485
          },
          {
           "sample_id": 0,
           "timepoint": 20.639278411865234,
           "trajectory": "Rabbits Example",
           "value": 0.5013189315795898
          },
          {
           "sample_id": 0,
           "timepoint": 20.73747444152832,
           "trajectory": "Rabbits Example",
           "value": 0.5194761157035828
          },
          {
           "sample_id": 0,
           "timepoint": 20.83567237854004,
           "trajectory": "Rabbits Example",
           "value": 0.53887540102005
          },
          {
           "sample_id": 0,
           "timepoint": 20.933868408203125,
           "trajectory": "Rabbits Example",
           "value": 0.5595518350601196
          },
          {
           "sample_id": 0,
           "timepoint": 21.03206443786621,
           "trajectory": "Rabbits Example",
           "value": 0.5815424919128418
          },
          {
           "sample_id": 0,
           "timepoint": 21.130260467529297,
           "trajectory": "Rabbits Example",
           "value": 0.6048864722251892
          },
          {
           "sample_id": 0,
           "timepoint": 21.228456497192383,
           "trajectory": "Rabbits Example",
           "value": 0.629622757434845
          },
          {
           "sample_id": 0,
           "timepoint": 21.3266544342041,
           "trajectory": "Rabbits Example",
           "value": 0.6557904481887817
          },
          {
           "sample_id": 0,
           "timepoint": 21.424850463867188,
           "trajectory": "Rabbits Example",
           "value": 0.6834284663200378
          },
          {
           "sample_id": 0,
           "timepoint": 21.523046493530273,
           "trajectory": "Rabbits Example",
           "value": 0.7125723361968994
          },
          {
           "sample_id": 0,
           "timepoint": 21.62124252319336,
           "trajectory": "Rabbits Example",
           "value": 0.7432577013969421
          },
          {
           "sample_id": 0,
           "timepoint": 21.719438552856445,
           "trajectory": "Rabbits Example",
           "value": 0.7755153179168701
          },
          {
           "sample_id": 0,
           "timepoint": 21.817636489868164,
           "trajectory": "Rabbits Example",
           "value": 0.8093675971031189
          },
          {
           "sample_id": 0,
           "timepoint": 21.91583251953125,
           "trajectory": "Rabbits Example",
           "value": 0.8448362946510315
          },
          {
           "sample_id": 0,
           "timepoint": 22.014028549194336,
           "trajectory": "Rabbits Example",
           "value": 0.8819304704666138
          },
          {
           "sample_id": 0,
           "timepoint": 22.112224578857422,
           "trajectory": "Rabbits Example",
           "value": 0.9206504225730896
          },
          {
           "sample_id": 0,
           "timepoint": 22.210420608520508,
           "trajectory": "Rabbits Example",
           "value": 0.9609808325767517
          },
          {
           "sample_id": 0,
           "timepoint": 22.308618545532227,
           "trajectory": "Rabbits Example",
           "value": 1.002891182899475
          },
          {
           "sample_id": 0,
           "timepoint": 22.406814575195312,
           "trajectory": "Rabbits Example",
           "value": 1.046329379081726
          },
          {
           "sample_id": 0,
           "timepoint": 22.5050106048584,
           "trajectory": "Rabbits Example",
           "value": 1.0912208557128906
          },
          {
           "sample_id": 0,
           "timepoint": 22.603206634521484,
           "trajectory": "Rabbits Example",
           "value": 1.1374584436416626
          },
          {
           "sample_id": 0,
           "timepoint": 22.70140266418457,
           "trajectory": "Rabbits Example",
           "value": 1.184900164604187
          },
          {
           "sample_id": 0,
           "timepoint": 22.799598693847656,
           "trajectory": "Rabbits Example",
           "value": 1.2333617210388184
          },
          {
           "sample_id": 0,
           "timepoint": 22.897796630859375,
           "trajectory": "Rabbits Example",
           "value": 1.2826124429702759
          },
          {
           "sample_id": 0,
           "timepoint": 22.99599266052246,
           "trajectory": "Rabbits Example",
           "value": 1.3323570489883423
          },
          {
           "sample_id": 0,
           "timepoint": 23.094188690185547,
           "trajectory": "Rabbits Example",
           "value": 1.3822360038757324
          },
          {
           "sample_id": 0,
           "timepoint": 23.192384719848633,
           "trajectory": "Rabbits Example",
           "value": 1.4318101406097412
          },
          {
           "sample_id": 0,
           "timepoint": 23.29058074951172,
           "trajectory": "Rabbits Example",
           "value": 1.4805593490600586
          },
          {
           "sample_id": 0,
           "timepoint": 23.388778686523438,
           "trajectory": "Rabbits Example",
           "value": 1.527856469154358
          },
          {
           "sample_id": 0,
           "timepoint": 23.486974716186523,
           "trajectory": "Rabbits Example",
           "value": 1.5729765892028809
          },
          {
           "sample_id": 0,
           "timepoint": 23.58517074584961,
           "trajectory": "Rabbits Example",
           "value": 1.6150835752487183
          },
          {
           "sample_id": 0,
           "timepoint": 23.683366775512695,
           "trajectory": "Rabbits Example",
           "value": 1.6532319784164429
          },
          {
           "sample_id": 0,
           "timepoint": 23.78156280517578,
           "trajectory": "Rabbits Example",
           "value": 1.686374306678772
          },
          {
           "sample_id": 0,
           "timepoint": 23.8797607421875,
           "trajectory": "Rabbits Example",
           "value": 1.7133824825286865
          },
          {
           "sample_id": 0,
           "timepoint": 23.977956771850586,
           "trajectory": "Rabbits Example",
           "value": 1.7330762147903442
          },
          {
           "sample_id": 0,
           "timepoint": 24.076152801513672,
           "trajectory": "Rabbits Example",
           "value": 1.7442779541015625
          },
          {
           "sample_id": 0,
           "timepoint": 24.174348831176758,
           "trajectory": "Rabbits Example",
           "value": 1.7458759546279907
          },
          {
           "sample_id": 0,
           "timepoint": 24.272544860839844,
           "trajectory": "Rabbits Example",
           "value": 1.7369177341461182
          },
          {
           "sample_id": 0,
           "timepoint": 24.370742797851562,
           "trajectory": "Rabbits Example",
           "value": 1.7167022228240967
          },
          {
           "sample_id": 0,
           "timepoint": 24.46893882751465,
           "trajectory": "Rabbits Example",
           "value": 1.6848864555358887
          },
          {
           "sample_id": 0,
           "timepoint": 24.567134857177734,
           "trajectory": "Rabbits Example",
           "value": 1.6415706872940063
          },
          {
           "sample_id": 0,
           "timepoint": 24.66533088684082,
           "trajectory": "Rabbits Example",
           "value": 1.5873631238937378
          },
          {
           "sample_id": 0,
           "timepoint": 24.763526916503906,
           "trajectory": "Rabbits Example",
           "value": 1.5233895778656006
          },
          {
           "sample_id": 0,
           "timepoint": 24.861724853515625,
           "trajectory": "Rabbits Example",
           "value": 1.4512546062469482
          },
          {
           "sample_id": 0,
           "timepoint": 24.95992088317871,
           "trajectory": "Rabbits Example",
           "value": 1.3729194402694702
          },
          {
           "sample_id": 0,
           "timepoint": 25.058116912841797,
           "trajectory": "Rabbits Example",
           "value": 1.290570616722107
          },
          {
           "sample_id": 0,
           "timepoint": 25.156312942504883,
           "trajectory": "Rabbits Example",
           "value": 1.2064341306686401
          },
          {
           "sample_id": 0,
           "timepoint": 25.25450897216797,
           "trajectory": "Rabbits Example",
           "value": 1.1226123571395874
          },
          {
           "sample_id": 0,
           "timepoint": 25.352705001831055,
           "trajectory": "Rabbits Example",
           "value": 1.040942907333374
          },
          {
           "sample_id": 0,
           "timepoint": 25.450902938842773,
           "trajectory": "Rabbits Example",
           "value": 0.9629151821136475
          },
          {
           "sample_id": 0,
           "timepoint": 25.549097061157227,
           "trajectory": "Rabbits Example",
           "value": 0.8896274566650391
          },
          {
           "sample_id": 0,
           "timepoint": 25.647294998168945,
           "trajectory": "Rabbits Example",
           "value": 0.8217939734458923
          },
          {
           "sample_id": 0,
           "timepoint": 25.74549102783203,
           "trajectory": "Rabbits Example",
           "value": 0.7597984671592712
          },
          {
           "sample_id": 0,
           "timepoint": 25.843687057495117,
           "trajectory": "Rabbits Example",
           "value": 0.703738272190094
          },
          {
           "sample_id": 0,
           "timepoint": 25.941883087158203,
           "trajectory": "Rabbits Example",
           "value": 0.6535025835037231
          },
          {
           "sample_id": 0,
           "timepoint": 26.04007911682129,
           "trajectory": "Rabbits Example",
           "value": 0.6088314056396484
          },
          {
           "sample_id": 0,
           "timepoint": 26.138275146484375,
           "trajectory": "Rabbits Example",
           "value": 0.5693727731704712
          },
          {
           "sample_id": 0,
           "timepoint": 26.236473083496094,
           "trajectory": "Rabbits Example",
           "value": 0.534722626209259
          },
          {
           "sample_id": 0,
           "timepoint": 26.33466911315918,
           "trajectory": "Rabbits Example",
           "value": 0.5044649839401245
          },
          {
           "sample_id": 0,
           "timepoint": 26.432865142822266,
           "trajectory": "Rabbits Example",
           "value": 0.4781840443611145
          },
          {
           "sample_id": 0,
           "timepoint": 26.53106117248535,
           "trajectory": "Rabbits Example",
           "value": 0.4554896652698517
          },
          {
           "sample_id": 0,
           "timepoint": 26.629257202148438,
           "trajectory": "Rabbits Example",
           "value": 0.4360199272632599
          },
          {
           "sample_id": 0,
           "timepoint": 26.727455139160156,
           "trajectory": "Rabbits Example",
           "value": 0.41944658756256104
          },
          {
           "sample_id": 0,
           "timepoint": 26.825651168823242,
           "trajectory": "Rabbits Example",
           "value": 0.40547844767570496
          },
          {
           "sample_id": 0,
           "timepoint": 26.923847198486328,
           "trajectory": "Rabbits Example",
           "value": 0.3938556909561157
          },
          {
           "sample_id": 0,
           "timepoint": 27.022043228149414,
           "trajectory": "Rabbits Example",
           "value": 0.3843560218811035
          },
          {
           "sample_id": 0,
           "timepoint": 27.1202392578125,
           "trajectory": "Rabbits Example",
           "value": 0.3767840564250946
          },
          {
           "sample_id": 0,
           "timepoint": 27.21843719482422,
           "trajectory": "Rabbits Example",
           "value": 0.370972603559494
          },
          {
           "sample_id": 0,
           "timepoint": 27.316633224487305,
           "trajectory": "Rabbits Example",
           "value": 0.3667795658111572
          },
          {
           "sample_id": 0,
           "timepoint": 27.41482925415039,
           "trajectory": "Rabbits Example",
           "value": 0.3640843629837036
          },
          {
           "sample_id": 0,
           "timepoint": 27.513025283813477,
           "trajectory": "Rabbits Example",
           "value": 0.362784206867218
          },
          {
           "sample_id": 0,
           "timepoint": 27.611221313476562,
           "trajectory": "Rabbits Example",
           "value": 0.3627963066101074
          },
          {
           "sample_id": 0,
           "timepoint": 27.70941925048828,
           "trajectory": "Rabbits Example",
           "value": 0.3640514314174652
          },
          {
           "sample_id": 0,
           "timepoint": 27.807615280151367,
           "trajectory": "Rabbits Example",
           "value": 0.3664928078651428
          },
          {
           "sample_id": 0,
           "timepoint": 27.905811309814453,
           "trajectory": "Rabbits Example",
           "value": 0.37007641792297363
          },
          {
           "sample_id": 0,
           "timepoint": 28.00400733947754,
           "trajectory": "Rabbits Example",
           "value": 0.37476804852485657
          },
          {
           "sample_id": 0,
           "timepoint": 28.102203369140625,
           "trajectory": "Rabbits Example",
           "value": 0.3805423378944397
          },
          {
           "sample_id": 0,
           "timepoint": 28.200401306152344,
           "trajectory": "Rabbits Example",
           "value": 0.3873838186264038
          },
          {
           "sample_id": 0,
           "timepoint": 28.29859733581543,
           "trajectory": "Rabbits Example",
           "value": 0.3952817916870117
          },
          {
           "sample_id": 0,
           "timepoint": 28.396793365478516,
           "trajectory": "Rabbits Example",
           "value": 0.4042339026927948
          },
          {
           "sample_id": 0,
           "timepoint": 28.4949893951416,
           "trajectory": "Rabbits Example",
           "value": 0.41424134373664856
          },
          {
           "sample_id": 0,
           "timepoint": 28.593185424804688,
           "trajectory": "Rabbits Example",
           "value": 0.4253143072128296
          },
          {
           "sample_id": 0,
           "timepoint": 28.691381454467773,
           "trajectory": "Rabbits Example",
           "value": 0.43746519088745117
          },
          {
           "sample_id": 0,
           "timepoint": 28.789579391479492,
           "trajectory": "Rabbits Example",
           "value": 0.45071151852607727
          },
          {
           "sample_id": 0,
           "timepoint": 28.887775421142578,
           "trajectory": "Rabbits Example",
           "value": 0.4650729298591614
          },
          {
           "sample_id": 0,
           "timepoint": 28.985971450805664,
           "trajectory": "Rabbits Example",
           "value": 0.4805760085582733
          },
          {
           "sample_id": 0,
           "timepoint": 29.08416748046875,
           "trajectory": "Rabbits Example",
           "value": 0.49724820256233215
          },
          {
           "sample_id": 0,
           "timepoint": 29.182363510131836,
           "trajectory": "Rabbits Example",
           "value": 0.515120267868042
          },
          {
           "sample_id": 0,
           "timepoint": 29.280561447143555,
           "trajectory": "Rabbits Example",
           "value": 0.5342260599136353
          },
          {
           "sample_id": 0,
           "timepoint": 29.37875747680664,
           "trajectory": "Rabbits Example",
           "value": 0.5546000599861145
          },
          {
           "sample_id": 0,
           "timepoint": 29.476953506469727,
           "trajectory": "Rabbits Example",
           "value": 0.5762800574302673
          },
          {
           "sample_id": 0,
           "timepoint": 29.575149536132812,
           "trajectory": "Rabbits Example",
           "value": 0.5993044972419739
          },
          {
           "sample_id": 0,
           "timepoint": 29.6733455657959,
           "trajectory": "Rabbits Example",
           "value": 0.6237115859985352
          },
          {
           "sample_id": 0,
           "timepoint": 29.771543502807617,
           "trajectory": "Rabbits Example",
           "value": 0.6495410799980164
          },
          {
           "sample_id": 0,
           "timepoint": 29.869739532470703,
           "trajectory": "Rabbits Example",
           "value": 0.6768314242362976
          },
          {
           "sample_id": 0,
           "timepoint": 29.96793556213379,
           "trajectory": "Rabbits Example",
           "value": 0.7056194543838501
          },
          {
           "sample_id": 0,
           "timepoint": 30.066131591796875,
           "trajectory": "Rabbits Example",
           "value": 0.7359418869018555
          },
          {
           "sample_id": 0,
           "timepoint": 30.16432762145996,
           "trajectory": "Rabbits Example",
           "value": 0.7678284049034119
          },
          {
           "sample_id": 0,
           "timepoint": 30.26252555847168,
           "trajectory": "Rabbits Example",
           "value": 0.8013058304786682
          },
          {
           "sample_id": 0,
           "timepoint": 30.360721588134766,
           "trajectory": "Rabbits Example",
           "value": 0.8363960385322571
          },
          {
           "sample_id": 0,
           "timepoint": 30.45891761779785,
           "trajectory": "Rabbits Example",
           "value": 0.8731098175048828
          },
          {
           "sample_id": 0,
           "timepoint": 30.557113647460938,
           "trajectory": "Rabbits Example",
           "value": 0.911450207233429
          },
          {
           "sample_id": 0,
           "timepoint": 30.655309677124023,
           "trajectory": "Rabbits Example",
           "value": 0.9514060616493225
          },
          {
           "sample_id": 0,
           "timepoint": 30.75350570678711,
           "trajectory": "Rabbits Example",
           "value": 0.9929512143135071
          },
          {
           "sample_id": 0,
           "timepoint": 30.851703643798828,
           "trajectory": "Rabbits Example",
           "value": 1.0360383987426758
          },
          {
           "sample_id": 0,
           "timepoint": 30.949899673461914,
           "trajectory": "Rabbits Example",
           "value": 1.08059823513031
          },
          {
           "sample_id": 0,
           "timepoint": 31.048095703125,
           "trajectory": "Rabbits Example",
           "value": 1.126531720161438
          },
          {
           "sample_id": 0,
           "timepoint": 31.146291732788086,
           "trajectory": "Rabbits Example",
           "value": 1.1737079620361328
          },
          {
           "sample_id": 0,
           "timepoint": 31.244487762451172,
           "trajectory": "Rabbits Example",
           "value": 1.2219525575637817
          },
          {
           "sample_id": 0,
           "timepoint": 31.34268569946289,
           "trajectory": "Rabbits Example",
           "value": 1.2710400819778442
          },
          {
           "sample_id": 0,
           "timepoint": 31.440881729125977,
           "trajectory": "Rabbits Example",
           "value": 1.3206971883773804
          },
          {
           "sample_id": 0,
           "timepoint": 31.539077758789062,
           "trajectory": "Rabbits Example",
           "value": 1.3705812692642212
          },
          {
           "sample_id": 0,
           "timepoint": 31.63727378845215,
           "trajectory": "Rabbits Example",
           "value": 1.4202712774276733
          },
          {
           "sample_id": 0,
           "timepoint": 31.735469818115234,
           "trajectory": "Rabbits Example",
           "value": 1.4692637920379639
          },
          {
           "sample_id": 0,
           "timepoint": 31.833667755126953,
           "trajectory": "Rabbits Example",
           "value": 1.5169618129730225
          },
          {
           "sample_id": 0,
           "timepoint": 31.93186378479004,
           "trajectory": "Rabbits Example",
           "value": 1.5626620054244995
          },
          {
           "sample_id": 0,
           "timepoint": 32.030059814453125,
           "trajectory": "Rabbits Example",
           "value": 1.6055541038513184
          },
          {
           "sample_id": 0,
           "timepoint": 32.128257751464844,
           "trajectory": "Rabbits Example",
           "value": 1.6447182893753052
          },
          {
           "sample_id": 0,
           "timepoint": 32.2264518737793,
           "trajectory": "Rabbits Example",
           "value": 1.6791305541992188
          },
          {
           "sample_id": 0,
           "timepoint": 32.324649810791016,
           "trajectory": "Rabbits Example",
           "value": 1.707678198814392
          },
          {
           "sample_id": 0,
           "timepoint": 32.42284393310547,
           "trajectory": "Rabbits Example",
           "value": 1.729189395904541
          },
          {
           "sample_id": 0,
           "timepoint": 32.52104187011719,
           "trajectory": "Rabbits Example",
           "value": 1.7424834966659546
          },
          {
           "sample_id": 0,
           "timepoint": 32.619239807128906,
           "trajectory": "Rabbits Example",
           "value": 1.7464168071746826
          },
          {
           "sample_id": 0,
           "timepoint": 32.71743392944336,
           "trajectory": "Rabbits Example",
           "value": 1.7400004863739014
          },
          {
           "sample_id": 0,
           "timepoint": 32.81563186645508,
           "trajectory": "Rabbits Example",
           "value": 1.722462773323059
          },
          {
           "sample_id": 0,
           "timepoint": 32.91382598876953,
           "trajectory": "Rabbits Example",
           "value": 1.693368673324585
          },
          {
           "sample_id": 0,
           "timepoint": 33.01202392578125,
           "trajectory": "Rabbits Example",
           "value": 1.6527055501937866
          },
          {
           "sample_id": 0,
           "timepoint": 33.11022186279297,
           "trajectory": "Rabbits Example",
           "value": 1.6009657382965088
          },
          {
           "sample_id": 0,
           "timepoint": 33.20841598510742,
           "trajectory": "Rabbits Example",
           "value": 1.5391514301300049
          },
          {
           "sample_id": 0,
           "timepoint": 33.306610107421875,
           "trajectory": "Rabbits Example",
           "value": 1.4687559604644775
          },
          {
           "sample_id": 0,
           "timepoint": 33.404808044433594,
           "trajectory": "Rabbits Example",
           "value": 1.391682505607605
          },
          {
           "sample_id": 0,
           "timepoint": 33.50300598144531,
           "trajectory": "Rabbits Example",
           "value": 1.31006920337677
          },
          {
           "sample_id": 0,
           "timepoint": 33.60120391845703,
           "trajectory": "Rabbits Example",
           "value": 1.2261576652526855
          },
          {
           "sample_id": 0,
           "timepoint": 33.699398040771484,
           "trajectory": "Rabbits Example",
           "value": 1.1420834064483643
          },
          {
           "sample_id": 0,
           "timepoint": 33.79759216308594,
           "trajectory": "Rabbits Example",
           "value": 1.0597628355026245
          },
          {
           "sample_id": 0,
           "timepoint": 33.895790100097656,
           "trajectory": "Rabbits Example",
           "value": 0.9807727336883545
          },
          {
           "sample_id": 0,
           "timepoint": 33.993988037109375,
           "trajectory": "Rabbits Example",
           "value": 0.9062958359718323
          },
          {
           "sample_id": 0,
           "timepoint": 34.092185974121094,
           "trajectory": "Rabbits Example",
           "value": 0.8371416926383972
          },
          {
           "sample_id": 0,
           "timepoint": 34.19038009643555,
           "trajectory": "Rabbits Example",
           "value": 0.7737637758255005
          },
          {
           "sample_id": 0,
           "timepoint": 34.288578033447266,
           "trajectory": "Rabbits Example",
           "value": 0.7163184881210327
          },
          {
           "sample_id": 0,
           "timepoint": 34.38677215576172,
           "trajectory": "Rabbits Example",
           "value": 0.6647405028343201
          },
          {
           "sample_id": 0,
           "timepoint": 34.48497009277344,
           "trajectory": "Rabbits Example",
           "value": 0.618796169757843
          },
          {
           "sample_id": 0,
           "timepoint": 34.583168029785156,
           "trajectory": "Rabbits Example",
           "value": 0.5781527757644653
          },
          {
           "sample_id": 0,
           "timepoint": 34.68136215209961,
           "trajectory": "Rabbits Example",
           "value": 0.5424169898033142
          },
          {
           "sample_id": 0,
           "timepoint": 34.77956008911133,
           "trajectory": "Rabbits Example",
           "value": 0.5111686587333679
          },
          {
           "sample_id": 0,
           "timepoint": 34.87775421142578,
           "trajectory": "Rabbits Example",
           "value": 0.4839935898780823
          },
          {
           "sample_id": 0,
           "timepoint": 34.9759521484375,
           "trajectory": "Rabbits Example",
           "value": 0.4604947566986084
          },
          {
           "sample_id": 0,
           "timepoint": 35.07415008544922,
           "trajectory": "Rabbits Example",
           "value": 0.4403011202812195
          },
          {
           "sample_id": 0,
           "timepoint": 35.17234420776367,
           "trajectory": "Rabbits Example",
           "value": 0.42307841777801514
          },
          {
           "sample_id": 0,
           "timepoint": 35.27054214477539,
           "trajectory": "Rabbits Example",
           "value": 0.408524751663208
          },
          {
           "sample_id": 0,
           "timepoint": 35.368736267089844,
           "trajectory": "Rabbits Example",
           "value": 0.3963751196861267
          },
          {
           "sample_id": 0,
           "timepoint": 35.46693420410156,
           "trajectory": "Rabbits Example",
           "value": 0.3863981068134308
          },
          {
           "sample_id": 0,
           "timepoint": 35.56513214111328,
           "trajectory": "Rabbits Example",
           "value": 0.37839099764823914
          },
          {
           "sample_id": 0,
           "timepoint": 35.663326263427734,
           "trajectory": "Rabbits Example",
           "value": 0.3721815049648285
          },
          {
           "sample_id": 0,
           "timepoint": 35.76152038574219,
           "trajectory": "Rabbits Example",
           "value": 0.36762169003486633
          },
          {
           "sample_id": 0,
           "timepoint": 35.859718322753906,
           "trajectory": "Rabbits Example",
           "value": 0.3645855486392975
          },
          {
           "sample_id": 0,
           "timepoint": 35.957916259765625,
           "trajectory": "Rabbits Example",
           "value": 0.36296769976615906
          },
          {
           "sample_id": 0,
           "timepoint": 36.056114196777344,
           "trajectory": "Rabbits Example",
           "value": 0.3626798987388611
          },
          {
           "sample_id": 0,
           "timepoint": 36.1543083190918,
           "trajectory": "Rabbits Example",
           "value": 0.3636498749256134
          },
          {
           "sample_id": 0,
           "timepoint": 36.25250244140625,
           "trajectory": "Rabbits Example",
           "value": 0.3658180832862854
          },
          {
           "sample_id": 0,
           "timepoint": 36.35070037841797,
           "trajectory": "Rabbits Example",
           "value": 0.36913788318634033
          },
          {
           "sample_id": 0,
           "timepoint": 36.44889831542969,
           "trajectory": "Rabbits Example",
           "value": 0.37357309460639954
          },
          {
           "sample_id": 0,
           "timepoint": 36.547096252441406,
           "trajectory": "Rabbits Example",
           "value": 0.3790963888168335
          },
          {
           "sample_id": 0,
           "timepoint": 36.64529037475586,
           "trajectory": "Rabbits Example",
           "value": 0.38568902015686035
          },
          {
           "sample_id": 0,
           "timepoint": 36.74348449707031,
           "trajectory": "Rabbits Example",
           "value": 0.39333996176719666
          },
          {
           "sample_id": 0,
           "timepoint": 36.84168243408203,
           "trajectory": "Rabbits Example",
           "value": 0.4020451009273529
          },
          {
           "sample_id": 0,
           "timepoint": 36.93988037109375,
           "trajectory": "Rabbits Example",
           "value": 0.4118059575557709
          },
          {
           "sample_id": 0,
           "timepoint": 37.0380744934082,
           "trajectory": "Rabbits Example",
           "value": 0.4226286709308624
          },
          {
           "sample_id": 0,
           "timepoint": 37.13627243041992,
           "trajectory": "Rabbits Example",
           "value": 0.43452614545822144
          },
          {
           "sample_id": 0,
           "timepoint": 37.234466552734375,
           "trajectory": "Rabbits Example",
           "value": 0.44751429557800293
          },
          {
           "sample_id": 0,
           "timepoint": 37.332664489746094,
           "trajectory": "Rabbits Example",
           "value": 0.4616129398345947
          },
          {
           "sample_id": 0,
           "timepoint": 37.43086242675781,
           "trajectory": "Rabbits Example",
           "value": 0.47684699296951294
          },
          {
           "sample_id": 0,
           "timepoint": 37.529056549072266,
           "trajectory": "Rabbits Example",
           "value": 0.4932427406311035
          },
          {
           "sample_id": 0,
           "timepoint": 37.627254486083984,
           "trajectory": "Rabbits Example",
           "value": 0.5108315348625183
          },
          {
           "sample_id": 0,
           "timepoint": 37.72544860839844,
           "trajectory": "Rabbits Example",
           "value": 0.5296461582183838
          },
          {
           "sample_id": 0,
           "timepoint": 37.823646545410156,
           "trajectory": "Rabbits Example",
           "value": 0.5497198700904846
          },
          {
           "sample_id": 0,
           "timepoint": 37.921844482421875,
           "trajectory": "Rabbits Example",
           "value": 0.5710912346839905
          },
          {
           "sample_id": 0,
           "timepoint": 38.02003860473633,
           "trajectory": "Rabbits Example",
           "value": 0.5937975645065308
          },
          {
           "sample_id": 0,
           "timepoint": 38.11823654174805,
           "trajectory": "Rabbits Example",
           "value": 0.6178765296936035
          },
          {
           "sample_id": 0,
           "timepoint": 38.2164306640625,
           "trajectory": "Rabbits Example",
           "value": 0.6433716416358948
          },
          {
           "sample_id": 0,
           "timepoint": 38.31462860107422,
           "trajectory": "Rabbits Example",
           "value": 0.6703165173530579
          },
          {
           "sample_id": 0,
           "timepoint": 38.41282653808594,
           "trajectory": "Rabbits Example",
           "value": 0.6987517476081848
          },
          {
           "sample_id": 0,
           "timepoint": 38.51102066040039,
           "trajectory": "Rabbits Example",
           "value": 0.7287129759788513
          },
          {
           "sample_id": 0,
           "timepoint": 38.60921859741211,
           "trajectory": "Rabbits Example",
           "value": 0.7602304220199585
          },
          {
           "sample_id": 0,
           "timepoint": 38.70741271972656,
           "trajectory": "Rabbits Example",
           "value": 0.7933337688446045
          },
          {
           "sample_id": 0,
           "timepoint": 38.80561065673828,
           "trajectory": "Rabbits Example",
           "value": 0.8280448913574219
          },
          {
           "sample_id": 0,
           "timepoint": 38.90380859375,
           "trajectory": "Rabbits Example",
           "value": 0.8643780946731567
          },
          {
           "sample_id": 0,
           "timepoint": 39.00200271606445,
           "trajectory": "Rabbits Example",
           "value": 0.9023398756980896
          },
          {
           "sample_id": 0,
           "timepoint": 39.10020065307617,
           "trajectory": "Rabbits Example",
           "value": 0.9419175982475281
          },
          {
           "sample_id": 0,
           "timepoint": 39.198394775390625,
           "trajectory": "Rabbits Example",
           "value": 0.9830944538116455
          },
          {
           "sample_id": 0,
           "timepoint": 39.296592712402344,
           "trajectory": "Rabbits Example",
           "value": 1.0258270502090454
          },
          {
           "sample_id": 0,
           "timepoint": 39.39479064941406,
           "trajectory": "Rabbits Example",
           "value": 1.0700488090515137
          },
          {
           "sample_id": 0,
           "timepoint": 39.492984771728516,
           "trajectory": "Rabbits Example",
           "value": 1.1156708002090454
          },
          {
           "sample_id": 0,
           "timepoint": 39.591182708740234,
           "trajectory": "Rabbits Example",
           "value": 1.1625721454620361
          },
          {
           "sample_id": 0,
           "timepoint": 39.68937683105469,
           "trajectory": "Rabbits Example",
           "value": 1.2105809450149536
          },
          {
           "sample_id": 0,
           "timepoint": 39.787574768066406,
           "trajectory": "Rabbits Example",
           "value": 1.2594977617263794
          },
          {
           "sample_id": 0,
           "timepoint": 39.885772705078125,
           "trajectory": "Rabbits Example",
           "value": 1.3090505599975586
          },
          {
           "sample_id": 0,
           "timepoint": 39.98396682739258,
           "trajectory": "Rabbits Example",
           "value": 1.358916163444519
          },
          {
           "sample_id": 0,
           "timepoint": 40.0821647644043,
           "trajectory": "Rabbits Example",
           "value": 1.408694863319397
          },
          {
           "sample_id": 0,
           "timepoint": 40.18035888671875,
           "trajectory": "Rabbits Example",
           "value": 1.4578989744186401
          },
          {
           "sample_id": 0,
           "timepoint": 40.27855682373047,
           "trajectory": "Rabbits Example",
           "value": 1.5059592723846436
          },
          {
           "sample_id": 0,
           "timepoint": 40.37675476074219,
           "trajectory": "Rabbits Example",
           "value": 1.5521955490112305
          },
          {
           "sample_id": 0,
           "timepoint": 40.47494888305664,
           "trajectory": "Rabbits Example",
           "value": 1.595822811126709
          },
          {
           "sample_id": 0,
           "timepoint": 40.57314682006836,
           "trajectory": "Rabbits Example",
           "value": 1.6359504461288452
          },
          {
           "sample_id": 0,
           "timepoint": 40.67134094238281,
           "trajectory": "Rabbits Example",
           "value": 1.6715667247772217
          },
          {
           "sample_id": 0,
           "timepoint": 40.76953887939453,
           "trajectory": "Rabbits Example",
           "value": 1.7015876770019531
          },
          {
           "sample_id": 0,
           "timepoint": 40.86773681640625,
           "trajectory": "Rabbits Example",
           "value": 1.7248528003692627
          },
          {
           "sample_id": 0,
           "timepoint": 40.9659309387207,
           "trajectory": "Rabbits Example",
           "value": 1.7401708364486694
          },
          {
           "sample_id": 0,
           "timepoint": 41.06412887573242,
           "trajectory": "Rabbits Example",
           "value": 1.7463897466659546
          },
          {
           "sample_id": 0,
           "timepoint": 41.162322998046875,
           "trajectory": "Rabbits Example",
           "value": 1.7424737215042114
          },
          {
           "sample_id": 0,
           "timepoint": 41.260520935058594,
           "trajectory": "Rabbits Example",
           "value": 1.7275899648666382
          },
          {
           "sample_id": 0,
           "timepoint": 41.35871887207031,
           "trajectory": "Rabbits Example",
           "value": 1.701215386390686
          },
          {
           "sample_id": 0,
           "timepoint": 41.456912994384766,
           "trajectory": "Rabbits Example",
           "value": 1.663235068321228
          },
          {
           "sample_id": 0,
           "timepoint": 41.555110931396484,
           "trajectory": "Rabbits Example",
           "value": 1.6140120029449463
          },
          {
           "sample_id": 0,
           "timepoint": 41.65330505371094,
           "trajectory": "Rabbits Example",
           "value": 1.5544347763061523
          },
          {
           "sample_id": 0,
           "timepoint": 41.751502990722656,
           "trajectory": "Rabbits Example",
           "value": 1.485892415046692
          },
          {
           "sample_id": 0,
           "timepoint": 41.849700927734375,
           "trajectory": "Rabbits Example",
           "value": 1.4101945161819458
          },
          {
           "sample_id": 0,
           "timepoint": 41.94789505004883,
           "trajectory": "Rabbits Example",
           "value": 1.3294398784637451
          },
          {
           "sample_id": 0,
           "timepoint": 42.04609298706055,
           "trajectory": "Rabbits Example",
           "value": 1.2458676099777222
          },
          {
           "sample_id": 0,
           "timepoint": 42.144287109375,
           "trajectory": "Rabbits Example",
           "value": 1.1616501808166504
          },
          {
           "sample_id": 0,
           "timepoint": 42.24248504638672,
           "trajectory": "Rabbits Example",
           "value": 1.0787677764892578
          },
          {
           "sample_id": 0,
           "timepoint": 42.34068298339844,
           "trajectory": "Rabbits Example",
           "value": 0.9988735914230347
          },
          {
           "sample_id": 0,
           "timepoint": 42.43887710571289,
           "trajectory": "Rabbits Example",
           "value": 0.9232566952705383
          },
          {
           "sample_id": 0,
           "timepoint": 42.53707504272461,
           "trajectory": "Rabbits Example",
           "value": 0.8528090715408325
          },
          {
           "sample_id": 0,
           "timepoint": 42.63526916503906,
           "trajectory": "Rabbits Example",
           "value": 0.7880560159683228
          },
          {
           "sample_id": 0,
           "timepoint": 42.73346710205078,
           "trajectory": "Rabbits Example",
           "value": 0.7292214035987854
          },
          {
           "sample_id": 0,
           "timepoint": 42.8316650390625,
           "trajectory": "Rabbits Example",
           "value": 0.6762871146202087
          },
          {
           "sample_id": 0,
           "timepoint": 42.92985916137695,
           "trajectory": "Rabbits Example",
           "value": 0.6290522813796997
          },
          {
           "sample_id": 0,
           "timepoint": 43.02805709838867,
           "trajectory": "Rabbits Example",
           "value": 0.5872049927711487
          },
          {
           "sample_id": 0,
           "timepoint": 43.126251220703125,
           "trajectory": "Rabbits Example",
           "value": 0.5503565669059753
          },
          {
           "sample_id": 0,
           "timepoint": 43.224449157714844,
           "trajectory": "Rabbits Example",
           "value": 0.5180953741073608
          },
          {
           "sample_id": 0,
           "timepoint": 43.32264709472656,
           "trajectory": "Rabbits Example",
           "value": 0.49000614881515503
          },
          {
           "sample_id": 0,
           "timepoint": 43.420841217041016,
           "trajectory": "Rabbits Example",
           "value": 0.4656819999217987
          },
          {
           "sample_id": 0,
           "timepoint": 43.519039154052734,
           "trajectory": "Rabbits Example",
           "value": 0.4447457492351532
          },
          {
           "sample_id": 0,
           "timepoint": 43.61723327636719,
           "trajectory": "Rabbits Example",
           "value": 0.42685797810554504
          },
          {
           "sample_id": 0,
           "timepoint": 43.715431213378906,
           "trajectory": "Rabbits Example",
           "value": 0.4117034077644348
          },
          {
           "sample_id": 0,
           "timepoint": 43.813629150390625,
           "trajectory": "Rabbits Example",
           "value": 0.3990141749382019
          },
          {
           "sample_id": 0,
           "timepoint": 43.91182327270508,
           "trajectory": "Rabbits Example",
           "value": 0.38854801654815674
          },
          {
           "sample_id": 0,
           "timepoint": 44.0100212097168,
           "trajectory": "Rabbits Example",
           "value": 0.380096435546875
          },
          {
           "sample_id": 0,
           "timepoint": 44.10821533203125,
           "trajectory": "Rabbits Example",
           "value": 0.37348100543022156
          },
          {
           "sample_id": 0,
           "timepoint": 44.20641326904297,
           "trajectory": "Rabbits Example",
           "value": 0.3685472309589386
          },
          {
           "sample_id": 0,
           "timepoint": 44.30461120605469,
           "trajectory": "Rabbits Example",
           "value": 0.3651648461818695
          },
          {
           "sample_id": 0,
           "timepoint": 44.40280532836914,
           "trajectory": "Rabbits Example",
           "value": 0.3632238805294037
          },
          {
           "sample_id": 0,
           "timepoint": 44.50100326538086,
           "trajectory": "Rabbits Example",
           "value": 0.36263224482536316
          },
          {
           "sample_id": 0,
           "timepoint": 44.59919738769531,
           "trajectory": "Rabbits Example",
           "value": 0.36331427097320557
          },
          {
           "sample_id": 0,
           "timepoint": 44.69739532470703,
           "trajectory": "Rabbits Example",
           "value": 0.36520636081695557
          },
          {
           "sample_id": 0,
           "timepoint": 44.795589447021484,
           "trajectory": "Rabbits Example",
           "value": 0.36826062202453613
          },
          {
           "sample_id": 0,
           "timepoint": 44.8937873840332,
           "trajectory": "Rabbits Example",
           "value": 0.3724375367164612
          },
          {
           "sample_id": 0,
           "timepoint": 44.99198532104492,
           "trajectory": "Rabbits Example",
           "value": 0.37770822644233704
          },
          {
           "sample_id": 0,
           "timepoint": 45.090179443359375,
           "trajectory": "Rabbits Example",
           "value": 0.3840517997741699
          },
          {
           "sample_id": 0,
           "timepoint": 45.188377380371094,
           "trajectory": "Rabbits Example",
           "value": 0.3914565443992615
          },
          {
           "sample_id": 0,
           "timepoint": 45.28657150268555,
           "trajectory": "Rabbits Example",
           "value": 0.399915486574173
          },
          {
           "sample_id": 0,
           "timepoint": 45.384769439697266,
           "trajectory": "Rabbits Example",
           "value": 0.4094286859035492
          },
          {
           "sample_id": 0,
           "timepoint": 45.482967376708984,
           "trajectory": "Rabbits Example",
           "value": 0.42000240087509155
          },
          {
           "sample_id": 0,
           "timepoint": 45.58116149902344,
           "trajectory": "Rabbits Example",
           "value": 0.431647390127182
          },
          {
           "sample_id": 0,
           "timepoint": 45.679359436035156,
           "trajectory": "Rabbits Example",
           "value": 0.44437822699546814
          },
          {
           "sample_id": 0,
           "timepoint": 45.77755355834961,
           "trajectory": "Rabbits Example",
           "value": 0.4582151174545288
          },
          {
           "sample_id": 0,
           "timepoint": 45.87575149536133,
           "trajectory": "Rabbits Example",
           "value": 0.47318145632743835
          },
          {
           "sample_id": 0,
           "timepoint": 45.97394943237305,
           "trajectory": "Rabbits Example",
           "value": 0.4893028736114502
          },
          {
           "sample_id": 0,
           "timepoint": 46.0721435546875,
           "trajectory": "Rabbits Example",
           "value": 0.5066102147102356
          },
          {
           "sample_id": 0,
           "timepoint": 46.17034149169922,
           "trajectory": "Rabbits Example",
           "value": 0.5251341462135315
          },
          {
           "sample_id": 0,
           "timepoint": 46.26853561401367,
           "trajectory": "Rabbits Example",
           "value": 0.5449104905128479
          },
          {
           "sample_id": 0,
           "timepoint": 46.36673355102539,
           "trajectory": "Rabbits Example",
           "value": 0.5659754276275635
          },
          {
           "sample_id": 0,
           "timepoint": 46.46493148803711,
           "trajectory": "Rabbits Example",
           "value": 0.5883655548095703
          },
          {
           "sample_id": 0,
           "timepoint": 46.56312561035156,
           "trajectory": "Rabbits Example",
           "value": 0.6121213436126709
          },
          {
           "sample_id": 0,
           "timepoint": 46.66132354736328,
           "trajectory": "Rabbits Example",
           "value": 0.6372811198234558
          },
          {
           "sample_id": 0,
           "timepoint": 46.759517669677734,
           "trajectory": "Rabbits Example",
           "value": 0.6638831496238708
          },
          {
           "sample_id": 0,
           "timepoint": 46.85771560668945,
           "trajectory": "Rabbits Example",
           "value": 0.6919676065444946
          },
          {
           "sample_id": 0,
           "timepoint": 46.95591354370117,
           "trajectory": "Rabbits Example",
           "value": 0.721566915512085
          },
          {
           "sample_id": 0,
           "timepoint": 47.054107666015625,
           "trajectory": "Rabbits Example",
           "value": 0.7527182698249817
          },
          {
           "sample_id": 0,
           "timepoint": 47.152305603027344,
           "trajectory": "Rabbits Example",
           "value": 0.7854490876197815
          },
          {
           "sample_id": 0,
           "timepoint": 47.2504997253418,
           "trajectory": "Rabbits Example",
           "value": 0.8197824954986572
          },
          {
           "sample_id": 0,
           "timepoint": 47.348697662353516,
           "trajectory": "Rabbits Example",
           "value": 0.8557366728782654
          },
          {
           "sample_id": 0,
           "timepoint": 47.44689178466797,
           "trajectory": "Rabbits Example",
           "value": 0.8933185935020447
          },
          {
           "sample_id": 0,
           "timepoint": 47.54508972167969,
           "trajectory": "Rabbits Example",
           "value": 0.9325189590454102
          },
          {
           "sample_id": 0,
           "timepoint": 47.643287658691406,
           "trajectory": "Rabbits Example",
           "value": 0.973325252532959
          },
          {
           "sample_id": 0,
           "timepoint": 47.74148178100586,
           "trajectory": "Rabbits Example",
           "value": 1.0156975984573364
          },
          {
           "sample_id": 0,
           "timepoint": 47.83967971801758,
           "trajectory": "Rabbits Example",
           "value": 1.0595799684524536
          },
          {
           "sample_id": 0,
           "timepoint": 47.93787384033203,
           "trajectory": "Rabbits Example",
           "value": 1.1048868894577026
          },
          {
           "sample_id": 0,
           "timepoint": 48.03607177734375,
           "trajectory": "Rabbits Example",
           "value": 1.1514983177185059
          },
          {
           "sample_id": 0,
           "timepoint": 48.13426971435547,
           "trajectory": "Rabbits Example",
           "value": 1.1992679834365845
          },
          {
           "sample_id": 0,
           "timepoint": 48.23246383666992,
           "trajectory": "Rabbits Example",
           "value": 1.247992753982544
          },
          {
           "sample_id": 0,
           "timepoint": 48.33066177368164,
           "trajectory": "Rabbits Example",
           "value": 1.2974222898483276
          },
          {
           "sample_id": 0,
           "timepoint": 48.428855895996094,
           "trajectory": "Rabbits Example",
           "value": 1.347246527671814
          },
          {
           "sample_id": 0,
           "timepoint": 48.52705383300781,
           "trajectory": "Rabbits Example",
           "value": 1.3970853090286255
          },
          {
           "sample_id": 0,
           "timepoint": 48.62525177001953,
           "trajectory": "Rabbits Example",
           "value": 1.4464741945266724
          },
          {
           "sample_id": 0,
           "timepoint": 48.723445892333984,
           "trajectory": "Rabbits Example",
           "value": 1.4948583841323853
          },
          {
           "sample_id": 0,
           "timepoint": 48.8216438293457,
           "trajectory": "Rabbits Example",
           "value": 1.5415860414505005
          },
          {
           "sample_id": 0,
           "timepoint": 48.919837951660156,
           "trajectory": "Rabbits Example",
           "value": 1.5858983993530273
          },
          {
           "sample_id": 0,
           "timepoint": 49.018035888671875,
           "trajectory": "Rabbits Example",
           "value": 1.6269259452819824
          },
          {
           "sample_id": 0,
           "timepoint": 49.116233825683594,
           "trajectory": "Rabbits Example",
           "value": 1.6636967658996582
          },
          {
           "sample_id": 0,
           "timepoint": 49.21442794799805,
           "trajectory": "Rabbits Example",
           "value": 1.6951314210891724
          },
          {
           "sample_id": 0,
           "timepoint": 49.312625885009766,
           "trajectory": "Rabbits Example",
           "value": 1.7200795412063599
          },
          {
           "sample_id": 0,
           "timepoint": 49.41082000732422,
           "trajectory": "Rabbits Example",
           "value": 1.7373607158660889
          },
          {
           "sample_id": 0,
           "timepoint": 49.50901794433594,
           "trajectory": "Rabbits Example",
           "value": 1.7458070516586304
          },
          {
           "sample_id": 0,
           "timepoint": 49.607215881347656,
           "trajectory": "Rabbits Example",
           "value": 1.744346022605896
          },
          {
           "sample_id": 0,
           "timepoint": 49.70541000366211,
           "trajectory": "Rabbits Example",
           "value": 1.7320867776870728
          },
          {
           "sample_id": 0,
           "timepoint": 49.80360794067383,
           "trajectory": "Rabbits Example",
           "value": 1.708424687385559
          },
          {
           "sample_id": 0,
           "timepoint": 49.90180206298828,
           "trajectory": "Rabbits Example",
           "value": 1.6731452941894531
          },
          {
           "sample_id": 0,
           "timepoint": 50,
           "trajectory": "Rabbits Example",
           "value": 1.626491665840149
          }
         ]
        },
        {
         "name": "points",
         "values": []
        },
        {
         "name": "markers",
         "values": [
          {
           "label": "Confident",
           "timepoint": 10
          },
          {
           "label": "Uncertain",
           "timepoint": 25
          }
         ]
        },
        {
         "name": "selected",
         "on": [
          {
           "remove": true,
           "trigger": "clear"
          },
          {
           "remove": true,
           "trigger": "!shift"
          },
          {
           "insert": "clicked",
           "trigger": "!shift && clicked"
          },
          {
           "toggle": "clicked",
           "trigger": "shift && clicked"
          }
         ]
        }
       ],
       "height": 300,
       "legends": [
        {
         "encode": {
          "labels": {
           "interactive": true,
           "name": "legendLabel",
           "update": {
            "opacity": [
             {
              "test": "!length(data('selected')) || indata('selected', 'value', datum.value)",
              "value": 1
             },
             {
              "value": 0.25
             }
            ]
           }
          },
          "symbols": {
           "interactive": true,
           "name": "legendSymbol",
           "update": {
            "fill": {
             "value": "transparent"
            },
            "opacity": [
             {
              "test": "!length(data('selected')) || indata('selected', 'value', datum.value)",
              "value": 0.7
             },
             {
              "value": 0.15
             }
            ],
            "size": {
             "value": 64
            },
            "strokeWidth": {
             "value": 2
            }
           }
          }
         },
         "name": "color_legend",
         "stroke": "color"
        }
       ],
       "marks": [
        {
         "from": {
          "facet": {
           "data": "points",
           "groupby": "trajectory",
           "name": "points_split"
          }
         },
         "marks": [
          {
           "encode": {
            "hover": {
             "fillOpacity": {
              "value": 0.9
             }
            },
            "update": {
             "fill": {
              "field": "trajectory",
              "scale": "color"
             },
             "fillOpacity": [
              {
               "test": "!length(data('selected')) || indata('selected', 'value', datum.trajectory)",
               "value": 0.5
              },
              {
               "value": 0.15
              }
             ],
             "size": {
              "value": 10
             },
             "stroke": {
              "field": "trajectory",
              "scale": "color"
             },
             "strokeOpacity": [
              {
               "test": "!length(data('selected')) || indata('selected', 'value', datum.trajectory)",
               "value": 0.75
              },
              {
               "value": 0.15
              }
             ],
             "strokeWidth": {
              "value": 2
             },
             "tooltip": {
              "field": "value"
             },
             "x": {
              "field": "timepoint",
              "scale": "xscale"
             },
             "y": {
              "field": "value",
              "scale": "yscale"
             }
            }
           },
           "from": {
            "data": "points"
           },
           "name": "_points_symbol",
           "type": "symbol",
           "zindex": 3
          },
          {
           "encode": {
            "hover": {
             "fillOpacity": {
              "value": 0.9
             }
            },
            "update": {
             "interpolate": {
              "value": "linear"
             },
             "stroke": {
              "field": "trajectory",
              "scale": "color"
             },
             "strokeOpacity": [
              {
               "test": "!length(data('selected')) || indata('selected', 'value', datum.trajectory)",
               "value": 0.3
              },
              {
               "value": 0.1
              }
             ],
             "strokeWidth": {
              "value": 2
             },
             "x": {
              "field": "timepoint",
              "scale": "xscale"
             },
             "y": {
              "field": "value",
              "scale": "yscale"
             }
            }
           },
           "from": {
            "data": "points"
           },
           "name": "_points_line",
           "type": "line",
           "zindex": 3
          }
         ],
         "name": "_points",
         "type": "group",
         "zindex": 3
        },
        {
         "from": {
          "facet": {
           "data": "traces",
           "groupby": "trajectory",
           "name": "traces_split"
          }
         },
         "marks": [
          {
           "encode": {
            "hover": {
             "fillOpacity": {
              "value": 0.9
             }
            },
            "update": {
             "interpolate": {
              "value": "linear"
             },
             "stroke": {
              "field": "trajectory",
              "scale": "color"
             },
             "strokeOpacity": [
              {
               "test": "!length(data('selected')) || indata('selected', 'value', datum.trajectory)",
               "value": 0.75
              },
              {
               "value": 0.15
              }
             ],
             "strokeWidth": {
              "value": 2
             },
             "x": {
              "field": "timepoint",
              "scale": "xscale"
             },
             "y": {
              "field": "value",
              "scale": "yscale"
             }
            }
           },
           "from": {
            "data": "traces_split"
           },
           "name": "_traces_lines",
           "type": "line"
          }
         ],
         "name": "_traces",
         "type": "group",
         "zindex": 2
        },
        {
         "from": {
          "facet": {
           "data": "distributions",
           "groupby": "trajectory",
           "name": "trajectory_split"
          }
         },
         "marks": [
          {
           "encode": {
            "hover": {
             "fillOpacity": {
              "value": 0.9
             }
            },
            "update": {
             "fill": {
              "field": "trajectory",
              "scale": "color"
             },
             "fillOpacity": [
              {
               "test": "!length(data('selected')) || indata('selected', 'value', datum.trajectory)",
               "value": 0.5
              },
              {
               "value": 0.15
              }
             ],
             "interpolate": {
              "value": "linear"
             },
             "stroke": {
              "field": "trajectory",
              "scale": "color"
             },
             "strokeOpacity": [
              {
               "test": "!length(data('selected')) || indata('selected', 'value', datum.trajectory)",
               "value": 0.75
              },
              {
               "value": 0.15
              }
             ],
             "strokeWidth": {
              "value": 2
             },
             "x": {
              "field": "timepoint",
              "scale": "xscale"
             },
             "y": {
              "field": "upper",
              "scale": "yscale"
             },
             "y2": {
              "field": "lower",
              "scale": "yscale"
             }
            }
           },
           "from": {
            "data": "trajectory_split"
           },
           "type": "area"
          }
         ],
         "name": "_distributions",
         "type": "group",
         "zindex": 1
        },
        {
         "marks": [
          {
           "encode": {
            "enter": {
             "stroke": {
              "value": "lightgray"
             }
            },
            "update": {
             "opacity": {
              "value": 1
             },
             "x": {
              "field": "timepoint",
              "scale": "xscale"
             },
             "y": {
              "signal": "height"
             },
             "y2": {
              "value": 0
             }
            }
           },
           "from": {
            "data": "markers"
           },
           "name": "_marker text",
           "type": "rule"
          },
          {
           "encode": {
            "enter": {
             "fontSize": {
              "value": 8
             },
             "text": {
              "field": "datum.label"
             },
             "y": {
              "value": 0
             }
            }
           },
           "from": {
            "data": "_marker text"
           },
           "name": "_marker flags",
           "transform": [
            {
             "as": [
              "x",
              "_y",
              "opacity",
              "align",
              "baseline"
             ],
             "lineAnchor": "start",
             "offset": [
              1
             ],
             "size": {
              "signal": "[width, height]"
             },
             "type": "label"
            }
           ],
           "type": "text"
          }
         ],
         "name": "_markers",
         "type": "group"
        }
       ],
       "padding": 5,
       "scales": [
        {
         "domain": {
          "fields": [
           {
            "data": "distributions",
            "field": "timepoint"
           },
           {
            "data": "traces",
            "field": "timepoint"
           },
           {
            "data": "points",
            "field": "timepoint"
           },
           {
            "data": "markers",
            "field": "timepoint"
           }
          ]
         },
         "name": "xscale",
         "range": "width",
         "type": "linear",
         "zero": false
        },
        {
         "domain": {
          "fields": [
           {
            "data": "distributions",
            "field": "lower"
           },
           {
            "data": "distributions",
            "field": "upper"
           },
           {
            "data": "traces",
            "field": "value"
           },
           {
            "data": "points",
            "field": "value"
           }
          ]
         },
         "name": "yscale",
         "nice": true,
         "range": "height",
         "type": "linear",
         "zero": true
        },
        {
         "domain": [
          "Rabbits",
          "Wolves",
          "Wolves Example",
          "Rabbits Example"
         ],
         "name": "color",
         "range": [
          "#aec7e8",
          "#fdae6b",
          "#ff7f0e",
          "#1f77b4"
         ],
         "type": "ordinal"
        }
       ],
       "signals": [
        {
         "name": "clear",
         "on": [
          {
           "events": "mouseup[!event.item]",
           "force": true,
           "update": "true"
          }
         ],
         "value": true
        },
        {
         "name": "shift",
         "on": [
          {
           "events": "@legendSymbol:click, @legendLabel:click",
           "force": true,
           "update": "event.shiftKey"
          }
         ],
         "value": false
        },
        {
         "name": "clicked",
         "on": [
          {
           "events": "@legendSymbol:click, @legendLabel:click",
           "force": true,
           "update": "{value: datum.value}"
          }
         ],
         "value": null
        }
       ],
       "width": 500
      }
     },
     "metadata": {},
     "output_type": "display_data"
    }
   ],
   "source": [
    "exemplars = prior_samples[prior_samples[\"sample_id\"] == 0]\n",
    "wolves = exemplars.set_index(\"timepoint_years\")[\"Wolves_sol\"].rename(\"Wolves Example\")\n",
    "rabbits = exemplars.set_index(\"timepoint_years\")[\"Rabbits_sol\"].rename(\"Rabbits Example\")\n",
    "traces = pd.concat([wolves, rabbits], axis=\"columns\")\n",
    "nice_labels={\"Rabbits_sol\": \"Rabbits\", \"Wolves_sol\": \"Wolves\"}\n",
    "colors = {\"Rabbits\": \"#aec7e8\", \n",
    "          \"Wolves\": \"#fdae6b\",  \n",
    "          \"Wolves Example\": \"#ff7f0e\",\n",
    "          \"Rabbits Example\": \"#1f77b4\",\n",
    "          \"trash\": \"black\", \n",
    "          \"gamma\": None}\n",
    "\n",
    "schema = plots.trajectories(prior_samples,\n",
    "                           traces=traces, \n",
    "                           relabel=nice_labels,\n",
    "                           colors=colors,\n",
    "                           markers={\"Confident\": 10, \"Uncertain\": 25}\n",
    "                           )\n",
    "schema = plots.pad(schema, 5)\n",
    "plots.save_schema(schema, \"_schema.json\")\n",
    "plots.ipy_display(schema)"
   ]
  },
  {
   "cell_type": "code",
   "execution_count": null,
   "metadata": {},
   "outputs": [],
   "source": []
  }
 ],
 "metadata": {
  "kernelspec": {
   "display_name": "ASKEM",
   "language": "python",
   "name": "python3"
  },
  "language_info": {
   "codemirror_mode": {
    "name": "ipython",
    "version": 3
   },
   "file_extension": ".py",
   "mimetype": "text/x-python",
   "name": "python",
   "nbconvert_exporter": "python",
   "pygments_lexer": "ipython3",
   "version": "3.11.4"
  },
  "orig_nbformat": 4
 },
 "nbformat": 4,
 "nbformat_minor": 2
}
