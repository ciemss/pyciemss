{
 "cells": [
  {
   "cell_type": "code",
   "execution_count": 1,
   "metadata": {},
   "outputs": [],
   "source": [
    "%load_ext autoreload\n",
    "%autoreload 2"
   ]
  },
  {
   "cell_type": "code",
   "execution_count": 2,
   "metadata": {},
   "outputs": [],
   "source": [
    "import pandas as pd\n",
    "import numpy as np\n",
    "import torch\n",
    "\n",
    "import json\n",
    "from pathlib import Path\n",
    "from copy import deepcopy\n",
    "\n",
    "import pyciemss.visuals.vega as vega\n",
    "from pyciemss.utils import get_tspan\n"
   ]
  },
  {
   "cell_type": "code",
   "execution_count": 3,
   "metadata": {},
   "outputs": [],
   "source": [
    "# Load cached data...\n",
    "tspan = get_tspan(1, 50, 500)\n",
    "\n",
    "root = Path(\"..\")/\"test\"/\"data/\"\n",
    "prior_samples = vega.tensor_load(root/\"prior_samples.json\")\n",
    "intervened_samples = vega.tensor_load(root/\"intervened_samples.json\")\n",
    "observed_trajectory = vega.tensor_load(root/\"observed_trajectory.json\")\n",
    "\n",
    "observed_points = (\n",
    "    pd.DataFrame({\"Rabbits Example\": observed_trajectory[\"Rabbits_sol\"][0], \"time\": tspan})[::10]\n",
    "    .melt(value_vars=[\"Rabbits Example\"], id_vars=\"time\")\n",
    "    .rename(columns={\"variable\": \"trajectory\"})\n",
    "\n",
    ")\n"
   ]
  },
  {
   "cell_type": "code",
   "execution_count": 15,
   "metadata": {},
   "outputs": [
    {
     "data": {
      "application/vnd.vega.v5+json": {
       "$schema": "https://vega.github.io/schema/vega/v5.json",
       "axes": [
        {
         "orient": "bottom",
         "scale": "xscale",
         "zindex": 100
        },
        {
         "orient": "left",
         "scale": "yscale",
         "zindex": 100
        }
       ],
       "data": [
        {
         "name": "distributions",
         "values": [
          {
           "lower": 0.5051243111491204,
           "time": 1,
           "trajectory": "Rabbits",
           "upper": 0.6488389670848846
          },
          {
           "lower": 0.4810523107647896,
           "time": 1.0981963872909546,
           "trajectory": "Rabbits",
           "upper": 0.6317649573087692
          },
          {
           "lower": 0.4601885452866554,
           "time": 1.1963927745819092,
           "trajectory": "Rabbits",
           "upper": 0.6172279119491577
          },
          {
           "lower": 0.44223228096961975,
           "time": 1.2945891618728638,
           "trajectory": "Rabbits",
           "upper": 0.6050723165273666
          },
          {
           "lower": 0.4269068524241447,
           "time": 1.3927855491638184,
           "trajectory": "Rabbits",
           "upper": 0.5951532989740371
          },
          {
           "lower": 0.41377234309911726,
           "time": 1.490981936454773,
           "trajectory": "Rabbits",
           "upper": 0.5873368799686431
          },
          {
           "lower": 0.40248590111732485,
           "time": 1.5891783237457275,
           "trajectory": "Rabbits",
           "upper": 0.5815026640892028
          },
          {
           "lower": 0.3931929439306259,
           "time": 1.6873748302459717,
           "trajectory": "Rabbits",
           "upper": 0.5775427132844925
          },
          {
           "lower": 0.3862742096185684,
           "time": 1.7855710983276367,
           "trajectory": "Rabbits",
           "upper": 0.5753624409437179
          },
          {
           "lower": 0.38118805140256884,
           "time": 1.8837674856185913,
           "trajectory": "Rabbits",
           "upper": 0.5757302582263947
          },
          {
           "lower": 0.3776500791311264,
           "time": 1.981963872909546,
           "trajectory": "Rabbits",
           "upper": 0.5796148270368576
          },
          {
           "lower": 0.37555393427610395,
           "time": 2.08016037940979,
           "trajectory": "Rabbits",
           "upper": 0.585342624783516
          },
          {
           "lower": 0.3748101145029068,
           "time": 2.178356647491455,
           "trajectory": "Rabbits",
           "upper": 0.5931292980909347
          },
          {
           "lower": 0.3753451660275459,
           "time": 2.276553153991699,
           "trajectory": "Rabbits",
           "upper": 0.6025383323431015
          },
          {
           "lower": 0.377096489071846,
           "time": 2.3747494220733643,
           "trajectory": "Rabbits",
           "upper": 0.6135480284690856
          },
          {
           "lower": 0.3800157144665718,
           "time": 2.4729459285736084,
           "trajectory": "Rabbits",
           "upper": 0.6261454164981841
          },
          {
           "lower": 0.3840783342719078,
           "time": 2.5711421966552734,
           "trajectory": "Rabbits",
           "upper": 0.6403272837400436
          },
          {
           "lower": 0.3895245581865311,
           "time": 2.6693387031555176,
           "trajectory": "Rabbits",
           "upper": 0.6560939222574232
          },
          {
           "lower": 0.39607561081647874,
           "time": 2.7675349712371826,
           "trajectory": "Rabbits",
           "upper": 0.6737348735332488
          },
          {
           "lower": 0.4037196129560471,
           "time": 2.8657314777374268,
           "trajectory": "Rabbits",
           "upper": 0.6940728366374967
          },
          {
           "lower": 0.41245175153017044,
           "time": 2.963927745819092,
           "trajectory": "Rabbits",
           "upper": 0.7161092609167097
          },
          {
           "lower": 0.4222735777497292,
           "time": 3.062124252319336,
           "trajectory": "Rabbits",
           "upper": 0.7398648440837858
          },
          {
           "lower": 0.43319143205881117,
           "time": 3.160320520401001,
           "trajectory": "Rabbits",
           "upper": 0.7646123915910719
          },
          {
           "lower": 0.4452171564102173,
           "time": 3.258517026901245,
           "trajectory": "Rabbits",
           "upper": 0.7892877429723737
          },
          {
           "lower": 0.4569105193018913,
           "time": 3.3567135334014893,
           "trajectory": "Rabbits",
           "upper": 0.815542286634445
          },
          {
           "lower": 0.4695918634533882,
           "time": 3.4549100399017334,
           "trajectory": "Rabbits",
           "upper": 0.8433761298656461
          },
          {
           "lower": 0.483332422375679,
           "time": 3.5531063079833984,
           "trajectory": "Rabbits",
           "upper": 0.8727851301431654
          },
          {
           "lower": 0.4981502011418343,
           "time": 3.6513028144836426,
           "trajectory": "Rabbits",
           "upper": 0.9037574321031568
          },
          {
           "lower": 0.5140681594610215,
           "time": 3.7494990825653076,
           "trajectory": "Rabbits",
           "upper": 0.9362738102674482
          },
          {
           "lower": 0.5311100453138351,
           "time": 3.8476955890655518,
           "trajectory": "Rabbits",
           "upper": 0.970302867889404
          },
          {
           "lower": 0.5493017822504044,
           "time": 3.945891857147217,
           "trajectory": "Rabbits",
           "upper": 1.0058008164167402
          },
          {
           "lower": 0.5684487670660019,
           "time": 4.044088363647461,
           "trajectory": "Rabbits",
           "upper": 1.0427060514688489
          },
          {
           "lower": 0.5885705500841141,
           "time": 4.142284393310547,
           "trajectory": "Rabbits",
           "upper": 1.0809359312057492
          },
          {
           "lower": 0.6098981499671936,
           "time": 4.240480899810791,
           "trajectory": "Rabbits",
           "upper": 1.1203878223896024
          },
          {
           "lower": 0.6324594795703888,
           "time": 4.338677406311035,
           "trajectory": "Rabbits",
           "upper": 1.1609291970729825
          },
          {
           "lower": 0.6562829375267029,
           "time": 4.436873435974121,
           "trajectory": "Rabbits",
           "upper": 1.2023967802524564
          },
          {
           "lower": 0.6823425441980362,
           "time": 4.535069942474365,
           "trajectory": "Rabbits",
           "upper": 1.244588083028793
          },
          {
           "lower": 0.7107869565486908,
           "time": 4.633266448974609,
           "trajectory": "Rabbits",
           "upper": 1.2872623503208158
          },
          {
           "lower": 0.7407032549381256,
           "time": 4.7314629554748535,
           "trajectory": "Rabbits",
           "upper": 1.3301270723342893
          },
          {
           "lower": 0.7721204370260238,
           "time": 4.8296589851379395,
           "trajectory": "Rabbits",
           "upper": 1.3728431224822994
          },
          {
           "lower": 0.805060988664627,
           "time": 4.927855491638184,
           "trajectory": "Rabbits",
           "upper": 1.4171339631080624
          },
          {
           "lower": 0.8395456910133362,
           "time": 5.026051998138428,
           "trajectory": "Rabbits",
           "upper": 1.4623533129692075
          },
          {
           "lower": 0.8755844682455063,
           "time": 5.124248504638672,
           "trajectory": "Rabbits",
           "upper": 1.5069728612899778
          },
          {
           "lower": 0.9131788015365601,
           "time": 5.222444534301758,
           "trajectory": "Rabbits",
           "upper": 1.5505466878414154
          },
          {
           "lower": 0.9523179590702057,
           "time": 5.320641040802002,
           "trajectory": "Rabbits",
           "upper": 1.5925707936286926
          },
          {
           "lower": 0.9904650866985321,
           "time": 5.418837547302246,
           "trajectory": "Rabbits",
           "upper": 1.6349843382835387
          },
          {
           "lower": 1.0290996789932252,
           "time": 5.51703405380249,
           "trajectory": "Rabbits",
           "upper": 1.6903327703475952
          },
          {
           "lower": 1.068894773721695,
           "time": 5.615230083465576,
           "trajectory": "Rabbits",
           "upper": 1.7450684905052185
          },
          {
           "lower": 1.1097592115402222,
           "time": 5.7134270668029785,
           "trajectory": "Rabbits",
           "upper": 1.7986104249954225
          },
          {
           "lower": 1.151575994491577,
           "time": 5.811623573303223,
           "trajectory": "Rabbits",
           "upper": 1.850271362066269
          },
          {
           "lower": 1.1941976070404052,
           "time": 5.909820079803467,
           "trajectory": "Rabbits",
           "upper": 1.899582540988922
          },
          {
           "lower": 1.23744078874588,
           "time": 6.008016109466553,
           "trajectory": "Rabbits",
           "upper": 1.943354856967926
          },
          {
           "lower": 1.2810803174972534,
           "time": 6.106212615966797,
           "trajectory": "Rabbits",
           "upper": 1.9746112644672393
          },
          {
           "lower": 1.3245567440986634,
           "time": 6.204409122467041,
           "trajectory": "Rabbits",
           "upper": 2.006672477722168
          },
          {
           "lower": 1.3671102821826935,
           "time": 6.302605628967285,
           "trajectory": "Rabbits",
           "upper": 2.0283280491828917
          },
          {
           "lower": 1.408983862400055,
           "time": 6.400801658630371,
           "trajectory": "Rabbits",
           "upper": 2.01531400680542
          },
          {
           "lower": 1.4367581963539124,
           "time": 6.498998165130615,
           "trajectory": "Rabbits",
           "upper": 2.0211418747901915
          },
          {
           "lower": 1.4506515979766845,
           "time": 6.597194671630859,
           "trajectory": "Rabbits",
           "upper": 2.015464460849762
          },
          {
           "lower": 1.4284321010112762,
           "time": 6.6953911781311035,
           "trajectory": "Rabbits",
           "upper": 1.9974848330020905
          },
          {
           "lower": 1.4066657185554505,
           "time": 6.7935872077941895,
           "trajectory": "Rabbits",
           "upper": 1.9946840226650238
          },
          {
           "lower": 1.3370188474655151,
           "time": 6.891783714294434,
           "trajectory": "Rabbits",
           "upper": 1.973221319913864
          },
          {
           "lower": 1.268656712770462,
           "time": 6.989980220794678,
           "trajectory": "Rabbits",
           "upper": 1.946996235847473
          },
          {
           "lower": 1.2056418180465698,
           "time": 7.088176727294922,
           "trajectory": "Rabbits",
           "upper": 1.926825213432312
          },
          {
           "lower": 1.1426748096942902,
           "time": 7.186372756958008,
           "trajectory": "Rabbits",
           "upper": 1.8917805612087248
          },
          {
           "lower": 1.0809118807315827,
           "time": 7.284569263458252,
           "trajectory": "Rabbits",
           "upper": 1.873773556947708
          },
          {
           "lower": 1.021326494216919,
           "time": 7.382765769958496,
           "trajectory": "Rabbits",
           "upper": 1.838645803928375
          },
          {
           "lower": 0.9646812707185746,
           "time": 7.48096227645874,
           "trajectory": "Rabbits",
           "upper": 1.7861752212047575
          },
          {
           "lower": 0.9115411072969437,
           "time": 7.579158306121826,
           "trajectory": "Rabbits",
           "upper": 1.7476635694503784
          },
          {
           "lower": 0.8622704237699509,
           "time": 7.67735481262207,
           "trajectory": "Rabbits",
           "upper": 1.7020660996437074
          },
          {
           "lower": 0.8200316578149796,
           "time": 7.7755513191223145,
           "trajectory": "Rabbits",
           "upper": 1.650298374891281
          },
          {
           "lower": 0.7819973856210709,
           "time": 7.873747825622559,
           "trajectory": "Rabbits",
           "upper": 1.6116529524326324
          },
          {
           "lower": 0.7480799227952957,
           "time": 7.9719438552856445,
           "trajectory": "Rabbits",
           "upper": 1.563731038570404
          },
          {
           "lower": 0.7194193333387375,
           "time": 8.070140838623047,
           "trajectory": "Rabbits",
           "upper": 1.5072274923324585
          },
          {
           "lower": 0.6914891541004181,
           "time": 8.168336868286133,
           "trajectory": "Rabbits",
           "upper": 1.4292892456054687
          },
          {
           "lower": 0.6670606106519699,
           "time": 8.266533851623535,
           "trajectory": "Rabbits",
           "upper": 1.3471659898757935
          },
          {
           "lower": 0.641142001748085,
           "time": 8.364729881286621,
           "trajectory": "Rabbits",
           "upper": 1.2633545577526093
          },
          {
           "lower": 0.6135189205408096,
           "time": 8.462926864624023,
           "trajectory": "Rabbits",
           "upper": 1.1872593283653259
          },
          {
           "lower": 0.5919944554567337,
           "time": 8.56112289428711,
           "trajectory": "Rabbits",
           "upper": 1.1166882276535033
          },
          {
           "lower": 0.571210527420044,
           "time": 8.659318923950195,
           "trajectory": "Rabbits",
           "upper": 1.0470829546451568
          },
          {
           "lower": 0.5549307703971863,
           "time": 8.757515907287598,
           "trajectory": "Rabbits",
           "upper": 0.9762333691120146
          },
          {
           "lower": 0.5424787819385528,
           "time": 8.855710983276367,
           "trajectory": "Rabbits",
           "upper": 0.9051215559244155
          },
          {
           "lower": 0.5280335992574692,
           "time": 8.953907012939453,
           "trajectory": "Rabbits",
           "upper": 0.8438710719346999
          },
          {
           "lower": 0.5136239737272262,
           "time": 9.052103996276855,
           "trajectory": "Rabbits",
           "upper": 0.7899392932653426
          },
          {
           "lower": 0.5010840415954589,
           "time": 9.150300025939941,
           "trajectory": "Rabbits",
           "upper": 0.741310104727745
          },
          {
           "lower": 0.4843059152364731,
           "time": 9.248497009277344,
           "trajectory": "Rabbits",
           "upper": 0.6987793892621994
          },
          {
           "lower": 0.46948242634534837,
           "time": 9.34669303894043,
           "trajectory": "Rabbits",
           "upper": 0.6654698103666306
          },
          {
           "lower": 0.456996813416481,
           "time": 9.444889068603516,
           "trajectory": "Rabbits",
           "upper": 0.6317428410053253
          },
          {
           "lower": 0.44688632488250735,
           "time": 9.543086051940918,
           "trajectory": "Rabbits",
           "upper": 0.6195917665958404
          },
          {
           "lower": 0.4393170580267906,
           "time": 9.64128303527832,
           "trajectory": "Rabbits",
           "upper": 0.5936942964792251
          },
          {
           "lower": 0.43049156963825225,
           "time": 9.739479064941406,
           "trajectory": "Rabbits",
           "upper": 0.5928875982761382
          },
          {
           "lower": 0.42122622579336166,
           "time": 9.837676048278809,
           "trajectory": "Rabbits",
           "upper": 0.604402607679367
          },
          {
           "lower": 0.4145303204655647,
           "time": 9.935872077941895,
           "trajectory": "Rabbits",
           "upper": 0.6175673276185989
          },
          {
           "lower": 0.409544937312603,
           "time": 10.034069061279297,
           "trajectory": "Rabbits",
           "upper": 0.6323772072792053
          },
          {
           "lower": 0.4043998926877975,
           "time": 10.132265090942383,
           "trajectory": "Rabbits",
           "upper": 0.648832431435585
          },
          {
           "lower": 0.39657222479581833,
           "time": 10.230461120605469,
           "trajectory": "Rabbits",
           "upper": 0.6669412821531295
          },
          {
           "lower": 0.3914209812879562,
           "time": 10.328658103942871,
           "trajectory": "Rabbits",
           "upper": 0.6867181420326233
          },
          {
           "lower": 0.38856773972511294,
           "time": 10.426854133605957,
           "trajectory": "Rabbits",
           "upper": 0.7081786185503005
          },
          {
           "lower": 0.3846037968993187,
           "time": 10.525050163269043,
           "trajectory": "Rabbits",
           "upper": 0.7313447654247283
          },
          {
           "lower": 0.38213504999876025,
           "time": 10.623247146606445,
           "trajectory": "Rabbits",
           "upper": 0.7562388241291045
          },
          {
           "lower": 0.3810760900378227,
           "time": 10.721443176269531,
           "trajectory": "Rabbits",
           "upper": 0.7828852593898772
          },
          {
           "lower": 0.38122865110635756,
           "time": 10.819640159606934,
           "trajectory": "Rabbits",
           "upper": 0.8113089025020598
          },
          {
           "lower": 0.38336937576532365,
           "time": 10.91783618927002,
           "trajectory": "Rabbits",
           "upper": 0.8415317207574843
          },
          {
           "lower": 0.3866841092705727,
           "time": 11.016032218933105,
           "trajectory": "Rabbits",
           "upper": 0.8735748052597044
          },
          {
           "lower": 0.3911342531442642,
           "time": 11.114229202270508,
           "trajectory": "Rabbits",
           "upper": 0.9074536323547362
          },
          {
           "lower": 0.39669124931097033,
           "time": 11.212425231933594,
           "trajectory": "Rabbits",
           "upper": 0.9431790947914122
          },
          {
           "lower": 0.40181774348020555,
           "time": 11.31062126159668,
           "trajectory": "Rabbits",
           "upper": 0.9807507842779157
          },
          {
           "lower": 0.407728835940361,
           "time": 11.408818244934082,
           "trajectory": "Rabbits",
           "upper": 1.0201601594686507
          },
          {
           "lower": 0.4146845549345016,
           "time": 11.507014274597168,
           "trajectory": "Rabbits",
           "upper": 1.0613841593265532
          },
          {
           "lower": 0.42267623692750933,
           "time": 11.60521125793457,
           "trajectory": "Rabbits",
           "upper": 1.1043815016746519
          },
          {
           "lower": 0.4317007020115852,
           "time": 11.703407287597656,
           "trajectory": "Rabbits",
           "upper": 1.1490903258323666
          },
          {
           "lower": 0.4413680672645569,
           "time": 11.801603317260742,
           "trajectory": "Rabbits",
           "upper": 1.195424300432205
          },
          {
           "lower": 0.4518758445978165,
           "time": 11.899800300598145,
           "trajectory": "Rabbits",
           "upper": 1.2405022025108334
          },
          {
           "lower": 0.4634175285696983,
           "time": 11.99799633026123,
           "trajectory": "Rabbits",
           "upper": 1.2830369472503658
          },
          {
           "lower": 0.476004995405674,
           "time": 12.096192359924316,
           "trajectory": "Rabbits",
           "upper": 1.3257771432399745
          },
          {
           "lower": 0.48965266942977903,
           "time": 12.194389343261719,
           "trajectory": "Rabbits",
           "upper": 1.368388450145721
          },
          {
           "lower": 0.5043785005807877,
           "time": 12.292585372924805,
           "trajectory": "Rabbits",
           "upper": 1.4104705750942226
          },
          {
           "lower": 0.5202018976211548,
           "time": 12.390782356262207,
           "trajectory": "Rabbits",
           "upper": 1.4515727937221523
          },
          {
           "lower": 0.5371453166007996,
           "time": 12.488978385925293,
           "trajectory": "Rabbits",
           "upper": 1.491175544261932
          },
          {
           "lower": 0.5552328586578369,
           "time": 12.587174415588379,
           "trajectory": "Rabbits",
           "upper": 1.5286987662315366
          },
          {
           "lower": 0.5746016263961792,
           "time": 12.685371398925781,
           "trajectory": "Rabbits",
           "upper": 1.5635028123855588
          },
          {
           "lower": 0.5970102906227112,
           "time": 12.783567428588867,
           "trajectory": "Rabbits",
           "upper": 1.5948892235755918
          },
          {
           "lower": 0.6207388818264008,
           "time": 12.881763458251953,
           "trajectory": "Rabbits",
           "upper": 1.6221232175827025
          },
          {
           "lower": 0.6453634649515152,
           "time": 12.979960441589355,
           "trajectory": "Rabbits",
           "upper": 1.644442594051361
          },
          {
           "lower": 0.6708035081624985,
           "time": 13.078156471252441,
           "trajectory": "Rabbits",
           "upper": 1.6610858678817748
          },
          {
           "lower": 0.6968708425760269,
           "time": 13.176353454589844,
           "trajectory": "Rabbits",
           "upper": 1.6713273644447326
          },
          {
           "lower": 0.7234418570995331,
           "time": 13.27454948425293,
           "trajectory": "Rabbits",
           "upper": 1.6745122253894806
          },
          {
           "lower": 0.7513154923915863,
           "time": 13.372745513916016,
           "trajectory": "Rabbits",
           "upper": 1.6727754712104796
          },
          {
           "lower": 0.78050856590271,
           "time": 13.470942497253418,
           "trajectory": "Rabbits",
           "upper": 1.716128623485565
          },
          {
           "lower": 0.8110340058803559,
           "time": 13.569138526916504,
           "trajectory": "Rabbits",
           "upper": 1.7695979833602904
          },
          {
           "lower": 0.842897766828537,
           "time": 13.66733455657959,
           "trajectory": "Rabbits",
           "upper": 1.8139043271541595
          },
          {
           "lower": 0.8761000365018845,
           "time": 13.765531539916992,
           "trajectory": "Rabbits",
           "upper": 1.8211844146251677
          },
          {
           "lower": 0.9106319785118103,
           "time": 13.863727569580078,
           "trajectory": "Rabbits",
           "upper": 1.8637800216674802
          },
          {
           "lower": 0.9464745968580246,
           "time": 13.96192455291748,
           "trajectory": "Rabbits",
           "upper": 1.8995178580284118
          },
          {
           "lower": 0.9835943669080734,
           "time": 14.060120582580566,
           "trajectory": "Rabbits",
           "upper": 1.912487632036209
          },
          {
           "lower": 1.0219449251890182,
           "time": 14.158316612243652,
           "trajectory": "Rabbits",
           "upper": 1.9452049076557159
          },
          {
           "lower": 1.0614603579044342,
           "time": 14.256513595581055,
           "trajectory": "Rabbits",
           "upper": 1.9617474615573882
          },
          {
           "lower": 1.1020531356334686,
           "time": 14.35470962524414,
           "trajectory": "Rabbits",
           "upper": 1.9881222665309906
          },
          {
           "lower": 1.1269083678722382,
           "time": 14.452905654907227,
           "trajectory": "Rabbits",
           "upper": 2.0061532855033875
          },
          {
           "lower": 1.1055106699466706,
           "time": 14.551102638244629,
           "trajectory": "Rabbits",
           "upper": 2.0061437666416166
          },
          {
           "lower": 1.0808826684951782,
           "time": 14.649298667907715,
           "trajectory": "Rabbits",
           "upper": 1.9949356257915496
          },
          {
           "lower": 1.0539768517017365,
           "time": 14.747495651245117,
           "trajectory": "Rabbits",
           "upper": 1.987330251932144
          },
          {
           "lower": 0.9956606686115265,
           "time": 14.845691680908203,
           "trajectory": "Rabbits",
           "upper": 1.977737545967102
          },
          {
           "lower": 0.9405529707670212,
           "time": 14.943887710571289,
           "trajectory": "Rabbits",
           "upper": 1.9775248050689695
          },
          {
           "lower": 0.8891286879777909,
           "time": 15.042084693908691,
           "trajectory": "Rabbits",
           "upper": 1.9683462738990782
          },
          {
           "lower": 0.8416773855686188,
           "time": 15.140280723571777,
           "trajectory": "Rabbits",
           "upper": 1.9223632514476774
          },
          {
           "lower": 0.7987896740436554,
           "time": 15.238476753234863,
           "trajectory": "Rabbits",
           "upper": 1.9055021107196808
          },
          {
           "lower": 0.7641114115715026,
           "time": 15.336673736572266,
           "trajectory": "Rabbits",
           "upper": 1.8573774456977843
          },
          {
           "lower": 0.7325069457292557,
           "time": 15.434869766235352,
           "trajectory": "Rabbits",
           "upper": 1.838408941030502
          },
          {
           "lower": 0.7046769589185715,
           "time": 15.533066749572754,
           "trajectory": "Rabbits",
           "upper": 1.8566193163394926
          },
          {
           "lower": 0.6805095404386521,
           "time": 15.63126277923584,
           "trajectory": "Rabbits",
           "upper": 1.8516739666461943
          },
          {
           "lower": 0.6646953701972962,
           "time": 15.729458808898926,
           "trajectory": "Rabbits",
           "upper": 1.8386036038398743
          },
          {
           "lower": 0.6481923609972,
           "time": 15.827655792236328,
           "trajectory": "Rabbits",
           "upper": 1.8343990445137024
          },
          {
           "lower": 0.6312552928924561,
           "time": 15.925851821899414,
           "trajectory": "Rabbits",
           "upper": 1.8231343924999235
          },
          {
           "lower": 0.6174396783113479,
           "time": 16.0240478515625,
           "trajectory": "Rabbits",
           "upper": 1.796340215206146
          },
          {
           "lower": 0.6048211842775345,
           "time": 16.122243881225586,
           "trajectory": "Rabbits",
           "upper": 1.7632344782352447
          },
          {
           "lower": 0.5861428260803223,
           "time": 16.220441818237305,
           "trajectory": "Rabbits",
           "upper": 1.7273318111896514
          },
          {
           "lower": 0.5645932614803314,
           "time": 16.31863784790039,
           "trajectory": "Rabbits",
           "upper": 1.6872319936752318
          },
          {
           "lower": 0.5531397134065628,
           "time": 16.416833877563477,
           "trajectory": "Rabbits",
           "upper": 1.6694511115550994
          },
          {
           "lower": 0.5454001277685165,
           "time": 16.515029907226562,
           "trajectory": "Rabbits",
           "upper": 1.6414436995983124
          },
          {
           "lower": 0.5345095366239547,
           "time": 16.61322593688965,
           "trajectory": "Rabbits",
           "upper": 1.6056683242321013
          },
          {
           "lower": 0.5248127788305282,
           "time": 16.711421966552734,
           "trajectory": "Rabbits",
           "upper": 1.5370599269866942
          },
          {
           "lower": 0.5188495635986328,
           "time": 16.80961799621582,
           "trajectory": "Rabbits",
           "upper": 1.4614464104175569
          },
          {
           "lower": 0.5141069158911705,
           "time": 16.907814025878906,
           "trajectory": "Rabbits",
           "upper": 1.3810622274875641
          },
          {
           "lower": 0.5036842778325081,
           "time": 17.006011962890625,
           "trajectory": "Rabbits",
           "upper": 1.3148657023906707
          },
          {
           "lower": 0.4955750972032547,
           "time": 17.10420799255371,
           "trajectory": "Rabbits",
           "upper": 1.2469740509986875
          },
          {
           "lower": 0.486618934571743,
           "time": 17.202404022216797,
           "trajectory": "Rabbits",
           "upper": 1.1773756980895993
          },
          {
           "lower": 0.4762810945510864,
           "time": 17.300600051879883,
           "trajectory": "Rabbits",
           "upper": 1.1075618743896483
          },
          {
           "lower": 0.4718186900019646,
           "time": 17.39879608154297,
           "trajectory": "Rabbits",
           "upper": 1.0388622075319287
          },
          {
           "lower": 0.4622297614812851,
           "time": 17.496994018554688,
           "trajectory": "Rabbits",
           "upper": 0.9670342475175854
          },
          {
           "lower": 0.4485212951898575,
           "time": 17.595190048217773,
           "trajectory": "Rabbits",
           "upper": 0.8990428447723385
          },
          {
           "lower": 0.44212027490139005,
           "time": 17.69338607788086,
           "trajectory": "Rabbits",
           "upper": 0.8747189581394195
          },
          {
           "lower": 0.44298544377088545,
           "time": 17.791584014892578,
           "trajectory": "Rabbits",
           "upper": 0.8403298556804656
          },
          {
           "lower": 0.4412238642573357,
           "time": 17.889780044555664,
           "trajectory": "Rabbits",
           "upper": 0.8073499917984008
          },
          {
           "lower": 0.4404029667377472,
           "time": 17.98797607421875,
           "trajectory": "Rabbits",
           "upper": 0.756241524219513
          },
          {
           "lower": 0.4368326559662819,
           "time": 18.086172103881836,
           "trajectory": "Rabbits",
           "upper": 0.748366367816925
          },
          {
           "lower": 0.42849123030900954,
           "time": 18.184368133544922,
           "trajectory": "Rabbits",
           "upper": 0.7742634236812591
          },
          {
           "lower": 0.41640654951334,
           "time": 18.28256607055664,
           "trajectory": "Rabbits",
           "upper": 0.8020657032728196
          },
          {
           "lower": 0.4095948994159698,
           "time": 18.380762100219727,
           "trajectory": "Rabbits",
           "upper": 0.8316493302583694
          },
          {
           "lower": 0.4073739260435104,
           "time": 18.478958129882812,
           "trajectory": "Rabbits",
           "upper": 0.8630342334508896
          },
          {
           "lower": 0.4066722258925438,
           "time": 18.57715606689453,
           "trajectory": "Rabbits",
           "upper": 0.8962369143962859
          },
          {
           "lower": 0.4074068084359169,
           "time": 18.675352096557617,
           "trajectory": "Rabbits",
           "upper": 0.931265839934349
          },
          {
           "lower": 0.40268880128860474,
           "time": 18.773548126220703,
           "trajectory": "Rabbits",
           "upper": 0.9681242197751998
          },
          {
           "lower": 0.399829663336277,
           "time": 18.87174415588379,
           "trajectory": "Rabbits",
           "upper": 1.006803148984909
          },
          {
           "lower": 0.40095287263393403,
           "time": 18.969940185546875,
           "trajectory": "Rabbits",
           "upper": 1.047283226251602
          },
          {
           "lower": 0.4031273275613785,
           "time": 19.06813621520996,
           "trajectory": "Rabbits",
           "upper": 1.0895249366760253
          },
          {
           "lower": 0.3990011066198349,
           "time": 19.166332244873047,
           "trajectory": "Rabbits",
           "upper": 1.1334718346595762
          },
          {
           "lower": 0.39364364594221113,
           "time": 19.264528274536133,
           "trajectory": "Rabbits",
           "upper": 1.1790435075759886
          },
          {
           "lower": 0.38806077688932417,
           "time": 19.36272621154785,
           "trajectory": "Rabbits",
           "upper": 1.2261301219463348
          },
          {
           "lower": 0.38450371026992797,
           "time": 19.460922241210938,
           "trajectory": "Rabbits",
           "upper": 1.2745866119861602
          },
          {
           "lower": 0.3875089153647423,
           "time": 19.559118270874023,
           "trajectory": "Rabbits",
           "upper": 1.3242292463779448
          },
          {
           "lower": 0.39167160391807554,
           "time": 19.65731430053711,
           "trajectory": "Rabbits",
           "upper": 1.374829018115997
          },
          {
           "lower": 0.3969603732228279,
           "time": 19.755510330200195,
           "trajectory": "Rabbits",
           "upper": 1.426099723577499
          },
          {
           "lower": 0.4033517211675644,
           "time": 19.853708267211914,
           "trajectory": "Rabbits",
           "upper": 1.4776994168758388
          },
          {
           "lower": 0.4093814805150032,
           "time": 19.951904296875,
           "trajectory": "Rabbits",
           "upper": 1.5238482177257533
          },
          {
           "lower": 0.415441007912159,
           "time": 20.050100326538086,
           "trajectory": "Rabbits",
           "upper": 1.5586489498615261
          },
          {
           "lower": 0.4219281882047653,
           "time": 20.148298263549805,
           "trajectory": "Rabbits",
           "upper": 1.590088194608688
          },
          {
           "lower": 0.4287471905350685,
           "time": 20.24649429321289,
           "trajectory": "Rabbits",
           "upper": 1.6174417972564694
          },
          {
           "lower": 0.4356454789638519,
           "time": 20.344690322875977,
           "trajectory": "Rabbits",
           "upper": 1.639961630105972
          },
          {
           "lower": 0.4435746371746063,
           "time": 20.442886352539062,
           "trajectory": "Rabbits",
           "upper": 1.656901055574417
          },
          {
           "lower": 0.4525284916162491,
           "time": 20.54108238220215,
           "trajectory": "Rabbits",
           "upper": 1.6675437271595
          },
          {
           "lower": 0.4625064104795456,
           "time": 20.639278411865234,
           "trajectory": "Rabbits",
           "upper": 1.6712466537952422
          },
          {
           "lower": 0.4735117956995964,
           "time": 20.73747444152832,
           "trajectory": "Rabbits",
           "upper": 1.6674805879592896
          },
          {
           "lower": 0.485551755130291,
           "time": 20.835670471191406,
           "trajectory": "Rabbits",
           "upper": 1.6580154597759247
          },
          {
           "lower": 0.49863721430301666,
           "time": 20.933868408203125,
           "trajectory": "Rabbits",
           "upper": 1.6465700745582579
          },
          {
           "lower": 0.51282719373703,
           "time": 21.03206443786621,
           "trajectory": "Rabbits",
           "upper": 1.6579146325588225
          },
          {
           "lower": 0.5302152931690216,
           "time": 21.130260467529297,
           "trajectory": "Rabbits",
           "upper": 1.681108945608139
          },
          {
           "lower": 0.548772668838501,
           "time": 21.228456497192383,
           "trajectory": "Rabbits",
           "upper": 1.7017919838428497
          },
          {
           "lower": 0.5685295164585114,
           "time": 21.32665252685547,
           "trajectory": "Rabbits",
           "upper": 1.7162834405899046
          },
          {
           "lower": 0.5895175069570542,
           "time": 21.424850463867188,
           "trajectory": "Rabbits",
           "upper": 1.750265085697174
          },
          {
           "lower": 0.6117695927619934,
           "time": 21.523046493530273,
           "trajectory": "Rabbits",
           "upper": 1.7796592116355896
          },
          {
           "lower": 0.6353199332952499,
           "time": 21.62124252319336,
           "trajectory": "Rabbits",
           "upper": 1.8073849022388457
          },
          {
           "lower": 0.6602031528949738,
           "time": 21.719440460205078,
           "trajectory": "Rabbits",
           "upper": 1.8098789393901824
          },
          {
           "lower": 0.6864525496959687,
           "time": 21.817636489868164,
           "trajectory": "Rabbits",
           "upper": 1.7979984700679776
          },
          {
           "lower": 0.7141019701957703,
           "time": 21.91583251953125,
           "trajectory": "Rabbits",
           "upper": 1.8413004696369168
          },
          {
           "lower": 0.7431831270456314,
           "time": 22.014028549194336,
           "trajectory": "Rabbits",
           "upper": 1.8793084323406217
          },
          {
           "lower": 0.7737266510725022,
           "time": 22.112224578857422,
           "trajectory": "Rabbits",
           "upper": 1.9107930481433866
          },
          {
           "lower": 0.8055409729480744,
           "time": 22.210420608520508,
           "trajectory": "Rabbits",
           "upper": 1.9169816553592682
          },
          {
           "lower": 0.8251921176910401,
           "time": 22.308616638183594,
           "trajectory": "Rabbits",
           "upper": 1.9464172065258025
          },
          {
           "lower": 0.8253151297569274,
           "time": 22.40681266784668,
           "trajectory": "Rabbits",
           "upper": 1.9703969955444336
          },
          {
           "lower": 0.8099280536174774,
           "time": 22.5050106048584,
           "trajectory": "Rabbits",
           "upper": 1.9839801490306854
          },
          {
           "lower": 0.8038699805736542,
           "time": 22.603206634521484,
           "trajectory": "Rabbits",
           "upper": 1.988193392753601
          },
          {
           "lower": 0.7710606127977371,
           "time": 22.70140266418457,
           "trajectory": "Rabbits",
           "upper": 1.9942415654659271
          },
          {
           "lower": 0.7470197588205337,
           "time": 22.799598693847656,
           "trajectory": "Rabbits",
           "upper": 1.9898629844188689
          },
          {
           "lower": 0.7182540386915207,
           "time": 22.897794723510742,
           "trajectory": "Rabbits",
           "upper": 1.9742455959320067
          },
          {
           "lower": 0.6924134820699692,
           "time": 22.99599266052246,
           "trajectory": "Rabbits",
           "upper": 1.9520539820194243
          },
          {
           "lower": 0.6701061934232712,
           "time": 23.094188690185547,
           "trajectory": "Rabbits",
           "upper": 1.951135867834091
          },
          {
           "lower": 0.6516568928956985,
           "time": 23.192384719848633,
           "trajectory": "Rabbits",
           "upper": 1.945321691036224
          },
          {
           "lower": 0.641685864329338,
           "time": 23.29058265686035,
           "trajectory": "Rabbits",
           "upper": 1.9135046660900112
          },
          {
           "lower": 0.6342681467533111,
           "time": 23.388778686523438,
           "trajectory": "Rabbits",
           "upper": 1.8663897991180416
          },
          {
           "lower": 0.6220158934593201,
           "time": 23.486974716186523,
           "trajectory": "Rabbits",
           "upper": 1.8201657950878143
          },
          {
           "lower": 0.6110246002674102,
           "time": 23.58517074584961,
           "trajectory": "Rabbits",
           "upper": 1.7957899630069734
          },
          {
           "lower": 0.6024056732654571,
           "time": 23.683366775512695,
           "trajectory": "Rabbits",
           "upper": 1.7897957324981688
          },
          {
           "lower": 0.5948467195034027,
           "time": 23.78156280517578,
           "trajectory": "Rabbits",
           "upper": 1.80155633687973
          },
          {
           "lower": 0.5786105751991272,
           "time": 23.879758834838867,
           "trajectory": "Rabbits",
           "upper": 1.8087110340595243
          },
          {
           "lower": 0.5645324528217316,
           "time": 23.977954864501953,
           "trajectory": "Rabbits",
           "upper": 1.7801218628883362
          },
          {
           "lower": 0.5540674448013305,
           "time": 24.076152801513672,
           "trajectory": "Rabbits",
           "upper": 1.7751892149448394
          },
          {
           "lower": 0.5473203241825104,
           "time": 24.174348831176758,
           "trajectory": "Rabbits",
           "upper": 1.8003147721290587
          },
          {
           "lower": 0.5480239897966385,
           "time": 24.272544860839844,
           "trajectory": "Rabbits",
           "upper": 1.8223768889904022
          },
          {
           "lower": 0.54021315574646,
           "time": 24.37074089050293,
           "trajectory": "Rabbits",
           "upper": 1.8227047383785249
          },
          {
           "lower": 0.5324098408222199,
           "time": 24.468936920166016,
           "trajectory": "Rabbits",
           "upper": 1.8212045967578887
          },
          {
           "lower": 0.5270693153142929,
           "time": 24.567134857177734,
           "trajectory": "Rabbits",
           "upper": 1.8120733976364134
          },
          {
           "lower": 0.52107774913311,
           "time": 24.66533088684082,
           "trajectory": "Rabbits",
           "upper": 1.7703063786029813
          },
          {
           "lower": 0.5165954396128655,
           "time": 24.763526916503906,
           "trajectory": "Rabbits",
           "upper": 1.7401071548461913
          },
          {
           "lower": 0.5104622498154641,
           "time": 24.861724853515625,
           "trajectory": "Rabbits",
           "upper": 1.7071489214897153
          },
          {
           "lower": 0.5042807430028915,
           "time": 24.95992088317871,
           "trajectory": "Rabbits",
           "upper": 1.6857240855693814
          },
          {
           "lower": 0.4970978781580925,
           "time": 25.058116912841797,
           "trajectory": "Rabbits",
           "upper": 1.676756316423416
          },
          {
           "lower": 0.4849018916487694,
           "time": 25.156312942504883,
           "trajectory": "Rabbits",
           "upper": 1.6580952823162078
          },
          {
           "lower": 0.4760160893201828,
           "time": 25.25450897216797,
           "trajectory": "Rabbits",
           "upper": 1.6309352219104767
          },
          {
           "lower": 0.47461206316947935,
           "time": 25.352705001831055,
           "trajectory": "Rabbits",
           "upper": 1.565701252222061
          },
          {
           "lower": 0.4717500790953636,
           "time": 25.45090103149414,
           "trajectory": "Rabbits",
           "upper": 1.4927363455295564
          },
          {
           "lower": 0.4649355515837669,
           "time": 25.549097061157227,
           "trajectory": "Rabbits",
           "upper": 1.427871537208557
          },
          {
           "lower": 0.4553666740655899,
           "time": 25.647294998168945,
           "trajectory": "Rabbits",
           "upper": 1.3679876148700711
          },
          {
           "lower": 0.4450364723801613,
           "time": 25.74549102783203,
           "trajectory": "Rabbits",
           "upper": 1.303653812408447
          },
          {
           "lower": 0.4424390897154808,
           "time": 25.843687057495117,
           "trajectory": "Rabbits",
           "upper": 1.2363705337047572
          },
          {
           "lower": 0.44176057875156405,
           "time": 25.941883087158203,
           "trajectory": "Rabbits",
           "upper": 1.2129586338996885
          },
          {
           "lower": 0.44264096915721896,
           "time": 26.04007911682129,
           "trajectory": "Rabbits",
           "upper": 1.1858134746551512
          },
          {
           "lower": 0.444147065281868,
           "time": 26.138275146484375,
           "trajectory": "Rabbits",
           "upper": 1.1125576615333557
          },
          {
           "lower": 0.4409631475806236,
           "time": 26.23647117614746,
           "trajectory": "Rabbits",
           "upper": 1.0961318790912626
          },
          {
           "lower": 0.4385117799043655,
           "time": 26.334667205810547,
           "trajectory": "Rabbits",
           "upper": 1.0390619158744812
          },
          {
           "lower": 0.43313329964876174,
           "time": 26.432865142822266,
           "trajectory": "Rabbits",
           "upper": 1.0374710619449614
          },
          {
           "lower": 0.42651846557855605,
           "time": 26.53106117248535,
           "trajectory": "Rabbits",
           "upper": 1.078562933206558
          },
          {
           "lower": 0.42028400897979734,
           "time": 26.629257202148438,
           "trajectory": "Rabbits",
           "upper": 1.1212464570999146
          },
          {
           "lower": 0.41851030141115186,
           "time": 26.727453231811523,
           "trajectory": "Rabbits",
           "upper": 1.1654311060905456
          },
          {
           "lower": 0.413428770005703,
           "time": 26.82564926147461,
           "trajectory": "Rabbits",
           "upper": 1.2109955728054047
          },
          {
           "lower": 0.41161238849163057,
           "time": 26.923847198486328,
           "trajectory": "Rabbits",
           "upper": 1.2577878415584565
          },
          {
           "lower": 0.4150161102414131,
           "time": 27.022043228149414,
           "trajectory": "Rabbits",
           "upper": 1.3064170897006988
          },
          {
           "lower": 0.4207983836531639,
           "time": 27.1202392578125,
           "trajectory": "Rabbits",
           "upper": 1.3561907589435578
          },
          {
           "lower": 0.4277648523449898,
           "time": 27.21843719482422,
           "trajectory": "Rabbits",
           "upper": 1.4066593289375304
          },
          {
           "lower": 0.42866419106721876,
           "time": 27.316633224487305,
           "trajectory": "Rabbits",
           "upper": 1.4574932754039762
          },
          {
           "lower": 0.4253242269158363,
           "time": 27.41482925415039,
           "trajectory": "Rabbits",
           "upper": 1.5082980334758758
          },
          {
           "lower": 0.41685053110122683,
           "time": 27.513025283813477,
           "trajectory": "Rabbits",
           "upper": 1.5586107611656186
          },
          {
           "lower": 0.41453602015972135,
           "time": 27.611221313476562,
           "trajectory": "Rabbits",
           "upper": 1.6078900456428524
          },
          {
           "lower": 0.4145487532019615,
           "time": 27.70941925048828,
           "trajectory": "Rabbits",
           "upper": 1.6348855912685392
          },
          {
           "lower": 0.412854041159153,
           "time": 27.807615280151367,
           "trajectory": "Rabbits",
           "upper": 1.652022325992584
          },
          {
           "lower": 0.40423967093229296,
           "time": 27.905811309814453,
           "trajectory": "Rabbits",
           "upper": 1.6629717230796812
          },
          {
           "lower": 0.39665575325489044,
           "time": 28.004009246826172,
           "trajectory": "Rabbits",
           "upper": 1.6671080231666564
          },
          {
           "lower": 0.3907979890704155,
           "time": 28.102205276489258,
           "trajectory": "Rabbits",
           "upper": 1.6639088928699493
          },
          {
           "lower": 0.3935821086168289,
           "time": 28.200401306152344,
           "trajectory": "Rabbits",
           "upper": 1.6557608664035797
          },
          {
           "lower": 0.39856401085853577,
           "time": 28.29859733581543,
           "trajectory": "Rabbits",
           "upper": 1.639836424589157
          },
          {
           "lower": 0.404674831032753,
           "time": 28.396793365478516,
           "trajectory": "Rabbits",
           "upper": 1.629011660814285
          },
          {
           "lower": 0.41125942319631575,
           "time": 28.4949893951416,
           "trajectory": "Rabbits",
           "upper": 1.616130632162094
          },
          {
           "lower": 0.4133000984787941,
           "time": 28.593185424804688,
           "trajectory": "Rabbits",
           "upper": 1.6224951922893522
          },
          {
           "lower": 0.41600040942430494,
           "time": 28.691381454467773,
           "trajectory": "Rabbits",
           "upper": 1.604687875509262
          },
          {
           "lower": 0.419818215072155,
           "time": 28.789579391479492,
           "trajectory": "Rabbits",
           "upper": 1.5689333200454711
          },
          {
           "lower": 0.4247225522994995,
           "time": 28.887775421142578,
           "trajectory": "Rabbits",
           "upper": 1.605749088525772
          },
          {
           "lower": 0.43069083243608475,
           "time": 28.985971450805664,
           "trajectory": "Rabbits",
           "upper": 1.6541750848293302
          },
          {
           "lower": 0.4377057060599327,
           "time": 29.08416748046875,
           "trajectory": "Rabbits",
           "upper": 1.700001937150955
          },
          {
           "lower": 0.44575624018907545,
           "time": 29.182363510131836,
           "trajectory": "Rabbits",
           "upper": 1.732171511650085
          },
          {
           "lower": 0.4548378333449364,
           "time": 29.280561447143555,
           "trajectory": "Rabbits",
           "upper": 1.7420642554759977
          },
          {
           "lower": 0.4649491384625435,
           "time": 29.37875747680664,
           "trajectory": "Rabbits",
           "upper": 1.7516489982604981
          },
          {
           "lower": 0.47579763233661654,
           "time": 29.476953506469727,
           "trajectory": "Rabbits",
           "upper": 1.7386007368564604
          },
          {
           "lower": 0.4891229450702667,
           "time": 29.575151443481445,
           "trajectory": "Rabbits",
           "upper": 1.7452050268650054
          },
          {
           "lower": 0.5040813356637954,
           "time": 29.67334747314453,
           "trajectory": "Rabbits",
           "upper": 1.7711842000484466
          },
          {
           "lower": 0.5201665133237838,
           "time": 29.771543502807617,
           "trajectory": "Rabbits",
           "upper": 1.8023575127124785
          },
          {
           "lower": 0.5374025821685791,
           "time": 29.869739532470703,
           "trajectory": "Rabbits",
           "upper": 1.8451899886131284
          },
          {
           "lower": 0.5558172702789307,
           "time": 29.96793556213379,
           "trajectory": "Rabbits",
           "upper": 1.8826105952262877
          },
          {
           "lower": 0.5754400938749313,
           "time": 30.066131591796875,
           "trajectory": "Rabbits",
           "upper": 1.8895355403423308
          },
          {
           "lower": 0.5963023632764817,
           "time": 30.16432762145996,
           "trajectory": "Rabbits",
           "upper": 1.8820030152797698
          },
          {
           "lower": 0.6184376865625382,
           "time": 30.262523651123047,
           "trajectory": "Rabbits",
           "upper": 1.9074315130710602
          },
          {
           "lower": 0.6331823855638504,
           "time": 30.360721588134766,
           "trajectory": "Rabbits",
           "upper": 1.9259164452552795
          },
          {
           "lower": 0.6396550983190536,
           "time": 30.45891761779785,
           "trajectory": "Rabbits",
           "upper": 1.9575332403182983
          },
          {
           "lower": 0.6352047085762024,
           "time": 30.557113647460938,
           "trajectory": "Rabbits",
           "upper": 1.9521862268447876
          },
          {
           "lower": 0.6227093160152435,
           "time": 30.655309677124023,
           "trajectory": "Rabbits",
           "upper": 1.9816403448581696
          },
          {
           "lower": 0.6086790233850479,
           "time": 30.75350570678711,
           "trajectory": "Rabbits",
           "upper": 1.9924682796001434
          },
          {
           "lower": 0.600580582022667,
           "time": 30.851703643798828,
           "trajectory": "Rabbits",
           "upper": 1.9912116348743438
          },
          {
           "lower": 0.6105746477842331,
           "time": 30.949899673461914,
           "trajectory": "Rabbits",
           "upper": 1.9789631009101867
          },
          {
           "lower": 0.6185706049203873,
           "time": 31.048095703125,
           "trajectory": "Rabbits",
           "upper": 1.9551160156726834
          },
          {
           "lower": 0.6101013958454132,
           "time": 31.14629364013672,
           "trajectory": "Rabbits",
           "upper": 1.9200285851955412
          },
          {
           "lower": 0.6034355491399765,
           "time": 31.244489669799805,
           "trajectory": "Rabbits",
           "upper": 1.9168525636196136
          },
          {
           "lower": 0.5982402086257934,
           "time": 31.34268569946289,
           "trajectory": "Rabbits",
           "upper": 1.91293408870697
          },
          {
           "lower": 0.5867925018072129,
           "time": 31.440881729125977,
           "trajectory": "Rabbits",
           "upper": 1.9078599810600276
          },
          {
           "lower": 0.5724489957094192,
           "time": 31.539077758789062,
           "trajectory": "Rabbits",
           "upper": 1.8693072557449337
          },
          {
           "lower": 0.5638573288917541,
           "time": 31.63727378845215,
           "trajectory": "Rabbits",
           "upper": 1.8201348185539243
          },
          {
           "lower": 0.5624638974666596,
           "time": 31.735469818115234,
           "trajectory": "Rabbits",
           "upper": 1.7697234213352202
          },
          {
           "lower": 0.5507203966379166,
           "time": 31.83366584777832,
           "trajectory": "Rabbits",
           "upper": 1.7301194071769714
          },
          {
           "lower": 0.5544991075992585,
           "time": 31.93186378479004,
           "trajectory": "Rabbits",
           "upper": 1.7313940346240997
          },
          {
           "lower": 0.560020101070404,
           "time": 32.030059814453125,
           "trajectory": "Rabbits",
           "upper": 1.7541727066040038
          },
          {
           "lower": 0.554255124926567,
           "time": 32.12825393676758,
           "trajectory": "Rabbits",
           "upper": 1.7718619644641875
          },
          {
           "lower": 0.5480907291173935,
           "time": 32.2264518737793,
           "trajectory": "Rabbits",
           "upper": 1.7652491748332975
          },
          {
           "lower": 0.5356627881526947,
           "time": 32.324649810791016,
           "trajectory": "Rabbits",
           "upper": 1.7113009810447692
          },
          {
           "lower": 0.5229950040578842,
           "time": 32.42284393310547,
           "trajectory": "Rabbits",
           "upper": 1.7353079974651335
          },
          {
           "lower": 0.5182398110628128,
           "time": 32.52104187011719,
           "trajectory": "Rabbits",
           "upper": 1.756126809120178
          },
          {
           "lower": 0.5166056036949158,
           "time": 32.61923599243164,
           "trajectory": "Rabbits",
           "upper": 1.769816994667053
          },
          {
           "lower": 0.5164867341518402,
           "time": 32.71743392944336,
           "trajectory": "Rabbits",
           "upper": 1.7754958629608153
          },
          {
           "lower": 0.515685823559761,
           "time": 32.81562805175781,
           "trajectory": "Rabbits",
           "upper": 1.7829261362552642
          },
          {
           "lower": 0.5072418957948684,
           "time": 32.91382598876953,
           "trajectory": "Rabbits",
           "upper": 1.7994502186775208
          },
          {
           "lower": 0.4941129207611084,
           "time": 33.01202392578125,
           "trajectory": "Rabbits",
           "upper": 1.8093173563480378
          },
          {
           "lower": 0.4832419604063034,
           "time": 33.1102180480957,
           "trajectory": "Rabbits",
           "upper": 1.814925742149353
          },
          {
           "lower": 0.47836018800735475,
           "time": 33.20841598510742,
           "trajectory": "Rabbits",
           "upper": 1.7878687262535093
          },
          {
           "lower": 0.4781149536371231,
           "time": 33.30661392211914,
           "trajectory": "Rabbits",
           "upper": 1.742596834897995
          },
          {
           "lower": 0.47555607110261916,
           "time": 33.404808044433594,
           "trajectory": "Rabbits",
           "upper": 1.721788442134857
          },
          {
           "lower": 0.46873447448015215,
           "time": 33.50300598144531,
           "trajectory": "Rabbits",
           "upper": 1.6993482708930967
          },
          {
           "lower": 0.4732772186398506,
           "time": 33.601200103759766,
           "trajectory": "Rabbits",
           "upper": 1.6743481099605557
          },
          {
           "lower": 0.468516506254673,
           "time": 33.699398040771484,
           "trajectory": "Rabbits",
           "upper": 1.673043769598007
          },
          {
           "lower": 0.4522621363401413,
           "time": 33.7975959777832,
           "trajectory": "Rabbits",
           "upper": 1.662751567363739
          },
          {
           "lower": 0.4430853143334389,
           "time": 33.895790100097656,
           "trajectory": "Rabbits",
           "upper": 1.64410360455513
          },
          {
           "lower": 0.4432558551430702,
           "time": 33.993988037109375,
           "trajectory": "Rabbits",
           "upper": 1.5930341601371765
          },
          {
           "lower": 0.445137058198452,
           "time": 34.092185974121094,
           "trajectory": "Rabbits",
           "upper": 1.5551829457283017
          },
          {
           "lower": 0.4464197546243668,
           "time": 34.19038009643555,
           "trajectory": "Rabbits",
           "upper": 1.5624677062034602
          },
          {
           "lower": 0.4474971190094948,
           "time": 34.288578033447266,
           "trajectory": "Rabbits",
           "upper": 1.5318945050239559
          },
          {
           "lower": 0.4469641879200935,
           "time": 34.38677215576172,
           "trajectory": "Rabbits",
           "upper": 1.5298158288002013
          },
          {
           "lower": 0.44488638937473296,
           "time": 34.48497009277344,
           "trajectory": "Rabbits",
           "upper": 1.4993150174617766
          },
          {
           "lower": 0.4385147958993912,
           "time": 34.583168029785156,
           "trajectory": "Rabbits",
           "upper": 1.429887247085571
          },
          {
           "lower": 0.4331304594874382,
           "time": 34.68136215209961,
           "trajectory": "Rabbits",
           "upper": 1.4057254314422607
          },
          {
           "lower": 0.42956598550081254,
           "time": 34.77956008911133,
           "trajectory": "Rabbits",
           "upper": 1.4403165519237517
          },
          {
           "lower": 0.4253564924001694,
           "time": 34.87775802612305,
           "trajectory": "Rabbits",
           "upper": 1.4883637964725493
          },
          {
           "lower": 0.4244931101799011,
           "time": 34.9759521484375,
           "trajectory": "Rabbits",
           "upper": 1.5368669986724852
          },
          {
           "lower": 0.4283281609416008,
           "time": 35.07415008544922,
           "trajectory": "Rabbits",
           "upper": 1.5852935135364532
          },
          {
           "lower": 0.42513045519590376,
           "time": 35.17234420776367,
           "trajectory": "Rabbits",
           "upper": 1.632164007425308
          },
          {
           "lower": 0.4200458973646164,
           "time": 35.27054214477539,
           "trajectory": "Rabbits",
           "upper": 1.6576512217521666
          },
          {
           "lower": 0.42672457695007326,
           "time": 35.36874008178711,
           "trajectory": "Rabbits",
           "upper": 1.6621334195137023
          },
          {
           "lower": 0.4345822066068649,
           "time": 35.46693420410156,
           "trajectory": "Rabbits",
           "upper": 1.6594287574291229
          },
          {
           "lower": 0.4436092182993889,
           "time": 35.56513214111328,
           "trajectory": "Rabbits",
           "upper": 1.6523966014385223
          },
          {
           "lower": 0.45380297005176545,
           "time": 35.663330078125,
           "trajectory": "Rabbits",
           "upper": 1.6378264129161832
          },
          {
           "lower": 0.4610008031129837,
           "time": 35.76152420043945,
           "trajectory": "Rabbits",
           "upper": 1.6328679680824278
          },
          {
           "lower": 0.4575705140829086,
           "time": 35.85972213745117,
           "trajectory": "Rabbits",
           "upper": 1.6230205595493314
          },
          {
           "lower": 0.4455138087272644,
           "time": 35.957916259765625,
           "trajectory": "Rabbits",
           "upper": 1.6049207866191864
          },
          {
           "lower": 0.43511883020401,
           "time": 36.056114196777344,
           "trajectory": "Rabbits",
           "upper": 1.578563404083252
          },
          {
           "lower": 0.42818028330802915,
           "time": 36.15431213378906,
           "trajectory": "Rabbits",
           "upper": 1.560998100042343
          },
          {
           "lower": 0.42777920365333555,
           "time": 36.252506256103516,
           "trajectory": "Rabbits",
           "upper": 1.503386640548706
          },
          {
           "lower": 0.42754523903131486,
           "time": 36.35070037841797,
           "trajectory": "Rabbits",
           "upper": 1.480780619382858
          },
          {
           "lower": 0.4262489452958107,
           "time": 36.44889831542969,
           "trajectory": "Rabbits",
           "upper": 1.5112244009971618
          },
          {
           "lower": 0.4160794273018837,
           "time": 36.54709243774414,
           "trajectory": "Rabbits",
           "upper": 1.5504247188568114
          },
          {
           "lower": 0.4073982730507851,
           "time": 36.64529037475586,
           "trajectory": "Rabbits",
           "upper": 1.5913909077644346
          },
          {
           "lower": 0.4004003912210464,
           "time": 36.74348449707031,
           "trajectory": "Rabbits",
           "upper": 1.6403545439243314
          },
          {
           "lower": 0.4014432460069656,
           "time": 36.84168243408203,
           "trajectory": "Rabbits",
           "upper": 1.6869548618793484
          },
          {
           "lower": 0.406353235244751,
           "time": 36.93988037109375,
           "trajectory": "Rabbits",
           "upper": 1.7125972688198088
          },
          {
           "lower": 0.4120946392416954,
           "time": 37.0380744934082,
           "trajectory": "Rabbits",
           "upper": 1.6813135623931883
          },
          {
           "lower": 0.41201861947774887,
           "time": 37.13627243041992,
           "trajectory": "Rabbits",
           "upper": 1.695450896024704
          },
          {
           "lower": 0.4131871834397316,
           "time": 37.23447036743164,
           "trajectory": "Rabbits",
           "upper": 1.704049777984619
          },
          {
           "lower": 0.4150891095399857,
           "time": 37.332664489746094,
           "trajectory": "Rabbits",
           "upper": 1.7009122908115384
          },
          {
           "lower": 0.4178817912936211,
           "time": 37.43086242675781,
           "trajectory": "Rabbits",
           "upper": 1.725430756807327
          },
          {
           "lower": 0.42179676443338393,
           "time": 37.529056549072266,
           "trajectory": "Rabbits",
           "upper": 1.7459316432476044
          },
          {
           "lower": 0.4268047958612442,
           "time": 37.627254486083984,
           "trajectory": "Rabbits",
           "upper": 1.76577513217926
          },
          {
           "lower": 0.4328827723860741,
           "time": 37.7254524230957,
           "trajectory": "Rabbits",
           "upper": 1.8066574811935423
          },
          {
           "lower": 0.4390408143401146,
           "time": 37.823646545410156,
           "trajectory": "Rabbits",
           "upper": 1.8490019261837003
          },
          {
           "lower": 0.4459463968873024,
           "time": 37.921844482421875,
           "trajectory": "Rabbits",
           "upper": 1.8599211990833282
          },
          {
           "lower": 0.4538986936211586,
           "time": 38.020042419433594,
           "trajectory": "Rabbits",
           "upper": 1.8497736155986784
          },
          {
           "lower": 0.4651094362139702,
           "time": 38.11823654174805,
           "trajectory": "Rabbits",
           "upper": 1.8601066946983336
          },
          {
           "lower": 0.4780843734741211,
           "time": 38.216434478759766,
           "trajectory": "Rabbits",
           "upper": 1.8876757025718687
          },
          {
           "lower": 0.492148357629776,
           "time": 38.31462860107422,
           "trajectory": "Rabbits",
           "upper": 1.9079487442970275
          },
          {
           "lower": 0.5073222741484642,
           "time": 38.41282653808594,
           "trajectory": "Rabbits",
           "upper": 1.9209326088428498
          },
          {
           "lower": 0.5236279129981994,
           "time": 38.511024475097656,
           "trajectory": "Rabbits",
           "upper": 1.9155714392662049
          },
          {
           "lower": 0.5333443999290466,
           "time": 38.60921859741211,
           "trajectory": "Rabbits",
           "upper": 1.9256284475326537
          },
          {
           "lower": 0.5407276719808578,
           "time": 38.70741271972656,
           "trajectory": "Rabbits",
           "upper": 1.9541174590587616
          },
          {
           "lower": 0.5475086867809296,
           "time": 38.80561065673828,
           "trajectory": "Rabbits",
           "upper": 1.978466236591339
          },
          {
           "lower": 0.5465062320232391,
           "time": 38.903804779052734,
           "trajectory": "Rabbits",
           "upper": 1.9914168894290922
          },
          {
           "lower": 0.5525976806879044,
           "time": 39.00200271606445,
           "trajectory": "Rabbits",
           "upper": 1.9824489414691924
          },
          {
           "lower": 0.5636728644371033,
           "time": 39.100196838378906,
           "trajectory": "Rabbits",
           "upper": 1.9620773255825041
          },
          {
           "lower": 0.5675195813179016,
           "time": 39.198394775390625,
           "trajectory": "Rabbits",
           "upper": 1.929941552877426
          },
          {
           "lower": 0.5573868989944458,
           "time": 39.296592712402344,
           "trajectory": "Rabbits",
           "upper": 1.8860995233058926
          },
          {
           "lower": 0.5549980401992798,
           "time": 39.3947868347168,
           "trajectory": "Rabbits",
           "upper": 1.8778917074203492
          },
          {
           "lower": 0.5580355763435364,
           "time": 39.492984771728516,
           "trajectory": "Rabbits",
           "upper": 1.8730241835117338
          },
          {
           "lower": 0.5666703373193741,
           "time": 39.591182708740234,
           "trajectory": "Rabbits",
           "upper": 1.8939713478088376
          },
          {
           "lower": 0.5745903313159942,
           "time": 39.68937683105469,
           "trajectory": "Rabbits",
           "upper": 1.8707408785820006
          },
          {
           "lower": 0.5794445455074311,
           "time": 39.787574768066406,
           "trajectory": "Rabbits",
           "upper": 1.8239542603492735
          },
          {
           "lower": 0.5653527587652206,
           "time": 39.88576889038086,
           "trajectory": "Rabbits",
           "upper": 1.7833893656730653
          },
          {
           "lower": 0.5516872137784958,
           "time": 39.98396682739258,
           "trajectory": "Rabbits",
           "upper": 1.7533719480037688
          },
          {
           "lower": 0.5397428452968598,
           "time": 40.0821647644043,
           "trajectory": "Rabbits",
           "upper": 1.697965383529663
          },
          {
           "lower": 0.5263006567955018,
           "time": 40.18035888671875,
           "trajectory": "Rabbits",
           "upper": 1.6832296729087828
          },
          {
           "lower": 0.5212005943059921,
           "time": 40.27855682373047,
           "trajectory": "Rabbits",
           "upper": 1.65513117313385
          },
          {
           "lower": 0.5204062521457672,
           "time": 40.37675476074219,
           "trajectory": "Rabbits",
           "upper": 1.6790795803070069
          },
          {
           "lower": 0.5212742745876312,
           "time": 40.47494888305664,
           "trajectory": "Rabbits",
           "upper": 1.7225245833396912
          },
          {
           "lower": 0.5229991644620895,
           "time": 40.57314682006836,
           "trajectory": "Rabbits",
           "upper": 1.730085062980652
          },
          {
           "lower": 0.522838044166565,
           "time": 40.67134094238281,
           "trajectory": "Rabbits",
           "upper": 1.694386202096939
          },
          {
           "lower": 0.5160812020301819,
           "time": 40.76953887939453,
           "trajectory": "Rabbits",
           "upper": 1.6922270357608795
          },
          {
           "lower": 0.5036900967359543,
           "time": 40.86773681640625,
           "trajectory": "Rabbits",
           "upper": 1.7067781984806059
          },
          {
           "lower": 0.49137296676635744,
           "time": 40.9659309387207,
           "trajectory": "Rabbits",
           "upper": 1.730581349134445
          },
          {
           "lower": 0.48303412944078444,
           "time": 41.06412887573242,
           "trajectory": "Rabbits",
           "upper": 1.7478553891181945
          },
          {
           "lower": 0.48240396082401277,
           "time": 41.16232681274414,
           "trajectory": "Rabbits",
           "upper": 1.7600879192352294
          },
          {
           "lower": 0.478350593149662,
           "time": 41.260520935058594,
           "trajectory": "Rabbits",
           "upper": 1.764333701133728
          },
          {
           "lower": 0.4821579858660698,
           "time": 41.35871887207031,
           "trajectory": "Rabbits",
           "upper": 1.7599210083484647
          },
          {
           "lower": 0.47911573350429537,
           "time": 41.456912994384766,
           "trajectory": "Rabbits",
           "upper": 1.776980400085449
          },
          {
           "lower": 0.4739988923072815,
           "time": 41.555110931396484,
           "trajectory": "Rabbits",
           "upper": 1.786699366569519
          },
          {
           "lower": 0.4728016659617424,
           "time": 41.6533088684082,
           "trajectory": "Rabbits",
           "upper": 1.785502678155899
          },
          {
           "lower": 0.47174362689256666,
           "time": 41.751502990722656,
           "trajectory": "Rabbits",
           "upper": 1.7991522669792175
          },
          {
           "lower": 0.46309907287359237,
           "time": 41.849700927734375,
           "trajectory": "Rabbits",
           "upper": 1.7694347620010376
          },
          {
           "lower": 0.44931227415800096,
           "time": 41.947898864746094,
           "trajectory": "Rabbits",
           "upper": 1.780850529670715
          },
          {
           "lower": 0.44567641615867615,
           "time": 42.04609298706055,
           "trajectory": "Rabbits",
           "upper": 1.8043862819671628
          },
          {
           "lower": 0.44674141258001326,
           "time": 42.144290924072266,
           "trajectory": "Rabbits",
           "upper": 1.800585466623306
          },
          {
           "lower": 0.44667655378580096,
           "time": 42.24248504638672,
           "trajectory": "Rabbits",
           "upper": 1.7862511932849883
          },
          {
           "lower": 0.4480611220002174,
           "time": 42.34068298339844,
           "trajectory": "Rabbits",
           "upper": 1.7608599722385405
          },
          {
           "lower": 0.4508348643779755,
           "time": 42.438880920410156,
           "trajectory": "Rabbits",
           "upper": 1.724252951145172
          },
          {
           "lower": 0.45494675934314727,
           "time": 42.53707504272461,
           "trajectory": "Rabbits",
           "upper": 1.6898755848407745
          },
          {
           "lower": 0.45285946875810623,
           "time": 42.63526916503906,
           "trajectory": "Rabbits",
           "upper": 1.6663192331790924
          },
          {
           "lower": 0.44594485461711886,
           "time": 42.73346710205078,
           "trajectory": "Rabbits",
           "upper": 1.6706449449062346
          },
          {
           "lower": 0.4385737970471382,
           "time": 42.831661224365234,
           "trajectory": "Rabbits",
           "upper": 1.69396036863327
          },
          {
           "lower": 0.43317885547876356,
           "time": 42.92985916137695,
           "trajectory": "Rabbits",
           "upper": 1.701903975009918
          },
          {
           "lower": 0.42960587739944456,
           "time": 43.028053283691406,
           "trajectory": "Rabbits",
           "upper": 1.6650055527687073
          },
          {
           "lower": 0.4296691849827766,
           "time": 43.126251220703125,
           "trajectory": "Rabbits",
           "upper": 1.634255015850067
          },
          {
           "lower": 0.4290746435523033,
           "time": 43.224449157714844,
           "trajectory": "Rabbits",
           "upper": 1.6288334131240843
          },
          {
           "lower": 0.4286207392811775,
           "time": 43.3226432800293,
           "trajectory": "Rabbits",
           "upper": 1.6152874886989592
          },
          {
           "lower": 0.4312332525849342,
           "time": 43.420841217041016,
           "trajectory": "Rabbits",
           "upper": 1.5934741914272308
          },
          {
           "lower": 0.43520423769950867,
           "time": 43.519039154052734,
           "trajectory": "Rabbits",
           "upper": 1.563509178161621
          },
          {
           "lower": 0.4337076425552368,
           "time": 43.61723327636719,
           "trajectory": "Rabbits",
           "upper": 1.5209748685359954
          },
          {
           "lower": 0.44245827943086624,
           "time": 43.715431213378906,
           "trajectory": "Rabbits",
           "upper": 1.483392971754074
          },
          {
           "lower": 0.45230783224105836,
           "time": 43.81362533569336,
           "trajectory": "Rabbits",
           "upper": 1.4413735747337342
          },
          {
           "lower": 0.4630254492163658,
           "time": 43.91182327270508,
           "trajectory": "Rabbits",
           "upper": 1.4341596007347106
          },
          {
           "lower": 0.47416217923164367,
           "time": 44.0100212097168,
           "trajectory": "Rabbits",
           "upper": 1.4368768870830533
          },
          {
           "lower": 0.47718397676944735,
           "time": 44.10821533203125,
           "trajectory": "Rabbits",
           "upper": 1.4758596479892727
          },
          {
           "lower": 0.47828148752450944,
           "time": 44.20641326904297,
           "trajectory": "Rabbits",
           "upper": 1.5129901826381682
          },
          {
           "lower": 0.4808869779109955,
           "time": 44.30461120605469,
           "trajectory": "Rabbits",
           "upper": 1.5477491676807402
          },
          {
           "lower": 0.4719135418534279,
           "time": 44.40280532836914,
           "trajectory": "Rabbits",
           "upper": 1.582797646522522
          },
          {
           "lower": 0.4590594068169594,
           "time": 44.50100326538086,
           "trajectory": "Rabbits",
           "upper": 1.6263654887676238
          },
          {
           "lower": 0.44851022213697433,
           "time": 44.59919738769531,
           "trajectory": "Rabbits",
           "upper": 1.6408966422080993
          },
          {
           "lower": 0.44312494844198225,
           "time": 44.69739532470703,
           "trajectory": "Rabbits",
           "upper": 1.633244502544403
          },
          {
           "lower": 0.443962661921978,
           "time": 44.79559326171875,
           "trajectory": "Rabbits",
           "upper": 1.6598603188991543
          },
          {
           "lower": 0.43872047662734986,
           "time": 44.8937873840332,
           "trajectory": "Rabbits",
           "upper": 1.6537000775337218
          },
          {
           "lower": 0.4330864563584328,
           "time": 44.99198532104492,
           "trajectory": "Rabbits",
           "upper": 1.6327678859233856
          },
          {
           "lower": 0.4272132471203804,
           "time": 45.09018325805664,
           "trajectory": "Rabbits",
           "upper": 1.6633822619915006
          },
          {
           "lower": 0.4229541838169098,
           "time": 45.188377380371094,
           "trajectory": "Rabbits",
           "upper": 1.68935130238533
          },
          {
           "lower": 0.42015309184789656,
           "time": 45.28657531738281,
           "trajectory": "Rabbits",
           "upper": 1.7020507633686062
          },
          {
           "lower": 0.4154145985841751,
           "time": 45.384769439697266,
           "trajectory": "Rabbits",
           "upper": 1.719242763519287
          },
          {
           "lower": 0.41348221302032473,
           "time": 45.482967376708984,
           "trajectory": "Rabbits",
           "upper": 1.7336568772792815
          },
          {
           "lower": 0.4150035724043846,
           "time": 45.5811653137207,
           "trajectory": "Rabbits",
           "upper": 1.764562529325485
          },
          {
           "lower": 0.4149696618318558,
           "time": 45.679359436035156,
           "trajectory": "Rabbits",
           "upper": 1.8108898639678952
          },
          {
           "lower": 0.41395452320575715,
           "time": 45.77755355834961,
           "trajectory": "Rabbits",
           "upper": 1.824523389339447
          },
          {
           "lower": 0.4140619054436684,
           "time": 45.87575149536133,
           "trajectory": "Rabbits",
           "upper": 1.813973444700241
          },
          {
           "lower": 0.41541619300842286,
           "time": 45.97394561767578,
           "trajectory": "Rabbits",
           "upper": 1.8230098664760586
          },
          {
           "lower": 0.4171424895524979,
           "time": 46.0721435546875,
           "trajectory": "Rabbits",
           "upper": 1.8459568142890928
          },
          {
           "lower": 0.42002087384462355,
           "time": 46.17033767700195,
           "trajectory": "Rabbits",
           "upper": 1.8654019176959988
          },
          {
           "lower": 0.42402760237455367,
           "time": 46.26853561401367,
           "trajectory": "Rabbits",
           "upper": 1.8877334773540495
          },
          {
           "lower": 0.42738759964704515,
           "time": 46.36673355102539,
           "trajectory": "Rabbits",
           "upper": 1.902269196510315
          },
          {
           "lower": 0.4318558230996132,
           "time": 46.464927673339844,
           "trajectory": "Rabbits",
           "upper": 1.8940174400806427
          },
          {
           "lower": 0.43740634620189667,
           "time": 46.56312561035156,
           "trajectory": "Rabbits",
           "upper": 1.8821656048297881
          },
          {
           "lower": 0.4447771281003952,
           "time": 46.66132354736328,
           "trajectory": "Rabbits",
           "upper": 1.882305562496185
          },
          {
           "lower": 0.4558165818452835,
           "time": 46.759517669677734,
           "trajectory": "Rabbits",
           "upper": 1.9225153148174283
          },
          {
           "lower": 0.4679217264056206,
           "time": 46.85771560668945,
           "trajectory": "Rabbits",
           "upper": 1.9554853141307829
          },
          {
           "lower": 0.48110533952713014,
           "time": 46.955909729003906,
           "trajectory": "Rabbits",
           "upper": 1.9698303520679474
          },
          {
           "lower": 0.49538414031267164,
           "time": 47.054107666015625,
           "trajectory": "Rabbits",
           "upper": 1.9792747676372526
          },
          {
           "lower": 0.5080586045980453,
           "time": 47.152305603027344,
           "trajectory": "Rabbits",
           "upper": 1.967767035961151
          },
          {
           "lower": 0.5129945755004883,
           "time": 47.2504997253418,
           "trajectory": "Rabbits",
           "upper": 1.9391654551029203
          },
          {
           "lower": 0.5108693033456803,
           "time": 47.348697662353516,
           "trajectory": "Rabbits",
           "upper": 1.8988539218902585
          },
          {
           "lower": 0.4991100400686264,
           "time": 47.446895599365234,
           "trajectory": "Rabbits",
           "upper": 1.8478488326072688
          },
          {
           "lower": 0.5031557589769363,
           "time": 47.54508972167969,
           "trajectory": "Rabbits",
           "upper": 1.8340315818786619
          },
          {
           "lower": 0.5088341951370239,
           "time": 47.643287658691406,
           "trajectory": "Rabbits",
           "upper": 1.8401550590991973
          },
          {
           "lower": 0.5159552216529846,
           "time": 47.74148178100586,
           "trajectory": "Rabbits",
           "upper": 1.8687605321407317
          },
          {
           "lower": 0.5092094346880913,
           "time": 47.83967971801758,
           "trajectory": "Rabbits",
           "upper": 1.8707273721694944
          },
          {
           "lower": 0.5044783890247345,
           "time": 47.9378776550293,
           "trajectory": "Rabbits",
           "upper": 1.8262719750404357
          },
          {
           "lower": 0.5081981033086777,
           "time": 48.03607177734375,
           "trajectory": "Rabbits",
           "upper": 1.792725670337677
          },
          {
           "lower": 0.5200009018182754,
           "time": 48.13426971435547,
           "trajectory": "Rabbits",
           "upper": 1.774888491630554
          },
          {
           "lower": 0.5272310882806778,
           "time": 48.23246765136719,
           "trajectory": "Rabbits",
           "upper": 1.715480238199234
          },
          {
           "lower": 0.5269260108470917,
           "time": 48.33066177368164,
           "trajectory": "Rabbits",
           "upper": 1.6720775485038757
          },
          {
           "lower": 0.5233244180679322,
           "time": 48.42885971069336,
           "trajectory": "Rabbits",
           "upper": 1.6669860184192655
          },
          {
           "lower": 0.5214826852083206,
           "time": 48.52705383300781,
           "trajectory": "Rabbits",
           "upper": 1.630444073677063
          },
          {
           "lower": 0.5193063199520112,
           "time": 48.62525177001953,
           "trajectory": "Rabbits",
           "upper": 1.5780684947967527
          },
          {
           "lower": 0.5129514932632446,
           "time": 48.72344970703125,
           "trajectory": "Rabbits",
           "upper": 1.5786680579185486
          },
          {
           "lower": 0.500324958562851,
           "time": 48.8216438293457,
           "trajectory": "Rabbits",
           "upper": 1.6250803112983703
          },
          {
           "lower": 0.488868248462677,
           "time": 48.919837951660156,
           "trajectory": "Rabbits",
           "upper": 1.6607791423797607
          },
          {
           "lower": 0.486769101023674,
           "time": 49.018035888671875,
           "trajectory": "Rabbits",
           "upper": 1.6902902007102965
          },
          {
           "lower": 0.48539797216653824,
           "time": 49.11623001098633,
           "trajectory": "Rabbits",
           "upper": 1.6994019508361815
          },
          {
           "lower": 0.4866256728768349,
           "time": 49.21442794799805,
           "trajectory": "Rabbits",
           "upper": 1.7332690715789794
          },
          {
           "lower": 0.48455681949853896,
           "time": 49.3126220703125,
           "trajectory": "Rabbits",
           "upper": 1.7707481265068052
          },
          {
           "lower": 0.48429418802261354,
           "time": 49.41082000732422,
           "trajectory": "Rabbits",
           "upper": 1.792945963144302
          },
          {
           "lower": 0.4749647453427315,
           "time": 49.50901794433594,
           "trajectory": "Rabbits",
           "upper": 1.8070252597331997
          },
          {
           "lower": 0.4730565622448921,
           "time": 49.60721206665039,
           "trajectory": "Rabbits",
           "upper": 1.812970924377441
          },
          {
           "lower": 0.4718085706233978,
           "time": 49.70541000366211,
           "trajectory": "Rabbits",
           "upper": 1.8213407933712003
          },
          {
           "lower": 0.46968354731798173,
           "time": 49.80360794067383,
           "trajectory": "Rabbits",
           "upper": 1.830135244131088
          },
          {
           "lower": 0.46901567131280897,
           "time": 49.90180206298828,
           "trajectory": "Rabbits",
           "upper": 1.8315934181213378
          },
          {
           "lower": 0.45796349793672564,
           "time": 50,
           "trajectory": "Rabbits",
           "upper": 1.8251835584640501
          },
          {
           "lower": 0.6978829830884934,
           "time": 1,
           "trajectory": "Wolves",
           "upper": 0.8785625755786896
          },
          {
           "lower": 0.6641233384609222,
           "time": 1.0981963872909546,
           "trajectory": "Wolves",
           "upper": 0.8490899831056594
          },
          {
           "lower": 0.6312833309173584,
           "time": 1.1963927745819092,
           "trajectory": "Wolves",
           "upper": 0.8187080174684525
          },
          {
           "lower": 0.5993284106254577,
           "time": 1.2945891618728638,
           "trajectory": "Wolves",
           "upper": 0.7882281363010406
          },
          {
           "lower": 0.5684530228376389,
           "time": 1.3927855491638184,
           "trajectory": "Wolves",
           "upper": 0.7585157841444015
          },
          {
           "lower": 0.5389212429523468,
           "time": 1.490981936454773,
           "trajectory": "Wolves",
           "upper": 0.728909558057785
          },
          {
           "lower": 0.508569210767746,
           "time": 1.5891783237457275,
           "trajectory": "Wolves",
           "upper": 0.699645733833313
          },
          {
           "lower": 0.47970481812953947,
           "time": 1.6873748302459717,
           "trajectory": "Wolves",
           "upper": 0.6709146112203598
          },
          {
           "lower": 0.4523730292916298,
           "time": 1.7855710983276367,
           "trajectory": "Wolves",
           "upper": 0.6427964657545089
          },
          {
           "lower": 0.4274070724844933,
           "time": 1.8837674856185913,
           "trajectory": "Wolves",
           "upper": 0.6151410669088363
          },
          {
           "lower": 0.4040606811642647,
           "time": 1.981963872909546,
           "trajectory": "Wolves",
           "upper": 0.5883755654096603
          },
          {
           "lower": 0.38189286440610887,
           "time": 2.08016037940979,
           "trajectory": "Wolves",
           "upper": 0.5625755846500397
          },
          {
           "lower": 0.3611419662833214,
           "time": 2.178356647491455,
           "trajectory": "Wolves",
           "upper": 0.5377932578325272
          },
          {
           "lower": 0.3418260633945465,
           "time": 2.276553153991699,
           "trajectory": "Wolves",
           "upper": 0.5140648692846298
          },
          {
           "lower": 0.32434320002794265,
           "time": 2.3747494220733643,
           "trajectory": "Wolves",
           "upper": 0.4914118558168411
          },
          {
           "lower": 0.308052234351635,
           "time": 2.4729459285736084,
           "trajectory": "Wolves",
           "upper": 0.46984291523694993
          },
          {
           "lower": 0.292301145195961,
           "time": 2.5711421966552734,
           "trajectory": "Wolves",
           "upper": 0.44935783445835115
          },
          {
           "lower": 0.2778008684515953,
           "time": 2.6693387031555176,
           "trajectory": "Wolves",
           "upper": 0.4301173686981201
          },
          {
           "lower": 0.26438556164503096,
           "time": 2.7675349712371826,
           "trajectory": "Wolves",
           "upper": 0.4124217718839645
          },
          {
           "lower": 0.2520015753805637,
           "time": 2.8657314777374268,
           "trajectory": "Wolves",
           "upper": 0.3966095671057701
          },
          {
           "lower": 0.2405976265668869,
           "time": 2.963927745819092,
           "trajectory": "Wolves",
           "upper": 0.3818202704191208
          },
          {
           "lower": 0.23012515902519226,
           "time": 3.062124252319336,
           "trajectory": "Wolves",
           "upper": 0.36814202964305875
          },
          {
           "lower": 0.2205386035144329,
           "time": 3.160320520401001,
           "trajectory": "Wolves",
           "upper": 0.355433976650238
          },
          {
           "lower": 0.2117955356836319,
           "time": 3.258517026901245,
           "trajectory": "Wolves",
           "upper": 0.3443806380033493
          },
          {
           "lower": 0.20385783836245536,
           "time": 3.3567135334014893,
           "trajectory": "Wolves",
           "upper": 0.3340659737586975
          },
          {
           "lower": 0.19668957069516183,
           "time": 3.4549100399017334,
           "trajectory": "Wolves",
           "upper": 0.3246395543217659
          },
          {
           "lower": 0.19026003256440163,
           "time": 3.5531063079833984,
           "trajectory": "Wolves",
           "upper": 0.31551031321287154
          },
          {
           "lower": 0.1845422215759754,
           "time": 3.6513028144836426,
           "trajectory": "Wolves",
           "upper": 0.30778101086616516
          },
          {
           "lower": 0.17951351404190063,
           "time": 3.7494990825653076,
           "trajectory": "Wolves",
           "upper": 0.3014834031462669
          },
          {
           "lower": 0.17515575438737868,
           "time": 3.8476955890655518,
           "trajectory": "Wolves",
           "upper": 0.2960398867726326
          },
          {
           "lower": 0.17145556807518006,
           "time": 3.945891857147217,
           "trajectory": "Wolves",
           "upper": 0.29144793599843977
          },
          {
           "lower": 0.1682551011443138,
           "time": 4.044088363647461,
           "trajectory": "Wolves",
           "upper": 0.2877653166651726
          },
          {
           "lower": 0.16566150188446044,
           "time": 4.142284393310547,
           "trajectory": "Wolves",
           "upper": 0.28693538904190063
          },
          {
           "lower": 0.16270144805312156,
           "time": 4.240480899810791,
           "trajectory": "Wolves",
           "upper": 0.2872831955552101
          },
          {
           "lower": 0.15977166518568992,
           "time": 4.338677406311035,
           "trajectory": "Wolves",
           "upper": 0.2855072125792503
          },
          {
           "lower": 0.15745530575513839,
           "time": 4.436873435974121,
           "trajectory": "Wolves",
           "upper": 0.28406711816787716
          },
          {
           "lower": 0.15635407567024232,
           "time": 4.535069942474365,
           "trajectory": "Wolves",
           "upper": 0.28420774787664416
          },
          {
           "lower": 0.1553159050643444,
           "time": 4.633266448974609,
           "trajectory": "Wolves",
           "upper": 0.2906181916594505
          },
          {
           "lower": 0.15418352782726288,
           "time": 4.7314629554748535,
           "trajectory": "Wolves",
           "upper": 0.2981049165129661
          },
          {
           "lower": 0.15248012393712998,
           "time": 4.8296589851379395,
           "trajectory": "Wolves",
           "upper": 0.30431753545999524
          },
          {
           "lower": 0.1513179808855057,
           "time": 4.927855491638184,
           "trajectory": "Wolves",
           "upper": 0.31276321113109584
          },
          {
           "lower": 0.150708919018507,
           "time": 5.026051998138428,
           "trajectory": "Wolves",
           "upper": 0.3227651119232177
          },
          {
           "lower": 0.15067099034786224,
           "time": 5.124248504638672,
           "trajectory": "Wolves",
           "upper": 0.33444448262453075
          },
          {
           "lower": 0.15122820064425468,
           "time": 5.222444534301758,
           "trajectory": "Wolves",
           "upper": 0.3479314237833023
          },
          {
           "lower": 0.1519061431288719,
           "time": 5.320641040802002,
           "trajectory": "Wolves",
           "upper": 0.3636187583208084
          },
          {
           "lower": 0.15300024896860123,
           "time": 5.418837547302246,
           "trajectory": "Wolves",
           "upper": 0.3816536068916321
          },
          {
           "lower": 0.1547201916575432,
           "time": 5.51703405380249,
           "trajectory": "Wolves",
           "upper": 0.40196546912193293
          },
          {
           "lower": 0.15870047509670257,
           "time": 5.615230083465576,
           "trajectory": "Wolves",
           "upper": 0.425565093755722
          },
          {
           "lower": 0.16432776749134065,
           "time": 5.7134270668029785,
           "trajectory": "Wolves",
           "upper": 0.45279376059770576
          },
          {
           "lower": 0.16942375674843788,
           "time": 5.811623573303223,
           "trajectory": "Wolves",
           "upper": 0.4828007921576499
          },
          {
           "lower": 0.175539580732584,
           "time": 5.909820079803467,
           "trajectory": "Wolves",
           "upper": 0.5155815362930297
          },
          {
           "lower": 0.18278886899352073,
           "time": 6.008016109466553,
           "trajectory": "Wolves",
           "upper": 0.5510401755571365
          },
          {
           "lower": 0.1913030579686165,
           "time": 6.106212615966797,
           "trajectory": "Wolves",
           "upper": 0.5889679074287414
          },
          {
           "lower": 0.20104168206453324,
           "time": 6.204409122467041,
           "trajectory": "Wolves",
           "upper": 0.6290197759866714
          },
          {
           "lower": 0.21211343184113501,
           "time": 6.302605628967285,
           "trajectory": "Wolves",
           "upper": 0.6707020252943038
          },
          {
           "lower": 0.22486768662929535,
           "time": 6.400801658630371,
           "trajectory": "Wolves",
           "upper": 0.7164292693138121
          },
          {
           "lower": 0.239505136013031,
           "time": 6.498998165130615,
           "trajectory": "Wolves",
           "upper": 0.7632388323545456
          },
          {
           "lower": 0.256245319545269,
           "time": 6.597194671630859,
           "trajectory": "Wolves",
           "upper": 0.8089749157428742
          },
          {
           "lower": 0.27532428354024885,
           "time": 6.6953911781311035,
           "trajectory": "Wolves",
           "upper": 0.8524002462625504
          },
          {
           "lower": 0.2969896480441093,
           "time": 6.7935872077941895,
           "trajectory": "Wolves",
           "upper": 0.8927618145942687
          },
          {
           "lower": 0.32149026095867156,
           "time": 6.891783714294434,
           "trajectory": "Wolves",
           "upper": 0.928539514541626
          },
          {
           "lower": 0.34906338155269623,
           "time": 6.989980220794678,
           "trajectory": "Wolves",
           "upper": 0.9584593564271926
          },
          {
           "lower": 0.37991348952054976,
           "time": 7.088176727294922,
           "trajectory": "Wolves",
           "upper": 0.9817579507827758
          },
          {
           "lower": 0.4126221776008606,
           "time": 7.186372756958008,
           "trajectory": "Wolves",
           "upper": 0.9952844083309174
          },
          {
           "lower": 0.4471473842859268,
           "time": 7.284569263458252,
           "trajectory": "Wolves",
           "upper": 0.999888813495636
          },
          {
           "lower": 0.4840144827961922,
           "time": 7.382765769958496,
           "trajectory": "Wolves",
           "upper": 0.9991763532161713
          },
          {
           "lower": 0.5238396972417831,
           "time": 7.48096227645874,
           "trajectory": "Wolves",
           "upper": 0.9945943206548691
          },
          {
           "lower": 0.5663493752479554,
           "time": 7.579158306121826,
           "trajectory": "Wolves",
           "upper": 0.996418884396553
          },
          {
           "lower": 0.6110985726118088,
           "time": 7.67735481262207,
           "trajectory": "Wolves",
           "upper": 0.9992064297199249
          },
          {
           "lower": 0.6574589967727661,
           "time": 7.7755513191223145,
           "trajectory": "Wolves",
           "upper": 1.000333058834076
          },
          {
           "lower": 0.7046235054731369,
           "time": 7.873747825622559,
           "trajectory": "Wolves",
           "upper": 1.0065573751926422
          },
          {
           "lower": 0.7525284260511398,
           "time": 7.9719438552856445,
           "trajectory": "Wolves",
           "upper": 1.0058083832263947
          },
          {
           "lower": 0.7894466161727905,
           "time": 8.070140838623047,
           "trajectory": "Wolves",
           "upper": 1.0090785443782806
          },
          {
           "lower": 0.817705824971199,
           "time": 8.168336868286133,
           "trajectory": "Wolves",
           "upper": 1.0075386762619019
          },
          {
           "lower": 0.8005896002054215,
           "time": 8.266533851623535,
           "trajectory": "Wolves",
           "upper": 1.0106054842472076
          },
          {
           "lower": 0.7775146216154099,
           "time": 8.364729881286621,
           "trajectory": "Wolves",
           "upper": 1.0060164749622345
          },
          {
           "lower": 0.7466731667518616,
           "time": 8.462926864624023,
           "trajectory": "Wolves",
           "upper": 1.002402228116989
          },
          {
           "lower": 0.7160019606351853,
           "time": 8.56112289428711,
           "trajectory": "Wolves",
           "upper": 1.0037639915943146
          },
          {
           "lower": 0.6857686698436737,
           "time": 8.659318923950195,
           "trajectory": "Wolves",
           "upper": 1.0013867408037185
          },
          {
           "lower": 0.6561907947063446,
           "time": 8.757515907287598,
           "trajectory": "Wolves",
           "upper": 1.0036586046218872
          },
          {
           "lower": 0.6274442553520203,
           "time": 8.855710983276367,
           "trajectory": "Wolves",
           "upper": 1.0084400415420531
          },
          {
           "lower": 0.5996661454439163,
           "time": 8.953907012939453,
           "trajectory": "Wolves",
           "upper": 1.0045182228088378
          },
          {
           "lower": 0.57296042740345,
           "time": 9.052103996276855,
           "trajectory": "Wolves",
           "upper": 0.9934995383024215
          },
          {
           "lower": 0.547403609752655,
           "time": 9.150300025939941,
           "trajectory": "Wolves",
           "upper": 0.9773024916648865
          },
          {
           "lower": 0.5230468422174454,
           "time": 9.248497009277344,
           "trajectory": "Wolves",
           "upper": 0.9568425595760346
          },
          {
           "lower": 0.49992330372333527,
           "time": 9.34669303894043,
           "trajectory": "Wolves",
           "upper": 0.9327404618263244
          },
          {
           "lower": 0.478048375248909,
           "time": 9.444889068603516,
           "trajectory": "Wolves",
           "upper": 0.9057140052318573
          },
          {
           "lower": 0.45742707401514054,
           "time": 9.543086051940918,
           "trajectory": "Wolves",
           "upper": 0.8764394521713257
          },
          {
           "lower": 0.43804881274700164,
           "time": 9.64128303527832,
           "trajectory": "Wolves",
           "upper": 0.8455302238464355
          },
          {
           "lower": 0.41914495676755903,
           "time": 9.739479064941406,
           "trajectory": "Wolves",
           "upper": 0.8135338127613067
          },
          {
           "lower": 0.39964639097452165,
           "time": 9.837676048278809,
           "trajectory": "Wolves",
           "upper": 0.7809252381324767
          },
          {
           "lower": 0.38090849965810775,
           "time": 9.935872077941895,
           "trajectory": "Wolves",
           "upper": 0.7481121331453322
          },
          {
           "lower": 0.36345911026000977,
           "time": 10.034069061279297,
           "trajectory": "Wolves",
           "upper": 0.7154356390237807
          },
          {
           "lower": 0.3472597599029541,
           "time": 10.132265090942383,
           "trajectory": "Wolves",
           "upper": 0.6831769913434981
          },
          {
           "lower": 0.3300993725657463,
           "time": 10.230461120605469,
           "trajectory": "Wolves",
           "upper": 0.6515639722347258
          },
          {
           "lower": 0.3140900060534477,
           "time": 10.328658103942871,
           "trajectory": "Wolves",
           "upper": 0.6220583736896513
          },
          {
           "lower": 0.29845099747180937,
           "time": 10.426854133605957,
           "trajectory": "Wolves",
           "upper": 0.5940448939800261
          },
          {
           "lower": 0.2848609298467636,
           "time": 10.525050163269043,
           "trajectory": "Wolves",
           "upper": 0.5669990092515944
          },
          {
           "lower": 0.2750711590051651,
           "time": 10.623247146606445,
           "trajectory": "Wolves",
           "upper": 0.5409881681203841
          },
          {
           "lower": 0.2662804305553436,
           "time": 10.721443176269531,
           "trajectory": "Wolves",
           "upper": 0.5160592570900916
          },
          {
           "lower": 0.2568549528717995,
           "time": 10.819640159606934,
           "trajectory": "Wolves",
           "upper": 0.4922410160303115
          },
          {
           "lower": 0.2453808605670929,
           "time": 10.91783618927002,
           "trajectory": "Wolves",
           "upper": 0.4695479169487952
          },
          {
           "lower": 0.23483706042170524,
           "time": 11.016032218933105,
           "trajectory": "Wolves",
           "upper": 0.44798238128423684
          },
          {
           "lower": 0.22517933696508408,
           "time": 11.114229202270508,
           "trajectory": "Wolves",
           "upper": 0.4275363013148307
          },
          {
           "lower": 0.21632617264986037,
           "time": 11.212425231933594,
           "trajectory": "Wolves",
           "upper": 0.40819491893053045
          },
          {
           "lower": 0.20827872157096863,
           "time": 11.31062126159668,
           "trajectory": "Wolves",
           "upper": 0.38993706703186026
          },
          {
           "lower": 0.20180438086390495,
           "time": 11.408818244934082,
           "trajectory": "Wolves",
           "upper": 0.372736433148384
          },
          {
           "lower": 0.1948359914124012,
           "time": 11.507014274597168,
           "trajectory": "Wolves",
           "upper": 0.3565643206238746
          },
          {
           "lower": 0.1886773332953453,
           "time": 11.60521125793457,
           "trajectory": "Wolves",
           "upper": 0.34142603725194925
          },
          {
           "lower": 0.1822824612259865,
           "time": 11.703407287597656,
           "trajectory": "Wolves",
           "upper": 0.3280029445886612
          },
          {
           "lower": 0.1768182784318924,
           "time": 11.801603317260742,
           "trajectory": "Wolves",
           "upper": 0.3155541613698006
          },
          {
           "lower": 0.17241908088326455,
           "time": 11.899800300598145,
           "trajectory": "Wolves",
           "upper": 0.30780972689390185
          },
          {
           "lower": 0.16910969465970993,
           "time": 11.99799633026123,
           "trajectory": "Wolves",
           "upper": 0.29929260164499283
          },
          {
           "lower": 0.16727722436189651,
           "time": 12.096192359924316,
           "trajectory": "Wolves",
           "upper": 0.30073579549789425
          },
          {
           "lower": 0.16588936671614646,
           "time": 12.194389343261719,
           "trajectory": "Wolves",
           "upper": 0.3032856702804565
          },
          {
           "lower": 0.1639499694108963,
           "time": 12.292585372924805,
           "trajectory": "Wolves",
           "upper": 0.3007561579346657
          },
          {
           "lower": 0.1626553200185299,
           "time": 12.390782356262207,
           "trajectory": "Wolves",
           "upper": 0.30875262916088103
          },
          {
           "lower": 0.1620188243687153,
           "time": 12.488978385925293,
           "trajectory": "Wolves",
           "upper": 0.3202205196022987
          },
          {
           "lower": 0.16206154301762582,
           "time": 12.587174415588379,
           "trajectory": "Wolves",
           "upper": 0.334099380671978
          },
          {
           "lower": 0.16281294375658034,
           "time": 12.685371398925781,
           "trajectory": "Wolves",
           "upper": 0.3500352308154106
          },
          {
           "lower": 0.1627533718943596,
           "time": 12.783567428588867,
           "trajectory": "Wolves",
           "upper": 0.3681897342205047
          },
          {
           "lower": 0.1629971034824848,
           "time": 12.881763458251953,
           "trajectory": "Wolves",
           "upper": 0.3887231931090354
          },
          {
           "lower": 0.16158675104379655,
           "time": 12.979960441589355,
           "trajectory": "Wolves",
           "upper": 0.41178561300039285
          },
          {
           "lower": 0.16041808053851128,
           "time": 13.078156471252441,
           "trajectory": "Wolves",
           "upper": 0.4375055462121963
          },
          {
           "lower": 0.15754736736416816,
           "time": 13.176353454589844,
           "trajectory": "Wolves",
           "upper": 0.46597421467304223
          },
          {
           "lower": 0.1552147835493088,
           "time": 13.27454948425293,
           "trajectory": "Wolves",
           "upper": 0.4972257941961288
          },
          {
           "lower": 0.15341154709458352,
           "time": 13.372745513916016,
           "trajectory": "Wolves",
           "upper": 0.5312163263559341
          },
          {
           "lower": 0.15204961746931075,
           "time": 13.470942497253418,
           "trajectory": "Wolves",
           "upper": 0.5678020358085631
          },
          {
           "lower": 0.15124001801013948,
           "time": 13.569138526916504,
           "trajectory": "Wolves",
           "upper": 0.6067143827676772
          },
          {
           "lower": 0.15099834725260736,
           "time": 13.66733455657959,
           "trajectory": "Wolves",
           "upper": 0.6475424587726591
          },
          {
           "lower": 0.15297048538923264,
           "time": 13.765531539916992,
           "trajectory": "Wolves",
           "upper": 0.6897222399711608
          },
          {
           "lower": 0.15530856102705,
           "time": 13.863727569580078,
           "trajectory": "Wolves",
           "upper": 0.7325359314680098
          },
          {
           "lower": 0.154922217130661,
           "time": 13.96192455291748,
           "trajectory": "Wolves",
           "upper": 0.775128862261772
          },
          {
           "lower": 0.1550935097038746,
           "time": 14.060120582580566,
           "trajectory": "Wolves",
           "upper": 0.8165419191122054
          },
          {
           "lower": 0.15602648109197617,
           "time": 14.158316612243652,
           "trajectory": "Wolves",
           "upper": 0.8557619512081145
          },
          {
           "lower": 0.15872434675693511,
           "time": 14.256513595581055,
           "trajectory": "Wolves",
           "upper": 0.8917760968208313
          },
          {
           "lower": 0.1621825523674488,
           "time": 14.35470962524414,
           "trajectory": "Wolves",
           "upper": 0.9236480355262755
          },
          {
           "lower": 0.1664690352976322,
           "time": 14.452905654907227,
           "trajectory": "Wolves",
           "upper": 0.9505664110183715
          },
          {
           "lower": 0.1716640517115593,
           "time": 14.551102638244629,
           "trajectory": "Wolves",
           "upper": 0.9747474461793899
          },
          {
           "lower": 0.17786126136779784,
           "time": 14.649298667907715,
           "trajectory": "Wolves",
           "upper": 0.9923914164304733
          },
          {
           "lower": 0.1851704627275467,
           "time": 14.747495651245117,
           "trajectory": "Wolves",
           "upper": 0.9977774322032928
          },
          {
           "lower": 0.19371743574738504,
           "time": 14.845691680908203,
           "trajectory": "Wolves",
           "upper": 0.9930166512727737
          },
          {
           "lower": 0.20364718586206437,
           "time": 14.943887710571289,
           "trajectory": "Wolves",
           "upper": 0.9828639149665832
          },
          {
           "lower": 0.21503195986151696,
           "time": 15.042084693908691,
           "trajectory": "Wolves",
           "upper": 0.9812245339155197
          },
          {
           "lower": 0.22812195122241974,
           "time": 15.140280723571777,
           "trajectory": "Wolves",
           "upper": 0.9861322522163392
          },
          {
           "lower": 0.24313153102993965,
           "time": 15.238476753234863,
           "trajectory": "Wolves",
           "upper": 0.9755009979009628
          },
          {
           "lower": 0.2602828934788704,
           "time": 15.336673736572266,
           "trajectory": "Wolves",
           "upper": 0.9892365634441376
          },
          {
           "lower": 0.27981317788362503,
           "time": 15.434869766235352,
           "trajectory": "Wolves",
           "upper": 0.9977049201726913
          },
          {
           "lower": 0.3019690975546837,
           "time": 15.533066749572754,
           "trajectory": "Wolves",
           "upper": 0.9995893061161041
          },
          {
           "lower": 0.32699553817510607,
           "time": 15.63126277923584,
           "trajectory": "Wolves",
           "upper": 0.9988284707069397
          },
          {
           "lower": 0.3521470993757248,
           "time": 15.729458808898926,
           "trajectory": "Wolves",
           "upper": 0.9993571370840073
          },
          {
           "lower": 0.37960807234048843,
           "time": 15.827655792236328,
           "trajectory": "Wolves",
           "upper": 1.0005356311798095
          },
          {
           "lower": 0.40954194217920303,
           "time": 15.925851821899414,
           "trajectory": "Wolves",
           "upper": 1.0013312101364136
          },
          {
           "lower": 0.4423285946249962,
           "time": 16.0240478515625,
           "trajectory": "Wolves",
           "upper": 1.0075413048267365
          },
          {
           "lower": 0.4781190812587738,
           "time": 16.122243881225586,
           "trajectory": "Wolves",
           "upper": 1.0118739128112793
          },
          {
           "lower": 0.516811516880989,
           "time": 16.220441818237305,
           "trajectory": "Wolves",
           "upper": 1.0101054847240447
          },
          {
           "lower": 0.5441705912351609,
           "time": 16.31863784790039,
           "trajectory": "Wolves",
           "upper": 1.0067384481430053
          },
          {
           "lower": 0.568549570441246,
           "time": 16.416833877563477,
           "trajectory": "Wolves",
           "upper": 1.002038586139679
          },
          {
           "lower": 0.5429022997617722,
           "time": 16.515029907226562,
           "trajectory": "Wolves",
           "upper": 1.0011488199234009
          },
          {
           "lower": 0.5336899936199189,
           "time": 16.61322593688965,
           "trajectory": "Wolves",
           "upper": 0.9971868366003036
          },
          {
           "lower": 0.5072744593024254,
           "time": 16.711421966552734,
           "trajectory": "Wolves",
           "upper": 0.9897120624780655
          },
          {
           "lower": 0.48223721534013747,
           "time": 16.80961799621582,
           "trajectory": "Wolves",
           "upper": 0.9831840842962265
          },
          {
           "lower": 0.4597930729389191,
           "time": 16.907814025878906,
           "trajectory": "Wolves",
           "upper": 0.9957805424928665
          },
          {
           "lower": 0.4402854099869728,
           "time": 17.006011962890625,
           "trajectory": "Wolves",
           "upper": 1.0009864032268525
          },
          {
           "lower": 0.42200980633497237,
           "time": 17.10420799255371,
           "trajectory": "Wolves",
           "upper": 1.0010557353496552
          },
          {
           "lower": 0.40494498014450075,
           "time": 17.202404022216797,
           "trajectory": "Wolves",
           "upper": 0.9978171199560165
          },
          {
           "lower": 0.3890667766332626,
           "time": 17.300600051879883,
           "trajectory": "Wolves",
           "upper": 0.9965868800878525
          },
          {
           "lower": 0.3743485063314438,
           "time": 17.39879608154297,
           "trajectory": "Wolves",
           "upper": 0.998455336689949
          },
          {
           "lower": 0.3607614189386368,
           "time": 17.496994018554688,
           "trajectory": "Wolves",
           "upper": 0.9998154699802398
          },
          {
           "lower": 0.3482774034142494,
           "time": 17.595190048217773,
           "trajectory": "Wolves",
           "upper": 1.0002733141183853
          },
          {
           "lower": 0.3368685841560364,
           "time": 17.69338607788086,
           "trajectory": "Wolves",
           "upper": 0.9956602454185486
          },
          {
           "lower": 0.3265078768134117,
           "time": 17.791584014892578,
           "trajectory": "Wolves",
           "upper": 0.9811929523944855
          },
          {
           "lower": 0.3171424388885498,
           "time": 17.889780044555664,
           "trajectory": "Wolves",
           "upper": 0.9618608713150024
          },
          {
           "lower": 0.3085785865783691,
           "time": 17.98797607421875,
           "trajectory": "Wolves",
           "upper": 0.9382475227117538
          },
          {
           "lower": 0.3010013967752457,
           "time": 18.086172103881836,
           "trajectory": "Wolves",
           "upper": 0.9111802756786347
          },
          {
           "lower": 0.2920254796743393,
           "time": 18.184368133544922,
           "trajectory": "Wolves",
           "upper": 0.8814419984817505
          },
          {
           "lower": 0.28120449781417844,
           "time": 18.28256607055664,
           "trajectory": "Wolves",
           "upper": 0.8504221975803375
          },
          {
           "lower": 0.26939221322536466,
           "time": 18.380762100219727,
           "trajectory": "Wolves",
           "upper": 0.8195193082094192
          },
          {
           "lower": 0.25854006707668303,
           "time": 18.478958129882812,
           "trajectory": "Wolves",
           "upper": 0.7879701435565949
          },
          {
           "lower": 0.25412780195474627,
           "time": 18.57715606689453,
           "trajectory": "Wolves",
           "upper": 0.7561036467552185
          },
          {
           "lower": 0.2500698037445545,
           "time": 18.675352096557617,
           "trajectory": "Wolves",
           "upper": 0.7242607533931732
          },
          {
           "lower": 0.24498572200536728,
           "time": 18.773548126220703,
           "trajectory": "Wolves",
           "upper": 0.692724061012268
          },
          {
           "lower": 0.23654634952545167,
           "time": 18.87174415588379,
           "trajectory": "Wolves",
           "upper": 0.6617236942052841
          },
          {
           "lower": 0.22896385863423346,
           "time": 18.969940185546875,
           "trajectory": "Wolves",
           "upper": 0.6314462453126907
          },
          {
           "lower": 0.22203873470425606,
           "time": 19.06813621520996,
           "trajectory": "Wolves",
           "upper": 0.602038112282753
          },
          {
           "lower": 0.2138136386871338,
           "time": 19.166332244873047,
           "trajectory": "Wolves",
           "upper": 0.5736097812652587
          },
          {
           "lower": 0.20605550929903985,
           "time": 19.264528274536133,
           "trajectory": "Wolves",
           "upper": 0.5462440490722655
          },
          {
           "lower": 0.20027177259325982,
           "time": 19.36272621154785,
           "trajectory": "Wolves",
           "upper": 0.5199971854686737
          },
          {
           "lower": 0.19767072200775146,
           "time": 19.460922241210938,
           "trajectory": "Wolves",
           "upper": 0.49490585774183266
          },
          {
           "lower": 0.19202626794576644,
           "time": 19.559118270874023,
           "trajectory": "Wolves",
           "upper": 0.4709893852472305
          },
          {
           "lower": 0.18630552366375924,
           "time": 19.65731430053711,
           "trajectory": "Wolves",
           "upper": 0.44825136810541144
          },
          {
           "lower": 0.1812824599444866,
           "time": 19.755510330200195,
           "trajectory": "Wolves",
           "upper": 0.42668551057577125
          },
          {
           "lower": 0.17693950831890107,
           "time": 19.853708267211914,
           "trajectory": "Wolves",
           "upper": 0.40627554655075065
          },
          {
           "lower": 0.17324449941515924,
           "time": 19.951904296875,
           "trajectory": "Wolves",
           "upper": 0.4030626893043518
          },
          {
           "lower": 0.1699801467359066,
           "time": 20.050100326538086,
           "trajectory": "Wolves",
           "upper": 0.41938123404979705
          },
          {
           "lower": 0.16804226040840148,
           "time": 20.148298263549805,
           "trajectory": "Wolves",
           "upper": 0.4239849567413329
          },
          {
           "lower": 0.1663979098200798,
           "time": 20.24649429321289,
           "trajectory": "Wolves",
           "upper": 0.40634532272815693
          },
          {
           "lower": 0.1647381938993931,
           "time": 20.344690322875977,
           "trajectory": "Wolves",
           "upper": 0.4069538936018944
          },
          {
           "lower": 0.1636613830924034,
           "time": 20.442886352539062,
           "trajectory": "Wolves",
           "upper": 0.42307848632335654
          },
          {
           "lower": 0.16307924538850785,
           "time": 20.54108238220215,
           "trajectory": "Wolves",
           "upper": 0.45002248883247364
          },
          {
           "lower": 0.1631910242140293,
           "time": 20.639278411865234,
           "trajectory": "Wolves",
           "upper": 0.47973577231168735
          },
          {
           "lower": 0.1640276603400707,
           "time": 20.73747444152832,
           "trajectory": "Wolves",
           "upper": 0.5122190564870833
          },
          {
           "lower": 0.16413161009550095,
           "time": 20.835670471191406,
           "trajectory": "Wolves",
           "upper": 0.5473854094743728
          },
          {
           "lower": 0.16348991319537162,
           "time": 20.933868408203125,
           "trajectory": "Wolves",
           "upper": 0.5850378274917601
          },
          {
           "lower": 0.16351921632885932,
           "time": 21.03206443786621,
           "trajectory": "Wolves",
           "upper": 0.6248426437377929
          },
          {
           "lower": 0.16417717114090918,
           "time": 21.130260467529297,
           "trajectory": "Wolves",
           "upper": 0.6663227587938307
          },
          {
           "lower": 0.1669645145535469,
           "time": 21.228456497192383,
           "trajectory": "Wolves",
           "upper": 0.7088437467813491
          },
          {
           "lower": 0.16852254420518875,
           "time": 21.32665252685547,
           "trajectory": "Wolves",
           "upper": 0.7516247153282164
          },
          {
           "lower": 0.16876422837376595,
           "time": 21.424850463867188,
           "trajectory": "Wolves",
           "upper": 0.7937631100416183
          },
          {
           "lower": 0.16696756705641747,
           "time": 21.523046493530273,
           "trajectory": "Wolves",
           "upper": 0.8342687219381331
          },
          {
           "lower": 0.16534425914287568,
           "time": 21.62124252319336,
           "trajectory": "Wolves",
           "upper": 0.8721249610185622
          },
          {
           "lower": 0.16089281365275382,
           "time": 21.719440460205078,
           "trajectory": "Wolves",
           "upper": 0.9063484132289885
          },
          {
           "lower": 0.15697359889745713,
           "time": 21.817636489868164,
           "trajectory": "Wolves",
           "upper": 0.9360553205013274
          },
          {
           "lower": 0.154640594124794,
           "time": 21.91583251953125,
           "trajectory": "Wolves",
           "upper": 0.9605146616697311
          },
          {
           "lower": 0.15332131534814836,
           "time": 22.014028549194336,
           "trajectory": "Wolves",
           "upper": 0.9791977941989898
          },
          {
           "lower": 0.15479821115732192,
           "time": 22.112224578857422,
           "trajectory": "Wolves",
           "upper": 0.9899740725755691
          },
          {
           "lower": 0.1562502309679985,
           "time": 22.210420608520508,
           "trajectory": "Wolves",
           "upper": 0.9913704872131348
          },
          {
           "lower": 0.15635684356093407,
           "time": 22.308616638183594,
           "trajectory": "Wolves",
           "upper": 0.9836450457572936
          },
          {
           "lower": 0.15691652297973632,
           "time": 22.40681266784668,
           "trajectory": "Wolves",
           "upper": 0.9693858861923217
          },
          {
           "lower": 0.1567702919244766,
           "time": 22.5050106048584,
           "trajectory": "Wolves",
           "upper": 0.957481563091278
          },
          {
           "lower": 0.15576769188046455,
           "time": 22.603206634521484,
           "trajectory": "Wolves",
           "upper": 0.9601654708385468
          },
          {
           "lower": 0.15524135902523994,
           "time": 22.70140266418457,
           "trajectory": "Wolves",
           "upper": 0.9679513245820999
          },
          {
           "lower": 0.15515390932559966,
           "time": 22.799598693847656,
           "trajectory": "Wolves",
           "upper": 0.9604407727718353
          },
          {
           "lower": 0.15675759613513945,
           "time": 22.897794723510742,
           "trajectory": "Wolves",
           "upper": 0.9531516194343567
          },
          {
           "lower": 0.15964649021625518,
           "time": 22.99599266052246,
           "trajectory": "Wolves",
           "upper": 0.9758219718933105
          },
          {
           "lower": 0.1633138231933117,
           "time": 23.094188690185547,
           "trajectory": "Wolves",
           "upper": 0.9886273086071015
          },
          {
           "lower": 0.16777151376008986,
           "time": 23.192384719848633,
           "trajectory": "Wolves",
           "upper": 0.9938872128725051
          },
          {
           "lower": 0.17308537811040878,
           "time": 23.29058265686035,
           "trajectory": "Wolves",
           "upper": 0.998961278796196
          },
          {
           "lower": 0.17941494137048722,
           "time": 23.388778686523438,
           "trajectory": "Wolves",
           "upper": 0.9986775547266007
          },
          {
           "lower": 0.18687143698334693,
           "time": 23.486974716186523,
           "trajectory": "Wolves",
           "upper": 0.9936696499586105
          },
          {
           "lower": 0.19558281004428862,
           "time": 23.58517074584961,
           "trajectory": "Wolves",
           "upper": 0.9958069503307342
          },
          {
           "lower": 0.2056956894695759,
           "time": 23.683366775512695,
           "trajectory": "Wolves",
           "upper": 0.9991126477718353
          },
          {
           "lower": 0.21737605109810829,
           "time": 23.78156280517578,
           "trajectory": "Wolves",
           "upper": 0.9998131990432739
          },
          {
           "lower": 0.23081071451306343,
           "time": 23.879758834838867,
           "trajectory": "Wolves",
           "upper": 1.0008575558662414
          },
          {
           "lower": 0.24620597064495087,
           "time": 23.977954864501953,
           "trajectory": "Wolves",
           "upper": 1.0023418217897415
          },
          {
           "lower": 0.2637864500284195,
           "time": 24.076152801513672,
           "trajectory": "Wolves",
           "upper": 1.0047442853450774
          },
          {
           "lower": 0.2813341706991196,
           "time": 24.174348831176758,
           "trajectory": "Wolves",
           "upper": 1.0071383357048034
          },
          {
           "lower": 0.300195649266243,
           "time": 24.272544860839844,
           "trajectory": "Wolves",
           "upper": 1.0098597288131714
          },
          {
           "lower": 0.3214712753891945,
           "time": 24.37074089050293,
           "trajectory": "Wolves",
           "upper": 1.0062338650226592
          },
          {
           "lower": 0.34536351412534716,
           "time": 24.468936920166016,
           "trajectory": "Wolves",
           "upper": 1.0044687688350677
          },
          {
           "lower": 0.367728054523468,
           "time": 24.567134857177734,
           "trajectory": "Wolves",
           "upper": 1.0002803087234498
          },
          {
           "lower": 0.38795277923345567,
           "time": 24.66533088684082,
           "trajectory": "Wolves",
           "upper": 0.9997890084981919
          },
          {
           "lower": 0.37223185151815413,
           "time": 24.763526916503906,
           "trajectory": "Wolves",
           "upper": 1.0002581000328064
          },
          {
           "lower": 0.35696167796850203,
           "time": 24.861724853515625,
           "trajectory": "Wolves",
           "upper": 0.9956646740436554
          },
          {
           "lower": 0.3499200239777565,
           "time": 24.95992088317871,
           "trajectory": "Wolves",
           "upper": 0.9856657922267914
          },
          {
           "lower": 0.3383984312415123,
           "time": 25.058116912841797,
           "trajectory": "Wolves",
           "upper": 0.97026427090168
          },
          {
           "lower": 0.3279294118285179,
           "time": 25.156312942504883,
           "trajectory": "Wolves",
           "upper": 0.9504680514335632
          },
          {
           "lower": 0.3184893622994423,
           "time": 25.25450897216797,
           "trajectory": "Wolves",
           "upper": 0.9639508128166199
          },
          {
           "lower": 0.3100573495030403,
           "time": 25.352705001831055,
           "trajectory": "Wolves",
           "upper": 0.9828543901443482
          },
          {
           "lower": 0.30261566340923307,
           "time": 25.45090103149414,
           "trajectory": "Wolves",
           "upper": 0.9932814210653305
          },
          {
           "lower": 0.2958703711628914,
           "time": 25.549097061157227,
           "trajectory": "Wolves",
           "upper": 1.0015631079673768
          },
          {
           "lower": 0.290073935687542,
           "time": 25.647294998168945,
           "trajectory": "Wolves",
           "upper": 1.00171440243721
          },
          {
           "lower": 0.2852397307753563,
           "time": 25.74549102783203,
           "trajectory": "Wolves",
           "upper": 0.9975081235170364
          },
          {
           "lower": 0.28125953674316406,
           "time": 25.843687057495117,
           "trajectory": "Wolves",
           "upper": 0.9917439252138137
          },
          {
           "lower": 0.2763360753655434,
           "time": 25.941883087158203,
           "trajectory": "Wolves",
           "upper": 0.9886632561683655
          },
          {
           "lower": 0.27026546001434326,
           "time": 26.04007911682129,
           "trajectory": "Wolves",
           "upper": 0.992416152358055
          },
          {
           "lower": 0.2641956403851509,
           "time": 26.138275146484375,
           "trajectory": "Wolves",
           "upper": 0.9974153727293015
          },
          {
           "lower": 0.25686232149600985,
           "time": 26.23647117614746,
           "trajectory": "Wolves",
           "upper": 0.9975637286901474
          },
          {
           "lower": 0.2524468004703522,
           "time": 26.334667205810547,
           "trajectory": "Wolves",
           "upper": 0.9941886335611343
          },
          {
           "lower": 0.250233206897974,
           "time": 26.432865142822266,
           "trajectory": "Wolves",
           "upper": 0.9922847658395767
          },
          {
           "lower": 0.24744433909654617,
           "time": 26.53106117248535,
           "trajectory": "Wolves",
           "upper": 0.9774287074804305
          },
          {
           "lower": 0.24069003984332085,
           "time": 26.629257202148438,
           "trajectory": "Wolves",
           "upper": 0.9576320976018905
          },
          {
           "lower": 0.23299262896180153,
           "time": 26.727453231811523,
           "trajectory": "Wolves",
           "upper": 0.9337229430675507
          },
          {
           "lower": 0.22615034729242325,
           "time": 26.82564926147461,
           "trajectory": "Wolves",
           "upper": 0.9065086483955382
          },
          {
           "lower": 0.22014274969696998,
           "time": 26.923847198486328,
           "trajectory": "Wolves",
           "upper": 0.8767463326454162
          },
          {
           "lower": 0.21495493426918982,
           "time": 27.022043228149414,
           "trajectory": "Wolves",
           "upper": 0.8451279789209365
          },
          {
           "lower": 0.21040329113602638,
           "time": 27.1202392578125,
           "trajectory": "Wolves",
           "upper": 0.8122650057077407
          },
          {
           "lower": 0.20782150849699974,
           "time": 27.21843719482422,
           "trajectory": "Wolves",
           "upper": 0.7786888509988784
          },
          {
           "lower": 0.20393504947423935,
           "time": 27.316633224487305,
           "trajectory": "Wolves",
           "upper": 0.7448512762784957
          },
          {
           "lower": 0.1997904509305954,
           "time": 27.41482925415039,
           "trajectory": "Wolves",
           "upper": 0.711536556482315
          },
          {
           "lower": 0.19380126595497132,
           "time": 27.513025283813477,
           "trajectory": "Wolves",
           "upper": 0.6800334751605986
          },
          {
           "lower": 0.18869468942284584,
           "time": 27.611221313476562,
           "trajectory": "Wolves",
           "upper": 0.6491338193416595
          },
          {
           "lower": 0.1845427230000496,
           "time": 27.70941925048828,
           "trajectory": "Wolves",
           "upper": 0.6190116941928863
          },
          {
           "lower": 0.18000969290733337,
           "time": 27.807615280151367,
           "trajectory": "Wolves",
           "upper": 0.5898068785667419
          },
          {
           "lower": 0.17606869861483573,
           "time": 27.905811309814453,
           "trajectory": "Wolves",
           "upper": 0.5842533469200134
          },
          {
           "lower": 0.17280452623963355,
           "time": 28.004009246826172,
           "trajectory": "Wolves",
           "upper": 0.6242456018924712
          },
          {
           "lower": 0.17038027569651604,
           "time": 28.102205276489258,
           "trajectory": "Wolves",
           "upper": 0.6405353367328643
          },
          {
           "lower": 0.17137352749705315,
           "time": 28.200401306152344,
           "trajectory": "Wolves",
           "upper": 0.6109578549861907
          },
          {
           "lower": 0.17117936834692954,
           "time": 28.29859733581543,
           "trajectory": "Wolves",
           "upper": 0.5901211947202682
          },
          {
           "lower": 0.16935733556747437,
           "time": 28.396793365478516,
           "trajectory": "Wolves",
           "upper": 0.602705419063568
          },
          {
           "lower": 0.16538334637880325,
           "time": 28.4949893951416,
           "trajectory": "Wolves",
           "upper": 0.6432965725660322
          },
          {
           "lower": 0.16492010951042174,
           "time": 28.593185424804688,
           "trajectory": "Wolves",
           "upper": 0.6852882236242293
          },
          {
           "lower": 0.16513916999101638,
           "time": 28.691381454467773,
           "trajectory": "Wolves",
           "upper": 0.7279811799526212
          },
          {
           "lower": 0.16611068099737167,
           "time": 28.789579391479492,
           "trajectory": "Wolves",
           "upper": 0.770535635948181
          },
          {
           "lower": 0.16611216142773627,
           "time": 28.887775421142578,
           "trajectory": "Wolves",
           "upper": 0.8120082557201383
          },
          {
           "lower": 0.16527557000517845,
           "time": 28.985971450805664,
           "trajectory": "Wolves",
           "upper": 0.8513918578624724
          },
          {
           "lower": 0.16442229971289635,
           "time": 29.08416748046875,
           "trajectory": "Wolves",
           "upper": 0.887682408094406
          },
          {
           "lower": 0.16423994824290275,
           "time": 29.182363510131836,
           "trajectory": "Wolves",
           "upper": 0.9199351370334624
          },
          {
           "lower": 0.16475595831871032,
           "time": 29.280561447143555,
           "trajectory": "Wolves",
           "upper": 0.947332864999771
          },
          {
           "lower": 0.16838487461209298,
           "time": 29.37875747680664,
           "trajectory": "Wolves",
           "upper": 0.9692333668470382
          },
          {
           "lower": 0.17303766161203385,
           "time": 29.476953506469727,
           "trajectory": "Wolves",
           "upper": 0.9841682225465774
          },
          {
           "lower": 0.1767550677061081,
           "time": 29.575151443481445,
           "trajectory": "Wolves",
           "upper": 0.9848017454147339
          },
          {
           "lower": 0.1763964533805847,
           "time": 29.67334747314453,
           "trajectory": "Wolves",
           "upper": 0.9717929661273956
          },
          {
           "lower": 0.17324413508176803,
           "time": 29.771543502807617,
           "trajectory": "Wolves",
           "upper": 0.9724552452564238
          },
          {
           "lower": 0.1732856586575508,
           "time": 29.869739532470703,
           "trajectory": "Wolves",
           "upper": 0.9535309344530104
          },
          {
           "lower": 0.1748480811715126,
           "time": 29.96793556213379,
           "trajectory": "Wolves",
           "upper": 0.9326310396194456
          },
          {
           "lower": 0.1762670285999775,
           "time": 30.066131591796875,
           "trajectory": "Wolves",
           "upper": 0.9295841276645659
          },
          {
           "lower": 0.1725742846727371,
           "time": 30.16432762145996,
           "trajectory": "Wolves",
           "upper": 0.93381769657135
          },
          {
           "lower": 0.16734498590230942,
           "time": 30.262523651123047,
           "trajectory": "Wolves",
           "upper": 0.9433647364377975
          },
          {
           "lower": 0.16266994401812554,
           "time": 30.360721588134766,
           "trajectory": "Wolves",
           "upper": 0.9434632927179335
          },
          {
           "lower": 0.16204190626740456,
           "time": 30.45891761779785,
           "trajectory": "Wolves",
           "upper": 0.929745441675186
          },
          {
           "lower": 0.16401308104395868,
           "time": 30.557113647460938,
           "trajectory": "Wolves",
           "upper": 0.9312633752822875
          },
          {
           "lower": 0.1610918827354908,
           "time": 30.655309677124023,
           "trajectory": "Wolves",
           "upper": 0.9575984060764312
          },
          {
           "lower": 0.1595179870724678,
           "time": 30.75350570678711,
           "trajectory": "Wolves",
           "upper": 0.9786773830652237
          },
          {
           "lower": 0.15940841659903526,
           "time": 30.851703643798828,
           "trajectory": "Wolves",
           "upper": 0.9792006373405456
          },
          {
           "lower": 0.15988668873906137,
           "time": 30.949899673461914,
           "trajectory": "Wolves",
           "upper": 0.9875351130962372
          },
          {
           "lower": 0.16055451333522797,
           "time": 31.048095703125,
           "trajectory": "Wolves",
           "upper": 0.9977742075920105
          },
          {
           "lower": 0.15932910442352294,
           "time": 31.14629364013672,
           "trajectory": "Wolves",
           "upper": 0.9986422032117843
          },
          {
           "lower": 0.15757134035229683,
           "time": 31.244489669799805,
           "trajectory": "Wolves",
           "upper": 0.989025405049324
          },
          {
           "lower": 0.15634625032544136,
           "time": 31.34268569946289,
           "trajectory": "Wolves",
           "upper": 0.9840576946735382
          },
          {
           "lower": 0.15566499382257462,
           "time": 31.440881729125977,
           "trajectory": "Wolves",
           "upper": 0.9887935400009156
          },
          {
           "lower": 0.15536050274968147,
           "time": 31.539077758789062,
           "trajectory": "Wolves",
           "upper": 0.9944401711225509
          },
          {
           "lower": 0.15766284391283988,
           "time": 31.63727378845215,
           "trajectory": "Wolves",
           "upper": 0.9981949865818024
          },
          {
           "lower": 0.16062793880701065,
           "time": 31.735469818115234,
           "trajectory": "Wolves",
           "upper": 0.9991020292043686
          },
          {
           "lower": 0.16433920487761497,
           "time": 31.83366584777832,
           "trajectory": "Wolves",
           "upper": 1.0005050778388977
          },
          {
           "lower": 0.1689063861966133,
           "time": 31.93186378479004,
           "trajectory": "Wolves",
           "upper": 0.9980441331863403
          },
          {
           "lower": 0.1744140401482582,
           "time": 32.030059814453125,
           "trajectory": "Wolves",
           "upper": 1.002093893289566
          },
          {
           "lower": 0.180960863083601,
           "time": 32.12825393676758,
           "trajectory": "Wolves",
           "upper": 1.0046568274497987
          },
          {
           "lower": 0.18866176828742026,
           "time": 32.2264518737793,
           "trajectory": "Wolves",
           "upper": 1.0050383269786836
          },
          {
           "lower": 0.19764822348952293,
           "time": 32.324649810791016,
           "trajectory": "Wolves",
           "upper": 1.0042850017547607
          },
          {
           "lower": 0.2080702915787697,
           "time": 32.42284393310547,
           "trajectory": "Wolves",
           "upper": 1.0060572564601897
          },
          {
           "lower": 0.22009876295924188,
           "time": 32.52104187011719,
           "trajectory": "Wolves",
           "upper": 1.0043819844722748
          },
          {
           "lower": 0.23392256274819376,
           "time": 32.61923599243164,
           "trajectory": "Wolves",
           "upper": 1.0045744061470032
          },
          {
           "lower": 0.24646704196929933,
           "time": 32.71743392944336,
           "trajectory": "Wolves",
           "upper": 0.999964925646782
          },
          {
           "lower": 0.258404316008091,
           "time": 32.81562805175781,
           "trajectory": "Wolves",
           "upper": 0.9990847498178482
          },
          {
           "lower": 0.2694392278790474,
           "time": 32.91382598876953,
           "trajectory": "Wolves",
           "upper": 0.9982341974973679
          },
          {
           "lower": 0.2790683969855309,
           "time": 33.01202392578125,
           "trajectory": "Wolves",
           "upper": 0.9961802691221237
          },
          {
           "lower": 0.271256597340107,
           "time": 33.1102180480957,
           "trajectory": "Wolves",
           "upper": 0.9862695634365081
          },
          {
           "lower": 0.2650373473763466,
           "time": 33.20841598510742,
           "trajectory": "Wolves",
           "upper": 0.9797636747360229
          },
          {
           "lower": 0.2695761099457741,
           "time": 33.30661392211914,
           "trajectory": "Wolves",
           "upper": 0.9708830118179321
          },
          {
           "lower": 0.27450200766324995,
           "time": 33.404808044433594,
           "trajectory": "Wolves",
           "upper": 0.9488632947206497
          },
          {
           "lower": 0.2709284335374832,
           "time": 33.50300598144531,
           "trajectory": "Wolves",
           "upper": 0.9224707871675492
          },
          {
           "lower": 0.2682962015271187,
           "time": 33.601200103759766,
           "trajectory": "Wolves",
           "upper": 0.915161994099617
          },
          {
           "lower": 0.2666212901473045,
           "time": 33.699398040771484,
           "trajectory": "Wolves",
           "upper": 0.9424799859523774
          },
          {
           "lower": 0.26394947469234464,
           "time": 33.7975959777832,
           "trajectory": "Wolves",
           "upper": 0.9665680795907974
          },
          {
           "lower": 0.266243776679039,
           "time": 33.895790100097656,
           "trajectory": "Wolves",
           "upper": 0.9792508184909821
          },
          {
           "lower": 0.2637952476739883,
           "time": 33.993988037109375,
           "trajectory": "Wolves",
           "upper": 0.9932046800851821
          },
          {
           "lower": 0.25837850794196127,
           "time": 34.092185974121094,
           "trajectory": "Wolves",
           "upper": 1.0007458627223969
          },
          {
           "lower": 0.25344827473163606,
           "time": 34.19038009643555,
           "trajectory": "Wolves",
           "upper": 1.0012211203575134
          },
          {
           "lower": 0.24386561065912246,
           "time": 34.288578033447266,
           "trajectory": "Wolves",
           "upper": 0.995558163523674
          },
          {
           "lower": 0.23652473539114,
           "time": 34.38677215576172,
           "trajectory": "Wolves",
           "upper": 0.9877487063407898
          },
          {
           "lower": 0.23099110648036003,
           "time": 34.48497009277344,
           "trajectory": "Wolves",
           "upper": 0.9768257975578308
          },
          {
           "lower": 0.22627165019512177,
           "time": 34.583168029785156,
           "trajectory": "Wolves",
           "upper": 0.9792587578296661
          },
          {
           "lower": 0.22236145287752151,
           "time": 34.68136215209961,
           "trajectory": "Wolves",
           "upper": 0.986902728676796
          },
          {
           "lower": 0.2194741278886795,
           "time": 34.77956008911133,
           "trajectory": "Wolves",
           "upper": 0.98967787027359
          },
          {
           "lower": 0.21946358680725098,
           "time": 34.87775802612305,
           "trajectory": "Wolves",
           "upper": 0.9947674691677093
          },
          {
           "lower": 0.21704072132706642,
           "time": 34.9759521484375,
           "trajectory": "Wolves",
           "upper": 0.9874040722846985
          },
          {
           "lower": 0.21221753284335138,
           "time": 35.07415008544922,
           "trajectory": "Wolves",
           "upper": 0.9867628872394562
          },
          {
           "lower": 0.2088850162923336,
           "time": 35.17234420776367,
           "trajectory": "Wolves",
           "upper": 0.9872895181179047
          },
          {
           "lower": 0.2051271066069603,
           "time": 35.27054214477539,
           "trajectory": "Wolves",
           "upper": 0.9737116515636444
          },
          {
           "lower": 0.19921137690544127,
           "time": 35.36874008178711,
           "trajectory": "Wolves",
           "upper": 0.9534397929906844
          },
          {
           "lower": 0.19328893572092057,
           "time": 35.46693420410156,
           "trajectory": "Wolves",
           "upper": 0.9291817784309386
          },
          {
           "lower": 0.1880706124007702,
           "time": 35.56513214111328,
           "trajectory": "Wolves",
           "upper": 0.9017300635576246
          },
          {
           "lower": 0.18374776765704154,
           "time": 35.663330078125,
           "trajectory": "Wolves",
           "upper": 0.8718287050724028
          },
          {
           "lower": 0.18044356778264045,
           "time": 35.76152420043945,
           "trajectory": "Wolves",
           "upper": 0.8401537984609603
          },
          {
           "lower": 0.17781589925289154,
           "time": 35.85972213745117,
           "trajectory": "Wolves",
           "upper": 0.838287615776062
          },
          {
           "lower": 0.17685115560889245,
           "time": 35.957916259765625,
           "trajectory": "Wolves",
           "upper": 0.8782581955194473
          },
          {
           "lower": 0.17651358023285865,
           "time": 36.056114196777344,
           "trajectory": "Wolves",
           "upper": 0.9031823456287383
          },
          {
           "lower": 0.17541647106409072,
           "time": 36.15431213378906,
           "trajectory": "Wolves",
           "upper": 0.8767389118671417
          },
          {
           "lower": 0.17425118684768676,
           "time": 36.252506256103516,
           "trajectory": "Wolves",
           "upper": 0.8459935784339905
          },
          {
           "lower": 0.17419764325022696,
           "time": 36.35070037841797,
           "trajectory": "Wolves",
           "upper": 0.8399101436138152
          },
          {
           "lower": 0.17339342311024666,
           "time": 36.44889831542969,
           "trajectory": "Wolves",
           "upper": 0.867813330888748
          },
          {
           "lower": 0.17133173942565919,
           "time": 36.54709243774414,
           "trajectory": "Wolves",
           "upper": 0.9023440331220626
          },
          {
           "lower": 0.17077715024352075,
           "time": 36.64529037475586,
           "trajectory": "Wolves",
           "upper": 0.9324636578559874
          },
          {
           "lower": 0.1690235637128353,
           "time": 36.74348449707031,
           "trajectory": "Wolves",
           "upper": 0.9574289798736572
          },
          {
           "lower": 0.16846948787569999,
           "time": 36.84168243408203,
           "trajectory": "Wolves",
           "upper": 0.9766945660114288
          },
          {
           "lower": 0.16690961197018622,
           "time": 36.93988037109375,
           "trajectory": "Wolves",
           "upper": 0.9784235924482345
          },
          {
           "lower": 0.1658799521625042,
           "time": 37.0380744934082,
           "trajectory": "Wolves",
           "upper": 0.9686709612607955
          },
          {
           "lower": 0.16550885662436485,
           "time": 37.13627243041992,
           "trajectory": "Wolves",
           "upper": 0.9483280420303345
          },
          {
           "lower": 0.16554983854293823,
           "time": 37.23447036743164,
           "trajectory": "Wolves",
           "upper": 0.9513815075159071
          },
          {
           "lower": 0.16551879644393921,
           "time": 37.332664489746094,
           "trajectory": "Wolves",
           "upper": 0.938515371084213
          },
          {
           "lower": 0.1666104257106781,
           "time": 37.43086242675781,
           "trajectory": "Wolves",
           "upper": 0.9142257273197172
          },
          {
           "lower": 0.16982588320970535,
           "time": 37.529056549072266,
           "trajectory": "Wolves",
           "upper": 0.8906619012355802
          },
          {
           "lower": 0.17467070892453193,
           "time": 37.627254486083984,
           "trajectory": "Wolves",
           "upper": 0.8956397712230681
          },
          {
           "lower": 0.17906989976763726,
           "time": 37.7254524230957,
           "trajectory": "Wolves",
           "upper": 0.9054218500852584
          },
          {
           "lower": 0.18450178802013398,
           "time": 37.823646545410156,
           "trajectory": "Wolves",
           "upper": 0.9133259296417235
          },
          {
           "lower": 0.18393647372722627,
           "time": 37.921844482421875,
           "trajectory": "Wolves",
           "upper": 0.9148140907287595
          },
          {
           "lower": 0.17978139147162436,
           "time": 38.020042419433594,
           "trajectory": "Wolves",
           "upper": 0.9014464795589444
          },
          {
           "lower": 0.17623483017086983,
           "time": 38.11823654174805,
           "trajectory": "Wolves",
           "upper": 0.9042280673980712
          },
          {
           "lower": 0.17535646259784698,
           "time": 38.216434478759766,
           "trajectory": "Wolves",
           "upper": 0.9070893198251723
          },
          {
           "lower": 0.17748943343758583,
           "time": 38.31462860107422,
           "trajectory": "Wolves",
           "upper": 0.9348081707954405
          },
          {
           "lower": 0.1802469238638878,
           "time": 38.41282653808594,
           "trajectory": "Wolves",
           "upper": 0.9610650300979613
          },
          {
           "lower": 0.18075069710612296,
           "time": 38.511024475097656,
           "trajectory": "Wolves",
           "upper": 0.9667689472436904
          },
          {
           "lower": 0.17994418293237685,
           "time": 38.60921859741211,
           "trajectory": "Wolves",
           "upper": 0.9735250145196914
          },
          {
           "lower": 0.17771267220377923,
           "time": 38.70741271972656,
           "trajectory": "Wolves",
           "upper": 0.9830871045589447
          },
          {
           "lower": 0.17378287985920907,
           "time": 38.80561065673828,
           "trajectory": "Wolves",
           "upper": 0.9956873834133149
          },
          {
           "lower": 0.17184447944164277,
           "time": 38.903804779052734,
           "trajectory": "Wolves",
           "upper": 0.9964617758989334
          },
          {
           "lower": 0.16898305863142013,
           "time": 39.00200271606445,
           "trajectory": "Wolves",
           "upper": 0.9863021343946456
          },
          {
           "lower": 0.16669340208172798,
           "time": 39.100196838378906,
           "trajectory": "Wolves",
           "upper": 0.9826664566993714
          },
          {
           "lower": 0.16497921720147132,
           "time": 39.198394775390625,
           "trajectory": "Wolves",
           "upper": 0.9727314472198486
          },
          {
           "lower": 0.16416606903076172,
           "time": 39.296592712402344,
           "trajectory": "Wolves",
           "upper": 0.9792365282773972
          },
          {
           "lower": 0.1638589732348919,
           "time": 39.3947868347168,
           "trajectory": "Wolves",
           "upper": 0.9855025500059127
          },
          {
           "lower": 0.1642313100397587,
           "time": 39.492984771728516,
           "trajectory": "Wolves",
           "upper": 0.9948146313428878
          },
          {
           "lower": 0.16483238935470582,
           "time": 39.591182708740234,
           "trajectory": "Wolves",
           "upper": 0.9963617712259293
          },
          {
           "lower": 0.16590516418218612,
           "time": 39.68937683105469,
           "trajectory": "Wolves",
           "upper": 0.9987373322248458
          },
          {
           "lower": 0.1629737839102745,
           "time": 39.787574768066406,
           "trajectory": "Wolves",
           "upper": 1.00008482336998
          },
          {
           "lower": 0.1604690246284008,
           "time": 39.88576889038086,
           "trajectory": "Wolves",
           "upper": 0.9975865095853805
          },
          {
           "lower": 0.1584906168282032,
           "time": 39.98396682739258,
           "trajectory": "Wolves",
           "upper": 0.9969373792409897
          },
          {
           "lower": 0.1570437505841255,
           "time": 40.0821647644043,
           "trajectory": "Wolves",
           "upper": 1.0013433933258056
          },
          {
           "lower": 0.15613754987716674,
           "time": 40.18035888671875,
           "trajectory": "Wolves",
           "upper": 1.004535299539566
          },
          {
           "lower": 0.15617748349905014,
           "time": 40.27855682373047,
           "trajectory": "Wolves",
           "upper": 1.0031640112400055
          },
          {
           "lower": 0.15852109864354133,
           "time": 40.37675476074219,
           "trajectory": "Wolves",
           "upper": 1.00209139585495
          },
          {
           "lower": 0.16160307601094245,
           "time": 40.47494888305664,
           "trajectory": "Wolves",
           "upper": 1.0031655102968215
          },
          {
           "lower": 0.16548710390925409,
           "time": 40.57314682006836,
           "trajectory": "Wolves",
           "upper": 1.000268706679344
          },
          {
           "lower": 0.17024710550904273,
           "time": 40.67134094238281,
           "trajectory": "Wolves",
           "upper": 1.0053135573863983
          },
          {
           "lower": 0.17597175016999245,
           "time": 40.76953887939453,
           "trajectory": "Wolves",
           "upper": 1.0042481005191803
          },
          {
           "lower": 0.18276265785098075,
           "time": 40.86773681640625,
           "trajectory": "Wolves",
           "upper": 1.0015988886356353
          },
          {
           "lower": 0.19073781594634057,
           "time": 40.9659309387207,
           "trajectory": "Wolves",
           "upper": 0.9987025201320648
          },
          {
           "lower": 0.20003380924463274,
           "time": 41.06412887573242,
           "trajectory": "Wolves",
           "upper": 0.9941364258527756
          },
          {
           "lower": 0.20846241042017938,
           "time": 41.16232681274414,
           "trajectory": "Wolves",
           "upper": 0.9933387547731399
          },
          {
           "lower": 0.21300329491496087,
           "time": 41.260520935058594,
           "trajectory": "Wolves",
           "upper": 0.9923468470573424
          },
          {
           "lower": 0.22190933227539061,
           "time": 41.35871887207031,
           "trajectory": "Wolves",
           "upper": 0.9829826682806014
          },
          {
           "lower": 0.23667190596461296,
           "time": 41.456912994384766,
           "trajectory": "Wolves",
           "upper": 0.967493814229965
          },
          {
           "lower": 0.24873205795884132,
           "time": 41.555110931396484,
           "trajectory": "Wolves",
           "upper": 0.9696071535348892
          },
          {
           "lower": 0.252624849230051,
           "time": 41.6533088684082,
           "trajectory": "Wolves",
           "upper": 0.9495100855827331
          },
          {
           "lower": 0.24948872104287148,
           "time": 41.751502990722656,
           "trajectory": "Wolves",
           "upper": 0.9230954587459564
          },
          {
           "lower": 0.24057377353310586,
           "time": 41.849700927734375,
           "trajectory": "Wolves",
           "upper": 0.8931585371494293
          },
          {
           "lower": 0.23964940011501312,
           "time": 41.947898864746094,
           "trajectory": "Wolves",
           "upper": 0.8765404343605041
          },
          {
           "lower": 0.24154147878289223,
           "time": 42.04609298706055,
           "trajectory": "Wolves",
           "upper": 0.8842344284057617
          },
          {
           "lower": 0.23490473479032517,
           "time": 42.144290924072266,
           "trajectory": "Wolves",
           "upper": 0.9177514046430587
          },
          {
           "lower": 0.22757762968540193,
           "time": 42.24248504638672,
           "trajectory": "Wolves",
           "upper": 0.9464763581752776
          },
          {
           "lower": 0.2235584504902363,
           "time": 42.34068298339844,
           "trajectory": "Wolves",
           "upper": 0.9540556102991103
          },
          {
           "lower": 0.22396748512983322,
           "time": 42.438880920410156,
           "trajectory": "Wolves",
           "upper": 0.9755993127822875
          },
          {
           "lower": 0.22564252614974975,
           "time": 42.53707504272461,
           "trajectory": "Wolves",
           "upper": 0.9908364653587342
          },
          {
           "lower": 0.22745415866374968,
           "time": 42.63526916503906,
           "trajectory": "Wolves",
           "upper": 0.9996582806110382
          },
          {
           "lower": 0.22303478196263313,
           "time": 42.73346710205078,
           "trajectory": "Wolves",
           "upper": 0.9967845916748046
          },
          {
           "lower": 0.21770877838134767,
           "time": 42.831661224365234,
           "trajectory": "Wolves",
           "upper": 0.9930602729320526
          },
          {
           "lower": 0.21676131710410118,
           "time": 42.92985916137695,
           "trajectory": "Wolves",
           "upper": 0.9873218834400177
          },
          {
           "lower": 0.2125228926539421,
           "time": 43.028053283691406,
           "trajectory": "Wolves",
           "upper": 0.9763293206691742
          },
          {
           "lower": 0.20825617164373397,
           "time": 43.126251220703125,
           "trajectory": "Wolves",
           "upper": 0.9599705278873444
          },
          {
           "lower": 0.20480770468711854,
           "time": 43.224449157714844,
           "trajectory": "Wolves",
           "upper": 0.9704875797033309
          },
          {
           "lower": 0.19864267855882645,
           "time": 43.3226432800293,
           "trajectory": "Wolves",
           "upper": 0.9803441017866135
          },
          {
           "lower": 0.19278619289398194,
           "time": 43.420841217041016,
           "trajectory": "Wolves",
           "upper": 0.9819544672966002
          },
          {
           "lower": 0.18763251826167107,
           "time": 43.519039154052734,
           "trajectory": "Wolves",
           "upper": 0.9851570159196853
          },
          {
           "lower": 0.18316455334424972,
           "time": 43.61723327636719,
           "trajectory": "Wolves",
           "upper": 0.9856617510318756
          },
          {
           "lower": 0.17988908290863037,
           "time": 43.715431213378906,
           "trajectory": "Wolves",
           "upper": 0.9911581814289092
          },
          {
           "lower": 0.17933618202805518,
           "time": 43.81362533569336,
           "trajectory": "Wolves",
           "upper": 0.9942106962203979
          },
          {
           "lower": 0.18049367815256118,
           "time": 43.91182327270508,
           "trajectory": "Wolves",
           "upper": 0.999222519993782
          },
          {
           "lower": 0.18218330666422844,
           "time": 44.0100212097168,
           "trajectory": "Wolves",
           "upper": 0.9999788880348205
          },
          {
           "lower": 0.17931619584560393,
           "time": 44.10821533203125,
           "trajectory": "Wolves",
           "upper": 1.0049906104803086
          },
          {
           "lower": 0.17619916945695877,
           "time": 44.20641326904297,
           "trajectory": "Wolves",
           "upper": 1.0021923750638961
          },
          {
           "lower": 0.17557455822825432,
           "time": 44.30461120605469,
           "trajectory": "Wolves",
           "upper": 0.9986036211252213
          },
          {
           "lower": 0.1763834498822689,
           "time": 44.40280532836914,
           "trajectory": "Wolves",
           "upper": 0.9899148404598236
          },
          {
           "lower": 0.1755789965391159,
           "time": 44.50100326538086,
           "trajectory": "Wolves",
           "upper": 0.9872723191976547
          },
          {
           "lower": 0.1731801487505436,
           "time": 44.59919738769531,
           "trajectory": "Wolves",
           "upper": 0.9692124962806701
          },
          {
           "lower": 0.17481856048107147,
           "time": 44.69739532470703,
           "trajectory": "Wolves",
           "upper": 0.9520798653364181
          },
          {
           "lower": 0.1763616219162941,
           "time": 44.79559326171875,
           "trajectory": "Wolves",
           "upper": 0.950083702802658
          },
          {
           "lower": 0.17467631101608277,
           "time": 44.8937873840332,
           "trajectory": "Wolves",
           "upper": 0.9260579675436019
          },
          {
           "lower": 0.17083724737167358,
           "time": 44.99198532104492,
           "trajectory": "Wolves",
           "upper": 0.8992494136095046
          },
          {
           "lower": 0.1666094593703747,
           "time": 45.09018325805664,
           "trajectory": "Wolves",
           "upper": 0.8703008115291594
          },
          {
           "lower": 0.1656822994351387,
           "time": 45.188377380371094,
           "trajectory": "Wolves",
           "upper": 0.8571781814098357
          },
          {
           "lower": 0.1654304549098015,
           "time": 45.28657531738281,
           "trajectory": "Wolves",
           "upper": 0.8730472445487976
          },
          {
           "lower": 0.1663128986954689,
           "time": 45.384769439697266,
           "trajectory": "Wolves",
           "upper": 0.8788756728172301
          },
          {
           "lower": 0.16778351962566376,
           "time": 45.482967376708984,
           "trajectory": "Wolves",
           "upper": 0.8818724185228345
          },
          {
           "lower": 0.1688595473766327,
           "time": 45.5811653137207,
           "trajectory": "Wolves",
           "upper": 0.8816515505313869
          },
          {
           "lower": 0.17143086344003677,
           "time": 45.679359436035156,
           "trajectory": "Wolves",
           "upper": 0.8742863327264783
          },
          {
           "lower": 0.1752846710383892,
           "time": 45.77755355834961,
           "trajectory": "Wolves",
           "upper": 0.8763623982667923
          },
          {
           "lower": 0.17985443621873856,
           "time": 45.87575149536133,
           "trajectory": "Wolves",
           "upper": 0.8810112625360488
          },
          {
           "lower": 0.18417395576834678,
           "time": 45.97394561767578,
           "trajectory": "Wolves",
           "upper": 0.9080043017864226
          },
          {
           "lower": 0.18885962814092636,
           "time": 46.0721435546875,
           "trajectory": "Wolves",
           "upper": 0.9386744022369383
          },
          {
           "lower": 0.18875136002898216,
           "time": 46.17033767700195,
           "trajectory": "Wolves",
           "upper": 0.951682311296463
          },
          {
           "lower": 0.1875740148127079,
           "time": 46.26853561401367,
           "trajectory": "Wolves",
           "upper": 0.9526154279708862
          },
          {
           "lower": 0.18340350538492203,
           "time": 46.36673355102539,
           "trajectory": "Wolves",
           "upper": 0.967214611172676
          },
          {
           "lower": 0.1797109790146351,
           "time": 46.464927673339844,
           "trajectory": "Wolves",
           "upper": 0.9782778948545456
          },
          {
           "lower": 0.1780935861170292,
           "time": 46.56312561035156,
           "trajectory": "Wolves",
           "upper": 0.9929623037576676
          },
          {
           "lower": 0.18051922917366028,
           "time": 46.66132354736328,
           "trajectory": "Wolves",
           "upper": 0.9935926169157028
          },
          {
           "lower": 0.1835742212831974,
           "time": 46.759517669677734,
           "trajectory": "Wolves",
           "upper": 0.982981064915657
          },
          {
           "lower": 0.18483320698142053,
           "time": 46.85771560668945,
           "trajectory": "Wolves",
           "upper": 0.9751109391450882
          },
          {
           "lower": 0.18378577679395675,
           "time": 46.955909729003906,
           "trajectory": "Wolves",
           "upper": 0.9734359979629517
          },
          {
           "lower": 0.18323469310998916,
           "time": 47.054107666015625,
           "trajectory": "Wolves",
           "upper": 0.9589579313993454
          },
          {
           "lower": 0.18296254724264144,
           "time": 47.152305603027344,
           "trajectory": "Wolves",
           "upper": 0.9672924876213074
          },
          {
           "lower": 0.18928456977009772,
           "time": 47.2504997253418,
           "trajectory": "Wolves",
           "upper": 0.9726561933755874
          },
          {
           "lower": 0.1836253210902214,
           "time": 47.348697662353516,
           "trajectory": "Wolves",
           "upper": 0.9888338655233383
          },
          {
           "lower": 0.17733232229948043,
           "time": 47.446895599365234,
           "trajectory": "Wolves",
           "upper": 0.9925686925649643
          },
          {
           "lower": 0.1724783331155777,
           "time": 47.54508972167969,
           "trajectory": "Wolves",
           "upper": 0.995303800702095
          },
          {
           "lower": 0.16982696056365967,
           "time": 47.643287658691406,
           "trajectory": "Wolves",
           "upper": 0.9976611137390137
          },
          {
           "lower": 0.16763659566640854,
           "time": 47.74148178100586,
           "trajectory": "Wolves",
           "upper": 0.9995992243289947
          },
          {
           "lower": 0.16603316590189934,
           "time": 47.83967971801758,
           "trajectory": "Wolves",
           "upper": 0.9973608493804932
          },
          {
           "lower": 0.16775305867195128,
           "time": 47.9378776550293,
           "trajectory": "Wolves",
           "upper": 0.9954323470592499
          },
          {
           "lower": 0.16995794773101808,
           "time": 48.03607177734375,
           "trajectory": "Wolves",
           "upper": 0.9963240295648574
          },
          {
           "lower": 0.17077829837799072,
           "time": 48.13426971435547,
           "trajectory": "Wolves",
           "upper": 1.0007076144218445
          },
          {
           "lower": 0.17158592715859414,
           "time": 48.23246765136719,
           "trajectory": "Wolves",
           "upper": 1.0012928336858749
          },
          {
           "lower": 0.17150169163942336,
           "time": 48.33066177368164,
           "trajectory": "Wolves",
           "upper": 0.9991271167993545
          },
          {
           "lower": 0.1677117846906185,
           "time": 48.42885971069336,
           "trajectory": "Wolves",
           "upper": 1.0007474809885024
          },
          {
           "lower": 0.1644555762410164,
           "time": 48.52705383300781,
           "trajectory": "Wolves",
           "upper": 1.0012450426816941
          },
          {
           "lower": 0.1617278590798378,
           "time": 48.62525177001953,
           "trajectory": "Wolves",
           "upper": 0.9981553196907044
          },
          {
           "lower": 0.15952814891934394,
           "time": 48.72344970703125,
           "trajectory": "Wolves",
           "upper": 1.0005579859018325
          },
          {
           "lower": 0.15785960704088212,
           "time": 48.8216438293457,
           "trajectory": "Wolves",
           "upper": 1.0051156818866729
          },
          {
           "lower": 0.1567295730113983,
           "time": 48.919837951660156,
           "trajectory": "Wolves",
           "upper": 1.003503081202507
          },
          {
           "lower": 0.15729982852935792,
           "time": 49.018035888671875,
           "trajectory": "Wolves",
           "upper": 1.003023886680603
          },
          {
           "lower": 0.15950344130396843,
           "time": 49.11623001098633,
           "trajectory": "Wolves",
           "upper": 0.9974136888980866
          },
          {
           "lower": 0.16275647804141044,
           "time": 49.21442794799805,
           "trajectory": "Wolves",
           "upper": 0.9931495100259781
          },
          {
           "lower": 0.16683145835995675,
           "time": 49.3126220703125,
           "trajectory": "Wolves",
           "upper": 0.9876937597990035
          },
          {
           "lower": 0.17180634289979935,
           "time": 49.41082000732422,
           "trajectory": "Wolves",
           "upper": 0.9899403691291809
          },
          {
           "lower": 0.17777244374155998,
           "time": 49.50901794433594,
           "trajectory": "Wolves",
           "upper": 0.9889350175857543
          },
          {
           "lower": 0.18516932129859925,
           "time": 49.60721206665039,
           "trajectory": "Wolves",
           "upper": 0.9785982936620711
          },
          {
           "lower": 0.19280534088611603,
           "time": 49.70541000366211,
           "trajectory": "Wolves",
           "upper": 0.961494669318199
          },
          {
           "lower": 0.19997676312923432,
           "time": 49.80360794067383,
           "trajectory": "Wolves",
           "upper": 0.9558734208345413
          },
          {
           "lower": 0.20854627192020417,
           "time": 49.90180206298828,
           "trajectory": "Wolves",
           "upper": 0.9501699745655059
          },
          {
           "lower": 0.21367589011788368,
           "time": 50,
           "trajectory": "Wolves",
           "upper": 0.9239561259746552
          }
         ]
        },
        {
         "name": "tracks",
         "values": []
        },
        {
         "name": "points",
         "values": [
          {
           "time": 1,
           "trajectory": "Rabbits Example",
           "value": 0.5774485468864441
          },
          {
           "time": 1.981963872909546,
           "trajectory": "Rabbits Example",
           "value": 0.4931105971336365
          },
          {
           "time": 2.963927745819092,
           "trajectory": "Rabbits Example",
           "value": 0.5761047005653381
          },
          {
           "time": 3.945891857147217,
           "trajectory": "Rabbits Example",
           "value": 0.7969658970832825
          },
          {
           "time": 4.927855491638184,
           "trajectory": "Rabbits Example",
           "value": 1.1683192253112793
          },
          {
           "time": 5.909820079803467,
           "trajectory": "Rabbits Example",
           "value": 1.6221495866775513
          },
          {
           "time": 6.891783714294434,
           "trajectory": "Rabbits Example",
           "value": 1.7182937860488892
          },
          {
           "time": 7.873747825622559,
           "trajectory": "Rabbits Example",
           "value": 1.0860116481781006
          },
          {
           "time": 8.855710983276367,
           "trajectory": "Rabbits Example",
           "value": 0.6113320589065552
          },
          {
           "time": 9.837676048278809,
           "trajectory": "Rabbits Example",
           "value": 0.4930415153503418
          },
          {
           "time": 10.819640159606934,
           "trajectory": "Rabbits Example",
           "value": 0.5555301308631897
          },
          {
           "time": 11.801603317260742,
           "trajectory": "Rabbits Example",
           "value": 0.7555342316627502
          },
          {
           "time": 12.783567428588867,
           "trajectory": "Rabbits Example",
           "value": 1.1050314903259277
          },
          {
           "time": 13.765531539916992,
           "trajectory": "Rabbits Example",
           "value": 1.561277985572815
          },
          {
           "time": 14.747495651245117,
           "trajectory": "Rabbits Example",
           "value": 1.7557481527328491
          },
          {
           "time": 15.729458808898926,
           "trajectory": "Rabbits Example",
           "value": 1.1907449960708618
          },
          {
           "time": 16.711421966552734,
           "trajectory": "Rabbits Example",
           "value": 0.6529028415679932
          },
          {
           "time": 17.69338607788086,
           "trajectory": "Rabbits Example",
           "value": 0.496554970741272
          },
          {
           "time": 18.675352096557617,
           "trajectory": "Rabbits Example",
           "value": 0.5378015637397766
          },
          {
           "time": 19.65731430053711,
           "trajectory": "Rabbits Example",
           "value": 0.7173503041267395
          },
          {
           "time": 20.639278411865234,
           "trajectory": "Rabbits Example",
           "value": 1.0445382595062256
          },
          {
           "time": 21.62124252319336,
           "trajectory": "Rabbits Example",
           "value": 1.495972752571106
          },
          {
           "time": 22.603206634521484,
           "trajectory": "Rabbits Example",
           "value": 1.7724984884262085
          },
          {
           "time": 23.58517074584961,
           "trajectory": "Rabbits Example",
           "value": 1.2989596128463745
          },
          {
           "time": 24.567134857177734,
           "trajectory": "Rabbits Example",
           "value": 0.70307457447052
          },
          {
           "time": 25.549097061157227,
           "trajectory": "Rabbits Example",
           "value": 0.5039738416671753
          },
          {
           "time": 26.53106117248535,
           "trajectory": "Rabbits Example",
           "value": 0.5229206085205078
          },
          {
           "time": 27.513025283813477,
           "trajectory": "Rabbits Example",
           "value": 0.6823447346687317
          },
          {
           "time": 28.4949893951416,
           "trajectory": "Rabbits Example",
           "value": 0.9871031641960144
          },
          {
           "time": 29.476953506469727,
           "trajectory": "Rabbits Example",
           "value": 1.428144931793213
          },
          {
           "time": 30.45891761779785,
           "trajectory": "Rabbits Example",
           "value": 1.7697229385375977
          },
          {
           "time": 31.440881729125977,
           "trajectory": "Rabbits Example",
           "value": 1.406166672706604
          },
          {
           "time": 32.42284393310547,
           "trajectory": "Rabbits Example",
           "value": 0.762713611125946
          },
          {
           "time": 33.404808044433594,
           "trajectory": "Rabbits Example",
           "value": 0.5157046914100647
          },
          {
           "time": 34.38677215576172,
           "trajectory": "Rabbits Example",
           "value": 0.5109087824821472
          },
          {
           "time": 35.36874008178711,
           "trajectory": "Rabbits Example",
           "value": 0.6504457592964172
          },
          {
           "time": 36.35070037841797,
           "trajectory": "Rabbits Example",
           "value": 0.9328932762145996
          },
          {
           "time": 37.332664489746094,
           "trajectory": "Rabbits Example",
           "value": 1.3593549728393555
          },
          {
           "time": 38.31462860107422,
           "trajectory": "Rabbits Example",
           "value": 1.7495903968811035
          },
          {
           "time": 39.296592712402344,
           "trajectory": "Rabbits Example",
           "value": 1.5072137117385864
          },
          {
           "time": 40.27855682373047,
           "trajectory": "Rabbits Example",
           "value": 0.8324921727180481
          },
          {
           "time": 41.260520935058594,
           "trajectory": "Rabbits Example",
           "value": 0.532248854637146
          },
          {
           "time": 42.24248504638672,
           "trajectory": "Rabbits Example",
           "value": 0.5018233060836792
          },
          {
           "time": 43.224449157714844,
           "trajectory": "Rabbits Example",
           "value": 0.6215773820877075
          },
          {
           "time": 44.20641326904297,
           "trajectory": "Rabbits Example",
           "value": 0.8819983601570129
          },
          {
           "time": 45.188377380371094,
           "trajectory": "Rabbits Example",
           "value": 1.2908376455307007
          },
          {
           "time": 46.17033767700195,
           "trajectory": "Rabbits Example",
           "value": 1.7148245573043823
          },
          {
           "time": 47.152305603027344,
           "trajectory": "Rabbits Example",
           "value": 1.5969091653823853
          },
          {
           "time": 48.13426971435547,
           "trajectory": "Rabbits Example",
           "value": 0.9126989841461182
          },
          {
           "time": 49.11623001098633,
           "trajectory": "Rabbits Example",
           "value": 0.5542105436325073
          }
         ]
        },
        {
         "name": "selected",
         "on": [
          {
           "remove": true,
           "trigger": "clear"
          },
          {
           "remove": true,
           "trigger": "!shift"
          },
          {
           "insert": "clicked",
           "trigger": "!shift && clicked"
          },
          {
           "toggle": "clicked",
           "trigger": "shift && clicked"
          }
         ]
        }
       ],
       "height": 300,
       "legends": [
        {
         "encode": {
          "labels": {
           "interactive": true,
           "name": "legendLabel",
           "update": {
            "opacity": [
             {
              "test": "!length(data('selected')) || indata('selected', 'value', datum.value)",
              "value": 1
             },
             {
              "value": 0.25
             }
            ]
           }
          },
          "symbols": {
           "interactive": true,
           "name": "legendSymbol",
           "update": {
            "fill": {
             "value": "transparent"
            },
            "opacity": [
             {
              "test": "!length(data('selected')) || indata('selected', 'value', datum.value)",
              "value": 0.7
             },
             {
              "value": 0.15
             }
            ],
            "size": {
             "value": 64
            },
            "strokeWidth": {
             "value": 2
            }
           }
          }
         },
         "stroke": "color"
        }
       ],
       "marks": [
        {
         "from": {
          "facet": {
           "data": "points",
           "groupby": "trajectory",
           "name": "points_split"
          }
         },
         "marks": [
          {
           "encode": {
            "hover": {
             "fillOpacity": {
              "value": 0.9
             }
            },
            "update": {
             "fill": {
              "field": "trajectory",
              "scale": "color"
             },
             "fillOpacity": [
              {
               "test": "!length(data('selected')) || indata('selected', 'value', datum.trajectory)",
               "value": 0.5
              },
              {
               "value": 0.15
              }
             ],
             "stroke": {
              "field": "trajectory",
              "scale": "color"
             },
             "strokeOpacity": [
              {
               "test": "!length(data('selected')) || indata('selected', 'value', datum.trajectory)",
               "value": 0.75
              },
              {
               "value": 0.15
              }
             ],
             "strokeWidth": {
              "value": 2
             },
             "x": {
              "field": "time",
              "scale": "xscale"
             },
             "y": {
              "field": "value",
              "scale": "yscale"
             }
            }
           },
           "from": {
            "data": "points"
           },
           "name": "_points",
           "type": "symbol",
           "zindex": 3
          },
          {
           "encode": {
            "hover": {
             "fillOpacity": {
              "value": 0.9
             }
            },
            "update": {
             "interpolate": {
              "value": "linear"
             },
             "stroke": {
              "field": "trajectory",
              "scale": "color"
             },
             "strokeOpacity": [
              {
               "test": "!length(data('selected')) || indata('selected', 'value', datum.trajectory)",
               "value": 0.3
              },
              {
               "value": 0.1
              }
             ],
             "strokeWidth": {
              "value": 2
             },
             "x": {
              "field": "time",
              "scale": "xscale"
             },
             "y": {
              "field": "value",
              "scale": "yscale"
             }
            }
           },
           "from": {
            "data": "points"
           },
           "name": "_points_line",
           "type": "line",
           "zindex": 3
          }
         ],
         "type": "group",
         "zindex": 3
        },
        {
         "from": {
          "facet": {
           "data": "tracks",
           "groupby": "trajectory",
           "name": "track_split"
          }
         },
         "marks": [
          {
           "encode": {
            "hover": {
             "fillOpacity": {
              "value": 0.9
             }
            },
            "update": {
             "interpolate": {
              "value": "linear"
             },
             "stroke": {
              "field": "trajectory",
              "scale": "color"
             },
             "strokeOpacity": [
              {
               "test": "!length(data('selected')) || indata('selected', 'value', datum.trajectory)",
               "value": 0.75
              },
              {
               "value": 0.15
              }
             ],
             "strokeWidth": {
              "value": 2
             },
             "x": {
              "field": "time",
              "scale": "xscale"
             },
             "y": {
              "field": "value",
              "scale": "yscale"
             }
            }
           },
           "from": {
            "data": "track_split"
           },
           "name": "_tracks",
           "type": "line"
          }
         ],
         "name": "_tracks",
         "type": "group",
         "zindex": 2
        },
        {
         "from": {
          "facet": {
           "data": "distributions",
           "groupby": "trajectory",
           "name": "trajectory_split"
          }
         },
         "marks": [
          {
           "encode": {
            "hover": {
             "fillOpacity": {
              "value": 0.9
             }
            },
            "update": {
             "fill": {
              "field": "trajectory",
              "scale": "color"
             },
             "fillOpacity": [
              {
               "test": "!length(data('selected')) || indata('selected', 'value', datum.trajectory)",
               "value": 0.5
              },
              {
               "value": 0.15
              }
             ],
             "interpolate": {
              "value": "linear"
             },
             "stroke": {
              "field": "trajectory",
              "scale": "color"
             },
             "strokeOpacity": [
              {
               "test": "!length(data('selected')) || indata('selected', 'value', datum.trajectory)",
               "value": 0.75
              },
              {
               "value": 0.15
              }
             ],
             "strokeWidth": {
              "value": 2
             },
             "x": {
              "field": "time",
              "scale": "xscale"
             },
             "y": {
              "field": "upper",
              "scale": "yscale"
             },
             "y2": {
              "field": "lower",
              "scale": "yscale"
             }
            }
           },
           "from": {
            "data": "trajectory_split"
           },
           "type": "area"
          }
         ],
         "name": "_distributions",
         "type": "group",
         "zindex": 1
        }
       ],
       "padding": 5,
       "scales": [
        {
         "domain": {
          "fields": [
           {
            "data": "distributions",
            "field": "time"
           },
           {
            "data": "tracks",
            "field": "time"
           },
           {
            "data": "points",
            "field": "time"
           }
          ]
         },
         "name": "xscale",
         "range": "width",
         "type": "linear",
         "zero": false
        },
        {
         "domain": {
          "fields": [
           {
            "data": "distributions",
            "field": "lower"
           },
           {
            "data": "distributions",
            "field": "upper"
           },
           {
            "data": "tracks",
            "field": "value"
           },
           {
            "data": "points",
            "field": "value"
           }
          ]
         },
         "name": "yscale",
         "nice": true,
         "range": "height",
         "type": "linear",
         "zero": true
        },
        {
         "domain": {
          "fields": [
           {
            "data": "distributions",
            "field": "trajectory"
           },
           {
            "data": "tracks",
            "field": "trajectory"
           },
           {
            "data": "points",
            "field": "trajectory"
           }
          ]
         },
         "name": "color",
         "range": "category",
         "type": "ordinal"
        }
       ],
       "signals": [
        {
         "name": "clear",
         "on": [
          {
           "events": "mouseup[!event.item]",
           "force": true,
           "update": "true"
          }
         ],
         "value": true
        },
        {
         "name": "shift",
         "on": [
          {
           "events": "@legendSymbol:click, @legendLabel:click",
           "force": true,
           "update": "event.shiftKey"
          }
         ],
         "value": false
        },
        {
         "name": "clicked",
         "on": [
          {
           "events": "@legendSymbol:click, @legendLabel:click",
           "force": true,
           "update": "{value: datum.value}"
          }
         ],
         "value": null
        }
       ],
       "width": 500
      }
     },
     "metadata": {},
     "output_type": "display_data"
    }
   ],
   "source": [
    "nice_labels={\"Rabbits_sol\": \"Rabbits\", \"Wolves_sol\": \"Wolves\"}\n",
    "schema = vega.trajectories(prior_samples, tspan, \n",
    "                           subset=\".*_sol\", \n",
    "                           relabel=nice_labels,\n",
    "                           points=observed_points)\n",
    "schema = vega.pad(schema, 5)\n",
    "vega.save_schema(schema, \"_schema.json\")\n",
    "vega.ipy_display(schema)"
   ]
  },
  {
   "cell_type": "code",
   "execution_count": 19,
   "metadata": {},
   "outputs": [
    {
     "data": {
      "application/vnd.vega.v5+json": {
       "$schema": "https://vega.github.io/schema/vega/v5.json",
       "axes": [
        {
         "orient": "bottom",
         "scale": "xscale",
         "zindex": 100
        },
        {
         "orient": "left",
         "scale": "yscale",
         "zindex": 100
        }
       ],
       "data": [
        {
         "name": "distributions",
         "values": [
          {
           "lower": 0.5051243111491204,
           "time": 1,
           "trajectory": "Rabbits",
           "upper": 0.6488389670848846
          },
          {
           "lower": 0.4810523107647896,
           "time": 1.0981963872909546,
           "trajectory": "Rabbits",
           "upper": 0.6317649573087692
          },
          {
           "lower": 0.4601885452866554,
           "time": 1.1963927745819092,
           "trajectory": "Rabbits",
           "upper": 0.6172279119491577
          },
          {
           "lower": 0.44223228096961975,
           "time": 1.2945891618728638,
           "trajectory": "Rabbits",
           "upper": 0.6050723165273666
          },
          {
           "lower": 0.4269068524241447,
           "time": 1.3927855491638184,
           "trajectory": "Rabbits",
           "upper": 0.5951532989740371
          },
          {
           "lower": 0.41377234309911726,
           "time": 1.490981936454773,
           "trajectory": "Rabbits",
           "upper": 0.5873368799686431
          },
          {
           "lower": 0.40248590111732485,
           "time": 1.5891783237457275,
           "trajectory": "Rabbits",
           "upper": 0.5815026640892028
          },
          {
           "lower": 0.3931929439306259,
           "time": 1.6873748302459717,
           "trajectory": "Rabbits",
           "upper": 0.5775427132844925
          },
          {
           "lower": 0.3862742096185684,
           "time": 1.7855710983276367,
           "trajectory": "Rabbits",
           "upper": 0.5753624409437179
          },
          {
           "lower": 0.38118805140256884,
           "time": 1.8837674856185913,
           "trajectory": "Rabbits",
           "upper": 0.5757302582263947
          },
          {
           "lower": 0.3776500791311264,
           "time": 1.981963872909546,
           "trajectory": "Rabbits",
           "upper": 0.5796148270368576
          },
          {
           "lower": 0.37555393427610395,
           "time": 2.08016037940979,
           "trajectory": "Rabbits",
           "upper": 0.585342624783516
          },
          {
           "lower": 0.3748101145029068,
           "time": 2.178356647491455,
           "trajectory": "Rabbits",
           "upper": 0.5931292980909347
          },
          {
           "lower": 0.3753451660275459,
           "time": 2.276553153991699,
           "trajectory": "Rabbits",
           "upper": 0.6025383323431015
          },
          {
           "lower": 0.377096489071846,
           "time": 2.3747494220733643,
           "trajectory": "Rabbits",
           "upper": 0.6135480284690856
          },
          {
           "lower": 0.3800157144665718,
           "time": 2.4729459285736084,
           "trajectory": "Rabbits",
           "upper": 0.6261454164981841
          },
          {
           "lower": 0.3840783342719078,
           "time": 2.5711421966552734,
           "trajectory": "Rabbits",
           "upper": 0.6403272837400436
          },
          {
           "lower": 0.3895245581865311,
           "time": 2.6693387031555176,
           "trajectory": "Rabbits",
           "upper": 0.6560939222574232
          },
          {
           "lower": 0.39607561081647874,
           "time": 2.7675349712371826,
           "trajectory": "Rabbits",
           "upper": 0.6737348735332488
          },
          {
           "lower": 0.4037196129560471,
           "time": 2.8657314777374268,
           "trajectory": "Rabbits",
           "upper": 0.6940728366374967
          },
          {
           "lower": 0.41245175153017044,
           "time": 2.963927745819092,
           "trajectory": "Rabbits",
           "upper": 0.7161092609167097
          },
          {
           "lower": 0.4222735777497292,
           "time": 3.062124252319336,
           "trajectory": "Rabbits",
           "upper": 0.7398648440837858
          },
          {
           "lower": 0.43319143205881117,
           "time": 3.160320520401001,
           "trajectory": "Rabbits",
           "upper": 0.7646123915910719
          },
          {
           "lower": 0.4452171564102173,
           "time": 3.258517026901245,
           "trajectory": "Rabbits",
           "upper": 0.7892877429723737
          },
          {
           "lower": 0.4569105193018913,
           "time": 3.3567135334014893,
           "trajectory": "Rabbits",
           "upper": 0.815542286634445
          },
          {
           "lower": 0.4695918634533882,
           "time": 3.4549100399017334,
           "trajectory": "Rabbits",
           "upper": 0.8433761298656461
          },
          {
           "lower": 0.483332422375679,
           "time": 3.5531063079833984,
           "trajectory": "Rabbits",
           "upper": 0.8727851301431654
          },
          {
           "lower": 0.4981502011418343,
           "time": 3.6513028144836426,
           "trajectory": "Rabbits",
           "upper": 0.9037574321031568
          },
          {
           "lower": 0.5140681594610215,
           "time": 3.7494990825653076,
           "trajectory": "Rabbits",
           "upper": 0.9362738102674482
          },
          {
           "lower": 0.5311100453138351,
           "time": 3.8476955890655518,
           "trajectory": "Rabbits",
           "upper": 0.970302867889404
          },
          {
           "lower": 0.5493017822504044,
           "time": 3.945891857147217,
           "trajectory": "Rabbits",
           "upper": 1.0058008164167402
          },
          {
           "lower": 0.5684487670660019,
           "time": 4.044088363647461,
           "trajectory": "Rabbits",
           "upper": 1.0427060514688489
          },
          {
           "lower": 0.5885705500841141,
           "time": 4.142284393310547,
           "trajectory": "Rabbits",
           "upper": 1.0809359312057492
          },
          {
           "lower": 0.6098981499671936,
           "time": 4.240480899810791,
           "trajectory": "Rabbits",
           "upper": 1.1203878223896024
          },
          {
           "lower": 0.6324594795703888,
           "time": 4.338677406311035,
           "trajectory": "Rabbits",
           "upper": 1.1609291970729825
          },
          {
           "lower": 0.6562829375267029,
           "time": 4.436873435974121,
           "trajectory": "Rabbits",
           "upper": 1.2023967802524564
          },
          {
           "lower": 0.6823425441980362,
           "time": 4.535069942474365,
           "trajectory": "Rabbits",
           "upper": 1.244588083028793
          },
          {
           "lower": 0.7107869565486908,
           "time": 4.633266448974609,
           "trajectory": "Rabbits",
           "upper": 1.2872623503208158
          },
          {
           "lower": 0.7407032549381256,
           "time": 4.7314629554748535,
           "trajectory": "Rabbits",
           "upper": 1.3301270723342893
          },
          {
           "lower": 0.7721204370260238,
           "time": 4.8296589851379395,
           "trajectory": "Rabbits",
           "upper": 1.3728431224822994
          },
          {
           "lower": 0.805060988664627,
           "time": 4.927855491638184,
           "trajectory": "Rabbits",
           "upper": 1.4171339631080624
          },
          {
           "lower": 0.8395456910133362,
           "time": 5.026051998138428,
           "trajectory": "Rabbits",
           "upper": 1.4623533129692075
          },
          {
           "lower": 0.8755844682455063,
           "time": 5.124248504638672,
           "trajectory": "Rabbits",
           "upper": 1.5069728612899778
          },
          {
           "lower": 0.9131788015365601,
           "time": 5.222444534301758,
           "trajectory": "Rabbits",
           "upper": 1.5505466878414154
          },
          {
           "lower": 0.9523179590702057,
           "time": 5.320641040802002,
           "trajectory": "Rabbits",
           "upper": 1.5925707936286926
          },
          {
           "lower": 0.9904650866985321,
           "time": 5.418837547302246,
           "trajectory": "Rabbits",
           "upper": 1.6349843382835387
          },
          {
           "lower": 1.0290996789932252,
           "time": 5.51703405380249,
           "trajectory": "Rabbits",
           "upper": 1.6903327703475952
          },
          {
           "lower": 1.068894773721695,
           "time": 5.615230083465576,
           "trajectory": "Rabbits",
           "upper": 1.7450684905052185
          },
          {
           "lower": 1.1097592115402222,
           "time": 5.7134270668029785,
           "trajectory": "Rabbits",
           "upper": 1.7986104249954225
          },
          {
           "lower": 1.151575994491577,
           "time": 5.811623573303223,
           "trajectory": "Rabbits",
           "upper": 1.850271362066269
          },
          {
           "lower": 1.1941976070404052,
           "time": 5.909820079803467,
           "trajectory": "Rabbits",
           "upper": 1.899582540988922
          },
          {
           "lower": 1.23744078874588,
           "time": 6.008016109466553,
           "trajectory": "Rabbits",
           "upper": 1.943354856967926
          },
          {
           "lower": 1.2810803174972534,
           "time": 6.106212615966797,
           "trajectory": "Rabbits",
           "upper": 1.9746112644672393
          },
          {
           "lower": 1.3245567440986634,
           "time": 6.204409122467041,
           "trajectory": "Rabbits",
           "upper": 2.006672477722168
          },
          {
           "lower": 1.3671102821826935,
           "time": 6.302605628967285,
           "trajectory": "Rabbits",
           "upper": 2.0283280491828917
          },
          {
           "lower": 1.408983862400055,
           "time": 6.400801658630371,
           "trajectory": "Rabbits",
           "upper": 2.01531400680542
          },
          {
           "lower": 1.4367581963539124,
           "time": 6.498998165130615,
           "trajectory": "Rabbits",
           "upper": 2.0211418747901915
          },
          {
           "lower": 1.4506515979766845,
           "time": 6.597194671630859,
           "trajectory": "Rabbits",
           "upper": 2.015464460849762
          },
          {
           "lower": 1.4284321010112762,
           "time": 6.6953911781311035,
           "trajectory": "Rabbits",
           "upper": 1.9974848330020905
          },
          {
           "lower": 1.4066657185554505,
           "time": 6.7935872077941895,
           "trajectory": "Rabbits",
           "upper": 1.9946840226650238
          },
          {
           "lower": 1.3370188474655151,
           "time": 6.891783714294434,
           "trajectory": "Rabbits",
           "upper": 1.973221319913864
          },
          {
           "lower": 1.268656712770462,
           "time": 6.989980220794678,
           "trajectory": "Rabbits",
           "upper": 1.946996235847473
          },
          {
           "lower": 1.2056418180465698,
           "time": 7.088176727294922,
           "trajectory": "Rabbits",
           "upper": 1.926825213432312
          },
          {
           "lower": 1.1426748096942902,
           "time": 7.186372756958008,
           "trajectory": "Rabbits",
           "upper": 1.8917805612087248
          },
          {
           "lower": 1.0809118807315827,
           "time": 7.284569263458252,
           "trajectory": "Rabbits",
           "upper": 1.873773556947708
          },
          {
           "lower": 1.021326494216919,
           "time": 7.382765769958496,
           "trajectory": "Rabbits",
           "upper": 1.838645803928375
          },
          {
           "lower": 0.9646812707185746,
           "time": 7.48096227645874,
           "trajectory": "Rabbits",
           "upper": 1.7861752212047575
          },
          {
           "lower": 0.9115411072969437,
           "time": 7.579158306121826,
           "trajectory": "Rabbits",
           "upper": 1.7476635694503784
          },
          {
           "lower": 0.8622704237699509,
           "time": 7.67735481262207,
           "trajectory": "Rabbits",
           "upper": 1.7020660996437074
          },
          {
           "lower": 0.8200316578149796,
           "time": 7.7755513191223145,
           "trajectory": "Rabbits",
           "upper": 1.650298374891281
          },
          {
           "lower": 0.7819973856210709,
           "time": 7.873747825622559,
           "trajectory": "Rabbits",
           "upper": 1.6116529524326324
          },
          {
           "lower": 0.7480799227952957,
           "time": 7.9719438552856445,
           "trajectory": "Rabbits",
           "upper": 1.563731038570404
          },
          {
           "lower": 0.7194193333387375,
           "time": 8.070140838623047,
           "trajectory": "Rabbits",
           "upper": 1.5072274923324585
          },
          {
           "lower": 0.6914891541004181,
           "time": 8.168336868286133,
           "trajectory": "Rabbits",
           "upper": 1.4292892456054687
          },
          {
           "lower": 0.6670606106519699,
           "time": 8.266533851623535,
           "trajectory": "Rabbits",
           "upper": 1.3471659898757935
          },
          {
           "lower": 0.641142001748085,
           "time": 8.364729881286621,
           "trajectory": "Rabbits",
           "upper": 1.2633545577526093
          },
          {
           "lower": 0.6135189205408096,
           "time": 8.462926864624023,
           "trajectory": "Rabbits",
           "upper": 1.1872593283653259
          },
          {
           "lower": 0.5919944554567337,
           "time": 8.56112289428711,
           "trajectory": "Rabbits",
           "upper": 1.1166882276535033
          },
          {
           "lower": 0.571210527420044,
           "time": 8.659318923950195,
           "trajectory": "Rabbits",
           "upper": 1.0470829546451568
          },
          {
           "lower": 0.5549307703971863,
           "time": 8.757515907287598,
           "trajectory": "Rabbits",
           "upper": 0.9762333691120146
          },
          {
           "lower": 0.5424787819385528,
           "time": 8.855710983276367,
           "trajectory": "Rabbits",
           "upper": 0.9051215559244155
          },
          {
           "lower": 0.5280335992574692,
           "time": 8.953907012939453,
           "trajectory": "Rabbits",
           "upper": 0.8438710719346999
          },
          {
           "lower": 0.5136239737272262,
           "time": 9.052103996276855,
           "trajectory": "Rabbits",
           "upper": 0.7899392932653426
          },
          {
           "lower": 0.5010840415954589,
           "time": 9.150300025939941,
           "trajectory": "Rabbits",
           "upper": 0.741310104727745
          },
          {
           "lower": 0.4843059152364731,
           "time": 9.248497009277344,
           "trajectory": "Rabbits",
           "upper": 0.6987793892621994
          },
          {
           "lower": 0.46948242634534837,
           "time": 9.34669303894043,
           "trajectory": "Rabbits",
           "upper": 0.6654698103666306
          },
          {
           "lower": 0.456996813416481,
           "time": 9.444889068603516,
           "trajectory": "Rabbits",
           "upper": 0.6317428410053253
          },
          {
           "lower": 0.44688632488250735,
           "time": 9.543086051940918,
           "trajectory": "Rabbits",
           "upper": 0.6195917665958404
          },
          {
           "lower": 0.4393170580267906,
           "time": 9.64128303527832,
           "trajectory": "Rabbits",
           "upper": 0.5936942964792251
          },
          {
           "lower": 0.43049156963825225,
           "time": 9.739479064941406,
           "trajectory": "Rabbits",
           "upper": 0.5928875982761382
          },
          {
           "lower": 0.42122622579336166,
           "time": 9.837676048278809,
           "trajectory": "Rabbits",
           "upper": 0.604402607679367
          },
          {
           "lower": 0.4145303204655647,
           "time": 9.935872077941895,
           "trajectory": "Rabbits",
           "upper": 0.6175673276185989
          },
          {
           "lower": 0.409544937312603,
           "time": 10.034069061279297,
           "trajectory": "Rabbits",
           "upper": 0.6323772072792053
          },
          {
           "lower": 0.4043998926877975,
           "time": 10.132265090942383,
           "trajectory": "Rabbits",
           "upper": 0.648832431435585
          },
          {
           "lower": 0.39657222479581833,
           "time": 10.230461120605469,
           "trajectory": "Rabbits",
           "upper": 0.6669412821531295
          },
          {
           "lower": 0.3914209812879562,
           "time": 10.328658103942871,
           "trajectory": "Rabbits",
           "upper": 0.6867181420326233
          },
          {
           "lower": 0.38856773972511294,
           "time": 10.426854133605957,
           "trajectory": "Rabbits",
           "upper": 0.7081786185503005
          },
          {
           "lower": 0.3846037968993187,
           "time": 10.525050163269043,
           "trajectory": "Rabbits",
           "upper": 0.7313447654247283
          },
          {
           "lower": 0.38213504999876025,
           "time": 10.623247146606445,
           "trajectory": "Rabbits",
           "upper": 0.7562388241291045
          },
          {
           "lower": 0.3810760900378227,
           "time": 10.721443176269531,
           "trajectory": "Rabbits",
           "upper": 0.7828852593898772
          },
          {
           "lower": 0.38122865110635756,
           "time": 10.819640159606934,
           "trajectory": "Rabbits",
           "upper": 0.8113089025020598
          },
          {
           "lower": 0.38336937576532365,
           "time": 10.91783618927002,
           "trajectory": "Rabbits",
           "upper": 0.8415317207574843
          },
          {
           "lower": 0.3866841092705727,
           "time": 11.016032218933105,
           "trajectory": "Rabbits",
           "upper": 0.8735748052597044
          },
          {
           "lower": 0.3911342531442642,
           "time": 11.114229202270508,
           "trajectory": "Rabbits",
           "upper": 0.9074536323547362
          },
          {
           "lower": 0.39669124931097033,
           "time": 11.212425231933594,
           "trajectory": "Rabbits",
           "upper": 0.9431790947914122
          },
          {
           "lower": 0.40181774348020555,
           "time": 11.31062126159668,
           "trajectory": "Rabbits",
           "upper": 0.9807507842779157
          },
          {
           "lower": 0.407728835940361,
           "time": 11.408818244934082,
           "trajectory": "Rabbits",
           "upper": 1.0201601594686507
          },
          {
           "lower": 0.4146845549345016,
           "time": 11.507014274597168,
           "trajectory": "Rabbits",
           "upper": 1.0613841593265532
          },
          {
           "lower": 0.42267623692750933,
           "time": 11.60521125793457,
           "trajectory": "Rabbits",
           "upper": 1.1043815016746519
          },
          {
           "lower": 0.4317007020115852,
           "time": 11.703407287597656,
           "trajectory": "Rabbits",
           "upper": 1.1490903258323666
          },
          {
           "lower": 0.4413680672645569,
           "time": 11.801603317260742,
           "trajectory": "Rabbits",
           "upper": 1.195424300432205
          },
          {
           "lower": 0.4518758445978165,
           "time": 11.899800300598145,
           "trajectory": "Rabbits",
           "upper": 1.2405022025108334
          },
          {
           "lower": 0.4634175285696983,
           "time": 11.99799633026123,
           "trajectory": "Rabbits",
           "upper": 1.2830369472503658
          },
          {
           "lower": 0.476004995405674,
           "time": 12.096192359924316,
           "trajectory": "Rabbits",
           "upper": 1.3257771432399745
          },
          {
           "lower": 0.48965266942977903,
           "time": 12.194389343261719,
           "trajectory": "Rabbits",
           "upper": 1.368388450145721
          },
          {
           "lower": 0.5043785005807877,
           "time": 12.292585372924805,
           "trajectory": "Rabbits",
           "upper": 1.4104705750942226
          },
          {
           "lower": 0.5202018976211548,
           "time": 12.390782356262207,
           "trajectory": "Rabbits",
           "upper": 1.4515727937221523
          },
          {
           "lower": 0.5371453166007996,
           "time": 12.488978385925293,
           "trajectory": "Rabbits",
           "upper": 1.491175544261932
          },
          {
           "lower": 0.5552328586578369,
           "time": 12.587174415588379,
           "trajectory": "Rabbits",
           "upper": 1.5286987662315366
          },
          {
           "lower": 0.5746016263961792,
           "time": 12.685371398925781,
           "trajectory": "Rabbits",
           "upper": 1.5635028123855588
          },
          {
           "lower": 0.5970102906227112,
           "time": 12.783567428588867,
           "trajectory": "Rabbits",
           "upper": 1.5948892235755918
          },
          {
           "lower": 0.6207388818264008,
           "time": 12.881763458251953,
           "trajectory": "Rabbits",
           "upper": 1.6221232175827025
          },
          {
           "lower": 0.6453634649515152,
           "time": 12.979960441589355,
           "trajectory": "Rabbits",
           "upper": 1.644442594051361
          },
          {
           "lower": 0.6708035081624985,
           "time": 13.078156471252441,
           "trajectory": "Rabbits",
           "upper": 1.6610858678817748
          },
          {
           "lower": 0.6968708425760269,
           "time": 13.176353454589844,
           "trajectory": "Rabbits",
           "upper": 1.6713273644447326
          },
          {
           "lower": 0.7234418570995331,
           "time": 13.27454948425293,
           "trajectory": "Rabbits",
           "upper": 1.6745122253894806
          },
          {
           "lower": 0.7513154923915863,
           "time": 13.372745513916016,
           "trajectory": "Rabbits",
           "upper": 1.6727754712104796
          },
          {
           "lower": 0.78050856590271,
           "time": 13.470942497253418,
           "trajectory": "Rabbits",
           "upper": 1.716128623485565
          },
          {
           "lower": 0.8110340058803559,
           "time": 13.569138526916504,
           "trajectory": "Rabbits",
           "upper": 1.7695979833602904
          },
          {
           "lower": 0.842897766828537,
           "time": 13.66733455657959,
           "trajectory": "Rabbits",
           "upper": 1.8139043271541595
          },
          {
           "lower": 0.8761000365018845,
           "time": 13.765531539916992,
           "trajectory": "Rabbits",
           "upper": 1.8211844146251677
          },
          {
           "lower": 0.9106319785118103,
           "time": 13.863727569580078,
           "trajectory": "Rabbits",
           "upper": 1.8637800216674802
          },
          {
           "lower": 0.9464745968580246,
           "time": 13.96192455291748,
           "trajectory": "Rabbits",
           "upper": 1.8995178580284118
          },
          {
           "lower": 0.9835943669080734,
           "time": 14.060120582580566,
           "trajectory": "Rabbits",
           "upper": 1.912487632036209
          },
          {
           "lower": 1.0219449251890182,
           "time": 14.158316612243652,
           "trajectory": "Rabbits",
           "upper": 1.9452049076557159
          },
          {
           "lower": 1.0614603579044342,
           "time": 14.256513595581055,
           "trajectory": "Rabbits",
           "upper": 1.9617474615573882
          },
          {
           "lower": 1.1020531356334686,
           "time": 14.35470962524414,
           "trajectory": "Rabbits",
           "upper": 1.9881222665309906
          },
          {
           "lower": 1.1269083678722382,
           "time": 14.452905654907227,
           "trajectory": "Rabbits",
           "upper": 2.0061532855033875
          },
          {
           "lower": 1.1055106699466706,
           "time": 14.551102638244629,
           "trajectory": "Rabbits",
           "upper": 2.0061437666416166
          },
          {
           "lower": 1.0808826684951782,
           "time": 14.649298667907715,
           "trajectory": "Rabbits",
           "upper": 1.9949356257915496
          },
          {
           "lower": 1.0539768517017365,
           "time": 14.747495651245117,
           "trajectory": "Rabbits",
           "upper": 1.987330251932144
          },
          {
           "lower": 0.9956606686115265,
           "time": 14.845691680908203,
           "trajectory": "Rabbits",
           "upper": 1.977737545967102
          },
          {
           "lower": 0.9405529707670212,
           "time": 14.943887710571289,
           "trajectory": "Rabbits",
           "upper": 1.9775248050689695
          },
          {
           "lower": 0.8891286879777909,
           "time": 15.042084693908691,
           "trajectory": "Rabbits",
           "upper": 1.9683462738990782
          },
          {
           "lower": 0.8416773855686188,
           "time": 15.140280723571777,
           "trajectory": "Rabbits",
           "upper": 1.9223632514476774
          },
          {
           "lower": 0.7987896740436554,
           "time": 15.238476753234863,
           "trajectory": "Rabbits",
           "upper": 1.9055021107196808
          },
          {
           "lower": 0.7641114115715026,
           "time": 15.336673736572266,
           "trajectory": "Rabbits",
           "upper": 1.8573774456977843
          },
          {
           "lower": 0.7325069457292557,
           "time": 15.434869766235352,
           "trajectory": "Rabbits",
           "upper": 1.838408941030502
          },
          {
           "lower": 0.7046769589185715,
           "time": 15.533066749572754,
           "trajectory": "Rabbits",
           "upper": 1.8566193163394926
          },
          {
           "lower": 0.6805095404386521,
           "time": 15.63126277923584,
           "trajectory": "Rabbits",
           "upper": 1.8516739666461943
          },
          {
           "lower": 0.6646953701972962,
           "time": 15.729458808898926,
           "trajectory": "Rabbits",
           "upper": 1.8386036038398743
          },
          {
           "lower": 0.6481923609972,
           "time": 15.827655792236328,
           "trajectory": "Rabbits",
           "upper": 1.8343990445137024
          },
          {
           "lower": 0.6312552928924561,
           "time": 15.925851821899414,
           "trajectory": "Rabbits",
           "upper": 1.8231343924999235
          },
          {
           "lower": 0.6174396783113479,
           "time": 16.0240478515625,
           "trajectory": "Rabbits",
           "upper": 1.796340215206146
          },
          {
           "lower": 0.6048211842775345,
           "time": 16.122243881225586,
           "trajectory": "Rabbits",
           "upper": 1.7632344782352447
          },
          {
           "lower": 0.5861428260803223,
           "time": 16.220441818237305,
           "trajectory": "Rabbits",
           "upper": 1.7273318111896514
          },
          {
           "lower": 0.5645932614803314,
           "time": 16.31863784790039,
           "trajectory": "Rabbits",
           "upper": 1.6872319936752318
          },
          {
           "lower": 0.5531397134065628,
           "time": 16.416833877563477,
           "trajectory": "Rabbits",
           "upper": 1.6694511115550994
          },
          {
           "lower": 0.5454001277685165,
           "time": 16.515029907226562,
           "trajectory": "Rabbits",
           "upper": 1.6414436995983124
          },
          {
           "lower": 0.5345095366239547,
           "time": 16.61322593688965,
           "trajectory": "Rabbits",
           "upper": 1.6056683242321013
          },
          {
           "lower": 0.5248127788305282,
           "time": 16.711421966552734,
           "trajectory": "Rabbits",
           "upper": 1.5370599269866942
          },
          {
           "lower": 0.5188495635986328,
           "time": 16.80961799621582,
           "trajectory": "Rabbits",
           "upper": 1.4614464104175569
          },
          {
           "lower": 0.5141069158911705,
           "time": 16.907814025878906,
           "trajectory": "Rabbits",
           "upper": 1.3810622274875641
          },
          {
           "lower": 0.5036842778325081,
           "time": 17.006011962890625,
           "trajectory": "Rabbits",
           "upper": 1.3148657023906707
          },
          {
           "lower": 0.4955750972032547,
           "time": 17.10420799255371,
           "trajectory": "Rabbits",
           "upper": 1.2469740509986875
          },
          {
           "lower": 0.486618934571743,
           "time": 17.202404022216797,
           "trajectory": "Rabbits",
           "upper": 1.1773756980895993
          },
          {
           "lower": 0.4762810945510864,
           "time": 17.300600051879883,
           "trajectory": "Rabbits",
           "upper": 1.1075618743896483
          },
          {
           "lower": 0.4718186900019646,
           "time": 17.39879608154297,
           "trajectory": "Rabbits",
           "upper": 1.0388622075319287
          },
          {
           "lower": 0.4622297614812851,
           "time": 17.496994018554688,
           "trajectory": "Rabbits",
           "upper": 0.9670342475175854
          },
          {
           "lower": 0.4485212951898575,
           "time": 17.595190048217773,
           "trajectory": "Rabbits",
           "upper": 0.8990428447723385
          },
          {
           "lower": 0.44212027490139005,
           "time": 17.69338607788086,
           "trajectory": "Rabbits",
           "upper": 0.8747189581394195
          },
          {
           "lower": 0.44298544377088545,
           "time": 17.791584014892578,
           "trajectory": "Rabbits",
           "upper": 0.8403298556804656
          },
          {
           "lower": 0.4412238642573357,
           "time": 17.889780044555664,
           "trajectory": "Rabbits",
           "upper": 0.8073499917984008
          },
          {
           "lower": 0.4404029667377472,
           "time": 17.98797607421875,
           "trajectory": "Rabbits",
           "upper": 0.756241524219513
          },
          {
           "lower": 0.4368326559662819,
           "time": 18.086172103881836,
           "trajectory": "Rabbits",
           "upper": 0.748366367816925
          },
          {
           "lower": 0.42849123030900954,
           "time": 18.184368133544922,
           "trajectory": "Rabbits",
           "upper": 0.7742634236812591
          },
          {
           "lower": 0.41640654951334,
           "time": 18.28256607055664,
           "trajectory": "Rabbits",
           "upper": 0.8020657032728196
          },
          {
           "lower": 0.4095948994159698,
           "time": 18.380762100219727,
           "trajectory": "Rabbits",
           "upper": 0.8316493302583694
          },
          {
           "lower": 0.4073739260435104,
           "time": 18.478958129882812,
           "trajectory": "Rabbits",
           "upper": 0.8630342334508896
          },
          {
           "lower": 0.4066722258925438,
           "time": 18.57715606689453,
           "trajectory": "Rabbits",
           "upper": 0.8962369143962859
          },
          {
           "lower": 0.4074068084359169,
           "time": 18.675352096557617,
           "trajectory": "Rabbits",
           "upper": 0.931265839934349
          },
          {
           "lower": 0.40268880128860474,
           "time": 18.773548126220703,
           "trajectory": "Rabbits",
           "upper": 0.9681242197751998
          },
          {
           "lower": 0.399829663336277,
           "time": 18.87174415588379,
           "trajectory": "Rabbits",
           "upper": 1.006803148984909
          },
          {
           "lower": 0.40095287263393403,
           "time": 18.969940185546875,
           "trajectory": "Rabbits",
           "upper": 1.047283226251602
          },
          {
           "lower": 0.4031273275613785,
           "time": 19.06813621520996,
           "trajectory": "Rabbits",
           "upper": 1.0895249366760253
          },
          {
           "lower": 0.3990011066198349,
           "time": 19.166332244873047,
           "trajectory": "Rabbits",
           "upper": 1.1334718346595762
          },
          {
           "lower": 0.39364364594221113,
           "time": 19.264528274536133,
           "trajectory": "Rabbits",
           "upper": 1.1790435075759886
          },
          {
           "lower": 0.38806077688932417,
           "time": 19.36272621154785,
           "trajectory": "Rabbits",
           "upper": 1.2261301219463348
          },
          {
           "lower": 0.38450371026992797,
           "time": 19.460922241210938,
           "trajectory": "Rabbits",
           "upper": 1.2745866119861602
          },
          {
           "lower": 0.3875089153647423,
           "time": 19.559118270874023,
           "trajectory": "Rabbits",
           "upper": 1.3242292463779448
          },
          {
           "lower": 0.39167160391807554,
           "time": 19.65731430053711,
           "trajectory": "Rabbits",
           "upper": 1.374829018115997
          },
          {
           "lower": 0.3969603732228279,
           "time": 19.755510330200195,
           "trajectory": "Rabbits",
           "upper": 1.426099723577499
          },
          {
           "lower": 0.4033517211675644,
           "time": 19.853708267211914,
           "trajectory": "Rabbits",
           "upper": 1.4776994168758388
          },
          {
           "lower": 0.4093814805150032,
           "time": 19.951904296875,
           "trajectory": "Rabbits",
           "upper": 1.5238482177257533
          },
          {
           "lower": 0.415441007912159,
           "time": 20.050100326538086,
           "trajectory": "Rabbits",
           "upper": 1.5586489498615261
          },
          {
           "lower": 0.4219281882047653,
           "time": 20.148298263549805,
           "trajectory": "Rabbits",
           "upper": 1.590088194608688
          },
          {
           "lower": 0.4287471905350685,
           "time": 20.24649429321289,
           "trajectory": "Rabbits",
           "upper": 1.6174417972564694
          },
          {
           "lower": 0.4356454789638519,
           "time": 20.344690322875977,
           "trajectory": "Rabbits",
           "upper": 1.639961630105972
          },
          {
           "lower": 0.4435746371746063,
           "time": 20.442886352539062,
           "trajectory": "Rabbits",
           "upper": 1.656901055574417
          },
          {
           "lower": 0.4525284916162491,
           "time": 20.54108238220215,
           "trajectory": "Rabbits",
           "upper": 1.6675437271595
          },
          {
           "lower": 0.4625064104795456,
           "time": 20.639278411865234,
           "trajectory": "Rabbits",
           "upper": 1.6712466537952422
          },
          {
           "lower": 0.4735117956995964,
           "time": 20.73747444152832,
           "trajectory": "Rabbits",
           "upper": 1.6674805879592896
          },
          {
           "lower": 0.485551755130291,
           "time": 20.835670471191406,
           "trajectory": "Rabbits",
           "upper": 1.6580154597759247
          },
          {
           "lower": 0.49863721430301666,
           "time": 20.933868408203125,
           "trajectory": "Rabbits",
           "upper": 1.6465700745582579
          },
          {
           "lower": 0.51282719373703,
           "time": 21.03206443786621,
           "trajectory": "Rabbits",
           "upper": 1.6579146325588225
          },
          {
           "lower": 0.5302152931690216,
           "time": 21.130260467529297,
           "trajectory": "Rabbits",
           "upper": 1.681108945608139
          },
          {
           "lower": 0.548772668838501,
           "time": 21.228456497192383,
           "trajectory": "Rabbits",
           "upper": 1.7017919838428497
          },
          {
           "lower": 0.5685295164585114,
           "time": 21.32665252685547,
           "trajectory": "Rabbits",
           "upper": 1.7162834405899046
          },
          {
           "lower": 0.5895175069570542,
           "time": 21.424850463867188,
           "trajectory": "Rabbits",
           "upper": 1.750265085697174
          },
          {
           "lower": 0.6117695927619934,
           "time": 21.523046493530273,
           "trajectory": "Rabbits",
           "upper": 1.7796592116355896
          },
          {
           "lower": 0.6353199332952499,
           "time": 21.62124252319336,
           "trajectory": "Rabbits",
           "upper": 1.8073849022388457
          },
          {
           "lower": 0.6602031528949738,
           "time": 21.719440460205078,
           "trajectory": "Rabbits",
           "upper": 1.8098789393901824
          },
          {
           "lower": 0.6864525496959687,
           "time": 21.817636489868164,
           "trajectory": "Rabbits",
           "upper": 1.7979984700679776
          },
          {
           "lower": 0.7141019701957703,
           "time": 21.91583251953125,
           "trajectory": "Rabbits",
           "upper": 1.8413004696369168
          },
          {
           "lower": 0.7431831270456314,
           "time": 22.014028549194336,
           "trajectory": "Rabbits",
           "upper": 1.8793084323406217
          },
          {
           "lower": 0.7737266510725022,
           "time": 22.112224578857422,
           "trajectory": "Rabbits",
           "upper": 1.9107930481433866
          },
          {
           "lower": 0.8055409729480744,
           "time": 22.210420608520508,
           "trajectory": "Rabbits",
           "upper": 1.9169816553592682
          },
          {
           "lower": 0.8251921176910401,
           "time": 22.308616638183594,
           "trajectory": "Rabbits",
           "upper": 1.9464172065258025
          },
          {
           "lower": 0.8253151297569274,
           "time": 22.40681266784668,
           "trajectory": "Rabbits",
           "upper": 1.9703969955444336
          },
          {
           "lower": 0.8099280536174774,
           "time": 22.5050106048584,
           "trajectory": "Rabbits",
           "upper": 1.9839801490306854
          },
          {
           "lower": 0.8038699805736542,
           "time": 22.603206634521484,
           "trajectory": "Rabbits",
           "upper": 1.988193392753601
          },
          {
           "lower": 0.7710606127977371,
           "time": 22.70140266418457,
           "trajectory": "Rabbits",
           "upper": 1.9942415654659271
          },
          {
           "lower": 0.7470197588205337,
           "time": 22.799598693847656,
           "trajectory": "Rabbits",
           "upper": 1.9898629844188689
          },
          {
           "lower": 0.7182540386915207,
           "time": 22.897794723510742,
           "trajectory": "Rabbits",
           "upper": 1.9742455959320067
          },
          {
           "lower": 0.6924134820699692,
           "time": 22.99599266052246,
           "trajectory": "Rabbits",
           "upper": 1.9520539820194243
          },
          {
           "lower": 0.6701061934232712,
           "time": 23.094188690185547,
           "trajectory": "Rabbits",
           "upper": 1.951135867834091
          },
          {
           "lower": 0.6516568928956985,
           "time": 23.192384719848633,
           "trajectory": "Rabbits",
           "upper": 1.945321691036224
          },
          {
           "lower": 0.641685864329338,
           "time": 23.29058265686035,
           "trajectory": "Rabbits",
           "upper": 1.9135046660900112
          },
          {
           "lower": 0.6342681467533111,
           "time": 23.388778686523438,
           "trajectory": "Rabbits",
           "upper": 1.8663897991180416
          },
          {
           "lower": 0.6220158934593201,
           "time": 23.486974716186523,
           "trajectory": "Rabbits",
           "upper": 1.8201657950878143
          },
          {
           "lower": 0.6110246002674102,
           "time": 23.58517074584961,
           "trajectory": "Rabbits",
           "upper": 1.7957899630069734
          },
          {
           "lower": 0.6024056732654571,
           "time": 23.683366775512695,
           "trajectory": "Rabbits",
           "upper": 1.7897957324981688
          },
          {
           "lower": 0.5948467195034027,
           "time": 23.78156280517578,
           "trajectory": "Rabbits",
           "upper": 1.80155633687973
          },
          {
           "lower": 0.5786105751991272,
           "time": 23.879758834838867,
           "trajectory": "Rabbits",
           "upper": 1.8087110340595243
          },
          {
           "lower": 0.5645324528217316,
           "time": 23.977954864501953,
           "trajectory": "Rabbits",
           "upper": 1.7801218628883362
          },
          {
           "lower": 0.5540674448013305,
           "time": 24.076152801513672,
           "trajectory": "Rabbits",
           "upper": 1.7751892149448394
          },
          {
           "lower": 0.5473203241825104,
           "time": 24.174348831176758,
           "trajectory": "Rabbits",
           "upper": 1.8003147721290587
          },
          {
           "lower": 0.5480239897966385,
           "time": 24.272544860839844,
           "trajectory": "Rabbits",
           "upper": 1.8223768889904022
          },
          {
           "lower": 0.54021315574646,
           "time": 24.37074089050293,
           "trajectory": "Rabbits",
           "upper": 1.8227047383785249
          },
          {
           "lower": 0.5324098408222199,
           "time": 24.468936920166016,
           "trajectory": "Rabbits",
           "upper": 1.8212045967578887
          },
          {
           "lower": 0.5270693153142929,
           "time": 24.567134857177734,
           "trajectory": "Rabbits",
           "upper": 1.8120733976364134
          },
          {
           "lower": 0.52107774913311,
           "time": 24.66533088684082,
           "trajectory": "Rabbits",
           "upper": 1.7703063786029813
          },
          {
           "lower": 0.5165954396128655,
           "time": 24.763526916503906,
           "trajectory": "Rabbits",
           "upper": 1.7401071548461913
          },
          {
           "lower": 0.5104622498154641,
           "time": 24.861724853515625,
           "trajectory": "Rabbits",
           "upper": 1.7071489214897153
          },
          {
           "lower": 0.5042807430028915,
           "time": 24.95992088317871,
           "trajectory": "Rabbits",
           "upper": 1.6857240855693814
          },
          {
           "lower": 0.4970978781580925,
           "time": 25.058116912841797,
           "trajectory": "Rabbits",
           "upper": 1.676756316423416
          },
          {
           "lower": 0.4849018916487694,
           "time": 25.156312942504883,
           "trajectory": "Rabbits",
           "upper": 1.6580952823162078
          },
          {
           "lower": 0.4760160893201828,
           "time": 25.25450897216797,
           "trajectory": "Rabbits",
           "upper": 1.6309352219104767
          },
          {
           "lower": 0.47461206316947935,
           "time": 25.352705001831055,
           "trajectory": "Rabbits",
           "upper": 1.565701252222061
          },
          {
           "lower": 0.4717500790953636,
           "time": 25.45090103149414,
           "trajectory": "Rabbits",
           "upper": 1.4927363455295564
          },
          {
           "lower": 0.4649355515837669,
           "time": 25.549097061157227,
           "trajectory": "Rabbits",
           "upper": 1.427871537208557
          },
          {
           "lower": 0.4553666740655899,
           "time": 25.647294998168945,
           "trajectory": "Rabbits",
           "upper": 1.3679876148700711
          },
          {
           "lower": 0.4450364723801613,
           "time": 25.74549102783203,
           "trajectory": "Rabbits",
           "upper": 1.303653812408447
          },
          {
           "lower": 0.4424390897154808,
           "time": 25.843687057495117,
           "trajectory": "Rabbits",
           "upper": 1.2363705337047572
          },
          {
           "lower": 0.44176057875156405,
           "time": 25.941883087158203,
           "trajectory": "Rabbits",
           "upper": 1.2129586338996885
          },
          {
           "lower": 0.44264096915721896,
           "time": 26.04007911682129,
           "trajectory": "Rabbits",
           "upper": 1.1858134746551512
          },
          {
           "lower": 0.444147065281868,
           "time": 26.138275146484375,
           "trajectory": "Rabbits",
           "upper": 1.1125576615333557
          },
          {
           "lower": 0.4409631475806236,
           "time": 26.23647117614746,
           "trajectory": "Rabbits",
           "upper": 1.0961318790912626
          },
          {
           "lower": 0.4385117799043655,
           "time": 26.334667205810547,
           "trajectory": "Rabbits",
           "upper": 1.0390619158744812
          },
          {
           "lower": 0.43313329964876174,
           "time": 26.432865142822266,
           "trajectory": "Rabbits",
           "upper": 1.0374710619449614
          },
          {
           "lower": 0.42651846557855605,
           "time": 26.53106117248535,
           "trajectory": "Rabbits",
           "upper": 1.078562933206558
          },
          {
           "lower": 0.42028400897979734,
           "time": 26.629257202148438,
           "trajectory": "Rabbits",
           "upper": 1.1212464570999146
          },
          {
           "lower": 0.41851030141115186,
           "time": 26.727453231811523,
           "trajectory": "Rabbits",
           "upper": 1.1654311060905456
          },
          {
           "lower": 0.413428770005703,
           "time": 26.82564926147461,
           "trajectory": "Rabbits",
           "upper": 1.2109955728054047
          },
          {
           "lower": 0.41161238849163057,
           "time": 26.923847198486328,
           "trajectory": "Rabbits",
           "upper": 1.2577878415584565
          },
          {
           "lower": 0.4150161102414131,
           "time": 27.022043228149414,
           "trajectory": "Rabbits",
           "upper": 1.3064170897006988
          },
          {
           "lower": 0.4207983836531639,
           "time": 27.1202392578125,
           "trajectory": "Rabbits",
           "upper": 1.3561907589435578
          },
          {
           "lower": 0.4277648523449898,
           "time": 27.21843719482422,
           "trajectory": "Rabbits",
           "upper": 1.4066593289375304
          },
          {
           "lower": 0.42866419106721876,
           "time": 27.316633224487305,
           "trajectory": "Rabbits",
           "upper": 1.4574932754039762
          },
          {
           "lower": 0.4253242269158363,
           "time": 27.41482925415039,
           "trajectory": "Rabbits",
           "upper": 1.5082980334758758
          },
          {
           "lower": 0.41685053110122683,
           "time": 27.513025283813477,
           "trajectory": "Rabbits",
           "upper": 1.5586107611656186
          },
          {
           "lower": 0.41453602015972135,
           "time": 27.611221313476562,
           "trajectory": "Rabbits",
           "upper": 1.6078900456428524
          },
          {
           "lower": 0.4145487532019615,
           "time": 27.70941925048828,
           "trajectory": "Rabbits",
           "upper": 1.6348855912685392
          },
          {
           "lower": 0.412854041159153,
           "time": 27.807615280151367,
           "trajectory": "Rabbits",
           "upper": 1.652022325992584
          },
          {
           "lower": 0.40423967093229296,
           "time": 27.905811309814453,
           "trajectory": "Rabbits",
           "upper": 1.6629717230796812
          },
          {
           "lower": 0.39665575325489044,
           "time": 28.004009246826172,
           "trajectory": "Rabbits",
           "upper": 1.6671080231666564
          },
          {
           "lower": 0.3907979890704155,
           "time": 28.102205276489258,
           "trajectory": "Rabbits",
           "upper": 1.6639088928699493
          },
          {
           "lower": 0.3935821086168289,
           "time": 28.200401306152344,
           "trajectory": "Rabbits",
           "upper": 1.6557608664035797
          },
          {
           "lower": 0.39856401085853577,
           "time": 28.29859733581543,
           "trajectory": "Rabbits",
           "upper": 1.639836424589157
          },
          {
           "lower": 0.404674831032753,
           "time": 28.396793365478516,
           "trajectory": "Rabbits",
           "upper": 1.629011660814285
          },
          {
           "lower": 0.41125942319631575,
           "time": 28.4949893951416,
           "trajectory": "Rabbits",
           "upper": 1.616130632162094
          },
          {
           "lower": 0.4133000984787941,
           "time": 28.593185424804688,
           "trajectory": "Rabbits",
           "upper": 1.6224951922893522
          },
          {
           "lower": 0.41600040942430494,
           "time": 28.691381454467773,
           "trajectory": "Rabbits",
           "upper": 1.604687875509262
          },
          {
           "lower": 0.419818215072155,
           "time": 28.789579391479492,
           "trajectory": "Rabbits",
           "upper": 1.5689333200454711
          },
          {
           "lower": 0.4247225522994995,
           "time": 28.887775421142578,
           "trajectory": "Rabbits",
           "upper": 1.605749088525772
          },
          {
           "lower": 0.43069083243608475,
           "time": 28.985971450805664,
           "trajectory": "Rabbits",
           "upper": 1.6541750848293302
          },
          {
           "lower": 0.4377057060599327,
           "time": 29.08416748046875,
           "trajectory": "Rabbits",
           "upper": 1.700001937150955
          },
          {
           "lower": 0.44575624018907545,
           "time": 29.182363510131836,
           "trajectory": "Rabbits",
           "upper": 1.732171511650085
          },
          {
           "lower": 0.4548378333449364,
           "time": 29.280561447143555,
           "trajectory": "Rabbits",
           "upper": 1.7420642554759977
          },
          {
           "lower": 0.4649491384625435,
           "time": 29.37875747680664,
           "trajectory": "Rabbits",
           "upper": 1.7516489982604981
          },
          {
           "lower": 0.47579763233661654,
           "time": 29.476953506469727,
           "trajectory": "Rabbits",
           "upper": 1.7386007368564604
          },
          {
           "lower": 0.4891229450702667,
           "time": 29.575151443481445,
           "trajectory": "Rabbits",
           "upper": 1.7452050268650054
          },
          {
           "lower": 0.5040813356637954,
           "time": 29.67334747314453,
           "trajectory": "Rabbits",
           "upper": 1.7711842000484466
          },
          {
           "lower": 0.5201665133237838,
           "time": 29.771543502807617,
           "trajectory": "Rabbits",
           "upper": 1.8023575127124785
          },
          {
           "lower": 0.5374025821685791,
           "time": 29.869739532470703,
           "trajectory": "Rabbits",
           "upper": 1.8451899886131284
          },
          {
           "lower": 0.5558172702789307,
           "time": 29.96793556213379,
           "trajectory": "Rabbits",
           "upper": 1.8826105952262877
          },
          {
           "lower": 0.5754400938749313,
           "time": 30.066131591796875,
           "trajectory": "Rabbits",
           "upper": 1.8895355403423308
          },
          {
           "lower": 0.5963023632764817,
           "time": 30.16432762145996,
           "trajectory": "Rabbits",
           "upper": 1.8820030152797698
          },
          {
           "lower": 0.6184376865625382,
           "time": 30.262523651123047,
           "trajectory": "Rabbits",
           "upper": 1.9074315130710602
          },
          {
           "lower": 0.6331823855638504,
           "time": 30.360721588134766,
           "trajectory": "Rabbits",
           "upper": 1.9259164452552795
          },
          {
           "lower": 0.6396550983190536,
           "time": 30.45891761779785,
           "trajectory": "Rabbits",
           "upper": 1.9575332403182983
          },
          {
           "lower": 0.6352047085762024,
           "time": 30.557113647460938,
           "trajectory": "Rabbits",
           "upper": 1.9521862268447876
          },
          {
           "lower": 0.6227093160152435,
           "time": 30.655309677124023,
           "trajectory": "Rabbits",
           "upper": 1.9816403448581696
          },
          {
           "lower": 0.6086790233850479,
           "time": 30.75350570678711,
           "trajectory": "Rabbits",
           "upper": 1.9924682796001434
          },
          {
           "lower": 0.600580582022667,
           "time": 30.851703643798828,
           "trajectory": "Rabbits",
           "upper": 1.9912116348743438
          },
          {
           "lower": 0.6105746477842331,
           "time": 30.949899673461914,
           "trajectory": "Rabbits",
           "upper": 1.9789631009101867
          },
          {
           "lower": 0.6185706049203873,
           "time": 31.048095703125,
           "trajectory": "Rabbits",
           "upper": 1.9551160156726834
          },
          {
           "lower": 0.6101013958454132,
           "time": 31.14629364013672,
           "trajectory": "Rabbits",
           "upper": 1.9200285851955412
          },
          {
           "lower": 0.6034355491399765,
           "time": 31.244489669799805,
           "trajectory": "Rabbits",
           "upper": 1.9168525636196136
          },
          {
           "lower": 0.5982402086257934,
           "time": 31.34268569946289,
           "trajectory": "Rabbits",
           "upper": 1.91293408870697
          },
          {
           "lower": 0.5867925018072129,
           "time": 31.440881729125977,
           "trajectory": "Rabbits",
           "upper": 1.9078599810600276
          },
          {
           "lower": 0.5724489957094192,
           "time": 31.539077758789062,
           "trajectory": "Rabbits",
           "upper": 1.8693072557449337
          },
          {
           "lower": 0.5638573288917541,
           "time": 31.63727378845215,
           "trajectory": "Rabbits",
           "upper": 1.8201348185539243
          },
          {
           "lower": 0.5624638974666596,
           "time": 31.735469818115234,
           "trajectory": "Rabbits",
           "upper": 1.7697234213352202
          },
          {
           "lower": 0.5507203966379166,
           "time": 31.83366584777832,
           "trajectory": "Rabbits",
           "upper": 1.7301194071769714
          },
          {
           "lower": 0.5544991075992585,
           "time": 31.93186378479004,
           "trajectory": "Rabbits",
           "upper": 1.7313940346240997
          },
          {
           "lower": 0.560020101070404,
           "time": 32.030059814453125,
           "trajectory": "Rabbits",
           "upper": 1.7541727066040038
          },
          {
           "lower": 0.554255124926567,
           "time": 32.12825393676758,
           "trajectory": "Rabbits",
           "upper": 1.7718619644641875
          },
          {
           "lower": 0.5480907291173935,
           "time": 32.2264518737793,
           "trajectory": "Rabbits",
           "upper": 1.7652491748332975
          },
          {
           "lower": 0.5356627881526947,
           "time": 32.324649810791016,
           "trajectory": "Rabbits",
           "upper": 1.7113009810447692
          },
          {
           "lower": 0.5229950040578842,
           "time": 32.42284393310547,
           "trajectory": "Rabbits",
           "upper": 1.7353079974651335
          },
          {
           "lower": 0.5182398110628128,
           "time": 32.52104187011719,
           "trajectory": "Rabbits",
           "upper": 1.756126809120178
          },
          {
           "lower": 0.5166056036949158,
           "time": 32.61923599243164,
           "trajectory": "Rabbits",
           "upper": 1.769816994667053
          },
          {
           "lower": 0.5164867341518402,
           "time": 32.71743392944336,
           "trajectory": "Rabbits",
           "upper": 1.7754958629608153
          },
          {
           "lower": 0.515685823559761,
           "time": 32.81562805175781,
           "trajectory": "Rabbits",
           "upper": 1.7829261362552642
          },
          {
           "lower": 0.5072418957948684,
           "time": 32.91382598876953,
           "trajectory": "Rabbits",
           "upper": 1.7994502186775208
          },
          {
           "lower": 0.4941129207611084,
           "time": 33.01202392578125,
           "trajectory": "Rabbits",
           "upper": 1.8093173563480378
          },
          {
           "lower": 0.4832419604063034,
           "time": 33.1102180480957,
           "trajectory": "Rabbits",
           "upper": 1.814925742149353
          },
          {
           "lower": 0.47836018800735475,
           "time": 33.20841598510742,
           "trajectory": "Rabbits",
           "upper": 1.7878687262535093
          },
          {
           "lower": 0.4781149536371231,
           "time": 33.30661392211914,
           "trajectory": "Rabbits",
           "upper": 1.742596834897995
          },
          {
           "lower": 0.47555607110261916,
           "time": 33.404808044433594,
           "trajectory": "Rabbits",
           "upper": 1.721788442134857
          },
          {
           "lower": 0.46873447448015215,
           "time": 33.50300598144531,
           "trajectory": "Rabbits",
           "upper": 1.6993482708930967
          },
          {
           "lower": 0.4732772186398506,
           "time": 33.601200103759766,
           "trajectory": "Rabbits",
           "upper": 1.6743481099605557
          },
          {
           "lower": 0.468516506254673,
           "time": 33.699398040771484,
           "trajectory": "Rabbits",
           "upper": 1.673043769598007
          },
          {
           "lower": 0.4522621363401413,
           "time": 33.7975959777832,
           "trajectory": "Rabbits",
           "upper": 1.662751567363739
          },
          {
           "lower": 0.4430853143334389,
           "time": 33.895790100097656,
           "trajectory": "Rabbits",
           "upper": 1.64410360455513
          },
          {
           "lower": 0.4432558551430702,
           "time": 33.993988037109375,
           "trajectory": "Rabbits",
           "upper": 1.5930341601371765
          },
          {
           "lower": 0.445137058198452,
           "time": 34.092185974121094,
           "trajectory": "Rabbits",
           "upper": 1.5551829457283017
          },
          {
           "lower": 0.4464197546243668,
           "time": 34.19038009643555,
           "trajectory": "Rabbits",
           "upper": 1.5624677062034602
          },
          {
           "lower": 0.4474971190094948,
           "time": 34.288578033447266,
           "trajectory": "Rabbits",
           "upper": 1.5318945050239559
          },
          {
           "lower": 0.4469641879200935,
           "time": 34.38677215576172,
           "trajectory": "Rabbits",
           "upper": 1.5298158288002013
          },
          {
           "lower": 0.44488638937473296,
           "time": 34.48497009277344,
           "trajectory": "Rabbits",
           "upper": 1.4993150174617766
          },
          {
           "lower": 0.4385147958993912,
           "time": 34.583168029785156,
           "trajectory": "Rabbits",
           "upper": 1.429887247085571
          },
          {
           "lower": 0.4331304594874382,
           "time": 34.68136215209961,
           "trajectory": "Rabbits",
           "upper": 1.4057254314422607
          },
          {
           "lower": 0.42956598550081254,
           "time": 34.77956008911133,
           "trajectory": "Rabbits",
           "upper": 1.4403165519237517
          },
          {
           "lower": 0.4253564924001694,
           "time": 34.87775802612305,
           "trajectory": "Rabbits",
           "upper": 1.4883637964725493
          },
          {
           "lower": 0.4244931101799011,
           "time": 34.9759521484375,
           "trajectory": "Rabbits",
           "upper": 1.5368669986724852
          },
          {
           "lower": 0.4283281609416008,
           "time": 35.07415008544922,
           "trajectory": "Rabbits",
           "upper": 1.5852935135364532
          },
          {
           "lower": 0.42513045519590376,
           "time": 35.17234420776367,
           "trajectory": "Rabbits",
           "upper": 1.632164007425308
          },
          {
           "lower": 0.4200458973646164,
           "time": 35.27054214477539,
           "trajectory": "Rabbits",
           "upper": 1.6576512217521666
          },
          {
           "lower": 0.42672457695007326,
           "time": 35.36874008178711,
           "trajectory": "Rabbits",
           "upper": 1.6621334195137023
          },
          {
           "lower": 0.4345822066068649,
           "time": 35.46693420410156,
           "trajectory": "Rabbits",
           "upper": 1.6594287574291229
          },
          {
           "lower": 0.4436092182993889,
           "time": 35.56513214111328,
           "trajectory": "Rabbits",
           "upper": 1.6523966014385223
          },
          {
           "lower": 0.45380297005176545,
           "time": 35.663330078125,
           "trajectory": "Rabbits",
           "upper": 1.6378264129161832
          },
          {
           "lower": 0.4610008031129837,
           "time": 35.76152420043945,
           "trajectory": "Rabbits",
           "upper": 1.6328679680824278
          },
          {
           "lower": 0.4575705140829086,
           "time": 35.85972213745117,
           "trajectory": "Rabbits",
           "upper": 1.6230205595493314
          },
          {
           "lower": 0.4455138087272644,
           "time": 35.957916259765625,
           "trajectory": "Rabbits",
           "upper": 1.6049207866191864
          },
          {
           "lower": 0.43511883020401,
           "time": 36.056114196777344,
           "trajectory": "Rabbits",
           "upper": 1.578563404083252
          },
          {
           "lower": 0.42818028330802915,
           "time": 36.15431213378906,
           "trajectory": "Rabbits",
           "upper": 1.560998100042343
          },
          {
           "lower": 0.42777920365333555,
           "time": 36.252506256103516,
           "trajectory": "Rabbits",
           "upper": 1.503386640548706
          },
          {
           "lower": 0.42754523903131486,
           "time": 36.35070037841797,
           "trajectory": "Rabbits",
           "upper": 1.480780619382858
          },
          {
           "lower": 0.4262489452958107,
           "time": 36.44889831542969,
           "trajectory": "Rabbits",
           "upper": 1.5112244009971618
          },
          {
           "lower": 0.4160794273018837,
           "time": 36.54709243774414,
           "trajectory": "Rabbits",
           "upper": 1.5504247188568114
          },
          {
           "lower": 0.4073982730507851,
           "time": 36.64529037475586,
           "trajectory": "Rabbits",
           "upper": 1.5913909077644346
          },
          {
           "lower": 0.4004003912210464,
           "time": 36.74348449707031,
           "trajectory": "Rabbits",
           "upper": 1.6403545439243314
          },
          {
           "lower": 0.4014432460069656,
           "time": 36.84168243408203,
           "trajectory": "Rabbits",
           "upper": 1.6869548618793484
          },
          {
           "lower": 0.406353235244751,
           "time": 36.93988037109375,
           "trajectory": "Rabbits",
           "upper": 1.7125972688198088
          },
          {
           "lower": 0.4120946392416954,
           "time": 37.0380744934082,
           "trajectory": "Rabbits",
           "upper": 1.6813135623931883
          },
          {
           "lower": 0.41201861947774887,
           "time": 37.13627243041992,
           "trajectory": "Rabbits",
           "upper": 1.695450896024704
          },
          {
           "lower": 0.4131871834397316,
           "time": 37.23447036743164,
           "trajectory": "Rabbits",
           "upper": 1.704049777984619
          },
          {
           "lower": 0.4150891095399857,
           "time": 37.332664489746094,
           "trajectory": "Rabbits",
           "upper": 1.7009122908115384
          },
          {
           "lower": 0.4178817912936211,
           "time": 37.43086242675781,
           "trajectory": "Rabbits",
           "upper": 1.725430756807327
          },
          {
           "lower": 0.42179676443338393,
           "time": 37.529056549072266,
           "trajectory": "Rabbits",
           "upper": 1.7459316432476044
          },
          {
           "lower": 0.4268047958612442,
           "time": 37.627254486083984,
           "trajectory": "Rabbits",
           "upper": 1.76577513217926
          },
          {
           "lower": 0.4328827723860741,
           "time": 37.7254524230957,
           "trajectory": "Rabbits",
           "upper": 1.8066574811935423
          },
          {
           "lower": 0.4390408143401146,
           "time": 37.823646545410156,
           "trajectory": "Rabbits",
           "upper": 1.8490019261837003
          },
          {
           "lower": 0.4459463968873024,
           "time": 37.921844482421875,
           "trajectory": "Rabbits",
           "upper": 1.8599211990833282
          },
          {
           "lower": 0.4538986936211586,
           "time": 38.020042419433594,
           "trajectory": "Rabbits",
           "upper": 1.8497736155986784
          },
          {
           "lower": 0.4651094362139702,
           "time": 38.11823654174805,
           "trajectory": "Rabbits",
           "upper": 1.8601066946983336
          },
          {
           "lower": 0.4780843734741211,
           "time": 38.216434478759766,
           "trajectory": "Rabbits",
           "upper": 1.8876757025718687
          },
          {
           "lower": 0.492148357629776,
           "time": 38.31462860107422,
           "trajectory": "Rabbits",
           "upper": 1.9079487442970275
          },
          {
           "lower": 0.5073222741484642,
           "time": 38.41282653808594,
           "trajectory": "Rabbits",
           "upper": 1.9209326088428498
          },
          {
           "lower": 0.5236279129981994,
           "time": 38.511024475097656,
           "trajectory": "Rabbits",
           "upper": 1.9155714392662049
          },
          {
           "lower": 0.5333443999290466,
           "time": 38.60921859741211,
           "trajectory": "Rabbits",
           "upper": 1.9256284475326537
          },
          {
           "lower": 0.5407276719808578,
           "time": 38.70741271972656,
           "trajectory": "Rabbits",
           "upper": 1.9541174590587616
          },
          {
           "lower": 0.5475086867809296,
           "time": 38.80561065673828,
           "trajectory": "Rabbits",
           "upper": 1.978466236591339
          },
          {
           "lower": 0.5465062320232391,
           "time": 38.903804779052734,
           "trajectory": "Rabbits",
           "upper": 1.9914168894290922
          },
          {
           "lower": 0.5525976806879044,
           "time": 39.00200271606445,
           "trajectory": "Rabbits",
           "upper": 1.9824489414691924
          },
          {
           "lower": 0.5636728644371033,
           "time": 39.100196838378906,
           "trajectory": "Rabbits",
           "upper": 1.9620773255825041
          },
          {
           "lower": 0.5675195813179016,
           "time": 39.198394775390625,
           "trajectory": "Rabbits",
           "upper": 1.929941552877426
          },
          {
           "lower": 0.5573868989944458,
           "time": 39.296592712402344,
           "trajectory": "Rabbits",
           "upper": 1.8860995233058926
          },
          {
           "lower": 0.5549980401992798,
           "time": 39.3947868347168,
           "trajectory": "Rabbits",
           "upper": 1.8778917074203492
          },
          {
           "lower": 0.5580355763435364,
           "time": 39.492984771728516,
           "trajectory": "Rabbits",
           "upper": 1.8730241835117338
          },
          {
           "lower": 0.5666703373193741,
           "time": 39.591182708740234,
           "trajectory": "Rabbits",
           "upper": 1.8939713478088376
          },
          {
           "lower": 0.5745903313159942,
           "time": 39.68937683105469,
           "trajectory": "Rabbits",
           "upper": 1.8707408785820006
          },
          {
           "lower": 0.5794445455074311,
           "time": 39.787574768066406,
           "trajectory": "Rabbits",
           "upper": 1.8239542603492735
          },
          {
           "lower": 0.5653527587652206,
           "time": 39.88576889038086,
           "trajectory": "Rabbits",
           "upper": 1.7833893656730653
          },
          {
           "lower": 0.5516872137784958,
           "time": 39.98396682739258,
           "trajectory": "Rabbits",
           "upper": 1.7533719480037688
          },
          {
           "lower": 0.5397428452968598,
           "time": 40.0821647644043,
           "trajectory": "Rabbits",
           "upper": 1.697965383529663
          },
          {
           "lower": 0.5263006567955018,
           "time": 40.18035888671875,
           "trajectory": "Rabbits",
           "upper": 1.6832296729087828
          },
          {
           "lower": 0.5212005943059921,
           "time": 40.27855682373047,
           "trajectory": "Rabbits",
           "upper": 1.65513117313385
          },
          {
           "lower": 0.5204062521457672,
           "time": 40.37675476074219,
           "trajectory": "Rabbits",
           "upper": 1.6790795803070069
          },
          {
           "lower": 0.5212742745876312,
           "time": 40.47494888305664,
           "trajectory": "Rabbits",
           "upper": 1.7225245833396912
          },
          {
           "lower": 0.5229991644620895,
           "time": 40.57314682006836,
           "trajectory": "Rabbits",
           "upper": 1.730085062980652
          },
          {
           "lower": 0.522838044166565,
           "time": 40.67134094238281,
           "trajectory": "Rabbits",
           "upper": 1.694386202096939
          },
          {
           "lower": 0.5160812020301819,
           "time": 40.76953887939453,
           "trajectory": "Rabbits",
           "upper": 1.6922270357608795
          },
          {
           "lower": 0.5036900967359543,
           "time": 40.86773681640625,
           "trajectory": "Rabbits",
           "upper": 1.7067781984806059
          },
          {
           "lower": 0.49137296676635744,
           "time": 40.9659309387207,
           "trajectory": "Rabbits",
           "upper": 1.730581349134445
          },
          {
           "lower": 0.48303412944078444,
           "time": 41.06412887573242,
           "trajectory": "Rabbits",
           "upper": 1.7478553891181945
          },
          {
           "lower": 0.48240396082401277,
           "time": 41.16232681274414,
           "trajectory": "Rabbits",
           "upper": 1.7600879192352294
          },
          {
           "lower": 0.478350593149662,
           "time": 41.260520935058594,
           "trajectory": "Rabbits",
           "upper": 1.764333701133728
          },
          {
           "lower": 0.4821579858660698,
           "time": 41.35871887207031,
           "trajectory": "Rabbits",
           "upper": 1.7599210083484647
          },
          {
           "lower": 0.47911573350429537,
           "time": 41.456912994384766,
           "trajectory": "Rabbits",
           "upper": 1.776980400085449
          },
          {
           "lower": 0.4739988923072815,
           "time": 41.555110931396484,
           "trajectory": "Rabbits",
           "upper": 1.786699366569519
          },
          {
           "lower": 0.4728016659617424,
           "time": 41.6533088684082,
           "trajectory": "Rabbits",
           "upper": 1.785502678155899
          },
          {
           "lower": 0.47174362689256666,
           "time": 41.751502990722656,
           "trajectory": "Rabbits",
           "upper": 1.7991522669792175
          },
          {
           "lower": 0.46309907287359237,
           "time": 41.849700927734375,
           "trajectory": "Rabbits",
           "upper": 1.7694347620010376
          },
          {
           "lower": 0.44931227415800096,
           "time": 41.947898864746094,
           "trajectory": "Rabbits",
           "upper": 1.780850529670715
          },
          {
           "lower": 0.44567641615867615,
           "time": 42.04609298706055,
           "trajectory": "Rabbits",
           "upper": 1.8043862819671628
          },
          {
           "lower": 0.44674141258001326,
           "time": 42.144290924072266,
           "trajectory": "Rabbits",
           "upper": 1.800585466623306
          },
          {
           "lower": 0.44667655378580096,
           "time": 42.24248504638672,
           "trajectory": "Rabbits",
           "upper": 1.7862511932849883
          },
          {
           "lower": 0.4480611220002174,
           "time": 42.34068298339844,
           "trajectory": "Rabbits",
           "upper": 1.7608599722385405
          },
          {
           "lower": 0.4508348643779755,
           "time": 42.438880920410156,
           "trajectory": "Rabbits",
           "upper": 1.724252951145172
          },
          {
           "lower": 0.45494675934314727,
           "time": 42.53707504272461,
           "trajectory": "Rabbits",
           "upper": 1.6898755848407745
          },
          {
           "lower": 0.45285946875810623,
           "time": 42.63526916503906,
           "trajectory": "Rabbits",
           "upper": 1.6663192331790924
          },
          {
           "lower": 0.44594485461711886,
           "time": 42.73346710205078,
           "trajectory": "Rabbits",
           "upper": 1.6706449449062346
          },
          {
           "lower": 0.4385737970471382,
           "time": 42.831661224365234,
           "trajectory": "Rabbits",
           "upper": 1.69396036863327
          },
          {
           "lower": 0.43317885547876356,
           "time": 42.92985916137695,
           "trajectory": "Rabbits",
           "upper": 1.701903975009918
          },
          {
           "lower": 0.42960587739944456,
           "time": 43.028053283691406,
           "trajectory": "Rabbits",
           "upper": 1.6650055527687073
          },
          {
           "lower": 0.4296691849827766,
           "time": 43.126251220703125,
           "trajectory": "Rabbits",
           "upper": 1.634255015850067
          },
          {
           "lower": 0.4290746435523033,
           "time": 43.224449157714844,
           "trajectory": "Rabbits",
           "upper": 1.6288334131240843
          },
          {
           "lower": 0.4286207392811775,
           "time": 43.3226432800293,
           "trajectory": "Rabbits",
           "upper": 1.6152874886989592
          },
          {
           "lower": 0.4312332525849342,
           "time": 43.420841217041016,
           "trajectory": "Rabbits",
           "upper": 1.5934741914272308
          },
          {
           "lower": 0.43520423769950867,
           "time": 43.519039154052734,
           "trajectory": "Rabbits",
           "upper": 1.563509178161621
          },
          {
           "lower": 0.4337076425552368,
           "time": 43.61723327636719,
           "trajectory": "Rabbits",
           "upper": 1.5209748685359954
          },
          {
           "lower": 0.44245827943086624,
           "time": 43.715431213378906,
           "trajectory": "Rabbits",
           "upper": 1.483392971754074
          },
          {
           "lower": 0.45230783224105836,
           "time": 43.81362533569336,
           "trajectory": "Rabbits",
           "upper": 1.4413735747337342
          },
          {
           "lower": 0.4630254492163658,
           "time": 43.91182327270508,
           "trajectory": "Rabbits",
           "upper": 1.4341596007347106
          },
          {
           "lower": 0.47416217923164367,
           "time": 44.0100212097168,
           "trajectory": "Rabbits",
           "upper": 1.4368768870830533
          },
          {
           "lower": 0.47718397676944735,
           "time": 44.10821533203125,
           "trajectory": "Rabbits",
           "upper": 1.4758596479892727
          },
          {
           "lower": 0.47828148752450944,
           "time": 44.20641326904297,
           "trajectory": "Rabbits",
           "upper": 1.5129901826381682
          },
          {
           "lower": 0.4808869779109955,
           "time": 44.30461120605469,
           "trajectory": "Rabbits",
           "upper": 1.5477491676807402
          },
          {
           "lower": 0.4719135418534279,
           "time": 44.40280532836914,
           "trajectory": "Rabbits",
           "upper": 1.582797646522522
          },
          {
           "lower": 0.4590594068169594,
           "time": 44.50100326538086,
           "trajectory": "Rabbits",
           "upper": 1.6263654887676238
          },
          {
           "lower": 0.44851022213697433,
           "time": 44.59919738769531,
           "trajectory": "Rabbits",
           "upper": 1.6408966422080993
          },
          {
           "lower": 0.44312494844198225,
           "time": 44.69739532470703,
           "trajectory": "Rabbits",
           "upper": 1.633244502544403
          },
          {
           "lower": 0.443962661921978,
           "time": 44.79559326171875,
           "trajectory": "Rabbits",
           "upper": 1.6598603188991543
          },
          {
           "lower": 0.43872047662734986,
           "time": 44.8937873840332,
           "trajectory": "Rabbits",
           "upper": 1.6537000775337218
          },
          {
           "lower": 0.4330864563584328,
           "time": 44.99198532104492,
           "trajectory": "Rabbits",
           "upper": 1.6327678859233856
          },
          {
           "lower": 0.4272132471203804,
           "time": 45.09018325805664,
           "trajectory": "Rabbits",
           "upper": 1.6633822619915006
          },
          {
           "lower": 0.4229541838169098,
           "time": 45.188377380371094,
           "trajectory": "Rabbits",
           "upper": 1.68935130238533
          },
          {
           "lower": 0.42015309184789656,
           "time": 45.28657531738281,
           "trajectory": "Rabbits",
           "upper": 1.7020507633686062
          },
          {
           "lower": 0.4154145985841751,
           "time": 45.384769439697266,
           "trajectory": "Rabbits",
           "upper": 1.719242763519287
          },
          {
           "lower": 0.41348221302032473,
           "time": 45.482967376708984,
           "trajectory": "Rabbits",
           "upper": 1.7336568772792815
          },
          {
           "lower": 0.4150035724043846,
           "time": 45.5811653137207,
           "trajectory": "Rabbits",
           "upper": 1.764562529325485
          },
          {
           "lower": 0.4149696618318558,
           "time": 45.679359436035156,
           "trajectory": "Rabbits",
           "upper": 1.8108898639678952
          },
          {
           "lower": 0.41395452320575715,
           "time": 45.77755355834961,
           "trajectory": "Rabbits",
           "upper": 1.824523389339447
          },
          {
           "lower": 0.4140619054436684,
           "time": 45.87575149536133,
           "trajectory": "Rabbits",
           "upper": 1.813973444700241
          },
          {
           "lower": 0.41541619300842286,
           "time": 45.97394561767578,
           "trajectory": "Rabbits",
           "upper": 1.8230098664760586
          },
          {
           "lower": 0.4171424895524979,
           "time": 46.0721435546875,
           "trajectory": "Rabbits",
           "upper": 1.8459568142890928
          },
          {
           "lower": 0.42002087384462355,
           "time": 46.17033767700195,
           "trajectory": "Rabbits",
           "upper": 1.8654019176959988
          },
          {
           "lower": 0.42402760237455367,
           "time": 46.26853561401367,
           "trajectory": "Rabbits",
           "upper": 1.8877334773540495
          },
          {
           "lower": 0.42738759964704515,
           "time": 46.36673355102539,
           "trajectory": "Rabbits",
           "upper": 1.902269196510315
          },
          {
           "lower": 0.4318558230996132,
           "time": 46.464927673339844,
           "trajectory": "Rabbits",
           "upper": 1.8940174400806427
          },
          {
           "lower": 0.43740634620189667,
           "time": 46.56312561035156,
           "trajectory": "Rabbits",
           "upper": 1.8821656048297881
          },
          {
           "lower": 0.4447771281003952,
           "time": 46.66132354736328,
           "trajectory": "Rabbits",
           "upper": 1.882305562496185
          },
          {
           "lower": 0.4558165818452835,
           "time": 46.759517669677734,
           "trajectory": "Rabbits",
           "upper": 1.9225153148174283
          },
          {
           "lower": 0.4679217264056206,
           "time": 46.85771560668945,
           "trajectory": "Rabbits",
           "upper": 1.9554853141307829
          },
          {
           "lower": 0.48110533952713014,
           "time": 46.955909729003906,
           "trajectory": "Rabbits",
           "upper": 1.9698303520679474
          },
          {
           "lower": 0.49538414031267164,
           "time": 47.054107666015625,
           "trajectory": "Rabbits",
           "upper": 1.9792747676372526
          },
          {
           "lower": 0.5080586045980453,
           "time": 47.152305603027344,
           "trajectory": "Rabbits",
           "upper": 1.967767035961151
          },
          {
           "lower": 0.5129945755004883,
           "time": 47.2504997253418,
           "trajectory": "Rabbits",
           "upper": 1.9391654551029203
          },
          {
           "lower": 0.5108693033456803,
           "time": 47.348697662353516,
           "trajectory": "Rabbits",
           "upper": 1.8988539218902585
          },
          {
           "lower": 0.4991100400686264,
           "time": 47.446895599365234,
           "trajectory": "Rabbits",
           "upper": 1.8478488326072688
          },
          {
           "lower": 0.5031557589769363,
           "time": 47.54508972167969,
           "trajectory": "Rabbits",
           "upper": 1.8340315818786619
          },
          {
           "lower": 0.5088341951370239,
           "time": 47.643287658691406,
           "trajectory": "Rabbits",
           "upper": 1.8401550590991973
          },
          {
           "lower": 0.5159552216529846,
           "time": 47.74148178100586,
           "trajectory": "Rabbits",
           "upper": 1.8687605321407317
          },
          {
           "lower": 0.5092094346880913,
           "time": 47.83967971801758,
           "trajectory": "Rabbits",
           "upper": 1.8707273721694944
          },
          {
           "lower": 0.5044783890247345,
           "time": 47.9378776550293,
           "trajectory": "Rabbits",
           "upper": 1.8262719750404357
          },
          {
           "lower": 0.5081981033086777,
           "time": 48.03607177734375,
           "trajectory": "Rabbits",
           "upper": 1.792725670337677
          },
          {
           "lower": 0.5200009018182754,
           "time": 48.13426971435547,
           "trajectory": "Rabbits",
           "upper": 1.774888491630554
          },
          {
           "lower": 0.5272310882806778,
           "time": 48.23246765136719,
           "trajectory": "Rabbits",
           "upper": 1.715480238199234
          },
          {
           "lower": 0.5269260108470917,
           "time": 48.33066177368164,
           "trajectory": "Rabbits",
           "upper": 1.6720775485038757
          },
          {
           "lower": 0.5233244180679322,
           "time": 48.42885971069336,
           "trajectory": "Rabbits",
           "upper": 1.6669860184192655
          },
          {
           "lower": 0.5214826852083206,
           "time": 48.52705383300781,
           "trajectory": "Rabbits",
           "upper": 1.630444073677063
          },
          {
           "lower": 0.5193063199520112,
           "time": 48.62525177001953,
           "trajectory": "Rabbits",
           "upper": 1.5780684947967527
          },
          {
           "lower": 0.5129514932632446,
           "time": 48.72344970703125,
           "trajectory": "Rabbits",
           "upper": 1.5786680579185486
          },
          {
           "lower": 0.500324958562851,
           "time": 48.8216438293457,
           "trajectory": "Rabbits",
           "upper": 1.6250803112983703
          },
          {
           "lower": 0.488868248462677,
           "time": 48.919837951660156,
           "trajectory": "Rabbits",
           "upper": 1.6607791423797607
          },
          {
           "lower": 0.486769101023674,
           "time": 49.018035888671875,
           "trajectory": "Rabbits",
           "upper": 1.6902902007102965
          },
          {
           "lower": 0.48539797216653824,
           "time": 49.11623001098633,
           "trajectory": "Rabbits",
           "upper": 1.6994019508361815
          },
          {
           "lower": 0.4866256728768349,
           "time": 49.21442794799805,
           "trajectory": "Rabbits",
           "upper": 1.7332690715789794
          },
          {
           "lower": 0.48455681949853896,
           "time": 49.3126220703125,
           "trajectory": "Rabbits",
           "upper": 1.7707481265068052
          },
          {
           "lower": 0.48429418802261354,
           "time": 49.41082000732422,
           "trajectory": "Rabbits",
           "upper": 1.792945963144302
          },
          {
           "lower": 0.4749647453427315,
           "time": 49.50901794433594,
           "trajectory": "Rabbits",
           "upper": 1.8070252597331997
          },
          {
           "lower": 0.4730565622448921,
           "time": 49.60721206665039,
           "trajectory": "Rabbits",
           "upper": 1.812970924377441
          },
          {
           "lower": 0.4718085706233978,
           "time": 49.70541000366211,
           "trajectory": "Rabbits",
           "upper": 1.8213407933712003
          },
          {
           "lower": 0.46968354731798173,
           "time": 49.80360794067383,
           "trajectory": "Rabbits",
           "upper": 1.830135244131088
          },
          {
           "lower": 0.46901567131280897,
           "time": 49.90180206298828,
           "trajectory": "Rabbits",
           "upper": 1.8315934181213378
          },
          {
           "lower": 0.45796349793672564,
           "time": 50,
           "trajectory": "Rabbits",
           "upper": 1.8251835584640501
          },
          {
           "lower": 0.6978829830884934,
           "time": 1,
           "trajectory": "Wolves",
           "upper": 0.8785625755786896
          },
          {
           "lower": 0.6641233384609222,
           "time": 1.0981963872909546,
           "trajectory": "Wolves",
           "upper": 0.8490899831056594
          },
          {
           "lower": 0.6312833309173584,
           "time": 1.1963927745819092,
           "trajectory": "Wolves",
           "upper": 0.8187080174684525
          },
          {
           "lower": 0.5993284106254577,
           "time": 1.2945891618728638,
           "trajectory": "Wolves",
           "upper": 0.7882281363010406
          },
          {
           "lower": 0.5684530228376389,
           "time": 1.3927855491638184,
           "trajectory": "Wolves",
           "upper": 0.7585157841444015
          },
          {
           "lower": 0.5389212429523468,
           "time": 1.490981936454773,
           "trajectory": "Wolves",
           "upper": 0.728909558057785
          },
          {
           "lower": 0.508569210767746,
           "time": 1.5891783237457275,
           "trajectory": "Wolves",
           "upper": 0.699645733833313
          },
          {
           "lower": 0.47970481812953947,
           "time": 1.6873748302459717,
           "trajectory": "Wolves",
           "upper": 0.6709146112203598
          },
          {
           "lower": 0.4523730292916298,
           "time": 1.7855710983276367,
           "trajectory": "Wolves",
           "upper": 0.6427964657545089
          },
          {
           "lower": 0.4274070724844933,
           "time": 1.8837674856185913,
           "trajectory": "Wolves",
           "upper": 0.6151410669088363
          },
          {
           "lower": 0.4040606811642647,
           "time": 1.981963872909546,
           "trajectory": "Wolves",
           "upper": 0.5883755654096603
          },
          {
           "lower": 0.38189286440610887,
           "time": 2.08016037940979,
           "trajectory": "Wolves",
           "upper": 0.5625755846500397
          },
          {
           "lower": 0.3611419662833214,
           "time": 2.178356647491455,
           "trajectory": "Wolves",
           "upper": 0.5377932578325272
          },
          {
           "lower": 0.3418260633945465,
           "time": 2.276553153991699,
           "trajectory": "Wolves",
           "upper": 0.5140648692846298
          },
          {
           "lower": 0.32434320002794265,
           "time": 2.3747494220733643,
           "trajectory": "Wolves",
           "upper": 0.4914118558168411
          },
          {
           "lower": 0.308052234351635,
           "time": 2.4729459285736084,
           "trajectory": "Wolves",
           "upper": 0.46984291523694993
          },
          {
           "lower": 0.292301145195961,
           "time": 2.5711421966552734,
           "trajectory": "Wolves",
           "upper": 0.44935783445835115
          },
          {
           "lower": 0.2778008684515953,
           "time": 2.6693387031555176,
           "trajectory": "Wolves",
           "upper": 0.4301173686981201
          },
          {
           "lower": 0.26438556164503096,
           "time": 2.7675349712371826,
           "trajectory": "Wolves",
           "upper": 0.4124217718839645
          },
          {
           "lower": 0.2520015753805637,
           "time": 2.8657314777374268,
           "trajectory": "Wolves",
           "upper": 0.3966095671057701
          },
          {
           "lower": 0.2405976265668869,
           "time": 2.963927745819092,
           "trajectory": "Wolves",
           "upper": 0.3818202704191208
          },
          {
           "lower": 0.23012515902519226,
           "time": 3.062124252319336,
           "trajectory": "Wolves",
           "upper": 0.36814202964305875
          },
          {
           "lower": 0.2205386035144329,
           "time": 3.160320520401001,
           "trajectory": "Wolves",
           "upper": 0.355433976650238
          },
          {
           "lower": 0.2117955356836319,
           "time": 3.258517026901245,
           "trajectory": "Wolves",
           "upper": 0.3443806380033493
          },
          {
           "lower": 0.20385783836245536,
           "time": 3.3567135334014893,
           "trajectory": "Wolves",
           "upper": 0.3340659737586975
          },
          {
           "lower": 0.19668957069516183,
           "time": 3.4549100399017334,
           "trajectory": "Wolves",
           "upper": 0.3246395543217659
          },
          {
           "lower": 0.19026003256440163,
           "time": 3.5531063079833984,
           "trajectory": "Wolves",
           "upper": 0.31551031321287154
          },
          {
           "lower": 0.1845422215759754,
           "time": 3.6513028144836426,
           "trajectory": "Wolves",
           "upper": 0.30778101086616516
          },
          {
           "lower": 0.17951351404190063,
           "time": 3.7494990825653076,
           "trajectory": "Wolves",
           "upper": 0.3014834031462669
          },
          {
           "lower": 0.17515575438737868,
           "time": 3.8476955890655518,
           "trajectory": "Wolves",
           "upper": 0.2960398867726326
          },
          {
           "lower": 0.17145556807518006,
           "time": 3.945891857147217,
           "trajectory": "Wolves",
           "upper": 0.29144793599843977
          },
          {
           "lower": 0.1682551011443138,
           "time": 4.044088363647461,
           "trajectory": "Wolves",
           "upper": 0.2877653166651726
          },
          {
           "lower": 0.16566150188446044,
           "time": 4.142284393310547,
           "trajectory": "Wolves",
           "upper": 0.28693538904190063
          },
          {
           "lower": 0.16270144805312156,
           "time": 4.240480899810791,
           "trajectory": "Wolves",
           "upper": 0.2872831955552101
          },
          {
           "lower": 0.15977166518568992,
           "time": 4.338677406311035,
           "trajectory": "Wolves",
           "upper": 0.2855072125792503
          },
          {
           "lower": 0.15745530575513839,
           "time": 4.436873435974121,
           "trajectory": "Wolves",
           "upper": 0.28406711816787716
          },
          {
           "lower": 0.15635407567024232,
           "time": 4.535069942474365,
           "trajectory": "Wolves",
           "upper": 0.28420774787664416
          },
          {
           "lower": 0.1553159050643444,
           "time": 4.633266448974609,
           "trajectory": "Wolves",
           "upper": 0.2906181916594505
          },
          {
           "lower": 0.15418352782726288,
           "time": 4.7314629554748535,
           "trajectory": "Wolves",
           "upper": 0.2981049165129661
          },
          {
           "lower": 0.15248012393712998,
           "time": 4.8296589851379395,
           "trajectory": "Wolves",
           "upper": 0.30431753545999524
          },
          {
           "lower": 0.1513179808855057,
           "time": 4.927855491638184,
           "trajectory": "Wolves",
           "upper": 0.31276321113109584
          },
          {
           "lower": 0.150708919018507,
           "time": 5.026051998138428,
           "trajectory": "Wolves",
           "upper": 0.3227651119232177
          },
          {
           "lower": 0.15067099034786224,
           "time": 5.124248504638672,
           "trajectory": "Wolves",
           "upper": 0.33444448262453075
          },
          {
           "lower": 0.15122820064425468,
           "time": 5.222444534301758,
           "trajectory": "Wolves",
           "upper": 0.3479314237833023
          },
          {
           "lower": 0.1519061431288719,
           "time": 5.320641040802002,
           "trajectory": "Wolves",
           "upper": 0.3636187583208084
          },
          {
           "lower": 0.15300024896860123,
           "time": 5.418837547302246,
           "trajectory": "Wolves",
           "upper": 0.3816536068916321
          },
          {
           "lower": 0.1547201916575432,
           "time": 5.51703405380249,
           "trajectory": "Wolves",
           "upper": 0.40196546912193293
          },
          {
           "lower": 0.15870047509670257,
           "time": 5.615230083465576,
           "trajectory": "Wolves",
           "upper": 0.425565093755722
          },
          {
           "lower": 0.16432776749134065,
           "time": 5.7134270668029785,
           "trajectory": "Wolves",
           "upper": 0.45279376059770576
          },
          {
           "lower": 0.16942375674843788,
           "time": 5.811623573303223,
           "trajectory": "Wolves",
           "upper": 0.4828007921576499
          },
          {
           "lower": 0.175539580732584,
           "time": 5.909820079803467,
           "trajectory": "Wolves",
           "upper": 0.5155815362930297
          },
          {
           "lower": 0.18278886899352073,
           "time": 6.008016109466553,
           "trajectory": "Wolves",
           "upper": 0.5510401755571365
          },
          {
           "lower": 0.1913030579686165,
           "time": 6.106212615966797,
           "trajectory": "Wolves",
           "upper": 0.5889679074287414
          },
          {
           "lower": 0.20104168206453324,
           "time": 6.204409122467041,
           "trajectory": "Wolves",
           "upper": 0.6290197759866714
          },
          {
           "lower": 0.21211343184113501,
           "time": 6.302605628967285,
           "trajectory": "Wolves",
           "upper": 0.6707020252943038
          },
          {
           "lower": 0.22486768662929535,
           "time": 6.400801658630371,
           "trajectory": "Wolves",
           "upper": 0.7164292693138121
          },
          {
           "lower": 0.239505136013031,
           "time": 6.498998165130615,
           "trajectory": "Wolves",
           "upper": 0.7632388323545456
          },
          {
           "lower": 0.256245319545269,
           "time": 6.597194671630859,
           "trajectory": "Wolves",
           "upper": 0.8089749157428742
          },
          {
           "lower": 0.27532428354024885,
           "time": 6.6953911781311035,
           "trajectory": "Wolves",
           "upper": 0.8524002462625504
          },
          {
           "lower": 0.2969896480441093,
           "time": 6.7935872077941895,
           "trajectory": "Wolves",
           "upper": 0.8927618145942687
          },
          {
           "lower": 0.32149026095867156,
           "time": 6.891783714294434,
           "trajectory": "Wolves",
           "upper": 0.928539514541626
          },
          {
           "lower": 0.34906338155269623,
           "time": 6.989980220794678,
           "trajectory": "Wolves",
           "upper": 0.9584593564271926
          },
          {
           "lower": 0.37991348952054976,
           "time": 7.088176727294922,
           "trajectory": "Wolves",
           "upper": 0.9817579507827758
          },
          {
           "lower": 0.4126221776008606,
           "time": 7.186372756958008,
           "trajectory": "Wolves",
           "upper": 0.9952844083309174
          },
          {
           "lower": 0.4471473842859268,
           "time": 7.284569263458252,
           "trajectory": "Wolves",
           "upper": 0.999888813495636
          },
          {
           "lower": 0.4840144827961922,
           "time": 7.382765769958496,
           "trajectory": "Wolves",
           "upper": 0.9991763532161713
          },
          {
           "lower": 0.5238396972417831,
           "time": 7.48096227645874,
           "trajectory": "Wolves",
           "upper": 0.9945943206548691
          },
          {
           "lower": 0.5663493752479554,
           "time": 7.579158306121826,
           "trajectory": "Wolves",
           "upper": 0.996418884396553
          },
          {
           "lower": 0.6110985726118088,
           "time": 7.67735481262207,
           "trajectory": "Wolves",
           "upper": 0.9992064297199249
          },
          {
           "lower": 0.6574589967727661,
           "time": 7.7755513191223145,
           "trajectory": "Wolves",
           "upper": 1.000333058834076
          },
          {
           "lower": 0.7046235054731369,
           "time": 7.873747825622559,
           "trajectory": "Wolves",
           "upper": 1.0065573751926422
          },
          {
           "lower": 0.7525284260511398,
           "time": 7.9719438552856445,
           "trajectory": "Wolves",
           "upper": 1.0058083832263947
          },
          {
           "lower": 0.7894466161727905,
           "time": 8.070140838623047,
           "trajectory": "Wolves",
           "upper": 1.0090785443782806
          },
          {
           "lower": 0.817705824971199,
           "time": 8.168336868286133,
           "trajectory": "Wolves",
           "upper": 1.0075386762619019
          },
          {
           "lower": 0.8005896002054215,
           "time": 8.266533851623535,
           "trajectory": "Wolves",
           "upper": 1.0106054842472076
          },
          {
           "lower": 0.7775146216154099,
           "time": 8.364729881286621,
           "trajectory": "Wolves",
           "upper": 1.0060164749622345
          },
          {
           "lower": 0.7466731667518616,
           "time": 8.462926864624023,
           "trajectory": "Wolves",
           "upper": 1.002402228116989
          },
          {
           "lower": 0.7160019606351853,
           "time": 8.56112289428711,
           "trajectory": "Wolves",
           "upper": 1.0037639915943146
          },
          {
           "lower": 0.6857686698436737,
           "time": 8.659318923950195,
           "trajectory": "Wolves",
           "upper": 1.0013867408037185
          },
          {
           "lower": 0.6561907947063446,
           "time": 8.757515907287598,
           "trajectory": "Wolves",
           "upper": 1.0036586046218872
          },
          {
           "lower": 0.6274442553520203,
           "time": 8.855710983276367,
           "trajectory": "Wolves",
           "upper": 1.0084400415420531
          },
          {
           "lower": 0.5996661454439163,
           "time": 8.953907012939453,
           "trajectory": "Wolves",
           "upper": 1.0045182228088378
          },
          {
           "lower": 0.57296042740345,
           "time": 9.052103996276855,
           "trajectory": "Wolves",
           "upper": 0.9934995383024215
          },
          {
           "lower": 0.547403609752655,
           "time": 9.150300025939941,
           "trajectory": "Wolves",
           "upper": 0.9773024916648865
          },
          {
           "lower": 0.5230468422174454,
           "time": 9.248497009277344,
           "trajectory": "Wolves",
           "upper": 0.9568425595760346
          },
          {
           "lower": 0.49992330372333527,
           "time": 9.34669303894043,
           "trajectory": "Wolves",
           "upper": 0.9327404618263244
          },
          {
           "lower": 0.478048375248909,
           "time": 9.444889068603516,
           "trajectory": "Wolves",
           "upper": 0.9057140052318573
          },
          {
           "lower": 0.45742707401514054,
           "time": 9.543086051940918,
           "trajectory": "Wolves",
           "upper": 0.8764394521713257
          },
          {
           "lower": 0.43804881274700164,
           "time": 9.64128303527832,
           "trajectory": "Wolves",
           "upper": 0.8455302238464355
          },
          {
           "lower": 0.41914495676755903,
           "time": 9.739479064941406,
           "trajectory": "Wolves",
           "upper": 0.8135338127613067
          },
          {
           "lower": 0.39964639097452165,
           "time": 9.837676048278809,
           "trajectory": "Wolves",
           "upper": 0.7809252381324767
          },
          {
           "lower": 0.38090849965810775,
           "time": 9.935872077941895,
           "trajectory": "Wolves",
           "upper": 0.7481121331453322
          },
          {
           "lower": 0.36345911026000977,
           "time": 10.034069061279297,
           "trajectory": "Wolves",
           "upper": 0.7154356390237807
          },
          {
           "lower": 0.3472597599029541,
           "time": 10.132265090942383,
           "trajectory": "Wolves",
           "upper": 0.6831769913434981
          },
          {
           "lower": 0.3300993725657463,
           "time": 10.230461120605469,
           "trajectory": "Wolves",
           "upper": 0.6515639722347258
          },
          {
           "lower": 0.3140900060534477,
           "time": 10.328658103942871,
           "trajectory": "Wolves",
           "upper": 0.6220583736896513
          },
          {
           "lower": 0.29845099747180937,
           "time": 10.426854133605957,
           "trajectory": "Wolves",
           "upper": 0.5940448939800261
          },
          {
           "lower": 0.2848609298467636,
           "time": 10.525050163269043,
           "trajectory": "Wolves",
           "upper": 0.5669990092515944
          },
          {
           "lower": 0.2750711590051651,
           "time": 10.623247146606445,
           "trajectory": "Wolves",
           "upper": 0.5409881681203841
          },
          {
           "lower": 0.2662804305553436,
           "time": 10.721443176269531,
           "trajectory": "Wolves",
           "upper": 0.5160592570900916
          },
          {
           "lower": 0.2568549528717995,
           "time": 10.819640159606934,
           "trajectory": "Wolves",
           "upper": 0.4922410160303115
          },
          {
           "lower": 0.2453808605670929,
           "time": 10.91783618927002,
           "trajectory": "Wolves",
           "upper": 0.4695479169487952
          },
          {
           "lower": 0.23483706042170524,
           "time": 11.016032218933105,
           "trajectory": "Wolves",
           "upper": 0.44798238128423684
          },
          {
           "lower": 0.22517933696508408,
           "time": 11.114229202270508,
           "trajectory": "Wolves",
           "upper": 0.4275363013148307
          },
          {
           "lower": 0.21632617264986037,
           "time": 11.212425231933594,
           "trajectory": "Wolves",
           "upper": 0.40819491893053045
          },
          {
           "lower": 0.20827872157096863,
           "time": 11.31062126159668,
           "trajectory": "Wolves",
           "upper": 0.38993706703186026
          },
          {
           "lower": 0.20180438086390495,
           "time": 11.408818244934082,
           "trajectory": "Wolves",
           "upper": 0.372736433148384
          },
          {
           "lower": 0.1948359914124012,
           "time": 11.507014274597168,
           "trajectory": "Wolves",
           "upper": 0.3565643206238746
          },
          {
           "lower": 0.1886773332953453,
           "time": 11.60521125793457,
           "trajectory": "Wolves",
           "upper": 0.34142603725194925
          },
          {
           "lower": 0.1822824612259865,
           "time": 11.703407287597656,
           "trajectory": "Wolves",
           "upper": 0.3280029445886612
          },
          {
           "lower": 0.1768182784318924,
           "time": 11.801603317260742,
           "trajectory": "Wolves",
           "upper": 0.3155541613698006
          },
          {
           "lower": 0.17241908088326455,
           "time": 11.899800300598145,
           "trajectory": "Wolves",
           "upper": 0.30780972689390185
          },
          {
           "lower": 0.16910969465970993,
           "time": 11.99799633026123,
           "trajectory": "Wolves",
           "upper": 0.29929260164499283
          },
          {
           "lower": 0.16727722436189651,
           "time": 12.096192359924316,
           "trajectory": "Wolves",
           "upper": 0.30073579549789425
          },
          {
           "lower": 0.16588936671614646,
           "time": 12.194389343261719,
           "trajectory": "Wolves",
           "upper": 0.3032856702804565
          },
          {
           "lower": 0.1639499694108963,
           "time": 12.292585372924805,
           "trajectory": "Wolves",
           "upper": 0.3007561579346657
          },
          {
           "lower": 0.1626553200185299,
           "time": 12.390782356262207,
           "trajectory": "Wolves",
           "upper": 0.30875262916088103
          },
          {
           "lower": 0.1620188243687153,
           "time": 12.488978385925293,
           "trajectory": "Wolves",
           "upper": 0.3202205196022987
          },
          {
           "lower": 0.16206154301762582,
           "time": 12.587174415588379,
           "trajectory": "Wolves",
           "upper": 0.334099380671978
          },
          {
           "lower": 0.16281294375658034,
           "time": 12.685371398925781,
           "trajectory": "Wolves",
           "upper": 0.3500352308154106
          },
          {
           "lower": 0.1627533718943596,
           "time": 12.783567428588867,
           "trajectory": "Wolves",
           "upper": 0.3681897342205047
          },
          {
           "lower": 0.1629971034824848,
           "time": 12.881763458251953,
           "trajectory": "Wolves",
           "upper": 0.3887231931090354
          },
          {
           "lower": 0.16158675104379655,
           "time": 12.979960441589355,
           "trajectory": "Wolves",
           "upper": 0.41178561300039285
          },
          {
           "lower": 0.16041808053851128,
           "time": 13.078156471252441,
           "trajectory": "Wolves",
           "upper": 0.4375055462121963
          },
          {
           "lower": 0.15754736736416816,
           "time": 13.176353454589844,
           "trajectory": "Wolves",
           "upper": 0.46597421467304223
          },
          {
           "lower": 0.1552147835493088,
           "time": 13.27454948425293,
           "trajectory": "Wolves",
           "upper": 0.4972257941961288
          },
          {
           "lower": 0.15341154709458352,
           "time": 13.372745513916016,
           "trajectory": "Wolves",
           "upper": 0.5312163263559341
          },
          {
           "lower": 0.15204961746931075,
           "time": 13.470942497253418,
           "trajectory": "Wolves",
           "upper": 0.5678020358085631
          },
          {
           "lower": 0.15124001801013948,
           "time": 13.569138526916504,
           "trajectory": "Wolves",
           "upper": 0.6067143827676772
          },
          {
           "lower": 0.15099834725260736,
           "time": 13.66733455657959,
           "trajectory": "Wolves",
           "upper": 0.6475424587726591
          },
          {
           "lower": 0.15297048538923264,
           "time": 13.765531539916992,
           "trajectory": "Wolves",
           "upper": 0.6897222399711608
          },
          {
           "lower": 0.15530856102705,
           "time": 13.863727569580078,
           "trajectory": "Wolves",
           "upper": 0.7325359314680098
          },
          {
           "lower": 0.154922217130661,
           "time": 13.96192455291748,
           "trajectory": "Wolves",
           "upper": 0.775128862261772
          },
          {
           "lower": 0.1550935097038746,
           "time": 14.060120582580566,
           "trajectory": "Wolves",
           "upper": 0.8165419191122054
          },
          {
           "lower": 0.15602648109197617,
           "time": 14.158316612243652,
           "trajectory": "Wolves",
           "upper": 0.8557619512081145
          },
          {
           "lower": 0.15872434675693511,
           "time": 14.256513595581055,
           "trajectory": "Wolves",
           "upper": 0.8917760968208313
          },
          {
           "lower": 0.1621825523674488,
           "time": 14.35470962524414,
           "trajectory": "Wolves",
           "upper": 0.9236480355262755
          },
          {
           "lower": 0.1664690352976322,
           "time": 14.452905654907227,
           "trajectory": "Wolves",
           "upper": 0.9505664110183715
          },
          {
           "lower": 0.1716640517115593,
           "time": 14.551102638244629,
           "trajectory": "Wolves",
           "upper": 0.9747474461793899
          },
          {
           "lower": 0.17786126136779784,
           "time": 14.649298667907715,
           "trajectory": "Wolves",
           "upper": 0.9923914164304733
          },
          {
           "lower": 0.1851704627275467,
           "time": 14.747495651245117,
           "trajectory": "Wolves",
           "upper": 0.9977774322032928
          },
          {
           "lower": 0.19371743574738504,
           "time": 14.845691680908203,
           "trajectory": "Wolves",
           "upper": 0.9930166512727737
          },
          {
           "lower": 0.20364718586206437,
           "time": 14.943887710571289,
           "trajectory": "Wolves",
           "upper": 0.9828639149665832
          },
          {
           "lower": 0.21503195986151696,
           "time": 15.042084693908691,
           "trajectory": "Wolves",
           "upper": 0.9812245339155197
          },
          {
           "lower": 0.22812195122241974,
           "time": 15.140280723571777,
           "trajectory": "Wolves",
           "upper": 0.9861322522163392
          },
          {
           "lower": 0.24313153102993965,
           "time": 15.238476753234863,
           "trajectory": "Wolves",
           "upper": 0.9755009979009628
          },
          {
           "lower": 0.2602828934788704,
           "time": 15.336673736572266,
           "trajectory": "Wolves",
           "upper": 0.9892365634441376
          },
          {
           "lower": 0.27981317788362503,
           "time": 15.434869766235352,
           "trajectory": "Wolves",
           "upper": 0.9977049201726913
          },
          {
           "lower": 0.3019690975546837,
           "time": 15.533066749572754,
           "trajectory": "Wolves",
           "upper": 0.9995893061161041
          },
          {
           "lower": 0.32699553817510607,
           "time": 15.63126277923584,
           "trajectory": "Wolves",
           "upper": 0.9988284707069397
          },
          {
           "lower": 0.3521470993757248,
           "time": 15.729458808898926,
           "trajectory": "Wolves",
           "upper": 0.9993571370840073
          },
          {
           "lower": 0.37960807234048843,
           "time": 15.827655792236328,
           "trajectory": "Wolves",
           "upper": 1.0005356311798095
          },
          {
           "lower": 0.40954194217920303,
           "time": 15.925851821899414,
           "trajectory": "Wolves",
           "upper": 1.0013312101364136
          },
          {
           "lower": 0.4423285946249962,
           "time": 16.0240478515625,
           "trajectory": "Wolves",
           "upper": 1.0075413048267365
          },
          {
           "lower": 0.4781190812587738,
           "time": 16.122243881225586,
           "trajectory": "Wolves",
           "upper": 1.0118739128112793
          },
          {
           "lower": 0.516811516880989,
           "time": 16.220441818237305,
           "trajectory": "Wolves",
           "upper": 1.0101054847240447
          },
          {
           "lower": 0.5441705912351609,
           "time": 16.31863784790039,
           "trajectory": "Wolves",
           "upper": 1.0067384481430053
          },
          {
           "lower": 0.568549570441246,
           "time": 16.416833877563477,
           "trajectory": "Wolves",
           "upper": 1.002038586139679
          },
          {
           "lower": 0.5429022997617722,
           "time": 16.515029907226562,
           "trajectory": "Wolves",
           "upper": 1.0011488199234009
          },
          {
           "lower": 0.5336899936199189,
           "time": 16.61322593688965,
           "trajectory": "Wolves",
           "upper": 0.9971868366003036
          },
          {
           "lower": 0.5072744593024254,
           "time": 16.711421966552734,
           "trajectory": "Wolves",
           "upper": 0.9897120624780655
          },
          {
           "lower": 0.48223721534013747,
           "time": 16.80961799621582,
           "trajectory": "Wolves",
           "upper": 0.9831840842962265
          },
          {
           "lower": 0.4597930729389191,
           "time": 16.907814025878906,
           "trajectory": "Wolves",
           "upper": 0.9957805424928665
          },
          {
           "lower": 0.4402854099869728,
           "time": 17.006011962890625,
           "trajectory": "Wolves",
           "upper": 1.0009864032268525
          },
          {
           "lower": 0.42200980633497237,
           "time": 17.10420799255371,
           "trajectory": "Wolves",
           "upper": 1.0010557353496552
          },
          {
           "lower": 0.40494498014450075,
           "time": 17.202404022216797,
           "trajectory": "Wolves",
           "upper": 0.9978171199560165
          },
          {
           "lower": 0.3890667766332626,
           "time": 17.300600051879883,
           "trajectory": "Wolves",
           "upper": 0.9965868800878525
          },
          {
           "lower": 0.3743485063314438,
           "time": 17.39879608154297,
           "trajectory": "Wolves",
           "upper": 0.998455336689949
          },
          {
           "lower": 0.3607614189386368,
           "time": 17.496994018554688,
           "trajectory": "Wolves",
           "upper": 0.9998154699802398
          },
          {
           "lower": 0.3482774034142494,
           "time": 17.595190048217773,
           "trajectory": "Wolves",
           "upper": 1.0002733141183853
          },
          {
           "lower": 0.3368685841560364,
           "time": 17.69338607788086,
           "trajectory": "Wolves",
           "upper": 0.9956602454185486
          },
          {
           "lower": 0.3265078768134117,
           "time": 17.791584014892578,
           "trajectory": "Wolves",
           "upper": 0.9811929523944855
          },
          {
           "lower": 0.3171424388885498,
           "time": 17.889780044555664,
           "trajectory": "Wolves",
           "upper": 0.9618608713150024
          },
          {
           "lower": 0.3085785865783691,
           "time": 17.98797607421875,
           "trajectory": "Wolves",
           "upper": 0.9382475227117538
          },
          {
           "lower": 0.3010013967752457,
           "time": 18.086172103881836,
           "trajectory": "Wolves",
           "upper": 0.9111802756786347
          },
          {
           "lower": 0.2920254796743393,
           "time": 18.184368133544922,
           "trajectory": "Wolves",
           "upper": 0.8814419984817505
          },
          {
           "lower": 0.28120449781417844,
           "time": 18.28256607055664,
           "trajectory": "Wolves",
           "upper": 0.8504221975803375
          },
          {
           "lower": 0.26939221322536466,
           "time": 18.380762100219727,
           "trajectory": "Wolves",
           "upper": 0.8195193082094192
          },
          {
           "lower": 0.25854006707668303,
           "time": 18.478958129882812,
           "trajectory": "Wolves",
           "upper": 0.7879701435565949
          },
          {
           "lower": 0.25412780195474627,
           "time": 18.57715606689453,
           "trajectory": "Wolves",
           "upper": 0.7561036467552185
          },
          {
           "lower": 0.2500698037445545,
           "time": 18.675352096557617,
           "trajectory": "Wolves",
           "upper": 0.7242607533931732
          },
          {
           "lower": 0.24498572200536728,
           "time": 18.773548126220703,
           "trajectory": "Wolves",
           "upper": 0.692724061012268
          },
          {
           "lower": 0.23654634952545167,
           "time": 18.87174415588379,
           "trajectory": "Wolves",
           "upper": 0.6617236942052841
          },
          {
           "lower": 0.22896385863423346,
           "time": 18.969940185546875,
           "trajectory": "Wolves",
           "upper": 0.6314462453126907
          },
          {
           "lower": 0.22203873470425606,
           "time": 19.06813621520996,
           "trajectory": "Wolves",
           "upper": 0.602038112282753
          },
          {
           "lower": 0.2138136386871338,
           "time": 19.166332244873047,
           "trajectory": "Wolves",
           "upper": 0.5736097812652587
          },
          {
           "lower": 0.20605550929903985,
           "time": 19.264528274536133,
           "trajectory": "Wolves",
           "upper": 0.5462440490722655
          },
          {
           "lower": 0.20027177259325982,
           "time": 19.36272621154785,
           "trajectory": "Wolves",
           "upper": 0.5199971854686737
          },
          {
           "lower": 0.19767072200775146,
           "time": 19.460922241210938,
           "trajectory": "Wolves",
           "upper": 0.49490585774183266
          },
          {
           "lower": 0.19202626794576644,
           "time": 19.559118270874023,
           "trajectory": "Wolves",
           "upper": 0.4709893852472305
          },
          {
           "lower": 0.18630552366375924,
           "time": 19.65731430053711,
           "trajectory": "Wolves",
           "upper": 0.44825136810541144
          },
          {
           "lower": 0.1812824599444866,
           "time": 19.755510330200195,
           "trajectory": "Wolves",
           "upper": 0.42668551057577125
          },
          {
           "lower": 0.17693950831890107,
           "time": 19.853708267211914,
           "trajectory": "Wolves",
           "upper": 0.40627554655075065
          },
          {
           "lower": 0.17324449941515924,
           "time": 19.951904296875,
           "trajectory": "Wolves",
           "upper": 0.4030626893043518
          },
          {
           "lower": 0.1699801467359066,
           "time": 20.050100326538086,
           "trajectory": "Wolves",
           "upper": 0.41938123404979705
          },
          {
           "lower": 0.16804226040840148,
           "time": 20.148298263549805,
           "trajectory": "Wolves",
           "upper": 0.4239849567413329
          },
          {
           "lower": 0.1663979098200798,
           "time": 20.24649429321289,
           "trajectory": "Wolves",
           "upper": 0.40634532272815693
          },
          {
           "lower": 0.1647381938993931,
           "time": 20.344690322875977,
           "trajectory": "Wolves",
           "upper": 0.4069538936018944
          },
          {
           "lower": 0.1636613830924034,
           "time": 20.442886352539062,
           "trajectory": "Wolves",
           "upper": 0.42307848632335654
          },
          {
           "lower": 0.16307924538850785,
           "time": 20.54108238220215,
           "trajectory": "Wolves",
           "upper": 0.45002248883247364
          },
          {
           "lower": 0.1631910242140293,
           "time": 20.639278411865234,
           "trajectory": "Wolves",
           "upper": 0.47973577231168735
          },
          {
           "lower": 0.1640276603400707,
           "time": 20.73747444152832,
           "trajectory": "Wolves",
           "upper": 0.5122190564870833
          },
          {
           "lower": 0.16413161009550095,
           "time": 20.835670471191406,
           "trajectory": "Wolves",
           "upper": 0.5473854094743728
          },
          {
           "lower": 0.16348991319537162,
           "time": 20.933868408203125,
           "trajectory": "Wolves",
           "upper": 0.5850378274917601
          },
          {
           "lower": 0.16351921632885932,
           "time": 21.03206443786621,
           "trajectory": "Wolves",
           "upper": 0.6248426437377929
          },
          {
           "lower": 0.16417717114090918,
           "time": 21.130260467529297,
           "trajectory": "Wolves",
           "upper": 0.6663227587938307
          },
          {
           "lower": 0.1669645145535469,
           "time": 21.228456497192383,
           "trajectory": "Wolves",
           "upper": 0.7088437467813491
          },
          {
           "lower": 0.16852254420518875,
           "time": 21.32665252685547,
           "trajectory": "Wolves",
           "upper": 0.7516247153282164
          },
          {
           "lower": 0.16876422837376595,
           "time": 21.424850463867188,
           "trajectory": "Wolves",
           "upper": 0.7937631100416183
          },
          {
           "lower": 0.16696756705641747,
           "time": 21.523046493530273,
           "trajectory": "Wolves",
           "upper": 0.8342687219381331
          },
          {
           "lower": 0.16534425914287568,
           "time": 21.62124252319336,
           "trajectory": "Wolves",
           "upper": 0.8721249610185622
          },
          {
           "lower": 0.16089281365275382,
           "time": 21.719440460205078,
           "trajectory": "Wolves",
           "upper": 0.9063484132289885
          },
          {
           "lower": 0.15697359889745713,
           "time": 21.817636489868164,
           "trajectory": "Wolves",
           "upper": 0.9360553205013274
          },
          {
           "lower": 0.154640594124794,
           "time": 21.91583251953125,
           "trajectory": "Wolves",
           "upper": 0.9605146616697311
          },
          {
           "lower": 0.15332131534814836,
           "time": 22.014028549194336,
           "trajectory": "Wolves",
           "upper": 0.9791977941989898
          },
          {
           "lower": 0.15479821115732192,
           "time": 22.112224578857422,
           "trajectory": "Wolves",
           "upper": 0.9899740725755691
          },
          {
           "lower": 0.1562502309679985,
           "time": 22.210420608520508,
           "trajectory": "Wolves",
           "upper": 0.9913704872131348
          },
          {
           "lower": 0.15635684356093407,
           "time": 22.308616638183594,
           "trajectory": "Wolves",
           "upper": 0.9836450457572936
          },
          {
           "lower": 0.15691652297973632,
           "time": 22.40681266784668,
           "trajectory": "Wolves",
           "upper": 0.9693858861923217
          },
          {
           "lower": 0.1567702919244766,
           "time": 22.5050106048584,
           "trajectory": "Wolves",
           "upper": 0.957481563091278
          },
          {
           "lower": 0.15576769188046455,
           "time": 22.603206634521484,
           "trajectory": "Wolves",
           "upper": 0.9601654708385468
          },
          {
           "lower": 0.15524135902523994,
           "time": 22.70140266418457,
           "trajectory": "Wolves",
           "upper": 0.9679513245820999
          },
          {
           "lower": 0.15515390932559966,
           "time": 22.799598693847656,
           "trajectory": "Wolves",
           "upper": 0.9604407727718353
          },
          {
           "lower": 0.15675759613513945,
           "time": 22.897794723510742,
           "trajectory": "Wolves",
           "upper": 0.9531516194343567
          },
          {
           "lower": 0.15964649021625518,
           "time": 22.99599266052246,
           "trajectory": "Wolves",
           "upper": 0.9758219718933105
          },
          {
           "lower": 0.1633138231933117,
           "time": 23.094188690185547,
           "trajectory": "Wolves",
           "upper": 0.9886273086071015
          },
          {
           "lower": 0.16777151376008986,
           "time": 23.192384719848633,
           "trajectory": "Wolves",
           "upper": 0.9938872128725051
          },
          {
           "lower": 0.17308537811040878,
           "time": 23.29058265686035,
           "trajectory": "Wolves",
           "upper": 0.998961278796196
          },
          {
           "lower": 0.17941494137048722,
           "time": 23.388778686523438,
           "trajectory": "Wolves",
           "upper": 0.9986775547266007
          },
          {
           "lower": 0.18687143698334693,
           "time": 23.486974716186523,
           "trajectory": "Wolves",
           "upper": 0.9936696499586105
          },
          {
           "lower": 0.19558281004428862,
           "time": 23.58517074584961,
           "trajectory": "Wolves",
           "upper": 0.9958069503307342
          },
          {
           "lower": 0.2056956894695759,
           "time": 23.683366775512695,
           "trajectory": "Wolves",
           "upper": 0.9991126477718353
          },
          {
           "lower": 0.21737605109810829,
           "time": 23.78156280517578,
           "trajectory": "Wolves",
           "upper": 0.9998131990432739
          },
          {
           "lower": 0.23081071451306343,
           "time": 23.879758834838867,
           "trajectory": "Wolves",
           "upper": 1.0008575558662414
          },
          {
           "lower": 0.24620597064495087,
           "time": 23.977954864501953,
           "trajectory": "Wolves",
           "upper": 1.0023418217897415
          },
          {
           "lower": 0.2637864500284195,
           "time": 24.076152801513672,
           "trajectory": "Wolves",
           "upper": 1.0047442853450774
          },
          {
           "lower": 0.2813341706991196,
           "time": 24.174348831176758,
           "trajectory": "Wolves",
           "upper": 1.0071383357048034
          },
          {
           "lower": 0.300195649266243,
           "time": 24.272544860839844,
           "trajectory": "Wolves",
           "upper": 1.0098597288131714
          },
          {
           "lower": 0.3214712753891945,
           "time": 24.37074089050293,
           "trajectory": "Wolves",
           "upper": 1.0062338650226592
          },
          {
           "lower": 0.34536351412534716,
           "time": 24.468936920166016,
           "trajectory": "Wolves",
           "upper": 1.0044687688350677
          },
          {
           "lower": 0.367728054523468,
           "time": 24.567134857177734,
           "trajectory": "Wolves",
           "upper": 1.0002803087234498
          },
          {
           "lower": 0.38795277923345567,
           "time": 24.66533088684082,
           "trajectory": "Wolves",
           "upper": 0.9997890084981919
          },
          {
           "lower": 0.37223185151815413,
           "time": 24.763526916503906,
           "trajectory": "Wolves",
           "upper": 1.0002581000328064
          },
          {
           "lower": 0.35696167796850203,
           "time": 24.861724853515625,
           "trajectory": "Wolves",
           "upper": 0.9956646740436554
          },
          {
           "lower": 0.3499200239777565,
           "time": 24.95992088317871,
           "trajectory": "Wolves",
           "upper": 0.9856657922267914
          },
          {
           "lower": 0.3383984312415123,
           "time": 25.058116912841797,
           "trajectory": "Wolves",
           "upper": 0.97026427090168
          },
          {
           "lower": 0.3279294118285179,
           "time": 25.156312942504883,
           "trajectory": "Wolves",
           "upper": 0.9504680514335632
          },
          {
           "lower": 0.3184893622994423,
           "time": 25.25450897216797,
           "trajectory": "Wolves",
           "upper": 0.9639508128166199
          },
          {
           "lower": 0.3100573495030403,
           "time": 25.352705001831055,
           "trajectory": "Wolves",
           "upper": 0.9828543901443482
          },
          {
           "lower": 0.30261566340923307,
           "time": 25.45090103149414,
           "trajectory": "Wolves",
           "upper": 0.9932814210653305
          },
          {
           "lower": 0.2958703711628914,
           "time": 25.549097061157227,
           "trajectory": "Wolves",
           "upper": 1.0015631079673768
          },
          {
           "lower": 0.290073935687542,
           "time": 25.647294998168945,
           "trajectory": "Wolves",
           "upper": 1.00171440243721
          },
          {
           "lower": 0.2852397307753563,
           "time": 25.74549102783203,
           "trajectory": "Wolves",
           "upper": 0.9975081235170364
          },
          {
           "lower": 0.28125953674316406,
           "time": 25.843687057495117,
           "trajectory": "Wolves",
           "upper": 0.9917439252138137
          },
          {
           "lower": 0.2763360753655434,
           "time": 25.941883087158203,
           "trajectory": "Wolves",
           "upper": 0.9886632561683655
          },
          {
           "lower": 0.27026546001434326,
           "time": 26.04007911682129,
           "trajectory": "Wolves",
           "upper": 0.992416152358055
          },
          {
           "lower": 0.2641956403851509,
           "time": 26.138275146484375,
           "trajectory": "Wolves",
           "upper": 0.9974153727293015
          },
          {
           "lower": 0.25686232149600985,
           "time": 26.23647117614746,
           "trajectory": "Wolves",
           "upper": 0.9975637286901474
          },
          {
           "lower": 0.2524468004703522,
           "time": 26.334667205810547,
           "trajectory": "Wolves",
           "upper": 0.9941886335611343
          },
          {
           "lower": 0.250233206897974,
           "time": 26.432865142822266,
           "trajectory": "Wolves",
           "upper": 0.9922847658395767
          },
          {
           "lower": 0.24744433909654617,
           "time": 26.53106117248535,
           "trajectory": "Wolves",
           "upper": 0.9774287074804305
          },
          {
           "lower": 0.24069003984332085,
           "time": 26.629257202148438,
           "trajectory": "Wolves",
           "upper": 0.9576320976018905
          },
          {
           "lower": 0.23299262896180153,
           "time": 26.727453231811523,
           "trajectory": "Wolves",
           "upper": 0.9337229430675507
          },
          {
           "lower": 0.22615034729242325,
           "time": 26.82564926147461,
           "trajectory": "Wolves",
           "upper": 0.9065086483955382
          },
          {
           "lower": 0.22014274969696998,
           "time": 26.923847198486328,
           "trajectory": "Wolves",
           "upper": 0.8767463326454162
          },
          {
           "lower": 0.21495493426918982,
           "time": 27.022043228149414,
           "trajectory": "Wolves",
           "upper": 0.8451279789209365
          },
          {
           "lower": 0.21040329113602638,
           "time": 27.1202392578125,
           "trajectory": "Wolves",
           "upper": 0.8122650057077407
          },
          {
           "lower": 0.20782150849699974,
           "time": 27.21843719482422,
           "trajectory": "Wolves",
           "upper": 0.7786888509988784
          },
          {
           "lower": 0.20393504947423935,
           "time": 27.316633224487305,
           "trajectory": "Wolves",
           "upper": 0.7448512762784957
          },
          {
           "lower": 0.1997904509305954,
           "time": 27.41482925415039,
           "trajectory": "Wolves",
           "upper": 0.711536556482315
          },
          {
           "lower": 0.19380126595497132,
           "time": 27.513025283813477,
           "trajectory": "Wolves",
           "upper": 0.6800334751605986
          },
          {
           "lower": 0.18869468942284584,
           "time": 27.611221313476562,
           "trajectory": "Wolves",
           "upper": 0.6491338193416595
          },
          {
           "lower": 0.1845427230000496,
           "time": 27.70941925048828,
           "trajectory": "Wolves",
           "upper": 0.6190116941928863
          },
          {
           "lower": 0.18000969290733337,
           "time": 27.807615280151367,
           "trajectory": "Wolves",
           "upper": 0.5898068785667419
          },
          {
           "lower": 0.17606869861483573,
           "time": 27.905811309814453,
           "trajectory": "Wolves",
           "upper": 0.5842533469200134
          },
          {
           "lower": 0.17280452623963355,
           "time": 28.004009246826172,
           "trajectory": "Wolves",
           "upper": 0.6242456018924712
          },
          {
           "lower": 0.17038027569651604,
           "time": 28.102205276489258,
           "trajectory": "Wolves",
           "upper": 0.6405353367328643
          },
          {
           "lower": 0.17137352749705315,
           "time": 28.200401306152344,
           "trajectory": "Wolves",
           "upper": 0.6109578549861907
          },
          {
           "lower": 0.17117936834692954,
           "time": 28.29859733581543,
           "trajectory": "Wolves",
           "upper": 0.5901211947202682
          },
          {
           "lower": 0.16935733556747437,
           "time": 28.396793365478516,
           "trajectory": "Wolves",
           "upper": 0.602705419063568
          },
          {
           "lower": 0.16538334637880325,
           "time": 28.4949893951416,
           "trajectory": "Wolves",
           "upper": 0.6432965725660322
          },
          {
           "lower": 0.16492010951042174,
           "time": 28.593185424804688,
           "trajectory": "Wolves",
           "upper": 0.6852882236242293
          },
          {
           "lower": 0.16513916999101638,
           "time": 28.691381454467773,
           "trajectory": "Wolves",
           "upper": 0.7279811799526212
          },
          {
           "lower": 0.16611068099737167,
           "time": 28.789579391479492,
           "trajectory": "Wolves",
           "upper": 0.770535635948181
          },
          {
           "lower": 0.16611216142773627,
           "time": 28.887775421142578,
           "trajectory": "Wolves",
           "upper": 0.8120082557201383
          },
          {
           "lower": 0.16527557000517845,
           "time": 28.985971450805664,
           "trajectory": "Wolves",
           "upper": 0.8513918578624724
          },
          {
           "lower": 0.16442229971289635,
           "time": 29.08416748046875,
           "trajectory": "Wolves",
           "upper": 0.887682408094406
          },
          {
           "lower": 0.16423994824290275,
           "time": 29.182363510131836,
           "trajectory": "Wolves",
           "upper": 0.9199351370334624
          },
          {
           "lower": 0.16475595831871032,
           "time": 29.280561447143555,
           "trajectory": "Wolves",
           "upper": 0.947332864999771
          },
          {
           "lower": 0.16838487461209298,
           "time": 29.37875747680664,
           "trajectory": "Wolves",
           "upper": 0.9692333668470382
          },
          {
           "lower": 0.17303766161203385,
           "time": 29.476953506469727,
           "trajectory": "Wolves",
           "upper": 0.9841682225465774
          },
          {
           "lower": 0.1767550677061081,
           "time": 29.575151443481445,
           "trajectory": "Wolves",
           "upper": 0.9848017454147339
          },
          {
           "lower": 0.1763964533805847,
           "time": 29.67334747314453,
           "trajectory": "Wolves",
           "upper": 0.9717929661273956
          },
          {
           "lower": 0.17324413508176803,
           "time": 29.771543502807617,
           "trajectory": "Wolves",
           "upper": 0.9724552452564238
          },
          {
           "lower": 0.1732856586575508,
           "time": 29.869739532470703,
           "trajectory": "Wolves",
           "upper": 0.9535309344530104
          },
          {
           "lower": 0.1748480811715126,
           "time": 29.96793556213379,
           "trajectory": "Wolves",
           "upper": 0.9326310396194456
          },
          {
           "lower": 0.1762670285999775,
           "time": 30.066131591796875,
           "trajectory": "Wolves",
           "upper": 0.9295841276645659
          },
          {
           "lower": 0.1725742846727371,
           "time": 30.16432762145996,
           "trajectory": "Wolves",
           "upper": 0.93381769657135
          },
          {
           "lower": 0.16734498590230942,
           "time": 30.262523651123047,
           "trajectory": "Wolves",
           "upper": 0.9433647364377975
          },
          {
           "lower": 0.16266994401812554,
           "time": 30.360721588134766,
           "trajectory": "Wolves",
           "upper": 0.9434632927179335
          },
          {
           "lower": 0.16204190626740456,
           "time": 30.45891761779785,
           "trajectory": "Wolves",
           "upper": 0.929745441675186
          },
          {
           "lower": 0.16401308104395868,
           "time": 30.557113647460938,
           "trajectory": "Wolves",
           "upper": 0.9312633752822875
          },
          {
           "lower": 0.1610918827354908,
           "time": 30.655309677124023,
           "trajectory": "Wolves",
           "upper": 0.9575984060764312
          },
          {
           "lower": 0.1595179870724678,
           "time": 30.75350570678711,
           "trajectory": "Wolves",
           "upper": 0.9786773830652237
          },
          {
           "lower": 0.15940841659903526,
           "time": 30.851703643798828,
           "trajectory": "Wolves",
           "upper": 0.9792006373405456
          },
          {
           "lower": 0.15988668873906137,
           "time": 30.949899673461914,
           "trajectory": "Wolves",
           "upper": 0.9875351130962372
          },
          {
           "lower": 0.16055451333522797,
           "time": 31.048095703125,
           "trajectory": "Wolves",
           "upper": 0.9977742075920105
          },
          {
           "lower": 0.15932910442352294,
           "time": 31.14629364013672,
           "trajectory": "Wolves",
           "upper": 0.9986422032117843
          },
          {
           "lower": 0.15757134035229683,
           "time": 31.244489669799805,
           "trajectory": "Wolves",
           "upper": 0.989025405049324
          },
          {
           "lower": 0.15634625032544136,
           "time": 31.34268569946289,
           "trajectory": "Wolves",
           "upper": 0.9840576946735382
          },
          {
           "lower": 0.15566499382257462,
           "time": 31.440881729125977,
           "trajectory": "Wolves",
           "upper": 0.9887935400009156
          },
          {
           "lower": 0.15536050274968147,
           "time": 31.539077758789062,
           "trajectory": "Wolves",
           "upper": 0.9944401711225509
          },
          {
           "lower": 0.15766284391283988,
           "time": 31.63727378845215,
           "trajectory": "Wolves",
           "upper": 0.9981949865818024
          },
          {
           "lower": 0.16062793880701065,
           "time": 31.735469818115234,
           "trajectory": "Wolves",
           "upper": 0.9991020292043686
          },
          {
           "lower": 0.16433920487761497,
           "time": 31.83366584777832,
           "trajectory": "Wolves",
           "upper": 1.0005050778388977
          },
          {
           "lower": 0.1689063861966133,
           "time": 31.93186378479004,
           "trajectory": "Wolves",
           "upper": 0.9980441331863403
          },
          {
           "lower": 0.1744140401482582,
           "time": 32.030059814453125,
           "trajectory": "Wolves",
           "upper": 1.002093893289566
          },
          {
           "lower": 0.180960863083601,
           "time": 32.12825393676758,
           "trajectory": "Wolves",
           "upper": 1.0046568274497987
          },
          {
           "lower": 0.18866176828742026,
           "time": 32.2264518737793,
           "trajectory": "Wolves",
           "upper": 1.0050383269786836
          },
          {
           "lower": 0.19764822348952293,
           "time": 32.324649810791016,
           "trajectory": "Wolves",
           "upper": 1.0042850017547607
          },
          {
           "lower": 0.2080702915787697,
           "time": 32.42284393310547,
           "trajectory": "Wolves",
           "upper": 1.0060572564601897
          },
          {
           "lower": 0.22009876295924188,
           "time": 32.52104187011719,
           "trajectory": "Wolves",
           "upper": 1.0043819844722748
          },
          {
           "lower": 0.23392256274819376,
           "time": 32.61923599243164,
           "trajectory": "Wolves",
           "upper": 1.0045744061470032
          },
          {
           "lower": 0.24646704196929933,
           "time": 32.71743392944336,
           "trajectory": "Wolves",
           "upper": 0.999964925646782
          },
          {
           "lower": 0.258404316008091,
           "time": 32.81562805175781,
           "trajectory": "Wolves",
           "upper": 0.9990847498178482
          },
          {
           "lower": 0.2694392278790474,
           "time": 32.91382598876953,
           "trajectory": "Wolves",
           "upper": 0.9982341974973679
          },
          {
           "lower": 0.2790683969855309,
           "time": 33.01202392578125,
           "trajectory": "Wolves",
           "upper": 0.9961802691221237
          },
          {
           "lower": 0.271256597340107,
           "time": 33.1102180480957,
           "trajectory": "Wolves",
           "upper": 0.9862695634365081
          },
          {
           "lower": 0.2650373473763466,
           "time": 33.20841598510742,
           "trajectory": "Wolves",
           "upper": 0.9797636747360229
          },
          {
           "lower": 0.2695761099457741,
           "time": 33.30661392211914,
           "trajectory": "Wolves",
           "upper": 0.9708830118179321
          },
          {
           "lower": 0.27450200766324995,
           "time": 33.404808044433594,
           "trajectory": "Wolves",
           "upper": 0.9488632947206497
          },
          {
           "lower": 0.2709284335374832,
           "time": 33.50300598144531,
           "trajectory": "Wolves",
           "upper": 0.9224707871675492
          },
          {
           "lower": 0.2682962015271187,
           "time": 33.601200103759766,
           "trajectory": "Wolves",
           "upper": 0.915161994099617
          },
          {
           "lower": 0.2666212901473045,
           "time": 33.699398040771484,
           "trajectory": "Wolves",
           "upper": 0.9424799859523774
          },
          {
           "lower": 0.26394947469234464,
           "time": 33.7975959777832,
           "trajectory": "Wolves",
           "upper": 0.9665680795907974
          },
          {
           "lower": 0.266243776679039,
           "time": 33.895790100097656,
           "trajectory": "Wolves",
           "upper": 0.9792508184909821
          },
          {
           "lower": 0.2637952476739883,
           "time": 33.993988037109375,
           "trajectory": "Wolves",
           "upper": 0.9932046800851821
          },
          {
           "lower": 0.25837850794196127,
           "time": 34.092185974121094,
           "trajectory": "Wolves",
           "upper": 1.0007458627223969
          },
          {
           "lower": 0.25344827473163606,
           "time": 34.19038009643555,
           "trajectory": "Wolves",
           "upper": 1.0012211203575134
          },
          {
           "lower": 0.24386561065912246,
           "time": 34.288578033447266,
           "trajectory": "Wolves",
           "upper": 0.995558163523674
          },
          {
           "lower": 0.23652473539114,
           "time": 34.38677215576172,
           "trajectory": "Wolves",
           "upper": 0.9877487063407898
          },
          {
           "lower": 0.23099110648036003,
           "time": 34.48497009277344,
           "trajectory": "Wolves",
           "upper": 0.9768257975578308
          },
          {
           "lower": 0.22627165019512177,
           "time": 34.583168029785156,
           "trajectory": "Wolves",
           "upper": 0.9792587578296661
          },
          {
           "lower": 0.22236145287752151,
           "time": 34.68136215209961,
           "trajectory": "Wolves",
           "upper": 0.986902728676796
          },
          {
           "lower": 0.2194741278886795,
           "time": 34.77956008911133,
           "trajectory": "Wolves",
           "upper": 0.98967787027359
          },
          {
           "lower": 0.21946358680725098,
           "time": 34.87775802612305,
           "trajectory": "Wolves",
           "upper": 0.9947674691677093
          },
          {
           "lower": 0.21704072132706642,
           "time": 34.9759521484375,
           "trajectory": "Wolves",
           "upper": 0.9874040722846985
          },
          {
           "lower": 0.21221753284335138,
           "time": 35.07415008544922,
           "trajectory": "Wolves",
           "upper": 0.9867628872394562
          },
          {
           "lower": 0.2088850162923336,
           "time": 35.17234420776367,
           "trajectory": "Wolves",
           "upper": 0.9872895181179047
          },
          {
           "lower": 0.2051271066069603,
           "time": 35.27054214477539,
           "trajectory": "Wolves",
           "upper": 0.9737116515636444
          },
          {
           "lower": 0.19921137690544127,
           "time": 35.36874008178711,
           "trajectory": "Wolves",
           "upper": 0.9534397929906844
          },
          {
           "lower": 0.19328893572092057,
           "time": 35.46693420410156,
           "trajectory": "Wolves",
           "upper": 0.9291817784309386
          },
          {
           "lower": 0.1880706124007702,
           "time": 35.56513214111328,
           "trajectory": "Wolves",
           "upper": 0.9017300635576246
          },
          {
           "lower": 0.18374776765704154,
           "time": 35.663330078125,
           "trajectory": "Wolves",
           "upper": 0.8718287050724028
          },
          {
           "lower": 0.18044356778264045,
           "time": 35.76152420043945,
           "trajectory": "Wolves",
           "upper": 0.8401537984609603
          },
          {
           "lower": 0.17781589925289154,
           "time": 35.85972213745117,
           "trajectory": "Wolves",
           "upper": 0.838287615776062
          },
          {
           "lower": 0.17685115560889245,
           "time": 35.957916259765625,
           "trajectory": "Wolves",
           "upper": 0.8782581955194473
          },
          {
           "lower": 0.17651358023285865,
           "time": 36.056114196777344,
           "trajectory": "Wolves",
           "upper": 0.9031823456287383
          },
          {
           "lower": 0.17541647106409072,
           "time": 36.15431213378906,
           "trajectory": "Wolves",
           "upper": 0.8767389118671417
          },
          {
           "lower": 0.17425118684768676,
           "time": 36.252506256103516,
           "trajectory": "Wolves",
           "upper": 0.8459935784339905
          },
          {
           "lower": 0.17419764325022696,
           "time": 36.35070037841797,
           "trajectory": "Wolves",
           "upper": 0.8399101436138152
          },
          {
           "lower": 0.17339342311024666,
           "time": 36.44889831542969,
           "trajectory": "Wolves",
           "upper": 0.867813330888748
          },
          {
           "lower": 0.17133173942565919,
           "time": 36.54709243774414,
           "trajectory": "Wolves",
           "upper": 0.9023440331220626
          },
          {
           "lower": 0.17077715024352075,
           "time": 36.64529037475586,
           "trajectory": "Wolves",
           "upper": 0.9324636578559874
          },
          {
           "lower": 0.1690235637128353,
           "time": 36.74348449707031,
           "trajectory": "Wolves",
           "upper": 0.9574289798736572
          },
          {
           "lower": 0.16846948787569999,
           "time": 36.84168243408203,
           "trajectory": "Wolves",
           "upper": 0.9766945660114288
          },
          {
           "lower": 0.16690961197018622,
           "time": 36.93988037109375,
           "trajectory": "Wolves",
           "upper": 0.9784235924482345
          },
          {
           "lower": 0.1658799521625042,
           "time": 37.0380744934082,
           "trajectory": "Wolves",
           "upper": 0.9686709612607955
          },
          {
           "lower": 0.16550885662436485,
           "time": 37.13627243041992,
           "trajectory": "Wolves",
           "upper": 0.9483280420303345
          },
          {
           "lower": 0.16554983854293823,
           "time": 37.23447036743164,
           "trajectory": "Wolves",
           "upper": 0.9513815075159071
          },
          {
           "lower": 0.16551879644393921,
           "time": 37.332664489746094,
           "trajectory": "Wolves",
           "upper": 0.938515371084213
          },
          {
           "lower": 0.1666104257106781,
           "time": 37.43086242675781,
           "trajectory": "Wolves",
           "upper": 0.9142257273197172
          },
          {
           "lower": 0.16982588320970535,
           "time": 37.529056549072266,
           "trajectory": "Wolves",
           "upper": 0.8906619012355802
          },
          {
           "lower": 0.17467070892453193,
           "time": 37.627254486083984,
           "trajectory": "Wolves",
           "upper": 0.8956397712230681
          },
          {
           "lower": 0.17906989976763726,
           "time": 37.7254524230957,
           "trajectory": "Wolves",
           "upper": 0.9054218500852584
          },
          {
           "lower": 0.18450178802013398,
           "time": 37.823646545410156,
           "trajectory": "Wolves",
           "upper": 0.9133259296417235
          },
          {
           "lower": 0.18393647372722627,
           "time": 37.921844482421875,
           "trajectory": "Wolves",
           "upper": 0.9148140907287595
          },
          {
           "lower": 0.17978139147162436,
           "time": 38.020042419433594,
           "trajectory": "Wolves",
           "upper": 0.9014464795589444
          },
          {
           "lower": 0.17623483017086983,
           "time": 38.11823654174805,
           "trajectory": "Wolves",
           "upper": 0.9042280673980712
          },
          {
           "lower": 0.17535646259784698,
           "time": 38.216434478759766,
           "trajectory": "Wolves",
           "upper": 0.9070893198251723
          },
          {
           "lower": 0.17748943343758583,
           "time": 38.31462860107422,
           "trajectory": "Wolves",
           "upper": 0.9348081707954405
          },
          {
           "lower": 0.1802469238638878,
           "time": 38.41282653808594,
           "trajectory": "Wolves",
           "upper": 0.9610650300979613
          },
          {
           "lower": 0.18075069710612296,
           "time": 38.511024475097656,
           "trajectory": "Wolves",
           "upper": 0.9667689472436904
          },
          {
           "lower": 0.17994418293237685,
           "time": 38.60921859741211,
           "trajectory": "Wolves",
           "upper": 0.9735250145196914
          },
          {
           "lower": 0.17771267220377923,
           "time": 38.70741271972656,
           "trajectory": "Wolves",
           "upper": 0.9830871045589447
          },
          {
           "lower": 0.17378287985920907,
           "time": 38.80561065673828,
           "trajectory": "Wolves",
           "upper": 0.9956873834133149
          },
          {
           "lower": 0.17184447944164277,
           "time": 38.903804779052734,
           "trajectory": "Wolves",
           "upper": 0.9964617758989334
          },
          {
           "lower": 0.16898305863142013,
           "time": 39.00200271606445,
           "trajectory": "Wolves",
           "upper": 0.9863021343946456
          },
          {
           "lower": 0.16669340208172798,
           "time": 39.100196838378906,
           "trajectory": "Wolves",
           "upper": 0.9826664566993714
          },
          {
           "lower": 0.16497921720147132,
           "time": 39.198394775390625,
           "trajectory": "Wolves",
           "upper": 0.9727314472198486
          },
          {
           "lower": 0.16416606903076172,
           "time": 39.296592712402344,
           "trajectory": "Wolves",
           "upper": 0.9792365282773972
          },
          {
           "lower": 0.1638589732348919,
           "time": 39.3947868347168,
           "trajectory": "Wolves",
           "upper": 0.9855025500059127
          },
          {
           "lower": 0.1642313100397587,
           "time": 39.492984771728516,
           "trajectory": "Wolves",
           "upper": 0.9948146313428878
          },
          {
           "lower": 0.16483238935470582,
           "time": 39.591182708740234,
           "trajectory": "Wolves",
           "upper": 0.9963617712259293
          },
          {
           "lower": 0.16590516418218612,
           "time": 39.68937683105469,
           "trajectory": "Wolves",
           "upper": 0.9987373322248458
          },
          {
           "lower": 0.1629737839102745,
           "time": 39.787574768066406,
           "trajectory": "Wolves",
           "upper": 1.00008482336998
          },
          {
           "lower": 0.1604690246284008,
           "time": 39.88576889038086,
           "trajectory": "Wolves",
           "upper": 0.9975865095853805
          },
          {
           "lower": 0.1584906168282032,
           "time": 39.98396682739258,
           "trajectory": "Wolves",
           "upper": 0.9969373792409897
          },
          {
           "lower": 0.1570437505841255,
           "time": 40.0821647644043,
           "trajectory": "Wolves",
           "upper": 1.0013433933258056
          },
          {
           "lower": 0.15613754987716674,
           "time": 40.18035888671875,
           "trajectory": "Wolves",
           "upper": 1.004535299539566
          },
          {
           "lower": 0.15617748349905014,
           "time": 40.27855682373047,
           "trajectory": "Wolves",
           "upper": 1.0031640112400055
          },
          {
           "lower": 0.15852109864354133,
           "time": 40.37675476074219,
           "trajectory": "Wolves",
           "upper": 1.00209139585495
          },
          {
           "lower": 0.16160307601094245,
           "time": 40.47494888305664,
           "trajectory": "Wolves",
           "upper": 1.0031655102968215
          },
          {
           "lower": 0.16548710390925409,
           "time": 40.57314682006836,
           "trajectory": "Wolves",
           "upper": 1.000268706679344
          },
          {
           "lower": 0.17024710550904273,
           "time": 40.67134094238281,
           "trajectory": "Wolves",
           "upper": 1.0053135573863983
          },
          {
           "lower": 0.17597175016999245,
           "time": 40.76953887939453,
           "trajectory": "Wolves",
           "upper": 1.0042481005191803
          },
          {
           "lower": 0.18276265785098075,
           "time": 40.86773681640625,
           "trajectory": "Wolves",
           "upper": 1.0015988886356353
          },
          {
           "lower": 0.19073781594634057,
           "time": 40.9659309387207,
           "trajectory": "Wolves",
           "upper": 0.9987025201320648
          },
          {
           "lower": 0.20003380924463274,
           "time": 41.06412887573242,
           "trajectory": "Wolves",
           "upper": 0.9941364258527756
          },
          {
           "lower": 0.20846241042017938,
           "time": 41.16232681274414,
           "trajectory": "Wolves",
           "upper": 0.9933387547731399
          },
          {
           "lower": 0.21300329491496087,
           "time": 41.260520935058594,
           "trajectory": "Wolves",
           "upper": 0.9923468470573424
          },
          {
           "lower": 0.22190933227539061,
           "time": 41.35871887207031,
           "trajectory": "Wolves",
           "upper": 0.9829826682806014
          },
          {
           "lower": 0.23667190596461296,
           "time": 41.456912994384766,
           "trajectory": "Wolves",
           "upper": 0.967493814229965
          },
          {
           "lower": 0.24873205795884132,
           "time": 41.555110931396484,
           "trajectory": "Wolves",
           "upper": 0.9696071535348892
          },
          {
           "lower": 0.252624849230051,
           "time": 41.6533088684082,
           "trajectory": "Wolves",
           "upper": 0.9495100855827331
          },
          {
           "lower": 0.24948872104287148,
           "time": 41.751502990722656,
           "trajectory": "Wolves",
           "upper": 0.9230954587459564
          },
          {
           "lower": 0.24057377353310586,
           "time": 41.849700927734375,
           "trajectory": "Wolves",
           "upper": 0.8931585371494293
          },
          {
           "lower": 0.23964940011501312,
           "time": 41.947898864746094,
           "trajectory": "Wolves",
           "upper": 0.8765404343605041
          },
          {
           "lower": 0.24154147878289223,
           "time": 42.04609298706055,
           "trajectory": "Wolves",
           "upper": 0.8842344284057617
          },
          {
           "lower": 0.23490473479032517,
           "time": 42.144290924072266,
           "trajectory": "Wolves",
           "upper": 0.9177514046430587
          },
          {
           "lower": 0.22757762968540193,
           "time": 42.24248504638672,
           "trajectory": "Wolves",
           "upper": 0.9464763581752776
          },
          {
           "lower": 0.2235584504902363,
           "time": 42.34068298339844,
           "trajectory": "Wolves",
           "upper": 0.9540556102991103
          },
          {
           "lower": 0.22396748512983322,
           "time": 42.438880920410156,
           "trajectory": "Wolves",
           "upper": 0.9755993127822875
          },
          {
           "lower": 0.22564252614974975,
           "time": 42.53707504272461,
           "trajectory": "Wolves",
           "upper": 0.9908364653587342
          },
          {
           "lower": 0.22745415866374968,
           "time": 42.63526916503906,
           "trajectory": "Wolves",
           "upper": 0.9996582806110382
          },
          {
           "lower": 0.22303478196263313,
           "time": 42.73346710205078,
           "trajectory": "Wolves",
           "upper": 0.9967845916748046
          },
          {
           "lower": 0.21770877838134767,
           "time": 42.831661224365234,
           "trajectory": "Wolves",
           "upper": 0.9930602729320526
          },
          {
           "lower": 0.21676131710410118,
           "time": 42.92985916137695,
           "trajectory": "Wolves",
           "upper": 0.9873218834400177
          },
          {
           "lower": 0.2125228926539421,
           "time": 43.028053283691406,
           "trajectory": "Wolves",
           "upper": 0.9763293206691742
          },
          {
           "lower": 0.20825617164373397,
           "time": 43.126251220703125,
           "trajectory": "Wolves",
           "upper": 0.9599705278873444
          },
          {
           "lower": 0.20480770468711854,
           "time": 43.224449157714844,
           "trajectory": "Wolves",
           "upper": 0.9704875797033309
          },
          {
           "lower": 0.19864267855882645,
           "time": 43.3226432800293,
           "trajectory": "Wolves",
           "upper": 0.9803441017866135
          },
          {
           "lower": 0.19278619289398194,
           "time": 43.420841217041016,
           "trajectory": "Wolves",
           "upper": 0.9819544672966002
          },
          {
           "lower": 0.18763251826167107,
           "time": 43.519039154052734,
           "trajectory": "Wolves",
           "upper": 0.9851570159196853
          },
          {
           "lower": 0.18316455334424972,
           "time": 43.61723327636719,
           "trajectory": "Wolves",
           "upper": 0.9856617510318756
          },
          {
           "lower": 0.17988908290863037,
           "time": 43.715431213378906,
           "trajectory": "Wolves",
           "upper": 0.9911581814289092
          },
          {
           "lower": 0.17933618202805518,
           "time": 43.81362533569336,
           "trajectory": "Wolves",
           "upper": 0.9942106962203979
          },
          {
           "lower": 0.18049367815256118,
           "time": 43.91182327270508,
           "trajectory": "Wolves",
           "upper": 0.999222519993782
          },
          {
           "lower": 0.18218330666422844,
           "time": 44.0100212097168,
           "trajectory": "Wolves",
           "upper": 0.9999788880348205
          },
          {
           "lower": 0.17931619584560393,
           "time": 44.10821533203125,
           "trajectory": "Wolves",
           "upper": 1.0049906104803086
          },
          {
           "lower": 0.17619916945695877,
           "time": 44.20641326904297,
           "trajectory": "Wolves",
           "upper": 1.0021923750638961
          },
          {
           "lower": 0.17557455822825432,
           "time": 44.30461120605469,
           "trajectory": "Wolves",
           "upper": 0.9986036211252213
          },
          {
           "lower": 0.1763834498822689,
           "time": 44.40280532836914,
           "trajectory": "Wolves",
           "upper": 0.9899148404598236
          },
          {
           "lower": 0.1755789965391159,
           "time": 44.50100326538086,
           "trajectory": "Wolves",
           "upper": 0.9872723191976547
          },
          {
           "lower": 0.1731801487505436,
           "time": 44.59919738769531,
           "trajectory": "Wolves",
           "upper": 0.9692124962806701
          },
          {
           "lower": 0.17481856048107147,
           "time": 44.69739532470703,
           "trajectory": "Wolves",
           "upper": 0.9520798653364181
          },
          {
           "lower": 0.1763616219162941,
           "time": 44.79559326171875,
           "trajectory": "Wolves",
           "upper": 0.950083702802658
          },
          {
           "lower": 0.17467631101608277,
           "time": 44.8937873840332,
           "trajectory": "Wolves",
           "upper": 0.9260579675436019
          },
          {
           "lower": 0.17083724737167358,
           "time": 44.99198532104492,
           "trajectory": "Wolves",
           "upper": 0.8992494136095046
          },
          {
           "lower": 0.1666094593703747,
           "time": 45.09018325805664,
           "trajectory": "Wolves",
           "upper": 0.8703008115291594
          },
          {
           "lower": 0.1656822994351387,
           "time": 45.188377380371094,
           "trajectory": "Wolves",
           "upper": 0.8571781814098357
          },
          {
           "lower": 0.1654304549098015,
           "time": 45.28657531738281,
           "trajectory": "Wolves",
           "upper": 0.8730472445487976
          },
          {
           "lower": 0.1663128986954689,
           "time": 45.384769439697266,
           "trajectory": "Wolves",
           "upper": 0.8788756728172301
          },
          {
           "lower": 0.16778351962566376,
           "time": 45.482967376708984,
           "trajectory": "Wolves",
           "upper": 0.8818724185228345
          },
          {
           "lower": 0.1688595473766327,
           "time": 45.5811653137207,
           "trajectory": "Wolves",
           "upper": 0.8816515505313869
          },
          {
           "lower": 0.17143086344003677,
           "time": 45.679359436035156,
           "trajectory": "Wolves",
           "upper": 0.8742863327264783
          },
          {
           "lower": 0.1752846710383892,
           "time": 45.77755355834961,
           "trajectory": "Wolves",
           "upper": 0.8763623982667923
          },
          {
           "lower": 0.17985443621873856,
           "time": 45.87575149536133,
           "trajectory": "Wolves",
           "upper": 0.8810112625360488
          },
          {
           "lower": 0.18417395576834678,
           "time": 45.97394561767578,
           "trajectory": "Wolves",
           "upper": 0.9080043017864226
          },
          {
           "lower": 0.18885962814092636,
           "time": 46.0721435546875,
           "trajectory": "Wolves",
           "upper": 0.9386744022369383
          },
          {
           "lower": 0.18875136002898216,
           "time": 46.17033767700195,
           "trajectory": "Wolves",
           "upper": 0.951682311296463
          },
          {
           "lower": 0.1875740148127079,
           "time": 46.26853561401367,
           "trajectory": "Wolves",
           "upper": 0.9526154279708862
          },
          {
           "lower": 0.18340350538492203,
           "time": 46.36673355102539,
           "trajectory": "Wolves",
           "upper": 0.967214611172676
          },
          {
           "lower": 0.1797109790146351,
           "time": 46.464927673339844,
           "trajectory": "Wolves",
           "upper": 0.9782778948545456
          },
          {
           "lower": 0.1780935861170292,
           "time": 46.56312561035156,
           "trajectory": "Wolves",
           "upper": 0.9929623037576676
          },
          {
           "lower": 0.18051922917366028,
           "time": 46.66132354736328,
           "trajectory": "Wolves",
           "upper": 0.9935926169157028
          },
          {
           "lower": 0.1835742212831974,
           "time": 46.759517669677734,
           "trajectory": "Wolves",
           "upper": 0.982981064915657
          },
          {
           "lower": 0.18483320698142053,
           "time": 46.85771560668945,
           "trajectory": "Wolves",
           "upper": 0.9751109391450882
          },
          {
           "lower": 0.18378577679395675,
           "time": 46.955909729003906,
           "trajectory": "Wolves",
           "upper": 0.9734359979629517
          },
          {
           "lower": 0.18323469310998916,
           "time": 47.054107666015625,
           "trajectory": "Wolves",
           "upper": 0.9589579313993454
          },
          {
           "lower": 0.18296254724264144,
           "time": 47.152305603027344,
           "trajectory": "Wolves",
           "upper": 0.9672924876213074
          },
          {
           "lower": 0.18928456977009772,
           "time": 47.2504997253418,
           "trajectory": "Wolves",
           "upper": 0.9726561933755874
          },
          {
           "lower": 0.1836253210902214,
           "time": 47.348697662353516,
           "trajectory": "Wolves",
           "upper": 0.9888338655233383
          },
          {
           "lower": 0.17733232229948043,
           "time": 47.446895599365234,
           "trajectory": "Wolves",
           "upper": 0.9925686925649643
          },
          {
           "lower": 0.1724783331155777,
           "time": 47.54508972167969,
           "trajectory": "Wolves",
           "upper": 0.995303800702095
          },
          {
           "lower": 0.16982696056365967,
           "time": 47.643287658691406,
           "trajectory": "Wolves",
           "upper": 0.9976611137390137
          },
          {
           "lower": 0.16763659566640854,
           "time": 47.74148178100586,
           "trajectory": "Wolves",
           "upper": 0.9995992243289947
          },
          {
           "lower": 0.16603316590189934,
           "time": 47.83967971801758,
           "trajectory": "Wolves",
           "upper": 0.9973608493804932
          },
          {
           "lower": 0.16775305867195128,
           "time": 47.9378776550293,
           "trajectory": "Wolves",
           "upper": 0.9954323470592499
          },
          {
           "lower": 0.16995794773101808,
           "time": 48.03607177734375,
           "trajectory": "Wolves",
           "upper": 0.9963240295648574
          },
          {
           "lower": 0.17077829837799072,
           "time": 48.13426971435547,
           "trajectory": "Wolves",
           "upper": 1.0007076144218445
          },
          {
           "lower": 0.17158592715859414,
           "time": 48.23246765136719,
           "trajectory": "Wolves",
           "upper": 1.0012928336858749
          },
          {
           "lower": 0.17150169163942336,
           "time": 48.33066177368164,
           "trajectory": "Wolves",
           "upper": 0.9991271167993545
          },
          {
           "lower": 0.1677117846906185,
           "time": 48.42885971069336,
           "trajectory": "Wolves",
           "upper": 1.0007474809885024
          },
          {
           "lower": 0.1644555762410164,
           "time": 48.52705383300781,
           "trajectory": "Wolves",
           "upper": 1.0012450426816941
          },
          {
           "lower": 0.1617278590798378,
           "time": 48.62525177001953,
           "trajectory": "Wolves",
           "upper": 0.9981553196907044
          },
          {
           "lower": 0.15952814891934394,
           "time": 48.72344970703125,
           "trajectory": "Wolves",
           "upper": 1.0005579859018325
          },
          {
           "lower": 0.15785960704088212,
           "time": 48.8216438293457,
           "trajectory": "Wolves",
           "upper": 1.0051156818866729
          },
          {
           "lower": 0.1567295730113983,
           "time": 48.919837951660156,
           "trajectory": "Wolves",
           "upper": 1.003503081202507
          },
          {
           "lower": 0.15729982852935792,
           "time": 49.018035888671875,
           "trajectory": "Wolves",
           "upper": 1.003023886680603
          },
          {
           "lower": 0.15950344130396843,
           "time": 49.11623001098633,
           "trajectory": "Wolves",
           "upper": 0.9974136888980866
          },
          {
           "lower": 0.16275647804141044,
           "time": 49.21442794799805,
           "trajectory": "Wolves",
           "upper": 0.9931495100259781
          },
          {
           "lower": 0.16683145835995675,
           "time": 49.3126220703125,
           "trajectory": "Wolves",
           "upper": 0.9876937597990035
          },
          {
           "lower": 0.17180634289979935,
           "time": 49.41082000732422,
           "trajectory": "Wolves",
           "upper": 0.9899403691291809
          },
          {
           "lower": 0.17777244374155998,
           "time": 49.50901794433594,
           "trajectory": "Wolves",
           "upper": 0.9889350175857543
          },
          {
           "lower": 0.18516932129859925,
           "time": 49.60721206665039,
           "trajectory": "Wolves",
           "upper": 0.9785982936620711
          },
          {
           "lower": 0.19280534088611603,
           "time": 49.70541000366211,
           "trajectory": "Wolves",
           "upper": 0.961494669318199
          },
          {
           "lower": 0.19997676312923432,
           "time": 49.80360794067383,
           "trajectory": "Wolves",
           "upper": 0.9558734208345413
          },
          {
           "lower": 0.20854627192020417,
           "time": 49.90180206298828,
           "trajectory": "Wolves",
           "upper": 0.9501699745655059
          },
          {
           "lower": 0.21367589011788368,
           "time": 50,
           "trajectory": "Wolves",
           "upper": 0.9239561259746552
          }
         ]
        },
        {
         "name": "tracks",
         "values": []
        },
        {
         "name": "points",
         "values": [
          {
           "time": 1,
           "trajectory": "Rabbits Example",
           "value": 0.5774485468864441
          },
          {
           "time": 1.981963872909546,
           "trajectory": "Rabbits Example",
           "value": 0.4931105971336365
          },
          {
           "time": 2.963927745819092,
           "trajectory": "Rabbits Example",
           "value": 0.5761047005653381
          },
          {
           "time": 3.945891857147217,
           "trajectory": "Rabbits Example",
           "value": 0.7969658970832825
          },
          {
           "time": 4.927855491638184,
           "trajectory": "Rabbits Example",
           "value": 1.1683192253112793
          },
          {
           "time": 5.909820079803467,
           "trajectory": "Rabbits Example",
           "value": 1.6221495866775513
          },
          {
           "time": 6.891783714294434,
           "trajectory": "Rabbits Example",
           "value": 1.7182937860488892
          },
          {
           "time": 7.873747825622559,
           "trajectory": "Rabbits Example",
           "value": 1.0860116481781006
          },
          {
           "time": 8.855710983276367,
           "trajectory": "Rabbits Example",
           "value": 0.6113320589065552
          },
          {
           "time": 9.837676048278809,
           "trajectory": "Rabbits Example",
           "value": 0.4930415153503418
          },
          {
           "time": 10.819640159606934,
           "trajectory": "Rabbits Example",
           "value": 0.5555301308631897
          },
          {
           "time": 11.801603317260742,
           "trajectory": "Rabbits Example",
           "value": 0.7555342316627502
          },
          {
           "time": 12.783567428588867,
           "trajectory": "Rabbits Example",
           "value": 1.1050314903259277
          },
          {
           "time": 13.765531539916992,
           "trajectory": "Rabbits Example",
           "value": 1.561277985572815
          },
          {
           "time": 14.747495651245117,
           "trajectory": "Rabbits Example",
           "value": 1.7557481527328491
          },
          {
           "time": 15.729458808898926,
           "trajectory": "Rabbits Example",
           "value": 1.1907449960708618
          },
          {
           "time": 16.711421966552734,
           "trajectory": "Rabbits Example",
           "value": 0.6529028415679932
          },
          {
           "time": 17.69338607788086,
           "trajectory": "Rabbits Example",
           "value": 0.496554970741272
          },
          {
           "time": 18.675352096557617,
           "trajectory": "Rabbits Example",
           "value": 0.5378015637397766
          },
          {
           "time": 19.65731430053711,
           "trajectory": "Rabbits Example",
           "value": 0.7173503041267395
          },
          {
           "time": 20.639278411865234,
           "trajectory": "Rabbits Example",
           "value": 1.0445382595062256
          },
          {
           "time": 21.62124252319336,
           "trajectory": "Rabbits Example",
           "value": 1.495972752571106
          },
          {
           "time": 22.603206634521484,
           "trajectory": "Rabbits Example",
           "value": 1.7724984884262085
          },
          {
           "time": 23.58517074584961,
           "trajectory": "Rabbits Example",
           "value": 1.2989596128463745
          },
          {
           "time": 24.567134857177734,
           "trajectory": "Rabbits Example",
           "value": 0.70307457447052
          },
          {
           "time": 25.549097061157227,
           "trajectory": "Rabbits Example",
           "value": 0.5039738416671753
          },
          {
           "time": 26.53106117248535,
           "trajectory": "Rabbits Example",
           "value": 0.5229206085205078
          },
          {
           "time": 27.513025283813477,
           "trajectory": "Rabbits Example",
           "value": 0.6823447346687317
          },
          {
           "time": 28.4949893951416,
           "trajectory": "Rabbits Example",
           "value": 0.9871031641960144
          },
          {
           "time": 29.476953506469727,
           "trajectory": "Rabbits Example",
           "value": 1.428144931793213
          },
          {
           "time": 30.45891761779785,
           "trajectory": "Rabbits Example",
           "value": 1.7697229385375977
          },
          {
           "time": 31.440881729125977,
           "trajectory": "Rabbits Example",
           "value": 1.406166672706604
          },
          {
           "time": 32.42284393310547,
           "trajectory": "Rabbits Example",
           "value": 0.762713611125946
          },
          {
           "time": 33.404808044433594,
           "trajectory": "Rabbits Example",
           "value": 0.5157046914100647
          },
          {
           "time": 34.38677215576172,
           "trajectory": "Rabbits Example",
           "value": 0.5109087824821472
          },
          {
           "time": 35.36874008178711,
           "trajectory": "Rabbits Example",
           "value": 0.6504457592964172
          },
          {
           "time": 36.35070037841797,
           "trajectory": "Rabbits Example",
           "value": 0.9328932762145996
          },
          {
           "time": 37.332664489746094,
           "trajectory": "Rabbits Example",
           "value": 1.3593549728393555
          },
          {
           "time": 38.31462860107422,
           "trajectory": "Rabbits Example",
           "value": 1.7495903968811035
          },
          {
           "time": 39.296592712402344,
           "trajectory": "Rabbits Example",
           "value": 1.5072137117385864
          },
          {
           "time": 40.27855682373047,
           "trajectory": "Rabbits Example",
           "value": 0.8324921727180481
          },
          {
           "time": 41.260520935058594,
           "trajectory": "Rabbits Example",
           "value": 0.532248854637146
          },
          {
           "time": 42.24248504638672,
           "trajectory": "Rabbits Example",
           "value": 0.5018233060836792
          },
          {
           "time": 43.224449157714844,
           "trajectory": "Rabbits Example",
           "value": 0.6215773820877075
          },
          {
           "time": 44.20641326904297,
           "trajectory": "Rabbits Example",
           "value": 0.8819983601570129
          },
          {
           "time": 45.188377380371094,
           "trajectory": "Rabbits Example",
           "value": 1.2908376455307007
          },
          {
           "time": 46.17033767700195,
           "trajectory": "Rabbits Example",
           "value": 1.7148245573043823
          },
          {
           "time": 47.152305603027344,
           "trajectory": "Rabbits Example",
           "value": 1.5969091653823853
          },
          {
           "time": 48.13426971435547,
           "trajectory": "Rabbits Example",
           "value": 0.9126989841461182
          },
          {
           "time": 49.11623001098633,
           "trajectory": "Rabbits Example",
           "value": 0.5542105436325073
          }
         ]
        },
        {
         "name": "selected",
         "on": [
          {
           "remove": true,
           "trigger": "clear"
          },
          {
           "remove": true,
           "trigger": "!shift"
          },
          {
           "insert": "clicked",
           "trigger": "!shift && clicked"
          },
          {
           "toggle": "clicked",
           "trigger": "shift && clicked"
          }
         ]
        }
       ],
       "height": 300,
       "legends": [
        {
         "encode": {
          "labels": {
           "interactive": true,
           "name": "legendLabel",
           "update": {
            "opacity": [
             {
              "test": "!length(data('selected')) || indata('selected', 'value', datum.value)",
              "value": 1
             },
             {
              "value": 0.25
             }
            ]
           }
          },
          "symbols": {
           "interactive": true,
           "name": "legendSymbol",
           "update": {
            "fill": {
             "value": "transparent"
            },
            "opacity": [
             {
              "test": "!length(data('selected')) || indata('selected', 'value', datum.value)",
              "value": 0.7
             },
             {
              "value": 0.15
             }
            ],
            "size": {
             "value": 64
            },
            "strokeWidth": {
             "value": 2
            }
           }
          }
         },
         "stroke": "color"
        }
       ],
       "marks": [
        {
         "from": {
          "facet": {
           "data": "points",
           "groupby": "trajectory",
           "name": "points_split"
          }
         },
         "marks": [
          {
           "encode": {
            "hover": {
             "fillOpacity": {
              "value": 0.9
             }
            },
            "update": {
             "fill": {
              "field": "trajectory",
              "scale": "color"
             },
             "fillOpacity": [
              {
               "test": "!length(data('selected')) || indata('selected', 'value', datum.trajectory)",
               "value": 0.5
              },
              {
               "value": 0.15
              }
             ],
             "stroke": {
              "field": "trajectory",
              "scale": "color"
             },
             "strokeOpacity": [
              {
               "test": "!length(data('selected')) || indata('selected', 'value', datum.trajectory)",
               "value": 0.75
              },
              {
               "value": 0.15
              }
             ],
             "strokeWidth": {
              "value": 2
             },
             "x": {
              "field": "time",
              "scale": "xscale"
             },
             "y": {
              "field": "value",
              "scale": "yscale"
             }
            }
           },
           "from": {
            "data": "points"
           },
           "name": "_points",
           "type": "symbol",
           "zindex": 3
          },
          {
           "encode": {
            "hover": {
             "fillOpacity": {
              "value": 0.9
             }
            },
            "update": {
             "interpolate": {
              "value": "linear"
             },
             "stroke": {
              "field": "trajectory",
              "scale": "color"
             },
             "strokeOpacity": [
              {
               "test": "!length(data('selected')) || indata('selected', 'value', datum.trajectory)",
               "value": 0.3
              },
              {
               "value": 0.1
              }
             ],
             "strokeWidth": {
              "value": 2
             },
             "x": {
              "field": "time",
              "scale": "xscale"
             },
             "y": {
              "field": "value",
              "scale": "yscale"
             }
            }
           },
           "from": {
            "data": "points"
           },
           "name": "_points_line",
           "type": "line",
           "zindex": 3
          }
         ],
         "type": "group",
         "zindex": 3
        },
        {
         "from": {
          "facet": {
           "data": "tracks",
           "groupby": "trajectory",
           "name": "track_split"
          }
         },
         "marks": [
          {
           "encode": {
            "hover": {
             "fillOpacity": {
              "value": 0.9
             }
            },
            "update": {
             "interpolate": {
              "value": "linear"
             },
             "stroke": {
              "field": "trajectory",
              "scale": "color"
             },
             "strokeOpacity": [
              {
               "test": "!length(data('selected')) || indata('selected', 'value', datum.trajectory)",
               "value": 0.75
              },
              {
               "value": 0.15
              }
             ],
             "strokeWidth": {
              "value": 2
             },
             "x": {
              "field": "time",
              "scale": "xscale"
             },
             "y": {
              "field": "value",
              "scale": "yscale"
             }
            }
           },
           "from": {
            "data": "track_split"
           },
           "name": "_tracks",
           "type": "line"
          }
         ],
         "name": "_tracks",
         "type": "group",
         "zindex": 2
        },
        {
         "from": {
          "facet": {
           "data": "distributions",
           "groupby": "trajectory",
           "name": "trajectory_split"
          }
         },
         "marks": [
          {
           "encode": {
            "hover": {
             "fillOpacity": {
              "value": 0.9
             }
            },
            "update": {
             "fill": {
              "field": "trajectory",
              "scale": "color"
             },
             "fillOpacity": [
              {
               "test": "!length(data('selected')) || indata('selected', 'value', datum.trajectory)",
               "value": 0.5
              },
              {
               "value": 0.15
              }
             ],
             "interpolate": {
              "value": "linear"
             },
             "stroke": {
              "field": "trajectory",
              "scale": "color"
             },
             "strokeOpacity": [
              {
               "test": "!length(data('selected')) || indata('selected', 'value', datum.trajectory)",
               "value": 0.75
              },
              {
               "value": 0.15
              }
             ],
             "strokeWidth": {
              "value": 2
             },
             "x": {
              "field": "time",
              "scale": "xscale"
             },
             "y": {
              "field": "upper",
              "scale": "yscale"
             },
             "y2": {
              "field": "lower",
              "scale": "yscale"
             }
            }
           },
           "from": {
            "data": "trajectory_split"
           },
           "type": "area"
          }
         ],
         "name": "_distributions",
         "type": "group",
         "zindex": 1
        }
       ],
       "padding": 5,
       "scales": [
        {
         "domain": {
          "fields": [
           {
            "data": "distributions",
            "field": "time"
           },
           {
            "data": "tracks",
            "field": "time"
           },
           {
            "data": "points",
            "field": "time"
           }
          ]
         },
         "name": "xscale",
         "range": "width",
         "type": "linear",
         "zero": false
        },
        {
         "domain": {
          "fields": [
           {
            "data": "distributions",
            "field": "lower"
           },
           {
            "data": "distributions",
            "field": "upper"
           },
           {
            "data": "tracks",
            "field": "value"
           },
           {
            "data": "points",
            "field": "value"
           }
          ]
         },
         "name": "yscale",
         "nice": true,
         "range": "height",
         "type": "linear",
         "zero": true
        },
        {
         "domain": [
          "Rabbits",
          "Wolves"
         ],
         "name": "color",
         "range": [
          "black",
          "red"
         ],
         "type": "ordinal"
        }
       ],
       "signals": [
        {
         "name": "clear",
         "on": [
          {
           "events": "mouseup[!event.item]",
           "force": true,
           "update": "true"
          }
         ],
         "value": true
        },
        {
         "name": "shift",
         "on": [
          {
           "events": "@legendSymbol:click, @legendLabel:click",
           "force": true,
           "update": "event.shiftKey"
          }
         ],
         "value": false
        },
        {
         "name": "clicked",
         "on": [
          {
           "events": "@legendSymbol:click, @legendLabel:click",
           "force": true,
           "update": "{value: datum.value}"
          }
         ],
         "value": null
        }
       ],
       "width": 500
      }
     },
     "metadata": {},
     "output_type": "display_data"
    }
   ],
   "source": [
    "nice_labels={\"Rabbits_sol\": \"Rabbits\", \"Wolves_sol\": \"Wolves\"}\n",
    "schema = vega.trajectories(prior_samples, tspan, \n",
    "                           subset=\".*_sol\", \n",
    "                           relabel=nice_labels,\n",
    "                           points=observed_points,\n",
    "                           colors={\"Rabbits_sol\": \"black\", \"Wolves_sol\": \"red\"})\n",
    "schema = vega.pad(schema, 5)\n",
    "vega.save_schema(schema, \"_schema.json\")\n",
    "vega.ipy_display(schema)"
   ]
  },
  {
   "cell_type": "code",
   "execution_count": 17,
   "metadata": {},
   "outputs": [
    {
     "data": {
      "application/vnd.vega.v5+json": {
       "$schema": "https://vega.github.io/schema/vega/v5.json",
       "axes": [
        {
         "orient": "bottom",
         "scale": "xscale",
         "zindex": 100
        },
        {
         "orient": "left",
         "scale": "yscale",
         "zindex": 100
        }
       ],
       "data": [
        {
         "name": "distributions",
         "values": [
          {
           "lower": 0.5051243111491204,
           "time": 1,
           "trajectory": "Rabbits",
           "upper": 0.6488389670848846
          },
          {
           "lower": 0.4810523107647896,
           "time": 1.0981963872909546,
           "trajectory": "Rabbits",
           "upper": 0.6317649573087692
          },
          {
           "lower": 0.4601885452866554,
           "time": 1.1963927745819092,
           "trajectory": "Rabbits",
           "upper": 0.6172279119491577
          },
          {
           "lower": 0.44223228096961975,
           "time": 1.2945891618728638,
           "trajectory": "Rabbits",
           "upper": 0.6050723165273666
          },
          {
           "lower": 0.4269068524241447,
           "time": 1.3927855491638184,
           "trajectory": "Rabbits",
           "upper": 0.5951532989740371
          },
          {
           "lower": 0.41377234309911726,
           "time": 1.490981936454773,
           "trajectory": "Rabbits",
           "upper": 0.5873368799686431
          },
          {
           "lower": 0.40248590111732485,
           "time": 1.5891783237457275,
           "trajectory": "Rabbits",
           "upper": 0.5815026640892028
          },
          {
           "lower": 0.3931929439306259,
           "time": 1.6873748302459717,
           "trajectory": "Rabbits",
           "upper": 0.5775427132844925
          },
          {
           "lower": 0.3862742096185684,
           "time": 1.7855710983276367,
           "trajectory": "Rabbits",
           "upper": 0.5753624409437179
          },
          {
           "lower": 0.38118805140256884,
           "time": 1.8837674856185913,
           "trajectory": "Rabbits",
           "upper": 0.5757302582263947
          },
          {
           "lower": 0.3776500791311264,
           "time": 1.981963872909546,
           "trajectory": "Rabbits",
           "upper": 0.5796148270368576
          },
          {
           "lower": 0.37555393427610395,
           "time": 2.08016037940979,
           "trajectory": "Rabbits",
           "upper": 0.585342624783516
          },
          {
           "lower": 0.3748101145029068,
           "time": 2.178356647491455,
           "trajectory": "Rabbits",
           "upper": 0.5931292980909347
          },
          {
           "lower": 0.3753451660275459,
           "time": 2.276553153991699,
           "trajectory": "Rabbits",
           "upper": 0.6025383323431015
          },
          {
           "lower": 0.377096489071846,
           "time": 2.3747494220733643,
           "trajectory": "Rabbits",
           "upper": 0.6135480284690856
          },
          {
           "lower": 0.3800157144665718,
           "time": 2.4729459285736084,
           "trajectory": "Rabbits",
           "upper": 0.6261454164981841
          },
          {
           "lower": 0.3840783342719078,
           "time": 2.5711421966552734,
           "trajectory": "Rabbits",
           "upper": 0.6403272837400436
          },
          {
           "lower": 0.3895245581865311,
           "time": 2.6693387031555176,
           "trajectory": "Rabbits",
           "upper": 0.6560939222574232
          },
          {
           "lower": 0.39607561081647874,
           "time": 2.7675349712371826,
           "trajectory": "Rabbits",
           "upper": 0.6737348735332488
          },
          {
           "lower": 0.4037196129560471,
           "time": 2.8657314777374268,
           "trajectory": "Rabbits",
           "upper": 0.6940728366374967
          },
          {
           "lower": 0.41245175153017044,
           "time": 2.963927745819092,
           "trajectory": "Rabbits",
           "upper": 0.7161092609167097
          },
          {
           "lower": 0.4222735777497292,
           "time": 3.062124252319336,
           "trajectory": "Rabbits",
           "upper": 0.7398648440837858
          },
          {
           "lower": 0.43319143205881117,
           "time": 3.160320520401001,
           "trajectory": "Rabbits",
           "upper": 0.7646123915910719
          },
          {
           "lower": 0.4452171564102173,
           "time": 3.258517026901245,
           "trajectory": "Rabbits",
           "upper": 0.7892877429723737
          },
          {
           "lower": 0.4569105193018913,
           "time": 3.3567135334014893,
           "trajectory": "Rabbits",
           "upper": 0.815542286634445
          },
          {
           "lower": 0.4695918634533882,
           "time": 3.4549100399017334,
           "trajectory": "Rabbits",
           "upper": 0.8433761298656461
          },
          {
           "lower": 0.483332422375679,
           "time": 3.5531063079833984,
           "trajectory": "Rabbits",
           "upper": 0.8727851301431654
          },
          {
           "lower": 0.4981502011418343,
           "time": 3.6513028144836426,
           "trajectory": "Rabbits",
           "upper": 0.9037574321031568
          },
          {
           "lower": 0.5140681594610215,
           "time": 3.7494990825653076,
           "trajectory": "Rabbits",
           "upper": 0.9362738102674482
          },
          {
           "lower": 0.5311100453138351,
           "time": 3.8476955890655518,
           "trajectory": "Rabbits",
           "upper": 0.970302867889404
          },
          {
           "lower": 0.5493017822504044,
           "time": 3.945891857147217,
           "trajectory": "Rabbits",
           "upper": 1.0058008164167402
          },
          {
           "lower": 0.5684487670660019,
           "time": 4.044088363647461,
           "trajectory": "Rabbits",
           "upper": 1.0427060514688489
          },
          {
           "lower": 0.5885705500841141,
           "time": 4.142284393310547,
           "trajectory": "Rabbits",
           "upper": 1.0809359312057492
          },
          {
           "lower": 0.6098981499671936,
           "time": 4.240480899810791,
           "trajectory": "Rabbits",
           "upper": 1.1203878223896024
          },
          {
           "lower": 0.6324594795703888,
           "time": 4.338677406311035,
           "trajectory": "Rabbits",
           "upper": 1.1609291970729825
          },
          {
           "lower": 0.6562829375267029,
           "time": 4.436873435974121,
           "trajectory": "Rabbits",
           "upper": 1.2023967802524564
          },
          {
           "lower": 0.6823425441980362,
           "time": 4.535069942474365,
           "trajectory": "Rabbits",
           "upper": 1.244588083028793
          },
          {
           "lower": 0.7107869565486908,
           "time": 4.633266448974609,
           "trajectory": "Rabbits",
           "upper": 1.2872623503208158
          },
          {
           "lower": 0.7407032549381256,
           "time": 4.7314629554748535,
           "trajectory": "Rabbits",
           "upper": 1.3301270723342893
          },
          {
           "lower": 0.7721204370260238,
           "time": 4.8296589851379395,
           "trajectory": "Rabbits",
           "upper": 1.3728431224822994
          },
          {
           "lower": 0.805060988664627,
           "time": 4.927855491638184,
           "trajectory": "Rabbits",
           "upper": 1.4171339631080624
          },
          {
           "lower": 0.8395456910133362,
           "time": 5.026051998138428,
           "trajectory": "Rabbits",
           "upper": 1.4623533129692075
          },
          {
           "lower": 0.8755844682455063,
           "time": 5.124248504638672,
           "trajectory": "Rabbits",
           "upper": 1.5069728612899778
          },
          {
           "lower": 0.9131788015365601,
           "time": 5.222444534301758,
           "trajectory": "Rabbits",
           "upper": 1.5505466878414154
          },
          {
           "lower": 0.9523179590702057,
           "time": 5.320641040802002,
           "trajectory": "Rabbits",
           "upper": 1.5925707936286926
          },
          {
           "lower": 0.9904650866985321,
           "time": 5.418837547302246,
           "trajectory": "Rabbits",
           "upper": 1.6349843382835387
          },
          {
           "lower": 1.0290996789932252,
           "time": 5.51703405380249,
           "trajectory": "Rabbits",
           "upper": 1.6903327703475952
          },
          {
           "lower": 1.068894773721695,
           "time": 5.615230083465576,
           "trajectory": "Rabbits",
           "upper": 1.7450684905052185
          },
          {
           "lower": 1.1097592115402222,
           "time": 5.7134270668029785,
           "trajectory": "Rabbits",
           "upper": 1.7986104249954225
          },
          {
           "lower": 1.151575994491577,
           "time": 5.811623573303223,
           "trajectory": "Rabbits",
           "upper": 1.850271362066269
          },
          {
           "lower": 1.1941976070404052,
           "time": 5.909820079803467,
           "trajectory": "Rabbits",
           "upper": 1.899582540988922
          },
          {
           "lower": 1.23744078874588,
           "time": 6.008016109466553,
           "trajectory": "Rabbits",
           "upper": 1.943354856967926
          },
          {
           "lower": 1.2810803174972534,
           "time": 6.106212615966797,
           "trajectory": "Rabbits",
           "upper": 1.9746112644672393
          },
          {
           "lower": 1.3245567440986634,
           "time": 6.204409122467041,
           "trajectory": "Rabbits",
           "upper": 2.006672477722168
          },
          {
           "lower": 1.3671102821826935,
           "time": 6.302605628967285,
           "trajectory": "Rabbits",
           "upper": 2.0283280491828917
          },
          {
           "lower": 1.408983862400055,
           "time": 6.400801658630371,
           "trajectory": "Rabbits",
           "upper": 2.01531400680542
          },
          {
           "lower": 1.4367581963539124,
           "time": 6.498998165130615,
           "trajectory": "Rabbits",
           "upper": 2.0211418747901915
          },
          {
           "lower": 1.4506515979766845,
           "time": 6.597194671630859,
           "trajectory": "Rabbits",
           "upper": 2.015464460849762
          },
          {
           "lower": 1.4284321010112762,
           "time": 6.6953911781311035,
           "trajectory": "Rabbits",
           "upper": 1.9974848330020905
          },
          {
           "lower": 1.4066657185554505,
           "time": 6.7935872077941895,
           "trajectory": "Rabbits",
           "upper": 1.9946840226650238
          },
          {
           "lower": 1.3370188474655151,
           "time": 6.891783714294434,
           "trajectory": "Rabbits",
           "upper": 1.973221319913864
          },
          {
           "lower": 1.268656712770462,
           "time": 6.989980220794678,
           "trajectory": "Rabbits",
           "upper": 1.946996235847473
          },
          {
           "lower": 1.2056418180465698,
           "time": 7.088176727294922,
           "trajectory": "Rabbits",
           "upper": 1.926825213432312
          },
          {
           "lower": 1.1426748096942902,
           "time": 7.186372756958008,
           "trajectory": "Rabbits",
           "upper": 1.8917805612087248
          },
          {
           "lower": 1.0809118807315827,
           "time": 7.284569263458252,
           "trajectory": "Rabbits",
           "upper": 1.873773556947708
          },
          {
           "lower": 1.021326494216919,
           "time": 7.382765769958496,
           "trajectory": "Rabbits",
           "upper": 1.838645803928375
          },
          {
           "lower": 0.9646812707185746,
           "time": 7.48096227645874,
           "trajectory": "Rabbits",
           "upper": 1.7861752212047575
          },
          {
           "lower": 0.9115411072969437,
           "time": 7.579158306121826,
           "trajectory": "Rabbits",
           "upper": 1.7476635694503784
          },
          {
           "lower": 0.8622704237699509,
           "time": 7.67735481262207,
           "trajectory": "Rabbits",
           "upper": 1.7020660996437074
          },
          {
           "lower": 0.8200316578149796,
           "time": 7.7755513191223145,
           "trajectory": "Rabbits",
           "upper": 1.650298374891281
          },
          {
           "lower": 0.7819973856210709,
           "time": 7.873747825622559,
           "trajectory": "Rabbits",
           "upper": 1.6116529524326324
          },
          {
           "lower": 0.7480799227952957,
           "time": 7.9719438552856445,
           "trajectory": "Rabbits",
           "upper": 1.563731038570404
          },
          {
           "lower": 0.7194193333387375,
           "time": 8.070140838623047,
           "trajectory": "Rabbits",
           "upper": 1.5072274923324585
          },
          {
           "lower": 0.6914891541004181,
           "time": 8.168336868286133,
           "trajectory": "Rabbits",
           "upper": 1.4292892456054687
          },
          {
           "lower": 0.6670606106519699,
           "time": 8.266533851623535,
           "trajectory": "Rabbits",
           "upper": 1.3471659898757935
          },
          {
           "lower": 0.641142001748085,
           "time": 8.364729881286621,
           "trajectory": "Rabbits",
           "upper": 1.2633545577526093
          },
          {
           "lower": 0.6135189205408096,
           "time": 8.462926864624023,
           "trajectory": "Rabbits",
           "upper": 1.1872593283653259
          },
          {
           "lower": 0.5919944554567337,
           "time": 8.56112289428711,
           "trajectory": "Rabbits",
           "upper": 1.1166882276535033
          },
          {
           "lower": 0.571210527420044,
           "time": 8.659318923950195,
           "trajectory": "Rabbits",
           "upper": 1.0470829546451568
          },
          {
           "lower": 0.5549307703971863,
           "time": 8.757515907287598,
           "trajectory": "Rabbits",
           "upper": 0.9762333691120146
          },
          {
           "lower": 0.5424787819385528,
           "time": 8.855710983276367,
           "trajectory": "Rabbits",
           "upper": 0.9051215559244155
          },
          {
           "lower": 0.5280335992574692,
           "time": 8.953907012939453,
           "trajectory": "Rabbits",
           "upper": 0.8438710719346999
          },
          {
           "lower": 0.5136239737272262,
           "time": 9.052103996276855,
           "trajectory": "Rabbits",
           "upper": 0.7899392932653426
          },
          {
           "lower": 0.5010840415954589,
           "time": 9.150300025939941,
           "trajectory": "Rabbits",
           "upper": 0.741310104727745
          },
          {
           "lower": 0.4843059152364731,
           "time": 9.248497009277344,
           "trajectory": "Rabbits",
           "upper": 0.6987793892621994
          },
          {
           "lower": 0.46948242634534837,
           "time": 9.34669303894043,
           "trajectory": "Rabbits",
           "upper": 0.6654698103666306
          },
          {
           "lower": 0.456996813416481,
           "time": 9.444889068603516,
           "trajectory": "Rabbits",
           "upper": 0.6317428410053253
          },
          {
           "lower": 0.44688632488250735,
           "time": 9.543086051940918,
           "trajectory": "Rabbits",
           "upper": 0.6195917665958404
          },
          {
           "lower": 0.4393170580267906,
           "time": 9.64128303527832,
           "trajectory": "Rabbits",
           "upper": 0.5936942964792251
          },
          {
           "lower": 0.43049156963825225,
           "time": 9.739479064941406,
           "trajectory": "Rabbits",
           "upper": 0.5928875982761382
          },
          {
           "lower": 0.42122622579336166,
           "time": 9.837676048278809,
           "trajectory": "Rabbits",
           "upper": 0.604402607679367
          },
          {
           "lower": 0.4145303204655647,
           "time": 9.935872077941895,
           "trajectory": "Rabbits",
           "upper": 0.6175673276185989
          },
          {
           "lower": 0.409544937312603,
           "time": 10.034069061279297,
           "trajectory": "Rabbits",
           "upper": 0.6323772072792053
          },
          {
           "lower": 0.4043998926877975,
           "time": 10.132265090942383,
           "trajectory": "Rabbits",
           "upper": 0.648832431435585
          },
          {
           "lower": 0.39657222479581833,
           "time": 10.230461120605469,
           "trajectory": "Rabbits",
           "upper": 0.6669412821531295
          },
          {
           "lower": 0.3914209812879562,
           "time": 10.328658103942871,
           "trajectory": "Rabbits",
           "upper": 0.6867181420326233
          },
          {
           "lower": 0.38856773972511294,
           "time": 10.426854133605957,
           "trajectory": "Rabbits",
           "upper": 0.7081786185503005
          },
          {
           "lower": 0.3846037968993187,
           "time": 10.525050163269043,
           "trajectory": "Rabbits",
           "upper": 0.7313447654247283
          },
          {
           "lower": 0.38213504999876025,
           "time": 10.623247146606445,
           "trajectory": "Rabbits",
           "upper": 0.7562388241291045
          },
          {
           "lower": 0.3810760900378227,
           "time": 10.721443176269531,
           "trajectory": "Rabbits",
           "upper": 0.7828852593898772
          },
          {
           "lower": 0.38122865110635756,
           "time": 10.819640159606934,
           "trajectory": "Rabbits",
           "upper": 0.8113089025020598
          },
          {
           "lower": 0.38336937576532365,
           "time": 10.91783618927002,
           "trajectory": "Rabbits",
           "upper": 0.8415317207574843
          },
          {
           "lower": 0.3866841092705727,
           "time": 11.016032218933105,
           "trajectory": "Rabbits",
           "upper": 0.8735748052597044
          },
          {
           "lower": 0.3911342531442642,
           "time": 11.114229202270508,
           "trajectory": "Rabbits",
           "upper": 0.9074536323547362
          },
          {
           "lower": 0.39669124931097033,
           "time": 11.212425231933594,
           "trajectory": "Rabbits",
           "upper": 0.9431790947914122
          },
          {
           "lower": 0.40181774348020555,
           "time": 11.31062126159668,
           "trajectory": "Rabbits",
           "upper": 0.9807507842779157
          },
          {
           "lower": 0.407728835940361,
           "time": 11.408818244934082,
           "trajectory": "Rabbits",
           "upper": 1.0201601594686507
          },
          {
           "lower": 0.4146845549345016,
           "time": 11.507014274597168,
           "trajectory": "Rabbits",
           "upper": 1.0613841593265532
          },
          {
           "lower": 0.42267623692750933,
           "time": 11.60521125793457,
           "trajectory": "Rabbits",
           "upper": 1.1043815016746519
          },
          {
           "lower": 0.4317007020115852,
           "time": 11.703407287597656,
           "trajectory": "Rabbits",
           "upper": 1.1490903258323666
          },
          {
           "lower": 0.4413680672645569,
           "time": 11.801603317260742,
           "trajectory": "Rabbits",
           "upper": 1.195424300432205
          },
          {
           "lower": 0.4518758445978165,
           "time": 11.899800300598145,
           "trajectory": "Rabbits",
           "upper": 1.2405022025108334
          },
          {
           "lower": 0.4634175285696983,
           "time": 11.99799633026123,
           "trajectory": "Rabbits",
           "upper": 1.2830369472503658
          },
          {
           "lower": 0.476004995405674,
           "time": 12.096192359924316,
           "trajectory": "Rabbits",
           "upper": 1.3257771432399745
          },
          {
           "lower": 0.48965266942977903,
           "time": 12.194389343261719,
           "trajectory": "Rabbits",
           "upper": 1.368388450145721
          },
          {
           "lower": 0.5043785005807877,
           "time": 12.292585372924805,
           "trajectory": "Rabbits",
           "upper": 1.4104705750942226
          },
          {
           "lower": 0.5202018976211548,
           "time": 12.390782356262207,
           "trajectory": "Rabbits",
           "upper": 1.4515727937221523
          },
          {
           "lower": 0.5371453166007996,
           "time": 12.488978385925293,
           "trajectory": "Rabbits",
           "upper": 1.491175544261932
          },
          {
           "lower": 0.5552328586578369,
           "time": 12.587174415588379,
           "trajectory": "Rabbits",
           "upper": 1.5286987662315366
          },
          {
           "lower": 0.5746016263961792,
           "time": 12.685371398925781,
           "trajectory": "Rabbits",
           "upper": 1.5635028123855588
          },
          {
           "lower": 0.5970102906227112,
           "time": 12.783567428588867,
           "trajectory": "Rabbits",
           "upper": 1.5948892235755918
          },
          {
           "lower": 0.6207388818264008,
           "time": 12.881763458251953,
           "trajectory": "Rabbits",
           "upper": 1.6221232175827025
          },
          {
           "lower": 0.6453634649515152,
           "time": 12.979960441589355,
           "trajectory": "Rabbits",
           "upper": 1.644442594051361
          },
          {
           "lower": 0.6708035081624985,
           "time": 13.078156471252441,
           "trajectory": "Rabbits",
           "upper": 1.6610858678817748
          },
          {
           "lower": 0.6968708425760269,
           "time": 13.176353454589844,
           "trajectory": "Rabbits",
           "upper": 1.6713273644447326
          },
          {
           "lower": 0.7234418570995331,
           "time": 13.27454948425293,
           "trajectory": "Rabbits",
           "upper": 1.6745122253894806
          },
          {
           "lower": 0.7513154923915863,
           "time": 13.372745513916016,
           "trajectory": "Rabbits",
           "upper": 1.6727754712104796
          },
          {
           "lower": 0.78050856590271,
           "time": 13.470942497253418,
           "trajectory": "Rabbits",
           "upper": 1.716128623485565
          },
          {
           "lower": 0.8110340058803559,
           "time": 13.569138526916504,
           "trajectory": "Rabbits",
           "upper": 1.7695979833602904
          },
          {
           "lower": 0.842897766828537,
           "time": 13.66733455657959,
           "trajectory": "Rabbits",
           "upper": 1.8139043271541595
          },
          {
           "lower": 0.8761000365018845,
           "time": 13.765531539916992,
           "trajectory": "Rabbits",
           "upper": 1.8211844146251677
          },
          {
           "lower": 0.9106319785118103,
           "time": 13.863727569580078,
           "trajectory": "Rabbits",
           "upper": 1.8637800216674802
          },
          {
           "lower": 0.9464745968580246,
           "time": 13.96192455291748,
           "trajectory": "Rabbits",
           "upper": 1.8995178580284118
          },
          {
           "lower": 0.9835943669080734,
           "time": 14.060120582580566,
           "trajectory": "Rabbits",
           "upper": 1.912487632036209
          },
          {
           "lower": 1.0219449251890182,
           "time": 14.158316612243652,
           "trajectory": "Rabbits",
           "upper": 1.9452049076557159
          },
          {
           "lower": 1.0614603579044342,
           "time": 14.256513595581055,
           "trajectory": "Rabbits",
           "upper": 1.9617474615573882
          },
          {
           "lower": 1.1020531356334686,
           "time": 14.35470962524414,
           "trajectory": "Rabbits",
           "upper": 1.9881222665309906
          },
          {
           "lower": 1.1269083678722382,
           "time": 14.452905654907227,
           "trajectory": "Rabbits",
           "upper": 2.0061532855033875
          },
          {
           "lower": 1.1055106699466706,
           "time": 14.551102638244629,
           "trajectory": "Rabbits",
           "upper": 2.0061437666416166
          },
          {
           "lower": 1.0808826684951782,
           "time": 14.649298667907715,
           "trajectory": "Rabbits",
           "upper": 1.9949356257915496
          },
          {
           "lower": 1.0539768517017365,
           "time": 14.747495651245117,
           "trajectory": "Rabbits",
           "upper": 1.987330251932144
          },
          {
           "lower": 0.9956606686115265,
           "time": 14.845691680908203,
           "trajectory": "Rabbits",
           "upper": 1.977737545967102
          },
          {
           "lower": 0.9405529707670212,
           "time": 14.943887710571289,
           "trajectory": "Rabbits",
           "upper": 1.9775248050689695
          },
          {
           "lower": 0.8891286879777909,
           "time": 15.042084693908691,
           "trajectory": "Rabbits",
           "upper": 1.9683462738990782
          },
          {
           "lower": 0.8416773855686188,
           "time": 15.140280723571777,
           "trajectory": "Rabbits",
           "upper": 1.9223632514476774
          },
          {
           "lower": 0.7987896740436554,
           "time": 15.238476753234863,
           "trajectory": "Rabbits",
           "upper": 1.9055021107196808
          },
          {
           "lower": 0.7641114115715026,
           "time": 15.336673736572266,
           "trajectory": "Rabbits",
           "upper": 1.8573774456977843
          },
          {
           "lower": 0.7325069457292557,
           "time": 15.434869766235352,
           "trajectory": "Rabbits",
           "upper": 1.838408941030502
          },
          {
           "lower": 0.7046769589185715,
           "time": 15.533066749572754,
           "trajectory": "Rabbits",
           "upper": 1.8566193163394926
          },
          {
           "lower": 0.6805095404386521,
           "time": 15.63126277923584,
           "trajectory": "Rabbits",
           "upper": 1.8516739666461943
          },
          {
           "lower": 0.6646953701972962,
           "time": 15.729458808898926,
           "trajectory": "Rabbits",
           "upper": 1.8386036038398743
          },
          {
           "lower": 0.6481923609972,
           "time": 15.827655792236328,
           "trajectory": "Rabbits",
           "upper": 1.8343990445137024
          },
          {
           "lower": 0.6312552928924561,
           "time": 15.925851821899414,
           "trajectory": "Rabbits",
           "upper": 1.8231343924999235
          },
          {
           "lower": 0.6174396783113479,
           "time": 16.0240478515625,
           "trajectory": "Rabbits",
           "upper": 1.796340215206146
          },
          {
           "lower": 0.6048211842775345,
           "time": 16.122243881225586,
           "trajectory": "Rabbits",
           "upper": 1.7632344782352447
          },
          {
           "lower": 0.5861428260803223,
           "time": 16.220441818237305,
           "trajectory": "Rabbits",
           "upper": 1.7273318111896514
          },
          {
           "lower": 0.5645932614803314,
           "time": 16.31863784790039,
           "trajectory": "Rabbits",
           "upper": 1.6872319936752318
          },
          {
           "lower": 0.5531397134065628,
           "time": 16.416833877563477,
           "trajectory": "Rabbits",
           "upper": 1.6694511115550994
          },
          {
           "lower": 0.5454001277685165,
           "time": 16.515029907226562,
           "trajectory": "Rabbits",
           "upper": 1.6414436995983124
          },
          {
           "lower": 0.5345095366239547,
           "time": 16.61322593688965,
           "trajectory": "Rabbits",
           "upper": 1.6056683242321013
          },
          {
           "lower": 0.5248127788305282,
           "time": 16.711421966552734,
           "trajectory": "Rabbits",
           "upper": 1.5370599269866942
          },
          {
           "lower": 0.5188495635986328,
           "time": 16.80961799621582,
           "trajectory": "Rabbits",
           "upper": 1.4614464104175569
          },
          {
           "lower": 0.5141069158911705,
           "time": 16.907814025878906,
           "trajectory": "Rabbits",
           "upper": 1.3810622274875641
          },
          {
           "lower": 0.5036842778325081,
           "time": 17.006011962890625,
           "trajectory": "Rabbits",
           "upper": 1.3148657023906707
          },
          {
           "lower": 0.4955750972032547,
           "time": 17.10420799255371,
           "trajectory": "Rabbits",
           "upper": 1.2469740509986875
          },
          {
           "lower": 0.486618934571743,
           "time": 17.202404022216797,
           "trajectory": "Rabbits",
           "upper": 1.1773756980895993
          },
          {
           "lower": 0.4762810945510864,
           "time": 17.300600051879883,
           "trajectory": "Rabbits",
           "upper": 1.1075618743896483
          },
          {
           "lower": 0.4718186900019646,
           "time": 17.39879608154297,
           "trajectory": "Rabbits",
           "upper": 1.0388622075319287
          },
          {
           "lower": 0.4622297614812851,
           "time": 17.496994018554688,
           "trajectory": "Rabbits",
           "upper": 0.9670342475175854
          },
          {
           "lower": 0.4485212951898575,
           "time": 17.595190048217773,
           "trajectory": "Rabbits",
           "upper": 0.8990428447723385
          },
          {
           "lower": 0.44212027490139005,
           "time": 17.69338607788086,
           "trajectory": "Rabbits",
           "upper": 0.8747189581394195
          },
          {
           "lower": 0.44298544377088545,
           "time": 17.791584014892578,
           "trajectory": "Rabbits",
           "upper": 0.8403298556804656
          },
          {
           "lower": 0.4412238642573357,
           "time": 17.889780044555664,
           "trajectory": "Rabbits",
           "upper": 0.8073499917984008
          },
          {
           "lower": 0.4404029667377472,
           "time": 17.98797607421875,
           "trajectory": "Rabbits",
           "upper": 0.756241524219513
          },
          {
           "lower": 0.4368326559662819,
           "time": 18.086172103881836,
           "trajectory": "Rabbits",
           "upper": 0.748366367816925
          },
          {
           "lower": 0.42849123030900954,
           "time": 18.184368133544922,
           "trajectory": "Rabbits",
           "upper": 0.7742634236812591
          },
          {
           "lower": 0.41640654951334,
           "time": 18.28256607055664,
           "trajectory": "Rabbits",
           "upper": 0.8020657032728196
          },
          {
           "lower": 0.4095948994159698,
           "time": 18.380762100219727,
           "trajectory": "Rabbits",
           "upper": 0.8316493302583694
          },
          {
           "lower": 0.4073739260435104,
           "time": 18.478958129882812,
           "trajectory": "Rabbits",
           "upper": 0.8630342334508896
          },
          {
           "lower": 0.4066722258925438,
           "time": 18.57715606689453,
           "trajectory": "Rabbits",
           "upper": 0.8962369143962859
          },
          {
           "lower": 0.4074068084359169,
           "time": 18.675352096557617,
           "trajectory": "Rabbits",
           "upper": 0.931265839934349
          },
          {
           "lower": 0.40268880128860474,
           "time": 18.773548126220703,
           "trajectory": "Rabbits",
           "upper": 0.9681242197751998
          },
          {
           "lower": 0.399829663336277,
           "time": 18.87174415588379,
           "trajectory": "Rabbits",
           "upper": 1.006803148984909
          },
          {
           "lower": 0.40095287263393403,
           "time": 18.969940185546875,
           "trajectory": "Rabbits",
           "upper": 1.047283226251602
          },
          {
           "lower": 0.4031273275613785,
           "time": 19.06813621520996,
           "trajectory": "Rabbits",
           "upper": 1.0895249366760253
          },
          {
           "lower": 0.3990011066198349,
           "time": 19.166332244873047,
           "trajectory": "Rabbits",
           "upper": 1.1334718346595762
          },
          {
           "lower": 0.39364364594221113,
           "time": 19.264528274536133,
           "trajectory": "Rabbits",
           "upper": 1.1790435075759886
          },
          {
           "lower": 0.38806077688932417,
           "time": 19.36272621154785,
           "trajectory": "Rabbits",
           "upper": 1.2261301219463348
          },
          {
           "lower": 0.38450371026992797,
           "time": 19.460922241210938,
           "trajectory": "Rabbits",
           "upper": 1.2745866119861602
          },
          {
           "lower": 0.3875089153647423,
           "time": 19.559118270874023,
           "trajectory": "Rabbits",
           "upper": 1.3242292463779448
          },
          {
           "lower": 0.39167160391807554,
           "time": 19.65731430053711,
           "trajectory": "Rabbits",
           "upper": 1.374829018115997
          },
          {
           "lower": 0.3969603732228279,
           "time": 19.755510330200195,
           "trajectory": "Rabbits",
           "upper": 1.426099723577499
          },
          {
           "lower": 0.4033517211675644,
           "time": 19.853708267211914,
           "trajectory": "Rabbits",
           "upper": 1.4776994168758388
          },
          {
           "lower": 0.4093814805150032,
           "time": 19.951904296875,
           "trajectory": "Rabbits",
           "upper": 1.5238482177257533
          },
          {
           "lower": 0.415441007912159,
           "time": 20.050100326538086,
           "trajectory": "Rabbits",
           "upper": 1.5586489498615261
          },
          {
           "lower": 0.4219281882047653,
           "time": 20.148298263549805,
           "trajectory": "Rabbits",
           "upper": 1.590088194608688
          },
          {
           "lower": 0.4287471905350685,
           "time": 20.24649429321289,
           "trajectory": "Rabbits",
           "upper": 1.6174417972564694
          },
          {
           "lower": 0.4356454789638519,
           "time": 20.344690322875977,
           "trajectory": "Rabbits",
           "upper": 1.639961630105972
          },
          {
           "lower": 0.4435746371746063,
           "time": 20.442886352539062,
           "trajectory": "Rabbits",
           "upper": 1.656901055574417
          },
          {
           "lower": 0.4525284916162491,
           "time": 20.54108238220215,
           "trajectory": "Rabbits",
           "upper": 1.6675437271595
          },
          {
           "lower": 0.4625064104795456,
           "time": 20.639278411865234,
           "trajectory": "Rabbits",
           "upper": 1.6712466537952422
          },
          {
           "lower": 0.4735117956995964,
           "time": 20.73747444152832,
           "trajectory": "Rabbits",
           "upper": 1.6674805879592896
          },
          {
           "lower": 0.485551755130291,
           "time": 20.835670471191406,
           "trajectory": "Rabbits",
           "upper": 1.6580154597759247
          },
          {
           "lower": 0.49863721430301666,
           "time": 20.933868408203125,
           "trajectory": "Rabbits",
           "upper": 1.6465700745582579
          },
          {
           "lower": 0.51282719373703,
           "time": 21.03206443786621,
           "trajectory": "Rabbits",
           "upper": 1.6579146325588225
          },
          {
           "lower": 0.5302152931690216,
           "time": 21.130260467529297,
           "trajectory": "Rabbits",
           "upper": 1.681108945608139
          },
          {
           "lower": 0.548772668838501,
           "time": 21.228456497192383,
           "trajectory": "Rabbits",
           "upper": 1.7017919838428497
          },
          {
           "lower": 0.5685295164585114,
           "time": 21.32665252685547,
           "trajectory": "Rabbits",
           "upper": 1.7162834405899046
          },
          {
           "lower": 0.5895175069570542,
           "time": 21.424850463867188,
           "trajectory": "Rabbits",
           "upper": 1.750265085697174
          },
          {
           "lower": 0.6117695927619934,
           "time": 21.523046493530273,
           "trajectory": "Rabbits",
           "upper": 1.7796592116355896
          },
          {
           "lower": 0.6353199332952499,
           "time": 21.62124252319336,
           "trajectory": "Rabbits",
           "upper": 1.8073849022388457
          },
          {
           "lower": 0.6602031528949738,
           "time": 21.719440460205078,
           "trajectory": "Rabbits",
           "upper": 1.8098789393901824
          },
          {
           "lower": 0.6864525496959687,
           "time": 21.817636489868164,
           "trajectory": "Rabbits",
           "upper": 1.7979984700679776
          },
          {
           "lower": 0.7141019701957703,
           "time": 21.91583251953125,
           "trajectory": "Rabbits",
           "upper": 1.8413004696369168
          },
          {
           "lower": 0.7431831270456314,
           "time": 22.014028549194336,
           "trajectory": "Rabbits",
           "upper": 1.8793084323406217
          },
          {
           "lower": 0.7737266510725022,
           "time": 22.112224578857422,
           "trajectory": "Rabbits",
           "upper": 1.9107930481433866
          },
          {
           "lower": 0.8055409729480744,
           "time": 22.210420608520508,
           "trajectory": "Rabbits",
           "upper": 1.9169816553592682
          },
          {
           "lower": 0.8251921176910401,
           "time": 22.308616638183594,
           "trajectory": "Rabbits",
           "upper": 1.9464172065258025
          },
          {
           "lower": 0.8253151297569274,
           "time": 22.40681266784668,
           "trajectory": "Rabbits",
           "upper": 1.9703969955444336
          },
          {
           "lower": 0.8099280536174774,
           "time": 22.5050106048584,
           "trajectory": "Rabbits",
           "upper": 1.9839801490306854
          },
          {
           "lower": 0.8038699805736542,
           "time": 22.603206634521484,
           "trajectory": "Rabbits",
           "upper": 1.988193392753601
          },
          {
           "lower": 0.7710606127977371,
           "time": 22.70140266418457,
           "trajectory": "Rabbits",
           "upper": 1.9942415654659271
          },
          {
           "lower": 0.7470197588205337,
           "time": 22.799598693847656,
           "trajectory": "Rabbits",
           "upper": 1.9898629844188689
          },
          {
           "lower": 0.7182540386915207,
           "time": 22.897794723510742,
           "trajectory": "Rabbits",
           "upper": 1.9742455959320067
          },
          {
           "lower": 0.6924134820699692,
           "time": 22.99599266052246,
           "trajectory": "Rabbits",
           "upper": 1.9520539820194243
          },
          {
           "lower": 0.6701061934232712,
           "time": 23.094188690185547,
           "trajectory": "Rabbits",
           "upper": 1.951135867834091
          },
          {
           "lower": 0.6516568928956985,
           "time": 23.192384719848633,
           "trajectory": "Rabbits",
           "upper": 1.945321691036224
          },
          {
           "lower": 0.641685864329338,
           "time": 23.29058265686035,
           "trajectory": "Rabbits",
           "upper": 1.9135046660900112
          },
          {
           "lower": 0.6342681467533111,
           "time": 23.388778686523438,
           "trajectory": "Rabbits",
           "upper": 1.8663897991180416
          },
          {
           "lower": 0.6220158934593201,
           "time": 23.486974716186523,
           "trajectory": "Rabbits",
           "upper": 1.8201657950878143
          },
          {
           "lower": 0.6110246002674102,
           "time": 23.58517074584961,
           "trajectory": "Rabbits",
           "upper": 1.7957899630069734
          },
          {
           "lower": 0.6024056732654571,
           "time": 23.683366775512695,
           "trajectory": "Rabbits",
           "upper": 1.7897957324981688
          },
          {
           "lower": 0.5948467195034027,
           "time": 23.78156280517578,
           "trajectory": "Rabbits",
           "upper": 1.80155633687973
          },
          {
           "lower": 0.5786105751991272,
           "time": 23.879758834838867,
           "trajectory": "Rabbits",
           "upper": 1.8087110340595243
          },
          {
           "lower": 0.5645324528217316,
           "time": 23.977954864501953,
           "trajectory": "Rabbits",
           "upper": 1.7801218628883362
          },
          {
           "lower": 0.5540674448013305,
           "time": 24.076152801513672,
           "trajectory": "Rabbits",
           "upper": 1.7751892149448394
          },
          {
           "lower": 0.5473203241825104,
           "time": 24.174348831176758,
           "trajectory": "Rabbits",
           "upper": 1.8003147721290587
          },
          {
           "lower": 0.5480239897966385,
           "time": 24.272544860839844,
           "trajectory": "Rabbits",
           "upper": 1.8223768889904022
          },
          {
           "lower": 0.54021315574646,
           "time": 24.37074089050293,
           "trajectory": "Rabbits",
           "upper": 1.8227047383785249
          },
          {
           "lower": 0.5324098408222199,
           "time": 24.468936920166016,
           "trajectory": "Rabbits",
           "upper": 1.8212045967578887
          },
          {
           "lower": 0.5270693153142929,
           "time": 24.567134857177734,
           "trajectory": "Rabbits",
           "upper": 1.8120733976364134
          },
          {
           "lower": 0.52107774913311,
           "time": 24.66533088684082,
           "trajectory": "Rabbits",
           "upper": 1.7703063786029813
          },
          {
           "lower": 0.5165954396128655,
           "time": 24.763526916503906,
           "trajectory": "Rabbits",
           "upper": 1.7401071548461913
          },
          {
           "lower": 0.5104622498154641,
           "time": 24.861724853515625,
           "trajectory": "Rabbits",
           "upper": 1.7071489214897153
          },
          {
           "lower": 0.5042807430028915,
           "time": 24.95992088317871,
           "trajectory": "Rabbits",
           "upper": 1.6857240855693814
          },
          {
           "lower": 0.4970978781580925,
           "time": 25.058116912841797,
           "trajectory": "Rabbits",
           "upper": 1.676756316423416
          },
          {
           "lower": 0.4849018916487694,
           "time": 25.156312942504883,
           "trajectory": "Rabbits",
           "upper": 1.6580952823162078
          },
          {
           "lower": 0.4760160893201828,
           "time": 25.25450897216797,
           "trajectory": "Rabbits",
           "upper": 1.6309352219104767
          },
          {
           "lower": 0.47461206316947935,
           "time": 25.352705001831055,
           "trajectory": "Rabbits",
           "upper": 1.565701252222061
          },
          {
           "lower": 0.4717500790953636,
           "time": 25.45090103149414,
           "trajectory": "Rabbits",
           "upper": 1.4927363455295564
          },
          {
           "lower": 0.4649355515837669,
           "time": 25.549097061157227,
           "trajectory": "Rabbits",
           "upper": 1.427871537208557
          },
          {
           "lower": 0.4553666740655899,
           "time": 25.647294998168945,
           "trajectory": "Rabbits",
           "upper": 1.3679876148700711
          },
          {
           "lower": 0.4450364723801613,
           "time": 25.74549102783203,
           "trajectory": "Rabbits",
           "upper": 1.303653812408447
          },
          {
           "lower": 0.4424390897154808,
           "time": 25.843687057495117,
           "trajectory": "Rabbits",
           "upper": 1.2363705337047572
          },
          {
           "lower": 0.44176057875156405,
           "time": 25.941883087158203,
           "trajectory": "Rabbits",
           "upper": 1.2129586338996885
          },
          {
           "lower": 0.44264096915721896,
           "time": 26.04007911682129,
           "trajectory": "Rabbits",
           "upper": 1.1858134746551512
          },
          {
           "lower": 0.444147065281868,
           "time": 26.138275146484375,
           "trajectory": "Rabbits",
           "upper": 1.1125576615333557
          },
          {
           "lower": 0.4409631475806236,
           "time": 26.23647117614746,
           "trajectory": "Rabbits",
           "upper": 1.0961318790912626
          },
          {
           "lower": 0.4385117799043655,
           "time": 26.334667205810547,
           "trajectory": "Rabbits",
           "upper": 1.0390619158744812
          },
          {
           "lower": 0.43313329964876174,
           "time": 26.432865142822266,
           "trajectory": "Rabbits",
           "upper": 1.0374710619449614
          },
          {
           "lower": 0.42651846557855605,
           "time": 26.53106117248535,
           "trajectory": "Rabbits",
           "upper": 1.078562933206558
          },
          {
           "lower": 0.42028400897979734,
           "time": 26.629257202148438,
           "trajectory": "Rabbits",
           "upper": 1.1212464570999146
          },
          {
           "lower": 0.41851030141115186,
           "time": 26.727453231811523,
           "trajectory": "Rabbits",
           "upper": 1.1654311060905456
          },
          {
           "lower": 0.413428770005703,
           "time": 26.82564926147461,
           "trajectory": "Rabbits",
           "upper": 1.2109955728054047
          },
          {
           "lower": 0.41161238849163057,
           "time": 26.923847198486328,
           "trajectory": "Rabbits",
           "upper": 1.2577878415584565
          },
          {
           "lower": 0.4150161102414131,
           "time": 27.022043228149414,
           "trajectory": "Rabbits",
           "upper": 1.3064170897006988
          },
          {
           "lower": 0.4207983836531639,
           "time": 27.1202392578125,
           "trajectory": "Rabbits",
           "upper": 1.3561907589435578
          },
          {
           "lower": 0.4277648523449898,
           "time": 27.21843719482422,
           "trajectory": "Rabbits",
           "upper": 1.4066593289375304
          },
          {
           "lower": 0.42866419106721876,
           "time": 27.316633224487305,
           "trajectory": "Rabbits",
           "upper": 1.4574932754039762
          },
          {
           "lower": 0.4253242269158363,
           "time": 27.41482925415039,
           "trajectory": "Rabbits",
           "upper": 1.5082980334758758
          },
          {
           "lower": 0.41685053110122683,
           "time": 27.513025283813477,
           "trajectory": "Rabbits",
           "upper": 1.5586107611656186
          },
          {
           "lower": 0.41453602015972135,
           "time": 27.611221313476562,
           "trajectory": "Rabbits",
           "upper": 1.6078900456428524
          },
          {
           "lower": 0.4145487532019615,
           "time": 27.70941925048828,
           "trajectory": "Rabbits",
           "upper": 1.6348855912685392
          },
          {
           "lower": 0.412854041159153,
           "time": 27.807615280151367,
           "trajectory": "Rabbits",
           "upper": 1.652022325992584
          },
          {
           "lower": 0.40423967093229296,
           "time": 27.905811309814453,
           "trajectory": "Rabbits",
           "upper": 1.6629717230796812
          },
          {
           "lower": 0.39665575325489044,
           "time": 28.004009246826172,
           "trajectory": "Rabbits",
           "upper": 1.6671080231666564
          },
          {
           "lower": 0.3907979890704155,
           "time": 28.102205276489258,
           "trajectory": "Rabbits",
           "upper": 1.6639088928699493
          },
          {
           "lower": 0.3935821086168289,
           "time": 28.200401306152344,
           "trajectory": "Rabbits",
           "upper": 1.6557608664035797
          },
          {
           "lower": 0.39856401085853577,
           "time": 28.29859733581543,
           "trajectory": "Rabbits",
           "upper": 1.639836424589157
          },
          {
           "lower": 0.404674831032753,
           "time": 28.396793365478516,
           "trajectory": "Rabbits",
           "upper": 1.629011660814285
          },
          {
           "lower": 0.41125942319631575,
           "time": 28.4949893951416,
           "trajectory": "Rabbits",
           "upper": 1.616130632162094
          },
          {
           "lower": 0.4133000984787941,
           "time": 28.593185424804688,
           "trajectory": "Rabbits",
           "upper": 1.6224951922893522
          },
          {
           "lower": 0.41600040942430494,
           "time": 28.691381454467773,
           "trajectory": "Rabbits",
           "upper": 1.604687875509262
          },
          {
           "lower": 0.419818215072155,
           "time": 28.789579391479492,
           "trajectory": "Rabbits",
           "upper": 1.5689333200454711
          },
          {
           "lower": 0.4247225522994995,
           "time": 28.887775421142578,
           "trajectory": "Rabbits",
           "upper": 1.605749088525772
          },
          {
           "lower": 0.43069083243608475,
           "time": 28.985971450805664,
           "trajectory": "Rabbits",
           "upper": 1.6541750848293302
          },
          {
           "lower": 0.4377057060599327,
           "time": 29.08416748046875,
           "trajectory": "Rabbits",
           "upper": 1.700001937150955
          },
          {
           "lower": 0.44575624018907545,
           "time": 29.182363510131836,
           "trajectory": "Rabbits",
           "upper": 1.732171511650085
          },
          {
           "lower": 0.4548378333449364,
           "time": 29.280561447143555,
           "trajectory": "Rabbits",
           "upper": 1.7420642554759977
          },
          {
           "lower": 0.4649491384625435,
           "time": 29.37875747680664,
           "trajectory": "Rabbits",
           "upper": 1.7516489982604981
          },
          {
           "lower": 0.47579763233661654,
           "time": 29.476953506469727,
           "trajectory": "Rabbits",
           "upper": 1.7386007368564604
          },
          {
           "lower": 0.4891229450702667,
           "time": 29.575151443481445,
           "trajectory": "Rabbits",
           "upper": 1.7452050268650054
          },
          {
           "lower": 0.5040813356637954,
           "time": 29.67334747314453,
           "trajectory": "Rabbits",
           "upper": 1.7711842000484466
          },
          {
           "lower": 0.5201665133237838,
           "time": 29.771543502807617,
           "trajectory": "Rabbits",
           "upper": 1.8023575127124785
          },
          {
           "lower": 0.5374025821685791,
           "time": 29.869739532470703,
           "trajectory": "Rabbits",
           "upper": 1.8451899886131284
          },
          {
           "lower": 0.5558172702789307,
           "time": 29.96793556213379,
           "trajectory": "Rabbits",
           "upper": 1.8826105952262877
          },
          {
           "lower": 0.5754400938749313,
           "time": 30.066131591796875,
           "trajectory": "Rabbits",
           "upper": 1.8895355403423308
          },
          {
           "lower": 0.5963023632764817,
           "time": 30.16432762145996,
           "trajectory": "Rabbits",
           "upper": 1.8820030152797698
          },
          {
           "lower": 0.6184376865625382,
           "time": 30.262523651123047,
           "trajectory": "Rabbits",
           "upper": 1.9074315130710602
          },
          {
           "lower": 0.6331823855638504,
           "time": 30.360721588134766,
           "trajectory": "Rabbits",
           "upper": 1.9259164452552795
          },
          {
           "lower": 0.6396550983190536,
           "time": 30.45891761779785,
           "trajectory": "Rabbits",
           "upper": 1.9575332403182983
          },
          {
           "lower": 0.6352047085762024,
           "time": 30.557113647460938,
           "trajectory": "Rabbits",
           "upper": 1.9521862268447876
          },
          {
           "lower": 0.6227093160152435,
           "time": 30.655309677124023,
           "trajectory": "Rabbits",
           "upper": 1.9816403448581696
          },
          {
           "lower": 0.6086790233850479,
           "time": 30.75350570678711,
           "trajectory": "Rabbits",
           "upper": 1.9924682796001434
          },
          {
           "lower": 0.600580582022667,
           "time": 30.851703643798828,
           "trajectory": "Rabbits",
           "upper": 1.9912116348743438
          },
          {
           "lower": 0.6105746477842331,
           "time": 30.949899673461914,
           "trajectory": "Rabbits",
           "upper": 1.9789631009101867
          },
          {
           "lower": 0.6185706049203873,
           "time": 31.048095703125,
           "trajectory": "Rabbits",
           "upper": 1.9551160156726834
          },
          {
           "lower": 0.6101013958454132,
           "time": 31.14629364013672,
           "trajectory": "Rabbits",
           "upper": 1.9200285851955412
          },
          {
           "lower": 0.6034355491399765,
           "time": 31.244489669799805,
           "trajectory": "Rabbits",
           "upper": 1.9168525636196136
          },
          {
           "lower": 0.5982402086257934,
           "time": 31.34268569946289,
           "trajectory": "Rabbits",
           "upper": 1.91293408870697
          },
          {
           "lower": 0.5867925018072129,
           "time": 31.440881729125977,
           "trajectory": "Rabbits",
           "upper": 1.9078599810600276
          },
          {
           "lower": 0.5724489957094192,
           "time": 31.539077758789062,
           "trajectory": "Rabbits",
           "upper": 1.8693072557449337
          },
          {
           "lower": 0.5638573288917541,
           "time": 31.63727378845215,
           "trajectory": "Rabbits",
           "upper": 1.8201348185539243
          },
          {
           "lower": 0.5624638974666596,
           "time": 31.735469818115234,
           "trajectory": "Rabbits",
           "upper": 1.7697234213352202
          },
          {
           "lower": 0.5507203966379166,
           "time": 31.83366584777832,
           "trajectory": "Rabbits",
           "upper": 1.7301194071769714
          },
          {
           "lower": 0.5544991075992585,
           "time": 31.93186378479004,
           "trajectory": "Rabbits",
           "upper": 1.7313940346240997
          },
          {
           "lower": 0.560020101070404,
           "time": 32.030059814453125,
           "trajectory": "Rabbits",
           "upper": 1.7541727066040038
          },
          {
           "lower": 0.554255124926567,
           "time": 32.12825393676758,
           "trajectory": "Rabbits",
           "upper": 1.7718619644641875
          },
          {
           "lower": 0.5480907291173935,
           "time": 32.2264518737793,
           "trajectory": "Rabbits",
           "upper": 1.7652491748332975
          },
          {
           "lower": 0.5356627881526947,
           "time": 32.324649810791016,
           "trajectory": "Rabbits",
           "upper": 1.7113009810447692
          },
          {
           "lower": 0.5229950040578842,
           "time": 32.42284393310547,
           "trajectory": "Rabbits",
           "upper": 1.7353079974651335
          },
          {
           "lower": 0.5182398110628128,
           "time": 32.52104187011719,
           "trajectory": "Rabbits",
           "upper": 1.756126809120178
          },
          {
           "lower": 0.5166056036949158,
           "time": 32.61923599243164,
           "trajectory": "Rabbits",
           "upper": 1.769816994667053
          },
          {
           "lower": 0.5164867341518402,
           "time": 32.71743392944336,
           "trajectory": "Rabbits",
           "upper": 1.7754958629608153
          },
          {
           "lower": 0.515685823559761,
           "time": 32.81562805175781,
           "trajectory": "Rabbits",
           "upper": 1.7829261362552642
          },
          {
           "lower": 0.5072418957948684,
           "time": 32.91382598876953,
           "trajectory": "Rabbits",
           "upper": 1.7994502186775208
          },
          {
           "lower": 0.4941129207611084,
           "time": 33.01202392578125,
           "trajectory": "Rabbits",
           "upper": 1.8093173563480378
          },
          {
           "lower": 0.4832419604063034,
           "time": 33.1102180480957,
           "trajectory": "Rabbits",
           "upper": 1.814925742149353
          },
          {
           "lower": 0.47836018800735475,
           "time": 33.20841598510742,
           "trajectory": "Rabbits",
           "upper": 1.7878687262535093
          },
          {
           "lower": 0.4781149536371231,
           "time": 33.30661392211914,
           "trajectory": "Rabbits",
           "upper": 1.742596834897995
          },
          {
           "lower": 0.47555607110261916,
           "time": 33.404808044433594,
           "trajectory": "Rabbits",
           "upper": 1.721788442134857
          },
          {
           "lower": 0.46873447448015215,
           "time": 33.50300598144531,
           "trajectory": "Rabbits",
           "upper": 1.6993482708930967
          },
          {
           "lower": 0.4732772186398506,
           "time": 33.601200103759766,
           "trajectory": "Rabbits",
           "upper": 1.6743481099605557
          },
          {
           "lower": 0.468516506254673,
           "time": 33.699398040771484,
           "trajectory": "Rabbits",
           "upper": 1.673043769598007
          },
          {
           "lower": 0.4522621363401413,
           "time": 33.7975959777832,
           "trajectory": "Rabbits",
           "upper": 1.662751567363739
          },
          {
           "lower": 0.4430853143334389,
           "time": 33.895790100097656,
           "trajectory": "Rabbits",
           "upper": 1.64410360455513
          },
          {
           "lower": 0.4432558551430702,
           "time": 33.993988037109375,
           "trajectory": "Rabbits",
           "upper": 1.5930341601371765
          },
          {
           "lower": 0.445137058198452,
           "time": 34.092185974121094,
           "trajectory": "Rabbits",
           "upper": 1.5551829457283017
          },
          {
           "lower": 0.4464197546243668,
           "time": 34.19038009643555,
           "trajectory": "Rabbits",
           "upper": 1.5624677062034602
          },
          {
           "lower": 0.4474971190094948,
           "time": 34.288578033447266,
           "trajectory": "Rabbits",
           "upper": 1.5318945050239559
          },
          {
           "lower": 0.4469641879200935,
           "time": 34.38677215576172,
           "trajectory": "Rabbits",
           "upper": 1.5298158288002013
          },
          {
           "lower": 0.44488638937473296,
           "time": 34.48497009277344,
           "trajectory": "Rabbits",
           "upper": 1.4993150174617766
          },
          {
           "lower": 0.4385147958993912,
           "time": 34.583168029785156,
           "trajectory": "Rabbits",
           "upper": 1.429887247085571
          },
          {
           "lower": 0.4331304594874382,
           "time": 34.68136215209961,
           "trajectory": "Rabbits",
           "upper": 1.4057254314422607
          },
          {
           "lower": 0.42956598550081254,
           "time": 34.77956008911133,
           "trajectory": "Rabbits",
           "upper": 1.4403165519237517
          },
          {
           "lower": 0.4253564924001694,
           "time": 34.87775802612305,
           "trajectory": "Rabbits",
           "upper": 1.4883637964725493
          },
          {
           "lower": 0.4244931101799011,
           "time": 34.9759521484375,
           "trajectory": "Rabbits",
           "upper": 1.5368669986724852
          },
          {
           "lower": 0.4283281609416008,
           "time": 35.07415008544922,
           "trajectory": "Rabbits",
           "upper": 1.5852935135364532
          },
          {
           "lower": 0.42513045519590376,
           "time": 35.17234420776367,
           "trajectory": "Rabbits",
           "upper": 1.632164007425308
          },
          {
           "lower": 0.4200458973646164,
           "time": 35.27054214477539,
           "trajectory": "Rabbits",
           "upper": 1.6576512217521666
          },
          {
           "lower": 0.42672457695007326,
           "time": 35.36874008178711,
           "trajectory": "Rabbits",
           "upper": 1.6621334195137023
          },
          {
           "lower": 0.4345822066068649,
           "time": 35.46693420410156,
           "trajectory": "Rabbits",
           "upper": 1.6594287574291229
          },
          {
           "lower": 0.4436092182993889,
           "time": 35.56513214111328,
           "trajectory": "Rabbits",
           "upper": 1.6523966014385223
          },
          {
           "lower": 0.45380297005176545,
           "time": 35.663330078125,
           "trajectory": "Rabbits",
           "upper": 1.6378264129161832
          },
          {
           "lower": 0.4610008031129837,
           "time": 35.76152420043945,
           "trajectory": "Rabbits",
           "upper": 1.6328679680824278
          },
          {
           "lower": 0.4575705140829086,
           "time": 35.85972213745117,
           "trajectory": "Rabbits",
           "upper": 1.6230205595493314
          },
          {
           "lower": 0.4455138087272644,
           "time": 35.957916259765625,
           "trajectory": "Rabbits",
           "upper": 1.6049207866191864
          },
          {
           "lower": 0.43511883020401,
           "time": 36.056114196777344,
           "trajectory": "Rabbits",
           "upper": 1.578563404083252
          },
          {
           "lower": 0.42818028330802915,
           "time": 36.15431213378906,
           "trajectory": "Rabbits",
           "upper": 1.560998100042343
          },
          {
           "lower": 0.42777920365333555,
           "time": 36.252506256103516,
           "trajectory": "Rabbits",
           "upper": 1.503386640548706
          },
          {
           "lower": 0.42754523903131486,
           "time": 36.35070037841797,
           "trajectory": "Rabbits",
           "upper": 1.480780619382858
          },
          {
           "lower": 0.4262489452958107,
           "time": 36.44889831542969,
           "trajectory": "Rabbits",
           "upper": 1.5112244009971618
          },
          {
           "lower": 0.4160794273018837,
           "time": 36.54709243774414,
           "trajectory": "Rabbits",
           "upper": 1.5504247188568114
          },
          {
           "lower": 0.4073982730507851,
           "time": 36.64529037475586,
           "trajectory": "Rabbits",
           "upper": 1.5913909077644346
          },
          {
           "lower": 0.4004003912210464,
           "time": 36.74348449707031,
           "trajectory": "Rabbits",
           "upper": 1.6403545439243314
          },
          {
           "lower": 0.4014432460069656,
           "time": 36.84168243408203,
           "trajectory": "Rabbits",
           "upper": 1.6869548618793484
          },
          {
           "lower": 0.406353235244751,
           "time": 36.93988037109375,
           "trajectory": "Rabbits",
           "upper": 1.7125972688198088
          },
          {
           "lower": 0.4120946392416954,
           "time": 37.0380744934082,
           "trajectory": "Rabbits",
           "upper": 1.6813135623931883
          },
          {
           "lower": 0.41201861947774887,
           "time": 37.13627243041992,
           "trajectory": "Rabbits",
           "upper": 1.695450896024704
          },
          {
           "lower": 0.4131871834397316,
           "time": 37.23447036743164,
           "trajectory": "Rabbits",
           "upper": 1.704049777984619
          },
          {
           "lower": 0.4150891095399857,
           "time": 37.332664489746094,
           "trajectory": "Rabbits",
           "upper": 1.7009122908115384
          },
          {
           "lower": 0.4178817912936211,
           "time": 37.43086242675781,
           "trajectory": "Rabbits",
           "upper": 1.725430756807327
          },
          {
           "lower": 0.42179676443338393,
           "time": 37.529056549072266,
           "trajectory": "Rabbits",
           "upper": 1.7459316432476044
          },
          {
           "lower": 0.4268047958612442,
           "time": 37.627254486083984,
           "trajectory": "Rabbits",
           "upper": 1.76577513217926
          },
          {
           "lower": 0.4328827723860741,
           "time": 37.7254524230957,
           "trajectory": "Rabbits",
           "upper": 1.8066574811935423
          },
          {
           "lower": 0.4390408143401146,
           "time": 37.823646545410156,
           "trajectory": "Rabbits",
           "upper": 1.8490019261837003
          },
          {
           "lower": 0.4459463968873024,
           "time": 37.921844482421875,
           "trajectory": "Rabbits",
           "upper": 1.8599211990833282
          },
          {
           "lower": 0.4538986936211586,
           "time": 38.020042419433594,
           "trajectory": "Rabbits",
           "upper": 1.8497736155986784
          },
          {
           "lower": 0.4651094362139702,
           "time": 38.11823654174805,
           "trajectory": "Rabbits",
           "upper": 1.8601066946983336
          },
          {
           "lower": 0.4780843734741211,
           "time": 38.216434478759766,
           "trajectory": "Rabbits",
           "upper": 1.8876757025718687
          },
          {
           "lower": 0.492148357629776,
           "time": 38.31462860107422,
           "trajectory": "Rabbits",
           "upper": 1.9079487442970275
          },
          {
           "lower": 0.5073222741484642,
           "time": 38.41282653808594,
           "trajectory": "Rabbits",
           "upper": 1.9209326088428498
          },
          {
           "lower": 0.5236279129981994,
           "time": 38.511024475097656,
           "trajectory": "Rabbits",
           "upper": 1.9155714392662049
          },
          {
           "lower": 0.5333443999290466,
           "time": 38.60921859741211,
           "trajectory": "Rabbits",
           "upper": 1.9256284475326537
          },
          {
           "lower": 0.5407276719808578,
           "time": 38.70741271972656,
           "trajectory": "Rabbits",
           "upper": 1.9541174590587616
          },
          {
           "lower": 0.5475086867809296,
           "time": 38.80561065673828,
           "trajectory": "Rabbits",
           "upper": 1.978466236591339
          },
          {
           "lower": 0.5465062320232391,
           "time": 38.903804779052734,
           "trajectory": "Rabbits",
           "upper": 1.9914168894290922
          },
          {
           "lower": 0.5525976806879044,
           "time": 39.00200271606445,
           "trajectory": "Rabbits",
           "upper": 1.9824489414691924
          },
          {
           "lower": 0.5636728644371033,
           "time": 39.100196838378906,
           "trajectory": "Rabbits",
           "upper": 1.9620773255825041
          },
          {
           "lower": 0.5675195813179016,
           "time": 39.198394775390625,
           "trajectory": "Rabbits",
           "upper": 1.929941552877426
          },
          {
           "lower": 0.5573868989944458,
           "time": 39.296592712402344,
           "trajectory": "Rabbits",
           "upper": 1.8860995233058926
          },
          {
           "lower": 0.5549980401992798,
           "time": 39.3947868347168,
           "trajectory": "Rabbits",
           "upper": 1.8778917074203492
          },
          {
           "lower": 0.5580355763435364,
           "time": 39.492984771728516,
           "trajectory": "Rabbits",
           "upper": 1.8730241835117338
          },
          {
           "lower": 0.5666703373193741,
           "time": 39.591182708740234,
           "trajectory": "Rabbits",
           "upper": 1.8939713478088376
          },
          {
           "lower": 0.5745903313159942,
           "time": 39.68937683105469,
           "trajectory": "Rabbits",
           "upper": 1.8707408785820006
          },
          {
           "lower": 0.5794445455074311,
           "time": 39.787574768066406,
           "trajectory": "Rabbits",
           "upper": 1.8239542603492735
          },
          {
           "lower": 0.5653527587652206,
           "time": 39.88576889038086,
           "trajectory": "Rabbits",
           "upper": 1.7833893656730653
          },
          {
           "lower": 0.5516872137784958,
           "time": 39.98396682739258,
           "trajectory": "Rabbits",
           "upper": 1.7533719480037688
          },
          {
           "lower": 0.5397428452968598,
           "time": 40.0821647644043,
           "trajectory": "Rabbits",
           "upper": 1.697965383529663
          },
          {
           "lower": 0.5263006567955018,
           "time": 40.18035888671875,
           "trajectory": "Rabbits",
           "upper": 1.6832296729087828
          },
          {
           "lower": 0.5212005943059921,
           "time": 40.27855682373047,
           "trajectory": "Rabbits",
           "upper": 1.65513117313385
          },
          {
           "lower": 0.5204062521457672,
           "time": 40.37675476074219,
           "trajectory": "Rabbits",
           "upper": 1.6790795803070069
          },
          {
           "lower": 0.5212742745876312,
           "time": 40.47494888305664,
           "trajectory": "Rabbits",
           "upper": 1.7225245833396912
          },
          {
           "lower": 0.5229991644620895,
           "time": 40.57314682006836,
           "trajectory": "Rabbits",
           "upper": 1.730085062980652
          },
          {
           "lower": 0.522838044166565,
           "time": 40.67134094238281,
           "trajectory": "Rabbits",
           "upper": 1.694386202096939
          },
          {
           "lower": 0.5160812020301819,
           "time": 40.76953887939453,
           "trajectory": "Rabbits",
           "upper": 1.6922270357608795
          },
          {
           "lower": 0.5036900967359543,
           "time": 40.86773681640625,
           "trajectory": "Rabbits",
           "upper": 1.7067781984806059
          },
          {
           "lower": 0.49137296676635744,
           "time": 40.9659309387207,
           "trajectory": "Rabbits",
           "upper": 1.730581349134445
          },
          {
           "lower": 0.48303412944078444,
           "time": 41.06412887573242,
           "trajectory": "Rabbits",
           "upper": 1.7478553891181945
          },
          {
           "lower": 0.48240396082401277,
           "time": 41.16232681274414,
           "trajectory": "Rabbits",
           "upper": 1.7600879192352294
          },
          {
           "lower": 0.478350593149662,
           "time": 41.260520935058594,
           "trajectory": "Rabbits",
           "upper": 1.764333701133728
          },
          {
           "lower": 0.4821579858660698,
           "time": 41.35871887207031,
           "trajectory": "Rabbits",
           "upper": 1.7599210083484647
          },
          {
           "lower": 0.47911573350429537,
           "time": 41.456912994384766,
           "trajectory": "Rabbits",
           "upper": 1.776980400085449
          },
          {
           "lower": 0.4739988923072815,
           "time": 41.555110931396484,
           "trajectory": "Rabbits",
           "upper": 1.786699366569519
          },
          {
           "lower": 0.4728016659617424,
           "time": 41.6533088684082,
           "trajectory": "Rabbits",
           "upper": 1.785502678155899
          },
          {
           "lower": 0.47174362689256666,
           "time": 41.751502990722656,
           "trajectory": "Rabbits",
           "upper": 1.7991522669792175
          },
          {
           "lower": 0.46309907287359237,
           "time": 41.849700927734375,
           "trajectory": "Rabbits",
           "upper": 1.7694347620010376
          },
          {
           "lower": 0.44931227415800096,
           "time": 41.947898864746094,
           "trajectory": "Rabbits",
           "upper": 1.780850529670715
          },
          {
           "lower": 0.44567641615867615,
           "time": 42.04609298706055,
           "trajectory": "Rabbits",
           "upper": 1.8043862819671628
          },
          {
           "lower": 0.44674141258001326,
           "time": 42.144290924072266,
           "trajectory": "Rabbits",
           "upper": 1.800585466623306
          },
          {
           "lower": 0.44667655378580096,
           "time": 42.24248504638672,
           "trajectory": "Rabbits",
           "upper": 1.7862511932849883
          },
          {
           "lower": 0.4480611220002174,
           "time": 42.34068298339844,
           "trajectory": "Rabbits",
           "upper": 1.7608599722385405
          },
          {
           "lower": 0.4508348643779755,
           "time": 42.438880920410156,
           "trajectory": "Rabbits",
           "upper": 1.724252951145172
          },
          {
           "lower": 0.45494675934314727,
           "time": 42.53707504272461,
           "trajectory": "Rabbits",
           "upper": 1.6898755848407745
          },
          {
           "lower": 0.45285946875810623,
           "time": 42.63526916503906,
           "trajectory": "Rabbits",
           "upper": 1.6663192331790924
          },
          {
           "lower": 0.44594485461711886,
           "time": 42.73346710205078,
           "trajectory": "Rabbits",
           "upper": 1.6706449449062346
          },
          {
           "lower": 0.4385737970471382,
           "time": 42.831661224365234,
           "trajectory": "Rabbits",
           "upper": 1.69396036863327
          },
          {
           "lower": 0.43317885547876356,
           "time": 42.92985916137695,
           "trajectory": "Rabbits",
           "upper": 1.701903975009918
          },
          {
           "lower": 0.42960587739944456,
           "time": 43.028053283691406,
           "trajectory": "Rabbits",
           "upper": 1.6650055527687073
          },
          {
           "lower": 0.4296691849827766,
           "time": 43.126251220703125,
           "trajectory": "Rabbits",
           "upper": 1.634255015850067
          },
          {
           "lower": 0.4290746435523033,
           "time": 43.224449157714844,
           "trajectory": "Rabbits",
           "upper": 1.6288334131240843
          },
          {
           "lower": 0.4286207392811775,
           "time": 43.3226432800293,
           "trajectory": "Rabbits",
           "upper": 1.6152874886989592
          },
          {
           "lower": 0.4312332525849342,
           "time": 43.420841217041016,
           "trajectory": "Rabbits",
           "upper": 1.5934741914272308
          },
          {
           "lower": 0.43520423769950867,
           "time": 43.519039154052734,
           "trajectory": "Rabbits",
           "upper": 1.563509178161621
          },
          {
           "lower": 0.4337076425552368,
           "time": 43.61723327636719,
           "trajectory": "Rabbits",
           "upper": 1.5209748685359954
          },
          {
           "lower": 0.44245827943086624,
           "time": 43.715431213378906,
           "trajectory": "Rabbits",
           "upper": 1.483392971754074
          },
          {
           "lower": 0.45230783224105836,
           "time": 43.81362533569336,
           "trajectory": "Rabbits",
           "upper": 1.4413735747337342
          },
          {
           "lower": 0.4630254492163658,
           "time": 43.91182327270508,
           "trajectory": "Rabbits",
           "upper": 1.4341596007347106
          },
          {
           "lower": 0.47416217923164367,
           "time": 44.0100212097168,
           "trajectory": "Rabbits",
           "upper": 1.4368768870830533
          },
          {
           "lower": 0.47718397676944735,
           "time": 44.10821533203125,
           "trajectory": "Rabbits",
           "upper": 1.4758596479892727
          },
          {
           "lower": 0.47828148752450944,
           "time": 44.20641326904297,
           "trajectory": "Rabbits",
           "upper": 1.5129901826381682
          },
          {
           "lower": 0.4808869779109955,
           "time": 44.30461120605469,
           "trajectory": "Rabbits",
           "upper": 1.5477491676807402
          },
          {
           "lower": 0.4719135418534279,
           "time": 44.40280532836914,
           "trajectory": "Rabbits",
           "upper": 1.582797646522522
          },
          {
           "lower": 0.4590594068169594,
           "time": 44.50100326538086,
           "trajectory": "Rabbits",
           "upper": 1.6263654887676238
          },
          {
           "lower": 0.44851022213697433,
           "time": 44.59919738769531,
           "trajectory": "Rabbits",
           "upper": 1.6408966422080993
          },
          {
           "lower": 0.44312494844198225,
           "time": 44.69739532470703,
           "trajectory": "Rabbits",
           "upper": 1.633244502544403
          },
          {
           "lower": 0.443962661921978,
           "time": 44.79559326171875,
           "trajectory": "Rabbits",
           "upper": 1.6598603188991543
          },
          {
           "lower": 0.43872047662734986,
           "time": 44.8937873840332,
           "trajectory": "Rabbits",
           "upper": 1.6537000775337218
          },
          {
           "lower": 0.4330864563584328,
           "time": 44.99198532104492,
           "trajectory": "Rabbits",
           "upper": 1.6327678859233856
          },
          {
           "lower": 0.4272132471203804,
           "time": 45.09018325805664,
           "trajectory": "Rabbits",
           "upper": 1.6633822619915006
          },
          {
           "lower": 0.4229541838169098,
           "time": 45.188377380371094,
           "trajectory": "Rabbits",
           "upper": 1.68935130238533
          },
          {
           "lower": 0.42015309184789656,
           "time": 45.28657531738281,
           "trajectory": "Rabbits",
           "upper": 1.7020507633686062
          },
          {
           "lower": 0.4154145985841751,
           "time": 45.384769439697266,
           "trajectory": "Rabbits",
           "upper": 1.719242763519287
          },
          {
           "lower": 0.41348221302032473,
           "time": 45.482967376708984,
           "trajectory": "Rabbits",
           "upper": 1.7336568772792815
          },
          {
           "lower": 0.4150035724043846,
           "time": 45.5811653137207,
           "trajectory": "Rabbits",
           "upper": 1.764562529325485
          },
          {
           "lower": 0.4149696618318558,
           "time": 45.679359436035156,
           "trajectory": "Rabbits",
           "upper": 1.8108898639678952
          },
          {
           "lower": 0.41395452320575715,
           "time": 45.77755355834961,
           "trajectory": "Rabbits",
           "upper": 1.824523389339447
          },
          {
           "lower": 0.4140619054436684,
           "time": 45.87575149536133,
           "trajectory": "Rabbits",
           "upper": 1.813973444700241
          },
          {
           "lower": 0.41541619300842286,
           "time": 45.97394561767578,
           "trajectory": "Rabbits",
           "upper": 1.8230098664760586
          },
          {
           "lower": 0.4171424895524979,
           "time": 46.0721435546875,
           "trajectory": "Rabbits",
           "upper": 1.8459568142890928
          },
          {
           "lower": 0.42002087384462355,
           "time": 46.17033767700195,
           "trajectory": "Rabbits",
           "upper": 1.8654019176959988
          },
          {
           "lower": 0.42402760237455367,
           "time": 46.26853561401367,
           "trajectory": "Rabbits",
           "upper": 1.8877334773540495
          },
          {
           "lower": 0.42738759964704515,
           "time": 46.36673355102539,
           "trajectory": "Rabbits",
           "upper": 1.902269196510315
          },
          {
           "lower": 0.4318558230996132,
           "time": 46.464927673339844,
           "trajectory": "Rabbits",
           "upper": 1.8940174400806427
          },
          {
           "lower": 0.43740634620189667,
           "time": 46.56312561035156,
           "trajectory": "Rabbits",
           "upper": 1.8821656048297881
          },
          {
           "lower": 0.4447771281003952,
           "time": 46.66132354736328,
           "trajectory": "Rabbits",
           "upper": 1.882305562496185
          },
          {
           "lower": 0.4558165818452835,
           "time": 46.759517669677734,
           "trajectory": "Rabbits",
           "upper": 1.9225153148174283
          },
          {
           "lower": 0.4679217264056206,
           "time": 46.85771560668945,
           "trajectory": "Rabbits",
           "upper": 1.9554853141307829
          },
          {
           "lower": 0.48110533952713014,
           "time": 46.955909729003906,
           "trajectory": "Rabbits",
           "upper": 1.9698303520679474
          },
          {
           "lower": 0.49538414031267164,
           "time": 47.054107666015625,
           "trajectory": "Rabbits",
           "upper": 1.9792747676372526
          },
          {
           "lower": 0.5080586045980453,
           "time": 47.152305603027344,
           "trajectory": "Rabbits",
           "upper": 1.967767035961151
          },
          {
           "lower": 0.5129945755004883,
           "time": 47.2504997253418,
           "trajectory": "Rabbits",
           "upper": 1.9391654551029203
          },
          {
           "lower": 0.5108693033456803,
           "time": 47.348697662353516,
           "trajectory": "Rabbits",
           "upper": 1.8988539218902585
          },
          {
           "lower": 0.4991100400686264,
           "time": 47.446895599365234,
           "trajectory": "Rabbits",
           "upper": 1.8478488326072688
          },
          {
           "lower": 0.5031557589769363,
           "time": 47.54508972167969,
           "trajectory": "Rabbits",
           "upper": 1.8340315818786619
          },
          {
           "lower": 0.5088341951370239,
           "time": 47.643287658691406,
           "trajectory": "Rabbits",
           "upper": 1.8401550590991973
          },
          {
           "lower": 0.5159552216529846,
           "time": 47.74148178100586,
           "trajectory": "Rabbits",
           "upper": 1.8687605321407317
          },
          {
           "lower": 0.5092094346880913,
           "time": 47.83967971801758,
           "trajectory": "Rabbits",
           "upper": 1.8707273721694944
          },
          {
           "lower": 0.5044783890247345,
           "time": 47.9378776550293,
           "trajectory": "Rabbits",
           "upper": 1.8262719750404357
          },
          {
           "lower": 0.5081981033086777,
           "time": 48.03607177734375,
           "trajectory": "Rabbits",
           "upper": 1.792725670337677
          },
          {
           "lower": 0.5200009018182754,
           "time": 48.13426971435547,
           "trajectory": "Rabbits",
           "upper": 1.774888491630554
          },
          {
           "lower": 0.5272310882806778,
           "time": 48.23246765136719,
           "trajectory": "Rabbits",
           "upper": 1.715480238199234
          },
          {
           "lower": 0.5269260108470917,
           "time": 48.33066177368164,
           "trajectory": "Rabbits",
           "upper": 1.6720775485038757
          },
          {
           "lower": 0.5233244180679322,
           "time": 48.42885971069336,
           "trajectory": "Rabbits",
           "upper": 1.6669860184192655
          },
          {
           "lower": 0.5214826852083206,
           "time": 48.52705383300781,
           "trajectory": "Rabbits",
           "upper": 1.630444073677063
          },
          {
           "lower": 0.5193063199520112,
           "time": 48.62525177001953,
           "trajectory": "Rabbits",
           "upper": 1.5780684947967527
          },
          {
           "lower": 0.5129514932632446,
           "time": 48.72344970703125,
           "trajectory": "Rabbits",
           "upper": 1.5786680579185486
          },
          {
           "lower": 0.500324958562851,
           "time": 48.8216438293457,
           "trajectory": "Rabbits",
           "upper": 1.6250803112983703
          },
          {
           "lower": 0.488868248462677,
           "time": 48.919837951660156,
           "trajectory": "Rabbits",
           "upper": 1.6607791423797607
          },
          {
           "lower": 0.486769101023674,
           "time": 49.018035888671875,
           "trajectory": "Rabbits",
           "upper": 1.6902902007102965
          },
          {
           "lower": 0.48539797216653824,
           "time": 49.11623001098633,
           "trajectory": "Rabbits",
           "upper": 1.6994019508361815
          },
          {
           "lower": 0.4866256728768349,
           "time": 49.21442794799805,
           "trajectory": "Rabbits",
           "upper": 1.7332690715789794
          },
          {
           "lower": 0.48455681949853896,
           "time": 49.3126220703125,
           "trajectory": "Rabbits",
           "upper": 1.7707481265068052
          },
          {
           "lower": 0.48429418802261354,
           "time": 49.41082000732422,
           "trajectory": "Rabbits",
           "upper": 1.792945963144302
          },
          {
           "lower": 0.4749647453427315,
           "time": 49.50901794433594,
           "trajectory": "Rabbits",
           "upper": 1.8070252597331997
          },
          {
           "lower": 0.4730565622448921,
           "time": 49.60721206665039,
           "trajectory": "Rabbits",
           "upper": 1.812970924377441
          },
          {
           "lower": 0.4718085706233978,
           "time": 49.70541000366211,
           "trajectory": "Rabbits",
           "upper": 1.8213407933712003
          },
          {
           "lower": 0.46968354731798173,
           "time": 49.80360794067383,
           "trajectory": "Rabbits",
           "upper": 1.830135244131088
          },
          {
           "lower": 0.46901567131280897,
           "time": 49.90180206298828,
           "trajectory": "Rabbits",
           "upper": 1.8315934181213378
          },
          {
           "lower": 0.45796349793672564,
           "time": 50,
           "trajectory": "Rabbits",
           "upper": 1.8251835584640501
          },
          {
           "lower": 0.6978829830884934,
           "time": 1,
           "trajectory": "Wolves",
           "upper": 0.8785625755786896
          },
          {
           "lower": 0.6641233384609222,
           "time": 1.0981963872909546,
           "trajectory": "Wolves",
           "upper": 0.8490899831056594
          },
          {
           "lower": 0.6312833309173584,
           "time": 1.1963927745819092,
           "trajectory": "Wolves",
           "upper": 0.8187080174684525
          },
          {
           "lower": 0.5993284106254577,
           "time": 1.2945891618728638,
           "trajectory": "Wolves",
           "upper": 0.7882281363010406
          },
          {
           "lower": 0.5684530228376389,
           "time": 1.3927855491638184,
           "trajectory": "Wolves",
           "upper": 0.7585157841444015
          },
          {
           "lower": 0.5389212429523468,
           "time": 1.490981936454773,
           "trajectory": "Wolves",
           "upper": 0.728909558057785
          },
          {
           "lower": 0.508569210767746,
           "time": 1.5891783237457275,
           "trajectory": "Wolves",
           "upper": 0.699645733833313
          },
          {
           "lower": 0.47970481812953947,
           "time": 1.6873748302459717,
           "trajectory": "Wolves",
           "upper": 0.6709146112203598
          },
          {
           "lower": 0.4523730292916298,
           "time": 1.7855710983276367,
           "trajectory": "Wolves",
           "upper": 0.6427964657545089
          },
          {
           "lower": 0.4274070724844933,
           "time": 1.8837674856185913,
           "trajectory": "Wolves",
           "upper": 0.6151410669088363
          },
          {
           "lower": 0.4040606811642647,
           "time": 1.981963872909546,
           "trajectory": "Wolves",
           "upper": 0.5883755654096603
          },
          {
           "lower": 0.38189286440610887,
           "time": 2.08016037940979,
           "trajectory": "Wolves",
           "upper": 0.5625755846500397
          },
          {
           "lower": 0.3611419662833214,
           "time": 2.178356647491455,
           "trajectory": "Wolves",
           "upper": 0.5377932578325272
          },
          {
           "lower": 0.3418260633945465,
           "time": 2.276553153991699,
           "trajectory": "Wolves",
           "upper": 0.5140648692846298
          },
          {
           "lower": 0.32434320002794265,
           "time": 2.3747494220733643,
           "trajectory": "Wolves",
           "upper": 0.4914118558168411
          },
          {
           "lower": 0.308052234351635,
           "time": 2.4729459285736084,
           "trajectory": "Wolves",
           "upper": 0.46984291523694993
          },
          {
           "lower": 0.292301145195961,
           "time": 2.5711421966552734,
           "trajectory": "Wolves",
           "upper": 0.44935783445835115
          },
          {
           "lower": 0.2778008684515953,
           "time": 2.6693387031555176,
           "trajectory": "Wolves",
           "upper": 0.4301173686981201
          },
          {
           "lower": 0.26438556164503096,
           "time": 2.7675349712371826,
           "trajectory": "Wolves",
           "upper": 0.4124217718839645
          },
          {
           "lower": 0.2520015753805637,
           "time": 2.8657314777374268,
           "trajectory": "Wolves",
           "upper": 0.3966095671057701
          },
          {
           "lower": 0.2405976265668869,
           "time": 2.963927745819092,
           "trajectory": "Wolves",
           "upper": 0.3818202704191208
          },
          {
           "lower": 0.23012515902519226,
           "time": 3.062124252319336,
           "trajectory": "Wolves",
           "upper": 0.36814202964305875
          },
          {
           "lower": 0.2205386035144329,
           "time": 3.160320520401001,
           "trajectory": "Wolves",
           "upper": 0.355433976650238
          },
          {
           "lower": 0.2117955356836319,
           "time": 3.258517026901245,
           "trajectory": "Wolves",
           "upper": 0.3443806380033493
          },
          {
           "lower": 0.20385783836245536,
           "time": 3.3567135334014893,
           "trajectory": "Wolves",
           "upper": 0.3340659737586975
          },
          {
           "lower": 0.19668957069516183,
           "time": 3.4549100399017334,
           "trajectory": "Wolves",
           "upper": 0.3246395543217659
          },
          {
           "lower": 0.19026003256440163,
           "time": 3.5531063079833984,
           "trajectory": "Wolves",
           "upper": 0.31551031321287154
          },
          {
           "lower": 0.1845422215759754,
           "time": 3.6513028144836426,
           "trajectory": "Wolves",
           "upper": 0.30778101086616516
          },
          {
           "lower": 0.17951351404190063,
           "time": 3.7494990825653076,
           "trajectory": "Wolves",
           "upper": 0.3014834031462669
          },
          {
           "lower": 0.17515575438737868,
           "time": 3.8476955890655518,
           "trajectory": "Wolves",
           "upper": 0.2960398867726326
          },
          {
           "lower": 0.17145556807518006,
           "time": 3.945891857147217,
           "trajectory": "Wolves",
           "upper": 0.29144793599843977
          },
          {
           "lower": 0.1682551011443138,
           "time": 4.044088363647461,
           "trajectory": "Wolves",
           "upper": 0.2877653166651726
          },
          {
           "lower": 0.16566150188446044,
           "time": 4.142284393310547,
           "trajectory": "Wolves",
           "upper": 0.28693538904190063
          },
          {
           "lower": 0.16270144805312156,
           "time": 4.240480899810791,
           "trajectory": "Wolves",
           "upper": 0.2872831955552101
          },
          {
           "lower": 0.15977166518568992,
           "time": 4.338677406311035,
           "trajectory": "Wolves",
           "upper": 0.2855072125792503
          },
          {
           "lower": 0.15745530575513839,
           "time": 4.436873435974121,
           "trajectory": "Wolves",
           "upper": 0.28406711816787716
          },
          {
           "lower": 0.15635407567024232,
           "time": 4.535069942474365,
           "trajectory": "Wolves",
           "upper": 0.28420774787664416
          },
          {
           "lower": 0.1553159050643444,
           "time": 4.633266448974609,
           "trajectory": "Wolves",
           "upper": 0.2906181916594505
          },
          {
           "lower": 0.15418352782726288,
           "time": 4.7314629554748535,
           "trajectory": "Wolves",
           "upper": 0.2981049165129661
          },
          {
           "lower": 0.15248012393712998,
           "time": 4.8296589851379395,
           "trajectory": "Wolves",
           "upper": 0.30431753545999524
          },
          {
           "lower": 0.1513179808855057,
           "time": 4.927855491638184,
           "trajectory": "Wolves",
           "upper": 0.31276321113109584
          },
          {
           "lower": 0.150708919018507,
           "time": 5.026051998138428,
           "trajectory": "Wolves",
           "upper": 0.3227651119232177
          },
          {
           "lower": 0.15067099034786224,
           "time": 5.124248504638672,
           "trajectory": "Wolves",
           "upper": 0.33444448262453075
          },
          {
           "lower": 0.15122820064425468,
           "time": 5.222444534301758,
           "trajectory": "Wolves",
           "upper": 0.3479314237833023
          },
          {
           "lower": 0.1519061431288719,
           "time": 5.320641040802002,
           "trajectory": "Wolves",
           "upper": 0.3636187583208084
          },
          {
           "lower": 0.15300024896860123,
           "time": 5.418837547302246,
           "trajectory": "Wolves",
           "upper": 0.3816536068916321
          },
          {
           "lower": 0.1547201916575432,
           "time": 5.51703405380249,
           "trajectory": "Wolves",
           "upper": 0.40196546912193293
          },
          {
           "lower": 0.15870047509670257,
           "time": 5.615230083465576,
           "trajectory": "Wolves",
           "upper": 0.425565093755722
          },
          {
           "lower": 0.16432776749134065,
           "time": 5.7134270668029785,
           "trajectory": "Wolves",
           "upper": 0.45279376059770576
          },
          {
           "lower": 0.16942375674843788,
           "time": 5.811623573303223,
           "trajectory": "Wolves",
           "upper": 0.4828007921576499
          },
          {
           "lower": 0.175539580732584,
           "time": 5.909820079803467,
           "trajectory": "Wolves",
           "upper": 0.5155815362930297
          },
          {
           "lower": 0.18278886899352073,
           "time": 6.008016109466553,
           "trajectory": "Wolves",
           "upper": 0.5510401755571365
          },
          {
           "lower": 0.1913030579686165,
           "time": 6.106212615966797,
           "trajectory": "Wolves",
           "upper": 0.5889679074287414
          },
          {
           "lower": 0.20104168206453324,
           "time": 6.204409122467041,
           "trajectory": "Wolves",
           "upper": 0.6290197759866714
          },
          {
           "lower": 0.21211343184113501,
           "time": 6.302605628967285,
           "trajectory": "Wolves",
           "upper": 0.6707020252943038
          },
          {
           "lower": 0.22486768662929535,
           "time": 6.400801658630371,
           "trajectory": "Wolves",
           "upper": 0.7164292693138121
          },
          {
           "lower": 0.239505136013031,
           "time": 6.498998165130615,
           "trajectory": "Wolves",
           "upper": 0.7632388323545456
          },
          {
           "lower": 0.256245319545269,
           "time": 6.597194671630859,
           "trajectory": "Wolves",
           "upper": 0.8089749157428742
          },
          {
           "lower": 0.27532428354024885,
           "time": 6.6953911781311035,
           "trajectory": "Wolves",
           "upper": 0.8524002462625504
          },
          {
           "lower": 0.2969896480441093,
           "time": 6.7935872077941895,
           "trajectory": "Wolves",
           "upper": 0.8927618145942687
          },
          {
           "lower": 0.32149026095867156,
           "time": 6.891783714294434,
           "trajectory": "Wolves",
           "upper": 0.928539514541626
          },
          {
           "lower": 0.34906338155269623,
           "time": 6.989980220794678,
           "trajectory": "Wolves",
           "upper": 0.9584593564271926
          },
          {
           "lower": 0.37991348952054976,
           "time": 7.088176727294922,
           "trajectory": "Wolves",
           "upper": 0.9817579507827758
          },
          {
           "lower": 0.4126221776008606,
           "time": 7.186372756958008,
           "trajectory": "Wolves",
           "upper": 0.9952844083309174
          },
          {
           "lower": 0.4471473842859268,
           "time": 7.284569263458252,
           "trajectory": "Wolves",
           "upper": 0.999888813495636
          },
          {
           "lower": 0.4840144827961922,
           "time": 7.382765769958496,
           "trajectory": "Wolves",
           "upper": 0.9991763532161713
          },
          {
           "lower": 0.5238396972417831,
           "time": 7.48096227645874,
           "trajectory": "Wolves",
           "upper": 0.9945943206548691
          },
          {
           "lower": 0.5663493752479554,
           "time": 7.579158306121826,
           "trajectory": "Wolves",
           "upper": 0.996418884396553
          },
          {
           "lower": 0.6110985726118088,
           "time": 7.67735481262207,
           "trajectory": "Wolves",
           "upper": 0.9992064297199249
          },
          {
           "lower": 0.6574589967727661,
           "time": 7.7755513191223145,
           "trajectory": "Wolves",
           "upper": 1.000333058834076
          },
          {
           "lower": 0.7046235054731369,
           "time": 7.873747825622559,
           "trajectory": "Wolves",
           "upper": 1.0065573751926422
          },
          {
           "lower": 0.7525284260511398,
           "time": 7.9719438552856445,
           "trajectory": "Wolves",
           "upper": 1.0058083832263947
          },
          {
           "lower": 0.7894466161727905,
           "time": 8.070140838623047,
           "trajectory": "Wolves",
           "upper": 1.0090785443782806
          },
          {
           "lower": 0.817705824971199,
           "time": 8.168336868286133,
           "trajectory": "Wolves",
           "upper": 1.0075386762619019
          },
          {
           "lower": 0.8005896002054215,
           "time": 8.266533851623535,
           "trajectory": "Wolves",
           "upper": 1.0106054842472076
          },
          {
           "lower": 0.7775146216154099,
           "time": 8.364729881286621,
           "trajectory": "Wolves",
           "upper": 1.0060164749622345
          },
          {
           "lower": 0.7466731667518616,
           "time": 8.462926864624023,
           "trajectory": "Wolves",
           "upper": 1.002402228116989
          },
          {
           "lower": 0.7160019606351853,
           "time": 8.56112289428711,
           "trajectory": "Wolves",
           "upper": 1.0037639915943146
          },
          {
           "lower": 0.6857686698436737,
           "time": 8.659318923950195,
           "trajectory": "Wolves",
           "upper": 1.0013867408037185
          },
          {
           "lower": 0.6561907947063446,
           "time": 8.757515907287598,
           "trajectory": "Wolves",
           "upper": 1.0036586046218872
          },
          {
           "lower": 0.6274442553520203,
           "time": 8.855710983276367,
           "trajectory": "Wolves",
           "upper": 1.0084400415420531
          },
          {
           "lower": 0.5996661454439163,
           "time": 8.953907012939453,
           "trajectory": "Wolves",
           "upper": 1.0045182228088378
          },
          {
           "lower": 0.57296042740345,
           "time": 9.052103996276855,
           "trajectory": "Wolves",
           "upper": 0.9934995383024215
          },
          {
           "lower": 0.547403609752655,
           "time": 9.150300025939941,
           "trajectory": "Wolves",
           "upper": 0.9773024916648865
          },
          {
           "lower": 0.5230468422174454,
           "time": 9.248497009277344,
           "trajectory": "Wolves",
           "upper": 0.9568425595760346
          },
          {
           "lower": 0.49992330372333527,
           "time": 9.34669303894043,
           "trajectory": "Wolves",
           "upper": 0.9327404618263244
          },
          {
           "lower": 0.478048375248909,
           "time": 9.444889068603516,
           "trajectory": "Wolves",
           "upper": 0.9057140052318573
          },
          {
           "lower": 0.45742707401514054,
           "time": 9.543086051940918,
           "trajectory": "Wolves",
           "upper": 0.8764394521713257
          },
          {
           "lower": 0.43804881274700164,
           "time": 9.64128303527832,
           "trajectory": "Wolves",
           "upper": 0.8455302238464355
          },
          {
           "lower": 0.41914495676755903,
           "time": 9.739479064941406,
           "trajectory": "Wolves",
           "upper": 0.8135338127613067
          },
          {
           "lower": 0.39964639097452165,
           "time": 9.837676048278809,
           "trajectory": "Wolves",
           "upper": 0.7809252381324767
          },
          {
           "lower": 0.38090849965810775,
           "time": 9.935872077941895,
           "trajectory": "Wolves",
           "upper": 0.7481121331453322
          },
          {
           "lower": 0.36345911026000977,
           "time": 10.034069061279297,
           "trajectory": "Wolves",
           "upper": 0.7154356390237807
          },
          {
           "lower": 0.3472597599029541,
           "time": 10.132265090942383,
           "trajectory": "Wolves",
           "upper": 0.6831769913434981
          },
          {
           "lower": 0.3300993725657463,
           "time": 10.230461120605469,
           "trajectory": "Wolves",
           "upper": 0.6515639722347258
          },
          {
           "lower": 0.3140900060534477,
           "time": 10.328658103942871,
           "trajectory": "Wolves",
           "upper": 0.6220583736896513
          },
          {
           "lower": 0.29845099747180937,
           "time": 10.426854133605957,
           "trajectory": "Wolves",
           "upper": 0.5940448939800261
          },
          {
           "lower": 0.2848609298467636,
           "time": 10.525050163269043,
           "trajectory": "Wolves",
           "upper": 0.5669990092515944
          },
          {
           "lower": 0.2750711590051651,
           "time": 10.623247146606445,
           "trajectory": "Wolves",
           "upper": 0.5409881681203841
          },
          {
           "lower": 0.2662804305553436,
           "time": 10.721443176269531,
           "trajectory": "Wolves",
           "upper": 0.5160592570900916
          },
          {
           "lower": 0.2568549528717995,
           "time": 10.819640159606934,
           "trajectory": "Wolves",
           "upper": 0.4922410160303115
          },
          {
           "lower": 0.2453808605670929,
           "time": 10.91783618927002,
           "trajectory": "Wolves",
           "upper": 0.4695479169487952
          },
          {
           "lower": 0.23483706042170524,
           "time": 11.016032218933105,
           "trajectory": "Wolves",
           "upper": 0.44798238128423684
          },
          {
           "lower": 0.22517933696508408,
           "time": 11.114229202270508,
           "trajectory": "Wolves",
           "upper": 0.4275363013148307
          },
          {
           "lower": 0.21632617264986037,
           "time": 11.212425231933594,
           "trajectory": "Wolves",
           "upper": 0.40819491893053045
          },
          {
           "lower": 0.20827872157096863,
           "time": 11.31062126159668,
           "trajectory": "Wolves",
           "upper": 0.38993706703186026
          },
          {
           "lower": 0.20180438086390495,
           "time": 11.408818244934082,
           "trajectory": "Wolves",
           "upper": 0.372736433148384
          },
          {
           "lower": 0.1948359914124012,
           "time": 11.507014274597168,
           "trajectory": "Wolves",
           "upper": 0.3565643206238746
          },
          {
           "lower": 0.1886773332953453,
           "time": 11.60521125793457,
           "trajectory": "Wolves",
           "upper": 0.34142603725194925
          },
          {
           "lower": 0.1822824612259865,
           "time": 11.703407287597656,
           "trajectory": "Wolves",
           "upper": 0.3280029445886612
          },
          {
           "lower": 0.1768182784318924,
           "time": 11.801603317260742,
           "trajectory": "Wolves",
           "upper": 0.3155541613698006
          },
          {
           "lower": 0.17241908088326455,
           "time": 11.899800300598145,
           "trajectory": "Wolves",
           "upper": 0.30780972689390185
          },
          {
           "lower": 0.16910969465970993,
           "time": 11.99799633026123,
           "trajectory": "Wolves",
           "upper": 0.29929260164499283
          },
          {
           "lower": 0.16727722436189651,
           "time": 12.096192359924316,
           "trajectory": "Wolves",
           "upper": 0.30073579549789425
          },
          {
           "lower": 0.16588936671614646,
           "time": 12.194389343261719,
           "trajectory": "Wolves",
           "upper": 0.3032856702804565
          },
          {
           "lower": 0.1639499694108963,
           "time": 12.292585372924805,
           "trajectory": "Wolves",
           "upper": 0.3007561579346657
          },
          {
           "lower": 0.1626553200185299,
           "time": 12.390782356262207,
           "trajectory": "Wolves",
           "upper": 0.30875262916088103
          },
          {
           "lower": 0.1620188243687153,
           "time": 12.488978385925293,
           "trajectory": "Wolves",
           "upper": 0.3202205196022987
          },
          {
           "lower": 0.16206154301762582,
           "time": 12.587174415588379,
           "trajectory": "Wolves",
           "upper": 0.334099380671978
          },
          {
           "lower": 0.16281294375658034,
           "time": 12.685371398925781,
           "trajectory": "Wolves",
           "upper": 0.3500352308154106
          },
          {
           "lower": 0.1627533718943596,
           "time": 12.783567428588867,
           "trajectory": "Wolves",
           "upper": 0.3681897342205047
          },
          {
           "lower": 0.1629971034824848,
           "time": 12.881763458251953,
           "trajectory": "Wolves",
           "upper": 0.3887231931090354
          },
          {
           "lower": 0.16158675104379655,
           "time": 12.979960441589355,
           "trajectory": "Wolves",
           "upper": 0.41178561300039285
          },
          {
           "lower": 0.16041808053851128,
           "time": 13.078156471252441,
           "trajectory": "Wolves",
           "upper": 0.4375055462121963
          },
          {
           "lower": 0.15754736736416816,
           "time": 13.176353454589844,
           "trajectory": "Wolves",
           "upper": 0.46597421467304223
          },
          {
           "lower": 0.1552147835493088,
           "time": 13.27454948425293,
           "trajectory": "Wolves",
           "upper": 0.4972257941961288
          },
          {
           "lower": 0.15341154709458352,
           "time": 13.372745513916016,
           "trajectory": "Wolves",
           "upper": 0.5312163263559341
          },
          {
           "lower": 0.15204961746931075,
           "time": 13.470942497253418,
           "trajectory": "Wolves",
           "upper": 0.5678020358085631
          },
          {
           "lower": 0.15124001801013948,
           "time": 13.569138526916504,
           "trajectory": "Wolves",
           "upper": 0.6067143827676772
          },
          {
           "lower": 0.15099834725260736,
           "time": 13.66733455657959,
           "trajectory": "Wolves",
           "upper": 0.6475424587726591
          },
          {
           "lower": 0.15297048538923264,
           "time": 13.765531539916992,
           "trajectory": "Wolves",
           "upper": 0.6897222399711608
          },
          {
           "lower": 0.15530856102705,
           "time": 13.863727569580078,
           "trajectory": "Wolves",
           "upper": 0.7325359314680098
          },
          {
           "lower": 0.154922217130661,
           "time": 13.96192455291748,
           "trajectory": "Wolves",
           "upper": 0.775128862261772
          },
          {
           "lower": 0.1550935097038746,
           "time": 14.060120582580566,
           "trajectory": "Wolves",
           "upper": 0.8165419191122054
          },
          {
           "lower": 0.15602648109197617,
           "time": 14.158316612243652,
           "trajectory": "Wolves",
           "upper": 0.8557619512081145
          },
          {
           "lower": 0.15872434675693511,
           "time": 14.256513595581055,
           "trajectory": "Wolves",
           "upper": 0.8917760968208313
          },
          {
           "lower": 0.1621825523674488,
           "time": 14.35470962524414,
           "trajectory": "Wolves",
           "upper": 0.9236480355262755
          },
          {
           "lower": 0.1664690352976322,
           "time": 14.452905654907227,
           "trajectory": "Wolves",
           "upper": 0.9505664110183715
          },
          {
           "lower": 0.1716640517115593,
           "time": 14.551102638244629,
           "trajectory": "Wolves",
           "upper": 0.9747474461793899
          },
          {
           "lower": 0.17786126136779784,
           "time": 14.649298667907715,
           "trajectory": "Wolves",
           "upper": 0.9923914164304733
          },
          {
           "lower": 0.1851704627275467,
           "time": 14.747495651245117,
           "trajectory": "Wolves",
           "upper": 0.9977774322032928
          },
          {
           "lower": 0.19371743574738504,
           "time": 14.845691680908203,
           "trajectory": "Wolves",
           "upper": 0.9930166512727737
          },
          {
           "lower": 0.20364718586206437,
           "time": 14.943887710571289,
           "trajectory": "Wolves",
           "upper": 0.9828639149665832
          },
          {
           "lower": 0.21503195986151696,
           "time": 15.042084693908691,
           "trajectory": "Wolves",
           "upper": 0.9812245339155197
          },
          {
           "lower": 0.22812195122241974,
           "time": 15.140280723571777,
           "trajectory": "Wolves",
           "upper": 0.9861322522163392
          },
          {
           "lower": 0.24313153102993965,
           "time": 15.238476753234863,
           "trajectory": "Wolves",
           "upper": 0.9755009979009628
          },
          {
           "lower": 0.2602828934788704,
           "time": 15.336673736572266,
           "trajectory": "Wolves",
           "upper": 0.9892365634441376
          },
          {
           "lower": 0.27981317788362503,
           "time": 15.434869766235352,
           "trajectory": "Wolves",
           "upper": 0.9977049201726913
          },
          {
           "lower": 0.3019690975546837,
           "time": 15.533066749572754,
           "trajectory": "Wolves",
           "upper": 0.9995893061161041
          },
          {
           "lower": 0.32699553817510607,
           "time": 15.63126277923584,
           "trajectory": "Wolves",
           "upper": 0.9988284707069397
          },
          {
           "lower": 0.3521470993757248,
           "time": 15.729458808898926,
           "trajectory": "Wolves",
           "upper": 0.9993571370840073
          },
          {
           "lower": 0.37960807234048843,
           "time": 15.827655792236328,
           "trajectory": "Wolves",
           "upper": 1.0005356311798095
          },
          {
           "lower": 0.40954194217920303,
           "time": 15.925851821899414,
           "trajectory": "Wolves",
           "upper": 1.0013312101364136
          },
          {
           "lower": 0.4423285946249962,
           "time": 16.0240478515625,
           "trajectory": "Wolves",
           "upper": 1.0075413048267365
          },
          {
           "lower": 0.4781190812587738,
           "time": 16.122243881225586,
           "trajectory": "Wolves",
           "upper": 1.0118739128112793
          },
          {
           "lower": 0.516811516880989,
           "time": 16.220441818237305,
           "trajectory": "Wolves",
           "upper": 1.0101054847240447
          },
          {
           "lower": 0.5441705912351609,
           "time": 16.31863784790039,
           "trajectory": "Wolves",
           "upper": 1.0067384481430053
          },
          {
           "lower": 0.568549570441246,
           "time": 16.416833877563477,
           "trajectory": "Wolves",
           "upper": 1.002038586139679
          },
          {
           "lower": 0.5429022997617722,
           "time": 16.515029907226562,
           "trajectory": "Wolves",
           "upper": 1.0011488199234009
          },
          {
           "lower": 0.5336899936199189,
           "time": 16.61322593688965,
           "trajectory": "Wolves",
           "upper": 0.9971868366003036
          },
          {
           "lower": 0.5072744593024254,
           "time": 16.711421966552734,
           "trajectory": "Wolves",
           "upper": 0.9897120624780655
          },
          {
           "lower": 0.48223721534013747,
           "time": 16.80961799621582,
           "trajectory": "Wolves",
           "upper": 0.9831840842962265
          },
          {
           "lower": 0.4597930729389191,
           "time": 16.907814025878906,
           "trajectory": "Wolves",
           "upper": 0.9957805424928665
          },
          {
           "lower": 0.4402854099869728,
           "time": 17.006011962890625,
           "trajectory": "Wolves",
           "upper": 1.0009864032268525
          },
          {
           "lower": 0.42200980633497237,
           "time": 17.10420799255371,
           "trajectory": "Wolves",
           "upper": 1.0010557353496552
          },
          {
           "lower": 0.40494498014450075,
           "time": 17.202404022216797,
           "trajectory": "Wolves",
           "upper": 0.9978171199560165
          },
          {
           "lower": 0.3890667766332626,
           "time": 17.300600051879883,
           "trajectory": "Wolves",
           "upper": 0.9965868800878525
          },
          {
           "lower": 0.3743485063314438,
           "time": 17.39879608154297,
           "trajectory": "Wolves",
           "upper": 0.998455336689949
          },
          {
           "lower": 0.3607614189386368,
           "time": 17.496994018554688,
           "trajectory": "Wolves",
           "upper": 0.9998154699802398
          },
          {
           "lower": 0.3482774034142494,
           "time": 17.595190048217773,
           "trajectory": "Wolves",
           "upper": 1.0002733141183853
          },
          {
           "lower": 0.3368685841560364,
           "time": 17.69338607788086,
           "trajectory": "Wolves",
           "upper": 0.9956602454185486
          },
          {
           "lower": 0.3265078768134117,
           "time": 17.791584014892578,
           "trajectory": "Wolves",
           "upper": 0.9811929523944855
          },
          {
           "lower": 0.3171424388885498,
           "time": 17.889780044555664,
           "trajectory": "Wolves",
           "upper": 0.9618608713150024
          },
          {
           "lower": 0.3085785865783691,
           "time": 17.98797607421875,
           "trajectory": "Wolves",
           "upper": 0.9382475227117538
          },
          {
           "lower": 0.3010013967752457,
           "time": 18.086172103881836,
           "trajectory": "Wolves",
           "upper": 0.9111802756786347
          },
          {
           "lower": 0.2920254796743393,
           "time": 18.184368133544922,
           "trajectory": "Wolves",
           "upper": 0.8814419984817505
          },
          {
           "lower": 0.28120449781417844,
           "time": 18.28256607055664,
           "trajectory": "Wolves",
           "upper": 0.8504221975803375
          },
          {
           "lower": 0.26939221322536466,
           "time": 18.380762100219727,
           "trajectory": "Wolves",
           "upper": 0.8195193082094192
          },
          {
           "lower": 0.25854006707668303,
           "time": 18.478958129882812,
           "trajectory": "Wolves",
           "upper": 0.7879701435565949
          },
          {
           "lower": 0.25412780195474627,
           "time": 18.57715606689453,
           "trajectory": "Wolves",
           "upper": 0.7561036467552185
          },
          {
           "lower": 0.2500698037445545,
           "time": 18.675352096557617,
           "trajectory": "Wolves",
           "upper": 0.7242607533931732
          },
          {
           "lower": 0.24498572200536728,
           "time": 18.773548126220703,
           "trajectory": "Wolves",
           "upper": 0.692724061012268
          },
          {
           "lower": 0.23654634952545167,
           "time": 18.87174415588379,
           "trajectory": "Wolves",
           "upper": 0.6617236942052841
          },
          {
           "lower": 0.22896385863423346,
           "time": 18.969940185546875,
           "trajectory": "Wolves",
           "upper": 0.6314462453126907
          },
          {
           "lower": 0.22203873470425606,
           "time": 19.06813621520996,
           "trajectory": "Wolves",
           "upper": 0.602038112282753
          },
          {
           "lower": 0.2138136386871338,
           "time": 19.166332244873047,
           "trajectory": "Wolves",
           "upper": 0.5736097812652587
          },
          {
           "lower": 0.20605550929903985,
           "time": 19.264528274536133,
           "trajectory": "Wolves",
           "upper": 0.5462440490722655
          },
          {
           "lower": 0.20027177259325982,
           "time": 19.36272621154785,
           "trajectory": "Wolves",
           "upper": 0.5199971854686737
          },
          {
           "lower": 0.19767072200775146,
           "time": 19.460922241210938,
           "trajectory": "Wolves",
           "upper": 0.49490585774183266
          },
          {
           "lower": 0.19202626794576644,
           "time": 19.559118270874023,
           "trajectory": "Wolves",
           "upper": 0.4709893852472305
          },
          {
           "lower": 0.18630552366375924,
           "time": 19.65731430053711,
           "trajectory": "Wolves",
           "upper": 0.44825136810541144
          },
          {
           "lower": 0.1812824599444866,
           "time": 19.755510330200195,
           "trajectory": "Wolves",
           "upper": 0.42668551057577125
          },
          {
           "lower": 0.17693950831890107,
           "time": 19.853708267211914,
           "trajectory": "Wolves",
           "upper": 0.40627554655075065
          },
          {
           "lower": 0.17324449941515924,
           "time": 19.951904296875,
           "trajectory": "Wolves",
           "upper": 0.4030626893043518
          },
          {
           "lower": 0.1699801467359066,
           "time": 20.050100326538086,
           "trajectory": "Wolves",
           "upper": 0.41938123404979705
          },
          {
           "lower": 0.16804226040840148,
           "time": 20.148298263549805,
           "trajectory": "Wolves",
           "upper": 0.4239849567413329
          },
          {
           "lower": 0.1663979098200798,
           "time": 20.24649429321289,
           "trajectory": "Wolves",
           "upper": 0.40634532272815693
          },
          {
           "lower": 0.1647381938993931,
           "time": 20.344690322875977,
           "trajectory": "Wolves",
           "upper": 0.4069538936018944
          },
          {
           "lower": 0.1636613830924034,
           "time": 20.442886352539062,
           "trajectory": "Wolves",
           "upper": 0.42307848632335654
          },
          {
           "lower": 0.16307924538850785,
           "time": 20.54108238220215,
           "trajectory": "Wolves",
           "upper": 0.45002248883247364
          },
          {
           "lower": 0.1631910242140293,
           "time": 20.639278411865234,
           "trajectory": "Wolves",
           "upper": 0.47973577231168735
          },
          {
           "lower": 0.1640276603400707,
           "time": 20.73747444152832,
           "trajectory": "Wolves",
           "upper": 0.5122190564870833
          },
          {
           "lower": 0.16413161009550095,
           "time": 20.835670471191406,
           "trajectory": "Wolves",
           "upper": 0.5473854094743728
          },
          {
           "lower": 0.16348991319537162,
           "time": 20.933868408203125,
           "trajectory": "Wolves",
           "upper": 0.5850378274917601
          },
          {
           "lower": 0.16351921632885932,
           "time": 21.03206443786621,
           "trajectory": "Wolves",
           "upper": 0.6248426437377929
          },
          {
           "lower": 0.16417717114090918,
           "time": 21.130260467529297,
           "trajectory": "Wolves",
           "upper": 0.6663227587938307
          },
          {
           "lower": 0.1669645145535469,
           "time": 21.228456497192383,
           "trajectory": "Wolves",
           "upper": 0.7088437467813491
          },
          {
           "lower": 0.16852254420518875,
           "time": 21.32665252685547,
           "trajectory": "Wolves",
           "upper": 0.7516247153282164
          },
          {
           "lower": 0.16876422837376595,
           "time": 21.424850463867188,
           "trajectory": "Wolves",
           "upper": 0.7937631100416183
          },
          {
           "lower": 0.16696756705641747,
           "time": 21.523046493530273,
           "trajectory": "Wolves",
           "upper": 0.8342687219381331
          },
          {
           "lower": 0.16534425914287568,
           "time": 21.62124252319336,
           "trajectory": "Wolves",
           "upper": 0.8721249610185622
          },
          {
           "lower": 0.16089281365275382,
           "time": 21.719440460205078,
           "trajectory": "Wolves",
           "upper": 0.9063484132289885
          },
          {
           "lower": 0.15697359889745713,
           "time": 21.817636489868164,
           "trajectory": "Wolves",
           "upper": 0.9360553205013274
          },
          {
           "lower": 0.154640594124794,
           "time": 21.91583251953125,
           "trajectory": "Wolves",
           "upper": 0.9605146616697311
          },
          {
           "lower": 0.15332131534814836,
           "time": 22.014028549194336,
           "trajectory": "Wolves",
           "upper": 0.9791977941989898
          },
          {
           "lower": 0.15479821115732192,
           "time": 22.112224578857422,
           "trajectory": "Wolves",
           "upper": 0.9899740725755691
          },
          {
           "lower": 0.1562502309679985,
           "time": 22.210420608520508,
           "trajectory": "Wolves",
           "upper": 0.9913704872131348
          },
          {
           "lower": 0.15635684356093407,
           "time": 22.308616638183594,
           "trajectory": "Wolves",
           "upper": 0.9836450457572936
          },
          {
           "lower": 0.15691652297973632,
           "time": 22.40681266784668,
           "trajectory": "Wolves",
           "upper": 0.9693858861923217
          },
          {
           "lower": 0.1567702919244766,
           "time": 22.5050106048584,
           "trajectory": "Wolves",
           "upper": 0.957481563091278
          },
          {
           "lower": 0.15576769188046455,
           "time": 22.603206634521484,
           "trajectory": "Wolves",
           "upper": 0.9601654708385468
          },
          {
           "lower": 0.15524135902523994,
           "time": 22.70140266418457,
           "trajectory": "Wolves",
           "upper": 0.9679513245820999
          },
          {
           "lower": 0.15515390932559966,
           "time": 22.799598693847656,
           "trajectory": "Wolves",
           "upper": 0.9604407727718353
          },
          {
           "lower": 0.15675759613513945,
           "time": 22.897794723510742,
           "trajectory": "Wolves",
           "upper": 0.9531516194343567
          },
          {
           "lower": 0.15964649021625518,
           "time": 22.99599266052246,
           "trajectory": "Wolves",
           "upper": 0.9758219718933105
          },
          {
           "lower": 0.1633138231933117,
           "time": 23.094188690185547,
           "trajectory": "Wolves",
           "upper": 0.9886273086071015
          },
          {
           "lower": 0.16777151376008986,
           "time": 23.192384719848633,
           "trajectory": "Wolves",
           "upper": 0.9938872128725051
          },
          {
           "lower": 0.17308537811040878,
           "time": 23.29058265686035,
           "trajectory": "Wolves",
           "upper": 0.998961278796196
          },
          {
           "lower": 0.17941494137048722,
           "time": 23.388778686523438,
           "trajectory": "Wolves",
           "upper": 0.9986775547266007
          },
          {
           "lower": 0.18687143698334693,
           "time": 23.486974716186523,
           "trajectory": "Wolves",
           "upper": 0.9936696499586105
          },
          {
           "lower": 0.19558281004428862,
           "time": 23.58517074584961,
           "trajectory": "Wolves",
           "upper": 0.9958069503307342
          },
          {
           "lower": 0.2056956894695759,
           "time": 23.683366775512695,
           "trajectory": "Wolves",
           "upper": 0.9991126477718353
          },
          {
           "lower": 0.21737605109810829,
           "time": 23.78156280517578,
           "trajectory": "Wolves",
           "upper": 0.9998131990432739
          },
          {
           "lower": 0.23081071451306343,
           "time": 23.879758834838867,
           "trajectory": "Wolves",
           "upper": 1.0008575558662414
          },
          {
           "lower": 0.24620597064495087,
           "time": 23.977954864501953,
           "trajectory": "Wolves",
           "upper": 1.0023418217897415
          },
          {
           "lower": 0.2637864500284195,
           "time": 24.076152801513672,
           "trajectory": "Wolves",
           "upper": 1.0047442853450774
          },
          {
           "lower": 0.2813341706991196,
           "time": 24.174348831176758,
           "trajectory": "Wolves",
           "upper": 1.0071383357048034
          },
          {
           "lower": 0.300195649266243,
           "time": 24.272544860839844,
           "trajectory": "Wolves",
           "upper": 1.0098597288131714
          },
          {
           "lower": 0.3214712753891945,
           "time": 24.37074089050293,
           "trajectory": "Wolves",
           "upper": 1.0062338650226592
          },
          {
           "lower": 0.34536351412534716,
           "time": 24.468936920166016,
           "trajectory": "Wolves",
           "upper": 1.0044687688350677
          },
          {
           "lower": 0.367728054523468,
           "time": 24.567134857177734,
           "trajectory": "Wolves",
           "upper": 1.0002803087234498
          },
          {
           "lower": 0.38795277923345567,
           "time": 24.66533088684082,
           "trajectory": "Wolves",
           "upper": 0.9997890084981919
          },
          {
           "lower": 0.37223185151815413,
           "time": 24.763526916503906,
           "trajectory": "Wolves",
           "upper": 1.0002581000328064
          },
          {
           "lower": 0.35696167796850203,
           "time": 24.861724853515625,
           "trajectory": "Wolves",
           "upper": 0.9956646740436554
          },
          {
           "lower": 0.3499200239777565,
           "time": 24.95992088317871,
           "trajectory": "Wolves",
           "upper": 0.9856657922267914
          },
          {
           "lower": 0.3383984312415123,
           "time": 25.058116912841797,
           "trajectory": "Wolves",
           "upper": 0.97026427090168
          },
          {
           "lower": 0.3279294118285179,
           "time": 25.156312942504883,
           "trajectory": "Wolves",
           "upper": 0.9504680514335632
          },
          {
           "lower": 0.3184893622994423,
           "time": 25.25450897216797,
           "trajectory": "Wolves",
           "upper": 0.9639508128166199
          },
          {
           "lower": 0.3100573495030403,
           "time": 25.352705001831055,
           "trajectory": "Wolves",
           "upper": 0.9828543901443482
          },
          {
           "lower": 0.30261566340923307,
           "time": 25.45090103149414,
           "trajectory": "Wolves",
           "upper": 0.9932814210653305
          },
          {
           "lower": 0.2958703711628914,
           "time": 25.549097061157227,
           "trajectory": "Wolves",
           "upper": 1.0015631079673768
          },
          {
           "lower": 0.290073935687542,
           "time": 25.647294998168945,
           "trajectory": "Wolves",
           "upper": 1.00171440243721
          },
          {
           "lower": 0.2852397307753563,
           "time": 25.74549102783203,
           "trajectory": "Wolves",
           "upper": 0.9975081235170364
          },
          {
           "lower": 0.28125953674316406,
           "time": 25.843687057495117,
           "trajectory": "Wolves",
           "upper": 0.9917439252138137
          },
          {
           "lower": 0.2763360753655434,
           "time": 25.941883087158203,
           "trajectory": "Wolves",
           "upper": 0.9886632561683655
          },
          {
           "lower": 0.27026546001434326,
           "time": 26.04007911682129,
           "trajectory": "Wolves",
           "upper": 0.992416152358055
          },
          {
           "lower": 0.2641956403851509,
           "time": 26.138275146484375,
           "trajectory": "Wolves",
           "upper": 0.9974153727293015
          },
          {
           "lower": 0.25686232149600985,
           "time": 26.23647117614746,
           "trajectory": "Wolves",
           "upper": 0.9975637286901474
          },
          {
           "lower": 0.2524468004703522,
           "time": 26.334667205810547,
           "trajectory": "Wolves",
           "upper": 0.9941886335611343
          },
          {
           "lower": 0.250233206897974,
           "time": 26.432865142822266,
           "trajectory": "Wolves",
           "upper": 0.9922847658395767
          },
          {
           "lower": 0.24744433909654617,
           "time": 26.53106117248535,
           "trajectory": "Wolves",
           "upper": 0.9774287074804305
          },
          {
           "lower": 0.24069003984332085,
           "time": 26.629257202148438,
           "trajectory": "Wolves",
           "upper": 0.9576320976018905
          },
          {
           "lower": 0.23299262896180153,
           "time": 26.727453231811523,
           "trajectory": "Wolves",
           "upper": 0.9337229430675507
          },
          {
           "lower": 0.22615034729242325,
           "time": 26.82564926147461,
           "trajectory": "Wolves",
           "upper": 0.9065086483955382
          },
          {
           "lower": 0.22014274969696998,
           "time": 26.923847198486328,
           "trajectory": "Wolves",
           "upper": 0.8767463326454162
          },
          {
           "lower": 0.21495493426918982,
           "time": 27.022043228149414,
           "trajectory": "Wolves",
           "upper": 0.8451279789209365
          },
          {
           "lower": 0.21040329113602638,
           "time": 27.1202392578125,
           "trajectory": "Wolves",
           "upper": 0.8122650057077407
          },
          {
           "lower": 0.20782150849699974,
           "time": 27.21843719482422,
           "trajectory": "Wolves",
           "upper": 0.7786888509988784
          },
          {
           "lower": 0.20393504947423935,
           "time": 27.316633224487305,
           "trajectory": "Wolves",
           "upper": 0.7448512762784957
          },
          {
           "lower": 0.1997904509305954,
           "time": 27.41482925415039,
           "trajectory": "Wolves",
           "upper": 0.711536556482315
          },
          {
           "lower": 0.19380126595497132,
           "time": 27.513025283813477,
           "trajectory": "Wolves",
           "upper": 0.6800334751605986
          },
          {
           "lower": 0.18869468942284584,
           "time": 27.611221313476562,
           "trajectory": "Wolves",
           "upper": 0.6491338193416595
          },
          {
           "lower": 0.1845427230000496,
           "time": 27.70941925048828,
           "trajectory": "Wolves",
           "upper": 0.6190116941928863
          },
          {
           "lower": 0.18000969290733337,
           "time": 27.807615280151367,
           "trajectory": "Wolves",
           "upper": 0.5898068785667419
          },
          {
           "lower": 0.17606869861483573,
           "time": 27.905811309814453,
           "trajectory": "Wolves",
           "upper": 0.5842533469200134
          },
          {
           "lower": 0.17280452623963355,
           "time": 28.004009246826172,
           "trajectory": "Wolves",
           "upper": 0.6242456018924712
          },
          {
           "lower": 0.17038027569651604,
           "time": 28.102205276489258,
           "trajectory": "Wolves",
           "upper": 0.6405353367328643
          },
          {
           "lower": 0.17137352749705315,
           "time": 28.200401306152344,
           "trajectory": "Wolves",
           "upper": 0.6109578549861907
          },
          {
           "lower": 0.17117936834692954,
           "time": 28.29859733581543,
           "trajectory": "Wolves",
           "upper": 0.5901211947202682
          },
          {
           "lower": 0.16935733556747437,
           "time": 28.396793365478516,
           "trajectory": "Wolves",
           "upper": 0.602705419063568
          },
          {
           "lower": 0.16538334637880325,
           "time": 28.4949893951416,
           "trajectory": "Wolves",
           "upper": 0.6432965725660322
          },
          {
           "lower": 0.16492010951042174,
           "time": 28.593185424804688,
           "trajectory": "Wolves",
           "upper": 0.6852882236242293
          },
          {
           "lower": 0.16513916999101638,
           "time": 28.691381454467773,
           "trajectory": "Wolves",
           "upper": 0.7279811799526212
          },
          {
           "lower": 0.16611068099737167,
           "time": 28.789579391479492,
           "trajectory": "Wolves",
           "upper": 0.770535635948181
          },
          {
           "lower": 0.16611216142773627,
           "time": 28.887775421142578,
           "trajectory": "Wolves",
           "upper": 0.8120082557201383
          },
          {
           "lower": 0.16527557000517845,
           "time": 28.985971450805664,
           "trajectory": "Wolves",
           "upper": 0.8513918578624724
          },
          {
           "lower": 0.16442229971289635,
           "time": 29.08416748046875,
           "trajectory": "Wolves",
           "upper": 0.887682408094406
          },
          {
           "lower": 0.16423994824290275,
           "time": 29.182363510131836,
           "trajectory": "Wolves",
           "upper": 0.9199351370334624
          },
          {
           "lower": 0.16475595831871032,
           "time": 29.280561447143555,
           "trajectory": "Wolves",
           "upper": 0.947332864999771
          },
          {
           "lower": 0.16838487461209298,
           "time": 29.37875747680664,
           "trajectory": "Wolves",
           "upper": 0.9692333668470382
          },
          {
           "lower": 0.17303766161203385,
           "time": 29.476953506469727,
           "trajectory": "Wolves",
           "upper": 0.9841682225465774
          },
          {
           "lower": 0.1767550677061081,
           "time": 29.575151443481445,
           "trajectory": "Wolves",
           "upper": 0.9848017454147339
          },
          {
           "lower": 0.1763964533805847,
           "time": 29.67334747314453,
           "trajectory": "Wolves",
           "upper": 0.9717929661273956
          },
          {
           "lower": 0.17324413508176803,
           "time": 29.771543502807617,
           "trajectory": "Wolves",
           "upper": 0.9724552452564238
          },
          {
           "lower": 0.1732856586575508,
           "time": 29.869739532470703,
           "trajectory": "Wolves",
           "upper": 0.9535309344530104
          },
          {
           "lower": 0.1748480811715126,
           "time": 29.96793556213379,
           "trajectory": "Wolves",
           "upper": 0.9326310396194456
          },
          {
           "lower": 0.1762670285999775,
           "time": 30.066131591796875,
           "trajectory": "Wolves",
           "upper": 0.9295841276645659
          },
          {
           "lower": 0.1725742846727371,
           "time": 30.16432762145996,
           "trajectory": "Wolves",
           "upper": 0.93381769657135
          },
          {
           "lower": 0.16734498590230942,
           "time": 30.262523651123047,
           "trajectory": "Wolves",
           "upper": 0.9433647364377975
          },
          {
           "lower": 0.16266994401812554,
           "time": 30.360721588134766,
           "trajectory": "Wolves",
           "upper": 0.9434632927179335
          },
          {
           "lower": 0.16204190626740456,
           "time": 30.45891761779785,
           "trajectory": "Wolves",
           "upper": 0.929745441675186
          },
          {
           "lower": 0.16401308104395868,
           "time": 30.557113647460938,
           "trajectory": "Wolves",
           "upper": 0.9312633752822875
          },
          {
           "lower": 0.1610918827354908,
           "time": 30.655309677124023,
           "trajectory": "Wolves",
           "upper": 0.9575984060764312
          },
          {
           "lower": 0.1595179870724678,
           "time": 30.75350570678711,
           "trajectory": "Wolves",
           "upper": 0.9786773830652237
          },
          {
           "lower": 0.15940841659903526,
           "time": 30.851703643798828,
           "trajectory": "Wolves",
           "upper": 0.9792006373405456
          },
          {
           "lower": 0.15988668873906137,
           "time": 30.949899673461914,
           "trajectory": "Wolves",
           "upper": 0.9875351130962372
          },
          {
           "lower": 0.16055451333522797,
           "time": 31.048095703125,
           "trajectory": "Wolves",
           "upper": 0.9977742075920105
          },
          {
           "lower": 0.15932910442352294,
           "time": 31.14629364013672,
           "trajectory": "Wolves",
           "upper": 0.9986422032117843
          },
          {
           "lower": 0.15757134035229683,
           "time": 31.244489669799805,
           "trajectory": "Wolves",
           "upper": 0.989025405049324
          },
          {
           "lower": 0.15634625032544136,
           "time": 31.34268569946289,
           "trajectory": "Wolves",
           "upper": 0.9840576946735382
          },
          {
           "lower": 0.15566499382257462,
           "time": 31.440881729125977,
           "trajectory": "Wolves",
           "upper": 0.9887935400009156
          },
          {
           "lower": 0.15536050274968147,
           "time": 31.539077758789062,
           "trajectory": "Wolves",
           "upper": 0.9944401711225509
          },
          {
           "lower": 0.15766284391283988,
           "time": 31.63727378845215,
           "trajectory": "Wolves",
           "upper": 0.9981949865818024
          },
          {
           "lower": 0.16062793880701065,
           "time": 31.735469818115234,
           "trajectory": "Wolves",
           "upper": 0.9991020292043686
          },
          {
           "lower": 0.16433920487761497,
           "time": 31.83366584777832,
           "trajectory": "Wolves",
           "upper": 1.0005050778388977
          },
          {
           "lower": 0.1689063861966133,
           "time": 31.93186378479004,
           "trajectory": "Wolves",
           "upper": 0.9980441331863403
          },
          {
           "lower": 0.1744140401482582,
           "time": 32.030059814453125,
           "trajectory": "Wolves",
           "upper": 1.002093893289566
          },
          {
           "lower": 0.180960863083601,
           "time": 32.12825393676758,
           "trajectory": "Wolves",
           "upper": 1.0046568274497987
          },
          {
           "lower": 0.18866176828742026,
           "time": 32.2264518737793,
           "trajectory": "Wolves",
           "upper": 1.0050383269786836
          },
          {
           "lower": 0.19764822348952293,
           "time": 32.324649810791016,
           "trajectory": "Wolves",
           "upper": 1.0042850017547607
          },
          {
           "lower": 0.2080702915787697,
           "time": 32.42284393310547,
           "trajectory": "Wolves",
           "upper": 1.0060572564601897
          },
          {
           "lower": 0.22009876295924188,
           "time": 32.52104187011719,
           "trajectory": "Wolves",
           "upper": 1.0043819844722748
          },
          {
           "lower": 0.23392256274819376,
           "time": 32.61923599243164,
           "trajectory": "Wolves",
           "upper": 1.0045744061470032
          },
          {
           "lower": 0.24646704196929933,
           "time": 32.71743392944336,
           "trajectory": "Wolves",
           "upper": 0.999964925646782
          },
          {
           "lower": 0.258404316008091,
           "time": 32.81562805175781,
           "trajectory": "Wolves",
           "upper": 0.9990847498178482
          },
          {
           "lower": 0.2694392278790474,
           "time": 32.91382598876953,
           "trajectory": "Wolves",
           "upper": 0.9982341974973679
          },
          {
           "lower": 0.2790683969855309,
           "time": 33.01202392578125,
           "trajectory": "Wolves",
           "upper": 0.9961802691221237
          },
          {
           "lower": 0.271256597340107,
           "time": 33.1102180480957,
           "trajectory": "Wolves",
           "upper": 0.9862695634365081
          },
          {
           "lower": 0.2650373473763466,
           "time": 33.20841598510742,
           "trajectory": "Wolves",
           "upper": 0.9797636747360229
          },
          {
           "lower": 0.2695761099457741,
           "time": 33.30661392211914,
           "trajectory": "Wolves",
           "upper": 0.9708830118179321
          },
          {
           "lower": 0.27450200766324995,
           "time": 33.404808044433594,
           "trajectory": "Wolves",
           "upper": 0.9488632947206497
          },
          {
           "lower": 0.2709284335374832,
           "time": 33.50300598144531,
           "trajectory": "Wolves",
           "upper": 0.9224707871675492
          },
          {
           "lower": 0.2682962015271187,
           "time": 33.601200103759766,
           "trajectory": "Wolves",
           "upper": 0.915161994099617
          },
          {
           "lower": 0.2666212901473045,
           "time": 33.699398040771484,
           "trajectory": "Wolves",
           "upper": 0.9424799859523774
          },
          {
           "lower": 0.26394947469234464,
           "time": 33.7975959777832,
           "trajectory": "Wolves",
           "upper": 0.9665680795907974
          },
          {
           "lower": 0.266243776679039,
           "time": 33.895790100097656,
           "trajectory": "Wolves",
           "upper": 0.9792508184909821
          },
          {
           "lower": 0.2637952476739883,
           "time": 33.993988037109375,
           "trajectory": "Wolves",
           "upper": 0.9932046800851821
          },
          {
           "lower": 0.25837850794196127,
           "time": 34.092185974121094,
           "trajectory": "Wolves",
           "upper": 1.0007458627223969
          },
          {
           "lower": 0.25344827473163606,
           "time": 34.19038009643555,
           "trajectory": "Wolves",
           "upper": 1.0012211203575134
          },
          {
           "lower": 0.24386561065912246,
           "time": 34.288578033447266,
           "trajectory": "Wolves",
           "upper": 0.995558163523674
          },
          {
           "lower": 0.23652473539114,
           "time": 34.38677215576172,
           "trajectory": "Wolves",
           "upper": 0.9877487063407898
          },
          {
           "lower": 0.23099110648036003,
           "time": 34.48497009277344,
           "trajectory": "Wolves",
           "upper": 0.9768257975578308
          },
          {
           "lower": 0.22627165019512177,
           "time": 34.583168029785156,
           "trajectory": "Wolves",
           "upper": 0.9792587578296661
          },
          {
           "lower": 0.22236145287752151,
           "time": 34.68136215209961,
           "trajectory": "Wolves",
           "upper": 0.986902728676796
          },
          {
           "lower": 0.2194741278886795,
           "time": 34.77956008911133,
           "trajectory": "Wolves",
           "upper": 0.98967787027359
          },
          {
           "lower": 0.21946358680725098,
           "time": 34.87775802612305,
           "trajectory": "Wolves",
           "upper": 0.9947674691677093
          },
          {
           "lower": 0.21704072132706642,
           "time": 34.9759521484375,
           "trajectory": "Wolves",
           "upper": 0.9874040722846985
          },
          {
           "lower": 0.21221753284335138,
           "time": 35.07415008544922,
           "trajectory": "Wolves",
           "upper": 0.9867628872394562
          },
          {
           "lower": 0.2088850162923336,
           "time": 35.17234420776367,
           "trajectory": "Wolves",
           "upper": 0.9872895181179047
          },
          {
           "lower": 0.2051271066069603,
           "time": 35.27054214477539,
           "trajectory": "Wolves",
           "upper": 0.9737116515636444
          },
          {
           "lower": 0.19921137690544127,
           "time": 35.36874008178711,
           "trajectory": "Wolves",
           "upper": 0.9534397929906844
          },
          {
           "lower": 0.19328893572092057,
           "time": 35.46693420410156,
           "trajectory": "Wolves",
           "upper": 0.9291817784309386
          },
          {
           "lower": 0.1880706124007702,
           "time": 35.56513214111328,
           "trajectory": "Wolves",
           "upper": 0.9017300635576246
          },
          {
           "lower": 0.18374776765704154,
           "time": 35.663330078125,
           "trajectory": "Wolves",
           "upper": 0.8718287050724028
          },
          {
           "lower": 0.18044356778264045,
           "time": 35.76152420043945,
           "trajectory": "Wolves",
           "upper": 0.8401537984609603
          },
          {
           "lower": 0.17781589925289154,
           "time": 35.85972213745117,
           "trajectory": "Wolves",
           "upper": 0.838287615776062
          },
          {
           "lower": 0.17685115560889245,
           "time": 35.957916259765625,
           "trajectory": "Wolves",
           "upper": 0.8782581955194473
          },
          {
           "lower": 0.17651358023285865,
           "time": 36.056114196777344,
           "trajectory": "Wolves",
           "upper": 0.9031823456287383
          },
          {
           "lower": 0.17541647106409072,
           "time": 36.15431213378906,
           "trajectory": "Wolves",
           "upper": 0.8767389118671417
          },
          {
           "lower": 0.17425118684768676,
           "time": 36.252506256103516,
           "trajectory": "Wolves",
           "upper": 0.8459935784339905
          },
          {
           "lower": 0.17419764325022696,
           "time": 36.35070037841797,
           "trajectory": "Wolves",
           "upper": 0.8399101436138152
          },
          {
           "lower": 0.17339342311024666,
           "time": 36.44889831542969,
           "trajectory": "Wolves",
           "upper": 0.867813330888748
          },
          {
           "lower": 0.17133173942565919,
           "time": 36.54709243774414,
           "trajectory": "Wolves",
           "upper": 0.9023440331220626
          },
          {
           "lower": 0.17077715024352075,
           "time": 36.64529037475586,
           "trajectory": "Wolves",
           "upper": 0.9324636578559874
          },
          {
           "lower": 0.1690235637128353,
           "time": 36.74348449707031,
           "trajectory": "Wolves",
           "upper": 0.9574289798736572
          },
          {
           "lower": 0.16846948787569999,
           "time": 36.84168243408203,
           "trajectory": "Wolves",
           "upper": 0.9766945660114288
          },
          {
           "lower": 0.16690961197018622,
           "time": 36.93988037109375,
           "trajectory": "Wolves",
           "upper": 0.9784235924482345
          },
          {
           "lower": 0.1658799521625042,
           "time": 37.0380744934082,
           "trajectory": "Wolves",
           "upper": 0.9686709612607955
          },
          {
           "lower": 0.16550885662436485,
           "time": 37.13627243041992,
           "trajectory": "Wolves",
           "upper": 0.9483280420303345
          },
          {
           "lower": 0.16554983854293823,
           "time": 37.23447036743164,
           "trajectory": "Wolves",
           "upper": 0.9513815075159071
          },
          {
           "lower": 0.16551879644393921,
           "time": 37.332664489746094,
           "trajectory": "Wolves",
           "upper": 0.938515371084213
          },
          {
           "lower": 0.1666104257106781,
           "time": 37.43086242675781,
           "trajectory": "Wolves",
           "upper": 0.9142257273197172
          },
          {
           "lower": 0.16982588320970535,
           "time": 37.529056549072266,
           "trajectory": "Wolves",
           "upper": 0.8906619012355802
          },
          {
           "lower": 0.17467070892453193,
           "time": 37.627254486083984,
           "trajectory": "Wolves",
           "upper": 0.8956397712230681
          },
          {
           "lower": 0.17906989976763726,
           "time": 37.7254524230957,
           "trajectory": "Wolves",
           "upper": 0.9054218500852584
          },
          {
           "lower": 0.18450178802013398,
           "time": 37.823646545410156,
           "trajectory": "Wolves",
           "upper": 0.9133259296417235
          },
          {
           "lower": 0.18393647372722627,
           "time": 37.921844482421875,
           "trajectory": "Wolves",
           "upper": 0.9148140907287595
          },
          {
           "lower": 0.17978139147162436,
           "time": 38.020042419433594,
           "trajectory": "Wolves",
           "upper": 0.9014464795589444
          },
          {
           "lower": 0.17623483017086983,
           "time": 38.11823654174805,
           "trajectory": "Wolves",
           "upper": 0.9042280673980712
          },
          {
           "lower": 0.17535646259784698,
           "time": 38.216434478759766,
           "trajectory": "Wolves",
           "upper": 0.9070893198251723
          },
          {
           "lower": 0.17748943343758583,
           "time": 38.31462860107422,
           "trajectory": "Wolves",
           "upper": 0.9348081707954405
          },
          {
           "lower": 0.1802469238638878,
           "time": 38.41282653808594,
           "trajectory": "Wolves",
           "upper": 0.9610650300979613
          },
          {
           "lower": 0.18075069710612296,
           "time": 38.511024475097656,
           "trajectory": "Wolves",
           "upper": 0.9667689472436904
          },
          {
           "lower": 0.17994418293237685,
           "time": 38.60921859741211,
           "trajectory": "Wolves",
           "upper": 0.9735250145196914
          },
          {
           "lower": 0.17771267220377923,
           "time": 38.70741271972656,
           "trajectory": "Wolves",
           "upper": 0.9830871045589447
          },
          {
           "lower": 0.17378287985920907,
           "time": 38.80561065673828,
           "trajectory": "Wolves",
           "upper": 0.9956873834133149
          },
          {
           "lower": 0.17184447944164277,
           "time": 38.903804779052734,
           "trajectory": "Wolves",
           "upper": 0.9964617758989334
          },
          {
           "lower": 0.16898305863142013,
           "time": 39.00200271606445,
           "trajectory": "Wolves",
           "upper": 0.9863021343946456
          },
          {
           "lower": 0.16669340208172798,
           "time": 39.100196838378906,
           "trajectory": "Wolves",
           "upper": 0.9826664566993714
          },
          {
           "lower": 0.16497921720147132,
           "time": 39.198394775390625,
           "trajectory": "Wolves",
           "upper": 0.9727314472198486
          },
          {
           "lower": 0.16416606903076172,
           "time": 39.296592712402344,
           "trajectory": "Wolves",
           "upper": 0.9792365282773972
          },
          {
           "lower": 0.1638589732348919,
           "time": 39.3947868347168,
           "trajectory": "Wolves",
           "upper": 0.9855025500059127
          },
          {
           "lower": 0.1642313100397587,
           "time": 39.492984771728516,
           "trajectory": "Wolves",
           "upper": 0.9948146313428878
          },
          {
           "lower": 0.16483238935470582,
           "time": 39.591182708740234,
           "trajectory": "Wolves",
           "upper": 0.9963617712259293
          },
          {
           "lower": 0.16590516418218612,
           "time": 39.68937683105469,
           "trajectory": "Wolves",
           "upper": 0.9987373322248458
          },
          {
           "lower": 0.1629737839102745,
           "time": 39.787574768066406,
           "trajectory": "Wolves",
           "upper": 1.00008482336998
          },
          {
           "lower": 0.1604690246284008,
           "time": 39.88576889038086,
           "trajectory": "Wolves",
           "upper": 0.9975865095853805
          },
          {
           "lower": 0.1584906168282032,
           "time": 39.98396682739258,
           "trajectory": "Wolves",
           "upper": 0.9969373792409897
          },
          {
           "lower": 0.1570437505841255,
           "time": 40.0821647644043,
           "trajectory": "Wolves",
           "upper": 1.0013433933258056
          },
          {
           "lower": 0.15613754987716674,
           "time": 40.18035888671875,
           "trajectory": "Wolves",
           "upper": 1.004535299539566
          },
          {
           "lower": 0.15617748349905014,
           "time": 40.27855682373047,
           "trajectory": "Wolves",
           "upper": 1.0031640112400055
          },
          {
           "lower": 0.15852109864354133,
           "time": 40.37675476074219,
           "trajectory": "Wolves",
           "upper": 1.00209139585495
          },
          {
           "lower": 0.16160307601094245,
           "time": 40.47494888305664,
           "trajectory": "Wolves",
           "upper": 1.0031655102968215
          },
          {
           "lower": 0.16548710390925409,
           "time": 40.57314682006836,
           "trajectory": "Wolves",
           "upper": 1.000268706679344
          },
          {
           "lower": 0.17024710550904273,
           "time": 40.67134094238281,
           "trajectory": "Wolves",
           "upper": 1.0053135573863983
          },
          {
           "lower": 0.17597175016999245,
           "time": 40.76953887939453,
           "trajectory": "Wolves",
           "upper": 1.0042481005191803
          },
          {
           "lower": 0.18276265785098075,
           "time": 40.86773681640625,
           "trajectory": "Wolves",
           "upper": 1.0015988886356353
          },
          {
           "lower": 0.19073781594634057,
           "time": 40.9659309387207,
           "trajectory": "Wolves",
           "upper": 0.9987025201320648
          },
          {
           "lower": 0.20003380924463274,
           "time": 41.06412887573242,
           "trajectory": "Wolves",
           "upper": 0.9941364258527756
          },
          {
           "lower": 0.20846241042017938,
           "time": 41.16232681274414,
           "trajectory": "Wolves",
           "upper": 0.9933387547731399
          },
          {
           "lower": 0.21300329491496087,
           "time": 41.260520935058594,
           "trajectory": "Wolves",
           "upper": 0.9923468470573424
          },
          {
           "lower": 0.22190933227539061,
           "time": 41.35871887207031,
           "trajectory": "Wolves",
           "upper": 0.9829826682806014
          },
          {
           "lower": 0.23667190596461296,
           "time": 41.456912994384766,
           "trajectory": "Wolves",
           "upper": 0.967493814229965
          },
          {
           "lower": 0.24873205795884132,
           "time": 41.555110931396484,
           "trajectory": "Wolves",
           "upper": 0.9696071535348892
          },
          {
           "lower": 0.252624849230051,
           "time": 41.6533088684082,
           "trajectory": "Wolves",
           "upper": 0.9495100855827331
          },
          {
           "lower": 0.24948872104287148,
           "time": 41.751502990722656,
           "trajectory": "Wolves",
           "upper": 0.9230954587459564
          },
          {
           "lower": 0.24057377353310586,
           "time": 41.849700927734375,
           "trajectory": "Wolves",
           "upper": 0.8931585371494293
          },
          {
           "lower": 0.23964940011501312,
           "time": 41.947898864746094,
           "trajectory": "Wolves",
           "upper": 0.8765404343605041
          },
          {
           "lower": 0.24154147878289223,
           "time": 42.04609298706055,
           "trajectory": "Wolves",
           "upper": 0.8842344284057617
          },
          {
           "lower": 0.23490473479032517,
           "time": 42.144290924072266,
           "trajectory": "Wolves",
           "upper": 0.9177514046430587
          },
          {
           "lower": 0.22757762968540193,
           "time": 42.24248504638672,
           "trajectory": "Wolves",
           "upper": 0.9464763581752776
          },
          {
           "lower": 0.2235584504902363,
           "time": 42.34068298339844,
           "trajectory": "Wolves",
           "upper": 0.9540556102991103
          },
          {
           "lower": 0.22396748512983322,
           "time": 42.438880920410156,
           "trajectory": "Wolves",
           "upper": 0.9755993127822875
          },
          {
           "lower": 0.22564252614974975,
           "time": 42.53707504272461,
           "trajectory": "Wolves",
           "upper": 0.9908364653587342
          },
          {
           "lower": 0.22745415866374968,
           "time": 42.63526916503906,
           "trajectory": "Wolves",
           "upper": 0.9996582806110382
          },
          {
           "lower": 0.22303478196263313,
           "time": 42.73346710205078,
           "trajectory": "Wolves",
           "upper": 0.9967845916748046
          },
          {
           "lower": 0.21770877838134767,
           "time": 42.831661224365234,
           "trajectory": "Wolves",
           "upper": 0.9930602729320526
          },
          {
           "lower": 0.21676131710410118,
           "time": 42.92985916137695,
           "trajectory": "Wolves",
           "upper": 0.9873218834400177
          },
          {
           "lower": 0.2125228926539421,
           "time": 43.028053283691406,
           "trajectory": "Wolves",
           "upper": 0.9763293206691742
          },
          {
           "lower": 0.20825617164373397,
           "time": 43.126251220703125,
           "trajectory": "Wolves",
           "upper": 0.9599705278873444
          },
          {
           "lower": 0.20480770468711854,
           "time": 43.224449157714844,
           "trajectory": "Wolves",
           "upper": 0.9704875797033309
          },
          {
           "lower": 0.19864267855882645,
           "time": 43.3226432800293,
           "trajectory": "Wolves",
           "upper": 0.9803441017866135
          },
          {
           "lower": 0.19278619289398194,
           "time": 43.420841217041016,
           "trajectory": "Wolves",
           "upper": 0.9819544672966002
          },
          {
           "lower": 0.18763251826167107,
           "time": 43.519039154052734,
           "trajectory": "Wolves",
           "upper": 0.9851570159196853
          },
          {
           "lower": 0.18316455334424972,
           "time": 43.61723327636719,
           "trajectory": "Wolves",
           "upper": 0.9856617510318756
          },
          {
           "lower": 0.17988908290863037,
           "time": 43.715431213378906,
           "trajectory": "Wolves",
           "upper": 0.9911581814289092
          },
          {
           "lower": 0.17933618202805518,
           "time": 43.81362533569336,
           "trajectory": "Wolves",
           "upper": 0.9942106962203979
          },
          {
           "lower": 0.18049367815256118,
           "time": 43.91182327270508,
           "trajectory": "Wolves",
           "upper": 0.999222519993782
          },
          {
           "lower": 0.18218330666422844,
           "time": 44.0100212097168,
           "trajectory": "Wolves",
           "upper": 0.9999788880348205
          },
          {
           "lower": 0.17931619584560393,
           "time": 44.10821533203125,
           "trajectory": "Wolves",
           "upper": 1.0049906104803086
          },
          {
           "lower": 0.17619916945695877,
           "time": 44.20641326904297,
           "trajectory": "Wolves",
           "upper": 1.0021923750638961
          },
          {
           "lower": 0.17557455822825432,
           "time": 44.30461120605469,
           "trajectory": "Wolves",
           "upper": 0.9986036211252213
          },
          {
           "lower": 0.1763834498822689,
           "time": 44.40280532836914,
           "trajectory": "Wolves",
           "upper": 0.9899148404598236
          },
          {
           "lower": 0.1755789965391159,
           "time": 44.50100326538086,
           "trajectory": "Wolves",
           "upper": 0.9872723191976547
          },
          {
           "lower": 0.1731801487505436,
           "time": 44.59919738769531,
           "trajectory": "Wolves",
           "upper": 0.9692124962806701
          },
          {
           "lower": 0.17481856048107147,
           "time": 44.69739532470703,
           "trajectory": "Wolves",
           "upper": 0.9520798653364181
          },
          {
           "lower": 0.1763616219162941,
           "time": 44.79559326171875,
           "trajectory": "Wolves",
           "upper": 0.950083702802658
          },
          {
           "lower": 0.17467631101608277,
           "time": 44.8937873840332,
           "trajectory": "Wolves",
           "upper": 0.9260579675436019
          },
          {
           "lower": 0.17083724737167358,
           "time": 44.99198532104492,
           "trajectory": "Wolves",
           "upper": 0.8992494136095046
          },
          {
           "lower": 0.1666094593703747,
           "time": 45.09018325805664,
           "trajectory": "Wolves",
           "upper": 0.8703008115291594
          },
          {
           "lower": 0.1656822994351387,
           "time": 45.188377380371094,
           "trajectory": "Wolves",
           "upper": 0.8571781814098357
          },
          {
           "lower": 0.1654304549098015,
           "time": 45.28657531738281,
           "trajectory": "Wolves",
           "upper": 0.8730472445487976
          },
          {
           "lower": 0.1663128986954689,
           "time": 45.384769439697266,
           "trajectory": "Wolves",
           "upper": 0.8788756728172301
          },
          {
           "lower": 0.16778351962566376,
           "time": 45.482967376708984,
           "trajectory": "Wolves",
           "upper": 0.8818724185228345
          },
          {
           "lower": 0.1688595473766327,
           "time": 45.5811653137207,
           "trajectory": "Wolves",
           "upper": 0.8816515505313869
          },
          {
           "lower": 0.17143086344003677,
           "time": 45.679359436035156,
           "trajectory": "Wolves",
           "upper": 0.8742863327264783
          },
          {
           "lower": 0.1752846710383892,
           "time": 45.77755355834961,
           "trajectory": "Wolves",
           "upper": 0.8763623982667923
          },
          {
           "lower": 0.17985443621873856,
           "time": 45.87575149536133,
           "trajectory": "Wolves",
           "upper": 0.8810112625360488
          },
          {
           "lower": 0.18417395576834678,
           "time": 45.97394561767578,
           "trajectory": "Wolves",
           "upper": 0.9080043017864226
          },
          {
           "lower": 0.18885962814092636,
           "time": 46.0721435546875,
           "trajectory": "Wolves",
           "upper": 0.9386744022369383
          },
          {
           "lower": 0.18875136002898216,
           "time": 46.17033767700195,
           "trajectory": "Wolves",
           "upper": 0.951682311296463
          },
          {
           "lower": 0.1875740148127079,
           "time": 46.26853561401367,
           "trajectory": "Wolves",
           "upper": 0.9526154279708862
          },
          {
           "lower": 0.18340350538492203,
           "time": 46.36673355102539,
           "trajectory": "Wolves",
           "upper": 0.967214611172676
          },
          {
           "lower": 0.1797109790146351,
           "time": 46.464927673339844,
           "trajectory": "Wolves",
           "upper": 0.9782778948545456
          },
          {
           "lower": 0.1780935861170292,
           "time": 46.56312561035156,
           "trajectory": "Wolves",
           "upper": 0.9929623037576676
          },
          {
           "lower": 0.18051922917366028,
           "time": 46.66132354736328,
           "trajectory": "Wolves",
           "upper": 0.9935926169157028
          },
          {
           "lower": 0.1835742212831974,
           "time": 46.759517669677734,
           "trajectory": "Wolves",
           "upper": 0.982981064915657
          },
          {
           "lower": 0.18483320698142053,
           "time": 46.85771560668945,
           "trajectory": "Wolves",
           "upper": 0.9751109391450882
          },
          {
           "lower": 0.18378577679395675,
           "time": 46.955909729003906,
           "trajectory": "Wolves",
           "upper": 0.9734359979629517
          },
          {
           "lower": 0.18323469310998916,
           "time": 47.054107666015625,
           "trajectory": "Wolves",
           "upper": 0.9589579313993454
          },
          {
           "lower": 0.18296254724264144,
           "time": 47.152305603027344,
           "trajectory": "Wolves",
           "upper": 0.9672924876213074
          },
          {
           "lower": 0.18928456977009772,
           "time": 47.2504997253418,
           "trajectory": "Wolves",
           "upper": 0.9726561933755874
          },
          {
           "lower": 0.1836253210902214,
           "time": 47.348697662353516,
           "trajectory": "Wolves",
           "upper": 0.9888338655233383
          },
          {
           "lower": 0.17733232229948043,
           "time": 47.446895599365234,
           "trajectory": "Wolves",
           "upper": 0.9925686925649643
          },
          {
           "lower": 0.1724783331155777,
           "time": 47.54508972167969,
           "trajectory": "Wolves",
           "upper": 0.995303800702095
          },
          {
           "lower": 0.16982696056365967,
           "time": 47.643287658691406,
           "trajectory": "Wolves",
           "upper": 0.9976611137390137
          },
          {
           "lower": 0.16763659566640854,
           "time": 47.74148178100586,
           "trajectory": "Wolves",
           "upper": 0.9995992243289947
          },
          {
           "lower": 0.16603316590189934,
           "time": 47.83967971801758,
           "trajectory": "Wolves",
           "upper": 0.9973608493804932
          },
          {
           "lower": 0.16775305867195128,
           "time": 47.9378776550293,
           "trajectory": "Wolves",
           "upper": 0.9954323470592499
          },
          {
           "lower": 0.16995794773101808,
           "time": 48.03607177734375,
           "trajectory": "Wolves",
           "upper": 0.9963240295648574
          },
          {
           "lower": 0.17077829837799072,
           "time": 48.13426971435547,
           "trajectory": "Wolves",
           "upper": 1.0007076144218445
          },
          {
           "lower": 0.17158592715859414,
           "time": 48.23246765136719,
           "trajectory": "Wolves",
           "upper": 1.0012928336858749
          },
          {
           "lower": 0.17150169163942336,
           "time": 48.33066177368164,
           "trajectory": "Wolves",
           "upper": 0.9991271167993545
          },
          {
           "lower": 0.1677117846906185,
           "time": 48.42885971069336,
           "trajectory": "Wolves",
           "upper": 1.0007474809885024
          },
          {
           "lower": 0.1644555762410164,
           "time": 48.52705383300781,
           "trajectory": "Wolves",
           "upper": 1.0012450426816941
          },
          {
           "lower": 0.1617278590798378,
           "time": 48.62525177001953,
           "trajectory": "Wolves",
           "upper": 0.9981553196907044
          },
          {
           "lower": 0.15952814891934394,
           "time": 48.72344970703125,
           "trajectory": "Wolves",
           "upper": 1.0005579859018325
          },
          {
           "lower": 0.15785960704088212,
           "time": 48.8216438293457,
           "trajectory": "Wolves",
           "upper": 1.0051156818866729
          },
          {
           "lower": 0.1567295730113983,
           "time": 48.919837951660156,
           "trajectory": "Wolves",
           "upper": 1.003503081202507
          },
          {
           "lower": 0.15729982852935792,
           "time": 49.018035888671875,
           "trajectory": "Wolves",
           "upper": 1.003023886680603
          },
          {
           "lower": 0.15950344130396843,
           "time": 49.11623001098633,
           "trajectory": "Wolves",
           "upper": 0.9974136888980866
          },
          {
           "lower": 0.16275647804141044,
           "time": 49.21442794799805,
           "trajectory": "Wolves",
           "upper": 0.9931495100259781
          },
          {
           "lower": 0.16683145835995675,
           "time": 49.3126220703125,
           "trajectory": "Wolves",
           "upper": 0.9876937597990035
          },
          {
           "lower": 0.17180634289979935,
           "time": 49.41082000732422,
           "trajectory": "Wolves",
           "upper": 0.9899403691291809
          },
          {
           "lower": 0.17777244374155998,
           "time": 49.50901794433594,
           "trajectory": "Wolves",
           "upper": 0.9889350175857543
          },
          {
           "lower": 0.18516932129859925,
           "time": 49.60721206665039,
           "trajectory": "Wolves",
           "upper": 0.9785982936620711
          },
          {
           "lower": 0.19280534088611603,
           "time": 49.70541000366211,
           "trajectory": "Wolves",
           "upper": 0.961494669318199
          },
          {
           "lower": 0.19997676312923432,
           "time": 49.80360794067383,
           "trajectory": "Wolves",
           "upper": 0.9558734208345413
          },
          {
           "lower": 0.20854627192020417,
           "time": 49.90180206298828,
           "trajectory": "Wolves",
           "upper": 0.9501699745655059
          },
          {
           "lower": 0.21367589011788368,
           "time": 50,
           "trajectory": "Wolves",
           "upper": 0.9239561259746552
          }
         ]
        },
        {
         "name": "tracks",
         "values": [
          {
           "time": 1,
           "trajectory": "Wolf Example",
           "value": 0.808411180973053
          },
          {
           "time": 1.0981963872909546,
           "trajectory": "Wolf Example",
           "value": 0.7795935869216919
          },
          {
           "time": 1.1963927745819092,
           "trajectory": "Wolf Example",
           "value": 0.7506109476089478
          },
          {
           "time": 1.2945891618728638,
           "trajectory": "Wolf Example",
           "value": 0.7217299938201904
          },
          {
           "time": 1.3927855491638184,
           "trajectory": "Wolf Example",
           "value": 0.6931768655776978
          },
          {
           "time": 1.490981936454773,
           "trajectory": "Wolf Example",
           "value": 0.6651385426521301
          },
          {
           "time": 1.5891783237457275,
           "trajectory": "Wolf Example",
           "value": 0.6377702951431274
          },
          {
           "time": 1.6873748302459717,
           "trajectory": "Wolf Example",
           "value": 0.6111935377120972
          },
          {
           "time": 1.7855710983276367,
           "trajectory": "Wolf Example",
           "value": 0.585505485534668
          },
          {
           "time": 1.8837674856185913,
           "trajectory": "Wolf Example",
           "value": 0.5607771277427673
          },
          {
           "time": 1.981963872909546,
           "trajectory": "Wolf Example",
           "value": 0.5370635986328125
          },
          {
           "time": 2.08016037940979,
           "trajectory": "Wolf Example",
           "value": 0.5144001245498657
          },
          {
           "time": 2.178356647491455,
           "trajectory": "Wolf Example",
           "value": 0.49280840158462524
          },
          {
           "time": 2.276553153991699,
           "trajectory": "Wolf Example",
           "value": 0.47229844331741333
          },
          {
           "time": 2.3747494220733643,
           "trajectory": "Wolf Example",
           "value": 0.45287129282951355
          },
          {
           "time": 2.4729459285736084,
           "trajectory": "Wolf Example",
           "value": 0.4345192313194275
          },
          {
           "time": 2.5711421966552734,
           "trajectory": "Wolf Example",
           "value": 0.41722890734672546
          },
          {
           "time": 2.6693387031555176,
           "trajectory": "Wolf Example",
           "value": 0.40098297595977783
          },
          {
           "time": 2.7675349712371826,
           "trajectory": "Wolf Example",
           "value": 0.38576027750968933
          },
          {
           "time": 2.8657314777374268,
           "trajectory": "Wolf Example",
           "value": 0.37153735756874084
          },
          {
           "time": 2.963927745819092,
           "trajectory": "Wolf Example",
           "value": 0.35828977823257446
          },
          {
           "time": 3.062124252319336,
           "trajectory": "Wolf Example",
           "value": 0.34599223732948303
          },
          {
           "time": 3.160320520401001,
           "trajectory": "Wolf Example",
           "value": 0.3346201777458191
          },
          {
           "time": 3.258517026901245,
           "trajectory": "Wolf Example",
           "value": 0.3241490423679352
          },
          {
           "time": 3.3567135334014893,
           "trajectory": "Wolf Example",
           "value": 0.3145560622215271
          },
          {
           "time": 3.4549100399017334,
           "trajectory": "Wolf Example",
           "value": 0.3058202564716339
          },
          {
           "time": 3.5531063079833984,
           "trajectory": "Wolf Example",
           "value": 0.29792335629463196
          },
          {
           "time": 3.6513028144836426,
           "trajectory": "Wolf Example",
           "value": 0.2908482253551483
          },
          {
           "time": 3.7494990825653076,
           "trajectory": "Wolf Example",
           "value": 0.28458184003829956
          },
          {
           "time": 3.8476955890655518,
           "trajectory": "Wolf Example",
           "value": 0.2791150212287903
          },
          {
           "time": 3.945891857147217,
           "trajectory": "Wolf Example",
           "value": 0.274440735578537
          },
          {
           "time": 4.044088363647461,
           "trajectory": "Wolf Example",
           "value": 0.2705571949481964
          },
          {
           "time": 4.142284393310547,
           "trajectory": "Wolf Example",
           "value": 0.2674659788608551
          },
          {
           "time": 4.240480899810791,
           "trajectory": "Wolf Example",
           "value": 0.26517507433891296
          },
          {
           "time": 4.338677406311035,
           "trajectory": "Wolf Example",
           "value": 0.2636965811252594
          },
          {
           "time": 4.436873435974121,
           "trajectory": "Wolf Example",
           "value": 0.26304832100868225
          },
          {
           "time": 4.535069942474365,
           "trajectory": "Wolf Example",
           "value": 0.26325473189353943
          },
          {
           "time": 4.633266448974609,
           "trajectory": "Wolf Example",
           "value": 0.26434728503227234
          },
          {
           "time": 4.7314629554748535,
           "trajectory": "Wolf Example",
           "value": 0.2663639187812805
          },
          {
           "time": 4.8296589851379395,
           "trajectory": "Wolf Example",
           "value": 0.26935112476348877
          },
          {
           "time": 4.927855491638184,
           "trajectory": "Wolf Example",
           "value": 0.273363322019577
          },
          {
           "time": 5.026051998138428,
           "trajectory": "Wolf Example",
           "value": 0.27846479415893555
          },
          {
           "time": 5.124248504638672,
           "trajectory": "Wolf Example",
           "value": 0.2847287356853485
          },
          {
           "time": 5.222444534301758,
           "trajectory": "Wolf Example",
           "value": 0.2922387719154358
          },
          {
           "time": 5.320641040802002,
           "trajectory": "Wolf Example",
           "value": 0.3010880947113037
          },
          {
           "time": 5.418837547302246,
           "trajectory": "Wolf Example",
           "value": 0.31137996912002563
          },
          {
           "time": 5.51703405380249,
           "trajectory": "Wolf Example",
           "value": 0.3232273459434509
          },
          {
           "time": 5.615230083465576,
           "trajectory": "Wolf Example",
           "value": 0.3367508053779602
          },
          {
           "time": 5.7134270668029785,
           "trajectory": "Wolf Example",
           "value": 0.352078378200531
          },
          {
           "time": 5.811623573303223,
           "trajectory": "Wolf Example",
           "value": 0.3693385124206543
          },
          {
           "time": 5.909820079803467,
           "trajectory": "Wolf Example",
           "value": 0.3886597752571106
          },
          {
           "time": 6.008016109466553,
           "trajectory": "Wolf Example",
           "value": 0.4101610779762268
          },
          {
           "time": 6.106212615966797,
           "trajectory": "Wolf Example",
           "value": 0.43394604325294495
          },
          {
           "time": 6.204409122467041,
           "trajectory": "Wolf Example",
           "value": 0.4600899815559387
          },
          {
           "time": 6.302605628967285,
           "trajectory": "Wolf Example",
           "value": 0.48862865567207336
          },
          {
           "time": 6.400801658630371,
           "trajectory": "Wolf Example",
           "value": 0.5195426344871521
          },
          {
           "time": 6.498998165130615,
           "trajectory": "Wolf Example",
           "value": 0.5527430176734924
          },
          {
           "time": 6.597194671630859,
           "trajectory": "Wolf Example",
           "value": 0.5880531072616577
          },
          {
           "time": 6.6953911781311035,
           "trajectory": "Wolf Example",
           "value": 0.6251963973045349
          },
          {
           "time": 6.7935872077941895,
           "trajectory": "Wolf Example",
           "value": 0.6637829542160034
          },
          {
           "time": 6.891783714294434,
           "trajectory": "Wolf Example",
           "value": 0.7033105492591858
          },
          {
           "time": 6.989980220794678,
           "trajectory": "Wolf Example",
           "value": 0.743162214756012
          },
          {
           "time": 7.088176727294922,
           "trajectory": "Wolf Example",
           "value": 0.7826277017593384
          },
          {
           "time": 7.186372756958008,
           "trajectory": "Wolf Example",
           "value": 0.8209250569343567
          },
          {
           "time": 7.284569263458252,
           "trajectory": "Wolf Example",
           "value": 0.8572376370429993
          },
          {
           "time": 7.382765769958496,
           "trajectory": "Wolf Example",
           "value": 0.8907544016838074
          },
          {
           "time": 7.48096227645874,
           "trajectory": "Wolf Example",
           "value": 0.9207223653793335
          },
          {
           "time": 7.579158306121826,
           "trajectory": "Wolf Example",
           "value": 0.9464809894561768
          },
          {
           "time": 7.67735481262207,
           "trajectory": "Wolf Example",
           "value": 0.9675074815750122
          },
          {
           "time": 7.7755513191223145,
           "trajectory": "Wolf Example",
           "value": 0.9834316372871399
          },
          {
           "time": 7.873747825622559,
           "trajectory": "Wolf Example",
           "value": 0.9940605163574219
          },
          {
           "time": 7.9719438552856445,
           "trajectory": "Wolf Example",
           "value": 0.9993640184402466
          },
          {
           "time": 8.070140838623047,
           "trajectory": "Wolf Example",
           "value": 0.9994732141494751
          },
          {
           "time": 8.168336868286133,
           "trajectory": "Wolf Example",
           "value": 0.9946495294570923
          },
          {
           "time": 8.266533851623535,
           "trajectory": "Wolf Example",
           "value": 0.9852628707885742
          },
          {
           "time": 8.364729881286621,
           "trajectory": "Wolf Example",
           "value": 0.971760094165802
          },
          {
           "time": 8.462926864624023,
           "trajectory": "Wolf Example",
           "value": 0.9546383023262024
          },
          {
           "time": 8.56112289428711,
           "trajectory": "Wolf Example",
           "value": 0.9344140291213989
          },
          {
           "time": 8.659318923950195,
           "trajectory": "Wolf Example",
           "value": 0.9116086959838867
          },
          {
           "time": 8.757515907287598,
           "trajectory": "Wolf Example",
           "value": 0.8867232799530029
          },
          {
           "time": 8.855710983276367,
           "trajectory": "Wolf Example",
           "value": 0.8602336049079895
          },
          {
           "time": 8.953907012939453,
           "trajectory": "Wolf Example",
           "value": 0.8325746655464172
          },
          {
           "time": 9.052103996276855,
           "trajectory": "Wolf Example",
           "value": 0.8041395545005798
          },
          {
           "time": 9.150300025939941,
           "trajectory": "Wolf Example",
           "value": 0.7752797603607178
          },
          {
           "time": 9.248497009277344,
           "trajectory": "Wolf Example",
           "value": 0.7462969422340393
          },
          {
           "time": 9.34669303894043,
           "trajectory": "Wolf Example",
           "value": 0.7174507975578308
          },
          {
           "time": 9.444889068603516,
           "trajectory": "Wolf Example",
           "value": 0.6889626979827881
          },
          {
           "time": 9.543086051940918,
           "trajectory": "Wolf Example",
           "value": 0.6610161662101746
          },
          {
           "time": 9.64128303527832,
           "trajectory": "Wolf Example",
           "value": 0.6337576508522034
          },
          {
           "time": 9.739479064941406,
           "trajectory": "Wolf Example",
           "value": 0.6073065400123596
          },
          {
           "time": 9.837676048278809,
           "trajectory": "Wolf Example",
           "value": 0.5817582607269287
          },
          {
           "time": 9.935872077941895,
           "trajectory": "Wolf Example",
           "value": 0.5571790337562561
          },
          {
           "time": 10.034069061279297,
           "trajectory": "Wolf Example",
           "value": 0.5336198210716248
          },
          {
           "time": 10.132265090942383,
           "trajectory": "Wolf Example",
           "value": 0.5111148357391357
          },
          {
           "time": 10.230461120605469,
           "trajectory": "Wolf Example",
           "value": 0.4896831512451172
          },
          {
           "time": 10.328658103942871,
           "trajectory": "Wolf Example",
           "value": 0.46933573484420776
          },
          {
           "time": 10.426854133605957,
           "trajectory": "Wolf Example",
           "value": 0.450068861246109
          },
          {
           "time": 10.525050163269043,
           "trajectory": "Wolf Example",
           "value": 0.43187636137008667
          },
          {
           "time": 10.623247146606445,
           "trajectory": "Wolf Example",
           "value": 0.4147428274154663
          },
          {
           "time": 10.721443176269531,
           "trajectory": "Wolf Example",
           "value": 0.3986508548259735
          },
          {
           "time": 10.819640159606934,
           "trajectory": "Wolf Example",
           "value": 0.38357844948768616
          },
          {
           "time": 10.91783618927002,
           "trajectory": "Wolf Example",
           "value": 0.36950263381004333
          },
          {
           "time": 11.016032218933105,
           "trajectory": "Wolf Example",
           "value": 0.3563985526561737
          },
          {
           "time": 11.114229202270508,
           "trajectory": "Wolf Example",
           "value": 0.34424006938934326
          },
          {
           "time": 11.212425231933594,
           "trajectory": "Wolf Example",
           "value": 0.3330037295818329
          },
          {
           "time": 11.31062126159668,
           "trajectory": "Wolf Example",
           "value": 0.32266518473625183
          },
          {
           "time": 11.408818244934082,
           "trajectory": "Wolf Example",
           "value": 0.3132008910179138
          },
          {
           "time": 11.507014274597168,
           "trajectory": "Wolf Example",
           "value": 0.3045913279056549
          },
          {
           "time": 11.60521125793457,
           "trajectory": "Wolf Example",
           "value": 0.2968173325061798
          },
          {
           "time": 11.703407287597656,
           "trajectory": "Wolf Example",
           "value": 0.28986334800720215
          },
          {
           "time": 11.801603317260742,
           "trajectory": "Wolf Example",
           "value": 0.28371718525886536
          },
          {
           "time": 11.899800300598145,
           "trajectory": "Wolf Example",
           "value": 0.27836844325065613
          },
          {
           "time": 11.99799633026123,
           "trajectory": "Wolf Example",
           "value": 0.2738122344017029
          },
          {
           "time": 12.096192359924316,
           "trajectory": "Wolf Example",
           "value": 0.27004602551460266
          },
          {
           "time": 12.194389343261719,
           "trajectory": "Wolf Example",
           "value": 0.26707378029823303
          },
          {
           "time": 12.292585372924805,
           "trajectory": "Wolf Example",
           "value": 0.26490318775177
          },
          {
           "time": 12.390782356262207,
           "trajectory": "Wolf Example",
           "value": 0.2635466754436493
          },
          {
           "time": 12.488978385925293,
           "trajectory": "Wolf Example",
           "value": 0.263024240732193
          },
          {
           "time": 12.587174415588379,
           "trajectory": "Wolf Example",
           "value": 0.26336055994033813
          },
          {
           "time": 12.685371398925781,
           "trajectory": "Wolf Example",
           "value": 0.26458796858787537
          },
          {
           "time": 12.783567428588867,
           "trajectory": "Wolf Example",
           "value": 0.26674604415893555
          },
          {
           "time": 12.881763458251953,
           "trajectory": "Wolf Example",
           "value": 0.2698821425437927
          },
          {
           "time": 12.979960441589355,
           "trajectory": "Wolf Example",
           "value": 0.27405232191085815
          },
          {
           "time": 13.078156471252441,
           "trajectory": "Wolf Example",
           "value": 0.2793223261833191
          },
          {
           "time": 13.176353454589844,
           "trajectory": "Wolf Example",
           "value": 0.28576648235321045
          },
          {
           "time": 13.27454948425293,
           "trajectory": "Wolf Example",
           "value": 0.29346951842308044
          },
          {
           "time": 13.372745513916016,
           "trajectory": "Wolf Example",
           "value": 0.3025270700454712
          },
          {
           "time": 13.470942497253418,
           "trajectory": "Wolf Example",
           "value": 0.3130435645580292
          },
          {
           "time": 13.569138526916504,
           "trajectory": "Wolf Example",
           "value": 0.3251327574253082
          },
          {
           "time": 13.66733455657959,
           "trajectory": "Wolf Example",
           "value": 0.33891695737838745
          },
          {
           "time": 13.765531539916992,
           "trajectory": "Wolf Example",
           "value": 0.35452404618263245
          },
          {
           "time": 13.863727569580078,
           "trajectory": "Wolf Example",
           "value": 0.3720831573009491
          },
          {
           "time": 13.96192455291748,
           "trajectory": "Wolf Example",
           "value": 0.391722172498703
          },
          {
           "time": 14.060120582580566,
           "trajectory": "Wolf Example",
           "value": 0.41355738043785095
          },
          {
           "time": 14.158316612243652,
           "trajectory": "Wolf Example",
           "value": 0.43768948316574097
          },
          {
           "time": 14.256513595581055,
           "trajectory": "Wolf Example",
           "value": 0.46418941020965576
          },
          {
           "time": 14.35470962524414,
           "trajectory": "Wolf Example",
           "value": 0.49308454990386963
          },
          {
           "time": 14.452905654907227,
           "trajectory": "Wolf Example",
           "value": 0.5243468284606934
          },
          {
           "time": 14.551102638244629,
           "trajectory": "Wolf Example",
           "value": 0.5578747987747192
          },
          {
           "time": 14.649298667907715,
           "trajectory": "Wolf Example",
           "value": 0.5934782028198242
          },
          {
           "time": 14.747495651245117,
           "trajectory": "Wolf Example",
           "value": 0.6308640837669373
          },
          {
           "time": 14.845691680908203,
           "trajectory": "Wolf Example",
           "value": 0.6696280241012573
          },
          {
           "time": 14.943887710571289,
           "trajectory": "Wolf Example",
           "value": 0.7092424035072327
          },
          {
           "time": 15.042084693908691,
           "trajectory": "Wolf Example",
           "value": 0.7490830421447754
          },
          {
           "time": 15.140280723571777,
           "trajectory": "Wolf Example",
           "value": 0.7884268164634705
          },
          {
           "time": 15.238476753234863,
           "trajectory": "Wolf Example",
           "value": 0.8264791369438171
          },
          {
           "time": 15.336673736572266,
           "trajectory": "Wolf Example",
           "value": 0.8624264001846313
          },
          {
           "time": 15.434869766235352,
           "trajectory": "Wolf Example",
           "value": 0.8954609036445618
          },
          {
           "time": 15.533066749572754,
           "trajectory": "Wolf Example",
           "value": 0.92484050989151
          },
          {
           "time": 15.63126277923584,
           "trajectory": "Wolf Example",
           "value": 0.949922502040863
          },
          {
           "time": 15.729458808898926,
           "trajectory": "Wolf Example",
           "value": 0.9702091217041016
          },
          {
           "time": 15.827655792236328,
           "trajectory": "Wolf Example",
           "value": 0.9853528141975403
          },
          {
           "time": 15.925851821899414,
           "trajectory": "Wolf Example",
           "value": 0.9951866269111633
          },
          {
           "time": 16.0240478515625,
           "trajectory": "Wolf Example",
           "value": 0.9997047781944275
          },
          {
           "time": 16.122243881225586,
           "trajectory": "Wolf Example",
           "value": 0.9990596175193787
          },
          {
           "time": 16.220441818237305,
           "trajectory": "Wolf Example",
           "value": 0.9935302138328552
          },
          {
           "time": 16.31863784790039,
           "trajectory": "Wolf Example",
           "value": 0.9835006594657898
          },
          {
           "time": 16.416833877563477,
           "trajectory": "Wolf Example",
           "value": 0.9694269895553589
          },
          {
           "time": 16.515029907226562,
           "trajectory": "Wolf Example",
           "value": 0.9518097043037415
          },
          {
           "time": 16.61322593688965,
           "trajectory": "Wolf Example",
           "value": 0.9311686754226685
          },
          {
           "time": 16.711421966552734,
           "trajectory": "Wolf Example",
           "value": 0.9080215096473694
          },
          {
           "time": 16.80961799621582,
           "trajectory": "Wolf Example",
           "value": 0.8828684687614441
          },
          {
           "time": 16.907814025878906,
           "trajectory": "Wolf Example",
           "value": 0.8561773896217346
          },
          {
           "time": 17.006011962890625,
           "trajectory": "Wolf Example",
           "value": 0.8283780813217163
          },
          {
           "time": 17.10420799255371,
           "trajectory": "Wolf Example",
           "value": 0.7998598217964172
          },
          {
           "time": 17.202404022216797,
           "trajectory": "Wolf Example",
           "value": 0.7709624767303467
          },
          {
           "time": 17.300600051879883,
           "trajectory": "Wolf Example",
           "value": 0.7419847249984741
          },
          {
           "time": 17.39879608154297,
           "trajectory": "Wolf Example",
           "value": 0.7131798267364502
          },
          {
           "time": 17.496994018554688,
           "trajectory": "Wolf Example",
           "value": 0.684762179851532
          },
          {
           "time": 17.595190048217773,
           "trajectory": "Wolf Example",
           "value": 0.6569086909294128
          },
          {
           "time": 17.69338607788086,
           "trajectory": "Wolf Example",
           "value": 0.6297639012336731
          },
          {
           "time": 17.791584014892578,
           "trajectory": "Wolf Example",
           "value": 0.6034427285194397
          },
          {
           "time": 17.889780044555664,
           "trajectory": "Wolf Example",
           "value": 0.5780338644981384
          },
          {
           "time": 17.98797607421875,
           "trajectory": "Wolf Example",
           "value": 0.5536037087440491
          },
          {
           "time": 18.086172103881836,
           "trajectory": "Wolf Example",
           "value": 0.5302000641822815
          },
          {
           "time": 18.184368133544922,
           "trajectory": "Wolf Example",
           "value": 0.507854163646698
          },
          {
           "time": 18.28256607055664,
           "trajectory": "Wolf Example",
           "value": 0.4865840673446655
          },
          {
           "time": 18.380762100219727,
           "trajectory": "Wolf Example",
           "value": 0.46639737486839294
          },
          {
           "time": 18.478958129882812,
           "trajectory": "Wolf Example",
           "value": 0.4472912847995758
          },
          {
           "time": 18.57715606689453,
           "trajectory": "Wolf Example",
           "value": 0.4292568266391754
          },
          {
           "time": 18.675352096557617,
           "trajectory": "Wolf Example",
           "value": 0.41228002309799194
          },
          {
           "time": 18.773548126220703,
           "trajectory": "Wolf Example",
           "value": 0.3963412642478943
          },
          {
           "time": 18.87174415588379,
           "trajectory": "Wolf Example",
           "value": 0.38141900300979614
          },
          {
           "time": 18.969940185546875,
           "trajectory": "Wolf Example",
           "value": 0.36748939752578735
          },
          {
           "time": 19.06813621520996,
           "trajectory": "Wolf Example",
           "value": 0.3545275926589966
          },
          {
           "time": 19.166332244873047,
           "trajectory": "Wolf Example",
           "value": 0.34250837564468384
          },
          {
           "time": 19.264528274536133,
           "trajectory": "Wolf Example",
           "value": 0.3314068615436554
          },
          {
           "time": 19.36272621154785,
           "trajectory": "Wolf Example",
           "value": 0.32120001316070557
          },
          {
           "time": 19.460922241210938,
           "trajectory": "Wolf Example",
           "value": 0.3118647038936615
          },
          {
           "time": 19.559118270874023,
           "trajectory": "Wolf Example",
           "value": 0.3033807873725891
          },
          {
           "time": 19.65731430053711,
           "trajectory": "Wolf Example",
           "value": 0.29573026299476624
          },
          {
           "time": 19.755510330200195,
           "trajectory": "Wolf Example",
           "value": 0.28889724612236023
          },
          {
           "time": 19.853708267211914,
           "trajectory": "Wolf Example",
           "value": 0.282869815826416
          },
          {
           "time": 19.951904296875,
           "trajectory": "Wolf Example",
           "value": 0.27763915061950684
          },
          {
           "time": 20.050100326538086,
           "trajectory": "Wolf Example",
           "value": 0.2732008695602417
          },
          {
           "time": 20.148298263549805,
           "trajectory": "Wolf Example",
           "value": 0.269553005695343
          },
          {
           "time": 20.24649429321289,
           "trajectory": "Wolf Example",
           "value": 0.2667000889778137
          },
          {
           "time": 20.344690322875977,
           "trajectory": "Wolf Example",
           "value": 0.2646489441394806
          },
          {
           "time": 20.442886352539062,
           "trajectory": "Wolf Example",
           "value": 0.263415664434433
          },
          {
           "time": 20.54108238220215,
           "trajectory": "Wolf Example",
           "value": 0.26301926374435425
          },
          {
           "time": 20.639278411865234,
           "trajectory": "Wolf Example",
           "value": 0.26348626613616943
          },
          {
           "time": 20.73747444152832,
           "trajectory": "Wolf Example",
           "value": 0.2648499011993408
          },
          {
           "time": 20.835670471191406,
           "trajectory": "Wolf Example",
           "value": 0.26715007424354553
          },
          {
           "time": 20.933868408203125,
           "trajectory": "Wolf Example",
           "value": 0.270436555147171
          },
          {
           "time": 21.03206443786621,
           "trajectory": "Wolf Example",
           "value": 0.2747664451599121
          },
          {
           "time": 21.130260467529297,
           "trajectory": "Wolf Example",
           "value": 0.2802061140537262
          },
          {
           "time": 21.228456497192383,
           "trajectory": "Wolf Example",
           "value": 0.2868325710296631
          },
          {
           "time": 21.32665252685547,
           "trajectory": "Wolf Example",
           "value": 0.2947308421134949
          },
          {
           "time": 21.424850463867188,
           "trajectory": "Wolf Example",
           "value": 0.30399882793426514
          },
          {
           "time": 21.523046493530273,
           "trajectory": "Wolf Example",
           "value": 0.3147420585155487
          },
          {
           "time": 21.62124252319336,
           "trajectory": "Wolf Example",
           "value": 0.32707592844963074
          },
          {
           "time": 21.719440460205078,
           "trajectory": "Wolf Example",
           "value": 0.34112364053726196
          },
          {
           "time": 21.817636489868164,
           "trajectory": "Wolf Example",
           "value": 0.3570133149623871
          },
          {
           "time": 21.91583251953125,
           "trajectory": "Wolf Example",
           "value": 0.3748745918273926
          },
          {
           "time": 22.014028549194336,
           "trajectory": "Wolf Example",
           "value": 0.39483311772346497
          },
          {
           "time": 22.112224578857422,
           "trajectory": "Wolf Example",
           "value": 0.41700494289398193
          },
          {
           "time": 22.210420608520508,
           "trajectory": "Wolf Example",
           "value": 0.4414856731891632
          },
          {
           "time": 22.308616638183594,
           "trajectory": "Wolf Example",
           "value": 0.4683420956134796
          },
          {
           "time": 22.40681266784668,
           "trajectory": "Wolf Example",
           "value": 0.49759334325790405
          },
          {
           "time": 22.5050106048584,
           "trajectory": "Wolf Example",
           "value": 0.5292019248008728
          },
          {
           "time": 22.603206634521484,
           "trajectory": "Wolf Example",
           "value": 0.5630529522895813
          },
          {
           "time": 22.70140266418457,
           "trajectory": "Wolf Example",
           "value": 0.5989434123039246
          },
          {
           "time": 22.799598693847656,
           "trajectory": "Wolf Example",
           "value": 0.6365622878074646
          },
          {
           "time": 22.897794723510742,
           "trajectory": "Wolf Example",
           "value": 0.6754870414733887
          },
          {
           "time": 22.99599266052246,
           "trajectory": "Wolf Example",
           "value": 0.7151792645454407
          },
          {
           "time": 23.094188690185547,
           "trajectory": "Wolf Example",
           "value": 0.7549958229064941
          },
          {
           "time": 23.192384719848633,
           "trajectory": "Wolf Example",
           "value": 0.7941973805427551
          },
          {
           "time": 23.29058265686035,
           "trajectory": "Wolf Example",
           "value": 0.8319893479347229
          },
          {
           "time": 23.388778686523438,
           "trajectory": "Wolf Example",
           "value": 0.867551326751709
          },
          {
           "time": 23.486974716186523,
           "trajectory": "Wolf Example",
           "value": 0.900086522102356
          },
          {
           "time": 23.58517074584961,
           "trajectory": "Wolf Example",
           "value": 0.9288633465766907
          },
          {
           "time": 23.683366775512695,
           "trajectory": "Wolf Example",
           "value": 0.9532602429389954
          },
          {
           "time": 23.78156280517578,
           "trajectory": "Wolf Example",
           "value": 0.972797155380249
          },
          {
           "time": 23.879758834838867,
           "trajectory": "Wolf Example",
           "value": 0.9871572256088257
          },
          {
           "time": 23.977954864501953,
           "trajectory": "Wolf Example",
           "value": 0.9961942434310913
          },
          {
           "time": 24.076152801513672,
           "trajectory": "Wolf Example",
           "value": 0.9999300837516785
          },
          {
           "time": 24.174348831176758,
           "trajectory": "Wolf Example",
           "value": 0.9985365867614746
          },
          {
           "time": 24.272544860839844,
           "trajectory": "Wolf Example",
           "value": 0.9923104047775269
          },
          {
           "time": 24.37074089050293,
           "trajectory": "Wolf Example",
           "value": 0.9816483855247498
          },
          {
           "time": 24.468936920166016,
           "trajectory": "Wolf Example",
           "value": 0.967014491558075
          },
          {
           "time": 24.567134857177734,
           "trajectory": "Wolf Example",
           "value": 0.948913037776947
          },
          {
           "time": 24.66533088684082,
           "trajectory": "Wolf Example",
           "value": 0.9278650879859924
          },
          {
           "time": 24.763526916503906,
           "trajectory": "Wolf Example",
           "value": 0.9043893814086914
          },
          {
           "time": 24.861724853515625,
           "trajectory": "Wolf Example",
           "value": 0.8789771795272827
          },
          {
           "time": 24.95992088317871,
           "trajectory": "Wolf Example",
           "value": 0.8520954847335815
          },
          {
           "time": 25.058116912841797,
           "trajectory": "Wolf Example",
           "value": 0.8241661190986633
          },
          {
           "time": 25.156312942504883,
           "trajectory": "Wolf Example",
           "value": 0.7955708503723145
          },
          {
           "time": 25.25450897216797,
           "trajectory": "Wolf Example",
           "value": 0.766643762588501
          },
          {
           "time": 25.352705001831055,
           "trajectory": "Wolf Example",
           "value": 0.7376759648323059
          },
          {
           "time": 25.45090103149414,
           "trajectory": "Wolf Example",
           "value": 0.7089166641235352
          },
          {
           "time": 25.549097061157227,
           "trajectory": "Wolf Example",
           "value": 0.6805726289749146
          },
          {
           "time": 25.647294998168945,
           "trajectory": "Wolf Example",
           "value": 0.6528164744377136
          },
          {
           "time": 25.74549102783203,
           "trajectory": "Wolf Example",
           "value": 0.6257879734039307
          },
          {
           "time": 25.843687057495117,
           "trajectory": "Wolf Example",
           "value": 0.5995977520942688
          },
          {
           "time": 25.941883087158203,
           "trajectory": "Wolf Example",
           "value": 0.5743312239646912
          },
          {
           "time": 26.04007911682129,
           "trajectory": "Wolf Example",
           "value": 0.5500520467758179
          },
          {
           "time": 26.138275146484375,
           "trajectory": "Wolf Example",
           "value": 0.5268036127090454
          },
          {
           "time": 26.23647117614746,
           "trajectory": "Wolf Example",
           "value": 0.5046176910400391
          },
          {
           "time": 26.334667205810547,
           "trajectory": "Wolf Example",
           "value": 0.4835086166858673
          },
          {
           "time": 26.432865142822266,
           "trajectory": "Wolf Example",
           "value": 0.4634826183319092
          },
          {
           "time": 26.53106117248535,
           "trajectory": "Wolf Example",
           "value": 0.4445367753505707
          },
          {
           "time": 26.629257202148438,
           "trajectory": "Wolf Example",
           "value": 0.4266616702079773
          },
          {
           "time": 26.727453231811523,
           "trajectory": "Wolf Example",
           "value": 0.4098406136035919
          },
          {
           "time": 26.82564926147461,
           "trajectory": "Wolf Example",
           "value": 0.39405474066734314
          },
          {
           "time": 26.923847198486328,
           "trajectory": "Wolf Example",
           "value": 0.3792816698551178
          },
          {
           "time": 27.022043228149414,
           "trajectory": "Wolf Example",
           "value": 0.3654977083206177
          },
          {
           "time": 27.1202392578125,
           "trajectory": "Wolf Example",
           "value": 0.3526779115200043
          },
          {
           "time": 27.21843719482422,
           "trajectory": "Wolf Example",
           "value": 0.3407970666885376
          },
          {
           "time": 27.316633224487305,
           "trajectory": "Wolf Example",
           "value": 0.32983049750328064
          },
          {
           "time": 27.41482925415039,
           "trajectory": "Wolf Example",
           "value": 0.31975454092025757
          },
          {
           "time": 27.513025283813477,
           "trajectory": "Wolf Example",
           "value": 0.31054744124412537
          },
          {
           "time": 27.611221313476562,
           "trajectory": "Wolf Example",
           "value": 0.3021887242794037
          },
          {
           "time": 27.70941925048828,
           "trajectory": "Wolf Example",
           "value": 0.2946605086326599
          },
          {
           "time": 27.807615280151367,
           "trajectory": "Wolf Example",
           "value": 0.28794825077056885
          },
          {
           "time": 27.905811309814453,
           "trajectory": "Wolf Example",
           "value": 0.28204065561294556
          },
          {
           "time": 28.004009246826172,
           "trajectory": "Wolf Example",
           "value": 0.27692851424217224
          },
          {
           "time": 28.102205276489258,
           "trajectory": "Wolf Example",
           "value": 0.2726072371006012
          },
          {
           "time": 28.200401306152344,
           "trajectory": "Wolf Example",
           "value": 0.2690773010253906
          },
          {
           "time": 28.29859733581543,
           "trajectory": "Wolf Example",
           "value": 0.2663428485393524
          },
          {
           "time": 28.396793365478516,
           "trajectory": "Wolf Example",
           "value": 0.2644130289554596
          },
          {
           "time": 28.4949893951416,
           "trajectory": "Wolf Example",
           "value": 0.2633030414581299
          },
          {
           "time": 28.593185424804688,
           "trajectory": "Wolf Example",
           "value": 0.2630336582660675
          },
          {
           "time": 28.691381454467773,
           "trajectory": "Wolf Example",
           "value": 0.2636316120624542
          },
          {
           "time": 28.789579391479492,
           "trajectory": "Wolf Example",
           "value": 0.2651318907737732
          },
          {
           "time": 28.887775421142578,
           "trajectory": "Wolf Example",
           "value": 0.2675759792327881
          },
          {
           "time": 28.985971450805664,
           "trajectory": "Wolf Example",
           "value": 0.2710140347480774
          },
          {
           "time": 29.08416748046875,
           "trajectory": "Wolf Example",
           "value": 0.2755049169063568
          },
          {
           "time": 29.182363510131836,
           "trajectory": "Wolf Example",
           "value": 0.2811160981655121
          },
          {
           "time": 29.280561447143555,
           "trajectory": "Wolf Example",
           "value": 0.28792619705200195
          },
          {
           "time": 29.37875747680664,
           "trajectory": "Wolf Example",
           "value": 0.29602277278900146
          },
          {
           "time": 29.476953506469727,
           "trajectory": "Wolf Example",
           "value": 0.30550310015678406
          },
          {
           "time": 29.575151443481445,
           "trajectory": "Wolf Example",
           "value": 0.3164759874343872
          },
          {
           "time": 29.67334747314453,
           "trajectory": "Wolf Example",
           "value": 0.3290572464466095
          },
          {
           "time": 29.771543502807617,
           "trajectory": "Wolf Example",
           "value": 0.3433709144592285
          },
          {
           "time": 29.869739532470703,
           "trajectory": "Wolf Example",
           "value": 0.35954511165618896
          },
          {
           "time": 29.96793556213379,
           "trajectory": "Wolf Example",
           "value": 0.3777117133140564
          },
          {
           "time": 30.066131591796875,
           "trajectory": "Wolf Example",
           "value": 0.3979935646057129
          },
          {
           "time": 30.16432762145996,
           "trajectory": "Wolf Example",
           "value": 0.4205035865306854
          },
          {
           "time": 30.262523651123047,
           "trajectory": "Wolf Example",
           "value": 0.4453352689743042
          },
          {
           "time": 30.360721588134766,
           "trajectory": "Wolf Example",
           "value": 0.4725484848022461
          },
          {
           "time": 30.45891761779785,
           "trajectory": "Wolf Example",
           "value": 0.5021547675132751
          },
          {
           "time": 30.557113647460938,
           "trajectory": "Wolf Example",
           "value": 0.5341065526008606
          },
          {
           "time": 30.655309677124023,
           "trajectory": "Wolf Example",
           "value": 0.5682767629623413
          },
          {
           "time": 30.75350570678711,
           "trajectory": "Wolf Example",
           "value": 0.6044467687606812
          },
          {
           "time": 30.851703643798828,
           "trajectory": "Wolf Example",
           "value": 0.6422908306121826
          },
          {
           "time": 30.949899673461914,
           "trajectory": "Wolf Example",
           "value": 0.6813665628433228
          },
          {
           "time": 31.048095703125,
           "trajectory": "Wolf Example",
           "value": 0.7211208939552307
          },
          {
           "time": 31.14629364013672,
           "trajectory": "Wolf Example",
           "value": 0.7608925700187683
          },
          {
           "time": 31.244489669799805,
           "trajectory": "Wolf Example",
           "value": 0.7999366521835327
          },
          {
           "time": 31.34268569946289,
           "trajectory": "Wolf Example",
           "value": 0.8374478220939636
          },
          {
           "time": 31.440881729125977,
           "trajectory": "Wolf Example",
           "value": 0.8726083636283875
          },
          {
           "time": 31.539077758789062,
           "trajectory": "Wolf Example",
           "value": 0.9046271443367004
          },
          {
           "time": 31.63727378845215,
           "trajectory": "Wolf Example",
           "value": 0.9327885508537292
          },
          {
           "time": 31.735469818115234,
           "trajectory": "Wolf Example",
           "value": 0.9564878344535828
          },
          {
           "time": 31.83366584777832,
           "trajectory": "Wolf Example",
           "value": 0.975269615650177
          },
          {
           "time": 31.93186378479004,
           "trajectory": "Wolf Example",
           "value": 0.988841712474823
          },
          {
           "time": 32.030059814453125,
           "trajectory": "Wolf Example",
           "value": 0.9970842003822327
          },
          {
           "time": 32.12825393676758,
           "trajectory": "Wolf Example",
           "value": 1.0000417232513428
          },
          {
           "time": 32.2264518737793,
           "trajectory": "Wolf Example",
           "value": 0.9979061484336853
          },
          {
           "time": 32.324649810791016,
           "trajectory": "Wolf Example",
           "value": 0.9909924864768982
          },
          {
           "time": 32.42284393310547,
           "trajectory": "Wolf Example",
           "value": 0.9797078371047974
          },
          {
           "time": 32.52104187011719,
           "trajectory": "Wolf Example",
           "value": 0.9645245671272278
          },
          {
           "time": 32.61923599243164,
           "trajectory": "Wolf Example",
           "value": 0.9459521174430847
          },
          {
           "time": 32.71743392944336,
           "trajectory": "Wolf Example",
           "value": 0.9245104789733887
          },
          {
           "time": 32.81562805175781,
           "trajectory": "Wolf Example",
           "value": 0.900714635848999
          },
          {
           "time": 32.91382598876953,
           "trajectory": "Wolf Example",
           "value": 0.8750560283660889
          },
          {
           "time": 33.01202392578125,
           "trajectory": "Wolf Example",
           "value": 0.8479918837547302
          },
          {
           "time": 33.1102180480957,
           "trajectory": "Wolf Example",
           "value": 0.8199407458305359
          },
          {
           "time": 33.20841598510742,
           "trajectory": "Wolf Example",
           "value": 0.7912748456001282
          },
          {
           "time": 33.30661392211914,
           "trajectory": "Wolf Example",
           "value": 0.7623231410980225
          },
          {
           "time": 33.404808044433594,
           "trajectory": "Wolf Example",
           "value": 0.7333735227584839
          },
          {
           "time": 33.50300598144531,
           "trajectory": "Wolf Example",
           "value": 0.7046630382537842
          },
          {
           "time": 33.601200103759766,
           "trajectory": "Wolf Example",
           "value": 0.6763970255851746
          },
          {
           "time": 33.699398040771484,
           "trajectory": "Wolf Example",
           "value": 0.6487408876419067
          },
          {
           "time": 33.7975959777832,
           "trajectory": "Wolf Example",
           "value": 0.621830403804779
          },
          {
           "time": 33.895790100097656,
           "trajectory": "Wolf Example",
           "value": 0.5957735180854797
          },
          {
           "time": 33.993988037109375,
           "trajectory": "Wolf Example",
           "value": 0.5706492066383362
          },
          {
           "time": 34.092185974121094,
           "trajectory": "Wolf Example",
           "value": 0.5465210676193237
          },
          {
           "time": 34.19038009643555,
           "trajectory": "Wolf Example",
           "value": 0.5234304666519165
          },
          {
           "time": 34.288578033447266,
           "trajectory": "Wolf Example",
           "value": 0.5014034509658813
          },
          {
           "time": 34.38677215576172,
           "trajectory": "Wolf Example",
           "value": 0.48045653104782104
          },
          {
           "time": 34.48497009277344,
           "trajectory": "Wolf Example",
           "value": 0.4605921804904938
          },
          {
           "time": 34.583168029785156,
           "trajectory": "Wolf Example",
           "value": 0.44180625677108765
          },
          {
           "time": 34.68136215209961,
           "trajectory": "Wolf Example",
           "value": 0.4240892827510834
          },
          {
           "time": 34.77956008911133,
           "trajectory": "Wolf Example",
           "value": 0.4074237048625946
          },
          {
           "time": 34.87775802612305,
           "trajectory": "Wolf Example",
           "value": 0.3917897641658783
          },
          {
           "time": 34.9759521484375,
           "trajectory": "Wolf Example",
           "value": 0.3771660625934601
          },
          {
           "time": 35.07415008544922,
           "trajectory": "Wolf Example",
           "value": 0.36352697014808655
          },
          {
           "time": 35.17234420776367,
           "trajectory": "Wolf Example",
           "value": 0.3508491814136505
          },
          {
           "time": 35.27054214477539,
           "trajectory": "Wolf Example",
           "value": 0.33910608291625977
          },
          {
           "time": 35.36874008178711,
           "trajectory": "Wolf Example",
           "value": 0.3282740116119385
          },
          {
           "time": 35.46693420410156,
           "trajectory": "Wolf Example",
           "value": 0.31832849979400635
          },
          {
           "time": 35.56513214111328,
           "trajectory": "Wolf Example",
           "value": 0.309248685836792
          },
          {
           "time": 35.663330078125,
           "trajectory": "Wolf Example",
           "value": 0.3010146915912628
          },
          {
           "time": 35.76152420043945,
           "trajectory": "Wolf Example",
           "value": 0.29360952973365784
          },
          {
           "time": 35.85972213745117,
           "trajectory": "Wolf Example",
           "value": 0.28701767325401306
          },
          {
           "time": 35.957916259765625,
           "trajectory": "Wolf Example",
           "value": 0.28122881054878235
          },
          {
           "time": 36.056114196777344,
           "trajectory": "Wolf Example",
           "value": 0.27623453736305237
          },
          {
           "time": 36.15431213378906,
           "trajectory": "Wolf Example",
           "value": 0.27203112840652466
          },
          {
           "time": 36.252506256103516,
           "trajectory": "Wolf Example",
           "value": 0.268619179725647
          },
          {
           "time": 36.35070037841797,
           "trajectory": "Wolf Example",
           "value": 0.2660035789012909
          },
          {
           "time": 36.44889831542969,
           "trajectory": "Wolf Example",
           "value": 0.26419538259506226
          },
          {
           "time": 36.54709243774414,
           "trajectory": "Wolf Example",
           "value": 0.2632090449333191
          },
          {
           "time": 36.64529037475586,
           "trajectory": "Wolf Example",
           "value": 0.2630669176578522
          },
          {
           "time": 36.74348449707031,
           "trajectory": "Wolf Example",
           "value": 0.26379716396331787
          },
          {
           "time": 36.84168243408203,
           "trajectory": "Wolf Example",
           "value": 0.26543545722961426
          },
          {
           "time": 36.93988037109375,
           "trajectory": "Wolf Example",
           "value": 0.2680239677429199
          },
          {
           "time": 37.0380744934082,
           "trajectory": "Wolf Example",
           "value": 0.2716147005558014
          },
          {
           "time": 37.13627243041992,
           "trajectory": "Wolf Example",
           "value": 0.2762676775455475
          },
          {
           "time": 37.23447036743164,
           "trajectory": "Wolf Example",
           "value": 0.2820528745651245
          },
          {
           "time": 37.332664489746094,
           "trajectory": "Wolf Example",
           "value": 0.2890486717224121
          },
          {
           "time": 37.43086242675781,
           "trajectory": "Wolf Example",
           "value": 0.29734477400779724
          },
          {
           "time": 37.529056549072266,
           "trajectory": "Wolf Example",
           "value": 0.3070402443408966
          },
          {
           "time": 37.627254486083984,
           "trajectory": "Wolf Example",
           "value": 0.3182453215122223
          },
          {
           "time": 37.7254524230957,
           "trajectory": "Wolf Example",
           "value": 0.3310769498348236
          },
          {
           "time": 37.823646545410156,
           "trajectory": "Wolf Example",
           "value": 0.3456594944000244
          },
          {
           "time": 37.921844482421875,
           "trajectory": "Wolf Example",
           "value": 0.36212316155433655
          },
          {
           "time": 38.020042419433594,
           "trajectory": "Wolf Example",
           "value": 0.3805968761444092
          },
          {
           "time": 38.11823654174805,
           "trajectory": "Wolf Example",
           "value": 0.40120312571525574
          },
          {
           "time": 38.216434478759766,
           "trajectory": "Wolf Example",
           "value": 0.4240550696849823
          },
          {
           "time": 38.31462860107422,
           "trajectory": "Wolf Example",
           "value": 0.44923800230026245
          },
          {
           "time": 38.41282653808594,
           "trajectory": "Wolf Example",
           "value": 0.4768081307411194
          },
          {
           "time": 38.511024475097656,
           "trajectory": "Wolf Example",
           "value": 0.5067695379257202
          },
          {
           "time": 38.60921859741211,
           "trajectory": "Wolf Example",
           "value": 0.5390610098838806
          },
          {
           "time": 38.70741271972656,
           "trajectory": "Wolf Example",
           "value": 0.5735456943511963
          },
          {
           "time": 38.80561065673828,
           "trajectory": "Wolf Example",
           "value": 0.6099881529808044
          },
          {
           "time": 38.903804779052734,
           "trajectory": "Wolf Example",
           "value": 0.64804607629776
          },
          {
           "time": 39.00200271606445,
           "trajectory": "Wolf Example",
           "value": 0.6872605085372925
          },
          {
           "time": 39.100196838378906,
           "trajectory": "Wolf Example",
           "value": 0.7270610928535461
          },
          {
           "time": 39.198394775390625,
           "trajectory": "Wolf Example",
           "value": 0.7667742371559143
          },
          {
           "time": 39.296592712402344,
           "trajectory": "Wolf Example",
           "value": 0.8056415319442749
          },
          {
           "time": 39.3947868347168,
           "trajectory": "Wolf Example",
           "value": 0.842853844165802
          },
          {
           "time": 39.492984771728516,
           "trajectory": "Wolf Example",
           "value": 0.8775956034660339
          },
          {
           "time": 39.591182708740234,
           "trajectory": "Wolf Example",
           "value": 0.9090837240219116
          },
          {
           "time": 39.68937683105469,
           "trajectory": "Wolf Example",
           "value": 0.9366145133972168
          },
          {
           "time": 39.787574768066406,
           "trajectory": "Wolf Example",
           "value": 0.9596072435379028
          },
          {
           "time": 39.88576889038086,
           "trajectory": "Wolf Example",
           "value": 0.9776262640953064
          },
          {
           "time": 39.98396682739258,
           "trajectory": "Wolf Example",
           "value": 0.9904072284698486
          },
          {
           "time": 40.0821647644043,
           "trajectory": "Wolf Example",
           "value": 0.9978566765785217
          },
          {
           "time": 40.18035888671875,
           "trajectory": "Wolf Example",
           "value": 1.0000406503677368
          },
          {
           "time": 40.27855682373047,
           "trajectory": "Wolf Example",
           "value": 0.9971704483032227
          },
          {
           "time": 40.37675476074219,
           "trajectory": "Wolf Example",
           "value": 0.9895780682563782
          },
          {
           "time": 40.47494888305664,
           "trajectory": "Wolf Example",
           "value": 0.9776809811592102
          },
          {
           "time": 40.57314682006836,
           "trajectory": "Wolf Example",
           "value": 0.9619598388671875
          },
          {
           "time": 40.67134094238281,
           "trajectory": "Wolf Example",
           "value": 0.9429270029067993
          },
          {
           "time": 40.76953887939453,
           "trajectory": "Wolf Example",
           "value": 0.9211022853851318
          },
          {
           "time": 40.86773681640625,
           "trajectory": "Wolf Example",
           "value": 0.8969979882240295
          },
          {
           "time": 40.9659309387207,
           "trajectory": "Wolf Example",
           "value": 0.8711016774177551
          },
          {
           "time": 41.06412887573242,
           "trajectory": "Wolf Example",
           "value": 0.8438653349876404
          },
          {
           "time": 41.16232681274414,
           "trajectory": "Wolf Example",
           "value": 0.8156988620758057
          },
          {
           "time": 41.260520935058594,
           "trajectory": "Wolf Example",
           "value": 0.7869725823402405
          },
          {
           "time": 41.35871887207031,
           "trajectory": "Wolf Example",
           "value": 0.7580047845840454
          },
          {
           "time": 41.456912994384766,
           "trajectory": "Wolf Example",
           "value": 0.72907555103302
          },
          {
           "time": 41.555110931396484,
           "trajectory": "Wolf Example",
           "value": 0.7004189491271973
          },
          {
           "time": 41.6533088684082,
           "trajectory": "Wolf Example",
           "value": 0.6722327470779419
          },
          {
           "time": 41.751502990722656,
           "trajectory": "Wolf Example",
           "value": 0.6446817517280579
          },
          {
           "time": 41.849700927734375,
           "trajectory": "Wolf Example",
           "value": 0.6178926229476929
          },
          {
           "time": 41.947898864746094,
           "trajectory": "Wolf Example",
           "value": 0.5919687747955322
          },
          {
           "time": 42.04609298706055,
           "trajectory": "Wolf Example",
           "value": 0.5669910311698914
          },
          {
           "time": 42.144290924072266,
           "trajectory": "Wolf Example",
           "value": 0.5430150628089905
          },
          {
           "time": 42.24248504638672,
           "trajectory": "Wolf Example",
           "value": 0.5200808644294739
          },
          {
           "time": 42.34068298339844,
           "trajectory": "Wolf Example",
           "value": 0.49821439385414124
          },
          {
           "time": 42.438880920410156,
           "trajectory": "Wolf Example",
           "value": 0.4774276316165924
          },
          {
           "time": 42.53707504272461,
           "trajectory": "Wolf Example",
           "value": 0.45772504806518555
          },
          {
           "time": 42.63526916503906,
           "trajectory": "Wolf Example",
           "value": 0.43910011649131775
          },
          {
           "time": 42.73346710205078,
           "trajectory": "Wolf Example",
           "value": 0.42154020071029663
          },
          {
           "time": 42.831661224365234,
           "trajectory": "Wolf Example",
           "value": 0.4050304591655731
          },
          {
           "time": 42.92985916137695,
           "trajectory": "Wolf Example",
           "value": 0.3895495533943176
          },
          {
           "time": 43.028053283691406,
           "trajectory": "Wolf Example",
           "value": 0.3750728666782379
          },
          {
           "time": 43.126251220703125,
           "trajectory": "Wolf Example",
           "value": 0.3615785837173462
          },
          {
           "time": 43.224449157714844,
           "trajectory": "Wolf Example",
           "value": 0.3490407168865204
          },
          {
           "time": 43.3226432800293,
           "trajectory": "Wolf Example",
           "value": 0.3374353349208832
          },
          {
           "time": 43.420841217041016,
           "trajectory": "Wolf Example",
           "value": 0.3267362713813782
          },
          {
           "time": 43.519039154052734,
           "trajectory": "Wolf Example",
           "value": 0.3169211447238922
          },
          {
           "time": 43.61723327636719,
           "trajectory": "Wolf Example",
           "value": 0.30796921253204346
          },
          {
           "time": 43.715431213378906,
           "trajectory": "Wolf Example",
           "value": 0.2998597025871277
          },
          {
           "time": 43.81362533569336,
           "trajectory": "Wolf Example",
           "value": 0.29257670044898987
          },
          {
           "time": 43.91182327270508,
           "trajectory": "Wolf Example",
           "value": 0.28610479831695557
          },
          {
           "time": 44.0100212097168,
           "trajectory": "Wolf Example",
           "value": 0.2804345190525055
          },
          {
           "time": 44.10821533203125,
           "trajectory": "Wolf Example",
           "value": 0.2755584716796875
          },
          {
           "time": 44.20641326904297,
           "trajectory": "Wolf Example",
           "value": 0.2714727818965912
          },
          {
           "time": 44.30461120605469,
           "trajectory": "Wolf Example",
           "value": 0.2681790888309479
          },
          {
           "time": 44.40280532836914,
           "trajectory": "Wolf Example",
           "value": 0.26568320393562317
          },
          {
           "time": 44.50100326538086,
           "trajectory": "Wolf Example",
           "value": 0.2639959156513214
          },
          {
           "time": 44.59919738769531,
           "trajectory": "Wolf Example",
           "value": 0.26313385367393494
          },
          {
           "time": 44.69739532470703,
           "trajectory": "Wolf Example",
           "value": 0.26311981678009033
          },
          {
           "time": 44.79559326171875,
           "trajectory": "Wolf Example",
           "value": 0.26398277282714844
          },
          {
           "time": 44.8937873840332,
           "trajectory": "Wolf Example",
           "value": 0.2657596170902252
          },
          {
           "time": 44.99198532104492,
           "trajectory": "Wolf Example",
           "value": 0.2684941589832306
          },
          {
           "time": 45.09018325805664,
           "trajectory": "Wolf Example",
           "value": 0.27223923802375793
          },
          {
           "time": 45.188377380371094,
           "trajectory": "Wolf Example",
           "value": 0.277055948972702
          },
          {
           "time": 45.28657531738281,
           "trajectory": "Wolf Example",
           "value": 0.2830164134502411
          },
          {
           "time": 45.384769439697266,
           "trajectory": "Wolf Example",
           "value": 0.29019996523857117
          },
          {
           "time": 45.482967376708984,
           "trajectory": "Wolf Example",
           "value": 0.2986988127231598
          },
          {
           "time": 45.5811653137207,
           "trajectory": "Wolf Example",
           "value": 0.3086117208003998
          },
          {
           "time": 45.679359436035156,
           "trajectory": "Wolf Example",
           "value": 0.3200504779815674
          },
          {
           "time": 45.77755355834961,
           "trajectory": "Wolf Example",
           "value": 0.3331349790096283
          },
          {
           "time": 45.87575149536133,
           "trajectory": "Wolf Example",
           "value": 0.3479904234409332
          },
          {
           "time": 45.97394561767578,
           "trajectory": "Wolf Example",
           "value": 0.36474430561065674
          },
          {
           "time": 46.0721435546875,
           "trajectory": "Wolf Example",
           "value": 0.383527934551239
          },
          {
           "time": 46.17033767700195,
           "trajectory": "Wolf Example",
           "value": 0.4044615924358368
          },
          {
           "time": 46.26853561401367,
           "trajectory": "Wolf Example",
           "value": 0.4276562035083771
          },
          {
           "time": 46.36673355102539,
           "trajectory": "Wolf Example",
           "value": 0.4531935453414917
          },
          {
           "time": 46.464927673339844,
           "trajectory": "Wolf Example",
           "value": 0.481119841337204
          },
          {
           "time": 46.56312561035156,
           "trajectory": "Wolf Example",
           "value": 0.5114342570304871
          },
          {
           "time": 46.66132354736328,
           "trajectory": "Wolf Example",
           "value": 0.544064462184906
          },
          {
           "time": 46.759517669677734,
           "trajectory": "Wolf Example",
           "value": 0.5788580179214478
          },
          {
           "time": 46.85771560668945,
           "trajectory": "Wolf Example",
           "value": 0.6155656576156616
          },
          {
           "time": 46.955909729003906,
           "trajectory": "Wolf Example",
           "value": 0.6538268327713013
          },
          {
           "time": 47.054107666015625,
           "trajectory": "Wolf Example",
           "value": 0.6931686997413635
          },
          {
           "time": 47.152305603027344,
           "trajectory": "Wolf Example",
           "value": 0.733002245426178
          },
          {
           "time": 47.2504997253418,
           "trajectory": "Wolf Example",
           "value": 0.7726379036903381
          },
          {
           "time": 47.348697662353516,
           "trajectory": "Wolf Example",
           "value": 0.8113111257553101
          },
          {
           "time": 47.446895599365234,
           "trajectory": "Wolf Example",
           "value": 0.8482072353363037
          },
          {
           "time": 47.54508972167969,
           "trajectory": "Wolf Example",
           "value": 0.8825113773345947
          },
          {
           "time": 47.643287658691406,
           "trajectory": "Wolf Example",
           "value": 0.9134521484375
          },
          {
           "time": 47.74148178100586,
           "trajectory": "Wolf Example",
           "value": 0.9403396844863892
          },
          {
           "time": 47.83967971801758,
           "trajectory": "Wolf Example",
           "value": 0.9626152515411377
          },
          {
           "time": 47.9378776550293,
           "trajectory": "Wolf Example",
           "value": 0.9798675775527954
          },
          {
           "time": 48.03607177734375,
           "trajectory": "Wolf Example",
           "value": 0.991855800151825
          },
          {
           "time": 48.13426971435547,
           "trajectory": "Wolf Example",
           "value": 0.9985114336013794
          },
          {
           "time": 48.23246765136719,
           "trajectory": "Wolf Example",
           "value": 0.9999260306358337
          },
          {
           "time": 48.33066177368164,
           "trajectory": "Wolf Example",
           "value": 0.9963296055793762
          },
          {
           "time": 48.42885971069336,
           "trajectory": "Wolf Example",
           "value": 0.9880664944648743
          },
          {
           "time": 48.52705383300781,
           "trajectory": "Wolf Example",
           "value": 0.9755678176879883
          },
          {
           "time": 48.62525177001953,
           "trajectory": "Wolf Example",
           "value": 0.9593212604522705
          },
          {
           "time": 48.72344970703125,
           "trajectory": "Wolf Example",
           "value": 0.9398393630981445
          },
          {
           "time": 48.8216438293457,
           "trajectory": "Wolf Example",
           "value": 0.9176431894302368
          },
          {
           "time": 48.919837951660156,
           "trajectory": "Wolf Example",
           "value": 0.8932414650917053
          },
          {
           "time": 49.018035888671875,
           "trajectory": "Wolf Example",
           "value": 0.867118775844574
          },
          {
           "time": 49.11623001098633,
           "trajectory": "Wolf Example",
           "value": 0.8397189974784851
          },
          {
           "time": 49.21442794799805,
           "trajectory": "Wolf Example",
           "value": 0.8114477396011353
          },
          {
           "time": 49.3126220703125,
           "trajectory": "Wolf Example",
           "value": 0.782666027545929
          },
          {
           "time": 49.41082000732422,
           "trajectory": "Wolf Example",
           "value": 0.7536876201629639
          },
          {
           "time": 49.50901794433594,
           "trajectory": "Wolf Example",
           "value": 0.7247834801673889
          },
          {
           "time": 49.60721206665039,
           "trajectory": "Wolf Example",
           "value": 0.6961865425109863
          },
          {
           "time": 49.70541000366211,
           "trajectory": "Wolf Example",
           "value": 0.6680858731269836
          },
          {
           "time": 49.80360794067383,
           "trajectory": "Wolf Example",
           "value": 0.6406393051147461
          },
          {
           "time": 49.90180206298828,
           "trajectory": "Wolf Example",
           "value": 0.6139739155769348
          },
          {
           "time": 50,
           "trajectory": "Wolf Example",
           "value": 0.5881868004798889
          },
          {
           "time": 1,
           "trajectory": "Rabbit Example",
           "value": 0.6366578936576843
          },
          {
           "time": 1.0981963872909546,
           "trajectory": "Rabbit Example",
           "value": 0.6187303066253662
          },
          {
           "time": 1.1963927745819092,
           "trajectory": "Rabbit Example",
           "value": 0.6033629179000854
          },
          {
           "time": 1.2945891618728638,
           "trajectory": "Rabbit Example",
           "value": 0.5903903245925903
          },
          {
           "time": 1.3927855491638184,
           "trajectory": "Rabbit Example",
           "value": 0.5796554088592529
          },
          {
           "time": 1.490981936454773,
           "trajectory": "Rabbit Example",
           "value": 0.5710204839706421
          },
          {
           "time": 1.5891783237457275,
           "trajectory": "Rabbit Example",
           "value": 0.5643555521965027
          },
          {
           "time": 1.6873748302459717,
           "trajectory": "Rabbit Example",
           "value": 0.5595462918281555
          },
          {
           "time": 1.7855710983276367,
           "trajectory": "Rabbit Example",
           "value": 0.5564914345741272
          },
          {
           "time": 1.8837674856185913,
           "trajectory": "Rabbit Example",
           "value": 0.5551005005836487
          },
          {
           "time": 1.981963872909546,
           "trajectory": "Rabbit Example",
           "value": 0.5552976131439209
          },
          {
           "time": 2.08016037940979,
           "trajectory": "Rabbit Example",
           "value": 0.5570163130760193
          },
          {
           "time": 2.178356647491455,
           "trajectory": "Rabbit Example",
           "value": 0.5602003335952759
          },
          {
           "time": 2.276553153991699,
           "trajectory": "Rabbit Example",
           "value": 0.5648027658462524
          },
          {
           "time": 2.3747494220733643,
           "trajectory": "Rabbit Example",
           "value": 0.5707862377166748
          },
          {
           "time": 2.4729459285736084,
           "trajectory": "Rabbit Example",
           "value": 0.578119158744812
          },
          {
           "time": 2.5711421966552734,
           "trajectory": "Rabbit Example",
           "value": 0.5867785811424255
          },
          {
           "time": 2.6693387031555176,
           "trajectory": "Rabbit Example",
           "value": 0.5967463254928589
          },
          {
           "time": 2.7675349712371826,
           "trajectory": "Rabbit Example",
           "value": 0.6080106496810913
          },
          {
           "time": 2.8657314777374268,
           "trajectory": "Rabbit Example",
           "value": 0.6205634474754333
          },
          {
           "time": 2.963927745819092,
           "trajectory": "Rabbit Example",
           "value": 0.6344022154808044
          },
          {
           "time": 3.062124252319336,
           "trajectory": "Rabbit Example",
           "value": 0.6495270729064941
          },
          {
           "time": 3.160320520401001,
           "trajectory": "Rabbit Example",
           "value": 0.6659420132637024
          },
          {
           "time": 3.258517026901245,
           "trajectory": "Rabbit Example",
           "value": 0.6836512088775635
          },
          {
           "time": 3.3567135334014893,
           "trajectory": "Rabbit Example",
           "value": 0.7026625275611877
          },
          {
           "time": 3.4549100399017334,
           "trajectory": "Rabbit Example",
           "value": 0.7229839563369751
          },
          {
           "time": 3.5531063079833984,
           "trajectory": "Rabbit Example",
           "value": 0.7446197271347046
          },
          {
           "time": 3.6513028144836426,
           "trajectory": "Rabbit Example",
           "value": 0.7675820589065552
          },
          {
           "time": 3.7494990825653076,
           "trajectory": "Rabbit Example",
           "value": 0.7918747663497925
          },
          {
           "time": 3.8476955890655518,
           "trajectory": "Rabbit Example",
           "value": 0.8175032734870911
          },
          {
           "time": 3.945891857147217,
           "trajectory": "Rabbit Example",
           "value": 0.8444649577140808
          },
          {
           "time": 4.044088363647461,
           "trajectory": "Rabbit Example",
           "value": 0.8727561831474304
          },
          {
           "time": 4.142284393310547,
           "trajectory": "Rabbit Example",
           "value": 0.9023665189743042
          },
          {
           "time": 4.240480899810791,
           "trajectory": "Rabbit Example",
           "value": 0.9332774877548218
          },
          {
           "time": 4.338677406311035,
           "trajectory": "Rabbit Example",
           "value": 0.9654618501663208
          },
          {
           "time": 4.436873435974121,
           "trajectory": "Rabbit Example",
           "value": 0.9988824129104614
          },
          {
           "time": 4.535069942474365,
           "trajectory": "Rabbit Example",
           "value": 1.0334868431091309
          },
          {
           "time": 4.633266448974609,
           "trajectory": "Rabbit Example",
           "value": 1.0692076683044434
          },
          {
           "time": 4.7314629554748535,
           "trajectory": "Rabbit Example",
           "value": 1.1059612035751343
          },
          {
           "time": 4.8296589851379395,
           "trajectory": "Rabbit Example",
           "value": 1.1436407566070557
          },
          {
           "time": 4.927855491638184,
           "trajectory": "Rabbit Example",
           "value": 1.1821180582046509
          },
          {
           "time": 5.026051998138428,
           "trajectory": "Rabbit Example",
           "value": 1.22123384475708
          },
          {
           "time": 5.124248504638672,
           "trajectory": "Rabbit Example",
           "value": 1.260799765586853
          },
          {
           "time": 5.222444534301758,
           "trajectory": "Rabbit Example",
           "value": 1.3005905151367188
          },
          {
           "time": 5.320641040802002,
           "trajectory": "Rabbit Example",
           "value": 1.3403465747833252
          },
          {
           "time": 5.418837547302246,
           "trajectory": "Rabbit Example",
           "value": 1.3797591924667358
          },
          {
           "time": 5.51703405380249,
           "trajectory": "Rabbit Example",
           "value": 1.4184801578521729
          },
          {
           "time": 5.615230083465576,
           "trajectory": "Rabbit Example",
           "value": 1.4561101198196411
          },
          {
           "time": 5.7134270668029785,
           "trajectory": "Rabbit Example",
           "value": 1.4921982288360596
          },
          {
           "time": 5.811623573303223,
           "trajectory": "Rabbit Example",
           "value": 1.526247501373291
          },
          {
           "time": 5.909820079803467,
           "trajectory": "Rabbit Example",
           "value": 1.5577119588851929
          },
          {
           "time": 6.008016109466553,
           "trajectory": "Rabbit Example",
           "value": 1.586004376411438
          },
          {
           "time": 6.106212615966797,
           "trajectory": "Rabbit Example",
           "value": 1.610506534576416
          },
          {
           "time": 6.204409122467041,
           "trajectory": "Rabbit Example",
           "value": 1.630577802658081
          },
          {
           "time": 6.302605628967285,
           "trajectory": "Rabbit Example",
           "value": 1.64558744430542
          },
          {
           "time": 6.400801658630371,
           "trajectory": "Rabbit Example",
           "value": 1.654918909072876
          },
          {
           "time": 6.498998165130615,
           "trajectory": "Rabbit Example",
           "value": 1.6580219268798828
          },
          {
           "time": 6.597194671630859,
           "trajectory": "Rabbit Example",
           "value": 1.6544312238693237
          },
          {
           "time": 6.6953911781311035,
           "trajectory": "Rabbit Example",
           "value": 1.6438055038452148
          },
          {
           "time": 6.7935872077941895,
           "trajectory": "Rabbit Example",
           "value": 1.6259607076644897
          },
          {
           "time": 6.891783714294434,
           "trajectory": "Rabbit Example",
           "value": 1.6009101867675781
          },
          {
           "time": 6.989980220794678,
           "trajectory": "Rabbit Example",
           "value": 1.568875789642334
          },
          {
           "time": 7.088176727294922,
           "trajectory": "Rabbit Example",
           "value": 1.5302975177764893
          },
          {
           "time": 7.186372756958008,
           "trajectory": "Rabbit Example",
           "value": 1.485824465751648
          },
          {
           "time": 7.284569263458252,
           "trajectory": "Rabbit Example",
           "value": 1.4363031387329102
          },
          {
           "time": 7.382765769958496,
           "trajectory": "Rabbit Example",
           "value": 1.3827104568481445
          },
          {
           "time": 7.48096227645874,
           "trajectory": "Rabbit Example",
           "value": 1.3261404037475586
          },
          {
           "time": 7.579158306121826,
           "trajectory": "Rabbit Example",
           "value": 1.2676982879638672
          },
          {
           "time": 7.67735481262207,
           "trajectory": "Rabbit Example",
           "value": 1.2084895372390747
          },
          {
           "time": 7.7755513191223145,
           "trajectory": "Rabbit Example",
           "value": 1.1495375633239746
          },
          {
           "time": 7.873747825622559,
           "trajectory": "Rabbit Example",
           "value": 1.0917482376098633
          },
          {
           "time": 7.9719438552856445,
           "trajectory": "Rabbit Example",
           "value": 1.0358904600143433
          },
          {
           "time": 8.070140838623047,
           "trajectory": "Rabbit Example",
           "value": 0.9825799465179443
          },
          {
           "time": 8.168336868286133,
           "trajectory": "Rabbit Example",
           "value": 0.9322744607925415
          },
          {
           "time": 8.266533851623535,
           "trajectory": "Rabbit Example",
           "value": 0.8852898478507996
          },
          {
           "time": 8.364729881286621,
           "trajectory": "Rabbit Example",
           "value": 0.8418120741844177
          },
          {
           "time": 8.462926864624023,
           "trajectory": "Rabbit Example",
           "value": 0.801921010017395
          },
          {
           "time": 8.56112289428711,
           "trajectory": "Rabbit Example",
           "value": 0.7656075954437256
          },
          {
           "time": 8.659318923950195,
           "trajectory": "Rabbit Example",
           "value": 0.7328007817268372
          },
          {
           "time": 8.757515907287598,
           "trajectory": "Rabbit Example",
           "value": 0.7033775448799133
          },
          {
           "time": 8.855710983276367,
           "trajectory": "Rabbit Example",
           "value": 0.6771873831748962
          },
          {
           "time": 8.953907012939453,
           "trajectory": "Rabbit Example",
           "value": 0.6540602445602417
          },
          {
           "time": 9.052103996276855,
           "trajectory": "Rabbit Example",
           "value": 0.633818507194519
          },
          {
           "time": 9.150300025939941,
           "trajectory": "Rabbit Example",
           "value": 0.6162827610969543
          },
          {
           "time": 9.248497009277344,
           "trajectory": "Rabbit Example",
           "value": 0.6012816429138184
          },
          {
           "time": 9.34669303894043,
           "trajectory": "Rabbit Example",
           "value": 0.5886516571044922
          },
          {
           "time": 9.444889068603516,
           "trajectory": "Rabbit Example",
           "value": 0.5782396197319031
          },
          {
           "time": 9.543086051940918,
           "trajectory": "Rabbit Example",
           "value": 0.5699055194854736
          },
          {
           "time": 9.64128303527832,
           "trajectory": "Rabbit Example",
           "value": 0.5635241866111755
          },
          {
           "time": 9.739479064941406,
           "trajectory": "Rabbit Example",
           "value": 0.5589824318885803
          },
          {
           "time": 9.837676048278809,
           "trajectory": "Rabbit Example",
           "value": 0.5561801791191101
          },
          {
           "time": 9.935872077941895,
           "trajectory": "Rabbit Example",
           "value": 0.5550305247306824
          },
          {
           "time": 10.034069061279297,
           "trajectory": "Rabbit Example",
           "value": 0.5554587244987488
          },
          {
           "time": 10.132265090942383,
           "trajectory": "Rabbit Example",
           "value": 0.5573990345001221
          },
          {
           "time": 10.230461120605469,
           "trajectory": "Rabbit Example",
           "value": 0.560797393321991
          },
          {
           "time": 10.328658103942871,
           "trajectory": "Rabbit Example",
           "value": 0.5656078457832336
          },
          {
           "time": 10.426854133605957,
           "trajectory": "Rabbit Example",
           "value": 0.5717943906784058
          },
          {
           "time": 10.525050163269043,
           "trajectory": "Rabbit Example",
           "value": 0.5793257355690002
          },
          {
           "time": 10.623247146606445,
           "trajectory": "Rabbit Example",
           "value": 0.5881807804107666
          },
          {
           "time": 10.721443176269531,
           "trajectory": "Rabbit Example",
           "value": 0.5983418822288513
          },
          {
           "time": 10.819640159606934,
           "trajectory": "Rabbit Example",
           "value": 0.6097988486289978
          },
          {
           "time": 10.91783618927002,
           "trajectory": "Rabbit Example",
           "value": 0.6225436925888062
          },
          {
           "time": 11.016032218933105,
           "trajectory": "Rabbit Example",
           "value": 0.6365745067596436
          },
          {
           "time": 11.114229202270508,
           "trajectory": "Rabbit Example",
           "value": 0.6518911123275757
          },
          {
           "time": 11.212425231933594,
           "trajectory": "Rabbit Example",
           "value": 0.6684977412223816
          },
          {
           "time": 11.31062126159668,
           "trajectory": "Rabbit Example",
           "value": 0.6863995790481567
          },
          {
           "time": 11.408818244934082,
           "trajectory": "Rabbit Example",
           "value": 0.7056058645248413
          },
          {
           "time": 11.507014274597168,
           "trajectory": "Rabbit Example",
           "value": 0.7261218428611755
          },
          {
           "time": 11.60521125793457,
           "trajectory": "Rabbit Example",
           "value": 0.7479568123817444
          },
          {
           "time": 11.703407287597656,
           "trajectory": "Rabbit Example",
           "value": 0.7711173295974731
          },
          {
           "time": 11.801603317260742,
           "trajectory": "Rabbit Example",
           "value": 0.7956088781356812
          },
          {
           "time": 11.899800300598145,
           "trajectory": "Rabbit Example",
           "value": 0.8214357495307922
          },
          {
           "time": 11.99799633026123,
           "trajectory": "Rabbit Example",
           "value": 0.8485966324806213
          },
          {
           "time": 12.096192359924316,
           "trajectory": "Rabbit Example",
           "value": 0.8770841956138611
          },
          {
           "time": 12.194389343261719,
           "trajectory": "Rabbit Example",
           "value": 0.9068903923034668
          },
          {
           "time": 12.292585372924805,
           "trajectory": "Rabbit Example",
           "value": 0.937994658946991
          },
          {
           "time": 12.390782356262207,
           "trajectory": "Rabbit Example",
           "value": 0.9703638553619385
          },
          {
           "time": 12.488978385925293,
           "trajectory": "Rabbit Example",
           "value": 1.0039633512496948
          },
          {
           "time": 12.587174415588379,
           "trajectory": "Rabbit Example",
           "value": 1.0387388467788696
          },
          {
           "time": 12.685371398925781,
           "trajectory": "Rabbit Example",
           "value": 1.0746207237243652
          },
          {
           "time": 12.783567428588867,
           "trajectory": "Rabbit Example",
           "value": 1.1115213632583618
          },
          {
           "time": 12.881763458251953,
           "trajectory": "Rabbit Example",
           "value": 1.1493264436721802
          },
          {
           "time": 12.979960441589355,
           "trajectory": "Rabbit Example",
           "value": 1.1879092454910278
          },
          {
           "time": 13.078156471252441,
           "trajectory": "Rabbit Example",
           "value": 1.2271041870117188
          },
          {
           "time": 13.176353454589844,
           "trajectory": "Rabbit Example",
           "value": 1.2667189836502075
          },
          {
           "time": 13.27454948425293,
           "trajectory": "Rabbit Example",
           "value": 1.3065239191055298
          },
          {
           "time": 13.372745513916016,
           "trajectory": "Rabbit Example",
           "value": 1.3462469577789307
          },
          {
           "time": 13.470942497253418,
           "trajectory": "Rabbit Example",
           "value": 1.3855807781219482
          },
          {
           "time": 13.569138526916504,
           "trajectory": "Rabbit Example",
           "value": 1.4241656064987183
          },
          {
           "time": 13.66733455657959,
           "trajectory": "Rabbit Example",
           "value": 1.4615954160690308
          },
          {
           "time": 13.765531539916992,
           "trajectory": "Rabbit Example",
           "value": 1.4974148273468018
          },
          {
           "time": 13.863727569580078,
           "trajectory": "Rabbit Example",
           "value": 1.531112790107727
          },
          {
           "time": 13.96192455291748,
           "trajectory": "Rabbit Example",
           "value": 1.5621434450149536
          },
          {
           "time": 14.060120582580566,
           "trajectory": "Rabbit Example",
           "value": 1.5899100303649902
          },
          {
           "time": 14.158316612243652,
           "trajectory": "Rabbit Example",
           "value": 1.6137906312942505
          },
          {
           "time": 14.256513595581055,
           "trajectory": "Rabbit Example",
           "value": 1.6331498622894287
          },
          {
           "time": 14.35470962524414,
           "trajectory": "Rabbit Example",
           "value": 1.647350788116455
          },
          {
           "time": 14.452905654907227,
           "trajectory": "Rabbit Example",
           "value": 1.655788779258728
          },
          {
           "time": 14.551102638244629,
           "trajectory": "Rabbit Example",
           "value": 1.657921552658081
          },
          {
           "time": 14.649298667907715,
           "trajectory": "Rabbit Example",
           "value": 1.6533005237579346
          },
          {
           "time": 14.747495651245117,
           "trajectory": "Rabbit Example",
           "value": 1.6416059732437134
          },
          {
           "time": 14.845691680908203,
           "trajectory": "Rabbit Example",
           "value": 1.622684121131897
          },
          {
           "time": 14.943887710571289,
           "trajectory": "Rabbit Example",
           "value": 1.5965733528137207
          },
          {
           "time": 15.042084693908691,
           "trajectory": "Rabbit Example",
           "value": 1.5635297298431396
          },
          {
           "time": 15.140280723571777,
           "trajectory": "Rabbit Example",
           "value": 1.5240261554718018
          },
          {
           "time": 15.238476753234863,
           "trajectory": "Rabbit Example",
           "value": 1.4787429571151733
          },
          {
           "time": 15.336673736572266,
           "trajectory": "Rabbit Example",
           "value": 1.4285485744476318
          },
          {
           "time": 15.434869766235352,
           "trajectory": "Rabbit Example",
           "value": 1.3744430541992188
          },
          {
           "time": 15.533066749572754,
           "trajectory": "Rabbit Example",
           "value": 1.3175220489501953
          },
          {
           "time": 15.63126277923584,
           "trajectory": "Rabbit Example",
           "value": 1.2589000463485718
          },
          {
           "time": 15.729458808898926,
           "trajectory": "Rabbit Example",
           "value": 1.1996688842773438
          },
          {
           "time": 15.827655792236328,
           "trajectory": "Rabbit Example",
           "value": 1.1408371925354004
          },
          {
           "time": 15.925851821899414,
           "trajectory": "Rabbit Example",
           "value": 1.0832880735397339
          },
          {
           "time": 16.0240478515625,
           "trajectory": "Rabbit Example",
           "value": 1.0277752876281738
          },
          {
           "time": 16.122243881225586,
           "trajectory": "Rabbit Example",
           "value": 0.974886417388916
          },
          {
           "time": 16.220441818237305,
           "trajectory": "Rabbit Example",
           "value": 0.9250584840774536
          },
          {
           "time": 16.31863784790039,
           "trajectory": "Rabbit Example",
           "value": 0.8785869479179382
          },
          {
           "time": 16.416833877563477,
           "trajectory": "Rabbit Example",
           "value": 0.8356418609619141
          },
          {
           "time": 16.515029907226562,
           "trajectory": "Rabbit Example",
           "value": 0.7962862849235535
          },
          {
           "time": 16.61322593688965,
           "trajectory": "Rabbit Example",
           "value": 0.7605015635490417
          },
          {
           "time": 16.711421966552734,
           "trajectory": "Rabbit Example",
           "value": 0.7282065749168396
          },
          {
           "time": 16.80961799621582,
           "trajectory": "Rabbit Example",
           "value": 0.6992753148078918
          },
          {
           "time": 16.907814025878906,
           "trajectory": "Rabbit Example",
           "value": 0.6735523343086243
          },
          {
           "time": 17.006011962890625,
           "trajectory": "Rabbit Example",
           "value": 0.6508649587631226
          },
          {
           "time": 17.10420799255371,
           "trajectory": "Rabbit Example",
           "value": 0.6310383677482605
          },
          {
           "time": 17.202404022216797,
           "trajectory": "Rabbit Example",
           "value": 0.6138914823532104
          },
          {
           "time": 17.300600051879883,
           "trajectory": "Rabbit Example",
           "value": 0.5992540717124939
          },
          {
           "time": 17.39879608154297,
           "trajectory": "Rabbit Example",
           "value": 0.5869633555412292
          },
          {
           "time": 17.496994018554688,
           "trajectory": "Rabbit Example",
           "value": 0.5768683552742004
          },
          {
           "time": 17.595190048217773,
           "trajectory": "Rabbit Example",
           "value": 0.5688340663909912
          },
          {
           "time": 17.69338607788086,
           "trajectory": "Rabbit Example",
           "value": 0.5627334713935852
          },
          {
           "time": 17.791584014892578,
           "trajectory": "Rabbit Example",
           "value": 0.5584567785263062
          },
          {
           "time": 17.889780044555664,
           "trajectory": "Rabbit Example",
           "value": 0.5559059381484985
          },
          {
           "time": 17.98797607421875,
           "trajectory": "Rabbit Example",
           "value": 0.5549963712692261
          },
          {
           "time": 18.086172103881836,
           "trajectory": "Rabbit Example",
           "value": 0.5556532740592957
          },
          {
           "time": 18.184368133544922,
           "trajectory": "Rabbit Example",
           "value": 0.5578135251998901
          },
          {
           "time": 18.28256607055664,
           "trajectory": "Rabbit Example",
           "value": 0.5614252686500549
          },
          {
           "time": 18.380762100219727,
           "trajectory": "Rabbit Example",
           "value": 0.5664428472518921
          },
          {
           "time": 18.478958129882812,
           "trajectory": "Rabbit Example",
           "value": 0.5728313326835632
          },
          {
           "time": 18.57715606689453,
           "trajectory": "Rabbit Example",
           "value": 0.5805615782737732
          },
          {
           "time": 18.675352096557617,
           "trajectory": "Rabbit Example",
           "value": 0.5896115303039551
          },
          {
           "time": 18.773548126220703,
           "trajectory": "Rabbit Example",
           "value": 0.5999673008918762
          },
          {
           "time": 18.87174415588379,
           "trajectory": "Rabbit Example",
           "value": 0.6116158962249756
          },
          {
           "time": 18.969940185546875,
           "trajectory": "Rabbit Example",
           "value": 0.6245520710945129
          },
          {
           "time": 19.06813621520996,
           "trajectory": "Rabbit Example",
           "value": 0.6387743353843689
          },
          {
           "time": 19.166332244873047,
           "trajectory": "Rabbit Example",
           "value": 0.6542831063270569
          },
          {
           "time": 19.264528274536133,
           "trajectory": "Rabbit Example",
           "value": 0.6710825562477112
          },
          {
           "time": 19.36272621154785,
           "trajectory": "Rabbit Example",
           "value": 0.689179003238678
          },
          {
           "time": 19.460922241210938,
           "trajectory": "Rabbit Example",
           "value": 0.708578884601593
          },
          {
           "time": 19.559118270874023,
           "trajectory": "Rabbit Example",
           "value": 0.7292907238006592
          },
          {
           "time": 19.65731430053711,
           "trajectory": "Rabbit Example",
           "value": 0.7513222098350525
          },
          {
           "time": 19.755510330200195,
           "trajectory": "Rabbit Example",
           "value": 0.7746809720993042
          },
          {
           "time": 19.853708267211914,
           "trajectory": "Rabbit Example",
           "value": 0.7993720769882202
          },
          {
           "time": 19.951904296875,
           "trajectory": "Rabbit Example",
           "value": 0.8253975510597229
          },
          {
           "time": 20.050100326538086,
           "trajectory": "Rabbit Example",
           "value": 0.8527557253837585
          },
          {
           "time": 20.148298263549805,
           "trajectory": "Rabbit Example",
           "value": 0.8814416527748108
          },
          {
           "time": 20.24649429321289,
           "trajectory": "Rabbit Example",
           "value": 0.9114412069320679
          },
          {
           "time": 20.344690322875977,
           "trajectory": "Rabbit Example",
           "value": 0.9427357316017151
          },
          {
           "time": 20.442886352539062,
           "trajectory": "Rabbit Example",
           "value": 0.9752932786941528
          },
          {
           "time": 20.54108238220215,
           "trajectory": "Rabbit Example",
           "value": 1.0090714693069458
          },
          {
           "time": 20.639278411865234,
           "trajectory": "Rabbit Example",
           "value": 1.0440157651901245
          },
          {
           "time": 20.73747444152832,
           "trajectory": "Rabbit Example",
           "value": 1.0800538063049316
          },
          {
           "time": 20.835670471191406,
           "trajectory": "Rabbit Example",
           "value": 1.1170965433120728
          },
          {
           "time": 20.933868408203125,
           "trajectory": "Rabbit Example",
           "value": 1.1550291776657104
          },
          {
           "time": 21.03206443786621,
           "trajectory": "Rabbit Example",
           "value": 1.1937134265899658
          },
          {
           "time": 21.130260467529297,
           "trajectory": "Rabbit Example",
           "value": 1.2329844236373901
          },
          {
           "time": 21.228456497192383,
           "trajectory": "Rabbit Example",
           "value": 1.2726411819458008
          },
          {
           "time": 21.32665252685547,
           "trajectory": "Rabbit Example",
           "value": 1.3124520778656006
          },
          {
           "time": 21.424850463867188,
           "trajectory": "Rabbit Example",
           "value": 1.3521400690078735
          },
          {
           "time": 21.523046493530273,
           "trajectory": "Rabbit Example",
           "value": 1.391385793685913
          },
          {
           "time": 21.62124252319336,
           "trajectory": "Rabbit Example",
           "value": 1.4298251867294312
          },
          {
           "time": 21.719440460205078,
           "trajectory": "Rabbit Example",
           "value": 1.4670448303222656
          },
          {
           "time": 21.817636489868164,
           "trajectory": "Rabbit Example",
           "value": 1.5025806427001953
          },
          {
           "time": 21.91583251953125,
           "trajectory": "Rabbit Example",
           "value": 1.5359185934066772
          },
          {
           "time": 22.014028549194336,
           "trajectory": "Rabbit Example",
           "value": 1.5665007829666138
          },
          {
           "time": 22.112224578857422,
           "trajectory": "Rabbit Example",
           "value": 1.5937291383743286
          },
          {
           "time": 22.210420608520508,
           "trajectory": "Rabbit Example",
           "value": 1.6169785261154175
          },
          {
           "time": 22.308616638183594,
           "trajectory": "Rabbit Example",
           "value": 1.635607361793518
          },
          {
           "time": 22.40681266784668,
           "trajectory": "Rabbit Example",
           "value": 1.6489874124526978
          },
          {
           "time": 22.5050106048584,
           "trajectory": "Rabbit Example",
           "value": 1.6565182209014893
          },
          {
           "time": 22.603206634521484,
           "trajectory": "Rabbit Example",
           "value": 1.6576695442199707
          },
          {
           "time": 22.70140266418457,
           "trajectory": "Rabbit Example",
           "value": 1.6520123481750488
          },
          {
           "time": 22.799598693847656,
           "trajectory": "Rabbit Example",
           "value": 1.6392472982406616
          },
          {
           "time": 22.897794723510742,
           "trajectory": "Rabbit Example",
           "value": 1.6192450523376465
          },
          {
           "time": 22.99599266052246,
           "trajectory": "Rabbit Example",
           "value": 1.5920809507369995
          },
          {
           "time": 23.094188690185547,
           "trajectory": "Rabbit Example",
           "value": 1.5580394268035889
          },
          {
           "time": 23.192384719848633,
           "trajectory": "Rabbit Example",
           "value": 1.5176241397857666
          },
          {
           "time": 23.29058265686035,
           "trajectory": "Rabbit Example",
           "value": 1.4715536832809448
          },
          {
           "time": 23.388778686523438,
           "trajectory": "Rabbit Example",
           "value": 1.4207098484039307
          },
          {
           "time": 23.486974716186523,
           "trajectory": "Rabbit Example",
           "value": 1.3661150932312012
          },
          {
           "time": 23.58517074584961,
           "trajectory": "Rabbit Example",
           "value": 1.3088693618774414
          },
          {
           "time": 23.683366775512695,
           "trajectory": "Rabbit Example",
           "value": 1.2500898838043213
          },
          {
           "time": 23.78156280517578,
           "trajectory": "Rabbit Example",
           "value": 1.1908555030822754
          },
          {
           "time": 23.879758834838867,
           "trajectory": "Rabbit Example",
           "value": 1.132159948348999
          },
          {
           "time": 23.977954864501953,
           "trajectory": "Rabbit Example",
           "value": 1.074873447418213
          },
          {
           "time": 24.076152801513672,
           "trajectory": "Rabbit Example",
           "value": 1.0197162628173828
          },
          {
           "time": 24.174348831176758,
           "trajectory": "Rabbit Example",
           "value": 0.9672604203224182
          },
          {
           "time": 24.272544860839844,
           "trajectory": "Rabbit Example",
           "value": 0.9179176688194275
          },
          {
           "time": 24.37074089050293,
           "trajectory": "Rabbit Example",
           "value": 0.871964156627655
          },
          {
           "time": 24.468936920166016,
           "trajectory": "Rabbit Example",
           "value": 0.8295508623123169
          },
          {
           "time": 24.567134857177734,
           "trajectory": "Rabbit Example",
           "value": 0.7907298803329468
          },
          {
           "time": 24.66533088684082,
           "trajectory": "Rabbit Example",
           "value": 0.7554721236228943
          },
          {
           "time": 24.763526916503906,
           "trajectory": "Rabbit Example",
           "value": 0.7236866354942322
          },
          {
           "time": 24.861724853515625,
           "trajectory": "Rabbit Example",
           "value": 0.6952423453330994
          },
          {
           "time": 24.95992088317871,
           "trajectory": "Rabbit Example",
           "value": 0.6699840426445007
          },
          {
           "time": 25.058116912841797,
           "trajectory": "Rabbit Example",
           "value": 0.6477349400520325
          },
          {
           "time": 25.156312942504883,
           "trajectory": "Rabbit Example",
           "value": 0.628318190574646
          },
          {
           "time": 25.25450897216797,
           "trajectory": "Rabbit Example",
           "value": 0.6115562319755554
          },
          {
           "time": 25.352705001831055,
           "trajectory": "Rabbit Example",
           "value": 0.5972791314125061
          },
          {
           "time": 25.45090103149414,
           "trajectory": "Rabbit Example",
           "value": 0.5853241682052612
          },
          {
           "time": 25.549097061157227,
           "trajectory": "Rabbit Example",
           "value": 0.5755451917648315
          },
          {
           "time": 25.647294998168945,
           "trajectory": "Rabbit Example",
           "value": 0.5678055286407471
          },
          {
           "time": 25.74549102783203,
           "trajectory": "Rabbit Example",
           "value": 0.5619837641716003
          },
          {
           "time": 25.843687057495117,
           "trajectory": "Rabbit Example",
           "value": 0.5579711198806763
          },
          {
           "time": 25.941883087158203,
           "trajectory": "Rabbit Example",
           "value": 0.5556688904762268
          },
          {
           "time": 26.04007911682129,
           "trajectory": "Rabbit Example",
           "value": 0.5549970269203186
          },
          {
           "time": 26.138275146484375,
           "trajectory": "Rabbit Example",
           "value": 0.5558815002441406
          },
          {
           "time": 26.23647117614746,
           "trajectory": "Rabbit Example",
           "value": 0.5582618117332458
          },
          {
           "time": 26.334667205810547,
           "trajectory": "Rabbit Example",
           "value": 0.5620847344398499
          },
          {
           "time": 26.432865142822266,
           "trajectory": "Rabbit Example",
           "value": 0.567308783531189
          },
          {
           "time": 26.53106117248535,
           "trajectory": "Rabbit Example",
           "value": 0.5738991498947144
          },
          {
           "time": 26.629257202148438,
           "trajectory": "Rabbit Example",
           "value": 0.5818268060684204
          },
          {
           "time": 26.727453231811523,
           "trajectory": "Rabbit Example",
           "value": 0.5910723209381104
          },
          {
           "time": 26.82564926147461,
           "trajectory": "Rabbit Example",
           "value": 0.6016203165054321
          },
          {
           "time": 26.923847198486328,
           "trajectory": "Rabbit Example",
           "value": 0.6134617924690247
          },
          {
           "time": 27.022043228149414,
           "trajectory": "Rabbit Example",
           "value": 0.6265900135040283
          },
          {
           "time": 27.1202392578125,
           "trajectory": "Rabbit Example",
           "value": 0.6410041451454163
          },
          {
           "time": 27.21843719482422,
           "trajectory": "Rabbit Example",
           "value": 0.6567041873931885
          },
          {
           "time": 27.316633224487305,
           "trajectory": "Rabbit Example",
           "value": 0.6736965179443359
          },
          {
           "time": 27.41482925415039,
           "trajectory": "Rabbit Example",
           "value": 0.6919863224029541
          },
          {
           "time": 27.513025283813477,
           "trajectory": "Rabbit Example",
           "value": 0.7115812301635742
          },
          {
           "time": 27.611221313476562,
           "trajectory": "Rabbit Example",
           "value": 0.7324893474578857
          },
          {
           "time": 27.70941925048828,
           "trajectory": "Rabbit Example",
           "value": 0.7547190189361572
          },
          {
           "time": 27.807615280151367,
           "trajectory": "Rabbit Example",
           "value": 0.7782760858535767
          },
          {
           "time": 27.905811309814453,
           "trajectory": "Rabbit Example",
           "value": 0.8031643629074097
          },
          {
           "time": 28.004009246826172,
           "trajectory": "Rabbit Example",
           "value": 0.8293887376785278
          },
          {
           "time": 28.102205276489258,
           "trajectory": "Rabbit Example",
           "value": 0.8569456934928894
          },
          {
           "time": 28.200401306152344,
           "trajectory": "Rabbit Example",
           "value": 0.8858281373977661
          },
          {
           "time": 28.29859733581543,
           "trajectory": "Rabbit Example",
           "value": 0.9160228371620178
          },
          {
           "time": 28.396793365478516,
           "trajectory": "Rabbit Example",
           "value": 0.9475064873695374
          },
          {
           "time": 28.4949893951416,
           "trajectory": "Rabbit Example",
           "value": 0.980248749256134
          },
          {
           "time": 28.593185424804688,
           "trajectory": "Rabbit Example",
           "value": 1.014205813407898
          },
          {
           "time": 28.691381454467773,
           "trajectory": "Rabbit Example",
           "value": 1.049317479133606
          },
          {
           "time": 28.789579391479492,
           "trajectory": "Rabbit Example",
           "value": 1.0855128765106201
          },
          {
           "time": 28.887775421142578,
           "trajectory": "Rabbit Example",
           "value": 1.122697114944458
          },
          {
           "time": 28.985971450805664,
           "trajectory": "Rabbit Example",
           "value": 1.1607478857040405
          },
          {
           "time": 29.08416748046875,
           "trajectory": "Rabbit Example",
           "value": 1.1995315551757812
          },
          {
           "time": 29.182363510131836,
           "trajectory": "Rabbit Example",
           "value": 1.238872766494751
          },
          {
           "time": 29.280561447143555,
           "trajectory": "Rabbit Example",
           "value": 1.2785695791244507
          },
          {
           "time": 29.37875747680664,
           "trajectory": "Rabbit Example",
           "value": 1.3183786869049072
          },
          {
           "time": 29.476953506469727,
           "trajectory": "Rabbit Example",
           "value": 1.3580224514007568
          },
          {
           "time": 29.575151443481445,
           "trajectory": "Rabbit Example",
           "value": 1.3971741199493408
          },
          {
           "time": 29.67334747314453,
           "trajectory": "Rabbit Example",
           "value": 1.4354583024978638
          },
          {
           "time": 29.771543502807617,
           "trajectory": "Rabbit Example",
           "value": 1.4724568128585815
          },
          {
           "time": 29.869739532470703,
           "trajectory": "Rabbit Example",
           "value": 1.507696270942688
          },
          {
           "time": 29.96793556213379,
           "trajectory": "Rabbit Example",
           "value": 1.5406627655029297
          },
          {
           "time": 30.066131591796875,
           "trajectory": "Rabbit Example",
           "value": 1.5707834959030151
          },
          {
           "time": 30.16432762145996,
           "trajectory": "Rabbit Example",
           "value": 1.5974599123001099
          },
          {
           "time": 30.262523651123047,
           "trajectory": "Rabbit Example",
           "value": 1.620060682296753
          },
          {
           "time": 30.360721588134766,
           "trajectory": "Rabbit Example",
           "value": 1.637947916984558
          },
          {
           "time": 30.45891761779785,
           "trajectory": "Rabbit Example",
           "value": 1.6504915952682495
          },
          {
           "time": 30.557113647460938,
           "trajectory": "Rabbit Example",
           "value": 1.6571054458618164
          },
          {
           "time": 30.655309677124023,
           "trajectory": "Rabbit Example",
           "value": 1.6572682857513428
          },
          {
           "time": 30.75350570678711,
           "trajectory": "Rabbit Example",
           "value": 1.650565505027771
          },
          {
           "time": 30.851703643798828,
           "trajectory": "Rabbit Example",
           "value": 1.6367241144180298
          },
          {
           "time": 30.949899673461914,
           "trajectory": "Rabbit Example",
           "value": 1.615647315979004
          },
          {
           "time": 31.048095703125,
           "trajectory": "Rabbit Example",
           "value": 1.5874345302581787
          },
          {
           "time": 31.14629364013672,
           "trajectory": "Rabbit Example",
           "value": 1.5524039268493652
          },
          {
           "time": 31.244489669799805,
           "trajectory": "Rabbit Example",
           "value": 1.5111018419265747
          },
          {
           "time": 31.34268569946289,
           "trajectory": "Rabbit Example",
           "value": 1.464260220527649
          },
          {
           "time": 31.440881729125977,
           "trajectory": "Rabbit Example",
           "value": 1.4127877950668335
          },
          {
           "time": 31.539077758789062,
           "trajectory": "Rabbit Example",
           "value": 1.357724905014038
          },
          {
           "time": 31.63727378845215,
           "trajectory": "Rabbit Example",
           "value": 1.3001831769943237
          },
          {
           "time": 31.735469818115234,
           "trajectory": "Rabbit Example",
           "value": 1.2412681579589844
          },
          {
           "time": 31.83366584777832,
           "trajectory": "Rabbit Example",
           "value": 1.182054877281189
          },
          {
           "time": 31.93186378479004,
           "trajectory": "Rabbit Example",
           "value": 1.1235167980194092
          },
          {
           "time": 32.030059814453125,
           "trajectory": "Rabbit Example",
           "value": 1.0665056705474854
          },
          {
           "time": 32.12825393676758,
           "trajectory": "Rabbit Example",
           "value": 1.0117210149765015
          },
          {
           "time": 32.2264518737793,
           "trajectory": "Rabbit Example",
           "value": 0.9597046375274658
          },
          {
           "time": 32.324649810791016,
           "trajectory": "Rabbit Example",
           "value": 0.9108517169952393
          },
          {
           "time": 32.42284393310547,
           "trajectory": "Rabbit Example",
           "value": 0.8654192686080933
          },
          {
           "time": 32.52104187011719,
           "trajectory": "Rabbit Example",
           "value": 0.8235400915145874
          },
          {
           "time": 32.61923599243164,
           "trajectory": "Rabbit Example",
           "value": 0.7852541208267212
          },
          {
           "time": 32.71743392944336,
           "trajectory": "Rabbit Example",
           "value": 0.7505195736885071
          },
          {
           "time": 32.81562805175781,
           "trajectory": "Rabbit Example",
           "value": 0.7192422151565552
          },
          {
           "time": 32.91382598876953,
           "trajectory": "Rabbit Example",
           "value": 0.6912834644317627
          },
          {
           "time": 33.01202392578125,
           "trajectory": "Rabbit Example",
           "value": 0.6664836406707764
          },
          {
           "time": 33.1102180480957,
           "trajectory": "Rabbit Example",
           "value": 0.6446681022644043
          },
          {
           "time": 33.20841598510742,
           "trajectory": "Rabbit Example",
           "value": 0.6256573796272278
          },
          {
           "time": 33.30661392211914,
           "trajectory": "Rabbit Example",
           "value": 0.6092759966850281
          },
          {
           "time": 33.404808044433594,
           "trajectory": "Rabbit Example",
           "value": 0.5953540802001953
          },
          {
           "time": 33.50300598144531,
           "trajectory": "Rabbit Example",
           "value": 0.5837328433990479
          },
          {
           "time": 33.601200103759766,
           "trajectory": "Rabbit Example",
           "value": 0.574266254901886
          },
          {
           "time": 33.699398040771484,
           "trajectory": "Rabbit Example",
           "value": 0.5668197274208069
          },
          {
           "time": 33.7975959777832,
           "trajectory": "Rabbit Example",
           "value": 0.5612731575965881
          },
          {
           "time": 33.895790100097656,
           "trajectory": "Rabbit Example",
           "value": 0.5575209856033325
          },
          {
           "time": 33.993988037109375,
           "trajectory": "Rabbit Example",
           "value": 0.5554682612419128
          },
          {
           "time": 34.092185974121094,
           "trajectory": "Rabbit Example",
           "value": 0.5550316572189331
          },
          {
           "time": 34.19038009643555,
           "trajectory": "Rabbit Example",
           "value": 0.5561426281929016
          },
          {
           "time": 34.288578033447266,
           "trajectory": "Rabbit Example",
           "value": 0.5587403774261475
          },
          {
           "time": 34.38677215576172,
           "trajectory": "Rabbit Example",
           "value": 0.562775194644928
          },
          {
           "time": 34.48497009277344,
           "trajectory": "Rabbit Example",
           "value": 0.5682041645050049
          },
          {
           "time": 34.583168029785156,
           "trajectory": "Rabbit Example",
           "value": 0.5749958753585815
          },
          {
           "time": 34.68136215209961,
           "trajectory": "Rabbit Example",
           "value": 0.5831214189529419
          },
          {
           "time": 34.77956008911133,
           "trajectory": "Rabbit Example",
           "value": 0.5925622582435608
          },
          {
           "time": 34.87775802612305,
           "trajectory": "Rabbit Example",
           "value": 0.6033036112785339
          },
          {
           "time": 34.9759521484375,
           "trajectory": "Rabbit Example",
           "value": 0.6153363585472107
          },
          {
           "time": 35.07415008544922,
           "trajectory": "Rabbit Example",
           "value": 0.6286563277244568
          },
          {
           "time": 35.17234420776367,
           "trajectory": "Rabbit Example",
           "value": 0.6432608366012573
          },
          {
           "time": 35.27054214477539,
           "trajectory": "Rabbit Example",
           "value": 0.6591538786888123
          },
          {
           "time": 35.36874008178711,
           "trajectory": "Rabbit Example",
           "value": 0.6763389110565186
          },
          {
           "time": 35.46693420410156,
           "trajectory": "Rabbit Example",
           "value": 0.6948227882385254
          },
          {
           "time": 35.56513214111328,
           "trajectory": "Rabbit Example",
           "value": 0.7146133184432983
          },
          {
           "time": 35.663330078125,
           "trajectory": "Rabbit Example",
           "value": 0.7357182502746582
          },
          {
           "time": 35.76152420043945,
           "trajectory": "Rabbit Example",
           "value": 0.7581444978713989
          },
          {
           "time": 35.85972213745117,
           "trajectory": "Rabbit Example",
           "value": 0.7818992137908936
          },
          {
           "time": 35.957916259765625,
           "trajectory": "Rabbit Example",
           "value": 0.806986391544342
          },
          {
           "time": 36.056114196777344,
           "trajectory": "Rabbit Example",
           "value": 0.8334087133407593
          },
          {
           "time": 36.15431213378906,
           "trajectory": "Rabbit Example",
           "value": 0.8611655831336975
          },
          {
           "time": 36.252506256103516,
           "trajectory": "Rabbit Example",
           "value": 0.89024418592453
          },
          {
           "time": 36.35070037841797,
           "trajectory": "Rabbit Example",
           "value": 0.9206322431564331
          },
          {
           "time": 36.44889831542969,
           "trajectory": "Rabbit Example",
           "value": 0.9523059129714966
          },
          {
           "time": 36.54709243774414,
           "trajectory": "Rabbit Example",
           "value": 0.985231876373291
          },
          {
           "time": 36.64529037475586,
           "trajectory": "Rabbit Example",
           "value": 1.0193644762039185
          },
          {
           "time": 36.74348449707031,
           "trajectory": "Rabbit Example",
           "value": 1.054642915725708
          },
          {
           "time": 36.84168243408203,
           "trajectory": "Rabbit Example",
           "value": 1.0909932851791382
          },
          {
           "time": 36.93988037109375,
           "trajectory": "Rabbit Example",
           "value": 1.1283116340637207
          },
          {
           "time": 37.0380744934082,
           "trajectory": "Rabbit Example",
           "value": 1.1664836406707764
          },
          {
           "time": 37.13627243041992,
           "trajectory": "Rabbit Example",
           "value": 1.2053642272949219
          },
          {
           "time": 37.23447036743164,
           "trajectory": "Rabbit Example",
           "value": 1.2447705268859863
          },
          {
           "time": 37.332664489746094,
           "trajectory": "Rabbit Example",
           "value": 1.2844998836517334
          },
          {
           "time": 37.43086242675781,
           "trajectory": "Rabbit Example",
           "value": 1.3243038654327393
          },
          {
           "time": 37.529056549072266,
           "trajectory": "Rabbit Example",
           "value": 1.3638947010040283
          },
          {
           "time": 37.627254486083984,
           "trajectory": "Rabbit Example",
           "value": 1.4029407501220703
          },
          {
           "time": 37.7254524230957,
           "trajectory": "Rabbit Example",
           "value": 1.441062331199646
          },
          {
           "time": 37.823646545410156,
           "trajectory": "Rabbit Example",
           "value": 1.4778265953063965
          },
          {
           "time": 37.921844482421875,
           "trajectory": "Rabbit Example",
           "value": 1.5127676725387573
          },
          {
           "time": 38.020042419433594,
           "trajectory": "Rabbit Example",
           "value": 1.5453460216522217
          },
          {
           "time": 38.11823654174805,
           "trajectory": "Rabbit Example",
           "value": 1.5749918222427368
          },
          {
           "time": 38.216434478759766,
           "trajectory": "Rabbit Example",
           "value": 1.6011005640029907
          },
          {
           "time": 38.31462860107422,
           "trajectory": "Rabbit Example",
           "value": 1.623039722442627
          },
          {
           "time": 38.41282653808594,
           "trajectory": "Rabbit Example",
           "value": 1.6401700973510742
          },
          {
           "time": 38.511024475097656,
           "trajectory": "Rabbit Example",
           "value": 1.651868224143982
          },
          {
           "time": 38.60921859741211,
           "trajectory": "Rabbit Example",
           "value": 1.657550573348999
          },
          {
           "time": 38.70741271972656,
           "trajectory": "Rabbit Example",
           "value": 1.656715750694275
          },
          {
           "time": 38.80561065673828,
           "trajectory": "Rabbit Example",
           "value": 1.648959994316101
          },
          {
           "time": 38.903804779052734,
           "trajectory": "Rabbit Example",
           "value": 1.6340423822402954
          },
          {
           "time": 39.00200271606445,
           "trajectory": "Rabbit Example",
           "value": 1.6118907928466797
          },
          {
           "time": 39.100196838378906,
           "trajectory": "Rabbit Example",
           "value": 1.5826393365859985
          },
          {
           "time": 39.198394775390625,
           "trajectory": "Rabbit Example",
           "value": 1.5466365814208984
          },
          {
           "time": 39.296592712402344,
           "trajectory": "Rabbit Example",
           "value": 1.5044541358947754
          },
          {
           "time": 39.3947868347168,
           "trajectory": "Rabbit Example",
           "value": 1.4568613767623901
          },
          {
           "time": 39.492984771728516,
           "trajectory": "Rabbit Example",
           "value": 1.4047874212265015
          },
          {
           "time": 39.591182708740234,
           "trajectory": "Rabbit Example",
           "value": 1.3492844104766846
          },
          {
           "time": 39.68937683105469,
           "trajectory": "Rabbit Example",
           "value": 1.2914670705795288
          },
          {
           "time": 39.787574768066406,
           "trajectory": "Rabbit Example",
           "value": 1.2324409484863281
          },
          {
           "time": 39.88576889038086,
           "trajectory": "Rabbit Example",
           "value": 1.1732698678970337
          },
          {
           "time": 39.98396682739258,
           "trajectory": "Rabbit Example",
           "value": 1.1149091720581055
          },
          {
           "time": 40.0821647644043,
           "trajectory": "Rabbit Example",
           "value": 1.0581870079040527
          },
          {
           "time": 40.18035888671875,
           "trajectory": "Rabbit Example",
           "value": 1.0037835836410522
          },
          {
           "time": 40.27855682373047,
           "trajectory": "Rabbit Example",
           "value": 0.952218234539032
          },
          {
           "time": 40.37675476074219,
           "trajectory": "Rabbit Example",
           "value": 0.9038622975349426
          },
          {
           "time": 40.47494888305664,
           "trajectory": "Rabbit Example",
           "value": 0.858953058719635
          },
          {
           "time": 40.57314682006836,
           "trajectory": "Rabbit Example",
           "value": 0.8176084160804749
          },
          {
           "time": 40.67134094238281,
           "trajectory": "Rabbit Example",
           "value": 0.7798562049865723
          },
          {
           "time": 40.76953887939453,
           "trajectory": "Rabbit Example",
           "value": 0.7456434965133667
          },
          {
           "time": 40.86773681640625,
           "trajectory": "Rabbit Example",
           "value": 0.7148690819740295
          },
          {
           "time": 40.9659309387207,
           "trajectory": "Rabbit Example",
           "value": 0.6873934864997864
          },
          {
           "time": 41.06412887573242,
           "trajectory": "Rabbit Example",
           "value": 0.6630484461784363
          },
          {
           "time": 41.16232681274414,
           "trajectory": "Rabbit Example",
           "value": 0.6416614055633545
          },
          {
           "time": 41.260520935058594,
           "trajectory": "Rabbit Example",
           "value": 0.6230543255805969
          },
          {
           "time": 41.35871887207031,
           "trajectory": "Rabbit Example",
           "value": 0.6070493459701538
          },
          {
           "time": 41.456912994384766,
           "trajectory": "Rabbit Example",
           "value": 0.59348064661026
          },
          {
           "time": 41.555110931396484,
           "trajectory": "Rabbit Example",
           "value": 0.5821892619132996
          },
          {
           "time": 41.6533088684082,
           "trajectory": "Rabbit Example",
           "value": 0.5730310678482056
          },
          {
           "time": 41.751502990722656,
           "trajectory": "Rabbit Example",
           "value": 0.5658757090568542
          },
          {
           "time": 41.849700927734375,
           "trajectory": "Rabbit Example",
           "value": 0.560603141784668
          },
          {
           "time": 41.947898864746094,
           "trajectory": "Rabbit Example",
           "value": 0.5571093559265137
          },
          {
           "time": 42.04609298706055,
           "trajectory": "Rabbit Example",
           "value": 0.555302083492279
          },
          {
           "time": 42.144290924072266,
           "trajectory": "Rabbit Example",
           "value": 0.5551014542579651
          },
          {
           "time": 42.24248504638672,
           "trajectory": "Rabbit Example",
           "value": 0.5564369559288025
          },
          {
           "time": 42.34068298339844,
           "trajectory": "Rabbit Example",
           "value": 0.5592525005340576
          },
          {
           "time": 42.438880920410156,
           "trajectory": "Rabbit Example",
           "value": 0.5634969472885132
          },
          {
           "time": 42.53707504272461,
           "trajectory": "Rabbit Example",
           "value": 0.5691308975219727
          },
          {
           "time": 42.63526916503906,
           "trajectory": "Rabbit Example",
           "value": 0.5761215090751648
          },
          {
           "time": 42.73346710205078,
           "trajectory": "Rabbit Example",
           "value": 0.5844449400901794
          },
          {
           "time": 42.831661224365234,
           "trajectory": "Rabbit Example",
           "value": 0.5940797924995422
          },
          {
           "time": 42.92985916137695,
           "trajectory": "Rabbit Example",
           "value": 0.6050134301185608
          },
          {
           "time": 43.028053283691406,
           "trajectory": "Rabbit Example",
           "value": 0.6172387003898621
          },
          {
           "time": 43.126251220703125,
           "trajectory": "Rabbit Example",
           "value": 0.6307500600814819
          },
          {
           "time": 43.224449157714844,
           "trajectory": "Rabbit Example",
           "value": 0.6455467343330383
          },
          {
           "time": 43.3226432800293,
           "trajectory": "Rabbit Example",
           "value": 0.6616316437721252
          },
          {
           "time": 43.420841217041016,
           "trajectory": "Rabbit Example",
           "value": 0.6790103316307068
          },
          {
           "time": 43.519039154052734,
           "trajectory": "Rabbit Example",
           "value": 0.6976891160011292
          },
          {
           "time": 43.61723327636719,
           "trajectory": "Rabbit Example",
           "value": 0.7176731824874878
          },
          {
           "time": 43.715431213378906,
           "trajectory": "Rabbit Example",
           "value": 0.7389742732048035
          },
          {
           "time": 43.81362533569336,
           "trajectory": "Rabbit Example",
           "value": 0.7615976929664612
          },
          {
           "time": 43.91182327270508,
           "trajectory": "Rabbit Example",
           "value": 0.7855514883995056
          },
          {
           "time": 44.0100212097168,
           "trajectory": "Rabbit Example",
           "value": 0.8108388781547546
          },
          {
           "time": 44.10821533203125,
           "trajectory": "Rabbit Example",
           "value": 0.8374597430229187
          },
          {
           "time": 44.20641326904297,
           "trajectory": "Rabbit Example",
           "value": 0.865413248538971
          },
          {
           "time": 44.30461120605469,
           "trajectory": "Rabbit Example",
           "value": 0.8946887254714966
          },
          {
           "time": 44.40280532836914,
           "trajectory": "Rabbit Example",
           "value": 0.9252691864967346
          },
          {
           "time": 44.50100326538086,
           "trajectory": "Rabbit Example",
           "value": 0.957132875919342
          },
          {
           "time": 44.59919738769531,
           "trajectory": "Rabbit Example",
           "value": 0.9902411103248596
          },
          {
           "time": 44.69739532470703,
           "trajectory": "Rabbit Example",
           "value": 1.0245485305786133
          },
          {
           "time": 44.79559326171875,
           "trajectory": "Rabbit Example",
           "value": 1.0599937438964844
          },
          {
           "time": 44.8937873840332,
           "trajectory": "Rabbit Example",
           "value": 1.096492886543274
          },
          {
           "time": 44.99198532104492,
           "trajectory": "Rabbit Example",
           "value": 1.1339479684829712
          },
          {
           "time": 45.09018325805664,
           "trajectory": "Rabbit Example",
           "value": 1.1722357273101807
          },
          {
           "time": 45.188377380371094,
           "trajectory": "Rabbit Example",
           "value": 1.21120285987854
          },
          {
           "time": 45.28657531738281,
           "trajectory": "Rabbit Example",
           "value": 1.250674843788147
          },
          {
           "time": 45.384769439697266,
           "trajectory": "Rabbit Example",
           "value": 1.2904314994812012
          },
          {
           "time": 45.482967376708984,
           "trajectory": "Rabbit Example",
           "value": 1.3302251100540161
          },
          {
           "time": 45.5811653137207,
           "trajectory": "Rabbit Example",
           "value": 1.3697561025619507
          },
          {
           "time": 45.679359436035156,
           "trajectory": "Rabbit Example",
           "value": 1.4086899757385254
          },
          {
           "time": 45.77755355834961,
           "trajectory": "Rabbit Example",
           "value": 1.446636438369751
          },
          {
           "time": 45.87575149536133,
           "trajectory": "Rabbit Example",
           "value": 1.4831639528274536
          },
          {
           "time": 45.97394561767578,
           "trajectory": "Rabbit Example",
           "value": 1.5177826881408691
          },
          {
           "time": 46.0721435546875,
           "trajectory": "Rabbit Example",
           "value": 1.5499614477157593
          },
          {
           "time": 46.17033767700195,
           "trajectory": "Rabbit Example",
           "value": 1.5791211128234863
          },
          {
           "time": 46.26853561401367,
           "trajectory": "Rabbit Example",
           "value": 1.6046487092971802
          },
          {
           "time": 46.36673355102539,
           "trajectory": "Rabbit Example",
           "value": 1.6259114742279053
          },
          {
           "time": 46.464927673339844,
           "trajectory": "Rabbit Example",
           "value": 1.6422715187072754
          },
          {
           "time": 46.56312561035156,
           "trajectory": "Rabbit Example",
           "value": 1.6531084775924683
          },
          {
           "time": 46.66132354736328,
           "trajectory": "Rabbit Example",
           "value": 1.657849669456482
          },
          {
           "time": 46.759517669677734,
           "trajectory": "Rabbit Example",
           "value": 1.6560040712356567
          },
          {
           "time": 46.85771560668945,
           "trajectory": "Rabbit Example",
           "value": 1.6471959352493286
          },
          {
           "time": 46.955909729003906,
           "trajectory": "Rabbit Example",
           "value": 1.6312003135681152
          },
          {
           "time": 47.054107666015625,
           "trajectory": "Rabbit Example",
           "value": 1.607977032661438
          },
          {
           "time": 47.152305603027344,
           "trajectory": "Rabbit Example",
           "value": 1.5776911973953247
          },
          {
           "time": 47.2504997253418,
           "trajectory": "Rabbit Example",
           "value": 1.5407272577285767
          },
          {
           "time": 47.348697662353516,
           "trajectory": "Rabbit Example",
           "value": 1.4976850748062134
          },
          {
           "time": 47.446895599365234,
           "trajectory": "Rabbit Example",
           "value": 1.4493602514266968
          },
          {
           "time": 47.54508972167969,
           "trajectory": "Rabbit Example",
           "value": 1.3967088460922241
          },
          {
           "time": 47.643287658691406,
           "trajectory": "Rabbit Example",
           "value": 1.3407902717590332
          },
          {
           "time": 47.74148178100586,
           "trajectory": "Rabbit Example",
           "value": 1.2827231884002686
          },
          {
           "time": 47.83967971801758,
           "trajectory": "Rabbit Example",
           "value": 1.2236096858978271
          },
          {
           "time": 47.9378776550293,
           "trajectory": "Rabbit Example",
           "value": 1.1644997596740723
          },
          {
           "time": 48.03607177734375,
           "trajectory": "Rabbit Example",
           "value": 1.1063356399536133
          },
          {
           "time": 48.13426971435547,
           "trajectory": "Rabbit Example",
           "value": 1.049920678138733
          },
          {
           "time": 48.23246765136719,
           "trajectory": "Rabbit Example",
           "value": 0.9959092736244202
          },
          {
           "time": 48.33066177368164,
           "trajectory": "Rabbit Example",
           "value": 0.9448028206825256
          },
          {
           "time": 48.42885971069336,
           "trajectory": "Rabbit Example",
           "value": 0.8969480395317078
          },
          {
           "time": 48.52705383300781,
           "trajectory": "Rabbit Example",
           "value": 0.8525649309158325
          },
          {
           "time": 48.62525177001953,
           "trajectory": "Rabbit Example",
           "value": 0.8117567300796509
          },
          {
           "time": 48.72344970703125,
           "trajectory": "Rabbit Example",
           "value": 0.7745361328125
          },
          {
           "time": 48.8216438293457,
           "trajectory": "Rabbit Example",
           "value": 0.7408439517021179
          },
          {
           "time": 48.919837951660156,
           "trajectory": "Rabbit Example",
           "value": 0.710572361946106
          },
          {
           "time": 49.018035888671875,
           "trajectory": "Rabbit Example",
           "value": 0.6835713386535645
          },
          {
           "time": 49.11623001098633,
           "trajectory": "Rabbit Example",
           "value": 0.6596794724464417
          },
          {
           "time": 49.21442794799805,
           "trajectory": "Rabbit Example",
           "value": 0.63871830701828
          },
          {
           "time": 49.3126220703125,
           "trajectory": "Rabbit Example",
           "value": 0.6205099821090698
          },
          {
           "time": 49.41082000732422,
           "trajectory": "Rabbit Example",
           "value": 0.6048792600631714
          },
          {
           "time": 49.50901794433594,
           "trajectory": "Rabbit Example",
           "value": 0.5916576981544495
          },
          {
           "time": 49.60721206665039,
           "trajectory": "Rabbit Example",
           "value": 0.5806929469108582
          },
          {
           "time": 49.70541000366211,
           "trajectory": "Rabbit Example",
           "value": 0.5718418955802917
          },
          {
           "time": 49.80360794067383,
           "trajectory": "Rabbit Example",
           "value": 0.5649735331535339
          },
          {
           "time": 49.90180206298828,
           "trajectory": "Rabbit Example",
           "value": 0.5599724650382996
          },
          {
           "time": 50,
           "trajectory": "Rabbit Example",
           "value": 0.5567352771759033
          }
         ]
        },
        {
         "name": "points",
         "values": []
        },
        {
         "name": "selected",
         "on": [
          {
           "remove": true,
           "trigger": "clear"
          },
          {
           "remove": true,
           "trigger": "!shift"
          },
          {
           "insert": "clicked",
           "trigger": "!shift && clicked"
          },
          {
           "toggle": "clicked",
           "trigger": "shift && clicked"
          }
         ]
        }
       ],
       "height": 300,
       "legends": [
        {
         "encode": {
          "labels": {
           "interactive": true,
           "name": "legendLabel",
           "update": {
            "opacity": [
             {
              "test": "!length(data('selected')) || indata('selected', 'value', datum.value)",
              "value": 1
             },
             {
              "value": 0.25
             }
            ]
           }
          },
          "symbols": {
           "interactive": true,
           "name": "legendSymbol",
           "update": {
            "fill": {
             "value": "transparent"
            },
            "opacity": [
             {
              "test": "!length(data('selected')) || indata('selected', 'value', datum.value)",
              "value": 0.7
             },
             {
              "value": 0.15
             }
            ],
            "size": {
             "value": 64
            },
            "strokeWidth": {
             "value": 2
            }
           }
          }
         },
         "stroke": "color"
        }
       ],
       "marks": [
        {
         "from": {
          "facet": {
           "data": "points",
           "groupby": "trajectory",
           "name": "points_split"
          }
         },
         "marks": [
          {
           "encode": {
            "hover": {
             "fillOpacity": {
              "value": 0.9
             }
            },
            "update": {
             "fill": {
              "field": "trajectory",
              "scale": "color"
             },
             "fillOpacity": [
              {
               "test": "!length(data('selected')) || indata('selected', 'value', datum.trajectory)",
               "value": 0.5
              },
              {
               "value": 0.15
              }
             ],
             "stroke": {
              "field": "trajectory",
              "scale": "color"
             },
             "strokeOpacity": [
              {
               "test": "!length(data('selected')) || indata('selected', 'value', datum.trajectory)",
               "value": 0.75
              },
              {
               "value": 0.15
              }
             ],
             "strokeWidth": {
              "value": 2
             },
             "x": {
              "field": "time",
              "scale": "xscale"
             },
             "y": {
              "field": "value",
              "scale": "yscale"
             }
            }
           },
           "from": {
            "data": "points"
           },
           "name": "_points",
           "type": "symbol",
           "zindex": 3
          },
          {
           "encode": {
            "hover": {
             "fillOpacity": {
              "value": 0.9
             }
            },
            "update": {
             "interpolate": {
              "value": "linear"
             },
             "stroke": {
              "field": "trajectory",
              "scale": "color"
             },
             "strokeOpacity": [
              {
               "test": "!length(data('selected')) || indata('selected', 'value', datum.trajectory)",
               "value": 0.3
              },
              {
               "value": 0.1
              }
             ],
             "strokeWidth": {
              "value": 2
             },
             "x": {
              "field": "time",
              "scale": "xscale"
             },
             "y": {
              "field": "value",
              "scale": "yscale"
             }
            }
           },
           "from": {
            "data": "points"
           },
           "name": "_points_line",
           "type": "line",
           "zindex": 3
          }
         ],
         "type": "group",
         "zindex": 3
        },
        {
         "from": {
          "facet": {
           "data": "tracks",
           "groupby": "trajectory",
           "name": "track_split"
          }
         },
         "marks": [
          {
           "encode": {
            "hover": {
             "fillOpacity": {
              "value": 0.9
             }
            },
            "update": {
             "interpolate": {
              "value": "linear"
             },
             "stroke": {
              "field": "trajectory",
              "scale": "color"
             },
             "strokeOpacity": [
              {
               "test": "!length(data('selected')) || indata('selected', 'value', datum.trajectory)",
               "value": 0.75
              },
              {
               "value": 0.15
              }
             ],
             "strokeWidth": {
              "value": 2
             },
             "x": {
              "field": "time",
              "scale": "xscale"
             },
             "y": {
              "field": "value",
              "scale": "yscale"
             }
            }
           },
           "from": {
            "data": "track_split"
           },
           "name": "_tracks",
           "type": "line"
          }
         ],
         "name": "_tracks",
         "type": "group",
         "zindex": 2
        },
        {
         "from": {
          "facet": {
           "data": "distributions",
           "groupby": "trajectory",
           "name": "trajectory_split"
          }
         },
         "marks": [
          {
           "encode": {
            "hover": {
             "fillOpacity": {
              "value": 0.9
             }
            },
            "update": {
             "fill": {
              "field": "trajectory",
              "scale": "color"
             },
             "fillOpacity": [
              {
               "test": "!length(data('selected')) || indata('selected', 'value', datum.trajectory)",
               "value": 0.5
              },
              {
               "value": 0.15
              }
             ],
             "interpolate": {
              "value": "linear"
             },
             "stroke": {
              "field": "trajectory",
              "scale": "color"
             },
             "strokeOpacity": [
              {
               "test": "!length(data('selected')) || indata('selected', 'value', datum.trajectory)",
               "value": 0.75
              },
              {
               "value": 0.15
              }
             ],
             "strokeWidth": {
              "value": 2
             },
             "x": {
              "field": "time",
              "scale": "xscale"
             },
             "y": {
              "field": "upper",
              "scale": "yscale"
             },
             "y2": {
              "field": "lower",
              "scale": "yscale"
             }
            }
           },
           "from": {
            "data": "trajectory_split"
           },
           "type": "area"
          }
         ],
         "name": "_distributions",
         "type": "group",
         "zindex": 1
        }
       ],
       "padding": 5,
       "scales": [
        {
         "domain": {
          "fields": [
           {
            "data": "distributions",
            "field": "time"
           },
           {
            "data": "tracks",
            "field": "time"
           },
           {
            "data": "points",
            "field": "time"
           }
          ]
         },
         "name": "xscale",
         "range": "width",
         "type": "linear",
         "zero": false
        },
        {
         "domain": {
          "fields": [
           {
            "data": "distributions",
            "field": "lower"
           },
           {
            "data": "distributions",
            "field": "upper"
           },
           {
            "data": "tracks",
            "field": "value"
           },
           {
            "data": "points",
            "field": "value"
           }
          ]
         },
         "name": "yscale",
         "nice": true,
         "range": "height",
         "type": "linear",
         "zero": true
        },
        {
         "domain": {
          "fields": [
           {
            "data": "distributions",
            "field": "trajectory"
           },
           {
            "data": "tracks",
            "field": "trajectory"
           },
           {
            "data": "points",
            "field": "trajectory"
           }
          ]
         },
         "name": "color",
         "range": "category",
         "type": "ordinal"
        }
       ],
       "signals": [
        {
         "name": "clear",
         "on": [
          {
           "events": "mouseup[!event.item]",
           "force": true,
           "update": "true"
          }
         ],
         "value": true
        },
        {
         "name": "shift",
         "on": [
          {
           "events": "@legendSymbol:click, @legendLabel:click",
           "force": true,
           "update": "event.shiftKey"
          }
         ],
         "value": false
        },
        {
         "name": "clicked",
         "on": [
          {
           "events": "@legendSymbol:click, @legendLabel:click",
           "force": true,
           "update": "{value: datum.value}"
          }
         ],
         "value": null
        }
       ],
       "width": 500
      }
     },
     "metadata": {},
     "output_type": "display_data"
    }
   ],
   "source": [
    "ext_samples = deepcopy(prior_samples)\n",
    "ext_samples[\"Wolf Example\"] = prior_samples[\"Wolves_sol\"][1]\n",
    "ext_samples[\"Rabbit Example\"] = prior_samples[\"Rabbits_sol\"][1]\n",
    "subset = [\"Rabbits_sol\", \"Wolves_sol\", \"Rabbit Example\", \"Wolf Example\"]\n",
    "nice_labels={\"Rabbits_sol\": \"Rabbits\", \"Wolves_sol\": \"Wolves\"}\n",
    "schema = vega.trajectories(ext_samples, \n",
    "                           tspan, \n",
    "                           subset=subset, \n",
    "                           relabel=nice_labels)\n",
    "schema = vega.pad(schema, 5)\n",
    "vega.save_schema(schema, \"schema.json\")\n",
    "vega.ipy_display(schema)\n",
    "#tracks = schema"
   ]
  },
  {
   "cell_type": "code",
   "execution_count": null,
   "metadata": {},
   "outputs": [],
   "source": [
    "ext_samples = deepcopy(prior_samples)\n",
    "ext_samples[\"Wolf Example\"] = prior_samples[\"Wolves_sol\"][1]\n",
    "ext_samples[\"Rabbit Example\"] = prior_samples[\"Rabbits_sol\"][1]\n",
    "subset = [\"Rabbits_sol\", \"Wolves_sol\", \"Rabbit Example\", \"Wolf Example\"]\n",
    "nice_labels={\"Rabbits_sol\": \"Rabbits\", \"Wolves_sol\": \"Wolves\"}\n",
    "schema = vega.trajectories(ext_samples, \n",
    "                           tspan, \n",
    "                           subset=subset, \n",
    "                           relabel=nice_labels)\n",
    "schema = vega.pad(schema, 5)\n",
    "vega.save_schema(schema, \"schema.json\")\n",
    "vega.ipy_display(schema)\n",
    "#tracks = schema"
   ]
  }
 ],
 "metadata": {
  "kernelspec": {
   "display_name": "ASKEM",
   "language": "python",
   "name": "python3"
  },
  "language_info": {
   "codemirror_mode": {
    "name": "ipython",
    "version": 3
   },
   "file_extension": ".py",
   "mimetype": "text/x-python",
   "name": "python",
   "nbconvert_exporter": "python",
   "pygments_lexer": "ipython3",
   "version": "3.10.4"
  },
  "orig_nbformat": 4
 },
 "nbformat": 4,
 "nbformat_minor": 2
}
