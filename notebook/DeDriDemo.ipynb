{
 "cells": [
  {
   "cell_type": "markdown",
   "metadata": {},
   "source": [
    "# Thin thread simulation workflow\n",
    "\n",
    "![thin-thread-w-Julia.png](img/thin-thread-w-Julia.png)"
   ]
  },
  {
   "cell_type": "markdown",
   "metadata": {},
   "source": [
    "# Axes of Query Complexity\n",
    "\n",
    "* **model transformation complexity** ranging from simple queries over Pearl’s causal hierarchy (association and intervention) to complex queries (multiple world counterfactuals)\n",
    "* **simulation complexity**, ranging from unconditional (forward simulation) queries to conditional queries (inverse problem)\n",
    "* **decision complexity**, ranging from simple decisions (compare A vs B) to sophisticated decisions “optimize f(x) subject to g(x) = 0, h(x) <= 0\n",
    "* **intervention complexity**, In general, interventions that modify Petri nets are guaranteed to generate ODE's that preserve mass balance. Interventions that modify ODEs directly have no such guarantees.  As we explore additional queries in the ASKEM starter kit, we will likely need to represent interventions that directly modify the trajectories of the ODE's, which may result in further assumption violations. \n",
    "* **data complexity**.   Just as \"no plan has survived contact with the enemy\",  it may also be the case that \"no model has survived contact with data\". Unobserved confounding, missing data, and selection bias all threaten the validity of causal effect estimates.  Furthermore, when data come from different populations with different distributions over the same variables, care must be taken to avoid introducing bias.  By specifying queries that acknowledge these threats to validity, we can generate models that take these factors into account and apply formal causal reasoning to recover from the biases these threats may cause.\n",
    "\n",
    "\n",
    "\n",
    "## ASKEM Starter Kit Questions\n",
    "\n",
    "| Question | model complexity | simulation complexity | decision complexity | intervention complexity | query expression |\n",
    "|-----------|--------------|-----------------|---------------------------|-------------------|------------------|\n",
    "| What is the probability of staying under ICU capacity? | simple (no interventions) | intermediate (many forward simulations by sampling from prior distribution of parameters) | simple (no decisions)| simple (no intervention)| $$P(ICU < capacity)$$ |\n",
    "What is the probability of staying under ICU capacity if we do intervention X? | intermediate (intervened model) | intermediate (many forward simulations by sampling from prior distribution of parameters) | simple (only one intervention) |  unspecified | $$P(ICU_{do(X)} < capacity)$$ |\n",
    "| I can only do one, is A or B better? | intermediate (two intervened models) | intermediate (many forward simulations by sampling from prior distribution of parameters) | Simple (comparison of two alternatives) |depends on nature of A and B. | $$E[Y_{do(A)} - Y_{do(B)}] > 0$$ |\n",
    "|Is there an intervention that will keep us under ICU capacity with probability $p$? | intermediate (many interventions) | intermediate (many forward simulations by sampling from prior distribution of parameters| sophisticated (search over decision space to find an intervention that satisfy ICU capacity constraint | unspecified |  $$\\texttt{satisfy}_{x\\in X}  P(ICU_{do(x)}) < capacity) > p$$|\n",
    "| Is intervention $A$ or $B$ more likely to keep me under ICU capacity (simpler version of 3b)  | intermediate (two interventions) |intermediate (many forward simulations by sampling from prior distribution of parameters) | simple (comparison of two alternatives)n|depends on nature of A and B. | $$\\frac{P(ICU_{do(A)} < capacity )}{P(ICU_{do(B)} < capacity )}$$  |\n",
    "|When considering interventions $A,B,\\ldots$ what is the minimum (maximum) “expense” that achieves goal $G$? (is this underspecified? probably:  what is the cost function? Shouldn’t we iterate with the user about this?) Are you specifying an optimization function or constraints – not the same thing.  Many of these questions have implicit conditions that need to become explicit | intermediate (many interventions) |intermediate (many forward simulations by sampling from prior distribution of parameters |sophisticated (optimization over decision space) | depends on nature of $A$, $B$, etc...| $$\\begin{array}{rl}\\texttt{minimize}_{x\\in \\{A,B,\\ldots\\}}& Cost(x) \\\\\n",
    "\\texttt{such that} & G_{do(x)} = 1\\end{array}$$"
   ]
  },
  {
   "cell_type": "markdown",
   "metadata": {},
   "source": [
    "## Decision-driven (DeDri) queries that exercise the axes of complexity."
   ]
  },
  {
   "cell_type": "markdown",
   "metadata": {},
   "source": [
    "| Question | model complexity | simulation complexity | decision complexity | intervention complexity | query expression |\n",
    "|-----------|--------------|-----------------|---------------------------|-------------------|------------------|\n",
    "| What is the probability of staying under ICU capacity? | simple (no interventions) | intermediate (many forward simulations by sampling from prior distribution of parameters) | simple (no decisions)| simple (no intervention)| $$P(ICU < capacity)$$ |\n",
    "What is the probability of staying under ICU capacity if we do intervention X? | intermediate (intervened model) | intermediate (many forward simulations by sampling from prior distribution of parameters) | simple (only one intervention) |  depends on X | $$P(ICU_{do(X)} < capacity)$$ |\n",
    "Given that we exceeded ICU capacity, what is the probability of staying under ICU capacity if we do intervention X? | intermediate (intervened model) | complex (requires soving an inverse problem) | simple (only one intervention) |  depends on X | $$P(ICU_{do(X)} < capacity | ICU)$$ |\n",
    "|Given that we exceeded ICU capacity, is there an intervention that will keep us under ICU capacity with probability $p$? | intermediate (many interventions) | complex (requires solving an inverse problem)| sophisticated (search over decision space to find an intervention that satisfy ICU capacity constraint | unspecified |  $$\\texttt{satisfy}_{x\\in X}  P(ICU_{do(x)}) < capacity| ICU) < p$$|\n",
    "| Given that we exceeded ICU capacity, when should we have intervened? | complex (requires stratification) |complex (requires solving an inverse problem) |  complex (search over many interventions) | complex (intervening on a trajectory) | $$\\texttt{satisfy}_{x(t)\\in X(T)}  P(ICU_{do(x(t))} < capacity| ICU)< p$$\n",
    "| On average, how many fewer infections will there be if we imposed a mask mandate? | intermediate (two intervened models) | intermediate (many forward simulations by sampling from prior distribution of parameters) | Simple (comparison of two alternatives) |depends on how the mask mandate is implemented. | $$E[Infections_{do(mask mandate)} - Infections]$$ |\n",
    "|Is there an intervention that will keep us under ICU capacity with probability $p$? | intermediate (many interventions) | intermediate (many forward simulations by sampling from prior distribution of parameters| sophisticated (search over decision space to find an intervention that satisfy ICU capacity constraint | unspecified |  $$\\texttt{satisfy}_{x\\in X}  P(ICU_{do(x)} < capacity) < p$$|\n",
    "| Is intervention $A$ or $B$ more likely to keep me under ICU capacity (simpler version of 3b)  | intermediate (two interventions) |intermediate (many forward simulations by sampling from prior distribution of parameters) | simple (comparison of two alternatives)n|depends on nature of A and B. | $$\\frac{P(ICU_{do(A)} < capacity )}{P(ICU_{do(B)} < capacity )}$$  |"
   ]
  },
  {
   "cell_type": "markdown",
   "metadata": {},
   "source": [
    "## December Demo queries and variants"
   ]
  },
  {
   "cell_type": "markdown",
   "metadata": {},
   "source": [
    "| Question | model complexity | simulation complexity | decision complexity | intervention complexity | data complexity | query expression |\n",
    "|-----------|--------------|-----------------|---------------------------|-------------------|------------------|------------|\n",
    "|Compare different vaccination priority strategies. Which results in fewer total hospitalizations after a two month span? Does either strategy disproportionately affect specific demographic groups? i.e., would health inequities be amplified by either approach? Strategy 1: Vaccinate by age group, starting with the older population and work younger.  Strategy 2: Vaccinate by type of employment (exposure-based, i.e., essential workers) | intermediate (intervention) | simple (no data, possible priors) | simple (comparison of two interventions) | simple (modification of age and occupation-stratified rate parameters) | sophisticated (real-world data) |To represent Health inequities, we have to generate a counterfactual query comparing the effect on protected demographics with each intervention.  In this case, we need to stratify by these demographics in addition to age and occupation. Relative risk measures how disproportionately each demographic is hospitalized under each intervention compared to their proportion in the population.. $$RelativeRisk_{x \\in Demographics} \\left( \\sum_{t=0}^T hospitalizations(t, x)_{do(strategy_1)})\\right) -  RelativeRisk_{x\\in Demographics}\\left(\\sum_{t=0}^T hospitalizations(t, x)_{do(strategy_2)}\\right)$$ where strategy 1 vaccinates at a rate proportional to the hospitalization rate parameter, $strategy_1 := do(\\nu_{age} \\propto \\delta_{age})$ and strategy 2 vaccinates occupations at a rate proportional to their infection rate parameter. $strategy_2 := do(\\nu_{occupation} \\propto \\beta_{occupation})$|\n",
    "|Question/Ask: Looking back to this time, which interventions could we have implemented to keep below a hospitalization threshold of 3k covid patients, over the winter 2020 season (Dec. 1st 2020 to March 1st 2021)? (Can this be stated probabilistically? How likely would an intervention have enabled us to reach our goal?) .Very limited social distancing and masking policies (say this would only apply to healthcare settings, assume 5% decrease from normal contact/transmission levels) beginning right at the start of the period on Dec 1, 2021, through March 1, 2021. Stronger social distancing and masking policies, wait until after holidays and begin on Jan 1st, 2021 through end of 3 months (until March 1, 2021). What is the severity of intervention required for this option to have been successful? (for CHIME model this intervention maps to % decrease from baseline transmission levels). Modeling constraint/goal: keep covid hospitalizations < threshold over next 0<=t<3 months | sophisticated (counterfactual query) | sophisticated (inverse problem) | sophisticated (search over intervention space) | sophisticated (time-based interventions) | sophisticated (real-world data) | $$\\begin{array}{rl}\\texttt{satisfy}_{x\\in \\left\\{\\beta_{12/01/2020-3/01/2021} = 0.95\\beta,\\beta_{01/01/2021-3/01/2021}=0.75\\beta\\right\\}}& P(Hospitalizations(t)_{do(x)} > 3k) < p \\\\\n",
    " & \\forall t\\in \\left[12/1/2020-3/1/2021\\right] \\end{array}$$ \n",
    "|Question/Ask: Looking back to this time, which interventions could we have implemented to keep below a hospitalization threshold of 3k covid patients, over the winter 2020 season (Dec. 1st 2020 to March 1st 2021)? (Can this be stated probabilistically? How likely would an intervention have enabled us to reach our goal?) Vaccination by age.  Vaccination by occupation. What is the severity of intervention required for this option to have been successful? (for CHIME model this intervention maps to % decrease from baseline transmission levels). Modeling constraint/goal: keep covid hospitalizations < threshold over next 0<=t<3 months | sophisticated (counterfactual query) | sophisticated (inverse problem) | comparison of two alternativs.| sophisticated (time-based interventions) | sophisticated (real-world data) |$$\\begin{array}{rl}\\texttt{satisfy}_{x\\in \\left\\{\\nu_{age}, \\nu_{occupation}\\right\\}} & P(Hospitalization(t)_{do(x)} > 3k) < p \\\\\n",
    " & \\forall t\\in \\left[12/1/2020-3/1/2021\\right] \\end{array}$$ |\n",
    "|What vaccination rate(s) $\\nu$ would these two groups need to have over the next 3 months, in order to lower the observed case rate for those age groups below 10 cases per 100k population?|intermediate (interventions) | intermediate (prior distribution) | sophisticated (2 choices) | simple (parameter change) | sophisticated (real-world data) | $$\\begin{array}{rl}\\texttt{minimize} & \\nu \\\\ \\texttt{such that} & P(Infected(t)_{do(\\nu)} > 0.01\\%) < p \\\\\n",
    " & \\forall t > 4/1/2021 \\end{array}$$ |\n",
    " |What vaccination rate(s) would these two groups need to have over the next 3 months, in order to lower the observed case rate for those age groups below 10 cases per 100k population?|intermediate (interventions) | intermediate (prior distribution) | simple (2 choices) | simple (parameter change) | sophisticated (real-world data) | $$\\begin{array}{rl}\\texttt{satisfy}_{x\\in \\left\\{\\nu_{age}, \\nu_{occupation}\\right\\}} & P(Infected(t)_{do(x)} > 0.01\\%) < p \\\\\n",
    " & \\forall t > 4/1/2021 \\end{array}$$ |\n",
    "|What mask mandate/social distancing strength would these two groups need to have over the next 3 months, in order to lower the observed case rate for those age groups below 10 cases per 100k population | intermediate (interventions) | intermediate (prior distribution) | simple (2 choices) | simple (parameter change) | sophisticated (real-world data) | $$\\begin{array}{rl}\\texttt{satisfy}_{x\\in \\left\\{\\beta_{12/01/2020-3/01/2021} = 0.95\\beta,\\beta_{01/01/2021-3/01/2021}=0.75\\beta\\right\\}}& P(Infected(t)_{do(x)} > 0.01\\%) < p \\\\\n",
    " & \\forall t> 4/1/2021 \\end{array}$$ | \n",
    "Which of these models works better under training conditions? Which one should I trust more under certain conditions? Which one performed better during $t$ time period? | simple (no interventions) | intermediate (fitting/callibration for different scenarios)| intermediate (range of different comparison criteria) 3| simple (parameters and initial conditions) | complex (real-world data) | $$\\texttt{compare}_{x(t)\\in Scenarios}(\\left\\{CHIME(x(t))\\right\\}_{t=0}^T, \\left\\{SIDARTHE(x(t))\\right\\}_{t=0}^T|\\left\\{x(t)\\right\\}_{t=0}^T)$$\n",
    "Which of these models works better under holdout conditions? Which one should I trust more under certain conditions? Which one performed better during $t$ time period? | simple (no interventions) | intermediate (possible callibration for different scenarios)| intermediate (range of different comparison criteria) | simple (parameters and initial conditions) | complex (real-world data) | $$\\texttt{compare}_{x(t)\\in Scenarios}(\\left\\{CHIME(x(t))\\right\\}_{t=T+1}^{T+k}, \\left\\{SIDARTHE(x(t))\\right\\}_{t=T+1}^{T+k}|\\left\\{x(t)\\right\\}_{t=0}^T)$$"
   ]
  },
  {
   "cell_type": "markdown",
   "metadata": {},
   "source": [
    "## Scenario 1:  Comparing the effect of early and late mask mandates on hospitalizations\n",
    "\n",
    "Question/Ask: Looking back to this time, which interventions could we have implemented to keep below a hospitalization threshold of 3k covid patients, over the winter 2020 season (Dec. 1st 2020 to March 1st 2021)? \n",
    "* (Can this be stated probabilistically? How likely would an intervention have enabled us to reach our goal?) \n",
    "* Very limited social distancing and masking policies (say this would only apply to healthcare settings, assume 5% decrease from normal contact/transmission levels) beginning right at the start of the period on Dec 1, 2021, through March 1, 2021. \n",
    "* Stronger social distancing and masking policies, wait until after holidays and begin on Jan 1st, 2021 through end of 3 months (until March 1, 2021). \n",
    "* What is the severity of intervention required for this option to have been successful? (for CHIME model this intervention maps to % decrease from baseline transmission levels). \n",
    "* Modeling constraint/goal: keep covid hospitalizations < threshold over next 0<=t<3 months \n",
    "\n",
    " $$\\begin{array}{rl}\\texttt{satisfy}_{x\\in \\left\\{\\beta_{12/01/2020-3/01/2021} = 0.95\\beta,\\beta_{01/01/2021-3/01/2021}=0.75\\beta\\right\\}}& P(Hospitalizations(t)_{do(x)} > 3k) < p \\\\\n",
    " & \\forall t\\in \\left[12/1/2020-3/1/2021\\right] \\end{array}$$ "
   ]
  },
  {
   "cell_type": "code",
   "execution_count": null,
   "metadata": {},
   "outputs": [],
   "source": [
    "t   = Interval('t', metaid=\"wiki:Q573\")\n",
    "Hospitalizations = Fluent(t, \"Hospitalizations\", metaid=\"cemo:hospitalization_rate\", units=[])\n",
    "\n",
    "Beta             = Parameter('beta', , units=[])\n",
    "early_weak_mask_intervention  =  Intervention('early_weak_mask_intervention', \n",
    "                                    values    = [0.95*Beta],\n",
    "                                    start     = Date(12,1,2020), \n",
    "                                    end       = Date(3,1,2021)\n",
    "                                    metaid     = \"askemo:0000005\")\n",
    "\n",
    "late_strong_mask_intervention  =  Intervention('late_strong_mask_intervention',\n",
    "                                    values    = [0.75*Beta],\n",
    "                                    start     = Date(1,1,2021),\n",
    "                                    end       = Date(3,1,2021)\n",
    "                                    metaid  = \"askemo:0000005\")\n",
    "\n",
    "compare([\n",
    "    Hospitalizations[t] @ early_weak_mask_intervention  <= 3e3, \n",
    "                                                      t >= Date(12,1,2021),\n",
    "                                                      t <= Date(3,1,2021)\n",
    "        ],\n",
    "        [\n",
    "    Hospitalizations[t] @ late_strong_mask_intervention <= 3e3, \n",
    "                                                      t >= Date(12,1,2021),\n",
    "                                                      t <= Date(3,1,2021)\n",
    "        ]\n",
    ")\n"
   ]
  },
  {
   "cell_type": "markdown",
   "metadata": {},
   "source": [
    "## Finding the minimum vaccination rate to reduce infections below 10 per 100k after April 1.\n",
    "\n",
    "What vaccination rate(s) $\\nu$ would these two groups need to have over the next 3 months, in order to lower the observed case rate for those age groups below 10 cases per 100k population?\n",
    "\n",
    " $$\\begin{array}{rl}\\texttt{minimize} & \\nu \\\\ \\texttt{subject to} & P(Infected(t)_{do(\\nu)} > 0.01\\%) < p \\\\\n",
    " & \\forall t > 4/1/2021 \\end{array}$$"
   ]
  },
  {
   "cell_type": "code",
   "execution_count": 2,
   "metadata": {},
   "outputs": [
    {
     "ename": "NameError",
     "evalue": "name 'TimeVariable' is not defined",
     "output_type": "error",
     "traceback": [
      "\u001b[0;31m---------------------------------------------------------------------------\u001b[0m",
      "\u001b[0;31mNameError\u001b[0m                                 Traceback (most recent call last)",
      "\u001b[0;32m/var/folders/z1/nhct2gps3y94tkbwqvvd7y_jw6p1l8/T/ipykernel_2132/1280792526.py\u001b[0m in \u001b[0;36m<module>\u001b[0;34m\u001b[0m\n\u001b[0;32m----> 1\u001b[0;31m \u001b[0mt\u001b[0m \u001b[0;34m=\u001b[0m \u001b[0mTimeVariable\u001b[0m\u001b[0;34m(\u001b[0m\u001b[0;34m't'\u001b[0m\u001b[0;34m)\u001b[0m\u001b[0;34m\u001b[0m\u001b[0;34m\u001b[0m\u001b[0m\n\u001b[0m\u001b[1;32m      2\u001b[0m \u001b[0mp\u001b[0m \u001b[0;34m=\u001b[0m \u001b[0mConstant\u001b[0m\u001b[0;34m(\u001b[0m\u001b[0;34m'p'\u001b[0m\u001b[0;34m)\u001b[0m\u001b[0;34m\u001b[0m\u001b[0;34m\u001b[0m\u001b[0m\n\u001b[1;32m      3\u001b[0m \u001b[0mInfected\u001b[0m \u001b[0;34m=\u001b[0m \u001b[0mFunction\u001b[0m\u001b[0;34m(\u001b[0m\u001b[0mt\u001b[0m\u001b[0;34m)\u001b[0m\u001b[0;34m\u001b[0m\u001b[0;34m\u001b[0m\u001b[0m\n\u001b[1;32m      4\u001b[0m \u001b[0mBeta\u001b[0m \u001b[0;34m=\u001b[0m \u001b[0mFunction\u001b[0m\u001b[0;34m(\u001b[0m\u001b[0mt\u001b[0m\u001b[0;34m)\u001b[0m\u001b[0;34m\u001b[0m\u001b[0;34m\u001b[0m\u001b[0m\n\u001b[1;32m      5\u001b[0m \u001b[0mIntervention_1\u001b[0m  \u001b[0;34m=\u001b[0m  \u001b[0;34m[\u001b[0m\u001b[0mPiece\u001b[0m\u001b[0;34m(\u001b[0m\u001b[0mstart\u001b[0m\u001b[0;34m=\u001b[0m\u001b[0mDate\u001b[0m\u001b[0;34m(\u001b[0m\u001b[0;36m12\u001b[0m\u001b[0;34m,\u001b[0m\u001b[0;36m1\u001b[0m\u001b[0;34m,\u001b[0m\u001b[0;36m2020\u001b[0m\u001b[0;34m)\u001b[0m\u001b[0;34m,\u001b[0m \u001b[0mend\u001b[0m\u001b[0;34m=\u001b[0m\u001b[0mDate\u001b[0m\u001b[0;34m(\u001b[0m\u001b[0;36m3\u001b[0m\u001b[0;34m,\u001b[0m\u001b[0;36m1\u001b[0m\u001b[0;34m,\u001b[0m\u001b[0;36m2021\u001b[0m\u001b[0;34m)\u001b[0m\u001b[0;34m,\u001b[0m \u001b[0mvariable\u001b[0m\u001b[0;34m=\u001b[0m\u001b[0mBeta\u001b[0m\u001b[0;34m,\u001b[0m \u001b[0mvalue\u001b[0m\u001b[0;34m=\u001b[0m\u001b[0;36m0.95\u001b[0m\u001b[0;34m*\u001b[0m\u001b[0mBeta\u001b[0m\u001b[0;34m)\u001b[0m\u001b[0;34m]\u001b[0m\u001b[0;34m\u001b[0m\u001b[0;34m\u001b[0m\u001b[0m\n",
      "\u001b[0;31mNameError\u001b[0m: name 'TimeVariable' is not defined"
     ]
    }
   ],
   "source": [
    "t = Interval('t',\n",
    "             start=Date(1,1,2021),\n",
    "             end=Date(5,1,2021))\n",
    "\n",
    "vaccine_rate = Intervention('nu',\n",
    "                            lower_bound=0,\n",
    "                            upper_bound=1,\n",
    "                            metaid=\"askemo:0000012\"\n",
    "                           )\n",
    "\n",
    "Infected  = Fluent(t,'Infected', \n",
    "                    metaid=\"ido:0000511\")\n",
    "p = 0.05\n",
    "minimize(vaccine_rate,\n",
    "         subject_to = [ \n",
    "                         P(Infected[t] @ vaccine_rate <= 0.01) < p, \n",
    "                                                    t >= Date(4,1,2021)\n",
    "                       ]\n",
    "        )\n",
    "\n"
   ]
  },
  {
   "cell_type": "markdown",
   "metadata": {},
   "source": [
    "## Scenario 3: Comparison of CHIME and SIDARTHE models on a dataset\n",
    "\n",
    "### Which of these models works better under training conditions?\n",
    "* Which one should I trust more under certain conditions?\n",
    "* Which one performed better during $t$ time period? \n",
    "\n",
    "$$\\texttt{compare}_{x(t)\\in Scenarios}(\\left\\{CHIME(x(t))\\right\\}_{t=0}^T, \\left\\{SIDARTHE(x(t))\\right\\}_{t=0}^T|\\left\\{x(t)\\right\\}_{t=0}^T)$$\n",
    "\n",
    "\n"
   ]
  },
  {
   "cell_type": "code",
   "execution_count": null,
   "metadata": {},
   "outputs": [],
   "source": [
    "t         = Interval('t', metaid=\"wikidata:Q11471\", units=\"wiki:Q573\")\n",
    "CHIME     = Intervention(start= metaid=\"https://penn-chime.phl.io/\")\n",
    "SIDARTHE  = Intervention(t, metaid=\"biomodels:BIOMD0000000955\")\n",
    "Infected  = Fluent(t, 'Infected', metaid=\"ido:0000511\")\n",
    "Context = [Fluent(t, metaid=\"\")]\n",
    "compare([P(Infected[t] @ CHIME[t]    | Context[t]),  0 <= t, t <= T],\n",
    "        [P(Infected[t] @ SIDARTHE[t] | Context[t]),  0 <= t, t <= T]\n",
    "        )\n"
   ]
  },
  {
   "cell_type": "markdown",
   "metadata": {},
   "source": [
    "### Which of these models works better under holdout conditions? \n",
    "\n",
    "* Which one should I trust more under certain conditions?\n",
    "* Which one performed better during $t$ time period? \n",
    "\n",
    "$$\\texttt{compare}_{x(t)\\in Scenarios}(\\left\\{CHIME(x(t))\\right\\}_{t=T+1}^{T+k}, \\left\\{SIDARTHE(x(t))\\right\\}_{t=T+1}^{T+k}|\\left\\{x(t)\\right\\}_{t=0}^T)$$"
   ]
  },
  {
   "cell_type": "code",
   "execution_count": null,
   "metadata": {},
   "outputs": [],
   "source": [
    "t         = Interval('t', metaid=\"wikidata:Q11471\", units=\"wiki:Q573\")\n",
    "t0        = Interval('t', metaid=\"wikidata:Q11471\", units=\"wiki:Q573\")\n",
    "CHIME     = Intervention(t, metaid=\"https://penn-chime.phl.io/\")\n",
    "SIDARTHE  = Intervention(t, metaid=\"biomodels:BIOMD0000000955\")\n",
    "Infected  = Fluent(t, 'Infected', metaid=\"ido:0000511\")\n",
    "Scenario  = Fluent(t0, metaid=\"\")\n",
    "compare([P(Infected[t] @ CHIME[t]    | Context[t0]),  T+1 <= t, t <= T+k, 0 <= t0, t0 <=T ],\n",
    "        [P(Infected[t] @ SIDARTHE[t] | Context[t0]),  T+1 <= t, t <= T+k, 0 <= t0, t0 <=T ]\n",
    "        )"
   ]
  },
  {
   "cell_type": "markdown",
   "metadata": {},
   "source": [
    "# DeDri syntax for causal and counterfactual queries"
   ]
  },
  {
   "cell_type": "code",
   "execution_count": 9,
   "metadata": {},
   "outputs": [],
   "source": [
    "from y0.dsl import (P,  Sum, Variable, Product)\n",
    "from IPython.display import Latex"
   ]
  },
  {
   "cell_type": "code",
   "execution_count": 3,
   "metadata": {},
   "outputs": [],
   "source": [
    "Infected = Variable('Infected')\n",
    "Recovered = Variable('Recovered')\n",
    "Vaccinated = Variable('Vaccinated')\n",
    "Died = Variable('Died')"
   ]
  },
  {
   "cell_type": "markdown",
   "metadata": {},
   "source": [
    "**What is the probability that an infected, vaccinated person recovers?**"
   ]
  },
  {
   "cell_type": "code",
   "execution_count": 4,
   "metadata": {},
   "outputs": [
    {
     "data": {
      "text/latex": [
       "$P(Recovered | Infected, Vaccinated)$"
      ],
      "text/plain": [
       "P(Recovered | Infected, Vaccinated)"
      ]
     },
     "execution_count": 4,
     "metadata": {},
     "output_type": "execute_result"
    }
   ],
   "source": [
    "P(Recovered |  Infected, Vaccinated)"
   ]
  },
  {
   "cell_type": "markdown",
   "metadata": {},
   "source": [
    "**What is the probability that an  infected, unvaccinated,person does not recover?** "
   ]
  },
  {
   "cell_type": "code",
   "execution_count": 5,
   "metadata": {},
   "outputs": [
    {
     "data": {
      "text/latex": [
       "$P(Recovered^* | Infected, Vaccinated^*)$"
      ],
      "text/plain": [
       "P(+Recovered | Infected, +Vaccinated)"
      ]
     },
     "execution_count": 5,
     "metadata": {},
     "output_type": "execute_result"
    }
   ],
   "source": [
    "P(~Recovered |  Infected, ~Vaccinated)"
   ]
  },
  {
   "cell_type": "markdown",
   "metadata": {},
   "source": [
    "**What is the probability that an infected person would recover if they were vaccinated, but die if they were not vaccinated?**"
   ]
  },
  {
   "cell_type": "code",
   "execution_count": 6,
   "metadata": {},
   "outputs": [
    {
     "data": {
      "text/latex": [
       "$P({Recovered}_{Vaccinated}, {Recovered}^*_{Vaccinated^*} | Infected)$"
      ],
      "text/plain": [
       "P(Recovered @ -Vaccinated, +Recovered @ +Vaccinated | Infected)"
      ]
     },
     "execution_count": 6,
     "metadata": {},
     "output_type": "execute_result"
    }
   ],
   "source": [
    "P(Recovered @ Vaccinated, ~Recovered @ ~Vaccinated | Infected)"
   ]
  },
  {
   "cell_type": "markdown",
   "metadata": {},
   "source": [
    "# Causal Validation of simple epidemiology queries with latent confounders\n",
    "\n",
    "If there is latent confounding, then there exist spurious correlations in the data.  Identification algorithms can be used to determine whether the causal query can be estimated from the dataset."
   ]
  },
  {
   "cell_type": "code",
   "execution_count": 1,
   "metadata": {},
   "outputs": [
    {
     "data": {
      "image/png": "[encoded data removed]",
      "text/plain": [
       "<Figure size 432x288 with 1 Axes>"
      ]
     },
     "metadata": {},
     "output_type": "display_data"
    }
   ],
   "source": [
    "from y0.examples import id_sir_example, nonid_sir_example\n",
    "from y0.algorithm.identify import Identification, identify, Unidentifiable\n",
    "\n",
    "nonid_sir_example.graph.draw()\n"
   ]
  },
  {
   "cell_type": "markdown",
   "metadata": {},
   "source": [
    "## Causal effect of infection on death with latent confounder (immunocompromised) is not identifiable."
   ]
  },
  {
   "cell_type": "code",
   "execution_count": 10,
   "metadata": {},
   "outputs": [
    {
     "data": {
      "text/latex": [
       "$P({Died}_{Infected})$"
      ],
      "text/plain": [
       "P(Died @ -Infected)"
      ]
     },
     "metadata": {},
     "output_type": "display_data"
    },
    {
     "data": {
      "text/latex": [
       "is not identifiable given the model"
      ],
      "text/plain": [
       "<IPython.core.display.Latex object>"
      ]
     },
     "metadata": {},
     "output_type": "display_data"
    }
   ],
   "source": [
    "nonid_sir = Identification.from_expression(\n",
    "    query=P[Infected](Died), \n",
    "    estimand=P(Infected, Died), \n",
    "    graph=nonid_sir_example.graph\n",
    ")\n",
    "try:\n",
    "    identify(nonid_sir)\n",
    "except Unidentifiable:\n",
    "    display(nonid_sir.query.expression)\n",
    "    display(Latex(\"is not identifiable given the model\"))\n"
   ]
  },
  {
   "cell_type": "markdown",
   "metadata": {},
   "source": [
    "## Causal effect of infection on death with hospitalization mediator is identifiable"
   ]
  },
  {
   "cell_type": "code",
   "execution_count": 11,
   "metadata": {},
   "outputs": [
    {
     "data": {
      "image/png": "[encoded data removed]",
      "text/plain": [
       "<Figure size 432x288 with 1 Axes>"
      ]
     },
     "metadata": {},
     "output_type": "display_data"
    }
   ],
   "source": [
    "from y0.algorithm.identify import Identification, identify, Unidentifiable\n",
    "from IPython.display import Latex, Markdown\n",
    "from y0.dsl import P, Variable, Sum, Product\n",
    "\n",
    "Infected, Died, Hospitalized = Variable(\"Infected\"), Variable(\"Died\"), Variable(\"Hospitalized\")\n",
    "\n",
    "id_sir = Identification.from_expression(\n",
    "    query=P[Infected](Died), \n",
    "    estimand=P(Infected, Hospitalized, Died), \n",
    "    graph=id_sir_example.graph\n",
    ")\n",
    "id_sir.graph.draw()"
   ]
  },
  {
   "cell_type": "code",
   "execution_count": 12,
   "metadata": {},
   "outputs": [
    {
     "data": {
      "text/latex": [
       "The query "
      ],
      "text/plain": [
       "<IPython.core.display.Latex object>"
      ]
     },
     "metadata": {},
     "output_type": "display_data"
    },
    {
     "data": {
      "text/latex": [
       "$P({Died}_{Infected})$"
      ],
      "text/plain": [
       "P(Died @ -Infected)"
      ]
     },
     "metadata": {},
     "output_type": "display_data"
    },
    {
     "data": {
      "text/latex": [
       "is identifiable and has estimand: "
      ],
      "text/plain": [
       "<IPython.core.display.Latex object>"
      ]
     },
     "metadata": {},
     "output_type": "display_data"
    },
    {
     "data": {
      "text/latex": [
       "$\\sum_{Hospitalized} P(Hospitalized | Infected) \\sum_{} \\sum_{Infected} P(Died | Hospitalized, Infected) P(Infected)$"
      ],
      "text/plain": [
       "Sum[Hospitalized](P(Hospitalized | Infected) * Sum(Sum[Infected](P(Died | Hospitalized, Infected) * P(Infected))))"
      ]
     },
     "metadata": {},
     "output_type": "display_data"
    }
   ],
   "source": [
    "estimand = identify(id_sir)\n",
    "display(Latex(f\"The query \"), id_sir.query.expression, Latex(f\"is identifiable and has estimand: \"), estimand)"
   ]
  },
  {
   "cell_type": "markdown",
   "metadata": {},
   "source": [
    "$$E[Y_{do(A)} - Y_{do(\\lnot A)}]$$"
   ]
  },
  {
   "cell_type": "markdown",
   "metadata": {},
   "source": [
    "$$\\sum_{y_{do(A)}\\in dom(Y_{do(A)})}y_{do(A)}P(y_{do(A)}) - \\sum_{y_{do(\\lnot A)}\\in dom(Y_{do(\\lnot A)})}y_{do(\\lnot A)}P(y_{do(\\lnot A)})$$ "
   ]
  }
 ],
 "metadata": {
  "kernelspec": {
   "display_name": "anaconda3-2021.11",
   "language": "python",
   "name": "anaconda3-2021.11"
  },
  "language_info": {
   "codemirror_mode": {
    "name": "ipython",
    "version": 3
   },
   "file_extension": ".py",
   "mimetype": "text/x-python",
   "name": "python",
   "nbconvert_exporter": "python",
   "pygments_lexer": "ipython3",
   "version": "3.9.7"
  },
  "toc": {
   "base_numbering": 1,
   "nav_menu": {},
   "number_sections": true,
   "sideBar": true,
   "skip_h1_title": false,
   "title_cell": "Table of Contents",
   "title_sidebar": "Contents",
   "toc_cell": false,
   "toc_position": {},
   "toc_section_display": true,
   "toc_window_display": false
  },
  "toc-autonumbering": false,
  "toc-showmarkdowntxt": true
 },
 "nbformat": 4,
 "nbformat_minor": 4
}
