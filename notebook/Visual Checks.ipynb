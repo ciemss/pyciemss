{
 "cells": [
  {
   "cell_type": "code",
   "execution_count": 3,
   "id": "5c1729f7-1b0d-4913-8048-01624c506cc5",
   "metadata": {},
   "outputs": [],
   "source": [
    "import pandas as pd\n",
    "import json\n",
    "import os\n",
    "import xarray as xr\n",
    "import numpy as np\n",
    "\n",
    "from pyciemss.visuals import vega, checks"
   ]
  },
  {
   "cell_type": "code",
   "execution_count": 4,
   "id": "ae5f488f-834f-41ef-ae88-ac332ece6e32",
   "metadata": {},
   "outputs": [],
   "source": [
    "data_file = '../test/data/ciemss_datacube.nc'\n",
    "\n",
    "def read_cube(file):\n",
    "    ds = xr.open_mfdataset([data_file])\n",
    "    real_data  = ds.to_dataframe().reset_index()\n",
    "    real_data.rename(columns={'timesteps': 'time', \n",
    "                              'experimental conditions': 'conditions', \n",
    "                              'attributes': 'state_names', \n",
    "                              '__xarray_dataarray_variable__': \"state_values\"}, \n",
    "                     inplace=True)\n",
    "    return real_data\n",
    "\n",
    "raw_data = read_cube(data_file)\n",
    "s30 = raw_data.loc[(raw_data['time']== 30) & (raw_data['state_names'] == \"S\")]\n",
    "i30 = raw_data.loc[(raw_data['time']== 30) & (raw_data['state_names'] == \"I\")]\n",
    "r30 = raw_data.loc[(raw_data['time']== 30) & (raw_data['state_names'] == \"R\")]"
   ]
  },
  {
   "cell_type": "code",
   "execution_count": 5,
   "id": "2408699e-5565-43e4-9009-4913b91f9b9f",
   "metadata": {},
   "outputs": [
    {
     "data": {
      "application/vnd.vega.v5+json": {
       "$schema": "https://vega.github.io/schema/vega/v5.json",
       "axes": [
        {
         "orient": "bottom",
         "scale": "xscale",
         "zindex": 1
        },
        {
         "orient": "left",
         "scale": "yscale",
         "tickCount": 5,
         "zindex": 1
        }
       ],
       "data": [
        {
         "name": "binned",
         "values": [
          {
           "bin0": 68577.46875,
           "bin1": 70759.6796875,
           "count": 77,
           "label": "s30"
          },
          {
           "bin0": 70759.6796875,
           "bin1": 72941.890625,
           "count": 65,
           "label": "s30"
          },
          {
           "bin0": 72941.890625,
           "bin1": 75124.1015625,
           "count": 68,
           "label": "s30"
          },
          {
           "bin0": 75124.1015625,
           "bin1": 77306.3125,
           "count": 81,
           "label": "s30"
          },
          {
           "bin0": 77306.3125,
           "bin1": 79488.5234375,
           "count": 590,
           "label": "s30"
          },
          {
           "bin0": 79488.5234375,
           "bin1": 81670.734375,
           "count": 123,
           "label": "s30"
          },
          {
           "bin0": 81670.734375,
           "bin1": 83852.953125,
           "count": 117,
           "label": "s30"
          },
          {
           "bin0": 83852.953125,
           "bin1": 86035.1640625,
           "count": 98,
           "label": "s30"
          },
          {
           "bin0": 86035.1640625,
           "bin1": 88217.375,
           "count": 1057,
           "label": "s30"
          },
          {
           "bin0": 88217.375,
           "bin1": 90399.5859375,
           "count": 81,
           "label": "s30"
          },
          {
           "bin0": 90399.5859375,
           "bin1": 92581.796875,
           "count": 52,
           "label": "s30"
          },
          {
           "bin0": 92581.796875,
           "bin1": 94764.0078125,
           "count": 49,
           "label": "s30"
          },
          {
           "bin0": 94764.0078125,
           "bin1": 96946.21875,
           "count": 41,
           "label": "s30"
          }
         ]
        },
        {
         "name": "xref",
         "values": [
          {
           "value": 70000
          },
          {
           "value": 94000
          }
         ]
        },
        {
         "name": "yref",
         "values": []
        },
        {
         "name": "_ranges",
         "source": [
          "binned"
         ],
         "transform": [
          {
           "as": [
            "min",
            "max"
           ],
           "fields": [
            "bin0",
            "bin1"
           ],
           "ops": [
            "min",
            "max"
           ],
           "type": "aggregate"
          }
         ]
        }
       ],
       "description": "Histogram for visualizing a univariate distribution using static bins.",
       "height": 100,
       "legends": [
        {
         "fill": "color"
        }
       ],
       "marks": [
        {
         "encode": {
          "hover": {
           "fill": {
            "value": "firebrick"
           }
          },
          "update": {
           "fill": {
            "field": "label",
            "scale": "color"
           },
           "opacity": {
            "value": 0.7
           },
           "tooltip": {
            "field": "count"
           },
           "x": {
            "field": "bin0",
            "scale": "xscale"
           },
           "x2": {
            "field": "bin1",
            "offset": -0.5,
            "scale": "xscale"
           },
           "y": {
            "field": "count",
            "scale": "yscale"
           },
           "y2": {
            "scale": "yscale",
            "value": 0
           }
          }
         },
         "from": {
          "data": "binned"
         },
         "name": "bins",
         "type": "rect"
        },
        {
         "clip": true,
         "encode": {
          "enter": {
           "stroke": {
            "value": "red"
           }
          },
          "update": {
           "opacity": {
            "value": 1
           },
           "x": {
            "field": "value",
            "scale": "xscale"
           },
           "y": {
            "signal": "height"
           },
           "y2": {
            "value": 0
           }
          }
         },
         "from": {
          "data": "xref"
         },
         "name": "x_highlights",
         "type": "rule"
        },
        {
         "clip": true,
         "encode": {
          "enter": {
           "stroke": {
            "value": "red"
           }
          },
          "update": {
           "opacity": {
            "value": 1
           },
           "x": {
            "signal": "width"
           },
           "x2": {
            "value": 0
           },
           "y": {
            "field": "count",
            "scale": "yscale"
           }
          }
         },
         "from": {
          "data": "yref"
         },
         "name": "y_highlights",
         "type": "rule"
        }
       ],
       "padding": 5,
       "scales": [
        {
         "domain": {
          "data": "_ranges",
          "fields": [
           "min",
           "max"
          ]
         },
         "name": "xscale",
         "range": "width",
         "type": "linear"
        },
        {
         "domain": {
          "data": "binned",
          "field": "count"
         },
         "name": "yscale",
         "nice": true,
         "range": "height",
         "round": true,
         "type": "linear",
         "zero": true
        },
        {
         "domain": {
          "data": "binned",
          "field": "label"
         },
         "name": "color",
         "range": {
          "scheme": "dark2"
         },
         "type": "ordinal"
        }
       ],
       "title": {
        "anchor": "start",
        "frame": "group",
        "orient": "top",
        "text": [
         "Distribution Check (Histogram)",
         "Failed (50% passing)"
        ]
       },
       "width": 500
      },
      "image/png": "[encoded data removed]"
     },
     "metadata": {},
     "output_type": "display_data"
    }
   ],
   "source": [
    "lower, upper = 70_000, 94_000\n",
    "result = checks.check_distribution_range(\n",
    "                    s30, lower, upper,\n",
    "                    label=\"s30\",\n",
    "                    tests={\"full\": checks.contains(lower, upper), \n",
    "                            \"most\": checks.contains(lower, upper, .99)})\n",
    "vega.ipy_display(result.schema)"
   ]
  },
  {
   "cell_type": "code",
   "execution_count": 6,
   "id": "68b1aa39-456d-4bc4-a811-d6e7378775f7",
   "metadata": {},
   "outputs": [
    {
     "data": {
      "text/plain": [
       "Result(status:False, checks:{'full': True, 'most': False}, schema:<present>; Additional Fields: ['bins'])"
      ]
     },
     "execution_count": 6,
     "metadata": {},
     "output_type": "execute_result"
    }
   ],
   "source": [
    "result"
   ]
  },
  {
   "cell_type": "code",
   "execution_count": 7,
   "id": "7f51dff9-faab-4595-94e9-2475d3a1c27b",
   "metadata": {},
   "outputs": [
    {
     "data": {
      "application/vnd.vega.v5+json": {
       "$schema": "https://vega.github.io/schema/vega/v5.json",
       "axes": [
        {
         "orient": "bottom",
         "scale": "xscale",
         "zindex": 1
        },
        {
         "orient": "left",
         "scale": "yscale",
         "tickCount": 5,
         "zindex": 1
        }
       ],
       "data": [
        {
         "name": "binned",
         "values": [
          {
           "bin0": 68.05197143554688,
           "bin1": 110.87287902832031,
           "count": 0,
           "label": "Subject"
          },
          {
           "bin0": 110.87287902832031,
           "bin1": 153.69378662109375,
           "count": 0,
           "label": "Subject"
          },
          {
           "bin0": 153.69378662109375,
           "bin1": 196.5146942138672,
           "count": 0,
           "label": "Subject"
          },
          {
           "bin0": 196.5146942138672,
           "bin1": 239.33560180664062,
           "count": 0,
           "label": "Subject"
          },
          {
           "bin0": 239.33560180664062,
           "bin1": 282.156494140625,
           "count": 0,
           "label": "Subject"
          },
          {
           "bin0": 282.156494140625,
           "bin1": 324.9774169921875,
           "count": 0,
           "label": "Subject"
          },
          {
           "bin0": 324.9774169921875,
           "bin1": 367.79833984375,
           "count": 0,
           "label": "Subject"
          },
          {
           "bin0": 367.79833984375,
           "bin1": 410.6192321777344,
           "count": 4,
           "label": "Subject"
          },
          {
           "bin0": 410.6192321777344,
           "bin1": 453.44012451171875,
           "count": 132,
           "label": "Subject"
          },
          {
           "bin0": 453.44012451171875,
           "bin1": 496.26104736328125,
           "count": 764,
           "label": "Subject"
          },
          {
           "bin0": 496.26104736328125,
           "bin1": 539.0819702148438,
           "count": 989,
           "label": "Subject"
          },
          {
           "bin0": 539.0819702148438,
           "bin1": 581.90283203125,
           "count": 478,
           "label": "Subject"
          },
          {
           "bin0": 581.90283203125,
           "bin1": 624.7237548828125,
           "count": 122,
           "label": "Subject"
          },
          {
           "bin0": 624.7237548828125,
           "bin1": 667.544677734375,
           "count": 10,
           "label": "Subject"
          },
          {
           "bin0": 68.05197143554688,
           "bin1": 110.87287902832031,
           "count": 363,
           "label": "Reference"
          },
          {
           "bin0": 110.87287902832031,
           "bin1": 153.69378662109375,
           "count": 1342,
           "label": "Reference"
          },
          {
           "bin0": 153.69378662109375,
           "bin1": 196.5146942138672,
           "count": 669,
           "label": "Reference"
          },
          {
           "bin0": 196.5146942138672,
           "bin1": 239.33560180664062,
           "count": 120,
           "label": "Reference"
          },
          {
           "bin0": 239.33560180664062,
           "bin1": 282.156494140625,
           "count": 6,
           "label": "Reference"
          }
         ]
        },
        {
         "name": "xref",
         "values": []
        },
        {
         "name": "yref",
         "values": []
        },
        {
         "name": "_ranges",
         "source": [
          "binned"
         ],
         "transform": [
          {
           "as": [
            "min",
            "max"
           ],
           "fields": [
            "bin0",
            "bin1"
           ],
           "ops": [
            "min",
            "max"
           ],
           "type": "aggregate"
          }
         ]
        }
       ],
       "description": "Histogram for visualizing a univariate distribution using static bins.",
       "height": 100,
       "legends": [
        {
         "fill": "color"
        }
       ],
       "marks": [
        {
         "encode": {
          "hover": {
           "fill": {
            "value": "firebrick"
           }
          },
          "update": {
           "fill": {
            "field": "label",
            "scale": "color"
           },
           "opacity": {
            "value": 0.7
           },
           "tooltip": {
            "field": "count"
           },
           "x": {
            "field": "bin0",
            "scale": "xscale"
           },
           "x2": {
            "field": "bin1",
            "offset": -0.5,
            "scale": "xscale"
           },
           "y": {
            "field": "count",
            "scale": "yscale"
           },
           "y2": {
            "scale": "yscale",
            "value": 0
           }
          }
         },
         "from": {
          "data": "binned"
         },
         "name": "bins",
         "type": "rect"
        },
        {
         "clip": true,
         "encode": {
          "enter": {
           "stroke": {
            "value": "red"
           }
          },
          "update": {
           "opacity": {
            "value": 1
           },
           "x": {
            "field": "value",
            "scale": "xscale"
           },
           "y": {
            "signal": "height"
           },
           "y2": {
            "value": 0
           }
          }
         },
         "from": {
          "data": "xref"
         },
         "name": "x_highlights",
         "type": "rule"
        },
        {
         "clip": true,
         "encode": {
          "enter": {
           "stroke": {
            "value": "red"
           }
          },
          "update": {
           "opacity": {
            "value": 1
           },
           "x": {
            "signal": "width"
           },
           "x2": {
            "value": 0
           },
           "y": {
            "field": "count",
            "scale": "yscale"
           }
          }
         },
         "from": {
          "data": "yref"
         },
         "name": "y_highlights",
         "type": "rule"
        }
       ],
       "padding": 5,
       "scales": [
        {
         "domain": {
          "data": "_ranges",
          "fields": [
           "min",
           "max"
          ]
         },
         "name": "xscale",
         "range": "width",
         "type": "linear"
        },
        {
         "domain": {
          "data": "binned",
          "field": "count"
         },
         "name": "yscale",
         "nice": true,
         "range": "height",
         "round": true,
         "type": "linear",
         "zero": true
        },
        {
         "domain": {
          "data": "binned",
          "field": "label"
         },
         "name": "color",
         "range": {
          "scheme": "dark2"
         },
         "type": "ordinal"
        }
       ],
       "title": {
        "anchor": "start",
        "frame": "group",
        "orient": "top",
        "text": [
         "Distribution Comparison",
         "Passed"
        ]
       },
       "width": 500
      },
      "image/png": "[encoded data removed]"
     },
     "metadata": {},
     "output_type": "display_data"
    }
   ],
   "source": [
    "result = checks.compare_distributions(r30, i30, tests=[checks.JS(1)])\n",
    "vega.ipy_display(result.schema)"
   ]
  },
  {
   "cell_type": "code",
   "execution_count": 8,
   "id": "1dbb3b4d-3229-4480-9d0f-a0a562ad1d71",
   "metadata": {},
   "outputs": [
    {
     "data": {
      "text/plain": [
       "Result(status:True, checks:{0: True}, schema:<present>; Additional Fields: ['aligned'])"
      ]
     },
     "execution_count": 8,
     "metadata": {},
     "output_type": "execute_result"
    }
   ],
   "source": [
    "result"
   ]
  },
  {
   "cell_type": "code",
   "execution_count": null,
   "id": "997ef041-0312-4b83-bbe2-32a6ddfe3d6c",
   "metadata": {},
   "outputs": [],
   "source": []
  }
 ],
 "metadata": {
  "kernelspec": {
   "display_name": "Python 3 (ipykernel)",
   "language": "python",
   "name": "python3"
  },
  "language_info": {
   "codemirror_mode": {
    "name": "ipython",
    "version": 3
   },
   "file_extension": ".py",
   "mimetype": "text/x-python",
   "name": "python",
   "nbconvert_exporter": "python",
   "pygments_lexer": "ipython3",
   "version": "3.10.4"
  }
 },
 "nbformat": 4,
 "nbformat_minor": 5
}
