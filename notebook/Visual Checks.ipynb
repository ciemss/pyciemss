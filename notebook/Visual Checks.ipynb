{
 "cells": [
  {
   "cell_type": "code",
   "execution_count": 1,
   "id": "5c1729f7-1b0d-4913-8048-01624c506cc5",
   "metadata": {},
   "outputs": [],
   "source": [
    "import pandas as pd\n",
    "import json\n",
    "import os\n",
    "import xarray as xr\n",
    "import numpy as np\n",
    "\n",
    "from pyciemss.workflow import vega, checks"
   ]
  },
  {
   "cell_type": "code",
   "execution_count": 2,
   "id": "ae5f488f-834f-41ef-ae88-ac332ece6e32",
   "metadata": {},
   "outputs": [],
   "source": [
    "data_file = '../test/data/ciemss_datacube.nc'\n",
    "\n",
    "def read_cube(file):\n",
    "    ds = xr.open_mfdataset([data_file])\n",
    "    real_data  = ds.to_dataframe().reset_index()\n",
    "    real_data.rename(columns={'timesteps': 'time', \n",
    "                              'experimental conditions': 'conditions', \n",
    "                              'attributes': 'state_names', \n",
    "                              '__xarray_dataarray_variable__': \"state_values\"}, \n",
    "                     inplace=True)\n",
    "    return real_data\n",
    "\n",
    "raw_data = read_cube(data_file)\n",
    "s30 = raw_data.loc[(raw_data['time']== 30) & (raw_data['state_names'] == \"S\")]\n",
    "i30 = raw_data.loc[(raw_data['time']== 30) & (raw_data['state_names'] == \"I\")]\n",
    "r30 = raw_data.loc[(raw_data['time']== 30) & (raw_data['state_names'] == \"R\")]"
   ]
  },
  {
   "cell_type": "code",
   "execution_count": 3,
   "id": "2408699e-5565-43e4-9009-4913b91f9b9f",
   "metadata": {},
   "outputs": [
    {
     "data": {
      "application/vnd.vega.v5+json": {
       "$schema": "https://vega.github.io/schema/vega/v5.json",
       "axes": [
        {
         "orient": "bottom",
         "scale": "xscale",
         "zindex": 1
        },
        {
         "orient": "left",
         "scale": "yscale",
         "tickCount": 5,
         "zindex": 1
        }
       ],
       "data": [
        {
         "name": "binned",
         "values": [
          {
           "bin0": 68577.46875,
           "bin1": 69144.84375,
           "count": 21,
           "label": "s30"
          },
          {
           "bin0": 69144.84375,
           "bin1": 69712.21875,
           "count": 17,
           "label": "s30"
          },
          {
           "bin0": 69712.21875,
           "bin1": 70279.59375,
           "count": 26,
           "label": "s30"
          },
          {
           "bin0": 70279.59375,
           "bin1": 70846.96875,
           "count": 17,
           "label": "s30"
          },
          {
           "bin0": 70846.96875,
           "bin1": 71414.34375,
           "count": 21,
           "label": "s30"
          },
          {
           "bin0": 71414.34375,
           "bin1": 71981.71875,
           "count": 15,
           "label": "s30"
          },
          {
           "bin0": 71981.71875,
           "bin1": 72549.09375,
           "count": 13,
           "label": "s30"
          },
          {
           "bin0": 72549.09375,
           "bin1": 73116.46875,
           "count": 19,
           "label": "s30"
          },
          {
           "bin0": 73116.46875,
           "bin1": 73683.84375,
           "count": 15,
           "label": "s30"
          },
          {
           "bin0": 73683.84375,
           "bin1": 74251.21875,
           "count": 18,
           "label": "s30"
          },
          {
           "bin0": 74251.21875,
           "bin1": 74818.59375,
           "count": 20,
           "label": "s30"
          },
          {
           "bin0": 74818.59375,
           "bin1": 75385.96875,
           "count": 17,
           "label": "s30"
          },
          {
           "bin0": 75385.96875,
           "bin1": 75953.34375,
           "count": 16,
           "label": "s30"
          },
          {
           "bin0": 75953.34375,
           "bin1": 76520.71875,
           "count": 23,
           "label": "s30"
          },
          {
           "bin0": 76520.71875,
           "bin1": 77088.09375,
           "count": 27,
           "label": "s30"
          },
          {
           "bin0": 77088.09375,
           "bin1": 77655.46875,
           "count": 15,
           "label": "s30"
          },
          {
           "bin0": 77655.46875,
           "bin1": 78222.84375,
           "count": 29,
           "label": "s30"
          },
          {
           "bin0": 78222.84375,
           "bin1": 78790.21875,
           "count": 98,
           "label": "s30"
          },
          {
           "bin0": 78790.21875,
           "bin1": 79357.59375,
           "count": 443,
           "label": "s30"
          },
          {
           "bin0": 79357.59375,
           "bin1": 79924.96875,
           "count": 39,
           "label": "s30"
          },
          {
           "bin0": 79924.96875,
           "bin1": 80492.34375,
           "count": 35,
           "label": "s30"
          },
          {
           "bin0": 80492.34375,
           "bin1": 81059.71875,
           "count": 27,
           "label": "s30"
          },
          {
           "bin0": 81059.71875,
           "bin1": 81627.09375,
           "count": 30,
           "label": "s30"
          },
          {
           "bin0": 81627.09375,
           "bin1": 82194.46875,
           "count": 33,
           "label": "s30"
          },
          {
           "bin0": 82194.46875,
           "bin1": 82761.84375,
           "count": 39,
           "label": "s30"
          },
          {
           "bin0": 82761.84375,
           "bin1": 83329.21875,
           "count": 31,
           "label": "s30"
          },
          {
           "bin0": 83329.21875,
           "bin1": 83896.59375,
           "count": 19,
           "label": "s30"
          },
          {
           "bin0": 83896.59375,
           "bin1": 84463.96875,
           "count": 32,
           "label": "s30"
          },
          {
           "bin0": 84463.96875,
           "bin1": 85031.34375,
           "count": 28,
           "label": "s30"
          },
          {
           "bin0": 85031.34375,
           "bin1": 85598.71875,
           "count": 24,
           "label": "s30"
          },
          {
           "bin0": 85598.71875,
           "bin1": 86166.09375,
           "count": 13,
           "label": "s30"
          },
          {
           "bin0": 86166.09375,
           "bin1": 86733.46875,
           "count": 13,
           "label": "s30"
          },
          {
           "bin0": 86733.46875,
           "bin1": 87300.84375,
           "count": 18,
           "label": "s30"
          },
          {
           "bin0": 87300.84375,
           "bin1": 87868.21875,
           "count": 684,
           "label": "s30"
          },
          {
           "bin0": 87868.21875,
           "bin1": 88435.59375,
           "count": 351,
           "label": "s30"
          },
          {
           "bin0": 88435.59375,
           "bin1": 89002.96875,
           "count": 17,
           "label": "s30"
          },
          {
           "bin0": 89002.96875,
           "bin1": 89570.34375,
           "count": 20,
           "label": "s30"
          },
          {
           "bin0": 89570.34375,
           "bin1": 90137.71875,
           "count": 24,
           "label": "s30"
          },
          {
           "bin0": 90137.71875,
           "bin1": 90705.09375,
           "count": 15,
           "label": "s30"
          },
          {
           "bin0": 90705.09375,
           "bin1": 91272.46875,
           "count": 15,
           "label": "s30"
          },
          {
           "bin0": 91272.46875,
           "bin1": 91839.84375,
           "count": 14,
           "label": "s30"
          },
          {
           "bin0": 91839.84375,
           "bin1": 92407.21875,
           "count": 14,
           "label": "s30"
          },
          {
           "bin0": 92407.21875,
           "bin1": 92974.59375,
           "count": 12,
           "label": "s30"
          },
          {
           "bin0": 92974.59375,
           "bin1": 93541.96875,
           "count": 11,
           "label": "s30"
          },
          {
           "bin0": 93541.96875,
           "bin1": 94109.34375,
           "count": 16,
           "label": "s30"
          },
          {
           "bin0": 94109.34375,
           "bin1": 94676.71875,
           "count": 12,
           "label": "s30"
          },
          {
           "bin0": 94676.71875,
           "bin1": 95244.09375,
           "count": 15,
           "label": "s30"
          },
          {
           "bin0": 95244.09375,
           "bin1": 95811.46875,
           "count": 14,
           "label": "s30"
          },
          {
           "bin0": 95811.46875,
           "bin1": 96378.84375,
           "count": 9,
           "label": "s30"
          },
          {
           "bin0": 96378.84375,
           "bin1": 96946.21875,
           "count": 6,
           "label": "s30"
          }
         ]
        },
        {
         "name": "xref",
         "values": [
          {
           "value": 70000
          },
          {
           "value": 94000
          }
         ]
        },
        {
         "name": "yref",
         "values": []
        },
        {
         "name": "_ranges",
         "source": [
          "binned"
         ],
         "transform": [
          {
           "as": [
            "min",
            "max"
           ],
           "fields": [
            "bin0",
            "bin1"
           ],
           "ops": [
            "min",
            "max"
           ],
           "type": "aggregate"
          }
         ]
        }
       ],
       "description": "Histogram for visualizing a univariate distribution using static bins.",
       "height": 100,
       "legends": [
        {
         "fill": "color"
        }
       ],
       "marks": [
        {
         "encode": {
          "hover": {
           "fill": {
            "value": "firebrick"
           }
          },
          "update": {
           "fill": {
            "field": "label",
            "scale": "color"
           },
           "opacity": {
            "value": 0.7
           },
           "tooltip": {
            "field": "count"
           },
           "x": {
            "field": "bin0",
            "scale": "xscale"
           },
           "x2": {
            "field": "bin1",
            "offset": -0.5,
            "scale": "xscale"
           },
           "y": {
            "field": "count",
            "scale": "yscale"
           },
           "y2": {
            "scale": "yscale",
            "value": 0
           }
          }
         },
         "from": {
          "data": "binned"
         },
         "name": "bins",
         "type": "rect"
        },
        {
         "clip": true,
         "encode": {
          "enter": {
           "stroke": {
            "value": "red"
           }
          },
          "update": {
           "opacity": {
            "value": 1
           },
           "x": {
            "field": "value",
            "scale": "xscale"
           },
           "y": {
            "signal": "height"
           },
           "y2": {
            "value": 0
           }
          }
         },
         "from": {
          "data": "xref"
         },
         "name": "x_highlights",
         "type": "rule"
        },
        {
         "clip": true,
         "encode": {
          "enter": {
           "stroke": {
            "value": "red"
           }
          },
          "update": {
           "opacity": {
            "value": 1
           },
           "x": {
            "signal": "width"
           },
           "x2": {
            "value": 0
           },
           "y": {
            "field": "count",
            "scale": "yscale"
           }
          }
         },
         "from": {
          "data": "yref"
         },
         "name": "y_highlights",
         "type": "rule"
        }
       ],
       "padding": 5,
       "scales": [
        {
         "domain": {
          "data": "_ranges",
          "fields": [
           "min",
           "max"
          ]
         },
         "name": "xscale",
         "range": "width",
         "type": "linear"
        },
        {
         "domain": {
          "data": "binned",
          "field": "count"
         },
         "name": "yscale",
         "nice": true,
         "range": "height",
         "round": true,
         "type": "linear",
         "zero": true
        },
        {
         "domain": {
          "data": "binned",
          "field": "label"
         },
         "name": "color",
         "range": {
          "scheme": "dark2"
         },
         "type": "ordinal"
        }
       ],
       "title": {
        "anchor": "start",
        "frame": "group",
        "orient": "top",
        "text": [
         "Prior Predictive Test (Histogram)",
         "Failed (50.00% passing)"
        ]
       },
       "width": 500
      },
      "image/png": "[encoded data removed]"
     },
     "metadata": {},
     "output_type": "display_data"
    }
   ],
   "source": [
    "lower, upper = 70_000, 94_000\n",
    "result, schema = checks.prior_predictive(\n",
    "                    s30, lower, upper,\n",
    "                    label=\"s30\",\n",
    "                    tests=[checks.contains(lower, upper), \n",
    "                           checks.contains(lower, upper, .99)])\n",
    "vega.ipy_display(schema)"
   ]
  },
  {
   "cell_type": "code",
   "execution_count": 4,
   "id": "7f51dff9-faab-4595-94e9-2475d3a1c27b",
   "metadata": {},
   "outputs": [
    {
     "data": {
      "application/vnd.vega.v5+json": {
       "$schema": "https://vega.github.io/schema/vega/v5.json",
       "axes": [
        {
         "orient": "bottom",
         "scale": "xscale",
         "zindex": 1
        },
        {
         "orient": "left",
         "scale": "yscale",
         "tickCount": 5,
         "zindex": 1
        }
       ],
       "data": [
        {
         "name": "binned",
         "values": [
          {
           "bin0": 394.3480224609375,
           "bin1": 399.81195068359375,
           "count": 1,
           "label": "Posterior"
          },
          {
           "bin0": 399.81195068359375,
           "bin1": 405.27587890625,
           "count": 0,
           "label": "Posterior"
          },
          {
           "bin0": 405.27587890625,
           "bin1": 410.73980712890625,
           "count": 3,
           "label": "Posterior"
          },
          {
           "bin0": 410.73980712890625,
           "bin1": 416.2037658691406,
           "count": 3,
           "label": "Posterior"
          },
          {
           "bin0": 416.2037658691406,
           "bin1": 421.6676940917969,
           "count": 8,
           "label": "Posterior"
          },
          {
           "bin0": 421.6676940917969,
           "bin1": 427.1316223144531,
           "count": 8,
           "label": "Posterior"
          },
          {
           "bin0": 427.1316223144531,
           "bin1": 432.5955505371094,
           "count": 11,
           "label": "Posterior"
          },
          {
           "bin0": 432.5955505371094,
           "bin1": 438.0594787597656,
           "count": 14,
           "label": "Posterior"
          },
          {
           "bin0": 438.0594787597656,
           "bin1": 443.5234069824219,
           "count": 21,
           "label": "Posterior"
          },
          {
           "bin0": 443.5234069824219,
           "bin1": 448.98736572265625,
           "count": 44,
           "label": "Posterior"
          },
          {
           "bin0": 448.98736572265625,
           "bin1": 454.4512939453125,
           "count": 33,
           "label": "Posterior"
          },
          {
           "bin0": 454.4512939453125,
           "bin1": 459.91522216796875,
           "count": 52,
           "label": "Posterior"
          },
          {
           "bin0": 459.91522216796875,
           "bin1": 465.379150390625,
           "count": 81,
           "label": "Posterior"
          },
          {
           "bin0": 465.379150390625,
           "bin1": 470.84307861328125,
           "count": 93,
           "label": "Posterior"
          },
          {
           "bin0": 470.84307861328125,
           "bin1": 476.3070068359375,
           "count": 111,
           "label": "Posterior"
          },
          {
           "bin0": 476.3070068359375,
           "bin1": 481.7709655761719,
           "count": 81,
           "label": "Posterior"
          },
          {
           "bin0": 481.7709655761719,
           "bin1": 487.2348937988281,
           "count": 119,
           "label": "Posterior"
          },
          {
           "bin0": 487.2348937988281,
           "bin1": 492.6988220214844,
           "count": 137,
           "label": "Posterior"
          },
          {
           "bin0": 492.6988220214844,
           "bin1": 498.1627502441406,
           "count": 138,
           "label": "Posterior"
          },
          {
           "bin0": 498.1627502441406,
           "bin1": 503.6266784667969,
           "count": 120,
           "label": "Posterior"
          },
          {
           "bin0": 503.6266784667969,
           "bin1": 509.0906066894531,
           "count": 146,
           "label": "Posterior"
          },
          {
           "bin0": 509.0906066894531,
           "bin1": 514.5545654296875,
           "count": 114,
           "label": "Posterior"
          },
          {
           "bin0": 514.5545654296875,
           "bin1": 520.0184936523438,
           "count": 135,
           "label": "Posterior"
          },
          {
           "bin0": 520.0184936523438,
           "bin1": 525.482421875,
           "count": 140,
           "label": "Posterior"
          },
          {
           "bin0": 525.482421875,
           "bin1": 530.9463500976562,
           "count": 120,
           "label": "Posterior"
          },
          {
           "bin0": 530.9463500976562,
           "bin1": 536.4102783203125,
           "count": 99,
           "label": "Posterior"
          },
          {
           "bin0": 536.4102783203125,
           "bin1": 541.8742065429688,
           "count": 101,
           "label": "Posterior"
          },
          {
           "bin0": 541.8742065429688,
           "bin1": 547.338134765625,
           "count": 77,
           "label": "Posterior"
          },
          {
           "bin0": 547.338134765625,
           "bin1": 552.8020629882812,
           "count": 85,
           "label": "Posterior"
          },
          {
           "bin0": 552.8020629882812,
           "bin1": 558.2659912109375,
           "count": 73,
           "label": "Posterior"
          },
          {
           "bin0": 558.2659912109375,
           "bin1": 563.7299194335938,
           "count": 54,
           "label": "Posterior"
          },
          {
           "bin0": 563.7299194335938,
           "bin1": 569.1939086914062,
           "count": 68,
           "label": "Posterior"
          },
          {
           "bin0": 569.1939086914062,
           "bin1": 574.6578369140625,
           "count": 32,
           "label": "Posterior"
          },
          {
           "bin0": 574.6578369140625,
           "bin1": 580.1217651367188,
           "count": 29,
           "label": "Posterior"
          },
          {
           "bin0": 580.1217651367188,
           "bin1": 585.585693359375,
           "count": 37,
           "label": "Posterior"
          },
          {
           "bin0": 585.585693359375,
           "bin1": 591.0496215820312,
           "count": 27,
           "label": "Posterior"
          },
          {
           "bin0": 591.0496215820312,
           "bin1": 596.5135498046875,
           "count": 32,
           "label": "Posterior"
          },
          {
           "bin0": 596.5135498046875,
           "bin1": 601.9774780273438,
           "count": 11,
           "label": "Posterior"
          },
          {
           "bin0": 601.9774780273438,
           "bin1": 607.44140625,
           "count": 9,
           "label": "Posterior"
          },
          {
           "bin0": 607.44140625,
           "bin1": 612.9053344726562,
           "count": 11,
           "label": "Posterior"
          },
          {
           "bin0": 612.9053344726562,
           "bin1": 618.3692626953125,
           "count": 10,
           "label": "Posterior"
          },
          {
           "bin0": 618.3692626953125,
           "bin1": 623.8331909179688,
           "count": 1,
           "label": "Posterior"
          },
          {
           "bin0": 623.8331909179688,
           "bin1": 629.297119140625,
           "count": 1,
           "label": "Posterior"
          },
          {
           "bin0": 629.297119140625,
           "bin1": 634.7611083984375,
           "count": 6,
           "label": "Posterior"
          },
          {
           "bin0": 634.7611083984375,
           "bin1": 640.2250366210938,
           "count": 0,
           "label": "Posterior"
          },
          {
           "bin0": 640.2250366210938,
           "bin1": 645.68896484375,
           "count": 1,
           "label": "Posterior"
          },
          {
           "bin0": 645.68896484375,
           "bin1": 651.1528930664062,
           "count": 0,
           "label": "Posterior"
          },
          {
           "bin0": 651.1528930664062,
           "bin1": 656.6168212890625,
           "count": 2,
           "label": "Posterior"
          },
          {
           "bin0": 656.6168212890625,
           "bin1": 662.0807495117188,
           "count": 0,
           "label": "Posterior"
          },
          {
           "bin0": 662.0807495117188,
           "bin1": 667.544677734375,
           "count": 1,
           "label": "Posterior"
          },
          {
           "bin0": 68.05197143554688,
           "bin1": 71.67057800292969,
           "count": 2,
           "label": "Reference"
          },
          {
           "bin0": 71.67057800292969,
           "bin1": 75.28917694091797,
           "count": 4,
           "label": "Reference"
          },
          {
           "bin0": 75.28917694091797,
           "bin1": 78.90778350830078,
           "count": 7,
           "label": "Reference"
          },
          {
           "bin0": 78.90778350830078,
           "bin1": 82.52638244628906,
           "count": 10,
           "label": "Reference"
          },
          {
           "bin0": 82.52638244628906,
           "bin1": 86.14498901367188,
           "count": 6,
           "label": "Reference"
          },
          {
           "bin0": 86.14498901367188,
           "bin1": 89.76358795166016,
           "count": 12,
           "label": "Reference"
          },
          {
           "bin0": 89.76358795166016,
           "bin1": 93.38219451904297,
           "count": 25,
           "label": "Reference"
          },
          {
           "bin0": 93.38219451904297,
           "bin1": 97.00079345703125,
           "count": 40,
           "label": "Reference"
          },
          {
           "bin0": 97.00079345703125,
           "bin1": 100.61940002441406,
           "count": 54,
           "label": "Reference"
          },
          {
           "bin0": 100.61940002441406,
           "bin1": 104.23800659179688,
           "count": 61,
           "label": "Reference"
          },
          {
           "bin0": 104.23800659179688,
           "bin1": 107.85660552978516,
           "count": 70,
           "label": "Reference"
          },
          {
           "bin0": 107.85660552978516,
           "bin1": 111.47521209716797,
           "count": 80,
           "label": "Reference"
          },
          {
           "bin0": 111.47521209716797,
           "bin1": 115.09381103515625,
           "count": 109,
           "label": "Reference"
          },
          {
           "bin0": 115.09381103515625,
           "bin1": 118.71241760253906,
           "count": 94,
           "label": "Reference"
          },
          {
           "bin0": 118.71241760253906,
           "bin1": 122.33101654052734,
           "count": 113,
           "label": "Reference"
          },
          {
           "bin0": 122.33101654052734,
           "bin1": 125.94962310791016,
           "count": 101,
           "label": "Reference"
          },
          {
           "bin0": 125.94962310791016,
           "bin1": 129.56822204589844,
           "count": 134,
           "label": "Reference"
          },
          {
           "bin0": 129.56822204589844,
           "bin1": 133.18682861328125,
           "count": 97,
           "label": "Reference"
          },
          {
           "bin0": 133.18682861328125,
           "bin1": 136.80543518066406,
           "count": 123,
           "label": "Reference"
          },
          {
           "bin0": 136.80543518066406,
           "bin1": 140.42404174804688,
           "count": 134,
           "label": "Reference"
          },
          {
           "bin0": 140.42404174804688,
           "bin1": 144.04263305664062,
           "count": 125,
           "label": "Reference"
          },
          {
           "bin0": 144.04263305664062,
           "bin1": 147.66123962402344,
           "count": 116,
           "label": "Reference"
          },
          {
           "bin0": 147.66123962402344,
           "bin1": 151.27984619140625,
           "count": 118,
           "label": "Reference"
          },
          {
           "bin0": 151.27984619140625,
           "bin1": 154.89845275878906,
           "count": 101,
           "label": "Reference"
          },
          {
           "bin0": 154.89845275878906,
           "bin1": 158.51705932617188,
           "count": 85,
           "label": "Reference"
          },
          {
           "bin0": 158.51705932617188,
           "bin1": 162.13565063476562,
           "count": 80,
           "label": "Reference"
          },
          {
           "bin0": 162.13565063476562,
           "bin1": 165.75425720214844,
           "count": 73,
           "label": "Reference"
          },
          {
           "bin0": 165.75425720214844,
           "bin1": 169.37286376953125,
           "count": 83,
           "label": "Reference"
          },
          {
           "bin0": 169.37286376953125,
           "bin1": 172.99147033691406,
           "count": 61,
           "label": "Reference"
          },
          {
           "bin0": 172.99147033691406,
           "bin1": 176.6100616455078,
           "count": 66,
           "label": "Reference"
          },
          {
           "bin0": 176.6100616455078,
           "bin1": 180.22866821289062,
           "count": 50,
           "label": "Reference"
          },
          {
           "bin0": 180.22866821289062,
           "bin1": 183.84727478027344,
           "count": 49,
           "label": "Reference"
          },
          {
           "bin0": 183.84727478027344,
           "bin1": 187.46588134765625,
           "count": 37,
           "label": "Reference"
          },
          {
           "bin0": 187.46588134765625,
           "bin1": 191.08448791503906,
           "count": 31,
           "label": "Reference"
          },
          {
           "bin0": 191.08448791503906,
           "bin1": 194.7030792236328,
           "count": 19,
           "label": "Reference"
          },
          {
           "bin0": 194.7030792236328,
           "bin1": 198.32168579101562,
           "count": 11,
           "label": "Reference"
          },
          {
           "bin0": 198.32168579101562,
           "bin1": 201.94029235839844,
           "count": 24,
           "label": "Reference"
          },
          {
           "bin0": 201.94029235839844,
           "bin1": 205.55889892578125,
           "count": 20,
           "label": "Reference"
          },
          {
           "bin0": 205.55889892578125,
           "bin1": 209.177490234375,
           "count": 9,
           "label": "Reference"
          },
          {
           "bin0": 209.177490234375,
           "bin1": 212.7960968017578,
           "count": 15,
           "label": "Reference"
          },
          {
           "bin0": 212.7960968017578,
           "bin1": 216.41470336914062,
           "count": 7,
           "label": "Reference"
          },
          {
           "bin0": 216.41470336914062,
           "bin1": 220.03330993652344,
           "count": 11,
           "label": "Reference"
          },
          {
           "bin0": 220.03330993652344,
           "bin1": 223.65191650390625,
           "count": 8,
           "label": "Reference"
          },
          {
           "bin0": 223.65191650390625,
           "bin1": 227.2705078125,
           "count": 7,
           "label": "Reference"
          },
          {
           "bin0": 227.2705078125,
           "bin1": 230.8891143798828,
           "count": 5,
           "label": "Reference"
          },
          {
           "bin0": 230.8891143798828,
           "bin1": 234.50772094726562,
           "count": 6,
           "label": "Reference"
          },
          {
           "bin0": 234.50772094726562,
           "bin1": 238.12632751464844,
           "count": 1,
           "label": "Reference"
          },
          {
           "bin0": 238.12632751464844,
           "bin1": 241.7449188232422,
           "count": 1,
           "label": "Reference"
          },
          {
           "bin0": 241.7449188232422,
           "bin1": 245.363525390625,
           "count": 2,
           "label": "Reference"
          },
          {
           "bin0": 245.363525390625,
           "bin1": 248.9821319580078,
           "count": 3,
           "label": "Reference"
          }
         ]
        },
        {
         "name": "xref",
         "values": []
        },
        {
         "name": "yref",
         "values": []
        },
        {
         "name": "_ranges",
         "source": [
          "binned"
         ],
         "transform": [
          {
           "as": [
            "min",
            "max"
           ],
           "fields": [
            "bin0",
            "bin1"
           ],
           "ops": [
            "min",
            "max"
           ],
           "type": "aggregate"
          }
         ]
        }
       ],
       "description": "Histogram for visualizing a univariate distribution using static bins.",
       "height": 100,
       "legends": [
        {
         "fill": "color"
        }
       ],
       "marks": [
        {
         "encode": {
          "hover": {
           "fill": {
            "value": "firebrick"
           }
          },
          "update": {
           "fill": {
            "field": "label",
            "scale": "color"
           },
           "opacity": {
            "value": 0.7
           },
           "tooltip": {
            "field": "count"
           },
           "x": {
            "field": "bin0",
            "scale": "xscale"
           },
           "x2": {
            "field": "bin1",
            "offset": -0.5,
            "scale": "xscale"
           },
           "y": {
            "field": "count",
            "scale": "yscale"
           },
           "y2": {
            "scale": "yscale",
            "value": 0
           }
          }
         },
         "from": {
          "data": "binned"
         },
         "name": "bins",
         "type": "rect"
        },
        {
         "clip": true,
         "encode": {
          "enter": {
           "stroke": {
            "value": "red"
           }
          },
          "update": {
           "opacity": {
            "value": 1
           },
           "x": {
            "field": "value",
            "scale": "xscale"
           },
           "y": {
            "signal": "height"
           },
           "y2": {
            "value": 0
           }
          }
         },
         "from": {
          "data": "xref"
         },
         "name": "x_highlights",
         "type": "rule"
        },
        {
         "clip": true,
         "encode": {
          "enter": {
           "stroke": {
            "value": "red"
           }
          },
          "update": {
           "opacity": {
            "value": 1
           },
           "x": {
            "signal": "width"
           },
           "x2": {
            "value": 0
           },
           "y": {
            "field": "count",
            "scale": "yscale"
           }
          }
         },
         "from": {
          "data": "yref"
         },
         "name": "y_highlights",
         "type": "rule"
        }
       ],
       "padding": 5,
       "scales": [
        {
         "domain": {
          "data": "_ranges",
          "fields": [
           "min",
           "max"
          ]
         },
         "name": "xscale",
         "range": "width",
         "type": "linear"
        },
        {
         "domain": {
          "data": "binned",
          "field": "count"
         },
         "name": "yscale",
         "nice": true,
         "range": "height",
         "round": true,
         "type": "linear",
         "zero": true
        },
        {
         "domain": {
          "data": "binned",
          "field": "label"
         },
         "name": "color",
         "range": {
          "scheme": "dark2"
         },
         "type": "ordinal"
        }
       ],
       "title": {
        "anchor": "start",
        "frame": "group",
        "orient": "top",
        "text": [
         "Posterior Predictive Check (Histogram)",
         "Failed (0.00% passing)"
        ]
       },
       "width": 500
      },
      "image/png": "[encoded data removed]"
     },
     "metadata": {},
     "output_type": "display_data"
    }
   ],
   "source": [
    "result, schema = checks.posterior_predictive(r30, i30, tests=[checks.KL(1)])\n",
    "vega.ipy_display(schema)"
   ]
  },
  {
   "cell_type": "code",
   "execution_count": null,
   "id": "1dbb3b4d-3229-4480-9d0f-a0a562ad1d71",
   "metadata": {},
   "outputs": [],
   "source": []
  }
 ],
 "metadata": {
  "kernelspec": {
   "display_name": "Python 3 (ipykernel)",
   "language": "python",
   "name": "python3"
  },
  "language_info": {
   "codemirror_mode": {
    "name": "ipython",
    "version": 3
   },
   "file_extension": ".py",
   "mimetype": "text/x-python",
   "name": "python",
   "nbconvert_exporter": "python",
   "pygments_lexer": "ipython3",
   "version": "3.10.4"
  }
 },
 "nbformat": 4,
 "nbformat_minor": 5
}
