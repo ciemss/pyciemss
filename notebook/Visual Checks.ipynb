{
 "cells": [
  {
   "cell_type": "code",
   "execution_count": 1,
   "id": "5c1729f7-1b0d-4913-8048-01624c506cc5",
   "metadata": {},
   "outputs": [],
   "source": [
    "import pandas as pd\n",
    "import json\n",
    "import os\n",
    "import xarray as xr\n",
    "import numpy as np\n",
    "\n",
    "from pyciemss.workflow import vega, checks"
   ]
  },
  {
   "cell_type": "code",
   "execution_count": 2,
   "id": "ae5f488f-834f-41ef-ae88-ac332ece6e32",
   "metadata": {},
   "outputs": [],
   "source": [
    "data_file = '../test/data/ciemss_datacube.nc'\n",
    "\n",
    "def read_cube(file):\n",
    "    ds = xr.open_mfdataset([data_file])\n",
    "    real_data  = ds.to_dataframe().reset_index()\n",
    "    real_data.rename(columns={'timesteps': 'time', \n",
    "                              'experimental conditions': 'conditions', \n",
    "                              'attributes': 'state_names', \n",
    "                              '__xarray_dataarray_variable__': \"state_values\"}, \n",
    "                     inplace=True)\n",
    "    return real_data\n",
    "\n",
    "raw_data = read_cube(data_file)\n",
    "s30 = raw_data.loc[(raw_data['time']== 30) & (raw_data['state_names'] == \"S\")]\n",
    "i30 = raw_data.loc[(raw_data['time']== 30) & (raw_data['state_names'] == \"I\")]\n",
    "r30 = raw_data.loc[(raw_data['time']== 30) & (raw_data['state_names'] == \"R\")]"
   ]
  },
  {
   "cell_type": "code",
   "execution_count": 3,
   "id": "2408699e-5565-43e4-9009-4913b91f9b9f",
   "metadata": {},
   "outputs": [
    {
     "data": {
      "application/vnd.vega.v5+json": {
       "$schema": "https://vega.github.io/schema/vega/v5.json",
       "axes": [
        {
         "orient": "bottom",
         "scale": "xscale",
         "zindex": 1
        },
        {
         "orient": "left",
         "scale": "yscale",
         "tickCount": 5,
         "zindex": 1
        }
       ],
       "data": [
        {
         "name": "binned",
         "values": [
          {
           "bin0": 68577.46875,
           "bin1": 71414.34375,
           "count": 0,
           "label": "s30"
          },
          {
           "bin0": 71414.34375,
           "bin1": 74251.21875,
           "count": 102,
           "label": "s30"
          },
          {
           "bin0": 74251.21875,
           "bin1": 77088.09375,
           "count": 80,
           "label": "s30"
          },
          {
           "bin0": 77088.09375,
           "bin1": 79924.96875,
           "count": 103,
           "label": "s30"
          },
          {
           "bin0": 79924.96875,
           "bin1": 82761.84375,
           "count": 624,
           "label": "s30"
          },
          {
           "bin0": 82761.84375,
           "bin1": 85598.71875,
           "count": 164,
           "label": "s30"
          },
          {
           "bin0": 85598.71875,
           "bin1": 88435.59375,
           "count": 134,
           "label": "s30"
          },
          {
           "bin0": 88435.59375,
           "bin1": 91272.46875,
           "count": 1079,
           "label": "s30"
          },
          {
           "bin0": 91272.46875,
           "bin1": 94109.34375,
           "count": 91,
           "label": "s30"
          },
          {
           "bin0": 94109.34375,
           "bin1": 96946.21875,
           "count": 67,
           "label": "s30"
          }
         ]
        },
        {
         "name": "xref",
         "values": [
          {
           "value": 70000
          },
          {
           "value": 94000
          }
         ]
        },
        {
         "name": "yref",
         "values": []
        },
        {
         "name": "_ranges",
         "source": [
          "binned"
         ],
         "transform": [
          {
           "as": [
            "min",
            "max"
           ],
           "fields": [
            "bin0",
            "bin1"
           ],
           "ops": [
            "min",
            "max"
           ],
           "type": "aggregate"
          }
         ]
        }
       ],
       "description": "Histogram for visualizing a univariate distribution using static bins.",
       "height": 100,
       "legends": [
        {
         "fill": "color"
        }
       ],
       "marks": [
        {
         "encode": {
          "hover": {
           "fill": {
            "value": "firebrick"
           }
          },
          "update": {
           "fill": {
            "field": "label",
            "scale": "color"
           },
           "opacity": {
            "value": 0.7
           },
           "tooltip": {
            "field": "count"
           },
           "x": {
            "field": "bin0",
            "scale": "xscale"
           },
           "x2": {
            "field": "bin1",
            "offset": -0.5,
            "scale": "xscale"
           },
           "y": {
            "field": "count",
            "scale": "yscale"
           },
           "y2": {
            "scale": "yscale",
            "value": 0
           }
          }
         },
         "from": {
          "data": "binned"
         },
         "name": "bins",
         "type": "rect"
        },
        {
         "clip": true,
         "encode": {
          "enter": {
           "stroke": {
            "value": "red"
           }
          },
          "update": {
           "opacity": {
            "value": 1
           },
           "x": {
            "field": "value",
            "scale": "xscale"
           },
           "y": {
            "signal": "height"
           },
           "y2": {
            "value": 0
           }
          }
         },
         "from": {
          "data": "xref"
         },
         "name": "x_highlights",
         "type": "rule"
        },
        {
         "clip": true,
         "encode": {
          "enter": {
           "stroke": {
            "value": "red"
           }
          },
          "update": {
           "opacity": {
            "value": 1
           },
           "x": {
            "signal": "width"
           },
           "x2": {
            "value": 0
           },
           "y": {
            "field": "count",
            "scale": "yscale"
           }
          }
         },
         "from": {
          "data": "yref"
         },
         "name": "y_highlights",
         "type": "rule"
        }
       ],
       "padding": 5,
       "scales": [
        {
         "domain": {
          "data": "_ranges",
          "fields": [
           "min",
           "max"
          ]
         },
         "name": "xscale",
         "range": "width",
         "type": "linear"
        },
        {
         "domain": {
          "data": "binned",
          "field": "count"
         },
         "name": "yscale",
         "nice": true,
         "range": "height",
         "round": true,
         "type": "linear",
         "zero": true
        },
        {
         "domain": {
          "data": "binned",
          "field": "label"
         },
         "name": "color",
         "range": {
          "scheme": "dark2"
         },
         "type": "ordinal"
        }
       ],
       "title": {
        "anchor": "start",
        "frame": "group",
        "orient": "top",
        "text": [
         "Prior Predictive Test (Histogram)",
         "Failed (50% passing)"
        ]
       },
       "width": 500
      },
      "image/png": "[encoded data removed]"
     },
     "metadata": {},
     "output_type": "display_data"
    }
   ],
   "source": [
    "lower, upper = 70_000, 94_000\n",
    "result, schema = checks.prior_predictive(\n",
    "                    s30, lower, upper,\n",
    "                    label=\"s30\",\n",
    "                    tests=[checks.contains(lower, upper), \n",
    "                           checks.contains(lower, upper, .99)])\n",
    "vega.ipy_display(schema)"
   ]
  },
  {
   "cell_type": "code",
   "execution_count": 4,
   "id": "7f51dff9-faab-4595-94e9-2475d3a1c27b",
   "metadata": {},
   "outputs": [
    {
     "data": {
      "application/vnd.vega.v5+json": {
       "$schema": "https://vega.github.io/schema/vega/v5.json",
       "axes": [
        {
         "orient": "bottom",
         "scale": "xscale",
         "zindex": 1
        },
        {
         "orient": "left",
         "scale": "yscale",
         "tickCount": 5,
         "zindex": 1
        }
       ],
       "data": [
        {
         "name": "binned",
         "values": [
          {
           "bin0": 68.05197143554688,
           "bin1": 128.00123596191406,
           "count": 0,
           "label": "Posterior"
          },
          {
           "bin0": 128.00123596191406,
           "bin1": 187.9505157470703,
           "count": 0,
           "label": "Posterior"
          },
          {
           "bin0": 187.9505157470703,
           "bin1": 247.8997802734375,
           "count": 0,
           "label": "Posterior"
          },
          {
           "bin0": 247.8997802734375,
           "bin1": 307.84906005859375,
           "count": 0,
           "label": "Posterior"
          },
          {
           "bin0": 307.84906005859375,
           "bin1": 367.79833984375,
           "count": 0,
           "label": "Posterior"
          },
          {
           "bin0": 367.79833984375,
           "bin1": 427.7475891113281,
           "count": 0,
           "label": "Posterior"
          },
          {
           "bin0": 427.7475891113281,
           "bin1": 487.6968688964844,
           "count": 23,
           "label": "Posterior"
          },
          {
           "bin0": 487.6968688964844,
           "bin1": 547.6461181640625,
           "count": 672,
           "label": "Posterior"
          },
          {
           "bin0": 547.6461181640625,
           "bin1": 607.5953979492188,
           "count": 1317,
           "label": "Posterior"
          },
          {
           "bin0": 607.5953979492188,
           "bin1": 667.544677734375,
           "count": 455,
           "label": "Posterior"
          },
          {
           "bin0": 68.05197143554688,
           "bin1": 128.00123596191406,
           "count": 0,
           "label": "Reference"
          },
          {
           "bin0": 128.00123596191406,
           "bin1": 187.9505157470703,
           "count": 876,
           "label": "Reference"
          },
          {
           "bin0": 187.9505157470703,
           "bin1": 247.8997802734375,
           "count": 1446,
           "label": "Reference"
          },
          {
           "bin0": 247.8997802734375,
           "bin1": 307.84906005859375,
           "count": 176,
           "label": "Reference"
          },
          {
           "bin0": 307.84906005859375,
           "bin1": 367.79833984375,
           "count": 2,
           "label": "Reference"
          }
         ]
        },
        {
         "name": "xref",
         "values": []
        },
        {
         "name": "yref",
         "values": []
        },
        {
         "name": "_ranges",
         "source": [
          "binned"
         ],
         "transform": [
          {
           "as": [
            "min",
            "max"
           ],
           "fields": [
            "bin0",
            "bin1"
           ],
           "ops": [
            "min",
            "max"
           ],
           "type": "aggregate"
          }
         ]
        }
       ],
       "description": "Histogram for visualizing a univariate distribution using static bins.",
       "height": 100,
       "legends": [
        {
         "fill": "color"
        }
       ],
       "marks": [
        {
         "encode": {
          "hover": {
           "fill": {
            "value": "firebrick"
           }
          },
          "update": {
           "fill": {
            "field": "label",
            "scale": "color"
           },
           "opacity": {
            "value": 0.7
           },
           "tooltip": {
            "field": "count"
           },
           "x": {
            "field": "bin0",
            "scale": "xscale"
           },
           "x2": {
            "field": "bin1",
            "offset": -0.5,
            "scale": "xscale"
           },
           "y": {
            "field": "count",
            "scale": "yscale"
           },
           "y2": {
            "scale": "yscale",
            "value": 0
           }
          }
         },
         "from": {
          "data": "binned"
         },
         "name": "bins",
         "type": "rect"
        },
        {
         "clip": true,
         "encode": {
          "enter": {
           "stroke": {
            "value": "red"
           }
          },
          "update": {
           "opacity": {
            "value": 1
           },
           "x": {
            "field": "value",
            "scale": "xscale"
           },
           "y": {
            "signal": "height"
           },
           "y2": {
            "value": 0
           }
          }
         },
         "from": {
          "data": "xref"
         },
         "name": "x_highlights",
         "type": "rule"
        },
        {
         "clip": true,
         "encode": {
          "enter": {
           "stroke": {
            "value": "red"
           }
          },
          "update": {
           "opacity": {
            "value": 1
           },
           "x": {
            "signal": "width"
           },
           "x2": {
            "value": 0
           },
           "y": {
            "field": "count",
            "scale": "yscale"
           }
          }
         },
         "from": {
          "data": "yref"
         },
         "name": "y_highlights",
         "type": "rule"
        }
       ],
       "padding": 5,
       "scales": [
        {
         "domain": {
          "data": "_ranges",
          "fields": [
           "min",
           "max"
          ]
         },
         "name": "xscale",
         "range": "width",
         "type": "linear"
        },
        {
         "domain": {
          "data": "binned",
          "field": "count"
         },
         "name": "yscale",
         "nice": true,
         "range": "height",
         "round": true,
         "type": "linear",
         "zero": true
        },
        {
         "domain": {
          "data": "binned",
          "field": "label"
         },
         "name": "color",
         "range": {
          "scheme": "dark2"
         },
         "type": "ordinal"
        }
       ],
       "title": {
        "anchor": "start",
        "frame": "group",
        "orient": "top",
        "text": [
         "Posterior Predictive Check (Histogram)",
         "Passed"
        ]
       },
       "width": 500
      },
      "image/png": "[encoded data removed]"
     },
     "metadata": {},
     "output_type": "display_data"
    }
   ],
   "source": [
    "result, schema = checks.posterior_predictive(r30, i30, tests=[checks.JS(1)])\n",
    "vega.ipy_display(schema)"
   ]
  },
  {
   "cell_type": "code",
   "execution_count": null,
   "id": "1dbb3b4d-3229-4480-9d0f-a0a562ad1d71",
   "metadata": {},
   "outputs": [],
   "source": []
  }
 ],
 "metadata": {
  "kernelspec": {
   "display_name": "Python 3 (ipykernel)",
   "language": "python",
   "name": "python3"
  },
  "language_info": {
   "codemirror_mode": {
    "name": "ipython",
    "version": 3
   },
   "file_extension": ".py",
   "mimetype": "text/x-python",
   "name": "python",
   "nbconvert_exporter": "python",
   "pygments_lexer": "ipython3",
   "version": "3.10.4"
  }
 },
 "nbformat": 4,
 "nbformat_minor": 5
}
