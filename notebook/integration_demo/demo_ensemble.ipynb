{
 "cells": [
  {
   "cell_type": "code",
   "execution_count": 1,
   "metadata": {},
   "outputs": [],
   "source": [
    "import os\n",
    "from pyciemss.Ensemble.interfaces import (\n",
    "    load_and_sample_petri_ensemble, load_and_calibrate_and_sample_ensemble_model\n",
    ")\n",
    "from pyciemss.visuals import plots"
   ]
  },
  {
   "cell_type": "code",
   "execution_count": 2,
   "metadata": {},
   "outputs": [],
   "source": [
    "DEMO_PATH = \"../../notebook/integration_demo/\"\n",
    "# ASKENET_PATH_1 = \"https://raw.githubusercontent.com/DARPA-ASKEM/Model-Representations/main/petrinet/examples/sir_typed.json\"\n",
    "ASKENET_PATH_1 = \"../../test/models/AMR_examples/ensemble/SEIARHDS_AMR.json\"\n",
    "ASKENET_PATH_2 = \"../../test/models/AMR_examples/ensemble/SIRHD_AMR.json\"\n",
    "\n",
    "ASKENET_PATHS = [ASKENET_PATH_1, ASKENET_PATH_2]"
   ]
  },
  {
   "attachments": {},
   "cell_type": "markdown",
   "metadata": {},
   "source": [
    "## load_and_sample_ensemble_model"
   ]
  },
  {
   "cell_type": "code",
   "execution_count": 3,
   "metadata": {},
   "outputs": [
    {
     "ename": "ValueError",
     "evalue": "Model file not found: test/models/AMR_examples/ensemble/SEIARHDS_AMR.json",
     "output_type": "error",
     "traceback": [
      "\u001b[1;31m---------------------------------------------------------------------------\u001b[0m",
      "\u001b[1;31mValueError\u001b[0m                                Traceback (most recent call last)",
      "Cell \u001b[1;32mIn[3], line 9\u001b[0m\n\u001b[0;32m      4\u001b[0m solution_mappings \u001b[39m=\u001b[39m [{\u001b[39m\"\u001b[39m\u001b[39mInfected\u001b[39m\u001b[39m\"\u001b[39m: \u001b[39m\"\u001b[39m\u001b[39mCases\u001b[39m\u001b[39m\"\u001b[39m, \u001b[39m\"\u001b[39m\u001b[39mHospitalizations\u001b[39m\u001b[39m\"\u001b[39m: \u001b[39m\"\u001b[39m\u001b[39mhospitalized_population\u001b[39m\u001b[39m\"\u001b[39m}, \u001b[39m# model 1 mappings\u001b[39;00m\n\u001b[0;32m      5\u001b[0m                      {\u001b[39m\"\u001b[39m\u001b[39mInfected\u001b[39m\u001b[39m\"\u001b[39m: \u001b[39m\"\u001b[39m\u001b[39mInfections\u001b[39m\u001b[39m\"\u001b[39m, \u001b[39m\"\u001b[39m\u001b[39mHospitalizations\u001b[39m\u001b[39m\"\u001b[39m: \u001b[39m\"\u001b[39m\u001b[39mhospitalized_population\u001b[39m\u001b[39m\"\u001b[39m} \u001b[39m# model 2\u001b[39;00m\n\u001b[0;32m      6\u001b[0m                      ]\n\u001b[0;32m      8\u001b[0m \u001b[39m# Run sampling\u001b[39;00m\n\u001b[1;32m----> 9\u001b[0m result \u001b[39m=\u001b[39m load_and_sample_petri_ensemble(\n\u001b[0;32m     10\u001b[0m     ASKENET_PATHS, weights, solution_mappings, num_samples, timepoints, \n\u001b[0;32m     11\u001b[0m     time_unit\u001b[39m=\u001b[39;49m\u001b[39m\"\u001b[39;49m\u001b[39mdays\u001b[39;49m\u001b[39m\"\u001b[39;49m,\n\u001b[0;32m     12\u001b[0m     visual_options\u001b[39m=\u001b[39;49m{\u001b[39m\"\u001b[39;49m\u001b[39msubset\u001b[39;49m\u001b[39m\"\u001b[39;49m:\u001b[39m\"\u001b[39;49m\u001b[39m.*_sol\u001b[39;49m\u001b[39m\"\u001b[39;49m}\n\u001b[0;32m     13\u001b[0m )\n\u001b[0;32m     15\u001b[0m ensemble_samples \u001b[39m=\u001b[39m result[\u001b[39m\"\u001b[39m\u001b[39mdata\u001b[39m\u001b[39m\"\u001b[39m]\n\u001b[0;32m     16\u001b[0m q_ensemble \u001b[39m=\u001b[39m result[\u001b[39m\"\u001b[39m\u001b[39mquantiles\u001b[39m\u001b[39m\"\u001b[39m]\n",
      "File \u001b[1;32m~\\Documents\\GitHub\\pyciemss\\src\\pyciemss\\Ensemble\\interfaces.py:120\u001b[0m, in \u001b[0;36mload_and_sample_petri_ensemble\u001b[1;34m(petri_model_or_paths, weights, solution_mappings, num_samples, timepoints, start_states, total_population, dirichlet_concentration, start_time, method, compile_rate_law_p, time_unit, visual_options, alpha_qs, stacking_order)\u001b[0m\n\u001b[0;32m     40\u001b[0m \u001b[39mdef\u001b[39;00m \u001b[39mload_and_sample_petri_ensemble\u001b[39m(\n\u001b[0;32m     41\u001b[0m     petri_model_or_paths: Iterable[\n\u001b[0;32m     42\u001b[0m         Union[\u001b[39mstr\u001b[39m, mira\u001b[39m.\u001b[39mmetamodel\u001b[39m.\u001b[39mTemplateModel, mira\u001b[39m.\u001b[39mmodeling\u001b[39m.\u001b[39mModel]\n\u001b[1;32m   (...)\u001b[0m\n\u001b[0;32m     58\u001b[0m     stacking_order: Optional[\u001b[39mstr\u001b[39m] \u001b[39m=\u001b[39m \u001b[39m\"\u001b[39m\u001b[39mtimepoints\u001b[39m\u001b[39m\"\u001b[39m,\n\u001b[0;32m     59\u001b[0m ) \u001b[39m-\u001b[39m\u001b[39m>\u001b[39m \u001b[39mdict\u001b[39m:\n\u001b[0;32m     60\u001b[0m \u001b[39m    \u001b[39m\u001b[39m\"\"\"\u001b[39;00m\n\u001b[0;32m     61\u001b[0m \u001b[39m    Load a petri net from a file, compile it into a probabilistic program, and sample from it.\u001b[39;00m\n\u001b[0;32m     62\u001b[0m \n\u001b[1;32m   (...)\u001b[0m\n\u001b[0;32m    118\u001b[0m \u001b[39m                * visual: Visualization. (If visual_options is truthy)\u001b[39;00m\n\u001b[0;32m    119\u001b[0m \u001b[39m    \"\"\"\u001b[39;00m\n\u001b[1;32m--> 120\u001b[0m     models \u001b[39m=\u001b[39m [\n\u001b[0;32m    121\u001b[0m         load_petri_model(\n\u001b[0;32m    122\u001b[0m         petri_model_or_path\u001b[39m=\u001b[39;49mpmop,\n\u001b[0;32m    123\u001b[0m         add_uncertainty\u001b[39m=\u001b[39;49m\u001b[39mFalse\u001b[39;49;00m,\n\u001b[0;32m    124\u001b[0m         compile_rate_law_p\u001b[39m=\u001b[39;49mcompile_rate_law_p,\n\u001b[0;32m    125\u001b[0m         compile_observables_p\u001b[39m=\u001b[39;49m\u001b[39mTrue\u001b[39;49;00m,\n\u001b[0;32m    126\u001b[0m     )\n\u001b[0;32m    127\u001b[0m         \u001b[39mfor\u001b[39;49;00m pmop \u001b[39min\u001b[39;49;00m petri_model_or_paths\n\u001b[0;32m    128\u001b[0m     ]\n\u001b[0;32m    130\u001b[0m     solution_mapping_fs \u001b[39m=\u001b[39m []\n\u001b[0;32m    132\u001b[0m     \u001b[39mfor\u001b[39;00m i, model \u001b[39min\u001b[39;00m \u001b[39menumerate\u001b[39m(models):\n",
      "File \u001b[1;32m~\\Documents\\GitHub\\pyciemss\\src\\pyciemss\\Ensemble\\interfaces.py:121\u001b[0m, in \u001b[0;36m<listcomp>\u001b[1;34m(.0)\u001b[0m\n\u001b[0;32m     40\u001b[0m \u001b[39mdef\u001b[39;00m \u001b[39mload_and_sample_petri_ensemble\u001b[39m(\n\u001b[0;32m     41\u001b[0m     petri_model_or_paths: Iterable[\n\u001b[0;32m     42\u001b[0m         Union[\u001b[39mstr\u001b[39m, mira\u001b[39m.\u001b[39mmetamodel\u001b[39m.\u001b[39mTemplateModel, mira\u001b[39m.\u001b[39mmodeling\u001b[39m.\u001b[39mModel]\n\u001b[1;32m   (...)\u001b[0m\n\u001b[0;32m     58\u001b[0m     stacking_order: Optional[\u001b[39mstr\u001b[39m] \u001b[39m=\u001b[39m \u001b[39m\"\u001b[39m\u001b[39mtimepoints\u001b[39m\u001b[39m\"\u001b[39m,\n\u001b[0;32m     59\u001b[0m ) \u001b[39m-\u001b[39m\u001b[39m>\u001b[39m \u001b[39mdict\u001b[39m:\n\u001b[0;32m     60\u001b[0m \u001b[39m    \u001b[39m\u001b[39m\"\"\"\u001b[39;00m\n\u001b[0;32m     61\u001b[0m \u001b[39m    Load a petri net from a file, compile it into a probabilistic program, and sample from it.\u001b[39;00m\n\u001b[0;32m     62\u001b[0m \n\u001b[1;32m   (...)\u001b[0m\n\u001b[0;32m    118\u001b[0m \u001b[39m                * visual: Visualization. (If visual_options is truthy)\u001b[39;00m\n\u001b[0;32m    119\u001b[0m \u001b[39m    \"\"\"\u001b[39;00m\n\u001b[0;32m    120\u001b[0m     models \u001b[39m=\u001b[39m [\n\u001b[1;32m--> 121\u001b[0m         load_petri_model(\n\u001b[0;32m    122\u001b[0m         petri_model_or_path\u001b[39m=\u001b[39;49mpmop,\n\u001b[0;32m    123\u001b[0m         add_uncertainty\u001b[39m=\u001b[39;49m\u001b[39mFalse\u001b[39;49;00m,\n\u001b[0;32m    124\u001b[0m         compile_rate_law_p\u001b[39m=\u001b[39;49mcompile_rate_law_p,\n\u001b[0;32m    125\u001b[0m         compile_observables_p\u001b[39m=\u001b[39;49m\u001b[39mTrue\u001b[39;49;00m,\n\u001b[0;32m    126\u001b[0m     )\n\u001b[0;32m    127\u001b[0m         \u001b[39mfor\u001b[39;00m pmop \u001b[39min\u001b[39;00m petri_model_or_paths\n\u001b[0;32m    128\u001b[0m     ]\n\u001b[0;32m    130\u001b[0m     solution_mapping_fs \u001b[39m=\u001b[39m []\n\u001b[0;32m    132\u001b[0m     \u001b[39mfor\u001b[39;00m i, model \u001b[39min\u001b[39;00m \u001b[39menumerate\u001b[39m(models):\n",
      "File \u001b[1;32m~\\Documents\\GitHub\\pyciemss\\src\\pyciemss\\PetriNetODE\\interfaces.py:766\u001b[0m, in \u001b[0;36mload_petri_model\u001b[1;34m(petri_model_or_path, add_uncertainty, noise_model, noise_scale, compile_observables_p, compile_rate_law_p)\u001b[0m\n\u001b[0;32m    762\u001b[0m     \u001b[39mreturn\u001b[39;00m ScaledBetaNoisePetriNetODESystem\u001b[39m.\u001b[39mfrom_askenet(\n\u001b[0;32m    763\u001b[0m         petri_model_or_path, noise_scale\u001b[39m=\u001b[39mnoise_scale, compile_rate_law_p\u001b[39m=\u001b[39mcompile_rate_law_p, compile_observables_p\u001b[39m=\u001b[39mcompile_observables_p, add_uncertainty\u001b[39m=\u001b[39madd_uncertainty\n\u001b[0;32m    764\u001b[0m     )\n\u001b[0;32m    765\u001b[0m \u001b[39melif\u001b[39;00m noise_model \u001b[39m==\u001b[39m \u001b[39m\"\u001b[39m\u001b[39mscaled_normal\u001b[39m\u001b[39m\"\u001b[39m:\n\u001b[1;32m--> 766\u001b[0m     \u001b[39mreturn\u001b[39;00m ScaledNormalNoisePetriNetODESystem\u001b[39m.\u001b[39;49mfrom_askenet(\n\u001b[0;32m    767\u001b[0m         petri_model_or_path, noise_scale\u001b[39m=\u001b[39;49mnoise_scale, compile_rate_law_p\u001b[39m=\u001b[39;49mcompile_rate_law_p, compile_observables_p\u001b[39m=\u001b[39;49mcompile_observables_p, add_uncertainty\u001b[39m=\u001b[39;49madd_uncertainty\n\u001b[0;32m    768\u001b[0m     )\n\u001b[0;32m    769\u001b[0m \u001b[39melse\u001b[39;00m:\n\u001b[0;32m    770\u001b[0m     \u001b[39mraise\u001b[39;00m \u001b[39mValueError\u001b[39;00m(\u001b[39mf\u001b[39m\u001b[39m\"\u001b[39m\u001b[39mUnknown noise model \u001b[39m\u001b[39m{\u001b[39;00mnoise_model\u001b[39m}\u001b[39;00m\u001b[39m. Please select from either \u001b[39m\u001b[39m'\u001b[39m\u001b[39mscaled_beta\u001b[39m\u001b[39m'\u001b[39m\u001b[39m or \u001b[39m\u001b[39m'\u001b[39m\u001b[39mscaled_normal\u001b[39m\u001b[39m'\u001b[39m\u001b[39m.\u001b[39m\u001b[39m\"\u001b[39m)\n",
      "File \u001b[1;32mc:\\Users\\Anirban\\anaconda3\\envs\\askemv2\\Lib\\functools.py:946\u001b[0m, in \u001b[0;36msingledispatchmethod.__get__.<locals>._method\u001b[1;34m(*args, **kwargs)\u001b[0m\n\u001b[0;32m    944\u001b[0m \u001b[39mdef\u001b[39;00m \u001b[39m_method\u001b[39m(\u001b[39m*\u001b[39margs, \u001b[39m*\u001b[39m\u001b[39m*\u001b[39mkwargs):\n\u001b[0;32m    945\u001b[0m     method \u001b[39m=\u001b[39m \u001b[39mself\u001b[39m\u001b[39m.\u001b[39mdispatcher\u001b[39m.\u001b[39mdispatch(args[\u001b[39m0\u001b[39m]\u001b[39m.\u001b[39m\u001b[39m__class__\u001b[39m)\n\u001b[1;32m--> 946\u001b[0m     \u001b[39mreturn\u001b[39;00m method\u001b[39m.\u001b[39;49m\u001b[39m__get__\u001b[39;49m(obj, \u001b[39mcls\u001b[39;49m)(\u001b[39m*\u001b[39;49margs, \u001b[39m*\u001b[39;49m\u001b[39m*\u001b[39;49mkwargs)\n",
      "File \u001b[1;32m~\\Documents\\GitHub\\pyciemss\\src\\pyciemss\\PetriNetODE\\base.py:464\u001b[0m, in \u001b[0;36mMiraPetriNetODESystem._from_path\u001b[1;34m(cls, model_json_path, **kwargs)\u001b[0m\n\u001b[0;32m    462\u001b[0m \u001b[39melse\u001b[39;00m:\n\u001b[0;32m    463\u001b[0m     \u001b[39mif\u001b[39;00m \u001b[39mnot\u001b[39;00m os\u001b[39m.\u001b[39mpath\u001b[39m.\u001b[39mexists(model_json_path):\n\u001b[1;32m--> 464\u001b[0m         \u001b[39mraise\u001b[39;00m \u001b[39mValueError\u001b[39;00m(\u001b[39mf\u001b[39m\u001b[39m\"\u001b[39m\u001b[39mModel file not found: \u001b[39m\u001b[39m{\u001b[39;00mmodel_json_path\u001b[39m}\u001b[39;00m\u001b[39m\"\u001b[39m)\n\u001b[0;32m    465\u001b[0m     \u001b[39mwith\u001b[39;00m \u001b[39mopen\u001b[39m(model_json_path) \u001b[39mas\u001b[39;00m fh:\n\u001b[0;32m    466\u001b[0m         model_json \u001b[39m=\u001b[39m json\u001b[39m.\u001b[39mload(fh)\n",
      "\u001b[1;31mValueError\u001b[0m: Model file not found: test/models/AMR_examples/ensemble/SEIARHDS_AMR.json"
     ]
    }
   ],
   "source": [
    "weights = [0.5, 0.5]\n",
    "num_samples = 100\n",
    "timepoints = [0.0, 1.0, 2.0, 3.0, 4.0]\n",
    "solution_mappings = [{\"Infected\": \"Cases\", \"Hospitalizations\": \"hospitalized_population\"}, # model 1 mappings\n",
    "                     {\"Infected\": \"Infections\", \"Hospitalizations\": \"hospitalized_population\"} # model 2\n",
    "                     ]\n",
    "\n",
    "# Run sampling\n",
    "result = load_and_sample_petri_ensemble(\n",
    "    ASKENET_PATHS, weights, solution_mappings, num_samples, timepoints, \n",
    "    time_unit=\"days\",\n",
    "    visual_options={\"keep\":\".*_sol\"}\n",
    ")\n",
    "\n",
    "ensemble_samples = result[\"data\"]\n",
    "q_ensemble = result[\"quantiles\"]\n",
    "\n",
    "# Save results\n",
    "ensemble_samples.to_csv(os.path.join(DEMO_PATH, \"results_petri_ensemble/sample_results.csv\"), index=False)\n",
    "q_ensemble.to_csv(os.path.join(DEMO_PATH, \"results_petri_ensemble/quantile_results.csv\"), index=False)"
   ]
  },
  {
   "cell_type": "code",
   "execution_count": 4,
   "metadata": {},
   "outputs": [
    {
     "name": "stdout",
     "output_type": "stream",
     "text": [
      "\n"
     ]
    },
    {
     "data": {
      "application/vnd.vega.v5+json": {
       "$schema": "https://vega.github.io/schema/vega/v5.json",
       "axes": [
        {
         "name": "x_axis",
         "orient": "bottom",
         "scale": "xscale",
         "zindex": 100
        },
        {
         "name": "y_axis",
         "orient": "left",
         "scale": "yscale",
         "zindex": 100
        }
       ],
       "data": [
        {
         "name": "distributions",
         "values": [
          {
           "lower": 1.2474243697453009e-12,
           "timepoint": 0,
           "trajectory": "Hospitalizations_sol",
           "upper": 1.9968754189254865e-12
          },
          {
           "lower": 0.013786360993981362,
           "timepoint": 1,
           "trajectory": "Hospitalizations_sol",
           "upper": 0.020346665196120738
          },
          {
           "lower": 0.03025946393609047,
           "timepoint": 2,
           "trajectory": "Hospitalizations_sol",
           "upper": 0.0461308266967535
          },
          {
           "lower": 0.044550095498561856,
           "timepoint": 3,
           "trajectory": "Hospitalizations_sol",
           "upper": 0.08001229800283909
          },
          {
           "lower": 0.05879725851118565,
           "timepoint": 4,
           "trajectory": "Hospitalizations_sol",
           "upper": 0.12828298062086105
          },
          {
           "lower": 1,
           "timepoint": 0,
           "trajectory": "Infected_sol",
           "upper": 1
          },
          {
           "lower": 0.9236285120248795,
           "timepoint": 1,
           "trajectory": "Infected_sol",
           "upper": 1.5025184988975524
          },
          {
           "lower": 1.0070440173149109,
           "timepoint": 2,
           "trajectory": "Infected_sol",
           "upper": 2.300932252407074
          },
          {
           "lower": 1.1944292664527894,
           "timepoint": 3,
           "trajectory": "Infected_sol",
           "upper": 3.5508216619491577
          },
          {
           "lower": 1.4715018332004548,
           "timepoint": 4,
           "trajectory": "Infected_sol",
           "upper": 5.498428010940552
          }
         ]
        },
        {
         "name": "traces",
         "transform": [
          {
           "expr": "isValid(datum.value)",
           "type": "filter"
          }
         ],
         "values": []
        },
        {
         "name": "points",
         "values": []
        },
        {
         "name": "markers",
         "values": []
        },
        {
         "name": "selected",
         "on": [
          {
           "remove": true,
           "trigger": "clear"
          },
          {
           "remove": true,
           "trigger": "!shift"
          },
          {
           "insert": "clicked",
           "trigger": "!shift && clicked"
          },
          {
           "toggle": "clicked",
           "trigger": "shift && clicked"
          }
         ]
        }
       ],
       "height": 300,
       "legends": [
        {
         "encode": {
          "labels": {
           "interactive": true,
           "name": "legendLabel",
           "update": {
            "opacity": [
             {
              "test": "!length(data('selected')) || indata('selected', 'value', datum.value)",
              "value": 1
             },
             {
              "value": 0.25
             }
            ]
           }
          },
          "symbols": {
           "interactive": true,
           "name": "legendSymbol",
           "update": {
            "fill": {
             "value": "transparent"
            },
            "opacity": [
             {
              "test": "!length(data('selected')) || indata('selected', 'value', datum.value)",
              "value": 0.7
             },
             {
              "value": 0.15
             }
            ],
            "size": {
             "value": 64
            },
            "strokeWidth": {
             "value": 2
            }
           }
          }
         },
         "name": "color_legend",
         "stroke": "color"
        }
       ],
       "marks": [
        {
         "from": {
          "facet": {
           "data": "points",
           "groupby": "trajectory",
           "name": "points_split"
          }
         },
         "marks": [
          {
           "encode": {
            "hover": {
             "fillOpacity": {
              "value": 0.9
             }
            },
            "update": {
             "fill": {
              "field": "trajectory",
              "scale": "color"
             },
             "fillOpacity": [
              {
               "test": "!length(data('selected')) || indata('selected', 'value', datum.trajectory)",
               "value": 0.5
              },
              {
               "value": 0.15
              }
             ],
             "size": {
              "value": 10
             },
             "stroke": {
              "field": "trajectory",
              "scale": "color"
             },
             "strokeOpacity": [
              {
               "test": "!length(data('selected')) || indata('selected', 'value', datum.trajectory)",
               "value": 0.75
              },
              {
               "value": 0.15
              }
             ],
             "strokeWidth": {
              "value": 2
             },
             "tooltip": {
              "field": "value"
             },
             "x": {
              "field": "timepoint",
              "scale": "xscale"
             },
             "y": {
              "field": "value",
              "scale": "yscale"
             }
            }
           },
           "from": {
            "data": "points"
           },
           "name": "_points_symbol",
           "type": "symbol",
           "zindex": 3
          },
          {
           "encode": {
            "hover": {
             "fillOpacity": {
              "value": 0.9
             }
            },
            "update": {
             "interpolate": {
              "value": "linear"
             },
             "stroke": {
              "field": "trajectory",
              "scale": "color"
             },
             "strokeOpacity": [
              {
               "test": "!length(data('selected')) || indata('selected', 'value', datum.trajectory)",
               "value": 0.3
              },
              {
               "value": 0.1
              }
             ],
             "strokeWidth": {
              "value": 2
             },
             "x": {
              "field": "timepoint",
              "scale": "xscale"
             },
             "y": {
              "field": "value",
              "scale": "yscale"
             }
            }
           },
           "from": {
            "data": "points"
           },
           "name": "_points_line",
           "type": "line",
           "zindex": 3
          }
         ],
         "name": "_points",
         "type": "group",
         "zindex": 3
        },
        {
         "from": {
          "facet": {
           "data": "traces",
           "groupby": "trajectory",
           "name": "traces_split"
          }
         },
         "marks": [
          {
           "encode": {
            "hover": {
             "fillOpacity": {
              "value": 0.9
             }
            },
            "update": {
             "interpolate": {
              "value": "linear"
             },
             "stroke": {
              "field": "trajectory",
              "scale": "color"
             },
             "strokeOpacity": [
              {
               "test": "!length(data('selected')) || indata('selected', 'value', datum.trajectory)",
               "value": 0.75
              },
              {
               "value": 0.15
              }
             ],
             "strokeWidth": {
              "value": 2
             },
             "x": {
              "field": "timepoint",
              "scale": "xscale"
             },
             "y": {
              "field": "value",
              "scale": "yscale"
             }
            }
           },
           "from": {
            "data": "traces_split"
           },
           "name": "_traces_lines",
           "type": "line"
          }
         ],
         "name": "_traces",
         "type": "group",
         "zindex": 2
        },
        {
         "from": {
          "facet": {
           "data": "distributions",
           "groupby": "trajectory",
           "name": "trajectory_split"
          }
         },
         "marks": [
          {
           "encode": {
            "hover": {
             "fillOpacity": {
              "value": 0.9
             }
            },
            "update": {
             "fill": {
              "field": "trajectory",
              "scale": "color"
             },
             "fillOpacity": [
              {
               "test": "!length(data('selected')) || indata('selected', 'value', datum.trajectory)",
               "value": 0.5
              },
              {
               "value": 0.15
              }
             ],
             "interpolate": {
              "value": "linear"
             },
             "stroke": {
              "field": "trajectory",
              "scale": "color"
             },
             "strokeOpacity": [
              {
               "test": "!length(data('selected')) || indata('selected', 'value', datum.trajectory)",
               "value": 0.75
              },
              {
               "value": 0.15
              }
             ],
             "strokeWidth": {
              "value": 2
             },
             "x": {
              "field": "timepoint",
              "scale": "xscale"
             },
             "y": {
              "field": "upper",
              "scale": "yscale"
             },
             "y2": {
              "field": "lower",
              "scale": "yscale"
             }
            }
           },
           "from": {
            "data": "trajectory_split"
           },
           "type": "area"
          }
         ],
         "name": "_distributions",
         "type": "group",
         "zindex": 1
        },
        {
         "marks": [
          {
           "encode": {
            "enter": {
             "stroke": {
              "value": "lightgray"
             }
            },
            "update": {
             "opacity": {
              "value": 1
             },
             "x": {
              "field": "timepoint",
              "scale": "xscale"
             },
             "y": {
              "signal": "height"
             },
             "y2": {
              "value": 0
             }
            }
           },
           "from": {
            "data": "markers"
           },
           "name": "_marker text",
           "type": "rule"
          },
          {
           "encode": {
            "enter": {
             "fontSize": {
              "value": 8
             },
             "text": {
              "field": "datum.label"
             },
             "y": {
              "value": 0
             }
            }
           },
           "from": {
            "data": "_marker text"
           },
           "name": "_marker flags",
           "transform": [
            {
             "as": [
              "x",
              "_y",
              "opacity",
              "align",
              "baseline"
             ],
             "lineAnchor": "start",
             "offset": [
              1
             ],
             "size": {
              "signal": "[width, height]"
             },
             "type": "label"
            }
           ],
           "type": "text"
          }
         ],
         "name": "_markers",
         "type": "group"
        }
       ],
       "scales": [
        {
         "domain": {
          "fields": [
           {
            "data": "distributions",
            "field": "timepoint"
           },
           {
            "data": "traces",
            "field": "timepoint"
           },
           {
            "data": "points",
            "field": "timepoint"
           },
           {
            "data": "markers",
            "field": "timepoint"
           }
          ]
         },
         "name": "xscale",
         "range": "width",
         "type": "linear",
         "zero": false
        },
        {
         "domain": {
          "fields": [
           {
            "data": "distributions",
            "field": "lower"
           },
           {
            "data": "distributions",
            "field": "upper"
           },
           {
            "data": "traces",
            "field": "value"
           },
           {
            "data": "points",
            "field": "value"
           }
          ]
         },
         "name": "yscale",
         "nice": true,
         "range": "height",
         "type": "linear",
         "zero": true
        },
        {
         "domain": {
          "fields": [
           {
            "data": "distributions",
            "field": "trajectory"
           },
           {
            "data": "traces",
            "field": "trajectory"
           },
           {
            "data": "points",
            "field": "trajectory"
           }
          ]
         },
         "name": "color",
         "range": "category",
         "type": "ordinal"
        }
       ],
       "signals": [
        {
         "name": "clear",
         "on": [
          {
           "events": "mouseup[!event.item]",
           "force": true,
           "update": "true"
          }
         ],
         "value": true
        },
        {
         "name": "shift",
         "on": [
          {
           "events": "@legendSymbol:click, @legendLabel:click",
           "force": true,
           "update": "event.shiftKey"
          }
         ],
         "value": false
        },
        {
         "name": "clicked",
         "on": [
          {
           "events": "@legendSymbol:click, @legendLabel:click",
           "force": true,
           "update": "{value: datum.value}"
          }
         ],
         "value": null
        }
       ],
       "width": 500
      }
     },
     "metadata": {},
     "output_type": "display_data"
    }
   ],
   "source": [
    "plots.ipy_display(result[\"visual\"])"
   ]
  },
  {
   "attachments": {},
   "cell_type": "markdown",
   "metadata": {},
   "source": [
    "## load_and_calibrate_and_sample_ensemble_model"
   ]
  },
  {
   "cell_type": "code",
   "execution_count": 5,
   "metadata": {},
   "outputs": [],
   "source": [
    "# # Generate data from model\n",
    "# from pyciemss.utils.interface_utils import solutions_to_observations\n",
    "\n",
    "# data = solutions_to_observations(timepoints, result[\"data\"].set_index([\"timepoint_id\", \"sample_id\"]))\n",
    "# data[0].to_csv(os.path.join(DEMO_PATH, \"results_petri_ensemble/ensemble_data.csv\"), index=False)"
   ]
  },
  {
   "cell_type": "code",
   "execution_count": 6,
   "metadata": {},
   "outputs": [
    {
     "name": "stdout",
     "output_type": "stream",
     "text": [
      "iteration 0: loss = 21.82859241962433\n",
      "\n"
     ]
    },
    {
     "data": {
      "application/vnd.vega.v5+json": {
       "$schema": "https://vega.github.io/schema/vega/v5.json",
       "axes": [
        {
         "name": "x_axis",
         "orient": "bottom",
         "scale": "xscale",
         "zindex": 100
        },
        {
         "name": "y_axis",
         "orient": "left",
         "scale": "yscale",
         "zindex": 100
        }
       ],
       "data": [
        {
         "name": "distributions",
         "values": [
          {
           "lower": 1.8812938511712786e-12,
           "timepoint": 0,
           "trajectory": "Hospitalizations_sol",
           "upper": 1.8899180072480535e-12
          },
          {
           "lower": 0.018224885407835244,
           "timepoint": 1,
           "trajectory": "Hospitalizations_sol",
           "upper": 0.01860531819984317
          },
          {
           "lower": 0.03708809912204743,
           "timepoint": 2,
           "trajectory": "Hospitalizations_sol",
           "upper": 0.03844669163227081
          },
          {
           "lower": 0.059138530492782594,
           "timepoint": 3,
           "trajectory": "Hospitalizations_sol",
           "upper": 0.062218739092350005
          },
          {
           "lower": 0.08712196499109268,
           "timepoint": 4,
           "trajectory": "Hospitalizations_sol",
           "upper": 0.0929882511496544
          },
          {
           "lower": 1,
           "timepoint": 0,
           "trajectory": "Infected_sol",
           "upper": 1
          },
          {
           "lower": 1.1347514808177948,
           "timepoint": 1,
           "trajectory": "Infected_sol",
           "upper": 1.1634046614170075
          },
          {
           "lower": 1.434794729948044,
           "timepoint": 2,
           "trajectory": "Infected_sol",
           "upper": 1.4966176092624663
          },
          {
           "lower": 1.9138445734977723,
           "timepoint": 3,
           "trajectory": "Infected_sol",
           "upper": 2.0237462639808657
          },
          {
           "lower": 2.618889343738556,
           "timepoint": 4,
           "trajectory": "Infected_sol",
           "upper": 2.8036014914512633
          }
         ]
        },
        {
         "name": "traces",
         "transform": [
          {
           "expr": "isValid(datum.value)",
           "type": "filter"
          }
         ],
         "values": []
        },
        {
         "name": "points",
         "values": []
        },
        {
         "name": "markers",
         "values": []
        },
        {
         "name": "selected",
         "on": [
          {
           "remove": true,
           "trigger": "clear"
          },
          {
           "remove": true,
           "trigger": "!shift"
          },
          {
           "insert": "clicked",
           "trigger": "!shift && clicked"
          },
          {
           "toggle": "clicked",
           "trigger": "shift && clicked"
          }
         ]
        }
       ],
       "height": 300,
       "legends": [
        {
         "encode": {
          "labels": {
           "interactive": true,
           "name": "legendLabel",
           "update": {
            "opacity": [
             {
              "test": "!length(data('selected')) || indata('selected', 'value', datum.value)",
              "value": 1
             },
             {
              "value": 0.25
             }
            ]
           }
          },
          "symbols": {
           "interactive": true,
           "name": "legendSymbol",
           "update": {
            "fill": {
             "value": "transparent"
            },
            "opacity": [
             {
              "test": "!length(data('selected')) || indata('selected', 'value', datum.value)",
              "value": 0.7
             },
             {
              "value": 0.15
             }
            ],
            "size": {
             "value": 64
            },
            "strokeWidth": {
             "value": 2
            }
           }
          }
         },
         "name": "color_legend",
         "stroke": "color"
        }
       ],
       "marks": [
        {
         "from": {
          "facet": {
           "data": "points",
           "groupby": "trajectory",
           "name": "points_split"
          }
         },
         "marks": [
          {
           "encode": {
            "hover": {
             "fillOpacity": {
              "value": 0.9
             }
            },
            "update": {
             "fill": {
              "field": "trajectory",
              "scale": "color"
             },
             "fillOpacity": [
              {
               "test": "!length(data('selected')) || indata('selected', 'value', datum.trajectory)",
               "value": 0.5
              },
              {
               "value": 0.15
              }
             ],
             "size": {
              "value": 10
             },
             "stroke": {
              "field": "trajectory",
              "scale": "color"
             },
             "strokeOpacity": [
              {
               "test": "!length(data('selected')) || indata('selected', 'value', datum.trajectory)",
               "value": 0.75
              },
              {
               "value": 0.15
              }
             ],
             "strokeWidth": {
              "value": 2
             },
             "tooltip": {
              "field": "value"
             },
             "x": {
              "field": "timepoint",
              "scale": "xscale"
             },
             "y": {
              "field": "value",
              "scale": "yscale"
             }
            }
           },
           "from": {
            "data": "points"
           },
           "name": "_points_symbol",
           "type": "symbol",
           "zindex": 3
          },
          {
           "encode": {
            "hover": {
             "fillOpacity": {
              "value": 0.9
             }
            },
            "update": {
             "interpolate": {
              "value": "linear"
             },
             "stroke": {
              "field": "trajectory",
              "scale": "color"
             },
             "strokeOpacity": [
              {
               "test": "!length(data('selected')) || indata('selected', 'value', datum.trajectory)",
               "value": 0.3
              },
              {
               "value": 0.1
              }
             ],
             "strokeWidth": {
              "value": 2
             },
             "x": {
              "field": "timepoint",
              "scale": "xscale"
             },
             "y": {
              "field": "value",
              "scale": "yscale"
             }
            }
           },
           "from": {
            "data": "points"
           },
           "name": "_points_line",
           "type": "line",
           "zindex": 3
          }
         ],
         "name": "_points",
         "type": "group",
         "zindex": 3
        },
        {
         "from": {
          "facet": {
           "data": "traces",
           "groupby": "trajectory",
           "name": "traces_split"
          }
         },
         "marks": [
          {
           "encode": {
            "hover": {
             "fillOpacity": {
              "value": 0.9
             }
            },
            "update": {
             "interpolate": {
              "value": "linear"
             },
             "stroke": {
              "field": "trajectory",
              "scale": "color"
             },
             "strokeOpacity": [
              {
               "test": "!length(data('selected')) || indata('selected', 'value', datum.trajectory)",
               "value": 0.75
              },
              {
               "value": 0.15
              }
             ],
             "strokeWidth": {
              "value": 2
             },
             "x": {
              "field": "timepoint",
              "scale": "xscale"
             },
             "y": {
              "field": "value",
              "scale": "yscale"
             }
            }
           },
           "from": {
            "data": "traces_split"
           },
           "name": "_traces_lines",
           "type": "line"
          }
         ],
         "name": "_traces",
         "type": "group",
         "zindex": 2
        },
        {
         "from": {
          "facet": {
           "data": "distributions",
           "groupby": "trajectory",
           "name": "trajectory_split"
          }
         },
         "marks": [
          {
           "encode": {
            "hover": {
             "fillOpacity": {
              "value": 0.9
             }
            },
            "update": {
             "fill": {
              "field": "trajectory",
              "scale": "color"
             },
             "fillOpacity": [
              {
               "test": "!length(data('selected')) || indata('selected', 'value', datum.trajectory)",
               "value": 0.5
              },
              {
               "value": 0.15
              }
             ],
             "interpolate": {
              "value": "linear"
             },
             "stroke": {
              "field": "trajectory",
              "scale": "color"
             },
             "strokeOpacity": [
              {
               "test": "!length(data('selected')) || indata('selected', 'value', datum.trajectory)",
               "value": 0.75
              },
              {
               "value": 0.15
              }
             ],
             "strokeWidth": {
              "value": 2
             },
             "x": {
              "field": "timepoint",
              "scale": "xscale"
             },
             "y": {
              "field": "upper",
              "scale": "yscale"
             },
             "y2": {
              "field": "lower",
              "scale": "yscale"
             }
            }
           },
           "from": {
            "data": "trajectory_split"
           },
           "type": "area"
          }
         ],
         "name": "_distributions",
         "type": "group",
         "zindex": 1
        },
        {
         "marks": [
          {
           "encode": {
            "enter": {
             "stroke": {
              "value": "lightgray"
             }
            },
            "update": {
             "opacity": {
              "value": 1
             },
             "x": {
              "field": "timepoint",
              "scale": "xscale"
             },
             "y": {
              "signal": "height"
             },
             "y2": {
              "value": 0
             }
            }
           },
           "from": {
            "data": "markers"
           },
           "name": "_marker text",
           "type": "rule"
          },
          {
           "encode": {
            "enter": {
             "fontSize": {
              "value": 8
             },
             "text": {
              "field": "datum.label"
             },
             "y": {
              "value": 0
             }
            }
           },
           "from": {
            "data": "_marker text"
           },
           "name": "_marker flags",
           "transform": [
            {
             "as": [
              "x",
              "_y",
              "opacity",
              "align",
              "baseline"
             ],
             "lineAnchor": "start",
             "offset": [
              1
             ],
             "size": {
              "signal": "[width, height]"
             },
             "type": "label"
            }
           ],
           "type": "text"
          }
         ],
         "name": "_markers",
         "type": "group"
        }
       ],
       "scales": [
        {
         "domain": {
          "fields": [
           {
            "data": "distributions",
            "field": "timepoint"
           },
           {
            "data": "traces",
            "field": "timepoint"
           },
           {
            "data": "points",
            "field": "timepoint"
           },
           {
            "data": "markers",
            "field": "timepoint"
           }
          ]
         },
         "name": "xscale",
         "range": "width",
         "type": "linear",
         "zero": false
        },
        {
         "domain": {
          "fields": [
           {
            "data": "distributions",
            "field": "lower"
           },
           {
            "data": "distributions",
            "field": "upper"
           },
           {
            "data": "traces",
            "field": "value"
           },
           {
            "data": "points",
            "field": "value"
           }
          ]
         },
         "name": "yscale",
         "nice": true,
         "range": "height",
         "type": "linear",
         "zero": true
        },
        {
         "domain": {
          "fields": [
           {
            "data": "distributions",
            "field": "trajectory"
           },
           {
            "data": "traces",
            "field": "trajectory"
           },
           {
            "data": "points",
            "field": "trajectory"
           }
          ]
         },
         "name": "color",
         "range": "category",
         "type": "ordinal"
        }
       ],
       "signals": [
        {
         "name": "clear",
         "on": [
          {
           "events": "mouseup[!event.item]",
           "force": true,
           "update": "true"
          }
         ],
         "value": true
        },
        {
         "name": "shift",
         "on": [
          {
           "events": "@legendSymbol:click, @legendLabel:click",
           "force": true,
           "update": "event.shiftKey"
          }
         ],
         "value": false
        },
        {
         "name": "clicked",
         "on": [
          {
           "events": "@legendSymbol:click, @legendLabel:click",
           "force": true,
           "update": "{value: datum.value}"
          }
         ],
         "value": null
        }
       ],
       "title": "Calibrated Ensemble",
       "width": 500
      }
     },
     "metadata": {},
     "output_type": "display_data"
    }
   ],
   "source": [
    "data_path = os.path.join(DEMO_PATH, \"results_petri_ensemble/ensemble_data.csv\")\n",
    "num_samples = 2\n",
    "timepoints = [0.0, 1.0, 2.0, 3.0, 4.0]\n",
    "\n",
    "# Run the calibration and sampling\n",
    "result = load_and_calibrate_and_sample_ensemble_model(\n",
    "    ASKENET_PATHS,\n",
    "    data_path,\n",
    "    weights,\n",
    "    solution_mappings,\n",
    "    num_samples,\n",
    "    timepoints,\n",
    "    verbose=True,\n",
    "    total_population=1000,\n",
    "    num_iterations=10,\n",
    "    time_unit=\"days\",\n",
    "    visual_options={\"title\": \"Calibrated Ensemble\", \"keep\":\".*_sol\"}\n",
    ")\n",
    "\n",
    "# Save results\n",
    "result[\"data\"].to_csv(\n",
    "    os.path.join(DEMO_PATH, \"results_petri_ensemble/calibrated_sample_results.csv\"), index=False\n",
    ")\n",
    "result[\"quantiles\"].to_csv(\n",
    "    os.path.join(DEMO_PATH, \"results_petri_ensemble/calibrated_quantile_results.csv\"), index=False\n",
    ")\n",
    "plots.ipy_display(result[\"visual\"])"
   ]
  }
 ],
 "metadata": {
  "kernelspec": {
   "display_name": "ASKEM",
   "language": "python",
   "name": "python3"
  },
  "language_info": {
   "codemirror_mode": {
    "name": "ipython",
    "version": 3
   },
   "file_extension": ".py",
   "mimetype": "text/x-python",
   "name": "python",
   "nbconvert_exporter": "python",
   "pygments_lexer": "ipython3",
   "version": "3.11.4"
  }
 },
 "nbformat": 4,
 "nbformat_minor": 4
}
