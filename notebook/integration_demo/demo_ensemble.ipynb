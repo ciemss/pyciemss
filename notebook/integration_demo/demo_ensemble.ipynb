{
 "cells": [
  {
   "cell_type": "code",
   "execution_count": 1,
   "metadata": {},
   "outputs": [],
   "source": [
    "import os\n",
    "from pyciemss.Ensemble.interfaces import (\n",
    "    load_and_sample_petri_ensemble, load_and_calibrate_and_sample_ensemble_model\n",
    ")\n",
    "from pyciemss.visuals import plots"
   ]
  },
  {
   "cell_type": "code",
   "execution_count": 2,
   "metadata": {},
   "outputs": [],
   "source": [
    "DEMO_PATH = \"../../notebook/integration_demo/\"\n",
    "# ASKENET_PATH_1 = \"https://raw.githubusercontent.com/DARPA-ASKEM/Model-Representations/main/petrinet/examples/sir_typed.json\"\n",
    "ASKENET_PATH_1 = \"../../test/models/AMR_examples/ensemble/SEIARHDS_AMR.json\"\n",
    "ASKENET_PATH_2 = \"../../test/models/AMR_examples/ensemble/SIRHD_AMR.json\"\n",
    "\n",
    "ASKENET_PATHS = [ASKENET_PATH_1, ASKENET_PATH_2]"
   ]
  },
  {
   "attachments": {},
   "cell_type": "markdown",
   "metadata": {},
   "source": [
    "## load_and_sample_ensemble_model"
   ]
  },
  {
   "cell_type": "code",
   "execution_count": 3,
   "metadata": {},
   "outputs": [],
   "source": [
    "weights = [0.5, 0.5]\n",
    "num_samples = 100\n",
    "timepoints = [0.0, 1.0, 2.0, 3.0, 4.0]\n",
    "solution_mappings = [{\"Infected\": \"Cases\", \"Hospitalizations\": \"hospitalized_population\"}, # model 1 mappings\n",
    "                     {\"Infected\": \"Infections\", \"Hospitalizations\": \"hospitalized_population\"} # model 2\n",
    "                     ]\n",
    "\n",
    "# Run sampling\n",
    "result = load_and_sample_petri_ensemble(\n",
    "    ASKENET_PATHS, weights, solution_mappings, num_samples, timepoints, \n",
    "    time_unit=\"days\",\n",
    "    visual_options={\"subset\":\".*_sol\"}\n",
    ")\n",
    "\n",
    "ensemble_samples = result[\"data\"]\n",
    "q_ensemble = result[\"quantiles\"]\n",
    "\n",
    "# Save results\n",
    "ensemble_samples.to_csv(os.path.join(DEMO_PATH, \"results_petri_ensemble/sample_results.csv\"), index=False)\n",
    "q_ensemble.to_csv(os.path.join(DEMO_PATH, \"results_petri_ensemble/quantile_results.csv\"), index=False)"
   ]
  },
  {
   "cell_type": "code",
   "execution_count": 4,
   "metadata": {},
   "outputs": [
    {
     "name": "stdout",
     "output_type": "stream",
     "text": [
      "\n"
     ]
    },
    {
     "data": {
      "application/vnd.vega.v5+json": {
       "$schema": "https://vega.github.io/schema/vega/v5.json",
       "axes": [
        {
         "name": "x_axis",
         "orient": "bottom",
         "scale": "xscale",
         "zindex": 100
        },
        {
         "name": "y_axis",
         "orient": "left",
         "scale": "yscale",
         "zindex": 100
        }
       ],
       "data": [
        {
         "name": "distributions",
         "values": [
          {
           "lower": 1.2119825542472595e-12,
           "timepoint": 0,
           "trajectory": "Hospitalizations_sol",
           "upper": 1.9985251843192276e-12
          },
          {
           "lower": 0.01395626231096685,
           "timepoint": 1,
           "trajectory": "Hospitalizations_sol",
           "upper": 0.020089889783412217
          },
          {
           "lower": 0.03013622108846903,
           "timepoint": 2,
           "trajectory": "Hospitalizations_sol",
           "upper": 0.04463763833045959
          },
          {
           "lower": 0.04263519831001759,
           "timepoint": 3,
           "trajectory": "Hospitalizations_sol",
           "upper": 0.07980665750801563
          },
          {
           "lower": 0.054199802502989766,
           "timepoint": 4,
           "trajectory": "Hospitalizations_sol",
           "upper": 0.1298605188727379
          },
          {
           "lower": 1,
           "timepoint": 0,
           "trajectory": "Infected_sol",
           "upper": 1
          },
          {
           "lower": 0.8928459048271179,
           "timepoint": 1,
           "trajectory": "Infected_sol",
           "upper": 1.5370388507843018
          },
          {
           "lower": 0.916666778922081,
           "timepoint": 2,
           "trajectory": "Infected_sol",
           "upper": 2.387393355369568
          },
          {
           "lower": 1.025223618745804,
           "timepoint": 3,
           "trajectory": "Infected_sol",
           "upper": 3.6932224035263057
          },
          {
           "lower": 1.1973770678043365,
           "timepoint": 4,
           "trajectory": "Infected_sol",
           "upper": 5.746050715446472
          }
         ]
        },
        {
         "name": "traces",
         "transform": [
          {
           "expr": "isValid(datum.value)",
           "type": "filter"
          }
         ],
         "values": []
        },
        {
         "name": "points",
         "values": []
        },
        {
         "name": "markers",
         "values": []
        },
        {
         "name": "selected",
         "on": [
          {
           "remove": true,
           "trigger": "clear"
          },
          {
           "remove": true,
           "trigger": "!shift"
          },
          {
           "insert": "clicked",
           "trigger": "!shift && clicked"
          },
          {
           "toggle": "clicked",
           "trigger": "shift && clicked"
          }
         ]
        }
       ],
       "height": 300,
       "legends": [
        {
         "encode": {
          "labels": {
           "interactive": true,
           "name": "legendLabel",
           "update": {
            "opacity": [
             {
              "test": "!length(data('selected')) || indata('selected', 'value', datum.value)",
              "value": 1
             },
             {
              "value": 0.25
             }
            ]
           }
          },
          "symbols": {
           "interactive": true,
           "name": "legendSymbol",
           "update": {
            "fill": {
             "value": "transparent"
            },
            "opacity": [
             {
              "test": "!length(data('selected')) || indata('selected', 'value', datum.value)",
              "value": 0.7
             },
             {
              "value": 0.15
             }
            ],
            "size": {
             "value": 64
            },
            "strokeWidth": {
             "value": 2
            }
           }
          }
         },
         "name": "color_legend",
         "stroke": "color"
        }
       ],
       "marks": [
        {
         "from": {
          "facet": {
           "data": "points",
           "groupby": "trajectory",
           "name": "points_split"
          }
         },
         "marks": [
          {
           "encode": {
            "hover": {
             "fillOpacity": {
              "value": 0.9
             }
            },
            "update": {
             "fill": {
              "field": "trajectory",
              "scale": "color"
             },
             "fillOpacity": [
              {
               "test": "!length(data('selected')) || indata('selected', 'value', datum.trajectory)",
               "value": 0.5
              },
              {
               "value": 0.15
              }
             ],
             "size": {
              "value": 10
             },
             "stroke": {
              "field": "trajectory",
              "scale": "color"
             },
             "strokeOpacity": [
              {
               "test": "!length(data('selected')) || indata('selected', 'value', datum.trajectory)",
               "value": 0.75
              },
              {
               "value": 0.15
              }
             ],
             "strokeWidth": {
              "value": 2
             },
             "tooltip": {
              "field": "value"
             },
             "x": {
              "field": "timepoint",
              "scale": "xscale"
             },
             "y": {
              "field": "value",
              "scale": "yscale"
             }
            }
           },
           "from": {
            "data": "points"
           },
           "name": "_points_symbol",
           "type": "symbol",
           "zindex": 3
          },
          {
           "encode": {
            "hover": {
             "fillOpacity": {
              "value": 0.9
             }
            },
            "update": {
             "interpolate": {
              "value": "linear"
             },
             "stroke": {
              "field": "trajectory",
              "scale": "color"
             },
             "strokeOpacity": [
              {
               "test": "!length(data('selected')) || indata('selected', 'value', datum.trajectory)",
               "value": 0.3
              },
              {
               "value": 0.1
              }
             ],
             "strokeWidth": {
              "value": 2
             },
             "x": {
              "field": "timepoint",
              "scale": "xscale"
             },
             "y": {
              "field": "value",
              "scale": "yscale"
             }
            }
           },
           "from": {
            "data": "points"
           },
           "name": "_points_line",
           "type": "line",
           "zindex": 3
          }
         ],
         "name": "_points",
         "type": "group",
         "zindex": 3
        },
        {
         "from": {
          "facet": {
           "data": "traces",
           "groupby": "trajectory",
           "name": "traces_split"
          }
         },
         "marks": [
          {
           "encode": {
            "hover": {
             "fillOpacity": {
              "value": 0.9
             }
            },
            "update": {
             "interpolate": {
              "value": "linear"
             },
             "stroke": {
              "field": "trajectory",
              "scale": "color"
             },
             "strokeOpacity": [
              {
               "test": "!length(data('selected')) || indata('selected', 'value', datum.trajectory)",
               "value": 0.75
              },
              {
               "value": 0.15
              }
             ],
             "strokeWidth": {
              "value": 2
             },
             "x": {
              "field": "timepoint",
              "scale": "xscale"
             },
             "y": {
              "field": "value",
              "scale": "yscale"
             }
            }
           },
           "from": {
            "data": "traces_split"
           },
           "name": "_traces_lines",
           "type": "line"
          }
         ],
         "name": "_traces",
         "type": "group",
         "zindex": 2
        },
        {
         "from": {
          "facet": {
           "data": "distributions",
           "groupby": "trajectory",
           "name": "trajectory_split"
          }
         },
         "marks": [
          {
           "encode": {
            "hover": {
             "fillOpacity": {
              "value": 0.9
             }
            },
            "update": {
             "fill": {
              "field": "trajectory",
              "scale": "color"
             },
             "fillOpacity": [
              {
               "test": "!length(data('selected')) || indata('selected', 'value', datum.trajectory)",
               "value": 0.5
              },
              {
               "value": 0.15
              }
             ],
             "interpolate": {
              "value": "linear"
             },
             "stroke": {
              "field": "trajectory",
              "scale": "color"
             },
             "strokeOpacity": [
              {
               "test": "!length(data('selected')) || indata('selected', 'value', datum.trajectory)",
               "value": 0.75
              },
              {
               "value": 0.15
              }
             ],
             "strokeWidth": {
              "value": 2
             },
             "x": {
              "field": "timepoint",
              "scale": "xscale"
             },
             "y": {
              "field": "upper",
              "scale": "yscale"
             },
             "y2": {
              "field": "lower",
              "scale": "yscale"
             }
            }
           },
           "from": {
            "data": "trajectory_split"
           },
           "type": "area"
          }
         ],
         "name": "_distributions",
         "type": "group",
         "zindex": 1
        },
        {
         "marks": [
          {
           "encode": {
            "enter": {
             "stroke": {
              "value": "lightgray"
             }
            },
            "update": {
             "opacity": {
              "value": 1
             },
             "x": {
              "field": "timepoint",
              "scale": "xscale"
             },
             "y": {
              "signal": "height"
             },
             "y2": {
              "value": 0
             }
            }
           },
           "from": {
            "data": "markers"
           },
           "name": "_marker text",
           "type": "rule"
          },
          {
           "encode": {
            "enter": {
             "fontSize": {
              "value": 8
             },
             "text": {
              "field": "datum.label"
             },
             "y": {
              "value": 0
             }
            }
           },
           "from": {
            "data": "_marker text"
           },
           "name": "_marker flags",
           "transform": [
            {
             "as": [
              "x",
              "_y",
              "opacity",
              "align",
              "baseline"
             ],
             "lineAnchor": "start",
             "offset": [
              1
             ],
             "size": {
              "signal": "[width, height]"
             },
             "type": "label"
            }
           ],
           "type": "text"
          }
         ],
         "name": "_markers",
         "type": "group"
        }
       ],
       "scales": [
        {
         "domain": {
          "fields": [
           {
            "data": "distributions",
            "field": "timepoint"
           },
           {
            "data": "traces",
            "field": "timepoint"
           },
           {
            "data": "points",
            "field": "timepoint"
           },
           {
            "data": "markers",
            "field": "timepoint"
           }
          ]
         },
         "name": "xscale",
         "range": "width",
         "type": "linear",
         "zero": false
        },
        {
         "domain": {
          "fields": [
           {
            "data": "distributions",
            "field": "lower"
           },
           {
            "data": "distributions",
            "field": "upper"
           },
           {
            "data": "traces",
            "field": "value"
           },
           {
            "data": "points",
            "field": "value"
           }
          ]
         },
         "name": "yscale",
         "nice": true,
         "range": "height",
         "type": "linear",
         "zero": true
        },
        {
         "domain": {
          "fields": [
           {
            "data": "distributions",
            "field": "trajectory"
           },
           {
            "data": "traces",
            "field": "trajectory"
           },
           {
            "data": "points",
            "field": "trajectory"
           }
          ]
         },
         "name": "color",
         "range": "category",
         "type": "ordinal"
        }
       ],
       "signals": [
        {
         "name": "clear",
         "on": [
          {
           "events": "mouseup[!event.item]",
           "force": true,
           "update": "true"
          }
         ],
         "value": true
        },
        {
         "name": "shift",
         "on": [
          {
           "events": "@legendSymbol:click, @legendLabel:click",
           "force": true,
           "update": "event.shiftKey"
          }
         ],
         "value": false
        },
        {
         "name": "clicked",
         "on": [
          {
           "events": "@legendSymbol:click, @legendLabel:click",
           "force": true,
           "update": "{value: datum.value}"
          }
         ],
         "value": null
        }
       ],
       "width": 500
      }
     },
     "metadata": {},
     "output_type": "display_data"
    }
   ],
   "source": [
    "plots.ipy_display(result[\"visual\"])"
   ]
  },
  {
   "attachments": {},
   "cell_type": "markdown",
   "metadata": {},
   "source": [
    "## load_and_calibrate_and_sample_ensemble_model"
   ]
  },
  {
   "cell_type": "code",
   "execution_count": 5,
   "metadata": {},
   "outputs": [],
   "source": [
    "# # Generate data from model\n",
    "# from pyciemss.utils.interface_utils import solutions_to_observations\n",
    "\n",
    "# data = solutions_to_observations(timepoints, result[\"data\"].set_index([\"timepoint_id\", \"sample_id\"]))\n",
    "# data[0].to_csv(os.path.join(DEMO_PATH, \"results_petri_ensemble/ensemble_data.csv\"), index=False)"
   ]
  },
  {
   "cell_type": "code",
   "execution_count": 7,
   "metadata": {},
   "outputs": [
    {
     "name": "stdout",
     "output_type": "stream",
     "text": [
      "iteration 0: loss = 131.5198314189911\n",
      "\n"
     ]
    },
    {
     "data": {
      "application/vnd.vega.v5+json": {
       "$schema": "https://vega.github.io/schema/vega/v5.json",
       "axes": [
        {
         "name": "x_axis",
         "orient": "bottom",
         "scale": "xscale",
         "zindex": 100
        },
        {
         "name": "y_axis",
         "orient": "left",
         "scale": "yscale",
         "zindex": 100
        }
       ],
       "data": [
        {
         "name": "distributions",
         "values": [
          {
           "lower": 1.6275506983798315e-12,
           "timepoint": 0,
           "trajectory": "Hospitalizations_sol",
           "upper": 1.654056058786324e-12
          },
          {
           "lower": 0.016137022711336612,
           "timepoint": 1,
           "trajectory": "Hospitalizations_sol",
           "upper": 0.016145542077720166
          },
          {
           "lower": 0.03341362588107586,
           "timepoint": 2,
           "trajectory": "Hospitalizations_sol",
           "upper": 0.03390352465212345
          },
          {
           "lower": 0.05469978246837855,
           "timepoint": 3,
           "trajectory": "Hospitalizations_sol",
           "upper": 0.05612149070948362
          },
          {
           "lower": 0.08336117900907994,
           "timepoint": 4,
           "trajectory": "Hospitalizations_sol",
           "upper": 0.08622430972754955
          },
          {
           "lower": 1,
           "timepoint": 0,
           "trajectory": "Infected_sol",
           "upper": 1
          },
          {
           "lower": 1.2081083476543426,
           "timepoint": 1,
           "trajectory": "Infected_sol",
           "upper": 1.2363302290439606
          },
          {
           "lower": 1.6374745547771454,
           "timepoint": 2,
           "trajectory": "Infected_sol",
           "upper": 1.6912520945072174
          },
          {
           "lower": 2.3366403698921205,
           "timepoint": 3,
           "trajectory": "Infected_sol",
           "upper": 2.418523061275482
          },
          {
           "lower": 3.412054252624512,
           "timepoint": 4,
           "trajectory": "Infected_sol",
           "upper": 3.5269935607910154
          }
         ]
        },
        {
         "name": "traces",
         "transform": [
          {
           "expr": "isValid(datum.value)",
           "type": "filter"
          }
         ],
         "values": []
        },
        {
         "name": "points",
         "values": []
        },
        {
         "name": "markers",
         "values": []
        },
        {
         "name": "selected",
         "on": [
          {
           "remove": true,
           "trigger": "clear"
          },
          {
           "remove": true,
           "trigger": "!shift"
          },
          {
           "insert": "clicked",
           "trigger": "!shift && clicked"
          },
          {
           "toggle": "clicked",
           "trigger": "shift && clicked"
          }
         ]
        }
       ],
       "height": 300,
       "legends": [
        {
         "encode": {
          "labels": {
           "interactive": true,
           "name": "legendLabel",
           "update": {
            "opacity": [
             {
              "test": "!length(data('selected')) || indata('selected', 'value', datum.value)",
              "value": 1
             },
             {
              "value": 0.25
             }
            ]
           }
          },
          "symbols": {
           "interactive": true,
           "name": "legendSymbol",
           "update": {
            "fill": {
             "value": "transparent"
            },
            "opacity": [
             {
              "test": "!length(data('selected')) || indata('selected', 'value', datum.value)",
              "value": 0.7
             },
             {
              "value": 0.15
             }
            ],
            "size": {
             "value": 64
            },
            "strokeWidth": {
             "value": 2
            }
           }
          }
         },
         "name": "color_legend",
         "stroke": "color"
        }
       ],
       "marks": [
        {
         "from": {
          "facet": {
           "data": "points",
           "groupby": "trajectory",
           "name": "points_split"
          }
         },
         "marks": [
          {
           "encode": {
            "hover": {
             "fillOpacity": {
              "value": 0.9
             }
            },
            "update": {
             "fill": {
              "field": "trajectory",
              "scale": "color"
             },
             "fillOpacity": [
              {
               "test": "!length(data('selected')) || indata('selected', 'value', datum.trajectory)",
               "value": 0.5
              },
              {
               "value": 0.15
              }
             ],
             "size": {
              "value": 10
             },
             "stroke": {
              "field": "trajectory",
              "scale": "color"
             },
             "strokeOpacity": [
              {
               "test": "!length(data('selected')) || indata('selected', 'value', datum.trajectory)",
               "value": 0.75
              },
              {
               "value": 0.15
              }
             ],
             "strokeWidth": {
              "value": 2
             },
             "tooltip": {
              "field": "value"
             },
             "x": {
              "field": "timepoint",
              "scale": "xscale"
             },
             "y": {
              "field": "value",
              "scale": "yscale"
             }
            }
           },
           "from": {
            "data": "points"
           },
           "name": "_points_symbol",
           "type": "symbol",
           "zindex": 3
          },
          {
           "encode": {
            "hover": {
             "fillOpacity": {
              "value": 0.9
             }
            },
            "update": {
             "interpolate": {
              "value": "linear"
             },
             "stroke": {
              "field": "trajectory",
              "scale": "color"
             },
             "strokeOpacity": [
              {
               "test": "!length(data('selected')) || indata('selected', 'value', datum.trajectory)",
               "value": 0.3
              },
              {
               "value": 0.1
              }
             ],
             "strokeWidth": {
              "value": 2
             },
             "x": {
              "field": "timepoint",
              "scale": "xscale"
             },
             "y": {
              "field": "value",
              "scale": "yscale"
             }
            }
           },
           "from": {
            "data": "points"
           },
           "name": "_points_line",
           "type": "line",
           "zindex": 3
          }
         ],
         "name": "_points",
         "type": "group",
         "zindex": 3
        },
        {
         "from": {
          "facet": {
           "data": "traces",
           "groupby": "trajectory",
           "name": "traces_split"
          }
         },
         "marks": [
          {
           "encode": {
            "hover": {
             "fillOpacity": {
              "value": 0.9
             }
            },
            "update": {
             "interpolate": {
              "value": "linear"
             },
             "stroke": {
              "field": "trajectory",
              "scale": "color"
             },
             "strokeOpacity": [
              {
               "test": "!length(data('selected')) || indata('selected', 'value', datum.trajectory)",
               "value": 0.75
              },
              {
               "value": 0.15
              }
             ],
             "strokeWidth": {
              "value": 2
             },
             "x": {
              "field": "timepoint",
              "scale": "xscale"
             },
             "y": {
              "field": "value",
              "scale": "yscale"
             }
            }
           },
           "from": {
            "data": "traces_split"
           },
           "name": "_traces_lines",
           "type": "line"
          }
         ],
         "name": "_traces",
         "type": "group",
         "zindex": 2
        },
        {
         "from": {
          "facet": {
           "data": "distributions",
           "groupby": "trajectory",
           "name": "trajectory_split"
          }
         },
         "marks": [
          {
           "encode": {
            "hover": {
             "fillOpacity": {
              "value": 0.9
             }
            },
            "update": {
             "fill": {
              "field": "trajectory",
              "scale": "color"
             },
             "fillOpacity": [
              {
               "test": "!length(data('selected')) || indata('selected', 'value', datum.trajectory)",
               "value": 0.5
              },
              {
               "value": 0.15
              }
             ],
             "interpolate": {
              "value": "linear"
             },
             "stroke": {
              "field": "trajectory",
              "scale": "color"
             },
             "strokeOpacity": [
              {
               "test": "!length(data('selected')) || indata('selected', 'value', datum.trajectory)",
               "value": 0.75
              },
              {
               "value": 0.15
              }
             ],
             "strokeWidth": {
              "value": 2
             },
             "x": {
              "field": "timepoint",
              "scale": "xscale"
             },
             "y": {
              "field": "upper",
              "scale": "yscale"
             },
             "y2": {
              "field": "lower",
              "scale": "yscale"
             }
            }
           },
           "from": {
            "data": "trajectory_split"
           },
           "type": "area"
          }
         ],
         "name": "_distributions",
         "type": "group",
         "zindex": 1
        },
        {
         "marks": [
          {
           "encode": {
            "enter": {
             "stroke": {
              "value": "lightgray"
             }
            },
            "update": {
             "opacity": {
              "value": 1
             },
             "x": {
              "field": "timepoint",
              "scale": "xscale"
             },
             "y": {
              "signal": "height"
             },
             "y2": {
              "value": 0
             }
            }
           },
           "from": {
            "data": "markers"
           },
           "name": "_marker text",
           "type": "rule"
          },
          {
           "encode": {
            "enter": {
             "fontSize": {
              "value": 8
             },
             "text": {
              "field": "datum.label"
             },
             "y": {
              "value": 0
             }
            }
           },
           "from": {
            "data": "_marker text"
           },
           "name": "_marker flags",
           "transform": [
            {
             "as": [
              "x",
              "_y",
              "opacity",
              "align",
              "baseline"
             ],
             "lineAnchor": "start",
             "offset": [
              1
             ],
             "size": {
              "signal": "[width, height]"
             },
             "type": "label"
            }
           ],
           "type": "text"
          }
         ],
         "name": "_markers",
         "type": "group"
        }
       ],
       "scales": [
        {
         "domain": {
          "fields": [
           {
            "data": "distributions",
            "field": "timepoint"
           },
           {
            "data": "traces",
            "field": "timepoint"
           },
           {
            "data": "points",
            "field": "timepoint"
           },
           {
            "data": "markers",
            "field": "timepoint"
           }
          ]
         },
         "name": "xscale",
         "range": "width",
         "type": "linear",
         "zero": false
        },
        {
         "domain": {
          "fields": [
           {
            "data": "distributions",
            "field": "lower"
           },
           {
            "data": "distributions",
            "field": "upper"
           },
           {
            "data": "traces",
            "field": "value"
           },
           {
            "data": "points",
            "field": "value"
           }
          ]
         },
         "name": "yscale",
         "nice": true,
         "range": "height",
         "type": "linear",
         "zero": true
        },
        {
         "domain": {
          "fields": [
           {
            "data": "distributions",
            "field": "trajectory"
           },
           {
            "data": "traces",
            "field": "trajectory"
           },
           {
            "data": "points",
            "field": "trajectory"
           }
          ]
         },
         "name": "color",
         "range": "category",
         "type": "ordinal"
        }
       ],
       "signals": [
        {
         "name": "clear",
         "on": [
          {
           "events": "mouseup[!event.item]",
           "force": true,
           "update": "true"
          }
         ],
         "value": true
        },
        {
         "name": "shift",
         "on": [
          {
           "events": "@legendSymbol:click, @legendLabel:click",
           "force": true,
           "update": "event.shiftKey"
          }
         ],
         "value": false
        },
        {
         "name": "clicked",
         "on": [
          {
           "events": "@legendSymbol:click, @legendLabel:click",
           "force": true,
           "update": "{value: datum.value}"
          }
         ],
         "value": null
        }
       ],
       "title": "Calibrated Ensemble",
       "width": 500
      }
     },
     "metadata": {},
     "output_type": "display_data"
    }
   ],
   "source": [
    "data_path = os.path.join(DEMO_PATH, \"results_petri_ensemble/ensemble_data.csv\")\n",
    "num_samples = 2\n",
    "timepoints = [0.0, 1.0, 2.0, 3.0, 4.0]\n",
    "\n",
    "# Run the calibration and sampling\n",
    "result = load_and_calibrate_and_sample_ensemble_model(\n",
    "    ASKENET_PATHS,\n",
    "    data_path,\n",
    "    weights,\n",
    "    solution_mappings,\n",
    "    num_samples,\n",
    "    timepoints,\n",
    "    verbose=True,\n",
    "    total_population=100000000,\n",
    "    num_iterations=10,\n",
    "    time_unit=\"days\",\n",
    "    visual_options={\"title\": \"Calibrated Ensemble\", \"subset\":\".*_sol\"}\n",
    ")\n",
    "\n",
    "# Save results\n",
    "result[\"data\"].to_csv(\n",
    "    os.path.join(DEMO_PATH, \"results_petri_ensemble/calibrated_sample_results.csv\"), index=False\n",
    ")\n",
    "result[\"quantiles\"].to_csv(\n",
    "    os.path.join(DEMO_PATH, \"results_petri_ensemble/calibrated_quantile_results.csv\"), index=False\n",
    ")\n",
    "plots.ipy_display(result[\"visual\"])"
   ]
  },
  {
   "cell_type": "code",
   "execution_count": null,
   "metadata": {},
   "outputs": [],
   "source": []
  }
 ],
 "metadata": {
  "kernelspec": {
   "display_name": "Python 3 (ipykernel)",
   "language": "python",
   "name": "python3"
  },
  "language_info": {
   "codemirror_mode": {
    "name": "ipython",
    "version": 3
   },
   "file_extension": ".py",
   "mimetype": "text/x-python",
   "name": "python",
   "nbconvert_exporter": "python",
   "pygments_lexer": "ipython3",
   "version": "3.10.9"
  }
 },
 "nbformat": 4,
 "nbformat_minor": 4
}
