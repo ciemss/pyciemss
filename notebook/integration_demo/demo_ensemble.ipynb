{
 "cells": [
  {
   "cell_type": "code",
   "execution_count": 1,
   "metadata": {},
   "outputs": [],
   "source": [
    "import os\n",
    "from pyciemss.Ensemble.interfaces import (\n",
    "    load_and_sample_petri_ensemble, load_and_calibrate_and_sample_ensemble_model\n",
    ")\n",
    "from pyciemss.visuals import plots"
   ]
  },
  {
   "cell_type": "code",
   "execution_count": 14,
   "metadata": {},
   "outputs": [],
   "source": [
    "DEMO_PATH = \"notebook/integration_demo/\"\n",
    "# ASKENET_PATH_1 = \"https://raw.githubusercontent.com/DARPA-ASKEM/Model-Representations/main/petrinet/examples/sir_typed.json\"\n",
    "ASKENET_PATH_1 = \"test/models/AMR_examples/ensemble/SEIARHDS_AMR.json\"\n",
    "ASKENET_PATH_2 = \"test/models/AMR_examples/ensemble/SIRHD_AMR.json\"\n",
    "\n",
    "ASKENET_PATHS = [ASKENET_PATH_1, ASKENET_PATH_2]"
   ]
  },
  {
   "attachments": {},
   "cell_type": "markdown",
   "metadata": {},
   "source": [
    "## load_and_sample_ensemble_model"
   ]
  },
  {
   "cell_type": "code",
   "execution_count": 15,
   "metadata": {},
   "outputs": [],
   "source": [
    "weights = [0.5, 0.5]\n",
    "num_samples = 100\n",
    "timepoints = [0.0, 1.0, 2.0, 3.0, 4.0]\n",
    "solution_mappings = [{\"Infected\": \"Cases\", \"Hospitalizations\": \"hospitalized_population\"}, # model 1 mappings\n",
    "                     {\"Infected\": \"Infections\", \"Hospitalizations\": \"hospitalized_population\"} # model 2\n",
    "                     ]\n",
    "\n",
    "# Run sampling\n",
    "result = load_and_sample_petri_ensemble(\n",
    "    ASKENET_PATHS, weights, solution_mappings, num_samples, timepoints, \n",
    "    time_unit=\"days\",\n",
    "    visual_options={\"keep\":\".*_sol\"}\n",
    ")\n",
    "\n",
    "ensemble_samples = result[\"data\"]\n",
    "q_ensemble = result[\"quantiles\"]\n",
    "\n",
    "# Save results\n",
    "ensemble_samples.to_csv(os.path.join(DEMO_PATH, \"results_petri_ensemble/sample_results.csv\"), index=False)\n",
    "q_ensemble.to_csv(os.path.join(DEMO_PATH, \"results_petri_ensemble/quantile_results.csv\"), index=False)"
   ]
  },
  {
   "cell_type": "code",
   "execution_count": 16,
   "metadata": {},
   "outputs": [
    {
     "name": "stdout",
     "output_type": "stream",
     "text": [
      "\n"
     ]
    },
    {
     "data": {
      "application/vnd.vega.v5+json": {
       "$schema": "https://vega.github.io/schema/vega/v5.json",
       "axes": [
        {
         "name": "x_axis",
         "orient": "bottom",
         "scale": "xscale",
         "zindex": 100
        },
        {
         "name": "y_axis",
         "orient": "left",
         "scale": "yscale",
         "zindex": 100
        }
       ],
       "data": [
        {
         "name": "distributions",
         "values": [
          {
           "lower": 1.1779747750156888e-12,
           "timepoint": 0,
           "trajectory": "Hospitalizations_sol",
           "upper": 1.9950618522675267e-12
          },
          {
           "lower": 0.013038416905328632,
           "timepoint": 1,
           "trajectory": "Hospitalizations_sol",
           "upper": 0.02049797885119915
          },
          {
           "lower": 0.02910077078267932,
           "timepoint": 2,
           "trajectory": "Hospitalizations_sol",
           "upper": 0.04661201220005751
          },
          {
           "lower": 0.04475579895079136,
           "timepoint": 3,
           "trajectory": "Hospitalizations_sol",
           "upper": 0.08101273402571678
          },
          {
           "lower": 0.05881735105067491,
           "timepoint": 4,
           "trajectory": "Hospitalizations_sol",
           "upper": 0.1335201919078827
          },
          {
           "lower": 1,
           "timepoint": 0,
           "trajectory": "Infected_sol",
           "upper": 1
          },
          {
           "lower": 0.9148118406534195,
           "timepoint": 1,
           "trajectory": "Infected_sol",
           "upper": 1.5172279357910157
          },
          {
           "lower": 0.9936786442995071,
           "timepoint": 2,
           "trajectory": "Infected_sol",
           "upper": 2.3130352020263674
          },
          {
           "lower": 1.1791305482387542,
           "timepoint": 3,
           "trajectory": "Infected_sol",
           "upper": 3.531985104084015
          },
          {
           "lower": 1.462792831659317,
           "timepoint": 4,
           "trajectory": "Infected_sol",
           "upper": 5.396672654151916
          }
         ]
        },
        {
         "name": "traces",
         "transform": [
          {
           "expr": "isValid(datum.value)",
           "type": "filter"
          }
         ],
         "values": []
        },
        {
         "name": "points",
         "values": []
        },
        {
         "name": "markers",
         "values": []
        },
        {
         "name": "selected",
         "on": [
          {
           "remove": true,
           "trigger": "clear"
          },
          {
           "remove": true,
           "trigger": "!shift"
          },
          {
           "insert": "clicked",
           "trigger": "!shift && clicked"
          },
          {
           "toggle": "clicked",
           "trigger": "shift && clicked"
          }
         ]
        }
       ],
       "height": 300,
       "legends": [
        {
         "encode": {
          "labels": {
           "interactive": true,
           "name": "legendLabel",
           "update": {
            "opacity": [
             {
              "test": "!length(data('selected')) || indata('selected', 'value', datum.value)",
              "value": 1
             },
             {
              "value": 0.25
             }
            ]
           }
          },
          "symbols": {
           "interactive": true,
           "name": "legendSymbol",
           "update": {
            "fill": {
             "value": "transparent"
            },
            "opacity": [
             {
              "test": "!length(data('selected')) || indata('selected', 'value', datum.value)",
              "value": 0.7
             },
             {
              "value": 0.15
             }
            ],
            "size": {
             "value": 64
            },
            "strokeWidth": {
             "value": 2
            }
           }
          }
         },
         "name": "color_legend",
         "stroke": "color"
        }
       ],
       "marks": [
        {
         "from": {
          "facet": {
           "data": "points",
           "groupby": "trajectory",
           "name": "points_split"
          }
         },
         "marks": [
          {
           "encode": {
            "hover": {
             "fillOpacity": {
              "value": 0.9
             }
            },
            "update": {
             "fill": {
              "field": "trajectory",
              "scale": "color"
             },
             "fillOpacity": [
              {
               "test": "!length(data('selected')) || indata('selected', 'value', datum.trajectory)",
               "value": 0.5
              },
              {
               "value": 0.15
              }
             ],
             "size": {
              "value": 10
             },
             "stroke": {
              "field": "trajectory",
              "scale": "color"
             },
             "strokeOpacity": [
              {
               "test": "!length(data('selected')) || indata('selected', 'value', datum.trajectory)",
               "value": 0.75
              },
              {
               "value": 0.15
              }
             ],
             "strokeWidth": {
              "value": 2
             },
             "tooltip": {
              "field": "value"
             },
             "x": {
              "field": "timepoint",
              "scale": "xscale"
             },
             "y": {
              "field": "value",
              "scale": "yscale"
             }
            }
           },
           "from": {
            "data": "points"
           },
           "name": "_points_symbol",
           "type": "symbol",
           "zindex": 3
          },
          {
           "encode": {
            "hover": {
             "fillOpacity": {
              "value": 0.9
             }
            },
            "update": {
             "interpolate": {
              "value": "linear"
             },
             "stroke": {
              "field": "trajectory",
              "scale": "color"
             },
             "strokeOpacity": [
              {
               "test": "!length(data('selected')) || indata('selected', 'value', datum.trajectory)",
               "value": 0.3
              },
              {
               "value": 0.1
              }
             ],
             "strokeWidth": {
              "value": 2
             },
             "x": {
              "field": "timepoint",
              "scale": "xscale"
             },
             "y": {
              "field": "value",
              "scale": "yscale"
             }
            }
           },
           "from": {
            "data": "points"
           },
           "name": "_points_line",
           "type": "line",
           "zindex": 3
          }
         ],
         "name": "_points",
         "type": "group",
         "zindex": 3
        },
        {
         "from": {
          "facet": {
           "data": "traces",
           "groupby": "trajectory",
           "name": "traces_split"
          }
         },
         "marks": [
          {
           "encode": {
            "hover": {
             "fillOpacity": {
              "value": 0.9
             }
            },
            "update": {
             "interpolate": {
              "value": "linear"
             },
             "stroke": {
              "field": "trajectory",
              "scale": "color"
             },
             "strokeOpacity": [
              {
               "test": "!length(data('selected')) || indata('selected', 'value', datum.trajectory)",
               "value": 0.75
              },
              {
               "value": 0.15
              }
             ],
             "strokeWidth": {
              "value": 2
             },
             "x": {
              "field": "timepoint",
              "scale": "xscale"
             },
             "y": {
              "field": "value",
              "scale": "yscale"
             }
            }
           },
           "from": {
            "data": "traces_split"
           },
           "name": "_traces_lines",
           "type": "line"
          }
         ],
         "name": "_traces",
         "type": "group",
         "zindex": 2
        },
        {
         "from": {
          "facet": {
           "data": "distributions",
           "groupby": "trajectory",
           "name": "trajectory_split"
          }
         },
         "marks": [
          {
           "encode": {
            "hover": {
             "fillOpacity": {
              "value": 0.9
             }
            },
            "update": {
             "fill": {
              "field": "trajectory",
              "scale": "color"
             },
             "fillOpacity": [
              {
               "test": "!length(data('selected')) || indata('selected', 'value', datum.trajectory)",
               "value": 0.5
              },
              {
               "value": 0.15
              }
             ],
             "interpolate": {
              "value": "linear"
             },
             "stroke": {
              "field": "trajectory",
              "scale": "color"
             },
             "strokeOpacity": [
              {
               "test": "!length(data('selected')) || indata('selected', 'value', datum.trajectory)",
               "value": 0.75
              },
              {
               "value": 0.15
              }
             ],
             "strokeWidth": {
              "value": 2
             },
             "x": {
              "field": "timepoint",
              "scale": "xscale"
             },
             "y": {
              "field": "upper",
              "scale": "yscale"
             },
             "y2": {
              "field": "lower",
              "scale": "yscale"
             }
            }
           },
           "from": {
            "data": "trajectory_split"
           },
           "type": "area"
          }
         ],
         "name": "_distributions",
         "type": "group",
         "zindex": 1
        },
        {
         "marks": [
          {
           "encode": {
            "enter": {
             "stroke": {
              "value": "lightgray"
             }
            },
            "update": {
             "opacity": {
              "value": 1
             },
             "x": {
              "field": "timepoint",
              "scale": "xscale"
             },
             "y": {
              "signal": "height"
             },
             "y2": {
              "value": 0
             }
            }
           },
           "from": {
            "data": "markers"
           },
           "name": "_marker text",
           "type": "rule"
          },
          {
           "encode": {
            "enter": {
             "fontSize": {
              "value": 8
             },
             "text": {
              "field": "datum.label"
             },
             "y": {
              "value": 0
             }
            }
           },
           "from": {
            "data": "_marker text"
           },
           "name": "_marker flags",
           "transform": [
            {
             "as": [
              "x",
              "_y",
              "opacity",
              "align",
              "baseline"
             ],
             "lineAnchor": "start",
             "offset": [
              1
             ],
             "size": {
              "signal": "[width, height]"
             },
             "type": "label"
            }
           ],
           "type": "text"
          }
         ],
         "name": "_markers",
         "type": "group"
        }
       ],
       "scales": [
        {
         "domain": {
          "fields": [
           {
            "data": "distributions",
            "field": "timepoint"
           },
           {
            "data": "traces",
            "field": "timepoint"
           },
           {
            "data": "points",
            "field": "timepoint"
           },
           {
            "data": "markers",
            "field": "timepoint"
           }
          ]
         },
         "name": "xscale",
         "range": "width",
         "type": "linear",
         "zero": false
        },
        {
         "domain": {
          "fields": [
           {
            "data": "distributions",
            "field": "lower"
           },
           {
            "data": "distributions",
            "field": "upper"
           },
           {
            "data": "traces",
            "field": "value"
           },
           {
            "data": "points",
            "field": "value"
           }
          ]
         },
         "name": "yscale",
         "nice": true,
         "range": "height",
         "type": "linear",
         "zero": true
        },
        {
         "domain": {
          "fields": [
           {
            "data": "distributions",
            "field": "trajectory"
           },
           {
            "data": "traces",
            "field": "trajectory"
           },
           {
            "data": "points",
            "field": "trajectory"
           }
          ]
         },
         "name": "color",
         "range": "category",
         "type": "ordinal"
        }
       ],
       "signals": [
        {
         "name": "clear",
         "on": [
          {
           "events": "mouseup[!event.item]",
           "force": true,
           "update": "true"
          }
         ],
         "value": true
        },
        {
         "name": "shift",
         "on": [
          {
           "events": "@legendSymbol:click, @legendLabel:click",
           "force": true,
           "update": "event.shiftKey"
          }
         ],
         "value": false
        },
        {
         "name": "clicked",
         "on": [
          {
           "events": "@legendSymbol:click, @legendLabel:click",
           "force": true,
           "update": "{value: datum.value}"
          }
         ],
         "value": null
        }
       ],
       "width": 500
      }
     },
     "metadata": {},
     "output_type": "display_data"
    }
   ],
   "source": [
    "plots.ipy_display(result[\"visual\"])"
   ]
  },
  {
   "attachments": {},
   "cell_type": "markdown",
   "metadata": {},
   "source": [
    "## load_and_calibrate_and_sample_ensemble_model"
   ]
  },
  {
   "cell_type": "code",
   "execution_count": 17,
   "metadata": {},
   "outputs": [],
   "source": [
    "# # Generate data from model\n",
    "# from pyciemss.utils.interface_utils import solutions_to_observations\n",
    "\n",
    "# data = solutions_to_observations(timepoints, result[\"data\"].set_index([\"timepoint_id\", \"sample_id\"]))\n",
    "# data[0].to_csv(os.path.join(DEMO_PATH, \"results_petri_ensemble/ensemble_data.csv\"), index=False)"
   ]
  },
  {
   "cell_type": "code",
   "execution_count": 18,
   "metadata": {},
   "outputs": [
    {
     "name": "stdout",
     "output_type": "stream",
     "text": [
      "iteration 0: loss = 25.51808136701584\n",
      "iteration 25: loss = 17.304742455482483\n",
      "iteration 50: loss = 11.660049021244049\n",
      "iteration 75: loss = 6.064187049865723\n",
      "iteration 100: loss = 4.9825379848480225\n",
      "iteration 125: loss = 6.035699963569641\n",
      "iteration 150: loss = 3.1407703161239624\n",
      "iteration 175: loss = 4.676132500171661\n",
      "iteration 200: loss = 4.6497286558151245\n",
      "iteration 225: loss = 4.726485967636108\n",
      "iteration 250: loss = 4.717195510864258\n",
      "iteration 275: loss = 3.7268177270889282\n",
      "iteration 300: loss = 4.001044154167175\n",
      "iteration 325: loss = 3.4246901869773865\n",
      "\n"
     ]
    },
    {
     "data": {
      "application/vnd.vega.v5+json": {
       "$schema": "https://vega.github.io/schema/vega/v5.json",
       "axes": [
        {
         "name": "x_axis",
         "orient": "bottom",
         "scale": "xscale",
         "zindex": 100
        },
        {
         "name": "y_axis",
         "orient": "left",
         "scale": "yscale",
         "zindex": 100
        }
       ],
       "data": [
        {
         "name": "distributions",
         "values": [
          {
           "lower": 1.972936180746898e-12,
           "timepoint": 0,
           "trajectory": "Hospitalizations_sol",
           "upper": 1.9815472613454734e-12
          },
          {
           "lower": 0.017214841302484275,
           "timepoint": 1,
           "trajectory": "Hospitalizations_sol",
           "upper": 0.017444792110472916
          },
          {
           "lower": 0.031213186774402858,
           "timepoint": 2,
           "trajectory": "Hospitalizations_sol",
           "upper": 0.03236496252939105
          },
          {
           "lower": 0.04414381738752127,
           "timepoint": 3,
           "trajectory": "Hospitalizations_sol",
           "upper": 0.04705305863171816
          },
          {
           "lower": 0.05751230139285326,
           "timepoint": 4,
           "trajectory": "Hospitalizations_sol",
           "upper": 0.06324940230697393
          },
          {
           "lower": 1,
           "timepoint": 0,
           "trajectory": "Infected_sol",
           "upper": 1
          },
          {
           "lower": 0.917338740825653,
           "timepoint": 1,
           "trajectory": "Infected_sol",
           "upper": 0.9532054543495179
          },
          {
           "lower": 0.9772235333919526,
           "timepoint": 2,
           "trajectory": "Infected_sol",
           "upper": 1.060803633928299
          },
          {
           "lower": 1.1390474677085876,
           "timepoint": 3,
           "trajectory": "Infected_sol",
           "upper": 1.2875553727149964
          },
          {
           "lower": 1.3894773244857788,
           "timepoint": 4,
           "trajectory": "Infected_sol",
           "upper": 1.6275858163833619
          }
         ]
        },
        {
         "name": "traces",
         "transform": [
          {
           "expr": "isValid(datum.value)",
           "type": "filter"
          }
         ],
         "values": []
        },
        {
         "name": "points",
         "values": []
        },
        {
         "name": "markers",
         "values": []
        },
        {
         "name": "selected",
         "on": [
          {
           "remove": true,
           "trigger": "clear"
          },
          {
           "remove": true,
           "trigger": "!shift"
          },
          {
           "insert": "clicked",
           "trigger": "!shift && clicked"
          },
          {
           "toggle": "clicked",
           "trigger": "shift && clicked"
          }
         ]
        }
       ],
       "height": 300,
       "legends": [
        {
         "encode": {
          "labels": {
           "interactive": true,
           "name": "legendLabel",
           "update": {
            "opacity": [
             {
              "test": "!length(data('selected')) || indata('selected', 'value', datum.value)",
              "value": 1
             },
             {
              "value": 0.25
             }
            ]
           }
          },
          "symbols": {
           "interactive": true,
           "name": "legendSymbol",
           "update": {
            "fill": {
             "value": "transparent"
            },
            "opacity": [
             {
              "test": "!length(data('selected')) || indata('selected', 'value', datum.value)",
              "value": 0.7
             },
             {
              "value": 0.15
             }
            ],
            "size": {
             "value": 64
            },
            "strokeWidth": {
             "value": 2
            }
           }
          }
         },
         "name": "color_legend",
         "stroke": "color"
        }
       ],
       "marks": [
        {
         "from": {
          "facet": {
           "data": "points",
           "groupby": "trajectory",
           "name": "points_split"
          }
         },
         "marks": [
          {
           "encode": {
            "hover": {
             "fillOpacity": {
              "value": 0.9
             }
            },
            "update": {
             "fill": {
              "field": "trajectory",
              "scale": "color"
             },
             "fillOpacity": [
              {
               "test": "!length(data('selected')) || indata('selected', 'value', datum.trajectory)",
               "value": 0.5
              },
              {
               "value": 0.15
              }
             ],
             "size": {
              "value": 10
             },
             "stroke": {
              "field": "trajectory",
              "scale": "color"
             },
             "strokeOpacity": [
              {
               "test": "!length(data('selected')) || indata('selected', 'value', datum.trajectory)",
               "value": 0.75
              },
              {
               "value": 0.15
              }
             ],
             "strokeWidth": {
              "value": 2
             },
             "tooltip": {
              "field": "value"
             },
             "x": {
              "field": "timepoint",
              "scale": "xscale"
             },
             "y": {
              "field": "value",
              "scale": "yscale"
             }
            }
           },
           "from": {
            "data": "points"
           },
           "name": "_points_symbol",
           "type": "symbol",
           "zindex": 3
          },
          {
           "encode": {
            "hover": {
             "fillOpacity": {
              "value": 0.9
             }
            },
            "update": {
             "interpolate": {
              "value": "linear"
             },
             "stroke": {
              "field": "trajectory",
              "scale": "color"
             },
             "strokeOpacity": [
              {
               "test": "!length(data('selected')) || indata('selected', 'value', datum.trajectory)",
               "value": 0.3
              },
              {
               "value": 0.1
              }
             ],
             "strokeWidth": {
              "value": 2
             },
             "x": {
              "field": "timepoint",
              "scale": "xscale"
             },
             "y": {
              "field": "value",
              "scale": "yscale"
             }
            }
           },
           "from": {
            "data": "points"
           },
           "name": "_points_line",
           "type": "line",
           "zindex": 3
          }
         ],
         "name": "_points",
         "type": "group",
         "zindex": 3
        },
        {
         "from": {
          "facet": {
           "data": "traces",
           "groupby": "trajectory",
           "name": "traces_split"
          }
         },
         "marks": [
          {
           "encode": {
            "hover": {
             "fillOpacity": {
              "value": 0.9
             }
            },
            "update": {
             "interpolate": {
              "value": "linear"
             },
             "stroke": {
              "field": "trajectory",
              "scale": "color"
             },
             "strokeOpacity": [
              {
               "test": "!length(data('selected')) || indata('selected', 'value', datum.trajectory)",
               "value": 0.75
              },
              {
               "value": 0.15
              }
             ],
             "strokeWidth": {
              "value": 2
             },
             "x": {
              "field": "timepoint",
              "scale": "xscale"
             },
             "y": {
              "field": "value",
              "scale": "yscale"
             }
            }
           },
           "from": {
            "data": "traces_split"
           },
           "name": "_traces_lines",
           "type": "line"
          }
         ],
         "name": "_traces",
         "type": "group",
         "zindex": 2
        },
        {
         "from": {
          "facet": {
           "data": "distributions",
           "groupby": "trajectory",
           "name": "trajectory_split"
          }
         },
         "marks": [
          {
           "encode": {
            "hover": {
             "fillOpacity": {
              "value": 0.9
             }
            },
            "update": {
             "fill": {
              "field": "trajectory",
              "scale": "color"
             },
             "fillOpacity": [
              {
               "test": "!length(data('selected')) || indata('selected', 'value', datum.trajectory)",
               "value": 0.5
              },
              {
               "value": 0.15
              }
             ],
             "interpolate": {
              "value": "linear"
             },
             "stroke": {
              "field": "trajectory",
              "scale": "color"
             },
             "strokeOpacity": [
              {
               "test": "!length(data('selected')) || indata('selected', 'value', datum.trajectory)",
               "value": 0.75
              },
              {
               "value": 0.15
              }
             ],
             "strokeWidth": {
              "value": 2
             },
             "x": {
              "field": "timepoint",
              "scale": "xscale"
             },
             "y": {
              "field": "upper",
              "scale": "yscale"
             },
             "y2": {
              "field": "lower",
              "scale": "yscale"
             }
            }
           },
           "from": {
            "data": "trajectory_split"
           },
           "type": "area"
          }
         ],
         "name": "_distributions",
         "type": "group",
         "zindex": 1
        },
        {
         "marks": [
          {
           "encode": {
            "enter": {
             "stroke": {
              "value": "lightgray"
             }
            },
            "update": {
             "opacity": {
              "value": 1
             },
             "x": {
              "field": "timepoint",
              "scale": "xscale"
             },
             "y": {
              "signal": "height"
             },
             "y2": {
              "value": 0
             }
            }
           },
           "from": {
            "data": "markers"
           },
           "name": "_marker text",
           "type": "rule"
          },
          {
           "encode": {
            "enter": {
             "fontSize": {
              "value": 8
             },
             "text": {
              "field": "datum.label"
             },
             "y": {
              "value": 0
             }
            }
           },
           "from": {
            "data": "_marker text"
           },
           "name": "_marker flags",
           "transform": [
            {
             "as": [
              "x",
              "_y",
              "opacity",
              "align",
              "baseline"
             ],
             "lineAnchor": "start",
             "offset": [
              1
             ],
             "size": {
              "signal": "[width, height]"
             },
             "type": "label"
            }
           ],
           "type": "text"
          }
         ],
         "name": "_markers",
         "type": "group"
        }
       ],
       "scales": [
        {
         "domain": {
          "fields": [
           {
            "data": "distributions",
            "field": "timepoint"
           },
           {
            "data": "traces",
            "field": "timepoint"
           },
           {
            "data": "points",
            "field": "timepoint"
           },
           {
            "data": "markers",
            "field": "timepoint"
           }
          ]
         },
         "name": "xscale",
         "range": "width",
         "type": "linear",
         "zero": false
        },
        {
         "domain": {
          "fields": [
           {
            "data": "distributions",
            "field": "lower"
           },
           {
            "data": "distributions",
            "field": "upper"
           },
           {
            "data": "traces",
            "field": "value"
           },
           {
            "data": "points",
            "field": "value"
           }
          ]
         },
         "name": "yscale",
         "nice": true,
         "range": "height",
         "type": "linear",
         "zero": true
        },
        {
         "domain": {
          "fields": [
           {
            "data": "distributions",
            "field": "trajectory"
           },
           {
            "data": "traces",
            "field": "trajectory"
           },
           {
            "data": "points",
            "field": "trajectory"
           }
          ]
         },
         "name": "color",
         "range": "category",
         "type": "ordinal"
        }
       ],
       "signals": [
        {
         "name": "clear",
         "on": [
          {
           "events": "mouseup[!event.item]",
           "force": true,
           "update": "true"
          }
         ],
         "value": true
        },
        {
         "name": "shift",
         "on": [
          {
           "events": "@legendSymbol:click, @legendLabel:click",
           "force": true,
           "update": "event.shiftKey"
          }
         ],
         "value": false
        },
        {
         "name": "clicked",
         "on": [
          {
           "events": "@legendSymbol:click, @legendLabel:click",
           "force": true,
           "update": "{value: datum.value}"
          }
         ],
         "value": null
        }
       ],
       "title": "Calibrated Ensemble",
       "width": 500
      }
     },
     "metadata": {},
     "output_type": "display_data"
    }
   ],
   "source": [
    "data_path = os.path.join(DEMO_PATH, \"results_petri_ensemble/ensemble_data.csv\")\n",
    "num_samples = 2\n",
    "timepoints = [0.0, 1.0, 2.0, 3.0, 4.0]\n",
    "\n",
    "# Run the calibration and sampling\n",
    "result = load_and_calibrate_and_sample_ensemble_model(\n",
    "    ASKENET_PATHS,\n",
    "    data_path,\n",
    "    weights,\n",
    "    solution_mappings,\n",
    "    num_samples,\n",
    "    timepoints,\n",
    "    verbose=True,\n",
    "    total_population=1000,\n",
    "    num_iterations=350,\n",
    "    time_unit=\"days\",\n",
    "    visual_options={\"title\": \"Calibrated Ensemble\", \"keep\":\".*_sol\"}\n",
    ")\n",
    "\n",
    "# Save results\n",
    "result[\"data\"].to_csv(\n",
    "    os.path.join(DEMO_PATH, \"results_petri_ensemble/calibrated_sample_results.csv\"), index=False\n",
    ")\n",
    "result[\"quantiles\"].to_csv(\n",
    "    os.path.join(DEMO_PATH, \"results_petri_ensemble/calibrated_quantile_results.csv\"), index=False\n",
    ")\n",
    "plots.ipy_display(result[\"visual\"])"
   ]
  }
 ],
 "metadata": {
  "kernelspec": {
   "display_name": "ASKEM",
   "language": "python",
   "name": "python3"
  },
  "language_info": {
   "codemirror_mode": {
    "name": "ipython",
    "version": 3
   },
   "file_extension": ".py",
   "mimetype": "text/x-python",
   "name": "python",
   "nbconvert_exporter": "python",
   "pygments_lexer": "ipython3",
   "version": "3.10.11"
  }
 },
 "nbformat": 4,
 "nbformat_minor": 4
}
