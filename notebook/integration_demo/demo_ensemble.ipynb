{
 "cells": [
  {
   "cell_type": "code",
   "execution_count": 1,
   "metadata": {},
   "outputs": [],
   "source": [
    "import os\n",
    "from pyciemss.Ensemble.interfaces import (\n",
    "    load_and_sample_petri_ensemble, load_and_calibrate_and_sample_ensemble_model\n",
    ")"
   ]
  },
  {
   "cell_type": "code",
   "execution_count": 2,
   "metadata": {},
   "outputs": [],
   "source": [
    "DEMO_PATH = \"notebook/integration_demo/\"\n",
    "ASKENET_PATH_1 = \"https://raw.githubusercontent.com/DARPA-ASKEM/Model-Representations/main/petrinet/examples/sir_typed.json\"\n",
    "ASKENET_PATH_2 = \"test/models/AMR_examples/SIDARTHE.amr.json\"\n",
    "\n",
    "ASKENET_PATHS = [ASKENET_PATH_1, ASKENET_PATH_2]"
   ]
  },
  {
   "cell_type": "code",
   "execution_count": 3,
   "metadata": {},
   "outputs": [],
   "source": [
    "def solution_mapping1(model1_solution: dict) -> dict:\n",
    "    return model1_solution\n",
    "\n",
    "\n",
    "def solution_mapping2(model2_solution: dict) -> dict:\n",
    "    mapped_solution = {}\n",
    "    mapped_solution[\"Susceptible\"] = (\n",
    "        model2_solution[\"Susceptible\"]\n",
    "        + model2_solution[\"Recognized\"]\n",
    "        + model2_solution[\"Threatened\"]\n",
    "    )\n",
    "\n",
    "    mapped_solution[\"Infected\"] = (\n",
    "        model2_solution[\"Infected\"]\n",
    "        + model2_solution[\"Ailing\"]\n",
    "        + model2_solution[\"Diagnosed\"]\n",
    "    )\n",
    "\n",
    "    # Model 1 doesn't include dead people, and implicitly assumes that everyone who is infected will recover.\n",
    "    mapped_solution[\"Recovered\"] = (\n",
    "        model2_solution[\"Healed\"] + model2_solution[\"Extinct\"]\n",
    "    )\n",
    "\n",
    "    return mapped_solution\n",
    "\n",
    "\n",
    "solution_mappings = [solution_mapping1, solution_mapping2]"
   ]
  },
  {
   "attachments": {},
   "cell_type": "markdown",
   "metadata": {},
   "source": [
    "## load_and_sample_ensemble_model"
   ]
  },
  {
   "cell_type": "code",
   "execution_count": 4,
   "metadata": {},
   "outputs": [],
   "source": [
    "weights = [0.5, 0.5]\n",
    "num_samples = 100\n",
    "timepoints = [0.0, 1.0, 2.0, 3.0, 4.0]\n",
    "\n",
    "# Run sampling\n",
    "ensemble_samples = load_and_sample_petri_ensemble(\n",
    "    ASKENET_PATHS, weights, solution_mappings, num_samples, timepoints\n",
    ")\n",
    "\n",
    "# Save results\n",
    "ensemble_samples.to_csv(os.path.join(DEMO_PATH, \"results_petri_ensemble/sample_results.csv\"), index=False)"
   ]
  },
  {
   "attachments": {},
   "cell_type": "markdown",
   "metadata": {},
   "source": [
    "## load_and_calibrate_and_sample_ensemble_model"
   ]
  },
  {
   "cell_type": "code",
   "execution_count": 7,
   "metadata": {},
   "outputs": [
    {
     "name": "stdout",
     "output_type": "stream",
     "text": [
      "iteration 0: loss = 56.12164771556854\n",
      "iteration 25: loss = 49.60371994972229\n",
      "iteration 50: loss = 33.30795359611511\n",
      "iteration 75: loss = 20.579649567604065\n",
      "iteration 100: loss = 21.66509783267975\n",
      "iteration 125: loss = 18.753786206245422\n",
      "iteration 150: loss = 16.53753125667572\n",
      "iteration 175: loss = 17.371854722499847\n",
      "iteration 200: loss = 15.905078649520874\n",
      "iteration 225: loss = 13.789868116378784\n",
      "iteration 250: loss = 13.533606469631195\n",
      "iteration 275: loss = 14.916905522346497\n",
      "iteration 300: loss = 13.741706490516663\n",
      "iteration 325: loss = 14.56143856048584\n",
      "iteration 350: loss = 12.594428539276123\n",
      "iteration 375: loss = 14.353631019592285\n",
      "iteration 400: loss = 14.124584197998047\n",
      "iteration 425: loss = 16.33763426542282\n",
      "iteration 450: loss = 15.56375253200531\n",
      "iteration 475: loss = 15.068402886390686\n",
      "iteration 500: loss = 14.676460444927216\n",
      "iteration 525: loss = 15.804013967514038\n",
      "iteration 550: loss = 14.724295616149902\n",
      "iteration 575: loss = 14.85770708322525\n",
      "iteration 600: loss = 14.058846235275269\n",
      "iteration 625: loss = 13.119673490524292\n",
      "iteration 650: loss = 15.249755263328552\n",
      "iteration 675: loss = 14.653111934661865\n",
      "iteration 700: loss = 14.084820747375488\n",
      "iteration 725: loss = 12.390039920806885\n",
      "iteration 750: loss = 15.382243156433105\n",
      "iteration 775: loss = 13.437841176986694\n",
      "iteration 800: loss = 15.685991406440735\n",
      "iteration 825: loss = 14.873103141784668\n",
      "iteration 850: loss = 14.577804327011108\n",
      "iteration 875: loss = 12.592588305473328\n",
      "iteration 900: loss = 16.371800184249878\n",
      "iteration 925: loss = 12.398984611034393\n",
      "iteration 950: loss = 14.811098098754883\n",
      "iteration 975: loss = 15.616987764835358\n"
     ]
    }
   ],
   "source": [
    "data_path = os.path.join(DEMO_PATH, \"data.csv\")\n",
    "num_samples = 100\n",
    "timepoints = [0.0, 1.0, 2.0, 3.0, 4.0]\n",
    "\n",
    "# Run the calibration and sampling\n",
    "calibrated_samples = load_and_calibrate_and_sample_ensemble_model(\n",
    "    ASKENET_PATHS,\n",
    "    data_path,\n",
    "    weights,\n",
    "    solution_mappings,\n",
    "    num_samples,\n",
    "    timepoints,\n",
    "    verbose=True,\n",
    "    total_population=1000,\n",
    ")\n",
    "\n",
    "# Save results\n",
    "calibrated_samples.to_csv(\n",
    "    os.path.join(DEMO_PATH, \"results_petri_ensemble/calibrated_sample_results.csv\"), index=False\n",
    ")"
   ]
  },
  {
   "cell_type": "code",
   "execution_count": null,
   "metadata": {},
   "outputs": [],
   "source": []
  }
 ],
 "metadata": {
  "kernelspec": {
   "display_name": "askem-test",
   "language": "python",
   "name": "python3"
  },
  "language_info": {
   "codemirror_mode": {
    "name": "ipython",
    "version": 3
   },
   "file_extension": ".py",
   "mimetype": "text/x-python",
   "name": "python",
   "nbconvert_exporter": "python",
   "pygments_lexer": "ipython3",
   "version": "3.10.11"
  },
  "orig_nbformat": 4
 },
 "nbformat": 4,
 "nbformat_minor": 2
}
