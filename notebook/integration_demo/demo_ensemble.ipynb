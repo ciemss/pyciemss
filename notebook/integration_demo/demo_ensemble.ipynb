{
 "cells": [
  {
   "cell_type": "code",
   "execution_count": 1,
   "metadata": {},
   "outputs": [],
   "source": [
    "import os\n",
    "from pyciemss.Ensemble.interfaces import (\n",
    "    load_and_sample_petri_ensemble,\n",
    ")"
   ]
  },
  {
   "cell_type": "code",
   "execution_count": 2,
   "metadata": {},
   "outputs": [],
   "source": [
    "DEMO_PATH = \"notebook/integration_demo/\"\n",
    "ASKENET_PATH_1 = \"https://raw.githubusercontent.com/DARPA-ASKEM/Model-Representations/main/petrinet/examples/sir_typed.json\"\n",
    "ASKENET_PATH_2 = \"test/models/AMR_examples/SIDARTHE.amr.json\"\n",
    "\n",
    "ASKENET_PATHS = [ASKENET_PATH_1, ASKENET_PATH_2]"
   ]
  },
  {
   "cell_type": "code",
   "execution_count": 3,
   "metadata": {},
   "outputs": [],
   "source": [
    "def solution_mapping1(model1_solution: dict) -> dict:\n",
    "    return model1_solution\n",
    "\n",
    "\n",
    "def solution_mapping2(model2_solution: dict) -> dict:\n",
    "    mapped_solution = {}\n",
    "    mapped_solution[\"Susceptible\"] = (\n",
    "        model2_solution[\"Susceptible\"]\n",
    "        + model2_solution[\"Recognized\"]\n",
    "        + model2_solution[\"Threatened\"]\n",
    "    )\n",
    "\n",
    "    mapped_solution[\"Infected\"] = (\n",
    "        model2_solution[\"Infected\"]\n",
    "        + model2_solution[\"Ailing\"]\n",
    "        + model2_solution[\"Diagnosed\"]\n",
    "    )\n",
    "\n",
    "    # Model 1 doesn't include dead people, and implicitly assumes that everyone who is infected will recover.\n",
    "    mapped_solution[\"Recovered\"] = (\n",
    "        model2_solution[\"Healed\"] + model2_solution[\"Extinct\"]\n",
    "    )\n",
    "\n",
    "    return mapped_solution\n",
    "\n",
    "\n",
    "solution_mappings = [solution_mapping1, solution_mapping2]"
   ]
  },
  {
   "attachments": {},
   "cell_type": "markdown",
   "metadata": {},
   "source": [
    "## load_and_sample_petri_model"
   ]
  },
  {
   "cell_type": "code",
   "execution_count": 5,
   "metadata": {},
   "outputs": [],
   "source": [
    "weights = [0.5, 0.5]\n",
    "num_samples = 100\n",
    "timepoints = [0.0, 1.0, 2.0, 3.0, 4.0]\n",
    "\n",
    "# Run sampling\n",
    "ensemble_samples = load_and_sample_petri_ensemble(\n",
    "    ASKENET_PATHS, weights, solution_mappings, num_samples, timepoints\n",
    ")\n",
    "\n",
    "# Save results\n",
    "ensemble_samples.to_csv(os.path.join(DEMO_PATH, \"results_petri_ensemble/sample_results.csv\"), index=False)"
   ]
  },
  {
   "attachments": {},
   "cell_type": "markdown",
   "metadata": {},
   "source": [
    "## load_and_calibrate_and_sample_petri_model"
   ]
  },
  {
   "cell_type": "code",
   "execution_count": 7,
   "metadata": {},
   "outputs": [
    {
     "name": "stdout",
     "output_type": "stream",
     "text": [
      "iteration 0: loss = 37.94811773300171\n",
      "iteration 25: loss = 34.9170196056366\n",
      "iteration 50: loss = 32.69080424308777\n",
      "iteration 75: loss = 32.41730046272278\n",
      "iteration 100: loss = 32.44331431388855\n",
      "iteration 125: loss = 32.692076683044434\n",
      "iteration 150: loss = 32.61838483810425\n",
      "iteration 175: loss = 32.56607246398926\n",
      "iteration 200: loss = 33.014737367630005\n",
      "iteration 225: loss = 32.58268332481384\n",
      "iteration 250: loss = 32.89216685295105\n",
      "iteration 275: loss = 31.961626768112183\n",
      "iteration 300: loss = 32.6565682888031\n"
     ]
    }
   ],
   "source": [
    "# data_path = os.path.join(DEMO_PATH, \"data.csv\")\n",
    "# num_samples = 100\n",
    "# timepoints = [0.0, 1.0, 2.0, 3.0, 4.0]\n",
    "\n",
    "# # Run the calibration and sampling\n",
    "# calibrated_samples = load_and_calibrate_and_sample_petri_model(\n",
    "#     ASKENET_PATH,\n",
    "#     data_path,\n",
    "#     num_samples,\n",
    "#     timepoints=timepoints,\n",
    "#     verbose=True,\n",
    "# )\n",
    "\n",
    "# # Save results\n",
    "# calibrated_samples.to_csv(\n",
    "#     os.path.join(DEMO_PATH, \"results_petri/calibrated_sample_results.csv\"), index=False\n",
    "# )"
   ]
  },
  {
   "cell_type": "code",
   "execution_count": null,
   "metadata": {},
   "outputs": [],
   "source": []
  }
 ],
 "metadata": {
  "kernelspec": {
   "display_name": "askem-test",
   "language": "python",
   "name": "python3"
  },
  "language_info": {
   "codemirror_mode": {
    "name": "ipython",
    "version": 3
   },
   "file_extension": ".py",
   "mimetype": "text/x-python",
   "name": "python",
   "nbconvert_exporter": "python",
   "pygments_lexer": "ipython3",
   "version": "3.10.11"
  },
  "orig_nbformat": 4
 },
 "nbformat": 4,
 "nbformat_minor": 2
}
