{
 "cells": [
  {
   "cell_type": "code",
   "execution_count": 1,
   "metadata": {},
   "outputs": [],
   "source": [
    "import os\n",
    "from pyciemss.Ensemble.interfaces import (\n",
    "    load_and_sample_petri_ensemble, load_and_calibrate_and_sample_ensemble_model\n",
    ")\n",
    "from pyciemss.visuals import plots"
   ]
  },
  {
   "cell_type": "code",
   "execution_count": 2,
   "metadata": {},
   "outputs": [],
   "source": [
    "DEMO_PATH = \"notebook/integration_demo/\"\n",
    "# ASKENET_PATH_1 = \"https://raw.githubusercontent.com/DARPA-ASKEM/Model-Representations/main/petrinet/examples/sir_typed.json\"\n",
    "ASKENET_PATH_1 = \"test/models/AMR_examples/SIDARTHE.amr.json\"\n",
    "ASKENET_PATH_2 = \"test/models/AMR_examples/SIDARTHE.amr.json\"\n",
    "\n",
    "ASKENET_PATHS = [ASKENET_PATH_1, ASKENET_PATH_2]"
   ]
  },
  {
   "attachments": {},
   "cell_type": "markdown",
   "metadata": {},
   "source": [
    "## load_and_sample_ensemble_model"
   ]
  },
  {
   "cell_type": "code",
   "execution_count": 4,
   "metadata": {},
   "outputs": [],
   "source": [
    "weights = [0.5, 0.5]\n",
    "num_samples = 2\n",
    "timepoints = [0.0, 1.0, 2.0, 3.0, 4.0, 40, 50]\n",
    "solution_mappings = [{\"S\":\"Cases\", \"I\":\"Hospitalizations\", \"D\":\"Deaths\"}, {\"S\":\"Cases\", \"I\":\"Hospitalizations\", \"D\":\"Deaths\"}]\n",
    "\n",
    "# Run sampling\n",
    "result = load_and_sample_petri_ensemble(\n",
    "    ASKENET_PATHS, weights, solution_mappings, num_samples, timepoints, \n",
    "    time_unit=\"days\"\n",
    ")\n",
    "\n",
    "ensemble_samples = result[\"data\"]\n",
    "q_ensemble = result[\"quantiles\"]\n",
    "# Save results\n",
    "ensemble_samples.to_csv(os.path.join(DEMO_PATH, \"results_petri_ensemble/sample_results.csv\"), index=False)\n",
    "q_ensemble.to_csv(os.path.join(DEMO_PATH, \"results_petri_ensemble/quantile_results.csv\"), index=False)"
   ]
  },
  {
   "cell_type": "code",
   "execution_count": 5,
   "metadata": {},
   "outputs": [
    {
     "data": {
      "text/html": [
       "<div>\n",
       "<style scoped>\n",
       "    .dataframe tbody tr th:only-of-type {\n",
       "        vertical-align: middle;\n",
       "    }\n",
       "\n",
       "    .dataframe tbody tr th {\n",
       "        vertical-align: top;\n",
       "    }\n",
       "\n",
       "    .dataframe thead th {\n",
       "        text-align: right;\n",
       "    }\n",
       "</style>\n",
       "<table border=\"1\" class=\"dataframe\">\n",
       "  <thead>\n",
       "    <tr style=\"text-align: right;\">\n",
       "      <th></th>\n",
       "      <th>timepoint_id</th>\n",
       "      <th>sample_id</th>\n",
       "      <th>model_0/beta_param</th>\n",
       "      <th>model_0/gamma_param</th>\n",
       "      <th>model_0/delta_param</th>\n",
       "      <th>model_0/alpha_param</th>\n",
       "      <th>model_0/epsilon_param</th>\n",
       "      <th>model_0/zeta_param</th>\n",
       "      <th>model_0/lambda_param</th>\n",
       "      <th>model_0/eta_param</th>\n",
       "      <th>...</th>\n",
       "      <th>model_1/nu_param</th>\n",
       "      <th>model_1/xi_param</th>\n",
       "      <th>model_1/tau_param</th>\n",
       "      <th>model_1/sigma_param</th>\n",
       "      <th>model_0_weight</th>\n",
       "      <th>model_1_weight</th>\n",
       "      <th>S_sol</th>\n",
       "      <th>I_sol</th>\n",
       "      <th>D_sol</th>\n",
       "      <th>timepoint_days</th>\n",
       "    </tr>\n",
       "  </thead>\n",
       "  <tbody>\n",
       "    <tr>\n",
       "      <th>0</th>\n",
       "      <td>0</td>\n",
       "      <td>0</td>\n",
       "      <td>0.012129</td>\n",
       "      <td>0.427158</td>\n",
       "      <td>0.009722</td>\n",
       "      <td>0.571750</td>\n",
       "      <td>0.177298</td>\n",
       "      <td>0.111706</td>\n",
       "      <td>0.037496</td>\n",
       "      <td>0.106768</td>\n",
       "      <td>...</td>\n",
       "      <td>0.025326</td>\n",
       "      <td>0.015622</td>\n",
       "      <td>0.011164</td>\n",
       "      <td>0.019525</td>\n",
       "      <td>0.007747</td>\n",
       "      <td>0.992253</td>\n",
       "      <td>3.666667e-07</td>\n",
       "      <td>3.333333e-08</td>\n",
       "      <td>6.324589e-32</td>\n",
       "      <td>0.0</td>\n",
       "    </tr>\n",
       "    <tr>\n",
       "      <th>1</th>\n",
       "      <td>1</td>\n",
       "      <td>0</td>\n",
       "      <td>0.012129</td>\n",
       "      <td>0.427158</td>\n",
       "      <td>0.009722</td>\n",
       "      <td>0.571750</td>\n",
       "      <td>0.177298</td>\n",
       "      <td>0.111706</td>\n",
       "      <td>0.037496</td>\n",
       "      <td>0.106768</td>\n",
       "      <td>...</td>\n",
       "      <td>0.025326</td>\n",
       "      <td>0.015622</td>\n",
       "      <td>0.011164</td>\n",
       "      <td>0.019525</td>\n",
       "      <td>0.007747</td>\n",
       "      <td>0.992253</td>\n",
       "      <td>9.598541e-07</td>\n",
       "      <td>1.540768e-07</td>\n",
       "      <td>2.136914e-11</td>\n",
       "      <td>1.0</td>\n",
       "    </tr>\n",
       "    <tr>\n",
       "      <th>2</th>\n",
       "      <td>2</td>\n",
       "      <td>0</td>\n",
       "      <td>0.012129</td>\n",
       "      <td>0.427158</td>\n",
       "      <td>0.009722</td>\n",
       "      <td>0.571750</td>\n",
       "      <td>0.177298</td>\n",
       "      <td>0.111706</td>\n",
       "      <td>0.037496</td>\n",
       "      <td>0.106768</td>\n",
       "      <td>...</td>\n",
       "      <td>0.025326</td>\n",
       "      <td>0.015622</td>\n",
       "      <td>0.011164</td>\n",
       "      <td>0.019525</td>\n",
       "      <td>0.007747</td>\n",
       "      <td>0.992253</td>\n",
       "      <td>1.882615e-06</td>\n",
       "      <td>4.510297e-07</td>\n",
       "      <td>1.611468e-10</td>\n",
       "      <td>2.0</td>\n",
       "    </tr>\n",
       "    <tr>\n",
       "      <th>3</th>\n",
       "      <td>3</td>\n",
       "      <td>0</td>\n",
       "      <td>0.012129</td>\n",
       "      <td>0.427158</td>\n",
       "      <td>0.009722</td>\n",
       "      <td>0.571750</td>\n",
       "      <td>0.177298</td>\n",
       "      <td>0.111706</td>\n",
       "      <td>0.037496</td>\n",
       "      <td>0.106768</td>\n",
       "      <td>...</td>\n",
       "      <td>0.025326</td>\n",
       "      <td>0.015622</td>\n",
       "      <td>0.011164</td>\n",
       "      <td>0.019525</td>\n",
       "      <td>0.007747</td>\n",
       "      <td>0.992253</td>\n",
       "      <td>3.265895e-06</td>\n",
       "      <td>9.679806e-07</td>\n",
       "      <td>5.753538e-10</td>\n",
       "      <td>3.0</td>\n",
       "    </tr>\n",
       "    <tr>\n",
       "      <th>4</th>\n",
       "      <td>4</td>\n",
       "      <td>0</td>\n",
       "      <td>0.012129</td>\n",
       "      <td>0.427158</td>\n",
       "      <td>0.009722</td>\n",
       "      <td>0.571750</td>\n",
       "      <td>0.177298</td>\n",
       "      <td>0.111706</td>\n",
       "      <td>0.037496</td>\n",
       "      <td>0.106768</td>\n",
       "      <td>...</td>\n",
       "      <td>0.025326</td>\n",
       "      <td>0.015622</td>\n",
       "      <td>0.011164</td>\n",
       "      <td>0.019525</td>\n",
       "      <td>0.007747</td>\n",
       "      <td>0.992253</td>\n",
       "      <td>5.308928e-06</td>\n",
       "      <td>1.780367e-06</td>\n",
       "      <td>1.494729e-09</td>\n",
       "      <td>4.0</td>\n",
       "    </tr>\n",
       "    <tr>\n",
       "      <th>5</th>\n",
       "      <td>5</td>\n",
       "      <td>0</td>\n",
       "      <td>0.012129</td>\n",
       "      <td>0.427158</td>\n",
       "      <td>0.009722</td>\n",
       "      <td>0.571750</td>\n",
       "      <td>0.177298</td>\n",
       "      <td>0.111706</td>\n",
       "      <td>0.037496</td>\n",
       "      <td>0.106768</td>\n",
       "      <td>...</td>\n",
       "      <td>0.025326</td>\n",
       "      <td>0.015622</td>\n",
       "      <td>0.011164</td>\n",
       "      <td>0.019525</td>\n",
       "      <td>0.007747</td>\n",
       "      <td>0.992253</td>\n",
       "      <td>4.704257e-01</td>\n",
       "      <td>3.177823e-01</td>\n",
       "      <td>2.365492e-03</td>\n",
       "      <td>40.0</td>\n",
       "    </tr>\n",
       "    <tr>\n",
       "      <th>6</th>\n",
       "      <td>6</td>\n",
       "      <td>0</td>\n",
       "      <td>0.012129</td>\n",
       "      <td>0.427158</td>\n",
       "      <td>0.009722</td>\n",
       "      <td>0.571750</td>\n",
       "      <td>0.177298</td>\n",
       "      <td>0.111706</td>\n",
       "      <td>0.037496</td>\n",
       "      <td>0.106768</td>\n",
       "      <td>...</td>\n",
       "      <td>0.025326</td>\n",
       "      <td>0.015622</td>\n",
       "      <td>0.011164</td>\n",
       "      <td>0.019525</td>\n",
       "      <td>0.007747</td>\n",
       "      <td>0.992253</td>\n",
       "      <td>5.548024e-01</td>\n",
       "      <td>4.775309e-01</td>\n",
       "      <td>1.122028e-02</td>\n",
       "      <td>50.0</td>\n",
       "    </tr>\n",
       "    <tr>\n",
       "      <th>7</th>\n",
       "      <td>0</td>\n",
       "      <td>1</td>\n",
       "      <td>0.011331</td>\n",
       "      <td>0.522915</td>\n",
       "      <td>0.008906</td>\n",
       "      <td>0.673092</td>\n",
       "      <td>0.151185</td>\n",
       "      <td>0.107392</td>\n",
       "      <td>0.037770</td>\n",
       "      <td>0.119198</td>\n",
       "      <td>...</td>\n",
       "      <td>0.028566</td>\n",
       "      <td>0.017226</td>\n",
       "      <td>0.009229</td>\n",
       "      <td>0.016204</td>\n",
       "      <td>0.969952</td>\n",
       "      <td>0.030048</td>\n",
       "      <td>3.666667e-07</td>\n",
       "      <td>3.333333e-08</td>\n",
       "      <td>6.786080e-32</td>\n",
       "      <td>0.0</td>\n",
       "    </tr>\n",
       "    <tr>\n",
       "      <th>8</th>\n",
       "      <td>1</td>\n",
       "      <td>1</td>\n",
       "      <td>0.011331</td>\n",
       "      <td>0.522915</td>\n",
       "      <td>0.008906</td>\n",
       "      <td>0.673092</td>\n",
       "      <td>0.151185</td>\n",
       "      <td>0.107392</td>\n",
       "      <td>0.037770</td>\n",
       "      <td>0.119198</td>\n",
       "      <td>...</td>\n",
       "      <td>0.028566</td>\n",
       "      <td>0.017226</td>\n",
       "      <td>0.009229</td>\n",
       "      <td>0.016204</td>\n",
       "      <td>0.969952</td>\n",
       "      <td>0.030048</td>\n",
       "      <td>1.032201e-06</td>\n",
       "      <td>1.670246e-07</td>\n",
       "      <td>2.261145e-11</td>\n",
       "      <td>1.0</td>\n",
       "    </tr>\n",
       "    <tr>\n",
       "      <th>9</th>\n",
       "      <td>2</td>\n",
       "      <td>1</td>\n",
       "      <td>0.011331</td>\n",
       "      <td>0.522915</td>\n",
       "      <td>0.008906</td>\n",
       "      <td>0.673092</td>\n",
       "      <td>0.151185</td>\n",
       "      <td>0.107392</td>\n",
       "      <td>0.037770</td>\n",
       "      <td>0.119198</td>\n",
       "      <td>...</td>\n",
       "      <td>0.028566</td>\n",
       "      <td>0.017226</td>\n",
       "      <td>0.009229</td>\n",
       "      <td>0.016204</td>\n",
       "      <td>0.969952</td>\n",
       "      <td>0.030048</td>\n",
       "      <td>2.123240e-06</td>\n",
       "      <td>5.057558e-07</td>\n",
       "      <td>1.742668e-10</td>\n",
       "      <td>2.0</td>\n",
       "    </tr>\n",
       "    <tr>\n",
       "      <th>10</th>\n",
       "      <td>3</td>\n",
       "      <td>1</td>\n",
       "      <td>0.011331</td>\n",
       "      <td>0.522915</td>\n",
       "      <td>0.008906</td>\n",
       "      <td>0.673092</td>\n",
       "      <td>0.151185</td>\n",
       "      <td>0.107392</td>\n",
       "      <td>0.037770</td>\n",
       "      <td>0.119198</td>\n",
       "      <td>...</td>\n",
       "      <td>0.028566</td>\n",
       "      <td>0.017226</td>\n",
       "      <td>0.009229</td>\n",
       "      <td>0.016204</td>\n",
       "      <td>0.969952</td>\n",
       "      <td>0.030048</td>\n",
       "      <td>3.856879e-06</td>\n",
       "      <td>1.121161e-06</td>\n",
       "      <td>6.393873e-10</td>\n",
       "      <td>3.0</td>\n",
       "    </tr>\n",
       "    <tr>\n",
       "      <th>11</th>\n",
       "      <td>4</td>\n",
       "      <td>1</td>\n",
       "      <td>0.011331</td>\n",
       "      <td>0.522915</td>\n",
       "      <td>0.008906</td>\n",
       "      <td>0.673092</td>\n",
       "      <td>0.151185</td>\n",
       "      <td>0.107392</td>\n",
       "      <td>0.037770</td>\n",
       "      <td>0.119198</td>\n",
       "      <td>...</td>\n",
       "      <td>0.028566</td>\n",
       "      <td>0.017226</td>\n",
       "      <td>0.009229</td>\n",
       "      <td>0.016204</td>\n",
       "      <td>0.969952</td>\n",
       "      <td>0.030048</td>\n",
       "      <td>6.581004e-06</td>\n",
       "      <td>2.139353e-06</td>\n",
       "      <td>1.710143e-09</td>\n",
       "      <td>4.0</td>\n",
       "    </tr>\n",
       "    <tr>\n",
       "      <th>12</th>\n",
       "      <td>5</td>\n",
       "      <td>1</td>\n",
       "      <td>0.011331</td>\n",
       "      <td>0.522915</td>\n",
       "      <td>0.008906</td>\n",
       "      <td>0.673092</td>\n",
       "      <td>0.151185</td>\n",
       "      <td>0.107392</td>\n",
       "      <td>0.037770</td>\n",
       "      <td>0.119198</td>\n",
       "      <td>...</td>\n",
       "      <td>0.028566</td>\n",
       "      <td>0.017226</td>\n",
       "      <td>0.009229</td>\n",
       "      <td>0.016204</td>\n",
       "      <td>0.969952</td>\n",
       "      <td>0.030048</td>\n",
       "      <td>5.445718e-01</td>\n",
       "      <td>4.283677e-01</td>\n",
       "      <td>5.697283e-03</td>\n",
       "      <td>40.0</td>\n",
       "    </tr>\n",
       "    <tr>\n",
       "      <th>13</th>\n",
       "      <td>6</td>\n",
       "      <td>1</td>\n",
       "      <td>0.011331</td>\n",
       "      <td>0.522915</td>\n",
       "      <td>0.008906</td>\n",
       "      <td>0.673092</td>\n",
       "      <td>0.151185</td>\n",
       "      <td>0.107392</td>\n",
       "      <td>0.037770</td>\n",
       "      <td>0.119198</td>\n",
       "      <td>...</td>\n",
       "      <td>0.028566</td>\n",
       "      <td>0.017226</td>\n",
       "      <td>0.009229</td>\n",
       "      <td>0.016204</td>\n",
       "      <td>0.969952</td>\n",
       "      <td>0.030048</td>\n",
       "      <td>5.036519e-01</td>\n",
       "      <td>4.625969e-01</td>\n",
       "      <td>1.883486e-02</td>\n",
       "      <td>50.0</td>\n",
       "    </tr>\n",
       "  </tbody>\n",
       "</table>\n",
       "<p>14 rows × 40 columns</p>\n",
       "</div>"
      ],
      "text/plain": [
       "    timepoint_id  sample_id  model_0/beta_param  model_0/gamma_param  \\\n",
       "0              0          0            0.012129             0.427158   \n",
       "1              1          0            0.012129             0.427158   \n",
       "2              2          0            0.012129             0.427158   \n",
       "3              3          0            0.012129             0.427158   \n",
       "4              4          0            0.012129             0.427158   \n",
       "5              5          0            0.012129             0.427158   \n",
       "6              6          0            0.012129             0.427158   \n",
       "7              0          1            0.011331             0.522915   \n",
       "8              1          1            0.011331             0.522915   \n",
       "9              2          1            0.011331             0.522915   \n",
       "10             3          1            0.011331             0.522915   \n",
       "11             4          1            0.011331             0.522915   \n",
       "12             5          1            0.011331             0.522915   \n",
       "13             6          1            0.011331             0.522915   \n",
       "\n",
       "    model_0/delta_param  model_0/alpha_param  model_0/epsilon_param  \\\n",
       "0              0.009722             0.571750               0.177298   \n",
       "1              0.009722             0.571750               0.177298   \n",
       "2              0.009722             0.571750               0.177298   \n",
       "3              0.009722             0.571750               0.177298   \n",
       "4              0.009722             0.571750               0.177298   \n",
       "5              0.009722             0.571750               0.177298   \n",
       "6              0.009722             0.571750               0.177298   \n",
       "7              0.008906             0.673092               0.151185   \n",
       "8              0.008906             0.673092               0.151185   \n",
       "9              0.008906             0.673092               0.151185   \n",
       "10             0.008906             0.673092               0.151185   \n",
       "11             0.008906             0.673092               0.151185   \n",
       "12             0.008906             0.673092               0.151185   \n",
       "13             0.008906             0.673092               0.151185   \n",
       "\n",
       "    model_0/zeta_param  model_0/lambda_param  model_0/eta_param  ...  \\\n",
       "0             0.111706              0.037496           0.106768  ...   \n",
       "1             0.111706              0.037496           0.106768  ...   \n",
       "2             0.111706              0.037496           0.106768  ...   \n",
       "3             0.111706              0.037496           0.106768  ...   \n",
       "4             0.111706              0.037496           0.106768  ...   \n",
       "5             0.111706              0.037496           0.106768  ...   \n",
       "6             0.111706              0.037496           0.106768  ...   \n",
       "7             0.107392              0.037770           0.119198  ...   \n",
       "8             0.107392              0.037770           0.119198  ...   \n",
       "9             0.107392              0.037770           0.119198  ...   \n",
       "10            0.107392              0.037770           0.119198  ...   \n",
       "11            0.107392              0.037770           0.119198  ...   \n",
       "12            0.107392              0.037770           0.119198  ...   \n",
       "13            0.107392              0.037770           0.119198  ...   \n",
       "\n",
       "    model_1/nu_param  model_1/xi_param  model_1/tau_param  \\\n",
       "0           0.025326          0.015622           0.011164   \n",
       "1           0.025326          0.015622           0.011164   \n",
       "2           0.025326          0.015622           0.011164   \n",
       "3           0.025326          0.015622           0.011164   \n",
       "4           0.025326          0.015622           0.011164   \n",
       "5           0.025326          0.015622           0.011164   \n",
       "6           0.025326          0.015622           0.011164   \n",
       "7           0.028566          0.017226           0.009229   \n",
       "8           0.028566          0.017226           0.009229   \n",
       "9           0.028566          0.017226           0.009229   \n",
       "10          0.028566          0.017226           0.009229   \n",
       "11          0.028566          0.017226           0.009229   \n",
       "12          0.028566          0.017226           0.009229   \n",
       "13          0.028566          0.017226           0.009229   \n",
       "\n",
       "    model_1/sigma_param  model_0_weight  model_1_weight         S_sol  \\\n",
       "0              0.019525        0.007747        0.992253  3.666667e-07   \n",
       "1              0.019525        0.007747        0.992253  9.598541e-07   \n",
       "2              0.019525        0.007747        0.992253  1.882615e-06   \n",
       "3              0.019525        0.007747        0.992253  3.265895e-06   \n",
       "4              0.019525        0.007747        0.992253  5.308928e-06   \n",
       "5              0.019525        0.007747        0.992253  4.704257e-01   \n",
       "6              0.019525        0.007747        0.992253  5.548024e-01   \n",
       "7              0.016204        0.969952        0.030048  3.666667e-07   \n",
       "8              0.016204        0.969952        0.030048  1.032201e-06   \n",
       "9              0.016204        0.969952        0.030048  2.123240e-06   \n",
       "10             0.016204        0.969952        0.030048  3.856879e-06   \n",
       "11             0.016204        0.969952        0.030048  6.581004e-06   \n",
       "12             0.016204        0.969952        0.030048  5.445718e-01   \n",
       "13             0.016204        0.969952        0.030048  5.036519e-01   \n",
       "\n",
       "           I_sol         D_sol  timepoint_days  \n",
       "0   3.333333e-08  6.324589e-32             0.0  \n",
       "1   1.540768e-07  2.136914e-11             1.0  \n",
       "2   4.510297e-07  1.611468e-10             2.0  \n",
       "3   9.679806e-07  5.753538e-10             3.0  \n",
       "4   1.780367e-06  1.494729e-09             4.0  \n",
       "5   3.177823e-01  2.365492e-03            40.0  \n",
       "6   4.775309e-01  1.122028e-02            50.0  \n",
       "7   3.333333e-08  6.786080e-32             0.0  \n",
       "8   1.670246e-07  2.261145e-11             1.0  \n",
       "9   5.057558e-07  1.742668e-10             2.0  \n",
       "10  1.121161e-06  6.393873e-10             3.0  \n",
       "11  2.139353e-06  1.710143e-09             4.0  \n",
       "12  4.283677e-01  5.697283e-03            40.0  \n",
       "13  4.625969e-01  1.883486e-02            50.0  \n",
       "\n",
       "[14 rows x 40 columns]"
      ]
     },
     "execution_count": 5,
     "metadata": {},
     "output_type": "execute_result"
    }
   ],
   "source": [
    "ensemble_samples"
   ]
  },
  {
   "cell_type": "code",
   "execution_count": 6,
   "metadata": {},
   "outputs": [
    {
     "name": "stdout",
     "output_type": "stream",
     "text": [
      "\n"
     ]
    },
    {
     "data": {
      "application/vnd.vega.v5+json": {
       "$schema": "https://vega.github.io/schema/vega/v5.json",
       "axes": [
        {
         "name": "x_axis",
         "orient": "bottom",
         "scale": "xscale",
         "zindex": 100
        },
        {
         "name": "y_axis",
         "orient": "left",
         "scale": "yscale",
         "zindex": 100
        }
       ],
       "data": [
        {
         "name": "distributions",
         "values": [
          {
           "lower": 4.8557895313567813e-32,
           "timepoint": 0,
           "trajectory": "D_sol",
           "upper": 6.477960538907846e-32
          },
          {
           "lower": 1.9130313218956863e-11,
           "timepoint": 1,
           "trajectory": "D_sol",
           "upper": 2.256880489784341e-11
          },
          {
           "lower": 1.4489368593828545e-10,
           "timepoint": 2,
           "trajectory": "D_sol",
           "upper": 1.7509063088283482e-10
          },
          {
           "lower": 5.094159732932368e-10,
           "timepoint": 3,
           "trajectory": "D_sol",
           "upper": 6.384081402410757e-10
          },
          {
           "lower": 1.2943031757473022e-9,
           "timepoint": 4,
           "trajectory": "D_sol",
           "upper": 1.6808951341928946e-9
          },
          {
           "lower": 0.0005989042139844969,
           "timepoint": 40,
           "trajectory": "D_sol",
           "upper": 0.0021025433059548957
          },
          {
           "lower": 0.004117562354076653,
           "timepoint": 50,
           "trajectory": "D_sol",
           "upper": 0.010703762841876597
          },
          {
           "lower": 3.333333253863202e-8,
           "timepoint": 0,
           "trajectory": "I_sol",
           "upper": 3.333333253863202e-8
          },
          {
           "lower": 1.8487137509737295e-7,
           "timepoint": 1,
           "trajectory": "I_sol",
           "upper": 1.889570668822671e-7
          },
          {
           "lower": 5.530595075242672e-7,
           "timepoint": 2,
           "trajectory": "I_sol",
           "upper": 5.73197510789214e-7
          },
          {
           "lower": 0.0000011582156218992167,
           "timepoint": 3,
           "trajectory": "I_sol",
           "upper": 0.0000012288874870591826
          },
          {
           "lower": 0.0000020483734601839387,
           "timepoint": 4,
           "trajectory": "I_sol",
           "upper": 0.0000022366501184478693
          },
          {
           "lower": 0.14360057264566423,
           "timepoint": 40,
           "trajectory": "I_sol",
           "upper": 0.2958774372935295
          },
          {
           "lower": 0.3872573032975197,
           "timepoint": 50,
           "trajectory": "I_sol",
           "upper": 0.4665175721049309
          },
          {
           "lower": 3.6666665437223855e-7,
           "timepoint": 0,
           "trajectory": "S_sol",
           "upper": 3.6666665437223855e-7
          },
          {
           "lower": 0.0000010422396371723154,
           "timepoint": 1,
           "trajectory": "S_sol",
           "upper": 0.000001080569654732244
          },
          {
           "lower": 0.000002050951525234268,
           "timepoint": 2,
           "trajectory": "S_sol",
           "upper": 0.000002175469444409828
          },
          {
           "lower": 0.000003474537868441985,
           "timepoint": 3,
           "trajectory": "S_sol",
           "upper": 0.0000037852255104553477
          },
          {
           "lower": 0.000005440345171336958,
           "timepoint": 4,
           "trajectory": "S_sol",
           "upper": 0.0000061146917914811635
          },
          {
           "lower": 0.24500514268875123,
           "timepoint": 40,
           "trajectory": "S_sol",
           "upper": 0.4378476023674011
          },
          {
           "lower": 0.5073272556066513,
           "timepoint": 50,
           "trajectory": "S_sol",
           "upper": 0.54455626308918
          }
         ]
        },
        {
         "name": "traces",
         "transform": [
          {
           "expr": "isValid(datum.value)",
           "type": "filter"
          }
         ],
         "values": []
        },
        {
         "name": "points",
         "values": []
        },
        {
         "name": "markers",
         "values": []
        },
        {
         "name": "selected",
         "on": [
          {
           "remove": true,
           "trigger": "clear"
          },
          {
           "remove": true,
           "trigger": "!shift"
          },
          {
           "insert": "clicked",
           "trigger": "!shift && clicked"
          },
          {
           "toggle": "clicked",
           "trigger": "shift && clicked"
          }
         ]
        }
       ],
       "height": 300,
       "legends": [
        {
         "encode": {
          "labels": {
           "interactive": true,
           "name": "legendLabel",
           "update": {
            "opacity": [
             {
              "test": "!length(data('selected')) || indata('selected', 'value', datum.value)",
              "value": 1
             },
             {
              "value": 0.25
             }
            ]
           }
          },
          "symbols": {
           "interactive": true,
           "name": "legendSymbol",
           "update": {
            "fill": {
             "value": "transparent"
            },
            "opacity": [
             {
              "test": "!length(data('selected')) || indata('selected', 'value', datum.value)",
              "value": 0.7
             },
             {
              "value": 0.15
             }
            ],
            "size": {
             "value": 64
            },
            "strokeWidth": {
             "value": 2
            }
           }
          }
         },
         "name": "color_legend",
         "stroke": "color"
        }
       ],
       "marks": [
        {
         "from": {
          "facet": {
           "data": "points",
           "groupby": "trajectory",
           "name": "points_split"
          }
         },
         "marks": [
          {
           "encode": {
            "hover": {
             "fillOpacity": {
              "value": 0.9
             }
            },
            "update": {
             "fill": {
              "field": "trajectory",
              "scale": "color"
             },
             "fillOpacity": [
              {
               "test": "!length(data('selected')) || indata('selected', 'value', datum.trajectory)",
               "value": 0.5
              },
              {
               "value": 0.15
              }
             ],
             "size": {
              "value": 10
             },
             "stroke": {
              "field": "trajectory",
              "scale": "color"
             },
             "strokeOpacity": [
              {
               "test": "!length(data('selected')) || indata('selected', 'value', datum.trajectory)",
               "value": 0.75
              },
              {
               "value": 0.15
              }
             ],
             "strokeWidth": {
              "value": 2
             },
             "tooltip": {
              "field": "value"
             },
             "x": {
              "field": "timepoint",
              "scale": "xscale"
             },
             "y": {
              "field": "value",
              "scale": "yscale"
             }
            }
           },
           "from": {
            "data": "points"
           },
           "name": "_points_symbol",
           "type": "symbol",
           "zindex": 3
          },
          {
           "encode": {
            "hover": {
             "fillOpacity": {
              "value": 0.9
             }
            },
            "update": {
             "interpolate": {
              "value": "linear"
             },
             "stroke": {
              "field": "trajectory",
              "scale": "color"
             },
             "strokeOpacity": [
              {
               "test": "!length(data('selected')) || indata('selected', 'value', datum.trajectory)",
               "value": 0.3
              },
              {
               "value": 0.1
              }
             ],
             "strokeWidth": {
              "value": 2
             },
             "x": {
              "field": "timepoint",
              "scale": "xscale"
             },
             "y": {
              "field": "value",
              "scale": "yscale"
             }
            }
           },
           "from": {
            "data": "points"
           },
           "name": "_points_line",
           "type": "line",
           "zindex": 3
          }
         ],
         "name": "_points",
         "type": "group",
         "zindex": 3
        },
        {
         "from": {
          "facet": {
           "data": "traces",
           "groupby": "trajectory",
           "name": "traces_split"
          }
         },
         "marks": [
          {
           "encode": {
            "hover": {
             "fillOpacity": {
              "value": 0.9
             }
            },
            "update": {
             "interpolate": {
              "value": "linear"
             },
             "stroke": {
              "field": "trajectory",
              "scale": "color"
             },
             "strokeOpacity": [
              {
               "test": "!length(data('selected')) || indata('selected', 'value', datum.trajectory)",
               "value": 0.75
              },
              {
               "value": 0.15
              }
             ],
             "strokeWidth": {
              "value": 2
             },
             "x": {
              "field": "timepoint",
              "scale": "xscale"
             },
             "y": {
              "field": "value",
              "scale": "yscale"
             }
            }
           },
           "from": {
            "data": "traces_split"
           },
           "name": "_traces_lines",
           "type": "line"
          }
         ],
         "name": "_traces",
         "type": "group",
         "zindex": 2
        },
        {
         "from": {
          "facet": {
           "data": "distributions",
           "groupby": "trajectory",
           "name": "trajectory_split"
          }
         },
         "marks": [
          {
           "encode": {
            "hover": {
             "fillOpacity": {
              "value": 0.9
             }
            },
            "update": {
             "fill": {
              "field": "trajectory",
              "scale": "color"
             },
             "fillOpacity": [
              {
               "test": "!length(data('selected')) || indata('selected', 'value', datum.trajectory)",
               "value": 0.5
              },
              {
               "value": 0.15
              }
             ],
             "interpolate": {
              "value": "linear"
             },
             "stroke": {
              "field": "trajectory",
              "scale": "color"
             },
             "strokeOpacity": [
              {
               "test": "!length(data('selected')) || indata('selected', 'value', datum.trajectory)",
               "value": 0.75
              },
              {
               "value": 0.15
              }
             ],
             "strokeWidth": {
              "value": 2
             },
             "x": {
              "field": "timepoint",
              "scale": "xscale"
             },
             "y": {
              "field": "upper",
              "scale": "yscale"
             },
             "y2": {
              "field": "lower",
              "scale": "yscale"
             }
            }
           },
           "from": {
            "data": "trajectory_split"
           },
           "type": "area"
          }
         ],
         "name": "_distributions",
         "type": "group",
         "zindex": 1
        },
        {
         "marks": [
          {
           "encode": {
            "enter": {
             "stroke": {
              "value": "lightgray"
             }
            },
            "update": {
             "opacity": {
              "value": 1
             },
             "x": {
              "field": "timepoint",
              "scale": "xscale"
             },
             "y": {
              "signal": "height"
             },
             "y2": {
              "value": 0
             }
            }
           },
           "from": {
            "data": "markers"
           },
           "name": "_marker text",
           "type": "rule"
          },
          {
           "encode": {
            "enter": {
             "fontSize": {
              "value": 8
             },
             "text": {
              "field": "datum.label"
             },
             "y": {
              "value": 0
             }
            }
           },
           "from": {
            "data": "_marker text"
           },
           "name": "_marker flags",
           "transform": [
            {
             "as": [
              "x",
              "_y",
              "opacity",
              "align",
              "baseline"
             ],
             "lineAnchor": "start",
             "offset": [
              1
             ],
             "size": {
              "signal": "[width, height]"
             },
             "type": "label"
            }
           ],
           "type": "text"
          }
         ],
         "name": "_markers",
         "type": "group"
        }
       ],
       "scales": [
        {
         "domain": {
          "fields": [
           {
            "data": "distributions",
            "field": "timepoint"
           },
           {
            "data": "traces",
            "field": "timepoint"
           },
           {
            "data": "points",
            "field": "timepoint"
           },
           {
            "data": "markers",
            "field": "timepoint"
           }
          ]
         },
         "name": "xscale",
         "range": "width",
         "type": "linear",
         "zero": false
        },
        {
         "domain": {
          "fields": [
           {
            "data": "distributions",
            "field": "lower"
           },
           {
            "data": "distributions",
            "field": "upper"
           },
           {
            "data": "traces",
            "field": "value"
           },
           {
            "data": "points",
            "field": "value"
           }
          ]
         },
         "name": "yscale",
         "nice": true,
         "range": "height",
         "type": "linear",
         "zero": true
        },
        {
         "domain": {
          "fields": [
           {
            "data": "distributions",
            "field": "trajectory"
           },
           {
            "data": "traces",
            "field": "trajectory"
           },
           {
            "data": "points",
            "field": "trajectory"
           }
          ]
         },
         "name": "color",
         "range": "category",
         "type": "ordinal"
        }
       ],
       "signals": [
        {
         "name": "clear",
         "on": [
          {
           "events": "mouseup[!event.item]",
           "force": true,
           "update": "true"
          }
         ],
         "value": true
        },
        {
         "name": "shift",
         "on": [
          {
           "events": "@legendSymbol:click, @legendLabel:click",
           "force": true,
           "update": "event.shiftKey"
          }
         ],
         "value": false
        },
        {
         "name": "clicked",
         "on": [
          {
           "events": "@legendSymbol:click, @legendLabel:click",
           "force": true,
           "update": "{value: datum.value}"
          }
         ],
         "value": null
        }
       ],
       "width": 500
      }
     },
     "metadata": {},
     "output_type": "display_data"
    }
   ],
   "source": [
    "result = load_and_sample_petri_ensemble(\n",
    "    ASKENET_PATHS, weights, solution_mappings, num_samples, timepoints,\n",
    "    time_unit=\"days\", visual_options={\"subset\":\".*_sol\"}\n",
    ")\n",
    "\n",
    "plots.ipy_display(result[\"visual\"])"
   ]
  },
  {
   "cell_type": "code",
   "execution_count": 7,
   "metadata": {},
   "outputs": [
    {
     "name": "stdout",
     "output_type": "stream",
     "text": [
      "\n"
     ]
    },
    {
     "data": {
      "application/vnd.vega.v5+json": {
       "$schema": "https://vega.github.io/schema/vega/v5.json",
       "axes": [
        {
         "name": "x_axis",
         "orient": "bottom",
         "scale": "xscale",
         "zindex": 100
        },
        {
         "name": "y_axis",
         "orient": "left",
         "scale": "yscale",
         "zindex": 100
        }
       ],
       "data": [
        {
         "name": "distributions",
         "values": [
          {
           "lower": 5.330953661849524e-32,
           "timepoint": 0,
           "trajectory": "D_sol",
           "upper": 5.353463026849266e-32
          },
          {
           "lower": 1.956450999471282e-11,
           "timepoint": 1,
           "trajectory": "D_sol",
           "upper": 2.1399827829921003e-11
          },
          {
           "lower": 1.4925470998017333e-10,
           "timepoint": 2,
           "trajectory": "D_sol",
           "upper": 1.6493674065420904e-10
          },
          {
           "lower": 5.3090921936505e-10,
           "timepoint": 3,
           "trajectory": "D_sol",
           "upper": 5.901141103548113e-10
          },
          {
           "lower": 1.3613602967144089e-9,
           "timepoint": 4,
           "trajectory": "D_sol",
           "upper": 1.525026277482411e-9
          },
          {
           "lower": 0.00039012673951219765,
           "timepoint": 40,
           "trajectory": "D_sol",
           "upper": 0.0013644301012391224
          },
          {
           "lower": 0.0031492245849221944,
           "timepoint": 50,
           "trajectory": "D_sol",
           "upper": 0.007656394364312291
          },
          {
           "lower": 3.333333253863202e-8,
           "timepoint": 0,
           "trajectory": "I_sol",
           "upper": 3.333333253863202e-8
          },
          {
           "lower": 1.9051727306873545e-7,
           "timepoint": 1,
           "trajectory": "I_sol",
           "upper": 2.000779453226187e-7
          },
          {
           "lower": 5.628811351243712e-7,
           "timepoint": 2,
           "trajectory": "I_sol",
           "upper": 6.069072554737431e-7
          },
          {
           "lower": 0.0000011698652656377816,
           "timepoint": 3,
           "trajectory": "I_sol",
           "upper": 0.0000012889322874798382
          },
          {
           "lower": 0.0000020538409444270656,
           "timepoint": 4,
           "trajectory": "I_sol",
           "upper": 0.000002318771294085309
          },
          {
           "lower": 0.09267476126551628,
           "timepoint": 40,
           "trajectory": "I_sol",
           "upper": 0.2618215538561344
          },
          {
           "lower": 0.32508701384067534,
           "timepoint": 50,
           "trajectory": "I_sol",
           "upper": 0.4601137608289719
          },
          {
           "lower": 3.6666665437223855e-7,
           "timepoint": 0,
           "trajectory": "S_sol",
           "upper": 3.6666665437223855e-7
          },
          {
           "lower": 0.000001074478865348283,
           "timepoint": 1,
           "trajectory": "S_sol",
           "upper": 0.000001145148070236246
          },
          {
           "lower": 0.000002160774556614342,
           "timepoint": 2,
           "trajectory": "S_sol",
           "upper": 0.000002231525513707311
          },
          {
           "lower": 0.000003706456641339173,
           "timepoint": 3,
           "trajectory": "S_sol",
           "upper": 0.000003741861587513995
          },
          {
           "lower": 0.00000568667639981868,
           "timepoint": 4,
           "trajectory": "S_sol",
           "upper": 0.000005998760275360837
          },
          {
           "lower": 0.1642622508108616,
           "timepoint": 40,
           "trajectory": "S_sol",
           "upper": 0.3930766873061657
          },
          {
           "lower": 0.43614292740821836,
           "timepoint": 50,
           "trajectory": "S_sol",
           "upper": 0.5403865516185761
          }
         ]
        },
        {
         "name": "traces",
         "transform": [
          {
           "expr": "isValid(datum.value)",
           "type": "filter"
          }
         ],
         "values": []
        },
        {
         "name": "points",
         "values": []
        },
        {
         "name": "markers",
         "values": []
        },
        {
         "name": "selected",
         "on": [
          {
           "remove": true,
           "trigger": "clear"
          },
          {
           "remove": true,
           "trigger": "!shift"
          },
          {
           "insert": "clicked",
           "trigger": "!shift && clicked"
          },
          {
           "toggle": "clicked",
           "trigger": "shift && clicked"
          }
         ]
        }
       ],
       "height": 300,
       "legends": [
        {
         "encode": {
          "labels": {
           "interactive": true,
           "name": "legendLabel",
           "update": {
            "opacity": [
             {
              "test": "!length(data('selected')) || indata('selected', 'value', datum.value)",
              "value": 1
             },
             {
              "value": 0.25
             }
            ]
           }
          },
          "symbols": {
           "interactive": true,
           "name": "legendSymbol",
           "update": {
            "fill": {
             "value": "transparent"
            },
            "opacity": [
             {
              "test": "!length(data('selected')) || indata('selected', 'value', datum.value)",
              "value": 0.7
             },
             {
              "value": 0.15
             }
            ],
            "size": {
             "value": 64
            },
            "strokeWidth": {
             "value": 2
            }
           }
          }
         },
         "name": "color_legend",
         "stroke": "color"
        }
       ],
       "marks": [
        {
         "from": {
          "facet": {
           "data": "points",
           "groupby": "trajectory",
           "name": "points_split"
          }
         },
         "marks": [
          {
           "encode": {
            "hover": {
             "fillOpacity": {
              "value": 0.9
             }
            },
            "update": {
             "fill": {
              "field": "trajectory",
              "scale": "color"
             },
             "fillOpacity": [
              {
               "test": "!length(data('selected')) || indata('selected', 'value', datum.trajectory)",
               "value": 0.5
              },
              {
               "value": 0.15
              }
             ],
             "size": {
              "value": 10
             },
             "stroke": {
              "field": "trajectory",
              "scale": "color"
             },
             "strokeOpacity": [
              {
               "test": "!length(data('selected')) || indata('selected', 'value', datum.trajectory)",
               "value": 0.75
              },
              {
               "value": 0.15
              }
             ],
             "strokeWidth": {
              "value": 2
             },
             "tooltip": {
              "field": "value"
             },
             "x": {
              "field": "timepoint",
              "scale": "xscale"
             },
             "y": {
              "field": "value",
              "scale": "yscale"
             }
            }
           },
           "from": {
            "data": "points"
           },
           "name": "_points_symbol",
           "type": "symbol",
           "zindex": 3
          },
          {
           "encode": {
            "hover": {
             "fillOpacity": {
              "value": 0.9
             }
            },
            "update": {
             "interpolate": {
              "value": "linear"
             },
             "stroke": {
              "field": "trajectory",
              "scale": "color"
             },
             "strokeOpacity": [
              {
               "test": "!length(data('selected')) || indata('selected', 'value', datum.trajectory)",
               "value": 0.3
              },
              {
               "value": 0.1
              }
             ],
             "strokeWidth": {
              "value": 2
             },
             "x": {
              "field": "timepoint",
              "scale": "xscale"
             },
             "y": {
              "field": "value",
              "scale": "yscale"
             }
            }
           },
           "from": {
            "data": "points"
           },
           "name": "_points_line",
           "type": "line",
           "zindex": 3
          }
         ],
         "name": "_points",
         "type": "group",
         "zindex": 3
        },
        {
         "from": {
          "facet": {
           "data": "traces",
           "groupby": "trajectory",
           "name": "traces_split"
          }
         },
         "marks": [
          {
           "encode": {
            "hover": {
             "fillOpacity": {
              "value": 0.9
             }
            },
            "update": {
             "interpolate": {
              "value": "linear"
             },
             "stroke": {
              "field": "trajectory",
              "scale": "color"
             },
             "strokeOpacity": [
              {
               "test": "!length(data('selected')) || indata('selected', 'value', datum.trajectory)",
               "value": 0.75
              },
              {
               "value": 0.15
              }
             ],
             "strokeWidth": {
              "value": 2
             },
             "x": {
              "field": "timepoint",
              "scale": "xscale"
             },
             "y": {
              "field": "value",
              "scale": "yscale"
             }
            }
           },
           "from": {
            "data": "traces_split"
           },
           "name": "_traces_lines",
           "type": "line"
          }
         ],
         "name": "_traces",
         "type": "group",
         "zindex": 2
        },
        {
         "from": {
          "facet": {
           "data": "distributions",
           "groupby": "trajectory",
           "name": "trajectory_split"
          }
         },
         "marks": [
          {
           "encode": {
            "hover": {
             "fillOpacity": {
              "value": 0.9
             }
            },
            "update": {
             "fill": {
              "field": "trajectory",
              "scale": "color"
             },
             "fillOpacity": [
              {
               "test": "!length(data('selected')) || indata('selected', 'value', datum.trajectory)",
               "value": 0.5
              },
              {
               "value": 0.15
              }
             ],
             "interpolate": {
              "value": "linear"
             },
             "stroke": {
              "field": "trajectory",
              "scale": "color"
             },
             "strokeOpacity": [
              {
               "test": "!length(data('selected')) || indata('selected', 'value', datum.trajectory)",
               "value": 0.75
              },
              {
               "value": 0.15
              }
             ],
             "strokeWidth": {
              "value": 2
             },
             "x": {
              "field": "timepoint",
              "scale": "xscale"
             },
             "y": {
              "field": "upper",
              "scale": "yscale"
             },
             "y2": {
              "field": "lower",
              "scale": "yscale"
             }
            }
           },
           "from": {
            "data": "trajectory_split"
           },
           "type": "area"
          }
         ],
         "name": "_distributions",
         "type": "group",
         "zindex": 1
        },
        {
         "marks": [
          {
           "encode": {
            "enter": {
             "stroke": {
              "value": "lightgray"
             }
            },
            "update": {
             "opacity": {
              "value": 1
             },
             "x": {
              "field": "timepoint",
              "scale": "xscale"
             },
             "y": {
              "signal": "height"
             },
             "y2": {
              "value": 0
             }
            }
           },
           "from": {
            "data": "markers"
           },
           "name": "_marker text",
           "type": "rule"
          },
          {
           "encode": {
            "enter": {
             "fontSize": {
              "value": 8
             },
             "text": {
              "field": "datum.label"
             },
             "y": {
              "value": 0
             }
            }
           },
           "from": {
            "data": "_marker text"
           },
           "name": "_marker flags",
           "transform": [
            {
             "as": [
              "x",
              "_y",
              "opacity",
              "align",
              "baseline"
             ],
             "lineAnchor": "start",
             "offset": [
              1
             ],
             "size": {
              "signal": "[width, height]"
             },
             "type": "label"
            }
           ],
           "type": "text"
          }
         ],
         "name": "_markers",
         "type": "group"
        }
       ],
       "scales": [
        {
         "domain": {
          "fields": [
           {
            "data": "distributions",
            "field": "timepoint"
           },
           {
            "data": "traces",
            "field": "timepoint"
           },
           {
            "data": "points",
            "field": "timepoint"
           },
           {
            "data": "markers",
            "field": "timepoint"
           }
          ]
         },
         "name": "xscale",
         "range": "width",
         "type": "linear",
         "zero": false
        },
        {
         "domain": {
          "fields": [
           {
            "data": "distributions",
            "field": "lower"
           },
           {
            "data": "distributions",
            "field": "upper"
           },
           {
            "data": "traces",
            "field": "value"
           },
           {
            "data": "points",
            "field": "value"
           }
          ]
         },
         "name": "yscale",
         "nice": true,
         "range": "height",
         "type": "linear",
         "zero": true
        },
        {
         "domain": {
          "fields": [
           {
            "data": "distributions",
            "field": "trajectory"
           },
           {
            "data": "traces",
            "field": "trajectory"
           },
           {
            "data": "points",
            "field": "trajectory"
           }
          ]
         },
         "name": "color",
         "range": "category",
         "type": "ordinal"
        }
       ],
       "signals": [
        {
         "name": "clear",
         "on": [
          {
           "events": "mouseup[!event.item]",
           "force": true,
           "update": "true"
          }
         ],
         "value": true
        },
        {
         "name": "shift",
         "on": [
          {
           "events": "@legendSymbol:click, @legendLabel:click",
           "force": true,
           "update": "event.shiftKey"
          }
         ],
         "value": false
        },
        {
         "name": "clicked",
         "on": [
          {
           "events": "@legendSymbol:click, @legendLabel:click",
           "force": true,
           "update": "{value: datum.value}"
          }
         ],
         "value": null
        }
       ],
       "width": 500
      }
     },
     "metadata": {},
     "output_type": "display_data"
    }
   ],
   "source": [
    "result = load_and_sample_petri_ensemble(\n",
    "    ASKENET_PATHS, weights, solution_mappings, num_samples, timepoints,\n",
    "    time_unit=\"days\", visual_options={\"subset\":\".*_sol\"}\n",
    ")\n",
    "\n",
    "plots.ipy_display(result[\"visual\"])"
   ]
  },
  {
   "attachments": {},
   "cell_type": "markdown",
   "metadata": {},
   "source": [
    "## load_and_calibrate_and_sample_ensemble_model"
   ]
  },
  {
   "cell_type": "code",
   "execution_count": 8,
   "metadata": {},
   "outputs": [
    {
     "name": "stdout",
     "output_type": "stream",
     "text": [
      "iteration 0: loss = 88.95849859714508\n",
      "iteration 25: loss = 60.6032851934433\n",
      "iteration 50: loss = 39.23359388113022\n",
      "iteration 75: loss = 25.380016148090363\n",
      "iteration 100: loss = 17.3934445977211\n",
      "iteration 125: loss = 19.12727040052414\n",
      "iteration 150: loss = 11.075169920921326\n",
      "iteration 175: loss = 5.466326415538788\n",
      "iteration 200: loss = 15.445661842823029\n",
      "iteration 225: loss = 3.8957112431526184\n",
      "iteration 250: loss = 7.482335865497589\n",
      "iteration 275: loss = 3.592634856700897\n",
      "iteration 300: loss = 6.30310183763504\n"
     ]
    },
    {
     "ename": "KeyboardInterrupt",
     "evalue": "",
     "output_type": "error",
     "traceback": [
      "\u001b[0;31m---------------------------------------------------------------------------\u001b[0m",
      "\u001b[0;31mKeyboardInterrupt\u001b[0m                         Traceback (most recent call last)",
      "Cell \u001b[0;32mIn[8], line 6\u001b[0m\n\u001b[1;32m      3\u001b[0m timepoints \u001b[39m=\u001b[39m [\u001b[39m0.0\u001b[39m, \u001b[39m1.0\u001b[39m, \u001b[39m2.0\u001b[39m, \u001b[39m3.0\u001b[39m, \u001b[39m4.0\u001b[39m]\n\u001b[1;32m      5\u001b[0m \u001b[39m# Run the calibration and sampling\u001b[39;00m\n\u001b[0;32m----> 6\u001b[0m result \u001b[39m=\u001b[39m load_and_calibrate_and_sample_ensemble_model(\n\u001b[1;32m      7\u001b[0m     ASKENET_PATHS,\n\u001b[1;32m      8\u001b[0m     data_path,\n\u001b[1;32m      9\u001b[0m     weights,\n\u001b[1;32m     10\u001b[0m     solution_mappings,\n\u001b[1;32m     11\u001b[0m     num_samples,\n\u001b[1;32m     12\u001b[0m     timepoints,\n\u001b[1;32m     13\u001b[0m     verbose\u001b[39m=\u001b[39;49m\u001b[39mTrue\u001b[39;49;00m,\n\u001b[1;32m     14\u001b[0m     total_population\u001b[39m=\u001b[39;49m\u001b[39m1000\u001b[39;49m,\n\u001b[1;32m     15\u001b[0m     num_iterations\u001b[39m=\u001b[39;49m\u001b[39m350\u001b[39;49m,\n\u001b[1;32m     16\u001b[0m     time_unit\u001b[39m=\u001b[39;49m\u001b[39m\"\u001b[39;49m\u001b[39mdays\u001b[39;49m\u001b[39m\"\u001b[39;49m,\n\u001b[1;32m     17\u001b[0m     visual_options\u001b[39m=\u001b[39;49m{\u001b[39m\"\u001b[39;49m\u001b[39mtitle\u001b[39;49m\u001b[39m\"\u001b[39;49m: \u001b[39m\"\u001b[39;49m\u001b[39mCalibrated Ensemble\u001b[39;49m\u001b[39m\"\u001b[39;49m, \u001b[39m\"\u001b[39;49m\u001b[39msubset\u001b[39;49m\u001b[39m\"\u001b[39;49m:\u001b[39m\"\u001b[39;49m\u001b[39m.*_sol\u001b[39;49m\u001b[39m\"\u001b[39;49m}\n\u001b[1;32m     18\u001b[0m )\n\u001b[1;32m     20\u001b[0m \u001b[39m# Save results\u001b[39;00m\n\u001b[1;32m     21\u001b[0m result[\u001b[39m\"\u001b[39m\u001b[39mdata\u001b[39m\u001b[39m\"\u001b[39m]\u001b[39m.\u001b[39mto_csv(\n\u001b[1;32m     22\u001b[0m     os\u001b[39m.\u001b[39mpath\u001b[39m.\u001b[39mjoin(DEMO_PATH, \u001b[39m\"\u001b[39m\u001b[39mresults_petri_ensemble/calibrated_sample_results.csv\u001b[39m\u001b[39m\"\u001b[39m), index\u001b[39m=\u001b[39m\u001b[39mFalse\u001b[39;00m\n\u001b[1;32m     23\u001b[0m )\n",
      "File \u001b[0;32m~/Desktop/Research/pyciemss/src/pyciemss/Ensemble/interfaces.py:320\u001b[0m, in \u001b[0;36mload_and_calibrate_and_sample_ensemble_model\u001b[0;34m(petri_model_or_paths, data_path, weights, solution_mappings, num_samples, timepoints, start_states, total_population, noise_model, noise_scale, dirichlet_concentration, start_time, num_iterations, lr, verbose, verbose_every, num_particles, autoguide, compile_rate_law_p, method, time_unit, visual_options, alpha_qs, stacking_order)\u001b[0m\n\u001b[1;32m    306\u001b[0m     solution_mapping_fs\u001b[39m.\u001b[39mappend(solution_mapping_f)\n\u001b[1;32m    308\u001b[0m models \u001b[39m=\u001b[39m setup_model(\n\u001b[1;32m    309\u001b[0m     models,\n\u001b[1;32m    310\u001b[0m     weights,\n\u001b[0;32m   (...)\u001b[0m\n\u001b[1;32m    317\u001b[0m     dirichlet_concentration\u001b[39m=\u001b[39mdirichlet_concentration,\n\u001b[1;32m    318\u001b[0m )\n\u001b[0;32m--> 320\u001b[0m inferred_parameters \u001b[39m=\u001b[39m calibrate(\n\u001b[1;32m    321\u001b[0m     models,\n\u001b[1;32m    322\u001b[0m     data,\n\u001b[1;32m    323\u001b[0m     num_iterations,\n\u001b[1;32m    324\u001b[0m     lr,\n\u001b[1;32m    325\u001b[0m     verbose,\n\u001b[1;32m    326\u001b[0m     verbose_every,\n\u001b[1;32m    327\u001b[0m     num_particles,\n\u001b[1;32m    328\u001b[0m     autoguide,\n\u001b[1;32m    329\u001b[0m     method\u001b[39m=\u001b[39;49mmethod,\n\u001b[1;32m    330\u001b[0m )\n\u001b[1;32m    332\u001b[0m samples \u001b[39m=\u001b[39m sample(\n\u001b[1;32m    333\u001b[0m     models,\n\u001b[1;32m    334\u001b[0m     timepoints,\n\u001b[0;32m   (...)\u001b[0m\n\u001b[1;32m    337\u001b[0m     method\u001b[39m=\u001b[39mmethod,\n\u001b[1;32m    338\u001b[0m )\n\u001b[1;32m    340\u001b[0m processed_samples, q_ensemble \u001b[39m=\u001b[39m convert_to_output_format(\n\u001b[1;32m    341\u001b[0m     samples, timepoints, time_unit\u001b[39m=\u001b[39mtime_unit,\n\u001b[1;32m    342\u001b[0m     ensemble_quantiles\u001b[39m=\u001b[39m\u001b[39mTrue\u001b[39;00m, alpha_qs\u001b[39m=\u001b[39malpha_qs, stacking_order\u001b[39m=\u001b[39mstacking_order\n\u001b[1;32m    343\u001b[0m )\n",
      "File \u001b[0;32m~/opt/anaconda3/envs/pyciemss-deriv/lib/python3.10/functools.py:889\u001b[0m, in \u001b[0;36msingledispatch.<locals>.wrapper\u001b[0;34m(*args, **kw)\u001b[0m\n\u001b[1;32m    885\u001b[0m \u001b[39mif\u001b[39;00m \u001b[39mnot\u001b[39;00m args:\n\u001b[1;32m    886\u001b[0m     \u001b[39mraise\u001b[39;00m \u001b[39mTypeError\u001b[39;00m(\u001b[39mf\u001b[39m\u001b[39m'\u001b[39m\u001b[39m{\u001b[39;00mfuncname\u001b[39m}\u001b[39;00m\u001b[39m requires at least \u001b[39m\u001b[39m'\u001b[39m\n\u001b[1;32m    887\u001b[0m                     \u001b[39m'\u001b[39m\u001b[39m1 positional argument\u001b[39m\u001b[39m'\u001b[39m)\n\u001b[0;32m--> 889\u001b[0m \u001b[39mreturn\u001b[39;00m dispatch(args[\u001b[39m0\u001b[39;49m]\u001b[39m.\u001b[39;49m\u001b[39m__class__\u001b[39;49m)(\u001b[39m*\u001b[39;49margs, \u001b[39m*\u001b[39;49m\u001b[39m*\u001b[39;49mkw)\n",
      "File \u001b[0;32m~/Desktop/Research/pyciemss/src/pyciemss/Ensemble/interfaces.py:471\u001b[0m, in \u001b[0;36mcalibrate_ensemble_model\u001b[0;34m(ensemble, data, num_iterations, lr, verbose, verbose_every, num_particles, autoguide, method)\u001b[0m\n\u001b[1;32m    468\u001b[0m pyro\u001b[39m.\u001b[39mclear_param_store()\n\u001b[1;32m    470\u001b[0m \u001b[39mfor\u001b[39;00m i \u001b[39min\u001b[39;00m \u001b[39mrange\u001b[39m(num_iterations):\n\u001b[0;32m--> 471\u001b[0m     loss \u001b[39m=\u001b[39m svi\u001b[39m.\u001b[39;49mstep(method\u001b[39m=\u001b[39;49mmethod)\n\u001b[1;32m    472\u001b[0m     \u001b[39mif\u001b[39;00m verbose:\n\u001b[1;32m    473\u001b[0m         \u001b[39mif\u001b[39;00m i \u001b[39m%\u001b[39m verbose_every \u001b[39m==\u001b[39m \u001b[39m0\u001b[39m:\n",
      "File \u001b[0;32m~/opt/anaconda3/envs/pyciemss-deriv/lib/python3.10/site-packages/pyro/infer/svi.py:145\u001b[0m, in \u001b[0;36mSVI.step\u001b[0;34m(self, *args, **kwargs)\u001b[0m\n\u001b[1;32m    143\u001b[0m \u001b[39m# get loss and compute gradients\u001b[39;00m\n\u001b[1;32m    144\u001b[0m \u001b[39mwith\u001b[39;00m poutine\u001b[39m.\u001b[39mtrace(param_only\u001b[39m=\u001b[39m\u001b[39mTrue\u001b[39;00m) \u001b[39mas\u001b[39;00m param_capture:\n\u001b[0;32m--> 145\u001b[0m     loss \u001b[39m=\u001b[39m \u001b[39mself\u001b[39;49m\u001b[39m.\u001b[39;49mloss_and_grads(\u001b[39mself\u001b[39;49m\u001b[39m.\u001b[39;49mmodel, \u001b[39mself\u001b[39;49m\u001b[39m.\u001b[39;49mguide, \u001b[39m*\u001b[39;49margs, \u001b[39m*\u001b[39;49m\u001b[39m*\u001b[39;49mkwargs)\n\u001b[1;32m    147\u001b[0m params \u001b[39m=\u001b[39m \u001b[39mset\u001b[39m(\n\u001b[1;32m    148\u001b[0m     site[\u001b[39m\"\u001b[39m\u001b[39mvalue\u001b[39m\u001b[39m\"\u001b[39m]\u001b[39m.\u001b[39munconstrained() \u001b[39mfor\u001b[39;00m site \u001b[39min\u001b[39;00m param_capture\u001b[39m.\u001b[39mtrace\u001b[39m.\u001b[39mnodes\u001b[39m.\u001b[39mvalues()\n\u001b[1;32m    149\u001b[0m )\n\u001b[1;32m    151\u001b[0m \u001b[39m# actually perform gradient steps\u001b[39;00m\n\u001b[1;32m    152\u001b[0m \u001b[39m# torch.optim objects gets instantiated for any params that haven't been seen yet\u001b[39;00m\n",
      "File \u001b[0;32m~/opt/anaconda3/envs/pyciemss-deriv/lib/python3.10/site-packages/pyro/infer/trace_elbo.py:140\u001b[0m, in \u001b[0;36mTrace_ELBO.loss_and_grads\u001b[0;34m(self, model, guide, *args, **kwargs)\u001b[0m\n\u001b[1;32m    138\u001b[0m loss \u001b[39m=\u001b[39m \u001b[39m0.0\u001b[39m\n\u001b[1;32m    139\u001b[0m \u001b[39m# grab a trace from the generator\u001b[39;00m\n\u001b[0;32m--> 140\u001b[0m \u001b[39mfor\u001b[39;00m model_trace, guide_trace \u001b[39min\u001b[39;00m \u001b[39mself\u001b[39m\u001b[39m.\u001b[39m_get_traces(model, guide, args, kwargs):\n\u001b[1;32m    141\u001b[0m     loss_particle, surrogate_loss_particle \u001b[39m=\u001b[39m \u001b[39mself\u001b[39m\u001b[39m.\u001b[39m_differentiable_loss_particle(\n\u001b[1;32m    142\u001b[0m         model_trace, guide_trace\n\u001b[1;32m    143\u001b[0m     )\n\u001b[1;32m    144\u001b[0m     loss \u001b[39m+\u001b[39m\u001b[39m=\u001b[39m loss_particle \u001b[39m/\u001b[39m \u001b[39mself\u001b[39m\u001b[39m.\u001b[39mnum_particles\n",
      "File \u001b[0;32m~/opt/anaconda3/envs/pyciemss-deriv/lib/python3.10/site-packages/pyro/infer/elbo.py:237\u001b[0m, in \u001b[0;36mELBO._get_traces\u001b[0;34m(self, model, guide, args, kwargs)\u001b[0m\n\u001b[1;32m    235\u001b[0m \u001b[39melse\u001b[39;00m:\n\u001b[1;32m    236\u001b[0m     \u001b[39mfor\u001b[39;00m i \u001b[39min\u001b[39;00m \u001b[39mrange\u001b[39m(\u001b[39mself\u001b[39m\u001b[39m.\u001b[39mnum_particles):\n\u001b[0;32m--> 237\u001b[0m         \u001b[39myield\u001b[39;00m \u001b[39mself\u001b[39;49m\u001b[39m.\u001b[39;49m_get_trace(model, guide, args, kwargs)\n",
      "File \u001b[0;32m~/opt/anaconda3/envs/pyciemss-deriv/lib/python3.10/site-packages/pyro/infer/trace_elbo.py:57\u001b[0m, in \u001b[0;36mTrace_ELBO._get_trace\u001b[0;34m(self, model, guide, args, kwargs)\u001b[0m\n\u001b[1;32m     52\u001b[0m \u001b[39mdef\u001b[39;00m \u001b[39m_get_trace\u001b[39m(\u001b[39mself\u001b[39m, model, guide, args, kwargs):\n\u001b[1;32m     53\u001b[0m \u001b[39m    \u001b[39m\u001b[39m\"\"\"\u001b[39;00m\n\u001b[1;32m     54\u001b[0m \u001b[39m    Returns a single trace from the guide, and the model that is run\u001b[39;00m\n\u001b[1;32m     55\u001b[0m \u001b[39m    against it.\u001b[39;00m\n\u001b[1;32m     56\u001b[0m \u001b[39m    \"\"\"\u001b[39;00m\n\u001b[0;32m---> 57\u001b[0m     model_trace, guide_trace \u001b[39m=\u001b[39m get_importance_trace(\n\u001b[1;32m     58\u001b[0m         \u001b[39m\"\u001b[39;49m\u001b[39mflat\u001b[39;49m\u001b[39m\"\u001b[39;49m, \u001b[39mself\u001b[39;49m\u001b[39m.\u001b[39;49mmax_plate_nesting, model, guide, args, kwargs\n\u001b[1;32m     59\u001b[0m     )\n\u001b[1;32m     60\u001b[0m     \u001b[39mif\u001b[39;00m is_validation_enabled():\n\u001b[1;32m     61\u001b[0m         check_if_enumerated(guide_trace)\n",
      "File \u001b[0;32m~/opt/anaconda3/envs/pyciemss-deriv/lib/python3.10/site-packages/pyro/infer/enum.py:65\u001b[0m, in \u001b[0;36mget_importance_trace\u001b[0;34m(graph_type, max_plate_nesting, model, guide, args, kwargs, detach)\u001b[0m\n\u001b[1;32m     63\u001b[0m     \u001b[39mif\u001b[39;00m detach:\n\u001b[1;32m     64\u001b[0m         guide_trace\u001b[39m.\u001b[39mdetach_()\n\u001b[0;32m---> 65\u001b[0m     model_trace \u001b[39m=\u001b[39m poutine\u001b[39m.\u001b[39;49mtrace(\n\u001b[1;32m     66\u001b[0m         poutine\u001b[39m.\u001b[39;49mreplay(model, trace\u001b[39m=\u001b[39;49mguide_trace), graph_type\u001b[39m=\u001b[39;49mgraph_type\n\u001b[1;32m     67\u001b[0m     )\u001b[39m.\u001b[39;49mget_trace(\u001b[39m*\u001b[39;49margs, \u001b[39m*\u001b[39;49m\u001b[39m*\u001b[39;49mkwargs)\n\u001b[1;32m     69\u001b[0m \u001b[39mif\u001b[39;00m is_validation_enabled():\n\u001b[1;32m     70\u001b[0m     check_model_guide_match(model_trace, guide_trace, max_plate_nesting)\n",
      "File \u001b[0;32m~/opt/anaconda3/envs/pyciemss-deriv/lib/python3.10/site-packages/pyro/poutine/trace_messenger.py:198\u001b[0m, in \u001b[0;36mTraceHandler.get_trace\u001b[0;34m(self, *args, **kwargs)\u001b[0m\n\u001b[1;32m    190\u001b[0m \u001b[39mdef\u001b[39;00m \u001b[39mget_trace\u001b[39m(\u001b[39mself\u001b[39m, \u001b[39m*\u001b[39margs, \u001b[39m*\u001b[39m\u001b[39m*\u001b[39mkwargs):\n\u001b[1;32m    191\u001b[0m \u001b[39m    \u001b[39m\u001b[39m\"\"\"\u001b[39;00m\n\u001b[1;32m    192\u001b[0m \u001b[39m    :returns: data structure\u001b[39;00m\n\u001b[1;32m    193\u001b[0m \u001b[39m    :rtype: pyro.poutine.Trace\u001b[39;00m\n\u001b[0;32m   (...)\u001b[0m\n\u001b[1;32m    196\u001b[0m \u001b[39m    Calls this poutine and returns its trace instead of the function's return value.\u001b[39;00m\n\u001b[1;32m    197\u001b[0m \u001b[39m    \"\"\"\u001b[39;00m\n\u001b[0;32m--> 198\u001b[0m     \u001b[39mself\u001b[39;49m(\u001b[39m*\u001b[39;49margs, \u001b[39m*\u001b[39;49m\u001b[39m*\u001b[39;49mkwargs)\n\u001b[1;32m    199\u001b[0m     \u001b[39mreturn\u001b[39;00m \u001b[39mself\u001b[39m\u001b[39m.\u001b[39mmsngr\u001b[39m.\u001b[39mget_trace()\n",
      "File \u001b[0;32m~/opt/anaconda3/envs/pyciemss-deriv/lib/python3.10/site-packages/pyro/poutine/trace_messenger.py:174\u001b[0m, in \u001b[0;36mTraceHandler.__call__\u001b[0;34m(self, *args, **kwargs)\u001b[0m\n\u001b[1;32m    170\u001b[0m \u001b[39mself\u001b[39m\u001b[39m.\u001b[39mmsngr\u001b[39m.\u001b[39mtrace\u001b[39m.\u001b[39madd_node(\n\u001b[1;32m    171\u001b[0m     \u001b[39m\"\u001b[39m\u001b[39m_INPUT\u001b[39m\u001b[39m\"\u001b[39m, name\u001b[39m=\u001b[39m\u001b[39m\"\u001b[39m\u001b[39m_INPUT\u001b[39m\u001b[39m\"\u001b[39m, \u001b[39mtype\u001b[39m\u001b[39m=\u001b[39m\u001b[39m\"\u001b[39m\u001b[39margs\u001b[39m\u001b[39m\"\u001b[39m, args\u001b[39m=\u001b[39margs, kwargs\u001b[39m=\u001b[39mkwargs\n\u001b[1;32m    172\u001b[0m )\n\u001b[1;32m    173\u001b[0m \u001b[39mtry\u001b[39;00m:\n\u001b[0;32m--> 174\u001b[0m     ret \u001b[39m=\u001b[39m \u001b[39mself\u001b[39;49m\u001b[39m.\u001b[39;49mfn(\u001b[39m*\u001b[39;49margs, \u001b[39m*\u001b[39;49m\u001b[39m*\u001b[39;49mkwargs)\n\u001b[1;32m    175\u001b[0m \u001b[39mexcept\u001b[39;00m (\u001b[39mValueError\u001b[39;00m, \u001b[39mRuntimeError\u001b[39;00m) \u001b[39mas\u001b[39;00m e:\n\u001b[1;32m    176\u001b[0m     exc_type, exc_value, traceback \u001b[39m=\u001b[39m sys\u001b[39m.\u001b[39mexc_info()\n",
      "File \u001b[0;32m~/opt/anaconda3/envs/pyciemss-deriv/lib/python3.10/site-packages/pyro/poutine/messenger.py:12\u001b[0m, in \u001b[0;36m_context_wrap\u001b[0;34m(context, fn, *args, **kwargs)\u001b[0m\n\u001b[1;32m     10\u001b[0m \u001b[39mdef\u001b[39;00m \u001b[39m_context_wrap\u001b[39m(context, fn, \u001b[39m*\u001b[39margs, \u001b[39m*\u001b[39m\u001b[39m*\u001b[39mkwargs):\n\u001b[1;32m     11\u001b[0m     \u001b[39mwith\u001b[39;00m context:\n\u001b[0;32m---> 12\u001b[0m         \u001b[39mreturn\u001b[39;00m fn(\u001b[39m*\u001b[39;49margs, \u001b[39m*\u001b[39;49m\u001b[39m*\u001b[39;49mkwargs)\n",
      "File \u001b[0;32m~/opt/anaconda3/envs/pyciemss-deriv/lib/python3.10/site-packages/pyro/nn/module.py:449\u001b[0m, in \u001b[0;36mPyroModule.__call__\u001b[0;34m(self, *args, **kwargs)\u001b[0m\n\u001b[1;32m    447\u001b[0m \u001b[39mdef\u001b[39;00m \u001b[39m__call__\u001b[39m(\u001b[39mself\u001b[39m, \u001b[39m*\u001b[39margs, \u001b[39m*\u001b[39m\u001b[39m*\u001b[39mkwargs):\n\u001b[1;32m    448\u001b[0m     \u001b[39mwith\u001b[39;00m \u001b[39mself\u001b[39m\u001b[39m.\u001b[39m_pyro_context:\n\u001b[0;32m--> 449\u001b[0m         result \u001b[39m=\u001b[39m \u001b[39msuper\u001b[39;49m()\u001b[39m.\u001b[39;49m\u001b[39m__call__\u001b[39;49m(\u001b[39m*\u001b[39;49margs, \u001b[39m*\u001b[39;49m\u001b[39m*\u001b[39;49mkwargs)\n\u001b[1;32m    450\u001b[0m     \u001b[39mif\u001b[39;00m (\n\u001b[1;32m    451\u001b[0m         pyro\u001b[39m.\u001b[39msettings\u001b[39m.\u001b[39mget(\u001b[39m\"\u001b[39m\u001b[39mvalidate_poutine\u001b[39m\u001b[39m\"\u001b[39m)\n\u001b[1;32m    452\u001b[0m         \u001b[39mand\u001b[39;00m \u001b[39mnot\u001b[39;00m \u001b[39mself\u001b[39m\u001b[39m.\u001b[39m_pyro_context\u001b[39m.\u001b[39mactive\n\u001b[1;32m    453\u001b[0m         \u001b[39mand\u001b[39;00m _is_module_local_param_enabled()\n\u001b[1;32m    454\u001b[0m     ):\n\u001b[1;32m    455\u001b[0m         \u001b[39mself\u001b[39m\u001b[39m.\u001b[39m_check_module_local_param_usage()\n",
      "File \u001b[0;32m~/opt/anaconda3/envs/pyciemss-deriv/lib/python3.10/site-packages/torch/nn/modules/module.py:1501\u001b[0m, in \u001b[0;36mModule._call_impl\u001b[0;34m(self, *args, **kwargs)\u001b[0m\n\u001b[1;32m   1496\u001b[0m \u001b[39m# If we don't have any hooks, we want to skip the rest of the logic in\u001b[39;00m\n\u001b[1;32m   1497\u001b[0m \u001b[39m# this function, and just call forward.\u001b[39;00m\n\u001b[1;32m   1498\u001b[0m \u001b[39mif\u001b[39;00m \u001b[39mnot\u001b[39;00m (\u001b[39mself\u001b[39m\u001b[39m.\u001b[39m_backward_hooks \u001b[39mor\u001b[39;00m \u001b[39mself\u001b[39m\u001b[39m.\u001b[39m_backward_pre_hooks \u001b[39mor\u001b[39;00m \u001b[39mself\u001b[39m\u001b[39m.\u001b[39m_forward_hooks \u001b[39mor\u001b[39;00m \u001b[39mself\u001b[39m\u001b[39m.\u001b[39m_forward_pre_hooks\n\u001b[1;32m   1499\u001b[0m         \u001b[39mor\u001b[39;00m _global_backward_pre_hooks \u001b[39mor\u001b[39;00m _global_backward_hooks\n\u001b[1;32m   1500\u001b[0m         \u001b[39mor\u001b[39;00m _global_forward_hooks \u001b[39mor\u001b[39;00m _global_forward_pre_hooks):\n\u001b[0;32m-> 1501\u001b[0m     \u001b[39mreturn\u001b[39;00m forward_call(\u001b[39m*\u001b[39;49margs, \u001b[39m*\u001b[39;49m\u001b[39m*\u001b[39;49mkwargs)\n\u001b[1;32m   1502\u001b[0m \u001b[39m# Do not call functions when jit is used\u001b[39;00m\n\u001b[1;32m   1503\u001b[0m full_backward_hooks, non_full_backward_hooks \u001b[39m=\u001b[39m [], []\n",
      "File \u001b[0;32m~/Desktop/Research/pyciemss/src/pyciemss/interfaces.py:60\u001b[0m, in \u001b[0;36mDynamicalSystem.forward\u001b[0;34m(self, *args, **kwargs)\u001b[0m\n\u001b[1;32m     57\u001b[0m \u001b[39mself\u001b[39m\u001b[39m.\u001b[39mparam_prior()\n\u001b[1;32m     59\u001b[0m \u001b[39m# Solve the ODE\u001b[39;00m\n\u001b[0;32m---> 60\u001b[0m solution \u001b[39m=\u001b[39m \u001b[39mself\u001b[39;49m\u001b[39m.\u001b[39;49mget_solution(\u001b[39m*\u001b[39;49margs, \u001b[39m*\u001b[39;49m\u001b[39m*\u001b[39;49mkwargs)\n\u001b[1;32m     62\u001b[0m \u001b[39m# Add the observation likelihoods\u001b[39;00m\n\u001b[1;32m     63\u001b[0m \u001b[39mself\u001b[39m\u001b[39m.\u001b[39madd_observation_likelihoods(solution)\n",
      "File \u001b[0;32m~/Desktop/Research/pyciemss/src/pyciemss/Ensemble/base.py:109\u001b[0m, in \u001b[0;36mEnsembleSystem.get_solution\u001b[0;34m(self, *args, **kwargs)\u001b[0m\n\u001b[1;32m    104\u001b[0m \u001b[39m\u001b[39m\u001b[39m'''\u001b[39;00m\n\u001b[1;32m    105\u001b[0m \u001b[39mGet the solution of the ensemble.\u001b[39;00m\n\u001b[1;32m    106\u001b[0m \u001b[39m'''\u001b[39;00m\n\u001b[1;32m    107\u001b[0m model_weights \u001b[39m=\u001b[39m pyro\u001b[39m.\u001b[39msample(\u001b[39m'\u001b[39m\u001b[39mmodel_weights\u001b[39m\u001b[39m'\u001b[39m, pyro\u001b[39m.\u001b[39mdistributions\u001b[39m.\u001b[39mDirichlet(\u001b[39mself\u001b[39m\u001b[39m.\u001b[39mdirichlet_alpha))\n\u001b[0;32m--> 109\u001b[0m solutions \u001b[39m=\u001b[39m [mapping(model\u001b[39m.\u001b[39mget_solution(\u001b[39m*\u001b[39margs, \u001b[39m*\u001b[39m\u001b[39m*\u001b[39mkwargs)) \u001b[39mfor\u001b[39;00m model, mapping \u001b[39min\u001b[39;00m \u001b[39mzip\u001b[39m(\u001b[39mself\u001b[39m\u001b[39m.\u001b[39mmodels, \u001b[39mself\u001b[39m\u001b[39m.\u001b[39msolution_mappings)]\n\u001b[1;32m    111\u001b[0m \u001b[39m# TODO: make this broadcasted instead of looping over the keys.\u001b[39;00m\n\u001b[1;32m    112\u001b[0m solution \u001b[39m=\u001b[39m {k: \u001b[39msum\u001b[39m([model_weights[i] \u001b[39m*\u001b[39m v[k] \u001b[39mfor\u001b[39;00m i, v \u001b[39min\u001b[39;00m \u001b[39menumerate\u001b[39m(solutions)]) \u001b[39mfor\u001b[39;00m k \u001b[39min\u001b[39;00m solutions[\u001b[39m0\u001b[39m]\u001b[39m.\u001b[39mkeys()}\n",
      "File \u001b[0;32m~/Desktop/Research/pyciemss/src/pyciemss/Ensemble/base.py:109\u001b[0m, in \u001b[0;36m<listcomp>\u001b[0;34m(.0)\u001b[0m\n\u001b[1;32m    104\u001b[0m \u001b[39m\u001b[39m\u001b[39m'''\u001b[39;00m\n\u001b[1;32m    105\u001b[0m \u001b[39mGet the solution of the ensemble.\u001b[39;00m\n\u001b[1;32m    106\u001b[0m \u001b[39m'''\u001b[39;00m\n\u001b[1;32m    107\u001b[0m model_weights \u001b[39m=\u001b[39m pyro\u001b[39m.\u001b[39msample(\u001b[39m'\u001b[39m\u001b[39mmodel_weights\u001b[39m\u001b[39m'\u001b[39m, pyro\u001b[39m.\u001b[39mdistributions\u001b[39m.\u001b[39mDirichlet(\u001b[39mself\u001b[39m\u001b[39m.\u001b[39mdirichlet_alpha))\n\u001b[0;32m--> 109\u001b[0m solutions \u001b[39m=\u001b[39m [mapping(model\u001b[39m.\u001b[39;49mget_solution(\u001b[39m*\u001b[39;49margs, \u001b[39m*\u001b[39;49m\u001b[39m*\u001b[39;49mkwargs)) \u001b[39mfor\u001b[39;00m model, mapping \u001b[39min\u001b[39;00m \u001b[39mzip\u001b[39m(\u001b[39mself\u001b[39m\u001b[39m.\u001b[39mmodels, \u001b[39mself\u001b[39m\u001b[39m.\u001b[39msolution_mappings)]\n\u001b[1;32m    111\u001b[0m \u001b[39m# TODO: make this broadcasted instead of looping over the keys.\u001b[39;00m\n\u001b[1;32m    112\u001b[0m solution \u001b[39m=\u001b[39m {k: \u001b[39msum\u001b[39m([model_weights[i] \u001b[39m*\u001b[39m v[k] \u001b[39mfor\u001b[39;00m i, v \u001b[39min\u001b[39;00m \u001b[39menumerate\u001b[39m(solutions)]) \u001b[39mfor\u001b[39;00m k \u001b[39min\u001b[39;00m solutions[\u001b[39m0\u001b[39m]\u001b[39m.\u001b[39mkeys()}\n",
      "File \u001b[0;32m~/opt/anaconda3/envs/pyciemss-deriv/lib/python3.10/site-packages/pyro/nn/module.py:686\u001b[0m, in \u001b[0;36mpyro_method.<locals>.cached_fn\u001b[0;34m(self, *args, **kwargs)\u001b[0m\n\u001b[1;32m    683\u001b[0m \u001b[39m@functools\u001b[39m\u001b[39m.\u001b[39mwraps(fn)\n\u001b[1;32m    684\u001b[0m \u001b[39mdef\u001b[39;00m \u001b[39mcached_fn\u001b[39m(\u001b[39mself\u001b[39m, \u001b[39m*\u001b[39margs, \u001b[39m*\u001b[39m\u001b[39m*\u001b[39mkwargs):\n\u001b[1;32m    685\u001b[0m     \u001b[39mwith\u001b[39;00m \u001b[39mself\u001b[39m\u001b[39m.\u001b[39m_pyro_context:\n\u001b[0;32m--> 686\u001b[0m         \u001b[39mreturn\u001b[39;00m fn(\u001b[39mself\u001b[39;49m, \u001b[39m*\u001b[39;49margs, \u001b[39m*\u001b[39;49m\u001b[39m*\u001b[39;49mkwargs)\n",
      "File \u001b[0;32m~/Desktop/Research/pyciemss/src/pyciemss/PetriNetODE/base.py:223\u001b[0m, in \u001b[0;36mPetriNetODESystem.get_solution\u001b[0;34m(self, method)\u001b[0m\n\u001b[1;32m    220\u001b[0m local_tspan \u001b[39m=\u001b[39m tspan[start:stop\u001b[39m+\u001b[39m\u001b[39m1\u001b[39m]\n\u001b[1;32m    222\u001b[0m \u001b[39m# Simulate from ODE with the new local tspan\u001b[39;00m\n\u001b[0;32m--> 223\u001b[0m local_solution \u001b[39m=\u001b[39m odeint(\u001b[39mself\u001b[39;49m\u001b[39m.\u001b[39;49mderiv, initial_state, local_tspan, method\u001b[39m=\u001b[39;49mmethod)\n\u001b[1;32m    225\u001b[0m \u001b[39m# Add the solution to the solutions list.\u001b[39;00m\n\u001b[1;32m    226\u001b[0m solutions\u001b[39m.\u001b[39mappend(\u001b[39mtuple\u001b[39m(s[\u001b[39m1\u001b[39m:] \u001b[39mfor\u001b[39;00m s \u001b[39min\u001b[39;00m local_solution))\n",
      "File \u001b[0;32m~/opt/anaconda3/envs/pyciemss-deriv/lib/python3.10/site-packages/torchdiffeq/_impl/odeint.py:77\u001b[0m, in \u001b[0;36modeint\u001b[0;34m(func, y0, t, rtol, atol, method, options, event_fn)\u001b[0m\n\u001b[1;32m     74\u001b[0m solver \u001b[39m=\u001b[39m SOLVERS[method](func\u001b[39m=\u001b[39mfunc, y0\u001b[39m=\u001b[39my0, rtol\u001b[39m=\u001b[39mrtol, atol\u001b[39m=\u001b[39matol, \u001b[39m*\u001b[39m\u001b[39m*\u001b[39moptions)\n\u001b[1;32m     76\u001b[0m \u001b[39mif\u001b[39;00m event_fn \u001b[39mis\u001b[39;00m \u001b[39mNone\u001b[39;00m:\n\u001b[0;32m---> 77\u001b[0m     solution \u001b[39m=\u001b[39m solver\u001b[39m.\u001b[39;49mintegrate(t)\n\u001b[1;32m     78\u001b[0m \u001b[39melse\u001b[39;00m:\n\u001b[1;32m     79\u001b[0m     event_t, solution \u001b[39m=\u001b[39m solver\u001b[39m.\u001b[39mintegrate_until_event(t[\u001b[39m0\u001b[39m], event_fn)\n",
      "File \u001b[0;32m~/opt/anaconda3/envs/pyciemss-deriv/lib/python3.10/site-packages/torchdiffeq/_impl/solvers.py:28\u001b[0m, in \u001b[0;36mAdaptiveStepsizeODESolver.integrate\u001b[0;34m(self, t)\u001b[0m\n\u001b[1;32m     26\u001b[0m solution[\u001b[39m0\u001b[39m] \u001b[39m=\u001b[39m \u001b[39mself\u001b[39m\u001b[39m.\u001b[39my0\n\u001b[1;32m     27\u001b[0m t \u001b[39m=\u001b[39m t\u001b[39m.\u001b[39mto(\u001b[39mself\u001b[39m\u001b[39m.\u001b[39mdtype)\n\u001b[0;32m---> 28\u001b[0m \u001b[39mself\u001b[39;49m\u001b[39m.\u001b[39;49m_before_integrate(t)\n\u001b[1;32m     29\u001b[0m \u001b[39mfor\u001b[39;00m i \u001b[39min\u001b[39;00m \u001b[39mrange\u001b[39m(\u001b[39m1\u001b[39m, \u001b[39mlen\u001b[39m(t)):\n\u001b[1;32m     30\u001b[0m     solution[i] \u001b[39m=\u001b[39m \u001b[39mself\u001b[39m\u001b[39m.\u001b[39m_advance(t[i])\n",
      "File \u001b[0;32m~/opt/anaconda3/envs/pyciemss-deriv/lib/python3.10/site-packages/torchdiffeq/_impl/rk_common.py:163\u001b[0m, in \u001b[0;36mRKAdaptiveStepsizeODESolver._before_integrate\u001b[0;34m(self, t)\u001b[0m\n\u001b[1;32m    161\u001b[0m f0 \u001b[39m=\u001b[39m \u001b[39mself\u001b[39m\u001b[39m.\u001b[39mfunc(t[\u001b[39m0\u001b[39m], \u001b[39mself\u001b[39m\u001b[39m.\u001b[39my0)\n\u001b[1;32m    162\u001b[0m \u001b[39mif\u001b[39;00m \u001b[39mself\u001b[39m\u001b[39m.\u001b[39mfirst_step \u001b[39mis\u001b[39;00m \u001b[39mNone\u001b[39;00m:\n\u001b[0;32m--> 163\u001b[0m     first_step \u001b[39m=\u001b[39m _select_initial_step(\u001b[39mself\u001b[39;49m\u001b[39m.\u001b[39;49mfunc, t[\u001b[39m0\u001b[39;49m], \u001b[39mself\u001b[39;49m\u001b[39m.\u001b[39;49my0, \u001b[39mself\u001b[39;49m\u001b[39m.\u001b[39;49morder \u001b[39m-\u001b[39;49m \u001b[39m1\u001b[39;49m, \u001b[39mself\u001b[39;49m\u001b[39m.\u001b[39;49mrtol, \u001b[39mself\u001b[39;49m\u001b[39m.\u001b[39;49matol,\n\u001b[1;32m    164\u001b[0m                                       \u001b[39mself\u001b[39;49m\u001b[39m.\u001b[39;49mnorm, f0\u001b[39m=\u001b[39;49mf0)\n\u001b[1;32m    165\u001b[0m \u001b[39melse\u001b[39;00m:\n\u001b[1;32m    166\u001b[0m     first_step \u001b[39m=\u001b[39m \u001b[39mself\u001b[39m\u001b[39m.\u001b[39mfirst_step\n",
      "File \u001b[0;32m~/opt/anaconda3/envs/pyciemss-deriv/lib/python3.10/site-packages/torchdiffeq/_impl/misc.py:64\u001b[0m, in \u001b[0;36m_select_initial_step\u001b[0;34m(func, t0, y0, order, rtol, atol, norm, f0)\u001b[0m\n\u001b[1;32m     61\u001b[0m y1 \u001b[39m=\u001b[39m y0 \u001b[39m+\u001b[39m h0 \u001b[39m*\u001b[39m f0\n\u001b[1;32m     62\u001b[0m f1 \u001b[39m=\u001b[39m func(t0 \u001b[39m+\u001b[39m h0, y1)\n\u001b[0;32m---> 64\u001b[0m d2 \u001b[39m=\u001b[39m norm((f1 \u001b[39m-\u001b[39;49m f0) \u001b[39m/\u001b[39;49m scale) \u001b[39m/\u001b[39m h0\n\u001b[1;32m     66\u001b[0m \u001b[39mif\u001b[39;00m d1 \u001b[39m<\u001b[39m\u001b[39m=\u001b[39m \u001b[39m1e-15\u001b[39m \u001b[39mand\u001b[39;00m d2 \u001b[39m<\u001b[39m\u001b[39m=\u001b[39m \u001b[39m1e-15\u001b[39m:\n\u001b[1;32m     67\u001b[0m     h1 \u001b[39m=\u001b[39m torch\u001b[39m.\u001b[39mmax(torch\u001b[39m.\u001b[39mtensor(\u001b[39m1e-6\u001b[39m, dtype\u001b[39m=\u001b[39mdtype, device\u001b[39m=\u001b[39mdevice), h0 \u001b[39m*\u001b[39m \u001b[39m1e-3\u001b[39m)\n",
      "File \u001b[0;32m~/opt/anaconda3/envs/pyciemss-deriv/lib/python3.10/site-packages/torchdiffeq/_impl/misc.py:243\u001b[0m, in \u001b[0;36m_check_inputs.<locals>._norm\u001b[0;34m(tensor)\u001b[0m\n\u001b[1;32m    241\u001b[0m \u001b[39mdef\u001b[39;00m \u001b[39m_norm\u001b[39m(tensor):\n\u001b[1;32m    242\u001b[0m     y \u001b[39m=\u001b[39m _flat_to_shape(tensor, (), shapes)\n\u001b[0;32m--> 243\u001b[0m     \u001b[39mreturn\u001b[39;00m norm(y)\n",
      "File \u001b[0;32m~/opt/anaconda3/envs/pyciemss-deriv/lib/python3.10/site-packages/torchdiffeq/_impl/misc.py:29\u001b[0m, in \u001b[0;36m_mixed_norm\u001b[0;34m(tensor_tuple)\u001b[0m\n\u001b[1;32m     27\u001b[0m \u001b[39mif\u001b[39;00m \u001b[39mlen\u001b[39m(tensor_tuple) \u001b[39m==\u001b[39m \u001b[39m0\u001b[39m:\n\u001b[1;32m     28\u001b[0m     \u001b[39mreturn\u001b[39;00m \u001b[39m0.\u001b[39m\n\u001b[0;32m---> 29\u001b[0m \u001b[39mreturn\u001b[39;00m \u001b[39mmax\u001b[39m([_rms_norm(tensor) \u001b[39mfor\u001b[39;00m tensor \u001b[39min\u001b[39;00m tensor_tuple])\n",
      "File \u001b[0;32m~/opt/anaconda3/envs/pyciemss-deriv/lib/python3.10/site-packages/torchdiffeq/_impl/misc.py:29\u001b[0m, in \u001b[0;36m<listcomp>\u001b[0;34m(.0)\u001b[0m\n\u001b[1;32m     27\u001b[0m \u001b[39mif\u001b[39;00m \u001b[39mlen\u001b[39m(tensor_tuple) \u001b[39m==\u001b[39m \u001b[39m0\u001b[39m:\n\u001b[1;32m     28\u001b[0m     \u001b[39mreturn\u001b[39;00m \u001b[39m0.\u001b[39m\n\u001b[0;32m---> 29\u001b[0m \u001b[39mreturn\u001b[39;00m \u001b[39mmax\u001b[39m([_rms_norm(tensor) \u001b[39mfor\u001b[39;00m tensor \u001b[39min\u001b[39;00m tensor_tuple])\n",
      "File \u001b[0;32m~/opt/anaconda3/envs/pyciemss-deriv/lib/python3.10/site-packages/torchdiffeq/_impl/misc.py:19\u001b[0m, in \u001b[0;36m_rms_norm\u001b[0;34m(tensor)\u001b[0m\n\u001b[1;32m     18\u001b[0m \u001b[39mdef\u001b[39;00m \u001b[39m_rms_norm\u001b[39m(tensor):\n\u001b[0;32m---> 19\u001b[0m     \u001b[39mreturn\u001b[39;00m tensor\u001b[39m.\u001b[39;49mpow(\u001b[39m2\u001b[39;49m)\u001b[39m.\u001b[39;49mmean()\u001b[39m.\u001b[39msqrt()\n",
      "\u001b[0;31mKeyboardInterrupt\u001b[0m: "
     ]
    }
   ],
   "source": [
    "data_path = os.path.join(DEMO_PATH, \"data.csv\")\n",
    "num_samples = 2\n",
    "timepoints = [0.0, 1.0, 2.0, 3.0, 4.0]\n",
    "\n",
    "# Run the calibration and sampling\n",
    "result = load_and_calibrate_and_sample_ensemble_model(\n",
    "    ASKENET_PATHS,\n",
    "    data_path,\n",
    "    weights,\n",
    "    solution_mappings,\n",
    "    num_samples,\n",
    "    timepoints,\n",
    "    verbose=True,\n",
    "    total_population=1000,\n",
    "    num_iterations=350,\n",
    "    time_unit=\"days\",\n",
    "    visual_options={\"title\": \"Calibrated Ensemble\", \"subset\":\".*_sol\"}\n",
    ")\n",
    "\n",
    "# Save results\n",
    "result[\"data\"].to_csv(\n",
    "    os.path.join(DEMO_PATH, \"results_petri_ensemble/calibrated_sample_results.csv\"), index=False\n",
    ")\n",
    "result[\"quantiles\"].to_csv(\n",
    "    os.path.join(DEMO_PATH, \"results_petri_ensemble/calibrated_quantile_results.csv\"), index=False\n",
    ")\n",
    "plots.ipy_display(result[\"visual\"])"
   ]
  },
  {
   "cell_type": "code",
   "execution_count": null,
   "metadata": {},
   "outputs": [],
   "source": []
  }
 ],
 "metadata": {
  "kernelspec": {
   "display_name": "ASKEM",
   "language": "python",
   "name": "python3"
  },
  "language_info": {
   "codemirror_mode": {
    "name": "ipython",
    "version": 3
   },
   "file_extension": ".py",
   "mimetype": "text/x-python",
   "name": "python",
   "nbconvert_exporter": "python",
   "pygments_lexer": "ipython3",
   "version": "3.10.11"
  }
 },
 "nbformat": 4,
 "nbformat_minor": 4
}
