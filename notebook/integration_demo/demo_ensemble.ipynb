{
 "cells": [
  {
   "cell_type": "code",
   "execution_count": 1,
   "metadata": {},
   "outputs": [],
   "source": [
    "import os\n",
    "from pyciemss.Ensemble.interfaces import (\n",
    "    load_and_sample_petri_ensemble, load_and_calibrate_and_sample_ensemble_model\n",
    ")\n",
    "from pyciemss.visuals import plots"
   ]
  },
  {
   "cell_type": "code",
   "execution_count": 2,
   "metadata": {},
   "outputs": [],
   "source": [
    "DEMO_PATH = \"../../notebook/integration_demo/\"\n",
    "# ASKENET_PATH_1 = \"https://raw.githubusercontent.com/DARPA-ASKEM/Model-Representations/main/petrinet/examples/sir_typed.json\"\n",
    "ASKENET_PATH_1 = \"../../test/models/AMR_examples/ensemble/SEIARHDS_AMR.json\"\n",
    "ASKENET_PATH_2 = \"../../test/models/AMR_examples/ensemble/SIRHD_AMR.json\"\n",
    "\n",
    "ASKENET_PATHS = [ASKENET_PATH_1, ASKENET_PATH_2]"
   ]
  },
  {
   "attachments": {},
   "cell_type": "markdown",
   "metadata": {},
   "source": [
    "## load_and_sample_ensemble_model"
   ]
  },
  {
   "cell_type": "code",
   "execution_count": 3,
   "metadata": {},
   "outputs": [],
   "source": [
    "weights = [0.5, 0.5]\n",
    "num_samples = 100\n",
    "timepoints = [0.0, 1.0, 2.0, 3.0, 4.0]\n",
    "solution_mappings = [{\"Infected\": \"Cases\", \"Hospitalizations\": \"hospitalized_population\"}, # model 1 mappings\n",
    "                     {\"Infected\": \"Infections\", \"Hospitalizations\": \"hospitalized_population\"} # model 2\n",
    "                     ]\n",
    "\n",
    "# Run sampling\n",
    "result = load_and_sample_petri_ensemble(\n",
    "    ASKENET_PATHS, weights, solution_mappings, num_samples, timepoints, \n",
    "    time_unit=\"days\",\n",
    "    visual_options={\"subset\":\".*_sol\"}\n",
    ")\n",
    "\n",
    "ensemble_samples = result[\"data\"]\n",
    "q_ensemble = result[\"quantiles\"]\n",
    "\n",
    "# Save results\n",
    "ensemble_samples.to_csv(os.path.join(DEMO_PATH, \"results_petri_ensemble/sample_results.csv\"), index=False)\n",
    "q_ensemble.to_csv(os.path.join(DEMO_PATH, \"results_petri_ensemble/quantile_results.csv\"), index=False)"
   ]
  },
  {
   "cell_type": "code",
   "execution_count": 4,
   "metadata": {},
   "outputs": [
    {
     "name": "stdout",
     "output_type": "stream",
     "text": [
      "\n"
     ]
    },
    {
     "data": {
      "application/vnd.vega.v5+json": {
       "$schema": "https://vega.github.io/schema/vega/v5.json",
       "axes": [
        {
         "name": "x_axis",
         "orient": "bottom",
         "scale": "xscale",
         "zindex": 100
        },
        {
         "name": "y_axis",
         "orient": "left",
         "scale": "yscale",
         "zindex": 100
        }
       ],
       "data": [
        {
         "name": "distributions",
         "values": [
          {
           "lower": 1.142442623792636e-12,
           "timepoint": 0,
           "trajectory": "Hospitalizations_sol",
           "upper": 1.996476465052077e-12
          },
          {
           "lower": 0.01332027167081833,
           "timepoint": 1,
           "trajectory": "Hospitalizations_sol",
           "upper": 0.020509402453899383
          },
          {
           "lower": 0.03025908153504133,
           "timepoint": 2,
           "trajectory": "Hospitalizations_sol",
           "upper": 0.04684582557529211
          },
          {
           "lower": 0.04350637402385473,
           "timepoint": 3,
           "trajectory": "Hospitalizations_sol",
           "upper": 0.08163769841194153
          },
          {
           "lower": 0.05673919375985861,
           "timepoint": 4,
           "trajectory": "Hospitalizations_sol",
           "upper": 0.1308712974190712
          },
          {
           "lower": 1,
           "timepoint": 0,
           "trajectory": "Infected_sol",
           "upper": 1
          },
          {
           "lower": 0.9182976812124253,
           "timepoint": 1,
           "trajectory": "Infected_sol",
           "upper": 1.5619552552700042
          },
          {
           "lower": 0.9970634371042252,
           "timepoint": 2,
           "trajectory": "Infected_sol",
           "upper": 2.4466154694557187
          },
          {
           "lower": 1.180355530977249,
           "timepoint": 3,
           "trajectory": "Infected_sol",
           "upper": 3.8362002253532403
          },
          {
           "lower": 1.4601533114910126,
           "timepoint": 4,
           "trajectory": "Infected_sol",
           "upper": 6.017500305175781
          }
         ]
        },
        {
         "name": "traces",
         "transform": [
          {
           "expr": "isValid(datum.value)",
           "type": "filter"
          }
         ],
         "values": []
        },
        {
         "name": "points",
         "values": []
        },
        {
         "name": "markers",
         "values": []
        },
        {
         "name": "selected",
         "on": [
          {
           "remove": true,
           "trigger": "clear"
          },
          {
           "remove": true,
           "trigger": "!shift"
          },
          {
           "insert": "clicked",
           "trigger": "!shift && clicked"
          },
          {
           "toggle": "clicked",
           "trigger": "shift && clicked"
          }
         ]
        }
       ],
       "height": 300,
       "legends": [
        {
         "encode": {
          "labels": {
           "interactive": true,
           "name": "legendLabel",
           "update": {
            "opacity": [
             {
              "test": "!length(data('selected')) || indata('selected', 'value', datum.value)",
              "value": 1
             },
             {
              "value": 0.25
             }
            ]
           }
          },
          "symbols": {
           "interactive": true,
           "name": "legendSymbol",
           "update": {
            "fill": {
             "value": "transparent"
            },
            "opacity": [
             {
              "test": "!length(data('selected')) || indata('selected', 'value', datum.value)",
              "value": 0.7
             },
             {
              "value": 0.15
             }
            ],
            "size": {
             "value": 64
            },
            "strokeWidth": {
             "value": 2
            }
           }
          }
         },
         "name": "color_legend",
         "stroke": "color"
        }
       ],
       "marks": [
        {
         "from": {
          "facet": {
           "data": "points",
           "groupby": "trajectory",
           "name": "points_split"
          }
         },
         "marks": [
          {
           "encode": {
            "hover": {
             "fillOpacity": {
              "value": 0.9
             }
            },
            "update": {
             "fill": {
              "field": "trajectory",
              "scale": "color"
             },
             "fillOpacity": [
              {
               "test": "!length(data('selected')) || indata('selected', 'value', datum.trajectory)",
               "value": 0.5
              },
              {
               "value": 0.15
              }
             ],
             "size": {
              "value": 10
             },
             "stroke": {
              "field": "trajectory",
              "scale": "color"
             },
             "strokeOpacity": [
              {
               "test": "!length(data('selected')) || indata('selected', 'value', datum.trajectory)",
               "value": 0.75
              },
              {
               "value": 0.15
              }
             ],
             "strokeWidth": {
              "value": 2
             },
             "tooltip": {
              "field": "value"
             },
             "x": {
              "field": "timepoint",
              "scale": "xscale"
             },
             "y": {
              "field": "value",
              "scale": "yscale"
             }
            }
           },
           "from": {
            "data": "points"
           },
           "name": "_points_symbol",
           "type": "symbol",
           "zindex": 3
          },
          {
           "encode": {
            "hover": {
             "fillOpacity": {
              "value": 0.9
             }
            },
            "update": {
             "interpolate": {
              "value": "linear"
             },
             "stroke": {
              "field": "trajectory",
              "scale": "color"
             },
             "strokeOpacity": [
              {
               "test": "!length(data('selected')) || indata('selected', 'value', datum.trajectory)",
               "value": 0.3
              },
              {
               "value": 0.1
              }
             ],
             "strokeWidth": {
              "value": 2
             },
             "x": {
              "field": "timepoint",
              "scale": "xscale"
             },
             "y": {
              "field": "value",
              "scale": "yscale"
             }
            }
           },
           "from": {
            "data": "points"
           },
           "name": "_points_line",
           "type": "line",
           "zindex": 3
          }
         ],
         "name": "_points",
         "type": "group",
         "zindex": 3
        },
        {
         "from": {
          "facet": {
           "data": "traces",
           "groupby": "trajectory",
           "name": "traces_split"
          }
         },
         "marks": [
          {
           "encode": {
            "hover": {
             "fillOpacity": {
              "value": 0.9
             }
            },
            "update": {
             "interpolate": {
              "value": "linear"
             },
             "stroke": {
              "field": "trajectory",
              "scale": "color"
             },
             "strokeOpacity": [
              {
               "test": "!length(data('selected')) || indata('selected', 'value', datum.trajectory)",
               "value": 0.75
              },
              {
               "value": 0.15
              }
             ],
             "strokeWidth": {
              "value": 2
             },
             "x": {
              "field": "timepoint",
              "scale": "xscale"
             },
             "y": {
              "field": "value",
              "scale": "yscale"
             }
            }
           },
           "from": {
            "data": "traces_split"
           },
           "name": "_traces_lines",
           "type": "line"
          }
         ],
         "name": "_traces",
         "type": "group",
         "zindex": 2
        },
        {
         "from": {
          "facet": {
           "data": "distributions",
           "groupby": "trajectory",
           "name": "trajectory_split"
          }
         },
         "marks": [
          {
           "encode": {
            "hover": {
             "fillOpacity": {
              "value": 0.9
             }
            },
            "update": {
             "fill": {
              "field": "trajectory",
              "scale": "color"
             },
             "fillOpacity": [
              {
               "test": "!length(data('selected')) || indata('selected', 'value', datum.trajectory)",
               "value": 0.5
              },
              {
               "value": 0.15
              }
             ],
             "interpolate": {
              "value": "linear"
             },
             "stroke": {
              "field": "trajectory",
              "scale": "color"
             },
             "strokeOpacity": [
              {
               "test": "!length(data('selected')) || indata('selected', 'value', datum.trajectory)",
               "value": 0.75
              },
              {
               "value": 0.15
              }
             ],
             "strokeWidth": {
              "value": 2
             },
             "x": {
              "field": "timepoint",
              "scale": "xscale"
             },
             "y": {
              "field": "upper",
              "scale": "yscale"
             },
             "y2": {
              "field": "lower",
              "scale": "yscale"
             }
            }
           },
           "from": {
            "data": "trajectory_split"
           },
           "type": "area"
          }
         ],
         "name": "_distributions",
         "type": "group",
         "zindex": 1
        },
        {
         "marks": [
          {
           "encode": {
            "enter": {
             "stroke": {
              "value": "lightgray"
             }
            },
            "update": {
             "opacity": {
              "value": 1
             },
             "x": {
              "field": "timepoint",
              "scale": "xscale"
             },
             "y": {
              "signal": "height"
             },
             "y2": {
              "value": 0
             }
            }
           },
           "from": {
            "data": "markers"
           },
           "name": "_marker text",
           "type": "rule"
          },
          {
           "encode": {
            "enter": {
             "fontSize": {
              "value": 8
             },
             "text": {
              "field": "datum.label"
             },
             "y": {
              "value": 0
             }
            }
           },
           "from": {
            "data": "_marker text"
           },
           "name": "_marker flags",
           "transform": [
            {
             "as": [
              "x",
              "_y",
              "opacity",
              "align",
              "baseline"
             ],
             "lineAnchor": "start",
             "offset": [
              1
             ],
             "size": {
              "signal": "[width, height]"
             },
             "type": "label"
            }
           ],
           "type": "text"
          }
         ],
         "name": "_markers",
         "type": "group"
        }
       ],
       "scales": [
        {
         "domain": {
          "fields": [
           {
            "data": "distributions",
            "field": "timepoint"
           },
           {
            "data": "traces",
            "field": "timepoint"
           },
           {
            "data": "points",
            "field": "timepoint"
           },
           {
            "data": "markers",
            "field": "timepoint"
           }
          ]
         },
         "name": "xscale",
         "range": "width",
         "type": "linear",
         "zero": false
        },
        {
         "domain": {
          "fields": [
           {
            "data": "distributions",
            "field": "lower"
           },
           {
            "data": "distributions",
            "field": "upper"
           },
           {
            "data": "traces",
            "field": "value"
           },
           {
            "data": "points",
            "field": "value"
           }
          ]
         },
         "name": "yscale",
         "nice": true,
         "range": "height",
         "type": "linear",
         "zero": true
        },
        {
         "domain": {
          "fields": [
           {
            "data": "distributions",
            "field": "trajectory"
           },
           {
            "data": "traces",
            "field": "trajectory"
           },
           {
            "data": "points",
            "field": "trajectory"
           }
          ]
         },
         "name": "color",
         "range": "category",
         "type": "ordinal"
        }
       ],
       "signals": [
        {
         "name": "clear",
         "on": [
          {
           "events": "mouseup[!event.item]",
           "force": true,
           "update": "true"
          }
         ],
         "value": true
        },
        {
         "name": "shift",
         "on": [
          {
           "events": "@legendSymbol:click, @legendLabel:click",
           "force": true,
           "update": "event.shiftKey"
          }
         ],
         "value": false
        },
        {
         "name": "clicked",
         "on": [
          {
           "events": "@legendSymbol:click, @legendLabel:click",
           "force": true,
           "update": "{value: datum.value}"
          }
         ],
         "value": null
        }
       ],
       "width": 500
      }
     },
     "metadata": {},
     "output_type": "display_data"
    }
   ],
   "source": [
    "plots.ipy_display(result[\"visual\"])"
   ]
  },
  {
   "attachments": {},
   "cell_type": "markdown",
   "metadata": {},
   "source": [
    "## load_and_calibrate_and_sample_ensemble_model"
   ]
  },
  {
   "cell_type": "code",
   "execution_count": 5,
   "metadata": {},
   "outputs": [],
   "source": [
    "# # Generate data from model\n",
    "# from pyciemss.utils.interface_utils import solutions_to_observations\n",
    "\n",
    "# data = solutions_to_observations(timepoints, result[\"data\"].set_index([\"timepoint_id\", \"sample_id\"]))\n",
    "# data[0].to_csv(os.path.join(DEMO_PATH, \"results_petri_ensemble/ensemble_data.csv\"), index=False)"
   ]
  },
  {
   "cell_type": "code",
   "execution_count": 6,
   "metadata": {},
   "outputs": [
    {
     "name": "stdout",
     "output_type": "stream",
     "text": [
      "iteration 0: loss = 24.202240824699402\n",
      "\n"
     ]
    },
    {
     "data": {
      "application/vnd.vega.v5+json": {
       "$schema": "https://vega.github.io/schema/vega/v5.json",
       "axes": [
        {
         "name": "x_axis",
         "orient": "bottom",
         "scale": "xscale",
         "zindex": 100
        },
        {
         "name": "y_axis",
         "orient": "left",
         "scale": "yscale",
         "zindex": 100
        }
       ],
       "data": [
        {
         "name": "distributions",
         "values": [
          {
           "lower": 1.7172505930272696e-12,
           "timepoint": 0,
           "trajectory": "Hospitalizations_sol",
           "upper": 1.7585985727548715e-12
          },
          {
           "lower": 0.01655609142035246,
           "timepoint": 1,
           "trajectory": "Hospitalizations_sol",
           "upper": 0.016737874783575534
          },
          {
           "lower": 0.033570525050163266,
           "timepoint": 2,
           "trajectory": "Hospitalizations_sol",
           "upper": 0.03362518846988678
          },
          {
           "lower": 0.05298156589269638,
           "timepoint": 3,
           "trajectory": "Hospitalizations_sol",
           "upper": 0.05369441658258438
          },
          {
           "lower": 0.07763054966926575,
           "timepoint": 4,
           "trajectory": "Hospitalizations_sol",
           "upper": 0.07951158285140991
          },
          {
           "lower": 0.11086925454437732,
           "timepoint": 5,
           "trajectory": "Hospitalizations_sol",
           "upper": 0.11460482738912106
          },
          {
           "lower": 0.1573181614279747,
           "timepoint": 6,
           "trajectory": "Hospitalizations_sol",
           "upper": 0.16387592107057572
          },
          {
           "lower": 0.22361905723810196,
           "timepoint": 7,
           "trajectory": "Hospitalizations_sol",
           "upper": 0.23438997715711593
          },
          {
           "lower": 1,
           "timepoint": 0,
           "trajectory": "Infected_sol",
           "upper": 1
          },
          {
           "lower": 1.1313727617263794,
           "timepoint": 1,
           "trajectory": "Infected_sol",
           "upper": 1.1608847856521607
          },
          {
           "lower": 1.4400136590003967,
           "timepoint": 2,
           "trajectory": "Infected_sol",
           "upper": 1.5026981711387635
          },
          {
           "lower": 1.9464232444763183,
           "timepoint": 3,
           "trajectory": "Infected_sol",
           "upper": 2.0530627250671385
          },
          {
           "lower": 2.7105029225349426,
           "timepoint": 4,
           "trajectory": "Infected_sol",
           "upper": 2.879877984523773
          },
          {
           "lower": 3.8368215203285216,
           "timepoint": 5,
           "trajectory": "Infected_sol",
           "upper": 4.097999370098114
          },
          {
           "lower": 5.489099073410034,
           "timepoint": 6,
           "trajectory": "Infected_sol",
           "upper": 5.885285806655884
          },
          {
           "lower": 7.915315413475037,
           "timepoint": 7,
           "trajectory": "Infected_sol",
           "upper": 8.509731984138488
          }
         ]
        },
        {
         "name": "traces",
         "transform": [
          {
           "expr": "isValid(datum.value)",
           "type": "filter"
          }
         ],
         "values": []
        },
        {
         "name": "points",
         "values": []
        },
        {
         "name": "markers",
         "values": []
        },
        {
         "name": "selected",
         "on": [
          {
           "remove": true,
           "trigger": "clear"
          },
          {
           "remove": true,
           "trigger": "!shift"
          },
          {
           "insert": "clicked",
           "trigger": "!shift && clicked"
          },
          {
           "toggle": "clicked",
           "trigger": "shift && clicked"
          }
         ]
        }
       ],
       "height": 300,
       "legends": [
        {
         "encode": {
          "labels": {
           "interactive": true,
           "name": "legendLabel",
           "update": {
            "opacity": [
             {
              "test": "!length(data('selected')) || indata('selected', 'value', datum.value)",
              "value": 1
             },
             {
              "value": 0.25
             }
            ]
           }
          },
          "symbols": {
           "interactive": true,
           "name": "legendSymbol",
           "update": {
            "fill": {
             "value": "transparent"
            },
            "opacity": [
             {
              "test": "!length(data('selected')) || indata('selected', 'value', datum.value)",
              "value": 0.7
             },
             {
              "value": 0.15
             }
            ],
            "size": {
             "value": 64
            },
            "strokeWidth": {
             "value": 2
            }
           }
          }
         },
         "name": "color_legend",
         "stroke": "color"
        }
       ],
       "marks": [
        {
         "from": {
          "facet": {
           "data": "points",
           "groupby": "trajectory",
           "name": "points_split"
          }
         },
         "marks": [
          {
           "encode": {
            "hover": {
             "fillOpacity": {
              "value": 0.9
             }
            },
            "update": {
             "fill": {
              "field": "trajectory",
              "scale": "color"
             },
             "fillOpacity": [
              {
               "test": "!length(data('selected')) || indata('selected', 'value', datum.trajectory)",
               "value": 0.5
              },
              {
               "value": 0.15
              }
             ],
             "size": {
              "value": 10
             },
             "stroke": {
              "field": "trajectory",
              "scale": "color"
             },
             "strokeOpacity": [
              {
               "test": "!length(data('selected')) || indata('selected', 'value', datum.trajectory)",
               "value": 0.75
              },
              {
               "value": 0.15
              }
             ],
             "strokeWidth": {
              "value": 2
             },
             "tooltip": {
              "field": "value"
             },
             "x": {
              "field": "timepoint",
              "scale": "xscale"
             },
             "y": {
              "field": "value",
              "scale": "yscale"
             }
            }
           },
           "from": {
            "data": "points"
           },
           "name": "_points_symbol",
           "type": "symbol",
           "zindex": 3
          },
          {
           "encode": {
            "hover": {
             "fillOpacity": {
              "value": 0.9
             }
            },
            "update": {
             "interpolate": {
              "value": "linear"
             },
             "stroke": {
              "field": "trajectory",
              "scale": "color"
             },
             "strokeOpacity": [
              {
               "test": "!length(data('selected')) || indata('selected', 'value', datum.trajectory)",
               "value": 0.3
              },
              {
               "value": 0.1
              }
             ],
             "strokeWidth": {
              "value": 2
             },
             "x": {
              "field": "timepoint",
              "scale": "xscale"
             },
             "y": {
              "field": "value",
              "scale": "yscale"
             }
            }
           },
           "from": {
            "data": "points"
           },
           "name": "_points_line",
           "type": "line",
           "zindex": 3
          }
         ],
         "name": "_points",
         "type": "group",
         "zindex": 3
        },
        {
         "from": {
          "facet": {
           "data": "traces",
           "groupby": "trajectory",
           "name": "traces_split"
          }
         },
         "marks": [
          {
           "encode": {
            "hover": {
             "fillOpacity": {
              "value": 0.9
             }
            },
            "update": {
             "interpolate": {
              "value": "linear"
             },
             "stroke": {
              "field": "trajectory",
              "scale": "color"
             },
             "strokeOpacity": [
              {
               "test": "!length(data('selected')) || indata('selected', 'value', datum.trajectory)",
               "value": 0.75
              },
              {
               "value": 0.15
              }
             ],
             "strokeWidth": {
              "value": 2
             },
             "x": {
              "field": "timepoint",
              "scale": "xscale"
             },
             "y": {
              "field": "value",
              "scale": "yscale"
             }
            }
           },
           "from": {
            "data": "traces_split"
           },
           "name": "_traces_lines",
           "type": "line"
          }
         ],
         "name": "_traces",
         "type": "group",
         "zindex": 2
        },
        {
         "from": {
          "facet": {
           "data": "distributions",
           "groupby": "trajectory",
           "name": "trajectory_split"
          }
         },
         "marks": [
          {
           "encode": {
            "hover": {
             "fillOpacity": {
              "value": 0.9
             }
            },
            "update": {
             "fill": {
              "field": "trajectory",
              "scale": "color"
             },
             "fillOpacity": [
              {
               "test": "!length(data('selected')) || indata('selected', 'value', datum.trajectory)",
               "value": 0.5
              },
              {
               "value": 0.15
              }
             ],
             "interpolate": {
              "value": "linear"
             },
             "stroke": {
              "field": "trajectory",
              "scale": "color"
             },
             "strokeOpacity": [
              {
               "test": "!length(data('selected')) || indata('selected', 'value', datum.trajectory)",
               "value": 0.75
              },
              {
               "value": 0.15
              }
             ],
             "strokeWidth": {
              "value": 2
             },
             "x": {
              "field": "timepoint",
              "scale": "xscale"
             },
             "y": {
              "field": "upper",
              "scale": "yscale"
             },
             "y2": {
              "field": "lower",
              "scale": "yscale"
             }
            }
           },
           "from": {
            "data": "trajectory_split"
           },
           "type": "area"
          }
         ],
         "name": "_distributions",
         "type": "group",
         "zindex": 1
        },
        {
         "marks": [
          {
           "encode": {
            "enter": {
             "stroke": {
              "value": "lightgray"
             }
            },
            "update": {
             "opacity": {
              "value": 1
             },
             "x": {
              "field": "timepoint",
              "scale": "xscale"
             },
             "y": {
              "signal": "height"
             },
             "y2": {
              "value": 0
             }
            }
           },
           "from": {
            "data": "markers"
           },
           "name": "_marker text",
           "type": "rule"
          },
          {
           "encode": {
            "enter": {
             "fontSize": {
              "value": 8
             },
             "text": {
              "field": "datum.label"
             },
             "y": {
              "value": 0
             }
            }
           },
           "from": {
            "data": "_marker text"
           },
           "name": "_marker flags",
           "transform": [
            {
             "as": [
              "x",
              "_y",
              "opacity",
              "align",
              "baseline"
             ],
             "lineAnchor": "start",
             "offset": [
              1
             ],
             "size": {
              "signal": "[width, height]"
             },
             "type": "label"
            }
           ],
           "type": "text"
          }
         ],
         "name": "_markers",
         "type": "group"
        }
       ],
       "scales": [
        {
         "domain": {
          "fields": [
           {
            "data": "distributions",
            "field": "timepoint"
           },
           {
            "data": "traces",
            "field": "timepoint"
           },
           {
            "data": "points",
            "field": "timepoint"
           },
           {
            "data": "markers",
            "field": "timepoint"
           }
          ]
         },
         "name": "xscale",
         "range": "width",
         "type": "linear",
         "zero": false
        },
        {
         "domain": {
          "fields": [
           {
            "data": "distributions",
            "field": "lower"
           },
           {
            "data": "distributions",
            "field": "upper"
           },
           {
            "data": "traces",
            "field": "value"
           },
           {
            "data": "points",
            "field": "value"
           }
          ]
         },
         "name": "yscale",
         "nice": true,
         "range": "height",
         "type": "linear",
         "zero": true
        },
        {
         "domain": {
          "fields": [
           {
            "data": "distributions",
            "field": "trajectory"
           },
           {
            "data": "traces",
            "field": "trajectory"
           },
           {
            "data": "points",
            "field": "trajectory"
           }
          ]
         },
         "name": "color",
         "range": "category",
         "type": "ordinal"
        }
       ],
       "signals": [
        {
         "name": "clear",
         "on": [
          {
           "events": "mouseup[!event.item]",
           "force": true,
           "update": "true"
          }
         ],
         "value": true
        },
        {
         "name": "shift",
         "on": [
          {
           "events": "@legendSymbol:click, @legendLabel:click",
           "force": true,
           "update": "event.shiftKey"
          }
         ],
         "value": false
        },
        {
         "name": "clicked",
         "on": [
          {
           "events": "@legendSymbol:click, @legendLabel:click",
           "force": true,
           "update": "{value: datum.value}"
          }
         ],
         "value": null
        }
       ],
       "title": "Calibrated Ensemble",
       "width": 500
      }
     },
     "metadata": {},
     "output_type": "display_data"
    }
   ],
   "source": [
    "data_path = os.path.join(DEMO_PATH, \"results_petri_ensemble/ensemble_data.csv\")\n",
    "num_samples = 2\n",
    "timepoints = [0.0, 1.0, 2.0, 3.0, 4.0, 5.0, 6.0, 7.0]\n",
    "\n",
    "# Run the calibration and sampling\n",
    "result = load_and_calibrate_and_sample_ensemble_model(\n",
    "    ASKENET_PATHS,\n",
    "    data_path,\n",
    "    weights,\n",
    "    solution_mappings,\n",
    "    num_samples,\n",
    "    timepoints,\n",
    "    verbose=True,\n",
    "    total_population=1000,\n",
    "    num_iterations=10,\n",
    "    time_unit=\"days\",\n",
    "    visual_options={\"title\": \"Calibrated Ensemble\", \"subset\":\".*_sol\"}\n",
    ")\n",
    "\n",
    "# Save results\n",
    "result[\"data\"].to_csv(\n",
    "    os.path.join(DEMO_PATH, \"results_petri_ensemble/calibrated_sample_results.csv\"), index=False\n",
    ")\n",
    "result[\"quantiles\"].to_csv(\n",
    "    os.path.join(DEMO_PATH, \"results_petri_ensemble/calibrated_quantile_results.csv\"), index=False\n",
    ")\n",
    "plots.ipy_display(result[\"visual\"])"
   ]
  },
  {
   "cell_type": "code",
   "execution_count": 52,
   "metadata": {},
   "outputs": [],
   "source": [
    "import pandas as pd\n",
    "from typing import Dict, Optional, Iterable, Callable\n",
    "def cdc_reformatcsv(\n",
    "        filename: str, \n",
    "        solution_string_mapping: dict = None, \n",
    "        forecast_start_date: str = None, \n",
    "        location: str = None,\n",
    "        drop_column_names: Iterable[str] = None,\n",
    "        ):\n",
    "    \"\"\" \n",
    "    Reformat the quantiles csv file to CDC ensemble forecast format\n",
    "    \"\"\"\n",
    "    q_ensemble_data = pd.read_csv(filename)\n",
    "    # Number of days for which data is available\n",
    "    number_data_days = max(q_ensemble_data[q_ensemble_data[\"Forecast_Backcast\"].str.contains(\"Backcast\")][\"number_days\"])\n",
    "    # Subtracting number of backast days from number_days\n",
    "    q_ensemble_data[\"number_days\"] = q_ensemble_data[\"number_days\"] - number_data_days\n",
    "    # Drop rows that are backcasting\n",
    "    q_ensemble_data = q_ensemble_data[q_ensemble_data[\"Forecast_Backcast\"].str.contains(\"Backcast\")==False]\n",
    "    # Changing name of state according to user provided strings\n",
    "    if solution_string_mapping:\n",
    "        for k, v in solution_string_mapping.items():\n",
    "            q_ensemble_data[\"output\"] = q_ensemble_data[\"output\"].replace(k,v)\n",
    "\n",
    "    # Creating target column\n",
    "    q_ensemble_data[\"target\"] = q_ensemble_data[\"number_days\"].astype(\"string\") + \" days ahead \" + q_ensemble_data[\"inc_cum\"] + \" \" + q_ensemble_data[\"output\"]\n",
    "    \n",
    "    # Add dates\n",
    "    if forecast_start_date:\n",
    "        q_ensemble_data[\"forecast_date\"] = pd.to_datetime(forecast_start_date, format='%Y-%m-%d', errors='ignore')\n",
    "        # q_ensemble_data[\"target_end_date\"] = q_ensemble_data[\"forecast_date\"] + pd.DateOffset(days=q_ensemble_data[\"number_days\"].astype(int))\n",
    "        q_ensemble_data[\"target_end_date\"] = q_ensemble_data[\"forecast_date\"].combine(q_ensemble_data[\"number_days\"], lambda x,y: x + pd.DateOffset(days=int(y)))\n",
    "    # Add location column\n",
    "    if location:\n",
    "        q_ensemble_data[\"location\"] = location\n",
    "    # Dropping columns specified by user\n",
    "    if drop_column_names:\n",
    "        q_ensemble_data = q_ensemble_data.drop(columns=drop_column_names)\n",
    "    return q_ensemble_data"
   ]
  },
  {
   "cell_type": "code",
   "execution_count": 51,
   "metadata": {},
   "outputs": [],
   "source": [
    "q_ensemble_data = cdc_reformatcsv(filename=os.path.join(DEMO_PATH, \"results_petri_ensemble/calibrated_quantile_results.csv\"), \n",
    "                                  solution_string_mapping={\"Infected\": \"case\", \"Hospitalizations\": \"hosp.\", \"D\": \"death\"}, \n",
    "                                  forecast_start_date=\"2023-08-03\",\n",
    "                                  location=\"US\",\n",
    "                                  drop_column_names=[\"timepoint_id\", \"number_days\", \"inc_cum\", \"output\", \"Forecast_Backcast\"])\n",
    "q_ensemble_data.to_csv(os.path.join(DEMO_PATH, \"results_petri_ensemble/CDCformat_calibrated_quantile_results.csv\"), index=False)"
   ]
  }
 ],
 "metadata": {
  "kernelspec": {
   "display_name": "ASKEM",
   "language": "python",
   "name": "python3"
  },
  "language_info": {
   "codemirror_mode": {
    "name": "ipython",
    "version": 3
   },
   "file_extension": ".py",
   "mimetype": "text/x-python",
   "name": "python",
   "nbconvert_exporter": "python",
   "pygments_lexer": "ipython3",
   "version": "3.11.4"
  }
 },
 "nbformat": 4,
 "nbformat_minor": 4
}
