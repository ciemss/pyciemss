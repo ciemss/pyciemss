{
 "cells": [
  {
   "cell_type": "markdown",
   "id": "84225ba1-9f70-41ec-81af-9d98cea4cb05",
   "metadata": {},
   "source": [
    "# Demonstrate observables"
   ]
  },
  {
   "cell_type": "code",
   "execution_count": 1,
   "id": "63104f2b-0d63-4076-ad1c-ba0f2087fbad",
   "metadata": {},
   "outputs": [],
   "source": [
    "import mira\n",
    "from mira.metamodel import Observable, SympyExprStr\n",
    "from mira.modeling import ModelObservable\n",
    "import sympy\n",
    "import torch\n",
    "from copy import deepcopy as _d\n",
    "from mira.metamodel.ops import stratify\n",
    "from sympytorch import SymPyModule\n",
    "from pyciemss.PetriNetODE.interfaces import (\n",
    "    load_petri_model,\n",
    "    setup_petri_model,\n",
    "    sample_petri,\n",
    "    calibrate,\n",
    "    load_and_sample_petri_model,\n",
    "    load_and_calibrate_and_sample_petri_model, \n",
    ")\n",
    "from pyciemss.Ensemble.interfaces import (\n",
    "    load_and_sample_petri_ensemble\n",
    ")\n",
    "import pandas as pd\n",
    "from pyciemss.utils.interface_utils import convert_to_output_format, csv_to_list, solutions_to_observations\n",
    "from typing import Dict, List \n",
    "\n",
    "Solution = Dict[str, torch.tensor]"
   ]
  },
  {
   "cell_type": "code",
   "execution_count": 2,
   "id": "31735e14-7ad5-4821-bcbf-b9f6c2f151a1",
   "metadata": {},
   "outputs": [],
   "source": [
    "def get_sampled_value(name, model):\n",
    "    trace_handler = pyro.poutine.trace(model)\n",
    "    trace = trace_handler.get_trace()\n",
    "    if name in trace.nodes and trace.nodes[name]['type'] == 'sample':\n",
    "        return trace.nodes[name]['value']\n",
    "    raise KeyError(f'{name} not in trace {trace.nodes}')\n",
    "\n"
   ]
  },
  {
   "cell_type": "code",
   "execution_count": 26,
   "id": "08ba22ad-dd37-43cd-af53-b55ad4e66acb",
   "metadata": {},
   "outputs": [
    {
     "name": "stdout",
     "output_type": "stream",
     "text": [
      "<apply><divide/><apply><times/><ci>&#946;</ci><ci><mml:msub><mml:mi>infected</mml:mi><mml:mi>population</mml:mi></mml:msub></ci><ci><mml:msub><mml:mi>susceptible</mml:mi><mml:mi>population</mml:mi></mml:msub></ci></apply><apply><plus/><ci><mml:msub><mml:mi>immune</mml:mi><mml:mi>population</mml:mi></mml:msub></ci><ci><mml:msub><mml:mi>infected</mml:mi><mml:mi>population</mml:mi></mml:msub></ci><ci><mml:msub><mml:mi>susceptible</mml:mi><mml:mi>population</mml:mi></mml:msub></ci></apply></apply>\n"
     ]
    }
   ],
   "source": [
    "from sympy import symbols, exp\n",
    "from sympy.printing.mathml import mathml\n",
    "\n",
    "I, S, R, beta, gamma = symbols('infected_population susceptible_population immune_population beta gamma')\n",
    "\n",
    "expr = I*S*beta/(S+I+R)\n",
    "mathml_str = mathml(expr)\n",
    "\n",
    "print(mathml_str)\n"
   ]
  },
  {
   "cell_type": "markdown",
   "id": "4fb066c4-6200-4035-a03c-78323520cac5",
   "metadata": {},
   "source": [
    "## Observe half the true population"
   ]
  },
  {
   "cell_type": "code",
   "execution_count": 27,
   "id": "139b5e22-13c8-45b4-b4f6-65f649ee3523",
   "metadata": {},
   "outputs": [
    {
     "data": {
      "text/latex": [
       "$\\displaystyle \\frac{immune_{population}}{2} + \\frac{infected_{population}}{2} + \\frac{susceptible_{population}}{2}$"
      ],
      "text/plain": [
       "immune_population/2 + infected_population/2 + susceptible_population/2"
      ]
     },
     "execution_count": 27,
     "metadata": {},
     "output_type": "execute_result"
    }
   ],
   "source": [
    "from mira.examples.sir import sir_parameterized\n",
    "tm = _d(sir_parameterized)\n",
    "tm.initials\n",
    "symbols = set(tm.initials)\n",
    "expr = sympy.Add(*[sympy.Symbol(s) for s in symbols])\n",
    "tm.observables = {'half_population': Observable(\n",
    "        name='half_population',\n",
    "        expression=SympyExprStr(expr/2))\n",
    "    }\n",
    "\n",
    "tm.observables['half_population'].expression.args[0]"
   ]
  },
  {
   "cell_type": "code",
   "execution_count": 5,
   "id": "1681ad70-8f8d-4c3d-a545-2085c032cead",
   "metadata": {},
   "outputs": [
    {
     "data": {
      "text/plain": [
       "{'susceptible_population': Initial(concept=Concept(name='susceptible_population', display_name=None, description=None, identifiers={'ido': '0000514'}, context={}, units=None), value=1.0),\n",
       " 'infected_population': Initial(concept=Concept(name='infected_population', display_name=None, description=None, identifiers={'ido': '0000511'}, context={}, units=None), value=2.0),\n",
       " 'immune_population': Initial(concept=Concept(name='immune_population', display_name=None, description=None, identifiers={'ido': '0000592'}, context={}, units=None), value=3.0)}"
      ]
     },
     "execution_count": 5,
     "metadata": {},
     "output_type": "execute_result"
    }
   ],
   "source": [
    "tm.initials"
   ]
  },
  {
   "cell_type": "markdown",
   "id": "ae6e6068-0a81-4e23-9727-470372e92191",
   "metadata": {},
   "source": [
    "## Compile the observable expression to pytorch"
   ]
  },
  {
   "cell_type": "code",
   "execution_count": 6,
   "id": "1d9c3058-ad3e-4b24-a22c-00bf086676b5",
   "metadata": {},
   "outputs": [],
   "source": [
    "half_population = SymPyModule(expressions=[observable.expression.args[0] \n",
    "                                           for observable in tm.observables.values()])"
   ]
  },
  {
   "cell_type": "markdown",
   "id": "e1b20fa1-547e-4e8c-99dc-c7f23a1aed30",
   "metadata": {},
   "source": [
    "## Expected observable value"
   ]
  },
  {
   "cell_type": "code",
   "execution_count": 7,
   "id": "14ac884e-70a7-45d1-a944-399bbe1a1119",
   "metadata": {},
   "outputs": [],
   "source": [
    "expected_total_population = dict(\n",
    "    infected_population=torch.tensor(1.0),\n",
    "    immune_population=torch.tensor(0.0),\n",
    "    susceptible_population=torch.tensor(100.0)\n",
    ")\n",
    "\n",
    "expected_half_population = half_population(**expected_total_population)                                \n",
    "assert expected_half_population == torch.tensor([50.5])"
   ]
  },
  {
   "cell_type": "markdown",
   "id": "991ac867-d751-4a2a-92d4-4755b377b9f5",
   "metadata": {},
   "source": [
    "## Generate samples from the template model"
   ]
  },
  {
   "cell_type": "code",
   "execution_count": 8,
   "id": "52a4ec4b-31eb-42ea-94bd-02abc3fcc00e",
   "metadata": {},
   "outputs": [
    {
     "data": {
      "text/plain": [
       "{'half_population': <mira.modeling.ModelObservable at 0x14606da50>}"
      ]
     },
     "execution_count": 8,
     "metadata": {},
     "output_type": "execute_result"
    }
   ],
   "source": [
    "G = mira.modeling.Model(tm)\n",
    "G.observables"
   ]
  },
  {
   "cell_type": "code",
   "execution_count": 9,
   "id": "b577b060-c627-4fd2-b116-8fcc3b550cd4",
   "metadata": {},
   "outputs": [],
   "source": [
    "import torch\n",
    "import pyro\n",
    "num_samples = 2\n",
    "data_path = 'sir_data.csv'\n",
    "#sir_path = '../../test/models/AMR_examples/sir_typed.json'\n",
    "timepoints = [0.1, 0.2, 0.3]\n",
    "raw_sir = load_petri_model(tm, compile_observables_p=True)"
   ]
  },
  {
   "cell_type": "code",
   "execution_count": 10,
   "id": "e5894d8e-321d-4bd4-b987-a8bbfb345c64",
   "metadata": {},
   "outputs": [],
   "source": [
    "def observation_model(solution: Solution, var_name: str) -> None:\n",
    "    pass"
   ]
  },
  {
   "cell_type": "code",
   "execution_count": 11,
   "id": "4491cef4-f903-4228-90e1-3549a643a725",
   "metadata": {},
   "outputs": [
    {
     "data": {
      "text/plain": [
       "{('susceptible_population',\n",
       "  ('identity', 'ido:0000514')): <mira.modeling.Variable at 0x14600f850>,\n",
       " ('infected_population',\n",
       "  ('identity', 'ido:0000511')): <mira.modeling.Variable at 0x14600f280>,\n",
       " ('immune_population',\n",
       "  ('identity', 'ido:0000592')): <mira.modeling.Variable at 0x14606e2f0>}"
      ]
     },
     "execution_count": 11,
     "metadata": {},
     "output_type": "execute_result"
    }
   ],
   "source": [
    "raw_sir.G.variables"
   ]
  },
  {
   "cell_type": "code",
   "execution_count": 12,
   "id": "dea5ba00-12a6-4a17-847c-45a0695eb1df",
   "metadata": {},
   "outputs": [
    {
     "data": {
      "text/plain": [
       "{'beta': tensor([0.0934, 0.1010]),\n",
       " 'gamma': tensor([0.1993, 0.1878]),\n",
       " 'immune_population_sol': tensor([[0.0198, 0.0394, 0.0589],\n",
       "         [0.0187, 0.0372, 0.0556]]),\n",
       " 'infected_population_sol': tensor([[0.9895, 0.9790, 0.9687],\n",
       "         [0.9913, 0.9828, 0.9743]]),\n",
       " 'susceptible_population_sol': tensor([[999.9907, 999.9815, 999.9724],\n",
       "         [999.9899, 999.9799, 999.9699]])}"
      ]
     },
     "execution_count": 12,
     "metadata": {},
     "output_type": "execute_result"
    }
   ],
   "source": [
    "sir = setup_petri_model(raw_sir, 0.0, dict(susceptible_population=1000.0, infected_population=1.0, immune_population=0.0))\n",
    "sir_samples = sample_petri(sir, timepoints , num_samples)\n",
    "sir_samples\n"
   ]
  },
  {
   "cell_type": "code",
   "execution_count": 13,
   "id": "639d857e-fc2c-445f-8772-d169c23746d8",
   "metadata": {},
   "outputs": [
    {
     "data": {
      "text/html": [
       "<div>\n",
       "<style scoped>\n",
       "    .dataframe tbody tr th:only-of-type {\n",
       "        vertical-align: middle;\n",
       "    }\n",
       "\n",
       "    .dataframe tbody tr th {\n",
       "        vertical-align: top;\n",
       "    }\n",
       "\n",
       "    .dataframe thead th {\n",
       "        text-align: right;\n",
       "    }\n",
       "</style>\n",
       "<table border=\"1\" class=\"dataframe\">\n",
       "  <thead>\n",
       "    <tr style=\"text-align: right;\">\n",
       "      <th></th>\n",
       "      <th>timepoint_id</th>\n",
       "      <th>sample_id</th>\n",
       "      <th>beta_param</th>\n",
       "      <th>gamma_param</th>\n",
       "      <th>immune_population_sol</th>\n",
       "      <th>infected_population_sol</th>\n",
       "      <th>susceptible_population_sol</th>\n",
       "      <th>timepoint_(unknown)</th>\n",
       "    </tr>\n",
       "  </thead>\n",
       "  <tbody>\n",
       "    <tr>\n",
       "      <th>0</th>\n",
       "      <td>0</td>\n",
       "      <td>0</td>\n",
       "      <td>0.093445</td>\n",
       "      <td>0.199305</td>\n",
       "      <td>0.019825</td>\n",
       "      <td>0.989461</td>\n",
       "      <td>999.990723</td>\n",
       "      <td>0.1</td>\n",
       "    </tr>\n",
       "    <tr>\n",
       "      <th>1</th>\n",
       "      <td>1</td>\n",
       "      <td>0</td>\n",
       "      <td>0.093445</td>\n",
       "      <td>0.199305</td>\n",
       "      <td>0.039442</td>\n",
       "      <td>0.979032</td>\n",
       "      <td>999.981506</td>\n",
       "      <td>0.2</td>\n",
       "    </tr>\n",
       "    <tr>\n",
       "      <th>2</th>\n",
       "      <td>2</td>\n",
       "      <td>0</td>\n",
       "      <td>0.093445</td>\n",
       "      <td>0.199305</td>\n",
       "      <td>0.058851</td>\n",
       "      <td>0.968714</td>\n",
       "      <td>999.972351</td>\n",
       "      <td>0.3</td>\n",
       "    </tr>\n",
       "    <tr>\n",
       "      <th>3</th>\n",
       "      <td>0</td>\n",
       "      <td>1</td>\n",
       "      <td>0.101037</td>\n",
       "      <td>0.187823</td>\n",
       "      <td>0.018701</td>\n",
       "      <td>0.991349</td>\n",
       "      <td>999.989929</td>\n",
       "      <td>0.1</td>\n",
       "    </tr>\n",
       "    <tr>\n",
       "      <th>4</th>\n",
       "      <td>1</td>\n",
       "      <td>1</td>\n",
       "      <td>0.101037</td>\n",
       "      <td>0.187823</td>\n",
       "      <td>0.037240</td>\n",
       "      <td>0.982773</td>\n",
       "      <td>999.979919</td>\n",
       "      <td>0.2</td>\n",
       "    </tr>\n",
       "    <tr>\n",
       "      <th>5</th>\n",
       "      <td>2</td>\n",
       "      <td>1</td>\n",
       "      <td>0.101037</td>\n",
       "      <td>0.187823</td>\n",
       "      <td>0.055619</td>\n",
       "      <td>0.974270</td>\n",
       "      <td>999.969910</td>\n",
       "      <td>0.3</td>\n",
       "    </tr>\n",
       "  </tbody>\n",
       "</table>\n",
       "</div>"
      ],
      "text/plain": [
       "   timepoint_id  sample_id  beta_param  gamma_param  immune_population_sol  \\\n",
       "0             0          0    0.093445     0.199305               0.019825   \n",
       "1             1          0    0.093445     0.199305               0.039442   \n",
       "2             2          0    0.093445     0.199305               0.058851   \n",
       "3             0          1    0.101037     0.187823               0.018701   \n",
       "4             1          1    0.101037     0.187823               0.037240   \n",
       "5             2          1    0.101037     0.187823               0.055619   \n",
       "\n",
       "   infected_population_sol  susceptible_population_sol  timepoint_(unknown)  \n",
       "0                 0.989461                  999.990723                  0.1  \n",
       "1                 0.979032                  999.981506                  0.2  \n",
       "2                 0.968714                  999.972351                  0.3  \n",
       "3                 0.991349                  999.989929                  0.1  \n",
       "4                 0.982773                  999.979919                  0.2  \n",
       "5                 0.974270                  999.969910                  0.3  "
      ]
     },
     "execution_count": 13,
     "metadata": {},
     "output_type": "execute_result"
    }
   ],
   "source": [
    "sir_sample_df = convert_to_output_format(sir_samples, timepoints)\n",
    "sir_sample_df"
   ]
  },
  {
   "cell_type": "code",
   "execution_count": 14,
   "id": "fbb51d26-be46-4bbe-a5c2-1573b70e2b7b",
   "metadata": {},
   "outputs": [
    {
     "data": {
      "text/html": [
       "<div>\n",
       "<style scoped>\n",
       "    .dataframe tbody tr th:only-of-type {\n",
       "        vertical-align: middle;\n",
       "    }\n",
       "\n",
       "    .dataframe tbody tr th {\n",
       "        vertical-align: top;\n",
       "    }\n",
       "\n",
       "    .dataframe thead th {\n",
       "        text-align: right;\n",
       "    }\n",
       "</style>\n",
       "<table border=\"1\" class=\"dataframe\">\n",
       "  <thead>\n",
       "    <tr style=\"text-align: right;\">\n",
       "      <th></th>\n",
       "      <th></th>\n",
       "      <th>Timestep</th>\n",
       "      <th>immune_population</th>\n",
       "      <th>infected_population</th>\n",
       "      <th>susceptible_population</th>\n",
       "    </tr>\n",
       "    <tr>\n",
       "      <th>timepoint_id</th>\n",
       "      <th>sample_id</th>\n",
       "      <th></th>\n",
       "      <th></th>\n",
       "      <th></th>\n",
       "      <th></th>\n",
       "    </tr>\n",
       "  </thead>\n",
       "  <tbody>\n",
       "    <tr>\n",
       "      <th>0</th>\n",
       "      <th>0</th>\n",
       "      <td>0.1</td>\n",
       "      <td>0.019825</td>\n",
       "      <td>0.989461</td>\n",
       "      <td>999.990723</td>\n",
       "    </tr>\n",
       "    <tr>\n",
       "      <th>1</th>\n",
       "      <th>0</th>\n",
       "      <td>0.2</td>\n",
       "      <td>0.039442</td>\n",
       "      <td>0.979032</td>\n",
       "      <td>999.981506</td>\n",
       "    </tr>\n",
       "    <tr>\n",
       "      <th>2</th>\n",
       "      <th>0</th>\n",
       "      <td>0.3</td>\n",
       "      <td>0.058851</td>\n",
       "      <td>0.968714</td>\n",
       "      <td>999.972351</td>\n",
       "    </tr>\n",
       "  </tbody>\n",
       "</table>\n",
       "</div>"
      ],
      "text/plain": [
       "                        Timestep  immune_population  infected_population  \\\n",
       "timepoint_id sample_id                                                     \n",
       "0            0               0.1           0.019825             0.989461   \n",
       "1            0               0.2           0.039442             0.979032   \n",
       "2            0               0.3           0.058851             0.968714   \n",
       "\n",
       "                        susceptible_population  \n",
       "timepoint_id sample_id                          \n",
       "0            0                      999.990723  \n",
       "1            0                      999.981506  \n",
       "2            0                      999.972351  "
      ]
     },
     "execution_count": 14,
     "metadata": {},
     "output_type": "execute_result"
    }
   ],
   "source": [
    "observations = solutions_to_observations(timepoints, sir_sample_df.set_index(['timepoint_id', 'sample_id']))\n",
    "observations[0]"
   ]
  },
  {
   "cell_type": "code",
   "execution_count": 15,
   "id": "7d44e361-e608-4da4-8b70-3609decb2c1f",
   "metadata": {},
   "outputs": [
    {
     "data": {
      "text/plain": [
       "[(0.1,\n",
       "  {'immune_population': 0.019825272262096405,\n",
       "   'infected_population': 0.9894606471061707,\n",
       "   'susceptible_population': 999.99072265625,\n",
       "   'half_population': 500.50000428780913}),\n",
       " (0.2,\n",
       "  {'immune_population': 0.03944159299135208,\n",
       "   'infected_population': 0.9790322780609131,\n",
       "   'susceptible_population': 999.9815063476562,\n",
       "   'half_population': 500.49999010935426}),\n",
       " (0.3,\n",
       "  {'immune_population': 0.05885117128491402,\n",
       "   'infected_population': 0.9687137007713318,\n",
       "   'susceptible_population': 999.9723510742188,\n",
       "   'half_population': 500.4999579731375})]"
      ]
     },
     "execution_count": 15,
     "metadata": {},
     "output_type": "execute_result"
    }
   ],
   "source": [
    "observations[0].to_csv(data_path, index=False)\n",
    "sir_data = csv_to_list(data_path)\n",
    "for timepoint, data in sir_data:\n",
    "    data['half_population'] = (\n",
    "        data['immune_population'] + data['susceptible_population'] + data['infected_population'])/2\n",
    "sir_data\n",
    "    \n",
    "                      "
   ]
  },
  {
   "cell_type": "code",
   "execution_count": 16,
   "id": "18ee0e72-cc23-4e1e-be7f-0eb8be973e29",
   "metadata": {},
   "outputs": [
    {
     "data": {
      "text/plain": [
       "tensor([])"
      ]
     },
     "execution_count": 16,
     "metadata": {},
     "output_type": "execute_result"
    }
   ],
   "source": [
    "get_sampled_value('infected_population_sol', sir)"
   ]
  },
  {
   "cell_type": "code",
   "execution_count": 17,
   "id": "38008b8c-f4e4-4891-8464-d121d79bf29f",
   "metadata": {},
   "outputs": [
    {
     "name": "stdout",
     "output_type": "stream",
     "text": [
      "immune_population, torch.Size([3])\n",
      "infected_population, torch.Size([3])\n",
      "susceptible_population, torch.Size([3])\n",
      "half_population, torch.Size([3])\n",
      "immune_population, torch.Size([3])\n",
      "infected_population, torch.Size([3])\n",
      "susceptible_population, torch.Size([3])\n",
      "half_population, torch.Size([3])\n",
      "immune_population, torch.Size([3])\n",
      "infected_population, torch.Size([3])\n",
      "susceptible_population, torch.Size([3])\n",
      "half_population, torch.Size([3])\n",
      "immune_population, torch.Size([3])\n",
      "infected_population, torch.Size([3])\n",
      "susceptible_population, torch.Size([3])\n",
      "half_population, torch.Size([3])\n",
      "immune_population, torch.Size([3])\n",
      "infected_population, torch.Size([3])\n",
      "susceptible_population, torch.Size([3])\n",
      "half_population, torch.Size([3])\n",
      "immune_population, torch.Size([3])\n",
      "infected_population, torch.Size([3])\n",
      "susceptible_population, torch.Size([3])\n",
      "half_population, torch.Size([3])\n",
      "immune_population, torch.Size([3])\n",
      "infected_population, torch.Size([3])\n",
      "susceptible_population, torch.Size([3])\n",
      "half_population, torch.Size([3])\n",
      "immune_population, torch.Size([3])\n",
      "infected_population, torch.Size([3])\n",
      "susceptible_population, torch.Size([3])\n",
      "half_population, torch.Size([3])\n",
      "immune_population, torch.Size([3])\n",
      "infected_population, torch.Size([3])\n",
      "susceptible_population, torch.Size([3])\n",
      "half_population, torch.Size([3])\n",
      "immune_population, torch.Size([3])\n",
      "infected_population, torch.Size([3])\n",
      "susceptible_population, torch.Size([3])\n",
      "half_population, torch.Size([3])\n",
      "immune_population, torch.Size([3])\n",
      "infected_population, torch.Size([3])\n",
      "susceptible_population, torch.Size([3])\n",
      "half_population, torch.Size([3])\n"
     ]
    }
   ],
   "source": [
    "inferred_parameters = calibrate(sir, sir_data, num_iterations=10)\n"
   ]
  },
  {
   "cell_type": "code",
   "execution_count": 18,
   "id": "cf1ba701-34cf-4aac-82af-2e89d4076b27",
   "metadata": {},
   "outputs": [],
   "source": [
    "calibrated_samples = sample_petri(sir, timepoints, num_samples, inferred_parameters)"
   ]
  },
  {
   "cell_type": "code",
   "execution_count": 19,
   "id": "23af6034-d0c1-4e6f-965a-f1f6c35854d4",
   "metadata": {},
   "outputs": [
    {
     "data": {
      "text/plain": [
       "{'beta': tensor([0.1001, 0.1005]),\n",
       " 'gamma': tensor([0.2043, 0.2074]),\n",
       " 'immune_population_sol': tensor([[0.0203, 0.0404, 0.0603],\n",
       "         [0.0206, 0.0410, 0.0612]]),\n",
       " 'infected_population_sol': tensor([[0.9896, 0.9794, 0.9692],\n",
       "         [0.9894, 0.9788, 0.9684]]),\n",
       " 'susceptible_population_sol': tensor([[999.9901, 999.9801, 999.9704],\n",
       "         [999.9900, 999.9800, 999.9703]])}"
      ]
     },
     "execution_count": 19,
     "metadata": {},
     "output_type": "execute_result"
    }
   ],
   "source": [
    "calibrated_samples"
   ]
  },
  {
   "cell_type": "code",
   "execution_count": 20,
   "id": "c67bd07c-7383-44ee-a024-c1c4cd7a9c1e",
   "metadata": {},
   "outputs": [
    {
     "data": {
      "text/html": [
       "<div>\n",
       "<style scoped>\n",
       "    .dataframe tbody tr th:only-of-type {\n",
       "        vertical-align: middle;\n",
       "    }\n",
       "\n",
       "    .dataframe tbody tr th {\n",
       "        vertical-align: top;\n",
       "    }\n",
       "\n",
       "    .dataframe thead th {\n",
       "        text-align: right;\n",
       "    }\n",
       "</style>\n",
       "<table border=\"1\" class=\"dataframe\">\n",
       "  <thead>\n",
       "    <tr style=\"text-align: right;\">\n",
       "      <th></th>\n",
       "      <th>timepoint_id</th>\n",
       "      <th>sample_id</th>\n",
       "      <th>beta_param</th>\n",
       "      <th>gamma_param</th>\n",
       "      <th>immune_population_sol</th>\n",
       "      <th>infected_population_sol</th>\n",
       "      <th>susceptible_population_sol</th>\n",
       "      <th>timepoint_(unknown)</th>\n",
       "    </tr>\n",
       "  </thead>\n",
       "  <tbody>\n",
       "    <tr>\n",
       "      <th>0</th>\n",
       "      <td>0</td>\n",
       "      <td>0</td>\n",
       "      <td>0.100149</td>\n",
       "      <td>0.204292</td>\n",
       "      <td>0.020323</td>\n",
       "      <td>0.989630</td>\n",
       "      <td>999.990051</td>\n",
       "      <td>0.1</td>\n",
       "    </tr>\n",
       "    <tr>\n",
       "      <th>1</th>\n",
       "      <td>1</td>\n",
       "      <td>0</td>\n",
       "      <td>0.100149</td>\n",
       "      <td>0.204292</td>\n",
       "      <td>0.040435</td>\n",
       "      <td>0.979367</td>\n",
       "      <td>999.980103</td>\n",
       "      <td>0.2</td>\n",
       "    </tr>\n",
       "    <tr>\n",
       "      <th>2</th>\n",
       "      <td>2</td>\n",
       "      <td>0</td>\n",
       "      <td>0.100149</td>\n",
       "      <td>0.204292</td>\n",
       "      <td>0.060339</td>\n",
       "      <td>0.969211</td>\n",
       "      <td>999.970398</td>\n",
       "      <td>0.3</td>\n",
       "    </tr>\n",
       "    <tr>\n",
       "      <th>3</th>\n",
       "      <td>0</td>\n",
       "      <td>1</td>\n",
       "      <td>0.100506</td>\n",
       "      <td>0.207430</td>\n",
       "      <td>0.020632</td>\n",
       "      <td>0.989355</td>\n",
       "      <td>999.989990</td>\n",
       "      <td>0.1</td>\n",
       "    </tr>\n",
       "    <tr>\n",
       "      <th>4</th>\n",
       "      <td>1</td>\n",
       "      <td>1</td>\n",
       "      <td>0.100506</td>\n",
       "      <td>0.207430</td>\n",
       "      <td>0.041045</td>\n",
       "      <td>0.978823</td>\n",
       "      <td>999.980042</td>\n",
       "      <td>0.2</td>\n",
       "    </tr>\n",
       "    <tr>\n",
       "      <th>5</th>\n",
       "      <td>2</td>\n",
       "      <td>1</td>\n",
       "      <td>0.100506</td>\n",
       "      <td>0.207430</td>\n",
       "      <td>0.061241</td>\n",
       "      <td>0.968402</td>\n",
       "      <td>999.970276</td>\n",
       "      <td>0.3</td>\n",
       "    </tr>\n",
       "  </tbody>\n",
       "</table>\n",
       "</div>"
      ],
      "text/plain": [
       "   timepoint_id  sample_id  beta_param  gamma_param  immune_population_sol  \\\n",
       "0             0          0    0.100149     0.204292               0.020323   \n",
       "1             1          0    0.100149     0.204292               0.040435   \n",
       "2             2          0    0.100149     0.204292               0.060339   \n",
       "3             0          1    0.100506     0.207430               0.020632   \n",
       "4             1          1    0.100506     0.207430               0.041045   \n",
       "5             2          1    0.100506     0.207430               0.061241   \n",
       "\n",
       "   infected_population_sol  susceptible_population_sol  timepoint_(unknown)  \n",
       "0                 0.989630                  999.990051                  0.1  \n",
       "1                 0.979367                  999.980103                  0.2  \n",
       "2                 0.969211                  999.970398                  0.3  \n",
       "3                 0.989355                  999.989990                  0.1  \n",
       "4                 0.978823                  999.980042                  0.2  \n",
       "5                 0.968402                  999.970276                  0.3  "
      ]
     },
     "execution_count": 20,
     "metadata": {},
     "output_type": "execute_result"
    }
   ],
   "source": [
    "convert_to_output_format(calibrated_samples, timepoints)"
   ]
  },
  {
   "cell_type": "markdown",
   "id": "2ab3c62c-9244-4882-8df7-e0509735bb06",
   "metadata": {},
   "source": [
    "## Nonobservable data"
   ]
  },
  {
   "cell_type": "code",
   "execution_count": 21,
   "id": "01741c33-a382-4226-a73c-463752496133",
   "metadata": {},
   "outputs": [
    {
     "data": {
      "text/plain": [
       "[(0.1,\n",
       "  {'immune_population': 0.019825272262096405,\n",
       "   'infected_population': 0.9894606471061707,\n",
       "   'susceptible_population': 999.99072265625,\n",
       "   'definitely_not_half_population': 500.50000428780913}),\n",
       " (0.2,\n",
       "  {'immune_population': 0.03944159299135208,\n",
       "   'infected_population': 0.9790322780609131,\n",
       "   'susceptible_population': 999.9815063476562,\n",
       "   'definitely_not_half_population': 500.49999010935426}),\n",
       " (0.3,\n",
       "  {'immune_population': 0.05885117128491402,\n",
       "   'infected_population': 0.9687137007713318,\n",
       "   'susceptible_population': 999.9723510742188,\n",
       "   'definitely_not_half_population': 500.4999579731375})]"
      ]
     },
     "execution_count": 21,
     "metadata": {},
     "output_type": "execute_result"
    }
   ],
   "source": [
    "sir_data = csv_to_list(data_path)                     \n",
    "for timepoint, data in sir_data:\n",
    "    data['definitely_not_half_population'] = (\n",
    "        data['immune_population'] + data['susceptible_population'] + data['infected_population'])/2\n",
    "sir_data\n",
    "    "
   ]
  },
  {
   "cell_type": "code",
   "execution_count": 28,
   "id": "efebf6de-7f87-4219-b419-d0c641b29041",
   "metadata": {},
   "outputs": [
    {
     "name": "stderr",
     "output_type": "stream",
     "text": [
      "ERROR:root:\n",
      "                ###############################\n",
      "\n",
      "                There was an exception in pyciemss\n",
      "                \n",
      "                Error occured in function: calibrate_petri\n",
      "\n",
      "                Function docs : \n",
      "    Use variational inference with a mean-field variational family to infer the parameters of the model.\n",
      "    \n",
      "\n",
      "                ################################\n",
      "            \n",
      "Traceback (most recent call last):\n",
      "  File \"/Users/zuck016/Projects/Proposals/ASKEM/build/clean-build/src/pyciemss/custom_decorators.py\", line 9, in wrapped\n",
      "    result = function(*args, **kwargs)\n",
      "  File \"/Users/zuck016/Projects/Proposals/ASKEM/build/clean-build/src/pyciemss/PetriNetODE/interfaces.py\", line 709, in calibrate_petri\n",
      "    loss = svi.step(method=method)\n",
      "  File \"/Users/zuck016/.pyenv/versions/clean-build/lib/python3.10/site-packages/pyro/infer/svi.py\", line 145, in step\n",
      "    loss = self.loss_and_grads(self.model, self.guide, *args, **kwargs)\n",
      "  File \"/Users/zuck016/.pyenv/versions/clean-build/lib/python3.10/site-packages/pyro/infer/trace_elbo.py\", line 140, in loss_and_grads\n",
      "    for model_trace, guide_trace in self._get_traces(model, guide, args, kwargs):\n",
      "  File \"/Users/zuck016/.pyenv/versions/clean-build/lib/python3.10/site-packages/pyro/infer/elbo.py\", line 237, in _get_traces\n",
      "    yield self._get_trace(model, guide, args, kwargs)\n",
      "  File \"/Users/zuck016/.pyenv/versions/clean-build/lib/python3.10/site-packages/pyro/infer/trace_elbo.py\", line 57, in _get_trace\n",
      "    model_trace, guide_trace = get_importance_trace(\n",
      "  File \"/Users/zuck016/.pyenv/versions/clean-build/lib/python3.10/site-packages/pyro/infer/enum.py\", line 60, in get_importance_trace\n",
      "    guide_trace = poutine.trace(guide, graph_type=graph_type).get_trace(\n",
      "  File \"/Users/zuck016/.pyenv/versions/clean-build/lib/python3.10/site-packages/pyro/poutine/trace_messenger.py\", line 198, in get_trace\n",
      "    self(*args, **kwargs)\n",
      "  File \"/Users/zuck016/.pyenv/versions/clean-build/lib/python3.10/site-packages/pyro/poutine/trace_messenger.py\", line 174, in __call__\n",
      "    ret = self.fn(*args, **kwargs)\n",
      "  File \"/Users/zuck016/.pyenv/versions/clean-build/lib/python3.10/site-packages/pyro/nn/module.py\", line 449, in __call__\n",
      "    result = super().__call__(*args, **kwargs)\n",
      "  File \"/Users/zuck016/.pyenv/versions/clean-build/lib/python3.10/site-packages/torch/nn/modules/module.py\", line 1501, in _call_impl\n",
      "    return forward_call(*args, **kwargs)\n",
      "  File \"/Users/zuck016/.pyenv/versions/clean-build/lib/python3.10/site-packages/pyro/infer/autoguide/guides.py\", line 759, in forward\n",
      "    self._setup_prototype(*args, **kwargs)\n",
      "  File \"/Users/zuck016/.pyenv/versions/clean-build/lib/python3.10/site-packages/pyro/infer/autoguide/guides.py\", line 999, in _setup_prototype\n",
      "    super()._setup_prototype(*args, **kwargs)\n",
      "  File \"/Users/zuck016/.pyenv/versions/clean-build/lib/python3.10/site-packages/pyro/infer/autoguide/guides.py\", line 636, in _setup_prototype\n",
      "    super()._setup_prototype(*args, **kwargs)\n",
      "  File \"/Users/zuck016/.pyenv/versions/clean-build/lib/python3.10/site-packages/pyro/infer/autoguide/guides.py\", line 157, in _setup_prototype\n",
      "    self.prototype_trace = poutine.block(poutine.trace(model).get_trace)(\n",
      "  File \"/Users/zuck016/.pyenv/versions/clean-build/lib/python3.10/site-packages/pyro/poutine/messenger.py\", line 12, in _context_wrap\n",
      "    return fn(*args, **kwargs)\n",
      "  File \"/Users/zuck016/.pyenv/versions/clean-build/lib/python3.10/site-packages/pyro/poutine/trace_messenger.py\", line 198, in get_trace\n",
      "    self(*args, **kwargs)\n",
      "  File \"/Users/zuck016/.pyenv/versions/clean-build/lib/python3.10/site-packages/pyro/poutine/trace_messenger.py\", line 174, in __call__\n",
      "    ret = self.fn(*args, **kwargs)\n",
      "  File \"/Users/zuck016/.pyenv/versions/clean-build/lib/python3.10/site-packages/pyro/poutine/messenger.py\", line 12, in _context_wrap\n",
      "    return fn(*args, **kwargs)\n",
      "  File \"/Users/zuck016/.pyenv/versions/clean-build/lib/python3.10/site-packages/pyro/poutine/messenger.py\", line 12, in _context_wrap\n",
      "    return fn(*args, **kwargs)\n",
      "  File \"/Users/zuck016/.pyenv/versions/clean-build/lib/python3.10/site-packages/pyro/nn/module.py\", line 449, in __call__\n",
      "    result = super().__call__(*args, **kwargs)\n",
      "  File \"/Users/zuck016/.pyenv/versions/clean-build/lib/python3.10/site-packages/torch/nn/modules/module.py\", line 1501, in _call_impl\n",
      "    return forward_call(*args, **kwargs)\n",
      "  File \"/Users/zuck016/Projects/Proposals/ASKEM/build/clean-build/src/pyciemss/interfaces.py\", line 63, in forward\n",
      "    self.add_observation_likelihoods(solution)\n",
      "  File \"/Users/zuck016/.pyenv/versions/clean-build/lib/python3.10/site-packages/pyro/nn/module.py\", line 686, in cached_fn\n",
      "    return fn(self, *args, **kwargs)\n",
      "  File \"/Users/zuck016/Projects/Proposals/ASKEM/build/clean-build/src/pyciemss/PetriNetODE/base.py\", line 251, in add_observation_likelihoods\n",
      "    observation_model(filtered_solution, var_name)\n",
      "  File \"/Users/zuck016/.pyenv/versions/clean-build/lib/python3.10/site-packages/pyro/nn/module.py\", line 686, in cached_fn\n",
      "    return fn(self, *args, **kwargs)\n",
      "  File \"/Users/zuck016/Projects/Proposals/ASKEM/build/clean-build/src/pyciemss/PetriNetODE/base.py\", line 557, in observation_model\n",
      "    mean = torch.maximum(solution[var_name], torch.tensor(1e-9))\n",
      "KeyError: 'definitely_not_half_population'\n"
     ]
    },
    {
     "name": "stdout",
     "output_type": "stream",
     "text": [
      "immune_population, torch.Size([3])\n",
      "infected_population, torch.Size([3])\n",
      "susceptible_population, torch.Size([3])\n",
      "'definitely_not_half_population'\n"
     ]
    }
   ],
   "source": [
    "try:\n",
    "    inferred_parameters = calibrate(sir, sir_data, num_iterations=10)\n",
    "except KeyError as k:\n",
    "    print(k)"
   ]
  },
  {
   "cell_type": "markdown",
   "id": "e3308812-5edf-4d62-a4e5-6bc44d8fb6bc",
   "metadata": {},
   "source": [
    "## "
   ]
  }
 ],
 "metadata": {
  "kernelspec": {
   "display_name": "clean-build",
   "language": "python",
   "name": "clean-build"
  },
  "language_info": {
   "codemirror_mode": {
    "name": "ipython",
    "version": 3
   },
   "file_extension": ".py",
   "mimetype": "text/x-python",
   "name": "python",
   "nbconvert_exporter": "python",
   "pygments_lexer": "ipython3",
   "version": "3.10.9"
  }
 },
 "nbformat": 4,
 "nbformat_minor": 5
}
