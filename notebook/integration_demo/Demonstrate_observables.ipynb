{
 "cells": [
  {
   "cell_type": "markdown",
   "id": "84225ba1-9f70-41ec-81af-9d98cea4cb05",
   "metadata": {},
   "source": [
    "# Demonstrate observables"
   ]
  },
  {
   "cell_type": "code",
   "execution_count": 1,
   "id": "63104f2b-0d63-4076-ad1c-ba0f2087fbad",
   "metadata": {},
   "outputs": [],
   "source": [
    "import mira\n",
    "from mira.metamodel import Observable, SympyExprStr\n",
    "from mira.modeling import ModelObservable\n",
    "import sympy\n",
    "import torch\n",
    "from copy import deepcopy as _d\n",
    "from mira.metamodel.ops import stratify\n",
    "from sympytorch import SymPyModule\n",
    "from pyciemss.PetriNetODE.interfaces import (\n",
    "    load_petri_model,\n",
    "    setup_petri_model,\n",
    "    sample_petri,\n",
    "    calibrate,\n",
    "    load_and_sample_petri_model,\n",
    "    load_and_calibrate_and_sample_petri_model, \n",
    ")\n",
    "from pyciemss.Ensemble.interfaces import (\n",
    "    load_and_sample_petri_ensemble\n",
    ")\n",
    "import pandas as pd\n",
    "from pyciemss.utils.interface_utils import convert_to_output_format, csv_to_list, solutions_to_observations\n",
    "from typing import Dict, List \n",
    "\n",
    "Solution = Dict[str, torch.tensor]"
   ]
  },
  {
   "cell_type": "code",
   "execution_count": 2,
   "id": "31735e14-7ad5-4821-bcbf-b9f6c2f151a1",
   "metadata": {},
   "outputs": [],
   "source": [
    "def get_sampled_value(name, model):\n",
    "    trace_handler = pyro.poutine.trace(model)\n",
    "    trace = trace_handler.get_trace()\n",
    "    if name in trace.nodes and trace.nodes[name]['type'] == 'sample':\n",
    "        return trace.nodes[name]['value']\n",
    "    raise KeyError(f'{name} not in trace {trace.nodes}')\n",
    "\n"
   ]
  },
  {
   "cell_type": "code",
   "execution_count": 3,
   "id": "08ba22ad-dd37-43cd-af53-b55ad4e66acb",
   "metadata": {},
   "outputs": [
    {
     "name": "stdout",
     "output_type": "stream",
     "text": [
      "<apply><divide/><apply><times/><ci>I</ci><ci>S</ci><ci>&#946;</ci></apply><apply><plus/><ci>I</ci><ci>R</ci><ci>S</ci></apply></apply>\n"
     ]
    }
   ],
   "source": [
    "from sympy import symbols, exp\n",
    "from sympy.printing.mathml import mathml\n",
    "\n",
    "I, S, R, beta, gamma = symbols('I S R beta gamma')\n",
    "\n",
    "expr = I*S*beta/(S+I+R)\n",
    "mathml_str = mathml(expr)\n",
    "\n",
    "print(mathml_str)\n"
   ]
  },
  {
   "cell_type": "markdown",
   "id": "4fb066c4-6200-4035-a03c-78323520cac5",
   "metadata": {},
   "source": [
    "## Observe half the true population"
   ]
  },
  {
   "cell_type": "code",
   "execution_count": 4,
   "id": "139b5e22-13c8-45b4-b4f6-65f649ee3523",
   "metadata": {},
   "outputs": [
    {
     "data": {
      "text/latex": [
       "$\\displaystyle \\frac{immune_{population}}{2} + \\frac{infected_{population}}{2} + \\frac{susceptible_{population}}{2}$"
      ],
      "text/plain": [
       "immune_population/2 + infected_population/2 + susceptible_population/2"
      ]
     },
     "execution_count": 4,
     "metadata": {},
     "output_type": "execute_result"
    }
   ],
   "source": [
    "from mira.examples.sir import sir_parameterized\n",
    "tm = _d(sir_parameterized)\n",
    "tm.initials\n",
    "symbols = set(tm.initials)\n",
    "expr = sympy.Add(*[sympy.Symbol(s) for s in symbols])\n",
    "tm.observables = {'half_population': Observable(\n",
    "        name='half_population',\n",
    "        expression=SympyExprStr(expr/2))\n",
    "    }\n",
    "\n",
    "tm.observables['half_population'].expression.args[0]"
   ]
  },
  {
   "cell_type": "code",
   "execution_count": 5,
   "id": "1681ad70-8f8d-4c3d-a545-2085c032cead",
   "metadata": {},
   "outputs": [
    {
     "data": {
      "text/plain": [
       "{'susceptible_population': Initial(concept=Concept(name='susceptible_population', display_name=None, description=None, identifiers={'ido': '0000514'}, context={}, units=None), value=1.0),\n",
       " 'infected_population': Initial(concept=Concept(name='infected_population', display_name=None, description=None, identifiers={'ido': '0000511'}, context={}, units=None), value=2.0),\n",
       " 'immune_population': Initial(concept=Concept(name='immune_population', display_name=None, description=None, identifiers={'ido': '0000592'}, context={}, units=None), value=3.0)}"
      ]
     },
     "execution_count": 5,
     "metadata": {},
     "output_type": "execute_result"
    }
   ],
   "source": [
    "tm.initials"
   ]
  },
  {
   "cell_type": "markdown",
   "id": "ae6e6068-0a81-4e23-9727-470372e92191",
   "metadata": {},
   "source": [
    "## Compile the observable expression to pytorch"
   ]
  },
  {
   "cell_type": "code",
   "execution_count": 6,
   "id": "1d9c3058-ad3e-4b24-a22c-00bf086676b5",
   "metadata": {},
   "outputs": [],
   "source": [
    "half_population = SymPyModule(expressions=[observable.expression.args[0] \n",
    "                                           for observable in tm.observables.values()])"
   ]
  },
  {
   "cell_type": "markdown",
   "id": "e1b20fa1-547e-4e8c-99dc-c7f23a1aed30",
   "metadata": {},
   "source": [
    "## Expected observable value"
   ]
  },
  {
   "cell_type": "code",
   "execution_count": 7,
   "id": "14ac884e-70a7-45d1-a944-399bbe1a1119",
   "metadata": {},
   "outputs": [],
   "source": [
    "expected_total_population = dict(\n",
    "    infected_population=torch.tensor(1.0),\n",
    "    immune_population=torch.tensor(0.0),\n",
    "    susceptible_population=torch.tensor(100.0)\n",
    ")\n",
    "\n",
    "expected_half_population = half_population(**expected_total_population)                                \n",
    "assert expected_half_population == torch.tensor([50.5])"
   ]
  },
  {
   "cell_type": "markdown",
   "id": "991ac867-d751-4a2a-92d4-4755b377b9f5",
   "metadata": {},
   "source": [
    "## Generate samples from the template model"
   ]
  },
  {
   "cell_type": "code",
   "execution_count": 8,
   "id": "52a4ec4b-31eb-42ea-94bd-02abc3fcc00e",
   "metadata": {},
   "outputs": [
    {
     "data": {
      "text/plain": [
       "{'half_population': <mira.modeling.ModelObservable at 0x158189c90>}"
      ]
     },
     "execution_count": 8,
     "metadata": {},
     "output_type": "execute_result"
    }
   ],
   "source": [
    "G = mira.modeling.Model(tm)\n",
    "G.observables"
   ]
  },
  {
   "cell_type": "code",
   "execution_count": 9,
   "id": "b577b060-c627-4fd2-b116-8fcc3b550cd4",
   "metadata": {},
   "outputs": [],
   "source": [
    "import torch\n",
    "import pyro\n",
    "num_samples = 2\n",
    "data_path = 'sir_data.csv'\n",
    "#sir_path = '../../test/models/AMR_examples/sir_typed.json'\n",
    "timepoints = [0.1, 0.2, 0.3]\n",
    "raw_sir = load_petri_model(tm, compile_observables_p=True)"
   ]
  },
  {
   "cell_type": "code",
   "execution_count": 10,
   "id": "e5894d8e-321d-4bd4-b987-a8bbfb345c64",
   "metadata": {},
   "outputs": [],
   "source": [
    "def observation_model(solution: Solution, var_name: str) -> None:\n",
    "    pass"
   ]
  },
  {
   "cell_type": "code",
   "execution_count": 11,
   "id": "4491cef4-f903-4228-90e1-3549a643a725",
   "metadata": {},
   "outputs": [
    {
     "data": {
      "text/plain": [
       "{('susceptible_population',\n",
       "  ('identity', 'ido:0000514')): <mira.modeling.Variable at 0x158189b70>,\n",
       " ('infected_population',\n",
       "  ('identity', 'ido:0000511')): <mira.modeling.Variable at 0x15818bc70>,\n",
       " ('immune_population',\n",
       "  ('identity', 'ido:0000592')): <mira.modeling.Variable at 0x1581fc280>}"
      ]
     },
     "execution_count": 11,
     "metadata": {},
     "output_type": "execute_result"
    }
   ],
   "source": [
    "raw_sir.G.variables"
   ]
  },
  {
   "cell_type": "code",
   "execution_count": 12,
   "id": "dea5ba00-12a6-4a17-847c-45a0695eb1df",
   "metadata": {},
   "outputs": [
    {
     "data": {
      "text/plain": [
       "{'beta': tensor([0.0978, 0.1035]),\n",
       " 'gamma': tensor([0.1866, 0.2067]),\n",
       " 'immune_population_sol': tensor([[0.0186, 0.0370, 0.0553],\n",
       "         [0.0206, 0.0409, 0.0611]]),\n",
       " 'infected_population_sol': tensor([[0.9911, 0.9824, 0.9737],\n",
       "         [0.9897, 0.9796, 0.9695]]),\n",
       " 'susceptible_population_sol': tensor([[999.9902, 999.9807, 999.9711],\n",
       "         [999.9897, 999.9794, 999.9683]])}"
      ]
     },
     "execution_count": 12,
     "metadata": {},
     "output_type": "execute_result"
    }
   ],
   "source": [
    "sir = setup_petri_model(raw_sir, 0.0, dict(susceptible_population=1000.0, infected_population=1.0, immune_population=0.0))\n",
    "sir_samples = sample_petri(sir, timepoints , num_samples)\n",
    "sir_samples\n"
   ]
  },
  {
   "cell_type": "code",
   "execution_count": 13,
   "id": "639d857e-fc2c-445f-8772-d169c23746d8",
   "metadata": {},
   "outputs": [
    {
     "data": {
      "text/html": [
       "<div>\n",
       "<style scoped>\n",
       "    .dataframe tbody tr th:only-of-type {\n",
       "        vertical-align: middle;\n",
       "    }\n",
       "\n",
       "    .dataframe tbody tr th {\n",
       "        vertical-align: top;\n",
       "    }\n",
       "\n",
       "    .dataframe thead th {\n",
       "        text-align: right;\n",
       "    }\n",
       "</style>\n",
       "<table border=\"1\" class=\"dataframe\">\n",
       "  <thead>\n",
       "    <tr style=\"text-align: right;\">\n",
       "      <th></th>\n",
       "      <th>timepoint_id</th>\n",
       "      <th>sample_id</th>\n",
       "      <th>beta_param</th>\n",
       "      <th>gamma_param</th>\n",
       "      <th>immune_population_sol</th>\n",
       "      <th>infected_population_sol</th>\n",
       "      <th>susceptible_population_sol</th>\n",
       "      <th>timepoint_(unknown)</th>\n",
       "    </tr>\n",
       "  </thead>\n",
       "  <tbody>\n",
       "    <tr>\n",
       "      <th>0</th>\n",
       "      <td>0</td>\n",
       "      <td>0</td>\n",
       "      <td>0.097803</td>\n",
       "      <td>0.186643</td>\n",
       "      <td>0.018582</td>\n",
       "      <td>0.991145</td>\n",
       "      <td>999.990173</td>\n",
       "      <td>0.1</td>\n",
       "    </tr>\n",
       "    <tr>\n",
       "      <th>1</th>\n",
       "      <td>1</td>\n",
       "      <td>0</td>\n",
       "      <td>0.097803</td>\n",
       "      <td>0.186643</td>\n",
       "      <td>0.036999</td>\n",
       "      <td>0.982370</td>\n",
       "      <td>999.980652</td>\n",
       "      <td>0.2</td>\n",
       "    </tr>\n",
       "    <tr>\n",
       "      <th>2</th>\n",
       "      <td>2</td>\n",
       "      <td>0</td>\n",
       "      <td>0.097803</td>\n",
       "      <td>0.186643</td>\n",
       "      <td>0.055253</td>\n",
       "      <td>0.973672</td>\n",
       "      <td>999.971069</td>\n",
       "      <td>0.3</td>\n",
       "    </tr>\n",
       "    <tr>\n",
       "      <th>3</th>\n",
       "      <td>0</td>\n",
       "      <td>1</td>\n",
       "      <td>0.103537</td>\n",
       "      <td>0.206742</td>\n",
       "      <td>0.020568</td>\n",
       "      <td>0.989722</td>\n",
       "      <td>999.989685</td>\n",
       "      <td>0.1</td>\n",
       "    </tr>\n",
       "    <tr>\n",
       "      <th>4</th>\n",
       "      <td>1</td>\n",
       "      <td>1</td>\n",
       "      <td>0.103537</td>\n",
       "      <td>0.206742</td>\n",
       "      <td>0.040924</td>\n",
       "      <td>0.979550</td>\n",
       "      <td>999.979370</td>\n",
       "      <td>0.2</td>\n",
       "    </tr>\n",
       "    <tr>\n",
       "      <th>5</th>\n",
       "      <td>2</td>\n",
       "      <td>1</td>\n",
       "      <td>0.103537</td>\n",
       "      <td>0.206742</td>\n",
       "      <td>0.061071</td>\n",
       "      <td>0.969481</td>\n",
       "      <td>999.968323</td>\n",
       "      <td>0.3</td>\n",
       "    </tr>\n",
       "  </tbody>\n",
       "</table>\n",
       "</div>"
      ],
      "text/plain": [
       "   timepoint_id  sample_id  beta_param  gamma_param  immune_population_sol  \\\n",
       "0             0          0    0.097803     0.186643               0.018582   \n",
       "1             1          0    0.097803     0.186643               0.036999   \n",
       "2             2          0    0.097803     0.186643               0.055253   \n",
       "3             0          1    0.103537     0.206742               0.020568   \n",
       "4             1          1    0.103537     0.206742               0.040924   \n",
       "5             2          1    0.103537     0.206742               0.061071   \n",
       "\n",
       "   infected_population_sol  susceptible_population_sol  timepoint_(unknown)  \n",
       "0                 0.991145                  999.990173                  0.1  \n",
       "1                 0.982370                  999.980652                  0.2  \n",
       "2                 0.973672                  999.971069                  0.3  \n",
       "3                 0.989722                  999.989685                  0.1  \n",
       "4                 0.979550                  999.979370                  0.2  \n",
       "5                 0.969481                  999.968323                  0.3  "
      ]
     },
     "execution_count": 13,
     "metadata": {},
     "output_type": "execute_result"
    }
   ],
   "source": [
    "sir_sample_df = convert_to_output_format(sir_samples, timepoints)\n",
    "sir_sample_df"
   ]
  },
  {
   "cell_type": "code",
   "execution_count": 14,
   "id": "fbb51d26-be46-4bbe-a5c2-1573b70e2b7b",
   "metadata": {},
   "outputs": [
    {
     "data": {
      "text/html": [
       "<div>\n",
       "<style scoped>\n",
       "    .dataframe tbody tr th:only-of-type {\n",
       "        vertical-align: middle;\n",
       "    }\n",
       "\n",
       "    .dataframe tbody tr th {\n",
       "        vertical-align: top;\n",
       "    }\n",
       "\n",
       "    .dataframe thead th {\n",
       "        text-align: right;\n",
       "    }\n",
       "</style>\n",
       "<table border=\"1\" class=\"dataframe\">\n",
       "  <thead>\n",
       "    <tr style=\"text-align: right;\">\n",
       "      <th></th>\n",
       "      <th></th>\n",
       "      <th>Timestep</th>\n",
       "      <th>immune_population</th>\n",
       "      <th>infected_population</th>\n",
       "      <th>susceptible_population</th>\n",
       "    </tr>\n",
       "    <tr>\n",
       "      <th>timepoint_id</th>\n",
       "      <th>sample_id</th>\n",
       "      <th></th>\n",
       "      <th></th>\n",
       "      <th></th>\n",
       "      <th></th>\n",
       "    </tr>\n",
       "  </thead>\n",
       "  <tbody>\n",
       "    <tr>\n",
       "      <th>0</th>\n",
       "      <th>0</th>\n",
       "      <td>0.1</td>\n",
       "      <td>0.018582</td>\n",
       "      <td>0.991145</td>\n",
       "      <td>999.990173</td>\n",
       "    </tr>\n",
       "    <tr>\n",
       "      <th>1</th>\n",
       "      <th>0</th>\n",
       "      <td>0.2</td>\n",
       "      <td>0.036999</td>\n",
       "      <td>0.982370</td>\n",
       "      <td>999.980652</td>\n",
       "    </tr>\n",
       "    <tr>\n",
       "      <th>2</th>\n",
       "      <th>0</th>\n",
       "      <td>0.3</td>\n",
       "      <td>0.055253</td>\n",
       "      <td>0.973672</td>\n",
       "      <td>999.971069</td>\n",
       "    </tr>\n",
       "  </tbody>\n",
       "</table>\n",
       "</div>"
      ],
      "text/plain": [
       "                        Timestep  immune_population  infected_population  \\\n",
       "timepoint_id sample_id                                                     \n",
       "0            0               0.1           0.018582             0.991145   \n",
       "1            0               0.2           0.036999             0.982370   \n",
       "2            0               0.3           0.055253             0.973672   \n",
       "\n",
       "                        susceptible_population  \n",
       "timepoint_id sample_id                          \n",
       "0            0                      999.990173  \n",
       "1            0                      999.980652  \n",
       "2            0                      999.971069  "
      ]
     },
     "execution_count": 14,
     "metadata": {},
     "output_type": "execute_result"
    }
   ],
   "source": [
    "observations = solutions_to_observations(timepoints, sir_sample_df.set_index(['timepoint_id', 'sample_id']))\n",
    "observations[0]"
   ]
  },
  {
   "cell_type": "code",
   "execution_count": 15,
   "id": "7d44e361-e608-4da4-8b70-3609decb2c1f",
   "metadata": {},
   "outputs": [
    {
     "data": {
      "text/plain": [
       "[(0.1,\n",
       "  {'immune_population': 0.01858154684305191,\n",
       "   'infected_population': 0.9911453723907471,\n",
       "   'susceptible_population': 999.9901733398438,\n",
       "   'half_population': 500.4999501295388}),\n",
       " (0.2,\n",
       "  {'immune_population': 0.036998581141233444,\n",
       "   'infected_population': 0.982369601726532,\n",
       "   'susceptible_population': 999.9806518554688,\n",
       "   'half_population': 500.50001001916826}),\n",
       " (0.3,\n",
       "  {'immune_population': 0.05525253713130951,\n",
       "   'infected_population': 0.9736716151237488,\n",
       "   'susceptible_population': 999.9710693359375,\n",
       "   'half_population': 500.4999967440963})]"
      ]
     },
     "execution_count": 15,
     "metadata": {},
     "output_type": "execute_result"
    }
   ],
   "source": [
    "observations[0].to_csv(data_path, index=False)\n",
    "sir_data = csv_to_list(data_path)\n",
    "for timepoint, data in sir_data:\n",
    "    data['half_population'] = (\n",
    "        data['immune_population'] + data['susceptible_population'] + data['infected_population'])/2\n",
    "sir_data\n",
    "    \n",
    "                      "
   ]
  },
  {
   "cell_type": "code",
   "execution_count": 16,
   "id": "18ee0e72-cc23-4e1e-be7f-0eb8be973e29",
   "metadata": {},
   "outputs": [
    {
     "data": {
      "text/plain": [
       "tensor([])"
      ]
     },
     "execution_count": 16,
     "metadata": {},
     "output_type": "execute_result"
    }
   ],
   "source": [
    "get_sampled_value('infected_population_sol', sir)"
   ]
  },
  {
   "cell_type": "code",
   "execution_count": 17,
   "id": "38008b8c-f4e4-4891-8464-d121d79bf29f",
   "metadata": {},
   "outputs": [
    {
     "name": "stdout",
     "output_type": "stream",
     "text": [
      "immune_population, torch.Size([3])\n",
      "infected_population, torch.Size([3])\n",
      "susceptible_population, torch.Size([3])\n",
      "half_population, torch.Size([3])\n",
      "immune_population, torch.Size([3])\n",
      "infected_population, torch.Size([3])\n",
      "susceptible_population, torch.Size([3])\n",
      "half_population, torch.Size([3])\n",
      "immune_population, torch.Size([3])\n",
      "infected_population, torch.Size([3])\n",
      "susceptible_population, torch.Size([3])\n",
      "half_population, torch.Size([3])\n",
      "immune_population, torch.Size([3])\n",
      "infected_population, torch.Size([3])\n",
      "susceptible_population, torch.Size([3])\n",
      "half_population, torch.Size([3])\n",
      "immune_population, torch.Size([3])\n",
      "infected_population, torch.Size([3])\n",
      "susceptible_population, torch.Size([3])\n",
      "half_population, torch.Size([3])\n",
      "immune_population, torch.Size([3])\n",
      "infected_population, torch.Size([3])\n",
      "susceptible_population, torch.Size([3])\n",
      "half_population, torch.Size([3])\n",
      "immune_population, torch.Size([3])\n",
      "infected_population, torch.Size([3])\n",
      "susceptible_population, torch.Size([3])\n",
      "half_population, torch.Size([3])\n",
      "immune_population, torch.Size([3])\n",
      "infected_population, torch.Size([3])\n",
      "susceptible_population, torch.Size([3])\n",
      "half_population, torch.Size([3])\n",
      "immune_population, torch.Size([3])\n",
      "infected_population, torch.Size([3])\n",
      "susceptible_population, torch.Size([3])\n",
      "half_population, torch.Size([3])\n",
      "immune_population, torch.Size([3])\n",
      "infected_population, torch.Size([3])\n",
      "susceptible_population, torch.Size([3])\n",
      "half_population, torch.Size([3])\n",
      "immune_population, torch.Size([3])\n",
      "infected_population, torch.Size([3])\n",
      "susceptible_population, torch.Size([3])\n",
      "half_population, torch.Size([3])\n"
     ]
    }
   ],
   "source": [
    "inferred_parameters = calibrate(sir, sir_data, num_iterations=10)\n"
   ]
  },
  {
   "cell_type": "code",
   "execution_count": 18,
   "id": "cf1ba701-34cf-4aac-82af-2e89d4076b27",
   "metadata": {},
   "outputs": [],
   "source": [
    "calibrated_samples = sample_petri(sir, timepoints, num_samples, inferred_parameters)"
   ]
  },
  {
   "cell_type": "code",
   "execution_count": 19,
   "id": "23af6034-d0c1-4e6f-965a-f1f6c35854d4",
   "metadata": {},
   "outputs": [
    {
     "data": {
      "text/plain": [
       "{'beta': tensor([0.0994, 0.1013]),\n",
       " 'gamma': tensor([0.1945, 0.1967]),\n",
       " 'immune_population_sol': tensor([[0.0194, 0.0385, 0.0575],\n",
       "         [0.0196, 0.0390, 0.0582]]),\n",
       " 'infected_population_sol': tensor([[0.9905, 0.9811, 0.9718],\n",
       "         [0.9905, 0.9811, 0.9718]]),\n",
       " 'susceptible_population_sol': tensor([[999.9902, 999.9793, 999.9706],\n",
       "         [999.9899, 999.9794, 999.9702]])}"
      ]
     },
     "execution_count": 19,
     "metadata": {},
     "output_type": "execute_result"
    }
   ],
   "source": [
    "calibrated_samples"
   ]
  },
  {
   "cell_type": "code",
   "execution_count": 20,
   "id": "c67bd07c-7383-44ee-a024-c1c4cd7a9c1e",
   "metadata": {},
   "outputs": [
    {
     "data": {
      "text/html": [
       "<div>\n",
       "<style scoped>\n",
       "    .dataframe tbody tr th:only-of-type {\n",
       "        vertical-align: middle;\n",
       "    }\n",
       "\n",
       "    .dataframe tbody tr th {\n",
       "        vertical-align: top;\n",
       "    }\n",
       "\n",
       "    .dataframe thead th {\n",
       "        text-align: right;\n",
       "    }\n",
       "</style>\n",
       "<table border=\"1\" class=\"dataframe\">\n",
       "  <thead>\n",
       "    <tr style=\"text-align: right;\">\n",
       "      <th></th>\n",
       "      <th>timepoint_id</th>\n",
       "      <th>sample_id</th>\n",
       "      <th>beta_param</th>\n",
       "      <th>gamma_param</th>\n",
       "      <th>immune_population_sol</th>\n",
       "      <th>infected_population_sol</th>\n",
       "      <th>susceptible_population_sol</th>\n",
       "      <th>timepoint_(unknown)</th>\n",
       "    </tr>\n",
       "  </thead>\n",
       "  <tbody>\n",
       "    <tr>\n",
       "      <th>0</th>\n",
       "      <td>0</td>\n",
       "      <td>0</td>\n",
       "      <td>0.099411</td>\n",
       "      <td>0.194494</td>\n",
       "      <td>0.019357</td>\n",
       "      <td>0.990527</td>\n",
       "      <td>999.990173</td>\n",
       "      <td>0.1</td>\n",
       "    </tr>\n",
       "    <tr>\n",
       "      <th>1</th>\n",
       "      <td>1</td>\n",
       "      <td>0</td>\n",
       "      <td>0.099411</td>\n",
       "      <td>0.194494</td>\n",
       "      <td>0.038531</td>\n",
       "      <td>0.981143</td>\n",
       "      <td>999.979309</td>\n",
       "      <td>0.2</td>\n",
       "    </tr>\n",
       "    <tr>\n",
       "      <th>2</th>\n",
       "      <td>2</td>\n",
       "      <td>0</td>\n",
       "      <td>0.099411</td>\n",
       "      <td>0.194494</td>\n",
       "      <td>0.057523</td>\n",
       "      <td>0.971849</td>\n",
       "      <td>999.970581</td>\n",
       "      <td>0.3</td>\n",
       "    </tr>\n",
       "    <tr>\n",
       "      <th>3</th>\n",
       "      <td>0</td>\n",
       "      <td>1</td>\n",
       "      <td>0.101340</td>\n",
       "      <td>0.196656</td>\n",
       "      <td>0.019572</td>\n",
       "      <td>0.990504</td>\n",
       "      <td>999.989929</td>\n",
       "      <td>0.1</td>\n",
       "    </tr>\n",
       "    <tr>\n",
       "      <th>4</th>\n",
       "      <td>1</td>\n",
       "      <td>1</td>\n",
       "      <td>0.101340</td>\n",
       "      <td>0.196656</td>\n",
       "      <td>0.038958</td>\n",
       "      <td>0.981098</td>\n",
       "      <td>999.979431</td>\n",
       "      <td>0.2</td>\n",
       "    </tr>\n",
       "    <tr>\n",
       "      <th>5</th>\n",
       "      <td>2</td>\n",
       "      <td>1</td>\n",
       "      <td>0.101340</td>\n",
       "      <td>0.196656</td>\n",
       "      <td>0.058160</td>\n",
       "      <td>0.971780</td>\n",
       "      <td>999.970154</td>\n",
       "      <td>0.3</td>\n",
       "    </tr>\n",
       "  </tbody>\n",
       "</table>\n",
       "</div>"
      ],
      "text/plain": [
       "   timepoint_id  sample_id  beta_param  gamma_param  immune_population_sol  \\\n",
       "0             0          0    0.099411     0.194494               0.019357   \n",
       "1             1          0    0.099411     0.194494               0.038531   \n",
       "2             2          0    0.099411     0.194494               0.057523   \n",
       "3             0          1    0.101340     0.196656               0.019572   \n",
       "4             1          1    0.101340     0.196656               0.038958   \n",
       "5             2          1    0.101340     0.196656               0.058160   \n",
       "\n",
       "   infected_population_sol  susceptible_population_sol  timepoint_(unknown)  \n",
       "0                 0.990527                  999.990173                  0.1  \n",
       "1                 0.981143                  999.979309                  0.2  \n",
       "2                 0.971849                  999.970581                  0.3  \n",
       "3                 0.990504                  999.989929                  0.1  \n",
       "4                 0.981098                  999.979431                  0.2  \n",
       "5                 0.971780                  999.970154                  0.3  "
      ]
     },
     "execution_count": 20,
     "metadata": {},
     "output_type": "execute_result"
    }
   ],
   "source": [
    "convert_to_output_format(calibrated_samples, timepoints)"
   ]
  }
 ],
 "metadata": {
  "kernelspec": {
   "display_name": "clean-build",
   "language": "python",
   "name": "clean-build"
  },
  "language_info": {
   "codemirror_mode": {
    "name": "ipython",
    "version": 3
   },
   "file_extension": ".py",
   "mimetype": "text/x-python",
   "name": "python",
   "nbconvert_exporter": "python",
   "pygments_lexer": "ipython3",
   "version": "3.10.9"
  }
 },
 "nbformat": 4,
 "nbformat_minor": 5
}
