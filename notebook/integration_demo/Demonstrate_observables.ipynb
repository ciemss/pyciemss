{
 "cells": [
  {
   "cell_type": "markdown",
   "id": "84225ba1-9f70-41ec-81af-9d98cea4cb05",
   "metadata": {},
   "source": [
    "# Demonstrate observables"
   ]
  },
  {
   "cell_type": "code",
   "execution_count": 1,
   "id": "63104f2b-0d63-4076-ad1c-ba0f2087fbad",
   "metadata": {},
   "outputs": [
    {
     "ename": "TypeError",
     "evalue": "Too few parameters for typing.Dict; actual 1, expected 2",
     "output_type": "error",
     "traceback": [
      "\u001b[0;31m---------------------------------------------------------------------------\u001b[0m",
      "\u001b[0;31mTypeError\u001b[0m                                 Traceback (most recent call last)",
      "Cell \u001b[0;32mIn[1], line 8\u001b[0m\n\u001b[1;32m      6\u001b[0m \u001b[38;5;28;01mfrom\u001b[39;00m \u001b[38;5;21;01mmira\u001b[39;00m\u001b[38;5;21;01m.\u001b[39;00m\u001b[38;5;21;01mmetamodel\u001b[39;00m\u001b[38;5;21;01m.\u001b[39;00m\u001b[38;5;21;01mops\u001b[39;00m \u001b[38;5;28;01mimport\u001b[39;00m stratify\n\u001b[1;32m      7\u001b[0m \u001b[38;5;28;01mfrom\u001b[39;00m \u001b[38;5;21;01msympytorch\u001b[39;00m \u001b[38;5;28;01mimport\u001b[39;00m SymPyModule\n\u001b[0;32m----> 8\u001b[0m \u001b[38;5;28;01mfrom\u001b[39;00m \u001b[38;5;21;01mpyciemss\u001b[39;00m\u001b[38;5;21;01m.\u001b[39;00m\u001b[38;5;21;01mPetriNetODE\u001b[39;00m\u001b[38;5;21;01m.\u001b[39;00m\u001b[38;5;21;01minterfaces\u001b[39;00m \u001b[38;5;28;01mimport\u001b[39;00m (\n\u001b[1;32m      9\u001b[0m     load_petri_model,\n\u001b[1;32m     10\u001b[0m     setup_petri_model,\n\u001b[1;32m     11\u001b[0m     sample_petri,\n\u001b[1;32m     12\u001b[0m     calibrate,\n\u001b[1;32m     13\u001b[0m     load_and_sample_petri_model,\n\u001b[1;32m     14\u001b[0m     load_and_calibrate_and_sample_petri_model, \n\u001b[1;32m     15\u001b[0m )\n\u001b[1;32m     16\u001b[0m \u001b[38;5;28;01mfrom\u001b[39;00m \u001b[38;5;21;01mpyciemss\u001b[39;00m\u001b[38;5;21;01m.\u001b[39;00m\u001b[38;5;21;01mEnsemble\u001b[39;00m\u001b[38;5;21;01m.\u001b[39;00m\u001b[38;5;21;01minterfaces\u001b[39;00m \u001b[38;5;28;01mimport\u001b[39;00m (\n\u001b[1;32m     17\u001b[0m     load_and_sample_petri_ensemble\n\u001b[1;32m     18\u001b[0m )\n\u001b[1;32m     19\u001b[0m \u001b[38;5;28;01mimport\u001b[39;00m \u001b[38;5;21;01mpandas\u001b[39;00m \u001b[38;5;28;01mas\u001b[39;00m \u001b[38;5;21;01mpd\u001b[39;00m\n",
      "File \u001b[0;32m~/Projects/Proposals/ASKEM/build/clean-build/src/pyciemss/PetriNetODE/interfaces.py:14\u001b[0m\n\u001b[1;32m     12\u001b[0m \u001b[38;5;28;01mfrom\u001b[39;00m \u001b[38;5;21;01mpyciemss\u001b[39;00m\u001b[38;5;21;01m.\u001b[39;00m\u001b[38;5;21;01mrisk\u001b[39;00m\u001b[38;5;21;01m.\u001b[39;00m\u001b[38;5;21;01mrisk_measures\u001b[39;00m \u001b[38;5;28;01mimport\u001b[39;00m alpha_superquantile\n\u001b[1;32m     13\u001b[0m \u001b[38;5;28;01mimport\u001b[39;00m \u001b[38;5;21;01mpyciemss\u001b[39;00m\u001b[38;5;21;01m.\u001b[39;00m\u001b[38;5;21;01mrisk\u001b[39;00m\u001b[38;5;21;01m.\u001b[39;00m\u001b[38;5;21;01mqoi\u001b[39;00m\n\u001b[0;32m---> 14\u001b[0m \u001b[38;5;28;01mfrom\u001b[39;00m \u001b[38;5;21;01mpyciemss\u001b[39;00m\u001b[38;5;21;01m.\u001b[39;00m\u001b[38;5;21;01mutils\u001b[39;00m\u001b[38;5;21;01m.\u001b[39;00m\u001b[38;5;21;01minterface_utils\u001b[39;00m \u001b[38;5;28;01mimport\u001b[39;00m convert_to_output_format, csv_to_list\n\u001b[1;32m     15\u001b[0m \u001b[38;5;28;01mfrom\u001b[39;00m \u001b[38;5;21;01mpyciemss\u001b[39;00m\u001b[38;5;21;01m.\u001b[39;00m\u001b[38;5;21;01mvisuals\u001b[39;00m \u001b[38;5;28;01mimport\u001b[39;00m plots\n\u001b[1;32m     17\u001b[0m \u001b[38;5;28;01mimport\u001b[39;00m \u001b[38;5;21;01mtime\u001b[39;00m\n",
      "File \u001b[0;32m~/Projects/Proposals/ASKEM/build/clean-build/src/pyciemss/utils/interface_utils.py:162\u001b[0m\n\u001b[1;32m    158\u001b[0m                 result[param]\u001b[38;5;241m.\u001b[39mappend(values[i])\n\u001b[1;32m    159\u001b[0m     \u001b[38;5;28;01mreturn\u001b[39;00m result\n\u001b[0;32m--> 162\u001b[0m \u001b[38;5;28;01mdef\u001b[39;00m \u001b[38;5;21msolutions_to_observations\u001b[39m(timepoints: Iterable, df: pd\u001b[38;5;241m.\u001b[39mDataFrame) \u001b[38;5;241m-\u001b[39m\u001b[38;5;241m>\u001b[39m \u001b[43mDict\u001b[49m\u001b[43m[\u001b[49m\u001b[43mpd\u001b[49m\u001b[38;5;241;43m.\u001b[39;49m\u001b[43mDataFrame\u001b[49m\u001b[43m]\u001b[49m:\n\u001b[1;32m    163\u001b[0m \u001b[38;5;250m    \u001b[39m\u001b[38;5;124;03m\"\"\"Convert pyciemss outputs to data observations.\"\"\"\u001b[39;00m\n\u001b[1;32m    164\u001b[0m     \u001b[38;5;66;03m# Use groupby to create separate DataFrames\u001b[39;00m\n",
      "File \u001b[0;32m~/.pyenv/versions/3.10.9/lib/python3.10/typing.py:312\u001b[0m, in \u001b[0;36m_tp_cache.<locals>.decorator.<locals>.inner\u001b[0;34m(*args, **kwds)\u001b[0m\n\u001b[1;32m    310\u001b[0m \u001b[38;5;28;01mexcept\u001b[39;00m \u001b[38;5;167;01mTypeError\u001b[39;00m:\n\u001b[1;32m    311\u001b[0m     \u001b[38;5;28;01mpass\u001b[39;00m  \u001b[38;5;66;03m# All real errors (not unhashable args) are raised below.\u001b[39;00m\n\u001b[0;32m--> 312\u001b[0m \u001b[38;5;28;01mreturn\u001b[39;00m \u001b[43mfunc\u001b[49m\u001b[43m(\u001b[49m\u001b[38;5;241;43m*\u001b[39;49m\u001b[43margs\u001b[49m\u001b[43m,\u001b[49m\u001b[43m \u001b[49m\u001b[38;5;241;43m*\u001b[39;49m\u001b[38;5;241;43m*\u001b[39;49m\u001b[43mkwds\u001b[49m\u001b[43m)\u001b[49m\n",
      "File \u001b[0;32m~/.pyenv/versions/3.10.9/lib/python3.10/typing.py:1144\u001b[0m, in \u001b[0;36m_SpecialGenericAlias.__getitem__\u001b[0;34m(self, params)\u001b[0m\n\u001b[1;32m   1142\u001b[0m msg \u001b[38;5;241m=\u001b[39m \u001b[38;5;124m\"\u001b[39m\u001b[38;5;124mParameters to generic types must be types.\u001b[39m\u001b[38;5;124m\"\u001b[39m\n\u001b[1;32m   1143\u001b[0m params \u001b[38;5;241m=\u001b[39m \u001b[38;5;28mtuple\u001b[39m(_type_check(p, msg) \u001b[38;5;28;01mfor\u001b[39;00m p \u001b[38;5;129;01min\u001b[39;00m params)\n\u001b[0;32m-> 1144\u001b[0m \u001b[43m_check_generic\u001b[49m\u001b[43m(\u001b[49m\u001b[38;5;28;43mself\u001b[39;49m\u001b[43m,\u001b[49m\u001b[43m \u001b[49m\u001b[43mparams\u001b[49m\u001b[43m,\u001b[49m\u001b[43m \u001b[49m\u001b[38;5;28;43mself\u001b[39;49m\u001b[38;5;241;43m.\u001b[39;49m\u001b[43m_nparams\u001b[49m\u001b[43m)\u001b[49m\n\u001b[1;32m   1145\u001b[0m \u001b[38;5;28;01mreturn\u001b[39;00m \u001b[38;5;28mself\u001b[39m\u001b[38;5;241m.\u001b[39mcopy_with(params)\n",
      "File \u001b[0;32m~/.pyenv/versions/clean-build/lib/python3.10/site-packages/typing_extensions.py:164\u001b[0m, in \u001b[0;36m_check_generic\u001b[0;34m(cls, parameters, elen)\u001b[0m\n\u001b[1;32m    162\u001b[0m     \u001b[38;5;28;01mif\u001b[39;00m (num_tv_tuples \u001b[38;5;241m>\u001b[39m \u001b[38;5;241m0\u001b[39m) \u001b[38;5;129;01mand\u001b[39;00m (alen \u001b[38;5;241m>\u001b[39m\u001b[38;5;241m=\u001b[39m elen \u001b[38;5;241m-\u001b[39m num_tv_tuples):\n\u001b[1;32m    163\u001b[0m         \u001b[38;5;28;01mreturn\u001b[39;00m\n\u001b[0;32m--> 164\u001b[0m \u001b[38;5;28;01mraise\u001b[39;00m \u001b[38;5;167;01mTypeError\u001b[39;00m(\u001b[38;5;124mf\u001b[39m\u001b[38;5;124m\"\u001b[39m\u001b[38;5;124mToo \u001b[39m\u001b[38;5;132;01m{\u001b[39;00m\u001b[38;5;124m'\u001b[39m\u001b[38;5;124mmany\u001b[39m\u001b[38;5;124m'\u001b[39m\u001b[38;5;250m \u001b[39m\u001b[38;5;28;01mif\u001b[39;00m\u001b[38;5;250m \u001b[39malen\u001b[38;5;250m \u001b[39m\u001b[38;5;241m>\u001b[39m\u001b[38;5;250m \u001b[39melen\u001b[38;5;250m \u001b[39m\u001b[38;5;28;01melse\u001b[39;00m\u001b[38;5;250m \u001b[39m\u001b[38;5;124m'\u001b[39m\u001b[38;5;124mfew\u001b[39m\u001b[38;5;124m'\u001b[39m\u001b[38;5;132;01m}\u001b[39;00m\u001b[38;5;124m parameters for \u001b[39m\u001b[38;5;132;01m{\u001b[39;00m\u001b[38;5;28mcls\u001b[39m\u001b[38;5;132;01m}\u001b[39;00m\u001b[38;5;124m;\u001b[39m\u001b[38;5;124m\"\u001b[39m\n\u001b[1;32m    165\u001b[0m                 \u001b[38;5;124mf\u001b[39m\u001b[38;5;124m\"\u001b[39m\u001b[38;5;124m actual \u001b[39m\u001b[38;5;132;01m{\u001b[39;00malen\u001b[38;5;132;01m}\u001b[39;00m\u001b[38;5;124m, expected \u001b[39m\u001b[38;5;132;01m{\u001b[39;00melen\u001b[38;5;132;01m}\u001b[39;00m\u001b[38;5;124m\"\u001b[39m)\n",
      "\u001b[0;31mTypeError\u001b[0m: Too few parameters for typing.Dict; actual 1, expected 2"
     ]
    }
   ],
   "source": [
    "import mira\n",
    "from mira.metamodel import Observable, SympyExprStr\n",
    "import sympy\n",
    "import torch\n",
    "from copy import deepcopy as _d\n",
    "from mira.metamodel.ops import stratify\n",
    "from sympytorch import SymPyModule\n",
    "from pyciemss.PetriNetODE.interfaces import (\n",
    "    load_petri_model,\n",
    "    setup_petri_model,\n",
    "    sample_petri,\n",
    "    calibrate,\n",
    "    load_and_sample_petri_model,\n",
    "    load_and_calibrate_and_sample_petri_model, \n",
    ")\n",
    "from pyciemss.Ensemble.interfaces import (\n",
    "    load_and_sample_petri_ensemble\n",
    ")\n",
    "import pandas as pd\n",
    "from pyciemss.utils.interface_utils import convert_to_output_format, csv_to_list, solutions_to_observations\n",
    "from typing import Dict, List \n",
    "\n",
    "Solution = Dict[str, torch.tensor]"
   ]
  },
  {
   "cell_type": "code",
   "execution_count": 99,
   "id": "31735e14-7ad5-4821-bcbf-b9f6c2f151a1",
   "metadata": {},
   "outputs": [],
   "source": [
    "def get_sampled_value(name, model):\n",
    "    trace_handler = pyro.poutine.trace(model)\n",
    "    trace = trace_handler.get_trace()\n",
    "    if name in trace.nodes and trace.nodes[name]['type'] == 'sample':\n",
    "        return trace.nodes[name]['value']\n",
    "    raise KeyError(f'{name} not in trace {trace.nodes}')\n",
    "\n"
   ]
  },
  {
   "cell_type": "code",
   "execution_count": 2,
   "id": "08ba22ad-dd37-43cd-af53-b55ad4e66acb",
   "metadata": {},
   "outputs": [
    {
     "name": "stdout",
     "output_type": "stream",
     "text": [
      "<apply><divide/><apply><times/><ci>I</ci><ci>S</ci><ci>&#946;</ci></apply><apply><plus/><ci>I</ci><ci>R</ci><ci>S</ci></apply></apply>\n"
     ]
    }
   ],
   "source": [
    "from sympy import symbols, exp\n",
    "from sympy.printing.mathml import mathml\n",
    "\n",
    "I, S, R, beta, gamma = symbols('I S R beta gamma')\n",
    "\n",
    "expr = I*S*beta/(S+I+R)\n",
    "mathml_str = mathml(expr)\n",
    "\n",
    "print(mathml_str)\n"
   ]
  },
  {
   "cell_type": "code",
   "execution_count": 75,
   "id": "ed42d8ae-e6ca-4f06-ae6c-59d0abceb64c",
   "metadata": {},
   "outputs": [
    {
     "data": {
      "text/plain": [
       "[['Timestep', 'Timestep', 'I', 'R']]"
      ]
     },
     "execution_count": 75,
     "metadata": {},
     "output_type": "execute_result"
    }
   ],
   "source": [
    "[['Timestep'] + [c for c in sir_observations[0].columns[:-1]]]"
   ]
  },
  {
   "cell_type": "markdown",
   "id": "4fb066c4-6200-4035-a03c-78323520cac5",
   "metadata": {},
   "source": [
    "## Observe half the true population"
   ]
  },
  {
   "cell_type": "code",
   "execution_count": 23,
   "id": "139b5e22-13c8-45b4-b4f6-65f649ee3523",
   "metadata": {},
   "outputs": [
    {
     "data": {
      "text/latex": [
       "$\\displaystyle \\frac{immune_{population}}{2} + \\frac{infected_{population}}{2} + \\frac{susceptible_{population}}{2}$"
      ],
      "text/plain": [
       "immune_population/2 + infected_population/2 + susceptible_population/2"
      ]
     },
     "execution_count": 23,
     "metadata": {},
     "output_type": "execute_result"
    }
   ],
   "source": [
    "from mira.examples.sir import sir_parameterized\n",
    "tm = _d(sir_parameterized)\n",
    "tm.initials\n",
    "symbols = set(tm.initials)\n",
    "expr = sympy.Add(*[sympy.Symbol(s) for s in symbols])\n",
    "tm.observables = {'half_population': Observable(\n",
    "        name='half_population',\n",
    "        expression=SympyExprStr(expr/2))\n",
    "    }\n",
    "\n",
    "tm.observables['half_population'].expression.args[0]"
   ]
  },
  {
   "cell_type": "code",
   "execution_count": 27,
   "id": "1681ad70-8f8d-4c3d-a545-2085c032cead",
   "metadata": {},
   "outputs": [
    {
     "data": {
      "text/plain": [
       "{'susceptible_population': Initial(concept=Concept(name='susceptible_population', display_name=None, description=None, identifiers={'ido': '0000514'}, context={}, units=None), value=1.0),\n",
       " 'infected_population': Initial(concept=Concept(name='infected_population', display_name=None, description=None, identifiers={'ido': '0000511'}, context={}, units=None), value=2.0),\n",
       " 'immune_population': Initial(concept=Concept(name='immune_population', display_name=None, description=None, identifiers={'ido': '0000592'}, context={}, units=None), value=3.0)}"
      ]
     },
     "execution_count": 27,
     "metadata": {},
     "output_type": "execute_result"
    }
   ],
   "source": [
    "tm.initials"
   ]
  },
  {
   "cell_type": "markdown",
   "id": "ae6e6068-0a81-4e23-9727-470372e92191",
   "metadata": {},
   "source": [
    "## Compile the observable expression to pytorch"
   ]
  },
  {
   "cell_type": "code",
   "execution_count": 30,
   "id": "1d9c3058-ad3e-4b24-a22c-00bf086676b5",
   "metadata": {},
   "outputs": [],
   "source": [
    "half_population = SymPyModule(expressions=[observable.expression.args[0] \n",
    "                                           for observable in tm.observables.values()])"
   ]
  },
  {
   "cell_type": "markdown",
   "id": "e1b20fa1-547e-4e8c-99dc-c7f23a1aed30",
   "metadata": {},
   "source": [
    "## Expected observable value"
   ]
  },
  {
   "cell_type": "code",
   "execution_count": 32,
   "id": "14ac884e-70a7-45d1-a944-399bbe1a1119",
   "metadata": {},
   "outputs": [],
   "source": [
    "expected_total_population = dict(\n",
    "    infected_population=torch.tensor(1.0),\n",
    "    immune_population=torch.tensor(0.0),\n",
    "    susceptible_population=torch.tensor(100.0)\n",
    ")\n",
    "\n",
    "expected_half_population = half_population(**expected_total_population)                                \n",
    "assert expected_half_population == "
   ]
  },
  {
   "cell_type": "code",
   "execution_count": 91,
   "id": "b577b060-c627-4fd2-b116-8fcc3b550cd4",
   "metadata": {},
   "outputs": [],
   "source": [
    "import torch\n",
    "import pyro\n",
    "num_samples = 2\n",
    "data_path = 'sir_data.csv'\n",
    "sir_path = '../../test/models/AMR_examples/sir_typed.json'\n",
    "timepoints = [0.1, 0.2, 0.3]\n",
    "raw_sir = load_petri_model(sir_path)"
   ]
  },
  {
   "cell_type": "code",
   "execution_count": null,
   "id": "e5894d8e-321d-4bd4-b987-a8bbfb345c64",
   "metadata": {},
   "outputs": [],
   "source": [
    "def observation_model(solution: Solution, var_name: str) -> None:"
   ]
  },
  {
   "cell_type": "code",
   "execution_count": 92,
   "id": "dea5ba00-12a6-4a17-847c-45a0695eb1df",
   "metadata": {},
   "outputs": [
    {
     "data": {
      "text/plain": [
       "[(0.1,\n",
       "  {'I': 13.228653907775879, 'R': 0.05393034219741821, 'S': 987.7174682617188}),\n",
       " (0.2,\n",
       "  {'I': 152.05438232421875, 'R': 0.7183064222335815, 'S': 848.227783203125}),\n",
       " (0.3,\n",
       "  {'I': 701.5635986328125, 'R': 5.340606212615967, 'S': 294.0958557128906})]"
      ]
     },
     "execution_count": 92,
     "metadata": {},
     "output_type": "execute_result"
    }
   ],
   "source": [
    "sir = setup_petri_model(raw_sir, 0.0, dict(S=1000.0, I=1.0, R=0.0))\n",
    "sir_samples = sample_petri(sir, timepoints , num_samples)\n",
    "sir_samples\n",
    "sir_data = csv_to_list(data_path)\n",
    "sir_data"
   ]
  },
  {
   "cell_type": "code",
   "execution_count": 106,
   "id": "18ee0e72-cc23-4e1e-be7f-0eb8be973e29",
   "metadata": {},
   "outputs": [
    {
     "data": {
      "text/plain": [
       "tensor([])"
      ]
     },
     "execution_count": 106,
     "metadata": {},
     "output_type": "execute_result"
    }
   ],
   "source": [
    "get_sampled_value('I_sol', sir)"
   ]
  },
  {
   "cell_type": "code",
   "execution_count": 93,
   "id": "38008b8c-f4e4-4891-8464-d121d79bf29f",
   "metadata": {},
   "outputs": [],
   "source": [
    "inferred_parameters = calibrate(sir, sir_data, num_iterations=10)\n"
   ]
  },
  {
   "cell_type": "code",
   "execution_count": 95,
   "id": "cf1ba701-34cf-4aac-82af-2e89d4076b27",
   "metadata": {},
   "outputs": [],
   "source": [
    "calibrated_samples = sample_petri(sir, timepoints, num_samples, inferred_parameters)"
   ]
  },
  {
   "cell_type": "code",
   "execution_count": 96,
   "id": "23af6034-d0c1-4e6f-965a-f1f6c35854d4",
   "metadata": {},
   "outputs": [
    {
     "data": {
      "text/plain": [
       "{'beta': tensor([0.0270, 0.0269]),\n",
       " 'gamma': tensor([0.1341, 0.1364]),\n",
       " 'I_sol': tensor([[0.9893, 0.9788, 0.9684],\n",
       "         [0.9891, 0.9783, 0.9677]]),\n",
       " 'R_sol': tensor([[0.0133, 0.0265, 0.0396],\n",
       "         [0.0136, 0.0270, 0.0403]]),\n",
       " 'S_sol': tensor([[999.9982, 999.9947, 999.9920],\n",
       "         [999.9974, 999.9937, 999.9921]])}"
      ]
     },
     "execution_count": 96,
     "metadata": {},
     "output_type": "execute_result"
    }
   ],
   "source": [
    "calibrated_samples"
   ]
  },
  {
   "cell_type": "code",
   "execution_count": null,
   "id": "c67bd07c-7383-44ee-a024-c1c4cd7a9c1e",
   "metadata": {},
   "outputs": [],
   "source": [
    "convert_to_output_format(calibrated_samples, timepoints, "
   ]
  },
  {
   "cell_type": "code",
   "execution_count": 57,
   "id": "666f95f8-836e-43c4-bf64-8e95e67f6664",
   "metadata": {},
   "outputs": [
    {
     "data": {
      "text/html": [
       "<div>\n",
       "<style scoped>\n",
       "    .dataframe tbody tr th:only-of-type {\n",
       "        vertical-align: middle;\n",
       "    }\n",
       "\n",
       "    .dataframe tbody tr th {\n",
       "        vertical-align: top;\n",
       "    }\n",
       "\n",
       "    .dataframe thead th {\n",
       "        text-align: right;\n",
       "    }\n",
       "</style>\n",
       "<table border=\"1\" class=\"dataframe\">\n",
       "  <thead>\n",
       "    <tr style=\"text-align: right;\">\n",
       "      <th></th>\n",
       "      <th>timepoint_id</th>\n",
       "      <th>sample_id</th>\n",
       "      <th>beta_param</th>\n",
       "      <th>gamma_param</th>\n",
       "      <th>I_sol</th>\n",
       "      <th>R_sol</th>\n",
       "      <th>S_sol</th>\n",
       "    </tr>\n",
       "  </thead>\n",
       "  <tbody>\n",
       "    <tr>\n",
       "      <th>0</th>\n",
       "      <td>0</td>\n",
       "      <td>0</td>\n",
       "      <td>0.026035</td>\n",
       "      <td>0.113613</td>\n",
       "      <td>13.228654</td>\n",
       "      <td>0.053930</td>\n",
       "      <td>987.717468</td>\n",
       "    </tr>\n",
       "    <tr>\n",
       "      <th>1</th>\n",
       "      <td>1</td>\n",
       "      <td>0</td>\n",
       "      <td>0.026035</td>\n",
       "      <td>0.113613</td>\n",
       "      <td>152.054382</td>\n",
       "      <td>0.718306</td>\n",
       "      <td>848.227783</td>\n",
       "    </tr>\n",
       "    <tr>\n",
       "      <th>2</th>\n",
       "      <td>2</td>\n",
       "      <td>0</td>\n",
       "      <td>0.026035</td>\n",
       "      <td>0.113613</td>\n",
       "      <td>701.563599</td>\n",
       "      <td>5.340606</td>\n",
       "      <td>294.095856</td>\n",
       "    </tr>\n",
       "    <tr>\n",
       "      <th>3</th>\n",
       "      <td>0</td>\n",
       "      <td>1</td>\n",
       "      <td>0.026090</td>\n",
       "      <td>0.122108</td>\n",
       "      <td>13.289371</td>\n",
       "      <td>0.058149</td>\n",
       "      <td>987.652710</td>\n",
       "    </tr>\n",
       "    <tr>\n",
       "      <th>4</th>\n",
       "      <td>1</td>\n",
       "      <td>1</td>\n",
       "      <td>0.026090</td>\n",
       "      <td>0.122108</td>\n",
       "      <td>153.239944</td>\n",
       "      <td>0.777267</td>\n",
       "      <td>846.982788</td>\n",
       "    </tr>\n",
       "    <tr>\n",
       "      <th>5</th>\n",
       "      <td>2</td>\n",
       "      <td>1</td>\n",
       "      <td>0.026090</td>\n",
       "      <td>0.122108</td>\n",
       "      <td>704.013794</td>\n",
       "      <td>5.773987</td>\n",
       "      <td>291.212341</td>\n",
       "    </tr>\n",
       "  </tbody>\n",
       "</table>\n",
       "</div>"
      ],
      "text/plain": [
       "   timepoint_id  sample_id  beta_param  gamma_param       I_sol     R_sol  \\\n",
       "0             0          0    0.026035     0.113613   13.228654  0.053930   \n",
       "1             1          0    0.026035     0.113613  152.054382  0.718306   \n",
       "2             2          0    0.026035     0.113613  701.563599  5.340606   \n",
       "3             0          1    0.026090     0.122108   13.289371  0.058149   \n",
       "4             1          1    0.026090     0.122108  153.239944  0.777267   \n",
       "5             2          1    0.026090     0.122108  704.013794  5.773987   \n",
       "\n",
       "        S_sol  \n",
       "0  987.717468  \n",
       "1  848.227783  \n",
       "2  294.095856  \n",
       "3  987.652710  \n",
       "4  846.982788  \n",
       "5  291.212341  "
      ]
     },
     "execution_count": 57,
     "metadata": {},
     "output_type": "execute_result"
    }
   ],
   "source": [
    "calibrated_samples2 = load_and_sample_petri_model(sir_path, num_samples, timepoints)\n",
    "sir_samples2"
   ]
  },
  {
   "cell_type": "code",
   "execution_count": 79,
   "id": "9244e297-1c8c-4698-86fb-4884c11eb718",
   "metadata": {},
   "outputs": [],
   "source": [
    "sir_observations = outputs_to_observations(timepoints, sir_samples2.set_index(['timepoint_id', 'sample_id']))\n",
    "sir_observations[0].to_csv(data_path, index=False)"
   ]
  },
  {
   "cell_type": "code",
   "execution_count": 80,
   "id": "3b648e60-7375-4b22-adc6-cc0ad04f192f",
   "metadata": {},
   "outputs": [
    {
     "data": {
      "text/html": [
       "<div>\n",
       "<style scoped>\n",
       "    .dataframe tbody tr th:only-of-type {\n",
       "        vertical-align: middle;\n",
       "    }\n",
       "\n",
       "    .dataframe tbody tr th {\n",
       "        vertical-align: top;\n",
       "    }\n",
       "\n",
       "    .dataframe thead th {\n",
       "        text-align: right;\n",
       "    }\n",
       "</style>\n",
       "<table border=\"1\" class=\"dataframe\">\n",
       "  <thead>\n",
       "    <tr style=\"text-align: right;\">\n",
       "      <th></th>\n",
       "      <th>Timestep</th>\n",
       "      <th>I</th>\n",
       "      <th>R</th>\n",
       "      <th>S</th>\n",
       "    </tr>\n",
       "  </thead>\n",
       "  <tbody>\n",
       "    <tr>\n",
       "      <th>0</th>\n",
       "      <td>0.1</td>\n",
       "      <td>13.228654</td>\n",
       "      <td>0.053930</td>\n",
       "      <td>987.717468</td>\n",
       "    </tr>\n",
       "    <tr>\n",
       "      <th>1</th>\n",
       "      <td>0.2</td>\n",
       "      <td>152.054382</td>\n",
       "      <td>0.718306</td>\n",
       "      <td>848.227783</td>\n",
       "    </tr>\n",
       "    <tr>\n",
       "      <th>2</th>\n",
       "      <td>0.3</td>\n",
       "      <td>701.563599</td>\n",
       "      <td>5.340606</td>\n",
       "      <td>294.095856</td>\n",
       "    </tr>\n",
       "  </tbody>\n",
       "</table>\n",
       "</div>"
      ],
      "text/plain": [
       "   Timestep           I         R           S\n",
       "0       0.1   13.228654  0.053930  987.717468\n",
       "1       0.2  152.054382  0.718306  848.227783\n",
       "2       0.3  701.563599  5.340606  294.095856"
      ]
     },
     "execution_count": 80,
     "metadata": {},
     "output_type": "execute_result"
    }
   ],
   "source": [
    "sir_observations_0 = pd.read_csv(data_path)\n",
    "sir_observations_0"
   ]
  },
  {
   "cell_type": "code",
   "execution_count": null,
   "id": "f8ab0f36-88b8-43fa-aacb-64178232bc28",
   "metadata": {},
   "outputs": [],
   "source": []
  },
  {
   "cell_type": "code",
   "execution_count": 82,
   "id": "02982f12-ded7-4bf3-99ef-0d8c6bced0bc",
   "metadata": {},
   "outputs": [],
   "source": [
    "calibrated_sir_0 = load_and_calibrate_and_sample_petri_model(\n",
    "    sir_path, data_path, num_samples, timepoints, num_iterations=10)"
   ]
  },
  {
   "cell_type": "code",
   "execution_count": 83,
   "id": "511bec91-8edf-446a-b76a-1364be22b139",
   "metadata": {},
   "outputs": [
    {
     "data": {
      "text/html": [
       "<div>\n",
       "<style scoped>\n",
       "    .dataframe tbody tr th:only-of-type {\n",
       "        vertical-align: middle;\n",
       "    }\n",
       "\n",
       "    .dataframe tbody tr th {\n",
       "        vertical-align: top;\n",
       "    }\n",
       "\n",
       "    .dataframe thead th {\n",
       "        text-align: right;\n",
       "    }\n",
       "</style>\n",
       "<table border=\"1\" class=\"dataframe\">\n",
       "  <thead>\n",
       "    <tr style=\"text-align: right;\">\n",
       "      <th></th>\n",
       "      <th>timepoint_id</th>\n",
       "      <th>sample_id</th>\n",
       "      <th>beta_param</th>\n",
       "      <th>gamma_param</th>\n",
       "      <th>I_sol</th>\n",
       "      <th>R_sol</th>\n",
       "      <th>S_sol</th>\n",
       "    </tr>\n",
       "  </thead>\n",
       "  <tbody>\n",
       "    <tr>\n",
       "      <th>0</th>\n",
       "      <td>0</td>\n",
       "      <td>0</td>\n",
       "      <td>0.027059</td>\n",
       "      <td>0.131313</td>\n",
       "      <td>14.609334</td>\n",
       "      <td>0.066826</td>\n",
       "      <td>986.323792</td>\n",
       "    </tr>\n",
       "    <tr>\n",
       "      <th>1</th>\n",
       "      <td>1</td>\n",
       "      <td>0</td>\n",
       "      <td>0.027059</td>\n",
       "      <td>0.131313</td>\n",
       "      <td>179.796600</td>\n",
       "      <td>0.961613</td>\n",
       "      <td>820.242126</td>\n",
       "    </tr>\n",
       "    <tr>\n",
       "      <th>2</th>\n",
       "      <td>2</td>\n",
       "      <td>0</td>\n",
       "      <td>0.027059</td>\n",
       "      <td>0.131313</td>\n",
       "      <td>758.326843</td>\n",
       "      <td>7.014094</td>\n",
       "      <td>235.659134</td>\n",
       "    </tr>\n",
       "    <tr>\n",
       "      <th>3</th>\n",
       "      <td>0</td>\n",
       "      <td>1</td>\n",
       "      <td>0.026856</td>\n",
       "      <td>0.128114</td>\n",
       "      <td>14.323705</td>\n",
       "      <td>0.064298</td>\n",
       "      <td>986.612000</td>\n",
       "    </tr>\n",
       "    <tr>\n",
       "      <th>4</th>\n",
       "      <td>1</td>\n",
       "      <td>1</td>\n",
       "      <td>0.026856</td>\n",
       "      <td>0.128114</td>\n",
       "      <td>173.978394</td>\n",
       "      <td>0.911287</td>\n",
       "      <td>826.110229</td>\n",
       "    </tr>\n",
       "    <tr>\n",
       "      <th>5</th>\n",
       "      <td>2</td>\n",
       "      <td>1</td>\n",
       "      <td>0.026856</td>\n",
       "      <td>0.128114</td>\n",
       "      <td>747.708374</td>\n",
       "      <td>6.678317</td>\n",
       "      <td>246.613327</td>\n",
       "    </tr>\n",
       "  </tbody>\n",
       "</table>\n",
       "</div>"
      ],
      "text/plain": [
       "   timepoint_id  sample_id  beta_param  gamma_param       I_sol     R_sol  \\\n",
       "0             0          0    0.027059     0.131313   14.609334  0.066826   \n",
       "1             1          0    0.027059     0.131313  179.796600  0.961613   \n",
       "2             2          0    0.027059     0.131313  758.326843  7.014094   \n",
       "3             0          1    0.026856     0.128114   14.323705  0.064298   \n",
       "4             1          1    0.026856     0.128114  173.978394  0.911287   \n",
       "5             2          1    0.026856     0.128114  747.708374  6.678317   \n",
       "\n",
       "        S_sol  \n",
       "0  986.323792  \n",
       "1  820.242126  \n",
       "2  235.659134  \n",
       "3  986.612000  \n",
       "4  826.110229  \n",
       "5  246.613327  "
      ]
     },
     "execution_count": 83,
     "metadata": {},
     "output_type": "execute_result"
    }
   ],
   "source": [
    "calibrated_sir_0"
   ]
  },
  {
   "cell_type": "code",
   "execution_count": 20,
   "id": "fcaf029e-2426-4e8c-af85-1581ddf29818",
   "metadata": {},
   "outputs": [
    {
     "data": {
      "text/plain": [
       "TemplateModel(templates=[ControlledConversion(rate_law=beta_0_0*infected_population_o*susceptible_population_o, type='ControlledConversion', controller=Concept(name='infected_population_o', display_name=None, description=None, identifiers={'ido': '0000511'}, context={'age': 'o'}, units=None), subject=Concept(name='susceptible_population_o', display_name=None, description=None, identifiers={'ido': '0000514'}, context={'age': 'o'}, units=None), outcome=Concept(name='infected_population_o', display_name=None, description=None, identifiers={'ido': '0000511'}, context={'age': 'o'}, units=None), provenance=[]), ControlledConversion(rate_law=beta_0_1*infected_population_y*susceptible_population_o, type='ControlledConversion', controller=Concept(name='infected_population_y', display_name=None, description=None, identifiers={'ido': '0000511'}, context={'age': 'y'}, units=None), subject=Concept(name='susceptible_population_o', display_name=None, description=None, identifiers={'ido': '0000514'}, context={'age': 'o'}, units=None), outcome=Concept(name='infected_population_o', display_name=None, description=None, identifiers={'ido': '0000511'}, context={'age': 'o'}, units=None), provenance=[]), ControlledConversion(rate_law=beta_0_2*infected_population_y*susceptible_population_y, type='ControlledConversion', controller=Concept(name='infected_population_y', display_name=None, description=None, identifiers={'ido': '0000511'}, context={'age': 'y'}, units=None), subject=Concept(name='susceptible_population_y', display_name=None, description=None, identifiers={'ido': '0000514'}, context={'age': 'y'}, units=None), outcome=Concept(name='infected_population_y', display_name=None, description=None, identifiers={'ido': '0000511'}, context={'age': 'y'}, units=None), provenance=[]), ControlledConversion(rate_law=beta_0_3*infected_population_y*susceptible_population_y, type='ControlledConversion', controller=Concept(name='infected_population_o', display_name=None, description=None, identifiers={'ido': '0000511'}, context={'age': 'o'}, units=None), subject=Concept(name='susceptible_population_y', display_name=None, description=None, identifiers={'ido': '0000514'}, context={'age': 'y'}, units=None), outcome=Concept(name='infected_population_y', display_name=None, description=None, identifiers={'ido': '0000511'}, context={'age': 'y'}, units=None), provenance=[]), ControlledConversion(rate_law=beta_1_0*infected_population_o*susceptible_population_o, type='ControlledConversion', controller=Concept(name='infected_population_o', display_name=None, description=None, identifiers={'ido': '0000511'}, context={'age': 'o'}, units=None), subject=Concept(name='susceptible_population_o', display_name=None, description=None, identifiers={'ido': '0000514'}, context={'age': 'o'}, units=None), outcome=Concept(name='infected_population_o', display_name=None, description=None, identifiers={'ido': '0000511'}, context={'age': 'o'}, units=None), provenance=[]), ControlledConversion(rate_law=beta_1_1*infected_population_y*susceptible_population_o, type='ControlledConversion', controller=Concept(name='infected_population_y', display_name=None, description=None, identifiers={'ido': '0000511'}, context={'age': 'y'}, units=None), subject=Concept(name='susceptible_population_o', display_name=None, description=None, identifiers={'ido': '0000514'}, context={'age': 'o'}, units=None), outcome=Concept(name='infected_population_o', display_name=None, description=None, identifiers={'ido': '0000511'}, context={'age': 'o'}, units=None), provenance=[]), ControlledConversion(rate_law=beta_1_2*infected_population_y*susceptible_population_y, type='ControlledConversion', controller=Concept(name='infected_population_y', display_name=None, description=None, identifiers={'ido': '0000511'}, context={'age': 'y'}, units=None), subject=Concept(name='susceptible_population_y', display_name=None, description=None, identifiers={'ido': '0000514'}, context={'age': 'y'}, units=None), outcome=Concept(name='infected_population_y', display_name=None, description=None, identifiers={'ido': '0000511'}, context={'age': 'y'}, units=None), provenance=[]), ControlledConversion(rate_law=beta_1_3*infected_population_y*susceptible_population_y, type='ControlledConversion', controller=Concept(name='infected_population_o', display_name=None, description=None, identifiers={'ido': '0000511'}, context={'age': 'o'}, units=None), subject=Concept(name='susceptible_population_y', display_name=None, description=None, identifiers={'ido': '0000514'}, context={'age': 'y'}, units=None), outcome=Concept(name='infected_population_y', display_name=None, description=None, identifiers={'ido': '0000511'}, context={'age': 'y'}, units=None), provenance=[]), ControlledConversion(rate_law=beta_2_0*infected_population_o*susceptible_population_o, type='ControlledConversion', controller=Concept(name='infected_population_o', display_name=None, description=None, identifiers={'ido': '0000511'}, context={'age': 'o'}, units=None), subject=Concept(name='susceptible_population_o', display_name=None, description=None, identifiers={'ido': '0000514'}, context={'age': 'o'}, units=None), outcome=Concept(name='infected_population_o', display_name=None, description=None, identifiers={'ido': '0000511'}, context={'age': 'o'}, units=None), provenance=[]), ControlledConversion(rate_law=beta_2_1*infected_population_o*susceptible_population_o, type='ControlledConversion', controller=Concept(name='infected_population_y', display_name=None, description=None, identifiers={'ido': '0000511'}, context={'age': 'y'}, units=None), subject=Concept(name='susceptible_population_o', display_name=None, description=None, identifiers={'ido': '0000514'}, context={'age': 'o'}, units=None), outcome=Concept(name='infected_population_o', display_name=None, description=None, identifiers={'ido': '0000511'}, context={'age': 'o'}, units=None), provenance=[]), ControlledConversion(rate_law=beta_2_2*infected_population_y*susceptible_population_y, type='ControlledConversion', controller=Concept(name='infected_population_y', display_name=None, description=None, identifiers={'ido': '0000511'}, context={'age': 'y'}, units=None), subject=Concept(name='susceptible_population_y', display_name=None, description=None, identifiers={'ido': '0000514'}, context={'age': 'y'}, units=None), outcome=Concept(name='infected_population_y', display_name=None, description=None, identifiers={'ido': '0000511'}, context={'age': 'y'}, units=None), provenance=[]), ControlledConversion(rate_law=beta_2_3*infected_population_o*susceptible_population_y, type='ControlledConversion', controller=Concept(name='infected_population_o', display_name=None, description=None, identifiers={'ido': '0000511'}, context={'age': 'o'}, units=None), subject=Concept(name='susceptible_population_y', display_name=None, description=None, identifiers={'ido': '0000514'}, context={'age': 'y'}, units=None), outcome=Concept(name='infected_population_y', display_name=None, description=None, identifiers={'ido': '0000511'}, context={'age': 'y'}, units=None), provenance=[]), ControlledConversion(rate_law=beta_3_0*infected_population_o*susceptible_population_o, type='ControlledConversion', controller=Concept(name='infected_population_o', display_name=None, description=None, identifiers={'ido': '0000511'}, context={'age': 'o'}, units=None), subject=Concept(name='susceptible_population_o', display_name=None, description=None, identifiers={'ido': '0000514'}, context={'age': 'o'}, units=None), outcome=Concept(name='infected_population_o', display_name=None, description=None, identifiers={'ido': '0000511'}, context={'age': 'o'}, units=None), provenance=[]), ControlledConversion(rate_law=beta_3_1*infected_population_o*susceptible_population_o, type='ControlledConversion', controller=Concept(name='infected_population_y', display_name=None, description=None, identifiers={'ido': '0000511'}, context={'age': 'y'}, units=None), subject=Concept(name='susceptible_population_o', display_name=None, description=None, identifiers={'ido': '0000514'}, context={'age': 'o'}, units=None), outcome=Concept(name='infected_population_o', display_name=None, description=None, identifiers={'ido': '0000511'}, context={'age': 'o'}, units=None), provenance=[]), ControlledConversion(rate_law=beta_3_2*infected_population_y*susceptible_population_y, type='ControlledConversion', controller=Concept(name='infected_population_y', display_name=None, description=None, identifiers={'ido': '0000511'}, context={'age': 'y'}, units=None), subject=Concept(name='susceptible_population_y', display_name=None, description=None, identifiers={'ido': '0000514'}, context={'age': 'y'}, units=None), outcome=Concept(name='infected_population_y', display_name=None, description=None, identifiers={'ido': '0000511'}, context={'age': 'y'}, units=None), provenance=[]), ControlledConversion(rate_law=beta_3_3*infected_population_o*susceptible_population_y, type='ControlledConversion', controller=Concept(name='infected_population_o', display_name=None, description=None, identifiers={'ido': '0000511'}, context={'age': 'o'}, units=None), subject=Concept(name='susceptible_population_y', display_name=None, description=None, identifiers={'ido': '0000514'}, context={'age': 'y'}, units=None), outcome=Concept(name='infected_population_y', display_name=None, description=None, identifiers={'ido': '0000511'}, context={'age': 'y'}, units=None), provenance=[]), NaturalConversion(rate_law=gamma_0_0*infected_population_o, type='NaturalConversion', subject=Concept(name='infected_population_o', display_name=None, description=None, identifiers={'ido': '0000511'}, context={'age': 'o'}, units=None), outcome=Concept(name='immune_population_o', display_name=None, description=None, identifiers={'ido': '0000592'}, context={'age': 'o'}, units=None), provenance=[]), NaturalConversion(rate_law=gamma_0_1*infected_population_y, type='NaturalConversion', subject=Concept(name='infected_population_y', display_name=None, description=None, identifiers={'ido': '0000511'}, context={'age': 'y'}, units=None), outcome=Concept(name='immune_population_y', display_name=None, description=None, identifiers={'ido': '0000592'}, context={'age': 'y'}, units=None), provenance=[]), NaturalConversion(rate_law=gamma_1_0*infected_population_o, type='NaturalConversion', subject=Concept(name='infected_population_o', display_name=None, description=None, identifiers={'ido': '0000511'}, context={'age': 'o'}, units=None), outcome=Concept(name='immune_population_o', display_name=None, description=None, identifiers={'ido': '0000592'}, context={'age': 'o'}, units=None), provenance=[]), NaturalConversion(rate_law=gamma_1_1*infected_population_y, type='NaturalConversion', subject=Concept(name='infected_population_y', display_name=None, description=None, identifiers={'ido': '0000511'}, context={'age': 'y'}, units=None), outcome=Concept(name='immune_population_y', display_name=None, description=None, identifiers={'ido': '0000592'}, context={'age': 'y'}, units=None), provenance=[])], parameters={'beta_0_0': Parameter(name='beta_0_0', display_name=None, description=None, identifiers={}, context={}, units=None, value=0.1, distribution=None), 'beta_0_1': Parameter(name='beta_0_1', display_name=None, description=None, identifiers={}, context={}, units=None, value=0.1, distribution=None), 'beta_0_2': Parameter(name='beta_0_2', display_name=None, description=None, identifiers={}, context={}, units=None, value=0.1, distribution=None), 'beta_0_3': Parameter(name='beta_0_3', display_name=None, description=None, identifiers={}, context={}, units=None, value=0.1, distribution=None), 'beta_1_0': Parameter(name='beta_1_0', display_name=None, description=None, identifiers={}, context={}, units=None, value=0.1, distribution=None), 'beta_1_1': Parameter(name='beta_1_1', display_name=None, description=None, identifiers={}, context={}, units=None, value=0.1, distribution=None), 'beta_1_2': Parameter(name='beta_1_2', display_name=None, description=None, identifiers={}, context={}, units=None, value=0.1, distribution=None), 'beta_1_3': Parameter(name='beta_1_3', display_name=None, description=None, identifiers={}, context={}, units=None, value=0.1, distribution=None), 'beta_2_0': Parameter(name='beta_2_0', display_name=None, description=None, identifiers={}, context={}, units=None, value=0.1, distribution=None), 'beta_2_1': Parameter(name='beta_2_1', display_name=None, description=None, identifiers={}, context={}, units=None, value=0.1, distribution=None), 'beta_2_2': Parameter(name='beta_2_2', display_name=None, description=None, identifiers={}, context={}, units=None, value=0.1, distribution=None), 'beta_2_3': Parameter(name='beta_2_3', display_name=None, description=None, identifiers={}, context={}, units=None, value=0.1, distribution=None), 'beta_3_0': Parameter(name='beta_3_0', display_name=None, description=None, identifiers={}, context={}, units=None, value=0.1, distribution=None), 'beta_3_1': Parameter(name='beta_3_1', display_name=None, description=None, identifiers={}, context={}, units=None, value=0.1, distribution=None), 'beta_3_2': Parameter(name='beta_3_2', display_name=None, description=None, identifiers={}, context={}, units=None, value=0.1, distribution=None), 'beta_3_3': Parameter(name='beta_3_3', display_name=None, description=None, identifiers={}, context={}, units=None, value=0.1, distribution=None), 'gamma_0_0': Parameter(name='gamma_0_0', display_name=None, description=None, identifiers={}, context={}, units=None, value=0.2, distribution=None), 'gamma_0_1': Parameter(name='gamma_0_1', display_name=None, description=None, identifiers={}, context={}, units=None, value=0.2, distribution=None), 'gamma_1_0': Parameter(name='gamma_1_0', display_name=None, description=None, identifiers={}, context={}, units=None, value=0.2, distribution=None), 'gamma_1_1': Parameter(name='gamma_1_1', display_name=None, description=None, identifiers={}, context={}, units=None, value=0.2, distribution=None)}, initials={'susceptible_population_o': Initial(concept=Concept(name='susceptible_population_o', display_name=None, description=None, identifiers={'ido': '0000514'}, context={'age': 'o'}, units=None), value=1.0), 'susceptible_population_y': Initial(concept=Concept(name='susceptible_population_y', display_name=None, description=None, identifiers={'ido': '0000514'}, context={'age': 'y'}, units=None), value=1.0), 'infected_population_o': Initial(concept=Concept(name='infected_population_o', display_name=None, description=None, identifiers={'ido': '0000511'}, context={'age': 'o'}, units=None), value=2.0), 'infected_population_y': Initial(concept=Concept(name='infected_population_y', display_name=None, description=None, identifiers={'ido': '0000511'}, context={'age': 'y'}, units=None), value=2.0), 'immune_population_o': Initial(concept=Concept(name='immune_population_o', display_name=None, description=None, identifiers={'ido': '0000592'}, context={'age': 'o'}, units=None), value=3.0), 'immune_population_y': Initial(concept=Concept(name='immune_population_y', display_name=None, description=None, identifiers={'ido': '0000592'}, context={'age': 'y'}, units=None), value=3.0)}, observables={}, annotations=Annotations(name=None, description=None, license=None, authors=[], references=[], time_scale=None, time_start=None, time_end=None, locations=[], pathogens=[], diseases=[], hosts=[], model_types=[]), time=Time(name='t', units=None))"
      ]
     },
     "execution_count": 20,
     "metadata": {},
     "output_type": "execute_result"
    }
   ],
   "source": [
    "stratified_tm = stratify(tm,\n",
    "                  key='age',\n",
    "                  strata=['y', 'o'],\n",
    "                  structure=[],\n",
    "                  cartesian_control=True)\n",
    "stratified_tm"
   ]
  }
 ],
 "metadata": {
  "kernelspec": {
   "display_name": "clean-build",
   "language": "python",
   "name": "clean-build"
  },
  "language_info": {
   "codemirror_mode": {
    "name": "ipython",
    "version": 3
   },
   "file_extension": ".py",
   "mimetype": "text/x-python",
   "name": "python",
   "nbconvert_exporter": "python",
   "pygments_lexer": "ipython3",
   "version": "3.10.9"
  }
 },
 "nbformat": 4,
 "nbformat_minor": 5
}
