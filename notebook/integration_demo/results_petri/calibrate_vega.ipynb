{
 "cells": [
  {
   "cell_type": "code",
   "execution_count": 86,
   "metadata": {},
   "outputs": [],
   "source": [
    "import os\n",
    "from pyciemss.PetriNetODE.interfaces import (\n",
    "    load_and_sample_petri_model,\n",
    "    load_and_calibrate_and_sample_petri_model,\n",
    ")\n",
    "import pandas as pd\n",
    "import numpy as np\n",
    "\n",
    "import IPython.display\n",
    "import vega"
   ]
  },
  {
   "cell_type": "code",
   "execution_count": 87,
   "metadata": {},
   "outputs": [
    {
     "data": {
      "text/plain": [
       "'../../../test/models/april_ensemble_demo/BIOMD0000000955_template_model.json'"
      ]
     },
     "execution_count": 87,
     "metadata": {},
     "output_type": "execute_result"
    }
   ],
   "source": [
    "MIRA_PATH = \"../../../test/models/april_ensemble_demo/\"\n",
    "SAVE_PATH = \"../../../notebook/integration_demo/\"\n",
    "filename = \"BIOMD0000000955_template_model.json\"\n",
    "filename = os.path.join(MIRA_PATH, filename)\n",
    "filename"
   ]
  },
  {
   "attachments": {},
   "cell_type": "markdown",
   "metadata": {},
   "source": [
    "## load_and_sample_petri_model"
   ]
  },
  {
   "cell_type": "code",
   "execution_count": 88,
   "metadata": {},
   "outputs": [],
   "source": [
    "num_samples = 50\n",
    "timepoints = [float(x) for x in range(100)]\n",
    "\n",
    "# Run sampling\n",
    "samples = load_and_sample_petri_model(\n",
    "    filename, num_samples, timepoints=timepoints, add_uncertainty=True\n",
    ")\n",
    "\n",
    "# Save results\n",
    "samples.to_csv(os.path.join(SAVE_PATH, \"results_petri/sample_results.csv\"))"
   ]
  },
  {
   "cell_type": "code",
   "execution_count": 89,
   "metadata": {},
   "outputs": [
    {
     "name": "stdout",
     "output_type": "stream",
     "text": [
      "iteration 0: loss = 67.62768054008484\n",
      "iteration 25: loss = 55.196736097335815\n",
      "iteration 50: loss = 42.91904282569885\n",
      "iteration 75: loss = 40.194432497024536\n",
      "iteration 100: loss = 37.02198147773743\n",
      "iteration 125: loss = 30.026376962661743\n",
      "iteration 150: loss = 25.962289810180664\n",
      "iteration 175: loss = 36.10223937034607\n",
      "iteration 200: loss = 29.822744131088257\n",
      "iteration 225: loss = 33.387285232543945\n",
      "iteration 250: loss = 31.992287158966064\n",
      "iteration 275: loss = 30.967079401016235\n",
      "iteration 300: loss = 31.398672819137573\n",
      "iteration 325: loss = 32.95909404754639\n",
      "iteration 350: loss = 30.31612515449524\n",
      "iteration 375: loss = 30.691532611846924\n",
      "iteration 400: loss = 29.67841339111328\n",
      "iteration 425: loss = 31.978540897369385\n",
      "iteration 450: loss = 28.940759658813477\n",
      "iteration 475: loss = 29.64073419570923\n",
      "iteration 500: loss = 31.526527404785156\n",
      "iteration 525: loss = 33.552541732788086\n",
      "iteration 550: loss = 29.62907075881958\n",
      "iteration 575: loss = 30.82348918914795\n",
      "iteration 600: loss = 31.12396812438965\n",
      "iteration 625: loss = 29.92502450942993\n",
      "iteration 650: loss = 30.221627235412598\n",
      "iteration 675: loss = 29.867870330810547\n",
      "iteration 700: loss = 30.22500228881836\n",
      "iteration 725: loss = 29.68207311630249\n",
      "iteration 750: loss = 31.608386993408203\n",
      "iteration 775: loss = 29.744081497192383\n",
      "iteration 800: loss = 28.68424391746521\n",
      "iteration 825: loss = 31.70448088645935\n",
      "iteration 850: loss = 28.664950847625732\n",
      "iteration 875: loss = 29.578813552856445\n",
      "iteration 900: loss = 30.65496587753296\n",
      "iteration 925: loss = 29.172062397003174\n",
      "iteration 950: loss = 29.514719009399414\n",
      "iteration 975: loss = 28.84389305114746\n"
     ]
    }
   ],
   "source": [
    "# List of tuples of the form `(time, observation_dict)` where each `observation_dict` is of the form `{observable_name: observable_value}`.\n",
    "# Once we get a data file format we're very happy to handle the csv -> this format processing.\n",
    "# Note: As you can see here, not every variable must be observed at every timepoint.\n",
    "data = [\n",
    "    (1.1, {\"Susceptible\": 0.9, \"Infected\": 0.1}),\n",
    "    (2.2, {\"Susceptible\": 0.8}),\n",
    "]\n",
    "num_samples = 50\n",
    "\n",
    "# Run the calibration and sampling\n",
    "calibrated_samples = load_and_calibrate_and_sample_petri_model(\n",
    "    filename,\n",
    "    data,\n",
    "    num_samples,\n",
    "    timepoints=timepoints,\n",
    "    add_uncertainty=True,\n",
    "    verbose=True,\n",
    ")\n",
    "\n",
    "# Save results\n",
    "calibrated_samples.to_csv(\n",
    "    os.path.join(SAVE_PATH, \"results_petri/calibrated_sample_results.csv\")\n",
    ")"
   ]
  },
  {
   "attachments": {},
   "cell_type": "markdown",
   "metadata": {},
   "source": [
    "## load_and_calibrate_and_sample_petri_model"
   ]
  },
  {
   "cell_type": "code",
   "execution_count": 90,
   "metadata": {},
   "outputs": [],
   "source": [
    "## take calibrated and normal dataframes and return 5% and 95%\n",
    "\n",
    "def plot_predictive(prediction, quantiles):\n",
    "    # convert series of list to numpy array, then take quantiles\n",
    "    I_low = np.quantile(np.stack(prediction.values), quantiles[0], axis = 0)\n",
    "    I_up = np.quantile(np.stack(prediction.values), quantiles[1], axis = 0)\n",
    "    I_med = np.quantile(np.stack(prediction.values), quantiles[2], axis = 0)\n",
    "\n",
    "    return I_low, I_up, I_med\n",
    "\n",
    "def create_json(file_path_calibrate_df =\"results_petri/calibrated_sample_results.csv\", \\\n",
    "                file_path_sample_df =\"results_petri/sample_results.csv\", \\\n",
    "                 file_path = \"calibrate.json\", quantiles= (.05, .95, .50),\\\n",
    "                    cases_string = \"_sol\", time_column = 'timepoint_id', sample_column = 'sample_id' ):\n",
    "    \n",
    "    calibrate_df = pd.read_csv(os.path.join(SAVE_PATH, file_path_calibrate_df)).sort_values(by=[sample_column, time_column])\n",
    "    sample_df = pd.read_csv(os.path.join(SAVE_PATH, file_path_sample_df)).sort_values(by=[sample_column, time_column])\n",
    "\n",
    "    sol_cols = [c for c in calibrate_df.columns if c.lower()[-len(cases_string):] == cases_string]\n",
    "\n",
    "    new_df = pd.DataFrame()\n",
    "    length_time = len(calibrate_df[time_column].unique())\n",
    "\n",
    "    time_list = []\n",
    "    column_names_list = []\n",
    "    calibration_list = []\n",
    "    column_values_y0 = []\n",
    "    column_values_y1 = []\n",
    "    column_values_y = []\n",
    "    column_values_example = []\n",
    "    # for each sol column add low and high 5% and 95%\n",
    "    for col in sol_cols:\n",
    "        # sort by sample_id and timepoint, get list of sample id's in order of time, \n",
    "        list_sol_calibrate = calibrate_df.groupby(sample_column)[col].apply(list).reset_index()[col]\n",
    "        list_sol = sample_df.groupby(sample_column)[col].apply(list).reset_index()[col]\n",
    "\n",
    "        # get plot predictive\n",
    "        I_low_calibrate, I_up_calibrate, I_med_calibrate = plot_predictive(list_sol_calibrate, quantiles)\n",
    "        column_names_list.extend([col ] * length_time)\n",
    "        calibration_list.extend([False] * length_time)\n",
    "        # add values\n",
    "        column_values_y0.extend(I_low_calibrate.tolist())\n",
    "        column_values_y1.extend(I_up_calibrate.tolist())\n",
    "        column_values_y.extend(I_med_calibrate.tolist())\n",
    "        time_list.extend(calibrate_df[time_column].unique())\n",
    "\n",
    "        # get plot predictive\n",
    "        I_low, I_up, I_med = plot_predictive(list_sol, quantiles)\n",
    "        column_names_list.extend([col] * length_time)\n",
    "        calibration_list.extend([True] * length_time)\n",
    "\n",
    "        # add values\n",
    "        column_values_y0.extend(I_low.tolist())\n",
    "        column_values_y1.extend(I_up.tolist())\n",
    "        column_values_y.extend(I_med.tolist())\n",
    "        time_list.extend(calibrate_df[time_column].unique())\n",
    "        \n",
    "\n",
    "\n",
    "    new_df['time'] = time_list\n",
    "    new_df['column_names'] = column_names_list\n",
    "    new_df['calibration'] = calibration_list\n",
    "    new_df['y'] = column_values_y\n",
    "    new_df['y1'] = column_values_y1\n",
    "    new_df['y0'] = column_values_y0\n",
    "    new_df.to_csv(\"test.csv\")\n",
    "    json_object = new_df.to_json(orient='records')\n",
    "\n",
    "    with open(file_path, \"w\") as outfile:\n",
    "        outfile.write(json_object)\n",
    "    return new_df\n",
    "# json in format time sol_low sol_high\n",
    "\n",
    "new_df = create_json()"
   ]
  },
  {
   "cell_type": "code",
   "execution_count": 91,
   "metadata": {},
   "outputs": [],
   "source": [
    "def ipy_display(spec, *, lite=False):\n",
    "    \"\"\"Wrap for dispaly in an ipython notebook\n",
    "    spec -- A vega JSON schema ready for rendering\n",
    "    \"\"\"\n",
    "    if lite:\n",
    "        bundle = {'application/vnd.vegalite.v5+json': spec}\n",
    "    else:\n",
    "        bundle = {'application/vnd.vega.v5+json': spec}\n",
    "\n",
    "    return IPython.display.display(bundle, raw=True)\n"
   ]
  },
  {
   "cell_type": "code",
   "execution_count": null,
   "metadata": {},
   "outputs": [],
   "source": [
    "\n",
    "\n",
    "\n"
   ]
  },
  {
   "cell_type": "code",
   "execution_count": null,
   "metadata": {},
   "outputs": [],
   "source": []
  },
  {
   "cell_type": "code",
   "execution_count": 92,
   "metadata": {},
   "outputs": [
    {
     "data": {
      "application/vnd.vega.v5+json": {
       "$schema": "https://vega.github.io/schema/vega/v5.json",
       "axes": [
        {
         "orient": "bottom",
         "scale": "time",
         "tickCount": 30,
         "title": "Time since start of pandemic (days)"
        },
        {
         "domain": false,
         "format": "%",
         "grid": true,
         "orient": "left",
         "scale": "y1",
         "title": "Cases (Prop. of Population)"
        }
       ],
       "data": [
        {
         "name": "table",
         "transform": [
          {
           "expr": "( datum.column_names === Type) ",
           "type": "filter"
          },
          {
           "as": "opac",
           "expr": "(datum.calibration ? .3 : .3)",
           "type": "formula"
          }
         ],
         "values": [
          {
           "calibration": false,
           "column_names": "Ailing_sol",
           "time": 0,
           "y": 1.666666626931601e-8,
           "y0": 1.666666626931601e-8,
           "y1": 1.666666626931601e-8
          },
          {
           "calibration": false,
           "column_names": "Ailing_sol",
           "time": 1,
           "y": 4.0722480321164767e-7,
           "y0": 3.682491069412208e-7,
           "y1": 4.456972646948998e-7
          },
          {
           "calibration": false,
           "column_names": "Ailing_sol",
           "time": 2,
           "y": 7.976214533300663e-7,
           "y0": 6.964237712736577e-7,
           "y1": 8.905065158160141e-7
          },
          {
           "calibration": false,
           "column_names": "Ailing_sol",
           "time": 3,
           "y": 0.00000123844927202299,
           "y0": 0.000001053526727901044,
           "y1": 0.0000014352806374517968
          },
          {
           "calibration": false,
           "column_names": "Ailing_sol",
           "time": 4,
           "y": 0.0000018033624087365752,
           "y0": 0.0000014766246010822214,
           "y1": 0.000002162370606129116
          },
          {
           "calibration": false,
           "column_names": "Ailing_sol",
           "time": 5,
           "y": 0.0000025928019340426545,
           "y0": 0.000002009108504807955,
           "y1": 0.000003153613135964406
          },
          {
           "calibration": false,
           "column_names": "Ailing_sol",
           "time": 6,
           "y": 0.0000036310814266471425,
           "y0": 0.000002681640683022124,
           "y1": 0.000004601630371325882
          },
          {
           "calibration": false,
           "column_names": "Ailing_sol",
           "time": 7,
           "y": 0.000005024849770052242,
           "y0": 0.0000035512856243258283,
           "y1": 0.00000677202674523869
          },
          {
           "calibration": false,
           "column_names": "Ailing_sol",
           "time": 8,
           "y": 0.000006987858796492219,
           "y0": 0.000004691421463576262,
           "y1": 0.00000994551410258282
          },
          {
           "calibration": false,
           "column_names": "Ailing_sol",
           "time": 9,
           "y": 0.000009651018899603514,
           "y0": 0.000006191887337081425,
           "y1": 0.000014544655959980446
          },
          {
           "calibration": false,
           "column_names": "Ailing_sol",
           "time": 10,
           "y": 0.00001332527835984365,
           "y0": 0.000008169355078280205,
           "y1": 0.000021204011227382582
          },
          {
           "calibration": false,
           "column_names": "Ailing_sol",
           "time": 11,
           "y": 0.000018396473933535162,
           "y0": 0.000010777441866594018,
           "y1": 0.00003077709170611343
          },
          {
           "calibration": false,
           "column_names": "Ailing_sol",
           "time": 12,
           "y": 0.000025396609999006614,
           "y0": 0.000014218226078810402,
           "y1": 0.000044669651106232775
          },
          {
           "calibration": false,
           "column_names": "Ailing_sol",
           "time": 13,
           "y": 0.00003511669456202071,
           "y0": 0.000018758193709800254,
           "y1": 0.00006485356025223154
          },
          {
           "calibration": false,
           "column_names": "Ailing_sol",
           "time": 14,
           "y": 0.00004862382593273651,
           "y0": 0.000024748813757469182,
           "y1": 0.00009414728847332299
          },
          {
           "calibration": false,
           "column_names": "Ailing_sol",
           "time": 15,
           "y": 0.00006732196561642922,
           "y0": 0.000032653441667207514,
           "y1": 0.000136650207423305
          },
          {
           "calibration": false,
           "column_names": "Ailing_sol",
           "time": 16,
           "y": 0.00009320111712440848,
           "y0": 0.00004304080048314063,
           "y1": 0.00019829216980722
          },
          {
           "calibration": false,
           "column_names": "Ailing_sol",
           "time": 17,
           "y": 0.0001290096188313,
           "y0": 0.00005657461460941704,
           "y1": 0.00028763613372571997
          },
          {
           "calibration": false,
           "column_names": "Ailing_sol",
           "time": 18,
           "y": 0.00017853903409555003,
           "y0": 0.00007435996012645773,
           "y1": 0.000417013515834635
          },
          {
           "calibration": false,
           "column_names": "Ailing_sol",
           "time": 19,
           "y": 0.00024701147049195,
           "y0": 0.00009772846497067012,
           "y1": 0.00060411728918544
          },
          {
           "calibration": false,
           "column_names": "Ailing_sol",
           "time": 20,
           "y": 0.0003416059334995,
           "y0": 0.000128426053561215,
           "y1": 0.0008741891739190949
          },
          {
           "calibration": false,
           "column_names": "Ailing_sol",
           "time": 21,
           "y": 0.00047215950326055,
           "y0": 0.000168739064974895,
           "y1": 0.00126294901128855
          },
          {
           "calibration": false,
           "column_names": "Ailing_sol",
           "time": 22,
           "y": 0.0006520996685139501,
           "y0": 0.00022165923946876502,
           "y1": 0.0018203447689302
          },
          {
           "calibration": false,
           "column_names": "Ailing_sol",
           "time": 23,
           "y": 0.00089964707149185,
           "y0": 0.00029109363676972503,
           "y1": 0.0026149992947465998
          },
          {
           "calibration": false,
           "column_names": "Ailing_sol",
           "time": 24,
           "y": 0.00123933417489745,
           "y0": 0.00038213490770424,
           "y1": 0.0037387594114988596
          },
          {
           "calibration": false,
           "column_names": "Ailing_sol",
           "time": 25,
           "y": 0.0017038219375535,
           "y0": 0.000501401566725625,
           "y1": 0.005309794121421814
          },
          {
           "calibration": false,
           "column_names": "Ailing_sol",
           "time": 26,
           "y": 0.00233591278083615,
           "y0": 0.0006574657250893551,
           "y1": 0.007471129042096399
          },
          {
           "calibration": false,
           "column_names": "Ailing_sol",
           "time": 27,
           "y": 0.0031904594507067997,
           "y0": 0.0008613722980953401,
           "y1": 0.010379373840987608
          },
          {
           "calibration": false,
           "column_names": "Ailing_sol",
           "time": 28,
           "y": 0.0043355266097933,
           "y0": 0.00112725893268358,
           "y1": 0.01417693430557843
          },
          {
           "calibration": false,
           "column_names": "Ailing_sol",
           "time": 29,
           "y": 0.0058516326826065,
           "y0": 0.001473077939590375,
           "y1": 0.018942823261022493
          },
          {
           "calibration": false,
           "column_names": "Ailing_sol",
           "time": 30,
           "y": 0.0078272640239447,
           "y0": 0.00192134485114363,
           "y1": 0.024626218806952156
          },
          {
           "calibration": false,
           "column_names": "Ailing_sol",
           "time": 31,
           "y": 0.010348248295485949,
           "y0": 0.00249987331917504,
           "y1": 0.03098470438271759
          },
          {
           "calibration": false,
           "column_names": "Ailing_sol",
           "time": 32,
           "y": 0.01347888167947525,
           "y0": 0.0032423022319562197,
           "y1": 0.03756468091160057
          },
          {
           "calibration": false,
           "column_names": "Ailing_sol",
           "time": 33,
           "y": 0.017234426923096152,
           "y0": 0.00418812863063063,
           "y1": 0.04375705420970917
          },
          {
           "calibration": false,
           "column_names": "Ailing_sol",
           "time": 34,
           "y": 0.021549240685999352,
           "y0": 0.005381848802790005,
           "y1": 0.04897053148597472
          },
          {
           "calibration": false,
           "column_names": "Ailing_sol",
           "time": 35,
           "y": 0.02625126391649245,
           "y0": 0.00687055357266214,
           "y1": 0.052415883354842624
          },
          {
           "calibration": false,
           "column_names": "Ailing_sol",
           "time": 36,
           "y": 0.031057514250278452,
           "y0": 0.0086993844714015,
           "y1": 0.053394220396876274
          },
          {
           "calibration": false,
           "column_names": "Ailing_sol",
           "time": 37,
           "y": 0.03560302965342995,
           "y0": 0.01090413834899659,
           "y1": 0.052944323606789086
          },
          {
           "calibration": false,
           "column_names": "Ailing_sol",
           "time": 38,
           "y": 0.0395016204565763,
           "y0": 0.01350092068314551,
           "y1": 0.05214244406670329
          },
          {
           "calibration": false,
           "column_names": "Ailing_sol",
           "time": 39,
           "y": 0.04259049519896505,
           "y0": 0.0164737557061016,
           "y1": 0.0517318719998002
          },
          {
           "calibration": false,
           "column_names": "Ailing_sol",
           "time": 40,
           "y": 0.0431304797530174,
           "y0": 0.01976243639364832,
           "y1": 0.050691778957843714
          },
          {
           "calibration": false,
           "column_names": "Ailing_sol",
           "time": 41,
           "y": 0.04225579462945455,
           "y0": 0.023254746105521865,
           "y1": 0.04971534311771384
          },
          {
           "calibration": false,
           "column_names": "Ailing_sol",
           "time": 42,
           "y": 0.0399192906916141,
           "y0": 0.0267872779630124,
           "y1": 0.04743837472051378
          },
          {
           "calibration": false,
           "column_names": "Ailing_sol",
           "time": 43,
           "y": 0.0390998404473066,
           "y0": 0.02842038106173275,
           "y1": 0.0481429753825068
          },
          {
           "calibration": false,
           "column_names": "Ailing_sol",
           "time": 44,
           "y": 0.037517813965678146,
           "y0": 0.026241430081427045,
           "y1": 0.047633247077465024
          },
          {
           "calibration": false,
           "column_names": "Ailing_sol",
           "time": 45,
           "y": 0.035996314138174,
           "y0": 0.02377741821110244,
           "y1": 0.04632046204060312
          },
          {
           "calibration": false,
           "column_names": "Ailing_sol",
           "time": 46,
           "y": 0.0343858357518911,
           "y0": 0.020331409294158203,
           "y1": 0.044743638299405496
          },
          {
           "calibration": false,
           "column_names": "Ailing_sol",
           "time": 47,
           "y": 0.03138438798487185,
           "y0": 0.017246613278984982,
           "y1": 0.04266253560781473
          },
          {
           "calibration": false,
           "column_names": "Ailing_sol",
           "time": 48,
           "y": 0.02799596637487405,
           "y0": 0.014559767302125621,
           "y1": 0.04018069785088297
          },
          {
           "calibration": false,
           "column_names": "Ailing_sol",
           "time": 49,
           "y": 0.02473181113600725,
           "y0": 0.01224607783369714,
           "y1": 0.03846997376531358
          },
          {
           "calibration": false,
           "column_names": "Ailing_sol",
           "time": 50,
           "y": 0.0216515334323048,
           "y0": 0.010272205341607261,
           "y1": 0.0355231117457151
          },
          {
           "calibration": false,
           "column_names": "Ailing_sol",
           "time": 51,
           "y": 0.01881274022161955,
           "y0": 0.00860114144161338,
           "y1": 0.03268545940518373
          },
          {
           "calibration": false,
           "column_names": "Ailing_sol",
           "time": 52,
           "y": 0.016245647333562298,
           "y0": 0.00719528493937098,
           "y1": 0.0300204473547637
          },
          {
           "calibration": false,
           "column_names": "Ailing_sol",
           "time": 53,
           "y": 0.01395972352474925,
           "y0": 0.00601862287148828,
           "y1": 0.027967271301895316
          },
          {
           "calibration": false,
           "column_names": "Ailing_sol",
           "time": 54,
           "y": 0.01194962440058585,
           "y0": 0.00503784127067769,
           "y1": 0.025750715285539544
          },
          {
           "calibration": false,
           "column_names": "Ailing_sol",
           "time": 55,
           "y": 0.01020035333931445,
           "y0": 0.004223017930053126,
           "y1": 0.023443108238279803
          },
          {
           "calibration": false,
           "column_names": "Ailing_sol",
           "time": 56,
           "y": 0.0086910175159573,
           "y0": 0.003547761356458025,
           "y1": 0.021015618741512216
          },
          {
           "calibration": false,
           "column_names": "Ailing_sol",
           "time": 57,
           "y": 0.0073978418949991,
           "y0": 0.00298918090993532,
           "y1": 0.01869630236178632
          },
          {
           "calibration": false,
           "column_names": "Ailing_sol",
           "time": 58,
           "y": 0.006296227918937801,
           "y0": 0.0025276560103519898,
           "y1": 0.01652674963697787
          },
          {
           "calibration": false,
           "column_names": "Ailing_sol",
           "time": 59,
           "y": 0.005362167488783549,
           "y0": 0.0021465351339429147,
           "y1": 0.01453200392425055
          },
          {
           "calibration": false,
           "column_names": "Ailing_sol",
           "time": 60,
           "y": 0.00457308976911005,
           "y0": 0.0018318032089154749,
           "y1": 0.01272386931814248
          },
          {
           "calibration": false,
           "column_names": "Ailing_sol",
           "time": 61,
           "y": 0.0039083879673853,
           "y0": 0.001571738644270175,
           "y1": 0.01110408827662464
          },
          {
           "calibration": false,
           "column_names": "Ailing_sol",
           "time": 62,
           "y": 0.00334961700718845,
           "y0": 0.00135659442748869,
           "y1": 0.00966721032746131
          },
          {
           "calibration": false,
           "column_names": "Ailing_sol",
           "time": 63,
           "y": 0.00288053555414075,
           "y0": 0.001178300136234575,
           "y1": 0.008402987243607545
          },
          {
           "calibration": false,
           "column_names": "Ailing_sol",
           "time": 64,
           "y": 0.0024870227789506,
           "y0": 0.001030200655804905,
           "y1": 0.007298173010349254
          },
          {
           "calibration": false,
           "column_names": "Ailing_sol",
           "time": 65,
           "y": 0.0021569286473095,
           "y0": 0.000906823782133805,
           "y1": 0.00633805911056693
          },
          {
           "calibration": false,
           "column_names": "Ailing_sol",
           "time": 66,
           "y": 0.0018798852106556001,
           "y0": 0.000803682443802225,
           "y1": 0.0055075332056730405
          },
          {
           "calibration": false,
           "column_names": "Ailing_sol",
           "time": 67,
           "y": 0.0016471061389892998,
           "y0": 0.000717105827061375,
           "y1": 0.00479172389023004
          },
          {
           "calibration": false,
           "column_names": "Ailing_sol",
           "time": 68,
           "y": 0.00145118433283635,
           "y0": 0.00064409473852714,
           "y1": 0.004176558833569255
          },
          {
           "calibration": false,
           "column_names": "Ailing_sol",
           "time": 69,
           "y": 0.0012829608167521,
           "y0": 0.000582203877274805,
           "y1": 0.00364901944994922
          },
          {
           "calibration": false,
           "column_names": "Ailing_sol",
           "time": 70,
           "y": 0.0011379479547030998,
           "y0": 0.00052944085909982,
           "y1": 0.00319729114416982
          },
          {
           "calibration": false,
           "column_names": "Ailing_sol",
           "time": 71,
           "y": 0.0010150411399081,
           "y0": 0.000483791169244735,
           "y1": 0.00281081200810144
          },
          {
           "calibration": false,
           "column_names": "Ailing_sol",
           "time": 72,
           "y": 0.0009127340163104,
           "y0": 0.000444305584824165,
           "y1": 0.00248023868771263
          },
          {
           "calibration": false,
           "column_names": "Ailing_sol",
           "time": 73,
           "y": 0.00082858852692875,
           "y0": 0.000411960014025645,
           "y1": 0.002197409793734495
          },
          {
           "calibration": false,
           "column_names": "Ailing_sol",
           "time": 74,
           "y": 0.0007561827951575999,
           "y0": 0.00038403800426745,
           "y1": 0.0019552305573596602
          },
          {
           "calibration": false,
           "column_names": "Ailing_sol",
           "time": 75,
           "y": 0.0006935400015208499,
           "y0": 0.00035925911797671,
           "y1": 0.001747584930853895
          },
          {
           "calibration": false,
           "column_names": "Ailing_sol",
           "time": 76,
           "y": 0.0006390295457093999,
           "y0": 0.000337112329725575,
           "y1": 0.001569218718213875
          },
          {
           "calibration": false,
           "column_names": "Ailing_sol",
           "time": 77,
           "y": 0.0005913109635002499,
           "y0": 0.00031718289101261,
           "y1": 0.00141565670492121
          },
          {
           "calibration": false,
           "column_names": "Ailing_sol",
           "time": 78,
           "y": 0.00054928104509595,
           "y0": 0.000299131358042325,
           "y1": 0.0012830847292206451
          },
          {
           "calibration": false,
           "column_names": "Ailing_sol",
           "time": 79,
           "y": 0.0005120291898491999,
           "y0": 0.000282680663803985,
           "y1": 0.0011682689713779248
          },
          {
           "calibration": false,
           "column_names": "Ailing_sol",
           "time": 80,
           "y": 0.00047880849160715,
           "y0": 0.00026760481414381504,
           "y1": 0.001068477670196395
          },
          {
           "calibration": false,
           "column_names": "Ailing_sol",
           "time": 81,
           "y": 0.00044900318607685,
           "y0": 0.00025371755036754503,
           "y1": 0.00098140136105935
          },
          {
           "calibration": false,
           "column_names": "Ailing_sol",
           "time": 82,
           "y": 0.00042210327228525,
           "y0": 0.00024086565099421502,
           "y1": 0.0009050983324413749
          },
          {
           "calibration": false,
           "column_names": "Ailing_sol",
           "time": 83,
           "y": 0.00039768964052195,
           "y0": 0.00022892205015517,
           "y1": 0.000837932739523205
          },
          {
           "calibration": false,
           "column_names": "Ailing_sol",
           "time": 84,
           "y": 0.00037541391793635,
           "y0": 0.000217781133687775,
           "y1": 0.000778531335526995
          },
          {
           "calibration": false,
           "column_names": "Ailing_sol",
           "time": 85,
           "y": 0.000354988471372,
           "y0": 0.00020735487050834,
           "y1": 0.00072573950747027
          },
          {
           "calibration": false,
           "column_names": "Ailing_sol",
           "time": 86,
           "y": 0.00033617335429875,
           "y0": 0.00019756951514859,
           "y1": 0.00067858929978678
          },
          {
           "calibration": false,
           "column_names": "Ailing_sol",
           "time": 87,
           "y": 0.00031876862340135,
           "y0": 0.00018836213930621,
           "y1": 0.0006362671119858849
          },
          {
           "calibration": false,
           "column_names": "Ailing_sol",
           "time": 88,
           "y": 0.00030260716448535,
           "y0": 0.000179679632128605,
           "y1": 0.000598090153653155
          },
          {
           "calibration": false,
           "column_names": "Ailing_sol",
           "time": 89,
           "y": 0.00028761295834555,
           "y0": 0.000171476364630425,
           "y1": 0.0005634855566313
          },
          {
           "calibration": false,
           "column_names": "Ailing_sol",
           "time": 90,
           "y": 0.0002738501352723,
           "y0": 0.00016371344827346,
           "y1": 0.000531971213058535
          },
          {
           "calibration": false,
           "column_names": "Ailing_sol",
           "time": 91,
           "y": 0.00026092576445075,
           "y0": 0.00015635624658891998,
           "y1": 0.000503140813088935
          },
          {
           "calibration": false,
           "column_names": "Ailing_sol",
           "time": 92,
           "y": 0.000248761192779,
           "y0": 0.000149370764120185,
           "y1": 0.00047665184538342995
          },
          {
           "calibration": false,
           "column_names": "Ailing_sol",
           "time": 93,
           "y": 0.0002372887174715,
           "y0": 0.000142732101812705,
           "y1": 0.00045221615873738
          },
          {
           "calibration": false,
           "column_names": "Ailing_sol",
           "time": 94,
           "y": 0.0002264498107251,
           "y0": 0.000136420364287855,
           "y1": 0.000429588917177135
          },
          {
           "calibration": false,
           "column_names": "Ailing_sol",
           "time": 95,
           "y": 0.000216625368921,
           "y0": 0.000130415476451115,
           "y1": 0.00040856309642546497
          },
          {
           "calibration": false,
           "column_names": "Ailing_sol",
           "time": 96,
           "y": 0.00020730973483295,
           "y0": 0.0001246977859409,
           "y1": 0.00038896185433254
          },
          {
           "calibration": false,
           "column_names": "Ailing_sol",
           "time": 97,
           "y": 0.0001984541013371,
           "y0": 0.000119250377611005,
           "y1": 0.000370635231956795
          },
          {
           "calibration": false,
           "column_names": "Ailing_sol",
           "time": 98,
           "y": 0.00019002647604789998,
           "y0": 0.00011405798577466,
           "y1": 0.000353453782736275
          },
          {
           "calibration": false,
           "column_names": "Ailing_sol",
           "time": 99,
           "y": 0.00018174492288375,
           "y0": 0.00010910592100114,
           "y1": 0.00033730745490166
          },
          {
           "calibration": true,
           "column_names": "Ailing_sol",
           "time": 0,
           "y": 1.666666626931601e-8,
           "y0": 1.666666626931601e-8,
           "y1": 1.666666626931601e-8
          },
          {
           "calibration": true,
           "column_names": "Ailing_sol",
           "time": 1,
           "y": 4.0714327553814655e-7,
           "y0": 3.729837061428043e-7,
           "y1": 4.4099843279354903e-7
          },
          {
           "calibration": true,
           "column_names": "Ailing_sol",
           "time": 2,
           "y": 7.975404230364802e-7,
           "y0": 7.154558147703938e-7,
           "y1": 8.808439815766178e-7
          },
          {
           "calibration": true,
           "column_names": "Ailing_sol",
           "time": 3,
           "y": 0.0000012398348303577222,
           "y0": 0.0000010908642366302957,
           "y1": 0.0000014054901214421988
          },
          {
           "calibration": true,
           "column_names": "Ailing_sol",
           "time": 4,
           "y": 0.0000018180375036536134,
           "y0": 0.0000015297239087885829,
           "y1": 0.000002077740612094203
          },
          {
           "calibration": true,
           "column_names": "Ailing_sol",
           "time": 5,
           "y": 0.0000025838673991529504,
           "y0": 0.000002084049947370659,
           "y1": 0.0000030104452775958634
          },
          {
           "calibration": true,
           "column_names": "Ailing_sol",
           "time": 6,
           "y": 0.0000036146037700746096,
           "y0": 0.0000028009729589939524,
           "y1": 0.0000043015828623538255
          },
          {
           "calibration": true,
           "column_names": "Ailing_sol",
           "time": 7,
           "y": 0.000005029645535614691,
           "y0": 0.0000037452014908012642,
           "y1": 0.000006129419489298016
          },
          {
           "calibration": true,
           "column_names": "Ailing_sol",
           "time": 8,
           "y": 0.000006986980224610306,
           "y0": 0.00000499661109643057,
           "y1": 0.00000876091012287361
          },
          {
           "calibration": true,
           "column_names": "Ailing_sol",
           "time": 9,
           "y": 0.000009694434538687347,
           "y0": 0.000006660334497610165,
           "y1": 0.000012568866804940624
          },
          {
           "calibration": true,
           "column_names": "Ailing_sol",
           "time": 10,
           "y": 0.000013422933989204466,
           "y0": 0.000008872165926732123,
           "y1": 0.00001803040813683765
          },
          {
           "calibration": true,
           "column_names": "Ailing_sol",
           "time": 11,
           "y": 0.00001866505863290513,
           "y0": 0.000011775009261327795,
           "y1": 0.00002576818696979899
          },
          {
           "calibration": true,
           "column_names": "Ailing_sol",
           "time": 12,
           "y": 0.000025891579753078986,
           "y0": 0.000015601878476445564,
           "y1": 0.000036824124617851335
          },
          {
           "calibration": true,
           "column_names": "Ailing_sol",
           "time": 13,
           "y": 0.00003591469248931389,
           "y0": 0.00002067017330773524,
           "y1": 0.000052620270434999834
          },
          {
           "calibration": true,
           "column_names": "Ailing_sol",
           "time": 14,
           "y": 0.00004968508073943667,
           "y0": 0.00002730440373852616,
           "y1": 0.00007518616621382535
          },
          {
           "calibration": true,
           "column_names": "Ailing_sol",
           "time": 15,
           "y": 0.00006869537173770368,
           "y0": 0.00003605884612625232,
           "y1": 0.00010741606929507
          },
          {
           "calibration": true,
           "column_names": "Ailing_sol",
           "time": 16,
           "y": 0.00009512815449852496,
           "y0": 0.00004761931504617678,
           "y1": 0.00015343397462855998
          },
          {
           "calibration": true,
           "column_names": "Ailing_sol",
           "time": 17,
           "y": 0.0001318043941864,
           "y0": 0.00006288369659159798,
           "y1": 0.00021910893192397
          },
          {
           "calibration": true,
           "column_names": "Ailing_sol",
           "time": 18,
           "y": 0.0001825840226956,
           "y0": 0.0000830355791549664,
           "y1": 0.000312775600468695
          },
          {
           "calibration": true,
           "column_names": "Ailing_sol",
           "time": 19,
           "y": 0.0002528559998609,
           "y0": 0.000109634803447925,
           "y1": 0.00044624110305446497
          },
          {
           "calibration": true,
           "column_names": "Ailing_sol",
           "time": 20,
           "y": 0.0003500357706798,
           "y0": 0.000144735279172885,
           "y1": 0.000636162565206085
          },
          {
           "calibration": true,
           "column_names": "Ailing_sol",
           "time": 21,
           "y": 0.00048429936578025,
           "y0": 0.000191038641787545,
           "y1": 0.000906942016445045
          },
          {
           "calibration": true,
           "column_names": "Ailing_sol",
           "time": 22,
           "y": 0.0006695546035188999,
           "y0": 0.00025209287850883,
           "y1": 0.00129303896683265
          },
          {
           "calibration": true,
           "column_names": "Ailing_sol",
           "time": 23,
           "y": 0.0009247070993296,
           "y0": 0.000332549455924845,
           "y1": 0.00183922270662145
          },
          {
           "calibration": true,
           "column_names": "Ailing_sol",
           "time": 24,
           "y": 0.0012752531911246,
           "y0": 0.00043849309440697,
           "y1": 0.00260828556492918
          },
          {
           "calibration": true,
           "column_names": "Ailing_sol",
           "time": 25,
           "y": 0.00175521388882765,
           "y0": 0.000577854120638195,
           "y1": 0.003678718127775885
          },
          {
           "calibration": true,
           "column_names": "Ailing_sol",
           "time": 26,
           "y": 0.00240928761195385,
           "y0": 0.000760925080976405,
           "y1": 0.005144326738081835
          },
          {
           "calibration": true,
           "column_names": "Ailing_sol",
           "time": 27,
           "y": 0.0032949477899818997,
           "y0": 0.00100098963011983,
           "y1": 0.007136514573357965
          },
          {
           "calibration": true,
           "column_names": "Ailing_sol",
           "time": 28,
           "y": 0.00448381737805895,
           "y0": 0.00131505742319855,
           "y1": 0.00979563114233311
          },
          {
           "calibration": true,
           "column_names": "Ailing_sol",
           "time": 29,
           "y": 0.006061144173145251,
           "y0": 0.00172468347591343,
           "y1": 0.013253552187234074
          },
          {
           "calibration": true,
           "column_names": "Ailing_sol",
           "time": 30,
           "y": 0.00812146253883835,
           "y0": 0.00225681128213175,
           "y1": 0.017538869101554104
          },
          {
           "calibration": true,
           "column_names": "Ailing_sol",
           "time": 31,
           "y": 0.0107579613104462,
           "y0": 0.002944478951394515,
           "y1": 0.02259895075112581
          },
          {
           "calibration": true,
           "column_names": "Ailing_sol",
           "time": 32,
           "y": 0.0140431728214025,
           "y0": 0.00382713979342947,
           "y1": 0.028273222222924162
          },
          {
           "calibration": true,
           "column_names": "Ailing_sol",
           "time": 33,
           "y": 0.01800039503723375,
           "y0": 0.004950230312533634,
           "y1": 0.03419230114668602
          },
          {
           "calibration": true,
           "column_names": "Ailing_sol",
           "time": 34,
           "y": 0.02257002796977755,
           "y0": 0.006363298930227715,
           "y1": 0.0397910807281732
          },
          {
           "calibration": true,
           "column_names": "Ailing_sol",
           "time": 35,
           "y": 0.02758142165839665,
           "y0": 0.008116006664931725,
           "y1": 0.04406369682401415
          },
          {
           "calibration": true,
           "column_names": "Ailing_sol",
           "time": 36,
           "y": 0.0327459499239921,
           "y0": 0.010251226276159224,
           "y1": 0.04752290397882456
          },
          {
           "calibration": true,
           "column_names": "Ailing_sol",
           "time": 37,
           "y": 0.0376472026109695,
           "y0": 0.01279482501558956,
           "y1": 0.05113409962505101
          },
          {
           "calibration": true,
           "column_names": "Ailing_sol",
           "time": 38,
           "y": 0.04134164378046985,
           "y0": 0.015742459613829834,
           "y1": 0.05392042081803075
          },
          {
           "calibration": true,
           "column_names": "Ailing_sol",
           "time": 39,
           "y": 0.044585883617401095,
           "y0": 0.01904586888849728,
           "y1": 0.0545854922384023
          },
          {
           "calibration": true,
           "column_names": "Ailing_sol",
           "time": 40,
           "y": 0.0434735510498285,
           "y0": 0.02260208502411839,
           "y1": 0.05509574040770525
          },
          {
           "calibration": true,
           "column_names": "Ailing_sol",
           "time": 41,
           "y": 0.04219441860914225,
           "y0": 0.026251200493425084,
           "y1": 0.05362626388669012
          },
          {
           "calibration": true,
           "column_names": "Ailing_sol",
           "time": 42,
           "y": 0.0412098933011293,
           "y0": 0.02978657018393274,
           "y1": 0.05135391931980845
          },
          {
           "calibration": true,
           "column_names": "Ailing_sol",
           "time": 43,
           "y": 0.0419658590108156,
           "y0": 0.03203798588365309,
           "y1": 0.048369752801954685
          },
          {
           "calibration": true,
           "column_names": "Ailing_sol",
           "time": 44,
           "y": 0.04014378599822515,
           "y0": 0.029834324866533233,
           "y1": 0.045767815783619846
          },
          {
           "calibration": true,
           "column_names": "Ailing_sol",
           "time": 45,
           "y": 0.038179786875843946,
           "y0": 0.02617883887141939,
           "y1": 0.044562509469687886
          },
          {
           "calibration": true,
           "column_names": "Ailing_sol",
           "time": 46,
           "y": 0.03592077642679205,
           "y0": 0.022681517992168596,
           "y1": 0.04370913691818709
          },
          {
           "calibration": true,
           "column_names": "Ailing_sol",
           "time": 47,
           "y": 0.032706120982766096,
           "y0": 0.019487448129802926,
           "y1": 0.04207326881587502
          },
          {
           "calibration": true,
           "column_names": "Ailing_sol",
           "time": 48,
           "y": 0.0293721333146095,
           "y0": 0.016629825346171804,
           "y1": 0.03999652992933983
          },
          {
           "calibration": true,
           "column_names": "Ailing_sol",
           "time": 49,
           "y": 0.0263495501130819,
           "y0": 0.0141151465475559,
           "y1": 0.037994769588112785
          },
          {
           "calibration": true,
           "column_names": "Ailing_sol",
           "time": 50,
           "y": 0.023077861405909048,
           "y0": 0.011931685497984224,
           "y1": 0.03586680367588992
          },
          {
           "calibration": true,
           "column_names": "Ailing_sol",
           "time": 51,
           "y": 0.01995067484676835,
           "y0": 0.010056356154382185,
           "y1": 0.03332875389605754
          },
          {
           "calibration": true,
           "column_names": "Ailing_sol",
           "time": 52,
           "y": 0.017154164612293202,
           "y0": 0.008459967467933855,
           "y1": 0.030979833938181312
          },
          {
           "calibration": true,
           "column_names": "Ailing_sol",
           "time": 53,
           "y": 0.0146859181113541,
           "y0": 0.007110833982005665,
           "y1": 0.028189649712294297
          },
          {
           "calibration": true,
           "column_names": "Ailing_sol",
           "time": 54,
           "y": 0.01253087539225815,
           "y0": 0.00597734353505072,
           "y1": 0.025384028721600723
          },
          {
           "calibration": true,
           "column_names": "Ailing_sol",
           "time": 55,
           "y": 0.01066604442894455,
           "y0": 0.005029476899653625,
           "y1": 0.022653467860072822
          },
          {
           "calibration": true,
           "column_names": "Ailing_sol",
           "time": 56,
           "y": 0.0090642822906374,
           "y0": 0.004239735240116645,
           "y1": 0.02000408442690965
          },
          {
           "calibration": true,
           "column_names": "Ailing_sol",
           "time": 57,
           "y": 0.0076968763023614,
           "y0": 0.003583554388023865,
           "y1": 0.01757527440786359
          },
          {
           "calibration": true,
           "column_names": "Ailing_sol",
           "time": 58,
           "y": 0.0065354073885828,
           "y0": 0.003039390954654625,
           "y1": 0.015368341933935825
          },
          {
           "calibration": true,
           "column_names": "Ailing_sol",
           "time": 59,
           "y": 0.00555288675241165,
           "y0": 0.00258865385549135,
           "y1": 0.013388106226921015
          },
          {
           "calibration": true,
           "column_names": "Ailing_sol",
           "time": 60,
           "y": 0.004727381514385251,
           "y0": 0.00221547274850305,
           "y1": 0.011629783688113024
          },
          {
           "calibration": true,
           "column_names": "Ailing_sol",
           "time": 61,
           "y": 0.0040351054631173,
           "y0": 0.001906424213666415,
           "y1": 0.010087259346619165
          },
          {
           "calibration": true,
           "column_names": "Ailing_sol",
           "time": 62,
           "y": 0.0034532693680375502,
           "y0": 0.001650252327090055,
           "y1": 0.00873864642344413
          },
          {
           "calibration": true,
           "column_names": "Ailing_sol",
           "time": 63,
           "y": 0.0029649334028363002,
           "y0": 0.00143757768091739,
           "y1": 0.007566199125721965
          },
          {
           "calibration": true,
           "column_names": "Ailing_sol",
           "time": 64,
           "y": 0.00255537440534675,
           "y0": 0.00125613479176529,
           "y1": 0.006552089704200605
          },
          {
           "calibration": true,
           "column_names": "Ailing_sol",
           "time": 65,
           "y": 0.00221194617915895,
           "y0": 0.001104476914042565,
           "y1": 0.00567857602145515
          },
          {
           "calibration": true,
           "column_names": "Ailing_sol",
           "time": 66,
           "y": 0.0019238553359173,
           "y0": 0.000977677432820135,
           "y1": 0.00492865017149591
          },
          {
           "calibration": true,
           "column_names": "Ailing_sol",
           "time": 67,
           "y": 0.0016819557640701,
           "y0": 0.000871267780894395,
           "y1": 0.004286475852131795
          },
          {
           "calibration": true,
           "column_names": "Ailing_sol",
           "time": 68,
           "y": 0.0014785341336390999,
           "y0": 0.00078124317224136,
           "y1": 0.0037375934654846395
          },
          {
           "calibration": true,
           "column_names": "Ailing_sol",
           "time": 69,
           "y": 0.001307122351136,
           "y0": 0.00070457620604422,
           "y1": 0.0032690323656424398
          },
          {
           "calibration": true,
           "column_names": "Ailing_sol",
           "time": 70,
           "y": 0.0011623093159869,
           "y0": 0.000639339850749745,
           "y1": 0.0028692907071671547
          },
          {
           "calibration": true,
           "column_names": "Ailing_sol",
           "time": 71,
           "y": 0.00103958824183785,
           "y0": 0.00058350849722042,
           "y1": 0.0025282853632233497
          },
          {
           "calibration": true,
           "column_names": "Ailing_sol",
           "time": 72,
           "y": 0.00093520825612355,
           "y0": 0.00053542876266867,
           "y1": 0.00223724747775113
          },
          {
           "calibration": true,
           "column_names": "Ailing_sol",
           "time": 73,
           "y": 0.0008460673561784999,
           "y0": 0.00049375375529046,
           "y1": 0.001988606702070655
          },
          {
           "calibration": true,
           "column_names": "Ailing_sol",
           "time": 74,
           "y": 0.00076958845602345,
           "y0": 0.00045738402841373997,
           "y1": 0.0017758670554030099
          },
          {
           "calibration": true,
           "column_names": "Ailing_sol",
           "time": 75,
           "y": 0.00070364584098565,
           "y0": 0.000424184187431765,
           "y1": 0.0015934816852677049
          },
          {
           "calibration": true,
           "column_names": "Ailing_sol",
           "time": 76,
           "y": 0.00064648172701705,
           "y0": 0.00039474991208404497,
           "y1": 0.00143673066631885
          },
          {
           "calibration": true,
           "column_names": "Ailing_sol",
           "time": 77,
           "y": 0.0005966471217106501,
           "y0": 0.00036759116774189,
           "y1": 0.0013016163255087547
          },
          {
           "calibration": true,
           "column_names": "Ailing_sol",
           "time": 78,
           "y": 0.0005529459158424,
           "y0": 0.000343444992904515,
           "y1": 0.0011847615183796399
          },
          {
           "calibration": true,
           "column_names": "Ailing_sol",
           "time": 79,
           "y": 0.00051439006347205,
           "y0": 0.00032183835719479,
           "y1": 0.0010833176842424748
          },
          {
           "calibration": true,
           "column_names": "Ailing_sol",
           "time": 80,
           "y": 0.00048016809159885003,
           "y0": 0.00030238355830075,
           "y1": 0.00099488831474443
          },
          {
           "calibration": true,
           "column_names": "Ailing_sol",
           "time": 81,
           "y": 0.00045037084782955,
           "y0": 0.000284761824877895,
           "y1": 0.0009174640756099699
          },
          {
           "calibration": true,
           "column_names": "Ailing_sol",
           "time": 82,
           "y": 0.00042372845928180004,
           "y0": 0.000268710734962915,
           "y1": 0.000849354718229685
          },
          {
           "calibration": true,
           "column_names": "Ailing_sol",
           "time": 83,
           "y": 0.00040002155583345,
           "y0": 0.00025401294988109004,
           "y1": 0.0007888324442318649
          },
          {
           "calibration": true,
           "column_names": "Ailing_sol",
           "time": 84,
           "y": 0.0003783735010074,
           "y0": 0.000240489775751415,
           "y1": 0.00073461541032879
          },
          {
           "calibration": true,
           "column_names": "Ailing_sol",
           "time": 85,
           "y": 0.0003585053782444,
           "y0": 0.00022799170765203499,
           "y1": 0.000686149444663835
          },
          {
           "calibration": true,
           "column_names": "Ailing_sol",
           "time": 86,
           "y": 0.00034018594305955,
           "y0": 0.00021639474580292,
           "y1": 0.00064260261715387
          },
          {
           "calibration": true,
           "column_names": "Ailing_sol",
           "time": 87,
           "y": 0.0003232222516089,
           "y0": 0.000205595069564875,
           "y1": 0.000603279101778665
          },
          {
           "calibration": true,
           "column_names": "Ailing_sol",
           "time": 88,
           "y": 0.0003074523992836,
           "y0": 0.00019543137459547,
           "y1": 0.000567596932523855
          },
          {
           "calibration": true,
           "column_names": "Ailing_sol",
           "time": 89,
           "y": 0.000292741387966,
           "y0": 0.00018590867257440002,
           "y1": 0.00053515308245544
          },
          {
           "calibration": true,
           "column_names": "Ailing_sol",
           "time": 90,
           "y": 0.00027897438849315,
           "y0": 0.000176968693267515,
           "y1": 0.00050552563625383
          },
          {
           "calibration": true,
           "column_names": "Ailing_sol",
           "time": 91,
           "y": 0.0002661544567672,
           "y0": 0.00016855683643366,
           "y1": 0.00047827766393306997
          },
          {
           "calibration": true,
           "column_names": "Ailing_sol",
           "time": 92,
           "y": 0.00025431027461305,
           "y0": 0.00016062637805585502,
           "y1": 0.000453120064048485
          },
          {
           "calibration": true,
           "column_names": "Ailing_sol",
           "time": 93,
           "y": 0.00024324464175144999,
           "y0": 0.000153136700100695,
           "y1": 0.000429807290492995
          },
          {
           "calibration": true,
           "column_names": "Ailing_sol",
           "time": 94,
           "y": 0.00023284866620085,
           "y0": 0.00014605259129888,
           "y1": 0.00040813208761387
          },
          {
           "calibration": true,
           "column_names": "Ailing_sol",
           "time": 95,
           "y": 0.00022297102987064998,
           "y0": 0.000139435211894965,
           "y1": 0.00038791786209906
          },
          {
           "calibration": true,
           "column_names": "Ailing_sol",
           "time": 96,
           "y": 0.0002135749527951,
           "y0": 0.000133202114375235,
           "y1": 0.00036901445128016995
          },
          {
           "calibration": true,
           "column_names": "Ailing_sol",
           "time": 97,
           "y": 0.0002046280569629,
           "y0": 0.000127273306134115,
           "y1": 0.0003512916824547
          },
          {
           "calibration": true,
           "column_names": "Ailing_sol",
           "time": 98,
           "y": 0.0001961014058906,
           "y0": 0.00012162997372793,
           "y1": 0.00033463910367566
          },
          {
           "calibration": true,
           "column_names": "Ailing_sol",
           "time": 99,
           "y": 0.00018796918448055,
           "y0": 0.00011625560218812,
           "y1": 0.00031896021391729
          },
          {
           "calibration": false,
           "column_names": "Diagnosed_sol",
           "time": 0,
           "y": 3.333333324917476e-7,
           "y0": 3.333333324917476e-7,
           "y1": 3.333333324917476e-7
          },
          {
           "calibration": false,
           "column_names": "Diagnosed_sol",
           "time": 1,
           "y": 8.864857647949975e-7,
           "y0": 8.389940973074772e-7,
           "y1": 9.381706519207001e-7
          },
          {
           "calibration": false,
           "column_names": "Diagnosed_sol",
           "time": 2,
           "y": 0.0000015543704421361326,
           "y0": 0.0000014329192140394297,
           "y1": 0.0000016899764545996731
          },
          {
           "calibration": false,
           "column_names": "Diagnosed_sol",
           "time": 3,
           "y": 0.000002434349767099775,
           "y0": 0.0000021637850295519455,
           "y1": 0.0000027025533654523316
          },
          {
           "calibration": false,
           "column_names": "Diagnosed_sol",
           "time": 4,
           "y": 0.0000036128495821685647,
           "y0": 0.000003097508192695386,
           "y1": 0.000004087142860953463
          },
          {
           "calibration": false,
           "column_names": "Diagnosed_sol",
           "time": 5,
           "y": 0.000005154192194822826,
           "y0": 0.000004302028128222446,
           "y1": 0.0000060025853827028184
          },
          {
           "calibration": false,
           "column_names": "Diagnosed_sol",
           "time": 6,
           "y": 0.000007307826990654576,
           "y0": 0.000005843748817824235,
           "y1": 0.000008710407473699889
          },
          {
           "calibration": false,
           "column_names": "Diagnosed_sol",
           "time": 7,
           "y": 0.000010233020930172643,
           "y0": 0.000007793973963998724,
           "y1": 0.00001268002461074502
          },
          {
           "calibration": false,
           "column_names": "Diagnosed_sol",
           "time": 8,
           "y": 0.000014184517112880712,
           "y0": 0.000010311166533938376,
           "y1": 0.000018515105421101903
          },
          {
           "calibration": false,
           "column_names": "Diagnosed_sol",
           "time": 9,
           "y": 0.000019606070964073297,
           "y0": 0.00001364958811791439,
           "y1": 0.000026844174681173175
          },
          {
           "calibration": false,
           "column_names": "Diagnosed_sol",
           "time": 10,
           "y": 0.00002705469978536712,
           "y0": 0.00001808678553061327,
           "y1": 0.000038988085179880734
          },
          {
           "calibration": false,
           "column_names": "Diagnosed_sol",
           "time": 11,
           "y": 0.00003750657015189063,
           "y0": 0.000023909312039904763,
           "y1": 0.00005679396253981395
          },
          {
           "calibration": false,
           "column_names": "Diagnosed_sol",
           "time": 12,
           "y": 0.000051897983212256804,
           "y0": 0.000031582575320499015,
           "y1": 0.00008269540485343896
          },
          {
           "calibration": false,
           "column_names": "Diagnosed_sol",
           "time": 13,
           "y": 0.00007178595842560753,
           "y0": 0.00004156234099355061,
           "y1": 0.00012037383567069999
          },
          {
           "calibration": false,
           "column_names": "Diagnosed_sol",
           "time": 14,
           "y": 0.00009927263090503402,
           "y0": 0.00005466514103318332,
           "y1": 0.00017517889427832499
          },
          {
           "calibration": false,
           "column_names": "Diagnosed_sol",
           "time": 15,
           "y": 0.00013726182805834998,
           "y0": 0.00007188295130617916,
           "y1": 0.000254878452687915
          },
          {
           "calibration": false,
           "column_names": "Diagnosed_sol",
           "time": 16,
           "y": 0.00018972364341605,
           "y0": 0.0000945097202929901,
           "y1": 0.000370739120989985
          },
          {
           "calibration": false,
           "column_names": "Diagnosed_sol",
           "time": 17,
           "y": 0.00026101147523145,
           "y0": 0.00012424413507686001,
           "y1": 0.00053907737310502
          },
          {
           "calibration": false,
           "column_names": "Diagnosed_sol",
           "time": 18,
           "y": 0.0003590155829442,
           "y0": 0.00016331666847690002,
           "y1": 0.0007834651012671949
          },
          {
           "calibration": false,
           "column_names": "Diagnosed_sol",
           "time": 19,
           "y": 0.0004936974146402999,
           "y0": 0.000214654568844665,
           "y1": 0.00113784925197244
          },
          {
           "calibration": false,
           "column_names": "Diagnosed_sol",
           "time": 20,
           "y": 0.00067868520272895,
           "y0": 0.000282096413138695,
           "y1": 0.001650863094255305
          },
          {
           "calibration": false,
           "column_names": "Diagnosed_sol",
           "time": 21,
           "y": 0.000932581606321,
           "y0": 0.000370671843120355,
           "y1": 0.0023916913429274248
          },
          {
           "calibration": false,
           "column_names": "Diagnosed_sol",
           "time": 22,
           "y": 0.0012807040475308002,
           "y0": 0.000486966905009405,
           "y1": 0.0034577270154840497
          },
          {
           "calibration": false,
           "column_names": "Diagnosed_sol",
           "time": 23,
           "y": 0.00176220200955865,
           "y0": 0.0006395905220415101,
           "y1": 0.004983950592577415
          },
          {
           "calibration": false,
           "column_names": "Diagnosed_sol",
           "time": 24,
           "y": 0.0024259869242086503,
           "y0": 0.0008397771132877001,
           "y1": 0.0071532554458826345
          },
          {
           "calibration": false,
           "column_names": "Diagnosed_sol",
           "time": 25,
           "y": 0.00333439814858135,
           "y0": 0.0011021527985576,
           "y1": 0.010205225367099004
          },
          {
           "calibration": false,
           "column_names": "Diagnosed_sol",
           "time": 26,
           "y": 0.00457279663532965,
           "y0": 0.00144570015254426,
           "y1": 0.01443811254575844
          },
          {
           "calibration": false,
           "column_names": "Diagnosed_sol",
           "time": 27,
           "y": 0.0062522257212549,
           "y0": 0.00189494813093906,
           "y1": 0.020194911491125744
          },
          {
           "calibration": false,
           "column_names": "Diagnosed_sol",
           "time": 28,
           "y": 0.008513610810041351,
           "y0": 0.00248142976779484,
           "y1": 0.02782094571739433
          },
          {
           "calibration": false,
           "column_names": "Diagnosed_sol",
           "time": 29,
           "y": 0.0115296859294176,
           "y0": 0.003245394479017615,
           "y1": 0.03758233878761524
          },
          {
           "calibration": false,
           "column_names": "Diagnosed_sol",
           "time": 30,
           "y": 0.01550163514912125,
           "y0": 0.00423768626060334,
           "y1": 0.04954832550138227
          },
          {
           "calibration": false,
           "column_names": "Diagnosed_sol",
           "time": 31,
           "y": 0.0206462331116199,
           "y0": 0.005521760322153545,
           "y1": 0.06346822269260881
          },
          {
           "calibration": false,
           "column_names": "Diagnosed_sol",
           "time": 32,
           "y": 0.0271686213091015,
           "y0": 0.0071754356846213,
           "y1": 0.07870398424565787
          },
          {
           "calibration": false,
           "column_names": "Diagnosed_sol",
           "time": 33,
           "y": 0.035217812284827205,
           "y0": 0.009291931195184535,
           "y1": 0.09427634663879865
          },
          {
           "calibration": false,
           "column_names": "Diagnosed_sol",
           "time": 34,
           "y": 0.0448272619396448,
           "y0": 0.01197939165867857,
           "y1": 0.10903466157615176
          },
          {
           "calibration": false,
           "column_names": "Diagnosed_sol",
           "time": 35,
           "y": 0.0558533128350973,
           "y0": 0.015357710095122401,
           "y1": 0.12188875563442703
          },
          {
           "calibration": false,
           "column_names": "Diagnosed_sol",
           "time": 36,
           "y": 0.06793426722288129,
           "y0": 0.019551133178174425,
           "y1": 0.1320102088153362
          },
          {
           "calibration": false,
           "column_names": "Diagnosed_sol",
           "time": 37,
           "y": 0.08049530163407326,
           "y0": 0.02467527743428943,
           "y1": 0.13883423581719398
          },
          {
           "calibration": false,
           "column_names": "Diagnosed_sol",
           "time": 38,
           "y": 0.0928118899464607,
           "y0": 0.030817583389580176,
           "y1": 0.14259841516613958
          },
          {
           "calibration": false,
           "column_names": "Diagnosed_sol",
           "time": 39,
           "y": 0.10465029999613755,
           "y0": 0.03801185730844735,
           "y1": 0.14513437449932093
          },
          {
           "calibration": false,
           "column_names": "Diagnosed_sol",
           "time": 40,
           "y": 0.11481372267007825,
           "y0": 0.04621033836156128,
           "y1": 0.14764801114797585
          },
          {
           "calibration": false,
           "column_names": "Diagnosed_sol",
           "time": 41,
           "y": 0.12215785682201385,
           "y0": 0.05526023693382738,
           "y1": 0.1486404374241829
          },
          {
           "calibration": false,
           "column_names": "Diagnosed_sol",
           "time": 42,
           "y": 0.12312995269894594,
           "y0": 0.06489243321120736,
           "y1": 0.14711644127964968
          },
          {
           "calibration": false,
           "column_names": "Diagnosed_sol",
           "time": 43,
           "y": 0.12159999459981916,
           "y0": 0.07473159544169898,
           "y1": 0.1434068605303764
          },
          {
           "calibration": false,
           "column_names": "Diagnosed_sol",
           "time": 44,
           "y": 0.1209825575351715,
           "y0": 0.08432850949466228,
           "y1": 0.14063060060143465
          },
          {
           "calibration": false,
           "column_names": "Diagnosed_sol",
           "time": 45,
           "y": 0.11985366418957705,
           "y0": 0.09224352054297924,
           "y1": 0.13565888255834577
          },
          {
           "calibration": false,
           "column_names": "Diagnosed_sol",
           "time": 46,
           "y": 0.11618213355541225,
           "y0": 0.09058730155229568,
           "y1": 0.13262698724865907
          },
          {
           "calibration": false,
           "column_names": "Diagnosed_sol",
           "time": 47,
           "y": 0.1118419207632541,
           "y0": 0.08406780101358884,
           "y1": 0.129931803047657
          },
          {
           "calibration": false,
           "column_names": "Diagnosed_sol",
           "time": 48,
           "y": 0.10832533240318296,
           "y0": 0.07596600167453288,
           "y1": 0.12603275552392001
          },
          {
           "calibration": false,
           "column_names": "Diagnosed_sol",
           "time": 49,
           "y": 0.10464486479759211,
           "y0": 0.06831779889762399,
           "y1": 0.12299868278205392
          },
          {
           "calibration": false,
           "column_names": "Diagnosed_sol",
           "time": 50,
           "y": 0.0979583859443664,
           "y0": 0.06118719000369304,
           "y1": 0.12057536244392389
          },
          {
           "calibration": false,
           "column_names": "Diagnosed_sol",
           "time": 51,
           "y": 0.0907083377242088,
           "y0": 0.05460747797042125,
           "y1": 0.11774239391088479
          },
          {
           "calibration": false,
           "column_names": "Diagnosed_sol",
           "time": 52,
           "y": 0.08314874395728106,
           "y0": 0.04858818817883725,
           "y1": 0.11345585212111468
          },
          {
           "calibration": false,
           "column_names": "Diagnosed_sol",
           "time": 53,
           "y": 0.0756112486124038,
           "y0": 0.04312135167419908,
           "y1": 0.10855383537709705
          },
          {
           "calibration": false,
           "column_names": "Diagnosed_sol",
           "time": 54,
           "y": 0.0684910602867603,
           "y0": 0.038186846673488595,
           "y1": 0.10300069637596602
          },
          {
           "calibration": false,
           "column_names": "Diagnosed_sol",
           "time": 55,
           "y": 0.061834050342440605,
           "y0": 0.03375626225024453,
           "y1": 0.09743354097008701
          },
          {
           "calibration": false,
           "column_names": "Diagnosed_sol",
           "time": 56,
           "y": 0.05566368065774435,
           "y0": 0.02979617277160285,
           "y1": 0.09185674265027037
          },
          {
           "calibration": false,
           "column_names": "Diagnosed_sol",
           "time": 57,
           "y": 0.049986006692051846,
           "y0": 0.02627038201317184,
           "y1": 0.08593619875609873
          },
          {
           "calibration": false,
           "column_names": "Diagnosed_sol",
           "time": 58,
           "y": 0.04479412548243995,
           "y0": 0.023141876887530062,
           "y1": 0.07985297590494154
          },
          {
           "calibration": false,
           "column_names": "Diagnosed_sol",
           "time": 59,
           "y": 0.0400717183947563,
           "y0": 0.02037396747618911,
           "y1": 0.07375736311078064
          },
          {
           "calibration": false,
           "column_names": "Diagnosed_sol",
           "time": 60,
           "y": 0.0357959475368261,
           "y0": 0.017931271716952295,
           "y1": 0.06776901185512535
          },
          {
           "calibration": false,
           "column_names": "Diagnosed_sol",
           "time": 61,
           "y": 0.03193999920040365,
           "y0": 0.015780201973393485,
           "y1": 0.06197984162718055
          },
          {
           "calibration": false,
           "column_names": "Diagnosed_sol",
           "time": 62,
           "y": 0.02847447432577605,
           "y0": 0.013889469765126644,
           "y1": 0.05645698122680184
          },
          {
           "calibration": false,
           "column_names": "Diagnosed_sol",
           "time": 63,
           "y": 0.02536915428936475,
           "y0": 0.012230140436440634,
           "y1": 0.05124622639268632
          },
          {
           "calibration": false,
           "column_names": "Diagnosed_sol",
           "time": 64,
           "y": 0.022593720816075802,
           "y0": 0.01077578719705338,
           "y1": 0.04637601412832733
          },
          {
           "calibration": false,
           "column_names": "Diagnosed_sol",
           "time": 65,
           "y": 0.020118563435971702,
           "y0": 0.0095024478156119,
           "y1": 0.04186051003634926
          },
          {
           "calibration": false,
           "column_names": "Diagnosed_sol",
           "time": 66,
           "y": 0.017915444448590202,
           "y0": 0.008388514770194826,
           "y1": 0.03770258072763674
          },
          {
           "calibration": false,
           "column_names": "Diagnosed_sol",
           "time": 67,
           "y": 0.0159575911238789,
           "y0": 0.007414652616716885,
           "y1": 0.03389671780169006
          },
          {
           "calibration": false,
           "column_names": "Diagnosed_sol",
           "time": 68,
           "y": 0.0142200668342411,
           "y0": 0.0065635717008262545,
           "y1": 0.030431047081947275
          },
          {
           "calibration": false,
           "column_names": "Diagnosed_sol",
           "time": 69,
           "y": 0.012679789680987551,
           "y0": 0.00581997837871309,
           "y1": 0.02728929547592994
          },
          {
           "calibration": false,
           "column_names": "Diagnosed_sol",
           "time": 70,
           "y": 0.01131559768691655,
           "y0": 0.005170311336405545,
           "y1": 0.024452304467558788
          },
          {
           "calibration": false,
           "column_names": "Diagnosed_sol",
           "time": 71,
           "y": 0.0101082031615078,
           "y0": 0.004602610715664905,
           "y1": 0.021899185515940132
          },
          {
           "calibration": false,
           "column_names": "Diagnosed_sol",
           "time": 72,
           "y": 0.00904009304940695,
           "y0": 0.004106370732188175,
           "y1": 0.019608267117291602
          },
          {
           "calibration": false,
           "column_names": "Diagnosed_sol",
           "time": 73,
           "y": 0.00809551891870795,
           "y0": 0.003672358545008985,
           "y1": 0.017557814810424982
          },
          {
           "calibration": false,
           "column_names": "Diagnosed_sol",
           "time": 74,
           "y": 0.0072602948639541,
           "y0": 0.003292500774841725,
           "y1": 0.015726566081866563
          },
          {
           "calibration": false,
           "column_names": "Diagnosed_sol",
           "time": 75,
           "y": 0.0065217348746955,
           "y0": 0.00295974243199448,
           "y1": 0.014094081846997073
          },
          {
           "calibration": false,
           "column_names": "Diagnosed_sol",
           "time": 76,
           "y": 0.00586852570995685,
           "y0": 0.00266792780021202,
           "y1": 0.012640983099117833
          },
          {
           "calibration": false,
           "column_names": "Diagnosed_sol",
           "time": 77,
           "y": 0.0052905865013599,
           "y0": 0.00241169165819878,
           "y1": 0.011349157616496028
          },
          {
           "calibration": false,
           "column_names": "Diagnosed_sol",
           "time": 78,
           "y": 0.00477897818200285,
           "y0": 0.0021863756352104103,
           "y1": 0.010201796004548598
          },
          {
           "calibration": false,
           "column_names": "Diagnosed_sol",
           "time": 79,
           "y": 0.004325783345848299,
           "y0": 0.00198792434530328,
           "y1": 0.009183455258607804
          },
          {
           "calibration": false,
           "column_names": "Diagnosed_sol",
           "time": 80,
           "y": 0.003923995536752,
           "y0": 0.00181281737168315,
           "y1": 0.008280045120045513
          },
          {
           "calibration": false,
           "column_names": "Diagnosed_sol",
           "time": 81,
           "y": 0.0035674344981088497,
           "y0": 0.00165800692629996,
           "y1": 0.007478738925419709
          },
          {
           "calibration": false,
           "column_names": "Diagnosed_sol",
           "time": 82,
           "y": 0.00325065071228885,
           "y0": 0.001520844333572285,
           "y1": 0.006768000428564779
          },
          {
           "calibration": false,
           "column_names": "Diagnosed_sol",
           "time": 83,
           "y": 0.0029669430805370003,
           "y0": 0.001399040519026995,
           "y1": 0.006137433950789199
          },
          {
           "calibration": false,
           "column_names": "Diagnosed_sol",
           "time": 84,
           "y": 0.0027119484730064,
           "y0": 0.001290608930867135,
           "y1": 0.005577737535349979
          },
          {
           "calibration": false,
           "column_names": "Diagnosed_sol",
           "time": 85,
           "y": 0.00248496234416955,
           "y0": 0.00119383573182855,
           "y1": 0.005080600013025039
          },
          {
           "calibration": false,
           "column_names": "Diagnosed_sol",
           "time": 86,
           "y": 0.00228255440015345,
           "y0": 0.001107230852358,
           "y1": 0.004638644563965434
          },
          {
           "calibration": false,
           "column_names": "Diagnosed_sol",
           "time": 87,
           "y": 0.0021017256658524,
           "y0": 0.00102950904401947,
           "y1": 0.004245324549265149
          },
          {
           "calibration": false,
           "column_names": "Diagnosed_sol",
           "time": 88,
           "y": 0.0019391011446714,
           "y0": 0.00095955950964702,
           "y1": 0.0038948292029089594
          },
          {
           "calibration": false,
           "column_names": "Diagnosed_sol",
           "time": 89,
           "y": 0.00178780686110255,
           "y0": 0.00089641647355162,
           "y1": 0.0035820388817227795
          },
          {
           "calibration": false,
           "column_names": "Diagnosed_sol",
           "time": 90,
           "y": 0.0016520020435563999,
           "y0": 0.000839246346731615,
           "y1": 0.0033024334465152844
          },
          {
           "calibration": false,
           "column_names": "Diagnosed_sol",
           "time": 91,
           "y": 0.00152983603766185,
           "y0": 0.00078732689726161,
           "y1": 0.0030520422849803497
          },
          {
           "calibration": false,
           "column_names": "Diagnosed_sol",
           "time": 92,
           "y": 0.00141969462856645,
           "y0": 0.000740034878253885,
           "y1": 0.002827366406563585
          },
          {
           "calibration": false,
           "column_names": "Diagnosed_sol",
           "time": 93,
           "y": 0.0013201636611483501,
           "y0": 0.000696825236082065,
           "y1": 0.0026253386866300845
          },
          {
           "calibration": false,
           "column_names": "Diagnosed_sol",
           "time": 94,
           "y": 0.00123000825988125,
           "y0": 0.00065722795843606,
           "y1": 0.0024432659614830247
          },
          {
           "calibration": false,
           "column_names": "Diagnosed_sol",
           "time": 95,
           "y": 0.0011469000601209002,
           "y0": 0.000620834867004285,
           "y1": 0.0022787910420447046
          },
          {
           "calibration": false,
           "column_names": "Diagnosed_sol",
           "time": 96,
           "y": 0.0010697881225496001,
           "y0": 0.000587291727424545,
           "y1": 0.0021298466366714997
          },
          {
           "calibration": false,
           "column_names": "Diagnosed_sol",
           "time": 97,
           "y": 0.0009996106382458999,
           "y0": 0.0005562880716751801,
           "y1": 0.001994624506914945
          },
          {
           "calibration": false,
           "column_names": "Diagnosed_sol",
           "time": 98,
           "y": 0.0009355899819638,
           "y0": 0.000527555801090755,
           "y1": 0.001871544716414
          },
          {
           "calibration": false,
           "column_names": "Diagnosed_sol",
           "time": 99,
           "y": 0.0008770449785515,
           "y0": 0.0005007864499929949,
           "y1": 0.0017592206713743298
          },
          {
           "calibration": true,
           "column_names": "Diagnosed_sol",
           "time": 0,
           "y": 3.333333324917476e-7,
           "y0": 3.333333324917476e-7,
           "y1": 3.333333324917476e-7
          },
          {
           "calibration": true,
           "column_names": "Diagnosed_sol",
           "time": 1,
           "y": 8.856570445914258e-7,
           "y0": 8.318556353970052e-7,
           "y1": 9.364052061755501e-7
          },
          {
           "calibration": true,
           "column_names": "Diagnosed_sol",
           "time": 2,
           "y": 0.0000015649376337023568,
           "y0": 0.0000014167979202284187,
           "y1": 0.0000016845838842982629
          },
          {
           "calibration": true,
           "column_names": "Diagnosed_sol",
           "time": 3,
           "y": 0.0000023815101712898468,
           "y0": 0.000002138890306468966,
           "y1": 0.0000026724371082309515
          },
          {
           "calibration": true,
           "column_names": "Diagnosed_sol",
           "time": 4,
           "y": 0.0000034911618058686145,
           "y0": 0.0000030648393590126945,
           "y1": 0.00000401300737848942
          },
          {
           "calibration": true,
           "column_names": "Diagnosed_sol",
           "time": 5,
           "y": 0.000005002271336707054,
           "y0": 0.000004265026632310764,
           "y1": 0.000005883740300305362
          },
          {
           "calibration": true,
           "column_names": "Diagnosed_sol",
           "time": 6,
           "y": 0.000007028241043371963,
           "y0": 0.00000580143735078309,
           "y1": 0.000008552605322620366
          },
          {
           "calibration": true,
           "column_names": "Diagnosed_sol",
           "time": 7,
           "y": 0.000009843828593147919,
           "y0": 0.000007834875123080565,
           "y1": 0.000012338942360656801
          },
          {
           "calibration": true,
           "column_names": "Diagnosed_sol",
           "time": 8,
           "y": 0.000013733461855736095,
           "y0": 0.000010535041883485974,
           "y1": 0.000017726561782183126
          },
          {
           "calibration": true,
           "column_names": "Diagnosed_sol",
           "time": 9,
           "y": 0.000019142835299135186,
           "y0": 0.00001410871618645615,
           "y1": 0.00002540557006796007
          },
          {
           "calibration": true,
           "column_names": "Diagnosed_sol",
           "time": 10,
           "y": 0.000026420265385240782,
           "y0": 0.00001876579472082085,
           "y1": 0.000036421769800654145
          },
          {
           "calibration": true,
           "column_names": "Diagnosed_sol",
           "time": 11,
           "y": 0.00003679875408124644,
           "y0": 0.000024890710028557807,
           "y1": 0.00005230321858107345
          },
          {
           "calibration": true,
           "column_names": "Diagnosed_sol",
           "time": 12,
           "y": 0.00005132223122927826,
           "y0": 0.00003311129148642067,
           "y1": 0.00007507624250138178
          },
          {
           "calibration": true,
           "column_names": "Diagnosed_sol",
           "time": 13,
           "y": 0.00007106261909939349,
           "y0": 0.00004402715385367628,
           "y1": 0.00010757759082475
          },
          {
           "calibration": true,
           "column_names": "Diagnosed_sol",
           "time": 14,
           "y": 0.00009837239485932514,
           "y0": 0.00005816796638100641,
           "y1": 0.00015354280840250499
          },
          {
           "calibration": true,
           "column_names": "Diagnosed_sol",
           "time": 15,
           "y": 0.00013615377974925,
           "y0": 0.00007680858616367913,
           "y1": 0.00021910368232047
          },
          {
           "calibration": true,
           "column_names": "Diagnosed_sol",
           "time": 16,
           "y": 0.0001884172306745,
           "y0": 0.00010140600352311874,
           "y1": 0.00031259138049786496
          },
          {
           "calibration": true,
           "column_names": "Diagnosed_sol",
           "time": 17,
           "y": 0.00026070156309280005,
           "y0": 0.000133863933297045,
           "y1": 0.000445851297990825
          },
          {
           "calibration": true,
           "column_names": "Diagnosed_sol",
           "time": 18,
           "y": 0.00036064950108990004,
           "y0": 0.000176690836815385,
           "y1": 0.00063569813501085
          },
          {
           "calibration": true,
           "column_names": "Diagnosed_sol",
           "time": 19,
           "y": 0.00049879195285025,
           "y0": 0.00023319218526008,
           "y1": 0.00090594419452824
          },
          {
           "calibration": true,
           "column_names": "Diagnosed_sol",
           "time": 20,
           "y": 0.0006896190461702001,
           "y0": 0.000307720898126655,
           "y1": 0.001290193112799825
          },
          {
           "calibration": true,
           "column_names": "Diagnosed_sol",
           "time": 21,
           "y": 0.0009530140087008,
           "y0": 0.000406001528608555,
           "y1": 0.001835644704988155
          },
          {
           "calibration": true,
           "column_names": "Diagnosed_sol",
           "time": 22,
           "y": 0.0013161762035451001,
           "y0": 0.00053556002676482,
           "y1": 0.00260812499327579
          },
          {
           "calibration": true,
           "column_names": "Diagnosed_sol",
           "time": 23,
           "y": 0.0018161337357014001,
           "y0": 0.00070626880915363,
           "y1": 0.00369862330844618
          },
          {
           "calibration": true,
           "column_names": "Diagnosed_sol",
           "time": 24,
           "y": 0.00250297482125455,
           "y0": 0.00093105879204808,
           "y1": 0.0052318001864477106
          },
          {
           "calibration": true,
           "column_names": "Diagnosed_sol",
           "time": 25,
           "y": 0.0034471495309844,
           "y0": 0.00122681848588398,
           "y1": 0.007372411759570156
          },
          {
           "calibration": true,
           "column_names": "Diagnosed_sol",
           "time": 26,
           "y": 0.0047430535778403005,
           "y0": 0.001616415788885155,
           "y1": 0.01033420707099134
          },
          {
           "calibration": true,
           "column_names": "Diagnosed_sol",
           "time": 27,
           "y": 0.0065050479024648,
           "y0": 0.002130833314731675,
           "y1": 0.014383762981742576
          },
          {
           "calibration": true,
           "column_names": "Diagnosed_sol",
           "time": 28,
           "y": 0.00888265250250695,
           "y0": 0.00280579817481334,
           "y1": 0.019846743065863783
          },
          {
           "calibration": true,
           "column_names": "Diagnosed_sol",
           "time": 29,
           "y": 0.012058374937623701,
           "y0": 0.003687585901934575,
           "y1": 0.02703790944069618
          },
          {
           "calibration": true,
           "column_names": "Diagnosed_sol",
           "time": 30,
           "y": 0.01624304987490175,
           "y0": 0.00483666902873662,
           "y1": 0.036234863474965046
          },
          {
           "calibration": true,
           "column_names": "Diagnosed_sol",
           "time": 31,
           "y": 0.02166026458144185,
           "y0": 0.006328048720024505,
           "y1": 0.0475882528349757
          },
          {
           "calibration": true,
           "column_names": "Diagnosed_sol",
           "time": 32,
           "y": 0.0285149188712239,
           "y0": 0.00825265971943734,
           "y1": 0.06099742967635389
          },
          {
           "calibration": true,
           "column_names": "Diagnosed_sol",
           "time": 33,
           "y": 0.03694330900907515,
           "y0": 0.01072812979109577,
           "y1": 0.0760223496705293
          },
          {
           "calibration": true,
           "column_names": "Diagnosed_sol",
           "time": 34,
           "y": 0.046949490904808,
           "y0": 0.013874074723571524,
           "y1": 0.0918841954320669
          },
          {
           "calibration": true,
           "column_names": "Diagnosed_sol",
           "time": 35,
           "y": 0.05834287218749515,
           "y0": 0.01782196555286642,
           "y1": 0.10755529440939424
          },
          {
           "calibration": true,
           "column_names": "Diagnosed_sol",
           "time": 36,
           "y": 0.07070447504520411,
           "y0": 0.022701801545917926,
           "y1": 0.12194073349237435
          },
          {
           "calibration": true,
           "column_names": "Diagnosed_sol",
           "time": 37,
           "y": 0.0833768062293529,
           "y0": 0.028621830698102674,
           "y1": 0.13330016434192649
          },
          {
           "calibration": true,
           "column_names": "Diagnosed_sol",
           "time": 38,
           "y": 0.0955756828188896,
           "y0": 0.03564237542450423,
           "y1": 0.14102776050567623
          },
          {
           "calibration": true,
           "column_names": "Diagnosed_sol",
           "time": 39,
           "y": 0.10693475604057309,
           "y0": 0.04374516159296034,
           "y1": 0.1455204270780086
          },
          {
           "calibration": true,
           "column_names": "Diagnosed_sol",
           "time": 40,
           "y": 0.11649538949131966,
           "y0": 0.05280514862388369,
           "y1": 0.1477880448102951
          },
          {
           "calibration": true,
           "column_names": "Diagnosed_sol",
           "time": 41,
           "y": 0.12304269522428504,
           "y0": 0.06254782304167743,
           "y1": 0.1465065024793148
          },
          {
           "calibration": true,
           "column_names": "Diagnosed_sol",
           "time": 42,
           "y": 0.12536386400461194,
           "y0": 0.07265899628400799,
           "y1": 0.14463798552751536
          },
          {
           "calibration": true,
           "column_names": "Diagnosed_sol",
           "time": 43,
           "y": 0.12612148374319077,
           "y0": 0.08302997015416616,
           "y1": 0.14073262661695476
          },
          {
           "calibration": true,
           "column_names": "Diagnosed_sol",
           "time": 44,
           "y": 0.125757597386837,
           "y0": 0.09291284680366511,
           "y1": 0.13713717088103292
          },
          {
           "calibration": true,
           "column_names": "Diagnosed_sol",
           "time": 45,
           "y": 0.12173105031251899,
           "y0": 0.10181540772318833,
           "y1": 0.1349987886846065
          },
          {
           "calibration": true,
           "column_names": "Diagnosed_sol",
           "time": 46,
           "y": 0.11891658604145044,
           "y0": 0.10369359813630578,
           "y1": 0.1342292636632919
          },
          {
           "calibration": true,
           "column_names": "Diagnosed_sol",
           "time": 47,
           "y": 0.11443804576992986,
           "y0": 0.0978147465735673,
           "y1": 0.131742887198925
          },
          {
           "calibration": true,
           "column_names": "Diagnosed_sol",
           "time": 48,
           "y": 0.11005422100424765,
           "y0": 0.0897825594991445,
           "y1": 0.12790637537837024
          },
          {
           "calibration": true,
           "column_names": "Diagnosed_sol",
           "time": 49,
           "y": 0.10293574258685105,
           "y0": 0.0816628154367208,
           "y1": 0.12516790144145484
          },
          {
           "calibration": true,
           "column_names": "Diagnosed_sol",
           "time": 50,
           "y": 0.09564086794853205,
           "y0": 0.07388785481452935,
           "y1": 0.12119990736246102
          },
          {
           "calibration": true,
           "column_names": "Diagnosed_sol",
           "time": 51,
           "y": 0.0884331203997135,
           "y0": 0.0665492754429578,
           "y1": 0.11904889754951
          },
          {
           "calibration": true,
           "column_names": "Diagnosed_sol",
           "time": 52,
           "y": 0.08105475455522534,
           "y0": 0.059703811630606576,
           "y1": 0.11574168093502518
          },
          {
           "calibration": true,
           "column_names": "Diagnosed_sol",
           "time": 53,
           "y": 0.0738948732614517,
           "y0": 0.05338076949119563,
           "y1": 0.11132025159895415
          },
          {
           "calibration": true,
           "column_names": "Diagnosed_sol",
           "time": 54,
           "y": 0.06705356761813161,
           "y0": 0.04758795667439692,
           "y1": 0.10605036653578277
          },
          {
           "calibration": true,
           "column_names": "Diagnosed_sol",
           "time": 55,
           "y": 0.060599045827984796,
           "y0": 0.0423180809244513,
           "y1": 0.10018117800354955
          },
          {
           "calibration": true,
           "column_names": "Diagnosed_sol",
           "time": 56,
           "y": 0.0545731838792562,
           "y0": 0.037552448175847464,
           "y1": 0.09393557682633398
          },
          {
           "calibration": true,
           "column_names": "Diagnosed_sol",
           "time": 57,
           "y": 0.04899715632200235,
           "y0": 0.033264874480664695,
           "y1": 0.08750458955764766
          },
          {
           "calibration": true,
           "column_names": "Diagnosed_sol",
           "time": 58,
           "y": 0.0438758563250303,
           "y0": 0.029424490500241485,
           "y1": 0.08104637674987308
          },
          {
           "calibration": true,
           "column_names": "Diagnosed_sol",
           "time": 59,
           "y": 0.0392023734748363,
           "y0": 0.02599781285971399,
           "y1": 0.07468716651201246
          },
          {
           "calibration": true,
           "column_names": "Diagnosed_sol",
           "time": 60,
           "y": 0.034961050376296,
           "y0": 0.022950502298772286,
           "y1": 0.06852386444807052
          },
          {
           "calibration": true,
           "column_names": "Diagnosed_sol",
           "time": 61,
           "y": 0.0311302170157432,
           "y0": 0.020248294901102727,
           "y1": 0.06262776721268884
          },
          {
           "calibration": true,
           "column_names": "Diagnosed_sol",
           "time": 62,
           "y": 0.027684445492923197,
           "y0": 0.0178581279702484,
           "y1": 0.05704801697283977
          },
          {
           "calibration": true,
           "column_names": "Diagnosed_sol",
           "time": 63,
           "y": 0.024596180766820852,
           "y0": 0.0157485205680131,
           "y1": 0.051815691776573594
          },
          {
           "calibration": true,
           "column_names": "Diagnosed_sol",
           "time": 64,
           "y": 0.02183694206178185,
           "y0": 0.013889977242797601,
           "y1": 0.04694708045572035
          },
          {
           "calibration": true,
           "column_names": "Diagnosed_sol",
           "time": 65,
           "y": 0.01937836129218335,
           "y0": 0.012255183234810781,
           "y1": 0.042446881160140025
          },
          {
           "calibration": true,
           "column_names": "Diagnosed_sol",
           "time": 66,
           "y": 0.017192811705172,
           "y0": 0.01081909281201654,
           "y1": 0.03831091076135633
          },
          {
           "calibration": true,
           "column_names": "Diagnosed_sol",
           "time": 67,
           "y": 0.015242009423673101,
           "y0": 0.009558893879875515,
           "y1": 0.034528383240103634
          },
          {
           "calibration": true,
           "column_names": "Diagnosed_sol",
           "time": 68,
           "y": 0.01351268915459505,
           "y0": 0.008453987026587076,
           "y1": 0.031083881668746413
          },
          {
           "calibration": true,
           "column_names": "Diagnosed_sol",
           "time": 69,
           "y": 0.0119857313111424,
           "y0": 0.007485857862047815,
           "y1": 0.027958727814257085
          },
          {
           "calibration": true,
           "column_names": "Diagnosed_sol",
           "time": 70,
           "y": 0.01063929591327905,
           "y0": 0.00663793419953427,
           "y1": 0.025132438912987658
          },
          {
           "calibration": true,
           "column_names": "Diagnosed_sol",
           "time": 71,
           "y": 0.009453323669731551,
           "y0": 0.00589547164272512,
           "y1": 0.022583508770912853
          },
          {
           "calibration": true,
           "column_names": "Diagnosed_sol",
           "time": 72,
           "y": 0.0084095927886664,
           "y0": 0.00524538205936546,
           "y1": 0.020290176477283154
          },
          {
           "calibration": true,
           "column_names": "Diagnosed_sol",
           "time": 73,
           "y": 0.00749162863939995,
           "y0": 0.00467610228806731,
           "y1": 0.01823105076327919
          },
          {
           "calibration": true,
           "column_names": "Diagnosed_sol",
           "time": 74,
           "y": 0.00668459502048785,
           "y0": 0.004175806837156345,
           "y1": 0.016385400760918826
          },
          {
           "calibration": true,
           "column_names": "Diagnosed_sol",
           "time": 75,
           "y": 0.00597522198222575,
           "y0": 0.00372985106660052,
           "y1": 0.014733477216213877
          },
          {
           "calibration": true,
           "column_names": "Diagnosed_sol",
           "time": 76,
           "y": 0.00535617279820135,
           "y0": 0.00333950360072774,
           "y1": 0.013256676867604178
          },
          {
           "calibration": true,
           "column_names": "Diagnosed_sol",
           "time": 77,
           "y": 0.00482529262080785,
           "y0": 0.0029975680983624748,
           "y1": 0.011937729781493458
          },
          {
           "calibration": true,
           "column_names": "Diagnosed_sol",
           "time": 78,
           "y": 0.00435691559687255,
           "y0": 0.002697767817880905,
           "y1": 0.010760572412982543
          },
          {
           "calibration": true,
           "column_names": "Diagnosed_sol",
           "time": 79,
           "y": 0.0039433521451427995,
           "y0": 0.0024339545168913547,
           "y1": 0.009710491308942403
          },
          {
           "calibration": true,
           "column_names": "Diagnosed_sol",
           "time": 80,
           "y": 0.00357783958315845,
           "y0": 0.002201936335768495,
           "y1": 0.008774035051464998
          },
          {
           "calibration": true,
           "column_names": "Diagnosed_sol",
           "time": 81,
           "y": 0.0032523960107937,
           "y0": 0.00199777142843227,
           "y1": 0.007939010183326838
          },
          {
           "calibration": true,
           "column_names": "Diagnosed_sol",
           "time": 82,
           "y": 0.0029603105504065,
           "y0": 0.0018228914297651,
           "y1": 0.007194375083781759
          },
          {
           "calibration": true,
           "column_names": "Diagnosed_sol",
           "time": 83,
           "y": 0.0027007841272279,
           "y0": 0.00167493917397219,
           "y1": 0.006530162994749814
          },
          {
           "calibration": true,
           "column_names": "Diagnosed_sol",
           "time": 84,
           "y": 0.0024698576889932,
           "y0": 0.001542135828640305,
           "y1": 0.005937440646812239
          },
          {
           "calibration": true,
           "column_names": "Diagnosed_sol",
           "time": 85,
           "y": 0.0022640489041805,
           "y0": 0.00142378751188509,
           "y1": 0.005408200551755639
          },
          {
           "calibration": true,
           "column_names": "Diagnosed_sol",
           "time": 86,
           "y": 0.00208031246438615,
           "y0": 0.00131803429685527,
           "y1": 0.004935281933285249
          },
          {
           "calibration": true,
           "column_names": "Diagnosed_sol",
           "time": 87,
           "y": 0.0019159750081598498,
           "y0": 0.001219165674410745,
           "y1": 0.0045123113319277194
          },
          {
           "calibration": true,
           "column_names": "Diagnosed_sol",
           "time": 88,
           "y": 0.0017687010695226,
           "y0": 0.001129856059560475,
           "y1": 0.004133621742948834
          },
          {
           "calibration": true,
           "column_names": "Diagnosed_sol",
           "time": 89,
           "y": 0.0016364444163626999,
           "y0": 0.00104960271273737,
           "y1": 0.003794172755442499
          },
          {
           "calibration": true,
           "column_names": "Diagnosed_sol",
           "time": 90,
           "y": 0.0015174161526374,
           "y0": 0.00097728824766815,
           "y1": 0.003489491681102609
          },
          {
           "calibration": true,
           "column_names": "Diagnosed_sol",
           "time": 91,
           "y": 0.0014100519474595499,
           "y0": 0.00091194247361269,
           "y1": 0.0032156245317309443
          },
          {
           "calibration": true,
           "column_names": "Diagnosed_sol",
           "time": 92,
           "y": 0.00131298537598915,
           "y0": 0.000852723963907865,
           "y1": 0.0029690781026146893
          },
          {
           "calibration": true,
           "column_names": "Diagnosed_sol",
           "time": 93,
           "y": 0.0012250170693732,
           "y0": 0.00079890389461064,
           "y1": 0.0027467488078400143
          },
          {
           "calibration": true,
           "column_names": "Diagnosed_sol",
           "time": 94,
           "y": 0.00114510179264465,
           "y0": 0.000750545653863745,
           "y1": 0.0025459104101173144
          },
          {
           "calibration": true,
           "column_names": "Diagnosed_sol",
           "time": 95,
           "y": 0.00107232568552715,
           "y0": 0.000707365220296105,
           "y1": 0.0023641480132937046
          },
          {
           "calibration": true,
           "column_names": "Diagnosed_sol",
           "time": 96,
           "y": 0.0010058856569230001,
           "y0": 0.0006675865588476,
           "y1": 0.0021993310074321093
          },
          {
           "calibration": true,
           "column_names": "Diagnosed_sol",
           "time": 97,
           "y": 0.00094508103211405,
           "y0": 0.00063084372959561,
           "y1": 0.0020495896344072495
          },
          {
           "calibration": true,
           "column_names": "Diagnosed_sol",
           "time": 98,
           "y": 0.0008920626132748501,
           "y0": 0.000596817667246765,
           "y1": 0.0019132650340906996
          },
          {
           "calibration": true,
           "column_names": "Diagnosed_sol",
           "time": 99,
           "y": 0.0008443934784736001,
           "y0": 0.000565217863186225,
           "y1": 0.0017889006529002497
          },
          {
           "calibration": false,
           "column_names": "Extinct_sol",
           "time": 0,
           "y": 5.846536563154435e-32,
           "y0": 5.234284121497928e-32,
           "y1": 6.562159303772605e-32
          },
          {
           "calibration": false,
           "column_names": "Extinct_sol",
           "time": 1,
           "y": 2.1201690576788668e-11,
           "y0": 1.8886687439684245e-11,
           "y1": 2.3978547706443588e-11
          },
          {
           "calibration": false,
           "column_names": "Extinct_sol",
           "time": 2,
           "y": 1.622594142380862e-10,
           "y0": 1.4475292839377651e-10,
           "y1": 1.8441699070614881e-10
          },
          {
           "calibration": false,
           "column_names": "Extinct_sol",
           "time": 3,
           "y": 5.782458123437806e-10,
           "y0": 5.101016803399359e-10,
           "y1": 6.607948549453013e-10
          },
          {
           "calibration": false,
           "column_names": "Extinct_sol",
           "time": 4,
           "y": 1.5024194111035172e-9,
           "y0": 1.2971746954359983e-9,
           "y1": 1.7017387998752297e-9
          },
          {
           "calibration": false,
           "column_names": "Extinct_sol",
           "time": 5,
           "y": 3.2485153456107696e-9,
           "y0": 2.749498850818099e-9,
           "y1": 3.63426910787723e-9
          },
          {
           "calibration": false,
           "column_names": "Extinct_sol",
           "time": 6,
           "y": 6.264550878043451e-9,
           "y0": 5.2078337198224744e-9,
           "y1": 7.0229736026661265e-9
          },
          {
           "calibration": false,
           "column_names": "Extinct_sol",
           "time": 7,
           "y": 1.1136526367749866e-8,
           "y0": 9.063109862594843e-9,
           "y1": 1.2528037540704417e-8
          },
          {
           "calibration": false,
           "column_names": "Extinct_sol",
           "time": 8,
           "y": 1.888955214468524e-8,
           "y0": 1.491840766476571e-8,
           "y1": 2.1259915072846523e-8
          },
          {
           "calibration": false,
           "column_names": "Extinct_sol",
           "time": 9,
           "y": 3.0654993210532666e-8,
           "y0": 2.3532345316823465e-8,
           "y1": 3.49623242357211e-8
          },
          {
           "calibration": false,
           "column_names": "Extinct_sol",
           "time": 10,
           "y": 4.772555506349363e-8,
           "y0": 3.591034793970493e-8,
           "y1": 5.595314487294445e-8
          },
          {
           "calibration": false,
           "column_names": "Extinct_sol",
           "time": 11,
           "y": 7.255649947524034e-8,
           "y0": 5.339644975066449e-8,
           "y1": 8.784937435279972e-8
          },
          {
           "calibration": false,
           "column_names": "Extinct_sol",
           "time": 12,
           "y": 1.0818983753324574e-7,
           "y0": 7.777961563704139e-8,
           "y1": 1.3537330403323722e-7
          },
          {
           "calibration": false,
           "column_names": "Extinct_sol",
           "time": 13,
           "y": 1.5951073351061495e-7,
           "y0": 1.1144213978298012e-7,
           "y1": 2.0539140663800028e-7
          },
          {
           "calibration": false,
           "column_names": "Extinct_sol",
           "time": 14,
           "y": 2.3237061697045647e-7,
           "y0": 1.5756199758243384e-7,
           "y1": 3.086494672288609e-7
          },
          {
           "calibration": false,
           "column_names": "Extinct_sol",
           "time": 15,
           "y": 3.353061686084402e-7,
           "y0": 2.203738837636138e-7,
           "y1": 4.582821986787166e-7
          },
          {
           "calibration": false,
           "column_names": "Extinct_sol",
           "time": 16,
           "y": 4.796799544237729e-7,
           "y0": 3.055274632401961e-7,
           "y1": 6.76134118293703e-7
          },
          {
           "calibration": false,
           "column_names": "Extinct_sol",
           "time": 17,
           "y": 6.76926902087871e-7,
           "y0": 4.2055887519154565e-7,
           "y1": 9.951732863555661e-7
          },
          {
           "calibration": false,
           "column_names": "Extinct_sol",
           "time": 18,
           "y": 9.505357922989788e-7,
           "y0": 5.730270004278281e-7,
           "y1": 0.0000014658991574378887
          },
          {
           "calibration": false,
           "column_names": "Extinct_sol",
           "time": 19,
           "y": 0.000001329428471308347,
           "y0": 7.746252521201314e-7,
           "y1": 0.0000021459030222104045
          },
          {
           "calibration": false,
           "column_names": "Extinct_sol",
           "time": 20,
           "y": 0.000001853439016485936,
           "y0": 0.0000010408703303710354,
           "y1": 0.0000031344762192020424
          },
          {
           "calibration": false,
           "column_names": "Extinct_sol",
           "time": 21,
           "y": 0.000002577387590463332,
           "y0": 0.0000013935811807641584,
           "y1": 0.000004571517888507515
          },
          {
           "calibration": false,
           "column_names": "Extinct_sol",
           "time": 22,
           "y": 0.000003576708536456863,
           "y0": 0.0000018605730588205915,
           "y1": 0.0000066659834601523464
          },
          {
           "calibration": false,
           "column_names": "Extinct_sol",
           "time": 23,
           "y": 0.000004955089252689504,
           "y0": 0.0000024783174126241647,
           "y1": 0.000009706344553706003
          },
          {
           "calibration": false,
           "column_names": "Extinct_sol",
           "time": 24,
           "y": 0.000006858951564936433,
           "y0": 0.0000032946056876426157,
           "y1": 0.000014112756571194038
          },
          {
           "calibration": false,
           "column_names": "Extinct_sol",
           "time": 25,
           "y": 0.000009526485428068554,
           "y0": 0.000004358808428150951,
           "y1": 0.000020447161386982767
          },
          {
           "calibration": false,
           "column_names": "Extinct_sol",
           "time": 26,
           "y": 0.000013216388651926536,
           "y0": 0.000005758759880336584,
           "y1": 0.000029508927946153558
          },
          {
           "calibration": false,
           "column_names": "Extinct_sol",
           "time": 27,
           "y": 0.00001831422014220152,
           "y0": 0.000007599372725053399,
           "y1": 0.00004248167970217764
          },
          {
           "calibration": false,
           "column_names": "Extinct_sol",
           "time": 28,
           "y": 0.000025346192160213832,
           "y0": 0.000010018011198553721,
           "y1": 0.000060959574511798544
          },
          {
           "calibration": false,
           "column_names": "Extinct_sol",
           "time": 29,
           "y": 0.000035025906981900334,
           "y0": 0.000013194309531172621,
           "y1": 0.00008710117399459703
          },
          {
           "calibration": false,
           "column_names": "Extinct_sol",
           "time": 30,
           "y": 0.00004831367186852731,
           "y0": 0.000017362742801196875,
           "y1": 0.00012375841397435996
          },
          {
           "calibration": false,
           "column_names": "Extinct_sol",
           "time": 31,
           "y": 0.00006648840280831791,
           "y0": 0.00002282871664647246,
           "y1": 0.00017458774382244496
          },
          {
           "calibration": false,
           "column_names": "Extinct_sol",
           "time": 32,
           "y": 0.00009095070345210843,
           "y0": 0.00002998899299200275,
           "y1": 0.00024411055637751992
          },
          {
           "calibration": false,
           "column_names": "Extinct_sol",
           "time": 33,
           "y": 0.0001239536795765,
           "y0": 0.00003935692257073243,
           "y1": 0.00033769048459355493
          },
          {
           "calibration": false,
           "column_names": "Extinct_sol",
           "time": 34,
           "y": 0.0001682239962974,
           "y0": 0.00005159388510946883,
           "y1": 0.0004614130972185449
          },
          {
           "calibration": false,
           "column_names": "Extinct_sol",
           "time": 35,
           "y": 0.0002271156117785,
           "y0": 0.00006754641581210307,
           "y1": 0.0006218640424776448
          },
          {
           "calibration": false,
           "column_names": "Extinct_sol",
           "time": 36,
           "y": 0.00030467947362919996,
           "y0": 0.00008829045073071029,
           "y1": 0.0008258468180428248
          },
          {
           "calibration": false,
           "column_names": "Extinct_sol",
           "time": 37,
           "y": 0.000405655344366,
           "y0": 0.00011517993771117,
           "y1": 0.001080063724657465
          },
          {
           "calibration": false,
           "column_names": "Extinct_sol",
           "time": 38,
           "y": 0.00053540291264645,
           "y0": 0.00014989949122535498,
           "y1": 0.0013908262422773297
          },
          {
           "calibration": false,
           "column_names": "Extinct_sol",
           "time": 39,
           "y": 0.0006997603049967,
           "y0": 0.00019451492844381,
           "y1": 0.0017638132208958096
          },
          {
           "calibration": false,
           "column_names": "Extinct_sol",
           "time": 40,
           "y": 0.0009048520296345501,
           "y0": 0.0002515179330657,
           "y1": 0.0021998709416947747
          },
          {
           "calibration": false,
           "column_names": "Extinct_sol",
           "time": 41,
           "y": 0.0011568548507057,
           "y0": 0.0003238549223169,
           "y1": 0.0027014988474547445
          },
          {
           "calibration": false,
           "column_names": "Extinct_sol",
           "time": 42,
           "y": 0.0014617638080379998,
           "y0": 0.00041493159224038006,
           "y1": 0.0032738792710005744
          },
          {
           "calibration": false,
           "column_names": "Extinct_sol",
           "time": 43,
           "y": 0.0018251661676913001,
           "y0": 0.00052859012212132,
           "y1": 0.003918745741248085
          },
          {
           "calibration": false,
           "column_names": "Extinct_sol",
           "time": 44,
           "y": 0.0022462832275778,
           "y0": 0.000669046139228075,
           "y1": 0.004636989813297965
          },
          {
           "calibration": false,
           "column_names": "Extinct_sol",
           "time": 45,
           "y": 0.00273098074831065,
           "y0": 0.00084079677762924,
           "y1": 0.00542872135993088
          },
          {
           "calibration": false,
           "column_names": "Extinct_sol",
           "time": 46,
           "y": 0.0032832352444529,
           "y0": 0.0010484938102308101,
           "y1": 0.006293354998342654
          },
          {
           "calibration": false,
           "column_names": "Extinct_sol",
           "time": 47,
           "y": 0.0039052267093211,
           "y0": 0.00129680738318708,
           "y1": 0.00723408674821253
          },
          {
           "calibration": false,
           "column_names": "Extinct_sol",
           "time": 48,
           "y": 0.00459835608489805,
           "y0": 0.00159027207409959,
           "y1": 0.00824716691859064
          },
          {
           "calibration": false,
           "column_names": "Extinct_sol",
           "time": 49,
           "y": 0.0053633011411875,
           "y0": 0.0019331594114191351,
           "y1": 0.00932913641445334
          },
          {
           "calibration": false,
           "column_names": "Extinct_sol",
           "time": 50,
           "y": 0.00620001112110905,
           "y0": 0.002329341997392445,
           "y1": 0.010477481922134725
          },
          {
           "calibration": false,
           "column_names": "Extinct_sol",
           "time": 51,
           "y": 0.0071078550536185,
           "y0": 0.0027821988915092853,
           "y1": 0.011689329333603334
          },
          {
           "calibration": false,
           "column_names": "Extinct_sol",
           "time": 52,
           "y": 0.00808559125289315,
           "y0": 0.00329455932369449,
           "y1": 0.012961603328585593
          },
          {
           "calibration": false,
           "column_names": "Extinct_sol",
           "time": 53,
           "y": 0.0091315489262342,
           "y0": 0.00386864593019705,
           "y1": 0.014291063044220134
          },
          {
           "calibration": false,
           "column_names": "Extinct_sol",
           "time": 54,
           "y": 0.01024361187592145,
           "y0": 0.00450606071390207,
           "y1": 0.01569516402669248
          },
          {
           "calibration": false,
           "column_names": "Extinct_sol",
           "time": 55,
           "y": 0.01141932606697075,
           "y0": 0.005207791319116935,
           "y1": 0.01716723861172789
          },
          {
           "calibration": false,
           "column_names": "Extinct_sol",
           "time": 56,
           "y": 0.012655964121222451,
           "y0": 0.0059742463286965655,
           "y1": 0.018689163308590606
          },
          {
           "calibration": false,
           "column_names": "Extinct_sol",
           "time": 57,
           "y": 0.01393775315955275,
           "y0": 0.006805267301388055,
           "y1": 0.020257163513451748
          },
          {
           "calibration": false,
           "column_names": "Extinct_sol",
           "time": 58,
           "y": 0.0152721526101231,
           "y0": 0.00770021087955681,
           "y1": 0.02184664821252221
          },
          {
           "calibration": false,
           "column_names": "Extinct_sol",
           "time": 59,
           "y": 0.01665680389851325,
           "y0": 0.008657949604093995,
           "y1": 0.023475533816963386
          },
          {
           "calibration": false,
           "column_names": "Extinct_sol",
           "time": 60,
           "y": 0.0180884897708892,
           "y0": 0.00967696690931907,
           "y1": 0.025148663762956838
          },
          {
           "calibration": false,
           "column_names": "Extinct_sol",
           "time": 61,
           "y": 0.01956397574394935,
           "y0": 0.010755398357287005,
           "y1": 0.026853090804070168
          },
          {
           "calibration": false,
           "column_names": "Extinct_sol",
           "time": 62,
           "y": 0.0210800385102629,
           "y0": 0.01189108681865029,
           "y1": 0.028585399407893376
          },
          {
           "calibration": false,
           "column_names": "Extinct_sol",
           "time": 63,
           "y": 0.0226334445178508,
           "y0": 0.013081614160910205,
           "y1": 0.030342292040586426
          },
          {
           "calibration": false,
           "column_names": "Extinct_sol",
           "time": 64,
           "y": 0.024221055209636598,
           "y0": 0.014324403135105896,
           "y1": 0.03212062902748581
          },
          {
           "calibration": false,
           "column_names": "Extinct_sol",
           "time": 65,
           "y": 0.025865886360406848,
           "y0": 0.015616689156740861,
           "y1": 0.03391733374446625
          },
          {
           "calibration": false,
           "column_names": "Extinct_sol",
           "time": 66,
           "y": 0.0275535052642226,
           "y0": 0.01695399144664405,
           "y1": 0.03572946917265647
          },
          {
           "calibration": false,
           "column_names": "Extinct_sol",
           "time": 67,
           "y": 0.0292671620845794,
           "y0": 0.0182954708114266,
           "y1": 0.03755428791046136
          },
          {
           "calibration": false,
           "column_names": "Extinct_sol",
           "time": 68,
           "y": 0.03100369498133655,
           "y0": 0.019674560241401164,
           "y1": 0.03938904311507936
          },
          {
           "calibration": false,
           "column_names": "Extinct_sol",
           "time": 69,
           "y": 0.03276005387306205,
           "y0": 0.0210884345695376,
           "y1": 0.041231249831616835
          },
          {
           "calibration": false,
           "column_names": "Extinct_sol",
           "time": 70,
           "y": 0.03453332558274265,
           "y0": 0.02253438709303732,
           "y1": 0.043078524805605374
          },
          {
           "calibration": false,
           "column_names": "Extinct_sol",
           "time": 71,
           "y": 0.036320524290204,
           "y0": 0.024009652249514995,
           "y1": 0.04492860045284026
          },
          {
           "calibration": false,
           "column_names": "Extinct_sol",
           "time": 72,
           "y": 0.038119284436106654,
           "y0": 0.025511500425636748,
           "y1": 0.04677925892174242
          },
          {
           "calibration": false,
           "column_names": "Extinct_sol",
           "time": 73,
           "y": 0.0399267692118883,
           "y0": 0.027037323918193565,
           "y1": 0.04862850960344071
          },
          {
           "calibration": false,
           "column_names": "Extinct_sol",
           "time": 74,
           "y": 0.0417406745254993,
           "y0": 0.02858453318476671,
           "y1": 0.05047808922827242
          },
          {
           "calibration": false,
           "column_names": "Extinct_sol",
           "time": 75,
           "y": 0.04355854168534275,
           "y0": 0.030150684621185,
           "y1": 0.05232702307403087
          },
          {
           "calibration": false,
           "column_names": "Extinct_sol",
           "time": 76,
           "y": 0.04537839442491525,
           "y0": 0.03173317518085236,
           "y1": 0.05416931193321937
          },
          {
           "calibration": false,
           "column_names": "Extinct_sol",
           "time": 77,
           "y": 0.047198018059134456,
           "y0": 0.0333298975601792,
           "y1": 0.05600340384989968
          },
          {
           "calibration": false,
           "column_names": "Extinct_sol",
           "time": 78,
           "y": 0.0490155220031738,
           "y0": 0.034938483126461466,
           "y1": 0.057827793993055786
          },
          {
           "calibration": false,
           "column_names": "Extinct_sol",
           "time": 79,
           "y": 0.0508276224136352,
           "y0": 0.036556747369468165,
           "y1": 0.05964108239859339
          },
          {
           "calibration": false,
           "column_names": "Extinct_sol",
           "time": 80,
           "y": 0.05260548554360865,
           "y0": 0.03818023689091202,
           "y1": 0.06144203096628185
          },
          {
           "calibration": false,
           "column_names": "Extinct_sol",
           "time": 81,
           "y": 0.0543741416186094,
           "y0": 0.039773033931851325,
           "y1": 0.06322945840656753
          },
          {
           "calibration": false,
           "column_names": "Extinct_sol",
           "time": 82,
           "y": 0.05613224208354945,
           "y0": 0.04133671130985016,
           "y1": 0.06500223092734808
          },
          {
           "calibration": false,
           "column_names": "Extinct_sol",
           "time": 83,
           "y": 0.057878291234374,
           "y0": 0.04290079232305285,
           "y1": 0.06675937063992023
          },
          {
           "calibration": false,
           "column_names": "Extinct_sol",
           "time": 84,
           "y": 0.059611156582832295,
           "y0": 0.04446375574916593,
           "y1": 0.06853647679090492
          },
          {
           "calibration": false,
           "column_names": "Extinct_sol",
           "time": 85,
           "y": 0.0613295696675777,
           "y0": 0.04602429233491411,
           "y1": 0.07033625058829777
          },
          {
           "calibration": false,
           "column_names": "Extinct_sol",
           "time": 86,
           "y": 0.0630325973033905,
           "y0": 0.04758109282702203,
           "y1": 0.0721184644848108
          },
          {
           "calibration": false,
           "column_names": "Extinct_sol",
           "time": 87,
           "y": 0.0647191740572452,
           "y0": 0.049132828228175586,
           "y1": 0.07388237193226806
          },
          {
           "calibration": false,
           "column_names": "Extinct_sol",
           "time": 88,
           "y": 0.06638845801353449,
           "y0": 0.050678344443440396,
           "y1": 0.07562711611390106
          },
          {
           "calibration": false,
           "column_names": "Extinct_sol",
           "time": 89,
           "y": 0.0680396147072315,
           "y0": 0.05221653357148169,
           "y1": 0.07735209874808785
          },
          {
           "calibration": false,
           "column_names": "Extinct_sol",
           "time": 90,
           "y": 0.06967192888259885,
           "y0": 0.05374649129807945,
           "y1": 0.07905679345130918
          },
          {
           "calibration": false,
           "column_names": "Extinct_sol",
           "time": 91,
           "y": 0.07128480076789856,
           "y0": 0.055267139524221354,
           "y1": 0.0807405669242143
          },
          {
           "calibration": false,
           "column_names": "Extinct_sol",
           "time": 92,
           "y": 0.0728775933384895,
           "y0": 0.05677762087434524,
           "y1": 0.08240289166569706
          },
          {
           "calibration": false,
           "column_names": "Extinct_sol",
           "time": 93,
           "y": 0.07455183565616605,
           "y0": 0.05827713292092075,
           "y1": 0.08404344059526915
          },
          {
           "calibration": false,
           "column_names": "Extinct_sol",
           "time": 94,
           "y": 0.07622171938419335,
           "y0": 0.059764846041798526,
           "y1": 0.08566963113844388
          },
          {
           "calibration": false,
           "column_names": "Extinct_sol",
           "time": 95,
           "y": 0.07785778492689124,
           "y0": 0.06124011836946004,
           "y1": 0.08727479353547091
          },
          {
           "calibration": false,
           "column_names": "Extinct_sol",
           "time": 96,
           "y": 0.07927785068750375,
           "y0": 0.06270232945680615,
           "y1": 0.08885718919336791
          },
          {
           "calibration": false,
           "column_names": "Extinct_sol",
           "time": 97,
           "y": 0.08067734539508814,
           "y0": 0.0641508154571056,
           "y1": 0.0904166147112846
          },
          {
           "calibration": false,
           "column_names": "Extinct_sol",
           "time": 98,
           "y": 0.0820559971034526,
           "y0": 0.06558492816984651,
           "y1": 0.0919528547674417
          },
          {
           "calibration": false,
           "column_names": "Extinct_sol",
           "time": 99,
           "y": 0.0834274105727672,
           "y0": 0.06700430773198598,
           "y1": 0.093465682119131
          },
          {
           "calibration": true,
           "column_names": "Extinct_sol",
           "time": 0,
           "y": 5.96559268812083e-32,
           "y0": 5.240286548301532e-32,
           "y1": 6.593962538532972e-32
          },
          {
           "calibration": true,
           "column_names": "Extinct_sol",
           "time": 1,
           "y": 2.1769381436387292e-11,
           "y0": 1.9030575986594967e-11,
           "y1": 2.4419188719704277e-11
          },
          {
           "calibration": true,
           "column_names": "Extinct_sol",
           "time": 2,
           "y": 1.6480120740292037e-10,
           "y0": 1.4487385527339746e-10,
           "y1": 1.8825221034801662e-10
          },
          {
           "calibration": true,
           "column_names": "Extinct_sol",
           "time": 3,
           "y": 5.929598478893182e-10,
           "y0": 5.213882298127359e-10,
           "y1": 6.79839248785008e-10
          },
          {
           "calibration": true,
           "column_names": "Extinct_sol",
           "time": 4,
           "y": 1.5322617064050803e-9,
           "y0": 1.347918687777394e-9,
           "y1": 1.7670263141589257e-9
          },
          {
           "calibration": true,
           "column_names": "Extinct_sol",
           "time": 5,
           "y": 3.2974813990449547e-9,
           "y0": 2.890517092346556e-9,
           "y1": 3.823200800390225e-9
          },
          {
           "calibration": true,
           "column_names": "Extinct_sol",
           "time": 6,
           "y": 6.355781900779789e-9,
           "y0": 5.514286183228023e-9,
           "y1": 7.380741728901797e-9
          },
          {
           "calibration": true,
           "column_names": "Extinct_sol",
           "time": 7,
           "y": 1.1241763075986455e-8,
           "y0": 9.65467656932617e-9,
           "y1": 1.3196342285581864e-8
          },
          {
           "calibration": true,
           "column_names": "Extinct_sol",
           "time": 8,
           "y": 1.8743793184228252e-8,
           "y0": 1.589790663558688e-8,
           "y1": 2.241552357062915e-8
          },
          {
           "calibration": true,
           "column_names": "Extinct_sol",
           "time": 9,
           "y": 3.0544196505388754e-8,
           "y0": 2.5068246056747514e-8,
           "y1": 3.6477464249173865e-8
          },
          {
           "calibration": true,
           "column_names": "Extinct_sol",
           "time": 10,
           "y": 4.80503992150716e-8,
           "y0": 3.8238347244146106e-8,
           "y1": 5.737745372158543e-8
          },
          {
           "calibration": true,
           "column_names": "Extinct_sol",
           "time": 11,
           "y": 7.244282684837344e-8,
           "y0": 5.683322026328597e-8,
           "y1": 8.810417355675781e-8
          },
          {
           "calibration": true,
           "column_names": "Extinct_sol",
           "time": 12,
           "y": 1.082743068536729e-7,
           "y0": 8.323783369235116e-8,
           "y1": 1.3278977988306904e-7
          },
          {
           "calibration": true,
           "column_names": "Extinct_sol",
           "time": 13,
           "y": 1.5818798715372398e-7,
           "y0": 1.203348229950052e-7,
           "y1": 1.9724868636217254e-7
          },
          {
           "calibration": true,
           "column_names": "Extinct_sol",
           "time": 14,
           "y": 2.303826889260563e-7,
           "y0": 1.7172031050449734e-7,
           "y1": 2.8993946443733876e-7
          },
          {
           "calibration": true,
           "column_names": "Extinct_sol",
           "time": 15,
           "y": 3.3216275596714695e-7,
           "y0": 2.4133880458521164e-7,
           "y1": 4.237027752651556e-7
          },
          {
           "calibration": true,
           "column_names": "Extinct_sol",
           "time": 16,
           "y": 4.731223270937335e-7,
           "y0": 3.349403712604726e-7,
           "y1": 6.183033093520862e-7
          },
          {
           "calibration": true,
           "column_names": "Extinct_sol",
           "time": 17,
           "y": 6.697760284168908e-7,
           "y0": 4.5677014384182255e-7,
           "y1": 8.975548752232499e-7
          },
          {
           "calibration": true,
           "column_names": "Extinct_sol",
           "time": 18,
           "y": 9.447734043988019e-7,
           "y0": 6.173462907099748e-7,
           "y1": 0.0000012982927330540406
          },
          {
           "calibration": true,
           "column_names": "Extinct_sol",
           "time": 19,
           "y": 0.0000013330889032658888,
           "y0": 8.299980294168563e-7,
           "y1": 0.0000018736600452484707
          },
          {
           "calibration": true,
           "column_names": "Extinct_sol",
           "time": 20,
           "y": 0.0000018738301719167794,
           "y0": 0.0000011110763807664624,
           "y1": 0.0000026978168307323355
          },
          {
           "calibration": true,
           "column_names": "Extinct_sol",
           "time": 21,
           "y": 0.0000026277255074091954,
           "y0": 0.0000014820422393313493,
           "y1": 0.000003890069456247147
          },
          {
           "calibration": true,
           "column_names": "Extinct_sol",
           "time": 22,
           "y": 0.0000036779415495402645,
           "y0": 0.0000019774708903241843,
           "y1": 0.000005599924315902171
          },
          {
           "calibration": true,
           "column_names": "Extinct_sol",
           "time": 23,
           "y": 0.000005139836275702692,
           "y0": 0.0000026504118750381165,
           "y1": 0.000008049691496125887
          },
          {
           "calibration": true,
           "column_names": "Extinct_sol",
           "time": 24,
           "y": 0.000007173220637923805,
           "y0": 0.000003545992422004929,
           "y1": 0.000011555408264030117
          },
          {
           "calibration": true,
           "column_names": "Extinct_sol",
           "time": 25,
           "y": 0.000009999037501984276,
           "y0": 0.000004732112984129344,
           "y1": 0.000016564599263801935
          },
          {
           "calibration": true,
           "column_names": "Extinct_sol",
           "time": 26,
           "y": 0.000013921954177931184,
           "y0": 0.000006305667488959444,
           "y1": 0.000023707476429990486
          },
          {
           "calibration": true,
           "column_names": "Extinct_sol",
           "time": 27,
           "y": 0.00001936057560669724,
           "y0": 0.000008393431653530569,
           "y1": 0.00003385972740943543
          },
          {
           "calibration": true,
           "column_names": "Extinct_sol",
           "time": 28,
           "y": 0.00002688713084353367,
           "y0": 0.000011161815746163483,
           "y1": 0.000048086171773320516
          },
          {
           "calibration": true,
           "column_names": "Extinct_sol",
           "time": 29,
           "y": 0.000037278734453138895,
           "y0": 0.000014822123739577363,
           "y1": 0.00006808085199736522
          },
          {
           "calibration": true,
           "column_names": "Extinct_sol",
           "time": 30,
           "y": 0.00005141841756994836,
           "y0": 0.000019607456579251448,
           "y1": 0.00009600456760381348
          },
          {
           "calibration": true,
           "column_names": "Extinct_sol",
           "time": 31,
           "y": 0.00007074312088661827,
           "y0": 0.000025914864272635897,
           "y1": 0.00013468293473120496
          },
          {
           "calibration": true,
           "column_names": "Extinct_sol",
           "time": 32,
           "y": 0.0000970429209701013,
           "y0": 0.000034218674227304294,
           "y1": 0.00018770840615612997
          },
          {
           "calibration": true,
           "column_names": "Extinct_sol",
           "time": 33,
           "y": 0.0001326186684309,
           "y0": 0.00004513463481998769,
           "y1": 0.00025949730479620994
          },
          {
           "calibration": true,
           "column_names": "Extinct_sol",
           "time": 34,
           "y": 0.00018037693371290002,
           "y0": 0.000059457497809489726,
           "y1": 0.0003552763868355599
          },
          {
           "calibration": true,
           "column_names": "Extinct_sol",
           "time": 35,
           "y": 0.0002438955343677,
           "y0": 0.00007820551654731389,
           "y1": 0.00048097858089018997
          },
          {
           "calibration": true,
           "column_names": "Extinct_sol",
           "time": 36,
           "y": 0.0003274468472227,
           "y0": 0.00010267186189590651,
           "y1": 0.0006430507404729249
          },
          {
           "calibration": true,
           "column_names": "Extinct_sol",
           "time": 37,
           "y": 0.00043596301111385,
           "y0": 0.000134480548149395,
           "y1": 0.0008481925702653148
          },
          {
           "calibration": true,
           "column_names": "Extinct_sol",
           "time": 38,
           "y": 0.00057493158965365,
           "y0": 0.000175642305839525,
           "y1": 0.0011030744528397398
          },
          {
           "calibration": true,
           "column_names": "Extinct_sol",
           "time": 39,
           "y": 0.00075022559030905,
           "y0": 0.00022860682656752,
           "y1": 0.0014140487182884949
          },
          {
           "calibration": true,
           "column_names": "Extinct_sol",
           "time": 40,
           "y": 0.0009678899659774499,
           "y0": 0.000296300310583265,
           "y1": 0.0017869165749288347
          },
          {
           "calibration": true,
           "column_names": "Extinct_sol",
           "time": 41,
           "y": 0.0012339007807895,
           "y0": 0.000382140502915635,
           "y1": 0.002226735698059175
          },
          {
           "calibration": true,
           "column_names": "Extinct_sol",
           "time": 42,
           "y": 0.00155394122702995,
           "y0": 0.00049001974257404,
           "y1": 0.00273770774947476
          },
          {
           "calibration": true,
           "column_names": "Extinct_sol",
           "time": 43,
           "y": 0.0019295502570456998,
           "y0": 0.0006242519535589451,
           "y1": 0.0033231029170564495
          },
          {
           "calibration": true,
           "column_names": "Extinct_sol",
           "time": 44,
           "y": 0.0023635887773706997,
           "y0": 0.000789478750084485,
           "y1": 0.003985255782026739
          },
          {
           "calibration": true,
           "column_names": "Extinct_sol",
           "time": 45,
           "y": 0.002861593151465,
           "y0": 0.00099054198944933,
           "y1": 0.00472560205962502
          },
          {
           "calibration": true,
           "column_names": "Extinct_sol",
           "time": 46,
           "y": 0.00342604971956455,
           "y0": 0.001232338586123645,
           "y1": 0.005544701567850945
          },
          {
           "calibration": true,
           "column_names": "Extinct_sol",
           "time": 47,
           "y": 0.00405866722576315,
           "y0": 0.001519657659809985,
           "y1": 0.00644232251215718
          },
          {
           "calibration": true,
           "column_names": "Extinct_sol",
           "time": 48,
           "y": 0.004760414361953701,
           "y0": 0.001857031841063795,
           "y1": 0.00741756630595768
          },
          {
           "calibration": true,
           "column_names": "Extinct_sol",
           "time": 49,
           "y": 0.00553156691603355,
           "y0": 0.002248598169535365,
           "y1": 0.00846888883970672
          },
          {
           "calibration": true,
           "column_names": "Extinct_sol",
           "time": 50,
           "y": 0.00637177051976315,
           "y0": 0.00269799170782784,
           "y1": 0.00959425056353203
          },
          {
           "calibration": true,
           "column_names": "Extinct_sol",
           "time": 51,
           "y": 0.0072800789494067,
           "y0": 0.00320826335810118,
           "y1": 0.010791150061413584
          },
          {
           "calibration": true,
           "column_names": "Extinct_sol",
           "time": 52,
           "y": 0.008255079854279701,
           "y0": 0.003781829832587355,
           "y1": 0.0120567452162504
          },
          {
           "calibration": true,
           "column_names": "Extinct_sol",
           "time": 53,
           "y": 0.00929492572322485,
           "y0": 0.004420456569641745,
           "y1": 0.01338790096342561
          },
          {
           "calibration": true,
           "column_names": "Extinct_sol",
           "time": 54,
           "y": 0.0103973983787,
           "y0": 0.0051252579549327095,
           "y1": 0.014781249407678825
          },
          {
           "calibration": true,
           "column_names": "Extinct_sol",
           "time": 55,
           "y": 0.0115599920973181,
           "y0": 0.005880894209258175,
           "y1": 0.016233327984809805
          },
          {
           "calibration": true,
           "column_names": "Extinct_sol",
           "time": 56,
           "y": 0.01277997903525825,
           "y0": 0.006698096240870579,
           "y1": 0.017740467842668244
          },
          {
           "calibration": true,
           "column_names": "Extinct_sol",
           "time": 57,
           "y": 0.01405445719137785,
           "y0": 0.00757713615894315,
           "y1": 0.019300567265599925
          },
          {
           "calibration": true,
           "column_names": "Extinct_sol",
           "time": 58,
           "y": 0.01538035320118065,
           "y0": 0.0085167753975838,
           "y1": 0.020910956710576935
          },
          {
           "calibration": true,
           "column_names": "Extinct_sol",
           "time": 59,
           "y": 0.016754544340074,
           "y0": 0.00951539748348291,
           "y1": 0.02256576307117936
          },
          {
           "calibration": true,
           "column_names": "Extinct_sol",
           "time": 60,
           "y": 0.01817384175956245,
           "y0": 0.010571066662669151,
           "y1": 0.0242612849920988
          },
          {
           "calibration": true,
           "column_names": "Extinct_sol",
           "time": 61,
           "y": 0.0196350291371345,
           "y0": 0.011681607691571064,
           "y1": 0.02601773729547855
          },
          {
           "calibration": true,
           "column_names": "Extinct_sol",
           "time": 62,
           "y": 0.021134909242391503,
           "y0": 0.012844539154320895,
           "y1": 0.027833672892302215
          },
          {
           "calibration": true,
           "column_names": "Extinct_sol",
           "time": 63,
           "y": 0.0226703332737088,
           "y0": 0.01405730033293362,
           "y1": 0.02969292346388093
          },
          {
           "calibration": true,
           "column_names": "Extinct_sol",
           "time": 64,
           "y": 0.02423814125359055,
           "y0": 0.01531714559532698,
           "y1": 0.03158890325576061
          },
          {
           "calibration": true,
           "column_names": "Extinct_sol",
           "time": 65,
           "y": 0.025835288688540452,
           "y0": 0.01662124786525961,
           "y1": 0.033513453602790746
          },
          {
           "calibration": true,
           "column_names": "Extinct_sol",
           "time": 66,
           "y": 0.0274588074535131,
           "y0": 0.017966720834374384,
           "y1": 0.035461406968533934
          },
          {
           "calibration": true,
           "column_names": "Extinct_sol",
           "time": 67,
           "y": 0.02910580392926925,
           "y0": 0.019347183220088448,
           "y1": 0.037387013994157295
          },
          {
           "calibration": true,
           "column_names": "Extinct_sol",
           "time": 68,
           "y": 0.0307734571397304,
           "y0": 0.020756771322339683,
           "y1": 0.03930567130446428
          },
          {
           "calibration": true,
           "column_names": "Extinct_sol",
           "time": 69,
           "y": 0.03248798474669455,
           "y0": 0.022198260854929642,
           "y1": 0.04123707935214038
          },
          {
           "calibration": true,
           "column_names": "Extinct_sol",
           "time": 70,
           "y": 0.034254901111125904,
           "y0": 0.023668842855840855,
           "y1": 0.04317686166614287
          },
          {
           "calibration": true,
           "column_names": "Extinct_sol",
           "time": 71,
           "y": 0.0360365584492683,
           "y0": 0.02516571711748831,
           "y1": 0.04512371793389315
          },
          {
           "calibration": true,
           "column_names": "Extinct_sol",
           "time": 72,
           "y": 0.0378302857279777,
           "y0": 0.02668619174510236,
           "y1": 0.04708006922155615
          },
          {
           "calibration": true,
           "column_names": "Extinct_sol",
           "time": 73,
           "y": 0.0396335013210773,
           "y0": 0.028308991715311975,
           "y1": 0.04904918596148485
          },
          {
           "calibration": true,
           "column_names": "Extinct_sol",
           "time": 74,
           "y": 0.041443750262260395,
           "y0": 0.029962819255888385,
           "y1": 0.05103149674832815
          },
          {
           "calibration": true,
           "column_names": "Extinct_sol",
           "time": 75,
           "y": 0.0432587340474128,
           "y0": 0.03163670990616077,
           "y1": 0.053011723607778546
          },
          {
           "calibration": true,
           "column_names": "Extinct_sol",
           "time": 76,
           "y": 0.0450762584805488,
           "y0": 0.03332790918648236,
           "y1": 0.054987908527255026
          },
          {
           "calibration": true,
           "column_names": "Extinct_sol",
           "time": 77,
           "y": 0.0468942560255527,
           "y0": 0.03503366261720654,
           "y1": 0.056958193145692324
          },
          {
           "calibration": true,
           "column_names": "Extinct_sol",
           "time": 78,
           "y": 0.0486542154103517,
           "y0": 0.03675152994692321,
           "y1": 0.05892083402723074
          },
          {
           "calibration": true,
           "column_names": "Extinct_sol",
           "time": 79,
           "y": 0.0503231436014175,
           "y0": 0.038478958420455386,
           "y1": 0.06087418459355822
          },
          {
           "calibration": true,
           "column_names": "Extinct_sol",
           "time": 80,
           "y": 0.05198396556079385,
           "y0": 0.040213602222502226,
           "y1": 0.06281673163175577
          },
          {
           "calibration": true,
           "column_names": "Extinct_sol",
           "time": 81,
           "y": 0.05367071926593775,
           "y0": 0.041953336633741775,
           "y1": 0.06478866338729855
          },
          {
           "calibration": true,
           "column_names": "Extinct_sol",
           "time": 82,
           "y": 0.0553986262530088,
           "y0": 0.043695905059576004,
           "y1": 0.06678538843989366
          },
          {
           "calibration": true,
           "column_names": "Extinct_sol",
           "time": 83,
           "y": 0.05710657499730585,
           "y0": 0.04543936140835281,
           "y1": 0.06878260709345341
          },
          {
           "calibration": true,
           "column_names": "Extinct_sol",
           "time": 84,
           "y": 0.05877357535064215,
           "y0": 0.04718185942620035,
           "y1": 0.07076726183295245
          },
          {
           "calibration": true,
           "column_names": "Extinct_sol",
           "time": 85,
           "y": 0.060428345575928646,
           "y0": 0.04891590978950255,
           "y1": 0.07273567542433736
          },
          {
           "calibration": true,
           "column_names": "Extinct_sol",
           "time": 86,
           "y": 0.06207953765988345,
           "y0": 0.05064458176493638,
           "y1": 0.07468686401844021
          },
          {
           "calibration": true,
           "column_names": "Extinct_sol",
           "time": 87,
           "y": 0.06377613171935075,
           "y0": 0.052322444505989475,
           "y1": 0.0766196630895137
          },
          {
           "calibration": true,
           "column_names": "Extinct_sol",
           "time": 88,
           "y": 0.06545786187052725,
           "y0": 0.05396289043128488,
           "y1": 0.07853319384157653
          },
          {
           "calibration": true,
           "column_names": "Extinct_sol",
           "time": 89,
           "y": 0.06712419912219039,
           "y0": 0.05558502841740841,
           "y1": 0.08042657114565366
          },
          {
           "calibration": true,
           "column_names": "Extinct_sol",
           "time": 90,
           "y": 0.06877403333783146,
           "y0": 0.05719624310731884,
           "y1": 0.08229907639324663
          },
          {
           "calibration": true,
           "column_names": "Extinct_sol",
           "time": 91,
           "y": 0.0704168006777763,
           "y0": 0.058795492164790596,
           "y1": 0.08414999619126316
          },
          {
           "calibration": true,
           "column_names": "Extinct_sol",
           "time": 92,
           "y": 0.0720545351505279,
           "y0": 0.06038180682808154,
           "y1": 0.08597856760025023
          },
          {
           "calibration": true,
           "column_names": "Extinct_sol",
           "time": 93,
           "y": 0.07367549091577524,
           "y0": 0.061954378522932514,
           "y1": 0.08778438158333296
          },
          {
           "calibration": true,
           "column_names": "Extinct_sol",
           "time": 94,
           "y": 0.07527932897210116,
           "y0": 0.06351238973438732,
           "y1": 0.08945420682430259
          },
          {
           "calibration": true,
           "column_names": "Extinct_sol",
           "time": 95,
           "y": 0.07678656652569765,
           "y0": 0.06505510658025737,
           "y1": 0.09109572060406206
          },
          {
           "calibration": true,
           "column_names": "Extinct_sol",
           "time": 96,
           "y": 0.07826502621173856,
           "y0": 0.06658179089426991,
           "y1": 0.09271325059235089
          },
          {
           "calibration": true,
           "column_names": "Extinct_sol",
           "time": 97,
           "y": 0.0797250382602214,
           "y0": 0.06798505373299119,
           "y1": 0.09430652931332584
          },
          {
           "calibration": true,
           "column_names": "Extinct_sol",
           "time": 98,
           "y": 0.08116612210869785,
           "y0": 0.06941263973712919,
           "y1": 0.09587543867528432
          },
          {
           "calibration": true,
           "column_names": "Extinct_sol",
           "time": 99,
           "y": 0.08258830010890955,
           "y0": 0.07084472626447673,
           "y1": 0.09741976857185358
          },
          {
           "calibration": false,
           "column_names": "Healed_sol",
           "time": 0,
           "y": 1.2652696511086164e-17,
           "y0": 1.1627514833359176e-17,
           "y1": 1.3581603878089024e-17
          },
          {
           "calibration": false,
           "column_names": "Healed_sol",
           "time": 1,
           "y": 1.5558671861981566e-7,
           "y0": 1.4400582415419197e-7,
           "y1": 1.6900783776918616e-7
          },
          {
           "calibration": false,
           "column_names": "Healed_sol",
           "time": 2,
           "y": 3.885592718688713e-7,
           "y0": 3.496175835948634e-7,
           "y1": 4.257444231825502e-7
          },
          {
           "calibration": false,
           "column_names": "Healed_sol",
           "time": 3,
           "y": 7.22112247331097e-7,
           "y0": 6.393711714736128e-7,
           "y1": 8.146504143269339e-7
          },
          {
           "calibration": false,
           "column_names": "Healed_sol",
           "time": 4,
           "y": 0.0000011925789635824913,
           "y0": 0.0000010431886835249317,
           "y1": 0.0000013939428924913954
          },
          {
           "calibration": false,
           "column_names": "Healed_sol",
           "time": 5,
           "y": 0.0000018627513327373888,
           "y0": 0.0000015949871453813103,
           "y1": 0.0000022484660235022603
          },
          {
           "calibration": false,
           "column_names": "Healed_sol",
           "time": 6,
           "y": 0.000002838194063770061,
           "y0": 0.0000023234895706991663,
           "y1": 0.0000034985792012776075
          },
          {
           "calibration": false,
           "column_names": "Healed_sol",
           "time": 7,
           "y": 0.000004175012009000056,
           "y0": 0.0000032971950986393495,
           "y1": 0.0000053433066341312955
          },
          {
           "calibration": false,
           "column_names": "Healed_sol",
           "time": 8,
           "y": 0.000005995727178742527,
           "y0": 0.0000045939864094179935,
           "y1": 0.0000080429801982973
          },
          {
           "calibration": false,
           "column_names": "Healed_sol",
           "time": 9,
           "y": 0.000008517446076439228,
           "y0": 0.000006316064877864848,
           "y1": 0.000011988199639745288
          },
          {
           "calibration": false,
           "column_names": "Healed_sol",
           "time": 10,
           "y": 0.000012042057278449645,
           "y0": 0.000008591127061663428,
           "y1": 0.000017748284153640268
          },
          {
           "calibration": false,
           "column_names": "Healed_sol",
           "time": 11,
           "y": 0.000016921824681048747,
           "y0": 0.000011600248035392724,
           "y1": 0.000026147936932829903
          },
          {
           "calibration": false,
           "column_names": "Healed_sol",
           "time": 12,
           "y": 0.000023673082068853546,
           "y0": 0.00001557642744955956,
           "y1": 0.00003825861767836613
          },
          {
           "calibration": false,
           "column_names": "Healed_sol",
           "time": 13,
           "y": 0.000033009209801093675,
           "y0": 0.000020827028765779688,
           "y1": 0.000055996721494011566
          },
          {
           "calibration": false,
           "column_names": "Healed_sol",
           "time": 14,
           "y": 0.00004591500692185946,
           "y0": 0.00002775706525426358,
           "y1": 0.00008181509547284803
          },
          {
           "calibration": false,
           "column_names": "Healed_sol",
           "time": 15,
           "y": 0.00006375024167937227,
           "y0": 0.00003690047215059167,
           "y1": 0.00011938253046531996
          },
          {
           "calibration": false,
           "column_names": "Healed_sol",
           "time": 16,
           "y": 0.00008839170550345443,
           "y0": 0.0000489609894430032,
           "y1": 0.00017402592711728994
          },
          {
           "calibration": false,
           "column_names": "Healed_sol",
           "time": 17,
           "y": 0.00012277727000759999,
           "y0": 0.00006486581660283263,
           "y1": 0.0002534704544813849
          },
          {
           "calibration": false,
           "column_names": "Healed_sol",
           "time": 18,
           "y": 0.0001704397654975,
           "y0": 0.0000858367646287661,
           "y1": 0.00036890140472676494
          },
          {
           "calibration": false,
           "column_names": "Healed_sol",
           "time": 19,
           "y": 0.00023643991153215002,
           "y0": 0.00011320053963566,
           "y1": 0.0005364721728255498
          },
          {
           "calibration": false,
           "column_names": "Healed_sol",
           "time": 20,
           "y": 0.00032779268804005,
           "y0": 0.000149001127283495,
           "y1": 0.0007794338249368249
          },
          {
           "calibration": false,
           "column_names": "Healed_sol",
           "time": 21,
           "y": 0.0004540758382063,
           "y0": 0.000195997153787135,
           "y1": 0.0011310788744594248
          },
          {
           "calibration": false,
           "column_names": "Healed_sol",
           "time": 22,
           "y": 0.0006275081541388999,
           "y0": 0.000257674129534235,
           "y1": 0.0016387210111133395
          },
          {
           "calibration": false,
           "column_names": "Healed_sol",
           "time": 23,
           "y": 0.00086652103345835,
           "y0": 0.00033859310788094,
           "y1": 0.0023688998189754494
          },
          {
           "calibration": false,
           "column_names": "Healed_sol",
           "time": 24,
           "y": 0.0011954450164921,
           "y0": 0.00044471597793739,
           "y1": 0.003413727134466114
          },
          {
           "calibration": false,
           "column_names": "Healed_sol",
           "time": 25,
           "y": 0.0016472209244966,
           "y0": 0.000583822824410125,
           "y1": 0.0048979355953633385
          },
          {
           "calibration": false,
           "column_names": "Healed_sol",
           "time": 26,
           "y": 0.0022660909453406496,
           "y0": 0.000766048466903105,
           "y1": 0.006985051860101448
          },
          {
           "calibration": false,
           "column_names": "Healed_sol",
           "time": 27,
           "y": 0.0031108164694159997,
           "y0": 0.001004555841791395,
           "y1": 0.009879864891990952
          },
          {
           "calibration": false,
           "column_names": "Healed_sol",
           "time": 28,
           "y": 0.00425825477577745,
           "y0": 0.00131638710736292,
           "y1": 0.013822440989315482
          },
          {
           "calibration": false,
           "column_names": "Healed_sol",
           "time": 29,
           "y": 0.0058068477082997005,
           "y0": 0.001723507518181535,
           "y1": 0.019068177323788335
          },
          {
           "calibration": false,
           "column_names": "Healed_sol",
           "time": 30,
           "y": 0.0078791154082864,
           "y0": 0.002254047431051665,
           "y1": 0.025851139239966833
          },
          {
           "calibration": false,
           "column_names": "Healed_sol",
           "time": 31,
           "y": 0.0106217046268284,
           "y0": 0.00294376716483381,
           "y1": 0.03433503285050389
          },
          {
           "calibration": false,
           "column_names": "Healed_sol",
           "time": 32,
           "y": 0.014200889039784649,
           "y0": 0.0038393865921534103,
           "y1": 0.04456691313534968
          },
          {
           "calibration": false,
           "column_names": "Healed_sol",
           "time": 33,
           "y": 0.01879157871007915,
           "y0": 0.004997946857474675,
           "y1": 0.056453648395836276
          },
          {
           "calibration": false,
           "column_names": "Healed_sol",
           "time": 34,
           "y": 0.0245586028322577,
           "y0": 0.00648679337464269,
           "y1": 0.0697736639529466
          },
          {
           "calibration": false,
           "column_names": "Healed_sol",
           "time": 35,
           "y": 0.03163215611129995,
           "y0": 0.008387673762626904,
           "y1": 0.08422002494335168
          },
          {
           "calibration": false,
           "column_names": "Healed_sol",
           "time": 36,
           "y": 0.040082028135657255,
           "y0": 0.010795096168294506,
           "y1": 0.09945429153740397
          },
          {
           "calibration": false,
           "column_names": "Healed_sol",
           "time": 37,
           "y": 0.0498990844935178,
           "y0": 0.01381398243829603,
           "y1": 0.11515438370406617
          },
          {
           "calibration": false,
           "column_names": "Healed_sol",
           "time": 38,
           "y": 0.0609907023608684,
           "y0": 0.01755479965358964,
           "y1": 0.13104356788098806
          },
          {
           "calibration": false,
           "column_names": "Healed_sol",
           "time": 39,
           "y": 0.07319230958819385,
           "y0": 0.022125650849193275,
           "y1": 0.1469026044011115
          },
          {
           "calibration": false,
           "column_names": "Healed_sol",
           "time": 40,
           "y": 0.08616630733013145,
           "y0": 0.027621690649539222,
           "y1": 0.1625682167708873
          },
          {
           "calibration": false,
           "column_names": "Healed_sol",
           "time": 41,
           "y": 0.09960729256272316,
           "y0": 0.03411277979612344,
           "y1": 0.17792694047093385
          },
          {
           "calibration": false,
           "column_names": "Healed_sol",
           "time": 42,
           "y": 0.1134220995008945,
           "y0": 0.04163218028843399,
           "y1": 0.19256184101104726
          },
          {
           "calibration": false,
           "column_names": "Healed_sol",
           "time": 43,
           "y": 0.127421036362648,
           "y0": 0.05016888063400979,
           "y1": 0.20663710311055172
          },
          {
           "calibration": false,
           "column_names": "Healed_sol",
           "time": 44,
           "y": 0.14144807308912274,
           "y0": 0.05966534968465565,
           "y1": 0.22038943842053405
          },
          {
           "calibration": false,
           "column_names": "Healed_sol",
           "time": 45,
           "y": 0.15538153797388077,
           "y0": 0.07006101123988623,
           "y1": 0.23387308940291401
          },
          {
           "calibration": false,
           "column_names": "Healed_sol",
           "time": 46,
           "y": 0.16913060843944544,
           "y0": 0.0812473129481077,
           "y1": 0.24689974337816234
          },
          {
           "calibration": false,
           "column_names": "Healed_sol",
           "time": 47,
           "y": 0.1826314628124237,
           "y0": 0.09304442554712292,
           "y1": 0.2594826102256774
          },
          {
           "calibration": false,
           "column_names": "Healed_sol",
           "time": 48,
           "y": 0.1958411708474159,
           "y0": 0.10529778711497781,
           "y1": 0.27163957804441446
          },
          {
           "calibration": false,
           "column_names": "Healed_sol",
           "time": 49,
           "y": 0.20873340219259257,
           "y0": 0.11785801164805881,
           "y1": 0.2833903148770332
          },
          {
           "calibration": false,
           "column_names": "Healed_sol",
           "time": 50,
           "y": 0.22129408270120615,
           "y0": 0.13058943450450897,
           "y1": 0.29475565999746317
          },
          {
           "calibration": false,
           "column_names": "Healed_sol",
           "time": 51,
           "y": 0.233518011868,
           "y0": 0.14337472990155214,
           "y1": 0.3057578101754188
          },
          {
           "calibration": false,
           "column_names": "Healed_sol",
           "time": 52,
           "y": 0.245406799018383,
           "y0": 0.15611683577299115,
           "y1": 0.31641609668731685
          },
          {
           "calibration": false,
           "column_names": "Healed_sol",
           "time": 53,
           "y": 0.25696600973606104,
           "y0": 0.16873885765671728,
           "y1": 0.32675054520368574
          },
          {
           "calibration": false,
           "column_names": "Healed_sol",
           "time": 54,
           "y": 0.26820443570613856,
           "y0": 0.18118180781602855,
           "y1": 0.3367792263627052
          },
          {
           "calibration": false,
           "column_names": "Healed_sol",
           "time": 55,
           "y": 0.279178187251091,
           "y0": 0.1934028841555118,
           "y1": 0.3465196669101715
          },
          {
           "calibration": false,
           "column_names": "Healed_sol",
           "time": 56,
           "y": 0.2900569438934326,
           "y0": 0.2053720340132713,
           "y1": 0.3559872537851333
          },
          {
           "calibration": false,
           "column_names": "Healed_sol",
           "time": 57,
           "y": 0.30064405500888824,
           "y0": 0.21707029119133944,
           "y1": 0.3651966497302055
          },
          {
           "calibration": false,
           "column_names": "Healed_sol",
           "time": 58,
           "y": 0.3109501600265503,
           "y0": 0.22848626002669328,
           "y1": 0.37416056990623464
          },
          {
           "calibration": false,
           "column_names": "Healed_sol",
           "time": 59,
           "y": 0.3209860473871231,
           "y0": 0.23961572051048274,
           "y1": 0.38289093226194376
          },
          {
           "calibration": false,
           "column_names": "Healed_sol",
           "time": 60,
           "y": 0.33076220750808716,
           "y0": 0.25045894160866733,
           "y1": 0.3913986966013908
          },
          {
           "calibration": false,
           "column_names": "Healed_sol",
           "time": 61,
           "y": 0.3402887433767319,
           "y0": 0.26101928800344465,
           "y1": 0.3996949180960655
          },
          {
           "calibration": false,
           "column_names": "Healed_sol",
           "time": 62,
           "y": 0.3495752066373825,
           "y0": 0.2713030010461807,
           "y1": 0.4077867224812507
          },
          {
           "calibration": false,
           "column_names": "Healed_sol",
           "time": 63,
           "y": 0.35863053798675537,
           "y0": 0.281317600607872,
           "y1": 0.41568316668272015
          },
          {
           "calibration": false,
           "column_names": "Healed_sol",
           "time": 64,
           "y": 0.36746297776699066,
           "y0": 0.291072030365467,
           "y1": 0.42339169383049
          },
          {
           "calibration": false,
           "column_names": "Healed_sol",
           "time": 65,
           "y": 0.37582695484161377,
           "y0": 0.30057508200407024,
           "y1": 0.43091877102851867
          },
          {
           "calibration": false,
           "column_names": "Healed_sol",
           "time": 66,
           "y": 0.3839639872312546,
           "y0": 0.30983553528785707,
           "y1": 0.4382708221673965
          },
          {
           "calibration": false,
           "column_names": "Healed_sol",
           "time": 67,
           "y": 0.3919031172990799,
           "y0": 0.3188635647296905,
           "y1": 0.44545367956161497
          },
          {
           "calibration": false,
           "column_names": "Healed_sol",
           "time": 68,
           "y": 0.3997083604335785,
           "y0": 0.3276678338646889,
           "y1": 0.4524717092514038
          },
          {
           "calibration": false,
           "column_names": "Healed_sol",
           "time": 69,
           "y": 0.4074148684740066,
           "y0": 0.3362567007541656,
           "y1": 0.4593310430645942
          },
          {
           "calibration": false,
           "column_names": "Healed_sol",
           "time": 70,
           "y": 0.4151962697505951,
           "y0": 0.3446384400129318,
           "y1": 0.4660353124141693
          },
          {
           "calibration": false,
           "column_names": "Healed_sol",
           "time": 71,
           "y": 0.42278827726840973,
           "y0": 0.3528207004070281,
           "y1": 0.47258890420198435
          },
          {
           "calibration": false,
           "column_names": "Healed_sol",
           "time": 72,
           "y": 0.43014407157897944,
           "y0": 0.36081142574548714,
           "y1": 0.4789959296584129
          },
          {
           "calibration": false,
           "column_names": "Healed_sol",
           "time": 73,
           "y": 0.43692573904991144,
           "y0": 0.36861643940210337,
           "y1": 0.4852596640586853
          },
          {
           "calibration": false,
           "column_names": "Healed_sol",
           "time": 74,
           "y": 0.4435528814792633,
           "y0": 0.3762421533465385,
           "y1": 0.4913837388157844
          },
          {
           "calibration": false,
           "column_names": "Healed_sol",
           "time": 75,
           "y": 0.4500294327735901,
           "y0": 0.38369503319263454,
           "y1": 0.49737204313278194
          },
          {
           "calibration": false,
           "column_names": "Healed_sol",
           "time": 76,
           "y": 0.45635902881622314,
           "y0": 0.39098003953695293,
           "y1": 0.5032395750284194
          },
          {
           "calibration": false,
           "column_names": "Healed_sol",
           "time": 77,
           "y": 0.4625454992055893,
           "y0": 0.3981021642684936,
           "y1": 0.5089923441410065
          },
          {
           "calibration": false,
           "column_names": "Healed_sol",
           "time": 78,
           "y": 0.4685920178890228,
           "y0": 0.40506627112627025,
           "y1": 0.5146167069673538
          },
          {
           "calibration": false,
           "column_names": "Healed_sol",
           "time": 79,
           "y": 0.4745020419359207,
           "y0": 0.41187655031681053,
           "y1": 0.5201160401105881
          },
          {
           "calibration": false,
           "column_names": "Healed_sol",
           "time": 80,
           "y": 0.4802784323692322,
           "y0": 0.41853768229484556,
           "y1": 0.5254923969507217
          },
          {
           "calibration": false,
           "column_names": "Healed_sol",
           "time": 81,
           "y": 0.4859084337949753,
           "y0": 0.42505287677049636,
           "y1": 0.5307493805885315
          },
          {
           "calibration": false,
           "column_names": "Healed_sol",
           "time": 82,
           "y": 0.49133118987083435,
           "y0": 0.43142595589160915,
           "y1": 0.5358882278203964
          },
          {
           "calibration": false,
           "column_names": "Healed_sol",
           "time": 83,
           "y": 0.4966394752264023,
           "y0": 0.43766018897294995,
           "y1": 0.5409122049808502
          },
          {
           "calibration": false,
           "column_names": "Healed_sol",
           "time": 84,
           "y": 0.5018357187509537,
           "y0": 0.4437590807676315,
           "y1": 0.54582339823246
          },
          {
           "calibration": false,
           "column_names": "Healed_sol",
           "time": 85,
           "y": 0.5069216191768646,
           "y0": 0.4497252881526947,
           "y1": 0.5506790190935135
          },
          {
           "calibration": false,
           "column_names": "Healed_sol",
           "time": 86,
           "y": 0.5118999779224396,
           "y0": 0.45556219220161437,
           "y1": 0.5554718226194382
          },
          {
           "calibration": false,
           "column_names": "Healed_sol",
           "time": 87,
           "y": 0.5167726874351501,
           "y0": 0.4612721160054207,
           "y1": 0.5601565957069397
          },
          {
           "calibration": false,
           "column_names": "Healed_sol",
           "time": 88,
           "y": 0.5216920673847198,
           "y0": 0.4668580248951912,
           "y1": 0.5647335797548294
          },
          {
           "calibration": false,
           "column_names": "Healed_sol",
           "time": 89,
           "y": 0.5265290141105652,
           "y0": 0.47232228070497506,
           "y1": 0.569206354022026
          },
          {
           "calibration": false,
           "column_names": "Healed_sol",
           "time": 90,
           "y": 0.5312564074993134,
           "y0": 0.477667261660099,
           "y1": 0.5735774159431457
          },
          {
           "calibration": false,
           "column_names": "Healed_sol",
           "time": 91,
           "y": 0.5358071625232697,
           "y0": 0.4828956693410873,
           "y1": 0.5778477668762207
          },
          {
           "calibration": false,
           "column_names": "Healed_sol",
           "time": 92,
           "y": 0.5401507318019867,
           "y0": 0.48800955563783643,
           "y1": 0.5820203483104706
          },
          {
           "calibration": false,
           "column_names": "Healed_sol",
           "time": 93,
           "y": 0.5444211363792419,
           "y0": 0.4930111274123191,
           "y1": 0.58609699010849
          },
          {
           "calibration": false,
           "column_names": "Healed_sol",
           "time": 94,
           "y": 0.5486495196819305,
           "y0": 0.4978726148605347,
           "y1": 0.5900789231061936
          },
          {
           "calibration": false,
           "column_names": "Healed_sol",
           "time": 95,
           "y": 0.5527825057506561,
           "y0": 0.5024828165769577,
           "y1": 0.5939690291881561
          },
          {
           "calibration": false,
           "column_names": "Healed_sol",
           "time": 96,
           "y": 0.5568206310272217,
           "y0": 0.5069913625717163,
           "y1": 0.5977690368890762
          },
          {
           "calibration": false,
           "column_names": "Healed_sol",
           "time": 97,
           "y": 0.5607665181159973,
           "y0": 0.5114002406597138,
           "y1": 0.6014805883169174
          },
          {
           "calibration": false,
           "column_names": "Healed_sol",
           "time": 98,
           "y": 0.5646218657493591,
           "y0": 0.5157105445861816,
           "y1": 0.6051057785749435
          },
          {
           "calibration": false,
           "column_names": "Healed_sol",
           "time": 99,
           "y": 0.5683889985084534,
           "y0": 0.5199254035949707,
           "y1": 0.608646211028099
          },
          {
           "calibration": true,
           "column_names": "Healed_sol",
           "time": 0,
           "y": 1.2380121887686159e-17,
           "y0": 1.1592721548843664e-17,
           "y1": 1.3528994612104223e-17
          },
          {
           "calibration": true,
           "column_names": "Healed_sol",
           "time": 1,
           "y": 1.527839543769005e-7,
           "y0": 1.4325604666964863e-7,
           "y1": 1.6524463717360052e-7
          },
          {
           "calibration": true,
           "column_names": "Healed_sol",
           "time": 2,
           "y": 3.797950682837836e-7,
           "y0": 3.5483146518799915e-7,
           "y1": 4.1283865925834107e-7
          },
          {
           "calibration": true,
           "column_names": "Healed_sol",
           "time": 3,
           "y": 7.127017909169808e-7,
           "y0": 6.474142423940066e-7,
           "y1": 7.751627379093406e-7
          },
          {
           "calibration": true,
           "column_names": "Healed_sol",
           "time": 4,
           "y": 0.000001181649111003935,
           "y0": 0.0000010429171936721105,
           "y1": 0.0000013058244405783623
          },
          {
           "calibration": true,
           "column_names": "Healed_sol",
           "time": 5,
           "y": 0.0000018511298094381345,
           "y0": 0.0000015787989923410351,
           "y1": 0.000002078212867218099
          },
          {
           "calibration": true,
           "column_names": "Healed_sol",
           "time": 6,
           "y": 0.0000027927960672968766,
           "y0": 0.0000023124179051592364,
           "y1": 0.0000031937827429828755
          },
          {
           "calibration": true,
           "column_names": "Healed_sol",
           "time": 7,
           "y": 0.000004095267058801255,
           "y0": 0.000003298585329503112,
           "y1": 0.000004803410638487548
          },
          {
           "calibration": true,
           "column_names": "Healed_sol",
           "time": 8,
           "y": 0.000005891126420465298,
           "y0": 0.000004620884692485561,
           "y1": 0.000007111400691428571
          },
          {
           "calibration": true,
           "column_names": "Healed_sol",
           "time": 9,
           "y": 0.000008335865459230263,
           "y0": 0.000006389384157046152,
           "y1": 0.000010414518783363746
          },
          {
           "calibration": true,
           "column_names": "Healed_sol",
           "time": 10,
           "y": 0.000011695495231833775,
           "y0": 0.000008721195536054438,
           "y1": 0.000015141054745981817
          },
          {
           "calibration": true,
           "column_names": "Healed_sol",
           "time": 11,
           "y": 0.000016396120372519363,
           "y0": 0.000011818413258879446,
           "y1": 0.000021998476768203545
          },
          {
           "calibration": true,
           "column_names": "Healed_sol",
           "time": 12,
           "y": 0.000022923201868252363,
           "y0": 0.00001592851858731592,
           "y1": 0.00003175664041918935
          },
          {
           "calibration": true,
           "column_names": "Healed_sol",
           "time": 13,
           "y": 0.0000319450773531571,
           "y0": 0.000021378965539042837,
           "y1": 0.00004567509549815441
          },
          {
           "calibration": true,
           "column_names": "Healed_sol",
           "time": 14,
           "y": 0.00004441359487827867,
           "y0": 0.000028603323607967467,
           "y1": 0.00006556682492373512
          },
          {
           "calibration": true,
           "column_names": "Healed_sol",
           "time": 15,
           "y": 0.00006173186557134613,
           "y0": 0.00003817504784819903,
           "y1": 0.00009398732108820695
          },
          {
           "calibration": true,
           "column_names": "Healed_sol",
           "time": 16,
           "y": 0.00008597057239967398,
           "y0": 0.0000508533681568224,
           "y1": 0.000134778225765315
          },
          {
           "calibration": true,
           "column_names": "Healed_sol",
           "time": 17,
           "y": 0.0001196011580759,
           "y0": 0.00006764230020053219,
           "y1": 0.00019357382552694
          },
          {
           "calibration": true,
           "column_names": "Healed_sol",
           "time": 18,
           "y": 0.000166249286849,
           "y0": 0.00008986988432297948,
           "y1": 0.00027782216347979995
          },
          {
           "calibration": true,
           "column_names": "Healed_sol",
           "time": 19,
           "y": 0.0002309308183612,
           "y0": 0.00011929185748154499,
           "y1": 0.00039846178406146497
          },
          {
           "calibration": true,
           "column_names": "Healed_sol",
           "time": 20,
           "y": 0.0003205771936336,
           "y0": 0.000158228632790205,
           "y1": 0.000571060916990935
          },
          {
           "calibration": true,
           "column_names": "Healed_sol",
           "time": 21,
           "y": 0.00044474961759985,
           "y0": 0.000209744805761085,
           "y1": 0.0008176913135684399
          },
          {
           "calibration": true,
           "column_names": "Healed_sol",
           "time": 22,
           "y": 0.0006166065577417499,
           "y0": 0.00027788531006074,
           "y1": 0.0011694853368680199
          },
          {
           "calibration": true,
           "column_names": "Healed_sol",
           "time": 23,
           "y": 0.00085419692914,
           "y0": 0.000367981090675955,
           "y1": 0.0016700314416083699
          },
          {
           "calibration": true,
           "column_names": "Healed_sol",
           "time": 24,
           "y": 0.00118216738337645,
           "y0": 0.00048705402150512,
           "y1": 0.0023797163506969546
          },
          {
           "calibration": true,
           "column_names": "Healed_sol",
           "time": 25,
           "y": 0.0016339638968928998,
           "y0": 0.0006443284102714951,
           "y1": 0.0033809535671024695
          },
          {
           "calibration": true,
           "column_names": "Healed_sol",
           "time": 26,
           "y": 0.0022545787505805,
           "y0": 0.000851900625275395,
           "y1": 0.004783834889531084
          },
          {
           "calibration": true,
           "column_names": "Healed_sol",
           "time": 27,
           "y": 0.00310382782481605,
           "y0": 0.001125576376216455,
           "y1": 0.0067310407059266485
          },
          {
           "calibration": true,
           "column_names": "Healed_sol",
           "time": 28,
           "y": 0.0042599285952746,
           "y0": 0.001485931733623115,
           "y1": 0.009379582805558988
          },
          {
           "calibration": true,
           "column_names": "Healed_sol",
           "time": 29,
           "y": 0.00582290301099415,
           "y0": 0.001959466643165755,
           "y1": 0.012948775710537973
          },
          {
           "calibration": true,
           "column_names": "Healed_sol",
           "time": 30,
           "y": 0.00791674293577665,
           "y0": 0.0025780972675419553,
           "y1": 0.017663657013326804
          },
          {
           "calibration": true,
           "column_names": "Healed_sol",
           "time": 31,
           "y": 0.0106888045556843,
           "y0": 0.003386228403542115,
           "y1": 0.02374056112021203
          },
          {
           "calibration": true,
           "column_names": "Healed_sol",
           "time": 32,
           "y": 0.0143042551353573,
           "y0": 0.0044379316037520145,
           "y1": 0.03134939661249512
          },
          {
           "calibration": true,
           "column_names": "Healed_sol",
           "time": 33,
           "y": 0.01893358491361135,
           "y0": 0.0057999895419924945,
           "y1": 0.04057297185063358
          },
          {
           "calibration": true,
           "column_names": "Healed_sol",
           "time": 34,
           "y": 0.02473265677690505,
           "y0": 0.00755315755959594,
           "y1": 0.051378334499895546
          },
          {
           "calibration": true,
           "column_names": "Healed_sol",
           "time": 35,
           "y": 0.0318173952400684,
           "y0": 0.00979234613478178,
           "y1": 0.06355741955339907
          },
          {
           "calibration": true,
           "column_names": "Healed_sol",
           "time": 36,
           "y": 0.04023931175470345,
           "y0": 0.012625103769823896,
           "y1": 0.07681441903114315
          },
          {
           "calibration": true,
           "column_names": "Healed_sol",
           "time": 37,
           "y": 0.049970118328928906,
           "y0": 0.016167328646406475,
           "y1": 0.09091598913073533
          },
          {
           "calibration": true,
           "column_names": "Healed_sol",
           "time": 38,
           "y": 0.06090102158486835,
           "y0": 0.02053592149168251,
           "y1": 0.10557222925126548
          },
          {
           "calibration": true,
           "column_names": "Healed_sol",
           "time": 39,
           "y": 0.07285828888416285,
           "y0": 0.025838028546422632,
           "y1": 0.1205217584967613
          },
          {
           "calibration": true,
           "column_names": "Healed_sol",
           "time": 40,
           "y": 0.08562868088483805,
           "y0": 0.032158142607659035,
           "y1": 0.13557400926947594
          },
          {
           "calibration": true,
           "column_names": "Healed_sol",
           "time": 41,
           "y": 0.09898717701435085,
           "y0": 0.03954501971602434,
           "y1": 0.15058073997497554
          },
          {
           "calibration": true,
           "column_names": "Healed_sol",
           "time": 42,
           "y": 0.1127197593450546,
           "y0": 0.04800188075751066,
           "y1": 0.16537184864282603
          },
          {
           "calibration": true,
           "column_names": "Healed_sol",
           "time": 43,
           "y": 0.1266381368041038,
           "y0": 0.05748250186443321,
           "y1": 0.17983352094888685
          },
          {
           "calibration": true,
           "column_names": "Healed_sol",
           "time": 44,
           "y": 0.14058645069599146,
           "y0": 0.06789430938661097,
           "y1": 0.19371786937117574
          },
          {
           "calibration": true,
           "column_names": "Healed_sol",
           "time": 45,
           "y": 0.1544422358274459,
           "y0": 0.07910868190228931,
           "y1": 0.2072720937430858
          },
          {
           "calibration": true,
           "column_names": "Healed_sol",
           "time": 46,
           "y": 0.1681135296821594,
           "y0": 0.09097441397607324,
           "y1": 0.22084450200200081
          },
          {
           "calibration": true,
           "column_names": "Healed_sol",
           "time": 47,
           "y": 0.18153478205204004,
           "y0": 0.10333247222006314,
           "y1": 0.23403011709451668
          },
          {
           "calibration": true,
           "column_names": "Healed_sol",
           "time": 48,
           "y": 0.19466119259595865,
           "y0": 0.1160284925252199,
           "y1": 0.2467874482274055
          },
          {
           "calibration": true,
           "column_names": "Healed_sol",
           "time": 49,
           "y": 0.20746482908725733,
           "y0": 0.12892154455184932,
           "y1": 0.25890866667032236
          },
          {
           "calibration": true,
           "column_names": "Healed_sol",
           "time": 50,
           "y": 0.220081977546215,
           "y0": 0.14188979640603067,
           "y1": 0.27059886157512664
          },
          {
           "calibration": true,
           "column_names": "Healed_sol",
           "time": 51,
           "y": 0.2325310260057449,
           "y0": 0.15483191832900042,
           "y1": 0.28231110274791715
          },
          {
           "calibration": true,
           "column_names": "Healed_sol",
           "time": 52,
           "y": 0.2446186393499374,
           "y0": 0.16766726374626156,
           "y1": 0.29371042102575295
          },
          {
           "calibration": true,
           "column_names": "Healed_sol",
           "time": 53,
           "y": 0.2564833462238312,
           "y0": 0.18033362627029415,
           "y1": 0.30477963835000993
          },
          {
           "calibration": true,
           "column_names": "Healed_sol",
           "time": 54,
           "y": 0.26807183027267456,
           "y0": 0.1927848413586616,
           "y1": 0.31575513184070586
          },
          {
           "calibration": true,
           "column_names": "Healed_sol",
           "time": 55,
           "y": 0.2793363481760025,
           "y0": 0.2049887880682945,
           "y1": 0.3264125496149063
          },
          {
           "calibration": true,
           "column_names": "Healed_sol",
           "time": 56,
           "y": 0.29028698801994324,
           "y0": 0.21692329719662662,
           "y1": 0.3367676138877868
          },
          {
           "calibration": true,
           "column_names": "Healed_sol",
           "time": 57,
           "y": 0.30093431472778315,
           "y0": 0.22857598736882206,
           "y1": 0.34669025689363475
          },
          {
           "calibration": true,
           "column_names": "Healed_sol",
           "time": 58,
           "y": 0.31128956377506256,
           "y0": 0.23993952348828312,
           "y1": 0.35631778538227077
          },
          {
           "calibration": true,
           "column_names": "Healed_sol",
           "time": 59,
           "y": 0.32136406004428864,
           "y0": 0.251013408601284,
           "y1": 0.36570031642913814
          },
          {
           "calibration": true,
           "column_names": "Healed_sol",
           "time": 60,
           "y": 0.33116909861564636,
           "y0": 0.2617992758750915,
           "y1": 0.374848872423172
          },
          {
           "calibration": true,
           "column_names": "Healed_sol",
           "time": 61,
           "y": 0.3405071198940277,
           "y0": 0.2723024427890777,
           "y1": 0.3837739065289497
          },
          {
           "calibration": true,
           "column_names": "Healed_sol",
           "time": 62,
           "y": 0.3494744300842285,
           "y0": 0.2825290814042091,
           "y1": 0.3924872905015945
          },
          {
           "calibration": true,
           "column_names": "Healed_sol",
           "time": 63,
           "y": 0.35821814835071564,
           "y0": 0.292487333714962,
           "y1": 0.4010123461484909
          },
          {
           "calibration": true,
           "column_names": "Healed_sol",
           "time": 64,
           "y": 0.3667474240064621,
           "y0": 0.30218547135591506,
           "y1": 0.4093370959162712
          },
          {
           "calibration": true,
           "column_names": "Healed_sol",
           "time": 65,
           "y": 0.37496601045131683,
           "y0": 0.3116325423121452,
           "y1": 0.41746912151575083
          },
          {
           "calibration": true,
           "column_names": "Healed_sol",
           "time": 66,
           "y": 0.3827653974294662,
           "y0": 0.3208372250199318,
           "y1": 0.425414602458477
          },
          {
           "calibration": true,
           "column_names": "Healed_sol",
           "time": 67,
           "y": 0.3903936594724655,
           "y0": 0.3298083201050758,
           "y1": 0.4331788271665573
          },
          {
           "calibration": true,
           "column_names": "Healed_sol",
           "time": 68,
           "y": 0.39785635471343994,
           "y0": 0.3385543152689934,
           "y1": 0.4407680928707122
          },
          {
           "calibration": true,
           "column_names": "Healed_sol",
           "time": 69,
           "y": 0.4051592946052551,
           "y0": 0.3470833882689476,
           "y1": 0.4481869176030159
          },
          {
           "calibration": true,
           "column_names": "Healed_sol",
           "time": 70,
           "y": 0.4123068302869797,
           "y0": 0.3554034262895584,
           "y1": 0.455440516769886
          },
          {
           "calibration": true,
           "column_names": "Healed_sol",
           "time": 71,
           "y": 0.41952554881572723,
           "y0": 0.36352155953645704,
           "y1": 0.4625318050384521
          },
          {
           "calibration": true,
           "column_names": "Healed_sol",
           "time": 72,
           "y": 0.4266338050365448,
           "y0": 0.37144474089145657,
           "y1": 0.4694663271307945
          },
          {
           "calibration": true,
           "column_names": "Healed_sol",
           "time": 73,
           "y": 0.4335848242044449,
           "y0": 0.37917956560850136,
           "y1": 0.476203279197216
          },
          {
           "calibration": true,
           "column_names": "Healed_sol",
           "time": 74,
           "y": 0.4403833597898483,
           "y0": 0.3867318153381348,
           "y1": 0.4826846122741699
          },
          {
           "calibration": true,
           "column_names": "Healed_sol",
           "time": 75,
           "y": 0.44703294336795807,
           "y0": 0.39410824477672574,
           "y1": 0.48901653587818145
          },
          {
           "calibration": true,
           "column_names": "Healed_sol",
           "time": 76,
           "y": 0.45353688299655914,
           "y0": 0.4013123959302902,
           "y1": 0.4952035307884216
          },
          {
           "calibration": true,
           "column_names": "Healed_sol",
           "time": 77,
           "y": 0.4598984122276306,
           "y0": 0.40834926515817643,
           "y1": 0.501248350739479
          },
          {
           "calibration": true,
           "column_names": "Healed_sol",
           "time": 78,
           "y": 0.46612119674682617,
           "y0": 0.4152211263775825,
           "y1": 0.5071835309267044
          },
          {
           "calibration": true,
           "column_names": "Healed_sol",
           "time": 79,
           "y": 0.4722082167863846,
           "y0": 0.4219386920332908,
           "y1": 0.512988755106926
          },
          {
           "calibration": true,
           "column_names": "Healed_sol",
           "time": 80,
           "y": 0.4781621992588043,
           "y0": 0.4285060927271843,
           "y1": 0.5186620235443116
          },
          {
           "calibration": true,
           "column_names": "Healed_sol",
           "time": 81,
           "y": 0.4839860796928406,
           "y0": 0.4349272474646568,
           "y1": 0.5242081999778747
          },
          {
           "calibration": true,
           "column_names": "Healed_sol",
           "time": 82,
           "y": 0.4896822720766067,
           "y0": 0.4412052884697914,
           "y1": 0.5296275973320007
          },
          {
           "calibration": true,
           "column_names": "Healed_sol",
           "time": 83,
           "y": 0.4952536821365356,
           "y0": 0.4473367229104042,
           "y1": 0.5349240124225616
          },
          {
           "calibration": true,
           "column_names": "Healed_sol",
           "time": 84,
           "y": 0.500702828168869,
           "y0": 0.45332963317632674,
           "y1": 0.5401018738746644
          },
          {
           "calibration": true,
           "column_names": "Healed_sol",
           "time": 85,
           "y": 0.5060317814350128,
           "y0": 0.4591870456933975,
           "y1": 0.5451614111661911
          },
          {
           "calibration": true,
           "column_names": "Healed_sol",
           "time": 86,
           "y": 0.5112436413764954,
           "y0": 0.4649122029542923,
           "y1": 0.5501055926084518
          },
          {
           "calibration": true,
           "column_names": "Healed_sol",
           "time": 87,
           "y": 0.5163402557373047,
           "y0": 0.4705086320638656,
           "y1": 0.5549371242523193
          },
          {
           "calibration": true,
           "column_names": "Healed_sol",
           "time": 88,
           "y": 0.5213233232498169,
           "y0": 0.47597837299108503,
           "y1": 0.5596583306789398
          },
          {
           "calibration": true,
           "column_names": "Healed_sol",
           "time": 89,
           "y": 0.526196151971817,
           "y0": 0.4813243791460991,
           "y1": 0.5642710536718368
          },
          {
           "calibration": true,
           "column_names": "Healed_sol",
           "time": 90,
           "y": 0.530960202217102,
           "y0": 0.4865495890378952,
           "y1": 0.5687782049179076
          },
          {
           "calibration": true,
           "column_names": "Healed_sol",
           "time": 91,
           "y": 0.5356525778770447,
           "y0": 0.4916560441255569,
           "y1": 0.5731263667345047
          },
          {
           "calibration": true,
           "column_names": "Healed_sol",
           "time": 92,
           "y": 0.5402673780918121,
           "y0": 0.4966468274593353,
           "y1": 0.5773494213819503
          },
          {
           "calibration": true,
           "column_names": "Healed_sol",
           "time": 93,
           "y": 0.544778972864151,
           "y0": 0.5015240967273712,
           "y1": 0.5814710199832916
          },
          {
           "calibration": true,
           "column_names": "Healed_sol",
           "time": 94,
           "y": 0.549155980348587,
           "y0": 0.5062897592782974,
           "y1": 0.5854923039674759
          },
          {
           "calibration": true,
           "column_names": "Healed_sol",
           "time": 95,
           "y": 0.553498387336731,
           "y0": 0.5109466075897217,
           "y1": 0.5894167274236679
          },
          {
           "calibration": true,
           "column_names": "Healed_sol",
           "time": 96,
           "y": 0.5576661229133606,
           "y0": 0.5154968857765198,
           "y1": 0.5932466208934783
          },
          {
           "calibration": true,
           "column_names": "Healed_sol",
           "time": 97,
           "y": 0.5616256296634674,
           "y0": 0.5199424445629119,
           "y1": 0.5969831436872483
          },
          {
           "calibration": true,
           "column_names": "Healed_sol",
           "time": 98,
           "y": 0.5654942095279694,
           "y0": 0.5242856591939926,
           "y1": 0.6006289094686508
          },
          {
           "calibration": true,
           "column_names": "Healed_sol",
           "time": 99,
           "y": 0.569286048412323,
           "y0": 0.5285289824008942,
           "y1": 0.6041864067316055
          },
          {
           "calibration": false,
           "column_names": "Infected_sol",
           "time": 0,
           "y": 0.000003333333324917476,
           "y0": 0.000003333333324917476,
           "y1": 0.000003333333324917476
          },
          {
           "calibration": false,
           "column_names": "Infected_sol",
           "time": 1,
           "y": 0.000004337712653068593,
           "y0": 0.000004108221310161753,
           "y1": 0.000004610285918715817
          },
          {
           "calibration": false,
           "column_names": "Infected_sol",
           "time": 2,
           "y": 0.000005815918939333642,
           "y0": 0.000005219651734478248,
           "y1": 0.000006558306336046371
          },
          {
           "calibration": false,
           "column_names": "Infected_sol",
           "time": 3,
           "y": 0.000007936102520034183,
           "y0": 0.000006735613692399056,
           "y1": 0.000009448396804145887
          },
          {
           "calibration": false,
           "column_names": "Infected_sol",
           "time": 4,
           "y": 0.000010913411642832216,
           "y0": 0.000008778241272011655,
           "y1": 0.000013688101171283052
          },
          {
           "calibration": false,
           "column_names": "Infected_sol",
           "time": 5,
           "y": 0.000015062072179716779,
           "y0": 0.000011489184817037313,
           "y1": 0.000019878762668668062
          },
          {
           "calibration": false,
           "column_names": "Infected_sol",
           "time": 6,
           "y": 0.00002082607170450501,
           "y0": 0.000015069939900058671,
           "y1": 0.000028901912719447862
          },
          {
           "calibration": false,
           "column_names": "Infected_sol",
           "time": 7,
           "y": 0.000028820065381296445,
           "y0": 0.000019784891810559203,
           "y1": 0.00004204258530080551
          },
          {
           "calibration": false,
           "column_names": "Infected_sol",
           "time": 8,
           "y": 0.00003990055665781256,
           "y0": 0.000025986428317992254,
           "y1": 0.00006117222019383916
          },
          {
           "calibration": false,
           "column_names": "Infected_sol",
           "time": 9,
           "y": 0.000055252779930015095,
           "y0": 0.000034143373522965706,
           "y1": 0.00008901573091861792
          },
          {
           "calibration": false,
           "column_names": "Infected_sol",
           "time": 10,
           "y": 0.00007652102067368105,
           "y0": 0.00004486890211410355,
           "y1": 0.00012953701516378499
          },
          {
           "calibration": false,
           "column_names": "Infected_sol",
           "time": 11,
           "y": 0.0001059808128047,
           "y0": 0.00005897096889384557,
           "y1": 0.000188500597869195
          },
          {
           "calibration": false,
           "column_names": "Infected_sol",
           "time": 12,
           "y": 0.00014670756354455,
           "y0": 0.00007750974655209574,
           "y1": 0.00027428663888707
          },
          {
           "calibration": false,
           "column_names": "Infected_sol",
           "time": 13,
           "y": 0.00020288801169945,
           "y0": 0.000101880131478505,
           "y1": 0.000399069119885065
          },
          {
           "calibration": false,
           "column_names": "Infected_sol",
           "time": 14,
           "y": 0.00028056504379485,
           "y0": 0.00013391362153919,
           "y1": 0.00058051878295367
          },
          {
           "calibration": false,
           "column_names": "Infected_sol",
           "time": 15,
           "y": 0.00038794256397520004,
           "y0": 0.000176016145996945,
           "y1": 0.000844249132205695
          },
          {
           "calibration": false,
           "column_names": "Infected_sol",
           "time": 16,
           "y": 0.0005363374657463,
           "y0": 0.000231347300723385,
           "y1": 0.00122732254094436
          },
          {
           "calibration": false,
           "column_names": "Infected_sol",
           "time": 17,
           "y": 0.0007413441489916,
           "y0": 0.000304052348656055,
           "y1": 0.00178321163984944
          },
          {
           "calibration": false,
           "column_names": "Infected_sol",
           "time": 18,
           "y": 0.0010244164732284501,
           "y0": 0.000399570136505615,
           "y1": 0.002588763344101565
          },
          {
           "calibration": false,
           "column_names": "Infected_sol",
           "time": 19,
           "y": 0.0014150099013932002,
           "y0": 0.00052502755133893,
           "y1": 0.00375376605661585
          },
          {
           "calibration": false,
           "column_names": "Infected_sol",
           "time": 20,
           "y": 0.0019534523598849,
           "y0": 0.000689758878434025,
           "y1": 0.005433716718107425
          },
          {
           "calibration": false,
           "column_names": "Infected_sol",
           "time": 21,
           "y": 0.00269472075160585,
           "y0": 0.0009059678617631351,
           "y1": 0.007846053596585955
          },
          {
           "calibration": false,
           "column_names": "Infected_sol",
           "time": 22,
           "y": 0.0037133583100512,
           "y0": 0.00118958948296492,
           "y1": 0.011289105098694468
          },
          {
           "calibration": false,
           "column_names": "Infected_sol",
           "time": 23,
           "y": 0.005109652644023251,
           "y0": 0.001561373478034455,
           "y1": 0.01616062391549342
          },
          {
           "calibration": false,
           "column_names": "Infected_sol",
           "time": 24,
           "y": 0.0070169833488762,
           "y0": 0.0020482734194956047,
           "y1": 0.022967984806746153
          },
          {
           "calibration": false,
           "column_names": "Infected_sol",
           "time": 25,
           "y": 0.0096100894734263,
           "y0": 0.0026851477101444803,
           "y1": 0.03231409210711715
          },
          {
           "calibration": false,
           "column_names": "Infected_sol",
           "time": 26,
           "y": 0.0131127308122813,
           "y0": 0.003516845626290815,
           "y1": 0.0448324456810951
          },
          {
           "calibration": false,
           "column_names": "Infected_sol",
           "time": 27,
           "y": 0.01780229620635505,
           "y0": 0.004600686277262805,
           "y1": 0.06103646457195279
          },
          {
           "calibration": false,
           "column_names": "Infected_sol",
           "time": 28,
           "y": 0.02400613669306035,
           "y0": 0.0060091916704549855,
           "y1": 0.08106043711304663
          },
          {
           "calibration": false,
           "column_names": "Infected_sol",
           "time": 29,
           "y": 0.03208190761506555,
           "y0": 0.007833053264766875,
           "y1": 0.10432134009897705
          },
          {
           "calibration": false,
           "column_names": "Infected_sol",
           "time": 30,
           "y": 0.04237060435116285,
           "y0": 0.010183654353022521,
           "y1": 0.12924240231513975
          },
          {
           "calibration": false,
           "column_names": "Infected_sol",
           "time": 31,
           "y": 0.055111434310674653,
           "y0": 0.01319462801329785,
           "y1": 0.15326941087841983
          },
          {
           "calibration": false,
           "column_names": "Infected_sol",
           "time": 32,
           "y": 0.07031560689210885,
           "y0": 0.017021097335964363,
           "y1": 0.17336375713348384
          },
          {
           "calibration": false,
           "column_names": "Infected_sol",
           "time": 33,
           "y": 0.08761618286371226,
           "y0": 0.02183447545394299,
           "y1": 0.18686659336090086
          },
          {
           "calibration": false,
           "column_names": "Infected_sol",
           "time": 34,
           "y": 0.10614669695496555,
           "y0": 0.027810428291559147,
           "y1": 0.1923104539513587
          },
          {
           "calibration": false,
           "column_names": "Infected_sol",
           "time": 35,
           "y": 0.1245285905897617,
           "y0": 0.035106745548546286,
           "y1": 0.1897384777665138
          },
          {
           "calibration": false,
           "column_names": "Infected_sol",
           "time": 36,
           "y": 0.1406293660402298,
           "y0": 0.043828826956450885,
           "y1": 0.1816300250589847
          },
          {
           "calibration": false,
           "column_names": "Infected_sol",
           "time": 37,
           "y": 0.15284147113561625,
           "y0": 0.053982173837721276,
           "y1": 0.17600111290812492
          },
          {
           "calibration": false,
           "column_names": "Infected_sol",
           "time": 38,
           "y": 0.1490614265203476,
           "y0": 0.06541791409254072,
           "y1": 0.1706822633743286
          },
          {
           "calibration": false,
           "column_names": "Infected_sol",
           "time": 39,
           "y": 0.14223498851060867,
           "y0": 0.07778349705040452,
           "y1": 0.16580331996083253
          },
          {
           "calibration": false,
           "column_names": "Infected_sol",
           "time": 40,
           "y": 0.13659032434225082,
           "y0": 0.09049952477216716,
           "y1": 0.16073522418737407
          },
          {
           "calibration": false,
           "column_names": "Infected_sol",
           "time": 41,
           "y": 0.13403977453708643,
           "y0": 0.09596464782953257,
           "y1": 0.15786455050110815
          },
          {
           "calibration": false,
           "column_names": "Infected_sol",
           "time": 42,
           "y": 0.1323166415095329,
           "y0": 0.08194439373910421,
           "y1": 0.1538410484790802
          },
          {
           "calibration": false,
           "column_names": "Infected_sol",
           "time": 43,
           "y": 0.12143307924270624,
           "y0": 0.0688166473060846,
           "y1": 0.14875630587339395
          },
          {
           "calibration": false,
           "column_names": "Infected_sol",
           "time": 44,
           "y": 0.1122212633490562,
           "y0": 0.05749981850385662,
           "y1": 0.1462346836924552
          },
          {
           "calibration": false,
           "column_names": "Infected_sol",
           "time": 45,
           "y": 0.09881309419870371,
           "y0": 0.047854124009609186,
           "y1": 0.14096655473113054
          },
          {
           "calibration": false,
           "column_names": "Infected_sol",
           "time": 46,
           "y": 0.08598399534821505,
           "y0": 0.03971847016364329,
           "y1": 0.1314778052270412
          },
          {
           "calibration": false,
           "column_names": "Infected_sol",
           "time": 47,
           "y": 0.07412049546837801,
           "y0": 0.03292944133281701,
           "y1": 0.12577397488057612
          },
          {
           "calibration": false,
           "column_names": "Infected_sol",
           "time": 48,
           "y": 0.06361523643136019,
           "y0": 0.027290810644626594,
           "y1": 0.12200135365128513
          },
          {
           "calibration": false,
           "column_names": "Infected_sol",
           "time": 49,
           "y": 0.054289726540446254,
           "y0": 0.022629284951835856,
           "y1": 0.11458699479699129
          },
          {
           "calibration": false,
           "column_names": "Infected_sol",
           "time": 50,
           "y": 0.0461263637989759,
           "y0": 0.018787248525768487,
           "y1": 0.10493389777839178
          },
          {
           "calibration": false,
           "column_names": "Infected_sol",
           "time": 51,
           "y": 0.039072062820196096,
           "y0": 0.0156296180095523,
           "y1": 0.0946914076805114
          },
          {
           "calibration": false,
           "column_names": "Infected_sol",
           "time": 52,
           "y": 0.03303729556500905,
           "y0": 0.013039791863411615,
           "y1": 0.08452897965908045
          },
          {
           "calibration": false,
           "column_names": "Infected_sol",
           "time": 53,
           "y": 0.02791504748165605,
           "y0": 0.010917746694758495,
           "y1": 0.07478405162692066
          },
          {
           "calibration": false,
           "column_names": "Infected_sol",
           "time": 54,
           "y": 0.023593695834278998,
           "y0": 0.009179705101996616,
           "y1": 0.06568146813660855
          },
          {
           "calibration": false,
           "column_names": "Infected_sol",
           "time": 55,
           "y": 0.01996479555964465,
           "y0": 0.0077558916527777,
           "y1": 0.05743742063641546
          },
          {
           "calibration": false,
           "column_names": "Infected_sol",
           "time": 56,
           "y": 0.016927840188145603,
           "y0": 0.006587840360589265,
           "y1": 0.050000339560210647
          },
          {
           "calibration": false,
           "column_names": "Infected_sol",
           "time": 57,
           "y": 0.014392512384802051,
           "y0": 0.00563558421563354,
           "y1": 0.04336714185774323
          },
          {
           "calibration": false,
           "column_names": "Infected_sol",
           "time": 58,
           "y": 0.0122791635803878,
           "y0": 0.004854436265304634,
           "y1": 0.037517592497169946
          },
          {
           "calibration": false,
           "column_names": "Infected_sol",
           "time": 59,
           "y": 0.0105190114118158,
           "y0": 0.004211181658320066,
           "y1": 0.03240572474896904
          },
          {
           "calibration": false,
           "column_names": "Infected_sol",
           "time": 60,
           "y": 0.00905268872156735,
           "y0": 0.003679877787362745,
           "y1": 0.027970859687775306
          },
          {
           "calibration": false,
           "column_names": "Infected_sol",
           "time": 61,
           "y": 0.007804311579093301,
           "y0": 0.0032394611742347004,
           "y1": 0.024145438149571357
          },
          {
           "calibration": false,
           "column_names": "Infected_sol",
           "time": 62,
           "y": 0.0067631292622536004,
           "y0": 0.00287285186350343,
           "y1": 0.020860619656741557
          },
          {
           "calibration": false,
           "column_names": "Infected_sol",
           "time": 63,
           "y": 0.0058884569443762,
           "y0": 0.00256622778251761,
           "y1": 0.01804980542510738
          },
          {
           "calibration": false,
           "column_names": "Infected_sol",
           "time": 64,
           "y": 0.0051554101519286,
           "y0": 0.002308400173205825,
           "y1": 0.015650781197473363
          },
          {
           "calibration": false,
           "column_names": "Infected_sol",
           "time": 65,
           "y": 0.0045405162964015505,
           "y0": 0.0020903277094475848,
           "y1": 0.013606906449422196
          },
          {
           "calibration": false,
           "column_names": "Infected_sol",
           "time": 66,
           "y": 0.0040232015307992,
           "y0": 0.00190470023662781,
           "y1": 0.01186752249486739
          },
          {
           "calibration": false,
           "column_names": "Infected_sol",
           "time": 67,
           "y": 0.0035838865442201,
           "y0": 0.00174562365864399,
           "y1": 0.010387972882017487
          },
          {
           "calibration": false,
           "column_names": "Infected_sol",
           "time": 68,
           "y": 0.0032003009691834,
           "y0": 0.00160832052933981,
           "y1": 0.009129303647205187
          },
          {
           "calibration": false,
           "column_names": "Infected_sol",
           "time": 69,
           "y": 0.0028744710143655,
           "y0": 0.00148893725126979,
           "y1": 0.008057841728441331
          },
          {
           "calibration": false,
           "column_names": "Infected_sol",
           "time": 70,
           "y": 0.00259647739585485,
           "y0": 0.001384358818177115,
           "y1": 0.007144689373671963
          },
          {
           "calibration": false,
           "column_names": "Infected_sol",
           "time": 71,
           "y": 0.0023719043238088003,
           "y0": 0.0012920610199216099,
           "y1": 0.006365162320435023
          },
          {
           "calibration": false,
           "column_names": "Infected_sol",
           "time": 72,
           "y": 0.00217842636629935,
           "y0": 0.001209999871207375,
           "y1": 0.005698297778144413
          },
          {
           "calibration": false,
           "column_names": "Infected_sol",
           "time": 73,
           "y": 0.00201403477694835,
           "y0": 0.00113651830470184,
           "y1": 0.005126335681416038
          },
          {
           "calibration": false,
           "column_names": "Infected_sol",
           "time": 74,
           "y": 0.0018772913026622999,
           "y0": 0.00107026984333056,
           "y1": 0.004634293331764619
          },
          {
           "calibration": false,
           "column_names": "Infected_sol",
           "time": 75,
           "y": 0.00175406364724035,
           "y0": 0.001010153052629855,
           "y1": 0.004209553101099959
          },
          {
           "calibration": false,
           "column_names": "Infected_sol",
           "time": 76,
           "y": 0.00163813139079135,
           "y0": 0.00095527628727718,
           "y1": 0.003841504629235674
          },
          {
           "calibration": false,
           "column_names": "Infected_sol",
           "time": 77,
           "y": 0.0015344087150878502,
           "y0": 0.0009049043379491,
           "y1": 0.003521270502824289
          },
          {
           "calibration": false,
           "column_names": "Infected_sol",
           "time": 78,
           "y": 0.00144104496575885,
           "y0": 0.000858434475958285,
           "y1": 0.003241385729052039
          },
          {
           "calibration": false,
           "column_names": "Infected_sol",
           "time": 79,
           "y": 0.0013552107266149999,
           "y0": 0.000815371569478855,
           "y1": 0.0029956143815069794
          },
          {
           "calibration": false,
           "column_names": "Infected_sol",
           "time": 80,
           "y": 0.0012766654253936502,
           "y0": 0.000775302902911755,
           "y1": 0.0027787383180111046
          },
          {
           "calibration": false,
           "column_names": "Infected_sol",
           "time": 81,
           "y": 0.0012049473007209,
           "y0": 0.0007378865877398801,
           "y1": 0.0025863997405394445
          },
          {
           "calibration": false,
           "column_names": "Infected_sol",
           "time": 82,
           "y": 0.00113914615940295,
           "y0": 0.00070328670844897,
           "y1": 0.0024149390286765642
          },
          {
           "calibration": false,
           "column_names": "Infected_sol",
           "time": 83,
           "y": 0.0010795737616717499,
           "y0": 0.00067150094546373,
           "y1": 0.0022613084991462144
          },
          {
           "calibration": false,
           "column_names": "Infected_sol",
           "time": 84,
           "y": 0.0010254742810502,
           "y0": 0.000641527579864435,
           "y1": 0.0021229510544799194
          },
          {
           "calibration": false,
           "column_names": "Infected_sol",
           "time": 85,
           "y": 0.00097519494011065,
           "y0": 0.00061320066743058,
           "y1": 0.0019977283838670595
          },
          {
           "calibration": false,
           "column_names": "Infected_sol",
           "time": 86,
           "y": 0.00092829720233565,
           "y0": 0.00058638115879141,
           "y1": 0.0018838435178621996
          },
          {
           "calibration": false,
           "column_names": "Infected_sol",
           "time": 87,
           "y": 0.00088441898697055,
           "y0": 0.000560947807389245,
           "y1": 0.0017797962180338247
          },
          {
           "calibration": false,
           "column_names": "Infected_sol",
           "time": 88,
           "y": 0.0008432484173681,
           "y0": 0.00053679411648768,
           "y1": 0.0016843152116052297
          },
          {
           "calibration": false,
           "column_names": "Infected_sol",
           "time": 89,
           "y": 0.0008045223366934,
           "y0": 0.000513830335694335,
           "y1": 0.0015963343379552495
          },
          {
           "calibration": false,
           "column_names": "Infected_sol",
           "time": 90,
           "y": 0.0007680146081838,
           "y0": 0.000491973164025615,
           "y1": 0.0015149508952162546
          },
          {
           "calibration": false,
           "column_names": "Infected_sol",
           "time": 91,
           "y": 0.0007335307600442,
           "y0": 0.000471151954843625,
           "y1": 0.0014394038124009446
          },
          {
           "calibration": false,
           "column_names": "Infected_sol",
           "time": 92,
           "y": 0.0007009038235991499,
           "y0": 0.000451301503926475,
           "y1": 0.0013690455292816245
          },
          {
           "calibration": false,
           "column_names": "Infected_sol",
           "time": 93,
           "y": 0.0006699866207781999,
           "y0": 0.00043198090424986004,
           "y1": 0.0013033244176767448
          },
          {
           "calibration": false,
           "column_names": "Infected_sol",
           "time": 94,
           "y": 0.00064065051265055,
           "y0": 0.00041322152246716997,
           "y1": 0.0012417634774464547
          },
          {
           "calibration": false,
           "column_names": "Infected_sol",
           "time": 95,
           "y": 0.00061278379871505,
           "y0": 0.000395139445026825,
           "y1": 0.0011839620652608297
          },
          {
           "calibration": false,
           "column_names": "Infected_sol",
           "time": 96,
           "y": 0.00058628377155395,
           "y0": 0.00037790172937092,
           "y1": 0.0011295714706647897
          },
          {
           "calibration": false,
           "column_names": "Infected_sol",
           "time": 97,
           "y": 0.0005610632069874,
           "y0": 0.00036130691150899,
           "y1": 0.0010782891709822347
          },
          {
           "calibration": false,
           "column_names": "Infected_sol",
           "time": 98,
           "y": 0.00053704105084755,
           "y0": 0.00034531888231861997,
           "y1": 0.0010298476292518097
          },
          {
           "calibration": false,
           "column_names": "Infected_sol",
           "time": 99,
           "y": 0.0005128823104314001,
           "y0": 0.00032999510003712,
           "y1": 0.0009840221027843498
          },
          {
           "calibration": true,
           "column_names": "Infected_sol",
           "time": 0,
           "y": 0.000003333333324917476,
           "y0": 0.000003333333324917476,
           "y1": 0.000003333333324917476
          },
          {
           "calibration": true,
           "column_names": "Infected_sol",
           "time": 1,
           "y": 0.000004354855491328635,
           "y0": 0.0000041384949099665395,
           "y1": 0.000004523919437815494
          },
          {
           "calibration": true,
           "column_names": "Infected_sol",
           "time": 2,
           "y": 0.000005859153816345497,
           "y0": 0.00000530766783413128,
           "y1": 0.00000631041493761586
          },
          {
           "calibration": true,
           "column_names": "Infected_sol",
           "time": 3,
           "y": 0.000008009240900719306,
           "y0": 0.000006910699312356883,
           "y1": 0.00000891503300408658
          },
          {
           "calibration": true,
           "column_names": "Infected_sol",
           "time": 4,
           "y": 0.000011027571872546105,
           "y0": 0.000009067291648534592,
           "y1": 0.000012671913918893552
          },
          {
           "calibration": true,
           "column_names": "Infected_sol",
           "time": 5,
           "y": 0.000015234474176395452,
           "y0": 0.000011941982847929467,
           "y1": 0.000018067994733428347
          },
          {
           "calibration": true,
           "column_names": "Infected_sol",
           "time": 6,
           "y": 0.000021082312741782516,
           "y0": 0.000015758834251755616,
           "y1": 0.000025795315741561355
          },
          {
           "calibration": true,
           "column_names": "Infected_sol",
           "time": 7,
           "y": 0.00002919761300290702,
           "y0": 0.00002081417960653198,
           "y1": 0.00003684918028739048
          },
          {
           "calibration": true,
           "column_names": "Infected_sol",
           "time": 8,
           "y": 0.000040453973269904964,
           "y0": 0.000027503726960276255,
           "y1": 0.000052655362924269863
          },
          {
           "calibration": true,
           "column_names": "Infected_sol",
           "time": 9,
           "y": 0.00005606083323073108,
           "y0": 0.00003635427037806949,
           "y1": 0.00007525227119913325
          },
          {
           "calibration": true,
           "column_names": "Infected_sol",
           "time": 10,
           "y": 0.00007769721923978068,
           "y0": 0.000048061016605061015,
           "y1": 0.000107552233748665
          },
          {
           "calibration": true,
           "column_names": "Infected_sol",
           "time": 11,
           "y": 0.0001076885600923,
           "y0": 0.00006354429679049645,
           "y1": 0.00015371633562600998
          },
          {
           "calibration": true,
           "column_names": "Infected_sol",
           "time": 12,
           "y": 0.00014925601863064998,
           "y0": 0.00008402019047935028,
           "y1": 0.000219687363278265
          },
          {
           "calibration": true,
           "column_names": "Infected_sol",
           "time": 13,
           "y": 0.0002068629692075,
           "y0": 0.000111096406908405,
           "y1": 0.00031394651305161
          },
          {
           "calibration": true,
           "column_names": "Infected_sol",
           "time": 14,
           "y": 0.00028668508457480003,
           "y0": 0.00014689841700596498,
           "y1": 0.00044859135668951
          },
          {
           "calibration": true,
           "column_names": "Infected_sol",
           "time": 15,
           "y": 0.00039726775139565,
           "y0": 0.000194232267676815,
           "y1": 0.00064085802005129
          },
          {
           "calibration": true,
           "column_names": "Infected_sol",
           "time": 16,
           "y": 0.0005504229920915999,
           "y0": 0.000256806313700455,
           "y1": 0.000915275581064605
          },
          {
           "calibration": true,
           "column_names": "Infected_sol",
           "time": 17,
           "y": 0.0007624608406331,
           "y0": 0.00033951367659026,
           "y1": 0.0013066701358183349
          },
          {
           "calibration": true,
           "column_names": "Infected_sol",
           "time": 18,
           "y": 0.0010558673529885,
           "y0": 0.00044880950154035,
           "y1": 0.001864352129632565
          },
          {
           "calibration": true,
           "column_names": "Infected_sol",
           "time": 19,
           "y": 0.0014615747495553499,
           "y0": 0.0005932020081672,
           "y1": 0.00265785258961833
          },
          {
           "calibration": true,
           "column_names": "Infected_sol",
           "time": 20,
           "y": 0.00202201062347735,
           "y0": 0.0007838934747268649,
           "y1": 0.00378461341606445
          },
          {
           "calibration": true,
           "column_names": "Infected_sol",
           "time": 21,
           "y": 0.0027951176743954,
           "y0": 0.001035610696999275,
           "y1": 0.005380021431483295
          },
          {
           "calibration": true,
           "column_names": "Infected_sol",
           "time": 22,
           "y": 0.003859574208036,
           "y0": 0.0013676752801983902,
           "y1": 0.0076298236381261795
          },
          {
           "calibration": true,
           "column_names": "Infected_sol",
           "time": 23,
           "y": 0.00532133691012855,
           "y0": 0.001805373042588975,
           "y1": 0.010784191219136095
          },
          {
           "calibration": true,
           "column_names": "Infected_sol",
           "time": 24,
           "y": 0.00732145388610655,
           "y0": 0.002381677192170115,
           "y1": 0.015170970140024954
          },
          {
           "calibration": true,
           "column_names": "Infected_sol",
           "time": 25,
           "y": 0.010044630151242,
           "y0": 0.003139393567107575,
           "y1": 0.021202346216887203
          },
          {
           "calibration": true,
           "column_names": "Infected_sol",
           "time": 26,
           "y": 0.01372709032148115,
           "y0": 0.00413374372292304,
           "y1": 0.029363793134689304
          },
          {
           "calibration": true,
           "column_names": "Infected_sol",
           "time": 27,
           "y": 0.018660666421055752,
           "y0": 0.00543537284247571,
           "y1": 0.04016726054251185
          },
          {
           "calibration": true,
           "column_names": "Infected_sol",
           "time": 28,
           "y": 0.0251875594258308,
           "y0": 0.00713367478456343,
           "y1": 0.054045065492391554
          },
          {
           "calibration": true,
           "column_names": "Infected_sol",
           "time": 29,
           "y": 0.033676831051707254,
           "y0": 0.009340009745210381,
           "y1": 0.07116720862686628
          },
          {
           "calibration": true,
           "column_names": "Infected_sol",
           "time": 30,
           "y": 0.04447067156434055,
           "y0": 0.012190290866419649,
           "y1": 0.09119548499584193
          },
          {
           "calibration": true,
           "column_names": "Infected_sol",
           "time": 31,
           "y": 0.05778968334197995,
           "y0": 0.015845509804785208,
           "y1": 0.11329375617206092
          },
          {
           "calibration": true,
           "column_names": "Infected_sol",
           "time": 32,
           "y": 0.07359566166996956,
           "y0": 0.020488552935421428,
           "y1": 0.13599869683384894
          },
          {
           "calibration": true,
           "column_names": "Infected_sol",
           "time": 33,
           "y": 0.09143552556633944,
           "y0": 0.026314075756818014,
           "y1": 0.1570282511413097
          },
          {
           "calibration": true,
           "column_names": "Infected_sol",
           "time": 34,
           "y": 0.11032638326287264,
           "y0": 0.03350850064307446,
           "y1": 0.17416921406984326
          },
          {
           "calibration": true,
           "column_names": "Infected_sol",
           "time": 35,
           "y": 0.12877088040113444,
           "y0": 0.04221601020544762,
           "y1": 0.18366958051919935
          },
          {
           "calibration": true,
           "column_names": "Infected_sol",
           "time": 36,
           "y": 0.14496744424104685,
           "y0": 0.05248954165726895,
           "y1": 0.18648431971669197
          },
          {
           "calibration": true,
           "column_names": "Infected_sol",
           "time": 37,
           "y": 0.15538053959608072,
           "y0": 0.06422986090183253,
           "y1": 0.18237953111529345
          },
          {
           "calibration": true,
           "column_names": "Infected_sol",
           "time": 38,
           "y": 0.15798515081405634,
           "y0": 0.07712515816092487,
           "y1": 0.1761148430407047
          },
          {
           "calibration": true,
           "column_names": "Infected_sol",
           "time": 39,
           "y": 0.15032438933849335,
           "y0": 0.09057086966931817,
           "y1": 0.1710776083171367
          },
          {
           "calibration": true,
           "column_names": "Infected_sol",
           "time": 40,
           "y": 0.14307758212089533,
           "y0": 0.10372217781841747,
           "y1": 0.16718769371509548
          },
          {
           "calibration": true,
           "column_names": "Infected_sol",
           "time": 41,
           "y": 0.1389675214886665,
           "y0": 0.108576887845993,
           "y1": 0.16256166100502012
          },
          {
           "calibration": true,
           "column_names": "Infected_sol",
           "time": 42,
           "y": 0.13389921188354492,
           "y0": 0.09983747936785221,
           "y1": 0.1594937823712825
          },
          {
           "calibration": true,
           "column_names": "Infected_sol",
           "time": 43,
           "y": 0.1240251138806343,
           "y0": 0.08530858568847177,
           "y1": 0.15405004546046255
          },
          {
           "calibration": true,
           "column_names": "Infected_sol",
           "time": 44,
           "y": 0.11434139683842655,
           "y0": 0.07228678651154036,
           "y1": 0.1477031365036964
          },
          {
           "calibration": true,
           "column_names": "Infected_sol",
           "time": 45,
           "y": 0.10057964175939554,
           "y0": 0.060880570299923366,
           "y1": 0.14212750867009155
          },
          {
           "calibration": true,
           "column_names": "Infected_sol",
           "time": 46,
           "y": 0.08754425868391985,
           "y0": 0.05104761291295284,
           "y1": 0.13415074050426481
          },
          {
           "calibration": true,
           "column_names": "Infected_sol",
           "time": 47,
           "y": 0.07550009340047831,
           "y0": 0.04267381075769658,
           "y1": 0.12317227274179454
          },
          {
           "calibration": true,
           "column_names": "Infected_sol",
           "time": 48,
           "y": 0.0646467469632625,
           "y0": 0.03560948446393008,
           "y1": 0.11609038636088366
          },
          {
           "calibration": true,
           "column_names": "Infected_sol",
           "time": 49,
           "y": 0.05505173280835145,
           "y0": 0.029692940693348616,
           "y1": 0.1085023019462823
          },
          {
           "calibration": true,
           "column_names": "Infected_sol",
           "time": 50,
           "y": 0.046693962067365605,
           "y0": 0.024765214044600678,
           "y1": 0.09853924438357345
          },
          {
           "calibration": true,
           "column_names": "Infected_sol",
           "time": 51,
           "y": 0.0394973568618297,
           "y0": 0.020678280852734977,
           "y1": 0.0881575416773557
          },
          {
           "calibration": true,
           "column_names": "Infected_sol",
           "time": 52,
           "y": 0.0333562027662992,
           "y0": 0.017299212515354143,
           "y1": 0.07808001935482022
          },
          {
           "calibration": true,
           "column_names": "Infected_sol",
           "time": 53,
           "y": 0.0281524462625384,
           "y0": 0.014511499227955886,
           "y1": 0.06858882419764988
          },
          {
           "calibration": true,
           "column_names": "Infected_sol",
           "time": 54,
           "y": 0.0237670009955763,
           "y0": 0.012214888585731356,
           "y1": 0.059856233745813336
          },
          {
           "calibration": true,
           "column_names": "Infected_sol",
           "time": 55,
           "y": 0.02008655387908215,
           "y0": 0.010324168996885355,
           "y1": 0.05196743570268146
          },
          {
           "calibration": true,
           "column_names": "Infected_sol",
           "time": 56,
           "y": 0.017007355578243698,
           "y0": 0.00876769460737701,
           "y1": 0.044943560659885355
          },
          {
           "calibration": true,
           "column_names": "Infected_sol",
           "time": 57,
           "y": 0.01443688711151475,
           "y0": 0.007480548042803956,
           "y1": 0.03876164406538
          },
          {
           "calibration": true,
           "column_names": "Infected_sol",
           "time": 58,
           "y": 0.01229417277500025,
           "y0": 0.006417661532759595,
           "y1": 0.03337080907076596
          },
          {
           "calibration": true,
           "column_names": "Infected_sol",
           "time": 59,
           "y": 0.0105093871243298,
           "y0": 0.00554051187355066,
           "y1": 0.028704326227307227
          },
          {
           "calibration": true,
           "column_names": "Infected_sol",
           "time": 60,
           "y": 0.00902292784303425,
           "y0": 0.004815076524391765,
           "y1": 0.024688389990478718
          },
          {
           "calibration": true,
           "column_names": "Infected_sol",
           "time": 61,
           "y": 0.00778437592089175,
           "y0": 0.0042134699411689805,
           "y1": 0.02124815359711642
          },
          {
           "calibration": true,
           "column_names": "Infected_sol",
           "time": 62,
           "y": 0.0067513587418943505,
           "y0": 0.0037129099480807002,
           "y1": 0.01831143042072647
          },
          {
           "calibration": true,
           "column_names": "Infected_sol",
           "time": 63,
           "y": 0.0058884373866021,
           "y0": 0.00329480416839936,
           "y1": 0.015811152569949583
          },
          {
           "calibration": true,
           "column_names": "Infected_sol",
           "time": 64,
           "y": 0.0051661282777785995,
           "y0": 0.0029440228128805703,
           "y1": 0.013686380954459268
          },
          {
           "calibration": true,
           "column_names": "Infected_sol",
           "time": 65,
           "y": 0.004559956258162801,
           "y0": 0.002648251783102715,
           "y1": 0.011882813787087748
          },
          {
           "calibration": true,
           "column_names": "Infected_sol",
           "time": 66,
           "y": 0.00404967635404315,
           "y0": 0.0023960136575624,
           "y1": 0.010352708725258654
          },
          {
           "calibration": true,
           "column_names": "Infected_sol",
           "time": 67,
           "y": 0.0036185773788019503,
           "y0": 0.002180581970605955,
           "y1": 0.009054574184119644
          },
          {
           "calibration": true,
           "column_names": "Infected_sol",
           "time": 68,
           "y": 0.0032528777373954003,
           "y0": 0.0019927839748561,
           "y1": 0.007952599972486454
          },
          {
           "calibration": true,
           "column_names": "Infected_sol",
           "time": 69,
           "y": 0.0029412471922113997,
           "y0": 0.0018333476793485949,
           "y1": 0.007016153424046875
          },
          {
           "calibration": true,
           "column_names": "Infected_sol",
           "time": 70,
           "y": 0.0026638510171323503,
           "y0": 0.00169082293286913,
           "y1": 0.00621913499198851
          },
          {
           "calibration": true,
           "column_names": "Infected_sol",
           "time": 71,
           "y": 0.00242529937531795,
           "y0": 0.00156453822273756,
           "y1": 0.00553941382095215
          },
          {
           "calibration": true,
           "column_names": "Infected_sol",
           "time": 72,
           "y": 0.0022221895633265,
           "y0": 0.001450750895310155,
           "y1": 0.00495829789433624
          },
          {
           "calibration": true,
           "column_names": "Infected_sol",
           "time": 73,
           "y": 0.0020552000496536,
           "y0": 0.001353069354081505,
           "y1": 0.0044600519817322055
          },
          {
           "calibration": true,
           "column_names": "Infected_sol",
           "time": 74,
           "y": 0.0019068036344833,
           "y0": 0.001266441395273405,
           "y1": 0.00403142273426051
          },
          {
           "calibration": true,
           "column_names": "Infected_sol",
           "time": 75,
           "y": 0.0017759863985702,
           "y0": 0.00118872128659856,
           "y1": 0.00366247016936534
          },
          {
           "calibration": true,
           "column_names": "Infected_sol",
           "time": 76,
           "y": 0.0016599217779003001,
           "y0": 0.001118553121341355,
           "y1": 0.003342851379420555
          },
          {
           "calibration": true,
           "column_names": "Infected_sol",
           "time": 77,
           "y": 0.00155629566870625,
           "y0": 0.00105482530198054,
           "y1": 0.003064421575982095
          },
          {
           "calibration": true,
           "column_names": "Infected_sol",
           "time": 78,
           "y": 0.00146320112980895,
           "y0": 0.000996620889054605,
           "y1": 0.0028207411523908
          },
          {
           "calibration": true,
           "column_names": "Infected_sol",
           "time": 79,
           "y": 0.0013790662051177999,
           "y0": 0.000943188305245655,
           "y1": 0.0026064254925585797
          },
          {
           "calibration": true,
           "column_names": "Infected_sol",
           "time": 80,
           "y": 0.00130259821889915,
           "y0": 0.000893903477117365,
           "y1": 0.002416994783561635
          },
          {
           "calibration": true,
           "column_names": "Infected_sol",
           "time": 81,
           "y": 0.0012327163130976,
           "y0": 0.0008482514385831749,
           "y1": 0.002248697483446375
          },
          {
           "calibration": true,
           "column_names": "Infected_sol",
           "time": 82,
           "y": 0.0011685364879667,
           "y0": 0.000805799380759675,
           "y1": 0.0020984034519642
          },
          {
           "calibration": true,
           "column_names": "Infected_sol",
           "time": 83,
           "y": 0.0011093180510215002,
           "y0": 0.000766187702538375,
           "y1": 0.001963506086030925
          },
          {
           "calibration": true,
           "column_names": "Infected_sol",
           "time": 84,
           "y": 0.0010544447577557998,
           "y0": 0.00072904695407486,
           "y1": 0.0018418149498756397
          },
          {
           "calibration": true,
           "column_names": "Infected_sol",
           "time": 85,
           "y": 0.0010034028673544001,
           "y0": 0.0006941206462215,
           "y1": 0.0017315031494944699
          },
          {
           "calibration": true,
           "column_names": "Infected_sol",
           "time": 86,
           "y": 0.0009553692070766501,
           "y0": 0.000661267340183205,
           "y1": 0.0016310351493302598
          },
          {
           "calibration": true,
           "column_names": "Infected_sol",
           "time": 87,
           "y": 0.0009086407953873,
           "y0": 0.000630300614284325,
           "y1": 0.0015391293913125598
          },
          {
           "calibration": true,
           "column_names": "Infected_sol",
           "time": 88,
           "y": 0.0008649272785987,
           "y0": 0.000601059131440665,
           "y1": 0.0014546992431859998
          },
          {
           "calibration": true,
           "column_names": "Infected_sol",
           "time": 89,
           "y": 0.0008239238522946501,
           "y0": 0.000573403638554655,
           "y1": 0.0013768332544713548
          },
          {
           "calibration": true,
           "column_names": "Infected_sol",
           "time": 90,
           "y": 0.0007853701245039,
           "y0": 0.0005472116172312901,
           "y1": 0.00130475816549726
          },
          {
           "calibration": true,
           "column_names": "Infected_sol",
           "time": 91,
           "y": 0.0007490428979508,
           "y0": 0.0005223765270783651,
           "y1": 0.0012378216139040047
          },
          {
           "calibration": true,
           "column_names": "Infected_sol",
           "time": 92,
           "y": 0.00071474854485125,
           "y0": 0.00049880391452453,
           "y1": 0.0011754627223125999
          },
          {
           "calibration": true,
           "column_names": "Infected_sol",
           "time": 93,
           "y": 0.000682319572661,
           "y0": 0.00047640789416613,
           "y1": 0.001117209781659705
          },
          {
           "calibration": true,
           "column_names": "Infected_sol",
           "time": 94,
           "y": 0.00065161110251205,
           "y0": 0.000455114114447465,
           "y1": 0.001062655175337505
          },
          {
           "calibration": true,
           "column_names": "Infected_sol",
           "time": 95,
           "y": 0.0006224940007086,
           "y0": 0.000434855197090575,
           "y1": 0.001011446182383185
          },
          {
           "calibration": true,
           "column_names": "Infected_sol",
           "time": 96,
           "y": 0.0005948541511315,
           "y0": 0.000415567927120625,
           "y1": 0.0009632809320464199
          },
          {
           "calibration": true,
           "column_names": "Infected_sol",
           "time": 97,
           "y": 0.00056859213509595,
           "y0": 0.000397196317498975,
           "y1": 0.000917894890881095
          },
          {
           "calibration": true,
           "column_names": "Infected_sol",
           "time": 98,
           "y": 0.0005436158680822,
           "y0": 0.00037968875694781,
           "y1": 0.000875057376106225
          },
          {
           "calibration": true,
           "column_names": "Infected_sol",
           "time": 99,
           "y": 0.0005198461003601,
           "y0": 0.000362998129276085,
           "y1": 0.000834567702258925
          },
          {
           "calibration": false,
           "column_names": "Recognized_sol",
           "time": 0,
           "y": 3.333333253863202e-8,
           "y0": 3.333333253863202e-8,
           "y1": 3.333333253863202e-8
          },
          {
           "calibration": false,
           "column_names": "Recognized_sol",
           "time": 1,
           "y": 1.8553313196889579e-7,
           "y0": 1.7218259884543843e-7,
           "y1": 1.982114092413667e-7
          },
          {
           "calibration": false,
           "column_names": "Recognized_sol",
           "time": 2,
           "y": 5.500400277469453e-7,
           "y0": 5.045481543675123e-7,
           "y1": 5.930318394575806e-7
          },
          {
           "calibration": false,
           "column_names": "Recognized_sol",
           "time": 3,
           "y": 0.000001135021364007116,
           "y0": 0.0000010428231462356053,
           "y1": 0.0000012346212656666467
          },
          {
           "calibration": false,
           "column_names": "Recognized_sol",
           "time": 4,
           "y": 0.000002023585011556861,
           "y0": 0.0000018133071250758802,
           "y1": 0.0000022267753934102075
          },
          {
           "calibration": false,
           "column_names": "Recognized_sol",
           "time": 5,
           "y": 0.0000032698255836294265,
           "y0": 0.0000028749771900038464,
           "y1": 0.000003707579560341401
          },
          {
           "calibration": false,
           "column_names": "Recognized_sol",
           "time": 6,
           "y": 0.000004990110710423323,
           "y0": 0.000004309333598939702,
           "y1": 0.000005867637673873105
          },
          {
           "calibration": false,
           "column_names": "Recognized_sol",
           "time": 7,
           "y": 0.000007417870165227214,
           "y0": 0.00000619904606082855,
           "y1": 0.000009006412301459932
          },
          {
           "calibration": false,
           "column_names": "Recognized_sol",
           "time": 8,
           "y": 0.000010771472716442076,
           "y0": 0.000008683095711603527,
           "y1": 0.000013502323326974873
          },
          {
           "calibration": false,
           "column_names": "Recognized_sol",
           "time": 9,
           "y": 0.00001539849745313404,
           "y0": 0.000011908497390322738,
           "y1": 0.0000199975262148655
          },
          {
           "calibration": false,
           "column_names": "Recognized_sol",
           "time": 10,
           "y": 0.00002173479697376024,
           "y0": 0.000016083478931250285,
           "y1": 0.00002937569252026151
          },
          {
           "calibration": false,
           "column_names": "Recognized_sol",
           "time": 11,
           "y": 0.00003058268157474231,
           "y0": 0.000021543791353906273,
           "y1": 0.000043061361975560426
          },
          {
           "calibration": false,
           "column_names": "Recognized_sol",
           "time": 12,
           "y": 0.00004272462319931947,
           "y0": 0.000028688129168585875,
           "y1": 0.00006295664607023355
          },
          {
           "calibration": false,
           "column_names": "Recognized_sol",
           "time": 13,
           "y": 0.00005949991646048147,
           "y0": 0.00003803980398515705,
           "y1": 0.00009211611140926834
          },
          {
           "calibration": false,
           "column_names": "Recognized_sol",
           "time": 14,
           "y": 0.00008271464321296662,
           "y0": 0.00005028450850659283,
           "y1": 0.000135082055203305
          },
          {
           "calibration": false,
           "column_names": "Recognized_sol",
           "time": 15,
           "y": 0.00011489783719295001,
           "y0": 0.0000663216327666305,
           "y1": 0.00019797651548281498
          },
          {
           "calibration": false,
           "column_names": "Recognized_sol",
           "time": 16,
           "y": 0.0001594321292941,
           "y0": 0.00008733014255994931,
           "y1": 0.000288676696072765
          },
          {
           "calibration": false,
           "column_names": "Recognized_sol",
           "time": 17,
           "y": 0.0002210562524851,
           "y0": 0.00011485428658486,
           "y1": 0.00042023971618615
          },
          {
           "calibration": false,
           "column_names": "Recognized_sol",
           "time": 18,
           "y": 0.00030632037669415,
           "y0": 0.000151057309267295,
           "y1": 0.000611417228355945
          },
          {
           "calibration": false,
           "column_names": "Recognized_sol",
           "time": 19,
           "y": 0.000424271041993,
           "y0": 0.00019893784410665,
           "y1": 0.00088903875439423
          },
          {
           "calibration": false,
           "column_names": "Recognized_sol",
           "time": 20,
           "y": 0.0005873928894288001,
           "y0": 0.000261863625200875,
           "y1": 0.00129179692012253
          },
          {
           "calibration": false,
           "column_names": "Recognized_sol",
           "time": 21,
           "y": 0.0008128865156322,
           "y0": 0.0003445557551458,
           "y1": 0.001875266089336885
          },
          {
           "calibration": false,
           "column_names": "Recognized_sol",
           "time": 22,
           "y": 0.00112441176315765,
           "y0": 0.00045320627978069004,
           "y1": 0.0027187798521480697
          },
          {
           "calibration": false,
           "column_names": "Recognized_sol",
           "time": 23,
           "y": 0.0015544248162768,
           "y0": 0.000595931595307705,
           "y1": 0.0039346227422356
          },
          {
           "calibration": false,
           "column_names": "Recognized_sol",
           "time": 24,
           "y": 0.00214728119317435,
           "y0": 0.00078312834375537,
           "y1": 0.00567971079144621
          },
          {
           "calibration": false,
           "column_names": "Recognized_sol",
           "time": 25,
           "y": 0.00296288623940195,
           "y0": 0.0010287437762598701,
           "y1": 0.00816941102966662
          },
          {
           "calibration": false,
           "column_names": "Recognized_sol",
           "time": 26,
           "y": 0.00407736829947675,
           "y0": 0.001350864121923175,
           "y1": 0.011691634776070674
          },
          {
           "calibration": false,
           "column_names": "Recognized_sol",
           "time": 27,
           "y": 0.0056010026019066,
           "y0": 0.001773001626133875,
           "y1": 0.01661709574982518
          },
          {
           "calibration": false,
           "column_names": "Recognized_sol",
           "time": 28,
           "y": 0.00767538743093605,
           "y0": 0.002325670118443615,
           "y1": 0.023397977091371976
          },
          {
           "calibration": false,
           "column_names": "Recognized_sol",
           "time": 29,
           "y": 0.0104839350096881,
           "y0": 0.003048294247128025,
           "y1": 0.032543422654271036
          },
          {
           "calibration": false,
           "column_names": "Recognized_sol",
           "time": 30,
           "y": 0.0142584354616701,
           "y0": 0.00399155144114039,
           "y1": 0.044561749882996035
          },
          {
           "calibration": false,
           "column_names": "Recognized_sol",
           "time": 31,
           "y": 0.019281988032162148,
           "y0": 0.005220112996175855,
           "y1": 0.059864554554224
          },
          {
           "calibration": false,
           "column_names": "Recognized_sol",
           "time": 32,
           "y": 0.0258845211938023,
           "y0": 0.006815743073821,
           "y1": 0.07864961773157116
          },
          {
           "calibration": false,
           "column_names": "Recognized_sol",
           "time": 33,
           "y": 0.03442562185227865,
           "y0": 0.00888055488467209,
           "y1": 0.10079744756221762
          },
          {
           "calibration": false,
           "column_names": "Recognized_sol",
           "time": 34,
           "y": 0.045260349288582746,
           "y0": 0.01154004298150535,
           "y1": 0.12582674510776992
          },
          {
           "calibration": false,
           "column_names": "Recognized_sol",
           "time": 35,
           "y": 0.058686630800366346,
           "y0": 0.01494518187828357,
           "y1": 0.15293184146285058
          },
          {
           "calibration": false,
           "column_names": "Recognized_sol",
           "time": 36,
           "y": 0.07488011568784711,
           "y0": 0.019272588752210086,
           "y1": 0.18109525367617602
          },
          {
           "calibration": false,
           "column_names": "Recognized_sol",
           "time": 37,
           "y": 0.0938303731381893,
           "y0": 0.024721255060285288,
           "y1": 0.2092314191162586
          },
          {
           "calibration": false,
           "column_names": "Recognized_sol",
           "time": 38,
           "y": 0.1152984388172626,
           "y0": 0.03150418112054462,
           "y1": 0.23632438927888863
          },
          {
           "calibration": false,
           "column_names": "Recognized_sol",
           "time": 39,
           "y": 0.13881241530179972,
           "y0": 0.039833365194499475,
           "y1": 0.2615242525935173
          },
          {
           "calibration": false,
           "column_names": "Recognized_sol",
           "time": 40,
           "y": 0.16366723179817194,
           "y0": 0.04989770092070094,
           "y1": 0.28441679328680036
          },
          {
           "calibration": false,
           "column_names": "Recognized_sol",
           "time": 41,
           "y": 0.18874497711658475,
           "y0": 0.061834404803812436,
           "y1": 0.3048681572079658
          },
          {
           "calibration": false,
           "column_names": "Recognized_sol",
           "time": 42,
           "y": 0.21349810063838953,
           "y0": 0.07569870762526984,
           "y1": 0.32216012626886364
          },
          {
           "calibration": false,
           "column_names": "Recognized_sol",
           "time": 43,
           "y": 0.23717484623193735,
           "y0": 0.09143613278865811,
           "y1": 0.3362244933843612
          },
          {
           "calibration": false,
           "column_names": "Recognized_sol",
           "time": 44,
           "y": 0.25913867354393,
           "y0": 0.10886684432625768,
           "y1": 0.3471925646066666
          },
          {
           "calibration": false,
           "column_names": "Recognized_sol",
           "time": 45,
           "y": 0.27890218794345856,
           "y0": 0.12768477126955985,
           "y1": 0.35521917492151256
          },
          {
           "calibration": false,
           "column_names": "Recognized_sol",
           "time": 46,
           "y": 0.2961362451314926,
           "y0": 0.14747632145881645,
           "y1": 0.3604752078652382
          },
          {
           "calibration": false,
           "column_names": "Recognized_sol",
           "time": 47,
           "y": 0.31065884232521057,
           "y0": 0.16775303557515142,
           "y1": 0.36322763860225676
          },
          {
           "calibration": false,
           "column_names": "Recognized_sol",
           "time": 48,
           "y": 0.32126007974147797,
           "y0": 0.18795610815286634,
           "y1": 0.364606411755085
          },
          {
           "calibration": false,
           "column_names": "Recognized_sol",
           "time": 49,
           "y": 0.3282751888036728,
           "y0": 0.20751761272549626,
           "y1": 0.36500865817070005
          },
          {
           "calibration": false,
           "column_names": "Recognized_sol",
           "time": 50,
           "y": 0.33290307223796844,
           "y0": 0.22604945898056028,
           "y1": 0.3642226323485374
          },
          {
           "calibration": false,
           "column_names": "Recognized_sol",
           "time": 51,
           "y": 0.33529147505760193,
           "y0": 0.24316826760768886,
           "y1": 0.36232161372900007
          },
          {
           "calibration": false,
           "column_names": "Recognized_sol",
           "time": 52,
           "y": 0.33467125892639155,
           "y0": 0.25857944637537,
           "y1": 0.35979357510805127
          },
          {
           "calibration": false,
           "column_names": "Recognized_sol",
           "time": 53,
           "y": 0.3332160860300064,
           "y0": 0.27302134782075876,
           "y1": 0.3550103589892387
          },
          {
           "calibration": false,
           "column_names": "Recognized_sol",
           "time": 54,
           "y": 0.3306110203266143,
           "y0": 0.28562388122081755,
           "y1": 0.35204849690198897
          },
          {
           "calibration": false,
           "column_names": "Recognized_sol",
           "time": 55,
           "y": 0.327731654047966,
           "y0": 0.29615540951490404,
           "y1": 0.3478314414620399
          },
          {
           "calibration": false,
           "column_names": "Recognized_sol",
           "time": 56,
           "y": 0.3249465078115463,
           "y0": 0.3027761086821556,
           "y1": 0.34208005070686337
          },
          {
           "calibration": false,
           "column_names": "Recognized_sol",
           "time": 57,
           "y": 0.3210878372192383,
           "y0": 0.30220949798822405,
           "y1": 0.3370813369750976
          },
          {
           "calibration": false,
           "column_names": "Recognized_sol",
           "time": 58,
           "y": 0.3139344006776809,
           "y0": 0.29396150261163706,
           "y1": 0.33288781046867366
          },
          {
           "calibration": false,
           "column_names": "Recognized_sol",
           "time": 59,
           "y": 0.30989372730255127,
           "y0": 0.2852132648229599,
           "y1": 0.3294145181775093
          },
          {
           "calibration": false,
           "column_names": "Recognized_sol",
           "time": 60,
           "y": 0.3031899631023407,
           "y0": 0.2762965470552444,
           "y1": 0.32429331392049787
          },
          {
           "calibration": false,
           "column_names": "Recognized_sol",
           "time": 61,
           "y": 0.297086700797081,
           "y0": 0.2673461705446243,
           "y1": 0.3195286229252815
          },
          {
           "calibration": false,
           "column_names": "Recognized_sol",
           "time": 62,
           "y": 0.28895145654678345,
           "y0": 0.25841776579618453,
           "y1": 0.31581840217113494
          },
          {
           "calibration": false,
           "column_names": "Recognized_sol",
           "time": 63,
           "y": 0.2808597683906555,
           "y0": 0.2495578162372112,
           "y1": 0.3135150015354156
          },
          {
           "calibration": false,
           "column_names": "Recognized_sol",
           "time": 64,
           "y": 0.27274787425994873,
           "y0": 0.24080431535840033,
           "y1": 0.31033359915018077
          },
          {
           "calibration": false,
           "column_names": "Recognized_sol",
           "time": 65,
           "y": 0.26491931080818176,
           "y0": 0.23218899443745608,
           "y1": 0.3062347769737243
          },
          {
           "calibration": false,
           "column_names": "Recognized_sol",
           "time": 66,
           "y": 0.2569630295038223,
           "y0": 0.22373652458190918,
           "y1": 0.3002564072608947
          },
          {
           "calibration": false,
           "column_names": "Recognized_sol",
           "time": 67,
           "y": 0.24894136935472486,
           "y0": 0.2154676258563995,
           "y1": 0.29372123330831523
          },
          {
           "calibration": false,
           "column_names": "Recognized_sol",
           "time": 68,
           "y": 0.24090740829706192,
           "y0": 0.20739702507853508,
           "y1": 0.2867868572473526
          },
          {
           "calibration": false,
           "column_names": "Recognized_sol",
           "time": 69,
           "y": 0.232906199991703,
           "y0": 0.19950244724750513,
           "y1": 0.2795455768704414
          },
          {
           "calibration": false,
           "column_names": "Recognized_sol",
           "time": 70,
           "y": 0.22497523576021194,
           "y0": 0.19179993644356724,
           "y1": 0.2720788151025772
          },
          {
           "calibration": false,
           "column_names": "Recognized_sol",
           "time": 71,
           "y": 0.2171457707881927,
           "y0": 0.18432135209441183,
           "y1": 0.2644999116659164
          },
          {
           "calibration": false,
           "column_names": "Recognized_sol",
           "time": 72,
           "y": 0.20944331586360926,
           "y0": 0.1770694874227047,
           "y1": 0.25683032423257823
          },
          {
           "calibration": false,
           "column_names": "Recognized_sol",
           "time": 73,
           "y": 0.20188888162374496,
           "y0": 0.17002131268382067,
           "y1": 0.24911193624138828
          },
          {
           "calibration": false,
           "column_names": "Recognized_sol",
           "time": 74,
           "y": 0.19449868053197855,
           "y0": 0.1632054612040519,
           "y1": 0.2413913026452064
          },
          {
           "calibration": false,
           "column_names": "Recognized_sol",
           "time": 75,
           "y": 0.1872857883572578,
           "y0": 0.15662135705351823,
           "y1": 0.23370707482099531
          },
          {
           "calibration": false,
           "column_names": "Recognized_sol",
           "time": 76,
           "y": 0.1802600398659706,
           "y0": 0.15020152553915977,
           "y1": 0.2260925844311714
          },
          {
           "calibration": false,
           "column_names": "Recognized_sol",
           "time": 77,
           "y": 0.17342825978994364,
           "y0": 0.14400993511080737,
           "y1": 0.21857509166002273
          },
          {
           "calibration": false,
           "column_names": "Recognized_sol",
           "time": 78,
           "y": 0.16679579764604563,
           "y0": 0.13804451301693915,
           "y1": 0.21117723658680912
          },
          {
           "calibration": false,
           "column_names": "Recognized_sol",
           "time": 79,
           "y": 0.16034092754125595,
           "y0": 0.1323010310530662,
           "y1": 0.20391730219125745
          },
          {
           "calibration": false,
           "column_names": "Recognized_sol",
           "time": 80,
           "y": 0.15400022268295285,
           "y0": 0.12677505984902374,
           "y1": 0.1968099534511566
          },
          {
           "calibration": false,
           "column_names": "Recognized_sol",
           "time": 81,
           "y": 0.1478748396039009,
           "y0": 0.12146103866398332,
           "y1": 0.1898668758571148
          },
          {
           "calibration": false,
           "column_names": "Recognized_sol",
           "time": 82,
           "y": 0.14196220785379404,
           "y0": 0.11635387539863581,
           "y1": 0.18309650868177413
          },
          {
           "calibration": false,
           "column_names": "Recognized_sol",
           "time": 83,
           "y": 0.13625976443290705,
           "y0": 0.11144742518663403,
           "y1": 0.17650574669241897
          },
          {
           "calibration": false,
           "column_names": "Recognized_sol",
           "time": 84,
           "y": 0.13076362013816828,
           "y0": 0.10673595964908596,
           "y1": 0.17009860724210735
          },
          {
           "calibration": false,
           "column_names": "Recognized_sol",
           "time": 85,
           "y": 0.12546965479850763,
           "y0": 0.10221333391964434,
           "y1": 0.16387801095843307
          },
          {
           "calibration": false,
           "column_names": "Recognized_sol",
           "time": 86,
           "y": 0.12037324532866475,
           "y0": 0.09787344634532927,
           "y1": 0.15784525424242016
          },
          {
           "calibration": false,
           "column_names": "Recognized_sol",
           "time": 87,
           "y": 0.1154693588614463,
           "y0": 0.09371010214090345,
           "y1": 0.1520003408193588
          },
          {
           "calibration": false,
           "column_names": "Recognized_sol",
           "time": 88,
           "y": 0.11075291782617566,
           "y0": 0.08971717357635495,
           "y1": 0.1463423110544681
          },
          {
           "calibration": false,
           "column_names": "Recognized_sol",
           "time": 89,
           "y": 0.106218472123146,
           "y0": 0.0858886450529098,
           "y1": 0.14086963236331934
          },
          {
           "calibration": false,
           "column_names": "Recognized_sol",
           "time": 90,
           "y": 0.10186029225587839,
           "y0": 0.08221848867833606,
           "y1": 0.13557969033718106
          },
          {
           "calibration": false,
           "column_names": "Recognized_sol",
           "time": 91,
           "y": 0.0977408960461616,
           "y0": 0.0787008982151746,
           "y1": 0.13046947643160814
          },
          {
           "calibration": false,
           "column_names": "Recognized_sol",
           "time": 92,
           "y": 0.09385097399353975,
           "y0": 0.07532999366521832,
           "y1": 0.1255356229841708
          },
          {
           "calibration": false,
           "column_names": "Recognized_sol",
           "time": 93,
           "y": 0.0901124477386474,
           "y0": 0.07210028953850268,
           "y1": 0.12077434249222273
          },
          {
           "calibration": false,
           "column_names": "Recognized_sol",
           "time": 94,
           "y": 0.0864841267466545,
           "y0": 0.06900626979768272,
           "y1": 0.1161814849823713
          },
          {
           "calibration": false,
           "column_names": "Recognized_sol",
           "time": 95,
           "y": 0.08297098428010935,
           "y0": 0.06604253314435476,
           "y1": 0.11175279878079888
          },
          {
           "calibration": false,
           "column_names": "Recognized_sol",
           "time": 96,
           "y": 0.0795977748930454,
           "y0": 0.06320401281118387,
           "y1": 0.10748393721878528
          },
          {
           "calibration": false,
           "column_names": "Recognized_sol",
           "time": 97,
           "y": 0.07635920122265816,
           "y0": 0.060485689714550935,
           "y1": 0.10337027385830876
          },
          {
           "calibration": false,
           "column_names": "Recognized_sol",
           "time": 98,
           "y": 0.07326449081301685,
           "y0": 0.057882685028016495,
           "y1": 0.09940728358924389
          },
          {
           "calibration": false,
           "column_names": "Recognized_sol",
           "time": 99,
           "y": 0.07031226903200145,
           "y0": 0.05539035573601717,
           "y1": 0.0955902978777885
          },
          {
           "calibration": true,
           "column_names": "Recognized_sol",
           "time": 0,
           "y": 3.333333253863202e-8,
           "y0": 3.333333253863202e-8,
           "y1": 3.333333253863202e-8
          },
          {
           "calibration": true,
           "column_names": "Recognized_sol",
           "time": 1,
           "y": 1.8457878070421435e-7,
           "y0": 1.6884923965676534e-7,
           "y1": 1.9574902410113282e-7
          },
          {
           "calibration": true,
           "column_names": "Recognized_sol",
           "time": 2,
           "y": 5.416460737706075e-7,
           "y0": 4.927717981217939e-7,
           "y1": 5.851088019426242e-7
          },
          {
           "calibration": true,
           "column_names": "Recognized_sol",
           "time": 3,
           "y": 0.0000011302766438348044,
           "y0": 0.0000010331599469282084,
           "y1": 0.0000012359389586436008
          },
          {
           "calibration": true,
           "column_names": "Recognized_sol",
           "time": 4,
           "y": 0.0000019872045413649175,
           "y0": 0.0000018014737406701897,
           "y1": 0.0000022154562770992925
          },
          {
           "calibration": true,
           "column_names": "Recognized_sol",
           "time": 5,
           "y": 0.000003188762548234081,
           "y0": 0.000002835017608049384,
           "y1": 0.000003636360122527549
          },
          {
           "calibration": true,
           "column_names": "Recognized_sol",
           "time": 6,
           "y": 0.0000048632637117407285,
           "y0": 0.0000042183551158814225,
           "y1": 0.000005676416162714303
          },
          {
           "calibration": true,
           "column_names": "Recognized_sol",
           "time": 7,
           "y": 0.000007253884632518748,
           "y0": 0.000006088986037866562,
           "y1": 0.000008569637611799407
          },
          {
           "calibration": true,
           "column_names": "Recognized_sol",
           "time": 8,
           "y": 0.00001057673807736137,
           "y0": 0.000008569143392378465,
           "y1": 0.000012642216188396561
          },
          {
           "calibration": true,
           "column_names": "Recognized_sol",
           "time": 9,
           "y": 0.000015128337963687954,
           "y0": 0.00001187655761896167,
           "y1": 0.00001855390073615126
          },
          {
           "calibration": true,
           "column_names": "Recognized_sol",
           "time": 10,
           "y": 0.000021428122636280023,
           "y0": 0.000016314130789396586,
           "y1": 0.000026997481199941827
          },
          {
           "calibration": true,
           "column_names": "Recognized_sol",
           "time": 11,
           "y": 0.000030073604648350738,
           "y0": 0.000022196115696715425,
           "y1": 0.000039060615199559835
          },
          {
           "calibration": true,
           "column_names": "Recognized_sol",
           "time": 12,
           "y": 0.000042015239159809425,
           "y0": 0.00002981273009936558,
           "y1": 0.00005630280629702611
          },
          {
           "calibration": true,
           "column_names": "Recognized_sol",
           "time": 13,
           "y": 0.00005851446076121647,
           "y0": 0.00003982202360930387,
           "y1": 0.00008103330219455529
          },
          {
           "calibration": true,
           "column_names": "Recognized_sol",
           "time": 14,
           "y": 0.00008152901864377782,
           "y0": 0.00005303993748384528,
           "y1": 0.00011642731587923999
          },
          {
           "calibration": true,
           "column_names": "Recognized_sol",
           "time": 15,
           "y": 0.00011394364992155,
           "y0": 0.0000704798658262007,
           "y1": 0.00016708516850482
          },
          {
           "calibration": true,
           "column_names": "Recognized_sol",
           "time": 16,
           "y": 0.00015908655041125,
           "y0": 0.00009345545986434445,
           "y1": 0.00023958599122118996
          },
          {
           "calibration": true,
           "column_names": "Recognized_sol",
           "time": 17,
           "y": 0.00022159094805825,
           "y0": 0.000123783414164715,
           "y1": 0.00034333391813557996
          },
          {
           "calibration": true,
           "column_names": "Recognized_sol",
           "time": 18,
           "y": 0.00030741053342345,
           "y0": 0.000163819088629655,
           "y1": 0.0004917559315799299
          },
          {
           "calibration": true,
           "column_names": "Recognized_sol",
           "time": 19,
           "y": 0.0004262622824171,
           "y0": 0.00021667041437461,
           "y1": 0.0007026299164862848
          },
          {
           "calibration": true,
           "column_names": "Recognized_sol",
           "time": 20,
           "y": 0.0005908102029934,
           "y0": 0.00028643523692150003,
           "y1": 0.0010016128100687098
          },
          {
           "calibration": true,
           "column_names": "Recognized_sol",
           "time": 21,
           "y": 0.0008185200276784499,
           "y0": 0.00037851783854417,
           "y1": 0.0014268663187976646
          },
          {
           "calibration": true,
           "column_names": "Recognized_sol",
           "time": 22,
           "y": 0.00113343377597625,
           "y0": 0.000500033948628645,
           "y1": 0.0020308957784435696
          },
          {
           "calibration": true,
           "column_names": "Recognized_sol",
           "time": 23,
           "y": 0.00156856072135265,
           "y0": 0.000660350182442875,
           "y1": 0.002887214778456809
          },
          {
           "calibration": true,
           "column_names": "Recognized_sol",
           "time": 24,
           "y": 0.0021690375870093,
           "y0": 0.0008717765915206901,
           "y1": 0.004097884590737449
          },
          {
           "calibration": true,
           "column_names": "Recognized_sol",
           "time": 25,
           "y": 0.0029962789267301,
           "y0": 0.00115047118160868,
           "y1": 0.005805941112339413
          },
          {
           "calibration": true,
           "column_names": "Recognized_sol",
           "time": 26,
           "y": 0.0041332386899739,
           "y0": 0.00151758381398391,
           "y1": 0.008208659710362482
          },
          {
           "calibration": true,
           "column_names": "Recognized_sol",
           "time": 27,
           "y": 0.0056908603291958,
           "y0": 0.0020007436862215,
           "y1": 0.011554103624075612
          },
          {
           "calibration": true,
           "column_names": "Recognized_sol",
           "time": 28,
           "y": 0.00781548675149675,
           "y0": 0.00263588799862184,
           "y1": 0.016164692863821897
          },
          {
           "calibration": true,
           "column_names": "Recognized_sol",
           "time": 29,
           "y": 0.01069657318294045,
           "y0": 0.003469538677018115,
           "y1": 0.022432595491409243
          },
          {
           "calibration": true,
           "column_names": "Recognized_sol",
           "time": 30,
           "y": 0.0145730362273752,
           "y0": 0.00456153880804768,
           "y1": 0.03080315254628653
          },
          {
           "calibration": true,
           "column_names": "Recognized_sol",
           "time": 31,
           "y": 0.019735551439225597,
           "y0": 0.005988183477893426,
           "y1": 0.041732941009104185
          },
          {
           "calibration": true,
           "column_names": "Recognized_sol",
           "time": 32,
           "y": 0.0265204487368464,
           "y0": 0.007845701836049495,
           "y1": 0.055617760494351326
          },
          {
           "calibration": true,
           "column_names": "Recognized_sol",
           "time": 33,
           "y": 0.035290144383907304,
           "y0": 0.01025357507169241,
           "y1": 0.07269926182925698
          },
          {
           "calibration": true,
           "column_names": "Recognized_sol",
           "time": 34,
           "y": 0.04639548435807225,
           "y0": 0.01335742077790197,
           "y1": 0.09297125153243534
          },
          {
           "calibration": true,
           "column_names": "Recognized_sol",
           "time": 35,
           "y": 0.0601201374083757,
           "y0": 0.017344482615590063,
           "y1": 0.11612135320901863
          },
          {
           "calibration": true,
           "column_names": "Recognized_sol",
           "time": 36,
           "y": 0.07661384344100945,
           "y0": 0.02241180036216969,
           "y1": 0.14153382331132883
          },
          {
           "calibration": true,
           "column_names": "Recognized_sol",
           "time": 37,
           "y": 0.09583056345582006,
           "y0": 0.028775199782103248,
           "y1": 0.16835717111825937
          },
          {
           "calibration": true,
           "column_names": "Recognized_sol",
           "time": 38,
           "y": 0.11749181896448135,
           "y0": 0.03665917180478568,
           "y1": 0.19561927393078798
          },
          {
           "calibration": true,
           "column_names": "Recognized_sol",
           "time": 39,
           "y": 0.14109074324369425,
           "y0": 0.04627157878130673,
           "y1": 0.22234805896878235
          },
          {
           "calibration": true,
           "column_names": "Recognized_sol",
           "time": 40,
           "y": 0.16593864560127256,
           "y0": 0.05777468588203189,
           "y1": 0.24767500981688492
          },
          {
           "calibration": true,
           "column_names": "Recognized_sol",
           "time": 41,
           "y": 0.19124308228492737,
           "y0": 0.07125219292938703,
           "y1": 0.2709012106060981
          },
          {
           "calibration": true,
           "column_names": "Recognized_sol",
           "time": 42,
           "y": 0.21619550883769986,
           "y0": 0.08667821176350113,
           "y1": 0.29152567088603965
          },
          {
           "calibration": true,
           "column_names": "Recognized_sol",
           "time": 43,
           "y": 0.24005057662725443,
           "y0": 0.10389666929841035,
           "y1": 0.3093981340527534
          },
          {
           "calibration": true,
           "column_names": "Recognized_sol",
           "time": 44,
           "y": 0.26218155026435846,
           "y0": 0.12261656969785689,
           "y1": 0.32441711574792853
          },
          {
           "calibration": true,
           "column_names": "Recognized_sol",
           "time": 45,
           "y": 0.28202977776527405,
           "y0": 0.14242899268865583,
           "y1": 0.33639241904020306
          },
          {
           "calibration": true,
           "column_names": "Recognized_sol",
           "time": 46,
           "y": 0.2989526242017746,
           "y0": 0.16283861100673674,
           "y1": 0.3454297825694084
          },
          {
           "calibration": true,
           "column_names": "Recognized_sol",
           "time": 47,
           "y": 0.31316669285297394,
           "y0": 0.18330982029438014,
           "y1": 0.3514854729175567
          },
          {
           "calibration": true,
           "column_names": "Recognized_sol",
           "time": 48,
           "y": 0.3246526420116424,
           "y0": 0.20331127494573592,
           "y1": 0.3538983911275863
          },
          {
           "calibration": true,
           "column_names": "Recognized_sol",
           "time": 49,
           "y": 0.33302126824855804,
           "y0": 0.22235732078552245,
           "y1": 0.3574730575084686
          },
          {
           "calibration": true,
           "column_names": "Recognized_sol",
           "time": 50,
           "y": 0.3375763595104217,
           "y0": 0.2400368466973304,
           "y1": 0.35845682173967364
          },
          {
           "calibration": true,
           "column_names": "Recognized_sol",
           "time": 51,
           "y": 0.3379688411951065,
           "y0": 0.2558976277709007,
           "y1": 0.3582434877753257
          },
          {
           "calibration": true,
           "column_names": "Recognized_sol",
           "time": 52,
           "y": 0.3412565588951111,
           "y0": 0.269761574268341,
           "y1": 0.35655590444803237
          },
          {
           "calibration": true,
           "column_names": "Recognized_sol",
           "time": 53,
           "y": 0.3393615484237671,
           "y0": 0.28157705813646317,
           "y1": 0.3535280987620354
          },
          {
           "calibration": true,
           "column_names": "Recognized_sol",
           "time": 54,
           "y": 0.3343507945537567,
           "y0": 0.2913026869297027,
           "y1": 0.3492058306932449
          },
          {
           "calibration": true,
           "column_names": "Recognized_sol",
           "time": 55,
           "y": 0.3320578336715698,
           "y0": 0.2989631101489067,
           "y1": 0.34699732065200806
          },
          {
           "calibration": true,
           "column_names": "Recognized_sol",
           "time": 56,
           "y": 0.3275637030601501,
           "y0": 0.3047675028443336,
           "y1": 0.3432276844978332
          },
          {
           "calibration": true,
           "column_names": "Recognized_sol",
           "time": 57,
           "y": 0.3246339410543442,
           "y0": 0.30403783172369003,
           "y1": 0.3390442430973053
          },
          {
           "calibration": true,
           "column_names": "Recognized_sol",
           "time": 58,
           "y": 0.32043127715587616,
           "y0": 0.30151257067918774,
           "y1": 0.33642950654029846
          },
          {
           "calibration": true,
           "column_names": "Recognized_sol",
           "time": 59,
           "y": 0.3149395287036896,
           "y0": 0.29289451986551285,
           "y1": 0.3315881878137588
          },
          {
           "calibration": true,
           "column_names": "Recognized_sol",
           "time": 60,
           "y": 0.307820662856102,
           "y0": 0.284006755053997,
           "y1": 0.32442517727613446
          },
          {
           "calibration": true,
           "column_names": "Recognized_sol",
           "time": 61,
           "y": 0.30225613713264465,
           "y0": 0.2749868676066399,
           "y1": 0.32051473408937453
          },
          {
           "calibration": true,
           "column_names": "Recognized_sol",
           "time": 62,
           "y": 0.29486630856990814,
           "y0": 0.26590988934040066,
           "y1": 0.31734832078218456
          },
          {
           "calibration": true,
           "column_names": "Recognized_sol",
           "time": 63,
           "y": 0.28777809441089625,
           "y0": 0.2568406745791435,
           "y1": 0.31326218992471694
          },
          {
           "calibration": true,
           "column_names": "Recognized_sol",
           "time": 64,
           "y": 0.27971817553043365,
           "y0": 0.24783222824335097,
           "y1": 0.3074334651231766
          },
          {
           "calibration": true,
           "column_names": "Recognized_sol",
           "time": 65,
           "y": 0.27124895155429835,
           "y0": 0.23892709016799918,
           "y1": 0.3003883704543113
          },
          {
           "calibration": true,
           "column_names": "Recognized_sol",
           "time": 66,
           "y": 0.26271815598011017,
           "y0": 0.2301618993282318,
           "y1": 0.2930402353405952
          },
          {
           "calibration": true,
           "column_names": "Recognized_sol",
           "time": 67,
           "y": 0.2541827410459518,
           "y0": 0.22156409844756125,
           "y1": 0.28544495701789857
          },
          {
           "calibration": true,
           "column_names": "Recognized_sol",
           "time": 68,
           "y": 0.2455917224287986,
           "y0": 0.2131565101444721,
           "y1": 0.2776340425014495
          },
          {
           "calibration": true,
           "column_names": "Recognized_sol",
           "time": 69,
           "y": 0.23703739792108536,
           "y0": 0.20495639592409126,
           "y1": 0.26991990506649016
          },
          {
           "calibration": true,
           "column_names": "Recognized_sol",
           "time": 70,
           "y": 0.22862507402896876,
           "y0": 0.19697697013616558,
           "y1": 0.2624416023492813
          },
          {
           "calibration": true,
           "column_names": "Recognized_sol",
           "time": 71,
           "y": 0.22037784755229944,
           "y0": 0.18922250196337698,
           "y1": 0.25481832474470134
          },
          {
           "calibration": true,
           "column_names": "Recognized_sol",
           "time": 72,
           "y": 0.21231399476528165,
           "y0": 0.18168268799781798,
           "y1": 0.24712076932191845
          },
          {
           "calibration": true,
           "column_names": "Recognized_sol",
           "time": 73,
           "y": 0.20444726943969727,
           "y0": 0.17438218668103214,
           "y1": 0.2390867657959461
          },
          {
           "calibration": true,
           "column_names": "Recognized_sol",
           "time": 74,
           "y": 0.19678845256566996,
           "y0": 0.16732362657785413,
           "y1": 0.23113422989845273
          },
          {
           "calibration": true,
           "column_names": "Recognized_sol",
           "time": 75,
           "y": 0.1893449947237968,
           "y0": 0.1604413032531738,
           "y1": 0.22328478395938867
          },
          {
           "calibration": true,
           "column_names": "Recognized_sol",
           "time": 76,
           "y": 0.18212188780307764,
           "y0": 0.15378450676798816,
           "y1": 0.2155626274645328
          },
          {
           "calibration": true,
           "column_names": "Recognized_sol",
           "time": 77,
           "y": 0.1751218363642692,
           "y0": 0.14736980348825446,
           "y1": 0.2079873278737068
          },
          {
           "calibration": true,
           "column_names": "Recognized_sol",
           "time": 78,
           "y": 0.1683460399508476,
           "y0": 0.14119376018643376,
           "y1": 0.20057746469974516
          },
          {
           "calibration": true,
           "column_names": "Recognized_sol",
           "time": 79,
           "y": 0.1617941111326217,
           "y0": 0.13525172993540763,
           "y1": 0.19334617704153054
          },
          {
           "calibration": true,
           "column_names": "Recognized_sol",
           "time": 80,
           "y": 0.15546423941850662,
           "y0": 0.12953856661915775,
           "y1": 0.18630056306719778
          },
          {
           "calibration": true,
           "column_names": "Recognized_sol",
           "time": 81,
           "y": 0.14935395121574402,
           "y0": 0.12404844909906379,
           "y1": 0.1794469349086284
          },
          {
           "calibration": true,
           "column_names": "Recognized_sol",
           "time": 82,
           "y": 0.1434597447514534,
           "y0": 0.11877556554973125,
           "y1": 0.1727899834513664
          },
          {
           "calibration": true,
           "column_names": "Recognized_sol",
           "time": 83,
           "y": 0.13784269988536835,
           "y0": 0.11371351853013031,
           "y1": 0.16633161008358
          },
          {
           "calibration": true,
           "column_names": "Recognized_sol",
           "time": 84,
           "y": 0.13251698017120356,
           "y0": 0.10885586738586421,
           "y1": 0.160073547065258
          },
          {
           "calibration": true,
           "column_names": "Recognized_sol",
           "time": 85,
           "y": 0.12738420814275736,
           "y0": 0.10419599972665305,
           "y1": 0.15401534363627428
          },
          {
           "calibration": true,
           "column_names": "Recognized_sol",
           "time": 86,
           "y": 0.1224388480186462,
           "y0": 0.09972725771367542,
           "y1": 0.14815614894032475
          },
          {
           "calibration": true,
           "column_names": "Recognized_sol",
           "time": 87,
           "y": 0.1176088936626911,
           "y0": 0.09544306360185142,
           "y1": 0.14249341487884515
          },
          {
           "calibration": true,
           "column_names": "Recognized_sol",
           "time": 88,
           "y": 0.113017875701189,
           "y0": 0.09134361892938611,
           "y1": 0.13705243468284597
          },
          {
           "calibration": true,
           "column_names": "Recognized_sol",
           "time": 89,
           "y": 0.10863149166107175,
           "y0": 0.08742310479283327,
           "y1": 0.13188031911849973
          },
          {
           "calibration": true,
           "column_names": "Recognized_sol",
           "time": 90,
           "y": 0.10440966114401815,
           "y0": 0.0836656093597412,
           "y1": 0.12688969075679776
          },
          {
           "calibration": true,
           "column_names": "Recognized_sol",
           "time": 91,
           "y": 0.10034127533435815,
           "y0": 0.08006498664617537,
           "y1": 0.12207590118050567
          },
          {
           "calibration": true,
           "column_names": "Recognized_sol",
           "time": 92,
           "y": 0.09640966355800624,
           "y0": 0.07661528326570982,
           "y1": 0.11743460670113555
          },
          {
           "calibration": true,
           "column_names": "Recognized_sol",
           "time": 93,
           "y": 0.0926282554864883,
           "y0": 0.07331084385514254,
           "y1": 0.11296068467199799
          },
          {
           "calibration": true,
           "column_names": "Recognized_sol",
           "time": 94,
           "y": 0.08899169787764545,
           "y0": 0.07014586329460142,
           "y1": 0.10865065269172186
          },
          {
           "calibration": true,
           "column_names": "Recognized_sol",
           "time": 95,
           "y": 0.0854950696229934,
           "y0": 0.06711492426693437,
           "y1": 0.10448733083903787
          },
          {
           "calibration": true,
           "column_names": "Recognized_sol",
           "time": 96,
           "y": 0.082133337855339,
           "y0": 0.06424512341618532,
           "y1": 0.10036558695137497
          },
          {
           "calibration": true,
           "column_names": "Recognized_sol",
           "time": 97,
           "y": 0.0788673125207424,
           "y0": 0.06149775814265009,
           "y1": 0.09640645198523996
          },
          {
           "calibration": true,
           "column_names": "Recognized_sol",
           "time": 98,
           "y": 0.07564469799399375,
           "y0": 0.05886655915528529,
           "y1": 0.0925967320799827
          },
          {
           "calibration": true,
           "column_names": "Recognized_sol",
           "time": 99,
           "y": 0.07255144789814941,
           "y0": 0.05634667500853532,
           "y1": 0.08893178291618817
          },
          {
           "calibration": false,
           "column_names": "Susceptible_sol",
           "time": 0,
           "y": 0.999996304512024,
           "y0": 0.999996304512024,
           "y1": 0.999996304512024
          },
          {
           "calibration": false,
           "column_names": "Susceptible_sol",
           "time": 1,
           "y": 0.9999934732913972,
           "y0": 0.9999923706054688,
           "y1": 0.9999943971633912
          },
          {
           "calibration": false,
           "column_names": "Susceptible_sol",
           "time": 2,
           "y": 0.9999909102916718,
           "y0": 0.9999901056289672,
           "y1": 0.9999916553497314
          },
          {
           "calibration": false,
           "column_names": "Susceptible_sol",
           "time": 3,
           "y": 0.9999866783618928,
           "y0": 0.9999844700098037,
           "y1": 0.9999887675046921
          },
          {
           "calibration": false,
           "column_names": "Susceptible_sol",
           "time": 4,
           "y": 0.9999803900718688,
           "y0": 0.999976623058319,
           "y1": 0.9999834299087524
          },
          {
           "calibration": false,
           "column_names": "Susceptible_sol",
           "time": 5,
           "y": 0.9999719560146332,
           "y0": 0.9999651849269867,
           "y1": 0.9999772608280182
          },
          {
           "calibration": false,
           "column_names": "Susceptible_sol",
           "time": 6,
           "y": 0.9999603629112244,
           "y0": 0.9999482899904251,
           "y1": 0.9999693155288697
          },
          {
           "calibration": false,
           "column_names": "Susceptible_sol",
           "time": 7,
           "y": 0.999944269657135,
           "y0": 0.9999238848686218,
           "y1": 0.9999585837125777
          },
          {
           "calibration": false,
           "column_names": "Susceptible_sol",
           "time": 8,
           "y": 0.9999220967292786,
           "y0": 0.9998873949050903,
           "y1": 0.9999443739652634
          },
          {
           "calibration": false,
           "column_names": "Susceptible_sol",
           "time": 9,
           "y": 0.999891459941864,
           "y0": 0.9998364835977553,
           "y1": 0.9999266266822814
          },
          {
           "calibration": false,
           "column_names": "Susceptible_sol",
           "time": 10,
           "y": 0.9998489618301392,
           "y0": 0.999761551618576,
           "y1": 0.9999025493860244
          },
          {
           "calibration": false,
           "column_names": "Susceptible_sol",
           "time": 11,
           "y": 0.9997901022434235,
           "y0": 0.9996516555547714,
           "y1": 0.9998711496591568
          },
          {
           "calibration": false,
           "column_names": "Susceptible_sol",
           "time": 12,
           "y": 0.999707818031311,
           "y0": 0.9994923651218415,
           "y1": 0.9998306244611741
          },
          {
           "calibration": false,
           "column_names": "Susceptible_sol",
           "time": 13,
           "y": 0.9995960891246796,
           "y0": 0.9992605566978455,
           "y1": 0.9997751355171204
          },
          {
           "calibration": false,
           "column_names": "Susceptible_sol",
           "time": 14,
           "y": 0.9994406700134277,
           "y0": 0.9989232063293456,
           "y1": 0.9997033357620239
          },
          {
           "calibration": false,
           "column_names": "Susceptible_sol",
           "time": 15,
           "y": 0.9992258846759796,
           "y0": 0.9984326213598251,
           "y1": 0.999610048532486
          },
          {
           "calibration": false,
           "column_names": "Susceptible_sol",
           "time": 16,
           "y": 0.9989288449287415,
           "y0": 0.9977198958396912,
           "y1": 0.9994854629039766
          },
          {
           "calibration": false,
           "column_names": "Susceptible_sol",
           "time": 17,
           "y": 0.9985178112983704,
           "y0": 0.9966850578784943,
           "y1": 0.9993227392435075
          },
          {
           "calibration": false,
           "column_names": "Susceptible_sol",
           "time": 18,
           "y": 0.9979504942893982,
           "y0": 0.9951835870742797,
           "y1": 0.9991086184978485
          },
          {
           "calibration": false,
           "column_names": "Susceptible_sol",
           "time": 19,
           "y": 0.9971669316291808,
           "y0": 0.9930090278387069,
           "y1": 0.9988279968500137
          },
          {
           "calibration": false,
           "column_names": "Susceptible_sol",
           "time": 20,
           "y": 0.9960863590240479,
           "y0": 0.9898666411638259,
           "y1": 0.9984592944383621
          },
          {
           "calibration": false,
           "column_names": "Susceptible_sol",
           "time": 21,
           "y": 0.9945970773696899,
           "y0": 0.9853395074605942,
           "y1": 0.9979749232530594
          },
          {
           "calibration": false,
           "column_names": "Susceptible_sol",
           "time": 22,
           "y": 0.9925467073917389,
           "y0": 0.9788492321968079,
           "y1": 0.9973390996456145
          },
          {
           "calibration": false,
           "column_names": "Susceptible_sol",
           "time": 23,
           "y": 0.9897296130657196,
           "y0": 0.9696036994457244,
           "y1": 0.9965048909187317
          },
          {
           "calibration": false,
           "column_names": "Susceptible_sol",
           "time": 24,
           "y": 0.9858690202236176,
           "y0": 0.9565577059984207,
           "y1": 0.9954112619161606
          },
          {
           "calibration": false,
           "column_names": "Susceptible_sol",
           "time": 25,
           "y": 0.9805974364280701,
           "y0": 0.9383893728256225,
           "y1": 0.9939788073301316
          },
          {
           "calibration": false,
           "column_names": "Susceptible_sol",
           "time": 26,
           "y": 0.9734334945678711,
           "y0": 0.9135461300611496,
           "y1": 0.9921037316322326
          },
          {
           "calibration": false,
           "column_names": "Susceptible_sol",
           "time": 27,
           "y": 0.9637607932090759,
           "y0": 0.8804050266742707,
           "y1": 0.9896557688713074
          },
          {
           "calibration": false,
           "column_names": "Susceptible_sol",
           "time": 28,
           "y": 0.9508143663406372,
           "y0": 0.8376069486141204,
           "y1": 0.9864631205797195
          },
          {
           "calibration": false,
           "column_names": "Susceptible_sol",
           "time": 29,
           "y": 0.9336862564086914,
           "y0": 0.7845768332481384,
           "y1": 0.9823106318712235
          },
          {
           "calibration": false,
           "column_names": "Susceptible_sol",
           "time": 30,
           "y": 0.911372184753418,
           "y0": 0.7220746427774429,
           "y1": 0.9769291996955872
          },
          {
           "calibration": false,
           "column_names": "Susceptible_sol",
           "time": 31,
           "y": 0.8828710615634918,
           "y0": 0.6525080174207687,
           "y1": 0.969984245300293
          },
          {
           "calibration": false,
           "column_names": "Susceptible_sol",
           "time": 32,
           "y": 0.847364991903305,
           "y0": 0.5796920269727707,
           "y1": 0.9610721617937087
          },
          {
           "calibration": false,
           "column_names": "Susceptible_sol",
           "time": 33,
           "y": 0.8044677972793579,
           "y0": 0.5079989999532699,
           "y1": 0.9497163563966751
          },
          {
           "calibration": false,
           "column_names": "Susceptible_sol",
           "time": 34,
           "y": 0.754492998123169,
           "y0": 0.4412972047924995,
           "y1": 0.9353779911994934
          },
          {
           "calibration": false,
           "column_names": "Susceptible_sol",
           "time": 35,
           "y": 0.6986299753189087,
           "y0": 0.38216781914234155,
           "y1": 0.9174781113862991
          },
          {
           "calibration": false,
           "column_names": "Susceptible_sol",
           "time": 36,
           "y": 0.6389234364032745,
           "y0": 0.33172196149826044,
           "y1": 0.8954446643590926
          },
          {
           "calibration": false,
           "column_names": "Susceptible_sol",
           "time": 37,
           "y": 0.5779888033866882,
           "y0": 0.28987245857715604,
           "y1": 0.8687862634658813
          },
          {
           "calibration": false,
           "column_names": "Susceptible_sol",
           "time": 38,
           "y": 0.5185302495956421,
           "y0": 0.25580172240734095,
           "y1": 0.8371868818998336
          },
          {
           "calibration": false,
           "column_names": "Susceptible_sol",
           "time": 39,
           "y": 0.4628565609455108,
           "y0": 0.2283741973340511,
           "y1": 0.8006203353404998
          },
          {
           "calibration": false,
           "column_names": "Susceptible_sol",
           "time": 40,
           "y": 0.4125579297542572,
           "y0": 0.20641771927475921,
           "y1": 0.7594423472881316
          },
          {
           "calibration": false,
           "column_names": "Susceptible_sol",
           "time": 41,
           "y": 0.368426576256752,
           "y0": 0.188865876942873,
           "y1": 0.7144434243440627
          },
          {
           "calibration": false,
           "column_names": "Susceptible_sol",
           "time": 42,
           "y": 0.3305743783712387,
           "y0": 0.17481530681252472,
           "y1": 0.666813090443611
          },
          {
           "calibration": false,
           "column_names": "Susceptible_sol",
           "time": 43,
           "y": 0.2986406087875366,
           "y0": 0.163530933111906,
           "y1": 0.6180189073085784
          },
          {
           "calibration": false,
           "column_names": "Susceptible_sol",
           "time": 44,
           "y": 0.27200168371200556,
           "y0": 0.1544263608753681,
           "y1": 0.5696105271577835
          },
          {
           "calibration": false,
           "column_names": "Susceptible_sol",
           "time": 45,
           "y": 0.2501786276698112,
           "y0": 0.1470416136085987,
           "y1": 0.523020926117897
          },
          {
           "calibration": false,
           "column_names": "Susceptible_sol",
           "time": 46,
           "y": 0.2327543497085571,
           "y0": 0.14101573452353475,
           "y1": 0.47939889878034586
          },
          {
           "calibration": false,
           "column_names": "Susceptible_sol",
           "time": 47,
           "y": 0.2178324982523918,
           "y0": 0.13606738001108165,
           "y1": 0.43952147811651215
          },
          {
           "calibration": false,
           "column_names": "Susceptible_sol",
           "time": 48,
           "y": 0.2052936255931854,
           "y0": 0.13197645246982573,
           "y1": 0.40379105955362316
          },
          {
           "calibration": false,
           "column_names": "Susceptible_sol",
           "time": 49,
           "y": 0.1949277967214584,
           "y0": 0.1285705044865608,
           "y1": 0.37229054421186436
          },
          {
           "calibration": false,
           "column_names": "Susceptible_sol",
           "time": 50,
           "y": 0.18633350729942322,
           "y0": 0.1257136899977922,
           "y1": 0.34486258924007407
          },
          {
           "calibration": false,
           "column_names": "Susceptible_sol",
           "time": 51,
           "y": 0.17918193340301508,
           "y0": 0.12329935729503626,
           "y1": 0.32120020389556875
          },
          {
           "calibration": false,
           "column_names": "Susceptible_sol",
           "time": 52,
           "y": 0.1732057407498359,
           "y0": 0.12124269828200335,
           "y1": 0.3009171977639198
          },
          {
           "calibration": false,
           "column_names": "Susceptible_sol",
           "time": 53,
           "y": 0.16818810999393455,
           "y0": 0.11947687715291971,
           "y1": 0.28360255509614934
          },
          {
           "calibration": false,
           "column_names": "Susceptible_sol",
           "time": 54,
           "y": 0.1639536693692207,
           "y0": 0.11794781051576132,
           "y1": 0.26885500401258466
          },
          {
           "calibration": false,
           "column_names": "Susceptible_sol",
           "time": 55,
           "y": 0.1603606641292572,
           "y0": 0.11661341674625866,
           "y1": 0.2563028194010257
          },
          {
           "calibration": false,
           "column_names": "Susceptible_sol",
           "time": 56,
           "y": 0.15729394555091855,
           "y0": 0.11543919965624806,
           "y1": 0.24561413377523414
          },
          {
           "calibration": false,
           "column_names": "Susceptible_sol",
           "time": 57,
           "y": 0.1546606495976448,
           "y0": 0.11439778916537757,
           "y1": 0.2364985764026641
          },
          {
           "calibration": false,
           "column_names": "Susceptible_sol",
           "time": 58,
           "y": 0.15238554030656815,
           "y0": 0.11346705667674538,
           "y1": 0.22870750427246087
          },
          {
           "calibration": false,
           "column_names": "Susceptible_sol",
           "time": 59,
           "y": 0.15017402917146674,
           "y0": 0.11262927427887916,
           "y1": 0.2220289304852485
          },
          {
           "calibration": false,
           "column_names": "Susceptible_sol",
           "time": 60,
           "y": 0.1482382714748382,
           "y0": 0.11186988204717631,
           "y1": 0.21628422737121572
          },
          {
           "calibration": false,
           "column_names": "Susceptible_sol",
           "time": 61,
           "y": 0.14653868973255152,
           "y0": 0.11117724850773808,
           "y1": 0.21132346838712684
          },
          {
           "calibration": false,
           "column_names": "Susceptible_sol",
           "time": 62,
           "y": 0.1450374573469162,
           "y0": 0.11054183281958099,
           "y1": 0.20702101066708561
          },
          {
           "calibration": false,
           "column_names": "Susceptible_sol",
           "time": 63,
           "y": 0.1437029242515564,
           "y0": 0.10995580404996871,
           "y1": 0.20327245965600008
          },
          {
           "calibration": false,
           "column_names": "Susceptible_sol",
           "time": 64,
           "y": 0.1424191892147064,
           "y0": 0.10941277965903277,
           "y1": 0.19999032169580455
          },
          {
           "calibration": false,
           "column_names": "Susceptible_sol",
           "time": 65,
           "y": 0.1412430927157402,
           "y0": 0.10890745706856249,
           "y1": 0.1971019566059112
          },
          {
           "calibration": false,
           "column_names": "Susceptible_sol",
           "time": 66,
           "y": 0.14020755141973495,
           "y0": 0.10843550376594066,
           "y1": 0.1945467047393321
          },
          {
           "calibration": false,
           "column_names": "Susceptible_sol",
           "time": 67,
           "y": 0.1392700597643852,
           "y0": 0.10799322463572017,
           "y1": 0.19227401912212363
          },
          {
           "calibration": false,
           "column_names": "Susceptible_sol",
           "time": 68,
           "y": 0.13841687142848963,
           "y0": 0.10757754519581793,
           "y1": 0.19024191275238983
          },
          {
           "calibration": false,
           "column_names": "Susceptible_sol",
           "time": 69,
           "y": 0.13763654232025146,
           "y0": 0.10718597844243048,
           "y1": 0.18841524273157115
          },
          {
           "calibration": false,
           "column_names": "Susceptible_sol",
           "time": 70,
           "y": 0.13691917061805725,
           "y0": 0.10681622214615343,
           "y1": 0.186764670163393
          },
          {
           "calibration": false,
           "column_names": "Susceptible_sol",
           "time": 71,
           "y": 0.13625766336917872,
           "y0": 0.10646658912301056,
           "y1": 0.18526561260223384
          },
          {
           "calibration": false,
           "column_names": "Susceptible_sol",
           "time": 72,
           "y": 0.1356445625424385,
           "y0": 0.1061352755874395,
           "y1": 0.18389766961336132
          },
          {
           "calibration": false,
           "column_names": "Susceptible_sol",
           "time": 73,
           "y": 0.13507444411516184,
           "y0": 0.10582101158797735,
           "y1": 0.18264368996024125
          },
          {
           "calibration": false,
           "column_names": "Susceptible_sol",
           "time": 74,
           "y": 0.1345426812767982,
           "y0": 0.1055224128067493,
           "y1": 0.18148897886276244
          },
          {
           "calibration": false,
           "column_names": "Susceptible_sol",
           "time": 75,
           "y": 0.13404487818479535,
           "y0": 0.10523855052888391,
           "y1": 0.18042150661349293
          },
          {
           "calibration": false,
           "column_names": "Susceptible_sol",
           "time": 76,
           "y": 0.13357809931039805,
           "y0": 0.10496839992702003,
           "y1": 0.17943095937371248
          },
          {
           "calibration": false,
           "column_names": "Susceptible_sol",
           "time": 77,
           "y": 0.1331390962004661,
           "y0": 0.10471113137900825,
           "y1": 0.17850862145423882
          },
          {
           "calibration": false,
           "column_names": "Susceptible_sol",
           "time": 78,
           "y": 0.13272530585527414,
           "y0": 0.10446599312126632,
           "y1": 0.17764712572097774
          },
          {
           "calibration": false,
           "column_names": "Susceptible_sol",
           "time": 79,
           "y": 0.13233467191457743,
           "y0": 0.10423224903643127,
           "y1": 0.1768400877714157
          },
          {
           "calibration": false,
           "column_names": "Susceptible_sol",
           "time": 80,
           "y": 0.1319654583930969,
           "y0": 0.10400918871164318,
           "y1": 0.1760821752250194
          },
          {
           "calibration": false,
           "column_names": "Susceptible_sol",
           "time": 81,
           "y": 0.13161586970090866,
           "y0": 0.10379634872078891,
           "y1": 0.17536881864070886
          },
          {
           "calibration": false,
           "column_names": "Susceptible_sol",
           "time": 82,
           "y": 0.1312841698527336,
           "y0": 0.1035931337624788,
           "y1": 0.1746958248317241
          },
          {
           "calibration": false,
           "column_names": "Susceptible_sol",
           "time": 83,
           "y": 0.13096957653760904,
           "y0": 0.10339909009635447,
           "y1": 0.17405987679958335
          },
          {
           "calibration": false,
           "column_names": "Susceptible_sol",
           "time": 84,
           "y": 0.13067863136529922,
           "y0": 0.10321364887058732,
           "y1": 0.1734579503536224
          },
          {
           "calibration": false,
           "column_names": "Susceptible_sol",
           "time": 85,
           "y": 0.1304221749305725,
           "y0": 0.10303652510046957,
           "y1": 0.1728873401880264
          },
          {
           "calibration": false,
           "column_names": "Susceptible_sol",
           "time": 86,
           "y": 0.13017762452363965,
           "y0": 0.10286717005074017,
           "y1": 0.17234564498066898
          },
          {
           "calibration": false,
           "column_names": "Susceptible_sol",
           "time": 87,
           "y": 0.1299445480108261,
           "y0": 0.1027053546160459,
           "y1": 0.17183109372854227
          },
          {
           "calibration": false,
           "column_names": "Susceptible_sol",
           "time": 88,
           "y": 0.12972239404916758,
           "y0": 0.10255052186548703,
           "y1": 0.1713415674865245
          },
          {
           "calibration": false,
           "column_names": "Susceptible_sol",
           "time": 89,
           "y": 0.12951033562421793,
           "y0": 0.10240241363644595,
           "y1": 0.17087546214461324
          },
          {
           "calibration": false,
           "column_names": "Susceptible_sol",
           "time": 90,
           "y": 0.1293082609772682,
           "y0": 0.10226097591221328,
           "y1": 0.17043145671486848
          },
          {
           "calibration": false,
           "column_names": "Susceptible_sol",
           "time": 91,
           "y": 0.1291153952479362,
           "y0": 0.10212555937468999,
           "y1": 0.17000801265239712
          },
          {
           "calibration": false,
           "column_names": "Susceptible_sol",
           "time": 92,
           "y": 0.12893089652061462,
           "y0": 0.1019960511475801,
           "y1": 0.16960412487387652
          },
          {
           "calibration": false,
           "column_names": "Susceptible_sol",
           "time": 93,
           "y": 0.12875498086214066,
           "y0": 0.10187212452292439,
           "y1": 0.16921860054135318
          },
          {
           "calibration": false,
           "column_names": "Susceptible_sol",
           "time": 94,
           "y": 0.12858671694993964,
           "y0": 0.10175361223518845,
           "y1": 0.16885011568665498
          },
          {
           "calibration": false,
           "column_names": "Susceptible_sol",
           "time": 95,
           "y": 0.12842605262994766,
           "y0": 0.10164009593427176,
           "y1": 0.1684982992708682
          },
          {
           "calibration": false,
           "column_names": "Susceptible_sol",
           "time": 96,
           "y": 0.128272496163845,
           "y0": 0.1015315685421228,
           "y1": 0.16816192567348476
          },
          {
           "calibration": false,
           "column_names": "Susceptible_sol",
           "time": 97,
           "y": 0.12812583148479462,
           "y0": 0.10142753906548019,
           "y1": 0.16784029155969615
          },
          {
           "calibration": false,
           "column_names": "Susceptible_sol",
           "time": 98,
           "y": 0.1279855147004127,
           "y0": 0.10132806487381452,
           "y1": 0.16753270328044884
          },
          {
           "calibration": false,
           "column_names": "Susceptible_sol",
           "time": 99,
           "y": 0.12785132974386215,
           "y0": 0.10123289115726947,
           "y1": 0.1672385230660438
          },
          {
           "calibration": true,
           "column_names": "Susceptible_sol",
           "time": 0,
           "y": 0.999996304512024,
           "y0": 0.999996304512024,
           "y1": 0.999996304512024
          },
          {
           "calibration": true,
           "column_names": "Susceptible_sol",
           "time": 1,
           "y": 0.9999936819076538,
           "y0": 0.9999923646450043,
           "y1": 0.9999943971633912
          },
          {
           "calibration": true,
           "column_names": "Susceptible_sol",
           "time": 2,
           "y": 0.999990940093994,
           "y0": 0.9999902248382568,
           "y1": 0.9999916553497314
          },
          {
           "calibration": true,
           "column_names": "Susceptible_sol",
           "time": 3,
           "y": 0.9999865293502808,
           "y0": 0.9999849468469619,
           "y1": 0.9999882578849792
          },
          {
           "calibration": true,
           "column_names": "Susceptible_sol",
           "time": 4,
           "y": 0.9999804198741912,
           "y0": 0.9999778270721436,
           "y1": 0.9999832570552825
          },
          {
           "calibration": true,
           "column_names": "Susceptible_sol",
           "time": 5,
           "y": 0.9999721348285676,
           "y0": 0.999967396259308,
           "y1": 0.9999770641326905
          },
          {
           "calibration": true,
           "column_names": "Susceptible_sol",
           "time": 6,
           "y": 0.9999603033065796,
           "y0": 0.999952319264412,
           "y1": 0.9999685287475586
          },
          {
           "calibration": true,
           "column_names": "Susceptible_sol",
           "time": 7,
           "y": 0.9999440014362334,
           "y0": 0.9999304234981536,
           "y1": 0.9999570965766906
          },
          {
           "calibration": true,
           "column_names": "Susceptible_sol",
           "time": 8,
           "y": 0.9999213814735413,
           "y0": 0.9999002903699875,
           "y1": 0.9999413013458253
          },
          {
           "calibration": true,
           "column_names": "Susceptible_sol",
           "time": 9,
           "y": 0.9998894333839417,
           "y0": 0.9998569875955582,
           "y1": 0.9999235361814498
          },
          {
           "calibration": true,
           "column_names": "Susceptible_sol",
           "time": 10,
           "y": 0.999846875667572,
           "y0": 0.9997948497533798,
           "y1": 0.9998975992202758
          },
          {
           "calibration": true,
           "column_names": "Susceptible_sol",
           "time": 11,
           "y": 0.9997869431972504,
           "y0": 0.999706357717514,
           "y1": 0.9998641937971114
          },
          {
           "calibration": true,
           "column_names": "Susceptible_sol",
           "time": 12,
           "y": 0.9997043609619141,
           "y0": 0.9995790362358092,
           "y1": 0.9998197376728057
          },
          {
           "calibration": true,
           "column_names": "Susceptible_sol",
           "time": 13,
           "y": 0.9995890259742736,
           "y0": 0.9993970364332199,
           "y1": 0.9997608095407486
          },
          {
           "calibration": true,
           "column_names": "Susceptible_sol",
           "time": 14,
           "y": 0.9994289875030518,
           "y0": 0.9991374522447586,
           "y1": 0.9996825903654099
          },
          {
           "calibration": true,
           "column_names": "Susceptible_sol",
           "time": 15,
           "y": 0.9992077052593231,
           "y0": 0.9987672805786133,
           "y1": 0.9995789289474487
          },
          {
           "calibration": true,
           "column_names": "Susceptible_sol",
           "time": 16,
           "y": 0.9989010989665986,
           "y0": 0.9982377260923384,
           "y1": 0.9994416505098344
          },
          {
           "calibration": true,
           "column_names": "Susceptible_sol",
           "time": 17,
           "y": 0.9984768331050873,
           "y0": 0.9974822759628296,
           "y1": 0.9992607921361923
          },
          {
           "calibration": true,
           "column_names": "Susceptible_sol",
           "time": 18,
           "y": 0.9978891909122467,
           "y0": 0.9964055091142654,
           "y1": 0.9990209996700288
          },
          {
           "calibration": true,
           "column_names": "Susceptible_sol",
           "time": 19,
           "y": 0.9970771670341492,
           "y0": 0.9948710471391679,
           "y1": 0.9987036108970642
          },
          {
           "calibration": true,
           "column_names": "Susceptible_sol",
           "time": 20,
           "y": 0.9959523379802704,
           "y0": 0.9926887273788452,
           "y1": 0.9982858896255493
          },
          {
           "calibration": true,
           "column_names": "Susceptible_sol",
           "time": 21,
           "y": 0.9943998157978058,
           "y0": 0.989591857790947,
           "y1": 0.9977326333522797
          },
          {
           "calibration": true,
           "column_names": "Susceptible_sol",
           "time": 22,
           "y": 0.9922581315040588,
           "y0": 0.9852093398571015,
           "y1": 0.9970046490430832
          },
          {
           "calibration": true,
           "column_names": "Susceptible_sol",
           "time": 23,
           "y": 0.9893113374710083,
           "y0": 0.9790370464324951,
           "y1": 0.9960432022809982
          },
          {
           "calibration": true,
           "column_names": "Susceptible_sol",
           "time": 24,
           "y": 0.985264927148819,
           "y0": 0.9703935205936431,
           "y1": 0.9947755813598633
          },
          {
           "calibration": true,
           "column_names": "Susceptible_sol",
           "time": 25,
           "y": 0.9797307550907135,
           "y0": 0.9583944618701935,
           "y1": 0.9931062698364257
          },
          {
           "calibration": true,
           "column_names": "Susceptible_sol",
           "time": 26,
           "y": 0.9721993505954742,
           "y0": 0.9419297218322754,
           "y1": 0.9909108310937882
          },
          {
           "calibration": true,
           "column_names": "Susceptible_sol",
           "time": 27,
           "y": 0.9620195627212524,
           "y0": 0.9196975499391556,
           "y1": 0.9880286842584611
          },
          {
           "calibration": true,
           "column_names": "Susceptible_sol",
           "time": 28,
           "y": 0.9483866095542908,
           "y0": 0.890317240357399,
           "y1": 0.9842539459466935
          },
          {
           "calibration": true,
           "column_names": "Susceptible_sol",
           "time": 29,
           "y": 0.9303514957427979,
           "y0": 0.8525604456663132,
           "y1": 0.9793263971805574
          },
          {
           "calibration": true,
           "column_names": "Susceptible_sol",
           "time": 30,
           "y": 0.9068741500377655,
           "y0": 0.8057315409183502,
           "y1": 0.9729184508323668
          },
          {
           "calibration": true,
           "column_names": "Susceptible_sol",
           "time": 31,
           "y": 0.8769418597221375,
           "y0": 0.750101062655449,
           "y1": 0.9646298706531524
          },
          {
           "calibration": true,
           "column_names": "Susceptible_sol",
           "time": 32,
           "y": 0.8397665321826935,
           "y0": 0.6872292011976242,
           "y1": 0.9539786517620087
          },
          {
           "calibration": true,
           "column_names": "Susceptible_sol",
           "time": 33,
           "y": 0.7950505912303925,
           "y0": 0.619946813583374,
           "y1": 0.9404116749763488
          },
          {
           "calibration": true,
           "column_names": "Susceptible_sol",
           "time": 34,
           "y": 0.7432600259780884,
           "y0": 0.551861098408699,
           "y1": 0.9233180046081542
          },
          {
           "calibration": true,
           "column_names": "Susceptible_sol",
           "time": 35,
           "y": 0.6857830584049225,
           "y0": 0.4865581154823303,
           "y1": 0.9020721077919007
          },
          {
           "calibration": true,
           "column_names": "Susceptible_sol",
           "time": 36,
           "y": 0.6248580515384674,
           "y0": 0.426447331905365,
           "y1": 0.8761072814464569
          },
          {
           "calibration": true,
           "column_names": "Susceptible_sol",
           "time": 37,
           "y": 0.5632300674915314,
           "y0": 0.37303207665681837,
           "y1": 0.8450153023004532
          },
          {
           "calibration": true,
           "column_names": "Susceptible_sol",
           "time": 38,
           "y": 0.5036337971687317,
           "y0": 0.32701383680105206,
           "y1": 0.808668103814125
          },
          {
           "calibration": true,
           "column_names": "Susceptible_sol",
           "time": 39,
           "y": 0.44830900430679316,
           "y0": 0.2879837527871132,
           "y1": 0.7673323392868041
          },
          {
           "calibration": true,
           "column_names": "Susceptible_sol",
           "time": 40,
           "y": 0.3987125307321548,
           "y0": 0.25580502152442924,
           "y1": 0.7217466533184052
          },
          {
           "calibration": true,
           "column_names": "Susceptible_sol",
           "time": 41,
           "y": 0.35548795759677887,
           "y0": 0.22961917296051973,
           "y1": 0.6731032818555831
          },
          {
           "calibration": true,
           "column_names": "Susceptible_sol",
           "time": 42,
           "y": 0.3186174631118774,
           "y0": 0.20841885060071944,
           "y1": 0.6229366838932037
          },
          {
           "calibration": true,
           "column_names": "Susceptible_sol",
           "time": 43,
           "y": 0.2876473367214203,
           "y0": 0.19128106981515886,
           "y1": 0.5729164034128189
          },
          {
           "calibration": true,
           "column_names": "Susceptible_sol",
           "time": 44,
           "y": 0.2618981748819351,
           "y0": 0.1778041712939739,
           "y1": 0.5246150076389312
          },
          {
           "calibration": true,
           "column_names": "Susceptible_sol",
           "time": 45,
           "y": 0.2406191155314445,
           "y0": 0.1676093496382236,
           "y1": 0.479317969083786
          },
          {
           "calibration": true,
           "column_names": "Susceptible_sol",
           "time": 46,
           "y": 0.2230860069394111,
           "y0": 0.1593008115887642,
           "y1": 0.4379060596227645
          },
          {
           "calibration": true,
           "column_names": "Susceptible_sol",
           "time": 47,
           "y": 0.20875967293977735,
           "y0": 0.15237694457173345,
           "y1": 0.4008446022868156
          },
          {
           "calibration": true,
           "column_names": "Susceptible_sol",
           "time": 48,
           "y": 0.1971633583307266,
           "y0": 0.1464252889156341,
           "y1": 0.3682404994964599
          },
          {
           "calibration": true,
           "column_names": "Susceptible_sol",
           "time": 49,
           "y": 0.1875849440693855,
           "y0": 0.14120562225580213,
           "y1": 0.3399338945746422
          },
          {
           "calibration": true,
           "column_names": "Susceptible_sol",
           "time": 50,
           "y": 0.17951942235231394,
           "y0": 0.13686055392026894,
           "y1": 0.31574229598045345
          },
          {
           "calibration": true,
           "column_names": "Susceptible_sol",
           "time": 51,
           "y": 0.1732229143381118,
           "y0": 0.13322077766060825,
           "y1": 0.29513023644685743
          },
          {
           "calibration": true,
           "column_names": "Susceptible_sol",
           "time": 52,
           "y": 0.1680398285388946,
           "y0": 0.13015223219990726,
           "y1": 0.27760425657033916
          },
          {
           "calibration": true,
           "column_names": "Susceptible_sol",
           "time": 53,
           "y": 0.163680300116539,
           "y0": 0.1275476701557636,
           "y1": 0.26273412853479383
          },
          {
           "calibration": true,
           "column_names": "Susceptible_sol",
           "time": 54,
           "y": 0.1599926576018333,
           "y0": 0.12532169446349142,
           "y1": 0.250125141441822
          },
          {
           "calibration": true,
           "column_names": "Susceptible_sol",
           "time": 55,
           "y": 0.15685454010963434,
           "y0": 0.12340584024786948,
           "y1": 0.23942609131336204
          },
          {
           "calibration": true,
           "column_names": "Susceptible_sol",
           "time": 56,
           "y": 0.15390159189701075,
           "y0": 0.12174484878778452,
           "y1": 0.23033271655440327
          },
          {
           "calibration": true,
           "column_names": "Susceptible_sol",
           "time": 57,
           "y": 0.15095598995685575,
           "y0": 0.12029430530965321,
           "y1": 0.22258490025997152
          },
          {
           "calibration": true,
           "column_names": "Susceptible_sol",
           "time": 58,
           "y": 0.14841449260711664,
           "y0": 0.11901850700378415,
           "y1": 0.21596304774284353
          },
          {
           "calibration": true,
           "column_names": "Susceptible_sol",
           "time": 59,
           "y": 0.14620841294527048,
           "y0": 0.11788827367126938,
           "y1": 0.21028297990560524
          },
          {
           "calibration": true,
           "column_names": "Susceptible_sol",
           "time": 60,
           "y": 0.14428060501813883,
           "y0": 0.11687983684241769,
           "y1": 0.20539045333862302
          },
          {
           "calibration": true,
           "column_names": "Susceptible_sol",
           "time": 61,
           "y": 0.14268178492784495,
           "y0": 0.1159742839634418,
           "y1": 0.2011573523283004
          },
          {
           "calibration": true,
           "column_names": "Susceptible_sol",
           "time": 62,
           "y": 0.14136467874050135,
           "y0": 0.11515339277684686,
           "y1": 0.1974774055182933
          },
          {
           "calibration": true,
           "column_names": "Susceptible_sol",
           "time": 63,
           "y": 0.14023290574550623,
           "y0": 0.11440184451639648,
           "y1": 0.19426180645823468
          },
          {
           "calibration": true,
           "column_names": "Susceptible_sol",
           "time": 64,
           "y": 0.1393533051013946,
           "y0": 0.11371442824602124,
           "y1": 0.19143720492720595
          },
          {
           "calibration": true,
           "column_names": "Susceptible_sol",
           "time": 65,
           "y": 0.1385502591729164,
           "y0": 0.11308230422437186,
           "y1": 0.18894263654947274
          },
          {
           "calibration": true,
           "column_names": "Susceptible_sol",
           "time": 66,
           "y": 0.1378137543797493,
           "y0": 0.11249837651848785,
           "y1": 0.18675311431288708
          },
          {
           "calibration": true,
           "column_names": "Susceptible_sol",
           "time": 67,
           "y": 0.13710249960422516,
           "y0": 0.11195675097405904,
           "y1": 0.1850298069417476
          },
          {
           "calibration": true,
           "column_names": "Susceptible_sol",
           "time": 68,
           "y": 0.13631054013967508,
           "y0": 0.11145235784351819,
           "y1": 0.1834783367812633
          },
          {
           "calibration": true,
           "column_names": "Susceptible_sol",
           "time": 69,
           "y": 0.13558284193277353,
           "y0": 0.11098098866641516,
           "y1": 0.18207418471574774
          },
          {
           "calibration": true,
           "column_names": "Susceptible_sol",
           "time": 70,
           "y": 0.1349112465977668,
           "y0": 0.11053931154310695,
           "y1": 0.18079664632678022
          },
          {
           "calibration": true,
           "column_names": "Susceptible_sol",
           "time": 71,
           "y": 0.13428881019353867,
           "y0": 0.11012434475123876,
           "y1": 0.1796292290091514
          },
          {
           "calibration": true,
           "column_names": "Susceptible_sol",
           "time": 72,
           "y": 0.1337098330259323,
           "y0": 0.10973348915576928,
           "y1": 0.1785569071769714
          },
          {
           "calibration": true,
           "column_names": "Susceptible_sol",
           "time": 73,
           "y": 0.13316933810710901,
           "y0": 0.1093647219240665,
           "y1": 0.17756817191839208
          },
          {
           "calibration": true,
           "column_names": "Susceptible_sol",
           "time": 74,
           "y": 0.13266346603631965,
           "y0": 0.1090159639716148,
           "y1": 0.17665278241038312
          },
          {
           "calibration": true,
           "column_names": "Susceptible_sol",
           "time": 75,
           "y": 0.1321884840726852,
           "y0": 0.10868589021265507,
           "y1": 0.1758024476468562
          },
          {
           "calibration": true,
           "column_names": "Susceptible_sol",
           "time": 76,
           "y": 0.1317416056990623,
           "y0": 0.10837288051843638,
           "y1": 0.17500953301787364
          },
          {
           "calibration": true,
           "column_names": "Susceptible_sol",
           "time": 77,
           "y": 0.13131979107856745,
           "y0": 0.10807590074837202,
           "y1": 0.1742682732641696
          },
          {
           "calibration": true,
           "column_names": "Susceptible_sol",
           "time": 78,
           "y": 0.13092156499624247,
           "y0": 0.1077936958521604,
           "y1": 0.17357369586825364
          },
          {
           "calibration": true,
           "column_names": "Susceptible_sol",
           "time": 79,
           "y": 0.13054450601339335,
           "y0": 0.10752539820969102,
           "y1": 0.17292098477482787
          },
          {
           "calibration": true,
           "column_names": "Susceptible_sol",
           "time": 80,
           "y": 0.13016501069068906,
           "y0": 0.10726998783648013,
           "y1": 0.17230625897645938
          },
          {
           "calibration": true,
           "column_names": "Susceptible_sol",
           "time": 81,
           "y": 0.12977121770381925,
           "y0": 0.10702673904597755,
           "y1": 0.17172649204730983
          },
          {
           "calibration": true,
           "column_names": "Susceptible_sol",
           "time": 82,
           "y": 0.1293973550200462,
           "y0": 0.10679514743387696,
           "y1": 0.17117883488535876
          },
          {
           "calibration": true,
           "column_names": "Susceptible_sol",
           "time": 83,
           "y": 0.12904193997383115,
           "y0": 0.10657425113022327,
           "y1": 0.1706600695848464
          },
          {
           "calibration": true,
           "column_names": "Susceptible_sol",
           "time": 84,
           "y": 0.12870376557111735,
           "y0": 0.10636370815336703,
           "y1": 0.17016870677471158
          },
          {
           "calibration": true,
           "column_names": "Susceptible_sol",
           "time": 85,
           "y": 0.12838164716958994,
           "y0": 0.10616280995309346,
           "y1": 0.16970261409878723
          },
          {
           "calibration": true,
           "column_names": "Susceptible_sol",
           "time": 86,
           "y": 0.12807449698448176,
           "y0": 0.10597099587321276,
           "y1": 0.16925994455814355
          },
          {
           "calibration": true,
           "column_names": "Susceptible_sol",
           "time": 87,
           "y": 0.12778149545192716,
           "y0": 0.10578797534108154,
           "y1": 0.16883918642997733
          },
          {
           "calibration": true,
           "column_names": "Susceptible_sol",
           "time": 88,
           "y": 0.12750198692083353,
           "y0": 0.10561315529048436,
           "y1": 0.16843889355659475
          },
          {
           "calibration": true,
           "column_names": "Susceptible_sol",
           "time": 89,
           "y": 0.1272347420454025,
           "y0": 0.10544614829123013,
           "y1": 0.1680579982697963
          },
          {
           "calibration": true,
           "column_names": "Susceptible_sol",
           "time": 90,
           "y": 0.1269796267151832,
           "y0": 0.10528672188520426,
           "y1": 0.16769506111741062
          },
          {
           "calibration": true,
           "column_names": "Susceptible_sol",
           "time": 91,
           "y": 0.12673540413379664,
           "y0": 0.10513443015515801,
           "y1": 0.16734930574893944
          },
          {
           "calibration": true,
           "column_names": "Susceptible_sol",
           "time": 92,
           "y": 0.12650172412395475,
           "y0": 0.10498878583312032,
           "y1": 0.16701956912875165
          },
          {
           "calibration": true,
           "column_names": "Susceptible_sol",
           "time": 93,
           "y": 0.12627840787172315,
           "y0": 0.10484962165355677,
           "y1": 0.16670505031943314
          },
          {
           "calibration": true,
           "column_names": "Susceptible_sol",
           "time": 94,
           "y": 0.12606455385684967,
           "y0": 0.10471657104790207,
           "y1": 0.166404915601015
          },
          {
           "calibration": true,
           "column_names": "Susceptible_sol",
           "time": 95,
           "y": 0.12585981190204615,
           "y0": 0.1045893374830484,
           "y1": 0.16611843854188912
          },
          {
           "calibration": true,
           "column_names": "Susceptible_sol",
           "time": 96,
           "y": 0.125663585960865,
           "y0": 0.10446782186627387,
           "y1": 0.16584490537643426
          },
          {
           "calibration": true,
           "column_names": "Susceptible_sol",
           "time": 97,
           "y": 0.12547574192285535,
           "y0": 0.10435159802436825,
           "y1": 0.1655836038291454
          },
          {
           "calibration": true,
           "column_names": "Susceptible_sol",
           "time": 98,
           "y": 0.1252956204116344,
           "y0": 0.1042403597384691,
           "y1": 0.16533402875065797
          },
          {
           "calibration": true,
           "column_names": "Susceptible_sol",
           "time": 99,
           "y": 0.12512324005365366,
           "y0": 0.10413403287529943,
           "y1": 0.16509548202157015
          },
          {
           "calibration": false,
           "column_names": "Threatened_sol",
           "time": 0,
           "y": 1.1759381826282545e-19,
           "y0": 1.0943249115538958e-19,
           "y1": 1.2518126684831764e-19
          },
          {
           "calibration": false,
           "column_names": "Threatened_sol",
           "time": 1,
           "y": 5.971667604853792e-9,
           "y0": 5.5517920705128175e-9,
           "y1": 6.560833321067605e-9
          },
          {
           "calibration": false,
           "column_names": "Threatened_sol",
           "time": 2,
           "y": 2.4883348714865864e-8,
           "y0": 2.305626685128459e-8,
           "y1": 2.7437323169010595e-8
          },
          {
           "calibration": false,
           "column_names": "Threatened_sol",
           "time": 3,
           "y": 6.273167940662461e-8,
           "y0": 5.715696609343013e-8,
           "y1": 6.892884769627017e-8
          },
          {
           "calibration": false,
           "column_names": "Threatened_sol",
           "time": 4,
           "y": 1.2705959306913428e-7,
           "y0": 1.1370164330060108e-7,
           "y1": 1.4116296753741156e-7
          },
          {
           "calibration": false,
           "column_names": "Threatened_sol",
           "time": 5,
           "y": 2.274883499353564e-7,
           "y0": 1.9977957279593284e-7,
           "y1": 2.596086901007766e-7
          },
          {
           "calibration": false,
           "column_names": "Threatened_sol",
           "time": 6,
           "y": 3.809744839600171e-7,
           "y0": 3.2378971894786444e-7,
           "y1": 4.4280561439791205e-7
          },
          {
           "calibration": false,
           "column_names": "Threatened_sol",
           "time": 7,
           "y": 6.024522747338779e-7,
           "y0": 4.989568964219871e-7,
           "y1": 7.171871942546205e-7
          },
          {
           "calibration": false,
           "column_names": "Threatened_sol",
           "time": 8,
           "y": 9.21276836152174e-7,
           "y0": 7.398839272809709e-7,
           "y1": 0.0000011238868125929002
          },
          {
           "calibration": false,
           "column_names": "Threatened_sol",
           "time": 9,
           "y": 0.000001379689649638749,
           "y0": 0.0000010683111270282098,
           "y1": 0.0000017326844556464492
          },
          {
           "calibration": false,
           "column_names": "Threatened_sol",
           "time": 10,
           "y": 0.0000020215003360135597,
           "y0": 0.0000015132290116071088,
           "y1": 0.000002632299572269403
          },
          {
           "calibration": false,
           "column_names": "Threatened_sol",
           "time": 11,
           "y": 0.000002928035087279568,
           "y0": 0.0000021094368321428194,
           "y1": 0.000003940151077586051
          },
          {
           "calibration": false,
           "column_names": "Threatened_sol",
           "time": 12,
           "y": 0.000004189412948107929,
           "y0": 0.000002906123927459703,
           "y1": 0.000005826623510074568
          },
          {
           "calibration": false,
           "column_names": "Threatened_sol",
           "time": 13,
           "y": 0.000005913855147809954,
           "y0": 0.00000396751036078058,
           "y1": 0.00000858408511703601
          },
          {
           "calibration": false,
           "column_names": "Threatened_sol",
           "time": 14,
           "y": 0.000008299422006530222,
           "y0": 0.000005378568425840058,
           "y1": 0.00001263816348000546
          },
          {
           "calibration": false,
           "column_names": "Threatened_sol",
           "time": 15,
           "y": 0.00001164411651188857,
           "y0": 0.0000072517448643338865,
           "y1": 0.00001854857946455013
          },
          {
           "calibration": false,
           "column_names": "Threatened_sol",
           "time": 16,
           "y": 0.000016306562429235782,
           "y0": 0.00000973588398665015,
           "y1": 0.000027160846184415276
          },
          {
           "calibration": false,
           "column_names": "Threatened_sol",
           "time": 17,
           "y": 0.000022706747586198617,
           "y0": 0.000012967601924174232,
           "y1": 0.00003973607472289586
          },
          {
           "calibration": false,
           "column_names": "Threatened_sol",
           "time": 18,
           "y": 0.000031415898774866946,
           "y0": 0.000017208943518198794,
           "y1": 0.00005807768920931266
          },
          {
           "calibration": false,
           "column_names": "Threatened_sol",
           "time": 19,
           "y": 0.00004339974111644551,
           "y0": 0.00002278855481563369,
           "y1": 0.00008479578609694726
          },
          {
           "calibration": false,
           "column_names": "Threatened_sol",
           "time": 20,
           "y": 0.00006009563003317453,
           "y0": 0.00003012631477758987,
           "y1": 0.00012340543762542498
          },
          {
           "calibration": false,
           "column_names": "Threatened_sol",
           "time": 21,
           "y": 0.00008321532732225023,
           "y0": 0.000039773670869180934,
           "y1": 0.00017908661902758498
          },
          {
           "calibration": false,
           "column_names": "Threatened_sol",
           "time": 22,
           "y": 0.00011513968274805,
           "y0": 0.00005245449247013312,
           "y1": 0.00025960906787073497
          },
          {
           "calibration": false,
           "column_names": "Threatened_sol",
           "time": 23,
           "y": 0.00015919552242845,
           "y0": 0.00006911857381055597,
           "y1": 0.0003758310966076699
          },
          {
           "calibration": false,
           "column_names": "Threatened_sol",
           "time": 24,
           "y": 0.0002199440423282,
           "y0": 0.00009101137511606794,
           "y1": 0.0005431213823612749
          },
          {
           "calibration": false,
           "column_names": "Threatened_sol",
           "time": 25,
           "y": 0.00030361837707455004,
           "y0": 0.00011976417481489501,
           "y1": 0.0007829909416613749
          },
          {
           "calibration": false,
           "column_names": "Threatened_sol",
           "time": 26,
           "y": 0.0004188011953374,
           "y0": 0.00015751211612948,
           "y1": 0.0011250705341807597
          },
          {
           "calibration": false,
           "column_names": "Threatened_sol",
           "time": 27,
           "y": 0.00057750768610275,
           "y0": 0.00020704393391495,
           "y1": 0.0016092948673757947
          },
          {
           "calibration": false,
           "column_names": "Threatened_sol",
           "time": 28,
           "y": 0.0007949852151796001,
           "y0": 0.00027199683245267,
           "y1": 0.0022878613206557393
          },
          {
           "calibration": false,
           "column_names": "Threatened_sol",
           "time": 29,
           "y": 0.0010918747284449,
           "y0": 0.00035710000665851,
           "y1": 0.0032262746477499144
          },
          {
           "calibration": false,
           "column_names": "Threatened_sol",
           "time": 30,
           "y": 0.00149513647193085,
           "y0": 0.00046848424535703,
           "y1": 0.004502388718537944
          },
          {
           "calibration": false,
           "column_names": "Threatened_sol",
           "time": 31,
           "y": 0.00203927163965995,
           "y0": 0.000614060374209625,
           "y1": 0.006202445970848134
          },
          {
           "calibration": false,
           "column_names": "Threatened_sol",
           "time": 32,
           "y": 0.0027672469150274498,
           "y0": 0.00080397635465486,
           "y1": 0.008413719804957488
          },
          {
           "calibration": false,
           "column_names": "Threatened_sol",
           "time": 33,
           "y": 0.0037307201419025,
           "y0": 0.00105115677579303,
           "y1": 0.011214469652622893
          },
          {
           "calibration": false,
           "column_names": "Threatened_sol",
           "time": 34,
           "y": 0.00498904427513475,
           "y0": 0.0013719033042433801,
           "y1": 0.014663664018735267
          },
          {
           "calibration": false,
           "column_names": "Threatened_sol",
           "time": 35,
           "y": 0.0066066174767911,
           "y0": 0.0017865224392153,
           "y1": 0.018792759720236016
          },
          {
           "calibration": false,
           "column_names": "Threatened_sol",
           "time": 36,
           "y": 0.0086483997292816,
           "y0": 0.0023199197952635453,
           "y1": 0.023601896874606555
          },
          {
           "calibration": false,
           "column_names": "Threatened_sol",
           "time": 37,
           "y": 0.01117390347644685,
           "y0": 0.0030020370846613803,
           "y1": 0.029060559254139612
          },
          {
           "calibration": false,
           "column_names": "Threatened_sol",
           "time": 38,
           "y": 0.0142308762297034,
           "y0": 0.00386797711253161,
           "y1": 0.035111878812313015
          },
          {
           "calibration": false,
           "column_names": "Threatened_sol",
           "time": 39,
           "y": 0.01784952543675895,
           "y0": 0.00495764510706063,
           "y1": 0.041543334722518865
          },
          {
           "calibration": false,
           "column_names": "Threatened_sol",
           "time": 40,
           "y": 0.0220388285815715,
           "y0": 0.006314662517979686,
           "y1": 0.04832315202802415
          },
          {
           "calibration": false,
           "column_names": "Threatened_sol",
           "time": 41,
           "y": 0.02678577415645115,
           "y0": 0.00798450016882264,
           "y1": 0.05539728514850137
          },
          {
           "calibration": false,
           "column_names": "Threatened_sol",
           "time": 42,
           "y": 0.032056445255875504,
           "y0": 0.01001176550053057,
           "y1": 0.06267554517835373
          },
          {
           "calibration": false,
           "column_names": "Threatened_sol",
           "time": 43,
           "y": 0.037799477577209445,
           "y0": 0.012436840729787894,
           "y1": 0.0700717184692621
          },
          {
           "calibration": false,
           "column_names": "Threatened_sol",
           "time": 44,
           "y": 0.043950166553258854,
           "y0": 0.015292492974549474,
           "y1": 0.07750570029020304
          },
          {
           "calibration": false,
           "column_names": "Threatened_sol",
           "time": 45,
           "y": 0.0504355281591415,
           "y0": 0.018600581586360895,
           "y1": 0.08491247668862338
          },
          {
           "calibration": false,
           "column_names": "Threatened_sol",
           "time": 46,
           "y": 0.05717809870839115,
           "y0": 0.022369647305458745,
           "y1": 0.09226411208510396
          },
          {
           "calibration": false,
           "column_names": "Threatened_sol",
           "time": 47,
           "y": 0.06409987434744835,
           "y0": 0.026593985501676715,
           "y1": 0.09978611879050728
          },
          {
           "calibration": false,
           "column_names": "Threatened_sol",
           "time": 48,
           "y": 0.0711254552006721,
           "y0": 0.031253539025783504,
           "y1": 0.10717897862195966
          },
          {
           "calibration": false,
           "column_names": "Threatened_sol",
           "time": 49,
           "y": 0.07818366587162015,
           "y0": 0.036315288022160455,
           "y1": 0.11436478495597832
          },
          {
           "calibration": false,
           "column_names": "Threatened_sol",
           "time": 50,
           "y": 0.08520901948213569,
           "y0": 0.041735279932618066,
           "y1": 0.12127676866948597
          },
          {
           "calibration": false,
           "column_names": "Threatened_sol",
           "time": 51,
           "y": 0.0921436138451099,
           "y0": 0.047461289726197675,
           "y1": 0.12788015305995937
          },
          {
           "calibration": false,
           "column_names": "Threatened_sol",
           "time": 52,
           "y": 0.0987016037106514,
           "y0": 0.0534358114004135,
           "y1": 0.1341508515179157
          },
          {
           "calibration": false,
           "column_names": "Threatened_sol",
           "time": 53,
           "y": 0.10516622290015215,
           "y0": 0.059598322026431484,
           "y1": 0.1400706797838211
          },
          {
           "calibration": false,
           "column_names": "Threatened_sol",
           "time": 54,
           "y": 0.11150882765650745,
           "y0": 0.06588806696236132,
           "y1": 0.14562768489122385
          },
          {
           "calibration": false,
           "column_names": "Threatened_sol",
           "time": 55,
           "y": 0.11758888885378829,
           "y0": 0.07224544174969191,
           "y1": 0.15081420093774792
          },
          {
           "calibration": false,
           "column_names": "Threatened_sol",
           "time": 56,
           "y": 0.12367539852857584,
           "y0": 0.07861410677433012,
           "y1": 0.15562716424465178
          },
          {
           "calibration": false,
           "column_names": "Threatened_sol",
           "time": 57,
           "y": 0.12947431206703186,
           "y0": 0.08494186438620087,
           "y1": 0.16006671041250226
          },
          {
           "calibration": false,
           "column_names": "Threatened_sol",
           "time": 58,
           "y": 0.13493967801332468,
           "y0": 0.09118124842643731,
           "y1": 0.16428870558738704
          },
          {
           "calibration": false,
           "column_names": "Threatened_sol",
           "time": 59,
           "y": 0.14004507660865778,
           "y0": 0.09728985428810119,
           "y1": 0.168477277457714
          },
          {
           "calibration": false,
           "column_names": "Threatened_sol",
           "time": 60,
           "y": 0.1446908116340637,
           "y0": 0.1030742984265089,
           "y1": 0.17228620201349257
          },
          {
           "calibration": false,
           "column_names": "Threatened_sol",
           "time": 61,
           "y": 0.14899288862943644,
           "y0": 0.10848219953477377,
           "y1": 0.17529134228825566
          },
          {
           "calibration": false,
           "column_names": "Threatened_sol",
           "time": 62,
           "y": 0.15228194743394852,
           "y0": 0.1136675216257572,
           "y1": 0.17787170782685274
          },
          {
           "calibration": false,
           "column_names": "Threatened_sol",
           "time": 63,
           "y": 0.15523596107959745,
           "y0": 0.1186124004423618,
           "y1": 0.1801228910684585
          },
          {
           "calibration": false,
           "column_names": "Threatened_sol",
           "time": 64,
           "y": 0.15831392258405685,
           "y0": 0.12330290116369721,
           "y1": 0.18205695971846578
          },
          {
           "calibration": false,
           "column_names": "Threatened_sol",
           "time": 65,
           "y": 0.1611584797501564,
           "y0": 0.1277288697659969,
           "y1": 0.18368769139051433
          },
          {
           "calibration": false,
           "column_names": "Threatened_sol",
           "time": 66,
           "y": 0.1636781990528106,
           "y0": 0.13188313618302344,
           "y1": 0.18513529077172278
          },
          {
           "calibration": false,
           "column_names": "Threatened_sol",
           "time": 67,
           "y": 0.16588298976421356,
           "y0": 0.135761596262455,
           "y1": 0.18634067177772515
          },
          {
           "calibration": false,
           "column_names": "Threatened_sol",
           "time": 68,
           "y": 0.1677835583686828,
           "y0": 0.13936214894056317,
           "y1": 0.18727481514215463
          },
          {
           "calibration": false,
           "column_names": "Threatened_sol",
           "time": 69,
           "y": 0.1693913340568542,
           "y0": 0.1426857382059097,
           "y1": 0.18795154020190236
          },
          {
           "calibration": false,
           "column_names": "Threatened_sol",
           "time": 70,
           "y": 0.1707188338041305,
           "y0": 0.14573386088013643,
           "y1": 0.18838435634970663
          },
          {
           "calibration": false,
           "column_names": "Threatened_sol",
           "time": 71,
           "y": 0.1718989089131355,
           "y0": 0.14851095974445339,
           "y1": 0.1890330336987972
          },
          {
           "calibration": false,
           "column_names": "Threatened_sol",
           "time": 72,
           "y": 0.17317240685224528,
           "y0": 0.1510218054056167,
           "y1": 0.18982577025890346
          },
          {
           "calibration": false,
           "column_names": "Threatened_sol",
           "time": 73,
           "y": 0.17449580132961265,
           "y0": 0.1532726980745792,
           "y1": 0.19039461314678183
          },
          {
           "calibration": false,
           "column_names": "Threatened_sol",
           "time": 74,
           "y": 0.1749054566025734,
           "y0": 0.15527077838778494,
           "y1": 0.19076748117804523
          },
          {
           "calibration": false,
           "column_names": "Threatened_sol",
           "time": 75,
           "y": 0.17522661387920374,
           "y0": 0.1570239305496215,
           "y1": 0.19093730226159086
          },
          {
           "calibration": false,
           "column_names": "Threatened_sol",
           "time": 76,
           "y": 0.1757307946681976,
           "y0": 0.15854016393423076,
           "y1": 0.19091528430581092
          },
          {
           "calibration": false,
           "column_names": "Threatened_sol",
           "time": 77,
           "y": 0.17625404894351954,
           "y0": 0.1599217981100082,
           "y1": 0.19102490171790118
          },
          {
           "calibration": false,
           "column_names": "Threatened_sol",
           "time": 78,
           "y": 0.1758391335606575,
           "y0": 0.16130085736513136,
           "y1": 0.19123587682843202
          },
          {
           "calibration": false,
           "column_names": "Threatened_sol",
           "time": 79,
           "y": 0.17486441880464548,
           "y0": 0.16234811693429943,
           "y1": 0.19076039195060726
          },
          {
           "calibration": false,
           "column_names": "Threatened_sol",
           "time": 80,
           "y": 0.17390616983175275,
           "y0": 0.1617614150047302,
           "y1": 0.18974012881517408
          },
          {
           "calibration": false,
           "column_names": "Threatened_sol",
           "time": 81,
           "y": 0.1739058420062065,
           "y0": 0.16131725087761872,
           "y1": 0.18866117596626278
          },
          {
           "calibration": false,
           "column_names": "Threatened_sol",
           "time": 82,
           "y": 0.17321441322565076,
           "y0": 0.1609101317822933,
           "y1": 0.18746911287307733
          },
          {
           "calibration": false,
           "column_names": "Threatened_sol",
           "time": 83,
           "y": 0.17257281392812723,
           "y0": 0.1606976494193077,
           "y1": 0.1862495735287666
          },
          {
           "calibration": false,
           "column_names": "Threatened_sol",
           "time": 84,
           "y": 0.1715772449970245,
           "y0": 0.16023407503962514,
           "y1": 0.18505225256085392
          },
          {
           "calibration": false,
           "column_names": "Threatened_sol",
           "time": 85,
           "y": 0.17050417512655253,
           "y0": 0.1595348291099071,
           "y1": 0.18374832123517987
          },
          {
           "calibration": false,
           "column_names": "Threatened_sol",
           "time": 86,
           "y": 0.16933119297027585,
           "y0": 0.15864973440766328,
           "y1": 0.18234518989920614
          },
          {
           "calibration": false,
           "column_names": "Threatened_sol",
           "time": 87,
           "y": 0.16766867041587824,
           "y0": 0.15717081204056735,
           "y1": 0.18085053339600554
          },
          {
           "calibration": false,
           "column_names": "Threatened_sol",
           "time": 88,
           "y": 0.1659304574131965,
           "y0": 0.15561761856079098,
           "y1": 0.17927122116088867
          },
          {
           "calibration": false,
           "column_names": "Threatened_sol",
           "time": 89,
           "y": 0.16480591893196106,
           "y0": 0.1539965361356735,
           "y1": 0.1776141263544559
          },
          {
           "calibration": false,
           "column_names": "Threatened_sol",
           "time": 90,
           "y": 0.1629988998174667,
           "y0": 0.15231368690729138,
           "y1": 0.17612749412655826
          },
          {
           "calibration": false,
           "column_names": "Threatened_sol",
           "time": 91,
           "y": 0.1611604243516922,
           "y0": 0.15057466328144073,
           "y1": 0.17464881464838977
          },
          {
           "calibration": false,
           "column_names": "Threatened_sol",
           "time": 92,
           "y": 0.1596946567296981,
           "y0": 0.14878513440489768,
           "y1": 0.17292774394154548
          },
          {
           "calibration": false,
           "column_names": "Threatened_sol",
           "time": 93,
           "y": 0.15775313228368754,
           "y0": 0.1469501554965973,
           "y1": 0.171171423047781
          },
          {
           "calibration": false,
           "column_names": "Threatened_sol",
           "time": 94,
           "y": 0.1558440029621124,
           "y0": 0.14507461786270137,
           "y1": 0.16936131641268723
          },
          {
           "calibration": false,
           "column_names": "Threatened_sol",
           "time": 95,
           "y": 0.1539102345705032,
           "y0": 0.1431631684303283,
           "y1": 0.1672619357705116
          },
          {
           "calibration": false,
           "column_names": "Threatened_sol",
           "time": 96,
           "y": 0.1519764065742492,
           "y0": 0.1412202142179012,
           "y1": 0.16512617990374565
          },
          {
           "calibration": false,
           "column_names": "Threatened_sol",
           "time": 97,
           "y": 0.15004517883062354,
           "y0": 0.13925029858946797,
           "y1": 0.16295844092965123
          },
          {
           "calibration": false,
           "column_names": "Threatened_sol",
           "time": 98,
           "y": 0.14834575355052945,
           "y0": 0.13725671395659442,
           "y1": 0.1607630439102649
          },
          {
           "calibration": false,
           "column_names": "Threatened_sol",
           "time": 99,
           "y": 0.1463704481720924,
           "y0": 0.13524352461099623,
           "y1": 0.1585441470146179
          },
          {
           "calibration": true,
           "column_names": "Threatened_sol",
           "time": 0,
           "y": 1.1795970351221238e-19,
           "y0": 1.1011354061921232e-19,
           "y1": 1.2683403639697938e-19
          },
          {
           "calibration": true,
           "column_names": "Threatened_sol",
           "time": 1,
           "y": 5.97223648313161e-9,
           "y0": 5.557894056096302e-9,
           "y1": 6.598051016659667e-9
          },
          {
           "calibration": true,
           "column_names": "Threatened_sol",
           "time": 2,
           "y": 2.4869742709654474e-8,
           "y0": 2.2770813590256014e-8,
           "y1": 2.7826017579002384e-8
          },
          {
           "calibration": true,
           "column_names": "Threatened_sol",
           "time": 3,
           "y": 6.214754577626991e-8,
           "y0": 5.685453086101688e-8,
           "y1": 7.088171010138921e-8
          },
          {
           "calibration": true,
           "column_names": "Threatened_sol",
           "time": 4,
           "y": 1.2591348763635324e-7,
           "y0": 1.1360119707148897e-7,
           "y1": 1.445387233900419e-7
          },
          {
           "calibration": true,
           "column_names": "Threatened_sol",
           "time": 5,
           "y": 2.2809628319464537e-7,
           "y0": 2.0137724234814414e-7,
           "y1": 2.6211936301479003e-7
          },
          {
           "calibration": true,
           "column_names": "Threatened_sol",
           "time": 6,
           "y": 3.8179965144991e-7,
           "y0": 3.3109344741433235e-7,
           "y1": 4.4231880735878804e-7
          },
          {
           "calibration": true,
           "column_names": "Threatened_sol",
           "time": 7,
           "y": 6.052646028820163e-7,
           "y0": 5.159100538776329e-7,
           "y1": 7.078476045307979e-7
          },
          {
           "calibration": true,
           "column_names": "Threatened_sol",
           "time": 8,
           "y": 9.209618383465568e-7,
           "y0": 7.649059739378572e-7,
           "y1": 0.000001092627604748486
          },
          {
           "calibration": true,
           "column_names": "Threatened_sol",
           "time": 9,
           "y": 0.000001384465235787502,
           "y0": 0.0000011020027613994901,
           "y1": 0.0000016457961862670345
          },
          {
           "calibration": true,
           "column_names": "Threatened_sol",
           "time": 10,
           "y": 0.0000020216233451719745,
           "y0": 0.0000015606002648382855,
           "y1": 0.000002450449153457157
          },
          {
           "calibration": true,
           "column_names": "Threatened_sol",
           "time": 11,
           "y": 0.0000029108314265613444,
           "y0": 0.000002193653551785246,
           "y1": 0.0000036165503615848136
          },
          {
           "calibration": true,
           "column_names": "Threatened_sol",
           "time": 12,
           "y": 0.000004154667294642422,
           "y0": 0.000003045507457954955,
           "y1": 0.000005298781934470753
          },
          {
           "calibration": true,
           "column_names": "Threatened_sol",
           "time": 13,
           "y": 0.000005886164899493451,
           "y0": 0.0000041910695244951056,
           "y1": 0.000007711548755651164
          },
          {
           "calibration": true,
           "column_names": "Threatened_sol",
           "time": 14,
           "y": 0.000008293001428683056,
           "y0": 0.000005729360805162287,
           "y1": 0.000011167882212248512
          },
          {
           "calibration": true,
           "column_names": "Threatened_sol",
           "time": 15,
           "y": 0.000011635209375526756,
           "y0": 0.00000776417625729664,
           "y1": 0.000016115199650812424
          },
          {
           "calibration": true,
           "column_names": "Threatened_sol",
           "time": 16,
           "y": 0.00001627309393370524,
           "y0": 0.000010437950140840258,
           "y1": 0.000023192725620901904
          },
          {
           "calibration": true,
           "column_names": "Threatened_sol",
           "time": 17,
           "y": 0.000022705700757796876,
           "y0": 0.000013986202793603297,
           "y1": 0.00003333842341817216
          },
          {
           "calibration": true,
           "column_names": "Threatened_sol",
           "time": 18,
           "y": 0.00003162400207656901,
           "y0": 0.000018692415142140818,
           "y1": 0.000047977197391446665
          },
          {
           "calibration": true,
           "column_names": "Threatened_sol",
           "time": 19,
           "y": 0.00004398429155116901,
           "y0": 0.00002493202437108266,
           "y1": 0.00006881207700644151
          },
          {
           "calibration": true,
           "column_names": "Threatened_sol",
           "time": 20,
           "y": 0.00006110877802711911,
           "y0": 0.000033202106169483156,
           "y1": 0.0000984490176051341
          },
          {
           "calibration": true,
           "column_names": "Threatened_sol",
           "time": 21,
           "y": 0.00008482465273118578,
           "y0": 0.00004416050614963751,
           "y1": 0.00014072586200191493
          },
          {
           "calibration": true,
           "column_names": "Threatened_sol",
           "time": 22,
           "y": 0.00011765267117874999,
           "y0": 0.000058647978403314485,
           "y1": 0.00020097606611668492
          },
          {
           "calibration": true,
           "column_names": "Threatened_sol",
           "time": 23,
           "y": 0.0001630648985155,
           "y0": 0.00007773242359689902,
           "y1": 0.0002867263741791049
          },
          {
           "calibration": true,
           "column_names": "Threatened_sol",
           "time": 24,
           "y": 0.00022583077225130001,
           "y0": 0.000102956514456235,
           "y1": 0.00040854362450763986
          },
          {
           "calibration": true,
           "column_names": "Threatened_sol",
           "time": 25,
           "y": 0.0003124806826235,
           "y0": 0.00013628388187494499,
           "y1": 0.0005811485316371148
          },
          {
           "calibration": true,
           "column_names": "Threatened_sol",
           "time": 26,
           "y": 0.00043191155418745,
           "y0": 0.00018029723360084,
           "y1": 0.0008248331985668598
          },
          {
           "calibration": true,
           "column_names": "Threatened_sol",
           "time": 27,
           "y": 0.0005961693532299,
           "y0": 0.00023838968336345,
           "y1": 0.0011671586544252696
          },
          {
           "calibration": true,
           "column_names": "Threatened_sol",
           "time": 28,
           "y": 0.0008214142289943,
           "y0": 0.000314958686067235,
           "y1": 0.0016448057722299894
          },
          {
           "calibration": true,
           "column_names": "Threatened_sol",
           "time": 29,
           "y": 0.00112907367292785,
           "y0": 0.000415657645498865,
           "y1": 0.002305264014285019
          },
          {
           "calibration": true,
           "column_names": "Threatened_sol",
           "time": 30,
           "y": 0.0015470965881831502,
           "y0": 0.00054809483990532,
           "y1": 0.0032077723182737288
          },
          {
           "calibration": true,
           "column_names": "Threatened_sol",
           "time": 31,
           "y": 0.00211116869468235,
           "y0": 0.0007219802908366,
           "y1": 0.004422738589346344
          },
          {
           "calibration": true,
           "column_names": "Threatened_sol",
           "time": 32,
           "y": 0.0028655750211327496,
           "y0": 0.00094979487184895,
           "y1": 0.006028765859082278
          },
          {
           "calibration": true,
           "column_names": "Threatened_sol",
           "time": 33,
           "y": 0.0038632955402135498,
           "y0": 0.001247429178329095,
           "y1": 0.008106727316044237
          },
          {
           "calibration": true,
           "column_names": "Threatened_sol",
           "time": 34,
           "y": 0.00516477460041635,
           "y0": 0.001634891680441725,
           "y1": 0.010731563298031611
          },
          {
           "calibration": true,
           "column_names": "Threatened_sol",
           "time": 35,
           "y": 0.00683496845886105,
           "y0": 0.00213699919404459,
           "y1": 0.013963124062865926
          },
          {
           "calibration": true,
           "column_names": "Threatened_sol",
           "time": 36,
           "y": 0.0089385155588388,
           "y0": 0.00278396626235914,
           "y1": 0.017838239762931994
          },
          {
           "calibration": true,
           "column_names": "Threatened_sol",
           "time": 37,
           "y": 0.01153354626148935,
           "y0": 0.00361171368276695,
           "y1": 0.022365992609411425
          },
          {
           "calibration": true,
           "column_names": "Threatened_sol",
           "time": 38,
           "y": 0.01466518966481085,
           "y0": 0.004661688581108955,
           "y1": 0.027527080476284008
          },
          {
           "calibration": true,
           "column_names": "Threatened_sol",
           "time": 39,
           "y": 0.0183601221069693,
           "y0": 0.00597996788565065,
           "y1": 0.033276407979428727
          },
          {
           "calibration": true,
           "column_names": "Threatened_sol",
           "time": 40,
           "y": 0.0226232856512069,
           "y0": 0.007614577072672475,
           "y1": 0.03954832181334493
          },
          {
           "calibration": true,
           "column_names": "Threatened_sol",
           "time": 41,
           "y": 0.02743733860552305,
           "y0": 0.0096111587248742,
           "y1": 0.04626266863197086
          },
          {
           "calibration": true,
           "column_names": "Threatened_sol",
           "time": 42,
           "y": 0.0327644366770982,
           "y0": 0.01201812746003267,
           "y1": 0.05333099439740176
          },
          {
           "calibration": true,
           "column_names": "Threatened_sol",
           "time": 43,
           "y": 0.0385498665273189,
           "y0": 0.014873751066625066,
           "y1": 0.060661744512617494
          },
          {
           "calibration": true,
           "column_names": "Threatened_sol",
           "time": 44,
           "y": 0.0447265729308128,
           "y0": 0.018205346725881033,
           "y1": 0.06816482432186596
          },
          {
           "calibration": true,
           "column_names": "Threatened_sol",
           "time": 45,
           "y": 0.0512197464704513,
           "y0": 0.02202624995261428,
           "y1": 0.07575432769954199
          },
          {
           "calibration": true,
           "column_names": "Threatened_sol",
           "time": 46,
           "y": 0.05795108713209625,
           "y0": 0.026334310229867635,
           "y1": 0.08335124179720868
          },
          {
           "calibration": true,
           "column_names": "Threatened_sol",
           "time": 47,
           "y": 0.06484244018793106,
           "y0": 0.03111131303012366,
           "y1": 0.09107310958206645
          },
          {
           "calibration": true,
           "column_names": "Threatened_sol",
           "time": 48,
           "y": 0.07181842252612111,
           "y0": 0.0363244421780109,
           "y1": 0.09871168062090871
          },
          {
           "calibration": true,
           "column_names": "Threatened_sol",
           "time": 49,
           "y": 0.0788086466491222,
           "y0": 0.041928271576762176,
           "y1": 0.10617983900010579
          },
          {
           "calibration": true,
           "column_names": "Threatened_sol",
           "time": 50,
           "y": 0.08574880287051195,
           "y0": 0.047867680154740744,
           "y1": 0.11342760436236853
          },
          {
           "calibration": true,
           "column_names": "Threatened_sol",
           "time": 51,
           "y": 0.09258176386356351,
           "y0": 0.05408094581216568,
           "y1": 0.1204135093837976
          },
          {
           "calibration": true,
           "column_names": "Threatened_sol",
           "time": 52,
           "y": 0.099257405847311,
           "y0": 0.06048575043678277,
           "y1": 0.1271733552217483
          },
          {
           "calibration": true,
           "column_names": "Threatened_sol",
           "time": 53,
           "y": 0.1057331524789333,
           "y0": 0.06694335713982574,
           "y1": 0.13373757898807523
          },
          {
           "calibration": true,
           "column_names": "Threatened_sol",
           "time": 54,
           "y": 0.111973125487566,
           "y0": 0.07339919731020923,
           "y1": 0.1399606019258499
          },
          {
           "calibration": true,
           "column_names": "Threatened_sol",
           "time": 55,
           "y": 0.11794821172952645,
           "y0": 0.07985227182507514,
           "y1": 0.14582603499293326
          },
          {
           "calibration": true,
           "column_names": "Threatened_sol",
           "time": 56,
           "y": 0.12363541126251215,
           "y0": 0.08624866642057893,
           "y1": 0.15132327675819393
          },
          {
           "calibration": true,
           "column_names": "Threatened_sol",
           "time": 57,
           "y": 0.1292275451123714,
           "y0": 0.09254028424620621,
           "y1": 0.15646814554929733
          },
          {
           "calibration": true,
           "column_names": "Threatened_sol",
           "time": 58,
           "y": 0.1345286816358566,
           "y0": 0.09868449755012985,
           "y1": 0.16129055321216576
          },
          {
           "calibration": true,
           "column_names": "Threatened_sol",
           "time": 59,
           "y": 0.1395075693726539,
           "y0": 0.10464452467858787,
           "y1": 0.1657240360975265
          },
          {
           "calibration": true,
           "column_names": "Threatened_sol",
           "time": 60,
           "y": 0.14365211129188535,
           "y0": 0.1103891041129827,
           "y1": 0.16928484216332432
          },
          {
           "calibration": true,
           "column_names": "Threatened_sol",
           "time": 61,
           "y": 0.14737134426832194,
           "y0": 0.1158925779163837,
           "y1": 0.1724958166480064
          },
          {
           "calibration": true,
           "column_names": "Threatened_sol",
           "time": 62,
           "y": 0.15078037977218625,
           "y0": 0.12113422080874439,
           "y1": 0.17536660656332964
          },
          {
           "calibration": true,
           "column_names": "Threatened_sol",
           "time": 63,
           "y": 0.15399477630853645,
           "y0": 0.12609790563583367,
           "y1": 0.17790772244334216
          },
          {
           "calibration": true,
           "column_names": "Threatened_sol",
           "time": 64,
           "y": 0.1569022238254547,
           "y0": 0.13054587692022318,
           "y1": 0.18015024065971372
          },
          {
           "calibration": true,
           "column_names": "Threatened_sol",
           "time": 65,
           "y": 0.1595087125897407,
           "y0": 0.1346578240394592,
           "y1": 0.18215788379311557
          },
          {
           "calibration": true,
           "column_names": "Threatened_sol",
           "time": 66,
           "y": 0.1618225052952766,
           "y0": 0.13847039267420766,
           "y1": 0.18389059007167813
          },
          {
           "calibration": true,
           "column_names": "Threatened_sol",
           "time": 67,
           "y": 0.1642648726701736,
           "y0": 0.14194309487938878,
           "y1": 0.18538939505815505
          },
          {
           "calibration": true,
           "column_names": "Threatened_sol",
           "time": 68,
           "y": 0.1665469482541084,
           "y0": 0.1451197922229767,
           "y1": 0.18707685023546214
          },
          {
           "calibration": true,
           "column_names": "Threatened_sol",
           "time": 69,
           "y": 0.16854139417409897,
           "y0": 0.14800437986850734,
           "y1": 0.18854233697056766
          },
          {
           "calibration": true,
           "column_names": "Threatened_sol",
           "time": 70,
           "y": 0.1702586337924003,
           "y0": 0.15060261189937588,
           "y1": 0.18972583189606665
          },
          {
           "calibration": true,
           "column_names": "Threatened_sol",
           "time": 71,
           "y": 0.17156738787889475,
           "y0": 0.15279207602143283,
           "y1": 0.19072775989770885
          },
          {
           "calibration": true,
           "column_names": "Threatened_sol",
           "time": 72,
           "y": 0.17237239331006998,
           "y0": 0.15443115755915637,
           "y1": 0.1916097894310951
          },
          {
           "calibration": true,
           "column_names": "Threatened_sol",
           "time": 73,
           "y": 0.17337968200445175,
           "y0": 0.15582922697067256,
           "y1": 0.19224584922194474
          },
          {
           "calibration": true,
           "column_names": "Threatened_sol",
           "time": 74,
           "y": 0.1739636808633804,
           "y0": 0.15696702823042863,
           "y1": 0.1926487952470779
          },
          {
           "calibration": true,
           "column_names": "Threatened_sol",
           "time": 75,
           "y": 0.17446544021368024,
           "y0": 0.15785783231258385,
           "y1": 0.19283074960112567
          },
          {
           "calibration": true,
           "column_names": "Threatened_sol",
           "time": 76,
           "y": 0.17475093901157374,
           "y0": 0.15872911661863323,
           "y1": 0.1928043648600578
          },
          {
           "calibration": true,
           "column_names": "Threatened_sol",
           "time": 77,
           "y": 0.17485674470663065,
           "y0": 0.15977677404880522,
           "y1": 0.19258159697055813
          },
          {
           "calibration": true,
           "column_names": "Threatened_sol",
           "time": 78,
           "y": 0.17519425600767136,
           "y0": 0.16060365810990332,
           "y1": 0.1921739771962165
          },
          {
           "calibration": true,
           "column_names": "Threatened_sol",
           "time": 79,
           "y": 0.17494761943817133,
           "y0": 0.16118185147643083,
           "y1": 0.1915929034352302
          },
          {
           "calibration": true,
           "column_names": "Threatened_sol",
           "time": 80,
           "y": 0.17453154176473615,
           "y0": 0.16124156862497324,
           "y1": 0.19084944576025006
          },
          {
           "calibration": true,
           "column_names": "Threatened_sol",
           "time": 81,
           "y": 0.1742821708321571,
           "y0": 0.1610294349491596,
           "y1": 0.18986488357186312
          },
          {
           "calibration": true,
           "column_names": "Threatened_sol",
           "time": 82,
           "y": 0.17364696413278574,
           "y0": 0.1609425894916057,
           "y1": 0.1887114733457565
          },
          {
           "calibration": true,
           "column_names": "Threatened_sol",
           "time": 83,
           "y": 0.17301355302333826,
           "y0": 0.1601250350475311,
           "y1": 0.18742541447281835
          },
          {
           "calibration": true,
           "column_names": "Threatened_sol",
           "time": 84,
           "y": 0.1722214445471763,
           "y0": 0.1594193778932094,
           "y1": 0.1859671331942081
          },
          {
           "calibration": true,
           "column_names": "Threatened_sol",
           "time": 85,
           "y": 0.17133279144763947,
           "y0": 0.15846686437726015,
           "y1": 0.1844095222651958
          },
          {
           "calibration": true,
           "column_names": "Threatened_sol",
           "time": 86,
           "y": 0.17002263665199274,
           "y0": 0.15728098005056376,
           "y1": 0.18278834894299506
          },
          {
           "calibration": true,
           "column_names": "Threatened_sol",
           "time": 87,
           "y": 0.16854526102542874,
           "y0": 0.15600150898098944,
           "y1": 0.18089689016342156
          },
          {
           "calibration": true,
           "column_names": "Threatened_sol",
           "time": 88,
           "y": 0.1669998914003372,
           "y0": 0.15463584437966346,
           "y1": 0.17903603687882416
          },
          {
           "calibration": true,
           "column_names": "Threatened_sol",
           "time": 89,
           "y": 0.1655679270625114,
           "y0": 0.15310031920671457,
           "y1": 0.1771528989076614
          },
          {
           "calibration": true,
           "column_names": "Threatened_sol",
           "time": 90,
           "y": 0.1638071462512016,
           "y0": 0.15141705721616744,
           "y1": 0.1752227552235126
          },
          {
           "calibration": true,
           "column_names": "Threatened_sol",
           "time": 91,
           "y": 0.1621313467621803,
           "y0": 0.14959763437509532,
           "y1": 0.17323179319500917
          },
          {
           "calibration": true,
           "column_names": "Threatened_sol",
           "time": 92,
           "y": 0.16025288403034205,
           "y0": 0.1477139338850975,
           "y1": 0.1712163187563419
          },
          {
           "calibration": true,
           "column_names": "Threatened_sol",
           "time": 93,
           "y": 0.1583234295248985,
           "y0": 0.1457901567220688,
           "y1": 0.16938521713018412
          },
          {
           "calibration": true,
           "column_names": "Threatened_sol",
           "time": 94,
           "y": 0.15642850100994105,
           "y0": 0.14383134469389913,
           "y1": 0.16750392615795132
          },
          {
           "calibration": true,
           "column_names": "Threatened_sol",
           "time": 95,
           "y": 0.1543821096420288,
           "y0": 0.14184167459607117,
           "y1": 0.16557712852954862
          },
          {
           "calibration": true,
           "column_names": "Threatened_sol",
           "time": 96,
           "y": 0.15235811471939087,
           "y0": 0.1399656720459461,
           "y1": 0.16362749487161632
          },
          {
           "calibration": true,
           "column_names": "Threatened_sol",
           "time": 97,
           "y": 0.15060178935527796,
           "y0": 0.13812908232212062,
           "y1": 0.16165030002593989
          },
          {
           "calibration": true,
           "column_names": "Threatened_sol",
           "time": 98,
           "y": 0.1487975344061851,
           "y0": 0.13626147359609603,
           "y1": 0.15970018059015265
          },
          {
           "calibration": true,
           "column_names": "Threatened_sol",
           "time": 99,
           "y": 0.14682420343160624,
           "y0": 0.13436690941452972,
           "y1": 0.157794389873743
          }
         ]
        }
       ],
       "description": "A basic line chart example.",
       "height": 200,
       "legends": [
        {
         "encode": {
          "labels": {
           "hover": {
            "fill": {
             "value": "firebrick"
            }
           },
           "interactive": true,
           "update": {
            "fill": {
             "value": "black"
            },
            "fontSize": {
             "value": 12
            }
           }
          },
          "legend": {
           "update": {
            "stroke": {
             "value": "#ccc"
            },
            "strokeWidth": {
             "value": 1.5
            }
           }
          },
          "symbols": {
           "update": {
            "stroke": {
             "value": "transparent"
            }
           }
          },
          "title": {
           "update": {
            "fontSize": {
             "value": 14
            }
           }
          }
         },
         "fill": "color",
         "title": "Calibrate"
        }
       ],
       "marks": [
        {
         "from": {
          "facet": {
           "data": "table",
           "groupby": [
            "calibration",
            "column_names"
           ],
           "name": "series"
          }
         },
         "marks": [
          {
           "encode": {
            "enter": {
             "fill": {
              "field": "calibration",
              "scale": "color"
             },
             "fillOpacity": {
              "field": "opac"
             },
             "x": {
              "field": "time",
              "scale": "time"
             },
             "y": {
              "field": "y1",
              "scale": "y1"
             },
             "y2": {
              "field": "y0",
              "scale": "y1"
             }
            }
           },
           "from": {
            "data": "series"
           },
           "type": "area"
          },
          {
           "encode": {
            "enter": {
             "stroke": {
              "field": "calibration",
              "scale": "color"
             },
             "strokeWidth": {
              "value": 1
             },
             "x": {
              "field": "time",
              "scale": "time"
             },
             "y": {
              "field": "y",
              "scale": "y1"
             }
            }
           },
           "from": {
            "data": "series"
           },
           "type": "line"
          }
         ],
         "type": "group"
        }
       ],
       "padding": 5,
       "scales": [
        {
         "domain": {
          "data": "table",
          "field": "time"
         },
         "name": "time",
         "range": "width"
        },
        {
         "domain": {
          "data": "table",
          "field": "y1"
         },
         "name": "y1",
         "nice": true,
         "range": "height",
         "type": "linear",
         "zero": true
        },
        {
         "domain": {
          "data": "table",
          "field": "calibration"
         },
         "name": "color",
         "range": {
          "scheme": "category10"
         },
         "type": "ordinal"
        }
       ],
       "signals": [
        {
         "bind": {
          "input": "select",
          "options": [
           "Ailing_sol",
           "Diagnosed_sol",
           "Extinct_sol",
           "Healed_sol",
           "Infected_sol",
           "Recognized_sol",
           "Susceptible_sol",
           "Threatened_sol"
          ]
         },
         "name": "Type",
         "value": "Ailing_sol"
        }
       ],
       "width": 500
      }
     },
     "metadata": {},
     "output_type": "display_data"
    }
   ],
   "source": [
    "vega.ipy_display(vega.calibrate_vega(new_df))"
   ]
  },
  {
   "cell_type": "code",
   "execution_count": 93,
   "metadata": {},
   "outputs": [],
   "source": [
    "#get vega plot"
   ]
  }
 ],
 "metadata": {
  "kernelspec": {
   "display_name": "askem-test",
   "language": "python",
   "name": "python3"
  },
  "language_info": {
   "codemirror_mode": {
    "name": "ipython",
    "version": 3
   },
   "file_extension": ".py",
   "mimetype": "text/x-python",
   "name": "python",
   "nbconvert_exporter": "python",
   "pygments_lexer": "ipython3",
   "version": "3.10.11"
  },
  "orig_nbformat": 4
 },
 "nbformat": 4,
 "nbformat_minor": 2
}
