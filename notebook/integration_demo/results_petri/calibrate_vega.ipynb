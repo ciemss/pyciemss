{
 "cells": [
  {
   "cell_type": "code",
   "execution_count": 1,
   "metadata": {},
   "outputs": [
    {
     "ename": "ImportError",
     "evalue": "cannot import name 'load_and_sample_petri_model' from 'pyciemss.PetriNetODE.interfaces' (/Users/oost464/Library/CloudStorage/OneDrive-PNNL/Desktop/projects/pyciemss/src/pyciemss/PetriNetODE/interfaces.py)",
     "output_type": "error",
     "traceback": [
      "\u001b[0;31m---------------------------------------------------------------------------\u001b[0m",
      "\u001b[0;31mImportError\u001b[0m                               Traceback (most recent call last)",
      "\u001b[1;32m/Users/oost464/Library/CloudStorage/OneDrive-PNNL/Desktop/projects/pyciemss/notebook/integration_demo/results_petri/calibrate_vega.ipynb Cell 1\u001b[0m line \u001b[0;36m2\n\u001b[1;32m      <a href='vscode-notebook-cell:/Users/oost464/Library/CloudStorage/OneDrive-PNNL/Desktop/projects/pyciemss/notebook/integration_demo/results_petri/calibrate_vega.ipynb#W0sZmlsZQ%3D%3D?line=0'>1</a>\u001b[0m \u001b[39mimport\u001b[39;00m \u001b[39mos\u001b[39;00m\n\u001b[0;32m----> <a href='vscode-notebook-cell:/Users/oost464/Library/CloudStorage/OneDrive-PNNL/Desktop/projects/pyciemss/notebook/integration_demo/results_petri/calibrate_vega.ipynb#W0sZmlsZQ%3D%3D?line=1'>2</a>\u001b[0m \u001b[39mfrom\u001b[39;00m \u001b[39mpyciemss\u001b[39;00m\u001b[39m.\u001b[39;00m\u001b[39mPetriNetODE\u001b[39;00m\u001b[39m.\u001b[39;00m\u001b[39minterfaces\u001b[39;00m \u001b[39mimport\u001b[39;00m (\n\u001b[1;32m      <a href='vscode-notebook-cell:/Users/oost464/Library/CloudStorage/OneDrive-PNNL/Desktop/projects/pyciemss/notebook/integration_demo/results_petri/calibrate_vega.ipynb#W0sZmlsZQ%3D%3D?line=2'>3</a>\u001b[0m     load_and_sample_petri_model,\n\u001b[1;32m      <a href='vscode-notebook-cell:/Users/oost464/Library/CloudStorage/OneDrive-PNNL/Desktop/projects/pyciemss/notebook/integration_demo/results_petri/calibrate_vega.ipynb#W0sZmlsZQ%3D%3D?line=3'>4</a>\u001b[0m     load_and_calibrate_and_sample_petri_model,\n\u001b[1;32m      <a href='vscode-notebook-cell:/Users/oost464/Library/CloudStorage/OneDrive-PNNL/Desktop/projects/pyciemss/notebook/integration_demo/results_petri/calibrate_vega.ipynb#W0sZmlsZQ%3D%3D?line=4'>5</a>\u001b[0m )\n\u001b[1;32m      <a href='vscode-notebook-cell:/Users/oost464/Library/CloudStorage/OneDrive-PNNL/Desktop/projects/pyciemss/notebook/integration_demo/results_petri/calibrate_vega.ipynb#W0sZmlsZQ%3D%3D?line=5'>6</a>\u001b[0m \u001b[39mimport\u001b[39;00m \u001b[39mpandas\u001b[39;00m \u001b[39mas\u001b[39;00m \u001b[39mpd\u001b[39;00m\n\u001b[1;32m      <a href='vscode-notebook-cell:/Users/oost464/Library/CloudStorage/OneDrive-PNNL/Desktop/projects/pyciemss/notebook/integration_demo/results_petri/calibrate_vega.ipynb#W0sZmlsZQ%3D%3D?line=6'>7</a>\u001b[0m \u001b[39mimport\u001b[39;00m \u001b[39mnumpy\u001b[39;00m \u001b[39mas\u001b[39;00m \u001b[39mnp\u001b[39;00m\n",
      "\u001b[0;31mImportError\u001b[0m: cannot import name 'load_and_sample_petri_model' from 'pyciemss.PetriNetODE.interfaces' (/Users/oost464/Library/CloudStorage/OneDrive-PNNL/Desktop/projects/pyciemss/src/pyciemss/PetriNetODE/interfaces.py)"
     ]
    }
   ],
   "source": [
    "import os\n",
    "from pyciemss.PetriNetODE.interfaces import (\n",
    "    load_and_sample_petri_model,\n",
    "    load_and_calibrate_and_sample_petri_model,\n",
    ")\n",
    "import pandas as pd\n",
    "import numpy as np\n",
    "\n",
    "import IPython.display\n",
    "import vega"
   ]
  },
  {
   "cell_type": "code",
   "execution_count": null,
   "metadata": {},
   "outputs": [
    {
     "data": {
      "text/plain": [
       "'../../../test/models/april_ensemble_demo/BIOMD0000000955_template_model.json'"
      ]
     },
     "execution_count": 98,
     "metadata": {},
     "output_type": "execute_result"
    }
   ],
   "source": [
    "MIRA_PATH = \"../../../test/models/april_ensemble_demo/\"\n",
    "SAVE_PATH = \"../../../notebook/integration_demo/\"\n",
    "filename = \"BIOMD0000000955_template_model.json\"\n",
    "filename = os.path.join(MIRA_PATH, filename)\n",
    "filename"
   ]
  },
  {
   "attachments": {},
   "cell_type": "markdown",
   "metadata": {},
   "source": [
    "## load_and_sample_petri_model"
   ]
  },
  {
   "cell_type": "code",
   "execution_count": null,
   "metadata": {},
   "outputs": [],
   "source": [
    "num_samples = 50\n",
    "timepoints = [float(x) for x in range(100)]\n",
    "\n",
    "# Run sampling\n",
    "samples = load_and_sample_petri_model(\n",
    "    filename, num_samples, timepoints=timepoints, add_uncertainty=True\n",
    ")\n",
    "\n",
    "# Save results\n",
    "samples.to_csv(os.path.join(SAVE_PATH, \"results_petri/sample_results.csv\"))"
   ]
  },
  {
   "cell_type": "code",
   "execution_count": null,
   "metadata": {},
   "outputs": [
    {
     "name": "stdout",
     "output_type": "stream",
     "text": [
      "iteration 0: loss = 68.03353643417358\n",
      "iteration 25: loss = 58.66682147979736\n",
      "iteration 50: loss = 46.86546778678894\n",
      "iteration 75: loss = 37.668776512145996\n",
      "iteration 100: loss = 34.49097228050232\n",
      "iteration 125: loss = 34.5837721824646\n",
      "iteration 150: loss = 32.803762435913086\n",
      "iteration 175: loss = 33.121171951293945\n",
      "iteration 200: loss = 31.79244041442871\n",
      "iteration 225: loss = 31.333812713623047\n",
      "iteration 250: loss = 30.16618537902832\n",
      "iteration 275: loss = 30.937373161315918\n",
      "iteration 300: loss = 29.354808568954468\n",
      "iteration 325: loss = 30.967003345489502\n",
      "iteration 350: loss = 29.694010257720947\n",
      "iteration 375: loss = 31.333956718444824\n",
      "iteration 400: loss = 29.391404151916504\n",
      "iteration 425: loss = 29.992532968521118\n",
      "iteration 450: loss = 28.491435766220093\n",
      "iteration 475: loss = 29.560335159301758\n",
      "iteration 500: loss = 30.389920949935913\n",
      "iteration 525: loss = 30.355836629867554\n",
      "iteration 550: loss = 29.685734748840332\n",
      "iteration 575: loss = 29.61224603652954\n",
      "iteration 600: loss = 27.709321975708008\n",
      "iteration 625: loss = 30.09510326385498\n",
      "iteration 650: loss = 31.624672174453735\n",
      "iteration 675: loss = 30.054651737213135\n",
      "iteration 700: loss = 29.8490571975708\n",
      "iteration 725: loss = 30.38577127456665\n",
      "iteration 750: loss = 31.11387014389038\n",
      "iteration 775: loss = 33.02423095703125\n",
      "iteration 800: loss = 29.731481552124023\n",
      "iteration 825: loss = 30.179952144622803\n",
      "iteration 850: loss = 33.05112671852112\n",
      "iteration 875: loss = 31.33507490158081\n",
      "iteration 900: loss = 30.7802996635437\n",
      "iteration 925: loss = 30.596794843673706\n",
      "iteration 950: loss = 29.76900005340576\n",
      "iteration 975: loss = 32.451133251190186\n"
     ]
    }
   ],
   "source": [
    "# List of tuples of the form `(time, observation_dict)` where each `observation_dict` is of the form `{observable_name: observable_value}`.\n",
    "# Once we get a data file format we're very happy to handle the csv -> this format processing.\n",
    "# Note: As you can see here, not every variable must be observed at every timepoint.\n",
    "data = [\n",
    "    (1.1, {\"Susceptible\": 0.9, \"Infected\": 0.1}),\n",
    "    (2.2, {\"Susceptible\": 0.8}),\n",
    "]\n",
    "num_samples = 50\n",
    "\n",
    "# Run the calibration and sampling\n",
    "calibrated_samples = load_and_calibrate_and_sample_petri_model(\n",
    "    filename,\n",
    "    data,\n",
    "    num_samples,\n",
    "    timepoints=timepoints,\n",
    "    add_uncertainty=True,\n",
    "    verbose=True,\n",
    ")\n",
    "\n",
    "# Save results\n",
    "calibrated_samples.to_csv(\n",
    "    os.path.join(SAVE_PATH, \"results_petri/calibrated_sample_results.csv\")\n",
    ")"
   ]
  },
  {
   "attachments": {},
   "cell_type": "markdown",
   "metadata": {},
   "source": [
    "## load_and_calibrate_and_sample_petri_model"
   ]
  },
  {
   "cell_type": "code",
   "execution_count": null,
   "metadata": {},
   "outputs": [],
   "source": [
    "## take calibrated and normal dataframes and return 5% and 95%\n",
    "\n",
    "def plot_predictive(prediction, quantiles):\n",
    "    # convert series of list to numpy array, then take quantiles\n",
    "    I_low = np.quantile(np.stack(prediction.values), quantiles[0], axis = 0)\n",
    "    I_up = np.quantile(np.stack(prediction.values), quantiles[1], axis = 0)\n",
    "    I_med = np.quantile(np.stack(prediction.values), quantiles[2], axis = 0)\n",
    "\n",
    "    return I_low, I_up, I_med\n",
    "\n",
    "# get the time point, medium and quantile values for each sol column\n",
    "def create_calibration_data(file_path_calibrate_df =\"results_petri/calibrated_sample_results.csv\", \\\n",
    "                file_path_sample_df =\"results_petri/sample_results.csv\", \\\n",
    "                 file_path = \"calibrate.json\", quantiles= (.05, .95, .50),\\\n",
    "                    cases_string = \"_sol\", time_column = 'timepoint_id', sample_column = 'sample_id' ):\n",
    "    \n",
    "    calibrate_df = pd.read_csv(os.path.join(SAVE_PATH, file_path_calibrate_df)).sort_values(by=[sample_column, time_column])\n",
    "    sample_df = pd.read_csv(os.path.join(SAVE_PATH, file_path_sample_df)).sort_values(by=[sample_column, time_column])\n",
    "\n",
    "    sol_cols = [c for c in calibrate_df.columns if c.lower()[-len(cases_string):] == cases_string]\n",
    "\n",
    "    new_df = pd.DataFrame()\n",
    "    length_time = len(calibrate_df[time_column].unique())\n",
    "\n",
    "    time_list = []\n",
    "    column_names_list = []\n",
    "    calibration_list = []\n",
    "    column_values_y0 = []\n",
    "    column_values_y1 = []\n",
    "    column_values_y = []\n",
    "    column_values_example = []\n",
    "    # for each sol column add low and high 5% and 95%\n",
    "    for col in sol_cols:\n",
    "        # sort by sample_id and timepoint, get list of sample id's in order of time, \n",
    "        list_sol_calibrate = calibrate_df.groupby(sample_column)[col].apply(list).reset_index()[col]\n",
    "        list_sol = sample_df.groupby(sample_column)[col].apply(list).reset_index()[col]\n",
    "\n",
    "        # get plot predictive\n",
    "        I_low_calibrate, I_up_calibrate, I_med_calibrate = plot_predictive(list_sol_calibrate, quantiles)\n",
    "        column_names_list.extend([col ] * length_time)\n",
    "        calibration_list.extend([False] * length_time)\n",
    "        # add values\n",
    "        column_values_y0.extend(I_low_calibrate.tolist())\n",
    "        column_values_y1.extend(I_up_calibrate.tolist())\n",
    "        column_values_y.extend(I_med_calibrate.tolist())\n",
    "        time_list.extend(calibrate_df[time_column].unique())\n",
    "\n",
    "        # get plot predictive\n",
    "        I_low, I_up, I_med = plot_predictive(list_sol, quantiles)\n",
    "        column_names_list.extend([col] * length_time)\n",
    "        calibration_list.extend([True] * length_time)\n",
    "\n",
    "        # add values\n",
    "        column_values_y0.extend(I_low.tolist())\n",
    "        column_values_y1.extend(I_up.tolist())\n",
    "        column_values_y.extend(I_med.tolist())\n",
    "        time_list.extend(calibrate_df[time_column].unique())\n",
    "        \n",
    "\n",
    "\n",
    "    new_df['time'] = time_list\n",
    "    new_df['column_names'] = column_names_list\n",
    "    new_df['calibration'] = calibration_list\n",
    "    new_df['y'] = column_values_y\n",
    "    new_df['y1'] = column_values_y1\n",
    "    new_df['y0'] = column_values_y0\n",
    "    return new_df\n",
    "# json in format time sol_low sol_high\n",
    "\n",
    "cal_data = create_calibration_data()"
   ]
  },
  {
   "cell_type": "code",
   "execution_count": null,
   "metadata": {},
   "outputs": [
    {
     "data": {
      "application/vnd.vega.v5+json": {
       "$schema": "https://vega.github.io/schema/vega/v5.json",
       "axes": [
        {
         "orient": "bottom",
         "scale": "time",
         "tickCount": 30,
         "title": "Time since start of pandemic (days)"
        },
        {
         "domain": false,
         "format": "%",
         "grid": true,
         "orient": "left",
         "scale": "y1",
         "title": "Cases (Prop. of Population)"
        }
       ],
       "data": [
        {
         "name": "table",
         "transform": [
          {
           "expr": "( datum.column_names === Type) ",
           "type": "filter"
          },
          {
           "as": "opac",
           "expr": "(datum.calibration ? .3 : .3)",
           "type": "formula"
          }
         ],
         "values": [
          {
           "calibration": false,
           "column_names": "Ailing_sol",
           "time": 0,
           "y": 1.666666626931601e-8,
           "y0": 1.666666626931601e-8,
           "y1": 1.666666626931601e-8
          },
          {
           "calibration": false,
           "column_names": "Ailing_sol",
           "time": 1,
           "y": 4.072902584084659e-7,
           "y0": 3.7463368158796583e-7,
           "y1": 4.4842091142527355e-7
          },
          {
           "calibration": false,
           "column_names": "Ailing_sol",
           "time": 2,
           "y": 8.036750500650669e-7,
           "y0": 7.265838206649278e-7,
           "y1": 9.091087576962308e-7
          },
          {
           "calibration": false,
           "column_names": "Ailing_sol",
           "time": 3,
           "y": 0.0000012704273331110016,
           "y0": 0.0000011028313224414888,
           "y1": 0.0000014700707311021686
          },
          {
           "calibration": false,
           "column_names": "Ailing_sol",
           "time": 4,
           "y": 0.0000018433516402183155,
           "y0": 0.00000153679089862635,
           "y1": 0.0000022267844997259087
          },
          {
           "calibration": false,
           "column_names": "Ailing_sol",
           "time": 5,
           "y": 0.000002558351866355224,
           "y0": 0.0000020658711719079297,
           "y1": 0.0000032894887567636035
          },
          {
           "calibration": false,
           "column_names": "Ailing_sol",
           "time": 6,
           "y": 0.0000035416957189227105,
           "y0": 0.000002740517732036096,
           "y1": 0.000004811113194591598
          },
          {
           "calibration": false,
           "column_names": "Ailing_sol",
           "time": 7,
           "y": 0.000004916608077110141,
           "y0": 0.000003621456755809049,
           "y1": 0.000007008852890066918
          },
          {
           "calibration": false,
           "column_names": "Ailing_sol",
           "time": 8,
           "y": 0.000006826514663771377,
           "y0": 0.0000047845600647633544,
           "y1": 0.000010247455111311864
          },
          {
           "calibration": false,
           "column_names": "Ailing_sol",
           "time": 9,
           "y": 0.000009458375643589534,
           "y0": 0.000006314346205726906,
           "y1": 0.000014970794200053205
          },
          {
           "calibration": false,
           "column_names": "Ailing_sol",
           "time": 10,
           "y": 0.000013110685358697083,
           "y0": 0.000008329438378495979,
           "y1": 0.000021864130576432214
          },
          {
           "calibration": false,
           "column_names": "Ailing_sol",
           "time": 11,
           "y": 0.000018170504517911468,
           "y0": 0.00001098597799682466,
           "y1": 0.00003195182889612624
          },
          {
           "calibration": false,
           "column_names": "Ailing_sol",
           "time": 12,
           "y": 0.00002518149540264858,
           "y0": 0.000014489151544694323,
           "y1": 0.00004687827313318848
          },
          {
           "calibration": false,
           "column_names": "Ailing_sol",
           "time": 13,
           "y": 0.00003489654409349896,
           "y0": 0.00001910947439682786,
           "y1": 0.00006877227315271739
          },
          {
           "calibration": false,
           "column_names": "Ailing_sol",
           "time": 14,
           "y": 0.00004835800064029172,
           "y0": 0.000025203321183653315,
           "y1": 0.00010088007693406284
          },
          {
           "calibration": false,
           "column_names": "Ailing_sol",
           "time": 15,
           "y": 0.0000670085682941135,
           "y0": 0.000033240421362279446,
           "y1": 0.00014795172392037
          },
          {
           "calibration": false,
           "column_names": "Ailing_sol",
           "time": 16,
           "y": 0.00009284433690481819,
           "y0": 0.000043839764657604974,
           "y1": 0.00021692876834999
          },
          {
           "calibration": false,
           "column_names": "Ailing_sol",
           "time": 17,
           "y": 0.00012862471339750002,
           "y0": 0.00005781686413683929,
           "y1": 0.000317934302438495
          },
          {
           "calibration": false,
           "column_names": "Ailing_sol",
           "time": 18,
           "y": 0.00017816038598534998,
           "y0": 0.00007624555764778052,
           "y1": 0.00046557795285476
          },
          {
           "calibration": false,
           "column_names": "Ailing_sol",
           "time": 19,
           "y": 0.0002467067970428,
           "y0": 0.00010053936130132804,
           "y1": 0.000678268168121505
          },
          {
           "calibration": false,
           "column_names": "Ailing_sol",
           "time": 20,
           "y": 0.00034149599377994997,
           "y0": 0.00013255734884291001,
           "y1": 0.0009869291738141249
          },
          {
           "calibration": false,
           "column_names": "Ailing_sol",
           "time": 21,
           "y": 0.0004724533500848,
           "y0": 0.00017474161431890002,
           "y1": 0.001433707424439475
          },
          {
           "calibration": false,
           "column_names": "Ailing_sol",
           "time": 22,
           "y": 0.0006531455146614,
           "y0": 0.000230297405505485,
           "y1": 0.00207756598247208
          },
          {
           "calibration": false,
           "column_names": "Ailing_sol",
           "time": 23,
           "y": 0.000902015104657,
           "y0": 0.00030342269164971,
           "y1": 0.0029995817109010497
          },
          {
           "calibration": false,
           "column_names": "Ailing_sol",
           "time": 24,
           "y": 0.00124394078738985,
           "y0": 0.00039960359717946,
           "y1": 0.004308230639435315
          },
          {
           "calibration": false,
           "column_names": "Ailing_sol",
           "time": 25,
           "y": 0.0017121261917054501,
           "y0": 0.00052598850452337,
           "y1": 0.00614108734298493
          },
          {
           "calibration": false,
           "column_names": "Ailing_sol",
           "time": 26,
           "y": 0.00235020660329605,
           "y0": 0.000691853425814725,
           "y1": 0.00865747514180836
          },
          {
           "calibration": false,
           "column_names": "Ailing_sol",
           "time": 27,
           "y": 0.00321431295014915,
           "y0": 0.000909169978694965,
           "y1": 0.012034196779131829
          },
          {
           "calibration": false,
           "column_names": "Ailing_sol",
           "time": 28,
           "y": 0.00437443819828325,
           "y0": 0.00119327898719341,
           "y1": 0.016421341337263543
          },
          {
           "calibration": false,
           "column_names": "Ailing_sol",
           "time": 29,
           "y": 0.0059139537625014,
           "y0": 0.0015636542579158452,
           "y1": 0.02188069475814692
          },
          {
           "calibration": false,
           "column_names": "Ailing_sol",
           "time": 30,
           "y": 0.007925499696284451,
           "y0": 0.00204469027230512,
           "y1": 0.028264480642974328
          },
          {
           "calibration": false,
           "column_names": "Ailing_sol",
           "time": 31,
           "y": 0.010500747710466302,
           "y0": 0.00266642825445151,
           "y1": 0.035214549489319305
          },
          {
           "calibration": false,
           "column_names": "Ailing_sol",
           "time": 32,
           "y": 0.01371184969320885,
           "y0": 0.0034649746841750903,
           "y1": 0.04195169098675242
          },
          {
           "calibration": false,
           "column_names": "Ailing_sol",
           "time": 33,
           "y": 0.017584008164703797,
           "y0": 0.00448230735491953,
           "y1": 0.047696638852357774
          },
          {
           "calibration": false,
           "column_names": "Ailing_sol",
           "time": 34,
           "y": 0.0220632022246718,
           "y0": 0.00576492382679127,
           "y1": 0.052236982807516964
          },
          {
           "calibration": false,
           "column_names": "Ailing_sol",
           "time": 35,
           "y": 0.026988807134330252,
           "y0": 0.00736067644320422,
           "y1": 0.05554606001824137
          },
          {
           "calibration": false,
           "column_names": "Ailing_sol",
           "time": 36,
           "y": 0.0320863919332623,
           "y0": 0.009313082136213725,
           "y1": 0.05699928309768434
          },
          {
           "calibration": false,
           "column_names": "Ailing_sol",
           "time": 37,
           "y": 0.03699227608740325,
           "y0": 0.011652560671791365,
           "y1": 0.05659970603883263
          },
          {
           "calibration": false,
           "column_names": "Ailing_sol",
           "time": 38,
           "y": 0.04131067916750905,
           "y0": 0.014384806947782595,
           "y1": 0.054810570925474124
          },
          {
           "calibration": false,
           "column_names": "Ailing_sol",
           "time": 39,
           "y": 0.04428303241729735,
           "y0": 0.017477795016020498,
           "y1": 0.052597989141941054
          },
          {
           "calibration": false,
           "column_names": "Ailing_sol",
           "time": 40,
           "y": 0.04413346759974955,
           "y0": 0.020850626658648216,
           "y1": 0.05033916253596539
          },
          {
           "calibration": false,
           "column_names": "Ailing_sol",
           "time": 41,
           "y": 0.04369970038533205,
           "y0": 0.024368647299706874,
           "y1": 0.048825913667678765
          },
          {
           "calibration": false,
           "column_names": "Ailing_sol",
           "time": 42,
           "y": 0.04243531264364715,
           "y0": 0.027849331870675044,
           "y1": 0.04913744237273928
          },
          {
           "calibration": false,
           "column_names": "Ailing_sol",
           "time": 43,
           "y": 0.039848336949944455,
           "y0": 0.02842546505853531,
           "y1": 0.04872588589787479
          },
          {
           "calibration": false,
           "column_names": "Ailing_sol",
           "time": 44,
           "y": 0.037062592804431846,
           "y0": 0.02657248629257081,
           "y1": 0.04790959674865002
          },
          {
           "calibration": false,
           "column_names": "Ailing_sol",
           "time": 45,
           "y": 0.035244395956397,
           "y0": 0.02331323605030773,
           "y1": 0.04671506062149997
          },
          {
           "calibration": false,
           "column_names": "Ailing_sol",
           "time": 46,
           "y": 0.03324506618082515,
           "y0": 0.01982946526259178,
           "y1": 0.04527025558054446
          },
          {
           "calibration": false,
           "column_names": "Ailing_sol",
           "time": 47,
           "y": 0.03080282546579835,
           "y0": 0.016762035526335175,
           "y1": 0.0431870069354772
          },
          {
           "calibration": false,
           "column_names": "Ailing_sol",
           "time": 48,
           "y": 0.02739974763244385,
           "y0": 0.01410045982338482,
           "y1": 0.04111524447798723
          },
          {
           "calibration": false,
           "column_names": "Ailing_sol",
           "time": 49,
           "y": 0.0241341739892959,
           "y0": 0.011818426474928825,
           "y1": 0.0380189461633563
          },
          {
           "calibration": false,
           "column_names": "Ailing_sol",
           "time": 50,
           "y": 0.0210825456306338,
           "y0": 0.009880707086995165,
           "y1": 0.0351233802735805
          },
          {
           "calibration": false,
           "column_names": "Ailing_sol",
           "time": 51,
           "y": 0.01829035766422745,
           "y0": 0.008248357288539355,
           "y1": 0.03301180154085152
          },
          {
           "calibration": false,
           "column_names": "Ailing_sol",
           "time": 52,
           "y": 0.0157786905765533,
           "y0": 0.0068820818327367,
           "y1": 0.03051011664792892
          },
          {
           "calibration": false,
           "column_names": "Ailing_sol",
           "time": 53,
           "y": 0.0135506205260753,
           "y0": 0.00574444397352627,
           "y1": 0.02788201235234732
          },
          {
           "calibration": false,
           "column_names": "Ailing_sol",
           "time": 54,
           "y": 0.0115966671146452,
           "y0": 0.0048010720172896254,
           "y1": 0.02523438613861795
          },
          {
           "calibration": false,
           "column_names": "Ailing_sol",
           "time": 55,
           "y": 0.0098993303254246,
           "y0": 0.004021277045831005,
           "y1": 0.02263086978346103
          },
          {
           "calibration": false,
           "column_names": "Ailing_sol",
           "time": 56,
           "y": 0.008436457253992499,
           "y0": 0.0033781835460103453,
           "y1": 0.020138093177229116
          },
          {
           "calibration": false,
           "column_names": "Ailing_sol",
           "time": 57,
           "y": 0.007183844456449101,
           "y0": 0.00284865014255042,
           "y1": 0.017802210152149167
          },
          {
           "calibration": false,
           "column_names": "Ailing_sol",
           "time": 58,
           "y": 0.006117017939686701,
           "y0": 0.00241297824541101,
           "y1": 0.015651536034420085
          },
          {
           "calibration": false,
           "column_names": "Ailing_sol",
           "time": 59,
           "y": 0.00521237403154365,
           "y0": 0.002054572105407655,
           "y1": 0.013700009090825855
          },
          {
           "calibration": false,
           "column_names": "Ailing_sol",
           "time": 60,
           "y": 0.0044479120988398495,
           "y0": 0.0017595694516784751,
           "y1": 0.011950508691370432
          },
          {
           "calibration": false,
           "column_names": "Ailing_sol",
           "time": 61,
           "y": 0.00380365538876495,
           "y0": 0.00151645427104078,
           "y1": 0.010397909162566036
          },
          {
           "calibration": false,
           "column_names": "Ailing_sol",
           "time": 62,
           "y": 0.0032617739634588,
           "y0": 0.00131571981473823,
           "y1": 0.009031657781451926
          },
          {
           "calibration": false,
           "column_names": "Ailing_sol",
           "time": 63,
           "y": 0.0028065919177606,
           "y0": 0.001149554405128505,
           "y1": 0.007837821706198091
          },
          {
           "calibration": false,
           "column_names": "Ailing_sol",
           "time": 64,
           "y": 0.00242451007943595,
           "y0": 0.001011559751350365,
           "y1": 0.0068007321096956366
          },
          {
           "calibration": false,
           "column_names": "Ailing_sol",
           "time": 65,
           "y": 0.0021038112463428998,
           "y0": 0.0008962750696809251,
           "y1": 0.0059041117550804574
          },
          {
           "calibration": false,
           "column_names": "Ailing_sol",
           "time": 66,
           "y": 0.0018345051212236,
           "y0": 0.000797299752593885,
           "y1": 0.005131926643662098
          },
          {
           "calibration": false,
           "column_names": "Ailing_sol",
           "time": 67,
           "y": 0.00160811492241915,
           "y0": 0.000714130440610385,
           "y1": 0.004468924994580403
          },
          {
           "calibration": false,
           "column_names": "Ailing_sol",
           "time": 68,
           "y": 0.001417493505869,
           "y0": 0.00064388176542702,
           "y1": 0.003900965163484168
          },
          {
           "calibration": false,
           "column_names": "Ailing_sol",
           "time": 69,
           "y": 0.0012566407676786,
           "y0": 0.00058420516725155,
           "y1": 0.0034151942934840434
          },
          {
           "calibration": false,
           "column_names": "Ailing_sol",
           "time": 70,
           "y": 0.00112053717020895,
           "y0": 0.000533194845775115,
           "y1": 0.0030001115868799034
          },
          {
           "calibration": false,
           "column_names": "Ailing_sol",
           "time": 71,
           "y": 0.00100499938707795,
           "y0": 0.0004893025179625951,
           "y1": 0.002645547245629064
          },
          {
           "calibration": false,
           "column_names": "Ailing_sol",
           "time": 72,
           "y": 0.0009065498306881,
           "y0": 0.00045127220510035,
           "y1": 0.002342600526753769
          },
          {
           "calibration": false,
           "column_names": "Ailing_sol",
           "time": 73,
           "y": 0.00082230195403095,
           "y0": 0.000418085126148,
           "y1": 0.002083545376080994
          },
          {
           "calibration": false,
           "column_names": "Ailing_sol",
           "time": 74,
           "y": 0.0007498652848880001,
           "y0": 0.00038891436415719,
           "y1": 0.0018617281399201041
          },
          {
           "calibration": false,
           "column_names": "Ailing_sol",
           "time": 75,
           "y": 0.00068726498284375,
           "y0": 0.00036308768612797,
           "y1": 0.0016714399214833593
          },
          {
           "calibration": false,
           "column_names": "Ailing_sol",
           "time": 76,
           "y": 0.00063286835211325,
           "y0": 0.00034005978959604,
           "y1": 0.0015078055439516293
          },
          {
           "calibration": false,
           "column_names": "Ailing_sol",
           "time": 77,
           "y": 0.000587586488109,
           "y0": 0.000319385877810335,
           "y1": 0.0013666945684235143
          },
          {
           "calibration": false,
           "column_names": "Ailing_sol",
           "time": 78,
           "y": 0.0005482557462528001,
           "y0": 0.000300704072287725,
           "y1": 0.0012446009495760495
          },
          {
           "calibration": false,
           "column_names": "Ailing_sol",
           "time": 79,
           "y": 0.0005119169072713,
           "y0": 0.000283718698483365,
           "y1": 0.0011385718884411745
          },
          {
           "calibration": false,
           "column_names": "Ailing_sol",
           "time": 80,
           "y": 0.00047809020907145,
           "y0": 0.00026818736951096,
           "y1": 0.0010461132333147995
          },
          {
           "calibration": false,
           "column_names": "Ailing_sol",
           "time": 81,
           "y": 0.00044781735050484996,
           "y0": 0.00025391063682031,
           "y1": 0.0009651310218032147
          },
          {
           "calibration": false,
           "column_names": "Ailing_sol",
           "time": 82,
           "y": 0.00042056651727755004,
           "y0": 0.000240725723415345,
           "y1": 0.0008936482423450397
          },
          {
           "calibration": false,
           "column_names": "Ailing_sol",
           "time": 83,
           "y": 0.0003979765169788,
           "y0": 0.000228495759802135,
           "y1": 0.0008290318830404047
          },
          {
           "calibration": false,
           "column_names": "Ailing_sol",
           "time": 84,
           "y": 0.0003773577045649,
           "y0": 0.00021710916043952,
           "y1": 0.0007717742235399298
          },
          {
           "calibration": false,
           "column_names": "Ailing_sol",
           "time": 85,
           "y": 0.00035828763793685,
           "y0": 0.00020647164274122,
           "y1": 0.0007207845512311298
          },
          {
           "calibration": false,
           "column_names": "Ailing_sol",
           "time": 86,
           "y": 0.0003405775350984,
           "y0": 0.00019650419126262,
           "y1": 0.0006751482869730648
          },
          {
           "calibration": false,
           "column_names": "Ailing_sol",
           "time": 87,
           "y": 0.00032407067192245,
           "y0": 0.00018714014804571,
           "y1": 0.0006340965454000698
          },
          {
           "calibration": false,
           "column_names": "Ailing_sol",
           "time": 88,
           "y": 0.00030863520805715,
           "y0": 0.000178322947613175,
           "y1": 0.0005969852994894249
          },
          {
           "calibration": false,
           "column_names": "Ailing_sol",
           "time": 89,
           "y": 0.0002941593556897,
           "y0": 0.00017000422667475,
           "y1": 0.0005632728192721698
          },
          {
           "calibration": false,
           "column_names": "Ailing_sol",
           "time": 90,
           "y": 0.0002805479598464,
           "y0": 0.000162142379122005,
           "y1": 0.0005325033474945748
          },
          {
           "calibration": false,
           "column_names": "Ailing_sol",
           "time": 91,
           "y": 0.00026772153796624995,
           "y0": 0.000154700729763065,
           "y1": 0.0005042950811912049
          },
          {
           "calibration": false,
           "column_names": "Ailing_sol",
           "time": 92,
           "y": 0.0002556096442276,
           "y0": 0.000147648130223295,
           "y1": 0.0004783241878612349
          },
          {
           "calibration": false,
           "column_names": "Ailing_sol",
           "time": 93,
           "y": 0.00024415372899960004,
           "y0": 0.00014095674778216,
           "y1": 0.0004543175702565049
          },
          {
           "calibration": false,
           "column_names": "Ailing_sol",
           "time": 94,
           "y": 0.00023330103431360002,
           "y0": 0.00013460213740468,
           "y1": 0.00043204489338671495
          },
          {
           "calibration": false,
           "column_names": "Ailing_sol",
           "time": 95,
           "y": 0.0002230067257187,
           "y0": 0.000128561881137925,
           "y1": 0.0004113102870177699
          },
          {
           "calibration": false,
           "column_names": "Ailing_sol",
           "time": 96,
           "y": 0.00021323054534145,
           "y0": 0.00012281650087965,
           "y1": 0.000391946616582515
          },
          {
           "calibration": false,
           "column_names": "Ailing_sol",
           "time": 97,
           "y": 0.00020393738668639998,
           "y0": 0.000117348148341945,
           "y1": 0.00037381141009966494
          },
          {
           "calibration": false,
           "column_names": "Ailing_sol",
           "time": 98,
           "y": 0.0001950950972968,
           "y0": 0.00011214050864509,
           "y1": 0.00035678329440991
          },
          {
           "calibration": false,
           "column_names": "Ailing_sol",
           "time": 99,
           "y": 0.00018650069978315,
           "y0": 0.00010717885415937001,
           "y1": 0.00034075702278641497
          },
          {
           "calibration": true,
           "column_names": "Ailing_sol",
           "time": 0,
           "y": 1.666666626931601e-8,
           "y0": 1.666666626931601e-8,
           "y1": 1.666666626931601e-8
          },
          {
           "calibration": true,
           "column_names": "Ailing_sol",
           "time": 1,
           "y": 3.947744886545479e-7,
           "y0": 3.731102168558209e-7,
           "y1": 4.4204046929507977e-7
          },
          {
           "calibration": true,
           "column_names": "Ailing_sol",
           "time": 2,
           "y": 7.763930796045315e-7,
           "y0": 7.184358764789067e-7,
           "y1": 8.878663976474854e-7
          },
          {
           "calibration": true,
           "column_names": "Ailing_sol",
           "time": 3,
           "y": 0.0000012196701959510392,
           "y0": 0.0000010946923168830835,
           "y1": 0.0000014289759576513458
          },
          {
           "calibration": true,
           "column_names": "Ailing_sol",
           "time": 4,
           "y": 0.0000017857703369372757,
           "y0": 0.0000015445877352249227,
           "y1": 0.0000021307896531652655
          },
          {
           "calibration": true,
           "column_names": "Ailing_sol",
           "time": 5,
           "y": 0.0000025230940536857815,
           "y0": 0.000002113150867444347,
           "y1": 0.000003112467879873293
          },
          {
           "calibration": true,
           "column_names": "Ailing_sol",
           "time": 6,
           "y": 0.0000035112791465508053,
           "y0": 0.0000028417566454663757,
           "y1": 0.000004554767974696005
          },
          {
           "calibration": true,
           "column_names": "Ailing_sol",
           "time": 7,
           "y": 0.000004942776513416902,
           "y0": 0.0000037751797208329663,
           "y1": 0.000006668049695690569
          },
          {
           "calibration": true,
           "column_names": "Ailing_sol",
           "time": 8,
           "y": 0.0000069293791966629215,
           "y0": 0.00000500139387895615,
           "y1": 0.000009651302752899935
          },
          {
           "calibration": true,
           "column_names": "Ailing_sol",
           "time": 9,
           "y": 0.000009644149486121023,
           "y0": 0.000006618274596803531,
           "y1": 0.000013895225129090246
          },
          {
           "calibration": true,
           "column_names": "Ailing_sol",
           "time": 10,
           "y": 0.000013419302376860287,
           "y0": 0.000008753512247494655,
           "y1": 0.00002002184883167501
          },
          {
           "calibration": true,
           "column_names": "Ailing_sol",
           "time": 11,
           "y": 0.00001857370625657495,
           "y0": 0.0000115756747618434,
           "y1": 0.00002884562336475937
          },
          {
           "calibration": true,
           "column_names": "Ailing_sol",
           "time": 12,
           "y": 0.00002558623418735806,
           "y0": 0.00001530586068838602,
           "y1": 0.000041554824201739385
          },
          {
           "calibration": true,
           "column_names": "Ailing_sol",
           "time": 13,
           "y": 0.00003524563362589106,
           "y0": 0.000020228489665896633,
           "y1": 0.00005985918432998004
          },
          {
           "calibration": true,
           "column_names": "Ailing_sol",
           "time": 14,
           "y": 0.00004855014230997767,
           "y0": 0.000026734465882327645,
           "y1": 0.00008621784145361741
          },
          {
           "calibration": true,
           "column_names": "Ailing_sol",
           "time": 15,
           "y": 0.00006687339919153601,
           "y0": 0.000035332778134034014,
           "y1": 0.00012416572935754498
          },
          {
           "calibration": true,
           "column_names": "Ailing_sol",
           "time": 16,
           "y": 0.00009210458665620536,
           "y0": 0.000046695886703673756,
           "y1": 0.00017877853388195998
          },
          {
           "calibration": true,
           "column_names": "Ailing_sol",
           "time": 17,
           "y": 0.00012683999375434998,
           "y0": 0.00006176330061862245,
           "y1": 0.0002573332385508499
          },
          {
           "calibration": true,
           "column_names": "Ailing_sol",
           "time": 18,
           "y": 0.0001746442576404,
           "y0": 0.00008190760672732722,
           "y1": 0.0003702409871038549
          },
          {
           "calibration": true,
           "column_names": "Ailing_sol",
           "time": 19,
           "y": 0.00024040497373785,
           "y0": 0.00010861079063026,
           "y1": 0.0005323480028891198
          },
          {
           "calibration": true,
           "column_names": "Ailing_sol",
           "time": 20,
           "y": 0.0003309230669401,
           "y0": 0.00014399916472021998,
           "y1": 0.0007647296210051848
          },
          {
           "calibration": true,
           "column_names": "Ailing_sol",
           "time": 21,
           "y": 0.0004571121244225,
           "y0": 0.00019088110639127,
           "y1": 0.0010971069859805845
          },
          {
           "calibration": true,
           "column_names": "Ailing_sol",
           "time": 22,
           "y": 0.0006309383315965,
           "y0": 0.000252960686339025,
           "y1": 0.0015709857165347395
          },
          {
           "calibration": true,
           "column_names": "Ailing_sol",
           "time": 23,
           "y": 0.000869946234161,
           "y0": 0.00033511404471935,
           "y1": 0.0022435347666032042
          },
          {
           "calibration": true,
           "column_names": "Ailing_sol",
           "time": 24,
           "y": 0.0011977574904449,
           "y0": 0.00044374391727612,
           "y1": 0.003191877133212944
          },
          {
           "calibration": true,
           "column_names": "Ailing_sol",
           "time": 25,
           "y": 0.0016458145109936,
           "y0": 0.00058722869434855,
           "y1": 0.004516963497735554
          },
          {
           "calibration": true,
           "column_names": "Ailing_sol",
           "time": 26,
           "y": 0.00225533707998685,
           "y0": 0.000776482434594045,
           "y1": 0.006344935367815168
          },
          {
           "calibration": true,
           "column_names": "Ailing_sol",
           "time": 27,
           "y": 0.0030791911995038,
           "y0": 0.00102563695400014,
           "y1": 0.008822516817599522
          },
          {
           "calibration": true,
           "column_names": "Ailing_sol",
           "time": 28,
           "y": 0.0041830569971352,
           "y0": 0.00135284237330772,
           "y1": 0.012100883806124287
          },
          {
           "calibration": true,
           "column_names": "Ailing_sol",
           "time": 29,
           "y": 0.005644843680784051,
           "y0": 0.00178115499438711,
           "y1": 0.01630211193114515
          },
          {
           "calibration": true,
           "column_names": "Ailing_sol",
           "time": 30,
           "y": 0.0075505508575588,
           "y0": 0.002339428686536815,
           "y1": 0.02146622883155937
          },
          {
           "calibration": true,
           "column_names": "Ailing_sol",
           "time": 31,
           "y": 0.0099843526259064,
           "y0": 0.00306304962141436,
           "y1": 0.027487547043710907
          },
          {
           "calibration": true,
           "column_names": "Ailing_sol",
           "time": 32,
           "y": 0.0130116837099194,
           "y0": 0.00399421853944655,
           "y1": 0.03406610358506439
          },
          {
           "calibration": true,
           "column_names": "Ailing_sol",
           "time": 33,
           "y": 0.016696061939001,
           "y0": 0.0051812808029352946,
           "y1": 0.04070916566997761
          },
          {
           "calibration": true,
           "column_names": "Ailing_sol",
           "time": 34,
           "y": 0.0209721559658646,
           "y0": 0.006676443619653565,
           "y1": 0.04680550135672083
          },
          {
           "calibration": true,
           "column_names": "Ailing_sol",
           "time": 35,
           "y": 0.025693486444652,
           "y0": 0.008531040418893075,
           "y1": 0.0511596895754337
          },
          {
           "calibration": true,
           "column_names": "Ailing_sol",
           "time": 36,
           "y": 0.03060164768248795,
           "y0": 0.010787546215578871,
           "y1": 0.053558024950325446
          },
          {
           "calibration": true,
           "column_names": "Ailing_sol",
           "time": 37,
           "y": 0.03534696809947485,
           "y0": 0.01346803451888258,
           "y1": 0.05403999537229532
          },
          {
           "calibration": true,
           "column_names": "Ailing_sol",
           "time": 38,
           "y": 0.039850341156125,
           "y0": 0.0165599456056952,
           "y1": 0.05479471050202841
          },
          {
           "calibration": true,
           "column_names": "Ailing_sol",
           "time": 39,
           "y": 0.0430514048784971,
           "y0": 0.02000198028981682,
           "y1": 0.05391016006469721
          },
          {
           "calibration": true,
           "column_names": "Ailing_sol",
           "time": 40,
           "y": 0.043243246152997,
           "y0": 0.023674612399190616,
           "y1": 0.053158496506512144
          },
          {
           "calibration": true,
           "column_names": "Ailing_sol",
           "time": 41,
           "y": 0.0420806631445884,
           "y0": 0.027400843892246455,
           "y1": 0.05165015831589696
          },
          {
           "calibration": true,
           "column_names": "Ailing_sol",
           "time": 42,
           "y": 0.04155340418219565,
           "y0": 0.030656853597611156,
           "y1": 0.050011272542178596
          },
          {
           "calibration": true,
           "column_names": "Ailing_sol",
           "time": 43,
           "y": 0.04081494547426695,
           "y0": 0.030918893869966192,
           "y1": 0.048431801050901356
          },
          {
           "calibration": true,
           "column_names": "Ailing_sol",
           "time": 44,
           "y": 0.04022514447569845,
           "y0": 0.027537412662059044,
           "y1": 0.047459357976913405
          },
          {
           "calibration": true,
           "column_names": "Ailing_sol",
           "time": 45,
           "y": 0.038011310622096,
           "y0": 0.02370020700618624,
           "y1": 0.04674210567027323
          },
          {
           "calibration": true,
           "column_names": "Ailing_sol",
           "time": 46,
           "y": 0.035513147711753804,
           "y0": 0.020227059815078934,
           "y1": 0.04533385001122948
          },
          {
           "calibration": true,
           "column_names": "Ailing_sol",
           "time": 47,
           "y": 0.032081581652164404,
           "y0": 0.01714569777250287,
           "y1": 0.04483476206660265
          },
          {
           "calibration": true,
           "column_names": "Ailing_sol",
           "time": 48,
           "y": 0.0283172708004713,
           "y0": 0.014463774580508416,
           "y1": 0.04335206039249894
          },
          {
           "calibration": true,
           "column_names": "Ailing_sol",
           "time": 49,
           "y": 0.0247754482552409,
           "y0": 0.012191922031342964,
           "y1": 0.040742230229079676
          },
          {
           "calibration": true,
           "column_names": "Ailing_sol",
           "time": 50,
           "y": 0.0215069912374019,
           "y0": 0.0102428891230374,
           "y1": 0.03777307085692877
          },
          {
           "calibration": true,
           "column_names": "Ailing_sol",
           "time": 51,
           "y": 0.0185491098091006,
           "y0": 0.008585917949676456,
           "y1": 0.0353332158178091
          },
          {
           "calibration": true,
           "column_names": "Ailing_sol",
           "time": 52,
           "y": 0.0159144382923841,
           "y0": 0.00718763868790114,
           "y1": 0.03242923300713296
          },
          {
           "calibration": true,
           "column_names": "Ailing_sol",
           "time": 53,
           "y": 0.013615766074508349,
           "y0": 0.00601474689319725,
           "y1": 0.029441527836024738
          },
          {
           "calibration": true,
           "column_names": "Ailing_sol",
           "time": 54,
           "y": 0.011634835973381951,
           "y0": 0.005035663396120045,
           "y1": 0.02642354285344479
          },
          {
           "calibration": true,
           "column_names": "Ailing_sol",
           "time": 55,
           "y": 0.0099159148521721,
           "y0": 0.0042212678352370105,
           "y1": 0.023453317396342703
          },
          {
           "calibration": true,
           "column_names": "Ailing_sol",
           "time": 56,
           "y": 0.008436808828264399,
           "y0": 0.003545281186234165,
           "y1": 0.02067832229658955
          },
          {
           "calibration": true,
           "column_names": "Ailing_sol",
           "time": 57,
           "y": 0.0071727458853274,
           "y0": 0.00298629504395641,
           "y1": 0.01813034424558276
          },
          {
           "calibration": true,
           "column_names": "Ailing_sol",
           "time": 58,
           "y": 0.00609848462045185,
           "y0": 0.00252468691905954,
           "y1": 0.015838787937536753
          },
          {
           "calibration": true,
           "column_names": "Ailing_sol",
           "time": 59,
           "y": 0.00518960878252975,
           "y0": 0.00214374766219399,
           "y1": 0.013824143772944759
          },
          {
           "calibration": true,
           "column_names": "Ailing_sol",
           "time": 60,
           "y": 0.0044233757071196495,
           "y0": 0.00182938362704587,
           "y1": 0.01202581087127327
          },
          {
           "calibration": true,
           "column_names": "Ailing_sol",
           "time": 61,
           "y": 0.00377912307158105,
           "y0": 0.00156978852464813,
           "y1": 0.010435457201674565
          },
          {
           "calibration": true,
           "column_names": "Ailing_sol",
           "time": 62,
           "y": 0.0032384622609242,
           "y0": 0.0013551495387218251,
           "y1": 0.009039924014359645
          },
          {
           "calibration": true,
           "column_names": "Ailing_sol",
           "time": 63,
           "y": 0.0027852773200720002,
           "y0": 0.001177340961294195,
           "y1": 0.007823250093497264
          },
          {
           "calibration": true,
           "column_names": "Ailing_sol",
           "time": 64,
           "y": 0.0024056119145825002,
           "y0": 0.001029635343002125,
           "y1": 0.00676821281667795
          },
          {
           "calibration": true,
           "column_names": "Ailing_sol",
           "time": 65,
           "y": 0.0020875053014606,
           "y0": 0.00090932027087543,
           "y1": 0.005858813901431805
          },
          {
           "calibration": true,
           "column_names": "Ailing_sol",
           "time": 66,
           "y": 0.0018207796965725499,
           "y0": 0.000810026915860335,
           "y1": 0.005076377652585425
          },
          {
           "calibration": true,
           "column_names": "Ailing_sol",
           "time": 67,
           "y": 0.0015968402149154999,
           "y0": 0.000726656784536295,
           "y1": 0.0044047971256076955
          },
          {
           "calibration": true,
           "column_names": "Ailing_sol",
           "time": 68,
           "y": 0.0014084628783166,
           "y0": 0.0006562763068358499,
           "y1": 0.003829641093034225
          },
          {
           "calibration": true,
           "column_names": "Ailing_sol",
           "time": 69,
           "y": 0.0012496054987423,
           "y0": 0.000596503776614545,
           "y1": 0.003337844717316295
          },
          {
           "calibration": true,
           "column_names": "Ailing_sol",
           "time": 70,
           "y": 0.0011152325314468998,
           "y0": 0.000545407619210865,
           "y1": 0.0029177514836191596
          },
          {
           "calibration": true,
           "column_names": "Ailing_sol",
           "time": 71,
           "y": 0.0010011616395786001,
           "y0": 0.000501424673711835,
           "y1": 0.002559077111072785
          },
          {
           "calibration": true,
           "column_names": "Ailing_sol",
           "time": 72,
           "y": 0.0009039251890499,
           "y0": 0.0004632912372471,
           "y1": 0.00225282502360637
          },
          {
           "calibration": true,
           "column_names": "Ailing_sol",
           "time": 73,
           "y": 0.00082065700553355,
           "y0": 0.00042998272401741,
           "y1": 0.001991189771797465
          },
          {
           "calibration": true,
           "column_names": "Ailing_sol",
           "time": 74,
           "y": 0.00074941132334055,
           "y0": 0.00040020578744586003,
           "y1": 0.00176744342898016
          },
          {
           "calibration": true,
           "column_names": "Ailing_sol",
           "time": 75,
           "y": 0.0006880387663841,
           "y0": 0.00037306514277585,
           "y1": 0.00157581574167116
          },
          {
           "calibration": true,
           "column_names": "Ailing_sol",
           "time": 76,
           "y": 0.00063583970768375,
           "y0": 0.000348894853959705,
           "y1": 0.0014126460126135
          },
          {
           "calibration": true,
           "column_names": "Ailing_sol",
           "time": 77,
           "y": 0.00058972922852255,
           "y0": 0.00032722198957336497,
           "y1": 0.00127393743023273
          },
          {
           "calibration": true,
           "column_names": "Ailing_sol",
           "time": 78,
           "y": 0.0005490226612891501,
           "y0": 0.000307661760598335,
           "y1": 0.00115454231272444
          },
          {
           "calibration": true,
           "column_names": "Ailing_sol",
           "time": 79,
           "y": 0.00051285987137815,
           "y0": 0.00028989862912560504,
           "y1": 0.00105145813431588
          },
          {
           "calibration": true,
           "column_names": "Ailing_sol",
           "time": 80,
           "y": 0.00048053369391705,
           "y0": 0.000273001515597525,
           "y1": 0.000961835708585485
          },
          {
           "calibration": true,
           "column_names": "Ailing_sol",
           "time": 81,
           "y": 0.0004511479783104,
           "y0": 0.000257430963392755,
           "y1": 0.0008835991844534399
          },
          {
           "calibration": true,
           "column_names": "Ailing_sol",
           "time": 82,
           "y": 0.00042458211828484997,
           "y0": 0.00024282960148408998,
           "y1": 0.0008150039357132649
          },
          {
           "calibration": true,
           "column_names": "Ailing_sol",
           "time": 83,
           "y": 0.00040046522917690003,
           "y0": 0.000229133803077195,
           "y1": 0.000754583583329735
          },
          {
           "calibration": true,
           "column_names": "Ailing_sol",
           "time": 84,
           "y": 0.0003784529981203,
           "y0": 0.00021651522401948,
           "y1": 0.0007011098379734599
          },
          {
           "calibration": true,
           "column_names": "Ailing_sol",
           "time": 85,
           "y": 0.00035826122621070004,
           "y0": 0.00020484206543181,
           "y1": 0.000653550695278625
          },
          {
           "calibration": true,
           "column_names": "Ailing_sol",
           "time": 86,
           "y": 0.00033965268812600005,
           "y0": 0.000194004741206285,
           "y1": 0.000611041364027125
          },
          {
           "calibration": true,
           "column_names": "Ailing_sol",
           "time": 87,
           "y": 0.00032243068562815,
           "y0": 0.00018391029807383,
           "y1": 0.0005729177733883099
          },
          {
           "calibration": true,
           "column_names": "Ailing_sol",
           "time": 88,
           "y": 0.00030642987985625,
           "y0": 0.00017448098660676,
           "y1": 0.00053953544120296
          },
          {
           "calibration": true,
           "column_names": "Ailing_sol",
           "time": 89,
           "y": 0.0002915117220254,
           "y0": 0.00016565016339882002,
           "y1": 0.0005091135506517599
          },
          {
           "calibration": true,
           "column_names": "Ailing_sol",
           "time": 90,
           "y": 0.0002777771005639,
           "y0": 0.000157361119636305,
           "y1": 0.00048126345500346996
          },
          {
           "calibration": true,
           "column_names": "Ailing_sol",
           "time": 91,
           "y": 0.00026493876066515,
           "y0": 0.000149565868923595,
           "y1": 0.00045565875916500994
          },
          {
           "calibration": true,
           "column_names": "Ailing_sol",
           "time": 92,
           "y": 0.0002528690529288,
           "y0": 0.0001422215464117,
           "y1": 0.0004320240332162349
          },
          {
           "calibration": true,
           "column_names": "Ailing_sol",
           "time": 93,
           "y": 0.00024149552336890002,
           "y0": 0.000135291701735645,
           "y1": 0.0004097456447197849
          },
          {
           "calibration": true,
           "column_names": "Ailing_sol",
           "time": 94,
           "y": 0.00023075566423355,
           "y0": 0.00012874442254537,
           "y1": 0.00038903225649842497
          },
          {
           "calibration": true,
           "column_names": "Ailing_sol",
           "time": 95,
           "y": 0.00022059568436809998,
           "y0": 0.000122551238382555,
           "y1": 0.00036976764095010496
          },
          {
           "calibration": true,
           "column_names": "Ailing_sol",
           "time": 96,
           "y": 0.00021096903947175,
           "y0": 0.000116687443733065,
           "y1": 0.00035179526748830995
          },
          {
           "calibration": true,
           "column_names": "Ailing_sol",
           "time": 97,
           "y": 0.00020183478773105,
           "y0": 0.00011113034852312,
           "y1": 0.00033498125412730496
          },
          {
           "calibration": true,
           "column_names": "Ailing_sol",
           "time": 98,
           "y": 0.00019315712415839999,
           "y0": 0.00010585988129599501,
           "y1": 0.000319211509486155
          },
          {
           "calibration": true,
           "column_names": "Ailing_sol",
           "time": 99,
           "y": 0.0001849042164394,
           "y0": 0.00010085812245957,
           "y1": 0.00030438634712477995
          },
          {
           "calibration": false,
           "column_names": "Diagnosed_sol",
           "time": 0,
           "y": 3.333333324917476e-7,
           "y0": 3.333333324917476e-7,
           "y1": 3.333333324917476e-7
          },
          {
           "calibration": false,
           "column_names": "Diagnosed_sol",
           "time": 1,
           "y": 8.918802336665976e-7,
           "y0": 8.334310820146129e-7,
           "y1": 9.454589985580242e-7
          },
          {
           "calibration": false,
           "column_names": "Diagnosed_sol",
           "time": 2,
           "y": 0.0000015786786775606745,
           "y0": 0.0000014327021347071422,
           "y1": 0.00000169723967360369
          },
          {
           "calibration": false,
           "column_names": "Diagnosed_sol",
           "time": 3,
           "y": 0.0000024634181272631395,
           "y0": 0.000002173829068397026,
           "y1": 0.0000026872761736740357
          },
          {
           "calibration": false,
           "column_names": "Diagnosed_sol",
           "time": 4,
           "y": 0.0000037023838785898984,
           "y0": 0.000003129783397071151,
           "y1": 0.000004026711258120485
          },
          {
           "calibration": false,
           "column_names": "Diagnosed_sol",
           "time": 5,
           "y": 0.000005279703600535868,
           "y0": 0.0000043796120735351,
           "y1": 0.000005937580681347754
          },
          {
           "calibration": false,
           "column_names": "Diagnosed_sol",
           "time": 6,
           "y": 0.000007449151780747343,
           "y0": 0.000006002628310852742,
           "y1": 0.000008816032686809194
          },
          {
           "calibration": false,
           "column_names": "Diagnosed_sol",
           "time": 7,
           "y": 0.000010533543900237419,
           "y0": 0.000008068623856161139,
           "y1": 0.000012876689743279712
          },
          {
           "calibration": false,
           "column_names": "Diagnosed_sol",
           "time": 8,
           "y": 0.00001481840263295453,
           "y0": 0.000010765298020487534,
           "y1": 0.000018891897252615308
          },
          {
           "calibration": false,
           "column_names": "Diagnosed_sol",
           "time": 9,
           "y": 0.000020750480871356558,
           "y0": 0.000014314328564069,
           "y1": 0.000027659400802804158
          },
          {
           "calibration": false,
           "column_names": "Diagnosed_sol",
           "time": 10,
           "y": 0.00002902295545936795,
           "y0": 0.000018972428915731143,
           "y1": 0.000040447415085509415
          },
          {
           "calibration": false,
           "column_names": "Diagnosed_sol",
           "time": 11,
           "y": 0.00004055903809785377,
           "y0": 0.00002510082349544973,
           "y1": 0.000059106134358444244
          },
          {
           "calibration": false,
           "column_names": "Diagnosed_sol",
           "time": 12,
           "y": 0.00005642983342113439,
           "y0": 0.00003318418293929426,
           "y1": 0.00008633484612801113
          },
          {
           "calibration": false,
           "column_names": "Diagnosed_sol",
           "time": 13,
           "y": 0.0000782398165029008,
           "y0": 0.000043683493277058,
           "y1": 0.000126069918042015
          },
          {
           "calibration": false,
           "column_names": "Diagnosed_sol",
           "time": 14,
           "y": 0.0001084539471776,
           "y0": 0.00005764904362877132,
           "y1": 0.00018404957809245998
          },
          {
           "calibration": false,
           "column_names": "Diagnosed_sol",
           "time": 15,
           "y": 0.0001503094899817,
           "y0": 0.00007606316066812723,
           "y1": 0.000268472301831905
          },
          {
           "calibration": false,
           "column_names": "Diagnosed_sol",
           "time": 16,
           "y": 0.00020828618289665,
           "y0": 0.00010034445949709655,
           "y1": 0.00039137774147086
          },
          {
           "calibration": false,
           "column_names": "Diagnosed_sol",
           "time": 17,
           "y": 0.00028857828874600004,
           "y0": 0.00013236151207811998,
           "y1": 0.000570342838182045
          },
          {
           "calibration": false,
           "column_names": "Diagnosed_sol",
           "time": 18,
           "y": 0.00039974277024155003,
           "y0": 0.000174576286371985,
           "y1": 0.000830724634579335
          },
          {
           "calibration": false,
           "column_names": "Diagnosed_sol",
           "time": 19,
           "y": 0.0005531485076062,
           "y0": 0.000230229140288355,
           "y1": 0.001209107530303235
          },
          {
           "calibration": false,
           "column_names": "Diagnosed_sol",
           "time": 20,
           "y": 0.00076426571467885,
           "y0": 0.00030358540243460505,
           "y1": 0.00175800831057127
          },
          {
           "calibration": false,
           "column_names": "Diagnosed_sol",
           "time": 21,
           "y": 0.00105545745464035,
           "y0": 0.000400249844824395,
           "y1": 0.002552254323381885
          },
          {
           "calibration": false,
           "column_names": "Diagnosed_sol",
           "time": 22,
           "y": 0.00145664752926675,
           "y0": 0.000527585344389015,
           "y1": 0.003697320783976425
          },
          {
           "calibration": false,
           "column_names": "Diagnosed_sol",
           "time": 23,
           "y": 0.0020085353753529,
           "y0": 0.0006952445546630349,
           "y1": 0.005339827947318515
          },
          {
           "calibration": false,
           "column_names": "Diagnosed_sol",
           "time": 24,
           "y": 0.0027661178028210503,
           "y0": 0.00091585740738081,
           "y1": 0.007677980698645095
          },
          {
           "calibration": false,
           "column_names": "Diagnosed_sol",
           "time": 25,
           "y": 0.00380304409191005,
           "y0": 0.00120591359445821,
           "y1": 0.010970893595367615
          },
          {
           "calibration": false,
           "column_names": "Diagnosed_sol",
           "time": 26,
           "y": 0.0052166837267577,
           "y0": 0.00158685626811345,
           "y1": 0.01553981280885632
          },
          {
           "calibration": false,
           "column_names": "Diagnosed_sol",
           "time": 27,
           "y": 0.0071335027460008495,
           "y0": 0.00208645289530973,
           "y1": 0.021750924363732285
          },
          {
           "calibration": false,
           "column_names": "Diagnosed_sol",
           "time": 28,
           "y": 0.0097136907279491,
           "y0": 0.002740436629392125,
           "y1": 0.029966678004711787
          },
          {
           "calibration": false,
           "column_names": "Diagnosed_sol",
           "time": 29,
           "y": 0.013152926228940449,
           "y0": 0.003594418964348675,
           "y1": 0.040461136773228566
          },
          {
           "calibration": false,
           "column_names": "Diagnosed_sol",
           "time": 30,
           "y": 0.017677997238934,
           "y0": 0.00470600372646003,
           "y1": 0.0532786611467599
          },
          {
           "calibration": false,
           "column_names": "Diagnosed_sol",
           "time": 31,
           "y": 0.02353139221668235,
           "y0": 0.006146891321986885,
           "y1": 0.06790349893271919
          },
          {
           "calibration": false,
           "column_names": "Diagnosed_sol",
           "time": 32,
           "y": 0.030939350835978898,
           "y0": 0.008004589960910306,
           "y1": 0.08365230299532408
          },
          {
           "calibration": false,
           "column_names": "Diagnosed_sol",
           "time": 33,
           "y": 0.040060563012957504,
           "y0": 0.010383096802979667,
           "y1": 0.09949953928589818
          },
          {
           "calibration": false,
           "column_names": "Diagnosed_sol",
           "time": 34,
           "y": 0.050919005647301646,
           "y0": 0.013401494687423061,
           "y1": 0.11422906257212159
          },
          {
           "calibration": false,
           "column_names": "Diagnosed_sol",
           "time": 35,
           "y": 0.06333638727664945,
           "y0": 0.017189030908048096,
           "y1": 0.12676649093627926
          },
          {
           "calibration": false,
           "column_names": "Diagnosed_sol",
           "time": 36,
           "y": 0.0768292509019374,
           "y0": 0.021875121351331406,
           "y1": 0.13634815588593477
          },
          {
           "calibration": false,
           "column_names": "Diagnosed_sol",
           "time": 37,
           "y": 0.09029464796185485,
           "y0": 0.02757258247584101,
           "y1": 0.14259951114654534
          },
          {
           "calibration": false,
           "column_names": "Diagnosed_sol",
           "time": 38,
           "y": 0.10320140048861501,
           "y0": 0.034353834018111214,
           "y1": 0.14551019892096512
          },
          {
           "calibration": false,
           "column_names": "Diagnosed_sol",
           "time": 39,
           "y": 0.11473304778337474,
           "y0": 0.04222205020487305,
           "y1": 0.1457477539777755
          },
          {
           "calibration": false,
           "column_names": "Diagnosed_sol",
           "time": 40,
           "y": 0.12420662119984625,
           "y0": 0.0510822210460901,
           "y1": 0.1464980565011501
          },
          {
           "calibration": false,
           "column_names": "Diagnosed_sol",
           "time": 41,
           "y": 0.12803351134061808,
           "y0": 0.06072072442620988,
           "y1": 0.14642597138881677
          },
          {
           "calibration": false,
           "column_names": "Diagnosed_sol",
           "time": 42,
           "y": 0.12428913637995714,
           "y0": 0.07080274708569048,
           "y1": 0.14541316926479336
          },
          {
           "calibration": false,
           "column_names": "Diagnosed_sol",
           "time": 43,
           "y": 0.1215574704110622,
           "y0": 0.08089426904916759,
           "y1": 0.14235869199037543
          },
          {
           "calibration": false,
           "column_names": "Diagnosed_sol",
           "time": 44,
           "y": 0.1189646869897842,
           "y0": 0.09050716198980803,
           "y1": 0.13935005217790603
          },
          {
           "calibration": false,
           "column_names": "Diagnosed_sol",
           "time": 45,
           "y": 0.11910330131649965,
           "y0": 0.0975537549704313,
           "y1": 0.13511405810713764
          },
          {
           "calibration": false,
           "column_names": "Diagnosed_sol",
           "time": 46,
           "y": 0.11585939675569529,
           "y0": 0.09060869477689261,
           "y1": 0.1310415424406528
          },
          {
           "calibration": false,
           "column_names": "Diagnosed_sol",
           "time": 47,
           "y": 0.1134011819958686,
           "y0": 0.08482398428022857,
           "y1": 0.12704416438937183
          },
          {
           "calibration": false,
           "column_names": "Diagnosed_sol",
           "time": 48,
           "y": 0.10939430817961684,
           "y0": 0.07673761993646619,
           "y1": 0.12395846508443352
          },
          {
           "calibration": false,
           "column_names": "Diagnosed_sol",
           "time": 49,
           "y": 0.10293839126825324,
           "y0": 0.06907641626894467,
           "y1": 0.1213571041822433
          },
          {
           "calibration": false,
           "column_names": "Diagnosed_sol",
           "time": 50,
           "y": 0.0949330404400825,
           "y0": 0.06191406529396769,
           "y1": 0.1176035620272159
          },
          {
           "calibration": false,
           "column_names": "Diagnosed_sol",
           "time": 51,
           "y": 0.0872271582484245,
           "y0": 0.05529095530509945,
           "y1": 0.11517197340726847
          },
          {
           "calibration": false,
           "column_names": "Diagnosed_sol",
           "time": 52,
           "y": 0.07968976721167559,
           "y0": 0.049221940524876086,
           "y1": 0.1124563962221145
          },
          {
           "calibration": false,
           "column_names": "Diagnosed_sol",
           "time": 53,
           "y": 0.07244269549846645,
           "y0": 0.043702898919582345,
           "y1": 0.10911602601408958
          },
          {
           "calibration": false,
           "column_names": "Diagnosed_sol",
           "time": 54,
           "y": 0.06557065248489374,
           "y0": 0.038716430775821126,
           "y1": 0.10492565780878065
          },
          {
           "calibration": false,
           "column_names": "Diagnosed_sol",
           "time": 55,
           "y": 0.05912864767014975,
           "y0": 0.03423587121069429,
           "y1": 0.10011150799691675
          },
          {
           "calibration": false,
           "column_names": "Diagnosed_sol",
           "time": 56,
           "y": 0.05314748920500275,
           "y0": 0.030228858068585333,
           "y1": 0.0945921137928962
          },
          {
           "calibration": false,
           "column_names": "Diagnosed_sol",
           "time": 57,
           "y": 0.0476389918476343,
           "y0": 0.02665985403582452,
           "y1": 0.08823700100183478
          },
          {
           "calibration": false,
           "column_names": "Diagnosed_sol",
           "time": 58,
           "y": 0.042600611224770504,
           "y0": 0.023492035362869465,
           "y1": 0.08182558044791217
          },
          {
           "calibration": false,
           "column_names": "Diagnosed_sol",
           "time": 59,
           "y": 0.038019428029656355,
           "y0": 0.020688742306083398,
           "y1": 0.07548771835863582
          },
          {
           "calibration": false,
           "column_names": "Diagnosed_sol",
           "time": 60,
           "y": 0.03387505374848835,
           "y0": 0.01821443540975445,
           "y1": 0.06932422108948227
          },
          {
           "calibration": false,
           "column_names": "Diagnosed_sol",
           "time": 61,
           "y": 0.030142336152493898,
           "y0": 0.01602293960750096,
           "y1": 0.06341039389371866
          },
          {
           "calibration": false,
           "column_names": "Diagnosed_sol",
           "time": 62,
           "y": 0.02679314650595185,
           "y0": 0.01409537065774195,
           "y1": 0.057799306884407944
          },
          {
           "calibration": false,
           "column_names": "Diagnosed_sol",
           "time": 63,
           "y": 0.0237980308011174,
           "y0": 0.01240596030838782,
           "y1": 0.05252543985843649
          },
          {
           "calibration": false,
           "column_names": "Diagnosed_sol",
           "time": 64,
           "y": 0.02112714946269985,
           "y0": 0.010927266441285586,
           "y1": 0.0476083049550652
          },
          {
           "calibration": false,
           "column_names": "Diagnosed_sol",
           "time": 65,
           "y": 0.018751312047243097,
           "y0": 0.009634370496496505,
           "y1": 0.043055112659931116
          },
          {
           "calibration": false,
           "column_names": "Diagnosed_sol",
           "time": 66,
           "y": 0.0166423954069614,
           "y0": 0.008504811022430645,
           "y1": 0.0388640033081173
          },
          {
           "calibration": false,
           "column_names": "Diagnosed_sol",
           "time": 67,
           "y": 0.014773829374462349,
           "y0": 0.00751853154506527,
           "y1": 0.03502588775008911
          },
          {
           "calibration": false,
           "column_names": "Diagnosed_sol",
           "time": 68,
           "y": 0.013120757415890649,
           "y0": 0.0066576473880558505,
           "y1": 0.031526806019246505
          },
          {
           "calibration": false,
           "column_names": "Diagnosed_sol",
           "time": 69,
           "y": 0.0116601469926536,
           "y0": 0.005906283622607551,
           "y1": 0.028349108528345737
          },
          {
           "calibration": false,
           "column_names": "Diagnosed_sol",
           "time": 70,
           "y": 0.010370947420597,
           "y0": 0.00525046580005436,
           "y1": 0.02547328099608418
          },
          {
           "calibration": false,
           "column_names": "Diagnosed_sol",
           "time": 71,
           "y": 0.00923394132405515,
           "y0": 0.004677853593602715,
           "y1": 0.0228779996745288
          },
          {
           "calibration": false,
           "column_names": "Diagnosed_sol",
           "time": 72,
           "y": 0.0082180136814713,
           "y0": 0.00417764489538964,
           "y1": 0.020542074833065232
          },
          {
           "calibration": false,
           "column_names": "Diagnosed_sol",
           "time": 73,
           "y": 0.0073174722492694,
           "y0": 0.003740346315316825,
           "y1": 0.018444188404828244
          },
          {
           "calibration": false,
           "column_names": "Diagnosed_sol",
           "time": 74,
           "y": 0.0065408493392169,
           "y0": 0.003357716731261455,
           "y1": 0.016563638579100325
          },
          {
           "calibration": false,
           "column_names": "Diagnosed_sol",
           "time": 75,
           "y": 0.0058576683513819495,
           "y0": 0.0030225356575100952,
           "y1": 0.014880606532096781
          },
          {
           "calibration": false,
           "column_names": "Diagnosed_sol",
           "time": 76,
           "y": 0.0052567031234501994,
           "y0": 0.00272853533970187,
           "y1": 0.013376371795311556
          },
          {
           "calibration": false,
           "column_names": "Diagnosed_sol",
           "time": 77,
           "y": 0.004727841587737151,
           "y0": 0.00247026537545018,
           "y1": 0.012033408274874032
          },
          {
           "calibration": false,
           "column_names": "Diagnosed_sol",
           "time": 78,
           "y": 0.0042621456086635,
           "y0": 0.002242991724051485,
           "y1": 0.010835453774779966
          },
          {
           "calibration": false,
           "column_names": "Diagnosed_sol",
           "time": 79,
           "y": 0.00385173689574,
           "y0": 0.00204182773013592,
           "y1": 0.009767560567706748
          },
          {
           "calibration": false,
           "column_names": "Diagnosed_sol",
           "time": 80,
           "y": 0.0034896966535598,
           "y0": 0.0018625657481606702,
           "y1": 0.008815999608486856
          },
          {
           "calibration": false,
           "column_names": "Diagnosed_sol",
           "time": 81,
           "y": 0.00316993868909775,
           "y0": 0.0017038675956427502,
           "y1": 0.007968314271420203
          },
          {
           "calibration": false,
           "column_names": "Diagnosed_sol",
           "time": 82,
           "y": 0.0028871373506262,
           "y0": 0.0015630656271241501,
           "y1": 0.007213196111842912
          },
          {
           "calibration": false,
           "column_names": "Diagnosed_sol",
           "time": 83,
           "y": 0.0026366331148892,
           "y0": 0.001437850471120265,
           "y1": 0.006540450546890442
          },
          {
           "calibration": false,
           "column_names": "Diagnosed_sol",
           "time": 84,
           "y": 0.0024143542395904,
           "y0": 0.00132622026721944,
           "y1": 0.005940899276174543
          },
          {
           "calibration": false,
           "column_names": "Diagnosed_sol",
           "time": 85,
           "y": 0.0022167456336319,
           "y0": 0.0012264395714736902,
           "y1": 0.005406319955363813
          },
          {
           "calibration": false,
           "column_names": "Diagnosed_sol",
           "time": 86,
           "y": 0.00204071053303775,
           "y0": 0.001137013768311515,
           "y1": 0.004929358744993783
          },
          {
           "calibration": false,
           "column_names": "Diagnosed_sol",
           "time": 87,
           "y": 0.001883546821773,
           "y0": 0.00105439486214887,
           "y1": 0.004503455059602768
          },
          {
           "calibration": false,
           "column_names": "Diagnosed_sol",
           "time": 88,
           "y": 0.00174290209542955,
           "y0": 0.00097960606799457,
           "y1": 0.004122780519537589
          },
          {
           "calibration": false,
           "column_names": "Diagnosed_sol",
           "time": 89,
           "y": 0.00161676836432885,
           "y0": 0.00091216663422524,
           "y1": 0.0037821341655216337
          },
          {
           "calibration": false,
           "column_names": "Diagnosed_sol",
           "time": 90,
           "y": 0.0015079390723257498,
           "y0": 0.0008511844236635851,
           "y1": 0.0034769313642754635
          },
          {
           "calibration": false,
           "column_names": "Diagnosed_sol",
           "time": 91,
           "y": 0.0014092365163378001,
           "y0": 0.0007958872651215001,
           "y1": 0.0032030903501435786
          },
          {
           "calibration": false,
           "column_names": "Diagnosed_sol",
           "time": 92,
           "y": 0.0013194943894632,
           "y0": 0.00074560319771986,
           "y1": 0.0029570104088633585
          },
          {
           "calibration": false,
           "column_names": "Diagnosed_sol",
           "time": 93,
           "y": 0.0012376940576359,
           "y0": 0.000699748538318045,
           "y1": 0.002735506335739019
          },
          {
           "calibration": false,
           "column_names": "Diagnosed_sol",
           "time": 94,
           "y": 0.00116337387589735,
           "y0": 0.000657817383762375,
           "y1": 0.002535769913811204
          },
          {
           "calibration": false,
           "column_names": "Diagnosed_sol",
           "time": 95,
           "y": 0.0010964144021272,
           "y0": 0.0006193679262650849,
           "y1": 0.002355325338430654
          },
          {
           "calibration": false,
           "column_names": "Diagnosed_sol",
           "time": 96,
           "y": 0.00103361177025355,
           "y0": 0.00058386184100525,
           "y1": 0.002191984513774459
          },
          {
           "calibration": false,
           "column_names": "Diagnosed_sol",
           "time": 97,
           "y": 0.0009754245984368,
           "y0": 0.0005505440058186101,
           "y1": 0.002043824217980694
          },
          {
           "calibration": false,
           "column_names": "Diagnosed_sol",
           "time": 98,
           "y": 0.0009220040228683001,
           "y0": 0.0005197233054786,
           "y1": 0.0019091446010861142
          },
          {
           "calibration": false,
           "column_names": "Diagnosed_sol",
           "time": 99,
           "y": 0.0008728113898541501,
           "y0": 0.0004911484502371849,
           "y1": 0.0017864575434941442
          },
          {
           "calibration": true,
           "column_names": "Diagnosed_sol",
           "time": 0,
           "y": 3.333333324917476e-7,
           "y0": 3.333333324917476e-7,
           "y1": 3.333333324917476e-7
          },
          {
           "calibration": true,
           "column_names": "Diagnosed_sol",
           "time": 1,
           "y": 8.837274947381957e-7,
           "y0": 8.345089327121969e-7,
           "y1": 9.389599227915824e-7
          },
          {
           "calibration": true,
           "column_names": "Diagnosed_sol",
           "time": 2,
           "y": 0.0000015427341395479743,
           "y0": 0.0000014340390009692782,
           "y1": 0.0000016759719017045427
          },
          {
           "calibration": true,
           "column_names": "Diagnosed_sol",
           "time": 3,
           "y": 0.0000023940344817674486,
           "y0": 0.00000217893843910133,
           "y1": 0.000002673670053354727
          },
          {
           "calibration": true,
           "column_names": "Diagnosed_sol",
           "time": 4,
           "y": 0.0000035161714322384796,
           "y0": 0.000003111418732260063,
           "y1": 0.0000040761645095699345
          },
          {
           "calibration": true,
           "column_names": "Diagnosed_sol",
           "time": 5,
           "y": 0.000005099163217892055,
           "y0": 0.000004298987937545462,
           "y1": 0.0000060386319546523735
          },
          {
           "calibration": true,
           "column_names": "Diagnosed_sol",
           "time": 6,
           "y": 0.000007198851335488143,
           "y0": 0.000005866745277671726,
           "y1": 0.000008764796257310082
          },
          {
           "calibration": true,
           "column_names": "Diagnosed_sol",
           "time": 7,
           "y": 0.000010040680990641704,
           "y0": 0.000007893655174484593,
           "y1": 0.000012771469891958985
          },
          {
           "calibration": true,
           "column_names": "Diagnosed_sol",
           "time": 8,
           "y": 0.000014016695331520168,
           "y0": 0.000010523735090828268,
           "y1": 0.000018548731532064267
          },
          {
           "calibration": true,
           "column_names": "Diagnosed_sol",
           "time": 9,
           "y": 0.00001969443019333994,
           "y0": 0.000013984135375721962,
           "y1": 0.000026883534337684976
          },
          {
           "calibration": true,
           "column_names": "Diagnosed_sol",
           "time": 10,
           "y": 0.000027457106625661254,
           "y0": 0.000018544698923506077,
           "y1": 0.00003895313984685344
          },
          {
           "calibration": true,
           "column_names": "Diagnosed_sol",
           "time": 11,
           "y": 0.00003803865001827944,
           "y0": 0.000024562313683418324,
           "y1": 0.000056437663261021946
          },
          {
           "calibration": true,
           "column_names": "Diagnosed_sol",
           "time": 12,
           "y": 0.00005249615423963405,
           "y0": 0.00003250738427595934,
           "y1": 0.00008173678797902538
          },
          {
           "calibration": true,
           "column_names": "Diagnosed_sol",
           "time": 13,
           "y": 0.00007242186984512955,
           "y0": 0.00004300203036109451,
           "y1": 0.00011826765330618499
          },
          {
           "calibration": true,
           "column_names": "Diagnosed_sol",
           "time": 14,
           "y": 0.00009988631063601954,
           "y0": 0.00005710861041734462,
           "y1": 0.00017078746604960496
          },
          {
           "calibration": true,
           "column_names": "Diagnosed_sol",
           "time": 15,
           "y": 0.0001377578519168,
           "y0": 0.00007592231668240856,
           "y1": 0.0002465766578097399
          },
          {
           "calibration": true,
           "column_names": "Diagnosed_sol",
           "time": 16,
           "y": 0.00019099014753005,
           "y0": 0.00010092029733640374,
           "y1": 0.0003559119300916299
          },
          {
           "calibration": true,
           "column_names": "Diagnosed_sol",
           "time": 17,
           "y": 0.0002647500659804,
           "y0": 0.00013413444030442,
           "y1": 0.0005135692015755299
          },
          {
           "calibration": true,
           "column_names": "Diagnosed_sol",
           "time": 18,
           "y": 0.00036692514549935,
           "y0": 0.00017826090333978,
           "y1": 0.0007407463010167448
          },
          {
           "calibration": true,
           "column_names": "Diagnosed_sol",
           "time": 19,
           "y": 0.00050840279436665,
           "y0": 0.00023687657521801,
           "y1": 0.0010677739803213247
          },
          {
           "calibration": true,
           "column_names": "Diagnosed_sol",
           "time": 20,
           "y": 0.0007041867938823499,
           "y0": 0.00031472269038198,
           "y1": 0.0015378579439129295
          },
          {
           "calibration": true,
           "column_names": "Diagnosed_sol",
           "time": 21,
           "y": 0.00097489569452585,
           "y0": 0.00041807814704945,
           "y1": 0.0022121738409623093
          },
          {
           "calibration": true,
           "column_names": "Diagnosed_sol",
           "time": 22,
           "y": 0.0013487748219631,
           "y0": 0.000555246905423645,
           "y1": 0.0031765672261825943
          },
          {
           "calibration": true,
           "column_names": "Diagnosed_sol",
           "time": 23,
           "y": 0.00186431716429065,
           "y0": 0.000737006062990945,
           "y1": 0.0045499671716242385
          },
          {
           "calibration": true,
           "column_names": "Diagnosed_sol",
           "time": 24,
           "y": 0.0025736263487487502,
           "y0": 0.00097765683894974,
           "y1": 0.006494029355235338
          },
          {
           "calibration": true,
           "column_names": "Diagnosed_sol",
           "time": 25,
           "y": 0.00354656297713515,
           "y0": 0.001296196546172645,
           "y1": 0.009222544031217618
          },
          {
           "calibration": true,
           "column_names": "Diagnosed_sol",
           "time": 26,
           "y": 0.0048755458556115,
           "y0": 0.0017173131287563,
           "y1": 0.013006771448999602
          },
          {
           "calibration": true,
           "column_names": "Diagnosed_sol",
           "time": 27,
           "y": 0.0066807721741497,
           "y0": 0.00227312369970596,
           "y1": 0.01817013518884772
          },
          {
           "calibration": true,
           "column_names": "Diagnosed_sol",
           "time": 28,
           "y": 0.00912477448582645,
           "y0": 0.0030051117995753347,
           "y1": 0.02506164917722337
          },
          {
           "calibration": true,
           "column_names": "Diagnosed_sol",
           "time": 29,
           "y": 0.012387831695377799,
           "y0": 0.0039663880132138,
           "y1": 0.03399659991264336
          },
          {
           "calibration": true,
           "column_names": "Diagnosed_sol",
           "time": 30,
           "y": 0.01668406650424,
           "y0": 0.00522402590140697,
           "y1": 0.04515938945114608
          },
          {
           "calibration": true,
           "column_names": "Diagnosed_sol",
           "time": 31,
           "y": 0.02223838400095695,
           "y0": 0.006861342093907285,
           "y1": 0.05848284102976314
          },
          {
           "calibration": true,
           "column_names": "Diagnosed_sol",
           "time": 32,
           "y": 0.02925313357263795,
           "y0": 0.00897940723225469,
           "y1": 0.07354648448526854
          },
          {
           "calibration": true,
           "column_names": "Diagnosed_sol",
           "time": 33,
           "y": 0.0378564242273569,
           "y0": 0.01169688045047222,
           "y1": 0.0895553890615701
          },
          {
           "calibration": true,
           "column_names": "Diagnosed_sol",
           "time": 34,
           "y": 0.04803733527660365,
           "y0": 0.015146821085363586,
           "y1": 0.10517894029617304
          },
          {
           "calibration": true,
           "column_names": "Diagnosed_sol",
           "time": 35,
           "y": 0.0595853421837091,
           "y0": 0.01946847252547732,
           "y1": 0.11879884600639334
          },
          {
           "calibration": true,
           "column_names": "Diagnosed_sol",
           "time": 36,
           "y": 0.07206018269062034,
           "y0": 0.024792433902621244,
           "y1": 0.12993536815047257
          },
          {
           "calibration": true,
           "column_names": "Diagnosed_sol",
           "time": 37,
           "y": 0.08481642231345175,
           "y0": 0.03121767845004788,
           "y1": 0.13798334822058672
          },
          {
           "calibration": true,
           "column_names": "Diagnosed_sol",
           "time": 38,
           "y": 0.0971794836223125,
           "y0": 0.0387817347422242,
           "y1": 0.1427109785377979
          },
          {
           "calibration": true,
           "column_names": "Diagnosed_sol",
           "time": 39,
           "y": 0.1090724170207977,
           "y0": 0.047428018413484055,
           "y1": 0.14441450908780096
          },
          {
           "calibration": true,
           "column_names": "Diagnosed_sol",
           "time": 40,
           "y": 0.11921241134405135,
           "y0": 0.056979230046272235,
           "y1": 0.14471288323402404
          },
          {
           "calibration": true,
           "column_names": "Diagnosed_sol",
           "time": 41,
           "y": 0.12638836354017255,
           "y0": 0.06712515167891976,
           "y1": 0.14426228478550904
          },
          {
           "calibration": true,
           "column_names": "Diagnosed_sol",
           "time": 42,
           "y": 0.12720382958650583,
           "y0": 0.07734070830047127,
           "y1": 0.14351530820131295
          },
          {
           "calibration": true,
           "column_names": "Diagnosed_sol",
           "time": 43,
           "y": 0.12472515925765035,
           "y0": 0.08719196841120716,
           "y1": 0.13997741639614103
          },
          {
           "calibration": true,
           "column_names": "Diagnosed_sol",
           "time": 44,
           "y": 0.12369380518794054,
           "y0": 0.09608625173568722,
           "y1": 0.13760104328393932
          },
          {
           "calibration": true,
           "column_names": "Diagnosed_sol",
           "time": 45,
           "y": 0.11969616636633865,
           "y0": 0.1005878366529941,
           "y1": 0.1350227683782577
          },
          {
           "calibration": true,
           "column_names": "Diagnosed_sol",
           "time": 46,
           "y": 0.11848814785480495,
           "y0": 0.09661349356174466,
           "y1": 0.131181938201189
          },
          {
           "calibration": true,
           "column_names": "Diagnosed_sol",
           "time": 47,
           "y": 0.1153393723070621,
           "y0": 0.0880698394030332,
           "y1": 0.12708260044455524
          },
          {
           "calibration": true,
           "column_names": "Diagnosed_sol",
           "time": 48,
           "y": 0.11085141450166695,
           "y0": 0.07978409156203263,
           "y1": 0.12651340290904042
          },
          {
           "calibration": true,
           "column_names": "Diagnosed_sol",
           "time": 49,
           "y": 0.1062582768499851,
           "y0": 0.07189148478209971,
           "y1": 0.12507259882986538
          },
          {
           "calibration": true,
           "column_names": "Diagnosed_sol",
           "time": 50,
           "y": 0.0985828675329685,
           "y0": 0.06448085419833656,
           "y1": 0.1237007539719343
          },
          {
           "calibration": true,
           "column_names": "Diagnosed_sol",
           "time": 51,
           "y": 0.0908053740859031,
           "y0": 0.05760462787002323,
           "y1": 0.12003094367682927
          },
          {
           "calibration": true,
           "column_names": "Diagnosed_sol",
           "time": 52,
           "y": 0.08313705772161481,
           "y0": 0.05128621403127902,
           "y1": 0.11523096486926074
          },
          {
           "calibration": true,
           "column_names": "Diagnosed_sol",
           "time": 53,
           "y": 0.07571701332926745,
           "y0": 0.04552789237350222,
           "y1": 0.10996047556400294
          },
          {
           "calibration": true,
           "column_names": "Diagnosed_sol",
           "time": 54,
           "y": 0.06864517182111735,
           "y0": 0.040316444821655695,
           "y1": 0.10355851426720615
          },
          {
           "calibration": true,
           "column_names": "Diagnosed_sol",
           "time": 55,
           "y": 0.06198834069073195,
           "y0": 0.03562771007418628,
           "y1": 0.09682264402508732
          },
          {
           "calibration": true,
           "column_names": "Diagnosed_sol",
           "time": 56,
           "y": 0.055786548182368195,
           "y0": 0.031430720351636326,
           "y1": 0.09000718817114825
          },
          {
           "calibration": true,
           "column_names": "Diagnosed_sol",
           "time": 57,
           "y": 0.05005873739719385,
           "y0": 0.027690287679433757,
           "y1": 0.0832554347813129
          },
          {
           "calibration": true,
           "column_names": "Diagnosed_sol",
           "time": 58,
           "y": 0.044807521626353194,
           "y0": 0.024369295686483366,
           "y1": 0.0766296502202749
          },
          {
           "calibration": true,
           "column_names": "Diagnosed_sol",
           "time": 59,
           "y": 0.0400037858635187,
           "y0": 0.021386070549488,
           "y1": 0.07022602818906301
          },
          {
           "calibration": true,
           "column_names": "Diagnosed_sol",
           "time": 60,
           "y": 0.0356221683323383,
           "y0": 0.018754692189395388,
           "y1": 0.06411433145403858
          },
          {
           "calibration": true,
           "column_names": "Diagnosed_sol",
           "time": 61,
           "y": 0.031676881015300695,
           "y0": 0.01644268156960604,
           "y1": 0.05834206063300366
          },
          {
           "calibration": true,
           "column_names": "Diagnosed_sol",
           "time": 62,
           "y": 0.02813889738172285,
           "y0": 0.014415802480652856,
           "y1": 0.05293941907584664
          },
          {
           "calibration": true,
           "column_names": "Diagnosed_sol",
           "time": 63,
           "y": 0.0249772639945149,
           "y0": 0.012642256077378965,
           "y1": 0.047921308502554834
          },
          {
           "calibration": true,
           "column_names": "Diagnosed_sol",
           "time": 64,
           "y": 0.022160500288009602,
           "y0": 0.01109284935519096,
           "y1": 0.043288082070648604
          },
          {
           "calibration": true,
           "column_names": "Diagnosed_sol",
           "time": 65,
           "y": 0.01965755689889185,
           "y0": 0.00974102071486407,
           "y1": 0.03903400506824247
          },
          {
           "calibration": true,
           "column_names": "Diagnosed_sol",
           "time": 66,
           "y": 0.017438454553484847,
           "y0": 0.008562825946137245,
           "y1": 0.03514678943902248
          },
          {
           "calibration": true,
           "column_names": "Diagnosed_sol",
           "time": 67,
           "y": 0.015474770683795151,
           "y0": 0.007536757201887611,
           "y1": 0.03160965237766498
          },
          {
           "calibration": true,
           "column_names": "Diagnosed_sol",
           "time": 68,
           "y": 0.013739884365349949,
           "y0": 0.006643697456456695,
           "y1": 0.028402786515653096
          },
          {
           "calibration": true,
           "column_names": "Diagnosed_sol",
           "time": 69,
           "y": 0.01220921427011485,
           "y0": 0.00586665964219714,
           "y1": 0.02550450796261428
          },
          {
           "calibration": true,
           "column_names": "Diagnosed_sol",
           "time": 70,
           "y": 0.01085848361253735,
           "y0": 0.005190643086098076,
           "y1": 0.022892350796610072
          },
          {
           "calibration": true,
           "column_names": "Diagnosed_sol",
           "time": 71,
           "y": 0.00965465791523455,
           "y0": 0.004602459585294075,
           "y1": 0.02054368872195478
          },
          {
           "calibration": true,
           "column_names": "Diagnosed_sol",
           "time": 72,
           "y": 0.008596197701990601,
           "y0": 0.004090507258661055,
           "y1": 0.018436238449066805
          },
          {
           "calibration": true,
           "column_names": "Diagnosed_sol",
           "time": 73,
           "y": 0.0076660369522869,
           "y0": 0.003644685610197415,
           "y1": 0.016548617556691094
          },
          {
           "calibration": true,
           "column_names": "Diagnosed_sol",
           "time": 74,
           "y": 0.0068488384131342,
           "y0": 0.00326182083226738,
           "y1": 0.01486037443391974
          },
          {
           "calibration": true,
           "column_names": "Diagnosed_sol",
           "time": 75,
           "y": 0.00613091560080645,
           "y0": 0.002930133149493425,
           "y1": 0.0133523594588041
          },
          {
           "calibration": true,
           "column_names": "Diagnosed_sol",
           "time": 76,
           "y": 0.0055000986903905,
           "y0": 0.0026397070614620297,
           "y1": 0.012006662180647224
          },
          {
           "calibration": true,
           "column_names": "Diagnosed_sol",
           "time": 77,
           "y": 0.0049456015694885995,
           "y0": 0.00238506565801795,
           "y1": 0.01080677830614143
          },
          {
           "calibration": true,
           "column_names": "Diagnosed_sol",
           "time": 78,
           "y": 0.0044578965753316,
           "y0": 0.00216145910089831,
           "y1": 0.00973755908198648
          },
          {
           "calibration": true,
           "column_names": "Diagnosed_sol",
           "time": 79,
           "y": 0.00402858434244985,
           "y0": 0.001964765792945305,
           "y1": 0.00878529730252919
          },
          {
           "calibration": true,
           "column_names": "Diagnosed_sol",
           "time": 80,
           "y": 0.00365028961095955,
           "y0": 0.001791416073683635,
           "y1": 0.00793775781057769
          },
          {
           "calibration": true,
           "column_names": "Diagnosed_sol",
           "time": 81,
           "y": 0.00331653770990665,
           "y0": 0.001638319744961275,
           "y1": 0.007183013041503655
          },
          {
           "calibration": true,
           "column_names": "Diagnosed_sol",
           "time": 82,
           "y": 0.00302166584879155,
           "y0": 0.001502805447671505,
           "y1": 0.006510800565592895
          },
          {
           "calibration": true,
           "column_names": "Diagnosed_sol",
           "time": 83,
           "y": 0.00276071962434795,
           "y0": 0.00138256135396656,
           "y1": 0.00591190287377682
          },
          {
           "calibration": true,
           "column_names": "Diagnosed_sol",
           "time": 84,
           "y": 0.0025243306299671,
           "y0": 0.001273405377287355,
           "y1": 0.005378072313032975
          },
          {
           "calibration": true,
           "column_names": "Diagnosed_sol",
           "time": 85,
           "y": 0.00231277034617955,
           "y0": 0.0011721566959749551,
           "y1": 0.00490194126032287
          },
          {
           "calibration": true,
           "column_names": "Diagnosed_sol",
           "time": 86,
           "y": 0.00212486088275905,
           "y0": 0.001081948523642445,
           "y1": 0.004476932599209205
          },
          {
           "calibration": true,
           "column_names": "Diagnosed_sol",
           "time": 87,
           "y": 0.0019575977930798997,
           "y0": 0.0010013651510234701,
           "y1": 0.00409721033647651
          },
          {
           "calibration": true,
           "column_names": "Diagnosed_sol",
           "time": 88,
           "y": 0.0018083721515722,
           "y0": 0.000929177185753285,
           "y1": 0.00375755894929167
          },
          {
           "calibration": true,
           "column_names": "Diagnosed_sol",
           "time": 89,
           "y": 0.00167491397587575,
           "y0": 0.000864325463771755,
           "y1": 0.00345338317565611
          },
          {
           "calibration": true,
           "column_names": "Diagnosed_sol",
           "time": 90,
           "y": 0.0015552487457170501,
           "y0": 0.0008058879582676401,
           "y1": 0.0031806126469746047
          },
          {
           "calibration": true,
           "column_names": "Diagnosed_sol",
           "time": 91,
           "y": 0.0014476651558652,
           "y0": 0.000753075067768785,
           "y1": 0.002935635659378
          },
          {
           "calibration": true,
           "column_names": "Diagnosed_sol",
           "time": 92,
           "y": 0.0013506712857633,
           "y0": 0.000705199822550595,
           "y1": 0.002715262526180565
          },
          {
           "calibration": true,
           "column_names": "Diagnosed_sol",
           "time": 93,
           "y": 0.00126015720888965,
           "y0": 0.000661666729138195,
           "y1": 0.0025166803505271146
          },
          {
           "calibration": true,
           "column_names": "Diagnosed_sol",
           "time": 94,
           "y": 0.0011762735084629998,
           "y0": 0.00062196219223546,
           "y1": 0.00233740551630031
          },
          {
           "calibration": true,
           "column_names": "Diagnosed_sol",
           "time": 95,
           "y": 0.00110024499008425,
           "y0": 0.0005856394971487701,
           "y1": 0.00217524711042636
          },
          {
           "calibration": true,
           "column_names": "Diagnosed_sol",
           "time": 96,
           "y": 0.0010311487712897,
           "y0": 0.000552312895888405,
           "y1": 0.00202827610773958
          },
          {
           "calibration": true,
           "column_names": "Diagnosed_sol",
           "time": 97,
           "y": 0.00096818149904715,
           "y0": 0.00052161171624896,
           "y1": 0.00189479253021994
          },
          {
           "calibration": true,
           "column_names": "Diagnosed_sol",
           "time": 98,
           "y": 0.00091064223670395,
           "y0": 0.00049297988007307,
           "y1": 0.001773297617910355
          },
          {
           "calibration": true,
           "column_names": "Diagnosed_sol",
           "time": 99,
           "y": 0.0008579177083447001,
           "y0": 0.00046650414587925005,
           "y1": 0.0016630633675958348
          },
          {
           "calibration": false,
           "column_names": "Extinct_sol",
           "time": 0,
           "y": 5.830444339365266e-32,
           "y0": 5.193909740291181e-32,
           "y1": 6.571878085353692e-32
          },
          {
           "calibration": false,
           "column_names": "Extinct_sol",
           "time": 1,
           "y": 2.1206944186835663e-11,
           "y0": 1.899567421762005e-11,
           "y1": 2.416671637112122e-11
          },
          {
           "calibration": false,
           "column_names": "Extinct_sol",
           "time": 2,
           "y": 1.6253923901254907e-10,
           "y0": 1.4494294098277293e-10,
           "y1": 1.862475229597038e-10
          },
          {
           "calibration": false,
           "column_names": "Extinct_sol",
           "time": 3,
           "y": 5.804688396615632e-10,
           "y0": 5.178035972219774e-10,
           "y1": 6.711952910132267e-10
          },
          {
           "calibration": false,
           "column_names": "Extinct_sol",
           "time": 4,
           "y": 1.492933443536515e-9,
           "y0": 1.3248367680684934e-9,
           "y1": 1.7496986304266213e-9
          },
          {
           "calibration": false,
           "column_names": "Extinct_sol",
           "time": 5,
           "y": 3.2179044984204097e-9,
           "y0": 2.821748490422493e-9,
           "y1": 3.787861957427197e-9
          },
          {
           "calibration": false,
           "column_names": "Extinct_sol",
           "time": 6,
           "y": 6.198250135369676e-9,
           "y0": 5.316774398522739e-9,
           "y1": 7.33893605886493e-9
          },
          {
           "calibration": false,
           "column_names": "Extinct_sol",
           "time": 7,
           "y": 1.1060049764921587e-8,
           "y0": 9.209033269286237e-9,
           "y1": 1.3261354503413258e-8
          },
          {
           "calibration": false,
           "column_names": "Extinct_sol",
           "time": 8,
           "y": 1.8772572829561796e-8,
           "y0": 1.5160547572889983e-8,
           "y1": 2.275271739904383e-8
          },
          {
           "calibration": false,
           "column_names": "Extinct_sol",
           "time": 9,
           "y": 3.0509038850823345e-8,
           "y0": 2.4045876401146415e-8,
           "y1": 3.746441041840853e-8
          },
          {
           "calibration": false,
           "column_names": "Extinct_sol",
           "time": 10,
           "y": 4.767485428658347e-8,
           "y0": 3.709872142820814e-8,
           "y1": 5.986094393506392e-8
          },
          {
           "calibration": false,
           "column_names": "Extinct_sol",
           "time": 11,
           "y": 7.190564943471145e-8,
           "y0": 5.580407140826083e-8,
           "y1": 9.348606688774909e-8
          },
          {
           "calibration": false,
           "column_names": "Extinct_sol",
           "time": 12,
           "y": 1.0663517002740264e-7,
           "y0": 8.227631091983767e-8,
           "y1": 1.4356904287637917e-7
          },
          {
           "calibration": false,
           "column_names": "Extinct_sol",
           "time": 13,
           "y": 1.5630160277169128e-7,
           "y0": 1.1942467068593034e-7,
           "y1": 2.1761665252029162e-7
          },
          {
           "calibration": false,
           "column_names": "Extinct_sol",
           "time": 14,
           "y": 2.2637087226939911e-7,
           "y0": 1.700683021965688e-7,
           "y1": 3.264551835968632e-7
          },
          {
           "calibration": false,
           "column_names": "Extinct_sol",
           "time": 15,
           "y": 3.263175614165448e-7,
           "y0": 2.3810571931903728e-7,
           "y1": 4.871240918191687e-7
          },
          {
           "calibration": false,
           "column_names": "Extinct_sol",
           "time": 16,
           "y": 4.657589158796327e-7,
           "y0": 3.2955184252614346e-7,
           "y1": 7.270277734505725e-7
          },
          {
           "calibration": false,
           "column_names": "Extinct_sol",
           "time": 17,
           "y": 6.584255629604741e-7,
           "y0": 4.496688802646531e-7,
           "y1": 0.0000010801792882375594
          },
          {
           "calibration": false,
           "column_names": "Extinct_sol",
           "time": 18,
           "y": 9.350154641651898e-7,
           "y0": 6.097497816881514e-7,
           "y1": 0.0000015992845476375806
          },
          {
           "calibration": false,
           "column_names": "Extinct_sol",
           "time": 19,
           "y": 0.0000013267907092995301,
           "y0": 8.225878843859391e-7,
           "y1": 0.0000023614555288986594
          },
          {
           "calibration": false,
           "column_names": "Extinct_sol",
           "time": 20,
           "y": 0.000001877260331184516,
           "y0": 0.0000011050477667140512,
           "y1": 0.000003482106785668293
          },
          {
           "calibration": false,
           "column_names": "Extinct_sol",
           "time": 21,
           "y": 0.0000026499524210521486,
           "y0": 0.000001479352800970446,
           "y1": 0.0000051261657972645475
          },
          {
           "calibration": false,
           "column_names": "Extinct_sol",
           "time": 22,
           "y": 0.0000037336566265366855,
           "y0": 0.000001974800318294001,
           "y1": 0.000007534846645285142
          },
          {
           "calibration": false,
           "column_names": "Extinct_sol",
           "time": 23,
           "y": 0.000005248423576631467,
           "y0": 0.000002629980224355677,
           "y1": 0.00001105884257412981
          },
          {
           "calibration": false,
           "column_names": "Extinct_sol",
           "time": 24,
           "y": 0.000007310654154935037,
           "y0": 0.0000034957272418978395,
           "y1": 0.000016205148131120947
          },
          {
           "calibration": false,
           "column_names": "Extinct_sol",
           "time": 25,
           "y": 0.000010170725090574706,
           "y0": 0.000004638970062842418,
           "y1": 0.000023701100963080533
          },
          {
           "calibration": false,
           "column_names": "Extinct_sol",
           "time": 26,
           "y": 0.000014133260719972894,
           "y0": 0.000006147761769170756,
           "y1": 0.00003444816538831218
          },
          {
           "calibration": false,
           "column_names": "Extinct_sol",
           "time": 27,
           "y": 0.000019616133613453712,
           "y0": 0.000008137874237945652,
           "y1": 0.000049922889775189096
          },
          {
           "calibration": false,
           "column_names": "Extinct_sol",
           "time": 28,
           "y": 0.00002718974974413868,
           "y0": 0.000010761332805486744,
           "y1": 0.00007207032322185113
          },
          {
           "calibration": false,
           "column_names": "Extinct_sol",
           "time": 29,
           "y": 0.000037627953133778647,
           "y0": 0.000014217496209312229,
           "y1": 0.00010351275705029499
          },
          {
           "calibration": false,
           "column_names": "Extinct_sol",
           "time": 30,
           "y": 0.00005197131758905016,
           "y0": 0.000018767327765090163,
           "y1": 0.00014768695182276997
          },
          {
           "calibration": false,
           "column_names": "Extinct_sol",
           "time": 31,
           "y": 0.00007160360473790206,
           "y0": 0.000024751574710535354,
           "y1": 0.00020894450353805996
          },
          {
           "calibration": false,
           "column_names": "Extinct_sol",
           "time": 32,
           "y": 0.00009833778312895447,
           "y0": 0.00003261373785790056,
           "y1": 0.0002925739405327199
          },
          {
           "calibration": false,
           "column_names": "Extinct_sol",
           "time": 33,
           "y": 0.00013450609549180002,
           "y0": 0.00004292877292755293,
           "y1": 0.0004047218448249199
          },
          {
           "calibration": false,
           "column_names": "Extinct_sol",
           "time": 34,
           "y": 0.00018304103286935,
           "y0": 0.00005643804070132319,
           "y1": 0.0005521947197848449
          },
          {
           "calibration": false,
           "column_names": "Extinct_sol",
           "time": 35,
           "y": 0.00024715731706234997,
           "y0": 0.00007409120844386053,
           "y1": 0.0007421723392325998
          },
          {
           "calibration": false,
           "column_names": "Extinct_sol",
           "time": 36,
           "y": 0.0003313270717626,
           "y0": 0.00009709453916001011,
           "y1": 0.000981875002616935
          },
          {
           "calibration": false,
           "column_names": "Extinct_sol",
           "time": 37,
           "y": 0.00044056418118995,
           "y0": 0.00012696382946156,
           "y1": 0.0012782282719853999
          },
          {
           "calibration": false,
           "column_names": "Extinct_sol",
           "time": 38,
           "y": 0.0005803943786304,
           "y0": 0.000165580001339505,
           "y1": 0.0016375753737520196
          },
          {
           "calibration": false,
           "column_names": "Extinct_sol",
           "time": 39,
           "y": 0.00075674901017915,
           "y0": 0.00021524076073542502,
           "y1": 0.0020654570660553198
          },
          {
           "calibration": false,
           "column_names": "Extinct_sol",
           "time": 40,
           "y": 0.0009757524530868,
           "y0": 0.00027870106714538,
           "y1": 0.0025664676912128094
          },
          {
           "calibration": false,
           "column_names": "Extinct_sol",
           "time": 41,
           "y": 0.0012434812379069002,
           "y0": 0.0003591953107388,
           "y1": 0.0031441810424438946
          },
          {
           "calibration": false,
           "column_names": "Extinct_sol",
           "time": 42,
           "y": 0.0015630763373337,
           "y0": 0.000460432081308605,
           "y1": 0.0038011308293789446
          },
          {
           "calibration": false,
           "column_names": "Extinct_sol",
           "time": 43,
           "y": 0.00194075523177155,
           "y0": 0.0005865495186298601,
           "y1": 0.004538854141719605
          },
          {
           "calibration": false,
           "column_names": "Extinct_sol",
           "time": 44,
           "y": 0.0023808738915249497,
           "y0": 0.00074203914846287,
           "y1": 0.005357945873401999
          },
          {
           "calibration": false,
           "column_names": "Extinct_sol",
           "time": 45,
           "y": 0.002886981004849,
           "y0": 0.0009316343086538199,
           "y1": 0.006258143507875474
          },
          {
           "calibration": false,
           "column_names": "Extinct_sol",
           "time": 46,
           "y": 0.00346183450892565,
           "y0": 0.001160166430054165,
           "y1": 0.007232432533055514
          },
          {
           "calibration": false,
           "column_names": "Extinct_sol",
           "time": 47,
           "y": 0.0041073856409639,
           "y0": 0.0014324218325781949,
           "y1": 0.008282410260289835
          },
          {
           "calibration": false,
           "column_names": "Extinct_sol",
           "time": 48,
           "y": 0.00482481205835935,
           "y0": 0.0017529860837384198,
           "y1": 0.009407577197998718
          },
          {
           "calibration": false,
           "column_names": "Extinct_sol",
           "time": 49,
           "y": 0.00561453518457705,
           "y0": 0.00212610480375583,
           "y1": 0.010605383105576014
          },
          {
           "calibration": false,
           "column_names": "Extinct_sol",
           "time": 50,
           "y": 0.006476317998021799,
           "y0": 0.00255556956399228,
           "y1": 0.011872913315892145
          },
          {
           "calibration": false,
           "column_names": "Extinct_sol",
           "time": 51,
           "y": 0.0074092813301831,
           "y0": 0.0030446344404480553,
           "y1": 0.013207003520801614
          },
          {
           "calibration": false,
           "column_names": "Extinct_sol",
           "time": 52,
           "y": 0.008412038907408648,
           "y0": 0.00359595506452019,
           "y1": 0.014604214904829844
          },
          {
           "calibration": false,
           "column_names": "Extinct_sol",
           "time": 53,
           "y": 0.009482708293944549,
           "y0": 0.00421154582872983,
           "y1": 0.016060980968177284
          },
          {
           "calibration": false,
           "column_names": "Extinct_sol",
           "time": 54,
           "y": 0.01061903405934565,
           "y0": 0.00489280789624895,
           "y1": 0.017573621124029104
          },
          {
           "calibration": false,
           "column_names": "Extinct_sol",
           "time": 55,
           "y": 0.01180846057832235,
           "y0": 0.0056404799222945405,
           "y1": 0.019138401746749825
          },
          {
           "calibration": false,
           "column_names": "Extinct_sol",
           "time": 56,
           "y": 0.013024622574448499,
           "y0": 0.00645475012715901,
           "y1": 0.02075153924524778
          },
          {
           "calibration": false,
           "column_names": "Extinct_sol",
           "time": 57,
           "y": 0.01429274445399635,
           "y0": 0.0073352198582142146,
           "y1": 0.022409286629408543
          },
          {
           "calibration": false,
           "column_names": "Extinct_sol",
           "time": 58,
           "y": 0.015609790571033951,
           "y0": 0.008281021332368216,
           "y1": 0.024107931274920655
          },
          {
           "calibration": false,
           "column_names": "Extinct_sol",
           "time": 59,
           "y": 0.0169726805761456,
           "y0": 0.009290823573246575,
           "y1": 0.02584374267607921
          },
          {
           "calibration": false,
           "column_names": "Extinct_sol",
           "time": 60,
           "y": 0.01837829221040005,
           "y0": 0.01036291145719583,
           "y1": 0.027613213192671474
          },
          {
           "calibration": false,
           "column_names": "Extinct_sol",
           "time": 61,
           "y": 0.019823493435978848,
           "y0": 0.01149523188360033,
           "y1": 0.029412771202623807
          },
          {
           "calibration": false,
           "column_names": "Extinct_sol",
           "time": 62,
           "y": 0.021287539042532402,
           "y0": 0.012685455428436309,
           "y1": 0.031239102035760812
          },
          {
           "calibration": false,
           "column_names": "Extinct_sol",
           "time": 63,
           "y": 0.0227325474843382,
           "y0": 0.013931013178080246,
           "y1": 0.03308886159211391
          },
          {
           "calibration": false,
           "column_names": "Extinct_sol",
           "time": 64,
           "y": 0.02431011479347935,
           "y0": 0.015229195309802816,
           "y1": 0.03495893236249683
          },
          {
           "calibration": false,
           "column_names": "Extinct_sol",
           "time": 65,
           "y": 0.0259197214618325,
           "y0": 0.01657706629484885,
           "y1": 0.0368462603539228
          },
          {
           "calibration": false,
           "column_names": "Extinct_sol",
           "time": 66,
           "y": 0.0275357868522405,
           "y0": 0.01797170238569373,
           "y1": 0.038747958838939625
          },
          {
           "calibration": false,
           "column_names": "Extinct_sol",
           "time": 67,
           "y": 0.02915485110133885,
           "y0": 0.019410032220184757,
           "y1": 0.040661241300404036
          },
          {
           "calibration": false,
           "column_names": "Extinct_sol",
           "time": 68,
           "y": 0.030792928300797898,
           "y0": 0.020888960454612943,
           "y1": 0.04258349575102325
          },
          {
           "calibration": false,
           "column_names": "Extinct_sol",
           "time": 69,
           "y": 0.032447500154376,
           "y0": 0.022405461128801037,
           "y1": 0.04451215844601388
          },
          {
           "calibration": false,
           "column_names": "Extinct_sol",
           "time": 70,
           "y": 0.034162009134888593,
           "y0": 0.023954239301383486,
           "y1": 0.04644489567726845
          },
          {
           "calibration": false,
           "column_names": "Extinct_sol",
           "time": 71,
           "y": 0.0359615124762058,
           "y0": 0.025529061444103714,
           "y1": 0.048379452712833865
          },
          {
           "calibration": false,
           "column_names": "Extinct_sol",
           "time": 72,
           "y": 0.03777456469833845,
           "y0": 0.027131670899689115,
           "y1": 0.05031370818614955
          },
          {
           "calibration": false,
           "column_names": "Extinct_sol",
           "time": 73,
           "y": 0.03959860466420645,
           "y0": 0.028759093303233334,
           "y1": 0.0522456167265772
          },
          {
           "calibration": false,
           "column_names": "Extinct_sol",
           "time": 74,
           "y": 0.041431153193116146,
           "y0": 0.03040856076404446,
           "y1": 0.05417332667857399
          },
          {
           "calibration": false,
           "column_names": "Extinct_sol",
           "time": 75,
           "y": 0.043269805610179846,
           "y0": 0.03207727037370198,
           "y1": 0.056095099449157665
          },
          {
           "calibration": false,
           "column_names": "Extinct_sol",
           "time": 76,
           "y": 0.04511996544897555,
           "y0": 0.03376259244978422,
           "y1": 0.05800924859941001
          },
          {
           "calibration": false,
           "column_names": "Extinct_sol",
           "time": 77,
           "y": 0.047035921365022604,
           "y0": 0.035461964458227115,
           "y1": 0.059914195165038035
          },
          {
           "calibration": false,
           "column_names": "Extinct_sol",
           "time": 78,
           "y": 0.0489531904458999,
           "y0": 0.03717304784804578,
           "y1": 0.06180849391967051
          },
          {
           "calibration": false,
           "column_names": "Extinct_sol",
           "time": 79,
           "y": 0.0508695803582668,
           "y0": 0.038893306627869544,
           "y1": 0.06369088161736719
          },
          {
           "calibration": false,
           "column_names": "Extinct_sol",
           "time": 80,
           "y": 0.0527830962091684,
           "y0": 0.040620620921254104,
           "y1": 0.06555564887821667
          },
          {
           "calibration": false,
           "column_names": "Extinct_sol",
           "time": 81,
           "y": 0.0546222515404224,
           "y0": 0.04233819972723721,
           "y1": 0.06738587804138657
          },
          {
           "calibration": false,
           "column_names": "Extinct_sol",
           "time": 82,
           "y": 0.05642811767756935,
           "y0": 0.043967860937118464,
           "y1": 0.06919931471347804
          },
          {
           "calibration": false,
           "column_names": "Extinct_sol",
           "time": 83,
           "y": 0.0582248959690332,
           "y0": 0.0455959046259522,
           "y1": 0.0709949724376201
          },
          {
           "calibration": false,
           "column_names": "Extinct_sol",
           "time": 84,
           "y": 0.06001126952469345,
           "y0": 0.04722079541534182,
           "y1": 0.07277184240519993
          },
          {
           "calibration": false,
           "column_names": "Extinct_sol",
           "time": 85,
           "y": 0.06178596802055835,
           "y0": 0.04884117916226377,
           "y1": 0.07452941797673697
          },
          {
           "calibration": false,
           "column_names": "Extinct_sol",
           "time": 86,
           "y": 0.0635479055345058,
           "y0": 0.05045559108257287,
           "y1": 0.07626676335930818
          },
          {
           "calibration": false,
           "column_names": "Extinct_sol",
           "time": 87,
           "y": 0.06536757200956339,
           "y0": 0.0520628415048122,
           "y1": 0.07798331826925273
          },
          {
           "calibration": false,
           "column_names": "Extinct_sol",
           "time": 88,
           "y": 0.06720946356654164,
           "y0": 0.053661724738776624,
           "y1": 0.07967858538031575
          },
          {
           "calibration": false,
           "column_names": "Extinct_sol",
           "time": 89,
           "y": 0.06903731077909464,
           "y0": 0.05525112822651857,
           "y1": 0.08135190382599826
          },
          {
           "calibration": false,
           "column_names": "Extinct_sol",
           "time": 90,
           "y": 0.070850234478712,
           "y0": 0.05683004111051557,
           "y1": 0.08300294242799276
          },
          {
           "calibration": false,
           "column_names": "Extinct_sol",
           "time": 91,
           "y": 0.07252243161201474,
           "y0": 0.05839746054261917,
           "y1": 0.08463127501308916
          },
          {
           "calibration": false,
           "column_names": "Extinct_sol",
           "time": 92,
           "y": 0.0741499215364456,
           "y0": 0.05995259061455724,
           "y1": 0.08623654097318643
          },
          {
           "calibration": false,
           "column_names": "Extinct_sol",
           "time": 93,
           "y": 0.0758915245532989,
           "y0": 0.06149446368217464,
           "y1": 0.08781845010817048
          },
          {
           "calibration": false,
           "column_names": "Extinct_sol",
           "time": 94,
           "y": 0.07756969332695005,
           "y0": 0.06301823817193504,
           "y1": 0.08937681615352622
          },
          {
           "calibration": false,
           "column_names": "Extinct_sol",
           "time": 95,
           "y": 0.0791596844792366,
           "y0": 0.06452328972518442,
           "y1": 0.09091131687164303
          },
          {
           "calibration": false,
           "column_names": "Extinct_sol",
           "time": 96,
           "y": 0.08059160783886905,
           "y0": 0.06601332686841485,
           "y1": 0.09242185130715365
          },
          {
           "calibration": false,
           "column_names": "Extinct_sol",
           "time": 97,
           "y": 0.08198383450508115,
           "y0": 0.0674877759069204,
           "y1": 0.09390838444232935
          },
          {
           "calibration": false,
           "column_names": "Extinct_sol",
           "time": 98,
           "y": 0.0833558999001979,
           "y0": 0.06894613802433011,
           "y1": 0.0953706853091716
          },
          {
           "calibration": false,
           "column_names": "Extinct_sol",
           "time": 99,
           "y": 0.0847077332437038,
           "y0": 0.07038790918886653,
           "y1": 0.09680889397859566
          },
          {
           "calibration": true,
           "column_names": "Extinct_sol",
           "time": 0,
           "y": 5.95795785231224e-32,
           "y0": 5.409828157295348e-32,
           "y1": 6.917631557872989e-32
          },
          {
           "calibration": true,
           "column_names": "Extinct_sol",
           "time": 1,
           "y": 2.1266553622278916e-11,
           "y0": 1.882320584123409e-11,
           "y1": 2.475334208440483e-11
          },
          {
           "calibration": true,
           "column_names": "Extinct_sol",
           "time": 2,
           "y": 1.6117119444603034e-10,
           "y0": 1.4310002002804188e-10,
           "y1": 1.9089147554329776e-10
          },
          {
           "calibration": true,
           "column_names": "Extinct_sol",
           "time": 3,
           "y": 5.734798191880941e-10,
           "y0": 5.12736370028577e-10,
           "y1": 6.840704502852901e-10
          },
          {
           "calibration": true,
           "column_names": "Extinct_sol",
           "time": 4,
           "y": 1.4817764792951491e-9,
           "y0": 1.3255476716267365e-9,
           "y1": 1.7863756474056914e-9
          },
          {
           "calibration": true,
           "column_names": "Extinct_sol",
           "time": 5,
           "y": 3.191750863607013e-9,
           "y0": 2.8292011400310456e-9,
           "y1": 3.905000012238702e-9
          },
          {
           "calibration": true,
           "column_names": "Extinct_sol",
           "time": 6,
           "y": 6.1570679665834405e-9,
           "y0": 5.351661624963811e-9,
           "y1": 7.625420472834322e-9
          },
          {
           "calibration": true,
           "column_names": "Extinct_sol",
           "time": 7,
           "y": 1.0880768730459067e-8,
           "y0": 9.341116458116972e-9,
           "y1": 1.3790929687118593e-8
          },
          {
           "calibration": true,
           "column_names": "Extinct_sol",
           "time": 8,
           "y": 1.8216432806639205e-8,
           "y0": 1.5392024366178703e-8,
           "y1": 2.3578508923094432e-8
          },
          {
           "calibration": true,
           "column_names": "Extinct_sol",
           "time": 9,
           "y": 2.9502908560630203e-8,
           "y0": 2.4257156461260368e-8,
           "y1": 3.8727865891985404e-8
          },
          {
           "calibration": true,
           "column_names": "Extinct_sol",
           "time": 10,
           "y": 4.620796900667301e-8,
           "y0": 3.68868041888959e-8,
           "y1": 6.174330202668443e-8
          },
          {
           "calibration": true,
           "column_names": "Extinct_sol",
           "time": 11,
           "y": 7.027336934584127e-8,
           "y0": 5.4626562295823077e-8,
           "y1": 9.613695937105148e-8
          },
          {
           "calibration": true,
           "column_names": "Extinct_sol",
           "time": 12,
           "y": 1.0588397358901604e-7,
           "y0": 7.920924360860226e-8,
           "y1": 1.4728468542557493e-7
          },
          {
           "calibration": true,
           "column_names": "Extinct_sol",
           "time": 13,
           "y": 1.5478129000712215e-7,
           "y0": 1.1292405481810874e-7,
           "y1": 2.2256755656258066e-7
          },
          {
           "calibration": true,
           "column_names": "Extinct_sol",
           "time": 14,
           "y": 2.2525955500896094e-7,
           "y0": 1.5879405097507517e-7,
           "y1": 3.327708839151455e-7
          },
          {
           "calibration": true,
           "column_names": "Extinct_sol",
           "time": 15,
           "y": 3.2419688977824995e-7,
           "y0": 2.208134020520447e-7,
           "y1": 4.934511878218472e-7
          },
          {
           "calibration": true,
           "column_names": "Extinct_sol",
           "time": 16,
           "y": 4.640960753476975e-7,
           "y0": 3.042641068873309e-7,
           "y1": 7.271831094612935e-7
          },
          {
           "calibration": true,
           "column_names": "Extinct_sol",
           "time": 17,
           "y": 6.623605770528229e-7,
           "y0": 4.1605412377521133e-7,
           "y1": 0.0000010684888252399105
          },
          {
           "calibration": true,
           "column_names": "Extinct_sol",
           "time": 18,
           "y": 9.370790508000937e-7,
           "y0": 5.652656369647957e-7,
           "y1": 0.0000015802582652213459
          },
          {
           "calibration": true,
           "column_names": "Extinct_sol",
           "time": 19,
           "y": 0.0000013148123230166675,
           "y0": 7.641221515086727e-7,
           "y1": 0.000002328846335331036
          },
          {
           "calibration": true,
           "column_names": "Extinct_sol",
           "time": 20,
           "y": 0.0000018424450445309049,
           "y0": 0.0000010286655310665082,
           "y1": 0.0000033963663440772503
          },
          {
           "calibration": true,
           "column_names": "Extinct_sol",
           "time": 21,
           "y": 0.000002594503371255996,
           "y0": 0.0000013800925898976858,
           "y1": 0.00000494402845561126
          },
          {
           "calibration": true,
           "column_names": "Extinct_sol",
           "time": 22,
           "y": 0.0000036374509591041715,
           "y0": 0.0000018464205936652432,
           "y1": 0.000007185543540799697
          },
          {
           "calibration": true,
           "column_names": "Extinct_sol",
           "time": 23,
           "y": 0.000005087329782327288,
           "y0": 0.0000024667217758178594,
           "y1": 0.00001042296516970964
          },
          {
           "calibration": true,
           "column_names": "Extinct_sol",
           "time": 24,
           "y": 0.000007084035814841627,
           "y0": 0.0000032946967166935793,
           "y1": 0.000015016716452009857
          },
          {
           "calibration": true,
           "column_names": "Extinct_sol",
           "time": 25,
           "y": 0.000009840603979682783,
           "y0": 0.0000043938496901319015,
           "y1": 0.00002160227759304689
          },
          {
           "calibration": true,
           "column_names": "Extinct_sol",
           "time": 26,
           "y": 0.000013654188478540163,
           "y0": 0.000005852141521245358,
           "y1": 0.000031020635378808945
          },
          {
           "calibration": true,
           "column_names": "Extinct_sol",
           "time": 27,
           "y": 0.000018923470634035766,
           "y0": 0.000007785795150994091,
           "y1": 0.00004444620335561922
          },
          {
           "calibration": true,
           "column_names": "Extinct_sol",
           "time": 28,
           "y": 0.000026192145924142096,
           "y0": 0.000010348177283958647,
           "y1": 0.00006349884497467428
          },
          {
           "calibration": true,
           "column_names": "Extinct_sol",
           "time": 29,
           "y": 0.000036197367080603726,
           "y0": 0.000013741411521550617,
           "y1": 0.00009037560521392151
          },
          {
           "calibration": true,
           "column_names": "Extinct_sol",
           "time": 30,
           "y": 0.00004983476537745446,
           "y0": 0.000018231185094919056,
           "y1": 0.00012799284741043
          },
          {
           "calibration": true,
           "column_names": "Extinct_sol",
           "time": 31,
           "y": 0.0000684021033521276,
           "y0": 0.0000241657188780664,
           "y1": 0.00018011659631151
          },
          {
           "calibration": true,
           "column_names": "Extinct_sol",
           "time": 32,
           "y": 0.00009363267599837855,
           "y0": 0.00003200005794496974,
           "y1": 0.000251452092197695
          },
          {
           "calibration": true,
           "column_names": "Extinct_sol",
           "time": 33,
           "y": 0.0001277276169275,
           "y0": 0.00004232559986121487,
           "y1": 0.00034765501040960004
          },
          {
           "calibration": true,
           "column_names": "Extinct_sol",
           "time": 34,
           "y": 0.00017347917309955,
           "y0": 0.00005590649034274975,
           "y1": 0.00047524123510805
          },
          {
           "calibration": true,
           "column_names": "Extinct_sol",
           "time": 35,
           "y": 0.00023434507602354998,
           "y0": 0.00007372234249487519,
           "y1": 0.00064138236921272
          },
          {
           "calibration": true,
           "column_names": "Extinct_sol",
           "time": 36,
           "y": 0.00031448704248755,
           "y0": 0.0000970167813648004,
           "y1": 0.00085361468081824
          },
          {
           "calibration": true,
           "column_names": "Extinct_sol",
           "time": 37,
           "y": 0.00041875308670565,
           "y0": 0.00012734914198512,
           "y1": 0.001119499886408385
          },
          {
           "calibration": true,
           "column_names": "Extinct_sol",
           "time": 38,
           "y": 0.0005528042674995499,
           "y0": 0.000166646427533105,
           "y1": 0.001446289254818065
          },
          {
           "calibration": true,
           "column_names": "Extinct_sol",
           "time": 39,
           "y": 0.00072283309418705,
           "y0": 0.00021724721664211002,
           "y1": 0.00184061569743783
          },
          {
           "calibration": true,
           "column_names": "Extinct_sol",
           "time": 40,
           "y": 0.0009348210296593,
           "y0": 0.000281931432254995,
           "y1": 0.002308271965011895
          },
          {
           "calibration": true,
           "column_names": "Extinct_sol",
           "time": 41,
           "y": 0.0011946919257751999,
           "y0": 0.00036392617621454,
           "y1": 0.002854049648158205
          },
          {
           "calibration": true,
           "column_names": "Extinct_sol",
           "time": 42,
           "y": 0.00150383834261445,
           "y0": 0.00046687999420096,
           "y1": 0.003481650457251775
          },
          {
           "calibration": true,
           "column_names": "Extinct_sol",
           "time": 43,
           "y": 0.0018699159263633,
           "y0": 0.000594802896375745,
           "y1": 0.0041936830617487
          },
          {
           "calibration": true,
           "column_names": "Extinct_sol",
           "time": 44,
           "y": 0.0022972790757193502,
           "y0": 0.0007519696984672649,
           "y1": 0.004981380188837589
          },
          {
           "calibration": true,
           "column_names": "Extinct_sol",
           "time": 45,
           "y": 0.002789570367895,
           "y0": 0.00094279985351016,
           "y1": 0.0058426033239811345
          },
          {
           "calibration": true,
           "column_names": "Extinct_sol",
           "time": 46,
           "y": 0.0033496760297566,
           "y0": 0.00117171664023768,
           "y1": 0.0067847551777958145
          },
          {
           "calibration": true,
           "column_names": "Extinct_sol",
           "time": 47,
           "y": 0.00397970760241145,
           "y0": 0.001443008490605225,
           "y1": 0.00781002691946918
          },
          {
           "calibration": true,
           "column_names": "Extinct_sol",
           "time": 48,
           "y": 0.0046810123603790495,
           "y0": 0.0017606958746909601,
           "y1": 0.00892205839045342
          },
          {
           "calibration": true,
           "column_names": "Extinct_sol",
           "time": 49,
           "y": 0.0054542187135666505,
           "y0": 0.00212841653265052,
           "y1": 0.010112190060317465
          },
          {
           "calibration": true,
           "column_names": "Extinct_sol",
           "time": 50,
           "y": 0.0062992807943373,
           "y0": 0.0025493383756838,
           "y1": 0.01138241481967266
          },
          {
           "calibration": true,
           "column_names": "Extinct_sol",
           "time": 51,
           "y": 0.00721554527990515,
           "y0": 0.00302609894424673,
           "y1": 0.012727142218500334
          },
          {
           "calibration": true,
           "column_names": "Extinct_sol",
           "time": 52,
           "y": 0.0082018296234309,
           "y0": 0.003560769942123395,
           "y1": 0.014141830289736333
          },
          {
           "calibration": true,
           "column_names": "Extinct_sol",
           "time": 53,
           "y": 0.009256478399038249,
           "y0": 0.00415483729448165,
           "y1": 0.01559752733446651
          },
          {
           "calibration": true,
           "column_names": "Extinct_sol",
           "time": 54,
           "y": 0.01037742989137765,
           "y0": 0.004809229355305385,
           "y1": 0.017076804116368263
          },
          {
           "calibration": true,
           "column_names": "Extinct_sol",
           "time": 55,
           "y": 0.011562303174287001,
           "y0": 0.005524322902783695,
           "y1": 0.01860793819650999
          },
          {
           "calibration": true,
           "column_names": "Extinct_sol",
           "time": 56,
           "y": 0.01280843326821915,
           "y0": 0.00629997497890139,
           "y1": 0.02019377863034598
          },
          {
           "calibration": true,
           "column_names": "Extinct_sol",
           "time": 57,
           "y": 0.01411297218874095,
           "y0": 0.007135589560493795,
           "y1": 0.021836802177131093
          },
          {
           "calibration": true,
           "column_names": "Extinct_sol",
           "time": 58,
           "y": 0.0154728321358561,
           "y0": 0.00803014845587305,
           "y1": 0.023544682189822128
          },
          {
           "calibration": true,
           "column_names": "Extinct_sol",
           "time": 59,
           "y": 0.016886007040739053,
           "y0": 0.00898226085118946,
           "y1": 0.025292445532977516
          },
          {
           "calibration": true,
           "column_names": "Extinct_sol",
           "time": 60,
           "y": 0.01836287602782245,
           "y0": 0.009990196302533135,
           "y1": 0.02707632984966036
          },
          {
           "calibration": true,
           "column_names": "Extinct_sol",
           "time": 61,
           "y": 0.019886082969605902,
           "y0": 0.011052001500502165,
           "y1": 0.028892619349062388
          },
          {
           "calibration": true,
           "column_names": "Extinct_sol",
           "time": 62,
           "y": 0.0214237850159406,
           "y0": 0.01216547256335608,
           "y1": 0.03073773244395848
          },
          {
           "calibration": true,
           "column_names": "Extinct_sol",
           "time": 63,
           "y": 0.02297489251941435,
           "y0": 0.013328215945512045,
           "y1": 0.03262257240712634
          },
          {
           "calibration": true,
           "column_names": "Extinct_sol",
           "time": 64,
           "y": 0.02455725800245995,
           "y0": 0.014537706272676535,
           "y1": 0.03455889746546738
          },
          {
           "calibration": true,
           "column_names": "Extinct_sol",
           "time": 65,
           "y": 0.026167636737227398,
           "y0": 0.015791327971965002,
           "y1": 0.0365156440064311
          },
          {
           "calibration": true,
           "column_names": "Extinct_sol",
           "time": 66,
           "y": 0.02780289668589825,
           "y0": 0.017085857316851576,
           "y1": 0.038489546813070714
          },
          {
           "calibration": true,
           "column_names": "Extinct_sol",
           "time": 67,
           "y": 0.02945998869836325,
           "y0": 0.01841635592281814,
           "y1": 0.04048211667686693
          },
          {
           "calibration": true,
           "column_names": "Extinct_sol",
           "time": 68,
           "y": 0.0311359763145446,
           "y0": 0.01978238224983206,
           "y1": 0.042491150833666294
          },
          {
           "calibration": true,
           "column_names": "Extinct_sol",
           "time": 69,
           "y": 0.032828040421009,
           "y0": 0.021181181725114524,
           "y1": 0.044508974440395754
          },
          {
           "calibration": true,
           "column_names": "Extinct_sol",
           "time": 70,
           "y": 0.03453344479203215,
           "y0": 0.02260999474674454,
           "y1": 0.04653278887271873
          },
          {
           "calibration": true,
           "column_names": "Extinct_sol",
           "time": 71,
           "y": 0.0362292509526014,
           "y0": 0.02406610948964951,
           "y1": 0.04856006558984515
          },
          {
           "calibration": true,
           "column_names": "Extinct_sol",
           "time": 72,
           "y": 0.037923846393823554,
           "y0": 0.025546934641897605,
           "y1": 0.05058839842677112
          },
          {
           "calibration": true,
           "column_names": "Extinct_sol",
           "time": 73,
           "y": 0.039624350145459106,
           "y0": 0.02704985765740269,
           "y1": 0.05261544976383441
          },
          {
           "calibration": true,
           "column_names": "Extinct_sol",
           "time": 74,
           "y": 0.041319841518998104,
           "y0": 0.02860148763284079,
           "y1": 0.05463905259966849
          },
          {
           "calibration": true,
           "column_names": "Extinct_sol",
           "time": 75,
           "y": 0.04298633150756355,
           "y0": 0.030174593534320577,
           "y1": 0.0566572157666087
          },
          {
           "calibration": true,
           "column_names": "Extinct_sol",
           "time": 76,
           "y": 0.0446702111512422,
           "y0": 0.0317641342058777,
           "y1": 0.05866805016994472
          },
          {
           "calibration": true,
           "column_names": "Extinct_sol",
           "time": 77,
           "y": 0.04634836502373215,
           "y0": 0.03336776625365011,
           "y1": 0.06066968403756617
          },
          {
           "calibration": true,
           "column_names": "Extinct_sol",
           "time": 78,
           "y": 0.0480172093957662,
           "y0": 0.034983175434172106,
           "y1": 0.06266053058207026
          },
          {
           "calibration": true,
           "column_names": "Extinct_sol",
           "time": 79,
           "y": 0.0497417766600847,
           "y0": 0.036608269065618475,
           "y1": 0.06463915966451164
          },
          {
           "calibration": true,
           "column_names": "Extinct_sol",
           "time": 80,
           "y": 0.0514974612742662,
           "y0": 0.038240868411958145,
           "y1": 0.06660402975976466
          },
          {
           "calibration": true,
           "column_names": "Extinct_sol",
           "time": 81,
           "y": 0.053216367959976155,
           "y0": 0.039879065752029354,
           "y1": 0.06855386793613427
          },
          {
           "calibration": true,
           "column_names": "Extinct_sol",
           "time": 82,
           "y": 0.05492615140974515,
           "y0": 0.041520885378122284,
           "y1": 0.07048738114535805
          },
          {
           "calibration": true,
           "column_names": "Extinct_sol",
           "time": 83,
           "y": 0.0566256139427423,
           "y0": 0.04316461961716408,
           "y1": 0.07242313027381891
          },
          {
           "calibration": true,
           "column_names": "Extinct_sol",
           "time": 84,
           "y": 0.05831353366374965,
           "y0": 0.044808519445359685,
           "y1": 0.0743528392165899
          },
          {
           "calibration": true,
           "column_names": "Extinct_sol",
           "time": 85,
           "y": 0.059988815337419454,
           "y0": 0.0464510351419448,
           "y1": 0.07626544758677477
          },
          {
           "calibration": true,
           "column_names": "Extinct_sol",
           "time": 86,
           "y": 0.06167305074632165,
           "y0": 0.0480905476957559,
           "y1": 0.07815994285047051
          },
          {
           "calibration": true,
           "column_names": "Extinct_sol",
           "time": 87,
           "y": 0.06345436722040175,
           "y0": 0.04972568321973084,
           "y1": 0.08003571704030031
          },
          {
           "calibration": true,
           "column_names": "Extinct_sol",
           "time": 88,
           "y": 0.0652211084961891,
           "y0": 0.05135514419525857,
           "y1": 0.0818918108940124
          },
          {
           "calibration": true,
           "column_names": "Extinct_sol",
           "time": 89,
           "y": 0.0669722072780132,
           "y0": 0.052977619320154164,
           "y1": 0.08372774422168724
          },
          {
           "calibration": true,
           "column_names": "Extinct_sol",
           "time": 90,
           "y": 0.06870689615607256,
           "y0": 0.054591939039528366,
           "y1": 0.0855427026748657
          },
          {
           "calibration": true,
           "column_names": "Extinct_sol",
           "time": 91,
           "y": 0.07040050998330115,
           "y0": 0.05619696453213687,
           "y1": 0.08733623251318927
          },
          {
           "calibration": true,
           "column_names": "Extinct_sol",
           "time": 92,
           "y": 0.0720353573560714,
           "y0": 0.057791698351502364,
           "y1": 0.08910798504948611
          },
          {
           "calibration": true,
           "column_names": "Extinct_sol",
           "time": 93,
           "y": 0.07364559918642041,
           "y0": 0.05937524195760483,
           "y1": 0.09085725061595433
          },
          {
           "calibration": true,
           "column_names": "Extinct_sol",
           "time": 94,
           "y": 0.07519874349236486,
           "y0": 0.06094840541481967,
           "y1": 0.09258380867540834
          },
          {
           "calibration": true,
           "column_names": "Extinct_sol",
           "time": 95,
           "y": 0.0767326615750789,
           "y0": 0.06253396458923813,
           "y1": 0.09428733997046944
          },
          {
           "calibration": true,
           "column_names": "Extinct_sol",
           "time": 96,
           "y": 0.0782467052340507,
           "y0": 0.06410670727491376,
           "y1": 0.09596749134361736
          },
          {
           "calibration": true,
           "column_names": "Extinct_sol",
           "time": 97,
           "y": 0.0797406956553459,
           "y0": 0.065665877982974,
           "y1": 0.09760097227990626
          },
          {
           "calibration": true,
           "column_names": "Extinct_sol",
           "time": 98,
           "y": 0.08124046400189394,
           "y0": 0.06721070148050781,
           "y1": 0.09924088567495337
          },
          {
           "calibration": true,
           "column_names": "Extinct_sol",
           "time": 99,
           "y": 0.08275569230318065,
           "y0": 0.06874074339866634,
           "y1": 0.10085523240268224
          },
          {
           "calibration": false,
           "column_names": "Healed_sol",
           "time": 0,
           "y": 1.2747550139108232e-17,
           "y0": 1.1621394275852712e-17,
           "y1": 1.3592856181397706e-17
          },
          {
           "calibration": false,
           "column_names": "Healed_sol",
           "time": 1,
           "y": 1.5807431452685705e-7,
           "y0": 1.4395225917951392e-7,
           "y1": 1.6865564873569382e-7
          },
          {
           "calibration": false,
           "column_names": "Healed_sol",
           "time": 2,
           "y": 3.906009879983685e-7,
           "y0": 3.5408608738407566e-7,
           "y1": 4.2506906794415045e-7
          },
          {
           "calibration": false,
           "column_names": "Healed_sol",
           "time": 3,
           "y": 7.188747019881703e-7,
           "y0": 6.540206584304542e-7,
           "y1": 8.106503202043314e-7
          },
          {
           "calibration": false,
           "column_names": "Healed_sol",
           "time": 4,
           "y": 0.000001206700460443244,
           "y0": 0.0000010694763147967024,
           "y1": 0.000001387042317446685
          },
          {
           "calibration": false,
           "column_names": "Healed_sol",
           "time": 5,
           "y": 0.000001894430681659287,
           "y0": 0.00000163978799605502,
           "y1": 0.0000022405414142667723
          },
          {
           "calibration": false,
           "column_names": "Healed_sol",
           "time": 6,
           "y": 0.0000028663267812589766,
           "y0": 0.0000024187010694731727,
           "y1": 0.0000034986757100341492
          },
          {
           "calibration": false,
           "column_names": "Healed_sol",
           "time": 7,
           "y": 0.000004233368372297264,
           "y0": 0.0000034565100349936984,
           "y1": 0.0000053472687568500986
          },
          {
           "calibration": false,
           "column_names": "Healed_sol",
           "time": 8,
           "y": 0.000006150825811346294,
           "y0": 0.000004826971144211712,
           "y1": 0.000008057765080593527
          },
          {
           "calibration": false,
           "column_names": "Healed_sol",
           "time": 9,
           "y": 0.000008834775144350715,
           "y0": 0.000006683867263745924,
           "y1": 0.00001202653306791035
          },
          {
           "calibration": false,
           "column_names": "Healed_sol",
           "time": 10,
           "y": 0.0000125867004499014,
           "y0": 0.000009112091220231378,
           "y1": 0.000017832226785685634
          },
          {
           "calibration": false,
           "column_names": "Healed_sol",
           "time": 11,
           "y": 0.00001782667914085323,
           "y0": 0.000012315722642597393,
           "y1": 0.000026319505286664933
          },
          {
           "calibration": false,
           "column_names": "Healed_sol",
           "time": 12,
           "y": 0.000025034922146005556,
           "y0": 0.000016562633845751407,
           "y1": 0.00003872133893310092
          },
          {
           "calibration": false,
           "column_names": "Healed_sol",
           "time": 13,
           "y": 0.00003501142964523751,
           "y0": 0.000022217132482182936,
           "y1": 0.000056836736621335146
          },
          {
           "calibration": false,
           "column_names": "Healed_sol",
           "time": 14,
           "y": 0.0000488459463667823,
           "y0": 0.000029708416241192024,
           "y1": 0.00008328989715664647
          },
          {
           "calibration": false,
           "column_names": "Healed_sol",
           "time": 15,
           "y": 0.00006802485586376861,
           "y0": 0.00003962966220569797,
           "y1": 0.00012209395536044
          },
          {
           "calibration": false,
           "column_names": "Healed_sol",
           "time": 16,
           "y": 0.00009460595538257621,
           "y0": 0.000052765605505555865,
           "y1": 0.000179385549563415
          },
          {
           "calibration": false,
           "column_names": "Healed_sol",
           "time": 17,
           "y": 0.00013143682735965,
           "y0": 0.00007010006956988945,
           "y1": 0.000263354813796395
          },
          {
           "calibration": false,
           "column_names": "Healed_sol",
           "time": 18,
           "y": 0.00018245535466115,
           "y0": 0.00009281608763558324,
           "y1": 0.0003863392121274
          },
          {
           "calibration": false,
           "column_names": "Healed_sol",
           "time": 19,
           "y": 0.00025310258206445,
           "y0": 0.000122779458979425,
           "y1": 0.00056629010650791
          },
          {
           "calibration": false,
           "column_names": "Healed_sol",
           "time": 20,
           "y": 0.000350771631929,
           "y0": 0.00016229398897843,
           "y1": 0.0008298263273900149
          },
          {
           "calibration": false,
           "column_names": "Healed_sol",
           "time": 21,
           "y": 0.00048493807844345006,
           "y0": 0.000214392463385545,
           "y1": 0.001209009060403295
          },
          {
           "calibration": false,
           "column_names": "Healed_sol",
           "time": 22,
           "y": 0.0006699667719658,
           "y0": 0.00028306322346905496,
           "y1": 0.001757665618788395
          },
          {
           "calibration": false,
           "column_names": "Healed_sol",
           "time": 23,
           "y": 0.00092485736240625,
           "y0": 0.00037354637461245,
           "y1": 0.00254904428729784
          },
          {
           "calibration": false,
           "column_names": "Healed_sol",
           "time": 24,
           "y": 0.00127546006115145,
           "y0": 0.0004927187866996449,
           "y1": 0.00368400268489491
          },
          {
           "calibration": false,
           "column_names": "Healed_sol",
           "time": 25,
           "y": 0.0017567176837474,
           "y0": 0.0006495877023553101,
           "y1": 0.005298636131919875
          },
          {
           "calibration": false,
           "column_names": "Healed_sol",
           "time": 26,
           "y": 0.0024154674028976997,
           "y0": 0.000855927291559,
           "y1": 0.007570136315189235
          },
          {
           "calibration": false,
           "column_names": "Healed_sol",
           "time": 27,
           "y": 0.0033137485152109998,
           "y0": 0.001127076061675275,
           "y1": 0.01071760514751071
          },
          {
           "calibration": false,
           "column_names": "Healed_sol",
           "time": 28,
           "y": 0.00453240168280895,
           "y0": 0.001482945604948265,
           "y1": 0.014993494749069145
          },
          {
           "calibration": false,
           "column_names": "Healed_sol",
           "time": 29,
           "y": 0.00617444631643585,
           "y0": 0.00194924636743957,
           "y1": 0.020655218698084326
          },
          {
           "calibration": false,
           "column_names": "Healed_sol",
           "time": 30,
           "y": 0.0083672264590859,
           "y0": 0.00255894456058733,
           "y1": 0.027924167644232473
          },
          {
           "calibration": false,
           "column_names": "Healed_sol",
           "time": 31,
           "y": 0.0112616741098463,
           "y0": 0.00335394729627293,
           "y1": 0.03693209271878001
          },
          {
           "calibration": false,
           "column_names": "Healed_sol",
           "time": 32,
           "y": 0.015026655048131901,
           "y0": 0.004386890982277655,
           "y1": 0.04767763968557114
          },
          {
           "calibration": false,
           "column_names": "Healed_sol",
           "time": 33,
           "y": 0.01983626931905745,
           "y0": 0.00572288148105141,
           "y1": 0.06001521293073887
          },
          {
           "calibration": false,
           "column_names": "Healed_sol",
           "time": 34,
           "y": 0.0258494354784488,
           "y0": 0.007440839172340861,
           "y1": 0.07368116527795789
          },
          {
           "calibration": false,
           "column_names": "Healed_sol",
           "time": 35,
           "y": 0.0331842582672834,
           "y0": 0.009633951447904066,
           "y1": 0.08833695985376828
          },
          {
           "calibration": false,
           "column_names": "Healed_sol",
           "time": 36,
           "y": 0.0418924689292907,
           "y0": 0.012408456066623285,
           "y1": 0.1036359459161758
          },
          {
           "calibration": false,
           "column_names": "Healed_sol",
           "time": 37,
           "y": 0.05194297991693015,
           "y0": 0.015880048181861575,
           "y1": 0.1192642457783222
          },
          {
           "calibration": false,
           "column_names": "Healed_sol",
           "time": 38,
           "y": 0.06322067789733404,
           "y0": 0.02016708077862857,
           "y1": 0.1345854476094246
          },
          {
           "calibration": false,
           "column_names": "Healed_sol",
           "time": 39,
           "y": 0.07554174959659575,
           "y0": 0.025380546227097477,
           "y1": 0.14975589662790298
          },
          {
           "calibration": false,
           "column_names": "Healed_sol",
           "time": 40,
           "y": 0.08868018910288805,
           "y0": 0.031611172575503554,
           "y1": 0.16468083411455148
          },
          {
           "calibration": false,
           "column_names": "Healed_sol",
           "time": 41,
           "y": 0.1023974493145942,
           "y0": 0.038916190899908484,
           "y1": 0.17925985157489774
          },
          {
           "calibration": false,
           "column_names": "Healed_sol",
           "time": 42,
           "y": 0.1164666526019573,
           "y0": 0.04730814471840855,
           "y1": 0.19343671649694436
          },
          {
           "calibration": false,
           "column_names": "Healed_sol",
           "time": 43,
           "y": 0.13068914413452146,
           "y0": 0.05674908254295583,
           "y1": 0.20718691498041147
          },
          {
           "calibration": false,
           "column_names": "Healed_sol",
           "time": 44,
           "y": 0.14490168541669846,
           "y0": 0.06715211309492584,
           "y1": 0.2205029778182506
          },
          {
           "calibration": false,
           "column_names": "Healed_sol",
           "time": 45,
           "y": 0.15897773951292032,
           "y0": 0.07839004769921297,
           "y1": 0.23338937908411025
          },
          {
           "calibration": false,
           "column_names": "Healed_sol",
           "time": 46,
           "y": 0.1728236675262451,
           "y0": 0.09030861817300317,
           "y1": 0.24585774242877953
          },
          {
           "calibration": false,
           "column_names": "Healed_sol",
           "time": 47,
           "y": 0.18637515604496002,
           "y0": 0.10274198800325389,
           "y1": 0.2580372914671898
          },
          {
           "calibration": false,
           "column_names": "Healed_sol",
           "time": 48,
           "y": 0.1995890140533447,
           "y0": 0.11552651599049564,
           "y1": 0.26990866512060163
          },
          {
           "calibration": false,
           "column_names": "Healed_sol",
           "time": 49,
           "y": 0.21244137734174723,
           "y0": 0.12851130850613113,
           "y1": 0.2814298361539841
          },
          {
           "calibration": false,
           "column_names": "Healed_sol",
           "time": 50,
           "y": 0.22492084652185435,
           "y0": 0.14156483560800548,
           "y1": 0.2926282405853271
          },
          {
           "calibration": false,
           "column_names": "Healed_sol",
           "time": 51,
           "y": 0.23702565580606455,
           "y0": 0.15457740798592562,
           "y1": 0.30349693894386287
          },
          {
           "calibration": false,
           "column_names": "Healed_sol",
           "time": 52,
           "y": 0.24876043200492853,
           "y0": 0.1674618922173976,
           "y1": 0.314137402176857
          },
          {
           "calibration": false,
           "column_names": "Healed_sol",
           "time": 53,
           "y": 0.2601351737976074,
           "y0": 0.18014378100633616,
           "y1": 0.3245546609163284
          },
          {
           "calibration": false,
           "column_names": "Healed_sol",
           "time": 54,
           "y": 0.27116198837757105,
           "y0": 0.19229675680398933,
           "y1": 0.334690137207508
          },
          {
           "calibration": false,
           "column_names": "Healed_sol",
           "time": 55,
           "y": 0.2818547487258911,
           "y0": 0.20418531075119967,
           "y1": 0.34455889165401454
          },
          {
           "calibration": false,
           "column_names": "Healed_sol",
           "time": 56,
           "y": 0.2922286242246628,
           "y0": 0.21579132005572316,
           "y1": 0.35417422205209725
          },
          {
           "calibration": false,
           "column_names": "Healed_sol",
           "time": 57,
           "y": 0.3022983223199844,
           "y0": 0.22710487395524978,
           "y1": 0.36354890316724775
          },
          {
           "calibration": false,
           "column_names": "Healed_sol",
           "time": 58,
           "y": 0.31217488646507263,
           "y0": 0.23812243714928621,
           "y1": 0.37269425988197324
          },
          {
           "calibration": false,
           "column_names": "Healed_sol",
           "time": 59,
           "y": 0.32176308333873743,
           "y0": 0.24884521141648291,
           "y1": 0.3816203951835632
          },
          {
           "calibration": false,
           "column_names": "Healed_sol",
           "time": 60,
           "y": 0.33103805780410767,
           "y0": 0.2592776119709015,
           "y1": 0.3903368055820465
          },
          {
           "calibration": false,
           "column_names": "Healed_sol",
           "time": 61,
           "y": 0.3400638848543167,
           "y0": 0.269426728785038,
           "y1": 0.39885207712650295
          },
          {
           "calibration": false,
           "column_names": "Healed_sol",
           "time": 62,
           "y": 0.3488520681858063,
           "y0": 0.2793009981513023,
           "y1": 0.4071736231446266
          },
          {
           "calibration": false,
           "column_names": "Healed_sol",
           "time": 63,
           "y": 0.35741332173347473,
           "y0": 0.28890973031520845,
           "y1": 0.41530809998512264
          },
          {
           "calibration": false,
           "column_names": "Healed_sol",
           "time": 64,
           "y": 0.3657584637403488,
           "y0": 0.29826226681470863,
           "y1": 0.4232621237635612
          },
          {
           "calibration": false,
           "column_names": "Healed_sol",
           "time": 65,
           "y": 0.37389589846134186,
           "y0": 0.30721994787454604,
           "y1": 0.43104127943515774
          },
          {
           "calibration": false,
           "column_names": "Healed_sol",
           "time": 66,
           "y": 0.3818342238664627,
           "y0": 0.3158627286553382,
           "y1": 0.4386509254574776
          },
          {
           "calibration": false,
           "column_names": "Healed_sol",
           "time": 67,
           "y": 0.38958190381526947,
           "y0": 0.3242830097675323,
           "y1": 0.4460955247282981
          },
          {
           "calibration": false,
           "column_names": "Healed_sol",
           "time": 68,
           "y": 0.39714562892913813,
           "y0": 0.33249092102050776,
           "y1": 0.4533793225884437
          },
          {
           "calibration": false,
           "column_names": "Healed_sol",
           "time": 69,
           "y": 0.404532328248024,
           "y0": 0.3404957816004753,
           "y1": 0.4605071648955345
          },
          {
           "calibration": false,
           "column_names": "Healed_sol",
           "time": 70,
           "y": 0.41197991371154785,
           "y0": 0.3483324334025383,
           "y1": 0.4674823522567748
          },
          {
           "calibration": false,
           "column_names": "Healed_sol",
           "time": 71,
           "y": 0.4193432927131653,
           "y0": 0.3561758816242218,
           "y1": 0.47430814504623414
          },
          {
           "calibration": false,
           "column_names": "Healed_sol",
           "time": 72,
           "y": 0.4264294356107712,
           "y0": 0.3638308688998222,
           "y1": 0.4809887304902076
          },
          {
           "calibration": false,
           "column_names": "Healed_sol",
           "time": 73,
           "y": 0.4333136677742004,
           "y0": 0.3713042184710502,
           "y1": 0.4875263124704361
          },
          {
           "calibration": false,
           "column_names": "Healed_sol",
           "time": 74,
           "y": 0.43970687687397003,
           "y0": 0.37860285788774484,
           "y1": 0.49392400383949275
          },
          {
           "calibration": false,
           "column_names": "Healed_sol",
           "time": 75,
           "y": 0.44591817259788513,
           "y0": 0.3857322260737419,
           "y1": 0.500185652077198
          },
          {
           "calibration": false,
           "column_names": "Healed_sol",
           "time": 76,
           "y": 0.4519932866096496,
           "y0": 0.392698235809803,
           "y1": 0.5063127040863037
          },
          {
           "calibration": false,
           "column_names": "Healed_sol",
           "time": 77,
           "y": 0.4579354524612427,
           "y0": 0.39950607717037195,
           "y1": 0.5123086154460907
          },
          {
           "calibration": false,
           "column_names": "Healed_sol",
           "time": 78,
           "y": 0.4637478440999985,
           "y0": 0.40616083741188047,
           "y1": 0.5181757897138596
          },
          {
           "calibration": false,
           "column_names": "Healed_sol",
           "time": 79,
           "y": 0.46943323314189905,
           "y0": 0.4126666635274887,
           "y1": 0.5239160090684891
          },
          {
           "calibration": false,
           "column_names": "Healed_sol",
           "time": 80,
           "y": 0.47500741481781006,
           "y0": 0.4190278440713882,
           "y1": 0.5295320868492126
          },
          {
           "calibration": false,
           "column_names": "Healed_sol",
           "time": 81,
           "y": 0.4806428551673889,
           "y0": 0.42524906396865847,
           "y1": 0.5350264310836792
          },
          {
           "calibration": false,
           "column_names": "Healed_sol",
           "time": 82,
           "y": 0.4861500859260559,
           "y0": 0.4313334316015243,
           "y1": 0.5404013633728028
          },
          {
           "calibration": false,
           "column_names": "Healed_sol",
           "time": 83,
           "y": 0.4915337562561035,
           "y0": 0.43728425502777096,
           "y1": 0.5456589609384537
          },
          {
           "calibration": false,
           "column_names": "Healed_sol",
           "time": 84,
           "y": 0.49679505825042725,
           "y0": 0.44310575574636457,
           "y1": 0.5508015215396881
          },
          {
           "calibration": false,
           "column_names": "Healed_sol",
           "time": 85,
           "y": 0.5019372701644897,
           "y0": 0.44879995286464686,
           "y1": 0.555831003189087
          },
          {
           "calibration": false,
           "column_names": "Healed_sol",
           "time": 86,
           "y": 0.5069626569747925,
           "y0": 0.4543708547949791,
           "y1": 0.5607492119073868
          },
          {
           "calibration": false,
           "column_names": "Healed_sol",
           "time": 87,
           "y": 0.5118744373321533,
           "y0": 0.45979794859886164,
           "y1": 0.5655591696500778
          },
          {
           "calibration": false,
           "column_names": "Healed_sol",
           "time": 88,
           "y": 0.5166740119457245,
           "y0": 0.46510497927665706,
           "y1": 0.570261761546135
          },
          {
           "calibration": false,
           "column_names": "Healed_sol",
           "time": 89,
           "y": 0.5213643908500671,
           "y0": 0.47029806226491927,
           "y1": 0.5748595088720322
          },
          {
           "calibration": false,
           "column_names": "Healed_sol",
           "time": 90,
           "y": 0.5259586572647095,
           "y0": 0.47537966966629025,
           "y1": 0.5793545871973038
          },
          {
           "calibration": false,
           "column_names": "Healed_sol",
           "time": 91,
           "y": 0.5305359661579132,
           "y0": 0.48035210520029065,
           "y1": 0.5837488830089569
          },
          {
           "calibration": false,
           "column_names": "Healed_sol",
           "time": 92,
           "y": 0.5351930260658264,
           "y0": 0.48521776199340816,
           "y1": 0.5879929155111313
          },
          {
           "calibration": false,
           "column_names": "Healed_sol",
           "time": 93,
           "y": 0.5397566258907318,
           "y0": 0.4899786919355392,
           "y1": 0.5920412838459015
          },
          {
           "calibration": false,
           "column_names": "Healed_sol",
           "time": 94,
           "y": 0.5442188084125519,
           "y0": 0.49463711231946944,
           "y1": 0.5959939539432526
          },
          {
           "calibration": false,
           "column_names": "Healed_sol",
           "time": 95,
           "y": 0.5485802888870239,
           "y0": 0.4991952732205391,
           "y1": 0.5998535245656967
          },
          {
           "calibration": false,
           "column_names": "Healed_sol",
           "time": 96,
           "y": 0.5528438091278076,
           "y0": 0.5036543101072312,
           "y1": 0.6036541789770127
          },
          {
           "calibration": false,
           "column_names": "Healed_sol",
           "time": 97,
           "y": 0.5570112764835358,
           "y0": 0.5080166220664978,
           "y1": 0.607365083694458
          },
          {
           "calibration": false,
           "column_names": "Healed_sol",
           "time": 98,
           "y": 0.5610841810703278,
           "y0": 0.5122856289148331,
           "y1": 0.610987338423729
          },
          {
           "calibration": false,
           "column_names": "Healed_sol",
           "time": 99,
           "y": 0.5650648772716522,
           "y0": 0.5164615720510483,
           "y1": 0.6145234733819962
          },
          {
           "calibration": true,
           "column_names": "Healed_sol",
           "time": 0,
           "y": 1.2495246817389758e-17,
           "y0": 1.1660261383526018e-17,
           "y1": 1.347020295686217e-17
          },
          {
           "calibration": true,
           "column_names": "Healed_sol",
           "time": 1,
           "y": 1.54758893700091e-7,
           "y0": 1.4610119762892286e-7,
           "y1": 1.671444948669887e-7
          },
          {
           "calibration": true,
           "column_names": "Healed_sol",
           "time": 2,
           "y": 3.845881479946911e-7,
           "y0": 3.5874893882237303e-7,
           "y1": 4.192352022869272e-7
          },
          {
           "calibration": true,
           "column_names": "Healed_sol",
           "time": 3,
           "y": 7.183742241068103e-7,
           "y0": 6.517065202160665e-7,
           "y1": 7.923159898837184e-7
          },
          {
           "calibration": true,
           "column_names": "Healed_sol",
           "time": 4,
           "y": 0.0000011952072895837773,
           "y0": 0.000001052410311785934,
           "y1": 0.0000013390988783612555
          },
          {
           "calibration": true,
           "column_names": "Healed_sol",
           "time": 5,
           "y": 0.0000018642274426383665,
           "y0": 0.0000015963876705882284,
           "y1": 0.000002150655279820057
          },
          {
           "calibration": true,
           "column_names": "Healed_sol",
           "time": 6,
           "y": 0.0000028116481871620636,
           "y0": 0.000002344501558582124,
           "y1": 0.0000033598343634366754
          },
          {
           "calibration": true,
           "column_names": "Healed_sol",
           "time": 7,
           "y": 0.0000041370174130861415,
           "y0": 0.0000033555349091329844,
           "y1": 0.000005140325492902775
          },
          {
           "calibration": true,
           "column_names": "Healed_sol",
           "time": 8,
           "y": 0.000006001087967888452,
           "y0": 0.000004716918056146824,
           "y1": 0.000007707171039328386
          },
          {
           "calibration": true,
           "column_names": "Healed_sol",
           "time": 9,
           "y": 0.00000851774439070141,
           "y0": 0.000006539902437907586,
           "y1": 0.00001136439323090599
          },
          {
           "calibration": true,
           "column_names": "Healed_sol",
           "time": 10,
           "y": 0.000011988811365881702,
           "y0": 0.00000898016191968054,
           "y1": 0.000016635667634545825
          },
          {
           "calibration": true,
           "column_names": "Healed_sol",
           "time": 11,
           "y": 0.000016831553693918977,
           "y0": 0.000012243903438502456,
           "y1": 0.000024227311678259865
          },
          {
           "calibration": true,
           "column_names": "Healed_sol",
           "time": 12,
           "y": 0.000023584078917338047,
           "y0": 0.000016558385595999425,
           "y1": 0.00003515486059768591
          },
          {
           "calibration": true,
           "column_names": "Healed_sol",
           "time": 13,
           "y": 0.00003294531961728353,
           "y0": 0.000022267196254688314,
           "y1": 0.00005091383591206977
          },
          {
           "calibration": true,
           "column_names": "Healed_sol",
           "time": 14,
           "y": 0.0000459195944131352,
           "y0": 0.000029848836402379678,
           "y1": 0.00007382550211332273
          },
          {
           "calibration": true,
           "column_names": "Healed_sol",
           "time": 15,
           "y": 0.00006395989112206735,
           "y0": 0.00003991370740550337,
           "y1": 0.00010701011451597
          },
          {
           "calibration": true,
           "column_names": "Healed_sol",
           "time": 16,
           "y": 0.00008896545114112087,
           "y0": 0.00005327127364580519,
           "y1": 0.00015496325140702
          },
          {
           "calibration": true,
           "column_names": "Healed_sol",
           "time": 17,
           "y": 0.00012361662084000002,
           "y0": 0.00007099442518665455,
           "y1": 0.00022421929097614498
          },
          {
           "calibration": true,
           "column_names": "Healed_sol",
           "time": 18,
           "y": 0.00017161995492635,
           "y0": 0.00009450468678551262,
           "y1": 0.000324187430669505
          },
          {
           "calibration": true,
           "column_names": "Healed_sol",
           "time": 19,
           "y": 0.00023809770209475,
           "y0": 0.00012568523670773,
           "y1": 0.00046864565374558995
          },
          {
           "calibration": true,
           "column_names": "Healed_sol",
           "time": 20,
           "y": 0.0003301170218037,
           "y0": 0.00016702951616018498,
           "y1": 0.0006772656401152899
          },
          {
           "calibration": true,
           "column_names": "Healed_sol",
           "time": 21,
           "y": 0.00045741671056015,
           "y0": 0.000221836824493885,
           "y1": 0.0009777198079973398
          },
          {
           "calibration": true,
           "column_names": "Healed_sol",
           "time": 22,
           "y": 0.0006333809869828999,
           "y0": 0.000294469355139855,
           "y1": 0.0014094759244471548
          },
          {
           "calibration": true,
           "column_names": "Healed_sol",
           "time": 23,
           "y": 0.00087634430383325,
           "y0": 0.00039068811456666,
           "y1": 0.0020279494638088796
          },
          {
           "calibration": true,
           "column_names": "Healed_sol",
           "time": 24,
           "y": 0.001211313821841,
           "y0": 0.00051809088035944,
           "y1": 0.0029099042527376846
          },
          {
           "calibration": true,
           "column_names": "Healed_sol",
           "time": 25,
           "y": 0.0016721806023269501,
           "y0": 0.000686678610509235,
           "y1": 0.004159657144918964
          },
          {
           "calibration": true,
           "column_names": "Healed_sol",
           "time": 26,
           "y": 0.0023044839035719,
           "y0": 0.000909582324675235,
           "y1": 0.0059150832472368384
          },
          {
           "calibration": true,
           "column_names": "Healed_sol",
           "time": 27,
           "y": 0.00316868722438805,
           "y0": 0.0012039848428684451,
           "y1": 0.008351392159238403
          },
          {
           "calibration": true,
           "column_names": "Healed_sol",
           "time": 28,
           "y": 0.00434380117803805,
           "y0": 0.00159227715921582,
           "y1": 0.011679091211408315
          },
          {
           "calibration": true,
           "column_names": "Healed_sol",
           "time": 29,
           "y": 0.00593075412325555,
           "y0": 0.00210345666855567,
           "y1": 0.016131518874317373
          },
          {
           "calibration": true,
           "column_names": "Healed_sol",
           "time": 30,
           "y": 0.00805458705872295,
           "y0": 0.002774802478961595,
           "y1": 0.021938244160264662
          },
          {
           "calibration": true,
           "column_names": "Healed_sol",
           "time": 31,
           "y": 0.01086390856653445,
           "y0": 0.00365373352542517,
           "y1": 0.029285159800201584
          },
          {
           "calibration": true,
           "column_names": "Healed_sol",
           "time": 32,
           "y": 0.014525310136377749,
           "y0": 0.004799808934330875,
           "y1": 0.038270393572747634
          },
          {
           "calibration": true,
           "column_names": "Healed_sol",
           "time": 33,
           "y": 0.0192110175266861,
           "y0": 0.00628648241981859,
           "y1": 0.04887226857244965
          },
          {
           "calibration": true,
           "column_names": "Healed_sol",
           "time": 34,
           "y": 0.02507875394076105,
           "y0": 0.00820232941769058,
           "y1": 0.06094395313411946
          },
          {
           "calibration": true,
           "column_names": "Healed_sol",
           "time": 35,
           "y": 0.0322464201599359,
           "y0": 0.010650904476642535,
           "y1": 0.07423874810338017
          },
          {
           "calibration": true,
           "column_names": "Healed_sol",
           "time": 36,
           "y": 0.0407671388238668,
           "y0": 0.01374856610782442,
           "y1": 0.08845467828214162
          },
          {
           "calibration": true,
           "column_names": "Healed_sol",
           "time": 37,
           "y": 0.05061303824186325,
           "y0": 0.0176192171871662,
           "y1": 0.10330382287502286
          },
          {
           "calibration": true,
           "column_names": "Healed_sol",
           "time": 38,
           "y": 0.061674216762185055,
           "y0": 0.022385495062917444,
           "y1": 0.11861585751175877
          },
          {
           "calibration": true,
           "column_names": "Healed_sol",
           "time": 39,
           "y": 0.0737735815346241,
           "y0": 0.028156409785151423,
           "y1": 0.13403950408101079
          },
          {
           "calibration": true,
           "column_names": "Healed_sol",
           "time": 40,
           "y": 0.0866739712655544,
           "y0": 0.035013244114816135,
           "y1": 0.14938447773456567
          },
          {
           "calibration": true,
           "column_names": "Healed_sol",
           "time": 41,
           "y": 0.10004920512437815,
           "y0": 0.042995967157185046,
           "y1": 0.16451128572225565
          },
          {
           "calibration": true,
           "column_names": "Healed_sol",
           "time": 42,
           "y": 0.11371285095810885,
           "y0": 0.052094255574047565,
           "y1": 0.17947549596428863
          },
          {
           "calibration": true,
           "column_names": "Healed_sol",
           "time": 43,
           "y": 0.12751337140798563,
           "y0": 0.06224506646394726,
           "y1": 0.19444656521081916
          },
          {
           "calibration": true,
           "column_names": "Healed_sol",
           "time": 44,
           "y": 0.14160136878490445,
           "y0": 0.07333858534693713,
           "y1": 0.20918713584542267
          },
          {
           "calibration": true,
           "column_names": "Healed_sol",
           "time": 45,
           "y": 0.1556055918335914,
           "y0": 0.085230066999793,
           "y1": 0.2234220743179321
          },
          {
           "calibration": true,
           "column_names": "Healed_sol",
           "time": 46,
           "y": 0.1693935021758079,
           "y0": 0.09775545336306092,
           "y1": 0.23712107688188547
          },
          {
           "calibration": true,
           "column_names": "Healed_sol",
           "time": 47,
           "y": 0.18289525061845774,
           "y0": 0.11074610203504558,
           "y1": 0.25040388256311413
          },
          {
           "calibration": true,
           "column_names": "Healed_sol",
           "time": 48,
           "y": 0.19606531411409375,
           "y0": 0.12404170259833333,
           "y1": 0.26327686607837675
          },
          {
           "calibration": true,
           "column_names": "Healed_sol",
           "time": 49,
           "y": 0.20887692272663116,
           "y0": 0.1374976158142089,
           "y1": 0.27575067132711406
          },
          {
           "calibration": true,
           "column_names": "Healed_sol",
           "time": 50,
           "y": 0.22118714451789856,
           "y0": 0.1509907409548759,
           "y1": 0.28783885091543193
          },
          {
           "calibration": true,
           "column_names": "Healed_sol",
           "time": 51,
           "y": 0.23300876468420026,
           "y0": 0.16441963687539096,
           "y1": 0.29955599755048745
          },
          {
           "calibration": true,
           "column_names": "Healed_sol",
           "time": 52,
           "y": 0.24469766765832895,
           "y0": 0.17770401388406748,
           "y1": 0.3109176322817802
          },
          {
           "calibration": true,
           "column_names": "Healed_sol",
           "time": 53,
           "y": 0.25636494159698486,
           "y0": 0.19078279584646224,
           "y1": 0.321939331293106
          },
          {
           "calibration": true,
           "column_names": "Healed_sol",
           "time": 54,
           "y": 0.26768477261066437,
           "y0": 0.20361141189932822,
           "y1": 0.3326363250613212
          },
          {
           "calibration": true,
           "column_names": "Healed_sol",
           "time": 55,
           "y": 0.27866682410240173,
           "y0": 0.21615864038467406,
           "y1": 0.3430232450366019
          },
          {
           "calibration": true,
           "column_names": "Healed_sol",
           "time": 56,
           "y": 0.2897369712591171,
           "y0": 0.22840445637702939,
           "y1": 0.35311312377452847
          },
          {
           "calibration": true,
           "column_names": "Healed_sol",
           "time": 57,
           "y": 0.3005088716745376,
           "y0": 0.24033734872937196,
           "y1": 0.36292082667350767
          },
          {
           "calibration": true,
           "column_names": "Healed_sol",
           "time": 58,
           "y": 0.31096592545509333,
           "y0": 0.2519525900483131,
           "y1": 0.37238598167896264
          },
          {
           "calibration": true,
           "column_names": "Healed_sol",
           "time": 59,
           "y": 0.32104896008968353,
           "y0": 0.26325041353702544,
           "y1": 0.3812704682350158
          },
          {
           "calibration": true,
           "column_names": "Healed_sol",
           "time": 60,
           "y": 0.33068959414958954,
           "y0": 0.2741604790091514,
           "y1": 0.38992680013179776
          },
          {
           "calibration": true,
           "column_names": "Healed_sol",
           "time": 61,
           "y": 0.34007248282432556,
           "y0": 0.2846441000699997,
           "y1": 0.39836438596248624
          },
          {
           "calibration": true,
           "column_names": "Healed_sol",
           "time": 62,
           "y": 0.3491903096437454,
           "y0": 0.29483551084995263,
           "y1": 0.4065916076302528
          },
          {
           "calibration": true,
           "column_names": "Healed_sol",
           "time": 63,
           "y": 0.35801441967487335,
           "y0": 0.30470516830682753,
           "y1": 0.41461750864982605
          },
          {
           "calibration": true,
           "column_names": "Healed_sol",
           "time": 64,
           "y": 0.3666037917137146,
           "y0": 0.31431051939725874,
           "y1": 0.4224483042955398
          },
          {
           "calibration": true,
           "column_names": "Healed_sol",
           "time": 65,
           "y": 0.3749695122241974,
           "y0": 0.32366037368774414,
           "y1": 0.430091592669487
          },
          {
           "calibration": true,
           "column_names": "Healed_sol",
           "time": 66,
           "y": 0.3827410936355591,
           "y0": 0.3327656090259552,
           "y1": 0.4375534102320671
          },
          {
           "calibration": true,
           "column_names": "Healed_sol",
           "time": 67,
           "y": 0.3902977406978607,
           "y0": 0.34163548052310944,
           "y1": 0.444839283823967
          },
          {
           "calibration": true,
           "column_names": "Healed_sol",
           "time": 68,
           "y": 0.39767819643020624,
           "y0": 0.3502792283892632,
           "y1": 0.4519827127456665
          },
          {
           "calibration": true,
           "column_names": "Healed_sol",
           "time": 69,
           "y": 0.4048886150121689,
           "y0": 0.35867815464735026,
           "y1": 0.45897401273250577
          },
          {
           "calibration": true,
           "column_names": "Healed_sol",
           "time": 70,
           "y": 0.41208675503730774,
           "y0": 0.3668367981910705,
           "y1": 0.4658014327287674
          },
          {
           "calibration": true,
           "column_names": "Healed_sol",
           "time": 71,
           "y": 0.4193804860115051,
           "y0": 0.37455109357833855,
           "y1": 0.47246989160776137
          },
          {
           "calibration": true,
           "column_names": "Healed_sol",
           "time": 72,
           "y": 0.42650762200355524,
           "y0": 0.38208573758602143,
           "y1": 0.478984160721302
          },
          {
           "calibration": true,
           "column_names": "Healed_sol",
           "time": 73,
           "y": 0.433472603559494,
           "y0": 0.3894487768411636,
           "y1": 0.48534770011901857
          },
          {
           "calibration": true,
           "column_names": "Healed_sol",
           "time": 74,
           "y": 0.44028033316135406,
           "y0": 0.39664469510316847,
           "y1": 0.4915646374225616
          },
          {
           "calibration": true,
           "column_names": "Healed_sol",
           "time": 75,
           "y": 0.44693380594253534,
           "y0": 0.4036795914173126,
           "y1": 0.49763944894075385
          },
          {
           "calibration": true,
           "column_names": "Healed_sol",
           "time": 76,
           "y": 0.45343752205371857,
           "y0": 0.4105375215411186,
           "y1": 0.5035745650529861
          },
          {
           "calibration": true,
           "column_names": "Healed_sol",
           "time": 77,
           "y": 0.45979544520378113,
           "y0": 0.41721922904253006,
           "y1": 0.5093732923269272
          },
          {
           "calibration": true,
           "column_names": "Healed_sol",
           "time": 78,
           "y": 0.46601058542728424,
           "y0": 0.4237533405423164,
           "y1": 0.5150403678417206
          },
          {
           "calibration": true,
           "column_names": "Healed_sol",
           "time": 79,
           "y": 0.4720865339040756,
           "y0": 0.4301449462771415,
           "y1": 0.5205774009227753
          },
          {
           "calibration": true,
           "column_names": "Healed_sol",
           "time": 80,
           "y": 0.47802504897117615,
           "y0": 0.4363961011171341,
           "y1": 0.5259882658720016
          },
          {
           "calibration": true,
           "column_names": "Healed_sol",
           "time": 81,
           "y": 0.4838310033082962,
           "y0": 0.4425120159983635,
           "y1": 0.531275850534439
          },
          {
           "calibration": true,
           "column_names": "Healed_sol",
           "time": 82,
           "y": 0.48950627446174616,
           "y0": 0.44849495291709895,
           "y1": 0.5364426672458649
          },
          {
           "calibration": true,
           "column_names": "Healed_sol",
           "time": 83,
           "y": 0.4950537532567978,
           "y0": 0.45420185178518296,
           "y1": 0.5414906561374664
          },
          {
           "calibration": true,
           "column_names": "Healed_sol",
           "time": 84,
           "y": 0.5004760026931763,
           "y0": 0.45978009998798364,
           "y1": 0.5464237719774246
          },
          {
           "calibration": true,
           "column_names": "Healed_sol",
           "time": 85,
           "y": 0.5057759284973145,
           "y0": 0.4652364701032638,
           "y1": 0.5512441366910934
          },
          {
           "calibration": true,
           "column_names": "Healed_sol",
           "time": 86,
           "y": 0.5108787417411804,
           "y0": 0.47057412713766095,
           "y1": 0.5559537023305893
          },
          {
           "calibration": true,
           "column_names": "Healed_sol",
           "time": 87,
           "y": 0.5158491432666779,
           "y0": 0.4757954910397529,
           "y1": 0.5605564296245575
          },
          {
           "calibration": true,
           "column_names": "Healed_sol",
           "time": 88,
           "y": 0.5207129120826721,
           "y0": 0.48090270161628723,
           "y1": 0.5650525331497193
          },
          {
           "calibration": true,
           "column_names": "Healed_sol",
           "time": 89,
           "y": 0.5254658460617065,
           "y0": 0.4858992278575897,
           "y1": 0.5694464147090912
          },
          {
           "calibration": true,
           "column_names": "Healed_sol",
           "time": 90,
           "y": 0.5301100313663483,
           "y0": 0.4907856851816177,
           "y1": 0.5737387716770173
          },
          {
           "calibration": true,
           "column_names": "Healed_sol",
           "time": 91,
           "y": 0.534648060798645,
           "y0": 0.4955658450722694,
           "y1": 0.5779328733682633
          },
          {
           "calibration": true,
           "column_names": "Healed_sol",
           "time": 92,
           "y": 0.539082795381546,
           "y0": 0.5002417221665382,
           "y1": 0.5820301473140717
          },
          {
           "calibration": true,
           "column_names": "Healed_sol",
           "time": 93,
           "y": 0.543415904045105,
           "y0": 0.5048150837421417,
           "y1": 0.5860330045223237
          },
          {
           "calibration": true,
           "column_names": "Healed_sol",
           "time": 94,
           "y": 0.5476500988006592,
           "y0": 0.5092879503965377,
           "y1": 0.5899434298276901
          },
          {
           "calibration": true,
           "column_names": "Healed_sol",
           "time": 95,
           "y": 0.5517866015434265,
           "y0": 0.5136625409126282,
           "y1": 0.5937632650136948
          },
          {
           "calibration": true,
           "column_names": "Healed_sol",
           "time": 96,
           "y": 0.5558284521102905,
           "y0": 0.5179409652948379,
           "y1": 0.5974946409463883
          },
          {
           "calibration": true,
           "column_names": "Healed_sol",
           "time": 97,
           "y": 0.5597779452800751,
           "y0": 0.522125032544136,
           "y1": 0.6011398524045944
          },
          {
           "calibration": true,
           "column_names": "Healed_sol",
           "time": 98,
           "y": 0.5636366009712219,
           "y0": 0.5262161403894424,
           "y1": 0.6047001779079437
          },
          {
           "calibration": true,
           "column_names": "Healed_sol",
           "time": 99,
           "y": 0.5674060881137848,
           "y0": 0.5302170753479004,
           "y1": 0.6081779569387435
          },
          {
           "calibration": false,
           "column_names": "Infected_sol",
           "time": 0,
           "y": 0.000003333333324917476,
           "y0": 0.000003333333324917476,
           "y1": 0.000003333333324917476
          },
          {
           "calibration": false,
           "column_names": "Infected_sol",
           "time": 1,
           "y": 0.0000043522773012227844,
           "y0": 0.000004123474991502008,
           "y1": 0.000004605823414749466
          },
          {
           "calibration": false,
           "column_names": "Infected_sol",
           "time": 2,
           "y": 0.000005854452638232033,
           "y0": 0.000005273039869280183,
           "y1": 0.000006560918359355128
          },
          {
           "calibration": false,
           "column_names": "Infected_sol",
           "time": 3,
           "y": 0.000007990008271008264,
           "y0": 0.000006843873529760458,
           "y1": 0.00000947727535276499
          },
          {
           "calibration": false,
           "column_names": "Infected_sol",
           "time": 4,
           "y": 0.000010979641956510022,
           "y0": 0.000008950590881795506,
           "y1": 0.000013760496858594705
          },
          {
           "calibration": false,
           "column_names": "Infected_sol",
           "time": 5,
           "y": 0.00001513647657702677,
           "y0": 0.000011752176396839786,
           "y1": 0.000020025872254336717
          },
          {
           "calibration": false,
           "column_names": "Infected_sol",
           "time": 6,
           "y": 0.000020901192328892648,
           "y0": 0.000015462896408280356,
           "y1": 0.00002917874553531874
          },
          {
           "calibration": false,
           "column_names": "Infected_sol",
           "time": 7,
           "y": 0.000028883354389108717,
           "y0": 0.000020366855005704564,
           "y1": 0.00004253806619090028
          },
          {
           "calibration": false,
           "column_names": "Infected_sol",
           "time": 8,
           "y": 0.00003993090649601072,
           "y0": 0.000026841721137316196,
           "y1": 0.00006205185854923911
          },
          {
           "calibration": false,
           "column_names": "Infected_sol",
           "time": 9,
           "y": 0.00005521503589989152,
           "y0": 0.000035387160824029704,
           "y1": 0.00009057938041223677
          },
          {
           "calibration": false,
           "column_names": "Infected_sol",
           "time": 10,
           "y": 0.00007642544733243994,
           "y0": 0.00004666161639761413,
           "y1": 0.00013222668276284002
          },
          {
           "calibration": false,
           "column_names": "Infected_sol",
           "time": 11,
           "y": 0.0001058205743902,
           "y0": 0.00006153555332275574,
           "y1": 0.000193018712161535
          },
          {
           "calibration": false,
           "column_names": "Infected_sol",
           "time": 12,
           "y": 0.00014652170648330002,
           "y0": 0.00008115548516798298,
           "y1": 0.00028174119797762
          },
          {
           "calibration": false,
           "column_names": "Infected_sol",
           "time": 13,
           "y": 0.0002028718954534,
           "y0": 0.000107034570464685,
           "y1": 0.00041119716479435
          },
          {
           "calibration": false,
           "column_names": "Infected_sol",
           "time": 14,
           "y": 0.0002808751742122,
           "y0": 0.00014116632155489,
           "y1": 0.00060002470854664
          },
          {
           "calibration": false,
           "column_names": "Infected_sol",
           "time": 15,
           "y": 0.0003888301434926,
           "y0": 0.000186178585136025,
           "y1": 0.00087532394391016
          },
          {
           "calibration": false,
           "column_names": "Infected_sol",
           "time": 16,
           "y": 0.000538195046829,
           "y0": 0.000245533222187015,
           "y1": 0.001276411052094675
          },
          {
           "calibration": false,
           "column_names": "Infected_sol",
           "time": 17,
           "y": 0.0007447747921104999,
           "y0": 0.00032378830219384003,
           "y1": 0.001860170712461655
          },
          {
           "calibration": false,
           "column_names": "Infected_sol",
           "time": 18,
           "y": 0.0010303341550752,
           "y0": 0.00042694211879275003,
           "y1": 0.002708544023334915
          },
          {
           "calibration": false,
           "column_names": "Infected_sol",
           "time": 19,
           "y": 0.0014247761573642,
           "y0": 0.00056288228952322,
           "y1": 0.003938833368010785
          },
          {
           "calibration": false,
           "column_names": "Infected_sol",
           "time": 20,
           "y": 0.0019690640037879,
           "y0": 0.000741969270165925,
           "y1": 0.00571740930899973
          },
          {
           "calibration": false,
           "column_names": "Infected_sol",
           "time": 21,
           "y": 0.00271906901616595,
           "y0": 0.00097779218631329,
           "y1": 0.008276995643973311
          },
          {
           "calibration": false,
           "column_names": "Infected_sol",
           "time": 22,
           "y": 0.00375053694006055,
           "y0": 0.0012881419039330751,
           "y1": 0.011936514684930375
          },
          {
           "calibration": false,
           "column_names": "Infected_sol",
           "time": 23,
           "y": 0.005165304755791951,
           "y0": 0.00169625243870537,
           "y1": 0.01711957082152361
          },
          {
           "calibration": false,
           "column_names": "Infected_sol",
           "time": 24,
           "y": 0.0070986754726618,
           "y0": 0.0022323722718283,
           "y1": 0.02436209712177509
          },
          {
           "calibration": false,
           "column_names": "Infected_sol",
           "time": 25,
           "y": 0.0097274100407958,
           "y0": 0.00293570079375054,
           "y1": 0.03429067172110074
          },
          {
           "calibration": false,
           "column_names": "Infected_sol",
           "time": 26,
           "y": 0.0132769355550408,
           "y0": 0.003856746596284165,
           "y1": 0.04754114318639033
          },
          {
           "calibration": false,
           "column_names": "Infected_sol",
           "time": 27,
           "y": 0.01802474912255995,
           "y0": 0.005060103139840005,
           "y1": 0.06458136849105352
          },
          {
           "calibration": false,
           "column_names": "Infected_sol",
           "time": 28,
           "y": 0.02429456077516075,
           "y0": 0.0066274758661165,
           "y1": 0.08542021326720708
          },
          {
           "calibration": false,
           "column_names": "Infected_sol",
           "time": 29,
           "y": 0.03243284672498695,
           "y0": 0.00866080243140451,
           "y1": 0.10925459079444408
          },
          {
           "calibration": false,
           "column_names": "Infected_sol",
           "time": 30,
           "y": 0.042756315320730195,
           "y0": 0.0112848023883998,
           "y1": 0.13440792039036747
          },
          {
           "calibration": false,
           "column_names": "Infected_sol",
           "time": 31,
           "y": 0.05546051450073715,
           "y0": 0.01464799866080282,
           "y1": 0.15856035798788068
          },
          {
           "calibration": false,
           "column_names": "Infected_sol",
           "time": 32,
           "y": 0.07048926874995226,
           "y0": 0.018920563813298926,
           "y1": 0.17843446582555764
          },
          {
           "calibration": false,
           "column_names": "Infected_sol",
           "time": 33,
           "y": 0.08763747289776795,
           "y0": 0.024286571610718885,
           "y1": 0.1914170645177364
          },
          {
           "calibration": false,
           "column_names": "Infected_sol",
           "time": 34,
           "y": 0.10631567612290375,
           "y0": 0.030927472654730052,
           "y1": 0.1955429904162883
          },
          {
           "calibration": false,
           "column_names": "Infected_sol",
           "time": 35,
           "y": 0.12492341920733445,
           "y0": 0.03899379540234799,
           "y1": 0.19098495990037911
          },
          {
           "calibration": false,
           "column_names": "Infected_sol",
           "time": 36,
           "y": 0.14173860847949976,
           "y0": 0.04856205657124515,
           "y1": 0.18303807750344273
          },
          {
           "calibration": false,
           "column_names": "Infected_sol",
           "time": 37,
           "y": 0.15469998866319656,
           "y0": 0.05958051122725007,
           "y1": 0.17533903643488877
          },
          {
           "calibration": false,
           "column_names": "Infected_sol",
           "time": 38,
           "y": 0.1477757841348648,
           "y0": 0.07181037254631518,
           "y1": 0.16786709725856772
          },
          {
           "calibration": false,
           "column_names": "Infected_sol",
           "time": 39,
           "y": 0.14234157651662827,
           "y0": 0.08478213027119631,
           "y1": 0.16832042336463926
          },
          {
           "calibration": false,
           "column_names": "Infected_sol",
           "time": 40,
           "y": 0.14073977619409556,
           "y0": 0.09779077619314189,
           "y1": 0.16672323718667026
          },
          {
           "calibration": false,
           "column_names": "Infected_sol",
           "time": 41,
           "y": 0.13062360882759094,
           "y0": 0.09237780384719366,
           "y1": 0.16302298456430436
          },
          {
           "calibration": false,
           "column_names": "Infected_sol",
           "time": 42,
           "y": 0.12356673553586,
           "y0": 0.07919066138565535,
           "y1": 0.15852929279208175
          },
          {
           "calibration": false,
           "column_names": "Infected_sol",
           "time": 43,
           "y": 0.11729701980948445,
           "y0": 0.06630885079503056,
           "y1": 0.15101900994777676
          },
          {
           "calibration": false,
           "column_names": "Infected_sol",
           "time": 44,
           "y": 0.10682953521609301,
           "y0": 0.055263983644544996,
           "y1": 0.14317104369401926
          },
          {
           "calibration": false,
           "column_names": "Infected_sol",
           "time": 45,
           "y": 0.09359207749366755,
           "y0": 0.0459094619378447,
           "y1": 0.13890945762395857
          },
          {
           "calibration": false,
           "column_names": "Infected_sol",
           "time": 46,
           "y": 0.0811027362942695,
           "y0": 0.038060443289577944,
           "y1": 0.1327852822840213
          },
          {
           "calibration": false,
           "column_names": "Infected_sol",
           "time": 47,
           "y": 0.0696775577962398,
           "y0": 0.03152164630591863,
           "y1": 0.12408878132700918
          },
          {
           "calibration": false,
           "column_names": "Infected_sol",
           "time": 48,
           "y": 0.0594671685248613,
           "y0": 0.026104092597961356,
           "y1": 0.11591648645699018
          },
          {
           "calibration": false,
           "column_names": "Infected_sol",
           "time": 49,
           "y": 0.050503993406891795,
           "y0": 0.021634053532034146,
           "y1": 0.10752767510712143
          },
          {
           "calibration": false,
           "column_names": "Infected_sol",
           "time": 50,
           "y": 0.0427437480539083,
           "y0": 0.01795711405575271,
           "y1": 0.09829989671707146
          },
          {
           "calibration": false,
           "column_names": "Infected_sol",
           "time": 51,
           "y": 0.03609702363610265,
           "y0": 0.014939161250367676,
           "y1": 0.08870341591536993
          },
          {
           "calibration": false,
           "column_names": "Infected_sol",
           "time": 52,
           "y": 0.0304515296593308,
           "y0": 0.012465067161247066,
           "y1": 0.07917345687746997
          },
          {
           "calibration": false,
           "column_names": "Infected_sol",
           "time": 53,
           "y": 0.0256874309852719,
           "y0": 0.010437957942485714,
           "y1": 0.07004116140305992
          },
          {
           "calibration": false,
           "column_names": "Infected_sol",
           "time": 54,
           "y": 0.02168706152588125,
           "y0": 0.00877803242765362,
           "y1": 0.061566258966922714
          },
          {
           "calibration": false,
           "column_names": "Infected_sol",
           "time": 55,
           "y": 0.018340528011322,
           "y0": 0.007418407080695,
           "y1": 0.053789262659847674
          },
          {
           "calibration": false,
           "column_names": "Infected_sol",
           "time": 56,
           "y": 0.0155484545975923,
           "y0": 0.006308772182092025,
           "y1": 0.0467753713950514
          },
          {
           "calibration": false,
           "column_names": "Infected_sol",
           "time": 57,
           "y": 0.01322320709004995,
           "y0": 0.00540622971020635,
           "y1": 0.04053661413490765
          },
          {
           "calibration": false,
           "column_names": "Infected_sol",
           "time": 58,
           "y": 0.011288721580058302,
           "y0": 0.00466343213338402,
           "y1": 0.03504844494163987
          },
          {
           "calibration": false,
           "column_names": "Infected_sol",
           "time": 59,
           "y": 0.0096798534505069,
           "y0": 0.004043959965929355,
           "y1": 0.03026309376582499
          },
          {
           "calibration": false,
           "column_names": "Infected_sol",
           "time": 60,
           "y": 0.0083413887768983,
           "y0": 0.0035301768803037053,
           "y1": 0.026119982637464925
          },
          {
           "calibration": false,
           "column_names": "Infected_sol",
           "time": 61,
           "y": 0.00722685712389645,
           "y0": 0.0031042609596624348,
           "y1": 0.02255280530080191
          },
          {
           "calibration": false,
           "column_names": "Infected_sol",
           "time": 62,
           "y": 0.0062974116299301,
           "y0": 0.002749812242109295,
           "y1": 0.01949484152719373
          },
          {
           "calibration": false,
           "column_names": "Infected_sol",
           "time": 63,
           "y": 0.0055207069963216,
           "y0": 0.002452456008177185,
           "y1": 0.01688199792988593
          },
          {
           "calibration": false,
           "column_names": "Infected_sol",
           "time": 64,
           "y": 0.0048699523322284,
           "y0": 0.002201725984923475,
           "y1": 0.014654806582257072
          },
          {
           "calibration": false,
           "column_names": "Infected_sol",
           "time": 65,
           "y": 0.00432299333624535,
           "y0": 0.001989871903788235,
           "y1": 0.012759329844266119
          },
          {
           "calibration": false,
           "column_names": "Infected_sol",
           "time": 66,
           "y": 0.003861571312882,
           "y0": 0.00180978006683284,
           "y1": 0.011147560458630228
          },
          {
           "calibration": false,
           "column_names": "Infected_sol",
           "time": 67,
           "y": 0.00347066705580795,
           "y0": 0.001655686617596045,
           "y1": 0.009777362458407825
          },
          {
           "calibration": false,
           "column_names": "Infected_sol",
           "time": 68,
           "y": 0.0031379411229863,
           "y0": 0.0015229393146000301,
           "y1": 0.00860571102239186
          },
          {
           "calibration": false,
           "column_names": "Infected_sol",
           "time": 69,
           "y": 0.0028532688738778,
           "y0": 0.0014077631465624352,
           "y1": 0.00760530179832126
          },
          {
           "calibration": false,
           "column_names": "Infected_sol",
           "time": 70,
           "y": 0.0026083532720803998,
           "y0": 0.00130710247321984,
           "y1": 0.006752457865513786
          },
          {
           "calibration": false,
           "column_names": "Infected_sol",
           "time": 71,
           "y": 0.0023978764656930997,
           "y0": 0.001218484668061105,
           "y1": 0.006024027708917796
          },
          {
           "calibration": false,
           "column_names": "Infected_sol",
           "time": 72,
           "y": 0.0022069599945097503,
           "y0": 0.001139896974200325,
           "y1": 0.005400388920679652
          },
          {
           "calibration": false,
           "column_names": "Infected_sol",
           "time": 73,
           "y": 0.00203135656192895,
           "y0": 0.001069709000876145,
           "y1": 0.0048649775097145825
          },
          {
           "calibration": false,
           "column_names": "Infected_sol",
           "time": 74,
           "y": 0.0018777718069031002,
           "y0": 0.0010065912210847699,
           "y1": 0.0044038255466147935
          },
          {
           "calibration": false,
           "column_names": "Infected_sol",
           "time": 75,
           "y": 0.00174262834480025,
           "y0": 0.00094946147873996,
           "y1": 0.004005203326232643
          },
          {
           "calibration": false,
           "column_names": "Infected_sol",
           "time": 76,
           "y": 0.00162298639770595,
           "y0": 0.00089743466232897,
           "y1": 0.003659261018037753
          },
          {
           "calibration": false,
           "column_names": "Infected_sol",
           "time": 77,
           "y": 0.0015164281358010499,
           "y0": 0.000849786921753475,
           "y1": 0.0033577486057764982
          },
          {
           "calibration": false,
           "column_names": "Infected_sol",
           "time": 78,
           "y": 0.00142094859620555,
           "y0": 0.000805921171558965,
           "y1": 0.0030937588890082635
          },
          {
           "calibration": false,
           "column_names": "Infected_sol",
           "time": 79,
           "y": 0.00133490154985335,
           "y0": 0.000765347140259065,
           "y1": 0.002861511439550649
          },
          {
           "calibration": false,
           "column_names": "Infected_sol",
           "time": 80,
           "y": 0.0012569224927574,
           "y0": 0.00072765838704065,
           "y1": 0.002656176185700994
          },
          {
           "calibration": false,
           "column_names": "Infected_sol",
           "time": 81,
           "y": 0.0011858788784593001,
           "y0": 0.000692516483832085,
           "y1": 0.002473715145606499
          },
          {
           "calibration": false,
           "column_names": "Infected_sol",
           "time": 82,
           "y": 0.00112083187559615,
           "y0": 0.000659639571676895,
           "y1": 0.0023107453016564194
          },
          {
           "calibration": false,
           "column_names": "Infected_sol",
           "time": 83,
           "y": 0.0010609999299049,
           "y0": 0.000629206275334495,
           "y1": 0.002164448285475319
          },
          {
           "calibration": false,
           "column_names": "Infected_sol",
           "time": 84,
           "y": 0.001005730300676,
           "y0": 0.000600603845668905,
           "y1": 0.0020324567100032543
          },
          {
           "calibration": false,
           "column_names": "Infected_sol",
           "time": 85,
           "y": 0.0009544756903778499,
           "y0": 0.00057362411753274,
           "y1": 0.0019127864448818994
          },
          {
           "calibration": false,
           "column_names": "Infected_sol",
           "time": 86,
           "y": 0.00090677759726525,
           "y0": 0.000548123344196885,
           "y1": 0.0018037760688457093
          },
          {
           "calibration": false,
           "column_names": "Infected_sol",
           "time": 87,
           "y": 0.00086224632104855,
           "y0": 0.000523978055571135,
           "y1": 0.0017040320788509792
          },
          {
           "calibration": false,
           "column_names": "Infected_sol",
           "time": 88,
           "y": 0.00082055496750395,
           "y0": 0.00050108116993209,
           "y1": 0.0016147855028975444
          },
          {
           "calibration": false,
           "column_names": "Infected_sol",
           "time": 89,
           "y": 0.0007814217824488501,
           "y0": 0.00047933890018607,
           "y1": 0.0015331790840718044
          },
          {
           "calibration": false,
           "column_names": "Infected_sol",
           "time": 90,
           "y": 0.00074460700852795,
           "y0": 0.000458669717772815,
           "y1": 0.0014575267909094046
          },
          {
           "calibration": false,
           "column_names": "Infected_sol",
           "time": 91,
           "y": 0.0007099041540640999,
           "y0": 0.000439000793267015,
           "y1": 0.0013871485018170746
          },
          {
           "calibration": false,
           "column_names": "Infected_sol",
           "time": 92,
           "y": 0.0006771346670575,
           "y0": 0.00042026817391158,
           "y1": 0.0013214663602411345
          },
          {
           "calibration": false,
           "column_names": "Infected_sol",
           "time": 93,
           "y": 0.0006462720921263,
           "y0": 0.00040241384267568,
           "y1": 0.0012599898618645645
          },
          {
           "calibration": false,
           "column_names": "Infected_sol",
           "time": 94,
           "y": 0.00061804376309735,
           "y0": 0.000385383704269725,
           "y1": 0.0012022960640023796
          },
          {
           "calibration": false,
           "column_names": "Infected_sol",
           "time": 95,
           "y": 0.0005911847110837,
           "y0": 0.00036913241929135,
           "y1": 0.0011480247485451047
          },
          {
           "calibration": false,
           "column_names": "Infected_sol",
           "time": 96,
           "y": 0.00056560896337025,
           "y0": 0.00035361633053975996,
           "y1": 0.0010968637943732748
          },
          {
           "calibration": false,
           "column_names": "Infected_sol",
           "time": 97,
           "y": 0.0005412401806097001,
           "y0": 0.000338774074043545,
           "y1": 0.00104853945667852
          },
          {
           "calibration": false,
           "column_names": "Infected_sol",
           "time": 98,
           "y": 0.00051800772780545,
           "y0": 0.00032446173427152,
           "y1": 0.0010028192627941847
          },
          {
           "calibration": false,
           "column_names": "Infected_sol",
           "time": 99,
           "y": 0.00049584725638845,
           "y0": 0.00031078589672685,
           "y1": 0.0009594965900759748
          },
          {
           "calibration": true,
           "column_names": "Infected_sol",
           "time": 0,
           "y": 0.000003333333324917476,
           "y0": 0.000003333333324917476,
           "y1": 0.000003333333324917476
          },
          {
           "calibration": true,
           "column_names": "Infected_sol",
           "time": 1,
           "y": 0.000004359231070338865,
           "y0": 0.000004158804676990257,
           "y1": 0.000004568759914036491
          },
          {
           "calibration": true,
           "column_names": "Infected_sol",
           "time": 2,
           "y": 0.000005873882400919683,
           "y0": 0.000005361399325920502,
           "y1": 0.000006443493703045533
          },
          {
           "calibration": true,
           "column_names": "Infected_sol",
           "time": 3,
           "y": 0.000008030513072299073,
           "y0": 0.000007011220736785617,
           "y1": 0.000009213212297254359
          },
          {
           "calibration": true,
           "column_names": "Infected_sol",
           "time": 4,
           "y": 0.000011054448805225547,
           "y0": 0.000009237499671144177,
           "y1": 0.000013253630368126323
          },
          {
           "calibration": true,
           "column_names": "Infected_sol",
           "time": 5,
           "y": 0.00001526541109342361,
           "y0": 0.000012200227274661302,
           "y1": 0.000019130242617393377
          },
          {
           "calibration": true,
           "column_names": "Infected_sol",
           "time": 6,
           "y": 0.000021115068193466868,
           "y0": 0.00001614473849258502,
           "y1": 0.000027644473721011306
          },
          {
           "calibration": true,
           "column_names": "Infected_sol",
           "time": 7,
           "y": 0.000029227908271423075,
           "y0": 0.00002138581558028818,
           "y1": 0.0000398874395614257
          },
          {
           "calibration": true,
           "column_names": "Infected_sol",
           "time": 8,
           "y": 0.000040474335037288256,
           "y0": 0.000028343506801320473,
           "y1": 0.00005756788541475543
          },
          {
           "calibration": true,
           "column_names": "Infected_sol",
           "time": 9,
           "y": 0.00005605911064776592,
           "y0": 0.000037576823888230135,
           "y1": 0.00008309596851177047
          },
          {
           "calibration": true,
           "column_names": "Infected_sol",
           "time": 10,
           "y": 0.00007765346526866779,
           "y0": 0.00004982614700566046,
           "y1": 0.00011995001113968499
          },
          {
           "calibration": true,
           "column_names": "Infected_sol",
           "time": 11,
           "y": 0.00010757055133575,
           "y0": 0.00006607554241782055,
           "y1": 0.00017314807919316996
          },
          {
           "calibration": true,
           "column_names": "Infected_sol",
           "time": 12,
           "y": 0.00014901337999614998,
           "y0": 0.00008762837278482038,
           "y1": 0.00024992861362983993
          },
          {
           "calibration": true,
           "column_names": "Infected_sol",
           "time": 13,
           "y": 0.00020635846158254998,
           "y0": 0.00011621390476640999,
           "y1": 0.0003607243270379749
          },
          {
           "calibration": true,
           "column_names": "Infected_sol",
           "time": 14,
           "y": 0.00028571672737595004,
           "y0": 0.000154123703396125,
           "y1": 0.000520561597659225
          },
          {
           "calibration": true,
           "column_names": "Infected_sol",
           "time": 15,
           "y": 0.00039555391413155,
           "y0": 0.000204393681633445,
           "y1": 0.0007510582072426949
          },
          {
           "calibration": true,
           "column_names": "Infected_sol",
           "time": 16,
           "y": 0.0005475344660226,
           "y0": 0.00027104575710833,
           "y1": 0.0010832643427420097
          },
          {
           "calibration": true,
           "column_names": "Infected_sol",
           "time": 17,
           "y": 0.0007577496871817,
           "y0": 0.00035940473462679,
           "y1": 0.0015616769145707897
          },
          {
           "calibration": true,
           "column_names": "Infected_sol",
           "time": 18,
           "y": 0.0010483642108738,
           "y0": 0.00047651432105334,
           "y1": 0.0022498322534374345
          },
          {
           "calibration": true,
           "column_names": "Infected_sol",
           "time": 19,
           "y": 0.0014498434029519,
           "y0": 0.000631685598636905,
           "y1": 0.003238025051541609
          },
          {
           "calibration": true,
           "column_names": "Infected_sol",
           "time": 20,
           "y": 0.0020039301598444503,
           "y0": 0.000837213121121725,
           "y1": 0.0046536513138561685
          },
          {
           "calibration": true,
           "column_names": "Infected_sol",
           "time": 21,
           "y": 0.00276759674306955,
           "y0": 0.0011093046283349,
           "y1": 0.006674524722620798
          },
          {
           "calibration": true,
           "column_names": "Infected_sol",
           "time": 22,
           "y": 0.00381814234424375,
           "y0": 0.0014692806871607201,
           "y1": 0.009545068629086006
          },
          {
           "calibration": true,
           "column_names": "Infected_sol",
           "time": 23,
           "y": 0.0052595937158912,
           "y0": 0.0019451186002697502,
           "y1": 0.013593548443168381
          },
          {
           "calibration": true,
           "column_names": "Infected_sol",
           "time": 24,
           "y": 0.00723038055002685,
           "y0": 0.00257338854717085,
           "y1": 0.019245783891528794
          },
          {
           "calibration": true,
           "column_names": "Infected_sol",
           "time": 25,
           "y": 0.00991171970963475,
           "y0": 0.003401666402351065,
           "y1": 0.02702498286962501
          },
          {
           "calibration": true,
           "column_names": "Infected_sol",
           "time": 26,
           "y": 0.01353543344885105,
           "y0": 0.00449143811129029,
           "y1": 0.037519415467977456
          },
          {
           "calibration": true,
           "column_names": "Infected_sol",
           "time": 27,
           "y": 0.01838817633688445,
           "y0": 0.005921477405354315,
           "y1": 0.05129062440246336
          },
          {
           "calibration": true,
           "column_names": "Infected_sol",
           "time": 28,
           "y": 0.02480667456984515,
           "y0": 0.00779152608010913,
           "y1": 0.0686944227665662
          },
          {
           "calibration": true,
           "column_names": "Infected_sol",
           "time": 29,
           "y": 0.0331556778401136,
           "y0": 0.010225765639916016,
           "y1": 0.08961051255464551
          },
          {
           "calibration": true,
           "column_names": "Infected_sol",
           "time": 30,
           "y": 0.0437765140086412,
           "y0": 0.013375453557819106,
           "y1": 0.11314515806734553
          },
          {
           "calibration": true,
           "column_names": "Infected_sol",
           "time": 31,
           "y": 0.0567753501236438,
           "y0": 0.01741903005167836,
           "y1": 0.13766574412584298
          },
          {
           "calibration": true,
           "column_names": "Infected_sol",
           "time": 32,
           "y": 0.0721356682479381,
           "y0": 0.022557408735155996,
           "y1": 0.1605376623570918
          },
          {
           "calibration": true,
           "column_names": "Infected_sol",
           "time": 33,
           "y": 0.08938146755099295,
           "y0": 0.029001291655004004,
           "y1": 0.17879000529646868
          },
          {
           "calibration": true,
           "column_names": "Infected_sol",
           "time": 34,
           "y": 0.10752332955598826,
           "y0": 0.03694617636501786,
           "y1": 0.18930785506963727
          },
          {
           "calibration": true,
           "column_names": "Infected_sol",
           "time": 35,
           "y": 0.1250863447785377,
           "y0": 0.04653191175311796,
           "y1": 0.19440845176577562
          },
          {
           "calibration": true,
           "column_names": "Infected_sol",
           "time": 36,
           "y": 0.14080660790204996,
           "y0": 0.0577851690351963,
           "y1": 0.19402561187744138
          },
          {
           "calibration": true,
           "column_names": "Infected_sol",
           "time": 37,
           "y": 0.15359179675579065,
           "y0": 0.07055144757032386,
           "y1": 0.18604665845632548
          },
          {
           "calibration": true,
           "column_names": "Infected_sol",
           "time": 38,
           "y": 0.15408321470022196,
           "y0": 0.08443146497011181,
           "y1": 0.1788981981575489
          },
          {
           "calibration": true,
           "column_names": "Infected_sol",
           "time": 39,
           "y": 0.1496937274932861,
           "y0": 0.09875079281628124,
           "y1": 0.17127731069922442
          },
          {
           "calibration": true,
           "column_names": "Infected_sol",
           "time": 40,
           "y": 0.14164345711469645,
           "y0": 0.10563230924308295,
           "y1": 0.16862318813800808
          },
          {
           "calibration": true,
           "column_names": "Infected_sol",
           "time": 41,
           "y": 0.1369930431246757,
           "y0": 0.10103799030184742,
           "y1": 0.1611361466348171
          },
          {
           "calibration": true,
           "column_names": "Infected_sol",
           "time": 42,
           "y": 0.1345833539962768,
           "y0": 0.08624108247458931,
           "y1": 0.1533593863248825
          },
          {
           "calibration": true,
           "column_names": "Infected_sol",
           "time": 43,
           "y": 0.12564964964985845,
           "y0": 0.07290692441165442,
           "y1": 0.14858146756887433
          },
          {
           "calibration": true,
           "column_names": "Infected_sol",
           "time": 44,
           "y": 0.1106377765536308,
           "y0": 0.061188021488487676,
           "y1": 0.14602494612336156
          },
          {
           "calibration": true,
           "column_names": "Infected_sol",
           "time": 45,
           "y": 0.09661773592233655,
           "y0": 0.051079993508756125,
           "y1": 0.14374166429042812
          },
          {
           "calibration": true,
           "column_names": "Infected_sol",
           "time": 46,
           "y": 0.0837972685694694,
           "y0": 0.042484527826309175,
           "y1": 0.13920156955718993
          },
          {
           "calibration": true,
           "column_names": "Infected_sol",
           "time": 47,
           "y": 0.07216045260429375,
           "y0": 0.03525407165288925,
           "y1": 0.12970250621438023
          },
          {
           "calibration": true,
           "column_names": "Infected_sol",
           "time": 48,
           "y": 0.06169938482344145,
           "y0": 0.029221913404762725,
           "y1": 0.1193227041512727
          },
          {
           "calibration": true,
           "column_names": "Infected_sol",
           "time": 49,
           "y": 0.05247387848794455,
           "y0": 0.024220976512879095,
           "y1": 0.10928922444581982
          },
          {
           "calibration": true,
           "column_names": "Infected_sol",
           "time": 50,
           "y": 0.0444574691355228,
           "y0": 0.0200944275595247,
           "y1": 0.09883730411529536
          },
          {
           "calibration": true,
           "column_names": "Infected_sol",
           "time": 51,
           "y": 0.03757135383784765,
           "y0": 0.016701112128794167,
           "y1": 0.08832901529967778
          },
          {
           "calibration": true,
           "column_names": "Infected_sol",
           "time": 52,
           "y": 0.031708884984254795,
           "y0": 0.013917445018887465,
           "y1": 0.07816442772746081
          },
          {
           "calibration": true,
           "column_names": "Infected_sol",
           "time": 53,
           "y": 0.026752623729407753,
           "y0": 0.011637377412989654,
           "y1": 0.0686159495264291
          },
          {
           "calibration": true,
           "column_names": "Infected_sol",
           "time": 54,
           "y": 0.0225849570706486,
           "y0": 0.009771219315007285,
           "y1": 0.059906562231481025
          },
          {
           "calibration": true,
           "column_names": "Infected_sol",
           "time": 55,
           "y": 0.019094511866569498,
           "y0": 0.008243961026892026,
           "y1": 0.05205628555268041
          },
          {
           "calibration": true,
           "column_names": "Infected_sol",
           "time": 56,
           "y": 0.0161800384521484,
           "y0": 0.006993365264497635,
           "y1": 0.04505989085882896
          },
          {
           "calibration": true,
           "column_names": "Infected_sol",
           "time": 57,
           "y": 0.01375147793442005,
           "y0": 0.005968136782757875,
           "y1": 0.03889680188149206
          },
          {
           "calibration": true,
           "column_names": "Infected_sol",
           "time": 58,
           "y": 0.01173035195097325,
           "y0": 0.005126199661754025,
           "y1": 0.03351827953010794
          },
          {
           "calibration": true,
           "column_names": "Infected_sol",
           "time": 59,
           "y": 0.0100492513738572,
           "y0": 0.0044331870041787,
           "y1": 0.028859236184507524
          },
          {
           "calibration": true,
           "column_names": "Infected_sol",
           "time": 60,
           "y": 0.008650797419249949,
           "y0": 0.003861107199918425,
           "y1": 0.02484712330624456
          },
          {
           "calibration": true,
           "column_names": "Infected_sol",
           "time": 61,
           "y": 0.00748664629645645,
           "y0": 0.00338720408035435,
           "y1": 0.02140807546675199
          },
          {
           "calibration": true,
           "column_names": "Infected_sol",
           "time": 62,
           "y": 0.0065162717364728,
           "y0": 0.00299303211504587,
           "y1": 0.018470697104930815
          },
          {
           "calibration": true,
           "column_names": "Infected_sol",
           "time": 63,
           "y": 0.00570589536800975,
           "y0": 0.00266366229625415,
           "y1": 0.015968431672081316
          },
          {
           "calibration": true,
           "column_names": "Infected_sol",
           "time": 64,
           "y": 0.0050274890381842505,
           "y0": 0.00238700220361345,
           "y1": 0.013840779662132232
          },
          {
           "calibration": true,
           "column_names": "Infected_sol",
           "time": 65,
           "y": 0.0044578604865819,
           "y0": 0.00215328164631495,
           "y1": 0.012033730512484837
          },
          {
           "calibration": true,
           "column_names": "Infected_sol",
           "time": 66,
           "y": 0.0039778769714757,
           "y0": 0.0019546092778909303,
           "y1": 0.010499799158424068
          },
          {
           "calibration": true,
           "column_names": "Infected_sol",
           "time": 67,
           "y": 0.00357178668491535,
           "y0": 0.00178460628376337,
           "y1": 0.009197602188214577
          },
          {
           "calibration": true,
           "column_names": "Infected_sol",
           "time": 68,
           "y": 0.00321718002669505,
           "y0": 0.001644723681965825,
           "y1": 0.008091514999978183
          },
          {
           "calibration": true,
           "column_names": "Infected_sol",
           "time": 69,
           "y": 0.00290569919161495,
           "y0": 0.001524475374026175,
           "y1": 0.007150945626199163
          },
          {
           "calibration": true,
           "column_names": "Infected_sol",
           "time": 70,
           "y": 0.0026356130838394,
           "y0": 0.001419160765362855,
           "y1": 0.006349859712645324
          },
          {
           "calibration": true,
           "column_names": "Infected_sol",
           "time": 71,
           "y": 0.0024033644003793,
           "y0": 0.001324971677968235,
           "y1": 0.005666173505596759
          },
          {
           "calibration": true,
           "column_names": "Infected_sol",
           "time": 72,
           "y": 0.0022025479702278503,
           "y0": 0.00123869155067947,
           "y1": 0.005081212241202504
          },
          {
           "calibration": true,
           "column_names": "Infected_sol",
           "time": 73,
           "y": 0.0020278949523344497,
           "y0": 0.001160385349066925,
           "y1": 0.004579242714680664
          },
          {
           "calibration": true,
           "column_names": "Infected_sol",
           "time": 74,
           "y": 0.00187507807277135,
           "y0": 0.00108825132483612,
           "y1": 0.004147057933732835
          },
          {
           "calibration": true,
           "column_names": "Infected_sol",
           "time": 75,
           "y": 0.0017421933589503,
           "y0": 0.001021778007270735,
           "y1": 0.0037735478719695997
          },
          {
           "calibration": true,
           "column_names": "Infected_sol",
           "time": 76,
           "y": 0.0016248394967988,
           "y0": 0.00096067357226271,
           "y1": 0.0034494286286644448
          },
          {
           "calibration": true,
           "column_names": "Infected_sol",
           "time": 77,
           "y": 0.0015253458404913,
           "y0": 0.00090456231264396,
           "y1": 0.0031669287127442146
          },
          {
           "calibration": true,
           "column_names": "Infected_sol",
           "time": 78,
           "y": 0.00143737025791775,
           "y0": 0.0008532407024176201,
           "y1": 0.0029195499839260496
          },
          {
           "calibration": true,
           "column_names": "Infected_sol",
           "time": 79,
           "y": 0.0013544743997044,
           "y0": 0.000806072747218405,
           "y1": 0.002701863518450335
          },
          {
           "calibration": true,
           "column_names": "Infected_sol",
           "time": 80,
           "y": 0.0012773555936290999,
           "y0": 0.00076252996223039,
           "y1": 0.002509337500669015
          },
          {
           "calibration": true,
           "column_names": "Infected_sol",
           "time": 81,
           "y": 0.0012068693758919501,
           "y0": 0.0007221745967398499,
           "y1": 0.002338184404652485
          },
          {
           "calibration": true,
           "column_names": "Infected_sol",
           "time": 82,
           "y": 0.0011421300587244,
           "y0": 0.00068404510093385,
           "y1": 0.0021835545310750497
          },
          {
           "calibration": true,
           "column_names": "Infected_sol",
           "time": 83,
           "y": 0.00108240172266955,
           "y0": 0.000648016255581715,
           "y1": 0.00204442945541809
          },
          {
           "calibration": true,
           "column_names": "Infected_sol",
           "time": 84,
           "y": 0.0010270727216265501,
           "y0": 0.00061444903840303,
           "y1": 0.00191906664986162
          },
          {
           "calibration": true,
           "column_names": "Infected_sol",
           "time": 85,
           "y": 0.00097563138115215,
           "y0": 0.00058308615698473,
           "y1": 0.0018055411404929598
          },
          {
           "calibration": true,
           "column_names": "Infected_sol",
           "time": 86,
           "y": 0.0009284932457376,
           "y0": 0.000553707577637345,
           "y1": 0.0017022540036122698
          },
          {
           "calibration": true,
           "column_names": "Infected_sol",
           "time": 87,
           "y": 0.0008850496669765,
           "y0": 0.000526126343174775,
           "y1": 0.0016078532324172148
          },
          {
           "calibration": true,
           "column_names": "Infected_sol",
           "time": 88,
           "y": 0.00084421012434175,
           "y0": 0.00050085362745445,
           "y1": 0.0015212030324618648
          },
          {
           "calibration": true,
           "column_names": "Infected_sol",
           "time": 89,
           "y": 0.0008057308150455,
           "y0": 0.00047813142737132997,
           "y1": 0.001441341423196685
          },
          {
           "calibration": true,
           "column_names": "Infected_sol",
           "time": 90,
           "y": 0.000769403995946,
           "y0": 0.00045654890418509,
           "y1": 0.001367459521861705
          },
          {
           "calibration": true,
           "column_names": "Infected_sol",
           "time": 91,
           "y": 0.00073504727333775,
           "y0": 0.000435778198880075,
           "y1": 0.001298871036851755
          },
          {
           "calibration": true,
           "column_names": "Infected_sol",
           "time": 92,
           "y": 0.0007025035738479,
           "y0": 0.000416077388217645,
           "y1": 0.001234991231467505
          },
          {
           "calibration": true,
           "column_names": "Infected_sol",
           "time": 93,
           "y": 0.0006716359930578,
           "y0": 0.000397372232691795,
           "y1": 0.001175320957554425
          },
          {
           "calibration": true,
           "column_names": "Infected_sol",
           "time": 94,
           "y": 0.00064232334261755,
           "y0": 0.000378522169194125,
           "y1": 0.00111943557858458
          },
          {
           "calibration": true,
           "column_names": "Infected_sol",
           "time": 95,
           "y": 0.00061411020578815,
           "y0": 0.00036057392717336,
           "y1": 0.0010669667273759148
          },
          {
           "calibration": true,
           "column_names": "Infected_sol",
           "time": 96,
           "y": 0.00058694457402445,
           "y0": 0.00034353920927964,
           "y1": 0.0010175984585657151
          },
          {
           "calibration": true,
           "column_names": "Infected_sol",
           "time": 97,
           "y": 0.0005611165543086001,
           "y0": 0.000327362489770145,
           "y1": 0.0009710563957923599
          },
          {
           "calibration": true,
           "column_names": "Infected_sol",
           "time": 98,
           "y": 0.0005365418619476001,
           "y0": 0.00031199259683484503,
           "y1": 0.0009271041752071699
          },
          {
           "calibration": true,
           "column_names": "Infected_sol",
           "time": 99,
           "y": 0.00051314325537525,
           "y0": 0.00029738301091126004,
           "y1": 0.0008855313964886049
          },
          {
           "calibration": false,
           "column_names": "Recognized_sol",
           "time": 0,
           "y": 3.333333253863202e-8,
           "y0": 3.333333253863202e-8,
           "y1": 3.333333253863202e-8
          },
          {
           "calibration": false,
           "column_names": "Recognized_sol",
           "time": 1,
           "y": 1.841765495669279e-7,
           "y0": 1.7168242507636933e-7,
           "y1": 1.9673198181635598e-7
          },
          {
           "calibration": false,
           "column_names": "Recognized_sol",
           "time": 2,
           "y": 5.35993251560285e-7,
           "y0": 5.009530724464639e-7,
           "y1": 5.928527997411948e-7
          },
          {
           "calibration": false,
           "column_names": "Recognized_sol",
           "time": 3,
           "y": 0.0000011219198086109827,
           "y0": 0.0000010359297164086457,
           "y1": 0.0000012585729677994094
          },
          {
           "calibration": false,
           "column_names": "Recognized_sol",
           "time": 4,
           "y": 0.0000019744516066566575,
           "y0": 0.0000017960907428005157,
           "y1": 0.0000022531051627083795
          },
          {
           "calibration": false,
           "column_names": "Recognized_sol",
           "time": 5,
           "y": 0.0000032125370807989384,
           "y0": 0.000002831444260209537,
           "y1": 0.000003714583510827652
          },
          {
           "calibration": false,
           "column_names": "Recognized_sol",
           "time": 6,
           "y": 0.0000049544107696419815,
           "y0": 0.000004260720743332058,
           "y1": 0.000005842562109137361
          },
          {
           "calibration": false,
           "column_names": "Recognized_sol",
           "time": 7,
           "y": 0.0000073149949457729235,
           "y0": 0.000006126715834398055,
           "y1": 0.000008989886555355041
          },
          {
           "calibration": false,
           "column_names": "Recognized_sol",
           "time": 8,
           "y": 0.000010663492503226735,
           "y0": 0.000008560609967389609,
           "y1": 0.000013592620234703645
          },
          {
           "calibration": false,
           "column_names": "Recognized_sol",
           "time": 9,
           "y": 0.000015250712749548256,
           "y0": 0.000011700956974891596,
           "y1": 0.00002029694351222133
          },
          {
           "calibration": false,
           "column_names": "Recognized_sol",
           "time": 10,
           "y": 0.00002159354062314378,
           "y0": 0.00001583705698067206,
           "y1": 0.000030018768757145154
          },
          {
           "calibration": false,
           "column_names": "Recognized_sol",
           "time": 11,
           "y": 0.00003037132955796551,
           "y0": 0.000021232972176221666,
           "y1": 0.000044260652975935956
          },
          {
           "calibration": false,
           "column_names": "Recognized_sol",
           "time": 12,
           "y": 0.000042521985960775055,
           "y0": 0.000028302909504418496,
           "y1": 0.00006471945052908267
          },
          {
           "calibration": false,
           "column_names": "Recognized_sol",
           "time": 13,
           "y": 0.000059346097259549424,
           "y0": 0.00003760728031920735,
           "y1": 0.00009436593281861861
          },
          {
           "calibration": false,
           "column_names": "Recognized_sol",
           "time": 14,
           "y": 0.00008264548523584381,
           "y0": 0.00004993668389943196,
           "y1": 0.000137684604851485
          },
          {
           "calibration": false,
           "column_names": "Recognized_sol",
           "time": 15,
           "y": 0.00011491600889704999,
           "y0": 0.00006616726932406891,
           "y1": 0.000201461936376235
          },
          {
           "calibration": false,
           "column_names": "Recognized_sol",
           "time": 16,
           "y": 0.00015961384633550002,
           "y0": 0.00008753862166486215,
           "y1": 0.00029460332152664
          },
          {
           "calibration": false,
           "column_names": "Recognized_sol",
           "time": 17,
           "y": 0.00022152360179455,
           "y0": 0.00011568383051779001,
           "y1": 0.00043054534035033
          },
          {
           "calibration": false,
           "column_names": "Recognized_sol",
           "time": 18,
           "y": 0.00030726358818355004,
           "y0": 0.00015277753700497,
           "y1": 0.000628860873985055
          },
          {
           "calibration": false,
           "column_names": "Recognized_sol",
           "time": 19,
           "y": 0.00042598308937155,
           "y0": 0.000202230709692175,
           "y1": 0.00091796602064272
          },
          {
           "calibration": false,
           "column_names": "Recognized_sol",
           "time": 20,
           "y": 0.0005903175333514001,
           "y0": 0.00026748699019662,
           "y1": 0.0013389885250944449
          },
          {
           "calibration": false,
           "column_names": "Recognized_sol",
           "time": 21,
           "y": 0.00081768655218175,
           "y0": 0.00035305370111014,
           "y1": 0.0019511888967826698
          },
          {
           "calibration": false,
           "column_names": "Recognized_sol",
           "time": 22,
           "y": 0.0011320630437694,
           "y0": 0.00046583316143362,
           "y1": 0.0028394137625582
          },
          {
           "calibration": false,
           "column_names": "Recognized_sol",
           "time": 23,
           "y": 0.00156633363803845,
           "y0": 0.0006144443410448499,
           "y1": 0.00412402749061579
          },
          {
           "calibration": false,
           "column_names": "Recognized_sol",
           "time": 24,
           "y": 0.00216075382195405,
           "y0": 0.000810203491710085,
           "y1": 0.005973454099148445
          },
          {
           "calibration": false,
           "column_names": "Recognized_sol",
           "time": 25,
           "y": 0.002977630123496,
           "y0": 0.001067950046854065,
           "y1": 0.008618850680068055
          },
          {
           "calibration": false,
           "column_names": "Recognized_sol",
           "time": 26,
           "y": 0.0040975480806082,
           "y0": 0.001407100883079645,
           "y1": 0.012368623726069854
          },
          {
           "calibration": false,
           "column_names": "Recognized_sol",
           "time": 27,
           "y": 0.0056279562413692,
           "y0": 0.00185299754375585,
           "y1": 0.017617827188223568
          },
          {
           "calibration": false,
           "column_names": "Recognized_sol",
           "time": 28,
           "y": 0.00771017977967855,
           "y0": 0.00243859448237337,
           "y1": 0.024843497574329323
          },
          {
           "calibration": false,
           "column_names": "Recognized_sol",
           "time": 29,
           "y": 0.010526527184993001,
           "y0": 0.0032065625302492903,
           "y1": 0.034573964029550534
          },
          {
           "calibration": false,
           "column_names": "Recognized_sol",
           "time": 30,
           "y": 0.0143061527051031,
           "y0": 0.00421180783305314,
           "y1": 0.04732060916721814
          },
          {
           "calibration": false,
           "column_names": "Recognized_sol",
           "time": 31,
           "y": 0.01932678837329145,
           "y0": 0.005524423997849145,
           "y1": 0.06347244977951046
          },
          {
           "calibration": false,
           "column_names": "Recognized_sol",
           "time": 32,
           "y": 0.025908513925969552,
           "y0": 0.007232974935322939,
           "y1": 0.08317420743405811
          },
          {
           "calibration": false,
           "column_names": "Recognized_sol",
           "time": 33,
           "y": 0.034394465386867454,
           "y0": 0.00944780567660922,
           "y1": 0.10612552836537358
          },
          {
           "calibration": false,
           "column_names": "Recognized_sol",
           "time": 34,
           "y": 0.04511470720171925,
           "y0": 0.01230392768047741,
           "y1": 0.13174157440662376
          },
          {
           "calibration": false,
           "column_names": "Recognized_sol",
           "time": 35,
           "y": 0.058333016932010595,
           "y0": 0.015962659800425116,
           "y1": 0.1594322755932808
          },
          {
           "calibration": false,
           "column_names": "Recognized_sol",
           "time": 36,
           "y": 0.0741834677755832,
           "y0": 0.02061059102416032,
           "y1": 0.18808553069829936
          },
          {
           "calibration": false,
           "column_names": "Recognized_sol",
           "time": 37,
           "y": 0.09261177480220789,
           "y0": 0.0264544974081218,
           "y1": 0.21651493087410928
          },
          {
           "calibration": false,
           "column_names": "Recognized_sol",
           "time": 38,
           "y": 0.11334137991070745,
           "y0": 0.03371029645204542,
           "y1": 0.2438749141991138
          },
          {
           "calibration": false,
           "column_names": "Recognized_sol",
           "time": 39,
           "y": 0.13587778806686396,
           "y0": 0.042584693804383275,
           "y1": 0.270148192346096
          },
          {
           "calibration": false,
           "column_names": "Recognized_sol",
           "time": 40,
           "y": 0.15962946414947504,
           "y0": 0.05324971266090864,
           "y1": 0.2939450219273567
          },
          {
           "calibration": false,
           "column_names": "Recognized_sol",
           "time": 41,
           "y": 0.1839259415864944,
           "y0": 0.0658122647553682,
           "y1": 0.3144302606582641
          },
          {
           "calibration": false,
           "column_names": "Recognized_sol",
           "time": 42,
           "y": 0.208048015832901,
           "y0": 0.08028348572552202,
           "y1": 0.33138653486967085
          },
          {
           "calibration": false,
           "column_names": "Recognized_sol",
           "time": 43,
           "y": 0.23142503201961512,
           "y0": 0.0965557567775249,
           "y1": 0.34517565518617627
          },
          {
           "calibration": false,
           "column_names": "Recognized_sol",
           "time": 44,
           "y": 0.2531642541289329,
           "y0": 0.11439252980053422,
           "y1": 0.35577067285776137
          },
          {
           "calibration": false,
           "column_names": "Recognized_sol",
           "time": 45,
           "y": 0.272772416472435,
           "y0": 0.13343704566359518,
           "y1": 0.36417210847139353
          },
          {
           "calibration": false,
           "column_names": "Recognized_sol",
           "time": 46,
           "y": 0.2899110466241836,
           "y0": 0.15323817059397696,
           "y1": 0.36979733407497406
          },
          {
           "calibration": false,
           "column_names": "Recognized_sol",
           "time": 47,
           "y": 0.3043886423110962,
           "y0": 0.17328888028860087,
           "y1": 0.3728458449244499
          },
          {
           "calibration": false,
           "column_names": "Recognized_sol",
           "time": 48,
           "y": 0.3161430060863495,
           "y0": 0.19307038038969038,
           "y1": 0.37364471405744554
          },
          {
           "calibration": false,
           "column_names": "Recognized_sol",
           "time": 49,
           "y": 0.3275715708732605,
           "y0": 0.21209303960204123,
           "y1": 0.3724218755960464
          },
          {
           "calibration": false,
           "column_names": "Recognized_sol",
           "time": 50,
           "y": 0.3356782048940658,
           "y0": 0.22992822453379627,
           "y1": 0.3694591656327247
          },
          {
           "calibration": false,
           "column_names": "Recognized_sol",
           "time": 51,
           "y": 0.33959782123565674,
           "y0": 0.2462294541299343,
           "y1": 0.36607490926980973
          },
          {
           "calibration": false,
           "column_names": "Recognized_sol",
           "time": 52,
           "y": 0.3404357433319092,
           "y0": 0.26074215620756147,
           "y1": 0.36297632604837415
          },
          {
           "calibration": false,
           "column_names": "Recognized_sol",
           "time": 53,
           "y": 0.3417627662420273,
           "y0": 0.273302786052227,
           "y1": 0.35828956365585324
          },
          {
           "calibration": false,
           "column_names": "Recognized_sol",
           "time": 54,
           "y": 0.3380354940891266,
           "y0": 0.2835241496562958,
           "y1": 0.3549453645944595
          },
          {
           "calibration": false,
           "column_names": "Recognized_sol",
           "time": 55,
           "y": 0.333890363574028,
           "y0": 0.29167758524417875,
           "y1": 0.3520160004496574
          },
          {
           "calibration": false,
           "column_names": "Recognized_sol",
           "time": 56,
           "y": 0.3289392739534378,
           "y0": 0.2965435773134231,
           "y1": 0.3513378217816353
          },
          {
           "calibration": false,
           "column_names": "Recognized_sol",
           "time": 57,
           "y": 0.3236854374408722,
           "y0": 0.29698984175920484,
           "y1": 0.34904248416423794
          },
          {
           "calibration": false,
           "column_names": "Recognized_sol",
           "time": 58,
           "y": 0.3175367265939712,
           "y0": 0.2906979814171791,
           "y1": 0.3453705936670303
          },
          {
           "calibration": false,
           "column_names": "Recognized_sol",
           "time": 59,
           "y": 0.30958084762096405,
           "y0": 0.28379170298576356,
           "y1": 0.34051080793142313
          },
          {
           "calibration": false,
           "column_names": "Recognized_sol",
           "time": 60,
           "y": 0.3051573783159256,
           "y0": 0.27445215582847593,
           "y1": 0.33463838100433346
          },
          {
           "calibration": false,
           "column_names": "Recognized_sol",
           "time": 61,
           "y": 0.29900673031806946,
           "y0": 0.26511431485414505,
           "y1": 0.3297274813055992
          },
          {
           "calibration": false,
           "column_names": "Recognized_sol",
           "time": 62,
           "y": 0.2914027124643326,
           "y0": 0.25583328455686566,
           "y1": 0.32449645847082137
          },
          {
           "calibration": false,
           "column_names": "Recognized_sol",
           "time": 63,
           "y": 0.28354428708553314,
           "y0": 0.24665628522634503,
           "y1": 0.31782340854406355
          },
          {
           "calibration": false,
           "column_names": "Recognized_sol",
           "time": 64,
           "y": 0.2753848731517792,
           "y0": 0.23784545511007305,
           "y1": 0.3107151687145233
          },
          {
           "calibration": false,
           "column_names": "Recognized_sol",
           "time": 65,
           "y": 0.26667711138725275,
           "y0": 0.22920071929693217,
           "y1": 0.3038946121931076
          },
          {
           "calibration": false,
           "column_names": "Recognized_sol",
           "time": 66,
           "y": 0.2580493241548538,
           "y0": 0.22073238641023632,
           "y1": 0.2959589749574661
          },
          {
           "calibration": false,
           "column_names": "Recognized_sol",
           "time": 67,
           "y": 0.24953312426805496,
           "y0": 0.21245897859334942,
           "y1": 0.2878524452447891
          },
          {
           "calibration": false,
           "column_names": "Recognized_sol",
           "time": 68,
           "y": 0.2410281971096992,
           "y0": 0.20439423695206635,
           "y1": 0.27964206933975216
          },
          {
           "calibration": false,
           "column_names": "Recognized_sol",
           "time": 69,
           "y": 0.2326531037688255,
           "y0": 0.19654853567481034,
           "y1": 0.27138507962226865
          },
          {
           "calibration": false,
           "column_names": "Recognized_sol",
           "time": 70,
           "y": 0.22443332523107526,
           "y0": 0.1889293327927589,
           "y1": 0.26312993466854095
          },
          {
           "calibration": false,
           "column_names": "Recognized_sol",
           "time": 71,
           "y": 0.2163871973752975,
           "y0": 0.18154128566384312,
           "y1": 0.2553284481167793
          },
          {
           "calibration": false,
           "column_names": "Recognized_sol",
           "time": 72,
           "y": 0.20852620154619217,
           "y0": 0.1743867203593254,
           "y1": 0.24768494442105288
          },
          {
           "calibration": false,
           "column_names": "Recognized_sol",
           "time": 73,
           "y": 0.20076878368854514,
           "y0": 0.16746677979826924,
           "y1": 0.24005674272775646
          },
          {
           "calibration": false,
           "column_names": "Recognized_sol",
           "time": 74,
           "y": 0.1932264268398285,
           "y0": 0.16078038066625588,
           "y1": 0.23247053474187843
          },
          {
           "calibration": false,
           "column_names": "Recognized_sol",
           "time": 75,
           "y": 0.18590448051691055,
           "y0": 0.1543258614838123,
           "y1": 0.22495617568492884
          },
          {
           "calibration": false,
           "column_names": "Recognized_sol",
           "time": 76,
           "y": 0.1788063123822212,
           "y0": 0.14810003638267513,
           "y1": 0.21753920242190358
          },
          {
           "calibration": false,
           "column_names": "Recognized_sol",
           "time": 77,
           "y": 0.17208226770162582,
           "y0": 0.1420992225408554,
           "y1": 0.21024055331945418
          },
          {
           "calibration": false,
           "column_names": "Recognized_sol",
           "time": 78,
           "y": 0.16563889384269714,
           "y0": 0.1363191872835159,
           "y1": 0.20307758897542946
          },
          {
           "calibration": false,
           "column_names": "Recognized_sol",
           "time": 79,
           "y": 0.15941198170185084,
           "y0": 0.13075467795133588,
           "y1": 0.19606364518404001
          },
          {
           "calibration": false,
           "column_names": "Recognized_sol",
           "time": 80,
           "y": 0.15339790284633636,
           "y0": 0.1254006132483482,
           "y1": 0.18920990228652954
          },
          {
           "calibration": false,
           "column_names": "Recognized_sol",
           "time": 81,
           "y": 0.14759252220392224,
           "y0": 0.12025135271251197,
           "y1": 0.18252453580498693
          },
          {
           "calibration": false,
           "column_names": "Recognized_sol",
           "time": 82,
           "y": 0.14199131727218625,
           "y0": 0.11530103310942642,
           "y1": 0.176013646274805
          },
          {
           "calibration": false,
           "column_names": "Recognized_sol",
           "time": 83,
           "y": 0.1365894302725792,
           "y0": 0.1105437453836202,
           "y1": 0.1696816429495811
          },
          {
           "calibration": false,
           "column_names": "Recognized_sol",
           "time": 84,
           "y": 0.13138157129287714,
           "y0": 0.10597339607775208,
           "y1": 0.1635310232639312
          },
          {
           "calibration": false,
           "column_names": "Recognized_sol",
           "time": 85,
           "y": 0.12636257708072654,
           "y0": 0.1015839088708162,
           "y1": 0.15756320953369138
          },
          {
           "calibration": false,
           "column_names": "Recognized_sol",
           "time": 86,
           "y": 0.1215269304811954,
           "y0": 0.09736937507987016,
           "y1": 0.15177838280797
          },
          {
           "calibration": false,
           "column_names": "Recognized_sol",
           "time": 87,
           "y": 0.11677761375904075,
           "y0": 0.09332364685833451,
           "y1": 0.14617567285895344
          },
          {
           "calibration": false,
           "column_names": "Recognized_sol",
           "time": 88,
           "y": 0.11215754598379135,
           "y0": 0.08944075703620906,
           "y1": 0.1407537683844566
          },
          {
           "calibration": false,
           "column_names": "Recognized_sol",
           "time": 89,
           "y": 0.10771090164780614,
           "y0": 0.08571493960916991,
           "y1": 0.13551016822457307
          },
          {
           "calibration": false,
           "column_names": "Recognized_sol",
           "time": 90,
           "y": 0.10343256220221514,
           "y0": 0.08214037492871283,
           "y1": 0.13044228330254554
          },
          {
           "calibration": false,
           "column_names": "Recognized_sol",
           "time": 91,
           "y": 0.09931718930602071,
           "y0": 0.07871148921549316,
           "y1": 0.12554688379168505
          },
          {
           "calibration": false,
           "column_names": "Recognized_sol",
           "time": 92,
           "y": 0.0953595750033855,
           "y0": 0.0754226870834827,
           "y1": 0.12082029320299617
          },
          {
           "calibration": false,
           "column_names": "Recognized_sol",
           "time": 93,
           "y": 0.09155448898673055,
           "y0": 0.07226897403597826,
           "y1": 0.11625883728265757
          },
          {
           "calibration": false,
           "column_names": "Recognized_sol",
           "time": 94,
           "y": 0.08789670094847675,
           "y0": 0.06924476586282251,
           "y1": 0.11185845956206317
          },
          {
           "calibration": false,
           "column_names": "Recognized_sol",
           "time": 95,
           "y": 0.08438120037317275,
           "y0": 0.0663452479988336,
           "y1": 0.10761488154530519
          },
          {
           "calibration": false,
           "column_names": "Recognized_sol",
           "time": 96,
           "y": 0.08100287616252895,
           "y0": 0.06356544233858578,
           "y1": 0.10352377369999885
          },
          {
           "calibration": false,
           "column_names": "Recognized_sol",
           "time": 97,
           "y": 0.0777569971978664,
           "y0": 0.06090063322335475,
           "y1": 0.09958090484142296
          },
          {
           "calibration": false,
           "column_names": "Recognized_sol",
           "time": 98,
           "y": 0.07463867217302315,
           "y0": 0.05834628101438279,
           "y1": 0.095781872048974
          },
          {
           "calibration": false,
           "column_names": "Recognized_sol",
           "time": 99,
           "y": 0.07167224958539005,
           "y0": 0.05589796584099527,
           "y1": 0.09212209656834601
          },
          {
           "calibration": true,
           "column_names": "Recognized_sol",
           "time": 0,
           "y": 3.333333253863202e-8,
           "y0": 3.333333253863202e-8,
           "y1": 3.333333253863202e-8
          },
          {
           "calibration": true,
           "column_names": "Recognized_sol",
           "time": 1,
           "y": 1.806019440664386e-7,
           "y0": 1.678766743395954e-7,
           "y1": 1.928902634062979e-7
          },
          {
           "calibration": true,
           "column_names": "Recognized_sol",
           "time": 2,
           "y": 5.274298757740326e-7,
           "y0": 4.865328207870334e-7,
           "y1": 5.816520030066386e-7
          },
          {
           "calibration": true,
           "column_names": "Recognized_sol",
           "time": 3,
           "y": 0.0000011001181405845273,
           "y0": 0.0000010007867558670114,
           "y1": 0.000001233391105870396
          },
          {
           "calibration": true,
           "column_names": "Recognized_sol",
           "time": 4,
           "y": 0.000001941765731316991,
           "y0": 0.000001733844095497261,
           "y1": 0.000002218558211097843
          },
          {
           "calibration": true,
           "column_names": "Recognized_sol",
           "time": 5,
           "y": 0.00000310791585889092,
           "y0": 0.000002739822457442642,
           "y1": 0.0000036692428807327814
          },
          {
           "calibration": true,
           "column_names": "Recognized_sol",
           "time": 6,
           "y": 0.000004776590003530146,
           "y0": 0.000004096368456885102,
           "y1": 0.000005820479873364093
          },
          {
           "calibration": true,
           "column_names": "Recognized_sol",
           "time": 7,
           "y": 0.000007097797833921504,
           "y0": 0.000005910180038881663,
           "y1": 0.000008968158272182335
          },
          {
           "calibration": true,
           "column_names": "Recognized_sol",
           "time": 8,
           "y": 0.000010329544238629751,
           "y0": 0.000008293104247059092,
           "y1": 0.000013570093733505926
          },
          {
           "calibration": true,
           "column_names": "Recognized_sol",
           "time": 9,
           "y": 0.000014931611076463014,
           "y0": 0.000011436480872362153,
           "y1": 0.00002009625268328818
          },
          {
           "calibration": true,
           "column_names": "Recognized_sol",
           "time": 10,
           "y": 0.000021376465156208724,
           "y0": 0.000015584355332975973,
           "y1": 0.000029345035181904673
          },
          {
           "calibration": true,
           "column_names": "Recognized_sol",
           "time": 11,
           "y": 0.000030237913961173035,
           "y0": 0.000021209427268331636,
           "y1": 0.00004261327849235385
          },
          {
           "calibration": true,
           "column_names": "Recognized_sol",
           "time": 12,
           "y": 0.000042298630432924256,
           "y0": 0.000028761228440998822,
           "y1": 0.0000616528297541663
          },
          {
           "calibration": true,
           "column_names": "Recognized_sol",
           "time": 13,
           "y": 0.00005907528611714952,
           "y0": 0.00003885118476318894,
           "y1": 0.00008897847656044177
          },
          {
           "calibration": true,
           "column_names": "Recognized_sol",
           "time": 14,
           "y": 0.00008210137093556114,
           "y0": 0.00005233638366917149,
           "y1": 0.00012820030897266998
          },
          {
           "calibration": true,
           "column_names": "Recognized_sol",
           "time": 15,
           "y": 0.00011392373198755,
           "y0": 0.00006991457303229254,
           "y1": 0.00018449700655762496
          },
          {
           "calibration": true,
           "column_names": "Recognized_sol",
           "time": 16,
           "y": 0.00015790450561325,
           "y0": 0.00009305301500717178,
           "y1": 0.00026529451570237995
          },
          {
           "calibration": true,
           "column_names": "Recognized_sol",
           "time": 17,
           "y": 0.0002186871206504,
           "y0": 0.00012371658449401502,
           "y1": 0.00038123233680372495
          },
          {
           "calibration": true,
           "column_names": "Recognized_sol",
           "time": 18,
           "y": 0.000302681379253,
           "y0": 0.00016419164167015,
           "y1": 0.00054753702133888
          },
          {
           "calibration": true,
           "column_names": "Recognized_sol",
           "time": 19,
           "y": 0.0004187292797723,
           "y0": 0.000217452106880925,
           "y1": 0.0007869288936489648
          },
          {
           "calibration": true,
           "column_names": "Recognized_sol",
           "time": 20,
           "y": 0.0005790128780063,
           "y0": 0.00028785371396216003,
           "y1": 0.0011305959080345547
          },
          {
           "calibration": true,
           "column_names": "Recognized_sol",
           "time": 21,
           "y": 0.00080029858509075,
           "y0": 0.000380903540644745,
           "y1": 0.00162310540326866
          },
          {
           "calibration": true,
           "column_names": "Recognized_sol",
           "time": 22,
           "y": 0.00110560911707575,
           "y0": 0.00050386660441284,
           "y1": 0.0023277716711162994
          },
          {
           "calibration": true,
           "column_names": "Recognized_sol",
           "time": 23,
           "y": 0.0015264782705344,
           "y0": 0.00066631719528226,
           "y1": 0.00333741386421019
          },
          {
           "calibration": true,
           "column_names": "Recognized_sol",
           "time": 24,
           "y": 0.00210594013333315,
           "y0": 0.00088085969327943,
           "y1": 0.00477679725736376
          },
          {
           "calibration": true,
           "column_names": "Recognized_sol",
           "time": 25,
           "y": 0.0029024198884143497,
           "y0": 0.001164057815913085,
           "y1": 0.006817189347930195
          },
          {
           "calibration": true,
           "column_names": "Recognized_sol",
           "time": 26,
           "y": 0.0039946746546774495,
           "y0": 0.00153764051501636,
           "y1": 0.009689893852919294
          },
          {
           "calibration": true,
           "column_names": "Recognized_sol",
           "time": 27,
           "y": 0.0054878590162843,
           "y0": 0.002030017878860175,
           "y1": 0.013696578284725529
          },
          {
           "calibration": true,
           "column_names": "Recognized_sol",
           "time": 28,
           "y": 0.007520510815083949,
           "y0": 0.002678213361650655,
           "y1": 0.01921416493132705
          },
          {
           "calibration": true,
           "column_names": "Recognized_sol",
           "time": 29,
           "y": 0.01027178391814225,
           "y0": 0.003530232643242845,
           "y1": 0.02668532207608219
          },
          {
           "calibration": true,
           "column_names": "Recognized_sol",
           "time": 30,
           "y": 0.0139676420949399,
           "y0": 0.00465259868651623,
           "y1": 0.03658468332141631
          },
          {
           "calibration": true,
           "column_names": "Recognized_sol",
           "time": 31,
           "y": 0.01888327114284035,
           "y0": 0.00613121399655933,
           "y1": 0.04935320578515522
          },
          {
           "calibration": true,
           "column_names": "Recognized_sol",
           "time": 32,
           "y": 0.02533791773021215,
           "y0": 0.008062958950176809,
           "y1": 0.06530327834188938
          },
          {
           "calibration": true,
           "column_names": "Recognized_sol",
           "time": 33,
           "y": 0.03367751836776725,
           "y0": 0.01057491065002972,
           "y1": 0.0845146473497152
          },
          {
           "calibration": true,
           "column_names": "Recognized_sol",
           "time": 34,
           "y": 0.044240228831767994,
           "y0": 0.013821844896301566,
           "y1": 0.10705121718347069
          },
          {
           "calibration": true,
           "column_names": "Recognized_sol",
           "time": 35,
           "y": 0.05730520933866495,
           "y0": 0.01798702348023646,
           "y1": 0.13223727792501447
          },
          {
           "calibration": true,
           "column_names": "Recognized_sol",
           "time": 36,
           "y": 0.07302948087453835,
           "y0": 0.02327950634062282,
           "y1": 0.1592468686401844
          },
          {
           "calibration": true,
           "column_names": "Recognized_sol",
           "time": 37,
           "y": 0.09138831496238706,
           "y0": 0.02992598945274947,
           "y1": 0.18710767552256583
          },
          {
           "calibration": true,
           "column_names": "Recognized_sol",
           "time": 38,
           "y": 0.112137246876955,
           "y0": 0.03815505299717185,
           "y1": 0.21475828662514682
          },
          {
           "calibration": true,
           "column_names": "Recognized_sol",
           "time": 39,
           "y": 0.1348112821578979,
           "y0": 0.048173410631716214,
           "y1": 0.24121651500463484
          },
          {
           "calibration": true,
           "column_names": "Recognized_sol",
           "time": 40,
           "y": 0.15876641124486918,
           "y0": 0.06013489291071886,
           "y1": 0.2656721234321594
          },
          {
           "calibration": true,
           "column_names": "Recognized_sol",
           "time": 41,
           "y": 0.18331409245729446,
           "y0": 0.07410633154213425,
           "y1": 0.2880002409219741
          },
          {
           "calibration": true,
           "column_names": "Recognized_sol",
           "time": 42,
           "y": 0.2077502235770225,
           "y0": 0.09003753811120983,
           "y1": 0.3074406206607818
          },
          {
           "calibration": true,
           "column_names": "Recognized_sol",
           "time": 43,
           "y": 0.23128327727317805,
           "y0": 0.10774316564202305,
           "y1": 0.3237366035580635
          },
          {
           "calibration": true,
           "column_names": "Recognized_sol",
           "time": 44,
           "y": 0.25330178439617157,
           "y0": 0.12690290361642834,
           "y1": 0.3368404328823089
          },
          {
           "calibration": true,
           "column_names": "Recognized_sol",
           "time": 45,
           "y": 0.2733306437730789,
           "y0": 0.1470821388065815,
           "y1": 0.3468325078487396
          },
          {
           "calibration": true,
           "column_names": "Recognized_sol",
           "time": 46,
           "y": 0.2910487651824951,
           "y0": 0.16776815503835674,
           "y1": 0.3540471076965332
          },
          {
           "calibration": true,
           "column_names": "Recognized_sol",
           "time": 47,
           "y": 0.30637073516845703,
           "y0": 0.1887440554797649,
           "y1": 0.3586130023002624
          },
          {
           "calibration": true,
           "column_names": "Recognized_sol",
           "time": 48,
           "y": 0.3190554231405258,
           "y0": 0.2094329886138439,
           "y1": 0.36075595170259467
          },
          {
           "calibration": true,
           "column_names": "Recognized_sol",
           "time": 49,
           "y": 0.32912522554397583,
           "y0": 0.22914528176188464,
           "y1": 0.3614915370941162
          },
          {
           "calibration": true,
           "column_names": "Recognized_sol",
           "time": 50,
           "y": 0.33506183326244354,
           "y0": 0.2474473737180233,
           "y1": 0.3616913840174675
          },
          {
           "calibration": true,
           "column_names": "Recognized_sol",
           "time": 51,
           "y": 0.34015499055385584,
           "y0": 0.2639998510479927,
           "y1": 0.3609067052602768
          },
          {
           "calibration": true,
           "column_names": "Recognized_sol",
           "time": 52,
           "y": 0.34003438055515284,
           "y0": 0.2780978500843048,
           "y1": 0.3595601126551628
          },
          {
           "calibration": true,
           "column_names": "Recognized_sol",
           "time": 53,
           "y": 0.3379601985216141,
           "y0": 0.28982515633106226,
           "y1": 0.3573277428746223
          },
          {
           "calibration": true,
           "column_names": "Recognized_sol",
           "time": 54,
           "y": 0.3342054635286331,
           "y0": 0.2990687921643257,
           "y1": 0.351154513657093
          },
          {
           "calibration": true,
           "column_names": "Recognized_sol",
           "time": 55,
           "y": 0.3292994052171707,
           "y0": 0.30414789021015165,
           "y1": 0.3464884430170059
          },
          {
           "calibration": true,
           "column_names": "Recognized_sol",
           "time": 56,
           "y": 0.32502833008766174,
           "y0": 0.3042316272854805,
           "y1": 0.34132977575063705
          },
          {
           "calibration": true,
           "column_names": "Recognized_sol",
           "time": 57,
           "y": 0.32111541926860804,
           "y0": 0.30453954637050623,
           "y1": 0.33861246854066845
          },
          {
           "calibration": true,
           "column_names": "Recognized_sol",
           "time": 58,
           "y": 0.3187756985425949,
           "y0": 0.2953941136598586,
           "y1": 0.33507363647222516
          },
          {
           "calibration": true,
           "column_names": "Recognized_sol",
           "time": 59,
           "y": 0.3137817829847336,
           "y0": 0.28602980524301524,
           "y1": 0.3296049013733864
          },
          {
           "calibration": true,
           "column_names": "Recognized_sol",
           "time": 60,
           "y": 0.3073686808347702,
           "y0": 0.27652062922716136,
           "y1": 0.32492363452911377
          },
          {
           "calibration": true,
           "column_names": "Recognized_sol",
           "time": 61,
           "y": 0.30056868493556976,
           "y0": 0.266956952214241,
           "y1": 0.31939987093210215
          },
          {
           "calibration": true,
           "column_names": "Recognized_sol",
           "time": 62,
           "y": 0.2923811674118042,
           "y0": 0.25741994678974145,
           "y1": 0.31443157196044913
          },
          {
           "calibration": true,
           "column_names": "Recognized_sol",
           "time": 63,
           "y": 0.2840204238891601,
           "y0": 0.2479639984667301,
           "y1": 0.30903974473476403
          },
          {
           "calibration": true,
           "column_names": "Recognized_sol",
           "time": 64,
           "y": 0.2755587548017502,
           "y0": 0.2386340238153934,
           "y1": 0.3030378580093383
          },
          {
           "calibration": true,
           "column_names": "Recognized_sol",
           "time": 65,
           "y": 0.2670992612838745,
           "y0": 0.2294661313295364,
           "y1": 0.2974708333611488
          },
          {
           "calibration": true,
           "column_names": "Recognized_sol",
           "time": 66,
           "y": 0.25881861150264734,
           "y0": 0.2204893015325069,
           "y1": 0.2917893126606941
          },
          {
           "calibration": true,
           "column_names": "Recognized_sol",
           "time": 67,
           "y": 0.2505246549844741,
           "y0": 0.21172619536519047,
           "y1": 0.28560381084680553
          },
          {
           "calibration": true,
           "column_names": "Recognized_sol",
           "time": 68,
           "y": 0.24226401001214976,
           "y0": 0.2031940907239913,
           "y1": 0.2788403525948524
          },
          {
           "calibration": true,
           "column_names": "Recognized_sol",
           "time": 69,
           "y": 0.2340756058692932,
           "y0": 0.1949059411883354,
           "y1": 0.2713976114988327
          },
          {
           "calibration": true,
           "column_names": "Recognized_sol",
           "time": 70,
           "y": 0.2259920015931129,
           "y0": 0.18687049001455303,
           "y1": 0.26389043182134625
          },
          {
           "calibration": true,
           "column_names": "Recognized_sol",
           "time": 71,
           "y": 0.2180395871400833,
           "y0": 0.17909341007471083,
           "y1": 0.2562966153025627
          },
          {
           "calibration": true,
           "column_names": "Recognized_sol",
           "time": 72,
           "y": 0.21016271412372584,
           "y0": 0.17157821580767624,
           "y1": 0.2486668787896633
          },
          {
           "calibration": true,
           "column_names": "Recognized_sol",
           "time": 73,
           "y": 0.2024328932166099,
           "y0": 0.16432539895176881,
           "y1": 0.24104276821017265
          },
          {
           "calibration": true,
           "column_names": "Recognized_sol",
           "time": 74,
           "y": 0.19489501416683197,
           "y0": 0.15733406171202655,
           "y1": 0.23346054702997202
          },
          {
           "calibration": true,
           "column_names": "Recognized_sol",
           "time": 75,
           "y": 0.18755830824375144,
           "y0": 0.15060143247246743,
           "y1": 0.2259499475359916
          },
          {
           "calibration": true,
           "column_names": "Recognized_sol",
           "time": 76,
           "y": 0.1804350763559341,
           "y0": 0.14412413686513895,
           "y1": 0.2185368180274963
          },
          {
           "calibration": true,
           "column_names": "Recognized_sol",
           "time": 77,
           "y": 0.1736427098512649,
           "y0": 0.13789723291993136,
           "y1": 0.21124138459563252
          },
          {
           "calibration": true,
           "column_names": "Recognized_sol",
           "time": 78,
           "y": 0.1670676991343498,
           "y0": 0.13191567063331602,
           "y1": 0.20408094674348826
          },
          {
           "calibration": true,
           "column_names": "Recognized_sol",
           "time": 79,
           "y": 0.16070914268493647,
           "y0": 0.1261729873716831,
           "y1": 0.19706909731030461
          },
          {
           "calibration": true,
           "column_names": "Recognized_sol",
           "time": 80,
           "y": 0.15456496924161905,
           "y0": 0.12066280283033844,
           "y1": 0.1902161598205566
          },
          {
           "calibration": true,
           "column_names": "Recognized_sol",
           "time": 81,
           "y": 0.14863160997629166,
           "y0": 0.11537843383848659,
           "y1": 0.1835307948291301
          },
          {
           "calibration": true,
           "column_names": "Recognized_sol",
           "time": 82,
           "y": 0.14290566742420197,
           "y0": 0.11031269840896125,
           "y1": 0.17701925933361046
          },
          {
           "calibration": true,
           "column_names": "Recognized_sol",
           "time": 83,
           "y": 0.13731935620307917,
           "y0": 0.1054585181176662,
           "y1": 0.17068555429577822
          },
          {
           "calibration": true,
           "column_names": "Recognized_sol",
           "time": 84,
           "y": 0.13182064890861506,
           "y0": 0.10080855377018448,
           "y1": 0.1645322054624557
          },
          {
           "calibration": true,
           "column_names": "Recognized_sol",
           "time": 85,
           "y": 0.12652622163295746,
           "y0": 0.09635580629110331,
           "y1": 0.15856080725789065
          },
          {
           "calibration": true,
           "column_names": "Recognized_sol",
           "time": 86,
           "y": 0.12143072113394734,
           "y0": 0.0920875404030084,
           "y1": 0.15277132913470265
          },
          {
           "calibration": true,
           "column_names": "Recognized_sol",
           "time": 87,
           "y": 0.11652820929884905,
           "y0": 0.08800120949745177,
           "y1": 0.14713290184736244
          },
          {
           "calibration": true,
           "column_names": "Recognized_sol",
           "time": 88,
           "y": 0.11181373149156565,
           "y0": 0.08409101031720634,
           "y1": 0.14166934788227079
          },
          {
           "calibration": true,
           "column_names": "Recognized_sol",
           "time": 89,
           "y": 0.1072812527418136,
           "y0": 0.08035013079643241,
           "y1": 0.1363853827118873
          },
          {
           "calibration": true,
           "column_names": "Recognized_sol",
           "time": 90,
           "y": 0.1029250510036945,
           "y0": 0.0767718639224767,
           "y1": 0.13127881363034244
          },
          {
           "calibration": true,
           "column_names": "Recognized_sol",
           "time": 91,
           "y": 0.09873928874731061,
           "y0": 0.07334974147379396,
           "y1": 0.12634623870253558
          },
          {
           "calibration": true,
           "column_names": "Recognized_sol",
           "time": 92,
           "y": 0.09471830353140825,
           "y0": 0.07007735595107072,
           "y1": 0.12158419527113434
          },
          {
           "calibration": true,
           "column_names": "Recognized_sol",
           "time": 93,
           "y": 0.0908563360571861,
           "y0": 0.06694857738912101,
           "y1": 0.11698869653046128
          },
          {
           "calibration": true,
           "column_names": "Recognized_sol",
           "time": 94,
           "y": 0.0871478170156478,
           "y0": 0.06395745575428002,
           "y1": 0.11255582310259338
          },
          {
           "calibration": true,
           "column_names": "Recognized_sol",
           "time": 95,
           "y": 0.08358709141612045,
           "y0": 0.06109822597354646,
           "y1": 0.10828107185661787
          },
          {
           "calibration": true,
           "column_names": "Recognized_sol",
           "time": 96,
           "y": 0.0801916234195232,
           "y0": 0.05836522653698918,
           "y1": 0.1041606046259403
          },
          {
           "calibration": true,
           "column_names": "Recognized_sol",
           "time": 97,
           "y": 0.0770195499062538,
           "y0": 0.05575319882482288,
           "y1": 0.10020776316523544
          },
          {
           "calibration": true,
           "column_names": "Recognized_sol",
           "time": 98,
           "y": 0.0739715062081813,
           "y0": 0.05325696375221012,
           "y1": 0.09639895334839815
          },
          {
           "calibration": true,
           "column_names": "Recognized_sol",
           "time": 99,
           "y": 0.07104278728365895,
           "y0": 0.05087150353938337,
           "y1": 0.09266679883003232
          },
          {
           "calibration": false,
           "column_names": "Susceptible_sol",
           "time": 0,
           "y": 0.999996304512024,
           "y0": 0.999996304512024,
           "y1": 0.999996304512024
          },
          {
           "calibration": false,
           "column_names": "Susceptible_sol",
           "time": 1,
           "y": 0.9999935030937196,
           "y0": 0.9999922513961792,
           "y1": 0.9999944299459459
          },
          {
           "calibration": false,
           "column_names": "Susceptible_sol",
           "time": 2,
           "y": 0.9999909102916718,
           "y0": 0.9999900132417677,
           "y1": 0.9999915689229967
          },
          {
           "calibration": false,
           "column_names": "Susceptible_sol",
           "time": 3,
           "y": 0.9999865591526031,
           "y0": 0.9999839544296265,
           "y1": 0.9999881774187087
          },
          {
           "calibration": false,
           "column_names": "Susceptible_sol",
           "time": 4,
           "y": 0.9999799430370332,
           "y0": 0.9999764502048492,
           "y1": 0.9999832689762116
          },
          {
           "calibration": false,
           "column_names": "Susceptible_sol",
           "time": 5,
           "y": 0.9999713599681854,
           "y0": 0.9999645054340363,
           "y1": 0.9999771267175673
          },
          {
           "calibration": false,
           "column_names": "Susceptible_sol",
           "time": 6,
           "y": 0.9999593794345856,
           "y0": 0.9999477207660675,
           "y1": 0.9999688684940339
          },
          {
           "calibration": false,
           "column_names": "Susceptible_sol",
           "time": 7,
           "y": 0.9999433159828186,
           "y0": 0.9999227792024613,
           "y1": 0.9999577909708024
          },
          {
           "calibration": false,
           "column_names": "Susceptible_sol",
           "time": 8,
           "y": 0.9999200403690338,
           "y0": 0.9998856961727142,
           "y1": 0.9999430686235428
          },
          {
           "calibration": false,
           "column_names": "Susceptible_sol",
           "time": 9,
           "y": 0.9998885989189148,
           "y0": 0.9998333483934403,
           "y1": 0.9999245882034301
          },
          {
           "calibration": false,
           "column_names": "Susceptible_sol",
           "time": 10,
           "y": 0.9998446702957153,
           "y0": 0.9997552573680877,
           "y1": 0.9999000728130341
          },
          {
           "calibration": false,
           "column_names": "Susceptible_sol",
           "time": 11,
           "y": 0.9997844398021698,
           "y0": 0.9996415913105011,
           "y1": 0.9998666197061539
          },
          {
           "calibration": false,
           "column_names": "Susceptible_sol",
           "time": 12,
           "y": 0.9997005760669708,
           "y0": 0.9994750916957856,
           "y1": 0.9998226940631867
          },
          {
           "calibration": false,
           "column_names": "Susceptible_sol",
           "time": 13,
           "y": 0.9995844960212708,
           "y0": 0.9992324471473695,
           "y1": 0.999766081571579
          },
          {
           "calibration": false,
           "column_names": "Susceptible_sol",
           "time": 14,
           "y": 0.9994240403175354,
           "y0": 0.9988778889179231,
           "y1": 0.9996904313564301
          },
          {
           "calibration": false,
           "column_names": "Susceptible_sol",
           "time": 15,
           "y": 0.9992017149925232,
           "y0": 0.998360750079155,
           "y1": 0.9995914548635483
          },
          {
           "calibration": false,
           "column_names": "Susceptible_sol",
           "time": 16,
           "y": 0.9988939166069031,
           "y0": 0.9976084887981416,
           "y1": 0.9994594067335129
          },
          {
           "calibration": false,
           "column_names": "Susceptible_sol",
           "time": 17,
           "y": 0.998468428850174,
           "y0": 0.9965124130249023,
           "y1": 0.9992862045764923
          },
          {
           "calibration": false,
           "column_names": "Susceptible_sol",
           "time": 18,
           "y": 0.9978795945644379,
           "y0": 0.9949172675609589,
           "y1": 0.9990581303834916
          },
          {
           "calibration": false,
           "column_names": "Susceptible_sol",
           "time": 19,
           "y": 0.9970668852329254,
           "y0": 0.9926011502742769,
           "y1": 0.9987567782402038
          },
          {
           "calibration": false,
           "column_names": "Susceptible_sol",
           "time": 20,
           "y": 0.9959418475627899,
           "y0": 0.9892430961132049,
           "y1": 0.9983594447374344
          },
          {
           "calibration": false,
           "column_names": "Susceptible_sol",
           "time": 21,
           "y": 0.994390994310379,
           "y0": 0.9843950092792512,
           "y1": 0.9978368461132049
          },
          {
           "calibration": false,
           "column_names": "Susceptible_sol",
           "time": 22,
           "y": 0.992254376411438,
           "y0": 0.977428776025772,
           "y1": 0.9971478462219239
          },
          {
           "calibration": false,
           "column_names": "Susceptible_sol",
           "time": 23,
           "y": 0.9893161654472351,
           "y0": 0.9674907892942428,
           "y1": 0.9962416708469392
          },
          {
           "calibration": false,
           "column_names": "Susceptible_sol",
           "time": 24,
           "y": 0.9852869808673859,
           "y0": 0.9534547537565231,
           "y1": 0.9950503259897232
          },
          {
           "calibration": false,
           "column_names": "Susceptible_sol",
           "time": 25,
           "y": 0.9797833263874054,
           "y0": 0.9339140206575394,
           "y1": 0.9934838712215425
          },
          {
           "calibration": false,
           "column_names": "Susceptible_sol",
           "time": 26,
           "y": 0.9722999930381775,
           "y0": 0.9072395503520966,
           "y1": 0.9914281994104386
          },
          {
           "calibration": false,
           "column_names": "Susceptible_sol",
           "time": 27,
           "y": 0.9621984958648682,
           "y0": 0.8717848122119903,
           "y1": 0.9887365967035293
          },
          {
           "calibration": false,
           "column_names": "Susceptible_sol",
           "time": 28,
           "y": 0.9486871659755707,
           "y0": 0.8262769967317581,
           "y1": 0.9852167785167695
          },
          {
           "calibration": false,
           "column_names": "Susceptible_sol",
           "time": 29,
           "y": 0.9308351874351501,
           "y0": 0.7703788489103317,
           "y1": 0.9806300729513168
          },
          {
           "calibration": false,
           "column_names": "Susceptible_sol",
           "time": 30,
           "y": 0.9076264500617981,
           "y0": 0.7052490741014481,
           "y1": 0.9746735125780106
          },
          {
           "calibration": false,
           "column_names": "Susceptible_sol",
           "time": 31,
           "y": 0.8780739903450012,
           "y0": 0.6337517201900482,
           "y1": 0.9669762462377548
          },
          {
           "calibration": false,
           "column_names": "Susceptible_sol",
           "time": 32,
           "y": 0.8414150476455688,
           "y0": 0.5600467592477798,
           "y1": 0.9570918768644333
          },
          {
           "calibration": false,
           "column_names": "Susceptible_sol",
           "time": 33,
           "y": 0.7973689436912537,
           "y0": 0.4886007636785507,
           "y1": 0.9444996178150177
          },
          {
           "calibration": false,
           "column_names": "Susceptible_sol",
           "time": 34,
           "y": 0.7463997304439545,
           "y0": 0.4230961918830871,
           "y1": 0.9286198437213897
          },
          {
           "calibration": false,
           "column_names": "Susceptible_sol",
           "time": 35,
           "y": 0.6898684501647949,
           "y0": 0.3656670391559601,
           "y1": 0.9088482171297073
          },
          {
           "calibration": false,
           "column_names": "Susceptible_sol",
           "time": 36,
           "y": 0.629957914352417,
           "y0": 0.3166578680276871,
           "y1": 0.8846121907234191
          },
          {
           "calibration": false,
           "column_names": "Susceptible_sol",
           "time": 37,
           "y": 0.5693426430225372,
           "y0": 0.27608357369899744,
           "y1": 0.8554653435945511
          },
          {
           "calibration": false,
           "column_names": "Susceptible_sol",
           "time": 38,
           "y": 0.5106844007968903,
           "y0": 0.24313941448926918,
           "y1": 0.8211936861276626
          },
          {
           "calibration": false,
           "column_names": "Susceptible_sol",
           "time": 39,
           "y": 0.45616769790649414,
           "y0": 0.2167272880673408,
           "y1": 0.7819328933954238
          },
          {
           "calibration": false,
           "column_names": "Susceptible_sol",
           "time": 40,
           "y": 0.40722040832042694,
           "y0": 0.19546007439494129,
           "y1": 0.7382539451122283
          },
          {
           "calibration": false,
           "column_names": "Susceptible_sol",
           "time": 41,
           "y": 0.3644849509000778,
           "y0": 0.17831971496343607,
           "y1": 0.6911749333143233
          },
          {
           "calibration": false,
           "column_names": "Susceptible_sol",
           "time": 42,
           "y": 0.32795898616313934,
           "y0": 0.16461638957262031,
           "y1": 0.6420847237110137
          },
          {
           "calibration": false,
           "column_names": "Susceptible_sol",
           "time": 43,
           "y": 0.29609155654907227,
           "y0": 0.15362044647336,
           "y1": 0.5925720959901809
          },
          {
           "calibration": false,
           "column_names": "Susceptible_sol",
           "time": 44,
           "y": 0.2690591812133789,
           "y0": 0.14475524127483366,
           "y1": 0.544208538532257
          },
          {
           "calibration": false,
           "column_names": "Susceptible_sol",
           "time": 45,
           "y": 0.2466533556580543,
           "y0": 0.1375683583319187,
           "y1": 0.4983465686440467
          },
          {
           "calibration": false,
           "column_names": "Susceptible_sol",
           "time": 46,
           "y": 0.2281512916088104,
           "y0": 0.13170726075768466,
           "y1": 0.4559859856963157
          },
          {
           "calibration": false,
           "column_names": "Susceptible_sol",
           "time": 47,
           "y": 0.21289112418889994,
           "y0": 0.1268968299031257,
           "y1": 0.4177254453301429
          },
          {
           "calibration": false,
           "column_names": "Susceptible_sol",
           "time": 48,
           "y": 0.2002963572740554,
           "y0": 0.12292274162173265,
           "y1": 0.3837964564561843
          },
          {
           "calibration": false,
           "column_names": "Susceptible_sol",
           "time": 49,
           "y": 0.18987974524497986,
           "y0": 0.11961658075451849,
           "y1": 0.3541386947035789
          },
          {
           "calibration": false,
           "column_names": "Susceptible_sol",
           "time": 50,
           "y": 0.18123871088027949,
           "y0": 0.11684656962752338,
           "y1": 0.3284937858581542
          },
          {
           "calibration": false,
           "column_names": "Susceptible_sol",
           "time": 51,
           "y": 0.1733163669705391,
           "y0": 0.11450839191675183,
           "y1": 0.30648985207080837
          },
          {
           "calibration": false,
           "column_names": "Susceptible_sol",
           "time": 52,
           "y": 0.1666033789515495,
           "y0": 0.11251970753073687,
           "y1": 0.28770615756511686
          },
          {
           "calibration": false,
           "column_names": "Susceptible_sol",
           "time": 53,
           "y": 0.16097232699394226,
           "y0": 0.11084490232169628,
           "y1": 0.2717197567224502
          },
          {
           "calibration": false,
           "column_names": "Susceptible_sol",
           "time": 54,
           "y": 0.1563995257019996,
           "y0": 0.10940105132758617,
           "y1": 0.2581328451633453
          },
          {
           "calibration": false,
           "column_names": "Susceptible_sol",
           "time": 55,
           "y": 0.15262341499328608,
           "y0": 0.10814343392848962,
           "y1": 0.2465838082134723
          },
          {
           "calibration": false,
           "column_names": "Susceptible_sol",
           "time": 56,
           "y": 0.14959207177162165,
           "y0": 0.10703926719725126,
           "y1": 0.23675616011023515
          },
          {
           "calibration": false,
           "column_names": "Susceptible_sol",
           "time": 57,
           "y": 0.14737333357334131,
           "y0": 0.10606227032840251,
           "y1": 0.228376468271017
          },
          {
           "calibration": false,
           "column_names": "Susceptible_sol",
           "time": 58,
           "y": 0.14546187222003937,
           "y0": 0.10519113168120381,
           "y1": 0.2212122268974781
          },
          {
           "calibration": false,
           "column_names": "Susceptible_sol",
           "time": 59,
           "y": 0.143503837287426,
           "y0": 0.10440889522433273,
           "y1": 0.21506679058074948
          },
          {
           "calibration": false,
           "column_names": "Susceptible_sol",
           "time": 60,
           "y": 0.141986072063446,
           "y0": 0.103701601922512,
           "y1": 0.20977566242218013
          },
          {
           "calibration": false,
           "column_names": "Susceptible_sol",
           "time": 61,
           "y": 0.1406394243240356,
           "y0": 0.10305795036256307,
           "y1": 0.2052007287740707
          },
          {
           "calibration": false,
           "column_names": "Susceptible_sol",
           "time": 62,
           "y": 0.1394373625516891,
           "y0": 0.10246873944997785,
           "y1": 0.20127328932285307
          },
          {
           "calibration": false,
           "column_names": "Susceptible_sol",
           "time": 63,
           "y": 0.1383567377924919,
           "y0": 0.1019264712929725,
           "y1": 0.1978492081165313
          },
          {
           "calibration": false,
           "column_names": "Susceptible_sol",
           "time": 64,
           "y": 0.13737994432449335,
           "y0": 0.10142489448189733,
           "y1": 0.19484476521611213
          },
          {
           "calibration": false,
           "column_names": "Susceptible_sol",
           "time": 65,
           "y": 0.13649169355630875,
           "y0": 0.10094727240502832,
           "y1": 0.19219525530934328
          },
          {
           "calibration": false,
           "column_names": "Susceptible_sol",
           "time": 66,
           "y": 0.1356796771287918,
           "y0": 0.1005012255162,
           "y1": 0.18984556645154949
          },
          {
           "calibration": false,
           "column_names": "Susceptible_sol",
           "time": 67,
           "y": 0.13493364304304117,
           "y0": 0.1000835727900266,
           "y1": 0.18775113224983211
          },
          {
           "calibration": false,
           "column_names": "Susceptible_sol",
           "time": 68,
           "y": 0.1342451199889183,
           "y0": 0.09969116486608978,
           "y1": 0.18587381616234774
          },
          {
           "calibration": false,
           "column_names": "Susceptible_sol",
           "time": 69,
           "y": 0.13360694050788874,
           "y0": 0.09932175166904922,
           "y1": 0.18418249338865275
          },
          {
           "calibration": false,
           "column_names": "Susceptible_sol",
           "time": 70,
           "y": 0.13301322609186167,
           "y0": 0.09897308498620985,
           "y1": 0.18265086933970448
          },
          {
           "calibration": false,
           "column_names": "Susceptible_sol",
           "time": 71,
           "y": 0.13245897740125656,
           "y0": 0.09864336624741553,
           "y1": 0.1812563672661781
          },
          {
           "calibration": false,
           "column_names": "Susceptible_sol",
           "time": 72,
           "y": 0.1319402158260345,
           "y0": 0.09833103641867635,
           "y1": 0.17998183071613308
          },
          {
           "calibration": false,
           "column_names": "Susceptible_sol",
           "time": 73,
           "y": 0.13145296275615687,
           "y0": 0.09803477600216864,
           "y1": 0.17881108745932578
          },
          {
           "calibration": false,
           "column_names": "Susceptible_sol",
           "time": 74,
           "y": 0.13099459558725354,
           "y0": 0.09775336980819693,
           "y1": 0.17773132473230357
          },
          {
           "calibration": false,
           "column_names": "Susceptible_sol",
           "time": 75,
           "y": 0.1305624172091484,
           "y0": 0.09748592339456076,
           "y1": 0.17673165947198863
          },
          {
           "calibration": false,
           "column_names": "Susceptible_sol",
           "time": 76,
           "y": 0.130154013633728,
           "y0": 0.09723120220005511,
           "y1": 0.17580280452966687
          },
          {
           "calibration": false,
           "column_names": "Susceptible_sol",
           "time": 77,
           "y": 0.1297676414251327,
           "y0": 0.09698859602212904,
           "y1": 0.17493698149919504
          },
          {
           "calibration": false,
           "column_names": "Susceptible_sol",
           "time": 78,
           "y": 0.12940157204866404,
           "y0": 0.09675750434398644,
           "y1": 0.1741275995969772
          },
          {
           "calibration": false,
           "column_names": "Susceptible_sol",
           "time": 79,
           "y": 0.12905430048704142,
           "y0": 0.09653707370162004,
           "y1": 0.17336866259574885
          },
          {
           "calibration": false,
           "column_names": "Susceptible_sol",
           "time": 80,
           "y": 0.12871615588665003,
           "y0": 0.09632663019001479,
           "y1": 0.1726556427776813
          },
          {
           "calibration": false,
           "column_names": "Susceptible_sol",
           "time": 81,
           "y": 0.12836469709873194,
           "y0": 0.09612580426037308,
           "y1": 0.17198430895805353
          },
          {
           "calibration": false,
           "column_names": "Susceptible_sol",
           "time": 82,
           "y": 0.12803130596876144,
           "y0": 0.0959340680390596,
           "y1": 0.17135060951113693
          },
          {
           "calibration": false,
           "column_names": "Susceptible_sol",
           "time": 83,
           "y": 0.1277147606015205,
           "y0": 0.09575075395405287,
           "y1": 0.17075185552239414
          },
          {
           "calibration": false,
           "column_names": "Susceptible_sol",
           "time": 84,
           "y": 0.1274139061570167,
           "y0": 0.09557559750974173,
           "y1": 0.1701850801706314
          },
          {
           "calibration": false,
           "column_names": "Susceptible_sol",
           "time": 85,
           "y": 0.12712783366441727,
           "y0": 0.0954082395881414,
           "y1": 0.1696478076279163
          },
          {
           "calibration": false,
           "column_names": "Susceptible_sol",
           "time": 86,
           "y": 0.12685556709766385,
           "y0": 0.09524821788072578,
           "y1": 0.1691380180418491
          },
          {
           "calibration": false,
           "column_names": "Susceptible_sol",
           "time": 87,
           "y": 0.1265963613986969,
           "y0": 0.09509512782096856,
           "y1": 0.16865362450480456
          },
          {
           "calibration": false,
           "column_names": "Susceptible_sol",
           "time": 88,
           "y": 0.1263494417071342,
           "y0": 0.09494862630963317,
           "y1": 0.1681931227445602
          },
          {
           "calibration": false,
           "column_names": "Susceptible_sol",
           "time": 89,
           "y": 0.12611404061317438,
           "y0": 0.09480866193771358,
           "y1": 0.16775495782494537
          },
          {
           "calibration": false,
           "column_names": "Susceptible_sol",
           "time": 90,
           "y": 0.12588968127965924,
           "y0": 0.0946746576577425,
           "y1": 0.16733755096793165
          },
          {
           "calibration": false,
           "column_names": "Susceptible_sol",
           "time": 91,
           "y": 0.12567558139562607,
           "y0": 0.09454641081392758,
           "y1": 0.16693972423672673
          },
          {
           "calibration": false,
           "column_names": "Susceptible_sol",
           "time": 92,
           "y": 0.1254712864756584,
           "y0": 0.09442365840077398,
           "y1": 0.16656054705381385
          },
          {
           "calibration": false,
           "column_names": "Susceptible_sol",
           "time": 93,
           "y": 0.1252764537930488,
           "y0": 0.09430611245334145,
           "y1": 0.16619861274957654
          },
          {
           "calibration": false,
           "column_names": "Susceptible_sol",
           "time": 94,
           "y": 0.12509036809206003,
           "y0": 0.09419372342526906,
           "y1": 0.16585323959589002
          },
          {
           "calibration": false,
           "column_names": "Susceptible_sol",
           "time": 95,
           "y": 0.12491276487708085,
           "y0": 0.09408608898520468,
           "y1": 0.16552354991435997
          },
          {
           "calibration": false,
           "column_names": "Susceptible_sol",
           "time": 96,
           "y": 0.1247430965304374,
           "y0": 0.09398296512663362,
           "y1": 0.16520877629518504
          },
          {
           "calibration": false,
           "column_names": "Susceptible_sol",
           "time": 97,
           "y": 0.12458096444606775,
           "y0": 0.09388425052165981,
           "y1": 0.1649077303707599
          },
          {
           "calibration": false,
           "column_names": "Susceptible_sol",
           "time": 98,
           "y": 0.12442620098590845,
           "y0": 0.09378973618149754,
           "y1": 0.16462010666728016
          },
          {
           "calibration": false,
           "column_names": "Susceptible_sol",
           "time": 99,
           "y": 0.1242783330380916,
           "y0": 0.09369919858872888,
           "y1": 0.16434526592493054
          },
          {
           "calibration": true,
           "column_names": "Susceptible_sol",
           "time": 0,
           "y": 0.999996304512024,
           "y0": 0.999996304512024,
           "y1": 0.999996304512024
          },
          {
           "calibration": true,
           "column_names": "Susceptible_sol",
           "time": 1,
           "y": 0.9999934136867524,
           "y0": 0.9999926775693894,
           "y1": 0.9999942570924759
          },
          {
           "calibration": true,
           "column_names": "Susceptible_sol",
           "time": 2,
           "y": 0.999990940093994,
           "y0": 0.9999900728464125,
           "y1": 0.9999916017055512
          },
          {
           "calibration": true,
           "column_names": "Susceptible_sol",
           "time": 3,
           "y": 0.9999865293502808,
           "y0": 0.9999842196702957,
           "y1": 0.999988231062889
          },
          {
           "calibration": true,
           "column_names": "Susceptible_sol",
           "time": 4,
           "y": 0.9999803006649017,
           "y0": 0.9999771267175676,
           "y1": 0.9999832302331924
          },
          {
           "calibration": true,
           "column_names": "Susceptible_sol",
           "time": 5,
           "y": 0.9999717772006989,
           "y0": 0.9999651998281479,
           "y1": 0.9999765813350677
          },
          {
           "calibration": true,
           "column_names": "Susceptible_sol",
           "time": 6,
           "y": 0.9999600350856781,
           "y0": 0.9999500811100006,
           "y1": 0.9999689042568206
          },
          {
           "calibration": true,
           "column_names": "Susceptible_sol",
           "time": 7,
           "y": 0.9999439716339111,
           "y0": 0.9999269604682922,
           "y1": 0.9999571532011032
          },
          {
           "calibration": true,
           "column_names": "Susceptible_sol",
           "time": 8,
           "y": 0.9999212622642517,
           "y0": 0.999892458319664,
           "y1": 0.9999426126480102
          },
          {
           "calibration": true,
           "column_names": "Susceptible_sol",
           "time": 9,
           "y": 0.9998895525932312,
           "y0": 0.9998458355665207,
           "y1": 0.9999226331710815
          },
          {
           "calibration": true,
           "column_names": "Susceptible_sol",
           "time": 10,
           "y": 0.9998472332954407,
           "y0": 0.9997768133878708,
           "y1": 0.9998975187540053
          },
          {
           "calibration": true,
           "column_names": "Susceptible_sol",
           "time": 11,
           "y": 0.9997875690460205,
           "y0": 0.9996767759323121,
           "y1": 0.9998616576194763
          },
          {
           "calibration": true,
           "column_names": "Susceptible_sol",
           "time": 12,
           "y": 0.9997048377990723,
           "y0": 0.999532374739647,
           "y1": 0.9998156070709228
          },
          {
           "calibration": true,
           "column_names": "Susceptible_sol",
           "time": 13,
           "y": 0.999591052532196,
           "y0": 0.999323695898056,
           "y1": 0.9997543841600418
          },
          {
           "calibration": true,
           "column_names": "Susceptible_sol",
           "time": 14,
           "y": 0.9994319379329681,
           "y0": 0.999023124575615,
           "y1": 0.9996735960245132
          },
          {
           "calibration": true,
           "column_names": "Susceptible_sol",
           "time": 15,
           "y": 0.9992125034332275,
           "y0": 0.9985889971256255,
           "y1": 0.9995659977197647
          },
          {
           "calibration": true,
           "column_names": "Susceptible_sol",
           "time": 16,
           "y": 0.9989092648029326,
           "y0": 0.9979632377624512,
           "y1": 0.9994242519140244
          },
          {
           "calibration": true,
           "column_names": "Susceptible_sol",
           "time": 17,
           "y": 0.9984895288944244,
           "y0": 0.9970613270998001,
           "y1": 0.9992351561784745
          },
          {
           "calibration": true,
           "column_names": "Susceptible_sol",
           "time": 18,
           "y": 0.9979085624217986,
           "y0": 0.9957620084285737,
           "y1": 0.998984944820404
          },
          {
           "calibration": true,
           "column_names": "Susceptible_sol",
           "time": 19,
           "y": 0.9971062242984772,
           "y0": 0.99389406144619,
           "y1": 0.9986532837152482
          },
          {
           "calibration": true,
           "column_names": "Susceptible_sol",
           "time": 20,
           "y": 0.9959962666034698,
           "y0": 0.9912124693393707,
           "y1": 0.9982138186693191
          },
          {
           "calibration": true,
           "column_names": "Susceptible_sol",
           "time": 21,
           "y": 0.9944662749767303,
           "y0": 0.9873746603727341,
           "y1": 0.9976325571537017
          },
          {
           "calibration": true,
           "column_names": "Susceptible_sol",
           "time": 22,
           "y": 0.9923575818538666,
           "y0": 0.9819017559289932,
           "y1": 0.9968611359596252
          },
          {
           "calibration": true,
           "column_names": "Susceptible_sol",
           "time": 23,
           "y": 0.9894569516181946,
           "y0": 0.9741404056549072,
           "y1": 0.9958415091037751
          },
          {
           "calibration": true,
           "column_names": "Susceptible_sol",
           "time": 24,
           "y": 0.9854791164398193,
           "y0": 0.9632207214832306,
           "y1": 0.9944935232400895
          },
          {
           "calibration": true,
           "column_names": "Susceptible_sol",
           "time": 25,
           "y": 0.9800413250923157,
           "y0": 0.9480233907699585,
           "y1": 0.9927135795354843
          },
          {
           "calibration": true,
           "column_names": "Susceptible_sol",
           "time": 26,
           "y": 0.9726476967334747,
           "y0": 0.9271906346082688,
           "y1": 0.9903667032718659
          },
          {
           "calibration": true,
           "column_names": "Susceptible_sol",
           "time": 27,
           "y": 0.9626600742340088,
           "y0": 0.8992161393165589,
           "y1": 0.9872779667377471
          },
          {
           "calibration": true,
           "column_names": "Susceptible_sol",
           "time": 28,
           "y": 0.9492899179458618,
           "y0": 0.8626637578010559,
           "y1": 0.9832224756479263
          },
          {
           "calibration": true,
           "column_names": "Susceptible_sol",
           "time": 29,
           "y": 0.9316059350967407,
           "y0": 0.8165531307458878,
           "y1": 0.9779166460037231
          },
          {
           "calibration": true,
           "column_names": "Susceptible_sol",
           "time": 30,
           "y": 0.9085858166217804,
           "y0": 0.7608617454767227,
           "y1": 0.9710043728351592
          },
          {
           "calibration": true,
           "column_names": "Susceptible_sol",
           "time": 31,
           "y": 0.8792248070240021,
           "y0": 0.6969535976648331,
           "y1": 0.96205133497715
          },
          {
           "calibration": true,
           "column_names": "Susceptible_sol",
           "time": 32,
           "y": 0.842728465795517,
           "y0": 0.6276683658361435,
           "y1": 0.9505366593599319
          },
          {
           "calibration": true,
           "column_names": "Susceptible_sol",
           "time": 33,
           "y": 0.7987729907035828,
           "y0": 0.5568610250949859,
           "y1": 0.9358652651309967
          },
          {
           "calibration": true,
           "column_names": "Susceptible_sol",
           "time": 34,
           "y": 0.7477680742740631,
           "y0": 0.48852243423461916,
           "y1": 0.9173909187316894
          },
          {
           "calibration": true,
           "column_names": "Susceptible_sol",
           "time": 35,
           "y": 0.6910277903079987,
           "y0": 0.4258764505386352,
           "y1": 0.8944685727357864
          },
          {
           "calibration": true,
           "column_names": "Susceptible_sol",
           "time": 36,
           "y": 0.630715548992157,
           "y0": 0.3708698660135269,
           "y1": 0.8665372490882873
          },
          {
           "calibration": true,
           "column_names": "Susceptible_sol",
           "time": 37,
           "y": 0.5695149898529053,
           "y0": 0.3231885120272636,
           "y1": 0.8332367211580276
          },
          {
           "calibration": true,
           "column_names": "Susceptible_sol",
           "time": 38,
           "y": 0.5101376473903656,
           "y0": 0.28332536220550536,
           "y1": 0.7945375889539719
          },
          {
           "calibration": true,
           "column_names": "Susceptible_sol",
           "time": 39,
           "y": 0.45483702421188354,
           "y0": 0.2507594026625156,
           "y1": 0.7508597433567047
          },
          {
           "calibration": true,
           "column_names": "Susceptible_sol",
           "time": 40,
           "y": 0.4051090031862259,
           "y0": 0.22435457110404963,
           "y1": 0.7031245082616806
          },
          {
           "calibration": true,
           "column_names": "Susceptible_sol",
           "time": 41,
           "y": 0.36219455301761627,
           "y0": 0.20284162089228622,
           "y1": 0.6527094453573227
          },
          {
           "calibration": true,
           "column_names": "Susceptible_sol",
           "time": 42,
           "y": 0.3251762092113495,
           "y0": 0.1848613426089286,
           "y1": 0.6012898415327071
          },
          {
           "calibration": true,
           "column_names": "Susceptible_sol",
           "time": 43,
           "y": 0.293514147400856,
           "y0": 0.17038273066282267,
           "y1": 0.5506039500236511
          },
          {
           "calibration": true,
           "column_names": "Susceptible_sol",
           "time": 44,
           "y": 0.267130509018898,
           "y0": 0.15999183654785148,
           "y1": 0.5022092536091805
          },
          {
           "calibration": true,
           "column_names": "Susceptible_sol",
           "time": 45,
           "y": 0.24529211968183515,
           "y0": 0.15157251134514807,
           "y1": 0.45730352997779844
          },
          {
           "calibration": true,
           "column_names": "Susceptible_sol",
           "time": 46,
           "y": 0.22727751731872553,
           "y0": 0.1446443676948547,
           "y1": 0.41664321124553677
          },
          {
           "calibration": true,
           "column_names": "Susceptible_sol",
           "time": 47,
           "y": 0.21228146553039545,
           "y0": 0.13890284374356265,
           "y1": 0.3805609613656998
          },
          {
           "calibration": true,
           "column_names": "Susceptible_sol",
           "time": 48,
           "y": 0.198769636452198,
           "y0": 0.13417097479104995,
           "y1": 0.34904432147741316
          },
          {
           "calibration": true,
           "column_names": "Susceptible_sol",
           "time": 49,
           "y": 0.1876002997159958,
           "y0": 0.1301658801734447,
           "y1": 0.3218424811959266
          },
          {
           "calibration": true,
           "column_names": "Susceptible_sol",
           "time": 50,
           "y": 0.1783434897661209,
           "y0": 0.12661796621978277,
           "y1": 0.29868730455636977
          },
          {
           "calibration": true,
           "column_names": "Susceptible_sol",
           "time": 51,
           "y": 0.17148229479789728,
           "y0": 0.12364182062447067,
           "y1": 0.27899302989244457
          },
          {
           "calibration": true,
           "column_names": "Susceptible_sol",
           "time": 52,
           "y": 0.1659816056489944,
           "y0": 0.12107542157173148,
           "y1": 0.2622912690043449
          },
          {
           "calibration": true,
           "column_names": "Susceptible_sol",
           "time": 53,
           "y": 0.16135629266500467,
           "y0": 0.11875257119536395,
           "y1": 0.24814872741699218
          },
          {
           "calibration": true,
           "column_names": "Susceptible_sol",
           "time": 54,
           "y": 0.15744651854038233,
           "y0": 0.11676720343530177,
           "y1": 0.2361728288233279
          },
          {
           "calibration": true,
           "column_names": "Susceptible_sol",
           "time": 55,
           "y": 0.1542113870382309,
           "y0": 0.1150582376867532,
           "y1": 0.2260205820202827
          },
          {
           "calibration": true,
           "column_names": "Susceptible_sol",
           "time": 56,
           "y": 0.1514939963817596,
           "y0": 0.11357637345790861,
           "y1": 0.21739725917577735
          },
          {
           "calibration": true,
           "column_names": "Susceptible_sol",
           "time": 57,
           "y": 0.14914261549711225,
           "y0": 0.11228214465081689,
           "y1": 0.21005316898226736
          },
          {
           "calibration": true,
           "column_names": "Susceptible_sol",
           "time": 58,
           "y": 0.14709444344043726,
           "y0": 0.11114333905279636,
           "y1": 0.20377784669399254
          },
          {
           "calibration": true,
           "column_names": "Susceptible_sol",
           "time": 59,
           "y": 0.14529806375503534,
           "y0": 0.11013432778418057,
           "y1": 0.19874790757894512
          },
          {
           "calibration": true,
           "column_names": "Susceptible_sol",
           "time": 60,
           "y": 0.14371248334646225,
           "y0": 0.10923387892544266,
           "y1": 0.1944823808968067
          },
          {
           "calibration": true,
           "column_names": "Susceptible_sol",
           "time": 61,
           "y": 0.14230325073003766,
           "y0": 0.10842491611838335,
           "y1": 0.190785788744688
          },
          {
           "calibration": true,
           "column_names": "Susceptible_sol",
           "time": 62,
           "y": 0.1410427838563919,
           "y0": 0.10769343748688694,
           "y1": 0.1875657074153423
          },
          {
           "calibration": true,
           "column_names": "Susceptible_sol",
           "time": 63,
           "y": 0.1399083063006401,
           "y0": 0.10702800862491127,
           "y1": 0.1847462579607963
          },
          {
           "calibration": true,
           "column_names": "Susceptible_sol",
           "time": 64,
           "y": 0.1388813033699989,
           "y0": 0.10641921795904631,
           "y1": 0.18226371109485623
          },
          {
           "calibration": true,
           "column_names": "Susceptible_sol",
           "time": 65,
           "y": 0.1379458755254745,
           "y0": 0.105859325453639,
           "y1": 0.18006572946906085
          },
          {
           "calibration": true,
           "column_names": "Susceptible_sol",
           "time": 66,
           "y": 0.13708971440792078,
           "y0": 0.10534211620688436,
           "y1": 0.1781092002987861
          },
          {
           "calibration": true,
           "column_names": "Susceptible_sol",
           "time": 67,
           "y": 0.13630235195159907,
           "y0": 0.10486187934875484,
           "y1": 0.17635750696063035
          },
          {
           "calibration": true,
           "column_names": "Susceptible_sol",
           "time": 68,
           "y": 0.13557479530572886,
           "y0": 0.10441454946994777,
           "y1": 0.17478065714240068
          },
          {
           "calibration": true,
           "column_names": "Susceptible_sol",
           "time": 69,
           "y": 0.13489995151758188,
           "y0": 0.10399641916155808,
           "y1": 0.17335409820079797
          },
          {
           "calibration": true,
           "column_names": "Susceptible_sol",
           "time": 70,
           "y": 0.1342714503407478,
           "y0": 0.10360429026186459,
           "y1": 0.17205642089247697
          },
          {
           "calibration": true,
           "column_names": "Susceptible_sol",
           "time": 71,
           "y": 0.13368438184261316,
           "y0": 0.10323557145893572,
           "y1": 0.1708705104887485
          },
          {
           "calibration": true,
           "column_names": "Susceptible_sol",
           "time": 72,
           "y": 0.13313446938991547,
           "y0": 0.10288803763687604,
           "y1": 0.1697817131876945
          },
          {
           "calibration": true,
           "column_names": "Susceptible_sol",
           "time": 73,
           "y": 0.13261777162551874,
           "y0": 0.10255980566143984,
           "y1": 0.16877780407667156
          },
          {
           "calibration": true,
           "column_names": "Susceptible_sol",
           "time": 74,
           "y": 0.13213125616312024,
           "y0": 0.10224921964108942,
           "y1": 0.16784849464893334
          },
          {
           "calibration": true,
           "column_names": "Susceptible_sol",
           "time": 75,
           "y": 0.13167227804660792,
           "y0": 0.10195487923920146,
           "y1": 0.16698502898216241
          },
          {
           "calibration": true,
           "column_names": "Susceptible_sol",
           "time": 76,
           "y": 0.1312384977936744,
           "y0": 0.10167553573846812,
           "y1": 0.16618017405271523
          },
          {
           "calibration": true,
           "column_names": "Susceptible_sol",
           "time": 77,
           "y": 0.13082786649465555,
           "y0": 0.1014100812375545,
           "y1": 0.16542727798223492
          },
          {
           "calibration": true,
           "column_names": "Susceptible_sol",
           "time": 78,
           "y": 0.13043843209743494,
           "y0": 0.10115768127143378,
           "y1": 0.16472158133983608
          },
          {
           "calibration": true,
           "column_names": "Susceptible_sol",
           "time": 79,
           "y": 0.13006906211376185,
           "y0": 0.10091735981404779,
           "y1": 0.16405825689435002
          },
          {
           "calibration": true,
           "column_names": "Susceptible_sol",
           "time": 80,
           "y": 0.12971802055835718,
           "y0": 0.10068840757012366,
           "y1": 0.16343335136771198
          },
          {
           "calibration": true,
           "column_names": "Susceptible_sol",
           "time": 81,
           "y": 0.1293563470244407,
           "y0": 0.10047013908624647,
           "y1": 0.1628434754908085
          },
          {
           "calibration": true,
           "column_names": "Susceptible_sol",
           "time": 82,
           "y": 0.1289980337023735,
           "y0": 0.10026188194751737,
           "y1": 0.16228577494621274
          },
          {
           "calibration": true,
           "column_names": "Susceptible_sol",
           "time": 83,
           "y": 0.12865661084651944,
           "y0": 0.10006310604512689,
           "y1": 0.1617578096687793
          },
          {
           "calibration": true,
           "column_names": "Susceptible_sol",
           "time": 84,
           "y": 0.1283313930034637,
           "y0": 0.09987332411110396,
           "y1": 0.1612567879259586
          },
          {
           "calibration": true,
           "column_names": "Susceptible_sol",
           "time": 85,
           "y": 0.12802151590585703,
           "y0": 0.09969202689826483,
           "y1": 0.16078127175569532
          },
          {
           "calibration": true,
           "column_names": "Susceptible_sol",
           "time": 86,
           "y": 0.1277257204055786,
           "y0": 0.09951871968805788,
           "y1": 0.16032934486865996
          },
          {
           "calibration": true,
           "column_names": "Susceptible_sol",
           "time": 87,
           "y": 0.12744366377592087,
           "y0": 0.09935321062803265,
           "y1": 0.15989930704236027
          },
          {
           "calibration": true,
           "column_names": "Susceptible_sol",
           "time": 88,
           "y": 0.12717399746179575,
           "y0": 0.09919481426477428,
           "y1": 0.15949003323912614
          },
          {
           "calibration": true,
           "column_names": "Susceptible_sol",
           "time": 89,
           "y": 0.12691658735275263,
           "y0": 0.09904346987605091,
           "y1": 0.1590996988117694
          },
          {
           "calibration": true,
           "column_names": "Susceptible_sol",
           "time": 90,
           "y": 0.12667055428028098,
           "y0": 0.09889853112399576,
           "y1": 0.1587277270853519
          },
          {
           "calibration": true,
           "column_names": "Susceptible_sol",
           "time": 91,
           "y": 0.1264353804290294,
           "y0": 0.09876008853316307,
           "y1": 0.1583728581666946
          },
          {
           "calibration": true,
           "column_names": "Susceptible_sol",
           "time": 92,
           "y": 0.1262104623019695,
           "y0": 0.09862753823399542,
           "y1": 0.15803407058119764
          },
          {
           "calibration": true,
           "column_names": "Susceptible_sol",
           "time": 93,
           "y": 0.12599539011716834,
           "y0": 0.09850059524178499,
           "y1": 0.15771057233214372
          },
          {
           "calibration": true,
           "column_names": "Susceptible_sol",
           "time": 94,
           "y": 0.12578966096043584,
           "y0": 0.09837912805378435,
           "y1": 0.15740149095654482
          },
          {
           "calibration": true,
           "column_names": "Susceptible_sol",
           "time": 95,
           "y": 0.1255928091704845,
           "y0": 0.09826278984546659,
           "y1": 0.1571061551570892
          },
          {
           "calibration": true,
           "column_names": "Susceptible_sol",
           "time": 96,
           "y": 0.1254043243825435,
           "y0": 0.09815148897469038,
           "y1": 0.1568237446248531
          },
          {
           "calibration": true,
           "column_names": "Susceptible_sol",
           "time": 97,
           "y": 0.1252239048480987,
           "y0": 0.09804492332041262,
           "y1": 0.1565536871552467
          },
          {
           "calibration": true,
           "column_names": "Susceptible_sol",
           "time": 98,
           "y": 0.1250513158738613,
           "y0": 0.09794286750257009,
           "y1": 0.15629523694515227
          },
          {
           "calibration": true,
           "column_names": "Susceptible_sol",
           "time": 99,
           "y": 0.12488591298460955,
           "y0": 0.09784513190388676,
           "y1": 0.15604826435446734
          },
          {
           "calibration": false,
           "column_names": "Threatened_sol",
           "time": 0,
           "y": 1.1572813824060623e-19,
           "y0": 1.0943496429617416e-19,
           "y1": 1.245683544487494e-19
          },
          {
           "calibration": false,
           "column_names": "Threatened_sol",
           "time": 1,
           "y": 5.9405345087526484e-9,
           "y0": 5.438261019286017e-9,
           "y1": 6.42131918748845e-9
          },
          {
           "calibration": false,
           "column_names": "Threatened_sol",
           "time": 2,
           "y": 2.467450688214967e-8,
           "y0": 2.2554714451672448e-8,
           "y1": 2.7121963341869556e-8
          },
          {
           "calibration": false,
           "column_names": "Threatened_sol",
           "time": 3,
           "y": 6.242265015998782e-8,
           "y0": 5.7598776059819564e-8,
           "y1": 7.013638345654271e-8
          },
          {
           "calibration": false,
           "column_names": "Threatened_sol",
           "time": 4,
           "y": 1.2673307736577047e-7,
           "y0": 1.1621652973303755e-7,
           "y1": 1.44682501712623e-7
          },
          {
           "calibration": false,
           "column_names": "Threatened_sol",
           "time": 5,
           "y": 2.2766015916886317e-7,
           "y0": 2.035927217036715e-7,
           "y1": 2.6385098124137584e-7
          },
          {
           "calibration": false,
           "column_names": "Threatened_sol",
           "time": 6,
           "y": 3.794994825057074e-7,
           "y0": 3.3202093447926017e-7,
           "y1": 4.499995228002262e-7
          },
          {
           "calibration": false,
           "column_names": "Threatened_sol",
           "time": 7,
           "y": 6.041875906248606e-7,
           "y0": 5.129258738634235e-7,
           "y1": 7.32959622951057e-7
          },
          {
           "calibration": false,
           "column_names": "Threatened_sol",
           "time": 8,
           "y": 9.263770550660411e-7,
           "y0": 7.654012449620495e-7,
           "y1": 0.000001152614248667305
          },
          {
           "calibration": false,
           "column_names": "Threatened_sol",
           "time": 9,
           "y": 0.0000013836679499945603,
           "y0": 0.0000011086300730767107,
           "y1": 0.0000017702804370856027
          },
          {
           "calibration": false,
           "column_names": "Threatened_sol",
           "time": 10,
           "y": 0.000002032912902905082,
           "y0": 0.000001567200195040641,
           "y1": 0.000002673610038073093
          },
          {
           "calibration": false,
           "column_names": "Threatened_sol",
           "time": 11,
           "y": 0.0000029414676419037278,
           "y0": 0.0000021816822936671086,
           "y1": 0.000003996652480964257
          },
          {
           "calibration": false,
           "column_names": "Threatened_sol",
           "time": 12,
           "y": 0.000004219890797685366,
           "y0": 0.0000030014939284228604,
           "y1": 0.000005928760378992592
          },
          {
           "calibration": false,
           "column_names": "Threatened_sol",
           "time": 13,
           "y": 0.0000060106540331617,
           "y0": 0.000004091987989340851,
           "y1": 0.000008740869179746368
          },
          {
           "calibration": false,
           "column_names": "Threatened_sol",
           "time": 14,
           "y": 0.000008513862212566892,
           "y0": 0.000005539501012208348,
           "y1": 0.000012829382239942787
          },
          {
           "calibration": false,
           "column_names": "Threatened_sol",
           "time": 15,
           "y": 0.000012009577858407282,
           "y0": 0.000007456719094989239,
           "y1": 0.000018769266807794336
          },
          {
           "calibration": false,
           "column_names": "Threatened_sol",
           "time": 16,
           "y": 0.000016888147001736797,
           "y0": 0.00000997690135591256,
           "y1": 0.000027394241624278947
          },
          {
           "calibration": false,
           "column_names": "Threatened_sol",
           "time": 17,
           "y": 0.000023693507500865962,
           "y0": 0.00001331633416157274,
           "y1": 0.000039912514876050405
          },
          {
           "calibration": false,
           "column_names": "Threatened_sol",
           "time": 18,
           "y": 0.00003309773819637485,
           "y0": 0.000017725989255268357,
           "y1": 0.00005811473129142541
          },
          {
           "calibration": false,
           "column_names": "Threatened_sol",
           "time": 19,
           "y": 0.00004603797242452856,
           "y0": 0.00002354645775994868,
           "y1": 0.00008527651116310153
          },
          {
           "calibration": false,
           "column_names": "Threatened_sol",
           "time": 20,
           "y": 0.00006396508251782507,
           "y0": 0.00003122664693364641,
           "y1": 0.00012511374152378
          },
          {
           "calibration": false,
           "column_names": "Threatened_sol",
           "time": 21,
           "y": 0.00008879103552317247,
           "y0": 0.000041358122143719814,
           "y1": 0.00018337559013154
          },
          {
           "calibration": false,
           "column_names": "Threatened_sol",
           "time": 22,
           "y": 0.00012315369531275,
           "y0": 0.000054719830586691394,
           "y1": 0.00026844577514564995
          },
          {
           "calibration": false,
           "column_names": "Threatened_sol",
           "time": 23,
           "y": 0.0001706855182419,
           "y0": 0.00007233725518744905,
           "y1": 0.00039236997981782
          },
          {
           "calibration": false,
           "column_names": "Threatened_sol",
           "time": 24,
           "y": 0.0002363768362556,
           "y0": 0.00009555948272461122,
           "y1": 0.0005722903471905599
          },
          {
           "calibration": false,
           "column_names": "Threatened_sol",
           "time": 25,
           "y": 0.00032705707417335003,
           "y0": 0.000126158894636295,
           "y1": 0.0008322669134940749
          },
          {
           "calibration": false,
           "column_names": "Threatened_sol",
           "time": 26,
           "y": 0.00045151206722945003,
           "y0": 0.00016646183794360498,
           "y1": 0.0012054146965965098
          },
          {
           "calibration": false,
           "column_names": "Threatened_sol",
           "time": 27,
           "y": 0.0006218245835043,
           "y0": 0.00021951646558582,
           "y1": 0.0017360899422782946
          },
          {
           "calibration": false,
           "column_names": "Threatened_sol",
           "time": 28,
           "y": 0.0008548632904421,
           "y0": 0.000289307461935035,
           "y1": 0.002481510397046754
          },
          {
           "calibration": false,
           "column_names": "Threatened_sol",
           "time": 29,
           "y": 0.0011724988580681,
           "y0": 0.000381029225536555,
           "y1": 0.003511920641176354
          },
          {
           "calibration": false,
           "column_names": "Threatened_sol",
           "time": 30,
           "y": 0.00160322134615845,
           "y0": 0.000501427928975255,
           "y1": 0.004908066848292874
          },
          {
           "calibration": false,
           "column_names": "Threatened_sol",
           "time": 31,
           "y": 0.0021833735518157,
           "y0": 0.000659221067326085,
           "y1": 0.006755297537893039
          },
          {
           "calibration": false,
           "column_names": "Threatened_sol",
           "time": 32,
           "y": 0.0029580474365501997,
           "y0": 0.0008656020800116701,
           "y1": 0.009134538052603539
          },
          {
           "calibration": false,
           "column_names": "Threatened_sol",
           "time": 33,
           "y": 0.0039812226314097,
           "y0": 0.001134824752807575,
           "y1": 0.012111961049959033
          },
          {
           "calibration": false,
           "column_names": "Threatened_sol",
           "time": 34,
           "y": 0.0053146141581237,
           "y0": 0.001484843256184765,
           "y1": 0.01572993700392539
          },
          {
           "calibration": false,
           "column_names": "Threatened_sol",
           "time": 35,
           "y": 0.00702478829771275,
           "y0": 0.001937969477148675,
           "y1": 0.020001718867570125
          },
          {
           "calibration": false,
           "column_names": "Threatened_sol",
           "time": 36,
           "y": 0.00917837163433425,
           "y0": 0.00252143979305397,
           "y1": 0.02491060690954325
          },
          {
           "calibration": false,
           "column_names": "Threatened_sol",
           "time": 37,
           "y": 0.0118358596228063,
           "y0": 0.003267774486448545,
           "y1": 0.030413211975246615
          },
          {
           "calibration": false,
           "column_names": "Threatened_sol",
           "time": 38,
           "y": 0.01505858963355415,
           "y0": 0.004214736749418005,
           "y1": 0.03644501380622379
          },
          {
           "calibration": false,
           "column_names": "Threatened_sol",
           "time": 39,
           "y": 0.01891004573553795,
           "y0": 0.00540468911640341,
           "y1": 0.04292698763310906
          },
          {
           "calibration": false,
           "column_names": "Threatened_sol",
           "time": 40,
           "y": 0.02338042296469205,
           "y0": 0.006883143307641126,
           "y1": 0.04977199956774703
          },
          {
           "calibration": false,
           "column_names": "Threatened_sol",
           "time": 41,
           "y": 0.02845913916826245,
           "y0": 0.00869644843041894,
           "y1": 0.05689013022929426
          },
          {
           "calibration": false,
           "column_names": "Threatened_sol",
           "time": 42,
           "y": 0.03411258384585375,
           "y0": 0.01088871038518842,
           "y1": 0.06433368697762484
          },
          {
           "calibration": false,
           "column_names": "Threatened_sol",
           "time": 43,
           "y": 0.04028740152716635,
           "y0": 0.013498193491250254,
           "y1": 0.07197720259428018
          },
          {
           "calibration": false,
           "column_names": "Threatened_sol",
           "time": 44,
           "y": 0.04691485874354835,
           "y0": 0.01655382653698323,
           "y1": 0.07967887595295901
          },
          {
           "calibration": false,
           "column_names": "Threatened_sol",
           "time": 45,
           "y": 0.053915916010737405,
           "y0": 0.020072275213897196,
           "y1": 0.08740620054304593
          },
          {
           "calibration": false,
           "column_names": "Threatened_sol",
           "time": 46,
           "y": 0.0612058918923139,
           "y0": 0.024056013021618066,
           "y1": 0.09504852481186385
          },
          {
           "calibration": false,
           "column_names": "Threatened_sol",
           "time": 47,
           "y": 0.06857714056968685,
           "y0": 0.028492745757102898,
           "y1": 0.10269829444587222
          },
          {
           "calibration": false,
           "column_names": "Threatened_sol",
           "time": 48,
           "y": 0.0757895372807979,
           "y0": 0.0333561822772026,
           "y1": 0.11013537384569641
          },
          {
           "calibration": false,
           "column_names": "Threatened_sol",
           "time": 49,
           "y": 0.08301055803894994,
           "y0": 0.038607722893357246,
           "y1": 0.11731354743242259
          },
          {
           "calibration": false,
           "column_names": "Threatened_sol",
           "time": 50,
           "y": 0.09017606452107425,
           "y0": 0.044198928959667615,
           "y1": 0.12419531755149357
          },
          {
           "calibration": false,
           "column_names": "Threatened_sol",
           "time": 51,
           "y": 0.09722876176238054,
           "y0": 0.050074384920298975,
           "y1": 0.13075120449066155
          },
          {
           "calibration": false,
           "column_names": "Threatened_sol",
           "time": 52,
           "y": 0.1041185706853866,
           "y0": 0.05617417730391024,
           "y1": 0.13695909157395358
          },
          {
           "calibration": false,
           "column_names": "Threatened_sol",
           "time": 53,
           "y": 0.11080282181501386,
           "y0": 0.06243703737854949,
           "y1": 0.14280228465795516
          },
          {
           "calibration": false,
           "column_names": "Threatened_sol",
           "time": 54,
           "y": 0.11724561452865595,
           "y0": 0.06880188249051568,
           "y1": 0.14827097877860063
          },
          {
           "calibration": false,
           "column_names": "Threatened_sol",
           "time": 55,
           "y": 0.12285077944397925,
           "y0": 0.0752100776880979,
           "y1": 0.1533592119812965
          },
          {
           "calibration": false,
           "column_names": "Threatened_sol",
           "time": 56,
           "y": 0.12782433629035944,
           "y0": 0.08160643912851806,
           "y1": 0.1580653622746467
          },
          {
           "calibration": false,
           "column_names": "Threatened_sol",
           "time": 57,
           "y": 0.1324938833713531,
           "y0": 0.0879405297338962,
           "y1": 0.16239106655120847
          },
          {
           "calibration": false,
           "column_names": "Threatened_sol",
           "time": 58,
           "y": 0.13685384392738342,
           "y0": 0.09416666738688945,
           "y1": 0.16634129136800763
          },
          {
           "calibration": false,
           "column_names": "Threatened_sol",
           "time": 59,
           "y": 0.14090310782194135,
           "y0": 0.10024468898773188,
           "y1": 0.16971043124794952
          },
          {
           "calibration": false,
           "column_names": "Threatened_sol",
           "time": 60,
           "y": 0.14464183151721954,
           "y0": 0.10613995604217052,
           "y1": 0.17265236228704448
          },
          {
           "calibration": false,
           "column_names": "Threatened_sol",
           "time": 61,
           "y": 0.14832005649805063,
           "y0": 0.11182297170162195,
           "y1": 0.1752470433712005
          },
          {
           "calibration": false,
           "column_names": "Threatened_sol",
           "time": 62,
           "y": 0.1516759321093559,
           "y0": 0.11726938635110853,
           "y1": 0.1775067433714866
          },
          {
           "calibration": false,
           "column_names": "Threatened_sol",
           "time": 63,
           "y": 0.15461871027946472,
           "y0": 0.12245953008532519,
           "y1": 0.1794443301856517
          },
          {
           "calibration": false,
           "column_names": "Threatened_sol",
           "time": 64,
           "y": 0.1577435359358787,
           "y0": 0.1273780539631843,
           "y1": 0.18107351213693618
          },
          {
           "calibration": false,
           "column_names": "Threatened_sol",
           "time": 65,
           "y": 0.15993321686983106,
           "y0": 0.1320138253271579,
           "y1": 0.18240804448723788
          },
          {
           "calibration": false,
           "column_names": "Threatened_sol",
           "time": 66,
           "y": 0.16185851395130155,
           "y0": 0.13635892197489738,
           "y1": 0.18351886346936222
          },
          {
           "calibration": false,
           "column_names": "Threatened_sol",
           "time": 67,
           "y": 0.1636438220739364,
           "y0": 0.14040845558047294,
           "y1": 0.18451656177639958
          },
          {
           "calibration": false,
           "column_names": "Threatened_sol",
           "time": 68,
           "y": 0.1660975813865661,
           "y0": 0.14416082873940467,
           "y1": 0.18532468676567074
          },
          {
           "calibration": false,
           "column_names": "Threatened_sol",
           "time": 69,
           "y": 0.16848263889551154,
           "y0": 0.14761651828885078,
           "y1": 0.18678046017885205
          },
          {
           "calibration": false,
           "column_names": "Threatened_sol",
           "time": 70,
           "y": 0.17057270556688303,
           "y0": 0.15077791363000867,
           "y1": 0.1881899483501911
          },
          {
           "calibration": false,
           "column_names": "Threatened_sol",
           "time": 71,
           "y": 0.17183025926351542,
           "y0": 0.15364879220724104,
           "y1": 0.18954569101333613
          },
          {
           "calibration": false,
           "column_names": "Threatened_sol",
           "time": 72,
           "y": 0.17342008650302884,
           "y0": 0.15623575225472447,
           "y1": 0.1903902031481266
          },
          {
           "calibration": false,
           "column_names": "Threatened_sol",
           "time": 73,
           "y": 0.17491652071475983,
           "y0": 0.1585220135748386,
           "y1": 0.19067580401897427
          },
          {
           "calibration": false,
           "column_names": "Threatened_sol",
           "time": 74,
           "y": 0.17555192112922663,
           "y0": 0.1603559516370296,
           "y1": 0.19079677984118457
          },
          {
           "calibration": false,
           "column_names": "Threatened_sol",
           "time": 75,
           "y": 0.17595674097537994,
           "y0": 0.16182320639491077,
           "y1": 0.19069732055068006
          },
          {
           "calibration": false,
           "column_names": "Threatened_sol",
           "time": 76,
           "y": 0.17642413824796677,
           "y0": 0.1630493320524692,
           "y1": 0.1902313344180584
          },
          {
           "calibration": false,
           "column_names": "Threatened_sol",
           "time": 77,
           "y": 0.1764983907341957,
           "y0": 0.16311672180891035,
           "y1": 0.18968722745776173
          },
          {
           "calibration": false,
           "column_names": "Threatened_sol",
           "time": 78,
           "y": 0.1766690239310264,
           "y0": 0.16237592846155163,
           "y1": 0.18899082243442533
          },
          {
           "calibration": false,
           "column_names": "Threatened_sol",
           "time": 79,
           "y": 0.1763702183961868,
           "y0": 0.16156521439552304,
           "y1": 0.1881438478827476
          },
          {
           "calibration": false,
           "column_names": "Threatened_sol",
           "time": 80,
           "y": 0.1762033477425575,
           "y0": 0.16205558031797407,
           "y1": 0.18726056739687919
          },
          {
           "calibration": false,
           "column_names": "Threatened_sol",
           "time": 81,
           "y": 0.17593403160572046,
           "y0": 0.16158035323023792,
           "y1": 0.1866224519908428
          },
          {
           "calibration": false,
           "column_names": "Threatened_sol",
           "time": 82,
           "y": 0.17499598115682602,
           "y0": 0.16012734174728388,
           "y1": 0.1859736569225788
          },
          {
           "calibration": false,
           "column_names": "Threatened_sol",
           "time": 83,
           "y": 0.1737139225006103,
           "y0": 0.15858756676316255,
           "y1": 0.185185981541872
          },
          {
           "calibration": false,
           "column_names": "Threatened_sol",
           "time": 84,
           "y": 0.17228113859891886,
           "y0": 0.15696826577186584,
           "y1": 0.184269505739212
          },
          {
           "calibration": false,
           "column_names": "Threatened_sol",
           "time": 85,
           "y": 0.17144224792718887,
           "y0": 0.15527671352028843,
           "y1": 0.1832323476672172
          },
          {
           "calibration": false,
           "column_names": "Threatened_sol",
           "time": 86,
           "y": 0.17062476277351374,
           "y0": 0.15368376150727267,
           "y1": 0.18208269253373138
          },
          {
           "calibration": false,
           "column_names": "Threatened_sol",
           "time": 87,
           "y": 0.1696197390556335,
           "y0": 0.15205755680799482,
           "y1": 0.18082851171493525
          },
          {
           "calibration": false,
           "column_names": "Threatened_sol",
           "time": 88,
           "y": 0.16808063536882395,
           "y0": 0.15036936700344083,
           "y1": 0.1795181222259998
          },
          {
           "calibration": false,
           "column_names": "Threatened_sol",
           "time": 89,
           "y": 0.16635304689407346,
           "y0": 0.14862508252263062,
           "y1": 0.17812038362026214
          },
          {
           "calibration": false,
           "column_names": "Threatened_sol",
           "time": 90,
           "y": 0.16472454369068146,
           "y0": 0.14683049768209455,
           "y1": 0.17663805708289143
          },
          {
           "calibration": false,
           "column_names": "Threatened_sol",
           "time": 91,
           "y": 0.16275317966938013,
           "y0": 0.14499071016907686,
           "y1": 0.17523154169321056
          },
          {
           "calibration": false,
           "column_names": "Threatened_sol",
           "time": 92,
           "y": 0.160837821662426,
           "y0": 0.14311064556241032,
           "y1": 0.17361754775047297
          },
          {
           "calibration": false,
           "column_names": "Threatened_sol",
           "time": 93,
           "y": 0.15909203886985776,
           "y0": 0.14114090949296948,
           "y1": 0.17187968790531155
          },
          {
           "calibration": false,
           "column_names": "Threatened_sol",
           "time": 94,
           "y": 0.15700825303792948,
           "y0": 0.13913469240069387,
           "y1": 0.1701019644737243
          },
          {
           "calibration": false,
           "column_names": "Threatened_sol",
           "time": 95,
           "y": 0.1554455980658531,
           "y0": 0.13710423037409777,
           "y1": 0.16808690428733825
          },
          {
           "calibration": false,
           "column_names": "Threatened_sol",
           "time": 96,
           "y": 0.15346851944923395,
           "y0": 0.13505382165312768,
           "y1": 0.1659665130078792
          },
          {
           "calibration": false,
           "column_names": "Threatened_sol",
           "time": 97,
           "y": 0.15150889009237284,
           "y0": 0.13298738747835157,
           "y1": 0.16380865126848218
          },
          {
           "calibration": false,
           "column_names": "Threatened_sol",
           "time": 98,
           "y": 0.1496505141258239,
           "y0": 0.1309079147875309,
           "y1": 0.1616182833909988
          },
          {
           "calibration": false,
           "column_names": "Threatened_sol",
           "time": 99,
           "y": 0.14752947539091105,
           "y0": 0.12881875634193413,
           "y1": 0.15941951349377625
          },
          {
           "calibration": true,
           "column_names": "Threatened_sol",
           "time": 0,
           "y": 1.1860242284816608e-19,
           "y0": 1.1130263989162114e-19,
           "y1": 1.2863595048749355e-19
          },
          {
           "calibration": true,
           "column_names": "Threatened_sol",
           "time": 1,
           "y": 5.964544413927796e-9,
           "y0": 5.487759269229287e-9,
           "y1": 6.624687709511079e-9
          },
          {
           "calibration": true,
           "column_names": "Threatened_sol",
           "time": 2,
           "y": 2.472563753741497e-8,
           "y0": 2.2427611945374795e-8,
           "y1": 2.7568752436479827e-8
          },
          {
           "calibration": true,
           "column_names": "Threatened_sol",
           "time": 3,
           "y": 6.221298676223343e-8,
           "y0": 5.5541976351491946e-8,
           "y1": 6.986172138567782e-8
          },
          {
           "calibration": true,
           "column_names": "Threatened_sol",
           "time": 4,
           "y": 1.2486108857956424e-7,
           "y0": 1.1054017790002037e-7,
           "y1": 1.434559607105257e-7
          },
          {
           "calibration": true,
           "column_names": "Threatened_sol",
           "time": 5,
           "y": 2.2426768708783132e-7,
           "y0": 1.949041212867542e-7,
           "y1": 2.619919925450631e-7
          },
          {
           "calibration": true,
           "column_names": "Threatened_sol",
           "time": 6,
           "y": 3.759888187460092e-7,
           "y0": 3.1782589502427074e-7,
           "y1": 4.452091943107917e-7
          },
          {
           "calibration": true,
           "column_names": "Threatened_sol",
           "time": 7,
           "y": 6.03484011207911e-7,
           "y0": 4.904595215293739e-7,
           "y1": 7.214766753804725e-7
          },
          {
           "calibration": true,
           "column_names": "Threatened_sol",
           "time": 8,
           "y": 9.283365614010108e-7,
           "y0": 7.289663329856921e-7,
           "y1": 0.0000011327523168347398
          },
          {
           "calibration": true,
           "column_names": "Threatened_sol",
           "time": 9,
           "y": 0.0000013792844697491091,
           "y0": 0.0000010559400664078567,
           "y1": 0.0000017246065510789777
          },
          {
           "calibration": true,
           "column_names": "Threatened_sol",
           "time": 10,
           "y": 0.000002022896410380781,
           "y0": 0.0000015047499175580013,
           "y1": 0.000002582051934041374
          },
          {
           "calibration": true,
           "column_names": "Threatened_sol",
           "time": 11,
           "y": 0.000002926936076619313,
           "y0": 0.0000021129475385350817,
           "y1": 0.000003840568797386368
          },
          {
           "calibration": true,
           "column_names": "Threatened_sol",
           "time": 12,
           "y": 0.000004171857426626957,
           "y0": 0.000002930947687218577,
           "y1": 0.000005722073979086417
          },
          {
           "calibration": true,
           "column_names": "Threatened_sol",
           "time": 13,
           "y": 0.000005887015277039609,
           "y0": 0.000004015006379631814,
           "y1": 0.000008492749202559935
          },
          {
           "calibration": true,
           "column_names": "Threatened_sol",
           "time": 14,
           "y": 0.000008259561127488269,
           "y0": 0.000005459466729007545,
           "y1": 0.000012505234144555286
          },
          {
           "calibration": true,
           "column_names": "Threatened_sol",
           "time": 15,
           "y": 0.000011588138022489147,
           "y0": 0.00000737465240945312,
           "y1": 0.00001827807600420783
          },
          {
           "calibration": true,
           "column_names": "Threatened_sol",
           "time": 16,
           "y": 0.000016246394807239994,
           "y0": 0.000009919833428284618,
           "y1": 0.000026652012456906954
          },
          {
           "calibration": true,
           "column_names": "Threatened_sol",
           "time": 17,
           "y": 0.00002272362144140061,
           "y0": 0.000013299832789925859,
           "y1": 0.00003879329979099566
          },
          {
           "calibration": true,
           "column_names": "Threatened_sol",
           "time": 18,
           "y": 0.00003172677133989055,
           "y0": 0.00001778625055521843,
           "y1": 0.00005622586104436777
          },
          {
           "calibration": true,
           "column_names": "Threatened_sol",
           "time": 19,
           "y": 0.000044236690882826224,
           "y0": 0.000023739108200970804,
           "y1": 0.00008114034244499634
          },
          {
           "calibration": true,
           "column_names": "Threatened_sol",
           "time": 20,
           "y": 0.00006161356941447593,
           "y0": 0.00003163559813401662,
           "y1": 0.00011698112575678999
          },
          {
           "calibration": true,
           "column_names": "Threatened_sol",
           "time": 21,
           "y": 0.00008574165258323774,
           "y0": 0.0000421077891587629,
           "y1": 0.000168497502454505
          },
          {
           "calibration": true,
           "column_names": "Threatened_sol",
           "time": 22,
           "y": 0.00011922711928485,
           "y0": 0.00005587102295976365,
           "y1": 0.00024246010580095999
          },
          {
           "calibration": true,
           "column_names": "Threatened_sol",
           "time": 23,
           "y": 0.0001653431463637,
           "y0": 0.00007404964562738315,
           "y1": 0.00034847679198715496
          },
          {
           "calibration": true,
           "column_names": "Threatened_sol",
           "time": 24,
           "y": 0.0002283088615513,
           "y0": 0.0000980756962235206,
           "y1": 0.00050008999241979
          },
          {
           "calibration": true,
           "column_names": "Threatened_sol",
           "time": 25,
           "y": 0.00031498938915315003,
           "y0": 0.000129818930145075,
           "y1": 0.00071620999369767
          },
          {
           "calibration": true,
           "column_names": "Threatened_sol",
           "time": 26,
           "y": 0.0004341412422945,
           "y0": 0.00017173917876781502,
           "y1": 0.001022892759647165
          },
          {
           "calibration": true,
           "column_names": "Threatened_sol",
           "time": 27,
           "y": 0.0005976035317871,
           "y0": 0.000227067231753545,
           "y1": 0.00145538385258981
          },
          {
           "calibration": true,
           "column_names": "Threatened_sol",
           "time": 28,
           "y": 0.00082125424523835,
           "y0": 0.00030003574647701,
           "y1": 0.002060364512726615
          },
          {
           "calibration": true,
           "column_names": "Threatened_sol",
           "time": 29,
           "y": 0.0011261511244811,
           "y0": 0.000396901740168665,
           "y1": 0.00289774049306285
          },
          {
           "calibration": true,
           "column_names": "Threatened_sol",
           "time": 30,
           "y": 0.00153981236508115,
           "y0": 0.000524938298622085,
           "y1": 0.0040390421636402295
          },
          {
           "calibration": true,
           "column_names": "Threatened_sol",
           "time": 31,
           "y": 0.00209750642534345,
           "y0": 0.00069349489058362,
           "y1": 0.00556669349316505
          },
          {
           "calibration": true,
           "column_names": "Threatened_sol",
           "time": 32,
           "y": 0.002843273570761,
           "y0": 0.00091486884339243,
           "y1": 0.007567960605956545
          },
          {
           "calibration": true,
           "column_names": "Threatened_sol",
           "time": 33,
           "y": 0.0038302747998385997,
           "y0": 0.001204720436362485,
           "y1": 0.010126402182504485
          },
          {
           "calibration": true,
           "column_names": "Threatened_sol",
           "time": 34,
           "y": 0.005119969602674201,
           "y0": 0.001582739257719285,
           "y1": 0.01331173731014124
          },
          {
           "calibration": true,
           "column_names": "Threatened_sol",
           "time": 35,
           "y": 0.006779590854421201,
           "y0": 0.002073296712478575,
           "y1": 0.017172973044216583
          },
          {
           "calibration": true,
           "column_names": "Threatened_sol",
           "time": 36,
           "y": 0.0088776894845068,
           "y0": 0.002705934166442565,
           "y1": 0.021732775308191715
          },
          {
           "calibration": true,
           "column_names": "Threatened_sol",
           "time": 37,
           "y": 0.01147801754996175,
           "y0": 0.0035155451623722052,
           "y1": 0.02697414672002191
          },
          {
           "calibration": true,
           "column_names": "Threatened_sol",
           "time": 38,
           "y": 0.01463280525058505,
           "y0": 0.004542027041316,
           "y1": 0.0328539570793509
          },
          {
           "calibration": true,
           "column_names": "Threatened_sol",
           "time": 39,
           "y": 0.01837645750492805,
           "y0": 0.00582919504959131,
           "y1": 0.0393044617027044
          },
          {
           "calibration": true,
           "column_names": "Threatened_sol",
           "time": 40,
           "y": 0.022721368819475098,
           "y0": 0.007422785484231975,
           "y1": 0.046395047754049276
          },
          {
           "calibration": true,
           "column_names": "Threatened_sol",
           "time": 41,
           "y": 0.0276563102379441,
           "y0": 0.00936761889606711,
           "y1": 0.053913339786231494
          },
          {
           "calibration": true,
           "column_names": "Threatened_sol",
           "time": 42,
           "y": 0.033147573471069294,
           "y0": 0.011704121809452704,
           "y1": 0.06173588149249553
          },
          {
           "calibration": true,
           "column_names": "Threatened_sol",
           "time": 43,
           "y": 0.0391421373933553,
           "y0": 0.014464697334915394,
           "y1": 0.06949080191552635
          },
          {
           "calibration": true,
           "column_names": "Threatened_sol",
           "time": 44,
           "y": 0.045572377741336795,
           "y0": 0.0176704888232052,
           "y1": 0.07740771919488901
          },
          {
           "calibration": true,
           "column_names": "Threatened_sol",
           "time": 45,
           "y": 0.052360730245709405,
           "y0": 0.021329115517437446,
           "y1": 0.08537109941244121
          },
          {
           "calibration": true,
           "column_names": "Threatened_sol",
           "time": 46,
           "y": 0.05914944410324095,
           "y0": 0.025433770287781945,
           "y1": 0.09350861161947246
          },
          {
           "calibration": true,
           "column_names": "Threatened_sol",
           "time": 47,
           "y": 0.06607272475957865,
           "y0": 0.02996343299746509,
           "y1": 0.10140751525759695
          },
          {
           "calibration": true,
           "column_names": "Threatened_sol",
           "time": 48,
           "y": 0.0731128975749015,
           "y0": 0.0348845513537526,
           "y1": 0.10911142826080317
          },
          {
           "calibration": true,
           "column_names": "Threatened_sol",
           "time": 49,
           "y": 0.08065927401185036,
           "y0": 0.040153167024254754,
           "y1": 0.11621971912682057
          },
          {
           "calibration": true,
           "column_names": "Threatened_sol",
           "time": 50,
           "y": 0.0882026851177215,
           "y0": 0.0458052661269903,
           "y1": 0.12292178384959696
          },
          {
           "calibration": true,
           "column_names": "Threatened_sol",
           "time": 51,
           "y": 0.09552366659045214,
           "y0": 0.05175280142575501,
           "y1": 0.12983983308076855
          },
          {
           "calibration": true,
           "column_names": "Threatened_sol",
           "time": 52,
           "y": 0.10238017886877054,
           "y0": 0.05790389329195019,
           "y1": 0.13662565797567364
          },
          {
           "calibration": true,
           "column_names": "Threatened_sol",
           "time": 53,
           "y": 0.10903766751289365,
           "y0": 0.06419636849313971,
           "y1": 0.14309549629688256
          },
          {
           "calibration": true,
           "column_names": "Threatened_sol",
           "time": 54,
           "y": 0.1154605969786644,
           "y0": 0.0705693487077951,
           "y1": 0.14892165660858153
          },
          {
           "calibration": true,
           "column_names": "Threatened_sol",
           "time": 55,
           "y": 0.1216199733316898,
           "y0": 0.07696457803249358,
           "y1": 0.15428047478199003
          },
          {
           "calibration": true,
           "column_names": "Threatened_sol",
           "time": 56,
           "y": 0.1274928525090217,
           "y0": 0.08332803770899769,
           "y1": 0.1592661067843437
          },
          {
           "calibration": true,
           "column_names": "Threatened_sol",
           "time": 57,
           "y": 0.13306144624948502,
           "y0": 0.0896104604005813,
           "y1": 0.16385874971747397
          },
          {
           "calibration": true,
           "column_names": "Threatened_sol",
           "time": 58,
           "y": 0.13831315934658045,
           "y0": 0.09561526440083976,
           "y1": 0.16806156262755392
          },
          {
           "calibration": true,
           "column_names": "Threatened_sol",
           "time": 59,
           "y": 0.14294448494911188,
           "y0": 0.10143970288336271,
           "y1": 0.17188056930899615
          },
          {
           "calibration": true,
           "column_names": "Threatened_sol",
           "time": 60,
           "y": 0.14707001298665995,
           "y0": 0.10706596672534939,
           "y1": 0.17532381117343898
          },
          {
           "calibration": true,
           "column_names": "Threatened_sol",
           "time": 61,
           "y": 0.1508833467960357,
           "y0": 0.11246845386922359,
           "y1": 0.17840103581547734
          },
          {
           "calibration": true,
           "column_names": "Threatened_sol",
           "time": 62,
           "y": 0.1543877124786377,
           "y0": 0.1176266729831695,
           "y1": 0.1813949450850486
          },
          {
           "calibration": true,
           "column_names": "Threatened_sol",
           "time": 63,
           "y": 0.1575881093740463,
           "y0": 0.12252412438392633,
           "y1": 0.18423125594854348
          },
          {
           "calibration": true,
           "column_names": "Threatened_sol",
           "time": 64,
           "y": 0.16044075042009348,
           "y0": 0.12714855596423144,
           "y1": 0.18673464879393575
          },
          {
           "calibration": true,
           "column_names": "Threatened_sol",
           "time": 65,
           "y": 0.16306996345520014,
           "y0": 0.1314914211630821,
           "y1": 0.18891691789031023
          },
          {
           "calibration": true,
           "column_names": "Threatened_sol",
           "time": 66,
           "y": 0.16541337966918945,
           "y0": 0.1355471588671207,
           "y1": 0.19079061821103094
          },
          {
           "calibration": true,
           "column_names": "Threatened_sol",
           "time": 67,
           "y": 0.1674796715378761,
           "y0": 0.13931310102343555,
           "y1": 0.19236821904778476
          },
          {
           "calibration": true,
           "column_names": "Threatened_sol",
           "time": 68,
           "y": 0.16962298750877375,
           "y0": 0.14278898909687993,
           "y1": 0.19366346150636668
          },
          {
           "calibration": true,
           "column_names": "Threatened_sol",
           "time": 69,
           "y": 0.17147634923458094,
           "y0": 0.14594345837831496,
           "y1": 0.19433209970593449
          },
          {
           "calibration": true,
           "column_names": "Threatened_sol",
           "time": 70,
           "y": 0.17294199019670486,
           "y0": 0.14879499077796934,
           "y1": 0.1947684742510319
          },
          {
           "calibration": true,
           "column_names": "Threatened_sol",
           "time": 71,
           "y": 0.1737158745527267,
           "y0": 0.15160726755857465,
           "y1": 0.19497693106532096
          },
          {
           "calibration": true,
           "column_names": "Threatened_sol",
           "time": 72,
           "y": 0.17420937120914454,
           "y0": 0.15407839342951773,
           "y1": 0.19520434066653247
          },
          {
           "calibration": true,
           "column_names": "Threatened_sol",
           "time": 73,
           "y": 0.17448838055133814,
           "y0": 0.15619620680809018,
           "y1": 0.19582193717360497
          },
          {
           "calibration": true,
           "column_names": "Threatened_sol",
           "time": 74,
           "y": 0.1745645701885223,
           "y0": 0.1580464385449886,
           "y1": 0.1962326303124427
          },
          {
           "calibration": true,
           "column_names": "Threatened_sol",
           "time": 75,
           "y": 0.1749482452869415,
           "y0": 0.15924134626984593,
           "y1": 0.1963763490319252
          },
          {
           "calibration": true,
           "column_names": "Threatened_sol",
           "time": 76,
           "y": 0.17547864466905588,
           "y0": 0.16020583882927888,
           "y1": 0.19616575911641118
          },
          {
           "calibration": true,
           "column_names": "Threatened_sol",
           "time": 77,
           "y": 0.17581544071435923,
           "y0": 0.16096021756529807,
           "y1": 0.1957682140171527
          },
          {
           "calibration": true,
           "column_names": "Threatened_sol",
           "time": 78,
           "y": 0.17578094452619547,
           "y0": 0.16151430830359456,
           "y1": 0.19519535377621647
          },
          {
           "calibration": true,
           "column_names": "Threatened_sol",
           "time": 79,
           "y": 0.17589619755744929,
           "y0": 0.16187770590186112,
           "y1": 0.1944577597081661
          },
          {
           "calibration": true,
           "column_names": "Threatened_sol",
           "time": 80,
           "y": 0.1755544915795326,
           "y0": 0.16206001192331307,
           "y1": 0.19356625452637666
          },
          {
           "calibration": true,
           "column_names": "Threatened_sol",
           "time": 81,
           "y": 0.17495130002498627,
           "y0": 0.1620711535215377,
           "y1": 0.19253091365098954
          },
          {
           "calibration": true,
           "column_names": "Threatened_sol",
           "time": 82,
           "y": 0.174272246658802,
           "y0": 0.1619202017784118,
           "y1": 0.19136183261871334
          },
          {
           "calibration": true,
           "column_names": "Threatened_sol",
           "time": 83,
           "y": 0.1732143387198448,
           "y0": 0.16161659359931946,
           "y1": 0.18998538404703133
          },
          {
           "calibration": true,
           "column_names": "Threatened_sol",
           "time": 84,
           "y": 0.17176574468612665,
           "y0": 0.1611690036952495,
           "y1": 0.1884619086980819
          },
          {
           "calibration": true,
           "column_names": "Threatened_sol",
           "time": 85,
           "y": 0.17023455351591105,
           "y0": 0.1605000548064708,
           "y1": 0.18683636114001267
          },
          {
           "calibration": true,
           "column_names": "Threatened_sol",
           "time": 86,
           "y": 0.16885736584663386,
           "y0": 0.15969922319054597,
           "y1": 0.1851172439754009
          },
          {
           "calibration": true,
           "column_names": "Threatened_sol",
           "time": 87,
           "y": 0.16758947074413294,
           "y0": 0.1584511749446392,
           "y1": 0.1833118565380573
          },
          {
           "calibration": true,
           "column_names": "Threatened_sol",
           "time": 88,
           "y": 0.1661021336913108,
           "y0": 0.15676498264074323,
           "y1": 0.18143838122487063
          },
          {
           "calibration": true,
           "column_names": "Threatened_sol",
           "time": 89,
           "y": 0.16468176990747452,
           "y0": 0.15501901954412453,
           "y1": 0.17950640693306918
          },
          {
           "calibration": true,
           "column_names": "Threatened_sol",
           "time": 90,
           "y": 0.1633737236261367,
           "y0": 0.1532192260026931,
           "y1": 0.17750805467367167
          },
          {
           "calibration": true,
           "column_names": "Threatened_sol",
           "time": 91,
           "y": 0.16197941452264786,
           "y0": 0.1513709791004657,
           "y1": 0.17544996961951254
          },
          {
           "calibration": true,
           "column_names": "Threatened_sol",
           "time": 92,
           "y": 0.16053656488656995,
           "y0": 0.14947186559438705,
           "y1": 0.17333816066384308
          },
          {
           "calibration": true,
           "column_names": "Threatened_sol",
           "time": 93,
           "y": 0.1589112430810928,
           "y0": 0.14765431210398672,
           "y1": 0.1711783699691295
          },
          {
           "calibration": true,
           "column_names": "Threatened_sol",
           "time": 94,
           "y": 0.15705514699220655,
           "y0": 0.14579701572656628,
           "y1": 0.16897607818245886
          },
          {
           "calibration": true,
           "column_names": "Threatened_sol",
           "time": 95,
           "y": 0.15494068711996073,
           "y0": 0.14390471279621123,
           "y1": 0.16673659607768054
          },
          {
           "calibration": true,
           "column_names": "Threatened_sol",
           "time": 96,
           "y": 0.1532200425863266,
           "y0": 0.1419816218316555,
           "y1": 0.16467924043536183
          },
          {
           "calibration": true,
           "column_names": "Threatened_sol",
           "time": 97,
           "y": 0.15152153372764585,
           "y0": 0.1400316908955574,
           "y1": 0.16269090175628656
          },
          {
           "calibration": true,
           "column_names": "Threatened_sol",
           "time": 98,
           "y": 0.1497765257954597,
           "y0": 0.1380587019026279,
           "y1": 0.1606736883521079
          },
          {
           "calibration": true,
           "column_names": "Threatened_sol",
           "time": 99,
           "y": 0.1479675397276878,
           "y0": 0.1360662721097469,
           "y1": 0.15866101831197735
          }
         ]
        }
       ],
       "description": "A basic line chart example.",
       "height": 200,
       "legends": [
        {
         "encode": {
          "labels": {
           "hover": {
            "fill": {
             "value": "firebrick"
            }
           },
           "interactive": true,
           "update": {
            "fill": {
             "value": "black"
            },
            "fontSize": {
             "value": 12
            }
           }
          },
          "legend": {
           "update": {
            "stroke": {
             "value": "#ccc"
            },
            "strokeWidth": {
             "value": 1.5
            }
           }
          },
          "symbols": {
           "update": {
            "stroke": {
             "value": "transparent"
            }
           }
          },
          "title": {
           "update": {
            "fontSize": {
             "value": 14
            }
           }
          }
         },
         "fill": "color",
         "title": "Calibrate"
        }
       ],
       "marks": [
        {
         "from": {
          "facet": {
           "data": "table",
           "groupby": [
            "calibration",
            "column_names"
           ],
           "name": "series"
          }
         },
         "marks": [
          {
           "encode": {
            "enter": {
             "fill": {
              "field": "calibration",
              "scale": "color"
             },
             "fillOpacity": {
              "field": "opac"
             },
             "x": {
              "field": "time",
              "scale": "time"
             },
             "y": {
              "field": "y1",
              "scale": "y1"
             },
             "y2": {
              "field": "y0",
              "scale": "y1"
             }
            }
           },
           "from": {
            "data": "series"
           },
           "type": "area"
          },
          {
           "encode": {
            "enter": {
             "stroke": {
              "field": "calibration",
              "scale": "color"
             },
             "strokeWidth": {
              "value": 1
             },
             "x": {
              "field": "time",
              "scale": "time"
             },
             "y": {
              "field": "y",
              "scale": "y1"
             }
            }
           },
           "from": {
            "data": "series"
           },
           "type": "line"
          }
         ],
         "type": "group"
        }
       ],
       "padding": 5,
       "scales": [
        {
         "domain": {
          "data": "table",
          "field": "time"
         },
         "name": "time",
         "range": "width"
        },
        {
         "domain": {
          "data": "table",
          "field": "y1"
         },
         "name": "y1",
         "nice": true,
         "range": "height",
         "type": "linear",
         "zero": true
        },
        {
         "domain": {
          "data": "table",
          "field": "calibration"
         },
         "name": "color",
         "range": {
          "scheme": "category10"
         },
         "type": "ordinal"
        }
       ],
       "signals": [
        {
         "bind": {
          "input": "select",
          "options": [
           "Ailing_sol",
           "Diagnosed_sol",
           "Extinct_sol",
           "Healed_sol",
           "Infected_sol",
           "Recognized_sol",
           "Susceptible_sol",
           "Threatened_sol"
          ]
         },
         "name": "Type",
         "value": "Ailing_sol"
        }
       ],
       "width": 500
      }
     },
     "metadata": {},
     "output_type": "display_data"
    }
   ],
   "source": [
    "vega.ipy_display(vega.calibrate_vega(cal_data))"
   ]
  },
  {
   "cell_type": "code",
   "execution_count": null,
   "metadata": {},
   "outputs": [],
   "source": [
    "#get vega plot"
   ]
  }
 ],
 "metadata": {
  "kernelspec": {
   "display_name": "askem-test",
   "language": "python",
   "name": "python3"
  },
  "language_info": {
   "codemirror_mode": {
    "name": "ipython",
    "version": 3
   },
   "file_extension": ".py",
   "mimetype": "text/x-python",
   "name": "python",
   "nbconvert_exporter": "python",
   "pygments_lexer": "ipython3",
   "version": "3.10.11"
  },
  "orig_nbformat": 4
 },
 "nbformat": 4,
 "nbformat_minor": 2
}
