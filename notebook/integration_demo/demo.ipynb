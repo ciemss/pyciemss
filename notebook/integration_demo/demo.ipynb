{
 "cells": [
  {
   "cell_type": "code",
   "execution_count": 49,
   "metadata": {},
   "outputs": [],
   "source": [
    "import os\n",
    "from pyciemss.PetriNetODE.interfaces import (\n",
    "    load_and_sample_petri_model,\n",
    "    load_and_calibrate_and_sample_petri_model,\n",
    "    load_petri_model,\n",
    "    setup_petri_model,\n",
    "    sample\n",
    ")\n",
    "from typing import Iterable"
   ]
  },
  {
   "cell_type": "code",
   "execution_count": 3,
   "metadata": {},
   "outputs": [
    {
     "name": "stdout",
     "output_type": "stream",
     "text": [
      "/Users/zuck016/Projects/Proposals/ASKEM/build/pyciemss\n"
     ]
    }
   ],
   "source": [
    "cd ../.."
   ]
  },
  {
   "cell_type": "code",
   "execution_count": 2,
   "metadata": {},
   "outputs": [],
   "source": [
    "DEMO_PATH = \"notebook/integration_demo/\"\n",
    "ASKENET_PATH = \"https://raw.githubusercontent.com/DARPA-ASKEM/Model-Representations/main/petrinet/examples/sir_typed.json\""
   ]
  },
  {
   "attachments": {},
   "cell_type": "markdown",
   "metadata": {},
   "source": [
    "## load_and_sample_petri_model"
   ]
  },
  {
   "cell_type": "code",
   "execution_count": 82,
   "metadata": {},
   "outputs": [],
   "source": [
    "num_samples = 3\n",
    "timepoints = [0.5, 1.0, 2.0, 3.0, 4.0]\n",
    "\n",
    "# Run sampling w/o an intervention\n",
    "samples = load_and_sample_petri_model(ASKENET_PATH, num_samples, timepoints=timepoints)\n",
    "\n",
    "# Save results\n",
    "samples.to_csv(os.path.join(DEMO_PATH, \"results_petri/sample_results.csv\"), index=False)"
   ]
  },
  {
   "cell_type": "code",
   "execution_count": 22,
   "metadata": {},
   "outputs": [
    {
     "data": {
      "text/plain": [
       "{'beta': tensor([0.0263, 0.0247, 0.0258]),\n",
       " 'gamma': tensor([0.1480, 0.1424, 0.1304]),\n",
       " 'Infected_sol': tensor([[  0.9410,   0.8854,   3.4494,  22.1137, 129.6330],\n",
       "         [  0.9428,   0.8889,   3.4701,  22.2437, 130.3026],\n",
       "         [  0.9490,   0.9006,   3.5332,  22.6397, 132.3341]]),\n",
       " 'Recovered_sol': tensor([[0.0718, 0.1393, 0.5872, 1.6634, 7.8549],\n",
       "         [0.0692, 0.1344, 0.5827, 1.6652, 7.8909],\n",
       "         [0.0635, 0.1238, 0.5754, 1.6774, 8.0069]]),\n",
       " 'Susceptible_sol': tensor([[999.9871, 999.9749, 996.9626, 977.2221, 863.5111],\n",
       "         [999.9881, 999.9772, 996.9469, 977.0920, 862.8077],\n",
       "         [999.9874, 999.9756, 996.8924, 976.6848, 860.6607]])}"
      ]
     },
     "execution_count": 22,
     "metadata": {},
     "output_type": "execute_result"
    }
   ],
   "source": [
    "from pyciemss.PetriNetODE.interfaces import load_petri_model, intervene\n",
    "from pyciemss.PetriNetODE.base import get_name\n",
    "raw_model = load_petri_model(ASKENET_PATH)\n",
    "initial_model = setup_petri_model(raw_model, start_time=-1e-10, start_state = {\n",
    "            get_name(v): v.data[\"initial_value\"] for v in raw_model.G.variables.values()\n",
    "        }\n",
    "    )\n",
    "intervened_model = intervene(initial_model, interventions)\n",
    "intervened_samples2 = sample(intervened_model, timepoints=timepoints, num_samples=num_samples)\n",
    "intervened_samples2"
   ]
  },
  {
   "cell_type": "code",
   "execution_count": 14,
   "metadata": {},
   "outputs": [],
   "source": [
    "# Run sampling w/o an intervention\n",
    "# intervention is an iterable (e.g. list) of tuples of the form (timepoint: float, parameter: str, value: float)\n",
    "interventions = [(1.1, \"beta\", 1.0), (2.1, \"gamma\", 0.1), (1.3, \"beta\", 2.0), (1.4, \"gamma\", 0.3)]\n",
    "\n",
    "intervened_samples = load_and_sample_petri_model(\n",
    "    ASKENET_PATH, num_samples, timepoints=timepoints, interventions=interventions\n",
    ")\n",
    "\n",
    "\n",
    "# Save results\n",
    "intervened_samples.to_csv(\n",
    "    os.path.join(DEMO_PATH, \"results_petri/sample_results_w_interventions.csv\"),\n",
    "    index=False,\n",
    ")"
   ]
  },
  {
   "cell_type": "code",
   "execution_count": 25,
   "metadata": {},
   "outputs": [
    {
     "data": {
      "text/plain": [
       "[1.0, 0.3, 0.4]"
      ]
     },
     "execution_count": 25,
     "metadata": {},
     "output_type": "execute_result"
    }
   ],
   "source": [
    "list(np.array([1,.3, .4]))"
   ]
  },
  {
   "cell_type": "code",
   "execution_count": 14,
   "metadata": {},
   "outputs": [],
   "source": [
    "# Run sampling w/o an intervention\n",
    "# intervention is an iterable (e.g. list) of tuples of the form (timepoint: float, parameter: str, value: float)\n",
    "interventions = [(1.1, \"beta\", 1.0), (2.1, \"gamma\", 0.1), (1.3, \"beta\", 2.0), (1.4, \"gamma\", 0.3)]\n",
    "\n",
    "intervened_samples = load_petri_model(\n",
    "    ASKENET_PATH\n",
    ")\n",
    "setup_petri_model(\n",
    "\n",
    "\n",
    "# Save results\n",
    "intervened_samples.to_csv(\n",
    "    os.path.join(DEMO_PATH, \"results_petri/sample_results_w_interventions.csv\"),\n",
    "    index=False,\n",
    ")"
   ]
  },
  {
   "cell_type": "code",
   "execution_count": 26,
   "metadata": {},
   "outputs": [
    {
     "data": {
      "text/plain": [
       "(array([0, 1, 2, 3, 4, 0, 1, 2, 3, 4, 0, 1, 2, 3, 4]),)"
      ]
     },
     "execution_count": 26,
     "metadata": {},
     "output_type": "execute_result"
    }
   ],
   "source": [
    "np.tile(np.array(range(num_timepoints)), num_samples),"
   ]
  },
  {
   "cell_type": "code",
   "execution_count": 27,
   "metadata": {},
   "outputs": [
    {
     "data": {
      "text/plain": [
       "(array([0, 0, 0, 0, 0, 1, 1, 1, 1, 1, 2, 2, 2, 2, 2]),)"
      ]
     },
     "execution_count": 27,
     "metadata": {},
     "output_type": "execute_result"
    }
   ],
   "source": [
    "np.repeat(np.array(range(num_samples)), num_timepoints),"
   ]
  },
  {
   "cell_type": "code",
   "execution_count": 45,
   "metadata": {},
   "outputs": [
    {
     "data": {
      "text/plain": [
       "array([[3, 3, 3],\n",
       "       [2, 2, 2],\n",
       "       [2, 2, 2]])"
      ]
     },
     "execution_count": 45,
     "metadata": {},
     "output_type": "execute_result"
    }
   ],
   "source": [
    "np.repeat(np.transpose(np.array([[3,2,2]])), 3, axis=1)"
   ]
  },
  {
   "cell_type": "code",
   "execution_count": 86,
   "metadata": {},
   "outputs": [
    {
     "data": {
      "text/plain": [
       "[(1.1, 'beta', 1.0),\n",
       " (1.3, 'beta', 2.0),\n",
       " (1.4, 'gamma', 0.3),\n",
       " (2.1, 'gamma', 0.1)]"
      ]
     },
     "execution_count": 86,
     "metadata": {},
     "output_type": "execute_result"
    }
   ],
   "source": [
    "sorted(interventions)"
   ]
  },
  {
   "cell_type": "code",
   "execution_count": 11,
   "metadata": {},
   "outputs": [
    {
     "data": {
      "text/plain": [
       "array([0.02441 , 0.02441 , 0.02441 , 0.02441 , 0.02441 , 0.026181,\n",
       "       0.026181, 0.026181, 0.026181, 0.026181, 0.028274, 0.028274,\n",
       "       0.028274, 0.028274, 0.028274])"
      ]
     },
     "execution_count": 11,
     "metadata": {},
     "output_type": "execute_result"
    }
   ],
   "source": [
    "import numpy as np\n",
    "v = [0.02441, 0.026181, 0.028274]\n",
    "num_timepoints=5\n",
    "np.repeat(v, num_timepoints)"
   ]
  },
  {
   "cell_type": "code",
   "execution_count": 47,
   "metadata": {},
   "outputs": [],
   "source": [
    "initial_values= {'beta': [0.2, 0.25, 0.15], 'gamma': [0.3, 0.25, 0.35]}"
   ]
  },
  {
   "cell_type": "code",
   "execution_count": 87,
   "metadata": {},
   "outputs": [
    {
     "data": {
      "text/plain": [
       "{'beta': [{'start': 0, 'end': 1.1, 'expected_value': [0.2, 0.25, 0.15]},\n",
       "  {'start': 1.1, 'end': 1.3, 'expected_value': [1.0, 1.0, 1.0]},\n",
       "  {'start': 1.3, 'end': inf, 'expected_value': [2.0, 2.0, 2.0]}],\n",
       " 'gamma': [{'start': 0, 'end': 1.4, 'expected_value': [0.3, 0.25, 0.35]},\n",
       "  {'start': 1.4, 'end': 2.1, 'expected_value': [0.3, 0.3, 0.3]},\n",
       "  {'start': 2.1, 'end': inf, 'expected_value': [0.1, 0.1, 0.1]}]}"
      ]
     },
     "execution_count": 87,
     "metadata": {},
     "output_type": "execute_result"
    }
   ],
   "source": [
    "def intervention_to_interval(interventions, initial_values):\n",
    "    param_dict = {param: [dict(start=0, end=np.inf, expected_value=initial_values[param])] for param in initial_values}\n",
    "    for i, (start, param, value) in enumerate(sorted(interventions)):\n",
    "        param_dict[param][-1]['end'] = start\n",
    "        param_dict[param].append( dict(start=start, end=np.inf, expected_value=[value]*len(initial_values[param])))\n",
    "    return {\n",
    "        k: sorted(v, key=lambda x: x['start'])\n",
    "        for k, v in param_dict.items()\n",
    "    }        \n",
    "param_dict = intervention_to_interval(interventions, initial_values)\n",
    "param_dict"
   ]
  },
  {
   "cell_type": "code",
   "execution_count": 81,
   "metadata": {},
   "outputs": [
    {
     "data": {
      "text/plain": [
       "([(1.1, 'beta', 1.0),\n",
       "  (2.1, 'gamma', 0.1),\n",
       "  (1.3, 'beta', 2.0),\n",
       "  (1.4, 'gamma', 0.3)],\n",
       " [2, 5, 12, 22, 25, 35],\n",
       " {'beta': [0.2, 0.25, 0.15], 'gamma': [0.3, 0.25, 0.35]})"
      ]
     },
     "execution_count": 81,
     "metadata": {},
     "output_type": "execute_result"
    }
   ],
   "source": [
    "interventions, timepoints, initial_values"
   ]
  },
  {
   "cell_type": "code",
   "execution_count": 73,
   "metadata": {},
   "outputs": [
    {
     "data": {
      "text/plain": [
       "{'beta': [{'start': 0, 'end': 1.1, 'expected_value': [0.2, 0.25, 0.15]},\n",
       "  {'start': 1.1, 'end': 1.3, 'expected_value': [1.0, 1.0, 1.0]},\n",
       "  {'start': 1.3, 'end': inf, 'expected_value': [2.0, 2.0, 2.0]}],\n",
       " 'gamma': [{'start': 0, 'end': 2.1, 'expected_value': [0.3, 0.25, 0.35]},\n",
       "  {'start': 1.4, 'end': inf, 'expected_value': [0.3, 0.3, 0.3]},\n",
       "  {'start': 2.1, 'end': 1.4, 'expected_value': [0.1, 0.1, 0.1]}]}"
      ]
     },
     "execution_count": 73,
     "metadata": {},
     "output_type": "execute_result"
    }
   ],
   "source": [
    "param_dict = intervention_to_interval(interventions, initial_values)\n",
    "param_dict"
   ]
  },
  {
   "cell_type": "code",
   "execution_count": null,
   "metadata": {},
   "outputs": [],
   "source": [
    "def get_intervened_parameter_values(interventions: dict, timepoints: Iterable[float], initial_values: dict) -> dict:\n",
    "    \"\"\"Generate a len(timepoints)*len(samples) array of parameter values for each parameter in interventions.\n",
    "\n",
    "    :param interventions: dict of interventions keyed by parameter name with values (start, value)\n",
    "    :param timepoints: iterable of timepoints\n",
    "    :param initial_values: dict of initial values keyed by parameter name with the unintervened parameter value\n",
    "    \"\"\"\n",
    "    param_dict = intervention_to_interval(interventions, initial_values)\n",
    "    result = {}\n",
    "    for param, intervals in param_dict.items():\n",
    "        result[param] = []\n",
    "        for interval in intervals:\n",
    "            for i, sample in enumerate(interval['expected_value']):\n",
    "                result[param].extend([sample] * sum((interval['start'] <= t < interval['end'] for t in timepoints)))\n",
    "    return result\n",
    "\n",
    "d = get_intervened_parameter_values(interventions, timepoints, initial_values)\n",
    "d"
   ]
  },
  {
   "cell_type": "code",
   "execution_count": null,
   "metadata": {},
   "outputs": [],
   "source": [
    "def test_intervention_values(expected_param_values: dict, actual_param_values: dict, idx2timepoint):\n",
    "    \"\"\"Check that time-dependent parameter values are set correctly.\"\"\"\n",
    "    for param, expected_intervention_assignments in expected_param_values.items():\n",
    "        for d in expected_intervention_assignments:\n",
    "            for actual_timepoint, actual_value in actual_param_values[param]:\n",
    "                if d['start'] < actual_timepoint and d['end'] > actual_timepoint:\n",
    "                    assert d['expected_value'] == actual_value"
   ]
  },
  {
   "cell_type": "markdown",
   "metadata": {},
   "source": [
    "Given a set of values at particular intervals,  a set of initial samples and a set of timepoints, generate a list of timepoints where the parameter has the same value at each timepoint in the interval.\n"
   ]
  },
  {
   "cell_type": "code",
   "execution_count": 67,
   "metadata": {},
   "outputs": [
    {
     "name": "stdout",
     "output_type": "stream",
     "text": [
      "[(2, 'a'), (5, 'a'), (12, 'b'), (22, 'c'), (25, 'c'), (35, None)]\n"
     ]
    }
   ],
   "source": [
    "import bisect\n",
    "\n",
    "# initial samples in the form of (start_time, end_time, parameter_value)\n",
    "samples = [(0, 10, 'a'), (10, 20, 'b'), (20, 30, 'c')]\n",
    "\n",
    "# timepoints\n",
    "timepoints = [2, 5, 12, 22, 25, 35]\n",
    "\n",
    "# transform samples into intervals and parameter values\n",
    "intervals = [(start, end) for start, end, _ in samples]\n",
    "values = [val for _, _, val in samples]\n",
    "\n",
    "# generate list of parameter values at each timepoint\n",
    "result = []\n",
    "for t in timepoints:\n",
    "    i = bisect.bisect(intervals, (t,)) - 1\n",
    "    if 0 <= i < len(intervals) and intervals[i][0] <= t < intervals[i][1]:\n",
    "        result.append((t, values[i]))\n",
    "    else:\n",
    "        result.append((t, None))\n",
    "\n",
    "print(result)\n"
   ]
  },
  {
   "cell_type": "code",
   "execution_count": 68,
   "metadata": {},
   "outputs": [
    {
     "name": "stdout",
     "output_type": "stream",
     "text": [
      "[(2, 'a'), (5, 'a'), (12, 'c'), (22, 'e'), (25, 'e'), (35, None), (2, 'b'), (5, 'b'), (12, 'd'), (22, 'f'), (25, 'f'), (35, None)]\n"
     ]
    }
   ],
   "source": [
    "import bisect\n",
    "\n",
    "# initial samples in the form of (start_time, end_time, [parameter_values])\n",
    "samples = [(0, 10, ['a', 'b']), (10, 20, ['c', 'd']), (20, 30, ['e', 'f'])]\n",
    "\n",
    "# timepoints\n",
    "timepoints = [2, 5, 12, 22, 25, 35]\n",
    "\n",
    "# transform samples into intervals and parameter values\n",
    "intervals = [(start, end) for start, end, _ in samples]\n",
    "values_sets = [values for _, _, values in samples]\n",
    "\n",
    "# generate list of parameter values at each timepoint\n",
    "result = []\n",
    "for values in zip(*values_sets):\n",
    "    for t in timepoints:\n",
    "        i = bisect.bisect(intervals, (t,)) - 1\n",
    "        if 0 <= i < len(intervals) and intervals[i][0] <= t < intervals[i][1]:\n",
    "            result.append((t, values[i]))\n",
    "        else:\n",
    "            result.append((t, None))\n",
    "\n",
    "print(result)\n"
   ]
  },
  {
   "cell_type": "code",
   "execution_count": 88,
   "metadata": {},
   "outputs": [],
   "source": [
    "import bisect\n",
    "\n",
    "def assign_parameters_to_timepoints(interventions: dict, timepoints: Iterable[float], initial_values: dict) -> list:\n",
    "    # transform samples into intervals and parameter values\n",
    "    param_interval_dict = intervention_to_interval(interventions, initial_values)\n",
    "    result = {}\n",
    "    for param, interval_dict in param_interval_dict.items():\n",
    "        intervals = [(d['start'], d['end']) for d in interval_dict]\n",
    "        values_sets = [d['expected_value'] for  d in interval_dict]\n",
    "\n",
    "        # generate list of parameter values at each timepoint\n",
    "        result[param] = []\n",
    "        for values in zip(*values_sets):\n",
    "            for t in timepoints:\n",
    "                i = bisect.bisect(intervals, (t,)) - 1\n",
    "                if 0 <= i < len(intervals) and intervals[i][0] <= t < intervals[i][1]:\n",
    "                    result[param].append((t, values[i]))\n",
    "                else:\n",
    "                    result[param].append((t, None))\n",
    "    return result"
   ]
  },
  {
   "cell_type": "code",
   "execution_count": 89,
   "metadata": {},
   "outputs": [
    {
     "data": {
      "text/plain": [
       "([(1.1, 'beta', 1.0),\n",
       "  (2.1, 'gamma', 0.1),\n",
       "  (1.3, 'beta', 2.0),\n",
       "  (1.4, 'gamma', 0.3)],\n",
       " [0.5, 1.0, 2.0, 3.0, 4.0],\n",
       " {'beta': [0.2, 0.25, 0.15], 'gamma': [0.3, 0.25, 0.35]})"
      ]
     },
     "execution_count": 89,
     "metadata": {},
     "output_type": "execute_result"
    }
   ],
   "source": [
    "interventions, timepoints, initial_values"
   ]
  },
  {
   "cell_type": "code",
   "execution_count": 90,
   "metadata": {},
   "outputs": [
    {
     "data": {
      "text/plain": [
       "{'beta': [(0.5, 0.2),\n",
       "  (1.0, 0.2),\n",
       "  (2.0, 2.0),\n",
       "  (3.0, 2.0),\n",
       "  (4.0, 2.0),\n",
       "  (0.5, 0.25),\n",
       "  (1.0, 0.25),\n",
       "  (2.0, 2.0),\n",
       "  (3.0, 2.0),\n",
       "  (4.0, 2.0),\n",
       "  (0.5, 0.15),\n",
       "  (1.0, 0.15),\n",
       "  (2.0, 2.0),\n",
       "  (3.0, 2.0),\n",
       "  (4.0, 2.0)],\n",
       " 'gamma': [(0.5, 0.3),\n",
       "  (1.0, 0.3),\n",
       "  (2.0, 0.3),\n",
       "  (3.0, 0.1),\n",
       "  (4.0, 0.1),\n",
       "  (0.5, 0.25),\n",
       "  (1.0, 0.25),\n",
       "  (2.0, 0.3),\n",
       "  (3.0, 0.1),\n",
       "  (4.0, 0.1),\n",
       "  (0.5, 0.35),\n",
       "  (1.0, 0.35),\n",
       "  (2.0, 0.3),\n",
       "  (3.0, 0.1),\n",
       "  (4.0, 0.1)]}"
      ]
     },
     "execution_count": 90,
     "metadata": {},
     "output_type": "execute_result"
    }
   ],
   "source": [
    "assign_parameters_to_timepoints(interventions, timepoints, initial_values)"
   ]
  },
  {
   "attachments": {},
   "cell_type": "markdown",
   "metadata": {},
   "source": [
    "## load_and_calibrate_and_sample_petri_model"
   ]
  },
  {
   "cell_type": "code",
   "execution_count": 7,
   "metadata": {},
   "outputs": [
    {
     "name": "stdout",
     "output_type": "stream",
     "text": [
      "iteration 0: loss = 37.94811773300171\n",
      "iteration 25: loss = 34.9170196056366\n",
      "iteration 50: loss = 32.69080424308777\n",
      "iteration 75: loss = 32.41730046272278\n",
      "iteration 100: loss = 32.44331431388855\n",
      "iteration 125: loss = 32.692076683044434\n",
      "iteration 150: loss = 32.61838483810425\n",
      "iteration 175: loss = 32.56607246398926\n",
      "iteration 200: loss = 33.014737367630005\n",
      "iteration 225: loss = 32.58268332481384\n",
      "iteration 250: loss = 32.89216685295105\n",
      "iteration 275: loss = 31.961626768112183\n",
      "iteration 300: loss = 32.6565682888031\n"
     ]
    }
   ],
   "source": [
    "data_path = os.path.join(DEMO_PATH, \"data.csv\")\n",
    "num_samples = 100\n",
    "timepoints = [0.0, 1.0, 2.0, 3.0, 4.0]\n",
    "\n",
    "# Run the calibration and sampling\n",
    "calibrated_samples = load_and_calibrate_and_sample_petri_model(\n",
    "    ASKENET_PATH,\n",
    "    data_path,\n",
    "    num_samples,\n",
    "    timepoints=timepoints,\n",
    "    verbose=True,\n",
    ")\n",
    "\n",
    "# Save results\n",
    "calibrated_samples.to_csv(\n",
    "    os.path.join(DEMO_PATH, \"results_petri/calibrated_sample_results.csv\"), index=False\n",
    ")"
   ]
  },
  {
   "cell_type": "code",
   "execution_count": null,
   "metadata": {},
   "outputs": [],
   "source": []
  }
 ],
 "metadata": {
  "kernelspec": {
   "display_name": "pyciemss-main",
   "language": "python",
   "name": "pyciemss-main"
  },
  "language_info": {
   "codemirror_mode": {
    "name": "ipython",
    "version": 3
   },
   "file_extension": ".py",
   "mimetype": "text/x-python",
   "name": "python",
   "nbconvert_exporter": "python",
   "pygments_lexer": "ipython3",
   "version": "3.10.9"
  }
 },
 "nbformat": 4,
 "nbformat_minor": 4
}
