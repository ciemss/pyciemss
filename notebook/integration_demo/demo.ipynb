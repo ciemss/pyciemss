{
 "cells": [
  {
   "cell_type": "code",
   "execution_count": 1,
   "metadata": {},
   "outputs": [],
   "source": [
    "import os\n",
    "from pyciemss.PetriNetODE.interfaces import (\n",
    "    load_and_sample_petri_model,\n",
    "    load_and_calibrate_and_sample_petri_model,\n",
    "    load_and_optimize_and_sample_petri_model,\n",
    "    load_and_calibrate_and_optimize_and_sample_petri_model\n",
    ")\n",
    "import numpy as np\n",
    "from pyciemss.visuals import plots"
   ]
  },
  {
   "cell_type": "code",
   "execution_count": 2,
   "metadata": {},
   "outputs": [],
   "source": [
    "DEMO_PATH = \"../../notebook/integration_demo/\"\n",
    "ASKENET_PATH = \"https://raw.githubusercontent.com/DARPA-ASKEM/Model-Representations/main/petrinet/examples/sir_typed.json\""
   ]
  },
  {
   "attachments": {},
   "cell_type": "markdown",
   "metadata": {},
   "source": [
    "## load_and_sample_petri_model"
   ]
  },
  {
   "cell_type": "code",
   "execution_count": 3,
   "metadata": {},
   "outputs": [],
   "source": [
    "num_samples = 3\n",
    "timepoints = [0.5, 1.0, 2.0, 3.0, 4.0]\n",
    "\n",
    "# Run sampling w/o an intervention\n",
    "result = load_and_sample_petri_model(ASKENET_PATH, num_samples, timepoints=timepoints, time_unit=\"days\")\n",
    "\n",
    "# Save results\n",
    "result[\"data\"].to_csv(os.path.join(DEMO_PATH, \"results_petri/sample_results.csv\"), index=False)"
   ]
  },
  {
   "cell_type": "code",
   "execution_count": 4,
   "metadata": {},
   "outputs": [
    {
     "data": {
      "text/html": [
       "<div>\n",
       "<style scoped>\n",
       "    .dataframe tbody tr th:only-of-type {\n",
       "        vertical-align: middle;\n",
       "    }\n",
       "\n",
       "    .dataframe tbody tr th {\n",
       "        vertical-align: top;\n",
       "    }\n",
       "\n",
       "    .dataframe thead th {\n",
       "        text-align: right;\n",
       "    }\n",
       "</style>\n",
       "<table border=\"1\" class=\"dataframe\">\n",
       "  <thead>\n",
       "    <tr style=\"text-align: right;\">\n",
       "      <th></th>\n",
       "      <th>timepoint_id</th>\n",
       "      <th>number_days</th>\n",
       "      <th>inc_cum</th>\n",
       "      <th>output</th>\n",
       "      <th>type</th>\n",
       "      <th>quantile</th>\n",
       "      <th>value</th>\n",
       "      <th>Forecast_Backcast</th>\n",
       "    </tr>\n",
       "  </thead>\n",
       "  <tbody>\n",
       "    <tr>\n",
       "      <th>0</th>\n",
       "      <td>0</td>\n",
       "      <td>0.5</td>\n",
       "      <td>inc</td>\n",
       "      <td>I</td>\n",
       "      <td>quantile</td>\n",
       "      <td>0.010</td>\n",
       "      <td>9.605646e+02</td>\n",
       "      <td>Forecast</td>\n",
       "    </tr>\n",
       "    <tr>\n",
       "      <th>1</th>\n",
       "      <td>0</td>\n",
       "      <td>0.5</td>\n",
       "      <td>inc</td>\n",
       "      <td>I</td>\n",
       "      <td>quantile</td>\n",
       "      <td>0.025</td>\n",
       "      <td>9.606083e+02</td>\n",
       "      <td>Forecast</td>\n",
       "    </tr>\n",
       "    <tr>\n",
       "      <th>2</th>\n",
       "      <td>0</td>\n",
       "      <td>0.5</td>\n",
       "      <td>inc</td>\n",
       "      <td>I</td>\n",
       "      <td>quantile</td>\n",
       "      <td>0.050</td>\n",
       "      <td>9.606811e+02</td>\n",
       "      <td>Forecast</td>\n",
       "    </tr>\n",
       "    <tr>\n",
       "      <th>3</th>\n",
       "      <td>0</td>\n",
       "      <td>0.5</td>\n",
       "      <td>inc</td>\n",
       "      <td>I</td>\n",
       "      <td>quantile</td>\n",
       "      <td>0.100</td>\n",
       "      <td>9.608268e+02</td>\n",
       "      <td>Forecast</td>\n",
       "    </tr>\n",
       "    <tr>\n",
       "      <th>4</th>\n",
       "      <td>0</td>\n",
       "      <td>0.5</td>\n",
       "      <td>inc</td>\n",
       "      <td>I</td>\n",
       "      <td>quantile</td>\n",
       "      <td>0.150</td>\n",
       "      <td>9.609724e+02</td>\n",
       "      <td>Forecast</td>\n",
       "    </tr>\n",
       "    <tr>\n",
       "      <th>...</th>\n",
       "      <td>...</td>\n",
       "      <td>...</td>\n",
       "      <td>...</td>\n",
       "      <td>...</td>\n",
       "      <td>...</td>\n",
       "      <td>...</td>\n",
       "      <td>...</td>\n",
       "      <td>...</td>\n",
       "    </tr>\n",
       "    <tr>\n",
       "      <th>340</th>\n",
       "      <td>4</td>\n",
       "      <td>4.0</td>\n",
       "      <td>inc</td>\n",
       "      <td>S</td>\n",
       "      <td>quantile</td>\n",
       "      <td>0.850</td>\n",
       "      <td>3.447012e-10</td>\n",
       "      <td>Forecast</td>\n",
       "    </tr>\n",
       "    <tr>\n",
       "      <th>341</th>\n",
       "      <td>4</td>\n",
       "      <td>4.0</td>\n",
       "      <td>inc</td>\n",
       "      <td>S</td>\n",
       "      <td>quantile</td>\n",
       "      <td>0.900</td>\n",
       "      <td>3.801244e-10</td>\n",
       "      <td>Forecast</td>\n",
       "    </tr>\n",
       "    <tr>\n",
       "      <th>342</th>\n",
       "      <td>4</td>\n",
       "      <td>4.0</td>\n",
       "      <td>inc</td>\n",
       "      <td>S</td>\n",
       "      <td>quantile</td>\n",
       "      <td>0.950</td>\n",
       "      <td>4.155476e-10</td>\n",
       "      <td>Forecast</td>\n",
       "    </tr>\n",
       "    <tr>\n",
       "      <th>343</th>\n",
       "      <td>4</td>\n",
       "      <td>4.0</td>\n",
       "      <td>inc</td>\n",
       "      <td>S</td>\n",
       "      <td>quantile</td>\n",
       "      <td>0.975</td>\n",
       "      <td>4.332592e-10</td>\n",
       "      <td>Forecast</td>\n",
       "    </tr>\n",
       "    <tr>\n",
       "      <th>344</th>\n",
       "      <td>4</td>\n",
       "      <td>4.0</td>\n",
       "      <td>inc</td>\n",
       "      <td>S</td>\n",
       "      <td>quantile</td>\n",
       "      <td>0.990</td>\n",
       "      <td>4.438861e-10</td>\n",
       "      <td>Forecast</td>\n",
       "    </tr>\n",
       "  </tbody>\n",
       "</table>\n",
       "<p>345 rows × 8 columns</p>\n",
       "</div>"
      ],
      "text/plain": [
       "     timepoint_id  number_days inc_cum output      type  quantile  \\\n",
       "0               0          0.5     inc      I  quantile     0.010   \n",
       "1               0          0.5     inc      I  quantile     0.025   \n",
       "2               0          0.5     inc      I  quantile     0.050   \n",
       "3               0          0.5     inc      I  quantile     0.100   \n",
       "4               0          0.5     inc      I  quantile     0.150   \n",
       "..            ...          ...     ...    ...       ...       ...   \n",
       "340             4          4.0     inc      S  quantile     0.850   \n",
       "341             4          4.0     inc      S  quantile     0.900   \n",
       "342             4          4.0     inc      S  quantile     0.950   \n",
       "343             4          4.0     inc      S  quantile     0.975   \n",
       "344             4          4.0     inc      S  quantile     0.990   \n",
       "\n",
       "            value Forecast_Backcast  \n",
       "0    9.605646e+02          Forecast  \n",
       "1    9.606083e+02          Forecast  \n",
       "2    9.606811e+02          Forecast  \n",
       "3    9.608268e+02          Forecast  \n",
       "4    9.609724e+02          Forecast  \n",
       "..            ...               ...  \n",
       "340  3.447012e-10          Forecast  \n",
       "341  3.801244e-10          Forecast  \n",
       "342  4.155476e-10          Forecast  \n",
       "343  4.332592e-10          Forecast  \n",
       "344  4.438861e-10          Forecast  \n",
       "\n",
       "[345 rows x 8 columns]"
      ]
     },
     "execution_count": 4,
     "metadata": {},
     "output_type": "execute_result"
    }
   ],
   "source": [
    "result[\"quantiles\"]"
   ]
  },
  {
   "cell_type": "code",
   "execution_count": 5,
   "metadata": {},
   "outputs": [
    {
     "data": {
      "text/plain": [
       "{'I_sol': {'risk': [648.657958984375],\n",
       "  'qoi': array([648.65796, 604.08514, 596.2056 ], dtype=float32)},\n",
       " 'R_sol': {'risk': [404.7943420410156],\n",
       "  'qoi': array([352.34213, 396.91492, 404.79434], dtype=float32)},\n",
       " 'S_sol': {'risk': [3.657689429115152e-10],\n",
       "  'qoi': array([ 3.6576894e-10,  2.5618743e-13, -4.2866108e-10], dtype=float32)}}"
      ]
     },
     "execution_count": 5,
     "metadata": {},
     "output_type": "execute_result"
    }
   ],
   "source": [
    "result[\"risk\"]"
   ]
  },
  {
   "cell_type": "code",
   "execution_count": 6,
   "metadata": {
    "scrolled": true
   },
   "outputs": [],
   "source": [
    "interventions = [(1.1, \"beta\", 1.0), (2.1, \"gamma\", 0.1), (1.3, \"beta\", 2.0), (1.4, \"gamma\", 0.3)]\n",
    "\n",
    "result = load_and_sample_petri_model(\n",
    "    ASKENET_PATH, num_samples, timepoints=timepoints, interventions=interventions,\n",
    "    time_unit=\"days\",\n",
    "    visual_options={\"title\": \"SIR Model\", \"subset\": \".*_sol\"}\n",
    ")\n",
    "\n",
    "# Save results\n",
    "result[\"data\"].to_csv(\n",
    "    os.path.join(DEMO_PATH, \"results_petri/sample_results_w_interventions.csv\"),\n",
    "    index=False,\n",
    ")"
   ]
  },
  {
   "cell_type": "code",
   "execution_count": 7,
   "metadata": {},
   "outputs": [
    {
     "name": "stdout",
     "output_type": "stream",
     "text": [
      "\n"
     ]
    },
    {
     "data": {
      "application/vnd.vega.v5+json": {
       "$schema": "https://vega.github.io/schema/vega/v5.json",
       "axes": [
        {
         "name": "x_axis",
         "orient": "bottom",
         "scale": "xscale",
         "zindex": 100
        },
        {
         "name": "y_axis",
         "orient": "left",
         "scale": "yscale",
         "zindex": 100
        }
       ],
       "data": [
        {
         "name": "distributions",
         "values": [
          {
           "lower": 960.3884033203125,
           "timepoint": 0.5,
           "trajectory": "I_sol",
           "upper": 974.7620361328125
          },
          {
           "lower": 887.1106079101562,
           "timepoint": 1,
           "trajectory": "I_sol",
           "upper": 927.5107971191406
          },
          {
           "lower": 694.6914306640625,
           "timepoint": 2,
           "trajectory": "I_sol",
           "upper": 743.4496337890625
          },
          {
           "lower": 616.1358764648437,
           "timepoint": 3,
           "trajectory": "I_sol",
           "upper": 659.3791625976562
          },
          {
           "lower": 557.503857421875,
           "timepoint": 4,
           "trajectory": "I_sol",
           "upper": 596.631005859375
          },
          {
           "lower": 24.455150413513184,
           "timepoint": 0.5,
           "trajectory": "R_sol",
           "upper": 39.385264778137206
          },
          {
           "lower": 73.48906860351562,
           "timepoint": 1,
           "trajectory": "R_sol",
           "upper": 113.8894432067871
          },
          {
           "lower": 257.5495971679687,
           "timepoint": 2,
           "trajectory": "R_sol",
           "upper": 306.30823974609376
          },
          {
           "lower": 341.61939697265626,
           "timepoint": 3,
           "trajectory": "R_sol",
           "upper": 384.8643859863281
          },
          {
           "lower": 404.3676239013672,
           "timepoint": 4,
           "trajectory": "R_sol",
           "upper": 443.4976287841797
          },
          {
           "lower": 1.1486636519432067,
           "timepoint": 0.5,
           "trajectory": "S_sol",
           "upper": 2.402824676036835
          },
          {
           "lower": 0.0000031277502330340212,
           "timepoint": 1,
           "trajectory": "S_sol",
           "upper": 0.00001126249121625733
          },
          {
           "lower": -4.0073508678073465e-10,
           "timepoint": 2,
           "trajectory": "S_sol",
           "upper": 4.526784280756146e-10
          },
          {
           "lower": -8.407992024839217e-10,
           "timepoint": 3,
           "trajectory": "S_sol",
           "upper": -4.611453441327741e-11
          },
          {
           "lower": -5.935986729932452e-10,
           "timepoint": 4,
           "trajectory": "S_sol",
           "upper": 7.362602000293705e-10
          }
         ]
        },
        {
         "name": "traces",
         "transform": [
          {
           "expr": "isValid(datum.value)",
           "type": "filter"
          }
         ],
         "values": []
        },
        {
         "name": "points",
         "values": []
        },
        {
         "name": "markers",
         "values": []
        },
        {
         "name": "selected",
         "on": [
          {
           "remove": true,
           "trigger": "clear"
          },
          {
           "remove": true,
           "trigger": "!shift"
          },
          {
           "insert": "clicked",
           "trigger": "!shift && clicked"
          },
          {
           "toggle": "clicked",
           "trigger": "shift && clicked"
          }
         ]
        }
       ],
       "height": 300,
       "legends": [
        {
         "encode": {
          "labels": {
           "interactive": true,
           "name": "legendLabel",
           "update": {
            "opacity": [
             {
              "test": "!length(data('selected')) || indata('selected', 'value', datum.value)",
              "value": 1
             },
             {
              "value": 0.25
             }
            ]
           }
          },
          "symbols": {
           "interactive": true,
           "name": "legendSymbol",
           "update": {
            "fill": {
             "value": "transparent"
            },
            "opacity": [
             {
              "test": "!length(data('selected')) || indata('selected', 'value', datum.value)",
              "value": 0.7
             },
             {
              "value": 0.15
             }
            ],
            "size": {
             "value": 64
            },
            "strokeWidth": {
             "value": 2
            }
           }
          }
         },
         "name": "color_legend",
         "stroke": "color"
        }
       ],
       "marks": [
        {
         "from": {
          "facet": {
           "data": "points",
           "groupby": "trajectory",
           "name": "points_split"
          }
         },
         "marks": [
          {
           "encode": {
            "hover": {
             "fillOpacity": {
              "value": 0.9
             }
            },
            "update": {
             "fill": {
              "field": "trajectory",
              "scale": "color"
             },
             "fillOpacity": [
              {
               "test": "!length(data('selected')) || indata('selected', 'value', datum.trajectory)",
               "value": 0.5
              },
              {
               "value": 0.15
              }
             ],
             "size": {
              "value": 10
             },
             "stroke": {
              "field": "trajectory",
              "scale": "color"
             },
             "strokeOpacity": [
              {
               "test": "!length(data('selected')) || indata('selected', 'value', datum.trajectory)",
               "value": 0.75
              },
              {
               "value": 0.15
              }
             ],
             "strokeWidth": {
              "value": 2
             },
             "tooltip": {
              "field": "value"
             },
             "x": {
              "field": "timepoint",
              "scale": "xscale"
             },
             "y": {
              "field": "value",
              "scale": "yscale"
             }
            }
           },
           "from": {
            "data": "points"
           },
           "name": "_points_symbol",
           "type": "symbol",
           "zindex": 3
          },
          {
           "encode": {
            "hover": {
             "fillOpacity": {
              "value": 0.9
             }
            },
            "update": {
             "interpolate": {
              "value": "linear"
             },
             "stroke": {
              "field": "trajectory",
              "scale": "color"
             },
             "strokeOpacity": [
              {
               "test": "!length(data('selected')) || indata('selected', 'value', datum.trajectory)",
               "value": 0.3
              },
              {
               "value": 0.1
              }
             ],
             "strokeWidth": {
              "value": 2
             },
             "x": {
              "field": "timepoint",
              "scale": "xscale"
             },
             "y": {
              "field": "value",
              "scale": "yscale"
             }
            }
           },
           "from": {
            "data": "points"
           },
           "name": "_points_line",
           "type": "line",
           "zindex": 3
          }
         ],
         "name": "_points",
         "type": "group",
         "zindex": 3
        },
        {
         "from": {
          "facet": {
           "data": "traces",
           "groupby": "trajectory",
           "name": "traces_split"
          }
         },
         "marks": [
          {
           "encode": {
            "hover": {
             "fillOpacity": {
              "value": 0.9
             }
            },
            "update": {
             "interpolate": {
              "value": "linear"
             },
             "stroke": {
              "field": "trajectory",
              "scale": "color"
             },
             "strokeOpacity": [
              {
               "test": "!length(data('selected')) || indata('selected', 'value', datum.trajectory)",
               "value": 0.75
              },
              {
               "value": 0.15
              }
             ],
             "strokeWidth": {
              "value": 2
             },
             "x": {
              "field": "timepoint",
              "scale": "xscale"
             },
             "y": {
              "field": "value",
              "scale": "yscale"
             }
            }
           },
           "from": {
            "data": "traces_split"
           },
           "name": "_traces_lines",
           "type": "line"
          }
         ],
         "name": "_traces",
         "type": "group",
         "zindex": 2
        },
        {
         "from": {
          "facet": {
           "data": "distributions",
           "groupby": "trajectory",
           "name": "trajectory_split"
          }
         },
         "marks": [
          {
           "encode": {
            "hover": {
             "fillOpacity": {
              "value": 0.9
             }
            },
            "update": {
             "fill": {
              "field": "trajectory",
              "scale": "color"
             },
             "fillOpacity": [
              {
               "test": "!length(data('selected')) || indata('selected', 'value', datum.trajectory)",
               "value": 0.5
              },
              {
               "value": 0.15
              }
             ],
             "interpolate": {
              "value": "linear"
             },
             "stroke": {
              "field": "trajectory",
              "scale": "color"
             },
             "strokeOpacity": [
              {
               "test": "!length(data('selected')) || indata('selected', 'value', datum.trajectory)",
               "value": 0.75
              },
              {
               "value": 0.15
              }
             ],
             "strokeWidth": {
              "value": 2
             },
             "x": {
              "field": "timepoint",
              "scale": "xscale"
             },
             "y": {
              "field": "upper",
              "scale": "yscale"
             },
             "y2": {
              "field": "lower",
              "scale": "yscale"
             }
            }
           },
           "from": {
            "data": "trajectory_split"
           },
           "type": "area"
          }
         ],
         "name": "_distributions",
         "type": "group",
         "zindex": 1
        },
        {
         "marks": [
          {
           "encode": {
            "enter": {
             "stroke": {
              "value": "lightgray"
             }
            },
            "update": {
             "opacity": {
              "value": 1
             },
             "x": {
              "field": "timepoint",
              "scale": "xscale"
             },
             "y": {
              "signal": "height"
             },
             "y2": {
              "value": 0
             }
            }
           },
           "from": {
            "data": "markers"
           },
           "name": "_marker text",
           "type": "rule"
          },
          {
           "encode": {
            "enter": {
             "fontSize": {
              "value": 8
             },
             "text": {
              "field": "datum.label"
             },
             "y": {
              "value": 0
             }
            }
           },
           "from": {
            "data": "_marker text"
           },
           "name": "_marker flags",
           "transform": [
            {
             "as": [
              "x",
              "_y",
              "opacity",
              "align",
              "baseline"
             ],
             "lineAnchor": "start",
             "offset": [
              1
             ],
             "size": {
              "signal": "[width, height]"
             },
             "type": "label"
            }
           ],
           "type": "text"
          }
         ],
         "name": "_markers",
         "type": "group"
        }
       ],
       "scales": [
        {
         "domain": {
          "fields": [
           {
            "data": "distributions",
            "field": "timepoint"
           },
           {
            "data": "traces",
            "field": "timepoint"
           },
           {
            "data": "points",
            "field": "timepoint"
           },
           {
            "data": "markers",
            "field": "timepoint"
           }
          ]
         },
         "name": "xscale",
         "range": "width",
         "type": "linear",
         "zero": false
        },
        {
         "domain": {
          "fields": [
           {
            "data": "distributions",
            "field": "lower"
           },
           {
            "data": "distributions",
            "field": "upper"
           },
           {
            "data": "traces",
            "field": "value"
           },
           {
            "data": "points",
            "field": "value"
           }
          ]
         },
         "name": "yscale",
         "nice": true,
         "range": "height",
         "type": "linear",
         "zero": true
        },
        {
         "domain": {
          "fields": [
           {
            "data": "distributions",
            "field": "trajectory"
           },
           {
            "data": "traces",
            "field": "trajectory"
           },
           {
            "data": "points",
            "field": "trajectory"
           }
          ]
         },
         "name": "color",
         "range": "category",
         "type": "ordinal"
        }
       ],
       "signals": [
        {
         "name": "clear",
         "on": [
          {
           "events": "mouseup[!event.item]",
           "force": true,
           "update": "true"
          }
         ],
         "value": true
        },
        {
         "name": "shift",
         "on": [
          {
           "events": "@legendSymbol:click, @legendLabel:click",
           "force": true,
           "update": "event.shiftKey"
          }
         ],
         "value": false
        },
        {
         "name": "clicked",
         "on": [
          {
           "events": "@legendSymbol:click, @legendLabel:click",
           "force": true,
           "update": "{value: datum.value}"
          }
         ],
         "value": null
        }
       ],
       "title": "SIR Model",
       "width": 500
      }
     },
     "metadata": {},
     "output_type": "display_data"
    }
   ],
   "source": [
    "plots.ipy_display(result[\"visual\"])"
   ]
  },
  {
   "attachments": {},
   "cell_type": "markdown",
   "metadata": {},
   "source": [
    "## load_and_calibrate_and_sample_petri_model"
   ]
  },
  {
   "cell_type": "code",
   "execution_count": 8,
   "metadata": {},
   "outputs": [],
   "source": [
    "from pyciemss.utils.interface_utils import csv_to_list\n",
    "data_path = os.path.join(DEMO_PATH, \"data.csv\")\n",
    "data = csv_to_list(data_path)"
   ]
  },
  {
   "cell_type": "code",
   "execution_count": 9,
   "metadata": {},
   "outputs": [
    {
     "data": {
      "text/plain": [
       "[(1.1, {'S': 0.9, 'I': 0.1}), (2.2, {'S': 0.8})]"
      ]
     },
     "execution_count": 9,
     "metadata": {},
     "output_type": "execute_result"
    }
   ],
   "source": [
    "data"
   ]
  },
  {
   "cell_type": "code",
   "execution_count": 10,
   "metadata": {},
   "outputs": [],
   "source": [
    "train_end_point = max([d[0] for d in data])"
   ]
  },
  {
   "cell_type": "code",
   "execution_count": null,
   "metadata": {},
   "outputs": [],
   "source": []
  },
  {
   "cell_type": "code",
   "execution_count": 13,
   "metadata": {},
   "outputs": [
    {
     "name": "stdout",
     "output_type": "stream",
     "text": [
      "iteration 0: loss = 63.845956802368164\n"
     ]
    }
   ],
   "source": [
    "data_path = os.path.join(DEMO_PATH, \"data.csv\")\n",
    "num_samples = 10\n",
    "timepoints = [0.0, 1.0, 2.0, 3.0, 4.0]\n",
    "\n",
    "# Run the calibration and sampling\n",
    "result_cal = load_and_calibrate_and_sample_petri_model(\n",
    "    ASKENET_PATH,\n",
    "    data_path,\n",
    "    num_samples,\n",
    "    timepoints=timepoints,\n",
    "    verbose=True,\n",
    "    visual_options={\"title\": \"Intervened SIR Model\", \"subset\":\".*_sol\"},\n",
    "    num_iterations=3,\n",
    "    time_unit = \"days\"\n",
    ")\n",
    "\n",
    "# Save results\n",
    "result_cal['data'].to_csv(\n",
    "    os.path.join(DEMO_PATH, \"results_petri/calibrated_sample_results.csv\"), index=False\n",
    ")"
   ]
  },
  {
   "cell_type": "code",
   "execution_count": 14,
   "metadata": {},
   "outputs": [
    {
     "data": {
      "text/html": [
       "<div>\n",
       "<style scoped>\n",
       "    .dataframe tbody tr th:only-of-type {\n",
       "        vertical-align: middle;\n",
       "    }\n",
       "\n",
       "    .dataframe tbody tr th {\n",
       "        vertical-align: top;\n",
       "    }\n",
       "\n",
       "    .dataframe thead th {\n",
       "        text-align: right;\n",
       "    }\n",
       "</style>\n",
       "<table border=\"1\" class=\"dataframe\">\n",
       "  <thead>\n",
       "    <tr style=\"text-align: right;\">\n",
       "      <th></th>\n",
       "      <th>timepoint_id</th>\n",
       "      <th>number_days</th>\n",
       "      <th>inc_cum</th>\n",
       "      <th>output</th>\n",
       "      <th>type</th>\n",
       "      <th>quantile</th>\n",
       "      <th>value</th>\n",
       "      <th>Forecast_Backcast</th>\n",
       "    </tr>\n",
       "  </thead>\n",
       "  <tbody>\n",
       "    <tr>\n",
       "      <th>0</th>\n",
       "      <td>0</td>\n",
       "      <td>0.0</td>\n",
       "      <td>inc</td>\n",
       "      <td>I</td>\n",
       "      <td>quantile</td>\n",
       "      <td>0.010</td>\n",
       "      <td>1.000000e+00</td>\n",
       "      <td>Backcast</td>\n",
       "    </tr>\n",
       "    <tr>\n",
       "      <th>1</th>\n",
       "      <td>0</td>\n",
       "      <td>0.0</td>\n",
       "      <td>inc</td>\n",
       "      <td>I</td>\n",
       "      <td>quantile</td>\n",
       "      <td>0.025</td>\n",
       "      <td>1.000000e+00</td>\n",
       "      <td>Backcast</td>\n",
       "    </tr>\n",
       "    <tr>\n",
       "      <th>2</th>\n",
       "      <td>0</td>\n",
       "      <td>0.0</td>\n",
       "      <td>inc</td>\n",
       "      <td>I</td>\n",
       "      <td>quantile</td>\n",
       "      <td>0.050</td>\n",
       "      <td>1.000000e+00</td>\n",
       "      <td>Backcast</td>\n",
       "    </tr>\n",
       "    <tr>\n",
       "      <th>3</th>\n",
       "      <td>0</td>\n",
       "      <td>0.0</td>\n",
       "      <td>inc</td>\n",
       "      <td>I</td>\n",
       "      <td>quantile</td>\n",
       "      <td>0.100</td>\n",
       "      <td>1.000000e+00</td>\n",
       "      <td>Backcast</td>\n",
       "    </tr>\n",
       "    <tr>\n",
       "      <th>4</th>\n",
       "      <td>0</td>\n",
       "      <td>0.0</td>\n",
       "      <td>inc</td>\n",
       "      <td>I</td>\n",
       "      <td>quantile</td>\n",
       "      <td>0.150</td>\n",
       "      <td>1.000000e+00</td>\n",
       "      <td>Backcast</td>\n",
       "    </tr>\n",
       "    <tr>\n",
       "      <th>...</th>\n",
       "      <td>...</td>\n",
       "      <td>...</td>\n",
       "      <td>...</td>\n",
       "      <td>...</td>\n",
       "      <td>...</td>\n",
       "      <td>...</td>\n",
       "      <td>...</td>\n",
       "      <td>...</td>\n",
       "    </tr>\n",
       "    <tr>\n",
       "      <th>340</th>\n",
       "      <td>4</td>\n",
       "      <td>4.0</td>\n",
       "      <td>inc</td>\n",
       "      <td>S</td>\n",
       "      <td>quantile</td>\n",
       "      <td>0.850</td>\n",
       "      <td>7.722975e-10</td>\n",
       "      <td>Forecast</td>\n",
       "    </tr>\n",
       "    <tr>\n",
       "      <th>341</th>\n",
       "      <td>4</td>\n",
       "      <td>4.0</td>\n",
       "      <td>inc</td>\n",
       "      <td>S</td>\n",
       "      <td>quantile</td>\n",
       "      <td>0.900</td>\n",
       "      <td>7.916075e-10</td>\n",
       "      <td>Forecast</td>\n",
       "    </tr>\n",
       "    <tr>\n",
       "      <th>342</th>\n",
       "      <td>4</td>\n",
       "      <td>4.0</td>\n",
       "      <td>inc</td>\n",
       "      <td>S</td>\n",
       "      <td>quantile</td>\n",
       "      <td>0.950</td>\n",
       "      <td>8.105475e-10</td>\n",
       "      <td>Forecast</td>\n",
       "    </tr>\n",
       "    <tr>\n",
       "      <th>343</th>\n",
       "      <td>4</td>\n",
       "      <td>4.0</td>\n",
       "      <td>inc</td>\n",
       "      <td>S</td>\n",
       "      <td>quantile</td>\n",
       "      <td>0.975</td>\n",
       "      <td>8.200176e-10</td>\n",
       "      <td>Forecast</td>\n",
       "    </tr>\n",
       "    <tr>\n",
       "      <th>344</th>\n",
       "      <td>4</td>\n",
       "      <td>4.0</td>\n",
       "      <td>inc</td>\n",
       "      <td>S</td>\n",
       "      <td>quantile</td>\n",
       "      <td>0.990</td>\n",
       "      <td>8.256996e-10</td>\n",
       "      <td>Forecast</td>\n",
       "    </tr>\n",
       "  </tbody>\n",
       "</table>\n",
       "<p>345 rows × 8 columns</p>\n",
       "</div>"
      ],
      "text/plain": [
       "     timepoint_id  number_days inc_cum output      type  quantile  \\\n",
       "0               0          0.0     inc      I  quantile     0.010   \n",
       "1               0          0.0     inc      I  quantile     0.025   \n",
       "2               0          0.0     inc      I  quantile     0.050   \n",
       "3               0          0.0     inc      I  quantile     0.100   \n",
       "4               0          0.0     inc      I  quantile     0.150   \n",
       "..            ...          ...     ...    ...       ...       ...   \n",
       "340             4          4.0     inc      S  quantile     0.850   \n",
       "341             4          4.0     inc      S  quantile     0.900   \n",
       "342             4          4.0     inc      S  quantile     0.950   \n",
       "343             4          4.0     inc      S  quantile     0.975   \n",
       "344             4          4.0     inc      S  quantile     0.990   \n",
       "\n",
       "            value Forecast_Backcast  \n",
       "0    1.000000e+00          Backcast  \n",
       "1    1.000000e+00          Backcast  \n",
       "2    1.000000e+00          Backcast  \n",
       "3    1.000000e+00          Backcast  \n",
       "4    1.000000e+00          Backcast  \n",
       "..            ...               ...  \n",
       "340  7.722975e-10          Forecast  \n",
       "341  7.916075e-10          Forecast  \n",
       "342  8.105475e-10          Forecast  \n",
       "343  8.200176e-10          Forecast  \n",
       "344  8.256996e-10          Forecast  \n",
       "\n",
       "[345 rows x 8 columns]"
      ]
     },
     "execution_count": 14,
     "metadata": {},
     "output_type": "execute_result"
    }
   ],
   "source": [
    "result_cal[\"quantiles\"]"
   ]
  },
  {
   "cell_type": "code",
   "execution_count": 7,
   "metadata": {},
   "outputs": [
    {
     "data": {
      "application/vnd.vega.v5+json": {
       "$schema": "https://vega.github.io/schema/vega/v5.json",
       "axes": [
        {
         "name": "x_axis",
         "orient": "bottom",
         "scale": "xscale",
         "zindex": 100
        },
        {
         "name": "y_axis",
         "orient": "left",
         "scale": "yscale",
         "zindex": 100
        }
       ],
       "data": [
        {
         "name": "distributions",
         "values": [
          {
           "lower": 1,
           "timepoint": 0,
           "trajectory": "I_sol",
           "upper": 1
          },
          {
           "lower": 878.2473358154297,
           "timepoint": 1,
           "trajectory": "I_sol",
           "upper": 919.0708648681641
          },
          {
           "lower": 735.9622802734375,
           "timepoint": 2,
           "trajectory": "I_sol",
           "upper": 818.3764495849609
          },
          {
           "lower": 617.1711364746094,
           "timepoint": 3,
           "trajectory": "I_sol",
           "upper": 728.7144287109375
          },
          {
           "lower": 517.3333129882812,
           "timepoint": 4,
           "trajectory": "I_sol",
           "upper": 648.8768920898438
          },
          {
           "lower": 1.1604213033186705e-11,
           "timepoint": 0,
           "trajectory": "R_sol",
           "upper": 1.7666589371967412e-11
          },
          {
           "lower": 81.92927474975586,
           "timepoint": 1,
           "trajectory": "R_sol",
           "upper": 122.75244140625
          },
          {
           "lower": 182.62391891479493,
           "timepoint": 2,
           "trajectory": "R_sol",
           "upper": 265.03756561279295
          },
          {
           "lower": 272.2855651855469,
           "timepoint": 3,
           "trajectory": "R_sol",
           "upper": 383.82866821289065
          },
          {
           "lower": 352.1232177734375,
           "timepoint": 4,
           "trajectory": "R_sol",
           "upper": 483.66652526855466
          },
          {
           "lower": 1000,
           "timepoint": 0,
           "trajectory": "S_sol",
           "upper": 1000
          },
          {
           "lower": 0.0000028121804348302248,
           "timepoint": 1,
           "trajectory": "S_sol",
           "upper": 0.000016452570525871125
          },
          {
           "lower": -6.420568243736824e-10,
           "timepoint": 2,
           "trajectory": "S_sol",
           "upper": 8.244062321693945e-10
          },
          {
           "lower": -5.692259719136672e-10,
           "timepoint": 3,
           "trajectory": "S_sol",
           "upper": 1.1334499616655336e-9
          },
          {
           "lower": -5.491096660703576e-10,
           "timepoint": 4,
           "trajectory": "S_sol",
           "upper": 8.762850361998531e-10
          }
         ]
        },
        {
         "name": "traces",
         "transform": [
          {
           "expr": "isValid(datum.value)",
           "type": "filter"
          }
         ],
         "values": []
        },
        {
         "name": "points",
         "values": []
        },
        {
         "name": "markers",
         "values": []
        },
        {
         "name": "selected",
         "on": [
          {
           "remove": true,
           "trigger": "clear"
          },
          {
           "remove": true,
           "trigger": "!shift"
          },
          {
           "insert": "clicked",
           "trigger": "!shift && clicked"
          },
          {
           "toggle": "clicked",
           "trigger": "shift && clicked"
          }
         ]
        }
       ],
       "height": 300,
       "legends": [
        {
         "encode": {
          "labels": {
           "interactive": true,
           "name": "legendLabel",
           "update": {
            "opacity": [
             {
              "test": "!length(data('selected')) || indata('selected', 'value', datum.value)",
              "value": 1
             },
             {
              "value": 0.25
             }
            ]
           }
          },
          "symbols": {
           "interactive": true,
           "name": "legendSymbol",
           "update": {
            "fill": {
             "value": "transparent"
            },
            "opacity": [
             {
              "test": "!length(data('selected')) || indata('selected', 'value', datum.value)",
              "value": 0.7
             },
             {
              "value": 0.15
             }
            ],
            "size": {
             "value": 64
            },
            "strokeWidth": {
             "value": 2
            }
           }
          }
         },
         "name": "color_legend",
         "stroke": "color"
        }
       ],
       "marks": [
        {
         "from": {
          "facet": {
           "data": "points",
           "groupby": "trajectory",
           "name": "points_split"
          }
         },
         "marks": [
          {
           "encode": {
            "hover": {
             "fillOpacity": {
              "value": 0.9
             }
            },
            "update": {
             "fill": {
              "field": "trajectory",
              "scale": "color"
             },
             "fillOpacity": [
              {
               "test": "!length(data('selected')) || indata('selected', 'value', datum.trajectory)",
               "value": 0.5
              },
              {
               "value": 0.15
              }
             ],
             "size": {
              "value": 10
             },
             "stroke": {
              "field": "trajectory",
              "scale": "color"
             },
             "strokeOpacity": [
              {
               "test": "!length(data('selected')) || indata('selected', 'value', datum.trajectory)",
               "value": 0.75
              },
              {
               "value": 0.15
              }
             ],
             "strokeWidth": {
              "value": 2
             },
             "tooltip": {
              "field": "value"
             },
             "x": {
              "field": "timepoint",
              "scale": "xscale"
             },
             "y": {
              "field": "value",
              "scale": "yscale"
             }
            }
           },
           "from": {
            "data": "points"
           },
           "name": "_points_symbol",
           "type": "symbol",
           "zindex": 3
          },
          {
           "encode": {
            "hover": {
             "fillOpacity": {
              "value": 0.9
             }
            },
            "update": {
             "interpolate": {
              "value": "linear"
             },
             "stroke": {
              "field": "trajectory",
              "scale": "color"
             },
             "strokeOpacity": [
              {
               "test": "!length(data('selected')) || indata('selected', 'value', datum.trajectory)",
               "value": 0.3
              },
              {
               "value": 0.1
              }
             ],
             "strokeWidth": {
              "value": 2
             },
             "x": {
              "field": "timepoint",
              "scale": "xscale"
             },
             "y": {
              "field": "value",
              "scale": "yscale"
             }
            }
           },
           "from": {
            "data": "points"
           },
           "name": "_points_line",
           "type": "line",
           "zindex": 3
          }
         ],
         "name": "_points",
         "type": "group",
         "zindex": 3
        },
        {
         "from": {
          "facet": {
           "data": "traces",
           "groupby": "trajectory",
           "name": "traces_split"
          }
         },
         "marks": [
          {
           "encode": {
            "hover": {
             "fillOpacity": {
              "value": 0.9
             }
            },
            "update": {
             "interpolate": {
              "value": "linear"
             },
             "stroke": {
              "field": "trajectory",
              "scale": "color"
             },
             "strokeOpacity": [
              {
               "test": "!length(data('selected')) || indata('selected', 'value', datum.trajectory)",
               "value": 0.75
              },
              {
               "value": 0.15
              }
             ],
             "strokeWidth": {
              "value": 2
             },
             "x": {
              "field": "timepoint",
              "scale": "xscale"
             },
             "y": {
              "field": "value",
              "scale": "yscale"
             }
            }
           },
           "from": {
            "data": "traces_split"
           },
           "name": "_traces_lines",
           "type": "line"
          }
         ],
         "name": "_traces",
         "type": "group",
         "zindex": 2
        },
        {
         "from": {
          "facet": {
           "data": "distributions",
           "groupby": "trajectory",
           "name": "trajectory_split"
          }
         },
         "marks": [
          {
           "encode": {
            "hover": {
             "fillOpacity": {
              "value": 0.9
             }
            },
            "update": {
             "fill": {
              "field": "trajectory",
              "scale": "color"
             },
             "fillOpacity": [
              {
               "test": "!length(data('selected')) || indata('selected', 'value', datum.trajectory)",
               "value": 0.5
              },
              {
               "value": 0.15
              }
             ],
             "interpolate": {
              "value": "linear"
             },
             "stroke": {
              "field": "trajectory",
              "scale": "color"
             },
             "strokeOpacity": [
              {
               "test": "!length(data('selected')) || indata('selected', 'value', datum.trajectory)",
               "value": 0.75
              },
              {
               "value": 0.15
              }
             ],
             "strokeWidth": {
              "value": 2
             },
             "x": {
              "field": "timepoint",
              "scale": "xscale"
             },
             "y": {
              "field": "upper",
              "scale": "yscale"
             },
             "y2": {
              "field": "lower",
              "scale": "yscale"
             }
            }
           },
           "from": {
            "data": "trajectory_split"
           },
           "type": "area"
          }
         ],
         "name": "_distributions",
         "type": "group",
         "zindex": 1
        },
        {
         "marks": [
          {
           "encode": {
            "enter": {
             "stroke": {
              "value": "lightgray"
             }
            },
            "update": {
             "opacity": {
              "value": 1
             },
             "x": {
              "field": "timepoint",
              "scale": "xscale"
             },
             "y": {
              "signal": "height"
             },
             "y2": {
              "value": 0
             }
            }
           },
           "from": {
            "data": "markers"
           },
           "name": "_marker text",
           "type": "rule"
          },
          {
           "encode": {
            "enter": {
             "fontSize": {
              "value": 8
             },
             "text": {
              "field": "datum.label"
             },
             "y": {
              "value": 0
             }
            }
           },
           "from": {
            "data": "_marker text"
           },
           "name": "_marker flags",
           "transform": [
            {
             "as": [
              "x",
              "_y",
              "opacity",
              "align",
              "baseline"
             ],
             "lineAnchor": "start",
             "offset": [
              1
             ],
             "size": {
              "signal": "[width, height]"
             },
             "type": "label"
            }
           ],
           "type": "text"
          }
         ],
         "name": "_markers",
         "type": "group"
        }
       ],
       "scales": [
        {
         "domain": {
          "fields": [
           {
            "data": "distributions",
            "field": "timepoint"
           },
           {
            "data": "traces",
            "field": "timepoint"
           },
           {
            "data": "points",
            "field": "timepoint"
           },
           {
            "data": "markers",
            "field": "timepoint"
           }
          ]
         },
         "name": "xscale",
         "range": "width",
         "type": "linear",
         "zero": false
        },
        {
         "domain": {
          "fields": [
           {
            "data": "distributions",
            "field": "lower"
           },
           {
            "data": "distributions",
            "field": "upper"
           },
           {
            "data": "traces",
            "field": "value"
           },
           {
            "data": "points",
            "field": "value"
           }
          ]
         },
         "name": "yscale",
         "nice": true,
         "range": "height",
         "type": "linear",
         "zero": true
        },
        {
         "domain": {
          "fields": [
           {
            "data": "distributions",
            "field": "trajectory"
           },
           {
            "data": "traces",
            "field": "trajectory"
           },
           {
            "data": "points",
            "field": "trajectory"
           }
          ]
         },
         "name": "color",
         "range": "category",
         "type": "ordinal"
        }
       ],
       "signals": [
        {
         "name": "clear",
         "on": [
          {
           "events": "mouseup[!event.item]",
           "force": true,
           "update": "true"
          }
         ],
         "value": true
        },
        {
         "name": "shift",
         "on": [
          {
           "events": "@legendSymbol:click, @legendLabel:click",
           "force": true,
           "update": "event.shiftKey"
          }
         ],
         "value": false
        },
        {
         "name": "clicked",
         "on": [
          {
           "events": "@legendSymbol:click, @legendLabel:click",
           "force": true,
           "update": "{value: datum.value}"
          }
         ],
         "value": null
        }
       ],
       "title": "Intervened SIR Model",
       "width": 500
      }
     },
     "metadata": {},
     "output_type": "display_data"
    }
   ],
   "source": [
    "plots.ipy_display(result[\"visual\"])"
   ]
  },
  {
   "cell_type": "markdown",
   "metadata": {},
   "source": [
    "## load_and_optimize_and_sample_petri_model"
   ]
  },
  {
   "cell_type": "code",
   "execution_count": 8,
   "metadata": {},
   "outputs": [
    {
     "name": "stdout",
     "output_type": "stream",
     "text": [
      "Time taken: (3.29e-01 seconds per model evaluation).\n",
      "Performing risk-based optimization under uncertainty (using alpha-superquantile)\n",
      "Estimated wait time 2464.6 seconds...\n",
      "Optimization completed in time 425.75 seconds.\n",
      "Optimal policy:\t0.0\n",
      "Post-processing optimal policy...\n",
      "Estimated risk at optimal policy [0.7027968883514404]\n",
      "Optimal policy: 0.0\n",
      "Estimated risk at optimal policy [0.7027968883514404]\n"
     ]
    }
   ],
   "source": [
    "num_samples = 100\n",
    "timepoints = [0.0, 1.0, 2.0, 3.0, 4.0]\n",
    "OBJFUN = lambda x: np.abs(x)\n",
    "INTERVENTION = [(0.1, \"beta\")]\n",
    "QOI = (\"scenario2dec_nday_average\", \"I_sol\", 2)\n",
    "# Run the optimization and sampling\n",
    "result = load_and_optimize_and_sample_petri_model(\n",
    "    ASKENET_PATH,\n",
    "    num_samples,\n",
    "    timepoints=timepoints,\n",
    "    interventions=INTERVENTION,\n",
    "    qoi=QOI,\n",
    "    risk_bound=10.,\n",
    "    objfun=OBJFUN,\n",
    "    initial_guess=0.02,\n",
    "    bounds=[[0.],[3.]],\n",
    "    verbose=True,\n",
    ")\n",
    "\n",
    "ouu_samples = result[\"data\"]\n",
    "opt_policy = result[\"policy\"]\n",
    "# Save results\n",
    "ouu_samples.to_csv(\n",
    "    os.path.join(DEMO_PATH, \"results_petri/optimize_sample_results.csv\"), index=False\n",
    ")\n",
    "print(\"Optimal policy:\", opt_policy[\"policy\"])\n",
    "print(\"Estimated risk at optimal policy\", opt_policy[\"risk\"])"
   ]
  },
  {
   "cell_type": "markdown",
   "metadata": {},
   "source": [
    "## load_and_calibrate_and_optimize_and_sample_petri_model"
   ]
  },
  {
   "cell_type": "code",
   "execution_count": 9,
   "metadata": {},
   "outputs": [
    {
     "name": "stdout",
     "output_type": "stream",
     "text": [
      "iteration 0: loss = 37.5659122467041\n",
      "iteration 25: loss = 35.41392183303833\n",
      "iteration 50: loss = 33.67425513267517\n",
      "iteration 75: loss = 32.595038652420044\n",
      "iteration 100: loss = 33.10420513153076\n",
      "iteration 125: loss = 32.42216110229492\n",
      "iteration 150: loss = 33.292160987854004\n",
      "iteration 175: loss = 31.957093477249146\n",
      "iteration 200: loss = 32.40791869163513\n",
      "iteration 225: loss = 32.1630494594574\n",
      "iteration 250: loss = 32.64620661735535\n",
      "iteration 275: loss = 32.447582960128784\n",
      "iteration 300: loss = 32.42112612724304\n",
      "iteration 325: loss = 32.70798373222351\n",
      "iteration 350: loss = 32.1295063495636\n",
      "iteration 375: loss = 32.78153920173645\n",
      "iteration 400: loss = 32.15399241447449\n",
      "iteration 425: loss = 32.18069672584534\n",
      "iteration 450: loss = 32.34887766838074\n",
      "iteration 475: loss = 32.39561104774475\n",
      "iteration 500: loss = 32.51458191871643\n",
      "iteration 525: loss = 32.285157680511475\n",
      "iteration 550: loss = 32.21916651725769\n",
      "iteration 575: loss = 32.54395031929016\n",
      "iteration 600: loss = 32.487563133239746\n",
      "iteration 625: loss = 32.54312562942505\n",
      "iteration 650: loss = 31.965022087097168\n",
      "iteration 675: loss = 32.316070318222046\n",
      "iteration 700: loss = 32.36382842063904\n",
      "iteration 725: loss = 32.52105975151062\n",
      "iteration 750: loss = 32.83406376838684\n",
      "iteration 775: loss = 32.393730878829956\n",
      "iteration 800: loss = 32.43019080162048\n",
      "iteration 825: loss = 32.3959174156189\n",
      "iteration 850: loss = 32.112430572509766\n",
      "iteration 875: loss = 32.36790990829468\n",
      "iteration 900: loss = 32.66983437538147\n",
      "iteration 925: loss = 32.438520669937134\n",
      "iteration 950: loss = 32.27924203872681\n",
      "iteration 975: loss = 32.38777709007263\n",
      "Time taken: (1.62e-01 seconds per model evaluation).\n",
      "Performing risk-based optimization under uncertainty (using alpha-superquantile)\n",
      "Estimated wait time 1217.2 seconds...\n",
      "Optimization completed in time 413.15 seconds.\n",
      "Optimal policy:\t0.0\n",
      "Post-processing optimal policy...\n",
      "Estimated risk at optimal policy [0.6986928939819336]\n",
      "Optimal policy after calibration: 0.0\n",
      "Estimated risk at optimal policy after calibration [0.7027968883514404]\n"
     ]
    }
   ],
   "source": [
    "data_path = os.path.join(DEMO_PATH, \"data.csv\")\n",
    "num_samples = 100\n",
    "timepoints = [0.0, 1.0, 2.0, 3.0, 4.0]\n",
    "OBJFUN = lambda x: np.abs(x)\n",
    "INTERVENTION = [(0.1, \"beta\")]\n",
    "QOI = (\"scenario2dec_nday_average\", \"I_sol\", 2)\n",
    "# Run the calibration, optimization, and sampling\n",
    "result = load_and_calibrate_and_optimize_and_sample_petri_model(\n",
    "    ASKENET_PATH,\n",
    "    data_path,\n",
    "    num_samples,\n",
    "    timepoints=timepoints,\n",
    "    interventions=INTERVENTION,\n",
    "    qoi=QOI,\n",
    "    risk_bound=10.,\n",
    "    objfun=OBJFUN,\n",
    "    initial_guess=0.02,\n",
    "    bounds=[[0.],[3.]],\n",
    "    verbose=True,\n",
    ")\n",
    "\n",
    "ouu_cal_samples = result[\"data\"]\n",
    "opt_cal_policy = result[\"policy\"]\n",
    "# Save results\n",
    "ouu_cal_samples.to_csv(\n",
    "    os.path.join(DEMO_PATH, \"results_petri/calibrate_optimize_sample_results.csv\"), index=False\n",
    ")\n",
    "print(\"Optimal policy after calibration:\", opt_policy[\"policy\"])\n",
    "print(\"Estimated risk at optimal policy after calibration\", opt_policy[\"risk\"])"
   ]
  }
 ],
 "metadata": {
  "kernelspec": {
   "display_name": "askemv2",
   "language": "python",
   "name": "python3"
  },
  "language_info": {
   "codemirror_mode": {
    "name": "ipython",
    "version": 3
   },
   "file_extension": ".py",
   "mimetype": "text/x-python",
   "name": "python",
   "nbconvert_exporter": "python",
   "pygments_lexer": "ipython3",
   "version": "3.11.4"
  }
 },
 "nbformat": 4,
 "nbformat_minor": 4
}
