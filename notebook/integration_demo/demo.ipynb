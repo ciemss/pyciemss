{
 "cells": [
  {
   "cell_type": "code",
   "execution_count": 7,
   "metadata": {},
   "outputs": [],
   "source": [
    "import os\n",
    "from pyciemss.PetriNetODE.interfaces import (\n",
    "    load_and_sample_petri_model,\n",
    "    load_and_calibrate_and_sample_petri_model,\n",
    "    load_and_optimize_and_sample_petri_model,\n",
    "    load_and_calibrate_and_optimize_and_sample_petri_model\n",
    ")\n",
    "import numpy as np"
   ]
  },
  {
   "cell_type": "code",
   "execution_count": 8,
   "metadata": {},
   "outputs": [],
   "source": [
    "DEMO_PATH = \"../../notebook/integration_demo/\"\n",
    "ASKENET_PATH = \"https://raw.githubusercontent.com/DARPA-ASKEM/Model-Representations/main/petrinet/examples/sir_typed.json\""
   ]
  },
  {
   "attachments": {},
   "cell_type": "markdown",
   "metadata": {},
   "source": [
    "## load_and_sample_petri_model"
   ]
  },
  {
   "cell_type": "code",
   "execution_count": 9,
   "metadata": {},
   "outputs": [
    {
     "ename": "KeyError",
     "evalue": "'I'",
     "output_type": "error",
     "traceback": [
      "\u001b[1;31m---------------------------------------------------------------------------\u001b[0m",
      "\u001b[1;31mKeyError\u001b[0m                                  Traceback (most recent call last)",
      "File \u001b[1;32mc:\\Users\\Anirban\\anaconda3\\envs\\askemv1\\Lib\\site-packages\\sympytorch\\sympy_module.py:158\u001b[0m, in \u001b[0;36m_Node.forward\u001b[1;34m(self, memodict)\u001b[0m\n\u001b[0;32m    157\u001b[0m \u001b[39mtry\u001b[39;00m:\n\u001b[1;32m--> 158\u001b[0m     arg_ \u001b[39m=\u001b[39m memodict[arg]\n\u001b[0;32m    159\u001b[0m \u001b[39mexcept\u001b[39;00m \u001b[39mKeyError\u001b[39;00m:\n",
      "\u001b[1;31mKeyError\u001b[0m: _Node(\n  (_args): ModuleList(\n    (0-2): 3 x _Node()\n  )\n)",
      "\nDuring handling of the above exception, another exception occurred:\n",
      "\u001b[1;31mKeyError\u001b[0m                                  Traceback (most recent call last)",
      "File \u001b[1;32mc:\\Users\\Anirban\\anaconda3\\envs\\askemv1\\Lib\\site-packages\\sympytorch\\sympy_module.py:158\u001b[0m, in \u001b[0;36m_Node.forward\u001b[1;34m(self, memodict)\u001b[0m\n\u001b[0;32m    157\u001b[0m \u001b[39mtry\u001b[39;00m:\n\u001b[1;32m--> 158\u001b[0m     arg_ \u001b[39m=\u001b[39m memodict[arg]\n\u001b[0;32m    159\u001b[0m \u001b[39mexcept\u001b[39;00m \u001b[39mKeyError\u001b[39;00m:\n",
      "\u001b[1;31mKeyError\u001b[0m: _Node()",
      "\nDuring handling of the above exception, another exception occurred:\n",
      "\u001b[1;31mKeyError\u001b[0m                                  Traceback (most recent call last)",
      "File \u001b[1;32mc:\\Users\\Anirban\\anaconda3\\envs\\askemv1\\Lib\\site-packages\\sympytorch\\sympy_module.py:158\u001b[0m, in \u001b[0;36m_Node.forward\u001b[1;34m(self, memodict)\u001b[0m\n\u001b[0;32m    157\u001b[0m \u001b[39mtry\u001b[39;00m:\n\u001b[1;32m--> 158\u001b[0m     arg_ \u001b[39m=\u001b[39m memodict[arg]\n\u001b[0;32m    159\u001b[0m \u001b[39mexcept\u001b[39;00m \u001b[39mKeyError\u001b[39;00m:\n",
      "\u001b[1;31mKeyError\u001b[0m: <function _Node.__init__.<locals>.<lambda> at 0x000002123AFEC5E0>",
      "\nDuring handling of the above exception, another exception occurred:\n",
      "\u001b[1;31mKeyError\u001b[0m                                  Traceback (most recent call last)",
      "Cell \u001b[1;32mIn[9], line 5\u001b[0m\n\u001b[0;32m      2\u001b[0m timepoints \u001b[39m=\u001b[39m [\u001b[39m0.5\u001b[39m, \u001b[39m1.0\u001b[39m, \u001b[39m2.0\u001b[39m, \u001b[39m3.0\u001b[39m, \u001b[39m4.0\u001b[39m]\n\u001b[0;32m      4\u001b[0m \u001b[39m# Run sampling w/o an intervention\u001b[39;00m\n\u001b[1;32m----> 5\u001b[0m samples \u001b[39m=\u001b[39m load_and_sample_petri_model(ASKENET_PATH, num_samples, timepoints\u001b[39m=\u001b[39;49mtimepoints)\n\u001b[0;32m      7\u001b[0m \u001b[39m# Save results\u001b[39;00m\n\u001b[0;32m      8\u001b[0m samples\u001b[39m.\u001b[39mto_csv(os\u001b[39m.\u001b[39mpath\u001b[39m.\u001b[39mjoin(DEMO_PATH, \u001b[39m\"\u001b[39m\u001b[39mresults_petri/sample_results.csv\u001b[39m\u001b[39m\"\u001b[39m), index\u001b[39m=\u001b[39m\u001b[39mFalse\u001b[39;00m)\n",
      "File \u001b[1;32m~\\Documents\\GitHub\\pyciemss\\src\\pyciemss\\PetriNetODE\\interfaces.py:114\u001b[0m, in \u001b[0;36mload_and_sample_petri_model\u001b[1;34m(petri_model_or_path, num_samples, timepoints, interventions, start_state, pseudocount, start_time, method, compile_rate_law_p)\u001b[0m\n\u001b[0;32m    108\u001b[0m     intervention_events \u001b[39m=\u001b[39m [\n\u001b[0;32m    109\u001b[0m         StaticParameterInterventionEvent(timepoint, parameter, value)\n\u001b[0;32m    110\u001b[0m         \u001b[39mfor\u001b[39;00m timepoint, parameter, value \u001b[39min\u001b[39;00m interventions\n\u001b[0;32m    111\u001b[0m     ]\n\u001b[0;32m    112\u001b[0m     model\u001b[39m.\u001b[39mload_events(intervention_events)\n\u001b[1;32m--> 114\u001b[0m samples \u001b[39m=\u001b[39m sample(\n\u001b[0;32m    115\u001b[0m     model,\n\u001b[0;32m    116\u001b[0m     timepoints,\n\u001b[0;32m    117\u001b[0m     num_samples,\n\u001b[0;32m    118\u001b[0m     method\u001b[39m=\u001b[39;49mmethod,\n\u001b[0;32m    119\u001b[0m )\n\u001b[0;32m    121\u001b[0m processed_samples \u001b[39m=\u001b[39m convert_to_output_format(samples, timepoints, interventions\u001b[39m=\u001b[39minterventions)\n\u001b[0;32m    123\u001b[0m \u001b[39mreturn\u001b[39;00m processed_samples\n",
      "File \u001b[1;32mc:\\Users\\Anirban\\anaconda3\\envs\\askemv1\\Lib\\functools.py:909\u001b[0m, in \u001b[0;36msingledispatch.<locals>.wrapper\u001b[1;34m(*args, **kw)\u001b[0m\n\u001b[0;32m    905\u001b[0m \u001b[39mif\u001b[39;00m \u001b[39mnot\u001b[39;00m args:\n\u001b[0;32m    906\u001b[0m     \u001b[39mraise\u001b[39;00m \u001b[39mTypeError\u001b[39;00m(\u001b[39mf\u001b[39m\u001b[39m'\u001b[39m\u001b[39m{\u001b[39;00mfuncname\u001b[39m}\u001b[39;00m\u001b[39m requires at least \u001b[39m\u001b[39m'\u001b[39m\n\u001b[0;32m    907\u001b[0m                     \u001b[39m'\u001b[39m\u001b[39m1 positional argument\u001b[39m\u001b[39m'\u001b[39m)\n\u001b[1;32m--> 909\u001b[0m \u001b[39mreturn\u001b[39;00m dispatch(args[\u001b[39m0\u001b[39;49m]\u001b[39m.\u001b[39;49m\u001b[39m__class__\u001b[39;49m)(\u001b[39m*\u001b[39;49margs, \u001b[39m*\u001b[39;49m\u001b[39m*\u001b[39;49mkw)\n",
      "File \u001b[1;32m~\\Documents\\GitHub\\pyciemss\\src\\pyciemss\\PetriNetODE\\interfaces.py:680\u001b[0m, in \u001b[0;36msample_petri\u001b[1;34m(petri, timepoints, num_samples, inferred_parameters, method)\u001b[0m\n\u001b[0;32m    678\u001b[0m new_petri \u001b[39m=\u001b[39m copy\u001b[39m.\u001b[39mdeepcopy(petri)\n\u001b[0;32m    679\u001b[0m new_petri\u001b[39m.\u001b[39mload_events(logging_events)\n\u001b[1;32m--> 680\u001b[0m \u001b[39mreturn\u001b[39;00m Predictive(new_petri, guide\u001b[39m=\u001b[39;49minferred_parameters, num_samples\u001b[39m=\u001b[39;49mnum_samples)(\n\u001b[0;32m    681\u001b[0m     method\u001b[39m=\u001b[39;49mmethod\n\u001b[0;32m    682\u001b[0m )\n",
      "File \u001b[1;32mc:\\Users\\Anirban\\anaconda3\\envs\\askemv1\\Lib\\site-packages\\torch\\nn\\modules\\module.py:1501\u001b[0m, in \u001b[0;36mModule._call_impl\u001b[1;34m(self, *args, **kwargs)\u001b[0m\n\u001b[0;32m   1496\u001b[0m \u001b[39m# If we don't have any hooks, we want to skip the rest of the logic in\u001b[39;00m\n\u001b[0;32m   1497\u001b[0m \u001b[39m# this function, and just call forward.\u001b[39;00m\n\u001b[0;32m   1498\u001b[0m \u001b[39mif\u001b[39;00m \u001b[39mnot\u001b[39;00m (\u001b[39mself\u001b[39m\u001b[39m.\u001b[39m_backward_hooks \u001b[39mor\u001b[39;00m \u001b[39mself\u001b[39m\u001b[39m.\u001b[39m_backward_pre_hooks \u001b[39mor\u001b[39;00m \u001b[39mself\u001b[39m\u001b[39m.\u001b[39m_forward_hooks \u001b[39mor\u001b[39;00m \u001b[39mself\u001b[39m\u001b[39m.\u001b[39m_forward_pre_hooks\n\u001b[0;32m   1499\u001b[0m         \u001b[39mor\u001b[39;00m _global_backward_pre_hooks \u001b[39mor\u001b[39;00m _global_backward_hooks\n\u001b[0;32m   1500\u001b[0m         \u001b[39mor\u001b[39;00m _global_forward_hooks \u001b[39mor\u001b[39;00m _global_forward_pre_hooks):\n\u001b[1;32m-> 1501\u001b[0m     \u001b[39mreturn\u001b[39;00m forward_call(\u001b[39m*\u001b[39;49margs, \u001b[39m*\u001b[39;49m\u001b[39m*\u001b[39;49mkwargs)\n\u001b[0;32m   1502\u001b[0m \u001b[39m# Do not call functions when jit is used\u001b[39;00m\n\u001b[0;32m   1503\u001b[0m full_backward_hooks, non_full_backward_hooks \u001b[39m=\u001b[39m [], []\n",
      "File \u001b[1;32mc:\\Users\\Anirban\\anaconda3\\envs\\askemv1\\Lib\\site-packages\\pyro\\infer\\predictive.py:273\u001b[0m, in \u001b[0;36mPredictive.forward\u001b[1;34m(self, *args, **kwargs)\u001b[0m\n\u001b[0;32m    263\u001b[0m     return_sites \u001b[39m=\u001b[39m \u001b[39mNone\u001b[39;00m \u001b[39mif\u001b[39;00m \u001b[39mnot\u001b[39;00m return_sites \u001b[39melse\u001b[39;00m return_sites\n\u001b[0;32m    264\u001b[0m     posterior_samples \u001b[39m=\u001b[39m _predictive(\n\u001b[0;32m    265\u001b[0m         \u001b[39mself\u001b[39m\u001b[39m.\u001b[39mguide,\n\u001b[0;32m    266\u001b[0m         posterior_samples,\n\u001b[1;32m   (...)\u001b[0m\n\u001b[0;32m    271\u001b[0m         model_kwargs\u001b[39m=\u001b[39mkwargs,\n\u001b[0;32m    272\u001b[0m     )\n\u001b[1;32m--> 273\u001b[0m \u001b[39mreturn\u001b[39;00m _predictive(\n\u001b[0;32m    274\u001b[0m     \u001b[39mself\u001b[39;49m\u001b[39m.\u001b[39;49mmodel,\n\u001b[0;32m    275\u001b[0m     posterior_samples,\n\u001b[0;32m    276\u001b[0m     \u001b[39mself\u001b[39;49m\u001b[39m.\u001b[39;49mnum_samples,\n\u001b[0;32m    277\u001b[0m     return_sites\u001b[39m=\u001b[39;49mreturn_sites,\n\u001b[0;32m    278\u001b[0m     parallel\u001b[39m=\u001b[39;49m\u001b[39mself\u001b[39;49m\u001b[39m.\u001b[39;49mparallel,\n\u001b[0;32m    279\u001b[0m     model_args\u001b[39m=\u001b[39;49margs,\n\u001b[0;32m    280\u001b[0m     model_kwargs\u001b[39m=\u001b[39;49mkwargs,\n\u001b[0;32m    281\u001b[0m )\n",
      "File \u001b[1;32mc:\\Users\\Anirban\\anaconda3\\envs\\askemv1\\Lib\\site-packages\\pyro\\infer\\predictive.py:78\u001b[0m, in \u001b[0;36m_predictive\u001b[1;34m(model, posterior_samples, num_samples, return_sites, return_trace, parallel, model_args, model_kwargs)\u001b[0m\n\u001b[0;32m     67\u001b[0m \u001b[39mdef\u001b[39;00m \u001b[39m_predictive\u001b[39m(\n\u001b[0;32m     68\u001b[0m     model,\n\u001b[0;32m     69\u001b[0m     posterior_samples,\n\u001b[1;32m   (...)\u001b[0m\n\u001b[0;32m     75\u001b[0m     model_kwargs\u001b[39m=\u001b[39m{},\n\u001b[0;32m     76\u001b[0m ):\n\u001b[0;32m     77\u001b[0m     model \u001b[39m=\u001b[39m torch\u001b[39m.\u001b[39mno_grad()(poutine\u001b[39m.\u001b[39mmask(model, mask\u001b[39m=\u001b[39m\u001b[39mFalse\u001b[39;00m))\n\u001b[1;32m---> 78\u001b[0m     max_plate_nesting \u001b[39m=\u001b[39m _guess_max_plate_nesting(model, model_args, model_kwargs)\n\u001b[0;32m     79\u001b[0m     vectorize \u001b[39m=\u001b[39m pyro\u001b[39m.\u001b[39mplate(\n\u001b[0;32m     80\u001b[0m         \u001b[39m\"\u001b[39m\u001b[39m_num_predictive_samples\u001b[39m\u001b[39m\"\u001b[39m, num_samples, dim\u001b[39m=\u001b[39m\u001b[39m-\u001b[39mmax_plate_nesting \u001b[39m-\u001b[39m \u001b[39m1\u001b[39m\n\u001b[0;32m     81\u001b[0m     )\n\u001b[0;32m     82\u001b[0m     model_trace \u001b[39m=\u001b[39m prune_subsample_sites(\n\u001b[0;32m     83\u001b[0m         poutine\u001b[39m.\u001b[39mtrace(model)\u001b[39m.\u001b[39mget_trace(\u001b[39m*\u001b[39mmodel_args, \u001b[39m*\u001b[39m\u001b[39m*\u001b[39mmodel_kwargs)\n\u001b[0;32m     84\u001b[0m     )\n",
      "File \u001b[1;32mc:\\Users\\Anirban\\anaconda3\\envs\\askemv1\\Lib\\site-packages\\pyro\\infer\\predictive.py:21\u001b[0m, in \u001b[0;36m_guess_max_plate_nesting\u001b[1;34m(model, args, kwargs)\u001b[0m\n\u001b[0;32m     15\u001b[0m \u001b[39m\u001b[39m\u001b[39m\"\"\"\u001b[39;00m\n\u001b[0;32m     16\u001b[0m \u001b[39mGuesses max_plate_nesting by running the model once\u001b[39;00m\n\u001b[0;32m     17\u001b[0m \u001b[39mwithout enumeration. This optimistically assumes static model\u001b[39;00m\n\u001b[0;32m     18\u001b[0m \u001b[39mstructure.\u001b[39;00m\n\u001b[0;32m     19\u001b[0m \u001b[39m\"\"\"\u001b[39;00m\n\u001b[0;32m     20\u001b[0m \u001b[39mwith\u001b[39;00m poutine\u001b[39m.\u001b[39mblock():\n\u001b[1;32m---> 21\u001b[0m     model_trace \u001b[39m=\u001b[39m poutine\u001b[39m.\u001b[39;49mtrace(model)\u001b[39m.\u001b[39;49mget_trace(\u001b[39m*\u001b[39;49margs, \u001b[39m*\u001b[39;49m\u001b[39m*\u001b[39;49mkwargs)\n\u001b[0;32m     22\u001b[0m sites \u001b[39m=\u001b[39m [site \u001b[39mfor\u001b[39;00m site \u001b[39min\u001b[39;00m model_trace\u001b[39m.\u001b[39mnodes\u001b[39m.\u001b[39mvalues() \u001b[39mif\u001b[39;00m site[\u001b[39m\"\u001b[39m\u001b[39mtype\u001b[39m\u001b[39m\"\u001b[39m] \u001b[39m==\u001b[39m \u001b[39m\"\u001b[39m\u001b[39msample\u001b[39m\u001b[39m\"\u001b[39m]\n\u001b[0;32m     24\u001b[0m dims \u001b[39m=\u001b[39m [\n\u001b[0;32m     25\u001b[0m     frame\u001b[39m.\u001b[39mdim\n\u001b[0;32m     26\u001b[0m     \u001b[39mfor\u001b[39;00m site \u001b[39min\u001b[39;00m sites\n\u001b[0;32m     27\u001b[0m     \u001b[39mfor\u001b[39;00m frame \u001b[39min\u001b[39;00m site[\u001b[39m\"\u001b[39m\u001b[39mcond_indep_stack\u001b[39m\u001b[39m\"\u001b[39m]\n\u001b[0;32m     28\u001b[0m     \u001b[39mif\u001b[39;00m frame\u001b[39m.\u001b[39mvectorized\n\u001b[0;32m     29\u001b[0m ]\n",
      "File \u001b[1;32mc:\\Users\\Anirban\\anaconda3\\envs\\askemv1\\Lib\\site-packages\\pyro\\poutine\\trace_messenger.py:198\u001b[0m, in \u001b[0;36mTraceHandler.get_trace\u001b[1;34m(self, *args, **kwargs)\u001b[0m\n\u001b[0;32m    190\u001b[0m \u001b[39mdef\u001b[39;00m \u001b[39mget_trace\u001b[39m(\u001b[39mself\u001b[39m, \u001b[39m*\u001b[39margs, \u001b[39m*\u001b[39m\u001b[39m*\u001b[39mkwargs):\n\u001b[0;32m    191\u001b[0m \u001b[39m    \u001b[39m\u001b[39m\"\"\"\u001b[39;00m\n\u001b[0;32m    192\u001b[0m \u001b[39m    :returns: data structure\u001b[39;00m\n\u001b[0;32m    193\u001b[0m \u001b[39m    :rtype: pyro.poutine.Trace\u001b[39;00m\n\u001b[1;32m   (...)\u001b[0m\n\u001b[0;32m    196\u001b[0m \u001b[39m    Calls this poutine and returns its trace instead of the function's return value.\u001b[39;00m\n\u001b[0;32m    197\u001b[0m \u001b[39m    \"\"\"\u001b[39;00m\n\u001b[1;32m--> 198\u001b[0m     \u001b[39mself\u001b[39;49m(\u001b[39m*\u001b[39;49margs, \u001b[39m*\u001b[39;49m\u001b[39m*\u001b[39;49mkwargs)\n\u001b[0;32m    199\u001b[0m     \u001b[39mreturn\u001b[39;00m \u001b[39mself\u001b[39m\u001b[39m.\u001b[39mmsngr\u001b[39m.\u001b[39mget_trace()\n",
      "File \u001b[1;32mc:\\Users\\Anirban\\anaconda3\\envs\\askemv1\\Lib\\site-packages\\pyro\\poutine\\trace_messenger.py:174\u001b[0m, in \u001b[0;36mTraceHandler.__call__\u001b[1;34m(self, *args, **kwargs)\u001b[0m\n\u001b[0;32m    170\u001b[0m \u001b[39mself\u001b[39m\u001b[39m.\u001b[39mmsngr\u001b[39m.\u001b[39mtrace\u001b[39m.\u001b[39madd_node(\n\u001b[0;32m    171\u001b[0m     \u001b[39m\"\u001b[39m\u001b[39m_INPUT\u001b[39m\u001b[39m\"\u001b[39m, name\u001b[39m=\u001b[39m\u001b[39m\"\u001b[39m\u001b[39m_INPUT\u001b[39m\u001b[39m\"\u001b[39m, \u001b[39mtype\u001b[39m\u001b[39m=\u001b[39m\u001b[39m\"\u001b[39m\u001b[39margs\u001b[39m\u001b[39m\"\u001b[39m, args\u001b[39m=\u001b[39margs, kwargs\u001b[39m=\u001b[39mkwargs\n\u001b[0;32m    172\u001b[0m )\n\u001b[0;32m    173\u001b[0m \u001b[39mtry\u001b[39;00m:\n\u001b[1;32m--> 174\u001b[0m     ret \u001b[39m=\u001b[39m \u001b[39mself\u001b[39;49m\u001b[39m.\u001b[39;49mfn(\u001b[39m*\u001b[39;49margs, \u001b[39m*\u001b[39;49m\u001b[39m*\u001b[39;49mkwargs)\n\u001b[0;32m    175\u001b[0m \u001b[39mexcept\u001b[39;00m (\u001b[39mValueError\u001b[39;00m, \u001b[39mRuntimeError\u001b[39;00m) \u001b[39mas\u001b[39;00m e:\n\u001b[0;32m    176\u001b[0m     exc_type, exc_value, traceback \u001b[39m=\u001b[39m sys\u001b[39m.\u001b[39mexc_info()\n",
      "File \u001b[1;32mc:\\Users\\Anirban\\anaconda3\\envs\\askemv1\\Lib\\site-packages\\torch\\utils\\_contextlib.py:115\u001b[0m, in \u001b[0;36mcontext_decorator.<locals>.decorate_context\u001b[1;34m(*args, **kwargs)\u001b[0m\n\u001b[0;32m    112\u001b[0m \u001b[39m@functools\u001b[39m\u001b[39m.\u001b[39mwraps(func)\n\u001b[0;32m    113\u001b[0m \u001b[39mdef\u001b[39;00m \u001b[39mdecorate_context\u001b[39m(\u001b[39m*\u001b[39margs, \u001b[39m*\u001b[39m\u001b[39m*\u001b[39mkwargs):\n\u001b[0;32m    114\u001b[0m     \u001b[39mwith\u001b[39;00m ctx_factory():\n\u001b[1;32m--> 115\u001b[0m         \u001b[39mreturn\u001b[39;00m func(\u001b[39m*\u001b[39;49margs, \u001b[39m*\u001b[39;49m\u001b[39m*\u001b[39;49mkwargs)\n",
      "File \u001b[1;32mc:\\Users\\Anirban\\anaconda3\\envs\\askemv1\\Lib\\site-packages\\pyro\\poutine\\messenger.py:12\u001b[0m, in \u001b[0;36m_context_wrap\u001b[1;34m(context, fn, *args, **kwargs)\u001b[0m\n\u001b[0;32m     10\u001b[0m \u001b[39mdef\u001b[39;00m \u001b[39m_context_wrap\u001b[39m(context, fn, \u001b[39m*\u001b[39margs, \u001b[39m*\u001b[39m\u001b[39m*\u001b[39mkwargs):\n\u001b[0;32m     11\u001b[0m     \u001b[39mwith\u001b[39;00m context:\n\u001b[1;32m---> 12\u001b[0m         \u001b[39mreturn\u001b[39;00m fn(\u001b[39m*\u001b[39;49margs, \u001b[39m*\u001b[39;49m\u001b[39m*\u001b[39;49mkwargs)\n",
      "File \u001b[1;32mc:\\Users\\Anirban\\anaconda3\\envs\\askemv1\\Lib\\site-packages\\pyro\\nn\\module.py:449\u001b[0m, in \u001b[0;36mPyroModule.__call__\u001b[1;34m(self, *args, **kwargs)\u001b[0m\n\u001b[0;32m    447\u001b[0m \u001b[39mdef\u001b[39;00m \u001b[39m__call__\u001b[39m(\u001b[39mself\u001b[39m, \u001b[39m*\u001b[39margs, \u001b[39m*\u001b[39m\u001b[39m*\u001b[39mkwargs):\n\u001b[0;32m    448\u001b[0m     \u001b[39mwith\u001b[39;00m \u001b[39mself\u001b[39m\u001b[39m.\u001b[39m_pyro_context:\n\u001b[1;32m--> 449\u001b[0m         result \u001b[39m=\u001b[39m \u001b[39msuper\u001b[39;49m()\u001b[39m.\u001b[39;49m\u001b[39m__call__\u001b[39;49m(\u001b[39m*\u001b[39;49margs, \u001b[39m*\u001b[39;49m\u001b[39m*\u001b[39;49mkwargs)\n\u001b[0;32m    450\u001b[0m     \u001b[39mif\u001b[39;00m (\n\u001b[0;32m    451\u001b[0m         pyro\u001b[39m.\u001b[39msettings\u001b[39m.\u001b[39mget(\u001b[39m\"\u001b[39m\u001b[39mvalidate_poutine\u001b[39m\u001b[39m\"\u001b[39m)\n\u001b[0;32m    452\u001b[0m         \u001b[39mand\u001b[39;00m \u001b[39mnot\u001b[39;00m \u001b[39mself\u001b[39m\u001b[39m.\u001b[39m_pyro_context\u001b[39m.\u001b[39mactive\n\u001b[0;32m    453\u001b[0m         \u001b[39mand\u001b[39;00m _is_module_local_param_enabled()\n\u001b[0;32m    454\u001b[0m     ):\n\u001b[0;32m    455\u001b[0m         \u001b[39mself\u001b[39m\u001b[39m.\u001b[39m_check_module_local_param_usage()\n",
      "File \u001b[1;32mc:\\Users\\Anirban\\anaconda3\\envs\\askemv1\\Lib\\site-packages\\torch\\nn\\modules\\module.py:1501\u001b[0m, in \u001b[0;36mModule._call_impl\u001b[1;34m(self, *args, **kwargs)\u001b[0m\n\u001b[0;32m   1496\u001b[0m \u001b[39m# If we don't have any hooks, we want to skip the rest of the logic in\u001b[39;00m\n\u001b[0;32m   1497\u001b[0m \u001b[39m# this function, and just call forward.\u001b[39;00m\n\u001b[0;32m   1498\u001b[0m \u001b[39mif\u001b[39;00m \u001b[39mnot\u001b[39;00m (\u001b[39mself\u001b[39m\u001b[39m.\u001b[39m_backward_hooks \u001b[39mor\u001b[39;00m \u001b[39mself\u001b[39m\u001b[39m.\u001b[39m_backward_pre_hooks \u001b[39mor\u001b[39;00m \u001b[39mself\u001b[39m\u001b[39m.\u001b[39m_forward_hooks \u001b[39mor\u001b[39;00m \u001b[39mself\u001b[39m\u001b[39m.\u001b[39m_forward_pre_hooks\n\u001b[0;32m   1499\u001b[0m         \u001b[39mor\u001b[39;00m _global_backward_pre_hooks \u001b[39mor\u001b[39;00m _global_backward_hooks\n\u001b[0;32m   1500\u001b[0m         \u001b[39mor\u001b[39;00m _global_forward_hooks \u001b[39mor\u001b[39;00m _global_forward_pre_hooks):\n\u001b[1;32m-> 1501\u001b[0m     \u001b[39mreturn\u001b[39;00m forward_call(\u001b[39m*\u001b[39;49margs, \u001b[39m*\u001b[39;49m\u001b[39m*\u001b[39;49mkwargs)\n\u001b[0;32m   1502\u001b[0m \u001b[39m# Do not call functions when jit is used\u001b[39;00m\n\u001b[0;32m   1503\u001b[0m full_backward_hooks, non_full_backward_hooks \u001b[39m=\u001b[39m [], []\n",
      "File \u001b[1;32m~\\Documents\\GitHub\\pyciemss\\src\\pyciemss\\interfaces.py:60\u001b[0m, in \u001b[0;36mDynamicalSystem.forward\u001b[1;34m(self, *args, **kwargs)\u001b[0m\n\u001b[0;32m     57\u001b[0m \u001b[39mself\u001b[39m\u001b[39m.\u001b[39mparam_prior()\n\u001b[0;32m     59\u001b[0m \u001b[39m# Solve the ODE\u001b[39;00m\n\u001b[1;32m---> 60\u001b[0m solution \u001b[39m=\u001b[39m \u001b[39mself\u001b[39;49m\u001b[39m.\u001b[39;49mget_solution(\u001b[39m*\u001b[39;49margs, \u001b[39m*\u001b[39;49m\u001b[39m*\u001b[39;49mkwargs)\n\u001b[0;32m     62\u001b[0m \u001b[39m# Add the observation likelihoods\u001b[39;00m\n\u001b[0;32m     63\u001b[0m \u001b[39mself\u001b[39m\u001b[39m.\u001b[39madd_observation_likelihoods(solution)\n",
      "File \u001b[1;32mc:\\Users\\Anirban\\anaconda3\\envs\\askemv1\\Lib\\site-packages\\pyro\\nn\\module.py:686\u001b[0m, in \u001b[0;36mpyro_method.<locals>.cached_fn\u001b[1;34m(self, *args, **kwargs)\u001b[0m\n\u001b[0;32m    683\u001b[0m \u001b[39m@functools\u001b[39m\u001b[39m.\u001b[39mwraps(fn)\n\u001b[0;32m    684\u001b[0m \u001b[39mdef\u001b[39;00m \u001b[39mcached_fn\u001b[39m(\u001b[39mself\u001b[39m, \u001b[39m*\u001b[39margs, \u001b[39m*\u001b[39m\u001b[39m*\u001b[39mkwargs):\n\u001b[0;32m    685\u001b[0m     \u001b[39mwith\u001b[39;00m \u001b[39mself\u001b[39m\u001b[39m.\u001b[39m_pyro_context:\n\u001b[1;32m--> 686\u001b[0m         \u001b[39mreturn\u001b[39;00m fn(\u001b[39mself\u001b[39;49m, \u001b[39m*\u001b[39;49margs, \u001b[39m*\u001b[39;49m\u001b[39m*\u001b[39;49mkwargs)\n",
      "File \u001b[1;32m~\\Documents\\GitHub\\pyciemss\\src\\pyciemss\\PetriNetODE\\base.py:222\u001b[0m, in \u001b[0;36mPetriNetODESystem.get_solution\u001b[1;34m(self, method)\u001b[0m\n\u001b[0;32m    219\u001b[0m local_tspan \u001b[39m=\u001b[39m tspan[start:stop\u001b[39m+\u001b[39m\u001b[39m1\u001b[39m]\n\u001b[0;32m    221\u001b[0m \u001b[39m# Simulate from ODE with the new local tspan\u001b[39;00m\n\u001b[1;32m--> 222\u001b[0m local_solution \u001b[39m=\u001b[39m odeint(\u001b[39mself\u001b[39;49m\u001b[39m.\u001b[39;49mderiv, initial_state, local_tspan, method\u001b[39m=\u001b[39;49mmethod)\n\u001b[0;32m    224\u001b[0m \u001b[39m# Add the solution to the solutions list.\u001b[39;00m\n\u001b[0;32m    225\u001b[0m solutions\u001b[39m.\u001b[39mappend(\u001b[39mtuple\u001b[39m(s[\u001b[39m1\u001b[39m:] \u001b[39mfor\u001b[39;00m s \u001b[39min\u001b[39;00m local_solution))\n",
      "File \u001b[1;32mc:\\Users\\Anirban\\anaconda3\\envs\\askemv1\\Lib\\site-packages\\torchdiffeq\\_impl\\odeint.py:77\u001b[0m, in \u001b[0;36modeint\u001b[1;34m(func, y0, t, rtol, atol, method, options, event_fn)\u001b[0m\n\u001b[0;32m     74\u001b[0m solver \u001b[39m=\u001b[39m SOLVERS[method](func\u001b[39m=\u001b[39mfunc, y0\u001b[39m=\u001b[39my0, rtol\u001b[39m=\u001b[39mrtol, atol\u001b[39m=\u001b[39matol, \u001b[39m*\u001b[39m\u001b[39m*\u001b[39moptions)\n\u001b[0;32m     76\u001b[0m \u001b[39mif\u001b[39;00m event_fn \u001b[39mis\u001b[39;00m \u001b[39mNone\u001b[39;00m:\n\u001b[1;32m---> 77\u001b[0m     solution \u001b[39m=\u001b[39m solver\u001b[39m.\u001b[39;49mintegrate(t)\n\u001b[0;32m     78\u001b[0m \u001b[39melse\u001b[39;00m:\n\u001b[0;32m     79\u001b[0m     event_t, solution \u001b[39m=\u001b[39m solver\u001b[39m.\u001b[39mintegrate_until_event(t[\u001b[39m0\u001b[39m], event_fn)\n",
      "File \u001b[1;32mc:\\Users\\Anirban\\anaconda3\\envs\\askemv1\\Lib\\site-packages\\torchdiffeq\\_impl\\solvers.py:28\u001b[0m, in \u001b[0;36mAdaptiveStepsizeODESolver.integrate\u001b[1;34m(self, t)\u001b[0m\n\u001b[0;32m     26\u001b[0m solution[\u001b[39m0\u001b[39m] \u001b[39m=\u001b[39m \u001b[39mself\u001b[39m\u001b[39m.\u001b[39my0\n\u001b[0;32m     27\u001b[0m t \u001b[39m=\u001b[39m t\u001b[39m.\u001b[39mto(\u001b[39mself\u001b[39m\u001b[39m.\u001b[39mdtype)\n\u001b[1;32m---> 28\u001b[0m \u001b[39mself\u001b[39;49m\u001b[39m.\u001b[39;49m_before_integrate(t)\n\u001b[0;32m     29\u001b[0m \u001b[39mfor\u001b[39;00m i \u001b[39min\u001b[39;00m \u001b[39mrange\u001b[39m(\u001b[39m1\u001b[39m, \u001b[39mlen\u001b[39m(t)):\n\u001b[0;32m     30\u001b[0m     solution[i] \u001b[39m=\u001b[39m \u001b[39mself\u001b[39m\u001b[39m.\u001b[39m_advance(t[i])\n",
      "File \u001b[1;32mc:\\Users\\Anirban\\anaconda3\\envs\\askemv1\\Lib\\site-packages\\torchdiffeq\\_impl\\rk_common.py:161\u001b[0m, in \u001b[0;36mRKAdaptiveStepsizeODESolver._before_integrate\u001b[1;34m(self, t)\u001b[0m\n\u001b[0;32m    159\u001b[0m \u001b[39mdef\u001b[39;00m \u001b[39m_before_integrate\u001b[39m(\u001b[39mself\u001b[39m, t):\n\u001b[0;32m    160\u001b[0m     t0 \u001b[39m=\u001b[39m t[\u001b[39m0\u001b[39m]\n\u001b[1;32m--> 161\u001b[0m     f0 \u001b[39m=\u001b[39m \u001b[39mself\u001b[39;49m\u001b[39m.\u001b[39;49mfunc(t[\u001b[39m0\u001b[39;49m], \u001b[39mself\u001b[39;49m\u001b[39m.\u001b[39;49my0)\n\u001b[0;32m    162\u001b[0m     \u001b[39mif\u001b[39;00m \u001b[39mself\u001b[39m\u001b[39m.\u001b[39mfirst_step \u001b[39mis\u001b[39;00m \u001b[39mNone\u001b[39;00m:\n\u001b[0;32m    163\u001b[0m         first_step \u001b[39m=\u001b[39m _select_initial_step(\u001b[39mself\u001b[39m\u001b[39m.\u001b[39mfunc, t[\u001b[39m0\u001b[39m], \u001b[39mself\u001b[39m\u001b[39m.\u001b[39my0, \u001b[39mself\u001b[39m\u001b[39m.\u001b[39morder \u001b[39m-\u001b[39m \u001b[39m1\u001b[39m, \u001b[39mself\u001b[39m\u001b[39m.\u001b[39mrtol, \u001b[39mself\u001b[39m\u001b[39m.\u001b[39matol,\n\u001b[0;32m    164\u001b[0m                                           \u001b[39mself\u001b[39m\u001b[39m.\u001b[39mnorm, f0\u001b[39m=\u001b[39mf0)\n",
      "File \u001b[1;32mc:\\Users\\Anirban\\anaconda3\\envs\\askemv1\\Lib\\site-packages\\torch\\nn\\modules\\module.py:1501\u001b[0m, in \u001b[0;36mModule._call_impl\u001b[1;34m(self, *args, **kwargs)\u001b[0m\n\u001b[0;32m   1496\u001b[0m \u001b[39m# If we don't have any hooks, we want to skip the rest of the logic in\u001b[39;00m\n\u001b[0;32m   1497\u001b[0m \u001b[39m# this function, and just call forward.\u001b[39;00m\n\u001b[0;32m   1498\u001b[0m \u001b[39mif\u001b[39;00m \u001b[39mnot\u001b[39;00m (\u001b[39mself\u001b[39m\u001b[39m.\u001b[39m_backward_hooks \u001b[39mor\u001b[39;00m \u001b[39mself\u001b[39m\u001b[39m.\u001b[39m_backward_pre_hooks \u001b[39mor\u001b[39;00m \u001b[39mself\u001b[39m\u001b[39m.\u001b[39m_forward_hooks \u001b[39mor\u001b[39;00m \u001b[39mself\u001b[39m\u001b[39m.\u001b[39m_forward_pre_hooks\n\u001b[0;32m   1499\u001b[0m         \u001b[39mor\u001b[39;00m _global_backward_pre_hooks \u001b[39mor\u001b[39;00m _global_backward_hooks\n\u001b[0;32m   1500\u001b[0m         \u001b[39mor\u001b[39;00m _global_forward_hooks \u001b[39mor\u001b[39;00m _global_forward_pre_hooks):\n\u001b[1;32m-> 1501\u001b[0m     \u001b[39mreturn\u001b[39;00m forward_call(\u001b[39m*\u001b[39;49margs, \u001b[39m*\u001b[39;49m\u001b[39m*\u001b[39;49mkwargs)\n\u001b[0;32m   1502\u001b[0m \u001b[39m# Do not call functions when jit is used\u001b[39;00m\n\u001b[0;32m   1503\u001b[0m full_backward_hooks, non_full_backward_hooks \u001b[39m=\u001b[39m [], []\n",
      "File \u001b[1;32mc:\\Users\\Anirban\\anaconda3\\envs\\askemv1\\Lib\\site-packages\\torchdiffeq\\_impl\\misc.py:189\u001b[0m, in \u001b[0;36m_PerturbFunc.forward\u001b[1;34m(self, t, y, perturb)\u001b[0m\n\u001b[0;32m    186\u001b[0m \u001b[39melse\u001b[39;00m:\n\u001b[0;32m    187\u001b[0m     \u001b[39m# Do nothing.\u001b[39;00m\n\u001b[0;32m    188\u001b[0m     \u001b[39mpass\u001b[39;00m\n\u001b[1;32m--> 189\u001b[0m \u001b[39mreturn\u001b[39;00m \u001b[39mself\u001b[39;49m\u001b[39m.\u001b[39;49mbase_func(t, y)\n",
      "File \u001b[1;32mc:\\Users\\Anirban\\anaconda3\\envs\\askemv1\\Lib\\site-packages\\torch\\nn\\modules\\module.py:1501\u001b[0m, in \u001b[0;36mModule._call_impl\u001b[1;34m(self, *args, **kwargs)\u001b[0m\n\u001b[0;32m   1496\u001b[0m \u001b[39m# If we don't have any hooks, we want to skip the rest of the logic in\u001b[39;00m\n\u001b[0;32m   1497\u001b[0m \u001b[39m# this function, and just call forward.\u001b[39;00m\n\u001b[0;32m   1498\u001b[0m \u001b[39mif\u001b[39;00m \u001b[39mnot\u001b[39;00m (\u001b[39mself\u001b[39m\u001b[39m.\u001b[39m_backward_hooks \u001b[39mor\u001b[39;00m \u001b[39mself\u001b[39m\u001b[39m.\u001b[39m_backward_pre_hooks \u001b[39mor\u001b[39;00m \u001b[39mself\u001b[39m\u001b[39m.\u001b[39m_forward_hooks \u001b[39mor\u001b[39;00m \u001b[39mself\u001b[39m\u001b[39m.\u001b[39m_forward_pre_hooks\n\u001b[0;32m   1499\u001b[0m         \u001b[39mor\u001b[39;00m _global_backward_pre_hooks \u001b[39mor\u001b[39;00m _global_backward_hooks\n\u001b[0;32m   1500\u001b[0m         \u001b[39mor\u001b[39;00m _global_forward_hooks \u001b[39mor\u001b[39;00m _global_forward_pre_hooks):\n\u001b[1;32m-> 1501\u001b[0m     \u001b[39mreturn\u001b[39;00m forward_call(\u001b[39m*\u001b[39;49margs, \u001b[39m*\u001b[39;49m\u001b[39m*\u001b[39;49mkwargs)\n\u001b[0;32m   1502\u001b[0m \u001b[39m# Do not call functions when jit is used\u001b[39;00m\n\u001b[0;32m   1503\u001b[0m full_backward_hooks, non_full_backward_hooks \u001b[39m=\u001b[39m [], []\n",
      "File \u001b[1;32mc:\\Users\\Anirban\\anaconda3\\envs\\askemv1\\Lib\\site-packages\\torchdiffeq\\_impl\\misc.py:138\u001b[0m, in \u001b[0;36m_TupleFunc.forward\u001b[1;34m(self, t, y)\u001b[0m\n\u001b[0;32m    137\u001b[0m \u001b[39mdef\u001b[39;00m \u001b[39mforward\u001b[39m(\u001b[39mself\u001b[39m, t, y):\n\u001b[1;32m--> 138\u001b[0m     f \u001b[39m=\u001b[39m \u001b[39mself\u001b[39;49m\u001b[39m.\u001b[39;49mbase_func(t, _flat_to_shape(y, (), \u001b[39mself\u001b[39;49m\u001b[39m.\u001b[39;49mshapes))\n\u001b[0;32m    139\u001b[0m     \u001b[39mreturn\u001b[39;00m torch\u001b[39m.\u001b[39mcat([f_\u001b[39m.\u001b[39mreshape(\u001b[39m-\u001b[39m\u001b[39m1\u001b[39m) \u001b[39mfor\u001b[39;00m f_ \u001b[39min\u001b[39;00m f])\n",
      "File \u001b[1;32mc:\\Users\\Anirban\\anaconda3\\envs\\askemv1\\Lib\\site-packages\\pyro\\nn\\module.py:686\u001b[0m, in \u001b[0;36mpyro_method.<locals>.cached_fn\u001b[1;34m(self, *args, **kwargs)\u001b[0m\n\u001b[0;32m    683\u001b[0m \u001b[39m@functools\u001b[39m\u001b[39m.\u001b[39mwraps(fn)\n\u001b[0;32m    684\u001b[0m \u001b[39mdef\u001b[39;00m \u001b[39mcached_fn\u001b[39m(\u001b[39mself\u001b[39m, \u001b[39m*\u001b[39margs, \u001b[39m*\u001b[39m\u001b[39m*\u001b[39mkwargs):\n\u001b[0;32m    685\u001b[0m     \u001b[39mwith\u001b[39;00m \u001b[39mself\u001b[39m\u001b[39m.\u001b[39m_pyro_context:\n\u001b[1;32m--> 686\u001b[0m         \u001b[39mreturn\u001b[39;00m fn(\u001b[39mself\u001b[39;49m, \u001b[39m*\u001b[39;49margs, \u001b[39m*\u001b[39;49m\u001b[39m*\u001b[39;49mkwargs)\n",
      "File \u001b[1;32m~\\Documents\\GitHub\\pyciemss\\src\\pyciemss\\PetriNetODE\\base.py:469\u001b[0m, in \u001b[0;36mMiraPetriNetODESystem.deriv\u001b[1;34m(self, t, state)\u001b[0m\n\u001b[0;32m    466\u001b[0m     parameters \u001b[39m=\u001b[39m {k: \u001b[39mgetattr\u001b[39m (\u001b[39mself\u001b[39m, k) \u001b[39mfor\u001b[39;00m k \u001b[39min\u001b[39;00m \u001b[39mself\u001b[39m\u001b[39m.\u001b[39mG\u001b[39m.\u001b[39mparameters}\n\u001b[0;32m    468\u001b[0m     \u001b[39m# Evaluate the rate laws for each transition\u001b[39;00m\n\u001b[1;32m--> 469\u001b[0m     deriv_tensor \u001b[39m=\u001b[39m \u001b[39mself\u001b[39;49m\u001b[39m.\u001b[39;49mcompiled_rate_law(\u001b[39m*\u001b[39;49m\u001b[39m*\u001b[39;49mstates, \u001b[39m*\u001b[39;49m\u001b[39m*\u001b[39;49mparameters, \u001b[39m*\u001b[39;49m\u001b[39m*\u001b[39;49m\u001b[39mdict\u001b[39;49m(t\u001b[39m=\u001b[39;49mt))\n\u001b[0;32m    470\u001b[0m     \u001b[39mreturn\u001b[39;00m \u001b[39mtuple\u001b[39m(deriv_tensor[i] \u001b[39mfor\u001b[39;00m i \u001b[39min\u001b[39;00m \u001b[39mrange\u001b[39m(deriv_tensor\u001b[39m.\u001b[39mshape[\u001b[39m0\u001b[39m]))\n\u001b[0;32m    471\u001b[0m \u001b[39melse\u001b[39;00m:\n",
      "File \u001b[1;32mc:\\Users\\Anirban\\anaconda3\\envs\\askemv1\\Lib\\site-packages\\torch\\nn\\modules\\module.py:1501\u001b[0m, in \u001b[0;36mModule._call_impl\u001b[1;34m(self, *args, **kwargs)\u001b[0m\n\u001b[0;32m   1496\u001b[0m \u001b[39m# If we don't have any hooks, we want to skip the rest of the logic in\u001b[39;00m\n\u001b[0;32m   1497\u001b[0m \u001b[39m# this function, and just call forward.\u001b[39;00m\n\u001b[0;32m   1498\u001b[0m \u001b[39mif\u001b[39;00m \u001b[39mnot\u001b[39;00m (\u001b[39mself\u001b[39m\u001b[39m.\u001b[39m_backward_hooks \u001b[39mor\u001b[39;00m \u001b[39mself\u001b[39m\u001b[39m.\u001b[39m_backward_pre_hooks \u001b[39mor\u001b[39;00m \u001b[39mself\u001b[39m\u001b[39m.\u001b[39m_forward_hooks \u001b[39mor\u001b[39;00m \u001b[39mself\u001b[39m\u001b[39m.\u001b[39m_forward_pre_hooks\n\u001b[0;32m   1499\u001b[0m         \u001b[39mor\u001b[39;00m _global_backward_pre_hooks \u001b[39mor\u001b[39;00m _global_backward_hooks\n\u001b[0;32m   1500\u001b[0m         \u001b[39mor\u001b[39;00m _global_forward_hooks \u001b[39mor\u001b[39;00m _global_forward_pre_hooks):\n\u001b[1;32m-> 1501\u001b[0m     \u001b[39mreturn\u001b[39;00m forward_call(\u001b[39m*\u001b[39;49margs, \u001b[39m*\u001b[39;49m\u001b[39m*\u001b[39;49mkwargs)\n\u001b[0;32m   1502\u001b[0m \u001b[39m# Do not call functions when jit is used\u001b[39;00m\n\u001b[0;32m   1503\u001b[0m full_backward_hooks, non_full_backward_hooks \u001b[39m=\u001b[39m [], []\n",
      "File \u001b[1;32mc:\\Users\\Anirban\\anaconda3\\envs\\askemv1\\Lib\\site-packages\\sympytorch\\sympy_module.py:190\u001b[0m, in \u001b[0;36mSymPyModule.forward\u001b[1;34m(self, **symbols)\u001b[0m\n\u001b[0;32m    189\u001b[0m \u001b[39mdef\u001b[39;00m \u001b[39mforward\u001b[39m(\u001b[39mself\u001b[39m, \u001b[39m*\u001b[39m\u001b[39m*\u001b[39msymbols):\n\u001b[1;32m--> 190\u001b[0m     out \u001b[39m=\u001b[39m [node(symbols) \u001b[39mfor\u001b[39;49;00m node \u001b[39min\u001b[39;49;00m \u001b[39mself\u001b[39;49m\u001b[39m.\u001b[39;49m_nodes]\n\u001b[0;32m    191\u001b[0m     out \u001b[39m=\u001b[39m torch\u001b[39m.\u001b[39mbroadcast_tensors(\u001b[39m*\u001b[39mout)\n\u001b[0;32m    192\u001b[0m     \u001b[39mreturn\u001b[39;00m torch\u001b[39m.\u001b[39mstack(out, dim\u001b[39m=\u001b[39m\u001b[39m-\u001b[39m\u001b[39m1\u001b[39m)\n",
      "File \u001b[1;32mc:\\Users\\Anirban\\anaconda3\\envs\\askemv1\\Lib\\site-packages\\sympytorch\\sympy_module.py:190\u001b[0m, in \u001b[0;36m<listcomp>\u001b[1;34m(.0)\u001b[0m\n\u001b[0;32m    189\u001b[0m \u001b[39mdef\u001b[39;00m \u001b[39mforward\u001b[39m(\u001b[39mself\u001b[39m, \u001b[39m*\u001b[39m\u001b[39m*\u001b[39msymbols):\n\u001b[1;32m--> 190\u001b[0m     out \u001b[39m=\u001b[39m [node(symbols) \u001b[39mfor\u001b[39;00m node \u001b[39min\u001b[39;00m \u001b[39mself\u001b[39m\u001b[39m.\u001b[39m_nodes]\n\u001b[0;32m    191\u001b[0m     out \u001b[39m=\u001b[39m torch\u001b[39m.\u001b[39mbroadcast_tensors(\u001b[39m*\u001b[39mout)\n\u001b[0;32m    192\u001b[0m     \u001b[39mreturn\u001b[39;00m torch\u001b[39m.\u001b[39mstack(out, dim\u001b[39m=\u001b[39m\u001b[39m-\u001b[39m\u001b[39m1\u001b[39m)\n",
      "File \u001b[1;32mc:\\Users\\Anirban\\anaconda3\\envs\\askemv1\\Lib\\site-packages\\torch\\nn\\modules\\module.py:1501\u001b[0m, in \u001b[0;36mModule._call_impl\u001b[1;34m(self, *args, **kwargs)\u001b[0m\n\u001b[0;32m   1496\u001b[0m \u001b[39m# If we don't have any hooks, we want to skip the rest of the logic in\u001b[39;00m\n\u001b[0;32m   1497\u001b[0m \u001b[39m# this function, and just call forward.\u001b[39;00m\n\u001b[0;32m   1498\u001b[0m \u001b[39mif\u001b[39;00m \u001b[39mnot\u001b[39;00m (\u001b[39mself\u001b[39m\u001b[39m.\u001b[39m_backward_hooks \u001b[39mor\u001b[39;00m \u001b[39mself\u001b[39m\u001b[39m.\u001b[39m_backward_pre_hooks \u001b[39mor\u001b[39;00m \u001b[39mself\u001b[39m\u001b[39m.\u001b[39m_forward_hooks \u001b[39mor\u001b[39;00m \u001b[39mself\u001b[39m\u001b[39m.\u001b[39m_forward_pre_hooks\n\u001b[0;32m   1499\u001b[0m         \u001b[39mor\u001b[39;00m _global_backward_pre_hooks \u001b[39mor\u001b[39;00m _global_backward_hooks\n\u001b[0;32m   1500\u001b[0m         \u001b[39mor\u001b[39;00m _global_forward_hooks \u001b[39mor\u001b[39;00m _global_forward_pre_hooks):\n\u001b[1;32m-> 1501\u001b[0m     \u001b[39mreturn\u001b[39;00m forward_call(\u001b[39m*\u001b[39;49margs, \u001b[39m*\u001b[39;49m\u001b[39m*\u001b[39;49mkwargs)\n\u001b[0;32m   1502\u001b[0m \u001b[39m# Do not call functions when jit is used\u001b[39;00m\n\u001b[0;32m   1503\u001b[0m full_backward_hooks, non_full_backward_hooks \u001b[39m=\u001b[39m [], []\n",
      "File \u001b[1;32mc:\\Users\\Anirban\\anaconda3\\envs\\askemv1\\Lib\\site-packages\\sympytorch\\sympy_module.py:160\u001b[0m, in \u001b[0;36m_Node.forward\u001b[1;34m(self, memodict)\u001b[0m\n\u001b[0;32m    158\u001b[0m     arg_ \u001b[39m=\u001b[39m memodict[arg]\n\u001b[0;32m    159\u001b[0m \u001b[39mexcept\u001b[39;00m \u001b[39mKeyError\u001b[39;00m:\n\u001b[1;32m--> 160\u001b[0m     arg_ \u001b[39m=\u001b[39m arg(memodict)\n\u001b[0;32m    161\u001b[0m     memodict[arg] \u001b[39m=\u001b[39m arg_\n\u001b[0;32m    162\u001b[0m args\u001b[39m.\u001b[39mappend(arg_)\n",
      "File \u001b[1;32mc:\\Users\\Anirban\\anaconda3\\envs\\askemv1\\Lib\\site-packages\\torch\\nn\\modules\\module.py:1501\u001b[0m, in \u001b[0;36mModule._call_impl\u001b[1;34m(self, *args, **kwargs)\u001b[0m\n\u001b[0;32m   1496\u001b[0m \u001b[39m# If we don't have any hooks, we want to skip the rest of the logic in\u001b[39;00m\n\u001b[0;32m   1497\u001b[0m \u001b[39m# this function, and just call forward.\u001b[39;00m\n\u001b[0;32m   1498\u001b[0m \u001b[39mif\u001b[39;00m \u001b[39mnot\u001b[39;00m (\u001b[39mself\u001b[39m\u001b[39m.\u001b[39m_backward_hooks \u001b[39mor\u001b[39;00m \u001b[39mself\u001b[39m\u001b[39m.\u001b[39m_backward_pre_hooks \u001b[39mor\u001b[39;00m \u001b[39mself\u001b[39m\u001b[39m.\u001b[39m_forward_hooks \u001b[39mor\u001b[39;00m \u001b[39mself\u001b[39m\u001b[39m.\u001b[39m_forward_pre_hooks\n\u001b[0;32m   1499\u001b[0m         \u001b[39mor\u001b[39;00m _global_backward_pre_hooks \u001b[39mor\u001b[39;00m _global_backward_hooks\n\u001b[0;32m   1500\u001b[0m         \u001b[39mor\u001b[39;00m _global_forward_hooks \u001b[39mor\u001b[39;00m _global_forward_pre_hooks):\n\u001b[1;32m-> 1501\u001b[0m     \u001b[39mreturn\u001b[39;00m forward_call(\u001b[39m*\u001b[39;49margs, \u001b[39m*\u001b[39;49m\u001b[39m*\u001b[39;49mkwargs)\n\u001b[0;32m   1502\u001b[0m \u001b[39m# Do not call functions when jit is used\u001b[39;00m\n\u001b[0;32m   1503\u001b[0m full_backward_hooks, non_full_backward_hooks \u001b[39m=\u001b[39m [], []\n",
      "File \u001b[1;32mc:\\Users\\Anirban\\anaconda3\\envs\\askemv1\\Lib\\site-packages\\sympytorch\\sympy_module.py:160\u001b[0m, in \u001b[0;36m_Node.forward\u001b[1;34m(self, memodict)\u001b[0m\n\u001b[0;32m    158\u001b[0m     arg_ \u001b[39m=\u001b[39m memodict[arg]\n\u001b[0;32m    159\u001b[0m \u001b[39mexcept\u001b[39;00m \u001b[39mKeyError\u001b[39;00m:\n\u001b[1;32m--> 160\u001b[0m     arg_ \u001b[39m=\u001b[39m arg(memodict)\n\u001b[0;32m    161\u001b[0m     memodict[arg] \u001b[39m=\u001b[39m arg_\n\u001b[0;32m    162\u001b[0m args\u001b[39m.\u001b[39mappend(arg_)\n",
      "File \u001b[1;32mc:\\Users\\Anirban\\anaconda3\\envs\\askemv1\\Lib\\site-packages\\torch\\nn\\modules\\module.py:1501\u001b[0m, in \u001b[0;36mModule._call_impl\u001b[1;34m(self, *args, **kwargs)\u001b[0m\n\u001b[0;32m   1496\u001b[0m \u001b[39m# If we don't have any hooks, we want to skip the rest of the logic in\u001b[39;00m\n\u001b[0;32m   1497\u001b[0m \u001b[39m# this function, and just call forward.\u001b[39;00m\n\u001b[0;32m   1498\u001b[0m \u001b[39mif\u001b[39;00m \u001b[39mnot\u001b[39;00m (\u001b[39mself\u001b[39m\u001b[39m.\u001b[39m_backward_hooks \u001b[39mor\u001b[39;00m \u001b[39mself\u001b[39m\u001b[39m.\u001b[39m_backward_pre_hooks \u001b[39mor\u001b[39;00m \u001b[39mself\u001b[39m\u001b[39m.\u001b[39m_forward_hooks \u001b[39mor\u001b[39;00m \u001b[39mself\u001b[39m\u001b[39m.\u001b[39m_forward_pre_hooks\n\u001b[0;32m   1499\u001b[0m         \u001b[39mor\u001b[39;00m _global_backward_pre_hooks \u001b[39mor\u001b[39;00m _global_backward_hooks\n\u001b[0;32m   1500\u001b[0m         \u001b[39mor\u001b[39;00m _global_forward_hooks \u001b[39mor\u001b[39;00m _global_forward_pre_hooks):\n\u001b[1;32m-> 1501\u001b[0m     \u001b[39mreturn\u001b[39;00m forward_call(\u001b[39m*\u001b[39;49margs, \u001b[39m*\u001b[39;49m\u001b[39m*\u001b[39;49mkwargs)\n\u001b[0;32m   1502\u001b[0m \u001b[39m# Do not call functions when jit is used\u001b[39;00m\n\u001b[0;32m   1503\u001b[0m full_backward_hooks, non_full_backward_hooks \u001b[39m=\u001b[39m [], []\n",
      "File \u001b[1;32mc:\\Users\\Anirban\\anaconda3\\envs\\askemv1\\Lib\\site-packages\\sympytorch\\sympy_module.py:160\u001b[0m, in \u001b[0;36m_Node.forward\u001b[1;34m(self, memodict)\u001b[0m\n\u001b[0;32m    158\u001b[0m     arg_ \u001b[39m=\u001b[39m memodict[arg]\n\u001b[0;32m    159\u001b[0m \u001b[39mexcept\u001b[39;00m \u001b[39mKeyError\u001b[39;00m:\n\u001b[1;32m--> 160\u001b[0m     arg_ \u001b[39m=\u001b[39m arg(memodict)\n\u001b[0;32m    161\u001b[0m     memodict[arg] \u001b[39m=\u001b[39m arg_\n\u001b[0;32m    162\u001b[0m args\u001b[39m.\u001b[39mappend(arg_)\n",
      "File \u001b[1;32mc:\\Users\\Anirban\\anaconda3\\envs\\askemv1\\Lib\\site-packages\\sympytorch\\sympy_module.py:106\u001b[0m, in \u001b[0;36m_Node.__init__.<locals>.<lambda>\u001b[1;34m(memodict)\u001b[0m\n\u001b[0;32m    104\u001b[0m     \u001b[39mself\u001b[39m\u001b[39m.\u001b[39m_name \u001b[39m=\u001b[39m expr\u001b[39m.\u001b[39mname\n\u001b[0;32m    105\u001b[0m     \u001b[39mself\u001b[39m\u001b[39m.\u001b[39m_torch_func \u001b[39m=\u001b[39m \u001b[39mlambda\u001b[39;00m value: value\n\u001b[1;32m--> 106\u001b[0m     \u001b[39mself\u001b[39m\u001b[39m.\u001b[39m_args \u001b[39m=\u001b[39m ((\u001b[39mlambda\u001b[39;00m memodict: memodict[expr\u001b[39m.\u001b[39;49mname]),)\n\u001b[0;32m    107\u001b[0m \u001b[39melse\u001b[39;00m:\n\u001b[0;32m    108\u001b[0m     \u001b[39mself\u001b[39m\u001b[39m.\u001b[39m_torch_func \u001b[39m=\u001b[39m _func_lookup[expr\u001b[39m.\u001b[39mfunc]\n",
      "\u001b[1;31mKeyError\u001b[0m: 'I'"
     ]
    }
   ],
   "source": [
    "num_samples = 3\n",
    "timepoints = [0.5, 1.0, 2.0, 3.0, 4.0]\n",
    "\n",
    "# Run sampling w/o an intervention\n",
    "samples = load_and_sample_petri_model(ASKENET_PATH, num_samples, timepoints=timepoints)\n",
    "\n",
    "# Save results\n",
    "samples.to_csv(os.path.join(DEMO_PATH, \"results_petri/sample_results.csv\"), index=False)"
   ]
  },
  {
   "cell_type": "code",
   "execution_count": null,
   "metadata": {
    "scrolled": true
   },
   "outputs": [],
   "source": [
    "interventions = [(1.1, \"beta\", 1.0), (2.1, \"gamma\", 0.1), (1.3, \"beta\", 2.0), (1.4, \"gamma\", 0.3)]\n",
    "\n",
    "intervened_samples = load_and_sample_petri_model(\n",
    "    ASKENET_PATH, num_samples, timepoints=timepoints, interventions=interventions\n",
    ")\n",
    "\n",
    "\n",
    "# Save results\n",
    "intervened_samples.to_csv(\n",
    "    os.path.join(DEMO_PATH, \"results_petri/sample_results_w_interventions.csv\"),\n",
    "    index=False,\n",
    ")"
   ]
  },
  {
   "attachments": {},
   "cell_type": "markdown",
   "metadata": {},
   "source": [
    "## load_and_calibrate_and_sample_petri_model"
   ]
  },
  {
   "cell_type": "code",
   "execution_count": null,
   "metadata": {},
   "outputs": [
    {
     "name": "stdout",
     "output_type": "stream",
     "text": [
      "iteration 0: loss = 62.12709617614746\n",
      "iteration 25: loss = 60.099618911743164\n",
      "iteration 50: loss = 58.367534935474396\n",
      "iteration 75: loss = 57.764896750450134\n",
      "iteration 100: loss = 56.60384750366211\n",
      "iteration 125: loss = 56.626110792160034\n",
      "iteration 150: loss = 56.81937026977539\n",
      "iteration 175: loss = 56.734710931777954\n",
      "iteration 200: loss = 56.507239818573\n",
      "iteration 225: loss = 56.81278920173645\n",
      "iteration 250: loss = 56.38322448730469\n",
      "iteration 275: loss = 56.98680853843689\n",
      "iteration 300: loss = 56.82800793647766\n",
      "iteration 325: loss = 56.91287016868591\n",
      "iteration 350: loss = 56.571919679641724\n",
      "iteration 375: loss = 56.62337040901184\n",
      "iteration 400: loss = 56.986464977264404\n",
      "iteration 425: loss = 56.08261704444885\n",
      "iteration 450: loss = 56.555689573287964\n",
      "iteration 475: loss = 56.814436197280884\n",
      "iteration 500: loss = 56.36864924430847\n",
      "iteration 525: loss = 56.35692620277405\n",
      "iteration 550: loss = 56.53825569152832\n",
      "iteration 575: loss = 56.52056694030762\n",
      "iteration 600: loss = 56.57140803337097\n",
      "iteration 625: loss = 56.3572359085083\n",
      "iteration 650: loss = 56.788116693496704\n",
      "iteration 675: loss = 56.779704332351685\n",
      "iteration 700: loss = 56.59728670120239\n",
      "iteration 725: loss = 56.58475613594055\n",
      "iteration 750: loss = 56.811803579330444\n",
      "iteration 775: loss = 56.95957016944885\n",
      "iteration 800: loss = 56.53050971031189\n",
      "iteration 825: loss = 57.138880014419556\n",
      "iteration 850: loss = 56.93205904960632\n",
      "iteration 875: loss = 56.596068143844604\n",
      "iteration 900: loss = 56.303569078445435\n",
      "iteration 925: loss = 56.353702545166016\n",
      "iteration 950: loss = 56.812726736068726\n",
      "iteration 975: loss = 56.6675009727478\n"
     ]
    }
   ],
   "source": [
    "data_path = os.path.join(DEMO_PATH, \"data.csv\")\n",
    "num_samples = 100\n",
    "timepoints = [0.0, 1.0, 2.0, 3.0, 4.0]\n",
    "\n",
    "# Run the calibration and sampling\n",
    "calibrated_samples = load_and_calibrate_and_sample_petri_model(\n",
    "    ASKENET_PATH,\n",
    "    data_path,\n",
    "    num_samples,\n",
    "    timepoints=timepoints,\n",
    "    verbose=True,\n",
    ")\n",
    "\n",
    "# Save results\n",
    "calibrated_samples.to_csv(\n",
    "    os.path.join(DEMO_PATH, \"results_petri/calibrated_sample_results.csv\"), index=False\n",
    ")"
   ]
  },
  {
   "cell_type": "markdown",
   "metadata": {},
   "source": [
    "## load_and_optimize_and_sample_petri_model"
   ]
  },
  {
   "cell_type": "code",
   "execution_count": null,
   "metadata": {},
   "outputs": [
    {
     "name": "stdout",
     "output_type": "stream",
     "text": [
      "Time taken: (2.19e-01 seconds per model evaluation).\n",
      "Performing risk-based optimization under uncertainty (using alpha-superquantile)\n",
      "Estimated wait time 1643.2 seconds...\n",
      "Optimization completed in time 302.05 seconds.\n",
      "Optimal policy:\t0.0\n",
      "Post-processing optimal policy...\n",
      "Estimated risk at optimal policy [0.7047186017036438]\n",
      "Optimal policy: 0.0\n",
      "Estimated risk at optimal policy [0.7047186017036438]\n"
     ]
    }
   ],
   "source": [
    "num_samples = 100\n",
    "timepoints = [0.0, 1.0, 2.0, 3.0, 4.0]\n",
    "\n",
    "# Run the calibration and sampling\n",
    "OBJFUN = lambda x: np.abs(x)\n",
    "INTERVENTION = [(0.1, \"beta\")]\n",
    "QOI = (\"scenario2dec_nday_average\", \"Infected_sol\", 2)\n",
    "ouu_samples, opt_policy = load_and_optimize_and_sample_petri_model(\n",
    "    ASKENET_PATH,\n",
    "    num_samples,\n",
    "    timepoints=timepoints,\n",
    "    interventions=INTERVENTION,\n",
    "    qoi=QOI,\n",
    "    risk_bound=10.,\n",
    "    objfun=OBJFUN,\n",
    "    initial_guess=0.02,\n",
    "    bounds=[[0.],[3.]],\n",
    "    verbose=True,\n",
    ")\n",
    "\n",
    "# Save results\n",
    "ouu_samples.to_csv(\n",
    "    os.path.join(DEMO_PATH, \"results_petri/optimize_sample_results.csv\"), index=False\n",
    ")\n",
    "print(\"Optimal policy:\", opt_policy[\"policy\"])\n",
    "print(\"Estimated risk at optimal policy\", opt_policy[\"risk\"])"
   ]
  },
  {
   "cell_type": "markdown",
   "metadata": {},
   "source": [
    "## load_and_calibrate_and_optimize_and_sample_petri_model"
   ]
  },
  {
   "cell_type": "code",
   "execution_count": null,
   "metadata": {},
   "outputs": [
    {
     "name": "stdout",
     "output_type": "stream",
     "text": [
      "iteration 0: loss = 37.5659122467041\n",
      "iteration 25: loss = 35.41392183303833\n",
      "iteration 50: loss = 33.67425513267517\n",
      "iteration 75: loss = 32.595038652420044\n",
      "iteration 100: loss = 33.10420513153076\n",
      "iteration 125: loss = 32.42216110229492\n",
      "iteration 150: loss = 33.292160987854004\n",
      "iteration 175: loss = 31.957093477249146\n",
      "iteration 200: loss = 32.40791869163513\n",
      "iteration 225: loss = 32.1630494594574\n",
      "iteration 250: loss = 32.64620661735535\n",
      "iteration 275: loss = 32.447582960128784\n",
      "iteration 300: loss = 32.42112612724304\n",
      "iteration 325: loss = 32.70798373222351\n",
      "iteration 350: loss = 32.1295063495636\n",
      "iteration 375: loss = 32.78153920173645\n",
      "iteration 400: loss = 32.15399241447449\n",
      "iteration 425: loss = 32.18069672584534\n",
      "iteration 450: loss = 32.34887766838074\n",
      "iteration 475: loss = 32.39561104774475\n",
      "iteration 500: loss = 32.51458191871643\n",
      "iteration 525: loss = 32.285157680511475\n",
      "iteration 550: loss = 32.21916651725769\n",
      "iteration 575: loss = 32.54395031929016\n",
      "iteration 600: loss = 32.487563133239746\n",
      "iteration 625: loss = 32.54312562942505\n",
      "iteration 650: loss = 31.965022087097168\n",
      "iteration 675: loss = 32.316070318222046\n",
      "iteration 700: loss = 32.36382842063904\n",
      "iteration 725: loss = 32.52105975151062\n",
      "iteration 750: loss = 32.83406376838684\n",
      "iteration 775: loss = 32.393730878829956\n",
      "iteration 800: loss = 32.43019080162048\n",
      "iteration 825: loss = 32.3959174156189\n",
      "iteration 850: loss = 32.112430572509766\n",
      "iteration 875: loss = 32.36790990829468\n",
      "iteration 900: loss = 32.66983437538147\n",
      "iteration 925: loss = 32.438520669937134\n",
      "iteration 950: loss = 32.27924203872681\n",
      "iteration 975: loss = 32.38777709007263\n",
      "Time taken: (1.62e-01 seconds per model evaluation).\n",
      "Performing risk-based optimization under uncertainty (using alpha-superquantile)\n",
      "Estimated wait time 1214.8 seconds...\n",
      "Optimization completed in time 325.88 seconds.\n",
      "Optimal policy:\t0.0\n",
      "Post-processing optimal policy...\n",
      "Estimated risk at optimal policy [0.7005741119384765]\n",
      "Optimal policy after calibration: 0.0\n",
      "Estimated risk at optimal policy after calibration [0.7005741119384765]\n"
     ]
    }
   ],
   "source": [
    "data_path = os.path.join(DEMO_PATH, \"data.csv\")\n",
    "num_samples = 100\n",
    "timepoints = [0.0, 1.0, 2.0, 3.0, 4.0]\n",
    "\n",
    "# Run the calibration and sampling\n",
    "OBJFUN = lambda x: np.abs(x)\n",
    "INTERVENTION = [(0.1, \"beta\")]\n",
    "QOI = (\"scenario2dec_nday_average\", \"Infected_sol\", 2)\n",
    "ouu_cal_samples, opt_cal_policy = load_and_calibrate_and_optimize_and_sample_petri_model(\n",
    "    ASKENET_PATH,\n",
    "    data_path,\n",
    "    num_samples,\n",
    "    timepoints=timepoints,\n",
    "    interventions=INTERVENTION,\n",
    "    qoi=QOI,\n",
    "    risk_bound=10.,\n",
    "    objfun=OBJFUN,\n",
    "    initial_guess=0.02,\n",
    "    bounds=[[0.],[3.]],\n",
    "    verbose=True,\n",
    ")\n",
    "\n",
    "# Save results\n",
    "ouu_cal_samples.to_csv(\n",
    "    os.path.join(DEMO_PATH, \"results_petri/calibrate_optimize_sample_results.csv\"), index=False\n",
    ")\n",
    "print(\"Optimal policy after calibration:\", opt_policy[\"policy\"])\n",
    "print(\"Estimated risk at optimal policy after calibration\", opt_policy[\"risk\"])"
   ]
  }
 ],
 "metadata": {
  "kernelspec": {
   "display_name": "pyciemss-main",
   "language": "python",
   "name": "pyciemss-main"
  },
  "language_info": {
   "codemirror_mode": {
    "name": "ipython",
    "version": 3
   },
   "file_extension": ".py",
   "mimetype": "text/x-python",
   "name": "python",
   "nbconvert_exporter": "python",
   "pygments_lexer": "ipython3",
   "version": "3.10.9"
  }
 },
 "nbformat": 4,
 "nbformat_minor": 4
}
