{
 "cells": [
  {
   "cell_type": "code",
   "execution_count": 1,
   "metadata": {},
   "outputs": [],
   "source": [
    "import os\n",
    "from pyciemss.PetriNetODE.interfaces import (\n",
    "    load_and_sample_petri_model,\n",
    "    load_and_calibrate_and_sample_petri_model,\n",
    ")"
   ]
  },
  {
   "cell_type": "code",
   "execution_count": 7,
   "metadata": {},
   "outputs": [],
   "source": [
    "DEMO_PATH = \"notebook/integration_demo/\"\n",
    "\n",
    "askenet_filename = \"askenet_sir.json\"\n",
    "askenet_filepath = os.path.join(DEMO_PATH, askenet_filename)"
   ]
  },
  {
   "attachments": {},
   "cell_type": "markdown",
   "metadata": {},
   "source": [
    "## load_and_sample_petri_model"
   ]
  },
  {
   "cell_type": "code",
   "execution_count": 8,
   "metadata": {},
   "outputs": [],
   "source": [
    "num_samples = 100\n",
    "timepoints = [0.0, 1.0, 2.0, 3.0, 4.0]\n",
    "\n",
    "# Run sampling\n",
    "samples = load_and_sample_petri_model(\n",
    "    askenet_filepath, num_samples, timepoints=timepoints, add_uncertainty=True\n",
    ")\n",
    "\n",
    "# Save results\n",
    "samples.to_csv(os.path.join(DEMO_PATH, \"results_petri/sample_results.csv\"), index=False)"
   ]
  },
  {
   "attachments": {},
   "cell_type": "markdown",
   "metadata": {},
   "source": [
    "## load_and_calibrate_and_sample_petri_model"
   ]
  },
  {
   "cell_type": "code",
   "execution_count": 9,
   "metadata": {},
   "outputs": [
    {
     "name": "stdout",
     "output_type": "stream",
     "text": [
      "iteration 0: loss = 38.065170764923096\n",
      "iteration 25: loss = 36.221925258636475\n",
      "iteration 50: loss = 34.11854422092438\n",
      "iteration 75: loss = 33.88995718955994\n",
      "iteration 100: loss = 32.9496648311615\n",
      "iteration 125: loss = 32.67552399635315\n",
      "iteration 150: loss = 32.384770154953\n",
      "iteration 175: loss = 32.30099606513977\n",
      "iteration 200: loss = 32.31180119514465\n",
      "iteration 225: loss = 32.23245716094971\n",
      "iteration 250: loss = 32.47695851325989\n",
      "iteration 275: loss = 32.5297532081604\n",
      "iteration 300: loss = 32.40373969078064\n",
      "iteration 325: loss = 32.59199500083923\n",
      "iteration 350: loss = 33.22943711280823\n",
      "iteration 375: loss = 32.80225491523743\n",
      "iteration 400: loss = 32.636072635650635\n",
      "iteration 425: loss = 32.73295474052429\n",
      "iteration 450: loss = 32.230960845947266\n",
      "iteration 475: loss = 32.560723066329956\n",
      "iteration 500: loss = 32.260488748550415\n",
      "iteration 525: loss = 32.00970005989075\n",
      "iteration 550: loss = 32.52371430397034\n",
      "iteration 575: loss = 32.81336236000061\n",
      "iteration 600: loss = 32.773767709732056\n",
      "iteration 625: loss = 32.39289593696594\n",
      "iteration 650: loss = 32.414397954940796\n",
      "iteration 675: loss = 32.80300784111023\n",
      "iteration 700: loss = 32.26720976829529\n",
      "iteration 725: loss = 32.60653805732727\n",
      "iteration 750: loss = 32.21161866188049\n",
      "iteration 775: loss = 32.39726185798645\n",
      "iteration 800: loss = 32.62473750114441\n",
      "iteration 825: loss = 32.42504858970642\n",
      "iteration 850: loss = 32.822062730789185\n",
      "iteration 875: loss = 32.9685914516449\n",
      "iteration 900: loss = 32.33454728126526\n",
      "iteration 925: loss = 32.33939337730408\n",
      "iteration 950: loss = 32.83531355857849\n",
      "iteration 975: loss = 32.15358281135559\n"
     ]
    },
    {
     "ename": "TypeError",
     "evalue": "join() got an unexpected keyword argument 'index'",
     "output_type": "error",
     "traceback": [
      "\u001b[0;31m---------------------------------------------------------------------------\u001b[0m",
      "\u001b[0;31mTypeError\u001b[0m                                 Traceback (most recent call last)",
      "Cell \u001b[0;32mIn[9], line 20\u001b[0m\n\u001b[1;32m      9\u001b[0m calibrated_samples \u001b[39m=\u001b[39m load_and_calibrate_and_sample_petri_model(\n\u001b[1;32m     10\u001b[0m     askenet_filepath,\n\u001b[1;32m     11\u001b[0m     data_path,\n\u001b[0;32m   (...)\u001b[0m\n\u001b[1;32m     15\u001b[0m     verbose\u001b[39m=\u001b[39m\u001b[39mTrue\u001b[39;00m,\n\u001b[1;32m     16\u001b[0m )\n\u001b[1;32m     18\u001b[0m \u001b[39m# Save results\u001b[39;00m\n\u001b[1;32m     19\u001b[0m calibrated_samples\u001b[39m.\u001b[39mto_csv(\n\u001b[0;32m---> 20\u001b[0m     os\u001b[39m.\u001b[39;49mpath\u001b[39m.\u001b[39;49mjoin(DEMO_PATH, \u001b[39m\"\u001b[39;49m\u001b[39mresults_petri/calibrated_sample_results.csv\u001b[39;49m\u001b[39m\"\u001b[39;49m, index\u001b[39m=\u001b[39;49m\u001b[39mFalse\u001b[39;49;00m)\n\u001b[1;32m     21\u001b[0m )\n",
      "\u001b[0;31mTypeError\u001b[0m: join() got an unexpected keyword argument 'index'"
     ]
    }
   ],
   "source": [
    "# List of tuples of the form `(time, observation_dict)` where each `observation_dict` is of the form `{observable_name: observable_value}`.\n",
    "# Once we get a data file format we're very happy to handle the csv -> this format processing.\n",
    "# Note: As you can see here, not every variable must be observed at every timepoint.\n",
    "data_path = os.path.join(DEMO_PATH, \"data.csv\")\n",
    "num_samples = 100\n",
    "timepoints = [0.0, 1.0, 2.0, 3.0, 4.0]\n",
    "\n",
    "# Run the calibration and sampling\n",
    "calibrated_samples = load_and_calibrate_and_sample_petri_model(\n",
    "    askenet_filepath,\n",
    "    data_path,\n",
    "    num_samples,\n",
    "    timepoints=timepoints,\n",
    "    add_uncertainty=True,\n",
    "    verbose=True,\n",
    ")\n",
    "\n",
    "# Save results\n",
    "calibrated_samples.to_csv(\n",
    "    os.path.join(DEMO_PATH, \"results_petri/calibrated_sample_results.csv\"), index=False\n",
    ")"
   ]
  },
  {
   "cell_type": "code",
   "execution_count": null,
   "metadata": {},
   "outputs": [],
   "source": []
  }
 ],
 "metadata": {
  "kernelspec": {
   "display_name": "askem-test",
   "language": "python",
   "name": "python3"
  },
  "language_info": {
   "codemirror_mode": {
    "name": "ipython",
    "version": 3
   },
   "file_extension": ".py",
   "mimetype": "text/x-python",
   "name": "python",
   "nbconvert_exporter": "python",
   "pygments_lexer": "ipython3",
   "version": "3.10.11"
  },
  "orig_nbformat": 4
 },
 "nbformat": 4,
 "nbformat_minor": 2
}
