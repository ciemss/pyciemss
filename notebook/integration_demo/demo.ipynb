{
 "cells": [
  {
   "cell_type": "code",
   "execution_count": 1,
   "metadata": {},
   "outputs": [],
   "source": [
    "import os\n",
    "from pyciemss.PetriNetODE.interfaces import (\n",
    "    load_and_sample_petri_model,\n",
    "    load_and_calibrate_and_sample_petri_model,\n",
    ")"
   ]
  },
  {
   "cell_type": "code",
   "execution_count": 7,
   "metadata": {},
   "outputs": [],
   "source": [
    "DEMO_PATH = \"notebook/integration_demo/\"\n",
    "\n",
    "askenet_filename = \"askenet_sir.json\"\n",
    "askenet_filepath = os.path.join(DEMO_PATH, askenet_filename)"
   ]
  },
  {
   "attachments": {},
   "cell_type": "markdown",
   "metadata": {},
   "source": [
    "## load_and_sample_petri_model"
   ]
  },
  {
   "cell_type": "code",
   "execution_count": 8,
   "metadata": {},
   "outputs": [],
   "source": [
    "num_samples = 100\n",
    "timepoints = [0.0, 1.0, 2.0, 3.0, 4.0]\n",
    "\n",
    "# Run sampling\n",
    "samples = load_and_sample_petri_model(\n",
    "    askenet_filepath, num_samples, timepoints=timepoints, add_uncertainty=True\n",
    ")\n",
    "\n",
    "# Save results\n",
    "samples.to_csv(os.path.join(DEMO_PATH, \"results_petri/sample_results.csv\"), index=False)"
   ]
  },
  {
   "attachments": {},
   "cell_type": "markdown",
   "metadata": {},
   "source": [
    "## load_and_calibrate_and_sample_petri_model"
   ]
  },
  {
   "cell_type": "code",
   "execution_count": 10,
   "metadata": {},
   "outputs": [
    {
     "name": "stdout",
     "output_type": "stream",
     "text": [
      "iteration 0: loss = 36.23403215408325\n",
      "iteration 25: loss = 36.4333233833313\n",
      "iteration 50: loss = 33.76416778564453\n",
      "iteration 75: loss = 32.491382360458374\n",
      "iteration 100: loss = 33.3582159280777\n",
      "iteration 125: loss = 32.42642545700073\n",
      "iteration 150: loss = 31.99333620071411\n",
      "iteration 175: loss = 31.88855814933777\n",
      "iteration 200: loss = 33.0313241481781\n",
      "iteration 225: loss = 32.01123642921448\n",
      "iteration 250: loss = 31.907624006271362\n",
      "iteration 275: loss = 31.16178297996521\n",
      "iteration 300: loss = 32.59164595603943\n",
      "iteration 325: loss = 32.70464587211609\n",
      "iteration 350: loss = 32.223777532577515\n",
      "iteration 375: loss = 32.36024188995361\n",
      "iteration 400: loss = 32.757964849472046\n",
      "iteration 425: loss = 32.309855937957764\n",
      "iteration 450: loss = 32.357672929763794\n",
      "iteration 475: loss = 32.36744427680969\n",
      "iteration 500: loss = 32.621456146240234\n",
      "iteration 525: loss = 32.39374899864197\n",
      "iteration 550: loss = 32.20912051200867\n",
      "iteration 575: loss = 32.44600868225098\n",
      "iteration 600: loss = 32.28053379058838\n",
      "iteration 625: loss = 32.29514718055725\n",
      "iteration 650: loss = 32.47741341590881\n",
      "iteration 675: loss = 32.446839809417725\n",
      "iteration 700: loss = 32.361664056777954\n",
      "iteration 725: loss = 32.75819993019104\n",
      "iteration 750: loss = 32.893744707107544\n",
      "iteration 775: loss = 32.54446005821228\n",
      "iteration 800: loss = 32.801167249679565\n",
      "iteration 825: loss = 32.63975405693054\n",
      "iteration 850: loss = 32.51190972328186\n",
      "iteration 875: loss = 31.619027853012085\n",
      "iteration 900: loss = 32.25268340110779\n",
      "iteration 925: loss = 32.380714654922485\n",
      "iteration 950: loss = 32.41819715499878\n",
      "iteration 975: loss = 32.649951219558716\n"
     ]
    }
   ],
   "source": [
    "# List of tuples of the form `(time, observation_dict)` where each `observation_dict` is of the form `{observable_name: observable_value}`.\n",
    "# Once we get a data file format we're very happy to handle the csv -> this format processing.\n",
    "# Note: As you can see here, not every variable must be observed at every timepoint.\n",
    "data_path = os.path.join(DEMO_PATH, \"data.csv\")\n",
    "num_samples = 100\n",
    "timepoints = [0.0, 1.0, 2.0, 3.0, 4.0]\n",
    "\n",
    "# Run the calibration and sampling\n",
    "calibrated_samples = load_and_calibrate_and_sample_petri_model(\n",
    "    askenet_filepath,\n",
    "    data_path,\n",
    "    num_samples,\n",
    "    timepoints=timepoints,\n",
    "    add_uncertainty=True,\n",
    "    verbose=True,\n",
    ")\n",
    "\n",
    "# Save results\n",
    "calibrated_samples.to_csv(\n",
    "    os.path.join(DEMO_PATH, \"results_petri/calibrated_sample_results.csv\"), index=False\n",
    ")"
   ]
  },
  {
   "cell_type": "code",
   "execution_count": null,
   "metadata": {},
   "outputs": [],
   "source": []
  }
 ],
 "metadata": {
  "kernelspec": {
   "display_name": "askem-test",
   "language": "python",
   "name": "python3"
  },
  "language_info": {
   "codemirror_mode": {
    "name": "ipython",
    "version": 3
   },
   "file_extension": ".py",
   "mimetype": "text/x-python",
   "name": "python",
   "nbconvert_exporter": "python",
   "pygments_lexer": "ipython3",
   "version": "3.10.11"
  },
  "orig_nbformat": 4
 },
 "nbformat": 4,
 "nbformat_minor": 2
}
