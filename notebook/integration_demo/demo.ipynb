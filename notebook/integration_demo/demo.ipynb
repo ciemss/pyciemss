{
 "cells": [
  {
   "cell_type": "code",
   "execution_count": 9,
   "metadata": {},
   "outputs": [],
   "source": [
    "import os\n",
    "from pyciemss.PetriNetODE.interfaces import (\n",
    "    load_and_sample_petri_model,\n",
    "    load_and_calibrate_and_sample_petri_model,\n",
    ")"
   ]
  },
  {
   "cell_type": "code",
   "execution_count": 10,
   "metadata": {},
   "outputs": [],
   "source": [
    "MIRA_PATH = \"test/models/april_ensemble_demo/\"\n",
    "SAVE_PATH = \"notebook/integration_demo/\"\n",
    "\n",
    "filename = \"BIOMD0000000955_template_model.json\"\n",
    "filename = os.path.join(MIRA_PATH, filename)"
   ]
  },
  {
   "attachments": {},
   "cell_type": "markdown",
   "metadata": {},
   "source": [
    "## load_and_sample_petri_model"
   ]
  },
  {
   "cell_type": "code",
   "execution_count": 13,
   "metadata": {},
   "outputs": [],
   "source": [
    "num_samples = 100\n",
    "timepoints = [0.0, 1.0, 2.0, 3.0, 4.0]\n",
    "\n",
    "# Run sampling\n",
    "samples = load_and_sample_petri_model(\n",
    "    filename, num_samples, timepoints=timepoints, add_uncertainty=True\n",
    ")\n",
    "\n",
    "# Save results\n",
    "samples.to_csv(os.path.join(SAVE_PATH, \"results_petri/sample_results.csv\"))"
   ]
  },
  {
   "attachments": {},
   "cell_type": "markdown",
   "metadata": {},
   "source": [
    "## load_and_calibrate_and_sample_petri_model"
   ]
  },
  {
   "cell_type": "code",
   "execution_count": 14,
   "metadata": {},
   "outputs": [
    {
     "name": "stdout",
     "output_type": "stream",
     "text": [
      "iteration 0: loss = 63.796528339385986\n",
      "iteration 25: loss = 58.426074743270874\n",
      "iteration 50: loss = 49.85667538642883\n",
      "iteration 75: loss = 44.239312410354614\n",
      "iteration 100: loss = 35.20773935317993\n",
      "iteration 125: loss = 36.89239001274109\n",
      "iteration 150: loss = 31.214526176452637\n",
      "iteration 175: loss = 31.498044967651367\n",
      "iteration 200: loss = 30.04111909866333\n",
      "iteration 225: loss = 30.397873878479004\n",
      "iteration 250: loss = 30.3555109500885\n",
      "iteration 275: loss = 31.16167974472046\n",
      "iteration 300: loss = 30.726374626159668\n",
      "iteration 325: loss = 29.893669843673706\n",
      "iteration 350: loss = 30.01099967956543\n",
      "iteration 375: loss = 29.83716106414795\n",
      "iteration 400: loss = 31.648341178894043\n",
      "iteration 425: loss = 30.367257118225098\n",
      "iteration 450: loss = 31.26539659500122\n",
      "iteration 475: loss = 29.29333209991455\n",
      "iteration 500: loss = 30.23838233947754\n",
      "iteration 525: loss = 29.057374715805054\n",
      "iteration 550: loss = 30.36006498336792\n",
      "iteration 575: loss = 30.363718271255493\n",
      "iteration 600: loss = 28.328775882720947\n",
      "iteration 625: loss = 29.271607637405396\n",
      "iteration 650: loss = 30.27192974090576\n",
      "iteration 675: loss = 29.014310598373413\n",
      "iteration 700: loss = 30.2902352809906\n",
      "iteration 725: loss = 29.32363986968994\n",
      "iteration 750: loss = 31.500337600708008\n",
      "iteration 775: loss = 28.41724705696106\n",
      "iteration 800: loss = 32.72076225280762\n",
      "iteration 825: loss = 29.556779384613037\n",
      "iteration 850: loss = 30.250113010406494\n",
      "iteration 875: loss = 30.72245168685913\n",
      "iteration 900: loss = 29.92627239227295\n",
      "iteration 925: loss = 29.49232006072998\n",
      "iteration 950: loss = 30.147915840148926\n",
      "iteration 975: loss = 31.702090978622437\n"
     ]
    }
   ],
   "source": [
    "# List of tuples of the form `(time, observation_dict)` where each `observation_dict` is of the form `{observable_name: observable_value}`.\n",
    "# Once we get a data file format we're very happy to handle the csv -> this format processing.\n",
    "# Note: As you can see here, not every variable must be observed at every timepoint.\n",
    "data = [\n",
    "    (1.1, {\"Susceptible\": 0.9, \"Infected\": 0.1}),\n",
    "    (2.2, {\"Susceptible\": 0.8}),\n",
    "]\n",
    "num_samples = 100\n",
    "timepoints = [0.0, 1.0, 2.0, 3.0, 4.0]\n",
    "\n",
    "# Run the calibration and sampling\n",
    "calibrated_samples = load_and_calibrate_and_sample_petri_model(\n",
    "    filename,\n",
    "    data,\n",
    "    num_samples,\n",
    "    timepoints=timepoints,\n",
    "    add_uncertainty=True,\n",
    "    verbose=True,\n",
    ")\n",
    "\n",
    "# Save results\n",
    "calibrated_samples.to_csv(\n",
    "    os.path.join(SAVE_PATH, \"results_petri/calibrated_sample_results.csv\")\n",
    ")"
   ]
  }
 ],
 "metadata": {
  "kernelspec": {
   "display_name": "askem-test",
   "language": "python",
   "name": "python3"
  },
  "language_info": {
   "codemirror_mode": {
    "name": "ipython",
    "version": 3
   },
   "file_extension": ".py",
   "mimetype": "text/x-python",
   "name": "python",
   "nbconvert_exporter": "python",
   "pygments_lexer": "ipython3",
   "version": "3.10.0"
  },
  "orig_nbformat": 4
 },
 "nbformat": 4,
 "nbformat_minor": 2
}
