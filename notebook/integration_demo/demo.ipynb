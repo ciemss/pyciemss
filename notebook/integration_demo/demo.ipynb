{
 "cells": [
  {
   "cell_type": "code",
   "execution_count": 1,
   "metadata": {},
   "outputs": [],
   "source": [
    "import os\n",
    "from pyciemss.PetriNetODE.interfaces import (\n",
    "    load_and_sample_petri_model,\n",
    "    load_and_calibrate_and_sample_petri_model,\n",
    "    load_and_optimize_and_sample_petri_model\n",
    ")"
   ]
  },
  {
   "cell_type": "code",
   "execution_count": 2,
   "metadata": {},
   "outputs": [],
   "source": [
    "DEMO_PATH = \"notebook/integration_demo/\"\n",
    "ASKENET_PATH = \"https://raw.githubusercontent.com/DARPA-ASKEM/Model-Representations/main/petrinet/examples/sir_typed.json\""
   ]
  },
  {
   "attachments": {},
   "cell_type": "markdown",
   "metadata": {},
   "source": [
    "## load_and_sample_petri_model"
   ]
  },
  {
   "cell_type": "code",
   "execution_count": 3,
   "metadata": {},
   "outputs": [],
   "source": [
    "num_samples = 3\n",
    "timepoints = [0.5, 1.0, 2.0, 3.0, 4.0]\n",
    "\n",
    "# Run sampling w/o an intervention\n",
    "samples = load_and_sample_petri_model(ASKENET_PATH, num_samples, timepoints=timepoints)\n",
    "\n",
    "# Save results\n",
    "samples.to_csv(os.path.join(DEMO_PATH, \"results_petri/sample_results.csv\"), index=False)"
   ]
  },
  {
   "cell_type": "code",
   "execution_count": 4,
   "metadata": {
    "scrolled": true
   },
   "outputs": [],
   "source": [
    "interventions = [(1.1, \"beta\", 1.0), (2.1, \"gamma\", 0.1), (1.3, \"beta\", 2.0), (1.4, \"gamma\", 0.3)]\n",
    "\n",
    "intervened_samples = load_and_sample_petri_model(\n",
    "    ASKENET_PATH, num_samples, timepoints=timepoints, interventions=interventions\n",
    ")\n",
    "\n",
    "\n",
    "# Save results\n",
    "intervened_samples.to_csv(\n",
    "    os.path.join(DEMO_PATH, \"results_petri/sample_results_w_interventions.csv\"),\n",
    "    index=False,\n",
    ")"
   ]
  },
  {
   "attachments": {},
   "cell_type": "markdown",
   "metadata": {},
   "source": [
    "## load_and_calibrate_and_sample_petri_model"
   ]
  },
  {
   "cell_type": "code",
   "execution_count": 5,
   "metadata": {},
   "outputs": [
    {
     "name": "stdout",
     "output_type": "stream",
     "text": [
      "iteration 0: loss = 36.72989881038666\n",
      "iteration 25: loss = 35.35893213748932\n",
      "iteration 50: loss = 32.896029233932495\n",
      "iteration 75: loss = 33.40498435497284\n",
      "iteration 100: loss = 33.192803621292114\n",
      "iteration 125: loss = 31.314371824264526\n",
      "iteration 150: loss = 32.697070837020874\n",
      "iteration 175: loss = 33.36095118522644\n",
      "iteration 200: loss = 32.870508432388306\n",
      "iteration 225: loss = 32.567596197128296\n",
      "iteration 250: loss = 32.83535122871399\n",
      "iteration 275: loss = 32.43224883079529\n",
      "iteration 300: loss = 32.42908525466919\n",
      "iteration 325: loss = 32.09095215797424\n",
      "iteration 350: loss = 32.357651472091675\n",
      "iteration 375: loss = 32.677024126052856\n",
      "iteration 400: loss = 32.180010080337524\n",
      "iteration 425: loss = 32.30828094482422\n",
      "iteration 450: loss = 32.41364550590515\n",
      "iteration 475: loss = 32.47804093360901\n",
      "iteration 500: loss = 32.483015298843384\n",
      "iteration 525: loss = 32.19251108169556\n",
      "iteration 550: loss = 32.23183989524841\n",
      "iteration 575: loss = 32.15587258338928\n",
      "iteration 600: loss = 32.164281606674194\n",
      "iteration 625: loss = 32.375654220581055\n",
      "iteration 650: loss = 32.25739574432373\n",
      "iteration 675: loss = 32.28496503829956\n",
      "iteration 700: loss = 32.22272062301636\n",
      "iteration 725: loss = 32.60892415046692\n",
      "iteration 750: loss = 32.329415798187256\n",
      "iteration 775: loss = 32.2548828125\n",
      "iteration 800: loss = 32.61113715171814\n",
      "iteration 825: loss = 32.33934807777405\n",
      "iteration 850: loss = 32.35854434967041\n",
      "iteration 875: loss = 32.08857345581055\n",
      "iteration 900: loss = 32.40586733818054\n",
      "iteration 925: loss = 32.314961194992065\n",
      "iteration 950: loss = 32.23428010940552\n",
      "iteration 975: loss = 32.46005034446716\n"
     ]
    }
   ],
   "source": [
    "data_path = os.path.join(DEMO_PATH, \"data.csv\")\n",
    "num_samples = 100\n",
    "timepoints = [0.0, 1.0, 2.0, 3.0, 4.0]\n",
    "\n",
    "# Run the calibration and sampling\n",
    "calibrated_samples = load_and_calibrate_and_sample_petri_model(\n",
    "    ASKENET_PATH,\n",
    "    data_path,\n",
    "    num_samples,\n",
    "    timepoints=timepoints,\n",
    "    verbose=True,\n",
    ")\n",
    "\n",
    "# Save results\n",
    "calibrated_samples.to_csv(\n",
    "    os.path.join(DEMO_PATH, \"results_petri/calibrated_sample_results.csv\"), index=False\n",
    ")"
   ]
  },
  {
   "cell_type": "markdown",
   "metadata": {},
   "source": [
    "## load_and_optimize_and_sample_petri_model"
   ]
  },
  {
   "cell_type": "code",
   "execution_count": null,
   "metadata": {},
   "outputs": [],
   "source": [
    "num_samples = 100\n",
    "timepoints = [0.0, 1.0, 2.0, 3.0, 4.0]\n",
    "\n",
    "# Run the calibration and sampling\n",
    "OBJFUN = lambda x: np.abs(x)\n",
    "INTERVENTION = [(0.2, \"beta\")]\n",
    "QOI = (\"scenario2dec_nday_average\", \"infected_population_sol\", 3)\n",
    "ouu_samples = load_and_optimize_and_sample_petri_model(\n",
    "    ASKENET_PATH,\n",
    "    num_samples,\n",
    "    timepoints=timepoints,\n",
    "    interventions=INTERVENTION,\n",
    "    qoi=QOI,\n",
    "    risk_bound=10.,\n",
    "    objfun=OBJFUN,\n",
    "    initial_guess=0.02,\n",
    "    bounds=[[0.],[3.]],\n",
    "    verbose=True,\n",
    ")\n",
    "\n",
    "# Save results\n",
    "ouu_samples.to_csv(\n",
    "    os.path.join(DEMO_PATH, \"results_petri/optimize_sample_results.csv\"), index=False\n",
    ")"
   ]
  }
 ],
 "metadata": {
  "kernelspec": {
   "display_name": "pyciemss-deriv",
   "language": "python",
   "name": "python3"
  },
  "language_info": {
   "codemirror_mode": {
    "name": "ipython",
    "version": 3
   },
   "file_extension": ".py",
   "mimetype": "text/x-python",
   "name": "python",
   "nbconvert_exporter": "python",
   "pygments_lexer": "ipython3",
   "version": "3.9.16"
  }
 },
 "nbformat": 4,
 "nbformat_minor": 4
}
