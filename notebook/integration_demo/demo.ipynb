{
 "cells": [
  {
   "cell_type": "code",
   "execution_count": 1,
   "metadata": {},
   "outputs": [],
   "source": [
    "import os\n",
    "from pyciemss.PetriNetODE.interfaces import (\n",
    "    load_and_sample_petri_model,\n",
    "    load_and_calibrate_and_sample_petri_model,\n",
    "    load_and_optimize_and_sample_petri_model,\n",
    "    load_and_calibrate_and_optimize_and_sample_petri_model\n",
    ")\n",
    "import numpy as np"
   ]
  },
  {
   "cell_type": "code",
   "execution_count": 2,
   "metadata": {},
   "outputs": [],
   "source": [
    "DEMO_PATH = \"../../notebook/integration_demo/\"\n",
    "ASKENET_PATH = \"https://raw.githubusercontent.com/DARPA-ASKEM/Model-Representations/main/petrinet/examples/sir_typed.json\""
   ]
  },
  {
   "attachments": {},
   "cell_type": "markdown",
   "metadata": {},
   "source": [
    "## load_and_sample_petri_model"
   ]
  },
  {
   "cell_type": "code",
   "execution_count": 3,
   "metadata": {},
   "outputs": [],
   "source": [
    "num_samples = 3\n",
    "timepoints = [0.5, 1.0, 2.0, 3.0, 4.0]\n",
    "\n",
    "# Run sampling w/o an intervention\n",
    "samples = load_and_sample_petri_model(ASKENET_PATH, num_samples, timepoints=timepoints)\n",
    "\n",
    "# Save results\n",
    "samples.to_csv(os.path.join(DEMO_PATH, \"results_petri/sample_results.csv\"), index=False)"
   ]
  },
  {
   "cell_type": "code",
   "execution_count": 4,
   "metadata": {
    "scrolled": true
   },
   "outputs": [],
   "source": [
    "interventions = [(1.1, \"beta\", 1.0), (2.1, \"gamma\", 0.1), (1.3, \"beta\", 2.0), (1.4, \"gamma\", 0.3)]\n",
    "\n",
    "intervened_samples = load_and_sample_petri_model(\n",
    "    ASKENET_PATH, num_samples, timepoints=timepoints, interventions=interventions\n",
    ")\n",
    "\n",
    "\n",
    "# Save results\n",
    "intervened_samples.to_csv(\n",
    "    os.path.join(DEMO_PATH, \"results_petri/sample_results_w_interventions.csv\"),\n",
    "    index=False,\n",
    ")"
   ]
  },
  {
   "attachments": {},
   "cell_type": "markdown",
   "metadata": {},
   "source": [
    "## load_and_calibrate_and_sample_petri_model"
   ]
  },
  {
   "cell_type": "code",
   "execution_count": 5,
   "metadata": {},
   "outputs": [
    {
     "name": "stdout",
     "output_type": "stream",
     "text": [
      "iteration 0: loss = 62.71157956123352\n",
      "iteration 25: loss = 60.2327595949173\n",
      "iteration 50: loss = 59.43513986468315\n",
      "iteration 75: loss = 57.84722709655762\n",
      "iteration 100: loss = 57.21866774559021\n",
      "iteration 125: loss = 54.55526041984558\n",
      "iteration 150: loss = 56.586472272872925\n",
      "iteration 175: loss = 56.48748993873596\n",
      "iteration 200: loss = 57.76699471473694\n",
      "iteration 225: loss = 56.420393228530884\n",
      "iteration 250: loss = 56.50965619087219\n",
      "iteration 275: loss = 57.15613293647766\n",
      "iteration 300: loss = 57.15349459648132\n",
      "iteration 325: loss = 56.28747487068176\n",
      "iteration 350: loss = 56.70499229431152\n",
      "iteration 375: loss = 56.99318718910217\n",
      "iteration 400: loss = 56.75043559074402\n",
      "iteration 425: loss = 56.87058615684509\n",
      "iteration 450: loss = 56.919875383377075\n",
      "iteration 475: loss = 56.7110652923584\n",
      "iteration 500: loss = 56.31728911399841\n",
      "iteration 525: loss = 57.057708978652954\n",
      "iteration 550: loss = 56.911702394485474\n",
      "iteration 575: loss = 56.30956697463989\n"
     ]
    }
   ],
   "source": [
    "data_path = os.path.join(DEMO_PATH, \"data.csv\")\n",
    "num_samples = 100\n",
    "timepoints = [0.0, 1.0, 2.0, 3.0, 4.0]\n",
    "\n",
    "# Run the calibration and sampling\n",
    "calibrated_samples = load_and_calibrate_and_sample_petri_model(\n",
    "    ASKENET_PATH,\n",
    "    data_path,\n",
    "    num_samples,\n",
    "    timepoints=timepoints,\n",
    "    verbose=True,\n",
    ")\n",
    "\n",
    "# Save results\n",
    "calibrated_samples.to_csv(\n",
    "    os.path.join(DEMO_PATH, \"results_petri/calibrated_sample_results.csv\"), index=False\n",
    ")"
   ]
  },
  {
   "cell_type": "markdown",
   "metadata": {},
   "source": [
    "## load_and_optimize_and_sample_petri_model"
   ]
  },
  {
   "cell_type": "code",
   "execution_count": null,
   "metadata": {},
   "outputs": [
    {
     "name": "stdout",
     "output_type": "stream",
     "text": [
      "Time taken: (2.19e-01 seconds per model evaluation).\n",
      "Performing risk-based optimization under uncertainty (using alpha-superquantile)\n",
      "Estimated wait time 1643.2 seconds...\n",
      "Optimization completed in time 302.05 seconds.\n",
      "Optimal policy:\t0.0\n",
      "Post-processing optimal policy...\n",
      "Estimated risk at optimal policy [0.7047186017036438]\n",
      "Optimal policy: 0.0\n",
      "Estimated risk at optimal policy [0.7047186017036438]\n"
     ]
    }
   ],
   "source": [
    "num_samples = 100\n",
    "timepoints = [0.0, 1.0, 2.0, 3.0, 4.0]\n",
    "\n",
    "# Run the calibration and sampling\n",
    "OBJFUN = lambda x: np.abs(x)\n",
    "INTERVENTION = [(0.1, \"beta\")]\n",
    "QOI = (\"scenario2dec_nday_average\", \"Infected_sol\", 2)\n",
    "ouu_samples, opt_policy = load_and_optimize_and_sample_petri_model(\n",
    "    ASKENET_PATH,\n",
    "    num_samples,\n",
    "    timepoints=timepoints,\n",
    "    interventions=INTERVENTION,\n",
    "    qoi=QOI,\n",
    "    risk_bound=10.,\n",
    "    objfun=OBJFUN,\n",
    "    initial_guess=0.02,\n",
    "    bounds=[[0.],[3.]],\n",
    "    verbose=True,\n",
    ")\n",
    "\n",
    "# Save results\n",
    "ouu_samples.to_csv(\n",
    "    os.path.join(DEMO_PATH, \"results_petri/optimize_sample_results.csv\"), index=False\n",
    ")\n",
    "print(\"Optimal policy:\", opt_policy[\"policy\"])\n",
    "print(\"Estimated risk at optimal policy\", opt_policy[\"risk\"])"
   ]
  },
  {
   "cell_type": "markdown",
   "metadata": {},
   "source": [
    "## load_and_calibrate_and_optimize_and_sample_petri_model"
   ]
  },
  {
   "cell_type": "code",
   "execution_count": null,
   "metadata": {},
   "outputs": [
    {
     "name": "stdout",
     "output_type": "stream",
     "text": [
      "iteration 0: loss = 37.5659122467041\n",
      "iteration 25: loss = 35.41392183303833\n",
      "iteration 50: loss = 33.67425513267517\n",
      "iteration 75: loss = 32.595038652420044\n",
      "iteration 100: loss = 33.10420513153076\n",
      "iteration 125: loss = 32.42216110229492\n",
      "iteration 150: loss = 33.292160987854004\n",
      "iteration 175: loss = 31.957093477249146\n",
      "iteration 200: loss = 32.40791869163513\n",
      "iteration 225: loss = 32.1630494594574\n",
      "iteration 250: loss = 32.64620661735535\n",
      "iteration 275: loss = 32.447582960128784\n",
      "iteration 300: loss = 32.42112612724304\n",
      "iteration 325: loss = 32.70798373222351\n",
      "iteration 350: loss = 32.1295063495636\n",
      "iteration 375: loss = 32.78153920173645\n",
      "iteration 400: loss = 32.15399241447449\n",
      "iteration 425: loss = 32.18069672584534\n",
      "iteration 450: loss = 32.34887766838074\n",
      "iteration 475: loss = 32.39561104774475\n",
      "iteration 500: loss = 32.51458191871643\n",
      "iteration 525: loss = 32.285157680511475\n",
      "iteration 550: loss = 32.21916651725769\n",
      "iteration 575: loss = 32.54395031929016\n",
      "iteration 600: loss = 32.487563133239746\n",
      "iteration 625: loss = 32.54312562942505\n",
      "iteration 650: loss = 31.965022087097168\n",
      "iteration 675: loss = 32.316070318222046\n",
      "iteration 700: loss = 32.36382842063904\n",
      "iteration 725: loss = 32.52105975151062\n",
      "iteration 750: loss = 32.83406376838684\n",
      "iteration 775: loss = 32.393730878829956\n",
      "iteration 800: loss = 32.43019080162048\n",
      "iteration 825: loss = 32.3959174156189\n",
      "iteration 850: loss = 32.112430572509766\n",
      "iteration 875: loss = 32.36790990829468\n",
      "iteration 900: loss = 32.66983437538147\n",
      "iteration 925: loss = 32.438520669937134\n",
      "iteration 950: loss = 32.27924203872681\n",
      "iteration 975: loss = 32.38777709007263\n",
      "Time taken: (1.62e-01 seconds per model evaluation).\n",
      "Performing risk-based optimization under uncertainty (using alpha-superquantile)\n",
      "Estimated wait time 1214.8 seconds...\n",
      "Optimization completed in time 325.88 seconds.\n",
      "Optimal policy:\t0.0\n",
      "Post-processing optimal policy...\n",
      "Estimated risk at optimal policy [0.7005741119384765]\n",
      "Optimal policy after calibration: 0.0\n",
      "Estimated risk at optimal policy after calibration [0.7005741119384765]\n"
     ]
    }
   ],
   "source": [
    "data_path = os.path.join(DEMO_PATH, \"data.csv\")\n",
    "num_samples = 100\n",
    "timepoints = [0.0, 1.0, 2.0, 3.0, 4.0]\n",
    "\n",
    "# Run the calibration and sampling\n",
    "OBJFUN = lambda x: np.abs(x)\n",
    "INTERVENTION = [(0.1, \"beta\")]\n",
    "QOI = (\"scenario2dec_nday_average\", \"Infected_sol\", 2)\n",
    "ouu_cal_samples, opt_cal_policy = load_and_calibrate_and_optimize_and_sample_petri_model(\n",
    "    ASKENET_PATH,\n",
    "    data_path,\n",
    "    num_samples,\n",
    "    timepoints=timepoints,\n",
    "    interventions=INTERVENTION,\n",
    "    qoi=QOI,\n",
    "    risk_bound=10.,\n",
    "    objfun=OBJFUN,\n",
    "    initial_guess=0.02,\n",
    "    bounds=[[0.],[3.]],\n",
    "    verbose=True,\n",
    ")\n",
    "\n",
    "# Save results\n",
    "ouu_cal_samples.to_csv(\n",
    "    os.path.join(DEMO_PATH, \"results_petri/calibrate_optimize_sample_results.csv\"), index=False\n",
    ")\n",
    "print(\"Optimal policy after calibration:\", opt_policy[\"policy\"])\n",
    "print(\"Estimated risk at optimal policy after calibration\", opt_policy[\"risk\"])"
   ]
  }
 ],
 "metadata": {
  "kernelspec": {
   "display_name": "askemv2",
   "language": "python",
   "name": "python3"
  },
  "language_info": {
   "codemirror_mode": {
    "name": "ipython",
    "version": 3
   },
   "file_extension": ".py",
   "mimetype": "text/x-python",
   "name": "python",
   "nbconvert_exporter": "python",
   "pygments_lexer": "ipython3",
   "version": "3.11.4"
  }
 },
 "nbformat": 4,
 "nbformat_minor": 4
}
