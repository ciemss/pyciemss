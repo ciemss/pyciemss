{
 "cells": [
  {
   "cell_type": "code",
   "execution_count": 1,
   "metadata": {},
   "outputs": [],
   "source": [
    "import os\n",
    "from pyciemss.PetriNetODE.interfaces import (\n",
    "    load_and_sample_petri_model,\n",
    "    load_and_calibrate_and_sample_petri_model,\n",
    ")"
   ]
  },
  {
   "cell_type": "code",
   "execution_count": 5,
   "metadata": {},
   "outputs": [
    {
     "name": "stdout",
     "output_type": "stream",
     "text": [
      "/Users/zuck016/Projects/Proposals/ASKEM/build/pyciemss\n"
     ]
    }
   ],
   "source": [
    "cd ../.."
   ]
  },
  {
   "cell_type": "code",
   "execution_count": 6,
   "metadata": {},
   "outputs": [],
   "source": [
    "DEMO_PATH = \"notebook/integration_demo/\"\n",
    "ASKENET_PATH = \"https://raw.githubusercontent.com/DARPA-ASKEM/Model-Representations/main/petrinet/examples/sir_typed.json\""
   ]
  },
  {
   "attachments": {},
   "cell_type": "markdown",
   "metadata": {},
   "source": [
    "## load_and_sample_petri_model"
   ]
  },
  {
   "cell_type": "code",
   "execution_count": 26,
   "metadata": {},
   "outputs": [],
   "source": [
    "num_samples = 3\n",
    "timepoints = [0.5, 1.0, 2.0, 3.0, 4.0]\n",
    "\n",
    "# Run sampling w/o an intervention\n",
    "samples = load_and_sample_petri_model(ASKENET_PATH, num_samples, timepoints=timepoints)\n",
    "\n",
    "# Save results\n",
    "samples.to_csv(os.path.join(DEMO_PATH, \"results_petri/sample_results.csv\"), index=False)"
   ]
  },
  {
   "cell_type": "code",
   "execution_count": 27,
   "metadata": {},
   "outputs": [
    {
     "data": {
      "text/plain": [
       "ScaledBetaNoisePetriNetODESystem(\n",
       "\tbeta = Uniform(low: 0.024299999698996544, high: 0.02969999983906746),\n",
       "\tgamma = Uniform(low: 0.12600000202655792, high: 0.15399999916553497),\n",
       "\tpseudocount = 1.0\n",
       ")"
      ]
     },
     "execution_count": 27,
     "metadata": {},
     "output_type": "execute_result"
    }
   ],
   "source": [
    "from pyciemss.PetriNetODE.interfaces import load_petri_model\n",
    "\n",
    "model = load_petri_model(ASKENET_PATH)\n",
    "model"
   ]
  },
  {
   "cell_type": "code",
   "execution_count": 28,
   "metadata": {},
   "outputs": [],
   "source": [
    "# Run sampling w/o an intervention\n",
    "# intervention is an iterable (e.g. list) of tuples of the form (timepoint: float, parameter: str, value: float)\n",
    "interventions = [(1.1, \"beta\", 1.0), (2.1, \"gamma\", 0.1), (1.3, \"beta\", 2.0), (1.4, \"gamma\", 0.3)]\n",
    "\n",
    "intervened_samples = load_and_sample_petri_model(\n",
    "    ASKENET_PATH, num_samples, timepoints=timepoints, interventions=interventions\n",
    ")\n",
    "\n",
    "# Save results\n",
    "intervened_samples.to_csv(\n",
    "    os.path.join(DEMO_PATH, \"results_petri/sample_results_w_interventions.csv\"),\n",
    "    index=False,\n",
    ")"
   ]
  },
  {
   "cell_type": "code",
   "execution_count": 29,
   "metadata": {},
   "outputs": [
    {
     "data": {
      "text/html": [
       "<div>\n",
       "<style scoped>\n",
       "    .dataframe tbody tr th:only-of-type {\n",
       "        vertical-align: middle;\n",
       "    }\n",
       "\n",
       "    .dataframe tbody tr th {\n",
       "        vertical-align: top;\n",
       "    }\n",
       "\n",
       "    .dataframe thead th {\n",
       "        text-align: right;\n",
       "    }\n",
       "</style>\n",
       "<table border=\"1\" class=\"dataframe\">\n",
       "  <thead>\n",
       "    <tr style=\"text-align: right;\">\n",
       "      <th></th>\n",
       "      <th>timepoint_id</th>\n",
       "      <th>sample_id</th>\n",
       "      <th>beta_param</th>\n",
       "      <th>gamma_param</th>\n",
       "      <th>Infected_sol</th>\n",
       "      <th>Recovered_sol</th>\n",
       "      <th>Susceptible_sol</th>\n",
       "    </tr>\n",
       "  </thead>\n",
       "  <tbody>\n",
       "    <tr>\n",
       "      <th>0</th>\n",
       "      <td>0</td>\n",
       "      <td>0</td>\n",
       "      <td>0.024411</td>\n",
       "      <td>0.128564</td>\n",
       "      <td>0.949244</td>\n",
       "      <td>0.062636</td>\n",
       "      <td>999.988098</td>\n",
       "    </tr>\n",
       "    <tr>\n",
       "      <th>1</th>\n",
       "      <td>1</td>\n",
       "      <td>0</td>\n",
       "      <td>0.024411</td>\n",
       "      <td>0.128564</td>\n",
       "      <td>0.901066</td>\n",
       "      <td>0.122093</td>\n",
       "      <td>999.975098</td>\n",
       "    </tr>\n",
       "    <tr>\n",
       "      <th>2</th>\n",
       "      <td>2</td>\n",
       "      <td>0</td>\n",
       "      <td>0.024411</td>\n",
       "      <td>0.128564</td>\n",
       "      <td>3.536983</td>\n",
       "      <td>0.573380</td>\n",
       "      <td>996.889709</td>\n",
       "    </tr>\n",
       "    <tr>\n",
       "      <th>3</th>\n",
       "      <td>3</td>\n",
       "      <td>0</td>\n",
       "      <td>0.024411</td>\n",
       "      <td>0.128564</td>\n",
       "      <td>22.663595</td>\n",
       "      <td>1.676561</td>\n",
       "      <td>976.659790</td>\n",
       "    </tr>\n",
       "    <tr>\n",
       "      <th>4</th>\n",
       "      <td>4</td>\n",
       "      <td>0</td>\n",
       "      <td>0.024411</td>\n",
       "      <td>0.128564</td>\n",
       "      <td>132.456894</td>\n",
       "      <td>8.012345</td>\n",
       "      <td>860.530884</td>\n",
       "    </tr>\n",
       "    <tr>\n",
       "      <th>5</th>\n",
       "      <td>0</td>\n",
       "      <td>1</td>\n",
       "      <td>0.026181</td>\n",
       "      <td>0.130242</td>\n",
       "      <td>0.949288</td>\n",
       "      <td>0.063455</td>\n",
       "      <td>999.987244</td>\n",
       "    </tr>\n",
       "    <tr>\n",
       "      <th>6</th>\n",
       "      <td>1</td>\n",
       "      <td>1</td>\n",
       "      <td>0.026181</td>\n",
       "      <td>0.130242</td>\n",
       "      <td>0.901147</td>\n",
       "      <td>0.123693</td>\n",
       "      <td>999.976746</td>\n",
       "    </tr>\n",
       "    <tr>\n",
       "      <th>7</th>\n",
       "      <td>2</td>\n",
       "      <td>1</td>\n",
       "      <td>0.026181</td>\n",
       "      <td>0.130242</td>\n",
       "      <td>3.535547</td>\n",
       "      <td>0.575484</td>\n",
       "      <td>996.889404</td>\n",
       "    </tr>\n",
       "    <tr>\n",
       "      <th>8</th>\n",
       "      <td>3</td>\n",
       "      <td>1</td>\n",
       "      <td>0.026181</td>\n",
       "      <td>0.130242</td>\n",
       "      <td>22.654490</td>\n",
       "      <td>1.678219</td>\n",
       "      <td>976.668091</td>\n",
       "    </tr>\n",
       "    <tr>\n",
       "      <th>9</th>\n",
       "      <td>4</td>\n",
       "      <td>1</td>\n",
       "      <td>0.026181</td>\n",
       "      <td>0.130242</td>\n",
       "      <td>132.409836</td>\n",
       "      <td>8.011598</td>\n",
       "      <td>860.579468</td>\n",
       "    </tr>\n",
       "    <tr>\n",
       "      <th>10</th>\n",
       "      <td>0</td>\n",
       "      <td>2</td>\n",
       "      <td>0.028274</td>\n",
       "      <td>0.146511</td>\n",
       "      <td>0.942582</td>\n",
       "      <td>0.071132</td>\n",
       "      <td>999.986023</td>\n",
       "    </tr>\n",
       "    <tr>\n",
       "      <th>11</th>\n",
       "      <td>1</td>\n",
       "      <td>2</td>\n",
       "      <td>0.028274</td>\n",
       "      <td>0.146511</td>\n",
       "      <td>0.888460</td>\n",
       "      <td>0.138179</td>\n",
       "      <td>999.973389</td>\n",
       "    </tr>\n",
       "    <tr>\n",
       "      <th>12</th>\n",
       "      <td>2</td>\n",
       "      <td>2</td>\n",
       "      <td>0.028274</td>\n",
       "      <td>0.146511</td>\n",
       "      <td>3.464011</td>\n",
       "      <td>0.587389</td>\n",
       "      <td>996.949524</td>\n",
       "    </tr>\n",
       "    <tr>\n",
       "      <th>13</th>\n",
       "      <td>3</td>\n",
       "      <td>2</td>\n",
       "      <td>0.028274</td>\n",
       "      <td>0.146511</td>\n",
       "      <td>22.205069</td>\n",
       "      <td>1.668010</td>\n",
       "      <td>977.127991</td>\n",
       "    </tr>\n",
       "    <tr>\n",
       "      <th>14</th>\n",
       "      <td>4</td>\n",
       "      <td>2</td>\n",
       "      <td>0.028274</td>\n",
       "      <td>0.146511</td>\n",
       "      <td>130.103088</td>\n",
       "      <td>7.883538</td>\n",
       "      <td>863.014832</td>\n",
       "    </tr>\n",
       "  </tbody>\n",
       "</table>\n",
       "</div>"
      ],
      "text/plain": [
       "    timepoint_id  sample_id  beta_param  gamma_param  Infected_sol  \\\n",
       "0              0          0    0.024411     0.128564      0.949244   \n",
       "1              1          0    0.024411     0.128564      0.901066   \n",
       "2              2          0    0.024411     0.128564      3.536983   \n",
       "3              3          0    0.024411     0.128564     22.663595   \n",
       "4              4          0    0.024411     0.128564    132.456894   \n",
       "5              0          1    0.026181     0.130242      0.949288   \n",
       "6              1          1    0.026181     0.130242      0.901147   \n",
       "7              2          1    0.026181     0.130242      3.535547   \n",
       "8              3          1    0.026181     0.130242     22.654490   \n",
       "9              4          1    0.026181     0.130242    132.409836   \n",
       "10             0          2    0.028274     0.146511      0.942582   \n",
       "11             1          2    0.028274     0.146511      0.888460   \n",
       "12             2          2    0.028274     0.146511      3.464011   \n",
       "13             3          2    0.028274     0.146511     22.205069   \n",
       "14             4          2    0.028274     0.146511    130.103088   \n",
       "\n",
       "    Recovered_sol  Susceptible_sol  \n",
       "0        0.062636       999.988098  \n",
       "1        0.122093       999.975098  \n",
       "2        0.573380       996.889709  \n",
       "3        1.676561       976.659790  \n",
       "4        8.012345       860.530884  \n",
       "5        0.063455       999.987244  \n",
       "6        0.123693       999.976746  \n",
       "7        0.575484       996.889404  \n",
       "8        1.678219       976.668091  \n",
       "9        8.011598       860.579468  \n",
       "10       0.071132       999.986023  \n",
       "11       0.138179       999.973389  \n",
       "12       0.587389       996.949524  \n",
       "13       1.668010       977.127991  \n",
       "14       7.883538       863.014832  "
      ]
     },
     "execution_count": 29,
     "metadata": {},
     "output_type": "execute_result"
    }
   ],
   "source": [
    "intervened_samples"
   ]
  },
  {
   "cell_type": "code",
   "execution_count": 23,
   "metadata": {},
   "outputs": [
    {
     "data": {
      "text/plain": [
       "{'beta': [(1.1, 1.0), (1.3, 2.0)], 'gamma': [(1.4, 0.3), (2.1, 0.1)]}"
      ]
     },
     "execution_count": 23,
     "metadata": {},
     "output_type": "execute_result"
    }
   ],
   "source": [
    "def intervention_to_sorted_by_param(interventions):\n",
    "    param_dict = {param: []\n",
    "                  for time, param, value in interventions\n",
    "                 }\n",
    "    for time, param, value in interventions:\n",
    "        param_dict[param].append( (time, value) )\n",
    "    return {k: sorted(v)\n",
    "            for k, v in param_dict.items()\n",
    "           }\n",
    "#     intervened_samples.loc[(intervened_samples[\"timepoint_id\"] > time)])\n",
    "        \n",
    "param_dict = intervention_to_sorted_by_param(interventions)"
   ]
  },
  {
   "cell_type": "code",
   "execution_count": null,
   "metadata": {},
   "outputs": [],
   "source": [
    "for param, intervention_assignments in param_dict.items():\n",
    "    for i in len(intervention_assignments):\n",
    "        if i < len(intervention_assignments -1):\n",
    "            timepoint, next_timepoint = intervention_assignments[i], intervention_assignments[i+1]\n",
    "            intervened_samples['timepoint_id']timepoint:next_timepoint]"
   ]
  },
  {
   "cell_type": "code",
   "execution_count": null,
   "metadata": {},
   "outputs": [],
   "source": [
    "df = pd.DataFrame({"
   ]
  },
  {
   "attachments": {},
   "cell_type": "markdown",
   "metadata": {},
   "source": [
    "## load_and_calibrate_and_sample_petri_model"
   ]
  },
  {
   "cell_type": "code",
   "execution_count": 7,
   "metadata": {},
   "outputs": [
    {
     "name": "stdout",
     "output_type": "stream",
     "text": [
      "iteration 0: loss = 37.94811773300171\n",
      "iteration 25: loss = 34.9170196056366\n",
      "iteration 50: loss = 32.69080424308777\n",
      "iteration 75: loss = 32.41730046272278\n",
      "iteration 100: loss = 32.44331431388855\n",
      "iteration 125: loss = 32.692076683044434\n",
      "iteration 150: loss = 32.61838483810425\n",
      "iteration 175: loss = 32.56607246398926\n",
      "iteration 200: loss = 33.014737367630005\n",
      "iteration 225: loss = 32.58268332481384\n",
      "iteration 250: loss = 32.89216685295105\n",
      "iteration 275: loss = 31.961626768112183\n",
      "iteration 300: loss = 32.6565682888031\n"
     ]
    }
   ],
   "source": [
    "data_path = os.path.join(DEMO_PATH, \"data.csv\")\n",
    "num_samples = 100\n",
    "timepoints = [0.0, 1.0, 2.0, 3.0, 4.0]\n",
    "\n",
    "# Run the calibration and sampling\n",
    "calibrated_samples = load_and_calibrate_and_sample_petri_model(\n",
    "    ASKENET_PATH,\n",
    "    data_path,\n",
    "    num_samples,\n",
    "    timepoints=timepoints,\n",
    "    verbose=True,\n",
    ")\n",
    "\n",
    "# Save results\n",
    "calibrated_samples.to_csv(\n",
    "    os.path.join(DEMO_PATH, \"results_petri/calibrated_sample_results.csv\"), index=False\n",
    ")"
   ]
  },
  {
   "cell_type": "code",
   "execution_count": null,
   "metadata": {},
   "outputs": [],
   "source": []
  }
 ],
 "metadata": {
  "kernelspec": {
   "display_name": "pyciemss-main",
   "language": "python",
   "name": "pyciemss-main"
  },
  "language_info": {
   "codemirror_mode": {
    "name": "ipython",
    "version": 3
   },
   "file_extension": ".py",
   "mimetype": "text/x-python",
   "name": "python",
   "nbconvert_exporter": "python",
   "pygments_lexer": "ipython3",
   "version": "3.10.9"
  }
 },
 "nbformat": 4,
 "nbformat_minor": 4
}
