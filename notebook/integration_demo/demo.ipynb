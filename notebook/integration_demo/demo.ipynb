{
 "cells": [
  {
   "cell_type": "code",
   "execution_count": 1,
   "metadata": {},
   "outputs": [],
   "source": [
    "import os\n",
    "from pyciemss.PetriNetODE.interfaces import (\n",
    "    load_and_sample_petri_model,\n",
    "    load_and_calibrate_and_sample_petri_model,\n",
    ")"
   ]
  },
  {
   "cell_type": "code",
   "execution_count": 2,
   "metadata": {},
   "outputs": [],
   "source": [
    "DEMO_PATH = \"notebook/integration_demo/\"\n",
    "ASKENET_WEBPATH = \"https://raw.githubusercontent.com/DARPA-ASKEM/Model-Representations/main/petrinet/examples/sir_typed.json\""
   ]
  },
  {
   "attachments": {},
   "cell_type": "markdown",
   "metadata": {},
   "source": [
    "## load_and_sample_petri_model"
   ]
  },
  {
   "cell_type": "code",
   "execution_count": 3,
   "metadata": {},
   "outputs": [],
   "source": [
    "num_samples = 100\n",
    "timepoints = [0.0, 1.0, 2.0, 3.0, 4.0]\n",
    "\n",
    "# Run sampling\n",
    "samples = load_and_sample_petri_model(\n",
    "    ASKENET_FILEPATH, num_samples, timepoints=timepoints, add_uncertainty=True\n",
    ")\n",
    "\n",
    "# Save results\n",
    "samples.to_csv(os.path.join(DEMO_PATH, \"results_petri/sample_results.csv\"), index=False)"
   ]
  },
  {
   "attachments": {},
   "cell_type": "markdown",
   "metadata": {},
   "source": [
    "## load_and_calibrate_and_sample_petri_model"
   ]
  },
  {
   "cell_type": "code",
   "execution_count": 14,
   "metadata": {},
   "outputs": [
    {
     "name": "stdout",
     "output_type": "stream",
     "text": [
      "iteration 0: loss = 63.796528339385986\n",
      "iteration 25: loss = 58.426074743270874\n",
      "iteration 50: loss = 49.85667538642883\n",
      "iteration 75: loss = 44.239312410354614\n",
      "iteration 100: loss = 35.20773935317993\n",
      "iteration 125: loss = 36.89239001274109\n",
      "iteration 150: loss = 31.214526176452637\n",
      "iteration 175: loss = 31.498044967651367\n",
      "iteration 200: loss = 30.04111909866333\n",
      "iteration 225: loss = 30.397873878479004\n",
      "iteration 250: loss = 30.3555109500885\n",
      "iteration 275: loss = 31.16167974472046\n",
      "iteration 300: loss = 30.726374626159668\n",
      "iteration 325: loss = 29.893669843673706\n",
      "iteration 350: loss = 30.01099967956543\n",
      "iteration 375: loss = 29.83716106414795\n",
      "iteration 400: loss = 31.648341178894043\n",
      "iteration 425: loss = 30.367257118225098\n",
      "iteration 450: loss = 31.26539659500122\n",
      "iteration 475: loss = 29.29333209991455\n",
      "iteration 500: loss = 30.23838233947754\n",
      "iteration 525: loss = 29.057374715805054\n",
      "iteration 550: loss = 30.36006498336792\n",
      "iteration 575: loss = 30.363718271255493\n",
      "iteration 600: loss = 28.328775882720947\n",
      "iteration 625: loss = 29.271607637405396\n",
      "iteration 650: loss = 30.27192974090576\n",
      "iteration 675: loss = 29.014310598373413\n",
      "iteration 700: loss = 30.2902352809906\n",
      "iteration 725: loss = 29.32363986968994\n",
      "iteration 750: loss = 31.500337600708008\n",
      "iteration 775: loss = 28.41724705696106\n",
      "iteration 800: loss = 32.72076225280762\n",
      "iteration 825: loss = 29.556779384613037\n",
      "iteration 850: loss = 30.250113010406494\n",
      "iteration 875: loss = 30.72245168685913\n",
      "iteration 900: loss = 29.92627239227295\n",
      "iteration 925: loss = 29.49232006072998\n",
      "iteration 950: loss = 30.147915840148926\n",
      "iteration 975: loss = 31.702090978622437\n"
     ]
    }
   ],
   "source": [
    "data_path = os.path.join(DEMO_PATH, \"data.csv\")\n",
    "num_samples = 100\n",
    "timepoints = [0.0, 1.0, 2.0, 3.0, 4.0]\n",
    "\n",
    "# Run the calibration and sampling\n",
    "calibrated_samples = load_and_calibrate_and_sample_petri_model(\n",
    "    askenet_filepath,\n",
    "    data_path,\n",
    "    num_samples,\n",
    "    timepoints=timepoints,\n",
    "    add_uncertainty=True,\n",
    "    verbose=True,\n",
    ")\n",
    "\n",
    "# Save results\n",
    "calibrated_samples.to_csv(\n",
    "    os.path.join(DEMO_PATH, \"results_petri/calibrated_sample_results.csv\"), index=False\n",
    ")"
   ]
  }
 ],
 "metadata": {
  "kernelspec": {
   "display_name": "askem-test",
   "language": "python",
   "name": "python3"
  },
  "language_info": {
   "codemirror_mode": {
    "name": "ipython",
    "version": 3
   },
   "file_extension": ".py",
   "mimetype": "text/x-python",
   "name": "python",
   "nbconvert_exporter": "python",
   "pygments_lexer": "ipython3",
   "version": "3.10.11"
  },
  "orig_nbformat": 4
 },
 "nbformat": 4,
 "nbformat_minor": 2
}
