{
   "cells": [
      {
         "cell_type": "code",
         "execution_count": 1,
         "metadata": {},
         "outputs": [],
         "source": [
            "import os\n",
            "from pyciemss.PetriNetODE.interfaces import (\n",
            "    load_and_sample_petri_model,\n",
            "    load_and_calibrate_and_sample_petri_model\n",
            ")\n",
            "from pyciemss.visuals import plots"
         ]
      },
      {
         "cell_type": "code",
         "execution_count": 3,
         "metadata": {},
         "outputs": [],
         "source": [
            "DEMO_PATH = \"../../notebook/integration_demo/\"\n",
            "ASKENET_PATH = \"https://raw.githubusercontent.com/DARPA-ASKEM/Model-Representations/main/petrinet/examples/sir_typed.json\""
         ]
      },
      {
         "attachments": {},
         "cell_type": "markdown",
         "metadata": {},
         "source": [
            "## load_and_sample_petri_model"
         ]
      },
      {
         "cell_type": "code",
         "execution_count": 4,
         "metadata": {},
         "outputs": [],
         "source": [
            "num_samples = 3\n",
            "timepoints = [0.5, 1.0, 2.0, 3.0, 4.0]\n",
            "\n",
            "# Run sampling w/o an intervention\n",
            "samples = load_and_sample_petri_model(ASKENET_PATH,\n",
            "                                      num_samples,\n",
            "                                      timepoints=timepoints,\n",
            "                                      )\n",
            "\n",
            "# Save results\n",
            "samples.to_csv(os.path.join(DEMO_PATH, \"results_petri/sample_results.csv\"), index=False)"
         ]
      },
      {
         "cell_type": "code",
         "execution_count": 12,
         "metadata": {
            "scrolled": true
         },
         "outputs": [],
         "source": [
            "interventions = [(1.1, \"beta\", 1.0), (2.1, \"gamma\", 0.1), (1.3, \"beta\", 2.0), (1.4, \"gamma\", 0.3)]\n",
            "\n",
            "result = load_and_sample_petri_model(\n",
            "    ASKENET_PATH, num_samples, timepoints=timepoints, interventions=interventions,\n",
            "    time_unit=\"days\",\n",
            "    visual_options={\"title\": \"SIR Model\"}\n",
            ")\n",
            "\n",
            "# Save results\n",
            "result[\"data\"].to_csv(\n",
            "    os.path.join(DEMO_PATH, \"results_petri/sample_results_w_interventions.csv\"),\n",
            "    index=False,\n",
            ")"
         ]
      },
      {
         "cell_type": "code",
         "execution_count": 14,
         "metadata": {},
         "outputs": [
            {
               "data": {
                  "application/vnd.vega.v5+json": {
                     "$schema": "https://vega.github.io/schema/vega/v5.json",
                     "axes": [
                        {
                           "name": "x_axis",
                           "orient": "bottom",
                           "scale": "xscale",
                           "zindex": 100
                        },
                        {
                           "name": "y_axis",
                           "orient": "left",
                           "scale": "yscale",
                           "zindex": 100
                        }
                     ],
                     "data": [
                        {
                           "name": "distributions",
                           "values": [
                              {
                                 "lower": 1,
                                 "timepoint": 0,
                                 "trajectory": "I_sol",
                                 "upper": 1
                              },
                              {
                                 "lower": 877.4573974609375,
                                 "timepoint": 1,
                                 "trajectory": "I_sol",
                                 "upper": 927.6121307373047
                              },
                              {
                                 "lower": 683.2796447753906,
                                 "timepoint": 2,
                                 "trajectory": "I_sol",
                                 "upper": 743.7138610839844
                              },
                              {
                                 "lower": 606.015658569336,
                                 "timepoint": 3,
                                 "trajectory": "I_sol",
                                 "upper": 659.6153503417969
                              },
                              {
                                 "lower": 548.3454376220703,
                                 "timepoint": 4,
                                 "trajectory": "I_sol",
                                 "upper": 596.8450073242187
                              },
                              {
                                 "lower": 1.0243259539188809e-11,
                                 "timepoint": 0,
                                 "trajectory": "R_sol",
                                 "upper": 1.765681394497176e-11
                              },
                              {
                                 "lower": 73.3879238128662,
                                 "timepoint": 1,
                                 "trajectory": "R_sol",
                                 "upper": 123.54269790649414
                              },
                              {
                                 "lower": 257.2869567871094,
                                 "timepoint": 2,
                                 "trajectory": "R_sol",
                                 "upper": 317.7205413818359
                              },
                              {
                                 "lower": 341.38570709228514,
                                 "timepoint": 3,
                                 "trajectory": "R_sol",
                                 "upper": 394.9866241455078
                              },
                              {
                                 "lower": 404.15623779296874,
                                 "timepoint": 4,
                                 "trajectory": "R_sol",
                                 "upper": 452.6559204101562
                              },
                              {
                                 "lower": 1000,
                                 "timepoint": 0,
                                 "trajectory": "S_sol",
                                 "upper": 1000
                              },
                              {
                                 "lower": 0.0000021771419937977043,
                                 "timepoint": 1,
                                 "trajectory": "S_sol",
                                 "upper": 0.000014345584577313274
                              },
                              {
                                 "lower": -8.774725501758951e-10,
                                 "timepoint": 2,
                                 "trajectory": "S_sol",
                                 "upper": 8.484088986904225e-10
                              },
                              {
                                 "lower": -1.2179307951054596e-9,
                                 "timepoint": 3,
                                 "trajectory": "S_sol",
                                 "upper": 8.017695507511746e-10
                              },
                              {
                                 "lower": -9.036359216452183e-10,
                                 "timepoint": 4,
                                 "trajectory": "S_sol",
                                 "upper": 8.633076920006031e-10
                              },
                              {
                                 "lower": 0.026059315353631974,
                                 "timepoint": 0,
                                 "trajectory": "beta_param",
                                 "upper": 0.0279520807787776
                              },
                              {
                                 "lower": 0.026059315353631974,
                                 "timepoint": 1,
                                 "trajectory": "beta_param",
                                 "upper": 0.0279520807787776
                              },
                              {
                                 "lower": 2,
                                 "timepoint": 2,
                                 "trajectory": "beta_param",
                                 "upper": 2
                              },
                              {
                                 "lower": 2,
                                 "timepoint": 3,
                                 "trajectory": "beta_param",
                                 "upper": 2
                              },
                              {
                                 "lower": 2,
                                 "timepoint": 4,
                                 "trajectory": "beta_param",
                                 "upper": 2
                              },
                              {
                                 "lower": 0.10243259333074092,
                                 "timepoint": 0,
                                 "trajectory": "gamma_param",
                                 "upper": 0.17656814008951188
                              },
                              {
                                 "lower": 0.10243259333074092,
                                 "timepoint": 1,
                                 "trajectory": "gamma_param",
                                 "upper": 0.17656814008951188
                              },
                              {
                                 "lower": 0.3,
                                 "timepoint": 2,
                                 "trajectory": "gamma_param",
                                 "upper": 0.3
                              },
                              {
                                 "lower": 0.1,
                                 "timepoint": 3,
                                 "trajectory": "gamma_param",
                                 "upper": 0.1
                              },
                              {
                                 "lower": 0.1,
                                 "timepoint": 4,
                                 "trajectory": "gamma_param",
                                 "upper": 0.1
                              }
                           ]
                        },
                        {
                           "name": "traces",
                           "transform": [
                              {
                                 "expr": "isValid(datum.value)",
                                 "type": "filter"
                              }
                           ],
                           "values": []
                        },
                        {
                           "name": "points",
                           "values": []
                        },
                        {
                           "name": "markers",
                           "values": []
                        },
                        {
                           "name": "selected",
                           "on": [
                              {
                                 "remove": true,
                                 "trigger": "clear"
                              },
                              {
                                 "remove": true,
                                 "trigger": "!shift"
                              },
                              {
                                 "insert": "clicked",
                                 "trigger": "!shift && clicked"
                              },
                              {
                                 "toggle": "clicked",
                                 "trigger": "shift && clicked"
                              }
                           ]
                        }
                     ],
                     "height": 300,
                     "legends": [
                        {
                           "encode": {
                              "labels": {
                                 "interactive": true,
                                 "name": "legendLabel",
                                 "update": {
                                    "opacity": [
                                       {
                                          "test": "!length(data('selected')) || indata('selected', 'value', datum.value)",
                                          "value": 1
                                       },
                                       {
                                          "value": 0.25
                                       }
                                    ]
                                 }
                              },
                              "symbols": {
                                 "interactive": true,
                                 "name": "legendSymbol",
                                 "update": {
                                    "fill": {
                                       "value": "transparent"
                                    },
                                    "opacity": [
                                       {
                                          "test": "!length(data('selected')) || indata('selected', 'value', datum.value)",
                                          "value": 0.7
                                       },
                                       {
                                          "value": 0.15
                                       }
                                    ],
                                    "size": {
                                       "value": 64
                                    },
                                    "strokeWidth": {
                                       "value": 2
                                    }
                                 }
                              }
                           },
                           "name": "color_legend",
                           "stroke": "color"
                        }
                     ],
                     "marks": [
                        {
                           "from": {
                              "facet": {
                                 "data": "points",
                                 "groupby": "trajectory",
                                 "name": "points_split"
                              }
                           },
                           "marks": [
                              {
                                 "encode": {
                                    "hover": {
                                       "fillOpacity": {
                                          "value": 0.9
                                       }
                                    },
                                    "update": {
                                       "fill": {
                                          "field": "trajectory",
                                          "scale": "color"
                                       },
                                       "fillOpacity": [
                                          {
                                             "test": "!length(data('selected')) || indata('selected', 'value', datum.trajectory)",
                                             "value": 0.5
                                          },
                                          {
                                             "value": 0.15
                                          }
                                       ],
                                       "size": {
                                          "value": 10
                                       },
                                       "stroke": {
                                          "field": "trajectory",
                                          "scale": "color"
                                       },
                                       "strokeOpacity": [
                                          {
                                             "test": "!length(data('selected')) || indata('selected', 'value', datum.trajectory)",
                                             "value": 0.75
                                          },
                                          {
                                             "value": 0.15
                                          }
                                       ],
                                       "strokeWidth": {
                                          "value": 2
                                       },
                                       "tooltip": {
                                          "field": "value"
                                       },
                                       "x": {
                                          "field": "timepoint",
                                          "scale": "xscale"
                                       },
                                       "y": {
                                          "field": "value",
                                          "scale": "yscale"
                                       }
                                    }
                                 },
                                 "from": {
                                    "data": "points"
                                 },
                                 "name": "_points_symbol",
                                 "type": "symbol",
                                 "zindex": 3
                              },
                              {
                                 "encode": {
                                    "hover": {
                                       "fillOpacity": {
                                          "value": 0.9
                                       }
                                    },
                                    "update": {
                                       "interpolate": {
                                          "value": "linear"
                                       },
                                       "stroke": {
                                          "field": "trajectory",
                                          "scale": "color"
                                       },
                                       "strokeOpacity": [
                                          {
                                             "test": "!length(data('selected')) || indata('selected', 'value', datum.trajectory)",
                                             "value": 0.3
                                          },
                                          {
                                             "value": 0.1
                                          }
                                       ],
                                       "strokeWidth": {
                                          "value": 2
                                       },
                                       "x": {
                                          "field": "timepoint",
                                          "scale": "xscale"
                                       },
                                       "y": {
                                          "field": "value",
                                          "scale": "yscale"
                                       }
                                    }
                                 },
                                 "from": {
                                    "data": "points"
                                 },
                                 "name": "_points_line",
                                 "type": "line",
                                 "zindex": 3
                              }
                           ],
                           "name": "_points",
                           "type": "group",
                           "zindex": 3
                        },
                        {
                           "from": {
                              "facet": {
                                 "data": "traces",
                                 "groupby": "trajectory",
                                 "name": "traces_split"
                              }
                           },
                           "marks": [
                              {
                                 "encode": {
                                    "hover": {
                                       "fillOpacity": {
                                          "value": 0.9
                                       }
                                    },
                                    "update": {
                                       "interpolate": {
                                          "value": "linear"
                                       },
                                       "stroke": {
                                          "field": "trajectory",
                                          "scale": "color"
                                       },
                                       "strokeOpacity": [
                                          {
                                             "test": "!length(data('selected')) || indata('selected', 'value', datum.trajectory)",
                                             "value": 0.75
                                          },
                                          {
                                             "value": 0.15
                                          }
                                       ],
                                       "strokeWidth": {
                                          "value": 2
                                       },
                                       "x": {
                                          "field": "timepoint",
                                          "scale": "xscale"
                                       },
                                       "y": {
                                          "field": "value",
                                          "scale": "yscale"
                                       }
                                    }
                                 },
                                 "from": {
                                    "data": "traces_split"
                                 },
                                 "name": "_traces_lines",
                                 "type": "line"
                              }
                           ],
                           "name": "_traces",
                           "type": "group",
                           "zindex": 2
                        },
                        {
                           "from": {
                              "facet": {
                                 "data": "distributions",
                                 "groupby": "trajectory",
                                 "name": "trajectory_split"
                              }
                           },
                           "marks": [
                              {
                                 "encode": {
                                    "hover": {
                                       "fillOpacity": {
                                          "value": 0.9
                                       }
                                    },
                                    "update": {
                                       "fill": {
                                          "field": "trajectory",
                                          "scale": "color"
                                       },
                                       "fillOpacity": [
                                          {
                                             "test": "!length(data('selected')) || indata('selected', 'value', datum.trajectory)",
                                             "value": 0.5
                                          },
                                          {
                                             "value": 0.15
                                          }
                                       ],
                                       "interpolate": {
                                          "value": "linear"
                                       },
                                       "stroke": {
                                          "field": "trajectory",
                                          "scale": "color"
                                       },
                                       "strokeOpacity": [
                                          {
                                             "test": "!length(data('selected')) || indata('selected', 'value', datum.trajectory)",
                                             "value": 0.75
                                          },
                                          {
                                             "value": 0.15
                                          }
                                       ],
                                       "strokeWidth": {
                                          "value": 2
                                       },
                                       "x": {
                                          "field": "timepoint",
                                          "scale": "xscale"
                                       },
                                       "y": {
                                          "field": "upper",
                                          "scale": "yscale"
                                       },
                                       "y2": {
                                          "field": "lower",
                                          "scale": "yscale"
                                       }
                                    }
                                 },
                                 "from": {
                                    "data": "trajectory_split"
                                 },
                                 "type": "area"
                              }
                           ],
                           "name": "_distributions",
                           "type": "group",
                           "zindex": 1
                        },
                        {
                           "marks": [
                              {
                                 "encode": {
                                    "enter": {
                                       "stroke": {
                                          "value": "lightgray"
                                       }
                                    },
                                    "update": {
                                       "opacity": {
                                          "value": 1
                                       },
                                       "x": {
                                          "field": "timepoint",
                                          "scale": "xscale"
                                       },
                                       "y": {
                                          "signal": "height"
                                       },
                                       "y2": {
                                          "value": 0
                                       }
                                    }
                                 },
                                 "from": {
                                    "data": "markers"
                                 },
                                 "name": "_marker text",
                                 "type": "rule"
                              },
                              {
                                 "encode": {
                                    "enter": {
                                       "fontSize": {
                                          "value": 8
                                       },
                                       "text": {
                                          "field": "datum.label"
                                       },
                                       "y": {
                                          "value": 0
                                       }
                                    }
                                 },
                                 "from": {
                                    "data": "_marker text"
                                 },
                                 "name": "_marker flags",
                                 "transform": [
                                    {
                                       "as": [
                                          "x",
                                          "_y",
                                          "opacity",
                                          "align",
                                          "baseline"
                                       ],
                                       "lineAnchor": "start",
                                       "offset": [
                                          1
                                       ],
                                       "size": {
                                          "signal": "[width, height]"
                                       },
                                       "type": "label"
                                    }
                                 ],
                                 "type": "text"
                              }
                           ],
                           "name": "_markers",
                           "type": "group"
                        }
                     ],
                     "scales": [
                        {
                           "domain": {
                              "fields": [
                                 {
                                    "data": "distributions",
                                    "field": "timepoint"
                                 },
                                 {
                                    "data": "traces",
                                    "field": "timepoint"
                                 },
                                 {
                                    "data": "points",
                                    "field": "timepoint"
                                 },
                                 {
                                    "data": "markers",
                                    "field": "timepoint"
                                 }
                              ]
                           },
                           "name": "xscale",
                           "range": "width",
                           "type": "linear",
                           "zero": false
                        },
                        {
                           "domain": {
                              "fields": [
                                 {
                                    "data": "distributions",
                                    "field": "lower"
                                 },
                                 {
                                    "data": "distributions",
                                    "field": "upper"
                                 },
                                 {
                                    "data": "traces",
                                    "field": "value"
                                 },
                                 {
                                    "data": "points",
                                    "field": "value"
                                 }
                              ]
                           },
                           "name": "yscale",
                           "nice": true,
                           "range": "height",
                           "type": "linear",
                           "zero": true
                        },
                        {
                           "domain": {
                              "fields": [
                                 {
                                    "data": "distributions",
                                    "field": "trajectory"
                                 },
                                 {
                                    "data": "traces",
                                    "field": "trajectory"
                                 },
                                 {
                                    "data": "points",
                                    "field": "trajectory"
                                 }
                              ]
                           },
                           "name": "color",
                           "range": "category",
                           "type": "ordinal"
                        }
                     ],
                     "signals": [
                        {
                           "name": "clear",
                           "on": [
                              {
                                 "events": "mouseup[!event.item]",
                                 "force": true,
                                 "update": "true"
                              }
                           ],
                           "value": true
                        },
                        {
                           "name": "shift",
                           "on": [
                              {
                                 "events": "@legendSymbol:click, @legendLabel:click",
                                 "force": true,
                                 "update": "event.shiftKey"
                              }
                           ],
                           "value": false
                        },
                        {
                           "name": "clicked",
                           "on": [
                              {
                                 "events": "@legendSymbol:click, @legendLabel:click",
                                 "force": true,
                                 "update": "{value: datum.value}"
                              }
                           ],
                           "value": null
                        }
                     ],
                     "title": "SIR Model",
                     "width": 500
                  }
               },
               "metadata": {},
               "output_type": "display_data"
            }
         ],
         "source": [
            "plots.ipy_display(result[\"visual\"])"
         ]
      },
      {
         "attachments": {},
         "cell_type": "markdown",
         "metadata": {},
         "source": [
            "## load_and_calibrate_and_sample_petri_model"
         ]
      },
      {
         "cell_type": "code",
         "execution_count": 7,
         "metadata": {},
         "outputs": [
            {
               "name": "stdout",
               "output_type": "stream",
               "text": [
                  "iteration 0: loss = 63.53947305679321\n",
                  "iteration 25: loss = 60.386880576610565\n",
                  "iteration 50: loss = 59.192054480314255\n",
                  "iteration 75: loss = 57.10011076927185\n",
                  "iteration 100: loss = 57.42118191719055\n",
                  "iteration 125: loss = 56.839141845703125\n",
                  "iteration 150: loss = 57.19517421722412\n",
                  "iteration 175: loss = 56.63055753707886\n",
                  "iteration 200: loss = 56.908236265182495\n",
                  "iteration 225: loss = 56.390862464904785\n",
                  "iteration 250: loss = 57.17507243156433\n",
                  "iteration 275: loss = 56.784056663513184\n",
                  "iteration 300: loss = 56.87023997306824\n",
                  "iteration 325: loss = 56.63281607627869\n",
                  "iteration 350: loss = 56.65362858772278\n",
                  "iteration 375: loss = 56.769177198410034\n",
                  "iteration 400: loss = 56.708879232406616\n",
                  "iteration 425: loss = 56.69521164894104\n",
                  "iteration 450: loss = 56.885953187942505\n",
                  "iteration 475: loss = 56.820682764053345\n",
                  "iteration 500: loss = 56.40895867347717\n",
                  "iteration 525: loss = 57.29121136665344\n",
                  "iteration 550: loss = 56.69179081916809\n",
                  "iteration 575: loss = 56.56495022773743\n",
                  "iteration 600: loss = 56.823312520980835\n",
                  "iteration 625: loss = 56.39842963218689\n",
                  "iteration 650: loss = 56.51601195335388\n",
                  "iteration 675: loss = 56.81413388252258\n",
                  "iteration 700: loss = 56.608365297317505\n",
                  "iteration 725: loss = 56.57794690132141\n",
                  "iteration 750: loss = 56.302627086639404\n",
                  "iteration 775: loss = 56.769116163253784\n",
                  "iteration 800: loss = 56.609501361846924\n",
                  "iteration 825: loss = 56.718398332595825\n",
                  "iteration 850: loss = 56.470194816589355\n",
                  "iteration 875: loss = 57.11666417121887\n",
                  "iteration 900: loss = 56.405802965164185\n",
                  "iteration 925: loss = 56.77439069747925\n",
                  "iteration 950: loss = 56.38880443572998\n",
                  "iteration 975: loss = 56.318623304367065\n"
               ]
            }
         ],
         "source": [
            "data_path = os.path.join(DEMO_PATH, \"data.csv\")\n",
            "num_samples = 100\n",
            "timepoints = [0.0, 1.0, 2.0, 3.0, 4.0]\n",
            "\n",
            "# Run the calibration and sampling\n",
            "result = load_and_calibrate_and_sample_petri_model(\n",
            "    ASKENET_PATH,\n",
            "    data_path,\n",
            "    num_samples,\n",
            "    timepoints=timepoints,\n",
            "    verbose=True,\n",
            "    visual_options={\"title\": \"Intervened SIR Model\"}\n",
            ")\n",
            "\n",
            "# Save results\n",
            "result['data'].to_csv(\n",
            "    os.path.join(DEMO_PATH, \"results_petri/calibrated_sample_results.csv\"), index=False\n",
            ")"
         ]
      },
      {
         "cell_type": "code",
         "execution_count": 10,
         "metadata": {},
         "outputs": [
            {
               "data": {
                  "application/vnd.vega.v5+json": {
                     "$schema": "https://vega.github.io/schema/vega/v5.json",
                     "axes": [
                        {
                           "name": "x_axis",
                           "orient": "bottom",
                           "scale": "xscale",
                           "zindex": 100
                        },
                        {
                           "name": "y_axis",
                           "orient": "left",
                           "scale": "yscale",
                           "zindex": 100
                        }
                     ],
                     "data": [
                        {
                           "name": "distributions",
                           "values": [
                              {
                                 "lower": 1,
                                 "timepoint": 0,
                                 "trajectory": "I_sol",
                                 "upper": 1
                              },
                              {
                                 "lower": 877.0115112304687,
                                 "timepoint": 1,
                                 "trajectory": "I_sol",
                                 "upper": 925.4601684570313
                              },
                              {
                                 "lower": 732.9671752929687,
                                 "timepoint": 2,
                                 "trajectory": "I_sol",
                                 "upper": 832.2905853271484
                              },
                              {
                                 "lower": 612.4205291748046,
                                 "timepoint": 3,
                                 "trajectory": "I_sol",
                                 "upper": 748.487890625
                              },
                              {
                                 "lower": 511.7036865234375,
                                 "timepoint": 4,
                                 "trajectory": "I_sol",
                                 "upper": 673.122509765625
                              },
                              {
                                 "lower": 1.0612780055804793e-11,
                                 "timepoint": 0,
                                 "trajectory": "R_sol",
                                 "upper": 1.7955781479728207e-11
                              },
                              {
                                 "lower": 75.53989105224609,
                                 "timepoint": 1,
                                 "trajectory": "R_sol",
                                 "upper": 123.98850173950196
                              },
                              {
                                 "lower": 168.7094970703125,
                                 "timepoint": 2,
                                 "trajectory": "R_sol",
                                 "upper": 268.03208312988284
                              },
                              {
                                 "lower": 252.5126754760742,
                                 "timepoint": 3,
                                 "trajectory": "R_sol",
                                 "upper": 388.5791275024414
                              },
                              {
                                 "lower": 327.8776336669922,
                                 "timepoint": 4,
                                 "trajectory": "R_sol",
                                 "upper": 489.2959182739258
                              },
                              {
                                 "lower": 1000,
                                 "timepoint": 0,
                                 "trajectory": "S_sol",
                                 "upper": 1000
                              },
                              {
                                 "lower": 0.0000028814162419621426,
                                 "timepoint": 1,
                                 "trajectory": "S_sol",
                                 "upper": 0.000014396547112482947
                              },
                              {
                                 "lower": -5.693084170754758e-10,
                                 "timepoint": 2,
                                 "trajectory": "S_sol",
                                 "upper": 7.998711026857563e-10
                              },
                              {
                                 "lower": -7.062177398431402e-10,
                                 "timepoint": 3,
                                 "trajectory": "S_sol",
                                 "upper": 7.899658704957345e-10
                              },
                              {
                                 "lower": -6.687636555646748e-10,
                                 "timepoint": 4,
                                 "trajectory": "S_sol",
                                 "upper": 1.0444135334353178e-9
                              },
                              {
                                 "lower": 0.02606907384470105,
                                 "timepoint": 0,
                                 "trajectory": "beta_param",
                                 "upper": 0.02779578333720565
                              },
                              {
                                 "lower": 0.02606907384470105,
                                 "timepoint": 1,
                                 "trajectory": "beta_param",
                                 "upper": 0.02779578333720565
                              },
                              {
                                 "lower": 0.02606907384470105,
                                 "timepoint": 2,
                                 "trajectory": "beta_param",
                                 "upper": 0.02779578333720565
                              },
                              {
                                 "lower": 0.02606907384470105,
                                 "timepoint": 3,
                                 "trajectory": "beta_param",
                                 "upper": 0.02779578333720565
                              },
                              {
                                 "lower": 0.02606907384470105,
                                 "timepoint": 4,
                                 "trajectory": "beta_param",
                                 "upper": 0.02779578333720565
                              },
                              {
                                 "lower": 0.10612780228257179,
                                 "timepoint": 0,
                                 "trajectory": "gamma_param",
                                 "upper": 0.17955781668424606
                              },
                              {
                                 "lower": 0.10612780228257179,
                                 "timepoint": 1,
                                 "trajectory": "gamma_param",
                                 "upper": 0.17955781668424606
                              },
                              {
                                 "lower": 0.10612780228257179,
                                 "timepoint": 2,
                                 "trajectory": "gamma_param",
                                 "upper": 0.17955781668424606
                              },
                              {
                                 "lower": 0.10612780228257179,
                                 "timepoint": 3,
                                 "trajectory": "gamma_param",
                                 "upper": 0.17955781668424606
                              },
                              {
                                 "lower": 0.10612780228257179,
                                 "timepoint": 4,
                                 "trajectory": "gamma_param",
                                 "upper": 0.17955781668424606
                              }
                           ]
                        },
                        {
                           "name": "traces",
                           "transform": [
                              {
                                 "expr": "isValid(datum.value)",
                                 "type": "filter"
                              }
                           ],
                           "values": []
                        },
                        {
                           "name": "points",
                           "values": []
                        },
                        {
                           "name": "markers",
                           "values": []
                        },
                        {
                           "name": "selected",
                           "on": [
                              {
                                 "remove": true,
                                 "trigger": "clear"
                              },
                              {
                                 "remove": true,
                                 "trigger": "!shift"
                              },
                              {
                                 "insert": "clicked",
                                 "trigger": "!shift && clicked"
                              },
                              {
                                 "toggle": "clicked",
                                 "trigger": "shift && clicked"
                              }
                           ]
                        }
                     ],
                     "height": 300,
                     "legends": [
                        {
                           "encode": {
                              "labels": {
                                 "interactive": true,
                                 "name": "legendLabel",
                                 "update": {
                                    "opacity": [
                                       {
                                          "test": "!length(data('selected')) || indata('selected', 'value', datum.value)",
                                          "value": 1
                                       },
                                       {
                                          "value": 0.25
                                       }
                                    ]
                                 }
                              },
                              "symbols": {
                                 "interactive": true,
                                 "name": "legendSymbol",
                                 "update": {
                                    "fill": {
                                       "value": "transparent"
                                    },
                                    "opacity": [
                                       {
                                          "test": "!length(data('selected')) || indata('selected', 'value', datum.value)",
                                          "value": 0.7
                                       },
                                       {
                                          "value": 0.15
                                       }
                                    ],
                                    "size": {
                                       "value": 64
                                    },
                                    "strokeWidth": {
                                       "value": 2
                                    }
                                 }
                              }
                           },
                           "name": "color_legend",
                           "stroke": "color"
                        }
                     ],
                     "marks": [
                        {
                           "from": {
                              "facet": {
                                 "data": "points",
                                 "groupby": "trajectory",
                                 "name": "points_split"
                              }
                           },
                           "marks": [
                              {
                                 "encode": {
                                    "hover": {
                                       "fillOpacity": {
                                          "value": 0.9
                                       }
                                    },
                                    "update": {
                                       "fill": {
                                          "field": "trajectory",
                                          "scale": "color"
                                       },
                                       "fillOpacity": [
                                          {
                                             "test": "!length(data('selected')) || indata('selected', 'value', datum.trajectory)",
                                             "value": 0.5
                                          },
                                          {
                                             "value": 0.15
                                          }
                                       ],
                                       "size": {
                                          "value": 10
                                       },
                                       "stroke": {
                                          "field": "trajectory",
                                          "scale": "color"
                                       },
                                       "strokeOpacity": [
                                          {
                                             "test": "!length(data('selected')) || indata('selected', 'value', datum.trajectory)",
                                             "value": 0.75
                                          },
                                          {
                                             "value": 0.15
                                          }
                                       ],
                                       "strokeWidth": {
                                          "value": 2
                                       },
                                       "tooltip": {
                                          "field": "value"
                                       },
                                       "x": {
                                          "field": "timepoint",
                                          "scale": "xscale"
                                       },
                                       "y": {
                                          "field": "value",
                                          "scale": "yscale"
                                       }
                                    }
                                 },
                                 "from": {
                                    "data": "points"
                                 },
                                 "name": "_points_symbol",
                                 "type": "symbol",
                                 "zindex": 3
                              },
                              {
                                 "encode": {
                                    "hover": {
                                       "fillOpacity": {
                                          "value": 0.9
                                       }
                                    },
                                    "update": {
                                       "interpolate": {
                                          "value": "linear"
                                       },
                                       "stroke": {
                                          "field": "trajectory",
                                          "scale": "color"
                                       },
                                       "strokeOpacity": [
                                          {
                                             "test": "!length(data('selected')) || indata('selected', 'value', datum.trajectory)",
                                             "value": 0.3
                                          },
                                          {
                                             "value": 0.1
                                          }
                                       ],
                                       "strokeWidth": {
                                          "value": 2
                                       },
                                       "x": {
                                          "field": "timepoint",
                                          "scale": "xscale"
                                       },
                                       "y": {
                                          "field": "value",
                                          "scale": "yscale"
                                       }
                                    }
                                 },
                                 "from": {
                                    "data": "points"
                                 },
                                 "name": "_points_line",
                                 "type": "line",
                                 "zindex": 3
                              }
                           ],
                           "name": "_points",
                           "type": "group",
                           "zindex": 3
                        },
                        {
                           "from": {
                              "facet": {
                                 "data": "traces",
                                 "groupby": "trajectory",
                                 "name": "traces_split"
                              }
                           },
                           "marks": [
                              {
                                 "encode": {
                                    "hover": {
                                       "fillOpacity": {
                                          "value": 0.9
                                       }
                                    },
                                    "update": {
                                       "interpolate": {
                                          "value": "linear"
                                       },
                                       "stroke": {
                                          "field": "trajectory",
                                          "scale": "color"
                                       },
                                       "strokeOpacity": [
                                          {
                                             "test": "!length(data('selected')) || indata('selected', 'value', datum.trajectory)",
                                             "value": 0.75
                                          },
                                          {
                                             "value": 0.15
                                          }
                                       ],
                                       "strokeWidth": {
                                          "value": 2
                                       },
                                       "x": {
                                          "field": "timepoint",
                                          "scale": "xscale"
                                       },
                                       "y": {
                                          "field": "value",
                                          "scale": "yscale"
                                       }
                                    }
                                 },
                                 "from": {
                                    "data": "traces_split"
                                 },
                                 "name": "_traces_lines",
                                 "type": "line"
                              }
                           ],
                           "name": "_traces",
                           "type": "group",
                           "zindex": 2
                        },
                        {
                           "from": {
                              "facet": {
                                 "data": "distributions",
                                 "groupby": "trajectory",
                                 "name": "trajectory_split"
                              }
                           },
                           "marks": [
                              {
                                 "encode": {
                                    "hover": {
                                       "fillOpacity": {
                                          "value": 0.9
                                       }
                                    },
                                    "update": {
                                       "fill": {
                                          "field": "trajectory",
                                          "scale": "color"
                                       },
                                       "fillOpacity": [
                                          {
                                             "test": "!length(data('selected')) || indata('selected', 'value', datum.trajectory)",
                                             "value": 0.5
                                          },
                                          {
                                             "value": 0.15
                                          }
                                       ],
                                       "interpolate": {
                                          "value": "linear"
                                       },
                                       "stroke": {
                                          "field": "trajectory",
                                          "scale": "color"
                                       },
                                       "strokeOpacity": [
                                          {
                                             "test": "!length(data('selected')) || indata('selected', 'value', datum.trajectory)",
                                             "value": 0.75
                                          },
                                          {
                                             "value": 0.15
                                          }
                                       ],
                                       "strokeWidth": {
                                          "value": 2
                                       },
                                       "x": {
                                          "field": "timepoint",
                                          "scale": "xscale"
                                       },
                                       "y": {
                                          "field": "upper",
                                          "scale": "yscale"
                                       },
                                       "y2": {
                                          "field": "lower",
                                          "scale": "yscale"
                                       }
                                    }
                                 },
                                 "from": {
                                    "data": "trajectory_split"
                                 },
                                 "type": "area"
                              }
                           ],
                           "name": "_distributions",
                           "type": "group",
                           "zindex": 1
                        },
                        {
                           "marks": [
                              {
                                 "encode": {
                                    "enter": {
                                       "stroke": {
                                          "value": "lightgray"
                                       }
                                    },
                                    "update": {
                                       "opacity": {
                                          "value": 1
                                       },
                                       "x": {
                                          "field": "timepoint",
                                          "scale": "xscale"
                                       },
                                       "y": {
                                          "signal": "height"
                                       },
                                       "y2": {
                                          "value": 0
                                       }
                                    }
                                 },
                                 "from": {
                                    "data": "markers"
                                 },
                                 "name": "_marker text",
                                 "type": "rule"
                              },
                              {
                                 "encode": {
                                    "enter": {
                                       "fontSize": {
                                          "value": 8
                                       },
                                       "text": {
                                          "field": "datum.label"
                                       },
                                       "y": {
                                          "value": 0
                                       }
                                    }
                                 },
                                 "from": {
                                    "data": "_marker text"
                                 },
                                 "name": "_marker flags",
                                 "transform": [
                                    {
                                       "as": [
                                          "x",
                                          "_y",
                                          "opacity",
                                          "align",
                                          "baseline"
                                       ],
                                       "lineAnchor": "start",
                                       "offset": [
                                          1
                                       ],
                                       "size": {
                                          "signal": "[width, height]"
                                       },
                                       "type": "label"
                                    }
                                 ],
                                 "type": "text"
                              }
                           ],
                           "name": "_markers",
                           "type": "group"
                        }
                     ],
                     "scales": [
                        {
                           "domain": {
                              "fields": [
                                 {
                                    "data": "distributions",
                                    "field": "timepoint"
                                 },
                                 {
                                    "data": "traces",
                                    "field": "timepoint"
                                 },
                                 {
                                    "data": "points",
                                    "field": "timepoint"
                                 },
                                 {
                                    "data": "markers",
                                    "field": "timepoint"
                                 }
                              ]
                           },
                           "name": "xscale",
                           "range": "width",
                           "type": "linear",
                           "zero": false
                        },
                        {
                           "domain": {
                              "fields": [
                                 {
                                    "data": "distributions",
                                    "field": "lower"
                                 },
                                 {
                                    "data": "distributions",
                                    "field": "upper"
                                 },
                                 {
                                    "data": "traces",
                                    "field": "value"
                                 },
                                 {
                                    "data": "points",
                                    "field": "value"
                                 }
                              ]
                           },
                           "name": "yscale",
                           "nice": true,
                           "range": "height",
                           "type": "linear",
                           "zero": true
                        },
                        {
                           "domain": {
                              "fields": [
                                 {
                                    "data": "distributions",
                                    "field": "trajectory"
                                 },
                                 {
                                    "data": "traces",
                                    "field": "trajectory"
                                 },
                                 {
                                    "data": "points",
                                    "field": "trajectory"
                                 }
                              ]
                           },
                           "name": "color",
                           "range": "category",
                           "type": "ordinal"
                        }
                     ],
                     "signals": [
                        {
                           "name": "clear",
                           "on": [
                              {
                                 "events": "mouseup[!event.item]",
                                 "force": true,
                                 "update": "true"
                              }
                           ],
                           "value": true
                        },
                        {
                           "name": "shift",
                           "on": [
                              {
                                 "events": "@legendSymbol:click, @legendLabel:click",
                                 "force": true,
                                 "update": "event.shiftKey"
                              }
                           ],
                           "value": false
                        },
                        {
                           "name": "clicked",
                           "on": [
                              {
                                 "events": "@legendSymbol:click, @legendLabel:click",
                                 "force": true,
                                 "update": "{value: datum.value}"
                              }
                           ],
                           "value": null
                        }
                     ],
                     "title": "Intervened SIR Model",
                     "width": 500
                  }
               },
               "metadata": {},
               "output_type": "display_data"
            }
         ],
         "source": [
            "plots.ipy_display(result[\"visual\"])"
         ]
      },
      {
         "cell_type": "code",
         "execution_count": null,
         "metadata": {},
         "outputs": [],
         "source": []
      }
   ],
   "source": [
    "data_path = os.path.join(DEMO_PATH, \"data.csv\")\n",
    "num_samples = 100\n",
    "timepoints = [0.0, 1.0, 2.0, 3.0, 4.0]\n",
    "\n",
    "# Run the calibration and sampling\n",
    "calibrated_samples = load_and_calibrate_and_sample_petri_model(\n",
    "    ASKENET_PATH,\n",
    "    data_path,\n",
    "    num_samples,\n",
    "    timepoints=timepoints,\n",
    "    verbose=True,\n",
    ")\n",
    "\n",
    "# Save results\n",
    "calibrated_samples.to_csv(\n",
    "    os.path.join(DEMO_PATH, \"results_petri/calibrated_sample_results.csv\"), index=False\n",
    ")"
   ]
  }
 ],
 "metadata": {
  "kernelspec": {
   "display_name": "clean-build",
   "language": "python",
   "name": "clean-build"
  },
  "language_info": {
   "codemirror_mode": {
    "name": "ipython",
    "version": 3
   },
   "nbformat": 4,
   "nbformat_minor": 4
}
