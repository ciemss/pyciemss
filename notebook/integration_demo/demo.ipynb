{
 "cells": [
  {
   "cell_type": "code",
   "execution_count": 1,
   "metadata": {},
   "outputs": [],
   "source": [
    "import os\n",
    "from pyciemss.PetriNetODE.interfaces import (\n",
    "    load_and_sample_petri_model,\n",
    "    load_and_calibrate_and_sample_petri_model,\n",
    "    load_and_optimize_and_sample_petri_model,\n",
    "    load_and_calibrate_and_optimize_and_sample_petri_model\n",
    ")\n",
    "import numpy as np"
   ]
  },
  {
   "cell_type": "code",
   "execution_count": 2,
   "metadata": {},
   "outputs": [],
   "source": [
    "DEMO_PATH = \"../../notebook/integration_demo/\"\n",
    "ASKENET_PATH = \"https://raw.githubusercontent.com/DARPA-ASKEM/Model-Representations/main/petrinet/examples/sir_typed.json\""
   ]
  },
  {
   "attachments": {},
   "cell_type": "markdown",
   "metadata": {},
   "source": [
    "## load_and_sample_petri_model"
   ]
  },
  {
   "cell_type": "code",
   "execution_count": 3,
   "metadata": {},
   "outputs": [],
   "source": [
    "num_samples = 3\n",
    "timepoints = [0.5, 1.0, 2.0, 3.0, 4.0]\n",
    "\n",
    "# Run sampling w/o an intervention\n",
    "samples = load_and_sample_petri_model(ASKENET_PATH, num_samples, timepoints=timepoints)\n",
    "\n",
    "# Save results\n",
    "samples.to_csv(os.path.join(DEMO_PATH, \"results_petri/sample_results.csv\"), index=False)"
   ]
  },
  {
   "cell_type": "code",
   "execution_count": 4,
   "metadata": {
    "scrolled": true
   },
   "outputs": [],
   "source": [
    "interventions = [(1.1, \"beta\", 1.0), (2.1, \"gamma\", 0.1), (1.3, \"beta\", 2.0), (1.4, \"gamma\", 0.3)]\n",
    "\n",
    "intervened_samples = load_and_sample_petri_model(\n",
    "    ASKENET_PATH, num_samples, timepoints=timepoints, interventions=interventions\n",
    ")\n",
    "\n",
    "\n",
    "# Save results\n",
    "intervened_samples.to_csv(\n",
    "    os.path.join(DEMO_PATH, \"results_petri/sample_results_w_interventions.csv\"),\n",
    "    index=False,\n",
    ")"
   ]
  },
  {
   "attachments": {},
   "cell_type": "markdown",
   "metadata": {},
   "source": [
    "## load_and_calibrate_and_sample_petri_model"
   ]
  },
  {
   "cell_type": "code",
   "execution_count": 5,
   "metadata": {},
   "outputs": [
    {
     "name": "stdout",
     "output_type": "stream",
     "text": [
      "iteration 0: loss = 62.71157956123352\n",
      "iteration 25: loss = 60.2327595949173\n",
      "iteration 50: loss = 59.43513986468315\n",
      "iteration 75: loss = 57.84722709655762\n",
      "iteration 100: loss = 57.21866774559021\n",
      "iteration 125: loss = 54.55526041984558\n",
      "iteration 150: loss = 56.586472272872925\n",
      "iteration 175: loss = 56.48748993873596\n",
      "iteration 200: loss = 57.76699471473694\n",
      "iteration 225: loss = 56.420393228530884\n",
      "iteration 250: loss = 56.50965619087219\n",
      "iteration 275: loss = 57.15613293647766\n",
      "iteration 300: loss = 57.15349459648132\n",
      "iteration 325: loss = 56.28747487068176\n",
      "iteration 350: loss = 56.70499229431152\n",
      "iteration 375: loss = 56.99318718910217\n",
      "iteration 400: loss = 56.75043559074402\n",
      "iteration 425: loss = 56.87058615684509\n",
      "iteration 450: loss = 56.919875383377075\n",
      "iteration 475: loss = 56.7110652923584\n",
      "iteration 500: loss = 56.31728911399841\n",
      "iteration 525: loss = 57.057708978652954\n",
      "iteration 550: loss = 56.911702394485474\n",
      "iteration 575: loss = 56.30956697463989\n",
      "iteration 600: loss = 56.72348237037659\n",
      "iteration 625: loss = 56.73230528831482\n",
      "iteration 650: loss = 56.698020219802856\n",
      "iteration 675: loss = 56.630573749542236\n",
      "iteration 700: loss = 56.558645248413086\n",
      "iteration 725: loss = 56.71847414970398\n",
      "iteration 750: loss = 56.62203907966614\n",
      "iteration 775: loss = 56.167030572891235\n",
      "iteration 800: loss = 56.67534375190735\n",
      "iteration 825: loss = 56.663244009017944\n",
      "iteration 850: loss = 56.84462928771973\n",
      "iteration 875: loss = 57.23715424537659\n",
      "iteration 900: loss = 56.924983739852905\n",
      "iteration 925: loss = 56.61146521568298\n",
      "iteration 950: loss = 56.52499175071716\n",
      "iteration 975: loss = 55.95383858680725\n"
     ]
    }
   ],
   "source": [
    "data_path = os.path.join(DEMO_PATH, \"data.csv\")\n",
    "num_samples = 100\n",
    "timepoints = [0.0, 1.0, 2.0, 3.0, 4.0]\n",
    "\n",
    "# Run the calibration and sampling\n",
    "calibrated_samples = load_and_calibrate_and_sample_petri_model(\n",
    "    ASKENET_PATH,\n",
    "    data_path,\n",
    "    num_samples,\n",
    "    timepoints=timepoints,\n",
    "    verbose=True,\n",
    ")\n",
    "\n",
    "# Save results\n",
    "calibrated_samples.to_csv(\n",
    "    os.path.join(DEMO_PATH, \"results_petri/calibrated_sample_results.csv\"), index=False\n",
    ")"
   ]
  },
  {
   "cell_type": "markdown",
   "metadata": {},
   "source": [
    "## load_and_optimize_and_sample_petri_model"
   ]
  },
  {
   "cell_type": "code",
   "execution_count": 6,
   "metadata": {},
   "outputs": [
    {
     "ename": "KeyError",
     "evalue": "'Infected_sol'",
     "output_type": "error",
     "traceback": [
      "\u001b[1;31m---------------------------------------------------------------------------\u001b[0m",
      "\u001b[1;31mKeyError\u001b[0m                                  Traceback (most recent call last)",
      "Cell \u001b[1;32mIn[6], line 8\u001b[0m\n\u001b[0;32m      6\u001b[0m INTERVENTION \u001b[39m=\u001b[39m [(\u001b[39m0.1\u001b[39m, \u001b[39m\"\u001b[39m\u001b[39mbeta\u001b[39m\u001b[39m\"\u001b[39m)]\n\u001b[0;32m      7\u001b[0m QOI \u001b[39m=\u001b[39m (\u001b[39m\"\u001b[39m\u001b[39mscenario2dec_nday_average\u001b[39m\u001b[39m\"\u001b[39m, \u001b[39m\"\u001b[39m\u001b[39mInfected_sol\u001b[39m\u001b[39m\"\u001b[39m, \u001b[39m2\u001b[39m)\n\u001b[1;32m----> 8\u001b[0m ouu_samples, opt_policy \u001b[39m=\u001b[39m load_and_optimize_and_sample_petri_model(\n\u001b[0;32m      9\u001b[0m     ASKENET_PATH,\n\u001b[0;32m     10\u001b[0m     num_samples,\n\u001b[0;32m     11\u001b[0m     timepoints\u001b[39m=\u001b[39;49mtimepoints,\n\u001b[0;32m     12\u001b[0m     interventions\u001b[39m=\u001b[39;49mINTERVENTION,\n\u001b[0;32m     13\u001b[0m     qoi\u001b[39m=\u001b[39;49mQOI,\n\u001b[0;32m     14\u001b[0m     risk_bound\u001b[39m=\u001b[39;49m\u001b[39m10.\u001b[39;49m,\n\u001b[0;32m     15\u001b[0m     objfun\u001b[39m=\u001b[39;49mOBJFUN,\n\u001b[0;32m     16\u001b[0m     initial_guess\u001b[39m=\u001b[39;49m\u001b[39m0.02\u001b[39;49m,\n\u001b[0;32m     17\u001b[0m     bounds\u001b[39m=\u001b[39;49m[[\u001b[39m0.\u001b[39;49m],[\u001b[39m3.\u001b[39;49m]],\n\u001b[0;32m     18\u001b[0m     verbose\u001b[39m=\u001b[39;49m\u001b[39mTrue\u001b[39;49;00m,\n\u001b[0;32m     19\u001b[0m )\n\u001b[0;32m     21\u001b[0m \u001b[39m# Save results\u001b[39;00m\n\u001b[0;32m     22\u001b[0m ouu_samples\u001b[39m.\u001b[39mto_csv(\n\u001b[0;32m     23\u001b[0m     os\u001b[39m.\u001b[39mpath\u001b[39m.\u001b[39mjoin(DEMO_PATH, \u001b[39m\"\u001b[39m\u001b[39mresults_petri/optimize_sample_results.csv\u001b[39m\u001b[39m\"\u001b[39m), index\u001b[39m=\u001b[39m\u001b[39mFalse\u001b[39;00m\n\u001b[0;32m     24\u001b[0m )\n",
      "File \u001b[1;32m~\\Documents\\GitHub\\pyciemss\\src\\pyciemss\\PetriNetODE\\interfaces.py:321\u001b[0m, in \u001b[0;36mload_and_optimize_and_sample_petri_model\u001b[1;34m(petri_model_or_path, num_samples, timepoints, interventions, qoi, risk_bound, objfun, initial_guess, bounds, start_state, pseudocount, start_time, method, verbose, n_samples_ouu, maxiter, maxfeval)\u001b[0m\n\u001b[0;32m    318\u001b[0m model \u001b[39m=\u001b[39m setup_model(model, start_time\u001b[39m=\u001b[39mstart_time, start_state\u001b[39m=\u001b[39mstart_state)\n\u001b[0;32m    320\u001b[0m qoi_fn \u001b[39m=\u001b[39m \u001b[39mlambda\u001b[39;00m y: \u001b[39mgetattr\u001b[39m(pyciemss\u001b[39m.\u001b[39mrisk\u001b[39m.\u001b[39mqoi, qoi[\u001b[39m0\u001b[39m])(y, [qoi[\u001b[39m1\u001b[39m]], \u001b[39m*\u001b[39mqoi[\u001b[39m2\u001b[39m:])\n\u001b[1;32m--> 321\u001b[0m ouu_policy \u001b[39m=\u001b[39m optimize(\n\u001b[0;32m    322\u001b[0m     model,\n\u001b[0;32m    323\u001b[0m     timepoints\u001b[39m=\u001b[39;49mtimepoints,\n\u001b[0;32m    324\u001b[0m     interventions\u001b[39m=\u001b[39;49minterventions,\n\u001b[0;32m    325\u001b[0m     qoi\u001b[39m=\u001b[39;49mqoi_fn,\n\u001b[0;32m    326\u001b[0m     risk_bound\u001b[39m=\u001b[39;49mrisk_bound,\n\u001b[0;32m    327\u001b[0m     objfun\u001b[39m=\u001b[39;49mobjfun,\n\u001b[0;32m    328\u001b[0m     initial_guess\u001b[39m=\u001b[39;49minitial_guess,\n\u001b[0;32m    329\u001b[0m     bounds\u001b[39m=\u001b[39;49mbounds,\n\u001b[0;32m    330\u001b[0m     n_samples_ouu\u001b[39m=\u001b[39;49mn_samples_ouu,\n\u001b[0;32m    331\u001b[0m     maxiter\u001b[39m=\u001b[39;49mmaxiter,\n\u001b[0;32m    332\u001b[0m     maxfeval\u001b[39m=\u001b[39;49mmaxfeval,\n\u001b[0;32m    333\u001b[0m     method\u001b[39m=\u001b[39;49mmethod,\n\u001b[0;32m    334\u001b[0m     verbose\u001b[39m=\u001b[39;49mverbose,\n\u001b[0;32m    335\u001b[0m     postprocess\u001b[39m=\u001b[39;49m\u001b[39mFalse\u001b[39;49;00m,\n\u001b[0;32m    336\u001b[0m     )\n\u001b[0;32m    338\u001b[0m \u001b[39m# Post-process OUU results    \u001b[39;00m\n\u001b[0;32m    339\u001b[0m \u001b[39mif\u001b[39;00m verbose:\n",
      "File \u001b[1;32mc:\\Users\\Anirban\\anaconda3\\envs\\askemv2\\Lib\\functools.py:909\u001b[0m, in \u001b[0;36msingledispatch.<locals>.wrapper\u001b[1;34m(*args, **kw)\u001b[0m\n\u001b[0;32m    905\u001b[0m \u001b[39mif\u001b[39;00m \u001b[39mnot\u001b[39;00m args:\n\u001b[0;32m    906\u001b[0m     \u001b[39mraise\u001b[39;00m \u001b[39mTypeError\u001b[39;00m(\u001b[39mf\u001b[39m\u001b[39m'\u001b[39m\u001b[39m{\u001b[39;00mfuncname\u001b[39m}\u001b[39;00m\u001b[39m requires at least \u001b[39m\u001b[39m'\u001b[39m\n\u001b[0;32m    907\u001b[0m                     \u001b[39m'\u001b[39m\u001b[39m1 positional argument\u001b[39m\u001b[39m'\u001b[39m)\n\u001b[1;32m--> 909\u001b[0m \u001b[39mreturn\u001b[39;00m dispatch(args[\u001b[39m0\u001b[39;49m]\u001b[39m.\u001b[39;49m\u001b[39m__class__\u001b[39;49m)(\u001b[39m*\u001b[39;49margs, \u001b[39m*\u001b[39;49m\u001b[39m*\u001b[39;49mkw)\n",
      "File \u001b[1;32m~\\Documents\\GitHub\\pyciemss\\src\\pyciemss\\PetriNetODE\\interfaces.py:729\u001b[0m, in \u001b[0;36moptimize_petri\u001b[1;34m(petri, timepoints, interventions, qoi, risk_bound, objfun, initial_guess, bounds, inferred_parameters, n_samples_ouu, maxiter, maxfeval, method, roundup_decimal, verbose, postprocess)\u001b[0m\n\u001b[0;32m    727\u001b[0m start_time \u001b[39m=\u001b[39m time\u001b[39m.\u001b[39mtime()\n\u001b[0;32m    728\u001b[0m init_prediction \u001b[39m=\u001b[39m RISK\u001b[39m.\u001b[39mpropagate_uncertainty(initial_guess)\n\u001b[1;32m--> 729\u001b[0m RISK\u001b[39m.\u001b[39;49mqoi(init_prediction)\n\u001b[0;32m    730\u001b[0m end_time \u001b[39m=\u001b[39m time\u001b[39m.\u001b[39mtime()\n\u001b[0;32m    731\u001b[0m forward_time \u001b[39m=\u001b[39m end_time \u001b[39m-\u001b[39m start_time\n",
      "File \u001b[1;32m~\\Documents\\GitHub\\pyciemss\\src\\pyciemss\\PetriNetODE\\interfaces.py:320\u001b[0m, in \u001b[0;36mload_and_optimize_and_sample_petri_model.<locals>.<lambda>\u001b[1;34m(y)\u001b[0m\n\u001b[0;32m    314\u001b[0m     start_state \u001b[39m=\u001b[39m {\n\u001b[0;32m    315\u001b[0m         get_name(v): v\u001b[39m.\u001b[39mdata[\u001b[39m\"\u001b[39m\u001b[39minitial_value\u001b[39m\u001b[39m\"\u001b[39m] \u001b[39mfor\u001b[39;00m v \u001b[39min\u001b[39;00m model\u001b[39m.\u001b[39mG\u001b[39m.\u001b[39mvariables\u001b[39m.\u001b[39mvalues()\n\u001b[0;32m    316\u001b[0m     }\n\u001b[0;32m    318\u001b[0m model \u001b[39m=\u001b[39m setup_model(model, start_time\u001b[39m=\u001b[39mstart_time, start_state\u001b[39m=\u001b[39mstart_state)\n\u001b[1;32m--> 320\u001b[0m qoi_fn \u001b[39m=\u001b[39m \u001b[39mlambda\u001b[39;00m y: \u001b[39mgetattr\u001b[39;49m(pyciemss\u001b[39m.\u001b[39;49mrisk\u001b[39m.\u001b[39;49mqoi, qoi[\u001b[39m0\u001b[39;49m])(y, [qoi[\u001b[39m1\u001b[39;49m]], \u001b[39m*\u001b[39;49mqoi[\u001b[39m2\u001b[39;49m:])\n\u001b[0;32m    321\u001b[0m ouu_policy \u001b[39m=\u001b[39m optimize(\n\u001b[0;32m    322\u001b[0m     model,\n\u001b[0;32m    323\u001b[0m     timepoints\u001b[39m=\u001b[39mtimepoints,\n\u001b[1;32m   (...)\u001b[0m\n\u001b[0;32m    335\u001b[0m     postprocess\u001b[39m=\u001b[39m\u001b[39mFalse\u001b[39;00m,\n\u001b[0;32m    336\u001b[0m     )\n\u001b[0;32m    338\u001b[0m \u001b[39m# Post-process OUU results    \u001b[39;00m\n",
      "File \u001b[1;32m~\\Documents\\GitHub\\pyciemss\\src\\pyciemss\\risk\\qoi.py:15\u001b[0m, in \u001b[0;36mscenario2dec_nday_average\u001b[1;34m(dataCube, contexts, ndays)\u001b[0m\n\u001b[0;32m     13\u001b[0m         dataQoI \u001b[39m=\u001b[39m dataCube[contexts[\u001b[39m0\u001b[39m]]\u001b[39m.\u001b[39mdetach()\u001b[39m.\u001b[39mnumpy()\n\u001b[0;32m     14\u001b[0m     \u001b[39melse\u001b[39;00m:\n\u001b[1;32m---> 15\u001b[0m         dataQoI \u001b[39m=\u001b[39m dataCube[contexts[\u001b[39m0\u001b[39;49m]]\u001b[39m.\u001b[39mdetach()\u001b[39m.\u001b[39mnumpy()\n\u001b[0;32m     17\u001b[0m \u001b[39mreturn\u001b[39;00m np\u001b[39m.\u001b[39mmean(dataQoI[:,\u001b[39m-\u001b[39mndays:], axis\u001b[39m=\u001b[39m\u001b[39m1\u001b[39m)\n",
      "\u001b[1;31mKeyError\u001b[0m: 'Infected_sol'"
     ]
    }
   ],
   "source": [
    "num_samples = 100\n",
    "timepoints = [0.0, 1.0, 2.0, 3.0, 4.0]\n",
    "\n",
    "# Run the calibration and sampling\n",
    "OBJFUN = lambda x: np.abs(x)\n",
    "INTERVENTION = [(0.1, \"beta\")]\n",
    "QOI = (\"scenario2dec_nday_average\", \"I\", 2)\n",
    "ouu_samples, opt_policy = load_and_optimize_and_sample_petri_model(\n",
    "    ASKENET_PATH,\n",
    "    num_samples,\n",
    "    timepoints=timepoints,\n",
    "    interventions=INTERVENTION,\n",
    "    qoi=QOI,\n",
    "    risk_bound=10.,\n",
    "    objfun=OBJFUN,\n",
    "    initial_guess=0.02,\n",
    "    bounds=[[0.],[3.]],\n",
    "    verbose=True,\n",
    ")\n",
    "\n",
    "# Save results\n",
    "ouu_samples.to_csv(\n",
    "    os.path.join(DEMO_PATH, \"results_petri/optimize_sample_results.csv\"), index=False\n",
    ")\n",
    "print(\"Optimal policy:\", opt_policy[\"policy\"])\n",
    "print(\"Estimated risk at optimal policy\", opt_policy[\"risk\"])"
   ]
  },
  {
   "cell_type": "markdown",
   "metadata": {},
   "source": [
    "## load_and_calibrate_and_optimize_and_sample_petri_model"
   ]
  },
  {
   "cell_type": "code",
   "execution_count": null,
   "metadata": {},
   "outputs": [
    {
     "name": "stdout",
     "output_type": "stream",
     "text": [
      "iteration 0: loss = 37.5659122467041\n",
      "iteration 25: loss = 35.41392183303833\n",
      "iteration 50: loss = 33.67425513267517\n",
      "iteration 75: loss = 32.595038652420044\n",
      "iteration 100: loss = 33.10420513153076\n",
      "iteration 125: loss = 32.42216110229492\n",
      "iteration 150: loss = 33.292160987854004\n",
      "iteration 175: loss = 31.957093477249146\n",
      "iteration 200: loss = 32.40791869163513\n",
      "iteration 225: loss = 32.1630494594574\n",
      "iteration 250: loss = 32.64620661735535\n",
      "iteration 275: loss = 32.447582960128784\n",
      "iteration 300: loss = 32.42112612724304\n",
      "iteration 325: loss = 32.70798373222351\n",
      "iteration 350: loss = 32.1295063495636\n",
      "iteration 375: loss = 32.78153920173645\n",
      "iteration 400: loss = 32.15399241447449\n",
      "iteration 425: loss = 32.18069672584534\n",
      "iteration 450: loss = 32.34887766838074\n",
      "iteration 475: loss = 32.39561104774475\n",
      "iteration 500: loss = 32.51458191871643\n",
      "iteration 525: loss = 32.285157680511475\n",
      "iteration 550: loss = 32.21916651725769\n",
      "iteration 575: loss = 32.54395031929016\n",
      "iteration 600: loss = 32.487563133239746\n",
      "iteration 625: loss = 32.54312562942505\n",
      "iteration 650: loss = 31.965022087097168\n",
      "iteration 675: loss = 32.316070318222046\n",
      "iteration 700: loss = 32.36382842063904\n",
      "iteration 725: loss = 32.52105975151062\n",
      "iteration 750: loss = 32.83406376838684\n",
      "iteration 775: loss = 32.393730878829956\n",
      "iteration 800: loss = 32.43019080162048\n",
      "iteration 825: loss = 32.3959174156189\n",
      "iteration 850: loss = 32.112430572509766\n",
      "iteration 875: loss = 32.36790990829468\n",
      "iteration 900: loss = 32.66983437538147\n",
      "iteration 925: loss = 32.438520669937134\n",
      "iteration 950: loss = 32.27924203872681\n",
      "iteration 975: loss = 32.38777709007263\n",
      "Time taken: (1.62e-01 seconds per model evaluation).\n",
      "Performing risk-based optimization under uncertainty (using alpha-superquantile)\n",
      "Estimated wait time 1214.8 seconds...\n",
      "Optimization completed in time 325.88 seconds.\n",
      "Optimal policy:\t0.0\n",
      "Post-processing optimal policy...\n",
      "Estimated risk at optimal policy [0.7005741119384765]\n",
      "Optimal policy after calibration: 0.0\n",
      "Estimated risk at optimal policy after calibration [0.7005741119384765]\n"
     ]
    }
   ],
   "source": [
    "data_path = os.path.join(DEMO_PATH, \"data.csv\")\n",
    "num_samples = 100\n",
    "timepoints = [0.0, 1.0, 2.0, 3.0, 4.0]\n",
    "\n",
    "# Run the calibration and sampling\n",
    "OBJFUN = lambda x: np.abs(x)\n",
    "INTERVENTION = [(0.1, \"beta\")]\n",
    "QOI = (\"scenario2dec_nday_average\", \"I\", 2)\n",
    "ouu_cal_samples, opt_cal_policy = load_and_calibrate_and_optimize_and_sample_petri_model(\n",
    "    ASKENET_PATH,\n",
    "    data_path,\n",
    "    num_samples,\n",
    "    timepoints=timepoints,\n",
    "    interventions=INTERVENTION,\n",
    "    qoi=QOI,\n",
    "    risk_bound=10.,\n",
    "    objfun=OBJFUN,\n",
    "    initial_guess=0.02,\n",
    "    bounds=[[0.],[3.]],\n",
    "    verbose=True,\n",
    ")\n",
    "\n",
    "# Save results\n",
    "ouu_cal_samples.to_csv(\n",
    "    os.path.join(DEMO_PATH, \"results_petri/calibrate_optimize_sample_results.csv\"), index=False\n",
    ")\n",
    "print(\"Optimal policy after calibration:\", opt_policy[\"policy\"])\n",
    "print(\"Estimated risk at optimal policy after calibration\", opt_policy[\"risk\"])"
   ]
  }
 ],
 "metadata": {
  "kernelspec": {
   "display_name": "askemv2",
   "language": "python",
   "name": "python3"
  },
  "language_info": {
   "codemirror_mode": {
    "name": "ipython",
    "version": 3
   },
   "file_extension": ".py",
   "mimetype": "text/x-python",
   "name": "python",
   "nbconvert_exporter": "python",
   "pygments_lexer": "ipython3",
   "version": "3.11.4"
  }
 },
 "nbformat": 4,
 "nbformat_minor": 4
}
