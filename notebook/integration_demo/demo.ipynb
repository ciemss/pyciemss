{
 "cells": [
  {
   "cell_type": "code",
   "execution_count": 1,
   "metadata": {},
   "outputs": [],
   "source": [
    "import os\n",
    "from pyciemss.PetriNetODE.interfaces import (\n",
    "    load_and_sample_petri_model,\n",
    "    load_and_calibrate_and_sample_petri_model\n",
    ")"
   ]
  },
  {
   "cell_type": "code",
   "execution_count": 4,
   "metadata": {},
   "outputs": [],
   "source": [
    "DEMO_PATH = \"../../notebook/integration_demo/\"\n",
    "ASKENET_PATH = \"https://raw.githubusercontent.com/DARPA-ASKEM/Model-Representations/main/petrinet/examples/sir_typed.json\""
   ]
  },
  {
   "attachments": {},
   "cell_type": "markdown",
   "metadata": {},
   "source": [
    "## load_and_sample_petri_model"
   ]
  },
  {
   "cell_type": "code",
   "execution_count": 5,
   "metadata": {},
   "outputs": [],
   "source": [
    "num_samples = 3\n",
    "timepoints = [0.5, 1.0, 2.0, 3.0, 4.0]\n",
    "\n",
    "# Run sampling w/o an intervention\n",
    "samples = load_and_sample_petri_model(ASKENET_PATH, num_samples, timepoints=timepoints)\n",
    "\n",
    "# Save results\n",
    "samples.to_csv(os.path.join(DEMO_PATH, \"results_petri/sample_results.csv\"), index=False)"
   ]
  },
  {
   "cell_type": "code",
   "execution_count": 6,
   "metadata": {
    "scrolled": true
   },
   "outputs": [],
   "source": [
    "interventions = [(1.1, \"beta\", 1.0), (2.1, \"gamma\", 0.1), (1.3, \"beta\", 2.0), (1.4, \"gamma\", 0.3)]\n",
    "\n",
    "intervened_samples = load_and_sample_petri_model(\n",
    "    ASKENET_PATH, num_samples, timepoints=timepoints, interventions=interventions\n",
    ")\n",
    "\n",
    "\n",
    "# Save results\n",
    "intervened_samples.to_csv(\n",
    "    os.path.join(DEMO_PATH, \"results_petri/sample_results_w_interventions.csv\"),\n",
    "    index=False,\n",
    ")"
   ]
  },
  {
   "attachments": {},
   "cell_type": "markdown",
   "metadata": {},
   "source": [
    "## load_and_calibrate_and_sample_petri_model"
   ]
  },
  {
   "cell_type": "code",
   "execution_count": 7,
   "metadata": {},
   "outputs": [
    {
     "name": "stdout",
     "output_type": "stream",
     "text": [
      "iteration 0: loss = 62.12709617614746\n",
      "iteration 25: loss = 60.099618911743164\n",
      "iteration 50: loss = 58.367534935474396\n",
      "iteration 75: loss = 57.764896750450134\n",
      "iteration 100: loss = 56.60384750366211\n",
      "iteration 125: loss = 56.626110792160034\n",
      "iteration 150: loss = 56.81937026977539\n",
      "iteration 175: loss = 56.734710931777954\n",
      "iteration 200: loss = 56.507239818573\n",
      "iteration 225: loss = 56.81278920173645\n",
      "iteration 250: loss = 56.38322448730469\n",
      "iteration 275: loss = 56.98680853843689\n",
      "iteration 300: loss = 56.82800793647766\n",
      "iteration 325: loss = 56.91287016868591\n",
      "iteration 350: loss = 56.571919679641724\n",
      "iteration 375: loss = 56.62337040901184\n",
      "iteration 400: loss = 56.986464977264404\n",
      "iteration 425: loss = 56.08261704444885\n",
      "iteration 450: loss = 56.555689573287964\n",
      "iteration 475: loss = 56.814436197280884\n",
      "iteration 500: loss = 56.36864924430847\n",
      "iteration 525: loss = 56.35692620277405\n",
      "iteration 550: loss = 56.53825569152832\n",
      "iteration 575: loss = 56.52056694030762\n",
      "iteration 600: loss = 56.57140803337097\n",
      "iteration 625: loss = 56.3572359085083\n",
      "iteration 650: loss = 56.788116693496704\n",
      "iteration 675: loss = 56.779704332351685\n",
      "iteration 700: loss = 56.59728670120239\n",
      "iteration 725: loss = 56.58475613594055\n",
      "iteration 750: loss = 56.811803579330444\n",
      "iteration 775: loss = 56.95957016944885\n",
      "iteration 800: loss = 56.53050971031189\n",
      "iteration 825: loss = 57.138880014419556\n",
      "iteration 850: loss = 56.93205904960632\n",
      "iteration 875: loss = 56.596068143844604\n",
      "iteration 900: loss = 56.303569078445435\n",
      "iteration 925: loss = 56.353702545166016\n",
      "iteration 950: loss = 56.812726736068726\n",
      "iteration 975: loss = 56.6675009727478\n"
     ]
    }
   ],
   "source": [
    "data_path = os.path.join(DEMO_PATH, \"data.csv\")\n",
    "num_samples = 100\n",
    "timepoints = [0.0, 1.0, 2.0, 3.0, 4.0]\n",
    "\n",
    "# Run the calibration and sampling\n",
    "calibrated_samples = load_and_calibrate_and_sample_petri_model(\n",
    "    ASKENET_PATH,\n",
    "    data_path,\n",
    "    num_samples,\n",
    "    timepoints=timepoints,\n",
    "    verbose=True,\n",
    ")\n",
    "\n",
    "# Save results\n",
    "calibrated_samples.to_csv(\n",
    "    os.path.join(DEMO_PATH, \"results_petri/calibrated_sample_results.csv\"), index=False\n",
    ")"
   ]
  }
 ],
 "metadata": {
  "kernelspec": {
   "display_name": "pyciemss-main",
   "language": "python",
   "name": "pyciemss-main"
  },
  "language_info": {
   "codemirror_mode": {
    "name": "ipython",
    "version": 3
   },
   "file_extension": ".py",
   "mimetype": "text/x-python",
   "name": "python",
   "nbconvert_exporter": "python",
   "pygments_lexer": "ipython3",
   "version": "3.10.9"
  }
 },
 "nbformat": 4,
 "nbformat_minor": 4
}
