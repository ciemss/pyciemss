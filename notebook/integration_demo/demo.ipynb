{
 "cells": [
  {
   "cell_type": "code",
   "execution_count": 1,
   "metadata": {},
   "outputs": [],
   "source": [
    "import os\n",
    "from pyciemss.PetriNetODE.interfaces import (\n",
    "    load_and_sample_petri_model,\n",
    "    load_and_calibrate_and_sample_petri_model,\n",
    ")"
   ]
  },
  {
   "cell_type": "code",
   "execution_count": 2,
   "metadata": {},
   "outputs": [],
   "source": [
    "MIRA_PATH = \"test/models/april_ensemble_demo/\"\n",
    "SAVE_PATH = \"notebook/integration_demo/\"\n",
    "\n",
    "filename = \"BIOMD0000000955_template_model.json\"\n",
    "filename = os.path.join(MIRA_PATH, filename)"
   ]
  },
  {
   "attachments": {},
   "cell_type": "markdown",
   "metadata": {},
   "source": [
    "## load_and_sample_petri_model"
   ]
  },
  {
   "cell_type": "code",
   "execution_count": 3,
   "metadata": {},
   "outputs": [],
   "source": [
    "num_samples = 100\n",
    "timepoints = [0.0, 1.0, 2.0, 3.0, 4.0]\n",
    "\n",
    "# Run sampling\n",
    "samples = load_and_sample_petri_model(\n",
    "    filename, num_samples, timepoints=timepoints, add_uncertainty=True\n",
    ")\n",
    "\n",
    "# Save results\n",
    "samples.to_csv(os.path.join(SAVE_PATH, \"results_petri/sample_results.csv\"), index=False)"
   ]
  },
  {
   "attachments": {},
   "cell_type": "markdown",
   "metadata": {},
   "source": [
    "## load_and_calibrate_and_sample_petri_model"
   ]
  },
  {
   "cell_type": "code",
   "execution_count": 4,
   "metadata": {},
   "outputs": [
    {
     "name": "stdout",
     "output_type": "stream",
     "text": [
      "iteration 0: loss = 73.13931083679199\n",
      "iteration 25: loss = 56.34400653839111\n",
      "iteration 50: loss = 47.006808280944824\n",
      "iteration 75: loss = 36.08143138885498\n",
      "iteration 100: loss = 36.00669503211975\n",
      "iteration 125: loss = 37.8455855846405\n",
      "iteration 150: loss = 34.716269969940186\n",
      "iteration 175: loss = 31.655406713485718\n",
      "iteration 200: loss = 30.867703437805176\n",
      "iteration 225: loss = 31.5904643535614\n"
     ]
    }
   ],
   "source": [
    "# List of tuples of the form `(time, observation_dict)` where each `observation_dict` is of the form `{observable_name: observable_value}`.\n",
    "# Once we get a data file format we're very happy to handle the csv -> this format processing.\n",
    "# Note: As you can see here, not every variable must be observed at every timepoint.\n",
    "data = [\n",
    "    (1.1, {\"Susceptible\": 0.9, \"Infected\": 0.1}),\n",
    "    (2.2, {\"Susceptible\": 0.8}),\n",
    "]\n",
    "num_samples = 100\n",
    "timepoints = [0.0, 1.0, 2.0, 3.0, 4.0]\n",
    "\n",
    "# Run the calibration and sampling\n",
    "calibrated_samples = load_and_calibrate_and_sample_petri_model(\n",
    "    filename,\n",
    "    data,\n",
    "    num_samples,\n",
    "    timepoints=timepoints,\n",
    "    add_uncertainty=True,\n",
    "    verbose=True,\n",
    ")\n",
    "\n",
    "# Save results\n",
    "calibrated_samples.to_csv(\n",
    "    os.path.join(SAVE_PATH, \"results_petri/calibrated_sample_results.csv\", index=False)\n",
    ")"
   ]
  },
  {
   "cell_type": "code",
   "execution_count": null,
   "metadata": {},
   "outputs": [],
   "source": []
  }
 ],
 "metadata": {
  "kernelspec": {
   "display_name": "askem-test",
   "language": "python",
   "name": "python3"
  },
  "language_info": {
   "codemirror_mode": {
    "name": "ipython",
    "version": 3
   },
   "file_extension": ".py",
   "mimetype": "text/x-python",
   "name": "python",
   "nbconvert_exporter": "python",
   "pygments_lexer": "ipython3",
   "version": "3.10.0"
  },
  "orig_nbformat": 4
 },
 "nbformat": 4,
 "nbformat_minor": 2
}
