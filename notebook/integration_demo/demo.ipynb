{
 "cells": [
  {
   "cell_type": "code",
   "execution_count": 106,
   "metadata": {},
   "outputs": [
    {
     "name": "stdout",
     "output_type": "stream",
     "text": [
      "The autoreload extension is already loaded. To reload it, use:\n",
      "  %reload_ext autoreload\n"
     ]
    }
   ],
   "source": [
    "%load_ext autoreload\n",
    "%autoreload 2\n",
    "\n",
    "import os\n",
    "from pyciemss.PetriNetODE.interfaces import (\n",
    "    load_and_sample_petri_model,\n",
    "    load_and_calibrate_and_sample_petri_model,\n",
    "    load_and_optimize_and_sample_petri_model,\n",
    "    load_and_calibrate_and_optimize_and_sample_petri_model,\n",
    "    posterior_density_petri_model\n",
    ")\n",
    "import numpy as np\n",
    "from pyciemss.visuals import plots"
   ]
  },
  {
   "cell_type": "code",
   "execution_count": 2,
   "metadata": {},
   "outputs": [],
   "source": [
    "DEMO_PATH = \"notebook/integration_demo/\"\n",
    "ASKENET_PATH = \"https://raw.githubusercontent.com/DARPA-ASKEM/Model-Representations/main/petrinet/examples/sir_typed.json\""
   ]
  },
  {
   "attachments": {},
   "cell_type": "markdown",
   "metadata": {},
   "source": [
    "## load_and_sample_petri_model"
   ]
  },
  {
   "cell_type": "code",
   "execution_count": 3,
   "metadata": {},
   "outputs": [],
   "source": [
    "num_samples = 3\n",
    "timepoints = [0.5, 1.0, 2.0, 3.0, 4.0]\n",
    "\n",
    "# Run sampling w/o an intervention\n",
    "result = load_and_sample_petri_model(ASKENET_PATH, num_samples, timepoints=timepoints, time_unit=\"days\")\n",
    "\n",
    "# Save results\n",
    "result[\"data\"].to_csv(os.path.join(DEMO_PATH, \"results_petri/sample_results.csv\"), index=False)\n",
    "result[\"quantiles\"].to_csv(\n",
    "    os.path.join(DEMO_PATH, \"results_petri/quantiles_results.csv\"), index=False\n",
    ")"
   ]
  },
  {
   "cell_type": "code",
   "execution_count": 4,
   "metadata": {},
   "outputs": [
    {
     "data": {
      "text/html": [
       "<div>\n",
       "<style scoped>\n",
       "    .dataframe tbody tr th:only-of-type {\n",
       "        vertical-align: middle;\n",
       "    }\n",
       "\n",
       "    .dataframe tbody tr th {\n",
       "        vertical-align: top;\n",
       "    }\n",
       "\n",
       "    .dataframe thead th {\n",
       "        text-align: right;\n",
       "    }\n",
       "</style>\n",
       "<table border=\"1\" class=\"dataframe\">\n",
       "  <thead>\n",
       "    <tr style=\"text-align: right;\">\n",
       "      <th></th>\n",
       "      <th>timepoint_id</th>\n",
       "      <th>number_days</th>\n",
       "      <th>inc_cum</th>\n",
       "      <th>output</th>\n",
       "      <th>type</th>\n",
       "      <th>quantile</th>\n",
       "      <th>value</th>\n",
       "      <th>Forecast_Backcast</th>\n",
       "    </tr>\n",
       "  </thead>\n",
       "  <tbody>\n",
       "    <tr>\n",
       "      <th>0</th>\n",
       "      <td>0</td>\n",
       "      <td>0.5</td>\n",
       "      <td>inc</td>\n",
       "      <td>I</td>\n",
       "      <td>quantile</td>\n",
       "      <td>0.010</td>\n",
       "      <td>9.679479e+02</td>\n",
       "      <td>Forecast</td>\n",
       "    </tr>\n",
       "    <tr>\n",
       "      <th>1</th>\n",
       "      <td>0</td>\n",
       "      <td>0.5</td>\n",
       "      <td>inc</td>\n",
       "      <td>I</td>\n",
       "      <td>quantile</td>\n",
       "      <td>0.025</td>\n",
       "      <td>9.679848e+02</td>\n",
       "      <td>Forecast</td>\n",
       "    </tr>\n",
       "    <tr>\n",
       "      <th>2</th>\n",
       "      <td>0</td>\n",
       "      <td>0.5</td>\n",
       "      <td>inc</td>\n",
       "      <td>I</td>\n",
       "      <td>quantile</td>\n",
       "      <td>0.050</td>\n",
       "      <td>9.680463e+02</td>\n",
       "      <td>Forecast</td>\n",
       "    </tr>\n",
       "    <tr>\n",
       "      <th>3</th>\n",
       "      <td>0</td>\n",
       "      <td>0.5</td>\n",
       "      <td>inc</td>\n",
       "      <td>I</td>\n",
       "      <td>quantile</td>\n",
       "      <td>0.100</td>\n",
       "      <td>9.681694e+02</td>\n",
       "      <td>Forecast</td>\n",
       "    </tr>\n",
       "    <tr>\n",
       "      <th>4</th>\n",
       "      <td>0</td>\n",
       "      <td>0.5</td>\n",
       "      <td>inc</td>\n",
       "      <td>I</td>\n",
       "      <td>quantile</td>\n",
       "      <td>0.150</td>\n",
       "      <td>9.682924e+02</td>\n",
       "      <td>Forecast</td>\n",
       "    </tr>\n",
       "    <tr>\n",
       "      <th>...</th>\n",
       "      <td>...</td>\n",
       "      <td>...</td>\n",
       "      <td>...</td>\n",
       "      <td>...</td>\n",
       "      <td>...</td>\n",
       "      <td>...</td>\n",
       "      <td>...</td>\n",
       "      <td>...</td>\n",
       "    </tr>\n",
       "    <tr>\n",
       "      <th>340</th>\n",
       "      <td>4</td>\n",
       "      <td>4.0</td>\n",
       "      <td>inc</td>\n",
       "      <td>S</td>\n",
       "      <td>quantile</td>\n",
       "      <td>0.850</td>\n",
       "      <td>9.073283e-10</td>\n",
       "      <td>Forecast</td>\n",
       "    </tr>\n",
       "    <tr>\n",
       "      <th>341</th>\n",
       "      <td>4</td>\n",
       "      <td>4.0</td>\n",
       "      <td>inc</td>\n",
       "      <td>S</td>\n",
       "      <td>quantile</td>\n",
       "      <td>0.900</td>\n",
       "      <td>9.123062e-10</td>\n",
       "      <td>Forecast</td>\n",
       "    </tr>\n",
       "    <tr>\n",
       "      <th>342</th>\n",
       "      <td>4</td>\n",
       "      <td>4.0</td>\n",
       "      <td>inc</td>\n",
       "      <td>S</td>\n",
       "      <td>quantile</td>\n",
       "      <td>0.950</td>\n",
       "      <td>9.172841e-10</td>\n",
       "      <td>Forecast</td>\n",
       "    </tr>\n",
       "    <tr>\n",
       "      <th>343</th>\n",
       "      <td>4</td>\n",
       "      <td>4.0</td>\n",
       "      <td>inc</td>\n",
       "      <td>S</td>\n",
       "      <td>quantile</td>\n",
       "      <td>0.975</td>\n",
       "      <td>9.197730e-10</td>\n",
       "      <td>Forecast</td>\n",
       "    </tr>\n",
       "    <tr>\n",
       "      <th>344</th>\n",
       "      <td>4</td>\n",
       "      <td>4.0</td>\n",
       "      <td>inc</td>\n",
       "      <td>S</td>\n",
       "      <td>quantile</td>\n",
       "      <td>0.990</td>\n",
       "      <td>9.212664e-10</td>\n",
       "      <td>Forecast</td>\n",
       "    </tr>\n",
       "  </tbody>\n",
       "</table>\n",
       "<p>345 rows × 8 columns</p>\n",
       "</div>"
      ],
      "text/plain": [
       "     timepoint_id  number_days inc_cum output      type  quantile  \\\n",
       "0               0          0.5     inc      I  quantile     0.010   \n",
       "1               0          0.5     inc      I  quantile     0.025   \n",
       "2               0          0.5     inc      I  quantile     0.050   \n",
       "3               0          0.5     inc      I  quantile     0.100   \n",
       "4               0          0.5     inc      I  quantile     0.150   \n",
       "..            ...          ...     ...    ...       ...       ...   \n",
       "340             4          4.0     inc      S  quantile     0.850   \n",
       "341             4          4.0     inc      S  quantile     0.900   \n",
       "342             4          4.0     inc      S  quantile     0.950   \n",
       "343             4          4.0     inc      S  quantile     0.975   \n",
       "344             4          4.0     inc      S  quantile     0.990   \n",
       "\n",
       "            value Forecast_Backcast  \n",
       "0    9.679479e+02          Forecast  \n",
       "1    9.679848e+02          Forecast  \n",
       "2    9.680463e+02          Forecast  \n",
       "3    9.681694e+02          Forecast  \n",
       "4    9.682924e+02          Forecast  \n",
       "..            ...               ...  \n",
       "340  9.073283e-10          Forecast  \n",
       "341  9.123062e-10          Forecast  \n",
       "342  9.172841e-10          Forecast  \n",
       "343  9.197730e-10          Forecast  \n",
       "344  9.212664e-10          Forecast  \n",
       "\n",
       "[345 rows x 8 columns]"
      ]
     },
     "execution_count": 4,
     "metadata": {},
     "output_type": "execute_result"
    }
   ],
   "source": [
    "result[\"quantiles\"]"
   ]
  },
  {
   "cell_type": "code",
   "execution_count": 5,
   "metadata": {},
   "outputs": [
    {
     "data": {
      "text/plain": [
       "{'I_sol': {'risk': [713.14697265625],\n",
       "  'qoi': array([713.147  , 665.4437 , 654.34424], dtype=float32)},\n",
       " 'R_sol': {'risk': [346.6551513671875],\n",
       "  'qoi': array([287.85327, 335.55603, 346.65515], dtype=float32)},\n",
       " 'S_sol': {'risk': [6.842536537376986e-10],\n",
       "  'qoi': array([6.8425365e-10, 4.4837520e-10, 3.2101310e-10], dtype=float32)}}"
      ]
     },
     "execution_count": 5,
     "metadata": {},
     "output_type": "execute_result"
    }
   ],
   "source": [
    "result[\"risk\"]"
   ]
  },
  {
   "cell_type": "code",
   "execution_count": 6,
   "metadata": {
    "scrolled": true
   },
   "outputs": [],
   "source": [
    "interventions = [(1.1, \"beta\", 1.0), (2.1, \"gamma\", 0.1), (1.3, \"beta\", 2.0), (1.4, \"gamma\", 0.3)]\n",
    "\n",
    "result_int = load_and_sample_petri_model(\n",
    "    ASKENET_PATH, num_samples, timepoints=timepoints, interventions=interventions,\n",
    "    time_unit=\"days\",\n",
    "    visual_options={\"title\": \"SIR Model\", \"keep\": \".*_sol\"}\n",
    ")\n",
    "\n",
    "# # Save results\n",
    "# result_int[\"data\"].to_csv(\n",
    "#     os.path.join(DEMO_PATH, \"results_petri/sample_results_w_interventions.csv\"),\n",
    "#     index=False,\n",
    "# )\n",
    "# result_int[\"quantiles\"].to_csv(\n",
    "#     os.path.join(DEMO_PATH, \"results_petri/quantiles_results_w_interventions.csv\"), index=False\n",
    "# )"
   ]
  },
  {
   "cell_type": "code",
   "execution_count": 7,
   "metadata": {},
   "outputs": [
    {
     "name": "stderr",
     "output_type": "stream",
     "text": [
      "thread '<unnamed>' panicked at 'from_rgba returned None', vl-convert-rs/src/converter.rs:817:14\n",
      "note: run with `RUST_BACKTRACE=1` environment variable to display a backtrace\n"
     ]
    },
    {
     "ename": "ValueError",
     "evalue": "Vega to SVG conversion failed:\nErr(Any { .. })",
     "output_type": "error",
     "traceback": [
      "\u001b[0;31m---------------------------------------------------------------------------\u001b[0m",
      "\u001b[0;31mValueError\u001b[0m                                Traceback (most recent call last)",
      "Cell \u001b[0;32mIn[7], line 1\u001b[0m\n\u001b[0;32m----> 1\u001b[0m plots\u001b[39m.\u001b[39;49mipy_display(result_int[\u001b[39m\"\u001b[39;49m\u001b[39mvisual\u001b[39;49m\u001b[39m\"\u001b[39;49m])\n",
      "File \u001b[0;32m~/Desktop/Research/pyciemss/src/pyciemss/visuals/plots.py:86\u001b[0m, in \u001b[0;36mipy_display\u001b[0;34m(schema, format, force_clear, dpi, **kwargs)\u001b[0m\n\u001b[1;32m     83\u001b[0m     \u001b[39mif\u001b[39;00m dpi \u001b[39mand\u001b[39;00m \u001b[39m\"\u001b[39m\u001b[39mscale\u001b[39m\u001b[39m\"\u001b[39m \u001b[39mnot\u001b[39;00m \u001b[39min\u001b[39;00m kwargs:\n\u001b[1;32m     84\u001b[0m         kwargs[\u001b[39m\"\u001b[39m\u001b[39mscale\u001b[39m\u001b[39m\"\u001b[39m] \u001b[39m=\u001b[39m dpi \u001b[39m/\u001b[39m\u001b[39m/\u001b[39m \u001b[39m72\u001b[39m\n\u001b[0;32m---> 86\u001b[0m     png_data \u001b[39m=\u001b[39m vl_convert\u001b[39m.\u001b[39;49mvega_to_png(schema, \u001b[39m*\u001b[39;49m\u001b[39m*\u001b[39;49mkwargs)\n\u001b[1;32m     87\u001b[0m     \u001b[39mreturn\u001b[39;00m IPython\u001b[39m.\u001b[39mdisplay\u001b[39m.\u001b[39mImage(png_data)\n\u001b[1;32m     88\u001b[0m \u001b[39melif\u001b[39;00m \u001b[39mformat\u001b[39m \u001b[39m==\u001b[39m \u001b[39m\"\u001b[39m\u001b[39msvg\u001b[39m\u001b[39m\"\u001b[39m:\n",
      "\u001b[0;31mValueError\u001b[0m: Vega to SVG conversion failed:\nErr(Any { .. })"
     ]
    }
   ],
   "source": [
    "plots.ipy_display(result_int[\"visual\"])"
   ]
  },
  {
   "attachments": {},
   "cell_type": "markdown",
   "metadata": {},
   "source": [
    "## load_and_calibrate_and_sample_petri_model"
   ]
  },
  {
   "cell_type": "code",
   "execution_count": 9,
   "metadata": {},
   "outputs": [
    {
     "name": "stdout",
     "output_type": "stream",
     "text": [
      "iteration 0: loss = 64.62104487419128\n",
      "iteration 25: loss = 61.8980370759964\n",
      "iteration 50: loss = 60.334174036979675\n",
      "iteration 75: loss = 60.00053858757019\n"
     ]
    }
   ],
   "source": [
    "data_path = os.path.join(DEMO_PATH, \"data.csv\")\n",
    "num_samples = 10\n",
    "timepoints = [0.0, 1.0, 2.0, 3.0, 4.0]\n",
    "\n",
    "# Run the calibration and sampling\n",
    "result_cal = load_and_calibrate_and_sample_petri_model(\n",
    "    ASKENET_PATH,\n",
    "    data_path,\n",
    "    num_samples,\n",
    "    timepoints=timepoints,\n",
    "    verbose=True,\n",
    "    visual_options={\"title\": \"Intervened SIR Model\", \"keep\":\".*_sol\"},\n",
    "    num_iterations=100,\n",
    "    time_unit = \"days\"\n",
    ")\n",
    "\n",
    "# Save results\n",
    "result_cal['data'].to_csv(\n",
    "    os.path.join(DEMO_PATH, \"results_petri/calibrated_sample_results.csv\"), index=False\n",
    ")\n",
    "result_cal[\"quantiles\"].to_csv(\n",
    "    os.path.join(DEMO_PATH, \"results_petri/calibrated_quantiles_results.csv\"), index=False\n",
    ")"
   ]
  },
  {
   "cell_type": "code",
   "execution_count": 138,
   "metadata": {},
   "outputs": [
    {
     "data": {
      "text/plain": [
       "Text(0, 0.5, 'gamma')"
      ]
     },
     "execution_count": 138,
     "metadata": {},
     "output_type": "execute_result"
    },
    {
     "data": {
      "image/png": "[encoded data removed]",
      "text/plain": [
       "<Figure size 640x480 with 2 Axes>"
      ]
     },
     "metadata": {},
     "output_type": "display_data"
    }
   ],
   "source": [
    "from pyciemss.PetriNetODE.interfaces import (\n",
    "    load_and_sample_petri_model,\n",
    "    load_and_calibrate_and_sample_petri_model,\n",
    "    load_and_optimize_and_sample_petri_model,\n",
    "    load_and_calibrate_and_optimize_and_sample_petri_model,\n",
    "    posterior_density_petri_model\n",
    ")\n",
    "\n",
    "from itertools import product\n",
    "import numpy as np\n",
    "\n",
    "inferred_parameters = result_cal[\"inferred_parameters\"]\n",
    "\n",
    "betas, gammas = torch.meshgrid(torch.linspace(0.025, 0.029, 1000), torch.linspace(0.1, 0.18, 1000))\n",
    "\n",
    "density = posterior_density_petri_model(inferred_parameters=inferred_parameters, parameter_values={\"beta\": betas, \"gamma\": gammas})\n",
    "\n",
    "fig, ax = plt.subplots()\n",
    "c = ax.pcolormesh(betas, gammas, density, cmap='RdBu')\n",
    "ax.set_title('Posterior Density Heatmap')\n",
    "fig.colorbar(c, ax=ax)\n",
    "ax.set_xlabel('beta')\n",
    "ax.set_ylabel('gamma')"
   ]
  },
  {
   "cell_type": "code",
   "execution_count": 9,
   "metadata": {},
   "outputs": [
    {
     "data": {
      "text/html": [
       "<div>\n",
       "<style scoped>\n",
       "    .dataframe tbody tr th:only-of-type {\n",
       "        vertical-align: middle;\n",
       "    }\n",
       "\n",
       "    .dataframe tbody tr th {\n",
       "        vertical-align: top;\n",
       "    }\n",
       "\n",
       "    .dataframe thead th {\n",
       "        text-align: right;\n",
       "    }\n",
       "</style>\n",
       "<table border=\"1\" class=\"dataframe\">\n",
       "  <thead>\n",
       "    <tr style=\"text-align: right;\">\n",
       "      <th></th>\n",
       "      <th>timepoint_id</th>\n",
       "      <th>number_days</th>\n",
       "      <th>inc_cum</th>\n",
       "      <th>output</th>\n",
       "      <th>type</th>\n",
       "      <th>quantile</th>\n",
       "      <th>value</th>\n",
       "      <th>Forecast_Backcast</th>\n",
       "    </tr>\n",
       "  </thead>\n",
       "  <tbody>\n",
       "    <tr>\n",
       "      <th>0</th>\n",
       "      <td>0</td>\n",
       "      <td>0.0</td>\n",
       "      <td>inc</td>\n",
       "      <td>I</td>\n",
       "      <td>quantile</td>\n",
       "      <td>0.010</td>\n",
       "      <td>1.000000e+00</td>\n",
       "      <td>Backcast</td>\n",
       "    </tr>\n",
       "    <tr>\n",
       "      <th>1</th>\n",
       "      <td>0</td>\n",
       "      <td>0.0</td>\n",
       "      <td>inc</td>\n",
       "      <td>I</td>\n",
       "      <td>quantile</td>\n",
       "      <td>0.025</td>\n",
       "      <td>1.000000e+00</td>\n",
       "      <td>Backcast</td>\n",
       "    </tr>\n",
       "    <tr>\n",
       "      <th>2</th>\n",
       "      <td>0</td>\n",
       "      <td>0.0</td>\n",
       "      <td>inc</td>\n",
       "      <td>I</td>\n",
       "      <td>quantile</td>\n",
       "      <td>0.050</td>\n",
       "      <td>1.000000e+00</td>\n",
       "      <td>Backcast</td>\n",
       "    </tr>\n",
       "    <tr>\n",
       "      <th>3</th>\n",
       "      <td>0</td>\n",
       "      <td>0.0</td>\n",
       "      <td>inc</td>\n",
       "      <td>I</td>\n",
       "      <td>quantile</td>\n",
       "      <td>0.100</td>\n",
       "      <td>1.000000e+00</td>\n",
       "      <td>Backcast</td>\n",
       "    </tr>\n",
       "    <tr>\n",
       "      <th>4</th>\n",
       "      <td>0</td>\n",
       "      <td>0.0</td>\n",
       "      <td>inc</td>\n",
       "      <td>I</td>\n",
       "      <td>quantile</td>\n",
       "      <td>0.150</td>\n",
       "      <td>1.000000e+00</td>\n",
       "      <td>Backcast</td>\n",
       "    </tr>\n",
       "    <tr>\n",
       "      <th>...</th>\n",
       "      <td>...</td>\n",
       "      <td>...</td>\n",
       "      <td>...</td>\n",
       "      <td>...</td>\n",
       "      <td>...</td>\n",
       "      <td>...</td>\n",
       "      <td>...</td>\n",
       "      <td>...</td>\n",
       "    </tr>\n",
       "    <tr>\n",
       "      <th>340</th>\n",
       "      <td>4</td>\n",
       "      <td>4.0</td>\n",
       "      <td>inc</td>\n",
       "      <td>S</td>\n",
       "      <td>quantile</td>\n",
       "      <td>0.850</td>\n",
       "      <td>-6.634919e-11</td>\n",
       "      <td>Forecast</td>\n",
       "    </tr>\n",
       "    <tr>\n",
       "      <th>341</th>\n",
       "      <td>4</td>\n",
       "      <td>4.0</td>\n",
       "      <td>inc</td>\n",
       "      <td>S</td>\n",
       "      <td>quantile</td>\n",
       "      <td>0.900</td>\n",
       "      <td>-2.302190e-11</td>\n",
       "      <td>Forecast</td>\n",
       "    </tr>\n",
       "    <tr>\n",
       "      <th>342</th>\n",
       "      <td>4</td>\n",
       "      <td>4.0</td>\n",
       "      <td>inc</td>\n",
       "      <td>S</td>\n",
       "      <td>quantile</td>\n",
       "      <td>0.950</td>\n",
       "      <td>9.677443e-11</td>\n",
       "      <td>Forecast</td>\n",
       "    </tr>\n",
       "    <tr>\n",
       "      <th>343</th>\n",
       "      <td>4</td>\n",
       "      <td>4.0</td>\n",
       "      <td>inc</td>\n",
       "      <td>S</td>\n",
       "      <td>quantile</td>\n",
       "      <td>0.975</td>\n",
       "      <td>1.566726e-10</td>\n",
       "      <td>Forecast</td>\n",
       "    </tr>\n",
       "    <tr>\n",
       "      <th>344</th>\n",
       "      <td>4</td>\n",
       "      <td>4.0</td>\n",
       "      <td>inc</td>\n",
       "      <td>S</td>\n",
       "      <td>quantile</td>\n",
       "      <td>0.990</td>\n",
       "      <td>1.926115e-10</td>\n",
       "      <td>Forecast</td>\n",
       "    </tr>\n",
       "  </tbody>\n",
       "</table>\n",
       "<p>345 rows × 8 columns</p>\n",
       "</div>"
      ],
      "text/plain": [
       "     timepoint_id  number_days inc_cum output      type  quantile  \\\n",
       "0               0          0.0     inc      I  quantile     0.010   \n",
       "1               0          0.0     inc      I  quantile     0.025   \n",
       "2               0          0.0     inc      I  quantile     0.050   \n",
       "3               0          0.0     inc      I  quantile     0.100   \n",
       "4               0          0.0     inc      I  quantile     0.150   \n",
       "..            ...          ...     ...    ...       ...       ...   \n",
       "340             4          4.0     inc      S  quantile     0.850   \n",
       "341             4          4.0     inc      S  quantile     0.900   \n",
       "342             4          4.0     inc      S  quantile     0.950   \n",
       "343             4          4.0     inc      S  quantile     0.975   \n",
       "344             4          4.0     inc      S  quantile     0.990   \n",
       "\n",
       "            value Forecast_Backcast  \n",
       "0    1.000000e+00          Backcast  \n",
       "1    1.000000e+00          Backcast  \n",
       "2    1.000000e+00          Backcast  \n",
       "3    1.000000e+00          Backcast  \n",
       "4    1.000000e+00          Backcast  \n",
       "..            ...               ...  \n",
       "340 -6.634919e-11          Forecast  \n",
       "341 -2.302190e-11          Forecast  \n",
       "342  9.677443e-11          Forecast  \n",
       "343  1.566726e-10          Forecast  \n",
       "344  1.926115e-10          Forecast  \n",
       "\n",
       "[345 rows x 8 columns]"
      ]
     },
     "execution_count": 9,
     "metadata": {},
     "output_type": "execute_result"
    }
   ],
   "source": [
    "result_cal[\"quantiles\"]"
   ]
  },
  {
   "cell_type": "code",
   "execution_count": 10,
   "metadata": {},
   "outputs": [
    {
     "name": "stdout",
     "output_type": "stream",
     "text": [
      "\n"
     ]
    },
    {
     "data": {
      "application/vnd.vega.v5+json": {
       "$schema": "https://vega.github.io/schema/vega/v5.json",
       "axes": [
        {
         "name": "x_axis",
         "orient": "bottom",
         "scale": "xscale",
         "zindex": 100
        },
        {
         "name": "y_axis",
         "orient": "left",
         "scale": "yscale",
         "zindex": 100
        }
       ],
       "data": [
        {
         "name": "distributions",
         "values": [
          {
           "lower": 1,
           "timepoint": 0,
           "trajectory": "I_sol",
           "upper": 1
          },
          {
           "lower": 900.3819610595704,
           "timepoint": 1,
           "trajectory": "I_sol",
           "upper": 904.4218109130859
          },
          {
           "lower": 780.7496215820313,
           "timepoint": 2,
           "trajectory": "I_sol",
           "upper": 788.9223388671875
          },
          {
           "lower": 677.0133270263672,
           "timepoint": 3,
           "trajectory": "I_sol",
           "upper": 688.1729156494141
          },
          {
           "lower": 587.0608734130859,
           "timepoint": 4,
           "trajectory": "I_sol",
           "upper": 600.2897186279297
          },
          {
           "lower": 1.366280955560073e-11,
           "timepoint": 0,
           "trajectory": "R_sol",
           "upper": 1.4256657659972304e-11
          },
          {
           "lower": 96.5784954071045,
           "timepoint": 1,
           "trajectory": "R_sol",
           "upper": 100.61749229431152
          },
          {
           "lower": 212.07784576416014,
           "timepoint": 2,
           "trajectory": "R_sol",
           "upper": 220.25028076171876
          },
          {
           "lower": 312.8272506713867,
           "timepoint": 3,
           "trajectory": "R_sol",
           "upper": 323.9867172241211
          },
          {
           "lower": 400.7102905273438,
           "timepoint": 4,
           "trajectory": "R_sol",
           "upper": 413.93915405273435
          },
          {
           "lower": 1000,
           "timepoint": 0,
           "trajectory": "S_sol",
           "upper": 1000
          },
          {
           "lower": 0.0000049570733835935245,
           "timepoint": 1,
           "trajectory": "S_sol",
           "upper": 0.000005386520456340804
          },
          {
           "lower": -4.215376894767253e-10,
           "timepoint": 2,
           "trajectory": "S_sol",
           "upper": 5.042216491557557e-10
          },
          {
           "lower": -4.775837642023717e-10,
           "timepoint": 3,
           "trajectory": "S_sol",
           "upper": 4.40197757411997e-10
          },
          {
           "lower": -9.290689662044826e-10,
           "timepoint": 4,
           "trajectory": "S_sol",
           "upper": 9.677443221778297e-11
          }
         ]
        },
        {
         "name": "traces",
         "transform": [
          {
           "expr": "isValid(datum.value)",
           "type": "filter"
          }
         ],
         "values": []
        },
        {
         "name": "points",
         "values": []
        },
        {
         "name": "markers",
         "values": []
        },
        {
         "name": "selected",
         "on": [
          {
           "remove": true,
           "trigger": "clear"
          },
          {
           "remove": true,
           "trigger": "!shift"
          },
          {
           "insert": "clicked",
           "trigger": "!shift && clicked"
          },
          {
           "toggle": "clicked",
           "trigger": "shift && clicked"
          }
         ]
        }
       ],
       "height": 300,
       "legends": [
        {
         "encode": {
          "labels": {
           "interactive": true,
           "name": "legendLabel",
           "update": {
            "opacity": [
             {
              "test": "!length(data('selected')) || indata('selected', 'value', datum.value)",
              "value": 1
             },
             {
              "value": 0.25
             }
            ]
           }
          },
          "symbols": {
           "interactive": true,
           "name": "legendSymbol",
           "update": {
            "fill": {
             "value": "transparent"
            },
            "opacity": [
             {
              "test": "!length(data('selected')) || indata('selected', 'value', datum.value)",
              "value": 0.7
             },
             {
              "value": 0.15
             }
            ],
            "size": {
             "value": 64
            },
            "strokeWidth": {
             "value": 2
            }
           }
          }
         },
         "name": "color_legend",
         "stroke": "color"
        }
       ],
       "marks": [
        {
         "from": {
          "facet": {
           "data": "points",
           "groupby": "trajectory",
           "name": "points_split"
          }
         },
         "marks": [
          {
           "encode": {
            "hover": {
             "fillOpacity": {
              "value": 0.9
             }
            },
            "update": {
             "fill": {
              "field": "trajectory",
              "scale": "color"
             },
             "fillOpacity": [
              {
               "test": "!length(data('selected')) || indata('selected', 'value', datum.trajectory)",
               "value": 0.5
              },
              {
               "value": 0.15
              }
             ],
             "size": {
              "value": 10
             },
             "stroke": {
              "field": "trajectory",
              "scale": "color"
             },
             "strokeOpacity": [
              {
               "test": "!length(data('selected')) || indata('selected', 'value', datum.trajectory)",
               "value": 0.75
              },
              {
               "value": 0.15
              }
             ],
             "strokeWidth": {
              "value": 2
             },
             "tooltip": {
              "field": "value"
             },
             "x": {
              "field": "timepoint",
              "scale": "xscale"
             },
             "y": {
              "field": "value",
              "scale": "yscale"
             }
            }
           },
           "from": {
            "data": "points"
           },
           "name": "_points_symbol",
           "type": "symbol",
           "zindex": 3
          },
          {
           "encode": {
            "hover": {
             "fillOpacity": {
              "value": 0.9
             }
            },
            "update": {
             "interpolate": {
              "value": "linear"
             },
             "stroke": {
              "field": "trajectory",
              "scale": "color"
             },
             "strokeOpacity": [
              {
               "test": "!length(data('selected')) || indata('selected', 'value', datum.trajectory)",
               "value": 0.3
              },
              {
               "value": 0.1
              }
             ],
             "strokeWidth": {
              "value": 2
             },
             "x": {
              "field": "timepoint",
              "scale": "xscale"
             },
             "y": {
              "field": "value",
              "scale": "yscale"
             }
            }
           },
           "from": {
            "data": "points"
           },
           "name": "_points_line",
           "type": "line",
           "zindex": 3
          }
         ],
         "name": "_points",
         "type": "group",
         "zindex": 3
        },
        {
         "from": {
          "facet": {
           "data": "traces",
           "groupby": "trajectory",
           "name": "traces_split"
          }
         },
         "marks": [
          {
           "encode": {
            "hover": {
             "fillOpacity": {
              "value": 0.9
             }
            },
            "update": {
             "interpolate": {
              "value": "linear"
             },
             "stroke": {
              "field": "trajectory",
              "scale": "color"
             },
             "strokeOpacity": [
              {
               "test": "!length(data('selected')) || indata('selected', 'value', datum.trajectory)",
               "value": 0.75
              },
              {
               "value": 0.15
              }
             ],
             "strokeWidth": {
              "value": 2
             },
             "x": {
              "field": "timepoint",
              "scale": "xscale"
             },
             "y": {
              "field": "value",
              "scale": "yscale"
             }
            }
           },
           "from": {
            "data": "traces_split"
           },
           "name": "_traces_lines",
           "type": "line"
          }
         ],
         "name": "_traces",
         "type": "group",
         "zindex": 2
        },
        {
         "from": {
          "facet": {
           "data": "distributions",
           "groupby": "trajectory",
           "name": "trajectory_split"
          }
         },
         "marks": [
          {
           "encode": {
            "hover": {
             "fillOpacity": {
              "value": 0.9
             }
            },
            "update": {
             "fill": {
              "field": "trajectory",
              "scale": "color"
             },
             "fillOpacity": [
              {
               "test": "!length(data('selected')) || indata('selected', 'value', datum.trajectory)",
               "value": 0.5
              },
              {
               "value": 0.15
              }
             ],
             "interpolate": {
              "value": "linear"
             },
             "stroke": {
              "field": "trajectory",
              "scale": "color"
             },
             "strokeOpacity": [
              {
               "test": "!length(data('selected')) || indata('selected', 'value', datum.trajectory)",
               "value": 0.75
              },
              {
               "value": 0.15
              }
             ],
             "strokeWidth": {
              "value": 2
             },
             "x": {
              "field": "timepoint",
              "scale": "xscale"
             },
             "y": {
              "field": "upper",
              "scale": "yscale"
             },
             "y2": {
              "field": "lower",
              "scale": "yscale"
             }
            }
           },
           "from": {
            "data": "trajectory_split"
           },
           "type": "area"
          }
         ],
         "name": "_distributions",
         "type": "group",
         "zindex": 1
        },
        {
         "marks": [
          {
           "encode": {
            "enter": {
             "stroke": {
              "value": "lightgray"
             }
            },
            "update": {
             "opacity": {
              "value": 1
             },
             "x": {
              "field": "timepoint",
              "scale": "xscale"
             },
             "y": {
              "signal": "height"
             },
             "y2": {
              "value": 0
             }
            }
           },
           "from": {
            "data": "markers"
           },
           "name": "_marker text",
           "type": "rule"
          },
          {
           "encode": {
            "enter": {
             "fontSize": {
              "value": 8
             },
             "text": {
              "field": "datum.label"
             },
             "y": {
              "value": 0
             }
            }
           },
           "from": {
            "data": "_marker text"
           },
           "name": "_marker flags",
           "transform": [
            {
             "as": [
              "x",
              "_y",
              "opacity",
              "align",
              "baseline"
             ],
             "lineAnchor": "start",
             "offset": [
              1
             ],
             "size": {
              "signal": "[width, height]"
             },
             "type": "label"
            }
           ],
           "type": "text"
          }
         ],
         "name": "_markers",
         "type": "group"
        }
       ],
       "scales": [
        {
         "domain": {
          "fields": [
           {
            "data": "distributions",
            "field": "timepoint"
           },
           {
            "data": "traces",
            "field": "timepoint"
           },
           {
            "data": "points",
            "field": "timepoint"
           },
           {
            "data": "markers",
            "field": "timepoint"
           }
          ]
         },
         "name": "xscale",
         "range": "width",
         "type": "linear",
         "zero": false
        },
        {
         "domain": {
          "fields": [
           {
            "data": "distributions",
            "field": "lower"
           },
           {
            "data": "distributions",
            "field": "upper"
           },
           {
            "data": "traces",
            "field": "value"
           },
           {
            "data": "points",
            "field": "value"
           }
          ]
         },
         "name": "yscale",
         "nice": true,
         "range": "height",
         "type": "linear",
         "zero": true
        },
        {
         "domain": {
          "fields": [
           {
            "data": "distributions",
            "field": "trajectory"
           },
           {
            "data": "traces",
            "field": "trajectory"
           },
           {
            "data": "points",
            "field": "trajectory"
           }
          ]
         },
         "name": "color",
         "range": "category",
         "type": "ordinal"
        }
       ],
       "signals": [
        {
         "name": "clear",
         "on": [
          {
           "events": "mouseup[!event.item]",
           "force": true,
           "update": "true"
          }
         ],
         "value": true
        },
        {
         "name": "shift",
         "on": [
          {
           "events": "@legendSymbol:click, @legendLabel:click",
           "force": true,
           "update": "event.shiftKey"
          }
         ],
         "value": false
        },
        {
         "name": "clicked",
         "on": [
          {
           "events": "@legendSymbol:click, @legendLabel:click",
           "force": true,
           "update": "{value: datum.value}"
          }
         ],
         "value": null
        }
       ],
       "title": "Intervened SIR Model",
       "width": 500
      }
     },
     "metadata": {},
     "output_type": "display_data"
    }
   ],
   "source": [
    "plots.ipy_display(result_cal[\"visual\"])"
   ]
  },
  {
   "cell_type": "markdown",
   "metadata": {},
   "source": [
    "## load_and_optimize_and_sample_petri_model"
   ]
  },
  {
   "cell_type": "code",
   "execution_count": null,
   "metadata": {},
   "outputs": [],
   "source": [
    "num_samples = 100\n",
    "timepoints = [0.0, 1.0, 2.0, 3.0, 4.0]\n",
    "OBJFUN = lambda x: np.abs(x)\n",
    "INTERVENTION = [(0.1, \"beta\")]\n",
    "QOI = (\"scenario2dec_nday_average\", \"I_sol\", 2)\n",
    "# Run the optimization and sampling\n",
    "result = load_and_optimize_and_sample_petri_model(\n",
    "    ASKENET_PATH,\n",
    "    num_samples,\n",
    "    timepoints=timepoints,\n",
    "    interventions=INTERVENTION,\n",
    "    qoi=QOI,\n",
    "    risk_bound=10.,\n",
    "    objfun=OBJFUN,\n",
    "    initial_guess=0.02,\n",
    "    bounds=[[0.],[3.]],\n",
    "    verbose=True,\n",
    ")\n",
    "\n",
    "ouu_samples = result[\"data\"]\n",
    "opt_policy = result[\"policy\"]\n",
    "# Save results\n",
    "ouu_samples.to_csv(\n",
    "    os.path.join(DEMO_PATH, \"results_petri/optimize_sample_results.csv\"), index=False\n",
    ")\n",
    "print(\"Optimal policy:\", opt_policy[\"policy\"])\n",
    "print(\"Estimated risk at optimal policy\", opt_policy[\"risk\"])"
   ]
  },
  {
   "cell_type": "markdown",
   "metadata": {},
   "source": [
    "## load_and_calibrate_and_optimize_and_sample_petri_model"
   ]
  },
  {
   "cell_type": "code",
   "execution_count": null,
   "metadata": {},
   "outputs": [
    {
     "name": "stdout",
     "output_type": "stream",
     "text": [
      "iteration 0: loss = 37.5659122467041\n",
      "iteration 25: loss = 35.41392183303833\n",
      "iteration 50: loss = 33.67425513267517\n",
      "iteration 75: loss = 32.595038652420044\n",
      "iteration 100: loss = 33.10420513153076\n",
      "iteration 125: loss = 32.42216110229492\n",
      "iteration 150: loss = 33.292160987854004\n",
      "iteration 175: loss = 31.957093477249146\n",
      "iteration 200: loss = 32.40791869163513\n",
      "iteration 225: loss = 32.1630494594574\n",
      "iteration 250: loss = 32.64620661735535\n",
      "iteration 275: loss = 32.447582960128784\n",
      "iteration 300: loss = 32.42112612724304\n",
      "iteration 325: loss = 32.70798373222351\n",
      "iteration 350: loss = 32.1295063495636\n",
      "iteration 375: loss = 32.78153920173645\n",
      "iteration 400: loss = 32.15399241447449\n",
      "iteration 425: loss = 32.18069672584534\n",
      "iteration 450: loss = 32.34887766838074\n",
      "iteration 475: loss = 32.39561104774475\n",
      "iteration 500: loss = 32.51458191871643\n",
      "iteration 525: loss = 32.285157680511475\n",
      "iteration 550: loss = 32.21916651725769\n",
      "iteration 575: loss = 32.54395031929016\n",
      "iteration 600: loss = 32.487563133239746\n",
      "iteration 625: loss = 32.54312562942505\n",
      "iteration 650: loss = 31.965022087097168\n",
      "iteration 675: loss = 32.316070318222046\n",
      "iteration 700: loss = 32.36382842063904\n",
      "iteration 725: loss = 32.52105975151062\n",
      "iteration 750: loss = 32.83406376838684\n",
      "iteration 775: loss = 32.393730878829956\n",
      "iteration 800: loss = 32.43019080162048\n",
      "iteration 825: loss = 32.3959174156189\n",
      "iteration 850: loss = 32.112430572509766\n",
      "iteration 875: loss = 32.36790990829468\n",
      "iteration 900: loss = 32.66983437538147\n",
      "iteration 925: loss = 32.438520669937134\n",
      "iteration 950: loss = 32.27924203872681\n",
      "iteration 975: loss = 32.38777709007263\n",
      "Time taken: (1.62e-01 seconds per model evaluation).\n",
      "Performing risk-based optimization under uncertainty (using alpha-superquantile)\n",
      "Estimated wait time 1217.2 seconds...\n",
      "Optimization completed in time 413.15 seconds.\n",
      "Optimal policy:\t0.0\n",
      "Post-processing optimal policy...\n",
      "Estimated risk at optimal policy [0.6986928939819336]\n",
      "Optimal policy after calibration: 0.0\n",
      "Estimated risk at optimal policy after calibration [0.7027968883514404]\n"
     ]
    }
   ],
   "source": [
    "data_path = os.path.join(DEMO_PATH, \"data.csv\")\n",
    "num_samples = 100\n",
    "timepoints = [0.0, 1.0, 2.0, 3.0, 4.0]\n",
    "OBJFUN = lambda x: np.abs(x)\n",
    "INTERVENTION = [(0.1, \"beta\")]\n",
    "QOI = (\"scenario2dec_nday_average\", \"I_sol\", 2)\n",
    "# Run the calibration, optimization, and sampling\n",
    "result = load_and_calibrate_and_optimize_and_sample_petri_model(\n",
    "    ASKENET_PATH,\n",
    "    data_path,\n",
    "    num_samples,\n",
    "    timepoints=timepoints,\n",
    "    interventions=INTERVENTION,\n",
    "    qoi=QOI,\n",
    "    risk_bound=10.,\n",
    "    objfun=OBJFUN,\n",
    "    initial_guess=0.02,\n",
    "    bounds=[[0.],[3.]],\n",
    "    verbose=True,\n",
    ")\n",
    "\n",
    "ouu_cal_samples = result[\"data\"]\n",
    "opt_cal_policy = result[\"policy\"]\n",
    "# Save results\n",
    "ouu_cal_samples.to_csv(\n",
    "    os.path.join(DEMO_PATH, \"results_petri/calibrate_optimize_sample_results.csv\"), index=False\n",
    ")\n",
    "print(\"Optimal policy after calibration:\", opt_policy[\"policy\"])\n",
    "print(\"Estimated risk at optimal policy after calibration\", opt_policy[\"risk\"])"
   ]
  },
  {
   "cell_type": "code",
   "execution_count": null,
   "metadata": {},
   "outputs": [],
   "source": []
  }
 ],
 "metadata": {
  "kernelspec": {
   "display_name": "askemv2",
   "language": "python",
   "name": "python3"
  },
  "language_info": {
   "codemirror_mode": {
    "name": "ipython",
    "version": 3
   },
   "file_extension": ".py",
   "mimetype": "text/x-python",
   "name": "python",
   "nbconvert_exporter": "python",
   "pygments_lexer": "ipython3",
   "version": "3.10.12"
  }
 },
 "nbformat": 4,
 "nbformat_minor": 4
}
