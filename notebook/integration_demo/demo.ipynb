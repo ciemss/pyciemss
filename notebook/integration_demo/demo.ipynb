{
 "cells": [
  {
   "cell_type": "code",
   "execution_count": 1,
   "metadata": {},
   "outputs": [],
   "source": [
    "import os\n",
    "from pyciemss.PetriNetODE.interfaces import (\n",
    "    load_and_sample_petri_model,\n",
    "    load_and_calibrate_and_sample_petri_model,\n",
    ")"
   ]
  },
  {
   "cell_type": "code",
   "execution_count": 2,
   "metadata": {},
   "outputs": [],
   "source": [
    "DEMO_PATH = \"notebook/integration_demo/\"\n",
    "ASKENET_PATH = \"https://raw.githubusercontent.com/DARPA-ASKEM/Model-Representations/main/petrinet/examples/sir_typed.json\""
   ]
  },
  {
   "attachments": {},
   "cell_type": "markdown",
   "metadata": {},
   "source": [
    "## load_and_sample_petri_model"
   ]
  },
  {
   "cell_type": "code",
   "execution_count": 3,
   "metadata": {},
   "outputs": [],
   "source": [
    "num_samples = 100\n",
    "timepoints = [0.0, 1.0, 2.0, 3.0, 4.0]\n",
    "\n",
    "# Run sampling w/o an intervention\n",
    "samples = load_and_sample_petri_model(ASKENET_PATH, num_samples, timepoints=timepoints)\n",
    "\n",
    "# Save results\n",
    "samples.to_csv(os.path.join(DEMO_PATH, \"results_petri/sample_results.csv\"), index=False)"
   ]
  },
  {
   "cell_type": "code",
   "execution_count": 4,
   "metadata": {},
   "outputs": [
    {
     "data": {
      "text/plain": [
       "ScaledBetaNoisePetriNetODESystem(\n",
       "\tbeta = Uniform(low: 0.024299999698996544, high: 0.02969999983906746),\n",
       "\tgamma = Uniform(low: 0.12600000202655792, high: 0.15399999916553497),\n",
       "\tpseudocount = 1.0\n",
       ")"
      ]
     },
     "execution_count": 4,
     "metadata": {},
     "output_type": "execute_result"
    }
   ],
   "source": [
    "from pyciemss.PetriNetODE.interfaces import load_petri_model\n",
    "\n",
    "model = load_petri_model(ASKENET_PATH)\n",
    "model"
   ]
  },
  {
   "cell_type": "code",
   "execution_count": 6,
   "metadata": {},
   "outputs": [],
   "source": [
    "# Run sampling w/o an intervention\n",
    "# intervention is an iterable (e.g. list) of tuples of the form (timepoint: float, parameter: str, value: float)\n",
    "interventions = [(1.1, \"beta\", 1.0), (2.1, \"gamma\", 0.1)]\n",
    "\n",
    "samples = load_and_sample_petri_model(\n",
    "    ASKENET_PATH, num_samples, timepoints=timepoints, interventions=interventions\n",
    ")\n",
    "\n",
    "# Save results\n",
    "samples.to_csv(\n",
    "    os.path.join(DEMO_PATH, \"results_petri/sample_results_w_interventions.csv\"),\n",
    "    index=False,\n",
    ")"
   ]
  },
  {
   "cell_type": "code",
   "execution_count": 7,
   "metadata": {},
   "outputs": [
    {
     "data": {
      "text/html": [
       "<div>\n",
       "<style scoped>\n",
       "    .dataframe tbody tr th:only-of-type {\n",
       "        vertical-align: middle;\n",
       "    }\n",
       "\n",
       "    .dataframe tbody tr th {\n",
       "        vertical-align: top;\n",
       "    }\n",
       "\n",
       "    .dataframe thead th {\n",
       "        text-align: right;\n",
       "    }\n",
       "</style>\n",
       "<table border=\"1\" class=\"dataframe\">\n",
       "  <thead>\n",
       "    <tr style=\"text-align: right;\">\n",
       "      <th></th>\n",
       "      <th>timepoint_id</th>\n",
       "      <th>sample_id</th>\n",
       "      <th>beta_param</th>\n",
       "      <th>gamma_param</th>\n",
       "      <th>Infected_sol</th>\n",
       "      <th>Recovered_sol</th>\n",
       "      <th>Susceptible_sol</th>\n",
       "    </tr>\n",
       "  </thead>\n",
       "  <tbody>\n",
       "    <tr>\n",
       "      <th>0</th>\n",
       "      <td>0</td>\n",
       "      <td>0</td>\n",
       "      <td>0.027563</td>\n",
       "      <td>0.133587</td>\n",
       "      <td>1.000000</td>\n",
       "      <td>1.335873e-11</td>\n",
       "      <td>1000.000000</td>\n",
       "    </tr>\n",
       "    <tr>\n",
       "      <th>1</th>\n",
       "      <td>1</td>\n",
       "      <td>0</td>\n",
       "      <td>0.027563</td>\n",
       "      <td>0.133587</td>\n",
       "      <td>0.899377</td>\n",
       "      <td>1.267476e-01</td>\n",
       "      <td>999.973633</td>\n",
       "    </tr>\n",
       "    <tr>\n",
       "      <th>2</th>\n",
       "      <td>2</td>\n",
       "      <td>0</td>\n",
       "      <td>0.027563</td>\n",
       "      <td>0.133587</td>\n",
       "      <td>1.938112</td>\n",
       "      <td>3.006233e-01</td>\n",
       "      <td>998.760803</td>\n",
       "    </tr>\n",
       "    <tr>\n",
       "      <th>3</th>\n",
       "      <td>3</td>\n",
       "      <td>0</td>\n",
       "      <td>0.027563</td>\n",
       "      <td>0.133587</td>\n",
       "      <td>4.734096</td>\n",
       "      <td>6.201613e-01</td>\n",
       "      <td>995.645142</td>\n",
       "    </tr>\n",
       "    <tr>\n",
       "      <th>4</th>\n",
       "      <td>4</td>\n",
       "      <td>0</td>\n",
       "      <td>0.027563</td>\n",
       "      <td>0.133587</td>\n",
       "      <td>11.544487</td>\n",
       "      <td>1.384633e+00</td>\n",
       "      <td>988.070984</td>\n",
       "    </tr>\n",
       "    <tr>\n",
       "      <th>...</th>\n",
       "      <td>...</td>\n",
       "      <td>...</td>\n",
       "      <td>...</td>\n",
       "      <td>...</td>\n",
       "      <td>...</td>\n",
       "      <td>...</td>\n",
       "      <td>...</td>\n",
       "    </tr>\n",
       "    <tr>\n",
       "      <th>495</th>\n",
       "      <td>0</td>\n",
       "      <td>99</td>\n",
       "      <td>0.027930</td>\n",
       "      <td>0.127632</td>\n",
       "      <td>1.000000</td>\n",
       "      <td>1.276319e-11</td>\n",
       "      <td>1000.000000</td>\n",
       "    </tr>\n",
       "    <tr>\n",
       "      <th>496</th>\n",
       "      <td>1</td>\n",
       "      <td>99</td>\n",
       "      <td>0.027930</td>\n",
       "      <td>0.127632</td>\n",
       "      <td>0.905081</td>\n",
       "      <td>1.214742e-01</td>\n",
       "      <td>999.973083</td>\n",
       "    </tr>\n",
       "    <tr>\n",
       "      <th>497</th>\n",
       "      <td>2</td>\n",
       "      <td>99</td>\n",
       "      <td>0.027930</td>\n",
       "      <td>0.127632</td>\n",
       "      <td>1.962118</td>\n",
       "      <td>2.892258e-01</td>\n",
       "      <td>998.748718</td>\n",
       "    </tr>\n",
       "    <tr>\n",
       "      <th>498</th>\n",
       "      <td>3</td>\n",
       "      <td>99</td>\n",
       "      <td>0.027930</td>\n",
       "      <td>0.127632</td>\n",
       "      <td>4.795452</td>\n",
       "      <td>6.116815e-01</td>\n",
       "      <td>995.592468</td>\n",
       "    </tr>\n",
       "    <tr>\n",
       "      <th>499</th>\n",
       "      <td>4</td>\n",
       "      <td>99</td>\n",
       "      <td>0.027930</td>\n",
       "      <td>0.127632</td>\n",
       "      <td>11.693012</td>\n",
       "      <td>1.386026e+00</td>\n",
       "      <td>987.921143</td>\n",
       "    </tr>\n",
       "  </tbody>\n",
       "</table>\n",
       "<p>500 rows × 7 columns</p>\n",
       "</div>"
      ],
      "text/plain": [
       "     timepoint_id  sample_id  beta_param  gamma_param  Infected_sol  \\\n",
       "0               0          0    0.027563     0.133587      1.000000   \n",
       "1               1          0    0.027563     0.133587      0.899377   \n",
       "2               2          0    0.027563     0.133587      1.938112   \n",
       "3               3          0    0.027563     0.133587      4.734096   \n",
       "4               4          0    0.027563     0.133587     11.544487   \n",
       "..            ...        ...         ...          ...           ...   \n",
       "495             0         99    0.027930     0.127632      1.000000   \n",
       "496             1         99    0.027930     0.127632      0.905081   \n",
       "497             2         99    0.027930     0.127632      1.962118   \n",
       "498             3         99    0.027930     0.127632      4.795452   \n",
       "499             4         99    0.027930     0.127632     11.693012   \n",
       "\n",
       "     Recovered_sol  Susceptible_sol  \n",
       "0     1.335873e-11      1000.000000  \n",
       "1     1.267476e-01       999.973633  \n",
       "2     3.006233e-01       998.760803  \n",
       "3     6.201613e-01       995.645142  \n",
       "4     1.384633e+00       988.070984  \n",
       "..             ...              ...  \n",
       "495   1.276319e-11      1000.000000  \n",
       "496   1.214742e-01       999.973083  \n",
       "497   2.892258e-01       998.748718  \n",
       "498   6.116815e-01       995.592468  \n",
       "499   1.386026e+00       987.921143  \n",
       "\n",
       "[500 rows x 7 columns]"
      ]
     },
     "execution_count": 7,
     "metadata": {},
     "output_type": "execute_result"
    }
   ],
   "source": [
    "samples"
   ]
  },
  {
   "attachments": {},
   "cell_type": "markdown",
   "metadata": {},
   "source": [
    "## load_and_calibrate_and_sample_petri_model"
   ]
  },
  {
   "cell_type": "code",
   "execution_count": 7,
   "metadata": {},
   "outputs": [
    {
     "name": "stdout",
     "output_type": "stream",
     "text": [
      "iteration 0: loss = 37.94811773300171\n",
      "iteration 25: loss = 34.9170196056366\n",
      "iteration 50: loss = 32.69080424308777\n",
      "iteration 75: loss = 32.41730046272278\n",
      "iteration 100: loss = 32.44331431388855\n",
      "iteration 125: loss = 32.692076683044434\n",
      "iteration 150: loss = 32.61838483810425\n",
      "iteration 175: loss = 32.56607246398926\n",
      "iteration 200: loss = 33.014737367630005\n",
      "iteration 225: loss = 32.58268332481384\n",
      "iteration 250: loss = 32.89216685295105\n",
      "iteration 275: loss = 31.961626768112183\n",
      "iteration 300: loss = 32.6565682888031\n"
     ]
    }
   ],
   "source": [
    "data_path = os.path.join(DEMO_PATH, \"data.csv\")\n",
    "num_samples = 100\n",
    "timepoints = [0.0, 1.0, 2.0, 3.0, 4.0]\n",
    "\n",
    "# Run the calibration and sampling\n",
    "calibrated_samples = load_and_calibrate_and_sample_petri_model(\n",
    "    ASKENET_PATH,\n",
    "    data_path,\n",
    "    num_samples,\n",
    "    timepoints=timepoints,\n",
    "    verbose=True,\n",
    ")\n",
    "\n",
    "# Save results\n",
    "calibrated_samples.to_csv(\n",
    "    os.path.join(DEMO_PATH, \"results_petri/calibrated_sample_results.csv\"), index=False\n",
    ")"
   ]
  },
  {
   "cell_type": "code",
   "execution_count": null,
   "metadata": {},
   "outputs": [],
   "source": []
  }
 ],
 "metadata": {
  "kernelspec": {
   "display_name": "askem-test",
   "language": "python",
   "name": "python3"
  },
  "language_info": {
   "codemirror_mode": {
    "name": "ipython",
    "version": 3
   },
   "file_extension": ".py",
   "mimetype": "text/x-python",
   "name": "python",
   "nbconvert_exporter": "python",
   "pygments_lexer": "ipython3",
   "version": "3.10.11"
  },
  "orig_nbformat": 4
 },
 "nbformat": 4,
 "nbformat_minor": 2
}
