{
 "cells": [
  {
   "cell_type": "code",
   "execution_count": 1,
   "metadata": {},
   "outputs": [],
   "source": [
    "import os\n",
    "from pyciemss.PetriNetODE.interfaces import (\n",
    "    load_and_sample_petri_model,\n",
    "    load_and_calibrate_and_sample_petri_model,\n",
    ")"
   ]
  },
  {
   "cell_type": "code",
   "execution_count": 2,
   "metadata": {},
   "outputs": [],
   "source": [
    "DEMO_PATH = \"notebook/integration_demo/\"\n",
    "\n",
    "askenet_filename = \"askenet_sir.json\"\n",
    "askenet_filepath = os.path.join(DEMO_PATH, askenet_filename)"
   ]
  },
  {
   "attachments": {},
   "cell_type": "markdown",
   "metadata": {},
   "source": [
    "## load_and_sample_petri_model"
   ]
  },
  {
   "cell_type": "code",
   "execution_count": 3,
   "metadata": {},
   "outputs": [],
   "source": [
    "num_samples = 100\n",
    "timepoints = [0.0, 1.0, 2.0, 3.0, 4.0]\n",
    "\n",
    "# Run sampling\n",
    "samples = load_and_sample_petri_model(\n",
    "    askenet_filepath, num_samples, timepoints=timepoints, add_uncertainty=True\n",
    ")\n",
    "\n",
    "# Save results\n",
    "samples.to_csv(os.path.join(DEMO_PATH, \"results_petri/sample_results.csv\"), index=False)"
   ]
  },
  {
   "attachments": {},
   "cell_type": "markdown",
   "metadata": {},
   "source": [
    "## load_and_calibrate_and_sample_petri_model"
   ]
  },
  {
   "cell_type": "code",
   "execution_count": 4,
   "metadata": {},
   "outputs": [
    {
     "name": "stdout",
     "output_type": "stream",
     "text": [
      "iteration 0: loss = 36.79053807258606\n",
      "iteration 25: loss = 36.28297138214111\n",
      "iteration 50: loss = 33.86310613155365\n",
      "iteration 75: loss = 33.63625931739807\n",
      "iteration 100: loss = 33.170753955841064\n",
      "iteration 125: loss = 32.23498749732971\n",
      "iteration 150: loss = 32.57502341270447\n",
      "iteration 175: loss = 30.737557649612427\n",
      "iteration 200: loss = 32.46660780906677\n",
      "iteration 225: loss = 32.33566427230835\n",
      "iteration 250: loss = 32.02323079109192\n",
      "iteration 275: loss = 32.66710901260376\n",
      "iteration 300: loss = 32.76457166671753\n",
      "iteration 325: loss = 32.39500141143799\n",
      "iteration 350: loss = 32.77631974220276\n",
      "iteration 375: loss = 32.104283809661865\n",
      "iteration 400: loss = 31.97167181968689\n",
      "iteration 425: loss = 31.90198040008545\n",
      "iteration 450: loss = 32.312739610672\n",
      "iteration 475: loss = 32.63233923912048\n",
      "iteration 500: loss = 32.45705723762512\n",
      "iteration 525: loss = 32.26479744911194\n",
      "iteration 550: loss = 32.35461449623108\n",
      "iteration 575: loss = 32.50724697113037\n",
      "iteration 600: loss = 32.36193776130676\n",
      "iteration 625: loss = 32.32045316696167\n",
      "iteration 650: loss = 32.31160831451416\n",
      "iteration 675: loss = 32.58488059043884\n",
      "iteration 700: loss = 32.5111026763916\n",
      "iteration 725: loss = 32.311018228530884\n",
      "iteration 750: loss = 32.54625058174133\n",
      "iteration 775: loss = 32.26282286643982\n",
      "iteration 800: loss = 32.37217736244202\n",
      "iteration 825: loss = 32.58023428916931\n",
      "iteration 850: loss = 32.56904721260071\n",
      "iteration 875: loss = 32.684388399124146\n",
      "iteration 900: loss = 31.41543698310852\n",
      "iteration 925: loss = 32.04446506500244\n",
      "iteration 950: loss = 32.30326700210571\n",
      "iteration 975: loss = 32.806742429733276\n"
     ]
    }
   ],
   "source": [
    "data_path = os.path.join(DEMO_PATH, \"data.csv\")\n",
    "num_samples = 100\n",
    "timepoints = [0.0, 1.0, 2.0, 3.0, 4.0]\n",
    "\n",
    "# Run the calibration and sampling\n",
    "calibrated_samples = load_and_calibrate_and_sample_petri_model(\n",
    "    askenet_filepath,\n",
    "    data_path,\n",
    "    num_samples,\n",
    "    timepoints=timepoints,\n",
    "    add_uncertainty=True,\n",
    "    verbose=True,\n",
    ")\n",
    "\n",
    "# Save results\n",
    "calibrated_samples.to_csv(\n",
    "    os.path.join(DEMO_PATH, \"results_petri/calibrated_sample_results.csv\"), index=False\n",
    ")"
   ]
  }
 ],
 "metadata": {
  "kernelspec": {
   "display_name": "askem-test",
   "language": "python",
   "name": "python3"
  },
  "language_info": {
   "codemirror_mode": {
    "name": "ipython",
    "version": 3
   },
   "file_extension": ".py",
   "mimetype": "text/x-python",
   "name": "python",
   "nbconvert_exporter": "python",
   "pygments_lexer": "ipython3",
   "version": "3.10.11"
  },
  "orig_nbformat": 4
 },
 "nbformat": 4,
 "nbformat_minor": 2
}
