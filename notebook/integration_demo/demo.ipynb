{
 "cells": [
  {
   "cell_type": "code",
   "execution_count": 1,
   "metadata": {},
   "outputs": [],
   "source": [
    "import os\n",
    "from pyciemss.PetriNetODE.interfaces import (\n",
    "    load_and_sample_petri_model,\n",
    "    load_and_calibrate_and_sample_petri_model,\n",
    "    load_petri_model,\n",
    "    setup_petri_model,\n",
    "    sample\n",
    ")\n",
    "import numpy as np\n",
    "from typing import Iterable\n",
    "from pyciemss.utils.interface_utils import (\n",
    "    assign_interventions_to_timepoints,\n",
    "    interventions_and_sampled_params_to_interval,\n",
    "    convert_to_output_format\n",
    ")\n",
    "from torch import tensor"
   ]
  },
  {
   "cell_type": "code",
   "execution_count": 2,
   "metadata": {},
   "outputs": [
    {
     "name": "stdout",
     "output_type": "stream",
     "text": [
      "/Users/zuck016/Projects/Proposals/ASKEM/build/pyciemss\n"
     ]
    }
   ],
   "source": [
    "cd ../.."
   ]
  },
  {
   "cell_type": "code",
   "execution_count": 3,
   "metadata": {},
   "outputs": [],
   "source": [
    "DEMO_PATH = \"notebook/integration_demo/\"\n",
    "ASKENET_PATH = \"https://raw.githubusercontent.com/DARPA-ASKEM/Model-Representations/main/petrinet/examples/sir_typed.json\""
   ]
  },
  {
   "attachments": {},
   "cell_type": "markdown",
   "metadata": {},
   "source": [
    "## load_and_sample_petri_model"
   ]
  },
  {
   "cell_type": "code",
   "execution_count": 4,
   "metadata": {},
   "outputs": [],
   "source": [
    "num_samples = 3\n",
    "timepoints = [0.5, 1.0, 2.0, 3.0, 4.0]\n",
    "\n",
    "# Run sampling w/o an intervention\n",
    "samples = load_and_sample_petri_model(ASKENET_PATH, num_samples, timepoints=timepoints)\n",
    "\n",
    "# Save results\n",
    "samples.to_csv(os.path.join(DEMO_PATH, \"results_petri/sample_results.csv\"), index=False)"
   ]
  },
  {
   "cell_type": "code",
   "execution_count": 7,
   "metadata": {
    "scrolled": true
   },
   "outputs": [
    {
     "ename": "TypeError",
     "evalue": "cannot unpack non-iterable StaticParameterInterventionEvent object",
     "output_type": "error",
     "traceback": [
      "\u001b[0;31m---------------------------------------------------------------------------\u001b[0m",
      "\u001b[0;31mTypeError\u001b[0m                                 Traceback (most recent call last)",
      "Cell \u001b[0;32mIn[7], line 1\u001b[0m\n\u001b[0;32m----> 1\u001b[0m intervened_samples \u001b[38;5;241m=\u001b[39m \u001b[43mload_and_sample_petri_model\u001b[49m\u001b[43m(\u001b[49m\n\u001b[1;32m      2\u001b[0m \u001b[43m    \u001b[49m\u001b[43mASKENET_PATH\u001b[49m\u001b[43m,\u001b[49m\u001b[43m \u001b[49m\u001b[43mnum_samples\u001b[49m\u001b[43m,\u001b[49m\u001b[43m \u001b[49m\u001b[43mtimepoints\u001b[49m\u001b[38;5;241;43m=\u001b[39;49m\u001b[43mtimepoints\u001b[49m\u001b[43m,\u001b[49m\u001b[43m \u001b[49m\u001b[43minterventions\u001b[49m\u001b[38;5;241;43m=\u001b[39;49m\u001b[43minterventions\u001b[49m\n\u001b[1;32m      3\u001b[0m \u001b[43m)\u001b[49m\n\u001b[1;32m      6\u001b[0m \u001b[38;5;66;03m# Save results\u001b[39;00m\n\u001b[1;32m      7\u001b[0m intervened_samples\u001b[38;5;241m.\u001b[39mto_csv(\n\u001b[1;32m      8\u001b[0m     os\u001b[38;5;241m.\u001b[39mpath\u001b[38;5;241m.\u001b[39mjoin(DEMO_PATH, \u001b[38;5;124m\"\u001b[39m\u001b[38;5;124mresults_petri/sample_results_w_interventions.csv\u001b[39m\u001b[38;5;124m\"\u001b[39m),\n\u001b[1;32m      9\u001b[0m     index\u001b[38;5;241m=\u001b[39m\u001b[38;5;28;01mFalse\u001b[39;00m,\n\u001b[1;32m     10\u001b[0m )\n",
      "File \u001b[0;32m~/Projects/Proposals/ASKEM/build/pyciemss/src/pyciemss/PetriNetODE/interfaces.py:119\u001b[0m, in \u001b[0;36mload_and_sample_petri_model\u001b[0;34m(petri_model_or_path, num_samples, timepoints, interventions, start_state, pseudocount, start_time, method)\u001b[0m\n\u001b[1;32m    111\u001b[0m samples \u001b[38;5;241m=\u001b[39m sample(\n\u001b[1;32m    112\u001b[0m     model,\n\u001b[1;32m    113\u001b[0m     timepoints,\n\u001b[1;32m    114\u001b[0m     num_samples,\n\u001b[1;32m    115\u001b[0m     method\u001b[38;5;241m=\u001b[39mmethod,\n\u001b[1;32m    116\u001b[0m )\n\u001b[1;32m    117\u001b[0m \u001b[38;5;66;03m# Fix the parameters here with reparameterize.\u001b[39;00m\n\u001b[0;32m--> 119\u001b[0m processed_samples \u001b[38;5;241m=\u001b[39m \u001b[43mconvert_to_output_format\u001b[49m\u001b[43m(\u001b[49m\u001b[43msamples\u001b[49m\u001b[43m,\u001b[49m\u001b[43m \u001b[49m\u001b[43mtimepoints\u001b[49m\u001b[43m,\u001b[49m\u001b[43m \u001b[49m\u001b[43minterventions\u001b[49m\u001b[38;5;241;43m=\u001b[39;49m\u001b[43minterventions\u001b[49m\u001b[43m)\u001b[49m\n\u001b[1;32m    121\u001b[0m \u001b[38;5;28;01mreturn\u001b[39;00m processed_samples\n",
      "File \u001b[0;32m~/Projects/Proposals/ASKEM/build/pyciemss/src/pyciemss/utils/interface_utils.py:52\u001b[0m, in \u001b[0;36mconvert_to_output_format\u001b[0;34m(samples, timepoints, interventions)\u001b[0m\n\u001b[1;32m     42\u001b[0m     d \u001b[38;5;241m=\u001b[39m {\n\u001b[1;32m     43\u001b[0m         \u001b[38;5;241m*\u001b[39m\u001b[38;5;241m*\u001b[39md,\n\u001b[1;32m     44\u001b[0m         \u001b[38;5;241m*\u001b[39m\u001b[38;5;241m*\u001b[39m{\n\u001b[0;32m   (...)\u001b[0m\n\u001b[1;32m     47\u001b[0m         },\n\u001b[1;32m     48\u001b[0m     }\n\u001b[1;32m     49\u001b[0m \u001b[38;5;28;01melse\u001b[39;00m:\n\u001b[1;32m     50\u001b[0m     d \u001b[38;5;241m=\u001b[39m {\n\u001b[1;32m     51\u001b[0m         \u001b[38;5;241m*\u001b[39m\u001b[38;5;241m*\u001b[39md,\n\u001b[0;32m---> 52\u001b[0m         \u001b[38;5;241m*\u001b[39m\u001b[38;5;241m*\u001b[39m\u001b[43massign_interventions_to_timepoints\u001b[49m\u001b[43m(\u001b[49m\u001b[43minterventions\u001b[49m\u001b[43m,\u001b[49m\u001b[43m \u001b[49m\u001b[43mtimepoints\u001b[49m\u001b[43m,\u001b[49m\u001b[43m \u001b[49m\u001b[43mpyciemss_results\u001b[49m\u001b[43m[\u001b[49m\u001b[38;5;124;43m\"\u001b[39;49m\u001b[38;5;124;43mparameters\u001b[39;49m\u001b[38;5;124;43m\"\u001b[39;49m\u001b[43m]\u001b[49m\u001b[43m)\u001b[49m\n\u001b[1;32m     53\u001b[0m     }\n\u001b[1;32m     55\u001b[0m \u001b[38;5;66;03m# Solution (state variables)\u001b[39;00m\n\u001b[1;32m     56\u001b[0m d \u001b[38;5;241m=\u001b[39m {\n\u001b[1;32m     57\u001b[0m     \u001b[38;5;241m*\u001b[39m\u001b[38;5;241m*\u001b[39md,\n\u001b[1;32m     58\u001b[0m     \u001b[38;5;241m*\u001b[39m\u001b[38;5;241m*\u001b[39m{\n\u001b[0;32m   (...)\u001b[0m\n\u001b[1;32m     61\u001b[0m     },\n\u001b[1;32m     62\u001b[0m }\n",
      "File \u001b[0;32m~/Projects/Proposals/ASKEM/build/pyciemss/src/pyciemss/utils/interface_utils.py:109\u001b[0m, in \u001b[0;36massign_interventions_to_timepoints\u001b[0;34m(interventions, timepoints, initial_values)\u001b[0m\n\u001b[1;32m    101\u001b[0m \u001b[38;5;250m\u001b[39m\u001b[38;5;124;03m\"\"\"Generate a len(timepoints)*len(samples) array of parameter values that captures each intervention\u001b[39;00m\n\u001b[1;32m    102\u001b[0m \n\u001b[1;32m    103\u001b[0m \u001b[38;5;124;03m:param interventions: dict of interventions keyed by parameter name with values (start, value)\u001b[39;00m\n\u001b[0;32m   (...)\u001b[0m\n\u001b[1;32m    106\u001b[0m \u001b[38;5;124;03m:return: dict keyed by param where the values are lists of (timepoint, value) pairs sorted by timepoint\u001b[39;00m\n\u001b[1;32m    107\u001b[0m \u001b[38;5;124;03m\"\"\"\u001b[39;00m\n\u001b[1;32m    108\u001b[0m \u001b[38;5;66;03m# transform samples into intervals and parameter values\u001b[39;00m\n\u001b[0;32m--> 109\u001b[0m param_interval_dict \u001b[38;5;241m=\u001b[39m \u001b[43mintervention_to_interval\u001b[49m\u001b[43m(\u001b[49m\u001b[43minterventions\u001b[49m\u001b[43m,\u001b[49m\u001b[43m \u001b[49m\u001b[43minitial_values\u001b[49m\u001b[43m)\u001b[49m\n\u001b[1;32m    110\u001b[0m result \u001b[38;5;241m=\u001b[39m {}\n\u001b[1;32m    111\u001b[0m \u001b[38;5;28;01mfor\u001b[39;00m param, interval_dict \u001b[38;5;129;01min\u001b[39;00m param_interval_dict\u001b[38;5;241m.\u001b[39mitems():\n",
      "File \u001b[0;32m~/Projects/Proposals/ASKEM/build/pyciemss/src/pyciemss/utils/interface_utils.py:90\u001b[0m, in \u001b[0;36mintervention_to_interval\u001b[0;34m(interventions, initial_params)\u001b[0m\n\u001b[1;32m     82\u001b[0m \u001b[38;5;250m\u001b[39m\u001b[38;5;124;03m\"\"\"Convert intervention dict and initial_params dict to dict of intervals.\u001b[39;00m\n\u001b[1;32m     83\u001b[0m \n\u001b[1;32m     84\u001b[0m \u001b[38;5;124;03m:param interventions: dict of interventions keyed by parameter name with values (start, value)\u001b[39;00m\n\u001b[1;32m     85\u001b[0m \u001b[38;5;124;03m:param initial_values: dict of original parameter values keyed by parameter name\u001b[39;00m\n\u001b[1;32m     86\u001b[0m \u001b[38;5;124;03m:return: dict keyed by param where the values lists of intervals and values sorted by start time\u001b[39;00m\n\u001b[1;32m     87\u001b[0m \u001b[38;5;124;03m\"\"\"\u001b[39;00m\n\u001b[1;32m     88\u001b[0m param_dict \u001b[38;5;241m=\u001b[39m {param: [\u001b[38;5;28mdict\u001b[39m(start\u001b[38;5;241m=\u001b[39m\u001b[38;5;241m-\u001b[39mnp\u001b[38;5;241m.\u001b[39minf, end\u001b[38;5;241m=\u001b[39mnp\u001b[38;5;241m.\u001b[39minf, expected_value\u001b[38;5;241m=\u001b[39mvalue)]\n\u001b[1;32m     89\u001b[0m               \u001b[38;5;28;01mfor\u001b[39;00m param, value \u001b[38;5;129;01min\u001b[39;00m initial_params\u001b[38;5;241m.\u001b[39mitems()}\n\u001b[0;32m---> 90\u001b[0m \u001b[38;5;28;01mfor\u001b[39;00m start, param, value \u001b[38;5;129;01min\u001b[39;00m \u001b[38;5;28msorted\u001b[39m(interventions):\n\u001b[1;32m     91\u001b[0m     param_dict[\u001b[38;5;124mf\u001b[39m\u001b[38;5;124m\"\u001b[39m\u001b[38;5;132;01m{\u001b[39;00mparam\u001b[38;5;132;01m}\u001b[39;00m\u001b[38;5;124m_param\u001b[39m\u001b[38;5;124m\"\u001b[39m][\u001b[38;5;241m-\u001b[39m\u001b[38;5;241m1\u001b[39m][\u001b[38;5;124m'\u001b[39m\u001b[38;5;124mend\u001b[39m\u001b[38;5;124m'\u001b[39m] \u001b[38;5;241m=\u001b[39m start\n\u001b[1;32m     92\u001b[0m     param_dict[\u001b[38;5;124mf\u001b[39m\u001b[38;5;124m\"\u001b[39m\u001b[38;5;132;01m{\u001b[39;00mparam\u001b[38;5;132;01m}\u001b[39;00m\u001b[38;5;124m_param\u001b[39m\u001b[38;5;124m\"\u001b[39m]\u001b[38;5;241m.\u001b[39mappend(\n\u001b[1;32m     93\u001b[0m         \u001b[38;5;28mdict\u001b[39m(start\u001b[38;5;241m=\u001b[39mstart, end\u001b[38;5;241m=\u001b[39mnp\u001b[38;5;241m.\u001b[39minf, expected_value\u001b[38;5;241m=\u001b[39m[value]\u001b[38;5;241m*\u001b[39m\u001b[38;5;28mlen\u001b[39m(initial_params[\u001b[38;5;124mf\u001b[39m\u001b[38;5;124m\"\u001b[39m\u001b[38;5;132;01m{\u001b[39;00mparam\u001b[38;5;132;01m}\u001b[39;00m\u001b[38;5;124m_param\u001b[39m\u001b[38;5;124m\"\u001b[39m])))\n",
      "\u001b[0;31mTypeError\u001b[0m: cannot unpack non-iterable StaticParameterInterventionEvent object"
     ]
    }
   ],
   "source": [
    "intervened_samples = load_and_sample_petri_model(\n",
    "    ASKENET_PATH, num_samples, timepoints=timepoints, interventions=interventions\n",
    ")\n",
    "\n",
    "\n",
    "# Save results\n",
    "intervened_samples.to_csv(\n",
    "    os.path.join(DEMO_PATH, \"results_petri/sample_results_w_interventions.csv\"),\n",
    "    index=False,\n",
    ")"
   ]
  },
  {
   "cell_type": "markdown",
   "metadata": {},
   "source": [
    "## Run sir model step by step"
   ]
  },
  {
   "cell_type": "code",
   "execution_count": 4,
   "metadata": {},
   "outputs": [],
   "source": [
    "# Run sampling w/o an intervention\n",
    "# intervention is an iterable (e.g. list) of tuples of the form (timepoint: float, parameter: str, value: float)\n",
    "interventions = [(1.1, \"beta\", 1.0), (2.1, \"gamma\", 0.1), (1.3, \"beta\", 2.0), (1.4, \"gamma\", 0.3)]\n",
    "timepoints = [0.5, 1.0, 2.0, 3.0, 4.0]\n",
    "num_samples = 3"
   ]
  },
  {
   "cell_type": "code",
   "execution_count": 5,
   "metadata": {},
   "outputs": [
    {
     "data": {
      "text/plain": [
       "{'beta': tensor([0.0246, 0.0276, 0.0268]),\n",
       " 'gamma': tensor([0.1510, 0.1344, 0.1397]),\n",
       " 'Infected_sol': tensor([[  0.9388,   0.8813,   3.4288,  21.9839, 128.9649],\n",
       "         [  0.9480,   0.8987,   3.5206,  22.5605, 131.9281],\n",
       "         [  0.9451,   0.8932,   3.4913,  22.3763, 130.9832]]),\n",
       " 'Recovered_sol': tensor([[0.0731, 0.1418, 0.5882, 1.6580, 7.8154],\n",
       "         [0.0654, 0.1275, 0.5791, 1.6772, 7.9859],\n",
       "         [0.0679, 0.1321, 0.5821, 1.6712, 7.9316]]),\n",
       " 'Susceptible_sol': tensor([[999.9888, 999.9765, 996.9823, 977.3574, 864.2188],\n",
       "         [999.9866, 999.9738, 996.9002, 976.7620, 861.0856],\n",
       "         [999.9890, 999.9745, 996.9268, 976.9521, 862.0846]])}"
      ]
     },
     "execution_count": 5,
     "metadata": {},
     "output_type": "execute_result"
    }
   ],
   "source": [
    "from pyciemss.PetriNetODE.interfaces import load_petri_model, intervene\n",
    "from pyciemss.PetriNetODE.base import get_name\n",
    "raw_model = load_petri_model(ASKENET_PATH)\n",
    "initial_model = setup_petri_model(raw_model, start_time=-1e-10, start_state = {\n",
    "            get_name(v): v.data[\"initial_value\"] for v in raw_model.G.variables.values()\n",
    "        }\n",
    "    )\n",
    "intervened_model = intervene(initial_model, interventions)\n",
    "intervened_samples2 = sample(intervened_model, timepoints=timepoints, num_samples=num_samples)\n",
    "intervened_samples2"
   ]
  },
  {
   "cell_type": "code",
   "execution_count": 6,
   "metadata": {},
   "outputs": [],
   "source": [
    "sampled_params = {'beta_param':tensor( [0.2, 0.25, 0.15]), 'gamma_param': tensor([0.3, 0.25, 0.35])}"
   ]
  },
  {
   "cell_type": "code",
   "execution_count": 7,
   "metadata": {},
   "outputs": [
    {
     "data": {
      "text/plain": [
       "{'beta_param': [{'start': -inf,\n",
       "   'end': 1.1,\n",
       "   'param_values': tensor([0.2000, 0.2500, 0.1500])},\n",
       "  {'start': 1.1, 'end': 1.3, 'param_values': [1.0, 1.0, 1.0]},\n",
       "  {'start': 1.3, 'end': inf, 'param_values': [2.0, 2.0, 2.0]}],\n",
       " 'gamma_param': [{'start': -inf,\n",
       "   'end': 1.4,\n",
       "   'param_values': tensor([0.3000, 0.2500, 0.3500])},\n",
       "  {'start': 1.4, 'end': 2.1, 'param_values': [0.3, 0.3, 0.3]},\n",
       "  {'start': 2.1, 'end': inf, 'param_values': [0.1, 0.1, 0.1]}]}"
      ]
     },
     "execution_count": 7,
     "metadata": {},
     "output_type": "execute_result"
    }
   ],
   "source": [
    "\n",
    "\n",
    "\n",
    "expected_intervals = {\n",
    "    'beta_param': [\n",
    "        {'start': -np.inf, 'end': 1.1, 'param_values': [0.2, 0.25, 0.15]},\n",
    "        {'start': 1.1, 'end': 1.3, 'param_values': [1.0, 1.0, 1.0]},\n",
    "        {'start': 1.3, 'end': np.inf, 'param_values': [2.0, 2.0, 2.0]}],\n",
    "    'gamma_param': [\n",
    "        {'start': -np.inf, 'end': 1.4, 'param_values': [0.3, 0.25, 0.35]},\n",
    "        {'start': 1.4, 'end': 2.1, 'param_values': [0.3, 0.3, 0.3]},\n",
    "        {'start': 2.1, 'end': np.inf, 'param_values': [0.1, 0.1, 0.1]}]}\n",
    "\n",
    "#assert expected_intervals == \n",
    "interventions_and_sampled_params_to_interval(interventions, sampled_params)"
   ]
  },
  {
   "cell_type": "code",
   "execution_count": 9,
   "metadata": {},
   "outputs": [
    {
     "data": {
      "text/plain": [
       "[tensor(1.), tensor(2.), tensor(3.)]"
      ]
     },
     "execution_count": 9,
     "metadata": {},
     "output_type": "execute_result"
    }
   ],
   "source": [
    "tensor([1., 2., 3.])."
   ]
  },
  {
   "cell_type": "markdown",
   "metadata": {},
   "source": [
    "Given a set of values at particular intervals,  a set of initial samples and a set of timepoints, generate a list of timepoints where the parameter has the same value at each timepoint in the interval.\n"
   ]
  },
  {
   "cell_type": "markdown",
   "metadata": {},
   "source": [
    "import bisect\n",
    "\n",
    "def assign_interventions_to_timepoints(interventions: dict, timepoints: Iterable[float], initial_values: dict) -> dict:\n",
    "    # transform samples into intervals and parameter values\n",
    "    param_interval_dict = intervention_to_interval(interventions, initial_values)\n",
    "    result = {}\n",
    "    for param, interval_dict in param_interval_dict.items():\n",
    "        intervals = [(d['start'], d['end']) for d in interval_dict]\n",
    "        values_sets = [d['expected_value'] for  d in interval_dict]\n",
    "\n",
    "        # generate list of parameter values at each timepoint\n",
    "        result[param] = []\n",
    "        for values in zip(*values_sets):\n",
    "            for t in timepoints:\n",
    "                i = bisect.bisect(intervals, (t,)) - 1\n",
    "                if 0 <= i < len(intervals) and intervals[i][0] <= t < intervals[i][1]:\n",
    "                    result[param].append(values[i])\n",
    "                else:\n",
    "                    result[param].append( None)\n",
    "    return result\n"
   ]
  },
  {
   "cell_type": "code",
   "execution_count": 10,
   "metadata": {},
   "outputs": [
    {
     "data": {
      "text/plain": [
       "[(-inf, 1.4), (1.4, 2.1), (2.1, inf)]"
      ]
     },
     "execution_count": 10,
     "metadata": {},
     "output_type": "execute_result"
    }
   ],
   "source": [
    "for param, interval_dict in expected_intervals.items():\n",
    "    intervals = [(d['start'], d['end']) for d in interval_dict]\n",
    "    param_values = [d['param_values'] for d in interval_dict]\n",
    "intervals"
   ]
  },
  {
   "cell_type": "code",
   "execution_count": 14,
   "metadata": {},
   "outputs": [
    {
     "data": {
      "text/plain": [
       "[[0.3, 0.25, 0.35], [0.3, 0.3, 0.3], [0.1, 0.1, 0.1]]"
      ]
     },
     "execution_count": 14,
     "metadata": {},
     "output_type": "execute_result"
    }
   ],
   "source": [
    "param_values"
   ]
  },
  {
   "cell_type": "code",
   "execution_count": 19,
   "metadata": {},
   "outputs": [
    {
     "data": {
      "text/plain": [
       "{'beta_param': [0.2,\n",
       "  0.2,\n",
       "  2.0,\n",
       "  2.0,\n",
       "  2.0,\n",
       "  0.25,\n",
       "  0.25,\n",
       "  2.0,\n",
       "  2.0,\n",
       "  2.0,\n",
       "  0.15,\n",
       "  0.15,\n",
       "  2.0,\n",
       "  2.0,\n",
       "  2.0],\n",
       " 'gamma_param': [0.3,\n",
       "  0.3,\n",
       "  0.3,\n",
       "  0.1,\n",
       "  0.1,\n",
       "  0.25,\n",
       "  0.25,\n",
       "  0.3,\n",
       "  0.1,\n",
       "  0.1,\n",
       "  0.35,\n",
       "  0.35,\n",
       "  0.3,\n",
       "  0.1,\n",
       "  0.1]}"
      ]
     },
     "execution_count": 19,
     "metadata": {},
     "output_type": "execute_result"
    }
   ],
   "source": [
    "import bisect\n",
    "result = {}\n",
    "for param, interval_dict in expected_intervals.items():\n",
    "    intervals = [(d['start'], d['end']) for d in interval_dict]\n",
    "    param_values = [d['param_values'] for d in interval_dict]\n",
    "\n",
    "    # generate list of parameter values at each timepoint\n",
    "    result[param] = []    \n",
    "    for values in zip(*param_values):\n",
    "        for t in timepoints:\n",
    "            # find the interval that contains the timepoint\n",
    "            i = bisect.bisect(intervals, (t,)) - 1\n",
    "            if 0 <= i < len(intervals) and intervals[i][0] <= t < intervals[i][1]:\n",
    "                result[param].append(values[i])\n",
    "            else:\n",
    "                # If the timepoint is not in an interval, assign None. This should never happen\n",
    "                result[param].append(None)\n",
    "result"
   ]
  },
  {
   "cell_type": "code",
   "execution_count": 20,
   "metadata": {},
   "outputs": [
    {
     "data": {
      "text/plain": [
       "([(1.1, 'beta', 1.0),\n",
       "  (2.1, 'gamma', 0.1),\n",
       "  (1.3, 'beta', 2.0),\n",
       "  (1.4, 'gamma', 0.3)],\n",
       " [0.5, 1.0, 2.0, 3.0, 4.0],\n",
       " {'beta_param': [0.2, 0.25, 0.15], 'gamma_param': [0.3, 0.25, 0.35]})"
      ]
     },
     "execution_count": 20,
     "metadata": {},
     "output_type": "execute_result"
    }
   ],
   "source": [
    "interventions, timepoints, initial_values"
   ]
  },
  {
   "cell_type": "code",
   "execution_count": 17,
   "metadata": {},
   "outputs": [
    {
     "data": {
      "text/plain": [
       "{'beta': tensor([0.0263, 0.0271, 0.0246]),\n",
       " 'gamma': tensor([0.1308, 0.1342, 0.1359]),\n",
       " 'Infected_sol': tensor([[  0.9491,   0.9008,   3.5336,  22.6421, 132.3466],\n",
       "         [  0.9478,   0.8984,   3.5195,  22.5536, 131.8928],\n",
       "         [  0.9459,   0.8946,   3.5016,  22.4412, 131.3172]]),\n",
       " 'Recovered_sol': tensor([[0.0637, 0.1242, 0.5759, 1.6780, 8.0082],\n",
       "         [0.0653, 0.1273, 0.5787, 1.6764, 7.9834],\n",
       "         [0.0661, 0.1286, 0.5784, 1.6706, 7.9482]]),\n",
       " 'Susceptible_sol': tensor([[999.9871, 999.9746, 996.8905, 976.6799, 860.6453],\n",
       "         [999.9868, 999.9745, 996.9033, 976.7705, 861.1242],\n",
       "         [999.9880, 999.9767, 996.9209, 976.8878, 861.7342]])}"
      ]
     },
     "metadata": {},
     "output_type": "display_data"
    },
    {
     "data": {
      "text/plain": [
       "{'beta_param': array([0.02633861, 0.02711203, 0.02463129]),\n",
       " 'gamma_param': array([0.13076352, 0.13422994, 0.13593858])}"
      ]
     },
     "execution_count": 17,
     "metadata": {},
     "output_type": "execute_result"
    }
   ],
   "source": [
    "display(intervened_samples2)\n",
    "parameters = {}\n",
    "for name, sample in intervened_samples2.items():\n",
    "    if sample.ndim == 1:\n",
    "        parameters[f\"{name}_param\"] = (\n",
    "                sample.data.detach().cpu().numpy().astype(np.float64)\n",
    "            )\n",
    "parameters"
   ]
  },
  {
   "cell_type": "code",
   "execution_count": 16,
   "metadata": {},
   "outputs": [],
   "source": [
    "expected_intervened_values = {\n",
    "    'beta_param': [0.2, 0.2, 2.0, 2.0, 2.0, 0.25, 0.25, 2.0, 2.0, 2.0, 0.15, 0.15, 2.0, 2.0, 2.0],\n",
    "    'gamma_param': [0.3, 0.3, 0.3, 0.1, 0.1, 0.25, 0.25, 0.3, 0.1, 0.1, 0.35, 0.35, 0.3, 0.1, 0.1]\n",
    "}\n",
    "assert expected_intervened_values == assign_interventions_to_timepoints(interventions, timepoints, sampled_params)"
   ]
  },
  {
   "cell_type": "code",
   "execution_count": 20,
   "metadata": {},
   "outputs": [
    {
     "ename": "AssertionError",
     "evalue": "",
     "output_type": "error",
     "traceback": [
      "\u001b[0;31m---------------------------------------------------------------------------\u001b[0m",
      "\u001b[0;31mAssertionError\u001b[0m                            Traceback (most recent call last)",
      "Cell \u001b[0;32mIn[20], line 16\u001b[0m\n\u001b[1;32m     14\u001b[0m df \u001b[38;5;241m=\u001b[39m convert_to_output_format(intervened_samples, timepoints, interventions)\n\u001b[1;32m     15\u001b[0m df2 \u001b[38;5;241m=\u001b[39m pd\u001b[38;5;241m.\u001b[39mread_csv(\u001b[38;5;124m'\u001b[39m\u001b[38;5;124mtest/test_utils/expected_output_format.csv\u001b[39m\u001b[38;5;124m'\u001b[39m) \n\u001b[0;32m---> 16\u001b[0m \u001b[38;5;28;01massert\u001b[39;00m df2\u001b[38;5;241m.\u001b[39mequals(convert_to_output_format(intervened_samples, timepoints, interventions))\n\u001b[1;32m     18\u001b[0m \u001b[38;5;28;01mimport\u001b[39;00m \u001b[38;5;21;01mpandas\u001b[39;00m \u001b[38;5;28;01mas\u001b[39;00m \u001b[38;5;21;01mpd\u001b[39;00m\n",
      "\u001b[0;31mAssertionError\u001b[0m: "
     ]
    }
   ],
   "source": [
    "from pyciemss.utils.interface_utils import convert_to_output_format\n",
    "intervened_samples = {\n",
    "            'beta': tensor([0.0263, 0.0271, 0.0246]),\n",
    "            'gamma': tensor([0.1308, 0.1342, 0.1359]),\n",
    "            'Infected_sol': tensor([[  0.9491,   0.9008,   3.5336,  22.6421, 132.3466],\n",
    "                                    [  0.9478,   0.8984,   3.5195,  22.5536, 131.8928],\n",
    "                                    [  0.9459,   0.8946,   3.5016,  22.4412, 131.3172]]),\n",
    "            'Recovered_sol': tensor([[0.0637, 0.1242, 0.5759, 1.6780, 8.0082],\n",
    "                                     [0.0653, 0.1273, 0.5787, 1.6764, 7.9834],\n",
    "                                     [0.0661, 0.1286, 0.5784, 1.6706, 7.9482]]),\n",
    "            'Susceptible_sol': tensor([[999.9871, 999.9746, 996.8905, 976.6799, 860.6453],\n",
    "                                       [999.9868, 999.9745, 996.9033, 976.7705, 861.1242],\n",
    "                                       [999.9880, 999.9767, 996.9209, 976.8878, 861.7342]])}\n",
    "df = convert_to_output_format(intervened_samples, timepoints, interventions)\n",
    "df2 = pd.read_csv('test/test_utils/expected_output_format.csv') \n",
    "assert df2.equals(convert_to_output_format(intervened_samples, timepoints, interventions))\n",
    "\n",
    "import pandas as pd"
   ]
  },
  {
   "cell_type": "code",
   "execution_count": 36,
   "metadata": {},
   "outputs": [
    {
     "data": {
      "text/html": [
       "<div>\n",
       "<style scoped>\n",
       "    .dataframe tbody tr th:only-of-type {\n",
       "        vertical-align: middle;\n",
       "    }\n",
       "\n",
       "    .dataframe tbody tr th {\n",
       "        vertical-align: top;\n",
       "    }\n",
       "\n",
       "    .dataframe thead th {\n",
       "        text-align: right;\n",
       "    }\n",
       "</style>\n",
       "<table border=\"1\" class=\"dataframe\">\n",
       "  <thead>\n",
       "    <tr style=\"text-align: right;\">\n",
       "      <th></th>\n",
       "      <th>timepoint_id</th>\n",
       "      <th>sample_id</th>\n",
       "      <th>beta_param</th>\n",
       "      <th>gamma_param</th>\n",
       "      <th>Infected_sol</th>\n",
       "      <th>Recovered_sol</th>\n",
       "      <th>Susceptible_sol</th>\n",
       "    </tr>\n",
       "  </thead>\n",
       "  <tbody>\n",
       "    <tr>\n",
       "      <th>0</th>\n",
       "      <td>0</td>\n",
       "      <td>0</td>\n",
       "      <td>1.0</td>\n",
       "      <td>0.1</td>\n",
       "      <td>0.024187</td>\n",
       "      <td>0.001608</td>\n",
       "      <td>0.974205</td>\n",
       "    </tr>\n",
       "    <tr>\n",
       "      <th>1</th>\n",
       "      <td>1</td>\n",
       "      <td>0</td>\n",
       "      <td>1.0</td>\n",
       "      <td>0.1</td>\n",
       "      <td>0.026393</td>\n",
       "      <td>0.001861</td>\n",
       "      <td>0.971746</td>\n",
       "    </tr>\n",
       "    <tr>\n",
       "      <th>2</th>\n",
       "      <td>2</td>\n",
       "      <td>0</td>\n",
       "      <td>1.0</td>\n",
       "      <td>0.1</td>\n",
       "      <td>0.028794</td>\n",
       "      <td>0.002137</td>\n",
       "      <td>0.969069</td>\n",
       "    </tr>\n",
       "    <tr>\n",
       "      <th>3</th>\n",
       "      <td>3</td>\n",
       "      <td>0</td>\n",
       "      <td>1.0</td>\n",
       "      <td>0.1</td>\n",
       "      <td>0.031403</td>\n",
       "      <td>0.002438</td>\n",
       "      <td>0.966159</td>\n",
       "    </tr>\n",
       "    <tr>\n",
       "      <th>4</th>\n",
       "      <td>0</td>\n",
       "      <td>1</td>\n",
       "      <td>1.0</td>\n",
       "      <td>0.1</td>\n",
       "      <td>0.024187</td>\n",
       "      <td>0.001608</td>\n",
       "      <td>0.974205</td>\n",
       "    </tr>\n",
       "    <tr>\n",
       "      <th>5</th>\n",
       "      <td>1</td>\n",
       "      <td>1</td>\n",
       "      <td>1.0</td>\n",
       "      <td>0.1</td>\n",
       "      <td>0.026393</td>\n",
       "      <td>0.001861</td>\n",
       "      <td>0.971746</td>\n",
       "    </tr>\n",
       "    <tr>\n",
       "      <th>6</th>\n",
       "      <td>2</td>\n",
       "      <td>1</td>\n",
       "      <td>1.0</td>\n",
       "      <td>0.1</td>\n",
       "      <td>0.028794</td>\n",
       "      <td>0.002137</td>\n",
       "      <td>0.969069</td>\n",
       "    </tr>\n",
       "    <tr>\n",
       "      <th>7</th>\n",
       "      <td>3</td>\n",
       "      <td>1</td>\n",
       "      <td>1.0</td>\n",
       "      <td>0.1</td>\n",
       "      <td>0.031403</td>\n",
       "      <td>0.002438</td>\n",
       "      <td>0.966159</td>\n",
       "    </tr>\n",
       "    <tr>\n",
       "      <th>8</th>\n",
       "      <td>0</td>\n",
       "      <td>2</td>\n",
       "      <td>1.0</td>\n",
       "      <td>0.1</td>\n",
       "      <td>0.024187</td>\n",
       "      <td>0.001608</td>\n",
       "      <td>0.974205</td>\n",
       "    </tr>\n",
       "    <tr>\n",
       "      <th>9</th>\n",
       "      <td>1</td>\n",
       "      <td>2</td>\n",
       "      <td>1.0</td>\n",
       "      <td>0.1</td>\n",
       "      <td>0.026393</td>\n",
       "      <td>0.001861</td>\n",
       "      <td>0.971746</td>\n",
       "    </tr>\n",
       "    <tr>\n",
       "      <th>10</th>\n",
       "      <td>2</td>\n",
       "      <td>2</td>\n",
       "      <td>1.0</td>\n",
       "      <td>0.1</td>\n",
       "      <td>0.028794</td>\n",
       "      <td>0.002137</td>\n",
       "      <td>0.969069</td>\n",
       "    </tr>\n",
       "    <tr>\n",
       "      <th>11</th>\n",
       "      <td>3</td>\n",
       "      <td>2</td>\n",
       "      <td>1.0</td>\n",
       "      <td>0.1</td>\n",
       "      <td>0.031403</td>\n",
       "      <td>0.002438</td>\n",
       "      <td>0.966159</td>\n",
       "    </tr>\n",
       "  </tbody>\n",
       "</table>\n",
       "</div>"
      ],
      "text/plain": [
       "    timepoint_id  sample_id  beta_param  gamma_param  Infected_sol  \\\n",
       "0              0          0         1.0          0.1      0.024187   \n",
       "1              1          0         1.0          0.1      0.026393   \n",
       "2              2          0         1.0          0.1      0.028794   \n",
       "3              3          0         1.0          0.1      0.031403   \n",
       "4              0          1         1.0          0.1      0.024187   \n",
       "5              1          1         1.0          0.1      0.026393   \n",
       "6              2          1         1.0          0.1      0.028794   \n",
       "7              3          1         1.0          0.1      0.031403   \n",
       "8              0          2         1.0          0.1      0.024187   \n",
       "9              1          2         1.0          0.1      0.026393   \n",
       "10             2          2         1.0          0.1      0.028794   \n",
       "11             3          2         1.0          0.1      0.031403   \n",
       "\n",
       "    Recovered_sol  Susceptible_sol  \n",
       "0        0.001608         0.974205  \n",
       "1        0.001861         0.971746  \n",
       "2        0.002137         0.969069  \n",
       "3        0.002438         0.966159  \n",
       "4        0.001608         0.974205  \n",
       "5        0.001861         0.971746  \n",
       "6        0.002137         0.969069  \n",
       "7        0.002438         0.966159  \n",
       "8        0.001608         0.974205  \n",
       "9        0.001861         0.971746  \n",
       "10       0.002137         0.969069  \n",
       "11       0.002438         0.966159  "
      ]
     },
     "execution_count": 36,
     "metadata": {},
     "output_type": "execute_result"
    }
   ],
   "source": [
    "\n",
    "self_initial_time = 0.0\n",
    "initial_state = {\n",
    "            \"Susceptible\": 0.99,\n",
    "            \"Infected\": 0.01,\n",
    "            \"Recovered\": 0.0,\n",
    "}\n",
    "timepoints = [1.0, 1.1, 1.2, 1.3]\n",
    "\n",
    "interventions=[(1e-6, \"beta\", 1.0), (2e-6, \"gamma\", 0.1)]\n",
    "ASKENET_PATH = \"https://raw.githubusercontent.com/DARPA-ASKEM/Model-Representations/main/petrinet/examples/sir_typed.json\"\n",
    "\n",
    "intervened_samples = load_and_sample_petri_model(ASKENET_PATH, num_samples, timepoints, interventions=self_interventions, start_state=initial_state)\n",
    "intervened_samples.to_csv('test/test_petrinet_ode/expected_intervened_samples.csv', index=False)\n",
    "intervened_samples"
   ]
  },
  {
   "cell_type": "code",
   "execution_count": 21,
   "metadata": {},
   "outputs": [
    {
     "data": {
      "text/html": [
       "<div>\n",
       "<style scoped>\n",
       "    .dataframe tbody tr th:only-of-type {\n",
       "        vertical-align: middle;\n",
       "    }\n",
       "\n",
       "    .dataframe tbody tr th {\n",
       "        vertical-align: top;\n",
       "    }\n",
       "\n",
       "    .dataframe thead th {\n",
       "        text-align: right;\n",
       "    }\n",
       "</style>\n",
       "<table border=\"1\" class=\"dataframe\">\n",
       "  <thead>\n",
       "    <tr style=\"text-align: right;\">\n",
       "      <th></th>\n",
       "      <th>timepoint_id</th>\n",
       "      <th>sample_id</th>\n",
       "      <th>beta_param</th>\n",
       "      <th>gamma_param</th>\n",
       "      <th>Infected_sol</th>\n",
       "      <th>Recovered_sol</th>\n",
       "      <th>Susceptible_sol</th>\n",
       "    </tr>\n",
       "  </thead>\n",
       "  <tbody>\n",
       "    <tr>\n",
       "      <th>0</th>\n",
       "      <td>0</td>\n",
       "      <td>0</td>\n",
       "      <td>0.0263</td>\n",
       "      <td>0.1308</td>\n",
       "      <td>0.949100</td>\n",
       "      <td>0.0637</td>\n",
       "      <td>999.987122</td>\n",
       "    </tr>\n",
       "    <tr>\n",
       "      <th>1</th>\n",
       "      <td>1</td>\n",
       "      <td>0</td>\n",
       "      <td>0.0263</td>\n",
       "      <td>0.1308</td>\n",
       "      <td>0.900800</td>\n",
       "      <td>0.1242</td>\n",
       "      <td>999.974609</td>\n",
       "    </tr>\n",
       "    <tr>\n",
       "      <th>2</th>\n",
       "      <td>2</td>\n",
       "      <td>0</td>\n",
       "      <td>2.0000</td>\n",
       "      <td>0.3000</td>\n",
       "      <td>3.533600</td>\n",
       "      <td>0.5759</td>\n",
       "      <td>996.890503</td>\n",
       "    </tr>\n",
       "    <tr>\n",
       "      <th>3</th>\n",
       "      <td>3</td>\n",
       "      <td>0</td>\n",
       "      <td>2.0000</td>\n",
       "      <td>0.1000</td>\n",
       "      <td>22.642099</td>\n",
       "      <td>1.6780</td>\n",
       "      <td>976.679871</td>\n",
       "    </tr>\n",
       "    <tr>\n",
       "      <th>4</th>\n",
       "      <td>4</td>\n",
       "      <td>0</td>\n",
       "      <td>2.0000</td>\n",
       "      <td>0.1000</td>\n",
       "      <td>132.346603</td>\n",
       "      <td>8.0082</td>\n",
       "      <td>860.645325</td>\n",
       "    </tr>\n",
       "    <tr>\n",
       "      <th>5</th>\n",
       "      <td>0</td>\n",
       "      <td>1</td>\n",
       "      <td>0.0271</td>\n",
       "      <td>0.1342</td>\n",
       "      <td>0.947800</td>\n",
       "      <td>0.0653</td>\n",
       "      <td>999.986816</td>\n",
       "    </tr>\n",
       "    <tr>\n",
       "      <th>6</th>\n",
       "      <td>1</td>\n",
       "      <td>1</td>\n",
       "      <td>0.0271</td>\n",
       "      <td>0.1342</td>\n",
       "      <td>0.898400</td>\n",
       "      <td>0.1273</td>\n",
       "      <td>999.974487</td>\n",
       "    </tr>\n",
       "    <tr>\n",
       "      <th>7</th>\n",
       "      <td>2</td>\n",
       "      <td>1</td>\n",
       "      <td>2.0000</td>\n",
       "      <td>0.3000</td>\n",
       "      <td>3.519500</td>\n",
       "      <td>0.5787</td>\n",
       "      <td>996.903320</td>\n",
       "    </tr>\n",
       "    <tr>\n",
       "      <th>8</th>\n",
       "      <td>3</td>\n",
       "      <td>1</td>\n",
       "      <td>2.0000</td>\n",
       "      <td>0.1000</td>\n",
       "      <td>22.553600</td>\n",
       "      <td>1.6764</td>\n",
       "      <td>976.770508</td>\n",
       "    </tr>\n",
       "    <tr>\n",
       "      <th>9</th>\n",
       "      <td>4</td>\n",
       "      <td>1</td>\n",
       "      <td>2.0000</td>\n",
       "      <td>0.1000</td>\n",
       "      <td>131.892807</td>\n",
       "      <td>7.9834</td>\n",
       "      <td>861.124207</td>\n",
       "    </tr>\n",
       "    <tr>\n",
       "      <th>10</th>\n",
       "      <td>0</td>\n",
       "      <td>2</td>\n",
       "      <td>0.0246</td>\n",
       "      <td>0.1359</td>\n",
       "      <td>0.945900</td>\n",
       "      <td>0.0661</td>\n",
       "      <td>999.987976</td>\n",
       "    </tr>\n",
       "    <tr>\n",
       "      <th>11</th>\n",
       "      <td>1</td>\n",
       "      <td>2</td>\n",
       "      <td>0.0246</td>\n",
       "      <td>0.1359</td>\n",
       "      <td>0.894600</td>\n",
       "      <td>0.1286</td>\n",
       "      <td>999.976685</td>\n",
       "    </tr>\n",
       "    <tr>\n",
       "      <th>12</th>\n",
       "      <td>2</td>\n",
       "      <td>2</td>\n",
       "      <td>2.0000</td>\n",
       "      <td>0.3000</td>\n",
       "      <td>3.501600</td>\n",
       "      <td>0.5784</td>\n",
       "      <td>996.920898</td>\n",
       "    </tr>\n",
       "    <tr>\n",
       "      <th>13</th>\n",
       "      <td>3</td>\n",
       "      <td>2</td>\n",
       "      <td>2.0000</td>\n",
       "      <td>0.1000</td>\n",
       "      <td>22.441200</td>\n",
       "      <td>1.6706</td>\n",
       "      <td>976.887817</td>\n",
       "    </tr>\n",
       "    <tr>\n",
       "      <th>14</th>\n",
       "      <td>4</td>\n",
       "      <td>2</td>\n",
       "      <td>2.0000</td>\n",
       "      <td>0.1000</td>\n",
       "      <td>131.317200</td>\n",
       "      <td>7.9482</td>\n",
       "      <td>861.734192</td>\n",
       "    </tr>\n",
       "  </tbody>\n",
       "</table>\n",
       "</div>"
      ],
      "text/plain": [
       "    timepoint_id  sample_id  beta_param  gamma_param  Infected_sol  \\\n",
       "0              0          0      0.0263       0.1308      0.949100   \n",
       "1              1          0      0.0263       0.1308      0.900800   \n",
       "2              2          0      2.0000       0.3000      3.533600   \n",
       "3              3          0      2.0000       0.1000     22.642099   \n",
       "4              4          0      2.0000       0.1000    132.346603   \n",
       "5              0          1      0.0271       0.1342      0.947800   \n",
       "6              1          1      0.0271       0.1342      0.898400   \n",
       "7              2          1      2.0000       0.3000      3.519500   \n",
       "8              3          1      2.0000       0.1000     22.553600   \n",
       "9              4          1      2.0000       0.1000    131.892807   \n",
       "10             0          2      0.0246       0.1359      0.945900   \n",
       "11             1          2      0.0246       0.1359      0.894600   \n",
       "12             2          2      2.0000       0.3000      3.501600   \n",
       "13             3          2      2.0000       0.1000     22.441200   \n",
       "14             4          2      2.0000       0.1000    131.317200   \n",
       "\n",
       "    Recovered_sol  Susceptible_sol  \n",
       "0          0.0637       999.987122  \n",
       "1          0.1242       999.974609  \n",
       "2          0.5759       996.890503  \n",
       "3          1.6780       976.679871  \n",
       "4          8.0082       860.645325  \n",
       "5          0.0653       999.986816  \n",
       "6          0.1273       999.974487  \n",
       "7          0.5787       996.903320  \n",
       "8          1.6764       976.770508  \n",
       "9          7.9834       861.124207  \n",
       "10         0.0661       999.987976  \n",
       "11         0.1286       999.976685  \n",
       "12         0.5784       996.920898  \n",
       "13         1.6706       976.887817  \n",
       "14         7.9482       861.734192  "
      ]
     },
     "execution_count": 21,
     "metadata": {},
     "output_type": "execute_result"
    }
   ],
   "source": [
    "df2"
   ]
  },
  {
   "cell_type": "code",
   "execution_count": 26,
   "metadata": {},
   "outputs": [],
   "source": [
    "from pandas.testing import assert_frame_equal\n",
    "\n",
    "assert_frame_equal(df, df2, check_exact=False, atol=1e-5, rtol=1e-5)\n"
   ]
  },
  {
   "attachments": {},
   "cell_type": "markdown",
   "metadata": {},
   "source": [
    "## load_and_calibrate_and_sample_petri_model"
   ]
  },
  {
   "cell_type": "code",
   "execution_count": 7,
   "metadata": {},
   "outputs": [
    {
     "name": "stdout",
     "output_type": "stream",
     "text": [
      "iteration 0: loss = 37.94811773300171\n",
      "iteration 25: loss = 34.9170196056366\n",
      "iteration 50: loss = 32.69080424308777\n",
      "iteration 75: loss = 32.41730046272278\n",
      "iteration 100: loss = 32.44331431388855\n",
      "iteration 125: loss = 32.692076683044434\n",
      "iteration 150: loss = 32.61838483810425\n",
      "iteration 175: loss = 32.56607246398926\n",
      "iteration 200: loss = 33.014737367630005\n",
      "iteration 225: loss = 32.58268332481384\n",
      "iteration 250: loss = 32.89216685295105\n",
      "iteration 275: loss = 31.961626768112183\n",
      "iteration 300: loss = 32.6565682888031\n"
     ]
    }
   ],
   "source": [
    "data_path = os.path.join(DEMO_PATH, \"data.csv\")\n",
    "num_samples = 100\n",
    "timepoints = [0.0, 1.0, 2.0, 3.0, 4.0]\n",
    "\n",
    "# Run the calibration and sampling\n",
    "calibrated_samples = load_and_calibrate_and_sample_petri_model(\n",
    "    ASKENET_PATH,\n",
    "    data_path,\n",
    "    num_samples,\n",
    "    timepoints=timepoints,\n",
    "    verbose=True,\n",
    ")\n",
    "\n",
    "# Save results\n",
    "calibrated_samples.to_csv(\n",
    "    os.path.join(DEMO_PATH, \"results_petri/calibrated_sample_results.csv\"), index=False\n",
    ")"
   ]
  },
  {
   "cell_type": "code",
   "execution_count": null,
   "metadata": {},
   "outputs": [],
   "source": []
  }
 ],
 "metadata": {
  "kernelspec": {
   "display_name": "pyciemss-main",
   "language": "python",
   "name": "pyciemss-main"
  },
  "language_info": {
   "codemirror_mode": {
    "name": "ipython",
    "version": 3
   },
   "file_extension": ".py",
   "mimetype": "text/x-python",
   "name": "python",
   "nbconvert_exporter": "python",
   "pygments_lexer": "ipython3",
   "version": "3.10.9"
  }
 },
 "nbformat": 4,
 "nbformat_minor": 4
}
