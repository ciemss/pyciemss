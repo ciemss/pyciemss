{
 "cells": [
  {
   "cell_type": "code",
   "execution_count": 1,
   "metadata": {},
   "outputs": [],
   "source": [
    "import os\n",
    "\n",
    "from pyciemss.PetriNetODE.base import MiraPetriNetODESystem, ScaledBetaNoisePetriNetODESystem\n",
    "from pyciemss.PetriNetODE.events import Event, StartEvent, LoggingEvent, ObservationEvent, StaticParameterInterventionEvent\n",
    "import pyciemss\n",
    "\n",
    "from pyciemss.PetriNetODE.interfaces import load_petri_model, setup_model, reset_model, intervene, sample, calibrate, optimize"
   ]
  },
  {
   "cell_type": "code",
   "execution_count": 2,
   "metadata": {},
   "outputs": [
    {
     "data": {
      "text/plain": [
       "ScaledBetaNoisePetriNetODESystem(\n",
       "\tbeta = Uniform(low: 0.09000000357627869, high: 0.10999999940395355),\n",
       "\tgamma = Uniform(low: 0.18000000715255737, high: 0.2199999988079071),\n",
       "\tpseudocount = 1\n",
       ")"
      ]
     },
     "execution_count": 2,
     "metadata": {},
     "output_type": "execute_result"
    }
   ],
   "source": [
    "MIRA_PATH = \"test/models/evaluation_examples/scenario_1/\"\n",
    "\n",
    "filename = \"scenario1_sir_mira.json\"\n",
    "filename = os.path.join(MIRA_PATH, filename)\n",
    "model = ScaledBetaNoisePetriNetODESystem.from_mira(filename)\n",
    "model\n"
   ]
  },
  {
   "cell_type": "code",
   "execution_count": 3,
   "metadata": {},
   "outputs": [
    {
     "data": {
      "text/plain": [
       "{'immune_population': tensor([0.0020, 0.0038, 0.0054, 0.0067, 0.0080, 0.0090, 0.0100, 0.0108, 0.0116]),\n",
       " 'infected_population': tensor([0.0088, 0.0078, 0.0069, 0.0060, 0.0053, 0.0047, 0.0041, 0.0037, 0.0032]),\n",
       " 'susceptible_population': tensor([0.9892, 0.9884, 0.9878, 0.9872, 0.9867, 0.9863, 0.9859, 0.9855, 0.9852])}"
      ]
     },
     "execution_count": 3,
     "metadata": {},
     "output_type": "execute_result"
    }
   ],
   "source": [
    "\n",
    "\n",
    "start_event = StartEvent(0.0, {\"susceptible_population\": 0.99, \"infected_population\": 0.01, \"immune_population\": 0.0})\n",
    "model.load_event(start_event)\n",
    "\n",
    "tspan = range(1, 10)\n",
    "logging_events = [LoggingEvent(t) for t in tspan]\n",
    "model.load_events(logging_events)\n",
    "\n",
    "solution = model()\n",
    "\n",
    "# See that the solution returns a dictionary where each value has length 10, one for each logging event.\n",
    "assert len(solution[\"susceptible_population\"]) == len(solution[\"infected_population\"]) == len(solution[\"immune_population\"]) == len(tspan)\n",
    "\n",
    "solution"
   ]
  },
  {
   "cell_type": "code",
   "execution_count": 4,
   "metadata": {},
   "outputs": [
    {
     "data": {
      "text/plain": [
       "ScaledBetaNoisePetriNetODESystem(\n",
       "\tbeta = Uniform(low: 0.09000000357627869, high: 0.10999999940395355),\n",
       "\tgamma = Uniform(low: 0.18000000715255737, high: 0.2199999988079071),\n",
       "\tpseudocount = 1\n",
       ")"
      ]
     },
     "execution_count": 4,
     "metadata": {},
     "output_type": "execute_result"
    }
   ],
   "source": [
    "# Remove logging events\n",
    "model.remove_logging_events()\n",
    "\n",
    "# Add observations\n",
    "observation_events = [ObservationEvent(1.1, {\"susceptible_population\": 0.9, \"infected_population\": 0.09, \"immune_population\": 0.01}), \n",
    "                      ObservationEvent(2.1, {\"susceptible_population\": 0.8, \"infected_population\": 0.18, \"immune_population\": 0.02}),\n",
    "                      ObservationEvent(3.1, {\"susceptible_population\": 0.7, \"infected_population\": 0.27, \"immune_population\": 0.03}),\n",
    "                      ObservationEvent(4.1, {\"susceptible_population\": 0.6, \"infected_population\": 0.36, \"immune_population\": 0.04})]\n",
    "\n",
    "model.load_events(observation_events)\n",
    "model"
   ]
  },
  {
   "cell_type": "code",
   "execution_count": 5,
   "metadata": {},
   "outputs": [
    {
     "data": {
      "text/plain": [
       "[StartEvent(time=0.0, initial_state={'susceptible_population': tensor(0.9900), 'infected_population': tensor(0.0100), 'immune_population': tensor(0.)}),\n",
       " ObservationEvent(time=1.100000023841858, observation={'susceptible_population': tensor(0.9000), 'infected_population': tensor(0.0900), 'immune_population': tensor(0.0100)}),\n",
       " ObservationEvent(time=2.0999999046325684, observation={'susceptible_population': tensor(0.8000), 'infected_population': tensor(0.1800), 'immune_population': tensor(0.0200)}),\n",
       " ObservationEvent(time=3.0999999046325684, observation={'susceptible_population': tensor(0.7000), 'infected_population': tensor(0.2700), 'immune_population': tensor(0.0300)}),\n",
       " ObservationEvent(time=4.099999904632568, observation={'susceptible_population': tensor(0.6000), 'infected_population': tensor(0.3600), 'immune_population': tensor(0.0400)})]"
      ]
     },
     "execution_count": 5,
     "metadata": {},
     "output_type": "execute_result"
    }
   ],
   "source": [
    "model._static_events"
   ]
  },
  {
   "cell_type": "code",
   "execution_count": 6,
   "metadata": {},
   "outputs": [
    {
     "name": "stdout",
     "output_type": "stream",
     "text": [
      "[iteration 0001] loss: 36.9257\n",
      "[iteration 0026] loss: 35.5110\n",
      "[iteration 0051] loss: 34.3351\n",
      "[iteration 0076] loss: 30.4136\n"
     ]
    }
   ],
   "source": [
    "# Show that inference works.\n",
    "\n",
    "from pyro.infer.autoguide import AutoNormal\n",
    "from pyro.poutine import block\n",
    "from pyro.infer import SVI, Trace_ELBO\n",
    "from pyro.optim import Adam\n",
    "import pyro\n",
    "\n",
    "guide = AutoNormal(model)\n",
    "optim = Adam({'lr': 0.03})\n",
    "loss_f = Trace_ELBO(num_particles=1)\n",
    "verbose = True\n",
    "\n",
    "svi = SVI(model, guide, optim, loss=loss_f)\n",
    "\n",
    "pyro.clear_param_store()\n",
    "\n",
    "for j in range(100):\n",
    "    # calculate the loss and take a gradient step\n",
    "    # Passing a data argument to svi.step() will condition the model on the data.\n",
    "    loss = svi.step()\n",
    "    if verbose:\n",
    "        if j % 25 == 0:\n",
    "            print(\"[iteration %04d] loss: %.4f\" % (j + 1, loss))"
   ]
  },
  {
   "cell_type": "code",
   "execution_count": 7,
   "metadata": {},
   "outputs": [],
   "source": [
    "# Remove the observation events\n",
    "model.remove_observation_events()"
   ]
  },
  {
   "cell_type": "code",
   "execution_count": 8,
   "metadata": {},
   "outputs": [],
   "source": [
    "# Load some static parameter intervention events\n",
    "model.load_event(StaticParameterInterventionEvent(2.99, \"beta\", 0.0))\n",
    "model.load_event(StaticParameterInterventionEvent(4.11, \"beta\", 10.))\n",
    "\n",
    "# Load the logging events again\n",
    "model.load_events(logging_events)"
   ]
  },
  {
   "cell_type": "code",
   "execution_count": 9,
   "metadata": {},
   "outputs": [
    {
     "data": {
      "text/plain": [
       "[StartEvent(time=0.0, initial_state={'susceptible_population': tensor(0.9900), 'infected_population': tensor(0.0100), 'immune_population': tensor(0.)}),\n",
       " LoggingEvent(time=1),\n",
       " LoggingEvent(time=2),\n",
       " StaticParameterInterventionEvent(time=2.990000009536743, parameter=beta, value=0.0),\n",
       " LoggingEvent(time=3),\n",
       " LoggingEvent(time=4),\n",
       " StaticParameterInterventionEvent(time=4.110000133514404, parameter=beta, value=10.0),\n",
       " LoggingEvent(time=5),\n",
       " LoggingEvent(time=6),\n",
       " LoggingEvent(time=7),\n",
       " LoggingEvent(time=8),\n",
       " LoggingEvent(time=9)]"
      ]
     },
     "execution_count": 9,
     "metadata": {},
     "output_type": "execute_result"
    }
   ],
   "source": [
    "model._static_events"
   ]
  },
  {
   "cell_type": "code",
   "execution_count": 10,
   "metadata": {},
   "outputs": [
    {
     "data": {
      "text/plain": [
       "{'beta': <mira.modeling.ModelParameter at 0x7fd4d84fca00>,\n",
       " 'gamma': <mira.modeling.ModelParameter at 0x7fd4d84fc970>}"
      ]
     },
     "execution_count": 10,
     "metadata": {},
     "output_type": "execute_result"
    }
   ],
   "source": [
    "model.G.parameters"
   ]
  },
  {
   "cell_type": "code",
   "execution_count": 11,
   "metadata": {},
   "outputs": [
    {
     "data": {
      "text/plain": [
       "['beta', 'gamma']"
      ]
     },
     "execution_count": 11,
     "metadata": {},
     "output_type": "execute_result"
    }
   ],
   "source": [
    "from pyciemss.PetriNetODE.base import get_name\n",
    "[get_name(p) for p in model.G.parameters.values()]\n",
    "# model.G.parameters"
   ]
  },
  {
   "cell_type": "code",
   "execution_count": 12,
   "metadata": {},
   "outputs": [
    {
     "data": {
      "text/plain": [
       "{'immune_population': tensor([0.0018, 0.0035, 0.0051, 0.0064, 0.0743, 0.2350, 0.3682, 0.4782, 0.5690]),\n",
       " 'infected_population': tensor([0.0092, 0.0084, 0.0077, 0.0064, 0.8972, 0.7650, 0.6318, 0.5218, 0.4310]),\n",
       " 'susceptible_population': tensor([ 9.8900e-01,  9.8808e-01,  9.8725e-01,  9.8725e-01,  2.8518e-02,\n",
       "          6.4241e-06,  6.1728e-09, -6.7957e-11,  3.2436e-11])}"
      ]
     },
     "execution_count": 12,
     "metadata": {},
     "output_type": "execute_result"
    }
   ],
   "source": [
    "model._observation_var_names\n",
    "model()"
   ]
  },
  {
   "cell_type": "code",
   "execution_count": 13,
   "metadata": {},
   "outputs": [],
   "source": [
    "# use pyro predictive\n",
    "from pyro.infer import Predictive\n",
    "\n",
    "# Get the return value of model.\n",
    "predictions = Predictive(model, guide=guide, num_samples=10)()"
   ]
  },
  {
   "cell_type": "code",
   "execution_count": 14,
   "metadata": {},
   "outputs": [
    {
     "data": {
      "text/plain": [
       "{'gamma': tensor([0.1935, 0.2000, 0.1992, 0.1947, 0.2112, 0.1946, 0.1876, 0.2133, 0.2017,\n",
       "         0.1986]),\n",
       " 'immune_population_sol': tensor([[0.0971, 0.2558, 0.3867, 0.4946, 0.5835, 0.6568, 0.7171, 0.7669, 0.8079],\n",
       "         [0.1001, 0.2631, 0.3967, 0.5060, 0.5955, 0.6689, 0.7289, 0.7780, 0.8183],\n",
       "         [0.0997, 0.2622, 0.3954, 0.5046, 0.5941, 0.6674, 0.7275, 0.7767, 0.8170],\n",
       "         [0.0976, 0.2571, 0.3886, 0.4967, 0.5857, 0.6590, 0.7193, 0.7690, 0.8099],\n",
       "         [0.1053, 0.2755, 0.4134, 0.5250, 0.6155, 0.6887, 0.7479, 0.7959, 0.8348],\n",
       "         [0.0976, 0.2571, 0.3885, 0.4966, 0.5856, 0.6589, 0.7192, 0.7689, 0.8097],\n",
       "         [0.0944, 0.2492, 0.3776, 0.4841, 0.5723, 0.6455, 0.7061, 0.7564, 0.7981],\n",
       "         [0.1062, 0.2778, 0.4165, 0.5286, 0.6191, 0.6923, 0.7514, 0.7991, 0.8377],\n",
       "         [0.1009, 0.2650, 0.3993, 0.5090, 0.5987, 0.6720, 0.7320, 0.7809, 0.8209],\n",
       "         [0.0995, 0.2616, 0.3946, 0.5036, 0.5931, 0.6664, 0.7265, 0.7757, 0.8161]]),\n",
       " 'infected_population_sol': tensor([[0.8964, 0.7442, 0.6133, 0.5054, 0.4165, 0.3432, 0.2829, 0.2331, 0.1921],\n",
       "         [0.8933, 0.7369, 0.6033, 0.4940, 0.4045, 0.3311, 0.2711, 0.2220, 0.1817],\n",
       "         [0.8936, 0.7378, 0.6046, 0.4954, 0.4059, 0.3326, 0.2725, 0.2233, 0.1830],\n",
       "         [0.8958, 0.7429, 0.6114, 0.5033, 0.4143, 0.3410, 0.2807, 0.2310, 0.1901],\n",
       "         [0.8880, 0.7245, 0.5866, 0.4750, 0.3845, 0.3113, 0.2521, 0.2041, 0.1652],\n",
       "         [0.8958, 0.7429, 0.6115, 0.5034, 0.4144, 0.3411, 0.2808, 0.2311, 0.1902],\n",
       "         [0.8992, 0.7508, 0.6224, 0.5159, 0.4277, 0.3545, 0.2939, 0.2436, 0.2019],\n",
       "         [0.8870, 0.7222, 0.5835, 0.4714, 0.3809, 0.3077, 0.2486, 0.2009, 0.1623],\n",
       "         [0.8924, 0.7350, 0.6007, 0.4910, 0.4013, 0.3280, 0.2680, 0.2191, 0.1791],\n",
       "         [0.8939, 0.7384, 0.6054, 0.4964, 0.4069, 0.3336, 0.2735, 0.2243, 0.1839]]),\n",
       " 'susceptible_population_sol': tensor([[ 6.5506e-03,  1.7937e-06,  2.2833e-09,  2.2833e-09, -5.2002e-11,\n",
       "           1.7289e-11,  1.2895e-11,  1.5401e-12,  2.0636e-13],\n",
       "         [ 6.6311e-03,  1.9149e-06,  2.5533e-09,  2.5533e-09,  5.3101e-10,\n",
       "           2.1921e-11,  1.2232e-11,  2.2046e-12,  3.1415e-13],\n",
       "         [ 6.6211e-03,  1.8995e-06,  2.5261e-09,  2.5261e-09, -5.1233e-11,\n",
       "           4.1018e-11,  9.5747e-12,  1.0356e-12,  1.5010e-13],\n",
       "         [ 6.5653e-03,  1.8153e-06,  2.2304e-09,  2.2304e-09, -5.8048e-11,\n",
       "           2.7222e-11,  1.2941e-11,  1.4289e-12,  1.9416e-13],\n",
       "         [ 6.7714e-03,  2.1407e-06,  3.2607e-09,  3.2607e-09,  1.9755e-10,\n",
       "           2.3928e-11,  3.6621e-12,  5.1682e-13,  8.3268e-14],\n",
       "         [ 6.5646e-03,  1.8143e-06,  2.3348e-09,  2.3348e-09, -4.9896e-11,\n",
       "           1.8769e-11,  1.1560e-11,  1.3258e-12,  1.7947e-13],\n",
       "         [ 6.4787e-03,  1.6904e-06,  2.0119e-09,  2.0119e-09, -4.8401e-11,\n",
       "          -1.8224e-11,  1.3009e-11,  3.5037e-12,  4.6228e-13],\n",
       "         [ 6.7981e-03,  2.1858e-06,  3.4345e-09,  3.4345e-09, -6.4010e-12,\n",
       "           2.5664e-11,  3.1309e-12,  3.6286e-13,  6.2244e-14],\n",
       "         [ 6.6530e-03,  1.9488e-06,  2.6554e-09,  2.6554e-09, -4.2900e-11,\n",
       "           6.3498e-11,  9.2204e-12,  1.0155e-12,  1.5372e-13],\n",
       "         [ 6.6142e-03,  1.8889e-06,  2.5028e-09,  2.5028e-09, -3.0535e-11,\n",
       "           1.0957e-11,  7.8552e-12,  9.0593e-13,  1.2675e-13]])}"
      ]
     },
     "execution_count": 14,
     "metadata": {},
     "output_type": "execute_result"
    }
   ],
   "source": [
    "predictions"
   ]
  },
  {
   "cell_type": "code",
   "execution_count": null,
   "metadata": {},
   "outputs": [],
   "source": []
  }
 ],
 "metadata": {
  "kernelspec": {
   "display_name": "venv",
   "language": "python",
   "name": "python3"
  },
  "language_info": {
   "codemirror_mode": {
    "name": "ipython",
    "version": 3
   },
   "file_extension": ".py",
   "mimetype": "text/x-python",
   "name": "python",
   "nbconvert_exporter": "python",
   "pygments_lexer": "ipython3",
   "version": "3.10.0"
  },
  "orig_nbformat": 4
 },
 "nbformat": 4,
 "nbformat_minor": 2
}
