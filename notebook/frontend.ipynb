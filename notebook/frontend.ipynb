{
 "cells": [
  {
   "cell_type": "code",
   "execution_count": 82,
   "metadata": {},
   "outputs": [
    {
     "name": "stdout",
     "output_type": "stream",
     "text": [
      "The autoreload extension is already loaded. To reload it, use:\n",
      "  %reload_ext autoreload\n"
     ]
    }
   ],
   "source": [
    "%load_ext autoreload\n",
    "%autoreload 2"
   ]
  },
  {
   "cell_type": "code",
   "execution_count": 83,
   "metadata": {},
   "outputs": [],
   "source": [
    "# Load Dependencies\n",
    "import matplotlib.pyplot as plt\n",
    "\n",
    "import torch\n",
    "\n",
    "import pyro\n",
    "import pyro.distributions as dist\n",
    "# from pyro.optim import Adam\n",
    "\n",
    "import pyciemss.utils as utils\n",
    "\n",
    "import warnings\n",
    "warnings.filterwarnings('ignore')"
   ]
  },
  {
   "cell_type": "code",
   "execution_count": 84,
   "metadata": {},
   "outputs": [],
   "source": [
    "from pyciemss.ODE.frontend import compile_pp\n",
    "from pyciemss.ODE.models import SVIIvR"
   ]
  },
  {
   "cell_type": "code",
   "execution_count": 85,
   "metadata": {},
   "outputs": [],
   "source": [
    "# Setup Parameters\n",
    "\n",
    "observed_tspan = utils.get_tspan(1, 7, 7)\n",
    "new_tspan = utils.get_tspan(7, 89, 83)\n",
    "full_tspan = utils.get_tspan(1, 89, 89)\n",
    "\n",
    "num_samples = 500\n",
    "\n",
    "# Total population, N.\n",
    "N = 100000.0\n",
    "# Initial number of infected and recovered individuals, I0 and R0.\n",
    "V0, I0, Iv0, R0 = 0., 81.0, 0., 0.\n",
    "# Everyone else, S0, is susceptible to infection initially.\n",
    "S0 = N - I0 - Iv0 - V0 - R0\n",
    "\n",
    "# 18 - 24 year olds\n",
    "I_obs = torch.tensor([81.47, 84.3, 86.44, 89.66, 93.32, 94.1, 96.31])\n",
    "\n",
    "initial_state = tuple(torch.as_tensor(s) for s in  (S0, V0, I0, Iv0, R0))\n",
    "final_observed_state = tuple(torch.as_tensor(s) for s in  (S0, V0, I_obs[-1], Iv0, R0))"
   ]
  },
  {
   "cell_type": "code",
   "execution_count": 86,
   "metadata": {},
   "outputs": [],
   "source": [
    "model = SVIIvR(N)"
   ]
  },
  {
   "cell_type": "code",
   "execution_count": 87,
   "metadata": {},
   "outputs": [],
   "source": [
    "solution, observations = model(initial_state, full_tspan)"
   ]
  },
  {
   "cell_type": "code",
   "execution_count": 88,
   "metadata": {},
   "outputs": [],
   "source": [
    "import json\n",
    "from pyciemss.utils import petri_utils\n",
    "\n",
    "prior_path = \"test/scenario2/SVIIvR_prior.json\"\n",
    "\n",
    "with open(prior_path) as f:\n",
    "    prior_json = json.load(f)\n",
    "\n",
    "# petri_path = \"test/scenario2/SVIIvR.json\"\n",
    "petri_path = \"test/models/starter_kit_examples/CHIME-SIR/model_petri.json\"\n",
    "petri_G = utils.load(petri_path)\n",
    "petri_G = utils.add_state_indicies(petri_G)\n",
    "\n",
    "model_compiled = compile_pp(petri_G, prior_json)"
   ]
  },
  {
   "cell_type": "code",
   "execution_count": 89,
   "metadata": {},
   "outputs": [
    {
     "data": {
      "text/plain": [
       "(tensor(-1765958.5000), tensor(1765953.8750), tensor(4.5973))"
      ]
     },
     "execution_count": 89,
     "metadata": {},
     "output_type": "execute_result"
    }
   ],
   "source": [
    "model_compiled.param_prior()\n",
    "test_state = tuple(torch.as_tensor(s) for s in  (S0, I0, R0))\n",
    "model_compiled.deriv(0., test_state)"
   ]
  },
  {
   "cell_type": "code",
   "execution_count": 98,
   "metadata": {},
   "outputs": [],
   "source": [
    "from pyro.poutine import trace\n",
    "\n",
    "tr = trace(model).get_trace(initial_state, full_tspan)\n",
    "tr_compiled = trace(model_compiled).get_trace(test_state, utils.get_tspan(1, 3, 3))\n"
   ]
  },
  {
   "cell_type": "code",
   "execution_count": 101,
   "metadata": {},
   "outputs": [],
   "source": [
    "# tr.nodes"
   ]
  },
  {
   "cell_type": "code",
   "execution_count": 100,
   "metadata": {},
   "outputs": [],
   "source": [
    "# tr_compiled.nodes"
   ]
  },
  {
   "cell_type": "code",
   "execution_count": 102,
   "metadata": {},
   "outputs": [
    {
     "data": {
      "text/plain": [
       "((tensor([ 9.9919e+04, -1.3580e+06,  3.5664e+11]),\n",
       "  tensor([ 8.1000e+01,  1.4580e+06, -3.5664e+11]),\n",
       "  tensor([0.0000e+00, 2.1750e+01, 3.9152e+05])),\n",
       " (tensor([ 9.9922e+04, -1.3580e+06,  3.5664e+11]),\n",
       "  tensor([ 6.9609e+01,  1.4580e+06, -3.5664e+11]),\n",
       "  tensor([-3.3614e+00,  1.9346e+01,  3.9152e+05])))"
      ]
     },
     "execution_count": 102,
     "metadata": {},
     "output_type": "execute_result"
    }
   ],
   "source": [
    "model_compiled(test_state, utils.get_tspan(1, 3, 3))"
   ]
  },
  {
   "cell_type": "code",
   "execution_count": 69,
   "metadata": {},
   "outputs": [
    {
     "data": {
      "text/plain": [
       "(tensor([ 9.9917e+04, -1.4802e+06,  4.5664e+11]),\n",
       " tensor([ 7.9246e+01,  1.5802e+06, -4.5664e+11]),\n",
       " tensor([-2.6109e+00,  1.8242e+01,  3.8308e+05]))"
      ]
     },
     "execution_count": 69,
     "metadata": {},
     "output_type": "execute_result"
    }
   ],
   "source": [
    "observations_compiled"
   ]
  },
  {
   "cell_type": "code",
   "execution_count": null,
   "metadata": {},
   "outputs": [],
   "source": []
  }
 ],
 "metadata": {
  "kernelspec": {
   "display_name": "askem",
   "language": "python",
   "name": "python3"
  },
  "language_info": {
   "codemirror_mode": {
    "name": "ipython",
    "version": 3
   },
   "file_extension": ".py",
   "mimetype": "text/x-python",
   "name": "python",
   "nbconvert_exporter": "python",
   "pygments_lexer": "ipython3",
   "version": "3.10.8"
  },
  "orig_nbformat": 4,
  "vscode": {
   "interpreter": {
    "hash": "a388b8e925d47aa3c3c9a0bec6bdf52e1802c3e32a205fdc5bc164d020306dfb"
   }
  }
 },
 "nbformat": 4,
 "nbformat_minor": 2
}
