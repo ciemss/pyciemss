{
 "cells": [
  {
   "cell_type": "code",
   "execution_count": 1,
   "metadata": {},
   "outputs": [],
   "source": [
    "%load_ext autoreload\n",
    "%autoreload 2"
   ]
  },
  {
   "cell_type": "code",
   "execution_count": 2,
   "metadata": {},
   "outputs": [],
   "source": [
    "# Load Dependencies\n",
    "import matplotlib.pyplot as plt\n",
    "\n",
    "import torch\n",
    "\n",
    "import pyro\n",
    "import pyro.distributions as dist\n",
    "# from pyro.optim import Adam\n",
    "\n",
    "import sys\n",
    "sys.path.append(\"../\")\n",
    "\n",
    "from pyciemss.utils import run_inference, get_tspan\n",
    "\n",
    "import warnings\n",
    "warnings.filterwarnings('ignore')"
   ]
  },
  {
   "cell_type": "code",
   "execution_count": 3,
   "metadata": {},
   "outputs": [],
   "source": [
    "from pyciemss.ODE.frontend import compile_pp\n",
    "from pyciemss.ODE.models import SVIIvR"
   ]
  },
  {
   "cell_type": "code",
   "execution_count": 4,
   "metadata": {},
   "outputs": [],
   "source": [
    "# Setup Parameters\n",
    "\n",
    "observed_tspan = get_tspan(1, 7, 7)\n",
    "new_tspan = get_tspan(7, 89, 83)\n",
    "full_tspan = get_tspan(1, 89, 89)\n",
    "\n",
    "num_samples = 500\n",
    "\n",
    "# Total population, N.\n",
    "N = 100000.0\n",
    "# Initial number of infected and recovered individuals, I0 and R0.\n",
    "V0, I0, Iv0, R0 = 0., 81.0, 0., 0.\n",
    "# Everyone else, S0, is susceptible to infection initially.\n",
    "S0 = N - I0 - Iv0 - V0 - R0\n",
    "\n",
    "# 18 - 24 year olds\n",
    "I_obs = torch.tensor([81.47, 84.3, 86.44, 89.66, 93.32, 94.1, 96.31])\n",
    "\n",
    "initial_state = tuple(torch.as_tensor(s) for s in  (S0, V0, I0, Iv0, R0))\n",
    "final_observed_state = tuple(torch.as_tensor(s) for s in  (S0, V0, I_obs[-1], Iv0, R0))"
   ]
  },
  {
   "cell_type": "code",
   "execution_count": 5,
   "metadata": {},
   "outputs": [],
   "source": [
    "model = SVIIvR(N)"
   ]
  },
  {
   "cell_type": "code",
   "execution_count": 6,
   "metadata": {},
   "outputs": [],
   "source": [
    "solution, observations = model(initial_state, full_tspan)"
   ]
  },
  {
   "cell_type": "code",
   "execution_count": 9,
   "metadata": {},
   "outputs": [],
   "source": [
    "import json\n",
    "\n",
    "prior_path = \"test/scenario2/SVIIvR_prior.json\"\n",
    "\n",
    "with open(prior_path) as f:\n",
    "    prior_json = json.load(f)\n",
    "\n",
    "# TODO\n",
    "petri_path = \"test/scenario2/SVIIvR.json\"\n",
    "# petri_net = load(petri_path)\n",
    "petri_net = \"\"\n",
    "\n",
    "model_compiled = compile_pp(petri_net, prior_json)"
   ]
  },
  {
   "cell_type": "code",
   "execution_count": 10,
   "metadata": {},
   "outputs": [
    {
     "ename": "NotImplementedError",
     "evalue": "",
     "output_type": "error",
     "traceback": [
      "\u001b[0;31m---------------------------------------------------------------------------\u001b[0m",
      "\u001b[0;31mNotImplementedError\u001b[0m                       Traceback (most recent call last)",
      "Cell \u001b[0;32mIn [10], line 1\u001b[0m\n\u001b[0;32m----> 1\u001b[0m solution_compiled, observations_compiled \u001b[39m=\u001b[39m model_compiled(initial_state, full_tspan)\n",
      "File \u001b[0;32m~/opt/anaconda3/envs/askem/lib/python3.10/site-packages/pyro/nn/module.py:448\u001b[0m, in \u001b[0;36mPyroModule.__call__\u001b[0;34m(self, *args, **kwargs)\u001b[0m\n\u001b[1;32m    446\u001b[0m \u001b[39mdef\u001b[39;00m \u001b[39m__call__\u001b[39m(\u001b[39mself\u001b[39m, \u001b[39m*\u001b[39margs, \u001b[39m*\u001b[39m\u001b[39m*\u001b[39mkwargs):\n\u001b[1;32m    447\u001b[0m     \u001b[39mwith\u001b[39;00m \u001b[39mself\u001b[39m\u001b[39m.\u001b[39m_pyro_context:\n\u001b[0;32m--> 448\u001b[0m         result \u001b[39m=\u001b[39m \u001b[39msuper\u001b[39;49m()\u001b[39m.\u001b[39;49m\u001b[39m__call__\u001b[39;49m(\u001b[39m*\u001b[39;49margs, \u001b[39m*\u001b[39;49m\u001b[39m*\u001b[39;49mkwargs)\n\u001b[1;32m    449\u001b[0m     \u001b[39mif\u001b[39;00m (\n\u001b[1;32m    450\u001b[0m         pyro\u001b[39m.\u001b[39msettings\u001b[39m.\u001b[39mget(\u001b[39m\"\u001b[39m\u001b[39mvalidate_poutine\u001b[39m\u001b[39m\"\u001b[39m)\n\u001b[1;32m    451\u001b[0m         \u001b[39mand\u001b[39;00m \u001b[39mnot\u001b[39;00m \u001b[39mself\u001b[39m\u001b[39m.\u001b[39m_pyro_context\u001b[39m.\u001b[39mactive\n\u001b[1;32m    452\u001b[0m         \u001b[39mand\u001b[39;00m _is_module_local_param_enabled()\n\u001b[1;32m    453\u001b[0m     ):\n\u001b[1;32m    454\u001b[0m         \u001b[39mself\u001b[39m\u001b[39m.\u001b[39m_check_module_local_param_usage()\n",
      "File \u001b[0;32m~/opt/anaconda3/envs/askem/lib/python3.10/site-packages/torch/nn/modules/module.py:1190\u001b[0m, in \u001b[0;36mModule._call_impl\u001b[0;34m(self, *input, **kwargs)\u001b[0m\n\u001b[1;32m   1186\u001b[0m \u001b[39m# If we don't have any hooks, we want to skip the rest of the logic in\u001b[39;00m\n\u001b[1;32m   1187\u001b[0m \u001b[39m# this function, and just call forward.\u001b[39;00m\n\u001b[1;32m   1188\u001b[0m \u001b[39mif\u001b[39;00m \u001b[39mnot\u001b[39;00m (\u001b[39mself\u001b[39m\u001b[39m.\u001b[39m_backward_hooks \u001b[39mor\u001b[39;00m \u001b[39mself\u001b[39m\u001b[39m.\u001b[39m_forward_hooks \u001b[39mor\u001b[39;00m \u001b[39mself\u001b[39m\u001b[39m.\u001b[39m_forward_pre_hooks \u001b[39mor\u001b[39;00m _global_backward_hooks\n\u001b[1;32m   1189\u001b[0m         \u001b[39mor\u001b[39;00m _global_forward_hooks \u001b[39mor\u001b[39;00m _global_forward_pre_hooks):\n\u001b[0;32m-> 1190\u001b[0m     \u001b[39mreturn\u001b[39;00m forward_call(\u001b[39m*\u001b[39;49m\u001b[39minput\u001b[39;49m, \u001b[39m*\u001b[39;49m\u001b[39m*\u001b[39;49mkwargs)\n\u001b[1;32m   1191\u001b[0m \u001b[39m# Do not call functions when jit is used\u001b[39;00m\n\u001b[1;32m   1192\u001b[0m full_backward_hooks, non_full_backward_hooks \u001b[39m=\u001b[39m [], []\n",
      "File \u001b[0;32m~/opt/anaconda3/envs/askem/lib/python3.10/site-packages/pyro/nn/module.py:677\u001b[0m, in \u001b[0;36mpyro_method.<locals>.cached_fn\u001b[0;34m(self, *args, **kwargs)\u001b[0m\n\u001b[1;32m    674\u001b[0m \u001b[39m@functools\u001b[39m\u001b[39m.\u001b[39mwraps(fn)\n\u001b[1;32m    675\u001b[0m \u001b[39mdef\u001b[39;00m \u001b[39mcached_fn\u001b[39m(\u001b[39mself\u001b[39m, \u001b[39m*\u001b[39margs, \u001b[39m*\u001b[39m\u001b[39m*\u001b[39mkwargs):\n\u001b[1;32m    676\u001b[0m     \u001b[39mwith\u001b[39;00m \u001b[39mself\u001b[39m\u001b[39m.\u001b[39m_pyro_context:\n\u001b[0;32m--> 677\u001b[0m         \u001b[39mreturn\u001b[39;00m fn(\u001b[39mself\u001b[39;49m, \u001b[39m*\u001b[39;49margs, \u001b[39m*\u001b[39;49m\u001b[39m*\u001b[39;49mkwargs)\n",
      "File \u001b[0;32m~/Desktop/Research/pyciemss/src/pyciemss/ODE/abstract.py:57\u001b[0m, in \u001b[0;36mODE.forward\u001b[0;34m(self, initial_state, tspan, data)\u001b[0m\n\u001b[1;32m     53\u001b[0m \u001b[39mself\u001b[39m\u001b[39m.\u001b[39mparam_prior()\n\u001b[1;32m     55\u001b[0m \u001b[39m# Simulate from ODE.\u001b[39;00m\n\u001b[1;32m     56\u001b[0m \u001b[39m# Constant deltaT method like `euler` necessary to get interventions without name collision.\u001b[39;00m\n\u001b[0;32m---> 57\u001b[0m solution \u001b[39m=\u001b[39m odeint(\u001b[39mself\u001b[39;49m\u001b[39m.\u001b[39;49mderiv, initial_state, tspan, method\u001b[39m=\u001b[39;49m\u001b[39m\"\u001b[39;49m\u001b[39meuler\u001b[39;49m\u001b[39m\"\u001b[39;49m)\n\u001b[1;32m     59\u001b[0m \u001b[39m# Add Observation noise\u001b[39;00m\n\u001b[1;32m     60\u001b[0m observations \u001b[39m=\u001b[39m \u001b[39mself\u001b[39m\u001b[39m.\u001b[39mobservation_model(solution, data)\n",
      "File \u001b[0;32m~/opt/anaconda3/envs/askem/lib/python3.10/site-packages/torchdiffeq/_impl/odeint.py:77\u001b[0m, in \u001b[0;36modeint\u001b[0;34m(func, y0, t, rtol, atol, method, options, event_fn)\u001b[0m\n\u001b[1;32m     74\u001b[0m solver \u001b[39m=\u001b[39m SOLVERS[method](func\u001b[39m=\u001b[39mfunc, y0\u001b[39m=\u001b[39my0, rtol\u001b[39m=\u001b[39mrtol, atol\u001b[39m=\u001b[39matol, \u001b[39m*\u001b[39m\u001b[39m*\u001b[39moptions)\n\u001b[1;32m     76\u001b[0m \u001b[39mif\u001b[39;00m event_fn \u001b[39mis\u001b[39;00m \u001b[39mNone\u001b[39;00m:\n\u001b[0;32m---> 77\u001b[0m     solution \u001b[39m=\u001b[39m solver\u001b[39m.\u001b[39;49mintegrate(t)\n\u001b[1;32m     78\u001b[0m \u001b[39melse\u001b[39;00m:\n\u001b[1;32m     79\u001b[0m     event_t, solution \u001b[39m=\u001b[39m solver\u001b[39m.\u001b[39mintegrate_until_event(t[\u001b[39m0\u001b[39m], event_fn)\n",
      "File \u001b[0;32m~/opt/anaconda3/envs/askem/lib/python3.10/site-packages/torchdiffeq/_impl/solvers.py:105\u001b[0m, in \u001b[0;36mFixedGridODESolver.integrate\u001b[0;34m(self, t)\u001b[0m\n\u001b[1;32m    103\u001b[0m \u001b[39mfor\u001b[39;00m t0, t1 \u001b[39min\u001b[39;00m \u001b[39mzip\u001b[39m(time_grid[:\u001b[39m-\u001b[39m\u001b[39m1\u001b[39m], time_grid[\u001b[39m1\u001b[39m:]):\n\u001b[1;32m    104\u001b[0m     dt \u001b[39m=\u001b[39m t1 \u001b[39m-\u001b[39m t0\n\u001b[0;32m--> 105\u001b[0m     dy, f0 \u001b[39m=\u001b[39m \u001b[39mself\u001b[39;49m\u001b[39m.\u001b[39;49m_step_func(\u001b[39mself\u001b[39;49m\u001b[39m.\u001b[39;49mfunc, t0, dt, t1, y0)\n\u001b[1;32m    106\u001b[0m     y1 \u001b[39m=\u001b[39m y0 \u001b[39m+\u001b[39m dy\n\u001b[1;32m    108\u001b[0m     \u001b[39mwhile\u001b[39;00m j \u001b[39m<\u001b[39m \u001b[39mlen\u001b[39m(t) \u001b[39mand\u001b[39;00m t1 \u001b[39m>\u001b[39m\u001b[39m=\u001b[39m t[j]:\n",
      "File \u001b[0;32m~/opt/anaconda3/envs/askem/lib/python3.10/site-packages/torchdiffeq/_impl/fixed_grid.py:10\u001b[0m, in \u001b[0;36mEuler._step_func\u001b[0;34m(self, func, t0, dt, t1, y0)\u001b[0m\n\u001b[1;32m      9\u001b[0m \u001b[39mdef\u001b[39;00m \u001b[39m_step_func\u001b[39m(\u001b[39mself\u001b[39m, func, t0, dt, t1, y0):\n\u001b[0;32m---> 10\u001b[0m     f0 \u001b[39m=\u001b[39m func(t0, y0, perturb\u001b[39m=\u001b[39;49mPerturb\u001b[39m.\u001b[39;49mNEXT \u001b[39mif\u001b[39;49;00m \u001b[39mself\u001b[39;49m\u001b[39m.\u001b[39;49mperturb \u001b[39melse\u001b[39;49;00m Perturb\u001b[39m.\u001b[39;49mNONE)\n\u001b[1;32m     11\u001b[0m     \u001b[39mreturn\u001b[39;00m dt \u001b[39m*\u001b[39m f0, f0\n",
      "File \u001b[0;32m~/opt/anaconda3/envs/askem/lib/python3.10/site-packages/torch/nn/modules/module.py:1190\u001b[0m, in \u001b[0;36mModule._call_impl\u001b[0;34m(self, *input, **kwargs)\u001b[0m\n\u001b[1;32m   1186\u001b[0m \u001b[39m# If we don't have any hooks, we want to skip the rest of the logic in\u001b[39;00m\n\u001b[1;32m   1187\u001b[0m \u001b[39m# this function, and just call forward.\u001b[39;00m\n\u001b[1;32m   1188\u001b[0m \u001b[39mif\u001b[39;00m \u001b[39mnot\u001b[39;00m (\u001b[39mself\u001b[39m\u001b[39m.\u001b[39m_backward_hooks \u001b[39mor\u001b[39;00m \u001b[39mself\u001b[39m\u001b[39m.\u001b[39m_forward_hooks \u001b[39mor\u001b[39;00m \u001b[39mself\u001b[39m\u001b[39m.\u001b[39m_forward_pre_hooks \u001b[39mor\u001b[39;00m _global_backward_hooks\n\u001b[1;32m   1189\u001b[0m         \u001b[39mor\u001b[39;00m _global_forward_hooks \u001b[39mor\u001b[39;00m _global_forward_pre_hooks):\n\u001b[0;32m-> 1190\u001b[0m     \u001b[39mreturn\u001b[39;00m forward_call(\u001b[39m*\u001b[39;49m\u001b[39minput\u001b[39;49m, \u001b[39m*\u001b[39;49m\u001b[39m*\u001b[39;49mkwargs)\n\u001b[1;32m   1191\u001b[0m \u001b[39m# Do not call functions when jit is used\u001b[39;00m\n\u001b[1;32m   1192\u001b[0m full_backward_hooks, non_full_backward_hooks \u001b[39m=\u001b[39m [], []\n",
      "File \u001b[0;32m~/opt/anaconda3/envs/askem/lib/python3.10/site-packages/torchdiffeq/_impl/misc.py:189\u001b[0m, in \u001b[0;36m_PerturbFunc.forward\u001b[0;34m(self, t, y, perturb)\u001b[0m\n\u001b[1;32m    186\u001b[0m \u001b[39melse\u001b[39;00m:\n\u001b[1;32m    187\u001b[0m     \u001b[39m# Do nothing.\u001b[39;00m\n\u001b[1;32m    188\u001b[0m     \u001b[39mpass\u001b[39;00m\n\u001b[0;32m--> 189\u001b[0m \u001b[39mreturn\u001b[39;00m \u001b[39mself\u001b[39;49m\u001b[39m.\u001b[39;49mbase_func(t, y)\n",
      "File \u001b[0;32m~/opt/anaconda3/envs/askem/lib/python3.10/site-packages/torch/nn/modules/module.py:1190\u001b[0m, in \u001b[0;36mModule._call_impl\u001b[0;34m(self, *input, **kwargs)\u001b[0m\n\u001b[1;32m   1186\u001b[0m \u001b[39m# If we don't have any hooks, we want to skip the rest of the logic in\u001b[39;00m\n\u001b[1;32m   1187\u001b[0m \u001b[39m# this function, and just call forward.\u001b[39;00m\n\u001b[1;32m   1188\u001b[0m \u001b[39mif\u001b[39;00m \u001b[39mnot\u001b[39;00m (\u001b[39mself\u001b[39m\u001b[39m.\u001b[39m_backward_hooks \u001b[39mor\u001b[39;00m \u001b[39mself\u001b[39m\u001b[39m.\u001b[39m_forward_hooks \u001b[39mor\u001b[39;00m \u001b[39mself\u001b[39m\u001b[39m.\u001b[39m_forward_pre_hooks \u001b[39mor\u001b[39;00m _global_backward_hooks\n\u001b[1;32m   1189\u001b[0m         \u001b[39mor\u001b[39;00m _global_forward_hooks \u001b[39mor\u001b[39;00m _global_forward_pre_hooks):\n\u001b[0;32m-> 1190\u001b[0m     \u001b[39mreturn\u001b[39;00m forward_call(\u001b[39m*\u001b[39;49m\u001b[39minput\u001b[39;49m, \u001b[39m*\u001b[39;49m\u001b[39m*\u001b[39;49mkwargs)\n\u001b[1;32m   1191\u001b[0m \u001b[39m# Do not call functions when jit is used\u001b[39;00m\n\u001b[1;32m   1192\u001b[0m full_backward_hooks, non_full_backward_hooks \u001b[39m=\u001b[39m [], []\n",
      "File \u001b[0;32m~/opt/anaconda3/envs/askem/lib/python3.10/site-packages/torchdiffeq/_impl/misc.py:138\u001b[0m, in \u001b[0;36m_TupleFunc.forward\u001b[0;34m(self, t, y)\u001b[0m\n\u001b[1;32m    137\u001b[0m \u001b[39mdef\u001b[39;00m \u001b[39mforward\u001b[39m(\u001b[39mself\u001b[39m, t, y):\n\u001b[0;32m--> 138\u001b[0m     f \u001b[39m=\u001b[39m \u001b[39mself\u001b[39;49m\u001b[39m.\u001b[39;49mbase_func(t, _flat_to_shape(y, (), \u001b[39mself\u001b[39;49m\u001b[39m.\u001b[39;49mshapes))\n\u001b[1;32m    139\u001b[0m     \u001b[39mreturn\u001b[39;00m torch\u001b[39m.\u001b[39mcat([f_\u001b[39m.\u001b[39mreshape(\u001b[39m-\u001b[39m\u001b[39m1\u001b[39m) \u001b[39mfor\u001b[39;00m f_ \u001b[39min\u001b[39;00m f])\n",
      "File \u001b[0;32m~/Desktop/Research/pyciemss/src/pyciemss/ODE/abstract.py:28\u001b[0m, in \u001b[0;36mODE.deriv\u001b[0;34m(self, t, state)\u001b[0m\n\u001b[1;32m     24\u001b[0m \u001b[39mdef\u001b[39;00m \u001b[39mderiv\u001b[39m(\u001b[39mself\u001b[39m, t: Time, state: State) \u001b[39m-\u001b[39m\u001b[39m>\u001b[39m State:\n\u001b[1;32m     25\u001b[0m     \u001b[39m'''\u001b[39;00m\n\u001b[1;32m     26\u001b[0m \u001b[39m    Returns a derivate of `state` with respect to `t`.\u001b[39;00m\n\u001b[1;32m     27\u001b[0m \u001b[39m    '''\u001b[39;00m\n\u001b[0;32m---> 28\u001b[0m     \u001b[39mraise\u001b[39;00m \u001b[39mNotImplementedError\u001b[39;00m\n",
      "\u001b[0;31mNotImplementedError\u001b[0m: "
     ]
    }
   ],
   "source": [
    "solution_compiled, observations_compiled = model_compiled(initial_state, full_tspan)"
   ]
  },
  {
   "cell_type": "code",
   "execution_count": null,
   "metadata": {},
   "outputs": [],
   "source": []
  }
 ],
 "metadata": {
  "kernelspec": {
   "display_name": "askem",
   "language": "python",
   "name": "python3"
  },
  "language_info": {
   "codemirror_mode": {
    "name": "ipython",
    "version": 3
   },
   "file_extension": ".py",
   "mimetype": "text/x-python",
   "name": "python",
   "nbconvert_exporter": "python",
   "pygments_lexer": "ipython3",
   "version": "3.10.8"
  },
  "orig_nbformat": 4,
  "vscode": {
   "interpreter": {
    "hash": "a388b8e925d47aa3c3c9a0bec6bdf52e1802c3e32a205fdc5bc164d020306dfb"
   }
  }
 },
 "nbformat": 4,
 "nbformat_minor": 2
}
