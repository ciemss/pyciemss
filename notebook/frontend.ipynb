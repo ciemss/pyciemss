{
 "cells": [
  {
   "cell_type": "code",
   "execution_count": 158,
   "metadata": {},
   "outputs": [
    {
     "name": "stdout",
     "output_type": "stream",
     "text": [
      "The autoreload extension is already loaded. To reload it, use:\n",
      "  %reload_ext autoreload\n"
     ]
    }
   ],
   "source": [
    "%load_ext autoreload\n",
    "%autoreload 2"
   ]
  },
  {
   "cell_type": "code",
   "execution_count": 159,
   "metadata": {},
   "outputs": [],
   "source": [
    "# Load Dependencies\n",
    "import matplotlib.pyplot as plt\n",
    "\n",
    "import torch\n",
    "\n",
    "import pyro\n",
    "import pyro.distributions as dist\n",
    "# from pyro.optim import Adam\n",
    "\n",
    "import pyciemss.utils as utils\n",
    "\n",
    "import warnings\n",
    "warnings.filterwarnings('ignore')"
   ]
  },
  {
   "cell_type": "code",
   "execution_count": 160,
   "metadata": {},
   "outputs": [],
   "source": [
    "from pyciemss.ODE.frontend import compile_pp\n",
    "from pyciemss.ODE.models import SVIIvR"
   ]
  },
  {
   "cell_type": "code",
   "execution_count": 161,
   "metadata": {},
   "outputs": [],
   "source": [
    "# Setup Parameters\n",
    "\n",
    "observed_tspan = utils.get_tspan(1, 7, 7)\n",
    "new_tspan = utils.get_tspan(7, 89, 83)\n",
    "full_tspan = utils.get_tspan(1, 89, 89)\n",
    "\n",
    "num_samples = 500\n",
    "\n",
    "# Total population, N.\n",
    "N = 1.0\n",
    "# Initial number of infected and recovered individuals, I0 and R0.\n",
    "V0, I0, Iv0, R0 = 0., 81.0/100000, 0., 0.\n",
    "# Everyone else, S0, is susceptible to infection initially.\n",
    "S0 = N - I0 - Iv0 - V0 - R0\n",
    "\n",
    "# 18 - 24 year olds\n",
    "I_obs = torch.tensor([81.47, 84.3, 86.44, 89.66, 93.32, 94.1, 96.31])/100000\n",
    "\n",
    "initial_state = tuple(torch.as_tensor(s) for s in  (S0, V0, I0, Iv0, R0))\n",
    "final_observed_state = tuple(torch.as_tensor(s) for s in  (S0, V0, I_obs[-1], Iv0, R0))"
   ]
  },
  {
   "cell_type": "code",
   "execution_count": 162,
   "metadata": {},
   "outputs": [],
   "source": [
    "model = SVIIvR(N)"
   ]
  },
  {
   "cell_type": "code",
   "execution_count": 163,
   "metadata": {},
   "outputs": [],
   "source": [
    "solution, observations = model(initial_state, full_tspan)"
   ]
  },
  {
   "cell_type": "code",
   "execution_count": 164,
   "metadata": {},
   "outputs": [],
   "source": [
    "import json\n",
    "from pyciemss.utils import petri_utils\n",
    "\n",
    "prior_path = \"test/scenario2/SVIIvR_prior.json\"\n",
    "\n",
    "with open(prior_path) as f:\n",
    "    prior_json = json.load(f)\n",
    "\n",
    "# petri_path = \"test/scenario2/SVIIvR.json\"\n",
    "petri_path = \"test/models/starter_kit_examples/CHIME-SIR/model_petri.json\"\n",
    "petri_G = utils.load(petri_path)\n",
    "petri_G = utils.add_state_indicies(petri_G)\n",
    "\n",
    "model_compiled = compile_pp(petri_G, prior_json)"
   ]
  },
  {
   "cell_type": "code",
   "execution_count": 165,
   "metadata": {},
   "outputs": [
    {
     "data": {
      "text/plain": [
       "(tensor(-9.0484e-05), tensor(3.3713e-05), tensor(5.6770e-05))"
      ]
     },
     "execution_count": 165,
     "metadata": {},
     "output_type": "execute_result"
    }
   ],
   "source": [
    "model_compiled.param_prior()\n",
    "test_state = tuple(torch.as_tensor(s) for s in  (S0, I0, R0))\n",
    "model_compiled.deriv(0., test_state)"
   ]
  },
  {
   "cell_type": "code",
   "execution_count": 166,
   "metadata": {},
   "outputs": [],
   "source": [
    "from pyro.poutine import trace\n",
    "\n",
    "tr = trace(model).get_trace(initial_state, full_tspan)\n",
    "tr_compiled = trace(model_compiled).get_trace(test_state, utils.get_tspan(1, 3, 3))\n"
   ]
  },
  {
   "cell_type": "code",
   "execution_count": 167,
   "metadata": {},
   "outputs": [],
   "source": [
    "# tr.nodes"
   ]
  },
  {
   "cell_type": "code",
   "execution_count": 168,
   "metadata": {},
   "outputs": [],
   "source": [
    "# tr_compiled.nodes"
   ]
  },
  {
   "cell_type": "code",
   "execution_count": 169,
   "metadata": {},
   "outputs": [],
   "source": [
    "solution, observations = model_compiled(test_state, utils.get_tspan(1, 100, 100))"
   ]
  },
  {
   "cell_type": "code",
   "execution_count": 170,
   "metadata": {},
   "outputs": [
    {
     "data": {
      "text/plain": [
       "tensor([0.0000e+00, 1.0255e-04, 2.2230e-04, 3.6211e-04, 5.2534e-04, 7.1590e-04,\n",
       "        9.3834e-04, 1.1980e-03, 1.5009e-03, 1.8545e-03, 2.2669e-03, 2.7480e-03,\n",
       "        3.3090e-03, 3.9629e-03, 4.7251e-03, 5.6129e-03, 6.6468e-03, 7.8500e-03,\n",
       "        9.2496e-03, 1.0876e-02, 1.2766e-02, 1.4958e-02, 1.7498e-02, 2.0440e-02,\n",
       "        2.3839e-02, 2.7762e-02, 3.2281e-02, 3.7473e-02, 4.3425e-02, 5.0229e-02,\n",
       "        5.7980e-02, 6.6778e-02, 7.6723e-02, 8.7912e-02, 1.0044e-01, 1.1437e-01,\n",
       "        1.2979e-01, 1.4672e-01, 1.6517e-01, 1.8514e-01, 2.0656e-01, 2.2934e-01,\n",
       "        2.5336e-01, 2.7844e-01, 3.0440e-01, 3.3102e-01, 3.5807e-01, 3.8533e-01,\n",
       "        4.1256e-01, 4.3955e-01, 4.6609e-01, 4.9202e-01, 5.1718e-01, 5.4144e-01,\n",
       "        5.6472e-01, 5.8693e-01, 6.0802e-01, 6.2798e-01, 6.4679e-01, 6.6445e-01,\n",
       "        6.8099e-01, 6.9644e-01, 7.1082e-01, 7.2419e-01, 7.3659e-01, 7.4806e-01,\n",
       "        7.5867e-01, 7.6847e-01, 7.7749e-01, 7.8580e-01, 7.9344e-01, 8.0046e-01,\n",
       "        8.0690e-01, 8.1281e-01, 8.1822e-01, 8.2318e-01, 8.2772e-01, 8.3188e-01,\n",
       "        8.3568e-01, 8.3915e-01, 8.4232e-01, 8.4522e-01, 8.4787e-01, 8.5028e-01,\n",
       "        8.5249e-01, 8.5450e-01, 8.5633e-01, 8.5800e-01, 8.5953e-01, 8.6092e-01,\n",
       "        8.6219e-01, 8.6334e-01, 8.6440e-01, 8.6536e-01, 8.6623e-01, 8.6703e-01,\n",
       "        8.6775e-01, 8.6841e-01, 8.6901e-01, 8.6956e-01])"
      ]
     },
     "execution_count": 170,
     "metadata": {},
     "output_type": "execute_result"
    }
   ],
   "source": [
    "solution[2]"
   ]
  }
 ],
 "metadata": {
  "kernelspec": {
   "display_name": "askem",
   "language": "python",
   "name": "python3"
  },
  "language_info": {
   "codemirror_mode": {
    "name": "ipython",
    "version": 3
   },
   "file_extension": ".py",
   "mimetype": "text/x-python",
   "name": "python",
   "nbconvert_exporter": "python",
   "pygments_lexer": "ipython3",
   "version": "3.10.8"
  },
  "orig_nbformat": 4,
  "vscode": {
   "interpreter": {
    "hash": "a388b8e925d47aa3c3c9a0bec6bdf52e1802c3e32a205fdc5bc164d020306dfb"
   }
  }
 },
 "nbformat": 4,
 "nbformat_minor": 2
}
