{
 "cells": [
  {
   "cell_type": "code",
   "execution_count": 132,
   "metadata": {},
   "outputs": [
    {
     "name": "stdout",
     "output_type": "stream",
     "text": [
      "The autoreload extension is already loaded. To reload it, use:\n",
      "  %reload_ext autoreload\n"
     ]
    }
   ],
   "source": [
    "%load_ext autoreload\n",
    "%autoreload 2"
   ]
  },
  {
   "cell_type": "code",
   "execution_count": 133,
   "metadata": {},
   "outputs": [],
   "source": [
    "# Load Dependencies\n",
    "import matplotlib.pyplot as plt\n",
    "\n",
    "import torch\n",
    "\n",
    "import pyro\n",
    "import pyro.distributions as dist\n",
    "# from pyro.optim import Adam\n",
    "\n",
    "import pyciemss.utils as utils\n",
    "\n",
    "import warnings\n",
    "warnings.filterwarnings('ignore')"
   ]
  },
  {
   "cell_type": "code",
   "execution_count": 134,
   "metadata": {},
   "outputs": [],
   "source": [
    "from pyciemss.ODE.frontend import compile_pp\n",
    "from pyciemss.ODE.models import SVIIvR"
   ]
  },
  {
   "cell_type": "code",
   "execution_count": 144,
   "metadata": {},
   "outputs": [],
   "source": [
    "# Setup Parameters\n",
    "\n",
    "observed_tspan = utils.get_tspan(1, 7, 7)\n",
    "new_tspan = utils.get_tspan(7, 89, 83)\n",
    "full_tspan = utils.get_tspan(1, 89, 89)\n",
    "\n",
    "num_samples = 500\n",
    "\n",
    "# Total population, N.\n",
    "N = 1.0\n",
    "# Initial number of infected and recovered individuals, I0 and R0.\n",
    "V0, I0, Iv0, R0 = 0., 81.0/100000, 0., 0.\n",
    "# Everyone else, S0, is susceptible to infection initially.\n",
    "S0 = N - I0 - Iv0 - V0 - R0\n",
    "\n",
    "# 18 - 24 year olds\n",
    "I_obs = torch.tensor([81.47, 84.3, 86.44, 89.66, 93.32, 94.1, 96.31])/100000\n",
    "\n",
    "initial_state = tuple(torch.as_tensor(s) for s in  (S0, V0, I0, Iv0, R0))\n",
    "final_observed_state = tuple(torch.as_tensor(s) for s in  (S0, V0, I_obs[-1], Iv0, R0))"
   ]
  },
  {
   "cell_type": "code",
   "execution_count": 145,
   "metadata": {},
   "outputs": [],
   "source": [
    "model = SVIIvR(N)"
   ]
  },
  {
   "cell_type": "code",
   "execution_count": 146,
   "metadata": {},
   "outputs": [],
   "source": [
    "solution, observations = model(initial_state, full_tspan)"
   ]
  },
  {
   "cell_type": "code",
   "execution_count": 147,
   "metadata": {},
   "outputs": [],
   "source": [
    "import json\n",
    "from pyciemss.utils import petri_utils\n",
    "\n",
    "prior_path = \"test/scenario2/SVIIvR_prior.json\"\n",
    "\n",
    "with open(prior_path) as f:\n",
    "    prior_json = json.load(f)\n",
    "\n",
    "# petri_path = \"test/scenario2/SVIIvR.json\"\n",
    "petri_path = \"test/models/starter_kit_examples/CHIME-SIR/model_petri.json\"\n",
    "petri_G = utils.load(petri_path)\n",
    "petri_G = utils.add_state_indicies(petri_G)\n",
    "\n",
    "model_compiled = compile_pp(petri_G, prior_json)"
   ]
  },
  {
   "cell_type": "code",
   "execution_count": 148,
   "metadata": {},
   "outputs": [
    {
     "data": {
      "text/plain": [
       "(tensor(-9.8193e-05), tensor(-0.0002), tensor(0.0003))"
      ]
     },
     "execution_count": 148,
     "metadata": {},
     "output_type": "execute_result"
    }
   ],
   "source": [
    "model_compiled.param_prior()\n",
    "test_state = tuple(torch.as_tensor(s) for s in  (S0, I0, R0))\n",
    "model_compiled.deriv(0., test_state)"
   ]
  },
  {
   "cell_type": "code",
   "execution_count": 149,
   "metadata": {},
   "outputs": [],
   "source": [
    "from pyro.poutine import trace\n",
    "\n",
    "tr = trace(model).get_trace(initial_state, full_tspan)\n",
    "tr_compiled = trace(model_compiled).get_trace(test_state, utils.get_tspan(1, 3, 3))\n"
   ]
  },
  {
   "cell_type": "code",
   "execution_count": 150,
   "metadata": {},
   "outputs": [],
   "source": [
    "# tr.nodes"
   ]
  },
  {
   "cell_type": "code",
   "execution_count": 151,
   "metadata": {},
   "outputs": [],
   "source": [
    "# tr_compiled.nodes"
   ]
  },
  {
   "cell_type": "code",
   "execution_count": 154,
   "metadata": {},
   "outputs": [],
   "source": [
    "solution, observations = model_compiled(test_state, utils.get_tspan(1, 100, 100))"
   ]
  },
  {
   "cell_type": "code",
   "execution_count": 157,
   "metadata": {},
   "outputs": [
    {
     "data": {
      "text/plain": [
       "tensor([0.0000e+00, 1.6369e-04, 3.4204e-04, 5.3633e-04, 7.4797e-04, 9.7851e-04,\n",
       "        1.2296e-03, 1.5031e-03, 1.8009e-03, 2.1251e-03, 2.4782e-03, 2.8625e-03,\n",
       "        3.2808e-03, 3.7360e-03, 4.2313e-03, 4.7702e-03, 5.3563e-03, 5.9938e-03,\n",
       "        6.6868e-03, 7.4401e-03, 8.2587e-03, 9.1480e-03, 1.0114e-02, 1.1162e-02,\n",
       "        1.2300e-02, 1.3535e-02, 1.4873e-02, 1.6324e-02, 1.7896e-02, 1.9598e-02,\n",
       "        2.1439e-02, 2.3430e-02, 2.5581e-02, 2.7905e-02, 3.0411e-02, 3.3113e-02,\n",
       "        3.6023e-02, 3.9153e-02, 4.2517e-02, 4.6129e-02, 5.0001e-02, 5.4146e-02,\n",
       "        5.8578e-02, 6.3309e-02, 6.8352e-02, 7.3717e-02, 7.9415e-02, 8.5455e-02,\n",
       "        9.1844e-02, 9.8588e-02, 1.0569e-01, 1.1315e-01, 1.2098e-01, 1.2915e-01,\n",
       "        1.3768e-01, 1.4654e-01, 1.5573e-01, 1.6523e-01, 1.7502e-01, 1.8508e-01,\n",
       "        1.9538e-01, 2.0589e-01, 2.1659e-01, 2.2744e-01, 2.3841e-01, 2.4947e-01,\n",
       "        2.6056e-01, 2.7167e-01, 2.8275e-01, 2.9377e-01, 3.0470e-01, 3.1549e-01,\n",
       "        3.2613e-01, 3.3658e-01, 3.4681e-01, 3.5680e-01, 3.6654e-01, 3.7600e-01,\n",
       "        3.8517e-01, 3.9403e-01, 4.0258e-01, 4.1080e-01, 4.1870e-01, 4.2627e-01,\n",
       "        4.3352e-01, 4.4043e-01, 4.4703e-01, 4.5330e-01, 4.5926e-01, 4.6492e-01,\n",
       "        4.7028e-01, 4.7535e-01, 4.8015e-01, 4.8467e-01, 4.8894e-01, 4.9296e-01,\n",
       "        4.9675e-01, 5.0031e-01, 5.0365e-01, 5.0679e-01])"
      ]
     },
     "execution_count": 157,
     "metadata": {},
     "output_type": "execute_result"
    }
   ],
   "source": [
    "solution[2]"
   ]
  },
  {
   "cell_type": "code",
   "execution_count": null,
   "metadata": {},
   "outputs": [],
   "source": []
  }
 ],
 "metadata": {
  "kernelspec": {
   "display_name": "askem",
   "language": "python",
   "name": "python3"
  },
  "language_info": {
   "codemirror_mode": {
    "name": "ipython",
    "version": 3
   },
   "file_extension": ".py",
   "mimetype": "text/x-python",
   "name": "python",
   "nbconvert_exporter": "python",
   "pygments_lexer": "ipython3",
   "version": "3.10.8"
  },
  "orig_nbformat": 4,
  "vscode": {
   "interpreter": {
    "hash": "a388b8e925d47aa3c3c9a0bec6bdf52e1802c3e32a205fdc5bc164d020306dfb"
   }
  }
 },
 "nbformat": 4,
 "nbformat_minor": 2
}
