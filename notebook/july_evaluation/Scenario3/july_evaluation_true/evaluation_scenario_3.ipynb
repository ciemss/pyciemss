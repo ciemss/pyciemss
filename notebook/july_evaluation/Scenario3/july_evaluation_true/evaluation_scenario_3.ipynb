{
 "cells": [
  {
   "cell_type": "code",
   "execution_count": 1,
   "metadata": {},
   "outputs": [],
   "source": [
    "import os\n",
    "from pyciemss.PetriNetODE.interfaces import (\n",
    "    load_and_sample_petri_model,\n",
    "    load_and_calibrate_and_sample_petri_model,\n",
    "    load_and_optimize_and_sample_petri_model,\n",
    "    load_and_calibrate_and_optimize_and_sample_petri_model\n",
    ")\n",
    "import numpy as np\n",
    "from pyciemss.visuals import plots"
   ]
  },
  {
   "cell_type": "code",
   "execution_count": 2,
   "metadata": {},
   "outputs": [],
   "source": [
    "ASKENET_PATH = \"https://data-service.staging.terarium.ai/models/ada3d20a-cbc8-4bbd-b6b3-76446fb3cfdb\""
   ]
  },
  {
   "cell_type": "code",
   "execution_count": 54,
   "metadata": {},
   "outputs": [],
   "source": [
    "from mira.sources.askenet.petrinet import model_from_url\n",
    "from mira.metamodel import Distribution\n",
    "\n",
    "model = model_from_url(ASKENET_PATH)\n",
    "\n",
    "model.parameters['lambda'].value = 9.06e-8\n",
    "model.parameters['lambda'].distribution = Distribution(type=\"Uniform1\", parameters={\"minimum\": 0, \"maximum\":2 * 9.06e-8})\n",
    "# model.parameters['lambda'].value\n",
    "model.parameters['gamma'].value = 0.125\n",
    "model.parameters['beta'].value = 44852600\n",
    "\n",
    "model.initials['E'].value = 1182"
   ]
  },
  {
   "cell_type": "code",
   "execution_count": 55,
   "metadata": {},
   "outputs": [],
   "source": [
    "num_samples = 3\n",
    "timepoints = [i for i in range(1, 100, 1)]\n",
    "\n",
    "# Run sampling w/o an intervention\n",
    "result = load_and_sample_petri_model(model, num_samples, timepoints=timepoints, method=\"euler\")"
   ]
  },
  {
   "cell_type": "code",
   "execution_count": 56,
   "metadata": {},
   "outputs": [],
   "source": [
    "# Display the top 300 cells of this dataframe\n",
    "import pandas as pd\n",
    "\n",
    "data_path = \"notebook/july_evaluation_true/dataset.csv\"\n",
    "data = pd.read_csv(data_path, index_col=\"time\")\n",
    "data[\"V\"] = data['viral_load'].cumsum()"
   ]
  },
  {
   "cell_type": "code",
   "execution_count": 57,
   "metadata": {},
   "outputs": [],
   "source": [
    "data.drop(columns=[\"viral_load\"], inplace=True)"
   ]
  },
  {
   "cell_type": "code",
   "execution_count": 58,
   "metadata": {},
   "outputs": [
    {
     "data": {
      "text/html": [
       "<div>\n",
       "<style scoped>\n",
       "    .dataframe tbody tr th:only-of-type {\n",
       "        vertical-align: middle;\n",
       "    }\n",
       "\n",
       "    .dataframe tbody tr th {\n",
       "        vertical-align: top;\n",
       "    }\n",
       "\n",
       "    .dataframe thead th {\n",
       "        text-align: right;\n",
       "    }\n",
       "</style>\n",
       "<table border=\"1\" class=\"dataframe\">\n",
       "  <thead>\n",
       "    <tr style=\"text-align: right;\">\n",
       "      <th></th>\n",
       "      <th>V</th>\n",
       "    </tr>\n",
       "    <tr>\n",
       "      <th>time</th>\n",
       "      <th></th>\n",
       "    </tr>\n",
       "  </thead>\n",
       "  <tbody>\n",
       "    <tr>\n",
       "      <th>0</th>\n",
       "      <td>3.424864e+13</td>\n",
       "    </tr>\n",
       "    <tr>\n",
       "      <th>1</th>\n",
       "      <td>7.482611e+13</td>\n",
       "    </tr>\n",
       "    <tr>\n",
       "      <th>2</th>\n",
       "      <td>1.107730e+14</td>\n",
       "    </tr>\n",
       "    <tr>\n",
       "      <th>3</th>\n",
       "      <td>1.455132e+14</td>\n",
       "    </tr>\n",
       "    <tr>\n",
       "      <th>4</th>\n",
       "      <td>1.789461e+14</td>\n",
       "    </tr>\n",
       "    <tr>\n",
       "      <th>...</th>\n",
       "      <td>...</td>\n",
       "    </tr>\n",
       "    <tr>\n",
       "      <th>221</th>\n",
       "      <td>1.256720e+17</td>\n",
       "    </tr>\n",
       "    <tr>\n",
       "      <th>222</th>\n",
       "      <td>1.257698e+17</td>\n",
       "    </tr>\n",
       "    <tr>\n",
       "      <th>223</th>\n",
       "      <td>1.258096e+17</td>\n",
       "    </tr>\n",
       "    <tr>\n",
       "      <th>224</th>\n",
       "      <td>1.258676e+17</td>\n",
       "    </tr>\n",
       "    <tr>\n",
       "      <th>225</th>\n",
       "      <td>1.259472e+17</td>\n",
       "    </tr>\n",
       "  </tbody>\n",
       "</table>\n",
       "<p>226 rows × 1 columns</p>\n",
       "</div>"
      ],
      "text/plain": [
       "                 V\n",
       "time              \n",
       "0     3.424864e+13\n",
       "1     7.482611e+13\n",
       "2     1.107730e+14\n",
       "3     1.455132e+14\n",
       "4     1.789461e+14\n",
       "...            ...\n",
       "221   1.256720e+17\n",
       "222   1.257698e+17\n",
       "223   1.258096e+17\n",
       "224   1.258676e+17\n",
       "225   1.259472e+17\n",
       "\n",
       "[226 rows x 1 columns]"
      ]
     },
     "execution_count": 58,
     "metadata": {},
     "output_type": "execute_result"
    }
   ],
   "source": [
    "data"
   ]
  },
  {
   "cell_type": "code",
   "execution_count": 66,
   "metadata": {},
   "outputs": [],
   "source": [
    "data_end_point = 77\n",
    "\n",
    "train_path = \"notebook/july_evaluation_true/processed_dataset_train.csv\"\n",
    "test_path = \"notebook/july_evaluation_true/processed_dataset_test.csv\"\n",
    "data[:data_end_point].to_csv(train_path)\n",
    "data[data_end_point:].to_csv(test_path)"
   ]
  },
  {
   "cell_type": "code",
   "execution_count": 60,
   "metadata": {},
   "outputs": [
    {
     "name": "stderr",
     "output_type": "stream",
     "text": [
      "/Users/sam-basis/opt/anaconda3/envs/pyciemss-deriv/lib/python3.10/site-packages/pandas/core/arraylike.py:396: RuntimeWarning: divide by zero encountered in log10\n",
      "  result = getattr(ufunc, method)(*inputs, **kwargs)\n"
     ]
    },
    {
     "data": {
      "text/plain": [
       "Text(0.5, 0, 'timepoint_id')"
      ]
     },
     "execution_count": 60,
     "metadata": {},
     "output_type": "execute_result"
    },
    {
     "data": {
      "image/png": "[encoded data removed]",
      "text/plain": [
       "<Figure size 640x480 with 1 Axes>"
      ]
     },
     "metadata": {},
     "output_type": "display_data"
    }
   ],
   "source": [
    "import matplotlib.pyplot as plt\n",
    "import numpy as np\n",
    "\n",
    "\n",
    "plt.scatter(result['data']['timepoint_id'], np.log10(result['data']['V_sol']), color='red', label=\"simulation\")\n",
    "plt.scatter(data.index, np.log10(data['V']), color='blue')\n",
    "plt.ylabel('log(V_sol)')\n",
    "plt.xlabel('timepoint_id')"
   ]
  },
  {
   "cell_type": "code",
   "execution_count": 68,
   "metadata": {},
   "outputs": [
    {
     "name": "stderr",
     "output_type": "stream",
     "text": [
      "/Users/sam-basis/Desktop/Research/pyciemss/src/pyciemss/PetriNetODE/interfaces.py:753: UserWarning: Observation ObservationEvent(time=1.0317422493244521e-05, observation={'V': tensor(3.4249e+13)}) is not in the range [0, 2301182.0]. This may be an error!\n",
      "  warnings.warn(f\"Observation {obs} is not in the range [0, {petri.total_population}]. This may be an error!\")\n",
      "/Users/sam-basis/Desktop/Research/pyciemss/src/pyciemss/PetriNetODE/interfaces.py:753: UserWarning: Observation ObservationEvent(time=1.0000067949295044, observation={'V': tensor(7.4826e+13)}) is not in the range [0, 2301182.0]. This may be an error!\n",
      "  warnings.warn(f\"Observation {obs} is not in the range [0, {petri.total_population}]. This may be an error!\")\n",
      "/Users/sam-basis/Desktop/Research/pyciemss/src/pyciemss/PetriNetODE/interfaces.py:753: UserWarning: Observation ObservationEvent(time=2.0000014305114746, observation={'V': tensor(1.1077e+14)}) is not in the range [0, 2301182.0]. This may be an error!\n",
      "  warnings.warn(f\"Observation {obs} is not in the range [0, {petri.total_population}]. This may be an error!\")\n",
      "/Users/sam-basis/Desktop/Research/pyciemss/src/pyciemss/PetriNetODE/interfaces.py:753: UserWarning: Observation ObservationEvent(time=3.0000038146972656, observation={'V': tensor(1.4551e+14)}) is not in the range [0, 2301182.0]. This may be an error!\n",
      "  warnings.warn(f\"Observation {obs} is not in the range [0, {petri.total_population}]. This may be an error!\")\n",
      "/Users/sam-basis/Desktop/Research/pyciemss/src/pyciemss/PetriNetODE/interfaces.py:753: UserWarning: Observation ObservationEvent(time=4.000003337860107, observation={'V': tensor(1.7895e+14)}) is not in the range [0, 2301182.0]. This may be an error!\n",
      "  warnings.warn(f\"Observation {obs} is not in the range [0, {petri.total_population}]. This may be an error!\")\n",
      "/Users/sam-basis/Desktop/Research/pyciemss/src/pyciemss/PetriNetODE/interfaces.py:753: UserWarning: Observation ObservationEvent(time=5.000009536743164, observation={'V': tensor(2.1261e+14)}) is not in the range [0, 2301182.0]. This may be an error!\n",
      "  warnings.warn(f\"Observation {obs} is not in the range [0, {petri.total_population}]. This may be an error!\")\n",
      "/Users/sam-basis/Desktop/Research/pyciemss/src/pyciemss/PetriNetODE/interfaces.py:753: UserWarning: Observation ObservationEvent(time=6.000001430511475, observation={'V': tensor(2.5191e+14)}) is not in the range [0, 2301182.0]. This may be an error!\n",
      "  warnings.warn(f\"Observation {obs} is not in the range [0, {petri.total_population}]. This may be an error!\")\n",
      "/Users/sam-basis/Desktop/Research/pyciemss/src/pyciemss/PetriNetODE/interfaces.py:753: UserWarning: Observation ObservationEvent(time=7.000006198883057, observation={'V': tensor(2.9729e+14)}) is not in the range [0, 2301182.0]. This may be an error!\n",
      "  warnings.warn(f\"Observation {obs} is not in the range [0, {petri.total_population}]. This may be an error!\")\n",
      "/Users/sam-basis/Desktop/Research/pyciemss/src/pyciemss/PetriNetODE/interfaces.py:753: UserWarning: Observation ObservationEvent(time=8.00000286102295, observation={'V': tensor(3.4236e+14)}) is not in the range [0, 2301182.0]. This may be an error!\n",
      "  warnings.warn(f\"Observation {obs} is not in the range [0, {petri.total_population}]. This may be an error!\")\n",
      "/Users/sam-basis/Desktop/Research/pyciemss/src/pyciemss/PetriNetODE/interfaces.py:753: UserWarning: Observation ObservationEvent(time=9.000007629394531, observation={'V': tensor(3.8406e+14)}) is not in the range [0, 2301182.0]. This may be an error!\n",
      "  warnings.warn(f\"Observation {obs} is not in the range [0, {petri.total_population}]. This may be an error!\")\n",
      "/Users/sam-basis/Desktop/Research/pyciemss/src/pyciemss/PetriNetODE/interfaces.py:753: UserWarning: Observation ObservationEvent(time=10.000008583068848, observation={'V': tensor(4.2410e+14)}) is not in the range [0, 2301182.0]. This may be an error!\n",
      "  warnings.warn(f\"Observation {obs} is not in the range [0, {petri.total_population}]. This may be an error!\")\n",
      "/Users/sam-basis/Desktop/Research/pyciemss/src/pyciemss/PetriNetODE/interfaces.py:753: UserWarning: Observation ObservationEvent(time=11.00000286102295, observation={'V': tensor(4.6185e+14)}) is not in the range [0, 2301182.0]. This may be an error!\n",
      "  warnings.warn(f\"Observation {obs} is not in the range [0, {petri.total_population}]. This may be an error!\")\n",
      "/Users/sam-basis/Desktop/Research/pyciemss/src/pyciemss/PetriNetODE/interfaces.py:753: UserWarning: Observation ObservationEvent(time=12.000006675720215, observation={'V': tensor(4.9830e+14)}) is not in the range [0, 2301182.0]. This may be an error!\n",
      "  warnings.warn(f\"Observation {obs} is not in the range [0, {petri.total_population}]. This may be an error!\")\n",
      "/Users/sam-basis/Desktop/Research/pyciemss/src/pyciemss/PetriNetODE/interfaces.py:753: UserWarning: Observation ObservationEvent(time=13.00001049041748, observation={'V': tensor(5.4822e+14)}) is not in the range [0, 2301182.0]. This may be an error!\n",
      "  warnings.warn(f\"Observation {obs} is not in the range [0, {petri.total_population}]. This may be an error!\")\n",
      "/Users/sam-basis/Desktop/Research/pyciemss/src/pyciemss/PetriNetODE/interfaces.py:753: UserWarning: Observation ObservationEvent(time=14.000007629394531, observation={'V': tensor(6.7564e+14)}) is not in the range [0, 2301182.0]. This may be an error!\n",
      "  warnings.warn(f\"Observation {obs} is not in the range [0, {petri.total_population}]. This may be an error!\")\n",
      "/Users/sam-basis/Desktop/Research/pyciemss/src/pyciemss/PetriNetODE/interfaces.py:753: UserWarning: Observation ObservationEvent(time=15.000004768371582, observation={'V': tensor(7.5156e+14)}) is not in the range [0, 2301182.0]. This may be an error!\n",
      "  warnings.warn(f\"Observation {obs} is not in the range [0, {petri.total_population}]. This may be an error!\")\n",
      "/Users/sam-basis/Desktop/Research/pyciemss/src/pyciemss/PetriNetODE/interfaces.py:753: UserWarning: Observation ObservationEvent(time=16.00000762939453, observation={'V': tensor(8.2990e+14)}) is not in the range [0, 2301182.0]. This may be an error!\n",
      "  warnings.warn(f\"Observation {obs} is not in the range [0, {petri.total_population}]. This may be an error!\")\n",
      "/Users/sam-basis/Desktop/Research/pyciemss/src/pyciemss/PetriNetODE/interfaces.py:753: UserWarning: Observation ObservationEvent(time=17.00000762939453, observation={'V': tensor(1.0463e+15)}) is not in the range [0, 2301182.0]. This may be an error!\n",
      "  warnings.warn(f\"Observation {obs} is not in the range [0, {petri.total_population}]. This may be an error!\")\n",
      "/Users/sam-basis/Desktop/Research/pyciemss/src/pyciemss/PetriNetODE/interfaces.py:753: UserWarning: Observation ObservationEvent(time=18.00000762939453, observation={'V': tensor(1.2959e+15)}) is not in the range [0, 2301182.0]. This may be an error!\n",
      "  warnings.warn(f\"Observation {obs} is not in the range [0, {petri.total_population}]. This may be an error!\")\n",
      "/Users/sam-basis/Desktop/Research/pyciemss/src/pyciemss/PetriNetODE/interfaces.py:753: UserWarning: Observation ObservationEvent(time=19.0000057220459, observation={'V': tensor(1.4606e+15)}) is not in the range [0, 2301182.0]. This may be an error!\n",
      "  warnings.warn(f\"Observation {obs} is not in the range [0, {petri.total_population}]. This may be an error!\")\n",
      "/Users/sam-basis/Desktop/Research/pyciemss/src/pyciemss/PetriNetODE/interfaces.py:753: UserWarning: Observation ObservationEvent(time=20.0000057220459, observation={'V': tensor(1.5923e+15)}) is not in the range [0, 2301182.0]. This may be an error!\n",
      "  warnings.warn(f\"Observation {obs} is not in the range [0, {petri.total_population}]. This may be an error!\")\n",
      "/Users/sam-basis/Desktop/Research/pyciemss/src/pyciemss/PetriNetODE/interfaces.py:753: UserWarning: Observation ObservationEvent(time=21.000003814697266, observation={'V': tensor(1.7409e+15)}) is not in the range [0, 2301182.0]. This may be an error!\n",
      "  warnings.warn(f\"Observation {obs} is not in the range [0, {petri.total_population}]. This may be an error!\")\n",
      "/Users/sam-basis/Desktop/Research/pyciemss/src/pyciemss/PetriNetODE/interfaces.py:753: UserWarning: Observation ObservationEvent(time=22.00000762939453, observation={'V': tensor(1.8826e+15)}) is not in the range [0, 2301182.0]. This may be an error!\n",
      "  warnings.warn(f\"Observation {obs} is not in the range [0, {petri.total_population}]. This may be an error!\")\n",
      "/Users/sam-basis/Desktop/Research/pyciemss/src/pyciemss/PetriNetODE/interfaces.py:753: UserWarning: Observation ObservationEvent(time=23.0000057220459, observation={'V': tensor(1.9720e+15)}) is not in the range [0, 2301182.0]. This may be an error!\n",
      "  warnings.warn(f\"Observation {obs} is not in the range [0, {petri.total_population}]. This may be an error!\")\n",
      "/Users/sam-basis/Desktop/Research/pyciemss/src/pyciemss/PetriNetODE/interfaces.py:753: UserWarning: Observation ObservationEvent(time=24.000003814697266, observation={'V': tensor(2.0714e+15)}) is not in the range [0, 2301182.0]. This may be an error!\n",
      "  warnings.warn(f\"Observation {obs} is not in the range [0, {petri.total_population}]. This may be an error!\")\n",
      "/Users/sam-basis/Desktop/Research/pyciemss/src/pyciemss/PetriNetODE/interfaces.py:753: UserWarning: Observation ObservationEvent(time=25.00000762939453, observation={'V': tensor(2.1901e+15)}) is not in the range [0, 2301182.0]. This may be an error!\n",
      "  warnings.warn(f\"Observation {obs} is not in the range [0, {petri.total_population}]. This may be an error!\")\n",
      "/Users/sam-basis/Desktop/Research/pyciemss/src/pyciemss/PetriNetODE/interfaces.py:753: UserWarning: Observation ObservationEvent(time=26.00000762939453, observation={'V': tensor(2.2843e+15)}) is not in the range [0, 2301182.0]. This may be an error!\n",
      "  warnings.warn(f\"Observation {obs} is not in the range [0, {petri.total_population}]. This may be an error!\")\n",
      "/Users/sam-basis/Desktop/Research/pyciemss/src/pyciemss/PetriNetODE/interfaces.py:753: UserWarning: Observation ObservationEvent(time=27.000009536743164, observation={'V': tensor(2.4015e+15)}) is not in the range [0, 2301182.0]. This may be an error!\n",
      "  warnings.warn(f\"Observation {obs} is not in the range [0, {petri.total_population}]. This may be an error!\")\n",
      "/Users/sam-basis/Desktop/Research/pyciemss/src/pyciemss/PetriNetODE/interfaces.py:753: UserWarning: Observation ObservationEvent(time=28.00000762939453, observation={'V': tensor(2.5390e+15)}) is not in the range [0, 2301182.0]. This may be an error!\n",
      "  warnings.warn(f\"Observation {obs} is not in the range [0, {petri.total_population}]. This may be an error!\")\n",
      "/Users/sam-basis/Desktop/Research/pyciemss/src/pyciemss/PetriNetODE/interfaces.py:753: UserWarning: Observation ObservationEvent(time=29.000003814697266, observation={'V': tensor(2.6234e+15)}) is not in the range [0, 2301182.0]. This may be an error!\n",
      "  warnings.warn(f\"Observation {obs} is not in the range [0, {petri.total_population}]. This may be an error!\")\n",
      "/Users/sam-basis/Desktop/Research/pyciemss/src/pyciemss/PetriNetODE/interfaces.py:753: UserWarning: Observation ObservationEvent(time=30.000009536743164, observation={'V': tensor(2.8688e+15)}) is not in the range [0, 2301182.0]. This may be an error!\n",
      "  warnings.warn(f\"Observation {obs} is not in the range [0, {petri.total_population}]. This may be an error!\")\n",
      "/Users/sam-basis/Desktop/Research/pyciemss/src/pyciemss/PetriNetODE/interfaces.py:753: UserWarning: Observation ObservationEvent(time=31.000001907348633, observation={'V': tensor(2.9912e+15)}) is not in the range [0, 2301182.0]. This may be an error!\n",
      "  warnings.warn(f\"Observation {obs} is not in the range [0, {petri.total_population}]. This may be an error!\")\n",
      "/Users/sam-basis/Desktop/Research/pyciemss/src/pyciemss/PetriNetODE/interfaces.py:753: UserWarning: Observation ObservationEvent(time=32.0000114440918, observation={'V': tensor(3.1290e+15)}) is not in the range [0, 2301182.0]. This may be an error!\n",
      "  warnings.warn(f\"Observation {obs} is not in the range [0, {petri.total_population}]. This may be an error!\")\n",
      "/Users/sam-basis/Desktop/Research/pyciemss/src/pyciemss/PetriNetODE/interfaces.py:753: UserWarning: Observation ObservationEvent(time=33.000003814697266, observation={'V': tensor(3.4039e+15)}) is not in the range [0, 2301182.0]. This may be an error!\n",
      "  warnings.warn(f\"Observation {obs} is not in the range [0, {petri.total_population}]. This may be an error!\")\n",
      "/Users/sam-basis/Desktop/Research/pyciemss/src/pyciemss/PetriNetODE/interfaces.py:753: UserWarning: Observation ObservationEvent(time=34.0, observation={'V': tensor(3.7185e+15)}) is not in the range [0, 2301182.0]. This may be an error!\n",
      "  warnings.warn(f\"Observation {obs} is not in the range [0, {petri.total_population}]. This may be an error!\")\n",
      "/Users/sam-basis/Desktop/Research/pyciemss/src/pyciemss/PetriNetODE/interfaces.py:753: UserWarning: Observation ObservationEvent(time=35.00000762939453, observation={'V': tensor(3.8941e+15)}) is not in the range [0, 2301182.0]. This may be an error!\n",
      "  warnings.warn(f\"Observation {obs} is not in the range [0, {petri.total_population}]. This may be an error!\")\n",
      "/Users/sam-basis/Desktop/Research/pyciemss/src/pyciemss/PetriNetODE/interfaces.py:753: UserWarning: Observation ObservationEvent(time=36.000003814697266, observation={'V': tensor(4.1900e+15)}) is not in the range [0, 2301182.0]. This may be an error!\n",
      "  warnings.warn(f\"Observation {obs} is not in the range [0, {petri.total_population}]. This may be an error!\")\n",
      "/Users/sam-basis/Desktop/Research/pyciemss/src/pyciemss/PetriNetODE/interfaces.py:753: UserWarning: Observation ObservationEvent(time=37.000003814697266, observation={'V': tensor(4.3792e+15)}) is not in the range [0, 2301182.0]. This may be an error!\n",
      "  warnings.warn(f\"Observation {obs} is not in the range [0, {petri.total_population}]. This may be an error!\")\n",
      "/Users/sam-basis/Desktop/Research/pyciemss/src/pyciemss/PetriNetODE/interfaces.py:753: UserWarning: Observation ObservationEvent(time=38.0000114440918, observation={'V': tensor(4.5850e+15)}) is not in the range [0, 2301182.0]. This may be an error!\n",
      "  warnings.warn(f\"Observation {obs} is not in the range [0, {petri.total_population}]. This may be an error!\")\n",
      "/Users/sam-basis/Desktop/Research/pyciemss/src/pyciemss/PetriNetODE/interfaces.py:753: UserWarning: Observation ObservationEvent(time=39.000003814697266, observation={'V': tensor(4.8427e+15)}) is not in the range [0, 2301182.0]. This may be an error!\n",
      "  warnings.warn(f\"Observation {obs} is not in the range [0, {petri.total_population}]. This may be an error!\")\n",
      "/Users/sam-basis/Desktop/Research/pyciemss/src/pyciemss/PetriNetODE/interfaces.py:753: UserWarning: Observation ObservationEvent(time=40.00000762939453, observation={'V': tensor(5.0570e+15)}) is not in the range [0, 2301182.0]. This may be an error!\n",
      "  warnings.warn(f\"Observation {obs} is not in the range [0, {petri.total_population}]. This may be an error!\")\n",
      "/Users/sam-basis/Desktop/Research/pyciemss/src/pyciemss/PetriNetODE/interfaces.py:753: UserWarning: Observation ObservationEvent(time=41.00000762939453, observation={'V': tensor(5.3343e+15)}) is not in the range [0, 2301182.0]. This may be an error!\n",
      "  warnings.warn(f\"Observation {obs} is not in the range [0, {petri.total_population}]. This may be an error!\")\n",
      "/Users/sam-basis/Desktop/Research/pyciemss/src/pyciemss/PetriNetODE/interfaces.py:753: UserWarning: Observation ObservationEvent(time=42.00000762939453, observation={'V': tensor(5.6135e+15)}) is not in the range [0, 2301182.0]. This may be an error!\n",
      "  warnings.warn(f\"Observation {obs} is not in the range [0, {petri.total_population}]. This may be an error!\")\n",
      "/Users/sam-basis/Desktop/Research/pyciemss/src/pyciemss/PetriNetODE/interfaces.py:753: UserWarning: Observation ObservationEvent(time=43.000003814697266, observation={'V': tensor(5.9007e+15)}) is not in the range [0, 2301182.0]. This may be an error!\n",
      "  warnings.warn(f\"Observation {obs} is not in the range [0, {petri.total_population}]. This may be an error!\")\n",
      "/Users/sam-basis/Desktop/Research/pyciemss/src/pyciemss/PetriNetODE/interfaces.py:753: UserWarning: Observation ObservationEvent(time=44.00000762939453, observation={'V': tensor(6.1378e+15)}) is not in the range [0, 2301182.0]. This may be an error!\n",
      "  warnings.warn(f\"Observation {obs} is not in the range [0, {petri.total_population}]. This may be an error!\")\n",
      "/Users/sam-basis/Desktop/Research/pyciemss/src/pyciemss/PetriNetODE/interfaces.py:753: UserWarning: Observation ObservationEvent(time=45.000003814697266, observation={'V': tensor(6.4558e+15)}) is not in the range [0, 2301182.0]. This may be an error!\n",
      "  warnings.warn(f\"Observation {obs} is not in the range [0, {petri.total_population}]. This may be an error!\")\n",
      "/Users/sam-basis/Desktop/Research/pyciemss/src/pyciemss/PetriNetODE/interfaces.py:753: UserWarning: Observation ObservationEvent(time=46.000003814697266, observation={'V': tensor(6.7379e+15)}) is not in the range [0, 2301182.0]. This may be an error!\n",
      "  warnings.warn(f\"Observation {obs} is not in the range [0, {petri.total_population}]. This may be an error!\")\n",
      "/Users/sam-basis/Desktop/Research/pyciemss/src/pyciemss/PetriNetODE/interfaces.py:753: UserWarning: Observation ObservationEvent(time=47.000003814697266, observation={'V': tensor(7.0820e+15)}) is not in the range [0, 2301182.0]. This may be an error!\n",
      "  warnings.warn(f\"Observation {obs} is not in the range [0, {petri.total_population}]. This may be an error!\")\n",
      "/Users/sam-basis/Desktop/Research/pyciemss/src/pyciemss/PetriNetODE/interfaces.py:753: UserWarning: Observation ObservationEvent(time=48.00000762939453, observation={'V': tensor(7.4736e+15)}) is not in the range [0, 2301182.0]. This may be an error!\n",
      "  warnings.warn(f\"Observation {obs} is not in the range [0, {petri.total_population}]. This may be an error!\")\n",
      "/Users/sam-basis/Desktop/Research/pyciemss/src/pyciemss/PetriNetODE/interfaces.py:753: UserWarning: Observation ObservationEvent(time=49.00000762939453, observation={'V': tensor(7.8022e+15)}) is not in the range [0, 2301182.0]. This may be an error!\n",
      "  warnings.warn(f\"Observation {obs} is not in the range [0, {petri.total_population}]. This may be an error!\")\n",
      "/Users/sam-basis/Desktop/Research/pyciemss/src/pyciemss/PetriNetODE/interfaces.py:753: UserWarning: Observation ObservationEvent(time=50.00000762939453, observation={'V': tensor(8.0643e+15)}) is not in the range [0, 2301182.0]. This may be an error!\n",
      "  warnings.warn(f\"Observation {obs} is not in the range [0, {petri.total_population}]. This may be an error!\")\n",
      "/Users/sam-basis/Desktop/Research/pyciemss/src/pyciemss/PetriNetODE/interfaces.py:753: UserWarning: Observation ObservationEvent(time=51.0, observation={'V': tensor(8.3505e+15)}) is not in the range [0, 2301182.0]. This may be an error!\n",
      "  warnings.warn(f\"Observation {obs} is not in the range [0, {petri.total_population}]. This may be an error!\")\n",
      "/Users/sam-basis/Desktop/Research/pyciemss/src/pyciemss/PetriNetODE/interfaces.py:753: UserWarning: Observation ObservationEvent(time=52.0, observation={'V': tensor(8.6209e+15)}) is not in the range [0, 2301182.0]. This may be an error!\n",
      "  warnings.warn(f\"Observation {obs} is not in the range [0, {petri.total_population}]. This may be an error!\")\n",
      "/Users/sam-basis/Desktop/Research/pyciemss/src/pyciemss/PetriNetODE/interfaces.py:753: UserWarning: Observation ObservationEvent(time=53.00000762939453, observation={'V': tensor(8.9678e+15)}) is not in the range [0, 2301182.0]. This may be an error!\n",
      "  warnings.warn(f\"Observation {obs} is not in the range [0, {petri.total_population}]. This may be an error!\")\n",
      "/Users/sam-basis/Desktop/Research/pyciemss/src/pyciemss/PetriNetODE/interfaces.py:753: UserWarning: Observation ObservationEvent(time=54.0000114440918, observation={'V': tensor(9.3474e+15)}) is not in the range [0, 2301182.0]. This may be an error!\n",
      "  warnings.warn(f\"Observation {obs} is not in the range [0, {petri.total_population}]. This may be an error!\")\n",
      "/Users/sam-basis/Desktop/Research/pyciemss/src/pyciemss/PetriNetODE/interfaces.py:753: UserWarning: Observation ObservationEvent(time=55.000003814697266, observation={'V': tensor(1.0401e+16)}) is not in the range [0, 2301182.0]. This may be an error!\n",
      "  warnings.warn(f\"Observation {obs} is not in the range [0, {petri.total_population}]. This may be an error!\")\n",
      "/Users/sam-basis/Desktop/Research/pyciemss/src/pyciemss/PetriNetODE/interfaces.py:753: UserWarning: Observation ObservationEvent(time=56.000003814697266, observation={'V': tensor(1.0924e+16)}) is not in the range [0, 2301182.0]. This may be an error!\n",
      "  warnings.warn(f\"Observation {obs} is not in the range [0, {petri.total_population}]. This may be an error!\")\n",
      "/Users/sam-basis/Desktop/Research/pyciemss/src/pyciemss/PetriNetODE/interfaces.py:753: UserWarning: Observation ObservationEvent(time=57.0, observation={'V': tensor(1.1705e+16)}) is not in the range [0, 2301182.0]. This may be an error!\n",
      "  warnings.warn(f\"Observation {obs} is not in the range [0, {petri.total_population}]. This may be an error!\")\n",
      "/Users/sam-basis/Desktop/Research/pyciemss/src/pyciemss/PetriNetODE/interfaces.py:753: UserWarning: Observation ObservationEvent(time=58.00000762939453, observation={'V': tensor(1.2359e+16)}) is not in the range [0, 2301182.0]. This may be an error!\n",
      "  warnings.warn(f\"Observation {obs} is not in the range [0, {petri.total_population}]. This may be an error!\")\n",
      "/Users/sam-basis/Desktop/Research/pyciemss/src/pyciemss/PetriNetODE/interfaces.py:753: UserWarning: Observation ObservationEvent(time=59.00000762939453, observation={'V': tensor(1.2987e+16)}) is not in the range [0, 2301182.0]. This may be an error!\n",
      "  warnings.warn(f\"Observation {obs} is not in the range [0, {petri.total_population}]. This may be an error!\")\n",
      "/Users/sam-basis/Desktop/Research/pyciemss/src/pyciemss/PetriNetODE/interfaces.py:753: UserWarning: Observation ObservationEvent(time=60.00000762939453, observation={'V': tensor(1.3551e+16)}) is not in the range [0, 2301182.0]. This may be an error!\n",
      "  warnings.warn(f\"Observation {obs} is not in the range [0, {petri.total_population}]. This may be an error!\")\n",
      "/Users/sam-basis/Desktop/Research/pyciemss/src/pyciemss/PetriNetODE/interfaces.py:753: UserWarning: Observation ObservationEvent(time=61.00000762939453, observation={'V': tensor(1.4248e+16)}) is not in the range [0, 2301182.0]. This may be an error!\n",
      "  warnings.warn(f\"Observation {obs} is not in the range [0, {petri.total_population}]. This may be an error!\")\n",
      "/Users/sam-basis/Desktop/Research/pyciemss/src/pyciemss/PetriNetODE/interfaces.py:753: UserWarning: Observation ObservationEvent(time=62.000003814697266, observation={'V': tensor(1.5848e+16)}) is not in the range [0, 2301182.0]. This may be an error!\n",
      "  warnings.warn(f\"Observation {obs} is not in the range [0, {petri.total_population}]. This may be an error!\")\n",
      "/Users/sam-basis/Desktop/Research/pyciemss/src/pyciemss/PetriNetODE/interfaces.py:753: UserWarning: Observation ObservationEvent(time=63.000003814697266, observation={'V': tensor(1.7039e+16)}) is not in the range [0, 2301182.0]. This may be an error!\n",
      "  warnings.warn(f\"Observation {obs} is not in the range [0, {petri.total_population}]. This may be an error!\")\n",
      "/Users/sam-basis/Desktop/Research/pyciemss/src/pyciemss/PetriNetODE/interfaces.py:753: UserWarning: Observation ObservationEvent(time=64.0, observation={'V': tensor(1.8261e+16)}) is not in the range [0, 2301182.0]. This may be an error!\n",
      "  warnings.warn(f\"Observation {obs} is not in the range [0, {petri.total_population}]. This may be an error!\")\n",
      "/Users/sam-basis/Desktop/Research/pyciemss/src/pyciemss/PetriNetODE/interfaces.py:753: UserWarning: Observation ObservationEvent(time=65.00000762939453, observation={'V': tensor(2.0210e+16)}) is not in the range [0, 2301182.0]. This may be an error!\n",
      "  warnings.warn(f\"Observation {obs} is not in the range [0, {petri.total_population}]. This may be an error!\")\n",
      "/Users/sam-basis/Desktop/Research/pyciemss/src/pyciemss/PetriNetODE/interfaces.py:753: UserWarning: Observation ObservationEvent(time=66.00000762939453, observation={'V': tensor(2.1265e+16)}) is not in the range [0, 2301182.0]. This may be an error!\n",
      "  warnings.warn(f\"Observation {obs} is not in the range [0, {petri.total_population}]. This may be an error!\")\n",
      "/Users/sam-basis/Desktop/Research/pyciemss/src/pyciemss/PetriNetODE/interfaces.py:753: UserWarning: Observation ObservationEvent(time=67.00000762939453, observation={'V': tensor(2.4405e+16)}) is not in the range [0, 2301182.0]. This may be an error!\n",
      "  warnings.warn(f\"Observation {obs} is not in the range [0, {petri.total_population}]. This may be an error!\")\n",
      "/Users/sam-basis/Desktop/Research/pyciemss/src/pyciemss/PetriNetODE/interfaces.py:753: UserWarning: Observation ObservationEvent(time=68.00000762939453, observation={'V': tensor(2.6893e+16)}) is not in the range [0, 2301182.0]. This may be an error!\n",
      "  warnings.warn(f\"Observation {obs} is not in the range [0, {petri.total_population}]. This may be an error!\")\n",
      "/Users/sam-basis/Desktop/Research/pyciemss/src/pyciemss/PetriNetODE/interfaces.py:753: UserWarning: Observation ObservationEvent(time=69.0, observation={'V': tensor(2.8283e+16)}) is not in the range [0, 2301182.0]. This may be an error!\n",
      "  warnings.warn(f\"Observation {obs} is not in the range [0, {petri.total_population}]. This may be an error!\")\n",
      "/Users/sam-basis/Desktop/Research/pyciemss/src/pyciemss/PetriNetODE/interfaces.py:753: UserWarning: Observation ObservationEvent(time=70.00000762939453, observation={'V': tensor(2.9394e+16)}) is not in the range [0, 2301182.0]. This may be an error!\n",
      "  warnings.warn(f\"Observation {obs} is not in the range [0, {petri.total_population}]. This may be an error!\")\n",
      "/Users/sam-basis/Desktop/Research/pyciemss/src/pyciemss/PetriNetODE/interfaces.py:753: UserWarning: Observation ObservationEvent(time=71.00000762939453, observation={'V': tensor(3.0685e+16)}) is not in the range [0, 2301182.0]. This may be an error!\n",
      "  warnings.warn(f\"Observation {obs} is not in the range [0, {petri.total_population}]. This may be an error!\")\n",
      "/Users/sam-basis/Desktop/Research/pyciemss/src/pyciemss/PetriNetODE/interfaces.py:753: UserWarning: Observation ObservationEvent(time=72.00000762939453, observation={'V': tensor(3.2085e+16)}) is not in the range [0, 2301182.0]. This may be an error!\n",
      "  warnings.warn(f\"Observation {obs} is not in the range [0, {petri.total_population}]. This may be an error!\")\n",
      "/Users/sam-basis/Desktop/Research/pyciemss/src/pyciemss/PetriNetODE/interfaces.py:753: UserWarning: Observation ObservationEvent(time=73.00000762939453, observation={'V': tensor(3.3217e+16)}) is not in the range [0, 2301182.0]. This may be an error!\n",
      "  warnings.warn(f\"Observation {obs} is not in the range [0, {petri.total_population}]. This may be an error!\")\n",
      "/Users/sam-basis/Desktop/Research/pyciemss/src/pyciemss/PetriNetODE/interfaces.py:753: UserWarning: Observation ObservationEvent(time=74.00000762939453, observation={'V': tensor(3.4992e+16)}) is not in the range [0, 2301182.0]. This may be an error!\n",
      "  warnings.warn(f\"Observation {obs} is not in the range [0, {petri.total_population}]. This may be an error!\")\n",
      "/Users/sam-basis/Desktop/Research/pyciemss/src/pyciemss/PetriNetODE/interfaces.py:753: UserWarning: Observation ObservationEvent(time=75.00000762939453, observation={'V': tensor(3.6598e+16)}) is not in the range [0, 2301182.0]. This may be an error!\n",
      "  warnings.warn(f\"Observation {obs} is not in the range [0, {petri.total_population}]. This may be an error!\")\n",
      "/Users/sam-basis/Desktop/Research/pyciemss/src/pyciemss/PetriNetODE/interfaces.py:753: UserWarning: Observation ObservationEvent(time=76.00000762939453, observation={'V': tensor(3.7223e+16)}) is not in the range [0, 2301182.0]. This may be an error!\n",
      "  warnings.warn(f\"Observation {obs} is not in the range [0, {petri.total_population}]. This may be an error!\")\n"
     ]
    },
    {
     "name": "stdout",
     "output_type": "stream",
     "text": [
      "iteration 0: loss = 4.430114867239715e+18\n",
      "iteration 25: loss = 4.430114317483901e+18\n",
      "iteration 50: loss = 4.430114042605994e+18\n",
      "iteration 75: loss = 4.430113767728087e+18\n"
     ]
    }
   ],
   "source": [
    "timepoints_cal = [i for i in range(1, 113, 1)]\n",
    "\n",
    "result_cal = load_and_calibrate_and_sample_petri_model(\n",
    "    model,\n",
    "    train_path,\n",
    "    num_samples,\n",
    "    num_iterations=100,\n",
    "    timepoints=timepoints,\n",
    "    verbose=True,\n",
    "    noise_scale=1.,\n",
    "    method=\"euler\"\n",
    ")"
   ]
  },
  {
   "cell_type": "code",
   "execution_count": 73,
   "metadata": {},
   "outputs": [
    {
     "data": {
      "text/plain": [
       "<matplotlib.legend.Legend at 0x7fad62694e50>"
      ]
     },
     "execution_count": 73,
     "metadata": {},
     "output_type": "execute_result"
    },
    {
     "data": {
      "image/png": "[encoded data removed]",
      "text/plain": [
       "<Figure size 640x480 with 1 Axes>"
      ]
     },
     "metadata": {},
     "output_type": "display_data"
    }
   ],
   "source": [
    "plt.scatter(result_cal['data']['timepoint_id'], np.log10(result['data']['V_sol']), color='red', label=\"calibrated\")\n",
    "plt.scatter(data.index, np.log10(data['V']), color='blue', label=\"data\")\n",
    "plt.vlines(x=data_end_point, ymin=12., ymax=17., color='green', label=\"end of training data\")\n",
    "plt.ylabel('log(V_sol)')\n",
    "plt.xlabel('timepoint_id')\n",
    "plt.legend()"
   ]
  },
  {
   "cell_type": "code",
   "execution_count": 86,
   "metadata": {},
   "outputs": [],
   "source": [
    "lambda_min = result_cal['data']['lambda_param'].min()\n",
    "lambda_max = result_cal['data']['lambda_param'].max()"
   ]
  },
  {
   "cell_type": "markdown",
   "metadata": {},
   "source": [
    "## STAGE 2"
   ]
  },
  {
   "cell_type": "code",
   "execution_count": 90,
   "metadata": {},
   "outputs": [],
   "source": [
    "from mira.sources.askenet.petrinet import model_from_url\n",
    "from mira.metamodel import Distribution\n",
    "\n",
    "model = model_from_url(ASKENET_PATH)\n",
    "\n",
    "model.parameters['lambda'].value = 9.06e-8\n",
    "model.parameters['lambda'].distribution = Distribution(type=\"Uniform1\", parameters={\"minimum\": lambda_min, \"maximum\":lambda_max})\n",
    "# model.parameters['lambda'].distribution = Distribution(type=\"Uniform1\", parameters={\"minimum\": 0, \"maximum\":2 * 9.06e-8})\n",
    "model.parameters['gamma'].value = 0.125\n",
    "model.parameters['beta'].value = 44852600\n",
    "model.parameters['alpha'].distribution = Distribution(type=\"Uniform1\", parameters={\"minimum\": 51, \"maximum\":796})\n",
    "\n",
    "model.initials['E'].value = 1182"
   ]
  },
  {
   "cell_type": "code",
   "execution_count": 91,
   "metadata": {},
   "outputs": [],
   "source": [
    "result = load_and_sample_petri_model(model, num_samples, timepoints=timepoints, method=\"euler\", visual_options={\"title\": \"Intervened SIR Model\", \"subset\":\".*_sol\"})"
   ]
  },
  {
   "cell_type": "code",
   "execution_count": 92,
   "metadata": {},
   "outputs": [
    {
     "name": "stdout",
     "output_type": "stream",
     "text": [
      "\n"
     ]
    },
    {
     "data": {
      "application/vnd.vega.v5+json": {
       "$schema": "https://vega.github.io/schema/vega/v5.json",
       "axes": [
        {
         "name": "x_axis",
         "orient": "bottom",
         "scale": "xscale",
         "zindex": 100
        },
        {
         "name": "y_axis",
         "orient": "left",
         "scale": "yscale",
         "zindex": 100
        }
       ],
       "data": [
        {
         "name": "distributions",
         "values": [
          {
           "lower": 788,
           "timepoint": 0,
           "trajectory": "E_sol",
           "upper": 788
          },
          {
           "lower": 618.8121704101562,
           "timepoint": 1,
           "trajectory": "E_sol",
           "upper": 619.6124145507813
          },
          {
           "lower": 556.6487670898438,
           "timepoint": 2,
           "trajectory": "E_sol",
           "upper": 558.41591796875
          },
          {
           "lower": 546.1190734863281,
           "timepoint": 3,
           "trajectory": "E_sol",
           "upper": 548.859228515625
          },
          {
           "lower": 561.2250061035156,
           "timepoint": 4,
           "trajectory": "E_sol",
           "upper": 564.9361328125
          },
          {
           "lower": 589.8161865234375,
           "timepoint": 5,
           "trajectory": "E_sol",
           "upper": 594.5269592285156
          },
          {
           "lower": 626.2697570800781,
           "timepoint": 6,
           "trajectory": "E_sol",
           "upper": 632.0427978515625
          },
          {
           "lower": 668.0433959960938,
           "timepoint": 7,
           "trajectory": "E_sol",
           "upper": 674.9698364257813
          },
          {
           "lower": 714.0528747558594,
           "timepoint": 8,
           "trajectory": "E_sol",
           "upper": 722.2469177246094
          },
          {
           "lower": 763.9082763671875,
           "timepoint": 9,
           "trajectory": "E_sol",
           "upper": 773.5035705566406
          },
          {
           "lower": 817.5548156738281,
           "timepoint": 10,
           "trajectory": "E_sol",
           "upper": 828.7028076171875
          },
          {
           "lower": 875.1044311523438,
           "timepoint": 11,
           "trajectory": "E_sol",
           "upper": 887.9737060546875
          },
          {
           "lower": 936.7570861816406,
           "timepoint": 12,
           "trajectory": "E_sol",
           "upper": 951.5335876464844
          },
          {
           "lower": 1002.7640258789063,
           "timepoint": 13,
           "trajectory": "E_sol",
           "upper": 1019.6521545410156
          },
          {
           "lower": 1073.4112426757813,
           "timepoint": 14,
           "trajectory": "E_sol",
           "upper": 1092.635009765625
          },
          {
           "lower": 1149.01259765625,
           "timepoint": 15,
           "trajectory": "E_sol",
           "upper": 1170.8170532226563
          },
          {
           "lower": 1229.9069946289062,
           "timepoint": 16,
           "trajectory": "E_sol",
           "upper": 1254.5600952148438
          },
          {
           "lower": 1316.4579345703125,
           "timepoint": 17,
           "trajectory": "E_sol",
           "upper": 1344.2523559570313
          },
          {
           "lower": 1409.054296875,
           "timepoint": 18,
           "trajectory": "E_sol",
           "upper": 1440.3091918945313
          },
          {
           "lower": 1508.1111572265625,
           "timepoint": 19,
           "trajectory": "E_sol",
           "upper": 1543.17490234375
          },
          {
           "lower": 1614.0713500976562,
           "timepoint": 20,
           "trajectory": "E_sol",
           "upper": 1653.3235229492188
          },
          {
           "lower": 1727.4069091796875,
           "timepoint": 21,
           "trajectory": "E_sol",
           "upper": 1771.26103515625
          },
          {
           "lower": 1848.6211791992187,
           "timepoint": 22,
           "trajectory": "E_sol",
           "upper": 1897.5272583007813
          },
          {
           "lower": 1978.2501586914063,
           "timepoint": 23,
           "trajectory": "E_sol",
           "upper": 2032.6980712890625
          },
          {
           "lower": 2116.86455078125,
           "timepoint": 24,
           "trajectory": "E_sol",
           "upper": 2177.3869140625
          },
          {
           "lower": 2265.072216796875,
           "timepoint": 25,
           "trajectory": "E_sol",
           "upper": 2332.2476806640625
          },
          {
           "lower": 2423.519677734375,
           "timepoint": 26,
           "trajectory": "E_sol",
           "upper": 2497.9764404296875
          },
          {
           "lower": 2592.89443359375,
           "timepoint": 27,
           "trajectory": "E_sol",
           "upper": 2675.314306640625
          },
          {
           "lower": 2773.9274658203126,
           "timepoint": 28,
           "trajectory": "E_sol",
           "upper": 2865.0498291015624
          },
          {
           "lower": 2967.3947998046874,
           "timepoint": 29,
           "trajectory": "E_sol",
           "upper": 3068.0212158203126
          },
          {
           "lower": 3174.12041015625,
           "timepoint": 30,
           "trajectory": "E_sol",
           "upper": 3285.11923828125
          },
          {
           "lower": 3394.979541015625,
           "timepoint": 31,
           "trajectory": "E_sol",
           "upper": 3517.289892578125
          },
          {
           "lower": 3630.8990966796873,
           "timepoint": 32,
           "trajectory": "E_sol",
           "upper": 3765.536328125
          },
          {
           "lower": 3882.861474609375,
           "timepoint": 33,
           "trajectory": "E_sol",
           "upper": 4030.9231201171874
          },
          {
           "lower": 4151.9068359375,
           "timepoint": 34,
           "trajectory": "E_sol",
           "upper": 4314.57744140625
          },
          {
           "lower": 4439.134521484375,
           "timepoint": 35,
           "trajectory": "E_sol",
           "upper": 4617.692236328125
          },
          {
           "lower": 4745.70712890625,
           "timepoint": 36,
           "trajectory": "E_sol",
           "upper": 4941.52919921875
          },
          {
           "lower": 5072.85166015625,
           "timepoint": 37,
           "trajectory": "E_sol",
           "upper": 5287.420361328125
          },
          {
           "lower": 5421.862060546875,
           "timepoint": 38,
           "trajectory": "E_sol",
           "upper": 5656.7712890625
          },
          {
           "lower": 5794.100390625,
           "timepoint": 39,
           "trajectory": "E_sol",
           "upper": 6051.06357421875
          },
          {
           "lower": 6190.999462890625,
           "timepoint": 40,
           "trajectory": "E_sol",
           "upper": 6471.8552734375
          },
          {
           "lower": 6614.06455078125,
           "timepoint": 41,
           "trajectory": "E_sol",
           "upper": 6920.7826171875
          },
          {
           "lower": 7064.873388671875,
           "timepoint": 42,
           "trajectory": "E_sol",
           "upper": 7399.562646484375
          },
          {
           "lower": 7545.077392578125,
           "timepoint": 43,
           "trajectory": "E_sol",
           "upper": 7909.99267578125
          },
          {
           "lower": 8056.402978515625,
           "timepoint": 44,
           "trajectory": "E_sol",
           "upper": 8453.949853515625
          },
          {
           "lower": 8600.64970703125,
           "timepoint": 45,
           "trajectory": "E_sol",
           "upper": 9033.3923828125
          },
          {
           "lower": 9179.68935546875,
           "timepoint": 46,
           "trajectory": "E_sol",
           "upper": 9650.35595703125
          },
          {
           "lower": 9795.46337890625,
           "timepoint": 47,
           "trajectory": "E_sol",
           "upper": 10306.95166015625
          },
          {
           "lower": 10449.98447265625,
           "timepoint": 48,
           "trajectory": "E_sol",
           "upper": 11005.3626953125
          },
          {
           "lower": 11145.3251953125,
           "timepoint": 49,
           "trajectory": "E_sol",
           "upper": 11747.8400390625
          },
          {
           "lower": 11883.61875,
           "timepoint": 50,
           "trajectory": "E_sol",
           "upper": 12536.6935546875
          },
          {
           "lower": 12667.048828125,
           "timepoint": 51,
           "trajectory": "E_sol",
           "upper": 13374.287109375
          },
          {
           "lower": 13497.843359375,
           "timepoint": 52,
           "trajectory": "E_sol",
           "upper": 14263.026171875
          },
          {
           "lower": 14378.2630859375,
           "timepoint": 53,
           "trajectory": "E_sol",
           "upper": 15205.3455078125
          },
          {
           "lower": 15310.58955078125,
           "timepoint": 54,
           "trajectory": "E_sol",
           "upper": 16203.69453125
          },
          {
           "lower": 16297.10888671875,
           "timepoint": 55,
           "trajectory": "E_sol",
           "upper": 17260.5193359375
          },
          {
           "lower": 17340.0990234375,
           "timepoint": 56,
           "trajectory": "E_sol",
           "upper": 18378.2455078125
          },
          {
           "lower": 18441.805078125,
           "timepoint": 57,
           "trajectory": "E_sol",
           "upper": 19559.25
          },
          {
           "lower": 19604.4208984375,
           "timepoint": 58,
           "trajectory": "E_sol",
           "upper": 20805.834765625
          },
          {
           "lower": 20830.05625,
           "timepoint": 59,
           "trajectory": "E_sol",
           "upper": 22120.19921875
          },
          {
           "lower": 22120.7193359375,
           "timepoint": 60,
           "trajectory": "E_sol",
           "upper": 23504.3990234375
          },
          {
           "lower": 23478.2685546875,
           "timepoint": 61,
           "trajectory": "E_sol",
           "upper": 24960.3171875
          },
          {
           "lower": 24904.3873046875,
           "timepoint": 62,
           "trajectory": "E_sol",
           "upper": 26489.608984375
          },
          {
           "lower": 26400.5412109375,
           "timepoint": 63,
           "trajectory": "E_sol",
           "upper": 28093.6609375
          },
          {
           "lower": 27967.9275390625,
           "timepoint": 64,
           "trajectory": "E_sol",
           "upper": 29773.53671875
          },
          {
           "lower": 29607.4318359375,
           "timepoint": 65,
           "trajectory": "E_sol",
           "upper": 31529.9232421875
          },
          {
           "lower": 31319.578515625,
           "timepoint": 66,
           "trajectory": "E_sol",
           "upper": 33363.0689453125
          },
          {
           "lower": 33104.4640625,
           "timepoint": 67,
           "trajectory": "E_sol",
           "upper": 35272.71875
          },
          {
           "lower": 34961.71484375,
           "timepoint": 68,
           "trajectory": "E_sol",
           "upper": 37258.040234375
          },
          {
           "lower": 36890.41015625,
           "timepoint": 69,
           "trajectory": "E_sol",
           "upper": 39317.573046875
          },
          {
           "lower": 38889.023046875,
           "timepoint": 70,
           "trajectory": "E_sol",
           "upper": 41449.13984375
          },
          {
           "lower": 40955.36171875,
           "timepoint": 71,
           "trajectory": "E_sol",
           "upper": 43649.77890625
          },
          {
           "lower": 43086.50390625,
           "timepoint": 72,
           "trajectory": "E_sol",
           "upper": 45915.678515625
          },
          {
           "lower": 45278.7296875,
           "timepoint": 73,
           "trajectory": "E_sol",
           "upper": 48242.116796875
          },
          {
           "lower": 47527.46171875,
           "timepoint": 74,
           "trajectory": "E_sol",
           "upper": 50623.387890625
          },
          {
           "lower": 49827.22421875,
           "timepoint": 75,
           "trajectory": "E_sol",
           "upper": 53052.750390625
          },
          {
           "lower": 52171.583203125,
           "timepoint": 76,
           "trajectory": "E_sol",
           "upper": 55522.3921875
          },
          {
           "lower": 54553.11015625,
           "timepoint": 77,
           "trajectory": "E_sol",
           "upper": 58023.394140625
          },
          {
           "lower": 56963.35234375,
           "timepoint": 78,
           "trajectory": "E_sol",
           "upper": 60545.714453125
          },
          {
           "lower": 59392.827734375,
           "timepoint": 79,
           "trajectory": "E_sol",
           "upper": 63078.190625
          },
          {
           "lower": 61831.04296875,
           "timepoint": 80,
           "trajectory": "E_sol",
           "upper": 65608.575
          },
          {
           "lower": 64266.4828125,
           "timepoint": 81,
           "trajectory": "E_sol",
           "upper": 68123.559375
          },
          {
           "lower": 66686.69296875,
           "timepoint": 82,
           "trajectory": "E_sol",
           "upper": 70608.87890625
          },
          {
           "lower": 69078.3203125,
           "timepoint": 83,
           "trajectory": "E_sol",
           "upper": 73049.39453125
          },
          {
           "lower": 71427.22421875,
           "timepoint": 84,
           "trajectory": "E_sol",
           "upper": 75429.22890625
          },
          {
           "lower": 73718.5921875,
           "timepoint": 85,
           "trajectory": "E_sol",
           "upper": 77731.93125
          },
          {
           "lower": 75937.07734375,
           "timepoint": 86,
           "trajectory": "E_sol",
           "upper": 79940.6640625
          },
          {
           "lower": 78066.98125,
           "timepoint": 87,
           "trajectory": "E_sol",
           "upper": 82038.40703125
          },
          {
           "lower": 80092.43984375,
           "timepoint": 88,
           "trajectory": "E_sol",
           "upper": 84008.234375
          },
          {
           "lower": 81997.653125,
           "timepoint": 89,
           "trajectory": "E_sol",
           "upper": 85833.5234375
          },
          {
           "lower": 83767.08828125,
           "timepoint": 90,
           "trajectory": "E_sol",
           "upper": 87498.26328125
          },
          {
           "lower": 85385.76875,
           "timepoint": 91,
           "trajectory": "E_sol",
           "upper": 88987.32265625
          },
          {
           "lower": 86839.50078125,
           "timepoint": 92,
           "trajectory": "E_sol",
           "upper": 90286.73984375
          },
          {
           "lower": 88115.13359375,
           "timepoint": 93,
           "trajectory": "E_sol",
           "upper": 91383.97578125
          },
          {
           "lower": 89200.7859375,
           "timepoint": 94,
           "trajectory": "E_sol",
           "upper": 92268.196875
          },
          {
           "lower": 90086.1109375,
           "timepoint": 95,
           "trajectory": "E_sol",
           "upper": 92930.4765625
          },
          {
           "lower": 90762.496875,
           "timepoint": 96,
           "trajectory": "E_sol",
           "upper": 93363.99609375
          },
          {
           "lower": 91223.24453125,
           "timepoint": 97,
           "trajectory": "E_sol",
           "upper": 93564.2359375
          },
          {
           "lower": 91463.72265625,
           "timepoint": 98,
           "trajectory": "E_sol",
           "upper": 93529.0328125
          },
          {
           "lower": 394,
           "timepoint": 0,
           "trajectory": "I_sol",
           "upper": 394
          },
          {
           "lower": 607.4166870117188,
           "timepoint": 1,
           "trajectory": "I_sol",
           "upper": 607.4166870117188
          },
          {
           "lower": 737.7603271484375,
           "timepoint": 2,
           "trajectory": "I_sol",
           "upper": 738.0270751953125
          },
          {
           "lower": 831.0898620605469,
           "timepoint": 3,
           "trajectory": "I_sol",
           "upper": 831.912353515625
          },
          {
           "lower": 909.2433471679688,
           "timepoint": 4,
           "trajectory": "I_sol",
           "upper": 910.8764099121094
          },
          {
           "lower": 982.6629333496094,
           "timepoint": 5,
           "trajectory": "I_sol",
           "upper": 985.3289306640625
          },
          {
           "lower": 1056.4354858398438,
           "timepoint": 6,
           "trajectory": "I_sol",
           "upper": 1060.3384887695313
          },
          {
           "lower": 1133.13759765625,
           "timepoint": 7,
           "trajectory": "I_sol",
           "upper": 1138.4770629882812
          },
          {
           "lower": 1214.1765625,
           "timepoint": 8,
           "trajectory": "I_sol",
           "upper": 1221.1573852539063
          },
          {
           "lower": 1300.4221313476562,
           "timepoint": 9,
           "trajectory": "I_sol",
           "upper": 1309.2617309570312
          },
          {
           "lower": 1392.50546875,
           "timepoint": 10,
           "trajectory": "I_sol",
           "upper": 1403.4385131835938
          },
          {
           "lower": 1490.9605224609375,
           "timepoint": 11,
           "trajectory": "I_sol",
           "upper": 1504.2429931640625
          },
          {
           "lower": 1596.2919921875,
           "timepoint": 12,
           "trajectory": "I_sol",
           "upper": 1612.2039306640625
          },
          {
           "lower": 1709.0078247070312,
           "timepoint": 13,
           "trajectory": "I_sol",
           "upper": 1727.856298828125
          },
          {
           "lower": 1829.6365112304688,
           "timepoint": 14,
           "trajectory": "I_sol",
           "upper": 1851.7583618164062
          },
          {
           "lower": 1958.73564453125,
           "timepoint": 15,
           "trajectory": "I_sol",
           "upper": 1984.5002319335938
          },
          {
           "lower": 2096.8977783203127,
           "timepoint": 16,
           "trajectory": "I_sol",
           "upper": 2126.71005859375
          },
          {
           "lower": 2244.7544677734377,
           "timepoint": 17,
           "trajectory": "I_sol",
           "upper": 2279.057958984375
          },
          {
           "lower": 2402.979541015625,
           "timepoint": 18,
           "trajectory": "I_sol",
           "upper": 2442.2598388671877
          },
          {
           "lower": 2572.2918701171875,
           "timepoint": 19,
           "trajectory": "I_sol",
           "upper": 2617.0804931640623
          },
          {
           "lower": 2753.4591796875,
           "timepoint": 20,
           "trajectory": "I_sol",
           "upper": 2804.3370849609373
          },
          {
           "lower": 2947.3005615234374,
           "timepoint": 21,
           "trajectory": "I_sol",
           "upper": 3004.9027587890623
          },
          {
           "lower": 3154.6903564453123,
           "timepoint": 22,
           "trajectory": "I_sol",
           "upper": 3219.710302734375
          },
          {
           "lower": 3376.561083984375,
           "timepoint": 23,
           "trajectory": "I_sol",
           "upper": 3449.755517578125
          },
          {
           "lower": 3613.9076416015623,
           "timepoint": 24,
           "trajectory": "I_sol",
           "upper": 3696.1020751953124
          },
          {
           "lower": 3867.7906982421873,
           "timepoint": 25,
           "trajectory": "I_sol",
           "upper": 3959.884912109375
          },
          {
           "lower": 4139.341064453125,
           "timepoint": 26,
           "trajectory": "I_sol",
           "upper": 4242.3150390625
          },
          {
           "lower": 4429.763427734375,
           "timepoint": 27,
           "trajectory": "I_sol",
           "upper": 4544.684375
          },
          {
           "lower": 4740.340966796875,
           "timepoint": 28,
           "trajectory": "I_sol",
           "upper": 4868.370361328125
          },
          {
           "lower": 5072.44072265625,
           "timepoint": 29,
           "trajectory": "I_sol",
           "upper": 5214.840673828125
          },
          {
           "lower": 5427.51728515625,
           "timepoint": 30,
           "trajectory": "I_sol",
           "upper": 5585.659326171875
          },
          {
           "lower": 5807.11767578125,
           "timepoint": 31,
           "trajectory": "I_sol",
           "upper": 5982.491552734375
          },
          {
           "lower": 6212.887744140625,
           "timepoint": 32,
           "trajectory": "I_sol",
           "upper": 6407.110205078125
          },
          {
           "lower": 6646.57646484375,
           "timepoint": 33,
           "trajectory": "I_sol",
           "upper": 6861.400048828125
          },
          {
           "lower": 7110.041455078125,
           "timepoint": 34,
           "trajectory": "I_sol",
           "upper": 7347.366357421875
          },
          {
           "lower": 7605.2552734375,
           "timepoint": 35,
           "trajectory": "I_sol",
           "upper": 7867.138134765625
          },
          {
           "lower": 8134.309765625,
           "timepoint": 36,
           "trajectory": "I_sol",
           "upper": 8422.97685546875
          },
          {
           "lower": 8699.42353515625,
           "timepoint": 37,
           "trajectory": "I_sol",
           "upper": 9017.280859375
          },
          {
           "lower": 9302.94619140625,
           "timepoint": 38,
           "trajectory": "I_sol",
           "upper": 9652.59443359375
          },
          {
           "lower": 9947.36572265625,
           "timepoint": 39,
           "trajectory": "I_sol",
           "upper": 10331.6103515625
          },
          {
           "lower": 10635.31201171875,
           "timepoint": 40,
           "trajectory": "I_sol",
           "upper": 11057.17998046875
          },
          {
           "lower": 11369.56474609375,
           "timepoint": 41,
           "trajectory": "I_sol",
           "upper": 11832.31767578125
          },
          {
           "lower": 12153.05703125,
           "timepoint": 42,
           "trajectory": "I_sol",
           "upper": 12660.2052734375
          },
          {
           "lower": 12988.88251953125,
           "timepoint": 43,
           "trajectory": "I_sol",
           "upper": 13544.2009765625
          },
          {
           "lower": 13880.29794921875,
           "timepoint": 44,
           "trajectory": "I_sol",
           "upper": 14487.84013671875
          },
          {
           "lower": 14830.72861328125,
           "timepoint": 45,
           "trajectory": "I_sol",
           "upper": 15494.843359375
          },
          {
           "lower": 15843.77080078125,
           "timepoint": 46,
           "trajectory": "I_sol",
           "upper": 16569.1189453125
          },
          {
           "lower": 16923.19609375,
           "timepoint": 47,
           "trajectory": "I_sol",
           "upper": 17714.763671875
          },
          {
           "lower": 18072.9517578125,
           "timepoint": 48,
           "trajectory": "I_sol",
           "upper": 18936.0693359375
          },
          {
           "lower": 19297.1607421875,
           "timepoint": 49,
           "trajectory": "I_sol",
           "upper": 20237.51484375
          },
          {
           "lower": 20600.12421875,
           "timepoint": 50,
           "trajectory": "I_sol",
           "upper": 21623.772265625
          },
          {
           "lower": 21986.3158203125,
           "timepoint": 51,
           "trajectory": "I_sol",
           "upper": 23099.6984375
          },
          {
           "lower": 23460.37578125,
           "timepoint": 52,
           "trajectory": "I_sol",
           "upper": 24670.3326171875
          },
          {
           "lower": 25027.1099609375,
           "timepoint": 53,
           "trajectory": "I_sol",
           "upper": 26340.883203125
          },
          {
           "lower": 26691.475,
           "timepoint": 54,
           "trajectory": "I_sol",
           "upper": 28116.7216796875
          },
          {
           "lower": 28458.5701171875,
           "timepoint": 55,
           "trajectory": "I_sol",
           "upper": 30003.3638671875
          },
          {
           "lower": 30333.6177734375,
           "timepoint": 56,
           "trajectory": "I_sol",
           "upper": 32006.4505859375
          },
          {
           "lower": 32321.94765625,
           "timepoint": 57,
           "trajectory": "I_sol",
           "upper": 34131.724609375
          },
          {
           "lower": 34428.971484375,
           "timepoint": 58,
           "trajectory": "I_sol",
           "upper": 36385.008984375
          },
          {
           "lower": 36660.15703125,
           "timepoint": 59,
           "trajectory": "I_sol",
           "upper": 38772.16171875
          },
          {
           "lower": 39020.98828125,
           "timepoint": 60,
           "trajectory": "I_sol",
           "upper": 41299.04296875
          },
          {
           "lower": 41516.9359375,
           "timepoint": 61,
           "trajectory": "I_sol",
           "upper": 43971.4609375
          },
          {
           "lower": 44153.408203125,
           "timepoint": 62,
           "trajectory": "I_sol",
           "upper": 46795.133203125
          },
          {
           "lower": 46935.6953125,
           "timepoint": 63,
           "trajectory": "I_sol",
           "upper": 49775.61015625
          },
          {
           "lower": 49868.9140625,
           "timepoint": 64,
           "trajectory": "I_sol",
           "upper": 52918.2125
          },
          {
           "lower": 52957.942578125,
           "timepoint": 65,
           "trajectory": "I_sol",
           "upper": 56227.9484375
          },
          {
           "lower": 56207.344921875,
           "timepoint": 66,
           "trajectory": "I_sol",
           "upper": 59709.43125
          },
          {
           "lower": 59621.28828125,
           "timepoint": 67,
           "trajectory": "I_sol",
           "upper": 63366.775390625
          },
          {
           "lower": 63203.450390625,
           "timepoint": 68,
           "trajectory": "I_sol",
           "upper": 67203.50390625
          },
          {
           "lower": 66956.925,
           "timepoint": 69,
           "trajectory": "I_sol",
           "upper": 71222.41171875
          },
          {
           "lower": 70884.1109375,
           "timepoint": 70,
           "trajectory": "I_sol",
           "upper": 75425.46875
          },
          {
           "lower": 74986.60390625,
           "timepoint": 71,
           "trajectory": "I_sol",
           "upper": 79813.6625
          },
          {
           "lower": 79265.06328125,
           "timepoint": 72,
           "trajectory": "I_sol",
           "upper": 84386.87890625
          },
          {
           "lower": 83719.09765625,
           "timepoint": 73,
           "trajectory": "I_sol",
           "upper": 89143.74921875
          },
          {
           "lower": 88347.1171875,
           "timepoint": 74,
           "trajectory": "I_sol",
           "upper": 94081.48828125
          },
          {
           "lower": 93146.2140625,
           "timepoint": 75,
           "trajectory": "I_sol",
           "upper": 99195.76796875
          },
          {
           "lower": 98112.0171875,
           "timepoint": 76,
           "trajectory": "I_sol",
           "upper": 104480.55078125
          },
          {
           "lower": 103238.540625,
           "timepoint": 77,
           "trajectory": "I_sol",
           "upper": 109927.9453125
          },
          {
           "lower": 108518.09140625,
           "timepoint": 78,
           "trajectory": "I_sol",
           "upper": 115528.0859375
          },
          {
           "lower": 113941.11171875,
           "timepoint": 79,
           "trajectory": "I_sol",
           "upper": 121268.98203125
          },
          {
           "lower": 119496.0859375,
           "timepoint": 80,
           "trajectory": "I_sol",
           "upper": 127136.425
          },
          {
           "lower": 125169.425,
           "timepoint": 81,
           "trajectory": "I_sol",
           "upper": 133113.90078125
          },
          {
           "lower": 130945.409375,
           "timepoint": 82,
           "trajectory": "I_sol",
           "upper": 139182.51875
          },
          {
           "lower": 136806.1296875,
           "timepoint": 83,
           "trajectory": "I_sol",
           "upper": 145321.0015625
          },
          {
           "lower": 142731.4671875,
           "timepoint": 84,
           "trajectory": "I_sol",
           "upper": 151505.6796875
          },
          {
           "lower": 148699.1078125,
           "timepoint": 85,
           "trajectory": "I_sol",
           "upper": 157710.540625
          },
          {
           "lower": 154684.578125,
           "timepoint": 86,
           "trajectory": "I_sol",
           "upper": 163907.3703125
          },
          {
           "lower": 160661.3703125,
           "timepoint": 87,
           "trajectory": "I_sol",
           "upper": 170065.8359375
          },
          {
           "lower": 166601.028125,
           "timepoint": 88,
           "trajectory": "I_sol",
           "upper": 176153.740625
          },
          {
           "lower": 172473.3765625,
           "timepoint": 89,
           "trajectory": "I_sol",
           "upper": 182137.2671875
          },
          {
           "lower": 178246.7546875,
           "timepoint": 90,
           "trajectory": "I_sol",
           "upper": 187981.28125
          },
          {
           "lower": 183888.2765625,
           "timepoint": 91,
           "trajectory": "I_sol",
           "upper": 193649.7046875
          },
          {
           "lower": 189364.1671875,
           "timepoint": 92,
           "trajectory": "I_sol",
           "upper": 199105.9359375
          },
          {
           "lower": 194640.146875,
           "timepoint": 93,
           "trajectory": "I_sol",
           "upper": 204313.2765625
          },
          {
           "lower": 199681.8328125,
           "timepoint": 94,
           "trajectory": "I_sol",
           "upper": 209235.4453125
          },
          {
           "lower": 204455.19375,
           "timepoint": 95,
           "trajectory": "I_sol",
           "upper": 213837.075
          },
          {
           "lower": 208926.99375,
           "timepoint": 96,
           "trajectory": "I_sol",
           "upper": 218084.26875
          },
          {
           "lower": 213065.2875,
           "timepoint": 97,
           "trajectory": "I_sol",
           "upper": 221945.0671875
          },
          {
           "lower": 216839.8796875,
           "timepoint": 98,
           "trajectory": "I_sol",
           "upper": 225390.00625
          },
          {
           "lower": 2300000,
           "timepoint": 0,
           "trajectory": "S_sol",
           "upper": 2300000
          },
          {
           "lower": 2299905.825,
           "timepoint": 1,
           "trajectory": "S_sol",
           "upper": 2299906.5
          },
          {
           "lower": 2299760.45,
           "timepoint": 2,
           "trajectory": "S_sol",
           "upper": 2299762.475
          },
          {
           "lower": 2299583.85,
           "timepoint": 3,
           "trajectory": "S_sol",
           "upper": 2299587.45
          },
          {
           "lower": 2299384.775,
           "timepoint": 4,
           "trajectory": "S_sol",
           "upper": 2299390.4
          },
          {
           "lower": 2299166.975,
           "timepoint": 5,
           "trajectory": "S_sol",
           "upper": 2299174.625
          },
          {
           "lower": 2298931.225,
           "timepoint": 6,
           "trajectory": "S_sol",
           "upper": 2298941.575
          },
          {
           "lower": 2298677.525,
           "timepoint": 7,
           "trajectory": "S_sol",
           "upper": 2298691.025
          },
          {
           "lower": 2298405.35,
           "timepoint": 8,
           "trajectory": "S_sol",
           "upper": 2298422.225
          },
          {
           "lower": 2298113.25,
           "timepoint": 9,
           "trajectory": "S_sol",
           "upper": 2298134.4
          },
          {
           "lower": 2297800.2,
           "timepoint": 10,
           "trajectory": "S_sol",
           "upper": 2297826.075
          },
          {
           "lower": 2297464.7,
           "timepoint": 11,
           "trajectory": "S_sol",
           "upper": 2297495.975
          },
          {
           "lower": 2297105.05,
           "timepoint": 12,
           "trajectory": "S_sol",
           "upper": 2297142.625
          },
          {
           "lower": 2296719.7,
           "timepoint": 13,
           "trajectory": "S_sol",
           "upper": 2296764.25
          },
          {
           "lower": 2296306.925,
           "timepoint": 14,
           "trajectory": "S_sol",
           "upper": 2296359.35
          },
          {
           "lower": 2295864.5,
           "timepoint": 15,
           "trajectory": "S_sol",
           "upper": 2295925.925
          },
          {
           "lower": 2295390.45,
           "timepoint": 16,
           "trajectory": "S_sol",
           "upper": 2295462
          },
          {
           "lower": 2294882.5,
           "timepoint": 17,
           "trajectory": "S_sol",
           "upper": 2294965.525
          },
          {
           "lower": 2294338.425,
           "timepoint": 18,
           "trajectory": "S_sol",
           "upper": 2294434.05
          },
          {
           "lower": 2293755.5,
           "timepoint": 19,
           "trajectory": "S_sol",
           "upper": 2293865.3
          },
          {
           "lower": 2293130.975,
           "timepoint": 20,
           "trajectory": "S_sol",
           "upper": 2293256.525
          },
          {
           "lower": 2292461.875,
           "timepoint": 21,
           "trajectory": "S_sol",
           "upper": 2292605.2
          },
          {
           "lower": 2291745.2,
           "timepoint": 22,
           "trajectory": "S_sol",
           "upper": 2291908.1
          },
          {
           "lower": 2290977.475,
           "timepoint": 23,
           "trajectory": "S_sol",
           "upper": 2291162.2
          },
          {
           "lower": 2290155.225,
           "timepoint": 24,
           "trajectory": "S_sol",
           "upper": 2290364.25
          },
          {
           "lower": 2289274.475,
           "timepoint": 25,
           "trajectory": "S_sol",
           "upper": 2289510.5
          },
          {
           "lower": 2288331.25,
           "timepoint": 26,
           "trajectory": "S_sol",
           "upper": 2288596.975
          },
          {
           "lower": 2287321.3,
           "timepoint": 27,
           "trajectory": "S_sol",
           "upper": 2287619.875
          },
          {
           "lower": 2286239.9,
           "timepoint": 28,
           "trajectory": "S_sol",
           "upper": 2286574.475
          },
          {
           "lower": 2285081.875,
           "timepoint": 29,
           "trajectory": "S_sol",
           "upper": 2285456.275
          },
          {
           "lower": 2283842.2,
           "timepoint": 30,
           "trajectory": "S_sol",
           "upper": 2284260.475
          },
          {
           "lower": 2282514.95,
           "timepoint": 31,
           "trajectory": "S_sol",
           "upper": 2282981.6
          },
          {
           "lower": 2281094.375,
           "timepoint": 32,
           "trajectory": "S_sol",
           "upper": 2281614.125
          },
          {
           "lower": 2279573.8,
           "timepoint": 33,
           "trajectory": "S_sol",
           "upper": 2280151.825
          },
          {
           "lower": 2277946.5,
           "timepoint": 34,
           "trajectory": "S_sol",
           "upper": 2278588.425
          },
          {
           "lower": 2276205.275,
           "timepoint": 35,
           "trajectory": "S_sol",
           "upper": 2276917.175
          },
          {
           "lower": 2274342.175,
           "timepoint": 36,
           "trajectory": "S_sol",
           "upper": 2275130.8
          },
          {
           "lower": 2272349,
           "timepoint": 37,
           "trajectory": "S_sol",
           "upper": 2273221.775
          },
          {
           "lower": 2270217.3,
           "timepoint": 38,
           "trajectory": "S_sol",
           "upper": 2271181.875
          },
          {
           "lower": 2267937.4,
           "timepoint": 39,
           "trajectory": "S_sol",
           "upper": 2269002.325
          },
          {
           "lower": 2265499.6,
           "timepoint": 40,
           "trajectory": "S_sol",
           "upper": 2266674.1
          },
          {
           "lower": 2262893.475,
           "timepoint": 41,
           "trajectory": "S_sol",
           "upper": 2264187.45
          },
          {
           "lower": 2260107.85,
           "timepoint": 42,
           "trajectory": "S_sol",
           "upper": 2261531.875
          },
          {
           "lower": 2257130.8,
           "timepoint": 43,
           "trajectory": "S_sol",
           "upper": 2258696.8
          },
          {
           "lower": 2253950.175,
           "timepoint": 44,
           "trajectory": "S_sol",
           "upper": 2255670.525
          },
          {
           "lower": 2250552.8,
           "timepoint": 45,
           "trajectory": "S_sol",
           "upper": 2252440.775
          },
          {
           "lower": 2246924.75,
           "timepoint": 46,
           "trajectory": "S_sol",
           "upper": 2248994.75
          },
          {
           "lower": 2243051.4,
           "timepoint": 47,
           "trajectory": "S_sol",
           "upper": 2245319.175
          },
          {
           "lower": 2238917.375,
           "timepoint": 48,
           "trajectory": "S_sol",
           "upper": 2241399.575
          },
          {
           "lower": 2234506.5,
           "timepoint": 49,
           "trajectory": "S_sol",
           "upper": 2237220.9
          },
          {
           "lower": 2229801.675,
           "timepoint": 50,
           "trajectory": "S_sol",
           "upper": 2232767.4
          },
          {
           "lower": 2224785.25,
           "timepoint": 51,
           "trajectory": "S_sol",
           "upper": 2228022.775
          },
          {
           "lower": 2219438.375,
           "timepoint": 52,
           "trajectory": "S_sol",
           "upper": 2222969.75
          },
          {
           "lower": 2213741.65,
           "timepoint": 53,
           "trajectory": "S_sol",
           "upper": 2217590.05
          },
          {
           "lower": 2207674.75,
           "timepoint": 54,
           "trajectory": "S_sol",
           "upper": 2211864.925
          },
          {
           "lower": 2201216.775,
           "timepoint": 55,
           "trajectory": "S_sol",
           "upper": 2205774.825
          },
          {
           "lower": 2194345.65,
           "timepoint": 56,
           "trajectory": "S_sol",
           "upper": 2199299.475
          },
          {
           "lower": 2187038.55,
           "timepoint": 57,
           "trajectory": "S_sol",
           "upper": 2192417.85
          },
          {
           "lower": 2179272.325,
           "timepoint": 58,
           "trajectory": "S_sol",
           "upper": 2185107.925
          },
          {
           "lower": 2171022.675,
           "timepoint": 59,
           "trajectory": "S_sol",
           "upper": 2177347.425
          },
          {
           "lower": 2162264.975,
           "timepoint": 60,
           "trajectory": "S_sol",
           "upper": 2169113.3
          },
          {
           "lower": 2152974.35,
           "timepoint": 61,
           "trajectory": "S_sol",
           "upper": 2160382.25
          },
          {
           "lower": 2143125,
           "timepoint": 62,
           "trajectory": "S_sol",
           "upper": 2151130.05
          },
          {
           "lower": 2132691.05,
           "timepoint": 63,
           "trajectory": "S_sol",
           "upper": 2141332.4
          },
          {
           "lower": 2121646.625,
           "timepoint": 64,
           "trajectory": "S_sol",
           "upper": 2130964.775
          },
          {
           "lower": 2109965.825,
           "timepoint": 65,
           "trajectory": "S_sol",
           "upper": 2120002.625
          },
          {
           "lower": 2097622.6875,
           "timepoint": 66,
           "trajectory": "S_sol",
           "upper": 2108421.225
          },
          {
           "lower": 2084592.025,
           "timepoint": 67,
           "trajectory": "S_sol",
           "upper": 2096196.5125
          },
          {
           "lower": 2070849.1625,
           "timepoint": 68,
           "trajectory": "S_sol",
           "upper": 2083304.4875
          },
          {
           "lower": 2056370.275,
           "timepoint": 69,
           "trajectory": "S_sol",
           "upper": 2069721.8875
          },
          {
           "lower": 2041132.8875,
           "timepoint": 70,
           "trajectory": "S_sol",
           "upper": 2055426.4625
          },
          {
           "lower": 2025115.8625,
           "timepoint": 71,
           "trajectory": "S_sol",
           "upper": 2040397.075
          },
          {
           "lower": 2008300.0375,
           "timepoint": 72,
           "trajectory": "S_sol",
           "upper": 2024614.1125
          },
          {
           "lower": 1990668.3375,
           "timepoint": 73,
           "trajectory": "S_sol",
           "upper": 2008059.7125
          },
          {
           "lower": 1972206.375,
           "timepoint": 74,
           "trajectory": "S_sol",
           "upper": 1990718.025
          },
          {
           "lower": 1952902.6,
           "timepoint": 75,
           "trajectory": "S_sol",
           "upper": 1972575.8125
          },
          {
           "lower": 1932748.675,
           "timepoint": 76,
           "trajectory": "S_sol",
           "upper": 1953622.375
          },
          {
           "lower": 1911740.1875,
           "timepoint": 77,
           "trajectory": "S_sol",
           "upper": 1933850.375
          },
          {
           "lower": 1889876.6875,
           "timepoint": 78,
           "trajectory": "S_sol",
           "upper": 1913255.7625
          },
          {
           "lower": 1867162.275,
           "timepoint": 79,
           "trajectory": "S_sol",
           "upper": 1891838.475
          },
          {
           "lower": 1843605.875,
           "timepoint": 80,
           "trajectory": "S_sol",
           "upper": 1869602.6
          },
          {
           "lower": 1819221.3625,
           "timepoint": 81,
           "trajectory": "S_sol",
           "upper": 1846556.8375
          },
          {
           "lower": 1794028.175,
           "timepoint": 82,
           "trajectory": "S_sol",
           "upper": 1822714.4375
          },
          {
           "lower": 1768051.3125,
           "timepoint": 83,
           "trajectory": "S_sol",
           "upper": 1798093.875
          },
          {
           "lower": 1741321.725,
           "timepoint": 84,
           "trajectory": "S_sol",
           "upper": 1772718.9
          },
          {
           "lower": 1713875.95,
           "timepoint": 85,
           "trajectory": "S_sol",
           "upper": 1746618.4
          },
          {
           "lower": 1685756.6125,
           "timepoint": 86,
           "trajectory": "S_sol",
           "upper": 1719827.0125
          },
          {
           "lower": 1657011.95,
           "timepoint": 87,
           "trajectory": "S_sol",
           "upper": 1692384.7625
          },
          {
           "lower": 1627696.025,
           "timepoint": 88,
           "trajectory": "S_sol",
           "upper": 1664336.9375
          },
          {
           "lower": 1597868.025,
           "timepoint": 89,
           "trajectory": "S_sol",
           "upper": 1635734.2875
          },
          {
           "lower": 1567592.05,
           "timepoint": 90,
           "trajectory": "S_sol",
           "upper": 1606632.25
          },
          {
           "lower": 1536936.925,
           "timepoint": 91,
           "trajectory": "S_sol",
           "upper": 1577091.2125
          },
          {
           "lower": 1505975.0375,
           "timepoint": 92,
           "trajectory": "S_sol",
           "upper": 1547175.575
          },
          {
           "lower": 1474782.1875,
           "timepoint": 93,
           "trajectory": "S_sol",
           "upper": 1516953.4875
          },
          {
           "lower": 1443436.6,
           "timepoint": 94,
           "trajectory": "S_sol",
           "upper": 1486496.0875
          },
          {
           "lower": 1412018.2,
           "timepoint": 95,
           "trajectory": "S_sol",
           "upper": 1455877.1125
          },
          {
           "lower": 1380607.8625,
           "timepoint": 96,
           "trajectory": "S_sol",
           "upper": 1425172.0375
          },
          {
           "lower": 1349286.3125,
           "timepoint": 97,
           "trajectory": "S_sol",
           "upper": 1394457.0875
          },
          {
           "lower": 1318133.3875,
           "timepoint": 98,
           "trajectory": "S_sol",
           "upper": 1363808.8375
          },
          {
           "lower": 0,
           "timepoint": 0,
           "trajectory": "V_sol",
           "upper": 0
          },
          {
           "lower": 3124288788889.6,
           "timepoint": 1,
           "trajectory": "V_sol",
           "upper": 6753682299289.6
          },
          {
           "lower": 7940900755865.6,
           "timepoint": 2,
           "trajectory": "V_sol",
           "upper": 17165610332979.2
          },
          {
           "lower": 13793005404160,
           "timepoint": 3,
           "trajectory": "V_sol",
           "upper": 29812489348710.4
          },
          {
           "lower": 20389165635993.6,
           "timepoint": 4,
           "trajectory": "V_sol",
           "upper": 44060597708390.4
          },
          {
           "lower": 27610864576102.4,
           "timepoint": 5,
           "trajectory": "V_sol",
           "upper": 59650451544473.6
          },
          {
           "lower": 35422157458636.8,
           "timepoint": 6,
           "trajectory": "V_sol",
           "upper": 76501485197721.6
          },
          {
           "lower": 43827306745036.8,
           "timepoint": 7,
           "trajectory": "V_sol",
           "upper": 94620269464780.8
          },
          {
           "lower": 52850969280512,
           "timepoint": 8,
           "trajectory": "V_sol",
           "upper": 114057532355379.2
          },
          {
           "lower": 62529006573977.6,
           "timepoint": 9,
           "trajectory": "V_sol",
           "upper": 134888143034777.6
          },
          {
           "lower": 72904260504780.8,
           "timepoint": 10,
           "trajectory": "V_sol",
           "upper": 157201914134528
          },
          {
           "lower": 84024705941504,
           "timepoint": 11,
           "trajectory": "V_sol",
           "upper": 181099498884300.78
          },
          {
           "lower": 95942706672435.2,
           "timepoint": 12,
           "trajectory": "V_sol",
           "upper": 206690786371174.4
          },
          {
           "lower": 108714791849164.8,
           "timepoint": 13,
           "trajectory": "V_sol",
           "upper": 234094342019481.6
          },
          {
           "lower": 122401724353740.8,
           "timepoint": 14,
           "trajectory": "V_sol",
           "upper": 263437540130816
          },
          {
           "lower": 137068653471334.4,
           "timepoint": 15,
           "trajectory": "V_sol",
           "upper": 294856890200883.2
          },
          {
           "lower": 152785403458355.2,
           "timepoint": 16,
           "trajectory": "V_sol",
           "upper": 328498506681548.8
          },
          {
           "lower": 169626736944742.4,
           "timepoint": 17,
           "trajectory": "V_sol",
           "upper": 364518810268467.2
          },
          {
           "lower": 187672714805248,
           "timepoint": 18,
           "trajectory": "V_sol",
           "upper": 403085076516044.8
          },
          {
           "lower": 207009038414643.2,
           "timepoint": 19,
           "trajectory": "V_sol",
           "upper": 444376291475456
          },
          {
           "lower": 227727428812800,
           "timepoint": 20,
           "trajectory": "V_sol",
           "upper": 488583832849612.8
          },
          {
           "lower": 249926046135091.2,
           "timepoint": 21,
           "trajectory": "V_sol",
           "upper": 535912402806374.4
          },
          {
           "lower": 273709964407603.2,
           "timepoint": 22,
           "trajectory": "V_sol",
           "upper": 586580850062131.2
          },
          {
           "lower": 299191572522598.4,
           "timepoint": 23,
           "trajectory": "V_sol",
           "upper": 640823220135526.4
          },
          {
           "lower": 326491112787148.8,
           "timepoint": 24,
           "trajectory": "V_sol",
           "upper": 698889641184460.8
          },
          {
           "lower": 355737259737088,
           "timepoint": 25,
           "trajectory": "V_sol",
           "upper": 761047461501337.6
          },
          {
           "lower": 387067559700070.4,
           "timepoint": 26,
           "trajectory": "V_sol",
           "upper": 827582444050841.6
          },
          {
           "lower": 420629132083200,
           "timepoint": 27,
           "trajectory": "V_sol",
           "upper": 898799860344422.4
          },
          {
           "lower": 456579303551795.2,
           "timepoint": 28,
           "trajectory": "V_sol",
           "upper": 975026000389734.4
          },
          {
           "lower": 495086198587392,
           "timepoint": 29,
           "trajectory": "V_sol",
           "upper": 1056609186034483.1
          },
          {
           "lower": 536329551504998.4,
           "timepoint": 30,
           "trajectory": "V_sol",
           "upper": 1143921609749299.2
          },
          {
           "lower": 580501367475404.8,
           "timepoint": 31,
           "trajectory": "V_sol",
           "upper": 1237360629828812.8
          },
          {
           "lower": 627806784874086.4,
           "timepoint": 32,
           "trajectory": "V_sol",
           "upper": 1337350327317299.2
          },
          {
           "lower": 678464917497446.4,
           "timepoint": 33,
           "trajectory": "V_sol",
           "upper": 1444343344791552
          },
          {
           "lower": 732709723622604.8,
           "timepoint": 34,
           "trajectory": "V_sol",
           "upper": 1558822691589324.8
          },
          {
           "lower": 790790928754278.4,
           "timepoint": 35,
           "trajectory": "V_sol",
           "upper": 1681303602724864
          },
          {
           "lower": 852975062456729.6,
           "timepoint": 36,
           "trajectory": "V_sol",
           "upper": 1812335511889510.2
          },
          {
           "lower": 919546438143180.8,
           "timepoint": 37,
           "trajectory": "V_sol",
           "upper": 1952503997608755.2
          },
          {
           "lower": 990808186552320,
           "timepoint": 38,
           "trajectory": "V_sol",
           "upper": 2102433387066163.2
          },
          {
           "lower": 1067083577792921.6,
           "timepoint": 39,
           "trajectory": "V_sol",
           "upper": 2262788500933837
          },
          {
           "lower": 1148716994422374.5,
           "timepoint": 40,
           "trajectory": "V_sol",
           "upper": 2434277377992294.5
          },
          {
           "lower": 1236075266913075.2,
           "timepoint": 41,
           "trajectory": "V_sol",
           "upper": 2617653999750348.5
          },
          {
           "lower": 1329548962142617.5,
           "timepoint": 42,
           "trajectory": "V_sol",
           "upper": 2813720062119116.5
          },
          {
           "lower": 1429553745703731.2,
           "timepoint": 43,
           "trajectory": "V_sol",
           "upper": 3023328572447129.5
          },
          {
           "lower": 1536531730792448,
           "timepoint": 44,
           "trajectory": "V_sol",
           "upper": 3247385983582208
          },
          {
           "lower": 1650952733143859.2,
           "timepoint": 45,
           "trajectory": "V_sol",
           "upper": 3486855562736435
          },
          {
           "lower": 1773315841379532.8,
           "timepoint": 46,
           "trajectory": "V_sol",
           "upper": 3742759807405260.5
          },
          {
           "lower": 1904150947089612.8,
           "timepoint": 47,
           "trajectory": "V_sol",
           "upper": 4016183545797017.5
          },
          {
           "lower": 2044020315180236.8,
           "timepoint": 48,
           "trajectory": "V_sol",
           "upper": 4308277319119667
          },
          {
           "lower": 2193519724724224,
           "timepoint": 49,
           "trajectory": "V_sol",
           "upper": 4620260334370816
          },
          {
           "lower": 2353280415118131,
           "timepoint": 50,
           "trajectory": "V_sol",
           "upper": 4953422772882637
          },
          {
           "lower": 2523970226932941,
           "timepoint": 51,
           "trajectory": "V_sol",
           "upper": 5309129467887616
          },
          {
           "lower": 2706295319900979,
           "timepoint": 52,
           "trajectory": "V_sol",
           "upper": 5688823796832665
          },
          {
           "lower": 2901001541936742.5,
           "timepoint": 53,
           "trajectory": "V_sol",
           "upper": 6094028808808038
          },
          {
           "lower": 3108875784735949,
           "timepoint": 54,
           "trajectory": "V_sol",
           "upper": 6526351841637171
          },
          {
           "lower": 3330747138048000,
           "timepoint": 55,
           "trajectory": "V_sol",
           "upper": 6987485192965325
          },
          {
           "lower": 3567488017104896,
           "timepoint": 56,
           "trajectory": "V_sol",
           "upper": 7479210146791424
          },
          {
           "lower": 3820015316893696,
           "timepoint": 57,
           "trajectory": "V_sol",
           "upper": 8003398610924339
          },
          {
           "lower": 4089291056401613,
           "timepoint": 58,
           "trajectory": "V_sol",
           "upper": 8562014244411801
          },
          {
           "lower": 4376323264453017.5,
           "timepoint": 59,
           "trajectory": "V_sol",
           "upper": 9157116000888422
          },
          {
           "lower": 4682166167614259,
           "timepoint": 60,
           "trajectory": "V_sol",
           "upper": 9790855658969498
          },
          {
           "lower": 5007920002288845,
           "timepoint": 61,
           "trajectory": "V_sol",
           "upper": 10465481741408666
          },
          {
           "lower": 5354731417370624,
           "timepoint": 62,
           "trajectory": "V_sol",
           "upper": 11183336293872434
          },
          {
           "lower": 5723790924106957,
           "timepoint": 63,
           "trajectory": "V_sol",
           "upper": 11946855475498188
          },
          {
           "lower": 6116333916153446,
           "timepoint": 64,
           "trajectory": "V_sol",
           "upper": 12758565747110706
          },
          {
           "lower": 6533637555722650,
           "timepoint": 65,
           "trajectory": "V_sol",
           "upper": 13621083656473804
          },
          {
           "lower": 6977018357664973,
           "timepoint": 66,
           "trajectory": "V_sol",
           "upper": 14537108590533018
          },
          {
           "lower": 7447829397739930,
           "timepoint": 67,
           "trajectory": "V_sol",
           "upper": 15509417567767756
          },
          {
           "lower": 7947456984016486,
           "timepoint": 68,
           "trajectory": "V_sol",
           "upper": 16540860943224012
          },
          {
           "lower": 8477314697605939,
           "timepoint": 69,
           "trajectory": "V_sol",
           "upper": 17634350167857562
          },
          {
           "lower": 9038838936633344,
           "timepoint": 70,
           "trajectory": "V_sol",
           "upper": 18792850916586292
          },
          {
           "lower": 9633482097976934,
           "timepoint": 71,
           "trajectory": "V_sol",
           "upper": 20019367089537024
          },
          {
           "lower": 10262704416830260,
           "timepoint": 72,
           "trajectory": "V_sol",
           "upper": 21316927819769444
          },
          {
           "lower": 10927966611570688,
           "timepoint": 73,
           "trajectory": "V_sol",
           "upper": 22688574803122584
          },
          {
           "lower": 11630718716844442,
           "timepoint": 74,
           "trajectory": "V_sol",
           "upper": 24137339534888140
          },
          {
           "lower": 12372388916651622,
           "timepoint": 75,
           "trajectory": "V_sol",
           "upper": 25666222479219096
          },
          {
           "lower": 13154373612234342,
           "timepoint": 76,
           "trajectory": "V_sol",
           "upper": 27278172023789976
          },
          {
           "lower": 13978021315949364,
           "timepoint": 77,
           "trajectory": "V_sol",
           "upper": 28976056777257780
          },
          {
           "lower": 14844620625359668,
           "timepoint": 78,
           "trajectory": "V_sol",
           "upper": 30762639047838924
          },
          {
           "lower": 15755382184371814,
           "timepoint": 79,
           "trajectory": "V_sol",
           "upper": 32640541342564350
          },
          {
           "lower": 16711424724592230,
           "timepoint": 80,
           "trajectory": "V_sol",
           "upper": 34612220812224100
          },
          {
           "lower": 17713755415851828,
           "timepoint": 81,
           "trajectory": "V_sol",
           "upper": 36679929308171470
          },
          {
           "lower": 18763252042091724,
           "timepoint": 82,
           "trajectory": "V_sol",
           "upper": 38845674298120600
          },
          {
           "lower": 19860647109984256,
           "timepoint": 83,
           "trajectory": "V_sol",
           "upper": 41111191378355816
          },
          {
           "lower": 21006506374096490,
           "timepoint": 84,
           "trajectory": "V_sol",
           "upper": 43477901538806984
          },
          {
           "lower": 22201207362053736,
           "timepoint": 85,
           "trajectory": "V_sol",
           "upper": 45946866495389700
          },
          {
           "lower": 23444929603488972,
           "timepoint": 86,
           "trajectory": "V_sol",
           "upper": 48518758625234120
          },
          {
           "lower": 24737626068510310,
           "timepoint": 87,
           "trajectory": "V_sol",
           "upper": 51193826606946710
          },
          {
           "lower": 26079016939998412,
           "timepoint": 88,
           "trajectory": "V_sol",
           "upper": 53971846672731336
          },
          {
           "lower": 27468568138770024,
           "timepoint": 89,
           "trajectory": "V_sol",
           "upper": 56852104999023410
          },
          {
           "lower": 28905478223927704,
           "timepoint": 90,
           "trajectory": "V_sol",
           "upper": 59833355615810350
          },
          {
           "lower": 30388673238899096,
           "timepoint": 91,
           "trajectory": "V_sol",
           "upper": 62913803656259176
          },
          {
           "lower": 31916791893799732,
           "timepoint": 92,
           "trajectory": "V_sol",
           "upper": 66091080875402856
          },
          {
           "lower": 33488188786658508,
           "timepoint": 93,
           "trajectory": "V_sol",
           "upper": 69362231476748290
          },
          {
           "lower": 35100927531470028,
           "timepoint": 94,
           "trajectory": "V_sol",
           "upper": 72723709105799170
          },
          {
           "lower": 36752783335174960,
           "timepoint": 95,
           "trajectory": "V_sol",
           "upper": 76171371696095230
          },
          {
           "lower": 38441255882561944,
           "timepoint": 96,
           "trajectory": "V_sol",
           "upper": 79700486623173010
          },
          {
           "lower": 40163573631234860,
           "timepoint": 97,
           "trajectory": "V_sol",
           "upper": 83305746595944850
          },
          {
           "lower": 41916715286449360,
           "timepoint": 98,
           "trajectory": "V_sol",
           "upper": 86981306593417620
          }
         ]
        },
        {
         "name": "traces",
         "transform": [
          {
           "expr": "isValid(datum.value)",
           "type": "filter"
          }
         ],
         "values": []
        },
        {
         "name": "points",
         "values": []
        },
        {
         "name": "markers",
         "values": []
        },
        {
         "name": "selected",
         "on": [
          {
           "remove": true,
           "trigger": "clear"
          },
          {
           "remove": true,
           "trigger": "!shift"
          },
          {
           "insert": "clicked",
           "trigger": "!shift && clicked"
          },
          {
           "toggle": "clicked",
           "trigger": "shift && clicked"
          }
         ]
        }
       ],
       "height": 300,
       "legends": [
        {
         "encode": {
          "labels": {
           "interactive": true,
           "name": "legendLabel",
           "update": {
            "opacity": [
             {
              "test": "!length(data('selected')) || indata('selected', 'value', datum.value)",
              "value": 1
             },
             {
              "value": 0.25
             }
            ]
           }
          },
          "symbols": {
           "interactive": true,
           "name": "legendSymbol",
           "update": {
            "fill": {
             "value": "transparent"
            },
            "opacity": [
             {
              "test": "!length(data('selected')) || indata('selected', 'value', datum.value)",
              "value": 0.7
             },
             {
              "value": 0.15
             }
            ],
            "size": {
             "value": 64
            },
            "strokeWidth": {
             "value": 2
            }
           }
          }
         },
         "name": "color_legend",
         "stroke": "color"
        }
       ],
       "marks": [
        {
         "from": {
          "facet": {
           "data": "points",
           "groupby": "trajectory",
           "name": "points_split"
          }
         },
         "marks": [
          {
           "encode": {
            "hover": {
             "fillOpacity": {
              "value": 0.9
             }
            },
            "update": {
             "fill": {
              "field": "trajectory",
              "scale": "color"
             },
             "fillOpacity": [
              {
               "test": "!length(data('selected')) || indata('selected', 'value', datum.trajectory)",
               "value": 0.5
              },
              {
               "value": 0.15
              }
             ],
             "size": {
              "value": 10
             },
             "stroke": {
              "field": "trajectory",
              "scale": "color"
             },
             "strokeOpacity": [
              {
               "test": "!length(data('selected')) || indata('selected', 'value', datum.trajectory)",
               "value": 0.75
              },
              {
               "value": 0.15
              }
             ],
             "strokeWidth": {
              "value": 2
             },
             "tooltip": {
              "field": "value"
             },
             "x": {
              "field": "timepoint",
              "scale": "xscale"
             },
             "y": {
              "field": "value",
              "scale": "yscale"
             }
            }
           },
           "from": {
            "data": "points"
           },
           "name": "_points_symbol",
           "type": "symbol",
           "zindex": 3
          },
          {
           "encode": {
            "hover": {
             "fillOpacity": {
              "value": 0.9
             }
            },
            "update": {
             "interpolate": {
              "value": "linear"
             },
             "stroke": {
              "field": "trajectory",
              "scale": "color"
             },
             "strokeOpacity": [
              {
               "test": "!length(data('selected')) || indata('selected', 'value', datum.trajectory)",
               "value": 0.3
              },
              {
               "value": 0.1
              }
             ],
             "strokeWidth": {
              "value": 2
             },
             "x": {
              "field": "timepoint",
              "scale": "xscale"
             },
             "y": {
              "field": "value",
              "scale": "yscale"
             }
            }
           },
           "from": {
            "data": "points"
           },
           "name": "_points_line",
           "type": "line",
           "zindex": 3
          }
         ],
         "name": "_points",
         "type": "group",
         "zindex": 3
        },
        {
         "from": {
          "facet": {
           "data": "traces",
           "groupby": "trajectory",
           "name": "traces_split"
          }
         },
         "marks": [
          {
           "encode": {
            "hover": {
             "fillOpacity": {
              "value": 0.9
             }
            },
            "update": {
             "interpolate": {
              "value": "linear"
             },
             "stroke": {
              "field": "trajectory",
              "scale": "color"
             },
             "strokeOpacity": [
              {
               "test": "!length(data('selected')) || indata('selected', 'value', datum.trajectory)",
               "value": 0.75
              },
              {
               "value": 0.15
              }
             ],
             "strokeWidth": {
              "value": 2
             },
             "x": {
              "field": "timepoint",
              "scale": "xscale"
             },
             "y": {
              "field": "value",
              "scale": "yscale"
             }
            }
           },
           "from": {
            "data": "traces_split"
           },
           "name": "_traces_lines",
           "type": "line"
          }
         ],
         "name": "_traces",
         "type": "group",
         "zindex": 2
        },
        {
         "from": {
          "facet": {
           "data": "distributions",
           "groupby": "trajectory",
           "name": "trajectory_split"
          }
         },
         "marks": [
          {
           "encode": {
            "hover": {
             "fillOpacity": {
              "value": 0.9
             }
            },
            "update": {
             "fill": {
              "field": "trajectory",
              "scale": "color"
             },
             "fillOpacity": [
              {
               "test": "!length(data('selected')) || indata('selected', 'value', datum.trajectory)",
               "value": 0.5
              },
              {
               "value": 0.15
              }
             ],
             "interpolate": {
              "value": "linear"
             },
             "stroke": {
              "field": "trajectory",
              "scale": "color"
             },
             "strokeOpacity": [
              {
               "test": "!length(data('selected')) || indata('selected', 'value', datum.trajectory)",
               "value": 0.75
              },
              {
               "value": 0.15
              }
             ],
             "strokeWidth": {
              "value": 2
             },
             "x": {
              "field": "timepoint",
              "scale": "xscale"
             },
             "y": {
              "field": "upper",
              "scale": "yscale"
             },
             "y2": {
              "field": "lower",
              "scale": "yscale"
             }
            }
           },
           "from": {
            "data": "trajectory_split"
           },
           "type": "area"
          }
         ],
         "name": "_distributions",
         "type": "group",
         "zindex": 1
        },
        {
         "marks": [
          {
           "encode": {
            "enter": {
             "stroke": {
              "value": "lightgray"
             }
            },
            "update": {
             "opacity": {
              "value": 1
             },
             "x": {
              "field": "timepoint",
              "scale": "xscale"
             },
             "y": {
              "signal": "height"
             },
             "y2": {
              "value": 0
             }
            }
           },
           "from": {
            "data": "markers"
           },
           "name": "_marker text",
           "type": "rule"
          },
          {
           "encode": {
            "enter": {
             "fontSize": {
              "value": 8
             },
             "text": {
              "field": "datum.label"
             },
             "y": {
              "value": 0
             }
            }
           },
           "from": {
            "data": "_marker text"
           },
           "name": "_marker flags",
           "transform": [
            {
             "as": [
              "x",
              "_y",
              "opacity",
              "align",
              "baseline"
             ],
             "lineAnchor": "start",
             "offset": [
              1
             ],
             "size": {
              "signal": "[width, height]"
             },
             "type": "label"
            }
           ],
           "type": "text"
          }
         ],
         "name": "_markers",
         "type": "group"
        }
       ],
       "scales": [
        {
         "domain": {
          "fields": [
           {
            "data": "distributions",
            "field": "timepoint"
           },
           {
            "data": "traces",
            "field": "timepoint"
           },
           {
            "data": "points",
            "field": "timepoint"
           },
           {
            "data": "markers",
            "field": "timepoint"
           }
          ]
         },
         "name": "xscale",
         "range": "width",
         "type": "linear",
         "zero": false
        },
        {
         "domain": {
          "fields": [
           {
            "data": "distributions",
            "field": "lower"
           },
           {
            "data": "distributions",
            "field": "upper"
           },
           {
            "data": "traces",
            "field": "value"
           },
           {
            "data": "points",
            "field": "value"
           }
          ]
         },
         "name": "yscale",
         "nice": true,
         "range": "height",
         "type": "linear",
         "zero": true
        },
        {
         "domain": {
          "fields": [
           {
            "data": "distributions",
            "field": "trajectory"
           },
           {
            "data": "traces",
            "field": "trajectory"
           },
           {
            "data": "points",
            "field": "trajectory"
           }
          ]
         },
         "name": "color",
         "range": "category",
         "type": "ordinal"
        }
       ],
       "signals": [
        {
         "name": "clear",
         "on": [
          {
           "events": "mouseup[!event.item]",
           "force": true,
           "update": "true"
          }
         ],
         "value": true
        },
        {
         "name": "shift",
         "on": [
          {
           "events": "@legendSymbol:click, @legendLabel:click",
           "force": true,
           "update": "event.shiftKey"
          }
         ],
         "value": false
        },
        {
         "name": "clicked",
         "on": [
          {
           "events": "@legendSymbol:click, @legendLabel:click",
           "force": true,
           "update": "{value: datum.value}"
          }
         ],
         "value": null
        }
       ],
       "title": "Intervened SIR Model",
       "width": 500
      }
     },
     "metadata": {},
     "output_type": "display_data"
    }
   ],
   "source": [
    "plots.ipy_display(result[\"visual\"])"
   ]
  },
  {
   "cell_type": "code",
   "execution_count": null,
   "metadata": {},
   "outputs": [],
   "source": []
  }
 ],
 "metadata": {
  "kernelspec": {
   "display_name": "pyciemss-deriv",
   "language": "python",
   "name": "python3"
  },
  "language_info": {
   "codemirror_mode": {
    "name": "ipython",
    "version": 3
   },
   "file_extension": ".py",
   "mimetype": "text/x-python",
   "name": "python",
   "nbconvert_exporter": "python",
   "pygments_lexer": "ipython3",
   "version": "3.10.11"
  },
  "orig_nbformat": 4
 },
 "nbformat": 4,
 "nbformat_minor": 2
}
