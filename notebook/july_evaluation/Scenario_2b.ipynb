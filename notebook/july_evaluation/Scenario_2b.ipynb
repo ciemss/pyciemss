{
 "cells": [
  {
   "cell_type": "markdown",
   "id": "9d4a5b57-04ca-4f22-85c7-610ad8307f9b",
   "metadata": {},
   "source": [
    "# Scenario 2 subtask b: Age Stratifying"
   ]
  },
  {
   "cell_type": "markdown",
   "id": "fa2a38eb-cff7-46d7-aa33-eb8a4288812f",
   "metadata": {},
   "source": [
    "**Background:** 09/1/2021 (September) in New York State. Schools will reopen (children <10 still cannot vaccinate)."
   ]
  },
  {
   "attachments": {},
   "cell_type": "markdown",
   "id": "848e7a60-e753-4882-b636-c5f9bd75e336",
   "metadata": {},
   "source": [
    "**TASK:** Forecast cases (I), hospitalizations (H), and deaths (D) over the entire month (30 days). Compare outcomes for the three age groups.\n",
    "\n",
    "Specifications:\n",
    "1. Use the age-stratified model from TA2\n",
    "2. Set intial population conditions from https://www.health.ny.gov/statistics/vital_statistics/2016/table01.htm\n",
    "3. Set vaccination variables using https://health.data.ny.gov/Health/New-York-State-Statewide-COVID-19-Vaccination-Data/duk7-xrni and https://data.cdc.gov/Vaccinations/COVID-19-Vaccinations-in-the-United-States-Jurisdi/unsk-b7fc"
   ]
  },
  {
   "cell_type": "code",
   "execution_count": null,
   "id": "bd9ff0f6-a442-4fec-bf2a-dd872bb52cd7",
   "metadata": {},
   "outputs": [],
   "source": []
  }
 ],
 "metadata": {
  "kernelspec": {
   "display_name": "Python 3 (ipykernel)",
   "language": "python",
   "name": "python3"
  },
  "language_info": {
   "codemirror_mode": {
    "name": "ipython",
    "version": 3
   },
   "file_extension": ".py",
   "mimetype": "text/x-python",
   "name": "python",
   "nbconvert_exporter": "python",
   "pygments_lexer": "ipython3",
   "version": "3.10.12"
  }
 },
 "nbformat": 4,
 "nbformat_minor": 5
}
