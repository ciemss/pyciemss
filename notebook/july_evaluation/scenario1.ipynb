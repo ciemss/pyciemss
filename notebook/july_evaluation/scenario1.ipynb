{
 "cells": [
  {
   "cell_type": "code",
   "execution_count": 9,
   "metadata": {},
   "outputs": [],
   "source": [
    "import os\n",
    "import urllib.request, json \n",
    "import pandas as pd\n",
    "from IPython.display import HTML\n",
    "from IPython import display\n",
    "from pyciemss.PetriNetODE.interfaces import (\n",
    "    load_and_sample_petri_model,\n",
    "    load_and_calibrate_and_sample_petri_model,\n",
    "    load_petri_model,\n",
    "    setup_petri_model,\n",
    "    sample\n",
    ")\n",
    "import numpy as np\n",
    "from typing import Iterable\n",
    "from pyciemss.visuals import plots\n",
    "from pyciemss.utils.interface_utils import (\n",
    "    assign_interventions_to_timepoints,\n",
    "    interventions_and_sampled_params_to_interval,\n",
    "    convert_to_output_format\n",
    ")\n",
    "from pyciemss.utils import get_tspan\n",
    "import matplotlib.pyplot as plt\n",
    "import torch\n",
    "from torch import tensor"
   ]
  },
  {
   "cell_type": "code",
   "execution_count": null,
   "metadata": {},
   "outputs": [],
   "source": [
    "COLORS=['red','green','blue','black','gold','purple','orangered']\n",
    "\n",
    "def aggregate_results(samples_df, num_samples=1):\n",
    "    QoIs = [\"D_sol\", \"E_sol\", \"I_sol\", \"R_sol\", \"S_sol\"]\n",
    "    all_QoIs = {key: None for key in QoIs}\n",
    "    for QoI in QoIs:\n",
    "        # Aggregate results\n",
    "        # TODO: After they introduce normalized models, remove normalization here.\n",
    "        # /total_pop * 100\n",
    "        # total_pop = 0\n",
    "        # for val in QoIs:\n",
    "        #     total_pop += samples_df[samples_df[\"sample_id\"] == 0][val].to_numpy()[0]\n",
    "        all_QoIs[QoI] = [samples_df[samples_df[\"sample_id\"] == i][QoI].to_numpy() for i in range(num_samples)]\n",
    "    return all_QoIs\n",
    "\n",
    "def plotseird(t, S, E, I, R, D=None, L=None, R0=None, Alpha=None, CFR=None, ax=None):\n",
    "    if ax is None:\n",
    "        f, ax = plt.subplots(1,1,figsize=(10,4))\n",
    "    N = S[0] + E[0] + I[0] + R[0] + D[0]\n",
    "    ax.plot(t, (S/N)*100, 'b--', alpha=0.7, linewidth=2, label='Susceptible')\n",
    "    ax.plot(t, (E/N)*100, 'y.', alpha=0.7, linewidth=2, label='Exposed')\n",
    "    ax.plot(t, (I/N)*100, 'r', alpha=0.7, linewidth=2, label='Infected')\n",
    "    ax.plot(t, (R/N)*100, 'g-.', alpha=0.7, linewidth=2, label='Recovered')\n",
    "\n",
    "    if D is not None:\n",
    "        ax.plot(t, D/N, 'k', alpha=0.7, linewidth=2, label='Dead')\n",
    "        ax.plot(t, ((S+E+I+R+D)/N)*100, 'c:', alpha=0.7, linewidth=2, label='Total')\n",
    "    else:\n",
    "        ax.plot(t, ((S+E+I+R)/N)*100, 'c:', alpha=0.7, linewidth=2, label='Total')\n",
    "\n",
    "    ax.set_xlabel('Time (days)')\n",
    "    ax.set_ylabel('Percentage of Population (%)')\n",
    "\n",
    "    ax.yaxis.set_tick_params(length=0)\n",
    "    ax.xaxis.set_tick_params(length=0)\n",
    "    ax.grid(visible=True, which='major', c='w', lw=2, ls='-')\n",
    "    legend = ax.legend(borderpad=2.0)\n",
    "    legend.get_frame().set_alpha(0.5)\n",
    "    for spine in ('top', 'right', 'bottom', 'left'):\n",
    "        ax.spines[spine].set_visible(False)\n",
    "    if L is not None:\n",
    "        plt.title(\"Lockdown after {} days\".format(L))\n",
    "    # plt.show()\n",
    "\n",
    "    if R0 is not None or CFR is not None:\n",
    "        f = plt.figure(figsize=(12,4))\n",
    "    \n",
    "    if R0 is not None:\n",
    "        # sp1\n",
    "        ax1 = f.add_subplot(121)\n",
    "        ax1.plot(t, R0, 'b--', alpha=0.7, linewidth=2, label='R_0')\n",
    "\n",
    "        ax1.set_xlabel('Time (days)')\n",
    "        ax1.title.set_text('R_0 over time')\n",
    "        # ax.set_ylabel('Number (1000s)')\n",
    "        # ax.set_ylim(0,1.2)\n",
    "        ax1.yaxis.set_tick_params(length=0)\n",
    "        ax1.xaxis.set_tick_params(length=0)\n",
    "        ax1.grid(b=True, which='major', c='w', lw=2, ls='-')\n",
    "        legend = ax1.legend()\n",
    "        legend.get_frame().set_alpha(0.5)\n",
    "        for spine in ('top', 'right', 'bottom', 'left'):\n",
    "            ax.spines[spine].set_visible(False)\n",
    "\n",
    "    if Alpha is not None:\n",
    "        # sp2\n",
    "        ax2 = f.add_subplot(122)\n",
    "        ax2.plot(t, Alpha, 'r--', alpha=0.7, linewidth=2, label='alpha')\n",
    "\n",
    "        ax2.set_xlabel('Time (days)')\n",
    "        ax2.title.set_text('fatality rate over time')\n",
    "        # ax.set_ylabel('Number (1000s)')\n",
    "        # ax.set_ylim(0,1.2)\n",
    "        ax2.yaxis.set_tick_params(length=0)\n",
    "        ax2.xaxis.set_tick_params(length=0)\n",
    "        ax2.grid(b=True, which='major', c='w', lw=2, ls='-')\n",
    "        legend = ax2.legend()\n",
    "        legend.get_frame().set_alpha(0.5)\n",
    "        for spine in ('top', 'right', 'bottom', 'left'):\n",
    "            ax.spines[spine].set_visible(False)\n",
    "\n",
    "    # plt.show()"
   ]
  },
  {
   "cell_type": "code",
   "execution_count": null,
   "metadata": {},
   "outputs": [],
   "source": [
    "# Add '?raw=true' at the end of the link to the file to get the rawgithubusercontent link.\n",
    "def update_AMR(SEIRD_model_url, SEIRD_model_path):\n",
    "    with urllib.request.urlopen(SEIRD_model_url) as url:\n",
    "        json_object = json.load(url)\n",
    "        with open(SEIRD_model_path, \"w\") as outfile:\n",
    "            json.dump(json_object, outfile)\n",
    "\n",
    "def change_model_parameters(filename, new_params):\n",
    "    # new params = [(param, value), (param, value)]\n",
    "    with open(filename, 'r') as f:\n",
    "        model = json.load(f)\n",
    "        # Change initial parameters\n",
    "        for (param, value) in new_params:\n",
    "            for idx in model[\"semantics\"][\"ode\"][\"parameters\"]:\n",
    "                if idx[\"id\"] == param:\n",
    "                    idx[\"value\"] = value\n",
    "    return model"
   ]
  },
  {
   "cell_type": "code",
   "execution_count": null,
   "metadata": {},
   "outputs": [],
   "source": [
    "# 1b\n",
    "SEIRD_model_path = \"scenario1_a_ii_1.json\"\n",
    "SEIRD_model_url = \"https://raw.githubusercontent.com/indralab/mira/hackathon/notebooks/evaluation_2023.07/eval_scenario1_1_ii_1.json\"\n",
    "# NOTE: This is only if you wish to update the AMR.\n",
    "update_AMR(SEIRD_model_url, SEIRD_model_path)"
   ]
  },
  {
   "cell_type": "code",
   "execution_count": null,
   "metadata": {},
   "outputs": [],
   "source": [
    "num_samples = 1\n",
    "start_time = 0\n",
    "end_time = 31 # Next 4 weeks of the pandemic.\n",
    "num_timepoints = (end_time-start_time)*10 + 1\n",
    "timepoints = get_tspan(start_time, end_time, num_timepoints)"
   ]
  },
  {
   "cell_type": "code",
   "execution_count": 10,
   "metadata": {},
   "outputs": [
    {
     "name": "stdout",
     "output_type": "stream",
     "text": [
      "\n"
     ]
    },
    {
     "data": {
      "application/vnd.vega.v5+json": {
       "$schema": "https://vega.github.io/schema/vega/v5.json",
       "axes": [
        {
         "name": "x_axis",
         "orient": "bottom",
         "scale": "xscale",
         "zindex": 100
        },
        {
         "name": "y_axis",
         "orient": "left",
         "scale": "yscale",
         "zindex": 100
        }
       ],
       "data": [
        {
         "name": "distributions",
         "values": [
          {
           "lower": 4.7999839221505536e-24,
           "timepoint": 0,
           "trajectory": "D_sol",
           "upper": 4.7999839221505536e-24
          },
          {
           "lower": 0.000004780096787726507,
           "timepoint": 1,
           "trajectory": "D_sol",
           "upper": 0.000004780096787726507
          },
          {
           "lower": 0.000019042798157897778,
           "timepoint": 2,
           "trajectory": "D_sol",
           "upper": 0.000019042798157897778
          },
          {
           "lower": 0.000042676176235545427,
           "timepoint": 3,
           "trajectory": "D_sol",
           "upper": 0.000042676176235545427
          },
          {
           "lower": 0.00007557416392955929,
           "timepoint": 4,
           "trajectory": "D_sol",
           "upper": 0.00007557416392955929
          },
          {
           "lower": 0.00011763614747906104,
           "timepoint": 5,
           "trajectory": "D_sol",
           "upper": 0.00011763614747906104
          },
          {
           "lower": 0.00016876714653335512,
           "timepoint": 6,
           "trajectory": "D_sol",
           "upper": 0.00016876714653335512
          },
          {
           "lower": 0.0002288773248437792,
           "timepoint": 7,
           "trajectory": "D_sol",
           "upper": 0.0002288773248437792
          },
          {
           "lower": 0.00029788201209157705,
           "timepoint": 8,
           "trajectory": "D_sol",
           "upper": 0.00029788201209157705
          },
          {
           "lower": 0.0003757003287319094,
           "timepoint": 9,
           "trajectory": "D_sol",
           "upper": 0.0003757003287319094
          },
          {
           "lower": 0.0004622582928277552,
           "timepoint": 10,
           "trajectory": "D_sol",
           "upper": 0.0004622582928277552
          },
          {
           "lower": 0.0005574851529672742,
           "timepoint": 11,
           "trajectory": "D_sol",
           "upper": 0.0005574851529672742
          },
          {
           "lower": 0.0006613144651055336,
           "timepoint": 12,
           "trajectory": "D_sol",
           "upper": 0.0006613144651055336
          },
          {
           "lower": 0.0007736864499747753,
           "timepoint": 13,
           "trajectory": "D_sol",
           "upper": 0.0007736864499747753
          },
          {
           "lower": 0.0008945410372689366,
           "timepoint": 14,
           "trajectory": "D_sol",
           "upper": 0.0008945410372689366
          },
          {
           "lower": 0.001023826072923839,
           "timepoint": 15,
           "trajectory": "D_sol",
           "upper": 0.001023826072923839
          },
          {
           "lower": 0.0011614917311817408,
           "timepoint": 16,
           "trajectory": "D_sol",
           "upper": 0.0011614917311817408
          },
          {
           "lower": 0.0013074916787445545,
           "timepoint": 17,
           "trajectory": "D_sol",
           "upper": 0.0013074916787445545
          },
          {
           "lower": 0.0014617849374189973,
           "timepoint": 18,
           "trajectory": "D_sol",
           "upper": 0.0014617849374189973
          },
          {
           "lower": 0.0016243326244875789,
           "timepoint": 19,
           "trajectory": "D_sol",
           "upper": 0.0016243326244875789
          },
          {
           "lower": 0.0017951003974303603,
           "timepoint": 20,
           "trajectory": "D_sol",
           "upper": 0.0017951003974303603
          },
          {
           "lower": 0.0019740567076951265,
           "timepoint": 21,
           "trajectory": "D_sol",
           "upper": 0.0019740567076951265
          },
          {
           "lower": 0.0021611745469272137,
           "timepoint": 22,
           "trajectory": "D_sol",
           "upper": 0.0021611745469272137
          },
          {
           "lower": 0.0023564263246953487,
           "timepoint": 23,
           "trajectory": "D_sol",
           "upper": 0.0023564263246953487
          },
          {
           "lower": 0.002559792250394821,
           "timepoint": 24,
           "trajectory": "D_sol",
           "upper": 0.002559792250394821
          },
          {
           "lower": 0.0027712523005902767,
           "timepoint": 25,
           "trajectory": "D_sol",
           "upper": 0.0027712523005902767
          },
          {
           "lower": 0.0029907915741205215,
           "timepoint": 26,
           "trajectory": "D_sol",
           "upper": 0.0029907915741205215
          },
          {
           "lower": 0.0032183993607759476,
           "timepoint": 27,
           "trajectory": "D_sol",
           "upper": 0.0032183993607759476
          },
          {
           "lower": 0.0034540616907179356,
           "timepoint": 28,
           "trajectory": "D_sol",
           "upper": 0.0034540616907179356
          },
          {
           "lower": 0.0036977732088416815,
           "timepoint": 29,
           "trajectory": "D_sol",
           "upper": 0.0036977732088416815
          },
          {
           "lower": 0.003949529025703669,
           "timepoint": 30,
           "trajectory": "D_sol",
           "upper": 0.003949529025703669
          },
          {
           "lower": 0.004209327977150679,
           "timepoint": 31,
           "trajectory": "D_sol",
           "upper": 0.004209327977150679
          },
          {
           "lower": 0.004477168433368206,
           "timepoint": 32,
           "trajectory": "D_sol",
           "upper": 0.004477168433368206
          },
          {
           "lower": 0.004753055050969124,
           "timepoint": 33,
           "trajectory": "D_sol",
           "upper": 0.004753055050969124
          },
          {
           "lower": 0.005036994349211454,
           "timepoint": 34,
           "trajectory": "D_sol",
           "upper": 0.005036994349211454
          },
          {
           "lower": 0.005328991916030645,
           "timepoint": 35,
           "trajectory": "D_sol",
           "upper": 0.005328991916030645
          },
          {
           "lower": 0.005629059858620167,
           "timepoint": 36,
           "trajectory": "D_sol",
           "upper": 0.005629059858620167
          },
          {
           "lower": 0.005937209818512201,
           "timepoint": 37,
           "trajectory": "D_sol",
           "upper": 0.005937209818512201
          },
          {
           "lower": 0.006253455765545368,
           "timepoint": 38,
           "trajectory": "D_sol",
           "upper": 0.006253455765545368
          },
          {
           "lower": 0.006577816791832447,
           "timepoint": 39,
           "trajectory": "D_sol",
           "upper": 0.006577816791832447
          },
          {
           "lower": 0.006910310126841068,
           "timepoint": 40,
           "trajectory": "D_sol",
           "upper": 0.006910310126841068
          },
          {
           "lower": 0.007250957656651735,
           "timepoint": 41,
           "trajectory": "D_sol",
           "upper": 0.007250957656651735
          },
          {
           "lower": 0.00759978499263525,
           "timepoint": 42,
           "trajectory": "D_sol",
           "upper": 0.00759978499263525
          },
          {
           "lower": 0.007956813089549541,
           "timepoint": 43,
           "trajectory": "D_sol",
           "upper": 0.007956813089549541
          },
          {
           "lower": 0.008322068490087986,
           "timepoint": 44,
           "trajectory": "D_sol",
           "upper": 0.008322068490087986
          },
          {
           "lower": 0.00869558472186327,
           "timepoint": 45,
           "trajectory": "D_sol",
           "upper": 0.00869558472186327
          },
          {
           "lower": 0.009077392518520355,
           "timepoint": 46,
           "trajectory": "D_sol",
           "upper": 0.009077392518520355
          },
          {
           "lower": 0.009467526338994503,
           "timepoint": 47,
           "trajectory": "D_sol",
           "upper": 0.009467526338994503
          },
          {
           "lower": 0.009866015985608101,
           "timepoint": 48,
           "trajectory": "D_sol",
           "upper": 0.009866015985608101
          },
          {
           "lower": 0.010272902436554432,
           "timepoint": 49,
           "trajectory": "D_sol",
           "upper": 0.010272902436554432
          },
          {
           "lower": 0.010688222013413906,
           "timepoint": 50,
           "trajectory": "D_sol",
           "upper": 0.010688222013413906
          },
          {
           "lower": 0.011112016625702381,
           "timepoint": 51,
           "trajectory": "D_sol",
           "upper": 0.011112016625702381
          },
          {
           "lower": 0.011544330045580864,
           "timepoint": 52,
           "trajectory": "D_sol",
           "upper": 0.011544330045580864
          },
          {
           "lower": 0.011985202319920063,
           "timepoint": 53,
           "trajectory": "D_sol",
           "upper": 0.011985202319920063
          },
          {
           "lower": 0.012434681877493858,
           "timepoint": 54,
           "trajectory": "D_sol",
           "upper": 0.012434681877493858
          },
          {
           "lower": 0.01289281528443098,
           "timepoint": 55,
           "trajectory": "D_sol",
           "upper": 0.01289281528443098
          },
          {
           "lower": 0.013359651900827885,
           "timepoint": 56,
           "trajectory": "D_sol",
           "upper": 0.013359651900827885
          },
          {
           "lower": 0.013835245743393898,
           "timepoint": 57,
           "trajectory": "D_sol",
           "upper": 0.013835245743393898
          },
          {
           "lower": 0.014319648034870625,
           "timepoint": 58,
           "trajectory": "D_sol",
           "upper": 0.014319648034870625
          },
          {
           "lower": 0.014812909066677094,
           "timepoint": 59,
           "trajectory": "D_sol",
           "upper": 0.014812909066677094
          },
          {
           "lower": 0.015315087512135506,
           "timepoint": 60,
           "trajectory": "D_sol",
           "upper": 0.015315087512135506
          },
          {
           "lower": 0.01582624390721321,
           "timepoint": 61,
           "trajectory": "D_sol",
           "upper": 0.01582624390721321
          },
          {
           "lower": 0.016346432268619537,
           "timepoint": 62,
           "trajectory": "D_sol",
           "upper": 0.016346432268619537
          },
          {
           "lower": 0.016875719651579857,
           "timepoint": 63,
           "trajectory": "D_sol",
           "upper": 0.016875719651579857
          },
          {
           "lower": 0.017414165660738945,
           "timepoint": 64,
           "trajectory": "D_sol",
           "upper": 0.017414165660738945
          },
          {
           "lower": 0.017961807548999786,
           "timepoint": 65,
           "trajectory": "D_sol",
           "upper": 0.017961807548999786
          },
          {
           "lower": 0.018518751487135887,
           "timepoint": 66,
           "trajectory": "D_sol",
           "upper": 0.018518751487135887
          },
          {
           "lower": 0.019085051491856575,
           "timepoint": 67,
           "trajectory": "D_sol",
           "upper": 0.019085051491856575
          },
          {
           "lower": 0.019660767167806625,
           "timepoint": 68,
           "trajectory": "D_sol",
           "upper": 0.019660767167806625
          },
          {
           "lower": 0.020245974883437157,
           "timepoint": 69,
           "trajectory": "D_sol",
           "upper": 0.020245974883437157
          },
          {
           "lower": 0.02084074728190899,
           "timepoint": 70,
           "trajectory": "D_sol",
           "upper": 0.02084074728190899
          },
          {
           "lower": 0.021445151418447495,
           "timepoint": 71,
           "trajectory": "D_sol",
           "upper": 0.021445151418447495
          },
          {
           "lower": 0.02205926924943924,
           "timepoint": 72,
           "trajectory": "D_sol",
           "upper": 0.02205926924943924
          },
          {
           "lower": 0.022683221846818924,
           "timepoint": 73,
           "trajectory": "D_sol",
           "upper": 0.022683221846818924
          },
          {
           "lower": 0.0233170036226511,
           "timepoint": 74,
           "trajectory": "D_sol",
           "upper": 0.0233170036226511
          },
          {
           "lower": 0.02396073192358017,
           "timepoint": 75,
           "trajectory": "D_sol",
           "upper": 0.02396073192358017
          },
          {
           "lower": 0.0246144849807024,
           "timepoint": 76,
           "trajectory": "D_sol",
           "upper": 0.0246144849807024
          },
          {
           "lower": 0.025278348475694656,
           "timepoint": 77,
           "trajectory": "D_sol",
           "upper": 0.025278348475694656
          },
          {
           "lower": 0.025952402502298355,
           "timepoint": 78,
           "trajectory": "D_sol",
           "upper": 0.025952402502298355
          },
          {
           "lower": 0.02663673460483551,
           "timepoint": 79,
           "trajectory": "D_sol",
           "upper": 0.02663673460483551
          },
          {
           "lower": 0.027331432327628136,
           "timepoint": 80,
           "trajectory": "D_sol",
           "upper": 0.027331432327628136
          },
          {
           "lower": 0.028036639094352722,
           "timepoint": 81,
           "trajectory": "D_sol",
           "upper": 0.028036639094352722
          },
          {
           "lower": 0.028752347454428673,
           "timepoint": 82,
           "trajectory": "D_sol",
           "upper": 0.028752347454428673
          },
          {
           "lower": 0.02947870083153248,
           "timepoint": 83,
           "trajectory": "D_sol",
           "upper": 0.02947870083153248
          },
          {
           "lower": 0.030215786769986153,
           "timepoint": 84,
           "trajectory": "D_sol",
           "upper": 0.030215786769986153
          },
          {
           "lower": 0.03096369467675686,
           "timepoint": 85,
           "trajectory": "D_sol",
           "upper": 0.03096369467675686
          },
          {
           "lower": 0.0317225344479084,
           "timepoint": 86,
           "trajectory": "D_sol",
           "upper": 0.0317225344479084
          },
          {
           "lower": 0.03249238431453705,
           "timepoint": 87,
           "trajectory": "D_sol",
           "upper": 0.03249238431453705
          },
          {
           "lower": 0.0332733690738678,
           "timepoint": 88,
           "trajectory": "D_sol",
           "upper": 0.0332733690738678
          },
          {
           "lower": 0.034065570682287216,
           "timepoint": 89,
           "trajectory": "D_sol",
           "upper": 0.034065570682287216
          },
          {
           "lower": 0.03486911207437515,
           "timepoint": 90,
           "trajectory": "D_sol",
           "upper": 0.03486911207437515
          },
          {
           "lower": 0.03568407893180847,
           "timepoint": 91,
           "trajectory": "D_sol",
           "upper": 0.03568407893180847
          },
          {
           "lower": 0.03651057556271553,
           "timepoint": 92,
           "trajectory": "D_sol",
           "upper": 0.03651057556271553
          },
          {
           "lower": 0.037348732352256775,
           "timepoint": 93,
           "trajectory": "D_sol",
           "upper": 0.037348732352256775
          },
          {
           "lower": 0.03819863125681877,
           "timepoint": 94,
           "trajectory": "D_sol",
           "upper": 0.03819863125681877
          },
          {
           "lower": 0.03906039893627167,
           "timepoint": 95,
           "trajectory": "D_sol",
           "upper": 0.03906039893627167
          },
          {
           "lower": 0.039934150874614716,
           "timepoint": 96,
           "trajectory": "D_sol",
           "upper": 0.039934150874614716
          },
          {
           "lower": 0.04081999137997627,
           "timepoint": 97,
           "trajectory": "D_sol",
           "upper": 0.04081999137997627
          },
          {
           "lower": 0.041718047112226486,
           "timepoint": 98,
           "trajectory": "D_sol",
           "upper": 0.041718047112226486
          },
          {
           "lower": 0.04262842237949371,
           "timepoint": 99,
           "trajectory": "D_sol",
           "upper": 0.04262842237949371
          },
          {
           "lower": 0.04355129972100258,
           "timepoint": 100,
           "trajectory": "D_sol",
           "upper": 0.04355129972100258
          },
          {
           "lower": 0.04448671266436577,
           "timepoint": 101,
           "trajectory": "D_sol",
           "upper": 0.04448671266436577
          },
          {
           "lower": 0.04543481022119522,
           "timepoint": 102,
           "trajectory": "D_sol",
           "upper": 0.04543481022119522
          },
          {
           "lower": 0.04639573395252228,
           "timepoint": 103,
           "trajectory": "D_sol",
           "upper": 0.04639573395252228
          },
          {
           "lower": 0.04736960679292679,
           "timepoint": 104,
           "trajectory": "D_sol",
           "upper": 0.04736960679292679
          },
          {
           "lower": 0.048356544226408005,
           "timepoint": 105,
           "trajectory": "D_sol",
           "upper": 0.048356544226408005
          },
          {
           "lower": 0.049356698989868164,
           "timepoint": 106,
           "trajectory": "D_sol",
           "upper": 0.049356698989868164
          },
          {
           "lower": 0.05037017539143562,
           "timepoint": 107,
           "trajectory": "D_sol",
           "upper": 0.05037017539143562
          },
          {
           "lower": 0.051397133618593216,
           "timepoint": 108,
           "trajectory": "D_sol",
           "upper": 0.051397133618593216
          },
          {
           "lower": 0.05243770405650139,
           "timepoint": 109,
           "trajectory": "D_sol",
           "upper": 0.05243770405650139
          },
          {
           "lower": 0.05349200963973999,
           "timepoint": 110,
           "trajectory": "D_sol",
           "upper": 0.05349200963973999
          },
          {
           "lower": 0.05456014350056648,
           "timepoint": 111,
           "trajectory": "D_sol",
           "upper": 0.05456014350056648
          },
          {
           "lower": 0.05564233660697937,
           "timepoint": 112,
           "trajectory": "D_sol",
           "upper": 0.05564233660697937
          },
          {
           "lower": 0.056738708168268204,
           "timepoint": 113,
           "trajectory": "D_sol",
           "upper": 0.056738708168268204
          },
          {
           "lower": 0.05784938484430313,
           "timepoint": 114,
           "trajectory": "D_sol",
           "upper": 0.05784938484430313
          },
          {
           "lower": 0.05897451937198639,
           "timepoint": 115,
           "trajectory": "D_sol",
           "upper": 0.05897451937198639
          },
          {
           "lower": 0.06011426821351051,
           "timepoint": 116,
           "trajectory": "D_sol",
           "upper": 0.06011426821351051
          },
          {
           "lower": 0.06126875802874565,
           "timepoint": 117,
           "trajectory": "D_sol",
           "upper": 0.06126875802874565
          },
          {
           "lower": 0.062438175082206726,
           "timepoint": 118,
           "trajectory": "D_sol",
           "upper": 0.062438175082206726
          },
          {
           "lower": 0.06362266093492508,
           "timepoint": 119,
           "trajectory": "D_sol",
           "upper": 0.06362266093492508
          },
          {
           "lower": 0.06482235342264175,
           "timepoint": 120,
           "trajectory": "D_sol",
           "upper": 0.06482235342264175
          },
          {
           "lower": 0.06603743880987167,
           "timepoint": 121,
           "trajectory": "D_sol",
           "upper": 0.06603743880987167
          },
          {
           "lower": 0.0672680139541626,
           "timepoint": 122,
           "trajectory": "D_sol",
           "upper": 0.0672680139541626
          },
          {
           "lower": 0.06851434707641602,
           "timepoint": 123,
           "trajectory": "D_sol",
           "upper": 0.06851434707641602
          },
          {
           "lower": 0.06977653503417969,
           "timepoint": 124,
           "trajectory": "D_sol",
           "upper": 0.06977653503417969
          },
          {
           "lower": 0.07105475664138794,
           "timepoint": 125,
           "trajectory": "D_sol",
           "upper": 0.07105475664138794
          },
          {
           "lower": 0.0723491907119751,
           "timepoint": 126,
           "trajectory": "D_sol",
           "upper": 0.0723491907119751
          },
          {
           "lower": 0.07366000860929489,
           "timepoint": 127,
           "trajectory": "D_sol",
           "upper": 0.07366000860929489
          },
          {
           "lower": 0.07498736679553986,
           "timepoint": 128,
           "trajectory": "D_sol",
           "upper": 0.07498736679553986
          },
          {
           "lower": 0.07633145153522491,
           "timepoint": 129,
           "trajectory": "D_sol",
           "upper": 0.07633145153522491
          },
          {
           "lower": 0.0776924341917038,
           "timepoint": 130,
           "trajectory": "D_sol",
           "upper": 0.0776924341917038
          },
          {
           "lower": 0.07907050848007202,
           "timepoint": 131,
           "trajectory": "D_sol",
           "upper": 0.07907050848007202
          },
          {
           "lower": 0.08046583086252213,
           "timepoint": 132,
           "trajectory": "D_sol",
           "upper": 0.08046583086252213
          },
          {
           "lower": 0.08187862485647202,
           "timepoint": 133,
           "trajectory": "D_sol",
           "upper": 0.08187862485647202
          },
          {
           "lower": 0.08330905437469482,
           "timepoint": 134,
           "trajectory": "D_sol",
           "upper": 0.08330905437469482
          },
          {
           "lower": 0.08475729823112488,
           "timepoint": 135,
           "trajectory": "D_sol",
           "upper": 0.08475729823112488
          },
          {
           "lower": 0.08622357249259949,
           "timepoint": 136,
           "trajectory": "D_sol",
           "upper": 0.08622357249259949
          },
          {
           "lower": 0.08770804852247238,
           "timepoint": 137,
           "trajectory": "D_sol",
           "upper": 0.08770804852247238
          },
          {
           "lower": 0.08921094983816147,
           "timepoint": 138,
           "trajectory": "D_sol",
           "upper": 0.08921094983816147
          },
          {
           "lower": 0.09073245525360107,
           "timepoint": 139,
           "trajectory": "D_sol",
           "upper": 0.09073245525360107
          },
          {
           "lower": 0.09227275103330612,
           "timepoint": 140,
           "trajectory": "D_sol",
           "upper": 0.09227275103330612
          },
          {
           "lower": 0.09383207559585571,
           "timepoint": 141,
           "trajectory": "D_sol",
           "upper": 0.09383207559585571
          },
          {
           "lower": 0.09541061520576477,
           "timepoint": 142,
           "trajectory": "D_sol",
           "upper": 0.09541061520576477
          },
          {
           "lower": 0.0970086008310318,
           "timepoint": 143,
           "trajectory": "D_sol",
           "upper": 0.0970086008310318
          },
          {
           "lower": 0.09862621873617172,
           "timepoint": 144,
           "trajectory": "D_sol",
           "upper": 0.09862621873617172
          },
          {
           "lower": 0.10026367008686066,
           "timepoint": 145,
           "trajectory": "D_sol",
           "upper": 0.10026367008686066
          },
          {
           "lower": 0.1019212156534195,
           "timepoint": 146,
           "trajectory": "D_sol",
           "upper": 0.1019212156534195
          },
          {
           "lower": 0.10359904915094376,
           "timepoint": 147,
           "trajectory": "D_sol",
           "upper": 0.10359904915094376
          },
          {
           "lower": 0.10529737919569016,
           "timepoint": 148,
           "trajectory": "D_sol",
           "upper": 0.10529737919569016
          },
          {
           "lower": 0.10701645910739899,
           "timepoint": 149,
           "trajectory": "D_sol",
           "upper": 0.10701645910739899
          },
          {
           "lower": 0.10875649005174637,
           "timepoint": 150,
           "trajectory": "D_sol",
           "upper": 0.10875649005174637
          },
          {
           "lower": 0.1105177253484726,
           "timepoint": 151,
           "trajectory": "D_sol",
           "upper": 0.1105177253484726
          },
          {
           "lower": 0.11230038106441498,
           "timepoint": 152,
           "trajectory": "D_sol",
           "upper": 0.11230038106441498
          },
          {
           "lower": 0.11410471051931381,
           "timepoint": 153,
           "trajectory": "D_sol",
           "upper": 0.11410471051931381
          },
          {
           "lower": 0.11593092978000641,
           "timepoint": 154,
           "trajectory": "D_sol",
           "upper": 0.11593092978000641
          },
          {
           "lower": 0.11777929216623306,
           "timepoint": 155,
           "trajectory": "D_sol",
           "upper": 0.11777929216623306
          },
          {
           "lower": 0.11965003609657288,
           "timepoint": 156,
           "trajectory": "D_sol",
           "upper": 0.11965003609657288
          },
          {
           "lower": 0.12154342234134674,
           "timepoint": 157,
           "trajectory": "D_sol",
           "upper": 0.12154342234134674
          },
          {
           "lower": 0.12345969676971436,
           "timepoint": 158,
           "trajectory": "D_sol",
           "upper": 0.12345969676971436
          },
          {
           "lower": 0.12539909780025482,
           "timepoint": 159,
           "trajectory": "D_sol",
           "upper": 0.12539909780025482
          },
          {
           "lower": 0.12736187875270844,
           "timepoint": 160,
           "trajectory": "D_sol",
           "upper": 0.12736187875270844
          },
          {
           "lower": 0.12934830784797668,
           "timepoint": 161,
           "trajectory": "D_sol",
           "upper": 0.12934830784797668
          },
          {
           "lower": 0.13135869801044464,
           "timepoint": 162,
           "trajectory": "D_sol",
           "upper": 0.13135869801044464
          },
          {
           "lower": 0.13339321315288544,
           "timepoint": 163,
           "trajectory": "D_sol",
           "upper": 0.13339321315288544
          },
          {
           "lower": 0.1354522407054901,
           "timepoint": 164,
           "trajectory": "D_sol",
           "upper": 0.1354522407054901
          },
          {
           "lower": 0.1375359296798706,
           "timepoint": 165,
           "trajectory": "D_sol",
           "upper": 0.1375359296798706
          },
          {
           "lower": 0.13964462280273438,
           "timepoint": 166,
           "trajectory": "D_sol",
           "upper": 0.13964462280273438
          },
          {
           "lower": 0.14177864789962769,
           "timepoint": 167,
           "trajectory": "D_sol",
           "upper": 0.14177864789962769
          },
          {
           "lower": 0.14393815398216248,
           "timepoint": 168,
           "trajectory": "D_sol",
           "upper": 0.14393815398216248
          },
          {
           "lower": 0.1461234986782074,
           "timepoint": 169,
           "trajectory": "D_sol",
           "upper": 0.1461234986782074
          },
          {
           "lower": 0.14833500981330872,
           "timepoint": 170,
           "trajectory": "D_sol",
           "upper": 0.14833500981330872
          },
          {
           "lower": 0.15057286620140076,
           "timepoint": 171,
           "trajectory": "D_sol",
           "upper": 0.15057286620140076
          },
          {
           "lower": 0.15283754467964172,
           "timepoint": 172,
           "trajectory": "D_sol",
           "upper": 0.15283754467964172
          },
          {
           "lower": 0.15512911975383759,
           "timepoint": 173,
           "trajectory": "D_sol",
           "upper": 0.15512911975383759
          },
          {
           "lower": 0.15744808316230774,
           "timepoint": 174,
           "trajectory": "D_sol",
           "upper": 0.15744808316230774
          },
          {
           "lower": 0.1597946286201477,
           "timepoint": 175,
           "trajectory": "D_sol",
           "upper": 0.1597946286201477
          },
          {
           "lower": 0.16216950118541718,
           "timepoint": 176,
           "trajectory": "D_sol",
           "upper": 0.16216950118541718
          },
          {
           "lower": 0.1645723581314087,
           "timepoint": 177,
           "trajectory": "D_sol",
           "upper": 0.1645723581314087
          },
          {
           "lower": 0.16700369119644165,
           "timepoint": 178,
           "trajectory": "D_sol",
           "upper": 0.16700369119644165
          },
          {
           "lower": 0.16946394741535187,
           "timepoint": 179,
           "trajectory": "D_sol",
           "upper": 0.16946394741535187
          },
          {
           "lower": 0.17195339500904083,
           "timepoint": 180,
           "trajectory": "D_sol",
           "upper": 0.17195339500904083
          },
          {
           "lower": 0.174472376704216,
           "timepoint": 181,
           "trajectory": "D_sol",
           "upper": 0.174472376704216
          },
          {
           "lower": 0.17702129483222961,
           "timepoint": 182,
           "trajectory": "D_sol",
           "upper": 0.17702129483222961
          },
          {
           "lower": 0.1796003133058548,
           "timepoint": 183,
           "trajectory": "D_sol",
           "upper": 0.1796003133058548
          },
          {
           "lower": 0.18220993876457214,
           "timepoint": 184,
           "trajectory": "D_sol",
           "upper": 0.18220993876457214
          },
          {
           "lower": 0.18485042452812195,
           "timepoint": 185,
           "trajectory": "D_sol",
           "upper": 0.18485042452812195
          },
          {
           "lower": 0.18752211332321167,
           "timepoint": 186,
           "trajectory": "D_sol",
           "upper": 0.18752211332321167
          },
          {
           "lower": 0.1902254968881607,
           "timepoint": 187,
           "trajectory": "D_sol",
           "upper": 0.1902254968881607
          },
          {
           "lower": 0.1929606944322586,
           "timepoint": 188,
           "trajectory": "D_sol",
           "upper": 0.1929606944322586
          },
          {
           "lower": 0.19572827219963074,
           "timepoint": 189,
           "trajectory": "D_sol",
           "upper": 0.19572827219963074
          },
          {
           "lower": 0.1985289454460144,
           "timepoint": 190,
           "trajectory": "D_sol",
           "upper": 0.1985289454460144
          },
          {
           "lower": 0.2013622373342514,
           "timepoint": 191,
           "trajectory": "D_sol",
           "upper": 0.2013622373342514
          },
          {
           "lower": 0.20422908663749695,
           "timepoint": 192,
           "trajectory": "D_sol",
           "upper": 0.20422908663749695
          },
          {
           "lower": 0.2071295827627182,
           "timepoint": 193,
           "trajectory": "D_sol",
           "upper": 0.2071295827627182
          },
          {
           "lower": 0.2100643515586853,
           "timepoint": 194,
           "trajectory": "D_sol",
           "upper": 0.2100643515586853
          },
          {
           "lower": 0.21303367614746094,
           "timepoint": 195,
           "trajectory": "D_sol",
           "upper": 0.21303367614746094
          },
          {
           "lower": 0.21603789925575256,
           "timepoint": 196,
           "trajectory": "D_sol",
           "upper": 0.21603789925575256
          },
          {
           "lower": 0.21907760202884674,
           "timepoint": 197,
           "trajectory": "D_sol",
           "upper": 0.21907760202884674
          },
          {
           "lower": 0.2221529483795166,
           "timepoint": 198,
           "trajectory": "D_sol",
           "upper": 0.2221529483795166
          },
          {
           "lower": 0.22526448965072632,
           "timepoint": 199,
           "trajectory": "D_sol",
           "upper": 0.22526448965072632
          },
          {
           "lower": 0.22841261327266693,
           "timepoint": 200,
           "trajectory": "D_sol",
           "upper": 0.22841261327266693
          },
          {
           "lower": 0.23159770667552948,
           "timepoint": 201,
           "trajectory": "D_sol",
           "upper": 0.23159770667552948
          },
          {
           "lower": 0.23482029139995575,
           "timepoint": 202,
           "trajectory": "D_sol",
           "upper": 0.23482029139995575
          },
          {
           "lower": 0.23808060586452484,
           "timepoint": 203,
           "trajectory": "D_sol",
           "upper": 0.23808060586452484
          },
          {
           "lower": 0.24137894809246063,
           "timepoint": 204,
           "trajectory": "D_sol",
           "upper": 0.24137894809246063
          },
          {
           "lower": 0.24471619725227356,
           "timepoint": 205,
           "trajectory": "D_sol",
           "upper": 0.24471619725227356
          },
          {
           "lower": 0.24809254705905914,
           "timepoint": 206,
           "trajectory": "D_sol",
           "upper": 0.24809254705905914
          },
          {
           "lower": 0.25150859355926514,
           "timepoint": 207,
           "trajectory": "D_sol",
           "upper": 0.25150859355926514
          },
          {
           "lower": 0.25496456027030945,
           "timepoint": 208,
           "trajectory": "D_sol",
           "upper": 0.25496456027030945
          },
          {
           "lower": 0.25846102833747864,
           "timepoint": 209,
           "trajectory": "D_sol",
           "upper": 0.25846102833747864
          },
          {
           "lower": 0.2619984745979309,
           "timepoint": 210,
           "trajectory": "D_sol",
           "upper": 0.2619984745979309
          },
          {
           "lower": 0.2655772566795349,
           "timepoint": 211,
           "trajectory": "D_sol",
           "upper": 0.2655772566795349
          },
          {
           "lower": 0.2691980302333832,
           "timepoint": 212,
           "trajectory": "D_sol",
           "upper": 0.2691980302333832
          },
          {
           "lower": 0.2728610336780548,
           "timepoint": 213,
           "trajectory": "D_sol",
           "upper": 0.2728610336780548
          },
          {
           "lower": 0.27656692266464233,
           "timepoint": 214,
           "trajectory": "D_sol",
           "upper": 0.27656692266464233
          },
          {
           "lower": 0.28031617403030396,
           "timepoint": 215,
           "trajectory": "D_sol",
           "upper": 0.28031617403030396
          },
          {
           "lower": 0.2841092050075531,
           "timepoint": 216,
           "trajectory": "D_sol",
           "upper": 0.2841092050075531
          },
          {
           "lower": 0.2879467010498047,
           "timepoint": 217,
           "trajectory": "D_sol",
           "upper": 0.2879467010498047
          },
          {
           "lower": 0.29182887077331543,
           "timepoint": 218,
           "trajectory": "D_sol",
           "upper": 0.29182887077331543
          },
          {
           "lower": 0.29575657844543457,
           "timepoint": 219,
           "trajectory": "D_sol",
           "upper": 0.29575657844543457
          },
          {
           "lower": 0.29973000288009644,
           "timepoint": 220,
           "trajectory": "D_sol",
           "upper": 0.29973000288009644
          },
          {
           "lower": 0.3037497401237488,
           "timepoint": 221,
           "trajectory": "D_sol",
           "upper": 0.3037497401237488
          },
          {
           "lower": 0.3078165352344513,
           "timepoint": 222,
           "trajectory": "D_sol",
           "upper": 0.3078165352344513
          },
          {
           "lower": 0.3119306266307831,
           "timepoint": 223,
           "trajectory": "D_sol",
           "upper": 0.3119306266307831
          },
          {
           "lower": 0.31609275937080383,
           "timepoint": 224,
           "trajectory": "D_sol",
           "upper": 0.31609275937080383
          },
          {
           "lower": 0.32030346989631653,
           "timepoint": 225,
           "trajectory": "D_sol",
           "upper": 0.32030346989631653
          },
          {
           "lower": 0.3245631158351898,
           "timepoint": 226,
           "trajectory": "D_sol",
           "upper": 0.3245631158351898
          },
          {
           "lower": 0.32887259125709534,
           "timepoint": 227,
           "trajectory": "D_sol",
           "upper": 0.32887259125709534
          },
          {
           "lower": 0.33323216438293457,
           "timepoint": 228,
           "trajectory": "D_sol",
           "upper": 0.33323216438293457
          },
          {
           "lower": 0.3376425504684448,
           "timepoint": 229,
           "trajectory": "D_sol",
           "upper": 0.3376425504684448
          },
          {
           "lower": 0.34210434556007385,
           "timepoint": 230,
           "trajectory": "D_sol",
           "upper": 0.34210434556007385
          },
          {
           "lower": 0.34661805629730225,
           "timepoint": 231,
           "trajectory": "D_sol",
           "upper": 0.34661805629730225
          },
          {
           "lower": 0.3511843681335449,
           "timepoint": 232,
           "trajectory": "D_sol",
           "upper": 0.3511843681335449
          },
          {
           "lower": 0.3558039963245392,
           "timepoint": 233,
           "trajectory": "D_sol",
           "upper": 0.3558039963245392
          },
          {
           "lower": 0.3604772388935089,
           "timepoint": 234,
           "trajectory": "D_sol",
           "upper": 0.3604772388935089
          },
          {
           "lower": 0.3652048707008362,
           "timepoint": 235,
           "trajectory": "D_sol",
           "upper": 0.3652048707008362
          },
          {
           "lower": 0.36998748779296875,
           "timepoint": 236,
           "trajectory": "D_sol",
           "upper": 0.36998748779296875
          },
          {
           "lower": 0.37482571601867676,
           "timepoint": 237,
           "trajectory": "D_sol",
           "upper": 0.37482571601867676
          },
          {
           "lower": 0.37972012162208557,
           "timepoint": 238,
           "trajectory": "D_sol",
           "upper": 0.37972012162208557
          },
          {
           "lower": 0.38467153906822205,
           "timepoint": 239,
           "trajectory": "D_sol",
           "upper": 0.38467153906822205
          },
          {
           "lower": 0.38968050479888916,
           "timepoint": 240,
           "trajectory": "D_sol",
           "upper": 0.38968050479888916
          },
          {
           "lower": 0.39474761486053467,
           "timepoint": 241,
           "trajectory": "D_sol",
           "upper": 0.39474761486053467
          },
          {
           "lower": 0.3998737037181854,
           "timepoint": 242,
           "trajectory": "D_sol",
           "upper": 0.3998737037181854
          },
          {
           "lower": 0.40505918860435486,
           "timepoint": 243,
           "trajectory": "D_sol",
           "upper": 0.40505918860435486
          },
          {
           "lower": 0.41030505299568176,
           "timepoint": 244,
           "trajectory": "D_sol",
           "upper": 0.41030505299568176
          },
          {
           "lower": 0.41561174392700195,
           "timepoint": 245,
           "trajectory": "D_sol",
           "upper": 0.41561174392700195
          },
          {
           "lower": 0.4209800958633423,
           "timepoint": 246,
           "trajectory": "D_sol",
           "upper": 0.4209800958633423
          },
          {
           "lower": 0.42641156911849976,
           "timepoint": 247,
           "trajectory": "D_sol",
           "upper": 0.42641156911849976
          },
          {
           "lower": 0.4319053590297699,
           "timepoint": 248,
           "trajectory": "D_sol",
           "upper": 0.4319053590297699
          },
          {
           "lower": 0.43746304512023926,
           "timepoint": 249,
           "trajectory": "D_sol",
           "upper": 0.43746304512023926
          },
          {
           "lower": 0.44308528304100037,
           "timepoint": 250,
           "trajectory": "D_sol",
           "upper": 0.44308528304100037
          },
          {
           "lower": 0.448772668838501,
           "timepoint": 251,
           "trajectory": "D_sol",
           "upper": 0.448772668838501
          },
          {
           "lower": 0.4545261561870575,
           "timepoint": 252,
           "trajectory": "D_sol",
           "upper": 0.4545261561870575
          },
          {
           "lower": 0.4603462815284729,
           "timepoint": 253,
           "trajectory": "D_sol",
           "upper": 0.4603462815284729
          },
          {
           "lower": 0.4662340581417084,
           "timepoint": 254,
           "trajectory": "D_sol",
           "upper": 0.4662340581417084
          },
          {
           "lower": 0.47219014167785645,
           "timepoint": 255,
           "trajectory": "D_sol",
           "upper": 0.47219014167785645
          },
          {
           "lower": 0.47821536660194397,
           "timepoint": 256,
           "trajectory": "D_sol",
           "upper": 0.47821536660194397
          },
          {
           "lower": 0.48431041836738586,
           "timepoint": 257,
           "trajectory": "D_sol",
           "upper": 0.48431041836738586
          },
          {
           "lower": 0.4904760718345642,
           "timepoint": 258,
           "trajectory": "D_sol",
           "upper": 0.4904760718345642
          },
          {
           "lower": 0.49671339988708496,
           "timepoint": 259,
           "trajectory": "D_sol",
           "upper": 0.49671339988708496
          },
          {
           "lower": 0.503023087978363,
           "timepoint": 260,
           "trajectory": "D_sol",
           "upper": 0.503023087978363
          },
          {
           "lower": 0.5094058513641357,
           "timepoint": 261,
           "trajectory": "D_sol",
           "upper": 0.5094058513641357
          },
          {
           "lower": 0.5158612132072449,
           "timepoint": 262,
           "trajectory": "D_sol",
           "upper": 0.5158612132072449
          },
          {
           "lower": 0.5223924517631531,
           "timepoint": 263,
           "trajectory": "D_sol",
           "upper": 0.5223924517631531
          },
          {
           "lower": 0.5289995670318604,
           "timepoint": 264,
           "trajectory": "D_sol",
           "upper": 0.5289995670318604
          },
          {
           "lower": 0.535683274269104,
           "timepoint": 265,
           "trajectory": "D_sol",
           "upper": 0.535683274269104
          },
          {
           "lower": 0.5424444079399109,
           "timepoint": 266,
           "trajectory": "D_sol",
           "upper": 0.5424444079399109
          },
          {
           "lower": 0.5492837429046631,
           "timepoint": 267,
           "trajectory": "D_sol",
           "upper": 0.5492837429046631
          },
          {
           "lower": 0.5562022924423218,
           "timepoint": 268,
           "trajectory": "D_sol",
           "upper": 0.5562022924423218
          },
          {
           "lower": 0.5632011294364929,
           "timepoint": 269,
           "trajectory": "D_sol",
           "upper": 0.5632011294364929
          },
          {
           "lower": 0.570280909538269,
           "timepoint": 270,
           "trajectory": "D_sol",
           "upper": 0.570280909538269
          },
          {
           "lower": 0.5774427652359009,
           "timepoint": 271,
           "trajectory": "D_sol",
           "upper": 0.5774427652359009
          },
          {
           "lower": 0.5846875309944153,
           "timepoint": 272,
           "trajectory": "D_sol",
           "upper": 0.5846875309944153
          },
          {
           "lower": 0.5920159816741943,
           "timepoint": 273,
           "trajectory": "D_sol",
           "upper": 0.5920159816741943
          },
          {
           "lower": 0.5994294285774231,
           "timepoint": 274,
           "trajectory": "D_sol",
           "upper": 0.5994294285774231
          },
          {
           "lower": 0.6069287061691284,
           "timepoint": 275,
           "trajectory": "D_sol",
           "upper": 0.6069287061691284
          },
          {
           "lower": 0.6145147085189819,
           "timepoint": 276,
           "trajectory": "D_sol",
           "upper": 0.6145147085189819
          },
          {
           "lower": 0.6221886873245239,
           "timepoint": 277,
           "trajectory": "D_sol",
           "upper": 0.6221886873245239
          },
          {
           "lower": 0.6299511790275574,
           "timepoint": 278,
           "trajectory": "D_sol",
           "upper": 0.6299511790275574
          },
          {
           "lower": 0.6378037929534912,
           "timepoint": 279,
           "trajectory": "D_sol",
           "upper": 0.6378037929534912
          },
          {
           "lower": 0.6457473039627075,
           "timepoint": 280,
           "trajectory": "D_sol",
           "upper": 0.6457473039627075
          },
          {
           "lower": 0.6537827849388123,
           "timepoint": 281,
           "trajectory": "D_sol",
           "upper": 0.6537827849388123
          },
          {
           "lower": 0.6619111895561218,
           "timepoint": 282,
           "trajectory": "D_sol",
           "upper": 0.6619111895561218
          },
          {
           "lower": 0.6701334714889526,
           "timepoint": 283,
           "trajectory": "D_sol",
           "upper": 0.6701334714889526
          },
          {
           "lower": 0.6784511804580688,
           "timepoint": 284,
           "trajectory": "D_sol",
           "upper": 0.6784511804580688
          },
          {
           "lower": 0.6868650913238525,
           "timepoint": 285,
           "trajectory": "D_sol",
           "upper": 0.6868650913238525
          },
          {
           "lower": 0.695376455783844,
           "timepoint": 286,
           "trajectory": "D_sol",
           "upper": 0.695376455783844
          },
          {
           "lower": 0.7039862275123596,
           "timepoint": 287,
           "trajectory": "D_sol",
           "upper": 0.7039862275123596
          },
          {
           "lower": 0.7126955986022949,
           "timepoint": 288,
           "trajectory": "D_sol",
           "upper": 0.7126955986022949
          },
          {
           "lower": 0.721505880355835,
           "timepoint": 289,
           "trajectory": "D_sol",
           "upper": 0.721505880355835
          },
          {
           "lower": 0.7304180264472961,
           "timepoint": 290,
           "trajectory": "D_sol",
           "upper": 0.7304180264472961
          },
          {
           "lower": 0.7394301295280457,
           "timepoint": 291,
           "trajectory": "D_sol",
           "upper": 0.7394301295280457
          },
          {
           "lower": 0.7485491037368774,
           "timepoint": 292,
           "trajectory": "D_sol",
           "upper": 0.7485491037368774
          },
          {
           "lower": 0.7577733993530273,
           "timepoint": 293,
           "trajectory": "D_sol",
           "upper": 0.7577733993530273
          },
          {
           "lower": 0.76710444688797,
           "timepoint": 294,
           "trajectory": "D_sol",
           "upper": 0.76710444688797
          },
          {
           "lower": 0.7765433192253113,
           "timepoint": 295,
           "trajectory": "D_sol",
           "upper": 0.7765433192253113
          },
          {
           "lower": 0.7860913276672363,
           "timepoint": 296,
           "trajectory": "D_sol",
           "upper": 0.7860913276672363
          },
          {
           "lower": 0.7957497835159302,
           "timepoint": 297,
           "trajectory": "D_sol",
           "upper": 0.7957497835159302
          },
          {
           "lower": 0.8055195808410645,
           "timepoint": 298,
           "trajectory": "D_sol",
           "upper": 0.8055195808410645
          },
          {
           "lower": 0.8154024481773376,
           "timepoint": 299,
           "trajectory": "D_sol",
           "upper": 0.8154024481773376
          },
          {
           "lower": 0.8253995776176453,
           "timepoint": 300,
           "trajectory": "D_sol",
           "upper": 0.8253995776176453
          },
          {
           "lower": 0.8355122804641724,
           "timepoint": 301,
           "trajectory": "D_sol",
           "upper": 0.8355122804641724
          },
          {
           "lower": 0.8457418084144592,
           "timepoint": 302,
           "trajectory": "D_sol",
           "upper": 0.8457418084144592
          },
          {
           "lower": 0.8560892939567566,
           "timepoint": 303,
           "trajectory": "D_sol",
           "upper": 0.8560892939567566
          },
          {
           "lower": 0.8665566444396973,
           "timepoint": 304,
           "trajectory": "D_sol",
           "upper": 0.8665566444396973
          },
          {
           "lower": 0.8771465420722961,
           "timepoint": 305,
           "trajectory": "D_sol",
           "upper": 0.8771465420722961
          },
          {
           "lower": 0.8878573179244995,
           "timepoint": 306,
           "trajectory": "D_sol",
           "upper": 0.8878573179244995
          },
          {
           "lower": 0.8986919522285461,
           "timepoint": 307,
           "trajectory": "D_sol",
           "upper": 0.8986919522285461
          },
          {
           "lower": 0.909651517868042,
           "timepoint": 308,
           "trajectory": "D_sol",
           "upper": 0.909651517868042
          },
          {
           "lower": 0.9207379221916199,
           "timepoint": 309,
           "trajectory": "D_sol",
           "upper": 0.9207379221916199
          },
          {
           "lower": 0.9319524168968201,
           "timepoint": 310,
           "trajectory": "D_sol",
           "upper": 0.9319524168968201
          },
          {
           "lower": 1,
           "timepoint": 0,
           "trajectory": "E_sol",
           "upper": 1
          },
          {
           "lower": 1.098861813545227,
           "timepoint": 1,
           "trajectory": "E_sol",
           "upper": 1.098861813545227
          },
          {
           "lower": 1.1955137252807617,
           "timepoint": 2,
           "trajectory": "E_sol",
           "upper": 1.1955137252807617
          },
          {
           "lower": 1.2900716066360474,
           "timepoint": 3,
           "trajectory": "E_sol",
           "upper": 1.2900716066360474
          },
          {
           "lower": 1.3826217651367188,
           "timepoint": 4,
           "trajectory": "E_sol",
           "upper": 1.3826217651367188
          },
          {
           "lower": 1.4732617139816284,
           "timepoint": 5,
           "trajectory": "E_sol",
           "upper": 1.4732617139816284
          },
          {
           "lower": 1.5620859861373901,
           "timepoint": 6,
           "trajectory": "E_sol",
           "upper": 1.5620859861373901
          },
          {
           "lower": 1.6491819620132446,
           "timepoint": 7,
           "trajectory": "E_sol",
           "upper": 1.6491819620132446
          },
          {
           "lower": 1.7346352338790894,
           "timepoint": 8,
           "trajectory": "E_sol",
           "upper": 1.7346352338790894
          },
          {
           "lower": 1.8185317516326904,
           "timepoint": 9,
           "trajectory": "E_sol",
           "upper": 1.8185317516326904
          },
          {
           "lower": 1.9009463787078857,
           "timepoint": 10,
           "trajectory": "E_sol",
           "upper": 1.9009463787078857
          },
          {
           "lower": 1.9819575548171997,
           "timepoint": 11,
           "trajectory": "E_sol",
           "upper": 1.9819575548171997
          },
          {
           "lower": 2.0616390705108643,
           "timepoint": 12,
           "trajectory": "E_sol",
           "upper": 2.0616390705108643
          },
          {
           "lower": 2.140061855316162,
           "timepoint": 13,
           "trajectory": "E_sol",
           "upper": 2.140061855316162
          },
          {
           "lower": 2.2172958850860596,
           "timepoint": 14,
           "trajectory": "E_sol",
           "upper": 2.2172958850860596
          },
          {
           "lower": 2.2934062480926514,
           "timepoint": 15,
           "trajectory": "E_sol",
           "upper": 2.2934062480926514
          },
          {
           "lower": 2.3684580326080322,
           "timepoint": 16,
           "trajectory": "E_sol",
           "upper": 2.3684580326080322
          },
          {
           "lower": 2.442516565322876,
           "timepoint": 17,
           "trajectory": "E_sol",
           "upper": 2.442516565322876
          },
          {
           "lower": 2.5156362056732178,
           "timepoint": 18,
           "trajectory": "E_sol",
           "upper": 2.5156362056732178
          },
          {
           "lower": 2.587876558303833,
           "timepoint": 19,
           "trajectory": "E_sol",
           "upper": 2.587876558303833
          },
          {
           "lower": 2.6592936515808105,
           "timepoint": 20,
           "trajectory": "E_sol",
           "upper": 2.6592936515808105
          },
          {
           "lower": 2.7299416065216064,
           "timepoint": 21,
           "trajectory": "E_sol",
           "upper": 2.7299416065216064
          },
          {
           "lower": 2.799875020980835,
           "timepoint": 22,
           "trajectory": "E_sol",
           "upper": 2.799875020980835
          },
          {
           "lower": 2.869140386581421,
           "timepoint": 23,
           "trajectory": "E_sol",
           "upper": 2.869140386581421
          },
          {
           "lower": 2.9377880096435547,
           "timepoint": 24,
           "trajectory": "E_sol",
           "upper": 2.9377880096435547
          },
          {
           "lower": 3.0058646202087402,
           "timepoint": 25,
           "trajectory": "E_sol",
           "upper": 3.0058646202087402
          },
          {
           "lower": 3.0734171867370605,
           "timepoint": 26,
           "trajectory": "E_sol",
           "upper": 3.0734171867370605
          },
          {
           "lower": 3.1404879093170166,
           "timepoint": 27,
           "trajectory": "E_sol",
           "upper": 3.1404879093170166
          },
          {
           "lower": 3.207120656967163,
           "timepoint": 28,
           "trajectory": "E_sol",
           "upper": 3.207120656967163
          },
          {
           "lower": 3.2733561992645264,
           "timepoint": 29,
           "trajectory": "E_sol",
           "upper": 3.2733561992645264
          },
          {
           "lower": 3.3392345905303955,
           "timepoint": 30,
           "trajectory": "E_sol",
           "upper": 3.3392345905303955
          },
          {
           "lower": 3.404794692993164,
           "timepoint": 31,
           "trajectory": "E_sol",
           "upper": 3.404794692993164
          },
          {
           "lower": 3.4700803756713867,
           "timepoint": 32,
           "trajectory": "E_sol",
           "upper": 3.4700803756713867
          },
          {
           "lower": 3.535118341445923,
           "timepoint": 33,
           "trajectory": "E_sol",
           "upper": 3.535118341445923
          },
          {
           "lower": 3.599947452545166,
           "timepoint": 34,
           "trajectory": "E_sol",
           "upper": 3.599947452545166
          },
          {
           "lower": 3.6646018028259277,
           "timepoint": 35,
           "trajectory": "E_sol",
           "upper": 3.6646018028259277
          },
          {
           "lower": 3.729114294052124,
           "timepoint": 36,
           "trajectory": "E_sol",
           "upper": 3.729114294052124
          },
          {
           "lower": 3.7935173511505127,
           "timepoint": 37,
           "trajectory": "E_sol",
           "upper": 3.7935173511505127
          },
          {
           "lower": 3.857853412628174,
           "timepoint": 38,
           "trajectory": "E_sol",
           "upper": 3.857853412628174
          },
          {
           "lower": 3.9221367835998535,
           "timepoint": 39,
           "trajectory": "E_sol",
           "upper": 3.9221367835998535
          },
          {
           "lower": 3.986402988433838,
           "timepoint": 40,
           "trajectory": "E_sol",
           "upper": 3.986402988433838
          },
          {
           "lower": 4.050680637359619,
           "timepoint": 41,
           "trajectory": "E_sol",
           "upper": 4.050680637359619
          },
          {
           "lower": 4.114997863769531,
           "timepoint": 42,
           "trajectory": "E_sol",
           "upper": 4.114997863769531
          },
          {
           "lower": 4.179380893707275,
           "timepoint": 43,
           "trajectory": "E_sol",
           "upper": 4.179380893707275
          },
          {
           "lower": 4.243865013122559,
           "timepoint": 44,
           "trajectory": "E_sol",
           "upper": 4.243865013122559
          },
          {
           "lower": 4.308465003967285,
           "timepoint": 45,
           "trajectory": "E_sol",
           "upper": 4.308465003967285
          },
          {
           "lower": 4.373209476470947,
           "timepoint": 46,
           "trajectory": "E_sol",
           "upper": 4.373209476470947
          },
          {
           "lower": 4.4381256103515625,
           "timepoint": 47,
           "trajectory": "E_sol",
           "upper": 4.4381256103515625
          },
          {
           "lower": 4.503233909606934,
           "timepoint": 48,
           "trajectory": "E_sol",
           "upper": 4.503233909606934
          },
          {
           "lower": 4.568560600280762,
           "timepoint": 49,
           "trajectory": "E_sol",
           "upper": 4.568560600280762
          },
          {
           "lower": 4.634126663208008,
           "timepoint": 50,
           "trajectory": "E_sol",
           "upper": 4.634126663208008
          },
          {
           "lower": 4.699957847595215,
           "timepoint": 51,
           "trajectory": "E_sol",
           "upper": 4.699957847595215
          },
          {
           "lower": 4.766072750091553,
           "timepoint": 52,
           "trajectory": "E_sol",
           "upper": 4.766072750091553
          },
          {
           "lower": 4.832492828369141,
           "timepoint": 53,
           "trajectory": "E_sol",
           "upper": 4.832492828369141
          },
          {
           "lower": 4.899240493774414,
           "timepoint": 54,
           "trajectory": "E_sol",
           "upper": 4.899240493774414
          },
          {
           "lower": 4.966334342956543,
           "timepoint": 55,
           "trajectory": "E_sol",
           "upper": 4.966334342956543
          },
          {
           "lower": 5.0337958335876465,
           "timepoint": 56,
           "trajectory": "E_sol",
           "upper": 5.0337958335876465
          },
          {
           "lower": 5.101645469665527,
           "timepoint": 57,
           "trajectory": "E_sol",
           "upper": 5.101645469665527
          },
          {
           "lower": 5.169913291931152,
           "timepoint": 58,
           "trajectory": "E_sol",
           "upper": 5.169913291931152
          },
          {
           "lower": 5.2385993003845215,
           "timepoint": 59,
           "trajectory": "E_sol",
           "upper": 5.2385993003845215
          },
          {
           "lower": 5.307730197906494,
           "timepoint": 60,
           "trajectory": "E_sol",
           "upper": 5.307730197906494
          },
          {
           "lower": 5.377325534820557,
           "timepoint": 61,
           "trajectory": "E_sol",
           "upper": 5.377325534820557
          },
          {
           "lower": 5.4474029541015625,
           "timepoint": 62,
           "trajectory": "E_sol",
           "upper": 5.4474029541015625
          },
          {
           "lower": 5.517980575561523,
           "timepoint": 63,
           "trajectory": "E_sol",
           "upper": 5.517980575561523
          },
          {
           "lower": 5.589075565338135,
           "timepoint": 64,
           "trajectory": "E_sol",
           "upper": 5.589075565338135
          },
          {
           "lower": 5.660694122314453,
           "timepoint": 65,
           "trajectory": "E_sol",
           "upper": 5.660694122314453
          },
          {
           "lower": 5.732872486114502,
           "timepoint": 66,
           "trajectory": "E_sol",
           "upper": 5.732872486114502
          },
          {
           "lower": 5.805619716644287,
           "timepoint": 67,
           "trajectory": "E_sol",
           "upper": 5.805619716644287
          },
          {
           "lower": 5.878951549530029,
           "timepoint": 68,
           "trajectory": "E_sol",
           "upper": 5.878951549530029
          },
          {
           "lower": 5.952885150909424,
           "timepoint": 69,
           "trajectory": "E_sol",
           "upper": 5.952885150909424
          },
          {
           "lower": 6.027435302734375,
           "timepoint": 70,
           "trajectory": "E_sol",
           "upper": 6.027435302734375
          },
          {
           "lower": 6.102619647979736,
           "timepoint": 71,
           "trajectory": "E_sol",
           "upper": 6.102619647979736
          },
          {
           "lower": 6.178452968597412,
           "timepoint": 72,
           "trajectory": "E_sol",
           "upper": 6.178452968597412
          },
          {
           "lower": 6.25495719909668,
           "timepoint": 73,
           "trajectory": "E_sol",
           "upper": 6.25495719909668
          },
          {
           "lower": 6.33213996887207,
           "timepoint": 74,
           "trajectory": "E_sol",
           "upper": 6.33213996887207
          },
          {
           "lower": 6.410019397735596,
           "timepoint": 75,
           "trajectory": "E_sol",
           "upper": 6.410019397735596
          },
          {
           "lower": 6.488611698150635,
           "timepoint": 76,
           "trajectory": "E_sol",
           "upper": 6.488611698150635
          },
          {
           "lower": 6.567932605743408,
           "timepoint": 77,
           "trajectory": "E_sol",
           "upper": 6.567932605743408
          },
          {
           "lower": 6.647996425628662,
           "timepoint": 78,
           "trajectory": "E_sol",
           "upper": 6.647996425628662
          },
          {
           "lower": 6.728818416595459,
           "timepoint": 79,
           "trajectory": "E_sol",
           "upper": 6.728818416595459
          },
          {
           "lower": 6.810415267944336,
           "timepoint": 80,
           "trajectory": "E_sol",
           "upper": 6.810415267944336
          },
          {
           "lower": 6.892791271209717,
           "timepoint": 81,
           "trajectory": "E_sol",
           "upper": 6.892791271209717
          },
          {
           "lower": 6.97597599029541,
           "timepoint": 82,
           "trajectory": "E_sol",
           "upper": 6.97597599029541
          },
          {
           "lower": 7.059980869293213,
           "timepoint": 83,
           "trajectory": "E_sol",
           "upper": 7.059980869293213
          },
          {
           "lower": 7.14481782913208,
           "timepoint": 84,
           "trajectory": "E_sol",
           "upper": 7.14481782913208
          },
          {
           "lower": 7.230501651763916,
           "timepoint": 85,
           "trajectory": "E_sol",
           "upper": 7.230501651763916
          },
          {
           "lower": 7.317049026489258,
           "timepoint": 86,
           "trajectory": "E_sol",
           "upper": 7.317049026489258
          },
          {
           "lower": 7.404473304748535,
           "timepoint": 87,
           "trajectory": "E_sol",
           "upper": 7.404473304748535
          },
          {
           "lower": 7.492790222167969,
           "timepoint": 88,
           "trajectory": "E_sol",
           "upper": 7.492790222167969
          },
          {
           "lower": 7.582014083862305,
           "timepoint": 89,
           "trajectory": "E_sol",
           "upper": 7.582014083862305
          },
          {
           "lower": 7.672155857086182,
           "timepoint": 90,
           "trajectory": "E_sol",
           "upper": 7.672155857086182
          },
          {
           "lower": 7.763237476348877,
           "timepoint": 91,
           "trajectory": "E_sol",
           "upper": 7.763237476348877
          },
          {
           "lower": 7.855268478393555,
           "timepoint": 92,
           "trajectory": "E_sol",
           "upper": 7.855268478393555
          },
          {
           "lower": 7.948266506195068,
           "timepoint": 93,
           "trajectory": "E_sol",
           "upper": 7.948266506195068
          },
          {
           "lower": 8.042244911193848,
           "timepoint": 94,
           "trajectory": "E_sol",
           "upper": 8.042244911193848
          },
          {
           "lower": 8.137219429016113,
           "timepoint": 95,
           "trajectory": "E_sol",
           "upper": 8.137219429016113
          },
          {
           "lower": 8.233203887939453,
           "timepoint": 96,
           "trajectory": "E_sol",
           "upper": 8.233203887939453
          },
          {
           "lower": 8.33021354675293,
           "timepoint": 97,
           "trajectory": "E_sol",
           "upper": 8.33021354675293
          },
          {
           "lower": 8.428265571594238,
           "timepoint": 98,
           "trajectory": "E_sol",
           "upper": 8.428265571594238
          },
          {
           "lower": 8.527373313903809,
           "timepoint": 99,
           "trajectory": "E_sol",
           "upper": 8.527373313903809
          },
          {
           "lower": 8.627541542053223,
           "timepoint": 100,
           "trajectory": "E_sol",
           "upper": 8.627541542053223
          },
          {
           "lower": 8.728801727294922,
           "timepoint": 101,
           "trajectory": "E_sol",
           "upper": 8.728801727294922
          },
          {
           "lower": 8.831161499023438,
           "timepoint": 102,
           "trajectory": "E_sol",
           "upper": 8.831161499023438
          },
          {
           "lower": 8.934638977050781,
           "timepoint": 103,
           "trajectory": "E_sol",
           "upper": 8.934638977050781
          },
          {
           "lower": 9.03924560546875,
           "timepoint": 104,
           "trajectory": "E_sol",
           "upper": 9.03924560546875
          },
          {
           "lower": 9.144999504089355,
           "timepoint": 105,
           "trajectory": "E_sol",
           "upper": 9.144999504089355
          },
          {
           "lower": 9.251914978027344,
           "timepoint": 106,
           "trajectory": "E_sol",
           "upper": 9.251914978027344
          },
          {
           "lower": 9.360005378723145,
           "timepoint": 107,
           "trajectory": "E_sol",
           "upper": 9.360005378723145
          },
          {
           "lower": 9.469291687011719,
           "timepoint": 108,
           "trajectory": "E_sol",
           "upper": 9.469291687011719
          },
          {
           "lower": 9.579784393310547,
           "timepoint": 109,
           "trajectory": "E_sol",
           "upper": 9.579784393310547
          },
          {
           "lower": 9.69150161743164,
           "timepoint": 110,
           "trajectory": "E_sol",
           "upper": 9.69150161743164
          },
          {
           "lower": 9.804486274719238,
           "timepoint": 111,
           "trajectory": "E_sol",
           "upper": 9.804486274719238
          },
          {
           "lower": 9.918705940246582,
           "timepoint": 112,
           "trajectory": "E_sol",
           "upper": 9.918705940246582
          },
          {
           "lower": 10.034201622009277,
           "timepoint": 113,
           "trajectory": "E_sol",
           "upper": 10.034201622009277
          },
          {
           "lower": 10.150988578796387,
           "timepoint": 114,
           "trajectory": "E_sol",
           "upper": 10.150988578796387
          },
          {
           "lower": 10.26908016204834,
           "timepoint": 115,
           "trajectory": "E_sol",
           "upper": 10.26908016204834
          },
          {
           "lower": 10.388495445251465,
           "timepoint": 116,
           "trajectory": "E_sol",
           "upper": 10.388495445251465
          },
          {
           "lower": 10.50925064086914,
           "timepoint": 117,
           "trajectory": "E_sol",
           "upper": 10.50925064086914
          },
          {
           "lower": 10.631365776062012,
           "timepoint": 118,
           "trajectory": "E_sol",
           "upper": 10.631365776062012
          },
          {
           "lower": 10.754854202270508,
           "timepoint": 119,
           "trajectory": "E_sol",
           "upper": 10.754854202270508
          },
          {
           "lower": 10.879732131958008,
           "timepoint": 120,
           "trajectory": "E_sol",
           "upper": 10.879732131958008
          },
          {
           "lower": 11.006022453308105,
           "timepoint": 121,
           "trajectory": "E_sol",
           "upper": 11.006022453308105
          },
          {
           "lower": 11.133707046508789,
           "timepoint": 122,
           "trajectory": "E_sol",
           "upper": 11.133707046508789
          },
          {
           "lower": 11.262860298156738,
           "timepoint": 123,
           "trajectory": "E_sol",
           "upper": 11.262860298156738
          },
          {
           "lower": 11.393473625183105,
           "timepoint": 124,
           "trajectory": "E_sol",
           "upper": 11.393473625183105
          },
          {
           "lower": 11.525566101074219,
           "timepoint": 125,
           "trajectory": "E_sol",
           "upper": 11.525566101074219
          },
          {
           "lower": 11.659156799316406,
           "timepoint": 126,
           "trajectory": "E_sol",
           "upper": 11.659156799316406
          },
          {
           "lower": 11.794261932373047,
           "timepoint": 127,
           "trajectory": "E_sol",
           "upper": 11.794261932373047
          },
          {
           "lower": 11.930900573730469,
           "timepoint": 128,
           "trajectory": "E_sol",
           "upper": 11.930900573730469
          },
          {
           "lower": 12.069093704223633,
           "timepoint": 129,
           "trajectory": "E_sol",
           "upper": 12.069093704223633
          },
          {
           "lower": 12.208856582641602,
           "timepoint": 130,
           "trajectory": "E_sol",
           "upper": 12.208856582641602
          },
          {
           "lower": 12.350210189819336,
           "timepoint": 131,
           "trajectory": "E_sol",
           "upper": 12.350210189819336
          },
          {
           "lower": 12.49317455291748,
           "timepoint": 132,
           "trajectory": "E_sol",
           "upper": 12.49317455291748
          },
          {
           "lower": 12.637767791748047,
           "timepoint": 133,
           "trajectory": "E_sol",
           "upper": 12.637767791748047
          },
          {
           "lower": 12.784011840820312,
           "timepoint": 134,
           "trajectory": "E_sol",
           "upper": 12.784011840820312
          },
          {
           "lower": 12.931906700134277,
           "timepoint": 135,
           "trajectory": "E_sol",
           "upper": 12.931906700134277
          },
          {
           "lower": 13.081502914428711,
           "timepoint": 136,
           "trajectory": "E_sol",
           "upper": 13.081502914428711
          },
          {
           "lower": 13.232807159423828,
           "timepoint": 137,
           "trajectory": "E_sol",
           "upper": 13.232807159423828
          },
          {
           "lower": 13.385838508605957,
           "timepoint": 138,
           "trajectory": "E_sol",
           "upper": 13.385838508605957
          },
          {
           "lower": 13.540620803833008,
           "timepoint": 139,
           "trajectory": "E_sol",
           "upper": 13.540620803833008
          },
          {
           "lower": 13.697173118591309,
           "timepoint": 140,
           "trajectory": "E_sol",
           "upper": 13.697173118591309
          },
          {
           "lower": 13.855514526367188,
           "timepoint": 141,
           "trajectory": "E_sol",
           "upper": 13.855514526367188
          },
          {
           "lower": 14.015667915344238,
           "timepoint": 142,
           "trajectory": "E_sol",
           "upper": 14.015667915344238
          },
          {
           "lower": 14.177654266357422,
           "timepoint": 143,
           "trajectory": "E_sol",
           "upper": 14.177654266357422
          },
          {
           "lower": 14.341496467590332,
           "timepoint": 144,
           "trajectory": "E_sol",
           "upper": 14.341496467590332
          },
          {
           "lower": 14.50721549987793,
           "timepoint": 145,
           "trajectory": "E_sol",
           "upper": 14.50721549987793
          },
          {
           "lower": 14.674834251403809,
           "timepoint": 146,
           "trajectory": "E_sol",
           "upper": 14.674834251403809
          },
          {
           "lower": 14.844371795654297,
           "timepoint": 147,
           "trajectory": "E_sol",
           "upper": 14.844371795654297
          },
          {
           "lower": 15.015864372253418,
           "timepoint": 148,
           "trajectory": "E_sol",
           "upper": 15.015864372253418
          },
          {
           "lower": 15.18931770324707,
           "timepoint": 149,
           "trajectory": "E_sol",
           "upper": 15.18931770324707
          },
          {
           "lower": 15.364761352539062,
           "timepoint": 150,
           "trajectory": "E_sol",
           "upper": 15.364761352539062
          },
          {
           "lower": 15.542217254638672,
           "timepoint": 151,
           "trajectory": "E_sol",
           "upper": 15.542217254638672
          },
          {
           "lower": 15.721711158752441,
           "timepoint": 152,
           "trajectory": "E_sol",
           "upper": 15.721711158752441
          },
          {
           "lower": 15.903266906738281,
           "timepoint": 153,
           "trajectory": "E_sol",
           "upper": 15.903266906738281
          },
          {
           "lower": 16.0869083404541,
           "timepoint": 154,
           "trajectory": "E_sol",
           "upper": 16.0869083404541
          },
          {
           "lower": 16.272661209106445,
           "timepoint": 155,
           "trajectory": "E_sol",
           "upper": 16.272661209106445
          },
          {
           "lower": 16.46054458618164,
           "timepoint": 156,
           "trajectory": "E_sol",
           "upper": 16.46054458618164
          },
          {
           "lower": 16.650590896606445,
           "timepoint": 157,
           "trajectory": "E_sol",
           "upper": 16.650590896606445
          },
          {
           "lower": 16.84282684326172,
           "timepoint": 158,
           "trajectory": "E_sol",
           "upper": 16.84282684326172
          },
          {
           "lower": 17.03726577758789,
           "timepoint": 159,
           "trajectory": "E_sol",
           "upper": 17.03726577758789
          },
          {
           "lower": 17.23394775390625,
           "timepoint": 160,
           "trajectory": "E_sol",
           "upper": 17.23394775390625
          },
          {
           "lower": 17.43288803100586,
           "timepoint": 161,
           "trajectory": "E_sol",
           "upper": 17.43288803100586
          },
          {
           "lower": 17.634063720703125,
           "timepoint": 162,
           "trajectory": "E_sol",
           "upper": 17.634063720703125
          },
          {
           "lower": 17.837594985961914,
           "timepoint": 163,
           "trajectory": "E_sol",
           "upper": 17.837594985961914
          },
          {
           "lower": 18.043474197387695,
           "timepoint": 164,
           "trajectory": "E_sol",
           "upper": 18.043474197387695
          },
          {
           "lower": 18.251720428466797,
           "timepoint": 165,
           "trajectory": "E_sol",
           "upper": 18.251720428466797
          },
          {
           "lower": 18.462360382080078,
           "timepoint": 166,
           "trajectory": "E_sol",
           "upper": 18.462360382080078
          },
          {
           "lower": 18.675430297851562,
           "timepoint": 167,
           "trajectory": "E_sol",
           "upper": 18.675430297851562
          },
          {
           "lower": 18.890949249267578,
           "timepoint": 168,
           "trajectory": "E_sol",
           "upper": 18.890949249267578
          },
          {
           "lower": 19.108949661254883,
           "timepoint": 169,
           "trajectory": "E_sol",
           "upper": 19.108949661254883
          },
          {
           "lower": 19.329463958740234,
           "timepoint": 170,
           "trajectory": "E_sol",
           "upper": 19.329463958740234
          },
          {
           "lower": 19.552509307861328,
           "timepoint": 171,
           "trajectory": "E_sol",
           "upper": 19.552509307861328
          },
          {
           "lower": 19.778135299682617,
           "timepoint": 172,
           "trajectory": "E_sol",
           "upper": 19.778135299682617
          },
          {
           "lower": 20.006349563598633,
           "timepoint": 173,
           "trajectory": "E_sol",
           "upper": 20.006349563598633
          },
          {
           "lower": 20.237197875976562,
           "timepoint": 174,
           "trajectory": "E_sol",
           "upper": 20.237197875976562
          },
          {
           "lower": 20.470706939697266,
           "timepoint": 175,
           "trajectory": "E_sol",
           "upper": 20.470706939697266
          },
          {
           "lower": 20.70685386657715,
           "timepoint": 176,
           "trajectory": "E_sol",
           "upper": 20.70685386657715
          },
          {
           "lower": 20.94576644897461,
           "timepoint": 177,
           "trajectory": "E_sol",
           "upper": 20.94576644897461
          },
          {
           "lower": 21.18742561340332,
           "timepoint": 178,
           "trajectory": "E_sol",
           "upper": 21.18742561340332
          },
          {
           "lower": 21.43187141418457,
           "timepoint": 179,
           "trajectory": "E_sol",
           "upper": 21.43187141418457
          },
          {
           "lower": 21.679134368896484,
           "timepoint": 180,
           "trajectory": "E_sol",
           "upper": 21.679134368896484
          },
          {
           "lower": 21.929241180419922,
           "timepoint": 181,
           "trajectory": "E_sol",
           "upper": 21.929241180419922
          },
          {
           "lower": 22.182239532470703,
           "timepoint": 182,
           "trajectory": "E_sol",
           "upper": 22.182239532470703
          },
          {
           "lower": 22.438140869140625,
           "timepoint": 183,
           "trajectory": "E_sol",
           "upper": 22.438140869140625
          },
          {
           "lower": 22.69700050354004,
           "timepoint": 184,
           "trajectory": "E_sol",
           "upper": 22.69700050354004
          },
          {
           "lower": 22.958839416503906,
           "timepoint": 185,
           "trajectory": "E_sol",
           "upper": 22.958839416503906
          },
          {
           "lower": 23.22369384765625,
           "timepoint": 186,
           "trajectory": "E_sol",
           "upper": 23.22369384765625
          },
          {
           "lower": 23.491607666015625,
           "timepoint": 187,
           "trajectory": "E_sol",
           "upper": 23.491607666015625
          },
          {
           "lower": 23.762601852416992,
           "timepoint": 188,
           "trajectory": "E_sol",
           "upper": 23.762601852416992
          },
          {
           "lower": 24.036727905273438,
           "timepoint": 189,
           "trajectory": "E_sol",
           "upper": 24.036727905273438
          },
          {
           "lower": 24.31398582458496,
           "timepoint": 190,
           "trajectory": "E_sol",
           "upper": 24.31398582458496
          },
          {
           "lower": 24.594457626342773,
           "timepoint": 191,
           "trajectory": "E_sol",
           "upper": 24.594457626342773
          },
          {
           "lower": 24.8781681060791,
           "timepoint": 192,
           "trajectory": "E_sol",
           "upper": 24.8781681060791
          },
          {
           "lower": 25.165142059326172,
           "timepoint": 193,
           "trajectory": "E_sol",
           "upper": 25.165142059326172
          },
          {
           "lower": 25.455425262451172,
           "timepoint": 194,
           "trajectory": "E_sol",
           "upper": 25.455425262451172
          },
          {
           "lower": 25.74905776977539,
           "timepoint": 195,
           "trajectory": "E_sol",
           "upper": 25.74905776977539
          },
          {
           "lower": 26.04606819152832,
           "timepoint": 196,
           "trajectory": "E_sol",
           "upper": 26.04606819152832
          },
          {
           "lower": 26.346513748168945,
           "timepoint": 197,
           "trajectory": "E_sol",
           "upper": 26.346513748168945
          },
          {
           "lower": 26.650413513183594,
           "timepoint": 198,
           "trajectory": "E_sol",
           "upper": 26.650413513183594
          },
          {
           "lower": 26.957822799682617,
           "timepoint": 199,
           "trajectory": "E_sol",
           "upper": 26.957822799682617
          },
          {
           "lower": 27.268774032592773,
           "timepoint": 200,
           "trajectory": "E_sol",
           "upper": 27.268774032592773
          },
          {
           "lower": 27.58330535888672,
           "timepoint": 201,
           "trajectory": "E_sol",
           "upper": 27.58330535888672
          },
          {
           "lower": 27.901479721069336,
           "timepoint": 202,
           "trajectory": "E_sol",
           "upper": 27.901479721069336
          },
          {
           "lower": 28.223304748535156,
           "timepoint": 203,
           "trajectory": "E_sol",
           "upper": 28.223304748535156
          },
          {
           "lower": 28.548830032348633,
           "timepoint": 204,
           "trajectory": "E_sol",
           "upper": 28.548830032348633
          },
          {
           "lower": 28.878124237060547,
           "timepoint": 205,
           "trajectory": "E_sol",
           "upper": 28.878124237060547
          },
          {
           "lower": 29.21120834350586,
           "timepoint": 206,
           "trajectory": "E_sol",
           "upper": 29.21120834350586
          },
          {
           "lower": 29.54814338684082,
           "timepoint": 207,
           "trajectory": "E_sol",
           "upper": 29.54814338684082
          },
          {
           "lower": 29.88895606994629,
           "timepoint": 208,
           "trajectory": "E_sol",
           "upper": 29.88895606994629
          },
          {
           "lower": 30.23370361328125,
           "timepoint": 209,
           "trajectory": "E_sol",
           "upper": 30.23370361328125
          },
          {
           "lower": 30.582422256469727,
           "timepoint": 210,
           "trajectory": "E_sol",
           "upper": 30.582422256469727
          },
          {
           "lower": 30.935155868530273,
           "timepoint": 211,
           "trajectory": "E_sol",
           "upper": 30.935155868530273
          },
          {
           "lower": 31.29197120666504,
           "timepoint": 212,
           "trajectory": "E_sol",
           "upper": 31.29197120666504
          },
          {
           "lower": 31.65288543701172,
           "timepoint": 213,
           "trajectory": "E_sol",
           "upper": 31.65288543701172
          },
          {
           "lower": 32.017974853515625,
           "timepoint": 214,
           "trajectory": "E_sol",
           "upper": 32.017974853515625
          },
          {
           "lower": 32.387264251708984,
           "timepoint": 215,
           "trajectory": "E_sol",
           "upper": 32.387264251708984
          },
          {
           "lower": 32.76081085205078,
           "timepoint": 216,
           "trajectory": "E_sol",
           "upper": 32.76081085205078
          },
          {
           "lower": 33.138675689697266,
           "timepoint": 217,
           "trajectory": "E_sol",
           "upper": 33.138675689697266
          },
          {
           "lower": 33.52089309692383,
           "timepoint": 218,
           "trajectory": "E_sol",
           "upper": 33.52089309692383
          },
          {
           "lower": 33.90751647949219,
           "timepoint": 219,
           "trajectory": "E_sol",
           "upper": 33.90751647949219
          },
          {
           "lower": 34.29859924316406,
           "timepoint": 220,
           "trajectory": "E_sol",
           "upper": 34.29859924316406
          },
          {
           "lower": 34.69418716430664,
           "timepoint": 221,
           "trajectory": "E_sol",
           "upper": 34.69418716430664
          },
          {
           "lower": 35.09435272216797,
           "timepoint": 222,
           "trajectory": "E_sol",
           "upper": 35.09435272216797
          },
          {
           "lower": 35.49911117553711,
           "timepoint": 223,
           "trajectory": "E_sol",
           "upper": 35.49911117553711
          },
          {
           "lower": 35.90855026245117,
           "timepoint": 224,
           "trajectory": "E_sol",
           "upper": 35.90855026245117
          },
          {
           "lower": 36.32271194458008,
           "timepoint": 225,
           "trajectory": "E_sol",
           "upper": 36.32271194458008
          },
          {
           "lower": 36.74163818359375,
           "timepoint": 226,
           "trajectory": "E_sol",
           "upper": 36.74163818359375
          },
          {
           "lower": 37.165409088134766,
           "timepoint": 227,
           "trajectory": "E_sol",
           "upper": 37.165409088134766
          },
          {
           "lower": 37.59404754638672,
           "timepoint": 228,
           "trajectory": "E_sol",
           "upper": 37.59404754638672
          },
          {
           "lower": 38.02763366699219,
           "timepoint": 229,
           "trajectory": "E_sol",
           "upper": 38.02763366699219
          },
          {
           "lower": 38.46622848510742,
           "timepoint": 230,
           "trajectory": "E_sol",
           "upper": 38.46622848510742
          },
          {
           "lower": 38.909873962402344,
           "timepoint": 231,
           "trajectory": "E_sol",
           "upper": 38.909873962402344
          },
          {
           "lower": 39.3586311340332,
           "timepoint": 232,
           "trajectory": "E_sol",
           "upper": 39.3586311340332
          },
          {
           "lower": 39.812618255615234,
           "timepoint": 233,
           "trajectory": "E_sol",
           "upper": 39.812618255615234
          },
          {
           "lower": 40.27180099487305,
           "timepoint": 234,
           "trajectory": "E_sol",
           "upper": 40.27180099487305
          },
          {
           "lower": 40.73627853393555,
           "timepoint": 235,
           "trajectory": "E_sol",
           "upper": 40.73627853393555
          },
          {
           "lower": 41.206111907958984,
           "timepoint": 236,
           "trajectory": "E_sol",
           "upper": 41.206111907958984
          },
          {
           "lower": 41.681365966796875,
           "timepoint": 237,
           "trajectory": "E_sol",
           "upper": 41.681365966796875
          },
          {
           "lower": 42.162086486816406,
           "timepoint": 238,
           "trajectory": "E_sol",
           "upper": 42.162086486816406
          },
          {
           "lower": 42.64836502075195,
           "timepoint": 239,
           "trajectory": "E_sol",
           "upper": 42.64836502075195
          },
          {
           "lower": 43.14025115966797,
           "timepoint": 240,
           "trajectory": "E_sol",
           "upper": 43.14025115966797
          },
          {
           "lower": 43.63780975341797,
           "timepoint": 241,
           "trajectory": "E_sol",
           "upper": 43.63780975341797
          },
          {
           "lower": 44.14110565185547,
           "timepoint": 242,
           "trajectory": "E_sol",
           "upper": 44.14110565185547
          },
          {
           "lower": 44.65019226074219,
           "timepoint": 243,
           "trajectory": "E_sol",
           "upper": 44.65019226074219
          },
          {
           "lower": 45.1651611328125,
           "timepoint": 244,
           "trajectory": "E_sol",
           "upper": 45.1651611328125
          },
          {
           "lower": 45.686065673828125,
           "timepoint": 245,
           "trajectory": "E_sol",
           "upper": 45.686065673828125
          },
          {
           "lower": 46.21297836303711,
           "timepoint": 246,
           "trajectory": "E_sol",
           "upper": 46.21297836303711
          },
          {
           "lower": 46.74598693847656,
           "timepoint": 247,
           "trajectory": "E_sol",
           "upper": 46.74598693847656
          },
          {
           "lower": 47.285125732421875,
           "timepoint": 248,
           "trajectory": "E_sol",
           "upper": 47.285125732421875
          },
          {
           "lower": 47.830482482910156,
           "timepoint": 249,
           "trajectory": "E_sol",
           "upper": 47.830482482910156
          },
          {
           "lower": 48.38212966918945,
           "timepoint": 250,
           "trajectory": "E_sol",
           "upper": 48.38212966918945
          },
          {
           "lower": 48.94013977050781,
           "timepoint": 251,
           "trajectory": "E_sol",
           "upper": 48.94013977050781
          },
          {
           "lower": 49.50459289550781,
           "timepoint": 252,
           "trajectory": "E_sol",
           "upper": 49.50459289550781
          },
          {
           "lower": 50.07554626464844,
           "timepoint": 253,
           "trajectory": "E_sol",
           "upper": 50.07554626464844
          },
          {
           "lower": 50.65309143066406,
           "timepoint": 254,
           "trajectory": "E_sol",
           "upper": 50.65309143066406
          },
          {
           "lower": 51.23729705810547,
           "timepoint": 255,
           "trajectory": "E_sol",
           "upper": 51.23729705810547
          },
          {
           "lower": 51.8282470703125,
           "timepoint": 256,
           "trajectory": "E_sol",
           "upper": 51.8282470703125
          },
          {
           "lower": 52.42600631713867,
           "timepoint": 257,
           "trajectory": "E_sol",
           "upper": 52.42600631713867
          },
          {
           "lower": 53.03065490722656,
           "timepoint": 258,
           "trajectory": "E_sol",
           "upper": 53.03065490722656
          },
          {
           "lower": 53.64229202270508,
           "timepoint": 259,
           "trajectory": "E_sol",
           "upper": 53.64229202270508
          },
          {
           "lower": 54.260982513427734,
           "timepoint": 260,
           "trajectory": "E_sol",
           "upper": 54.260982513427734
          },
          {
           "lower": 54.886810302734375,
           "timepoint": 261,
           "trajectory": "E_sol",
           "upper": 54.886810302734375
          },
          {
           "lower": 55.519744873046875,
           "timepoint": 262,
           "trajectory": "E_sol",
           "upper": 55.519744873046875
          },
          {
           "lower": 56.160064697265625,
           "timepoint": 263,
           "trajectory": "E_sol",
           "upper": 56.160064697265625
          },
          {
           "lower": 56.807777404785156,
           "timepoint": 264,
           "trajectory": "E_sol",
           "upper": 56.807777404785156
          },
          {
           "lower": 57.462955474853516,
           "timepoint": 265,
           "trajectory": "E_sol",
           "upper": 57.462955474853516
          },
          {
           "lower": 58.125701904296875,
           "timepoint": 266,
           "trajectory": "E_sol",
           "upper": 58.125701904296875
          },
          {
           "lower": 58.79608154296875,
           "timepoint": 267,
           "trajectory": "E_sol",
           "upper": 58.79608154296875
          },
          {
           "lower": 59.47418212890625,
           "timepoint": 268,
           "trajectory": "E_sol",
           "upper": 59.47418212890625
          },
          {
           "lower": 60.16012191772461,
           "timepoint": 269,
           "trajectory": "E_sol",
           "upper": 60.16012191772461
          },
          {
           "lower": 60.853965759277344,
           "timepoint": 270,
           "trajectory": "E_sol",
           "upper": 60.853965759277344
          },
          {
           "lower": 61.55581283569336,
           "timepoint": 271,
           "trajectory": "E_sol",
           "upper": 61.55581283569336
          },
          {
           "lower": 62.2657585144043,
           "timepoint": 272,
           "trajectory": "E_sol",
           "upper": 62.2657585144043
          },
          {
           "lower": 62.98386764526367,
           "timepoint": 273,
           "trajectory": "E_sol",
           "upper": 62.98386764526367
          },
          {
           "lower": 63.71027755737305,
           "timepoint": 274,
           "trajectory": "E_sol",
           "upper": 63.71027755737305
          },
          {
           "lower": 64.445068359375,
           "timepoint": 275,
           "trajectory": "E_sol",
           "upper": 64.445068359375
          },
          {
           "lower": 65.18833923339844,
           "timepoint": 276,
           "trajectory": "E_sol",
           "upper": 65.18833923339844
          },
          {
           "lower": 65.940185546875,
           "timepoint": 277,
           "trajectory": "E_sol",
           "upper": 65.940185546875
          },
          {
           "lower": 66.7006607055664,
           "timepoint": 278,
           "trajectory": "E_sol",
           "upper": 66.7006607055664
          },
          {
           "lower": 67.4699478149414,
           "timepoint": 279,
           "trajectory": "E_sol",
           "upper": 67.4699478149414
          },
          {
           "lower": 68.24808502197266,
           "timepoint": 280,
           "trajectory": "E_sol",
           "upper": 68.24808502197266
          },
          {
           "lower": 69.03521728515625,
           "timepoint": 281,
           "trajectory": "E_sol",
           "upper": 69.03521728515625
          },
          {
           "lower": 69.83140563964844,
           "timepoint": 282,
           "trajectory": "E_sol",
           "upper": 69.83140563964844
          },
          {
           "lower": 70.63677215576172,
           "timepoint": 283,
           "trajectory": "E_sol",
           "upper": 70.63677215576172
          },
          {
           "lower": 71.45143127441406,
           "timepoint": 284,
           "trajectory": "E_sol",
           "upper": 71.45143127441406
          },
          {
           "lower": 72.27549743652344,
           "timepoint": 285,
           "trajectory": "E_sol",
           "upper": 72.27549743652344
          },
          {
           "lower": 73.10905456542969,
           "timepoint": 286,
           "trajectory": "E_sol",
           "upper": 73.10905456542969
          },
          {
           "lower": 73.95223999023438,
           "timepoint": 287,
           "trajectory": "E_sol",
           "upper": 73.95223999023438
          },
          {
           "lower": 74.80510711669922,
           "timepoint": 288,
           "trajectory": "E_sol",
           "upper": 74.80510711669922
          },
          {
           "lower": 75.6678466796875,
           "timepoint": 289,
           "trajectory": "E_sol",
           "upper": 75.6678466796875
          },
          {
           "lower": 76.54051971435547,
           "timepoint": 290,
           "trajectory": "E_sol",
           "upper": 76.54051971435547
          },
          {
           "lower": 77.42340850830078,
           "timepoint": 291,
           "trajectory": "E_sol",
           "upper": 77.42340850830078
          },
          {
           "lower": 78.31635284423828,
           "timepoint": 292,
           "trajectory": "E_sol",
           "upper": 78.31635284423828
          },
          {
           "lower": 79.2195816040039,
           "timepoint": 293,
           "trajectory": "E_sol",
           "upper": 79.2195816040039
          },
          {
           "lower": 80.13324737548828,
           "timepoint": 294,
           "trajectory": "E_sol",
           "upper": 80.13324737548828
          },
          {
           "lower": 81.05744171142578,
           "timepoint": 295,
           "trajectory": "E_sol",
           "upper": 81.05744171142578
          },
          {
           "lower": 81.9923095703125,
           "timepoint": 296,
           "trajectory": "E_sol",
           "upper": 81.9923095703125
          },
          {
           "lower": 82.93795013427734,
           "timepoint": 297,
           "trajectory": "E_sol",
           "upper": 82.93795013427734
          },
          {
           "lower": 83.89447784423828,
           "timepoint": 298,
           "trajectory": "E_sol",
           "upper": 83.89447784423828
          },
          {
           "lower": 84.862060546875,
           "timepoint": 299,
           "trajectory": "E_sol",
           "upper": 84.862060546875
          },
          {
           "lower": 85.8407974243164,
           "timepoint": 300,
           "trajectory": "E_sol",
           "upper": 85.8407974243164
          },
          {
           "lower": 86.83084869384766,
           "timepoint": 301,
           "trajectory": "E_sol",
           "upper": 86.83084869384766
          },
          {
           "lower": 87.83229064941406,
           "timepoint": 302,
           "trajectory": "E_sol",
           "upper": 87.83229064941406
          },
          {
           "lower": 88.84529113769531,
           "timepoint": 303,
           "trajectory": "E_sol",
           "upper": 88.84529113769531
          },
          {
           "lower": 89.86998748779297,
           "timepoint": 304,
           "trajectory": "E_sol",
           "upper": 89.86998748779297
          },
          {
           "lower": 90.90635681152344,
           "timepoint": 305,
           "trajectory": "E_sol",
           "upper": 90.90635681152344
          },
          {
           "lower": 91.95480346679688,
           "timepoint": 306,
           "trajectory": "E_sol",
           "upper": 91.95480346679688
          },
          {
           "lower": 93.01533508300781,
           "timepoint": 307,
           "trajectory": "E_sol",
           "upper": 93.01533508300781
          },
          {
           "lower": 94.08808135986328,
           "timepoint": 308,
           "trajectory": "E_sol",
           "upper": 94.08808135986328
          },
          {
           "lower": 95.17322540283203,
           "timepoint": 309,
           "trajectory": "E_sol",
           "upper": 95.17322540283203
          },
          {
           "lower": 96.27088165283203,
           "timepoint": 310,
           "trajectory": "E_sol",
           "upper": 96.27088165283203
          },
          {
           "lower": 8.000000835395316e-12,
           "timepoint": 0,
           "trajectory": "H_sol",
           "upper": 8.000000835395316e-12
          },
          {
           "lower": 0.007950454019010067,
           "timepoint": 1,
           "trajectory": "H_sol",
           "upper": 0.007950454019010067
          },
          {
           "lower": 0.01580517552793026,
           "timepoint": 2,
           "trajectory": "H_sol",
           "upper": 0.01580517552793026
          },
          {
           "lower": 0.023569077253341675,
           "timepoint": 3,
           "trajectory": "H_sol",
           "upper": 0.023569077253341675
          },
          {
           "lower": 0.031246939674019814,
           "timepoint": 4,
           "trajectory": "H_sol",
           "upper": 0.031246939674019814
          },
          {
           "lower": 0.03884323313832283,
           "timepoint": 5,
           "trajectory": "H_sol",
           "upper": 0.03884323313832283
          },
          {
           "lower": 0.04636253044009209,
           "timepoint": 6,
           "trajectory": "H_sol",
           "upper": 0.04636253044009209
          },
          {
           "lower": 0.053809069097042084,
           "timepoint": 7,
           "trajectory": "H_sol",
           "upper": 0.053809069097042084
          },
          {
           "lower": 0.0611870214343071,
           "timepoint": 8,
           "trajectory": "H_sol",
           "upper": 0.0611870214343071
          },
          {
           "lower": 0.06850051879882812,
           "timepoint": 9,
           "trajectory": "H_sol",
           "upper": 0.06850051879882812
          },
          {
           "lower": 0.07575330138206482,
           "timepoint": 10,
           "trajectory": "H_sol",
           "upper": 0.07575330138206482
          },
          {
           "lower": 0.08294923603534698,
           "timepoint": 11,
           "trajectory": "H_sol",
           "upper": 0.08294923603534698
          },
          {
           "lower": 0.09009197354316711,
           "timepoint": 12,
           "trajectory": "H_sol",
           "upper": 0.09009197354316711
          },
          {
           "lower": 0.09718503057956696,
           "timepoint": 13,
           "trajectory": "H_sol",
           "upper": 0.09718503057956696
          },
          {
           "lower": 0.10423187911510468,
           "timepoint": 14,
           "trajectory": "H_sol",
           "upper": 0.10423187911510468
          },
          {
           "lower": 0.1112358495593071,
           "timepoint": 15,
           "trajectory": "H_sol",
           "upper": 0.1112358495593071
          },
          {
           "lower": 0.11820017546415329,
           "timepoint": 16,
           "trajectory": "H_sol",
           "upper": 0.11820017546415329
          },
          {
           "lower": 0.12512804567813873,
           "timepoint": 17,
           "trajectory": "H_sol",
           "upper": 0.12512804567813873
          },
          {
           "lower": 0.132022425532341,
           "timepoint": 18,
           "trajectory": "H_sol",
           "upper": 0.132022425532341
          },
          {
           "lower": 0.13888633251190186,
           "timepoint": 19,
           "trajectory": "H_sol",
           "upper": 0.13888633251190186
          },
          {
           "lower": 0.1457226425409317,
           "timepoint": 20,
           "trajectory": "H_sol",
           "upper": 0.1457226425409317
          },
          {
           "lower": 0.1525341272354126,
           "timepoint": 21,
           "trajectory": "H_sol",
           "upper": 0.1525341272354126
          },
          {
           "lower": 0.15932364761829376,
           "timepoint": 22,
           "trajectory": "H_sol",
           "upper": 0.15932364761829376
          },
          {
           "lower": 0.1660936027765274,
           "timepoint": 23,
           "trajectory": "H_sol",
           "upper": 0.1660936027765274
          },
          {
           "lower": 0.172846719622612,
           "timepoint": 24,
           "trajectory": "H_sol",
           "upper": 0.172846719622612
          },
          {
           "lower": 0.17958544194698334,
           "timepoint": 25,
           "trajectory": "H_sol",
           "upper": 0.17958544194698334
          },
          {
           "lower": 0.1863122433423996,
           "timepoint": 26,
           "trajectory": "H_sol",
           "upper": 0.1863122433423996
          },
          {
           "lower": 0.19302980601787567,
           "timepoint": 27,
           "trajectory": "H_sol",
           "upper": 0.19302980601787567
          },
          {
           "lower": 0.19973990321159363,
           "timepoint": 28,
           "trajectory": "H_sol",
           "upper": 0.19973990321159363
          },
          {
           "lower": 0.2064450979232788,
           "timepoint": 29,
           "trajectory": "H_sol",
           "upper": 0.2064450979232788
          },
          {
           "lower": 0.21314749121665955,
           "timepoint": 30,
           "trajectory": "H_sol",
           "upper": 0.21314749121665955
          },
          {
           "lower": 0.21984927356243134,
           "timepoint": 31,
           "trajectory": "H_sol",
           "upper": 0.21984927356243134
          },
          {
           "lower": 0.226552814245224,
           "timepoint": 32,
           "trajectory": "H_sol",
           "upper": 0.226552814245224
          },
          {
           "lower": 0.23325976729393005,
           "timepoint": 33,
           "trajectory": "H_sol",
           "upper": 0.23325976729393005
          },
          {
           "lower": 0.2399722933769226,
           "timepoint": 34,
           "trajectory": "H_sol",
           "upper": 0.2399722933769226
          },
          {
           "lower": 0.24669232964515686,
           "timepoint": 35,
           "trajectory": "H_sol",
           "upper": 0.24669232964515686
          },
          {
           "lower": 0.2534218728542328,
           "timepoint": 36,
           "trajectory": "H_sol",
           "upper": 0.2534218728542328
          },
          {
           "lower": 0.26016271114349365,
           "timepoint": 37,
           "trajectory": "H_sol",
           "upper": 0.26016271114349365
          },
          {
           "lower": 0.2669171094894409,
           "timepoint": 38,
           "trajectory": "H_sol",
           "upper": 0.2669171094894409
          },
          {
           "lower": 0.27368631958961487,
           "timepoint": 39,
           "trajectory": "H_sol",
           "upper": 0.27368631958961487
          },
          {
           "lower": 0.2804722785949707,
           "timepoint": 40,
           "trajectory": "H_sol",
           "upper": 0.2804722785949707
          },
          {
           "lower": 0.2872767448425293,
           "timepoint": 41,
           "trajectory": "H_sol",
           "upper": 0.2872767448425293
          },
          {
           "lower": 0.2941015064716339,
           "timepoint": 42,
           "trajectory": "H_sol",
           "upper": 0.2941015064716339
          },
          {
           "lower": 0.30094805359840393,
           "timepoint": 43,
           "trajectory": "H_sol",
           "upper": 0.30094805359840393
          },
          {
           "lower": 0.3078186810016632,
           "timepoint": 44,
           "trajectory": "H_sol",
           "upper": 0.3078186810016632
          },
          {
           "lower": 0.3147142231464386,
           "timepoint": 45,
           "trajectory": "H_sol",
           "upper": 0.3147142231464386
          },
          {
           "lower": 0.3216365873813629,
           "timepoint": 46,
           "trajectory": "H_sol",
           "upper": 0.3216365873813629
          },
          {
           "lower": 0.32858747243881226,
           "timepoint": 47,
           "trajectory": "H_sol",
           "upper": 0.32858747243881226
          },
          {
           "lower": 0.33556824922561646,
           "timepoint": 48,
           "trajectory": "H_sol",
           "upper": 0.33556824922561646
          },
          {
           "lower": 0.3425805866718292,
           "timepoint": 49,
           "trajectory": "H_sol",
           "upper": 0.3425805866718292
          },
          {
           "lower": 0.3496260643005371,
           "timepoint": 50,
           "trajectory": "H_sol",
           "upper": 0.3496260643005371
          },
          {
           "lower": 0.35670533776283264,
           "timepoint": 51,
           "trajectory": "H_sol",
           "upper": 0.35670533776283264
          },
          {
           "lower": 0.3638210892677307,
           "timepoint": 52,
           "trajectory": "H_sol",
           "upper": 0.3638210892677307
          },
          {
           "lower": 0.37097424268722534,
           "timepoint": 53,
           "trajectory": "H_sol",
           "upper": 0.37097424268722534
          },
          {
           "lower": 0.3781662583351135,
           "timepoint": 54,
           "trajectory": "H_sol",
           "upper": 0.3781662583351135
          },
          {
           "lower": 0.38539859652519226,
           "timepoint": 55,
           "trajectory": "H_sol",
           "upper": 0.38539859652519226
          },
          {
           "lower": 0.39267268776893616,
           "timepoint": 56,
           "trajectory": "H_sol",
           "upper": 0.39267268776893616
          },
          {
           "lower": 0.39998990297317505,
           "timepoint": 57,
           "trajectory": "H_sol",
           "upper": 0.39998990297317505
          },
          {
           "lower": 0.4073512554168701,
           "timepoint": 58,
           "trajectory": "H_sol",
           "upper": 0.4073512554168701
          },
          {
           "lower": 0.41475874185562134,
           "timepoint": 59,
           "trajectory": "H_sol",
           "upper": 0.41475874185562134
          },
          {
           "lower": 0.42221346497535706,
           "timepoint": 60,
           "trajectory": "H_sol",
           "upper": 0.42221346497535706
          },
          {
           "lower": 0.4297167956829071,
           "timepoint": 61,
           "trajectory": "H_sol",
           "upper": 0.4297167956829071
          },
          {
           "lower": 0.43727004528045654,
           "timepoint": 62,
           "trajectory": "H_sol",
           "upper": 0.43727004528045654
          },
          {
           "lower": 0.4448745548725128,
           "timepoint": 63,
           "trajectory": "H_sol",
           "upper": 0.4448745548725128
          },
          {
           "lower": 0.4525317847728729,
           "timepoint": 64,
           "trajectory": "H_sol",
           "upper": 0.4525317847728729
          },
          {
           "lower": 0.4602428078651428,
           "timepoint": 65,
           "trajectory": "H_sol",
           "upper": 0.4602428078651428
          },
          {
           "lower": 0.4680091440677643,
           "timepoint": 66,
           "trajectory": "H_sol",
           "upper": 0.4680091440677643
          },
          {
           "lower": 0.47583210468292236,
           "timepoint": 67,
           "trajectory": "H_sol",
           "upper": 0.47583210468292236
          },
          {
           "lower": 0.4837128818035126,
           "timepoint": 68,
           "trajectory": "H_sol",
           "upper": 0.4837128818035126
          },
          {
           "lower": 0.49165281653404236,
           "timepoint": 69,
           "trajectory": "H_sol",
           "upper": 0.49165281653404236
          },
          {
           "lower": 0.4996531903743744,
           "timepoint": 70,
           "trajectory": "H_sol",
           "upper": 0.4996531903743744
          },
          {
           "lower": 0.5077153444290161,
           "timepoint": 71,
           "trajectory": "H_sol",
           "upper": 0.5077153444290161
          },
          {
           "lower": 0.5158405303955078,
           "timepoint": 72,
           "trajectory": "H_sol",
           "upper": 0.5158405303955078
          },
          {
           "lower": 0.524030327796936,
           "timepoint": 73,
           "trajectory": "H_sol",
           "upper": 0.524030327796936
          },
          {
           "lower": 0.5322856307029724,
           "timepoint": 74,
           "trajectory": "H_sol",
           "upper": 0.5322856307029724
          },
          {
           "lower": 0.5406078100204468,
           "timepoint": 75,
           "trajectory": "H_sol",
           "upper": 0.5406078100204468
          },
          {
           "lower": 0.548998236656189,
           "timepoint": 76,
           "trajectory": "H_sol",
           "upper": 0.548998236656189
          },
          {
           "lower": 0.557458221912384,
           "timepoint": 77,
           "trajectory": "H_sol",
           "upper": 0.557458221912384
          },
          {
           "lower": 0.5659888386726379,
           "timepoint": 78,
           "trajectory": "H_sol",
           "upper": 0.5659888386726379
          },
          {
           "lower": 0.5745916366577148,
           "timepoint": 79,
           "trajectory": "H_sol",
           "upper": 0.5745916366577148
          },
          {
           "lower": 0.5832677483558655,
           "timepoint": 80,
           "trajectory": "H_sol",
           "upper": 0.5832677483558655
          },
          {
           "lower": 0.5920199751853943,
           "timepoint": 81,
           "trajectory": "H_sol",
           "upper": 0.5920199751853943
          },
          {
           "lower": 0.6008471250534058,
           "timepoint": 82,
           "trajectory": "H_sol",
           "upper": 0.6008471250534058
          },
          {
           "lower": 0.6097517013549805,
           "timepoint": 83,
           "trajectory": "H_sol",
           "upper": 0.6097517013549805
          },
          {
           "lower": 0.6187348365783691,
           "timepoint": 84,
           "trajectory": "H_sol",
           "upper": 0.6187348365783691
          },
          {
           "lower": 0.6277978420257568,
           "timepoint": 85,
           "trajectory": "H_sol",
           "upper": 0.6277978420257568
          },
          {
           "lower": 0.6369422674179077,
           "timepoint": 86,
           "trajectory": "H_sol",
           "upper": 0.6369422674179077
          },
          {
           "lower": 0.6461691856384277,
           "timepoint": 87,
           "trajectory": "H_sol",
           "upper": 0.6461691856384277
          },
          {
           "lower": 0.6554800868034363,
           "timepoint": 88,
           "trajectory": "H_sol",
           "upper": 0.6554800868034363
          },
          {
           "lower": 0.6648761630058289,
           "timepoint": 89,
           "trajectory": "H_sol",
           "upper": 0.6648761630058289
          },
          {
           "lower": 0.6743596196174622,
           "timepoint": 90,
           "trajectory": "H_sol",
           "upper": 0.6743596196174622
          },
          {
           "lower": 0.683930516242981,
           "timepoint": 91,
           "trajectory": "H_sol",
           "upper": 0.683930516242981
          },
          {
           "lower": 0.6935906410217285,
           "timepoint": 92,
           "trajectory": "H_sol",
           "upper": 0.6935906410217285
          },
          {
           "lower": 0.7033416032791138,
           "timepoint": 93,
           "trajectory": "H_sol",
           "upper": 0.7033416032791138
          },
          {
           "lower": 0.7131845951080322,
           "timepoint": 94,
           "trajectory": "H_sol",
           "upper": 0.7131845951080322
          },
          {
           "lower": 0.723120927810669,
           "timepoint": 95,
           "trajectory": "H_sol",
           "upper": 0.723120927810669
          },
          {
           "lower": 0.7331522107124329,
           "timepoint": 96,
           "trajectory": "H_sol",
           "upper": 0.7331522107124329
          },
          {
           "lower": 0.7432796955108643,
           "timepoint": 97,
           "trajectory": "H_sol",
           "upper": 0.7432796955108643
          },
          {
           "lower": 0.7535049319267273,
           "timepoint": 98,
           "trajectory": "H_sol",
           "upper": 0.7535049319267273
          },
          {
           "lower": 0.7638292908668518,
           "timepoint": 99,
           "trajectory": "H_sol",
           "upper": 0.7638292908668518
          },
          {
           "lower": 0.7742528915405273,
           "timepoint": 100,
           "trajectory": "H_sol",
           "upper": 0.7742528915405273
          },
          {
           "lower": 0.7847793698310852,
           "timepoint": 101,
           "trajectory": "H_sol",
           "upper": 0.7847793698310852
          },
          {
           "lower": 0.7954090237617493,
           "timepoint": 102,
           "trajectory": "H_sol",
           "upper": 0.7954090237617493
          },
          {
           "lower": 0.8061435222625732,
           "timepoint": 103,
           "trajectory": "H_sol",
           "upper": 0.8061435222625732
          },
          {
           "lower": 0.8169842958450317,
           "timepoint": 104,
           "trajectory": "H_sol",
           "upper": 0.8169842958450317
          },
          {
           "lower": 0.8279327154159546,
           "timepoint": 105,
           "trajectory": "H_sol",
           "upper": 0.8279327154159546
          },
          {
           "lower": 0.8389903903007507,
           "timepoint": 106,
           "trajectory": "H_sol",
           "upper": 0.8389903903007507
          },
          {
           "lower": 0.8501585721969604,
           "timepoint": 107,
           "trajectory": "H_sol",
           "upper": 0.8501585721969604
          },
          {
           "lower": 0.861439049243927,
           "timepoint": 108,
           "trajectory": "H_sol",
           "upper": 0.861439049243927
          },
          {
           "lower": 0.8728331923484802,
           "timepoint": 109,
           "trajectory": "H_sol",
           "upper": 0.8728331923484802
          },
          {
           "lower": 0.8843424916267395,
           "timepoint": 110,
           "trajectory": "H_sol",
           "upper": 0.8843424916267395
          },
          {
           "lower": 0.89597088098526,
           "timepoint": 111,
           "trajectory": "H_sol",
           "upper": 0.89597088098526
          },
          {
           "lower": 0.9077159762382507,
           "timepoint": 112,
           "trajectory": "H_sol",
           "upper": 0.9077159762382507
          },
          {
           "lower": 0.9195809960365295,
           "timepoint": 113,
           "trajectory": "H_sol",
           "upper": 0.9195809960365295
          },
          {
           "lower": 0.9315676689147949,
           "timepoint": 114,
           "trajectory": "H_sol",
           "upper": 0.9315676689147949
          },
          {
           "lower": 0.9436774253845215,
           "timepoint": 115,
           "trajectory": "H_sol",
           "upper": 0.9436774253845215
          },
          {
           "lower": 0.9559119939804077,
           "timepoint": 116,
           "trajectory": "H_sol",
           "upper": 0.9559119939804077
          },
          {
           "lower": 0.9682729840278625,
           "timepoint": 117,
           "trajectory": "H_sol",
           "upper": 0.9682729840278625
          },
          {
           "lower": 0.9807621240615845,
           "timepoint": 118,
           "trajectory": "H_sol",
           "upper": 0.9807621240615845
          },
          {
           "lower": 0.9933809638023376,
           "timepoint": 119,
           "trajectory": "H_sol",
           "upper": 0.9933809638023376
          },
          {
           "lower": 1.0061311721801758,
           "timepoint": 120,
           "trajectory": "H_sol",
           "upper": 1.0061311721801758
          },
          {
           "lower": 1.0190144777297974,
           "timepoint": 121,
           "trajectory": "H_sol",
           "upper": 1.0190144777297974
          },
          {
           "lower": 1.0320342779159546,
           "timepoint": 122,
           "trajectory": "H_sol",
           "upper": 1.0320342779159546
          },
          {
           "lower": 1.045189380645752,
           "timepoint": 123,
           "trajectory": "H_sol",
           "upper": 1.045189380645752
          },
          {
           "lower": 1.0584828853607178,
           "timepoint": 124,
           "trajectory": "H_sol",
           "upper": 1.0584828853607178
          },
          {
           "lower": 1.0719162225723267,
           "timepoint": 125,
           "trajectory": "H_sol",
           "upper": 1.0719162225723267
          },
          {
           "lower": 1.0854918956756592,
           "timepoint": 126,
           "trajectory": "H_sol",
           "upper": 1.0854918956756592
          },
          {
           "lower": 1.0992108583450317,
           "timepoint": 127,
           "trajectory": "H_sol",
           "upper": 1.0992108583450317
          },
          {
           "lower": 1.1130753755569458,
           "timepoint": 128,
           "trajectory": "H_sol",
           "upper": 1.1130753755569458
          },
          {
           "lower": 1.1270875930786133,
           "timepoint": 129,
           "trajectory": "H_sol",
           "upper": 1.1270875930786133
          },
          {
           "lower": 1.1412485837936401,
           "timepoint": 130,
           "trajectory": "H_sol",
           "upper": 1.1412485837936401
          },
          {
           "lower": 1.1555609703063965,
           "timepoint": 131,
           "trajectory": "H_sol",
           "upper": 1.1555609703063965
          },
          {
           "lower": 1.1700259447097778,
           "timepoint": 132,
           "trajectory": "H_sol",
           "upper": 1.1700259447097778
          },
          {
           "lower": 1.1846462488174438,
           "timepoint": 133,
           "trajectory": "H_sol",
           "upper": 1.1846462488174438
          },
          {
           "lower": 1.19942307472229,
           "timepoint": 134,
           "trajectory": "H_sol",
           "upper": 1.19942307472229
          },
          {
           "lower": 1.2143579721450806,
           "timepoint": 135,
           "trajectory": "H_sol",
           "upper": 1.2143579721450806
          },
          {
           "lower": 1.2294541597366333,
           "timepoint": 136,
           "trajectory": "H_sol",
           "upper": 1.2294541597366333
          },
          {
           "lower": 1.2447131872177124,
           "timepoint": 137,
           "trajectory": "H_sol",
           "upper": 1.2447131872177124
          },
          {
           "lower": 1.2601368427276611,
           "timepoint": 138,
           "trajectory": "H_sol",
           "upper": 1.2601368427276611
          },
          {
           "lower": 1.2757271528244019,
           "timepoint": 139,
           "trajectory": "H_sol",
           "upper": 1.2757271528244019
          },
          {
           "lower": 1.291486382484436,
           "timepoint": 140,
           "trajectory": "H_sol",
           "upper": 1.291486382484436
          },
          {
           "lower": 1.3074164390563965,
           "timepoint": 141,
           "trajectory": "H_sol",
           "upper": 1.3074164390563965
          },
          {
           "lower": 1.3235193490982056,
           "timepoint": 142,
           "trajectory": "H_sol",
           "upper": 1.3235193490982056
          },
          {
           "lower": 1.3397974967956543,
           "timepoint": 143,
           "trajectory": "H_sol",
           "upper": 1.3397974967956543
          },
          {
           "lower": 1.3562530279159546,
           "timepoint": 144,
           "trajectory": "H_sol",
           "upper": 1.3562530279159546
          },
          {
           "lower": 1.3728877305984497,
           "timepoint": 145,
           "trajectory": "H_sol",
           "upper": 1.3728877305984497
          },
          {
           "lower": 1.3897039890289307,
           "timepoint": 146,
           "trajectory": "H_sol",
           "upper": 1.3897039890289307
          },
          {
           "lower": 1.4067041873931885,
           "timepoint": 147,
           "trajectory": "H_sol",
           "upper": 1.4067041873931885
          },
          {
           "lower": 1.4238907098770142,
           "timepoint": 148,
           "trajectory": "H_sol",
           "upper": 1.4238907098770142
          },
          {
           "lower": 1.4412652254104614,
           "timepoint": 149,
           "trajectory": "H_sol",
           "upper": 1.4412652254104614
          },
          {
           "lower": 1.4588303565979004,
           "timepoint": 150,
           "trajectory": "H_sol",
           "upper": 1.4588303565979004
          },
          {
           "lower": 1.4765883684158325,
           "timepoint": 151,
           "trajectory": "H_sol",
           "upper": 1.4765883684158325
          },
          {
           "lower": 1.4945414066314697,
           "timepoint": 152,
           "trajectory": "H_sol",
           "upper": 1.4945414066314697
          },
          {
           "lower": 1.5126922130584717,
           "timepoint": 153,
           "trajectory": "H_sol",
           "upper": 1.5126922130584717
          },
          {
           "lower": 1.5310429334640503,
           "timepoint": 154,
           "trajectory": "H_sol",
           "upper": 1.5310429334640503
          },
          {
           "lower": 1.5495959520339966,
           "timepoint": 155,
           "trajectory": "H_sol",
           "upper": 1.5495959520339966
          },
          {
           "lower": 1.568353533744812,
           "timepoint": 156,
           "trajectory": "H_sol",
           "upper": 1.568353533744812
          },
          {
           "lower": 1.5873188972473145,
           "timepoint": 157,
           "trajectory": "H_sol",
           "upper": 1.5873188972473145
          },
          {
           "lower": 1.6064937114715576,
           "timepoint": 158,
           "trajectory": "H_sol",
           "upper": 1.6064937114715576
          },
          {
           "lower": 1.6258807182312012,
           "timepoint": 159,
           "trajectory": "H_sol",
           "upper": 1.6258807182312012
          },
          {
           "lower": 1.6454825401306152,
           "timepoint": 160,
           "trajectory": "H_sol",
           "upper": 1.6454825401306152
          },
          {
           "lower": 1.6653015613555908,
           "timepoint": 161,
           "trajectory": "H_sol",
           "upper": 1.6653015613555908
          },
          {
           "lower": 1.6853420734405518,
           "timepoint": 162,
           "trajectory": "H_sol",
           "upper": 1.6853420734405518
          },
          {
           "lower": 1.705603837966919,
           "timepoint": 163,
           "trajectory": "H_sol",
           "upper": 1.705603837966919
          },
          {
           "lower": 1.7260913848876953,
           "timepoint": 164,
           "trajectory": "H_sol",
           "upper": 1.7260913848876953
          },
          {
           "lower": 1.7468068599700928,
           "timepoint": 165,
           "trajectory": "H_sol",
           "upper": 1.7468068599700928
          },
          {
           "lower": 1.7677525281906128,
           "timepoint": 166,
           "trajectory": "H_sol",
           "upper": 1.7677525281906128
          },
          {
           "lower": 1.7889324426651,
           "timepoint": 167,
           "trajectory": "H_sol",
           "upper": 1.7889324426651
          },
          {
           "lower": 1.8103477954864502,
           "timepoint": 168,
           "trajectory": "H_sol",
           "upper": 1.8103477954864502
          },
          {
           "lower": 1.8320027589797974,
           "timepoint": 169,
           "trajectory": "H_sol",
           "upper": 1.8320027589797974
          },
          {
           "lower": 1.8538994789123535,
           "timepoint": 170,
           "trajectory": "H_sol",
           "upper": 1.8538994789123535
          },
          {
           "lower": 1.8760403394699097,
           "timepoint": 171,
           "trajectory": "H_sol",
           "upper": 1.8760403394699097
          },
          {
           "lower": 1.8984298706054688,
           "timepoint": 172,
           "trajectory": "H_sol",
           "upper": 1.8984298706054688
          },
          {
           "lower": 1.9210693836212158,
           "timepoint": 173,
           "trajectory": "H_sol",
           "upper": 1.9210693836212158
          },
          {
           "lower": 1.943962574005127,
           "timepoint": 174,
           "trajectory": "H_sol",
           "upper": 1.943962574005127
          },
          {
           "lower": 1.9671127796173096,
           "timepoint": 175,
           "trajectory": "H_sol",
           "upper": 1.9671127796173096
          },
          {
           "lower": 1.990521788597107,
           "timepoint": 176,
           "trajectory": "H_sol",
           "upper": 1.990521788597107
          },
          {
           "lower": 2.0141944885253906,
           "timepoint": 177,
           "trajectory": "H_sol",
           "upper": 2.0141944885253906
          },
          {
           "lower": 2.0381319522857666,
           "timepoint": 178,
           "trajectory": "H_sol",
           "upper": 2.0381319522857666
          },
          {
           "lower": 2.0623388290405273,
           "timepoint": 179,
           "trajectory": "H_sol",
           "upper": 2.0623388290405273
          },
          {
           "lower": 2.086817979812622,
           "timepoint": 180,
           "trajectory": "H_sol",
           "upper": 2.086817979812622
          },
          {
           "lower": 2.111571788787842,
           "timepoint": 181,
           "trajectory": "H_sol",
           "upper": 2.111571788787842
          },
          {
           "lower": 2.1366047859191895,
           "timepoint": 182,
           "trajectory": "H_sol",
           "upper": 2.1366047859191895
          },
          {
           "lower": 2.161919116973877,
           "timepoint": 183,
           "trajectory": "H_sol",
           "upper": 2.161919116973877
          },
          {
           "lower": 2.18751859664917,
           "timepoint": 184,
           "trajectory": "H_sol",
           "upper": 2.18751859664917
          },
          {
           "lower": 2.213407278060913,
           "timepoint": 185,
           "trajectory": "H_sol",
           "upper": 2.213407278060913
          },
          {
           "lower": 2.2395870685577393,
           "timepoint": 186,
           "trajectory": "H_sol",
           "upper": 2.2395870685577393
          },
          {
           "lower": 2.2660629749298096,
           "timepoint": 187,
           "trajectory": "H_sol",
           "upper": 2.2660629749298096
          },
          {
           "lower": 2.292836904525757,
           "timepoint": 188,
           "trajectory": "H_sol",
           "upper": 2.292836904525757
          },
          {
           "lower": 2.319913625717163,
           "timepoint": 189,
           "trajectory": "H_sol",
           "upper": 2.319913625717163
          },
          {
           "lower": 2.347299098968506,
           "timepoint": 190,
           "trajectory": "H_sol",
           "upper": 2.347299098968506
          },
          {
           "lower": 2.3749914169311523,
           "timepoint": 191,
           "trajectory": "H_sol",
           "upper": 2.3749914169311523
          },
          {
           "lower": 2.4029977321624756,
           "timepoint": 192,
           "trajectory": "H_sol",
           "upper": 2.4029977321624756
          },
          {
           "lower": 2.4313199520111084,
           "timepoint": 193,
           "trajectory": "H_sol",
           "upper": 2.4313199520111084
          },
          {
           "lower": 2.459963083267212,
           "timepoint": 194,
           "trajectory": "H_sol",
           "upper": 2.459963083267212
          },
          {
           "lower": 2.4889304637908936,
           "timepoint": 195,
           "trajectory": "H_sol",
           "upper": 2.4889304637908936
          },
          {
           "lower": 2.51822566986084,
           "timepoint": 196,
           "trajectory": "H_sol",
           "upper": 2.51822566986084
          },
          {
           "lower": 2.547853946685791,
           "timepoint": 197,
           "trajectory": "H_sol",
           "upper": 2.547853946685791
          },
          {
           "lower": 2.577816963195801,
           "timepoint": 198,
           "trajectory": "H_sol",
           "upper": 2.577816963195801
          },
          {
           "lower": 2.6081202030181885,
           "timepoint": 199,
           "trajectory": "H_sol",
           "upper": 2.6081202030181885
          },
          {
           "lower": 2.6387674808502197,
           "timepoint": 200,
           "trajectory": "H_sol",
           "upper": 2.6387674808502197
          },
          {
           "lower": 2.669762134552002,
           "timepoint": 201,
           "trajectory": "H_sol",
           "upper": 2.669762134552002
          },
          {
           "lower": 2.7011098861694336,
           "timepoint": 202,
           "trajectory": "H_sol",
           "upper": 2.7011098861694336
          },
          {
           "lower": 2.7328126430511475,
           "timepoint": 203,
           "trajectory": "H_sol",
           "upper": 2.7328126430511475
          },
          {
           "lower": 2.764871120452881,
           "timepoint": 204,
           "trajectory": "H_sol",
           "upper": 2.764871120452881
          },
          {
           "lower": 2.797297954559326,
           "timepoint": 205,
           "trajectory": "H_sol",
           "upper": 2.797297954559326
          },
          {
           "lower": 2.8300929069519043,
           "timepoint": 206,
           "trajectory": "H_sol",
           "upper": 2.8300929069519043
          },
          {
           "lower": 2.8632616996765137,
           "timepoint": 207,
           "trajectory": "H_sol",
           "upper": 2.8632616996765137
          },
          {
           "lower": 2.896806478500366,
           "timepoint": 208,
           "trajectory": "H_sol",
           "upper": 2.896806478500366
          },
          {
           "lower": 2.9307339191436768,
           "timepoint": 209,
           "trajectory": "H_sol",
           "upper": 2.9307339191436768
          },
          {
           "lower": 2.9650471210479736,
           "timepoint": 210,
           "trajectory": "H_sol",
           "upper": 2.9650471210479736
          },
          {
           "lower": 2.9997506141662598,
           "timepoint": 211,
           "trajectory": "H_sol",
           "upper": 2.9997506141662598
          },
          {
           "lower": 3.0348501205444336,
           "timepoint": 212,
           "trajectory": "H_sol",
           "upper": 3.0348501205444336
          },
          {
           "lower": 3.0703482627868652,
           "timepoint": 213,
           "trajectory": "H_sol",
           "upper": 3.0703482627868652
          },
          {
           "lower": 3.1062517166137695,
           "timepoint": 214,
           "trajectory": "H_sol",
           "upper": 3.1062517166137695
          },
          {
           "lower": 3.142563581466675,
           "timepoint": 215,
           "trajectory": "H_sol",
           "upper": 3.142563581466675
          },
          {
           "lower": 3.1792898178100586,
           "timepoint": 216,
           "trajectory": "H_sol",
           "upper": 3.1792898178100586
          },
          {
           "lower": 3.216435194015503,
           "timepoint": 217,
           "trajectory": "H_sol",
           "upper": 3.216435194015503
          },
          {
           "lower": 3.2540030479431152,
           "timepoint": 218,
           "trajectory": "H_sol",
           "upper": 3.2540030479431152
          },
          {
           "lower": 3.2920026779174805,
           "timepoint": 219,
           "trajectory": "H_sol",
           "upper": 3.2920026779174805
          },
          {
           "lower": 3.3304338455200195,
           "timepoint": 220,
           "trajectory": "H_sol",
           "upper": 3.3304338455200195
          },
          {
           "lower": 3.3693032264709473,
           "timepoint": 221,
           "trajectory": "H_sol",
           "upper": 3.3693032264709473
          },
          {
           "lower": 3.4086172580718994,
           "timepoint": 222,
           "trajectory": "H_sol",
           "upper": 3.4086172580718994
          },
          {
           "lower": 3.4483790397644043,
           "timepoint": 223,
           "trajectory": "H_sol",
           "upper": 3.4483790397644043
          },
          {
           "lower": 3.488595724105835,
           "timepoint": 224,
           "trajectory": "H_sol",
           "upper": 3.488595724105835
          },
          {
           "lower": 3.5292718410491943,
           "timepoint": 225,
           "trajectory": "H_sol",
           "upper": 3.5292718410491943
          },
          {
           "lower": 3.5704116821289062,
           "timepoint": 226,
           "trajectory": "H_sol",
           "upper": 3.5704116821289062
          },
          {
           "lower": 3.6120235919952393,
           "timepoint": 227,
           "trajectory": "H_sol",
           "upper": 3.6120235919952393
          },
          {
           "lower": 3.654109239578247,
           "timepoint": 228,
           "trajectory": "H_sol",
           "upper": 3.654109239578247
          },
          {
           "lower": 3.6966772079467773,
           "timepoint": 229,
           "trajectory": "H_sol",
           "upper": 3.6966772079467773
          },
          {
           "lower": 3.739731788635254,
           "timepoint": 230,
           "trajectory": "H_sol",
           "upper": 3.739731788635254
          },
          {
           "lower": 3.783278703689575,
           "timepoint": 231,
           "trajectory": "H_sol",
           "upper": 3.783278703689575
          },
          {
           "lower": 3.827324390411377,
           "timepoint": 232,
           "trajectory": "H_sol",
           "upper": 3.827324390411377
          },
          {
           "lower": 3.8718667030334473,
           "timepoint": 233,
           "trajectory": "H_sol",
           "upper": 3.8718667030334473
          },
          {
           "lower": 3.9169249534606934,
           "timepoint": 234,
           "trajectory": "H_sol",
           "upper": 3.9169249534606934
          },
          {
           "lower": 3.962498903274536,
           "timepoint": 235,
           "trajectory": "H_sol",
           "upper": 3.962498903274536
          },
          {
           "lower": 4.008594036102295,
           "timepoint": 236,
           "trajectory": "H_sol",
           "upper": 4.008594036102295
          },
          {
           "lower": 4.055217742919922,
           "timepoint": 237,
           "trajectory": "H_sol",
           "upper": 4.055217742919922
          },
          {
           "lower": 4.1023736000061035,
           "timepoint": 238,
           "trajectory": "H_sol",
           "upper": 4.1023736000061035
          },
          {
           "lower": 4.1500701904296875,
           "timepoint": 239,
           "trajectory": "H_sol",
           "upper": 4.1500701904296875
          },
          {
           "lower": 4.198313236236572,
           "timepoint": 240,
           "trajectory": "H_sol",
           "upper": 4.198313236236572
          },
          {
           "lower": 4.2471089363098145,
           "timepoint": 241,
           "trajectory": "H_sol",
           "upper": 4.2471089363098145
          },
          {
           "lower": 4.296463489532471,
           "timepoint": 242,
           "trajectory": "H_sol",
           "upper": 4.296463489532471
          },
          {
           "lower": 4.3463826179504395,
           "timepoint": 243,
           "trajectory": "H_sol",
           "upper": 4.3463826179504395
          },
          {
           "lower": 4.39687442779541,
           "timepoint": 244,
           "trajectory": "H_sol",
           "upper": 4.39687442779541
          },
          {
           "lower": 4.4479451179504395,
           "timepoint": 245,
           "trajectory": "H_sol",
           "upper": 4.4479451179504395
          },
          {
           "lower": 4.499600410461426,
           "timepoint": 246,
           "trajectory": "H_sol",
           "upper": 4.499600410461426
          },
          {
           "lower": 4.551853179931641,
           "timepoint": 247,
           "trajectory": "H_sol",
           "upper": 4.551853179931641
          },
          {
           "lower": 4.604699611663818,
           "timepoint": 248,
           "trajectory": "H_sol",
           "upper": 4.604699611663818
          },
          {
           "lower": 4.658153533935547,
           "timepoint": 249,
           "trajectory": "H_sol",
           "upper": 4.658153533935547
          },
          {
           "lower": 4.712220668792725,
           "timepoint": 250,
           "trajectory": "H_sol",
           "upper": 4.712220668792725
          },
          {
           "lower": 4.766908168792725,
           "timepoint": 251,
           "trajectory": "H_sol",
           "upper": 4.766908168792725
          },
          {
           "lower": 4.8222222328186035,
           "timepoint": 252,
           "trajectory": "H_sol",
           "upper": 4.8222222328186035
          },
          {
           "lower": 4.878170013427734,
           "timepoint": 253,
           "trajectory": "H_sol",
           "upper": 4.878170013427734
          },
          {
           "lower": 4.934760570526123,
           "timepoint": 254,
           "trajectory": "H_sol",
           "upper": 4.934760570526123
          },
          {
           "lower": 4.992001056671143,
           "timepoint": 255,
           "trajectory": "H_sol",
           "upper": 4.992001056671143
          },
          {
           "lower": 5.04989767074585,
           "timepoint": 256,
           "trajectory": "H_sol",
           "upper": 5.04989767074585
          },
          {
           "lower": 5.108458518981934,
           "timepoint": 257,
           "trajectory": "H_sol",
           "upper": 5.108458518981934
          },
          {
           "lower": 5.167691230773926,
           "timepoint": 258,
           "trajectory": "H_sol",
           "upper": 5.167691230773926
          },
          {
           "lower": 5.227603912353516,
           "timepoint": 259,
           "trajectory": "H_sol",
           "upper": 5.227603912353516
          },
          {
           "lower": 5.288205623626709,
           "timepoint": 260,
           "trajectory": "H_sol",
           "upper": 5.288205623626709
          },
          {
           "lower": 5.349503040313721,
           "timepoint": 261,
           "trajectory": "H_sol",
           "upper": 5.349503040313721
          },
          {
           "lower": 5.411509990692139,
           "timepoint": 262,
           "trajectory": "H_sol",
           "upper": 5.411509990692139
          },
          {
           "lower": 5.474222660064697,
           "timepoint": 263,
           "trajectory": "H_sol",
           "upper": 5.474222660064697
          },
          {
           "lower": 5.537657737731934,
           "timepoint": 264,
           "trajectory": "H_sol",
           "upper": 5.537657737731934
          },
          {
           "lower": 5.601820468902588,
           "timepoint": 265,
           "trajectory": "H_sol",
           "upper": 5.601820468902588
          },
          {
           "lower": 5.666719913482666,
           "timepoint": 266,
           "trajectory": "H_sol",
           "upper": 5.666719913482666
          },
          {
           "lower": 5.73236608505249,
           "timepoint": 267,
           "trajectory": "H_sol",
           "upper": 5.73236608505249
          },
          {
           "lower": 5.798764228820801,
           "timepoint": 268,
           "trajectory": "H_sol",
           "upper": 5.798764228820801
          },
          {
           "lower": 5.865926742553711,
           "timepoint": 269,
           "trajectory": "H_sol",
           "upper": 5.865926742553711
          },
          {
           "lower": 5.93386173248291,
           "timepoint": 270,
           "trajectory": "H_sol",
           "upper": 5.93386173248291
          },
          {
           "lower": 6.0025763511657715,
           "timepoint": 271,
           "trajectory": "H_sol",
           "upper": 6.0025763511657715
          },
          {
           "lower": 6.072081565856934,
           "timepoint": 272,
           "trajectory": "H_sol",
           "upper": 6.072081565856934
          },
          {
           "lower": 6.142384052276611,
           "timepoint": 273,
           "trajectory": "H_sol",
           "upper": 6.142384052276611
          },
          {
           "lower": 6.213496208190918,
           "timepoint": 274,
           "trajectory": "H_sol",
           "upper": 6.213496208190918
          },
          {
           "lower": 6.285425186157227,
           "timepoint": 275,
           "trajectory": "H_sol",
           "upper": 6.285425186157227
          },
          {
           "lower": 6.358180999755859,
           "timepoint": 276,
           "trajectory": "H_sol",
           "upper": 6.358180999755859
          },
          {
           "lower": 6.431773662567139,
           "timepoint": 277,
           "trajectory": "H_sol",
           "upper": 6.431773662567139
          },
          {
           "lower": 6.506211280822754,
           "timepoint": 278,
           "trajectory": "H_sol",
           "upper": 6.506211280822754
          },
          {
           "lower": 6.58150577545166,
           "timepoint": 279,
           "trajectory": "H_sol",
           "upper": 6.58150577545166
          },
          {
           "lower": 6.6576666831970215,
           "timepoint": 280,
           "trajectory": "H_sol",
           "upper": 6.6576666831970215
          },
          {
           "lower": 6.734703540802002,
           "timepoint": 281,
           "trajectory": "H_sol",
           "upper": 6.734703540802002
          },
          {
           "lower": 6.812625885009766,
           "timepoint": 282,
           "trajectory": "H_sol",
           "upper": 6.812625885009766
          },
          {
           "lower": 6.891442775726318,
           "timepoint": 283,
           "trajectory": "H_sol",
           "upper": 6.891442775726318
          },
          {
           "lower": 6.971168041229248,
           "timepoint": 284,
           "trajectory": "H_sol",
           "upper": 6.971168041229248
          },
          {
           "lower": 7.0518107414245605,
           "timepoint": 285,
           "trajectory": "H_sol",
           "upper": 7.0518107414245605
          },
          {
           "lower": 7.133380889892578,
           "timepoint": 286,
           "trajectory": "H_sol",
           "upper": 7.133380889892578
          },
          {
           "lower": 7.215888500213623,
           "timepoint": 287,
           "trajectory": "H_sol",
           "upper": 7.215888500213623
          },
          {
           "lower": 7.299344539642334,
           "timepoint": 288,
           "trajectory": "H_sol",
           "upper": 7.299344539642334
          },
          {
           "lower": 7.383761882781982,
           "timepoint": 289,
           "trajectory": "H_sol",
           "upper": 7.383761882781982
          },
          {
           "lower": 7.469150543212891,
           "timepoint": 290,
           "trajectory": "H_sol",
           "upper": 7.469150543212891
          },
          {
           "lower": 7.5555243492126465,
           "timepoint": 291,
           "trajectory": "H_sol",
           "upper": 7.5555243492126465
          },
          {
           "lower": 7.642889022827148,
           "timepoint": 292,
           "trajectory": "H_sol",
           "upper": 7.642889022827148
          },
          {
           "lower": 7.731258869171143,
           "timepoint": 293,
           "trajectory": "H_sol",
           "upper": 7.731258869171143
          },
          {
           "lower": 7.820646286010742,
           "timepoint": 294,
           "trajectory": "H_sol",
           "upper": 7.820646286010742
          },
          {
           "lower": 7.911063194274902,
           "timepoint": 295,
           "trajectory": "H_sol",
           "upper": 7.911063194274902
          },
          {
           "lower": 8.002519607543945,
           "timepoint": 296,
           "trajectory": "H_sol",
           "upper": 8.002519607543945
          },
          {
           "lower": 8.0950288772583,
           "timepoint": 297,
           "trajectory": "H_sol",
           "upper": 8.0950288772583
          },
          {
           "lower": 8.188603401184082,
           "timepoint": 298,
           "trajectory": "H_sol",
           "upper": 8.188603401184082
          },
          {
           "lower": 8.283254623413086,
           "timepoint": 299,
           "trajectory": "H_sol",
           "upper": 8.283254623413086
          },
          {
           "lower": 8.378994941711426,
           "timepoint": 300,
           "trajectory": "H_sol",
           "upper": 8.378994941711426
          },
          {
           "lower": 8.475837707519531,
           "timepoint": 301,
           "trajectory": "H_sol",
           "upper": 8.475837707519531
          },
          {
           "lower": 8.5737943649292,
           "timepoint": 302,
           "trajectory": "H_sol",
           "upper": 8.5737943649292
          },
          {
           "lower": 8.67287826538086,
           "timepoint": 303,
           "trajectory": "H_sol",
           "upper": 8.67287826538086
          },
          {
           "lower": 8.773104667663574,
           "timepoint": 304,
           "trajectory": "H_sol",
           "upper": 8.773104667663574
          },
          {
           "lower": 8.874491691589355,
           "timepoint": 305,
           "trajectory": "H_sol",
           "upper": 8.874491691589355
          },
          {
           "lower": 8.977039337158203,
           "timepoint": 306,
           "trajectory": "H_sol",
           "upper": 8.977039337158203
          },
          {
           "lower": 9.080767631530762,
           "timepoint": 307,
           "trajectory": "H_sol",
           "upper": 9.080767631530762
          },
          {
           "lower": 9.185688972473145,
           "timepoint": 308,
           "trajectory": "H_sol",
           "upper": 9.185688972473145
          },
          {
           "lower": 9.291820526123047,
           "timepoint": 309,
           "trajectory": "H_sol",
           "upper": 9.291820526123047
          },
          {
           "lower": 9.399173736572266,
           "timepoint": 310,
           "trajectory": "H_sol",
           "upper": 9.399173736572266
          },
          {
           "lower": 4,
           "timepoint": 0,
           "trajectory": "I_sol",
           "upper": 4
          },
          {
           "lower": 3.9906294345855713,
           "timepoint": 1,
           "trajectory": "I_sol",
           "upper": 3.9906294345855713
          },
          {
           "lower": 3.9832823276519775,
           "timepoint": 2,
           "trajectory": "I_sol",
           "upper": 3.9832823276519775
          },
          {
           "lower": 3.9778847694396973,
           "timepoint": 3,
           "trajectory": "I_sol",
           "upper": 3.9778847694396973
          },
          {
           "lower": 3.9743947982788086,
           "timepoint": 4,
           "trajectory": "I_sol",
           "upper": 3.9743947982788086
          },
          {
           "lower": 3.972761869430542,
           "timepoint": 5,
           "trajectory": "I_sol",
           "upper": 3.972761869430542
          },
          {
           "lower": 3.972926378250122,
           "timepoint": 6,
           "trajectory": "I_sol",
           "upper": 3.972926378250122
          },
          {
           "lower": 3.9748425483703613,
           "timepoint": 7,
           "trajectory": "I_sol",
           "upper": 3.9748425483703613
          },
          {
           "lower": 3.9784646034240723,
           "timepoint": 8,
           "trajectory": "I_sol",
           "upper": 3.9784646034240723
          },
          {
           "lower": 3.9837393760681152,
           "timepoint": 9,
           "trajectory": "I_sol",
           "upper": 3.9837393760681152
          },
          {
           "lower": 3.990635395050049,
           "timepoint": 10,
           "trajectory": "I_sol",
           "upper": 3.990635395050049
          },
          {
           "lower": 3.9991085529327393,
           "timepoint": 11,
           "trajectory": "I_sol",
           "upper": 3.9991085529327393
          },
          {
           "lower": 4.009119987487793,
           "timepoint": 12,
           "trajectory": "I_sol",
           "upper": 4.009119987487793
          },
          {
           "lower": 4.020621299743652,
           "timepoint": 13,
           "trajectory": "I_sol",
           "upper": 4.020621299743652
          },
          {
           "lower": 4.0335917472839355,
           "timepoint": 14,
           "trajectory": "I_sol",
           "upper": 4.0335917472839355
          },
          {
           "lower": 4.047991752624512,
           "timepoint": 15,
           "trajectory": "I_sol",
           "upper": 4.047991752624512
          },
          {
           "lower": 4.0637898445129395,
           "timepoint": 16,
           "trajectory": "I_sol",
           "upper": 4.0637898445129395
          },
          {
           "lower": 4.080950736999512,
           "timepoint": 17,
           "trajectory": "I_sol",
           "upper": 4.080950736999512
          },
          {
           "lower": 4.0994486808776855,
           "timepoint": 18,
           "trajectory": "I_sol",
           "upper": 4.0994486808776855
          },
          {
           "lower": 4.119256019592285,
           "timepoint": 19,
           "trajectory": "I_sol",
           "upper": 4.119256019592285
          },
          {
           "lower": 4.140345573425293,
           "timepoint": 20,
           "trajectory": "I_sol",
           "upper": 4.140345573425293
          },
          {
           "lower": 4.162691593170166,
           "timepoint": 21,
           "trajectory": "I_sol",
           "upper": 4.162691593170166
          },
          {
           "lower": 4.1862592697143555,
           "timepoint": 22,
           "trajectory": "I_sol",
           "upper": 4.1862592697143555
          },
          {
           "lower": 4.21104097366333,
           "timepoint": 23,
           "trajectory": "I_sol",
           "upper": 4.21104097366333
          },
          {
           "lower": 4.237010478973389,
           "timepoint": 24,
           "trajectory": "I_sol",
           "upper": 4.237010478973389
          },
          {
           "lower": 4.264143943786621,
           "timepoint": 25,
           "trajectory": "I_sol",
           "upper": 4.264143943786621
          },
          {
           "lower": 4.292424201965332,
           "timepoint": 26,
           "trajectory": "I_sol",
           "upper": 4.292424201965332
          },
          {
           "lower": 4.321829319000244,
           "timepoint": 27,
           "trajectory": "I_sol",
           "upper": 4.321829319000244
          },
          {
           "lower": 4.3523454666137695,
           "timepoint": 28,
           "trajectory": "I_sol",
           "upper": 4.3523454666137695
          },
          {
           "lower": 4.383954048156738,
           "timepoint": 29,
           "trajectory": "I_sol",
           "upper": 4.383954048156738
          },
          {
           "lower": 4.4166388511657715,
           "timepoint": 30,
           "trajectory": "I_sol",
           "upper": 4.4166388511657715
          },
          {
           "lower": 4.4503865242004395,
           "timepoint": 31,
           "trajectory": "I_sol",
           "upper": 4.4503865242004395
          },
          {
           "lower": 4.485179424285889,
           "timepoint": 32,
           "trajectory": "I_sol",
           "upper": 4.485179424285889
          },
          {
           "lower": 4.5210089683532715,
           "timepoint": 33,
           "trajectory": "I_sol",
           "upper": 4.5210089683532715
          },
          {
           "lower": 4.557860374450684,
           "timepoint": 34,
           "trajectory": "I_sol",
           "upper": 4.557860374450684
          },
          {
           "lower": 4.595722198486328,
           "timepoint": 35,
           "trajectory": "I_sol",
           "upper": 4.595722198486328
          },
          {
           "lower": 4.634582996368408,
           "timepoint": 36,
           "trajectory": "I_sol",
           "upper": 4.634582996368408
          },
          {
           "lower": 4.67443323135376,
           "timepoint": 37,
           "trajectory": "I_sol",
           "upper": 4.67443323135376
          },
          {
           "lower": 4.715273380279541,
           "timepoint": 38,
           "trajectory": "I_sol",
           "upper": 4.715273380279541
          },
          {
           "lower": 4.757078647613525,
           "timepoint": 39,
           "trajectory": "I_sol",
           "upper": 4.757078647613525
          },
          {
           "lower": 4.799849033355713,
           "timepoint": 40,
           "trajectory": "I_sol",
           "upper": 4.799849033355713
          },
          {
           "lower": 4.843576908111572,
           "timepoint": 41,
           "trajectory": "I_sol",
           "upper": 4.843576908111572
          },
          {
           "lower": 4.888254642486572,
           "timepoint": 42,
           "trajectory": "I_sol",
           "upper": 4.888254642486572
          },
          {
           "lower": 4.933877944946289,
           "timepoint": 43,
           "trajectory": "I_sol",
           "upper": 4.933877944946289
          },
          {
           "lower": 4.9804301261901855,
           "timepoint": 44,
           "trajectory": "I_sol",
           "upper": 4.9804301261901855
          },
          {
           "lower": 5.0279221534729,
           "timepoint": 45,
           "trajectory": "I_sol",
           "upper": 5.0279221534729
          },
          {
           "lower": 5.076342582702637,
           "timepoint": 46,
           "trajectory": "I_sol",
           "upper": 5.076342582702637
          },
          {
           "lower": 5.125688552856445,
           "timepoint": 47,
           "trajectory": "I_sol",
           "upper": 5.125688552856445
          },
          {
           "lower": 5.175956726074219,
           "timepoint": 48,
           "trajectory": "I_sol",
           "upper": 5.175956726074219
          },
          {
           "lower": 5.227143287658691,
           "timepoint": 49,
           "trajectory": "I_sol",
           "upper": 5.227143287658691
          },
          {
           "lower": 5.279247283935547,
           "timepoint": 50,
           "trajectory": "I_sol",
           "upper": 5.279247283935547
          },
          {
           "lower": 5.3322625160217285,
           "timepoint": 51,
           "trajectory": "I_sol",
           "upper": 5.3322625160217285
          },
          {
           "lower": 5.386192798614502,
           "timepoint": 52,
           "trajectory": "I_sol",
           "upper": 5.386192798614502
          },
          {
           "lower": 5.441035747528076,
           "timepoint": 53,
           "trajectory": "I_sol",
           "upper": 5.441035747528076
          },
          {
           "lower": 5.496790885925293,
           "timepoint": 54,
           "trajectory": "I_sol",
           "upper": 5.496790885925293
          },
          {
           "lower": 5.553457260131836,
           "timepoint": 55,
           "trajectory": "I_sol",
           "upper": 5.553457260131836
          },
          {
           "lower": 5.6110358238220215,
           "timepoint": 56,
           "trajectory": "I_sol",
           "upper": 5.6110358238220215
          },
          {
           "lower": 5.669527053833008,
           "timepoint": 57,
           "trajectory": "I_sol",
           "upper": 5.669527053833008
          },
          {
           "lower": 5.728919982910156,
           "timepoint": 58,
           "trajectory": "I_sol",
           "upper": 5.728919982910156
          },
          {
           "lower": 5.789236068725586,
           "timepoint": 59,
           "trajectory": "I_sol",
           "upper": 5.789236068725586
          },
          {
           "lower": 5.850468635559082,
           "timepoint": 60,
           "trajectory": "I_sol",
           "upper": 5.850468635559082
          },
          {
           "lower": 5.912619590759277,
           "timepoint": 61,
           "trajectory": "I_sol",
           "upper": 5.912619590759277
          },
          {
           "lower": 5.975692272186279,
           "timepoint": 62,
           "trajectory": "I_sol",
           "upper": 5.975692272186279
          },
          {
           "lower": 6.039687633514404,
           "timepoint": 63,
           "trajectory": "I_sol",
           "upper": 6.039687633514404
          },
          {
           "lower": 6.104609966278076,
           "timepoint": 64,
           "trajectory": "I_sol",
           "upper": 6.104609966278076
          },
          {
           "lower": 6.170458793640137,
           "timepoint": 65,
           "trajectory": "I_sol",
           "upper": 6.170458793640137
          },
          {
           "lower": 6.237245082855225,
           "timepoint": 66,
           "trajectory": "I_sol",
           "upper": 6.237245082855225
          },
          {
           "lower": 6.304969310760498,
           "timepoint": 67,
           "trajectory": "I_sol",
           "upper": 6.304969310760498
          },
          {
           "lower": 6.373636245727539,
           "timepoint": 68,
           "trajectory": "I_sol",
           "upper": 6.373636245727539
          },
          {
           "lower": 6.443251132965088,
           "timepoint": 69,
           "trajectory": "I_sol",
           "upper": 6.443251132965088
          },
          {
           "lower": 6.513818740844727,
           "timepoint": 70,
           "trajectory": "I_sol",
           "upper": 6.513818740844727
          },
          {
           "lower": 6.585344314575195,
           "timepoint": 71,
           "trajectory": "I_sol",
           "upper": 6.585344314575195
          },
          {
           "lower": 6.657835483551025,
           "timepoint": 72,
           "trajectory": "I_sol",
           "upper": 6.657835483551025
          },
          {
           "lower": 6.731280326843262,
           "timepoint": 73,
           "trajectory": "I_sol",
           "upper": 6.731280326843262
          },
          {
           "lower": 6.8057098388671875,
           "timepoint": 74,
           "trajectory": "I_sol",
           "upper": 6.8057098388671875
          },
          {
           "lower": 6.881121635437012,
           "timepoint": 75,
           "trajectory": "I_sol",
           "upper": 6.881121635437012
          },
          {
           "lower": 6.957520484924316,
           "timepoint": 76,
           "trajectory": "I_sol",
           "upper": 6.957520484924316
          },
          {
           "lower": 7.034915447235107,
           "timepoint": 77,
           "trajectory": "I_sol",
           "upper": 7.034915447235107
          },
          {
           "lower": 7.113312721252441,
           "timepoint": 78,
           "trajectory": "I_sol",
           "upper": 7.113312721252441
          },
          {
           "lower": 7.192718029022217,
           "timepoint": 79,
           "trajectory": "I_sol",
           "upper": 7.192718029022217
          },
          {
           "lower": 7.273141860961914,
           "timepoint": 80,
           "trajectory": "I_sol",
           "upper": 7.273141860961914
          },
          {
           "lower": 7.354580879211426,
           "timepoint": 81,
           "trajectory": "I_sol",
           "upper": 7.354580879211426
          },
          {
           "lower": 7.43705940246582,
           "timepoint": 82,
           "trajectory": "I_sol",
           "upper": 7.43705940246582
          },
          {
           "lower": 7.520578861236572,
           "timepoint": 83,
           "trajectory": "I_sol",
           "upper": 7.520578861236572
          },
          {
           "lower": 7.6051483154296875,
           "timepoint": 84,
           "trajectory": "I_sol",
           "upper": 7.6051483154296875
          },
          {
           "lower": 7.690774917602539,
           "timepoint": 85,
           "trajectory": "I_sol",
           "upper": 7.690774917602539
          },
          {
           "lower": 7.777469158172607,
           "timepoint": 86,
           "trajectory": "I_sol",
           "upper": 7.777469158172607
          },
          {
           "lower": 7.86523962020874,
           "timepoint": 87,
           "trajectory": "I_sol",
           "upper": 7.86523962020874
          },
          {
           "lower": 7.954095363616943,
           "timepoint": 88,
           "trajectory": "I_sol",
           "upper": 7.954095363616943
          },
          {
           "lower": 8.044046401977539,
           "timepoint": 89,
           "trajectory": "I_sol",
           "upper": 8.044046401977539
          },
          {
           "lower": 8.135117530822754,
           "timepoint": 90,
           "trajectory": "I_sol",
           "upper": 8.135117530822754
          },
          {
           "lower": 8.227293014526367,
           "timepoint": 91,
           "trajectory": "I_sol",
           "upper": 8.227293014526367
          },
          {
           "lower": 8.32059383392334,
           "timepoint": 92,
           "trajectory": "I_sol",
           "upper": 8.32059383392334
          },
          {
           "lower": 8.415033340454102,
           "timepoint": 93,
           "trajectory": "I_sol",
           "upper": 8.415033340454102
          },
          {
           "lower": 8.5106201171875,
           "timepoint": 94,
           "trajectory": "I_sol",
           "upper": 8.5106201171875
          },
          {
           "lower": 8.607364654541016,
           "timepoint": 95,
           "trajectory": "I_sol",
           "upper": 8.607364654541016
          },
          {
           "lower": 8.705280303955078,
           "timepoint": 96,
           "trajectory": "I_sol",
           "upper": 8.705280303955078
          },
          {
           "lower": 8.804375648498535,
           "timepoint": 97,
           "trajectory": "I_sol",
           "upper": 8.804375648498535
          },
          {
           "lower": 8.90466594696045,
           "timepoint": 98,
           "trajectory": "I_sol",
           "upper": 8.90466594696045
          },
          {
           "lower": 9.006159782409668,
           "timepoint": 99,
           "trajectory": "I_sol",
           "upper": 9.006159782409668
          },
          {
           "lower": 9.108872413635254,
           "timepoint": 100,
           "trajectory": "I_sol",
           "upper": 9.108872413635254
          },
          {
           "lower": 9.212813377380371,
           "timepoint": 101,
           "trajectory": "I_sol",
           "upper": 9.212813377380371
          },
          {
           "lower": 9.317994117736816,
           "timepoint": 102,
           "trajectory": "I_sol",
           "upper": 9.317994117736816
          },
          {
           "lower": 9.424428939819336,
           "timepoint": 103,
           "trajectory": "I_sol",
           "upper": 9.424428939819336
          },
          {
           "lower": 9.532132148742676,
           "timepoint": 104,
           "trajectory": "I_sol",
           "upper": 9.532132148742676
          },
          {
           "lower": 9.64111328125,
           "timepoint": 105,
           "trajectory": "I_sol",
           "upper": 9.64111328125
          },
          {
           "lower": 9.751389503479004,
           "timepoint": 106,
           "trajectory": "I_sol",
           "upper": 9.751389503479004
          },
          {
           "lower": 9.862969398498535,
           "timepoint": 107,
           "trajectory": "I_sol",
           "upper": 9.862969398498535
          },
          {
           "lower": 9.975871086120605,
           "timepoint": 108,
           "trajectory": "I_sol",
           "upper": 9.975871086120605
          },
          {
           "lower": 10.090106964111328,
           "timepoint": 109,
           "trajectory": "I_sol",
           "upper": 10.090106964111328
          },
          {
           "lower": 10.205689430236816,
           "timepoint": 110,
           "trajectory": "I_sol",
           "upper": 10.205689430236816
          },
          {
           "lower": 10.322659492492676,
           "timepoint": 111,
           "trajectory": "I_sol",
           "upper": 10.322659492492676
          },
          {
           "lower": 10.440988540649414,
           "timepoint": 112,
           "trajectory": "I_sol",
           "upper": 10.440988540649414
          },
          {
           "lower": 10.560709953308105,
           "timepoint": 113,
           "trajectory": "I_sol",
           "upper": 10.560709953308105
          },
          {
           "lower": 10.681840896606445,
           "timepoint": 114,
           "trajectory": "I_sol",
           "upper": 10.681840896606445
          },
          {
           "lower": 10.804393768310547,
           "timepoint": 115,
           "trajectory": "I_sol",
           "upper": 10.804393768310547
          },
          {
           "lower": 10.928385734558105,
           "timepoint": 116,
           "trajectory": "I_sol",
           "upper": 10.928385734558105
          },
          {
           "lower": 11.053831100463867,
           "timepoint": 117,
           "trajectory": "I_sol",
           "upper": 11.053831100463867
          },
          {
           "lower": 11.180747985839844,
           "timepoint": 118,
           "trajectory": "I_sol",
           "upper": 11.180747985839844
          },
          {
           "lower": 11.309151649475098,
           "timepoint": 119,
           "trajectory": "I_sol",
           "upper": 11.309151649475098
          },
          {
           "lower": 11.439057350158691,
           "timepoint": 120,
           "trajectory": "I_sol",
           "upper": 11.439057350158691
          },
          {
           "lower": 11.57048225402832,
           "timepoint": 121,
           "trajectory": "I_sol",
           "upper": 11.57048225402832
          },
          {
           "lower": 11.703412055969238,
           "timepoint": 122,
           "trajectory": "I_sol",
           "upper": 11.703412055969238
          },
          {
           "lower": 11.837919235229492,
           "timepoint": 123,
           "trajectory": "I_sol",
           "upper": 11.837919235229492
          },
          {
           "lower": 11.97399616241455,
           "timepoint": 124,
           "trajectory": "I_sol",
           "upper": 11.97399616241455
          },
          {
           "lower": 12.111659049987793,
           "timepoint": 125,
           "trajectory": "I_sol",
           "upper": 12.111659049987793
          },
          {
           "lower": 12.25092887878418,
           "timepoint": 126,
           "trajectory": "I_sol",
           "upper": 12.25092887878418
          },
          {
           "lower": 12.391818046569824,
           "timepoint": 127,
           "trajectory": "I_sol",
           "upper": 12.391818046569824
          },
          {
           "lower": 12.534347534179688,
           "timepoint": 128,
           "trajectory": "I_sol",
           "upper": 12.534347534179688
          },
          {
           "lower": 12.678537368774414,
           "timepoint": 129,
           "trajectory": "I_sol",
           "upper": 12.678537368774414
          },
          {
           "lower": 12.824402809143066,
           "timepoint": 130,
           "trajectory": "I_sol",
           "upper": 12.824402809143066
          },
          {
           "lower": 12.971965789794922,
           "timepoint": 131,
           "trajectory": "I_sol",
           "upper": 12.971965789794922
          },
          {
           "lower": 13.121240615844727,
           "timepoint": 132,
           "trajectory": "I_sol",
           "upper": 13.121240615844727
          },
          {
           "lower": 13.272252082824707,
           "timepoint": 133,
           "trajectory": "I_sol",
           "upper": 13.272252082824707
          },
          {
           "lower": 13.425016403198242,
           "timepoint": 134,
           "trajectory": "I_sol",
           "upper": 13.425016403198242
          },
          {
           "lower": 13.57956314086914,
           "timepoint": 135,
           "trajectory": "I_sol",
           "upper": 13.57956314086914
          },
          {
           "lower": 13.7358980178833,
           "timepoint": 136,
           "trajectory": "I_sol",
           "upper": 13.7358980178833
          },
          {
           "lower": 13.894044876098633,
           "timepoint": 137,
           "trajectory": "I_sol",
           "upper": 13.894044876098633
          },
          {
           "lower": 14.054027557373047,
           "timepoint": 138,
           "trajectory": "I_sol",
           "upper": 14.054027557373047
          },
          {
           "lower": 14.215866088867188,
           "timepoint": 139,
           "trajectory": "I_sol",
           "upper": 14.215866088867188
          },
          {
           "lower": 14.379578590393066,
           "timepoint": 140,
           "trajectory": "I_sol",
           "upper": 14.379578590393066
          },
          {
           "lower": 14.545191764831543,
           "timepoint": 141,
           "trajectory": "I_sol",
           "upper": 14.545191764831543
          },
          {
           "lower": 14.712722778320312,
           "timepoint": 142,
           "trajectory": "I_sol",
           "upper": 14.712722778320312
          },
          {
           "lower": 14.882194519042969,
           "timepoint": 143,
           "trajectory": "I_sol",
           "upper": 14.882194519042969
          },
          {
           "lower": 15.053629875183105,
           "timepoint": 144,
           "trajectory": "I_sol",
           "upper": 15.053629875183105
          },
          {
           "lower": 15.22705078125,
           "timepoint": 145,
           "trajectory": "I_sol",
           "upper": 15.22705078125
          },
          {
           "lower": 15.40247917175293,
           "timepoint": 146,
           "trajectory": "I_sol",
           "upper": 15.40247917175293
          },
          {
           "lower": 15.579939842224121,
           "timepoint": 147,
           "trajectory": "I_sol",
           "upper": 15.579939842224121
          },
          {
           "lower": 15.759434700012207,
           "timepoint": 148,
           "trajectory": "I_sol",
           "upper": 15.759434700012207
          },
          {
           "lower": 15.941024780273438,
           "timepoint": 149,
           "trajectory": "I_sol",
           "upper": 15.941024780273438
          },
          {
           "lower": 16.124711990356445,
           "timepoint": 150,
           "trajectory": "I_sol",
           "upper": 16.124711990356445
          },
          {
           "lower": 16.31052589416504,
           "timepoint": 151,
           "trajectory": "I_sol",
           "upper": 16.31052589416504
          },
          {
           "lower": 16.498489379882812,
           "timepoint": 152,
           "trajectory": "I_sol",
           "upper": 16.498489379882812
          },
          {
           "lower": 16.688627243041992,
           "timepoint": 153,
           "trajectory": "I_sol",
           "upper": 16.688627243041992
          },
          {
           "lower": 16.880962371826172,
           "timepoint": 154,
           "trajectory": "I_sol",
           "upper": 16.880962371826172
          },
          {
           "lower": 17.075519561767578,
           "timepoint": 155,
           "trajectory": "I_sol",
           "upper": 17.075519561767578
          },
          {
           "lower": 17.27232551574707,
           "timepoint": 156,
           "trajectory": "I_sol",
           "upper": 17.27232551574707
          },
          {
           "lower": 17.471405029296875,
           "timepoint": 157,
           "trajectory": "I_sol",
           "upper": 17.471405029296875
          },
          {
           "lower": 17.67279052734375,
           "timepoint": 158,
           "trajectory": "I_sol",
           "upper": 17.67279052734375
          },
          {
           "lower": 17.876493453979492,
           "timepoint": 159,
           "trajectory": "I_sol",
           "upper": 17.876493453979492
          },
          {
           "lower": 18.08255958557129,
           "timepoint": 160,
           "trajectory": "I_sol",
           "upper": 18.08255958557129
          },
          {
           "lower": 18.290996551513672,
           "timepoint": 161,
           "trajectory": "I_sol",
           "upper": 18.290996551513672
          },
          {
           "lower": 18.50187110900879,
           "timepoint": 162,
           "trajectory": "I_sol",
           "upper": 18.50187110900879
          },
          {
           "lower": 18.71515655517578,
           "timepoint": 163,
           "trajectory": "I_sol",
           "upper": 18.71515655517578
          },
          {
           "lower": 18.930912017822266,
           "timepoint": 164,
           "trajectory": "I_sol",
           "upper": 18.930912017822266
          },
          {
           "lower": 19.149158477783203,
           "timepoint": 165,
           "trajectory": "I_sol",
           "upper": 19.149158477783203
          },
          {
           "lower": 19.369918823242188,
           "timepoint": 166,
           "trajectory": "I_sol",
           "upper": 19.369918823242188
          },
          {
           "lower": 19.593238830566406,
           "timepoint": 167,
           "trajectory": "I_sol",
           "upper": 19.593238830566406
          },
          {
           "lower": 19.819129943847656,
           "timepoint": 168,
           "trajectory": "I_sol",
           "upper": 19.819129943847656
          },
          {
           "lower": 20.04763412475586,
           "timepoint": 169,
           "trajectory": "I_sol",
           "upper": 20.04763412475586
          },
          {
           "lower": 20.278772354125977,
           "timepoint": 170,
           "trajectory": "I_sol",
           "upper": 20.278772354125977
          },
          {
           "lower": 20.5125789642334,
           "timepoint": 171,
           "trajectory": "I_sol",
           "upper": 20.5125789642334
          },
          {
           "lower": 20.749095916748047,
           "timepoint": 172,
           "trajectory": "I_sol",
           "upper": 20.749095916748047
          },
          {
           "lower": 20.988330841064453,
           "timepoint": 173,
           "trajectory": "I_sol",
           "upper": 20.988330841064453
          },
          {
           "lower": 21.230329513549805,
           "timepoint": 174,
           "trajectory": "I_sol",
           "upper": 21.230329513549805
          },
          {
           "lower": 21.47512435913086,
           "timepoint": 175,
           "trajectory": "I_sol",
           "upper": 21.47512435913086
          },
          {
           "lower": 21.722747802734375,
           "timepoint": 176,
           "trajectory": "I_sol",
           "upper": 21.722747802734375
          },
          {
           "lower": 21.97323226928711,
           "timepoint": 177,
           "trajectory": "I_sol",
           "upper": 21.97323226928711
          },
          {
           "lower": 22.226598739624023,
           "timepoint": 178,
           "trajectory": "I_sol",
           "upper": 22.226598739624023
          },
          {
           "lower": 22.482894897460938,
           "timepoint": 179,
           "trajectory": "I_sol",
           "upper": 22.482894897460938
          },
          {
           "lower": 22.742149353027344,
           "timepoint": 180,
           "trajectory": "I_sol",
           "upper": 22.742149353027344
          },
          {
           "lower": 23.00438690185547,
           "timepoint": 181,
           "trajectory": "I_sol",
           "upper": 23.00438690185547
          },
          {
           "lower": 23.26966667175293,
           "timepoint": 182,
           "trajectory": "I_sol",
           "upper": 23.26966667175293
          },
          {
           "lower": 23.537994384765625,
           "timepoint": 183,
           "trajectory": "I_sol",
           "upper": 23.537994384765625
          },
          {
           "lower": 23.809423446655273,
           "timepoint": 184,
           "trajectory": "I_sol",
           "upper": 23.809423446655273
          },
          {
           "lower": 24.083984375,
           "timepoint": 185,
           "trajectory": "I_sol",
           "upper": 24.083984375
          },
          {
           "lower": 24.36170768737793,
           "timepoint": 186,
           "trajectory": "I_sol",
           "upper": 24.36170768737793
          },
          {
           "lower": 24.64264488220215,
           "timepoint": 187,
           "trajectory": "I_sol",
           "upper": 24.64264488220215
          },
          {
           "lower": 24.92681312561035,
           "timepoint": 188,
           "trajectory": "I_sol",
           "upper": 24.92681312561035
          },
          {
           "lower": 25.21426773071289,
           "timepoint": 189,
           "trajectory": "I_sol",
           "upper": 25.21426773071289
          },
          {
           "lower": 25.505041122436523,
           "timepoint": 190,
           "trajectory": "I_sol",
           "upper": 25.505041122436523
          },
          {
           "lower": 25.79916000366211,
           "timepoint": 191,
           "trajectory": "I_sol",
           "upper": 25.79916000366211
          },
          {
           "lower": 26.0966854095459,
           "timepoint": 192,
           "trajectory": "I_sol",
           "upper": 26.0966854095459
          },
          {
           "lower": 26.397632598876953,
           "timepoint": 193,
           "trajectory": "I_sol",
           "upper": 26.397632598876953
          },
          {
           "lower": 26.702058792114258,
           "timepoint": 194,
           "trajectory": "I_sol",
           "upper": 26.702058792114258
          },
          {
           "lower": 27.009994506835938,
           "timepoint": 195,
           "trajectory": "I_sol",
           "upper": 27.009994506835938
          },
          {
           "lower": 27.32147789001465,
           "timepoint": 196,
           "trajectory": "I_sol",
           "upper": 27.32147789001465
          },
          {
           "lower": 27.636566162109375,
           "timepoint": 197,
           "trajectory": "I_sol",
           "upper": 27.636566162109375
          },
          {
           "lower": 27.955278396606445,
           "timepoint": 198,
           "trajectory": "I_sol",
           "upper": 27.955278396606445
          },
          {
           "lower": 28.277673721313477,
           "timepoint": 199,
           "trajectory": "I_sol",
           "upper": 28.277673721313477
          },
          {
           "lower": 28.603792190551758,
           "timepoint": 200,
           "trajectory": "I_sol",
           "upper": 28.603792190551758
          },
          {
           "lower": 28.933664321899414,
           "timepoint": 201,
           "trajectory": "I_sol",
           "upper": 28.933664321899414
          },
          {
           "lower": 29.267353057861328,
           "timepoint": 202,
           "trajectory": "I_sol",
           "upper": 29.267353057861328
          },
          {
           "lower": 29.60487937927246,
           "timepoint": 203,
           "trajectory": "I_sol",
           "upper": 29.60487937927246
          },
          {
           "lower": 29.9462947845459,
           "timepoint": 204,
           "trajectory": "I_sol",
           "upper": 29.9462947845459
          },
          {
           "lower": 30.291656494140625,
           "timepoint": 205,
           "trajectory": "I_sol",
           "upper": 30.291656494140625
          },
          {
           "lower": 30.64099884033203,
           "timepoint": 206,
           "trajectory": "I_sol",
           "upper": 30.64099884033203
          },
          {
           "lower": 30.994380950927734,
           "timepoint": 207,
           "trajectory": "I_sol",
           "upper": 30.994380950927734
          },
          {
           "lower": 31.35182762145996,
           "timepoint": 208,
           "trajectory": "I_sol",
           "upper": 31.35182762145996
          },
          {
           "lower": 31.713401794433594,
           "timepoint": 209,
           "trajectory": "I_sol",
           "upper": 31.713401794433594
          },
          {
           "lower": 32.07914733886719,
           "timepoint": 210,
           "trajectory": "I_sol",
           "upper": 32.07914733886719
          },
          {
           "lower": 32.4490966796875,
           "timepoint": 211,
           "trajectory": "I_sol",
           "upper": 32.4490966796875
          },
          {
           "lower": 32.823333740234375,
           "timepoint": 212,
           "trajectory": "I_sol",
           "upper": 32.823333740234375
          },
          {
           "lower": 33.20186996459961,
           "timepoint": 213,
           "trajectory": "I_sol",
           "upper": 33.20186996459961
          },
          {
           "lower": 33.58477783203125,
           "timepoint": 214,
           "trajectory": "I_sol",
           "upper": 33.58477783203125
          },
          {
           "lower": 33.97209930419922,
           "timepoint": 215,
           "trajectory": "I_sol",
           "upper": 33.97209930419922
          },
          {
           "lower": 34.3638801574707,
           "timepoint": 216,
           "trajectory": "I_sol",
           "upper": 34.3638801574707
          },
          {
           "lower": 34.760189056396484,
           "timepoint": 217,
           "trajectory": "I_sol",
           "upper": 34.760189056396484
          },
          {
           "lower": 35.16105651855469,
           "timepoint": 218,
           "trajectory": "I_sol",
           "upper": 35.16105651855469
          },
          {
           "lower": 35.5666618347168,
           "timepoint": 219,
           "trajectory": "I_sol",
           "upper": 35.5666618347168
          },
          {
           "lower": 35.97685623168945,
           "timepoint": 220,
           "trajectory": "I_sol",
           "upper": 35.97685623168945
          },
          {
           "lower": 36.39177703857422,
           "timepoint": 221,
           "trajectory": "I_sol",
           "upper": 36.39177703857422
          },
          {
           "lower": 36.811492919921875,
           "timepoint": 222,
           "trajectory": "I_sol",
           "upper": 36.811492919921875
          },
          {
           "lower": 37.23603057861328,
           "timepoint": 223,
           "trajectory": "I_sol",
           "upper": 37.23603057861328
          },
          {
           "lower": 37.665470123291016,
           "timepoint": 224,
           "trajectory": "I_sol",
           "upper": 37.665470123291016
          },
          {
           "lower": 38.09986877441406,
           "timepoint": 225,
           "trajectory": "I_sol",
           "upper": 38.09986877441406
          },
          {
           "lower": 38.53926467895508,
           "timepoint": 226,
           "trajectory": "I_sol",
           "upper": 38.53926467895508
          },
          {
           "lower": 38.98374938964844,
           "timepoint": 227,
           "trajectory": "I_sol",
           "upper": 38.98374938964844
          },
          {
           "lower": 39.4333381652832,
           "timepoint": 228,
           "trajectory": "I_sol",
           "upper": 39.4333381652832
          },
          {
           "lower": 39.88811492919922,
           "timepoint": 229,
           "trajectory": "I_sol",
           "upper": 39.88811492919922
          },
          {
           "lower": 40.348140716552734,
           "timepoint": 230,
           "trajectory": "I_sol",
           "upper": 40.348140716552734
          },
          {
           "lower": 40.813472747802734,
           "timepoint": 231,
           "trajectory": "I_sol",
           "upper": 40.813472747802734
          },
          {
           "lower": 41.284156799316406,
           "timepoint": 232,
           "trajectory": "I_sol",
           "upper": 41.284156799316406
          },
          {
           "lower": 41.7603874206543,
           "timepoint": 233,
           "trajectory": "I_sol",
           "upper": 41.7603874206543
          },
          {
           "lower": 42.24201583862305,
           "timepoint": 234,
           "trajectory": "I_sol",
           "upper": 42.24201583862305
          },
          {
           "lower": 42.72920227050781,
           "timepoint": 235,
           "trajectory": "I_sol",
           "upper": 42.72920227050781
          },
          {
           "lower": 43.222015380859375,
           "timepoint": 236,
           "trajectory": "I_sol",
           "upper": 43.222015380859375
          },
          {
           "lower": 43.720497131347656,
           "timepoint": 237,
           "trajectory": "I_sol",
           "upper": 43.720497131347656
          },
          {
           "lower": 44.22472381591797,
           "timepoint": 238,
           "trajectory": "I_sol",
           "upper": 44.22472381591797
          },
          {
           "lower": 44.73477554321289,
           "timepoint": 239,
           "trajectory": "I_sol",
           "upper": 44.73477554321289
          },
          {
           "lower": 45.250709533691406,
           "timepoint": 240,
           "trajectory": "I_sol",
           "upper": 45.250709533691406
          },
          {
           "lower": 45.77259063720703,
           "timepoint": 241,
           "trajectory": "I_sol",
           "upper": 45.77259063720703
          },
          {
           "lower": 46.30049133300781,
           "timepoint": 242,
           "trajectory": "I_sol",
           "upper": 46.30049133300781
          },
          {
           "lower": 46.83446502685547,
           "timepoint": 243,
           "trajectory": "I_sol",
           "upper": 46.83446502685547
          },
          {
           "lower": 47.374610900878906,
           "timepoint": 244,
           "trajectory": "I_sol",
           "upper": 47.374610900878906
          },
          {
           "lower": 47.920982360839844,
           "timepoint": 245,
           "trajectory": "I_sol",
           "upper": 47.920982360839844
          },
          {
           "lower": 48.473655700683594,
           "timepoint": 246,
           "trajectory": "I_sol",
           "upper": 48.473655700683594
          },
          {
           "lower": 49.03279495239258,
           "timepoint": 247,
           "trajectory": "I_sol",
           "upper": 49.03279495239258
          },
          {
           "lower": 49.59829330444336,
           "timepoint": 248,
           "trajectory": "I_sol",
           "upper": 49.59829330444336
          },
          {
           "lower": 50.17032241821289,
           "timepoint": 249,
           "trajectory": "I_sol",
           "upper": 50.17032241821289
          },
          {
           "lower": 50.74895477294922,
           "timepoint": 250,
           "trajectory": "I_sol",
           "upper": 50.74895477294922
          },
          {
           "lower": 51.33426284790039,
           "timepoint": 251,
           "trajectory": "I_sol",
           "upper": 51.33426284790039
          },
          {
           "lower": 51.92631149291992,
           "timepoint": 252,
           "trajectory": "I_sol",
           "upper": 51.92631149291992
          },
          {
           "lower": 52.525184631347656,
           "timepoint": 253,
           "trajectory": "I_sol",
           "upper": 52.525184631347656
          },
          {
           "lower": 53.1309814453125,
           "timepoint": 254,
           "trajectory": "I_sol",
           "upper": 53.1309814453125
          },
          {
           "lower": 53.74375534057617,
           "timepoint": 255,
           "trajectory": "I_sol",
           "upper": 53.74375534057617
          },
          {
           "lower": 54.36360168457031,
           "timepoint": 256,
           "trajectory": "I_sol",
           "upper": 54.36360168457031
          },
          {
           "lower": 54.9906005859375,
           "timepoint": 257,
           "trajectory": "I_sol",
           "upper": 54.9906005859375
          },
          {
           "lower": 55.624813079833984,
           "timepoint": 258,
           "trajectory": "I_sol",
           "upper": 55.624813079833984
          },
          {
           "lower": 56.266357421875,
           "timepoint": 259,
           "trajectory": "I_sol",
           "upper": 56.266357421875
          },
          {
           "lower": 56.915306091308594,
           "timepoint": 260,
           "trajectory": "I_sol",
           "upper": 56.915306091308594
          },
          {
           "lower": 57.57173538208008,
           "timepoint": 261,
           "trajectory": "I_sol",
           "upper": 57.57173538208008
          },
          {
           "lower": 58.23567199707031,
           "timepoint": 262,
           "trajectory": "I_sol",
           "upper": 58.23567199707031
          },
          {
           "lower": 58.90730667114258,
           "timepoint": 263,
           "trajectory": "I_sol",
           "upper": 58.90730667114258
          },
          {
           "lower": 59.58670425415039,
           "timepoint": 264,
           "trajectory": "I_sol",
           "upper": 59.58670425415039
          },
          {
           "lower": 60.2739372253418,
           "timepoint": 265,
           "trajectory": "I_sol",
           "upper": 60.2739372253418
          },
          {
           "lower": 60.96909713745117,
           "timepoint": 266,
           "trajectory": "I_sol",
           "upper": 60.96909713745117
          },
          {
           "lower": 61.672271728515625,
           "timepoint": 267,
           "trajectory": "I_sol",
           "upper": 61.672271728515625
          },
          {
           "lower": 62.383548736572266,
           "timepoint": 268,
           "trajectory": "I_sol",
           "upper": 62.383548736572266
          },
          {
           "lower": 63.1030387878418,
           "timepoint": 269,
           "trajectory": "I_sol",
           "upper": 63.1030387878418
          },
          {
           "lower": 63.83082580566406,
           "timepoint": 270,
           "trajectory": "I_sol",
           "upper": 63.83082580566406
          },
          {
           "lower": 64.56700897216797,
           "timepoint": 271,
           "trajectory": "I_sol",
           "upper": 64.56700897216797
          },
          {
           "lower": 65.31169128417969,
           "timepoint": 272,
           "trajectory": "I_sol",
           "upper": 65.31169128417969
          },
          {
           "lower": 66.06493377685547,
           "timepoint": 273,
           "trajectory": "I_sol",
           "upper": 66.06493377685547
          },
          {
           "lower": 66.8268814086914,
           "timepoint": 274,
           "trajectory": "I_sol",
           "upper": 66.8268814086914
          },
          {
           "lower": 67.59762573242188,
           "timepoint": 275,
           "trajectory": "I_sol",
           "upper": 67.59762573242188
          },
          {
           "lower": 68.3772201538086,
           "timepoint": 276,
           "trajectory": "I_sol",
           "upper": 68.3772201538086
          },
          {
           "lower": 69.16583251953125,
           "timepoint": 277,
           "trajectory": "I_sol",
           "upper": 69.16583251953125
          },
          {
           "lower": 69.96353149414062,
           "timepoint": 278,
           "trajectory": "I_sol",
           "upper": 69.96353149414062
          },
          {
           "lower": 70.77044677734375,
           "timepoint": 279,
           "trajectory": "I_sol",
           "upper": 70.77044677734375
          },
          {
           "lower": 71.58666229248047,
           "timepoint": 280,
           "trajectory": "I_sol",
           "upper": 71.58666229248047
          },
          {
           "lower": 72.41229248046875,
           "timepoint": 281,
           "trajectory": "I_sol",
           "upper": 72.41229248046875
          },
          {
           "lower": 73.24745178222656,
           "timepoint": 282,
           "trajectory": "I_sol",
           "upper": 73.24745178222656
          },
          {
           "lower": 74.09221649169922,
           "timepoint": 283,
           "trajectory": "I_sol",
           "upper": 74.09221649169922
          },
          {
           "lower": 74.94674682617188,
           "timepoint": 284,
           "trajectory": "I_sol",
           "upper": 74.94674682617188
          },
          {
           "lower": 75.81111907958984,
           "timepoint": 285,
           "trajectory": "I_sol",
           "upper": 75.81111907958984
          },
          {
           "lower": 76.68547058105469,
           "timepoint": 286,
           "trajectory": "I_sol",
           "upper": 76.68547058105469
          },
          {
           "lower": 77.56989288330078,
           "timepoint": 287,
           "trajectory": "I_sol",
           "upper": 77.56989288330078
          },
          {
           "lower": 78.46449279785156,
           "timepoint": 288,
           "trajectory": "I_sol",
           "upper": 78.46449279785156
          },
          {
           "lower": 79.36942291259766,
           "timepoint": 289,
           "trajectory": "I_sol",
           "upper": 79.36942291259766
          },
          {
           "lower": 80.2847900390625,
           "timepoint": 290,
           "trajectory": "I_sol",
           "upper": 80.2847900390625
          },
          {
           "lower": 81.2108383178711,
           "timepoint": 291,
           "trajectory": "I_sol",
           "upper": 81.2108383178711
          },
          {
           "lower": 82.14746856689453,
           "timepoint": 292,
           "trajectory": "I_sol",
           "upper": 82.14746856689453
          },
          {
           "lower": 83.09487915039062,
           "timepoint": 293,
           "trajectory": "I_sol",
           "upper": 83.09487915039062
          },
          {
           "lower": 84.0532455444336,
           "timepoint": 294,
           "trajectory": "I_sol",
           "upper": 84.0532455444336
          },
          {
           "lower": 85.02264404296875,
           "timepoint": 295,
           "trajectory": "I_sol",
           "upper": 85.02264404296875
          },
          {
           "lower": 86.00323486328125,
           "timepoint": 296,
           "trajectory": "I_sol",
           "upper": 86.00323486328125
          },
          {
           "lower": 86.99513244628906,
           "timepoint": 297,
           "trajectory": "I_sol",
           "upper": 86.99513244628906
          },
          {
           "lower": 87.99844360351562,
           "timepoint": 298,
           "trajectory": "I_sol",
           "upper": 87.99844360351562
          },
          {
           "lower": 89.01334381103516,
           "timepoint": 299,
           "trajectory": "I_sol",
           "upper": 89.01334381103516
          },
          {
           "lower": 90.0399398803711,
           "timepoint": 300,
           "trajectory": "I_sol",
           "upper": 90.0399398803711
          },
          {
           "lower": 91.07837677001953,
           "timepoint": 301,
           "trajectory": "I_sol",
           "upper": 91.07837677001953
          },
          {
           "lower": 92.1287841796875,
           "timepoint": 302,
           "trajectory": "I_sol",
           "upper": 92.1287841796875
          },
          {
           "lower": 93.1912841796875,
           "timepoint": 303,
           "trajectory": "I_sol",
           "upper": 93.1912841796875
          },
          {
           "lower": 94.26605224609375,
           "timepoint": 304,
           "trajectory": "I_sol",
           "upper": 94.26605224609375
          },
          {
           "lower": 95.35342407226562,
           "timepoint": 305,
           "trajectory": "I_sol",
           "upper": 95.35342407226562
          },
          {
           "lower": 96.45315551757812,
           "timepoint": 306,
           "trajectory": "I_sol",
           "upper": 96.45315551757812
          },
          {
           "lower": 97.5655746459961,
           "timepoint": 307,
           "trajectory": "I_sol",
           "upper": 97.5655746459961
          },
          {
           "lower": 98.69081115722656,
           "timepoint": 308,
           "trajectory": "I_sol",
           "upper": 98.69081115722656
          },
          {
           "lower": 99.82902526855469,
           "timepoint": 309,
           "trajectory": "I_sol",
           "upper": 99.82902526855469
          },
          {
           "lower": 100.98037719726562,
           "timepoint": 310,
           "trajectory": "I_sol",
           "upper": 100.98037719726562
          },
          {
           "lower": 2.2400000257438712e-11,
           "timepoint": 0,
           "trajectory": "R_sol",
           "upper": 2.2400000257438712e-11
          },
          {
           "lower": 0.022407859563827515,
           "timepoint": 1,
           "trajectory": "R_sol",
           "upper": 0.022407859563827515
          },
          {
           "lower": 0.04483839496970177,
           "timepoint": 2,
           "trajectory": "R_sol",
           "upper": 0.04483839496970177
          },
          {
           "lower": 0.06730213016271591,
           "timepoint": 3,
           "trajectory": "R_sol",
           "upper": 0.06730213016271591
          },
          {
           "lower": 0.08980889618396759,
           "timepoint": 4,
           "trajectory": "R_sol",
           "upper": 0.08980889618396759
          },
          {
           "lower": 0.11236855387687683,
           "timepoint": 5,
           "trajectory": "R_sol",
           "upper": 0.11236855387687683
          },
          {
           "lower": 0.1349906176328659,
           "timepoint": 6,
           "trajectory": "R_sol",
           "upper": 0.1349906176328659
          },
          {
           "lower": 0.1576843112707138,
           "timepoint": 7,
           "trajectory": "R_sol",
           "upper": 0.1576843112707138
          },
          {
           "lower": 0.18045875430107117,
           "timepoint": 8,
           "trajectory": "R_sol",
           "upper": 0.18045875430107117
          },
          {
           "lower": 0.20332294702529907,
           "timepoint": 9,
           "trajectory": "R_sol",
           "upper": 0.20332294702529907
          },
          {
           "lower": 0.22628524899482727,
           "timepoint": 10,
           "trajectory": "R_sol",
           "upper": 0.22628524899482727
          },
          {
           "lower": 0.24935419857501984,
           "timepoint": 11,
           "trajectory": "R_sol",
           "upper": 0.24935419857501984
          },
          {
           "lower": 0.27253803610801697,
           "timepoint": 12,
           "trajectory": "R_sol",
           "upper": 0.27253803610801697
          },
          {
           "lower": 0.2958444058895111,
           "timepoint": 13,
           "trajectory": "R_sol",
           "upper": 0.2958444058895111
          },
          {
           "lower": 0.31928178668022156,
           "timepoint": 14,
           "trajectory": "R_sol",
           "upper": 0.31928178668022156
          },
          {
           "lower": 0.3428574502468109,
           "timepoint": 15,
           "trajectory": "R_sol",
           "upper": 0.3428574502468109
          },
          {
           "lower": 0.36657896637916565,
           "timepoint": 16,
           "trajectory": "R_sol",
           "upper": 0.36657896637916565
          },
          {
           "lower": 0.39045488834381104,
           "timepoint": 17,
           "trajectory": "R_sol",
           "upper": 0.39045488834381104
          },
          {
           "lower": 0.41449081897735596,
           "timepoint": 18,
           "trajectory": "R_sol",
           "upper": 0.41449081897735596
          },
          {
           "lower": 0.4386945962905884,
           "timepoint": 19,
           "trajectory": "R_sol",
           "upper": 0.4386945962905884
          },
          {
           "lower": 0.46307307481765747,
           "timepoint": 20,
           "trajectory": "R_sol",
           "upper": 0.46307307481765747
          },
          {
           "lower": 0.4876331090927124,
           "timepoint": 21,
           "trajectory": "R_sol",
           "upper": 0.4876331090927124
          },
          {
           "lower": 0.5123820900917053,
           "timepoint": 22,
           "trajectory": "R_sol",
           "upper": 0.5123820900917053
          },
          {
           "lower": 0.5373258590698242,
           "timepoint": 23,
           "trajectory": "R_sol",
           "upper": 0.5373258590698242
          },
          {
           "lower": 0.5624712109565735,
           "timepoint": 24,
           "trajectory": "R_sol",
           "upper": 0.5624712109565735
          },
          {
           "lower": 0.5878244042396545,
           "timepoint": 25,
           "trajectory": "R_sol",
           "upper": 0.5878244042396545
          },
          {
           "lower": 0.6133919358253479,
           "timepoint": 26,
           "trajectory": "R_sol",
           "upper": 0.6133919358253479
          },
          {
           "lower": 0.6391808986663818,
           "timepoint": 27,
           "trajectory": "R_sol",
           "upper": 0.6391808986663818
          },
          {
           "lower": 0.6651962995529175,
           "timepoint": 28,
           "trajectory": "R_sol",
           "upper": 0.6651962995529175
          },
          {
           "lower": 0.6914448142051697,
           "timepoint": 29,
           "trajectory": "R_sol",
           "upper": 0.6914448142051697
          },
          {
           "lower": 0.7179322838783264,
           "timepoint": 30,
           "trajectory": "R_sol",
           "upper": 0.7179322838783264
          },
          {
           "lower": 0.7446650862693787,
           "timepoint": 31,
           "trajectory": "R_sol",
           "upper": 0.7446650862693787
          },
          {
           "lower": 0.7716476321220398,
           "timepoint": 32,
           "trajectory": "R_sol",
           "upper": 0.7716476321220398
          },
          {
           "lower": 0.7988875508308411,
           "timepoint": 33,
           "trajectory": "R_sol",
           "upper": 0.7988875508308411
          },
          {
           "lower": 0.8263900876045227,
           "timepoint": 34,
           "trajectory": "R_sol",
           "upper": 0.8263900876045227
          },
          {
           "lower": 0.8541609048843384,
           "timepoint": 35,
           "trajectory": "R_sol",
           "upper": 0.8541609048843384
          },
          {
           "lower": 0.8822057843208313,
           "timepoint": 36,
           "trajectory": "R_sol",
           "upper": 0.8822057843208313
          },
          {
           "lower": 0.9105302691459656,
           "timepoint": 37,
           "trajectory": "R_sol",
           "upper": 0.9105302691459656
          },
          {
           "lower": 0.9391404986381531,
           "timepoint": 38,
           "trajectory": "R_sol",
           "upper": 0.9391404986381531
          },
          {
           "lower": 0.9680413603782654,
           "timepoint": 39,
           "trajectory": "R_sol",
           "upper": 0.9680413603782654
          },
          {
           "lower": 0.9972386956214905,
           "timepoint": 40,
           "trajectory": "R_sol",
           "upper": 0.9972386956214905
          },
          {
           "lower": 1.0267382860183716,
           "timepoint": 41,
           "trajectory": "R_sol",
           "upper": 1.0267382860183716
          },
          {
           "lower": 1.0565458536148071,
           "timepoint": 42,
           "trajectory": "R_sol",
           "upper": 1.0565458536148071
          },
          {
           "lower": 1.086666226387024,
           "timepoint": 43,
           "trajectory": "R_sol",
           "upper": 1.086666226387024
          },
          {
           "lower": 1.1171022653579712,
           "timepoint": 44,
           "trajectory": "R_sol",
           "upper": 1.1171022653579712
          },
          {
           "lower": 1.1478643417358398,
           "timepoint": 45,
           "trajectory": "R_sol",
           "upper": 1.1478643417358398
          },
          {
           "lower": 1.1789556741714478,
           "timepoint": 46,
           "trajectory": "R_sol",
           "upper": 1.1789556741714478
          },
          {
           "lower": 1.2103819847106934,
           "timepoint": 47,
           "trajectory": "R_sol",
           "upper": 1.2103819847106934
          },
          {
           "lower": 1.2421482801437378,
           "timepoint": 48,
           "trajectory": "R_sol",
           "upper": 1.2421482801437378
          },
          {
           "lower": 1.2742600440979004,
           "timepoint": 49,
           "trajectory": "R_sol",
           "upper": 1.2742600440979004
          },
          {
           "lower": 1.3067227602005005,
           "timepoint": 50,
           "trajectory": "R_sol",
           "upper": 1.3067227602005005
          },
          {
           "lower": 1.339543342590332,
           "timepoint": 51,
           "trajectory": "R_sol",
           "upper": 1.339543342590332
          },
          {
           "lower": 1.3727248907089233,
           "timepoint": 52,
           "trajectory": "R_sol",
           "upper": 1.3727248907089233
          },
          {
           "lower": 1.4062739610671997,
           "timepoint": 53,
           "trajectory": "R_sol",
           "upper": 1.4062739610671997
          },
          {
           "lower": 1.4401956796646118,
           "timepoint": 54,
           "trajectory": "R_sol",
           "upper": 1.4401956796646118
          },
          {
           "lower": 1.4744958877563477,
           "timepoint": 55,
           "trajectory": "R_sol",
           "upper": 1.4744958877563477
          },
          {
           "lower": 1.5091795921325684,
           "timepoint": 56,
           "trajectory": "R_sol",
           "upper": 1.5091795921325684
          },
          {
           "lower": 1.544252872467041,
           "timepoint": 57,
           "trajectory": "R_sol",
           "upper": 1.544252872467041
          },
          {
           "lower": 1.5797191858291626,
           "timepoint": 58,
           "trajectory": "R_sol",
           "upper": 1.5797191858291626
          },
          {
           "lower": 1.6155868768692017,
           "timepoint": 59,
           "trajectory": "R_sol",
           "upper": 1.6155868768692017
          },
          {
           "lower": 1.651860237121582,
           "timepoint": 60,
           "trajectory": "R_sol",
           "upper": 1.651860237121582
          },
          {
           "lower": 1.688544750213623,
           "timepoint": 61,
           "trajectory": "R_sol",
           "upper": 1.688544750213623
          },
          {
           "lower": 1.7256464958190918,
           "timepoint": 62,
           "trajectory": "R_sol",
           "upper": 1.7256464958190918
          },
          {
           "lower": 1.7631704807281494,
           "timepoint": 63,
           "trajectory": "R_sol",
           "upper": 1.7631704807281494
          },
          {
           "lower": 1.8011221885681152,
           "timepoint": 64,
           "trajectory": "R_sol",
           "upper": 1.8011221885681152
          },
          {
           "lower": 1.8395085334777832,
           "timepoint": 65,
           "trajectory": "R_sol",
           "upper": 1.8395085334777832
          },
          {
           "lower": 1.8783338069915771,
           "timepoint": 66,
           "trajectory": "R_sol",
           "upper": 1.8783338069915771
          },
          {
           "lower": 1.917604684829712,
           "timepoint": 67,
           "trajectory": "R_sol",
           "upper": 1.917604684829712
          },
          {
           "lower": 1.9573262929916382,
           "timepoint": 68,
           "trajectory": "R_sol",
           "upper": 1.9573262929916382
          },
          {
           "lower": 1.997504472732544,
           "timepoint": 69,
           "trajectory": "R_sol",
           "upper": 1.997504472732544
          },
          {
           "lower": 2.0381453037261963,
           "timepoint": 70,
           "trajectory": "R_sol",
           "upper": 2.0381453037261963
          },
          {
           "lower": 2.079254150390625,
           "timepoint": 71,
           "trajectory": "R_sol",
           "upper": 2.079254150390625
          },
          {
           "lower": 2.120837450027466,
           "timepoint": 72,
           "trajectory": "R_sol",
           "upper": 2.120837450027466
          },
          {
           "lower": 2.1629037857055664,
           "timepoint": 73,
           "trajectory": "R_sol",
           "upper": 2.1629037857055664
          },
          {
           "lower": 2.2054545879364014,
           "timepoint": 74,
           "trajectory": "R_sol",
           "upper": 2.2054545879364014
          },
          {
           "lower": 2.248497724533081,
           "timepoint": 75,
           "trajectory": "R_sol",
           "upper": 2.248497724533081
          },
          {
           "lower": 2.2920401096343994,
           "timepoint": 76,
           "trajectory": "R_sol",
           "upper": 2.2920401096343994
          },
          {
           "lower": 2.336087465286255,
           "timepoint": 77,
           "trajectory": "R_sol",
           "upper": 2.336087465286255
          },
          {
           "lower": 2.380645990371704,
           "timepoint": 78,
           "trajectory": "R_sol",
           "upper": 2.380645990371704
          },
          {
           "lower": 2.425722122192383,
           "timepoint": 79,
           "trajectory": "R_sol",
           "upper": 2.425722122192383
          },
          {
           "lower": 2.4713222980499268,
           "timepoint": 80,
           "trajectory": "R_sol",
           "upper": 2.4713222980499268
          },
          {
           "lower": 2.5174458026885986,
           "timepoint": 81,
           "trajectory": "R_sol",
           "upper": 2.5174458026885986
          },
          {
           "lower": 2.564110279083252,
           "timepoint": 82,
           "trajectory": "R_sol",
           "upper": 2.564110279083252
          },
          {
           "lower": 2.6113178730010986,
           "timepoint": 83,
           "trajectory": "R_sol",
           "upper": 2.6113178730010986
          },
          {
           "lower": 2.6590747833251953,
           "timepoint": 84,
           "trajectory": "R_sol",
           "upper": 2.6590747833251953
          },
          {
           "lower": 2.7073869705200195,
           "timepoint": 85,
           "trajectory": "R_sol",
           "upper": 2.7073869705200195
          },
          {
           "lower": 2.7562623023986816,
           "timepoint": 86,
           "trajectory": "R_sol",
           "upper": 2.7562623023986816
          },
          {
           "lower": 2.8057057857513428,
           "timepoint": 87,
           "trajectory": "R_sol",
           "upper": 2.8057057857513428
          },
          {
           "lower": 2.8557257652282715,
           "timepoint": 88,
           "trajectory": "R_sol",
           "upper": 2.8557257652282715
          },
          {
           "lower": 2.9063289165496826,
           "timepoint": 89,
           "trajectory": "R_sol",
           "upper": 2.9063289165496826
          },
          {
           "lower": 2.957526206970215,
           "timepoint": 90,
           "trajectory": "R_sol",
           "upper": 2.957526206970215
          },
          {
           "lower": 3.009316921234131,
           "timepoint": 91,
           "trajectory": "R_sol",
           "upper": 3.009316921234131
          },
          {
           "lower": 3.061711311340332,
           "timepoint": 92,
           "trajectory": "R_sol",
           "upper": 3.061711311340332
          },
          {
           "lower": 3.1147172451019287,
           "timepoint": 93,
           "trajectory": "R_sol",
           "upper": 3.1147172451019287
          },
          {
           "lower": 3.1683413982391357,
           "timepoint": 94,
           "trajectory": "R_sol",
           "upper": 3.1683413982391357
          },
          {
           "lower": 3.222590446472168,
           "timepoint": 95,
           "trajectory": "R_sol",
           "upper": 3.222590446472168
          },
          {
           "lower": 3.277473211288452,
           "timepoint": 96,
           "trajectory": "R_sol",
           "upper": 3.277473211288452
          },
          {
           "lower": 3.332995891571045,
           "timepoint": 97,
           "trajectory": "R_sol",
           "upper": 3.332995891571045
          },
          {
           "lower": 3.389167070388794,
           "timepoint": 98,
           "trajectory": "R_sol",
           "upper": 3.389167070388794
          },
          {
           "lower": 3.445993423461914,
           "timepoint": 99,
           "trajectory": "R_sol",
           "upper": 3.445993423461914
          },
          {
           "lower": 3.503480911254883,
           "timepoint": 100,
           "trajectory": "R_sol",
           "upper": 3.503480911254883
          },
          {
           "lower": 3.561640977859497,
           "timepoint": 101,
           "trajectory": "R_sol",
           "upper": 3.561640977859497
          },
          {
           "lower": 3.620478868484497,
           "timepoint": 102,
           "trajectory": "R_sol",
           "upper": 3.620478868484497
          },
          {
           "lower": 3.680004358291626,
           "timepoint": 103,
           "trajectory": "R_sol",
           "upper": 3.680004358291626
          },
          {
           "lower": 3.7402243614196777,
           "timepoint": 104,
           "trajectory": "R_sol",
           "upper": 3.7402243614196777
          },
          {
           "lower": 3.8011460304260254,
           "timepoint": 105,
           "trajectory": "R_sol",
           "upper": 3.8011460304260254
          },
          {
           "lower": 3.862779378890991,
           "timepoint": 106,
           "trajectory": "R_sol",
           "upper": 3.862779378890991
          },
          {
           "lower": 3.925130844116211,
           "timepoint": 107,
           "trajectory": "R_sol",
           "upper": 3.925130844116211
          },
          {
           "lower": 3.988210678100586,
           "timepoint": 108,
           "trajectory": "R_sol",
           "upper": 3.988210678100586
          },
          {
           "lower": 4.05202579498291,
           "timepoint": 109,
           "trajectory": "R_sol",
           "upper": 4.05202579498291
          },
          {
           "lower": 4.116585731506348,
           "timepoint": 110,
           "trajectory": "R_sol",
           "upper": 4.116585731506348
          },
          {
           "lower": 4.181896209716797,
           "timepoint": 111,
           "trajectory": "R_sol",
           "upper": 4.181896209716797
          },
          {
           "lower": 4.247969150543213,
           "timepoint": 112,
           "trajectory": "R_sol",
           "upper": 4.247969150543213
          },
          {
           "lower": 4.314813613891602,
           "timepoint": 113,
           "trajectory": "R_sol",
           "upper": 4.314813613891602
          },
          {
           "lower": 4.3824381828308105,
           "timepoint": 114,
           "trajectory": "R_sol",
           "upper": 4.3824381828308105
          },
          {
           "lower": 4.4508490562438965,
           "timepoint": 115,
           "trajectory": "R_sol",
           "upper": 4.4508490562438965
          },
          {
           "lower": 4.520058631896973,
           "timepoint": 116,
           "trajectory": "R_sol",
           "upper": 4.520058631896973
          },
          {
           "lower": 4.590074062347412,
           "timepoint": 117,
           "trajectory": "R_sol",
           "upper": 4.590074062347412
          },
          {
           "lower": 4.660905838012695,
           "timepoint": 118,
           "trajectory": "R_sol",
           "upper": 4.660905838012695
          },
          {
           "lower": 4.7325615882873535,
           "timepoint": 119,
           "trajectory": "R_sol",
           "upper": 4.7325615882873535
          },
          {
           "lower": 4.805052757263184,
           "timepoint": 120,
           "trajectory": "R_sol",
           "upper": 4.805052757263184
          },
          {
           "lower": 4.878388404846191,
           "timepoint": 121,
           "trajectory": "R_sol",
           "upper": 4.878388404846191
          },
          {
           "lower": 4.952581882476807,
           "timepoint": 122,
           "trajectory": "R_sol",
           "upper": 4.952581882476807
          },
          {
           "lower": 5.027636528015137,
           "timepoint": 123,
           "trajectory": "R_sol",
           "upper": 5.027636528015137
          },
          {
           "lower": 5.103565692901611,
           "timepoint": 124,
           "trajectory": "R_sol",
           "upper": 5.103565692901611
          },
          {
           "lower": 5.180377960205078,
           "timepoint": 125,
           "trajectory": "R_sol",
           "upper": 5.180377960205078
          },
          {
           "lower": 5.25808572769165,
           "timepoint": 126,
           "trajectory": "R_sol",
           "upper": 5.25808572769165
          },
          {
           "lower": 5.336696624755859,
           "timepoint": 127,
           "trajectory": "R_sol",
           "upper": 5.336696624755859
          },
          {
           "lower": 5.416224002838135,
           "timepoint": 128,
           "trajectory": "R_sol",
           "upper": 5.416224002838135
          },
          {
           "lower": 5.496675968170166,
           "timepoint": 129,
           "trajectory": "R_sol",
           "upper": 5.496675968170166
          },
          {
           "lower": 5.578064918518066,
           "timepoint": 130,
           "trajectory": "R_sol",
           "upper": 5.578064918518066
          },
          {
           "lower": 5.660401344299316,
           "timepoint": 131,
           "trajectory": "R_sol",
           "upper": 5.660401344299316
          },
          {
           "lower": 5.743694305419922,
           "timepoint": 132,
           "trajectory": "R_sol",
           "upper": 5.743694305419922
          },
          {
           "lower": 5.827957630157471,
           "timepoint": 133,
           "trajectory": "R_sol",
           "upper": 5.827957630157471
          },
          {
           "lower": 5.913201332092285,
           "timepoint": 134,
           "trajectory": "R_sol",
           "upper": 5.913201332092285
          },
          {
           "lower": 5.999425411224365,
           "timepoint": 135,
           "trajectory": "R_sol",
           "upper": 5.999425411224365
          },
          {
           "lower": 6.086660861968994,
           "timepoint": 136,
           "trajectory": "R_sol",
           "upper": 6.086660861968994
          },
          {
           "lower": 6.174910068511963,
           "timepoint": 137,
           "trajectory": "R_sol",
           "upper": 6.174910068511963
          },
          {
           "lower": 6.264185428619385,
           "timepoint": 138,
           "trajectory": "R_sol",
           "upper": 6.264185428619385
          },
          {
           "lower": 6.354498863220215,
           "timepoint": 139,
           "trajectory": "R_sol",
           "upper": 6.354498863220215
          },
          {
           "lower": 6.445860385894775,
           "timepoint": 140,
           "trajectory": "R_sol",
           "upper": 6.445860385894775
          },
          {
           "lower": 6.5382843017578125,
           "timepoint": 141,
           "trajectory": "R_sol",
           "upper": 6.5382843017578125
          },
          {
           "lower": 6.631780624389648,
           "timepoint": 142,
           "trajectory": "R_sol",
           "upper": 6.631780624389648
          },
          {
           "lower": 6.726365089416504,
           "timepoint": 143,
           "trajectory": "R_sol",
           "upper": 6.726365089416504
          },
          {
           "lower": 6.822047233581543,
           "timepoint": 144,
           "trajectory": "R_sol",
           "upper": 6.822047233581543
          },
          {
           "lower": 6.918839931488037,
           "timepoint": 145,
           "trajectory": "R_sol",
           "upper": 6.918839931488037
          },
          {
           "lower": 7.016757488250732,
           "timepoint": 146,
           "trajectory": "R_sol",
           "upper": 7.016757488250732
          },
          {
           "lower": 7.115811347961426,
           "timepoint": 147,
           "trajectory": "R_sol",
           "upper": 7.115811347961426
          },
          {
           "lower": 7.216012954711914,
           "timepoint": 148,
           "trajectory": "R_sol",
           "upper": 7.216012954711914
          },
          {
           "lower": 7.317379951477051,
           "timepoint": 149,
           "trajectory": "R_sol",
           "upper": 7.317379951477051
          },
          {
           "lower": 7.419922828674316,
           "timepoint": 150,
           "trajectory": "R_sol",
           "upper": 7.419922828674316
          },
          {
           "lower": 7.523656845092773,
           "timepoint": 151,
           "trajectory": "R_sol",
           "upper": 7.523656845092773
          },
          {
           "lower": 7.628592014312744,
           "timepoint": 152,
           "trajectory": "R_sol",
           "upper": 7.628592014312744
          },
          {
           "lower": 7.73474645614624,
           "timepoint": 153,
           "trajectory": "R_sol",
           "upper": 7.73474645614624
          },
          {
           "lower": 7.842132568359375,
           "timepoint": 154,
           "trajectory": "R_sol",
           "upper": 7.842132568359375
          },
          {
           "lower": 7.950762748718262,
           "timepoint": 155,
           "trajectory": "R_sol",
           "upper": 7.950762748718262
          },
          {
           "lower": 8.060652732849121,
           "timepoint": 156,
           "trajectory": "R_sol",
           "upper": 8.060652732849121
          },
          {
           "lower": 8.171817779541016,
           "timepoint": 157,
           "trajectory": "R_sol",
           "upper": 8.171817779541016
          },
          {
           "lower": 8.284271240234375,
           "timepoint": 158,
           "trajectory": "R_sol",
           "upper": 8.284271240234375
          },
          {
           "lower": 8.398029327392578,
           "timepoint": 159,
           "trajectory": "R_sol",
           "upper": 8.398029327392578
          },
          {
           "lower": 8.513106346130371,
           "timepoint": 160,
           "trajectory": "R_sol",
           "upper": 8.513106346130371
          },
          {
           "lower": 8.629514694213867,
           "timepoint": 161,
           "trajectory": "R_sol",
           "upper": 8.629514694213867
          },
          {
           "lower": 8.747291564941406,
           "timepoint": 162,
           "trajectory": "R_sol",
           "upper": 8.747291564941406
          },
          {
           "lower": 8.866416931152344,
           "timepoint": 163,
           "trajectory": "R_sol",
           "upper": 8.866416931152344
          },
          {
           "lower": 8.98692512512207,
           "timepoint": 164,
           "trajectory": "R_sol",
           "upper": 8.98692512512207
          },
          {
           "lower": 9.1088285446167,
           "timepoint": 165,
           "trajectory": "R_sol",
           "upper": 9.1088285446167
          },
          {
           "lower": 9.23214340209961,
           "timepoint": 166,
           "trajectory": "R_sol",
           "upper": 9.23214340209961
          },
          {
           "lower": 9.356891632080078,
           "timepoint": 167,
           "trajectory": "R_sol",
           "upper": 9.356891632080078
          },
          {
           "lower": 9.483080863952637,
           "timepoint": 168,
           "trajectory": "R_sol",
           "upper": 9.483080863952637
          },
          {
           "lower": 9.610733985900879,
           "timepoint": 169,
           "trajectory": "R_sol",
           "upper": 9.610733985900879
          },
          {
           "lower": 9.739866256713867,
           "timepoint": 170,
           "trajectory": "R_sol",
           "upper": 9.739866256713867
          },
          {
           "lower": 9.870491027832031,
           "timepoint": 171,
           "trajectory": "R_sol",
           "upper": 9.870491027832031
          },
          {
           "lower": 10.00263500213623,
           "timepoint": 172,
           "trajectory": "R_sol",
           "upper": 10.00263500213623
          },
          {
           "lower": 10.136303901672363,
           "timepoint": 173,
           "trajectory": "R_sol",
           "upper": 10.136303901672363
          },
          {
           "lower": 10.271523475646973,
           "timepoint": 174,
           "trajectory": "R_sol",
           "upper": 10.271523475646973
          },
          {
           "lower": 10.408308029174805,
           "timepoint": 175,
           "trajectory": "R_sol",
           "upper": 10.408308029174805
          },
          {
           "lower": 10.546659469604492,
           "timepoint": 176,
           "trajectory": "R_sol",
           "upper": 10.546659469604492
          },
          {
           "lower": 10.686630249023438,
           "timepoint": 177,
           "trajectory": "R_sol",
           "upper": 10.686630249023438
          },
          {
           "lower": 10.828217506408691,
           "timepoint": 178,
           "trajectory": "R_sol",
           "upper": 10.828217506408691
          },
          {
           "lower": 10.971444129943848,
           "timepoint": 179,
           "trajectory": "R_sol",
           "upper": 10.971444129943848
          },
          {
           "lower": 11.11633014678955,
           "timepoint": 180,
           "trajectory": "R_sol",
           "upper": 11.11633014678955
          },
          {
           "lower": 11.262887954711914,
           "timepoint": 181,
           "trajectory": "R_sol",
           "upper": 11.262887954711914
          },
          {
           "lower": 11.411149024963379,
           "timepoint": 182,
           "trajectory": "R_sol",
           "upper": 11.411149024963379
          },
          {
           "lower": 11.561119079589844,
           "timepoint": 183,
           "trajectory": "R_sol",
           "upper": 11.561119079589844
          },
          {
           "lower": 11.712828636169434,
           "timepoint": 184,
           "trajectory": "R_sol",
           "upper": 11.712828636169434
          },
          {
           "lower": 11.866291999816895,
           "timepoint": 185,
           "trajectory": "R_sol",
           "upper": 11.866291999816895
          },
          {
           "lower": 12.021527290344238,
           "timepoint": 186,
           "trajectory": "R_sol",
           "upper": 12.021527290344238
          },
          {
           "lower": 12.178564071655273,
           "timepoint": 187,
           "trajectory": "R_sol",
           "upper": 12.178564071655273
          },
          {
           "lower": 12.33741283416748,
           "timepoint": 188,
           "trajectory": "R_sol",
           "upper": 12.33741283416748
          },
          {
           "lower": 12.498099327087402,
           "timepoint": 189,
           "trajectory": "R_sol",
           "upper": 12.498099327087402
          },
          {
           "lower": 12.660659790039062,
           "timepoint": 190,
           "trajectory": "R_sol",
           "upper": 12.660659790039062
          },
          {
           "lower": 12.825084686279297,
           "timepoint": 191,
           "trajectory": "R_sol",
           "upper": 12.825084686279297
          },
          {
           "lower": 12.991419792175293,
           "timepoint": 192,
           "trajectory": "R_sol",
           "upper": 12.991419792175293
          },
          {
           "lower": 13.159669876098633,
           "timepoint": 193,
           "trajectory": "R_sol",
           "upper": 13.159669876098633
          },
          {
           "lower": 13.329869270324707,
           "timepoint": 194,
           "trajectory": "R_sol",
           "upper": 13.329869270324707
          },
          {
           "lower": 13.502037048339844,
           "timepoint": 195,
           "trajectory": "R_sol",
           "upper": 13.502037048339844
          },
          {
           "lower": 13.676192283630371,
           "timepoint": 196,
           "trajectory": "R_sol",
           "upper": 13.676192283630371
          },
          {
           "lower": 13.85236930847168,
           "timepoint": 197,
           "trajectory": "R_sol",
           "upper": 13.85236930847168
          },
          {
           "lower": 14.030573844909668,
           "timepoint": 198,
           "trajectory": "R_sol",
           "upper": 14.030573844909668
          },
          {
           "lower": 14.210844039916992,
           "timepoint": 199,
           "trajectory": "R_sol",
           "upper": 14.210844039916992
          },
          {
           "lower": 14.393198013305664,
           "timepoint": 200,
           "trajectory": "R_sol",
           "upper": 14.393198013305664
          },
          {
           "lower": 14.577656745910645,
           "timepoint": 201,
           "trajectory": "R_sol",
           "upper": 14.577656745910645
          },
          {
           "lower": 14.764254570007324,
           "timepoint": 202,
           "trajectory": "R_sol",
           "upper": 14.764254570007324
          },
          {
           "lower": 14.953001976013184,
           "timepoint": 203,
           "trajectory": "R_sol",
           "upper": 14.953001976013184
          },
          {
           "lower": 15.143927574157715,
           "timepoint": 204,
           "trajectory": "R_sol",
           "upper": 15.143927574157715
          },
          {
           "lower": 15.337065696716309,
           "timepoint": 205,
           "trajectory": "R_sol",
           "upper": 15.337065696716309
          },
          {
           "lower": 15.532431602478027,
           "timepoint": 206,
           "trajectory": "R_sol",
           "upper": 15.532431602478027
          },
          {
           "lower": 15.73006534576416,
           "timepoint": 207,
           "trajectory": "R_sol",
           "upper": 15.73006534576416
          },
          {
           "lower": 15.929973602294922,
           "timepoint": 208,
           "trajectory": "R_sol",
           "upper": 15.929973602294922
          },
          {
           "lower": 16.13219451904297,
           "timepoint": 209,
           "trajectory": "R_sol",
           "upper": 16.13219451904297
          },
          {
           "lower": 16.336753845214844,
           "timepoint": 210,
           "trajectory": "R_sol",
           "upper": 16.336753845214844
          },
          {
           "lower": 16.543670654296875,
           "timepoint": 211,
           "trajectory": "R_sol",
           "upper": 16.543670654296875
          },
          {
           "lower": 16.75299072265625,
           "timepoint": 212,
           "trajectory": "R_sol",
           "upper": 16.75299072265625
          },
          {
           "lower": 16.9647159576416,
           "timepoint": 213,
           "trajectory": "R_sol",
           "upper": 16.9647159576416
          },
          {
           "lower": 17.17889404296875,
           "timepoint": 214,
           "trajectory": "R_sol",
           "upper": 17.17889404296875
          },
          {
           "lower": 17.395545959472656,
           "timepoint": 215,
           "trajectory": "R_sol",
           "upper": 17.395545959472656
          },
          {
           "lower": 17.614696502685547,
           "timepoint": 216,
           "trajectory": "R_sol",
           "upper": 17.614696502685547
          },
          {
           "lower": 17.836387634277344,
           "timepoint": 217,
           "trajectory": "R_sol",
           "upper": 17.836387634277344
          },
          {
           "lower": 18.060630798339844,
           "timepoint": 218,
           "trajectory": "R_sol",
           "upper": 18.060630798339844
          },
          {
           "lower": 18.287477493286133,
           "timepoint": 219,
           "trajectory": "R_sol",
           "upper": 18.287477493286133
          },
          {
           "lower": 18.516935348510742,
           "timepoint": 220,
           "trajectory": "R_sol",
           "upper": 18.516935348510742
          },
          {
           "lower": 18.749042510986328,
           "timepoint": 221,
           "trajectory": "R_sol",
           "upper": 18.749042510986328
          },
          {
           "lower": 18.983835220336914,
           "timepoint": 222,
           "trajectory": "R_sol",
           "upper": 18.983835220336914
          },
          {
           "lower": 19.22133445739746,
           "timepoint": 223,
           "trajectory": "R_sol",
           "upper": 19.22133445739746
          },
          {
           "lower": 19.461580276489258,
           "timepoint": 224,
           "trajectory": "R_sol",
           "upper": 19.461580276489258
          },
          {
           "lower": 19.70459747314453,
           "timepoint": 225,
           "trajectory": "R_sol",
           "upper": 19.70459747314453
          },
          {
           "lower": 19.950420379638672,
           "timepoint": 226,
           "trajectory": "R_sol",
           "upper": 19.950420379638672
          },
          {
           "lower": 20.19908905029297,
           "timepoint": 227,
           "trajectory": "R_sol",
           "upper": 20.19908905029297
          },
          {
           "lower": 20.450620651245117,
           "timepoint": 228,
           "trajectory": "R_sol",
           "upper": 20.450620651245117
          },
          {
           "lower": 20.705062866210938,
           "timepoint": 229,
           "trajectory": "R_sol",
           "upper": 20.705062866210938
          },
          {
           "lower": 20.96244239807129,
           "timepoint": 230,
           "trajectory": "R_sol",
           "upper": 20.96244239807129
          },
          {
           "lower": 21.22279167175293,
           "timepoint": 231,
           "trajectory": "R_sol",
           "upper": 21.22279167175293
          },
          {
           "lower": 21.48615074157715,
           "timepoint": 232,
           "trajectory": "R_sol",
           "upper": 21.48615074157715
          },
          {
           "lower": 21.75255012512207,
           "timepoint": 233,
           "trajectory": "R_sol",
           "upper": 21.75255012512207
          },
          {
           "lower": 22.02202606201172,
           "timepoint": 234,
           "trajectory": "R_sol",
           "upper": 22.02202606201172
          },
          {
           "lower": 22.294614791870117,
           "timepoint": 235,
           "trajectory": "R_sol",
           "upper": 22.294614791870117
          },
          {
           "lower": 22.570348739624023,
           "timepoint": 236,
           "trajectory": "R_sol",
           "upper": 22.570348739624023
          },
          {
           "lower": 22.849267959594727,
           "timepoint": 237,
           "trajectory": "R_sol",
           "upper": 22.849267959594727
          },
          {
           "lower": 23.131397247314453,
           "timepoint": 238,
           "trajectory": "R_sol",
           "upper": 23.131397247314453
          },
          {
           "lower": 23.416791915893555,
           "timepoint": 239,
           "trajectory": "R_sol",
           "upper": 23.416791915893555
          },
          {
           "lower": 23.705482482910156,
           "timepoint": 240,
           "trajectory": "R_sol",
           "upper": 23.705482482910156
          },
          {
           "lower": 23.99750328063965,
           "timepoint": 241,
           "trajectory": "R_sol",
           "upper": 23.99750328063965
          },
          {
           "lower": 24.292896270751953,
           "timepoint": 242,
           "trajectory": "R_sol",
           "upper": 24.292896270751953
          },
          {
           "lower": 24.591691970825195,
           "timepoint": 243,
           "trajectory": "R_sol",
           "upper": 24.591691970825195
          },
          {
           "lower": 24.893943786621094,
           "timepoint": 244,
           "trajectory": "R_sol",
           "upper": 24.893943786621094
          },
          {
           "lower": 25.199682235717773,
           "timepoint": 245,
           "trajectory": "R_sol",
           "upper": 25.199682235717773
          },
          {
           "lower": 25.508949279785156,
           "timepoint": 246,
           "trajectory": "R_sol",
           "upper": 25.508949279785156
          },
          {
           "lower": 25.82181167602539,
           "timepoint": 247,
           "trajectory": "R_sol",
           "upper": 25.82181167602539
          },
          {
           "lower": 26.138259887695312,
           "timepoint": 248,
           "trajectory": "R_sol",
           "upper": 26.138259887695312
          },
          {
           "lower": 26.45836639404297,
           "timepoint": 249,
           "trajectory": "R_sol",
           "upper": 26.45836639404297
          },
          {
           "lower": 26.782167434692383,
           "timepoint": 250,
           "trajectory": "R_sol",
           "upper": 26.782167434692383
          },
          {
           "lower": 27.10970687866211,
           "timepoint": 251,
           "trajectory": "R_sol",
           "upper": 27.10970687866211
          },
          {
           "lower": 27.44102668762207,
           "timepoint": 252,
           "trajectory": "R_sol",
           "upper": 27.44102668762207
          },
          {
           "lower": 27.776166915893555,
           "timepoint": 253,
           "trajectory": "R_sol",
           "upper": 27.776166915893555
          },
          {
           "lower": 28.11517906188965,
           "timepoint": 254,
           "trajectory": "R_sol",
           "upper": 28.11517906188965
          },
          {
           "lower": 28.458105087280273,
           "timepoint": 255,
           "trajectory": "R_sol",
           "upper": 28.458105087280273
          },
          {
           "lower": 28.80498695373535,
           "timepoint": 256,
           "trajectory": "R_sol",
           "upper": 28.80498695373535
          },
          {
           "lower": 29.15587615966797,
           "timepoint": 257,
           "trajectory": "R_sol",
           "upper": 29.15587615966797
          },
          {
           "lower": 29.51080894470215,
           "timepoint": 258,
           "trajectory": "R_sol",
           "upper": 29.51080894470215
          },
          {
           "lower": 29.869842529296875,
           "timepoint": 259,
           "trajectory": "R_sol",
           "upper": 29.869842529296875
          },
          {
           "lower": 30.233022689819336,
           "timepoint": 260,
           "trajectory": "R_sol",
           "upper": 30.233022689819336
          },
          {
           "lower": 30.600393295288086,
           "timepoint": 261,
           "trajectory": "R_sol",
           "upper": 30.600393295288086
          },
          {
           "lower": 30.971975326538086,
           "timepoint": 262,
           "trajectory": "R_sol",
           "upper": 30.971975326538086
          },
          {
           "lower": 31.347864151000977,
           "timepoint": 263,
           "trajectory": "R_sol",
           "upper": 31.347864151000977
          },
          {
           "lower": 31.728097915649414,
           "timepoint": 264,
           "trajectory": "R_sol",
           "upper": 31.728097915649414
          },
          {
           "lower": 32.11271667480469,
           "timepoint": 265,
           "trajectory": "R_sol",
           "upper": 32.11271667480469
          },
          {
           "lower": 32.50177764892578,
           "timepoint": 266,
           "trajectory": "R_sol",
           "upper": 32.50177764892578
          },
          {
           "lower": 32.89532470703125,
           "timepoint": 267,
           "trajectory": "R_sol",
           "upper": 32.89532470703125
          },
          {
           "lower": 33.29340744018555,
           "timepoint": 268,
           "trajectory": "R_sol",
           "upper": 33.29340744018555
          },
          {
           "lower": 33.69609069824219,
           "timepoint": 269,
           "trajectory": "R_sol",
           "upper": 33.69609069824219
          },
          {
           "lower": 34.103424072265625,
           "timepoint": 270,
           "trajectory": "R_sol",
           "upper": 34.103424072265625
          },
          {
           "lower": 34.51545715332031,
           "timepoint": 271,
           "trajectory": "R_sol",
           "upper": 34.51545715332031
          },
          {
           "lower": 34.93223571777344,
           "timepoint": 272,
           "trajectory": "R_sol",
           "upper": 34.93223571777344
          },
          {
           "lower": 35.353816986083984,
           "timepoint": 273,
           "trajectory": "R_sol",
           "upper": 35.353816986083984
          },
          {
           "lower": 35.7802734375,
           "timepoint": 274,
           "trajectory": "R_sol",
           "upper": 35.7802734375
          },
          {
           "lower": 36.21165084838867,
           "timepoint": 275,
           "trajectory": "R_sol",
           "upper": 36.21165084838867
          },
          {
           "lower": 36.64802551269531,
           "timepoint": 276,
           "trajectory": "R_sol",
           "upper": 36.64802551269531
          },
          {
           "lower": 37.089420318603516,
           "timepoint": 277,
           "trajectory": "R_sol",
           "upper": 37.089420318603516
          },
          {
           "lower": 37.5359001159668,
           "timepoint": 278,
           "trajectory": "R_sol",
           "upper": 37.5359001159668
          },
          {
           "lower": 37.9875373840332,
           "timepoint": 279,
           "trajectory": "R_sol",
           "upper": 37.9875373840332
          },
          {
           "lower": 38.444393157958984,
           "timepoint": 280,
           "trajectory": "R_sol",
           "upper": 38.444393157958984
          },
          {
           "lower": 38.90651321411133,
           "timepoint": 281,
           "trajectory": "R_sol",
           "upper": 38.90651321411133
          },
          {
           "lower": 39.37397003173828,
           "timepoint": 282,
           "trajectory": "R_sol",
           "upper": 39.37397003173828
          },
          {
           "lower": 39.84680938720703,
           "timepoint": 283,
           "trajectory": "R_sol",
           "upper": 39.84680938720703
          },
          {
           "lower": 40.32511901855469,
           "timepoint": 284,
           "trajectory": "R_sol",
           "upper": 40.32511901855469
          },
          {
           "lower": 40.80894470214844,
           "timepoint": 285,
           "trajectory": "R_sol",
           "upper": 40.80894470214844
          },
          {
           "lower": 41.29835891723633,
           "timepoint": 286,
           "trajectory": "R_sol",
           "upper": 41.29835891723633
          },
          {
           "lower": 41.793418884277344,
           "timepoint": 287,
           "trajectory": "R_sol",
           "upper": 41.793418884277344
          },
          {
           "lower": 42.29418182373047,
           "timepoint": 288,
           "trajectory": "R_sol",
           "upper": 42.29418182373047
          },
          {
           "lower": 42.80073165893555,
           "timepoint": 289,
           "trajectory": "R_sol",
           "upper": 42.80073165893555
          },
          {
           "lower": 43.313133239746094,
           "timepoint": 290,
           "trajectory": "R_sol",
           "upper": 43.313133239746094
          },
          {
           "lower": 43.831329345703125,
           "timepoint": 291,
           "trajectory": "R_sol",
           "upper": 43.831329345703125
          },
          {
           "lower": 44.35559844970703,
           "timepoint": 292,
           "trajectory": "R_sol",
           "upper": 44.35559844970703
          },
          {
           "lower": 44.88591384887695,
           "timepoint": 293,
           "trajectory": "R_sol",
           "upper": 44.88591384887695
          },
          {
           "lower": 45.4223518371582,
           "timepoint": 294,
           "trajectory": "R_sol",
           "upper": 45.4223518371582
          },
          {
           "lower": 45.96498107910156,
           "timepoint": 295,
           "trajectory": "R_sol",
           "upper": 45.96498107910156
          },
          {
           "lower": 46.51386260986328,
           "timepoint": 296,
           "trajectory": "R_sol",
           "upper": 46.51386260986328
          },
          {
           "lower": 47.06908416748047,
           "timepoint": 297,
           "trajectory": "R_sol",
           "upper": 47.06908416748047
          },
          {
           "lower": 47.63069534301758,
           "timepoint": 298,
           "trajectory": "R_sol",
           "upper": 47.63069534301758
          },
          {
           "lower": 48.198795318603516,
           "timepoint": 299,
           "trajectory": "R_sol",
           "upper": 48.198795318603516
          },
          {
           "lower": 48.7734489440918,
           "timepoint": 300,
           "trajectory": "R_sol",
           "upper": 48.7734489440918
          },
          {
           "lower": 49.35472106933594,
           "timepoint": 301,
           "trajectory": "R_sol",
           "upper": 49.35472106933594
          },
          {
           "lower": 49.94270706176758,
           "timepoint": 302,
           "trajectory": "R_sol",
           "upper": 49.94270706176758
          },
          {
           "lower": 50.53746032714844,
           "timepoint": 303,
           "trajectory": "R_sol",
           "upper": 50.53746032714844
          },
          {
           "lower": 51.13908767700195,
           "timepoint": 304,
           "trajectory": "R_sol",
           "upper": 51.13908767700195
          },
          {
           "lower": 51.747737884521484,
           "timepoint": 305,
           "trajectory": "R_sol",
           "upper": 51.747737884521484
          },
          {
           "lower": 52.363338470458984,
           "timepoint": 306,
           "trajectory": "R_sol",
           "upper": 52.363338470458984
          },
          {
           "lower": 52.98603820800781,
           "timepoint": 307,
           "trajectory": "R_sol",
           "upper": 52.98603820800781
          },
          {
           "lower": 53.61591339111328,
           "timepoint": 308,
           "trajectory": "R_sol",
           "upper": 53.61591339111328
          },
          {
           "lower": 54.2530632019043,
           "timepoint": 309,
           "trajectory": "R_sol",
           "upper": 54.2530632019043
          },
          {
           "lower": 54.89756393432617,
           "timepoint": 310,
           "trajectory": "R_sol",
           "upper": 54.89756393432617
          },
          {
           "lower": 19339996,
           "timepoint": 0,
           "trajectory": "S_sol",
           "upper": 19339996
          },
          {
           "lower": 19339996,
           "timepoint": 1,
           "trajectory": "S_sol",
           "upper": 19339996
          },
          {
           "lower": 19339996,
           "timepoint": 2,
           "trajectory": "S_sol",
           "upper": 19339996
          },
          {
           "lower": 19339996,
           "timepoint": 3,
           "trajectory": "S_sol",
           "upper": 19339996
          },
          {
           "lower": 19339996,
           "timepoint": 4,
           "trajectory": "S_sol",
           "upper": 19339996
          },
          {
           "lower": 19339996,
           "timepoint": 5,
           "trajectory": "S_sol",
           "upper": 19339996
          },
          {
           "lower": 19339996,
           "timepoint": 6,
           "trajectory": "S_sol",
           "upper": 19339996
          },
          {
           "lower": 19339996,
           "timepoint": 7,
           "trajectory": "S_sol",
           "upper": 19339996
          },
          {
           "lower": 19339996,
           "timepoint": 8,
           "trajectory": "S_sol",
           "upper": 19339996
          },
          {
           "lower": 19339996,
           "timepoint": 9,
           "trajectory": "S_sol",
           "upper": 19339996
          },
          {
           "lower": 19339996,
           "timepoint": 10,
           "trajectory": "S_sol",
           "upper": 19339996
          },
          {
           "lower": 19339996,
           "timepoint": 11,
           "trajectory": "S_sol",
           "upper": 19339996
          },
          {
           "lower": 19339996,
           "timepoint": 12,
           "trajectory": "S_sol",
           "upper": 19339996
          },
          {
           "lower": 19339996,
           "timepoint": 13,
           "trajectory": "S_sol",
           "upper": 19339996
          },
          {
           "lower": 19339996,
           "timepoint": 14,
           "trajectory": "S_sol",
           "upper": 19339996
          },
          {
           "lower": 19339996,
           "timepoint": 15,
           "trajectory": "S_sol",
           "upper": 19339996
          },
          {
           "lower": 19339996,
           "timepoint": 16,
           "trajectory": "S_sol",
           "upper": 19339996
          },
          {
           "lower": 19339996,
           "timepoint": 17,
           "trajectory": "S_sol",
           "upper": 19339996
          },
          {
           "lower": 19339996,
           "timepoint": 18,
           "trajectory": "S_sol",
           "upper": 19339996
          },
          {
           "lower": 19339996,
           "timepoint": 19,
           "trajectory": "S_sol",
           "upper": 19339996
          },
          {
           "lower": 19339996,
           "timepoint": 20,
           "trajectory": "S_sol",
           "upper": 19339996
          },
          {
           "lower": 19339996,
           "timepoint": 21,
           "trajectory": "S_sol",
           "upper": 19339996
          },
          {
           "lower": 19339996,
           "timepoint": 22,
           "trajectory": "S_sol",
           "upper": 19339996
          },
          {
           "lower": 19339996,
           "timepoint": 23,
           "trajectory": "S_sol",
           "upper": 19339996
          },
          {
           "lower": 19339996,
           "timepoint": 24,
           "trajectory": "S_sol",
           "upper": 19339996
          },
          {
           "lower": 19339996,
           "timepoint": 25,
           "trajectory": "S_sol",
           "upper": 19339996
          },
          {
           "lower": 19339996,
           "timepoint": 26,
           "trajectory": "S_sol",
           "upper": 19339996
          },
          {
           "lower": 19339996,
           "timepoint": 27,
           "trajectory": "S_sol",
           "upper": 19339996
          },
          {
           "lower": 19339996,
           "timepoint": 28,
           "trajectory": "S_sol",
           "upper": 19339996
          },
          {
           "lower": 19339996,
           "timepoint": 29,
           "trajectory": "S_sol",
           "upper": 19339996
          },
          {
           "lower": 19339996,
           "timepoint": 30,
           "trajectory": "S_sol",
           "upper": 19339996
          },
          {
           "lower": 19339996,
           "timepoint": 31,
           "trajectory": "S_sol",
           "upper": 19339996
          },
          {
           "lower": 19339996,
           "timepoint": 32,
           "trajectory": "S_sol",
           "upper": 19339996
          },
          {
           "lower": 19339996,
           "timepoint": 33,
           "trajectory": "S_sol",
           "upper": 19339996
          },
          {
           "lower": 19339996,
           "timepoint": 34,
           "trajectory": "S_sol",
           "upper": 19339996
          },
          {
           "lower": 19339996,
           "timepoint": 35,
           "trajectory": "S_sol",
           "upper": 19339996
          },
          {
           "lower": 19339996,
           "timepoint": 36,
           "trajectory": "S_sol",
           "upper": 19339996
          },
          {
           "lower": 19339996,
           "timepoint": 37,
           "trajectory": "S_sol",
           "upper": 19339996
          },
          {
           "lower": 19339996,
           "timepoint": 38,
           "trajectory": "S_sol",
           "upper": 19339996
          },
          {
           "lower": 19339996,
           "timepoint": 39,
           "trajectory": "S_sol",
           "upper": 19339996
          },
          {
           "lower": 19339996,
           "timepoint": 40,
           "trajectory": "S_sol",
           "upper": 19339996
          },
          {
           "lower": 19339996,
           "timepoint": 41,
           "trajectory": "S_sol",
           "upper": 19339996
          },
          {
           "lower": 19339996,
           "timepoint": 42,
           "trajectory": "S_sol",
           "upper": 19339996
          },
          {
           "lower": 19339996,
           "timepoint": 43,
           "trajectory": "S_sol",
           "upper": 19339996
          },
          {
           "lower": 19339996,
           "timepoint": 44,
           "trajectory": "S_sol",
           "upper": 19339996
          },
          {
           "lower": 19339996,
           "timepoint": 45,
           "trajectory": "S_sol",
           "upper": 19339996
          },
          {
           "lower": 19339996,
           "timepoint": 46,
           "trajectory": "S_sol",
           "upper": 19339996
          },
          {
           "lower": 19339996,
           "timepoint": 47,
           "trajectory": "S_sol",
           "upper": 19339996
          },
          {
           "lower": 19339996,
           "timepoint": 48,
           "trajectory": "S_sol",
           "upper": 19339996
          },
          {
           "lower": 19339996,
           "timepoint": 49,
           "trajectory": "S_sol",
           "upper": 19339996
          },
          {
           "lower": 19339996,
           "timepoint": 50,
           "trajectory": "S_sol",
           "upper": 19339996
          },
          {
           "lower": 19339996,
           "timepoint": 51,
           "trajectory": "S_sol",
           "upper": 19339996
          },
          {
           "lower": 19339996,
           "timepoint": 52,
           "trajectory": "S_sol",
           "upper": 19339996
          },
          {
           "lower": 19339996,
           "timepoint": 53,
           "trajectory": "S_sol",
           "upper": 19339996
          },
          {
           "lower": 19339996,
           "timepoint": 54,
           "trajectory": "S_sol",
           "upper": 19339996
          },
          {
           "lower": 19339996,
           "timepoint": 55,
           "trajectory": "S_sol",
           "upper": 19339996
          },
          {
           "lower": 19339996,
           "timepoint": 56,
           "trajectory": "S_sol",
           "upper": 19339996
          },
          {
           "lower": 19339994,
           "timepoint": 57,
           "trajectory": "S_sol",
           "upper": 19339994
          },
          {
           "lower": 19339994,
           "timepoint": 58,
           "trajectory": "S_sol",
           "upper": 19339994
          },
          {
           "lower": 19339992,
           "timepoint": 59,
           "trajectory": "S_sol",
           "upper": 19339992
          },
          {
           "lower": 19339990,
           "timepoint": 60,
           "trajectory": "S_sol",
           "upper": 19339990
          },
          {
           "lower": 19339986,
           "timepoint": 61,
           "trajectory": "S_sol",
           "upper": 19339986
          },
          {
           "lower": 19339982,
           "timepoint": 62,
           "trajectory": "S_sol",
           "upper": 19339982
          },
          {
           "lower": 19339974,
           "timepoint": 63,
           "trajectory": "S_sol",
           "upper": 19339974
          },
          {
           "lower": 19339964,
           "timepoint": 64,
           "trajectory": "S_sol",
           "upper": 19339964
          },
          {
           "lower": 19339992,
           "timepoint": 65,
           "trajectory": "S_sol",
           "upper": 19339992
          },
          {
           "lower": 19339992,
           "timepoint": 66,
           "trajectory": "S_sol",
           "upper": 19339992
          },
          {
           "lower": 19339992,
           "timepoint": 67,
           "trajectory": "S_sol",
           "upper": 19339992
          },
          {
           "lower": 19339992,
           "timepoint": 68,
           "trajectory": "S_sol",
           "upper": 19339992
          },
          {
           "lower": 19339992,
           "timepoint": 69,
           "trajectory": "S_sol",
           "upper": 19339992
          },
          {
           "lower": 19339990,
           "timepoint": 70,
           "trajectory": "S_sol",
           "upper": 19339990
          },
          {
           "lower": 19339990,
           "timepoint": 71,
           "trajectory": "S_sol",
           "upper": 19339990
          },
          {
           "lower": 19339990,
           "timepoint": 72,
           "trajectory": "S_sol",
           "upper": 19339990
          },
          {
           "lower": 19339990,
           "timepoint": 73,
           "trajectory": "S_sol",
           "upper": 19339990
          },
          {
           "lower": 19339992,
           "timepoint": 74,
           "trajectory": "S_sol",
           "upper": 19339992
          },
          {
           "lower": 19339992,
           "timepoint": 75,
           "trajectory": "S_sol",
           "upper": 19339992
          },
          {
           "lower": 19339992,
           "timepoint": 76,
           "trajectory": "S_sol",
           "upper": 19339992
          },
          {
           "lower": 19339992,
           "timepoint": 77,
           "trajectory": "S_sol",
           "upper": 19339992
          },
          {
           "lower": 19339988,
           "timepoint": 78,
           "trajectory": "S_sol",
           "upper": 19339988
          },
          {
           "lower": 19339988,
           "timepoint": 79,
           "trajectory": "S_sol",
           "upper": 19339988
          },
          {
           "lower": 19339988,
           "timepoint": 80,
           "trajectory": "S_sol",
           "upper": 19339988
          },
          {
           "lower": 19339988,
           "timepoint": 81,
           "trajectory": "S_sol",
           "upper": 19339988
          },
          {
           "lower": 19339988,
           "timepoint": 82,
           "trajectory": "S_sol",
           "upper": 19339988
          },
          {
           "lower": 19339986,
           "timepoint": 83,
           "trajectory": "S_sol",
           "upper": 19339986
          },
          {
           "lower": 19339986,
           "timepoint": 84,
           "trajectory": "S_sol",
           "upper": 19339986
          },
          {
           "lower": 19339986,
           "timepoint": 85,
           "trajectory": "S_sol",
           "upper": 19339986
          },
          {
           "lower": 19339984,
           "timepoint": 86,
           "trajectory": "S_sol",
           "upper": 19339984
          },
          {
           "lower": 19339986,
           "timepoint": 87,
           "trajectory": "S_sol",
           "upper": 19339986
          },
          {
           "lower": 19339986,
           "timepoint": 88,
           "trajectory": "S_sol",
           "upper": 19339986
          },
          {
           "lower": 19339984,
           "timepoint": 89,
           "trajectory": "S_sol",
           "upper": 19339984
          },
          {
           "lower": 19339986,
           "timepoint": 90,
           "trajectory": "S_sol",
           "upper": 19339986
          },
          {
           "lower": 19339986,
           "timepoint": 91,
           "trajectory": "S_sol",
           "upper": 19339986
          },
          {
           "lower": 19339986,
           "timepoint": 92,
           "trajectory": "S_sol",
           "upper": 19339986
          },
          {
           "lower": 19339986,
           "timepoint": 93,
           "trajectory": "S_sol",
           "upper": 19339986
          },
          {
           "lower": 19339986,
           "timepoint": 94,
           "trajectory": "S_sol",
           "upper": 19339986
          },
          {
           "lower": 19339984,
           "timepoint": 95,
           "trajectory": "S_sol",
           "upper": 19339984
          },
          {
           "lower": 19339984,
           "timepoint": 96,
           "trajectory": "S_sol",
           "upper": 19339984
          },
          {
           "lower": 19339984,
           "timepoint": 97,
           "trajectory": "S_sol",
           "upper": 19339984
          },
          {
           "lower": 19339984,
           "timepoint": 98,
           "trajectory": "S_sol",
           "upper": 19339984
          },
          {
           "lower": 19339984,
           "timepoint": 99,
           "trajectory": "S_sol",
           "upper": 19339984
          },
          {
           "lower": 19339984,
           "timepoint": 100,
           "trajectory": "S_sol",
           "upper": 19339984
          },
          {
           "lower": 19339984,
           "timepoint": 101,
           "trajectory": "S_sol",
           "upper": 19339984
          },
          {
           "lower": 19339984,
           "timepoint": 102,
           "trajectory": "S_sol",
           "upper": 19339984
          },
          {
           "lower": 19339984,
           "timepoint": 103,
           "trajectory": "S_sol",
           "upper": 19339984
          },
          {
           "lower": 19339982,
           "timepoint": 104,
           "trajectory": "S_sol",
           "upper": 19339982
          },
          {
           "lower": 19339982,
           "timepoint": 105,
           "trajectory": "S_sol",
           "upper": 19339982
          },
          {
           "lower": 19339982,
           "timepoint": 106,
           "trajectory": "S_sol",
           "upper": 19339982
          },
          {
           "lower": 19339982,
           "timepoint": 107,
           "trajectory": "S_sol",
           "upper": 19339982
          },
          {
           "lower": 19339982,
           "timepoint": 108,
           "trajectory": "S_sol",
           "upper": 19339982
          },
          {
           "lower": 19339982,
           "timepoint": 109,
           "trajectory": "S_sol",
           "upper": 19339982
          },
          {
           "lower": 19339982,
           "timepoint": 110,
           "trajectory": "S_sol",
           "upper": 19339982
          },
          {
           "lower": 19339980,
           "timepoint": 111,
           "trajectory": "S_sol",
           "upper": 19339980
          },
          {
           "lower": 19339980,
           "timepoint": 112,
           "trajectory": "S_sol",
           "upper": 19339980
          },
          {
           "lower": 19339980,
           "timepoint": 113,
           "trajectory": "S_sol",
           "upper": 19339980
          },
          {
           "lower": 19339980,
           "timepoint": 114,
           "trajectory": "S_sol",
           "upper": 19339980
          },
          {
           "lower": 19339982,
           "timepoint": 115,
           "trajectory": "S_sol",
           "upper": 19339982
          },
          {
           "lower": 19339986,
           "timepoint": 116,
           "trajectory": "S_sol",
           "upper": 19339986
          },
          {
           "lower": 19339990,
           "timepoint": 117,
           "trajectory": "S_sol",
           "upper": 19339990
          },
          {
           "lower": 19339998,
           "timepoint": 118,
           "trajectory": "S_sol",
           "upper": 19339998
          },
          {
           "lower": 19340006,
           "timepoint": 119,
           "trajectory": "S_sol",
           "upper": 19340006
          },
          {
           "lower": 19340018,
           "timepoint": 120,
           "trajectory": "S_sol",
           "upper": 19340018
          },
          {
           "lower": 19340028,
           "timepoint": 121,
           "trajectory": "S_sol",
           "upper": 19340028
          },
          {
           "lower": 19339976,
           "timepoint": 122,
           "trajectory": "S_sol",
           "upper": 19339976
          },
          {
           "lower": 19339976,
           "timepoint": 123,
           "trajectory": "S_sol",
           "upper": 19339976
          },
          {
           "lower": 19339976,
           "timepoint": 124,
           "trajectory": "S_sol",
           "upper": 19339976
          },
          {
           "lower": 19339974,
           "timepoint": 125,
           "trajectory": "S_sol",
           "upper": 19339974
          },
          {
           "lower": 19339974,
           "timepoint": 126,
           "trajectory": "S_sol",
           "upper": 19339974
          },
          {
           "lower": 19339974,
           "timepoint": 127,
           "trajectory": "S_sol",
           "upper": 19339974
          },
          {
           "lower": 19339974,
           "timepoint": 128,
           "trajectory": "S_sol",
           "upper": 19339974
          },
          {
           "lower": 19339974,
           "timepoint": 129,
           "trajectory": "S_sol",
           "upper": 19339974
          },
          {
           "lower": 19339974,
           "timepoint": 130,
           "trajectory": "S_sol",
           "upper": 19339974
          },
          {
           "lower": 19339972,
           "timepoint": 131,
           "trajectory": "S_sol",
           "upper": 19339972
          },
          {
           "lower": 19339972,
           "timepoint": 132,
           "trajectory": "S_sol",
           "upper": 19339972
          },
          {
           "lower": 19339972,
           "timepoint": 133,
           "trajectory": "S_sol",
           "upper": 19339972
          },
          {
           "lower": 19339972,
           "timepoint": 134,
           "trajectory": "S_sol",
           "upper": 19339972
          },
          {
           "lower": 19339972,
           "timepoint": 135,
           "trajectory": "S_sol",
           "upper": 19339972
          },
          {
           "lower": 19339972,
           "timepoint": 136,
           "trajectory": "S_sol",
           "upper": 19339972
          },
          {
           "lower": 19339970,
           "timepoint": 137,
           "trajectory": "S_sol",
           "upper": 19339970
          },
          {
           "lower": 19339968,
           "timepoint": 138,
           "trajectory": "S_sol",
           "upper": 19339968
          },
          {
           "lower": 19339966,
           "timepoint": 139,
           "trajectory": "S_sol",
           "upper": 19339966
          },
          {
           "lower": 19339966,
           "timepoint": 140,
           "trajectory": "S_sol",
           "upper": 19339966
          },
          {
           "lower": 19339962,
           "timepoint": 141,
           "trajectory": "S_sol",
           "upper": 19339962
          },
          {
           "lower": 19339958,
           "timepoint": 142,
           "trajectory": "S_sol",
           "upper": 19339958
          },
          {
           "lower": 19339954,
           "timepoint": 143,
           "trajectory": "S_sol",
           "upper": 19339954
          },
          {
           "lower": 19339950,
           "timepoint": 144,
           "trajectory": "S_sol",
           "upper": 19339950
          },
          {
           "lower": 19339948,
           "timepoint": 145,
           "trajectory": "S_sol",
           "upper": 19339948
          },
          {
           "lower": 19339942,
           "timepoint": 146,
           "trajectory": "S_sol",
           "upper": 19339942
          },
          {
           "lower": 19339936,
           "timepoint": 147,
           "trajectory": "S_sol",
           "upper": 19339936
          },
          {
           "lower": 19339966,
           "timepoint": 148,
           "trajectory": "S_sol",
           "upper": 19339966
          },
          {
           "lower": 19339966,
           "timepoint": 149,
           "trajectory": "S_sol",
           "upper": 19339966
          },
          {
           "lower": 19339962,
           "timepoint": 150,
           "trajectory": "S_sol",
           "upper": 19339962
          },
          {
           "lower": 19339964,
           "timepoint": 151,
           "trajectory": "S_sol",
           "upper": 19339964
          },
          {
           "lower": 19339962,
           "timepoint": 152,
           "trajectory": "S_sol",
           "upper": 19339962
          },
          {
           "lower": 19339962,
           "timepoint": 153,
           "trajectory": "S_sol",
           "upper": 19339962
          },
          {
           "lower": 19339962,
           "timepoint": 154,
           "trajectory": "S_sol",
           "upper": 19339962
          },
          {
           "lower": 19339964,
           "timepoint": 155,
           "trajectory": "S_sol",
           "upper": 19339964
          },
          {
           "lower": 19339966,
           "timepoint": 156,
           "trajectory": "S_sol",
           "upper": 19339966
          },
          {
           "lower": 19339968,
           "timepoint": 157,
           "trajectory": "S_sol",
           "upper": 19339968
          },
          {
           "lower": 19339970,
           "timepoint": 158,
           "trajectory": "S_sol",
           "upper": 19339970
          },
          {
           "lower": 19339976,
           "timepoint": 159,
           "trajectory": "S_sol",
           "upper": 19339976
          },
          {
           "lower": 19339982,
           "timepoint": 160,
           "trajectory": "S_sol",
           "upper": 19339982
          },
          {
           "lower": 19339992,
           "timepoint": 161,
           "trajectory": "S_sol",
           "upper": 19339992
          },
          {
           "lower": 19339958,
           "timepoint": 162,
           "trajectory": "S_sol",
           "upper": 19339958
          },
          {
           "lower": 19339956,
           "timepoint": 163,
           "trajectory": "S_sol",
           "upper": 19339956
          },
          {
           "lower": 19339956,
           "timepoint": 164,
           "trajectory": "S_sol",
           "upper": 19339956
          },
          {
           "lower": 19339956,
           "timepoint": 165,
           "trajectory": "S_sol",
           "upper": 19339956
          },
          {
           "lower": 19339956,
           "timepoint": 166,
           "trajectory": "S_sol",
           "upper": 19339956
          },
          {
           "lower": 19339954,
           "timepoint": 167,
           "trajectory": "S_sol",
           "upper": 19339954
          },
          {
           "lower": 19339954,
           "timepoint": 168,
           "trajectory": "S_sol",
           "upper": 19339954
          },
          {
           "lower": 19339954,
           "timepoint": 169,
           "trajectory": "S_sol",
           "upper": 19339954
          },
          {
           "lower": 19339954,
           "timepoint": 170,
           "trajectory": "S_sol",
           "upper": 19339954
          },
          {
           "lower": 19339952,
           "timepoint": 171,
           "trajectory": "S_sol",
           "upper": 19339952
          },
          {
           "lower": 19339952,
           "timepoint": 172,
           "trajectory": "S_sol",
           "upper": 19339952
          },
          {
           "lower": 19339952,
           "timepoint": 173,
           "trajectory": "S_sol",
           "upper": 19339952
          },
          {
           "lower": 19339950,
           "timepoint": 174,
           "trajectory": "S_sol",
           "upper": 19339950
          },
          {
           "lower": 19339950,
           "timepoint": 175,
           "trajectory": "S_sol",
           "upper": 19339950
          },
          {
           "lower": 19339950,
           "timepoint": 176,
           "trajectory": "S_sol",
           "upper": 19339950
          },
          {
           "lower": 19339948,
           "timepoint": 177,
           "trajectory": "S_sol",
           "upper": 19339948
          },
          {
           "lower": 19339950,
           "timepoint": 178,
           "trajectory": "S_sol",
           "upper": 19339950
          },
          {
           "lower": 19339950,
           "timepoint": 179,
           "trajectory": "S_sol",
           "upper": 19339950
          },
          {
           "lower": 19339950,
           "timepoint": 180,
           "trajectory": "S_sol",
           "upper": 19339950
          },
          {
           "lower": 19339952,
           "timepoint": 181,
           "trajectory": "S_sol",
           "upper": 19339952
          },
          {
           "lower": 19339956,
           "timepoint": 182,
           "trajectory": "S_sol",
           "upper": 19339956
          },
          {
           "lower": 19339956,
           "timepoint": 183,
           "trajectory": "S_sol",
           "upper": 19339956
          },
          {
           "lower": 19339960,
           "timepoint": 184,
           "trajectory": "S_sol",
           "upper": 19339960
          },
          {
           "lower": 19339968,
           "timepoint": 185,
           "trajectory": "S_sol",
           "upper": 19339968
          },
          {
           "lower": 19339970,
           "timepoint": 186,
           "trajectory": "S_sol",
           "upper": 19339970
          },
          {
           "lower": 19339980,
           "timepoint": 187,
           "trajectory": "S_sol",
           "upper": 19339980
          },
          {
           "lower": 19339990,
           "timepoint": 188,
           "trajectory": "S_sol",
           "upper": 19339990
          },
          {
           "lower": 19340000,
           "timepoint": 189,
           "trajectory": "S_sol",
           "upper": 19340000
          },
          {
           "lower": 19339940,
           "timepoint": 190,
           "trajectory": "S_sol",
           "upper": 19339940
          },
          {
           "lower": 19339938,
           "timepoint": 191,
           "trajectory": "S_sol",
           "upper": 19339938
          },
          {
           "lower": 19339938,
           "timepoint": 192,
           "trajectory": "S_sol",
           "upper": 19339938
          },
          {
           "lower": 19339938,
           "timepoint": 193,
           "trajectory": "S_sol",
           "upper": 19339938
          },
          {
           "lower": 19339936,
           "timepoint": 194,
           "trajectory": "S_sol",
           "upper": 19339936
          },
          {
           "lower": 19339936,
           "timepoint": 195,
           "trajectory": "S_sol",
           "upper": 19339936
          },
          {
           "lower": 19339934,
           "timepoint": 196,
           "trajectory": "S_sol",
           "upper": 19339934
          },
          {
           "lower": 19339934,
           "timepoint": 197,
           "trajectory": "S_sol",
           "upper": 19339934
          },
          {
           "lower": 19339934,
           "timepoint": 198,
           "trajectory": "S_sol",
           "upper": 19339934
          },
          {
           "lower": 19339932,
           "timepoint": 199,
           "trajectory": "S_sol",
           "upper": 19339932
          },
          {
           "lower": 19339932,
           "timepoint": 200,
           "trajectory": "S_sol",
           "upper": 19339932
          },
          {
           "lower": 19339932,
           "timepoint": 201,
           "trajectory": "S_sol",
           "upper": 19339932
          },
          {
           "lower": 19339930,
           "timepoint": 202,
           "trajectory": "S_sol",
           "upper": 19339930
          },
          {
           "lower": 19339930,
           "timepoint": 203,
           "trajectory": "S_sol",
           "upper": 19339930
          },
          {
           "lower": 19339928,
           "timepoint": 204,
           "trajectory": "S_sol",
           "upper": 19339928
          },
          {
           "lower": 19339926,
           "timepoint": 205,
           "trajectory": "S_sol",
           "upper": 19339926
          },
          {
           "lower": 19339926,
           "timepoint": 206,
           "trajectory": "S_sol",
           "upper": 19339926
          },
          {
           "lower": 19339928,
           "timepoint": 207,
           "trajectory": "S_sol",
           "upper": 19339928
          },
          {
           "lower": 19339924,
           "timepoint": 208,
           "trajectory": "S_sol",
           "upper": 19339924
          },
          {
           "lower": 19339924,
           "timepoint": 209,
           "trajectory": "S_sol",
           "upper": 19339924
          },
          {
           "lower": 19339924,
           "timepoint": 210,
           "trajectory": "S_sol",
           "upper": 19339924
          },
          {
           "lower": 19339924,
           "timepoint": 211,
           "trajectory": "S_sol",
           "upper": 19339924
          },
          {
           "lower": 19339922,
           "timepoint": 212,
           "trajectory": "S_sol",
           "upper": 19339922
          },
          {
           "lower": 19339922,
           "timepoint": 213,
           "trajectory": "S_sol",
           "upper": 19339922
          },
          {
           "lower": 19339918,
           "timepoint": 214,
           "trajectory": "S_sol",
           "upper": 19339918
          },
          {
           "lower": 19339918,
           "timepoint": 215,
           "trajectory": "S_sol",
           "upper": 19339918
          },
          {
           "lower": 19339918,
           "timepoint": 216,
           "trajectory": "S_sol",
           "upper": 19339918
          },
          {
           "lower": 19339916,
           "timepoint": 217,
           "trajectory": "S_sol",
           "upper": 19339916
          },
          {
           "lower": 19339916,
           "timepoint": 218,
           "trajectory": "S_sol",
           "upper": 19339916
          },
          {
           "lower": 19339912,
           "timepoint": 219,
           "trajectory": "S_sol",
           "upper": 19339912
          },
          {
           "lower": 19339912,
           "timepoint": 220,
           "trajectory": "S_sol",
           "upper": 19339912
          },
          {
           "lower": 19339910,
           "timepoint": 221,
           "trajectory": "S_sol",
           "upper": 19339910
          },
          {
           "lower": 19339910,
           "timepoint": 222,
           "trajectory": "S_sol",
           "upper": 19339910
          },
          {
           "lower": 19339908,
           "timepoint": 223,
           "trajectory": "S_sol",
           "upper": 19339908
          },
          {
           "lower": 19339908,
           "timepoint": 224,
           "trajectory": "S_sol",
           "upper": 19339908
          },
          {
           "lower": 19339906,
           "timepoint": 225,
           "trajectory": "S_sol",
           "upper": 19339906
          },
          {
           "lower": 19339906,
           "timepoint": 226,
           "trajectory": "S_sol",
           "upper": 19339906
          },
          {
           "lower": 19339904,
           "timepoint": 227,
           "trajectory": "S_sol",
           "upper": 19339904
          },
          {
           "lower": 19339904,
           "timepoint": 228,
           "trajectory": "S_sol",
           "upper": 19339904
          },
          {
           "lower": 19339902,
           "timepoint": 229,
           "trajectory": "S_sol",
           "upper": 19339902
          },
          {
           "lower": 19339902,
           "timepoint": 230,
           "trajectory": "S_sol",
           "upper": 19339902
          },
          {
           "lower": 19339900,
           "timepoint": 231,
           "trajectory": "S_sol",
           "upper": 19339900
          },
          {
           "lower": 19339900,
           "timepoint": 232,
           "trajectory": "S_sol",
           "upper": 19339900
          },
          {
           "lower": 19339898,
           "timepoint": 233,
           "trajectory": "S_sol",
           "upper": 19339898
          },
          {
           "lower": 19339896,
           "timepoint": 234,
           "trajectory": "S_sol",
           "upper": 19339896
          },
          {
           "lower": 19339894,
           "timepoint": 235,
           "trajectory": "S_sol",
           "upper": 19339894
          },
          {
           "lower": 19339894,
           "timepoint": 236,
           "trajectory": "S_sol",
           "upper": 19339894
          },
          {
           "lower": 19339892,
           "timepoint": 237,
           "trajectory": "S_sol",
           "upper": 19339892
          },
          {
           "lower": 19339890,
           "timepoint": 238,
           "trajectory": "S_sol",
           "upper": 19339890
          },
          {
           "lower": 19339890,
           "timepoint": 239,
           "trajectory": "S_sol",
           "upper": 19339890
          },
          {
           "lower": 19339888,
           "timepoint": 240,
           "trajectory": "S_sol",
           "upper": 19339888
          },
          {
           "lower": 19339888,
           "timepoint": 241,
           "trajectory": "S_sol",
           "upper": 19339888
          },
          {
           "lower": 19339886,
           "timepoint": 242,
           "trajectory": "S_sol",
           "upper": 19339886
          },
          {
           "lower": 19339884,
           "timepoint": 243,
           "trajectory": "S_sol",
           "upper": 19339884
          },
          {
           "lower": 19339884,
           "timepoint": 244,
           "trajectory": "S_sol",
           "upper": 19339884
          },
          {
           "lower": 19339882,
           "timepoint": 245,
           "trajectory": "S_sol",
           "upper": 19339882
          },
          {
           "lower": 19339880,
           "timepoint": 246,
           "trajectory": "S_sol",
           "upper": 19339880
          },
          {
           "lower": 19339878,
           "timepoint": 247,
           "trajectory": "S_sol",
           "upper": 19339878
          },
          {
           "lower": 19339876,
           "timepoint": 248,
           "trajectory": "S_sol",
           "upper": 19339876
          },
          {
           "lower": 19339874,
           "timepoint": 249,
           "trajectory": "S_sol",
           "upper": 19339874
          },
          {
           "lower": 19339874,
           "timepoint": 250,
           "trajectory": "S_sol",
           "upper": 19339874
          },
          {
           "lower": 19339872,
           "timepoint": 251,
           "trajectory": "S_sol",
           "upper": 19339872
          },
          {
           "lower": 19339870,
           "timepoint": 252,
           "trajectory": "S_sol",
           "upper": 19339870
          },
          {
           "lower": 19339868,
           "timepoint": 253,
           "trajectory": "S_sol",
           "upper": 19339868
          },
          {
           "lower": 19339868,
           "timepoint": 254,
           "trajectory": "S_sol",
           "upper": 19339868
          },
          {
           "lower": 19339866,
           "timepoint": 255,
           "trajectory": "S_sol",
           "upper": 19339866
          },
          {
           "lower": 19339864,
           "timepoint": 256,
           "trajectory": "S_sol",
           "upper": 19339864
          },
          {
           "lower": 19339862,
           "timepoint": 257,
           "trajectory": "S_sol",
           "upper": 19339862
          },
          {
           "lower": 19339862,
           "timepoint": 258,
           "trajectory": "S_sol",
           "upper": 19339862
          },
          {
           "lower": 19339860,
           "timepoint": 259,
           "trajectory": "S_sol",
           "upper": 19339860
          },
          {
           "lower": 19339858,
           "timepoint": 260,
           "trajectory": "S_sol",
           "upper": 19339858
          },
          {
           "lower": 19339858,
           "timepoint": 261,
           "trajectory": "S_sol",
           "upper": 19339858
          },
          {
           "lower": 19339852,
           "timepoint": 262,
           "trajectory": "S_sol",
           "upper": 19339852
          },
          {
           "lower": 19339850,
           "timepoint": 263,
           "trajectory": "S_sol",
           "upper": 19339850
          },
          {
           "lower": 19339848,
           "timepoint": 264,
           "trajectory": "S_sol",
           "upper": 19339848
          },
          {
           "lower": 19339846,
           "timepoint": 265,
           "trajectory": "S_sol",
           "upper": 19339846
          },
          {
           "lower": 19339842,
           "timepoint": 266,
           "trajectory": "S_sol",
           "upper": 19339842
          },
          {
           "lower": 19339838,
           "timepoint": 267,
           "trajectory": "S_sol",
           "upper": 19339838
          },
          {
           "lower": 19339834,
           "timepoint": 268,
           "trajectory": "S_sol",
           "upper": 19339834
          },
          {
           "lower": 19339830,
           "timepoint": 269,
           "trajectory": "S_sol",
           "upper": 19339830
          },
          {
           "lower": 19339826,
           "timepoint": 270,
           "trajectory": "S_sol",
           "upper": 19339826
          },
          {
           "lower": 19339824,
           "timepoint": 271,
           "trajectory": "S_sol",
           "upper": 19339824
          },
          {
           "lower": 19339818,
           "timepoint": 272,
           "trajectory": "S_sol",
           "upper": 19339818
          },
          {
           "lower": 19339812,
           "timepoint": 273,
           "trajectory": "S_sol",
           "upper": 19339812
          },
          {
           "lower": 19339808,
           "timepoint": 274,
           "trajectory": "S_sol",
           "upper": 19339808
          },
          {
           "lower": 19339802,
           "timepoint": 275,
           "trajectory": "S_sol",
           "upper": 19339802
          },
          {
           "lower": 19339826,
           "timepoint": 276,
           "trajectory": "S_sol",
           "upper": 19339826
          },
          {
           "lower": 19339824,
           "timepoint": 277,
           "trajectory": "S_sol",
           "upper": 19339824
          },
          {
           "lower": 19339822,
           "timepoint": 278,
           "trajectory": "S_sol",
           "upper": 19339822
          },
          {
           "lower": 19339820,
           "timepoint": 279,
           "trajectory": "S_sol",
           "upper": 19339820
          },
          {
           "lower": 19339820,
           "timepoint": 280,
           "trajectory": "S_sol",
           "upper": 19339820
          },
          {
           "lower": 19339820,
           "timepoint": 281,
           "trajectory": "S_sol",
           "upper": 19339820
          },
          {
           "lower": 19339820,
           "timepoint": 282,
           "trajectory": "S_sol",
           "upper": 19339820
          },
          {
           "lower": 19339820,
           "timepoint": 283,
           "trajectory": "S_sol",
           "upper": 19339820
          },
          {
           "lower": 19339822,
           "timepoint": 284,
           "trajectory": "S_sol",
           "upper": 19339822
          },
          {
           "lower": 19339824,
           "timepoint": 285,
           "trajectory": "S_sol",
           "upper": 19339824
          },
          {
           "lower": 19339826,
           "timepoint": 286,
           "trajectory": "S_sol",
           "upper": 19339826
          },
          {
           "lower": 19339832,
           "timepoint": 287,
           "trajectory": "S_sol",
           "upper": 19339832
          },
          {
           "lower": 19339838,
           "timepoint": 288,
           "trajectory": "S_sol",
           "upper": 19339838
          },
          {
           "lower": 19339846,
           "timepoint": 289,
           "trajectory": "S_sol",
           "upper": 19339846
          },
          {
           "lower": 19339856,
           "timepoint": 290,
           "trajectory": "S_sol",
           "upper": 19339856
          },
          {
           "lower": 19339792,
           "timepoint": 291,
           "trajectory": "S_sol",
           "upper": 19339792
          },
          {
           "lower": 19339790,
           "timepoint": 292,
           "trajectory": "S_sol",
           "upper": 19339790
          },
          {
           "lower": 19339788,
           "timepoint": 293,
           "trajectory": "S_sol",
           "upper": 19339788
          },
          {
           "lower": 19339784,
           "timepoint": 294,
           "trajectory": "S_sol",
           "upper": 19339784
          },
          {
           "lower": 19339782,
           "timepoint": 295,
           "trajectory": "S_sol",
           "upper": 19339782
          },
          {
           "lower": 19339780,
           "timepoint": 296,
           "trajectory": "S_sol",
           "upper": 19339780
          },
          {
           "lower": 19339778,
           "timepoint": 297,
           "trajectory": "S_sol",
           "upper": 19339778
          },
          {
           "lower": 19339776,
           "timepoint": 298,
           "trajectory": "S_sol",
           "upper": 19339776
          },
          {
           "lower": 19339772,
           "timepoint": 299,
           "trajectory": "S_sol",
           "upper": 19339772
          },
          {
           "lower": 19339770,
           "timepoint": 300,
           "trajectory": "S_sol",
           "upper": 19339770
          },
          {
           "lower": 19339768,
           "timepoint": 301,
           "trajectory": "S_sol",
           "upper": 19339768
          },
          {
           "lower": 19339766,
           "timepoint": 302,
           "trajectory": "S_sol",
           "upper": 19339766
          },
          {
           "lower": 19339764,
           "timepoint": 303,
           "trajectory": "S_sol",
           "upper": 19339764
          },
          {
           "lower": 19339760,
           "timepoint": 304,
           "trajectory": "S_sol",
           "upper": 19339760
          },
          {
           "lower": 19339756,
           "timepoint": 305,
           "trajectory": "S_sol",
           "upper": 19339756
          },
          {
           "lower": 19339752,
           "timepoint": 306,
           "trajectory": "S_sol",
           "upper": 19339752
          },
          {
           "lower": 19339750,
           "timepoint": 307,
           "trajectory": "S_sol",
           "upper": 19339750
          },
          {
           "lower": 19339746,
           "timepoint": 308,
           "trajectory": "S_sol",
           "upper": 19339746
          },
          {
           "lower": 19339744,
           "timepoint": 309,
           "trajectory": "S_sol",
           "upper": 19339744
          },
          {
           "lower": 19339742,
           "timepoint": 310,
           "trajectory": "S_sol",
           "upper": 19339742
          }
         ]
        },
        {
         "name": "traces",
         "transform": [
          {
           "expr": "isValid(datum.value)",
           "type": "filter"
          }
         ],
         "values": []
        },
        {
         "name": "points",
         "values": []
        },
        {
         "name": "markers",
         "values": []
        },
        {
         "name": "selected",
         "on": [
          {
           "remove": true,
           "trigger": "clear"
          },
          {
           "remove": true,
           "trigger": "!shift"
          },
          {
           "insert": "clicked",
           "trigger": "!shift && clicked"
          },
          {
           "toggle": "clicked",
           "trigger": "shift && clicked"
          }
         ]
        }
       ],
       "height": 300,
       "legends": [
        {
         "encode": {
          "labels": {
           "interactive": true,
           "name": "legendLabel",
           "update": {
            "opacity": [
             {
              "test": "!length(data('selected')) || indata('selected', 'value', datum.value)",
              "value": 1
             },
             {
              "value": 0.25
             }
            ]
           }
          },
          "symbols": {
           "interactive": true,
           "name": "legendSymbol",
           "update": {
            "fill": {
             "value": "transparent"
            },
            "opacity": [
             {
              "test": "!length(data('selected')) || indata('selected', 'value', datum.value)",
              "value": 0.7
             },
             {
              "value": 0.15
             }
            ],
            "size": {
             "value": 64
            },
            "strokeWidth": {
             "value": 2
            }
           }
          }
         },
         "name": "color_legend",
         "stroke": "color"
        }
       ],
       "marks": [
        {
         "from": {
          "facet": {
           "data": "points",
           "groupby": "trajectory",
           "name": "points_split"
          }
         },
         "marks": [
          {
           "encode": {
            "hover": {
             "fillOpacity": {
              "value": 0.9
             }
            },
            "update": {
             "fill": {
              "field": "trajectory",
              "scale": "color"
             },
             "fillOpacity": [
              {
               "test": "!length(data('selected')) || indata('selected', 'value', datum.trajectory)",
               "value": 0.5
              },
              {
               "value": 0.15
              }
             ],
             "size": {
              "value": 10
             },
             "stroke": {
              "field": "trajectory",
              "scale": "color"
             },
             "strokeOpacity": [
              {
               "test": "!length(data('selected')) || indata('selected', 'value', datum.trajectory)",
               "value": 0.75
              },
              {
               "value": 0.15
              }
             ],
             "strokeWidth": {
              "value": 2
             },
             "tooltip": {
              "field": "value"
             },
             "x": {
              "field": "timepoint",
              "scale": "xscale"
             },
             "y": {
              "field": "value",
              "scale": "yscale"
             }
            }
           },
           "from": {
            "data": "points"
           },
           "name": "_points_symbol",
           "type": "symbol",
           "zindex": 3
          },
          {
           "encode": {
            "hover": {
             "fillOpacity": {
              "value": 0.9
             }
            },
            "update": {
             "interpolate": {
              "value": "linear"
             },
             "stroke": {
              "field": "trajectory",
              "scale": "color"
             },
             "strokeOpacity": [
              {
               "test": "!length(data('selected')) || indata('selected', 'value', datum.trajectory)",
               "value": 0.3
              },
              {
               "value": 0.1
              }
             ],
             "strokeWidth": {
              "value": 2
             },
             "x": {
              "field": "timepoint",
              "scale": "xscale"
             },
             "y": {
              "field": "value",
              "scale": "yscale"
             }
            }
           },
           "from": {
            "data": "points"
           },
           "name": "_points_line",
           "type": "line",
           "zindex": 3
          }
         ],
         "name": "_points",
         "type": "group",
         "zindex": 3
        },
        {
         "from": {
          "facet": {
           "data": "traces",
           "groupby": "trajectory",
           "name": "traces_split"
          }
         },
         "marks": [
          {
           "encode": {
            "hover": {
             "fillOpacity": {
              "value": 0.9
             }
            },
            "update": {
             "interpolate": {
              "value": "linear"
             },
             "stroke": {
              "field": "trajectory",
              "scale": "color"
             },
             "strokeOpacity": [
              {
               "test": "!length(data('selected')) || indata('selected', 'value', datum.trajectory)",
               "value": 0.75
              },
              {
               "value": 0.15
              }
             ],
             "strokeWidth": {
              "value": 2
             },
             "x": {
              "field": "timepoint",
              "scale": "xscale"
             },
             "y": {
              "field": "value",
              "scale": "yscale"
             }
            }
           },
           "from": {
            "data": "traces_split"
           },
           "name": "_traces_lines",
           "type": "line"
          }
         ],
         "name": "_traces",
         "type": "group",
         "zindex": 2
        },
        {
         "from": {
          "facet": {
           "data": "distributions",
           "groupby": "trajectory",
           "name": "trajectory_split"
          }
         },
         "marks": [
          {
           "encode": {
            "hover": {
             "fillOpacity": {
              "value": 0.9
             }
            },
            "update": {
             "fill": {
              "field": "trajectory",
              "scale": "color"
             },
             "fillOpacity": [
              {
               "test": "!length(data('selected')) || indata('selected', 'value', datum.trajectory)",
               "value": 0.5
              },
              {
               "value": 0.15
              }
             ],
             "interpolate": {
              "value": "linear"
             },
             "stroke": {
              "field": "trajectory",
              "scale": "color"
             },
             "strokeOpacity": [
              {
               "test": "!length(data('selected')) || indata('selected', 'value', datum.trajectory)",
               "value": 0.75
              },
              {
               "value": 0.15
              }
             ],
             "strokeWidth": {
              "value": 2
             },
             "x": {
              "field": "timepoint",
              "scale": "xscale"
             },
             "y": {
              "field": "upper",
              "scale": "yscale"
             },
             "y2": {
              "field": "lower",
              "scale": "yscale"
             }
            }
           },
           "from": {
            "data": "trajectory_split"
           },
           "type": "area"
          }
         ],
         "name": "_distributions",
         "type": "group",
         "zindex": 1
        },
        {
         "marks": [
          {
           "encode": {
            "enter": {
             "stroke": {
              "value": "lightgray"
             }
            },
            "update": {
             "opacity": {
              "value": 1
             },
             "x": {
              "field": "timepoint",
              "scale": "xscale"
             },
             "y": {
              "signal": "height"
             },
             "y2": {
              "value": 0
             }
            }
           },
           "from": {
            "data": "markers"
           },
           "name": "_marker text",
           "type": "rule"
          },
          {
           "encode": {
            "enter": {
             "fontSize": {
              "value": 8
             },
             "text": {
              "field": "datum.label"
             },
             "y": {
              "value": 0
             }
            }
           },
           "from": {
            "data": "_marker text"
           },
           "name": "_marker flags",
           "transform": [
            {
             "as": [
              "x",
              "_y",
              "opacity",
              "align",
              "baseline"
             ],
             "lineAnchor": "start",
             "offset": [
              1
             ],
             "size": {
              "signal": "[width, height]"
             },
             "type": "label"
            }
           ],
           "type": "text"
          }
         ],
         "name": "_markers",
         "type": "group"
        }
       ],
       "scales": [
        {
         "domain": {
          "fields": [
           {
            "data": "distributions",
            "field": "timepoint"
           },
           {
            "data": "traces",
            "field": "timepoint"
           },
           {
            "data": "points",
            "field": "timepoint"
           },
           {
            "data": "markers",
            "field": "timepoint"
           }
          ]
         },
         "name": "xscale",
         "range": "width",
         "type": "linear",
         "zero": false
        },
        {
         "domain": {
          "fields": [
           {
            "data": "distributions",
            "field": "lower"
           },
           {
            "data": "distributions",
            "field": "upper"
           },
           {
            "data": "traces",
            "field": "value"
           },
           {
            "data": "points",
            "field": "value"
           }
          ]
         },
         "name": "yscale",
         "nice": true,
         "range": "height",
         "type": "linear",
         "zero": true
        },
        {
         "domain": {
          "fields": [
           {
            "data": "distributions",
            "field": "trajectory"
           },
           {
            "data": "traces",
            "field": "trajectory"
           },
           {
            "data": "points",
            "field": "trajectory"
           }
          ]
         },
         "name": "color",
         "range": "category",
         "type": "ordinal"
        }
       ],
       "signals": [
        {
         "name": "clear",
         "on": [
          {
           "events": "mouseup[!event.item]",
           "force": true,
           "update": "true"
          }
         ],
         "value": true
        },
        {
         "name": "shift",
         "on": [
          {
           "events": "@legendSymbol:click, @legendLabel:click",
           "force": true,
           "update": "event.shiftKey"
          }
         ],
         "value": false
        },
        {
         "name": "clicked",
         "on": [
          {
           "events": "@legendSymbol:click, @legendLabel:click",
           "force": true,
           "update": "{value: datum.value}"
          }
         ],
         "value": null
        }
       ],
       "title": "1(a)(ii)(1)",
       "width": 500
      }
     },
     "metadata": {},
     "output_type": "display_data"
    }
   ],
   "source": [
    "# model = change_model_parameters(SEIRD_model_path, [(\"t_0\", 0)])\n",
    "results_1_a_ii_1 = load_and_sample_petri_model(\n",
    "        SEIRD_model_path, num_samples, timepoints=timepoints, visual_options={\"title\": \"1(a)(ii)(1)\", \"subset\":\".*_sol\"})\n",
    "plots.ipy_display(results_1_a_ii_1[\"visual\"])\n",
    "# QoIs_0day = aggregate_results(samples_1_a_ii_1, num_samples)"
   ]
  }
 ],
 "metadata": {
  "kernelspec": {
   "display_name": "Python CIEMSS",
   "language": "python",
   "name": "ciemss_env"
  },
  "language_info": {
   "codemirror_mode": {
    "name": "ipython",
    "version": 3
   },
   "file_extension": ".py",
   "mimetype": "text/x-python",
   "name": "python",
   "nbconvert_exporter": "python",
   "pygments_lexer": "ipython3",
   "version": "3.9.13"
  },
  "orig_nbformat": 4
 },
 "nbformat": 4,
 "nbformat_minor": 2
}
