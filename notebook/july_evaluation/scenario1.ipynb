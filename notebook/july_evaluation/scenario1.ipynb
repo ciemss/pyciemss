{
 "cells": [
  {
   "cell_type": "code",
   "execution_count": 9,
   "metadata": {},
   "outputs": [],
   "source": [
    "import os\n",
    "import urllib.request, json \n",
    "import pandas as pd\n",
    "from IPython.display import HTML\n",
    "from IPython import display\n",
    "from pyciemss.PetriNetODE.interfaces import (\n",
    "    load_and_sample_petri_model,\n",
    "    load_and_calibrate_and_sample_petri_model,\n",
    "    load_petri_model,\n",
    "    setup_petri_model,\n",
    "    sample\n",
    ")\n",
    "import numpy as np\n",
    "from typing import Iterable\n",
    "from pyciemss.visuals import plots\n",
    "from pyciemss.utils.interface_utils import (\n",
    "    assign_interventions_to_timepoints,\n",
    "    interventions_and_sampled_params_to_interval,\n",
    "    convert_to_output_format\n",
    ")\n",
    "from pyciemss.utils import get_tspan\n",
    "import matplotlib.pyplot as plt\n",
    "import torch\n",
    "from torch import tensor"
   ]
  },
  {
   "cell_type": "code",
   "execution_count": 16,
   "metadata": {},
   "outputs": [],
   "source": [
    "COLORS=['red','green','blue','black','gold','purple','orangered']\n",
    "\n",
    "def aggregate_results(samples_df, num_samples=1):\n",
    "    QoIs = [\"D_sol\", \"E_sol\", \"I_sol\", \"R_sol\", \"S_sol\"]\n",
    "    all_QoIs = {key: None for key in QoIs}\n",
    "    for QoI in QoIs:\n",
    "        # Aggregate results\n",
    "        # TODO: After they introduce normalized models, remove normalization here.\n",
    "        # /total_pop * 100\n",
    "        # total_pop = 0\n",
    "        # for val in QoIs:\n",
    "        #     total_pop += samples_df[samples_df[\"sample_id\"] == 0][val].to_numpy()[0]\n",
    "        all_QoIs[QoI] = [samples_df[samples_df[\"sample_id\"] == i][QoI].to_numpy() for i in range(num_samples)]\n",
    "    return all_QoIs\n",
    "\n",
    "def plotseird(t, S=None, E=None, I=None, R=None, D=None, L=None, R0=None, Alpha=None, CFR=None, ax=None):\n",
    "    if ax is None:\n",
    "        f, ax = plt.subplots(1,1,figsize=(10,4))\n",
    "    N = S[0] + E[0] + I[0] + R[0] + D[0]\n",
    "    if S is not None:\n",
    "        ax.plot(t, (S/N)*100, 'b--', alpha=0.7, linewidth=2, label='Susceptible')\n",
    "    if E is not None:\n",
    "        ax.plot(t, (E/N)*100, 'y.', alpha=0.7, linewidth=2, label='Exposed')\n",
    "    if I is not None:\n",
    "        ax.plot(t, (I/N)*100, 'r', alpha=0.7, linewidth=2, label='Infected')\n",
    "    if R is not None:\n",
    "        ax.plot(t, (R/N)*100, 'g-.', alpha=0.7, linewidth=2, label='Recovered')\n",
    "\n",
    "    if D is not None:\n",
    "        ax.plot(t, D/N, 'k', alpha=0.7, linewidth=2, label='Dead')\n",
    "        ax.plot(t, ((S+E+I+R+D)/N)*100, 'c:', alpha=0.7, linewidth=2, label='Total')\n",
    "    else:\n",
    "        ax.plot(t, ((S+E+I+R)/N)*100, 'c:', alpha=0.7, linewidth=2, label='Total')\n",
    "\n",
    "    ax.set_xlabel('Time (days)')\n",
    "    ax.set_ylabel('Percentage of Population (%)')\n",
    "\n",
    "    ax.yaxis.set_tick_params(length=0)\n",
    "    ax.xaxis.set_tick_params(length=0)\n",
    "    ax.grid(visible=True, which='major', c='w', lw=2, ls='-')\n",
    "    legend = ax.legend(borderpad=2.0)\n",
    "    legend.get_frame().set_alpha(0.5)\n",
    "    for spine in ('top', 'right', 'bottom', 'left'):\n",
    "        ax.spines[spine].set_visible(False)\n",
    "    if L is not None:\n",
    "        plt.title(\"Lockdown after {} days\".format(L))\n",
    "    # plt.show()\n",
    "\n",
    "    if R0 is not None or CFR is not None:\n",
    "        f = plt.figure(figsize=(12,4))\n",
    "    \n",
    "    if R0 is not None:\n",
    "        # sp1\n",
    "        ax1 = f.add_subplot(121)\n",
    "        ax1.plot(t, R0, 'b--', alpha=0.7, linewidth=2, label='R_0')\n",
    "\n",
    "        ax1.set_xlabel('Time (days)')\n",
    "        ax1.title.set_text('R_0 over time')\n",
    "        # ax.set_ylabel('Number (1000s)')\n",
    "        # ax.set_ylim(0,1.2)\n",
    "        ax1.yaxis.set_tick_params(length=0)\n",
    "        ax1.xaxis.set_tick_params(length=0)\n",
    "        ax1.grid(b=True, which='major', c='w', lw=2, ls='-')\n",
    "        legend = ax1.legend()\n",
    "        legend.get_frame().set_alpha(0.5)\n",
    "        for spine in ('top', 'right', 'bottom', 'left'):\n",
    "            ax.spines[spine].set_visible(False)\n",
    "\n",
    "    if Alpha is not None:\n",
    "        # sp2\n",
    "        ax2 = f.add_subplot(122)\n",
    "        ax2.plot(t, Alpha, 'r--', alpha=0.7, linewidth=2, label='alpha')\n",
    "\n",
    "        ax2.set_xlabel('Time (days)')\n",
    "        ax2.title.set_text('fatality rate over time')\n",
    "        # ax.set_ylabel('Number (1000s)')\n",
    "        # ax.set_ylim(0,1.2)\n",
    "        ax2.yaxis.set_tick_params(length=0)\n",
    "        ax2.xaxis.set_tick_params(length=0)\n",
    "        ax2.grid(b=True, which='major', c='w', lw=2, ls='-')\n",
    "        legend = ax2.legend()\n",
    "        legend.get_frame().set_alpha(0.5)\n",
    "        for spine in ('top', 'right', 'bottom', 'left'):\n",
    "            ax.spines[spine].set_visible(False)\n",
    "\n",
    "    # plt.show()"
   ]
  },
  {
   "cell_type": "code",
   "execution_count": null,
   "metadata": {},
   "outputs": [],
   "source": [
    "# Add '?raw=true' at the end of the link to the file to get the rawgithubusercontent link.\n",
    "def update_AMR(SEIRD_model_url, SEIRD_model_path):\n",
    "    with urllib.request.urlopen(SEIRD_model_url) as url:\n",
    "        json_object = json.load(url)\n",
    "        with open(SEIRD_model_path, \"w\") as outfile:\n",
    "            json.dump(json_object, outfile)\n",
    "\n",
    "def change_model_parameters(filename, new_params):\n",
    "    # new params = [(param, value), (param, value)]\n",
    "    with open(filename, 'r') as f:\n",
    "        model = json.load(f)\n",
    "        # Change initial parameters\n",
    "        for (param, value) in new_params:\n",
    "            for idx in model[\"semantics\"][\"ode\"][\"parameters\"]:\n",
    "                if idx[\"id\"] == param:\n",
    "                    idx[\"value\"] = value\n",
    "    return model"
   ]
  },
  {
   "cell_type": "code",
   "execution_count": null,
   "metadata": {},
   "outputs": [],
   "source": [
    "num_samples = 1\n",
    "start_time = 0\n",
    "end_time = 31 # Next 4 weeks of the pandemic.\n",
    "num_timepoints = (end_time-start_time)*10 + 1\n",
    "timepoints = list(get_tspan(start_time, end_time, num_timepoints).detach().numpy())"
   ]
  },
  {
   "cell_type": "code",
   "execution_count": 33,
   "metadata": {},
   "outputs": [
    {
     "name": "stdout",
     "output_type": "stream",
     "text": [
      "\n"
     ]
    },
    {
     "data": {
      "application/vnd.vega.v5+json": {
       "$schema": "https://vega.github.io/schema/vega/v5.json",
       "axes": [
        {
         "name": "x_axis",
         "orient": "bottom",
         "scale": "xscale",
         "zindex": 100
        },
        {
         "name": "y_axis",
         "orient": "left",
         "scale": "yscale",
         "zindex": 100
        }
       ],
       "data": [
        {
         "name": "distributions",
         "values": [
          {
           "lower": 4.7999839221505536e-24,
           "timepoint": 0,
           "trajectory": "D_sol",
           "upper": 4.7999839221505536e-24
          },
          {
           "lower": 0.000004780096787726507,
           "timepoint": 0.10000000149011612,
           "trajectory": "D_sol",
           "upper": 0.000004780096787726507
          },
          {
           "lower": 0.000019042798157897778,
           "timepoint": 0.20000000298023224,
           "trajectory": "D_sol",
           "upper": 0.000019042798157897778
          },
          {
           "lower": 0.000042676176235545427,
           "timepoint": 0.30000001192092896,
           "trajectory": "D_sol",
           "upper": 0.000042676176235545427
          },
          {
           "lower": 0.00007557416392955929,
           "timepoint": 0.4000000059604645,
           "trajectory": "D_sol",
           "upper": 0.00007557416392955929
          },
          {
           "lower": 0.00011763614747906104,
           "timepoint": 0.5,
           "trajectory": "D_sol",
           "upper": 0.00011763614747906104
          },
          {
           "lower": 0.00016876714653335512,
           "timepoint": 0.6000000238418579,
           "trajectory": "D_sol",
           "upper": 0.00016876714653335512
          },
          {
           "lower": 0.0002288773248437792,
           "timepoint": 0.699999988079071,
           "trajectory": "D_sol",
           "upper": 0.0002288773248437792
          },
          {
           "lower": 0.00029788201209157705,
           "timepoint": 0.800000011920929,
           "trajectory": "D_sol",
           "upper": 0.00029788201209157705
          },
          {
           "lower": 0.0003757003287319094,
           "timepoint": 0.9000000357627869,
           "trajectory": "D_sol",
           "upper": 0.0003757003287319094
          },
          {
           "lower": 0.0004622582928277552,
           "timepoint": 1,
           "trajectory": "D_sol",
           "upper": 0.0004622582928277552
          },
          {
           "lower": 0.0005574851529672742,
           "timepoint": 1.100000023841858,
           "trajectory": "D_sol",
           "upper": 0.0005574851529672742
          },
          {
           "lower": 0.0006613144651055336,
           "timepoint": 1.2000000476837158,
           "trajectory": "D_sol",
           "upper": 0.0006613144651055336
          },
          {
           "lower": 0.0007736864499747753,
           "timepoint": 1.3000000715255737,
           "trajectory": "D_sol",
           "upper": 0.0007736864499747753
          },
          {
           "lower": 0.0008945410372689366,
           "timepoint": 1.399999976158142,
           "trajectory": "D_sol",
           "upper": 0.0008945410372689366
          },
          {
           "lower": 0.001023826072923839,
           "timepoint": 1.5,
           "trajectory": "D_sol",
           "upper": 0.001023826072923839
          },
          {
           "lower": 0.0011614917311817408,
           "timepoint": 1.600000023841858,
           "trajectory": "D_sol",
           "upper": 0.0011614917311817408
          },
          {
           "lower": 0.0013074916787445545,
           "timepoint": 1.7000000476837158,
           "trajectory": "D_sol",
           "upper": 0.0013074916787445545
          },
          {
           "lower": 0.0014617849374189973,
           "timepoint": 1.8000000715255737,
           "trajectory": "D_sol",
           "upper": 0.0014617849374189973
          },
          {
           "lower": 0.0016243326244875789,
           "timepoint": 1.899999976158142,
           "trajectory": "D_sol",
           "upper": 0.0016243326244875789
          },
          {
           "lower": 0.0017951003974303603,
           "timepoint": 2,
           "trajectory": "D_sol",
           "upper": 0.0017951003974303603
          },
          {
           "lower": 0.0019740567076951265,
           "timepoint": 2.1000001430511475,
           "trajectory": "D_sol",
           "upper": 0.0019740567076951265
          },
          {
           "lower": 0.0021611745469272137,
           "timepoint": 2.200000047683716,
           "trajectory": "D_sol",
           "upper": 0.0021611745469272137
          },
          {
           "lower": 0.0023564263246953487,
           "timepoint": 2.299999952316284,
           "trajectory": "D_sol",
           "upper": 0.0023564263246953487
          },
          {
           "lower": 0.002559792250394821,
           "timepoint": 2.4000000953674316,
           "trajectory": "D_sol",
           "upper": 0.002559792250394821
          },
          {
           "lower": 0.0027712523005902767,
           "timepoint": 2.5,
           "trajectory": "D_sol",
           "upper": 0.0027712523005902767
          },
          {
           "lower": 0.0029907915741205215,
           "timepoint": 2.6000001430511475,
           "trajectory": "D_sol",
           "upper": 0.0029907915741205215
          },
          {
           "lower": 0.0032183993607759476,
           "timepoint": 2.700000047683716,
           "trajectory": "D_sol",
           "upper": 0.0032183993607759476
          },
          {
           "lower": 0.0034540616907179356,
           "timepoint": 2.799999952316284,
           "trajectory": "D_sol",
           "upper": 0.0034540616907179356
          },
          {
           "lower": 0.0036977732088416815,
           "timepoint": 2.9000000953674316,
           "trajectory": "D_sol",
           "upper": 0.0036977732088416815
          },
          {
           "lower": 0.003949529025703669,
           "timepoint": 3,
           "trajectory": "D_sol",
           "upper": 0.003949529025703669
          },
          {
           "lower": 0.004209327977150679,
           "timepoint": 3.1000001430511475,
           "trajectory": "D_sol",
           "upper": 0.004209327977150679
          },
          {
           "lower": 0.004477168433368206,
           "timepoint": 3.200000047683716,
           "trajectory": "D_sol",
           "upper": 0.004477168433368206
          },
          {
           "lower": 0.004753055050969124,
           "timepoint": 3.299999952316284,
           "trajectory": "D_sol",
           "upper": 0.004753055050969124
          },
          {
           "lower": 0.005036994349211454,
           "timepoint": 3.4000000953674316,
           "trajectory": "D_sol",
           "upper": 0.005036994349211454
          },
          {
           "lower": 0.005328991916030645,
           "timepoint": 3.5,
           "trajectory": "D_sol",
           "upper": 0.005328991916030645
          },
          {
           "lower": 0.005629059858620167,
           "timepoint": 3.6000001430511475,
           "trajectory": "D_sol",
           "upper": 0.005629059858620167
          },
          {
           "lower": 0.005937209818512201,
           "timepoint": 3.700000047683716,
           "trajectory": "D_sol",
           "upper": 0.005937209818512201
          },
          {
           "lower": 0.006253455765545368,
           "timepoint": 3.799999952316284,
           "trajectory": "D_sol",
           "upper": 0.006253455765545368
          },
          {
           "lower": 0.006577816791832447,
           "timepoint": 3.9000000953674316,
           "trajectory": "D_sol",
           "upper": 0.006577816791832447
          },
          {
           "lower": 0.006910310126841068,
           "timepoint": 4,
           "trajectory": "D_sol",
           "upper": 0.006910310126841068
          },
          {
           "lower": 0.007250957656651735,
           "timepoint": 4.099999904632568,
           "trajectory": "D_sol",
           "upper": 0.007250957656651735
          },
          {
           "lower": 0.00759978499263525,
           "timepoint": 4.200000286102295,
           "trajectory": "D_sol",
           "upper": 0.00759978499263525
          },
          {
           "lower": 0.007956813089549541,
           "timepoint": 4.300000190734863,
           "trajectory": "D_sol",
           "upper": 0.007956813089549541
          },
          {
           "lower": 0.008322068490087986,
           "timepoint": 4.400000095367432,
           "trajectory": "D_sol",
           "upper": 0.008322068490087986
          },
          {
           "lower": 0.00869558472186327,
           "timepoint": 4.5,
           "trajectory": "D_sol",
           "upper": 0.00869558472186327
          },
          {
           "lower": 0.009077392518520355,
           "timepoint": 4.599999904632568,
           "trajectory": "D_sol",
           "upper": 0.009077392518520355
          },
          {
           "lower": 0.009467526338994503,
           "timepoint": 4.700000286102295,
           "trajectory": "D_sol",
           "upper": 0.009467526338994503
          },
          {
           "lower": 0.009866015985608101,
           "timepoint": 4.800000190734863,
           "trajectory": "D_sol",
           "upper": 0.009866015985608101
          },
          {
           "lower": 0.010272902436554432,
           "timepoint": 4.900000095367432,
           "trajectory": "D_sol",
           "upper": 0.010272902436554432
          },
          {
           "lower": 0.010688222013413906,
           "timepoint": 5,
           "trajectory": "D_sol",
           "upper": 0.010688222013413906
          },
          {
           "lower": 0.011112016625702381,
           "timepoint": 5.099999904632568,
           "trajectory": "D_sol",
           "upper": 0.011112016625702381
          },
          {
           "lower": 0.011544330045580864,
           "timepoint": 5.200000286102295,
           "trajectory": "D_sol",
           "upper": 0.011544330045580864
          },
          {
           "lower": 0.011985202319920063,
           "timepoint": 5.300000190734863,
           "trajectory": "D_sol",
           "upper": 0.011985202319920063
          },
          {
           "lower": 0.012434681877493858,
           "timepoint": 5.400000095367432,
           "trajectory": "D_sol",
           "upper": 0.012434681877493858
          },
          {
           "lower": 0.01289281528443098,
           "timepoint": 5.5,
           "trajectory": "D_sol",
           "upper": 0.01289281528443098
          },
          {
           "lower": 0.013359651900827885,
           "timepoint": 5.599999904632568,
           "trajectory": "D_sol",
           "upper": 0.013359651900827885
          },
          {
           "lower": 0.013835245743393898,
           "timepoint": 5.700000286102295,
           "trajectory": "D_sol",
           "upper": 0.013835245743393898
          },
          {
           "lower": 0.014319648034870625,
           "timepoint": 5.800000190734863,
           "trajectory": "D_sol",
           "upper": 0.014319648034870625
          },
          {
           "lower": 0.014812909066677094,
           "timepoint": 5.900000095367432,
           "trajectory": "D_sol",
           "upper": 0.014812909066677094
          },
          {
           "lower": 0.015315087512135506,
           "timepoint": 6,
           "trajectory": "D_sol",
           "upper": 0.015315087512135506
          },
          {
           "lower": 0.01582624390721321,
           "timepoint": 6.099999904632568,
           "trajectory": "D_sol",
           "upper": 0.01582624390721321
          },
          {
           "lower": 0.016346432268619537,
           "timepoint": 6.200000286102295,
           "trajectory": "D_sol",
           "upper": 0.016346432268619537
          },
          {
           "lower": 0.016875719651579857,
           "timepoint": 6.300000190734863,
           "trajectory": "D_sol",
           "upper": 0.016875719651579857
          },
          {
           "lower": 0.017414165660738945,
           "timepoint": 6.400000095367432,
           "trajectory": "D_sol",
           "upper": 0.017414165660738945
          },
          {
           "lower": 0.017961807548999786,
           "timepoint": 6.5,
           "trajectory": "D_sol",
           "upper": 0.017961807548999786
          },
          {
           "lower": 0.018518751487135887,
           "timepoint": 6.599999904632568,
           "trajectory": "D_sol",
           "upper": 0.018518751487135887
          },
          {
           "lower": 0.019085051491856575,
           "timepoint": 6.700000286102295,
           "trajectory": "D_sol",
           "upper": 0.019085051491856575
          },
          {
           "lower": 0.019660767167806625,
           "timepoint": 6.800000190734863,
           "trajectory": "D_sol",
           "upper": 0.019660767167806625
          },
          {
           "lower": 0.020245974883437157,
           "timepoint": 6.900000095367432,
           "trajectory": "D_sol",
           "upper": 0.020245974883437157
          },
          {
           "lower": 0.02084074728190899,
           "timepoint": 7,
           "trajectory": "D_sol",
           "upper": 0.02084074728190899
          },
          {
           "lower": 0.021445151418447495,
           "timepoint": 7.099999904632568,
           "trajectory": "D_sol",
           "upper": 0.021445151418447495
          },
          {
           "lower": 0.02205926924943924,
           "timepoint": 7.200000286102295,
           "trajectory": "D_sol",
           "upper": 0.02205926924943924
          },
          {
           "lower": 0.022683221846818924,
           "timepoint": 7.300000190734863,
           "trajectory": "D_sol",
           "upper": 0.022683221846818924
          },
          {
           "lower": 0.0233170036226511,
           "timepoint": 7.400000095367432,
           "trajectory": "D_sol",
           "upper": 0.0233170036226511
          },
          {
           "lower": 0.02396073192358017,
           "timepoint": 7.5,
           "trajectory": "D_sol",
           "upper": 0.02396073192358017
          },
          {
           "lower": 0.0246144849807024,
           "timepoint": 7.599999904632568,
           "trajectory": "D_sol",
           "upper": 0.0246144849807024
          },
          {
           "lower": 0.025278348475694656,
           "timepoint": 7.700000286102295,
           "trajectory": "D_sol",
           "upper": 0.025278348475694656
          },
          {
           "lower": 0.025952402502298355,
           "timepoint": 7.800000190734863,
           "trajectory": "D_sol",
           "upper": 0.025952402502298355
          },
          {
           "lower": 0.02663673460483551,
           "timepoint": 7.900000095367432,
           "trajectory": "D_sol",
           "upper": 0.02663673460483551
          },
          {
           "lower": 0.027331432327628136,
           "timepoint": 8,
           "trajectory": "D_sol",
           "upper": 0.027331432327628136
          },
          {
           "lower": 0.028036639094352722,
           "timepoint": 8.100000381469727,
           "trajectory": "D_sol",
           "upper": 0.028036639094352722
          },
          {
           "lower": 0.028752347454428673,
           "timepoint": 8.199999809265137,
           "trajectory": "D_sol",
           "upper": 0.028752347454428673
          },
          {
           "lower": 0.02947870083153248,
           "timepoint": 8.300000190734863,
           "trajectory": "D_sol",
           "upper": 0.02947870083153248
          },
          {
           "lower": 0.030215786769986153,
           "timepoint": 8.40000057220459,
           "trajectory": "D_sol",
           "upper": 0.030215786769986153
          },
          {
           "lower": 0.03096369467675686,
           "timepoint": 8.5,
           "trajectory": "D_sol",
           "upper": 0.03096369467675686
          },
          {
           "lower": 0.0317225344479084,
           "timepoint": 8.600000381469727,
           "trajectory": "D_sol",
           "upper": 0.0317225344479084
          },
          {
           "lower": 0.03249238431453705,
           "timepoint": 8.699999809265137,
           "trajectory": "D_sol",
           "upper": 0.03249238431453705
          },
          {
           "lower": 0.0332733690738678,
           "timepoint": 8.800000190734863,
           "trajectory": "D_sol",
           "upper": 0.0332733690738678
          },
          {
           "lower": 0.034065570682287216,
           "timepoint": 8.90000057220459,
           "trajectory": "D_sol",
           "upper": 0.034065570682287216
          },
          {
           "lower": 0.03486911207437515,
           "timepoint": 9,
           "trajectory": "D_sol",
           "upper": 0.03486911207437515
          },
          {
           "lower": 0.03568407893180847,
           "timepoint": 9.100000381469727,
           "trajectory": "D_sol",
           "upper": 0.03568407893180847
          },
          {
           "lower": 0.03651057556271553,
           "timepoint": 9.199999809265137,
           "trajectory": "D_sol",
           "upper": 0.03651057556271553
          },
          {
           "lower": 0.037348732352256775,
           "timepoint": 9.300000190734863,
           "trajectory": "D_sol",
           "upper": 0.037348732352256775
          },
          {
           "lower": 0.03819863125681877,
           "timepoint": 9.40000057220459,
           "trajectory": "D_sol",
           "upper": 0.03819863125681877
          },
          {
           "lower": 0.03906039893627167,
           "timepoint": 9.5,
           "trajectory": "D_sol",
           "upper": 0.03906039893627167
          },
          {
           "lower": 0.039934150874614716,
           "timepoint": 9.600000381469727,
           "trajectory": "D_sol",
           "upper": 0.039934150874614716
          },
          {
           "lower": 0.04081999137997627,
           "timepoint": 9.699999809265137,
           "trajectory": "D_sol",
           "upper": 0.04081999137997627
          },
          {
           "lower": 0.041718047112226486,
           "timepoint": 9.800000190734863,
           "trajectory": "D_sol",
           "upper": 0.041718047112226486
          },
          {
           "lower": 0.04262842237949371,
           "timepoint": 9.90000057220459,
           "trajectory": "D_sol",
           "upper": 0.04262842237949371
          },
          {
           "lower": 0.04355129972100258,
           "timepoint": 10,
           "trajectory": "D_sol",
           "upper": 0.04355129972100258
          },
          {
           "lower": 0.04448671266436577,
           "timepoint": 10.100000381469727,
           "trajectory": "D_sol",
           "upper": 0.04448671266436577
          },
          {
           "lower": 0.04543481022119522,
           "timepoint": 10.199999809265137,
           "trajectory": "D_sol",
           "upper": 0.04543481022119522
          },
          {
           "lower": 0.04639573395252228,
           "timepoint": 10.300000190734863,
           "trajectory": "D_sol",
           "upper": 0.04639573395252228
          },
          {
           "lower": 0.04736960679292679,
           "timepoint": 10.40000057220459,
           "trajectory": "D_sol",
           "upper": 0.04736960679292679
          },
          {
           "lower": 0.048356544226408005,
           "timepoint": 10.5,
           "trajectory": "D_sol",
           "upper": 0.048356544226408005
          },
          {
           "lower": 0.049356698989868164,
           "timepoint": 10.600000381469727,
           "trajectory": "D_sol",
           "upper": 0.049356698989868164
          },
          {
           "lower": 0.05037017539143562,
           "timepoint": 10.699999809265137,
           "trajectory": "D_sol",
           "upper": 0.05037017539143562
          },
          {
           "lower": 0.051397133618593216,
           "timepoint": 10.800000190734863,
           "trajectory": "D_sol",
           "upper": 0.051397133618593216
          },
          {
           "lower": 0.05243770405650139,
           "timepoint": 10.90000057220459,
           "trajectory": "D_sol",
           "upper": 0.05243770405650139
          },
          {
           "lower": 0.05349200963973999,
           "timepoint": 11,
           "trajectory": "D_sol",
           "upper": 0.05349200963973999
          },
          {
           "lower": 0.05456014350056648,
           "timepoint": 11.100000381469727,
           "trajectory": "D_sol",
           "upper": 0.05456014350056648
          },
          {
           "lower": 0.05564233660697937,
           "timepoint": 11.199999809265137,
           "trajectory": "D_sol",
           "upper": 0.05564233660697937
          },
          {
           "lower": 0.056738708168268204,
           "timepoint": 11.300000190734863,
           "trajectory": "D_sol",
           "upper": 0.056738708168268204
          },
          {
           "lower": 0.05784938484430313,
           "timepoint": 11.40000057220459,
           "trajectory": "D_sol",
           "upper": 0.05784938484430313
          },
          {
           "lower": 0.05897451937198639,
           "timepoint": 11.5,
           "trajectory": "D_sol",
           "upper": 0.05897451937198639
          },
          {
           "lower": 0.06011426821351051,
           "timepoint": 11.600000381469727,
           "trajectory": "D_sol",
           "upper": 0.06011426821351051
          },
          {
           "lower": 0.06126875802874565,
           "timepoint": 11.699999809265137,
           "trajectory": "D_sol",
           "upper": 0.06126875802874565
          },
          {
           "lower": 0.062438175082206726,
           "timepoint": 11.800000190734863,
           "trajectory": "D_sol",
           "upper": 0.062438175082206726
          },
          {
           "lower": 0.06362266093492508,
           "timepoint": 11.90000057220459,
           "trajectory": "D_sol",
           "upper": 0.06362266093492508
          },
          {
           "lower": 0.06482235342264175,
           "timepoint": 12,
           "trajectory": "D_sol",
           "upper": 0.06482235342264175
          },
          {
           "lower": 0.06603743880987167,
           "timepoint": 12.100000381469727,
           "trajectory": "D_sol",
           "upper": 0.06603743880987167
          },
          {
           "lower": 0.0672680139541626,
           "timepoint": 12.199999809265137,
           "trajectory": "D_sol",
           "upper": 0.0672680139541626
          },
          {
           "lower": 0.06851434707641602,
           "timepoint": 12.300000190734863,
           "trajectory": "D_sol",
           "upper": 0.06851434707641602
          },
          {
           "lower": 0.06977653503417969,
           "timepoint": 12.40000057220459,
           "trajectory": "D_sol",
           "upper": 0.06977653503417969
          },
          {
           "lower": 0.07105475664138794,
           "timepoint": 12.5,
           "trajectory": "D_sol",
           "upper": 0.07105475664138794
          },
          {
           "lower": 0.0723491907119751,
           "timepoint": 12.600000381469727,
           "trajectory": "D_sol",
           "upper": 0.0723491907119751
          },
          {
           "lower": 0.07366000860929489,
           "timepoint": 12.699999809265137,
           "trajectory": "D_sol",
           "upper": 0.07366000860929489
          },
          {
           "lower": 0.07498736679553986,
           "timepoint": 12.800000190734863,
           "trajectory": "D_sol",
           "upper": 0.07498736679553986
          },
          {
           "lower": 0.07633145153522491,
           "timepoint": 12.90000057220459,
           "trajectory": "D_sol",
           "upper": 0.07633145153522491
          },
          {
           "lower": 0.0776924341917038,
           "timepoint": 13,
           "trajectory": "D_sol",
           "upper": 0.0776924341917038
          },
          {
           "lower": 0.07907050848007202,
           "timepoint": 13.100000381469727,
           "trajectory": "D_sol",
           "upper": 0.07907050848007202
          },
          {
           "lower": 0.08046583086252213,
           "timepoint": 13.199999809265137,
           "trajectory": "D_sol",
           "upper": 0.08046583086252213
          },
          {
           "lower": 0.08187862485647202,
           "timepoint": 13.300000190734863,
           "trajectory": "D_sol",
           "upper": 0.08187862485647202
          },
          {
           "lower": 0.08330905437469482,
           "timepoint": 13.40000057220459,
           "trajectory": "D_sol",
           "upper": 0.08330905437469482
          },
          {
           "lower": 0.08475729823112488,
           "timepoint": 13.5,
           "trajectory": "D_sol",
           "upper": 0.08475729823112488
          },
          {
           "lower": 0.08622357249259949,
           "timepoint": 13.600000381469727,
           "trajectory": "D_sol",
           "upper": 0.08622357249259949
          },
          {
           "lower": 0.08770804852247238,
           "timepoint": 13.699999809265137,
           "trajectory": "D_sol",
           "upper": 0.08770804852247238
          },
          {
           "lower": 0.08921094983816147,
           "timepoint": 13.800000190734863,
           "trajectory": "D_sol",
           "upper": 0.08921094983816147
          },
          {
           "lower": 0.09073245525360107,
           "timepoint": 13.90000057220459,
           "trajectory": "D_sol",
           "upper": 0.09073245525360107
          },
          {
           "lower": 0.09227275103330612,
           "timepoint": 14,
           "trajectory": "D_sol",
           "upper": 0.09227275103330612
          },
          {
           "lower": 0.09383207559585571,
           "timepoint": 14.100000381469727,
           "trajectory": "D_sol",
           "upper": 0.09383207559585571
          },
          {
           "lower": 0.09541061520576477,
           "timepoint": 14.199999809265137,
           "trajectory": "D_sol",
           "upper": 0.09541061520576477
          },
          {
           "lower": 0.0970086008310318,
           "timepoint": 14.300000190734863,
           "trajectory": "D_sol",
           "upper": 0.0970086008310318
          },
          {
           "lower": 0.09862621873617172,
           "timepoint": 14.40000057220459,
           "trajectory": "D_sol",
           "upper": 0.09862621873617172
          },
          {
           "lower": 0.10026367008686066,
           "timepoint": 14.5,
           "trajectory": "D_sol",
           "upper": 0.10026367008686066
          },
          {
           "lower": 0.1019212156534195,
           "timepoint": 14.600000381469727,
           "trajectory": "D_sol",
           "upper": 0.1019212156534195
          },
          {
           "lower": 0.10359904915094376,
           "timepoint": 14.699999809265137,
           "trajectory": "D_sol",
           "upper": 0.10359904915094376
          },
          {
           "lower": 0.10529737919569016,
           "timepoint": 14.800000190734863,
           "trajectory": "D_sol",
           "upper": 0.10529737919569016
          },
          {
           "lower": 0.10701645910739899,
           "timepoint": 14.90000057220459,
           "trajectory": "D_sol",
           "upper": 0.10701645910739899
          },
          {
           "lower": 0.10875649005174637,
           "timepoint": 15,
           "trajectory": "D_sol",
           "upper": 0.10875649005174637
          },
          {
           "lower": 0.1105177253484726,
           "timepoint": 15.100000381469727,
           "trajectory": "D_sol",
           "upper": 0.1105177253484726
          },
          {
           "lower": 0.11230038106441498,
           "timepoint": 15.199999809265137,
           "trajectory": "D_sol",
           "upper": 0.11230038106441498
          },
          {
           "lower": 0.11410471051931381,
           "timepoint": 15.300000190734863,
           "trajectory": "D_sol",
           "upper": 0.11410471051931381
          },
          {
           "lower": 0.11593092978000641,
           "timepoint": 15.40000057220459,
           "trajectory": "D_sol",
           "upper": 0.11593092978000641
          },
          {
           "lower": 0.11777929216623306,
           "timepoint": 15.5,
           "trajectory": "D_sol",
           "upper": 0.11777929216623306
          },
          {
           "lower": 0.11965003609657288,
           "timepoint": 15.59999942779541,
           "trajectory": "D_sol",
           "upper": 0.11965003609657288
          },
          {
           "lower": 0.12154342234134674,
           "timepoint": 15.699999809265137,
           "trajectory": "D_sol",
           "upper": 0.12154342234134674
          },
          {
           "lower": 0.12345969676971436,
           "timepoint": 15.800000190734863,
           "trajectory": "D_sol",
           "upper": 0.12345969676971436
          },
          {
           "lower": 0.12539909780025482,
           "timepoint": 15.899999618530273,
           "trajectory": "D_sol",
           "upper": 0.12539909780025482
          },
          {
           "lower": 0.12736187875270844,
           "timepoint": 16,
           "trajectory": "D_sol",
           "upper": 0.12736187875270844
          },
          {
           "lower": 0.12934830784797668,
           "timepoint": 16.099998474121094,
           "trajectory": "D_sol",
           "upper": 0.12934830784797668
          },
          {
           "lower": 0.13135869801044464,
           "timepoint": 16.200000762939453,
           "trajectory": "D_sol",
           "upper": 0.13135869801044464
          },
          {
           "lower": 0.13339321315288544,
           "timepoint": 16.299999237060547,
           "trajectory": "D_sol",
           "upper": 0.13339321315288544
          },
          {
           "lower": 0.1354522407054901,
           "timepoint": 16.399999618530273,
           "trajectory": "D_sol",
           "upper": 0.1354522407054901
          },
          {
           "lower": 0.1375359296798706,
           "timepoint": 16.5,
           "trajectory": "D_sol",
           "upper": 0.1375359296798706
          },
          {
           "lower": 0.13964462280273438,
           "timepoint": 16.599998474121094,
           "trajectory": "D_sol",
           "upper": 0.13964462280273438
          },
          {
           "lower": 0.14177864789962769,
           "timepoint": 16.700000762939453,
           "trajectory": "D_sol",
           "upper": 0.14177864789962769
          },
          {
           "lower": 0.14393815398216248,
           "timepoint": 16.799999237060547,
           "trajectory": "D_sol",
           "upper": 0.14393815398216248
          },
          {
           "lower": 0.1461234986782074,
           "timepoint": 16.899999618530273,
           "trajectory": "D_sol",
           "upper": 0.1461234986782074
          },
          {
           "lower": 0.14833500981330872,
           "timepoint": 17,
           "trajectory": "D_sol",
           "upper": 0.14833500981330872
          },
          {
           "lower": 0.15057286620140076,
           "timepoint": 17.099998474121094,
           "trajectory": "D_sol",
           "upper": 0.15057286620140076
          },
          {
           "lower": 0.15283754467964172,
           "timepoint": 17.200000762939453,
           "trajectory": "D_sol",
           "upper": 0.15283754467964172
          },
          {
           "lower": 0.15512911975383759,
           "timepoint": 17.299999237060547,
           "trajectory": "D_sol",
           "upper": 0.15512911975383759
          },
          {
           "lower": 0.15744808316230774,
           "timepoint": 17.399999618530273,
           "trajectory": "D_sol",
           "upper": 0.15744808316230774
          },
          {
           "lower": 0.1597946286201477,
           "timepoint": 17.5,
           "trajectory": "D_sol",
           "upper": 0.1597946286201477
          },
          {
           "lower": 0.16216950118541718,
           "timepoint": 17.599998474121094,
           "trajectory": "D_sol",
           "upper": 0.16216950118541718
          },
          {
           "lower": 0.1645723581314087,
           "timepoint": 17.700000762939453,
           "trajectory": "D_sol",
           "upper": 0.1645723581314087
          },
          {
           "lower": 0.16700369119644165,
           "timepoint": 17.799999237060547,
           "trajectory": "D_sol",
           "upper": 0.16700369119644165
          },
          {
           "lower": 0.16946394741535187,
           "timepoint": 17.899999618530273,
           "trajectory": "D_sol",
           "upper": 0.16946394741535187
          },
          {
           "lower": 0.17195339500904083,
           "timepoint": 18,
           "trajectory": "D_sol",
           "upper": 0.17195339500904083
          },
          {
           "lower": 0.174472376704216,
           "timepoint": 18.099998474121094,
           "trajectory": "D_sol",
           "upper": 0.174472376704216
          },
          {
           "lower": 0.17702129483222961,
           "timepoint": 18.200000762939453,
           "trajectory": "D_sol",
           "upper": 0.17702129483222961
          },
          {
           "lower": 0.1796003133058548,
           "timepoint": 18.299999237060547,
           "trajectory": "D_sol",
           "upper": 0.1796003133058548
          },
          {
           "lower": 0.18220993876457214,
           "timepoint": 18.399999618530273,
           "trajectory": "D_sol",
           "upper": 0.18220993876457214
          },
          {
           "lower": 0.18485042452812195,
           "timepoint": 18.5,
           "trajectory": "D_sol",
           "upper": 0.18485042452812195
          },
          {
           "lower": 0.18752211332321167,
           "timepoint": 18.599998474121094,
           "trajectory": "D_sol",
           "upper": 0.18752211332321167
          },
          {
           "lower": 0.1902254968881607,
           "timepoint": 18.700000762939453,
           "trajectory": "D_sol",
           "upper": 0.1902254968881607
          },
          {
           "lower": 0.1929606944322586,
           "timepoint": 18.799999237060547,
           "trajectory": "D_sol",
           "upper": 0.1929606944322586
          },
          {
           "lower": 0.19572827219963074,
           "timepoint": 18.899999618530273,
           "trajectory": "D_sol",
           "upper": 0.19572827219963074
          },
          {
           "lower": 0.1985289454460144,
           "timepoint": 19,
           "trajectory": "D_sol",
           "upper": 0.1985289454460144
          },
          {
           "lower": 0.2013622373342514,
           "timepoint": 19.099998474121094,
           "trajectory": "D_sol",
           "upper": 0.2013622373342514
          },
          {
           "lower": 0.20422908663749695,
           "timepoint": 19.200000762939453,
           "trajectory": "D_sol",
           "upper": 0.20422908663749695
          },
          {
           "lower": 0.2071295827627182,
           "timepoint": 19.299999237060547,
           "trajectory": "D_sol",
           "upper": 0.2071295827627182
          },
          {
           "lower": 0.2100643515586853,
           "timepoint": 19.399999618530273,
           "trajectory": "D_sol",
           "upper": 0.2100643515586853
          },
          {
           "lower": 0.21303367614746094,
           "timepoint": 19.5,
           "trajectory": "D_sol",
           "upper": 0.21303367614746094
          },
          {
           "lower": 0.21603789925575256,
           "timepoint": 19.599998474121094,
           "trajectory": "D_sol",
           "upper": 0.21603789925575256
          },
          {
           "lower": 0.21907760202884674,
           "timepoint": 19.700000762939453,
           "trajectory": "D_sol",
           "upper": 0.21907760202884674
          },
          {
           "lower": 0.2221529483795166,
           "timepoint": 19.799999237060547,
           "trajectory": "D_sol",
           "upper": 0.2221529483795166
          },
          {
           "lower": 0.22526448965072632,
           "timepoint": 19.899999618530273,
           "trajectory": "D_sol",
           "upper": 0.22526448965072632
          },
          {
           "lower": 0.22841261327266693,
           "timepoint": 20,
           "trajectory": "D_sol",
           "upper": 0.22841261327266693
          },
          {
           "lower": 0.23159770667552948,
           "timepoint": 20.099998474121094,
           "trajectory": "D_sol",
           "upper": 0.23159770667552948
          },
          {
           "lower": 0.23482029139995575,
           "timepoint": 20.200000762939453,
           "trajectory": "D_sol",
           "upper": 0.23482029139995575
          },
          {
           "lower": 0.23808060586452484,
           "timepoint": 20.299999237060547,
           "trajectory": "D_sol",
           "upper": 0.23808060586452484
          },
          {
           "lower": 0.24137894809246063,
           "timepoint": 20.399999618530273,
           "trajectory": "D_sol",
           "upper": 0.24137894809246063
          },
          {
           "lower": 0.24471619725227356,
           "timepoint": 20.5,
           "trajectory": "D_sol",
           "upper": 0.24471619725227356
          },
          {
           "lower": 0.24809254705905914,
           "timepoint": 20.599998474121094,
           "trajectory": "D_sol",
           "upper": 0.24809254705905914
          },
          {
           "lower": 0.25150859355926514,
           "timepoint": 20.700000762939453,
           "trajectory": "D_sol",
           "upper": 0.25150859355926514
          },
          {
           "lower": 0.25496456027030945,
           "timepoint": 20.799999237060547,
           "trajectory": "D_sol",
           "upper": 0.25496456027030945
          },
          {
           "lower": 0.25846102833747864,
           "timepoint": 20.899999618530273,
           "trajectory": "D_sol",
           "upper": 0.25846102833747864
          },
          {
           "lower": 0.2619984745979309,
           "timepoint": 21,
           "trajectory": "D_sol",
           "upper": 0.2619984745979309
          },
          {
           "lower": 0.2655772566795349,
           "timepoint": 21.099998474121094,
           "trajectory": "D_sol",
           "upper": 0.2655772566795349
          },
          {
           "lower": 0.2691980302333832,
           "timepoint": 21.200000762939453,
           "trajectory": "D_sol",
           "upper": 0.2691980302333832
          },
          {
           "lower": 0.2728610336780548,
           "timepoint": 21.299999237060547,
           "trajectory": "D_sol",
           "upper": 0.2728610336780548
          },
          {
           "lower": 0.27656692266464233,
           "timepoint": 21.399999618530273,
           "trajectory": "D_sol",
           "upper": 0.27656692266464233
          },
          {
           "lower": 0.28031617403030396,
           "timepoint": 21.5,
           "trajectory": "D_sol",
           "upper": 0.28031617403030396
          },
          {
           "lower": 0.2841092050075531,
           "timepoint": 21.599998474121094,
           "trajectory": "D_sol",
           "upper": 0.2841092050075531
          },
          {
           "lower": 0.2879467010498047,
           "timepoint": 21.700000762939453,
           "trajectory": "D_sol",
           "upper": 0.2879467010498047
          },
          {
           "lower": 0.29182887077331543,
           "timepoint": 21.799999237060547,
           "trajectory": "D_sol",
           "upper": 0.29182887077331543
          },
          {
           "lower": 0.29575657844543457,
           "timepoint": 21.899999618530273,
           "trajectory": "D_sol",
           "upper": 0.29575657844543457
          },
          {
           "lower": 0.29973000288009644,
           "timepoint": 22,
           "trajectory": "D_sol",
           "upper": 0.29973000288009644
          },
          {
           "lower": 0.3037497401237488,
           "timepoint": 22.099998474121094,
           "trajectory": "D_sol",
           "upper": 0.3037497401237488
          },
          {
           "lower": 0.3078165352344513,
           "timepoint": 22.200000762939453,
           "trajectory": "D_sol",
           "upper": 0.3078165352344513
          },
          {
           "lower": 0.3119306266307831,
           "timepoint": 22.299999237060547,
           "trajectory": "D_sol",
           "upper": 0.3119306266307831
          },
          {
           "lower": 0.31609275937080383,
           "timepoint": 22.399999618530273,
           "trajectory": "D_sol",
           "upper": 0.31609275937080383
          },
          {
           "lower": 0.32030346989631653,
           "timepoint": 22.5,
           "trajectory": "D_sol",
           "upper": 0.32030346989631653
          },
          {
           "lower": 0.3245631158351898,
           "timepoint": 22.599998474121094,
           "trajectory": "D_sol",
           "upper": 0.3245631158351898
          },
          {
           "lower": 0.32887259125709534,
           "timepoint": 22.700000762939453,
           "trajectory": "D_sol",
           "upper": 0.32887259125709534
          },
          {
           "lower": 0.33323216438293457,
           "timepoint": 22.799999237060547,
           "trajectory": "D_sol",
           "upper": 0.33323216438293457
          },
          {
           "lower": 0.3376425504684448,
           "timepoint": 22.899999618530273,
           "trajectory": "D_sol",
           "upper": 0.3376425504684448
          },
          {
           "lower": 0.34210434556007385,
           "timepoint": 23,
           "trajectory": "D_sol",
           "upper": 0.34210434556007385
          },
          {
           "lower": 0.34661805629730225,
           "timepoint": 23.100000381469727,
           "trajectory": "D_sol",
           "upper": 0.34661805629730225
          },
          {
           "lower": 0.3511843681335449,
           "timepoint": 23.200000762939453,
           "trajectory": "D_sol",
           "upper": 0.3511843681335449
          },
          {
           "lower": 0.3558039963245392,
           "timepoint": 23.299999237060547,
           "trajectory": "D_sol",
           "upper": 0.3558039963245392
          },
          {
           "lower": 0.3604772388935089,
           "timepoint": 23.399999618530273,
           "trajectory": "D_sol",
           "upper": 0.3604772388935089
          },
          {
           "lower": 0.3652048707008362,
           "timepoint": 23.5,
           "trajectory": "D_sol",
           "upper": 0.3652048707008362
          },
          {
           "lower": 0.36998748779296875,
           "timepoint": 23.600000381469727,
           "trajectory": "D_sol",
           "upper": 0.36998748779296875
          },
          {
           "lower": 0.37482571601867676,
           "timepoint": 23.700000762939453,
           "trajectory": "D_sol",
           "upper": 0.37482571601867676
          },
          {
           "lower": 0.37972012162208557,
           "timepoint": 23.799999237060547,
           "trajectory": "D_sol",
           "upper": 0.37972012162208557
          },
          {
           "lower": 0.38467153906822205,
           "timepoint": 23.899999618530273,
           "trajectory": "D_sol",
           "upper": 0.38467153906822205
          },
          {
           "lower": 0.38968050479888916,
           "timepoint": 24,
           "trajectory": "D_sol",
           "upper": 0.38968050479888916
          },
          {
           "lower": 0.39474761486053467,
           "timepoint": 24.100000381469727,
           "trajectory": "D_sol",
           "upper": 0.39474761486053467
          },
          {
           "lower": 0.3998737037181854,
           "timepoint": 24.200000762939453,
           "trajectory": "D_sol",
           "upper": 0.3998737037181854
          },
          {
           "lower": 0.40505918860435486,
           "timepoint": 24.299999237060547,
           "trajectory": "D_sol",
           "upper": 0.40505918860435486
          },
          {
           "lower": 0.41030505299568176,
           "timepoint": 24.399999618530273,
           "trajectory": "D_sol",
           "upper": 0.41030505299568176
          },
          {
           "lower": 0.41561174392700195,
           "timepoint": 24.5,
           "trajectory": "D_sol",
           "upper": 0.41561174392700195
          },
          {
           "lower": 0.4209800958633423,
           "timepoint": 24.600000381469727,
           "trajectory": "D_sol",
           "upper": 0.4209800958633423
          },
          {
           "lower": 0.42641156911849976,
           "timepoint": 24.700000762939453,
           "trajectory": "D_sol",
           "upper": 0.42641156911849976
          },
          {
           "lower": 0.4319053590297699,
           "timepoint": 24.799999237060547,
           "trajectory": "D_sol",
           "upper": 0.4319053590297699
          },
          {
           "lower": 0.43746304512023926,
           "timepoint": 24.899999618530273,
           "trajectory": "D_sol",
           "upper": 0.43746304512023926
          },
          {
           "lower": 0.44308528304100037,
           "timepoint": 25,
           "trajectory": "D_sol",
           "upper": 0.44308528304100037
          },
          {
           "lower": 0.448772668838501,
           "timepoint": 25.100000381469727,
           "trajectory": "D_sol",
           "upper": 0.448772668838501
          },
          {
           "lower": 0.4545261561870575,
           "timepoint": 25.200000762939453,
           "trajectory": "D_sol",
           "upper": 0.4545261561870575
          },
          {
           "lower": 0.4603462815284729,
           "timepoint": 25.299999237060547,
           "trajectory": "D_sol",
           "upper": 0.4603462815284729
          },
          {
           "lower": 0.4662340581417084,
           "timepoint": 25.399999618530273,
           "trajectory": "D_sol",
           "upper": 0.4662340581417084
          },
          {
           "lower": 0.47219014167785645,
           "timepoint": 25.5,
           "trajectory": "D_sol",
           "upper": 0.47219014167785645
          },
          {
           "lower": 0.47821536660194397,
           "timepoint": 25.600000381469727,
           "trajectory": "D_sol",
           "upper": 0.47821536660194397
          },
          {
           "lower": 0.48431041836738586,
           "timepoint": 25.700000762939453,
           "trajectory": "D_sol",
           "upper": 0.48431041836738586
          },
          {
           "lower": 0.4904760718345642,
           "timepoint": 25.799999237060547,
           "trajectory": "D_sol",
           "upper": 0.4904760718345642
          },
          {
           "lower": 0.49671339988708496,
           "timepoint": 25.899999618530273,
           "trajectory": "D_sol",
           "upper": 0.49671339988708496
          },
          {
           "lower": 0.503023087978363,
           "timepoint": 26,
           "trajectory": "D_sol",
           "upper": 0.503023087978363
          },
          {
           "lower": 0.5094058513641357,
           "timepoint": 26.100000381469727,
           "trajectory": "D_sol",
           "upper": 0.5094058513641357
          },
          {
           "lower": 0.5158612132072449,
           "timepoint": 26.200000762939453,
           "trajectory": "D_sol",
           "upper": 0.5158612132072449
          },
          {
           "lower": 0.5223924517631531,
           "timepoint": 26.299999237060547,
           "trajectory": "D_sol",
           "upper": 0.5223924517631531
          },
          {
           "lower": 0.5289995670318604,
           "timepoint": 26.399999618530273,
           "trajectory": "D_sol",
           "upper": 0.5289995670318604
          },
          {
           "lower": 0.535683274269104,
           "timepoint": 26.5,
           "trajectory": "D_sol",
           "upper": 0.535683274269104
          },
          {
           "lower": 0.5424444079399109,
           "timepoint": 26.600000381469727,
           "trajectory": "D_sol",
           "upper": 0.5424444079399109
          },
          {
           "lower": 0.5492837429046631,
           "timepoint": 26.700000762939453,
           "trajectory": "D_sol",
           "upper": 0.5492837429046631
          },
          {
           "lower": 0.5562022924423218,
           "timepoint": 26.799999237060547,
           "trajectory": "D_sol",
           "upper": 0.5562022924423218
          },
          {
           "lower": 0.5632011294364929,
           "timepoint": 26.899999618530273,
           "trajectory": "D_sol",
           "upper": 0.5632011294364929
          },
          {
           "lower": 0.570280909538269,
           "timepoint": 27,
           "trajectory": "D_sol",
           "upper": 0.570280909538269
          },
          {
           "lower": 0.5774427652359009,
           "timepoint": 27.100000381469727,
           "trajectory": "D_sol",
           "upper": 0.5774427652359009
          },
          {
           "lower": 0.5846875309944153,
           "timepoint": 27.200000762939453,
           "trajectory": "D_sol",
           "upper": 0.5846875309944153
          },
          {
           "lower": 0.5920159816741943,
           "timepoint": 27.299999237060547,
           "trajectory": "D_sol",
           "upper": 0.5920159816741943
          },
          {
           "lower": 0.5994294285774231,
           "timepoint": 27.399999618530273,
           "trajectory": "D_sol",
           "upper": 0.5994294285774231
          },
          {
           "lower": 0.6069287061691284,
           "timepoint": 27.5,
           "trajectory": "D_sol",
           "upper": 0.6069287061691284
          },
          {
           "lower": 0.6145147085189819,
           "timepoint": 27.600000381469727,
           "trajectory": "D_sol",
           "upper": 0.6145147085189819
          },
          {
           "lower": 0.6221886873245239,
           "timepoint": 27.700000762939453,
           "trajectory": "D_sol",
           "upper": 0.6221886873245239
          },
          {
           "lower": 0.6299511790275574,
           "timepoint": 27.799999237060547,
           "trajectory": "D_sol",
           "upper": 0.6299511790275574
          },
          {
           "lower": 0.6378037929534912,
           "timepoint": 27.899999618530273,
           "trajectory": "D_sol",
           "upper": 0.6378037929534912
          },
          {
           "lower": 0.6457473039627075,
           "timepoint": 28,
           "trajectory": "D_sol",
           "upper": 0.6457473039627075
          },
          {
           "lower": 0.6537827849388123,
           "timepoint": 28.100000381469727,
           "trajectory": "D_sol",
           "upper": 0.6537827849388123
          },
          {
           "lower": 0.6619111895561218,
           "timepoint": 28.200000762939453,
           "trajectory": "D_sol",
           "upper": 0.6619111895561218
          },
          {
           "lower": 0.6701334714889526,
           "timepoint": 28.299999237060547,
           "trajectory": "D_sol",
           "upper": 0.6701334714889526
          },
          {
           "lower": 0.6784511804580688,
           "timepoint": 28.399999618530273,
           "trajectory": "D_sol",
           "upper": 0.6784511804580688
          },
          {
           "lower": 0.6868650913238525,
           "timepoint": 28.5,
           "trajectory": "D_sol",
           "upper": 0.6868650913238525
          },
          {
           "lower": 0.695376455783844,
           "timepoint": 28.600000381469727,
           "trajectory": "D_sol",
           "upper": 0.695376455783844
          },
          {
           "lower": 0.7039862275123596,
           "timepoint": 28.700000762939453,
           "trajectory": "D_sol",
           "upper": 0.7039862275123596
          },
          {
           "lower": 0.7126955986022949,
           "timepoint": 28.799999237060547,
           "trajectory": "D_sol",
           "upper": 0.7126955986022949
          },
          {
           "lower": 0.721505880355835,
           "timepoint": 28.899999618530273,
           "trajectory": "D_sol",
           "upper": 0.721505880355835
          },
          {
           "lower": 0.7304180264472961,
           "timepoint": 29,
           "trajectory": "D_sol",
           "upper": 0.7304180264472961
          },
          {
           "lower": 0.7394301295280457,
           "timepoint": 29.100000381469727,
           "trajectory": "D_sol",
           "upper": 0.7394301295280457
          },
          {
           "lower": 0.7485491037368774,
           "timepoint": 29.200000762939453,
           "trajectory": "D_sol",
           "upper": 0.7485491037368774
          },
          {
           "lower": 0.7577733993530273,
           "timepoint": 29.299999237060547,
           "trajectory": "D_sol",
           "upper": 0.7577733993530273
          },
          {
           "lower": 0.76710444688797,
           "timepoint": 29.399999618530273,
           "trajectory": "D_sol",
           "upper": 0.76710444688797
          },
          {
           "lower": 0.7765433192253113,
           "timepoint": 29.5,
           "trajectory": "D_sol",
           "upper": 0.7765433192253113
          },
          {
           "lower": 0.7860913276672363,
           "timepoint": 29.600000381469727,
           "trajectory": "D_sol",
           "upper": 0.7860913276672363
          },
          {
           "lower": 0.7957497835159302,
           "timepoint": 29.700000762939453,
           "trajectory": "D_sol",
           "upper": 0.7957497835159302
          },
          {
           "lower": 0.8055195808410645,
           "timepoint": 29.799999237060547,
           "trajectory": "D_sol",
           "upper": 0.8055195808410645
          },
          {
           "lower": 0.8154024481773376,
           "timepoint": 29.899999618530273,
           "trajectory": "D_sol",
           "upper": 0.8154024481773376
          },
          {
           "lower": 0.8253995776176453,
           "timepoint": 30,
           "trajectory": "D_sol",
           "upper": 0.8253995776176453
          },
          {
           "lower": 0.8355122804641724,
           "timepoint": 30.100000381469727,
           "trajectory": "D_sol",
           "upper": 0.8355122804641724
          },
          {
           "lower": 0.8457418084144592,
           "timepoint": 30.200000762939453,
           "trajectory": "D_sol",
           "upper": 0.8457418084144592
          },
          {
           "lower": 0.8560892939567566,
           "timepoint": 30.299999237060547,
           "trajectory": "D_sol",
           "upper": 0.8560892939567566
          },
          {
           "lower": 0.8665566444396973,
           "timepoint": 30.399999618530273,
           "trajectory": "D_sol",
           "upper": 0.8665566444396973
          },
          {
           "lower": 0.8771465420722961,
           "timepoint": 30.5,
           "trajectory": "D_sol",
           "upper": 0.8771465420722961
          },
          {
           "lower": 0.8878573179244995,
           "timepoint": 30.600000381469727,
           "trajectory": "D_sol",
           "upper": 0.8878573179244995
          },
          {
           "lower": 0.8986919522285461,
           "timepoint": 30.700000762939453,
           "trajectory": "D_sol",
           "upper": 0.8986919522285461
          },
          {
           "lower": 0.909651517868042,
           "timepoint": 30.799999237060547,
           "trajectory": "D_sol",
           "upper": 0.909651517868042
          },
          {
           "lower": 0.9207379221916199,
           "timepoint": 30.899999618530273,
           "trajectory": "D_sol",
           "upper": 0.9207379221916199
          },
          {
           "lower": 0.9319524168968201,
           "timepoint": 31,
           "trajectory": "D_sol",
           "upper": 0.9319524168968201
          },
          {
           "lower": 1,
           "timepoint": 0,
           "trajectory": "E_sol",
           "upper": 1
          },
          {
           "lower": 1.098861813545227,
           "timepoint": 0.10000000149011612,
           "trajectory": "E_sol",
           "upper": 1.098861813545227
          },
          {
           "lower": 1.1955137252807617,
           "timepoint": 0.20000000298023224,
           "trajectory": "E_sol",
           "upper": 1.1955137252807617
          },
          {
           "lower": 1.2900716066360474,
           "timepoint": 0.30000001192092896,
           "trajectory": "E_sol",
           "upper": 1.2900716066360474
          },
          {
           "lower": 1.3826217651367188,
           "timepoint": 0.4000000059604645,
           "trajectory": "E_sol",
           "upper": 1.3826217651367188
          },
          {
           "lower": 1.4732617139816284,
           "timepoint": 0.5,
           "trajectory": "E_sol",
           "upper": 1.4732617139816284
          },
          {
           "lower": 1.5620859861373901,
           "timepoint": 0.6000000238418579,
           "trajectory": "E_sol",
           "upper": 1.5620859861373901
          },
          {
           "lower": 1.6491819620132446,
           "timepoint": 0.699999988079071,
           "trajectory": "E_sol",
           "upper": 1.6491819620132446
          },
          {
           "lower": 1.7346352338790894,
           "timepoint": 0.800000011920929,
           "trajectory": "E_sol",
           "upper": 1.7346352338790894
          },
          {
           "lower": 1.8185317516326904,
           "timepoint": 0.9000000357627869,
           "trajectory": "E_sol",
           "upper": 1.8185317516326904
          },
          {
           "lower": 1.9009463787078857,
           "timepoint": 1,
           "trajectory": "E_sol",
           "upper": 1.9009463787078857
          },
          {
           "lower": 1.9819575548171997,
           "timepoint": 1.100000023841858,
           "trajectory": "E_sol",
           "upper": 1.9819575548171997
          },
          {
           "lower": 2.0616390705108643,
           "timepoint": 1.2000000476837158,
           "trajectory": "E_sol",
           "upper": 2.0616390705108643
          },
          {
           "lower": 2.140061855316162,
           "timepoint": 1.3000000715255737,
           "trajectory": "E_sol",
           "upper": 2.140061855316162
          },
          {
           "lower": 2.2172958850860596,
           "timepoint": 1.399999976158142,
           "trajectory": "E_sol",
           "upper": 2.2172958850860596
          },
          {
           "lower": 2.2934062480926514,
           "timepoint": 1.5,
           "trajectory": "E_sol",
           "upper": 2.2934062480926514
          },
          {
           "lower": 2.3684580326080322,
           "timepoint": 1.600000023841858,
           "trajectory": "E_sol",
           "upper": 2.3684580326080322
          },
          {
           "lower": 2.442516565322876,
           "timepoint": 1.7000000476837158,
           "trajectory": "E_sol",
           "upper": 2.442516565322876
          },
          {
           "lower": 2.5156362056732178,
           "timepoint": 1.8000000715255737,
           "trajectory": "E_sol",
           "upper": 2.5156362056732178
          },
          {
           "lower": 2.587876558303833,
           "timepoint": 1.899999976158142,
           "trajectory": "E_sol",
           "upper": 2.587876558303833
          },
          {
           "lower": 2.6592936515808105,
           "timepoint": 2,
           "trajectory": "E_sol",
           "upper": 2.6592936515808105
          },
          {
           "lower": 2.7299416065216064,
           "timepoint": 2.1000001430511475,
           "trajectory": "E_sol",
           "upper": 2.7299416065216064
          },
          {
           "lower": 2.799875020980835,
           "timepoint": 2.200000047683716,
           "trajectory": "E_sol",
           "upper": 2.799875020980835
          },
          {
           "lower": 2.869140386581421,
           "timepoint": 2.299999952316284,
           "trajectory": "E_sol",
           "upper": 2.869140386581421
          },
          {
           "lower": 2.9377880096435547,
           "timepoint": 2.4000000953674316,
           "trajectory": "E_sol",
           "upper": 2.9377880096435547
          },
          {
           "lower": 3.0058646202087402,
           "timepoint": 2.5,
           "trajectory": "E_sol",
           "upper": 3.0058646202087402
          },
          {
           "lower": 3.0734171867370605,
           "timepoint": 2.6000001430511475,
           "trajectory": "E_sol",
           "upper": 3.0734171867370605
          },
          {
           "lower": 3.1404879093170166,
           "timepoint": 2.700000047683716,
           "trajectory": "E_sol",
           "upper": 3.1404879093170166
          },
          {
           "lower": 3.207120656967163,
           "timepoint": 2.799999952316284,
           "trajectory": "E_sol",
           "upper": 3.207120656967163
          },
          {
           "lower": 3.2733561992645264,
           "timepoint": 2.9000000953674316,
           "trajectory": "E_sol",
           "upper": 3.2733561992645264
          },
          {
           "lower": 3.3392345905303955,
           "timepoint": 3,
           "trajectory": "E_sol",
           "upper": 3.3392345905303955
          },
          {
           "lower": 3.404794692993164,
           "timepoint": 3.1000001430511475,
           "trajectory": "E_sol",
           "upper": 3.404794692993164
          },
          {
           "lower": 3.4700803756713867,
           "timepoint": 3.200000047683716,
           "trajectory": "E_sol",
           "upper": 3.4700803756713867
          },
          {
           "lower": 3.535118341445923,
           "timepoint": 3.299999952316284,
           "trajectory": "E_sol",
           "upper": 3.535118341445923
          },
          {
           "lower": 3.599947452545166,
           "timepoint": 3.4000000953674316,
           "trajectory": "E_sol",
           "upper": 3.599947452545166
          },
          {
           "lower": 3.6646018028259277,
           "timepoint": 3.5,
           "trajectory": "E_sol",
           "upper": 3.6646018028259277
          },
          {
           "lower": 3.729114294052124,
           "timepoint": 3.6000001430511475,
           "trajectory": "E_sol",
           "upper": 3.729114294052124
          },
          {
           "lower": 3.7935173511505127,
           "timepoint": 3.700000047683716,
           "trajectory": "E_sol",
           "upper": 3.7935173511505127
          },
          {
           "lower": 3.857853412628174,
           "timepoint": 3.799999952316284,
           "trajectory": "E_sol",
           "upper": 3.857853412628174
          },
          {
           "lower": 3.9221367835998535,
           "timepoint": 3.9000000953674316,
           "trajectory": "E_sol",
           "upper": 3.9221367835998535
          },
          {
           "lower": 3.986402988433838,
           "timepoint": 4,
           "trajectory": "E_sol",
           "upper": 3.986402988433838
          },
          {
           "lower": 4.050680637359619,
           "timepoint": 4.099999904632568,
           "trajectory": "E_sol",
           "upper": 4.050680637359619
          },
          {
           "lower": 4.114997863769531,
           "timepoint": 4.200000286102295,
           "trajectory": "E_sol",
           "upper": 4.114997863769531
          },
          {
           "lower": 4.179380893707275,
           "timepoint": 4.300000190734863,
           "trajectory": "E_sol",
           "upper": 4.179380893707275
          },
          {
           "lower": 4.243865013122559,
           "timepoint": 4.400000095367432,
           "trajectory": "E_sol",
           "upper": 4.243865013122559
          },
          {
           "lower": 4.308465003967285,
           "timepoint": 4.5,
           "trajectory": "E_sol",
           "upper": 4.308465003967285
          },
          {
           "lower": 4.373209476470947,
           "timepoint": 4.599999904632568,
           "trajectory": "E_sol",
           "upper": 4.373209476470947
          },
          {
           "lower": 4.4381256103515625,
           "timepoint": 4.700000286102295,
           "trajectory": "E_sol",
           "upper": 4.4381256103515625
          },
          {
           "lower": 4.503233909606934,
           "timepoint": 4.800000190734863,
           "trajectory": "E_sol",
           "upper": 4.503233909606934
          },
          {
           "lower": 4.568560600280762,
           "timepoint": 4.900000095367432,
           "trajectory": "E_sol",
           "upper": 4.568560600280762
          },
          {
           "lower": 4.634126663208008,
           "timepoint": 5,
           "trajectory": "E_sol",
           "upper": 4.634126663208008
          },
          {
           "lower": 4.699957847595215,
           "timepoint": 5.099999904632568,
           "trajectory": "E_sol",
           "upper": 4.699957847595215
          },
          {
           "lower": 4.766072750091553,
           "timepoint": 5.200000286102295,
           "trajectory": "E_sol",
           "upper": 4.766072750091553
          },
          {
           "lower": 4.832492828369141,
           "timepoint": 5.300000190734863,
           "trajectory": "E_sol",
           "upper": 4.832492828369141
          },
          {
           "lower": 4.899240493774414,
           "timepoint": 5.400000095367432,
           "trajectory": "E_sol",
           "upper": 4.899240493774414
          },
          {
           "lower": 4.966334342956543,
           "timepoint": 5.5,
           "trajectory": "E_sol",
           "upper": 4.966334342956543
          },
          {
           "lower": 5.0337958335876465,
           "timepoint": 5.599999904632568,
           "trajectory": "E_sol",
           "upper": 5.0337958335876465
          },
          {
           "lower": 5.101645469665527,
           "timepoint": 5.700000286102295,
           "trajectory": "E_sol",
           "upper": 5.101645469665527
          },
          {
           "lower": 5.169913291931152,
           "timepoint": 5.800000190734863,
           "trajectory": "E_sol",
           "upper": 5.169913291931152
          },
          {
           "lower": 5.2385993003845215,
           "timepoint": 5.900000095367432,
           "trajectory": "E_sol",
           "upper": 5.2385993003845215
          },
          {
           "lower": 5.307730197906494,
           "timepoint": 6,
           "trajectory": "E_sol",
           "upper": 5.307730197906494
          },
          {
           "lower": 5.377325534820557,
           "timepoint": 6.099999904632568,
           "trajectory": "E_sol",
           "upper": 5.377325534820557
          },
          {
           "lower": 5.4474029541015625,
           "timepoint": 6.200000286102295,
           "trajectory": "E_sol",
           "upper": 5.4474029541015625
          },
          {
           "lower": 5.517980575561523,
           "timepoint": 6.300000190734863,
           "trajectory": "E_sol",
           "upper": 5.517980575561523
          },
          {
           "lower": 5.589075565338135,
           "timepoint": 6.400000095367432,
           "trajectory": "E_sol",
           "upper": 5.589075565338135
          },
          {
           "lower": 5.660694122314453,
           "timepoint": 6.5,
           "trajectory": "E_sol",
           "upper": 5.660694122314453
          },
          {
           "lower": 5.732872486114502,
           "timepoint": 6.599999904632568,
           "trajectory": "E_sol",
           "upper": 5.732872486114502
          },
          {
           "lower": 5.805619716644287,
           "timepoint": 6.700000286102295,
           "trajectory": "E_sol",
           "upper": 5.805619716644287
          },
          {
           "lower": 5.878951549530029,
           "timepoint": 6.800000190734863,
           "trajectory": "E_sol",
           "upper": 5.878951549530029
          },
          {
           "lower": 5.952885150909424,
           "timepoint": 6.900000095367432,
           "trajectory": "E_sol",
           "upper": 5.952885150909424
          },
          {
           "lower": 6.027435302734375,
           "timepoint": 7,
           "trajectory": "E_sol",
           "upper": 6.027435302734375
          },
          {
           "lower": 6.102619647979736,
           "timepoint": 7.099999904632568,
           "trajectory": "E_sol",
           "upper": 6.102619647979736
          },
          {
           "lower": 6.178452968597412,
           "timepoint": 7.200000286102295,
           "trajectory": "E_sol",
           "upper": 6.178452968597412
          },
          {
           "lower": 6.25495719909668,
           "timepoint": 7.300000190734863,
           "trajectory": "E_sol",
           "upper": 6.25495719909668
          },
          {
           "lower": 6.33213996887207,
           "timepoint": 7.400000095367432,
           "trajectory": "E_sol",
           "upper": 6.33213996887207
          },
          {
           "lower": 6.410019397735596,
           "timepoint": 7.5,
           "trajectory": "E_sol",
           "upper": 6.410019397735596
          },
          {
           "lower": 6.488611698150635,
           "timepoint": 7.599999904632568,
           "trajectory": "E_sol",
           "upper": 6.488611698150635
          },
          {
           "lower": 6.567932605743408,
           "timepoint": 7.700000286102295,
           "trajectory": "E_sol",
           "upper": 6.567932605743408
          },
          {
           "lower": 6.647996425628662,
           "timepoint": 7.800000190734863,
           "trajectory": "E_sol",
           "upper": 6.647996425628662
          },
          {
           "lower": 6.728818416595459,
           "timepoint": 7.900000095367432,
           "trajectory": "E_sol",
           "upper": 6.728818416595459
          },
          {
           "lower": 6.810415267944336,
           "timepoint": 8,
           "trajectory": "E_sol",
           "upper": 6.810415267944336
          },
          {
           "lower": 6.892791271209717,
           "timepoint": 8.100000381469727,
           "trajectory": "E_sol",
           "upper": 6.892791271209717
          },
          {
           "lower": 6.97597599029541,
           "timepoint": 8.199999809265137,
           "trajectory": "E_sol",
           "upper": 6.97597599029541
          },
          {
           "lower": 7.059980869293213,
           "timepoint": 8.300000190734863,
           "trajectory": "E_sol",
           "upper": 7.059980869293213
          },
          {
           "lower": 7.14481782913208,
           "timepoint": 8.40000057220459,
           "trajectory": "E_sol",
           "upper": 7.14481782913208
          },
          {
           "lower": 7.230501651763916,
           "timepoint": 8.5,
           "trajectory": "E_sol",
           "upper": 7.230501651763916
          },
          {
           "lower": 7.317049026489258,
           "timepoint": 8.600000381469727,
           "trajectory": "E_sol",
           "upper": 7.317049026489258
          },
          {
           "lower": 7.404473304748535,
           "timepoint": 8.699999809265137,
           "trajectory": "E_sol",
           "upper": 7.404473304748535
          },
          {
           "lower": 7.492790222167969,
           "timepoint": 8.800000190734863,
           "trajectory": "E_sol",
           "upper": 7.492790222167969
          },
          {
           "lower": 7.582014083862305,
           "timepoint": 8.90000057220459,
           "trajectory": "E_sol",
           "upper": 7.582014083862305
          },
          {
           "lower": 7.672155857086182,
           "timepoint": 9,
           "trajectory": "E_sol",
           "upper": 7.672155857086182
          },
          {
           "lower": 7.763237476348877,
           "timepoint": 9.100000381469727,
           "trajectory": "E_sol",
           "upper": 7.763237476348877
          },
          {
           "lower": 7.855268478393555,
           "timepoint": 9.199999809265137,
           "trajectory": "E_sol",
           "upper": 7.855268478393555
          },
          {
           "lower": 7.948266506195068,
           "timepoint": 9.300000190734863,
           "trajectory": "E_sol",
           "upper": 7.948266506195068
          },
          {
           "lower": 8.042244911193848,
           "timepoint": 9.40000057220459,
           "trajectory": "E_sol",
           "upper": 8.042244911193848
          },
          {
           "lower": 8.137219429016113,
           "timepoint": 9.5,
           "trajectory": "E_sol",
           "upper": 8.137219429016113
          },
          {
           "lower": 8.233203887939453,
           "timepoint": 9.600000381469727,
           "trajectory": "E_sol",
           "upper": 8.233203887939453
          },
          {
           "lower": 8.33021354675293,
           "timepoint": 9.699999809265137,
           "trajectory": "E_sol",
           "upper": 8.33021354675293
          },
          {
           "lower": 8.428265571594238,
           "timepoint": 9.800000190734863,
           "trajectory": "E_sol",
           "upper": 8.428265571594238
          },
          {
           "lower": 8.527373313903809,
           "timepoint": 9.90000057220459,
           "trajectory": "E_sol",
           "upper": 8.527373313903809
          },
          {
           "lower": 8.627541542053223,
           "timepoint": 10,
           "trajectory": "E_sol",
           "upper": 8.627541542053223
          },
          {
           "lower": 8.728801727294922,
           "timepoint": 10.100000381469727,
           "trajectory": "E_sol",
           "upper": 8.728801727294922
          },
          {
           "lower": 8.831161499023438,
           "timepoint": 10.199999809265137,
           "trajectory": "E_sol",
           "upper": 8.831161499023438
          },
          {
           "lower": 8.934638977050781,
           "timepoint": 10.300000190734863,
           "trajectory": "E_sol",
           "upper": 8.934638977050781
          },
          {
           "lower": 9.03924560546875,
           "timepoint": 10.40000057220459,
           "trajectory": "E_sol",
           "upper": 9.03924560546875
          },
          {
           "lower": 9.144999504089355,
           "timepoint": 10.5,
           "trajectory": "E_sol",
           "upper": 9.144999504089355
          },
          {
           "lower": 9.251914978027344,
           "timepoint": 10.600000381469727,
           "trajectory": "E_sol",
           "upper": 9.251914978027344
          },
          {
           "lower": 9.360005378723145,
           "timepoint": 10.699999809265137,
           "trajectory": "E_sol",
           "upper": 9.360005378723145
          },
          {
           "lower": 9.469291687011719,
           "timepoint": 10.800000190734863,
           "trajectory": "E_sol",
           "upper": 9.469291687011719
          },
          {
           "lower": 9.579784393310547,
           "timepoint": 10.90000057220459,
           "trajectory": "E_sol",
           "upper": 9.579784393310547
          },
          {
           "lower": 9.69150161743164,
           "timepoint": 11,
           "trajectory": "E_sol",
           "upper": 9.69150161743164
          },
          {
           "lower": 9.804486274719238,
           "timepoint": 11.100000381469727,
           "trajectory": "E_sol",
           "upper": 9.804486274719238
          },
          {
           "lower": 9.918705940246582,
           "timepoint": 11.199999809265137,
           "trajectory": "E_sol",
           "upper": 9.918705940246582
          },
          {
           "lower": 10.034201622009277,
           "timepoint": 11.300000190734863,
           "trajectory": "E_sol",
           "upper": 10.034201622009277
          },
          {
           "lower": 10.150988578796387,
           "timepoint": 11.40000057220459,
           "trajectory": "E_sol",
           "upper": 10.150988578796387
          },
          {
           "lower": 10.26908016204834,
           "timepoint": 11.5,
           "trajectory": "E_sol",
           "upper": 10.26908016204834
          },
          {
           "lower": 10.388495445251465,
           "timepoint": 11.600000381469727,
           "trajectory": "E_sol",
           "upper": 10.388495445251465
          },
          {
           "lower": 10.50925064086914,
           "timepoint": 11.699999809265137,
           "trajectory": "E_sol",
           "upper": 10.50925064086914
          },
          {
           "lower": 10.631365776062012,
           "timepoint": 11.800000190734863,
           "trajectory": "E_sol",
           "upper": 10.631365776062012
          },
          {
           "lower": 10.754854202270508,
           "timepoint": 11.90000057220459,
           "trajectory": "E_sol",
           "upper": 10.754854202270508
          },
          {
           "lower": 10.879732131958008,
           "timepoint": 12,
           "trajectory": "E_sol",
           "upper": 10.879732131958008
          },
          {
           "lower": 11.006022453308105,
           "timepoint": 12.100000381469727,
           "trajectory": "E_sol",
           "upper": 11.006022453308105
          },
          {
           "lower": 11.133707046508789,
           "timepoint": 12.199999809265137,
           "trajectory": "E_sol",
           "upper": 11.133707046508789
          },
          {
           "lower": 11.262860298156738,
           "timepoint": 12.300000190734863,
           "trajectory": "E_sol",
           "upper": 11.262860298156738
          },
          {
           "lower": 11.393473625183105,
           "timepoint": 12.40000057220459,
           "trajectory": "E_sol",
           "upper": 11.393473625183105
          },
          {
           "lower": 11.525566101074219,
           "timepoint": 12.5,
           "trajectory": "E_sol",
           "upper": 11.525566101074219
          },
          {
           "lower": 11.659156799316406,
           "timepoint": 12.600000381469727,
           "trajectory": "E_sol",
           "upper": 11.659156799316406
          },
          {
           "lower": 11.794261932373047,
           "timepoint": 12.699999809265137,
           "trajectory": "E_sol",
           "upper": 11.794261932373047
          },
          {
           "lower": 11.930900573730469,
           "timepoint": 12.800000190734863,
           "trajectory": "E_sol",
           "upper": 11.930900573730469
          },
          {
           "lower": 12.069093704223633,
           "timepoint": 12.90000057220459,
           "trajectory": "E_sol",
           "upper": 12.069093704223633
          },
          {
           "lower": 12.208856582641602,
           "timepoint": 13,
           "trajectory": "E_sol",
           "upper": 12.208856582641602
          },
          {
           "lower": 12.350210189819336,
           "timepoint": 13.100000381469727,
           "trajectory": "E_sol",
           "upper": 12.350210189819336
          },
          {
           "lower": 12.49317455291748,
           "timepoint": 13.199999809265137,
           "trajectory": "E_sol",
           "upper": 12.49317455291748
          },
          {
           "lower": 12.637767791748047,
           "timepoint": 13.300000190734863,
           "trajectory": "E_sol",
           "upper": 12.637767791748047
          },
          {
           "lower": 12.784011840820312,
           "timepoint": 13.40000057220459,
           "trajectory": "E_sol",
           "upper": 12.784011840820312
          },
          {
           "lower": 12.931906700134277,
           "timepoint": 13.5,
           "trajectory": "E_sol",
           "upper": 12.931906700134277
          },
          {
           "lower": 13.081502914428711,
           "timepoint": 13.600000381469727,
           "trajectory": "E_sol",
           "upper": 13.081502914428711
          },
          {
           "lower": 13.232807159423828,
           "timepoint": 13.699999809265137,
           "trajectory": "E_sol",
           "upper": 13.232807159423828
          },
          {
           "lower": 13.385838508605957,
           "timepoint": 13.800000190734863,
           "trajectory": "E_sol",
           "upper": 13.385838508605957
          },
          {
           "lower": 13.540620803833008,
           "timepoint": 13.90000057220459,
           "trajectory": "E_sol",
           "upper": 13.540620803833008
          },
          {
           "lower": 13.697173118591309,
           "timepoint": 14,
           "trajectory": "E_sol",
           "upper": 13.697173118591309
          },
          {
           "lower": 13.855514526367188,
           "timepoint": 14.100000381469727,
           "trajectory": "E_sol",
           "upper": 13.855514526367188
          },
          {
           "lower": 14.015667915344238,
           "timepoint": 14.199999809265137,
           "trajectory": "E_sol",
           "upper": 14.015667915344238
          },
          {
           "lower": 14.177654266357422,
           "timepoint": 14.300000190734863,
           "trajectory": "E_sol",
           "upper": 14.177654266357422
          },
          {
           "lower": 14.341496467590332,
           "timepoint": 14.40000057220459,
           "trajectory": "E_sol",
           "upper": 14.341496467590332
          },
          {
           "lower": 14.50721549987793,
           "timepoint": 14.5,
           "trajectory": "E_sol",
           "upper": 14.50721549987793
          },
          {
           "lower": 14.674834251403809,
           "timepoint": 14.600000381469727,
           "trajectory": "E_sol",
           "upper": 14.674834251403809
          },
          {
           "lower": 14.844371795654297,
           "timepoint": 14.699999809265137,
           "trajectory": "E_sol",
           "upper": 14.844371795654297
          },
          {
           "lower": 15.015864372253418,
           "timepoint": 14.800000190734863,
           "trajectory": "E_sol",
           "upper": 15.015864372253418
          },
          {
           "lower": 15.18931770324707,
           "timepoint": 14.90000057220459,
           "trajectory": "E_sol",
           "upper": 15.18931770324707
          },
          {
           "lower": 15.364761352539062,
           "timepoint": 15,
           "trajectory": "E_sol",
           "upper": 15.364761352539062
          },
          {
           "lower": 15.542217254638672,
           "timepoint": 15.100000381469727,
           "trajectory": "E_sol",
           "upper": 15.542217254638672
          },
          {
           "lower": 15.721711158752441,
           "timepoint": 15.199999809265137,
           "trajectory": "E_sol",
           "upper": 15.721711158752441
          },
          {
           "lower": 15.903266906738281,
           "timepoint": 15.300000190734863,
           "trajectory": "E_sol",
           "upper": 15.903266906738281
          },
          {
           "lower": 16.0869083404541,
           "timepoint": 15.40000057220459,
           "trajectory": "E_sol",
           "upper": 16.0869083404541
          },
          {
           "lower": 16.272661209106445,
           "timepoint": 15.5,
           "trajectory": "E_sol",
           "upper": 16.272661209106445
          },
          {
           "lower": 16.46054458618164,
           "timepoint": 15.59999942779541,
           "trajectory": "E_sol",
           "upper": 16.46054458618164
          },
          {
           "lower": 16.650590896606445,
           "timepoint": 15.699999809265137,
           "trajectory": "E_sol",
           "upper": 16.650590896606445
          },
          {
           "lower": 16.84282684326172,
           "timepoint": 15.800000190734863,
           "trajectory": "E_sol",
           "upper": 16.84282684326172
          },
          {
           "lower": 17.03726577758789,
           "timepoint": 15.899999618530273,
           "trajectory": "E_sol",
           "upper": 17.03726577758789
          },
          {
           "lower": 17.23394775390625,
           "timepoint": 16,
           "trajectory": "E_sol",
           "upper": 17.23394775390625
          },
          {
           "lower": 17.43288803100586,
           "timepoint": 16.099998474121094,
           "trajectory": "E_sol",
           "upper": 17.43288803100586
          },
          {
           "lower": 17.634063720703125,
           "timepoint": 16.200000762939453,
           "trajectory": "E_sol",
           "upper": 17.634063720703125
          },
          {
           "lower": 17.837594985961914,
           "timepoint": 16.299999237060547,
           "trajectory": "E_sol",
           "upper": 17.837594985961914
          },
          {
           "lower": 18.043474197387695,
           "timepoint": 16.399999618530273,
           "trajectory": "E_sol",
           "upper": 18.043474197387695
          },
          {
           "lower": 18.251720428466797,
           "timepoint": 16.5,
           "trajectory": "E_sol",
           "upper": 18.251720428466797
          },
          {
           "lower": 18.462360382080078,
           "timepoint": 16.599998474121094,
           "trajectory": "E_sol",
           "upper": 18.462360382080078
          },
          {
           "lower": 18.675430297851562,
           "timepoint": 16.700000762939453,
           "trajectory": "E_sol",
           "upper": 18.675430297851562
          },
          {
           "lower": 18.890949249267578,
           "timepoint": 16.799999237060547,
           "trajectory": "E_sol",
           "upper": 18.890949249267578
          },
          {
           "lower": 19.108949661254883,
           "timepoint": 16.899999618530273,
           "trajectory": "E_sol",
           "upper": 19.108949661254883
          },
          {
           "lower": 19.329463958740234,
           "timepoint": 17,
           "trajectory": "E_sol",
           "upper": 19.329463958740234
          },
          {
           "lower": 19.552509307861328,
           "timepoint": 17.099998474121094,
           "trajectory": "E_sol",
           "upper": 19.552509307861328
          },
          {
           "lower": 19.778135299682617,
           "timepoint": 17.200000762939453,
           "trajectory": "E_sol",
           "upper": 19.778135299682617
          },
          {
           "lower": 20.006349563598633,
           "timepoint": 17.299999237060547,
           "trajectory": "E_sol",
           "upper": 20.006349563598633
          },
          {
           "lower": 20.237197875976562,
           "timepoint": 17.399999618530273,
           "trajectory": "E_sol",
           "upper": 20.237197875976562
          },
          {
           "lower": 20.470706939697266,
           "timepoint": 17.5,
           "trajectory": "E_sol",
           "upper": 20.470706939697266
          },
          {
           "lower": 20.70685386657715,
           "timepoint": 17.599998474121094,
           "trajectory": "E_sol",
           "upper": 20.70685386657715
          },
          {
           "lower": 20.94576644897461,
           "timepoint": 17.700000762939453,
           "trajectory": "E_sol",
           "upper": 20.94576644897461
          },
          {
           "lower": 21.18742561340332,
           "timepoint": 17.799999237060547,
           "trajectory": "E_sol",
           "upper": 21.18742561340332
          },
          {
           "lower": 21.43187141418457,
           "timepoint": 17.899999618530273,
           "trajectory": "E_sol",
           "upper": 21.43187141418457
          },
          {
           "lower": 21.679134368896484,
           "timepoint": 18,
           "trajectory": "E_sol",
           "upper": 21.679134368896484
          },
          {
           "lower": 21.929241180419922,
           "timepoint": 18.099998474121094,
           "trajectory": "E_sol",
           "upper": 21.929241180419922
          },
          {
           "lower": 22.182239532470703,
           "timepoint": 18.200000762939453,
           "trajectory": "E_sol",
           "upper": 22.182239532470703
          },
          {
           "lower": 22.438140869140625,
           "timepoint": 18.299999237060547,
           "trajectory": "E_sol",
           "upper": 22.438140869140625
          },
          {
           "lower": 22.69700050354004,
           "timepoint": 18.399999618530273,
           "trajectory": "E_sol",
           "upper": 22.69700050354004
          },
          {
           "lower": 22.958839416503906,
           "timepoint": 18.5,
           "trajectory": "E_sol",
           "upper": 22.958839416503906
          },
          {
           "lower": 23.22369384765625,
           "timepoint": 18.599998474121094,
           "trajectory": "E_sol",
           "upper": 23.22369384765625
          },
          {
           "lower": 23.491607666015625,
           "timepoint": 18.700000762939453,
           "trajectory": "E_sol",
           "upper": 23.491607666015625
          },
          {
           "lower": 23.762601852416992,
           "timepoint": 18.799999237060547,
           "trajectory": "E_sol",
           "upper": 23.762601852416992
          },
          {
           "lower": 24.036727905273438,
           "timepoint": 18.899999618530273,
           "trajectory": "E_sol",
           "upper": 24.036727905273438
          },
          {
           "lower": 24.31398582458496,
           "timepoint": 19,
           "trajectory": "E_sol",
           "upper": 24.31398582458496
          },
          {
           "lower": 24.594457626342773,
           "timepoint": 19.099998474121094,
           "trajectory": "E_sol",
           "upper": 24.594457626342773
          },
          {
           "lower": 24.8781681060791,
           "timepoint": 19.200000762939453,
           "trajectory": "E_sol",
           "upper": 24.8781681060791
          },
          {
           "lower": 25.165142059326172,
           "timepoint": 19.299999237060547,
           "trajectory": "E_sol",
           "upper": 25.165142059326172
          },
          {
           "lower": 25.455425262451172,
           "timepoint": 19.399999618530273,
           "trajectory": "E_sol",
           "upper": 25.455425262451172
          },
          {
           "lower": 25.74905776977539,
           "timepoint": 19.5,
           "trajectory": "E_sol",
           "upper": 25.74905776977539
          },
          {
           "lower": 26.04606819152832,
           "timepoint": 19.599998474121094,
           "trajectory": "E_sol",
           "upper": 26.04606819152832
          },
          {
           "lower": 26.346513748168945,
           "timepoint": 19.700000762939453,
           "trajectory": "E_sol",
           "upper": 26.346513748168945
          },
          {
           "lower": 26.650413513183594,
           "timepoint": 19.799999237060547,
           "trajectory": "E_sol",
           "upper": 26.650413513183594
          },
          {
           "lower": 26.957822799682617,
           "timepoint": 19.899999618530273,
           "trajectory": "E_sol",
           "upper": 26.957822799682617
          },
          {
           "lower": 27.268774032592773,
           "timepoint": 20,
           "trajectory": "E_sol",
           "upper": 27.268774032592773
          },
          {
           "lower": 27.58330535888672,
           "timepoint": 20.099998474121094,
           "trajectory": "E_sol",
           "upper": 27.58330535888672
          },
          {
           "lower": 27.901479721069336,
           "timepoint": 20.200000762939453,
           "trajectory": "E_sol",
           "upper": 27.901479721069336
          },
          {
           "lower": 28.223304748535156,
           "timepoint": 20.299999237060547,
           "trajectory": "E_sol",
           "upper": 28.223304748535156
          },
          {
           "lower": 28.548830032348633,
           "timepoint": 20.399999618530273,
           "trajectory": "E_sol",
           "upper": 28.548830032348633
          },
          {
           "lower": 28.878124237060547,
           "timepoint": 20.5,
           "trajectory": "E_sol",
           "upper": 28.878124237060547
          },
          {
           "lower": 29.21120834350586,
           "timepoint": 20.599998474121094,
           "trajectory": "E_sol",
           "upper": 29.21120834350586
          },
          {
           "lower": 29.54814338684082,
           "timepoint": 20.700000762939453,
           "trajectory": "E_sol",
           "upper": 29.54814338684082
          },
          {
           "lower": 29.88895606994629,
           "timepoint": 20.799999237060547,
           "trajectory": "E_sol",
           "upper": 29.88895606994629
          },
          {
           "lower": 30.23370361328125,
           "timepoint": 20.899999618530273,
           "trajectory": "E_sol",
           "upper": 30.23370361328125
          },
          {
           "lower": 30.582422256469727,
           "timepoint": 21,
           "trajectory": "E_sol",
           "upper": 30.582422256469727
          },
          {
           "lower": 30.935155868530273,
           "timepoint": 21.099998474121094,
           "trajectory": "E_sol",
           "upper": 30.935155868530273
          },
          {
           "lower": 31.29197120666504,
           "timepoint": 21.200000762939453,
           "trajectory": "E_sol",
           "upper": 31.29197120666504
          },
          {
           "lower": 31.65288543701172,
           "timepoint": 21.299999237060547,
           "trajectory": "E_sol",
           "upper": 31.65288543701172
          },
          {
           "lower": 32.017974853515625,
           "timepoint": 21.399999618530273,
           "trajectory": "E_sol",
           "upper": 32.017974853515625
          },
          {
           "lower": 32.387264251708984,
           "timepoint": 21.5,
           "trajectory": "E_sol",
           "upper": 32.387264251708984
          },
          {
           "lower": 32.76081085205078,
           "timepoint": 21.599998474121094,
           "trajectory": "E_sol",
           "upper": 32.76081085205078
          },
          {
           "lower": 33.138675689697266,
           "timepoint": 21.700000762939453,
           "trajectory": "E_sol",
           "upper": 33.138675689697266
          },
          {
           "lower": 33.52089309692383,
           "timepoint": 21.799999237060547,
           "trajectory": "E_sol",
           "upper": 33.52089309692383
          },
          {
           "lower": 33.90751647949219,
           "timepoint": 21.899999618530273,
           "trajectory": "E_sol",
           "upper": 33.90751647949219
          },
          {
           "lower": 34.29859924316406,
           "timepoint": 22,
           "trajectory": "E_sol",
           "upper": 34.29859924316406
          },
          {
           "lower": 34.69418716430664,
           "timepoint": 22.099998474121094,
           "trajectory": "E_sol",
           "upper": 34.69418716430664
          },
          {
           "lower": 35.09435272216797,
           "timepoint": 22.200000762939453,
           "trajectory": "E_sol",
           "upper": 35.09435272216797
          },
          {
           "lower": 35.49911117553711,
           "timepoint": 22.299999237060547,
           "trajectory": "E_sol",
           "upper": 35.49911117553711
          },
          {
           "lower": 35.90855026245117,
           "timepoint": 22.399999618530273,
           "trajectory": "E_sol",
           "upper": 35.90855026245117
          },
          {
           "lower": 36.32271194458008,
           "timepoint": 22.5,
           "trajectory": "E_sol",
           "upper": 36.32271194458008
          },
          {
           "lower": 36.74163818359375,
           "timepoint": 22.599998474121094,
           "trajectory": "E_sol",
           "upper": 36.74163818359375
          },
          {
           "lower": 37.165409088134766,
           "timepoint": 22.700000762939453,
           "trajectory": "E_sol",
           "upper": 37.165409088134766
          },
          {
           "lower": 37.59404754638672,
           "timepoint": 22.799999237060547,
           "trajectory": "E_sol",
           "upper": 37.59404754638672
          },
          {
           "lower": 38.02763366699219,
           "timepoint": 22.899999618530273,
           "trajectory": "E_sol",
           "upper": 38.02763366699219
          },
          {
           "lower": 38.46622848510742,
           "timepoint": 23,
           "trajectory": "E_sol",
           "upper": 38.46622848510742
          },
          {
           "lower": 38.909873962402344,
           "timepoint": 23.100000381469727,
           "trajectory": "E_sol",
           "upper": 38.909873962402344
          },
          {
           "lower": 39.3586311340332,
           "timepoint": 23.200000762939453,
           "trajectory": "E_sol",
           "upper": 39.3586311340332
          },
          {
           "lower": 39.812618255615234,
           "timepoint": 23.299999237060547,
           "trajectory": "E_sol",
           "upper": 39.812618255615234
          },
          {
           "lower": 40.27180099487305,
           "timepoint": 23.399999618530273,
           "trajectory": "E_sol",
           "upper": 40.27180099487305
          },
          {
           "lower": 40.73627853393555,
           "timepoint": 23.5,
           "trajectory": "E_sol",
           "upper": 40.73627853393555
          },
          {
           "lower": 41.206111907958984,
           "timepoint": 23.600000381469727,
           "trajectory": "E_sol",
           "upper": 41.206111907958984
          },
          {
           "lower": 41.681365966796875,
           "timepoint": 23.700000762939453,
           "trajectory": "E_sol",
           "upper": 41.681365966796875
          },
          {
           "lower": 42.162086486816406,
           "timepoint": 23.799999237060547,
           "trajectory": "E_sol",
           "upper": 42.162086486816406
          },
          {
           "lower": 42.64836502075195,
           "timepoint": 23.899999618530273,
           "trajectory": "E_sol",
           "upper": 42.64836502075195
          },
          {
           "lower": 43.14025115966797,
           "timepoint": 24,
           "trajectory": "E_sol",
           "upper": 43.14025115966797
          },
          {
           "lower": 43.63780975341797,
           "timepoint": 24.100000381469727,
           "trajectory": "E_sol",
           "upper": 43.63780975341797
          },
          {
           "lower": 44.14110565185547,
           "timepoint": 24.200000762939453,
           "trajectory": "E_sol",
           "upper": 44.14110565185547
          },
          {
           "lower": 44.65019226074219,
           "timepoint": 24.299999237060547,
           "trajectory": "E_sol",
           "upper": 44.65019226074219
          },
          {
           "lower": 45.1651611328125,
           "timepoint": 24.399999618530273,
           "trajectory": "E_sol",
           "upper": 45.1651611328125
          },
          {
           "lower": 45.686065673828125,
           "timepoint": 24.5,
           "trajectory": "E_sol",
           "upper": 45.686065673828125
          },
          {
           "lower": 46.21297836303711,
           "timepoint": 24.600000381469727,
           "trajectory": "E_sol",
           "upper": 46.21297836303711
          },
          {
           "lower": 46.74598693847656,
           "timepoint": 24.700000762939453,
           "trajectory": "E_sol",
           "upper": 46.74598693847656
          },
          {
           "lower": 47.285125732421875,
           "timepoint": 24.799999237060547,
           "trajectory": "E_sol",
           "upper": 47.285125732421875
          },
          {
           "lower": 47.830482482910156,
           "timepoint": 24.899999618530273,
           "trajectory": "E_sol",
           "upper": 47.830482482910156
          },
          {
           "lower": 48.38212966918945,
           "timepoint": 25,
           "trajectory": "E_sol",
           "upper": 48.38212966918945
          },
          {
           "lower": 48.94013977050781,
           "timepoint": 25.100000381469727,
           "trajectory": "E_sol",
           "upper": 48.94013977050781
          },
          {
           "lower": 49.50459289550781,
           "timepoint": 25.200000762939453,
           "trajectory": "E_sol",
           "upper": 49.50459289550781
          },
          {
           "lower": 50.07554626464844,
           "timepoint": 25.299999237060547,
           "trajectory": "E_sol",
           "upper": 50.07554626464844
          },
          {
           "lower": 50.65309143066406,
           "timepoint": 25.399999618530273,
           "trajectory": "E_sol",
           "upper": 50.65309143066406
          },
          {
           "lower": 51.23729705810547,
           "timepoint": 25.5,
           "trajectory": "E_sol",
           "upper": 51.23729705810547
          },
          {
           "lower": 51.8282470703125,
           "timepoint": 25.600000381469727,
           "trajectory": "E_sol",
           "upper": 51.8282470703125
          },
          {
           "lower": 52.42600631713867,
           "timepoint": 25.700000762939453,
           "trajectory": "E_sol",
           "upper": 52.42600631713867
          },
          {
           "lower": 53.03065490722656,
           "timepoint": 25.799999237060547,
           "trajectory": "E_sol",
           "upper": 53.03065490722656
          },
          {
           "lower": 53.64229202270508,
           "timepoint": 25.899999618530273,
           "trajectory": "E_sol",
           "upper": 53.64229202270508
          },
          {
           "lower": 54.260982513427734,
           "timepoint": 26,
           "trajectory": "E_sol",
           "upper": 54.260982513427734
          },
          {
           "lower": 54.886810302734375,
           "timepoint": 26.100000381469727,
           "trajectory": "E_sol",
           "upper": 54.886810302734375
          },
          {
           "lower": 55.519744873046875,
           "timepoint": 26.200000762939453,
           "trajectory": "E_sol",
           "upper": 55.519744873046875
          },
          {
           "lower": 56.160064697265625,
           "timepoint": 26.299999237060547,
           "trajectory": "E_sol",
           "upper": 56.160064697265625
          },
          {
           "lower": 56.807777404785156,
           "timepoint": 26.399999618530273,
           "trajectory": "E_sol",
           "upper": 56.807777404785156
          },
          {
           "lower": 57.462955474853516,
           "timepoint": 26.5,
           "trajectory": "E_sol",
           "upper": 57.462955474853516
          },
          {
           "lower": 58.125701904296875,
           "timepoint": 26.600000381469727,
           "trajectory": "E_sol",
           "upper": 58.125701904296875
          },
          {
           "lower": 58.79608154296875,
           "timepoint": 26.700000762939453,
           "trajectory": "E_sol",
           "upper": 58.79608154296875
          },
          {
           "lower": 59.47418212890625,
           "timepoint": 26.799999237060547,
           "trajectory": "E_sol",
           "upper": 59.47418212890625
          },
          {
           "lower": 60.16012191772461,
           "timepoint": 26.899999618530273,
           "trajectory": "E_sol",
           "upper": 60.16012191772461
          },
          {
           "lower": 60.853965759277344,
           "timepoint": 27,
           "trajectory": "E_sol",
           "upper": 60.853965759277344
          },
          {
           "lower": 61.55581283569336,
           "timepoint": 27.100000381469727,
           "trajectory": "E_sol",
           "upper": 61.55581283569336
          },
          {
           "lower": 62.2657585144043,
           "timepoint": 27.200000762939453,
           "trajectory": "E_sol",
           "upper": 62.2657585144043
          },
          {
           "lower": 62.98386764526367,
           "timepoint": 27.299999237060547,
           "trajectory": "E_sol",
           "upper": 62.98386764526367
          },
          {
           "lower": 63.71027755737305,
           "timepoint": 27.399999618530273,
           "trajectory": "E_sol",
           "upper": 63.71027755737305
          },
          {
           "lower": 64.445068359375,
           "timepoint": 27.5,
           "trajectory": "E_sol",
           "upper": 64.445068359375
          },
          {
           "lower": 65.18833923339844,
           "timepoint": 27.600000381469727,
           "trajectory": "E_sol",
           "upper": 65.18833923339844
          },
          {
           "lower": 65.940185546875,
           "timepoint": 27.700000762939453,
           "trajectory": "E_sol",
           "upper": 65.940185546875
          },
          {
           "lower": 66.7006607055664,
           "timepoint": 27.799999237060547,
           "trajectory": "E_sol",
           "upper": 66.7006607055664
          },
          {
           "lower": 67.4699478149414,
           "timepoint": 27.899999618530273,
           "trajectory": "E_sol",
           "upper": 67.4699478149414
          },
          {
           "lower": 68.24808502197266,
           "timepoint": 28,
           "trajectory": "E_sol",
           "upper": 68.24808502197266
          },
          {
           "lower": 69.03521728515625,
           "timepoint": 28.100000381469727,
           "trajectory": "E_sol",
           "upper": 69.03521728515625
          },
          {
           "lower": 69.83140563964844,
           "timepoint": 28.200000762939453,
           "trajectory": "E_sol",
           "upper": 69.83140563964844
          },
          {
           "lower": 70.63677215576172,
           "timepoint": 28.299999237060547,
           "trajectory": "E_sol",
           "upper": 70.63677215576172
          },
          {
           "lower": 71.45143127441406,
           "timepoint": 28.399999618530273,
           "trajectory": "E_sol",
           "upper": 71.45143127441406
          },
          {
           "lower": 72.27549743652344,
           "timepoint": 28.5,
           "trajectory": "E_sol",
           "upper": 72.27549743652344
          },
          {
           "lower": 73.10905456542969,
           "timepoint": 28.600000381469727,
           "trajectory": "E_sol",
           "upper": 73.10905456542969
          },
          {
           "lower": 73.95223999023438,
           "timepoint": 28.700000762939453,
           "trajectory": "E_sol",
           "upper": 73.95223999023438
          },
          {
           "lower": 74.80510711669922,
           "timepoint": 28.799999237060547,
           "trajectory": "E_sol",
           "upper": 74.80510711669922
          },
          {
           "lower": 75.6678466796875,
           "timepoint": 28.899999618530273,
           "trajectory": "E_sol",
           "upper": 75.6678466796875
          },
          {
           "lower": 76.54051971435547,
           "timepoint": 29,
           "trajectory": "E_sol",
           "upper": 76.54051971435547
          },
          {
           "lower": 77.42340850830078,
           "timepoint": 29.100000381469727,
           "trajectory": "E_sol",
           "upper": 77.42340850830078
          },
          {
           "lower": 78.31635284423828,
           "timepoint": 29.200000762939453,
           "trajectory": "E_sol",
           "upper": 78.31635284423828
          },
          {
           "lower": 79.2195816040039,
           "timepoint": 29.299999237060547,
           "trajectory": "E_sol",
           "upper": 79.2195816040039
          },
          {
           "lower": 80.13324737548828,
           "timepoint": 29.399999618530273,
           "trajectory": "E_sol",
           "upper": 80.13324737548828
          },
          {
           "lower": 81.05744171142578,
           "timepoint": 29.5,
           "trajectory": "E_sol",
           "upper": 81.05744171142578
          },
          {
           "lower": 81.9923095703125,
           "timepoint": 29.600000381469727,
           "trajectory": "E_sol",
           "upper": 81.9923095703125
          },
          {
           "lower": 82.93795013427734,
           "timepoint": 29.700000762939453,
           "trajectory": "E_sol",
           "upper": 82.93795013427734
          },
          {
           "lower": 83.89447784423828,
           "timepoint": 29.799999237060547,
           "trajectory": "E_sol",
           "upper": 83.89447784423828
          },
          {
           "lower": 84.862060546875,
           "timepoint": 29.899999618530273,
           "trajectory": "E_sol",
           "upper": 84.862060546875
          },
          {
           "lower": 85.8407974243164,
           "timepoint": 30,
           "trajectory": "E_sol",
           "upper": 85.8407974243164
          },
          {
           "lower": 86.83084869384766,
           "timepoint": 30.100000381469727,
           "trajectory": "E_sol",
           "upper": 86.83084869384766
          },
          {
           "lower": 87.83229064941406,
           "timepoint": 30.200000762939453,
           "trajectory": "E_sol",
           "upper": 87.83229064941406
          },
          {
           "lower": 88.84529113769531,
           "timepoint": 30.299999237060547,
           "trajectory": "E_sol",
           "upper": 88.84529113769531
          },
          {
           "lower": 89.86998748779297,
           "timepoint": 30.399999618530273,
           "trajectory": "E_sol",
           "upper": 89.86998748779297
          },
          {
           "lower": 90.90635681152344,
           "timepoint": 30.5,
           "trajectory": "E_sol",
           "upper": 90.90635681152344
          },
          {
           "lower": 91.95480346679688,
           "timepoint": 30.600000381469727,
           "trajectory": "E_sol",
           "upper": 91.95480346679688
          },
          {
           "lower": 93.01533508300781,
           "timepoint": 30.700000762939453,
           "trajectory": "E_sol",
           "upper": 93.01533508300781
          },
          {
           "lower": 94.08808135986328,
           "timepoint": 30.799999237060547,
           "trajectory": "E_sol",
           "upper": 94.08808135986328
          },
          {
           "lower": 95.17322540283203,
           "timepoint": 30.899999618530273,
           "trajectory": "E_sol",
           "upper": 95.17322540283203
          },
          {
           "lower": 96.27088165283203,
           "timepoint": 31,
           "trajectory": "E_sol",
           "upper": 96.27088165283203
          },
          {
           "lower": 4,
           "timepoint": 0,
           "trajectory": "I_sol",
           "upper": 4
          },
          {
           "lower": 3.9906294345855713,
           "timepoint": 0.10000000149011612,
           "trajectory": "I_sol",
           "upper": 3.9906294345855713
          },
          {
           "lower": 3.9832823276519775,
           "timepoint": 0.20000000298023224,
           "trajectory": "I_sol",
           "upper": 3.9832823276519775
          },
          {
           "lower": 3.9778847694396973,
           "timepoint": 0.30000001192092896,
           "trajectory": "I_sol",
           "upper": 3.9778847694396973
          },
          {
           "lower": 3.9743947982788086,
           "timepoint": 0.4000000059604645,
           "trajectory": "I_sol",
           "upper": 3.9743947982788086
          },
          {
           "lower": 3.972761869430542,
           "timepoint": 0.5,
           "trajectory": "I_sol",
           "upper": 3.972761869430542
          },
          {
           "lower": 3.972926378250122,
           "timepoint": 0.6000000238418579,
           "trajectory": "I_sol",
           "upper": 3.972926378250122
          },
          {
           "lower": 3.9748425483703613,
           "timepoint": 0.699999988079071,
           "trajectory": "I_sol",
           "upper": 3.9748425483703613
          },
          {
           "lower": 3.9784646034240723,
           "timepoint": 0.800000011920929,
           "trajectory": "I_sol",
           "upper": 3.9784646034240723
          },
          {
           "lower": 3.9837393760681152,
           "timepoint": 0.9000000357627869,
           "trajectory": "I_sol",
           "upper": 3.9837393760681152
          },
          {
           "lower": 3.990635395050049,
           "timepoint": 1,
           "trajectory": "I_sol",
           "upper": 3.990635395050049
          },
          {
           "lower": 3.9991085529327393,
           "timepoint": 1.100000023841858,
           "trajectory": "I_sol",
           "upper": 3.9991085529327393
          },
          {
           "lower": 4.009119987487793,
           "timepoint": 1.2000000476837158,
           "trajectory": "I_sol",
           "upper": 4.009119987487793
          },
          {
           "lower": 4.020621299743652,
           "timepoint": 1.3000000715255737,
           "trajectory": "I_sol",
           "upper": 4.020621299743652
          },
          {
           "lower": 4.0335917472839355,
           "timepoint": 1.399999976158142,
           "trajectory": "I_sol",
           "upper": 4.0335917472839355
          },
          {
           "lower": 4.047991752624512,
           "timepoint": 1.5,
           "trajectory": "I_sol",
           "upper": 4.047991752624512
          },
          {
           "lower": 4.0637898445129395,
           "timepoint": 1.600000023841858,
           "trajectory": "I_sol",
           "upper": 4.0637898445129395
          },
          {
           "lower": 4.080950736999512,
           "timepoint": 1.7000000476837158,
           "trajectory": "I_sol",
           "upper": 4.080950736999512
          },
          {
           "lower": 4.0994486808776855,
           "timepoint": 1.8000000715255737,
           "trajectory": "I_sol",
           "upper": 4.0994486808776855
          },
          {
           "lower": 4.119256019592285,
           "timepoint": 1.899999976158142,
           "trajectory": "I_sol",
           "upper": 4.119256019592285
          },
          {
           "lower": 4.140345573425293,
           "timepoint": 2,
           "trajectory": "I_sol",
           "upper": 4.140345573425293
          },
          {
           "lower": 4.162691593170166,
           "timepoint": 2.1000001430511475,
           "trajectory": "I_sol",
           "upper": 4.162691593170166
          },
          {
           "lower": 4.1862592697143555,
           "timepoint": 2.200000047683716,
           "trajectory": "I_sol",
           "upper": 4.1862592697143555
          },
          {
           "lower": 4.21104097366333,
           "timepoint": 2.299999952316284,
           "trajectory": "I_sol",
           "upper": 4.21104097366333
          },
          {
           "lower": 4.237010478973389,
           "timepoint": 2.4000000953674316,
           "trajectory": "I_sol",
           "upper": 4.237010478973389
          },
          {
           "lower": 4.264143943786621,
           "timepoint": 2.5,
           "trajectory": "I_sol",
           "upper": 4.264143943786621
          },
          {
           "lower": 4.292424201965332,
           "timepoint": 2.6000001430511475,
           "trajectory": "I_sol",
           "upper": 4.292424201965332
          },
          {
           "lower": 4.321829319000244,
           "timepoint": 2.700000047683716,
           "trajectory": "I_sol",
           "upper": 4.321829319000244
          },
          {
           "lower": 4.3523454666137695,
           "timepoint": 2.799999952316284,
           "trajectory": "I_sol",
           "upper": 4.3523454666137695
          },
          {
           "lower": 4.383954048156738,
           "timepoint": 2.9000000953674316,
           "trajectory": "I_sol",
           "upper": 4.383954048156738
          },
          {
           "lower": 4.4166388511657715,
           "timepoint": 3,
           "trajectory": "I_sol",
           "upper": 4.4166388511657715
          },
          {
           "lower": 4.4503865242004395,
           "timepoint": 3.1000001430511475,
           "trajectory": "I_sol",
           "upper": 4.4503865242004395
          },
          {
           "lower": 4.485179424285889,
           "timepoint": 3.200000047683716,
           "trajectory": "I_sol",
           "upper": 4.485179424285889
          },
          {
           "lower": 4.5210089683532715,
           "timepoint": 3.299999952316284,
           "trajectory": "I_sol",
           "upper": 4.5210089683532715
          },
          {
           "lower": 4.557860374450684,
           "timepoint": 3.4000000953674316,
           "trajectory": "I_sol",
           "upper": 4.557860374450684
          },
          {
           "lower": 4.595722198486328,
           "timepoint": 3.5,
           "trajectory": "I_sol",
           "upper": 4.595722198486328
          },
          {
           "lower": 4.634582996368408,
           "timepoint": 3.6000001430511475,
           "trajectory": "I_sol",
           "upper": 4.634582996368408
          },
          {
           "lower": 4.67443323135376,
           "timepoint": 3.700000047683716,
           "trajectory": "I_sol",
           "upper": 4.67443323135376
          },
          {
           "lower": 4.715273380279541,
           "timepoint": 3.799999952316284,
           "trajectory": "I_sol",
           "upper": 4.715273380279541
          },
          {
           "lower": 4.757078647613525,
           "timepoint": 3.9000000953674316,
           "trajectory": "I_sol",
           "upper": 4.757078647613525
          },
          {
           "lower": 4.799849033355713,
           "timepoint": 4,
           "trajectory": "I_sol",
           "upper": 4.799849033355713
          },
          {
           "lower": 4.843576908111572,
           "timepoint": 4.099999904632568,
           "trajectory": "I_sol",
           "upper": 4.843576908111572
          },
          {
           "lower": 4.888254642486572,
           "timepoint": 4.200000286102295,
           "trajectory": "I_sol",
           "upper": 4.888254642486572
          },
          {
           "lower": 4.933877944946289,
           "timepoint": 4.300000190734863,
           "trajectory": "I_sol",
           "upper": 4.933877944946289
          },
          {
           "lower": 4.9804301261901855,
           "timepoint": 4.400000095367432,
           "trajectory": "I_sol",
           "upper": 4.9804301261901855
          },
          {
           "lower": 5.0279221534729,
           "timepoint": 4.5,
           "trajectory": "I_sol",
           "upper": 5.0279221534729
          },
          {
           "lower": 5.076342582702637,
           "timepoint": 4.599999904632568,
           "trajectory": "I_sol",
           "upper": 5.076342582702637
          },
          {
           "lower": 5.125688552856445,
           "timepoint": 4.700000286102295,
           "trajectory": "I_sol",
           "upper": 5.125688552856445
          },
          {
           "lower": 5.175956726074219,
           "timepoint": 4.800000190734863,
           "trajectory": "I_sol",
           "upper": 5.175956726074219
          },
          {
           "lower": 5.227143287658691,
           "timepoint": 4.900000095367432,
           "trajectory": "I_sol",
           "upper": 5.227143287658691
          },
          {
           "lower": 5.279247283935547,
           "timepoint": 5,
           "trajectory": "I_sol",
           "upper": 5.279247283935547
          },
          {
           "lower": 5.3322625160217285,
           "timepoint": 5.099999904632568,
           "trajectory": "I_sol",
           "upper": 5.3322625160217285
          },
          {
           "lower": 5.386192798614502,
           "timepoint": 5.200000286102295,
           "trajectory": "I_sol",
           "upper": 5.386192798614502
          },
          {
           "lower": 5.441035747528076,
           "timepoint": 5.300000190734863,
           "trajectory": "I_sol",
           "upper": 5.441035747528076
          },
          {
           "lower": 5.496790885925293,
           "timepoint": 5.400000095367432,
           "trajectory": "I_sol",
           "upper": 5.496790885925293
          },
          {
           "lower": 5.553457260131836,
           "timepoint": 5.5,
           "trajectory": "I_sol",
           "upper": 5.553457260131836
          },
          {
           "lower": 5.6110358238220215,
           "timepoint": 5.599999904632568,
           "trajectory": "I_sol",
           "upper": 5.6110358238220215
          },
          {
           "lower": 5.669527053833008,
           "timepoint": 5.700000286102295,
           "trajectory": "I_sol",
           "upper": 5.669527053833008
          },
          {
           "lower": 5.728919982910156,
           "timepoint": 5.800000190734863,
           "trajectory": "I_sol",
           "upper": 5.728919982910156
          },
          {
           "lower": 5.789236068725586,
           "timepoint": 5.900000095367432,
           "trajectory": "I_sol",
           "upper": 5.789236068725586
          },
          {
           "lower": 5.850468635559082,
           "timepoint": 6,
           "trajectory": "I_sol",
           "upper": 5.850468635559082
          },
          {
           "lower": 5.912619590759277,
           "timepoint": 6.099999904632568,
           "trajectory": "I_sol",
           "upper": 5.912619590759277
          },
          {
           "lower": 5.975692272186279,
           "timepoint": 6.200000286102295,
           "trajectory": "I_sol",
           "upper": 5.975692272186279
          },
          {
           "lower": 6.039687633514404,
           "timepoint": 6.300000190734863,
           "trajectory": "I_sol",
           "upper": 6.039687633514404
          },
          {
           "lower": 6.104609966278076,
           "timepoint": 6.400000095367432,
           "trajectory": "I_sol",
           "upper": 6.104609966278076
          },
          {
           "lower": 6.170458793640137,
           "timepoint": 6.5,
           "trajectory": "I_sol",
           "upper": 6.170458793640137
          },
          {
           "lower": 6.237245082855225,
           "timepoint": 6.599999904632568,
           "trajectory": "I_sol",
           "upper": 6.237245082855225
          },
          {
           "lower": 6.304969310760498,
           "timepoint": 6.700000286102295,
           "trajectory": "I_sol",
           "upper": 6.304969310760498
          },
          {
           "lower": 6.373636245727539,
           "timepoint": 6.800000190734863,
           "trajectory": "I_sol",
           "upper": 6.373636245727539
          },
          {
           "lower": 6.443251132965088,
           "timepoint": 6.900000095367432,
           "trajectory": "I_sol",
           "upper": 6.443251132965088
          },
          {
           "lower": 6.513818740844727,
           "timepoint": 7,
           "trajectory": "I_sol",
           "upper": 6.513818740844727
          },
          {
           "lower": 6.585344314575195,
           "timepoint": 7.099999904632568,
           "trajectory": "I_sol",
           "upper": 6.585344314575195
          },
          {
           "lower": 6.657835483551025,
           "timepoint": 7.200000286102295,
           "trajectory": "I_sol",
           "upper": 6.657835483551025
          },
          {
           "lower": 6.731280326843262,
           "timepoint": 7.300000190734863,
           "trajectory": "I_sol",
           "upper": 6.731280326843262
          },
          {
           "lower": 6.8057098388671875,
           "timepoint": 7.400000095367432,
           "trajectory": "I_sol",
           "upper": 6.8057098388671875
          },
          {
           "lower": 6.881121635437012,
           "timepoint": 7.5,
           "trajectory": "I_sol",
           "upper": 6.881121635437012
          },
          {
           "lower": 6.957520484924316,
           "timepoint": 7.599999904632568,
           "trajectory": "I_sol",
           "upper": 6.957520484924316
          },
          {
           "lower": 7.034915447235107,
           "timepoint": 7.700000286102295,
           "trajectory": "I_sol",
           "upper": 7.034915447235107
          },
          {
           "lower": 7.113312721252441,
           "timepoint": 7.800000190734863,
           "trajectory": "I_sol",
           "upper": 7.113312721252441
          },
          {
           "lower": 7.192718029022217,
           "timepoint": 7.900000095367432,
           "trajectory": "I_sol",
           "upper": 7.192718029022217
          },
          {
           "lower": 7.273141860961914,
           "timepoint": 8,
           "trajectory": "I_sol",
           "upper": 7.273141860961914
          },
          {
           "lower": 7.354580879211426,
           "timepoint": 8.100000381469727,
           "trajectory": "I_sol",
           "upper": 7.354580879211426
          },
          {
           "lower": 7.43705940246582,
           "timepoint": 8.199999809265137,
           "trajectory": "I_sol",
           "upper": 7.43705940246582
          },
          {
           "lower": 7.520578861236572,
           "timepoint": 8.300000190734863,
           "trajectory": "I_sol",
           "upper": 7.520578861236572
          },
          {
           "lower": 7.6051483154296875,
           "timepoint": 8.40000057220459,
           "trajectory": "I_sol",
           "upper": 7.6051483154296875
          },
          {
           "lower": 7.690774917602539,
           "timepoint": 8.5,
           "trajectory": "I_sol",
           "upper": 7.690774917602539
          },
          {
           "lower": 7.777469158172607,
           "timepoint": 8.600000381469727,
           "trajectory": "I_sol",
           "upper": 7.777469158172607
          },
          {
           "lower": 7.86523962020874,
           "timepoint": 8.699999809265137,
           "trajectory": "I_sol",
           "upper": 7.86523962020874
          },
          {
           "lower": 7.954095363616943,
           "timepoint": 8.800000190734863,
           "trajectory": "I_sol",
           "upper": 7.954095363616943
          },
          {
           "lower": 8.044046401977539,
           "timepoint": 8.90000057220459,
           "trajectory": "I_sol",
           "upper": 8.044046401977539
          },
          {
           "lower": 8.135117530822754,
           "timepoint": 9,
           "trajectory": "I_sol",
           "upper": 8.135117530822754
          },
          {
           "lower": 8.227293014526367,
           "timepoint": 9.100000381469727,
           "trajectory": "I_sol",
           "upper": 8.227293014526367
          },
          {
           "lower": 8.32059383392334,
           "timepoint": 9.199999809265137,
           "trajectory": "I_sol",
           "upper": 8.32059383392334
          },
          {
           "lower": 8.415033340454102,
           "timepoint": 9.300000190734863,
           "trajectory": "I_sol",
           "upper": 8.415033340454102
          },
          {
           "lower": 8.5106201171875,
           "timepoint": 9.40000057220459,
           "trajectory": "I_sol",
           "upper": 8.5106201171875
          },
          {
           "lower": 8.607364654541016,
           "timepoint": 9.5,
           "trajectory": "I_sol",
           "upper": 8.607364654541016
          },
          {
           "lower": 8.705280303955078,
           "timepoint": 9.600000381469727,
           "trajectory": "I_sol",
           "upper": 8.705280303955078
          },
          {
           "lower": 8.804375648498535,
           "timepoint": 9.699999809265137,
           "trajectory": "I_sol",
           "upper": 8.804375648498535
          },
          {
           "lower": 8.90466594696045,
           "timepoint": 9.800000190734863,
           "trajectory": "I_sol",
           "upper": 8.90466594696045
          },
          {
           "lower": 9.006159782409668,
           "timepoint": 9.90000057220459,
           "trajectory": "I_sol",
           "upper": 9.006159782409668
          },
          {
           "lower": 9.108872413635254,
           "timepoint": 10,
           "trajectory": "I_sol",
           "upper": 9.108872413635254
          },
          {
           "lower": 9.212813377380371,
           "timepoint": 10.100000381469727,
           "trajectory": "I_sol",
           "upper": 9.212813377380371
          },
          {
           "lower": 9.317994117736816,
           "timepoint": 10.199999809265137,
           "trajectory": "I_sol",
           "upper": 9.317994117736816
          },
          {
           "lower": 9.424428939819336,
           "timepoint": 10.300000190734863,
           "trajectory": "I_sol",
           "upper": 9.424428939819336
          },
          {
           "lower": 9.532132148742676,
           "timepoint": 10.40000057220459,
           "trajectory": "I_sol",
           "upper": 9.532132148742676
          },
          {
           "lower": 9.64111328125,
           "timepoint": 10.5,
           "trajectory": "I_sol",
           "upper": 9.64111328125
          },
          {
           "lower": 9.751389503479004,
           "timepoint": 10.600000381469727,
           "trajectory": "I_sol",
           "upper": 9.751389503479004
          },
          {
           "lower": 9.862969398498535,
           "timepoint": 10.699999809265137,
           "trajectory": "I_sol",
           "upper": 9.862969398498535
          },
          {
           "lower": 9.975871086120605,
           "timepoint": 10.800000190734863,
           "trajectory": "I_sol",
           "upper": 9.975871086120605
          },
          {
           "lower": 10.090106964111328,
           "timepoint": 10.90000057220459,
           "trajectory": "I_sol",
           "upper": 10.090106964111328
          },
          {
           "lower": 10.205689430236816,
           "timepoint": 11,
           "trajectory": "I_sol",
           "upper": 10.205689430236816
          },
          {
           "lower": 10.322659492492676,
           "timepoint": 11.100000381469727,
           "trajectory": "I_sol",
           "upper": 10.322659492492676
          },
          {
           "lower": 10.440988540649414,
           "timepoint": 11.199999809265137,
           "trajectory": "I_sol",
           "upper": 10.440988540649414
          },
          {
           "lower": 10.560709953308105,
           "timepoint": 11.300000190734863,
           "trajectory": "I_sol",
           "upper": 10.560709953308105
          },
          {
           "lower": 10.681840896606445,
           "timepoint": 11.40000057220459,
           "trajectory": "I_sol",
           "upper": 10.681840896606445
          },
          {
           "lower": 10.804393768310547,
           "timepoint": 11.5,
           "trajectory": "I_sol",
           "upper": 10.804393768310547
          },
          {
           "lower": 10.928385734558105,
           "timepoint": 11.600000381469727,
           "trajectory": "I_sol",
           "upper": 10.928385734558105
          },
          {
           "lower": 11.053831100463867,
           "timepoint": 11.699999809265137,
           "trajectory": "I_sol",
           "upper": 11.053831100463867
          },
          {
           "lower": 11.180747985839844,
           "timepoint": 11.800000190734863,
           "trajectory": "I_sol",
           "upper": 11.180747985839844
          },
          {
           "lower": 11.309151649475098,
           "timepoint": 11.90000057220459,
           "trajectory": "I_sol",
           "upper": 11.309151649475098
          },
          {
           "lower": 11.439057350158691,
           "timepoint": 12,
           "trajectory": "I_sol",
           "upper": 11.439057350158691
          },
          {
           "lower": 11.57048225402832,
           "timepoint": 12.100000381469727,
           "trajectory": "I_sol",
           "upper": 11.57048225402832
          },
          {
           "lower": 11.703412055969238,
           "timepoint": 12.199999809265137,
           "trajectory": "I_sol",
           "upper": 11.703412055969238
          },
          {
           "lower": 11.837919235229492,
           "timepoint": 12.300000190734863,
           "trajectory": "I_sol",
           "upper": 11.837919235229492
          },
          {
           "lower": 11.97399616241455,
           "timepoint": 12.40000057220459,
           "trajectory": "I_sol",
           "upper": 11.97399616241455
          },
          {
           "lower": 12.111659049987793,
           "timepoint": 12.5,
           "trajectory": "I_sol",
           "upper": 12.111659049987793
          },
          {
           "lower": 12.25092887878418,
           "timepoint": 12.600000381469727,
           "trajectory": "I_sol",
           "upper": 12.25092887878418
          },
          {
           "lower": 12.391818046569824,
           "timepoint": 12.699999809265137,
           "trajectory": "I_sol",
           "upper": 12.391818046569824
          },
          {
           "lower": 12.534347534179688,
           "timepoint": 12.800000190734863,
           "trajectory": "I_sol",
           "upper": 12.534347534179688
          },
          {
           "lower": 12.678537368774414,
           "timepoint": 12.90000057220459,
           "trajectory": "I_sol",
           "upper": 12.678537368774414
          },
          {
           "lower": 12.824402809143066,
           "timepoint": 13,
           "trajectory": "I_sol",
           "upper": 12.824402809143066
          },
          {
           "lower": 12.971965789794922,
           "timepoint": 13.100000381469727,
           "trajectory": "I_sol",
           "upper": 12.971965789794922
          },
          {
           "lower": 13.121240615844727,
           "timepoint": 13.199999809265137,
           "trajectory": "I_sol",
           "upper": 13.121240615844727
          },
          {
           "lower": 13.272252082824707,
           "timepoint": 13.300000190734863,
           "trajectory": "I_sol",
           "upper": 13.272252082824707
          },
          {
           "lower": 13.425016403198242,
           "timepoint": 13.40000057220459,
           "trajectory": "I_sol",
           "upper": 13.425016403198242
          },
          {
           "lower": 13.57956314086914,
           "timepoint": 13.5,
           "trajectory": "I_sol",
           "upper": 13.57956314086914
          },
          {
           "lower": 13.7358980178833,
           "timepoint": 13.600000381469727,
           "trajectory": "I_sol",
           "upper": 13.7358980178833
          },
          {
           "lower": 13.894044876098633,
           "timepoint": 13.699999809265137,
           "trajectory": "I_sol",
           "upper": 13.894044876098633
          },
          {
           "lower": 14.054027557373047,
           "timepoint": 13.800000190734863,
           "trajectory": "I_sol",
           "upper": 14.054027557373047
          },
          {
           "lower": 14.215866088867188,
           "timepoint": 13.90000057220459,
           "trajectory": "I_sol",
           "upper": 14.215866088867188
          },
          {
           "lower": 14.379578590393066,
           "timepoint": 14,
           "trajectory": "I_sol",
           "upper": 14.379578590393066
          },
          {
           "lower": 14.545191764831543,
           "timepoint": 14.100000381469727,
           "trajectory": "I_sol",
           "upper": 14.545191764831543
          },
          {
           "lower": 14.712722778320312,
           "timepoint": 14.199999809265137,
           "trajectory": "I_sol",
           "upper": 14.712722778320312
          },
          {
           "lower": 14.882194519042969,
           "timepoint": 14.300000190734863,
           "trajectory": "I_sol",
           "upper": 14.882194519042969
          },
          {
           "lower": 15.053629875183105,
           "timepoint": 14.40000057220459,
           "trajectory": "I_sol",
           "upper": 15.053629875183105
          },
          {
           "lower": 15.22705078125,
           "timepoint": 14.5,
           "trajectory": "I_sol",
           "upper": 15.22705078125
          },
          {
           "lower": 15.40247917175293,
           "timepoint": 14.600000381469727,
           "trajectory": "I_sol",
           "upper": 15.40247917175293
          },
          {
           "lower": 15.579939842224121,
           "timepoint": 14.699999809265137,
           "trajectory": "I_sol",
           "upper": 15.579939842224121
          },
          {
           "lower": 15.759434700012207,
           "timepoint": 14.800000190734863,
           "trajectory": "I_sol",
           "upper": 15.759434700012207
          },
          {
           "lower": 15.941024780273438,
           "timepoint": 14.90000057220459,
           "trajectory": "I_sol",
           "upper": 15.941024780273438
          },
          {
           "lower": 16.124711990356445,
           "timepoint": 15,
           "trajectory": "I_sol",
           "upper": 16.124711990356445
          },
          {
           "lower": 16.31052589416504,
           "timepoint": 15.100000381469727,
           "trajectory": "I_sol",
           "upper": 16.31052589416504
          },
          {
           "lower": 16.498489379882812,
           "timepoint": 15.199999809265137,
           "trajectory": "I_sol",
           "upper": 16.498489379882812
          },
          {
           "lower": 16.688627243041992,
           "timepoint": 15.300000190734863,
           "trajectory": "I_sol",
           "upper": 16.688627243041992
          },
          {
           "lower": 16.880962371826172,
           "timepoint": 15.40000057220459,
           "trajectory": "I_sol",
           "upper": 16.880962371826172
          },
          {
           "lower": 17.075519561767578,
           "timepoint": 15.5,
           "trajectory": "I_sol",
           "upper": 17.075519561767578
          },
          {
           "lower": 17.27232551574707,
           "timepoint": 15.59999942779541,
           "trajectory": "I_sol",
           "upper": 17.27232551574707
          },
          {
           "lower": 17.471405029296875,
           "timepoint": 15.699999809265137,
           "trajectory": "I_sol",
           "upper": 17.471405029296875
          },
          {
           "lower": 17.67279052734375,
           "timepoint": 15.800000190734863,
           "trajectory": "I_sol",
           "upper": 17.67279052734375
          },
          {
           "lower": 17.876493453979492,
           "timepoint": 15.899999618530273,
           "trajectory": "I_sol",
           "upper": 17.876493453979492
          },
          {
           "lower": 18.08255958557129,
           "timepoint": 16,
           "trajectory": "I_sol",
           "upper": 18.08255958557129
          },
          {
           "lower": 18.290996551513672,
           "timepoint": 16.099998474121094,
           "trajectory": "I_sol",
           "upper": 18.290996551513672
          },
          {
           "lower": 18.50187110900879,
           "timepoint": 16.200000762939453,
           "trajectory": "I_sol",
           "upper": 18.50187110900879
          },
          {
           "lower": 18.71515655517578,
           "timepoint": 16.299999237060547,
           "trajectory": "I_sol",
           "upper": 18.71515655517578
          },
          {
           "lower": 18.930912017822266,
           "timepoint": 16.399999618530273,
           "trajectory": "I_sol",
           "upper": 18.930912017822266
          },
          {
           "lower": 19.149158477783203,
           "timepoint": 16.5,
           "trajectory": "I_sol",
           "upper": 19.149158477783203
          },
          {
           "lower": 19.369918823242188,
           "timepoint": 16.599998474121094,
           "trajectory": "I_sol",
           "upper": 19.369918823242188
          },
          {
           "lower": 19.593238830566406,
           "timepoint": 16.700000762939453,
           "trajectory": "I_sol",
           "upper": 19.593238830566406
          },
          {
           "lower": 19.819129943847656,
           "timepoint": 16.799999237060547,
           "trajectory": "I_sol",
           "upper": 19.819129943847656
          },
          {
           "lower": 20.04763412475586,
           "timepoint": 16.899999618530273,
           "trajectory": "I_sol",
           "upper": 20.04763412475586
          },
          {
           "lower": 20.278772354125977,
           "timepoint": 17,
           "trajectory": "I_sol",
           "upper": 20.278772354125977
          },
          {
           "lower": 20.5125789642334,
           "timepoint": 17.099998474121094,
           "trajectory": "I_sol",
           "upper": 20.5125789642334
          },
          {
           "lower": 20.749095916748047,
           "timepoint": 17.200000762939453,
           "trajectory": "I_sol",
           "upper": 20.749095916748047
          },
          {
           "lower": 20.988330841064453,
           "timepoint": 17.299999237060547,
           "trajectory": "I_sol",
           "upper": 20.988330841064453
          },
          {
           "lower": 21.230329513549805,
           "timepoint": 17.399999618530273,
           "trajectory": "I_sol",
           "upper": 21.230329513549805
          },
          {
           "lower": 21.47512435913086,
           "timepoint": 17.5,
           "trajectory": "I_sol",
           "upper": 21.47512435913086
          },
          {
           "lower": 21.722747802734375,
           "timepoint": 17.599998474121094,
           "trajectory": "I_sol",
           "upper": 21.722747802734375
          },
          {
           "lower": 21.97323226928711,
           "timepoint": 17.700000762939453,
           "trajectory": "I_sol",
           "upper": 21.97323226928711
          },
          {
           "lower": 22.226598739624023,
           "timepoint": 17.799999237060547,
           "trajectory": "I_sol",
           "upper": 22.226598739624023
          },
          {
           "lower": 22.482894897460938,
           "timepoint": 17.899999618530273,
           "trajectory": "I_sol",
           "upper": 22.482894897460938
          },
          {
           "lower": 22.742149353027344,
           "timepoint": 18,
           "trajectory": "I_sol",
           "upper": 22.742149353027344
          },
          {
           "lower": 23.00438690185547,
           "timepoint": 18.099998474121094,
           "trajectory": "I_sol",
           "upper": 23.00438690185547
          },
          {
           "lower": 23.26966667175293,
           "timepoint": 18.200000762939453,
           "trajectory": "I_sol",
           "upper": 23.26966667175293
          },
          {
           "lower": 23.537994384765625,
           "timepoint": 18.299999237060547,
           "trajectory": "I_sol",
           "upper": 23.537994384765625
          },
          {
           "lower": 23.809423446655273,
           "timepoint": 18.399999618530273,
           "trajectory": "I_sol",
           "upper": 23.809423446655273
          },
          {
           "lower": 24.083984375,
           "timepoint": 18.5,
           "trajectory": "I_sol",
           "upper": 24.083984375
          },
          {
           "lower": 24.36170768737793,
           "timepoint": 18.599998474121094,
           "trajectory": "I_sol",
           "upper": 24.36170768737793
          },
          {
           "lower": 24.64264488220215,
           "timepoint": 18.700000762939453,
           "trajectory": "I_sol",
           "upper": 24.64264488220215
          },
          {
           "lower": 24.92681312561035,
           "timepoint": 18.799999237060547,
           "trajectory": "I_sol",
           "upper": 24.92681312561035
          },
          {
           "lower": 25.21426773071289,
           "timepoint": 18.899999618530273,
           "trajectory": "I_sol",
           "upper": 25.21426773071289
          },
          {
           "lower": 25.505041122436523,
           "timepoint": 19,
           "trajectory": "I_sol",
           "upper": 25.505041122436523
          },
          {
           "lower": 25.79916000366211,
           "timepoint": 19.099998474121094,
           "trajectory": "I_sol",
           "upper": 25.79916000366211
          },
          {
           "lower": 26.0966854095459,
           "timepoint": 19.200000762939453,
           "trajectory": "I_sol",
           "upper": 26.0966854095459
          },
          {
           "lower": 26.397632598876953,
           "timepoint": 19.299999237060547,
           "trajectory": "I_sol",
           "upper": 26.397632598876953
          },
          {
           "lower": 26.702058792114258,
           "timepoint": 19.399999618530273,
           "trajectory": "I_sol",
           "upper": 26.702058792114258
          },
          {
           "lower": 27.009994506835938,
           "timepoint": 19.5,
           "trajectory": "I_sol",
           "upper": 27.009994506835938
          },
          {
           "lower": 27.32147789001465,
           "timepoint": 19.599998474121094,
           "trajectory": "I_sol",
           "upper": 27.32147789001465
          },
          {
           "lower": 27.636566162109375,
           "timepoint": 19.700000762939453,
           "trajectory": "I_sol",
           "upper": 27.636566162109375
          },
          {
           "lower": 27.955278396606445,
           "timepoint": 19.799999237060547,
           "trajectory": "I_sol",
           "upper": 27.955278396606445
          },
          {
           "lower": 28.277673721313477,
           "timepoint": 19.899999618530273,
           "trajectory": "I_sol",
           "upper": 28.277673721313477
          },
          {
           "lower": 28.603792190551758,
           "timepoint": 20,
           "trajectory": "I_sol",
           "upper": 28.603792190551758
          },
          {
           "lower": 28.933664321899414,
           "timepoint": 20.099998474121094,
           "trajectory": "I_sol",
           "upper": 28.933664321899414
          },
          {
           "lower": 29.267353057861328,
           "timepoint": 20.200000762939453,
           "trajectory": "I_sol",
           "upper": 29.267353057861328
          },
          {
           "lower": 29.60487937927246,
           "timepoint": 20.299999237060547,
           "trajectory": "I_sol",
           "upper": 29.60487937927246
          },
          {
           "lower": 29.9462947845459,
           "timepoint": 20.399999618530273,
           "trajectory": "I_sol",
           "upper": 29.9462947845459
          },
          {
           "lower": 30.291656494140625,
           "timepoint": 20.5,
           "trajectory": "I_sol",
           "upper": 30.291656494140625
          },
          {
           "lower": 30.64099884033203,
           "timepoint": 20.599998474121094,
           "trajectory": "I_sol",
           "upper": 30.64099884033203
          },
          {
           "lower": 30.994380950927734,
           "timepoint": 20.700000762939453,
           "trajectory": "I_sol",
           "upper": 30.994380950927734
          },
          {
           "lower": 31.35182762145996,
           "timepoint": 20.799999237060547,
           "trajectory": "I_sol",
           "upper": 31.35182762145996
          },
          {
           "lower": 31.713401794433594,
           "timepoint": 20.899999618530273,
           "trajectory": "I_sol",
           "upper": 31.713401794433594
          },
          {
           "lower": 32.07914733886719,
           "timepoint": 21,
           "trajectory": "I_sol",
           "upper": 32.07914733886719
          },
          {
           "lower": 32.4490966796875,
           "timepoint": 21.099998474121094,
           "trajectory": "I_sol",
           "upper": 32.4490966796875
          },
          {
           "lower": 32.823333740234375,
           "timepoint": 21.200000762939453,
           "trajectory": "I_sol",
           "upper": 32.823333740234375
          },
          {
           "lower": 33.20186996459961,
           "timepoint": 21.299999237060547,
           "trajectory": "I_sol",
           "upper": 33.20186996459961
          },
          {
           "lower": 33.58477783203125,
           "timepoint": 21.399999618530273,
           "trajectory": "I_sol",
           "upper": 33.58477783203125
          },
          {
           "lower": 33.97209930419922,
           "timepoint": 21.5,
           "trajectory": "I_sol",
           "upper": 33.97209930419922
          },
          {
           "lower": 34.3638801574707,
           "timepoint": 21.599998474121094,
           "trajectory": "I_sol",
           "upper": 34.3638801574707
          },
          {
           "lower": 34.760189056396484,
           "timepoint": 21.700000762939453,
           "trajectory": "I_sol",
           "upper": 34.760189056396484
          },
          {
           "lower": 35.16105651855469,
           "timepoint": 21.799999237060547,
           "trajectory": "I_sol",
           "upper": 35.16105651855469
          },
          {
           "lower": 35.5666618347168,
           "timepoint": 21.899999618530273,
           "trajectory": "I_sol",
           "upper": 35.5666618347168
          },
          {
           "lower": 35.97685623168945,
           "timepoint": 22,
           "trajectory": "I_sol",
           "upper": 35.97685623168945
          },
          {
           "lower": 36.39177703857422,
           "timepoint": 22.099998474121094,
           "trajectory": "I_sol",
           "upper": 36.39177703857422
          },
          {
           "lower": 36.811492919921875,
           "timepoint": 22.200000762939453,
           "trajectory": "I_sol",
           "upper": 36.811492919921875
          },
          {
           "lower": 37.23603057861328,
           "timepoint": 22.299999237060547,
           "trajectory": "I_sol",
           "upper": 37.23603057861328
          },
          {
           "lower": 37.665470123291016,
           "timepoint": 22.399999618530273,
           "trajectory": "I_sol",
           "upper": 37.665470123291016
          },
          {
           "lower": 38.09986877441406,
           "timepoint": 22.5,
           "trajectory": "I_sol",
           "upper": 38.09986877441406
          },
          {
           "lower": 38.53926467895508,
           "timepoint": 22.599998474121094,
           "trajectory": "I_sol",
           "upper": 38.53926467895508
          },
          {
           "lower": 38.98374938964844,
           "timepoint": 22.700000762939453,
           "trajectory": "I_sol",
           "upper": 38.98374938964844
          },
          {
           "lower": 39.4333381652832,
           "timepoint": 22.799999237060547,
           "trajectory": "I_sol",
           "upper": 39.4333381652832
          },
          {
           "lower": 39.88811492919922,
           "timepoint": 22.899999618530273,
           "trajectory": "I_sol",
           "upper": 39.88811492919922
          },
          {
           "lower": 40.348140716552734,
           "timepoint": 23,
           "trajectory": "I_sol",
           "upper": 40.348140716552734
          },
          {
           "lower": 40.813472747802734,
           "timepoint": 23.100000381469727,
           "trajectory": "I_sol",
           "upper": 40.813472747802734
          },
          {
           "lower": 41.284156799316406,
           "timepoint": 23.200000762939453,
           "trajectory": "I_sol",
           "upper": 41.284156799316406
          },
          {
           "lower": 41.7603874206543,
           "timepoint": 23.299999237060547,
           "trajectory": "I_sol",
           "upper": 41.7603874206543
          },
          {
           "lower": 42.24201583862305,
           "timepoint": 23.399999618530273,
           "trajectory": "I_sol",
           "upper": 42.24201583862305
          },
          {
           "lower": 42.72920227050781,
           "timepoint": 23.5,
           "trajectory": "I_sol",
           "upper": 42.72920227050781
          },
          {
           "lower": 43.222015380859375,
           "timepoint": 23.600000381469727,
           "trajectory": "I_sol",
           "upper": 43.222015380859375
          },
          {
           "lower": 43.720497131347656,
           "timepoint": 23.700000762939453,
           "trajectory": "I_sol",
           "upper": 43.720497131347656
          },
          {
           "lower": 44.22472381591797,
           "timepoint": 23.799999237060547,
           "trajectory": "I_sol",
           "upper": 44.22472381591797
          },
          {
           "lower": 44.73477554321289,
           "timepoint": 23.899999618530273,
           "trajectory": "I_sol",
           "upper": 44.73477554321289
          },
          {
           "lower": 45.250709533691406,
           "timepoint": 24,
           "trajectory": "I_sol",
           "upper": 45.250709533691406
          },
          {
           "lower": 45.77259063720703,
           "timepoint": 24.100000381469727,
           "trajectory": "I_sol",
           "upper": 45.77259063720703
          },
          {
           "lower": 46.30049133300781,
           "timepoint": 24.200000762939453,
           "trajectory": "I_sol",
           "upper": 46.30049133300781
          },
          {
           "lower": 46.83446502685547,
           "timepoint": 24.299999237060547,
           "trajectory": "I_sol",
           "upper": 46.83446502685547
          },
          {
           "lower": 47.374610900878906,
           "timepoint": 24.399999618530273,
           "trajectory": "I_sol",
           "upper": 47.374610900878906
          },
          {
           "lower": 47.920982360839844,
           "timepoint": 24.5,
           "trajectory": "I_sol",
           "upper": 47.920982360839844
          },
          {
           "lower": 48.473655700683594,
           "timepoint": 24.600000381469727,
           "trajectory": "I_sol",
           "upper": 48.473655700683594
          },
          {
           "lower": 49.03279495239258,
           "timepoint": 24.700000762939453,
           "trajectory": "I_sol",
           "upper": 49.03279495239258
          },
          {
           "lower": 49.59829330444336,
           "timepoint": 24.799999237060547,
           "trajectory": "I_sol",
           "upper": 49.59829330444336
          },
          {
           "lower": 50.17032241821289,
           "timepoint": 24.899999618530273,
           "trajectory": "I_sol",
           "upper": 50.17032241821289
          },
          {
           "lower": 50.74895477294922,
           "timepoint": 25,
           "trajectory": "I_sol",
           "upper": 50.74895477294922
          },
          {
           "lower": 51.33426284790039,
           "timepoint": 25.100000381469727,
           "trajectory": "I_sol",
           "upper": 51.33426284790039
          },
          {
           "lower": 51.92631149291992,
           "timepoint": 25.200000762939453,
           "trajectory": "I_sol",
           "upper": 51.92631149291992
          },
          {
           "lower": 52.525184631347656,
           "timepoint": 25.299999237060547,
           "trajectory": "I_sol",
           "upper": 52.525184631347656
          },
          {
           "lower": 53.1309814453125,
           "timepoint": 25.399999618530273,
           "trajectory": "I_sol",
           "upper": 53.1309814453125
          },
          {
           "lower": 53.74375534057617,
           "timepoint": 25.5,
           "trajectory": "I_sol",
           "upper": 53.74375534057617
          },
          {
           "lower": 54.36360168457031,
           "timepoint": 25.600000381469727,
           "trajectory": "I_sol",
           "upper": 54.36360168457031
          },
          {
           "lower": 54.9906005859375,
           "timepoint": 25.700000762939453,
           "trajectory": "I_sol",
           "upper": 54.9906005859375
          },
          {
           "lower": 55.624813079833984,
           "timepoint": 25.799999237060547,
           "trajectory": "I_sol",
           "upper": 55.624813079833984
          },
          {
           "lower": 56.266357421875,
           "timepoint": 25.899999618530273,
           "trajectory": "I_sol",
           "upper": 56.266357421875
          },
          {
           "lower": 56.915306091308594,
           "timepoint": 26,
           "trajectory": "I_sol",
           "upper": 56.915306091308594
          },
          {
           "lower": 57.57173538208008,
           "timepoint": 26.100000381469727,
           "trajectory": "I_sol",
           "upper": 57.57173538208008
          },
          {
           "lower": 58.23567199707031,
           "timepoint": 26.200000762939453,
           "trajectory": "I_sol",
           "upper": 58.23567199707031
          },
          {
           "lower": 58.90730667114258,
           "timepoint": 26.299999237060547,
           "trajectory": "I_sol",
           "upper": 58.90730667114258
          },
          {
           "lower": 59.58670425415039,
           "timepoint": 26.399999618530273,
           "trajectory": "I_sol",
           "upper": 59.58670425415039
          },
          {
           "lower": 60.2739372253418,
           "timepoint": 26.5,
           "trajectory": "I_sol",
           "upper": 60.2739372253418
          },
          {
           "lower": 60.96909713745117,
           "timepoint": 26.600000381469727,
           "trajectory": "I_sol",
           "upper": 60.96909713745117
          },
          {
           "lower": 61.672271728515625,
           "timepoint": 26.700000762939453,
           "trajectory": "I_sol",
           "upper": 61.672271728515625
          },
          {
           "lower": 62.383548736572266,
           "timepoint": 26.799999237060547,
           "trajectory": "I_sol",
           "upper": 62.383548736572266
          },
          {
           "lower": 63.1030387878418,
           "timepoint": 26.899999618530273,
           "trajectory": "I_sol",
           "upper": 63.1030387878418
          },
          {
           "lower": 63.83082580566406,
           "timepoint": 27,
           "trajectory": "I_sol",
           "upper": 63.83082580566406
          },
          {
           "lower": 64.56700897216797,
           "timepoint": 27.100000381469727,
           "trajectory": "I_sol",
           "upper": 64.56700897216797
          },
          {
           "lower": 65.31169128417969,
           "timepoint": 27.200000762939453,
           "trajectory": "I_sol",
           "upper": 65.31169128417969
          },
          {
           "lower": 66.06493377685547,
           "timepoint": 27.299999237060547,
           "trajectory": "I_sol",
           "upper": 66.06493377685547
          },
          {
           "lower": 66.8268814086914,
           "timepoint": 27.399999618530273,
           "trajectory": "I_sol",
           "upper": 66.8268814086914
          },
          {
           "lower": 67.59762573242188,
           "timepoint": 27.5,
           "trajectory": "I_sol",
           "upper": 67.59762573242188
          },
          {
           "lower": 68.3772201538086,
           "timepoint": 27.600000381469727,
           "trajectory": "I_sol",
           "upper": 68.3772201538086
          },
          {
           "lower": 69.16583251953125,
           "timepoint": 27.700000762939453,
           "trajectory": "I_sol",
           "upper": 69.16583251953125
          },
          {
           "lower": 69.96353149414062,
           "timepoint": 27.799999237060547,
           "trajectory": "I_sol",
           "upper": 69.96353149414062
          },
          {
           "lower": 70.77044677734375,
           "timepoint": 27.899999618530273,
           "trajectory": "I_sol",
           "upper": 70.77044677734375
          },
          {
           "lower": 71.58666229248047,
           "timepoint": 28,
           "trajectory": "I_sol",
           "upper": 71.58666229248047
          },
          {
           "lower": 72.41229248046875,
           "timepoint": 28.100000381469727,
           "trajectory": "I_sol",
           "upper": 72.41229248046875
          },
          {
           "lower": 73.24745178222656,
           "timepoint": 28.200000762939453,
           "trajectory": "I_sol",
           "upper": 73.24745178222656
          },
          {
           "lower": 74.09221649169922,
           "timepoint": 28.299999237060547,
           "trajectory": "I_sol",
           "upper": 74.09221649169922
          },
          {
           "lower": 74.94674682617188,
           "timepoint": 28.399999618530273,
           "trajectory": "I_sol",
           "upper": 74.94674682617188
          },
          {
           "lower": 75.81111907958984,
           "timepoint": 28.5,
           "trajectory": "I_sol",
           "upper": 75.81111907958984
          },
          {
           "lower": 76.68547058105469,
           "timepoint": 28.600000381469727,
           "trajectory": "I_sol",
           "upper": 76.68547058105469
          },
          {
           "lower": 77.56989288330078,
           "timepoint": 28.700000762939453,
           "trajectory": "I_sol",
           "upper": 77.56989288330078
          },
          {
           "lower": 78.46449279785156,
           "timepoint": 28.799999237060547,
           "trajectory": "I_sol",
           "upper": 78.46449279785156
          },
          {
           "lower": 79.36942291259766,
           "timepoint": 28.899999618530273,
           "trajectory": "I_sol",
           "upper": 79.36942291259766
          },
          {
           "lower": 80.2847900390625,
           "timepoint": 29,
           "trajectory": "I_sol",
           "upper": 80.2847900390625
          },
          {
           "lower": 81.2108383178711,
           "timepoint": 29.100000381469727,
           "trajectory": "I_sol",
           "upper": 81.2108383178711
          },
          {
           "lower": 82.14746856689453,
           "timepoint": 29.200000762939453,
           "trajectory": "I_sol",
           "upper": 82.14746856689453
          },
          {
           "lower": 83.09487915039062,
           "timepoint": 29.299999237060547,
           "trajectory": "I_sol",
           "upper": 83.09487915039062
          },
          {
           "lower": 84.0532455444336,
           "timepoint": 29.399999618530273,
           "trajectory": "I_sol",
           "upper": 84.0532455444336
          },
          {
           "lower": 85.02264404296875,
           "timepoint": 29.5,
           "trajectory": "I_sol",
           "upper": 85.02264404296875
          },
          {
           "lower": 86.00323486328125,
           "timepoint": 29.600000381469727,
           "trajectory": "I_sol",
           "upper": 86.00323486328125
          },
          {
           "lower": 86.99513244628906,
           "timepoint": 29.700000762939453,
           "trajectory": "I_sol",
           "upper": 86.99513244628906
          },
          {
           "lower": 87.99844360351562,
           "timepoint": 29.799999237060547,
           "trajectory": "I_sol",
           "upper": 87.99844360351562
          },
          {
           "lower": 89.01334381103516,
           "timepoint": 29.899999618530273,
           "trajectory": "I_sol",
           "upper": 89.01334381103516
          },
          {
           "lower": 90.0399398803711,
           "timepoint": 30,
           "trajectory": "I_sol",
           "upper": 90.0399398803711
          },
          {
           "lower": 91.07837677001953,
           "timepoint": 30.100000381469727,
           "trajectory": "I_sol",
           "upper": 91.07837677001953
          },
          {
           "lower": 92.1287841796875,
           "timepoint": 30.200000762939453,
           "trajectory": "I_sol",
           "upper": 92.1287841796875
          },
          {
           "lower": 93.1912841796875,
           "timepoint": 30.299999237060547,
           "trajectory": "I_sol",
           "upper": 93.1912841796875
          },
          {
           "lower": 94.26605224609375,
           "timepoint": 30.399999618530273,
           "trajectory": "I_sol",
           "upper": 94.26605224609375
          },
          {
           "lower": 95.35342407226562,
           "timepoint": 30.5,
           "trajectory": "I_sol",
           "upper": 95.35342407226562
          },
          {
           "lower": 96.45315551757812,
           "timepoint": 30.600000381469727,
           "trajectory": "I_sol",
           "upper": 96.45315551757812
          },
          {
           "lower": 97.5655746459961,
           "timepoint": 30.700000762939453,
           "trajectory": "I_sol",
           "upper": 97.5655746459961
          },
          {
           "lower": 98.69081115722656,
           "timepoint": 30.799999237060547,
           "trajectory": "I_sol",
           "upper": 98.69081115722656
          },
          {
           "lower": 99.82902526855469,
           "timepoint": 30.899999618530273,
           "trajectory": "I_sol",
           "upper": 99.82902526855469
          },
          {
           "lower": 100.98037719726562,
           "timepoint": 31,
           "trajectory": "I_sol",
           "upper": 100.98037719726562
          },
          {
           "lower": 2.2400000257438712e-11,
           "timepoint": 0,
           "trajectory": "R_sol",
           "upper": 2.2400000257438712e-11
          },
          {
           "lower": 0.022407859563827515,
           "timepoint": 0.10000000149011612,
           "trajectory": "R_sol",
           "upper": 0.022407859563827515
          },
          {
           "lower": 0.04483839496970177,
           "timepoint": 0.20000000298023224,
           "trajectory": "R_sol",
           "upper": 0.04483839496970177
          },
          {
           "lower": 0.06730213016271591,
           "timepoint": 0.30000001192092896,
           "trajectory": "R_sol",
           "upper": 0.06730213016271591
          },
          {
           "lower": 0.08980889618396759,
           "timepoint": 0.4000000059604645,
           "trajectory": "R_sol",
           "upper": 0.08980889618396759
          },
          {
           "lower": 0.11236855387687683,
           "timepoint": 0.5,
           "trajectory": "R_sol",
           "upper": 0.11236855387687683
          },
          {
           "lower": 0.1349906176328659,
           "timepoint": 0.6000000238418579,
           "trajectory": "R_sol",
           "upper": 0.1349906176328659
          },
          {
           "lower": 0.1576843112707138,
           "timepoint": 0.699999988079071,
           "trajectory": "R_sol",
           "upper": 0.1576843112707138
          },
          {
           "lower": 0.18045875430107117,
           "timepoint": 0.800000011920929,
           "trajectory": "R_sol",
           "upper": 0.18045875430107117
          },
          {
           "lower": 0.20332294702529907,
           "timepoint": 0.9000000357627869,
           "trajectory": "R_sol",
           "upper": 0.20332294702529907
          },
          {
           "lower": 0.22628524899482727,
           "timepoint": 1,
           "trajectory": "R_sol",
           "upper": 0.22628524899482727
          },
          {
           "lower": 0.24935419857501984,
           "timepoint": 1.100000023841858,
           "trajectory": "R_sol",
           "upper": 0.24935419857501984
          },
          {
           "lower": 0.27253803610801697,
           "timepoint": 1.2000000476837158,
           "trajectory": "R_sol",
           "upper": 0.27253803610801697
          },
          {
           "lower": 0.2958444058895111,
           "timepoint": 1.3000000715255737,
           "trajectory": "R_sol",
           "upper": 0.2958444058895111
          },
          {
           "lower": 0.31928178668022156,
           "timepoint": 1.399999976158142,
           "trajectory": "R_sol",
           "upper": 0.31928178668022156
          },
          {
           "lower": 0.3428574502468109,
           "timepoint": 1.5,
           "trajectory": "R_sol",
           "upper": 0.3428574502468109
          },
          {
           "lower": 0.36657896637916565,
           "timepoint": 1.600000023841858,
           "trajectory": "R_sol",
           "upper": 0.36657896637916565
          },
          {
           "lower": 0.39045488834381104,
           "timepoint": 1.7000000476837158,
           "trajectory": "R_sol",
           "upper": 0.39045488834381104
          },
          {
           "lower": 0.41449081897735596,
           "timepoint": 1.8000000715255737,
           "trajectory": "R_sol",
           "upper": 0.41449081897735596
          },
          {
           "lower": 0.4386945962905884,
           "timepoint": 1.899999976158142,
           "trajectory": "R_sol",
           "upper": 0.4386945962905884
          },
          {
           "lower": 0.46307307481765747,
           "timepoint": 2,
           "trajectory": "R_sol",
           "upper": 0.46307307481765747
          },
          {
           "lower": 0.4876331090927124,
           "timepoint": 2.1000001430511475,
           "trajectory": "R_sol",
           "upper": 0.4876331090927124
          },
          {
           "lower": 0.5123820900917053,
           "timepoint": 2.200000047683716,
           "trajectory": "R_sol",
           "upper": 0.5123820900917053
          },
          {
           "lower": 0.5373258590698242,
           "timepoint": 2.299999952316284,
           "trajectory": "R_sol",
           "upper": 0.5373258590698242
          },
          {
           "lower": 0.5624712109565735,
           "timepoint": 2.4000000953674316,
           "trajectory": "R_sol",
           "upper": 0.5624712109565735
          },
          {
           "lower": 0.5878244042396545,
           "timepoint": 2.5,
           "trajectory": "R_sol",
           "upper": 0.5878244042396545
          },
          {
           "lower": 0.6133919358253479,
           "timepoint": 2.6000001430511475,
           "trajectory": "R_sol",
           "upper": 0.6133919358253479
          },
          {
           "lower": 0.6391808986663818,
           "timepoint": 2.700000047683716,
           "trajectory": "R_sol",
           "upper": 0.6391808986663818
          },
          {
           "lower": 0.6651962995529175,
           "timepoint": 2.799999952316284,
           "trajectory": "R_sol",
           "upper": 0.6651962995529175
          },
          {
           "lower": 0.6914448142051697,
           "timepoint": 2.9000000953674316,
           "trajectory": "R_sol",
           "upper": 0.6914448142051697
          },
          {
           "lower": 0.7179322838783264,
           "timepoint": 3,
           "trajectory": "R_sol",
           "upper": 0.7179322838783264
          },
          {
           "lower": 0.7446650862693787,
           "timepoint": 3.1000001430511475,
           "trajectory": "R_sol",
           "upper": 0.7446650862693787
          },
          {
           "lower": 0.7716476321220398,
           "timepoint": 3.200000047683716,
           "trajectory": "R_sol",
           "upper": 0.7716476321220398
          },
          {
           "lower": 0.7988875508308411,
           "timepoint": 3.299999952316284,
           "trajectory": "R_sol",
           "upper": 0.7988875508308411
          },
          {
           "lower": 0.8263900876045227,
           "timepoint": 3.4000000953674316,
           "trajectory": "R_sol",
           "upper": 0.8263900876045227
          },
          {
           "lower": 0.8541609048843384,
           "timepoint": 3.5,
           "trajectory": "R_sol",
           "upper": 0.8541609048843384
          },
          {
           "lower": 0.8822057843208313,
           "timepoint": 3.6000001430511475,
           "trajectory": "R_sol",
           "upper": 0.8822057843208313
          },
          {
           "lower": 0.9105302691459656,
           "timepoint": 3.700000047683716,
           "trajectory": "R_sol",
           "upper": 0.9105302691459656
          },
          {
           "lower": 0.9391404986381531,
           "timepoint": 3.799999952316284,
           "trajectory": "R_sol",
           "upper": 0.9391404986381531
          },
          {
           "lower": 0.9680413603782654,
           "timepoint": 3.9000000953674316,
           "trajectory": "R_sol",
           "upper": 0.9680413603782654
          },
          {
           "lower": 0.9972386956214905,
           "timepoint": 4,
           "trajectory": "R_sol",
           "upper": 0.9972386956214905
          },
          {
           "lower": 1.0267382860183716,
           "timepoint": 4.099999904632568,
           "trajectory": "R_sol",
           "upper": 1.0267382860183716
          },
          {
           "lower": 1.0565458536148071,
           "timepoint": 4.200000286102295,
           "trajectory": "R_sol",
           "upper": 1.0565458536148071
          },
          {
           "lower": 1.086666226387024,
           "timepoint": 4.300000190734863,
           "trajectory": "R_sol",
           "upper": 1.086666226387024
          },
          {
           "lower": 1.1171022653579712,
           "timepoint": 4.400000095367432,
           "trajectory": "R_sol",
           "upper": 1.1171022653579712
          },
          {
           "lower": 1.1478643417358398,
           "timepoint": 4.5,
           "trajectory": "R_sol",
           "upper": 1.1478643417358398
          },
          {
           "lower": 1.1789556741714478,
           "timepoint": 4.599999904632568,
           "trajectory": "R_sol",
           "upper": 1.1789556741714478
          },
          {
           "lower": 1.2103819847106934,
           "timepoint": 4.700000286102295,
           "trajectory": "R_sol",
           "upper": 1.2103819847106934
          },
          {
           "lower": 1.2421482801437378,
           "timepoint": 4.800000190734863,
           "trajectory": "R_sol",
           "upper": 1.2421482801437378
          },
          {
           "lower": 1.2742600440979004,
           "timepoint": 4.900000095367432,
           "trajectory": "R_sol",
           "upper": 1.2742600440979004
          },
          {
           "lower": 1.3067227602005005,
           "timepoint": 5,
           "trajectory": "R_sol",
           "upper": 1.3067227602005005
          },
          {
           "lower": 1.339543342590332,
           "timepoint": 5.099999904632568,
           "trajectory": "R_sol",
           "upper": 1.339543342590332
          },
          {
           "lower": 1.3727248907089233,
           "timepoint": 5.200000286102295,
           "trajectory": "R_sol",
           "upper": 1.3727248907089233
          },
          {
           "lower": 1.4062739610671997,
           "timepoint": 5.300000190734863,
           "trajectory": "R_sol",
           "upper": 1.4062739610671997
          },
          {
           "lower": 1.4401956796646118,
           "timepoint": 5.400000095367432,
           "trajectory": "R_sol",
           "upper": 1.4401956796646118
          },
          {
           "lower": 1.4744958877563477,
           "timepoint": 5.5,
           "trajectory": "R_sol",
           "upper": 1.4744958877563477
          },
          {
           "lower": 1.5091795921325684,
           "timepoint": 5.599999904632568,
           "trajectory": "R_sol",
           "upper": 1.5091795921325684
          },
          {
           "lower": 1.544252872467041,
           "timepoint": 5.700000286102295,
           "trajectory": "R_sol",
           "upper": 1.544252872467041
          },
          {
           "lower": 1.5797191858291626,
           "timepoint": 5.800000190734863,
           "trajectory": "R_sol",
           "upper": 1.5797191858291626
          },
          {
           "lower": 1.6155868768692017,
           "timepoint": 5.900000095367432,
           "trajectory": "R_sol",
           "upper": 1.6155868768692017
          },
          {
           "lower": 1.651860237121582,
           "timepoint": 6,
           "trajectory": "R_sol",
           "upper": 1.651860237121582
          },
          {
           "lower": 1.688544750213623,
           "timepoint": 6.099999904632568,
           "trajectory": "R_sol",
           "upper": 1.688544750213623
          },
          {
           "lower": 1.7256464958190918,
           "timepoint": 6.200000286102295,
           "trajectory": "R_sol",
           "upper": 1.7256464958190918
          },
          {
           "lower": 1.7631704807281494,
           "timepoint": 6.300000190734863,
           "trajectory": "R_sol",
           "upper": 1.7631704807281494
          },
          {
           "lower": 1.8011221885681152,
           "timepoint": 6.400000095367432,
           "trajectory": "R_sol",
           "upper": 1.8011221885681152
          },
          {
           "lower": 1.8395085334777832,
           "timepoint": 6.5,
           "trajectory": "R_sol",
           "upper": 1.8395085334777832
          },
          {
           "lower": 1.8783338069915771,
           "timepoint": 6.599999904632568,
           "trajectory": "R_sol",
           "upper": 1.8783338069915771
          },
          {
           "lower": 1.917604684829712,
           "timepoint": 6.700000286102295,
           "trajectory": "R_sol",
           "upper": 1.917604684829712
          },
          {
           "lower": 1.9573262929916382,
           "timepoint": 6.800000190734863,
           "trajectory": "R_sol",
           "upper": 1.9573262929916382
          },
          {
           "lower": 1.997504472732544,
           "timepoint": 6.900000095367432,
           "trajectory": "R_sol",
           "upper": 1.997504472732544
          },
          {
           "lower": 2.0381453037261963,
           "timepoint": 7,
           "trajectory": "R_sol",
           "upper": 2.0381453037261963
          },
          {
           "lower": 2.079254150390625,
           "timepoint": 7.099999904632568,
           "trajectory": "R_sol",
           "upper": 2.079254150390625
          },
          {
           "lower": 2.120837450027466,
           "timepoint": 7.200000286102295,
           "trajectory": "R_sol",
           "upper": 2.120837450027466
          },
          {
           "lower": 2.1629037857055664,
           "timepoint": 7.300000190734863,
           "trajectory": "R_sol",
           "upper": 2.1629037857055664
          },
          {
           "lower": 2.2054545879364014,
           "timepoint": 7.400000095367432,
           "trajectory": "R_sol",
           "upper": 2.2054545879364014
          },
          {
           "lower": 2.248497724533081,
           "timepoint": 7.5,
           "trajectory": "R_sol",
           "upper": 2.248497724533081
          },
          {
           "lower": 2.2920401096343994,
           "timepoint": 7.599999904632568,
           "trajectory": "R_sol",
           "upper": 2.2920401096343994
          },
          {
           "lower": 2.336087465286255,
           "timepoint": 7.700000286102295,
           "trajectory": "R_sol",
           "upper": 2.336087465286255
          },
          {
           "lower": 2.380645990371704,
           "timepoint": 7.800000190734863,
           "trajectory": "R_sol",
           "upper": 2.380645990371704
          },
          {
           "lower": 2.425722122192383,
           "timepoint": 7.900000095367432,
           "trajectory": "R_sol",
           "upper": 2.425722122192383
          },
          {
           "lower": 2.4713222980499268,
           "timepoint": 8,
           "trajectory": "R_sol",
           "upper": 2.4713222980499268
          },
          {
           "lower": 2.5174458026885986,
           "timepoint": 8.100000381469727,
           "trajectory": "R_sol",
           "upper": 2.5174458026885986
          },
          {
           "lower": 2.564110279083252,
           "timepoint": 8.199999809265137,
           "trajectory": "R_sol",
           "upper": 2.564110279083252
          },
          {
           "lower": 2.6113178730010986,
           "timepoint": 8.300000190734863,
           "trajectory": "R_sol",
           "upper": 2.6113178730010986
          },
          {
           "lower": 2.6590747833251953,
           "timepoint": 8.40000057220459,
           "trajectory": "R_sol",
           "upper": 2.6590747833251953
          },
          {
           "lower": 2.7073869705200195,
           "timepoint": 8.5,
           "trajectory": "R_sol",
           "upper": 2.7073869705200195
          },
          {
           "lower": 2.7562623023986816,
           "timepoint": 8.600000381469727,
           "trajectory": "R_sol",
           "upper": 2.7562623023986816
          },
          {
           "lower": 2.8057057857513428,
           "timepoint": 8.699999809265137,
           "trajectory": "R_sol",
           "upper": 2.8057057857513428
          },
          {
           "lower": 2.8557257652282715,
           "timepoint": 8.800000190734863,
           "trajectory": "R_sol",
           "upper": 2.8557257652282715
          },
          {
           "lower": 2.9063289165496826,
           "timepoint": 8.90000057220459,
           "trajectory": "R_sol",
           "upper": 2.9063289165496826
          },
          {
           "lower": 2.957526206970215,
           "timepoint": 9,
           "trajectory": "R_sol",
           "upper": 2.957526206970215
          },
          {
           "lower": 3.009316921234131,
           "timepoint": 9.100000381469727,
           "trajectory": "R_sol",
           "upper": 3.009316921234131
          },
          {
           "lower": 3.061711311340332,
           "timepoint": 9.199999809265137,
           "trajectory": "R_sol",
           "upper": 3.061711311340332
          },
          {
           "lower": 3.1147172451019287,
           "timepoint": 9.300000190734863,
           "trajectory": "R_sol",
           "upper": 3.1147172451019287
          },
          {
           "lower": 3.1683413982391357,
           "timepoint": 9.40000057220459,
           "trajectory": "R_sol",
           "upper": 3.1683413982391357
          },
          {
           "lower": 3.222590446472168,
           "timepoint": 9.5,
           "trajectory": "R_sol",
           "upper": 3.222590446472168
          },
          {
           "lower": 3.277473211288452,
           "timepoint": 9.600000381469727,
           "trajectory": "R_sol",
           "upper": 3.277473211288452
          },
          {
           "lower": 3.332995891571045,
           "timepoint": 9.699999809265137,
           "trajectory": "R_sol",
           "upper": 3.332995891571045
          },
          {
           "lower": 3.389167070388794,
           "timepoint": 9.800000190734863,
           "trajectory": "R_sol",
           "upper": 3.389167070388794
          },
          {
           "lower": 3.445993423461914,
           "timepoint": 9.90000057220459,
           "trajectory": "R_sol",
           "upper": 3.445993423461914
          },
          {
           "lower": 3.503480911254883,
           "timepoint": 10,
           "trajectory": "R_sol",
           "upper": 3.503480911254883
          },
          {
           "lower": 3.561640977859497,
           "timepoint": 10.100000381469727,
           "trajectory": "R_sol",
           "upper": 3.561640977859497
          },
          {
           "lower": 3.620478868484497,
           "timepoint": 10.199999809265137,
           "trajectory": "R_sol",
           "upper": 3.620478868484497
          },
          {
           "lower": 3.680004358291626,
           "timepoint": 10.300000190734863,
           "trajectory": "R_sol",
           "upper": 3.680004358291626
          },
          {
           "lower": 3.7402243614196777,
           "timepoint": 10.40000057220459,
           "trajectory": "R_sol",
           "upper": 3.7402243614196777
          },
          {
           "lower": 3.8011460304260254,
           "timepoint": 10.5,
           "trajectory": "R_sol",
           "upper": 3.8011460304260254
          },
          {
           "lower": 3.862779378890991,
           "timepoint": 10.600000381469727,
           "trajectory": "R_sol",
           "upper": 3.862779378890991
          },
          {
           "lower": 3.925130844116211,
           "timepoint": 10.699999809265137,
           "trajectory": "R_sol",
           "upper": 3.925130844116211
          },
          {
           "lower": 3.988210678100586,
           "timepoint": 10.800000190734863,
           "trajectory": "R_sol",
           "upper": 3.988210678100586
          },
          {
           "lower": 4.05202579498291,
           "timepoint": 10.90000057220459,
           "trajectory": "R_sol",
           "upper": 4.05202579498291
          },
          {
           "lower": 4.116585731506348,
           "timepoint": 11,
           "trajectory": "R_sol",
           "upper": 4.116585731506348
          },
          {
           "lower": 4.181896209716797,
           "timepoint": 11.100000381469727,
           "trajectory": "R_sol",
           "upper": 4.181896209716797
          },
          {
           "lower": 4.247969150543213,
           "timepoint": 11.199999809265137,
           "trajectory": "R_sol",
           "upper": 4.247969150543213
          },
          {
           "lower": 4.314813613891602,
           "timepoint": 11.300000190734863,
           "trajectory": "R_sol",
           "upper": 4.314813613891602
          },
          {
           "lower": 4.3824381828308105,
           "timepoint": 11.40000057220459,
           "trajectory": "R_sol",
           "upper": 4.3824381828308105
          },
          {
           "lower": 4.4508490562438965,
           "timepoint": 11.5,
           "trajectory": "R_sol",
           "upper": 4.4508490562438965
          },
          {
           "lower": 4.520058631896973,
           "timepoint": 11.600000381469727,
           "trajectory": "R_sol",
           "upper": 4.520058631896973
          },
          {
           "lower": 4.590074062347412,
           "timepoint": 11.699999809265137,
           "trajectory": "R_sol",
           "upper": 4.590074062347412
          },
          {
           "lower": 4.660905838012695,
           "timepoint": 11.800000190734863,
           "trajectory": "R_sol",
           "upper": 4.660905838012695
          },
          {
           "lower": 4.7325615882873535,
           "timepoint": 11.90000057220459,
           "trajectory": "R_sol",
           "upper": 4.7325615882873535
          },
          {
           "lower": 4.805052757263184,
           "timepoint": 12,
           "trajectory": "R_sol",
           "upper": 4.805052757263184
          },
          {
           "lower": 4.878388404846191,
           "timepoint": 12.100000381469727,
           "trajectory": "R_sol",
           "upper": 4.878388404846191
          },
          {
           "lower": 4.952581882476807,
           "timepoint": 12.199999809265137,
           "trajectory": "R_sol",
           "upper": 4.952581882476807
          },
          {
           "lower": 5.027636528015137,
           "timepoint": 12.300000190734863,
           "trajectory": "R_sol",
           "upper": 5.027636528015137
          },
          {
           "lower": 5.103565692901611,
           "timepoint": 12.40000057220459,
           "trajectory": "R_sol",
           "upper": 5.103565692901611
          },
          {
           "lower": 5.180377960205078,
           "timepoint": 12.5,
           "trajectory": "R_sol",
           "upper": 5.180377960205078
          },
          {
           "lower": 5.25808572769165,
           "timepoint": 12.600000381469727,
           "trajectory": "R_sol",
           "upper": 5.25808572769165
          },
          {
           "lower": 5.336696624755859,
           "timepoint": 12.699999809265137,
           "trajectory": "R_sol",
           "upper": 5.336696624755859
          },
          {
           "lower": 5.416224002838135,
           "timepoint": 12.800000190734863,
           "trajectory": "R_sol",
           "upper": 5.416224002838135
          },
          {
           "lower": 5.496675968170166,
           "timepoint": 12.90000057220459,
           "trajectory": "R_sol",
           "upper": 5.496675968170166
          },
          {
           "lower": 5.578064918518066,
           "timepoint": 13,
           "trajectory": "R_sol",
           "upper": 5.578064918518066
          },
          {
           "lower": 5.660401344299316,
           "timepoint": 13.100000381469727,
           "trajectory": "R_sol",
           "upper": 5.660401344299316
          },
          {
           "lower": 5.743694305419922,
           "timepoint": 13.199999809265137,
           "trajectory": "R_sol",
           "upper": 5.743694305419922
          },
          {
           "lower": 5.827957630157471,
           "timepoint": 13.300000190734863,
           "trajectory": "R_sol",
           "upper": 5.827957630157471
          },
          {
           "lower": 5.913201332092285,
           "timepoint": 13.40000057220459,
           "trajectory": "R_sol",
           "upper": 5.913201332092285
          },
          {
           "lower": 5.999425411224365,
           "timepoint": 13.5,
           "trajectory": "R_sol",
           "upper": 5.999425411224365
          },
          {
           "lower": 6.086660861968994,
           "timepoint": 13.600000381469727,
           "trajectory": "R_sol",
           "upper": 6.086660861968994
          },
          {
           "lower": 6.174910068511963,
           "timepoint": 13.699999809265137,
           "trajectory": "R_sol",
           "upper": 6.174910068511963
          },
          {
           "lower": 6.264185428619385,
           "timepoint": 13.800000190734863,
           "trajectory": "R_sol",
           "upper": 6.264185428619385
          },
          {
           "lower": 6.354498863220215,
           "timepoint": 13.90000057220459,
           "trajectory": "R_sol",
           "upper": 6.354498863220215
          },
          {
           "lower": 6.445860385894775,
           "timepoint": 14,
           "trajectory": "R_sol",
           "upper": 6.445860385894775
          },
          {
           "lower": 6.5382843017578125,
           "timepoint": 14.100000381469727,
           "trajectory": "R_sol",
           "upper": 6.5382843017578125
          },
          {
           "lower": 6.631780624389648,
           "timepoint": 14.199999809265137,
           "trajectory": "R_sol",
           "upper": 6.631780624389648
          },
          {
           "lower": 6.726365089416504,
           "timepoint": 14.300000190734863,
           "trajectory": "R_sol",
           "upper": 6.726365089416504
          },
          {
           "lower": 6.822047233581543,
           "timepoint": 14.40000057220459,
           "trajectory": "R_sol",
           "upper": 6.822047233581543
          },
          {
           "lower": 6.918839931488037,
           "timepoint": 14.5,
           "trajectory": "R_sol",
           "upper": 6.918839931488037
          },
          {
           "lower": 7.016757488250732,
           "timepoint": 14.600000381469727,
           "trajectory": "R_sol",
           "upper": 7.016757488250732
          },
          {
           "lower": 7.115811347961426,
           "timepoint": 14.699999809265137,
           "trajectory": "R_sol",
           "upper": 7.115811347961426
          },
          {
           "lower": 7.216012954711914,
           "timepoint": 14.800000190734863,
           "trajectory": "R_sol",
           "upper": 7.216012954711914
          },
          {
           "lower": 7.317379951477051,
           "timepoint": 14.90000057220459,
           "trajectory": "R_sol",
           "upper": 7.317379951477051
          },
          {
           "lower": 7.419922828674316,
           "timepoint": 15,
           "trajectory": "R_sol",
           "upper": 7.419922828674316
          },
          {
           "lower": 7.523656845092773,
           "timepoint": 15.100000381469727,
           "trajectory": "R_sol",
           "upper": 7.523656845092773
          },
          {
           "lower": 7.628592014312744,
           "timepoint": 15.199999809265137,
           "trajectory": "R_sol",
           "upper": 7.628592014312744
          },
          {
           "lower": 7.73474645614624,
           "timepoint": 15.300000190734863,
           "trajectory": "R_sol",
           "upper": 7.73474645614624
          },
          {
           "lower": 7.842132568359375,
           "timepoint": 15.40000057220459,
           "trajectory": "R_sol",
           "upper": 7.842132568359375
          },
          {
           "lower": 7.950762748718262,
           "timepoint": 15.5,
           "trajectory": "R_sol",
           "upper": 7.950762748718262
          },
          {
           "lower": 8.060652732849121,
           "timepoint": 15.59999942779541,
           "trajectory": "R_sol",
           "upper": 8.060652732849121
          },
          {
           "lower": 8.171817779541016,
           "timepoint": 15.699999809265137,
           "trajectory": "R_sol",
           "upper": 8.171817779541016
          },
          {
           "lower": 8.284271240234375,
           "timepoint": 15.800000190734863,
           "trajectory": "R_sol",
           "upper": 8.284271240234375
          },
          {
           "lower": 8.398029327392578,
           "timepoint": 15.899999618530273,
           "trajectory": "R_sol",
           "upper": 8.398029327392578
          },
          {
           "lower": 8.513106346130371,
           "timepoint": 16,
           "trajectory": "R_sol",
           "upper": 8.513106346130371
          },
          {
           "lower": 8.629514694213867,
           "timepoint": 16.099998474121094,
           "trajectory": "R_sol",
           "upper": 8.629514694213867
          },
          {
           "lower": 8.747291564941406,
           "timepoint": 16.200000762939453,
           "trajectory": "R_sol",
           "upper": 8.747291564941406
          },
          {
           "lower": 8.866416931152344,
           "timepoint": 16.299999237060547,
           "trajectory": "R_sol",
           "upper": 8.866416931152344
          },
          {
           "lower": 8.98692512512207,
           "timepoint": 16.399999618530273,
           "trajectory": "R_sol",
           "upper": 8.98692512512207
          },
          {
           "lower": 9.1088285446167,
           "timepoint": 16.5,
           "trajectory": "R_sol",
           "upper": 9.1088285446167
          },
          {
           "lower": 9.23214340209961,
           "timepoint": 16.599998474121094,
           "trajectory": "R_sol",
           "upper": 9.23214340209961
          },
          {
           "lower": 9.356891632080078,
           "timepoint": 16.700000762939453,
           "trajectory": "R_sol",
           "upper": 9.356891632080078
          },
          {
           "lower": 9.483080863952637,
           "timepoint": 16.799999237060547,
           "trajectory": "R_sol",
           "upper": 9.483080863952637
          },
          {
           "lower": 9.610733985900879,
           "timepoint": 16.899999618530273,
           "trajectory": "R_sol",
           "upper": 9.610733985900879
          },
          {
           "lower": 9.739866256713867,
           "timepoint": 17,
           "trajectory": "R_sol",
           "upper": 9.739866256713867
          },
          {
           "lower": 9.870491027832031,
           "timepoint": 17.099998474121094,
           "trajectory": "R_sol",
           "upper": 9.870491027832031
          },
          {
           "lower": 10.00263500213623,
           "timepoint": 17.200000762939453,
           "trajectory": "R_sol",
           "upper": 10.00263500213623
          },
          {
           "lower": 10.136303901672363,
           "timepoint": 17.299999237060547,
           "trajectory": "R_sol",
           "upper": 10.136303901672363
          },
          {
           "lower": 10.271523475646973,
           "timepoint": 17.399999618530273,
           "trajectory": "R_sol",
           "upper": 10.271523475646973
          },
          {
           "lower": 10.408308029174805,
           "timepoint": 17.5,
           "trajectory": "R_sol",
           "upper": 10.408308029174805
          },
          {
           "lower": 10.546659469604492,
           "timepoint": 17.599998474121094,
           "trajectory": "R_sol",
           "upper": 10.546659469604492
          },
          {
           "lower": 10.686630249023438,
           "timepoint": 17.700000762939453,
           "trajectory": "R_sol",
           "upper": 10.686630249023438
          },
          {
           "lower": 10.828217506408691,
           "timepoint": 17.799999237060547,
           "trajectory": "R_sol",
           "upper": 10.828217506408691
          },
          {
           "lower": 10.971444129943848,
           "timepoint": 17.899999618530273,
           "trajectory": "R_sol",
           "upper": 10.971444129943848
          },
          {
           "lower": 11.11633014678955,
           "timepoint": 18,
           "trajectory": "R_sol",
           "upper": 11.11633014678955
          },
          {
           "lower": 11.262887954711914,
           "timepoint": 18.099998474121094,
           "trajectory": "R_sol",
           "upper": 11.262887954711914
          },
          {
           "lower": 11.411149024963379,
           "timepoint": 18.200000762939453,
           "trajectory": "R_sol",
           "upper": 11.411149024963379
          },
          {
           "lower": 11.561119079589844,
           "timepoint": 18.299999237060547,
           "trajectory": "R_sol",
           "upper": 11.561119079589844
          },
          {
           "lower": 11.712828636169434,
           "timepoint": 18.399999618530273,
           "trajectory": "R_sol",
           "upper": 11.712828636169434
          },
          {
           "lower": 11.866291999816895,
           "timepoint": 18.5,
           "trajectory": "R_sol",
           "upper": 11.866291999816895
          },
          {
           "lower": 12.021527290344238,
           "timepoint": 18.599998474121094,
           "trajectory": "R_sol",
           "upper": 12.021527290344238
          },
          {
           "lower": 12.178564071655273,
           "timepoint": 18.700000762939453,
           "trajectory": "R_sol",
           "upper": 12.178564071655273
          },
          {
           "lower": 12.33741283416748,
           "timepoint": 18.799999237060547,
           "trajectory": "R_sol",
           "upper": 12.33741283416748
          },
          {
           "lower": 12.498099327087402,
           "timepoint": 18.899999618530273,
           "trajectory": "R_sol",
           "upper": 12.498099327087402
          },
          {
           "lower": 12.660659790039062,
           "timepoint": 19,
           "trajectory": "R_sol",
           "upper": 12.660659790039062
          },
          {
           "lower": 12.825084686279297,
           "timepoint": 19.099998474121094,
           "trajectory": "R_sol",
           "upper": 12.825084686279297
          },
          {
           "lower": 12.991419792175293,
           "timepoint": 19.200000762939453,
           "trajectory": "R_sol",
           "upper": 12.991419792175293
          },
          {
           "lower": 13.159669876098633,
           "timepoint": 19.299999237060547,
           "trajectory": "R_sol",
           "upper": 13.159669876098633
          },
          {
           "lower": 13.329869270324707,
           "timepoint": 19.399999618530273,
           "trajectory": "R_sol",
           "upper": 13.329869270324707
          },
          {
           "lower": 13.502037048339844,
           "timepoint": 19.5,
           "trajectory": "R_sol",
           "upper": 13.502037048339844
          },
          {
           "lower": 13.676192283630371,
           "timepoint": 19.599998474121094,
           "trajectory": "R_sol",
           "upper": 13.676192283630371
          },
          {
           "lower": 13.85236930847168,
           "timepoint": 19.700000762939453,
           "trajectory": "R_sol",
           "upper": 13.85236930847168
          },
          {
           "lower": 14.030573844909668,
           "timepoint": 19.799999237060547,
           "trajectory": "R_sol",
           "upper": 14.030573844909668
          },
          {
           "lower": 14.210844039916992,
           "timepoint": 19.899999618530273,
           "trajectory": "R_sol",
           "upper": 14.210844039916992
          },
          {
           "lower": 14.393198013305664,
           "timepoint": 20,
           "trajectory": "R_sol",
           "upper": 14.393198013305664
          },
          {
           "lower": 14.577656745910645,
           "timepoint": 20.099998474121094,
           "trajectory": "R_sol",
           "upper": 14.577656745910645
          },
          {
           "lower": 14.764254570007324,
           "timepoint": 20.200000762939453,
           "trajectory": "R_sol",
           "upper": 14.764254570007324
          },
          {
           "lower": 14.953001976013184,
           "timepoint": 20.299999237060547,
           "trajectory": "R_sol",
           "upper": 14.953001976013184
          },
          {
           "lower": 15.143927574157715,
           "timepoint": 20.399999618530273,
           "trajectory": "R_sol",
           "upper": 15.143927574157715
          },
          {
           "lower": 15.337065696716309,
           "timepoint": 20.5,
           "trajectory": "R_sol",
           "upper": 15.337065696716309
          },
          {
           "lower": 15.532431602478027,
           "timepoint": 20.599998474121094,
           "trajectory": "R_sol",
           "upper": 15.532431602478027
          },
          {
           "lower": 15.73006534576416,
           "timepoint": 20.700000762939453,
           "trajectory": "R_sol",
           "upper": 15.73006534576416
          },
          {
           "lower": 15.929973602294922,
           "timepoint": 20.799999237060547,
           "trajectory": "R_sol",
           "upper": 15.929973602294922
          },
          {
           "lower": 16.13219451904297,
           "timepoint": 20.899999618530273,
           "trajectory": "R_sol",
           "upper": 16.13219451904297
          },
          {
           "lower": 16.336753845214844,
           "timepoint": 21,
           "trajectory": "R_sol",
           "upper": 16.336753845214844
          },
          {
           "lower": 16.543670654296875,
           "timepoint": 21.099998474121094,
           "trajectory": "R_sol",
           "upper": 16.543670654296875
          },
          {
           "lower": 16.75299072265625,
           "timepoint": 21.200000762939453,
           "trajectory": "R_sol",
           "upper": 16.75299072265625
          },
          {
           "lower": 16.9647159576416,
           "timepoint": 21.299999237060547,
           "trajectory": "R_sol",
           "upper": 16.9647159576416
          },
          {
           "lower": 17.17889404296875,
           "timepoint": 21.399999618530273,
           "trajectory": "R_sol",
           "upper": 17.17889404296875
          },
          {
           "lower": 17.395545959472656,
           "timepoint": 21.5,
           "trajectory": "R_sol",
           "upper": 17.395545959472656
          },
          {
           "lower": 17.614696502685547,
           "timepoint": 21.599998474121094,
           "trajectory": "R_sol",
           "upper": 17.614696502685547
          },
          {
           "lower": 17.836387634277344,
           "timepoint": 21.700000762939453,
           "trajectory": "R_sol",
           "upper": 17.836387634277344
          },
          {
           "lower": 18.060630798339844,
           "timepoint": 21.799999237060547,
           "trajectory": "R_sol",
           "upper": 18.060630798339844
          },
          {
           "lower": 18.287477493286133,
           "timepoint": 21.899999618530273,
           "trajectory": "R_sol",
           "upper": 18.287477493286133
          },
          {
           "lower": 18.516935348510742,
           "timepoint": 22,
           "trajectory": "R_sol",
           "upper": 18.516935348510742
          },
          {
           "lower": 18.749042510986328,
           "timepoint": 22.099998474121094,
           "trajectory": "R_sol",
           "upper": 18.749042510986328
          },
          {
           "lower": 18.983835220336914,
           "timepoint": 22.200000762939453,
           "trajectory": "R_sol",
           "upper": 18.983835220336914
          },
          {
           "lower": 19.22133445739746,
           "timepoint": 22.299999237060547,
           "trajectory": "R_sol",
           "upper": 19.22133445739746
          },
          {
           "lower": 19.461580276489258,
           "timepoint": 22.399999618530273,
           "trajectory": "R_sol",
           "upper": 19.461580276489258
          },
          {
           "lower": 19.70459747314453,
           "timepoint": 22.5,
           "trajectory": "R_sol",
           "upper": 19.70459747314453
          },
          {
           "lower": 19.950420379638672,
           "timepoint": 22.599998474121094,
           "trajectory": "R_sol",
           "upper": 19.950420379638672
          },
          {
           "lower": 20.19908905029297,
           "timepoint": 22.700000762939453,
           "trajectory": "R_sol",
           "upper": 20.19908905029297
          },
          {
           "lower": 20.450620651245117,
           "timepoint": 22.799999237060547,
           "trajectory": "R_sol",
           "upper": 20.450620651245117
          },
          {
           "lower": 20.705062866210938,
           "timepoint": 22.899999618530273,
           "trajectory": "R_sol",
           "upper": 20.705062866210938
          },
          {
           "lower": 20.96244239807129,
           "timepoint": 23,
           "trajectory": "R_sol",
           "upper": 20.96244239807129
          },
          {
           "lower": 21.22279167175293,
           "timepoint": 23.100000381469727,
           "trajectory": "R_sol",
           "upper": 21.22279167175293
          },
          {
           "lower": 21.48615074157715,
           "timepoint": 23.200000762939453,
           "trajectory": "R_sol",
           "upper": 21.48615074157715
          },
          {
           "lower": 21.75255012512207,
           "timepoint": 23.299999237060547,
           "trajectory": "R_sol",
           "upper": 21.75255012512207
          },
          {
           "lower": 22.02202606201172,
           "timepoint": 23.399999618530273,
           "trajectory": "R_sol",
           "upper": 22.02202606201172
          },
          {
           "lower": 22.294614791870117,
           "timepoint": 23.5,
           "trajectory": "R_sol",
           "upper": 22.294614791870117
          },
          {
           "lower": 22.570348739624023,
           "timepoint": 23.600000381469727,
           "trajectory": "R_sol",
           "upper": 22.570348739624023
          },
          {
           "lower": 22.849267959594727,
           "timepoint": 23.700000762939453,
           "trajectory": "R_sol",
           "upper": 22.849267959594727
          },
          {
           "lower": 23.131397247314453,
           "timepoint": 23.799999237060547,
           "trajectory": "R_sol",
           "upper": 23.131397247314453
          },
          {
           "lower": 23.416791915893555,
           "timepoint": 23.899999618530273,
           "trajectory": "R_sol",
           "upper": 23.416791915893555
          },
          {
           "lower": 23.705482482910156,
           "timepoint": 24,
           "trajectory": "R_sol",
           "upper": 23.705482482910156
          },
          {
           "lower": 23.99750328063965,
           "timepoint": 24.100000381469727,
           "trajectory": "R_sol",
           "upper": 23.99750328063965
          },
          {
           "lower": 24.292896270751953,
           "timepoint": 24.200000762939453,
           "trajectory": "R_sol",
           "upper": 24.292896270751953
          },
          {
           "lower": 24.591691970825195,
           "timepoint": 24.299999237060547,
           "trajectory": "R_sol",
           "upper": 24.591691970825195
          },
          {
           "lower": 24.893943786621094,
           "timepoint": 24.399999618530273,
           "trajectory": "R_sol",
           "upper": 24.893943786621094
          },
          {
           "lower": 25.199682235717773,
           "timepoint": 24.5,
           "trajectory": "R_sol",
           "upper": 25.199682235717773
          },
          {
           "lower": 25.508949279785156,
           "timepoint": 24.600000381469727,
           "trajectory": "R_sol",
           "upper": 25.508949279785156
          },
          {
           "lower": 25.82181167602539,
           "timepoint": 24.700000762939453,
           "trajectory": "R_sol",
           "upper": 25.82181167602539
          },
          {
           "lower": 26.138259887695312,
           "timepoint": 24.799999237060547,
           "trajectory": "R_sol",
           "upper": 26.138259887695312
          },
          {
           "lower": 26.45836639404297,
           "timepoint": 24.899999618530273,
           "trajectory": "R_sol",
           "upper": 26.45836639404297
          },
          {
           "lower": 26.782167434692383,
           "timepoint": 25,
           "trajectory": "R_sol",
           "upper": 26.782167434692383
          },
          {
           "lower": 27.10970687866211,
           "timepoint": 25.100000381469727,
           "trajectory": "R_sol",
           "upper": 27.10970687866211
          },
          {
           "lower": 27.44102668762207,
           "timepoint": 25.200000762939453,
           "trajectory": "R_sol",
           "upper": 27.44102668762207
          },
          {
           "lower": 27.776166915893555,
           "timepoint": 25.299999237060547,
           "trajectory": "R_sol",
           "upper": 27.776166915893555
          },
          {
           "lower": 28.11517906188965,
           "timepoint": 25.399999618530273,
           "trajectory": "R_sol",
           "upper": 28.11517906188965
          },
          {
           "lower": 28.458105087280273,
           "timepoint": 25.5,
           "trajectory": "R_sol",
           "upper": 28.458105087280273
          },
          {
           "lower": 28.80498695373535,
           "timepoint": 25.600000381469727,
           "trajectory": "R_sol",
           "upper": 28.80498695373535
          },
          {
           "lower": 29.15587615966797,
           "timepoint": 25.700000762939453,
           "trajectory": "R_sol",
           "upper": 29.15587615966797
          },
          {
           "lower": 29.51080894470215,
           "timepoint": 25.799999237060547,
           "trajectory": "R_sol",
           "upper": 29.51080894470215
          },
          {
           "lower": 29.869842529296875,
           "timepoint": 25.899999618530273,
           "trajectory": "R_sol",
           "upper": 29.869842529296875
          },
          {
           "lower": 30.233022689819336,
           "timepoint": 26,
           "trajectory": "R_sol",
           "upper": 30.233022689819336
          },
          {
           "lower": 30.600393295288086,
           "timepoint": 26.100000381469727,
           "trajectory": "R_sol",
           "upper": 30.600393295288086
          },
          {
           "lower": 30.971975326538086,
           "timepoint": 26.200000762939453,
           "trajectory": "R_sol",
           "upper": 30.971975326538086
          },
          {
           "lower": 31.347864151000977,
           "timepoint": 26.299999237060547,
           "trajectory": "R_sol",
           "upper": 31.347864151000977
          },
          {
           "lower": 31.728097915649414,
           "timepoint": 26.399999618530273,
           "trajectory": "R_sol",
           "upper": 31.728097915649414
          },
          {
           "lower": 32.11271667480469,
           "timepoint": 26.5,
           "trajectory": "R_sol",
           "upper": 32.11271667480469
          },
          {
           "lower": 32.50177764892578,
           "timepoint": 26.600000381469727,
           "trajectory": "R_sol",
           "upper": 32.50177764892578
          },
          {
           "lower": 32.89532470703125,
           "timepoint": 26.700000762939453,
           "trajectory": "R_sol",
           "upper": 32.89532470703125
          },
          {
           "lower": 33.29340744018555,
           "timepoint": 26.799999237060547,
           "trajectory": "R_sol",
           "upper": 33.29340744018555
          },
          {
           "lower": 33.69609069824219,
           "timepoint": 26.899999618530273,
           "trajectory": "R_sol",
           "upper": 33.69609069824219
          },
          {
           "lower": 34.103424072265625,
           "timepoint": 27,
           "trajectory": "R_sol",
           "upper": 34.103424072265625
          },
          {
           "lower": 34.51545715332031,
           "timepoint": 27.100000381469727,
           "trajectory": "R_sol",
           "upper": 34.51545715332031
          },
          {
           "lower": 34.93223571777344,
           "timepoint": 27.200000762939453,
           "trajectory": "R_sol",
           "upper": 34.93223571777344
          },
          {
           "lower": 35.353816986083984,
           "timepoint": 27.299999237060547,
           "trajectory": "R_sol",
           "upper": 35.353816986083984
          },
          {
           "lower": 35.7802734375,
           "timepoint": 27.399999618530273,
           "trajectory": "R_sol",
           "upper": 35.7802734375
          },
          {
           "lower": 36.21165084838867,
           "timepoint": 27.5,
           "trajectory": "R_sol",
           "upper": 36.21165084838867
          },
          {
           "lower": 36.64802551269531,
           "timepoint": 27.600000381469727,
           "trajectory": "R_sol",
           "upper": 36.64802551269531
          },
          {
           "lower": 37.089420318603516,
           "timepoint": 27.700000762939453,
           "trajectory": "R_sol",
           "upper": 37.089420318603516
          },
          {
           "lower": 37.5359001159668,
           "timepoint": 27.799999237060547,
           "trajectory": "R_sol",
           "upper": 37.5359001159668
          },
          {
           "lower": 37.9875373840332,
           "timepoint": 27.899999618530273,
           "trajectory": "R_sol",
           "upper": 37.9875373840332
          },
          {
           "lower": 38.444393157958984,
           "timepoint": 28,
           "trajectory": "R_sol",
           "upper": 38.444393157958984
          },
          {
           "lower": 38.90651321411133,
           "timepoint": 28.100000381469727,
           "trajectory": "R_sol",
           "upper": 38.90651321411133
          },
          {
           "lower": 39.37397003173828,
           "timepoint": 28.200000762939453,
           "trajectory": "R_sol",
           "upper": 39.37397003173828
          },
          {
           "lower": 39.84680938720703,
           "timepoint": 28.299999237060547,
           "trajectory": "R_sol",
           "upper": 39.84680938720703
          },
          {
           "lower": 40.32511901855469,
           "timepoint": 28.399999618530273,
           "trajectory": "R_sol",
           "upper": 40.32511901855469
          },
          {
           "lower": 40.80894470214844,
           "timepoint": 28.5,
           "trajectory": "R_sol",
           "upper": 40.80894470214844
          },
          {
           "lower": 41.29835891723633,
           "timepoint": 28.600000381469727,
           "trajectory": "R_sol",
           "upper": 41.29835891723633
          },
          {
           "lower": 41.793418884277344,
           "timepoint": 28.700000762939453,
           "trajectory": "R_sol",
           "upper": 41.793418884277344
          },
          {
           "lower": 42.29418182373047,
           "timepoint": 28.799999237060547,
           "trajectory": "R_sol",
           "upper": 42.29418182373047
          },
          {
           "lower": 42.80073165893555,
           "timepoint": 28.899999618530273,
           "trajectory": "R_sol",
           "upper": 42.80073165893555
          },
          {
           "lower": 43.313133239746094,
           "timepoint": 29,
           "trajectory": "R_sol",
           "upper": 43.313133239746094
          },
          {
           "lower": 43.831329345703125,
           "timepoint": 29.100000381469727,
           "trajectory": "R_sol",
           "upper": 43.831329345703125
          },
          {
           "lower": 44.35559844970703,
           "timepoint": 29.200000762939453,
           "trajectory": "R_sol",
           "upper": 44.35559844970703
          },
          {
           "lower": 44.88591384887695,
           "timepoint": 29.299999237060547,
           "trajectory": "R_sol",
           "upper": 44.88591384887695
          },
          {
           "lower": 45.4223518371582,
           "timepoint": 29.399999618530273,
           "trajectory": "R_sol",
           "upper": 45.4223518371582
          },
          {
           "lower": 45.96498107910156,
           "timepoint": 29.5,
           "trajectory": "R_sol",
           "upper": 45.96498107910156
          },
          {
           "lower": 46.51386260986328,
           "timepoint": 29.600000381469727,
           "trajectory": "R_sol",
           "upper": 46.51386260986328
          },
          {
           "lower": 47.06908416748047,
           "timepoint": 29.700000762939453,
           "trajectory": "R_sol",
           "upper": 47.06908416748047
          },
          {
           "lower": 47.63069534301758,
           "timepoint": 29.799999237060547,
           "trajectory": "R_sol",
           "upper": 47.63069534301758
          },
          {
           "lower": 48.198795318603516,
           "timepoint": 29.899999618530273,
           "trajectory": "R_sol",
           "upper": 48.198795318603516
          },
          {
           "lower": 48.7734489440918,
           "timepoint": 30,
           "trajectory": "R_sol",
           "upper": 48.7734489440918
          },
          {
           "lower": 49.35472106933594,
           "timepoint": 30.100000381469727,
           "trajectory": "R_sol",
           "upper": 49.35472106933594
          },
          {
           "lower": 49.94270706176758,
           "timepoint": 30.200000762939453,
           "trajectory": "R_sol",
           "upper": 49.94270706176758
          },
          {
           "lower": 50.53746032714844,
           "timepoint": 30.299999237060547,
           "trajectory": "R_sol",
           "upper": 50.53746032714844
          },
          {
           "lower": 51.13908767700195,
           "timepoint": 30.399999618530273,
           "trajectory": "R_sol",
           "upper": 51.13908767700195
          },
          {
           "lower": 51.747737884521484,
           "timepoint": 30.5,
           "trajectory": "R_sol",
           "upper": 51.747737884521484
          },
          {
           "lower": 52.363338470458984,
           "timepoint": 30.600000381469727,
           "trajectory": "R_sol",
           "upper": 52.363338470458984
          },
          {
           "lower": 52.98603820800781,
           "timepoint": 30.700000762939453,
           "trajectory": "R_sol",
           "upper": 52.98603820800781
          },
          {
           "lower": 53.61591339111328,
           "timepoint": 30.799999237060547,
           "trajectory": "R_sol",
           "upper": 53.61591339111328
          },
          {
           "lower": 54.2530632019043,
           "timepoint": 30.899999618530273,
           "trajectory": "R_sol",
           "upper": 54.2530632019043
          },
          {
           "lower": 54.89756393432617,
           "timepoint": 31,
           "trajectory": "R_sol",
           "upper": 54.89756393432617
          }
         ]
        },
        {
         "name": "traces",
         "transform": [
          {
           "expr": "isValid(datum.value)",
           "type": "filter"
          }
         ],
         "values": []
        },
        {
         "name": "points",
         "values": []
        },
        {
         "name": "markers",
         "values": []
        },
        {
         "name": "selected",
         "on": [
          {
           "remove": true,
           "trigger": "clear"
          },
          {
           "remove": true,
           "trigger": "!shift"
          },
          {
           "insert": "clicked",
           "trigger": "!shift && clicked"
          },
          {
           "toggle": "clicked",
           "trigger": "shift && clicked"
          }
         ]
        }
       ],
       "height": 300,
       "legends": [
        {
         "encode": {
          "labels": {
           "interactive": true,
           "name": "legendLabel",
           "update": {
            "opacity": [
             {
              "test": "!length(data('selected')) || indata('selected', 'value', datum.value)",
              "value": 1
             },
             {
              "value": 0.25
             }
            ]
           }
          },
          "symbols": {
           "interactive": true,
           "name": "legendSymbol",
           "update": {
            "fill": {
             "value": "transparent"
            },
            "opacity": [
             {
              "test": "!length(data('selected')) || indata('selected', 'value', datum.value)",
              "value": 0.7
             },
             {
              "value": 0.15
             }
            ],
            "size": {
             "value": 64
            },
            "strokeWidth": {
             "value": 2
            }
           }
          }
         },
         "name": "color_legend",
         "stroke": "color"
        }
       ],
       "marks": [
        {
         "from": {
          "facet": {
           "data": "points",
           "groupby": "trajectory",
           "name": "points_split"
          }
         },
         "marks": [
          {
           "encode": {
            "hover": {
             "fillOpacity": {
              "value": 0.9
             }
            },
            "update": {
             "fill": {
              "field": "trajectory",
              "scale": "color"
             },
             "fillOpacity": [
              {
               "test": "!length(data('selected')) || indata('selected', 'value', datum.trajectory)",
               "value": 0.5
              },
              {
               "value": 0.15
              }
             ],
             "size": {
              "value": 10
             },
             "stroke": {
              "field": "trajectory",
              "scale": "color"
             },
             "strokeOpacity": [
              {
               "test": "!length(data('selected')) || indata('selected', 'value', datum.trajectory)",
               "value": 0.75
              },
              {
               "value": 0.15
              }
             ],
             "strokeWidth": {
              "value": 2
             },
             "tooltip": {
              "field": "value"
             },
             "x": {
              "field": "timepoint",
              "scale": "xscale"
             },
             "y": {
              "field": "value",
              "scale": "yscale"
             }
            }
           },
           "from": {
            "data": "points"
           },
           "name": "_points_symbol",
           "type": "symbol",
           "zindex": 3
          },
          {
           "encode": {
            "hover": {
             "fillOpacity": {
              "value": 0.9
             }
            },
            "update": {
             "interpolate": {
              "value": "linear"
             },
             "stroke": {
              "field": "trajectory",
              "scale": "color"
             },
             "strokeOpacity": [
              {
               "test": "!length(data('selected')) || indata('selected', 'value', datum.trajectory)",
               "value": 0.3
              },
              {
               "value": 0.1
              }
             ],
             "strokeWidth": {
              "value": 2
             },
             "x": {
              "field": "timepoint",
              "scale": "xscale"
             },
             "y": {
              "field": "value",
              "scale": "yscale"
             }
            }
           },
           "from": {
            "data": "points"
           },
           "name": "_points_line",
           "type": "line",
           "zindex": 3
          }
         ],
         "name": "_points",
         "type": "group",
         "zindex": 3
        },
        {
         "from": {
          "facet": {
           "data": "traces",
           "groupby": "trajectory",
           "name": "traces_split"
          }
         },
         "marks": [
          {
           "encode": {
            "hover": {
             "fillOpacity": {
              "value": 0.9
             }
            },
            "update": {
             "interpolate": {
              "value": "linear"
             },
             "stroke": {
              "field": "trajectory",
              "scale": "color"
             },
             "strokeOpacity": [
              {
               "test": "!length(data('selected')) || indata('selected', 'value', datum.trajectory)",
               "value": 0.75
              },
              {
               "value": 0.15
              }
             ],
             "strokeWidth": {
              "value": 2
             },
             "x": {
              "field": "timepoint",
              "scale": "xscale"
             },
             "y": {
              "field": "value",
              "scale": "yscale"
             }
            }
           },
           "from": {
            "data": "traces_split"
           },
           "name": "_traces_lines",
           "type": "line"
          }
         ],
         "name": "_traces",
         "type": "group",
         "zindex": 2
        },
        {
         "from": {
          "facet": {
           "data": "distributions",
           "groupby": "trajectory",
           "name": "trajectory_split"
          }
         },
         "marks": [
          {
           "encode": {
            "hover": {
             "fillOpacity": {
              "value": 0.9
             }
            },
            "update": {
             "fill": {
              "field": "trajectory",
              "scale": "color"
             },
             "fillOpacity": [
              {
               "test": "!length(data('selected')) || indata('selected', 'value', datum.trajectory)",
               "value": 0.5
              },
              {
               "value": 0.15
              }
             ],
             "interpolate": {
              "value": "linear"
             },
             "stroke": {
              "field": "trajectory",
              "scale": "color"
             },
             "strokeOpacity": [
              {
               "test": "!length(data('selected')) || indata('selected', 'value', datum.trajectory)",
               "value": 0.75
              },
              {
               "value": 0.15
              }
             ],
             "strokeWidth": {
              "value": 2
             },
             "x": {
              "field": "timepoint",
              "scale": "xscale"
             },
             "y": {
              "field": "upper",
              "scale": "yscale"
             },
             "y2": {
              "field": "lower",
              "scale": "yscale"
             }
            }
           },
           "from": {
            "data": "trajectory_split"
           },
           "type": "area"
          }
         ],
         "name": "_distributions",
         "type": "group",
         "zindex": 1
        },
        {
         "marks": [
          {
           "encode": {
            "enter": {
             "stroke": {
              "value": "lightgray"
             }
            },
            "update": {
             "opacity": {
              "value": 1
             },
             "x": {
              "field": "timepoint",
              "scale": "xscale"
             },
             "y": {
              "signal": "height"
             },
             "y2": {
              "value": 0
             }
            }
           },
           "from": {
            "data": "markers"
           },
           "name": "_marker text",
           "type": "rule"
          },
          {
           "encode": {
            "enter": {
             "fontSize": {
              "value": 8
             },
             "text": {
              "field": "datum.label"
             },
             "y": {
              "value": 0
             }
            }
           },
           "from": {
            "data": "_marker text"
           },
           "name": "_marker flags",
           "transform": [
            {
             "as": [
              "x",
              "_y",
              "opacity",
              "align",
              "baseline"
             ],
             "lineAnchor": "start",
             "offset": [
              1
             ],
             "size": {
              "signal": "[width, height]"
             },
             "type": "label"
            }
           ],
           "type": "text"
          }
         ],
         "name": "_markers",
         "type": "group"
        }
       ],
       "scales": [
        {
         "domain": {
          "fields": [
           {
            "data": "distributions",
            "field": "timepoint"
           },
           {
            "data": "traces",
            "field": "timepoint"
           },
           {
            "data": "points",
            "field": "timepoint"
           },
           {
            "data": "markers",
            "field": "timepoint"
           }
          ]
         },
         "name": "xscale",
         "range": "width",
         "type": "linear",
         "zero": false
        },
        {
         "domain": {
          "fields": [
           {
            "data": "distributions",
            "field": "lower"
           },
           {
            "data": "distributions",
            "field": "upper"
           },
           {
            "data": "traces",
            "field": "value"
           },
           {
            "data": "points",
            "field": "value"
           }
          ]
         },
         "name": "yscale",
         "nice": true,
         "range": "height",
         "type": "linear",
         "zero": true
        },
        {
         "domain": {
          "fields": [
           {
            "data": "distributions",
            "field": "trajectory"
           },
           {
            "data": "traces",
            "field": "trajectory"
           },
           {
            "data": "points",
            "field": "trajectory"
           }
          ]
         },
         "name": "color",
         "range": "category",
         "type": "ordinal"
        }
       ],
       "signals": [
        {
         "name": "clear",
         "on": [
          {
           "events": "mouseup[!event.item]",
           "force": true,
           "update": "true"
          }
         ],
         "value": true
        },
        {
         "name": "shift",
         "on": [
          {
           "events": "@legendSymbol:click, @legendLabel:click",
           "force": true,
           "update": "event.shiftKey"
          }
         ],
         "value": false
        },
        {
         "name": "clicked",
         "on": [
          {
           "events": "@legendSymbol:click, @legendLabel:click",
           "force": true,
           "update": "{value: datum.value}"
          }
         ],
         "value": null
        }
       ],
       "title": "1(a)(ii)(1)",
       "width": 500
      }
     },
     "metadata": {},
     "output_type": "display_data"
    }
   ],
   "source": [
    "SEIRD_model_path = \"scenario1_a_ii_1.json\"\n",
    "SEIRD_model_url = \"https://raw.githubusercontent.com/indralab/mira/hackathon/notebooks/evaluation_2023.07/eval_scenario1_1_ii_1.json\"\n",
    "# NOTE: This is only if you wish to update the AMR.\n",
    "update_AMR(SEIRD_model_url, SEIRD_model_path)\n",
    "\n",
    "# model = change_model_parameters(SEIRD_model_path, [(\"t_0\", 0)])\n",
    "# \"subset\":\".*_sol\"\n",
    "results_1_a_ii_1 = load_and_sample_petri_model(\n",
    "        SEIRD_model_path, num_samples, timepoints=timepoints, visual_options={\"title\": \"1(a)(ii)(1)\", \"subset\":[\"D_sol\", \"I_sol\", \"R_sol\", \"E_sol\"]}, time_unit=\"days\")\n",
    "plots.ipy_display(results_1_a_ii_1[\"visual\"])\n",
    "# QoIs_0day = aggregate_results(samples_1_a_ii_1, num_samples)"
   ]
  },
  {
   "cell_type": "code",
   "execution_count": 36,
   "metadata": {},
   "outputs": [
    {
     "name": "stdout",
     "output_type": "stream",
     "text": [
      "\n"
     ]
    },
    {
     "data": {
      "application/vnd.vega.v5+json": {
       "$schema": "https://vega.github.io/schema/vega/v5.json",
       "axes": [
        {
         "name": "x_axis",
         "orient": "bottom",
         "scale": "xscale",
         "zindex": 100
        },
        {
         "name": "y_axis",
         "orient": "left",
         "scale": "yscale",
         "zindex": 100
        }
       ],
       "data": [
        {
         "name": "distributions",
         "values": [
          {
           "lower": 4.7999626229061126e-24,
           "timepoint": 0,
           "trajectory": "D_sol",
           "upper": 4.7999626229061126e-24
          },
          {
           "lower": 0.000004780220933753299,
           "timepoint": 0.10000000149011612,
           "trajectory": "D_sol",
           "upper": 0.000004780220933753299
          },
          {
           "lower": 0.000019044740838580765,
           "timepoint": 0.20000000298023224,
           "trajectory": "D_sol",
           "upper": 0.000019044740838580765
          },
          {
           "lower": 0.000042685958760557696,
           "timepoint": 0.30000001192092896,
           "trajectory": "D_sol",
           "upper": 0.000042685958760557696
          },
          {
           "lower": 0.00007560481026303023,
           "timepoint": 0.4000000059604645,
           "trajectory": "D_sol",
           "upper": 0.00007560481026303023
          },
          {
           "lower": 0.00011771043500630185,
           "timepoint": 0.5,
           "trajectory": "D_sol",
           "upper": 0.00011771043500630185
          },
          {
           "lower": 0.0001689201162662357,
           "timepoint": 0.6000000238418579,
           "trajectory": "D_sol",
           "upper": 0.0001689201162662357
          },
          {
           "lower": 0.00022915865702088922,
           "timepoint": 0.699999988079071,
           "trajectory": "D_sol",
           "upper": 0.00022915865702088922
          },
          {
           "lower": 0.0002983578306157142,
           "timepoint": 0.800000011920929,
           "trajectory": "D_sol",
           "upper": 0.0002983578306157142
          },
          {
           "lower": 0.00037645798875018954,
           "timepoint": 0.9000000357627869,
           "trajectory": "D_sol",
           "upper": 0.00037645798875018954
          },
          {
           "lower": 0.0004634052747860551,
           "timepoint": 1,
           "trajectory": "D_sol",
           "upper": 0.0004634052747860551
          },
          {
           "lower": 0.0005591525114141405,
           "timepoint": 1.100000023841858,
           "trajectory": "D_sol",
           "upper": 0.0005591525114141405
          },
          {
           "lower": 0.0006636601174250245,
           "timepoint": 1.2000000476837158,
           "trajectory": "D_sol",
           "upper": 0.0006636601174250245
          },
          {
           "lower": 0.0007768942741677165,
           "timepoint": 1.3000000715255737,
           "trajectory": "D_sol",
           "upper": 0.0007768942741677165
          },
          {
           "lower": 0.000898827041964978,
           "timepoint": 1.399999976158142,
           "trajectory": "D_sol",
           "upper": 0.000898827041964978
          },
          {
           "lower": 0.0010294365929439664,
           "timepoint": 1.5,
           "trajectory": "D_sol",
           "upper": 0.0010294365929439664
          },
          {
           "lower": 0.001168707269243896,
           "timepoint": 1.600000023841858,
           "trajectory": "D_sol",
           "upper": 0.001168707269243896
          },
          {
           "lower": 0.0013166294666007161,
           "timepoint": 1.7000000476837158,
           "trajectory": "D_sol",
           "upper": 0.0013166294666007161
          },
          {
           "lower": 0.0014731984119862318,
           "timepoint": 1.8000000715255737,
           "trajectory": "D_sol",
           "upper": 0.0014731984119862318
          },
          {
           "lower": 0.0016384138725697994,
           "timepoint": 1.899999976158142,
           "trajectory": "D_sol",
           "upper": 0.0016384138725697994
          },
          {
           "lower": 0.0018122834153473377,
           "timepoint": 2,
           "trajectory": "D_sol",
           "upper": 0.0018122834153473377
          },
          {
           "lower": 0.0019948179833590984,
           "timepoint": 2.1000001430511475,
           "trajectory": "D_sol",
           "upper": 0.0019948179833590984
          },
          {
           "lower": 0.002186034107580781,
           "timepoint": 2.200000047683716,
           "trajectory": "D_sol",
           "upper": 0.002186034107580781
          },
          {
           "lower": 0.002385952975600958,
           "timepoint": 2.299999952316284,
           "trajectory": "D_sol",
           "upper": 0.002385952975600958
          },
          {
           "lower": 0.002594590652734041,
           "timepoint": 2.4000000953674316,
           "trajectory": "D_sol",
           "upper": 0.002594590652734041
          },
          {
           "lower": 0.002811991609632969,
           "timepoint": 2.5,
           "trajectory": "D_sol",
           "upper": 0.002811991609632969
          },
          {
           "lower": 0.003038186812773347,
           "timepoint": 2.6000001430511475,
           "trajectory": "D_sol",
           "upper": 0.003038186812773347
          },
          {
           "lower": 0.00327321351505816,
           "timepoint": 2.700000047683716,
           "trajectory": "D_sol",
           "upper": 0.00327321351505816
          },
          {
           "lower": 0.003517118049785495,
           "timepoint": 2.799999952316284,
           "trajectory": "D_sol",
           "upper": 0.003517118049785495
          },
          {
           "lower": 0.0037699472159147263,
           "timepoint": 2.9000000953674316,
           "trajectory": "D_sol",
           "upper": 0.0037699472159147263
          },
          {
           "lower": 0.00403175363317132,
           "timepoint": 3,
           "trajectory": "D_sol",
           "upper": 0.00403175363317132
          },
          {
           "lower": 0.004302594345062971,
           "timepoint": 3.1000001430511475,
           "trajectory": "D_sol",
           "upper": 0.004302594345062971
          },
          {
           "lower": 0.004582529421895742,
           "timepoint": 3.200000047683716,
           "trajectory": "D_sol",
           "upper": 0.004582529421895742
          },
          {
           "lower": 0.004871631506830454,
           "timepoint": 3.299999952316284,
           "trajectory": "D_sol",
           "upper": 0.004871631506830454
          },
          {
           "lower": 0.005169959738850594,
           "timepoint": 3.4000000953674316,
           "trajectory": "D_sol",
           "upper": 0.005169959738850594
          },
          {
           "lower": 0.005477590952068567,
           "timepoint": 3.5,
           "trajectory": "D_sol",
           "upper": 0.005477590952068567
          },
          {
           "lower": 0.005794602446258068,
           "timepoint": 3.6000001430511475,
           "trajectory": "D_sol",
           "upper": 0.005794602446258068
          },
          {
           "lower": 0.006121073849499226,
           "timepoint": 3.700000047683716,
           "trajectory": "D_sol",
           "upper": 0.006121073849499226
          },
          {
           "lower": 0.006457093171775341,
           "timepoint": 3.799999952316284,
           "trajectory": "D_sol",
           "upper": 0.006457093171775341
          },
          {
           "lower": 0.006802746560424566,
           "timepoint": 3.9000000953674316,
           "trajectory": "D_sol",
           "upper": 0.006802746560424566
          },
          {
           "lower": 0.0071581266820430756,
           "timepoint": 4,
           "trajectory": "D_sol",
           "upper": 0.0071581266820430756
          },
          {
           "lower": 0.00752332853153348,
           "timepoint": 4.099999904632568,
           "trajectory": "D_sol",
           "upper": 0.00752332853153348
          },
          {
           "lower": 0.007898454554378986,
           "timepoint": 4.200000286102295,
           "trajectory": "D_sol",
           "upper": 0.007898454554378986
          },
          {
           "lower": 0.008283604867756367,
           "timepoint": 4.300000190734863,
           "trajectory": "D_sol",
           "upper": 0.008283604867756367
          },
          {
           "lower": 0.008678901940584183,
           "timepoint": 4.400000095367432,
           "trajectory": "D_sol",
           "upper": 0.008678901940584183
          },
          {
           "lower": 0.009084437042474747,
           "timepoint": 4.5,
           "trajectory": "D_sol",
           "upper": 0.009084437042474747
          },
          {
           "lower": 0.009500333108007908,
           "timepoint": 4.599999904632568,
           "trajectory": "D_sol",
           "upper": 0.009500333108007908
          },
          {
           "lower": 0.00992671214044094,
           "timepoint": 4.700000286102295,
           "trajectory": "D_sol",
           "upper": 0.00992671214044094
          },
          {
           "lower": 0.010363692417740822,
           "timepoint": 4.800000190734863,
           "trajectory": "D_sol",
           "upper": 0.010363692417740822
          },
          {
           "lower": 0.010811403393745422,
           "timepoint": 4.900000095367432,
           "trajectory": "D_sol",
           "upper": 0.010811403393745422
          },
          {
           "lower": 0.011269956827163696,
           "timepoint": 5,
           "trajectory": "D_sol",
           "upper": 0.011269956827163696
          },
          {
           "lower": 0.011739513836801052,
           "timepoint": 5.099999904632568,
           "trajectory": "D_sol",
           "upper": 0.011739513836801052
          },
          {
           "lower": 0.012220198288559914,
           "timepoint": 5.200000286102295,
           "trajectory": "D_sol",
           "upper": 0.012220198288559914
          },
          {
           "lower": 0.012712151743471622,
           "timepoint": 5.300000190734863,
           "trajectory": "D_sol",
           "upper": 0.012712151743471622
          },
          {
           "lower": 0.013215519487857819,
           "timepoint": 5.400000095367432,
           "trajectory": "D_sol",
           "upper": 0.013215519487857819
          },
          {
           "lower": 0.013730447739362717,
           "timepoint": 5.5,
           "trajectory": "D_sol",
           "upper": 0.013730447739362717
          },
          {
           "lower": 0.014257089234888554,
           "timepoint": 5.599999904632568,
           "trajectory": "D_sol",
           "upper": 0.014257089234888554
          },
          {
           "lower": 0.014795603230595589,
           "timepoint": 5.700000286102295,
           "trajectory": "D_sol",
           "upper": 0.014795603230595589
          },
          {
           "lower": 0.015346146188676357,
           "timepoint": 5.800000190734863,
           "trajectory": "D_sol",
           "upper": 0.015346146188676357
          },
          {
           "lower": 0.01590888202190399,
           "timepoint": 5.900000095367432,
           "trajectory": "D_sol",
           "upper": 0.01590888202190399
          },
          {
           "lower": 0.016483983024954796,
           "timepoint": 6,
           "trajectory": "D_sol",
           "upper": 0.016483983024954796
          },
          {
           "lower": 0.017071610316634178,
           "timepoint": 6.099999904632568,
           "trajectory": "D_sol",
           "upper": 0.017071610316634178
          },
          {
           "lower": 0.017671950161457062,
           "timepoint": 6.200000286102295,
           "trajectory": "D_sol",
           "upper": 0.017671950161457062
          },
          {
           "lower": 0.018285177648067474,
           "timepoint": 6.300000190734863,
           "trajectory": "D_sol",
           "upper": 0.018285177648067474
          },
          {
           "lower": 0.01891147345304489,
           "timepoint": 6.400000095367432,
           "trajectory": "D_sol",
           "upper": 0.01891147345304489
          },
          {
           "lower": 0.019551025703549385,
           "timepoint": 6.5,
           "trajectory": "D_sol",
           "upper": 0.019551025703549385
          },
          {
           "lower": 0.020204026252031326,
           "timepoint": 6.599999904632568,
           "trajectory": "D_sol",
           "upper": 0.020204026252031326
          },
          {
           "lower": 0.020870674401521683,
           "timepoint": 6.700000286102295,
           "trajectory": "D_sol",
           "upper": 0.020870674401521683
          },
          {
           "lower": 0.021551162004470825,
           "timepoint": 6.800000190734863,
           "trajectory": "D_sol",
           "upper": 0.021551162004470825
          },
          {
           "lower": 0.022245697677135468,
           "timepoint": 6.900000095367432,
           "trajectory": "D_sol",
           "upper": 0.022245697677135468
          },
          {
           "lower": 0.022954488173127174,
           "timepoint": 7,
           "trajectory": "D_sol",
           "upper": 0.022954488173127174
          },
          {
           "lower": 0.02367774210870266,
           "timepoint": 7.099999904632568,
           "trajectory": "D_sol",
           "upper": 0.02367774210870266
          },
          {
           "lower": 0.02441568486392498,
           "timepoint": 7.200000286102295,
           "trajectory": "D_sol",
           "upper": 0.02441568486392498
          },
          {
           "lower": 0.02516852878034115,
           "timepoint": 7.300000190734863,
           "trajectory": "D_sol",
           "upper": 0.02516852878034115
          },
          {
           "lower": 0.02593649923801422,
           "timepoint": 7.400000095367432,
           "trajectory": "D_sol",
           "upper": 0.02593649923801422
          },
          {
           "lower": 0.026719825342297554,
           "timepoint": 7.5,
           "trajectory": "D_sol",
           "upper": 0.026719825342297554
          },
          {
           "lower": 0.027518747374415398,
           "timepoint": 7.599999904632568,
           "trajectory": "D_sol",
           "upper": 0.027518747374415398
          },
          {
           "lower": 0.028333500027656555,
           "timepoint": 7.700000286102295,
           "trajectory": "D_sol",
           "upper": 0.028333500027656555
          },
          {
           "lower": 0.029164323583245277,
           "timepoint": 7.800000190734863,
           "trajectory": "D_sol",
           "upper": 0.029164323583245277
          },
          {
           "lower": 0.030011514201760292,
           "timepoint": 7.900000095367432,
           "trajectory": "D_sol",
           "upper": 0.030011514201760292
          },
          {
           "lower": 0.030875252559781075,
           "timepoint": 8,
           "trajectory": "D_sol",
           "upper": 0.030875252559781075
          },
          {
           "lower": 0.03175582364201546,
           "timepoint": 8.100000381469727,
           "trajectory": "D_sol",
           "upper": 0.03175582364201546
          },
          {
           "lower": 0.03265349566936493,
           "timepoint": 8.199999809265137,
           "trajectory": "D_sol",
           "upper": 0.03265349566936493
          },
          {
           "lower": 0.03356853500008583,
           "timepoint": 8.300000190734863,
           "trajectory": "D_sol",
           "upper": 0.03356853500008583
          },
          {
           "lower": 0.03450121730566025,
           "timepoint": 8.40000057220459,
           "trajectory": "D_sol",
           "upper": 0.03450121730566025
          },
          {
           "lower": 0.03545181080698967,
           "timepoint": 8.5,
           "trajectory": "D_sol",
           "upper": 0.03545181080698967
          },
          {
           "lower": 0.03642061725258827,
           "timepoint": 8.600000381469727,
           "trajectory": "D_sol",
           "upper": 0.03642061725258827
          },
          {
           "lower": 0.03740786388516426,
           "timepoint": 8.699999809265137,
           "trajectory": "D_sol",
           "upper": 0.03740786388516426
          },
          {
           "lower": 0.03841393068432808,
           "timepoint": 8.800000190734863,
           "trajectory": "D_sol",
           "upper": 0.03841393068432808
          },
          {
           "lower": 0.03943907469511032,
           "timepoint": 8.90000057220459,
           "trajectory": "D_sol",
           "upper": 0.03943907469511032
          },
          {
           "lower": 0.04048359766602516,
           "timepoint": 9,
           "trajectory": "D_sol",
           "upper": 0.04048359766602516
          },
          {
           "lower": 0.04154782369732857,
           "timepoint": 9.100000381469727,
           "trajectory": "D_sol",
           "upper": 0.04154782369732857
          },
          {
           "lower": 0.042632054537534714,
           "timepoint": 9.199999809265137,
           "trajectory": "D_sol",
           "upper": 0.042632054537534714
          },
          {
           "lower": 0.04373662546277046,
           "timepoint": 9.300000190734863,
           "trajectory": "D_sol",
           "upper": 0.04373662546277046
          },
          {
           "lower": 0.04486185684800148,
           "timepoint": 9.40000057220459,
           "trajectory": "D_sol",
           "upper": 0.04486185684800148
          },
          {
           "lower": 0.04600807651877403,
           "timepoint": 9.5,
           "trajectory": "D_sol",
           "upper": 0.04600807651877403
          },
          {
           "lower": 0.04717565327882767,
           "timepoint": 9.600000381469727,
           "trajectory": "D_sol",
           "upper": 0.04717565327882767
          },
          {
           "lower": 0.04836489260196686,
           "timepoint": 9.699999809265137,
           "trajectory": "D_sol",
           "upper": 0.04836489260196686
          },
          {
           "lower": 0.04957617446780205,
           "timepoint": 9.800000190734863,
           "trajectory": "D_sol",
           "upper": 0.04957617446780205
          },
          {
           "lower": 0.05080984905362129,
           "timepoint": 9.90000057220459,
           "trajectory": "D_sol",
           "upper": 0.05080984905362129
          },
          {
           "lower": 0.052066266536712646,
           "timepoint": 10,
           "trajectory": "D_sol",
           "upper": 0.052066266536712646
          },
          {
           "lower": 0.053345825523138046,
           "timepoint": 10.100000381469727,
           "trajectory": "D_sol",
           "upper": 0.053345825523138046
          },
          {
           "lower": 0.05464887246489525,
           "timepoint": 10.199999809265137,
           "trajectory": "D_sol",
           "upper": 0.05464887246489525
          },
          {
           "lower": 0.05597582459449768,
           "timepoint": 10.300000190734863,
           "trajectory": "D_sol",
           "upper": 0.05597582459449768
          },
          {
           "lower": 0.05732705444097519,
           "timepoint": 10.40000057220459,
           "trajectory": "D_sol",
           "upper": 0.05732705444097519
          },
          {
           "lower": 0.05870294198393822,
           "timepoint": 10.5,
           "trajectory": "D_sol",
           "upper": 0.05870294198393822
          },
          {
           "lower": 0.060103945434093475,
           "timepoint": 10.600000381469727,
           "trajectory": "D_sol",
           "upper": 0.060103945434093475
          },
          {
           "lower": 0.06153043359518051,
           "timepoint": 10.699999809265137,
           "trajectory": "D_sol",
           "upper": 0.06153043359518051
          },
          {
           "lower": 0.06298284977674484,
           "timepoint": 10.800000190734863,
           "trajectory": "D_sol",
           "upper": 0.06298284977674484
          },
          {
           "lower": 0.06446162611246109,
           "timepoint": 10.90000057220459,
           "trajectory": "D_sol",
           "upper": 0.06446162611246109
          },
          {
           "lower": 0.06596718728542328,
           "timepoint": 11,
           "trajectory": "D_sol",
           "upper": 0.06596718728542328
          },
          {
           "lower": 0.06749998778104782,
           "timepoint": 11.100000381469727,
           "trajectory": "D_sol",
           "upper": 0.06749998778104782
          },
          {
           "lower": 0.06906045228242874,
           "timepoint": 11.199999809265137,
           "trajectory": "D_sol",
           "upper": 0.06906045228242874
          },
          {
           "lower": 0.07064909487962723,
           "timepoint": 11.300000190734863,
           "trajectory": "D_sol",
           "upper": 0.07064909487962723
          },
          {
           "lower": 0.07226607203483582,
           "timepoint": 11.40000057220459,
           "trajectory": "D_sol",
           "upper": 0.07226607203483582
          },
          {
           "lower": 0.07391230762004852,
           "timepoint": 11.5,
           "trajectory": "D_sol",
           "upper": 0.07391230762004852
          },
          {
           "lower": 0.07558811455965042,
           "timepoint": 11.600000381469727,
           "trajectory": "D_sol",
           "upper": 0.07558811455965042
          },
          {
           "lower": 0.07729394733905792,
           "timepoint": 11.699999809265137,
           "trajectory": "D_sol",
           "upper": 0.07729394733905792
          },
          {
           "lower": 0.0790303573012352,
           "timepoint": 11.800000190734863,
           "trajectory": "D_sol",
           "upper": 0.0790303573012352
          },
          {
           "lower": 0.08079781383275986,
           "timepoint": 11.90000057220459,
           "trajectory": "D_sol",
           "upper": 0.08079781383275986
          },
          {
           "lower": 0.08259683847427368,
           "timepoint": 12,
           "trajectory": "D_sol",
           "upper": 0.08259683847427368
          },
          {
           "lower": 0.08442797511816025,
           "timepoint": 12.100000381469727,
           "trajectory": "D_sol",
           "upper": 0.08442797511816025
          },
          {
           "lower": 0.08629173040390015,
           "timepoint": 12.199999809265137,
           "trajectory": "D_sol",
           "upper": 0.08629173040390015
          },
          {
           "lower": 0.08818870037794113,
           "timepoint": 12.300000190734863,
           "trajectory": "D_sol",
           "upper": 0.08818870037794113
          },
          {
           "lower": 0.09011942893266678,
           "timepoint": 12.40000057220459,
           "trajectory": "D_sol",
           "upper": 0.09011942893266678
          },
          {
           "lower": 0.09208442270755768,
           "timepoint": 12.5,
           "trajectory": "D_sol",
           "upper": 0.09208442270755768
          },
          {
           "lower": 0.09408430755138397,
           "timepoint": 12.600000381469727,
           "trajectory": "D_sol",
           "upper": 0.09408430755138397
          },
          {
           "lower": 0.09611964225769043,
           "timepoint": 12.699999809265137,
           "trajectory": "D_sol",
           "upper": 0.09611964225769043
          },
          {
           "lower": 0.09819105267524719,
           "timepoint": 12.800000190734863,
           "trajectory": "D_sol",
           "upper": 0.09819105267524719
          },
          {
           "lower": 0.10029912739992142,
           "timepoint": 12.90000057220459,
           "trajectory": "D_sol",
           "upper": 0.10029912739992142
          },
          {
           "lower": 0.10244445502758026,
           "timepoint": 13,
           "trajectory": "D_sol",
           "upper": 0.10244445502758026
          },
          {
           "lower": 0.10462771356105804,
           "timepoint": 13.100000381469727,
           "trajectory": "D_sol",
           "upper": 0.10462771356105804
          },
          {
           "lower": 0.10684950649738312,
           "timepoint": 13.199999809265137,
           "trajectory": "D_sol",
           "upper": 0.10684950649738312
          },
          {
           "lower": 0.10911046713590622,
           "timepoint": 13.300000190734863,
           "trajectory": "D_sol",
           "upper": 0.10911046713590622
          },
          {
           "lower": 0.11141131073236465,
           "timepoint": 13.40000057220459,
           "trajectory": "D_sol",
           "upper": 0.11141131073236465
          },
          {
           "lower": 0.11375264823436737,
           "timepoint": 13.5,
           "trajectory": "D_sol",
           "upper": 0.11375264823436737
          },
          {
           "lower": 0.11613520234823227,
           "timepoint": 13.600000381469727,
           "trajectory": "D_sol",
           "upper": 0.11613520234823227
          },
          {
           "lower": 0.11855963617563248,
           "timepoint": 13.699999809265137,
           "trajectory": "D_sol",
           "upper": 0.11855963617563248
          },
          {
           "lower": 0.12102668732404709,
           "timepoint": 13.800000190734863,
           "trajectory": "D_sol",
           "upper": 0.12102668732404709
          },
          {
           "lower": 0.12353706359863281,
           "timepoint": 13.90000057220459,
           "trajectory": "D_sol",
           "upper": 0.12353706359863281
          },
          {
           "lower": 0.12609148025512695,
           "timepoint": 14,
           "trajectory": "D_sol",
           "upper": 0.12609148025512695
          },
          {
           "lower": 0.128690704703331,
           "timepoint": 14.100000381469727,
           "trajectory": "D_sol",
           "upper": 0.128690704703331
          },
          {
           "lower": 0.13133546710014343,
           "timepoint": 14.199999809265137,
           "trajectory": "D_sol",
           "upper": 0.13133546710014343
          },
          {
           "lower": 0.13402657210826874,
           "timepoint": 14.300000190734863,
           "trajectory": "D_sol",
           "upper": 0.13402657210826874
          },
          {
           "lower": 0.1367647796869278,
           "timepoint": 14.40000057220459,
           "trajectory": "D_sol",
           "upper": 0.1367647796869278
          },
          {
           "lower": 0.1395508497953415,
           "timepoint": 14.5,
           "trajectory": "D_sol",
           "upper": 0.1395508497953415
          },
          {
           "lower": 0.14238569140434265,
           "timepoint": 14.600000381469727,
           "trajectory": "D_sol",
           "upper": 0.14238569140434265
          },
          {
           "lower": 0.14527001976966858,
           "timepoint": 14.699999809265137,
           "trajectory": "D_sol",
           "upper": 0.14527001976966858
          },
          {
           "lower": 0.1482047438621521,
           "timepoint": 14.800000190734863,
           "trajectory": "D_sol",
           "upper": 0.1482047438621521
          },
          {
           "lower": 0.15119071304798126,
           "timepoint": 14.90000057220459,
           "trajectory": "D_sol",
           "upper": 0.15119071304798126
          },
          {
           "lower": 0.15422876179218292,
           "timepoint": 15,
           "trajectory": "D_sol",
           "upper": 0.15422876179218292
          },
          {
           "lower": 0.15731976926326752,
           "timepoint": 15.100000381469727,
           "trajectory": "D_sol",
           "upper": 0.15731976926326752
          },
          {
           "lower": 0.16046465933322906,
           "timepoint": 15.199999809265137,
           "trajectory": "D_sol",
           "upper": 0.16046465933322906
          },
          {
           "lower": 0.163664311170578,
           "timepoint": 15.300000190734863,
           "trajectory": "D_sol",
           "upper": 0.163664311170578
          },
          {
           "lower": 0.16691970825195312,
           "timepoint": 15.40000057220459,
           "trajectory": "D_sol",
           "upper": 0.16691970825195312
          },
          {
           "lower": 0.17023172974586487,
           "timepoint": 15.5,
           "trajectory": "D_sol",
           "upper": 0.17023172974586487
          },
          {
           "lower": 0.17360135912895203,
           "timepoint": 15.59999942779541,
           "trajectory": "D_sol",
           "upper": 0.17360135912895203
          },
          {
           "lower": 0.17702962458133698,
           "timepoint": 15.699999809265137,
           "trajectory": "D_sol",
           "upper": 0.17702962458133698
          },
          {
           "lower": 0.18051749467849731,
           "timepoint": 15.800000190734863,
           "trajectory": "D_sol",
           "upper": 0.18051749467849731
          },
          {
           "lower": 0.18406587839126587,
           "timepoint": 15.899999618530273,
           "trajectory": "D_sol",
           "upper": 0.18406587839126587
          },
          {
           "lower": 0.18767593801021576,
           "timepoint": 16,
           "trajectory": "D_sol",
           "upper": 0.18767593801021576
          },
          {
           "lower": 0.1913485825061798,
           "timepoint": 16.099998474121094,
           "trajectory": "D_sol",
           "upper": 0.1913485825061798
          },
          {
           "lower": 0.19508551061153412,
           "timepoint": 16.200000762939453,
           "trajectory": "D_sol",
           "upper": 0.19508551061153412
          },
          {
           "lower": 0.19888684153556824,
           "timepoint": 16.299999237060547,
           "trajectory": "D_sol",
           "upper": 0.19888684153556824
          },
          {
           "lower": 0.20275413990020752,
           "timepoint": 16.399999618530273,
           "trajectory": "D_sol",
           "upper": 0.20275413990020752
          },
          {
           "lower": 0.2066885232925415,
           "timepoint": 16.5,
           "trajectory": "D_sol",
           "upper": 0.2066885232925415
          },
          {
           "lower": 0.21069099009037018,
           "timepoint": 16.599998474121094,
           "trajectory": "D_sol",
           "upper": 0.21069099009037018
          },
          {
           "lower": 0.21476297080516815,
           "timepoint": 16.700000762939453,
           "trajectory": "D_sol",
           "upper": 0.21476297080516815
          },
          {
           "lower": 0.21890529990196228,
           "timepoint": 16.799999237060547,
           "trajectory": "D_sol",
           "upper": 0.21890529990196228
          },
          {
           "lower": 0.22311943769454956,
           "timepoint": 16.899999618530273,
           "trajectory": "D_sol",
           "upper": 0.22311943769454956
          },
          {
           "lower": 0.22740650177001953,
           "timepoint": 17,
           "trajectory": "D_sol",
           "upper": 0.22740650177001953
          },
          {
           "lower": 0.23176763951778412,
           "timepoint": 17.099998474121094,
           "trajectory": "D_sol",
           "upper": 0.23176763951778412
          },
          {
           "lower": 0.2362048476934433,
           "timepoint": 17.200000762939453,
           "trajectory": "D_sol",
           "upper": 0.2362048476934433
          },
          {
           "lower": 0.2407183200120926,
           "timepoint": 17.299999237060547,
           "trajectory": "D_sol",
           "upper": 0.2407183200120926
          },
          {
           "lower": 0.24530991911888123,
           "timepoint": 17.399999618530273,
           "trajectory": "D_sol",
           "upper": 0.24530991911888123
          },
          {
           "lower": 0.24998092651367188,
           "timepoint": 17.5,
           "trajectory": "D_sol",
           "upper": 0.24998092651367188
          },
          {
           "lower": 0.25473257899284363,
           "timepoint": 17.599998474121094,
           "trajectory": "D_sol",
           "upper": 0.25473257899284363
          },
          {
           "lower": 0.2595665752887726,
           "timepoint": 17.700000762939453,
           "trajectory": "D_sol",
           "upper": 0.2595665752887726
          },
          {
           "lower": 0.26448389887809753,
           "timepoint": 17.799999237060547,
           "trajectory": "D_sol",
           "upper": 0.26448389887809753
          },
          {
           "lower": 0.26948627829551697,
           "timepoint": 17.899999618530273,
           "trajectory": "D_sol",
           "upper": 0.26948627829551697
          },
          {
           "lower": 0.2745751738548279,
           "timepoint": 18,
           "trajectory": "D_sol",
           "upper": 0.2745751738548279
          },
          {
           "lower": 0.27975180745124817,
           "timepoint": 18.099998474121094,
           "trajectory": "D_sol",
           "upper": 0.27975180745124817
          },
          {
           "lower": 0.2850167751312256,
           "timepoint": 18.200000762939453,
           "trajectory": "D_sol",
           "upper": 0.2850167751312256
          },
          {
           "lower": 0.2903733253479004,
           "timepoint": 18.299999237060547,
           "trajectory": "D_sol",
           "upper": 0.2903733253479004
          },
          {
           "lower": 0.295822411775589,
           "timepoint": 18.399999618530273,
           "trajectory": "D_sol",
           "upper": 0.295822411775589
          },
          {
           "lower": 0.30136552453041077,
           "timepoint": 18.5,
           "trajectory": "D_sol",
           "upper": 0.30136552453041077
          },
          {
           "lower": 0.30700409412384033,
           "timepoint": 18.599998474121094,
           "trajectory": "D_sol",
           "upper": 0.30700409412384033
          },
          {
           "lower": 0.31274011731147766,
           "timepoint": 18.700000762939453,
           "trajectory": "D_sol",
           "upper": 0.31274011731147766
          },
          {
           "lower": 0.3185747563838959,
           "timepoint": 18.799999237060547,
           "trajectory": "D_sol",
           "upper": 0.3185747563838959
          },
          {
           "lower": 0.3245100677013397,
           "timepoint": 18.899999618530273,
           "trajectory": "D_sol",
           "upper": 0.3245100677013397
          },
          {
           "lower": 0.33054766058921814,
           "timepoint": 19,
           "trajectory": "D_sol",
           "upper": 0.33054766058921814
          },
          {
           "lower": 0.3366891145706177,
           "timepoint": 19.099998474121094,
           "trajectory": "D_sol",
           "upper": 0.3366891145706177
          },
          {
           "lower": 0.3429371416568756,
           "timepoint": 19.200000762939453,
           "trajectory": "D_sol",
           "upper": 0.3429371416568756
          },
          {
           "lower": 0.34929215908050537,
           "timepoint": 19.299999237060547,
           "trajectory": "D_sol",
           "upper": 0.34929215908050537
          },
          {
           "lower": 0.3557567894458771,
           "timepoint": 19.399999618530273,
           "trajectory": "D_sol",
           "upper": 0.3557567894458771
          },
          {
           "lower": 0.3623327314853668,
           "timepoint": 19.5,
           "trajectory": "D_sol",
           "upper": 0.3623327314853668
          },
          {
           "lower": 0.3690217435359955,
           "timepoint": 19.599998474121094,
           "trajectory": "D_sol",
           "upper": 0.3690217435359955
          },
          {
           "lower": 0.3758261799812317,
           "timepoint": 19.700000762939453,
           "trajectory": "D_sol",
           "upper": 0.3758261799812317
          },
          {
           "lower": 0.38274750113487244,
           "timepoint": 19.799999237060547,
           "trajectory": "D_sol",
           "upper": 0.38274750113487244
          },
          {
           "lower": 0.38978806138038635,
           "timepoint": 19.899999618530273,
           "trajectory": "D_sol",
           "upper": 0.38978806138038635
          },
          {
           "lower": 0.39694976806640625,
           "timepoint": 20,
           "trajectory": "D_sol",
           "upper": 0.39694976806640625
          },
          {
           "lower": 0.40423455834388733,
           "timepoint": 20.099998474121094,
           "trajectory": "D_sol",
           "upper": 0.40423455834388733
          },
          {
           "lower": 0.4116448760032654,
           "timepoint": 20.200000762939453,
           "trajectory": "D_sol",
           "upper": 0.4116448760032654
          },
          {
           "lower": 0.4191824793815613,
           "timepoint": 20.299999237060547,
           "trajectory": "D_sol",
           "upper": 0.4191824793815613
          },
          {
           "lower": 0.4268498718738556,
           "timepoint": 20.399999618530273,
           "trajectory": "D_sol",
           "upper": 0.4268498718738556
          },
          {
           "lower": 0.43464913964271545,
           "timepoint": 20.5,
           "trajectory": "D_sol",
           "upper": 0.43464913964271545
          },
          {
           "lower": 0.44258230924606323,
           "timepoint": 20.599998474121094,
           "trajectory": "D_sol",
           "upper": 0.44258230924606323
          },
          {
           "lower": 0.45065218210220337,
           "timepoint": 20.700000762939453,
           "trajectory": "D_sol",
           "upper": 0.45065218210220337
          },
          {
           "lower": 0.45886048674583435,
           "timepoint": 20.799999237060547,
           "trajectory": "D_sol",
           "upper": 0.45886048674583435
          },
          {
           "lower": 0.46720999479293823,
           "timepoint": 20.899999618530273,
           "trajectory": "D_sol",
           "upper": 0.46720999479293823
          },
          {
           "lower": 0.47570300102233887,
           "timepoint": 21,
           "trajectory": "D_sol",
           "upper": 0.47570300102233887
          },
          {
           "lower": 0.4843418300151825,
           "timepoint": 21.099998474121094,
           "trajectory": "D_sol",
           "upper": 0.4843418300151825
          },
          {
           "lower": 0.49313023686408997,
           "timepoint": 21.200000762939453,
           "trajectory": "D_sol",
           "upper": 0.49313023686408997
          },
          {
           "lower": 0.5020686388015747,
           "timepoint": 21.299999237060547,
           "trajectory": "D_sol",
           "upper": 0.5020686388015747
          },
          {
           "lower": 0.5111609101295471,
           "timepoint": 21.399999618530273,
           "trajectory": "D_sol",
           "upper": 0.5111609101295471
          },
          {
           "lower": 0.520409345626831,
           "timepoint": 21.5,
           "trajectory": "D_sol",
           "upper": 0.520409345626831
          },
          {
           "lower": 0.5298165082931519,
           "timepoint": 21.599998474121094,
           "trajectory": "D_sol",
           "upper": 0.5298165082931519
          },
          {
           "lower": 0.5393856763839722,
           "timepoint": 21.700000762939453,
           "trajectory": "D_sol",
           "upper": 0.5393856763839722
          },
          {
           "lower": 0.5491189360618591,
           "timepoint": 21.799999237060547,
           "trajectory": "D_sol",
           "upper": 0.5491189360618591
          },
          {
           "lower": 0.5590195655822754,
           "timepoint": 21.899999618530273,
           "trajectory": "D_sol",
           "upper": 0.5590195655822754
          },
          {
           "lower": 0.5690902471542358,
           "timepoint": 22,
           "trajectory": "D_sol",
           "upper": 0.5690902471542358
          },
          {
           "lower": 0.5793337821960449,
           "timepoint": 22.099998474121094,
           "trajectory": "D_sol",
           "upper": 0.5793337821960449
          },
          {
           "lower": 0.5897523760795593,
           "timepoint": 22.200000762939453,
           "trajectory": "D_sol",
           "upper": 0.5897523760795593
          },
          {
           "lower": 0.6003503799438477,
           "timepoint": 22.299999237060547,
           "trajectory": "D_sol",
           "upper": 0.6003503799438477
          },
          {
           "lower": 0.6111305952072144,
           "timepoint": 22.399999618530273,
           "trajectory": "D_sol",
           "upper": 0.6111305952072144
          },
          {
           "lower": 0.6220959424972534,
           "timepoint": 22.5,
           "trajectory": "D_sol",
           "upper": 0.6220959424972534
          },
          {
           "lower": 0.6332492232322693,
           "timepoint": 22.599998474121094,
           "trajectory": "D_sol",
           "upper": 0.6332492232322693
          },
          {
           "lower": 0.6445943117141724,
           "timepoint": 22.700000762939453,
           "trajectory": "D_sol",
           "upper": 0.6445943117141724
          },
          {
           "lower": 0.6561338305473328,
           "timepoint": 22.799999237060547,
           "trajectory": "D_sol",
           "upper": 0.6561338305473328
          },
          {
           "lower": 0.6678715348243713,
           "timepoint": 22.899999618530273,
           "trajectory": "D_sol",
           "upper": 0.6678715348243713
          },
          {
           "lower": 0.679810643196106,
           "timepoint": 23,
           "trajectory": "D_sol",
           "upper": 0.679810643196106
          },
          {
           "lower": 0.6919550895690918,
           "timepoint": 23.100000381469727,
           "trajectory": "D_sol",
           "upper": 0.6919550895690918
          },
          {
           "lower": 0.7043076157569885,
           "timepoint": 23.200000762939453,
           "trajectory": "D_sol",
           "upper": 0.7043076157569885
          },
          {
           "lower": 0.716871976852417,
           "timepoint": 23.299999237060547,
           "trajectory": "D_sol",
           "upper": 0.716871976852417
          },
          {
           "lower": 0.7296520471572876,
           "timepoint": 23.399999618530273,
           "trajectory": "D_sol",
           "upper": 0.7296520471572876
          },
          {
           "lower": 0.7426515221595764,
           "timepoint": 23.5,
           "trajectory": "D_sol",
           "upper": 0.7426515221595764
          },
          {
           "lower": 0.75587397813797,
           "timepoint": 23.600000381469727,
           "trajectory": "D_sol",
           "upper": 0.75587397813797
          },
          {
           "lower": 0.7693233489990234,
           "timepoint": 23.700000762939453,
           "trajectory": "D_sol",
           "upper": 0.7693233489990234
          },
          {
           "lower": 0.7830031514167786,
           "timepoint": 23.799999237060547,
           "trajectory": "D_sol",
           "upper": 0.7830031514167786
          },
          {
           "lower": 0.7969179749488831,
           "timepoint": 23.899999618530273,
           "trajectory": "D_sol",
           "upper": 0.7969179749488831
          },
          {
           "lower": 0.8110716342926025,
           "timepoint": 24,
           "trajectory": "D_sol",
           "upper": 0.8110716342926025
          },
          {
           "lower": 0.8254675269126892,
           "timepoint": 24.100000381469727,
           "trajectory": "D_sol",
           "upper": 0.8254675269126892
          },
          {
           "lower": 0.840110719203949,
           "timepoint": 24.200000762939453,
           "trajectory": "D_sol",
           "upper": 0.840110719203949
          },
          {
           "lower": 0.8550047874450684,
           "timepoint": 24.299999237060547,
           "trajectory": "D_sol",
           "upper": 0.8550047874450684
          },
          {
           "lower": 0.870154619216919,
           "timepoint": 24.399999618530273,
           "trajectory": "D_sol",
           "upper": 0.870154619216919
          },
          {
           "lower": 0.8855641484260559,
           "timepoint": 24.5,
           "trajectory": "D_sol",
           "upper": 0.8855641484260559
          },
          {
           "lower": 0.9012381434440613,
           "timepoint": 24.600000381469727,
           "trajectory": "D_sol",
           "upper": 0.9012381434440613
          },
          {
           "lower": 0.9171807765960693,
           "timepoint": 24.700000762939453,
           "trajectory": "D_sol",
           "upper": 0.9171807765960693
          },
          {
           "lower": 0.9333965182304382,
           "timepoint": 24.799999237060547,
           "trajectory": "D_sol",
           "upper": 0.9333965182304382
          },
          {
           "lower": 0.949890673160553,
           "timepoint": 24.899999618530273,
           "trajectory": "D_sol",
           "upper": 0.949890673160553
          },
          {
           "lower": 0.966667652130127,
           "timepoint": 25,
           "trajectory": "D_sol",
           "upper": 0.966667652130127
          },
          {
           "lower": 0.9837326407432556,
           "timepoint": 25.100000381469727,
           "trajectory": "D_sol",
           "upper": 0.9837326407432556
          },
          {
           "lower": 1.0010899305343628,
           "timepoint": 25.200000762939453,
           "trajectory": "D_sol",
           "upper": 1.0010899305343628
          },
          {
           "lower": 1.0187445878982544,
           "timepoint": 25.299999237060547,
           "trajectory": "D_sol",
           "upper": 1.0187445878982544
          },
          {
           "lower": 1.0367021560668945,
           "timepoint": 25.399999618530273,
           "trajectory": "D_sol",
           "upper": 1.0367021560668945
          },
          {
           "lower": 1.0549676418304443,
           "timepoint": 25.5,
           "trajectory": "D_sol",
           "upper": 1.0549676418304443
          },
          {
           "lower": 1.073546051979065,
           "timepoint": 25.600000381469727,
           "trajectory": "D_sol",
           "upper": 1.073546051979065
          },
          {
           "lower": 1.0924431085586548,
           "timepoint": 25.700000762939453,
           "trajectory": "D_sol",
           "upper": 1.0924431085586548
          },
          {
           "lower": 1.1116634607315063,
           "timepoint": 25.799999237060547,
           "trajectory": "D_sol",
           "upper": 1.1116634607315063
          },
          {
           "lower": 1.1312135457992554,
           "timepoint": 25.899999618530273,
           "trajectory": "D_sol",
           "upper": 1.1312135457992554
          },
          {
           "lower": 1.151098370552063,
           "timepoint": 26,
           "trajectory": "D_sol",
           "upper": 1.151098370552063
          },
          {
           "lower": 1.1713279485702515,
           "timepoint": 26.100000381469727,
           "trajectory": "D_sol",
           "upper": 1.1713279485702515
          },
          {
           "lower": 1.191901445388794,
           "timepoint": 26.200000762939453,
           "trajectory": "D_sol",
           "upper": 1.191901445388794
          },
          {
           "lower": 1.2128270864486694,
           "timepoint": 26.299999237060547,
           "trajectory": "D_sol",
           "upper": 1.2128270864486694
          },
          {
           "lower": 1.2341119050979614,
           "timepoint": 26.399999618530273,
           "trajectory": "D_sol",
           "upper": 1.2341119050979614
          },
          {
           "lower": 1.2557616233825684,
           "timepoint": 26.5,
           "trajectory": "D_sol",
           "upper": 1.2557616233825684
          },
          {
           "lower": 1.2777823209762573,
           "timepoint": 26.600000381469727,
           "trajectory": "D_sol",
           "upper": 1.2777823209762573
          },
          {
           "lower": 1.3001805543899536,
           "timepoint": 26.700000762939453,
           "trajectory": "D_sol",
           "upper": 1.3001805543899536
          },
          {
           "lower": 1.3229621648788452,
           "timepoint": 26.799999237060547,
           "trajectory": "D_sol",
           "upper": 1.3229621648788452
          },
          {
           "lower": 1.3461346626281738,
           "timepoint": 26.899999618530273,
           "trajectory": "D_sol",
           "upper": 1.3461346626281738
          },
          {
           "lower": 1.369704246520996,
           "timepoint": 27,
           "trajectory": "D_sol",
           "upper": 1.369704246520996
          },
          {
           "lower": 1.3936783075332642,
           "timepoint": 27.100000381469727,
           "trajectory": "D_sol",
           "upper": 1.3936783075332642
          },
          {
           "lower": 1.4180629253387451,
           "timepoint": 27.200000762939453,
           "trajectory": "D_sol",
           "upper": 1.4180629253387451
          },
          {
           "lower": 1.442865014076233,
           "timepoint": 27.299999237060547,
           "trajectory": "D_sol",
           "upper": 1.442865014076233
          },
          {
           "lower": 1.4680925607681274,
           "timepoint": 27.399999618530273,
           "trajectory": "D_sol",
           "upper": 1.4680925607681274
          },
          {
           "lower": 1.493752360343933,
           "timepoint": 27.5,
           "trajectory": "D_sol",
           "upper": 1.493752360343933
          },
          {
           "lower": 1.5198520421981812,
           "timepoint": 27.600000381469727,
           "trajectory": "D_sol",
           "upper": 1.5198520421981812
          },
          {
           "lower": 1.5463989973068237,
           "timepoint": 27.700000762939453,
           "trajectory": "D_sol",
           "upper": 1.5463989973068237
          },
          {
           "lower": 1.573400616645813,
           "timepoint": 27.799999237060547,
           "trajectory": "D_sol",
           "upper": 1.573400616645813
          },
          {
           "lower": 1.600865364074707,
           "timepoint": 27.899999618530273,
           "trajectory": "D_sol",
           "upper": 1.600865364074707
          },
          {
           "lower": 1.6288009881973267,
           "timepoint": 28,
           "trajectory": "D_sol",
           "upper": 1.6288009881973267
          },
          {
           "lower": 1.657213568687439,
           "timepoint": 28.100000381469727,
           "trajectory": "D_sol",
           "upper": 1.657213568687439
          },
          {
           "lower": 1.6861143112182617,
           "timepoint": 28.200000762939453,
           "trajectory": "D_sol",
           "upper": 1.6861143112182617
          },
          {
           "lower": 1.7155096530914307,
           "timepoint": 28.299999237060547,
           "trajectory": "D_sol",
           "upper": 1.7155096530914307
          },
          {
           "lower": 1.7454091310501099,
           "timepoint": 28.399999618530273,
           "trajectory": "D_sol",
           "upper": 1.7454091310501099
          },
          {
           "lower": 1.7758212089538574,
           "timepoint": 28.5,
           "trajectory": "D_sol",
           "upper": 1.7758212089538574
          },
          {
           "lower": 1.8067541122436523,
           "timepoint": 28.600000381469727,
           "trajectory": "D_sol",
           "upper": 1.8067541122436523
          },
          {
           "lower": 1.838216781616211,
           "timepoint": 28.700000762939453,
           "trajectory": "D_sol",
           "upper": 1.838216781616211
          },
          {
           "lower": 1.87021803855896,
           "timepoint": 28.799999237060547,
           "trajectory": "D_sol",
           "upper": 1.87021803855896
          },
          {
           "lower": 1.9027683734893799,
           "timepoint": 28.899999618530273,
           "trajectory": "D_sol",
           "upper": 1.9027683734893799
          },
          {
           "lower": 1.9358758926391602,
           "timepoint": 29,
           "trajectory": "D_sol",
           "upper": 1.9358758926391602
          },
          {
           "lower": 1.9695532321929932,
           "timepoint": 29.100000381469727,
           "trajectory": "D_sol",
           "upper": 1.9695532321929932
          },
          {
           "lower": 2.0038058757781982,
           "timepoint": 29.200000762939453,
           "trajectory": "D_sol",
           "upper": 2.0038058757781982
          },
          {
           "lower": 2.038644313812256,
           "timepoint": 29.299999237060547,
           "trajectory": "D_sol",
           "upper": 2.038644313812256
          },
          {
           "lower": 2.0740809440612793,
           "timepoint": 29.399999618530273,
           "trajectory": "D_sol",
           "upper": 2.0740809440612793
          },
          {
           "lower": 2.110124349594116,
           "timepoint": 29.5,
           "trajectory": "D_sol",
           "upper": 2.110124349594116
          },
          {
           "lower": 2.1467857360839844,
           "timepoint": 29.600000381469727,
           "trajectory": "D_sol",
           "upper": 2.1467857360839844
          },
          {
           "lower": 2.184075117111206,
           "timepoint": 29.700000762939453,
           "trajectory": "D_sol",
           "upper": 2.184075117111206
          },
          {
           "lower": 2.22200345993042,
           "timepoint": 29.799999237060547,
           "trajectory": "D_sol",
           "upper": 2.22200345993042
          },
          {
           "lower": 2.2605819702148438,
           "timepoint": 29.899999618530273,
           "trajectory": "D_sol",
           "upper": 2.2605819702148438
          },
          {
           "lower": 2.2998220920562744,
           "timepoint": 30,
           "trajectory": "D_sol",
           "upper": 2.2998220920562744
          },
          {
           "lower": 2.3397278785705566,
           "timepoint": 30.100000381469727,
           "trajectory": "D_sol",
           "upper": 2.3397278785705566
          },
          {
           "lower": 2.3803224563598633,
           "timepoint": 30.200000762939453,
           "trajectory": "D_sol",
           "upper": 2.3803224563598633
          },
          {
           "lower": 2.421611785888672,
           "timepoint": 30.299999237060547,
           "trajectory": "D_sol",
           "upper": 2.421611785888672
          },
          {
           "lower": 2.463608980178833,
           "timepoint": 30.399999618530273,
           "trajectory": "D_sol",
           "upper": 2.463608980178833
          },
          {
           "lower": 2.50632643699646,
           "timepoint": 30.5,
           "trajectory": "D_sol",
           "upper": 2.50632643699646
          },
          {
           "lower": 2.5497756004333496,
           "timepoint": 30.600000381469727,
           "trajectory": "D_sol",
           "upper": 2.5497756004333496
          },
          {
           "lower": 2.5939691066741943,
           "timepoint": 30.700000762939453,
           "trajectory": "D_sol",
           "upper": 2.5939691066741943
          },
          {
           "lower": 2.6389193534851074,
           "timepoint": 30.799999237060547,
           "trajectory": "D_sol",
           "upper": 2.6389193534851074
          },
          {
           "lower": 2.684640645980835,
           "timepoint": 30.899999618530273,
           "trajectory": "D_sol",
           "upper": 2.684640645980835
          },
          {
           "lower": 2.7311458587646484,
           "timepoint": 31,
           "trajectory": "D_sol",
           "upper": 2.7311458587646484
          },
          {
           "lower": 1,
           "timepoint": 0,
           "trajectory": "E_sol",
           "upper": 1
          },
          {
           "lower": 1.1600005626678467,
           "timepoint": 0.10000000149011612,
           "trajectory": "E_sol",
           "upper": 1.1600005626678467
          },
          {
           "lower": 1.316512107849121,
           "timepoint": 0.20000000298023224,
           "trajectory": "E_sol",
           "upper": 1.316512107849121
          },
          {
           "lower": 1.4697470664978027,
           "timepoint": 0.30000001192092896,
           "trajectory": "E_sol",
           "upper": 1.4697470664978027
          },
          {
           "lower": 1.6199058294296265,
           "timepoint": 0.4000000059604645,
           "trajectory": "E_sol",
           "upper": 1.6199058294296265
          },
          {
           "lower": 1.7671879529953003,
           "timepoint": 0.5,
           "trajectory": "E_sol",
           "upper": 1.7671879529953003
          },
          {
           "lower": 1.9117799997329712,
           "timepoint": 0.6000000238418579,
           "trajectory": "E_sol",
           "upper": 1.9117799997329712
          },
          {
           "lower": 2.0538625717163086,
           "timepoint": 0.699999988079071,
           "trajectory": "E_sol",
           "upper": 2.0538625717163086
          },
          {
           "lower": 2.1936137676239014,
           "timepoint": 0.800000011920929,
           "trajectory": "E_sol",
           "upper": 2.1936137676239014
          },
          {
           "lower": 2.33119797706604,
           "timepoint": 0.9000000357627869,
           "trajectory": "E_sol",
           "upper": 2.33119797706604
          },
          {
           "lower": 2.4667775630950928,
           "timepoint": 1,
           "trajectory": "E_sol",
           "upper": 2.4667775630950928
          },
          {
           "lower": 2.6005067825317383,
           "timepoint": 1.100000023841858,
           "trajectory": "E_sol",
           "upper": 2.6005067825317383
          },
          {
           "lower": 2.732538938522339,
           "timepoint": 1.2000000476837158,
           "trajectory": "E_sol",
           "upper": 2.732538938522339
          },
          {
           "lower": 2.8630173206329346,
           "timepoint": 1.3000000715255737,
           "trajectory": "E_sol",
           "upper": 2.8630173206329346
          },
          {
           "lower": 2.992081880569458,
           "timepoint": 1.399999976158142,
           "trajectory": "E_sol",
           "upper": 2.992081880569458
          },
          {
           "lower": 3.1198668479919434,
           "timepoint": 1.5,
           "trajectory": "E_sol",
           "upper": 3.1198668479919434
          },
          {
           "lower": 3.2465033531188965,
           "timepoint": 1.600000023841858,
           "trajectory": "E_sol",
           "upper": 3.2465033531188965
          },
          {
           "lower": 3.3721160888671875,
           "timepoint": 1.7000000476837158,
           "trajectory": "E_sol",
           "upper": 3.3721160888671875
          },
          {
           "lower": 3.496826648712158,
           "timepoint": 1.8000000715255737,
           "trajectory": "E_sol",
           "upper": 3.496826648712158
          },
          {
           "lower": 3.620758056640625,
           "timepoint": 1.899999976158142,
           "trajectory": "E_sol",
           "upper": 3.620758056640625
          },
          {
           "lower": 3.7440173625946045,
           "timepoint": 2,
           "trajectory": "E_sol",
           "upper": 3.7440173625946045
          },
          {
           "lower": 3.866717576980591,
           "timepoint": 2.1000001430511475,
           "trajectory": "E_sol",
           "upper": 3.866717576980591
          },
          {
           "lower": 3.9889655113220215,
           "timepoint": 2.200000047683716,
           "trajectory": "E_sol",
           "upper": 3.9889655113220215
          },
          {
           "lower": 4.110864162445068,
           "timepoint": 2.299999952316284,
           "trajectory": "E_sol",
           "upper": 4.110864162445068
          },
          {
           "lower": 4.232511520385742,
           "timepoint": 2.4000000953674316,
           "trajectory": "E_sol",
           "upper": 4.232511520385742
          },
          {
           "lower": 4.354010105133057,
           "timepoint": 2.5,
           "trajectory": "E_sol",
           "upper": 4.354010105133057
          },
          {
           "lower": 4.4754533767700195,
           "timepoint": 2.6000001430511475,
           "trajectory": "E_sol",
           "upper": 4.4754533767700195
          },
          {
           "lower": 4.5969319343566895,
           "timepoint": 2.700000047683716,
           "trajectory": "E_sol",
           "upper": 4.5969319343566895
          },
          {
           "lower": 4.718536853790283,
           "timepoint": 2.799999952316284,
           "trajectory": "E_sol",
           "upper": 4.718536853790283
          },
          {
           "lower": 4.840355396270752,
           "timepoint": 2.9000000953674316,
           "trajectory": "E_sol",
           "upper": 4.840355396270752
          },
          {
           "lower": 4.962472438812256,
           "timepoint": 3,
           "trajectory": "E_sol",
           "upper": 4.962472438812256
          },
          {
           "lower": 5.0849714279174805,
           "timepoint": 3.1000001430511475,
           "trajectory": "E_sol",
           "upper": 5.0849714279174805
          },
          {
           "lower": 5.2079339027404785,
           "timepoint": 3.200000047683716,
           "trajectory": "E_sol",
           "upper": 5.2079339027404785
          },
          {
           "lower": 5.331433296203613,
           "timepoint": 3.299999952316284,
           "trajectory": "E_sol",
           "upper": 5.331433296203613
          },
          {
           "lower": 5.4555559158325195,
           "timepoint": 3.4000000953674316,
           "trajectory": "E_sol",
           "upper": 5.4555559158325195
          },
          {
           "lower": 5.580371856689453,
           "timepoint": 3.5,
           "trajectory": "E_sol",
           "upper": 5.580371856689453
          },
          {
           "lower": 5.705957412719727,
           "timepoint": 3.6000001430511475,
           "trajectory": "E_sol",
           "upper": 5.705957412719727
          },
          {
           "lower": 5.832383155822754,
           "timepoint": 3.700000047683716,
           "trajectory": "E_sol",
           "upper": 5.832383155822754
          },
          {
           "lower": 5.9597320556640625,
           "timepoint": 3.799999952316284,
           "trajectory": "E_sol",
           "upper": 5.9597320556640625
          },
          {
           "lower": 6.088059425354004,
           "timepoint": 3.9000000953674316,
           "trajectory": "E_sol",
           "upper": 6.088059425354004
          },
          {
           "lower": 6.217440605163574,
           "timepoint": 4,
           "trajectory": "E_sol",
           "upper": 6.217440605163574
          },
          {
           "lower": 6.3479413986206055,
           "timepoint": 4.099999904632568,
           "trajectory": "E_sol",
           "upper": 6.3479413986206055
          },
          {
           "lower": 6.479632377624512,
           "timepoint": 4.200000286102295,
           "trajectory": "E_sol",
           "upper": 6.479632377624512
          },
          {
           "lower": 6.612576961517334,
           "timepoint": 4.300000190734863,
           "trajectory": "E_sol",
           "upper": 6.612576961517334
          },
          {
           "lower": 6.7468342781066895,
           "timepoint": 4.400000095367432,
           "trajectory": "E_sol",
           "upper": 6.7468342781066895
          },
          {
           "lower": 6.882480144500732,
           "timepoint": 4.5,
           "trajectory": "E_sol",
           "upper": 6.882480144500732
          },
          {
           "lower": 7.019571781158447,
           "timepoint": 4.599999904632568,
           "trajectory": "E_sol",
           "upper": 7.019571781158447
          },
          {
           "lower": 7.15817403793335,
           "timepoint": 4.700000286102295,
           "trajectory": "E_sol",
           "upper": 7.15817403793335
          },
          {
           "lower": 7.298347473144531,
           "timepoint": 4.800000190734863,
           "trajectory": "E_sol",
           "upper": 7.298347473144531
          },
          {
           "lower": 7.440154075622559,
           "timepoint": 4.900000095367432,
           "trajectory": "E_sol",
           "upper": 7.440154075622559
          },
          {
           "lower": 7.5836663246154785,
           "timepoint": 5,
           "trajectory": "E_sol",
           "upper": 7.5836663246154785
          },
          {
           "lower": 7.728928565979004,
           "timepoint": 5.099999904632568,
           "trajectory": "E_sol",
           "upper": 7.728928565979004
          },
          {
           "lower": 7.876009464263916,
           "timepoint": 5.200000286102295,
           "trajectory": "E_sol",
           "upper": 7.876009464263916
          },
          {
           "lower": 8.024967193603516,
           "timepoint": 5.300000190734863,
           "trajectory": "E_sol",
           "upper": 8.024967193603516
          },
          {
           "lower": 8.175865173339844,
           "timepoint": 5.400000095367432,
           "trajectory": "E_sol",
           "upper": 8.175865173339844
          },
          {
           "lower": 8.328760147094727,
           "timepoint": 5.5,
           "trajectory": "E_sol",
           "upper": 8.328760147094727
          },
          {
           "lower": 8.483716011047363,
           "timepoint": 5.599999904632568,
           "trajectory": "E_sol",
           "upper": 8.483716011047363
          },
          {
           "lower": 8.64077377319336,
           "timepoint": 5.700000286102295,
           "trajectory": "E_sol",
           "upper": 8.64077377319336
          },
          {
           "lower": 8.800019264221191,
           "timepoint": 5.800000190734863,
           "trajectory": "E_sol",
           "upper": 8.800019264221191
          },
          {
           "lower": 8.961501121520996,
           "timepoint": 5.900000095367432,
           "trajectory": "E_sol",
           "upper": 8.961501121520996
          },
          {
           "lower": 9.125279426574707,
           "timepoint": 6,
           "trajectory": "E_sol",
           "upper": 9.125279426574707
          },
          {
           "lower": 9.291413307189941,
           "timepoint": 6.099999904632568,
           "trajectory": "E_sol",
           "upper": 9.291413307189941
          },
          {
           "lower": 9.45996379852295,
           "timepoint": 6.200000286102295,
           "trajectory": "E_sol",
           "upper": 9.45996379852295
          },
          {
           "lower": 9.630990028381348,
           "timepoint": 6.300000190734863,
           "trajectory": "E_sol",
           "upper": 9.630990028381348
          },
          {
           "lower": 9.804553031921387,
           "timepoint": 6.400000095367432,
           "trajectory": "E_sol",
           "upper": 9.804553031921387
          },
          {
           "lower": 9.980711936950684,
           "timepoint": 6.5,
           "trajectory": "E_sol",
           "upper": 9.980711936950684
          },
          {
           "lower": 10.159529685974121,
           "timepoint": 6.599999904632568,
           "trajectory": "E_sol",
           "upper": 10.159529685974121
          },
          {
           "lower": 10.341066360473633,
           "timepoint": 6.700000286102295,
           "trajectory": "E_sol",
           "upper": 10.341066360473633
          },
          {
           "lower": 10.525382995605469,
           "timepoint": 6.800000190734863,
           "trajectory": "E_sol",
           "upper": 10.525382995605469
          },
          {
           "lower": 10.712538719177246,
           "timepoint": 6.900000095367432,
           "trajectory": "E_sol",
           "upper": 10.712538719177246
          },
          {
           "lower": 10.90260124206543,
           "timepoint": 7,
           "trajectory": "E_sol",
           "upper": 10.90260124206543
          },
          {
           "lower": 11.095643043518066,
           "timepoint": 7.099999904632568,
           "trajectory": "E_sol",
           "upper": 11.095643043518066
          },
          {
           "lower": 11.291707992553711,
           "timepoint": 7.200000286102295,
           "trajectory": "E_sol",
           "upper": 11.291707992553711
          },
          {
           "lower": 11.490867614746094,
           "timepoint": 7.300000190734863,
           "trajectory": "E_sol",
           "upper": 11.490867614746094
          },
          {
           "lower": 11.693184852600098,
           "timepoint": 7.400000095367432,
           "trajectory": "E_sol",
           "upper": 11.693184852600098
          },
          {
           "lower": 11.898726463317871,
           "timepoint": 7.5,
           "trajectory": "E_sol",
           "upper": 11.898726463317871
          },
          {
           "lower": 12.107559204101562,
           "timepoint": 7.599999904632568,
           "trajectory": "E_sol",
           "upper": 12.107559204101562
          },
          {
           "lower": 12.319747924804688,
           "timepoint": 7.700000286102295,
           "trajectory": "E_sol",
           "upper": 12.319747924804688
          },
          {
           "lower": 12.535359382629395,
           "timepoint": 7.800000190734863,
           "trajectory": "E_sol",
           "upper": 12.535359382629395
          },
          {
           "lower": 12.754474639892578,
           "timepoint": 7.900000095367432,
           "trajectory": "E_sol",
           "upper": 12.754474639892578
          },
          {
           "lower": 12.977140426635742,
           "timepoint": 8,
           "trajectory": "E_sol",
           "upper": 12.977140426635742
          },
          {
           "lower": 13.203437805175781,
           "timepoint": 8.100000381469727,
           "trajectory": "E_sol",
           "upper": 13.203437805175781
          },
          {
           "lower": 13.433430671691895,
           "timepoint": 8.199999809265137,
           "trajectory": "E_sol",
           "upper": 13.433430671691895
          },
          {
           "lower": 13.667198181152344,
           "timepoint": 8.300000190734863,
           "trajectory": "E_sol",
           "upper": 13.667198181152344
          },
          {
           "lower": 13.904806137084961,
           "timepoint": 8.40000057220459,
           "trajectory": "E_sol",
           "upper": 13.904806137084961
          },
          {
           "lower": 14.14632797241211,
           "timepoint": 8.5,
           "trajectory": "E_sol",
           "upper": 14.14632797241211
          },
          {
           "lower": 14.391839981079102,
           "timepoint": 8.600000381469727,
           "trajectory": "E_sol",
           "upper": 14.391839981079102
          },
          {
           "lower": 14.641424179077148,
           "timepoint": 8.699999809265137,
           "trajectory": "E_sol",
           "upper": 14.641424179077148
          },
          {
           "lower": 14.8951416015625,
           "timepoint": 8.800000190734863,
           "trajectory": "E_sol",
           "upper": 14.8951416015625
          },
          {
           "lower": 15.153077125549316,
           "timepoint": 8.90000057220459,
           "trajectory": "E_sol",
           "upper": 15.153077125549316
          },
          {
           "lower": 15.415301322937012,
           "timepoint": 9,
           "trajectory": "E_sol",
           "upper": 15.415301322937012
          },
          {
           "lower": 15.681901931762695,
           "timepoint": 9.100000381469727,
           "trajectory": "E_sol",
           "upper": 15.681901931762695
          },
          {
           "lower": 15.952951431274414,
           "timepoint": 9.199999809265137,
           "trajectory": "E_sol",
           "upper": 15.952951431274414
          },
          {
           "lower": 16.228538513183594,
           "timepoint": 9.300000190734863,
           "trajectory": "E_sol",
           "upper": 16.228538513183594
          },
          {
           "lower": 16.508739471435547,
           "timepoint": 9.40000057220459,
           "trajectory": "E_sol",
           "upper": 16.508739471435547
          },
          {
           "lower": 16.793636322021484,
           "timepoint": 9.5,
           "trajectory": "E_sol",
           "upper": 16.793636322021484
          },
          {
           "lower": 17.083362579345703,
           "timepoint": 9.600000381469727,
           "trajectory": "E_sol",
           "upper": 17.083362579345703
          },
          {
           "lower": 17.3779239654541,
           "timepoint": 9.699999809265137,
           "trajectory": "E_sol",
           "upper": 17.3779239654541
          },
          {
           "lower": 17.677448272705078,
           "timepoint": 9.800000190734863,
           "trajectory": "E_sol",
           "upper": 17.677448272705078
          },
          {
           "lower": 17.982019424438477,
           "timepoint": 9.90000057220459,
           "trajectory": "E_sol",
           "upper": 17.982019424438477
          },
          {
           "lower": 18.291723251342773,
           "timepoint": 10,
           "trajectory": "E_sol",
           "upper": 18.291723251342773
          },
          {
           "lower": 18.606660842895508,
           "timepoint": 10.100000381469727,
           "trajectory": "E_sol",
           "upper": 18.606660842895508
          },
          {
           "lower": 18.92691421508789,
           "timepoint": 10.199999809265137,
           "trajectory": "E_sol",
           "upper": 18.92691421508789
          },
          {
           "lower": 19.25258445739746,
           "timepoint": 10.300000190734863,
           "trajectory": "E_sol",
           "upper": 19.25258445739746
          },
          {
           "lower": 19.58376693725586,
           "timepoint": 10.40000057220459,
           "trajectory": "E_sol",
           "upper": 19.58376693725586
          },
          {
           "lower": 19.920578002929688,
           "timepoint": 10.5,
           "trajectory": "E_sol",
           "upper": 19.920578002929688
          },
          {
           "lower": 20.263080596923828,
           "timepoint": 10.600000381469727,
           "trajectory": "E_sol",
           "upper": 20.263080596923828
          },
          {
           "lower": 20.611391067504883,
           "timepoint": 10.699999809265137,
           "trajectory": "E_sol",
           "upper": 20.611391067504883
          },
          {
           "lower": 20.965618133544922,
           "timepoint": 10.800000190734863,
           "trajectory": "E_sol",
           "upper": 20.965618133544922
          },
          {
           "lower": 21.325855255126953,
           "timepoint": 10.90000057220459,
           "trajectory": "E_sol",
           "upper": 21.325855255126953
          },
          {
           "lower": 21.692209243774414,
           "timepoint": 11,
           "trajectory": "E_sol",
           "upper": 21.692209243774414
          },
          {
           "lower": 22.064796447753906,
           "timepoint": 11.100000381469727,
           "trajectory": "E_sol",
           "upper": 22.064796447753906
          },
          {
           "lower": 22.443710327148438,
           "timepoint": 11.199999809265137,
           "trajectory": "E_sol",
           "upper": 22.443710327148438
          },
          {
           "lower": 22.829078674316406,
           "timepoint": 11.300000190734863,
           "trajectory": "E_sol",
           "upper": 22.829078674316406
          },
          {
           "lower": 23.220985412597656,
           "timepoint": 11.40000057220459,
           "trajectory": "E_sol",
           "upper": 23.220985412597656
          },
          {
           "lower": 23.61957359313965,
           "timepoint": 11.5,
           "trajectory": "E_sol",
           "upper": 23.61957359313965
          },
          {
           "lower": 24.024953842163086,
           "timepoint": 11.600000381469727,
           "trajectory": "E_sol",
           "upper": 24.024953842163086
          },
          {
           "lower": 24.437236785888672,
           "timepoint": 11.699999809265137,
           "trajectory": "E_sol",
           "upper": 24.437236785888672
          },
          {
           "lower": 24.856550216674805,
           "timepoint": 11.800000190734863,
           "trajectory": "E_sol",
           "upper": 24.856550216674805
          },
          {
           "lower": 25.283008575439453,
           "timepoint": 11.90000057220459,
           "trajectory": "E_sol",
           "upper": 25.283008575439453
          },
          {
           "lower": 25.716737747192383,
           "timepoint": 12,
           "trajectory": "E_sol",
           "upper": 25.716737747192383
          },
          {
           "lower": 26.157865524291992,
           "timepoint": 12.100000381469727,
           "trajectory": "E_sol",
           "upper": 26.157865524291992
          },
          {
           "lower": 26.606517791748047,
           "timepoint": 12.199999809265137,
           "trajectory": "E_sol",
           "upper": 26.606517791748047
          },
          {
           "lower": 27.062828063964844,
           "timepoint": 12.300000190734863,
           "trajectory": "E_sol",
           "upper": 27.062828063964844
          },
          {
           "lower": 27.526927947998047,
           "timepoint": 12.40000057220459,
           "trajectory": "E_sol",
           "upper": 27.526927947998047
          },
          {
           "lower": 27.998945236206055,
           "timepoint": 12.5,
           "trajectory": "E_sol",
           "upper": 27.998945236206055
          },
          {
           "lower": 28.479026794433594,
           "timepoint": 12.600000381469727,
           "trajectory": "E_sol",
           "upper": 28.479026794433594
          },
          {
           "lower": 28.967302322387695,
           "timepoint": 12.699999809265137,
           "trajectory": "E_sol",
           "upper": 28.967302322387695
          },
          {
           "lower": 29.463918685913086,
           "timepoint": 12.800000190734863,
           "trajectory": "E_sol",
           "upper": 29.463918685913086
          },
          {
           "lower": 29.96902084350586,
           "timepoint": 12.90000057220459,
           "trajectory": "E_sol",
           "upper": 29.96902084350586
          },
          {
           "lower": 30.482742309570312,
           "timepoint": 13,
           "trajectory": "E_sol",
           "upper": 30.482742309570312
          },
          {
           "lower": 31.005245208740234,
           "timepoint": 13.100000381469727,
           "trajectory": "E_sol",
           "upper": 31.005245208740234
          },
          {
           "lower": 31.536672592163086,
           "timepoint": 13.199999809265137,
           "trajectory": "E_sol",
           "upper": 31.536672592163086
          },
          {
           "lower": 32.077232360839844,
           "timepoint": 13.300000190734863,
           "trajectory": "E_sol",
           "upper": 32.077232360839844
          },
          {
           "lower": 32.62699890136719,
           "timepoint": 13.40000057220459,
           "trajectory": "E_sol",
           "upper": 32.62699890136719
          },
          {
           "lower": 33.186161041259766,
           "timepoint": 13.5,
           "trajectory": "E_sol",
           "upper": 33.186161041259766
          },
          {
           "lower": 33.754886627197266,
           "timepoint": 13.600000381469727,
           "trajectory": "E_sol",
           "upper": 33.754886627197266
          },
          {
           "lower": 34.333335876464844,
           "timepoint": 13.699999809265137,
           "trajectory": "E_sol",
           "upper": 34.333335876464844
          },
          {
           "lower": 34.92168426513672,
           "timepoint": 13.800000190734863,
           "trajectory": "E_sol",
           "upper": 34.92168426513672
          },
          {
           "lower": 35.52009582519531,
           "timepoint": 13.90000057220459,
           "trajectory": "E_sol",
           "upper": 35.52009582519531
          },
          {
           "lower": 36.12873458862305,
           "timepoint": 14,
           "trajectory": "E_sol",
           "upper": 36.12873458862305
          },
          {
           "lower": 36.74779510498047,
           "timepoint": 14.100000381469727,
           "trajectory": "E_sol",
           "upper": 36.74779510498047
          },
          {
           "lower": 37.377445220947266,
           "timepoint": 14.199999809265137,
           "trajectory": "E_sol",
           "upper": 37.377445220947266
          },
          {
           "lower": 38.01783752441406,
           "timepoint": 14.300000190734863,
           "trajectory": "E_sol",
           "upper": 38.01783752441406
          },
          {
           "lower": 38.66920852661133,
           "timepoint": 14.40000057220459,
           "trajectory": "E_sol",
           "upper": 38.66920852661133
          },
          {
           "lower": 39.331722259521484,
           "timepoint": 14.5,
           "trajectory": "E_sol",
           "upper": 39.331722259521484
          },
          {
           "lower": 40.005577087402344,
           "timepoint": 14.600000381469727,
           "trajectory": "E_sol",
           "upper": 40.005577087402344
          },
          {
           "lower": 40.690956115722656,
           "timepoint": 14.699999809265137,
           "trajectory": "E_sol",
           "upper": 40.690956115722656
          },
          {
           "lower": 41.38807678222656,
           "timepoint": 14.800000190734863,
           "trajectory": "E_sol",
           "upper": 41.38807678222656
          },
          {
           "lower": 42.09712600708008,
           "timepoint": 14.90000057220459,
           "trajectory": "E_sol",
           "upper": 42.09712600708008
          },
          {
           "lower": 42.81830596923828,
           "timepoint": 15,
           "trajectory": "E_sol",
           "upper": 42.81830596923828
          },
          {
           "lower": 43.55183792114258,
           "timepoint": 15.100000381469727,
           "trajectory": "E_sol",
           "upper": 43.55183792114258
          },
          {
           "lower": 44.29792022705078,
           "timepoint": 15.199999809265137,
           "trajectory": "E_sol",
           "upper": 44.29792022705078
          },
          {
           "lower": 45.05675506591797,
           "timepoint": 15.300000190734863,
           "trajectory": "E_sol",
           "upper": 45.05675506591797
          },
          {
           "lower": 45.8286018371582,
           "timepoint": 15.40000057220459,
           "trajectory": "E_sol",
           "upper": 45.8286018371582
          },
          {
           "lower": 46.613651275634766,
           "timepoint": 15.5,
           "trajectory": "E_sol",
           "upper": 46.613651275634766
          },
          {
           "lower": 47.41213607788086,
           "timepoint": 15.59999942779541,
           "trajectory": "E_sol",
           "upper": 47.41213607788086
          },
          {
           "lower": 48.224300384521484,
           "timepoint": 15.699999809265137,
           "trajectory": "E_sol",
           "upper": 48.224300384521484
          },
          {
           "lower": 49.050376892089844,
           "timepoint": 15.800000190734863,
           "trajectory": "E_sol",
           "upper": 49.050376892089844
          },
          {
           "lower": 49.89058303833008,
           "timepoint": 15.899999618530273,
           "trajectory": "E_sol",
           "upper": 49.89058303833008
          },
          {
           "lower": 50.745182037353516,
           "timepoint": 16,
           "trajectory": "E_sol",
           "upper": 50.745182037353516
          },
          {
           "lower": 51.614402770996094,
           "timepoint": 16.099998474121094,
           "trajectory": "E_sol",
           "upper": 51.614402770996094
          },
          {
           "lower": 52.49848556518555,
           "timepoint": 16.200000762939453,
           "trajectory": "E_sol",
           "upper": 52.49848556518555
          },
          {
           "lower": 53.39771270751953,
           "timepoint": 16.299999237060547,
           "trajectory": "E_sol",
           "upper": 53.39771270751953
          },
          {
           "lower": 54.31235122680664,
           "timepoint": 16.399999618530273,
           "trajectory": "E_sol",
           "upper": 54.31235122680664
          },
          {
           "lower": 55.24265670776367,
           "timepoint": 16.5,
           "trajectory": "E_sol",
           "upper": 55.24265670776367
          },
          {
           "lower": 56.188865661621094,
           "timepoint": 16.599998474121094,
           "trajectory": "E_sol",
           "upper": 56.188865661621094
          },
          {
           "lower": 57.15131759643555,
           "timepoint": 16.700000762939453,
           "trajectory": "E_sol",
           "upper": 57.15131759643555
          },
          {
           "lower": 58.130210876464844,
           "timepoint": 16.799999237060547,
           "trajectory": "E_sol",
           "upper": 58.130210876464844
          },
          {
           "lower": 59.125892639160156,
           "timepoint": 16.899999618530273,
           "trajectory": "E_sol",
           "upper": 59.125892639160156
          },
          {
           "lower": 60.13861846923828,
           "timepoint": 17,
           "trajectory": "E_sol",
           "upper": 60.13861846923828
          },
          {
           "lower": 61.168678283691406,
           "timepoint": 17.099998474121094,
           "trajectory": "E_sol",
           "upper": 61.168678283691406
          },
          {
           "lower": 62.21635818481445,
           "timepoint": 17.200000762939453,
           "trajectory": "E_sol",
           "upper": 62.21635818481445
          },
          {
           "lower": 63.281982421875,
           "timepoint": 17.299999237060547,
           "trajectory": "E_sol",
           "upper": 63.281982421875
          },
          {
           "lower": 64.36587524414062,
           "timepoint": 17.399999618530273,
           "trajectory": "E_sol",
           "upper": 64.36587524414062
          },
          {
           "lower": 65.46832275390625,
           "timepoint": 17.5,
           "trajectory": "E_sol",
           "upper": 65.46832275390625
          },
          {
           "lower": 66.5896224975586,
           "timepoint": 17.599998474121094,
           "trajectory": "E_sol",
           "upper": 66.5896224975586
          },
          {
           "lower": 67.73015594482422,
           "timepoint": 17.700000762939453,
           "trajectory": "E_sol",
           "upper": 67.73015594482422
          },
          {
           "lower": 68.89019012451172,
           "timepoint": 17.799999237060547,
           "trajectory": "E_sol",
           "upper": 68.89019012451172
          },
          {
           "lower": 70.07008361816406,
           "timepoint": 17.899999618530273,
           "trajectory": "E_sol",
           "upper": 70.07008361816406
          },
          {
           "lower": 71.27018737792969,
           "timepoint": 18,
           "trajectory": "E_sol",
           "upper": 71.27018737792969
          },
          {
           "lower": 72.49079895019531,
           "timepoint": 18.099998474121094,
           "trajectory": "E_sol",
           "upper": 72.49079895019531
          },
          {
           "lower": 73.73257446289062,
           "timepoint": 18.200000762939453,
           "trajectory": "E_sol",
           "upper": 73.73257446289062
          },
          {
           "lower": 74.99539184570312,
           "timepoint": 18.299999237060547,
           "trajectory": "E_sol",
           "upper": 74.99539184570312
          },
          {
           "lower": 76.2798843383789,
           "timepoint": 18.399999618530273,
           "trajectory": "E_sol",
           "upper": 76.2798843383789
          },
          {
           "lower": 77.58636474609375,
           "timepoint": 18.5,
           "trajectory": "E_sol",
           "upper": 77.58636474609375
          },
          {
           "lower": 78.91519927978516,
           "timepoint": 18.599998474121094,
           "trajectory": "E_sol",
           "upper": 78.91519927978516
          },
          {
           "lower": 80.26683807373047,
           "timepoint": 18.700000762939453,
           "trajectory": "E_sol",
           "upper": 80.26683807373047
          },
          {
           "lower": 81.6415786743164,
           "timepoint": 18.799999237060547,
           "trajectory": "E_sol",
           "upper": 81.6415786743164
          },
          {
           "lower": 83.03988647460938,
           "timepoint": 18.899999618530273,
           "trajectory": "E_sol",
           "upper": 83.03988647460938
          },
          {
           "lower": 84.462158203125,
           "timepoint": 19,
           "trajectory": "E_sol",
           "upper": 84.462158203125
          },
          {
           "lower": 85.90874481201172,
           "timepoint": 19.099998474121094,
           "trajectory": "E_sol",
           "upper": 85.90874481201172
          },
          {
           "lower": 87.38007354736328,
           "timepoint": 19.200000762939453,
           "trajectory": "E_sol",
           "upper": 87.38007354736328
          },
          {
           "lower": 88.8766098022461,
           "timepoint": 19.299999237060547,
           "trajectory": "E_sol",
           "upper": 88.8766098022461
          },
          {
           "lower": 90.3988265991211,
           "timepoint": 19.399999618530273,
           "trajectory": "E_sol",
           "upper": 90.3988265991211
          },
          {
           "lower": 91.94709777832031,
           "timepoint": 19.5,
           "trajectory": "E_sol",
           "upper": 91.94709777832031
          },
          {
           "lower": 93.52185821533203,
           "timepoint": 19.599998474121094,
           "trajectory": "E_sol",
           "upper": 93.52185821533203
          },
          {
           "lower": 95.12364196777344,
           "timepoint": 19.700000762939453,
           "trajectory": "E_sol",
           "upper": 95.12364196777344
          },
          {
           "lower": 96.75279998779297,
           "timepoint": 19.799999237060547,
           "trajectory": "E_sol",
           "upper": 96.75279998779297
          },
          {
           "lower": 98.4098892211914,
           "timepoint": 19.899999618530273,
           "trajectory": "E_sol",
           "upper": 98.4098892211914
          },
          {
           "lower": 100.09535217285156,
           "timepoint": 20,
           "trajectory": "E_sol",
           "upper": 100.09535217285156
          },
          {
           "lower": 101.80964660644531,
           "timepoint": 20.099998474121094,
           "trajectory": "E_sol",
           "upper": 101.80964660644531
          },
          {
           "lower": 103.55340576171875,
           "timepoint": 20.200000762939453,
           "trajectory": "E_sol",
           "upper": 103.55340576171875
          },
          {
           "lower": 105.32693481445312,
           "timepoint": 20.299999237060547,
           "trajectory": "E_sol",
           "upper": 105.32693481445312
          },
          {
           "lower": 107.13086700439453,
           "timepoint": 20.399999618530273,
           "trajectory": "E_sol",
           "upper": 107.13086700439453
          },
          {
           "lower": 108.9656982421875,
           "timepoint": 20.5,
           "trajectory": "E_sol",
           "upper": 108.9656982421875
          },
          {
           "lower": 110.83190155029297,
           "timepoint": 20.599998474121094,
           "trajectory": "E_sol",
           "upper": 110.83190155029297
          },
          {
           "lower": 112.73015594482422,
           "timepoint": 20.700000762939453,
           "trajectory": "E_sol",
           "upper": 112.73015594482422
          },
          {
           "lower": 114.66084289550781,
           "timepoint": 20.799999237060547,
           "trajectory": "E_sol",
           "upper": 114.66084289550781
          },
          {
           "lower": 116.62462615966797,
           "timepoint": 20.899999618530273,
           "trajectory": "E_sol",
           "upper": 116.62462615966797
          },
          {
           "lower": 118.62206268310547,
           "timepoint": 21,
           "trajectory": "E_sol",
           "upper": 118.62206268310547
          },
          {
           "lower": 120.65367126464844,
           "timepoint": 21.099998474121094,
           "trajectory": "E_sol",
           "upper": 120.65367126464844
          },
          {
           "lower": 122.7201156616211,
           "timepoint": 21.200000762939453,
           "trajectory": "E_sol",
           "upper": 122.7201156616211
          },
          {
           "lower": 124.82189178466797,
           "timepoint": 21.299999237060547,
           "trajectory": "E_sol",
           "upper": 124.82189178466797
          },
          {
           "lower": 126.95970153808594,
           "timepoint": 21.399999618530273,
           "trajectory": "E_sol",
           "upper": 126.95970153808594
          },
          {
           "lower": 129.13412475585938,
           "timepoint": 21.5,
           "trajectory": "E_sol",
           "upper": 129.13412475585938
          },
          {
           "lower": 131.3457489013672,
           "timepoint": 21.599998474121094,
           "trajectory": "E_sol",
           "upper": 131.3457489013672
          },
          {
           "lower": 133.59532165527344,
           "timepoint": 21.700000762939453,
           "trajectory": "E_sol",
           "upper": 133.59532165527344
          },
          {
           "lower": 135.8833465576172,
           "timepoint": 21.799999237060547,
           "trajectory": "E_sol",
           "upper": 135.8833465576172
          },
          {
           "lower": 138.21055603027344,
           "timepoint": 21.899999618530273,
           "trajectory": "E_sol",
           "upper": 138.21055603027344
          },
          {
           "lower": 140.5776824951172,
           "timepoint": 22,
           "trajectory": "E_sol",
           "upper": 140.5776824951172
          },
          {
           "lower": 142.98526000976562,
           "timepoint": 22.099998474121094,
           "trajectory": "E_sol",
           "upper": 142.98526000976562
          },
          {
           "lower": 145.4342498779297,
           "timepoint": 22.200000762939453,
           "trajectory": "E_sol",
           "upper": 145.4342498779297
          },
          {
           "lower": 147.925048828125,
           "timepoint": 22.299999237060547,
           "trajectory": "E_sol",
           "upper": 147.925048828125
          },
          {
           "lower": 150.45852661132812,
           "timepoint": 22.399999618530273,
           "trajectory": "E_sol",
           "upper": 150.45852661132812
          },
          {
           "lower": 153.03541564941406,
           "timepoint": 22.5,
           "trajectory": "E_sol",
           "upper": 153.03541564941406
          },
          {
           "lower": 155.65640258789062,
           "timepoint": 22.599998474121094,
           "trajectory": "E_sol",
           "upper": 155.65640258789062
          },
          {
           "lower": 158.32235717773438,
           "timepoint": 22.700000762939453,
           "trajectory": "E_sol",
           "upper": 158.32235717773438
          },
          {
           "lower": 161.03390502929688,
           "timepoint": 22.799999237060547,
           "trajectory": "E_sol",
           "upper": 161.03390502929688
          },
          {
           "lower": 163.79193115234375,
           "timepoint": 22.899999618530273,
           "trajectory": "E_sol",
           "upper": 163.79193115234375
          },
          {
           "lower": 166.59718322753906,
           "timepoint": 23,
           "trajectory": "E_sol",
           "upper": 166.59718322753906
          },
          {
           "lower": 169.45022583007812,
           "timepoint": 23.100000381469727,
           "trajectory": "E_sol",
           "upper": 169.45022583007812
          },
          {
           "lower": 172.35235595703125,
           "timepoint": 23.200000762939453,
           "trajectory": "E_sol",
           "upper": 172.35235595703125
          },
          {
           "lower": 175.3041229248047,
           "timepoint": 23.299999237060547,
           "trajectory": "E_sol",
           "upper": 175.3041229248047
          },
          {
           "lower": 178.3065185546875,
           "timepoint": 23.399999618530273,
           "trajectory": "E_sol",
           "upper": 178.3065185546875
          },
          {
           "lower": 181.3603057861328,
           "timepoint": 23.5,
           "trajectory": "E_sol",
           "upper": 181.3603057861328
          },
          {
           "lower": 184.46641540527344,
           "timepoint": 23.600000381469727,
           "trajectory": "E_sol",
           "upper": 184.46641540527344
          },
          {
           "lower": 187.62571716308594,
           "timepoint": 23.700000762939453,
           "trajectory": "E_sol",
           "upper": 187.62571716308594
          },
          {
           "lower": 190.8390655517578,
           "timepoint": 23.799999237060547,
           "trajectory": "E_sol",
           "upper": 190.8390655517578
          },
          {
           "lower": 194.1075439453125,
           "timepoint": 23.899999618530273,
           "trajectory": "E_sol",
           "upper": 194.1075439453125
          },
          {
           "lower": 197.43197631835938,
           "timepoint": 24,
           "trajectory": "E_sol",
           "upper": 197.43197631835938
          },
          {
           "lower": 200.813232421875,
           "timepoint": 24.100000381469727,
           "trajectory": "E_sol",
           "upper": 200.813232421875
          },
          {
           "lower": 204.2524871826172,
           "timepoint": 24.200000762939453,
           "trajectory": "E_sol",
           "upper": 204.2524871826172
          },
          {
           "lower": 207.7506103515625,
           "timepoint": 24.299999237060547,
           "trajectory": "E_sol",
           "upper": 207.7506103515625
          },
          {
           "lower": 211.3087158203125,
           "timepoint": 24.399999618530273,
           "trajectory": "E_sol",
           "upper": 211.3087158203125
          },
          {
           "lower": 214.92774963378906,
           "timepoint": 24.5,
           "trajectory": "E_sol",
           "upper": 214.92774963378906
          },
          {
           "lower": 218.60877990722656,
           "timepoint": 24.600000381469727,
           "trajectory": "E_sol",
           "upper": 218.60877990722656
          },
          {
           "lower": 222.35289001464844,
           "timepoint": 24.700000762939453,
           "trajectory": "E_sol",
           "upper": 222.35289001464844
          },
          {
           "lower": 226.16104125976562,
           "timepoint": 24.799999237060547,
           "trajectory": "E_sol",
           "upper": 226.16104125976562
          },
          {
           "lower": 230.0345458984375,
           "timepoint": 24.899999618530273,
           "trajectory": "E_sol",
           "upper": 230.0345458984375
          },
          {
           "lower": 233.9744110107422,
           "timepoint": 25,
           "trajectory": "E_sol",
           "upper": 233.9744110107422
          },
          {
           "lower": 237.98095703125,
           "timepoint": 25.100000381469727,
           "trajectory": "E_sol",
           "upper": 237.98095703125
          },
          {
           "lower": 242.05673217773438,
           "timepoint": 25.200000762939453,
           "trajectory": "E_sol",
           "upper": 242.05673217773438
          },
          {
           "lower": 246.20223999023438,
           "timepoint": 25.299999237060547,
           "trajectory": "E_sol",
           "upper": 246.20223999023438
          },
          {
           "lower": 250.41879272460938,
           "timepoint": 25.399999618530273,
           "trajectory": "E_sol",
           "upper": 250.41879272460938
          },
          {
           "lower": 254.7075653076172,
           "timepoint": 25.5,
           "trajectory": "E_sol",
           "upper": 254.7075653076172
          },
          {
           "lower": 259.0697326660156,
           "timepoint": 25.600000381469727,
           "trajectory": "E_sol",
           "upper": 259.0697326660156
          },
          {
           "lower": 263.5066223144531,
           "timepoint": 25.700000762939453,
           "trajectory": "E_sol",
           "upper": 263.5066223144531
          },
          {
           "lower": 268.0194091796875,
           "timepoint": 25.799999237060547,
           "trajectory": "E_sol",
           "upper": 268.0194091796875
          },
          {
           "lower": 272.6095275878906,
           "timepoint": 25.899999618530273,
           "trajectory": "E_sol",
           "upper": 272.6095275878906
          },
          {
           "lower": 277.2782287597656,
           "timepoint": 26,
           "trajectory": "E_sol",
           "upper": 277.2782287597656
          },
          {
           "lower": 282.0276184082031,
           "timepoint": 26.100000381469727,
           "trajectory": "E_sol",
           "upper": 282.0276184082031
          },
          {
           "lower": 286.8577880859375,
           "timepoint": 26.200000762939453,
           "trajectory": "E_sol",
           "upper": 286.8577880859375
          },
          {
           "lower": 291.7705383300781,
           "timepoint": 26.299999237060547,
           "trajectory": "E_sol",
           "upper": 291.7705383300781
          },
          {
           "lower": 296.767578125,
           "timepoint": 26.399999618530273,
           "trajectory": "E_sol",
           "upper": 296.767578125
          },
          {
           "lower": 301.85009765625,
           "timepoint": 26.5,
           "trajectory": "E_sol",
           "upper": 301.85009765625
          },
          {
           "lower": 307.0197448730469,
           "timepoint": 26.600000381469727,
           "trajectory": "E_sol",
           "upper": 307.0197448730469
          },
          {
           "lower": 312.2778625488281,
           "timepoint": 26.700000762939453,
           "trajectory": "E_sol",
           "upper": 312.2778625488281
          },
          {
           "lower": 317.6259460449219,
           "timepoint": 26.799999237060547,
           "trajectory": "E_sol",
           "upper": 317.6259460449219
          },
          {
           "lower": 323.0657043457031,
           "timepoint": 26.899999618530273,
           "trajectory": "E_sol",
           "upper": 323.0657043457031
          },
          {
           "lower": 328.5986328125,
           "timepoint": 27,
           "trajectory": "E_sol",
           "upper": 328.5986328125
          },
          {
           "lower": 334.2262878417969,
           "timepoint": 27.100000381469727,
           "trajectory": "E_sol",
           "upper": 334.2262878417969
          },
          {
           "lower": 339.95037841796875,
           "timepoint": 27.200000762939453,
           "trajectory": "E_sol",
           "upper": 339.95037841796875
          },
          {
           "lower": 345.7723693847656,
           "timepoint": 27.299999237060547,
           "trajectory": "E_sol",
           "upper": 345.7723693847656
          },
          {
           "lower": 351.6942138671875,
           "timepoint": 27.399999618530273,
           "trajectory": "E_sol",
           "upper": 351.6942138671875
          },
          {
           "lower": 357.7173767089844,
           "timepoint": 27.5,
           "trajectory": "E_sol",
           "upper": 357.7173767089844
          },
          {
           "lower": 363.84381103515625,
           "timepoint": 27.600000381469727,
           "trajectory": "E_sol",
           "upper": 363.84381103515625
          },
          {
           "lower": 370.0751037597656,
           "timepoint": 27.700000762939453,
           "trajectory": "E_sol",
           "upper": 370.0751037597656
          },
          {
           "lower": 376.4129638671875,
           "timepoint": 27.799999237060547,
           "trajectory": "E_sol",
           "upper": 376.4129638671875
          },
          {
           "lower": 382.85955810546875,
           "timepoint": 27.899999618530273,
           "trajectory": "E_sol",
           "upper": 382.85955810546875
          },
          {
           "lower": 389.41650390625,
           "timepoint": 28,
           "trajectory": "E_sol",
           "upper": 389.41650390625
          },
          {
           "lower": 396.0855407714844,
           "timepoint": 28.100000381469727,
           "trajectory": "E_sol",
           "upper": 396.0855407714844
          },
          {
           "lower": 402.8689880371094,
           "timepoint": 28.200000762939453,
           "trajectory": "E_sol",
           "upper": 402.8689880371094
          },
          {
           "lower": 409.76849365234375,
           "timepoint": 28.299999237060547,
           "trajectory": "E_sol",
           "upper": 409.76849365234375
          },
          {
           "lower": 416.7862548828125,
           "timepoint": 28.399999618530273,
           "trajectory": "E_sol",
           "upper": 416.7862548828125
          },
          {
           "lower": 423.92425537109375,
           "timepoint": 28.5,
           "trajectory": "E_sol",
           "upper": 423.92425537109375
          },
          {
           "lower": 431.18450927734375,
           "timepoint": 28.600000381469727,
           "trajectory": "E_sol",
           "upper": 431.18450927734375
          },
          {
           "lower": 438.569091796875,
           "timepoint": 28.700000762939453,
           "trajectory": "E_sol",
           "upper": 438.569091796875
          },
          {
           "lower": 446.080078125,
           "timepoint": 28.799999237060547,
           "trajectory": "E_sol",
           "upper": 446.080078125
          },
          {
           "lower": 453.7198181152344,
           "timepoint": 28.899999618530273,
           "trajectory": "E_sol",
           "upper": 453.7198181152344
          },
          {
           "lower": 461.490478515625,
           "timepoint": 29,
           "trajectory": "E_sol",
           "upper": 461.490478515625
          },
          {
           "lower": 469.3931579589844,
           "timepoint": 29.100000381469727,
           "trajectory": "E_sol",
           "upper": 469.3931579589844
          },
          {
           "lower": 477.4319763183594,
           "timepoint": 29.200000762939453,
           "trajectory": "E_sol",
           "upper": 477.4319763183594
          },
          {
           "lower": 485.60833740234375,
           "timepoint": 29.299999237060547,
           "trajectory": "E_sol",
           "upper": 485.60833740234375
          },
          {
           "lower": 493.9248352050781,
           "timepoint": 29.399999618530273,
           "trajectory": "E_sol",
           "upper": 493.9248352050781
          },
          {
           "lower": 502.3837585449219,
           "timepoint": 29.5,
           "trajectory": "E_sol",
           "upper": 502.3837585449219
          },
          {
           "lower": 510.98748779296875,
           "timepoint": 29.600000381469727,
           "trajectory": "E_sol",
           "upper": 510.98748779296875
          },
          {
           "lower": 519.738525390625,
           "timepoint": 29.700000762939453,
           "trajectory": "E_sol",
           "upper": 519.738525390625
          },
          {
           "lower": 528.6392822265625,
           "timepoint": 29.799999237060547,
           "trajectory": "E_sol",
           "upper": 528.6392822265625
          },
          {
           "lower": 537.6925659179688,
           "timepoint": 29.899999618530273,
           "trajectory": "E_sol",
           "upper": 537.6925659179688
          },
          {
           "lower": 546.9008178710938,
           "timepoint": 30,
           "trajectory": "E_sol",
           "upper": 546.9008178710938
          },
          {
           "lower": 556.2675170898438,
           "timepoint": 30.100000381469727,
           "trajectory": "E_sol",
           "upper": 556.2675170898438
          },
          {
           "lower": 565.7941284179688,
           "timepoint": 30.200000762939453,
           "trajectory": "E_sol",
           "upper": 565.7941284179688
          },
          {
           "lower": 575.483642578125,
           "timepoint": 30.299999237060547,
           "trajectory": "E_sol",
           "upper": 575.483642578125
          },
          {
           "lower": 585.33935546875,
           "timepoint": 30.399999618530273,
           "trajectory": "E_sol",
           "upper": 585.33935546875
          },
          {
           "lower": 595.3637084960938,
           "timepoint": 30.5,
           "trajectory": "E_sol",
           "upper": 595.3637084960938
          },
          {
           "lower": 605.5597534179688,
           "timepoint": 30.600000381469727,
           "trajectory": "E_sol",
           "upper": 605.5597534179688
          },
          {
           "lower": 615.930419921875,
           "timepoint": 30.700000762939453,
           "trajectory": "E_sol",
           "upper": 615.930419921875
          },
          {
           "lower": 626.4784545898438,
           "timepoint": 30.799999237060547,
           "trajectory": "E_sol",
           "upper": 626.4784545898438
          },
          {
           "lower": 637.2072143554688,
           "timepoint": 30.899999618530273,
           "trajectory": "E_sol",
           "upper": 637.2072143554688
          },
          {
           "lower": 648.1197509765625,
           "timepoint": 31,
           "trajectory": "E_sol",
           "upper": 648.1197509765625
          },
          {
           "lower": 4,
           "timepoint": 0,
           "trajectory": "I_sol",
           "upper": 4
          },
          {
           "lower": 3.991241931915283,
           "timepoint": 0.10000000149011612,
           "trajectory": "I_sol",
           "upper": 3.991241931915283
          },
          {
           "lower": 3.9857017993927,
           "timepoint": 0.20000000298023224,
           "trajectory": "I_sol",
           "upper": 3.9857017993927
          },
          {
           "lower": 3.9832873344421387,
           "timepoint": 0.30000001192092896,
           "trajectory": "I_sol",
           "upper": 3.9832873344421387
          },
          {
           "lower": 3.983917713165283,
           "timepoint": 0.4000000059604645,
           "trajectory": "I_sol",
           "upper": 3.983917713165283
          },
          {
           "lower": 3.98750376701355,
           "timepoint": 0.5,
           "trajectory": "I_sol",
           "upper": 3.98750376701355
          },
          {
           "lower": 3.9939706325531006,
           "timepoint": 0.6000000238418579,
           "trajectory": "I_sol",
           "upper": 3.9939706325531006
          },
          {
           "lower": 4.003243923187256,
           "timepoint": 0.699999988079071,
           "trajectory": "I_sol",
           "upper": 4.003243923187256
          },
          {
           "lower": 4.015252113342285,
           "timepoint": 0.800000011920929,
           "trajectory": "I_sol",
           "upper": 4.015252113342285
          },
          {
           "lower": 4.029932975769043,
           "timepoint": 0.9000000357627869,
           "trajectory": "I_sol",
           "upper": 4.029932975769043
          },
          {
           "lower": 4.047221660614014,
           "timepoint": 1,
           "trajectory": "I_sol",
           "upper": 4.047221660614014
          },
          {
           "lower": 4.067068576812744,
           "timepoint": 1.100000023841858,
           "trajectory": "I_sol",
           "upper": 4.067068576812744
          },
          {
           "lower": 4.089409351348877,
           "timepoint": 1.2000000476837158,
           "trajectory": "I_sol",
           "upper": 4.089409351348877
          },
          {
           "lower": 4.114195823669434,
           "timepoint": 1.3000000715255737,
           "trajectory": "I_sol",
           "upper": 4.114195823669434
          },
          {
           "lower": 4.141378402709961,
           "timepoint": 1.399999976158142,
           "trajectory": "I_sol",
           "upper": 4.141378402709961
          },
          {
           "lower": 4.170914173126221,
           "timepoint": 1.5,
           "trajectory": "I_sol",
           "upper": 4.170914173126221
          },
          {
           "lower": 4.202761173248291,
           "timepoint": 1.600000023841858,
           "trajectory": "I_sol",
           "upper": 4.202761173248291
          },
          {
           "lower": 4.236881256103516,
           "timepoint": 1.7000000476837158,
           "trajectory": "I_sol",
           "upper": 4.236881256103516
          },
          {
           "lower": 4.273237705230713,
           "timepoint": 1.8000000715255737,
           "trajectory": "I_sol",
           "upper": 4.273237705230713
          },
          {
           "lower": 4.311789035797119,
           "timepoint": 1.899999976158142,
           "trajectory": "I_sol",
           "upper": 4.311789035797119
          },
          {
           "lower": 4.35251522064209,
           "timepoint": 2,
           "trajectory": "I_sol",
           "upper": 4.35251522064209
          },
          {
           "lower": 4.395382404327393,
           "timepoint": 2.1000001430511475,
           "trajectory": "I_sol",
           "upper": 4.395382404327393
          },
          {
           "lower": 4.440365791320801,
           "timepoint": 2.200000047683716,
           "trajectory": "I_sol",
           "upper": 4.440365791320801
          },
          {
           "lower": 4.487440586090088,
           "timepoint": 2.299999952316284,
           "trajectory": "I_sol",
           "upper": 4.487440586090088
          },
          {
           "lower": 4.536583423614502,
           "timepoint": 2.4000000953674316,
           "trajectory": "I_sol",
           "upper": 4.536583423614502
          },
          {
           "lower": 4.5877766609191895,
           "timepoint": 2.5,
           "trajectory": "I_sol",
           "upper": 4.5877766609191895
          },
          {
           "lower": 4.641002178192139,
           "timepoint": 2.6000001430511475,
           "trajectory": "I_sol",
           "upper": 4.641002178192139
          },
          {
           "lower": 4.696243762969971,
           "timepoint": 2.700000047683716,
           "trajectory": "I_sol",
           "upper": 4.696243762969971
          },
          {
           "lower": 4.753494739532471,
           "timepoint": 2.799999952316284,
           "trajectory": "I_sol",
           "upper": 4.753494739532471
          },
          {
           "lower": 4.812732219696045,
           "timepoint": 2.9000000953674316,
           "trajectory": "I_sol",
           "upper": 4.812732219696045
          },
          {
           "lower": 4.873951435089111,
           "timepoint": 3,
           "trajectory": "I_sol",
           "upper": 4.873951435089111
          },
          {
           "lower": 4.9371418952941895,
           "timepoint": 3.1000001430511475,
           "trajectory": "I_sol",
           "upper": 4.9371418952941895
          },
          {
           "lower": 5.002297878265381,
           "timepoint": 3.200000047683716,
           "trajectory": "I_sol",
           "upper": 5.002297878265381
          },
          {
           "lower": 5.0694260597229,
           "timepoint": 3.299999952316284,
           "trajectory": "I_sol",
           "upper": 5.0694260597229
          },
          {
           "lower": 5.138504981994629,
           "timepoint": 3.4000000953674316,
           "trajectory": "I_sol",
           "upper": 5.138504981994629
          },
          {
           "lower": 5.209541320800781,
           "timepoint": 3.5,
           "trajectory": "I_sol",
           "upper": 5.209541320800781
          },
          {
           "lower": 5.282534122467041,
           "timepoint": 3.6000001430511475,
           "trajectory": "I_sol",
           "upper": 5.282534122467041
          },
          {
           "lower": 5.357485294342041,
           "timepoint": 3.700000047683716,
           "trajectory": "I_sol",
           "upper": 5.357485294342041
          },
          {
           "lower": 5.434398651123047,
           "timepoint": 3.799999952316284,
           "trajectory": "I_sol",
           "upper": 5.434398651123047
          },
          {
           "lower": 5.513274669647217,
           "timepoint": 3.9000000953674316,
           "trajectory": "I_sol",
           "upper": 5.513274669647217
          },
          {
           "lower": 5.594120502471924,
           "timepoint": 4,
           "trajectory": "I_sol",
           "upper": 5.594120502471924
          },
          {
           "lower": 5.676943302154541,
           "timepoint": 4.099999904632568,
           "trajectory": "I_sol",
           "upper": 5.676943302154541
          },
          {
           "lower": 5.761751651763916,
           "timepoint": 4.200000286102295,
           "trajectory": "I_sol",
           "upper": 5.761751651763916
          },
          {
           "lower": 5.848554611206055,
           "timepoint": 4.300000190734863,
           "trajectory": "I_sol",
           "upper": 5.848554611206055
          },
          {
           "lower": 5.937360763549805,
           "timepoint": 4.400000095367432,
           "trajectory": "I_sol",
           "upper": 5.937360763549805
          },
          {
           "lower": 6.028183937072754,
           "timepoint": 4.5,
           "trajectory": "I_sol",
           "upper": 6.028183937072754
          },
          {
           "lower": 6.121036052703857,
           "timepoint": 4.599999904632568,
           "trajectory": "I_sol",
           "upper": 6.121036052703857
          },
          {
           "lower": 6.215932846069336,
           "timepoint": 4.700000286102295,
           "trajectory": "I_sol",
           "upper": 6.215932846069336
          },
          {
           "lower": 6.312889099121094,
           "timepoint": 4.800000190734863,
           "trajectory": "I_sol",
           "upper": 6.312889099121094
          },
          {
           "lower": 6.411920070648193,
           "timepoint": 4.900000095367432,
           "trajectory": "I_sol",
           "upper": 6.411920070648193
          },
          {
           "lower": 6.513038158416748,
           "timepoint": 5,
           "trajectory": "I_sol",
           "upper": 6.513038158416748
          },
          {
           "lower": 6.616271018981934,
           "timepoint": 5.099999904632568,
           "trajectory": "I_sol",
           "upper": 6.616271018981934
          },
          {
           "lower": 6.721635341644287,
           "timepoint": 5.200000286102295,
           "trajectory": "I_sol",
           "upper": 6.721635341644287
          },
          {
           "lower": 6.829150199890137,
           "timepoint": 5.300000190734863,
           "trajectory": "I_sol",
           "upper": 6.829150199890137
          },
          {
           "lower": 6.938838481903076,
           "timepoint": 5.400000095367432,
           "trajectory": "I_sol",
           "upper": 6.938838481903076
          },
          {
           "lower": 7.050723552703857,
           "timepoint": 5.5,
           "trajectory": "I_sol",
           "upper": 7.050723552703857
          },
          {
           "lower": 7.164827823638916,
           "timepoint": 5.599999904632568,
           "trajectory": "I_sol",
           "upper": 7.164827823638916
          },
          {
           "lower": 7.281173229217529,
           "timepoint": 5.700000286102295,
           "trajectory": "I_sol",
           "upper": 7.281173229217529
          },
          {
           "lower": 7.399791240692139,
           "timepoint": 5.800000190734863,
           "trajectory": "I_sol",
           "upper": 7.399791240692139
          },
          {
           "lower": 7.520705699920654,
           "timepoint": 5.900000095367432,
           "trajectory": "I_sol",
           "upper": 7.520705699920654
          },
          {
           "lower": 7.643946170806885,
           "timepoint": 6,
           "trajectory": "I_sol",
           "upper": 7.643946170806885
          },
          {
           "lower": 7.769539833068848,
           "timepoint": 6.099999904632568,
           "trajectory": "I_sol",
           "upper": 7.769539833068848
          },
          {
           "lower": 7.897518157958984,
           "timepoint": 6.200000286102295,
           "trajectory": "I_sol",
           "upper": 7.897518157958984
          },
          {
           "lower": 8.027905464172363,
           "timepoint": 6.300000190734863,
           "trajectory": "I_sol",
           "upper": 8.027905464172363
          },
          {
           "lower": 8.160740852355957,
           "timepoint": 6.400000095367432,
           "trajectory": "I_sol",
           "upper": 8.160740852355957
          },
          {
           "lower": 8.296055793762207,
           "timepoint": 6.5,
           "trajectory": "I_sol",
           "upper": 8.296055793762207
          },
          {
           "lower": 8.433879852294922,
           "timepoint": 6.599999904632568,
           "trajectory": "I_sol",
           "upper": 8.433879852294922
          },
          {
           "lower": 8.574252128601074,
           "timepoint": 6.700000286102295,
           "trajectory": "I_sol",
           "upper": 8.574252128601074
          },
          {
           "lower": 8.717204093933105,
           "timepoint": 6.800000190734863,
           "trajectory": "I_sol",
           "upper": 8.717204093933105
          },
          {
           "lower": 8.862774848937988,
           "timepoint": 6.900000095367432,
           "trajectory": "I_sol",
           "upper": 8.862774848937988
          },
          {
           "lower": 9.011002540588379,
           "timepoint": 7,
           "trajectory": "I_sol",
           "upper": 9.011002540588379
          },
          {
           "lower": 9.1619291305542,
           "timepoint": 7.099999904632568,
           "trajectory": "I_sol",
           "upper": 9.1619291305542
          },
          {
           "lower": 9.315584182739258,
           "timepoint": 7.200000286102295,
           "trajectory": "I_sol",
           "upper": 9.315584182739258
          },
          {
           "lower": 9.472014427185059,
           "timepoint": 7.300000190734863,
           "trajectory": "I_sol",
           "upper": 9.472014427185059
          },
          {
           "lower": 9.631260871887207,
           "timepoint": 7.400000095367432,
           "trajectory": "I_sol",
           "upper": 9.631260871887207
          },
          {
           "lower": 9.793362617492676,
           "timepoint": 7.5,
           "trajectory": "I_sol",
           "upper": 9.793362617492676
          },
          {
           "lower": 9.958366394042969,
           "timepoint": 7.599999904632568,
           "trajectory": "I_sol",
           "upper": 9.958366394042969
          },
          {
           "lower": 10.12631607055664,
           "timepoint": 7.700000286102295,
           "trajectory": "I_sol",
           "upper": 10.12631607055664
          },
          {
           "lower": 10.297255516052246,
           "timepoint": 7.800000190734863,
           "trajectory": "I_sol",
           "upper": 10.297255516052246
          },
          {
           "lower": 10.471224784851074,
           "timepoint": 7.900000095367432,
           "trajectory": "I_sol",
           "upper": 10.471224784851074
          },
          {
           "lower": 10.648282051086426,
           "timepoint": 8,
           "trajectory": "I_sol",
           "upper": 10.648282051086426
          },
          {
           "lower": 10.828472137451172,
           "timepoint": 8.100000381469727,
           "trajectory": "I_sol",
           "upper": 10.828472137451172
          },
          {
           "lower": 11.011842727661133,
           "timepoint": 8.199999809265137,
           "trajectory": "I_sol",
           "upper": 11.011842727661133
          },
          {
           "lower": 11.198446273803711,
           "timepoint": 8.300000190734863,
           "trajectory": "I_sol",
           "upper": 11.198446273803711
          },
          {
           "lower": 11.38833236694336,
           "timepoint": 8.40000057220459,
           "trajectory": "I_sol",
           "upper": 11.38833236694336
          },
          {
           "lower": 11.581550598144531,
           "timepoint": 8.5,
           "trajectory": "I_sol",
           "upper": 11.581550598144531
          },
          {
           "lower": 11.778158187866211,
           "timepoint": 8.600000381469727,
           "trajectory": "I_sol",
           "upper": 11.778158187866211
          },
          {
           "lower": 11.978217124938965,
           "timepoint": 8.699999809265137,
           "trajectory": "I_sol",
           "upper": 11.978217124938965
          },
          {
           "lower": 12.181771278381348,
           "timepoint": 8.800000190734863,
           "trajectory": "I_sol",
           "upper": 12.181771278381348
          },
          {
           "lower": 12.388883590698242,
           "timepoint": 8.90000057220459,
           "trajectory": "I_sol",
           "upper": 12.388883590698242
          },
          {
           "lower": 12.59960651397705,
           "timepoint": 9,
           "trajectory": "I_sol",
           "upper": 12.59960651397705
          },
          {
           "lower": 12.814005851745605,
           "timepoint": 9.100000381469727,
           "trajectory": "I_sol",
           "upper": 12.814005851745605
          },
          {
           "lower": 13.032136917114258,
           "timepoint": 9.199999809265137,
           "trajectory": "I_sol",
           "upper": 13.032136917114258
          },
          {
           "lower": 13.254068374633789,
           "timepoint": 9.300000190734863,
           "trajectory": "I_sol",
           "upper": 13.254068374633789
          },
          {
           "lower": 13.479856491088867,
           "timepoint": 9.40000057220459,
           "trajectory": "I_sol",
           "upper": 13.479856491088867
          },
          {
           "lower": 13.709566116333008,
           "timepoint": 9.5,
           "trajectory": "I_sol",
           "upper": 13.709566116333008
          },
          {
           "lower": 13.943211555480957,
           "timepoint": 9.600000381469727,
           "trajectory": "I_sol",
           "upper": 13.943211555480957
          },
          {
           "lower": 14.18094539642334,
           "timepoint": 9.699999809265137,
           "trajectory": "I_sol",
           "upper": 14.18094539642334
          },
          {
           "lower": 14.422799110412598,
           "timepoint": 9.800000190734863,
           "trajectory": "I_sol",
           "upper": 14.422799110412598
          },
          {
           "lower": 14.668839454650879,
           "timepoint": 9.90000057220459,
           "trajectory": "I_sol",
           "upper": 14.668839454650879
          },
          {
           "lower": 14.919136047363281,
           "timepoint": 10,
           "trajectory": "I_sol",
           "upper": 14.919136047363281
          },
          {
           "lower": 15.173759460449219,
           "timepoint": 10.100000381469727,
           "trajectory": "I_sol",
           "upper": 15.173759460449219
          },
          {
           "lower": 15.432782173156738,
           "timepoint": 10.199999809265137,
           "trajectory": "I_sol",
           "upper": 15.432782173156738
          },
          {
           "lower": 15.696280479431152,
           "timepoint": 10.300000190734863,
           "trajectory": "I_sol",
           "upper": 15.696280479431152
          },
          {
           "lower": 15.964327812194824,
           "timepoint": 10.40000057220459,
           "trajectory": "I_sol",
           "upper": 15.964327812194824
          },
          {
           "lower": 16.237003326416016,
           "timepoint": 10.5,
           "trajectory": "I_sol",
           "upper": 16.237003326416016
          },
          {
           "lower": 16.514379501342773,
           "timepoint": 10.600000381469727,
           "trajectory": "I_sol",
           "upper": 16.514379501342773
          },
          {
           "lower": 16.796533584594727,
           "timepoint": 10.699999809265137,
           "trajectory": "I_sol",
           "upper": 16.796533584594727
          },
          {
           "lower": 17.083553314208984,
           "timepoint": 10.800000190734863,
           "trajectory": "I_sol",
           "upper": 17.083553314208984
          },
          {
           "lower": 17.375516891479492,
           "timepoint": 10.90000057220459,
           "trajectory": "I_sol",
           "upper": 17.375516891479492
          },
          {
           "lower": 17.672504425048828,
           "timepoint": 11,
           "trajectory": "I_sol",
           "upper": 17.672504425048828
          },
          {
           "lower": 17.974609375,
           "timepoint": 11.100000381469727,
           "trajectory": "I_sol",
           "upper": 17.974609375
          },
          {
           "lower": 18.281906127929688,
           "timepoint": 11.199999809265137,
           "trajectory": "I_sol",
           "upper": 18.281906127929688
          },
          {
           "lower": 18.59449577331543,
           "timepoint": 11.300000190734863,
           "trajectory": "I_sol",
           "upper": 18.59449577331543
          },
          {
           "lower": 18.9124755859375,
           "timepoint": 11.40000057220459,
           "trajectory": "I_sol",
           "upper": 18.9124755859375
          },
          {
           "lower": 19.23590660095215,
           "timepoint": 11.5,
           "trajectory": "I_sol",
           "upper": 19.23590660095215
          },
          {
           "lower": 19.56490135192871,
           "timepoint": 11.600000381469727,
           "trajectory": "I_sol",
           "upper": 19.56490135192871
          },
          {
           "lower": 19.899551391601562,
           "timepoint": 11.699999809265137,
           "trajectory": "I_sol",
           "upper": 19.899551391601562
          },
          {
           "lower": 20.23995590209961,
           "timepoint": 11.800000190734863,
           "trajectory": "I_sol",
           "upper": 20.23995590209961
          },
          {
           "lower": 20.58620834350586,
           "timepoint": 11.90000057220459,
           "trajectory": "I_sol",
           "upper": 20.58620834350586
          },
          {
           "lower": 20.93840789794922,
           "timepoint": 12,
           "trajectory": "I_sol",
           "upper": 20.93840789794922
          },
          {
           "lower": 21.296663284301758,
           "timepoint": 12.100000381469727,
           "trajectory": "I_sol",
           "upper": 21.296663284301758
          },
          {
           "lower": 21.66106414794922,
           "timepoint": 12.199999809265137,
           "trajectory": "I_sol",
           "upper": 21.66106414794922
          },
          {
           "lower": 22.03173065185547,
           "timepoint": 12.300000190734863,
           "trajectory": "I_sol",
           "upper": 22.03173065185547
          },
          {
           "lower": 22.408702850341797,
           "timepoint": 12.40000057220459,
           "trajectory": "I_sol",
           "upper": 22.408702850341797
          },
          {
           "lower": 22.792186737060547,
           "timepoint": 12.5,
           "trajectory": "I_sol",
           "upper": 22.792186737060547
          },
          {
           "lower": 23.182254791259766,
           "timepoint": 12.600000381469727,
           "trajectory": "I_sol",
           "upper": 23.182254791259766
          },
          {
           "lower": 23.579015731811523,
           "timepoint": 12.699999809265137,
           "trajectory": "I_sol",
           "upper": 23.579015731811523
          },
          {
           "lower": 23.982580184936523,
           "timepoint": 12.800000190734863,
           "trajectory": "I_sol",
           "upper": 23.982580184936523
          },
          {
           "lower": 24.393070220947266,
           "timepoint": 12.90000057220459,
           "trajectory": "I_sol",
           "upper": 24.393070220947266
          },
          {
           "lower": 24.81060028076172,
           "timepoint": 13,
           "trajectory": "I_sol",
           "upper": 24.81060028076172
          },
          {
           "lower": 25.235294342041016,
           "timepoint": 13.100000381469727,
           "trajectory": "I_sol",
           "upper": 25.235294342041016
          },
          {
           "lower": 25.667268753051758,
           "timepoint": 13.199999809265137,
           "trajectory": "I_sol",
           "upper": 25.667268753051758
          },
          {
           "lower": 26.10667610168457,
           "timepoint": 13.300000190734863,
           "trajectory": "I_sol",
           "upper": 26.10667610168457
          },
          {
           "lower": 26.553600311279297,
           "timepoint": 13.40000057220459,
           "trajectory": "I_sol",
           "upper": 26.553600311279297
          },
          {
           "lower": 27.008182525634766,
           "timepoint": 13.5,
           "trajectory": "I_sol",
           "upper": 27.008182525634766
          },
          {
           "lower": 27.470563888549805,
           "timepoint": 13.600000381469727,
           "trajectory": "I_sol",
           "upper": 27.470563888549805
          },
          {
           "lower": 27.940872192382812,
           "timepoint": 13.699999809265137,
           "trajectory": "I_sol",
           "upper": 27.940872192382812
          },
          {
           "lower": 28.419240951538086,
           "timepoint": 13.800000190734863,
           "trajectory": "I_sol",
           "upper": 28.419240951538086
          },
          {
           "lower": 28.90581512451172,
           "timepoint": 13.90000057220459,
           "trajectory": "I_sol",
           "upper": 28.90581512451172
          },
          {
           "lower": 29.40072250366211,
           "timepoint": 14,
           "trajectory": "I_sol",
           "upper": 29.40072250366211
          },
          {
           "lower": 29.904117584228516,
           "timepoint": 14.100000381469727,
           "trajectory": "I_sol",
           "upper": 29.904117584228516
          },
          {
           "lower": 30.416139602661133,
           "timepoint": 14.199999809265137,
           "trajectory": "I_sol",
           "upper": 30.416139602661133
          },
          {
           "lower": 30.936941146850586,
           "timepoint": 14.300000190734863,
           "trajectory": "I_sol",
           "upper": 30.936941146850586
          },
          {
           "lower": 31.466663360595703,
           "timepoint": 14.40000057220459,
           "trajectory": "I_sol",
           "upper": 31.466663360595703
          },
          {
           "lower": 32.00546646118164,
           "timepoint": 14.5,
           "trajectory": "I_sol",
           "upper": 32.00546646118164
          },
          {
           "lower": 32.55350112915039,
           "timepoint": 14.600000381469727,
           "trajectory": "I_sol",
           "upper": 32.55350112915039
          },
          {
           "lower": 33.11092758178711,
           "timepoint": 14.699999809265137,
           "trajectory": "I_sol",
           "upper": 33.11092758178711
          },
          {
           "lower": 33.677913665771484,
           "timepoint": 14.800000190734863,
           "trajectory": "I_sol",
           "upper": 33.677913665771484
          },
          {
           "lower": 34.25461196899414,
           "timepoint": 14.90000057220459,
           "trajectory": "I_sol",
           "upper": 34.25461196899414
          },
          {
           "lower": 34.84119415283203,
           "timepoint": 15,
           "trajectory": "I_sol",
           "upper": 34.84119415283203
          },
          {
           "lower": 35.43783187866211,
           "timepoint": 15.100000381469727,
           "trajectory": "I_sol",
           "upper": 35.43783187866211
          },
          {
           "lower": 36.04469299316406,
           "timepoint": 15.199999809265137,
           "trajectory": "I_sol",
           "upper": 36.04469299316406
          },
          {
           "lower": 36.66189956665039,
           "timepoint": 15.300000190734863,
           "trajectory": "I_sol",
           "upper": 36.66189956665039
          },
          {
           "lower": 37.28972244262695,
           "timepoint": 15.40000057220459,
           "trajectory": "I_sol",
           "upper": 37.28972244262695
          },
          {
           "lower": 37.92829513549805,
           "timepoint": 15.5,
           "trajectory": "I_sol",
           "upper": 37.92829513549805
          },
          {
           "lower": 38.57780838012695,
           "timepoint": 15.59999942779541,
           "trajectory": "I_sol",
           "upper": 38.57780838012695
          },
          {
           "lower": 39.23844909667969,
           "timepoint": 15.699999809265137,
           "trajectory": "I_sol",
           "upper": 39.23844909667969
          },
          {
           "lower": 39.91040802001953,
           "timepoint": 15.800000190734863,
           "trajectory": "I_sol",
           "upper": 39.91040802001953
          },
          {
           "lower": 40.59386444091797,
           "timepoint": 15.899999618530273,
           "trajectory": "I_sol",
           "upper": 40.59386444091797
          },
          {
           "lower": 41.28903579711914,
           "timepoint": 16,
           "trajectory": "I_sol",
           "upper": 41.28903579711914
          },
          {
           "lower": 41.99610137939453,
           "timepoint": 16.099998474121094,
           "trajectory": "I_sol",
           "upper": 41.99610137939453
          },
          {
           "lower": 42.71540069580078,
           "timepoint": 16.200000762939453,
           "trajectory": "I_sol",
           "upper": 42.71540069580078
          },
          {
           "lower": 43.44691467285156,
           "timepoint": 16.299999237060547,
           "trajectory": "I_sol",
           "upper": 43.44691467285156
          },
          {
           "lower": 44.190975189208984,
           "timepoint": 16.399999618530273,
           "trajectory": "I_sol",
           "upper": 44.190975189208984
          },
          {
           "lower": 44.947784423828125,
           "timepoint": 16.5,
           "trajectory": "I_sol",
           "upper": 44.947784423828125
          },
          {
           "lower": 45.71753692626953,
           "timepoint": 16.599998474121094,
           "trajectory": "I_sol",
           "upper": 45.71753692626953
          },
          {
           "lower": 46.50050354003906,
           "timepoint": 16.700000762939453,
           "trajectory": "I_sol",
           "upper": 46.50050354003906
          },
          {
           "lower": 47.29684829711914,
           "timepoint": 16.799999237060547,
           "trajectory": "I_sol",
           "upper": 47.29684829711914
          },
          {
           "lower": 48.106849670410156,
           "timepoint": 16.899999618530273,
           "trajectory": "I_sol",
           "upper": 48.106849670410156
          },
          {
           "lower": 48.93071365356445,
           "timepoint": 17,
           "trajectory": "I_sol",
           "upper": 48.93071365356445
          },
          {
           "lower": 49.768672943115234,
           "timepoint": 17.099998474121094,
           "trajectory": "I_sol",
           "upper": 49.768672943115234
          },
          {
           "lower": 50.62111282348633,
           "timepoint": 17.200000762939453,
           "trajectory": "I_sol",
           "upper": 50.62111282348633
          },
          {
           "lower": 51.4880485534668,
           "timepoint": 17.299999237060547,
           "trajectory": "I_sol",
           "upper": 51.4880485534668
          },
          {
           "lower": 52.369842529296875,
           "timepoint": 17.399999618530273,
           "trajectory": "I_sol",
           "upper": 52.369842529296875
          },
          {
           "lower": 53.26675033569336,
           "timepoint": 17.5,
           "trajectory": "I_sol",
           "upper": 53.26675033569336
          },
          {
           "lower": 54.17900085449219,
           "timepoint": 17.599998474121094,
           "trajectory": "I_sol",
           "upper": 54.17900085449219
          },
          {
           "lower": 55.106910705566406,
           "timepoint": 17.700000762939453,
           "trajectory": "I_sol",
           "upper": 55.106910705566406
          },
          {
           "lower": 56.05067443847656,
           "timepoint": 17.799999237060547,
           "trajectory": "I_sol",
           "upper": 56.05067443847656
          },
          {
           "lower": 57.0106201171875,
           "timepoint": 17.899999618530273,
           "trajectory": "I_sol",
           "upper": 57.0106201171875
          },
          {
           "lower": 57.98700714111328,
           "timepoint": 18,
           "trajectory": "I_sol",
           "upper": 57.98700714111328
          },
          {
           "lower": 58.980098724365234,
           "timepoint": 18.099998474121094,
           "trajectory": "I_sol",
           "upper": 58.980098724365234
          },
          {
           "lower": 59.990272521972656,
           "timepoint": 18.200000762939453,
           "trajectory": "I_sol",
           "upper": 59.990272521972656
          },
          {
           "lower": 61.017677307128906,
           "timepoint": 18.299999237060547,
           "trajectory": "I_sol",
           "upper": 61.017677307128906
          },
          {
           "lower": 62.06270980834961,
           "timepoint": 18.399999618530273,
           "trajectory": "I_sol",
           "upper": 62.06270980834961
          },
          {
           "lower": 63.12562942504883,
           "timepoint": 18.5,
           "trajectory": "I_sol",
           "upper": 63.12562942504883
          },
          {
           "lower": 64.20673370361328,
           "timepoint": 18.599998474121094,
           "trajectory": "I_sol",
           "upper": 64.20673370361328
          },
          {
           "lower": 65.30641174316406,
           "timepoint": 18.700000762939453,
           "trajectory": "I_sol",
           "upper": 65.30641174316406
          },
          {
           "lower": 66.42486572265625,
           "timepoint": 18.799999237060547,
           "trajectory": "I_sol",
           "upper": 66.42486572265625
          },
          {
           "lower": 67.56250762939453,
           "timepoint": 18.899999618530273,
           "trajectory": "I_sol",
           "upper": 67.56250762939453
          },
          {
           "lower": 68.71963500976562,
           "timepoint": 19,
           "trajectory": "I_sol",
           "upper": 68.71963500976562
          },
          {
           "lower": 69.89656829833984,
           "timepoint": 19.099998474121094,
           "trajectory": "I_sol",
           "upper": 69.89656829833984
          },
          {
           "lower": 71.09368133544922,
           "timepoint": 19.200000762939453,
           "trajectory": "I_sol",
           "upper": 71.09368133544922
          },
          {
           "lower": 72.3112564086914,
           "timepoint": 19.299999237060547,
           "trajectory": "I_sol",
           "upper": 72.3112564086914
          },
          {
           "lower": 73.54972076416016,
           "timepoint": 19.399999618530273,
           "trajectory": "I_sol",
           "upper": 73.54972076416016
          },
          {
           "lower": 74.80939483642578,
           "timepoint": 19.5,
           "trajectory": "I_sol",
           "upper": 74.80939483642578
          },
          {
           "lower": 76.09061431884766,
           "timepoint": 19.599998474121094,
           "trajectory": "I_sol",
           "upper": 76.09061431884766
          },
          {
           "lower": 77.39382934570312,
           "timepoint": 19.700000762939453,
           "trajectory": "I_sol",
           "upper": 77.39382934570312
          },
          {
           "lower": 78.71930694580078,
           "timepoint": 19.799999237060547,
           "trajectory": "I_sol",
           "upper": 78.71930694580078
          },
          {
           "lower": 80.06752014160156,
           "timepoint": 19.899999618530273,
           "trajectory": "I_sol",
           "upper": 80.06752014160156
          },
          {
           "lower": 81.43882751464844,
           "timepoint": 20,
           "trajectory": "I_sol",
           "upper": 81.43882751464844
          },
          {
           "lower": 82.8335952758789,
           "timepoint": 20.099998474121094,
           "trajectory": "I_sol",
           "upper": 82.8335952758789
          },
          {
           "lower": 84.25227355957031,
           "timepoint": 20.200000762939453,
           "trajectory": "I_sol",
           "upper": 84.25227355957031
          },
          {
           "lower": 85.69522094726562,
           "timepoint": 20.299999237060547,
           "trajectory": "I_sol",
           "upper": 85.69522094726562
          },
          {
           "lower": 87.16291046142578,
           "timepoint": 20.399999618530273,
           "trajectory": "I_sol",
           "upper": 87.16291046142578
          },
          {
           "lower": 88.6557388305664,
           "timepoint": 20.5,
           "trajectory": "I_sol",
           "upper": 88.6557388305664
          },
          {
           "lower": 90.17410278320312,
           "timepoint": 20.599998474121094,
           "trajectory": "I_sol",
           "upper": 90.17410278320312
          },
          {
           "lower": 91.71853637695312,
           "timepoint": 20.700000762939453,
           "trajectory": "I_sol",
           "upper": 91.71853637695312
          },
          {
           "lower": 93.28934478759766,
           "timepoint": 20.799999237060547,
           "trajectory": "I_sol",
           "upper": 93.28934478759766
          },
          {
           "lower": 94.88710021972656,
           "timepoint": 20.899999618530273,
           "trajectory": "I_sol",
           "upper": 94.88710021972656
          },
          {
           "lower": 96.5122299194336,
           "timepoint": 21,
           "trajectory": "I_sol",
           "upper": 96.5122299194336
          },
          {
           "lower": 98.1651611328125,
           "timepoint": 21.099998474121094,
           "trajectory": "I_sol",
           "upper": 98.1651611328125
          },
          {
           "lower": 99.84642791748047,
           "timepoint": 21.200000762939453,
           "trajectory": "I_sol",
           "upper": 99.84642791748047
          },
          {
           "lower": 101.55645751953125,
           "timepoint": 21.299999237060547,
           "trajectory": "I_sol",
           "upper": 101.55645751953125
          },
          {
           "lower": 103.2957992553711,
           "timepoint": 21.399999618530273,
           "trajectory": "I_sol",
           "upper": 103.2957992553711
          },
          {
           "lower": 105.06493377685547,
           "timepoint": 21.5,
           "trajectory": "I_sol",
           "upper": 105.06493377685547
          },
          {
           "lower": 106.86434936523438,
           "timepoint": 21.599998474121094,
           "trajectory": "I_sol",
           "upper": 106.86434936523438
          },
          {
           "lower": 108.69464874267578,
           "timepoint": 21.700000762939453,
           "trajectory": "I_sol",
           "upper": 108.69464874267578
          },
          {
           "lower": 110.55622863769531,
           "timepoint": 21.799999237060547,
           "trajectory": "I_sol",
           "upper": 110.55622863769531
          },
          {
           "lower": 112.44973754882812,
           "timepoint": 21.899999618530273,
           "trajectory": "I_sol",
           "upper": 112.44973754882812
          },
          {
           "lower": 114.37568664550781,
           "timepoint": 22,
           "trajectory": "I_sol",
           "upper": 114.37568664550781
          },
          {
           "lower": 116.3345947265625,
           "timepoint": 22.099998474121094,
           "trajectory": "I_sol",
           "upper": 116.3345947265625
          },
          {
           "lower": 118.32688903808594,
           "timepoint": 22.200000762939453,
           "trajectory": "I_sol",
           "upper": 118.32688903808594
          },
          {
           "lower": 120.3534164428711,
           "timepoint": 22.299999237060547,
           "trajectory": "I_sol",
           "upper": 120.3534164428711
          },
          {
           "lower": 122.4146957397461,
           "timepoint": 22.399999618530273,
           "trajectory": "I_sol",
           "upper": 122.4146957397461
          },
          {
           "lower": 124.51126861572266,
           "timepoint": 22.5,
           "trajectory": "I_sol",
           "upper": 124.51126861572266
          },
          {
           "lower": 126.64371490478516,
           "timepoint": 22.599998474121094,
           "trajectory": "I_sol",
           "upper": 126.64371490478516
          },
          {
           "lower": 128.81275939941406,
           "timepoint": 22.700000762939453,
           "trajectory": "I_sol",
           "upper": 128.81275939941406
          },
          {
           "lower": 131.0188751220703,
           "timepoint": 22.799999237060547,
           "trajectory": "I_sol",
           "upper": 131.0188751220703
          },
          {
           "lower": 133.26278686523438,
           "timepoint": 22.899999618530273,
           "trajectory": "I_sol",
           "upper": 133.26278686523438
          },
          {
           "lower": 135.54515075683594,
           "timepoint": 23,
           "trajectory": "I_sol",
           "upper": 135.54515075683594
          },
          {
           "lower": 137.8666229248047,
           "timepoint": 23.100000381469727,
           "trajectory": "I_sol",
           "upper": 137.8666229248047
          },
          {
           "lower": 140.2278594970703,
           "timepoint": 23.200000762939453,
           "trajectory": "I_sol",
           "upper": 140.2278594970703
          },
          {
           "lower": 142.62948608398438,
           "timepoint": 23.299999237060547,
           "trajectory": "I_sol",
           "upper": 142.62948608398438
          },
          {
           "lower": 145.072265625,
           "timepoint": 23.399999618530273,
           "trajectory": "I_sol",
           "upper": 145.072265625
          },
          {
           "lower": 147.556884765625,
           "timepoint": 23.5,
           "trajectory": "I_sol",
           "upper": 147.556884765625
          },
          {
           "lower": 150.0840606689453,
           "timepoint": 23.600000381469727,
           "trajectory": "I_sol",
           "upper": 150.0840606689453
          },
          {
           "lower": 152.65451049804688,
           "timepoint": 23.700000762939453,
           "trajectory": "I_sol",
           "upper": 152.65451049804688
          },
          {
           "lower": 155.2689208984375,
           "timepoint": 23.799999237060547,
           "trajectory": "I_sol",
           "upper": 155.2689208984375
          },
          {
           "lower": 157.92816162109375,
           "timepoint": 23.899999618530273,
           "trajectory": "I_sol",
           "upper": 157.92816162109375
          },
          {
           "lower": 160.63296508789062,
           "timepoint": 24,
           "trajectory": "I_sol",
           "upper": 160.63296508789062
          },
          {
           "lower": 163.38417053222656,
           "timepoint": 24.100000381469727,
           "trajectory": "I_sol",
           "upper": 163.38417053222656
          },
          {
           "lower": 166.1824188232422,
           "timepoint": 24.200000762939453,
           "trajectory": "I_sol",
           "upper": 166.1824188232422
          },
          {
           "lower": 169.02853393554688,
           "timepoint": 24.299999237060547,
           "trajectory": "I_sol",
           "upper": 169.02853393554688
          },
          {
           "lower": 171.92343139648438,
           "timepoint": 24.399999618530273,
           "trajectory": "I_sol",
           "upper": 171.92343139648438
          },
          {
           "lower": 174.8679656982422,
           "timepoint": 24.5,
           "trajectory": "I_sol",
           "upper": 174.8679656982422
          },
          {
           "lower": 177.8628692626953,
           "timepoint": 24.600000381469727,
           "trajectory": "I_sol",
           "upper": 177.8628692626953
          },
          {
           "lower": 180.90908813476562,
           "timepoint": 24.700000762939453,
           "trajectory": "I_sol",
           "upper": 180.90908813476562
          },
          {
           "lower": 184.00741577148438,
           "timepoint": 24.799999237060547,
           "trajectory": "I_sol",
           "upper": 184.00741577148438
          },
          {
           "lower": 187.15884399414062,
           "timepoint": 24.899999618530273,
           "trajectory": "I_sol",
           "upper": 187.15884399414062
          },
          {
           "lower": 190.36427307128906,
           "timepoint": 25,
           "trajectory": "I_sol",
           "upper": 190.36427307128906
          },
          {
           "lower": 193.62461853027344,
           "timepoint": 25.100000381469727,
           "trajectory": "I_sol",
           "upper": 193.62461853027344
          },
          {
           "lower": 196.94078063964844,
           "timepoint": 25.200000762939453,
           "trajectory": "I_sol",
           "upper": 196.94078063964844
          },
          {
           "lower": 200.31365966796875,
           "timepoint": 25.299999237060547,
           "trajectory": "I_sol",
           "upper": 200.31365966796875
          },
          {
           "lower": 203.74440002441406,
           "timepoint": 25.399999618530273,
           "trajectory": "I_sol",
           "upper": 203.74440002441406
          },
          {
           "lower": 207.23387145996094,
           "timepoint": 25.5,
           "trajectory": "I_sol",
           "upper": 207.23387145996094
          },
          {
           "lower": 210.7830810546875,
           "timepoint": 25.600000381469727,
           "trajectory": "I_sol",
           "upper": 210.7830810546875
          },
          {
           "lower": 214.3931121826172,
           "timepoint": 25.700000762939453,
           "trajectory": "I_sol",
           "upper": 214.3931121826172
          },
          {
           "lower": 218.0648956298828,
           "timepoint": 25.799999237060547,
           "trajectory": "I_sol",
           "upper": 218.0648956298828
          },
          {
           "lower": 221.79962158203125,
           "timepoint": 25.899999618530273,
           "trajectory": "I_sol",
           "upper": 221.79962158203125
          },
          {
           "lower": 225.59832763671875,
           "timepoint": 26,
           "trajectory": "I_sol",
           "upper": 225.59832763671875
          },
          {
           "lower": 229.4621124267578,
           "timepoint": 26.100000381469727,
           "trajectory": "I_sol",
           "upper": 229.4621124267578
          },
          {
           "lower": 233.3920440673828,
           "timepoint": 26.200000762939453,
           "trajectory": "I_sol",
           "upper": 233.3920440673828
          },
          {
           "lower": 237.38922119140625,
           "timepoint": 26.299999237060547,
           "trajectory": "I_sol",
           "upper": 237.38922119140625
          },
          {
           "lower": 241.4549102783203,
           "timepoint": 26.399999618530273,
           "trajectory": "I_sol",
           "upper": 241.4549102783203
          },
          {
           "lower": 245.59024047851562,
           "timepoint": 26.5,
           "trajectory": "I_sol",
           "upper": 245.59024047851562
          },
          {
           "lower": 249.79637145996094,
           "timepoint": 26.600000381469727,
           "trajectory": "I_sol",
           "upper": 249.79637145996094
          },
          {
           "lower": 254.07455444335938,
           "timepoint": 26.700000762939453,
           "trajectory": "I_sol",
           "upper": 254.07455444335938
          },
          {
           "lower": 258.4259338378906,
           "timepoint": 26.799999237060547,
           "trajectory": "I_sol",
           "upper": 258.4259338378906
          },
          {
           "lower": 262.8519287109375,
           "timepoint": 26.899999618530273,
           "trajectory": "I_sol",
           "upper": 262.8519287109375
          },
          {
           "lower": 267.353759765625,
           "timepoint": 27,
           "trajectory": "I_sol",
           "upper": 267.353759765625
          },
          {
           "lower": 271.9325256347656,
           "timepoint": 27.100000381469727,
           "trajectory": "I_sol",
           "upper": 271.9325256347656
          },
          {
           "lower": 276.5898132324219,
           "timepoint": 27.200000762939453,
           "trajectory": "I_sol",
           "upper": 276.5898132324219
          },
          {
           "lower": 281.3267822265625,
           "timepoint": 27.299999237060547,
           "trajectory": "I_sol",
           "upper": 281.3267822265625
          },
          {
           "lower": 286.14495849609375,
           "timepoint": 27.399999618530273,
           "trajectory": "I_sol",
           "upper": 286.14495849609375
          },
          {
           "lower": 291.0456848144531,
           "timepoint": 27.5,
           "trajectory": "I_sol",
           "upper": 291.0456848144531
          },
          {
           "lower": 296.0303039550781,
           "timepoint": 27.600000381469727,
           "trajectory": "I_sol",
           "upper": 296.0303039550781
          },
          {
           "lower": 301.1003112792969,
           "timepoint": 27.700000762939453,
           "trajectory": "I_sol",
           "upper": 301.1003112792969
          },
          {
           "lower": 306.25714111328125,
           "timepoint": 27.799999237060547,
           "trajectory": "I_sol",
           "upper": 306.25714111328125
          },
          {
           "lower": 311.5023193359375,
           "timepoint": 27.899999618530273,
           "trajectory": "I_sol",
           "upper": 311.5023193359375
          },
          {
           "lower": 316.8373718261719,
           "timepoint": 28,
           "trajectory": "I_sol",
           "upper": 316.8373718261719
          },
          {
           "lower": 322.26336669921875,
           "timepoint": 28.100000381469727,
           "trajectory": "I_sol",
           "upper": 322.26336669921875
          },
          {
           "lower": 327.7826232910156,
           "timepoint": 28.200000762939453,
           "trajectory": "I_sol",
           "upper": 327.7826232910156
          },
          {
           "lower": 333.3963317871094,
           "timepoint": 28.299999237060547,
           "trajectory": "I_sol",
           "upper": 333.3963317871094
          },
          {
           "lower": 339.1062316894531,
           "timepoint": 28.399999618530273,
           "trajectory": "I_sol",
           "upper": 339.1062316894531
          },
          {
           "lower": 344.9139404296875,
           "timepoint": 28.5,
           "trajectory": "I_sol",
           "upper": 344.9139404296875
          },
          {
           "lower": 350.8210754394531,
           "timepoint": 28.600000381469727,
           "trajectory": "I_sol",
           "upper": 350.8210754394531
          },
          {
           "lower": 356.82940673828125,
           "timepoint": 28.700000762939453,
           "trajectory": "I_sol",
           "upper": 356.82940673828125
          },
          {
           "lower": 362.94049072265625,
           "timepoint": 28.799999237060547,
           "trajectory": "I_sol",
           "upper": 362.94049072265625
          },
          {
           "lower": 369.1563415527344,
           "timepoint": 28.899999618530273,
           "trajectory": "I_sol",
           "upper": 369.1563415527344
          },
          {
           "lower": 375.47857666015625,
           "timepoint": 29,
           "trajectory": "I_sol",
           "upper": 375.47857666015625
          },
          {
           "lower": 381.909423828125,
           "timepoint": 29.100000381469727,
           "trajectory": "I_sol",
           "upper": 381.909423828125
          },
          {
           "lower": 388.45013427734375,
           "timepoint": 29.200000762939453,
           "trajectory": "I_sol",
           "upper": 388.45013427734375
          },
          {
           "lower": 395.102783203125,
           "timepoint": 29.299999237060547,
           "trajectory": "I_sol",
           "upper": 395.102783203125
          },
          {
           "lower": 401.86944580078125,
           "timepoint": 29.399999618530273,
           "trajectory": "I_sol",
           "upper": 401.86944580078125
          },
          {
           "lower": 408.75201416015625,
           "timepoint": 29.5,
           "trajectory": "I_sol",
           "upper": 408.75201416015625
          },
          {
           "lower": 415.7524108886719,
           "timepoint": 29.600000381469727,
           "trajectory": "I_sol",
           "upper": 415.7524108886719
          },
          {
           "lower": 422.8726806640625,
           "timepoint": 29.700000762939453,
           "trajectory": "I_sol",
           "upper": 422.8726806640625
          },
          {
           "lower": 430.1147766113281,
           "timepoint": 29.799999237060547,
           "trajectory": "I_sol",
           "upper": 430.1147766113281
          },
          {
           "lower": 437.48095703125,
           "timepoint": 29.899999618530273,
           "trajectory": "I_sol",
           "upper": 437.48095703125
          },
          {
           "lower": 444.9732666015625,
           "timepoint": 30,
           "trajectory": "I_sol",
           "upper": 444.9732666015625
          },
          {
           "lower": 452.5945739746094,
           "timepoint": 30.100000381469727,
           "trajectory": "I_sol",
           "upper": 452.5945739746094
          },
          {
           "lower": 460.3458557128906,
           "timepoint": 30.200000762939453,
           "trajectory": "I_sol",
           "upper": 460.3458557128906
          },
          {
           "lower": 468.229736328125,
           "timepoint": 30.299999237060547,
           "trajectory": "I_sol",
           "upper": 468.229736328125
          },
          {
           "lower": 476.2487487792969,
           "timepoint": 30.399999618530273,
           "trajectory": "I_sol",
           "upper": 476.2487487792969
          },
          {
           "lower": 484.40509033203125,
           "timepoint": 30.5,
           "trajectory": "I_sol",
           "upper": 484.40509033203125
          },
          {
           "lower": 492.7011413574219,
           "timepoint": 30.600000381469727,
           "trajectory": "I_sol",
           "upper": 492.7011413574219
          },
          {
           "lower": 501.13916015625,
           "timepoint": 30.700000762939453,
           "trajectory": "I_sol",
           "upper": 501.13916015625
          },
          {
           "lower": 509.7215881347656,
           "timepoint": 30.799999237060547,
           "trajectory": "I_sol",
           "upper": 509.7215881347656
          },
          {
           "lower": 518.4511108398438,
           "timepoint": 30.899999618530273,
           "trajectory": "I_sol",
           "upper": 518.4511108398438
          },
          {
           "lower": 527.330078125,
           "timepoint": 31,
           "trajectory": "I_sol",
           "upper": 527.330078125
          },
          {
           "lower": 2.2400000257438712e-11,
           "timepoint": 0,
           "trajectory": "R_sol",
           "upper": 2.2400000257438712e-11
          },
          {
           "lower": 0.02240900695323944,
           "timepoint": 0.10000000149011612,
           "trajectory": "R_sol",
           "upper": 0.02240900695323944
          },
          {
           "lower": 0.04484757408499718,
           "timepoint": 0.20000000298023224,
           "trajectory": "R_sol",
           "upper": 0.04484757408499718
          },
          {
           "lower": 0.06733269989490509,
           "timepoint": 0.30000001192092896,
           "trajectory": "R_sol",
           "upper": 0.06733269989490509
          },
          {
           "lower": 0.08988086879253387,
           "timepoint": 0.4000000059604645,
           "trajectory": "R_sol",
           "upper": 0.08988086879253387
          },
          {
           "lower": 0.11250825971364975,
           "timepoint": 0.5,
           "trajectory": "R_sol",
           "upper": 0.11250825971364975
          },
          {
           "lower": 0.13523060083389282,
           "timepoint": 0.6000000238418579,
           "trajectory": "R_sol",
           "upper": 0.13523060083389282
          },
          {
           "lower": 0.15806324779987335,
           "timepoint": 0.699999988079071,
           "trajectory": "R_sol",
           "upper": 0.15806324779987335
          },
          {
           "lower": 0.18102122843265533,
           "timepoint": 0.800000011920929,
           "trajectory": "R_sol",
           "upper": 0.18102122843265533
          },
          {
           "lower": 0.2041192352771759,
           "timepoint": 0.9000000357627869,
           "trajectory": "R_sol",
           "upper": 0.2041192352771759
          },
          {
           "lower": 0.22737160325050354,
           "timepoint": 1,
           "trajectory": "R_sol",
           "upper": 0.22737160325050354
          },
          {
           "lower": 0.2507927417755127,
           "timepoint": 1.100000023841858,
           "trajectory": "R_sol",
           "upper": 0.2507927417755127
          },
          {
           "lower": 0.2743961215019226,
           "timepoint": 1.2000000476837158,
           "trajectory": "R_sol",
           "upper": 0.2743961215019226
          },
          {
           "lower": 0.2981955111026764,
           "timepoint": 1.3000000715255737,
           "trajectory": "R_sol",
           "upper": 0.2981955111026764
          },
          {
           "lower": 0.32220423221588135,
           "timepoint": 1.399999976158142,
           "trajectory": "R_sol",
           "upper": 0.32220423221588135
          },
          {
           "lower": 0.3464352488517761,
           "timepoint": 1.5,
           "trajectory": "R_sol",
           "upper": 0.3464352488517761
          },
          {
           "lower": 0.37090182304382324,
           "timepoint": 1.600000023841858,
           "trajectory": "R_sol",
           "upper": 0.37090182304382324
          },
          {
           "lower": 0.3956165909767151,
           "timepoint": 1.7000000476837158,
           "trajectory": "R_sol",
           "upper": 0.3956165909767151
          },
          {
           "lower": 0.42059212923049927,
           "timepoint": 1.8000000715255737,
           "trajectory": "R_sol",
           "upper": 0.42059212923049927
          },
          {
           "lower": 0.4458405673503876,
           "timepoint": 1.899999976158142,
           "trajectory": "R_sol",
           "upper": 0.4458405673503876
          },
          {
           "lower": 0.4713746905326843,
           "timepoint": 2,
           "trajectory": "R_sol",
           "upper": 0.4713746905326843
          },
          {
           "lower": 0.497206449508667,
           "timepoint": 2.1000001430511475,
           "trajectory": "R_sol",
           "upper": 0.497206449508667
          },
          {
           "lower": 0.523347795009613,
           "timepoint": 2.200000047683716,
           "trajectory": "R_sol",
           "upper": 0.523347795009613
          },
          {
           "lower": 0.5498105883598328,
           "timepoint": 2.299999952316284,
           "trajectory": "R_sol",
           "upper": 0.5498105883598328
          },
          {
           "lower": 0.5766069293022156,
           "timepoint": 2.4000000953674316,
           "trajectory": "R_sol",
           "upper": 0.5766069293022156
          },
          {
           "lower": 0.6037483811378479,
           "timepoint": 2.5,
           "trajectory": "R_sol",
           "upper": 0.6037483811378479
          },
          {
           "lower": 0.6312465071678162,
           "timepoint": 2.6000001430511475,
           "trajectory": "R_sol",
           "upper": 0.6312465071678162
          },
          {
           "lower": 0.6591130495071411,
           "timepoint": 2.700000047683716,
           "trajectory": "R_sol",
           "upper": 0.6591130495071411
          },
          {
           "lower": 0.6873607635498047,
           "timepoint": 2.799999952316284,
           "trajectory": "R_sol",
           "upper": 0.6873607635498047
          },
          {
           "lower": 0.7159993648529053,
           "timepoint": 2.9000000953674316,
           "trajectory": "R_sol",
           "upper": 0.7159993648529053
          },
          {
           "lower": 0.745041012763977,
           "timepoint": 3,
           "trajectory": "R_sol",
           "upper": 0.745041012763977
          },
          {
           "lower": 0.7744972109794617,
           "timepoint": 3.1000001430511475,
           "trajectory": "R_sol",
           "upper": 0.7744972109794617
          },
          {
           "lower": 0.8043795228004456,
           "timepoint": 3.200000047683716,
           "trajectory": "R_sol",
           "upper": 0.8043795228004456
          },
          {
           "lower": 0.834699809551239,
           "timepoint": 3.299999952316284,
           "trajectory": "R_sol",
           "upper": 0.834699809551239
          },
          {
           "lower": 0.8654688000679016,
           "timepoint": 3.4000000953674316,
           "trajectory": "R_sol",
           "upper": 0.8654688000679016
          },
          {
           "lower": 0.8966984152793884,
           "timepoint": 3.5,
           "trajectory": "R_sol",
           "upper": 0.8966984152793884
          },
          {
           "lower": 0.9284000992774963,
           "timepoint": 3.6000001430511475,
           "trajectory": "R_sol",
           "upper": 0.9284000992774963
          },
          {
           "lower": 0.9605852365493774,
           "timepoint": 3.700000047683716,
           "trajectory": "R_sol",
           "upper": 0.9605852365493774
          },
          {
           "lower": 0.9932658672332764,
           "timepoint": 3.799999952316284,
           "trajectory": "R_sol",
           "upper": 0.9932658672332764
          },
          {
           "lower": 1.0264533758163452,
           "timepoint": 3.9000000953674316,
           "trajectory": "R_sol",
           "upper": 1.0264533758163452
          },
          {
           "lower": 1.0601592063903809,
           "timepoint": 4,
           "trajectory": "R_sol",
           "upper": 1.0601592063903809
          },
          {
           "lower": 1.0943951606750488,
           "timepoint": 4.099999904632568,
           "trajectory": "R_sol",
           "upper": 1.0943951606750488
          },
          {
           "lower": 1.1291733980178833,
           "timepoint": 4.200000286102295,
           "trajectory": "R_sol",
           "upper": 1.1291733980178833
          },
          {
           "lower": 1.164505124092102,
           "timepoint": 4.300000190734863,
           "trajectory": "R_sol",
           "upper": 1.164505124092102
          },
          {
           "lower": 1.2004046440124512,
           "timepoint": 4.400000095367432,
           "trajectory": "R_sol",
           "upper": 1.2004046440124512
          },
          {
           "lower": 1.2368810176849365,
           "timepoint": 4.5,
           "trajectory": "R_sol",
           "upper": 1.2368810176849365
          },
          {
           "lower": 1.273947834968567,
           "timepoint": 4.599999904632568,
           "trajectory": "R_sol",
           "upper": 1.273947834968567
          },
          {
           "lower": 1.311617374420166,
           "timepoint": 4.700000286102295,
           "trajectory": "R_sol",
           "upper": 1.311617374420166
          },
          {
           "lower": 1.3499016761779785,
           "timepoint": 4.800000190734863,
           "trajectory": "R_sol",
           "upper": 1.3499016761779785
          },
          {
           "lower": 1.3888131380081177,
           "timepoint": 4.900000095367432,
           "trajectory": "R_sol",
           "upper": 1.3888131380081177
          },
          {
           "lower": 1.428364872932434,
           "timepoint": 5,
           "trajectory": "R_sol",
           "upper": 1.428364872932434
          },
          {
           "lower": 1.4685691595077515,
           "timepoint": 5.099999904632568,
           "trajectory": "R_sol",
           "upper": 1.4685691595077515
          },
          {
           "lower": 1.509439468383789,
           "timepoint": 5.200000286102295,
           "trajectory": "R_sol",
           "upper": 1.509439468383789
          },
          {
           "lower": 1.5509881973266602,
           "timepoint": 5.300000190734863,
           "trajectory": "R_sol",
           "upper": 1.5509881973266602
          },
          {
           "lower": 1.5932283401489258,
           "timepoint": 5.400000095367432,
           "trajectory": "R_sol",
           "upper": 1.5932283401489258
          },
          {
           "lower": 1.636173963546753,
           "timepoint": 5.5,
           "trajectory": "R_sol",
           "upper": 1.636173963546753
          },
          {
           "lower": 1.679837942123413,
           "timepoint": 5.599999904632568,
           "trajectory": "R_sol",
           "upper": 1.679837942123413
          },
          {
           "lower": 1.7242363691329956,
           "timepoint": 5.700000286102295,
           "trajectory": "R_sol",
           "upper": 1.7242363691329956
          },
          {
           "lower": 1.7693792581558228,
           "timepoint": 5.800000190734863,
           "trajectory": "R_sol",
           "upper": 1.7693792581558228
          },
          {
           "lower": 1.8152821063995361,
           "timepoint": 5.900000095367432,
           "trajectory": "R_sol",
           "upper": 1.8152821063995361
          },
          {
           "lower": 1.8619590997695923,
           "timepoint": 6,
           "trajectory": "R_sol",
           "upper": 1.8619590997695923
          },
          {
           "lower": 1.9094246625900269,
           "timepoint": 6.099999904632568,
           "trajectory": "R_sol",
           "upper": 1.9094246625900269
          },
          {
           "lower": 1.9576935768127441,
           "timepoint": 6.200000286102295,
           "trajectory": "R_sol",
           "upper": 1.9576935768127441
          },
          {
           "lower": 2.006782054901123,
           "timepoint": 6.300000190734863,
           "trajectory": "R_sol",
           "upper": 2.006782054901123
          },
          {
           "lower": 2.056701898574829,
           "timepoint": 6.400000095367432,
           "trajectory": "R_sol",
           "upper": 2.056701898574829
          },
          {
           "lower": 2.1074697971343994,
           "timepoint": 6.5,
           "trajectory": "R_sol",
           "upper": 2.1074697971343994
          },
          {
           "lower": 2.1591012477874756,
           "timepoint": 6.599999904632568,
           "trajectory": "R_sol",
           "upper": 2.1591012477874756
          },
          {
           "lower": 2.211611747741699,
           "timepoint": 6.700000286102295,
           "trajectory": "R_sol",
           "upper": 2.211611747741699
          },
          {
           "lower": 2.26501727104187,
           "timepoint": 6.800000190734863,
           "trajectory": "R_sol",
           "upper": 2.26501727104187
          },
          {
           "lower": 2.3193342685699463,
           "timepoint": 6.900000095367432,
           "trajectory": "R_sol",
           "upper": 2.3193342685699463
          },
          {
           "lower": 2.3745789527893066,
           "timepoint": 7,
           "trajectory": "R_sol",
           "upper": 2.3745789527893066
          },
          {
           "lower": 2.4307620525360107,
           "timepoint": 7.099999904632568,
           "trajectory": "R_sol",
           "upper": 2.4307620525360107
          },
          {
           "lower": 2.4879093170166016,
           "timepoint": 7.200000286102295,
           "trajectory": "R_sol",
           "upper": 2.4879093170166016
          },
          {
           "lower": 2.546034336090088,
           "timepoint": 7.300000190734863,
           "trajectory": "R_sol",
           "upper": 2.546034336090088
          },
          {
           "lower": 2.6051535606384277,
           "timepoint": 7.400000095367432,
           "trajectory": "R_sol",
           "upper": 2.6051535606384277
          },
          {
           "lower": 2.66528582572937,
           "timepoint": 7.5,
           "trajectory": "R_sol",
           "upper": 2.66528582572937
          },
          {
           "lower": 2.726447343826294,
           "timepoint": 7.599999904632568,
           "trajectory": "R_sol",
           "upper": 2.726447343826294
          },
          {
           "lower": 2.7886579036712646,
           "timepoint": 7.700000286102295,
           "trajectory": "R_sol",
           "upper": 2.7886579036712646
          },
          {
           "lower": 2.8519346714019775,
           "timepoint": 7.800000190734863,
           "trajectory": "R_sol",
           "upper": 2.8519346714019775
          },
          {
           "lower": 2.9162991046905518,
           "timepoint": 7.900000095367432,
           "trajectory": "R_sol",
           "upper": 2.9162991046905518
          },
          {
           "lower": 2.98176646232605,
           "timepoint": 8,
           "trajectory": "R_sol",
           "upper": 2.98176646232605
          },
          {
           "lower": 3.0483572483062744,
           "timepoint": 8.100000381469727,
           "trajectory": "R_sol",
           "upper": 3.0483572483062744
          },
          {
           "lower": 3.116091012954712,
           "timepoint": 8.199999809265137,
           "trajectory": "R_sol",
           "upper": 3.116091012954712
          },
          {
           "lower": 3.184988021850586,
           "timepoint": 8.300000190734863,
           "trajectory": "R_sol",
           "upper": 3.184988021850586
          },
          {
           "lower": 3.2550690174102783,
           "timepoint": 8.40000057220459,
           "trajectory": "R_sol",
           "upper": 3.2550690174102783
          },
          {
           "lower": 3.326352834701538,
           "timepoint": 8.5,
           "trajectory": "R_sol",
           "upper": 3.326352834701538
          },
          {
           "lower": 3.398862361907959,
           "timepoint": 8.600000381469727,
           "trajectory": "R_sol",
           "upper": 3.398862361907959
          },
          {
           "lower": 3.4726216793060303,
           "timepoint": 8.699999809265137,
           "trajectory": "R_sol",
           "upper": 3.4726216793060303
          },
          {
           "lower": 3.5476462841033936,
           "timepoint": 8.800000190734863,
           "trajectory": "R_sol",
           "upper": 3.5476462841033936
          },
          {
           "lower": 3.623960494995117,
           "timepoint": 8.90000057220459,
           "trajectory": "R_sol",
           "upper": 3.623960494995117
          },
          {
           "lower": 3.7015862464904785,
           "timepoint": 9,
           "trajectory": "R_sol",
           "upper": 3.7015862464904785
          },
          {
           "lower": 3.780548095703125,
           "timepoint": 9.100000381469727,
           "trajectory": "R_sol",
           "upper": 3.780548095703125
          },
          {
           "lower": 3.8608670234680176,
           "timepoint": 9.199999809265137,
           "trajectory": "R_sol",
           "upper": 3.8608670234680176
          },
          {
           "lower": 3.942567825317383,
           "timepoint": 9.300000190734863,
           "trajectory": "R_sol",
           "upper": 3.942567825317383
          },
          {
           "lower": 4.025674343109131,
           "timepoint": 9.40000057220459,
           "trajectory": "R_sol",
           "upper": 4.025674343109131
          },
          {
           "lower": 4.110209941864014,
           "timepoint": 9.5,
           "trajectory": "R_sol",
           "upper": 4.110209941864014
          },
          {
           "lower": 4.196191310882568,
           "timepoint": 9.600000381469727,
           "trajectory": "R_sol",
           "upper": 4.196191310882568
          },
          {
           "lower": 4.283657550811768,
           "timepoint": 9.699999809265137,
           "trajectory": "R_sol",
           "upper": 4.283657550811768
          },
          {
           "lower": 4.372629165649414,
           "timepoint": 9.800000190734863,
           "trajectory": "R_sol",
           "upper": 4.372629165649414
          },
          {
           "lower": 4.463131427764893,
           "timepoint": 9.90000057220459,
           "trajectory": "R_sol",
           "upper": 4.463131427764893
          },
          {
           "lower": 4.555189609527588,
           "timepoint": 10,
           "trajectory": "R_sol",
           "upper": 4.555189609527588
          },
          {
           "lower": 4.64883279800415,
           "timepoint": 10.100000381469727,
           "trajectory": "R_sol",
           "upper": 4.64883279800415
          },
          {
           "lower": 4.744086265563965,
           "timepoint": 10.199999809265137,
           "trajectory": "R_sol",
           "upper": 4.744086265563965
          },
          {
           "lower": 4.840979099273682,
           "timepoint": 10.300000190734863,
           "trajectory": "R_sol",
           "upper": 4.840979099273682
          },
          {
           "lower": 4.939539432525635,
           "timepoint": 10.40000057220459,
           "trajectory": "R_sol",
           "upper": 4.939539432525635
          },
          {
           "lower": 5.039780616760254,
           "timepoint": 10.5,
           "trajectory": "R_sol",
           "upper": 5.039780616760254
          },
          {
           "lower": 5.141757011413574,
           "timepoint": 10.600000381469727,
           "trajectory": "R_sol",
           "upper": 5.141757011413574
          },
          {
           "lower": 5.245484828948975,
           "timepoint": 10.699999809265137,
           "trajectory": "R_sol",
           "upper": 5.245484828948975
          },
          {
           "lower": 5.3509979248046875,
           "timepoint": 10.800000190734863,
           "trajectory": "R_sol",
           "upper": 5.3509979248046875
          },
          {
           "lower": 5.458324909210205,
           "timepoint": 10.90000057220459,
           "trajectory": "R_sol",
           "upper": 5.458324909210205
          },
          {
           "lower": 5.567495346069336,
           "timepoint": 11,
           "trajectory": "R_sol",
           "upper": 5.567495346069336
          },
          {
           "lower": 5.678544044494629,
           "timepoint": 11.100000381469727,
           "trajectory": "R_sol",
           "upper": 5.678544044494629
          },
          {
           "lower": 5.791500091552734,
           "timepoint": 11.199999809265137,
           "trajectory": "R_sol",
           "upper": 5.791500091552734
          },
          {
           "lower": 5.906398773193359,
           "timepoint": 11.300000190734863,
           "trajectory": "R_sol",
           "upper": 5.906398773193359
          },
          {
           "lower": 6.023284912109375,
           "timepoint": 11.40000057220459,
           "trajectory": "R_sol",
           "upper": 6.023284912109375
          },
          {
           "lower": 6.14216947555542,
           "timepoint": 11.5,
           "trajectory": "R_sol",
           "upper": 6.14216947555542
          },
          {
           "lower": 6.263099670410156,
           "timepoint": 11.600000381469727,
           "trajectory": "R_sol",
           "upper": 6.263099670410156
          },
          {
           "lower": 6.386106967926025,
           "timepoint": 11.699999809265137,
           "trajectory": "R_sol",
           "upper": 6.386106967926025
          },
          {
           "lower": 6.511229991912842,
           "timepoint": 11.800000190734863,
           "trajectory": "R_sol",
           "upper": 6.511229991912842
          },
          {
           "lower": 6.638503074645996,
           "timepoint": 11.90000057220459,
           "trajectory": "R_sol",
           "upper": 6.638503074645996
          },
          {
           "lower": 6.767963409423828,
           "timepoint": 12,
           "trajectory": "R_sol",
           "upper": 6.767963409423828
          },
          {
           "lower": 6.8996500968933105,
           "timepoint": 12.100000381469727,
           "trajectory": "R_sol",
           "upper": 6.8996500968933105
          },
          {
           "lower": 7.033598899841309,
           "timepoint": 12.199999809265137,
           "trajectory": "R_sol",
           "upper": 7.033598899841309
          },
          {
           "lower": 7.169851779937744,
           "timepoint": 12.300000190734863,
           "trajectory": "R_sol",
           "upper": 7.169851779937744
          },
          {
           "lower": 7.308424472808838,
           "timepoint": 12.40000057220459,
           "trajectory": "R_sol",
           "upper": 7.308424472808838
          },
          {
           "lower": 7.449393272399902,
           "timepoint": 12.5,
           "trajectory": "R_sol",
           "upper": 7.449393272399902
          },
          {
           "lower": 7.592785835266113,
           "timepoint": 12.600000381469727,
           "trajectory": "R_sol",
           "upper": 7.592785835266113
          },
          {
           "lower": 7.738638877868652,
           "timepoint": 12.699999809265137,
           "trajectory": "R_sol",
           "upper": 7.738638877868652
          },
          {
           "lower": 7.886998653411865,
           "timepoint": 12.800000190734863,
           "trajectory": "R_sol",
           "upper": 7.886998653411865
          },
          {
           "lower": 8.037906646728516,
           "timepoint": 12.90000057220459,
           "trajectory": "R_sol",
           "upper": 8.037906646728516
          },
          {
           "lower": 8.191405296325684,
           "timepoint": 13,
           "trajectory": "R_sol",
           "upper": 8.191405296325684
          },
          {
           "lower": 8.347541809082031,
           "timepoint": 13.100000381469727,
           "trajectory": "R_sol",
           "upper": 8.347541809082031
          },
          {
           "lower": 8.506357192993164,
           "timepoint": 13.199999809265137,
           "trajectory": "R_sol",
           "upper": 8.506357192993164
          },
          {
           "lower": 8.667902946472168,
           "timepoint": 13.300000190734863,
           "trajectory": "R_sol",
           "upper": 8.667902946472168
          },
          {
           "lower": 8.832221031188965,
           "timepoint": 13.40000057220459,
           "trajectory": "R_sol",
           "upper": 8.832221031188965
          },
          {
           "lower": 8.999359130859375,
           "timepoint": 13.5,
           "trajectory": "R_sol",
           "upper": 8.999359130859375
          },
          {
           "lower": 9.169367790222168,
           "timepoint": 13.600000381469727,
           "trajectory": "R_sol",
           "upper": 9.169367790222168
          },
          {
           "lower": 9.342293739318848,
           "timepoint": 13.699999809265137,
           "trajectory": "R_sol",
           "upper": 9.342293739318848
          },
          {
           "lower": 9.518189430236816,
           "timepoint": 13.800000190734863,
           "trajectory": "R_sol",
           "upper": 9.518189430236816
          },
          {
           "lower": 9.697103500366211,
           "timepoint": 13.90000057220459,
           "trajectory": "R_sol",
           "upper": 9.697103500366211
          },
          {
           "lower": 9.879087448120117,
           "timepoint": 14,
           "trajectory": "R_sol",
           "upper": 9.879087448120117
          },
          {
           "lower": 10.064196586608887,
           "timepoint": 14.100000381469727,
           "trajectory": "R_sol",
           "upper": 10.064196586608887
          },
          {
           "lower": 10.252479553222656,
           "timepoint": 14.199999809265137,
           "trajectory": "R_sol",
           "upper": 10.252479553222656
          },
          {
           "lower": 10.444013595581055,
           "timepoint": 14.300000190734863,
           "trajectory": "R_sol",
           "upper": 10.444013595581055
          },
          {
           "lower": 10.638819694519043,
           "timepoint": 14.40000057220459,
           "trajectory": "R_sol",
           "upper": 10.638819694519043
          },
          {
           "lower": 10.836967468261719,
           "timepoint": 14.5,
           "trajectory": "R_sol",
           "upper": 10.836967468261719
          },
          {
           "lower": 11.038516998291016,
           "timepoint": 14.600000381469727,
           "trajectory": "R_sol",
           "upper": 11.038516998291016
          },
          {
           "lower": 11.243522644042969,
           "timepoint": 14.699999809265137,
           "trajectory": "R_sol",
           "upper": 11.243522644042969
          },
          {
           "lower": 11.452048301696777,
           "timepoint": 14.800000190734863,
           "trajectory": "R_sol",
           "upper": 11.452048301696777
          },
          {
           "lower": 11.664151191711426,
           "timepoint": 14.90000057220459,
           "trajectory": "R_sol",
           "upper": 11.664151191711426
          },
          {
           "lower": 11.879888534545898,
           "timepoint": 15,
           "trajectory": "R_sol",
           "upper": 11.879888534545898
          },
          {
           "lower": 12.099331855773926,
           "timepoint": 15.100000381469727,
           "trajectory": "R_sol",
           "upper": 12.099331855773926
          },
          {
           "lower": 12.322534561157227,
           "timepoint": 15.199999809265137,
           "trajectory": "R_sol",
           "upper": 12.322534561157227
          },
          {
           "lower": 12.54958724975586,
           "timepoint": 15.300000190734863,
           "trajectory": "R_sol",
           "upper": 12.54958724975586
          },
          {
           "lower": 12.780521392822266,
           "timepoint": 15.40000057220459,
           "trajectory": "R_sol",
           "upper": 12.780521392822266
          },
          {
           "lower": 13.015413284301758,
           "timepoint": 15.5,
           "trajectory": "R_sol",
           "upper": 13.015413284301758
          },
          {
           "lower": 13.254335403442383,
           "timepoint": 15.59999942779541,
           "trajectory": "R_sol",
           "upper": 13.254335403442383
          },
          {
           "lower": 13.497358322143555,
           "timepoint": 15.699999809265137,
           "trajectory": "R_sol",
           "upper": 13.497358322143555
          },
          {
           "lower": 13.744548797607422,
           "timepoint": 15.800000190734863,
           "trajectory": "R_sol",
           "upper": 13.744548797607422
          },
          {
           "lower": 13.995977401733398,
           "timepoint": 15.899999618530273,
           "trajectory": "R_sol",
           "upper": 13.995977401733398
          },
          {
           "lower": 14.25171947479248,
           "timepoint": 16,
           "trajectory": "R_sol",
           "upper": 14.25171947479248
          },
          {
           "lower": 14.511842727661133,
           "timepoint": 16.099998474121094,
           "trajectory": "R_sol",
           "upper": 14.511842727661133
          },
          {
           "lower": 14.776432991027832,
           "timepoint": 16.200000762939453,
           "trajectory": "R_sol",
           "upper": 14.776432991027832
          },
          {
           "lower": 15.045554161071777,
           "timepoint": 16.299999237060547,
           "trajectory": "R_sol",
           "upper": 15.045554161071777
          },
          {
           "lower": 15.319295883178711,
           "timepoint": 16.399999618530273,
           "trajectory": "R_sol",
           "upper": 15.319295883178711
          },
          {
           "lower": 15.59773063659668,
           "timepoint": 16.5,
           "trajectory": "R_sol",
           "upper": 15.59773063659668
          },
          {
           "lower": 15.880934715270996,
           "timepoint": 16.599998474121094,
           "trajectory": "R_sol",
           "upper": 15.880934715270996
          },
          {
           "lower": 16.16900634765625,
           "timepoint": 16.700000762939453,
           "trajectory": "R_sol",
           "upper": 16.16900634765625
          },
          {
           "lower": 16.46200180053711,
           "timepoint": 16.799999237060547,
           "trajectory": "R_sol",
           "upper": 16.46200180053711
          },
          {
           "lower": 16.76003074645996,
           "timepoint": 16.899999618530273,
           "trajectory": "R_sol",
           "upper": 16.76003074645996
          },
          {
           "lower": 17.063173294067383,
           "timepoint": 17,
           "trajectory": "R_sol",
           "upper": 17.063173294067383
          },
          {
           "lower": 17.37150001525879,
           "timepoint": 17.099998474121094,
           "trajectory": "R_sol",
           "upper": 17.37150001525879
          },
          {
           "lower": 17.685134887695312,
           "timepoint": 17.200000762939453,
           "trajectory": "R_sol",
           "upper": 17.685134887695312
          },
          {
           "lower": 18.00412940979004,
           "timepoint": 17.299999237060547,
           "trajectory": "R_sol",
           "upper": 18.00412940979004
          },
          {
           "lower": 18.328596115112305,
           "timepoint": 17.399999618530273,
           "trajectory": "R_sol",
           "upper": 18.328596115112305
          },
          {
           "lower": 18.658626556396484,
           "timepoint": 17.5,
           "trajectory": "R_sol",
           "upper": 18.658626556396484
          },
          {
           "lower": 18.994308471679688,
           "timepoint": 17.599998474121094,
           "trajectory": "R_sol",
           "upper": 18.994308471679688
          },
          {
           "lower": 19.335756301879883,
           "timepoint": 17.700000762939453,
           "trajectory": "R_sol",
           "upper": 19.335756301879883
          },
          {
           "lower": 19.68304443359375,
           "timepoint": 17.799999237060547,
           "trajectory": "R_sol",
           "upper": 19.68304443359375
          },
          {
           "lower": 20.036291122436523,
           "timepoint": 17.899999618530273,
           "trajectory": "R_sol",
           "upper": 20.036291122436523
          },
          {
           "lower": 20.395587921142578,
           "timepoint": 18,
           "trajectory": "R_sol",
           "upper": 20.395587921142578
          },
          {
           "lower": 20.761037826538086,
           "timepoint": 18.099998474121094,
           "trajectory": "R_sol",
           "upper": 20.761037826538086
          },
          {
           "lower": 21.13278579711914,
           "timepoint": 18.200000762939453,
           "trajectory": "R_sol",
           "upper": 21.13278579711914
          },
          {
           "lower": 21.510875701904297,
           "timepoint": 18.299999237060547,
           "trajectory": "R_sol",
           "upper": 21.510875701904297
          },
          {
           "lower": 21.89545440673828,
           "timepoint": 18.399999618530273,
           "trajectory": "R_sol",
           "upper": 21.89545440673828
          },
          {
           "lower": 22.286624908447266,
           "timepoint": 18.5,
           "trajectory": "R_sol",
           "upper": 22.286624908447266
          },
          {
           "lower": 22.68448829650879,
           "timepoint": 18.599998474121094,
           "trajectory": "R_sol",
           "upper": 22.68448829650879
          },
          {
           "lower": 23.089187622070312,
           "timepoint": 18.700000762939453,
           "trajectory": "R_sol",
           "upper": 23.089187622070312
          },
          {
           "lower": 23.500810623168945,
           "timepoint": 18.799999237060547,
           "trajectory": "R_sol",
           "upper": 23.500810623168945
          },
          {
           "lower": 23.919490814208984,
           "timepoint": 18.899999618530273,
           "trajectory": "R_sol",
           "upper": 23.919490814208984
          },
          {
           "lower": 24.345348358154297,
           "timepoint": 19,
           "trajectory": "R_sol",
           "upper": 24.345348358154297
          },
          {
           "lower": 24.77849578857422,
           "timepoint": 19.099998474121094,
           "trajectory": "R_sol",
           "upper": 24.77849578857422
          },
          {
           "lower": 25.219091415405273,
           "timepoint": 19.200000762939453,
           "trajectory": "R_sol",
           "upper": 25.219091415405273
          },
          {
           "lower": 25.66720962524414,
           "timepoint": 19.299999237060547,
           "trajectory": "R_sol",
           "upper": 25.66720962524414
          },
          {
           "lower": 26.123022079467773,
           "timepoint": 19.399999618530273,
           "trajectory": "R_sol",
           "upper": 26.123022079467773
          },
          {
           "lower": 26.58664321899414,
           "timepoint": 19.5,
           "trajectory": "R_sol",
           "upper": 26.58664321899414
          },
          {
           "lower": 27.058198928833008,
           "timepoint": 19.599998474121094,
           "trajectory": "R_sol",
           "upper": 27.058198928833008
          },
          {
           "lower": 27.537857055664062,
           "timepoint": 19.700000762939453,
           "trajectory": "R_sol",
           "upper": 27.537857055664062
          },
          {
           "lower": 28.025712966918945,
           "timepoint": 19.799999237060547,
           "trajectory": "R_sol",
           "upper": 28.025712966918945
          },
          {
           "lower": 28.521940231323242,
           "timepoint": 19.899999618530273,
           "trajectory": "R_sol",
           "upper": 28.521940231323242
          },
          {
           "lower": 29.026668548583984,
           "timepoint": 20,
           "trajectory": "R_sol",
           "upper": 29.026668548583984
          },
          {
           "lower": 29.540037155151367,
           "timepoint": 20.099998474121094,
           "trajectory": "R_sol",
           "upper": 29.540037155151367
          },
          {
           "lower": 30.062211990356445,
           "timepoint": 20.200000762939453,
           "trajectory": "R_sol",
           "upper": 30.062211990356445
          },
          {
           "lower": 30.59332275390625,
           "timepoint": 20.299999237060547,
           "trajectory": "R_sol",
           "upper": 30.59332275390625
          },
          {
           "lower": 31.133543014526367,
           "timepoint": 20.399999618530273,
           "trajectory": "R_sol",
           "upper": 31.133543014526367
          },
          {
           "lower": 31.683021545410156,
           "timepoint": 20.5,
           "trajectory": "R_sol",
           "upper": 31.683021545410156
          },
          {
           "lower": 32.24190139770508,
           "timepoint": 20.599998474121094,
           "trajectory": "R_sol",
           "upper": 32.24190139770508
          },
          {
           "lower": 32.81037902832031,
           "timepoint": 20.700000762939453,
           "trajectory": "R_sol",
           "upper": 32.81037902832031
          },
          {
           "lower": 33.38857650756836,
           "timepoint": 20.799999237060547,
           "trajectory": "R_sol",
           "upper": 33.38857650756836
          },
          {
           "lower": 33.976680755615234,
           "timepoint": 20.899999618530273,
           "trajectory": "R_sol",
           "upper": 33.976680755615234
          },
          {
           "lower": 34.57487106323242,
           "timepoint": 21,
           "trajectory": "R_sol",
           "upper": 34.57487106323242
          },
          {
           "lower": 35.18329620361328,
           "timepoint": 21.099998474121094,
           "trajectory": "R_sol",
           "upper": 35.18329620361328
          },
          {
           "lower": 35.80218505859375,
           "timepoint": 21.200000762939453,
           "trajectory": "R_sol",
           "upper": 35.80218505859375
          },
          {
           "lower": 36.43163299560547,
           "timepoint": 21.299999237060547,
           "trajectory": "R_sol",
           "upper": 36.43163299560547
          },
          {
           "lower": 37.07188415527344,
           "timepoint": 21.399999618530273,
           "trajectory": "R_sol",
           "upper": 37.07188415527344
          },
          {
           "lower": 37.72311019897461,
           "timepoint": 21.5,
           "trajectory": "R_sol",
           "upper": 37.72311019897461
          },
          {
           "lower": 38.38547897338867,
           "timepoint": 21.599998474121094,
           "trajectory": "R_sol",
           "upper": 38.38547897338867
          },
          {
           "lower": 39.05921936035156,
           "timepoint": 21.700000762939453,
           "trajectory": "R_sol",
           "upper": 39.05921936035156
          },
          {
           "lower": 39.744483947753906,
           "timepoint": 21.799999237060547,
           "trajectory": "R_sol",
           "upper": 39.744483947753906
          },
          {
           "lower": 40.441497802734375,
           "timepoint": 21.899999618530273,
           "trajectory": "R_sol",
           "upper": 40.441497802734375
          },
          {
           "lower": 41.15045928955078,
           "timepoint": 22,
           "trajectory": "R_sol",
           "upper": 41.15045928955078
          },
          {
           "lower": 41.871559143066406,
           "timepoint": 22.099998474121094,
           "trajectory": "R_sol",
           "upper": 41.871559143066406
          },
          {
           "lower": 42.604957580566406,
           "timepoint": 22.200000762939453,
           "trajectory": "R_sol",
           "upper": 42.604957580566406
          },
          {
           "lower": 43.350955963134766,
           "timepoint": 22.299999237060547,
           "trajectory": "R_sol",
           "upper": 43.350955963134766
          },
          {
           "lower": 44.1097526550293,
           "timepoint": 22.399999618530273,
           "trajectory": "R_sol",
           "upper": 44.1097526550293
          },
          {
           "lower": 44.88154220581055,
           "timepoint": 22.5,
           "trajectory": "R_sol",
           "upper": 44.88154220581055
          },
          {
           "lower": 45.66653823852539,
           "timepoint": 22.599998474121094,
           "trajectory": "R_sol",
           "upper": 45.66653823852539
          },
          {
           "lower": 46.46501159667969,
           "timepoint": 22.700000762939453,
           "trajectory": "R_sol",
           "upper": 46.46501159667969
          },
          {
           "lower": 47.277137756347656,
           "timepoint": 22.799999237060547,
           "trajectory": "R_sol",
           "upper": 47.277137756347656
          },
          {
           "lower": 48.10319137573242,
           "timepoint": 22.899999618530273,
           "trajectory": "R_sol",
           "upper": 48.10319137573242
          },
          {
           "lower": 48.94340133666992,
           "timepoint": 23,
           "trajectory": "R_sol",
           "upper": 48.94340133666992
          },
          {
           "lower": 49.79798126220703,
           "timepoint": 23.100000381469727,
           "trajectory": "R_sol",
           "upper": 49.79798126220703
          },
          {
           "lower": 50.667213439941406,
           "timepoint": 23.200000762939453,
           "trajectory": "R_sol",
           "upper": 50.667213439941406
          },
          {
           "lower": 51.55132293701172,
           "timepoint": 23.299999237060547,
           "trajectory": "R_sol",
           "upper": 51.55132293701172
          },
          {
           "lower": 52.45059585571289,
           "timepoint": 23.399999618530273,
           "trajectory": "R_sol",
           "upper": 52.45059585571289
          },
          {
           "lower": 53.365264892578125,
           "timepoint": 23.5,
           "trajectory": "R_sol",
           "upper": 53.365264892578125
          },
          {
           "lower": 54.29561233520508,
           "timepoint": 23.600000381469727,
           "trajectory": "R_sol",
           "upper": 54.29561233520508
          },
          {
           "lower": 55.24189758300781,
           "timepoint": 23.700000762939453,
           "trajectory": "R_sol",
           "upper": 55.24189758300781
          },
          {
           "lower": 56.204368591308594,
           "timepoint": 23.799999237060547,
           "trajectory": "R_sol",
           "upper": 56.204368591308594
          },
          {
           "lower": 57.183353424072266,
           "timepoint": 23.899999618530273,
           "trajectory": "R_sol",
           "upper": 57.183353424072266
          },
          {
           "lower": 58.17910385131836,
           "timepoint": 24,
           "trajectory": "R_sol",
           "upper": 58.17910385131836
          },
          {
           "lower": 59.1918830871582,
           "timepoint": 24.100000381469727,
           "trajectory": "R_sol",
           "upper": 59.1918830871582
          },
          {
           "lower": 60.2220344543457,
           "timepoint": 24.200000762939453,
           "trajectory": "R_sol",
           "upper": 60.2220344543457
          },
          {
           "lower": 61.269813537597656,
           "timepoint": 24.299999237060547,
           "trajectory": "R_sol",
           "upper": 61.269813537597656
          },
          {
           "lower": 62.335567474365234,
           "timepoint": 24.399999618530273,
           "trajectory": "R_sol",
           "upper": 62.335567474365234
          },
          {
           "lower": 63.41957473754883,
           "timepoint": 24.5,
           "trajectory": "R_sol",
           "upper": 63.41957473754883
          },
          {
           "lower": 64.52214813232422,
           "timepoint": 24.600000381469727,
           "trajectory": "R_sol",
           "upper": 64.52214813232422
          },
          {
           "lower": 65.64361572265625,
           "timepoint": 24.700000762939453,
           "trajectory": "R_sol",
           "upper": 65.64361572265625
          },
          {
           "lower": 66.78426361083984,
           "timepoint": 24.799999237060547,
           "trajectory": "R_sol",
           "upper": 66.78426361083984
          },
          {
           "lower": 67.9444808959961,
           "timepoint": 24.899999618530273,
           "trajectory": "R_sol",
           "upper": 67.9444808959961
          },
          {
           "lower": 69.12457275390625,
           "timepoint": 25,
           "trajectory": "R_sol",
           "upper": 69.12457275390625
          },
          {
           "lower": 70.32479095458984,
           "timepoint": 25.100000381469727,
           "trajectory": "R_sol",
           "upper": 70.32479095458984
          },
          {
           "lower": 71.5456314086914,
           "timepoint": 25.200000762939453,
           "trajectory": "R_sol",
           "upper": 71.5456314086914
          },
          {
           "lower": 72.7873764038086,
           "timepoint": 25.299999237060547,
           "trajectory": "R_sol",
           "upper": 72.7873764038086
          },
          {
           "lower": 74.0504150390625,
           "timepoint": 25.399999618530273,
           "trajectory": "R_sol",
           "upper": 74.0504150390625
          },
          {
           "lower": 75.33509063720703,
           "timepoint": 25.5,
           "trajectory": "R_sol",
           "upper": 75.33509063720703
          },
          {
           "lower": 76.64176940917969,
           "timepoint": 25.600000381469727,
           "trajectory": "R_sol",
           "upper": 76.64176940917969
          },
          {
           "lower": 77.97083282470703,
           "timepoint": 25.700000762939453,
           "trajectory": "R_sol",
           "upper": 77.97083282470703
          },
          {
           "lower": 79.32264709472656,
           "timepoint": 25.799999237060547,
           "trajectory": "R_sol",
           "upper": 79.32264709472656
          },
          {
           "lower": 80.6976318359375,
           "timepoint": 25.899999618530273,
           "trajectory": "R_sol",
           "upper": 80.6976318359375
          },
          {
           "lower": 82.0961685180664,
           "timepoint": 26,
           "trajectory": "R_sol",
           "upper": 82.0961685180664
          },
          {
           "lower": 83.51853942871094,
           "timepoint": 26.100000381469727,
           "trajectory": "R_sol",
           "upper": 83.51853942871094
          },
          {
           "lower": 84.96537017822266,
           "timepoint": 26.200000762939453,
           "trajectory": "R_sol",
           "upper": 84.96537017822266
          },
          {
           "lower": 86.43695831298828,
           "timepoint": 26.299999237060547,
           "trajectory": "R_sol",
           "upper": 86.43695831298828
          },
          {
           "lower": 87.93379211425781,
           "timepoint": 26.399999618530273,
           "trajectory": "R_sol",
           "upper": 87.93379211425781
          },
          {
           "lower": 89.45626831054688,
           "timepoint": 26.5,
           "trajectory": "R_sol",
           "upper": 89.45626831054688
          },
          {
           "lower": 91.00482177734375,
           "timepoint": 26.600000381469727,
           "trajectory": "R_sol",
           "upper": 91.00482177734375
          },
          {
           "lower": 92.57991027832031,
           "timepoint": 26.700000762939453,
           "trajectory": "R_sol",
           "upper": 92.57991027832031
          },
          {
           "lower": 94.18195343017578,
           "timepoint": 26.799999237060547,
           "trajectory": "R_sol",
           "upper": 94.18195343017578
          },
          {
           "lower": 95.81146240234375,
           "timepoint": 26.899999618530273,
           "trajectory": "R_sol",
           "upper": 95.81146240234375
          },
          {
           "lower": 97.46891021728516,
           "timepoint": 27,
           "trajectory": "R_sol",
           "upper": 97.46891021728516
          },
          {
           "lower": 99.15451049804688,
           "timepoint": 27.100000381469727,
           "trajectory": "R_sol",
           "upper": 99.15451049804688
          },
          {
           "lower": 100.86917114257812,
           "timepoint": 27.200000762939453,
           "trajectory": "R_sol",
           "upper": 100.86917114257812
          },
          {
           "lower": 102.6131591796875,
           "timepoint": 27.299999237060547,
           "trajectory": "R_sol",
           "upper": 102.6131591796875
          },
          {
           "lower": 104.38703918457031,
           "timepoint": 27.399999618530273,
           "trajectory": "R_sol",
           "upper": 104.38703918457031
          },
          {
           "lower": 106.19131469726562,
           "timepoint": 27.5,
           "trajectory": "R_sol",
           "upper": 106.19131469726562
          },
          {
           "lower": 108.0264663696289,
           "timepoint": 27.600000381469727,
           "trajectory": "R_sol",
           "upper": 108.0264663696289
          },
          {
           "lower": 109.89305877685547,
           "timepoint": 27.700000762939453,
           "trajectory": "R_sol",
           "upper": 109.89305877685547
          },
          {
           "lower": 111.79158782958984,
           "timepoint": 27.799999237060547,
           "trajectory": "R_sol",
           "upper": 111.79158782958984
          },
          {
           "lower": 113.72264862060547,
           "timepoint": 27.899999618530273,
           "trajectory": "R_sol",
           "upper": 113.72264862060547
          },
          {
           "lower": 115.6867904663086,
           "timepoint": 28,
           "trajectory": "R_sol",
           "upper": 115.6867904663086
          },
          {
           "lower": 117.68473052978516,
           "timepoint": 28.100000381469727,
           "trajectory": "R_sol",
           "upper": 117.68473052978516
          },
          {
           "lower": 119.71675872802734,
           "timepoint": 28.200000762939453,
           "trajectory": "R_sol",
           "upper": 119.71675872802734
          },
          {
           "lower": 121.78355407714844,
           "timepoint": 28.299999237060547,
           "trajectory": "R_sol",
           "upper": 121.78355407714844
          },
          {
           "lower": 123.88579559326172,
           "timepoint": 28.399999618530273,
           "trajectory": "R_sol",
           "upper": 123.88579559326172
          },
          {
           "lower": 126.02403259277344,
           "timepoint": 28.5,
           "trajectory": "R_sol",
           "upper": 126.02403259277344
          },
          {
           "lower": 128.19888305664062,
           "timepoint": 28.600000381469727,
           "trajectory": "R_sol",
           "upper": 128.19888305664062
          },
          {
           "lower": 130.41098022460938,
           "timepoint": 28.700000762939453,
           "trajectory": "R_sol",
           "upper": 130.41098022460938
          },
          {
           "lower": 132.66090393066406,
           "timepoint": 28.799999237060547,
           "trajectory": "R_sol",
           "upper": 132.66090393066406
          },
          {
           "lower": 134.94940185546875,
           "timepoint": 28.899999618530273,
           "trajectory": "R_sol",
           "upper": 134.94940185546875
          },
          {
           "lower": 137.277099609375,
           "timepoint": 29,
           "trajectory": "R_sol",
           "upper": 137.277099609375
          },
          {
           "lower": 139.64480590820312,
           "timepoint": 29.100000381469727,
           "trajectory": "R_sol",
           "upper": 139.64480590820312
          },
          {
           "lower": 142.05294799804688,
           "timepoint": 29.200000762939453,
           "trajectory": "R_sol",
           "upper": 142.05294799804688
          },
          {
           "lower": 144.50228881835938,
           "timepoint": 29.299999237060547,
           "trajectory": "R_sol",
           "upper": 144.50228881835938
          },
          {
           "lower": 146.99363708496094,
           "timepoint": 29.399999618530273,
           "trajectory": "R_sol",
           "upper": 146.99363708496094
          },
          {
           "lower": 149.5276336669922,
           "timepoint": 29.5,
           "trajectory": "R_sol",
           "upper": 149.5276336669922
          },
          {
           "lower": 152.10504150390625,
           "timepoint": 29.600000381469727,
           "trajectory": "R_sol",
           "upper": 152.10504150390625
          },
          {
           "lower": 154.72657775878906,
           "timepoint": 29.700000762939453,
           "trajectory": "R_sol",
           "upper": 154.72657775878906
          },
          {
           "lower": 157.39295959472656,
           "timepoint": 29.799999237060547,
           "trajectory": "R_sol",
           "upper": 157.39295959472656
          },
          {
           "lower": 160.1050262451172,
           "timepoint": 29.899999618530273,
           "trajectory": "R_sol",
           "upper": 160.1050262451172
          },
          {
           "lower": 162.8635711669922,
           "timepoint": 30,
           "trajectory": "R_sol",
           "upper": 162.8635711669922
          },
          {
           "lower": 165.66957092285156,
           "timepoint": 30.100000381469727,
           "trajectory": "R_sol",
           "upper": 165.66957092285156
          },
          {
           "lower": 168.5234375,
           "timepoint": 30.200000762939453,
           "trajectory": "R_sol",
           "upper": 168.5234375
          },
          {
           "lower": 171.42613220214844,
           "timepoint": 30.299999237060547,
           "trajectory": "R_sol",
           "upper": 171.42613220214844
          },
          {
           "lower": 174.3786163330078,
           "timepoint": 30.399999618530273,
           "trajectory": "R_sol",
           "upper": 174.3786163330078
          },
          {
           "lower": 177.38165283203125,
           "timepoint": 30.5,
           "trajectory": "R_sol",
           "upper": 177.38165283203125
          },
          {
           "lower": 180.4361114501953,
           "timepoint": 30.600000381469727,
           "trajectory": "R_sol",
           "upper": 180.4361114501953
          },
          {
           "lower": 183.54290771484375,
           "timepoint": 30.700000762939453,
           "trajectory": "R_sol",
           "upper": 183.54290771484375
          },
          {
           "lower": 186.70286560058594,
           "timepoint": 30.799999237060547,
           "trajectory": "R_sol",
           "upper": 186.70286560058594
          },
          {
           "lower": 189.91697692871094,
           "timepoint": 30.899999618530273,
           "trajectory": "R_sol",
           "upper": 189.91697692871094
          },
          {
           "lower": 193.1861572265625,
           "timepoint": 31,
           "trajectory": "R_sol",
           "upper": 193.1861572265625
          }
         ]
        },
        {
         "name": "traces",
         "transform": [
          {
           "expr": "isValid(datum.value)",
           "type": "filter"
          }
         ],
         "values": []
        },
        {
         "name": "points",
         "values": []
        },
        {
         "name": "markers",
         "values": []
        },
        {
         "name": "selected",
         "on": [
          {
           "remove": true,
           "trigger": "clear"
          },
          {
           "remove": true,
           "trigger": "!shift"
          },
          {
           "insert": "clicked",
           "trigger": "!shift && clicked"
          },
          {
           "toggle": "clicked",
           "trigger": "shift && clicked"
          }
         ]
        }
       ],
       "height": 300,
       "legends": [
        {
         "encode": {
          "labels": {
           "interactive": true,
           "name": "legendLabel",
           "update": {
            "opacity": [
             {
              "test": "!length(data('selected')) || indata('selected', 'value', datum.value)",
              "value": 1
             },
             {
              "value": 0.25
             }
            ]
           }
          },
          "symbols": {
           "interactive": true,
           "name": "legendSymbol",
           "update": {
            "fill": {
             "value": "transparent"
            },
            "opacity": [
             {
              "test": "!length(data('selected')) || indata('selected', 'value', datum.value)",
              "value": 0.7
             },
             {
              "value": 0.15
             }
            ],
            "size": {
             "value": 64
            },
            "strokeWidth": {
             "value": 2
            }
           }
          }
         },
         "name": "color_legend",
         "stroke": "color"
        }
       ],
       "marks": [
        {
         "from": {
          "facet": {
           "data": "points",
           "groupby": "trajectory",
           "name": "points_split"
          }
         },
         "marks": [
          {
           "encode": {
            "hover": {
             "fillOpacity": {
              "value": 0.9
             }
            },
            "update": {
             "fill": {
              "field": "trajectory",
              "scale": "color"
             },
             "fillOpacity": [
              {
               "test": "!length(data('selected')) || indata('selected', 'value', datum.trajectory)",
               "value": 0.5
              },
              {
               "value": 0.15
              }
             ],
             "size": {
              "value": 10
             },
             "stroke": {
              "field": "trajectory",
              "scale": "color"
             },
             "strokeOpacity": [
              {
               "test": "!length(data('selected')) || indata('selected', 'value', datum.trajectory)",
               "value": 0.75
              },
              {
               "value": 0.15
              }
             ],
             "strokeWidth": {
              "value": 2
             },
             "tooltip": {
              "field": "value"
             },
             "x": {
              "field": "timepoint",
              "scale": "xscale"
             },
             "y": {
              "field": "value",
              "scale": "yscale"
             }
            }
           },
           "from": {
            "data": "points"
           },
           "name": "_points_symbol",
           "type": "symbol",
           "zindex": 3
          },
          {
           "encode": {
            "hover": {
             "fillOpacity": {
              "value": 0.9
             }
            },
            "update": {
             "interpolate": {
              "value": "linear"
             },
             "stroke": {
              "field": "trajectory",
              "scale": "color"
             },
             "strokeOpacity": [
              {
               "test": "!length(data('selected')) || indata('selected', 'value', datum.trajectory)",
               "value": 0.3
              },
              {
               "value": 0.1
              }
             ],
             "strokeWidth": {
              "value": 2
             },
             "x": {
              "field": "timepoint",
              "scale": "xscale"
             },
             "y": {
              "field": "value",
              "scale": "yscale"
             }
            }
           },
           "from": {
            "data": "points"
           },
           "name": "_points_line",
           "type": "line",
           "zindex": 3
          }
         ],
         "name": "_points",
         "type": "group",
         "zindex": 3
        },
        {
         "from": {
          "facet": {
           "data": "traces",
           "groupby": "trajectory",
           "name": "traces_split"
          }
         },
         "marks": [
          {
           "encode": {
            "hover": {
             "fillOpacity": {
              "value": 0.9
             }
            },
            "update": {
             "interpolate": {
              "value": "linear"
             },
             "stroke": {
              "field": "trajectory",
              "scale": "color"
             },
             "strokeOpacity": [
              {
               "test": "!length(data('selected')) || indata('selected', 'value', datum.trajectory)",
               "value": 0.75
              },
              {
               "value": 0.15
              }
             ],
             "strokeWidth": {
              "value": 2
             },
             "x": {
              "field": "timepoint",
              "scale": "xscale"
             },
             "y": {
              "field": "value",
              "scale": "yscale"
             }
            }
           },
           "from": {
            "data": "traces_split"
           },
           "name": "_traces_lines",
           "type": "line"
          }
         ],
         "name": "_traces",
         "type": "group",
         "zindex": 2
        },
        {
         "from": {
          "facet": {
           "data": "distributions",
           "groupby": "trajectory",
           "name": "trajectory_split"
          }
         },
         "marks": [
          {
           "encode": {
            "hover": {
             "fillOpacity": {
              "value": 0.9
             }
            },
            "update": {
             "fill": {
              "field": "trajectory",
              "scale": "color"
             },
             "fillOpacity": [
              {
               "test": "!length(data('selected')) || indata('selected', 'value', datum.trajectory)",
               "value": 0.5
              },
              {
               "value": 0.15
              }
             ],
             "interpolate": {
              "value": "linear"
             },
             "stroke": {
              "field": "trajectory",
              "scale": "color"
             },
             "strokeOpacity": [
              {
               "test": "!length(data('selected')) || indata('selected', 'value', datum.trajectory)",
               "value": 0.75
              },
              {
               "value": 0.15
              }
             ],
             "strokeWidth": {
              "value": 2
             },
             "x": {
              "field": "timepoint",
              "scale": "xscale"
             },
             "y": {
              "field": "upper",
              "scale": "yscale"
             },
             "y2": {
              "field": "lower",
              "scale": "yscale"
             }
            }
           },
           "from": {
            "data": "trajectory_split"
           },
           "type": "area"
          }
         ],
         "name": "_distributions",
         "type": "group",
         "zindex": 1
        },
        {
         "marks": [
          {
           "encode": {
            "enter": {
             "stroke": {
              "value": "lightgray"
             }
            },
            "update": {
             "opacity": {
              "value": 1
             },
             "x": {
              "field": "timepoint",
              "scale": "xscale"
             },
             "y": {
              "signal": "height"
             },
             "y2": {
              "value": 0
             }
            }
           },
           "from": {
            "data": "markers"
           },
           "name": "_marker text",
           "type": "rule"
          },
          {
           "encode": {
            "enter": {
             "fontSize": {
              "value": 8
             },
             "text": {
              "field": "datum.label"
             },
             "y": {
              "value": 0
             }
            }
           },
           "from": {
            "data": "_marker text"
           },
           "name": "_marker flags",
           "transform": [
            {
             "as": [
              "x",
              "_y",
              "opacity",
              "align",
              "baseline"
             ],
             "lineAnchor": "start",
             "offset": [
              1
             ],
             "size": {
              "signal": "[width, height]"
             },
             "type": "label"
            }
           ],
           "type": "text"
          }
         ],
         "name": "_markers",
         "type": "group"
        }
       ],
       "scales": [
        {
         "domain": {
          "fields": [
           {
            "data": "distributions",
            "field": "timepoint"
           },
           {
            "data": "traces",
            "field": "timepoint"
           },
           {
            "data": "points",
            "field": "timepoint"
           },
           {
            "data": "markers",
            "field": "timepoint"
           }
          ]
         },
         "name": "xscale",
         "range": "width",
         "type": "linear",
         "zero": false
        },
        {
         "domain": {
          "fields": [
           {
            "data": "distributions",
            "field": "lower"
           },
           {
            "data": "distributions",
            "field": "upper"
           },
           {
            "data": "traces",
            "field": "value"
           },
           {
            "data": "points",
            "field": "value"
           }
          ]
         },
         "name": "yscale",
         "nice": true,
         "range": "height",
         "type": "linear",
         "zero": true
        },
        {
         "domain": {
          "fields": [
           {
            "data": "distributions",
            "field": "trajectory"
           },
           {
            "data": "traces",
            "field": "trajectory"
           },
           {
            "data": "points",
            "field": "trajectory"
           }
          ]
         },
         "name": "color",
         "range": "category",
         "type": "ordinal"
        }
       ],
       "signals": [
        {
         "name": "clear",
         "on": [
          {
           "events": "mouseup[!event.item]",
           "force": true,
           "update": "true"
          }
         ],
         "value": true
        },
        {
         "name": "shift",
         "on": [
          {
           "events": "@legendSymbol:click, @legendLabel:click",
           "force": true,
           "update": "event.shiftKey"
          }
         ],
         "value": false
        },
        {
         "name": "clicked",
         "on": [
          {
           "events": "@legendSymbol:click, @legendLabel:click",
           "force": true,
           "update": "{value: datum.value}"
          }
         ],
         "value": null
        }
       ],
       "title": "1(a)(ii)(2)",
       "width": 500
      }
     },
     "metadata": {},
     "output_type": "display_data"
    }
   ],
   "source": [
    "SEIRD_model_path = \"scenario1_a_ii_2.json\"\n",
    "SEIRD_model_url = \"https://raw.githubusercontent.com/indralab/mira/hackathon/notebooks/evaluation_2023.07/eval_scenario1_1_ii_2.json\"\n",
    "# NOTE: This is only if you wish to update the AMR.\n",
    "update_AMR(SEIRD_model_url, SEIRD_model_path)\n",
    "\n",
    "results_1_a_ii_2 = load_and_sample_petri_model(\n",
    "        SEIRD_model_path, num_samples, timepoints=timepoints, visual_options={\"title\": \"1(a)(ii)(2)\", \"subset\":[\"D_sol\", \"I_sol\", \"R_sol\", \"E_sol\"]}, time_unit=\"days\")\n",
    "plots.ipy_display(results_1_a_ii_2[\"visual\"])"
   ]
  },
  {
   "cell_type": "code",
   "execution_count": 46,
   "metadata": {},
   "outputs": [
    {
     "name": "stderr",
     "output_type": "stream",
     "text": [
      "ERROR:root:\n",
      "                ###############################\n",
      "\n",
      "                There was an exception in pyciemss\n",
      "                \n",
      "                Error occured in function: load_and_sample_petri_model\n",
      "\n",
      "                Function docs : \n",
      "    Load a petri net from a file, compile it into a probabilistic program, and sample from it.\n",
      "\n",
      "    Args:\n",
      "        petri_model_or_path: Union[str, mira.metamodel.TemplateModel, mira.modeling.Model]\n",
      "            - A path to a petri net file, or a petri net object.\n",
      "            - This path can be a URL or a local path to a mira model or AMR model.\n",
      "            - Alternatively, this can be a mira template model directly.\n",
      "        num_samples: int\n",
      "            - The number of samples to draw from the model.\n",
      "        timepoints: [Iterable[float]]\n",
      "            - The timepoints to simulate the model from. Backcasting and/or forecasting is reflected in the choice of timepoints.\n",
      "        interventions: Optional[Iterable[Tuple[float, str, float]]]\n",
      "            - A list of interventions to apply to the model. Each intervention is a tuple of the form (time, parameter_name, value).\n",
      "        start_state: Optional[dict[str, float]]\n",
      "            - The initial state of the model. If None, the initial state is taken from the mira model.\n",
      "        start_time: float\n",
      "            - The start time of the model. This is used to align the `start_state` with the `timepoints`.\n",
      "            - By default we set the `start_time` to be a small negative number to avoid numerical issues w/ collision with the `timepoints` which typically start at 0.\n",
      "        method: str\n",
      "            - The method to use for solving the ODE. See torchdiffeq's `odeint` method for more details.\n",
      "            - If performance is incredibly slow, we suggest using `euler` to debug. If using `euler` results in faster simulation, the issue is likely that the model is stiff.\n",
      "        compile_rate_law_p: bool\n",
      "            - Whether or not to compile the rate law from the AMR rate expression. default True.  False is useful for debugging.\n",
      "        compile_observables_p: bool\n",
      "            - Whether or not to compile the observables from the AMR observable expression. default True.  False is useful for debugging.\n",
      "        time_unit: str\n",
      "            - Time unit (used for labeling outputs)\n",
      "        visual_options: None, bool, dict[str, any]\n",
      "            - True output a visual\n",
      "            - False do not output a visual\n",
      "            - dict output a visual with the dictionary passed to the visualization as kwargs\n",
      "\n",
      "    Returns:\n",
      "        result: dict\n",
      "            - Dictionary of outputs with following attribute:\n",
      "                * data: PetriSolution: The samples from the model as a pandas DataFrame. (If visual_options is falsy)\n",
      "                * visual: Visualization. (If visual_options is truthy)\n",
      "    \n",
      "\n",
      "                ################################\n",
      "            \n",
      "Traceback (most recent call last):\n",
      "  File \"/Users/vigneshsella/Documents/GitHub/pyciemss/src/pyciemss/custom_decorators.py\", line 9, in wrapped\n",
      "    result = function(*args, **kwargs)\n",
      "  File \"/Users/vigneshsella/Documents/GitHub/pyciemss/src/pyciemss/PetriNetODE/interfaces.py\", line 121, in load_and_sample_petri_model\n",
      "    model = load_petri_model(\n",
      "  File \"/Users/vigneshsella/Documents/GitHub/pyciemss/src/pyciemss/PetriNetODE/interfaces.py\", line 671, in load_petri_model\n",
      "    return ScaledNormalNoisePetriNetODESystem.from_askenet(\n",
      "  File \"/usr/local/Cellar/python@3.9/3.9.13_1/Frameworks/Python.framework/Versions/3.9/lib/python3.9/functools.py\", line 938, in _method\n",
      "    return method.__get__(obj, cls)(*args, **kwargs)\n",
      "  File \"/Users/vigneshsella/Documents/GitHub/pyciemss/src/pyciemss/PetriNetODE/base.py\", line 467, in _from_path\n",
      "    return cls.from_askenet(model_json, **kwargs)\n",
      "  File \"/usr/local/Cellar/python@3.9/3.9.13_1/Frameworks/Python.framework/Versions/3.9/lib/python3.9/functools.py\", line 938, in _method\n",
      "    return method.__get__(obj, cls)(*args, **kwargs)\n",
      "  File \"/Users/vigneshsella/Documents/GitHub/pyciemss/src/pyciemss/PetriNetODE/base.py\", line 449, in _from_json\n",
      "    return cls.from_askenet(petrinet.template_model_from_askenet_json(model_json), **kwargs)\n",
      "  File \"/usr/local/Cellar/python@3.9/3.9.13_1/Frameworks/Python.framework/Versions/3.9/lib/python3.9/functools.py\", line 938, in _method\n",
      "    return method.__get__(obj, cls)(*args, **kwargs)\n",
      "  File \"/Users/vigneshsella/Documents/GitHub/pyciemss/src/pyciemss/PetriNetODE/base.py\", line 425, in _from_template_model\n",
      "    model = cls.from_askenet(mira.modeling.Model(model_template), **kwargs)\n",
      "  File \"/usr/local/Cellar/python@3.9/3.9.13_1/Frameworks/Python.framework/Versions/3.9/lib/python3.9/functools.py\", line 938, in _method\n",
      "    return method.__get__(obj, cls)(*args, **kwargs)\n",
      "  File \"/Users/vigneshsella/Documents/GitHub/pyciemss/src/pyciemss/PetriNetODE/base.py\", line 418, in from_askenet\n",
      "    return cls(model, **kwargs)\n",
      "  File \"/Users/vigneshsella/Documents/GitHub/pyciemss/src/pyciemss/PetriNetODE/base.py\", line 555, in __init__\n",
      "    super().__init__(G, compile_rate_law_p=compile_rate_law_p, compile_observables_p=compile_observables_p, **kwargs)\n",
      "  File \"/Users/vigneshsella/Documents/GitHub/pyciemss/src/pyciemss/PetriNetODE/base.py\", line 316, in __init__\n",
      "    self.compiled_rate_law = self.compile_rate_law()\n",
      "  File \"/Users/vigneshsella/Documents/GitHub/pyciemss/src/pyciemss/PetriNetODE/base.py\", line 368, in compile_rate_law\n",
      "    flux = self.extract_sympy(t.template.rate_law)\n",
      "  File \"/Users/vigneshsella/Documents/GitHub/pyciemss/src/pyciemss/PetriNetODE/base.py\", line 380, in extract_sympy\n",
      "    return sympy_expr_str.args[0]\n",
      "AttributeError: 'NoneType' object has no attribute 'args'\n"
     ]
    },
    {
     "ename": "AttributeError",
     "evalue": "'NoneType' object has no attribute 'args'",
     "output_type": "error",
     "traceback": [
      "\u001b[0;31m---------------------------------------------------------------------------\u001b[0m",
      "\u001b[0;31mAttributeError\u001b[0m                            Traceback (most recent call last)",
      "Cell \u001b[0;32mIn[46], line 6\u001b[0m\n\u001b[1;32m      3\u001b[0m \u001b[39m# NOTE: This is only if you wish to update the AMR.\u001b[39;00m\n\u001b[1;32m      4\u001b[0m update_AMR(SEIRD_model_url, SEIRD_model_path)\n\u001b[0;32m----> 6\u001b[0m results_1_a_ii_3 \u001b[39m=\u001b[39m load_and_sample_petri_model(\n\u001b[1;32m      7\u001b[0m         SEIRD_model_path, num_samples, timepoints\u001b[39m=\u001b[39;49mtimepoints, visual_options\u001b[39m=\u001b[39;49m{\u001b[39m\"\u001b[39;49m\u001b[39mtitle\u001b[39;49m\u001b[39m\"\u001b[39;49m: \u001b[39m\"\u001b[39;49m\u001b[39m1(a)(ii)(3)\u001b[39;49m\u001b[39m\"\u001b[39;49m, \u001b[39m\"\u001b[39;49m\u001b[39msubset\u001b[39;49m\u001b[39m\"\u001b[39;49m:[\u001b[39m\"\u001b[39;49m\u001b[39mD_sol\u001b[39;49m\u001b[39m\"\u001b[39;49m, \u001b[39m\"\u001b[39;49m\u001b[39mI_sol\u001b[39;49m\u001b[39m\"\u001b[39;49m, \u001b[39m\"\u001b[39;49m\u001b[39mR_sol\u001b[39;49m\u001b[39m\"\u001b[39;49m, \u001b[39m\"\u001b[39;49m\u001b[39mE_sol\u001b[39;49m\u001b[39m\"\u001b[39;49m]}, time_unit\u001b[39m=\u001b[39;49m\u001b[39m\"\u001b[39;49m\u001b[39mdays\u001b[39;49m\u001b[39m\"\u001b[39;49m)\n\u001b[1;32m      8\u001b[0m plots\u001b[39m.\u001b[39mipy_display(results_1_a_ii_3[\u001b[39m\"\u001b[39m\u001b[39mvisual\u001b[39m\u001b[39m\"\u001b[39m])\n",
      "File \u001b[0;32m~/Documents/GitHub/pyciemss/src/pyciemss/custom_decorators.py:30\u001b[0m, in \u001b[0;36mpyciemss_logging_wrappper.<locals>.wrapped\u001b[0;34m(*args, **kwargs)\u001b[0m\n\u001b[1;32m     18\u001b[0m log_message \u001b[39m=\u001b[39m \u001b[39mf\u001b[39m\u001b[39m\"\"\"\u001b[39m\n\u001b[1;32m     19\u001b[0m \u001b[39m    ###############################\u001b[39m\n\u001b[1;32m     20\u001b[0m \n\u001b[0;32m   (...)\u001b[0m\n\u001b[1;32m     27\u001b[0m \u001b[39m    ################################\u001b[39m\n\u001b[1;32m     28\u001b[0m \u001b[39m\u001b[39m\u001b[39m\"\"\"\u001b[39m\n\u001b[1;32m     29\u001b[0m logging\u001b[39m.\u001b[39mexception(log_message)\n\u001b[0;32m---> 30\u001b[0m \u001b[39mraise\u001b[39;00m e\n",
      "File \u001b[0;32m~/Documents/GitHub/pyciemss/src/pyciemss/custom_decorators.py:9\u001b[0m, in \u001b[0;36mpyciemss_logging_wrappper.<locals>.wrapped\u001b[0;34m(*args, **kwargs)\u001b[0m\n\u001b[1;32m      7\u001b[0m \u001b[39mtry\u001b[39;00m:\n\u001b[1;32m      8\u001b[0m     start_time \u001b[39m=\u001b[39m time\u001b[39m.\u001b[39mperf_counter()\n\u001b[0;32m----> 9\u001b[0m     result \u001b[39m=\u001b[39m function(\u001b[39m*\u001b[39;49margs, \u001b[39m*\u001b[39;49m\u001b[39m*\u001b[39;49mkwargs)\n\u001b[1;32m     10\u001b[0m     end_time \u001b[39m=\u001b[39m time\u001b[39m.\u001b[39mperf_counter()\n\u001b[1;32m     11\u001b[0m     logging\u001b[39m.\u001b[39minfo(\n\u001b[1;32m     12\u001b[0m         \u001b[39mf\u001b[39m\u001b[39m\"\u001b[39m\u001b[39mElapsed time for \u001b[39m\u001b[39m{\u001b[39;00mfunction\u001b[39m.\u001b[39m\u001b[39m__name__\u001b[39m\u001b[39m}\u001b[39;00m\u001b[39m:\u001b[39m\u001b[39m\"\u001b[39m,\n\u001b[1;32m     13\u001b[0m         end_time \u001b[39m-\u001b[39m start_time\n\u001b[1;32m     14\u001b[0m         )\n",
      "File \u001b[0;32m~/Documents/GitHub/pyciemss/src/pyciemss/PetriNetODE/interfaces.py:121\u001b[0m, in \u001b[0;36mload_and_sample_petri_model\u001b[0;34m(petri_model_or_path, num_samples, timepoints, interventions, start_state, start_time, method, compile_rate_law_p, compile_observables_p, time_unit, visual_options)\u001b[0m\n\u001b[1;32m     80\u001b[0m \u001b[39m\u001b[39m\u001b[39m\"\"\"\u001b[39;00m\n\u001b[1;32m     81\u001b[0m \u001b[39mLoad a petri net from a file, compile it into a probabilistic program, and sample from it.\u001b[39;00m\n\u001b[1;32m     82\u001b[0m \n\u001b[0;32m   (...)\u001b[0m\n\u001b[1;32m    117\u001b[0m \u001b[39m            * visual: Visualization. (If visual_options is truthy)\u001b[39;00m\n\u001b[1;32m    118\u001b[0m \u001b[39m\"\"\"\u001b[39;00m\n\u001b[1;32m    120\u001b[0m \u001b[39m# Load the model\u001b[39;00m\n\u001b[0;32m--> 121\u001b[0m model \u001b[39m=\u001b[39m load_petri_model(\n\u001b[1;32m    122\u001b[0m     petri_model_or_path\u001b[39m=\u001b[39;49mpetri_model_or_path,\n\u001b[1;32m    123\u001b[0m     add_uncertainty\u001b[39m=\u001b[39;49m\u001b[39mFalse\u001b[39;49;00m,\n\u001b[1;32m    124\u001b[0m     compile_rate_law_p\u001b[39m=\u001b[39;49mcompile_rate_law_p,\n\u001b[1;32m    125\u001b[0m     compile_observables_p\u001b[39m=\u001b[39;49mcompile_observables_p,\n\u001b[1;32m    126\u001b[0m )\n\u001b[1;32m    128\u001b[0m \u001b[39m# If the user doesn't override the start state, use the initial values from the model.\u001b[39;00m\n\u001b[1;32m    129\u001b[0m \u001b[39mif\u001b[39;00m start_state \u001b[39mis\u001b[39;00m \u001b[39mNone\u001b[39;00m:\n",
      "File \u001b[0;32m~/Documents/GitHub/pyciemss/src/pyciemss/PetriNetODE/interfaces.py:671\u001b[0m, in \u001b[0;36mload_petri_model\u001b[0;34m(petri_model_or_path, add_uncertainty, noise_model, noise_scale, compile_observables_p, compile_rate_law_p)\u001b[0m\n\u001b[1;32m    667\u001b[0m     \u001b[39mreturn\u001b[39;00m ScaledBetaNoisePetriNetODESystem\u001b[39m.\u001b[39mfrom_askenet(\n\u001b[1;32m    668\u001b[0m         petri_model_or_path, noise_scale\u001b[39m=\u001b[39mnoise_scale, compile_rate_law_p\u001b[39m=\u001b[39mcompile_rate_law_p, compile_observables_p\u001b[39m=\u001b[39mcompile_observables_p, add_uncertainty\u001b[39m=\u001b[39madd_uncertainty\n\u001b[1;32m    669\u001b[0m     )\n\u001b[1;32m    670\u001b[0m \u001b[39melif\u001b[39;00m noise_model \u001b[39m==\u001b[39m \u001b[39m\"\u001b[39m\u001b[39mscaled_normal\u001b[39m\u001b[39m\"\u001b[39m:\n\u001b[0;32m--> 671\u001b[0m     \u001b[39mreturn\u001b[39;00m ScaledNormalNoisePetriNetODESystem\u001b[39m.\u001b[39;49mfrom_askenet(\n\u001b[1;32m    672\u001b[0m         petri_model_or_path, noise_scale\u001b[39m=\u001b[39;49mnoise_scale, compile_rate_law_p\u001b[39m=\u001b[39;49mcompile_rate_law_p, compile_observables_p\u001b[39m=\u001b[39;49mcompile_observables_p, add_uncertainty\u001b[39m=\u001b[39;49madd_uncertainty\n\u001b[1;32m    673\u001b[0m     )\n\u001b[1;32m    674\u001b[0m \u001b[39melse\u001b[39;00m:\n\u001b[1;32m    675\u001b[0m     \u001b[39mraise\u001b[39;00m \u001b[39mValueError\u001b[39;00m(\u001b[39mf\u001b[39m\u001b[39m\"\u001b[39m\u001b[39mUnknown noise model \u001b[39m\u001b[39m{\u001b[39;00mnoise_model\u001b[39m}\u001b[39;00m\u001b[39m. Please select from either \u001b[39m\u001b[39m'\u001b[39m\u001b[39mscaled_beta\u001b[39m\u001b[39m'\u001b[39m\u001b[39m or \u001b[39m\u001b[39m'\u001b[39m\u001b[39mscaled_normal\u001b[39m\u001b[39m'\u001b[39m\u001b[39m.\u001b[39m\u001b[39m\"\u001b[39m)\n",
      "File \u001b[0;32m/usr/local/Cellar/python@3.9/3.9.13_1/Frameworks/Python.framework/Versions/3.9/lib/python3.9/functools.py:938\u001b[0m, in \u001b[0;36msingledispatchmethod.__get__.<locals>._method\u001b[0;34m(*args, **kwargs)\u001b[0m\n\u001b[1;32m    936\u001b[0m \u001b[39mdef\u001b[39;00m \u001b[39m_method\u001b[39m(\u001b[39m*\u001b[39margs, \u001b[39m*\u001b[39m\u001b[39m*\u001b[39mkwargs):\n\u001b[1;32m    937\u001b[0m     method \u001b[39m=\u001b[39m \u001b[39mself\u001b[39m\u001b[39m.\u001b[39mdispatcher\u001b[39m.\u001b[39mdispatch(args[\u001b[39m0\u001b[39m]\u001b[39m.\u001b[39m\u001b[39m__class__\u001b[39m)\n\u001b[0;32m--> 938\u001b[0m     \u001b[39mreturn\u001b[39;00m method\u001b[39m.\u001b[39;49m\u001b[39m__get__\u001b[39;49m(obj, \u001b[39mcls\u001b[39;49m)(\u001b[39m*\u001b[39;49margs, \u001b[39m*\u001b[39;49m\u001b[39m*\u001b[39;49mkwargs)\n",
      "File \u001b[0;32m~/Documents/GitHub/pyciemss/src/pyciemss/PetriNetODE/base.py:467\u001b[0m, in \u001b[0;36mMiraPetriNetODESystem._from_path\u001b[0;34m(cls, model_json_path, **kwargs)\u001b[0m\n\u001b[1;32m    465\u001b[0m     \u001b[39mwith\u001b[39;00m \u001b[39mopen\u001b[39m(model_json_path) \u001b[39mas\u001b[39;00m fh:\n\u001b[1;32m    466\u001b[0m         model_json \u001b[39m=\u001b[39m json\u001b[39m.\u001b[39mload(fh)\n\u001b[0;32m--> 467\u001b[0m \u001b[39mreturn\u001b[39;00m \u001b[39mcls\u001b[39;49m\u001b[39m.\u001b[39;49mfrom_askenet(model_json, \u001b[39m*\u001b[39;49m\u001b[39m*\u001b[39;49mkwargs)\n",
      "File \u001b[0;32m/usr/local/Cellar/python@3.9/3.9.13_1/Frameworks/Python.framework/Versions/3.9/lib/python3.9/functools.py:938\u001b[0m, in \u001b[0;36msingledispatchmethod.__get__.<locals>._method\u001b[0;34m(*args, **kwargs)\u001b[0m\n\u001b[1;32m    936\u001b[0m \u001b[39mdef\u001b[39;00m \u001b[39m_method\u001b[39m(\u001b[39m*\u001b[39margs, \u001b[39m*\u001b[39m\u001b[39m*\u001b[39mkwargs):\n\u001b[1;32m    937\u001b[0m     method \u001b[39m=\u001b[39m \u001b[39mself\u001b[39m\u001b[39m.\u001b[39mdispatcher\u001b[39m.\u001b[39mdispatch(args[\u001b[39m0\u001b[39m]\u001b[39m.\u001b[39m\u001b[39m__class__\u001b[39m)\n\u001b[0;32m--> 938\u001b[0m     \u001b[39mreturn\u001b[39;00m method\u001b[39m.\u001b[39;49m\u001b[39m__get__\u001b[39;49m(obj, \u001b[39mcls\u001b[39;49m)(\u001b[39m*\u001b[39;49margs, \u001b[39m*\u001b[39;49m\u001b[39m*\u001b[39;49mkwargs)\n",
      "File \u001b[0;32m~/Documents/GitHub/pyciemss/src/pyciemss/PetriNetODE/base.py:449\u001b[0m, in \u001b[0;36mMiraPetriNetODESystem._from_json\u001b[0;34m(cls, model_json, **kwargs)\u001b[0m\n\u001b[1;32m    447\u001b[0m     \u001b[39mreturn\u001b[39;00m \u001b[39mcls\u001b[39m\u001b[39m.\u001b[39mfrom_askenet(mira\u001b[39m.\u001b[39mmetamodel\u001b[39m.\u001b[39mTemplateModel\u001b[39m.\u001b[39mfrom_json(model_json), \u001b[39m*\u001b[39m\u001b[39m*\u001b[39mkwargs)\n\u001b[1;32m    448\u001b[0m \u001b[39melif\u001b[39;00m \u001b[39m'\u001b[39m\u001b[39mpetrinet\u001b[39m\u001b[39m'\u001b[39m \u001b[39min\u001b[39;00m model_json[\u001b[39m'\u001b[39m\u001b[39mschema\u001b[39m\u001b[39m'\u001b[39m]:\n\u001b[0;32m--> 449\u001b[0m     \u001b[39mreturn\u001b[39;00m \u001b[39mcls\u001b[39;49m\u001b[39m.\u001b[39;49mfrom_askenet(petrinet\u001b[39m.\u001b[39;49mtemplate_model_from_askenet_json(model_json), \u001b[39m*\u001b[39;49m\u001b[39m*\u001b[39;49mkwargs)\n\u001b[1;32m    450\u001b[0m \u001b[39melif\u001b[39;00m \u001b[39m'\u001b[39m\u001b[39mregnet\u001b[39m\u001b[39m'\u001b[39m \u001b[39min\u001b[39;00m model_json[\u001b[39m'\u001b[39m\u001b[39mschema\u001b[39m\u001b[39m'\u001b[39m]:\n\u001b[1;32m    451\u001b[0m     \u001b[39mreturn\u001b[39;00m \u001b[39mcls\u001b[39m\u001b[39m.\u001b[39mfrom_askenet(regnet\u001b[39m.\u001b[39mtemplate_model_from_askenet_json(model_json), \u001b[39m*\u001b[39m\u001b[39m*\u001b[39mkwargs)\n",
      "File \u001b[0;32m/usr/local/Cellar/python@3.9/3.9.13_1/Frameworks/Python.framework/Versions/3.9/lib/python3.9/functools.py:938\u001b[0m, in \u001b[0;36msingledispatchmethod.__get__.<locals>._method\u001b[0;34m(*args, **kwargs)\u001b[0m\n\u001b[1;32m    936\u001b[0m \u001b[39mdef\u001b[39;00m \u001b[39m_method\u001b[39m(\u001b[39m*\u001b[39margs, \u001b[39m*\u001b[39m\u001b[39m*\u001b[39mkwargs):\n\u001b[1;32m    937\u001b[0m     method \u001b[39m=\u001b[39m \u001b[39mself\u001b[39m\u001b[39m.\u001b[39mdispatcher\u001b[39m.\u001b[39mdispatch(args[\u001b[39m0\u001b[39m]\u001b[39m.\u001b[39m\u001b[39m__class__\u001b[39m)\n\u001b[0;32m--> 938\u001b[0m     \u001b[39mreturn\u001b[39;00m method\u001b[39m.\u001b[39;49m\u001b[39m__get__\u001b[39;49m(obj, \u001b[39mcls\u001b[39;49m)(\u001b[39m*\u001b[39;49margs, \u001b[39m*\u001b[39;49m\u001b[39m*\u001b[39;49mkwargs)\n",
      "File \u001b[0;32m~/Documents/GitHub/pyciemss/src/pyciemss/PetriNetODE/base.py:425\u001b[0m, in \u001b[0;36mMiraPetriNetODESystem._from_template_model\u001b[0;34m(cls, model_template, **kwargs)\u001b[0m\n\u001b[1;32m    421\u001b[0m \u001b[39m@from_askenet\u001b[39m\u001b[39m.\u001b[39mregister(mira\u001b[39m.\u001b[39mmetamodel\u001b[39m.\u001b[39mTemplateModel)\n\u001b[1;32m    422\u001b[0m \u001b[39m@classmethod\u001b[39m\n\u001b[1;32m    423\u001b[0m \u001b[39mdef\u001b[39;00m \u001b[39m_from_template_model\u001b[39m(\u001b[39mcls\u001b[39m, model_template: mira\u001b[39m.\u001b[39mmetamodel\u001b[39m.\u001b[39mTemplateModel, \u001b[39m*\u001b[39m\u001b[39m*\u001b[39mkwargs):\n\u001b[1;32m    424\u001b[0m \u001b[39m    \u001b[39m\u001b[39m\"\"\"Return a model from a MIRA model template.\"\"\"\u001b[39;00m\n\u001b[0;32m--> 425\u001b[0m     model \u001b[39m=\u001b[39m \u001b[39mcls\u001b[39;49m\u001b[39m.\u001b[39;49mfrom_askenet(mira\u001b[39m.\u001b[39;49mmodeling\u001b[39m.\u001b[39;49mModel(model_template), \u001b[39m*\u001b[39;49m\u001b[39m*\u001b[39;49mkwargs)\n\u001b[1;32m    427\u001b[0m     \u001b[39m# Check if all parameter names are strings\u001b[39;00m\n\u001b[1;32m    428\u001b[0m     \u001b[39m# if all(isinstance(param.key, str) for param in model.G.parameters.values()):\u001b[39;00m\n\u001b[1;32m    429\u001b[0m     \u001b[39m#     return model\u001b[39;00m\n\u001b[0;32m   (...)\u001b[0m\n\u001b[1;32m    433\u001b[0m \n\u001b[1;32m    434\u001b[0m     \u001b[39m# Check if we wish to aggregate parameters (default is no)\u001b[39;00m\n\u001b[1;32m    435\u001b[0m     \u001b[39mif\u001b[39;00m \u001b[39m'\u001b[39m\u001b[39maggregate_parameters_p\u001b[39m\u001b[39m'\u001b[39m \u001b[39min\u001b[39;00m kwargs \u001b[39mand\u001b[39;00m kwargs[\u001b[39m'\u001b[39m\u001b[39maggregate_parameters_p\u001b[39m\u001b[39m'\u001b[39m]:\n",
      "File \u001b[0;32m/usr/local/Cellar/python@3.9/3.9.13_1/Frameworks/Python.framework/Versions/3.9/lib/python3.9/functools.py:938\u001b[0m, in \u001b[0;36msingledispatchmethod.__get__.<locals>._method\u001b[0;34m(*args, **kwargs)\u001b[0m\n\u001b[1;32m    936\u001b[0m \u001b[39mdef\u001b[39;00m \u001b[39m_method\u001b[39m(\u001b[39m*\u001b[39margs, \u001b[39m*\u001b[39m\u001b[39m*\u001b[39mkwargs):\n\u001b[1;32m    937\u001b[0m     method \u001b[39m=\u001b[39m \u001b[39mself\u001b[39m\u001b[39m.\u001b[39mdispatcher\u001b[39m.\u001b[39mdispatch(args[\u001b[39m0\u001b[39m]\u001b[39m.\u001b[39m\u001b[39m__class__\u001b[39m)\n\u001b[0;32m--> 938\u001b[0m     \u001b[39mreturn\u001b[39;00m method\u001b[39m.\u001b[39;49m\u001b[39m__get__\u001b[39;49m(obj, \u001b[39mcls\u001b[39;49m)(\u001b[39m*\u001b[39;49margs, \u001b[39m*\u001b[39;49m\u001b[39m*\u001b[39;49mkwargs)\n",
      "File \u001b[0;32m~/Documents/GitHub/pyciemss/src/pyciemss/PetriNetODE/base.py:418\u001b[0m, in \u001b[0;36mMiraPetriNetODESystem.from_askenet\u001b[0;34m(cls, model, **kwargs)\u001b[0m\n\u001b[1;32m    414\u001b[0m \u001b[39m@functools\u001b[39m\u001b[39m.\u001b[39msingledispatchmethod\n\u001b[1;32m    415\u001b[0m \u001b[39m@classmethod\u001b[39m\n\u001b[1;32m    416\u001b[0m \u001b[39mdef\u001b[39;00m \u001b[39mfrom_askenet\u001b[39m(\u001b[39mcls\u001b[39m, model: mira\u001b[39m.\u001b[39mmodeling\u001b[39m.\u001b[39mModel, \u001b[39m*\u001b[39m\u001b[39m*\u001b[39mkwargs) \u001b[39m-\u001b[39m\u001b[39m>\u001b[39m \u001b[39m\"\u001b[39m\u001b[39mMiraPetriNetODESystem\u001b[39m\u001b[39m\"\u001b[39m:\n\u001b[1;32m    417\u001b[0m \u001b[39m    \u001b[39m\u001b[39m\"\"\"Return a model from a MIRA model.\"\"\"\u001b[39;00m\n\u001b[0;32m--> 418\u001b[0m     \u001b[39mreturn\u001b[39;00m \u001b[39mcls\u001b[39;49m(model, \u001b[39m*\u001b[39;49m\u001b[39m*\u001b[39;49mkwargs)\n",
      "File \u001b[0;32m~/Documents/GitHub/pyciemss/src/pyciemss/PetriNetODE/base.py:555\u001b[0m, in \u001b[0;36mScaledNormalNoisePetriNetODESystem.__init__\u001b[0;34m(self, G, noise_scale, compile_rate_law_p, compile_observables_p, **kwargs)\u001b[0m\n\u001b[1;32m    554\u001b[0m \u001b[39mdef\u001b[39;00m \u001b[39m__init__\u001b[39m(\u001b[39mself\u001b[39m, G: mira\u001b[39m.\u001b[39mmodeling\u001b[39m.\u001b[39mModel, noise_scale: \u001b[39mfloat\u001b[39m \u001b[39m=\u001b[39m \u001b[39m0.1\u001b[39m, compile_rate_law_p: \u001b[39mbool\u001b[39m \u001b[39m=\u001b[39m \u001b[39mFalse\u001b[39;00m, compile_observables_p: \u001b[39mbool\u001b[39m \u001b[39m=\u001b[39m \u001b[39mFalse\u001b[39;00m,  \u001b[39m*\u001b[39m\u001b[39m*\u001b[39mkwargs):\n\u001b[0;32m--> 555\u001b[0m     \u001b[39msuper\u001b[39;49m()\u001b[39m.\u001b[39;49m\u001b[39m__init__\u001b[39;49m(G, compile_rate_law_p\u001b[39m=\u001b[39;49mcompile_rate_law_p, compile_observables_p\u001b[39m=\u001b[39;49mcompile_observables_p, \u001b[39m*\u001b[39;49m\u001b[39m*\u001b[39;49mkwargs)\n\u001b[1;32m    556\u001b[0m     \u001b[39mself\u001b[39m\u001b[39m.\u001b[39mregister_buffer(\u001b[39m\"\u001b[39m\u001b[39mnoise_scale\u001b[39m\u001b[39m\"\u001b[39m, torch\u001b[39m.\u001b[39mas_tensor(noise_scale))\n\u001b[1;32m    557\u001b[0m     \u001b[39massert\u001b[39;00m \u001b[39mself\u001b[39m\u001b[39m.\u001b[39mnoise_scale \u001b[39m>\u001b[39m \u001b[39m0\u001b[39m, \u001b[39m\"\u001b[39m\u001b[39mNoise scale must be positive\u001b[39m\u001b[39m\"\u001b[39m\n",
      "File \u001b[0;32m~/Documents/GitHub/pyciemss/src/pyciemss/PetriNetODE/base.py:316\u001b[0m, in \u001b[0;36mMiraPetriNetODESystem.__init__\u001b[0;34m(self, G, compile_rate_law_p, compile_observables_p, add_uncertainty)\u001b[0m\n\u001b[1;32m    314\u001b[0m \u001b[39mself\u001b[39m\u001b[39m.\u001b[39mcompile_observables_p \u001b[39m=\u001b[39m compile_observables_p\n\u001b[1;32m    315\u001b[0m \u001b[39mif\u001b[39;00m \u001b[39mself\u001b[39m\u001b[39m.\u001b[39mcompile_rate_law_p:\n\u001b[0;32m--> 316\u001b[0m     \u001b[39mself\u001b[39m\u001b[39m.\u001b[39mcompiled_rate_law \u001b[39m=\u001b[39m \u001b[39mself\u001b[39;49m\u001b[39m.\u001b[39;49mcompile_rate_law()\n\u001b[1;32m    317\u001b[0m \u001b[39mif\u001b[39;00m \u001b[39mself\u001b[39m\u001b[39m.\u001b[39mcompile_observables_p:\n\u001b[1;32m    318\u001b[0m     \u001b[39mself\u001b[39m\u001b[39m.\u001b[39mcompiled_observables \u001b[39m=\u001b[39m \u001b[39mself\u001b[39m\u001b[39m.\u001b[39mcompile_observables()\n",
      "File \u001b[0;32m~/Documents/GitHub/pyciemss/src/pyciemss/PetriNetODE/base.py:368\u001b[0m, in \u001b[0;36mMiraPetriNetODESystem.compile_rate_law\u001b[0;34m(self)\u001b[0m\n\u001b[1;32m    366\u001b[0m symbolic_derivs \u001b[39m=\u001b[39m {get_name(var): \u001b[39m0\u001b[39m \u001b[39mfor\u001b[39;00m var \u001b[39min\u001b[39;00m \u001b[39mself\u001b[39m\u001b[39m.\u001b[39mvar_order\u001b[39m.\u001b[39mvalues()}\n\u001b[1;32m    367\u001b[0m \u001b[39mfor\u001b[39;00m t \u001b[39min\u001b[39;00m \u001b[39mself\u001b[39m\u001b[39m.\u001b[39mG\u001b[39m.\u001b[39mtransitions\u001b[39m.\u001b[39mvalues():\n\u001b[0;32m--> 368\u001b[0m     flux \u001b[39m=\u001b[39m \u001b[39mself\u001b[39;49m\u001b[39m.\u001b[39;49mextract_sympy(t\u001b[39m.\u001b[39;49mtemplate\u001b[39m.\u001b[39;49mrate_law)\n\u001b[1;32m    369\u001b[0m     \u001b[39mfor\u001b[39;00m c \u001b[39min\u001b[39;00m t\u001b[39m.\u001b[39mconsumed:\n\u001b[1;32m    370\u001b[0m         symbolic_derivs[get_name(c)] \u001b[39m-\u001b[39m\u001b[39m=\u001b[39m flux\n",
      "File \u001b[0;32m~/Documents/GitHub/pyciemss/src/pyciemss/PetriNetODE/base.py:380\u001b[0m, in \u001b[0;36mMiraPetriNetODESystem.extract_sympy\u001b[0;34m(self, sympy_expr_str)\u001b[0m\n\u001b[1;32m    378\u001b[0m \u001b[39mdef\u001b[39;00m \u001b[39mextract_sympy\u001b[39m(\u001b[39mself\u001b[39m, sympy_expr_str: mira\u001b[39m.\u001b[39mmetamodel\u001b[39m.\u001b[39mtemplates\u001b[39m.\u001b[39mSympyExprStr) \u001b[39m-\u001b[39m\u001b[39m>\u001b[39m sympy\u001b[39m.\u001b[39mExpr:\n\u001b[1;32m    379\u001b[0m \u001b[39m    \u001b[39m\u001b[39m\"\"\"Convert the mira SympyExprStr to a sympy.Expr.\"\"\"\u001b[39;00m\n\u001b[0;32m--> 380\u001b[0m     \u001b[39mreturn\u001b[39;00m sympy_expr_str\u001b[39m.\u001b[39;49margs[\u001b[39m0\u001b[39m]\n",
      "\u001b[0;31mAttributeError\u001b[0m: 'NoneType' object has no attribute 'args'"
     ]
    }
   ],
   "source": [
    "SEIRD_model_path = \"scenario1_a_ii_3.json\"\n",
    "SEIRD_model_url = \"https://raw.githubusercontent.com/indralab/mira/hackathon/notebooks/evaluation_2023.07/eval_scenario1_1_ii_3.json\"\n",
    "# NOTE: This is only if you wish to update the AMR.\n",
    "update_AMR(SEIRD_model_url, SEIRD_model_path)\n",
    "\n",
    "results_1_a_ii_3 = load_and_sample_petri_model(\n",
    "        SEIRD_model_path, num_samples, timepoints=timepoints, visual_options={\"title\": \"1(a)(ii)(3)\", \"subset\":[\"D_sol\", \"I_sol\", \"R_sol\", \"E_sol\"]}, time_unit=\"days\")\n",
    "plots.ipy_display(results_1_a_ii_3[\"visual\"])"
   ]
  }
 ],
 "metadata": {
  "kernelspec": {
   "display_name": "Python CIEMSS",
   "language": "python",
   "name": "ciemss_env"
  },
  "language_info": {
   "codemirror_mode": {
    "name": "ipython",
    "version": 3
   },
   "file_extension": ".py",
   "mimetype": "text/x-python",
   "name": "python",
   "nbconvert_exporter": "python",
   "pygments_lexer": "ipython3",
   "version": "3.9.13"
  },
  "orig_nbformat": 4
 },
 "nbformat": 4,
 "nbformat_minor": 2
}
