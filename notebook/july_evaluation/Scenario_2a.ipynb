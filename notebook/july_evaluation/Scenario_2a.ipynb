{
 "cells": [
  {
   "cell_type": "markdown",
   "id": "a6b5a4c8-17cc-4892-8162-1acc74969146",
   "metadata": {},
   "source": [
    "# Scenario 2 subtask a: Forecasting with Vaccines"
   ]
  },
  {
   "cell_type": "markdown",
   "id": "41ef6389-703d-49bb-89d0-939f50b3c8c5",
   "metadata": {},
   "source": [
    "**Background:** 07/15/2021 in New York State. The Delta variant is beginning to spread. Vaccination distribution is still in its early phases (low rate, children <10 unable to be vaccinated). "
   ]
  },
  {
   "attachments": {},
   "cell_type": "markdown",
   "id": "ebcf4db0-df8c-45b2-b5e9-bb512c69d5bf",
   "metadata": {},
   "source": [
    "**TASK:** Forecast cases (I), hospitalizations (H), and deaths (D) over the next four weeks (28 days).\n",
    "\n",
    "Specifications:\n",
    "1. Set initial conditions from https://github.com/reichlab/covid19-forecast-hub/tree/master/data-truth\n",
    "2. Incorporate data on vaccine uptake (https://covid.cdc.gov/covid-data-tracker/#vaccine-effectiveness)\n",
    "3. Use the SEIRHD model from Scenario 1 now modified to include vaccination status.\n",
    "4. Assume no masking or social distance mandates other than \"unvaccinated people must wear masks\"\n",
    "5. Assume 50% of unvaccinated people actually comply\n",
    "6. Assume all masks are surgical masks\n",
    "7. $\\beta = \\beta_{uu}$, unvaccinated infecting unvaccinated\n",
    "8. $\\beta_{uv} = \\beta_{vu} = (1-vaccine\\_efficacy)*\\beta_{uu}$\n",
    "9. $\\beta_{vv} = (1-vaccine\\_efficacy)^2*{\\beta_{uu}}^2$"
   ]
  },
  {
   "cell_type": "code",
   "execution_count": null,
   "id": "752fb478-a2ae-413d-a049-df0c59f82067",
   "metadata": {},
   "outputs": [],
   "source": []
  }
 ],
 "metadata": {
  "kernelspec": {
   "display_name": "Python 3 (ipykernel)",
   "language": "python",
   "name": "python3"
  },
  "language_info": {
   "codemirror_mode": {
    "name": "ipython",
    "version": 3
   },
   "file_extension": ".py",
   "mimetype": "text/x-python",
   "name": "python",
   "nbconvert_exporter": "python",
   "pygments_lexer": "ipython3",
   "version": "3.10.12"
  }
 },
 "nbformat": 4,
 "nbformat_minor": 5
}
