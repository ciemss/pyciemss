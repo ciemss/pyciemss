{
 "cells": [
  {
   "cell_type": "markdown",
   "id": "416baccf-4a3c-45bc-ada4-2d874c5fd3d0",
   "metadata": {},
   "source": [
    "# Timepoint 1: 04/03/2020 in New York State"
   ]
  },
  {
   "cell_type": "markdown",
   "id": "03d7efbd-90c8-4ff7-a565-c3a1d29ae032",
   "metadata": {},
   "source": [
    "**Considerations:**\n",
    "1. Best data to use for calibration = ?\n",
    "2. Understanding of viral mechanisms at the time = Reinfection not considered.\n",
    "3. Parameter values + severity of dominant strain = ?\n",
    "4. Policies already in place = Mainly masks. No vaccines available yet."
   ]
  },
  {
   "cell_type": "code",
   "execution_count": 1,
   "id": "141fcd08-566e-4196-8332-093357f65de2",
   "metadata": {},
   "outputs": [],
   "source": [
    "import os\n",
    "import urllib.request, json \n",
    "import pandas as pd\n",
    "from IPython.display import HTML\n",
    "from IPython import display\n",
    "from pyciemss.PetriNetODE.interfaces import (\n",
    "    load_and_sample_petri_model,\n",
    "    load_and_calibrate_and_sample_petri_model,\n",
    "    load_petri_model,\n",
    "    setup_petri_model,\n",
    "    sample\n",
    ")\n",
    "import numpy as np\n",
    "from typing import Iterable\n",
    "from pyciemss.utils.interface_utils import (\n",
    "    assign_interventions_to_timepoints,\n",
    "    interventions_and_sampled_params_to_interval,\n",
    "    convert_to_output_format\n",
    ")\n",
    "from pyciemss.utils import get_tspan\n",
    "from pyciemss.utils.AMR_utils import *\n",
    "from pyciemss.visuals import plots\n",
    "import matplotlib.pyplot as plt\n",
    "import torch\n",
    "from torch import tensor"
   ]
  },
  {
   "cell_type": "markdown",
   "id": "fb6b9d7a-5e24-4958-bd2f-6cb1ec804d11",
   "metadata": {},
   "source": [
    "**TASK 1:** Take single model, calibrate, and forecast I, H, and D over 4 weeks (28 days). Evaluate error (WIS, MAE)"
   ]
  },
  {
   "cell_type": "code",
   "execution_count": 2,
   "id": "bb8eb5fd-f3d2-4b37-8967-ad1415b61799",
   "metadata": {},
   "outputs": [],
   "source": [
    "num_samples = 1\n",
    "start_time = 0\n",
    "end_time = 31 # Next 4 weeks of the pandemic.\n",
    "num_timepoints = (end_time-start_time)*10 + 1\n",
    "timepoints = list(get_tspan(start_time, end_time, num_timepoints).detach().numpy())"
   ]
  },
  {
   "cell_type": "code",
   "execution_count": null,
   "id": "5e8a8b06",
   "metadata": {},
   "outputs": [],
   "source": []
  },
  {
   "cell_type": "markdown",
   "id": "142fe844-2d5e-4326-a34f-8936dd50d0ea",
   "metadata": {},
   "source": [
    "**TASK 2:** Using multiple models (from starter kit, 6-month hackathon, or evaluations), calibrate (either independently or as a whole), and evaluate error. Produce outputs in CDC forecasting challenge format, including specified quantiles."
   ]
  },
  {
   "cell_type": "code",
   "execution_count": null,
   "id": "ddfba6bd-3273-45a4-9d84-af8b1e82b9a5",
   "metadata": {},
   "outputs": [],
   "source": []
  }
 ],
 "metadata": {
  "kernelspec": {
   "display_name": "Python CIEMSS",
   "language": "python",
   "name": "ciemss_env"
  },
  "language_info": {
   "codemirror_mode": {
    "name": "ipython",
    "version": 3
   },
   "file_extension": ".py",
   "mimetype": "text/x-python",
   "name": "python",
   "nbconvert_exporter": "python",
   "pygments_lexer": "ipython3",
   "version": "3.9.13"
  }
 },
 "nbformat": 4,
 "nbformat_minor": 5
}
