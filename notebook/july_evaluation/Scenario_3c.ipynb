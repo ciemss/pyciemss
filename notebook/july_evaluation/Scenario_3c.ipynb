{
 "cells": [
  {
   "cell_type": "markdown",
   "id": "f4ebb932-3a20-4ad0-af0f-7ba7a6dea210",
   "metadata": {},
   "source": [
    "# Scenario 3 subtask 3: Represent Diagnosed Cases"
   ]
  },
  {
   "cell_type": "markdown",
   "id": "ceda3768-cbdc-4c30-845f-67b9720563b5",
   "metadata": {},
   "source": [
    "**Background:** 10/02/2020 - 1/25/2021 in Greater Boston area. Predicting cases from wastewater potentially reports closer to the truth than testing."
   ]
  },
  {
   "attachments": {},
   "cell_type": "markdown",
   "id": "1347d5e0-dec8-409f-ad27-cb0ebe96f0be",
   "metadata": {},
   "source": [
    "**TASK:** Calibrate the modified model on 'diagnosed' cases 10/02/202 to 12/18/2020. Plot the forecast through 01/25/2021 alongside the actual 'diagnosed' \n",
    "\n",
    "**Specifications:**\n",
    "2. Data found in supplementary materials"
   ]
  },
  {
   "cell_type": "code",
   "execution_count": null,
   "id": "a8821687-5b31-4ba6-b337-53ec4bef96f6",
   "metadata": {},
   "outputs": [],
   "source": []
  }
 ],
 "metadata": {
  "kernelspec": {
   "display_name": "Python 3 (ipykernel)",
   "language": "python",
   "name": "python3"
  },
  "language_info": {
   "codemirror_mode": {
    "name": "ipython",
    "version": 3
   },
   "file_extension": ".py",
   "mimetype": "text/x-python",
   "name": "python",
   "nbconvert_exporter": "python",
   "pygments_lexer": "ipython3",
   "version": "3.10.12"
  }
 },
 "nbformat": 4,
 "nbformat_minor": 5
}
