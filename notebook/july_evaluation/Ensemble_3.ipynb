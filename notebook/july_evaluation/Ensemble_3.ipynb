{
 "cells": [
  {
   "cell_type": "markdown",
   "id": "416baccf-4a3c-45bc-ada4-2d874c5fd3d0",
   "metadata": {},
   "source": [
    "# Timepoint 3: 01/04/2022 in New York State"
   ]
  },
  {
   "cell_type": "markdown",
   "id": "03d7efbd-90c8-4ff7-a565-c3a1d29ae032",
   "metadata": {},
   "source": [
    "**Considerations:**\n",
    "1. Best data to use for calibration = ?\n",
    "2. Understanding of viral mechanisms at the time = ?\n",
    "3. Parameter values + severity of dominant strain = ?, wave of Omicron variant\n",
    "4. Policies already in place = At-home testing now prevalent."
   ]
  },
  {
   "cell_type": "code",
   "execution_count": null,
   "id": "141fcd08-566e-4196-8332-093357f65de2",
   "metadata": {},
   "outputs": [],
   "source": []
  },
  {
   "cell_type": "markdown",
   "id": "fb6b9d7a-5e24-4958-bd2f-6cb1ec804d11",
   "metadata": {},
   "source": [
    "**TASK 1:** Take single model, calibrate, and forecast I, H, and D over 4 weeks (28 days). Evaluate error (WIS, MAE)"
   ]
  },
  {
   "cell_type": "code",
   "execution_count": null,
   "id": "bb8eb5fd-f3d2-4b37-8967-ad1415b61799",
   "metadata": {},
   "outputs": [],
   "source": []
  },
  {
   "cell_type": "markdown",
   "id": "142fe844-2d5e-4326-a34f-8936dd50d0ea",
   "metadata": {},
   "source": [
    "**TASK 2:** Using multiple models (from starter kit, 6-month hackathon, or evaluations), calibrate (either independently or as a whole), and evaluate error. Produce outputs in CDC forecasting challenge format, including specified quantiles."
   ]
  },
  {
   "cell_type": "code",
   "execution_count": null,
   "id": "ddfba6bd-3273-45a4-9d84-af8b1e82b9a5",
   "metadata": {},
   "outputs": [],
   "source": []
  }
 ],
 "metadata": {
  "kernelspec": {
   "display_name": "Python 3 (ipykernel)",
   "language": "python",
   "name": "python3"
  },
  "language_info": {
   "codemirror_mode": {
    "name": "ipython",
    "version": 3
   },
   "file_extension": ".py",
   "mimetype": "text/x-python",
   "name": "python",
   "nbconvert_exporter": "python",
   "pygments_lexer": "ipython3",
   "version": "3.10.12"
  }
 },
 "nbformat": 4,
 "nbformat_minor": 5
}
