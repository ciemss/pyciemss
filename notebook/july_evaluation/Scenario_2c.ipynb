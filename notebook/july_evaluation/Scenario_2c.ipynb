{
 "cells": [
  {
   "cell_type": "markdown",
   "id": "43c79f05-d6a8-4ace-9ff2-f40e0752c64b",
   "metadata": {},
   "source": [
    "# Scenario 2 subtask c: Adding Children Vaccinations"
   ]
  },
  {
   "cell_type": "markdown",
   "id": "bc1bd7e3-3c2b-4190-bef6-e5d448c9f4a8",
   "metadata": {},
   "source": [
    "**Background:** 09/1/2021 (September) in New York State. Imagine all children started being vaccinated as of 08/01/2021 (August) at a rate of 0.5% of age group per day."
   ]
  },
  {
   "attachments": {},
   "cell_type": "markdown",
   "id": "673c6d91-d607-424a-960b-26ac7730e478",
   "metadata": {},
   "source": [
    "**TASK 1:** Forecast [unspecified variables] over the entire month (30 days). ALL school attendess (vax and un-vax) must wear masks."
   ]
  },
  {
   "cell_type": "code",
   "execution_count": null,
   "id": "08f0cea4-926b-4c80-8b9e-7bc520021857",
   "metadata": {},
   "outputs": [],
   "source": []
  },
  {
   "cell_type": "markdown",
   "id": "942194cb-9cb3-423a-a8f7-5e8e65ee96c7",
   "metadata": {},
   "source": [
    "**TASK 2:** Forecast again. ONLY UNVACCINATED school attendess must wear masks."
   ]
  },
  {
   "cell_type": "code",
   "execution_count": null,
   "id": "1bbb8254-8ce5-4869-9dc1-ff7777ed19ab",
   "metadata": {},
   "outputs": [],
   "source": []
  },
  {
   "cell_type": "markdown",
   "id": "aaff0659-c1cf-4930-917f-02e16eb8dcba",
   "metadata": {},
   "source": [
    "**TASK 3:** Forecast again. NO ONE must wear masks"
   ]
  },
  {
   "cell_type": "code",
   "execution_count": null,
   "id": "5e4556f9-fbf7-48dd-9c51-b453eaa2de26",
   "metadata": {},
   "outputs": [],
   "source": []
  }
 ],
 "metadata": {
  "kernelspec": {
   "display_name": "Python 3 (ipykernel)",
   "language": "python",
   "name": "python3"
  },
  "language_info": {
   "codemirror_mode": {
    "name": "ipython",
    "version": 3
   },
   "file_extension": ".py",
   "mimetype": "text/x-python",
   "name": "python",
   "nbconvert_exporter": "python",
   "pygments_lexer": "ipython3",
   "version": "3.10.12"
  }
 },
 "nbformat": 4,
 "nbformat_minor": 5
}
