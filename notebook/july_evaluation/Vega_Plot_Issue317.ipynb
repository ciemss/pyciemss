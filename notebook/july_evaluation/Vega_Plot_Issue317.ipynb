{
 "cells": [
  {
   "cell_type": "markdown",
   "id": "7dd43991-aa68-483c-b391-996860e72a0e",
   "metadata": {},
   "source": [
    "This notebook is to demonstrate a current issue with vega plots handling multiple data streams. Please see [Issue #317](https://github.com/ciemss/pyciemss/issues/317) on the PyCIEMSS GitHub."
   ]
  },
  {
   "cell_type": "code",
   "execution_count": 1,
   "id": "f25e8bae-492c-4fe2-addb-e898784bfc78",
   "metadata": {},
   "outputs": [],
   "source": [
    "import os\n",
    "import pandas as pd\n",
    "import numpy as np\n",
    "from pyciemss.PetriNetODE.interfaces import (\n",
    "    load_and_sample_petri_model,\n",
    ")\n",
    "from pyciemss.visuals import plots"
   ]
  },
  {
   "cell_type": "code",
   "execution_count": 2,
   "id": "f40bbbdf-48e4-4230-a3ac-96fa46113d6f",
   "metadata": {},
   "outputs": [],
   "source": [
    "model_location = \"../../notebook/july_evaluation/scenario1_a_ii_1.json\""
   ]
  },
  {
   "cell_type": "code",
   "execution_count": 3,
   "id": "c5e915d8-0a11-43ae-a413-d86ec673fdd9",
   "metadata": {},
   "outputs": [],
   "source": [
    "url = 'https://raw.githubusercontent.com/DARPA-ASKEM/experiments/main/thin-thread-examples/milestone_12month/evaluation/ensemble_eval_SA/datasets/aabb3684-a7ea-4f60-98f1-a8e673ad6df5/dataset.csv'\n",
    "ny_data = pd.read_csv(url)\n",
    "\n",
    "# Grab test data for four-week forecast (04/03/2020 - 05/01/2020)\n",
    "test_data = ny_data[41:101].reset_index()\n",
    "test_data = test_data.drop(columns=\"timestep\")\n",
    "test_data = test_data.drop(columns=\"index\")\n",
    "\n",
    "# Set timepoints\n",
    "start_timepoint = 0\n",
    "stop_timepoint = 50 # simulate for four weeks after end of data\n",
    "timepoints = [float(i) for i in range(stop_timepoint + 1)]"
   ]
  },
  {
   "cell_type": "code",
   "execution_count": 4,
   "id": "d29f1b12-1fce-434f-90bd-845bfa81ccec",
   "metadata": {},
   "outputs": [
    {
     "name": "stdout",
     "output_type": "stream",
     "text": [
      "\n"
     ]
    },
    {
     "data": {
      "application/vnd.vega.v5+json": {
       "$schema": "https://vega.github.io/schema/vega/v5.json",
       "axes": [
        {
         "name": "x_axis",
         "orient": "bottom",
         "scale": "xscale",
         "zindex": 100
        },
        {
         "name": "y_axis",
         "orient": "left",
         "scale": "yscale",
         "zindex": 100
        }
       ],
       "data": [
        {
         "name": "distributions",
         "values": [
          {
           "lower": 0,
           "timepoint": 0,
           "trajectory": "D_sol",
           "upper": 0
          },
          {
           "lower": 9.600001051263476e-14,
           "timepoint": 1,
           "trajectory": "D_sol",
           "upper": 9.600001051263476e-14
          },
          {
           "lower": 0.0009600000339560211,
           "timepoint": 2,
           "trajectory": "D_sol",
           "upper": 0.0009600000339560211
          },
          {
           "lower": 0.0027590401004999876,
           "timepoint": 3,
           "trajectory": "D_sol",
           "upper": 0.0027590401004999876
          },
          {
           "lower": 0.005338153336197138,
           "timepoint": 4,
           "trajectory": "D_sol",
           "upper": 0.005338153336197138
          },
          {
           "lower": 0.008679276332259178,
           "timepoint": 5,
           "trajectory": "D_sol",
           "upper": 0.008679276332259178
          },
          {
           "lower": 0.012792614288628101,
           "timepoint": 6,
           "trajectory": "D_sol",
           "upper": 0.012792614288628101
          },
          {
           "lower": 0.017709195613861084,
           "timepoint": 7,
           "trajectory": "D_sol",
           "upper": 0.017709195613861084
          },
          {
           "lower": 0.023476634174585342,
           "timepoint": 8,
           "trajectory": "D_sol",
           "upper": 0.023476634174585342
          },
          {
           "lower": 0.030156884342432022,
           "timepoint": 9,
           "trajectory": "D_sol",
           "upper": 0.030156884342432022
          },
          {
           "lower": 0.037825264036655426,
           "timepoint": 10,
           "trajectory": "D_sol",
           "upper": 0.037825264036655426
          },
          {
           "lower": 0.0465703122317791,
           "timepoint": 11,
           "trajectory": "D_sol",
           "upper": 0.0465703122317791
          },
          {
           "lower": 0.056494202464818954,
           "timepoint": 12,
           "trajectory": "D_sol",
           "upper": 0.056494202464818954
          },
          {
           "lower": 0.06771355867385864,
           "timepoint": 13,
           "trajectory": "D_sol",
           "upper": 0.06771355867385864
          },
          {
           "lower": 0.08036061376333237,
           "timepoint": 14,
           "trajectory": "D_sol",
           "upper": 0.08036061376333237
          },
          {
           "lower": 0.09458461403846741,
           "timepoint": 15,
           "trajectory": "D_sol",
           "upper": 0.09458461403846741
          },
          {
           "lower": 0.11055351793766022,
           "timepoint": 16,
           "trajectory": "D_sol",
           "upper": 0.11055351793766022
          },
          {
           "lower": 0.12845590710639954,
           "timepoint": 17,
           "trajectory": "D_sol",
           "upper": 0.12845590710639954
          },
          {
           "lower": 0.14850318431854248,
           "timepoint": 18,
           "trajectory": "D_sol",
           "upper": 0.14850318431854248
          },
          {
           "lower": 0.1709320843219757,
           "timepoint": 19,
           "trajectory": "D_sol",
           "upper": 0.1709320843219757
          },
          {
           "lower": 0.1960074007511139,
           "timepoint": 20,
           "trajectory": "D_sol",
           "upper": 0.1960074007511139
          },
          {
           "lower": 0.224025160074234,
           "timepoint": 21,
           "trajectory": "D_sol",
           "upper": 0.224025160074234
          },
          {
           "lower": 0.2553160488605499,
           "timepoint": 22,
           "trajectory": "D_sol",
           "upper": 0.2553160488605499
          },
          {
           "lower": 0.29024940729141235,
           "timepoint": 23,
           "trajectory": "D_sol",
           "upper": 0.29024940729141235
          },
          {
           "lower": 0.3292374908924103,
           "timepoint": 24,
           "trajectory": "D_sol",
           "upper": 0.3292374908924103
          },
          {
           "lower": 0.37274038791656494,
           "timepoint": 25,
           "trajectory": "D_sol",
           "upper": 0.37274038791656494
          },
          {
           "lower": 0.421271413564682,
           "timepoint": 26,
           "trajectory": "D_sol",
           "upper": 0.421271413564682
          },
          {
           "lower": 0.47540321946144104,
           "timepoint": 27,
           "trajectory": "D_sol",
           "upper": 0.47540321946144104
          },
          {
           "lower": 0.5357745289802551,
           "timepoint": 28,
           "trajectory": "D_sol",
           "upper": 0.5357745289802551
          },
          {
           "lower": 0.6030976176261902,
           "timepoint": 29,
           "trajectory": "D_sol",
           "upper": 0.6030976176261902
          },
          {
           "lower": 0.6781668066978455,
           "timepoint": 30,
           "trajectory": "D_sol",
           "upper": 0.6781668066978455
          },
          {
           "lower": 0.7618677020072937,
           "timepoint": 31,
           "trajectory": "D_sol",
           "upper": 0.7618677020072937
          },
          {
           "lower": 0.8551878929138184,
           "timepoint": 32,
           "trajectory": "D_sol",
           "upper": 0.8551878929138184
          },
          {
           "lower": 0.9592282772064209,
           "timepoint": 33,
           "trajectory": "D_sol",
           "upper": 0.9592282772064209
          },
          {
           "lower": 1.075216293334961,
           "timepoint": 34,
           "trajectory": "D_sol",
           "upper": 1.075216293334961
          },
          {
           "lower": 1.204520344734192,
           "timepoint": 35,
           "trajectory": "D_sol",
           "upper": 1.204520344734192
          },
          {
           "lower": 1.348665714263916,
           "timepoint": 36,
           "trajectory": "D_sol",
           "upper": 1.348665714263916
          },
          {
           "lower": 1.5093530416488647,
           "timepoint": 37,
           "trajectory": "D_sol",
           "upper": 1.5093530416488647
          },
          {
           "lower": 1.6884779930114746,
           "timepoint": 38,
           "trajectory": "D_sol",
           "upper": 1.6884779930114746
          },
          {
           "lower": 1.8881536722183228,
           "timepoint": 39,
           "trajectory": "D_sol",
           "upper": 1.8881536722183228
          },
          {
           "lower": 2.1107356548309326,
           "timepoint": 40,
           "trajectory": "D_sol",
           "upper": 2.1107356548309326
          },
          {
           "lower": 2.3588497638702393,
           "timepoint": 41,
           "trajectory": "D_sol",
           "upper": 2.3588497638702393
          },
          {
           "lower": 2.635422945022583,
           "timepoint": 42,
           "trajectory": "D_sol",
           "upper": 2.635422945022583
          },
          {
           "lower": 2.9437177181243896,
           "timepoint": 43,
           "trajectory": "D_sol",
           "upper": 2.9437177181243896
          },
          {
           "lower": 3.2873711585998535,
           "timepoint": 44,
           "trajectory": "D_sol",
           "upper": 3.2873711585998535
          },
          {
           "lower": 3.6704370975494385,
           "timepoint": 45,
           "trajectory": "D_sol",
           "upper": 3.6704370975494385
          },
          {
           "lower": 4.0974345207214355,
           "timepoint": 46,
           "trajectory": "D_sol",
           "upper": 4.0974345207214355
          },
          {
           "lower": 4.573400020599365,
           "timepoint": 47,
           "trajectory": "D_sol",
           "upper": 4.573400020599365
          },
          {
           "lower": 5.103948593139648,
           "timepoint": 48,
           "trajectory": "D_sol",
           "upper": 5.103948593139648
          },
          {
           "lower": 5.695338726043701,
           "timepoint": 49,
           "trajectory": "D_sol",
           "upper": 5.695338726043701
          },
          {
           "lower": 6.354546546936035,
           "timepoint": 50,
           "trajectory": "D_sol",
           "upper": 6.354546546936035
          },
          {
           "lower": 1,
           "timepoint": 0,
           "trajectory": "E_sol",
           "upper": 1
          },
          {
           "lower": 1.999999761581421,
           "timepoint": 1,
           "trajectory": "E_sol",
           "upper": 1.999999761581421
          },
          {
           "lower": 2.768799304962158,
           "timepoint": 2,
           "trajectory": "E_sol",
           "upper": 2.768799304962158
          },
          {
           "lower": 3.4150102138519287,
           "timepoint": 3,
           "trajectory": "E_sol",
           "upper": 3.4150102138519287
          },
          {
           "lower": 4.006908893585205,
           "timepoint": 4,
           "trajectory": "E_sol",
           "upper": 4.006908893585205
          },
          {
           "lower": 4.588435649871826,
           "timepoint": 5,
           "trajectory": "E_sol",
           "upper": 4.588435649871826
          },
          {
           "lower": 5.18897008895874,
           "timepoint": 6,
           "trajectory": "E_sol",
           "upper": 5.18897008895874
          },
          {
           "lower": 5.829319000244141,
           "timepoint": 7,
           "trajectory": "E_sol",
           "upper": 5.829319000244141
          },
          {
           "lower": 6.525396347045898,
           "timepoint": 8,
           "trajectory": "E_sol",
           "upper": 6.525396347045898
          },
          {
           "lower": 7.2905097007751465,
           "timepoint": 9,
           "trajectory": "E_sol",
           "upper": 7.2905097007751465
          },
          {
           "lower": 8.136789321899414,
           "timepoint": 10,
           "trajectory": "E_sol",
           "upper": 8.136789321899414
          },
          {
           "lower": 9.076108932495117,
           "timepoint": 11,
           "trajectory": "E_sol",
           "upper": 9.076108932495117
          },
          {
           "lower": 10.12070369720459,
           "timepoint": 12,
           "trajectory": "E_sol",
           "upper": 10.12070369720459
          },
          {
           "lower": 11.283598899841309,
           "timepoint": 13,
           "trajectory": "E_sol",
           "upper": 11.283598899841309
          },
          {
           "lower": 12.578941345214844,
           "timepoint": 14,
           "trajectory": "E_sol",
           "upper": 12.578941345214844
          },
          {
           "lower": 14.022272109985352,
           "timepoint": 15,
           "trajectory": "E_sol",
           "upper": 14.022272109985352
          },
          {
           "lower": 15.630777359008789,
           "timepoint": 16,
           "trajectory": "E_sol",
           "upper": 15.630777359008789
          },
          {
           "lower": 17.42353057861328,
           "timepoint": 17,
           "trajectory": "E_sol",
           "upper": 17.42353057861328
          },
          {
           "lower": 19.42173957824707,
           "timepoint": 18,
           "trajectory": "E_sol",
           "upper": 19.42173957824707
          },
          {
           "lower": 21.64901351928711,
           "timepoint": 19,
           "trajectory": "E_sol",
           "upper": 21.64901351928711
          },
          {
           "lower": 24.131649017333984,
           "timepoint": 20,
           "trajectory": "E_sol",
           "upper": 24.131649017333984
          },
          {
           "lower": 26.89894676208496,
           "timepoint": 21,
           "trajectory": "E_sol",
           "upper": 26.89894676208496
          },
          {
           "lower": 29.983558654785156,
           "timepoint": 22,
           "trajectory": "E_sol",
           "upper": 29.983558654785156
          },
          {
           "lower": 33.42188262939453,
           "timepoint": 23,
           "trajectory": "E_sol",
           "upper": 33.42188262939453
          },
          {
           "lower": 37.254478454589844,
           "timepoint": 24,
           "trajectory": "E_sol",
           "upper": 37.254478454589844
          },
          {
           "lower": 41.52656173706055,
           "timepoint": 25,
           "trajectory": "E_sol",
           "upper": 41.52656173706055
          },
          {
           "lower": 46.28853225708008,
           "timepoint": 26,
           "trajectory": "E_sol",
           "upper": 46.28853225708008
          },
          {
           "lower": 51.59656524658203,
           "timepoint": 27,
           "trajectory": "E_sol",
           "upper": 51.59656524658203
          },
          {
           "lower": 57.513275146484375,
           "timepoint": 28,
           "trajectory": "E_sol",
           "upper": 57.513275146484375
          },
          {
           "lower": 64.10845947265625,
           "timepoint": 29,
           "trajectory": "E_sol",
           "upper": 64.10845947265625
          },
          {
           "lower": 71.45992279052734,
           "timepoint": 30,
           "trajectory": "E_sol",
           "upper": 71.45992279052734
          },
          {
           "lower": 79.65438079833984,
           "timepoint": 31,
           "trajectory": "E_sol",
           "upper": 79.65438079833984
          },
          {
           "lower": 88.78850555419922,
           "timepoint": 32,
           "trajectory": "E_sol",
           "upper": 88.78850555419922
          },
          {
           "lower": 98.97003173828125,
           "timepoint": 33,
           "trajectory": "E_sol",
           "upper": 98.97003173828125
          },
          {
           "lower": 110.31907653808594,
           "timepoint": 34,
           "trajectory": "E_sol",
           "upper": 110.31907653808594
          },
          {
           "lower": 122.96949768066406,
           "timepoint": 35,
           "trajectory": "E_sol",
           "upper": 122.96949768066406
          },
          {
           "lower": 137.07052612304688,
           "timepoint": 36,
           "trajectory": "E_sol",
           "upper": 137.07052612304688
          },
          {
           "lower": 152.78848266601562,
           "timepoint": 37,
           "trajectory": "E_sol",
           "upper": 152.78848266601562
          },
          {
           "lower": 170.3087921142578,
           "timepoint": 38,
           "trajectory": "E_sol",
           "upper": 170.3087921142578
          },
          {
           "lower": 189.83807373046875,
           "timepoint": 39,
           "trajectory": "E_sol",
           "upper": 189.83807373046875
          },
          {
           "lower": 211.606689453125,
           "timepoint": 40,
           "trajectory": "E_sol",
           "upper": 211.606689453125
          },
          {
           "lower": 235.8714141845703,
           "timepoint": 41,
           "trajectory": "E_sol",
           "upper": 235.8714141845703
          },
          {
           "lower": 262.9184265136719,
           "timepoint": 42,
           "trajectory": "E_sol",
           "upper": 262.9184265136719
          },
          {
           "lower": 293.06671142578125,
           "timepoint": 43,
           "trajectory": "E_sol",
           "upper": 293.06671142578125
          },
          {
           "lower": 326.6718444824219,
           "timepoint": 44,
           "trajectory": "E_sol",
           "upper": 326.6718444824219
          },
          {
           "lower": 364.130126953125,
           "timepoint": 45,
           "trajectory": "E_sol",
           "upper": 364.130126953125
          },
          {
           "lower": 405.88330078125,
           "timepoint": 46,
           "trajectory": "E_sol",
           "upper": 405.88330078125
          },
          {
           "lower": 452.4237365722656,
           "timepoint": 47,
           "trajectory": "E_sol",
           "upper": 452.4237365722656
          },
          {
           "lower": 504.3002624511719,
           "timepoint": 48,
           "trajectory": "E_sol",
           "upper": 504.3002624511719
          },
          {
           "lower": 562.12451171875,
           "timepoint": 49,
           "trajectory": "E_sol",
           "upper": 562.12451171875
          },
          {
           "lower": 626.5783081054688,
           "timepoint": 50,
           "trajectory": "E_sol",
           "upper": 626.5783081054688
          },
          {
           "lower": 8.000000835395316e-12,
           "timepoint": 0,
           "trajectory": "H_sol",
           "upper": 8.000000835395316e-12
          },
          {
           "lower": 0.08000000566244125,
           "timepoint": 1,
           "trajectory": "H_sol",
           "upper": 0.08000000566244125
          },
          {
           "lower": 0.1499200165271759,
           "timepoint": 2,
           "trajectory": "H_sol",
           "upper": 0.1499200165271759
          },
          {
           "lower": 0.2149260938167572,
           "timepoint": 3,
           "trajectory": "H_sol",
           "upper": 0.2149260938167572
          },
          {
           "lower": 0.2784268856048584,
           "timepoint": 4,
           "trajectory": "H_sol",
           "upper": 0.2784268856048584
          },
          {
           "lower": 0.34277814626693726,
           "timepoint": 5,
           "trajectory": "H_sol",
           "upper": 0.34277814626693726
          },
          {
           "lower": 0.4097151756286621,
           "timepoint": 6,
           "trajectory": "H_sol",
           "upper": 0.4097151756286621
          },
          {
           "lower": 0.4806199073791504,
           "timepoint": 7,
           "trajectory": "H_sol",
           "upper": 0.4806199073791504
          },
          {
           "lower": 0.5566874742507935,
           "timepoint": 8,
           "trajectory": "H_sol",
           "upper": 0.5566874742507935
          },
          {
           "lower": 0.639031708240509,
           "timepoint": 9,
           "trajectory": "H_sol",
           "upper": 0.639031708240509
          },
          {
           "lower": 0.7287541031837463,
           "timepoint": 10,
           "trajectory": "H_sol",
           "upper": 0.7287541031837463
          },
          {
           "lower": 0.8269907832145691,
           "timepoint": 11,
           "trajectory": "H_sol",
           "upper": 0.8269907832145691
          },
          {
           "lower": 0.9349464178085327,
           "timepoint": 12,
           "trajectory": "H_sol",
           "upper": 0.9349464178085327
          },
          {
           "lower": 1.053921103477478,
           "timepoint": 13,
           "trajectory": "H_sol",
           "upper": 1.053921103477478
          },
          {
           "lower": 1.185333490371704,
           "timepoint": 14,
           "trajectory": "H_sol",
           "upper": 1.185333490371704
          },
          {
           "lower": 1.3307418823242188,
           "timepoint": 15,
           "trajectory": "H_sol",
           "upper": 1.3307418823242188
          },
          {
           "lower": 1.491865634918213,
           "timepoint": 16,
           "trajectory": "H_sol",
           "upper": 1.491865634918213
          },
          {
           "lower": 1.670607089996338,
           "timepoint": 17,
           "trajectory": "H_sol",
           "upper": 1.670607089996338
          },
          {
           "lower": 1.869075059890747,
           "timepoint": 18,
           "trajectory": "H_sol",
           "upper": 1.869075059890747
          },
          {
           "lower": 2.0896100997924805,
           "timepoint": 19,
           "trajectory": "H_sol",
           "upper": 2.0896100997924805
          },
          {
           "lower": 2.334812879562378,
           "timepoint": 20,
           "trajectory": "H_sol",
           "upper": 2.334812879562378
          },
          {
           "lower": 2.6075751781463623,
           "timepoint": 21,
           "trajectory": "H_sol",
           "upper": 2.6075751781463623
          },
          {
           "lower": 2.9111132621765137,
           "timepoint": 22,
           "trajectory": "H_sol",
           "upper": 2.9111132621765137
          },
          {
           "lower": 3.249006748199463,
           "timepoint": 23,
           "trajectory": "H_sol",
           "upper": 3.249006748199463
          },
          {
           "lower": 3.6252410411834717,
           "timepoint": 24,
           "trajectory": "H_sol",
           "upper": 3.6252410411834717
          },
          {
           "lower": 4.044252872467041,
           "timepoint": 25,
           "trajectory": "H_sol",
           "upper": 4.044252872467041
          },
          {
           "lower": 4.510984897613525,
           "timepoint": 26,
           "trajectory": "H_sol",
           "upper": 4.510984897613525
          },
          {
           "lower": 5.030941963195801,
           "timepoint": 27,
           "trajectory": "H_sol",
           "upper": 5.030941963195801
          },
          {
           "lower": 5.610257148742676,
           "timepoint": 28,
           "trajectory": "H_sol",
           "upper": 5.610257148742676
          },
          {
           "lower": 6.255764007568359,
           "timepoint": 29,
           "trajectory": "H_sol",
           "upper": 6.255764007568359
          },
          {
           "lower": 6.975076675415039,
           "timepoint": 30,
           "trajectory": "H_sol",
           "upper": 6.975076675415039
          },
          {
           "lower": 7.7766804695129395,
           "timepoint": 31,
           "trajectory": "H_sol",
           "upper": 7.7766804695129395
          },
          {
           "lower": 8.670031547546387,
           "timepoint": 32,
           "trajectory": "H_sol",
           "upper": 8.670031547546387
          },
          {
           "lower": 9.665667533874512,
           "timepoint": 33,
           "trajectory": "H_sol",
           "upper": 9.665667533874512
          },
          {
           "lower": 10.775333404541016,
           "timepoint": 34,
           "trajectory": "H_sol",
           "upper": 10.775333404541016
          },
          {
           "lower": 12.01211929321289,
           "timepoint": 35,
           "trajectory": "H_sol",
           "upper": 12.01211929321289
          },
          {
           "lower": 13.39061450958252,
           "timepoint": 36,
           "trajectory": "H_sol",
           "upper": 13.39061450958252
          },
          {
           "lower": 14.927080154418945,
           "timepoint": 37,
           "trajectory": "H_sol",
           "upper": 14.927080154418945
          },
          {
           "lower": 16.63964080810547,
           "timepoint": 38,
           "trajectory": "H_sol",
           "upper": 16.63964080810547
          },
          {
           "lower": 18.548500061035156,
           "timepoint": 39,
           "trajectory": "H_sol",
           "upper": 18.548500061035156
          },
          {
           "lower": 20.67617416381836,
           "timepoint": 40,
           "trajectory": "H_sol",
           "upper": 20.67617416381836
          },
          {
           "lower": 23.047760009765625,
           "timepoint": 41,
           "trajectory": "H_sol",
           "upper": 23.047760009765625
          },
          {
           "lower": 25.691234588623047,
           "timepoint": 42,
           "trajectory": "H_sol",
           "upper": 25.691234588623047
          },
          {
           "lower": 28.637781143188477,
           "timepoint": 43,
           "trajectory": "H_sol",
           "upper": 28.637781143188477
          },
          {
           "lower": 31.922157287597656,
           "timepoint": 44,
           "trajectory": "H_sol",
           "upper": 31.922157287597656
          },
          {
           "lower": 35.58310317993164,
           "timepoint": 45,
           "trajectory": "H_sol",
           "upper": 35.58310317993164
          },
          {
           "lower": 39.66379928588867,
           "timepoint": 46,
           "trajectory": "H_sol",
           "upper": 39.66379928588867
          },
          {
           "lower": 44.21238327026367,
           "timepoint": 47,
           "trajectory": "H_sol",
           "upper": 44.21238327026367
          },
          {
           "lower": 49.28250503540039,
           "timepoint": 48,
           "trajectory": "H_sol",
           "upper": 49.28250503540039
          },
          {
           "lower": 54.93396759033203,
           "timepoint": 49,
           "trajectory": "H_sol",
           "upper": 54.93396759033203
          },
          {
           "lower": 61.23342514038086,
           "timepoint": 50,
           "trajectory": "H_sol",
           "upper": 61.23342514038086
          },
          {
           "lower": 4,
           "timepoint": 0,
           "trajectory": "I_sol",
           "upper": 4
          },
          {
           "lower": 3.8959999084472656,
           "timepoint": 1,
           "trajectory": "I_sol",
           "upper": 3.8959999084472656
          },
          {
           "lower": 3.999903917312622,
           "timepoint": 2,
           "trajectory": "I_sol",
           "upper": 3.999903917312622
          },
          {
           "lower": 4.24967098236084,
           "timepoint": 3,
           "trajectory": "I_sol",
           "upper": 4.24967098236084
          },
          {
           "lower": 4.6096978187561035,
           "timepoint": 4,
           "trajectory": "I_sol",
           "upper": 4.6096978187561035
          },
          {
           "lower": 5.060742378234863,
           "timepoint": 5,
           "trajectory": "I_sol",
           "upper": 5.060742378234863
          },
          {
           "lower": 5.593812942504883,
           "timepoint": 6,
           "trajectory": "I_sol",
           "upper": 5.593812942504883
          },
          {
           "lower": 6.206477165222168,
           "timepoint": 7,
           "trajectory": "I_sol",
           "upper": 6.206477165222168
          },
          {
           "lower": 6.900648593902588,
           "timepoint": 8,
           "trajectory": "I_sol",
           "upper": 6.900648593902588
          },
          {
           "lower": 7.681278705596924,
           "timepoint": 9,
           "trajectory": "I_sol",
           "upper": 7.681278705596924
          },
          {
           "lower": 8.55560302734375,
           "timepoint": 10,
           "trajectory": "I_sol",
           "upper": 8.55560302734375
          },
          {
           "lower": 9.532734870910645,
           "timepoint": 11,
           "trajectory": "I_sol",
           "upper": 9.532734870910645
          },
          {
           "lower": 10.623468399047852,
           "timepoint": 12,
           "trajectory": "I_sol",
           "upper": 10.623468399047852
          },
          {
           "lower": 11.840225219726562,
           "timepoint": 13,
           "trajectory": "I_sol",
           "upper": 11.840225219726562
          },
          {
           "lower": 13.197088241577148,
           "timepoint": 14,
           "trajectory": "I_sol",
           "upper": 13.197088241577148
          },
          {
           "lower": 14.709897994995117,
           "timepoint": 15,
           "trajectory": "I_sol",
           "upper": 14.709897994995117
          },
          {
           "lower": 16.396400451660156,
           "timepoint": 16,
           "trajectory": "I_sol",
           "upper": 16.396400451660156
          },
          {
           "lower": 18.276430130004883,
           "timepoint": 17,
           "trajectory": "I_sol",
           "upper": 18.276430130004883
          },
          {
           "lower": 20.372127532958984,
           "timepoint": 18,
           "trajectory": "I_sol",
           "upper": 20.372127532958984
          },
          {
           "lower": 22.708194732666016,
           "timepoint": 19,
           "trajectory": "I_sol",
           "upper": 22.708194732666016
          },
          {
           "lower": 25.312175750732422,
           "timepoint": 20,
           "trajectory": "I_sol",
           "upper": 25.312175750732422
          },
          {
           "lower": 28.214778900146484,
           "timepoint": 21,
           "trajectory": "I_sol",
           "upper": 28.214778900146484
          },
          {
           "lower": 31.450244903564453,
           "timepoint": 22,
           "trajectory": "I_sol",
           "upper": 31.450244903564453
          },
          {
           "lower": 35.056739807128906,
           "timepoint": 23,
           "trajectory": "I_sol",
           "upper": 35.056739807128906
          },
          {
           "lower": 39.076805114746094,
           "timepoint": 24,
           "trajectory": "I_sol",
           "upper": 39.076805114746094
          },
          {
           "lower": 43.557865142822266,
           "timepoint": 25,
           "trajectory": "I_sol",
           "upper": 43.557865142822266
          },
          {
           "lower": 48.55278015136719,
           "timepoint": 26,
           "trajectory": "I_sol",
           "upper": 48.55278015136719
          },
          {
           "lower": 54.12047576904297,
           "timepoint": 27,
           "trajectory": "I_sol",
           "upper": 54.12047576904297
          },
          {
           "lower": 60.32663345336914,
           "timepoint": 28,
           "trajectory": "I_sol",
           "upper": 60.32663345336914
          },
          {
           "lower": 67.24446105957031,
           "timepoint": 29,
           "trajectory": "I_sol",
           "upper": 67.24446105957031
          },
          {
           "lower": 74.95557403564453,
           "timepoint": 30,
           "trajectory": "I_sol",
           "upper": 74.95557403564453
          },
          {
           "lower": 83.55093383789062,
           "timepoint": 31,
           "trajectory": "I_sol",
           "upper": 83.55093383789062
          },
          {
           "lower": 93.13194274902344,
           "timepoint": 32,
           "trajectory": "I_sol",
           "upper": 93.13194274902344
          },
          {
           "lower": 103.81161499023438,
           "timepoint": 33,
           "trajectory": "I_sol",
           "upper": 103.81161499023438
          },
          {
           "lower": 115.7159423828125,
           "timepoint": 34,
           "trajectory": "I_sol",
           "upper": 115.7159423828125
          },
          {
           "lower": 128.9853515625,
           "timepoint": 35,
           "trajectory": "I_sol",
           "upper": 128.9853515625
          },
          {
           "lower": 143.7763671875,
           "timepoint": 36,
           "trajectory": "I_sol",
           "upper": 143.7763671875
          },
          {
           "lower": 160.2634735107422,
           "timepoint": 37,
           "trajectory": "I_sol",
           "upper": 160.2634735107422
          },
          {
           "lower": 178.64114379882812,
           "timepoint": 38,
           "trajectory": "I_sol",
           "upper": 178.64114379882812
          },
          {
           "lower": 199.1261749267578,
           "timepoint": 39,
           "trajectory": "I_sol",
           "upper": 199.1261749267578
          },
          {
           "lower": 221.960205078125,
           "timepoint": 40,
           "trajectory": "I_sol",
           "upper": 221.960205078125
          },
          {
           "lower": 247.41256713867188,
           "timepoint": 41,
           "trajectory": "I_sol",
           "upper": 247.41256713867188
          },
          {
           "lower": 275.78350830078125,
           "timepoint": 42,
           "trajectory": "I_sol",
           "upper": 275.78350830078125
          },
          {
           "lower": 307.40765380859375,
           "timepoint": 43,
           "trajectory": "I_sol",
           "upper": 307.40765380859375
          },
          {
           "lower": 342.65802001953125,
           "timepoint": 44,
           "trajectory": "I_sol",
           "upper": 342.65802001953125
          },
          {
           "lower": 381.95037841796875,
           "timepoint": 45,
           "trajectory": "I_sol",
           "upper": 381.95037841796875
          },
          {
           "lower": 425.7481689453125,
           "timepoint": 46,
           "trajectory": "I_sol",
           "upper": 425.7481689453125
          },
          {
           "lower": 474.5679626464844,
           "timepoint": 47,
           "trajectory": "I_sol",
           "upper": 474.5679626464844
          },
          {
           "lower": 528.9855346679688,
           "timepoint": 48,
           "trajectory": "I_sol",
           "upper": 528.9855346679688
          },
          {
           "lower": 589.6427001953125,
           "timepoint": 49,
           "trajectory": "I_sol",
           "upper": 589.6427001953125
          },
          {
           "lower": 657.2547607421875,
           "timepoint": 50,
           "trajectory": "I_sol",
           "upper": 657.2547607421875
          },
          {
           "lower": 2.2400000257438712e-11,
           "timepoint": 0,
           "trajectory": "R_sol",
           "upper": 2.2400000257438712e-11
          },
          {
           "lower": 0.2240000069141388,
           "timepoint": 1,
           "trajectory": "R_sol",
           "upper": 0.2240000069141388
          },
          {
           "lower": 0.44921600818634033,
           "timepoint": 2,
           "trajectory": "R_sol",
           "upper": 0.44921600818634033
          },
          {
           "lower": 0.6864036321640015,
           "timepoint": 3,
           "trajectory": "R_sol",
           "upper": 0.6864036321640015
          },
          {
           "lower": 0.9432986974716187,
           "timepoint": 4,
           "trajectory": "R_sol",
           "upper": 0.9432986974716187
          },
          {
           "lower": 1.2259433269500732,
           "timepoint": 5,
           "trajectory": "R_sol",
           "upper": 1.2259433269500732
          },
          {
           "lower": 1.5395094156265259,
           "timepoint": 6,
           "trajectory": "R_sol",
           "upper": 1.5395094156265259
          },
          {
           "lower": 1.8888179063796997,
           "timepoint": 7,
           "trajectory": "R_sol",
           "upper": 1.8888179063796997
          },
          {
           "lower": 2.278675079345703,
           "timepoint": 8,
           "trajectory": "R_sol",
           "upper": 2.278675079345703
          },
          {
           "lower": 2.714099884033203,
           "timepoint": 9,
           "trajectory": "R_sol",
           "upper": 2.714099884033203
          },
          {
           "lower": 3.200486183166504,
           "timepoint": 10,
           "trajectory": "R_sol",
           "upper": 3.200486183166504
          },
          {
           "lower": 3.743730306625366,
           "timepoint": 11,
           "trajectory": "R_sol",
           "upper": 3.743730306625366
          },
          {
           "lower": 4.350338459014893,
           "timepoint": 12,
           "trajectory": "R_sol",
           "upper": 4.350338459014893
          },
          {
           "lower": 5.027527809143066,
           "timepoint": 13,
           "trajectory": "R_sol",
           "upper": 5.027527809143066
          },
          {
           "lower": 5.783325672149658,
           "timepoint": 14,
           "trajectory": "R_sol",
           "upper": 5.783325672149658
          },
          {
           "lower": 6.62667179107666,
           "timepoint": 15,
           "trajectory": "R_sol",
           "upper": 6.62667179107666
          },
          {
           "lower": 7.567531585693359,
           "timepoint": 16,
           "trajectory": "R_sol",
           "upper": 7.567531585693359
          },
          {
           "lower": 8.617013931274414,
           "timepoint": 17,
           "trajectory": "R_sol",
           "upper": 8.617013931274414
          },
          {
           "lower": 9.787507057189941,
           "timepoint": 18,
           "trajectory": "R_sol",
           "upper": 9.787507057189941
          },
          {
           "lower": 11.092824935913086,
           "timepoint": 19,
           "trajectory": "R_sol",
           "upper": 11.092824935913086
          },
          {
           "lower": 12.548369407653809,
           "timepoint": 20,
           "trajectory": "R_sol",
           "upper": 12.548369407653809
          },
          {
           "lower": 14.17131519317627,
           "timepoint": 21,
           "trajectory": "R_sol",
           "upper": 14.17131519317627
          },
          {
           "lower": 15.980809211730957,
           "timepoint": 22,
           "trajectory": "R_sol",
           "upper": 15.980809211730957
          },
          {
           "lower": 17.998201370239258,
           "timepoint": 23,
           "trajectory": "R_sol",
           "upper": 17.998201370239258
          },
          {
           "lower": 20.247291564941406,
           "timepoint": 24,
           "trajectory": "R_sol",
           "upper": 20.247291564941406
          },
          {
           "lower": 22.754613876342773,
           "timepoint": 25,
           "trajectory": "R_sol",
           "upper": 22.754613876342773
          },
          {
           "lower": 25.54974937438965,
           "timepoint": 26,
           "trajectory": "R_sol",
           "upper": 25.54974937438965
          },
          {
           "lower": 28.665672302246094,
           "timepoint": 27,
           "trajectory": "R_sol",
           "upper": 28.665672302246094
          },
          {
           "lower": 32.13914108276367,
           "timepoint": 28,
           "trajectory": "R_sol",
           "upper": 32.13914108276367
          },
          {
           "lower": 36.01113510131836,
           "timepoint": 29,
           "trajectory": "R_sol",
           "upper": 36.01113510131836
          },
          {
           "lower": 40.32733154296875,
           "timepoint": 30,
           "trajectory": "R_sol",
           "upper": 40.32733154296875
          },
          {
           "lower": 45.138648986816406,
           "timepoint": 31,
           "trajectory": "R_sol",
           "upper": 45.138648986816406
          },
          {
           "lower": 50.50185012817383,
           "timepoint": 32,
           "trajectory": "R_sol",
           "upper": 50.50185012817383
          },
          {
           "lower": 56.480201721191406,
           "timepoint": 33,
           "trajectory": "R_sol",
           "upper": 56.480201721191406
          },
          {
           "lower": 63.144229888916016,
           "timepoint": 34,
           "trajectory": "R_sol",
           "upper": 63.144229888916016
          },
          {
           "lower": 70.57255554199219,
           "timepoint": 35,
           "trajectory": "R_sol",
           "upper": 70.57255554199219
          },
          {
           "lower": 78.85279846191406,
           "timepoint": 36,
           "trajectory": "R_sol",
           "upper": 78.85279846191406
          },
          {
           "lower": 88.08264923095703,
           "timepoint": 37,
           "trajectory": "R_sol",
           "upper": 88.08264923095703
          },
          {
           "lower": 98.37098693847656,
           "timepoint": 38,
           "trajectory": "R_sol",
           "upper": 98.37098693847656
          },
          {
           "lower": 109.83917999267578,
           "timepoint": 39,
           "trajectory": "R_sol",
           "upper": 109.83917999267578
          },
          {
           "lower": 122.62251281738281,
           "timepoint": 40,
           "trajectory": "R_sol",
           "upper": 122.62251281738281
          },
          {
           "lower": 136.87179565429688,
           "timepoint": 41,
           "trajectory": "R_sol",
           "upper": 136.87179565429688
          },
          {
           "lower": 152.75509643554688,
           "timepoint": 42,
           "trajectory": "R_sol",
           "upper": 152.75509643554688
          },
          {
           "lower": 170.45980834960938,
           "timepoint": 43,
           "trajectory": "R_sol",
           "upper": 170.45980834960938
          },
          {
           "lower": 190.19476318359375,
           "timepoint": 44,
           "trajectory": "R_sol",
           "upper": 190.19476318359375
          },
          {
           "lower": 212.19276428222656,
           "timepoint": 45,
           "trajectory": "R_sol",
           "upper": 212.19276428222656
          },
          {
           "lower": 236.7133026123047,
           "timepoint": 46,
           "trajectory": "R_sol",
           "upper": 236.7133026123047
          },
          {
           "lower": 264.0456237792969,
           "timepoint": 47,
           "trajectory": "R_sol",
           "upper": 264.0456237792969
          },
          {
           "lower": 294.5121154785156,
           "timepoint": 48,
           "trajectory": "R_sol",
           "upper": 294.5121154785156
          },
          {
           "lower": 328.47216796875,
           "timepoint": 49,
           "trajectory": "R_sol",
           "upper": 328.47216796875
          },
          {
           "lower": 366.32635498046875,
           "timepoint": 50,
           "trajectory": "R_sol",
           "upper": 366.32635498046875
          }
         ]
        },
        {
         "name": "traces",
         "transform": [
          {
           "expr": "isValid(datum.value)",
           "type": "filter"
          }
         ],
         "values": []
        },
        {
         "name": "points",
         "values": [
          {
           "sample_id": 0,
           "timepoint": 0,
           "trajectory": "I_data",
           "value": 1
          },
          {
           "sample_id": 0,
           "timepoint": 1,
           "trajectory": "I_data",
           "value": 10
          },
          {
           "sample_id": 0,
           "timepoint": 2,
           "trajectory": "I_data",
           "value": 21
          },
          {
           "sample_id": 0,
           "timepoint": 3,
           "trajectory": "I_data",
           "value": 24
          },
          {
           "sample_id": 0,
           "timepoint": 4,
           "trajectory": "I_data",
           "value": 76
          },
          {
           "sample_id": 0,
           "timepoint": 5,
           "trajectory": "I_data",
           "value": 104
          },
          {
           "sample_id": 0,
           "timepoint": 6,
           "trajectory": "I_data",
           "value": 128
          },
          {
           "sample_id": 0,
           "timepoint": 7,
           "trajectory": "I_data",
           "value": 131
          },
          {
           "sample_id": 0,
           "timepoint": 8,
           "trajectory": "I_data",
           "value": 192
          },
          {
           "sample_id": 0,
           "timepoint": 9,
           "trajectory": "I_data",
           "value": 220
          },
          {
           "sample_id": 0,
           "timepoint": 10,
           "trajectory": "I_data",
           "value": 274
          },
          {
           "sample_id": 0,
           "timepoint": 11,
           "trajectory": "I_data",
           "value": 394
          },
          {
           "sample_id": 0,
           "timepoint": 12,
           "trajectory": "I_data",
           "value": 481
          },
          {
           "sample_id": 0,
           "timepoint": 13,
           "trajectory": "I_data",
           "value": 745
          },
          {
           "sample_id": 0,
           "timepoint": 14,
           "trajectory": "I_data",
           "value": 1111
          },
          {
           "sample_id": 0,
           "timepoint": 15,
           "trajectory": "I_data",
           "value": 2128
          },
          {
           "sample_id": 0,
           "timepoint": 16,
           "trajectory": "I_data",
           "value": 3671
          },
          {
           "sample_id": 0,
           "timepoint": 17,
           "trajectory": "I_data",
           "value": 6578
          },
          {
           "sample_id": 0,
           "timepoint": 18,
           "trajectory": "I_data",
           "value": 9449
          },
          {
           "sample_id": 0,
           "timepoint": 19,
           "trajectory": "I_data",
           "value": 13761
          },
          {
           "sample_id": 0,
           "timepoint": 20,
           "trajectory": "I_data",
           "value": 18270
          },
          {
           "sample_id": 0,
           "timepoint": 21,
           "trajectory": "I_data",
           "value": 21478
          },
          {
           "sample_id": 0,
           "timepoint": 22,
           "trajectory": "I_data",
           "value": 23630
          },
          {
           "sample_id": 0,
           "timepoint": 23,
           "trajectory": "I_data",
           "value": 26987
          },
          {
           "sample_id": 0,
           "timepoint": 24,
           "trajectory": "I_data",
           "value": 29533
          },
          {
           "sample_id": 0,
           "timepoint": 25,
           "trajectory": "I_data",
           "value": 31623
          },
          {
           "sample_id": 0,
           "timepoint": 26,
           "trajectory": "I_data",
           "value": 33967
          },
          {
           "sample_id": 0,
           "timepoint": 27,
           "trajectory": "I_data",
           "value": 35822
          },
          {
           "sample_id": 0,
           "timepoint": 28,
           "trajectory": "I_data",
           "value": 38456
          },
          {
           "sample_id": 0,
           "timepoint": 29,
           "trajectory": "I_data",
           "value": 45676
          },
          {
           "sample_id": 0,
           "timepoint": 30,
           "trajectory": "I_data",
           "value": 48380
          },
          {
           "sample_id": 0,
           "timepoint": 31,
           "trajectory": "I_data",
           "value": 51807
          },
          {
           "sample_id": 0,
           "timepoint": 32,
           "trajectory": "I_data",
           "value": 55042
          },
          {
           "sample_id": 0,
           "timepoint": 33,
           "trajectory": "I_data",
           "value": 56847
          },
          {
           "sample_id": 0,
           "timepoint": 34,
           "trajectory": "I_data",
           "value": 52184
          },
          {
           "sample_id": 0,
           "timepoint": 35,
           "trajectory": "I_data",
           "value": 49194
          },
          {
           "sample_id": 0,
           "timepoint": 36,
           "trajectory": "I_data",
           "value": 48730
          },
          {
           "sample_id": 0,
           "timepoint": 37,
           "trajectory": "I_data",
           "value": 50551
          },
          {
           "sample_id": 0,
           "timepoint": 38,
           "trajectory": "I_data",
           "value": 51029
          },
          {
           "sample_id": 0,
           "timepoint": 39,
           "trajectory": "I_data",
           "value": 49701
          },
          {
           "sample_id": 0,
           "timepoint": 40,
           "trajectory": "I_data",
           "value": 50661
          },
          {
           "sample_id": 0,
           "timepoint": 41,
           "trajectory": "I_data",
           "value": 48303
          },
          {
           "sample_id": 0,
           "timepoint": 42,
           "trajectory": "I_data",
           "value": 43703
          },
          {
           "sample_id": 0,
           "timepoint": 43,
           "trajectory": "I_data",
           "value": 38888
          },
          {
           "sample_id": 0,
           "timepoint": 44,
           "trajectory": "I_data",
           "value": 38244
          },
          {
           "sample_id": 0,
           "timepoint": 45,
           "trajectory": "I_data",
           "value": 36857
          },
          {
           "sample_id": 0,
           "timepoint": 46,
           "trajectory": "I_data",
           "value": 35881
          },
          {
           "sample_id": 0,
           "timepoint": 47,
           "trajectory": "I_data",
           "value": 35054
          },
          {
           "sample_id": 0,
           "timepoint": 48,
           "trajectory": "I_data",
           "value": 34782
          },
          {
           "sample_id": 0,
           "timepoint": 49,
           "trajectory": "I_data",
           "value": 31526
          },
          {
           "sample_id": 0,
           "timepoint": 50,
           "trajectory": "I_data",
           "value": 28799
          },
          {
           "sample_id": 0,
           "timepoint": 51,
           "trajectory": "I_data",
           "value": 27419
          },
          {
           "sample_id": 0,
           "timepoint": 52,
           "trajectory": "I_data",
           "value": 27443
          },
          {
           "sample_id": 0,
           "timepoint": 53,
           "trajectory": "I_data",
           "value": 30499
          },
          {
           "sample_id": 0,
           "timepoint": 54,
           "trajectory": "I_data",
           "value": 31543
          },
          {
           "sample_id": 0,
           "timepoint": 55,
           "trajectory": "I_data",
           "value": 31597
          },
          {
           "sample_id": 0,
           "timepoint": 56,
           "trajectory": "I_data",
           "value": 29008
          },
          {
           "sample_id": 0,
           "timepoint": 57,
           "trajectory": "I_data",
           "value": 25476
          },
          {
           "sample_id": 0,
           "timepoint": 58,
           "trajectory": "I_data",
           "value": 20411
          },
          {
           "sample_id": 0,
           "timepoint": 59,
           "trajectory": "I_data",
           "value": 19224
          },
          {
           "sample_id": 0,
           "timepoint": 38,
           "trajectory": "H_data",
           "value": 0
          },
          {
           "sample_id": 0,
           "timepoint": 39,
           "trajectory": "H_data",
           "value": 0
          },
          {
           "sample_id": 0,
           "timepoint": 45,
           "trajectory": "H_data",
           "value": 0
          },
          {
           "sample_id": 0,
           "timepoint": 46,
           "trajectory": "H_data",
           "value": 1
          },
          {
           "sample_id": 0,
           "timepoint": 52,
           "trajectory": "H_data",
           "value": 0
          },
          {
           "sample_id": 0,
           "timepoint": 53,
           "trajectory": "H_data",
           "value": 0
          },
          {
           "sample_id": 0,
           "timepoint": 54,
           "trajectory": "H_data",
           "value": 1
          },
          {
           "sample_id": 0,
           "timepoint": 55,
           "trajectory": "H_data",
           "value": 0
          },
          {
           "sample_id": 0,
           "timepoint": 56,
           "trajectory": "H_data",
           "value": 0
          },
          {
           "sample_id": 0,
           "timepoint": 57,
           "trajectory": "H_data",
           "value": 0
          },
          {
           "sample_id": 0,
           "timepoint": 58,
           "trajectory": "H_data",
           "value": 0
          },
          {
           "sample_id": 0,
           "timepoint": 59,
           "trajectory": "H_data",
           "value": 0
          },
          {
           "sample_id": 0,
           "timepoint": 0,
           "trajectory": "D_data",
           "value": 0
          },
          {
           "sample_id": 0,
           "timepoint": 1,
           "trajectory": "D_data",
           "value": 0
          },
          {
           "sample_id": 0,
           "timepoint": 2,
           "trajectory": "D_data",
           "value": 0
          },
          {
           "sample_id": 0,
           "timepoint": 3,
           "trajectory": "D_data",
           "value": 0
          },
          {
           "sample_id": 0,
           "timepoint": 4,
           "trajectory": "D_data",
           "value": 0
          },
          {
           "sample_id": 0,
           "timepoint": 5,
           "trajectory": "D_data",
           "value": 0
          },
          {
           "sample_id": 0,
           "timepoint": 6,
           "trajectory": "D_data",
           "value": 0
          },
          {
           "sample_id": 0,
           "timepoint": 7,
           "trajectory": "D_data",
           "value": 0
          },
          {
           "sample_id": 0,
           "timepoint": 8,
           "trajectory": "D_data",
           "value": 1
          },
          {
           "sample_id": 0,
           "timepoint": 9,
           "trajectory": "D_data",
           "value": 1
          },
          {
           "sample_id": 0,
           "timepoint": 10,
           "trajectory": "D_data",
           "value": 1
          },
          {
           "sample_id": 0,
           "timepoint": 11,
           "trajectory": "D_data",
           "value": 4
          },
          {
           "sample_id": 0,
           "timepoint": 12,
           "trajectory": "D_data",
           "value": 9
          },
          {
           "sample_id": 0,
           "timepoint": 13,
           "trajectory": "D_data",
           "value": 19
          },
          {
           "sample_id": 0,
           "timepoint": 14,
           "trajectory": "D_data",
           "value": 30
          },
          {
           "sample_id": 0,
           "timepoint": 15,
           "trajectory": "D_data",
           "value": 51
          },
          {
           "sample_id": 0,
           "timepoint": 16,
           "trajectory": "D_data",
           "value": 77
          },
          {
           "sample_id": 0,
           "timepoint": 17,
           "trajectory": "D_data",
           "value": 129
          },
          {
           "sample_id": 0,
           "timepoint": 18,
           "trajectory": "D_data",
           "value": 175
          },
          {
           "sample_id": 0,
           "timepoint": 19,
           "trajectory": "D_data",
           "value": 226
          },
          {
           "sample_id": 0,
           "timepoint": 20,
           "trajectory": "D_data",
           "value": 315
          },
          {
           "sample_id": 0,
           "timepoint": 21,
           "trajectory": "D_data",
           "value": 427
          },
          {
           "sample_id": 0,
           "timepoint": 22,
           "trajectory": "D_data",
           "value": 565
          },
          {
           "sample_id": 0,
           "timepoint": 23,
           "trajectory": "D_data",
           "value": 759
          },
          {
           "sample_id": 0,
           "timepoint": 24,
           "trajectory": "D_data",
           "value": 984
          },
          {
           "sample_id": 0,
           "timepoint": 25,
           "trajectory": "D_data",
           "value": 1285
          },
          {
           "sample_id": 0,
           "timepoint": 26,
           "trajectory": "D_data",
           "value": 1603
          },
          {
           "sample_id": 0,
           "timepoint": 27,
           "trajectory": "D_data",
           "value": 1930
          },
          {
           "sample_id": 0,
           "timepoint": 28,
           "trajectory": "D_data",
           "value": 2334
          },
          {
           "sample_id": 0,
           "timepoint": 29,
           "trajectory": "D_data",
           "value": 2859
          },
          {
           "sample_id": 0,
           "timepoint": 30,
           "trajectory": "D_data",
           "value": 3420
          },
          {
           "sample_id": 0,
           "timepoint": 31,
           "trajectory": "D_data",
           "value": 3989
          },
          {
           "sample_id": 0,
           "timepoint": 32,
           "trajectory": "D_data",
           "value": 4634
          },
          {
           "sample_id": 0,
           "timepoint": 33,
           "trajectory": "D_data",
           "value": 5384
          },
          {
           "sample_id": 0,
           "timepoint": 34,
           "trajectory": "D_data",
           "value": 6185
          },
          {
           "sample_id": 0,
           "timepoint": 35,
           "trajectory": "D_data",
           "value": 7241
          },
          {
           "sample_id": 0,
           "timepoint": 36,
           "trajectory": "D_data",
           "value": 7985
          },
          {
           "sample_id": 0,
           "timepoint": 37,
           "trajectory": "D_data",
           "value": 8846
          },
          {
           "sample_id": 0,
           "timepoint": 38,
           "trajectory": "D_data",
           "value": 9579
          },
          {
           "sample_id": 0,
           "timepoint": 39,
           "trajectory": "D_data",
           "value": 10345
          },
          {
           "sample_id": 0,
           "timepoint": 40,
           "trajectory": "D_data",
           "value": 11126
          },
          {
           "sample_id": 0,
           "timepoint": 41,
           "trajectory": "D_data",
           "value": 11930
          },
          {
           "sample_id": 0,
           "timepoint": 42,
           "trajectory": "D_data",
           "value": 12669
          },
          {
           "sample_id": 0,
           "timepoint": 43,
           "trajectory": "D_data",
           "value": 13332
          },
          {
           "sample_id": 0,
           "timepoint": 44,
           "trajectory": "D_data",
           "value": 13987
          },
          {
           "sample_id": 0,
           "timepoint": 45,
           "trajectory": "D_data",
           "value": 14371
          },
          {
           "sample_id": 0,
           "timepoint": 46,
           "trajectory": "D_data",
           "value": 14780
          },
          {
           "sample_id": 0,
           "timepoint": 47,
           "trajectory": "D_data",
           "value": 15225
          },
          {
           "sample_id": 0,
           "timepoint": 48,
           "trajectory": "D_data",
           "value": 16116
          },
          {
           "sample_id": 0,
           "timepoint": 49,
           "trajectory": "D_data",
           "value": 16639
          },
          {
           "sample_id": 0,
           "timepoint": 50,
           "trajectory": "D_data",
           "value": 17091
          },
          {
           "sample_id": 0,
           "timepoint": 51,
           "trajectory": "D_data",
           "value": 17647
          },
          {
           "sample_id": 0,
           "timepoint": 52,
           "trajectory": "D_data",
           "value": 18132
          },
          {
           "sample_id": 0,
           "timepoint": 53,
           "trajectory": "D_data",
           "value": 18523
          },
          {
           "sample_id": 0,
           "timepoint": 54,
           "trajectory": "D_data",
           "value": 18882
          },
          {
           "sample_id": 0,
           "timepoint": 55,
           "trajectory": "D_data",
           "value": 19292
          },
          {
           "sample_id": 0,
           "timepoint": 56,
           "trajectory": "D_data",
           "value": 19602
          },
          {
           "sample_id": 0,
           "timepoint": 57,
           "trajectory": "D_data",
           "value": 20000
          },
          {
           "sample_id": 0,
           "timepoint": 58,
           "trajectory": "D_data",
           "value": 20334
          },
          {
           "sample_id": 0,
           "timepoint": 59,
           "trajectory": "D_data",
           "value": 20662
          }
         ]
        },
        {
         "name": "markers",
         "values": []
        },
        {
         "name": "selected",
         "on": [
          {
           "remove": true,
           "trigger": "clear"
          },
          {
           "remove": true,
           "trigger": "!shift"
          },
          {
           "insert": "clicked",
           "trigger": "!shift && clicked"
          },
          {
           "toggle": "clicked",
           "trigger": "shift && clicked"
          }
         ]
        }
       ],
       "height": 300,
       "legends": [
        {
         "encode": {
          "labels": {
           "interactive": true,
           "name": "legendLabel",
           "update": {
            "opacity": [
             {
              "test": "!length(data('selected')) || indata('selected', 'value', datum.value)",
              "value": 1
             },
             {
              "value": 0.25
             }
            ]
           }
          },
          "symbols": {
           "interactive": true,
           "name": "legendSymbol",
           "update": {
            "fill": {
             "value": "transparent"
            },
            "opacity": [
             {
              "test": "!length(data('selected')) || indata('selected', 'value', datum.value)",
              "value": 0.7
             },
             {
              "value": 0.15
             }
            ],
            "size": {
             "value": 64
            },
            "strokeWidth": {
             "value": 2
            }
           }
          }
         },
         "name": "color_legend",
         "stroke": "color"
        }
       ],
       "marks": [
        {
         "from": {
          "facet": {
           "data": "points",
           "groupby": "trajectory",
           "name": "points_split"
          }
         },
         "marks": [
          {
           "encode": {
            "hover": {
             "fillOpacity": {
              "value": 0.9
             }
            },
            "update": {
             "fill": {
              "field": "trajectory",
              "scale": "color"
             },
             "fillOpacity": [
              {
               "test": "!length(data('selected')) || indata('selected', 'value', datum.trajectory)",
               "value": 0.5
              },
              {
               "value": 0.15
              }
             ],
             "size": {
              "value": 10
             },
             "stroke": {
              "field": "trajectory",
              "scale": "color"
             },
             "strokeOpacity": [
              {
               "test": "!length(data('selected')) || indata('selected', 'value', datum.trajectory)",
               "value": 0.75
              },
              {
               "value": 0.15
              }
             ],
             "strokeWidth": {
              "value": 2
             },
             "tooltip": {
              "field": "value"
             },
             "x": {
              "field": "timepoint",
              "scale": "xscale"
             },
             "y": {
              "field": "value",
              "scale": "yscale"
             }
            }
           },
           "from": {
            "data": "points"
           },
           "name": "_points_symbol",
           "type": "symbol",
           "zindex": 3
          },
          {
           "encode": {
            "hover": {
             "fillOpacity": {
              "value": 0.9
             }
            },
            "update": {
             "interpolate": {
              "value": "linear"
             },
             "stroke": {
              "field": "trajectory",
              "scale": "color"
             },
             "strokeOpacity": [
              {
               "test": "!length(data('selected')) || indata('selected', 'value', datum.trajectory)",
               "value": 0.3
              },
              {
               "value": 0.1
              }
             ],
             "strokeWidth": {
              "value": 2
             },
             "x": {
              "field": "timepoint",
              "scale": "xscale"
             },
             "y": {
              "field": "value",
              "scale": "yscale"
             }
            }
           },
           "from": {
            "data": "points"
           },
           "name": "_points_line",
           "type": "line",
           "zindex": 3
          }
         ],
         "name": "_points",
         "type": "group",
         "zindex": 3
        },
        {
         "from": {
          "facet": {
           "data": "traces",
           "groupby": "trajectory",
           "name": "traces_split"
          }
         },
         "marks": [
          {
           "encode": {
            "hover": {
             "fillOpacity": {
              "value": 0.9
             }
            },
            "update": {
             "interpolate": {
              "value": "linear"
             },
             "stroke": {
              "field": "trajectory",
              "scale": "color"
             },
             "strokeOpacity": [
              {
               "test": "!length(data('selected')) || indata('selected', 'value', datum.trajectory)",
               "value": 0.75
              },
              {
               "value": 0.15
              }
             ],
             "strokeWidth": {
              "value": 2
             },
             "x": {
              "field": "timepoint",
              "scale": "xscale"
             },
             "y": {
              "field": "value",
              "scale": "yscale"
             }
            }
           },
           "from": {
            "data": "traces_split"
           },
           "name": "_traces_lines",
           "type": "line"
          }
         ],
         "name": "_traces",
         "type": "group",
         "zindex": 2
        },
        {
         "from": {
          "facet": {
           "data": "distributions",
           "groupby": "trajectory",
           "name": "trajectory_split"
          }
         },
         "marks": [
          {
           "encode": {
            "hover": {
             "fillOpacity": {
              "value": 0.9
             }
            },
            "update": {
             "fill": {
              "field": "trajectory",
              "scale": "color"
             },
             "fillOpacity": [
              {
               "test": "!length(data('selected')) || indata('selected', 'value', datum.trajectory)",
               "value": 0.5
              },
              {
               "value": 0.15
              }
             ],
             "interpolate": {
              "value": "linear"
             },
             "stroke": {
              "field": "trajectory",
              "scale": "color"
             },
             "strokeOpacity": [
              {
               "test": "!length(data('selected')) || indata('selected', 'value', datum.trajectory)",
               "value": 0.75
              },
              {
               "value": 0.15
              }
             ],
             "strokeWidth": {
              "value": 2
             },
             "x": {
              "field": "timepoint",
              "scale": "xscale"
             },
             "y": {
              "field": "upper",
              "scale": "yscale"
             },
             "y2": {
              "field": "lower",
              "scale": "yscale"
             }
            }
           },
           "from": {
            "data": "trajectory_split"
           },
           "type": "area"
          }
         ],
         "name": "_distributions",
         "type": "group",
         "zindex": 1
        },
        {
         "marks": [
          {
           "encode": {
            "enter": {
             "stroke": {
              "value": "lightgray"
             }
            },
            "update": {
             "opacity": {
              "value": 1
             },
             "x": {
              "field": "timepoint",
              "scale": "xscale"
             },
             "y": {
              "signal": "height"
             },
             "y2": {
              "value": 0
             }
            }
           },
           "from": {
            "data": "markers"
           },
           "name": "_marker text",
           "type": "rule"
          },
          {
           "encode": {
            "enter": {
             "fontSize": {
              "value": 8
             },
             "text": {
              "field": "datum.label"
             },
             "y": {
              "value": 0
             }
            }
           },
           "from": {
            "data": "_marker text"
           },
           "name": "_marker flags",
           "transform": [
            {
             "as": [
              "x",
              "_y",
              "opacity",
              "align",
              "baseline"
             ],
             "lineAnchor": "start",
             "offset": [
              1
             ],
             "size": {
              "signal": "[width, height]"
             },
             "type": "label"
            }
           ],
           "type": "text"
          }
         ],
         "name": "_markers",
         "type": "group"
        }
       ],
       "padding": 5,
       "scales": [
        {
         "domain": {
          "fields": [
           {
            "data": "distributions",
            "field": "timepoint"
           },
           {
            "data": "traces",
            "field": "timepoint"
           },
           {
            "data": "points",
            "field": "timepoint"
           },
           {
            "data": "markers",
            "field": "timepoint"
           }
          ]
         },
         "name": "xscale",
         "range": "width",
         "type": "linear",
         "zero": false
        },
        {
         "domain": {
          "fields": [
           {
            "data": "distributions",
            "field": "lower"
           },
           {
            "data": "distributions",
            "field": "upper"
           },
           {
            "data": "traces",
            "field": "value"
           },
           {
            "data": "points",
            "field": "value"
           }
          ]
         },
         "name": "yscale",
         "nice": true,
         "range": "height",
         "type": "linear",
         "zero": true
        },
        {
         "domain": {
          "fields": [
           {
            "data": "distributions",
            "field": "trajectory"
           },
           {
            "data": "traces",
            "field": "trajectory"
           },
           {
            "data": "points",
            "field": "trajectory"
           }
          ]
         },
         "name": "color",
         "range": "category",
         "type": "ordinal"
        }
       ],
       "signals": [
        {
         "name": "clear",
         "on": [
          {
           "events": "mouseup[!event.item]",
           "force": true,
           "update": "true"
          }
         ],
         "value": true
        },
        {
         "name": "shift",
         "on": [
          {
           "events": "@legendSymbol:click, @legendLabel:click",
           "force": true,
           "update": "event.shiftKey"
          }
         ],
         "value": false
        },
        {
         "name": "clicked",
         "on": [
          {
           "events": "@legendSymbol:click, @legendLabel:click",
           "force": true,
           "update": "{value: datum.value}"
          }
         ],
         "value": null
        }
       ],
       "width": 500
      }
     },
     "metadata": {},
     "output_type": "display_data"
    }
   ],
   "source": [
    "num_samples = 2\n",
    "\n",
    "prior_samples = load_and_sample_petri_model(model_location, num_samples, timepoints=timepoints, method=\"euler\",\n",
    "                                            visual_options={\"title\": \"Prior Samples\", \"subset\":\".*_sol\"}, \n",
    "                                            time_unit=\"days\")\n",
    "\n",
    "# Plot results\n",
    "schema = plots.trajectories(pd.DataFrame(prior_samples[\"data\"].drop(columns='S_sol')), subset=\".*_sol\",\n",
    "                            points=test_data.reset_index(drop=True).rename(columns={\"I\":\"I_data\", \"H\":\"H_data\", \"D\":\"D_data\"}),\n",
    "                           )\n",
    "schema = plots.pad(schema, 5)\n",
    "plots.ipy_display(schema)"
   ]
  },
  {
   "cell_type": "markdown",
   "id": "2818580c-7380-48bf-9b48-927e0be30fca",
   "metadata": {},
   "source": []
  }
 ],
 "metadata": {
  "kernelspec": {
   "display_name": "Python 3 (ipykernel)",
   "language": "python",
   "name": "python3"
  },
  "language_info": {
   "codemirror_mode": {
    "name": "ipython",
    "version": 3
   },
   "file_extension": ".py",
   "mimetype": "text/x-python",
   "name": "python",
   "nbconvert_exporter": "python",
   "pygments_lexer": "ipython3",
   "version": "3.10.9"
  }
 },
 "nbformat": 4,
 "nbformat_minor": 5
}
