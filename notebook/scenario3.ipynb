{
 "cells": [
  {
   "cell_type": "code",
   "execution_count": 75,
   "metadata": {},
   "outputs": [],
   "source": [
    "from pyciemss import PetriNetODE\n"
   ]
  },
  {
   "cell_type": "code",
   "execution_count": 76,
   "metadata": {},
   "outputs": [],
   "source": [
    "import os\n",
    "\n",
    "from pyciemss.PetriNetODE.base import BetaNoisePetriNetODESystem\n",
    "from pyciemss.PetriNetODE.events import Event, StartEvent, LoggingEvent, ObservationEvent, StaticParameterInterventionEvent\n",
    "import pyciemss"
   ]
  },
  {
   "attachments": {},
   "cell_type": "markdown",
   "metadata": {},
   "source": [
    "Let's see what directory we're in"
   ]
  },
  {
   "cell_type": "code",
   "execution_count": 78,
   "metadata": {},
   "outputs": [
    {
     "data": {
      "text/plain": [
       "'/home/chads/git/pyciemss/notebook'"
      ]
     },
     "execution_count": 78,
     "metadata": {},
     "output_type": "execute_result"
    }
   ],
   "source": [
    "os.getcwd()"
   ]
  },
  {
   "attachments": {},
   "cell_type": "markdown",
   "metadata": {},
   "source": [
    "Most of our files are relative to `test/models/`, so we need to go up a directory."
   ]
  },
  {
   "cell_type": "code",
   "execution_count": 79,
   "metadata": {},
   "outputs": [
    {
     "data": {
      "text/plain": [
       "{'I': tensor([0.0096, 0.0091, 0.0085, 0.0080, 0.0074, 0.0069, 0.0063, 0.0058, 0.0053]),\n",
       " 'R': tensor([0.0092, 0.0180, 0.0263, 0.0341, 0.0414, 0.0482, 0.0544, 0.0601, 0.0653]),\n",
       " 'S': tensor([0.9812, 0.9729, 0.9651, 0.9579, 0.9511, 0.9450, 0.9393, 0.9341, 0.9295])}"
      ]
     },
     "execution_count": 79,
     "metadata": {},
     "output_type": "execute_result"
    }
   ],
   "source": [
    "PYCIEMSS_PATH = \"..\"\n",
    "STARTERKIT_PATH = os.path.join(PYCIEMSS_PATH, \"test/models/starter_kit_examples/\")\n",
    "MIRA_PATH = os.path.join(PYCIEMSS_PATH, \"test/models/evaluation_examples/\")\n",
    "\n",
    "filename = \"CHIME-SIR/model_petri.json\"\n",
    "filename = os.path.join(STARTERKIT_PATH, filename)\n",
    "\n",
    "model = BetaNoisePetriNetODESystem.from_mira(filename)\n",
    "\n",
    "start_event = StartEvent(0.0, {\"S\": 0.99, \"I\": 0.01, \"R\": 0.0})\n",
    "model.load_event(start_event)\n",
    "\n",
    "tspan = range(1, 10)\n",
    "logging_events = [LoggingEvent(t) for t in tspan]\n",
    "model.load_events(logging_events)\n",
    "\n",
    "solution = model()\n",
    "\n",
    "# See that the solution returns a dictionary where each value has length 10, one for each logging event.\n",
    "assert len(solution[\"I\"]) == len(solution[\"R\"]) == len(solution[\"S\"]) == len(tspan)\n",
    "\n",
    "solution"
   ]
  },
  {
   "cell_type": "code",
   "execution_count": 4,
   "metadata": {},
   "outputs": [],
   "source": [
    "# Remove logging events\n",
    "model.remove_logging_events()\n",
    "\n",
    "# Add observations\n",
    "observation_events = [ObservationEvent(1.1, {\"S\": 0.9, \"I\": 0.09, \"R\": 0.01}), \n",
    "                      ObservationEvent(2.1, {\"S\": 0.8, \"I\": 0.18, \"R\": 0.02}),\n",
    "                      ObservationEvent(3.1, {\"S\": 0.7, \"I\": 0.27, \"R\": 0.03}),\n",
    "                      ObservationEvent(4.1, {\"S\": 0.6, \"I\": 0.36, \"R\": 0.04})]\n",
    "\n",
    "model.load_events(observation_events)"
   ]
  },
  {
   "cell_type": "code",
   "execution_count": 5,
   "metadata": {},
   "outputs": [
    {
     "data": {
      "text/plain": [
       "[StartEvent(time=0.0, initial_state={'S': tensor(0.9900), 'I': tensor(0.0100), 'R': tensor(0.)}),\n",
       " ObservationEvent(time=1.100000023841858, observation={'S': tensor(0.9000), 'I': tensor(0.0900), 'R': tensor(0.0100)}),\n",
       " ObservationEvent(time=2.0999999046325684, observation={'S': tensor(0.8000), 'I': tensor(0.1800), 'R': tensor(0.0200)}),\n",
       " ObservationEvent(time=3.0999999046325684, observation={'S': tensor(0.7000), 'I': tensor(0.2700), 'R': tensor(0.0300)}),\n",
       " ObservationEvent(time=4.099999904632568, observation={'S': tensor(0.6000), 'I': tensor(0.3600), 'R': tensor(0.0400)})]"
      ]
     },
     "execution_count": 5,
     "metadata": {},
     "output_type": "execute_result"
    }
   ],
   "source": [
    "model._static_events"
   ]
  },
  {
   "cell_type": "code",
   "execution_count": 6,
   "metadata": {},
   "outputs": [
    {
     "name": "stdout",
     "output_type": "stream",
     "text": [
      "[iteration 0001] loss: 22.7344\n",
      "[iteration 0026] loss: 23.4423\n",
      "[iteration 0051] loss: 20.6464\n",
      "[iteration 0076] loss: 20.7368\n"
     ]
    }
   ],
   "source": [
    "# Show that inference works.\n",
    "\n",
    "from pyro.infer.autoguide import AutoNormal\n",
    "from pyro.poutine import block\n",
    "from pyro.infer import SVI, Trace_ELBO\n",
    "from pyro.optim import Adam\n",
    "import pyro\n",
    "\n",
    "guide = AutoNormal(model)\n",
    "optim = Adam({'lr': 0.03})\n",
    "loss_f = Trace_ELBO(num_particles=1)\n",
    "verbose = True\n",
    "\n",
    "svi = SVI(model, guide, optim, loss=loss_f)\n",
    "\n",
    "pyro.clear_param_store()\n",
    "\n",
    "for j in range(100):\n",
    "    # calculate the loss and take a gradient step\n",
    "    # Passing a data argument to svi.step() will condition the model on the data.\n",
    "    loss = svi.step()\n",
    "    if verbose:\n",
    "        if j % 25 == 0:\n",
    "            print(\"[iteration %04d] loss: %.4f\" % (j + 1, loss))"
   ]
  },
  {
   "cell_type": "code",
   "execution_count": 7,
   "metadata": {},
   "outputs": [],
   "source": [
    "# Remove the observation events\n",
    "model.remove_observation_events()"
   ]
  },
  {
   "cell_type": "code",
   "execution_count": 8,
   "metadata": {},
   "outputs": [],
   "source": [
    "# Load some static parameter intervention events\n",
    "model.load_event(StaticParameterInterventionEvent(2.99, \"beta\", 0.0))\n",
    "model.load_event(StaticParameterInterventionEvent(4.11, \"beta\", 10.))\n",
    "\n",
    "# Load the logging events again\n",
    "model.load_events(logging_events)"
   ]
  },
  {
   "cell_type": "code",
   "execution_count": 9,
   "metadata": {},
   "outputs": [
    {
     "data": {
      "text/plain": [
       "[StartEvent(time=0.0, initial_state={'S': tensor(0.9900), 'I': tensor(0.0100), 'R': tensor(0.)}),\n",
       " LoggingEvent(time=1),\n",
       " LoggingEvent(time=2),\n",
       " StaticParameterInterventionEvent(time=2.990000009536743, parameter=beta, value=0.0),\n",
       " LoggingEvent(time=3),\n",
       " LoggingEvent(time=4),\n",
       " StaticParameterInterventionEvent(time=4.110000133514404, parameter=beta, value=10.0),\n",
       " LoggingEvent(time=5),\n",
       " LoggingEvent(time=6),\n",
       " LoggingEvent(time=7),\n",
       " LoggingEvent(time=8),\n",
       " LoggingEvent(time=9)]"
      ]
     },
     "execution_count": 9,
     "metadata": {},
     "output_type": "execute_result"
    }
   ],
   "source": [
    "model._static_events"
   ]
  },
  {
   "cell_type": "code",
   "execution_count": 10,
   "metadata": {},
   "outputs": [
    {
     "data": {
      "text/plain": [
       "[]"
      ]
     },
     "execution_count": 10,
     "metadata": {},
     "output_type": "execute_result"
    }
   ],
   "source": [
    "model._observation_var_names"
   ]
  },
  {
   "cell_type": "code",
   "execution_count": 11,
   "metadata": {},
   "outputs": [],
   "source": [
    "# use pyro predictive\n",
    "from pyro.infer import Predictive\n",
    "\n",
    "# Get the return value of model.\n",
    "predictions = Predictive(model, guide=guide, num_samples=10)()"
   ]
  },
  {
   "cell_type": "code",
   "execution_count": 12,
   "metadata": {},
   "outputs": [
    {
     "data": {
      "text/plain": [
       "{'a_beta': tensor([1.0735, 1.0938, 1.0870, 1.0595, 1.0415, 1.0957, 1.0503, 1.0687, 1.0486,\n",
       "         1.0633]),\n",
       " 'a_gamma': tensor([0.9743, 0.9891, 0.9675, 0.9993, 0.9428, 0.9425, 0.9149, 0.9722, 1.0373,\n",
       "         0.9123]),\n",
       " 'I_sol': tensor([[0.0109, 0.0117, 0.0122, 0.0046, 0.6387, 0.2889, 0.1095, 0.0414, 0.0156],\n",
       "         [0.0109, 0.0118, 0.0124, 0.0046, 0.6345, 0.2842, 0.1061, 0.0395, 0.0147],\n",
       "         [0.0111, 0.0121, 0.0129, 0.0049, 0.6396, 0.2889, 0.1102, 0.0419, 0.0159],\n",
       "         [0.0105, 0.0108, 0.0109, 0.0040, 0.6332, 0.2857, 0.1057, 0.0390, 0.0144],\n",
       "         [0.0109, 0.0117, 0.0123, 0.0048, 0.6473, 0.2983, 0.1166, 0.0455, 0.0177],\n",
       "         [0.0115, 0.0130, 0.0143, 0.0056, 0.6441, 0.2929, 0.1145, 0.0447, 0.0174],\n",
       "         [0.0113, 0.0125, 0.0136, 0.0055, 0.6527, 0.3033, 0.1218, 0.0488, 0.0196],\n",
       "         [0.0108, 0.0116, 0.0121, 0.0046, 0.6394, 0.2898, 0.1100, 0.0417, 0.0158],\n",
       "         [0.0100, 0.0098, 0.0095, 0.0034, 0.6228, 0.2804, 0.0999, 0.0355, 0.0126],\n",
       "         [0.0114, 0.0129, 0.0142, 0.0057, 0.6523, 0.3025, 0.1218, 0.0490, 0.0197]]),\n",
       " 'R_sol': tensor([[0.0102, 0.0211, 0.0328, 0.0404, 0.2534, 0.7101, 0.8904, 0.9586, 0.9843],\n",
       "         [0.0103, 0.0216, 0.0336, 0.0414, 0.2555, 0.7148, 0.8937, 0.9604, 0.9852],\n",
       "         [0.0102, 0.0214, 0.0336, 0.0417, 0.2577, 0.7102, 0.8897, 0.9580, 0.9840],\n",
       "         [0.0102, 0.0209, 0.0318, 0.0387, 0.2457, 0.7131, 0.8941, 0.9610, 0.9856],\n",
       "         [0.0098, 0.0205, 0.0318, 0.0393, 0.2512, 0.7009, 0.8833, 0.9545, 0.9822],\n",
       "         [0.0101, 0.0216, 0.0345, 0.0432, 0.2636, 0.7062, 0.8854, 0.9553, 0.9825],\n",
       "         [0.0097, 0.0206, 0.0327, 0.0408, 0.2573, 0.6960, 0.8781, 0.9511, 0.9804],\n",
       "         [0.0101, 0.0210, 0.0326, 0.0402, 0.2526, 0.7092, 0.8898, 0.9583, 0.9842],\n",
       "         [0.0104, 0.0206, 0.0307, 0.0368, 0.2356, 0.7182, 0.8998, 0.9644, 0.9873],\n",
       "         [0.0098, 0.0209, 0.0333, 0.0419, 0.2606, 0.6967, 0.8781, 0.9510, 0.9803]]),\n",
       " 'S_sol': tensor([[9.7897e-01, 9.6721e-01, 9.5495e-01, 9.5495e-01, 1.0788e-01, 9.9334e-04,\n",
       "          1.5615e-04, 7.7551e-05, 5.9533e-05],\n",
       "         [9.7874e-01, 9.6666e-01, 9.5404e-01, 9.5404e-01, 1.0996e-01, 1.0588e-03,\n",
       "          1.7348e-04, 8.8388e-05, 6.8766e-05],\n",
       "         [9.7872e-01, 9.6645e-01, 9.5343e-01, 9.5343e-01, 1.0277e-01, 9.5632e-04,\n",
       "          1.4961e-04, 7.3817e-05, 5.6424e-05],\n",
       "         [9.7932e-01, 9.6835e-01, 9.5733e-01, 9.5733e-01, 1.2111e-01, 1.1258e-03,\n",
       "          1.8398e-04, 9.4280e-05, 7.3691e-05],\n",
       "         [9.7930e-01, 9.6787e-01, 9.5594e-01, 9.5594e-01, 1.0151e-01, 8.6084e-04,\n",
       "          1.2432e-04, 5.8421e-05, 4.3524e-05],\n",
       "         [9.7844e-01, 9.6544e-01, 9.5122e-01, 9.5122e-01, 9.2296e-02, 8.4296e-04,\n",
       "          1.2600e-04, 6.0001e-05, 4.4929e-05],\n",
       "         [9.7901e-01, 9.6684e-01, 9.5371e-01, 9.5371e-01, 9.0031e-02, 7.4441e-04,\n",
       "          1.0172e-04, 4.5778e-05, 3.3241e-05],\n",
       "         [9.7904e-01, 9.6736e-01, 9.5523e-01, 9.5523e-01, 1.0795e-01, 9.8518e-04,\n",
       "          1.5378e-04, 7.6057e-05, 5.8263e-05],\n",
       "         [9.7969e-01, 9.6958e-01, 9.5988e-01, 9.5988e-01, 1.4161e-01, 1.3506e-03,\n",
       "          2.3455e-04, 1.2587e-04, 1.0092e-04],\n",
       "         [9.7879e-01, 9.6619e-01, 9.5241e-01, 9.5241e-01, 8.7161e-02, 7.3114e-04,\n",
       "          1.0018e-04, 4.5043e-05, 3.2669e-05]])}"
      ]
     },
     "execution_count": 12,
     "metadata": {},
     "output_type": "execute_result"
    }
   ],
   "source": [
    "predictions"
   ]
  },
  {
   "cell_type": "code",
   "execution_count": null,
   "metadata": {},
   "outputs": [],
   "source": []
  },
  {
   "cell_type": "code",
   "execution_count": 13,
   "metadata": {},
   "outputs": [
    {
     "data": {
      "text/plain": [
       "{'I': tensor([0.0090, 0.0081, 0.0072, 0.0026, 0.6279, 0.2985, 0.1096, 0.0401, 0.0146]),\n",
       " 'R': tensor([0.0096, 0.0182, 0.0259, 0.0305, 0.2116, 0.7003, 0.8903, 0.9598, 0.9853]),\n",
       " 'S': tensor([9.8138e-01, 9.7368e-01, 9.6691e-01, 9.6691e-01, 1.6056e-01, 1.2547e-03,\n",
       "         1.9023e-04, 9.5335e-05, 7.4055e-05])}"
      ]
     },
     "execution_count": 13,
     "metadata": {},
     "output_type": "execute_result"
    }
   ],
   "source": [
    "model()"
   ]
  },
  {
   "cell_type": "code",
   "execution_count": null,
   "metadata": {},
   "outputs": [],
   "source": [
    "# SCAFFOLDING FOR DYNAMIC EVENT HANDLING BELOW\n",
    "\n",
    "import pyro\n",
    "from torch import Tensor\n",
    "from torchdiffeq import odeint_event, odeint\n",
    "\n",
    "Time = Tensor\n",
    "State = tuple[Tensor, ...]\n",
    "\n",
    "class BaseODEModel(pyro.nn.PyroModule):\n",
    "\n",
    "    def __init__(self, static_events: list[Event]):\n",
    "        super().__init__()\n",
    "        # This is a list of events that are always sorted by time.\n",
    "        # TODO: probably pre-sort this list just in case.\n",
    "        self.static_events = static_events\n",
    "\n",
    "    def deriv(self, t: Time, state: State) -> State:\n",
    "        raise NotImplementedError\n",
    "\n",
    "    @pyro.nn.pyro_method\n",
    "    def param_prior(self):\n",
    "        raise NotImplementedError\n",
    "\n",
    "    @pyro.nn.pyro_method\n",
    "    def initial_conditions_prior(self):\n",
    "        raise NotImplementedError\n",
    "\n",
    "    # @pyro.nn.pyro_method\n",
    "    # def observation_model(self, state: State, tspan: Time, ?) -> ?: …\n",
    "\n",
    "    def solve(self, initial_state: State, initial_time: Time) -> tuple[State, State]:\n",
    "        \n",
    "        current_state = initial_state\n",
    "        current_time = initial_time\n",
    "\n",
    "        solution = torch.tensor([])\n",
    "\n",
    "        for i, static_event in enumerate(self.static_events):\n",
    "            \n",
    "            # TODO: change below\n",
    "            # Note: Immediate goal is to get self.solve() to generate ode solutions that stop at the event times.\n",
    "            # Note: Next we will add log likelihood at those events using an observation model.\n",
    "\n",
    "            # Note: each static_event is an Event object, which has a forward() method that returns a Tensor.\n",
    "            # TODO: Chad, could you please make this actually make sense.\n",
    "            event_time, event_solution = odeint(self.deriv, current_state, current_time, event_fn=static_event)\n",
    "    \n",
    "            # TODO: Add log likelihood for event_solution.\n",
    "            # Note: This will be done by adding an observation model to the ODE model and calling it with the event_solution as an argument.\n",
    "\n",
    "            solution = torch.cat([solution, event_solution], dim=-1)\n",
    "            # current = event_solution[-1]\n",
    "\n",
    "\n",
    "    def forward(self, initial_state: State, initial_time: Time) -> tuple[State, State]:\n",
    "        # Sample parameters from the prior. These parameters are generated as attributes of the model.\n",
    "        self.param_prior()\n",
    "\n",
    "        # TODO: Sample initial conditions from the prior instead of taking them as input.\n",
    "\n",
    "        # Solve the ODE, taking into account any intervention and conditioning events.\n",
    "        return self.solve(initial_state, initial_time)\n",
    "\n",
    "\n"
   ]
  },
  {
   "cell_type": "code",
   "execution_count": null,
   "metadata": {},
   "outputs": [],
   "source": []
  },
  {
   "cell_type": "code",
   "execution_count": null,
   "metadata": {},
   "outputs": [],
   "source": []
  },
  {
   "cell_type": "code",
   "execution_count": null,
   "metadata": {},
   "outputs": [],
   "source": [
    "event_time, event_solution = odeint(self.deriv, current_state, current_time, event_fn=static_event)"
   ]
  },
  {
   "cell_type": "code",
   "execution_count": null,
   "metadata": {},
   "outputs": [],
   "source": [
    "\n",
    "# TODO: Chad, initialize a stop event here.\n",
    "# stop_event = ...\n",
    "\n",
    "# TODO: Chad, create a model the subclasses BaseODEModel and has all of the above missing methods implemented.\n",
    "# deriv, param_prior, initial_conditions_prior, observation_model\n",
    "# class ActualODEModel(BaseODEModel):\n",
    "#   ...\n",
    "\n",
    "# TODO: Chad, instantiate the model here.\n",
    "# model = ActualODEModel([stop_event])\n",
    "\n",
    "# TODO: Chad, Call model.forward() here.\n",
    "# solution, _ = model(initial_state, tspan)"
   ]
  },
  {
   "cell_type": "code",
   "execution_count": 7,
   "metadata": {},
   "outputs": [],
   "source": [
    "observations = [ObservationEvent(torch.tensor([2.1]), {\"I\": torch.tensor([0.1])})]\n"
   ]
  },
  {
   "cell_type": "code",
   "execution_count": 8,
   "metadata": {},
   "outputs": [
    {
     "ename": "AttributeError",
     "evalue": "module 'pyciemss' has no attribute 'condition'",
     "output_type": "error",
     "traceback": [
      "\u001b[0;31m---------------------------------------------------------------------------\u001b[0m",
      "\u001b[0;31mAttributeError\u001b[0m                            Traceback (most recent call last)",
      "\u001b[1;32m/Users/sam-basis/Desktop/Research/pyciemss/notebook/events.ipynb Cell 4\u001b[0m in \u001b[0;36m1\n\u001b[0;32m----> <a href='vscode-notebook-cell:/Users/sam-basis/Desktop/Research/pyciemss/notebook/events.ipynb#W3sZmlsZQ%3D%3D?line=0'>1</a>\u001b[0m conditioned_model \u001b[39m=\u001b[39m pyciemss\u001b[39m.\u001b[39;49mcondition(model, observations)\n",
      "\u001b[0;31mAttributeError\u001b[0m: module 'pyciemss' has no attribute 'condition'"
     ]
    }
   ],
   "source": [
    "conditioned_model = pyciemss.condition(model, observations)"
   ]
  },
  {
   "cell_type": "code",
   "execution_count": null,
   "metadata": {},
   "outputs": [],
   "source": []
  }
 ],
 "metadata": {
  "kernelspec": {
   "display_name": "venv",
   "language": "python",
   "name": "python3"
  },
  "language_info": {
   "codemirror_mode": {
    "name": "ipython",
    "version": 3
   },
   "file_extension": ".py",
   "mimetype": "text/x-python",
   "name": "python",
   "nbconvert_exporter": "python",
   "pygments_lexer": "ipython3",
   "version": "3.10.10"
  },
  "orig_nbformat": 4,
  "vscode": {
   "interpreter": {
    "hash": "7054abfb9c869be576d97bdc33bc2e9a0aad542216d3f5b8ed98aed1f78338db"
   }
  }
 },
 "nbformat": 4,
 "nbformat_minor": 2
}
