{
 "cells": [
  {
   "cell_type": "markdown",
   "id": "a029eec6",
   "metadata": {},
   "source": [
    "This notebook is for improving error messages arising from issues with models and their AMRs."
   ]
  },
  {
   "cell_type": "code",
   "execution_count": 1,
   "id": "d227d9ff",
   "metadata": {},
   "outputs": [],
   "source": [
    "from pyciemss.PetriNetODE.interfaces import run_petri_model_checks, load_petri_model"
   ]
  },
  {
   "cell_type": "code",
   "execution_count": 2,
   "id": "14b03c98",
   "metadata": {},
   "outputs": [
    {
     "name": "stderr",
     "output_type": "stream",
     "text": [
      "/Users/altu809/Projects/pyciemss/src/pyciemss/PetriNetODE/base.py:342: UserWarning: Parameter (('S', ('identity', 'ido:0000514')), ('E', ('identity', 'apollosv:0000154')), ('I', ('identity', 'ido:0000511')), 'ControlledConversion', 'rate') has value None and will be set to Uniform(0, 1). This is likely to be an error.\n",
      "  warnings.warn(warnings_string)\n",
      "/Users/altu809/Projects/pyciemss/src/pyciemss/PetriNetODE/base.py:342: UserWarning: Parameter (('I', ('identity', 'ido:0000511')), ('R', ('identity', 'ido:0000592')), 'NaturalConversion', 'rate') has value None and will be set to Uniform(0, 1). This is likely to be an error.\n",
      "  warnings.warn(warnings_string)\n",
      "/Users/altu809/Projects/pyciemss/src/pyciemss/PetriNetODE/base.py:342: UserWarning: Parameter (('I', ('identity', 'ido:0000511')), ('H', ('identity', 'ido:0000511'), ('property', 'ncit:C25179')), 'NaturalConversion', 'rate') has value None and will be set to Uniform(0, 1). This is likely to be an error.\n",
      "  warnings.warn(warnings_string)\n",
      "/Users/altu809/Projects/pyciemss/src/pyciemss/PetriNetODE/base.py:342: UserWarning: Parameter (('H', ('identity', 'ido:0000511'), ('property', 'ncit:C25179')), ('R', ('identity', 'ido:0000592')), 'NaturalConversion', 'rate') has value None and will be set to Uniform(0, 1). This is likely to be an error.\n",
      "  warnings.warn(warnings_string)\n",
      "/Users/altu809/Projects/pyciemss/src/pyciemss/PetriNetODE/base.py:342: UserWarning: Parameter (('H', ('identity', 'ido:0000511'), ('property', 'ncit:C25179')), ('D', ('identity', 'ncit:C28554')), 'NaturalConversion', 'rate') has value None and will be set to Uniform(0, 1). This is likely to be an error.\n",
      "  warnings.warn(warnings_string)\n"
     ]
    },
    {
     "data": {
      "text/plain": [
       "ScaledNormalNoisePetriNetODESystem(\n",
       "\tN = Uniform(low: 17406000.0, high: 21274000.0),\n",
       "\tbeta_c = Uniform(low: 0.05000000074505806, high: 0.10000000149011612),\n",
       "\tbeta_s = Uniform(low: 0.30000001192092896, high: 0.6000000238418579),\n",
       "\tk = Uniform(low: 4.5, high: 5.5),\n",
       "\tkappa = Uniform(low: 0.8999999761581421, high: 1.100000023841858),\n",
       "\tt_0 = Uniform(low: 25.0, high: 35.0),\n",
       "\t(('S', ('identity', 'ido:0000514')), ('E', ('identity', 'apollosv:0000154')), ('I', ('identity', 'ido:0000511')), 'ControlledConversion', 'rate') = Uniform(low: 0.0, high: 1.0),\n",
       "\tdelta = Uniform(low: 0.22499999403953552, high: 0.2750000059604645),\n",
       "\teta = Uniform(low: 0.004999999888241291, high: 0.20000000298023224),\n",
       "\tgamma = Uniform(low: 0.10000000149011612, high: 0.5),\n",
       "\t(('I', ('identity', 'ido:0000511')), ('R', ('identity', 'ido:0000592')), 'NaturalConversion', 'rate') = Uniform(low: 0.0, high: 1.0),\n",
       "\t(('I', ('identity', 'ido:0000511')), ('H', ('identity', 'ido:0000511'), ('property', 'ncit:C25179')), 'NaturalConversion', 'rate') = Uniform(low: 0.0, high: 1.0),\n",
       "\tlos = Uniform(low: 4.5, high: 5.5),\n",
       "\tmu = Uniform(low: 0.18000000715255737, high: 0.5),\n",
       "\t(('H', ('identity', 'ido:0000511'), ('property', 'ncit:C25179')), ('R', ('identity', 'ido:0000592')), 'NaturalConversion', 'rate') = Uniform(low: 0.0, high: 1.0),\n",
       "\t(('H', ('identity', 'ido:0000511'), ('property', 'ncit:C25179')), ('D', ('identity', 'ncit:C28554')), 'NaturalConversion', 'rate') = Uniform(low: 0.0, high: 1.0),\n",
       "\tnoise_scale = 0.10000000149011612\n",
       ")"
      ]
     },
     "execution_count": 2,
     "metadata": {},
     "output_type": "execute_result"
    }
   ],
   "source": [
    "# This model should load properly\n",
    "model1 = \"../../notebook/Examples_for_TA2_Model_Representation/model1_working.json\"\n",
    "load_petri_model(model1)"
   ]
  },
  {
   "cell_type": "code",
   "execution_count": 3,
   "id": "76abc77d",
   "metadata": {},
   "outputs": [
    {
     "name": "stdout",
     "output_type": "stream",
     "text": [
      "File not found. Make sure you have the correct model path.\n"
     ]
    },
    {
     "ename": "KeyError",
     "evalue": "'model'",
     "output_type": "error",
     "traceback": [
      "\u001b[0;31m---------------------------------------------------------------------------\u001b[0m",
      "\u001b[0;31mKeyError\u001b[0m                                  Traceback (most recent call last)",
      "Cell \u001b[0;32mIn[3], line 3\u001b[0m\n\u001b[1;32m      1\u001b[0m \u001b[38;5;66;03m# Expect to get \"File not found.\"\u001b[39;00m\n\u001b[1;32m      2\u001b[0m model1 \u001b[38;5;241m=\u001b[39m \u001b[38;5;124m\"\u001b[39m\u001b[38;5;124m../../notebook/Examples_for_TA2_Model_Representation/model1.json\u001b[39m\u001b[38;5;124m\"\u001b[39m\n\u001b[0;32m----> 3\u001b[0m \u001b[43mload_petri_model\u001b[49m\u001b[43m(\u001b[49m\u001b[43mmodel1\u001b[49m\u001b[43m)\u001b[49m\n",
      "File \u001b[0;32m~/Projects/pyciemss/src/pyciemss/PetriNetODE/interfaces.py:113\u001b[0m, in \u001b[0;36mload_petri_model\u001b[0;34m(petri_model_or_path, add_uncertainty, noise_model, noise_scale, compile_observables_p, compile_rate_law_p)\u001b[0m\n\u001b[1;32m    109\u001b[0m \u001b[38;5;28;01mif\u001b[39;00m (noise_model \u001b[38;5;241m==\u001b[39m \u001b[38;5;124m\"\u001b[39m\u001b[38;5;124mscaled_beta\u001b[39m\u001b[38;5;124m\"\u001b[39m) \u001b[38;5;129;01mand\u001b[39;00m run_petri_model_checks(petri_model_or_path):\n\u001b[1;32m    110\u001b[0m     \u001b[38;5;28;01mreturn\u001b[39;00m ScaledBetaNoisePetriNetODESystem\u001b[38;5;241m.\u001b[39mfrom_askenet(\n\u001b[1;32m    111\u001b[0m         petri_model_or_path, noise_scale\u001b[38;5;241m=\u001b[39mnoise_scale, compile_rate_law_p\u001b[38;5;241m=\u001b[39mcompile_rate_law_p, compile_observables_p\u001b[38;5;241m=\u001b[39mcompile_observables_p, add_uncertainty\u001b[38;5;241m=\u001b[39madd_uncertainty\n\u001b[1;32m    112\u001b[0m     )\n\u001b[0;32m--> 113\u001b[0m \u001b[38;5;28;01melif\u001b[39;00m (noise_model \u001b[38;5;241m==\u001b[39m \u001b[38;5;124m\"\u001b[39m\u001b[38;5;124mscaled_normal\u001b[39m\u001b[38;5;124m\"\u001b[39m) \u001b[38;5;129;01mand\u001b[39;00m \u001b[43mrun_petri_model_checks\u001b[49m\u001b[43m(\u001b[49m\u001b[43mpetri_model_or_path\u001b[49m\u001b[43m)\u001b[49m:\n\u001b[1;32m    114\u001b[0m     \u001b[38;5;28;01mreturn\u001b[39;00m ScaledNormalNoisePetriNetODESystem\u001b[38;5;241m.\u001b[39mfrom_askenet(\n\u001b[1;32m    115\u001b[0m         petri_model_or_path, noise_scale\u001b[38;5;241m=\u001b[39mnoise_scale, compile_rate_law_p\u001b[38;5;241m=\u001b[39mcompile_rate_law_p, compile_observables_p\u001b[38;5;241m=\u001b[39mcompile_observables_p, add_uncertainty\u001b[38;5;241m=\u001b[39madd_uncertainty\n\u001b[1;32m    116\u001b[0m     )\n\u001b[1;32m    117\u001b[0m \u001b[38;5;28;01melse\u001b[39;00m:\n",
      "File \u001b[0;32m~/Projects/pyciemss/src/pyciemss/PetriNetODE/interfaces.py:76\u001b[0m, in \u001b[0;36mrun_petri_model_checks\u001b[0;34m(petri_model_or_path)\u001b[0m\n\u001b[1;32m     73\u001b[0m missing_keys \u001b[38;5;241m=\u001b[39m [key \u001b[38;5;28;01mfor\u001b[39;00m key \u001b[38;5;129;01min\u001b[39;00m required_keys \u001b[38;5;28;01mif\u001b[39;00m key \u001b[38;5;129;01mnot\u001b[39;00m \u001b[38;5;129;01min\u001b[39;00m amr_dict]\n\u001b[1;32m     75\u001b[0m \u001b[38;5;66;03m# Get the number of transitions and rate laws for comparison \u001b[39;00m\n\u001b[0;32m---> 76\u001b[0m num_transitions \u001b[38;5;241m=\u001b[39m \u001b[38;5;28mlen\u001b[39m(\u001b[43mamr_dict\u001b[49m\u001b[43m[\u001b[49m\u001b[38;5;124;43m\"\u001b[39;49m\u001b[38;5;124;43mmodel\u001b[39;49m\u001b[38;5;124;43m\"\u001b[39;49m\u001b[43m]\u001b[49m[\u001b[38;5;124m\"\u001b[39m\u001b[38;5;124mtransitions\u001b[39m\u001b[38;5;124m\"\u001b[39m])\n\u001b[1;32m     77\u001b[0m num_rate_laws \u001b[38;5;241m=\u001b[39m \u001b[38;5;28mlen\u001b[39m(amr_dict[\u001b[38;5;124m\"\u001b[39m\u001b[38;5;124msemantics\u001b[39m\u001b[38;5;124m\"\u001b[39m][\u001b[38;5;124m\"\u001b[39m\u001b[38;5;124mode\u001b[39m\u001b[38;5;124m\"\u001b[39m][\u001b[38;5;124m\"\u001b[39m\u001b[38;5;124mrates\u001b[39m\u001b[38;5;124m\"\u001b[39m])\n\u001b[1;32m     79\u001b[0m \u001b[38;5;66;03m# Check that every state variable is assigned an initial condition\u001b[39;00m\n",
      "\u001b[0;31mKeyError\u001b[0m: 'model'"
     ]
    }
   ],
   "source": [
    "# Expect to get \"File not found.\"\n",
    "model1 = \"../../notebook/Examples_for_TA2_Model_Representation/model1.json\"\n",
    "load_petri_model(model1)"
   ]
  },
  {
   "cell_type": "code",
   "execution_count": 4,
   "id": "1b9d220a",
   "metadata": {},
   "outputs": [
    {
     "ename": "ValueError",
     "evalue": "The AMR is missing: header",
     "output_type": "error",
     "traceback": [
      "\u001b[0;31m---------------------------------------------------------------------------\u001b[0m",
      "\u001b[0;31mValueError\u001b[0m                                Traceback (most recent call last)",
      "Cell \u001b[0;32mIn[4], line 3\u001b[0m\n\u001b[1;32m      1\u001b[0m \u001b[38;5;66;03m# Expect to be told the AMR has no \"header\"\u001b[39;00m\n\u001b[1;32m      2\u001b[0m model1 \u001b[38;5;241m=\u001b[39m \u001b[38;5;124m\"\u001b[39m\u001b[38;5;124m../../notebook/Examples_for_TA2_Model_Representation/model1_no_header.json\u001b[39m\u001b[38;5;124m\"\u001b[39m\n\u001b[0;32m----> 3\u001b[0m \u001b[43mload_petri_model\u001b[49m\u001b[43m(\u001b[49m\u001b[43mmodel1\u001b[49m\u001b[43m)\u001b[49m\n",
      "File \u001b[0;32m~/Projects/pyciemss/src/pyciemss/PetriNetODE/interfaces.py:113\u001b[0m, in \u001b[0;36mload_petri_model\u001b[0;34m(petri_model_or_path, add_uncertainty, noise_model, noise_scale, compile_observables_p, compile_rate_law_p)\u001b[0m\n\u001b[1;32m    109\u001b[0m \u001b[38;5;28;01mif\u001b[39;00m (noise_model \u001b[38;5;241m==\u001b[39m \u001b[38;5;124m\"\u001b[39m\u001b[38;5;124mscaled_beta\u001b[39m\u001b[38;5;124m\"\u001b[39m) \u001b[38;5;129;01mand\u001b[39;00m run_petri_model_checks(petri_model_or_path):\n\u001b[1;32m    110\u001b[0m     \u001b[38;5;28;01mreturn\u001b[39;00m ScaledBetaNoisePetriNetODESystem\u001b[38;5;241m.\u001b[39mfrom_askenet(\n\u001b[1;32m    111\u001b[0m         petri_model_or_path, noise_scale\u001b[38;5;241m=\u001b[39mnoise_scale, compile_rate_law_p\u001b[38;5;241m=\u001b[39mcompile_rate_law_p, compile_observables_p\u001b[38;5;241m=\u001b[39mcompile_observables_p, add_uncertainty\u001b[38;5;241m=\u001b[39madd_uncertainty\n\u001b[1;32m    112\u001b[0m     )\n\u001b[0;32m--> 113\u001b[0m \u001b[38;5;28;01melif\u001b[39;00m (noise_model \u001b[38;5;241m==\u001b[39m \u001b[38;5;124m\"\u001b[39m\u001b[38;5;124mscaled_normal\u001b[39m\u001b[38;5;124m\"\u001b[39m) \u001b[38;5;129;01mand\u001b[39;00m \u001b[43mrun_petri_model_checks\u001b[49m\u001b[43m(\u001b[49m\u001b[43mpetri_model_or_path\u001b[49m\u001b[43m)\u001b[49m:\n\u001b[1;32m    114\u001b[0m     \u001b[38;5;28;01mreturn\u001b[39;00m ScaledNormalNoisePetriNetODESystem\u001b[38;5;241m.\u001b[39mfrom_askenet(\n\u001b[1;32m    115\u001b[0m         petri_model_or_path, noise_scale\u001b[38;5;241m=\u001b[39mnoise_scale, compile_rate_law_p\u001b[38;5;241m=\u001b[39mcompile_rate_law_p, compile_observables_p\u001b[38;5;241m=\u001b[39mcompile_observables_p, add_uncertainty\u001b[38;5;241m=\u001b[39madd_uncertainty\n\u001b[1;32m    116\u001b[0m     )\n\u001b[1;32m    117\u001b[0m \u001b[38;5;28;01melse\u001b[39;00m:\n",
      "File \u001b[0;32m~/Projects/pyciemss/src/pyciemss/PetriNetODE/interfaces.py:85\u001b[0m, in \u001b[0;36mrun_petri_model_checks\u001b[0;34m(petri_model_or_path)\u001b[0m\n\u001b[1;32m     83\u001b[0m \u001b[38;5;28;01mif\u001b[39;00m missing_keys:\n\u001b[1;32m     84\u001b[0m     missing_keys_str \u001b[38;5;241m=\u001b[39m \u001b[38;5;124m'\u001b[39m\u001b[38;5;124m, \u001b[39m\u001b[38;5;124m'\u001b[39m\u001b[38;5;241m.\u001b[39mjoin(missing_keys)\n\u001b[0;32m---> 85\u001b[0m     \u001b[38;5;28;01mraise\u001b[39;00m \u001b[38;5;167;01mValueError\u001b[39;00m(\u001b[38;5;124mf\u001b[39m\u001b[38;5;124m\"\u001b[39m\u001b[38;5;124mThe AMR is missing: \u001b[39m\u001b[38;5;132;01m{\u001b[39;00mmissing_keys_str\u001b[38;5;132;01m}\u001b[39;00m\u001b[38;5;124m\"\u001b[39m)\n\u001b[1;32m     86\u001b[0m \u001b[38;5;66;03m# Check that the number of transitions matches the number of rate laws\u001b[39;00m\n\u001b[1;32m     87\u001b[0m \u001b[38;5;28;01melif\u001b[39;00m num_transitions \u001b[38;5;241m<\u001b[39m num_rate_laws:\n",
      "\u001b[0;31mValueError\u001b[0m: The AMR is missing: header"
     ]
    }
   ],
   "source": [
    "# Expect to be told the AMR has no \"header\"\n",
    "model1 = \"../../notebook/Examples_for_TA2_Model_Representation/model1_no_header.json\"\n",
    "load_petri_model(model1)"
   ]
  },
  {
   "cell_type": "code",
   "execution_count": 5,
   "id": "236f1de3",
   "metadata": {},
   "outputs": [
    {
     "ename": "ValueError",
     "evalue": "At least one transition is missing. The number of transitions must equal the number of rate laws.",
     "output_type": "error",
     "traceback": [
      "\u001b[0;31m---------------------------------------------------------------------------\u001b[0m",
      "\u001b[0;31mValueError\u001b[0m                                Traceback (most recent call last)",
      "Cell \u001b[0;32mIn[5], line 3\u001b[0m\n\u001b[1;32m      1\u001b[0m \u001b[38;5;66;03m# Expect to be told there are more rate laws than transitions\u001b[39;00m\n\u001b[1;32m      2\u001b[0m model1 \u001b[38;5;241m=\u001b[39m \u001b[38;5;124m\"\u001b[39m\u001b[38;5;124m../../notebook/Examples_for_TA2_Model_Representation/model1_missing_transition.json\u001b[39m\u001b[38;5;124m\"\u001b[39m\n\u001b[0;32m----> 3\u001b[0m \u001b[43mload_petri_model\u001b[49m\u001b[43m(\u001b[49m\u001b[43mmodel1\u001b[49m\u001b[43m)\u001b[49m\n",
      "File \u001b[0;32m~/Projects/pyciemss/src/pyciemss/PetriNetODE/interfaces.py:113\u001b[0m, in \u001b[0;36mload_petri_model\u001b[0;34m(petri_model_or_path, add_uncertainty, noise_model, noise_scale, compile_observables_p, compile_rate_law_p)\u001b[0m\n\u001b[1;32m    109\u001b[0m \u001b[38;5;28;01mif\u001b[39;00m (noise_model \u001b[38;5;241m==\u001b[39m \u001b[38;5;124m\"\u001b[39m\u001b[38;5;124mscaled_beta\u001b[39m\u001b[38;5;124m\"\u001b[39m) \u001b[38;5;129;01mand\u001b[39;00m run_petri_model_checks(petri_model_or_path):\n\u001b[1;32m    110\u001b[0m     \u001b[38;5;28;01mreturn\u001b[39;00m ScaledBetaNoisePetriNetODESystem\u001b[38;5;241m.\u001b[39mfrom_askenet(\n\u001b[1;32m    111\u001b[0m         petri_model_or_path, noise_scale\u001b[38;5;241m=\u001b[39mnoise_scale, compile_rate_law_p\u001b[38;5;241m=\u001b[39mcompile_rate_law_p, compile_observables_p\u001b[38;5;241m=\u001b[39mcompile_observables_p, add_uncertainty\u001b[38;5;241m=\u001b[39madd_uncertainty\n\u001b[1;32m    112\u001b[0m     )\n\u001b[0;32m--> 113\u001b[0m \u001b[38;5;28;01melif\u001b[39;00m (noise_model \u001b[38;5;241m==\u001b[39m \u001b[38;5;124m\"\u001b[39m\u001b[38;5;124mscaled_normal\u001b[39m\u001b[38;5;124m\"\u001b[39m) \u001b[38;5;129;01mand\u001b[39;00m \u001b[43mrun_petri_model_checks\u001b[49m\u001b[43m(\u001b[49m\u001b[43mpetri_model_or_path\u001b[49m\u001b[43m)\u001b[49m:\n\u001b[1;32m    114\u001b[0m     \u001b[38;5;28;01mreturn\u001b[39;00m ScaledNormalNoisePetriNetODESystem\u001b[38;5;241m.\u001b[39mfrom_askenet(\n\u001b[1;32m    115\u001b[0m         petri_model_or_path, noise_scale\u001b[38;5;241m=\u001b[39mnoise_scale, compile_rate_law_p\u001b[38;5;241m=\u001b[39mcompile_rate_law_p, compile_observables_p\u001b[38;5;241m=\u001b[39mcompile_observables_p, add_uncertainty\u001b[38;5;241m=\u001b[39madd_uncertainty\n\u001b[1;32m    116\u001b[0m     )\n\u001b[1;32m    117\u001b[0m \u001b[38;5;28;01melse\u001b[39;00m:\n",
      "File \u001b[0;32m~/Projects/pyciemss/src/pyciemss/PetriNetODE/interfaces.py:88\u001b[0m, in \u001b[0;36mrun_petri_model_checks\u001b[0;34m(petri_model_or_path)\u001b[0m\n\u001b[1;32m     86\u001b[0m \u001b[38;5;66;03m# Check that the number of transitions matches the number of rate laws\u001b[39;00m\n\u001b[1;32m     87\u001b[0m \u001b[38;5;28;01melif\u001b[39;00m num_transitions \u001b[38;5;241m<\u001b[39m num_rate_laws:\n\u001b[0;32m---> 88\u001b[0m     \u001b[38;5;28;01mraise\u001b[39;00m \u001b[38;5;167;01mValueError\u001b[39;00m(\u001b[38;5;124m\"\u001b[39m\u001b[38;5;124mAt least one transition is missing. The number of transitions must equal the number of rate laws.\u001b[39m\u001b[38;5;124m\"\u001b[39m)\n\u001b[1;32m     89\u001b[0m \u001b[38;5;28;01melif\u001b[39;00m num_transitions \u001b[38;5;241m>\u001b[39m num_rate_laws:\n\u001b[1;32m     90\u001b[0m     \u001b[38;5;28;01mraise\u001b[39;00m \u001b[38;5;167;01mValueError\u001b[39;00m(\u001b[38;5;124m\"\u001b[39m\u001b[38;5;124mThere are more transitions than rate laws. The number of transitions must equal the number of rate laws.\u001b[39m\u001b[38;5;124m\"\u001b[39m)\n",
      "\u001b[0;31mValueError\u001b[0m: At least one transition is missing. The number of transitions must equal the number of rate laws."
     ]
    }
   ],
   "source": [
    "# Expect to be told there are more rate laws than transitions\n",
    "model1 = \"../../notebook/Examples_for_TA2_Model_Representation/model1_missing_transition.json\"\n",
    "load_petri_model(model1)"
   ]
  },
  {
   "cell_type": "code",
   "execution_count": 6,
   "id": "9e2469ff",
   "metadata": {},
   "outputs": [
    {
     "ename": "ValueError",
     "evalue": "There are more transitions than rate laws. The number of transitions must equal the number of rate laws.",
     "output_type": "error",
     "traceback": [
      "\u001b[0;31m---------------------------------------------------------------------------\u001b[0m",
      "\u001b[0;31mValueError\u001b[0m                                Traceback (most recent call last)",
      "Cell \u001b[0;32mIn[6], line 3\u001b[0m\n\u001b[1;32m      1\u001b[0m \u001b[38;5;66;03m# Expect to be told there are more transitions than rate laws\u001b[39;00m\n\u001b[1;32m      2\u001b[0m model1 \u001b[38;5;241m=\u001b[39m \u001b[38;5;124m\"\u001b[39m\u001b[38;5;124m../../notebook/Examples_for_TA2_Model_Representation/model1_missing_rate_law.json\u001b[39m\u001b[38;5;124m\"\u001b[39m\n\u001b[0;32m----> 3\u001b[0m \u001b[43mload_petri_model\u001b[49m\u001b[43m(\u001b[49m\u001b[43mmodel1\u001b[49m\u001b[43m)\u001b[49m\n",
      "File \u001b[0;32m~/Projects/pyciemss/src/pyciemss/PetriNetODE/interfaces.py:113\u001b[0m, in \u001b[0;36mload_petri_model\u001b[0;34m(petri_model_or_path, add_uncertainty, noise_model, noise_scale, compile_observables_p, compile_rate_law_p)\u001b[0m\n\u001b[1;32m    109\u001b[0m \u001b[38;5;28;01mif\u001b[39;00m (noise_model \u001b[38;5;241m==\u001b[39m \u001b[38;5;124m\"\u001b[39m\u001b[38;5;124mscaled_beta\u001b[39m\u001b[38;5;124m\"\u001b[39m) \u001b[38;5;129;01mand\u001b[39;00m run_petri_model_checks(petri_model_or_path):\n\u001b[1;32m    110\u001b[0m     \u001b[38;5;28;01mreturn\u001b[39;00m ScaledBetaNoisePetriNetODESystem\u001b[38;5;241m.\u001b[39mfrom_askenet(\n\u001b[1;32m    111\u001b[0m         petri_model_or_path, noise_scale\u001b[38;5;241m=\u001b[39mnoise_scale, compile_rate_law_p\u001b[38;5;241m=\u001b[39mcompile_rate_law_p, compile_observables_p\u001b[38;5;241m=\u001b[39mcompile_observables_p, add_uncertainty\u001b[38;5;241m=\u001b[39madd_uncertainty\n\u001b[1;32m    112\u001b[0m     )\n\u001b[0;32m--> 113\u001b[0m \u001b[38;5;28;01melif\u001b[39;00m (noise_model \u001b[38;5;241m==\u001b[39m \u001b[38;5;124m\"\u001b[39m\u001b[38;5;124mscaled_normal\u001b[39m\u001b[38;5;124m\"\u001b[39m) \u001b[38;5;129;01mand\u001b[39;00m \u001b[43mrun_petri_model_checks\u001b[49m\u001b[43m(\u001b[49m\u001b[43mpetri_model_or_path\u001b[49m\u001b[43m)\u001b[49m:\n\u001b[1;32m    114\u001b[0m     \u001b[38;5;28;01mreturn\u001b[39;00m ScaledNormalNoisePetriNetODESystem\u001b[38;5;241m.\u001b[39mfrom_askenet(\n\u001b[1;32m    115\u001b[0m         petri_model_or_path, noise_scale\u001b[38;5;241m=\u001b[39mnoise_scale, compile_rate_law_p\u001b[38;5;241m=\u001b[39mcompile_rate_law_p, compile_observables_p\u001b[38;5;241m=\u001b[39mcompile_observables_p, add_uncertainty\u001b[38;5;241m=\u001b[39madd_uncertainty\n\u001b[1;32m    116\u001b[0m     )\n\u001b[1;32m    117\u001b[0m \u001b[38;5;28;01melse\u001b[39;00m:\n",
      "File \u001b[0;32m~/Projects/pyciemss/src/pyciemss/PetriNetODE/interfaces.py:90\u001b[0m, in \u001b[0;36mrun_petri_model_checks\u001b[0;34m(petri_model_or_path)\u001b[0m\n\u001b[1;32m     88\u001b[0m     \u001b[38;5;28;01mraise\u001b[39;00m \u001b[38;5;167;01mValueError\u001b[39;00m(\u001b[38;5;124m\"\u001b[39m\u001b[38;5;124mAt least one transition is missing. The number of transitions must equal the number of rate laws.\u001b[39m\u001b[38;5;124m\"\u001b[39m)\n\u001b[1;32m     89\u001b[0m \u001b[38;5;28;01melif\u001b[39;00m num_transitions \u001b[38;5;241m>\u001b[39m num_rate_laws:\n\u001b[0;32m---> 90\u001b[0m     \u001b[38;5;28;01mraise\u001b[39;00m \u001b[38;5;167;01mValueError\u001b[39;00m(\u001b[38;5;124m\"\u001b[39m\u001b[38;5;124mThere are more transitions than rate laws. The number of transitions must equal the number of rate laws.\u001b[39m\u001b[38;5;124m\"\u001b[39m)\n\u001b[1;32m     91\u001b[0m \u001b[38;5;66;03m# Check that every state variable is assigned an initial condition\u001b[39;00m\n\u001b[1;32m     92\u001b[0m \u001b[38;5;28;01melif\u001b[39;00m missing_ids:\n",
      "\u001b[0;31mValueError\u001b[0m: There are more transitions than rate laws. The number of transitions must equal the number of rate laws."
     ]
    }
   ],
   "source": [
    "# Expect to be told there are more transitions than rate laws\n",
    "model1 = \"../../notebook/Examples_for_TA2_Model_Representation/model1_missing_rate_law.json\"\n",
    "load_petri_model(model1)"
   ]
  },
  {
   "cell_type": "code",
   "execution_count": 8,
   "id": "dca271e6",
   "metadata": {},
   "outputs": [
    {
     "ename": "ValueError",
     "evalue": "The following state variables do not have corresponding initials: R",
     "output_type": "error",
     "traceback": [
      "\u001b[0;31m---------------------------------------------------------------------------\u001b[0m",
      "\u001b[0;31mValueError\u001b[0m                                Traceback (most recent call last)",
      "Cell \u001b[0;32mIn[8], line 3\u001b[0m\n\u001b[1;32m      1\u001b[0m \u001b[38;5;66;03m# Expect to be told there is no initial condition for \"R\"\u001b[39;00m\n\u001b[1;32m      2\u001b[0m model1 \u001b[38;5;241m=\u001b[39m \u001b[38;5;124m\"\u001b[39m\u001b[38;5;124m../../notebook/Examples_for_TA2_Model_Representation/model1_missing_initial.json\u001b[39m\u001b[38;5;124m\"\u001b[39m\n\u001b[0;32m----> 3\u001b[0m \u001b[43mload_petri_model\u001b[49m\u001b[43m(\u001b[49m\u001b[43mmodel1\u001b[49m\u001b[43m)\u001b[49m\n",
      "File \u001b[0;32m~/Projects/pyciemss/src/pyciemss/PetriNetODE/interfaces.py:113\u001b[0m, in \u001b[0;36mload_petri_model\u001b[0;34m(petri_model_or_path, add_uncertainty, noise_model, noise_scale, compile_observables_p, compile_rate_law_p)\u001b[0m\n\u001b[1;32m    109\u001b[0m \u001b[38;5;28;01mif\u001b[39;00m (noise_model \u001b[38;5;241m==\u001b[39m \u001b[38;5;124m\"\u001b[39m\u001b[38;5;124mscaled_beta\u001b[39m\u001b[38;5;124m\"\u001b[39m) \u001b[38;5;129;01mand\u001b[39;00m run_petri_model_checks(petri_model_or_path):\n\u001b[1;32m    110\u001b[0m     \u001b[38;5;28;01mreturn\u001b[39;00m ScaledBetaNoisePetriNetODESystem\u001b[38;5;241m.\u001b[39mfrom_askenet(\n\u001b[1;32m    111\u001b[0m         petri_model_or_path, noise_scale\u001b[38;5;241m=\u001b[39mnoise_scale, compile_rate_law_p\u001b[38;5;241m=\u001b[39mcompile_rate_law_p, compile_observables_p\u001b[38;5;241m=\u001b[39mcompile_observables_p, add_uncertainty\u001b[38;5;241m=\u001b[39madd_uncertainty\n\u001b[1;32m    112\u001b[0m     )\n\u001b[0;32m--> 113\u001b[0m \u001b[38;5;28;01melif\u001b[39;00m (noise_model \u001b[38;5;241m==\u001b[39m \u001b[38;5;124m\"\u001b[39m\u001b[38;5;124mscaled_normal\u001b[39m\u001b[38;5;124m\"\u001b[39m) \u001b[38;5;129;01mand\u001b[39;00m \u001b[43mrun_petri_model_checks\u001b[49m\u001b[43m(\u001b[49m\u001b[43mpetri_model_or_path\u001b[49m\u001b[43m)\u001b[49m:\n\u001b[1;32m    114\u001b[0m     \u001b[38;5;28;01mreturn\u001b[39;00m ScaledNormalNoisePetriNetODESystem\u001b[38;5;241m.\u001b[39mfrom_askenet(\n\u001b[1;32m    115\u001b[0m         petri_model_or_path, noise_scale\u001b[38;5;241m=\u001b[39mnoise_scale, compile_rate_law_p\u001b[38;5;241m=\u001b[39mcompile_rate_law_p, compile_observables_p\u001b[38;5;241m=\u001b[39mcompile_observables_p, add_uncertainty\u001b[38;5;241m=\u001b[39madd_uncertainty\n\u001b[1;32m    116\u001b[0m     )\n\u001b[1;32m    117\u001b[0m \u001b[38;5;28;01melse\u001b[39;00m:\n",
      "File \u001b[0;32m~/Projects/pyciemss/src/pyciemss/PetriNetODE/interfaces.py:94\u001b[0m, in \u001b[0;36mrun_petri_model_checks\u001b[0;34m(petri_model_or_path)\u001b[0m\n\u001b[1;32m     92\u001b[0m \u001b[38;5;28;01melif\u001b[39;00m missing_ids:\n\u001b[1;32m     93\u001b[0m     missing_ids_str \u001b[38;5;241m=\u001b[39m \u001b[38;5;124m'\u001b[39m\u001b[38;5;124m, \u001b[39m\u001b[38;5;124m'\u001b[39m\u001b[38;5;241m.\u001b[39mjoin(missing_ids)\n\u001b[0;32m---> 94\u001b[0m     \u001b[38;5;28;01mraise\u001b[39;00m \u001b[38;5;167;01mValueError\u001b[39;00m(\u001b[38;5;124mf\u001b[39m\u001b[38;5;124m\"\u001b[39m\u001b[38;5;124mThe following state variables do not have corresponding initials: \u001b[39m\u001b[38;5;132;01m{\u001b[39;00mmissing_ids_str\u001b[38;5;132;01m}\u001b[39;00m\u001b[38;5;124m\"\u001b[39m)\n\u001b[1;32m     95\u001b[0m \u001b[38;5;28;01melse\u001b[39;00m:\n\u001b[1;32m     96\u001b[0m     \u001b[38;5;28;01mreturn\u001b[39;00m \u001b[38;5;28;01mTrue\u001b[39;00m\n",
      "\u001b[0;31mValueError\u001b[0m: The following state variables do not have corresponding initials: R"
     ]
    }
   ],
   "source": [
    "# Expect to be told there is no initial condition for \"R\"\n",
    "model1 = \"../../notebook/Examples_for_TA2_Model_Representation/model1_missing_initial.json\"\n",
    "load_petri_model(model1)"
   ]
  },
  {
   "cell_type": "code",
   "execution_count": null,
   "id": "4c7e643a",
   "metadata": {},
   "outputs": [],
   "source": []
  }
 ],
 "metadata": {
  "kernelspec": {
   "display_name": "Python 3 (ipykernel)",
   "language": "python",
   "name": "python3"
  },
  "language_info": {
   "codemirror_mode": {
    "name": "ipython",
    "version": 3
   },
   "file_extension": ".py",
   "mimetype": "text/x-python",
   "name": "python",
   "nbconvert_exporter": "python",
   "pygments_lexer": "ipython3",
   "version": "3.10.9"
  }
 },
 "nbformat": 4,
 "nbformat_minor": 5
}
