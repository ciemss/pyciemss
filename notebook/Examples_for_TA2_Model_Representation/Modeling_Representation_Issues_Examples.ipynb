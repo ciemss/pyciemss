{
 "cells": [
  {
   "cell_type": "markdown",
   "id": "2d575ba3",
   "metadata": {},
   "source": [
    "# Examples for TA2 Model Representation\n",
    "## Create ASKENET model by hand to demonstrate issues with modeling representation"
   ]
  },
  {
   "cell_type": "code",
   "execution_count": 1,
   "id": "5f207d0f",
   "metadata": {},
   "outputs": [],
   "source": [
    "import sys\n",
    "sys.path.append('/Users/mahs128/Repos/mira')"
   ]
  },
  {
   "cell_type": "code",
   "execution_count": 39,
   "id": "a3cdd4b0",
   "metadata": {},
   "outputs": [
    {
     "data": {
      "text/plain": [
       "['/Users/mahs128/Repos/pyciemss/notebook/Examples_for_TA2_Model_Representation',\n",
       " '/Users/mahs128/opt/anaconda3/envs/pyciemss/lib/python311.zip',\n",
       " '/Users/mahs128/opt/anaconda3/envs/pyciemss/lib/python3.11',\n",
       " '/Users/mahs128/opt/anaconda3/envs/pyciemss/lib/python3.11/lib-dynload',\n",
       " '',\n",
       " '/Users/mahs128/opt/anaconda3/envs/pyciemss/lib/python3.11/site-packages',\n",
       " '/Users/mahs128/Repos/pyciemss/src',\n",
       " '/Users/mahs128/Repos/mira']"
      ]
     },
     "execution_count": 39,
     "metadata": {},
     "output_type": "execute_result"
    }
   ],
   "source": [
    "sys.path"
   ]
  },
  {
   "cell_type": "code",
   "execution_count": 147,
   "id": "c9ad2f5f",
   "metadata": {},
   "outputs": [
    {
     "ename": "ModuleNotFoundError",
     "evalue": "No module named 'mira.modeling.askenet'",
     "output_type": "error",
     "traceback": [
      "\u001b[0;31m---------------------------------------------------------------------------\u001b[0m",
      "\u001b[0;31mModuleNotFoundError\u001b[0m                       Traceback (most recent call last)",
      "Cell \u001b[0;32mIn[147], line 4\u001b[0m\n\u001b[1;32m      2\u001b[0m \u001b[38;5;28;01mfrom\u001b[39;00m \u001b[38;5;21;01mmira\u001b[39;00m\u001b[38;5;21;01m.\u001b[39;00m\u001b[38;5;21;01mmodeling\u001b[39;00m\u001b[38;5;21;01m.\u001b[39;00m\u001b[38;5;21;01mviz\u001b[39;00m \u001b[38;5;28;01mimport\u001b[39;00m GraphicalModel\n\u001b[1;32m      3\u001b[0m \u001b[38;5;28;01mfrom\u001b[39;00m \u001b[38;5;21;01mmira\u001b[39;00m\u001b[38;5;21;01m.\u001b[39;00m\u001b[38;5;21;01mmodeling\u001b[39;00m \u001b[38;5;28;01mimport\u001b[39;00m \u001b[38;5;241m*\u001b[39m\n\u001b[0;32m----> 4\u001b[0m \u001b[38;5;28;01mfrom\u001b[39;00m \u001b[38;5;21;01mmira\u001b[39;00m\u001b[38;5;21;01m.\u001b[39;00m\u001b[38;5;21;01mmodeling\u001b[39;00m\u001b[38;5;21;01m.\u001b[39;00m\u001b[38;5;21;01maskenet\u001b[39;00m \u001b[38;5;28;01mimport\u001b[39;00m \u001b[38;5;241m*\u001b[39m\n\u001b[1;32m      5\u001b[0m \u001b[38;5;28;01mimport\u001b[39;00m \u001b[38;5;21;01msympy\u001b[39;00m\n\u001b[1;32m      7\u001b[0m \u001b[38;5;28;01mfrom\u001b[39;00m \u001b[38;5;21;01mpyciemss\u001b[39;00m \u001b[38;5;28;01mimport\u001b[39;00m interfaces\n",
      "\u001b[0;31mModuleNotFoundError\u001b[0m: No module named 'mira.modeling.askenet'"
     ]
    }
   ],
   "source": [
    "from mira.metamodel import * # ControlledConversion, NaturalConversion, Concept, Template\n",
    "from mira.modeling.viz import GraphicalModel\n",
    "from mira.modeling import *\n",
    "from mira.modeling.askenet import * # \n",
    "import sympy\n",
    "\n",
    "from pyciemss import interfaces\n",
    "from pyciemss.PetriNetODE import interfaces"
   ]
  },
  {
   "cell_type": "code",
   "execution_count": 134,
   "id": "9eea497a",
   "metadata": {},
   "outputs": [],
   "source": [
    "# Define concepts (model state variables)\n",
    "susceptible = Concept(name='S', identifiers={'ido': '0000514'})\n",
    "exposed = Concept(name='E', identifiers={'genepio': '0001538'})\n",
    "symptomatic = Concept(name='I', identifiers={'ido': '0000512'})\n",
    "asymptomatic = Concept(name='A', identifiers={'ido': '0000513'})\n",
    "recovered = Concept(name='R', identifiers={'ido': '0000592'})\n",
    "hospitalized = Concept(name='H', identifiers={'ido': '0000591'})\n",
    "deceased = Concept(name='D', identifiers={'ncit': 'C28554'})\n",
    "\n"
   ]
  },
  {
   "cell_type": "code",
   "execution_count": 135,
   "id": "a52bf659",
   "metadata": {},
   "outputs": [],
   "source": [
    "# Define conversion templates\n",
    "beta, N, S, delta, I, A, ps, alpha, E, gamma, hosp, dnh, dh, los, H = sympy.symbols(\"beta, N, S, delta, I, A, ps, alpha, E, gamma, hosp, dnh, dh, los, H\")\n",
    "\n",
    "S_to_E = GroupedControlledConversion(\n",
    "    controllers = [\n",
    "        symptomatic, # Concept(name='I', identifiers={'ido': '0000512'}), \n",
    "        asymptomatic, # Concept(name='A', identifiers={'ido': '0000513'})\n",
    "    ],\n",
    "    subject=susceptible,\n",
    "    outcome=exposed,\n",
    "    rate_law=(beta/N)*S*(delta*I + A)\n",
    " )\n",
    "E_to_I = NaturalConversion(\n",
    "    subject=exposed,\n",
    "    outcome=symptomatic,\n",
    "    rate_law=(ps/alpha)*E\n",
    ")\n",
    "E_to_A = NaturalConversion(\n",
    "    subject=exposed,\n",
    "    outcome=asymptomatic,\n",
    "    rate_law=((1-ps)/alpha)*E\n",
    ")\n",
    "I_to_R = NaturalConversion(\n",
    "    subject=symptomatic,\n",
    "    outcome=recovered,\n",
    "    rate_law=gamma*(1-hosp-dnh)*I\n",
    ")\n",
    "I_to_H = NaturalConversion(\n",
    "    subject=symptomatic,\n",
    "    outcome=recovered,\n",
    "    rate_law=gamma*(1-hosp-dnh)*I\n",
    ")\n",
    "I_to_D = NaturalConversion(\n",
    "    subject=symptomatic,\n",
    "    outcome=deceased,\n",
    "    rate_law=gamma*dnh*I\n",
    ")\n",
    "A_to_R = NaturalConversion(\n",
    "    subject=asymptomatic,\n",
    "    outcome=recovered,\n",
    "    rate_law=gamma*A\n",
    ")\n",
    "H_to_R = NaturalConversion(\n",
    "    subject=hospitalized,\n",
    "    outcome=recovered,\n",
    "    rate_law=((1-dh)/los)*H\n",
    ")\n",
    "H_to_D = NaturalConversion(\n",
    "    subject=hospitalized,\n",
    "    outcome=deceased,\n",
    "    rate_law=(dh/los)*H\n",
    ")"
   ]
  },
  {
   "cell_type": "code",
   "execution_count": 136,
   "id": "7b49d6fb",
   "metadata": {},
   "outputs": [],
   "source": [
    "# Define model template\n",
    "tm = TemplateModel(\n",
    "    templates=[S_to_E, E_to_I, E_to_A, I_to_R, I_to_H, I_to_D, A_to_R, H_to_R, H_to_D],\n",
    "    parameters={\n",
    "        'beta': Parameter(name='beta', value=0.55),\n",
    "        'delta': Parameter(name='delta', value=1.5),\n",
    "        'ps': Parameter(name='ps', value=0.7),\n",
    "        'alpha': Parameter(name='alpha', value=4),\n",
    "        'gamma': Parameter(name='gamma', value=0.2),\n",
    "        'hosp': Parameter(name='hosp', value=0.1),\n",
    "        'dnh': Parameter(name='dnh', value=0.001),\n",
    "        'dh': Parameter(name='dh', value=0.1),\n",
    "        'los': Parameter(name='los', value=7),\n",
    "    }\n",
    ")"
   ]
  },
  {
   "cell_type": "code",
   "execution_count": 137,
   "id": "2080c5c9",
   "metadata": {},
   "outputs": [
    {
     "data": {
      "text/plain": [
       "mira.metamodel.template_model.TemplateModel"
      ]
     },
     "execution_count": 137,
     "metadata": {},
     "output_type": "execute_result"
    }
   ],
   "source": [
    "type(tm)"
   ]
  },
  {
   "cell_type": "code",
   "execution_count": 138,
   "id": "82a2f870",
   "metadata": {},
   "outputs": [
    {
     "data": {
      "text/plain": [
       "{'templates': [{'rate_law': S*beta*(A + I*delta)/N,\n",
       "   'type': 'GroupedControlledConversion',\n",
       "   'controllers': [{'name': 'I',\n",
       "     'identifiers': {'ido': '0000512'},\n",
       "     'context': {}},\n",
       "    {'name': 'A', 'identifiers': {'ido': '0000513'}, 'context': {}}],\n",
       "   'subject': {'name': 'S', 'identifiers': {'ido': '0000514'}, 'context': {}},\n",
       "   'outcome': {'name': 'E',\n",
       "    'identifiers': {'genepio': '0001538'},\n",
       "    'context': {}},\n",
       "   'provenance': []},\n",
       "  {'rate_law': E*ps/alpha,\n",
       "   'type': 'NaturalConversion',\n",
       "   'subject': {'name': 'E',\n",
       "    'identifiers': {'genepio': '0001538'},\n",
       "    'context': {}},\n",
       "   'outcome': {'name': 'I', 'identifiers': {'ido': '0000512'}, 'context': {}},\n",
       "   'provenance': []},\n",
       "  {'rate_law': E*(1 - ps)/alpha,\n",
       "   'type': 'NaturalConversion',\n",
       "   'subject': {'name': 'E',\n",
       "    'identifiers': {'genepio': '0001538'},\n",
       "    'context': {}},\n",
       "   'outcome': {'name': 'A', 'identifiers': {'ido': '0000513'}, 'context': {}},\n",
       "   'provenance': []},\n",
       "  {'rate_law': I*gamma*(-dnh - hosp + 1),\n",
       "   'type': 'NaturalConversion',\n",
       "   'subject': {'name': 'I', 'identifiers': {'ido': '0000512'}, 'context': {}},\n",
       "   'outcome': {'name': 'R', 'identifiers': {'ido': '0000592'}, 'context': {}},\n",
       "   'provenance': []},\n",
       "  {'rate_law': I*gamma*(-dnh - hosp + 1),\n",
       "   'type': 'NaturalConversion',\n",
       "   'subject': {'name': 'I', 'identifiers': {'ido': '0000512'}, 'context': {}},\n",
       "   'outcome': {'name': 'R', 'identifiers': {'ido': '0000592'}, 'context': {}},\n",
       "   'provenance': []},\n",
       "  {'rate_law': I*dnh*gamma,\n",
       "   'type': 'NaturalConversion',\n",
       "   'subject': {'name': 'I', 'identifiers': {'ido': '0000512'}, 'context': {}},\n",
       "   'outcome': {'name': 'D', 'identifiers': {'ncit': 'C28554'}, 'context': {}},\n",
       "   'provenance': []},\n",
       "  {'rate_law': A*gamma,\n",
       "   'type': 'NaturalConversion',\n",
       "   'subject': {'name': 'A', 'identifiers': {'ido': '0000513'}, 'context': {}},\n",
       "   'outcome': {'name': 'R', 'identifiers': {'ido': '0000592'}, 'context': {}},\n",
       "   'provenance': []},\n",
       "  {'rate_law': H*(1 - dh)/los,\n",
       "   'type': 'NaturalConversion',\n",
       "   'subject': {'name': 'H', 'identifiers': {'ido': '0000591'}, 'context': {}},\n",
       "   'outcome': {'name': 'R', 'identifiers': {'ido': '0000592'}, 'context': {}},\n",
       "   'provenance': []},\n",
       "  {'rate_law': H*dh/los,\n",
       "   'type': 'NaturalConversion',\n",
       "   'subject': {'name': 'H', 'identifiers': {'ido': '0000591'}, 'context': {}},\n",
       "   'outcome': {'name': 'D', 'identifiers': {'ncit': 'C28554'}, 'context': {}},\n",
       "   'provenance': []}],\n",
       " 'parameters': {'beta': {'name': 'beta',\n",
       "   'identifiers': {},\n",
       "   'context': {},\n",
       "   'value': 0.55,\n",
       "   'distribution': None},\n",
       "  'delta': {'name': 'delta',\n",
       "   'identifiers': {},\n",
       "   'context': {},\n",
       "   'value': 1.5,\n",
       "   'distribution': None},\n",
       "  'ps': {'name': 'ps',\n",
       "   'identifiers': {},\n",
       "   'context': {},\n",
       "   'value': 0.7,\n",
       "   'distribution': None},\n",
       "  'alpha': {'name': 'alpha',\n",
       "   'identifiers': {},\n",
       "   'context': {},\n",
       "   'value': 4.0,\n",
       "   'distribution': None},\n",
       "  'gamma': {'name': 'gamma',\n",
       "   'identifiers': {},\n",
       "   'context': {},\n",
       "   'value': 0.2,\n",
       "   'distribution': None},\n",
       "  'hosp': {'name': 'hosp',\n",
       "   'identifiers': {},\n",
       "   'context': {},\n",
       "   'value': 0.1,\n",
       "   'distribution': None},\n",
       "  'dnh': {'name': 'dnh',\n",
       "   'identifiers': {},\n",
       "   'context': {},\n",
       "   'value': 0.001,\n",
       "   'distribution': None},\n",
       "  'dh': {'name': 'dh',\n",
       "   'identifiers': {},\n",
       "   'context': {},\n",
       "   'value': 0.1,\n",
       "   'distribution': None},\n",
       "  'los': {'name': 'los',\n",
       "   'identifiers': {},\n",
       "   'context': {},\n",
       "   'value': 7.0,\n",
       "   'distribution': None}},\n",
       " 'initials': {},\n",
       " 'observables': {},\n",
       " 'annotations': {'name': None,\n",
       "  'description': None,\n",
       "  'license': None,\n",
       "  'authors': [],\n",
       "  'references': [],\n",
       "  'time_scale': None,\n",
       "  'time_start': None,\n",
       "  'time_end': None,\n",
       "  'locations': [],\n",
       "  'pathogens': [],\n",
       "  'diseases': [],\n",
       "  'hosts': [],\n",
       "  'model_types': []}}"
      ]
     },
     "execution_count": 138,
     "metadata": {},
     "output_type": "execute_result"
    }
   ],
   "source": [
    "tm.dict()"
   ]
  },
  {
   "cell_type": "code",
   "execution_count": 139,
   "id": "3763cb32",
   "metadata": {},
   "outputs": [
    {
     "name": "stdout",
     "output_type": "stream",
     "text": [
      "templates\n",
      "parameters\n",
      "initials\n",
      "observables\n",
      "annotations\n"
     ]
    },
    {
     "data": {
      "text/plain": [
       "[GroupedControlledConversion(rate_law=S*beta*(A + I*delta)/N, type='GroupedControlledConversion', controllers=[Concept(name='I', identifiers={'ido': '0000512'}, context={}), Concept(name='A', identifiers={'ido': '0000513'}, context={})], subject=Concept(name='S', identifiers={'ido': '0000514'}, context={}), outcome=Concept(name='E', identifiers={'genepio': '0001538'}, context={}), provenance=[]),\n",
       " NaturalConversion(rate_law=E*ps/alpha, type='NaturalConversion', subject=Concept(name='E', identifiers={'genepio': '0001538'}, context={}), outcome=Concept(name='I', identifiers={'ido': '0000512'}, context={}), provenance=[]),\n",
       " NaturalConversion(rate_law=E*(1 - ps)/alpha, type='NaturalConversion', subject=Concept(name='E', identifiers={'genepio': '0001538'}, context={}), outcome=Concept(name='A', identifiers={'ido': '0000513'}, context={}), provenance=[]),\n",
       " NaturalConversion(rate_law=I*gamma*(-dnh - hosp + 1), type='NaturalConversion', subject=Concept(name='I', identifiers={'ido': '0000512'}, context={}), outcome=Concept(name='R', identifiers={'ido': '0000592'}, context={}), provenance=[]),\n",
       " NaturalConversion(rate_law=I*gamma*(-dnh - hosp + 1), type='NaturalConversion', subject=Concept(name='I', identifiers={'ido': '0000512'}, context={}), outcome=Concept(name='R', identifiers={'ido': '0000592'}, context={}), provenance=[]),\n",
       " NaturalConversion(rate_law=I*dnh*gamma, type='NaturalConversion', subject=Concept(name='I', identifiers={'ido': '0000512'}, context={}), outcome=Concept(name='D', identifiers={'ncit': 'C28554'}, context={}), provenance=[]),\n",
       " NaturalConversion(rate_law=A*gamma, type='NaturalConversion', subject=Concept(name='A', identifiers={'ido': '0000513'}, context={}), outcome=Concept(name='R', identifiers={'ido': '0000592'}, context={}), provenance=[]),\n",
       " NaturalConversion(rate_law=H*(1 - dh)/los, type='NaturalConversion', subject=Concept(name='H', identifiers={'ido': '0000591'}, context={}), outcome=Concept(name='R', identifiers={'ido': '0000592'}, context={}), provenance=[]),\n",
       " NaturalConversion(rate_law=H*dh/los, type='NaturalConversion', subject=Concept(name='H', identifiers={'ido': '0000591'}, context={}), outcome=Concept(name='D', identifiers={'ncit': 'C28554'}, context={}), provenance=[])]"
      ]
     },
     "execution_count": 139,
     "metadata": {},
     "output_type": "execute_result"
    }
   ],
   "source": [
    "for k,v in tm:\n",
    "    print(k)\n",
    "tm.templates"
   ]
  },
  {
   "cell_type": "code",
   "execution_count": 140,
   "id": "80511f36",
   "metadata": {},
   "outputs": [],
   "source": [
    "mira_m = Model(tm)"
   ]
  },
  {
   "cell_type": "code",
   "execution_count": 141,
   "id": "58c5cbfc",
   "metadata": {},
   "outputs": [
    {
     "data": {
      "text/plain": [
       "mira.modeling.Model"
      ]
     },
     "execution_count": 141,
     "metadata": {},
     "output_type": "execute_result"
    }
   ],
   "source": [
    "type(mira_m)"
   ]
  },
  {
   "cell_type": "code",
   "execution_count": 142,
   "id": "8547082e",
   "metadata": {},
   "outputs": [
    {
     "data": {
      "text/plain": [
       "{('S', ('identity', 'ido:0000514')): <mira.modeling.Variable at 0x155334190>,\n",
       " ('E',\n",
       "  ('identity', 'genepio:0001538')): <mira.modeling.Variable at 0x155314ad0>,\n",
       " ('I', ('identity', 'ido:0000512')): <mira.modeling.Variable at 0x155316f10>,\n",
       " ('A', ('identity', 'ido:0000513')): <mira.modeling.Variable at 0x155317b90>,\n",
       " ('R', ('identity', 'ido:0000592')): <mira.modeling.Variable at 0x155314690>,\n",
       " ('D', ('identity', 'ncit:C28554')): <mira.modeling.Variable at 0x155314050>,\n",
       " ('H', ('identity', 'ido:0000591')): <mira.modeling.Variable at 0x155316b10>}"
      ]
     },
     "execution_count": 142,
     "metadata": {},
     "output_type": "execute_result"
    }
   ],
   "source": [
    "mira_m.variables"
   ]
  },
  {
   "cell_type": "code",
   "execution_count": 146,
   "id": "b3fedc8a",
   "metadata": {},
   "outputs": [
    {
     "data": {
      "text/plain": [
       "<mira.modeling.petri.PetriNetModel at 0x155315b10>"
      ]
     },
     "metadata": {},
     "output_type": "display_data"
    },
    {
     "name": "stdout",
     "output_type": "stream",
     "text": [
      "<class 'mira.modeling.petri.PetriNetModel'>\n"
     ]
    }
   ],
   "source": [
    "# Convert the metamodel template model to petrinet model to take advantage of the to_json_file() function\n",
    "from mira.modeling import petri\n",
    "petri_m = petri.PetriNetModel(mira_m)\n",
    "\n",
    "display(petri_m)\n",
    "print(type(petri_m))\n",
    "\n",
    "petri_m_fname = \"Example_SEIARHD_model.json\"\n",
    "petri_m.to_json_file(fname = petri_m_fname)"
   ]
  },
  {
   "cell_type": "code",
   "execution_count": 144,
   "id": "b10f819e",
   "metadata": {},
   "outputs": [
    {
     "ename": "AttributeError",
     "evalue": "'PetriNetModel' object has no attribute 'parameters'",
     "output_type": "error",
     "traceback": [
      "\u001b[0;31m---------------------------------------------------------------------------\u001b[0m",
      "\u001b[0;31mAttributeError\u001b[0m                            Traceback (most recent call last)",
      "Cell \u001b[0;32mIn[144], line 2\u001b[0m\n\u001b[1;32m      1\u001b[0m \u001b[38;5;66;03m# import petri_m the pyciemss way\u001b[39;00m\n\u001b[0;32m----> 2\u001b[0m the_model \u001b[38;5;241m=\u001b[39m \u001b[43minterfaces\u001b[49m\u001b[38;5;241;43m.\u001b[39;49m\u001b[43mload_petri_model\u001b[49m\u001b[43m(\u001b[49m\u001b[43mpetri_m\u001b[49m\u001b[43m)\u001b[49m\n",
      "File \u001b[0;32m~/Repos/pyciemss/src/pyciemss/PetriNetODE/interfaces.py:152\u001b[0m, in \u001b[0;36mload_petri_model\u001b[0;34m(petri_model_or_path, add_uncertainty, pseudocount)\u001b[0m\n\u001b[1;32m    147\u001b[0m \u001b[38;5;250m\u001b[39m\u001b[38;5;124;03m\"\"\"\u001b[39;00m\n\u001b[1;32m    148\u001b[0m \u001b[38;5;124;03mLoad a petri net from a file and compile it into a probabilistic program.\u001b[39;00m\n\u001b[1;32m    149\u001b[0m \u001b[38;5;124;03m\"\"\"\u001b[39;00m\n\u001b[1;32m    151\u001b[0m \u001b[38;5;28;01mif\u001b[39;00m add_uncertainty:\n\u001b[0;32m--> 152\u001b[0m     model \u001b[38;5;241m=\u001b[39m \u001b[43mScaledBetaNoisePetriNetODESystem\u001b[49m\u001b[38;5;241;43m.\u001b[39;49m\u001b[43mfrom_mira\u001b[49m\u001b[43m(\u001b[49m\u001b[43mpetri_model_or_path\u001b[49m\u001b[43m)\u001b[49m\n\u001b[1;32m    153\u001b[0m     model\u001b[38;5;241m.\u001b[39mpseudocount \u001b[38;5;241m=\u001b[39m torch\u001b[38;5;241m.\u001b[39mtensor(pseudocount)\n\u001b[1;32m    154\u001b[0m     \u001b[38;5;28;01mreturn\u001b[39;00m model\n",
      "File \u001b[0;32m~/opt/anaconda3/envs/pyciemss/lib/python3.11/functools.py:946\u001b[0m, in \u001b[0;36msingledispatchmethod.__get__.<locals>._method\u001b[0;34m(*args, **kwargs)\u001b[0m\n\u001b[1;32m    944\u001b[0m \u001b[38;5;28;01mdef\u001b[39;00m \u001b[38;5;21m_method\u001b[39m(\u001b[38;5;241m*\u001b[39margs, \u001b[38;5;241m*\u001b[39m\u001b[38;5;241m*\u001b[39mkwargs):\n\u001b[1;32m    945\u001b[0m     method \u001b[38;5;241m=\u001b[39m \u001b[38;5;28mself\u001b[39m\u001b[38;5;241m.\u001b[39mdispatcher\u001b[38;5;241m.\u001b[39mdispatch(args[\u001b[38;5;241m0\u001b[39m]\u001b[38;5;241m.\u001b[39m\u001b[38;5;18m__class__\u001b[39m)\n\u001b[0;32m--> 946\u001b[0m     \u001b[38;5;28;01mreturn\u001b[39;00m \u001b[43mmethod\u001b[49m\u001b[38;5;241;43m.\u001b[39;49m\u001b[38;5;21;43m__get__\u001b[39;49m\u001b[43m(\u001b[49m\u001b[43mobj\u001b[49m\u001b[43m,\u001b[49m\u001b[43m \u001b[49m\u001b[38;5;28;43mcls\u001b[39;49m\u001b[43m)\u001b[49m\u001b[43m(\u001b[49m\u001b[38;5;241;43m*\u001b[39;49m\u001b[43margs\u001b[49m\u001b[43m,\u001b[49m\u001b[43m \u001b[49m\u001b[38;5;241;43m*\u001b[39;49m\u001b[38;5;241;43m*\u001b[39;49m\u001b[43mkwargs\u001b[49m\u001b[43m)\u001b[49m\n",
      "File \u001b[0;32m~/Repos/pyciemss/src/pyciemss/PetriNetODE/base.py:325\u001b[0m, in \u001b[0;36mMiraPetriNetODESystem.from_mira\u001b[0;34m(cls, model)\u001b[0m\n\u001b[1;32m    322\u001b[0m \u001b[38;5;129m@functools\u001b[39m\u001b[38;5;241m.\u001b[39msingledispatchmethod\n\u001b[1;32m    323\u001b[0m \u001b[38;5;129m@classmethod\u001b[39m\n\u001b[1;32m    324\u001b[0m \u001b[38;5;28;01mdef\u001b[39;00m \u001b[38;5;21mfrom_mira\u001b[39m(\u001b[38;5;28mcls\u001b[39m, model: mira\u001b[38;5;241m.\u001b[39mmodeling\u001b[38;5;241m.\u001b[39mModel) \u001b[38;5;241m-\u001b[39m\u001b[38;5;241m>\u001b[39m \u001b[38;5;124m\"\u001b[39m\u001b[38;5;124mMiraPetriNetODESystem\u001b[39m\u001b[38;5;124m\"\u001b[39m:\n\u001b[0;32m--> 325\u001b[0m     \u001b[38;5;28;01mreturn\u001b[39;00m \u001b[38;5;28;43mcls\u001b[39;49m\u001b[43m(\u001b[49m\u001b[43mmodel\u001b[49m\u001b[43m)\u001b[49m\n",
      "File \u001b[0;32m~/Repos/pyciemss/src/pyciemss/PetriNetODE/base.py:410\u001b[0m, in \u001b[0;36mScaledBetaNoisePetriNetODESystem.__init__\u001b[0;34m(self, G, pseudocount)\u001b[0m\n\u001b[1;32m    408\u001b[0m \u001b[38;5;28;01mdef\u001b[39;00m \u001b[38;5;21m__init__\u001b[39m(\u001b[38;5;28mself\u001b[39m, G: mira\u001b[38;5;241m.\u001b[39mmodeling\u001b[38;5;241m.\u001b[39mModel, pseudocount: \u001b[38;5;28mfloat\u001b[39m \u001b[38;5;241m=\u001b[39m \u001b[38;5;241m1\u001b[39m):\n\u001b[0;32m--> 410\u001b[0m     \u001b[38;5;28;01mfor\u001b[39;00m param_info \u001b[38;5;129;01min\u001b[39;00m \u001b[43mG\u001b[49m\u001b[38;5;241;43m.\u001b[39;49m\u001b[43mparameters\u001b[49m\u001b[38;5;241m.\u001b[39mvalues():\n\u001b[1;32m    411\u001b[0m         param_value \u001b[38;5;241m=\u001b[39m param_info\u001b[38;5;241m.\u001b[39mvalue\n\u001b[1;32m    412\u001b[0m         \u001b[38;5;28;01mif\u001b[39;00m param_value \u001b[38;5;129;01mis\u001b[39;00m \u001b[38;5;28;01mNone\u001b[39;00m:\n",
      "\u001b[0;31mAttributeError\u001b[0m: 'PetriNetModel' object has no attribute 'parameters'"
     ]
    }
   ],
   "source": [
    "# import petri_m the pyciemss way\n",
    "the_model = interfaces.load_petri_model(petri_m)"
   ]
  },
  {
   "cell_type": "code",
   "execution_count": 118,
   "id": "45208344",
   "metadata": {},
   "outputs": [
    {
     "data": {
      "text/plain": [
       "ScaledBetaNoisePetriNetODESystem(\n",
       "\tdelta = Uniform(low: 1.350000023841858, high: 1.649999976158142),\n",
       "\tbeta = Uniform(low: 0.4950000047683716, high: 0.6050000190734863),\n",
       "\t('S', 'E', ('I', 'A'), 'GroupedControlledConversion', 'rate') = Uniform(low: 0.0, high: 1.0),\n",
       "\tps = Uniform(low: 0.6299999952316284, high: 0.7699999809265137),\n",
       "\talpha = Uniform(low: 3.5999999046325684, high: 4.400000095367432),\n",
       "\t('E', 'I', 'NaturalConversion', 'rate') = Uniform(low: 0.0, high: 1.0),\n",
       "\t('E', 'A', 'NaturalConversion', 'rate') = Uniform(low: 0.0, high: 1.0),\n",
       "\thosp = Uniform(low: 0.09000000357627869, high: 0.10999999940395355),\n",
       "\tgamma = Uniform(low: 0.18000000715255737, high: 0.2199999988079071),\n",
       "\tdnh = Uniform(low: 0.0008999999845400453, high: 0.0010999999940395355),\n",
       "\t('I', 'R', 'NaturalConversion', 'rate') = Uniform(low: 0.0, high: 1.0),\n",
       "\t('I', 'D', 'NaturalConversion', 'rate') = Uniform(low: 0.0, high: 1.0),\n",
       "\tlos = Uniform(low: 6.300000190734863, high: 7.699999809265137),\n",
       "\tdh = Uniform(low: 0.09000000357627869, high: 0.10999999940395355),\n",
       "\t('H', 'R', 'NaturalConversion', 'rate') = Uniform(low: 0.0, high: 1.0),\n",
       "\t('H', 'D', 'NaturalConversion', 'rate') = Uniform(low: 0.0, high: 1.0),\n",
       "\tpseudocount = 1.0\n",
       ")"
      ]
     },
     "execution_count": 118,
     "metadata": {},
     "output_type": "execute_result"
    }
   ],
   "source": [
    "the_model"
   ]
  },
  {
   "cell_type": "code",
   "execution_count": 26,
   "id": "1f97c914",
   "metadata": {},
   "outputs": [
    {
     "ename": "ValueError",
     "evalue": "Program dot not found in path.",
     "output_type": "error",
     "traceback": [
      "\u001b[0;31m---------------------------------------------------------------------------\u001b[0m",
      "\u001b[0;31mValueError\u001b[0m                                Traceback (most recent call last)",
      "File \u001b[0;32m~/opt/anaconda3/envs/pyciemss/lib/python3.11/site-packages/pygraphviz/agraph.py:1361\u001b[0m, in \u001b[0;36mAGraph._get_prog\u001b[0;34m(self, prog)\u001b[0m\n\u001b[1;32m   1360\u001b[0m \u001b[38;5;28;01mtry\u001b[39;00m:  \u001b[38;5;66;03m# user must pick one of the graphviz programs...\u001b[39;00m\n\u001b[0;32m-> 1361\u001b[0m     runprog \u001b[38;5;241m=\u001b[39m \u001b[38;5;28;43mself\u001b[39;49m\u001b[38;5;241;43m.\u001b[39;49m\u001b[43m_which\u001b[49m\u001b[43m(\u001b[49m\u001b[43mprog\u001b[49m\u001b[43m)\u001b[49m\n\u001b[1;32m   1362\u001b[0m \u001b[38;5;28;01mexcept\u001b[39;00m:\n",
      "File \u001b[0;32m~/opt/anaconda3/envs/pyciemss/lib/python3.11/site-packages/pygraphviz/agraph.py:1816\u001b[0m, in \u001b[0;36mAGraph._which\u001b[0;34m(self, name)\u001b[0m\n\u001b[1;32m   1815\u001b[0m         \u001b[38;5;28;01mreturn\u001b[39;00m match[\u001b[38;5;241m0\u001b[39m]\n\u001b[0;32m-> 1816\u001b[0m \u001b[38;5;28;01mraise\u001b[39;00m \u001b[38;5;167;01mValueError\u001b[39;00m(\u001b[38;5;124mf\u001b[39m\u001b[38;5;124m\"\u001b[39m\u001b[38;5;124mNo prog \u001b[39m\u001b[38;5;132;01m{\u001b[39;00mname\u001b[38;5;132;01m}\u001b[39;00m\u001b[38;5;124m in path.\u001b[39m\u001b[38;5;124m\"\u001b[39m)\n",
      "\u001b[0;31mValueError\u001b[0m: No prog dot in path.",
      "\nDuring handling of the above exception, another exception occurred:\n",
      "\u001b[0;31mValueError\u001b[0m                                Traceback (most recent call last)",
      "Cell \u001b[0;32mIn[26], line 1\u001b[0m\n\u001b[0;32m----> 1\u001b[0m \u001b[43mGraphicalModel\u001b[49m\u001b[38;5;241;43m.\u001b[39;49m\u001b[43mfor_jupyter\u001b[49m\u001b[43m(\u001b[49m\u001b[43mtm\u001b[49m\u001b[43m,\u001b[49m\u001b[43m \u001b[49m\u001b[43mwidth\u001b[49m\u001b[38;5;241;43m=\u001b[39;49m\u001b[38;5;124;43m\"\u001b[39;49m\u001b[38;5;124;43m20\u001b[39;49m\u001b[38;5;124;43m%\u001b[39;49m\u001b[38;5;124;43m\"\u001b[39;49m\u001b[43m)\u001b[49m\n",
      "File \u001b[0;32m~/opt/anaconda3/envs/pyciemss/lib/python3.11/site-packages/mira/modeling/viz.py:113\u001b[0m, in \u001b[0;36mGraphicalModel.for_jupyter\u001b[0;34m(cls, template_model, name, **kwargs)\u001b[0m\n\u001b[1;32m    110\u001b[0m \u001b[38;5;250m\u001b[39m\u001b[38;5;124;03m\"\"\"Display in jupyter.\"\"\"\u001b[39;00m\n\u001b[1;32m    111\u001b[0m \u001b[38;5;28;01mfrom\u001b[39;00m \u001b[38;5;21;01mIPython\u001b[39;00m\u001b[38;5;21;01m.\u001b[39;00m\u001b[38;5;21;01mdisplay\u001b[39;00m \u001b[38;5;28;01mimport\u001b[39;00m Image\n\u001b[0;32m--> 113\u001b[0m \u001b[43mGraphicalModel\u001b[49m\u001b[38;5;241;43m.\u001b[39;49m\u001b[43mfrom_template_model\u001b[49m\u001b[43m(\u001b[49m\u001b[43mtemplate_model\u001b[49m\u001b[43m)\u001b[49m\u001b[38;5;241;43m.\u001b[39;49m\u001b[43mwrite\u001b[49m\u001b[43m(\u001b[49m\u001b[43mname\u001b[49m\u001b[43m)\u001b[49m\n\u001b[1;32m    114\u001b[0m \u001b[38;5;28;01mreturn\u001b[39;00m Image(name, \u001b[38;5;241m*\u001b[39m\u001b[38;5;241m*\u001b[39mkwargs)\n",
      "File \u001b[0;32m~/opt/anaconda3/envs/pyciemss/lib/python3.11/site-packages/mira/modeling/viz.py:106\u001b[0m, in \u001b[0;36mGraphicalModel.write\u001b[0;34m(self, path, prog, args, format)\u001b[0m\n\u001b[1;32m     92\u001b[0m \u001b[38;5;250m\u001b[39m\u001b[38;5;124;03m\"\"\"Write the graphical representation to a file.\u001b[39;00m\n\u001b[1;32m     93\u001b[0m \n\u001b[1;32m     94\u001b[0m \u001b[38;5;124;03mParameters\u001b[39;00m\n\u001b[0;32m   (...)\u001b[0m\n\u001b[1;32m    103\u001b[0m \u001b[38;5;124;03m    Additional arguments to pass to the graphviz bash program\u001b[39;00m\n\u001b[1;32m    104\u001b[0m \u001b[38;5;124;03m\"\"\"\u001b[39;00m\n\u001b[1;32m    105\u001b[0m path \u001b[38;5;241m=\u001b[39m Path(path)\u001b[38;5;241m.\u001b[39mexpanduser()\u001b[38;5;241m.\u001b[39mresolve()\n\u001b[0;32m--> 106\u001b[0m \u001b[38;5;28;43mself\u001b[39;49m\u001b[38;5;241;43m.\u001b[39;49m\u001b[43mgraph\u001b[49m\u001b[38;5;241;43m.\u001b[39;49m\u001b[43mdraw\u001b[49m\u001b[43m(\u001b[49m\u001b[43mpath\u001b[49m\u001b[43m,\u001b[49m\u001b[43m \u001b[49m\u001b[38;5;28;43mformat\u001b[39;49m\u001b[38;5;241;43m=\u001b[39;49m\u001b[38;5;28;43mformat\u001b[39;49m\u001b[43m,\u001b[49m\u001b[43m \u001b[49m\u001b[43mprog\u001b[49m\u001b[38;5;241;43m=\u001b[39;49m\u001b[43mprog\u001b[49m\u001b[43m,\u001b[49m\u001b[43m \u001b[49m\u001b[43margs\u001b[49m\u001b[38;5;241;43m=\u001b[39;49m\u001b[43margs\u001b[49m\u001b[43m)\u001b[49m\n",
      "File \u001b[0;32m~/opt/anaconda3/envs/pyciemss/lib/python3.11/site-packages/pygraphviz/agraph.py:1613\u001b[0m, in \u001b[0;36mAGraph.draw\u001b[0;34m(self, path, format, prog, args)\u001b[0m\n\u001b[1;32m   1610\u001b[0m \u001b[38;5;28;01melse\u001b[39;00m:\n\u001b[1;32m   1611\u001b[0m     args \u001b[38;5;241m=\u001b[39m \u001b[38;5;124m\"\u001b[39m\u001b[38;5;124m \u001b[39m\u001b[38;5;124m\"\u001b[39m\u001b[38;5;241m.\u001b[39mjoin([args, \u001b[38;5;124m\"\u001b[39m\u001b[38;5;124m-T\u001b[39m\u001b[38;5;124m\"\u001b[39m \u001b[38;5;241m+\u001b[39m \u001b[38;5;28mformat\u001b[39m])\n\u001b[0;32m-> 1613\u001b[0m data \u001b[38;5;241m=\u001b[39m \u001b[38;5;28;43mself\u001b[39;49m\u001b[38;5;241;43m.\u001b[39;49m\u001b[43m_run_prog\u001b[49m\u001b[43m(\u001b[49m\u001b[43mprog\u001b[49m\u001b[43m,\u001b[49m\u001b[43m \u001b[49m\u001b[43margs\u001b[49m\u001b[43m)\u001b[49m\n\u001b[1;32m   1615\u001b[0m \u001b[38;5;28;01mif\u001b[39;00m path \u001b[38;5;129;01mis\u001b[39;00m \u001b[38;5;129;01mnot\u001b[39;00m \u001b[38;5;28;01mNone\u001b[39;00m:\n\u001b[1;32m   1616\u001b[0m     fh \u001b[38;5;241m=\u001b[39m \u001b[38;5;28mself\u001b[39m\u001b[38;5;241m.\u001b[39m_get_fh(path, \u001b[38;5;124m\"\u001b[39m\u001b[38;5;124mw+b\u001b[39m\u001b[38;5;124m\"\u001b[39m)\n",
      "File \u001b[0;32m~/opt/anaconda3/envs/pyciemss/lib/python3.11/site-packages/pygraphviz/agraph.py:1377\u001b[0m, in \u001b[0;36mAGraph._run_prog\u001b[0;34m(self, prog, args)\u001b[0m\n\u001b[1;32m   1367\u001b[0m \u001b[38;5;28;01mdef\u001b[39;00m \u001b[38;5;21m_run_prog\u001b[39m(\u001b[38;5;28mself\u001b[39m, prog\u001b[38;5;241m=\u001b[39m\u001b[38;5;124m\"\u001b[39m\u001b[38;5;124mnop\u001b[39m\u001b[38;5;124m\"\u001b[39m, args\u001b[38;5;241m=\u001b[39m\u001b[38;5;124m\"\u001b[39m\u001b[38;5;124m\"\u001b[39m):\n\u001b[1;32m   1368\u001b[0m \u001b[38;5;250m    \u001b[39m\u001b[38;5;124;03m\"\"\"Apply graphviz program to graph and return the result as a string.\u001b[39;00m\n\u001b[1;32m   1369\u001b[0m \n\u001b[1;32m   1370\u001b[0m \u001b[38;5;124;03m    >>> import pygraphviz as pgv\u001b[39;00m\n\u001b[0;32m   (...)\u001b[0m\n\u001b[1;32m   1375\u001b[0m \u001b[38;5;124;03m    Use keyword args to add additional arguments to graphviz programs.\u001b[39;00m\n\u001b[1;32m   1376\u001b[0m \u001b[38;5;124;03m    \"\"\"\u001b[39;00m\n\u001b[0;32m-> 1377\u001b[0m     runprog \u001b[38;5;241m=\u001b[39m \u001b[38;5;124mr\u001b[39m\u001b[38;5;124m'\u001b[39m\u001b[38;5;124m\"\u001b[39m\u001b[38;5;132;01m%s\u001b[39;00m\u001b[38;5;124m\"\u001b[39m\u001b[38;5;124m'\u001b[39m \u001b[38;5;241m%\u001b[39m \u001b[38;5;28;43mself\u001b[39;49m\u001b[38;5;241;43m.\u001b[39;49m\u001b[43m_get_prog\u001b[49m\u001b[43m(\u001b[49m\u001b[43mprog\u001b[49m\u001b[43m)\u001b[49m\n\u001b[1;32m   1378\u001b[0m     cmd \u001b[38;5;241m=\u001b[39m \u001b[38;5;124m\"\u001b[39m\u001b[38;5;124m \u001b[39m\u001b[38;5;124m\"\u001b[39m\u001b[38;5;241m.\u001b[39mjoin([runprog, args])\n\u001b[1;32m   1379\u001b[0m     dotargs \u001b[38;5;241m=\u001b[39m shlex\u001b[38;5;241m.\u001b[39msplit(cmd)\n",
      "File \u001b[0;32m~/opt/anaconda3/envs/pyciemss/lib/python3.11/site-packages/pygraphviz/agraph.py:1363\u001b[0m, in \u001b[0;36mAGraph._get_prog\u001b[0;34m(self, prog)\u001b[0m\n\u001b[1;32m   1361\u001b[0m     runprog \u001b[38;5;241m=\u001b[39m \u001b[38;5;28mself\u001b[39m\u001b[38;5;241m.\u001b[39m_which(prog)\n\u001b[1;32m   1362\u001b[0m \u001b[38;5;28;01mexcept\u001b[39;00m:\n\u001b[0;32m-> 1363\u001b[0m     \u001b[38;5;28;01mraise\u001b[39;00m \u001b[38;5;167;01mValueError\u001b[39;00m(\u001b[38;5;124mf\u001b[39m\u001b[38;5;124m\"\u001b[39m\u001b[38;5;124mProgram \u001b[39m\u001b[38;5;132;01m{\u001b[39;00mprog\u001b[38;5;132;01m}\u001b[39;00m\u001b[38;5;124m not found in path.\u001b[39m\u001b[38;5;124m\"\u001b[39m)\n\u001b[1;32m   1365\u001b[0m \u001b[38;5;28;01mreturn\u001b[39;00m runprog\n",
      "\u001b[0;31mValueError\u001b[0m: Program dot not found in path."
     ]
    }
   ],
   "source": [
    "GraphicalModel.for_jupyter(tm, width=\"20%\")"
   ]
  },
  {
   "cell_type": "code",
   "execution_count": 27,
   "id": "3ac39bdb",
   "metadata": {},
   "outputs": [
    {
     "ename": "ValueError",
     "evalue": "Program dot not found in path.",
     "output_type": "error",
     "traceback": [
      "\u001b[0;31m---------------------------------------------------------------------------\u001b[0m",
      "\u001b[0;31mValueError\u001b[0m                                Traceback (most recent call last)",
      "File \u001b[0;32m~/opt/anaconda3/envs/pyciemss/lib/python3.11/site-packages/pygraphviz/agraph.py:1361\u001b[0m, in \u001b[0;36mAGraph._get_prog\u001b[0;34m(self, prog)\u001b[0m\n\u001b[1;32m   1360\u001b[0m \u001b[38;5;28;01mtry\u001b[39;00m:  \u001b[38;5;66;03m# user must pick one of the graphviz programs...\u001b[39;00m\n\u001b[0;32m-> 1361\u001b[0m     runprog \u001b[38;5;241m=\u001b[39m \u001b[38;5;28;43mself\u001b[39;49m\u001b[38;5;241;43m.\u001b[39;49m\u001b[43m_which\u001b[49m\u001b[43m(\u001b[49m\u001b[43mprog\u001b[49m\u001b[43m)\u001b[49m\n\u001b[1;32m   1362\u001b[0m \u001b[38;5;28;01mexcept\u001b[39;00m:\n",
      "File \u001b[0;32m~/opt/anaconda3/envs/pyciemss/lib/python3.11/site-packages/pygraphviz/agraph.py:1816\u001b[0m, in \u001b[0;36mAGraph._which\u001b[0;34m(self, name)\u001b[0m\n\u001b[1;32m   1815\u001b[0m         \u001b[38;5;28;01mreturn\u001b[39;00m match[\u001b[38;5;241m0\u001b[39m]\n\u001b[0;32m-> 1816\u001b[0m \u001b[38;5;28;01mraise\u001b[39;00m \u001b[38;5;167;01mValueError\u001b[39;00m(\u001b[38;5;124mf\u001b[39m\u001b[38;5;124m\"\u001b[39m\u001b[38;5;124mNo prog \u001b[39m\u001b[38;5;132;01m{\u001b[39;00mname\u001b[38;5;132;01m}\u001b[39;00m\u001b[38;5;124m in path.\u001b[39m\u001b[38;5;124m\"\u001b[39m)\n",
      "\u001b[0;31mValueError\u001b[0m: No prog dot in path.",
      "\nDuring handling of the above exception, another exception occurred:\n",
      "\u001b[0;31mValueError\u001b[0m                                Traceback (most recent call last)",
      "Cell \u001b[0;32mIn[27], line 2\u001b[0m\n\u001b[1;32m      1\u001b[0m tm2 \u001b[38;5;241m=\u001b[39m simplify_rate_laws(tm)\n\u001b[0;32m----> 2\u001b[0m \u001b[43mGraphicalModel\u001b[49m\u001b[38;5;241;43m.\u001b[39;49m\u001b[43mfor_jupyter\u001b[49m\u001b[43m(\u001b[49m\u001b[43mtm2\u001b[49m\u001b[43m,\u001b[49m\u001b[43m \u001b[49m\u001b[43mwidth\u001b[49m\u001b[38;5;241;43m=\u001b[39;49m\u001b[38;5;124;43m\"\u001b[39;49m\u001b[38;5;124;43m20\u001b[39;49m\u001b[38;5;124;43m%\u001b[39;49m\u001b[38;5;124;43m\"\u001b[39;49m\u001b[43m)\u001b[49m\n",
      "File \u001b[0;32m~/opt/anaconda3/envs/pyciemss/lib/python3.11/site-packages/mira/modeling/viz.py:113\u001b[0m, in \u001b[0;36mGraphicalModel.for_jupyter\u001b[0;34m(cls, template_model, name, **kwargs)\u001b[0m\n\u001b[1;32m    110\u001b[0m \u001b[38;5;250m\u001b[39m\u001b[38;5;124;03m\"\"\"Display in jupyter.\"\"\"\u001b[39;00m\n\u001b[1;32m    111\u001b[0m \u001b[38;5;28;01mfrom\u001b[39;00m \u001b[38;5;21;01mIPython\u001b[39;00m\u001b[38;5;21;01m.\u001b[39;00m\u001b[38;5;21;01mdisplay\u001b[39;00m \u001b[38;5;28;01mimport\u001b[39;00m Image\n\u001b[0;32m--> 113\u001b[0m \u001b[43mGraphicalModel\u001b[49m\u001b[38;5;241;43m.\u001b[39;49m\u001b[43mfrom_template_model\u001b[49m\u001b[43m(\u001b[49m\u001b[43mtemplate_model\u001b[49m\u001b[43m)\u001b[49m\u001b[38;5;241;43m.\u001b[39;49m\u001b[43mwrite\u001b[49m\u001b[43m(\u001b[49m\u001b[43mname\u001b[49m\u001b[43m)\u001b[49m\n\u001b[1;32m    114\u001b[0m \u001b[38;5;28;01mreturn\u001b[39;00m Image(name, \u001b[38;5;241m*\u001b[39m\u001b[38;5;241m*\u001b[39mkwargs)\n",
      "File \u001b[0;32m~/opt/anaconda3/envs/pyciemss/lib/python3.11/site-packages/mira/modeling/viz.py:106\u001b[0m, in \u001b[0;36mGraphicalModel.write\u001b[0;34m(self, path, prog, args, format)\u001b[0m\n\u001b[1;32m     92\u001b[0m \u001b[38;5;250m\u001b[39m\u001b[38;5;124;03m\"\"\"Write the graphical representation to a file.\u001b[39;00m\n\u001b[1;32m     93\u001b[0m \n\u001b[1;32m     94\u001b[0m \u001b[38;5;124;03mParameters\u001b[39;00m\n\u001b[0;32m   (...)\u001b[0m\n\u001b[1;32m    103\u001b[0m \u001b[38;5;124;03m    Additional arguments to pass to the graphviz bash program\u001b[39;00m\n\u001b[1;32m    104\u001b[0m \u001b[38;5;124;03m\"\"\"\u001b[39;00m\n\u001b[1;32m    105\u001b[0m path \u001b[38;5;241m=\u001b[39m Path(path)\u001b[38;5;241m.\u001b[39mexpanduser()\u001b[38;5;241m.\u001b[39mresolve()\n\u001b[0;32m--> 106\u001b[0m \u001b[38;5;28;43mself\u001b[39;49m\u001b[38;5;241;43m.\u001b[39;49m\u001b[43mgraph\u001b[49m\u001b[38;5;241;43m.\u001b[39;49m\u001b[43mdraw\u001b[49m\u001b[43m(\u001b[49m\u001b[43mpath\u001b[49m\u001b[43m,\u001b[49m\u001b[43m \u001b[49m\u001b[38;5;28;43mformat\u001b[39;49m\u001b[38;5;241;43m=\u001b[39;49m\u001b[38;5;28;43mformat\u001b[39;49m\u001b[43m,\u001b[49m\u001b[43m \u001b[49m\u001b[43mprog\u001b[49m\u001b[38;5;241;43m=\u001b[39;49m\u001b[43mprog\u001b[49m\u001b[43m,\u001b[49m\u001b[43m \u001b[49m\u001b[43margs\u001b[49m\u001b[38;5;241;43m=\u001b[39;49m\u001b[43margs\u001b[49m\u001b[43m)\u001b[49m\n",
      "File \u001b[0;32m~/opt/anaconda3/envs/pyciemss/lib/python3.11/site-packages/pygraphviz/agraph.py:1613\u001b[0m, in \u001b[0;36mAGraph.draw\u001b[0;34m(self, path, format, prog, args)\u001b[0m\n\u001b[1;32m   1610\u001b[0m \u001b[38;5;28;01melse\u001b[39;00m:\n\u001b[1;32m   1611\u001b[0m     args \u001b[38;5;241m=\u001b[39m \u001b[38;5;124m\"\u001b[39m\u001b[38;5;124m \u001b[39m\u001b[38;5;124m\"\u001b[39m\u001b[38;5;241m.\u001b[39mjoin([args, \u001b[38;5;124m\"\u001b[39m\u001b[38;5;124m-T\u001b[39m\u001b[38;5;124m\"\u001b[39m \u001b[38;5;241m+\u001b[39m \u001b[38;5;28mformat\u001b[39m])\n\u001b[0;32m-> 1613\u001b[0m data \u001b[38;5;241m=\u001b[39m \u001b[38;5;28;43mself\u001b[39;49m\u001b[38;5;241;43m.\u001b[39;49m\u001b[43m_run_prog\u001b[49m\u001b[43m(\u001b[49m\u001b[43mprog\u001b[49m\u001b[43m,\u001b[49m\u001b[43m \u001b[49m\u001b[43margs\u001b[49m\u001b[43m)\u001b[49m\n\u001b[1;32m   1615\u001b[0m \u001b[38;5;28;01mif\u001b[39;00m path \u001b[38;5;129;01mis\u001b[39;00m \u001b[38;5;129;01mnot\u001b[39;00m \u001b[38;5;28;01mNone\u001b[39;00m:\n\u001b[1;32m   1616\u001b[0m     fh \u001b[38;5;241m=\u001b[39m \u001b[38;5;28mself\u001b[39m\u001b[38;5;241m.\u001b[39m_get_fh(path, \u001b[38;5;124m\"\u001b[39m\u001b[38;5;124mw+b\u001b[39m\u001b[38;5;124m\"\u001b[39m)\n",
      "File \u001b[0;32m~/opt/anaconda3/envs/pyciemss/lib/python3.11/site-packages/pygraphviz/agraph.py:1377\u001b[0m, in \u001b[0;36mAGraph._run_prog\u001b[0;34m(self, prog, args)\u001b[0m\n\u001b[1;32m   1367\u001b[0m \u001b[38;5;28;01mdef\u001b[39;00m \u001b[38;5;21m_run_prog\u001b[39m(\u001b[38;5;28mself\u001b[39m, prog\u001b[38;5;241m=\u001b[39m\u001b[38;5;124m\"\u001b[39m\u001b[38;5;124mnop\u001b[39m\u001b[38;5;124m\"\u001b[39m, args\u001b[38;5;241m=\u001b[39m\u001b[38;5;124m\"\u001b[39m\u001b[38;5;124m\"\u001b[39m):\n\u001b[1;32m   1368\u001b[0m \u001b[38;5;250m    \u001b[39m\u001b[38;5;124;03m\"\"\"Apply graphviz program to graph and return the result as a string.\u001b[39;00m\n\u001b[1;32m   1369\u001b[0m \n\u001b[1;32m   1370\u001b[0m \u001b[38;5;124;03m    >>> import pygraphviz as pgv\u001b[39;00m\n\u001b[0;32m   (...)\u001b[0m\n\u001b[1;32m   1375\u001b[0m \u001b[38;5;124;03m    Use keyword args to add additional arguments to graphviz programs.\u001b[39;00m\n\u001b[1;32m   1376\u001b[0m \u001b[38;5;124;03m    \"\"\"\u001b[39;00m\n\u001b[0;32m-> 1377\u001b[0m     runprog \u001b[38;5;241m=\u001b[39m \u001b[38;5;124mr\u001b[39m\u001b[38;5;124m'\u001b[39m\u001b[38;5;124m\"\u001b[39m\u001b[38;5;132;01m%s\u001b[39;00m\u001b[38;5;124m\"\u001b[39m\u001b[38;5;124m'\u001b[39m \u001b[38;5;241m%\u001b[39m \u001b[38;5;28;43mself\u001b[39;49m\u001b[38;5;241;43m.\u001b[39;49m\u001b[43m_get_prog\u001b[49m\u001b[43m(\u001b[49m\u001b[43mprog\u001b[49m\u001b[43m)\u001b[49m\n\u001b[1;32m   1378\u001b[0m     cmd \u001b[38;5;241m=\u001b[39m \u001b[38;5;124m\"\u001b[39m\u001b[38;5;124m \u001b[39m\u001b[38;5;124m\"\u001b[39m\u001b[38;5;241m.\u001b[39mjoin([runprog, args])\n\u001b[1;32m   1379\u001b[0m     dotargs \u001b[38;5;241m=\u001b[39m shlex\u001b[38;5;241m.\u001b[39msplit(cmd)\n",
      "File \u001b[0;32m~/opt/anaconda3/envs/pyciemss/lib/python3.11/site-packages/pygraphviz/agraph.py:1363\u001b[0m, in \u001b[0;36mAGraph._get_prog\u001b[0;34m(self, prog)\u001b[0m\n\u001b[1;32m   1361\u001b[0m     runprog \u001b[38;5;241m=\u001b[39m \u001b[38;5;28mself\u001b[39m\u001b[38;5;241m.\u001b[39m_which(prog)\n\u001b[1;32m   1362\u001b[0m \u001b[38;5;28;01mexcept\u001b[39;00m:\n\u001b[0;32m-> 1363\u001b[0m     \u001b[38;5;28;01mraise\u001b[39;00m \u001b[38;5;167;01mValueError\u001b[39;00m(\u001b[38;5;124mf\u001b[39m\u001b[38;5;124m\"\u001b[39m\u001b[38;5;124mProgram \u001b[39m\u001b[38;5;132;01m{\u001b[39;00mprog\u001b[38;5;132;01m}\u001b[39;00m\u001b[38;5;124m not found in path.\u001b[39m\u001b[38;5;124m\"\u001b[39m)\n\u001b[1;32m   1365\u001b[0m \u001b[38;5;28;01mreturn\u001b[39;00m runprog\n",
      "\u001b[0;31mValueError\u001b[0m: Program dot not found in path."
     ]
    }
   ],
   "source": [
    "tm2 = simplify_rate_laws(tm)\n",
    "GraphicalModel.for_jupyter(tm2, width=\"20%\")"
   ]
  },
  {
   "cell_type": "code",
   "execution_count": 28,
   "id": "08374067",
   "metadata": {},
   "outputs": [
    {
     "data": {
      "text/plain": [
       "{'templates': [{'rate_law': S*beta*(A + I*delta)/N,\n",
       "   'type': 'GroupedControlledConversion',\n",
       "   'controllers': [{'name': 'I', 'identifiers': {}, 'context': {}},\n",
       "    {'name': 'A', 'identifiers': {}, 'context': {}}],\n",
       "   'subject': {'name': 'S', 'identifiers': {}, 'context': {}},\n",
       "   'outcome': {'name': 'E', 'identifiers': {}, 'context': {}},\n",
       "   'provenance': []},\n",
       "  {'rate_law': E*ps/alpha,\n",
       "   'type': 'NaturalConversion',\n",
       "   'subject': {'name': 'E', 'identifiers': {}, 'context': {}},\n",
       "   'outcome': {'name': 'I', 'identifiers': {}, 'context': {}},\n",
       "   'provenance': []},\n",
       "  {'rate_law': E*(1 - ps)/alpha,\n",
       "   'type': 'NaturalConversion',\n",
       "   'subject': {'name': 'E', 'identifiers': {}, 'context': {}},\n",
       "   'outcome': {'name': 'A', 'identifiers': {}, 'context': {}},\n",
       "   'provenance': []},\n",
       "  {'rate_law': I*gamma*(-dnh - hosp + 1),\n",
       "   'type': 'NaturalConversion',\n",
       "   'subject': {'name': 'I', 'identifiers': {}, 'context': {}},\n",
       "   'outcome': {'name': 'R', 'identifiers': {}, 'context': {}},\n",
       "   'provenance': []},\n",
       "  {'rate_law': I*gamma*(-dnh - hosp + 1),\n",
       "   'type': 'NaturalConversion',\n",
       "   'subject': {'name': 'I', 'identifiers': {}, 'context': {}},\n",
       "   'outcome': {'name': 'R', 'identifiers': {}, 'context': {}},\n",
       "   'provenance': []},\n",
       "  {'rate_law': I*dnh*gamma,\n",
       "   'type': 'NaturalConversion',\n",
       "   'subject': {'name': 'I', 'identifiers': {}, 'context': {}},\n",
       "   'outcome': {'name': 'D', 'identifiers': {}, 'context': {}},\n",
       "   'provenance': []},\n",
       "  {'rate_law': A*gamma,\n",
       "   'type': 'NaturalConversion',\n",
       "   'subject': {'name': 'A', 'identifiers': {}, 'context': {}},\n",
       "   'outcome': {'name': 'R', 'identifiers': {}, 'context': {}},\n",
       "   'provenance': []},\n",
       "  {'rate_law': H*(1 - dh)/los,\n",
       "   'type': 'NaturalConversion',\n",
       "   'subject': {'name': 'H', 'identifiers': {}, 'context': {}},\n",
       "   'outcome': {'name': 'R', 'identifiers': {}, 'context': {}},\n",
       "   'provenance': []},\n",
       "  {'rate_law': H*dh/los,\n",
       "   'type': 'NaturalConversion',\n",
       "   'subject': {'name': 'H', 'identifiers': {}, 'context': {}},\n",
       "   'outcome': {'name': 'D', 'identifiers': {}, 'context': {}},\n",
       "   'provenance': []}],\n",
       " 'parameters': {'beta': {'name': 'beta',\n",
       "   'identifiers': {},\n",
       "   'context': {},\n",
       "   'value': 0.55,\n",
       "   'distribution': None},\n",
       "  'delta': {'name': 'delta',\n",
       "   'identifiers': {},\n",
       "   'context': {},\n",
       "   'value': 1.5,\n",
       "   'distribution': None},\n",
       "  'ps': {'name': 'ps',\n",
       "   'identifiers': {},\n",
       "   'context': {},\n",
       "   'value': 0.7,\n",
       "   'distribution': None},\n",
       "  'alpha': {'name': 'alpha',\n",
       "   'identifiers': {},\n",
       "   'context': {},\n",
       "   'value': 4.0,\n",
       "   'distribution': None},\n",
       "  'gamma': {'name': 'gamma',\n",
       "   'identifiers': {},\n",
       "   'context': {},\n",
       "   'value': 0.2,\n",
       "   'distribution': None},\n",
       "  'hosp': {'name': 'hosp',\n",
       "   'identifiers': {},\n",
       "   'context': {},\n",
       "   'value': 0.1,\n",
       "   'distribution': None},\n",
       "  'dnh': {'name': 'dnh',\n",
       "   'identifiers': {},\n",
       "   'context': {},\n",
       "   'value': 0.001,\n",
       "   'distribution': None},\n",
       "  'dh': {'name': 'dh',\n",
       "   'identifiers': {},\n",
       "   'context': {},\n",
       "   'value': 0.1,\n",
       "   'distribution': None},\n",
       "  'los': {'name': 'los',\n",
       "   'identifiers': {},\n",
       "   'context': {},\n",
       "   'value': 7.0,\n",
       "   'distribution': None}},\n",
       " 'initials': {},\n",
       " 'observables': {},\n",
       " 'annotations': {'name': None,\n",
       "  'description': None,\n",
       "  'license': None,\n",
       "  'authors': [],\n",
       "  'references': [],\n",
       "  'time_scale': None,\n",
       "  'time_start': None,\n",
       "  'time_end': None,\n",
       "  'locations': [],\n",
       "  'pathogens': [],\n",
       "  'diseases': [],\n",
       "  'hosts': [],\n",
       "  'model_types': []}}"
      ]
     },
     "execution_count": 28,
     "metadata": {},
     "output_type": "execute_result"
    }
   ],
   "source": [
    "tm.dict()"
   ]
  },
  {
   "cell_type": "code",
   "execution_count": 35,
   "id": "be35c528",
   "metadata": {},
   "outputs": [
    {
     "data": {
      "text/plain": [
       "{'beta': Parameter(name='beta', identifiers={}, context={}, value=0.55, distribution=None),\n",
       " 'delta': Parameter(name='delta', identifiers={}, context={}, value=1.5, distribution=None),\n",
       " 'ps': Parameter(name='ps', identifiers={}, context={}, value=0.7, distribution=None),\n",
       " 'alpha': Parameter(name='alpha', identifiers={}, context={}, value=4.0, distribution=None),\n",
       " 'gamma': Parameter(name='gamma', identifiers={}, context={}, value=0.2, distribution=None),\n",
       " 'hosp': Parameter(name='hosp', identifiers={}, context={}, value=0.1, distribution=None),\n",
       " 'dnh': Parameter(name='dnh', identifiers={}, context={}, value=0.001, distribution=None),\n",
       " 'dh': Parameter(name='dh', identifiers={}, context={}, value=0.1, distribution=None),\n",
       " 'los': Parameter(name='los', identifiers={}, context={}, value=7.0, distribution=None)}"
      ]
     },
     "execution_count": 35,
     "metadata": {},
     "output_type": "execute_result"
    }
   ],
   "source": [
    "tm.parameters"
   ]
  },
  {
   "cell_type": "code",
   "execution_count": null,
   "id": "1e98a671",
   "metadata": {},
   "outputs": [],
   "source": []
  }
 ],
 "metadata": {
  "kernelspec": {
   "display_name": "Python 3 (ipykernel)",
   "language": "python",
   "name": "python3"
  },
  "language_info": {
   "codemirror_mode": {
    "name": "ipython",
    "version": 3
   },
   "file_extension": ".py",
   "mimetype": "text/x-python",
   "name": "python",
   "nbconvert_exporter": "python",
   "pygments_lexer": "ipython3",
   "version": "3.11.3"
  }
 },
 "nbformat": 4,
 "nbformat_minor": 5
}
