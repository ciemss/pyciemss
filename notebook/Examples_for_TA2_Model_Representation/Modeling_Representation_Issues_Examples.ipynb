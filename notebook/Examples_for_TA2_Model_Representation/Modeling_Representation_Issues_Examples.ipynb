{
 "cells": [
  {
   "cell_type": "markdown",
   "id": "a5bc3fe2",
   "metadata": {},
   "source": [
    "# Model Representation Examples\n",
    "## Produce the AskeNet Model Representation of \"toy\" SIR-based models by converting from template to MIRA to Aske representations."
   ]
  },
  {
   "cell_type": "code",
   "execution_count": 1,
   "id": "ecbb71f2-4ac5-459f-8c3b-825b5f520bf3",
   "metadata": {},
   "outputs": [],
   "source": [
    "from collections.abc import Callable"
   ]
  },
  {
   "cell_type": "code",
   "execution_count": 21,
   "id": "8d9914c4",
   "metadata": {},
   "outputs": [],
   "source": [
    "import mira\n",
    "from mira.sources.askenet import model_from_url\n",
    "from mira.metamodel import Concept, ControlledConversion, GroupedControlledConversion, Initial, NaturalConversion, Parameter, Template, TemplateModel\n",
    "from mira.modeling import Model\n",
    "from mira.modeling.askenet.petrinet import AskeNetPetriNetModel\n",
    "import torch\n",
    "from pyciemss.interfaces import setup_model, calibrate, intervene\n",
    "from pyciemss.PetriNetODE.interfaces import load_petri_model, setup_petri_model\n",
    "from collections.abc import Callable\n",
    "from typing import Tuple\n",
    "import sympy\n",
    "import sympytorch"
   ]
  },
  {
   "cell_type": "code",
   "execution_count": 19,
   "id": "0b500d49-f05c-4ba5-a9b5-3cdf4945bac0",
   "metadata": {},
   "outputs": [
    {
     "data": {
      "text/plain": [
       "0    11\n",
       "1    US\n",
       "Name: loc, dtype: object"
      ]
     },
     "execution_count": 19,
     "metadata": {},
     "output_type": "execute_result"
    }
   ],
   "source": [
    "import pandas as pd\n",
    "df = pd.DataFrame({'loc': [1123, 'US']})\n",
    "df['loc'].astype(str).str[:2]"
   ]
  },
  {
   "cell_type": "code",
   "execution_count": 3,
   "id": "f6cb8d58-c4f1-4301-bd49-46875ba35571",
   "metadata": {},
   "outputs": [],
   "source": [
    "def make_model() -> Callable[[float, Tuple[torch.Tensor]], Tuple[torch.Tensor]]:\n",
    "        \"\"\"Compile the deriv function during initialization.\"\"\"\n",
    "        state_variables = \"beta, total_population, susceptible_population, infectious_population, gamma, recovered_population\"\n",
    "        beta, total_pop,S, I, gamma, R = sympy.symbols(state_variables)\n",
    "        susceptible = Concept(name=\"susceptible_population\", identifiers={\"ido\": \"0000514\"})\n",
    "        infectious = Concept(name=\"infectious_population\", identifiers={\"ido\": \"0000513\"}) # http://purl.obolibrary.org/obo/IDO_0000513\n",
    "        recovered = Concept(name=\"recovered_population\", identifiers={\"ido\": \"0000592\"})\n",
    "        \n",
    "        # Set a value for the total population\n",
    "        total_pop = 100000                                                                                                                                                                                                                           \n",
    "        S_to_I = ControlledConversion(\n",
    "            controller = infectious,\n",
    "            subject=susceptible,\n",
    "            outcome=infectious,\n",
    "            rate_law=(beta/total_pop)*S*I\n",
    "        )\n",
    "        I_to_R = NaturalConversion(\n",
    "            subject=infectious,\n",
    "            outcome=recovered,\n",
    "            rate_law=gamma*I\n",
    "        )\n",
    "        template_model = TemplateModel(\n",
    "            templates=[S_to_I, I_to_R],\n",
    "            parameters={\n",
    "                'beta': Parameter(name='beta', value=0.55), # transmission rate\n",
    "                'total_population': Parameter(name='total_population', value=total_pop),\n",
    "                'gamma': Parameter(name='gamma', value=0.2), # recovery rate\n",
    "            },\n",
    "            initials={\n",
    "                'susceptible_population': (Initial(concept=susceptible, value=total_pop-1)),\n",
    "                'infectious_population': (Initial(concept=infectious, value=1)),\n",
    "                'recovered_population': (Initial(concept=recovered, value=0))\n",
    "            }\n",
    "        )\n",
    "        model=Model(template_model)\n",
    "        return model"
   ]
  },
  {
   "cell_type": "code",
   "execution_count": 8,
   "id": "6a1478f5-4a77-44e2-a729-1cf4f200eebd",
   "metadata": {},
   "outputs": [],
   "source": [
    "model = make_model()"
   ]
  },
  {
   "cell_type": "markdown",
   "id": "6c3056bb-8fb8-46bd-8f66-a1a8212011e5",
   "metadata": {},
   "source": [
    "## Biomodels"
   ]
  },
  {
   "cell_type": "code",
   "execution_count": null,
   "id": "001f1a6a-29b7-433a-9f17-550fc23617d2",
   "metadata": {},
   "outputs": [],
   "source": []
  },
  {
   "cell_type": "code",
   "execution_count": 3,
   "id": "926b95e0-41b8-4f69-abca-7238b3b0d19c",
   "metadata": {},
   "outputs": [],
   "source": [
    "AMR_URL_TEMPLATE= \"https://raw.githubusercontent.com/DARPA-ASKEM/experiments/main/thin-thread-examples/mira_v2/biomodels/{biomodel_id}/model_askenet.json\"\n",
    "biomodels = \"\"\"BIOMD0000000249\tBIOMD0000000716\tBIOMD0000000949\tBIOMD0000000956\tBIOMD0000000960\tBIOMD0000000964\tBIOMD0000000971\tBIOMD0000000976\tBIOMD0000000979\tBIOMD0000000982\tBIOMD0000000988\tMODEL1008060000\tMODEL1805230001\tMODEL2111170001 BIOMD0000000294\tBIOMD0000000717\tBIOMD0000000950\tBIOMD0000000957\tBIOMD0000000962\tBIOMD0000000969\tBIOMD0000000972\tBIOMD0000000977\tBIOMD0000000980\tBIOMD0000000983\tBIOMD0000000991\tMODEL1008060002\tMODEL1808280006\n",
    "BIOMD0000000715\tBIOMD0000000726\tBIOMD0000000955\tBIOMD0000000958\tBIOMD0000000963\tBIOMD0000000970\tBIOMD0000000974\tBIOMD0000000978\tBIOMD0000000981\tBIOMD0000000984\tBIOMD0000001045\tMODEL1805220001\tMODEL1808280011\"\"\".split()\n",
    "biomodels_tests = {biomodel_id: dict(source=AMR_URL_TEMPLATE.format(biomodel_id=biomodel_id))\n",
    "                                for biomodel_id in biomodels}\n"
   ]
  },
  {
   "cell_type": "code",
   "execution_count": 43,
   "id": "db67a2f0-0916-4b1a-8edb-b39fc964477c",
   "metadata": {},
   "outputs": [
    {
     "name": "stdout",
     "output_type": "stream",
     "text": [
      "3.02981679061445e-9*Infected*R_fixed*Susceptible*gamma\n",
      "{gamma, Infected, Susceptible, R_fixed}\n",
      "Exposed*sigma\n",
      "{Exposed, sigma}\n",
      "Infected*gamma\n",
      "{Infected, gamma}\n",
      "Recovered*omega\n",
      "{omega, Recovered}\n"
     ]
    },
    {
     "data": {
      "text/latex": [
       "$\\displaystyle Recovered \\omega$"
      ],
      "text/plain": [
       "Recovered*omega"
      ]
     },
     "execution_count": 43,
     "metadata": {},
     "output_type": "execute_result"
    }
   ],
   "source": [
    "import pyciemss\n",
    "from sympytorch import SymPyModule\n",
    "from pyciemss.PetriNetODE.base import get_name\n",
    "import sympy\n",
    "mira_template_model = model_from_url(biomodels_tests['BIOMD0000000979']['source'])\n",
    "mira_model = mira.modeling.Model(mira_template_model)\n",
    "model = pyciemss.PetriNetODE.base.ScaledBetaNoisePetriNetODESystem.from_askenet(mira_model)\n",
    "\n",
    "symbolic_derivs = {get_name(var): sympy.sympify(0.0) for var in model.var_order.values()}\n",
    "for t in model.G.transitions.values():\n",
    "        print(t.template.rate_law)\n",
    "        flux = model.extract_sympy(t.template.rate_law)\n",
    "        print(flux.free_symbols)\n",
    "        for c in t.consumed:\n",
    "            symbolic_derivs[get_name(c)] -= flux\n",
    "        for p in t.produced:\n",
    "            symbolic_derivs[get_name(p)] += flux\n",
    "\n",
    "        # convert to a function\n",
    "        numeric_derivs = SymPyModule(expressions=[symbolic_derivs[get_name(k)] for k in model.var_order.values()])\n",
    "flux"
   ]
  },
  {
   "cell_type": "code",
   "execution_count": 40,
   "id": "5851b86a-969b-4f59-90b9-f6bc6d0aea22",
   "metadata": {},
   "outputs": [
    {
     "data": {
      "text/plain": [
       "{'Exposed': 3.02981679061445e-9*Infected*R_fixed*Susceptible*gamma,\n",
       " 'Infected': 0,\n",
       " 'Recovered': 0,\n",
       " 'Susceptible': -3.02981679061445e-9*Infected*R_fixed*Susceptible*gamma,\n",
       " 'Total_population': 0}"
      ]
     },
     "execution_count": 40,
     "metadata": {},
     "output_type": "execute_result"
    }
   ],
   "source": [
    "symbolic_derivs"
   ]
  },
  {
   "cell_type": "code",
   "execution_count": 20,
   "id": "fac86c7e-cecb-4b25-a31e-bec2d46c6aca",
   "metadata": {},
   "outputs": [
    {
     "ename": "AttributeError",
     "evalue": "'int' object has no attribute 'func'",
     "output_type": "error",
     "traceback": [
      "\u001b[0;31m---------------------------------------------------------------------------\u001b[0m",
      "\u001b[0;31mAttributeError\u001b[0m                            Traceback (most recent call last)",
      "Cell \u001b[0;32mIn[20], line 1\u001b[0m\n\u001b[0;32m----> 1\u001b[0m \u001b[43mload_petri_model\u001b[49m\u001b[43m(\u001b[49m\u001b[43mbiomodels_tests\u001b[49m\u001b[43m[\u001b[49m\u001b[38;5;124;43m'\u001b[39;49m\u001b[38;5;124;43mBIOMD0000000979\u001b[39;49m\u001b[38;5;124;43m'\u001b[39;49m\u001b[43m]\u001b[49m\u001b[43m[\u001b[49m\u001b[38;5;124;43m'\u001b[39;49m\u001b[38;5;124;43msource\u001b[39;49m\u001b[38;5;124;43m'\u001b[39;49m\u001b[43m]\u001b[49m\u001b[43m,\u001b[49m\u001b[43m \u001b[49m\u001b[43mcompile_rate_law_p\u001b[49m\u001b[38;5;241;43m=\u001b[39;49m\u001b[38;5;28;43;01mTrue\u001b[39;49;00m\u001b[43m)\u001b[49m\n",
      "File \u001b[0;32m~/Projects/Proposals/ASKEM/build/clean-build/src/pyciemss/PetriNetODE/interfaces.py:248\u001b[0m, in \u001b[0;36mload_petri_model\u001b[0;34m(petri_model_or_path, add_uncertainty, pseudocount, compile_rate_law_p)\u001b[0m\n\u001b[1;32m    243\u001b[0m \u001b[38;5;250m\u001b[39m\u001b[38;5;124;03m\"\"\"\u001b[39;00m\n\u001b[1;32m    244\u001b[0m \u001b[38;5;124;03mLoad a petri net from a file and compile it into a probabilistic program.\u001b[39;00m\n\u001b[1;32m    245\u001b[0m \u001b[38;5;124;03m\"\"\"\u001b[39;00m\n\u001b[1;32m    247\u001b[0m \u001b[38;5;28;01mif\u001b[39;00m add_uncertainty:\n\u001b[0;32m--> 248\u001b[0m     model \u001b[38;5;241m=\u001b[39m \u001b[43mScaledBetaNoisePetriNetODESystem\u001b[49m\u001b[38;5;241;43m.\u001b[39;49m\u001b[43mfrom_askenet\u001b[49m\u001b[43m(\u001b[49m\u001b[43mpetri_model_or_path\u001b[49m\u001b[43m,\u001b[49m\u001b[43m \u001b[49m\u001b[43mcompile_rate_law_p\u001b[49m\u001b[38;5;241;43m=\u001b[39;49m\u001b[43mcompile_rate_law_p\u001b[49m\u001b[43m)\u001b[49m\n\u001b[1;32m    249\u001b[0m     model\u001b[38;5;241m.\u001b[39mpseudocount \u001b[38;5;241m=\u001b[39m torch\u001b[38;5;241m.\u001b[39mtensor(pseudocount)\n\u001b[1;32m    250\u001b[0m     \u001b[38;5;28;01mreturn\u001b[39;00m model\n",
      "File \u001b[0;32m~/.pyenv/versions/3.10.9/lib/python3.10/functools.py:926\u001b[0m, in \u001b[0;36msingledispatchmethod.__get__.<locals>._method\u001b[0;34m(*args, **kwargs)\u001b[0m\n\u001b[1;32m    924\u001b[0m \u001b[38;5;28;01mdef\u001b[39;00m \u001b[38;5;21m_method\u001b[39m(\u001b[38;5;241m*\u001b[39margs, \u001b[38;5;241m*\u001b[39m\u001b[38;5;241m*\u001b[39mkwargs):\n\u001b[1;32m    925\u001b[0m     method \u001b[38;5;241m=\u001b[39m \u001b[38;5;28mself\u001b[39m\u001b[38;5;241m.\u001b[39mdispatcher\u001b[38;5;241m.\u001b[39mdispatch(args[\u001b[38;5;241m0\u001b[39m]\u001b[38;5;241m.\u001b[39m\u001b[38;5;18m__class__\u001b[39m)\n\u001b[0;32m--> 926\u001b[0m     \u001b[38;5;28;01mreturn\u001b[39;00m \u001b[43mmethod\u001b[49m\u001b[38;5;241;43m.\u001b[39;49m\u001b[38;5;21;43m__get__\u001b[39;49m\u001b[43m(\u001b[49m\u001b[43mobj\u001b[49m\u001b[43m,\u001b[49m\u001b[43m \u001b[49m\u001b[38;5;28;43mcls\u001b[39;49m\u001b[43m)\u001b[49m\u001b[43m(\u001b[49m\u001b[38;5;241;43m*\u001b[39;49m\u001b[43margs\u001b[49m\u001b[43m,\u001b[49m\u001b[43m \u001b[49m\u001b[38;5;241;43m*\u001b[39;49m\u001b[38;5;241;43m*\u001b[39;49m\u001b[43mkwargs\u001b[49m\u001b[43m)\u001b[49m\n",
      "File \u001b[0;32m~/Projects/Proposals/ASKEM/build/clean-build/src/pyciemss/PetriNetODE/base.py:444\u001b[0m, in \u001b[0;36mMiraPetriNetODESystem._from_path\u001b[0;34m(cls, model_json_path, **kwargs)\u001b[0m\n\u001b[1;32m    442\u001b[0m     \u001b[38;5;28;01mwith\u001b[39;00m \u001b[38;5;28mopen\u001b[39m(model_json_path) \u001b[38;5;28;01mas\u001b[39;00m fh:\n\u001b[1;32m    443\u001b[0m         model_json \u001b[38;5;241m=\u001b[39m json\u001b[38;5;241m.\u001b[39mload(fh)\n\u001b[0;32m--> 444\u001b[0m \u001b[38;5;28;01mreturn\u001b[39;00m \u001b[38;5;28;43mcls\u001b[39;49m\u001b[38;5;241;43m.\u001b[39;49m\u001b[43mfrom_askenet\u001b[49m\u001b[43m(\u001b[49m\u001b[43mmodel_json\u001b[49m\u001b[43m,\u001b[49m\u001b[43m \u001b[49m\u001b[38;5;241;43m*\u001b[39;49m\u001b[38;5;241;43m*\u001b[39;49m\u001b[43mkwargs\u001b[49m\u001b[43m)\u001b[49m\n",
      "File \u001b[0;32m~/.pyenv/versions/3.10.9/lib/python3.10/functools.py:926\u001b[0m, in \u001b[0;36msingledispatchmethod.__get__.<locals>._method\u001b[0;34m(*args, **kwargs)\u001b[0m\n\u001b[1;32m    924\u001b[0m \u001b[38;5;28;01mdef\u001b[39;00m \u001b[38;5;21m_method\u001b[39m(\u001b[38;5;241m*\u001b[39margs, \u001b[38;5;241m*\u001b[39m\u001b[38;5;241m*\u001b[39mkwargs):\n\u001b[1;32m    925\u001b[0m     method \u001b[38;5;241m=\u001b[39m \u001b[38;5;28mself\u001b[39m\u001b[38;5;241m.\u001b[39mdispatcher\u001b[38;5;241m.\u001b[39mdispatch(args[\u001b[38;5;241m0\u001b[39m]\u001b[38;5;241m.\u001b[39m\u001b[38;5;18m__class__\u001b[39m)\n\u001b[0;32m--> 926\u001b[0m     \u001b[38;5;28;01mreturn\u001b[39;00m \u001b[43mmethod\u001b[49m\u001b[38;5;241;43m.\u001b[39;49m\u001b[38;5;21;43m__get__\u001b[39;49m\u001b[43m(\u001b[49m\u001b[43mobj\u001b[49m\u001b[43m,\u001b[49m\u001b[43m \u001b[49m\u001b[38;5;28;43mcls\u001b[39;49m\u001b[43m)\u001b[49m\u001b[43m(\u001b[49m\u001b[38;5;241;43m*\u001b[39;49m\u001b[43margs\u001b[49m\u001b[43m,\u001b[49m\u001b[43m \u001b[49m\u001b[38;5;241;43m*\u001b[39;49m\u001b[38;5;241;43m*\u001b[39;49m\u001b[43mkwargs\u001b[49m\u001b[43m)\u001b[49m\n",
      "File \u001b[0;32m~/Projects/Proposals/ASKEM/build/clean-build/src/pyciemss/PetriNetODE/base.py:426\u001b[0m, in \u001b[0;36mMiraPetriNetODESystem._from_json\u001b[0;34m(cls, model_json, **kwargs)\u001b[0m\n\u001b[1;32m    424\u001b[0m     \u001b[38;5;28;01mreturn\u001b[39;00m \u001b[38;5;28mcls\u001b[39m\u001b[38;5;241m.\u001b[39mfrom_askenet(mira\u001b[38;5;241m.\u001b[39mmetamodel\u001b[38;5;241m.\u001b[39mTemplateModel\u001b[38;5;241m.\u001b[39mfrom_json(model_json), \u001b[38;5;241m*\u001b[39m\u001b[38;5;241m*\u001b[39mkwargs)\n\u001b[1;32m    425\u001b[0m \u001b[38;5;28;01melif\u001b[39;00m \u001b[38;5;124m'\u001b[39m\u001b[38;5;124mpetrinet\u001b[39m\u001b[38;5;124m'\u001b[39m \u001b[38;5;129;01min\u001b[39;00m model_json[\u001b[38;5;124m'\u001b[39m\u001b[38;5;124mschema\u001b[39m\u001b[38;5;124m'\u001b[39m]:\n\u001b[0;32m--> 426\u001b[0m     \u001b[38;5;28;01mreturn\u001b[39;00m \u001b[38;5;28;43mcls\u001b[39;49m\u001b[38;5;241;43m.\u001b[39;49m\u001b[43mfrom_askenet\u001b[49m\u001b[43m(\u001b[49m\u001b[43mpetrinet\u001b[49m\u001b[38;5;241;43m.\u001b[39;49m\u001b[43mtemplate_model_from_askenet_json\u001b[49m\u001b[43m(\u001b[49m\u001b[43mmodel_json\u001b[49m\u001b[43m)\u001b[49m\u001b[43m,\u001b[49m\u001b[43m \u001b[49m\u001b[38;5;241;43m*\u001b[39;49m\u001b[38;5;241;43m*\u001b[39;49m\u001b[43mkwargs\u001b[49m\u001b[43m)\u001b[49m\n\u001b[1;32m    427\u001b[0m \u001b[38;5;28;01melif\u001b[39;00m \u001b[38;5;124m'\u001b[39m\u001b[38;5;124mregnet\u001b[39m\u001b[38;5;124m'\u001b[39m \u001b[38;5;129;01min\u001b[39;00m model_json[\u001b[38;5;124m'\u001b[39m\u001b[38;5;124mschema\u001b[39m\u001b[38;5;124m'\u001b[39m]:\n\u001b[1;32m    428\u001b[0m     \u001b[38;5;28;01mreturn\u001b[39;00m \u001b[38;5;28mcls\u001b[39m\u001b[38;5;241m.\u001b[39mfrom_askenet(regnet\u001b[38;5;241m.\u001b[39mtemplate_model_from_askenet_json(model_json), \u001b[38;5;241m*\u001b[39m\u001b[38;5;241m*\u001b[39mkwargs)\n",
      "File \u001b[0;32m~/.pyenv/versions/3.10.9/lib/python3.10/functools.py:926\u001b[0m, in \u001b[0;36msingledispatchmethod.__get__.<locals>._method\u001b[0;34m(*args, **kwargs)\u001b[0m\n\u001b[1;32m    924\u001b[0m \u001b[38;5;28;01mdef\u001b[39;00m \u001b[38;5;21m_method\u001b[39m(\u001b[38;5;241m*\u001b[39margs, \u001b[38;5;241m*\u001b[39m\u001b[38;5;241m*\u001b[39mkwargs):\n\u001b[1;32m    925\u001b[0m     method \u001b[38;5;241m=\u001b[39m \u001b[38;5;28mself\u001b[39m\u001b[38;5;241m.\u001b[39mdispatcher\u001b[38;5;241m.\u001b[39mdispatch(args[\u001b[38;5;241m0\u001b[39m]\u001b[38;5;241m.\u001b[39m\u001b[38;5;18m__class__\u001b[39m)\n\u001b[0;32m--> 926\u001b[0m     \u001b[38;5;28;01mreturn\u001b[39;00m \u001b[43mmethod\u001b[49m\u001b[38;5;241;43m.\u001b[39;49m\u001b[38;5;21;43m__get__\u001b[39;49m\u001b[43m(\u001b[49m\u001b[43mobj\u001b[49m\u001b[43m,\u001b[49m\u001b[43m \u001b[49m\u001b[38;5;28;43mcls\u001b[39;49m\u001b[43m)\u001b[49m\u001b[43m(\u001b[49m\u001b[38;5;241;43m*\u001b[39;49m\u001b[43margs\u001b[49m\u001b[43m,\u001b[49m\u001b[43m \u001b[49m\u001b[38;5;241;43m*\u001b[39;49m\u001b[38;5;241;43m*\u001b[39;49m\u001b[43mkwargs\u001b[49m\u001b[43m)\u001b[49m\n",
      "File \u001b[0;32m~/Projects/Proposals/ASKEM/build/clean-build/src/pyciemss/PetriNetODE/base.py:402\u001b[0m, in \u001b[0;36mMiraPetriNetODESystem._from_template_model\u001b[0;34m(cls, model_template, **kwargs)\u001b[0m\n\u001b[1;32m    398\u001b[0m \u001b[38;5;129m@from_askenet\u001b[39m\u001b[38;5;241m.\u001b[39mregister(mira\u001b[38;5;241m.\u001b[39mmetamodel\u001b[38;5;241m.\u001b[39mTemplateModel)\n\u001b[1;32m    399\u001b[0m \u001b[38;5;129m@classmethod\u001b[39m\n\u001b[1;32m    400\u001b[0m \u001b[38;5;28;01mdef\u001b[39;00m \u001b[38;5;21m_from_template_model\u001b[39m(\u001b[38;5;28mcls\u001b[39m, model_template: mira\u001b[38;5;241m.\u001b[39mmetamodel\u001b[38;5;241m.\u001b[39mTemplateModel, \u001b[38;5;241m*\u001b[39m\u001b[38;5;241m*\u001b[39mkwargs):\n\u001b[1;32m    401\u001b[0m \u001b[38;5;250m    \u001b[39m\u001b[38;5;124;03m\"\"\"Return a model from a MIRA model template.\"\"\"\u001b[39;00m\n\u001b[0;32m--> 402\u001b[0m     model \u001b[38;5;241m=\u001b[39m \u001b[38;5;28;43mcls\u001b[39;49m\u001b[38;5;241;43m.\u001b[39;49m\u001b[43mfrom_askenet\u001b[49m\u001b[43m(\u001b[49m\u001b[43mmira\u001b[49m\u001b[38;5;241;43m.\u001b[39;49m\u001b[43mmodeling\u001b[49m\u001b[38;5;241;43m.\u001b[39;49m\u001b[43mModel\u001b[49m\u001b[43m(\u001b[49m\u001b[43mmodel_template\u001b[49m\u001b[43m)\u001b[49m\u001b[43m,\u001b[49m\u001b[43m \u001b[49m\u001b[38;5;241;43m*\u001b[39;49m\u001b[38;5;241;43m*\u001b[39;49m\u001b[43mkwargs\u001b[49m\u001b[43m)\u001b[49m\n\u001b[1;32m    404\u001b[0m     \u001b[38;5;66;03m# Check if all parameter names are strings\u001b[39;00m\n\u001b[1;32m    405\u001b[0m     \u001b[38;5;66;03m# if all(isinstance(param.key, str) for param in model.G.parameters.values()):\u001b[39;00m\n\u001b[1;32m    406\u001b[0m     \u001b[38;5;66;03m#     return model\u001b[39;00m\n\u001b[0;32m   (...)\u001b[0m\n\u001b[1;32m    410\u001b[0m \n\u001b[1;32m    411\u001b[0m     \u001b[38;5;66;03m# Check if we wish to aggregate parameters (default is no)\u001b[39;00m\n\u001b[1;32m    412\u001b[0m     \u001b[38;5;28;01mif\u001b[39;00m \u001b[38;5;124m'\u001b[39m\u001b[38;5;124maggregate_parameters_p\u001b[39m\u001b[38;5;124m'\u001b[39m \u001b[38;5;129;01min\u001b[39;00m kwargs \u001b[38;5;129;01mand\u001b[39;00m kwargs[\u001b[38;5;124m'\u001b[39m\u001b[38;5;124maggregate_parameters_p\u001b[39m\u001b[38;5;124m'\u001b[39m]:\n",
      "File \u001b[0;32m~/.pyenv/versions/3.10.9/lib/python3.10/functools.py:926\u001b[0m, in \u001b[0;36msingledispatchmethod.__get__.<locals>._method\u001b[0;34m(*args, **kwargs)\u001b[0m\n\u001b[1;32m    924\u001b[0m \u001b[38;5;28;01mdef\u001b[39;00m \u001b[38;5;21m_method\u001b[39m(\u001b[38;5;241m*\u001b[39margs, \u001b[38;5;241m*\u001b[39m\u001b[38;5;241m*\u001b[39mkwargs):\n\u001b[1;32m    925\u001b[0m     method \u001b[38;5;241m=\u001b[39m \u001b[38;5;28mself\u001b[39m\u001b[38;5;241m.\u001b[39mdispatcher\u001b[38;5;241m.\u001b[39mdispatch(args[\u001b[38;5;241m0\u001b[39m]\u001b[38;5;241m.\u001b[39m\u001b[38;5;18m__class__\u001b[39m)\n\u001b[0;32m--> 926\u001b[0m     \u001b[38;5;28;01mreturn\u001b[39;00m \u001b[43mmethod\u001b[49m\u001b[38;5;241;43m.\u001b[39;49m\u001b[38;5;21;43m__get__\u001b[39;49m\u001b[43m(\u001b[49m\u001b[43mobj\u001b[49m\u001b[43m,\u001b[49m\u001b[43m \u001b[49m\u001b[38;5;28;43mcls\u001b[39;49m\u001b[43m)\u001b[49m\u001b[43m(\u001b[49m\u001b[38;5;241;43m*\u001b[39;49m\u001b[43margs\u001b[49m\u001b[43m,\u001b[49m\u001b[43m \u001b[49m\u001b[38;5;241;43m*\u001b[39;49m\u001b[38;5;241;43m*\u001b[39;49m\u001b[43mkwargs\u001b[49m\u001b[43m)\u001b[49m\n",
      "File \u001b[0;32m~/Projects/Proposals/ASKEM/build/clean-build/src/pyciemss/PetriNetODE/base.py:395\u001b[0m, in \u001b[0;36mMiraPetriNetODESystem.from_askenet\u001b[0;34m(cls, model, **kwargs)\u001b[0m\n\u001b[1;32m    391\u001b[0m \u001b[38;5;129m@functools\u001b[39m\u001b[38;5;241m.\u001b[39msingledispatchmethod\n\u001b[1;32m    392\u001b[0m \u001b[38;5;129m@classmethod\u001b[39m\n\u001b[1;32m    393\u001b[0m \u001b[38;5;28;01mdef\u001b[39;00m \u001b[38;5;21mfrom_askenet\u001b[39m(\u001b[38;5;28mcls\u001b[39m, model: mira\u001b[38;5;241m.\u001b[39mmodeling\u001b[38;5;241m.\u001b[39mModel, \u001b[38;5;241m*\u001b[39m\u001b[38;5;241m*\u001b[39mkwargs) \u001b[38;5;241m-\u001b[39m\u001b[38;5;241m>\u001b[39m \u001b[38;5;124m\"\u001b[39m\u001b[38;5;124mMiraPetriNetODESystem\u001b[39m\u001b[38;5;124m\"\u001b[39m:\n\u001b[1;32m    394\u001b[0m \u001b[38;5;250m    \u001b[39m\u001b[38;5;124;03m\"\"\"Return a model from a MIRA model.\"\"\"\u001b[39;00m\n\u001b[0;32m--> 395\u001b[0m     \u001b[38;5;28;01mreturn\u001b[39;00m \u001b[38;5;28;43mcls\u001b[39;49m\u001b[43m(\u001b[49m\u001b[43mmodel\u001b[49m\u001b[43m,\u001b[49m\u001b[43m \u001b[49m\u001b[38;5;241;43m*\u001b[39;49m\u001b[38;5;241;43m*\u001b[39;49m\u001b[43mkwargs\u001b[49m\u001b[43m)\u001b[49m\n",
      "File \u001b[0;32m~/Projects/Proposals/ASKEM/build/clean-build/src/pyciemss/PetriNetODE/base.py:533\u001b[0m, in \u001b[0;36mScaledBetaNoisePetriNetODESystem.__init__\u001b[0;34m(self, G, pseudocount, compile_rate_law_p)\u001b[0m\n\u001b[1;32m    532\u001b[0m \u001b[38;5;28;01mdef\u001b[39;00m \u001b[38;5;21m__init__\u001b[39m(\u001b[38;5;28mself\u001b[39m, G: mira\u001b[38;5;241m.\u001b[39mmodeling\u001b[38;5;241m.\u001b[39mModel, pseudocount: \u001b[38;5;28mfloat\u001b[39m \u001b[38;5;241m=\u001b[39m \u001b[38;5;241m1\u001b[39m, compile_rate_law_p: \u001b[38;5;28mbool\u001b[39m \u001b[38;5;241m=\u001b[39m \u001b[38;5;28;01mFalse\u001b[39;00m):\n\u001b[0;32m--> 533\u001b[0m     \u001b[38;5;28;43msuper\u001b[39;49m\u001b[43m(\u001b[49m\u001b[43m)\u001b[49m\u001b[38;5;241;43m.\u001b[39;49m\u001b[38;5;21;43m__init__\u001b[39;49m\u001b[43m(\u001b[49m\u001b[43mG\u001b[49m\u001b[43m,\u001b[49m\u001b[43m \u001b[49m\u001b[43mcompile_rate_law_p\u001b[49m\u001b[38;5;241;43m=\u001b[39;49m\u001b[43mcompile_rate_law_p\u001b[49m\u001b[43m)\u001b[49m\n\u001b[1;32m    534\u001b[0m     \u001b[38;5;28mself\u001b[39m\u001b[38;5;241m.\u001b[39mregister_buffer(\u001b[38;5;124m\"\u001b[39m\u001b[38;5;124mpseudocount\u001b[39m\u001b[38;5;124m\"\u001b[39m, torch\u001b[38;5;241m.\u001b[39mas_tensor(pseudocount))\n",
      "File \u001b[0;32m~/Projects/Proposals/ASKEM/build/clean-build/src/pyciemss/PetriNetODE/base.py:304\u001b[0m, in \u001b[0;36mMiraPetriNetODESystem.__init__\u001b[0;34m(self, G, compile_rate_law_p)\u001b[0m\n\u001b[1;32m    302\u001b[0m \u001b[38;5;28mself\u001b[39m\u001b[38;5;241m.\u001b[39mcompile_rate_law_p \u001b[38;5;241m=\u001b[39m compile_rate_law_p\n\u001b[1;32m    303\u001b[0m \u001b[38;5;28;01mif\u001b[39;00m \u001b[38;5;28mself\u001b[39m\u001b[38;5;241m.\u001b[39mcompile_rate_law_p:\n\u001b[0;32m--> 304\u001b[0m     \u001b[38;5;28mself\u001b[39m\u001b[38;5;241m.\u001b[39mcompiled_rate_law \u001b[38;5;241m=\u001b[39m \u001b[38;5;28;43mself\u001b[39;49m\u001b[38;5;241;43m.\u001b[39;49m\u001b[43mcompile_rate_law\u001b[49m\u001b[43m(\u001b[49m\u001b[43m)\u001b[49m\n\u001b[1;32m    305\u001b[0m \u001b[38;5;28;01mif\u001b[39;00m \u001b[38;5;28mall\u001b[39m(var\u001b[38;5;241m.\u001b[39mdata\u001b[38;5;241m.\u001b[39mget(\u001b[38;5;124m\"\u001b[39m\u001b[38;5;124minitial_value\u001b[39m\u001b[38;5;124m\"\u001b[39m, \u001b[38;5;28;01mNone\u001b[39;00m) \u001b[38;5;129;01mis\u001b[39;00m \u001b[38;5;129;01mnot\u001b[39;00m \u001b[38;5;28;01mNone\u001b[39;00m \u001b[38;5;28;01mfor\u001b[39;00m var \u001b[38;5;129;01min\u001b[39;00m \u001b[38;5;28mself\u001b[39m\u001b[38;5;241m.\u001b[39mvar_order\u001b[38;5;241m.\u001b[39mvalues()):\n\u001b[1;32m    306\u001b[0m     \u001b[38;5;28;01mfor\u001b[39;00m var \u001b[38;5;129;01min\u001b[39;00m \u001b[38;5;28mself\u001b[39m\u001b[38;5;241m.\u001b[39mvar_order\u001b[38;5;241m.\u001b[39mvalues():\n",
      "File \u001b[0;32m~/Projects/Proposals/ASKEM/build/clean-build/src/pyciemss/PetriNetODE/base.py:352\u001b[0m, in \u001b[0;36mMiraPetriNetODESystem.compile_rate_law\u001b[0;34m(self)\u001b[0m\n\u001b[1;32m    349\u001b[0m         symbolic_derivs[get_name(p)] \u001b[38;5;241m+\u001b[39m\u001b[38;5;241m=\u001b[39m flux\n\u001b[1;32m    351\u001b[0m \u001b[38;5;66;03m# convert to a function\u001b[39;00m\n\u001b[0;32m--> 352\u001b[0m numeric_derivs \u001b[38;5;241m=\u001b[39m \u001b[43mSymPyModule\u001b[49m\u001b[43m(\u001b[49m\u001b[43mexpressions\u001b[49m\u001b[38;5;241;43m=\u001b[39;49m\u001b[43m[\u001b[49m\u001b[43msymbolic_derivs\u001b[49m\u001b[43m[\u001b[49m\u001b[43mget_name\u001b[49m\u001b[43m(\u001b[49m\u001b[43mk\u001b[49m\u001b[43m)\u001b[49m\u001b[43m]\u001b[49m\u001b[43m \u001b[49m\u001b[38;5;28;43;01mfor\u001b[39;49;00m\u001b[43m \u001b[49m\u001b[43mk\u001b[49m\u001b[43m \u001b[49m\u001b[38;5;129;43;01min\u001b[39;49;00m\u001b[43m \u001b[49m\u001b[38;5;28;43mself\u001b[39;49m\u001b[38;5;241;43m.\u001b[39;49m\u001b[43mvar_order\u001b[49m\u001b[38;5;241;43m.\u001b[39;49m\u001b[43mvalues\u001b[49m\u001b[43m(\u001b[49m\u001b[43m)\u001b[49m\u001b[43m]\u001b[49m\u001b[43m)\u001b[49m\n\u001b[1;32m    353\u001b[0m \u001b[38;5;28;01mreturn\u001b[39;00m numeric_derivs\n",
      "File \u001b[0;32m~/.pyenv/versions/clean-build/lib/python3.10/site-packages/sympytorch/sympy_module.py:178\u001b[0m, in \u001b[0;36mSymPyModule.__init__\u001b[0;34m(self, expressions, extra_funcs, **kwargs)\u001b[0m\n\u001b[1;32m    174\u001b[0m _func_lookup \u001b[38;5;241m=\u001b[39m co\u001b[38;5;241m.\u001b[39mChainMap(_global_func_lookup, extra_funcs)\n\u001b[1;32m    176\u001b[0m _memodict \u001b[38;5;241m=\u001b[39m {}\n\u001b[1;32m    177\u001b[0m \u001b[38;5;28mself\u001b[39m\u001b[38;5;241m.\u001b[39m_nodes \u001b[38;5;241m=\u001b[39m torch\u001b[38;5;241m.\u001b[39mnn\u001b[38;5;241m.\u001b[39mModuleList(\n\u001b[0;32m--> 178\u001b[0m     [_Node(expr\u001b[38;5;241m=\u001b[39mexpr, _memodict\u001b[38;5;241m=\u001b[39m_memodict, _func_lookup\u001b[38;5;241m=\u001b[39m_func_lookup) \u001b[38;5;28;01mfor\u001b[39;00m expr \u001b[38;5;129;01min\u001b[39;00m expressions]\n\u001b[1;32m    179\u001b[0m )\n\u001b[1;32m    180\u001b[0m \u001b[38;5;28mself\u001b[39m\u001b[38;5;241m.\u001b[39m_expressions_string \u001b[38;5;241m=\u001b[39m \u001b[38;5;28mstr\u001b[39m(expressions)\n",
      "File \u001b[0;32m~/.pyenv/versions/clean-build/lib/python3.10/site-packages/sympytorch/sympy_module.py:178\u001b[0m, in \u001b[0;36m<listcomp>\u001b[0;34m(.0)\u001b[0m\n\u001b[1;32m    174\u001b[0m _func_lookup \u001b[38;5;241m=\u001b[39m co\u001b[38;5;241m.\u001b[39mChainMap(_global_func_lookup, extra_funcs)\n\u001b[1;32m    176\u001b[0m _memodict \u001b[38;5;241m=\u001b[39m {}\n\u001b[1;32m    177\u001b[0m \u001b[38;5;28mself\u001b[39m\u001b[38;5;241m.\u001b[39m_nodes \u001b[38;5;241m=\u001b[39m torch\u001b[38;5;241m.\u001b[39mnn\u001b[38;5;241m.\u001b[39mModuleList(\n\u001b[0;32m--> 178\u001b[0m     [\u001b[43m_Node\u001b[49m\u001b[43m(\u001b[49m\u001b[43mexpr\u001b[49m\u001b[38;5;241;43m=\u001b[39;49m\u001b[43mexpr\u001b[49m\u001b[43m,\u001b[49m\u001b[43m \u001b[49m\u001b[43m_memodict\u001b[49m\u001b[38;5;241;43m=\u001b[39;49m\u001b[43m_memodict\u001b[49m\u001b[43m,\u001b[49m\u001b[43m \u001b[49m\u001b[43m_func_lookup\u001b[49m\u001b[38;5;241;43m=\u001b[39;49m\u001b[43m_func_lookup\u001b[49m\u001b[43m)\u001b[49m \u001b[38;5;28;01mfor\u001b[39;00m expr \u001b[38;5;129;01min\u001b[39;00m expressions]\n\u001b[1;32m    179\u001b[0m )\n\u001b[1;32m    180\u001b[0m \u001b[38;5;28mself\u001b[39m\u001b[38;5;241m.\u001b[39m_expressions_string \u001b[38;5;241m=\u001b[39m \u001b[38;5;28mstr\u001b[39m(expressions)\n",
      "File \u001b[0;32m~/.pyenv/versions/clean-build/lib/python3.10/site-packages/sympytorch/sympy_module.py:82\u001b[0m, in \u001b[0;36m_Node.__init__\u001b[0;34m(self, expr, _memodict, _func_lookup, **kwargs)\u001b[0m\n\u001b[1;32m     79\u001b[0m \u001b[38;5;28;01mdef\u001b[39;00m \u001b[38;5;21m__init__\u001b[39m(\u001b[38;5;28mself\u001b[39m, \u001b[38;5;241m*\u001b[39m, expr, _memodict, _func_lookup, \u001b[38;5;241m*\u001b[39m\u001b[38;5;241m*\u001b[39mkwargs):\n\u001b[1;32m     80\u001b[0m     \u001b[38;5;28msuper\u001b[39m()\u001b[38;5;241m.\u001b[39m\u001b[38;5;21m__init__\u001b[39m(\u001b[38;5;241m*\u001b[39m\u001b[38;5;241m*\u001b[39mkwargs)\n\u001b[0;32m---> 82\u001b[0m     \u001b[38;5;28mself\u001b[39m\u001b[38;5;241m.\u001b[39m_sympy_func \u001b[38;5;241m=\u001b[39m \u001b[43mexpr\u001b[49m\u001b[38;5;241;43m.\u001b[39;49m\u001b[43mfunc\u001b[49m\n\u001b[1;32m     84\u001b[0m     \u001b[38;5;28;01mif\u001b[39;00m \u001b[38;5;28missubclass\u001b[39m(expr\u001b[38;5;241m.\u001b[39mfunc, sympy\u001b[38;5;241m.\u001b[39mFloat):\n\u001b[1;32m     85\u001b[0m         \u001b[38;5;28mself\u001b[39m\u001b[38;5;241m.\u001b[39m_value \u001b[38;5;241m=\u001b[39m torch\u001b[38;5;241m.\u001b[39mnn\u001b[38;5;241m.\u001b[39mParameter(torch\u001b[38;5;241m.\u001b[39mtensor(\u001b[38;5;28mfloat\u001b[39m(expr)))\n",
      "\u001b[0;31mAttributeError\u001b[0m: 'int' object has no attribute 'func'"
     ]
    }
   ],
   "source": [
    "load_petri_model(biomodels_tests['BIOMD0000000979']['source'], compile_rate_law_p=True)"
   ]
  },
  {
   "cell_type": "code",
   "execution_count": null,
   "id": "3c1646c8-0c6d-4aa7-b679-8898bfee8ff9",
   "metadata": {},
   "outputs": [],
   "source": []
  },
  {
   "cell_type": "code",
   "execution_count": 13,
   "id": "84b46555-740c-419e-8433-86ce94f9e4df",
   "metadata": {},
   "outputs": [
    {
     "name": "stdout",
     "output_type": "stream",
     "text": [
      "BIOMD0000000249\n",
      "BIOMD0000000716\n",
      "BIOMD0000000949\n",
      "'value'\n",
      "BIOMD0000000956\n",
      "'value'\n",
      "BIOMD0000000960\n",
      "'value'\n",
      "BIOMD0000000964\n",
      "BIOMD0000000971\n",
      "BIOMD0000000976\n",
      "BIOMD0000000979\n",
      "BIOMD0000000982\n",
      "'value'\n",
      "BIOMD0000000988\n",
      "MODEL1008060000\n",
      "MODEL1805230001\n",
      "MODEL2111170001\n",
      "'value'\n",
      "BIOMD0000000294\n",
      "BIOMD0000000717\n",
      "BIOMD0000000950\n",
      "BIOMD0000000957\n",
      "BIOMD0000000962\n",
      "'value'\n",
      "BIOMD0000000969\n",
      "'value'\n",
      "BIOMD0000000972\n",
      "BIOMD0000000977\n",
      "'value'\n",
      "BIOMD0000000980\n",
      "BIOMD0000000983\n",
      "'value'\n",
      "BIOMD0000000991\n",
      "'value'\n",
      "MODEL1008060002\n",
      "MODEL1808280006\n",
      "BIOMD0000000715\n",
      "BIOMD0000000726\n",
      "BIOMD0000000955\n",
      "BIOMD0000000958\n",
      "BIOMD0000000963\n",
      "'value'\n",
      "BIOMD0000000970\n",
      "BIOMD0000000974\n",
      "BIOMD0000000978\n",
      "'value'\n",
      "BIOMD0000000981\n",
      "BIOMD0000000984\n",
      "BIOMD0000001045\n",
      "MODEL1805220001\n",
      "'value'\n",
      "MODEL1808280011\n"
     ]
    }
   ],
   "source": [
    "for biomodel_id, biomodel in biomodels_tests.items():\n",
    "    try:\n",
    "        print(biomodel_id)\n",
    "        model = load_petri_model(biomodel['source'])\n",
    "    except AttributeError as e:\n",
    "        print(e)\n",
    "    except KeyError as k:\n",
    "        print(k)"
   ]
  },
  {
   "cell_type": "markdown",
   "id": "a5ce19e8-d4f3-48e2-b970-bbec29c3d9e6",
   "metadata": {},
   "source": [
    "## SIDARTHE"
   ]
  },
  {
   "cell_type": "code",
   "execution_count": 4,
   "id": "bad9a01b-bf24-4dec-bf90-a90222dc2537",
   "metadata": {},
   "outputs": [
    {
     "name": "stderr",
     "output_type": "stream",
     "text": [
      "/Users/zuck016/Projects/Proposals/ASKEM/build/clean-build/src/pyciemss/PetriNetODE/base.py:330: UserWarning: Parameter (('Infected', ('identity', 'ido:0000511')), ('Healed', ('identity', 'ido:0000592')), 'NaturalConversion', 'rate') has value None and will be set to Uniform(0, 1)\n",
      "  warnings.warn(warnings_string)\n"
     ]
    }
   ],
   "source": [
    "from pyciemss.PetriNetODE.base import get_name\n",
    "sidarthe_amr = '../../test/models/AMR_examples/BIOMD0000000955_askenet.json'\n",
    "raw_sidarthe = load_petri_model(sidarthe_amr)\n",
    "\n"
   ]
  },
  {
   "cell_type": "code",
   "execution_count": 17,
   "id": "032e3eef-65b1-4d1c-bd1f-c56cbb48c753",
   "metadata": {
    "scrolled": true
   },
   "outputs": [
    {
     "name": "stdout",
     "output_type": "stream",
     "text": [
      "dict_keys(['beta', 'gamma', 'delta', 'alpha', 'epsilon', 'zeta', 'lambda', 'eta', 'rho', 'theta', 'kappa', 'mu', 'nu', 'xi', 'tau', 'sigma'])\n",
      "dict_keys(['beta', 'gamma', 'delta', 'alpha', 'epsilon', 'zeta', (('Infected', ('identity', 'ido:0000511')), ('Healed', ('identity', 'ido:0000592')), 'NaturalConversion', 'rate'), 'eta', 'rho', 'theta', 'kappa', 'mu', 'nu', 'xi', 'tau', 'sigma'])\n"
     ]
    },
    {
     "ename": "AssertionError",
     "evalue": "",
     "output_type": "error",
     "traceback": [
      "\u001b[0;31m---------------------------------------------------------------------------\u001b[0m",
      "\u001b[0;31mAssertionError\u001b[0m                            Traceback (most recent call last)",
      "Cell \u001b[0;32mIn[17], line 7\u001b[0m\n\u001b[1;32m      5\u001b[0m model \u001b[38;5;241m=\u001b[39m mira\u001b[38;5;241m.\u001b[39mmodeling\u001b[38;5;241m.\u001b[39mModel(template_model)\n\u001b[1;32m      6\u001b[0m \u001b[38;5;28mprint\u001b[39m(model\u001b[38;5;241m.\u001b[39mparameters\u001b[38;5;241m.\u001b[39mkeys())\n\u001b[0;32m----> 7\u001b[0m \u001b[38;5;28;01massert\u001b[39;00m \u001b[38;5;124m'\u001b[39m\u001b[38;5;124mlambda\u001b[39m\u001b[38;5;124m'\u001b[39m \u001b[38;5;129;01min\u001b[39;00m model\u001b[38;5;241m.\u001b[39mparameters\n",
      "\u001b[0;31mAssertionError\u001b[0m: "
     ]
    }
   ],
   "source": [
    "from mira.sources.askenet import model_from_json_file, model_from_url\n",
    "template_model = model_from_json_file(sidarthe_amr)\n",
    "assert 'lambda' in template_model.parameters\n",
    "model = mira.modeling.Model(template_model)\n",
    "assert 'lambda' in model.parameters"
   ]
  },
  {
   "cell_type": "code",
   "execution_count": 26,
   "id": "cd800b72-2a99-4060-b3e9-941af26da5ca",
   "metadata": {},
   "outputs": [
    {
     "data": {
      "text/plain": [
       "True"
      ]
     },
     "execution_count": 26,
     "metadata": {},
     "output_type": "execute_result"
    }
   ],
   "source": [
    "model.parameters[(('Infected', ('identity', 'ido:0000511')),\n",
    "   ('Healed', ('identity', 'ido:0000592')),\n",
    "   'NaturalConversion',\n",
    "   'rate')].value is None"
   ]
  },
  {
   "cell_type": "code",
   "execution_count": 20,
   "id": "91089ff1-0618-4c35-bf3c-a8527799cbcf",
   "metadata": {},
   "outputs": [
    {
     "data": {
      "text/plain": [
       "({'lambda'},\n",
       " {(('Infected', ('identity', 'ido:0000511')),\n",
       "   ('Healed', ('identity', 'ido:0000592')),\n",
       "   'NaturalConversion',\n",
       "   'rate')})"
      ]
     },
     "execution_count": 20,
     "metadata": {},
     "output_type": "execute_result"
    }
   ],
   "source": [
    "set(template_model.parameters.keys()) - set(model.parameters.keys()), set(model.parameters.keys()) - set(template_model.parameters.keys())\n"
   ]
  },
  {
   "cell_type": "code",
   "execution_count": 5,
   "id": "e883c6a6-6359-412b-8928-b127126874ed",
   "metadata": {},
   "outputs": [],
   "source": [
    "start_state = {\n",
    "            get_name(v): v.data[\"initial_value\"] for v in raw_sidarthe.G.variables.values()\n",
    "        }"
   ]
  },
  {
   "cell_type": "code",
   "execution_count": 6,
   "id": "1386a0a6-710b-4748-917d-d59df3522fc0",
   "metadata": {},
   "outputs": [],
   "source": [
    "sidarthe = setup_petri_model(raw_sidarthe, 0.0, start_state)"
   ]
  },
  {
   "cell_type": "code",
   "execution_count": 7,
   "id": "94e0e2ed-9060-430b-a4a3-a99f2aa072de",
   "metadata": {},
   "outputs": [
    {
     "data": {
      "text/plain": [
       "{'beta': <mira.modeling.ModelParameter at 0x157b0bc70>,\n",
       " 'gamma': <mira.modeling.ModelParameter at 0x10db03b20>,\n",
       " 'delta': <mira.modeling.ModelParameter at 0x10db37490>,\n",
       " 'alpha': <mira.modeling.ModelParameter at 0x157b0bfa0>,\n",
       " 'epsilon': <mira.modeling.ModelParameter at 0x157b0be50>,\n",
       " 'zeta': <mira.modeling.ModelParameter at 0x157b481c0>,\n",
       " (('Infected', ('identity', 'ido:0000511')),\n",
       "  ('Healed', ('identity', 'ido:0000592')),\n",
       "  'NaturalConversion',\n",
       "  'rate'): <mira.modeling.ModelParameter at 0x157b48310>,\n",
       " 'eta': <mira.modeling.ModelParameter at 0x157b48370>,\n",
       " 'rho': <mira.modeling.ModelParameter at 0x157b485b0>,\n",
       " 'theta': <mira.modeling.ModelParameter at 0x157b48700>,\n",
       " 'kappa': <mira.modeling.ModelParameter at 0x157b48760>,\n",
       " 'mu': <mira.modeling.ModelParameter at 0x157b48850>,\n",
       " 'nu': <mira.modeling.ModelParameter at 0x157b48a90>,\n",
       " 'xi': <mira.modeling.ModelParameter at 0x157b48be0>,\n",
       " 'tau': <mira.modeling.ModelParameter at 0x157b48d30>,\n",
       " 'sigma': <mira.modeling.ModelParameter at 0x157b48e80>}"
      ]
     },
     "execution_count": 7,
     "metadata": {},
     "output_type": "execute_result"
    }
   ],
   "source": [
    "sidarthe.G.parameters"
   ]
  },
  {
   "cell_type": "code",
   "execution_count": null,
   "id": "90f760d5-c269-4906-aa92-46577b455f6b",
   "metadata": {},
   "outputs": [],
   "source": []
  },
  {
   "cell_type": "code",
   "execution_count": 7,
   "id": "fb719d87-c045-4d46-a764-501f6e788758",
   "metadata": {},
   "outputs": [
    {
     "data": {
      "text/plain": [
       "tensor([-0.9900, -0.0100,  1.0000])"
      ]
     },
     "execution_count": 7,
     "metadata": {},
     "output_type": "execute_result"
    }
   ],
   "source": [
    "import sympy, torch, sympytorch\n",
    "from torch import tensor\n",
    "total_pop, S, I, R, beta, gamma = sympy.symbols('total_pop, S, I, R, beta, gamma')\n",
    "S_to_I = beta*I*S/total_pop\n",
    "I_to_R = gamma*I\n",
    "\n",
    "# = sympytorch.SymPyModule(expressions=[S_to_I, I_to_R])\n",
    "dSdt = -S_to_I\n",
    "dIdt = S_to_I - I_to_R\n",
    "dRdt = I_to_R\n",
    "\n",
    "compile_deriv = sympytorch.SymPyModule(expressions=[dSdt, dIdt, dRdt])\n",
    "\n",
    "compiled_deriv = compile_deriv(beta=getattr(self, 'beta'),\n",
    "      gamma=getattr(self, 'gamma'),\n",
    "      S=states['S'],\n",
    "      I=states['I'],\n",
    "      R=states['R'],\n",
    "      total_pop=sum(states[i] for i in states)\n",
    "     )\n",
    "\n",
    "compile_deriv(beta=tensor(1.),\n",
    "              gamma=tensor(1.),\n",
    "              S=tensor(99.),\n",
    "              I=tensor(1.),\n",
    "              R=tensor(0.0),\n",
    "              total_pop=tensor(100.)\n",
    "             )"
   ]
  },
  {
   "cell_type": "code",
   "execution_count": null,
   "id": "40c5d7eb-72f2-41a7-9b15-efec7458447c",
   "metadata": {},
   "outputs": [],
   "source": [
    "      \n",
    "x_ = torch.rand(3)\n",
    "out = mod(x_name=x_)  # out has shape (3, 2)\n",
    "\n",
    "assert torch.equal(out[:, 0], x_.cos())\n",
    "assert torch.equal(out[:, 1], 2 * x_.sin())\n",
    "assert out.requires_grad  # from the two Parameters initialised as 1.0 and 2.0\n",
    "assert {x.item() for x in mod.parameters()} == {1.0, 2.0}"
   ]
  },
  {
   "cell_type": "code",
   "execution_count": null,
   "id": "efda5703-eb9f-4118-ad38-685bb0fe18d4",
   "metadata": {},
   "outputs": [],
   "source": [
    "def get_fluxes(rate_law):\n",
    "    \n",
    "    "
   ]
  },
  {
   "cell_type": "markdown",
   "id": "048c237d",
   "metadata": {},
   "source": [
    "## Define `Concepts` (model state variables) and total population"
   ]
  },
  {
   "cell_type": "code",
   "execution_count": 2,
   "id": "6742fd0b",
   "metadata": {},
   "outputs": [],
   "source": [
    "susceptible = Concept(name=\"susceptible_population\", identifiers={\"ido\": \"0000514\"})\n",
    "exposed = Concept(name=\"exposed_population\", identifiers={\"ido\": \"0000594\"}) # http://purl.obolibrary.org/obo/IDO_0000594\n",
    "infectious = Concept(name=\"infectious_population\", identifiers={\"ido\": \"0000513\"}) # http://purl.obolibrary.org/obo/IDO_0000513\n",
    "symptomatic = Concept(name=\"symptomatic_population\", identifiers={\"ido\": \"0000573\"}) # http://purl.obolibrary.org/obo/IDO_0000573\n",
    "asymptomatic = Concept(name=\"asymptomatic_population\", identifiers={\"ido\": \"0000569\"}) # http://purl.obolibrary.org/obo/IDO_0000569\n",
    "recovered = Concept(name=\"recovered_population\", identifiers={\"ido\": \"0000592\"})\n",
    "hospitalized = Concept(name=\"hospitalized_population\", identifiers={\"ncit\": \"C25179\"})\n",
    "deceased = Concept(name=\"deceased_population\", identifiers={\"ncit\": \"C168970\"}) # http://purl.obolibrary.org/obo/NCIT_C168970\n",
    "\n",
    "# Set a value for the total population\n",
    "total_pop = 100000"
   ]
  },
  {
   "cell_type": "markdown",
   "id": "efe01474",
   "metadata": {},
   "source": [
    "# Model 1: SIRHD\n",
    "Model 1 state variables: Susceptible (S), Infectious (I), Recovered (R), Hospitalized (H), and Deceased (D)"
   ]
  },
  {
   "cell_type": "markdown",
   "id": "9b5eda6b",
   "metadata": {},
   "source": [
    "## Define conversion templates for Model 1"
   ]
  },
  {
   "cell_type": "code",
   "execution_count": 3,
   "id": "7d4c979b",
   "metadata": {},
   "outputs": [],
   "source": [
    "state_variables = \"beta, total_population, susceptible_population, delta, infectious_population, gamma, hosp, dnh, dh, los, hospitalized_population, recovered_population, deceased_population\"\n",
    "beta, N, S, delta, I, gamma, hosp, dnh, dh, los, H, R, D = sympy.symbols(state_variables)\n",
    "                                                                                                                                                                                                                            \n",
    "S_to_I = ControlledConversion(\n",
    "    controller = infectious,\n",
    "    subject=susceptible,\n",
    "    outcome=infectious,\n",
    "    rate_law=(beta/N)*S*I\n",
    ")\n",
    "I_to_R = NaturalConversion(\n",
    "    subject=infectious,\n",
    "    outcome=recovered,\n",
    "    rate_law=gamma*(1-hosp-dnh)*I\n",
    ")\n",
    "I_to_H = NaturalConversion(\n",
    "    subject=infectious,\n",
    "    outcome=hospitalized,\n",
    "    rate_law=gamma*hosp*I\n",
    ")\n",
    "I_to_D = NaturalConversion(\n",
    "    subject=infectious,\n",
    "    outcome=deceased,\n",
    "    rate_law=gamma*dnh*I\n",
    ")\n",
    "H_to_R = NaturalConversion(\n",
    "    subject=hospitalized,\n",
    "    outcome=recovered,\n",
    "    rate_law=((1-dh)/los)*H\n",
    ")\n",
    "H_to_D = NaturalConversion(\n",
    "    subject=hospitalized,\n",
    "    outcome=deceased,\n",
    "    rate_law=(dh/los)*H\n",
    ")\n",
    "\n",
    "# display(S_to_E.rate_law.args[0])"
   ]
  },
  {
   "cell_type": "markdown",
   "id": "4dd4737b",
   "metadata": {},
   "source": [
    "## Set up the template model, define parameter values and initial conditions"
   ]
  },
  {
   "cell_type": "code",
   "execution_count": 4,
   "id": "03d1473c",
   "metadata": {},
   "outputs": [
    {
     "data": {
      "text/plain": [
       "mira.metamodel.template_model.TemplateModel"
      ]
     },
     "metadata": {},
     "output_type": "display_data"
    }
   ],
   "source": [
    "tm1 = TemplateModel(\n",
    "    templates=[S_to_I, I_to_R, I_to_H, I_to_D, H_to_R, H_to_D],\n",
    "    parameters={\n",
    "        'beta': Parameter(name='beta', value=0.55), # transmission rate\n",
    "        'total_population': Parameter(name='total_population', value=total_pop),\n",
    "        'gamma': Parameter(name='gamma', value=0.2), # recovery rate\n",
    "        'hosp': Parameter(name='hosp', value=0.1), # hospitalization rate of infectious individuals\n",
    "        'dnh': Parameter(name='dnh', value=0.001), # death rate of infectious individuals (never hospitalized)\n",
    "        'dh': Parameter(name='dh', value=0.1), #  death rate of infectious individuals (hospitalized)\n",
    "        'los': Parameter(name='los', value=7), # average length (days) of hospital stay\n",
    "    },\n",
    "    initials={\n",
    "        'susceptible_population': (Initial(concept=susceptible, value=(total_pop - 1))), \n",
    "        'infectious_population': (Initial(concept=infectious, value=1)),\n",
    "        'hospitalized_population': (Initial(concept=hospitalized, value=0)),\n",
    "        'recovered_population': (Initial(concept=recovered, value=0)),\n",
    "        'deceased_population': (Initial(concept=deceased, value=0)),\n",
    "    }\n",
    ")\n",
    "\n",
    "display(type(tm1)) # confirm that tm is a TemplateModel\n",
    "# display(tm.dict())"
   ]
  },
  {
   "cell_type": "code",
   "execution_count": 5,
   "id": "84d71ebd",
   "metadata": {},
   "outputs": [
    {
     "data": {
      "image/png": "[encoded data removed]",
      "text/plain": [
       "<IPython.core.display.Image object>"
      ]
     },
     "execution_count": 5,
     "metadata": {
      "image/png": {
       "width": "20%"
      }
     },
     "output_type": "execute_result"
    }
   ],
   "source": [
    "# Visualize the TemplateModel\n",
    "GraphicalModel.for_jupyter(tm1, width=\"20%\")"
   ]
  },
  {
   "cell_type": "markdown",
   "id": "b45f8857",
   "metadata": {},
   "source": [
    "## Convert to MIRA model representation"
   ]
  },
  {
   "cell_type": "code",
   "execution_count": 6,
   "id": "27506bdd",
   "metadata": {},
   "outputs": [
    {
     "data": {
      "text/plain": [
       "mira.modeling.Model"
      ]
     },
     "metadata": {},
     "output_type": "display_data"
    }
   ],
   "source": [
    "mira_m1 = Model(tm1)\n",
    "display(type(mira_m1)) \n",
    "#mira_m.variables"
   ]
  },
  {
   "cell_type": "markdown",
   "id": "dd4cd3db",
   "metadata": {},
   "source": [
    "## Convert to AskeNet Model Representation (AMR) and output JSON file"
   ]
  },
  {
   "cell_type": "code",
   "execution_count": 7,
   "id": "ee37232b",
   "metadata": {},
   "outputs": [
    {
     "data": {
      "text/plain": [
       "{'name': 'Model',\n",
       " 'schema': 'https://raw.githubusercontent.com/DARPA-ASKEM/Model-Representations/petrinet_v0.5/petrinet/petrinet_schema.json',\n",
       " 'schema_name': 'petrinet',\n",
       " 'description': 'Model',\n",
       " 'model_version': '0.1',\n",
       " 'properties': {},\n",
       " 'model': {'states': [{'id': 'susceptible_population',\n",
       "    'name': 'susceptible_population',\n",
       "    'grounding': {'identifiers': {'ido': '0000514'}, 'modifiers': {}}},\n",
       "   {'id': 'infectious_population',\n",
       "    'name': 'infectious_population',\n",
       "    'grounding': {'identifiers': {'ido': '0000513'}, 'modifiers': {}}},\n",
       "   {'id': 'recovered_population',\n",
       "    'name': 'recovered_population',\n",
       "    'grounding': {'identifiers': {'ido': '0000592'}, 'modifiers': {}}},\n",
       "   {'id': 'hospitalized_population',\n",
       "    'name': 'hospitalized_population',\n",
       "    'grounding': {'identifiers': {'ncit': 'C25179'}, 'modifiers': {}}},\n",
       "   {'id': 'deceased_population',\n",
       "    'name': 'deceased_population',\n",
       "    'grounding': {'identifiers': {'ncit': 'C168970'}, 'modifiers': {}}}],\n",
       "  'transitions': [{'id': 't1',\n",
       "    'input': ['infectious_population', 'susceptible_population'],\n",
       "    'output': ['infectious_population', 'infectious_population'],\n",
       "    'properties': {'name': 't1'}},\n",
       "   {'id': 't2',\n",
       "    'input': ['infectious_population'],\n",
       "    'output': ['recovered_population'],\n",
       "    'properties': {'name': 't2'}},\n",
       "   {'id': 't3',\n",
       "    'input': ['infectious_population'],\n",
       "    'output': ['hospitalized_population'],\n",
       "    'properties': {'name': 't3'}},\n",
       "   {'id': 't4',\n",
       "    'input': ['infectious_population'],\n",
       "    'output': ['deceased_population'],\n",
       "    'properties': {'name': 't4'}},\n",
       "   {'id': 't5',\n",
       "    'input': ['hospitalized_population'],\n",
       "    'output': ['recovered_population'],\n",
       "    'properties': {'name': 't5'}},\n",
       "   {'id': 't6',\n",
       "    'input': ['hospitalized_population'],\n",
       "    'output': ['deceased_population'],\n",
       "    'properties': {'name': 't6'}}]},\n",
       " 'semantics': {'ode': {'rates': [{'target': 't1',\n",
       "     'expression': 'beta*infectious_population*susceptible_population/total_population',\n",
       "     'expression_mathml': '<apply><divide/><apply><times/><ci>beta</ci><ci>infectious_population</ci><ci>susceptible_population</ci></apply><ci>total_population</ci></apply>'},\n",
       "    {'target': 't2',\n",
       "     'expression': 'gamma*infectious_population*(-dnh - hosp + 1)',\n",
       "     'expression_mathml': '<apply><times/><ci>gamma</ci><ci>infectious_population</ci><apply><plus/><apply><minus/><apply><minus/><ci>dnh</ci></apply><ci>hosp</ci></apply><cn>1</cn></apply></apply>'},\n",
       "    {'target': 't3',\n",
       "     'expression': 'gamma*hosp*infectious_population',\n",
       "     'expression_mathml': '<apply><times/><ci>gamma</ci><ci>hosp</ci><ci>infectious_population</ci></apply>'},\n",
       "    {'target': 't4',\n",
       "     'expression': 'dnh*gamma*infectious_population',\n",
       "     'expression_mathml': '<apply><times/><ci>dnh</ci><ci>gamma</ci><ci>infectious_population</ci></apply>'},\n",
       "    {'target': 't5',\n",
       "     'expression': 'hospitalized_population*(1 - dh)/los',\n",
       "     'expression_mathml': '<apply><divide/><apply><times/><ci>hospitalized_population</ci><apply><minus/><cn>1</cn><ci>dh</ci></apply></apply><ci>los</ci></apply>'},\n",
       "    {'target': 't6',\n",
       "     'expression': 'dh*hospitalized_population/los',\n",
       "     'expression_mathml': '<apply><divide/><apply><times/><ci>dh</ci><ci>hospitalized_population</ci></apply><ci>los</ci></apply>'}],\n",
       "   'initials': [{'target': 'susceptible_population',\n",
       "     'expression': '99999.0000000000',\n",
       "     'expression_mathml': '<cn>99999.0</cn>'},\n",
       "    {'target': 'infectious_population',\n",
       "     'expression': '1.00000000000000',\n",
       "     'expression_mathml': '<cn>1.0</cn>'},\n",
       "    {'target': 'recovered_population',\n",
       "     'expression': '0.0',\n",
       "     'expression_mathml': '<cn>0.0</cn>'},\n",
       "    {'target': 'hospitalized_population',\n",
       "     'expression': '0.0',\n",
       "     'expression_mathml': '<cn>0.0</cn>'},\n",
       "    {'target': 'deceased_population',\n",
       "     'expression': '0.0',\n",
       "     'expression_mathml': '<cn>0.0</cn>'}],\n",
       "   'parameters': [{'id': 'beta', 'value': 0.55},\n",
       "    {'id': 'total_population', 'value': 100000.0},\n",
       "    {'id': 'gamma', 'value': 0.2},\n",
       "    {'id': 'hosp', 'value': 0.1},\n",
       "    {'id': 'dnh', 'value': 0.001},\n",
       "    {'id': 'dh', 'value': 0.1},\n",
       "    {'id': 'los', 'value': 7.0}],\n",
       "   'observables': [],\n",
       "   'time': {'id': 't'}}},\n",
       " 'metadata': {'annotations': {'license': None,\n",
       "   'authors': [],\n",
       "   'references': [],\n",
       "   'time_scale': None,\n",
       "   'time_start': None,\n",
       "   'time_end': None,\n",
       "   'locations': [],\n",
       "   'pathogens': [],\n",
       "   'diseases': [],\n",
       "   'hosts': [],\n",
       "   'model_types': []}}}"
      ]
     },
     "metadata": {},
     "output_type": "display_data"
    }
   ],
   "source": [
    "aske_m1 = AskeNetPetriNetModel(mira_m1)\n",
    "\n",
    "# Display AMR model in JSON format\n",
    "display(aske_m1.to_json())\n",
    "\n",
    "# Save AMR model as JSON file\n",
    "aske_m1.to_json_file(\"SIRHD_AMR.json\", indent=2)"
   ]
  },
  {
   "cell_type": "code",
   "execution_count": 8,
   "id": "ace8fa08",
   "metadata": {},
   "outputs": [
    {
     "data": {
      "text/plain": [
       "ScaledBetaNoisePetriNetODESystem(\n",
       "\tbeta = Uniform(low: 0.4950000047683716, high: 0.6050000190734863),\n",
       "\ttotal_population = Uniform(low: 90000.0, high: 110000.0),\n",
       "\t(('susceptible_population', ('identity', 'ido:0000514')), ('infectious_population', ('identity', 'ido:0000513')), ('infectious_population', ('identity', 'ido:0000513')), 'ControlledConversion', 'rate') = Uniform(low: 0.0, high: 1.0),\n",
       "\tgamma = Uniform(low: 0.18000000715255737, high: 0.2199999988079071),\n",
       "\thosp = Uniform(low: 0.09000000357627869, high: 0.10999999940395355),\n",
       "\tdnh = Uniform(low: 0.0008999999845400453, high: 0.0010999999940395355),\n",
       "\t(('infectious_population', ('identity', 'ido:0000513')), ('recovered_population', ('identity', 'ido:0000592')), 'NaturalConversion', 'rate') = Uniform(low: 0.0, high: 1.0),\n",
       "\t(('infectious_population', ('identity', 'ido:0000513')), ('hospitalized_population', ('identity', 'ncit:C25179')), 'NaturalConversion', 'rate') = Uniform(low: 0.0, high: 1.0),\n",
       "\t(('infectious_population', ('identity', 'ido:0000513')), ('deceased_population', ('identity', 'ncit:C168970')), 'NaturalConversion', 'rate') = Uniform(low: 0.0, high: 1.0),\n",
       "\tdh = Uniform(low: 0.09000000357627869, high: 0.10999999940395355),\n",
       "\tlos = Uniform(low: 6.300000190734863, high: 7.699999809265137),\n",
       "\t(('hospitalized_population', ('identity', 'ncit:C25179')), ('recovered_population', ('identity', 'ido:0000592')), 'NaturalConversion', 'rate') = Uniform(low: 0.0, high: 1.0),\n",
       "\t(('hospitalized_population', ('identity', 'ncit:C25179')), ('deceased_population', ('identity', 'ncit:C168970')), 'NaturalConversion', 'rate') = Uniform(low: 0.0, high: 1.0),\n",
       "\tpseudocount = 1.0\n",
       ")"
      ]
     },
     "execution_count": 8,
     "metadata": {},
     "output_type": "execute_result"
    }
   ],
   "source": [
    "# Import mira_m the pyciemss way\n",
    "the_model = load_petri_model(mira_m1) \n",
    "the_model"
   ]
  },
  {
   "cell_type": "code",
   "execution_count": 15,
   "id": "26220948-2fb6-477d-b64e-b116c5f511c3",
   "metadata": {},
   "outputs": [
    {
     "data": {
      "text/plain": [
       "ScaledBetaNoisePetriNetODESystem(\n",
       "\tmira_param_0 = Uniform(low: 4.949999947712058e-06, high: 6.050000138202449e-06),\n",
       "\tmira_param_1 = Uniform(low: 0.16181999444961548, high: 0.19777999818325043),\n",
       "\tmira_param_2 = Uniform(low: 0.017999999225139618, high: 0.02199999988079071),\n",
       "\tmira_param_3 = Uniform(low: 0.00018000000272877514, high: 0.00022000000171829015),\n",
       "\tmira_param_4 = Uniform(low: 0.11571428924798965, high: 0.14142857491970062),\n",
       "\tmira_param_5 = Uniform(low: 0.012857142835855484, high: 0.015714285895228386),\n",
       "\tpseudocount = 1.0\n",
       ")"
      ]
     },
     "execution_count": 15,
     "metadata": {},
     "output_type": "execute_result"
    }
   ],
   "source": [
    "sirhd_amr = load_petri_model(\"SIRHD_AMR.json\")\n",
    "sirhd_amr "
   ]
  },
  {
   "cell_type": "markdown",
   "id": "9febfa9e",
   "metadata": {},
   "source": [
    "# Model 2: SEIARHD\n",
    "Model 2 state variables: Susceptible (S), Exposed (E), Symptomatic Infectious (I), Asymptomatic Infectious (A), Recovered (R), Hospitalized (H), <br> and Deceased (D)"
   ]
  },
  {
   "cell_type": "markdown",
   "id": "1ef12613",
   "metadata": {},
   "source": [
    "## Define conversion templates for Model 2"
   ]
  },
  {
   "cell_type": "code",
   "execution_count": 10,
   "id": "5fcecae4",
   "metadata": {},
   "outputs": [],
   "source": [
    "state_variables = \"beta, total_population, susceptible_population, delta, symptomatic_population, asymptomatic_population, pS, alpha, exposed_population, gamma, hosp, dnh, dh, los, hospitalized_population, recovered_population, deceased_population\"\n",
    "beta, N, S, delta, I, A, pS, alpha, E, gamma, hosp, dnh, dh, los, H, R, D = sympy.symbols(state_variables)\n",
    "                                                                                                                                                                                                                            \n",
    "S_to_E = GroupedControlledConversion(\n",
    "    controllers = [\n",
    "        symptomatic, \n",
    "        asymptomatic, \n",
    "    ],\n",
    "    subject=susceptible,\n",
    "    outcome=exposed,\n",
    "    rate_law=(beta/N)*S*(delta*I + A)\n",
    ")\n",
    "E_to_I = NaturalConversion(\n",
    "    subject=exposed,\n",
    "    outcome=symptomatic,\n",
    "    rate_law=(pS/alpha)*E\n",
    ")\n",
    "E_to_A = NaturalConversion(\n",
    "    subject=exposed,\n",
    "    outcome=asymptomatic,\n",
    "    rate_law=((1-pS)/alpha)*E\n",
    ")\n",
    "I_to_R = NaturalConversion(\n",
    "    subject=symptomatic,\n",
    "    outcome=recovered,\n",
    "    rate_law=gamma*(1-hosp-dnh)*I\n",
    ")\n",
    "I_to_H = NaturalConversion(\n",
    "    subject=symptomatic,\n",
    "    outcome=hospitalized,\n",
    "    rate_law=gamma*hosp*I\n",
    ")\n",
    "I_to_D = NaturalConversion(\n",
    "    subject=symptomatic,\n",
    "    outcome=deceased,\n",
    "    rate_law=gamma*dnh*I\n",
    ")\n",
    "A_to_R = NaturalConversion(\n",
    "    subject=asymptomatic,\n",
    "    outcome=recovered,\n",
    "    rate_law=gamma*A\n",
    ")\n",
    "H_to_R = NaturalConversion(\n",
    "    subject=hospitalized,\n",
    "    outcome=recovered,\n",
    "    rate_law=((1-dh)/los)*H\n",
    ")\n",
    "H_to_D = NaturalConversion(\n",
    "    subject=hospitalized,\n",
    "    outcome=deceased,\n",
    "    rate_law=(dh/los)*H\n",
    ")\n",
    "\n",
    "# display(S_to_E.rate_law.args[0])"
   ]
  },
  {
   "cell_type": "markdown",
   "id": "9d6e89f3",
   "metadata": {},
   "source": [
    "## Set up the template model, define parameter values and initial conditions"
   ]
  },
  {
   "cell_type": "code",
   "execution_count": 11,
   "id": "bf4c4eb2",
   "metadata": {},
   "outputs": [
    {
     "data": {
      "text/plain": [
       "mira.metamodel.template_model.TemplateModel"
      ]
     },
     "metadata": {},
     "output_type": "display_data"
    }
   ],
   "source": [
    "tm2 = TemplateModel(\n",
    "    templates=[S_to_E, E_to_I, E_to_A, I_to_R, I_to_H, I_to_D, A_to_R, H_to_R, H_to_D],\n",
    "    parameters={\n",
    "        'beta': Parameter(name='beta', value=0.55), # transmission rate\n",
    "        'total_population': Parameter(name='total_population', value=total_pop),\n",
    "        'delta': Parameter(name='delta', value=1.5), # difference in infectiousness symptomatic/asymptomatic\n",
    "        'pS': Parameter(name='pS', value=0.7), # percent of exposures which become symptomatic\n",
    "        'alpha': Parameter(name='alpha', value=4), # latency period\n",
    "        'gamma': Parameter(name='gamma', value=0.2), # recovery rate\n",
    "        'hosp': Parameter(name='hosp', value=0.1), # hospitalization rate of infectious individuals\n",
    "        'dnh': Parameter(name='dnh', value=0.001), # death rate of infectious individuals (never hospitalized)\n",
    "        'dh': Parameter(name='dh', value=0.1), #  death rate of infectious individuals (hospitalized)\n",
    "        'los': Parameter(name='los', value=7), # average length (days) of hospital stay\n",
    "    },\n",
    "    initials={\n",
    "        'susceptible_population': (Initial(concept=susceptible, value=(total_pop - 1))), \n",
    "        'symptomatic_population': (Initial(concept=symptomatic, value=1)),\n",
    "        'asymptomatic_population': (Initial(concept=asymptomatic, value=0)),\n",
    "        'exposed_population': (Initial(concept=exposed, value=0)),\n",
    "        'hospitalized_population': (Initial(concept=hospitalized, value=0)),\n",
    "        'recovered_population': (Initial(concept=recovered, value=0)),\n",
    "        'deceased_population': (Initial(concept=deceased, value=0)),\n",
    "    }\n",
    ")\n",
    "\n",
    "display(type(tm2)) # confirm that tm is a TemplateModel\n",
    "# display(tm.dict())"
   ]
  },
  {
   "cell_type": "code",
   "execution_count": 55,
   "id": "8ad66150-5383-4672-b13f-488f013b171b",
   "metadata": {},
   "outputs": [
    {
     "data": {
      "text/plain": [
       "mira.metamodel.templates.SympyExprStr"
      ]
     },
     "execution_count": 55,
     "metadata": {},
     "output_type": "execute_result"
    }
   ],
   "source": [
    "type(tm2.templates[0].rate_law)\n"
   ]
  },
  {
   "cell_type": "code",
   "execution_count": 12,
   "id": "093eef9c",
   "metadata": {},
   "outputs": [
    {
     "data": {
      "image/png": "[encoded data removed]",
      "text/plain": [
       "<IPython.core.display.Image object>"
      ]
     },
     "execution_count": 12,
     "metadata": {
      "image/png": {
       "width": "20%"
      }
     },
     "output_type": "execute_result"
    }
   ],
   "source": [
    "# Visualize the TemplateModel\n",
    "GraphicalModel.for_jupyter(tm2, width=\"20%\")"
   ]
  },
  {
   "cell_type": "markdown",
   "id": "6e774a2f",
   "metadata": {},
   "source": [
    "## Convert to MIRA model representation "
   ]
  },
  {
   "cell_type": "code",
   "execution_count": 13,
   "id": "84b70fc3",
   "metadata": {
    "scrolled": true
   },
   "outputs": [
    {
     "data": {
      "text/plain": [
       "mira.modeling.Model"
      ]
     },
     "metadata": {},
     "output_type": "display_data"
    }
   ],
   "source": [
    "mira_m2 = Model(tm2)\n",
    "display(type(mira_m2)) \n",
    "#mira_m.variables"
   ]
  },
  {
   "cell_type": "markdown",
   "id": "6e7985e6",
   "metadata": {},
   "source": [
    "## Convert to AskeNet Model Representation (AMR) and output JSON file"
   ]
  },
  {
   "cell_type": "code",
   "execution_count": 14,
   "id": "60ab8820",
   "metadata": {},
   "outputs": [
    {
     "data": {
      "text/plain": [
       "{'name': 'Model',\n",
       " 'schema': 'https://raw.githubusercontent.com/DARPA-ASKEM/Model-Representations/petrinet_v0.5/petrinet/petrinet_schema.json',\n",
       " 'schema_name': 'petrinet',\n",
       " 'description': 'Model',\n",
       " 'model_version': '0.1',\n",
       " 'properties': {},\n",
       " 'model': {'states': [{'id': 'susceptible_population',\n",
       "    'name': 'susceptible_population',\n",
       "    'grounding': {'identifiers': {'ido': '0000514'}, 'modifiers': {}}},\n",
       "   {'id': 'symptomatic_population',\n",
       "    'name': 'symptomatic_population',\n",
       "    'grounding': {'identifiers': {'ido': '0000573'}, 'modifiers': {}}},\n",
       "   {'id': 'asymptomatic_population',\n",
       "    'name': 'asymptomatic_population',\n",
       "    'grounding': {'identifiers': {'ido': '0000569'}, 'modifiers': {}}},\n",
       "   {'id': 'exposed_population',\n",
       "    'name': 'exposed_population',\n",
       "    'grounding': {'identifiers': {'ido': '0000594'}, 'modifiers': {}}},\n",
       "   {'id': 'recovered_population',\n",
       "    'name': 'recovered_population',\n",
       "    'grounding': {'identifiers': {'ido': '0000592'}, 'modifiers': {}}},\n",
       "   {'id': 'hospitalized_population',\n",
       "    'name': 'hospitalized_population',\n",
       "    'grounding': {'identifiers': {'ncit': 'C25179'}, 'modifiers': {}}},\n",
       "   {'id': 'deceased_population',\n",
       "    'name': 'deceased_population',\n",
       "    'grounding': {'identifiers': {'ncit': 'C168970'}, 'modifiers': {}}}],\n",
       "  'transitions': [{'id': 't1',\n",
       "    'input': ['symptomatic_population',\n",
       "     'asymptomatic_population',\n",
       "     'susceptible_population'],\n",
       "    'output': ['symptomatic_population',\n",
       "     'asymptomatic_population',\n",
       "     'exposed_population'],\n",
       "    'properties': {'name': 't1'}},\n",
       "   {'id': 't2',\n",
       "    'input': ['exposed_population'],\n",
       "    'output': ['symptomatic_population'],\n",
       "    'properties': {'name': 't2'}},\n",
       "   {'id': 't3',\n",
       "    'input': ['exposed_population'],\n",
       "    'output': ['asymptomatic_population'],\n",
       "    'properties': {'name': 't3'}},\n",
       "   {'id': 't4',\n",
       "    'input': ['symptomatic_population'],\n",
       "    'output': ['recovered_population'],\n",
       "    'properties': {'name': 't4'}},\n",
       "   {'id': 't5',\n",
       "    'input': ['symptomatic_population'],\n",
       "    'output': ['hospitalized_population'],\n",
       "    'properties': {'name': 't5'}},\n",
       "   {'id': 't6',\n",
       "    'input': ['symptomatic_population'],\n",
       "    'output': ['deceased_population'],\n",
       "    'properties': {'name': 't6'}},\n",
       "   {'id': 't7',\n",
       "    'input': ['asymptomatic_population'],\n",
       "    'output': ['recovered_population'],\n",
       "    'properties': {'name': 't7'}},\n",
       "   {'id': 't8',\n",
       "    'input': ['hospitalized_population'],\n",
       "    'output': ['recovered_population'],\n",
       "    'properties': {'name': 't8'}},\n",
       "   {'id': 't9',\n",
       "    'input': ['hospitalized_population'],\n",
       "    'output': ['deceased_population'],\n",
       "    'properties': {'name': 't9'}}]},\n",
       " 'semantics': {'ode': {'rates': [{'target': 't1',\n",
       "     'expression': 'beta*susceptible_population*(asymptomatic_population + delta*symptomatic_population)/total_population',\n",
       "     'expression_mathml': '<apply><divide/><apply><times/><ci>beta</ci><ci>susceptible_population</ci><apply><plus/><ci>asymptomatic_population</ci><apply><times/><ci>delta</ci><ci>symptomatic_population</ci></apply></apply></apply><ci>total_population</ci></apply>'},\n",
       "    {'target': 't2',\n",
       "     'expression': 'exposed_population*pS/alpha',\n",
       "     'expression_mathml': '<apply><divide/><apply><times/><ci>exposed_population</ci><ci>pS</ci></apply><ci>alpha</ci></apply>'},\n",
       "    {'target': 't3',\n",
       "     'expression': 'exposed_population*(1 - pS)/alpha',\n",
       "     'expression_mathml': '<apply><divide/><apply><times/><ci>exposed_population</ci><apply><minus/><cn>1</cn><ci>pS</ci></apply></apply><ci>alpha</ci></apply>'},\n",
       "    {'target': 't4',\n",
       "     'expression': 'gamma*symptomatic_population*(-dnh - hosp + 1)',\n",
       "     'expression_mathml': '<apply><times/><ci>gamma</ci><ci>symptomatic_population</ci><apply><plus/><apply><minus/><apply><minus/><ci>dnh</ci></apply><ci>hosp</ci></apply><cn>1</cn></apply></apply>'},\n",
       "    {'target': 't5',\n",
       "     'expression': 'gamma*hosp*symptomatic_population',\n",
       "     'expression_mathml': '<apply><times/><ci>gamma</ci><ci>hosp</ci><ci>symptomatic_population</ci></apply>'},\n",
       "    {'target': 't6',\n",
       "     'expression': 'dnh*gamma*symptomatic_population',\n",
       "     'expression_mathml': '<apply><times/><ci>dnh</ci><ci>gamma</ci><ci>symptomatic_population</ci></apply>'},\n",
       "    {'target': 't7',\n",
       "     'expression': 'asymptomatic_population*gamma',\n",
       "     'expression_mathml': '<apply><times/><ci>asymptomatic_population</ci><ci>gamma</ci></apply>'},\n",
       "    {'target': 't8',\n",
       "     'expression': 'hospitalized_population*(1 - dh)/los',\n",
       "     'expression_mathml': '<apply><divide/><apply><times/><ci>hospitalized_population</ci><apply><minus/><cn>1</cn><ci>dh</ci></apply></apply><ci>los</ci></apply>'},\n",
       "    {'target': 't9',\n",
       "     'expression': 'dh*hospitalized_population/los',\n",
       "     'expression_mathml': '<apply><divide/><apply><times/><ci>dh</ci><ci>hospitalized_population</ci></apply><ci>los</ci></apply>'}],\n",
       "   'initials': [{'target': 'susceptible_population',\n",
       "     'expression': '99999.0000000000',\n",
       "     'expression_mathml': '<cn>99999.0</cn>'},\n",
       "    {'target': 'symptomatic_population',\n",
       "     'expression': '1.00000000000000',\n",
       "     'expression_mathml': '<cn>1.0</cn>'},\n",
       "    {'target': 'asymptomatic_population',\n",
       "     'expression': '0.0',\n",
       "     'expression_mathml': '<cn>0.0</cn>'},\n",
       "    {'target': 'exposed_population',\n",
       "     'expression': '0.0',\n",
       "     'expression_mathml': '<cn>0.0</cn>'},\n",
       "    {'target': 'recovered_population',\n",
       "     'expression': '0.0',\n",
       "     'expression_mathml': '<cn>0.0</cn>'},\n",
       "    {'target': 'hospitalized_population',\n",
       "     'expression': '0.0',\n",
       "     'expression_mathml': '<cn>0.0</cn>'},\n",
       "    {'target': 'deceased_population',\n",
       "     'expression': '0.0',\n",
       "     'expression_mathml': '<cn>0.0</cn>'}],\n",
       "   'parameters': [{'id': 'beta', 'value': 0.55},\n",
       "    {'id': 'delta', 'value': 1.5},\n",
       "    {'id': 'total_population', 'value': 100000.0},\n",
       "    {'id': 'alpha', 'value': 4.0},\n",
       "    {'id': 'pS', 'value': 0.7},\n",
       "    {'id': 'gamma', 'value': 0.2},\n",
       "    {'id': 'hosp', 'value': 0.1},\n",
       "    {'id': 'dnh', 'value': 0.001},\n",
       "    {'id': 'dh', 'value': 0.1},\n",
       "    {'id': 'los', 'value': 7.0}],\n",
       "   'observables': [],\n",
       "   'time': {'id': 't'}}},\n",
       " 'metadata': {'annotations': {'license': None,\n",
       "   'authors': [],\n",
       "   'references': [],\n",
       "   'time_scale': None,\n",
       "   'time_start': None,\n",
       "   'time_end': None,\n",
       "   'locations': [],\n",
       "   'pathogens': [],\n",
       "   'diseases': [],\n",
       "   'hosts': [],\n",
       "   'model_types': []}}}"
      ]
     },
     "metadata": {},
     "output_type": "display_data"
    }
   ],
   "source": [
    "aske_m2 = AskeNetPetriNetModel(mira_m2)\n",
    "\n",
    "# Display AMR model in JSON format\n",
    "display(aske_m2.to_json())\n",
    "\n",
    "# Save AMR model as JSON file\n",
    "aske_m2.to_json_file(\"SEIARHD_AMR.json\", indent=2)"
   ]
  },
  {
   "cell_type": "code",
   "execution_count": 17,
   "id": "4e0db9e3",
   "metadata": {},
   "outputs": [
    {
     "data": {
      "text/plain": [
       "ScaledBetaNoisePetriNetODESystem(\n",
       "\tbeta = Uniform(low: 0.4950000047683716, high: 0.6050000190734863),\n",
       "\tdelta = Uniform(low: 1.350000023841858, high: 1.649999976158142),\n",
       "\ttotal_population = Uniform(low: 90000.0, high: 110000.0),\n",
       "\t(('susceptible_population', ('identity', 'ido:0000514')), ('exposed_population', ('identity', 'ido:0000594')), (('symptomatic_population', ('identity', 'ido:0000573')), ('asymptomatic_population', ('identity', 'ido:0000569'))), 'GroupedControlledConversion', 'rate') = Uniform(low: 0.0, high: 1.0),\n",
       "\talpha = Uniform(low: 3.5999999046325684, high: 4.400000095367432),\n",
       "\tpS = Uniform(low: 0.6299999952316284, high: 0.7699999809265137),\n",
       "\t(('exposed_population', ('identity', 'ido:0000594')), ('symptomatic_population', ('identity', 'ido:0000573')), 'NaturalConversion', 'rate') = Uniform(low: 0.0, high: 1.0),\n",
       "\t(('exposed_population', ('identity', 'ido:0000594')), ('asymptomatic_population', ('identity', 'ido:0000569')), 'NaturalConversion', 'rate') = Uniform(low: 0.0, high: 1.0),\n",
       "\tgamma = Uniform(low: 0.18000000715255737, high: 0.2199999988079071),\n",
       "\thosp = Uniform(low: 0.09000000357627869, high: 0.10999999940395355),\n",
       "\tdnh = Uniform(low: 0.0008999999845400453, high: 0.0010999999940395355),\n",
       "\t(('symptomatic_population', ('identity', 'ido:0000573')), ('recovered_population', ('identity', 'ido:0000592')), 'NaturalConversion', 'rate') = Uniform(low: 0.0, high: 1.0),\n",
       "\t(('symptomatic_population', ('identity', 'ido:0000573')), ('hospitalized_population', ('identity', 'ncit:C25179')), 'NaturalConversion', 'rate') = Uniform(low: 0.0, high: 1.0),\n",
       "\t(('symptomatic_population', ('identity', 'ido:0000573')), ('deceased_population', ('identity', 'ncit:C168970')), 'NaturalConversion', 'rate') = Uniform(low: 0.0, high: 1.0),\n",
       "\tdh = Uniform(low: 0.09000000357627869, high: 0.10999999940395355),\n",
       "\tlos = Uniform(low: 6.300000190734863, high: 7.699999809265137),\n",
       "\t(('hospitalized_population', ('identity', 'ncit:C25179')), ('recovered_population', ('identity', 'ido:0000592')), 'NaturalConversion', 'rate') = Uniform(low: 0.0, high: 1.0),\n",
       "\t(('hospitalized_population', ('identity', 'ncit:C25179')), ('deceased_population', ('identity', 'ncit:C168970')), 'NaturalConversion', 'rate') = Uniform(low: 0.0, high: 1.0),\n",
       "\tpseudocount = 1.0\n",
       ")"
      ]
     },
     "execution_count": 17,
     "metadata": {},
     "output_type": "execute_result"
    }
   ],
   "source": [
    "# Import mira_m the pyciemss way\n",
    "the_model = load_petri_model(mira_m2) \n",
    "the_model"
   ]
  },
  {
   "cell_type": "code",
   "execution_count": 18,
   "id": "4f1f3032-5b2c-4072-ada0-711fb63738cb",
   "metadata": {},
   "outputs": [
    {
     "data": {
      "text/plain": [
       "ScaledBetaNoisePetriNetODESystem(\n",
       "\tbeta = Uniform(low: 0.4950000047683716, high: 0.6050000190734863),\n",
       "\tdelta = Uniform(low: 1.350000023841858, high: 1.649999976158142),\n",
       "\ttotal_population = Uniform(low: 90000.0, high: 110000.0),\n",
       "\t(('susceptible_population', ('identity', 'ido:0000514')), ('exposed_population', ('identity', 'ido:0000594')), (('asymptomatic_population', ('identity', 'ido:0000569')), ('symptomatic_population', ('identity', 'ido:0000573'))), 'GroupedControlledConversion', 'rate') = Uniform(low: 0.0, high: 1.0),\n",
       "\tmira_param_0 = Uniform(low: 0.1574999988079071, high: 0.19249999523162842),\n",
       "\tmira_param_1 = Uniform(low: 0.06750000268220901, high: 0.08250000327825546),\n",
       "\tmira_param_2 = Uniform(low: 0.16181999444961548, high: 0.19777999818325043),\n",
       "\tmira_param_3 = Uniform(low: 0.017999999225139618, high: 0.02199999988079071),\n",
       "\tmira_param_4 = Uniform(low: 0.00018000000272877514, high: 0.00022000000171829015),\n",
       "\tmira_param_5 = Uniform(low: 0.18000000715255737, high: 0.2199999988079071),\n",
       "\tmira_param_6 = Uniform(low: 0.11571428924798965, high: 0.14142857491970062),\n",
       "\tmira_param_7 = Uniform(low: 0.012857142835855484, high: 0.015714285895228386),\n",
       "\tpseudocount = 1.0\n",
       ")"
      ]
     },
     "execution_count": 18,
     "metadata": {},
     "output_type": "execute_result"
    }
   ],
   "source": [
    "SEIARHD_amr = load_petri_model(\"SEIARHD_AMR.json\")\n",
    "SEIARHD_amr"
   ]
  },
  {
   "cell_type": "markdown",
   "id": "f106e64c",
   "metadata": {},
   "source": [
    "# Model 3: SEIARHDS\n",
    "Model 3 state variables: Susceptible (S), Exposed (E), Symptomatic Infectious (I), Asymptomatic Infectious (A), Recovered (R), Hospitalized (H), <br> and Deceased (D)"
   ]
  },
  {
   "cell_type": "markdown",
   "id": "7169b8aa",
   "metadata": {},
   "source": [
    "## Define conversion templates for Model 1"
   ]
  },
  {
   "cell_type": "code",
   "execution_count": 50,
   "id": "b523d9d5",
   "metadata": {},
   "outputs": [
    {
     "data": {
      "text/latex": [
       "$\\displaystyle \\frac{\\beta susceptible_{population} \\left(asymptomatic_{population} + \\delta symptomatic_{population}\\right)}{total_{population}}$"
      ],
      "text/plain": [
       "beta*susceptible_population*(asymptomatic_population + delta*symptomatic_population)/total_population"
      ]
     },
     "metadata": {},
     "output_type": "display_data"
    }
   ],
   "source": [
    "state_variables = \"beta, total_population, susceptible_population, delta, symptomatic_population, asymptomatic_population, pS, alpha, exposed_population, gamma, hosp, dnh, dh, los, hospitalized_population, recovered_population, deceased_population, tau\"\n",
    "beta, N, S, delta, I, A, pS, alpha, E, gamma, hosp, dnh, dh, los, H, R, D, tau = sympy.symbols(state_variables)\n",
    "                                                                                                                                                                                                                            \n",
    "S_to_E = GroupedControlledConversion(\n",
    "    controllers = [\n",
    "        symptomatic, \n",
    "        asymptomatic, \n",
    "    ],\n",
    "    subject=susceptible,\n",
    "    outcome=exposed,\n",
    "    rate_law=(beta/N)*S*(delta*I + A)\n",
    ")\n",
    "E_to_I = NaturalConversion(\n",
    "    subject=exposed,\n",
    "    outcome=symptomatic,\n",
    "    rate_law=(pS/alpha)*E\n",
    ")\n",
    "E_to_A = NaturalConversion(\n",
    "    subject=exposed,\n",
    "    outcome=asymptomatic,\n",
    "    rate_law=((1-pS)/alpha)*E\n",
    ")\n",
    "I_to_R = NaturalConversion(\n",
    "    subject=symptomatic,\n",
    "    outcome=recovered,\n",
    "    rate_law=gamma*(1-hosp-dnh)*I\n",
    ")\n",
    "I_to_H = NaturalConversion(\n",
    "    subject=symptomatic,\n",
    "    outcome=hospitalized,\n",
    "    rate_law=gamma*hosp*I\n",
    ")\n",
    "I_to_D = NaturalConversion(\n",
    "    subject=symptomatic,\n",
    "    outcome=deceased,\n",
    "    rate_law=gamma*dnh*I\n",
    ")\n",
    "A_to_R = NaturalConversion(\n",
    "    subject=asymptomatic,\n",
    "    outcome=recovered,\n",
    "    rate_law=gamma*A\n",
    ")\n",
    "H_to_R = NaturalConversion(\n",
    "    subject=hospitalized,\n",
    "    outcome=recovered,\n",
    "    rate_law=((1-dh)/los)*H\n",
    ")\n",
    "H_to_D = NaturalConversion(\n",
    "    subject=hospitalized,\n",
    "    outcome=deceased,\n",
    "    rate_law=(dh/los)*H\n",
    ")\n",
    "R_to_S = NaturalConversion(\n",
    "    subject=recovered,\n",
    "    outcome=susceptible,\n",
    "    rate_law=(1/tau)*R\n",
    ")\n",
    "\n",
    "display(S_to_E.rate_law.args[0])"
   ]
  },
  {
   "cell_type": "markdown",
   "id": "dcbd6d21",
   "metadata": {},
   "source": [
    "## Set up the template model, define parameter values and initial conditions"
   ]
  },
  {
   "cell_type": "code",
   "execution_count": 20,
   "id": "4a08054b",
   "metadata": {},
   "outputs": [
    {
     "data": {
      "text/plain": [
       "mira.metamodel.template_model.TemplateModel"
      ]
     },
     "metadata": {},
     "output_type": "display_data"
    }
   ],
   "source": [
    "tm3 = TemplateModel(\n",
    "    templates=[S_to_E, E_to_I, E_to_A, I_to_R, I_to_H, I_to_D, A_to_R, H_to_R, H_to_D, R_to_S],\n",
    "    parameters={\n",
    "        'beta': Parameter(name='beta', value=0.55), # transmission rate\n",
    "        'total_population': Parameter(name='total_population', value=total_pop),\n",
    "        'delta': Parameter(name='delta', value=1.5), # difference in infectiousness symptomatic/asymptomatic\n",
    "        'pS': Parameter(name='pS', value=0.7), # percent of exposures which become symptomatic\n",
    "        'alpha': Parameter(name='alpha', value=4), # latency period\n",
    "        'gamma': Parameter(name='gamma', value=0.2), # recovery rate\n",
    "        'hosp': Parameter(name='hosp', value=0.1), # hospitalization rate of infectious individuals\n",
    "        'dnh': Parameter(name='dnh', value=0.001), # death rate of infectious individuals (never hospitalized)\n",
    "        'dh': Parameter(name='dh', value=0.1), #  death rate of infectious individuals (hospitalized)\n",
    "        'los': Parameter(name='los', value=7), # average length (days) of hospital stay\n",
    "        'tau': Parameter(name='tau', value=30), # period of immunity from recovery (days)\n",
    "    },\n",
    "    initials={\n",
    "        'susceptible_population': (Initial(concept=susceptible, value=(total_pop - 1))), \n",
    "        'symptomatic_population': (Initial(concept=symptomatic, value=1)),\n",
    "        'asymptomatic_population': (Initial(concept=asymptomatic, value=0)),\n",
    "        'exposed_population': (Initial(concept=exposed, value=0)),\n",
    "        'hospitalized_population': (Initial(concept=hospitalized, value=0)),\n",
    "        'recovered_population': (Initial(concept=recovered, value=0)),\n",
    "        'deceased_population': (Initial(concept=deceased, value=0)),\n",
    "    }\n",
    ")\n",
    "\n",
    "display(type(tm3)) # confirm that tm is a TemplateModel\n",
    "# display(tm.dict())"
   ]
  },
  {
   "cell_type": "code",
   "execution_count": 21,
   "id": "afa82135",
   "metadata": {},
   "outputs": [
    {
     "data": {
      "image/png": "[encoded data removed]",
      "text/plain": [
       "<IPython.core.display.Image object>"
      ]
     },
     "execution_count": 21,
     "metadata": {
      "image/png": {
       "width": "20%"
      }
     },
     "output_type": "execute_result"
    }
   ],
   "source": [
    "# Visualize the TemplateModel\n",
    "GraphicalModel.for_jupyter(tm3, width=\"20%\")"
   ]
  },
  {
   "cell_type": "markdown",
   "id": "0a1cadda",
   "metadata": {},
   "source": [
    "## Convert to MIRA model representation"
   ]
  },
  {
   "cell_type": "code",
   "execution_count": 51,
   "id": "fc6bc973",
   "metadata": {},
   "outputs": [
    {
     "ename": "AttributeError",
     "evalue": "'TemplateModel' object has no attribute 'transitions'",
     "output_type": "error",
     "traceback": [
      "\u001b[0;31m---------------------------------------------------------------------------\u001b[0m",
      "\u001b[0;31mAttributeError\u001b[0m                            Traceback (most recent call last)",
      "Cell \u001b[0;32mIn[51], line 3\u001b[0m\n\u001b[1;32m      1\u001b[0m mira_m3 \u001b[38;5;241m=\u001b[39m Model(tm3)\n\u001b[1;32m      2\u001b[0m \u001b[38;5;66;03m#display(type(mira_m3)) \u001b[39;00m\n\u001b[0;32m----> 3\u001b[0m \u001b[38;5;28;01mfor\u001b[39;00m t \u001b[38;5;129;01min\u001b[39;00m \u001b[43mmira_m3\u001b[49m\u001b[38;5;241;43m.\u001b[39;49m\u001b[43mtemplate_model\u001b[49m\u001b[38;5;241;43m.\u001b[39;49m\u001b[43mtransitions\u001b[49m:\n\u001b[1;32m      4\u001b[0m     r \u001b[38;5;241m=\u001b[39m mira_m3\u001b[38;5;241m.\u001b[39mtemplate_model\u001b[38;5;241m.\u001b[39mtransitions[t]\u001b[38;5;241m.\u001b[39mrate_law\n\u001b[1;32m      5\u001b[0m     \u001b[38;5;28mprint\u001b[39m(r)\n",
      "\u001b[0;31mAttributeError\u001b[0m: 'TemplateModel' object has no attribute 'transitions'"
     ]
    }
   ],
   "source": [
    "mira_m3 = Model(tm3)\n",
    "#display(type(mira_m3)) \n",
    "for t in mira_m3.template_model.transitions:\n",
    "    r = mira_m3.template_model.transitions[t].rate_law\n",
    "    print(r)"
   ]
  },
  {
   "cell_type": "markdown",
   "id": "90ce74c3",
   "metadata": {},
   "source": [
    "## Convert to AskeNet Model Representation (AMR) and output JSON file"
   ]
  },
  {
   "cell_type": "code",
   "execution_count": 24,
   "id": "44cc1159",
   "metadata": {},
   "outputs": [
    {
     "data": {
      "text/plain": [
       "{'name': 'Model',\n",
       " 'schema': 'https://raw.githubusercontent.com/DARPA-ASKEM/Model-Representations/petrinet_v0.5/petrinet/petrinet_schema.json',\n",
       " 'schema_name': 'petrinet',\n",
       " 'description': 'Model',\n",
       " 'model_version': '0.1',\n",
       " 'properties': {},\n",
       " 'model': {'states': [{'id': 'susceptible_population',\n",
       "    'name': 'susceptible_population',\n",
       "    'grounding': {'identifiers': {'ido': '0000514'}, 'modifiers': {}}},\n",
       "   {'id': 'symptomatic_population',\n",
       "    'name': 'symptomatic_population',\n",
       "    'grounding': {'identifiers': {'ido': '0000573'}, 'modifiers': {}}},\n",
       "   {'id': 'asymptomatic_population',\n",
       "    'name': 'asymptomatic_population',\n",
       "    'grounding': {'identifiers': {'ido': '0000569'}, 'modifiers': {}}},\n",
       "   {'id': 'exposed_population',\n",
       "    'name': 'exposed_population',\n",
       "    'grounding': {'identifiers': {'ido': '0000594'}, 'modifiers': {}}},\n",
       "   {'id': 'recovered_population',\n",
       "    'name': 'recovered_population',\n",
       "    'grounding': {'identifiers': {'ido': '0000592'}, 'modifiers': {}}},\n",
       "   {'id': 'hospitalized_population',\n",
       "    'name': 'hospitalized_population',\n",
       "    'grounding': {'identifiers': {'ncit': 'C25179'}, 'modifiers': {}}},\n",
       "   {'id': 'deceased_population',\n",
       "    'name': 'deceased_population',\n",
       "    'grounding': {'identifiers': {'ncit': 'C168970'}, 'modifiers': {}}}],\n",
       "  'transitions': [{'id': 't1',\n",
       "    'input': ['symptomatic_population',\n",
       "     'asymptomatic_population',\n",
       "     'susceptible_population'],\n",
       "    'output': ['symptomatic_population',\n",
       "     'asymptomatic_population',\n",
       "     'exposed_population'],\n",
       "    'properties': {'name': 't1'}},\n",
       "   {'id': 't2',\n",
       "    'input': ['exposed_population'],\n",
       "    'output': ['symptomatic_population'],\n",
       "    'properties': {'name': 't2'}},\n",
       "   {'id': 't3',\n",
       "    'input': ['exposed_population'],\n",
       "    'output': ['asymptomatic_population'],\n",
       "    'properties': {'name': 't3'}},\n",
       "   {'id': 't4',\n",
       "    'input': ['symptomatic_population'],\n",
       "    'output': ['recovered_population'],\n",
       "    'properties': {'name': 't4'}},\n",
       "   {'id': 't5',\n",
       "    'input': ['symptomatic_population'],\n",
       "    'output': ['hospitalized_population'],\n",
       "    'properties': {'name': 't5'}},\n",
       "   {'id': 't6',\n",
       "    'input': ['symptomatic_population'],\n",
       "    'output': ['deceased_population'],\n",
       "    'properties': {'name': 't6'}},\n",
       "   {'id': 't7',\n",
       "    'input': ['asymptomatic_population'],\n",
       "    'output': ['recovered_population'],\n",
       "    'properties': {'name': 't7'}},\n",
       "   {'id': 't8',\n",
       "    'input': ['hospitalized_population'],\n",
       "    'output': ['recovered_population'],\n",
       "    'properties': {'name': 't8'}},\n",
       "   {'id': 't9',\n",
       "    'input': ['hospitalized_population'],\n",
       "    'output': ['deceased_population'],\n",
       "    'properties': {'name': 't9'}},\n",
       "   {'id': 't10',\n",
       "    'input': ['recovered_population'],\n",
       "    'output': ['susceptible_population'],\n",
       "    'properties': {'name': 't10'}}]},\n",
       " 'semantics': {'ode': {'rates': [{'target': 't1',\n",
       "     'expression': 'beta*susceptible_population*(asymptomatic_population + delta*symptomatic_population)/total_population',\n",
       "     'expression_mathml': '<apply><divide/><apply><times/><ci>beta</ci><ci>susceptible_population</ci><apply><plus/><ci>asymptomatic_population</ci><apply><times/><ci>delta</ci><ci>symptomatic_population</ci></apply></apply></apply><ci>total_population</ci></apply>'},\n",
       "    {'target': 't2',\n",
       "     'expression': 'exposed_population*pS/alpha',\n",
       "     'expression_mathml': '<apply><divide/><apply><times/><ci>exposed_population</ci><ci>pS</ci></apply><ci>alpha</ci></apply>'},\n",
       "    {'target': 't3',\n",
       "     'expression': 'exposed_population*(1 - pS)/alpha',\n",
       "     'expression_mathml': '<apply><divide/><apply><times/><ci>exposed_population</ci><apply><minus/><cn>1</cn><ci>pS</ci></apply></apply><ci>alpha</ci></apply>'},\n",
       "    {'target': 't4',\n",
       "     'expression': 'gamma*symptomatic_population*(-dnh - hosp + 1)',\n",
       "     'expression_mathml': '<apply><times/><ci>gamma</ci><ci>symptomatic_population</ci><apply><plus/><apply><minus/><apply><minus/><ci>dnh</ci></apply><ci>hosp</ci></apply><cn>1</cn></apply></apply>'},\n",
       "    {'target': 't5',\n",
       "     'expression': 'gamma*hosp*symptomatic_population',\n",
       "     'expression_mathml': '<apply><times/><ci>gamma</ci><ci>hosp</ci><ci>symptomatic_population</ci></apply>'},\n",
       "    {'target': 't6',\n",
       "     'expression': 'dnh*gamma*symptomatic_population',\n",
       "     'expression_mathml': '<apply><times/><ci>dnh</ci><ci>gamma</ci><ci>symptomatic_population</ci></apply>'},\n",
       "    {'target': 't7',\n",
       "     'expression': 'asymptomatic_population*gamma',\n",
       "     'expression_mathml': '<apply><times/><ci>asymptomatic_population</ci><ci>gamma</ci></apply>'},\n",
       "    {'target': 't8',\n",
       "     'expression': 'hospitalized_population*(1 - dh)/los',\n",
       "     'expression_mathml': '<apply><divide/><apply><times/><ci>hospitalized_population</ci><apply><minus/><cn>1</cn><ci>dh</ci></apply></apply><ci>los</ci></apply>'},\n",
       "    {'target': 't9',\n",
       "     'expression': 'dh*hospitalized_population/los',\n",
       "     'expression_mathml': '<apply><divide/><apply><times/><ci>dh</ci><ci>hospitalized_population</ci></apply><ci>los</ci></apply>'},\n",
       "    {'target': 't10',\n",
       "     'expression': 'recovered_population/tau',\n",
       "     'expression_mathml': '<apply><divide/><ci>recovered_population</ci><ci>tau</ci></apply>'}],\n",
       "   'initials': [{'target': 'susceptible_population',\n",
       "     'expression': '99999.0000000000',\n",
       "     'expression_mathml': '<cn>99999.0</cn>'},\n",
       "    {'target': 'symptomatic_population',\n",
       "     'expression': '1.00000000000000',\n",
       "     'expression_mathml': '<cn>1.0</cn>'},\n",
       "    {'target': 'asymptomatic_population',\n",
       "     'expression': '0.0',\n",
       "     'expression_mathml': '<cn>0.0</cn>'},\n",
       "    {'target': 'exposed_population',\n",
       "     'expression': '0.0',\n",
       "     'expression_mathml': '<cn>0.0</cn>'},\n",
       "    {'target': 'recovered_population',\n",
       "     'expression': '0.0',\n",
       "     'expression_mathml': '<cn>0.0</cn>'},\n",
       "    {'target': 'hospitalized_population',\n",
       "     'expression': '0.0',\n",
       "     'expression_mathml': '<cn>0.0</cn>'},\n",
       "    {'target': 'deceased_population',\n",
       "     'expression': '0.0',\n",
       "     'expression_mathml': '<cn>0.0</cn>'}],\n",
       "   'parameters': [{'id': 'beta', 'value': 0.55},\n",
       "    {'id': 'delta', 'value': 1.5},\n",
       "    {'id': 'total_population', 'value': 100000.0},\n",
       "    {'id': 'alpha', 'value': 4.0},\n",
       "    {'id': 'pS', 'value': 0.7},\n",
       "    {'id': 'gamma', 'value': 0.2},\n",
       "    {'id': 'hosp', 'value': 0.1},\n",
       "    {'id': 'dnh', 'value': 0.001},\n",
       "    {'id': 'dh', 'value': 0.1},\n",
       "    {'id': 'los', 'value': 7.0},\n",
       "    {'id': 'tau', 'value': 30.0}],\n",
       "   'observables': [],\n",
       "   'time': {'id': 't'}}},\n",
       " 'metadata': {'annotations': {'license': None,\n",
       "   'authors': [],\n",
       "   'references': [],\n",
       "   'time_scale': None,\n",
       "   'time_start': None,\n",
       "   'time_end': None,\n",
       "   'locations': [],\n",
       "   'pathogens': [],\n",
       "   'diseases': [],\n",
       "   'hosts': [],\n",
       "   'model_types': []}}}"
      ]
     },
     "metadata": {},
     "output_type": "display_data"
    }
   ],
   "source": [
    "aske_m3 = AskeNetPetriNetModel(mira_m3)\n",
    "\n",
    "# Display AMR model in JSON format\n",
    "display(aske_m3.to_json())\n",
    "\n",
    "# Save AMR model as JSON file\n",
    "aske_m3.to_json_file(\"SEIARHDS_AMR.json\", indent=2)"
   ]
  },
  {
   "cell_type": "code",
   "execution_count": 36,
   "id": "0f20e5df",
   "metadata": {},
   "outputs": [
    {
     "ename": "TypeError",
     "evalue": "'<=' not supported between instances of 'Uniform' and 'int'",
     "output_type": "error",
     "traceback": [
      "\u001b[0;31m---------------------------------------------------------------------------\u001b[0m",
      "\u001b[0;31mTypeError\u001b[0m                                 Traceback (most recent call last)",
      "Cell \u001b[0;32mIn[36], line 2\u001b[0m\n\u001b[1;32m      1\u001b[0m \u001b[38;5;66;03m# Import mira_m the pyciemss way\u001b[39;00m\n\u001b[0;32m----> 2\u001b[0m the_model \u001b[38;5;241m=\u001b[39m \u001b[43mload_petri_model\u001b[49m\u001b[43m(\u001b[49m\u001b[43mmira_m3\u001b[49m\u001b[43m)\u001b[49m \n\u001b[1;32m      3\u001b[0m the_model\u001b[38;5;241m.\u001b[39mG\u001b[38;5;241m.\u001b[39mtransitions\n",
      "File \u001b[0;32m~/Projects/Proposals/ASKEM/build/pyciemss/src/pyciemss/PetriNetODE/interfaces.py:154\u001b[0m, in \u001b[0;36mload_petri_model\u001b[0;34m(petri_model_or_path, add_uncertainty, pseudocount)\u001b[0m\n\u001b[1;32m    149\u001b[0m \u001b[38;5;250m\u001b[39m\u001b[38;5;124;03m\"\"\"\u001b[39;00m\n\u001b[1;32m    150\u001b[0m \u001b[38;5;124;03mLoad a petri net from a file and compile it into a probabilistic program.\u001b[39;00m\n\u001b[1;32m    151\u001b[0m \u001b[38;5;124;03m\"\"\"\u001b[39;00m\n\u001b[1;32m    153\u001b[0m \u001b[38;5;28;01mif\u001b[39;00m add_uncertainty:\n\u001b[0;32m--> 154\u001b[0m     model \u001b[38;5;241m=\u001b[39m \u001b[43mScaledBetaNoisePetriNetODESystem\u001b[49m\u001b[38;5;241;43m.\u001b[39;49m\u001b[43mfrom_askenet\u001b[49m\u001b[43m(\u001b[49m\u001b[43mpetri_model_or_path\u001b[49m\u001b[43m)\u001b[49m\n\u001b[1;32m    155\u001b[0m     model\u001b[38;5;241m.\u001b[39mpseudocount \u001b[38;5;241m=\u001b[39m torch\u001b[38;5;241m.\u001b[39mtensor(pseudocount)\n\u001b[1;32m    156\u001b[0m     \u001b[38;5;28;01mreturn\u001b[39;00m model\n",
      "File \u001b[0;32m~/.pyenv/versions/3.10.9/lib/python3.10/functools.py:926\u001b[0m, in \u001b[0;36msingledispatchmethod.__get__.<locals>._method\u001b[0;34m(*args, **kwargs)\u001b[0m\n\u001b[1;32m    924\u001b[0m \u001b[38;5;28;01mdef\u001b[39;00m \u001b[38;5;21m_method\u001b[39m(\u001b[38;5;241m*\u001b[39margs, \u001b[38;5;241m*\u001b[39m\u001b[38;5;241m*\u001b[39mkwargs):\n\u001b[1;32m    925\u001b[0m     method \u001b[38;5;241m=\u001b[39m \u001b[38;5;28mself\u001b[39m\u001b[38;5;241m.\u001b[39mdispatcher\u001b[38;5;241m.\u001b[39mdispatch(args[\u001b[38;5;241m0\u001b[39m]\u001b[38;5;241m.\u001b[39m\u001b[38;5;18m__class__\u001b[39m)\n\u001b[0;32m--> 926\u001b[0m     \u001b[38;5;28;01mreturn\u001b[39;00m \u001b[43mmethod\u001b[49m\u001b[38;5;241;43m.\u001b[39;49m\u001b[38;5;21;43m__get__\u001b[39;49m\u001b[43m(\u001b[49m\u001b[43mobj\u001b[49m\u001b[43m,\u001b[49m\u001b[43m \u001b[49m\u001b[38;5;28;43mcls\u001b[39;49m\u001b[43m)\u001b[49m\u001b[43m(\u001b[49m\u001b[38;5;241;43m*\u001b[39;49m\u001b[43margs\u001b[49m\u001b[43m,\u001b[49m\u001b[43m \u001b[49m\u001b[38;5;241;43m*\u001b[39;49m\u001b[38;5;241;43m*\u001b[39;49m\u001b[43mkwargs\u001b[49m\u001b[43m)\u001b[49m\n",
      "File \u001b[0;32m~/Projects/Proposals/ASKEM/build/pyciemss/src/pyciemss/PetriNetODE/base.py:351\u001b[0m, in \u001b[0;36mMiraPetriNetODESystem.from_askenet\u001b[0;34m(cls, model)\u001b[0m\n\u001b[1;32m    347\u001b[0m \u001b[38;5;129m@functools\u001b[39m\u001b[38;5;241m.\u001b[39msingledispatchmethod\n\u001b[1;32m    348\u001b[0m \u001b[38;5;129m@classmethod\u001b[39m\n\u001b[1;32m    349\u001b[0m \u001b[38;5;28;01mdef\u001b[39;00m \u001b[38;5;21mfrom_askenet\u001b[39m(\u001b[38;5;28mcls\u001b[39m, model: mira\u001b[38;5;241m.\u001b[39mmodeling\u001b[38;5;241m.\u001b[39mModel) \u001b[38;5;241m-\u001b[39m\u001b[38;5;241m>\u001b[39m \u001b[38;5;124m\"\u001b[39m\u001b[38;5;124mMiraPetriNetODESystem\u001b[39m\u001b[38;5;124m\"\u001b[39m:\n\u001b[1;32m    350\u001b[0m \u001b[38;5;250m    \u001b[39m\u001b[38;5;124;03m\"\"\"Return a model from a MIRA model.\"\"\"\u001b[39;00m\n\u001b[0;32m--> 351\u001b[0m     \u001b[38;5;28;01mreturn\u001b[39;00m \u001b[38;5;28;43mcls\u001b[39;49m\u001b[43m(\u001b[49m\u001b[43mmodel\u001b[49m\u001b[43m)\u001b[49m\n",
      "File \u001b[0;32m~/Projects/Proposals/ASKEM/build/pyciemss/src/pyciemss/PetriNetODE/base.py:465\u001b[0m, in \u001b[0;36mScaledBetaNoisePetriNetODESystem.__init__\u001b[0;34m(self, G, pseudocount)\u001b[0m\n\u001b[1;32m    463\u001b[0m \u001b[38;5;28;01mif\u001b[39;00m param_value \u001b[38;5;129;01mis\u001b[39;00m \u001b[38;5;28;01mNone\u001b[39;00m:\n\u001b[1;32m    464\u001b[0m     param_info\u001b[38;5;241m.\u001b[39mvalue \u001b[38;5;241m=\u001b[39m pyro\u001b[38;5;241m.\u001b[39mdistributions\u001b[38;5;241m.\u001b[39mUniform(\u001b[38;5;241m0.0\u001b[39m, \u001b[38;5;241m1.0\u001b[39m)\n\u001b[0;32m--> 465\u001b[0m \u001b[38;5;28;01melif\u001b[39;00m \u001b[43mparam_value\u001b[49m\u001b[43m \u001b[49m\u001b[38;5;241;43m<\u001b[39;49m\u001b[38;5;241;43m=\u001b[39;49m\u001b[43m \u001b[49m\u001b[38;5;241;43m0\u001b[39;49m:\n\u001b[1;32m    466\u001b[0m     warnings_string \u001b[38;5;241m=\u001b[39m \u001b[38;5;124mf\u001b[39m\u001b[38;5;124m\"\u001b[39m\u001b[38;5;124mParameter \u001b[39m\u001b[38;5;132;01m{\u001b[39;00mget_name(param_info)\u001b[38;5;132;01m}\u001b[39;00m\u001b[38;5;124m has value \u001b[39m\u001b[38;5;132;01m{\u001b[39;00mparam_value\u001b[38;5;132;01m}\u001b[39;00m\u001b[38;5;124m <= 0.0 and will be set to Uniform(0, 0.1)\u001b[39m\u001b[38;5;124m\"\u001b[39m\n\u001b[1;32m    467\u001b[0m     warnings\u001b[38;5;241m.\u001b[39mwarn(warnings_string)\n",
      "\u001b[0;31mTypeError\u001b[0m: '<=' not supported between instances of 'Uniform' and 'int'"
     ]
    }
   ],
   "source": [
    "# Import mira_m the pyciemss way\n",
    "the_model = load_petri_model(mira_m3) \n",
    "the_model.G.transitions"
   ]
  },
  {
   "cell_type": "code",
   "execution_count": 27,
   "id": "538694b5-1df7-493a-99c4-28e20539bad3",
   "metadata": {},
   "outputs": [
    {
     "data": {
      "text/plain": [
       "ScaledBetaNoisePetriNetODESystem(\n",
       "\tbeta = Uniform(low: 0.4950000047683716, high: 0.6050000190734863),\n",
       "\tdelta = Uniform(low: 1.350000023841858, high: 1.649999976158142),\n",
       "\ttotal_population = Uniform(low: 90000.0, high: 110000.0),\n",
       "\t(('susceptible_population', ('identity', 'ido:0000514')), ('exposed_population', ('identity', 'ido:0000594')), (('asymptomatic_population', ('identity', 'ido:0000569')), ('symptomatic_population', ('identity', 'ido:0000573'))), 'GroupedControlledConversion', 'rate') = Uniform(low: 0.0, high: 1.0),\n",
       "\tmira_param_0 = Uniform(low: 0.1574999988079071, high: 0.19249999523162842),\n",
       "\tmira_param_1 = Uniform(low: 0.06750000268220901, high: 0.08250000327825546),\n",
       "\tmira_param_2 = Uniform(low: 0.16181999444961548, high: 0.19777999818325043),\n",
       "\tmira_param_3 = Uniform(low: 0.017999999225139618, high: 0.02199999988079071),\n",
       "\tmira_param_4 = Uniform(low: 0.00018000000272877514, high: 0.00022000000171829015),\n",
       "\tmira_param_5 = Uniform(low: 0.18000000715255737, high: 0.2199999988079071),\n",
       "\tmira_param_6 = Uniform(low: 0.11571428924798965, high: 0.14142857491970062),\n",
       "\tmira_param_7 = Uniform(low: 0.012857142835855484, high: 0.015714285895228386),\n",
       "\tmira_param_8 = Uniform(low: 0.029999999329447746, high: 0.036666665226221085),\n",
       "\tpseudocount = 1.0\n",
       ")"
      ]
     },
     "execution_count": 27,
     "metadata": {},
     "output_type": "execute_result"
    }
   ],
   "source": [
    "SEIARHDS_amr = load_petri_model(\"SEIARHDS_AMR.json\")\n",
    "SEIARHDS_amr"
   ]
  },
  {
   "cell_type": "code",
   "execution_count": 47,
   "id": "9792f6b0-2c46-4b32-9a06-8c930918bf94",
   "metadata": {},
   "outputs": [
    {
     "name": "stdout",
     "output_type": "stream",
     "text": [
      "(('susceptible_population', ('identity', 'ido:0000514')), ('exposed_population', ('identity', 'ido:0000594')), (('asymptomatic_population', ('identity', 'ido:0000569')), ('symptomatic_population', ('identity', 'ido:0000573'))), 'GroupedControlledConversion', 'rate') Uniform(low: 0.0, high: 1.0)\n",
      "mira_param_0 Uniform(low: 0.1574999988079071, high: 0.19249999523162842)\n",
      "mira_param_1 Uniform(low: 0.06750000268220901, high: 0.08250000327825546)\n",
      "mira_param_2 Uniform(low: 0.16181999444961548, high: 0.19777999818325043)\n",
      "mira_param_3 Uniform(low: 0.017999999225139618, high: 0.02199999988079071)\n",
      "mira_param_4 Uniform(low: 0.00018000000272877514, high: 0.00022000000171829015)\n",
      "mira_param_5 Uniform(low: 0.18000000715255737, high: 0.2199999988079071)\n",
      "mira_param_6 Uniform(low: 0.11571428924798965, high: 0.14142857491970062)\n",
      "mira_param_7 Uniform(low: 0.012857142835855484, high: 0.015714285895228386)\n",
      "mira_param_8 Uniform(low: 0.029999999329447746, high: 0.036666665226221085)\n"
     ]
    }
   ],
   "source": [
    "for t in SEIARHDS_amr.G.transitions:\n",
    "    r = SEIARHDS_amr.G.transitions[t].rate\n",
    "    print(r.key, r.value)\n"
   ]
  }
 ],
 "metadata": {
  "kernelspec": {
   "display_name": "clean-build",
   "language": "python",
   "name": "clean-build"
  },
  "language_info": {
   "codemirror_mode": {
    "name": "ipython",
    "version": 3
   },
   "file_extension": ".py",
   "mimetype": "text/x-python",
   "name": "python",
   "nbconvert_exporter": "python",
   "pygments_lexer": "ipython3",
   "version": "3.10.9"
  }
 },
 "nbformat": 4,
 "nbformat_minor": 5
}
