{
 "cells": [
  {
   "cell_type": "markdown",
   "id": "a5bc3fe2",
   "metadata": {},
   "source": [
    "# Model Representation Examples\n",
    "## Produce the AskeNet Model Representation of \"toy\" SIR-based models by converting from template to MIRA to Aske representations."
   ]
  },
  {
   "cell_type": "code",
   "execution_count": 1,
   "id": "8d9914c4",
   "metadata": {},
   "outputs": [],
   "source": [
    "import mira\n",
    "from mira.metamodel import Concept, ControlledConversion, GroupedControlledConversion, Initial, NaturalConversion, Parameter, Template, TemplateModel\n",
    "from mira.modeling.viz import GraphicalModel\n",
    "from mira.modeling import Model\n",
    "from mira.modeling.askenet.petrinet import AskeNetPetriNetModel\n",
    "\n",
    "from pyciemss import interfaces\n",
    "from pyciemss.PetriNetODE import interfaces\n",
    "\n",
    "import sympy"
   ]
  },
  {
   "cell_type": "markdown",
   "id": "9febfa9e",
   "metadata": {},
   "source": [
    "# Model 2: SEIARHD\n",
    "## Define `Concepts` (model state variables)\n",
    "Model 2 state variables: Susceptible (S), Exposed (E), Symptomatic Infectious (I), Asymptomatic Infectious (A), Recovered (R), Hospitalized (H), <br> and Deceased (D)"
   ]
  },
  {
   "cell_type": "code",
   "execution_count": 2,
   "id": "f518fd57",
   "metadata": {},
   "outputs": [],
   "source": [
    "susceptible = Concept(name=\"susceptible_population\", identifiers={\"ido\": \"0000514\"})\n",
    "exposed = Concept(name=\"exposed_population\", identifiers={\"ido\": \"0000594\"}) # http://purl.obolibrary.org/obo/IDO_0000594\n",
    "symptomatic = Concept(name=\"symptomatic_population\", identifiers={\"ido\": \"0000573\"}) # http://purl.obolibrary.org/obo/IDO_0000573\n",
    "asymptomatic = Concept(name=\"asymptomatic_population\", identifiers={\"ido\": \"0000569\"}) # http://purl.obolibrary.org/obo/IDO_0000569\n",
    "recovered = Concept(name=\"recovered_population\", identifiers={\"ido\": \"0000592\"})\n",
    "hospitalized = Concept(name=\"hospitalized_population\", identifiers={\"ncit\": \"C25179\"})\n",
    "deceased = Concept(name=\"deceased_population\", identifiers={\"ncit\": \"C168970\"}) # http://purl.obolibrary.org/obo/NCIT_C168970\n",
    "\n",
    "# Set a value for the total population\n",
    "total_pop = 100000"
   ]
  },
  {
   "cell_type": "markdown",
   "id": "1ef12613",
   "metadata": {},
   "source": [
    "## Define conversion templates"
   ]
  },
  {
   "cell_type": "code",
   "execution_count": 3,
   "id": "5fcecae4",
   "metadata": {},
   "outputs": [],
   "source": [
    "state_variables = \"beta, total_population, susceptible_population, delta, symptomatic_population, asymptomatic_population, pS, alpha, exposed_population, gamma, hosp, dnh, dh, los, hospitalized_population, recovered_population, deceased_population\"\n",
    "beta, N, S, delta, I, A, pS, alpha, E, gamma, hosp, dnh, dh, los, H, R, D = sympy.symbols(state_variables)\n",
    "                                                                                                                                                                                                                            \n",
    "S_to_E = GroupedControlledConversion(\n",
    "    controllers = [\n",
    "        symptomatic, \n",
    "        asymptomatic, \n",
    "    ],\n",
    "    subject=susceptible,\n",
    "    outcome=exposed,\n",
    "    rate_law=(beta/N)*S*(delta*I + A)\n",
    ")\n",
    "E_to_I = NaturalConversion(\n",
    "    subject=exposed,\n",
    "    outcome=symptomatic,\n",
    "    rate_law=(pS/alpha)*E\n",
    ")\n",
    "E_to_A = NaturalConversion(\n",
    "    subject=exposed,\n",
    "    outcome=asymptomatic,\n",
    "    rate_law=((1-pS)/alpha)*E\n",
    ")\n",
    "I_to_R = NaturalConversion(\n",
    "    subject=symptomatic,\n",
    "    outcome=recovered,\n",
    "    rate_law=gamma*(1-hosp-dnh)*I\n",
    ")\n",
    "I_to_H = NaturalConversion(\n",
    "    subject=symptomatic,\n",
    "    outcome=recovered,\n",
    "    rate_law=gamma*(1-hosp-dnh)*I\n",
    ")\n",
    "I_to_D = NaturalConversion(\n",
    "    subject=symptomatic,\n",
    "    outcome=deceased,\n",
    "    rate_law=gamma*dnh*I\n",
    ")\n",
    "A_to_R = NaturalConversion(\n",
    "    subject=asymptomatic,\n",
    "    outcome=recovered,\n",
    "    rate_law=gamma*A\n",
    ")\n",
    "H_to_R = NaturalConversion(\n",
    "    subject=hospitalized,\n",
    "    outcome=recovered,\n",
    "    rate_law=((1-dh)/los)*H\n",
    ")\n",
    "H_to_D = NaturalConversion(\n",
    "    subject=hospitalized,\n",
    "    outcome=deceased,\n",
    "    rate_law=(dh/los)*H\n",
    ")\n",
    "\n",
    "# display(S_to_E.rate_law.args[0])"
   ]
  },
  {
   "cell_type": "markdown",
   "id": "9d6e89f3",
   "metadata": {},
   "source": [
    "## Set up the template model, define parameter values and initial conditions"
   ]
  },
  {
   "cell_type": "code",
   "execution_count": 4,
   "id": "bf4c4eb2",
   "metadata": {},
   "outputs": [
    {
     "data": {
      "text/plain": [
       "mira.metamodel.template_model.TemplateModel"
      ]
     },
     "metadata": {},
     "output_type": "display_data"
    }
   ],
   "source": [
    "tm = TemplateModel(\n",
    "    templates=[S_to_E, E_to_I, E_to_A, I_to_R, I_to_H, I_to_D, A_to_R, H_to_R, H_to_D],\n",
    "    parameters={\n",
    "        'beta': Parameter(name='beta', value=0.55), # transmission rate\n",
    "        'total_population': Parameter(name='total_population', value=total_pop),\n",
    "        'delta': Parameter(name='delta', value=1.5), # difference in infectiousness symptomatic/asymptomatic\n",
    "        'pS': Parameter(name='pS', value=0.7), # percent of exposures which become symptomatic\n",
    "        'alpha': Parameter(name='alpha', value=4), # latency period\n",
    "        'gamma': Parameter(name='gamma', value=0.2), # recovery rate\n",
    "        'hosp': Parameter(name='hosp', value=0.1), # hospitalization rate of infectious individuals\n",
    "        'dnh': Parameter(name='dnh', value=0.001), # death rate of infectious individuals (never hospitalized)\n",
    "        'dh': Parameter(name='dh', value=0.1), #  death rate of infectious individuals (hospitalized)\n",
    "        'los': Parameter(name='los', value=7), # average length (days) of hospital stay\n",
    "    },\n",
    "    initials={\n",
    "        'susceptible_population': (Initial(concept=susceptible, value=(total_pop - 1))), \n",
    "        'symptomatic_population': (Initial(concept=symptomatic, value=1)),\n",
    "        'asymptomatic_population': (Initial(concept=asymptomatic, value=0)),\n",
    "        'exposed_population': (Initial(concept=exposed, value=0)),\n",
    "        'hospitalized_population': (Initial(concept=hospitalized, value=0)),\n",
    "        'recovered_population': (Initial(concept=recovered, value=0)),\n",
    "        'deceased_population': (Initial(concept=deceased, value=0)),\n",
    "    }\n",
    ")\n",
    "\n",
    "display(type(tm)) # confirm that tm is a TemplateModel\n",
    "# display(tm.dict())"
   ]
  },
  {
   "cell_type": "code",
   "execution_count": 5,
   "id": "093eef9c",
   "metadata": {},
   "outputs": [
    {
     "data": {
      "image/png": "[encoded data removed]",
      "text/plain": [
       "<IPython.core.display.Image object>"
      ]
     },
     "execution_count": 5,
     "metadata": {
      "image/png": {
       "width": "20%"
      }
     },
     "output_type": "execute_result"
    }
   ],
   "source": [
    "# Visualize the TemplateModel\n",
    "GraphicalModel.for_jupyter(tm, width=\"20%\")"
   ]
  },
  {
   "cell_type": "markdown",
   "id": "6e774a2f",
   "metadata": {},
   "source": [
    "## Convert to MIRA model representation "
   ]
  },
  {
   "cell_type": "code",
   "execution_count": 6,
   "id": "84b70fc3",
   "metadata": {
    "scrolled": true
   },
   "outputs": [
    {
     "data": {
      "text/plain": [
       "mira.modeling.Model"
      ]
     },
     "metadata": {},
     "output_type": "display_data"
    }
   ],
   "source": [
    "mira_m = Model(tm)\n",
    "display(type(mira_m)) \n",
    "#mira_m.variables"
   ]
  },
  {
   "cell_type": "markdown",
   "id": "6e7985e6",
   "metadata": {},
   "source": [
    "## Convert to AskeNet Model Representation (AMR) and output JSON file"
   ]
  },
  {
   "cell_type": "code",
   "execution_count": 7,
   "id": "60ab8820",
   "metadata": {},
   "outputs": [
    {
     "data": {
      "text/plain": [
       "{'name': 'Model',\n",
       " 'schema': 'https://raw.githubusercontent.com/DARPA-ASKEM/Model-Representations/petrinet_v0.5/petrinet/petrinet_schema.json',\n",
       " 'schema_name': 'petrinet',\n",
       " 'description': 'Model',\n",
       " 'model_version': '0.1',\n",
       " 'properties': {},\n",
       " 'model': {'states': [{'id': 'susceptible_population',\n",
       "    'name': 'susceptible_population',\n",
       "    'grounding': {'identifiers': {'ido': '0000514'}, 'modifiers': {}}},\n",
       "   {'id': 'symptomatic_population',\n",
       "    'name': 'symptomatic_population',\n",
       "    'grounding': {'identifiers': {'ido': '0000573'}, 'modifiers': {}}},\n",
       "   {'id': 'asymptomatic_population',\n",
       "    'name': 'asymptomatic_population',\n",
       "    'grounding': {'identifiers': {'ido': '0000569'}, 'modifiers': {}}},\n",
       "   {'id': 'exposed_population',\n",
       "    'name': 'exposed_population',\n",
       "    'grounding': {'identifiers': {'ido': '0000594'}, 'modifiers': {}}},\n",
       "   {'id': 'recovered_population',\n",
       "    'name': 'recovered_population',\n",
       "    'grounding': {'identifiers': {'ido': '0000592'}, 'modifiers': {}}},\n",
       "   {'id': 'deceased_population',\n",
       "    'name': 'deceased_population',\n",
       "    'grounding': {'identifiers': {'ncit': 'C168970'}, 'modifiers': {}}},\n",
       "   {'id': 'hospitalized_population',\n",
       "    'name': 'hospitalized_population',\n",
       "    'grounding': {'identifiers': {'ncit': 'C25179'}, 'modifiers': {}}}],\n",
       "  'transitions': [{'id': 't1',\n",
       "    'input': ['symptomatic_population',\n",
       "     'asymptomatic_population',\n",
       "     'susceptible_population'],\n",
       "    'output': ['symptomatic_population',\n",
       "     'asymptomatic_population',\n",
       "     'exposed_population'],\n",
       "    'properties': {'name': 't1'}},\n",
       "   {'id': 't2',\n",
       "    'input': ['exposed_population'],\n",
       "    'output': ['symptomatic_population'],\n",
       "    'properties': {'name': 't2'}},\n",
       "   {'id': 't3',\n",
       "    'input': ['exposed_population'],\n",
       "    'output': ['asymptomatic_population'],\n",
       "    'properties': {'name': 't3'}},\n",
       "   {'id': 't4',\n",
       "    'input': ['symptomatic_population'],\n",
       "    'output': ['recovered_population'],\n",
       "    'properties': {'name': 't4'}},\n",
       "   {'id': 't5',\n",
       "    'input': ['symptomatic_population'],\n",
       "    'output': ['deceased_population'],\n",
       "    'properties': {'name': 't5'}},\n",
       "   {'id': 't6',\n",
       "    'input': ['asymptomatic_population'],\n",
       "    'output': ['recovered_population'],\n",
       "    'properties': {'name': 't6'}},\n",
       "   {'id': 't7',\n",
       "    'input': ['hospitalized_population'],\n",
       "    'output': ['recovered_population'],\n",
       "    'properties': {'name': 't7'}},\n",
       "   {'id': 't8',\n",
       "    'input': ['hospitalized_population'],\n",
       "    'output': ['deceased_population'],\n",
       "    'properties': {'name': 't8'}}]},\n",
       " 'semantics': {'ode': {'rates': [{'target': 't1',\n",
       "     'expression': 'beta*susceptible_population*(asymptomatic_population + delta*symptomatic_population)/total_population',\n",
       "     'expression_mathml': '<apply><divide/><apply><times/><ci>beta</ci><ci>susceptible_population</ci><apply><plus/><ci>asymptomatic_population</ci><apply><times/><ci>delta</ci><ci>symptomatic_population</ci></apply></apply></apply><ci>total_population</ci></apply>'},\n",
       "    {'target': 't2',\n",
       "     'expression': 'exposed_population*pS/alpha',\n",
       "     'expression_mathml': '<apply><divide/><apply><times/><ci>exposed_population</ci><ci>pS</ci></apply><ci>alpha</ci></apply>'},\n",
       "    {'target': 't3',\n",
       "     'expression': 'exposed_population*(1 - pS)/alpha',\n",
       "     'expression_mathml': '<apply><divide/><apply><times/><ci>exposed_population</ci><apply><minus/><cn>1</cn><ci>pS</ci></apply></apply><ci>alpha</ci></apply>'},\n",
       "    {'target': 't4',\n",
       "     'expression': 'gamma*symptomatic_population*(-dnh - hosp + 1)',\n",
       "     'expression_mathml': '<apply><times/><ci>gamma</ci><ci>symptomatic_population</ci><apply><plus/><apply><minus/><apply><minus/><ci>dnh</ci></apply><ci>hosp</ci></apply><cn>1</cn></apply></apply>'},\n",
       "    {'target': 't5',\n",
       "     'expression': 'dnh*gamma*symptomatic_population',\n",
       "     'expression_mathml': '<apply><times/><ci>dnh</ci><ci>gamma</ci><ci>symptomatic_population</ci></apply>'},\n",
       "    {'target': 't6',\n",
       "     'expression': 'asymptomatic_population*gamma',\n",
       "     'expression_mathml': '<apply><times/><ci>asymptomatic_population</ci><ci>gamma</ci></apply>'},\n",
       "    {'target': 't7',\n",
       "     'expression': 'hospitalized_population*(1 - dh)/los',\n",
       "     'expression_mathml': '<apply><divide/><apply><times/><ci>hospitalized_population</ci><apply><minus/><cn>1</cn><ci>dh</ci></apply></apply><ci>los</ci></apply>'},\n",
       "    {'target': 't8',\n",
       "     'expression': 'dh*hospitalized_population/los',\n",
       "     'expression_mathml': '<apply><divide/><apply><times/><ci>dh</ci><ci>hospitalized_population</ci></apply><ci>los</ci></apply>'}],\n",
       "   'initials': [{'target': 'susceptible_population',\n",
       "     'expression': '99999.0000000000',\n",
       "     'expression_mathml': '<cn>99999.0</cn>'},\n",
       "    {'target': 'symptomatic_population',\n",
       "     'expression': '1.00000000000000',\n",
       "     'expression_mathml': '<cn>1.0</cn>'},\n",
       "    {'target': 'asymptomatic_population',\n",
       "     'expression': '0.0',\n",
       "     'expression_mathml': '<cn>0.0</cn>'},\n",
       "    {'target': 'exposed_population',\n",
       "     'expression': '0.0',\n",
       "     'expression_mathml': '<cn>0.0</cn>'},\n",
       "    {'target': 'recovered_population',\n",
       "     'expression': '0.0',\n",
       "     'expression_mathml': '<cn>0.0</cn>'},\n",
       "    {'target': 'deceased_population',\n",
       "     'expression': '0.0',\n",
       "     'expression_mathml': '<cn>0.0</cn>'},\n",
       "    {'target': 'hospitalized_population',\n",
       "     'expression': '0.0',\n",
       "     'expression_mathml': '<cn>0.0</cn>'}],\n",
       "   'parameters': [{'id': 'total_population', 'value': 100000.0},\n",
       "    {'id': 'beta', 'value': 0.55},\n",
       "    {'id': 'delta', 'value': 1.5},\n",
       "    {'id': 'pS', 'value': 0.7},\n",
       "    {'id': 'alpha', 'value': 4.0},\n",
       "    {'id': 'dnh', 'value': 0.001},\n",
       "    {'id': 'hosp', 'value': 0.1},\n",
       "    {'id': 'gamma', 'value': 0.2},\n",
       "    {'id': 'los', 'value': 7.0},\n",
       "    {'id': 'dh', 'value': 0.1}],\n",
       "   'observables': [],\n",
       "   'time': {'id': 't'}}},\n",
       " 'metadata': {'annotations': {'license': None,\n",
       "   'authors': [],\n",
       "   'references': [],\n",
       "   'time_scale': None,\n",
       "   'time_start': None,\n",
       "   'time_end': None,\n",
       "   'locations': [],\n",
       "   'pathogens': [],\n",
       "   'diseases': [],\n",
       "   'hosts': [],\n",
       "   'model_types': []}}}"
      ]
     },
     "metadata": {},
     "output_type": "display_data"
    }
   ],
   "source": [
    "aske_m = AskeNetPetriNetModel(mira_m)\n",
    "\n",
    "# Display AMR model in JSON format\n",
    "display(aske_m.to_json())\n",
    "\n",
    "# Save AMR model as JSON file\n",
    "aske_m.to_json_file(\"SEIARHD_AMR.json\", indent=2)"
   ]
  },
  {
   "cell_type": "code",
   "execution_count": 8,
   "id": "4e0db9e3",
   "metadata": {},
   "outputs": [
    {
     "data": {
      "text/plain": [
       "ScaledBetaNoisePetriNetODESystem(\n",
       "\ttotal_population = Uniform(low: 90000.0, high: 110000.0),\n",
       "\tbeta = Uniform(low: 0.4950000047683716, high: 0.6050000190734863),\n",
       "\tdelta = Uniform(low: 1.350000023841858, high: 1.649999976158142),\n",
       "\t(('susceptible_population', ('identity', 'ido:0000514')), ('exposed_population', ('identity', 'ido:0000594')), (('symptomatic_population', ('identity', 'ido:0000573')), ('asymptomatic_population', ('identity', 'ido:0000569'))), 'GroupedControlledConversion', 'rate') = Uniform(low: 0.0, high: 1.0),\n",
       "\tpS = Uniform(low: 0.6299999952316284, high: 0.7699999809265137),\n",
       "\talpha = Uniform(low: 3.5999999046325684, high: 4.400000095367432),\n",
       "\t(('exposed_population', ('identity', 'ido:0000594')), ('symptomatic_population', ('identity', 'ido:0000573')), 'NaturalConversion', 'rate') = Uniform(low: 0.0, high: 1.0),\n",
       "\t(('exposed_population', ('identity', 'ido:0000594')), ('asymptomatic_population', ('identity', 'ido:0000569')), 'NaturalConversion', 'rate') = Uniform(low: 0.0, high: 1.0),\n",
       "\tdnh = Uniform(low: 0.0008999999845400453, high: 0.0010999999940395355),\n",
       "\thosp = Uniform(low: 0.09000000357627869, high: 0.10999999940395355),\n",
       "\tgamma = Uniform(low: 0.18000000715255737, high: 0.2199999988079071),\n",
       "\t(('symptomatic_population', ('identity', 'ido:0000573')), ('recovered_population', ('identity', 'ido:0000592')), 'NaturalConversion', 'rate') = Uniform(low: 0.0, high: 1.0),\n",
       "\t(('symptomatic_population', ('identity', 'ido:0000573')), ('deceased_population', ('identity', 'ncit:C168970')), 'NaturalConversion', 'rate') = Uniform(low: 0.0, high: 1.0),\n",
       "\tlos = Uniform(low: 6.300000190734863, high: 7.699999809265137),\n",
       "\tdh = Uniform(low: 0.09000000357627869, high: 0.10999999940395355),\n",
       "\t(('hospitalized_population', ('identity', 'ncit:C25179')), ('recovered_population', ('identity', 'ido:0000592')), 'NaturalConversion', 'rate') = Uniform(low: 0.0, high: 1.0),\n",
       "\t(('hospitalized_population', ('identity', 'ncit:C25179')), ('deceased_population', ('identity', 'ncit:C168970')), 'NaturalConversion', 'rate') = Uniform(low: 0.0, high: 1.0),\n",
       "\tpseudocount = 1.0\n",
       ")"
      ]
     },
     "execution_count": 8,
     "metadata": {},
     "output_type": "execute_result"
    }
   ],
   "source": [
    "# Import mira_m the pyciemss way\n",
    "the_model = interfaces.load_petri_model(mira_m) \n",
    "the_model"
   ]
  },
  {
   "cell_type": "code",
   "execution_count": null,
   "id": "3fb6cd74",
   "metadata": {},
   "outputs": [],
   "source": []
  },
  {
   "cell_type": "code",
   "execution_count": null,
   "id": "7db690a1",
   "metadata": {},
   "outputs": [],
   "source": []
  },
  {
   "cell_type": "code",
   "execution_count": null,
   "id": "874647f5",
   "metadata": {},
   "outputs": [],
   "source": []
  }
 ],
 "metadata": {
  "kernelspec": {
   "display_name": "jz-sviivr",
   "language": "python",
   "name": "jz-sviivr"
  },
  "language_info": {
   "codemirror_mode": {
    "name": "ipython",
    "version": 3
   },
   "file_extension": ".py",
   "mimetype": "text/x-python",
   "name": "python",
   "nbconvert_exporter": "python",
   "pygments_lexer": "ipython3",
   "version": "3.10.9"
  }
 },
 "nbformat": 4,
 "nbformat_minor": 5
}
