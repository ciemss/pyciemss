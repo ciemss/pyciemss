{
 "cells": [
  {
   "cell_type": "markdown",
   "id": "a5bc3fe2",
   "metadata": {},
   "source": [
    "# Symbolic Derivative experiments\n"
   ]
  },
  {
   "cell_type": "code",
   "execution_count": 1,
   "id": "d30c01d7-0e65-42ab-af46-c018d1932c1c",
   "metadata": {},
   "outputs": [],
   "source": [
    "import sys"
   ]
  },
  {
   "cell_type": "code",
   "execution_count": 2,
   "id": "8d9914c4",
   "metadata": {},
   "outputs": [],
   "source": [
    "import mira\n",
    "from mira.metamodel import Concept, ControlledConversion, GroupedControlledConversion, Initial, NaturalConversion, Parameter, Template, TemplateModel\n",
    "from mira.modeling.viz import GraphicalModel\n",
    "from mira.modeling import Model\n",
    "from mira.modeling.askenet.petrinet import AskeNetPetriNetModel\n",
    "from torch import tensor\n",
    "import torch\n",
    "from pyciemss.interfaces import sample, calibrate\n",
    "from pyciemss.PetriNetODE.interfaces import load_petri_model, sample_petri, calibrate_petri, setup_petri_model, load_and_sample_petri_model\n",
    "from pyciemss.PetriNetODE.base import get_name\n",
    "from torch import tensor\n",
    "import sympy\n",
    "from sympytorch import SymPyModule"
   ]
  },
  {
   "cell_type": "markdown",
   "id": "16a74229-8332-4190-9736-1689cdb8624f",
   "metadata": {},
   "source": [
    "# MIRA SIR Model"
   ]
  },
  {
   "cell_type": "code",
   "execution_count": 4,
   "id": "6f281623-e5dd-4a5f-84b9-c2a12b68dc92",
   "metadata": {},
   "outputs": [],
   "source": [
    "beta, gamma, S, I, R, total_population = sympy.symbols('beta, gamma, susceptible_population, I, recovered_population, total_population')\n",
    "\n",
    "susceptible = Concept(name=\"susceptible_population\", identifiers={\"ido\": \"0000514\"})\n",
    "infected = Concept(name=\"I\", identifiers={\"ido\": \"0000573\"}) # http://purl.obolibrary.org/obo/IDO_0000573\n",
    "recovered = Concept(name=\"recovered_population\", identifiers={\"ido\": \"0000592\"})\n",
    "total_pop = 100000\n",
    "\n",
    "S_to_I = ControlledConversion(\n",
    "    controller = infected,\n",
    "    subject=susceptible,\n",
    "    outcome=infected,\n",
    "    rate_law=beta*S*I/(S + I + R)\n",
    ")\n",
    "I_to_R = NaturalConversion(\n",
    "    subject=infected,\n",
    "    outcome=recovered,\n",
    "    rate_law=gamma*I\n",
    ")\n",
    "tm = TemplateModel(\n",
    "    templates=[S_to_I, I_to_R],\n",
    "    parameters={\n",
    "        'beta': Parameter(name='beta', value=0.55), # transmission rate\n",
    "        'gamma': Parameter(name='gamma', value=0.2), # recovery rate\n",
    "    },\n",
    "    initials={\n",
    "        'susceptible_population': (Initial(concept=susceptible, value=(total_pop - 1))), \n",
    "        'I': (Initial(concept=infected, value=1)),\n",
    "        'recovered_population': (Initial(concept=recovered, value=0)),\n",
    "    }\n",
    ")\n",
    "\n",
    "model = mira.modeling.Model(tm)"
   ]
  },
  {
   "cell_type": "code",
   "execution_count": 5,
   "id": "6a0e316d-f86e-43ca-a73a-cbf85ef6340b",
   "metadata": {},
   "outputs": [
    {
     "data": {
      "text/plain": [
       "{'beta': <mira.modeling.ModelParameter at 0x14eca7220>,\n",
       " 'gamma': <mira.modeling.ModelParameter at 0x14eca7310>}"
      ]
     },
     "execution_count": 5,
     "metadata": {},
     "output_type": "execute_result"
    }
   ],
   "source": [
    "model.parameters"
   ]
  },
  {
   "cell_type": "markdown",
   "id": "1cd73da2-8e54-464d-a968-12d8a31e8d19",
   "metadata": {},
   "source": [
    "## SIR DynamicalSystem"
   ]
  },
  {
   "cell_type": "code",
   "execution_count": 6,
   "id": "52336ec5-589e-4694-8d23-6c2a0f460471",
   "metadata": {},
   "outputs": [
    {
     "data": {
      "text/plain": [
       "ScaledBetaNoisePetriNetODESystem(\n",
       "\tbeta = Uniform(low: 0.4950000047683716, high: 0.6050000190734863),\n",
       "\tgamma = Uniform(low: 0.18000000715255737, high: 0.2199999988079071),\n",
       "\tpseudocount = 1.0\n",
       ")"
      ]
     },
     "execution_count": 6,
     "metadata": {},
     "output_type": "execute_result"
    }
   ],
   "source": [
    "sir_raw = load_petri_model(model)\n",
    "sir = setup_petri_model(sir_raw, \n",
    "                        0.0, \n",
    "                        start_state= {\n",
    "                            k: v.value \n",
    "                            for k,v in model.template_model.initials.items()\n",
    "                        }\n",
    "                       )\n",
    "sir"
   ]
  },
  {
   "cell_type": "code",
   "execution_count": 7,
   "id": "e6ba1615-df53-49f3-9156-fd1dd5281075",
   "metadata": {},
   "outputs": [],
   "source": [
    "sir.param_prior()"
   ]
  },
  {
   "cell_type": "code",
   "execution_count": 8,
   "id": "0df72036-a0e7-469b-a693-c9a002095ed0",
   "metadata": {},
   "outputs": [],
   "source": [
    "assert isinstance(getattr(sir, 'beta'), torch.Tensor)"
   ]
  },
  {
   "cell_type": "markdown",
   "id": "b9b8d2eb-2ccb-4095-80dc-da86cc12c235",
   "metadata": {},
   "source": [
    "### Convert MIRA SympyExprStr to regular Sympy Expr"
   ]
  },
  {
   "cell_type": "code",
   "execution_count": 9,
   "id": "4ddd5b20-ac09-4cd4-990a-1ac740e4f017",
   "metadata": {},
   "outputs": [],
   "source": [
    "def extract_sympy(sympy_expr_str: mira.metamodel.templates.SympyExprStr) -> sympy.Expr:\n",
    "    \"\"\"Convert the mira SympyExprStr to a sympy.Expr.\"\"\"\n",
    "    return sympy.sympify(str(sympy_expr_str), \n",
    "                         locals={str(x): x \n",
    "                                 for x in sympy_expr_str.free_symbols})\n"
   ]
  },
  {
   "cell_type": "code",
   "execution_count": 10,
   "id": "bf9ec456-0909-41f9-bdbf-9ba44a202717",
   "metadata": {},
   "outputs": [
    {
     "data": {
      "text/plain": [
       "OrderedDict([('I', <mira.modeling.Variable at 0x14eca7550>),\n",
       "             ('recovered_population', <mira.modeling.Variable at 0x14eca7610>),\n",
       "             ('susceptible_population',\n",
       "              <mira.modeling.Variable at 0x1114cba00>)])"
      ]
     },
     "execution_count": 10,
     "metadata": {},
     "output_type": "execute_result"
    }
   ],
   "source": [
    "sir.var_order"
   ]
  },
  {
   "cell_type": "code",
   "execution_count": 11,
   "id": "c19bd34d-3bad-4443-8f81-ed89ab891130",
   "metadata": {},
   "outputs": [],
   "source": [
    "timepoints = [0.1, 0.2, 0.3, 0.4]\n",
    "nsamples = 3\n",
    "\n",
    "try:\n",
    "    samples = sample_petri(sir, timepoints, nsamples)\n",
    "except AttributeError as e:\n",
    "    print(e)"
   ]
  },
  {
   "cell_type": "markdown",
   "id": "9e5eb248-4bf1-40bd-8504-04a204d9fa87",
   "metadata": {},
   "source": [
    "### Confirm that symbolic fluxes can be compiled to numeric fluxes"
   ]
  },
  {
   "cell_type": "code",
   "execution_count": 12,
   "id": "3da6b243-792f-4cc1-bb53-30502aff8d87",
   "metadata": {},
   "outputs": [
    {
     "data": {
      "text/plain": [
       "tensor([0.5863, 0.1905])"
      ]
     },
     "execution_count": 12,
     "metadata": {},
     "output_type": "execute_result"
    }
   ],
   "source": [
    "states = {k: tensor(v.value) for k,v in model.template_model.initials.items()}\n",
    "symbolic_derivs = {k: 0. for k in states}\n",
    "\n",
    "        \n",
    "flux = SymPyModule(expressions=[beta*S*I/(S + I + R), gamma*I])\n",
    "fluxes = flux(beta=getattr(sir, 'beta'),\n",
    "              gamma=getattr(sir,'gamma'),\n",
    "              susceptible_population=states['susceptible_population'],\n",
    "              I=states['I'],\n",
    "              recovered_population=states['recovered_population'])\n",
    "fluxes"
   ]
  },
  {
   "cell_type": "markdown",
   "id": "16c8ed11-2cab-4955-aba0-47abab10e34f",
   "metadata": {},
   "source": [
    "### Confirm that a symbolic derivative can be compiled to numeric derivatives\n"
   ]
  },
  {
   "cell_type": "code",
   "execution_count": 13,
   "id": "b6f2d2a1-8d4a-4af2-8cac-29f2b673f7ff",
   "metadata": {},
   "outputs": [
    {
     "data": {
      "text/plain": [
       "tensor([-0.5863,  0.3958,  0.1905])"
      ]
     },
     "execution_count": 13,
     "metadata": {},
     "output_type": "execute_result"
    }
   ],
   "source": [
    "states = {k: tensor(v.value) for k,v in model.template_model.initials.items()}\n",
    "symbolic_derivs = {k: 0. for k in states}\n",
    "\n",
    "\n",
    "symbolic_derivs['susceptible_population'] = -beta*S*I/(S + I + R)\n",
    "symbolic_derivs['I'] = beta*S*I/(S + I + R) - gamma*I\n",
    "symbolic_derivs['recovered_population'] =  gamma*I\n",
    "\n",
    "\n",
    "numeric_deriv = SymPyModule(expressions=list(symbolic_derivs.values()))\n",
    "numeric_deriv(beta=getattr(sir, 'beta'),\n",
    "      gamma=getattr(sir,'gamma'),\n",
    "      susceptible_population=states['susceptible_population'],\n",
    "      I=states['I'],\n",
    "      recovered_population=states['recovered_population'])"
   ]
  },
  {
   "cell_type": "markdown",
   "id": "3ee821a1-0570-4771-80a5-be447697785f",
   "metadata": {},
   "source": [
    "### Confirm that Mira rate laws can be compiled to numeric derivatives"
   ]
  },
  {
   "cell_type": "code",
   "execution_count": 14,
   "id": "5496ada3-3d65-4219-a298-5ff160d90c58",
   "metadata": {},
   "outputs": [
    {
     "data": {
      "text/plain": [
       "tensor([-0.5863,  0.3958,  0.1905])"
      ]
     },
     "execution_count": 14,
     "metadata": {},
     "output_type": "execute_result"
    }
   ],
   "source": [
    "states = {k: tensor(v.value) for k,v in model.template_model.initials.items()}\n",
    "symbolic_derivs = {k: 0. for k in states}\n",
    "\n",
    "\n",
    "symbolic_derivs['susceptible_population'] = -extract_sympy(S_to_I.rate_law)\n",
    "symbolic_derivs['I'] = extract_sympy(S_to_I.rate_law) - extract_sympy(I_to_R.rate_law)\n",
    "symbolic_derivs['recovered_population'] =  extract_sympy(I_to_R.rate_law)\n",
    "\n",
    "\n",
    "numeric_deriv = SymPyModule(expressions=list(symbolic_derivs.values()))\n",
    "numeric_deriv(beta=getattr(sir, 'beta'),\n",
    "      gamma=getattr(sir,'gamma'),\n",
    "      susceptible_population=states['susceptible_population'],\n",
    "      I=states['I'],\n",
    "      recovered_population=states['recovered_population'])"
   ]
  },
  {
   "cell_type": "markdown",
   "id": "18e418f0-6372-416a-b951-745839c231cd",
   "metadata": {},
   "source": [
    "### Confirm that symbolic fluxes can be converted to numeric derivatives"
   ]
  },
  {
   "cell_type": "code",
   "execution_count": 15,
   "id": "9cf7dee8-a5a6-475c-a61e-7e4f508e1545",
   "metadata": {},
   "outputs": [
    {
     "data": {
      "text/plain": [
       "tensor([-0.5863,  0.3958,  0.1905])"
      ]
     },
     "execution_count": 15,
     "metadata": {},
     "output_type": "execute_result"
    }
   ],
   "source": [
    "states = {k: tensor(v.value) for k,v in model.template_model.initials.items()}\n",
    "symbolic_derivs = {k: 0. for k in states}\n",
    "\n",
    "for t in sir.G.transitions.values():\n",
    "    flux = extract_sympy(t.template.rate_law)\n",
    "    for c in t.consumed:\n",
    "        symbolic_derivs[get_name(c)] -= flux\n",
    "    for p in t.produced:\n",
    "        symbolic_derivs[get_name(p)] += flux\n",
    "\n",
    "numeric_deriv = SymPyModule(expressions=list(symbolic_derivs.values()))\n",
    "numeric_deriv(beta=getattr(sir, 'beta'),\n",
    "      gamma=getattr(sir,'gamma'),\n",
    "      susceptible_population=states['susceptible_population'],\n",
    "      I=states['I'],\n",
    "      recovered_population=states['recovered_population'])"
   ]
  },
  {
   "cell_type": "markdown",
   "id": "c1580b6b-4097-4538-b704-5bb232d3101b",
   "metadata": {},
   "source": [
    "### Confirm that numeric derivatives can be compiled using mira model parameter objects and initial states"
   ]
  },
  {
   "cell_type": "code",
   "execution_count": 16,
   "id": "ac4b97e0-3ee8-486e-8e53-d124459feea8",
   "metadata": {},
   "outputs": [
    {
     "data": {
      "text/plain": [
       "tensor([-0.5863,  0.3958,  0.1905])"
      ]
     },
     "execution_count": 16,
     "metadata": {},
     "output_type": "execute_result"
    }
   ],
   "source": [
    "states = {k: tensor(v.value) for k,v in model.template_model.initials.items()}\n",
    "symbolic_derivs = {k: 0. for k in states}\n",
    "\n",
    "\n",
    "for t in sir.G.transitions.values():\n",
    "    flux = extract_sympy(t.template.rate_law)\n",
    "    for c in t.consumed:\n",
    "        symbolic_derivs[c.data['name']] -= flux\n",
    "    for p in t.produced:\n",
    "        symbolic_derivs[p.data['name']] += flux\n",
    "\n",
    "deriv = SymPyModule(expressions=symbolic_derivs.values())\n",
    "deriv(**{param.key: getattr(sir, param.key) \n",
    "         for param in sir.G.parameters.values()\n",
    "        },\n",
    "      **states)\n",
    "\n",
    "      "
   ]
  },
  {
   "cell_type": "markdown",
   "id": "e5b4646d-6f92-4d3d-8a72-7fb022c3c581",
   "metadata": {},
   "source": [
    "### Alternative approach using mira model parameter keys instead of model parameter objects"
   ]
  },
  {
   "cell_type": "code",
   "execution_count": 17,
   "id": "4a66ec23-593c-4230-9407-89870c8be020",
   "metadata": {},
   "outputs": [
    {
     "data": {
      "text/plain": [
       "tensor([-0.5863,  0.3958,  0.1905])"
      ]
     },
     "execution_count": 17,
     "metadata": {},
     "output_type": "execute_result"
    }
   ],
   "source": [
    "states = {k: tensor(v.value) for k,v in model.template_model.initials.items()}\n",
    "symbolic_derivs = {k: 0. for k in states}\n",
    "\n",
    "for t in sir.G.transitions.values():\n",
    "    flux = extract_sympy(t.template.rate_law)\n",
    "    for c in t.consumed:\n",
    "        symbolic_derivs[get_name(c)] -= flux\n",
    "    for p in t.produced:\n",
    "        symbolic_derivs[get_name(p)] += flux\n",
    "\n",
    "deriv = SymPyModule(expressions=list(symbolic_derivs.values()))\n",
    "deriv(**{k: getattr(sir, k) for k in model.parameters},\n",
    "      **states)\n"
   ]
  },
  {
   "cell_type": "markdown",
   "id": "2df9e5c7-087f-4b86-b0bf-6e8807fe7b6a",
   "metadata": {},
   "source": [
    "### ASKEM Model Representation"
   ]
  },
  {
   "cell_type": "code",
   "execution_count": 18,
   "id": "3fb6cd74",
   "metadata": {},
   "outputs": [],
   "source": [
    "sir = load_and_sample_petri_model('https://raw.githubusercontent.com/DARPA-ASKEM/Model-Representations/main/petrinet/examples/sir_typed.json', \n",
    "                                  num_samples=3,\n",
    "                                  timepoints=timepoints,\n",
    "                                  compile_rate_law_p=True)\n"
   ]
  }
 ],
 "metadata": {
  "kernelspec": {
   "display_name": "pyciemss-main",
   "language": "python",
   "name": "pyciemss-main"
  },
  "language_info": {
   "codemirror_mode": {
    "name": "ipython",
    "version": 3
   },
   "file_extension": ".py",
   "mimetype": "text/x-python",
   "name": "python",
   "nbconvert_exporter": "python",
   "pygments_lexer": "ipython3",
   "version": "3.10.9"
  }
 },
 "nbformat": 4,
 "nbformat_minor": 5
}
