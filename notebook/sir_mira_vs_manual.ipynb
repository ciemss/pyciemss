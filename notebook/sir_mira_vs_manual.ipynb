{
 "cells": [
  {
   "cell_type": "code",
   "execution_count": 1,
   "id": "0f0c9c20-d629-4ab0-b195-adb7acba856f",
   "metadata": {},
   "outputs": [],
   "source": [
    "%load_ext autoreload\n",
    "%autoreload 2\n",
    "\n",
    "import matplotlib.pyplot as plt\n",
    "\n",
    "import torch\n",
    "\n",
    "import pyciemss\n",
    "from pyciemss.PetriNetODE.interfaces import setup_model, reset_model, intervene, sample, calibrate, optimize, load_petri_model\n",
    "import mira\n",
    "from pyciemss.utils import get_tspan\n",
    "\n",
    "import warnings\n",
    "warnings.filterwarnings('ignore')"
   ]
  },
  {
   "cell_type": "code",
   "execution_count": 2,
   "id": "44a20257-17b3-4e0d-90b8-959319188078",
   "metadata": {},
   "outputs": [
    {
     "data": {
      "text/plain": [
       "{'immune_population_sol': tensor([[0.0999, 0.1998, 0.2995],\n",
       "         [0.0999, 0.1998, 0.2995],\n",
       "         [0.0999, 0.1998, 0.2995],\n",
       "         [0.0999, 0.1998, 0.2995],\n",
       "         [0.0999, 0.1998, 0.2995],\n",
       "         [0.0999, 0.1998, 0.2995],\n",
       "         [0.0999, 0.1998, 0.2995],\n",
       "         [0.0999, 0.1998, 0.2995],\n",
       "         [0.0999, 0.1998, 0.2995],\n",
       "         [0.0999, 0.1998, 0.2995]]),\n",
       " 'infected_population_sol': tensor([[0.9990, 0.9978, 0.9966],\n",
       "         [0.9990, 0.9978, 0.9966],\n",
       "         [0.9990, 0.9978, 0.9966],\n",
       "         [0.9990, 0.9978, 0.9966],\n",
       "         [0.9990, 0.9978, 0.9966],\n",
       "         [0.9990, 0.9978, 0.9966],\n",
       "         [0.9990, 0.9978, 0.9966],\n",
       "         [0.9990, 0.9978, 0.9966],\n",
       "         [0.9990, 0.9978, 0.9966],\n",
       "         [0.9990, 0.9978, 0.9966]]),\n",
       " 'susceptible_population_sol': tensor([[98.9011, 98.8024, 98.7039],\n",
       "         [98.9011, 98.8024, 98.7039],\n",
       "         [98.9011, 98.8024, 98.7039],\n",
       "         [98.9011, 98.8024, 98.7039],\n",
       "         [98.9011, 98.8024, 98.7039],\n",
       "         [98.9011, 98.8024, 98.7039],\n",
       "         [98.9011, 98.8024, 98.7039],\n",
       "         [98.9011, 98.8024, 98.7039],\n",
       "         [98.9011, 98.8024, 98.7039],\n",
       "         [98.9011, 98.8024, 98.7039]])}"
      ]
     },
     "execution_count": 2,
     "metadata": {},
     "output_type": "execute_result"
    }
   ],
   "source": [
    "from pyciemss.PetriNetODE.interfaces import setup_model, sample, load_petri_model\n",
    "\n",
    "import mira\n",
    "from mira.examples.sir import sir\n",
    "\n",
    "mira_sir = load_petri_model(sir, add_uncertainty=False)\n",
    "\n",
    "\n",
    "initialized_mira_sir = setup_model(mira_sir, start_time=0, start_state=dict(susceptible_population=99.0,\n",
    "                                                                            infected_population=1.0,\n",
    "                                                                            immune_population=0.0))\n",
    "\n",
    "prior_sample = sample(initialized_mira_sir, timepoints=[1.0, 2.0, 3.0], num_samples=10)\n",
    "prior_sample"
   ]
  }
 ],
 "metadata": {
  "kernelspec": {
   "display_name": "sa_covid_data",
   "language": "python",
   "name": "sa_covid_data"
  },
  "language_info": {
   "codemirror_mode": {
    "name": "ipython",
    "version": 3
   },
   "file_extension": ".py",
   "mimetype": "text/x-python",
   "name": "python",
   "nbconvert_exporter": "python",
   "pygments_lexer": "ipython3",
   "version": "3.10.9"
  }
 },
 "nbformat": 4,
 "nbformat_minor": 5
}
