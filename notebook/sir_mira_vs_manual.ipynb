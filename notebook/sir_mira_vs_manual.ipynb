{
 "cells": [
  {
   "cell_type": "code",
   "execution_count": 1,
   "id": "0f0c9c20-d629-4ab0-b195-adb7acba856f",
   "metadata": {},
   "outputs": [],
   "source": [
    "%load_ext autoreload\n",
    "%autoreload 2\n",
    "\n",
    "import matplotlib.pyplot as plt\n",
    "\n",
    "import torch\n",
    "\n",
    "import pyciemss\n",
    "from pyciemss.PetriNetODE.interfaces import setup_model, reset_model, intervene, sample, calibrate, optimize, load_petri_model\n",
    "import mira\n",
    "from pyciemss.utils import get_tspan\n",
    "\n",
    "import warnings\n",
    "warnings.filterwarnings('ignore')"
   ]
  },
  {
   "cell_type": "code",
   "execution_count": 5,
   "id": "44a20257-17b3-4e0d-90b8-959319188078",
   "metadata": {},
   "outputs": [
    {
     "data": {
      "text/plain": [
       "{'immune_population_sol': tensor([[0.0999, 0.1998, 0.2995],\n",
       "         [0.0999, 0.1998, 0.2995],\n",
       "         [0.0999, 0.1998, 0.2995],\n",
       "         [0.0999, 0.1998, 0.2995],\n",
       "         [0.0999, 0.1998, 0.2995],\n",
       "         [0.0999, 0.1998, 0.2995],\n",
       "         [0.0999, 0.1998, 0.2995],\n",
       "         [0.0999, 0.1998, 0.2995],\n",
       "         [0.0999, 0.1998, 0.2995],\n",
       "         [0.0999, 0.1998, 0.2995]]),\n",
       " 'infected_population_sol': tensor([[0.9990, 0.9978, 0.9966],\n",
       "         [0.9990, 0.9978, 0.9966],\n",
       "         [0.9990, 0.9978, 0.9966],\n",
       "         [0.9990, 0.9978, 0.9966],\n",
       "         [0.9990, 0.9978, 0.9966],\n",
       "         [0.9990, 0.9978, 0.9966],\n",
       "         [0.9990, 0.9978, 0.9966],\n",
       "         [0.9990, 0.9978, 0.9966],\n",
       "         [0.9990, 0.9978, 0.9966],\n",
       "         [0.9990, 0.9978, 0.9966]]),\n",
       " 'susceptible_population_sol': tensor([[98.9011, 98.8024, 98.7039],\n",
       "         [98.9011, 98.8024, 98.7039],\n",
       "         [98.9011, 98.8024, 98.7039],\n",
       "         [98.9011, 98.8024, 98.7039],\n",
       "         [98.9011, 98.8024, 98.7039],\n",
       "         [98.9011, 98.8024, 98.7039],\n",
       "         [98.9011, 98.8024, 98.7039],\n",
       "         [98.9011, 98.8024, 98.7039],\n",
       "         [98.9011, 98.8024, 98.7039],\n",
       "         [98.9011, 98.8024, 98.7039]])}"
      ]
     },
     "execution_count": 5,
     "metadata": {},
     "output_type": "execute_result"
    }
   ],
   "source": [
    "from pyciemss.PetriNetODE.interfaces import setup_model, sample, load_petri_model\n",
    "\n",
    "import mira\n",
    "from mira.examples.sir import sir\n",
    "\n",
    "deterministic_mira_sir = load_petri_model(sir, add_uncertainty=False)\n",
    "\n",
    "\n",
    "initialized_deterministic_mira_sir = setup_model(deterministic_mira_sir, start_time=0, start_state=dict(susceptible_population=99.0,\n",
    "                                                                            infected_population=1.0,\n",
    "                                                                            immune_population=0.0))\n",
    "\n",
    "prior_sample = sample(initialized_deterministic_mira_sir, timepoints=[1.0, 2.0, 3.0], num_samples=10)\n",
    "prior_sample"
   ]
  },
  {
   "cell_type": "code",
   "execution_count": 6,
   "id": "2cac88cf-5976-480b-bef6-6be2a53fe88a",
   "metadata": {},
   "outputs": [
    {
     "data": {
      "text/plain": [
       "{\"(('susceptible_population', ('identity', 'ido:0000514')), ('infected_population', ('identity', 'ido:0000511')), ('infected_population', ('identity', 'ido:0000511')), 'ControlledConversion', 'rate')\": tensor([0.2004, 0.7199, 0.8446, 0.1459, 0.4643, 0.0838, 0.5193, 0.3517, 0.4061,\n",
       "         0.2942]),\n",
       " \"(('infected_population', ('identity', 'ido:0000511')), ('immune_population', ('identity', 'ido:0000592')), 'NaturalConversion', 'rate')\": tensor([0.8492, 0.5799, 0.1219, 0.8127, 0.2550, 0.4105, 0.6832, 0.2357, 0.5665,\n",
       "         0.8952]),\n",
       " 'immune_population_sol': tensor([[0.6242, 0.9496, 1.1194],\n",
       "         [0.6196, 1.3232, 2.1173],\n",
       "         [0.1777, 0.5364, 1.2449],\n",
       "         [0.5927, 0.8965, 1.0522],\n",
       "         [0.2829, 0.6292, 1.0519],\n",
       "         [0.3500, 0.6023, 0.7841],\n",
       "         [0.6283, 1.1577, 1.6027],\n",
       "         [0.2494, 0.5282, 0.8393],\n",
       "         [0.5223, 0.9647, 1.3390],\n",
       "         [0.6719, 1.0390, 1.2395]]),\n",
       " 'infected_population_sol': tensor([[0.5215, 0.2720, 0.1418],\n",
       "         [1.1389, 1.2895, 1.4506],\n",
       "         [2.0334, 4.0742, 7.9334],\n",
       "         [0.5125, 0.2627, 0.1346],\n",
       "         [1.2257, 1.4985, 1.8262],\n",
       "         [0.7207, 0.5193, 0.3742],\n",
       "         [0.8434, 0.7097, 0.5961],\n",
       "         [1.1183, 1.2490, 1.3927],\n",
       "         [0.8477, 0.7176, 0.6068],\n",
       "         [0.5464, 0.2984, 0.1630]]),\n",
       " 'susceptible_population_sol': tensor([[98.8542, 98.7784, 98.7389],\n",
       "         [98.2415, 97.3872, 96.4319],\n",
       "         [97.7889, 95.3894, 90.8217],\n",
       "         [98.8947, 98.8409, 98.8131],\n",
       "         [98.4914, 97.8723, 97.1220],\n",
       "         [98.9293, 98.8784, 98.8417],\n",
       "         [98.5283, 98.1326, 97.8014],\n",
       "         [98.6324, 98.2228, 97.7680],\n",
       "         [98.6300, 98.3177, 98.0542],\n",
       "         [98.7816, 98.6626, 98.5974]])}"
      ]
     },
     "execution_count": 6,
     "metadata": {},
     "output_type": "execute_result"
    }
   ],
   "source": [
    "from pyciemss.PetriNetODE.interfaces import setup_model, sample, load_petri_model\n",
    "\n",
    "import mira\n",
    "from mira.examples.sir import sir\n",
    "\n",
    "uncertain_mira_sir = load_petri_model(sir, add_uncertainty=True)\n",
    "\n",
    "\n",
    "initialized_uncertain_mira_sir = setup_model(uncertain_mira_sir, start_time=0, start_state=dict(susceptible_population=99.0,\n",
    "                                                                            infected_population=1.0,\n",
    "                                                                            immune_population=0.0))\n",
    "\n",
    "prior_sample = sample(initialized_uncertain_mira_sir, timepoints=[1.0, 2.0, 3.0], num_samples=10)\n",
    "prior_sample"
   ]
  }
 ],
 "metadata": {
  "kernelspec": {
   "display_name": "sa_covid_data",
   "language": "python",
   "name": "sa_covid_data"
  },
  "language_info": {
   "codemirror_mode": {
    "name": "ipython",
    "version": 3
   },
   "file_extension": ".py",
   "mimetype": "text/x-python",
   "name": "python",
   "nbconvert_exporter": "python",
   "pygments_lexer": "ipython3",
   "version": "3.10.9"
  }
 },
 "nbformat": 4,
 "nbformat_minor": 5
}
