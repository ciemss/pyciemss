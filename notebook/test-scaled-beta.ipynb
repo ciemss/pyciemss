{
 "cells": [
  {
   "cell_type": "code",
   "execution_count": 1,
   "metadata": {},
   "outputs": [],
   "source": [
    "from pyciemss.utils.distributions import ScaledBeta\n",
    "from pyro.distributions import Beta\n",
    "import torch"
   ]
  },
  {
   "cell_type": "code",
   "execution_count": 2,
   "metadata": {},
   "outputs": [],
   "source": [
    "dist = ScaledBeta(4, 5, 10)\n",
    "basedist = dist.base_dist\n",
    "\n",
    "samples = dist.sample((10000,))\n",
    "\n",
    "assert torch.isclose(samples.mean(), torch.tensor(4.0), atol=0.1)\n",
    "assert 4.5 < torch.max(samples) <= 5\n",
    "assert torch.all(torch.isclose(basedist.log_prob(samples / 5) - dist.log_prob(samples), torch.log(torch.tensor(5))))"
   ]
  },
  {
   "cell_type": "code",
   "execution_count": null,
   "metadata": {},
   "outputs": [],
   "source": []
  }
 ],
 "metadata": {
  "kernelspec": {
   "display_name": "venv",
   "language": "python",
   "name": "python3"
  },
  "language_info": {
   "codemirror_mode": {
    "name": "ipython",
    "version": 3
   },
   "file_extension": ".py",
   "mimetype": "text/x-python",
   "name": "python",
   "nbconvert_exporter": "python",
   "pygments_lexer": "ipython3",
   "version": "3.10.10"
  },
  "orig_nbformat": 4
 },
 "nbformat": 4,
 "nbformat_minor": 2
}
