{
 "cells": [
  {
   "cell_type": "code",
   "execution_count": 38,
   "metadata": {},
   "outputs": [],
   "source": [
    "from pyciemss import ScaledBeta\n",
    "from pyro.distributions import Beta\n",
    "import torch"
   ]
  },
  {
   "cell_type": "code",
   "execution_count": 11,
   "metadata": {},
   "outputs": [
    {
     "data": {
      "text/plain": [
       "tensor(-1.3309)"
      ]
     },
     "execution_count": 11,
     "metadata": {},
     "output_type": "execute_result"
    }
   ],
   "source": [
    "ScaledBeta(2,5,10).log_prob(torch.tensor(1.0))"
   ]
  },
  {
   "cell_type": "code",
   "execution_count": 43,
   "metadata": {},
   "outputs": [],
   "source": [
    "dist = ScaledBeta(2, 5, 10)\n",
    "basedist = dist.base_dist\n",
    "\n",
    "samples = dist.sample((10000,))\n",
    "\n",
    "# assert that the mean is approximately equal to 2\n",
    "assert torch.isclose(samples.mean(), torch.tensor(2.0), atol=0.01)\n",
    "assert 4 < torch.max(samples) <= 5"
   ]
  },
  {
   "cell_type": "code",
   "execution_count": 54,
   "metadata": {},
   "outputs": [],
   "source": [
    "assert torch.all(torch.isclose(dist.log_prob(samples) - basedist.log_prob(samples / 5), -torch.log(torch.tensor(5))))"
   ]
  }
 ],
 "metadata": {
  "kernelspec": {
   "display_name": "venv",
   "language": "python",
   "name": "python3"
  },
  "language_info": {
   "codemirror_mode": {
    "name": "ipython",
    "version": 3
   },
   "file_extension": ".py",
   "mimetype": "text/x-python",
   "name": "python",
   "nbconvert_exporter": "python",
   "pygments_lexer": "ipython3",
   "version": "3.10.10"
  },
  "orig_nbformat": 4
 },
 "nbformat": 4,
 "nbformat_minor": 2
}
