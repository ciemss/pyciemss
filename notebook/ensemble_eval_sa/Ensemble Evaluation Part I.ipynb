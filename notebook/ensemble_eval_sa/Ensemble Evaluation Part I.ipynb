{
 "cells": [
  {
   "cell_type": "markdown",
   "id": "3048df72",
   "metadata": {},
   "source": [
    "# Ensemble Evaluation: Timepoint 1\n",
    "\n",
    "Location: New York State\n",
    "\n",
    "Timepoint 1: April 3, 2020. Setting: New York State at the beginning of the pandemic when masking was the main preventative measure. No vaccines available. \n",
    "\n",
    "Using case and death data for calibration (hospitalization data not available for this timepoint). No vaccination, no variants, and reinfection is not considered."
   ]
  },
  {
   "cell_type": "markdown",
   "id": "897b7ea9-d670-4345-9d7a-322d34d724c8",
   "metadata": {},
   "source": [
    "## Set up for ensemble modeling"
   ]
  },
  {
   "cell_type": "markdown",
   "id": "25ee072e-ef36-4c76-bf0a-76276a86c63b",
   "metadata": {},
   "source": [
    "### Load dependencies\n",
    "Import functionality from the pyciemss library to allow for model sampling and calibration."
   ]
  },
  {
   "cell_type": "code",
   "execution_count": 7,
   "id": "f250632a-4078-49de-a4a8-e6134c949910",
   "metadata": {},
   "outputs": [],
   "source": [
    "import os\n",
    "import pandas as pd\n",
    "import numpy as np\n",
    "from pyciemss.Ensemble.interfaces import (\n",
    "    load_and_sample_petri_ensemble, load_and_calibrate_and_sample_ensemble_model\n",
    ")\n",
    "from pyciemss.PetriNetODE.interfaces import (\n",
    "    load_and_sample_petri_model,\n",
    "    load_and_calibrate_and_sample_petri_model,\n",
    "    load_and_optimize_and_sample_petri_model,\n",
    "    load_and_calibrate_and_optimize_and_sample_petri_model\n",
    ")\n",
    "from pyciemss.visuals import plots"
   ]
  },
  {
   "cell_type": "markdown",
   "id": "2af8a7df-6527-4ba2-beb6-2e63889dcbbf",
   "metadata": {},
   "source": [
    "### Collect relevant models\n",
    "<!-- We have chosen x number of models to capture the relevant COVID-19 dynamics for this setting. \n",
    " - `model1` contains compartments SEIRHD, and is stratified by age into four groups.\n",
    " - `model2` is the same as `model1`, but allows for reinfection\n",
    " - `model3` is the same as `model1`, but with a variation in transmission rate to account for masking efficacy and compliance. -->"
   ]
  },
  {
   "cell_type": "code",
   "execution_count": 8,
   "id": "07fddb50-d73e-481d-a79d-ce0e115411b5",
   "metadata": {},
   "outputs": [],
   "source": [
    "# model1_location = \"../../notebook/ensemble_eval_sa/operative_models/SEIRHD_base_model_ee.json\"\n",
    "model2_location = \"../../notebook/ensemble_eval_sa/operative_models/SEIRHD_npi1_ee.json\"\n",
    "# model3_location = \"../../notebook/ensemble_eval_sa/operative_models/SEIRHD_npi1_beta_c_varying_ee.json\"\n",
    "# model4_location = \"../../notebook/ensemble_eval_sa/operative_models/SEIRHD_npi1_k_varying_ee.json\"\n",
    "# model5_location = \"../../notebook/ensemble_eval_sa/operative_models/SEIRHD_npi1_age_stratified_v1.json\"\n",
    "model6_location = \"../../notebook/ensemble_eval_sa/operative_models/SEIRHD_npi1_age_stratified_v2.json\"\n",
    "model7_location = \"../../notebook/ensemble_eval_sa/operative_models/SEIRHD_npi1_age_stratified_v3.json\"\n",
    "# model8_location = \"../../notebook/ensemble_eval_sa/operative_models/SEIRD_ymo_age_strat.json\""
   ]
  },
  {
   "cell_type": "markdown",
   "id": "a2239aab-0478-43cb-b6ef-079497dbb6e1",
   "metadata": {},
   "source": [
    "### Gather data, and set training and forecast intervals\n",
    "For this timepoint, only case and death data is available for calibration. \n",
    "\n",
    "We take the total population of New York State to be 19,340,000. Population age-structure estimates for New York State were taken (and scaled appropriately) from [here](https://www.health.ny.gov/statistics/vital_statistics/2016/table01.htm).\n",
    "\n",
    "First recorded case in New York State: March 1, 2020.\n",
    "\n",
    "Also relevant is that a statewide stay-at-home order for non-essential workers was implemented on March 22, 2020, and masking policy was implemented on April 15, 2020. A nice list of COVID-19 policy interventions for New York City and State has been compiled [here](https://www.investopedia.com/historical-timeline-of-covid-19-in-new-york-city-5071986![image.png](attachment:d380d245-11ca-41f1-9863-e2a2dcf5ebce.png)![image.png](attachment:b30f6e31-bc7f-43a8-b7c8-b1df78db3b86.png)![image.png](attachment:b5109588-59ed-447c-9271-50eb56fe9081.png)![image.png](attachment:2c42138a-696d-4cef-9b79-4843d38ff029.png))."
   ]
  },
  {
   "cell_type": "code",
   "execution_count": null,
   "id": "0afd6349-689f-4f10-bd4c-dd96df8b73bd",
   "metadata": {},
   "outputs": [],
   "source": []
  },
  {
   "cell_type": "code",
   "execution_count": 9,
   "id": "fd6bb47c-7a86-4954-b035-84e248389f48",
   "metadata": {},
   "outputs": [
    {
     "data": {
      "text/html": [
       "<div>\n",
       "<style scoped>\n",
       "    .dataframe tbody tr th:only-of-type {\n",
       "        vertical-align: middle;\n",
       "    }\n",
       "\n",
       "    .dataframe tbody tr th {\n",
       "        vertical-align: top;\n",
       "    }\n",
       "\n",
       "    .dataframe thead th {\n",
       "        text-align: right;\n",
       "    }\n",
       "</style>\n",
       "<table border=\"1\" class=\"dataframe\">\n",
       "  <thead>\n",
       "    <tr style=\"text-align: right;\">\n",
       "      <th></th>\n",
       "      <th>timepoints</th>\n",
       "      <th>I</th>\n",
       "      <th>D</th>\n",
       "    </tr>\n",
       "  </thead>\n",
       "  <tbody>\n",
       "    <tr>\n",
       "      <th>0</th>\n",
       "      <td>0.0</td>\n",
       "      <td>1.0</td>\n",
       "      <td>0.0</td>\n",
       "    </tr>\n",
       "    <tr>\n",
       "      <th>1</th>\n",
       "      <td>1.0</td>\n",
       "      <td>10.0</td>\n",
       "      <td>0.0</td>\n",
       "    </tr>\n",
       "    <tr>\n",
       "      <th>2</th>\n",
       "      <td>2.0</td>\n",
       "      <td>21.0</td>\n",
       "      <td>0.0</td>\n",
       "    </tr>\n",
       "    <tr>\n",
       "      <th>3</th>\n",
       "      <td>3.0</td>\n",
       "      <td>24.0</td>\n",
       "      <td>0.0</td>\n",
       "    </tr>\n",
       "    <tr>\n",
       "      <th>4</th>\n",
       "      <td>4.0</td>\n",
       "      <td>76.0</td>\n",
       "      <td>0.0</td>\n",
       "    </tr>\n",
       "    <tr>\n",
       "      <th>5</th>\n",
       "      <td>5.0</td>\n",
       "      <td>104.0</td>\n",
       "      <td>0.0</td>\n",
       "    </tr>\n",
       "    <tr>\n",
       "      <th>6</th>\n",
       "      <td>6.0</td>\n",
       "      <td>128.0</td>\n",
       "      <td>0.0</td>\n",
       "    </tr>\n",
       "    <tr>\n",
       "      <th>7</th>\n",
       "      <td>7.0</td>\n",
       "      <td>131.0</td>\n",
       "      <td>0.0</td>\n",
       "    </tr>\n",
       "    <tr>\n",
       "      <th>8</th>\n",
       "      <td>8.0</td>\n",
       "      <td>192.0</td>\n",
       "      <td>1.0</td>\n",
       "    </tr>\n",
       "    <tr>\n",
       "      <th>9</th>\n",
       "      <td>9.0</td>\n",
       "      <td>220.0</td>\n",
       "      <td>1.0</td>\n",
       "    </tr>\n",
       "    <tr>\n",
       "      <th>10</th>\n",
       "      <td>10.0</td>\n",
       "      <td>274.0</td>\n",
       "      <td>1.0</td>\n",
       "    </tr>\n",
       "    <tr>\n",
       "      <th>11</th>\n",
       "      <td>11.0</td>\n",
       "      <td>394.0</td>\n",
       "      <td>4.0</td>\n",
       "    </tr>\n",
       "    <tr>\n",
       "      <th>12</th>\n",
       "      <td>12.0</td>\n",
       "      <td>481.0</td>\n",
       "      <td>9.0</td>\n",
       "    </tr>\n",
       "    <tr>\n",
       "      <th>13</th>\n",
       "      <td>13.0</td>\n",
       "      <td>745.0</td>\n",
       "      <td>19.0</td>\n",
       "    </tr>\n",
       "    <tr>\n",
       "      <th>14</th>\n",
       "      <td>14.0</td>\n",
       "      <td>1111.0</td>\n",
       "      <td>30.0</td>\n",
       "    </tr>\n",
       "    <tr>\n",
       "      <th>15</th>\n",
       "      <td>15.0</td>\n",
       "      <td>2128.0</td>\n",
       "      <td>51.0</td>\n",
       "    </tr>\n",
       "    <tr>\n",
       "      <th>16</th>\n",
       "      <td>16.0</td>\n",
       "      <td>3671.0</td>\n",
       "      <td>77.0</td>\n",
       "    </tr>\n",
       "    <tr>\n",
       "      <th>17</th>\n",
       "      <td>17.0</td>\n",
       "      <td>6578.0</td>\n",
       "      <td>129.0</td>\n",
       "    </tr>\n",
       "    <tr>\n",
       "      <th>18</th>\n",
       "      <td>18.0</td>\n",
       "      <td>9449.0</td>\n",
       "      <td>175.0</td>\n",
       "    </tr>\n",
       "    <tr>\n",
       "      <th>19</th>\n",
       "      <td>19.0</td>\n",
       "      <td>13761.0</td>\n",
       "      <td>226.0</td>\n",
       "    </tr>\n",
       "    <tr>\n",
       "      <th>20</th>\n",
       "      <td>20.0</td>\n",
       "      <td>18270.0</td>\n",
       "      <td>315.0</td>\n",
       "    </tr>\n",
       "    <tr>\n",
       "      <th>21</th>\n",
       "      <td>21.0</td>\n",
       "      <td>21478.0</td>\n",
       "      <td>427.0</td>\n",
       "    </tr>\n",
       "    <tr>\n",
       "      <th>22</th>\n",
       "      <td>22.0</td>\n",
       "      <td>23630.0</td>\n",
       "      <td>565.0</td>\n",
       "    </tr>\n",
       "    <tr>\n",
       "      <th>23</th>\n",
       "      <td>23.0</td>\n",
       "      <td>26987.0</td>\n",
       "      <td>759.0</td>\n",
       "    </tr>\n",
       "    <tr>\n",
       "      <th>24</th>\n",
       "      <td>24.0</td>\n",
       "      <td>29533.0</td>\n",
       "      <td>984.0</td>\n",
       "    </tr>\n",
       "    <tr>\n",
       "      <th>25</th>\n",
       "      <td>25.0</td>\n",
       "      <td>31623.0</td>\n",
       "      <td>1285.0</td>\n",
       "    </tr>\n",
       "    <tr>\n",
       "      <th>26</th>\n",
       "      <td>26.0</td>\n",
       "      <td>33967.0</td>\n",
       "      <td>1603.0</td>\n",
       "    </tr>\n",
       "    <tr>\n",
       "      <th>27</th>\n",
       "      <td>27.0</td>\n",
       "      <td>35822.0</td>\n",
       "      <td>1930.0</td>\n",
       "    </tr>\n",
       "    <tr>\n",
       "      <th>28</th>\n",
       "      <td>28.0</td>\n",
       "      <td>38456.0</td>\n",
       "      <td>2334.0</td>\n",
       "    </tr>\n",
       "    <tr>\n",
       "      <th>29</th>\n",
       "      <td>29.0</td>\n",
       "      <td>45676.0</td>\n",
       "      <td>2859.0</td>\n",
       "    </tr>\n",
       "    <tr>\n",
       "      <th>30</th>\n",
       "      <td>30.0</td>\n",
       "      <td>48380.0</td>\n",
       "      <td>3420.0</td>\n",
       "    </tr>\n",
       "  </tbody>\n",
       "</table>\n",
       "</div>"
      ],
      "text/plain": [
       "    timepoints        I       D\n",
       "0          0.0      1.0     0.0\n",
       "1          1.0     10.0     0.0\n",
       "2          2.0     21.0     0.0\n",
       "3          3.0     24.0     0.0\n",
       "4          4.0     76.0     0.0\n",
       "5          5.0    104.0     0.0\n",
       "6          6.0    128.0     0.0\n",
       "7          7.0    131.0     0.0\n",
       "8          8.0    192.0     1.0\n",
       "9          9.0    220.0     1.0\n",
       "10        10.0    274.0     1.0\n",
       "11        11.0    394.0     4.0\n",
       "12        12.0    481.0     9.0\n",
       "13        13.0    745.0    19.0\n",
       "14        14.0   1111.0    30.0\n",
       "15        15.0   2128.0    51.0\n",
       "16        16.0   3671.0    77.0\n",
       "17        17.0   6578.0   129.0\n",
       "18        18.0   9449.0   175.0\n",
       "19        19.0  13761.0   226.0\n",
       "20        20.0  18270.0   315.0\n",
       "21        21.0  21478.0   427.0\n",
       "22        22.0  23630.0   565.0\n",
       "23        23.0  26987.0   759.0\n",
       "24        24.0  29533.0   984.0\n",
       "25        25.0  31623.0  1285.0\n",
       "26        26.0  33967.0  1603.0\n",
       "27        27.0  35822.0  1930.0\n",
       "28        28.0  38456.0  2334.0\n",
       "29        29.0  45676.0  2859.0\n",
       "30        30.0  48380.0  3420.0"
      ]
     },
     "execution_count": 9,
     "metadata": {},
     "output_type": "execute_result"
    }
   ],
   "source": [
    "ny_data"
   ]
  },
  {
   "cell_type": "code",
   "execution_count": 10,
   "id": "2f63b3cc-7ace-42d7-a964-f9b8103877a3",
   "metadata": {},
   "outputs": [],
   "source": [
    "url = 'https://raw.githubusercontent.com/DARPA-ASKEM/experiments/main/thin-thread-examples/milestone_12month/evaluation/ensemble_eval_SA/datasets/aabb3684-a7ea-4f60-98f1-a8e673ad6df5/dataset.csv'\n",
    "ny_data = pd.read_csv(url)\n",
    "\n",
    "# Grab test data for four-week forecast (04/03/2020 - 05/01/2020)\n",
    "test_data = ny_data[41:101].reset_index()\n",
    "test_data = test_data.drop(columns=\"timestep\")\n",
    "test_data = test_data.drop(columns=\"index\")\n",
    "\n",
    "# Select historical data from 03/01/2020 up to Timepoint 1, 04/02/2020 (the first 73 rows)\n",
    "# No hospitalization data at this point\n",
    "ny_data = ny_data[41:72].reset_index(drop=True)\n",
    "ny_data1 = ny_data.assign(timepoints=[float(i) for i in range(len(ny_data))])\n",
    "ny_data = ny_data1[[\"timepoints\", \"I\", \"D\"]]\n",
    "ny_data[[\"I\", \"D\"]].to_csv(\"NY_data1.csv\")\n",
    "\n",
    "# Set timepoints\n",
    "start_timepoint = 0\n",
    "stop_timepoint = len(ny_data) + 28 # simulate for four weeks after end of data\n",
    "timepoints = [float(i) for i in range(stop_timepoint + 1)]"
   ]
  },
  {
   "cell_type": "markdown",
   "id": "88df33c0-f86c-4cc4-8f98-6191d71b442b",
   "metadata": {},
   "source": [
    "# Calibrate and sample an ensemble of one model"
   ]
  },
  {
   "cell_type": "code",
   "execution_count": 11,
   "id": "7448e4a2-1903-4a0f-bf0a-916069b5b4db",
   "metadata": {},
   "outputs": [
    {
     "name": "stdout",
     "output_type": "stream",
     "text": [
      "iteration 0: loss = 703.3873684704304\n",
      "iteration 25: loss = 674.8738569319248\n",
      "iteration 50: loss = 656.0041197836399\n",
      "iteration 75: loss = 635.8929151594639\n",
      "iteration 100: loss = 633.7183410227299\n",
      "iteration 125: loss = 637.0419901907444\n",
      "iteration 150: loss = 635.8973425924778\n",
      "iteration 175: loss = 633.5786608755589\n",
      "\n"
     ]
    },
    {
     "data": {
      "application/vnd.vega.v5+json": {
       "$schema": "https://vega.github.io/schema/vega/v5.json",
       "axes": [
        {
         "name": "x_axis",
         "orient": "bottom",
         "scale": "xscale",
         "zindex": 100
        },
        {
         "name": "y_axis",
         "orient": "left",
         "scale": "yscale",
         "zindex": 100
        }
       ],
       "data": [
        {
         "name": "distributions",
         "values": [
          {
           "lower": 8.40637232221672e-23,
           "timepoint": 0,
           "trajectory": "D_sol",
           "upper": 1.8279469749651905e-21
          },
          {
           "lower": 0.00937546524219215,
           "timepoint": 1,
           "trajectory": "D_sol",
           "upper": 0.20351302102208135
          },
          {
           "lower": 0.04089538436383009,
           "timepoint": 2,
           "trajectory": "D_sol",
           "upper": 0.8852914869785309
          },
          {
           "lower": 0.099212147295475,
           "timepoint": 3,
           "trajectory": "D_sol",
           "upper": 2.140022611618042
          },
          {
           "lower": 0.1892395108938217,
           "timepoint": 4,
           "trajectory": "D_sol",
           "upper": 4.064196920394897
          },
          {
           "lower": 0.3169172331690788,
           "timepoint": 5,
           "trajectory": "D_sol",
           "upper": 6.771933150291442
          },
          {
           "lower": 0.48980607688426975,
           "timepoint": 6,
           "trajectory": "D_sol",
           "upper": 10.406672811508178
          },
          {
           "lower": 0.7176408737897874,
           "timepoint": 7,
           "trajectory": "D_sol",
           "upper": 15.151273918151855
          },
          {
           "lower": 1.0129442483186721,
           "timepoint": 8,
           "trajectory": "D_sol",
           "upper": 21.239036655426023
          },
          {
           "lower": 1.39173264503479,
           "timepoint": 9,
           "trajectory": "D_sol",
           "upper": 28.965469646453858
          },
          {
           "lower": 1.8743907034397125,
           "timepoint": 10,
           "trajectory": "D_sol",
           "upper": 38.70312004089355
          },
          {
           "lower": 2.4867597341537477,
           "timepoint": 11,
           "trajectory": "D_sol",
           "upper": 50.91946430206299
          },
          {
           "lower": 3.2614707946777344,
           "timepoint": 12,
           "trajectory": "D_sol",
           "upper": 66.1653896331787
          },
          {
           "lower": 4.239578795433045,
           "timepoint": 13,
           "trajectory": "D_sol",
           "upper": 85.01785888671876
          },
          {
           "lower": 5.472573399543762,
           "timepoint": 14,
           "trajectory": "D_sol",
           "upper": 108.43572158813477
          },
          {
           "lower": 7.0246425628662115,
           "timepoint": 15,
           "trajectory": "D_sol",
           "upper": 137.4830780029297
          },
          {
           "lower": 8.975260186195374,
           "timepoint": 16,
           "trajectory": "D_sol",
           "upper": 174.49614715576172
          },
          {
           "lower": 11.421621608734132,
           "timepoint": 17,
           "trajectory": "D_sol",
           "upper": 221.04391326904297
          },
          {
           "lower": 14.480477857589722,
           "timepoint": 18,
           "trajectory": "D_sol",
           "upper": 277.5614440917969
          },
          {
           "lower": 18.28809199333191,
           "timepoint": 19,
           "trajectory": "D_sol",
           "upper": 347.24598388671876
          },
          {
           "lower": 22.996654415130617,
           "timepoint": 20,
           "trajectory": "D_sol",
           "upper": 432.6928085327148
          },
          {
           "lower": 28.76548433303833,
           "timepoint": 21,
           "trajectory": "D_sol",
           "upper": 536.6535705566406
          },
          {
           "lower": 35.745331096649174,
           "timepoint": 22,
           "trajectory": "D_sol",
           "upper": 661.8253845214844
          },
          {
           "lower": 44.05857219696045,
           "timepoint": 23,
           "trajectory": "D_sol",
           "upper": 810.9549896240234
          },
          {
           "lower": 53.77903747558594,
           "timepoint": 24,
           "trajectory": "D_sol",
           "upper": 990.2932678222655
          },
          {
           "lower": 64.91735744476318,
           "timepoint": 25,
           "trajectory": "D_sol",
           "upper": 1197.3771545410154
          },
          {
           "lower": 77.41724681854248,
           "timepoint": 26,
           "trajectory": "D_sol",
           "upper": 1432.0794982910156
          },
          {
           "lower": 91.16114463806153,
           "timepoint": 27,
           "trajectory": "D_sol",
           "upper": 1693.0361450195312
          },
          {
           "lower": 105.98365440368653,
           "timepoint": 28,
           "trajectory": "D_sol",
           "upper": 1978.4184936523438
          },
          {
           "lower": 121.68802757263184,
           "timepoint": 29,
           "trajectory": "D_sol",
           "upper": 2280.9640502929688
          },
          {
           "lower": 138.06288833618166,
           "timepoint": 30,
           "trajectory": "D_sol",
           "upper": 2589.240930175781
          },
          {
           "lower": 154.89663696289062,
           "timepoint": 31,
           "trajectory": "D_sol",
           "upper": 2911.7221557617186
          },
          {
           "lower": 171.9871810913086,
           "timepoint": 32,
           "trajectory": "D_sol",
           "upper": 3258.798168945312
          },
          {
           "lower": 189.1501777648926,
           "timepoint": 33,
           "trajectory": "D_sol",
           "upper": 3615.1932983398433
          },
          {
           "lower": 206.22266693115236,
           "timepoint": 34,
           "trajectory": "D_sol",
           "upper": 3978.3259155273436
          },
          {
           "lower": 223.06605682373046,
           "timepoint": 35,
           "trajectory": "D_sol",
           "upper": 4350.101879882812
          },
          {
           "lower": 239.56399536132812,
           "timepoint": 36,
           "trajectory": "D_sol",
           "upper": 4736.644702148437
          },
          {
           "lower": 255.6231803894043,
           "timepoint": 37,
           "trajectory": "D_sol",
           "upper": 5128.228564453125
          },
          {
           "lower": 271.17172012329104,
           "timepoint": 38,
           "trajectory": "D_sol",
           "upper": 5523.555908203124
          },
          {
           "lower": 286.1544273376465,
           "timepoint": 39,
           "trajectory": "D_sol",
           "upper": 5921.519458007812
          },
          {
           "lower": 300.53379516601564,
           "timepoint": 40,
           "trajectory": "D_sol",
           "upper": 6321.175610351562
          },
          {
           "lower": 314.28514862060547,
           "timepoint": 41,
           "trajectory": "D_sol",
           "upper": 6721.741699218749
          },
          {
           "lower": 327.3954345703125,
           "timepoint": 42,
           "trajectory": "D_sol",
           "upper": 7122.540576171874
          },
          {
           "lower": 339.86113891601565,
           "timepoint": 43,
           "trajectory": "D_sol",
           "upper": 7523.033862304686
          },
          {
           "lower": 351.6863418579102,
           "timepoint": 44,
           "trajectory": "D_sol",
           "upper": 7922.759423828124
          },
          {
           "lower": 362.8811920166016,
           "timepoint": 45,
           "trajectory": "D_sol",
           "upper": 8321.328271484374
          },
          {
           "lower": 373.4597900390625,
           "timepoint": 46,
           "trajectory": "D_sol",
           "upper": 8718.44775390625
          },
          {
           "lower": 383.4427200317383,
           "timepoint": 47,
           "trajectory": "D_sol",
           "upper": 9113.852490234374
          },
          {
           "lower": 392.84969024658204,
           "timepoint": 48,
           "trajectory": "D_sol",
           "upper": 9507.330224609374
          },
          {
           "lower": 401.7035171508789,
           "timepoint": 49,
           "trajectory": "D_sol",
           "upper": 9894.354785156249
          },
          {
           "lower": 410.0284683227539,
           "timepoint": 50,
           "trajectory": "D_sol",
           "upper": 10277.98876953125
          },
          {
           "lower": 417.84937438964846,
           "timepoint": 51,
           "trajectory": "D_sol",
           "upper": 10614.4146484375
          },
          {
           "lower": 425.1913101196289,
           "timepoint": 52,
           "trajectory": "D_sol",
           "upper": 10878.861962890625
          },
          {
           "lower": 432.07904663085935,
           "timepoint": 53,
           "trajectory": "D_sol",
           "upper": 11133.91845703125
          },
          {
           "lower": 438.5369812011719,
           "timepoint": 54,
           "trajectory": "D_sol",
           "upper": 11379.830175781248
          },
          {
           "lower": 444.58913269042966,
           "timepoint": 55,
           "trajectory": "D_sol",
           "upper": 11616.882373046874
          },
          {
           "lower": 450.25885314941405,
           "timepoint": 56,
           "trajectory": "D_sol",
           "upper": 11845.348779296874
          },
          {
           "lower": 455.56772766113284,
           "timepoint": 57,
           "trajectory": "D_sol",
           "upper": 12065.522705078123
          },
          {
           "lower": 460.5376770019531,
           "timepoint": 58,
           "trajectory": "D_sol",
           "upper": 12277.663720703122
          },
          {
           "lower": 465.18941192626954,
           "timepoint": 59,
           "trajectory": "D_sol",
           "upper": 12482.067626953121
          },
          {
           "lower": 175,
           "timepoint": 0,
           "trajectory": "I_sol",
           "upper": 175
          },
          {
           "lower": 267.31591796875,
           "timepoint": 1,
           "trajectory": "I_sol",
           "upper": 272.1334518432617
          },
          {
           "lower": 358.4013397216797,
           "timepoint": 2,
           "trajectory": "I_sol",
           "upper": 370.50440216064453
          },
          {
           "lower": 458.75615234375,
           "timepoint": 3,
           "trajectory": "I_sol",
           "upper": 481.0727142333984
          },
          {
           "lower": 576.3661834716797,
           "timepoint": 4,
           "trajectory": "I_sol",
           "upper": 612.9793304443359
          },
          {
           "lower": 718.503286743164,
           "timepoint": 5,
           "trajectory": "I_sol",
           "upper": 774.9490661621094
          },
          {
           "lower": 893.7705841064453,
           "timepoint": 6,
           "trajectory": "I_sol",
           "upper": 978.6228088378906
          },
          {
           "lower": 1110.6188537597657,
           "timepoint": 7,
           "trajectory": "I_sol",
           "upper": 1231.9888916015625
          },
          {
           "lower": 1378.338671875,
           "timepoint": 8,
           "trajectory": "I_sol",
           "upper": 1549.9096252441407
          },
          {
           "lower": 1709.961572265625,
           "timepoint": 9,
           "trajectory": "I_sol",
           "upper": 1949.1671142578125
          },
          {
           "lower": 2117.967822265625,
           "timepoint": 10,
           "trajectory": "I_sol",
           "upper": 2453.7850952148438
          },
          {
           "lower": 2622.5949829101564,
           "timepoint": 11,
           "trajectory": "I_sol",
           "upper": 3089.4902221679686
          },
          {
           "lower": 3247.6852905273436,
           "timepoint": 12,
           "trajectory": "I_sol",
           "upper": 3888.3185791015626
          },
          {
           "lower": 4022.1850463867186,
           "timepoint": 13,
           "trajectory": "I_sol",
           "upper": 4890.6033203125
          },
          {
           "lower": 4976.482495117188,
           "timepoint": 14,
           "trajectory": "I_sol",
           "upper": 6144.930444335937
          },
          {
           "lower": 6147.4771484375,
           "timepoint": 15,
           "trajectory": "I_sol",
           "upper": 7708.1173095703125
          },
          {
           "lower": 7569.5197265625,
           "timepoint": 16,
           "trajectory": "I_sol",
           "upper": 9643.73681640625
          },
          {
           "lower": 9282.82666015625,
           "timepoint": 17,
           "trajectory": "I_sol",
           "upper": 12016.034228515624
          },
          {
           "lower": 11316.453173828126,
           "timepoint": 18,
           "trajectory": "I_sol",
           "upper": 14877.9046875
          },
          {
           "lower": 13674.732568359375,
           "timepoint": 19,
           "trajectory": "I_sol",
           "upper": 18250.5044921875
          },
          {
           "lower": 16321.045361328124,
           "timepoint": 20,
           "trajectory": "I_sol",
           "upper": 22013.448828125
          },
          {
           "lower": 19063.0970703125,
           "timepoint": 21,
           "trajectory": "I_sol",
           "upper": 26006.17080078125
          },
          {
           "lower": 21931.99931640625,
           "timepoint": 22,
           "trajectory": "I_sol",
           "upper": 30136.53583984375
          },
          {
           "lower": 24532.62060546875,
           "timepoint": 23,
           "trajectory": "I_sol",
           "upper": 34299.75
          },
          {
           "lower": 26765.3287109375,
           "timepoint": 24,
           "trajectory": "I_sol",
           "upper": 38043.7966796875
          },
          {
           "lower": 28527.67978515625,
           "timepoint": 25,
           "trajectory": "I_sol",
           "upper": 41318.8328125
          },
          {
           "lower": 29687.43095703125,
           "timepoint": 26,
           "trajectory": "I_sol",
           "upper": 43272.918164062496
          },
          {
           "lower": 30590.05146484375,
           "timepoint": 27,
           "trajectory": "I_sol",
           "upper": 44441.7654296875
          },
          {
           "lower": 30922.0029296875,
           "timepoint": 28,
           "trajectory": "I_sol",
           "upper": 45469.73964843749
          },
          {
           "lower": 30774.516015625,
           "timepoint": 29,
           "trajectory": "I_sol",
           "upper": 46182.519726562496
          },
          {
           "lower": 29963.26474609375,
           "timepoint": 30,
           "trajectory": "I_sol",
           "upper": 46921.18203124999
          },
          {
           "lower": 29276.0603515625,
           "timepoint": 31,
           "trajectory": "I_sol",
           "upper": 47382.69960937499
          },
          {
           "lower": 28168.2388671875,
           "timepoint": 32,
           "trajectory": "I_sol",
           "upper": 47631.709375
          },
          {
           "lower": 26885.05869140625,
           "timepoint": 33,
           "trajectory": "I_sol",
           "upper": 47721.152929687494
          },
          {
           "lower": 25333.7681640625,
           "timepoint": 34,
           "trajectory": "I_sol",
           "upper": 47693.131640625
          },
          {
           "lower": 23935.033984375,
           "timepoint": 35,
           "trajectory": "I_sol",
           "upper": 47454.790234375
          },
          {
           "lower": 22562.84931640625,
           "timepoint": 36,
           "trajectory": "I_sol",
           "upper": 46818.7591796875
          },
          {
           "lower": 21230.2962890625,
           "timepoint": 37,
           "trajectory": "I_sol",
           "upper": 46141.5296875
          },
          {
           "lower": 19945.7458984375,
           "timepoint": 38,
           "trajectory": "I_sol",
           "upper": 45438.61015625
          },
          {
           "lower": 18716.49755859375,
           "timepoint": 39,
           "trajectory": "I_sol",
           "upper": 44943.423046874996
          },
          {
           "lower": 17548.67802734375,
           "timepoint": 40,
           "trajectory": "I_sol",
           "upper": 44713.292578124994
          },
          {
           "lower": 16444.429638671874,
           "timepoint": 41,
           "trajectory": "I_sol",
           "upper": 44473.669531249994
          },
          {
           "lower": 15401.253125,
           "timepoint": 42,
           "trajectory": "I_sol",
           "upper": 44227.522070312494
          },
          {
           "lower": 14418.175927734375,
           "timepoint": 43,
           "trajectory": "I_sol",
           "upper": 43976.98281249999
          },
          {
           "lower": 13550.81240234375,
           "timepoint": 44,
           "trajectory": "I_sol",
           "upper": 43723.55703125
          },
          {
           "lower": 12650.99951171875,
           "timepoint": 45,
           "trajectory": "I_sol",
           "upper": 43468.143359375
          },
          {
           "lower": 11796.645556640626,
           "timepoint": 46,
           "trajectory": "I_sol",
           "upper": 43211.623828125
          },
          {
           "lower": 11025.013916015625,
           "timepoint": 47,
           "trajectory": "I_sol",
           "upper": 42954.4291015625
          },
          {
           "lower": 10307.047119140625,
           "timepoint": 48,
           "trajectory": "I_sol",
           "upper": 42696.8900390625
          },
          {
           "lower": 9627.352294921875,
           "timepoint": 49,
           "trajectory": "I_sol",
           "upper": 42439.284765624994
          },
          {
           "lower": 8902.8181640625,
           "timepoint": 50,
           "trajectory": "I_sol",
           "upper": 42181.7875
          },
          {
           "lower": 8258.32900390625,
           "timepoint": 51,
           "trajectory": "I_sol",
           "upper": 41924.489453124996
          },
          {
           "lower": 7712.895825195313,
           "timepoint": 52,
           "trajectory": "I_sol",
           "upper": 41667.541601562494
          },
          {
           "lower": 7203.282885742187,
           "timepoint": 53,
           "trajectory": "I_sol",
           "upper": 41410.967968749996
          },
          {
           "lower": 6727.202954101563,
           "timepoint": 54,
           "trajectory": "I_sol",
           "upper": 41154.81738281249
          },
          {
           "lower": 6286.165112304688,
           "timepoint": 55,
           "trajectory": "I_sol",
           "upper": 40890.7322265625
          },
          {
           "lower": 5874.440698242188,
           "timepoint": 56,
           "trajectory": "I_sol",
           "upper": 40626.0837890625
          },
          {
           "lower": 5489.595361328125,
           "timepoint": 57,
           "trajectory": "I_sol",
           "upper": 40362.097265624994
          },
          {
           "lower": 5129.926928710937,
           "timepoint": 58,
           "trajectory": "I_sol",
           "upper": 40098.89296875
          },
          {
           "lower": 4793.787841796875,
           "timepoint": 59,
           "trajectory": "I_sol",
           "upper": 39836.3916015625
          }
         ]
        },
        {
         "name": "traces",
         "transform": [
          {
           "expr": "isValid(datum.value)",
           "type": "filter"
          }
         ],
         "values": []
        },
        {
         "name": "points",
         "values": [
          {
           "sample_id": 0,
           "timepoint": 0,
           "trajectory": "I_data",
           "value": 1
          },
          {
           "sample_id": 0,
           "timepoint": 1,
           "trajectory": "I_data",
           "value": 10
          },
          {
           "sample_id": 0,
           "timepoint": 2,
           "trajectory": "I_data",
           "value": 21
          },
          {
           "sample_id": 0,
           "timepoint": 3,
           "trajectory": "I_data",
           "value": 24
          },
          {
           "sample_id": 0,
           "timepoint": 4,
           "trajectory": "I_data",
           "value": 76
          },
          {
           "sample_id": 0,
           "timepoint": 5,
           "trajectory": "I_data",
           "value": 104
          },
          {
           "sample_id": 0,
           "timepoint": 6,
           "trajectory": "I_data",
           "value": 128
          },
          {
           "sample_id": 0,
           "timepoint": 7,
           "trajectory": "I_data",
           "value": 131
          },
          {
           "sample_id": 0,
           "timepoint": 8,
           "trajectory": "I_data",
           "value": 192
          },
          {
           "sample_id": 0,
           "timepoint": 9,
           "trajectory": "I_data",
           "value": 220
          },
          {
           "sample_id": 0,
           "timepoint": 10,
           "trajectory": "I_data",
           "value": 274
          },
          {
           "sample_id": 0,
           "timepoint": 11,
           "trajectory": "I_data",
           "value": 394
          },
          {
           "sample_id": 0,
           "timepoint": 12,
           "trajectory": "I_data",
           "value": 481
          },
          {
           "sample_id": 0,
           "timepoint": 13,
           "trajectory": "I_data",
           "value": 745
          },
          {
           "sample_id": 0,
           "timepoint": 14,
           "trajectory": "I_data",
           "value": 1111
          },
          {
           "sample_id": 0,
           "timepoint": 15,
           "trajectory": "I_data",
           "value": 2128
          },
          {
           "sample_id": 0,
           "timepoint": 16,
           "trajectory": "I_data",
           "value": 3671
          },
          {
           "sample_id": 0,
           "timepoint": 17,
           "trajectory": "I_data",
           "value": 6578
          },
          {
           "sample_id": 0,
           "timepoint": 18,
           "trajectory": "I_data",
           "value": 9449
          },
          {
           "sample_id": 0,
           "timepoint": 19,
           "trajectory": "I_data",
           "value": 13761
          },
          {
           "sample_id": 0,
           "timepoint": 20,
           "trajectory": "I_data",
           "value": 18270
          },
          {
           "sample_id": 0,
           "timepoint": 21,
           "trajectory": "I_data",
           "value": 21478
          },
          {
           "sample_id": 0,
           "timepoint": 22,
           "trajectory": "I_data",
           "value": 23630
          },
          {
           "sample_id": 0,
           "timepoint": 23,
           "trajectory": "I_data",
           "value": 26987
          },
          {
           "sample_id": 0,
           "timepoint": 24,
           "trajectory": "I_data",
           "value": 29533
          },
          {
           "sample_id": 0,
           "timepoint": 25,
           "trajectory": "I_data",
           "value": 31623
          },
          {
           "sample_id": 0,
           "timepoint": 26,
           "trajectory": "I_data",
           "value": 33967
          },
          {
           "sample_id": 0,
           "timepoint": 27,
           "trajectory": "I_data",
           "value": 35822
          },
          {
           "sample_id": 0,
           "timepoint": 28,
           "trajectory": "I_data",
           "value": 38456
          },
          {
           "sample_id": 0,
           "timepoint": 29,
           "trajectory": "I_data",
           "value": 45676
          },
          {
           "sample_id": 0,
           "timepoint": 30,
           "trajectory": "I_data",
           "value": 48380
          },
          {
           "sample_id": 0,
           "timepoint": 31,
           "trajectory": "I_data",
           "value": 51807
          },
          {
           "sample_id": 0,
           "timepoint": 32,
           "trajectory": "I_data",
           "value": 55042
          },
          {
           "sample_id": 0,
           "timepoint": 33,
           "trajectory": "I_data",
           "value": 56847
          },
          {
           "sample_id": 0,
           "timepoint": 34,
           "trajectory": "I_data",
           "value": 52184
          },
          {
           "sample_id": 0,
           "timepoint": 35,
           "trajectory": "I_data",
           "value": 49194
          },
          {
           "sample_id": 0,
           "timepoint": 36,
           "trajectory": "I_data",
           "value": 48730
          },
          {
           "sample_id": 0,
           "timepoint": 37,
           "trajectory": "I_data",
           "value": 50551
          },
          {
           "sample_id": 0,
           "timepoint": 38,
           "trajectory": "I_data",
           "value": 51029
          },
          {
           "sample_id": 0,
           "timepoint": 39,
           "trajectory": "I_data",
           "value": 49701
          },
          {
           "sample_id": 0,
           "timepoint": 40,
           "trajectory": "I_data",
           "value": 50661
          },
          {
           "sample_id": 0,
           "timepoint": 41,
           "trajectory": "I_data",
           "value": 48303
          },
          {
           "sample_id": 0,
           "timepoint": 42,
           "trajectory": "I_data",
           "value": 43703
          },
          {
           "sample_id": 0,
           "timepoint": 43,
           "trajectory": "I_data",
           "value": 38888
          },
          {
           "sample_id": 0,
           "timepoint": 44,
           "trajectory": "I_data",
           "value": 38244
          },
          {
           "sample_id": 0,
           "timepoint": 45,
           "trajectory": "I_data",
           "value": 36857
          },
          {
           "sample_id": 0,
           "timepoint": 46,
           "trajectory": "I_data",
           "value": 35881
          },
          {
           "sample_id": 0,
           "timepoint": 47,
           "trajectory": "I_data",
           "value": 35054
          },
          {
           "sample_id": 0,
           "timepoint": 48,
           "trajectory": "I_data",
           "value": 34782
          },
          {
           "sample_id": 0,
           "timepoint": 49,
           "trajectory": "I_data",
           "value": 31526
          },
          {
           "sample_id": 0,
           "timepoint": 50,
           "trajectory": "I_data",
           "value": 28799
          },
          {
           "sample_id": 0,
           "timepoint": 51,
           "trajectory": "I_data",
           "value": 27419
          },
          {
           "sample_id": 0,
           "timepoint": 52,
           "trajectory": "I_data",
           "value": 27443
          },
          {
           "sample_id": 0,
           "timepoint": 53,
           "trajectory": "I_data",
           "value": 30499
          },
          {
           "sample_id": 0,
           "timepoint": 54,
           "trajectory": "I_data",
           "value": 31543
          },
          {
           "sample_id": 0,
           "timepoint": 55,
           "trajectory": "I_data",
           "value": 31597
          },
          {
           "sample_id": 0,
           "timepoint": 56,
           "trajectory": "I_data",
           "value": 29008
          },
          {
           "sample_id": 0,
           "timepoint": 57,
           "trajectory": "I_data",
           "value": 25476
          },
          {
           "sample_id": 0,
           "timepoint": 58,
           "trajectory": "I_data",
           "value": 20411
          },
          {
           "sample_id": 0,
           "timepoint": 59,
           "trajectory": "I_data",
           "value": 19224
          },
          {
           "sample_id": 0,
           "timepoint": 38,
           "trajectory": "H_data",
           "value": 0
          },
          {
           "sample_id": 0,
           "timepoint": 39,
           "trajectory": "H_data",
           "value": 0
          },
          {
           "sample_id": 0,
           "timepoint": 45,
           "trajectory": "H_data",
           "value": 0
          },
          {
           "sample_id": 0,
           "timepoint": 46,
           "trajectory": "H_data",
           "value": 1
          },
          {
           "sample_id": 0,
           "timepoint": 52,
           "trajectory": "H_data",
           "value": 0
          },
          {
           "sample_id": 0,
           "timepoint": 53,
           "trajectory": "H_data",
           "value": 0
          },
          {
           "sample_id": 0,
           "timepoint": 54,
           "trajectory": "H_data",
           "value": 1
          },
          {
           "sample_id": 0,
           "timepoint": 55,
           "trajectory": "H_data",
           "value": 0
          },
          {
           "sample_id": 0,
           "timepoint": 56,
           "trajectory": "H_data",
           "value": 0
          },
          {
           "sample_id": 0,
           "timepoint": 57,
           "trajectory": "H_data",
           "value": 0
          },
          {
           "sample_id": 0,
           "timepoint": 58,
           "trajectory": "H_data",
           "value": 0
          },
          {
           "sample_id": 0,
           "timepoint": 59,
           "trajectory": "H_data",
           "value": 0
          },
          {
           "sample_id": 0,
           "timepoint": 0,
           "trajectory": "D_data",
           "value": 0
          },
          {
           "sample_id": 0,
           "timepoint": 1,
           "trajectory": "D_data",
           "value": 0
          },
          {
           "sample_id": 0,
           "timepoint": 2,
           "trajectory": "D_data",
           "value": 0
          },
          {
           "sample_id": 0,
           "timepoint": 3,
           "trajectory": "D_data",
           "value": 0
          },
          {
           "sample_id": 0,
           "timepoint": 4,
           "trajectory": "D_data",
           "value": 0
          },
          {
           "sample_id": 0,
           "timepoint": 5,
           "trajectory": "D_data",
           "value": 0
          },
          {
           "sample_id": 0,
           "timepoint": 6,
           "trajectory": "D_data",
           "value": 0
          },
          {
           "sample_id": 0,
           "timepoint": 7,
           "trajectory": "D_data",
           "value": 0
          },
          {
           "sample_id": 0,
           "timepoint": 8,
           "trajectory": "D_data",
           "value": 1
          },
          {
           "sample_id": 0,
           "timepoint": 9,
           "trajectory": "D_data",
           "value": 1
          },
          {
           "sample_id": 0,
           "timepoint": 10,
           "trajectory": "D_data",
           "value": 1
          },
          {
           "sample_id": 0,
           "timepoint": 11,
           "trajectory": "D_data",
           "value": 4
          },
          {
           "sample_id": 0,
           "timepoint": 12,
           "trajectory": "D_data",
           "value": 9
          },
          {
           "sample_id": 0,
           "timepoint": 13,
           "trajectory": "D_data",
           "value": 19
          },
          {
           "sample_id": 0,
           "timepoint": 14,
           "trajectory": "D_data",
           "value": 30
          },
          {
           "sample_id": 0,
           "timepoint": 15,
           "trajectory": "D_data",
           "value": 51
          },
          {
           "sample_id": 0,
           "timepoint": 16,
           "trajectory": "D_data",
           "value": 77
          },
          {
           "sample_id": 0,
           "timepoint": 17,
           "trajectory": "D_data",
           "value": 129
          },
          {
           "sample_id": 0,
           "timepoint": 18,
           "trajectory": "D_data",
           "value": 175
          },
          {
           "sample_id": 0,
           "timepoint": 19,
           "trajectory": "D_data",
           "value": 226
          },
          {
           "sample_id": 0,
           "timepoint": 20,
           "trajectory": "D_data",
           "value": 315
          },
          {
           "sample_id": 0,
           "timepoint": 21,
           "trajectory": "D_data",
           "value": 427
          },
          {
           "sample_id": 0,
           "timepoint": 22,
           "trajectory": "D_data",
           "value": 565
          },
          {
           "sample_id": 0,
           "timepoint": 23,
           "trajectory": "D_data",
           "value": 759
          },
          {
           "sample_id": 0,
           "timepoint": 24,
           "trajectory": "D_data",
           "value": 984
          },
          {
           "sample_id": 0,
           "timepoint": 25,
           "trajectory": "D_data",
           "value": 1285
          },
          {
           "sample_id": 0,
           "timepoint": 26,
           "trajectory": "D_data",
           "value": 1603
          },
          {
           "sample_id": 0,
           "timepoint": 27,
           "trajectory": "D_data",
           "value": 1930
          },
          {
           "sample_id": 0,
           "timepoint": 28,
           "trajectory": "D_data",
           "value": 2334
          },
          {
           "sample_id": 0,
           "timepoint": 29,
           "trajectory": "D_data",
           "value": 2859
          },
          {
           "sample_id": 0,
           "timepoint": 30,
           "trajectory": "D_data",
           "value": 3420
          },
          {
           "sample_id": 0,
           "timepoint": 31,
           "trajectory": "D_data",
           "value": 3989
          },
          {
           "sample_id": 0,
           "timepoint": 32,
           "trajectory": "D_data",
           "value": 4634
          },
          {
           "sample_id": 0,
           "timepoint": 33,
           "trajectory": "D_data",
           "value": 5384
          },
          {
           "sample_id": 0,
           "timepoint": 34,
           "trajectory": "D_data",
           "value": 6185
          },
          {
           "sample_id": 0,
           "timepoint": 35,
           "trajectory": "D_data",
           "value": 7241
          },
          {
           "sample_id": 0,
           "timepoint": 36,
           "trajectory": "D_data",
           "value": 7985
          },
          {
           "sample_id": 0,
           "timepoint": 37,
           "trajectory": "D_data",
           "value": 8846
          },
          {
           "sample_id": 0,
           "timepoint": 38,
           "trajectory": "D_data",
           "value": 9579
          },
          {
           "sample_id": 0,
           "timepoint": 39,
           "trajectory": "D_data",
           "value": 10345
          },
          {
           "sample_id": 0,
           "timepoint": 40,
           "trajectory": "D_data",
           "value": 11126
          },
          {
           "sample_id": 0,
           "timepoint": 41,
           "trajectory": "D_data",
           "value": 11930
          },
          {
           "sample_id": 0,
           "timepoint": 42,
           "trajectory": "D_data",
           "value": 12669
          },
          {
           "sample_id": 0,
           "timepoint": 43,
           "trajectory": "D_data",
           "value": 13332
          },
          {
           "sample_id": 0,
           "timepoint": 44,
           "trajectory": "D_data",
           "value": 13987
          },
          {
           "sample_id": 0,
           "timepoint": 45,
           "trajectory": "D_data",
           "value": 14371
          },
          {
           "sample_id": 0,
           "timepoint": 46,
           "trajectory": "D_data",
           "value": 14780
          },
          {
           "sample_id": 0,
           "timepoint": 47,
           "trajectory": "D_data",
           "value": 15225
          },
          {
           "sample_id": 0,
           "timepoint": 48,
           "trajectory": "D_data",
           "value": 16116
          },
          {
           "sample_id": 0,
           "timepoint": 49,
           "trajectory": "D_data",
           "value": 16639
          },
          {
           "sample_id": 0,
           "timepoint": 50,
           "trajectory": "D_data",
           "value": 17091
          },
          {
           "sample_id": 0,
           "timepoint": 51,
           "trajectory": "D_data",
           "value": 17647
          },
          {
           "sample_id": 0,
           "timepoint": 52,
           "trajectory": "D_data",
           "value": 18132
          },
          {
           "sample_id": 0,
           "timepoint": 53,
           "trajectory": "D_data",
           "value": 18523
          },
          {
           "sample_id": 0,
           "timepoint": 54,
           "trajectory": "D_data",
           "value": 18882
          },
          {
           "sample_id": 0,
           "timepoint": 55,
           "trajectory": "D_data",
           "value": 19292
          },
          {
           "sample_id": 0,
           "timepoint": 56,
           "trajectory": "D_data",
           "value": 19602
          },
          {
           "sample_id": 0,
           "timepoint": 57,
           "trajectory": "D_data",
           "value": 20000
          },
          {
           "sample_id": 0,
           "timepoint": 58,
           "trajectory": "D_data",
           "value": 20334
          },
          {
           "sample_id": 0,
           "timepoint": 59,
           "trajectory": "D_data",
           "value": 20662
          }
         ]
        },
        {
         "name": "markers",
         "values": []
        },
        {
         "name": "selected",
         "on": [
          {
           "remove": true,
           "trigger": "clear"
          },
          {
           "remove": true,
           "trigger": "!shift"
          },
          {
           "insert": "clicked",
           "trigger": "!shift && clicked"
          },
          {
           "toggle": "clicked",
           "trigger": "shift && clicked"
          }
         ]
        }
       ],
       "height": 300,
       "legends": [
        {
         "encode": {
          "labels": {
           "interactive": true,
           "name": "legendLabel",
           "update": {
            "opacity": [
             {
              "test": "!length(data('selected')) || indata('selected', 'value', datum.value)",
              "value": 1
             },
             {
              "value": 0.25
             }
            ]
           }
          },
          "symbols": {
           "interactive": true,
           "name": "legendSymbol",
           "update": {
            "fill": {
             "value": "transparent"
            },
            "opacity": [
             {
              "test": "!length(data('selected')) || indata('selected', 'value', datum.value)",
              "value": 0.7
             },
             {
              "value": 0.15
             }
            ],
            "size": {
             "value": 64
            },
            "strokeWidth": {
             "value": 2
            }
           }
          }
         },
         "name": "color_legend",
         "stroke": "color"
        }
       ],
       "marks": [
        {
         "from": {
          "facet": {
           "data": "points",
           "groupby": "trajectory",
           "name": "points_split"
          }
         },
         "marks": [
          {
           "encode": {
            "hover": {
             "fillOpacity": {
              "value": 0.9
             }
            },
            "update": {
             "fill": {
              "field": "trajectory",
              "scale": "color"
             },
             "fillOpacity": [
              {
               "test": "!length(data('selected')) || indata('selected', 'value', datum.trajectory)",
               "value": 0.5
              },
              {
               "value": 0.15
              }
             ],
             "size": {
              "value": 10
             },
             "stroke": {
              "field": "trajectory",
              "scale": "color"
             },
             "strokeOpacity": [
              {
               "test": "!length(data('selected')) || indata('selected', 'value', datum.trajectory)",
               "value": 0.75
              },
              {
               "value": 0.15
              }
             ],
             "strokeWidth": {
              "value": 2
             },
             "tooltip": {
              "field": "value"
             },
             "x": {
              "field": "timepoint",
              "scale": "xscale"
             },
             "y": {
              "field": "value",
              "scale": "yscale"
             }
            }
           },
           "from": {
            "data": "points"
           },
           "name": "_points_symbol",
           "type": "symbol",
           "zindex": 3
          },
          {
           "encode": {
            "hover": {
             "fillOpacity": {
              "value": 0.9
             }
            },
            "update": {
             "interpolate": {
              "value": "linear"
             },
             "stroke": {
              "field": "trajectory",
              "scale": "color"
             },
             "strokeOpacity": [
              {
               "test": "!length(data('selected')) || indata('selected', 'value', datum.trajectory)",
               "value": 0.3
              },
              {
               "value": 0.1
              }
             ],
             "strokeWidth": {
              "value": 2
             },
             "x": {
              "field": "timepoint",
              "scale": "xscale"
             },
             "y": {
              "field": "value",
              "scale": "yscale"
             }
            }
           },
           "from": {
            "data": "points"
           },
           "name": "_points_line",
           "type": "line",
           "zindex": 3
          }
         ],
         "name": "_points",
         "type": "group",
         "zindex": 3
        },
        {
         "from": {
          "facet": {
           "data": "traces",
           "groupby": "trajectory",
           "name": "traces_split"
          }
         },
         "marks": [
          {
           "encode": {
            "hover": {
             "fillOpacity": {
              "value": 0.9
             }
            },
            "update": {
             "interpolate": {
              "value": "linear"
             },
             "stroke": {
              "field": "trajectory",
              "scale": "color"
             },
             "strokeOpacity": [
              {
               "test": "!length(data('selected')) || indata('selected', 'value', datum.trajectory)",
               "value": 0.75
              },
              {
               "value": 0.15
              }
             ],
             "strokeWidth": {
              "value": 2
             },
             "x": {
              "field": "timepoint",
              "scale": "xscale"
             },
             "y": {
              "field": "value",
              "scale": "yscale"
             }
            }
           },
           "from": {
            "data": "traces_split"
           },
           "name": "_traces_lines",
           "type": "line"
          }
         ],
         "name": "_traces",
         "type": "group",
         "zindex": 2
        },
        {
         "from": {
          "facet": {
           "data": "distributions",
           "groupby": "trajectory",
           "name": "trajectory_split"
          }
         },
         "marks": [
          {
           "encode": {
            "hover": {
             "fillOpacity": {
              "value": 0.9
             }
            },
            "update": {
             "fill": {
              "field": "trajectory",
              "scale": "color"
             },
             "fillOpacity": [
              {
               "test": "!length(data('selected')) || indata('selected', 'value', datum.trajectory)",
               "value": 0.5
              },
              {
               "value": 0.15
              }
             ],
             "interpolate": {
              "value": "linear"
             },
             "stroke": {
              "field": "trajectory",
              "scale": "color"
             },
             "strokeOpacity": [
              {
               "test": "!length(data('selected')) || indata('selected', 'value', datum.trajectory)",
               "value": 0.75
              },
              {
               "value": 0.15
              }
             ],
             "strokeWidth": {
              "value": 2
             },
             "x": {
              "field": "timepoint",
              "scale": "xscale"
             },
             "y": {
              "field": "upper",
              "scale": "yscale"
             },
             "y2": {
              "field": "lower",
              "scale": "yscale"
             }
            }
           },
           "from": {
            "data": "trajectory_split"
           },
           "type": "area"
          }
         ],
         "name": "_distributions",
         "type": "group",
         "zindex": 1
        },
        {
         "marks": [
          {
           "encode": {
            "enter": {
             "stroke": {
              "value": "lightgray"
             }
            },
            "update": {
             "opacity": {
              "value": 1
             },
             "x": {
              "field": "timepoint",
              "scale": "xscale"
             },
             "y": {
              "signal": "height"
             },
             "y2": {
              "value": 0
             }
            }
           },
           "from": {
            "data": "markers"
           },
           "name": "_marker text",
           "type": "rule"
          },
          {
           "encode": {
            "enter": {
             "fontSize": {
              "value": 8
             },
             "text": {
              "field": "datum.label"
             },
             "y": {
              "value": 0
             }
            }
           },
           "from": {
            "data": "_marker text"
           },
           "name": "_marker flags",
           "transform": [
            {
             "as": [
              "x",
              "_y",
              "opacity",
              "align",
              "baseline"
             ],
             "lineAnchor": "start",
             "offset": [
              1
             ],
             "size": {
              "signal": "[width, height]"
             },
             "type": "label"
            }
           ],
           "type": "text"
          }
         ],
         "name": "_markers",
         "type": "group"
        }
       ],
       "padding": 5,
       "scales": [
        {
         "domain": {
          "fields": [
           {
            "data": "distributions",
            "field": "timepoint"
           },
           {
            "data": "traces",
            "field": "timepoint"
           },
           {
            "data": "points",
            "field": "timepoint"
           },
           {
            "data": "markers",
            "field": "timepoint"
           }
          ]
         },
         "name": "xscale",
         "range": "width",
         "type": "linear",
         "zero": false
        },
        {
         "domain": {
          "fields": [
           {
            "data": "distributions",
            "field": "lower"
           },
           {
            "data": "distributions",
            "field": "upper"
           },
           {
            "data": "traces",
            "field": "value"
           },
           {
            "data": "points",
            "field": "value"
           }
          ]
         },
         "name": "yscale",
         "nice": true,
         "range": "height",
         "type": "linear",
         "zero": true
        },
        {
         "domain": {
          "fields": [
           {
            "data": "distributions",
            "field": "trajectory"
           },
           {
            "data": "traces",
            "field": "trajectory"
           },
           {
            "data": "points",
            "field": "trajectory"
           }
          ]
         },
         "name": "color",
         "range": "category",
         "type": "ordinal"
        }
       ],
       "signals": [
        {
         "name": "clear",
         "on": [
          {
           "events": "mouseup[!event.item]",
           "force": true,
           "update": "true"
          }
         ],
         "value": true
        },
        {
         "name": "shift",
         "on": [
          {
           "events": "@legendSymbol:click, @legendLabel:click",
           "force": true,
           "update": "event.shiftKey"
          }
         ],
         "value": false
        },
        {
         "name": "clicked",
         "on": [
          {
           "events": "@legendSymbol:click, @legendLabel:click",
           "force": true,
           "update": "{value: datum.value}"
          }
         ],
         "value": null
        }
       ],
       "width": 500
      }
     },
     "metadata": {},
     "output_type": "display_data"
    }
   ],
   "source": [
    "num_samples = 100\n",
    "model_paths = [model2_location]\n",
    "data_path = \"../../notebook/ensemble_eval_sa/datasets/NY_data1.csv\"\n",
    "weights = [1]\n",
    "solution_mappings = [{\"I\": \"I\", \"D\": \"D\"}]\n",
    "\n",
    "# Run the calibration and sampling\n",
    "result1 = load_and_calibrate_and_sample_ensemble_model(\n",
    "    model_paths,\n",
    "    data_path,\n",
    "    weights,\n",
    "    solution_mappings,\n",
    "    num_samples,\n",
    "    timepoints,\n",
    "    verbose=True,\n",
    "    total_population=19340000,\n",
    "    num_iterations=200,\n",
    "    time_unit=\"days\",\n",
    "    visual_options={\"title\": \"Calibrated Ensemble\", \"subset\":\".*_sol\"}\n",
    ")\n",
    "\n",
    "# Save results\n",
    "result1[\"data\"].to_csv(\"../../notebook/ensemble_eval_sa/ensemble_results/partI_ensemble_of_one_results.csv\", index=False)\n",
    "result1[\"quantiles\"].to_csv(\"../../notebook/ensemble_eval_sa/ensemble_results/partI_ensemble_of_one_quantiles.csv\", index=False)\n",
    "\n",
    "# Plot results\n",
    "schema = plots.trajectories(pd.DataFrame(result1[\"data\"]), subset=\".*_sol\",\n",
    "                            points=test_data.reset_index(drop=True).rename(columns={\"I\":\"I_data\", \"H\":\"H_data\", \"D\":\"D_data\"}),\n",
    "                           )\n",
    "schema = plots.pad(schema, 5)\n",
    "plots.ipy_display(schema)"
   ]
  },
  {
   "cell_type": "code",
   "execution_count": 13,
   "id": "5340c65e-abab-41fa-8cc3-36b6b0f98db0",
   "metadata": {},
   "outputs": [],
   "source": [
    "q_ensemble_data = cdc_reformatcsv(filename=\"../../notebook/ensemble_eval_sa/ensemble_results/partI_ensemble_of_one_quantiles.csv\", \n",
    "                                  solution_string_mapping={\"I\": \"cases\", \"D\": \"deaths\"}, \n",
    "                                  forecast_start_date=\"2020-04-02\",\n",
    "                                  location=\"New York State\",\n",
    "                                  drop_column_names=[\"timepoint_id\", \"number_days\", \"inc_cum\", \"output\", \"Forecast_Backcast\"])\n",
    "q_ensemble_data.to_csv(\"../../notebook/ensemble_eval_sa/ensemble_results/partI_ensemble_of_one_forecast_quantiles_Apr032020.csv\")"
   ]
  },
  {
   "cell_type": "code",
   "execution_count": 5,
   "id": "c9c311e6-18f6-455c-b03a-efbd6c70a39f",
   "metadata": {},
   "outputs": [],
   "source": [
    "from pyciemss.utils.interface_utils import cdc_reformatcsv\n",
    "\n",
    "q_ensemble_data = cdc_reformatcsv(filename=\"../../notebook/ensemble_eval_sa/ensemble_results/partI_ensemble_of_one_quantiles.csv\", \n",
    "                                  solution_string_mapping={\"I\": \"cases\", \"D\": \"deaths\"}, \n",
    "                                  forecast_start_date=\"2020-04-03\",\n",
    "                                  location=\"New York State\",\n",
    "                                  drop_column_names=[\"timepoint_id\", \"number_days\", \"inc_cum\", \"output\", \"Forecast_Backcast\"])\n",
    "q_ensemble_data.to_csv(\"../../notebook/ensemble_eval_sa/ensemble_results/partI_ensemble1_quantiles_Apr032020.csv\")"
   ]
  },
  {
   "cell_type": "code",
   "execution_count": 10,
   "id": "6fa25da4-a72d-4789-969a-cfffe3c26ec1",
   "metadata": {},
   "outputs": [
    {
     "name": "stdout",
     "output_type": "stream",
     "text": [
      "iteration 0: loss = 715.3255967199802\n",
      "iteration 25: loss = 675.6244948208332\n",
      "iteration 50: loss = 638.4774799644947\n",
      "iteration 75: loss = 642.9715199768543\n",
      "\n"
     ]
    },
    {
     "data": {
      "application/vnd.vega.v5+json": {
       "$schema": "https://vega.github.io/schema/vega/v5.json",
       "axes": [
        {
         "name": "x_axis",
         "orient": "bottom",
         "scale": "xscale",
         "zindex": 100
        },
        {
         "name": "y_axis",
         "orient": "left",
         "scale": "yscale",
         "zindex": 100
        }
       ],
       "data": [
        {
         "name": "distributions",
         "values": [
          {
           "lower": 8.129795984906678e-23,
           "timepoint": 0,
           "trajectory": "D_sol",
           "upper": 1.869283172802801e-22
          },
          {
           "lower": 0.009195392159745098,
           "timepoint": 1,
           "trajectory": "D_sol",
           "upper": 0.02120939418673515
          },
          {
           "lower": 0.040680609084665774,
           "timepoint": 2,
           "trajectory": "D_sol",
           "upper": 0.09310242943465709
          },
          {
           "lower": 0.10015682652592658,
           "timepoint": 3,
           "trajectory": "D_sol",
           "upper": 0.2255800440907478
          },
          {
           "lower": 0.19400064200162886,
           "timepoint": 4,
           "trajectory": "D_sol",
           "upper": 0.42731460928916926
          },
          {
           "lower": 0.33006933331489563,
           "timepoint": 5,
           "trajectory": "D_sol",
           "upper": 0.707686686515808
          },
          {
           "lower": 0.5183712989091873,
           "timepoint": 6,
           "trajectory": "D_sol",
           "upper": 1.0782492280006408
          },
          {
           "lower": 0.7717493265867233,
           "timepoint": 7,
           "trajectory": "D_sol",
           "upper": 1.5539993762969968
          },
          {
           "lower": 1.0889456152915955,
           "timepoint": 8,
           "trajectory": "D_sol",
           "upper": 2.154620778560638
          },
          {
           "lower": 1.482006949186325,
           "timepoint": 9,
           "trajectory": "D_sol",
           "upper": 2.923536205291748
          },
          {
           "lower": 1.977094930410385,
           "timepoint": 10,
           "trajectory": "D_sol",
           "upper": 3.9036143541336057
          },
          {
           "lower": 2.599220943450928,
           "timepoint": 11,
           "trajectory": "D_sol",
           "upper": 5.14719181060791
          },
          {
           "lower": 3.3803841829299928,
           "timepoint": 12,
           "trajectory": "D_sol",
           "upper": 6.723968291282653
          },
          {
           "lower": 4.361306190490723,
           "timepoint": 13,
           "trajectory": "D_sol",
           "upper": 8.656658697128295
          },
          {
           "lower": 5.62491672039032,
           "timepoint": 14,
           "trajectory": "D_sol",
           "upper": 11.132372665405272
          },
          {
           "lower": 7.147591233253479,
           "timepoint": 15,
           "trajectory": "D_sol",
           "upper": 14.241853809356689
          },
          {
           "lower": 9.18547191619873,
           "timepoint": 16,
           "trajectory": "D_sol",
           "upper": 18.235821533203126
          },
          {
           "lower": 11.75536584854126,
           "timepoint": 17,
           "trajectory": "D_sol",
           "upper": 23.298969554901124
          },
          {
           "lower": 14.987046432495116,
           "timepoint": 18,
           "trajectory": "D_sol",
           "upper": 29.41390085220337
          },
          {
           "lower": 18.906884098052977,
           "timepoint": 19,
           "trajectory": "D_sol",
           "upper": 37.12156295776367
          },
          {
           "lower": 23.37734537124634,
           "timepoint": 20,
           "trajectory": "D_sol",
           "upper": 46.986030197143556
          },
          {
           "lower": 28.991717052459716,
           "timepoint": 21,
           "trajectory": "D_sol",
           "upper": 59.391477394104
          },
          {
           "lower": 36.14739437103272,
           "timepoint": 22,
           "trajectory": "D_sol",
           "upper": 74.68933219909668
          },
          {
           "lower": 44.79570369720459,
           "timepoint": 23,
           "trajectory": "D_sol",
           "upper": 93.29035263061523
          },
          {
           "lower": 55.11869106292725,
           "timepoint": 24,
           "trajectory": "D_sol",
           "upper": 114.9139633178711
          },
          {
           "lower": 67.22755889892578,
           "timepoint": 25,
           "trajectory": "D_sol",
           "upper": 140.1325714111328
          },
          {
           "lower": 81.19499816894532,
           "timepoint": 26,
           "trajectory": "D_sol",
           "upper": 169.04078369140623
          },
          {
           "lower": 97.10609588623046,
           "timepoint": 27,
           "trajectory": "D_sol",
           "upper": 203.0480499267578
          },
          {
           "lower": 114.92138481140137,
           "timepoint": 28,
           "trajectory": "D_sol",
           "upper": 241.27918701171876
          },
          {
           "lower": 134.59198989868165,
           "timepoint": 29,
           "trajectory": "D_sol",
           "upper": 280.6748596191406
          },
          {
           "lower": 156.05046920776368,
           "timepoint": 30,
           "trajectory": "D_sol",
           "upper": 322.0866516113281
          },
          {
           "lower": 179.21392974853515,
           "timepoint": 31,
           "trajectory": "D_sol",
           "upper": 365.79180145263666
          },
          {
           "lower": 201.92758026123047,
           "timepoint": 32,
           "trajectory": "D_sol",
           "upper": 414.63554382324213
          },
          {
           "lower": 225.52768325805664,
           "timepoint": 33,
           "trajectory": "D_sol",
           "upper": 470.17890624999995
          },
          {
           "lower": 253.8099235534668,
           "timepoint": 34,
           "trajectory": "D_sol",
           "upper": 529.1396606445312
          },
          {
           "lower": 281.2460601806641,
           "timepoint": 35,
           "trajectory": "D_sol",
           "upper": 591.0264770507812
          },
          {
           "lower": 307.77574615478517,
           "timepoint": 36,
           "trajectory": "D_sol",
           "upper": 655.9956237792969
          },
          {
           "lower": 334.79797821044923,
           "timepoint": 37,
           "trajectory": "D_sol",
           "upper": 724.6000366210938
          },
          {
           "lower": 362.2222366333008,
           "timepoint": 38,
           "trajectory": "D_sol",
           "upper": 796.5212677001953
          },
          {
           "lower": 389.9698547363281,
           "timepoint": 39,
           "trajectory": "D_sol",
           "upper": 853.2063537597655
          },
          {
           "lower": 417.98401031494143,
           "timepoint": 40,
           "trajectory": "D_sol",
           "upper": 912.2487274169921
          },
          {
           "lower": 446.55190124511716,
           "timepoint": 41,
           "trajectory": "D_sol",
           "upper": 987.574395751953
          },
          {
           "lower": 475.3271743774414,
           "timepoint": 42,
           "trajectory": "D_sol",
           "upper": 1065.385186767578
          },
          {
           "lower": 504.2694610595703,
           "timepoint": 43,
           "trajectory": "D_sol",
           "upper": 1145.652325439453
          },
          {
           "lower": 533.3445037841797,
           "timepoint": 44,
           "trajectory": "D_sol",
           "upper": 1228.3644409179688
          },
          {
           "lower": 562.5238830566407,
           "timepoint": 45,
           "trajectory": "D_sol",
           "upper": 1313.5140563964844
          },
          {
           "lower": 592.0989685058594,
           "timepoint": 46,
           "trajectory": "D_sol",
           "upper": 1390.251483154297
          },
          {
           "lower": 619.8907684326172,
           "timepoint": 47,
           "trajectory": "D_sol",
           "upper": 1490.3149780273438
          },
          {
           "lower": 648.21923828125,
           "timepoint": 48,
           "trajectory": "D_sol",
           "upper": 1586.2981994628906
          },
          {
           "lower": 675.0645812988281,
           "timepoint": 49,
           "trajectory": "D_sol",
           "upper": 1682.944287109375
          },
          {
           "lower": 694.5109222412109,
           "timepoint": 50,
           "trajectory": "D_sol",
           "upper": 1782.30244140625
          },
          {
           "lower": 721.440966796875,
           "timepoint": 51,
           "trajectory": "D_sol",
           "upper": 1884.4114135742186
          },
          {
           "lower": 756.4278686523437,
           "timepoint": 52,
           "trajectory": "D_sol",
           "upper": 1989.315734863281
          },
          {
           "lower": 790.5395904541016,
           "timepoint": 53,
           "trajectory": "D_sol",
           "upper": 2097.0583007812497
          },
          {
           "lower": 818.4375305175781,
           "timepoint": 54,
           "trajectory": "D_sol",
           "upper": 2220.195861816406
          },
          {
           "lower": 846.0798370361329,
           "timepoint": 55,
           "trajectory": "D_sol",
           "upper": 2349.184619140625
          },
          {
           "lower": 862.1521728515626,
           "timepoint": 56,
           "trajectory": "D_sol",
           "upper": 2482.3800659179683
          },
          {
           "lower": 877.5572204589844,
           "timepoint": 57,
           "trajectory": "D_sol",
           "upper": 2619.8402832031247
          },
          {
           "lower": 892.3172241210938,
           "timepoint": 58,
           "trajectory": "D_sol",
           "upper": 2762.1483886718747
          },
          {
           "lower": 906.456463623047,
           "timepoint": 59,
           "trajectory": "D_sol",
           "upper": 2909.4457641601557
          },
          {
           "lower": 100,
           "timepoint": 0,
           "trajectory": "I_sol",
           "upper": 100
          },
          {
           "lower": 158.03851013183595,
           "timepoint": 1,
           "trajectory": "I_sol",
           "upper": 160.25946731567382
          },
          {
           "lower": 215.9977569580078,
           "timepoint": 2,
           "trajectory": "I_sol",
           "upper": 222.2601333618164
          },
          {
           "lower": 281.18033294677736,
           "timepoint": 3,
           "trajectory": "I_sol",
           "upper": 293.5583129882813
          },
          {
           "lower": 358.5369384765625,
           "timepoint": 4,
           "trajectory": "I_sol",
           "upper": 380.46849517822267
          },
          {
           "lower": 452.202458190918,
           "timepoint": 5,
           "trajectory": "I_sol",
           "upper": 489.2892791748047
          },
          {
           "lower": 569.1092681884766,
           "timepoint": 6,
           "trajectory": "I_sol",
           "upper": 627.2043304443359
          },
          {
           "lower": 715.4754791259766,
           "timepoint": 7,
           "trajectory": "I_sol",
           "upper": 802.8915618896484
          },
          {
           "lower": 899.0545959472656,
           "timepoint": 8,
           "trajectory": "I_sol",
           "upper": 1027.1582641601562
          },
          {
           "lower": 1127.9581237792968,
           "timepoint": 9,
           "trajectory": "I_sol",
           "upper": 1313.8645080566407
          },
          {
           "lower": 1414.4902221679688,
           "timepoint": 10,
           "trajectory": "I_sol",
           "upper": 1680.1301147460938
          },
          {
           "lower": 1773.3421875,
           "timepoint": 11,
           "trajectory": "I_sol",
           "upper": 2147.5756713867186
          },
          {
           "lower": 2222.4358520507812,
           "timepoint": 12,
           "trajectory": "I_sol",
           "upper": 2743.953466796875
          },
          {
           "lower": 2783.7064208984375,
           "timepoint": 13,
           "trajectory": "I_sol",
           "upper": 3503.684045410156
          },
          {
           "lower": 3483.6156982421876,
           "timepoint": 14,
           "trajectory": "I_sol",
           "upper": 4469.132543945312
          },
          {
           "lower": 4353.249682617187,
           "timepoint": 15,
           "trajectory": "I_sol",
           "upper": 5691.108862304687
          },
          {
           "lower": 5427.511743164063,
           "timepoint": 16,
           "trajectory": "I_sol",
           "upper": 7227.894702148437
          },
          {
           "lower": 6742.475854492188,
           "timepoint": 17,
           "trajectory": "I_sol",
           "upper": 9141.60361328125
          },
          {
           "lower": 8329.673583984375,
           "timepoint": 18,
           "trajectory": "I_sol",
           "upper": 11488.19931640625
          },
          {
           "lower": 10206.27265625,
           "timepoint": 19,
           "trajectory": "I_sol",
           "upper": 14300.702734375
          },
          {
           "lower": 12361.98720703125,
           "timepoint": 20,
           "trajectory": "I_sol",
           "upper": 17565.56708984375
          },
          {
           "lower": 14747.567578125,
           "timepoint": 21,
           "trajectory": "I_sol",
           "upper": 21216.61357421875
          },
          {
           "lower": 17276.74716796875,
           "timepoint": 22,
           "trajectory": "I_sol",
           "upper": 25090.61767578125
          },
          {
           "lower": 19836.9255859375,
           "timepoint": 23,
           "trajectory": "I_sol",
           "upper": 28985.01162109375
          },
          {
           "lower": 22315.406640625,
           "timepoint": 24,
           "trajectory": "I_sol",
           "upper": 32699.4123046875
          },
          {
           "lower": 24627.8201171875,
           "timepoint": 25,
           "trajectory": "I_sol",
           "upper": 36072.716992187496
          },
          {
           "lower": 26728.29365234375,
           "timepoint": 26,
           "trajectory": "I_sol",
           "upper": 39112.26171874999
          },
          {
           "lower": 28605.40390625,
           "timepoint": 27,
           "trajectory": "I_sol",
           "upper": 41945.07519531249
          },
          {
           "lower": 30037.173828125,
           "timepoint": 28,
           "trajectory": "I_sol",
           "upper": 44432.74218749999
          },
          {
           "lower": 30370.99345703125,
           "timepoint": 29,
           "trajectory": "I_sol",
           "upper": 46660.409374999996
          },
          {
           "lower": 30170.79970703125,
           "timepoint": 30,
           "trajectory": "I_sol",
           "upper": 49035.7322265625
          },
          {
           "lower": 29979.72783203125,
           "timepoint": 31,
           "trajectory": "I_sol",
           "upper": 51031.802734375
          },
          {
           "lower": 29823.8623046875,
           "timepoint": 32,
           "trajectory": "I_sol",
           "upper": 52998.17265625
          },
          {
           "lower": 29063.53212890625,
           "timepoint": 33,
           "trajectory": "I_sol",
           "upper": 55073.0591796875
          },
          {
           "lower": 27950.01220703125,
           "timepoint": 34,
           "trajectory": "I_sol",
           "upper": 57381.3041015625
          },
          {
           "lower": 26802.77958984375,
           "timepoint": 35,
           "trajectory": "I_sol",
           "upper": 59681.2708984375
          },
          {
           "lower": 25648.37939453125,
           "timepoint": 36,
           "trajectory": "I_sol",
           "upper": 61960.3154296875
          },
          {
           "lower": 24499.88046875,
           "timepoint": 37,
           "trajectory": "I_sol",
           "upper": 64047.7833984375
          },
          {
           "lower": 23371.0244140625,
           "timepoint": 38,
           "trajectory": "I_sol",
           "upper": 65778.048046875
          },
          {
           "lower": 22334.577734375,
           "timepoint": 39,
           "trajectory": "I_sol",
           "upper": 67871.474609375
          },
          {
           "lower": 21702.677734375,
           "timepoint": 40,
           "trajectory": "I_sol",
           "upper": 70216.90664062499
          },
          {
           "lower": 21251.7787109375,
           "timepoint": 41,
           "trajectory": "I_sol",
           "upper": 72630.112109375
          },
          {
           "lower": 20805.66875,
           "timepoint": 42,
           "trajectory": "I_sol",
           "upper": 75115.30859375
          },
          {
           "lower": 20365.8240234375,
           "timepoint": 43,
           "trajectory": "I_sol",
           "upper": 77676.215625
          },
          {
           "lower": 19933.201171875,
           "timepoint": 44,
           "trajectory": "I_sol",
           "upper": 80315.7984375
          },
          {
           "lower": 19508.419335937502,
           "timepoint": 45,
           "trajectory": "I_sol",
           "upper": 83036.955859375
          },
          {
           "lower": 18862.96357421875,
           "timepoint": 46,
           "trajectory": "I_sol",
           "upper": 85842.30468749999
          },
          {
           "lower": 18107.65244140625,
           "timepoint": 47,
           "trajectory": "I_sol",
           "upper": 88734.38124999999
          },
          {
           "lower": 17381.3630859375,
           "timepoint": 48,
           "trajectory": "I_sol",
           "upper": 91940.046484375
          },
          {
           "lower": 16683.289697265627,
           "timepoint": 49,
           "trajectory": "I_sol",
           "upper": 95663.788671875
          },
          {
           "lower": 16012.621289062501,
           "timepoint": 50,
           "trajectory": "I_sol",
           "upper": 99528.78046874999
          },
          {
           "lower": 15368.411669921876,
           "timepoint": 51,
           "trajectory": "I_sol",
           "upper": 103539.51289062499
          },
          {
           "lower": 14749.7861328125,
           "timepoint": 52,
           "trajectory": "I_sol",
           "upper": 107700.787890625
          },
          {
           "lower": 14155.80458984375,
           "timepoint": 53,
           "trajectory": "I_sol",
           "upper": 112017.36875
          },
          {
           "lower": 13585.550634765625,
           "timepoint": 54,
           "trajectory": "I_sol",
           "upper": 116493.978515625
          },
          {
           "lower": 13038.130908203126,
           "timepoint": 55,
           "trajectory": "I_sol",
           "upper": 121039.116796875
          },
          {
           "lower": 12512.652001953125,
           "timepoint": 56,
           "trajectory": "I_sol",
           "upper": 125263.69570312499
          },
          {
           "lower": 12008.2728515625,
           "timepoint": 57,
           "trajectory": "I_sol",
           "upper": 129618.938671875
          },
          {
           "lower": 11524.162744140625,
           "timepoint": 58,
           "trajectory": "I_sol",
           "upper": 134107.6171875
          },
          {
           "lower": 11059.522021484376,
           "timepoint": 59,
           "trajectory": "I_sol",
           "upper": 138732.303125
          }
         ]
        },
        {
         "name": "traces",
         "transform": [
          {
           "expr": "isValid(datum.value)",
           "type": "filter"
          }
         ],
         "values": []
        },
        {
         "name": "points",
         "values": [
          {
           "sample_id": 0,
           "timepoint": 0,
           "trajectory": "I_data",
           "value": 1
          },
          {
           "sample_id": 0,
           "timepoint": 1,
           "trajectory": "I_data",
           "value": 10
          },
          {
           "sample_id": 0,
           "timepoint": 2,
           "trajectory": "I_data",
           "value": 21
          },
          {
           "sample_id": 0,
           "timepoint": 3,
           "trajectory": "I_data",
           "value": 24
          },
          {
           "sample_id": 0,
           "timepoint": 4,
           "trajectory": "I_data",
           "value": 76
          },
          {
           "sample_id": 0,
           "timepoint": 5,
           "trajectory": "I_data",
           "value": 104
          },
          {
           "sample_id": 0,
           "timepoint": 6,
           "trajectory": "I_data",
           "value": 128
          },
          {
           "sample_id": 0,
           "timepoint": 7,
           "trajectory": "I_data",
           "value": 131
          },
          {
           "sample_id": 0,
           "timepoint": 8,
           "trajectory": "I_data",
           "value": 192
          },
          {
           "sample_id": 0,
           "timepoint": 9,
           "trajectory": "I_data",
           "value": 220
          },
          {
           "sample_id": 0,
           "timepoint": 10,
           "trajectory": "I_data",
           "value": 274
          },
          {
           "sample_id": 0,
           "timepoint": 11,
           "trajectory": "I_data",
           "value": 394
          },
          {
           "sample_id": 0,
           "timepoint": 12,
           "trajectory": "I_data",
           "value": 481
          },
          {
           "sample_id": 0,
           "timepoint": 13,
           "trajectory": "I_data",
           "value": 745
          },
          {
           "sample_id": 0,
           "timepoint": 14,
           "trajectory": "I_data",
           "value": 1111
          },
          {
           "sample_id": 0,
           "timepoint": 15,
           "trajectory": "I_data",
           "value": 2128
          },
          {
           "sample_id": 0,
           "timepoint": 16,
           "trajectory": "I_data",
           "value": 3671
          },
          {
           "sample_id": 0,
           "timepoint": 17,
           "trajectory": "I_data",
           "value": 6578
          },
          {
           "sample_id": 0,
           "timepoint": 18,
           "trajectory": "I_data",
           "value": 9449
          },
          {
           "sample_id": 0,
           "timepoint": 19,
           "trajectory": "I_data",
           "value": 13761
          },
          {
           "sample_id": 0,
           "timepoint": 20,
           "trajectory": "I_data",
           "value": 18270
          },
          {
           "sample_id": 0,
           "timepoint": 21,
           "trajectory": "I_data",
           "value": 21478
          },
          {
           "sample_id": 0,
           "timepoint": 22,
           "trajectory": "I_data",
           "value": 23630
          },
          {
           "sample_id": 0,
           "timepoint": 23,
           "trajectory": "I_data",
           "value": 26987
          },
          {
           "sample_id": 0,
           "timepoint": 24,
           "trajectory": "I_data",
           "value": 29533
          },
          {
           "sample_id": 0,
           "timepoint": 25,
           "trajectory": "I_data",
           "value": 31623
          },
          {
           "sample_id": 0,
           "timepoint": 26,
           "trajectory": "I_data",
           "value": 33967
          },
          {
           "sample_id": 0,
           "timepoint": 27,
           "trajectory": "I_data",
           "value": 35822
          },
          {
           "sample_id": 0,
           "timepoint": 28,
           "trajectory": "I_data",
           "value": 38456
          },
          {
           "sample_id": 0,
           "timepoint": 29,
           "trajectory": "I_data",
           "value": 45676
          },
          {
           "sample_id": 0,
           "timepoint": 30,
           "trajectory": "I_data",
           "value": 48380
          },
          {
           "sample_id": 0,
           "timepoint": 31,
           "trajectory": "I_data",
           "value": 51807
          },
          {
           "sample_id": 0,
           "timepoint": 32,
           "trajectory": "I_data",
           "value": 55042
          },
          {
           "sample_id": 0,
           "timepoint": 33,
           "trajectory": "I_data",
           "value": 56847
          },
          {
           "sample_id": 0,
           "timepoint": 34,
           "trajectory": "I_data",
           "value": 52184
          },
          {
           "sample_id": 0,
           "timepoint": 35,
           "trajectory": "I_data",
           "value": 49194
          },
          {
           "sample_id": 0,
           "timepoint": 36,
           "trajectory": "I_data",
           "value": 48730
          },
          {
           "sample_id": 0,
           "timepoint": 37,
           "trajectory": "I_data",
           "value": 50551
          },
          {
           "sample_id": 0,
           "timepoint": 38,
           "trajectory": "I_data",
           "value": 51029
          },
          {
           "sample_id": 0,
           "timepoint": 39,
           "trajectory": "I_data",
           "value": 49701
          },
          {
           "sample_id": 0,
           "timepoint": 40,
           "trajectory": "I_data",
           "value": 50661
          },
          {
           "sample_id": 0,
           "timepoint": 41,
           "trajectory": "I_data",
           "value": 48303
          },
          {
           "sample_id": 0,
           "timepoint": 42,
           "trajectory": "I_data",
           "value": 43703
          },
          {
           "sample_id": 0,
           "timepoint": 43,
           "trajectory": "I_data",
           "value": 38888
          },
          {
           "sample_id": 0,
           "timepoint": 44,
           "trajectory": "I_data",
           "value": 38244
          },
          {
           "sample_id": 0,
           "timepoint": 45,
           "trajectory": "I_data",
           "value": 36857
          },
          {
           "sample_id": 0,
           "timepoint": 46,
           "trajectory": "I_data",
           "value": 35881
          },
          {
           "sample_id": 0,
           "timepoint": 47,
           "trajectory": "I_data",
           "value": 35054
          },
          {
           "sample_id": 0,
           "timepoint": 48,
           "trajectory": "I_data",
           "value": 34782
          },
          {
           "sample_id": 0,
           "timepoint": 49,
           "trajectory": "I_data",
           "value": 31526
          },
          {
           "sample_id": 0,
           "timepoint": 50,
           "trajectory": "I_data",
           "value": 28799
          },
          {
           "sample_id": 0,
           "timepoint": 51,
           "trajectory": "I_data",
           "value": 27419
          },
          {
           "sample_id": 0,
           "timepoint": 52,
           "trajectory": "I_data",
           "value": 27443
          },
          {
           "sample_id": 0,
           "timepoint": 53,
           "trajectory": "I_data",
           "value": 30499
          },
          {
           "sample_id": 0,
           "timepoint": 54,
           "trajectory": "I_data",
           "value": 31543
          },
          {
           "sample_id": 0,
           "timepoint": 55,
           "trajectory": "I_data",
           "value": 31597
          },
          {
           "sample_id": 0,
           "timepoint": 56,
           "trajectory": "I_data",
           "value": 29008
          },
          {
           "sample_id": 0,
           "timepoint": 57,
           "trajectory": "I_data",
           "value": 25476
          },
          {
           "sample_id": 0,
           "timepoint": 58,
           "trajectory": "I_data",
           "value": 20411
          },
          {
           "sample_id": 0,
           "timepoint": 59,
           "trajectory": "I_data",
           "value": 19224
          },
          {
           "sample_id": 0,
           "timepoint": 38,
           "trajectory": "H_data",
           "value": 0
          },
          {
           "sample_id": 0,
           "timepoint": 39,
           "trajectory": "H_data",
           "value": 0
          },
          {
           "sample_id": 0,
           "timepoint": 45,
           "trajectory": "H_data",
           "value": 0
          },
          {
           "sample_id": 0,
           "timepoint": 46,
           "trajectory": "H_data",
           "value": 1
          },
          {
           "sample_id": 0,
           "timepoint": 52,
           "trajectory": "H_data",
           "value": 0
          },
          {
           "sample_id": 0,
           "timepoint": 53,
           "trajectory": "H_data",
           "value": 0
          },
          {
           "sample_id": 0,
           "timepoint": 54,
           "trajectory": "H_data",
           "value": 1
          },
          {
           "sample_id": 0,
           "timepoint": 55,
           "trajectory": "H_data",
           "value": 0
          },
          {
           "sample_id": 0,
           "timepoint": 56,
           "trajectory": "H_data",
           "value": 0
          },
          {
           "sample_id": 0,
           "timepoint": 57,
           "trajectory": "H_data",
           "value": 0
          },
          {
           "sample_id": 0,
           "timepoint": 58,
           "trajectory": "H_data",
           "value": 0
          },
          {
           "sample_id": 0,
           "timepoint": 59,
           "trajectory": "H_data",
           "value": 0
          },
          {
           "sample_id": 0,
           "timepoint": 0,
           "trajectory": "D_data",
           "value": 0
          },
          {
           "sample_id": 0,
           "timepoint": 1,
           "trajectory": "D_data",
           "value": 0
          },
          {
           "sample_id": 0,
           "timepoint": 2,
           "trajectory": "D_data",
           "value": 0
          },
          {
           "sample_id": 0,
           "timepoint": 3,
           "trajectory": "D_data",
           "value": 0
          },
          {
           "sample_id": 0,
           "timepoint": 4,
           "trajectory": "D_data",
           "value": 0
          },
          {
           "sample_id": 0,
           "timepoint": 5,
           "trajectory": "D_data",
           "value": 0
          },
          {
           "sample_id": 0,
           "timepoint": 6,
           "trajectory": "D_data",
           "value": 0
          },
          {
           "sample_id": 0,
           "timepoint": 7,
           "trajectory": "D_data",
           "value": 0
          },
          {
           "sample_id": 0,
           "timepoint": 8,
           "trajectory": "D_data",
           "value": 1
          },
          {
           "sample_id": 0,
           "timepoint": 9,
           "trajectory": "D_data",
           "value": 1
          },
          {
           "sample_id": 0,
           "timepoint": 10,
           "trajectory": "D_data",
           "value": 1
          },
          {
           "sample_id": 0,
           "timepoint": 11,
           "trajectory": "D_data",
           "value": 4
          },
          {
           "sample_id": 0,
           "timepoint": 12,
           "trajectory": "D_data",
           "value": 9
          },
          {
           "sample_id": 0,
           "timepoint": 13,
           "trajectory": "D_data",
           "value": 19
          },
          {
           "sample_id": 0,
           "timepoint": 14,
           "trajectory": "D_data",
           "value": 30
          },
          {
           "sample_id": 0,
           "timepoint": 15,
           "trajectory": "D_data",
           "value": 51
          },
          {
           "sample_id": 0,
           "timepoint": 16,
           "trajectory": "D_data",
           "value": 77
          },
          {
           "sample_id": 0,
           "timepoint": 17,
           "trajectory": "D_data",
           "value": 129
          },
          {
           "sample_id": 0,
           "timepoint": 18,
           "trajectory": "D_data",
           "value": 175
          },
          {
           "sample_id": 0,
           "timepoint": 19,
           "trajectory": "D_data",
           "value": 226
          },
          {
           "sample_id": 0,
           "timepoint": 20,
           "trajectory": "D_data",
           "value": 315
          },
          {
           "sample_id": 0,
           "timepoint": 21,
           "trajectory": "D_data",
           "value": 427
          },
          {
           "sample_id": 0,
           "timepoint": 22,
           "trajectory": "D_data",
           "value": 565
          },
          {
           "sample_id": 0,
           "timepoint": 23,
           "trajectory": "D_data",
           "value": 759
          },
          {
           "sample_id": 0,
           "timepoint": 24,
           "trajectory": "D_data",
           "value": 984
          },
          {
           "sample_id": 0,
           "timepoint": 25,
           "trajectory": "D_data",
           "value": 1285
          },
          {
           "sample_id": 0,
           "timepoint": 26,
           "trajectory": "D_data",
           "value": 1603
          },
          {
           "sample_id": 0,
           "timepoint": 27,
           "trajectory": "D_data",
           "value": 1930
          },
          {
           "sample_id": 0,
           "timepoint": 28,
           "trajectory": "D_data",
           "value": 2334
          },
          {
           "sample_id": 0,
           "timepoint": 29,
           "trajectory": "D_data",
           "value": 2859
          },
          {
           "sample_id": 0,
           "timepoint": 30,
           "trajectory": "D_data",
           "value": 3420
          },
          {
           "sample_id": 0,
           "timepoint": 31,
           "trajectory": "D_data",
           "value": 3989
          },
          {
           "sample_id": 0,
           "timepoint": 32,
           "trajectory": "D_data",
           "value": 4634
          },
          {
           "sample_id": 0,
           "timepoint": 33,
           "trajectory": "D_data",
           "value": 5384
          },
          {
           "sample_id": 0,
           "timepoint": 34,
           "trajectory": "D_data",
           "value": 6185
          },
          {
           "sample_id": 0,
           "timepoint": 35,
           "trajectory": "D_data",
           "value": 7241
          },
          {
           "sample_id": 0,
           "timepoint": 36,
           "trajectory": "D_data",
           "value": 7985
          },
          {
           "sample_id": 0,
           "timepoint": 37,
           "trajectory": "D_data",
           "value": 8846
          },
          {
           "sample_id": 0,
           "timepoint": 38,
           "trajectory": "D_data",
           "value": 9579
          },
          {
           "sample_id": 0,
           "timepoint": 39,
           "trajectory": "D_data",
           "value": 10345
          },
          {
           "sample_id": 0,
           "timepoint": 40,
           "trajectory": "D_data",
           "value": 11126
          },
          {
           "sample_id": 0,
           "timepoint": 41,
           "trajectory": "D_data",
           "value": 11930
          },
          {
           "sample_id": 0,
           "timepoint": 42,
           "trajectory": "D_data",
           "value": 12669
          },
          {
           "sample_id": 0,
           "timepoint": 43,
           "trajectory": "D_data",
           "value": 13332
          },
          {
           "sample_id": 0,
           "timepoint": 44,
           "trajectory": "D_data",
           "value": 13987
          },
          {
           "sample_id": 0,
           "timepoint": 45,
           "trajectory": "D_data",
           "value": 14371
          },
          {
           "sample_id": 0,
           "timepoint": 46,
           "trajectory": "D_data",
           "value": 14780
          },
          {
           "sample_id": 0,
           "timepoint": 47,
           "trajectory": "D_data",
           "value": 15225
          },
          {
           "sample_id": 0,
           "timepoint": 48,
           "trajectory": "D_data",
           "value": 16116
          },
          {
           "sample_id": 0,
           "timepoint": 49,
           "trajectory": "D_data",
           "value": 16639
          },
          {
           "sample_id": 0,
           "timepoint": 50,
           "trajectory": "D_data",
           "value": 17091
          },
          {
           "sample_id": 0,
           "timepoint": 51,
           "trajectory": "D_data",
           "value": 17647
          },
          {
           "sample_id": 0,
           "timepoint": 52,
           "trajectory": "D_data",
           "value": 18132
          },
          {
           "sample_id": 0,
           "timepoint": 53,
           "trajectory": "D_data",
           "value": 18523
          },
          {
           "sample_id": 0,
           "timepoint": 54,
           "trajectory": "D_data",
           "value": 18882
          },
          {
           "sample_id": 0,
           "timepoint": 55,
           "trajectory": "D_data",
           "value": 19292
          },
          {
           "sample_id": 0,
           "timepoint": 56,
           "trajectory": "D_data",
           "value": 19602
          },
          {
           "sample_id": 0,
           "timepoint": 57,
           "trajectory": "D_data",
           "value": 20000
          },
          {
           "sample_id": 0,
           "timepoint": 58,
           "trajectory": "D_data",
           "value": 20334
          },
          {
           "sample_id": 0,
           "timepoint": 59,
           "trajectory": "D_data",
           "value": 20662
          }
         ]
        },
        {
         "name": "markers",
         "values": []
        },
        {
         "name": "selected",
         "on": [
          {
           "remove": true,
           "trigger": "clear"
          },
          {
           "remove": true,
           "trigger": "!shift"
          },
          {
           "insert": "clicked",
           "trigger": "!shift && clicked"
          },
          {
           "toggle": "clicked",
           "trigger": "shift && clicked"
          }
         ]
        }
       ],
       "height": 300,
       "legends": [
        {
         "encode": {
          "labels": {
           "interactive": true,
           "name": "legendLabel",
           "update": {
            "opacity": [
             {
              "test": "!length(data('selected')) || indata('selected', 'value', datum.value)",
              "value": 1
             },
             {
              "value": 0.25
             }
            ]
           }
          },
          "symbols": {
           "interactive": true,
           "name": "legendSymbol",
           "update": {
            "fill": {
             "value": "transparent"
            },
            "opacity": [
             {
              "test": "!length(data('selected')) || indata('selected', 'value', datum.value)",
              "value": 0.7
             },
             {
              "value": 0.15
             }
            ],
            "size": {
             "value": 64
            },
            "strokeWidth": {
             "value": 2
            }
           }
          }
         },
         "name": "color_legend",
         "stroke": "color"
        }
       ],
       "marks": [
        {
         "from": {
          "facet": {
           "data": "points",
           "groupby": "trajectory",
           "name": "points_split"
          }
         },
         "marks": [
          {
           "encode": {
            "hover": {
             "fillOpacity": {
              "value": 0.9
             }
            },
            "update": {
             "fill": {
              "field": "trajectory",
              "scale": "color"
             },
             "fillOpacity": [
              {
               "test": "!length(data('selected')) || indata('selected', 'value', datum.trajectory)",
               "value": 0.5
              },
              {
               "value": 0.15
              }
             ],
             "size": {
              "value": 10
             },
             "stroke": {
              "field": "trajectory",
              "scale": "color"
             },
             "strokeOpacity": [
              {
               "test": "!length(data('selected')) || indata('selected', 'value', datum.trajectory)",
               "value": 0.75
              },
              {
               "value": 0.15
              }
             ],
             "strokeWidth": {
              "value": 2
             },
             "tooltip": {
              "field": "value"
             },
             "x": {
              "field": "timepoint",
              "scale": "xscale"
             },
             "y": {
              "field": "value",
              "scale": "yscale"
             }
            }
           },
           "from": {
            "data": "points"
           },
           "name": "_points_symbol",
           "type": "symbol",
           "zindex": 3
          },
          {
           "encode": {
            "hover": {
             "fillOpacity": {
              "value": 0.9
             }
            },
            "update": {
             "interpolate": {
              "value": "linear"
             },
             "stroke": {
              "field": "trajectory",
              "scale": "color"
             },
             "strokeOpacity": [
              {
               "test": "!length(data('selected')) || indata('selected', 'value', datum.trajectory)",
               "value": 0.3
              },
              {
               "value": 0.1
              }
             ],
             "strokeWidth": {
              "value": 2
             },
             "x": {
              "field": "timepoint",
              "scale": "xscale"
             },
             "y": {
              "field": "value",
              "scale": "yscale"
             }
            }
           },
           "from": {
            "data": "points"
           },
           "name": "_points_line",
           "type": "line",
           "zindex": 3
          }
         ],
         "name": "_points",
         "type": "group",
         "zindex": 3
        },
        {
         "from": {
          "facet": {
           "data": "traces",
           "groupby": "trajectory",
           "name": "traces_split"
          }
         },
         "marks": [
          {
           "encode": {
            "hover": {
             "fillOpacity": {
              "value": 0.9
             }
            },
            "update": {
             "interpolate": {
              "value": "linear"
             },
             "stroke": {
              "field": "trajectory",
              "scale": "color"
             },
             "strokeOpacity": [
              {
               "test": "!length(data('selected')) || indata('selected', 'value', datum.trajectory)",
               "value": 0.75
              },
              {
               "value": 0.15
              }
             ],
             "strokeWidth": {
              "value": 2
             },
             "x": {
              "field": "timepoint",
              "scale": "xscale"
             },
             "y": {
              "field": "value",
              "scale": "yscale"
             }
            }
           },
           "from": {
            "data": "traces_split"
           },
           "name": "_traces_lines",
           "type": "line"
          }
         ],
         "name": "_traces",
         "type": "group",
         "zindex": 2
        },
        {
         "from": {
          "facet": {
           "data": "distributions",
           "groupby": "trajectory",
           "name": "trajectory_split"
          }
         },
         "marks": [
          {
           "encode": {
            "hover": {
             "fillOpacity": {
              "value": 0.9
             }
            },
            "update": {
             "fill": {
              "field": "trajectory",
              "scale": "color"
             },
             "fillOpacity": [
              {
               "test": "!length(data('selected')) || indata('selected', 'value', datum.trajectory)",
               "value": 0.5
              },
              {
               "value": 0.15
              }
             ],
             "interpolate": {
              "value": "linear"
             },
             "stroke": {
              "field": "trajectory",
              "scale": "color"
             },
             "strokeOpacity": [
              {
               "test": "!length(data('selected')) || indata('selected', 'value', datum.trajectory)",
               "value": 0.75
              },
              {
               "value": 0.15
              }
             ],
             "strokeWidth": {
              "value": 2
             },
             "x": {
              "field": "timepoint",
              "scale": "xscale"
             },
             "y": {
              "field": "upper",
              "scale": "yscale"
             },
             "y2": {
              "field": "lower",
              "scale": "yscale"
             }
            }
           },
           "from": {
            "data": "trajectory_split"
           },
           "type": "area"
          }
         ],
         "name": "_distributions",
         "type": "group",
         "zindex": 1
        },
        {
         "marks": [
          {
           "encode": {
            "enter": {
             "stroke": {
              "value": "lightgray"
             }
            },
            "update": {
             "opacity": {
              "value": 1
             },
             "x": {
              "field": "timepoint",
              "scale": "xscale"
             },
             "y": {
              "signal": "height"
             },
             "y2": {
              "value": 0
             }
            }
           },
           "from": {
            "data": "markers"
           },
           "name": "_marker text",
           "type": "rule"
          },
          {
           "encode": {
            "enter": {
             "fontSize": {
              "value": 8
             },
             "text": {
              "field": "datum.label"
             },
             "y": {
              "value": 0
             }
            }
           },
           "from": {
            "data": "_marker text"
           },
           "name": "_marker flags",
           "transform": [
            {
             "as": [
              "x",
              "_y",
              "opacity",
              "align",
              "baseline"
             ],
             "lineAnchor": "start",
             "offset": [
              1
             ],
             "size": {
              "signal": "[width, height]"
             },
             "type": "label"
            }
           ],
           "type": "text"
          }
         ],
         "name": "_markers",
         "type": "group"
        }
       ],
       "padding": 5,
       "scales": [
        {
         "domain": {
          "fields": [
           {
            "data": "distributions",
            "field": "timepoint"
           },
           {
            "data": "traces",
            "field": "timepoint"
           },
           {
            "data": "points",
            "field": "timepoint"
           },
           {
            "data": "markers",
            "field": "timepoint"
           }
          ]
         },
         "name": "xscale",
         "range": "width",
         "type": "linear",
         "zero": false
        },
        {
         "domain": {
          "fields": [
           {
            "data": "distributions",
            "field": "lower"
           },
           {
            "data": "distributions",
            "field": "upper"
           },
           {
            "data": "traces",
            "field": "value"
           },
           {
            "data": "points",
            "field": "value"
           }
          ]
         },
         "name": "yscale",
         "nice": true,
         "range": "height",
         "type": "linear",
         "zero": true
        },
        {
         "domain": {
          "fields": [
           {
            "data": "distributions",
            "field": "trajectory"
           },
           {
            "data": "traces",
            "field": "trajectory"
           },
           {
            "data": "points",
            "field": "trajectory"
           }
          ]
         },
         "name": "color",
         "range": "category",
         "type": "ordinal"
        }
       ],
       "signals": [
        {
         "name": "clear",
         "on": [
          {
           "events": "mouseup[!event.item]",
           "force": true,
           "update": "true"
          }
         ],
         "value": true
        },
        {
         "name": "shift",
         "on": [
          {
           "events": "@legendSymbol:click, @legendLabel:click",
           "force": true,
           "update": "event.shiftKey"
          }
         ],
         "value": false
        },
        {
         "name": "clicked",
         "on": [
          {
           "events": "@legendSymbol:click, @legendLabel:click",
           "force": true,
           "update": "{value: datum.value}"
          }
         ],
         "value": null
        }
       ],
       "width": 500
      }
     },
     "metadata": {},
     "output_type": "display_data"
    }
   ],
   "source": [
    "num_samples = 100\n",
    "model_paths = [model6_location]\n",
    "data_path = \"../../notebook/ensemble_eval_sa/datasets/NY_data1.csv\"\n",
    "weights = [1]\n",
    "solution_mappings = [{\"I\": \"infected\", \"D\": \"dead\"}]\n",
    "\n",
    "# Run the calibration and sampling\n",
    "result2 = load_and_calibrate_and_sample_ensemble_model(\n",
    "    model_paths,\n",
    "    data_path,\n",
    "    weights,\n",
    "    solution_mappings,\n",
    "    num_samples,\n",
    "    timepoints,\n",
    "    verbose=True,\n",
    "    total_population=19340000,\n",
    "    num_iterations=100,\n",
    "    time_unit=\"days\",\n",
    "    visual_options={\"title\": \"Calibrated Ensemble\", \"subset\":\".*_sol\"}\n",
    ")\n",
    "\n",
    "# # Save results\n",
    "# result2[\"data\"].to_csv(\"../../notebook/ensemble_eval_sa/ensemble_results/partI_ensemble_of_one_results.csv\", index=False)\n",
    "# result2[\"quantiles\"].to_csv(\"../../notebook/ensemble_eval_sa/ensemble_results/partI_ensemble_of_one_quantiles.csv\", index=False)\n",
    "\n",
    "# Plot results\n",
    "schema = plots.trajectories(pd.DataFrame(result2[\"data\"]), subset=\".*_sol\",\n",
    "                            points=test_data.reset_index(drop=True).rename(columns={\"I\":\"I_data\", \"H\":\"H_data\", \"D\":\"D_data\"}),\n",
    "                           )\n",
    "schema = plots.pad(schema, 5)\n",
    "plots.ipy_display(schema)"
   ]
  },
  {
   "cell_type": "code",
   "execution_count": null,
   "id": "654bb2a6-f7dd-45bb-9ebe-183ac72bd67e",
   "metadata": {},
   "outputs": [],
   "source": [
    "num_samples = 100\n",
    "model_paths = [model7_location]\n",
    "data_path = \"../../notebook/ensemble_eval_sa/datasets/NY_data1.csv\"\n",
    "weights = [1]\n",
    "solution_mappings = [{\"I\": \"infected\", \"D\": \"dead\"}]\n",
    "\n",
    "# Run the calibration and sampling\n",
    "result3 = load_and_calibrate_and_sample_ensemble_model(\n",
    "    model_paths,\n",
    "    data_path,\n",
    "    weights,\n",
    "    solution_mappings,\n",
    "    num_samples,\n",
    "    timepoints,\n",
    "    verbose=True,\n",
    "    total_population=19340000,\n",
    "    num_iterations=50,\n",
    "    time_unit=\"days\",\n",
    "    visual_options={\"title\": \"Calibrated Ensemble\", \"subset\":\".*_sol\"}\n",
    ")\n",
    "\n",
    "# # Save results\n",
    "# result3[\"data\"].to_csv(\"../../notebook/ensemble_eval_sa/ensemble_results/partI_ensemble_of_one_results.csv\", index=False)\n",
    "# result3[\"quantiles\"].to_csv(\"../../notebook/ensemble_eval_sa/ensemble_results/partI_ensemble_of_one_quantiles.csv\", index=False)\n",
    "\n",
    "# Plot results\n",
    "schema = plots.trajectories(pd.DataFrame(result3[\"data\"]), subset=\".*_sol\",\n",
    "                            points=test_data.reset_index(drop=True).rename(columns={\"I\":\"I_data\", \"H\":\"H_data\", \"D\":\"D_data\"}),\n",
    "                           )\n",
    "schema = plots.pad(schema, 5)\n",
    "plots.ipy_display(schema)"
   ]
  },
  {
   "cell_type": "markdown",
   "id": "2ded2349-d56b-4fe5-a685-06b37cc78831",
   "metadata": {},
   "source": [
    "# Calibrate and sample an ensemble of multiple models"
   ]
  },
  {
   "cell_type": "code",
   "execution_count": 15,
   "id": "5220df5c-61a0-47ad-ac94-fc543e8cb523",
   "metadata": {},
   "outputs": [
    {
     "name": "stdout",
     "output_type": "stream",
     "text": [
      "iteration 0: loss = 761.4443605840206\n",
      "iteration 25: loss = 712.9313370883465\n",
      "iteration 50: loss = 671.0650566518307\n",
      "iteration 75: loss = 661.8866200149059\n",
      "iteration 100: loss = 654.9951612651348\n",
      "iteration 125: loss = 653.0296294391155\n",
      "iteration 150: loss = 646.1243288218975\n",
      "iteration 175: loss = 642.5922975242138\n",
      "iteration 200: loss = 658.0765850245953\n",
      "iteration 225: loss = 647.7782174050808\n",
      "iteration 250: loss = 643.6870386302471\n",
      "iteration 275: loss = 641.5523419082165\n",
      "\n"
     ]
    },
    {
     "data": {
      "application/vnd.vega.v5+json": {
       "$schema": "https://vega.github.io/schema/vega/v5.json",
       "axes": [
        {
         "name": "x_axis",
         "orient": "bottom",
         "scale": "xscale",
         "zindex": 100
        },
        {
         "name": "y_axis",
         "orient": "left",
         "scale": "yscale",
         "zindex": 100
        }
       ],
       "data": [
        {
         "name": "distributions",
         "values": [
          {
           "lower": 1.5345922099115962e-22,
           "timepoint": 0,
           "trajectory": "D_sol",
           "upper": 1.0885495266215793e-21
          },
          {
           "lower": 0.01773000042885542,
           "timepoint": 1,
           "trajectory": "D_sol",
           "upper": 0.12218268066644666
          },
          {
           "lower": 0.08264308758080005,
           "timepoint": 2,
           "trajectory": "D_sol",
           "upper": 0.5338416039943694
          },
          {
           "lower": 0.21128887981176378,
           "timepoint": 3,
           "trajectory": "D_sol",
           "upper": 1.2947949469089506
          },
          {
           "lower": 0.41496180891990664,
           "timepoint": 4,
           "trajectory": "D_sol",
           "upper": 2.466116654872894
          },
          {
           "lower": 0.704629185795784,
           "timepoint": 5,
           "trajectory": "D_sol",
           "upper": 4.120484018325805
          },
          {
           "lower": 1.0924238175153733,
           "timepoint": 6,
           "trajectory": "D_sol",
           "upper": 6.349932289123535
          },
          {
           "lower": 1.593145126104355,
           "timepoint": 7,
           "trajectory": "D_sol",
           "upper": 9.126845455169677
          },
          {
           "lower": 2.2255866110324862,
           "timepoint": 8,
           "trajectory": "D_sol",
           "upper": 12.484558868408202
          },
          {
           "lower": 3.0138442516326904,
           "timepoint": 9,
           "trajectory": "D_sol",
           "upper": 16.941216659545898
          },
          {
           "lower": 3.988716995716095,
           "timepoint": 10,
           "trajectory": "D_sol",
           "upper": 22.875938892364502
          },
          {
           "lower": 5.189279079437256,
           "timepoint": 11,
           "trajectory": "D_sol",
           "upper": 30.438096141815183
          },
          {
           "lower": 6.664697194099427,
           "timepoint": 12,
           "trajectory": "D_sol",
           "upper": 39.87974662780762
          },
          {
           "lower": 8.476311469078064,
           "timepoint": 13,
           "trajectory": "D_sol",
           "upper": 51.35237827301025
          },
          {
           "lower": 10.700008726119995,
           "timepoint": 14,
           "trajectory": "D_sol",
           "upper": 65.69237632751464
          },
          {
           "lower": 13.42879228591919,
           "timepoint": 15,
           "trajectory": "D_sol",
           "upper": 83.60522270202635
          },
          {
           "lower": 16.775378942489624,
           "timepoint": 16,
           "trajectory": "D_sol",
           "upper": 105.95965499877927
          },
          {
           "lower": 20.87450408935547,
           "timepoint": 17,
           "trajectory": "D_sol",
           "upper": 133.75926895141598
          },
          {
           "lower": 25.884164810180664,
           "timepoint": 18,
           "trajectory": "D_sol",
           "upper": 168.30928802490232
          },
          {
           "lower": 31.98482151031494,
           "timepoint": 19,
           "trajectory": "D_sol",
           "upper": 211.09336395263668
          },
          {
           "lower": 39.37509307861328,
           "timepoint": 20,
           "trajectory": "D_sol",
           "upper": 263.7825790405273
          },
          {
           "lower": 48.262325286865234,
           "timepoint": 21,
           "trajectory": "D_sol",
           "upper": 328.15457458496087
          },
          {
           "lower": 58.8476282119751,
           "timepoint": 22,
           "trajectory": "D_sol",
           "upper": 405.95289916992175
          },
          {
           "lower": 71.3068733215332,
           "timepoint": 23,
           "trajectory": "D_sol",
           "upper": 498.69650878906236
          },
          {
           "lower": 86.08085556030274,
           "timepoint": 24,
           "trajectory": "D_sol",
           "upper": 607.4847930908202
          },
          {
           "lower": 102.25705833435059,
           "timepoint": 25,
           "trajectory": "D_sol",
           "upper": 732.8512969970701
          },
          {
           "lower": 120.79891853332519,
           "timepoint": 26,
           "trajectory": "D_sol",
           "upper": 874.6987670898435
          },
          {
           "lower": 141.35470275878907,
           "timepoint": 27,
           "trajectory": "D_sol",
           "upper": 1032.3382385253904
          },
          {
           "lower": 163.81150436401367,
           "timepoint": 28,
           "trajectory": "D_sol",
           "upper": 1204.586419677734
          },
          {
           "lower": 188.01258392333983,
           "timepoint": 29,
           "trajectory": "D_sol",
           "upper": 1389.9091552734374
          },
          {
           "lower": 213.7708396911621,
           "timepoint": 30,
           "trajectory": "D_sol",
           "upper": 1586.5608581542967
          },
          {
           "lower": 240.92834243774413,
           "timepoint": 31,
           "trajectory": "D_sol",
           "upper": 1792.708526611328
          },
          {
           "lower": 268.71832885742185,
           "timepoint": 32,
           "trajectory": "D_sol",
           "upper": 2006.5389343261718
          },
          {
           "lower": 296.3614700317383,
           "timepoint": 33,
           "trajectory": "D_sol",
           "upper": 2226.3220825195312
          },
          {
           "lower": 324.2255325317383,
           "timepoint": 34,
           "trajectory": "D_sol",
           "upper": 2450.4629516601562
          },
          {
           "lower": 353.72300720214844,
           "timepoint": 35,
           "trajectory": "D_sol",
           "upper": 2659.44267578125
          },
          {
           "lower": 385.24993286132815,
           "timepoint": 36,
           "trajectory": "D_sol",
           "upper": 2852.761730957031
          },
          {
           "lower": 417.04022827148435,
           "timepoint": 37,
           "trajectory": "D_sol",
           "upper": 3094.4093017578125
          },
          {
           "lower": 448.9651641845703,
           "timepoint": 38,
           "trajectory": "D_sol",
           "upper": 3289.580187988281
          },
          {
           "lower": 481.0142028808594,
           "timepoint": 39,
           "trajectory": "D_sol",
           "upper": 3468.5207519531245
          },
          {
           "lower": 513.1248306274414,
           "timepoint": 40,
           "trajectory": "D_sol",
           "upper": 3665.886779785156
          },
          {
           "lower": 544.3074371337891,
           "timepoint": 41,
           "trajectory": "D_sol",
           "upper": 3891.2985229492183
          },
          {
           "lower": 574.6851440429688,
           "timepoint": 42,
           "trajectory": "D_sol",
           "upper": 4118.230834960937
          },
          {
           "lower": 604.6940185546875,
           "timepoint": 43,
           "trajectory": "D_sol",
           "upper": 4361.7732421875
          },
          {
           "lower": 634.2850341796875,
           "timepoint": 44,
           "trajectory": "D_sol",
           "upper": 4605.697460937499
          },
          {
           "lower": 663.4184020996094,
           "timepoint": 45,
           "trajectory": "D_sol",
           "upper": 4849.730932617187
          },
          {
           "lower": 692.0629821777344,
           "timepoint": 46,
           "trajectory": "D_sol",
           "upper": 5093.63134765625
          },
          {
           "lower": 720.1961486816406,
           "timepoint": 47,
           "trajectory": "D_sol",
           "upper": 5316.764599609375
          },
          {
           "lower": 747.7982604980468,
           "timepoint": 48,
           "trajectory": "D_sol",
           "upper": 5456.536474609375
          },
          {
           "lower": 773.6279388427735,
           "timepoint": 49,
           "trajectory": "D_sol",
           "upper": 5643.156933593749
          },
          {
           "lower": 795.9595611572265,
           "timepoint": 50,
           "trajectory": "D_sol",
           "upper": 5853.194116210937
          },
          {
           "lower": 817.4912384033203,
           "timepoint": 51,
           "trajectory": "D_sol",
           "upper": 6060.969458007812
          },
          {
           "lower": 838.4562316894531,
           "timepoint": 52,
           "trajectory": "D_sol",
           "upper": 6266.437890624999
          },
          {
           "lower": 865.3095031738281,
           "timepoint": 53,
           "trajectory": "D_sol",
           "upper": 6469.573876953124
          },
          {
           "lower": 891.8433868408204,
           "timepoint": 54,
           "trajectory": "D_sol",
           "upper": 6683.6239013671875
          },
          {
           "lower": 918.0586364746093,
           "timepoint": 55,
           "trajectory": "D_sol",
           "upper": 6884.054296875
          },
          {
           "lower": 943.9577667236329,
           "timepoint": 56,
           "trajectory": "D_sol",
           "upper": 7068.896704101562
          },
          {
           "lower": 969.511572265625,
           "timepoint": 57,
           "trajectory": "D_sol",
           "upper": 7265.461010742187
          },
          {
           "lower": 991.2312164306641,
           "timepoint": 58,
           "trajectory": "D_sol",
           "upper": 7459.857812499999
          },
          {
           "lower": 1012.4296447753907,
           "timepoint": 59,
           "trajectory": "D_sol",
           "upper": 7652.09013671875
          },
          {
           "lower": 159.55097503662108,
           "timepoint": 0,
           "trajectory": "I_sol",
           "upper": 190.23108825683593
          },
          {
           "lower": 261.4226837158203,
           "timepoint": 1,
           "trajectory": "I_sol",
           "upper": 369.59306182861326
          },
          {
           "lower": 354.4599578857422,
           "timepoint": 2,
           "trajectory": "I_sol",
           "upper": 533.1726135253906
          },
          {
           "lower": 455.1387969970703,
           "timepoint": 3,
           "trajectory": "I_sol",
           "upper": 701.0181060791015
          },
          {
           "lower": 571.0468719482421,
           "timepoint": 4,
           "trajectory": "I_sol",
           "upper": 888.4549835205078
          },
          {
           "lower": 710.4631561279297,
           "timepoint": 5,
           "trajectory": "I_sol",
           "upper": 1108.1850341796874
          },
          {
           "lower": 879.7448913574219,
           "timepoint": 6,
           "trajectory": "I_sol",
           "upper": 1372.1239929199216
          },
          {
           "lower": 1088.1773681640625,
           "timepoint": 7,
           "trajectory": "I_sol",
           "upper": 1693.2436889648436
          },
          {
           "lower": 1334.8801391601562,
           "timepoint": 8,
           "trajectory": "I_sol",
           "upper": 2093.7110595703125
          },
          {
           "lower": 1653.3769592285157,
           "timepoint": 9,
           "trajectory": "I_sol",
           "upper": 2618.7936401367188
          },
          {
           "lower": 2049.582635498047,
           "timepoint": 10,
           "trajectory": "I_sol",
           "upper": 3225.6211791992187
          },
          {
           "lower": 2527.0325317382812,
           "timepoint": 11,
           "trajectory": "I_sol",
           "upper": 4004.9634033203124
          },
          {
           "lower": 3091.3215087890626,
           "timepoint": 12,
           "trajectory": "I_sol",
           "upper": 4965.65048828125
          },
          {
           "lower": 3775.2547607421875,
           "timepoint": 13,
           "trajectory": "I_sol",
           "upper": 6145.470263671874
          },
          {
           "lower": 4604.39912109375,
           "timepoint": 14,
           "trajectory": "I_sol",
           "upper": 7585.409912109374
          },
          {
           "lower": 5604.3277587890625,
           "timepoint": 15,
           "trajectory": "I_sol",
           "upper": 9328.652832031248
          },
          {
           "lower": 6800.8580322265625,
           "timepoint": 16,
           "trajectory": "I_sol",
           "upper": 11522.852490234374
          },
          {
           "lower": 8216.277709960938,
           "timepoint": 17,
           "trajectory": "I_sol",
           "upper": 14228.885498046875
          },
          {
           "lower": 9862.648828125,
           "timepoint": 18,
           "trajectory": "I_sol",
           "upper": 17363.798046875
          },
          {
           "lower": 11731.8359375,
           "timepoint": 19,
           "trajectory": "I_sol",
           "upper": 20954.9046875
          },
          {
           "lower": 13783.84658203125,
           "timepoint": 20,
           "trajectory": "I_sol",
           "upper": 25165.97412109375
          },
          {
           "lower": 15938.847265625,
           "timepoint": 21,
           "trajectory": "I_sol",
           "upper": 30006.14130859375
          },
          {
           "lower": 18081.1076171875,
           "timepoint": 22,
           "trajectory": "I_sol",
           "upper": 34616.789257812496
          },
          {
           "lower": 20079.146875,
           "timepoint": 23,
           "trajectory": "I_sol",
           "upper": 39377.1322265625
          },
          {
           "lower": 21844.986328125,
           "timepoint": 24,
           "trajectory": "I_sol",
           "upper": 43812.9365234375
          },
          {
           "lower": 23416.861328125,
           "timepoint": 25,
           "trajectory": "I_sol",
           "upper": 47971.12421875
          },
          {
           "lower": 24647.42333984375,
           "timepoint": 26,
           "trajectory": "I_sol",
           "upper": 51204.522265625
          },
          {
           "lower": 25539.24853515625,
           "timepoint": 27,
           "trajectory": "I_sol",
           "upper": 53397.6005859375
          },
          {
           "lower": 26122.17060546875,
           "timepoint": 28,
           "trajectory": "I_sol",
           "upper": 54829.372656249994
          },
          {
           "lower": 26194.39912109375,
           "timepoint": 29,
           "trajectory": "I_sol",
           "upper": 55838.08203125
          },
          {
           "lower": 25766.986328125,
           "timepoint": 30,
           "trajectory": "I_sol",
           "upper": 57445.8568359375
          },
          {
           "lower": 25136.51083984375,
           "timepoint": 31,
           "trajectory": "I_sol",
           "upper": 57998.4578125
          },
          {
           "lower": 24356.889453125,
           "timepoint": 32,
           "trajectory": "I_sol",
           "upper": 58287.237109375
          },
          {
           "lower": 23474.2740234375,
           "timepoint": 33,
           "trajectory": "I_sol",
           "upper": 58463.460546875
          },
          {
           "lower": 22501.26728515625,
           "timepoint": 34,
           "trajectory": "I_sol",
           "upper": 58144.992382812496
          },
          {
           "lower": 21493.68720703125,
           "timepoint": 35,
           "trajectory": "I_sol",
           "upper": 57702.151171875
          },
          {
           "lower": 20335.02763671875,
           "timepoint": 36,
           "trajectory": "I_sol",
           "upper": 57170.45097656249
          },
          {
           "lower": 19074.1724609375,
           "timepoint": 37,
           "trajectory": "I_sol",
           "upper": 56980.41191406249
          },
          {
           "lower": 17874.9171875,
           "timepoint": 38,
           "trajectory": "I_sol",
           "upper": 57149.983593749996
          },
          {
           "lower": 17019.89111328125,
           "timepoint": 39,
           "trajectory": "I_sol",
           "upper": 57296.69531249999
          },
          {
           "lower": 16249.105517578126,
           "timepoint": 40,
           "trajectory": "I_sol",
           "upper": 57428.40722656249
          },
          {
           "lower": 15507.512744140626,
           "timepoint": 41,
           "trajectory": "I_sol",
           "upper": 57550.670703125
          },
          {
           "lower": 14779.634716796874,
           "timepoint": 42,
           "trajectory": "I_sol",
           "upper": 57667.349218749994
          },
          {
           "lower": 13903.119970703125,
           "timepoint": 43,
           "trajectory": "I_sol",
           "upper": 57781.22949218749
          },
          {
           "lower": 12941.52177734375,
           "timepoint": 44,
           "trajectory": "I_sol",
           "upper": 57893.978124999994
          },
          {
           "lower": 12042.29052734375,
           "timepoint": 45,
           "trajectory": "I_sol",
           "upper": 58006.869921875
          },
          {
           "lower": 11202.026611328125,
           "timepoint": 46,
           "trajectory": "I_sol",
           "upper": 58120.665624999994
          },
          {
           "lower": 10417.829052734374,
           "timepoint": 47,
           "trajectory": "I_sol",
           "upper": 58235.72109375
          },
          {
           "lower": 9788.800048828125,
           "timepoint": 48,
           "trajectory": "I_sol",
           "upper": 58352.2939453125
          },
          {
           "lower": 9237.5783203125,
           "timepoint": 49,
           "trajectory": "I_sol",
           "upper": 58470.4552734375
          },
          {
           "lower": 8716.39658203125,
           "timepoint": 50,
           "trajectory": "I_sol",
           "upper": 58350.4306640625
          },
          {
           "lower": 8223.957885742188,
           "timepoint": 51,
           "trajectory": "I_sol",
           "upper": 57918.0486328125
          },
          {
           "lower": 7696.682299804687,
           "timepoint": 52,
           "trajectory": "I_sol",
           "upper": 57486.189453125
          },
          {
           "lower": 7183.1068115234375,
           "timepoint": 53,
           "trajectory": "I_sol",
           "upper": 57055.277929687494
          },
          {
           "lower": 6704.69462890625,
           "timepoint": 54,
           "trajectory": "I_sol",
           "upper": 56625.67578124999
          },
          {
           "lower": 6238.097338867187,
           "timepoint": 55,
           "trajectory": "I_sol",
           "upper": 56197.590039062496
          },
          {
           "lower": 5796.641796875,
           "timepoint": 56,
           "trajectory": "I_sol",
           "upper": 55771.235937499994
          },
          {
           "lower": 5386.932055664062,
           "timepoint": 57,
           "trajectory": "I_sol",
           "upper": 55346.762890624996
          },
          {
           "lower": 5006.668505859375,
           "timepoint": 58,
           "trajectory": "I_sol",
           "upper": 54924.348242187494
          },
          {
           "lower": 4653.743237304688,
           "timepoint": 59,
           "trajectory": "I_sol",
           "upper": 54504.00800781249
          }
         ]
        },
        {
         "name": "traces",
         "transform": [
          {
           "expr": "isValid(datum.value)",
           "type": "filter"
          }
         ],
         "values": []
        },
        {
         "name": "points",
         "values": [
          {
           "sample_id": 0,
           "timepoint": 0,
           "trajectory": "I_data",
           "value": 1
          },
          {
           "sample_id": 0,
           "timepoint": 1,
           "trajectory": "I_data",
           "value": 10
          },
          {
           "sample_id": 0,
           "timepoint": 2,
           "trajectory": "I_data",
           "value": 21
          },
          {
           "sample_id": 0,
           "timepoint": 3,
           "trajectory": "I_data",
           "value": 24
          },
          {
           "sample_id": 0,
           "timepoint": 4,
           "trajectory": "I_data",
           "value": 76
          },
          {
           "sample_id": 0,
           "timepoint": 5,
           "trajectory": "I_data",
           "value": 104
          },
          {
           "sample_id": 0,
           "timepoint": 6,
           "trajectory": "I_data",
           "value": 128
          },
          {
           "sample_id": 0,
           "timepoint": 7,
           "trajectory": "I_data",
           "value": 131
          },
          {
           "sample_id": 0,
           "timepoint": 8,
           "trajectory": "I_data",
           "value": 192
          },
          {
           "sample_id": 0,
           "timepoint": 9,
           "trajectory": "I_data",
           "value": 220
          },
          {
           "sample_id": 0,
           "timepoint": 10,
           "trajectory": "I_data",
           "value": 274
          },
          {
           "sample_id": 0,
           "timepoint": 11,
           "trajectory": "I_data",
           "value": 394
          },
          {
           "sample_id": 0,
           "timepoint": 12,
           "trajectory": "I_data",
           "value": 481
          },
          {
           "sample_id": 0,
           "timepoint": 13,
           "trajectory": "I_data",
           "value": 745
          },
          {
           "sample_id": 0,
           "timepoint": 14,
           "trajectory": "I_data",
           "value": 1111
          },
          {
           "sample_id": 0,
           "timepoint": 15,
           "trajectory": "I_data",
           "value": 2128
          },
          {
           "sample_id": 0,
           "timepoint": 16,
           "trajectory": "I_data",
           "value": 3671
          },
          {
           "sample_id": 0,
           "timepoint": 17,
           "trajectory": "I_data",
           "value": 6578
          },
          {
           "sample_id": 0,
           "timepoint": 18,
           "trajectory": "I_data",
           "value": 9449
          },
          {
           "sample_id": 0,
           "timepoint": 19,
           "trajectory": "I_data",
           "value": 13761
          },
          {
           "sample_id": 0,
           "timepoint": 20,
           "trajectory": "I_data",
           "value": 18270
          },
          {
           "sample_id": 0,
           "timepoint": 21,
           "trajectory": "I_data",
           "value": 21478
          },
          {
           "sample_id": 0,
           "timepoint": 22,
           "trajectory": "I_data",
           "value": 23630
          },
          {
           "sample_id": 0,
           "timepoint": 23,
           "trajectory": "I_data",
           "value": 26987
          },
          {
           "sample_id": 0,
           "timepoint": 24,
           "trajectory": "I_data",
           "value": 29533
          },
          {
           "sample_id": 0,
           "timepoint": 25,
           "trajectory": "I_data",
           "value": 31623
          },
          {
           "sample_id": 0,
           "timepoint": 26,
           "trajectory": "I_data",
           "value": 33967
          },
          {
           "sample_id": 0,
           "timepoint": 27,
           "trajectory": "I_data",
           "value": 35822
          },
          {
           "sample_id": 0,
           "timepoint": 28,
           "trajectory": "I_data",
           "value": 38456
          },
          {
           "sample_id": 0,
           "timepoint": 29,
           "trajectory": "I_data",
           "value": 45676
          },
          {
           "sample_id": 0,
           "timepoint": 30,
           "trajectory": "I_data",
           "value": 48380
          },
          {
           "sample_id": 0,
           "timepoint": 31,
           "trajectory": "I_data",
           "value": 51807
          },
          {
           "sample_id": 0,
           "timepoint": 32,
           "trajectory": "I_data",
           "value": 55042
          },
          {
           "sample_id": 0,
           "timepoint": 33,
           "trajectory": "I_data",
           "value": 56847
          },
          {
           "sample_id": 0,
           "timepoint": 34,
           "trajectory": "I_data",
           "value": 52184
          },
          {
           "sample_id": 0,
           "timepoint": 35,
           "trajectory": "I_data",
           "value": 49194
          },
          {
           "sample_id": 0,
           "timepoint": 36,
           "trajectory": "I_data",
           "value": 48730
          },
          {
           "sample_id": 0,
           "timepoint": 37,
           "trajectory": "I_data",
           "value": 50551
          },
          {
           "sample_id": 0,
           "timepoint": 38,
           "trajectory": "I_data",
           "value": 51029
          },
          {
           "sample_id": 0,
           "timepoint": 39,
           "trajectory": "I_data",
           "value": 49701
          },
          {
           "sample_id": 0,
           "timepoint": 40,
           "trajectory": "I_data",
           "value": 50661
          },
          {
           "sample_id": 0,
           "timepoint": 41,
           "trajectory": "I_data",
           "value": 48303
          },
          {
           "sample_id": 0,
           "timepoint": 42,
           "trajectory": "I_data",
           "value": 43703
          },
          {
           "sample_id": 0,
           "timepoint": 43,
           "trajectory": "I_data",
           "value": 38888
          },
          {
           "sample_id": 0,
           "timepoint": 44,
           "trajectory": "I_data",
           "value": 38244
          },
          {
           "sample_id": 0,
           "timepoint": 45,
           "trajectory": "I_data",
           "value": 36857
          },
          {
           "sample_id": 0,
           "timepoint": 46,
           "trajectory": "I_data",
           "value": 35881
          },
          {
           "sample_id": 0,
           "timepoint": 47,
           "trajectory": "I_data",
           "value": 35054
          },
          {
           "sample_id": 0,
           "timepoint": 48,
           "trajectory": "I_data",
           "value": 34782
          },
          {
           "sample_id": 0,
           "timepoint": 49,
           "trajectory": "I_data",
           "value": 31526
          },
          {
           "sample_id": 0,
           "timepoint": 50,
           "trajectory": "I_data",
           "value": 28799
          },
          {
           "sample_id": 0,
           "timepoint": 51,
           "trajectory": "I_data",
           "value": 27419
          },
          {
           "sample_id": 0,
           "timepoint": 52,
           "trajectory": "I_data",
           "value": 27443
          },
          {
           "sample_id": 0,
           "timepoint": 53,
           "trajectory": "I_data",
           "value": 30499
          },
          {
           "sample_id": 0,
           "timepoint": 54,
           "trajectory": "I_data",
           "value": 31543
          },
          {
           "sample_id": 0,
           "timepoint": 55,
           "trajectory": "I_data",
           "value": 31597
          },
          {
           "sample_id": 0,
           "timepoint": 56,
           "trajectory": "I_data",
           "value": 29008
          },
          {
           "sample_id": 0,
           "timepoint": 57,
           "trajectory": "I_data",
           "value": 25476
          },
          {
           "sample_id": 0,
           "timepoint": 58,
           "trajectory": "I_data",
           "value": 20411
          },
          {
           "sample_id": 0,
           "timepoint": 59,
           "trajectory": "I_data",
           "value": 19224
          },
          {
           "sample_id": 0,
           "timepoint": 38,
           "trajectory": "H_data",
           "value": 0
          },
          {
           "sample_id": 0,
           "timepoint": 39,
           "trajectory": "H_data",
           "value": 0
          },
          {
           "sample_id": 0,
           "timepoint": 45,
           "trajectory": "H_data",
           "value": 0
          },
          {
           "sample_id": 0,
           "timepoint": 46,
           "trajectory": "H_data",
           "value": 1
          },
          {
           "sample_id": 0,
           "timepoint": 52,
           "trajectory": "H_data",
           "value": 0
          },
          {
           "sample_id": 0,
           "timepoint": 53,
           "trajectory": "H_data",
           "value": 0
          },
          {
           "sample_id": 0,
           "timepoint": 54,
           "trajectory": "H_data",
           "value": 1
          },
          {
           "sample_id": 0,
           "timepoint": 55,
           "trajectory": "H_data",
           "value": 0
          },
          {
           "sample_id": 0,
           "timepoint": 56,
           "trajectory": "H_data",
           "value": 0
          },
          {
           "sample_id": 0,
           "timepoint": 57,
           "trajectory": "H_data",
           "value": 0
          },
          {
           "sample_id": 0,
           "timepoint": 58,
           "trajectory": "H_data",
           "value": 0
          },
          {
           "sample_id": 0,
           "timepoint": 59,
           "trajectory": "H_data",
           "value": 0
          },
          {
           "sample_id": 0,
           "timepoint": 0,
           "trajectory": "D_data",
           "value": 0
          },
          {
           "sample_id": 0,
           "timepoint": 1,
           "trajectory": "D_data",
           "value": 0
          },
          {
           "sample_id": 0,
           "timepoint": 2,
           "trajectory": "D_data",
           "value": 0
          },
          {
           "sample_id": 0,
           "timepoint": 3,
           "trajectory": "D_data",
           "value": 0
          },
          {
           "sample_id": 0,
           "timepoint": 4,
           "trajectory": "D_data",
           "value": 0
          },
          {
           "sample_id": 0,
           "timepoint": 5,
           "trajectory": "D_data",
           "value": 0
          },
          {
           "sample_id": 0,
           "timepoint": 6,
           "trajectory": "D_data",
           "value": 0
          },
          {
           "sample_id": 0,
           "timepoint": 7,
           "trajectory": "D_data",
           "value": 0
          },
          {
           "sample_id": 0,
           "timepoint": 8,
           "trajectory": "D_data",
           "value": 1
          },
          {
           "sample_id": 0,
           "timepoint": 9,
           "trajectory": "D_data",
           "value": 1
          },
          {
           "sample_id": 0,
           "timepoint": 10,
           "trajectory": "D_data",
           "value": 1
          },
          {
           "sample_id": 0,
           "timepoint": 11,
           "trajectory": "D_data",
           "value": 4
          },
          {
           "sample_id": 0,
           "timepoint": 12,
           "trajectory": "D_data",
           "value": 9
          },
          {
           "sample_id": 0,
           "timepoint": 13,
           "trajectory": "D_data",
           "value": 19
          },
          {
           "sample_id": 0,
           "timepoint": 14,
           "trajectory": "D_data",
           "value": 30
          },
          {
           "sample_id": 0,
           "timepoint": 15,
           "trajectory": "D_data",
           "value": 51
          },
          {
           "sample_id": 0,
           "timepoint": 16,
           "trajectory": "D_data",
           "value": 77
          },
          {
           "sample_id": 0,
           "timepoint": 17,
           "trajectory": "D_data",
           "value": 129
          },
          {
           "sample_id": 0,
           "timepoint": 18,
           "trajectory": "D_data",
           "value": 175
          },
          {
           "sample_id": 0,
           "timepoint": 19,
           "trajectory": "D_data",
           "value": 226
          },
          {
           "sample_id": 0,
           "timepoint": 20,
           "trajectory": "D_data",
           "value": 315
          },
          {
           "sample_id": 0,
           "timepoint": 21,
           "trajectory": "D_data",
           "value": 427
          },
          {
           "sample_id": 0,
           "timepoint": 22,
           "trajectory": "D_data",
           "value": 565
          },
          {
           "sample_id": 0,
           "timepoint": 23,
           "trajectory": "D_data",
           "value": 759
          },
          {
           "sample_id": 0,
           "timepoint": 24,
           "trajectory": "D_data",
           "value": 984
          },
          {
           "sample_id": 0,
           "timepoint": 25,
           "trajectory": "D_data",
           "value": 1285
          },
          {
           "sample_id": 0,
           "timepoint": 26,
           "trajectory": "D_data",
           "value": 1603
          },
          {
           "sample_id": 0,
           "timepoint": 27,
           "trajectory": "D_data",
           "value": 1930
          },
          {
           "sample_id": 0,
           "timepoint": 28,
           "trajectory": "D_data",
           "value": 2334
          },
          {
           "sample_id": 0,
           "timepoint": 29,
           "trajectory": "D_data",
           "value": 2859
          },
          {
           "sample_id": 0,
           "timepoint": 30,
           "trajectory": "D_data",
           "value": 3420
          },
          {
           "sample_id": 0,
           "timepoint": 31,
           "trajectory": "D_data",
           "value": 3989
          },
          {
           "sample_id": 0,
           "timepoint": 32,
           "trajectory": "D_data",
           "value": 4634
          },
          {
           "sample_id": 0,
           "timepoint": 33,
           "trajectory": "D_data",
           "value": 5384
          },
          {
           "sample_id": 0,
           "timepoint": 34,
           "trajectory": "D_data",
           "value": 6185
          },
          {
           "sample_id": 0,
           "timepoint": 35,
           "trajectory": "D_data",
           "value": 7241
          },
          {
           "sample_id": 0,
           "timepoint": 36,
           "trajectory": "D_data",
           "value": 7985
          },
          {
           "sample_id": 0,
           "timepoint": 37,
           "trajectory": "D_data",
           "value": 8846
          },
          {
           "sample_id": 0,
           "timepoint": 38,
           "trajectory": "D_data",
           "value": 9579
          },
          {
           "sample_id": 0,
           "timepoint": 39,
           "trajectory": "D_data",
           "value": 10345
          },
          {
           "sample_id": 0,
           "timepoint": 40,
           "trajectory": "D_data",
           "value": 11126
          },
          {
           "sample_id": 0,
           "timepoint": 41,
           "trajectory": "D_data",
           "value": 11930
          },
          {
           "sample_id": 0,
           "timepoint": 42,
           "trajectory": "D_data",
           "value": 12669
          },
          {
           "sample_id": 0,
           "timepoint": 43,
           "trajectory": "D_data",
           "value": 13332
          },
          {
           "sample_id": 0,
           "timepoint": 44,
           "trajectory": "D_data",
           "value": 13987
          },
          {
           "sample_id": 0,
           "timepoint": 45,
           "trajectory": "D_data",
           "value": 14371
          },
          {
           "sample_id": 0,
           "timepoint": 46,
           "trajectory": "D_data",
           "value": 14780
          },
          {
           "sample_id": 0,
           "timepoint": 47,
           "trajectory": "D_data",
           "value": 15225
          },
          {
           "sample_id": 0,
           "timepoint": 48,
           "trajectory": "D_data",
           "value": 16116
          },
          {
           "sample_id": 0,
           "timepoint": 49,
           "trajectory": "D_data",
           "value": 16639
          },
          {
           "sample_id": 0,
           "timepoint": 50,
           "trajectory": "D_data",
           "value": 17091
          },
          {
           "sample_id": 0,
           "timepoint": 51,
           "trajectory": "D_data",
           "value": 17647
          },
          {
           "sample_id": 0,
           "timepoint": 52,
           "trajectory": "D_data",
           "value": 18132
          },
          {
           "sample_id": 0,
           "timepoint": 53,
           "trajectory": "D_data",
           "value": 18523
          },
          {
           "sample_id": 0,
           "timepoint": 54,
           "trajectory": "D_data",
           "value": 18882
          },
          {
           "sample_id": 0,
           "timepoint": 55,
           "trajectory": "D_data",
           "value": 19292
          },
          {
           "sample_id": 0,
           "timepoint": 56,
           "trajectory": "D_data",
           "value": 19602
          },
          {
           "sample_id": 0,
           "timepoint": 57,
           "trajectory": "D_data",
           "value": 20000
          },
          {
           "sample_id": 0,
           "timepoint": 58,
           "trajectory": "D_data",
           "value": 20334
          },
          {
           "sample_id": 0,
           "timepoint": 59,
           "trajectory": "D_data",
           "value": 20662
          }
         ]
        },
        {
         "name": "markers",
         "values": []
        },
        {
         "name": "selected",
         "on": [
          {
           "remove": true,
           "trigger": "clear"
          },
          {
           "remove": true,
           "trigger": "!shift"
          },
          {
           "insert": "clicked",
           "trigger": "!shift && clicked"
          },
          {
           "toggle": "clicked",
           "trigger": "shift && clicked"
          }
         ]
        }
       ],
       "height": 300,
       "legends": [
        {
         "encode": {
          "labels": {
           "interactive": true,
           "name": "legendLabel",
           "update": {
            "opacity": [
             {
              "test": "!length(data('selected')) || indata('selected', 'value', datum.value)",
              "value": 1
             },
             {
              "value": 0.25
             }
            ]
           }
          },
          "symbols": {
           "interactive": true,
           "name": "legendSymbol",
           "update": {
            "fill": {
             "value": "transparent"
            },
            "opacity": [
             {
              "test": "!length(data('selected')) || indata('selected', 'value', datum.value)",
              "value": 0.7
             },
             {
              "value": 0.15
             }
            ],
            "size": {
             "value": 64
            },
            "strokeWidth": {
             "value": 2
            }
           }
          }
         },
         "name": "color_legend",
         "stroke": "color"
        }
       ],
       "marks": [
        {
         "from": {
          "facet": {
           "data": "points",
           "groupby": "trajectory",
           "name": "points_split"
          }
         },
         "marks": [
          {
           "encode": {
            "hover": {
             "fillOpacity": {
              "value": 0.9
             }
            },
            "update": {
             "fill": {
              "field": "trajectory",
              "scale": "color"
             },
             "fillOpacity": [
              {
               "test": "!length(data('selected')) || indata('selected', 'value', datum.trajectory)",
               "value": 0.5
              },
              {
               "value": 0.15
              }
             ],
             "size": {
              "value": 10
             },
             "stroke": {
              "field": "trajectory",
              "scale": "color"
             },
             "strokeOpacity": [
              {
               "test": "!length(data('selected')) || indata('selected', 'value', datum.trajectory)",
               "value": 0.75
              },
              {
               "value": 0.15
              }
             ],
             "strokeWidth": {
              "value": 2
             },
             "tooltip": {
              "field": "value"
             },
             "x": {
              "field": "timepoint",
              "scale": "xscale"
             },
             "y": {
              "field": "value",
              "scale": "yscale"
             }
            }
           },
           "from": {
            "data": "points"
           },
           "name": "_points_symbol",
           "type": "symbol",
           "zindex": 3
          },
          {
           "encode": {
            "hover": {
             "fillOpacity": {
              "value": 0.9
             }
            },
            "update": {
             "interpolate": {
              "value": "linear"
             },
             "stroke": {
              "field": "trajectory",
              "scale": "color"
             },
             "strokeOpacity": [
              {
               "test": "!length(data('selected')) || indata('selected', 'value', datum.trajectory)",
               "value": 0.3
              },
              {
               "value": 0.1
              }
             ],
             "strokeWidth": {
              "value": 2
             },
             "x": {
              "field": "timepoint",
              "scale": "xscale"
             },
             "y": {
              "field": "value",
              "scale": "yscale"
             }
            }
           },
           "from": {
            "data": "points"
           },
           "name": "_points_line",
           "type": "line",
           "zindex": 3
          }
         ],
         "name": "_points",
         "type": "group",
         "zindex": 3
        },
        {
         "from": {
          "facet": {
           "data": "traces",
           "groupby": "trajectory",
           "name": "traces_split"
          }
         },
         "marks": [
          {
           "encode": {
            "hover": {
             "fillOpacity": {
              "value": 0.9
             }
            },
            "update": {
             "interpolate": {
              "value": "linear"
             },
             "stroke": {
              "field": "trajectory",
              "scale": "color"
             },
             "strokeOpacity": [
              {
               "test": "!length(data('selected')) || indata('selected', 'value', datum.trajectory)",
               "value": 0.75
              },
              {
               "value": 0.15
              }
             ],
             "strokeWidth": {
              "value": 2
             },
             "x": {
              "field": "timepoint",
              "scale": "xscale"
             },
             "y": {
              "field": "value",
              "scale": "yscale"
             }
            }
           },
           "from": {
            "data": "traces_split"
           },
           "name": "_traces_lines",
           "type": "line"
          }
         ],
         "name": "_traces",
         "type": "group",
         "zindex": 2
        },
        {
         "from": {
          "facet": {
           "data": "distributions",
           "groupby": "trajectory",
           "name": "trajectory_split"
          }
         },
         "marks": [
          {
           "encode": {
            "hover": {
             "fillOpacity": {
              "value": 0.9
             }
            },
            "update": {
             "fill": {
              "field": "trajectory",
              "scale": "color"
             },
             "fillOpacity": [
              {
               "test": "!length(data('selected')) || indata('selected', 'value', datum.trajectory)",
               "value": 0.5
              },
              {
               "value": 0.15
              }
             ],
             "interpolate": {
              "value": "linear"
             },
             "stroke": {
              "field": "trajectory",
              "scale": "color"
             },
             "strokeOpacity": [
              {
               "test": "!length(data('selected')) || indata('selected', 'value', datum.trajectory)",
               "value": 0.75
              },
              {
               "value": 0.15
              }
             ],
             "strokeWidth": {
              "value": 2
             },
             "x": {
              "field": "timepoint",
              "scale": "xscale"
             },
             "y": {
              "field": "upper",
              "scale": "yscale"
             },
             "y2": {
              "field": "lower",
              "scale": "yscale"
             }
            }
           },
           "from": {
            "data": "trajectory_split"
           },
           "type": "area"
          }
         ],
         "name": "_distributions",
         "type": "group",
         "zindex": 1
        },
        {
         "marks": [
          {
           "encode": {
            "enter": {
             "stroke": {
              "value": "lightgray"
             }
            },
            "update": {
             "opacity": {
              "value": 1
             },
             "x": {
              "field": "timepoint",
              "scale": "xscale"
             },
             "y": {
              "signal": "height"
             },
             "y2": {
              "value": 0
             }
            }
           },
           "from": {
            "data": "markers"
           },
           "name": "_marker text",
           "type": "rule"
          },
          {
           "encode": {
            "enter": {
             "fontSize": {
              "value": 8
             },
             "text": {
              "field": "datum.label"
             },
             "y": {
              "value": 0
             }
            }
           },
           "from": {
            "data": "_marker text"
           },
           "name": "_marker flags",
           "transform": [
            {
             "as": [
              "x",
              "_y",
              "opacity",
              "align",
              "baseline"
             ],
             "lineAnchor": "start",
             "offset": [
              1
             ],
             "size": {
              "signal": "[width, height]"
             },
             "type": "label"
            }
           ],
           "type": "text"
          }
         ],
         "name": "_markers",
         "type": "group"
        }
       ],
       "padding": 5,
       "scales": [
        {
         "domain": {
          "fields": [
           {
            "data": "distributions",
            "field": "timepoint"
           },
           {
            "data": "traces",
            "field": "timepoint"
           },
           {
            "data": "points",
            "field": "timepoint"
           },
           {
            "data": "markers",
            "field": "timepoint"
           }
          ]
         },
         "name": "xscale",
         "range": "width",
         "type": "linear",
         "zero": false
        },
        {
         "domain": {
          "fields": [
           {
            "data": "distributions",
            "field": "lower"
           },
           {
            "data": "distributions",
            "field": "upper"
           },
           {
            "data": "traces",
            "field": "value"
           },
           {
            "data": "points",
            "field": "value"
           }
          ]
         },
         "name": "yscale",
         "nice": true,
         "range": "height",
         "type": "linear",
         "zero": true
        },
        {
         "domain": {
          "fields": [
           {
            "data": "distributions",
            "field": "trajectory"
           },
           {
            "data": "traces",
            "field": "trajectory"
           },
           {
            "data": "points",
            "field": "trajectory"
           }
          ]
         },
         "name": "color",
         "range": "category",
         "type": "ordinal"
        }
       ],
       "signals": [
        {
         "name": "clear",
         "on": [
          {
           "events": "mouseup[!event.item]",
           "force": true,
           "update": "true"
          }
         ],
         "value": true
        },
        {
         "name": "shift",
         "on": [
          {
           "events": "@legendSymbol:click, @legendLabel:click",
           "force": true,
           "update": "event.shiftKey"
          }
         ],
         "value": false
        },
        {
         "name": "clicked",
         "on": [
          {
           "events": "@legendSymbol:click, @legendLabel:click",
           "force": true,
           "update": "{value: datum.value}"
          }
         ],
         "value": null
        }
       ],
       "width": 500
      }
     },
     "metadata": {},
     "output_type": "display_data"
    }
   ],
   "source": [
    "num_samples = 100\n",
    "model_paths = [model2_location, model6_location, model7_location]\n",
    "data_path = \"../../notebook/ensemble_eval_sa/datasets/NY_data1.csv\"\n",
    "weights = [1/len(model_paths) for i in model_paths]\n",
    "solution_mappings = [{\"I\": \"I\", \"D\": \"D\"},\n",
    "                     {\"I\": \"infected\", \"D\": \"dead\"}, \n",
    "                     {\"I\": \"infected\", \"D\": \"dead\"}\n",
    "                     ]\n",
    "\n",
    "# Run the calibration and sampling\n",
    "result4 = load_and_calibrate_and_sample_ensemble_model(\n",
    "    model_paths,\n",
    "    data_path,\n",
    "    weights,\n",
    "    solution_mappings,\n",
    "    num_samples,\n",
    "    timepoints,\n",
    "    verbose=True,\n",
    "    total_population=19340000,\n",
    "    num_iterations=300,\n",
    "    time_unit=\"days\",\n",
    "    visual_options={\"title\": \"Calibrated Ensemble\", \"subset\":\".*_sol\"}\n",
    ")\n",
    "\n",
    "# Save results\n",
    "result4[\"data\"].to_csv(\"../../notebook/ensemble_eval_sa/ensemble_results/partI_ensemble_of_many_results.csv\", index=False)\n",
    "result4[\"quantiles\"].to_csv(\"../../notebook/ensemble_eval_sa/ensemble_results/partI_ensemble_of_many_quantiles.csv\", index=False)\n",
    "\n",
    "q_ensemble_data = cdc_reformatcsv(filename=\"../../notebook/ensemble_eval_sa/ensemble_results/partI_ensemble_of_many_quantiles.csv\", \n",
    "                                  solution_string_mapping={\"I\": \"cases\", \"D\": \"deaths\"}, \n",
    "                                  forecast_start_date=\"2020-04-02\",\n",
    "                                  location=\"New York State\",\n",
    "                                  drop_column_names=[\"timepoint_id\", \"number_days\", \"inc_cum\", \"output\", \"Forecast_Backcast\"])\n",
    "q_ensemble_data.to_csv(\"../../notebook/ensemble_eval_sa/ensemble_results/partI_ensemble_of_many_forecast_quantiles_Apr032020.csv\")\n",
    "\n",
    "# Plot results\n",
    "schema = plots.trajectories(pd.DataFrame(result4[\"data\"]), subset=\".*_sol\",\n",
    "                            points=test_data.reset_index(drop=True).rename(columns={\"I\":\"I_data\", \"H\":\"H_data\", \"D\":\"D_data\"}),\n",
    "                           )\n",
    "schema = plots.pad(schema, 5)\n",
    "plots.ipy_display(schema)"
   ]
  },
  {
   "cell_type": "code",
   "execution_count": null,
   "id": "765e6d37-d87b-48b6-877b-067d2995179e",
   "metadata": {},
   "outputs": [],
   "source": [
    "num_samples = 100\n",
    "model_paths = [model2_location, model7_location]\n",
    "data_path = \"../../notebook/ensemble_eval_sa/NY_data1.csv\"\n",
    "weights = [1/len(model_paths) for i in model_paths]\n",
    "solution_mappings = [{\"I\": \"I\", \"D\": \"D\"},\n",
    "                     {\"I\": \"infected\", \"D\": \"dead\"}\n",
    "                     ]\n",
    "\n",
    "# Run the calibration and sampling\n",
    "result5 = load_and_calibrate_and_sample_ensemble_model(\n",
    "    model_paths,\n",
    "    data_path,\n",
    "    weights,\n",
    "    solution_mappings,\n",
    "    num_samples,\n",
    "    timepoints,\n",
    "    verbose=True,\n",
    "    total_population=19340000,\n",
    "    num_iterations=500,\n",
    "    time_unit=\"days\",\n",
    "    visual_options={\"title\": \"Calibrated Ensemble\", \"subset\":\".*_sol\"}\n",
    ")\n",
    "\n",
    "# Save results\n",
    "# result5[\"data\"].to_csv(\"../../notebook/ensemble_eval_sa/ensemble_results/partI_ensemble_of_two_results.csv\", index=False)\n",
    "# result5[\"quantiles\"].to_csv(\"../../notebook/ensemble_eval_sa/ensemble_results/partI_ensemble_of_two_quantiles.csv\", index=False)\n",
    "\n",
    "# Plot results\n",
    "schema = plots.trajectories(pd.DataFrame(result4[\"data\"]), subset=\".*_sol\",\n",
    "                            points=test_data.reset_index(drop=True).rename(columns={\"I\":\"I_data\", \"H\":\"H_data\", \"D\":\"D_data\"}),\n",
    "                           )\n",
    "schema = plots.pad(schema, 5)\n",
    "plots.ipy_display(schema)"
   ]
  },
  {
   "cell_type": "code",
   "execution_count": null,
   "id": "79bac950-7c34-47af-9fa6-d0ead7e78f88",
   "metadata": {},
   "outputs": [],
   "source": [
    "num_samples = 100\n",
    "model_paths = [model2_location, model7_location]\n",
    "data_path = \"../../notebook/ensemble_eval_sa/NY_data1.csv\"\n",
    "weights = [1/len(model_paths) for i in model_paths]\n",
    "solution_mappings = [{\"I\": \"I\", \"D\": \"D\"},\n",
    "                     {\"I\": \"infected\", \"D\": \"dead\"}\n",
    "                     ]\n",
    "\n",
    "# Run the calibration and sampling\n",
    "result4 = load_and_calibrate_and_sample_ensemble_model(\n",
    "    model_paths,\n",
    "    data_path,\n",
    "    weights,\n",
    "    solution_mappings,\n",
    "    num_samples,\n",
    "    timepoints,\n",
    "    verbose=True,\n",
    "    total_population=19340000,\n",
    "    num_iterations=500,\n",
    "    time_unit=\"days\",\n",
    "    visual_options={\"title\": \"Calibrated Ensemble\", \"subset\":\".*_sol\"}\n",
    ")\n",
    "\n",
    "# Save results\n",
    "# result4[\"data\"].to_csv(\"../../notebook/ensemble_eval_sa/ensemble_results/partI_ensemble_of_many_results.csv\", index=False)\n",
    "# result4[\"quantiles\"].to_csv(\"../../notebook/ensemble_eval_sa/ensemble_results/partI_ensemble_of_many_quantiles.csv\", index=False)\n",
    "\n",
    "# Plot results\n",
    "schema = plots.trajectories(pd.DataFrame(result4[\"data\"]), subset=\".*_sol\",\n",
    "                            points=test_data.reset_index(drop=True).rename(columns={\"I\":\"I_data\", \"H\":\"H_data\", \"D\":\"D_data\"}),\n",
    "                           )\n",
    "schema = plots.pad(schema, 5)\n",
    "plots.ipy_display(schema)"
   ]
  },
  {
   "cell_type": "code",
   "execution_count": null,
   "id": "b1200c83-faab-444d-8a13-c815867ad5ba",
   "metadata": {},
   "outputs": [],
   "source": [
    "num_samples = 100\n",
    "model_paths = [model2_location, model6_location, model7_location]\n",
    "data_path = \"../../notebook/ensemble_eval_sa/NY_data1.csv\"\n",
    "weights = [1/len(model_paths) for i in model_paths]\n",
    "solution_mappings = [{\"I\": \"I\", \"D\": \"D\"},\n",
    "                     {\"I\": \"infected\", \"D\": \"dead\"}, \n",
    "                     {\"I\": \"infected\", \"D\": \"dead\"}\n",
    "                     ]\n",
    "\n",
    "# Run the calibration and sampling\n",
    "result4 = load_and_calibrate_and_sample_ensemble_model(\n",
    "    model_paths,\n",
    "    data_path,\n",
    "    weights,\n",
    "    solution_mappings,\n",
    "    num_samples,\n",
    "    timepoints,\n",
    "    verbose=True,\n",
    "    total_population=19340000,\n",
    "    num_iterations=500,\n",
    "    time_unit=\"days\",\n",
    "    visual_options={\"title\": \"Calibrated Ensemble\", \"subset\":\".*_sol\"}\n",
    ")\n",
    "\n",
    "# Save results\n",
    "# result4[\"data\"].to_csv(\"../../notebook/ensemble_eval_sa/ensemble_results/partI_ensemble_of_many_results.csv\", index=False)\n",
    "# result4[\"quantiles\"].to_csv(\"../../notebook/ensemble_eval_sa/ensemble_results/partI_ensemble_of_many_quantiles.csv\", index=False)\n",
    "\n",
    "# Plot results\n",
    "schema = plots.trajectories(pd.DataFrame(result4[\"data\"]), subset=\".*_sol\",\n",
    "                            points=test_data.reset_index(drop=True).rename(columns={\"I\":\"I_data\", \"H\":\"H_data\", \"D\":\"D_data\"}),\n",
    "                           )\n",
    "schema = plots.pad(schema, 5)\n",
    "plots.ipy_display(schema)"
   ]
  },
  {
   "cell_type": "code",
   "execution_count": null,
   "id": "2b575a9f-909b-4eae-a74a-9745b0a74d43",
   "metadata": {},
   "outputs": [],
   "source": []
  }
 ],
 "metadata": {
  "kernelspec": {
   "display_name": "Python 3 (ipykernel)",
   "language": "python",
   "name": "python3"
  },
  "language_info": {
   "codemirror_mode": {
    "name": "ipython",
    "version": 3
   },
   "file_extension": ".py",
   "mimetype": "text/x-python",
   "name": "python",
   "nbconvert_exporter": "python",
   "pygments_lexer": "ipython3",
   "version": "3.10.9"
  }
 },
 "nbformat": 4,
 "nbformat_minor": 5
}
