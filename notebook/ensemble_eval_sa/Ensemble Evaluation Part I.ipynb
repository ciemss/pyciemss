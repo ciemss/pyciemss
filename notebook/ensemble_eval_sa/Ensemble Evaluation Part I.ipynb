{
 "cells": [
  {
   "cell_type": "markdown",
   "id": "3048df72",
   "metadata": {},
   "source": [
    "# Ensemble Evaluation: Timepoint 1\n",
    "\n",
    "Location: New York State\n",
    "\n",
    "Timepoint 1: April 3, 2020. Setting: New York State at the beginning of the pandemic when masking was the main preventative measure. No vaccines available. Reinfection not considered. No hospitalization data available through T1."
   ]
  },
  {
   "cell_type": "markdown",
   "id": "897b7ea9-d670-4345-9d7a-322d34d724c8",
   "metadata": {},
   "source": [
    "## Set up for ensemble modeling"
   ]
  },
  {
   "cell_type": "markdown",
   "id": "25ee072e-ef36-4c76-bf0a-76276a86c63b",
   "metadata": {},
   "source": [
    "### Load dependencies\n",
    "Import functionality from the pyciemss library to allow for model sampling and calibration."
   ]
  },
  {
   "cell_type": "code",
   "execution_count": 2,
   "id": "f250632a-4078-49de-a4a8-e6134c949910",
   "metadata": {},
   "outputs": [],
   "source": [
    "import os\n",
    "import pandas as pd\n",
    "import numpy as np\n",
    "from pyciemss.Ensemble.interfaces import (\n",
    "    load_and_sample_petri_ensemble, load_and_calibrate_and_sample_ensemble_model\n",
    ")\n",
    "from pyciemss.PetriNetODE.interfaces import (\n",
    "    load_and_sample_petri_model,\n",
    "    load_and_calibrate_and_sample_petri_model,\n",
    "    load_and_optimize_and_sample_petri_model,\n",
    "    load_and_calibrate_and_optimize_and_sample_petri_model\n",
    ")\n",
    "from pyciemss.visuals import plots"
   ]
  },
  {
   "cell_type": "markdown",
   "id": "2af8a7df-6527-4ba2-beb6-2e63889dcbbf",
   "metadata": {},
   "source": [
    "### Collect relevant models\n",
    "<!-- We have chosen x number of models to capture the relevant COVID-19 dynamics for this setting. \n",
    " - `model1` contains compartments SEIRHD, and is stratified by age into four groups.\n",
    " - `model2` is the same as `model1`, but allows for reinfection\n",
    " - `model3` is the same as `model1`, but with a variation in transmission rate to account for masking efficacy and compliance. -->"
   ]
  },
  {
   "cell_type": "code",
   "execution_count": 2,
   "id": "07fddb50-d73e-481d-a79d-ce0e115411b5",
   "metadata": {},
   "outputs": [],
   "source": [
    "model1_location = \"../../notebook/ensemble_eval_sa/operative_models/SEIRHD_base_model_ee.json\"\n",
    "model2_location = \"../../notebook/ensemble_eval_sa/operative_models/SEIRHD_npi1_ee.json\"\n",
    "model3_location = \"../../notebook/ensemble_eval_sa/operative_models/SEIRHD_npi1_beta_c_varying_ee.json\"\n",
    "model4_location = \"../../notebook/ensemble_eval_sa/operative_models/SEIRHD_npi1_k_varying_ee.json\"\n",
    "model5_location = \"../../notebook/ensemble_eval_sa/operative_models/SEIRHD_npi1_age_stratified_v1.json\"\n",
    "model6_location = \"../../notebook/ensemble_eval_sa/operative_models/SEIRHD_npi1_age_stratified_v2.json\"\n",
    "model7_location = \"../../notebook/ensemble_eval_sa/operative_models/SEIRHD_npi1_age_stratified_v3.json\"\n",
    "model8_location = \"../../notebook/ensemble_eval_sa/operative_models/SEIRD_ymo_age_strat.json\""
   ]
  },
  {
   "cell_type": "markdown",
   "id": "a2239aab-0478-43cb-b6ef-079497dbb6e1",
   "metadata": {},
   "source": [
    "### Gather data, and set training and forecast intervals\n",
    "For this timepoint, only case and death data is available for calibration. \n",
    "\n",
    "We take the total population of New York State to be 19,340,000. Population age-structure estimates for New York State were taken (and scaled appropriately) from [here](https://www.health.ny.gov/statistics/vital_statistics/2016/table01.htm).\n",
    "\n",
    "First recorded case in New York State: March 1, 2020.\n",
    "\n",
    "Also relevant is that a statewide stay-at-home order for non-essential workers was implemented on March 22, 2020, and masking policy was implemented on April 15, 2020. A nice list of COVID-19 policy interventions for New York City and State has been compiled [here](https://www.investopedia.com/historical-timeline-of-covid-19-in-new-york-city-5071986![image.png](attachment:d380d245-11ca-41f1-9863-e2a2dcf5ebce.png)![image.png](attachment:b30f6e31-bc7f-43a8-b7c8-b1df78db3b86.png)![image.png](attachment:b5109588-59ed-447c-9271-50eb56fe9081.png)![image.png](attachment:2c42138a-696d-4cef-9b79-4843d38ff029.png))."
   ]
  },
  {
   "cell_type": "code",
   "execution_count": 3,
   "id": "7a694100-dcc2-46f5-afa7-49c807669c5b",
   "metadata": {},
   "outputs": [],
   "source": [
    "url = 'https://raw.githubusercontent.com/DARPA-ASKEM/experiments/main/thin-thread-examples/milestone_12month/evaluation/ensemble_eval_SA/datasets/aabb3684-a7ea-4f60-98f1-a8e673ad6df5/dataset.csv'\n",
    "ny_data = pd.read_csv(url)"
   ]
  },
  {
   "cell_type": "code",
   "execution_count": 5,
   "id": "98bfeb14-7d72-47d1-aadd-2d61440433f7",
   "metadata": {},
   "outputs": [
    {
     "data": {
      "text/html": [
       "<div>\n",
       "<style scoped>\n",
       "    .dataframe tbody tr th:only-of-type {\n",
       "        vertical-align: middle;\n",
       "    }\n",
       "\n",
       "    .dataframe tbody tr th {\n",
       "        vertical-align: top;\n",
       "    }\n",
       "\n",
       "    .dataframe thead th {\n",
       "        text-align: right;\n",
       "    }\n",
       "</style>\n",
       "<table border=\"1\" class=\"dataframe\">\n",
       "  <thead>\n",
       "    <tr style=\"text-align: right;\">\n",
       "      <th></th>\n",
       "      <th>I</th>\n",
       "    </tr>\n",
       "  </thead>\n",
       "  <tbody>\n",
       "    <tr>\n",
       "      <th>0</th>\n",
       "      <td>0.0</td>\n",
       "    </tr>\n",
       "    <tr>\n",
       "      <th>1</th>\n",
       "      <td>0.0</td>\n",
       "    </tr>\n",
       "    <tr>\n",
       "      <th>2</th>\n",
       "      <td>0.0</td>\n",
       "    </tr>\n",
       "    <tr>\n",
       "      <th>3</th>\n",
       "      <td>0.0</td>\n",
       "    </tr>\n",
       "    <tr>\n",
       "      <th>4</th>\n",
       "      <td>0.0</td>\n",
       "    </tr>\n",
       "    <tr>\n",
       "      <th>...</th>\n",
       "      <td>...</td>\n",
       "    </tr>\n",
       "    <tr>\n",
       "      <th>154</th>\n",
       "      <td>1954075.0</td>\n",
       "    </tr>\n",
       "    <tr>\n",
       "      <th>155</th>\n",
       "      <td>1957171.0</td>\n",
       "    </tr>\n",
       "    <tr>\n",
       "      <th>156</th>\n",
       "      <td>1960430.0</td>\n",
       "    </tr>\n",
       "    <tr>\n",
       "      <th>157</th>\n",
       "      <td>1963781.0</td>\n",
       "    </tr>\n",
       "    <tr>\n",
       "      <th>158</th>\n",
       "      <td>1967242.0</td>\n",
       "    </tr>\n",
       "  </tbody>\n",
       "</table>\n",
       "<p>159 rows × 1 columns</p>\n",
       "</div>"
      ],
      "text/plain": [
       "             I\n",
       "0          0.0\n",
       "1          0.0\n",
       "2          0.0\n",
       "3          0.0\n",
       "4          0.0\n",
       "..         ...\n",
       "154  1954075.0\n",
       "155  1957171.0\n",
       "156  1960430.0\n",
       "157  1963781.0\n",
       "158  1967242.0\n",
       "\n",
       "[159 rows x 1 columns]"
      ]
     },
     "execution_count": 5,
     "metadata": {},
     "output_type": "execute_result"
    }
   ],
   "source": [
    "ny_data = ny_data[0:159]\n",
    "ww_data3 = ny_data[[\"I\"]].copy()\n",
    "ww_data3 = ww_data3.cumsum()\n",
    "ww_data3"
   ]
  },
  {
   "cell_type": "code",
   "execution_count": 3,
   "id": "2f63b3cc-7ace-42d7-a964-f9b8103877a3",
   "metadata": {},
   "outputs": [],
   "source": [
    "url = 'https://raw.githubusercontent.com/DARPA-ASKEM/experiments/main/thin-thread-examples/milestone_12month/evaluation/ensemble_eval_SA/datasets/aabb3684-a7ea-4f60-98f1-a8e673ad6df5/dataset.csv'\n",
    "ny_data = pd.read_csv(url)\n",
    "\n",
    "# Grab test data for four-week forecast (04/03/2020 - 05/01/2020)\n",
    "test_data = ny_data[41:101].reset_index()\n",
    "test_data = test_data.drop(columns=\"timestep\")\n",
    "test_data = test_data.drop(columns=\"index\")\n",
    "\n",
    "# Select historical data from 03/01/2020 up to Timepoint 1, 04/02/2020 (the first 73 rows)\n",
    "# No hospitalization data at this point\n",
    "ny_data = ny_data[41:72].reset_index(drop=True)\n",
    "ny_data1 = ny_data.assign(timepoints=[float(i) for i in range(len(ny_data))])\n",
    "ny_data = ny_data1[[\"timepoints\", \"I\", \"H\", \"D\"]]\n",
    "ny_data[[\"I\", \"H\", \"D\"]].to_csv(\"NY_data1.csv\")\n",
    "\n",
    "# Set timepoints\n",
    "start_timepoint = 0\n",
    "stop_timepoint = len(ny_data) + 28 # simulate for four weeks after end of data\n",
    "timepoints = [float(i) for i in range(stop_timepoint + 1)]"
   ]
  },
  {
   "cell_type": "markdown",
   "id": "88df33c0-f86c-4cc4-8f98-6191d71b442b",
   "metadata": {},
   "source": [
    "# Calibrate and sample an ensemble of one model"
   ]
  },
  {
   "cell_type": "code",
   "execution_count": 4,
   "id": "8f9faea9-7ebb-4685-b3ab-c18ab20c7df3",
   "metadata": {},
   "outputs": [
    {
     "data": {
      "text/html": [
       "<div>\n",
       "<style scoped>\n",
       "    .dataframe tbody tr th:only-of-type {\n",
       "        vertical-align: middle;\n",
       "    }\n",
       "\n",
       "    .dataframe tbody tr th {\n",
       "        vertical-align: top;\n",
       "    }\n",
       "\n",
       "    .dataframe thead th {\n",
       "        text-align: right;\n",
       "    }\n",
       "</style>\n",
       "<table border=\"1\" class=\"dataframe\">\n",
       "  <thead>\n",
       "    <tr style=\"text-align: right;\">\n",
       "      <th></th>\n",
       "      <th>I</th>\n",
       "      <th>H</th>\n",
       "      <th>D</th>\n",
       "    </tr>\n",
       "  </thead>\n",
       "  <tbody>\n",
       "    <tr>\n",
       "      <th>0</th>\n",
       "      <td>1.0</td>\n",
       "      <td>NaN</td>\n",
       "      <td>0.0</td>\n",
       "    </tr>\n",
       "    <tr>\n",
       "      <th>1</th>\n",
       "      <td>10.0</td>\n",
       "      <td>NaN</td>\n",
       "      <td>0.0</td>\n",
       "    </tr>\n",
       "    <tr>\n",
       "      <th>2</th>\n",
       "      <td>21.0</td>\n",
       "      <td>NaN</td>\n",
       "      <td>0.0</td>\n",
       "    </tr>\n",
       "    <tr>\n",
       "      <th>3</th>\n",
       "      <td>24.0</td>\n",
       "      <td>NaN</td>\n",
       "      <td>0.0</td>\n",
       "    </tr>\n",
       "    <tr>\n",
       "      <th>4</th>\n",
       "      <td>76.0</td>\n",
       "      <td>NaN</td>\n",
       "      <td>0.0</td>\n",
       "    </tr>\n",
       "    <tr>\n",
       "      <th>5</th>\n",
       "      <td>104.0</td>\n",
       "      <td>NaN</td>\n",
       "      <td>0.0</td>\n",
       "    </tr>\n",
       "    <tr>\n",
       "      <th>6</th>\n",
       "      <td>128.0</td>\n",
       "      <td>NaN</td>\n",
       "      <td>0.0</td>\n",
       "    </tr>\n",
       "    <tr>\n",
       "      <th>7</th>\n",
       "      <td>131.0</td>\n",
       "      <td>NaN</td>\n",
       "      <td>0.0</td>\n",
       "    </tr>\n",
       "    <tr>\n",
       "      <th>8</th>\n",
       "      <td>192.0</td>\n",
       "      <td>NaN</td>\n",
       "      <td>1.0</td>\n",
       "    </tr>\n",
       "    <tr>\n",
       "      <th>9</th>\n",
       "      <td>220.0</td>\n",
       "      <td>NaN</td>\n",
       "      <td>1.0</td>\n",
       "    </tr>\n",
       "    <tr>\n",
       "      <th>10</th>\n",
       "      <td>274.0</td>\n",
       "      <td>NaN</td>\n",
       "      <td>1.0</td>\n",
       "    </tr>\n",
       "    <tr>\n",
       "      <th>11</th>\n",
       "      <td>394.0</td>\n",
       "      <td>NaN</td>\n",
       "      <td>4.0</td>\n",
       "    </tr>\n",
       "    <tr>\n",
       "      <th>12</th>\n",
       "      <td>481.0</td>\n",
       "      <td>NaN</td>\n",
       "      <td>9.0</td>\n",
       "    </tr>\n",
       "    <tr>\n",
       "      <th>13</th>\n",
       "      <td>745.0</td>\n",
       "      <td>NaN</td>\n",
       "      <td>19.0</td>\n",
       "    </tr>\n",
       "    <tr>\n",
       "      <th>14</th>\n",
       "      <td>1111.0</td>\n",
       "      <td>NaN</td>\n",
       "      <td>30.0</td>\n",
       "    </tr>\n",
       "    <tr>\n",
       "      <th>15</th>\n",
       "      <td>2128.0</td>\n",
       "      <td>NaN</td>\n",
       "      <td>51.0</td>\n",
       "    </tr>\n",
       "    <tr>\n",
       "      <th>16</th>\n",
       "      <td>3671.0</td>\n",
       "      <td>NaN</td>\n",
       "      <td>77.0</td>\n",
       "    </tr>\n",
       "    <tr>\n",
       "      <th>17</th>\n",
       "      <td>6578.0</td>\n",
       "      <td>NaN</td>\n",
       "      <td>129.0</td>\n",
       "    </tr>\n",
       "    <tr>\n",
       "      <th>18</th>\n",
       "      <td>9449.0</td>\n",
       "      <td>NaN</td>\n",
       "      <td>175.0</td>\n",
       "    </tr>\n",
       "    <tr>\n",
       "      <th>19</th>\n",
       "      <td>13761.0</td>\n",
       "      <td>NaN</td>\n",
       "      <td>226.0</td>\n",
       "    </tr>\n",
       "    <tr>\n",
       "      <th>20</th>\n",
       "      <td>18270.0</td>\n",
       "      <td>NaN</td>\n",
       "      <td>315.0</td>\n",
       "    </tr>\n",
       "    <tr>\n",
       "      <th>21</th>\n",
       "      <td>21478.0</td>\n",
       "      <td>NaN</td>\n",
       "      <td>427.0</td>\n",
       "    </tr>\n",
       "    <tr>\n",
       "      <th>22</th>\n",
       "      <td>23630.0</td>\n",
       "      <td>NaN</td>\n",
       "      <td>565.0</td>\n",
       "    </tr>\n",
       "    <tr>\n",
       "      <th>23</th>\n",
       "      <td>26987.0</td>\n",
       "      <td>NaN</td>\n",
       "      <td>759.0</td>\n",
       "    </tr>\n",
       "    <tr>\n",
       "      <th>24</th>\n",
       "      <td>29533.0</td>\n",
       "      <td>NaN</td>\n",
       "      <td>984.0</td>\n",
       "    </tr>\n",
       "    <tr>\n",
       "      <th>25</th>\n",
       "      <td>31623.0</td>\n",
       "      <td>NaN</td>\n",
       "      <td>1285.0</td>\n",
       "    </tr>\n",
       "    <tr>\n",
       "      <th>26</th>\n",
       "      <td>33967.0</td>\n",
       "      <td>NaN</td>\n",
       "      <td>1603.0</td>\n",
       "    </tr>\n",
       "    <tr>\n",
       "      <th>27</th>\n",
       "      <td>35822.0</td>\n",
       "      <td>NaN</td>\n",
       "      <td>1930.0</td>\n",
       "    </tr>\n",
       "    <tr>\n",
       "      <th>28</th>\n",
       "      <td>38456.0</td>\n",
       "      <td>NaN</td>\n",
       "      <td>2334.0</td>\n",
       "    </tr>\n",
       "    <tr>\n",
       "      <th>29</th>\n",
       "      <td>45676.0</td>\n",
       "      <td>NaN</td>\n",
       "      <td>2859.0</td>\n",
       "    </tr>\n",
       "    <tr>\n",
       "      <th>30</th>\n",
       "      <td>48380.0</td>\n",
       "      <td>NaN</td>\n",
       "      <td>3420.0</td>\n",
       "    </tr>\n",
       "    <tr>\n",
       "      <th>31</th>\n",
       "      <td>51807.0</td>\n",
       "      <td>NaN</td>\n",
       "      <td>3989.0</td>\n",
       "    </tr>\n",
       "    <tr>\n",
       "      <th>32</th>\n",
       "      <td>55042.0</td>\n",
       "      <td>NaN</td>\n",
       "      <td>4634.0</td>\n",
       "    </tr>\n",
       "    <tr>\n",
       "      <th>33</th>\n",
       "      <td>56847.0</td>\n",
       "      <td>NaN</td>\n",
       "      <td>5384.0</td>\n",
       "    </tr>\n",
       "    <tr>\n",
       "      <th>34</th>\n",
       "      <td>52184.0</td>\n",
       "      <td>NaN</td>\n",
       "      <td>6185.0</td>\n",
       "    </tr>\n",
       "    <tr>\n",
       "      <th>35</th>\n",
       "      <td>49194.0</td>\n",
       "      <td>NaN</td>\n",
       "      <td>7241.0</td>\n",
       "    </tr>\n",
       "    <tr>\n",
       "      <th>36</th>\n",
       "      <td>48730.0</td>\n",
       "      <td>NaN</td>\n",
       "      <td>7985.0</td>\n",
       "    </tr>\n",
       "    <tr>\n",
       "      <th>37</th>\n",
       "      <td>50551.0</td>\n",
       "      <td>NaN</td>\n",
       "      <td>8846.0</td>\n",
       "    </tr>\n",
       "    <tr>\n",
       "      <th>38</th>\n",
       "      <td>51029.0</td>\n",
       "      <td>0.0</td>\n",
       "      <td>9579.0</td>\n",
       "    </tr>\n",
       "    <tr>\n",
       "      <th>39</th>\n",
       "      <td>49701.0</td>\n",
       "      <td>0.0</td>\n",
       "      <td>10345.0</td>\n",
       "    </tr>\n",
       "    <tr>\n",
       "      <th>40</th>\n",
       "      <td>50661.0</td>\n",
       "      <td>NaN</td>\n",
       "      <td>11126.0</td>\n",
       "    </tr>\n",
       "    <tr>\n",
       "      <th>41</th>\n",
       "      <td>48303.0</td>\n",
       "      <td>NaN</td>\n",
       "      <td>11930.0</td>\n",
       "    </tr>\n",
       "    <tr>\n",
       "      <th>42</th>\n",
       "      <td>43703.0</td>\n",
       "      <td>NaN</td>\n",
       "      <td>12669.0</td>\n",
       "    </tr>\n",
       "    <tr>\n",
       "      <th>43</th>\n",
       "      <td>38888.0</td>\n",
       "      <td>NaN</td>\n",
       "      <td>13332.0</td>\n",
       "    </tr>\n",
       "    <tr>\n",
       "      <th>44</th>\n",
       "      <td>38244.0</td>\n",
       "      <td>NaN</td>\n",
       "      <td>13987.0</td>\n",
       "    </tr>\n",
       "    <tr>\n",
       "      <th>45</th>\n",
       "      <td>36857.0</td>\n",
       "      <td>0.0</td>\n",
       "      <td>14371.0</td>\n",
       "    </tr>\n",
       "    <tr>\n",
       "      <th>46</th>\n",
       "      <td>35881.0</td>\n",
       "      <td>1.0</td>\n",
       "      <td>14780.0</td>\n",
       "    </tr>\n",
       "    <tr>\n",
       "      <th>47</th>\n",
       "      <td>35054.0</td>\n",
       "      <td>NaN</td>\n",
       "      <td>15225.0</td>\n",
       "    </tr>\n",
       "    <tr>\n",
       "      <th>48</th>\n",
       "      <td>34782.0</td>\n",
       "      <td>NaN</td>\n",
       "      <td>16116.0</td>\n",
       "    </tr>\n",
       "    <tr>\n",
       "      <th>49</th>\n",
       "      <td>31526.0</td>\n",
       "      <td>NaN</td>\n",
       "      <td>16639.0</td>\n",
       "    </tr>\n",
       "    <tr>\n",
       "      <th>50</th>\n",
       "      <td>28799.0</td>\n",
       "      <td>NaN</td>\n",
       "      <td>17091.0</td>\n",
       "    </tr>\n",
       "    <tr>\n",
       "      <th>51</th>\n",
       "      <td>27419.0</td>\n",
       "      <td>NaN</td>\n",
       "      <td>17647.0</td>\n",
       "    </tr>\n",
       "    <tr>\n",
       "      <th>52</th>\n",
       "      <td>27443.0</td>\n",
       "      <td>0.0</td>\n",
       "      <td>18132.0</td>\n",
       "    </tr>\n",
       "    <tr>\n",
       "      <th>53</th>\n",
       "      <td>30499.0</td>\n",
       "      <td>0.0</td>\n",
       "      <td>18523.0</td>\n",
       "    </tr>\n",
       "    <tr>\n",
       "      <th>54</th>\n",
       "      <td>31543.0</td>\n",
       "      <td>1.0</td>\n",
       "      <td>18882.0</td>\n",
       "    </tr>\n",
       "    <tr>\n",
       "      <th>55</th>\n",
       "      <td>31597.0</td>\n",
       "      <td>0.0</td>\n",
       "      <td>19292.0</td>\n",
       "    </tr>\n",
       "    <tr>\n",
       "      <th>56</th>\n",
       "      <td>29008.0</td>\n",
       "      <td>0.0</td>\n",
       "      <td>19602.0</td>\n",
       "    </tr>\n",
       "    <tr>\n",
       "      <th>57</th>\n",
       "      <td>25476.0</td>\n",
       "      <td>0.0</td>\n",
       "      <td>20000.0</td>\n",
       "    </tr>\n",
       "    <tr>\n",
       "      <th>58</th>\n",
       "      <td>20411.0</td>\n",
       "      <td>0.0</td>\n",
       "      <td>20334.0</td>\n",
       "    </tr>\n",
       "    <tr>\n",
       "      <th>59</th>\n",
       "      <td>19224.0</td>\n",
       "      <td>0.0</td>\n",
       "      <td>20662.0</td>\n",
       "    </tr>\n",
       "  </tbody>\n",
       "</table>\n",
       "</div>"
      ],
      "text/plain": [
       "          I    H        D\n",
       "0       1.0  NaN      0.0\n",
       "1      10.0  NaN      0.0\n",
       "2      21.0  NaN      0.0\n",
       "3      24.0  NaN      0.0\n",
       "4      76.0  NaN      0.0\n",
       "5     104.0  NaN      0.0\n",
       "6     128.0  NaN      0.0\n",
       "7     131.0  NaN      0.0\n",
       "8     192.0  NaN      1.0\n",
       "9     220.0  NaN      1.0\n",
       "10    274.0  NaN      1.0\n",
       "11    394.0  NaN      4.0\n",
       "12    481.0  NaN      9.0\n",
       "13    745.0  NaN     19.0\n",
       "14   1111.0  NaN     30.0\n",
       "15   2128.0  NaN     51.0\n",
       "16   3671.0  NaN     77.0\n",
       "17   6578.0  NaN    129.0\n",
       "18   9449.0  NaN    175.0\n",
       "19  13761.0  NaN    226.0\n",
       "20  18270.0  NaN    315.0\n",
       "21  21478.0  NaN    427.0\n",
       "22  23630.0  NaN    565.0\n",
       "23  26987.0  NaN    759.0\n",
       "24  29533.0  NaN    984.0\n",
       "25  31623.0  NaN   1285.0\n",
       "26  33967.0  NaN   1603.0\n",
       "27  35822.0  NaN   1930.0\n",
       "28  38456.0  NaN   2334.0\n",
       "29  45676.0  NaN   2859.0\n",
       "30  48380.0  NaN   3420.0\n",
       "31  51807.0  NaN   3989.0\n",
       "32  55042.0  NaN   4634.0\n",
       "33  56847.0  NaN   5384.0\n",
       "34  52184.0  NaN   6185.0\n",
       "35  49194.0  NaN   7241.0\n",
       "36  48730.0  NaN   7985.0\n",
       "37  50551.0  NaN   8846.0\n",
       "38  51029.0  0.0   9579.0\n",
       "39  49701.0  0.0  10345.0\n",
       "40  50661.0  NaN  11126.0\n",
       "41  48303.0  NaN  11930.0\n",
       "42  43703.0  NaN  12669.0\n",
       "43  38888.0  NaN  13332.0\n",
       "44  38244.0  NaN  13987.0\n",
       "45  36857.0  0.0  14371.0\n",
       "46  35881.0  1.0  14780.0\n",
       "47  35054.0  NaN  15225.0\n",
       "48  34782.0  NaN  16116.0\n",
       "49  31526.0  NaN  16639.0\n",
       "50  28799.0  NaN  17091.0\n",
       "51  27419.0  NaN  17647.0\n",
       "52  27443.0  0.0  18132.0\n",
       "53  30499.0  0.0  18523.0\n",
       "54  31543.0  1.0  18882.0\n",
       "55  31597.0  0.0  19292.0\n",
       "56  29008.0  0.0  19602.0\n",
       "57  25476.0  0.0  20000.0\n",
       "58  20411.0  0.0  20334.0\n",
       "59  19224.0  0.0  20662.0"
      ]
     },
     "execution_count": 4,
     "metadata": {},
     "output_type": "execute_result"
    }
   ],
   "source": [
    "test_data"
   ]
  },
  {
   "cell_type": "code",
   "execution_count": 5,
   "id": "7448e4a2-1903-4a0f-bf0a-916069b5b4db",
   "metadata": {},
   "outputs": [
    {
     "name": "stdout",
     "output_type": "stream",
     "text": [
      "iteration 0: loss = 699.9535211622715\n",
      "iteration 25: loss = 682.1455722153187\n",
      "iteration 50: loss = 642.9254550039768\n",
      "iteration 75: loss = 639.9548486769199\n",
      "iteration 100: loss = 633.3055581152439\n",
      "iteration 125: loss = 634.6444889605045\n",
      "iteration 150: loss = 634.5578090250492\n",
      "iteration 175: loss = 636.1768108904362\n",
      "iteration 200: loss = 633.7074040472507\n",
      "iteration 225: loss = 634.5738643705845\n",
      "\n"
     ]
    },
    {
     "data": {
      "application/vnd.vega.v5+json": {
       "$schema": "https://vega.github.io/schema/vega/v5.json",
       "axes": [
        {
         "name": "x_axis",
         "orient": "bottom",
         "scale": "xscale",
         "zindex": 100
        },
        {
         "name": "y_axis",
         "orient": "left",
         "scale": "yscale",
         "zindex": 100
        }
       ],
       "data": [
        {
         "name": "distributions",
         "values": [
          {
           "lower": 6.589578609828342e-23,
           "timepoint": 0,
           "trajectory": "D_sol",
           "upper": 1.6496721551060649e-21
          },
          {
           "lower": 0.007272153836674989,
           "timepoint": 1,
           "trajectory": "D_sol",
           "upper": 0.18316819816827773
          },
          {
           "lower": 0.03144845981150866,
           "timepoint": 2,
           "trajectory": "D_sol",
           "upper": 0.7948967337608337
          },
          {
           "lower": 0.07572528216987849,
           "timepoint": 3,
           "trajectory": "D_sol",
           "upper": 1.9172629356384276
          },
          {
           "lower": 0.14346397519111634,
           "timepoint": 4,
           "trajectory": "D_sol",
           "upper": 3.638047194480896
          },
          {
           "lower": 0.23873488008975985,
           "timepoint": 5,
           "trajectory": "D_sol",
           "upper": 6.073607134819031
          },
          {
           "lower": 0.3667181596159935,
           "timepoint": 6,
           "trajectory": "D_sol",
           "upper": 9.288085556030273
          },
          {
           "lower": 0.5340707540512085,
           "timepoint": 7,
           "trajectory": "D_sol",
           "upper": 13.470838642120361
          },
          {
           "lower": 0.7493162870407105,
           "timepoint": 8,
           "trajectory": "D_sol",
           "upper": 18.850276088714597
          },
          {
           "lower": 1.0232928037643434,
           "timepoint": 9,
           "trajectory": "D_sol",
           "upper": 25.67293891906738
          },
          {
           "lower": 1.3697135031223298,
           "timepoint": 10,
           "trajectory": "D_sol",
           "upper": 34.407508468627924
          },
          {
           "lower": 1.8058280944824219,
           "timepoint": 11,
           "trajectory": "D_sol",
           "upper": 45.41452007293701
          },
          {
           "lower": 2.353272384405136,
           "timepoint": 12,
           "trajectory": "D_sol",
           "upper": 59.2441759109497
          },
          {
           "lower": 3.0390653252601627,
           "timepoint": 13,
           "trajectory": "D_sol",
           "upper": 76.58437232971191
          },
          {
           "lower": 3.896831834316254,
           "timepoint": 14,
           "trajectory": "D_sol",
           "upper": 98.29203643798827
          },
          {
           "lower": 4.968183934688568,
           "timepoint": 15,
           "trajectory": "D_sol",
           "upper": 125.42968292236327
          },
          {
           "lower": 6.304273319244385,
           "timepoint": 16,
           "trajectory": "D_sol",
           "upper": 159.30503768920897
          },
          {
           "lower": 7.967221951484681,
           "timepoint": 17,
           "trajectory": "D_sol",
           "upper": 201.51089096069333
          },
          {
           "lower": 10.031205320358277,
           "timepoint": 18,
           "trajectory": "D_sol",
           "upper": 253.95521774291987
          },
          {
           "lower": 12.582322692871095,
           "timepoint": 19,
           "trajectory": "D_sol",
           "upper": 318.86564788818356
          },
          {
           "lower": 15.716536378860475,
           "timepoint": 20,
           "trajectory": "D_sol",
           "upper": 398.74416351318354
          },
          {
           "lower": 19.534157848358156,
           "timepoint": 21,
           "trajectory": "D_sol",
           "upper": 496.24327850341786
          },
          {
           "lower": 24.13110055923462,
           "timepoint": 22,
           "trajectory": "D_sol",
           "upper": 613.9568389892577
          },
          {
           "lower": 29.58702144622803,
           "timepoint": 23,
           "trajectory": "D_sol",
           "upper": 754.1331817626951
          },
          {
           "lower": 35.95404558181763,
           "timepoint": 24,
           "trajectory": "D_sol",
           "upper": 918.3911682128904
          },
          {
           "lower": 43.248518848419195,
           "timepoint": 25,
           "trajectory": "D_sol",
           "upper": 1107.5070678710936
          },
          {
           "lower": 51.448957252502446,
           "timepoint": 26,
           "trajectory": "D_sol",
           "upper": 1321.3367919921873
          },
          {
           "lower": 60.499406051635745,
           "timepoint": 27,
           "trajectory": "D_sol",
           "upper": 1558.8746887207028
          },
          {
           "lower": 70.3168447494507,
           "timepoint": 28,
           "trajectory": "D_sol",
           "upper": 1818.4124267578122
          },
          {
           "lower": 80.80041103363038,
           "timepoint": 29,
           "trajectory": "D_sol",
           "upper": 2097.752209472656
          },
          {
           "lower": 91.84031295776367,
           "timepoint": 30,
           "trajectory": "D_sol",
           "upper": 2394.395129394531
          },
          {
           "lower": 103.32480049133301,
           "timepoint": 31,
           "trajectory": "D_sol",
           "upper": 2705.758557128906
          },
          {
           "lower": 115.14639396667481,
           "timepoint": 32,
           "trajectory": "D_sol",
           "upper": 3029.2838012695306
          },
          {
           "lower": 127.2052085876465,
           "timepoint": 33,
           "trajectory": "D_sol",
           "upper": 3362.5471679687494
          },
          {
           "lower": 138.3941993713379,
           "timepoint": 34,
           "trajectory": "D_sol",
           "upper": 3703.326196289062
          },
          {
           "lower": 149.15624046325684,
           "timepoint": 35,
           "trajectory": "D_sol",
           "upper": 4049.6253417968746
          },
          {
           "lower": 159.6426036834717,
           "timepoint": 36,
           "trajectory": "D_sol",
           "upper": 4399.688696289062
          },
          {
           "lower": 169.79825019836426,
           "timepoint": 37,
           "trajectory": "D_sol",
           "upper": 4751.991870117187
          },
          {
           "lower": 179.5832000732422,
           "timepoint": 38,
           "trajectory": "D_sol",
           "upper": 5105.239990234375
          },
          {
           "lower": 188.9684181213379,
           "timepoint": 39,
           "trajectory": "D_sol",
           "upper": 5458.329052734375
          },
          {
           "lower": 197.93498840332032,
           "timepoint": 40,
           "trajectory": "D_sol",
           "upper": 5798.023706054688
          },
          {
           "lower": 206.47324295043947,
           "timepoint": 41,
           "trajectory": "D_sol",
           "upper": 6105.1529541015625
          },
          {
           "lower": 214.57936935424806,
           "timepoint": 42,
           "trajectory": "D_sol",
           "upper": 6404.45166015625
          },
          {
           "lower": 222.25633697509767,
           "timepoint": 43,
           "trajectory": "D_sol",
           "upper": 6695.546533203124
          },
          {
           "lower": 229.51086044311523,
           "timepoint": 44,
           "trajectory": "D_sol",
           "upper": 6978.195190429687
          },
          {
           "lower": 236.35335845947267,
           "timepoint": 45,
           "trajectory": "D_sol",
           "upper": 7252.244360351561
          },
          {
           "lower": 242.79721984863284,
           "timepoint": 46,
           "trajectory": "D_sol",
           "upper": 7517.632299804686
          },
          {
           "lower": 248.85598068237306,
           "timepoint": 47,
           "trajectory": "D_sol",
           "upper": 7774.381396484374
          },
          {
           "lower": 254.54717178344728,
           "timepoint": 48,
           "trajectory": "D_sol",
           "upper": 8022.548168945311
          },
          {
           "lower": 259.88699188232425,
           "timepoint": 49,
           "trajectory": "D_sol",
           "upper": 8262.241845703124
          },
          {
           "lower": 264.89292297363284,
           "timepoint": 50,
           "trajectory": "D_sol",
           "upper": 8493.624707031247
          },
          {
           "lower": 269.582453918457,
           "timepoint": 51,
           "trajectory": "D_sol",
           "upper": 8719.111621093747
          },
          {
           "lower": 273.9728256225586,
           "timepoint": 52,
           "trajectory": "D_sol",
           "upper": 8998.766503906247
          },
          {
           "lower": 278.08079223632814,
           "timepoint": 53,
           "trajectory": "D_sol",
           "upper": 9273.962939453122
          },
          {
           "lower": 281.92364196777345,
           "timepoint": 54,
           "trajectory": "D_sol",
           "upper": 9544.706005859372
          },
          {
           "lower": 285.5164260864258,
           "timepoint": 55,
           "trajectory": "D_sol",
           "upper": 9811.014990234373
          },
          {
           "lower": 288.87490463256836,
           "timepoint": 56,
           "trajectory": "D_sol",
           "upper": 10072.921972656248
          },
          {
           "lower": 292.01389465332034,
           "timepoint": 57,
           "trajectory": "D_sol",
           "upper": 10330.456249999997
          },
          {
           "lower": 294.9473358154297,
           "timepoint": 58,
           "trajectory": "D_sol",
           "upper": 10583.679833984372
          },
          {
           "lower": 297.68791046142576,
           "timepoint": 59,
           "trajectory": "D_sol",
           "upper": 10832.604541015622
          },
          {
           "lower": 6.5307983673768e-11,
           "timepoint": 0,
           "trajectory": "H_sol",
           "upper": 5.484796478105735e-10
          },
          {
           "lower": 0.7598809152841568,
           "timepoint": 1,
           "trajectory": "H_sol",
           "upper": 6.341664576530457
          },
          {
           "lower": 1.7020231783390045,
           "timepoint": 2,
           "trajectory": "H_sol",
           "upper": 14.13466181755066
          },
          {
           "lower": 2.8170644998550416,
           "timepoint": 3,
           "trajectory": "H_sol",
           "upper": 23.261983013153078
          },
          {
           "lower": 4.130424332618714,
           "timepoint": 4,
           "trajectory": "H_sol",
           "upper": 33.94461803436279
          },
          {
           "lower": 5.691891312599182,
           "timepoint": 5,
           "trajectory": "H_sol",
           "upper": 46.50318622589111
          },
          {
           "lower": 7.571918869018555,
           "timepoint": 6,
           "trajectory": "H_sol",
           "upper": 61.53390254974365
          },
          {
           "lower": 9.861812400817872,
           "timepoint": 7,
           "trajectory": "H_sol",
           "upper": 79.75184097290038
          },
          {
           "lower": 12.676581430435181,
           "timepoint": 8,
           "trajectory": "H_sol",
           "upper": 102.01681213378906
          },
          {
           "lower": 16.159757089614867,
           "timepoint": 9,
           "trajectory": "H_sol",
           "upper": 129.37133712768554
          },
          {
           "lower": 20.489990425109863,
           "timepoint": 10,
           "trajectory": "H_sol",
           "upper": 162.65666732788085
          },
          {
           "lower": 25.889514350891115,
           "timepoint": 11,
           "trajectory": "H_sol",
           "upper": 203.17920150756837
          },
          {
           "lower": 32.63422498703003,
           "timepoint": 12,
           "trajectory": "H_sol",
           "upper": 253.1209602355957
          },
          {
           "lower": 41.06554470062256,
           "timepoint": 13,
           "trajectory": "H_sol",
           "upper": 314.7668167114258
          },
          {
           "lower": 51.602885055542,
           "timepoint": 14,
           "trajectory": "H_sol",
           "upper": 390.8481384277344
          },
          {
           "lower": 64.75584201812744,
           "timepoint": 15,
           "trajectory": "H_sol",
           "upper": 484.6201858520508
          },
          {
           "lower": 81.130366897583,
           "timepoint": 16,
           "trajectory": "H_sol",
           "upper": 599.8776702880859
          },
          {
           "lower": 101.42218437194825,
           "timepoint": 17,
           "trajectory": "H_sol",
           "upper": 742.0141571044921
          },
          {
           "lower": 126.38384132385254,
           "timepoint": 18,
           "trajectory": "H_sol",
           "upper": 913.3357116699218
          },
          {
           "lower": 156.74527969360352,
           "timepoint": 19,
           "trajectory": "H_sol",
           "upper": 1118.7803588867187
          },
          {
           "lower": 193.07362594604493,
           "timepoint": 20,
           "trajectory": "H_sol",
           "upper": 1375.0294799804688
          },
          {
           "lower": 235.57607345581056,
           "timepoint": 21,
           "trajectory": "H_sol",
           "upper": 1672.0490722656248
          },
          {
           "lower": 282.8242637634277,
           "timepoint": 22,
           "trajectory": "H_sol",
           "upper": 2004.716046142578
          },
          {
           "lower": 332.24600372314455,
           "timepoint": 23,
           "trajectory": "H_sol",
           "upper": 2362.5914306640625
          },
          {
           "lower": 382.89686889648436,
           "timepoint": 24,
           "trajectory": "H_sol",
           "upper": 2730.5879272460934
          },
          {
           "lower": 432.38897399902345,
           "timepoint": 25,
           "trajectory": "H_sol",
           "upper": 3091.2151855468746
          },
          {
           "lower": 478.42071838378905,
           "timepoint": 26,
           "trajectory": "H_sol",
           "upper": 3449.9218994140624
          },
          {
           "lower": 519.0979385375977,
           "timepoint": 27,
           "trajectory": "H_sol",
           "upper": 3805.56767578125
          },
          {
           "lower": 553.1041687011718,
           "timepoint": 28,
           "trajectory": "H_sol",
           "upper": 4131.52158203125
          },
          {
           "lower": 579.7356811523438,
           "timepoint": 29,
           "trajectory": "H_sol",
           "upper": 4419.349047851562
          },
          {
           "lower": 598.8305297851563,
           "timepoint": 30,
           "trajectory": "H_sol",
           "upper": 4665.908276367187
          },
          {
           "lower": 610.6516387939453,
           "timepoint": 31,
           "trajectory": "H_sol",
           "upper": 4867.71982421875
          },
          {
           "lower": 615.7583618164062,
           "timepoint": 32,
           "trajectory": "H_sol",
           "upper": 5026.146435546875
          },
          {
           "lower": 614.8896942138672,
           "timepoint": 33,
           "trajectory": "H_sol",
           "upper": 5122.100561523437
          },
          {
           "lower": 608.8635864257812,
           "timepoint": 34,
           "trajectory": "H_sol",
           "upper": 5188.032763671875
          },
          {
           "lower": 598.52080078125,
           "timepoint": 35,
           "trajectory": "H_sol",
           "upper": 5253.397216796875
          },
          {
           "lower": 584.6645416259765,
           "timepoint": 36,
           "trajectory": "H_sol",
           "upper": 5293.697705078125
          },
          {
           "lower": 568.0363067626953,
           "timepoint": 37,
           "trajectory": "H_sol",
           "upper": 5312.463110351562
          },
          {
           "lower": 549.56796875,
           "timepoint": 38,
           "trajectory": "H_sol",
           "upper": 5283.4193359375
          },
          {
           "lower": 530.0456146240234,
           "timepoint": 39,
           "trajectory": "H_sol",
           "upper": 5214.379223632813
          },
          {
           "lower": 505.8299789428711,
           "timepoint": 40,
           "trajectory": "H_sol",
           "upper": 5158.088842773437
          },
          {
           "lower": 487.36412353515624,
           "timepoint": 41,
           "trajectory": "H_sol",
           "upper": 5129.694116210937
          },
          {
           "lower": 464.79199981689453,
           "timepoint": 42,
           "trajectory": "H_sol",
           "upper": 5092.955737304687
          },
          {
           "lower": 442.25457458496095,
           "timepoint": 43,
           "trajectory": "H_sol",
           "upper": 5049.470458984375
          },
          {
           "lower": 420.0480895996094,
           "timepoint": 44,
           "trajectory": "H_sol",
           "upper": 5000.512622070312
          },
          {
           "lower": 399.12593231201174,
           "timepoint": 45,
           "trajectory": "H_sol",
           "upper": 4943.726342773438
          },
          {
           "lower": 385.3209060668945,
           "timepoint": 46,
           "trajectory": "H_sol",
           "upper": 4866.167138671875
          },
          {
           "lower": 377.9142242431641,
           "timepoint": 47,
           "trajectory": "H_sol",
           "upper": 4786.2459716796875
          },
          {
           "lower": 368.0994812011719,
           "timepoint": 48,
           "trajectory": "H_sol",
           "upper": 4704.679223632812
          },
          {
           "lower": 351.6098098754883,
           "timepoint": 49,
           "trajectory": "H_sol",
           "upper": 4622.0474609375
          },
          {
           "lower": 342.5107818603516,
           "timepoint": 50,
           "trajectory": "H_sol",
           "upper": 4538.883740234374
          },
          {
           "lower": 333.52431640625,
           "timepoint": 51,
           "trajectory": "H_sol",
           "upper": 4455.534936523437
          },
          {
           "lower": 324.6744293212891,
           "timepoint": 52,
           "trajectory": "H_sol",
           "upper": 4372.151147460937
          },
          {
           "lower": 311.68644256591796,
           "timepoint": 53,
           "trajectory": "H_sol",
           "upper": 4288.905493164062
          },
          {
           "lower": 295.56794586181644,
           "timepoint": 54,
           "trajectory": "H_sol",
           "upper": 4206.296557617187
          },
          {
           "lower": 280.1829177856445,
           "timepoint": 55,
           "trajectory": "H_sol",
           "upper": 4124.488281249999
          },
          {
           "lower": 265.51618576049805,
           "timepoint": 56,
           "trajectory": "H_sol",
           "upper": 4043.6132446289057
          },
          {
           "lower": 251.54991302490234,
           "timepoint": 57,
           "trajectory": "H_sol",
           "upper": 3963.776696777343
          },
          {
           "lower": 238.26307907104493,
           "timepoint": 58,
           "trajectory": "H_sol",
           "upper": 3885.0577636718745
          },
          {
           "lower": 222.79839324951172,
           "timepoint": 59,
           "trajectory": "H_sol",
           "upper": 3807.5175292968743
          },
          {
           "lower": 175,
           "timepoint": 0,
           "trajectory": "I_sol",
           "upper": 175
          },
          {
           "lower": 265.12584075927737,
           "timepoint": 1,
           "trajectory": "I_sol",
           "upper": 270.89515228271483
          },
          {
           "lower": 353.6300415039062,
           "timepoint": 2,
           "trajectory": "I_sol",
           "upper": 367.51742401123045
          },
          {
           "lower": 452.92223052978517,
           "timepoint": 3,
           "trajectory": "I_sol",
           "upper": 475.9308609008789
          },
          {
           "lower": 570.5878662109375,
           "timepoint": 4,
           "trajectory": "I_sol",
           "upper": 605.0859649658203
          },
          {
           "lower": 711.9971649169922,
           "timepoint": 5,
           "trajectory": "I_sol",
           "upper": 766.2421661376953
          },
          {
           "lower": 878.5551818847656,
           "timepoint": 6,
           "trajectory": "I_sol",
           "upper": 964.6990386962891
          },
          {
           "lower": 1088.2187377929688,
           "timepoint": 7,
           "trajectory": "I_sol",
           "upper": 1212.8461669921876
          },
          {
           "lower": 1351.427667236328,
           "timepoint": 8,
           "trajectory": "I_sol",
           "upper": 1523.8406005859374
          },
          {
           "lower": 1672.3165466308594,
           "timepoint": 9,
           "trajectory": "I_sol",
           "upper": 1913.9285034179688
          },
          {
           "lower": 2074.098095703125,
           "timepoint": 10,
           "trajectory": "I_sol",
           "upper": 2403.266320800781
          },
          {
           "lower": 2571.92294921875,
           "timepoint": 11,
           "trajectory": "I_sol",
           "upper": 3016.870654296875
          },
          {
           "lower": 3188.1793212890625,
           "timepoint": 12,
           "trajectory": "I_sol",
           "upper": 3785.624621582031
          },
          {
           "lower": 3936.4517211914062,
           "timepoint": 13,
           "trajectory": "I_sol",
           "upper": 4748.50341796875
          },
          {
           "lower": 4855.49287109375,
           "timepoint": 14,
           "trajectory": "I_sol",
           "upper": 5954.0225830078125
          },
          {
           "lower": 5979.499438476562,
           "timepoint": 15,
           "trajectory": "I_sol",
           "upper": 7451.90576171875
          },
          {
           "lower": 7346.653540039062,
           "timepoint": 16,
           "trajectory": "I_sol",
           "upper": 9299.3310546875
          },
          {
           "lower": 8983.45322265625,
           "timepoint": 17,
           "trajectory": "I_sol",
           "upper": 11551.40361328125
          },
          {
           "lower": 10920.727197265625,
           "timepoint": 18,
           "trajectory": "I_sol",
           "upper": 14256.69150390625
          },
          {
           "lower": 13154.34853515625,
           "timepoint": 19,
           "trajectory": "I_sol",
           "upper": 17427.88896484375
          },
          {
           "lower": 15641.033935546875,
           "timepoint": 20,
           "trajectory": "I_sol",
           "upper": 21047.75146484375
          },
          {
           "lower": 18283.419921875,
           "timepoint": 21,
           "trajectory": "I_sol",
           "upper": 24950.5763671875
          },
          {
           "lower": 20933.773046875,
           "timepoint": 22,
           "trajectory": "I_sol",
           "upper": 28947.18017578125
          },
          {
           "lower": 23379.12509765625,
           "timepoint": 23,
           "trajectory": "I_sol",
           "upper": 32756.09912109375
          },
          {
           "lower": 25559.59189453125,
           "timepoint": 24,
           "trajectory": "I_sol",
           "upper": 36048.405859375
          },
          {
           "lower": 27341.4666015625,
           "timepoint": 25,
           "trajectory": "I_sol",
           "upper": 38985.761328125
          },
          {
           "lower": 28631.41318359375,
           "timepoint": 26,
           "trajectory": "I_sol",
           "upper": 41262.450390625
          },
          {
           "lower": 29101.8453125,
           "timepoint": 27,
           "trajectory": "I_sol",
           "upper": 42870.589062499996
          },
          {
           "lower": 29124.130078125,
           "timepoint": 28,
           "trajectory": "I_sol",
           "upper": 43962.364453124996
          },
          {
           "lower": 29121.7666015625,
           "timepoint": 29,
           "trajectory": "I_sol",
           "upper": 45108.1130859375
          },
          {
           "lower": 29347.12958984375,
           "timepoint": 30,
           "trajectory": "I_sol",
           "upper": 45909.189453125
          },
          {
           "lower": 29275.69580078125,
           "timepoint": 31,
           "trajectory": "I_sol",
           "upper": 46137.4771484375
          },
          {
           "lower": 28097.8265625,
           "timepoint": 32,
           "trajectory": "I_sol",
           "upper": 46150.1748046875
          },
          {
           "lower": 27641.891796875,
           "timepoint": 33,
           "trajectory": "I_sol",
           "upper": 46000.34765625
          },
          {
           "lower": 27160.47880859375,
           "timepoint": 34,
           "trajectory": "I_sol",
           "upper": 45713.951367187496
          },
          {
           "lower": 26120.3212890625,
           "timepoint": 35,
           "trajectory": "I_sol",
           "upper": 45331.2068359375
          },
          {
           "lower": 24557.49970703125,
           "timepoint": 36,
           "trajectory": "I_sol",
           "upper": 44890.3287109375
          },
          {
           "lower": 22942.5791015625,
           "timepoint": 37,
           "trajectory": "I_sol",
           "upper": 44410.1009765625
          },
          {
           "lower": 21368.6005859375,
           "timepoint": 38,
           "trajectory": "I_sol",
           "upper": 43676.6388671875
          },
          {
           "lower": 19872.69013671875,
           "timepoint": 39,
           "trajectory": "I_sol",
           "upper": 42868.3962890625
          },
          {
           "lower": 18462.9119140625,
           "timepoint": 40,
           "trajectory": "I_sol",
           "upper": 42057.036718749994
          },
          {
           "lower": 17139.75146484375,
           "timepoint": 41,
           "trajectory": "I_sol",
           "upper": 41339.921875
          },
          {
           "lower": 15901.784228515626,
           "timepoint": 42,
           "trajectory": "I_sol",
           "upper": 40878.7591796875
          },
          {
           "lower": 14746.30068359375,
           "timepoint": 43,
           "trajectory": "I_sol",
           "upper": 40417.32890625
          },
          {
           "lower": 13669.793212890625,
           "timepoint": 44,
           "trajectory": "I_sol",
           "upper": 39957.118359374996
          },
          {
           "lower": 12668.29296875,
           "timepoint": 45,
           "trajectory": "I_sol",
           "upper": 39499.109765625
          },
          {
           "lower": 11737.592236328124,
           "timepoint": 46,
           "trajectory": "I_sol",
           "upper": 39043.9353515625
          },
          {
           "lower": 10873.4140625,
           "timepoint": 47,
           "trajectory": "I_sol",
           "upper": 38592.0615234375
          },
          {
           "lower": 10078.116162109374,
           "timepoint": 48,
           "trajectory": "I_sol",
           "upper": 38143.7728515625
          },
          {
           "lower": 9360.5615234375,
           "timepoint": 49,
           "trajectory": "I_sol",
           "upper": 37699.349609375
          },
          {
           "lower": 8784.9681640625,
           "timepoint": 50,
           "trajectory": "I_sol",
           "upper": 37258.8365234375
          },
          {
           "lower": 8244.411694335937,
           "timepoint": 51,
           "trajectory": "I_sol",
           "upper": 36822.365625
          },
          {
           "lower": 7736.836157226562,
           "timepoint": 52,
           "trajectory": "I_sol",
           "upper": 36389.9623046875
          },
          {
           "lower": 7260.348413085938,
           "timepoint": 53,
           "trajectory": "I_sol",
           "upper": 35961.670703125
          },
          {
           "lower": 6813.0931640625,
           "timepoint": 54,
           "trajectory": "I_sol",
           "upper": 35537.473828124996
          },
          {
           "lower": 6393.315014648438,
           "timepoint": 55,
           "trajectory": "I_sol",
           "upper": 35117.4560546875
          },
          {
           "lower": 5999.357763671876,
           "timepoint": 56,
           "trajectory": "I_sol",
           "upper": 34701.525
          },
          {
           "lower": 5629.652124023438,
           "timepoint": 57,
           "trajectory": "I_sol",
           "upper": 34289.7263671875
          },
          {
           "lower": 5282.7274169921875,
           "timepoint": 58,
           "trajectory": "I_sol",
           "upper": 33881.9791015625
          },
          {
           "lower": 4957.183056640625,
           "timepoint": 59,
           "trajectory": "I_sol",
           "upper": 33478.341796875
          }
         ]
        },
        {
         "name": "traces",
         "transform": [
          {
           "expr": "isValid(datum.value)",
           "type": "filter"
          }
         ],
         "values": []
        },
        {
         "name": "points",
         "values": [
          {
           "sample_id": 0,
           "timepoint": 0,
           "trajectory": "I_data",
           "value": 1
          },
          {
           "sample_id": 0,
           "timepoint": 1,
           "trajectory": "I_data",
           "value": 10
          },
          {
           "sample_id": 0,
           "timepoint": 2,
           "trajectory": "I_data",
           "value": 21
          },
          {
           "sample_id": 0,
           "timepoint": 3,
           "trajectory": "I_data",
           "value": 24
          },
          {
           "sample_id": 0,
           "timepoint": 4,
           "trajectory": "I_data",
           "value": 76
          },
          {
           "sample_id": 0,
           "timepoint": 5,
           "trajectory": "I_data",
           "value": 104
          },
          {
           "sample_id": 0,
           "timepoint": 6,
           "trajectory": "I_data",
           "value": 128
          },
          {
           "sample_id": 0,
           "timepoint": 7,
           "trajectory": "I_data",
           "value": 131
          },
          {
           "sample_id": 0,
           "timepoint": 8,
           "trajectory": "I_data",
           "value": 192
          },
          {
           "sample_id": 0,
           "timepoint": 9,
           "trajectory": "I_data",
           "value": 220
          },
          {
           "sample_id": 0,
           "timepoint": 10,
           "trajectory": "I_data",
           "value": 274
          },
          {
           "sample_id": 0,
           "timepoint": 11,
           "trajectory": "I_data",
           "value": 394
          },
          {
           "sample_id": 0,
           "timepoint": 12,
           "trajectory": "I_data",
           "value": 481
          },
          {
           "sample_id": 0,
           "timepoint": 13,
           "trajectory": "I_data",
           "value": 745
          },
          {
           "sample_id": 0,
           "timepoint": 14,
           "trajectory": "I_data",
           "value": 1111
          },
          {
           "sample_id": 0,
           "timepoint": 15,
           "trajectory": "I_data",
           "value": 2128
          },
          {
           "sample_id": 0,
           "timepoint": 16,
           "trajectory": "I_data",
           "value": 3671
          },
          {
           "sample_id": 0,
           "timepoint": 17,
           "trajectory": "I_data",
           "value": 6578
          },
          {
           "sample_id": 0,
           "timepoint": 18,
           "trajectory": "I_data",
           "value": 9449
          },
          {
           "sample_id": 0,
           "timepoint": 19,
           "trajectory": "I_data",
           "value": 13761
          },
          {
           "sample_id": 0,
           "timepoint": 20,
           "trajectory": "I_data",
           "value": 18270
          },
          {
           "sample_id": 0,
           "timepoint": 21,
           "trajectory": "I_data",
           "value": 21478
          },
          {
           "sample_id": 0,
           "timepoint": 22,
           "trajectory": "I_data",
           "value": 23630
          },
          {
           "sample_id": 0,
           "timepoint": 23,
           "trajectory": "I_data",
           "value": 26987
          },
          {
           "sample_id": 0,
           "timepoint": 24,
           "trajectory": "I_data",
           "value": 29533
          },
          {
           "sample_id": 0,
           "timepoint": 25,
           "trajectory": "I_data",
           "value": 31623
          },
          {
           "sample_id": 0,
           "timepoint": 26,
           "trajectory": "I_data",
           "value": 33967
          },
          {
           "sample_id": 0,
           "timepoint": 27,
           "trajectory": "I_data",
           "value": 35822
          },
          {
           "sample_id": 0,
           "timepoint": 28,
           "trajectory": "I_data",
           "value": 38456
          },
          {
           "sample_id": 0,
           "timepoint": 29,
           "trajectory": "I_data",
           "value": 45676
          },
          {
           "sample_id": 0,
           "timepoint": 30,
           "trajectory": "I_data",
           "value": 48380
          },
          {
           "sample_id": 0,
           "timepoint": 31,
           "trajectory": "I_data",
           "value": 51807
          },
          {
           "sample_id": 0,
           "timepoint": 32,
           "trajectory": "I_data",
           "value": 55042
          },
          {
           "sample_id": 0,
           "timepoint": 33,
           "trajectory": "I_data",
           "value": 56847
          },
          {
           "sample_id": 0,
           "timepoint": 34,
           "trajectory": "I_data",
           "value": 52184
          },
          {
           "sample_id": 0,
           "timepoint": 35,
           "trajectory": "I_data",
           "value": 49194
          },
          {
           "sample_id": 0,
           "timepoint": 36,
           "trajectory": "I_data",
           "value": 48730
          },
          {
           "sample_id": 0,
           "timepoint": 37,
           "trajectory": "I_data",
           "value": 50551
          },
          {
           "sample_id": 0,
           "timepoint": 38,
           "trajectory": "I_data",
           "value": 51029
          },
          {
           "sample_id": 0,
           "timepoint": 39,
           "trajectory": "I_data",
           "value": 49701
          },
          {
           "sample_id": 0,
           "timepoint": 40,
           "trajectory": "I_data",
           "value": 50661
          },
          {
           "sample_id": 0,
           "timepoint": 41,
           "trajectory": "I_data",
           "value": 48303
          },
          {
           "sample_id": 0,
           "timepoint": 42,
           "trajectory": "I_data",
           "value": 43703
          },
          {
           "sample_id": 0,
           "timepoint": 43,
           "trajectory": "I_data",
           "value": 38888
          },
          {
           "sample_id": 0,
           "timepoint": 44,
           "trajectory": "I_data",
           "value": 38244
          },
          {
           "sample_id": 0,
           "timepoint": 45,
           "trajectory": "I_data",
           "value": 36857
          },
          {
           "sample_id": 0,
           "timepoint": 46,
           "trajectory": "I_data",
           "value": 35881
          },
          {
           "sample_id": 0,
           "timepoint": 47,
           "trajectory": "I_data",
           "value": 35054
          },
          {
           "sample_id": 0,
           "timepoint": 48,
           "trajectory": "I_data",
           "value": 34782
          },
          {
           "sample_id": 0,
           "timepoint": 49,
           "trajectory": "I_data",
           "value": 31526
          },
          {
           "sample_id": 0,
           "timepoint": 50,
           "trajectory": "I_data",
           "value": 28799
          },
          {
           "sample_id": 0,
           "timepoint": 51,
           "trajectory": "I_data",
           "value": 27419
          },
          {
           "sample_id": 0,
           "timepoint": 52,
           "trajectory": "I_data",
           "value": 27443
          },
          {
           "sample_id": 0,
           "timepoint": 53,
           "trajectory": "I_data",
           "value": 30499
          },
          {
           "sample_id": 0,
           "timepoint": 54,
           "trajectory": "I_data",
           "value": 31543
          },
          {
           "sample_id": 0,
           "timepoint": 55,
           "trajectory": "I_data",
           "value": 31597
          },
          {
           "sample_id": 0,
           "timepoint": 56,
           "trajectory": "I_data",
           "value": 29008
          },
          {
           "sample_id": 0,
           "timepoint": 57,
           "trajectory": "I_data",
           "value": 25476
          },
          {
           "sample_id": 0,
           "timepoint": 58,
           "trajectory": "I_data",
           "value": 20411
          },
          {
           "sample_id": 0,
           "timepoint": 59,
           "trajectory": "I_data",
           "value": 19224
          },
          {
           "sample_id": 0,
           "timepoint": 38,
           "trajectory": "H_data",
           "value": 0
          },
          {
           "sample_id": 0,
           "timepoint": 39,
           "trajectory": "H_data",
           "value": 0
          },
          {
           "sample_id": 0,
           "timepoint": 45,
           "trajectory": "H_data",
           "value": 0
          },
          {
           "sample_id": 0,
           "timepoint": 46,
           "trajectory": "H_data",
           "value": 1
          },
          {
           "sample_id": 0,
           "timepoint": 52,
           "trajectory": "H_data",
           "value": 0
          },
          {
           "sample_id": 0,
           "timepoint": 53,
           "trajectory": "H_data",
           "value": 0
          },
          {
           "sample_id": 0,
           "timepoint": 54,
           "trajectory": "H_data",
           "value": 1
          },
          {
           "sample_id": 0,
           "timepoint": 55,
           "trajectory": "H_data",
           "value": 0
          },
          {
           "sample_id": 0,
           "timepoint": 56,
           "trajectory": "H_data",
           "value": 0
          },
          {
           "sample_id": 0,
           "timepoint": 57,
           "trajectory": "H_data",
           "value": 0
          },
          {
           "sample_id": 0,
           "timepoint": 58,
           "trajectory": "H_data",
           "value": 0
          },
          {
           "sample_id": 0,
           "timepoint": 59,
           "trajectory": "H_data",
           "value": 0
          },
          {
           "sample_id": 0,
           "timepoint": 0,
           "trajectory": "D_data",
           "value": 0
          },
          {
           "sample_id": 0,
           "timepoint": 1,
           "trajectory": "D_data",
           "value": 0
          },
          {
           "sample_id": 0,
           "timepoint": 2,
           "trajectory": "D_data",
           "value": 0
          },
          {
           "sample_id": 0,
           "timepoint": 3,
           "trajectory": "D_data",
           "value": 0
          },
          {
           "sample_id": 0,
           "timepoint": 4,
           "trajectory": "D_data",
           "value": 0
          },
          {
           "sample_id": 0,
           "timepoint": 5,
           "trajectory": "D_data",
           "value": 0
          },
          {
           "sample_id": 0,
           "timepoint": 6,
           "trajectory": "D_data",
           "value": 0
          },
          {
           "sample_id": 0,
           "timepoint": 7,
           "trajectory": "D_data",
           "value": 0
          },
          {
           "sample_id": 0,
           "timepoint": 8,
           "trajectory": "D_data",
           "value": 1
          },
          {
           "sample_id": 0,
           "timepoint": 9,
           "trajectory": "D_data",
           "value": 1
          },
          {
           "sample_id": 0,
           "timepoint": 10,
           "trajectory": "D_data",
           "value": 1
          },
          {
           "sample_id": 0,
           "timepoint": 11,
           "trajectory": "D_data",
           "value": 4
          },
          {
           "sample_id": 0,
           "timepoint": 12,
           "trajectory": "D_data",
           "value": 9
          },
          {
           "sample_id": 0,
           "timepoint": 13,
           "trajectory": "D_data",
           "value": 19
          },
          {
           "sample_id": 0,
           "timepoint": 14,
           "trajectory": "D_data",
           "value": 30
          },
          {
           "sample_id": 0,
           "timepoint": 15,
           "trajectory": "D_data",
           "value": 51
          },
          {
           "sample_id": 0,
           "timepoint": 16,
           "trajectory": "D_data",
           "value": 77
          },
          {
           "sample_id": 0,
           "timepoint": 17,
           "trajectory": "D_data",
           "value": 129
          },
          {
           "sample_id": 0,
           "timepoint": 18,
           "trajectory": "D_data",
           "value": 175
          },
          {
           "sample_id": 0,
           "timepoint": 19,
           "trajectory": "D_data",
           "value": 226
          },
          {
           "sample_id": 0,
           "timepoint": 20,
           "trajectory": "D_data",
           "value": 315
          },
          {
           "sample_id": 0,
           "timepoint": 21,
           "trajectory": "D_data",
           "value": 427
          },
          {
           "sample_id": 0,
           "timepoint": 22,
           "trajectory": "D_data",
           "value": 565
          },
          {
           "sample_id": 0,
           "timepoint": 23,
           "trajectory": "D_data",
           "value": 759
          },
          {
           "sample_id": 0,
           "timepoint": 24,
           "trajectory": "D_data",
           "value": 984
          },
          {
           "sample_id": 0,
           "timepoint": 25,
           "trajectory": "D_data",
           "value": 1285
          },
          {
           "sample_id": 0,
           "timepoint": 26,
           "trajectory": "D_data",
           "value": 1603
          },
          {
           "sample_id": 0,
           "timepoint": 27,
           "trajectory": "D_data",
           "value": 1930
          },
          {
           "sample_id": 0,
           "timepoint": 28,
           "trajectory": "D_data",
           "value": 2334
          },
          {
           "sample_id": 0,
           "timepoint": 29,
           "trajectory": "D_data",
           "value": 2859
          },
          {
           "sample_id": 0,
           "timepoint": 30,
           "trajectory": "D_data",
           "value": 3420
          },
          {
           "sample_id": 0,
           "timepoint": 31,
           "trajectory": "D_data",
           "value": 3989
          },
          {
           "sample_id": 0,
           "timepoint": 32,
           "trajectory": "D_data",
           "value": 4634
          },
          {
           "sample_id": 0,
           "timepoint": 33,
           "trajectory": "D_data",
           "value": 5384
          },
          {
           "sample_id": 0,
           "timepoint": 34,
           "trajectory": "D_data",
           "value": 6185
          },
          {
           "sample_id": 0,
           "timepoint": 35,
           "trajectory": "D_data",
           "value": 7241
          },
          {
           "sample_id": 0,
           "timepoint": 36,
           "trajectory": "D_data",
           "value": 7985
          },
          {
           "sample_id": 0,
           "timepoint": 37,
           "trajectory": "D_data",
           "value": 8846
          },
          {
           "sample_id": 0,
           "timepoint": 38,
           "trajectory": "D_data",
           "value": 9579
          },
          {
           "sample_id": 0,
           "timepoint": 39,
           "trajectory": "D_data",
           "value": 10345
          },
          {
           "sample_id": 0,
           "timepoint": 40,
           "trajectory": "D_data",
           "value": 11126
          },
          {
           "sample_id": 0,
           "timepoint": 41,
           "trajectory": "D_data",
           "value": 11930
          },
          {
           "sample_id": 0,
           "timepoint": 42,
           "trajectory": "D_data",
           "value": 12669
          },
          {
           "sample_id": 0,
           "timepoint": 43,
           "trajectory": "D_data",
           "value": 13332
          },
          {
           "sample_id": 0,
           "timepoint": 44,
           "trajectory": "D_data",
           "value": 13987
          },
          {
           "sample_id": 0,
           "timepoint": 45,
           "trajectory": "D_data",
           "value": 14371
          },
          {
           "sample_id": 0,
           "timepoint": 46,
           "trajectory": "D_data",
           "value": 14780
          },
          {
           "sample_id": 0,
           "timepoint": 47,
           "trajectory": "D_data",
           "value": 15225
          },
          {
           "sample_id": 0,
           "timepoint": 48,
           "trajectory": "D_data",
           "value": 16116
          },
          {
           "sample_id": 0,
           "timepoint": 49,
           "trajectory": "D_data",
           "value": 16639
          },
          {
           "sample_id": 0,
           "timepoint": 50,
           "trajectory": "D_data",
           "value": 17091
          },
          {
           "sample_id": 0,
           "timepoint": 51,
           "trajectory": "D_data",
           "value": 17647
          },
          {
           "sample_id": 0,
           "timepoint": 52,
           "trajectory": "D_data",
           "value": 18132
          },
          {
           "sample_id": 0,
           "timepoint": 53,
           "trajectory": "D_data",
           "value": 18523
          },
          {
           "sample_id": 0,
           "timepoint": 54,
           "trajectory": "D_data",
           "value": 18882
          },
          {
           "sample_id": 0,
           "timepoint": 55,
           "trajectory": "D_data",
           "value": 19292
          },
          {
           "sample_id": 0,
           "timepoint": 56,
           "trajectory": "D_data",
           "value": 19602
          },
          {
           "sample_id": 0,
           "timepoint": 57,
           "trajectory": "D_data",
           "value": 20000
          },
          {
           "sample_id": 0,
           "timepoint": 58,
           "trajectory": "D_data",
           "value": 20334
          },
          {
           "sample_id": 0,
           "timepoint": 59,
           "trajectory": "D_data",
           "value": 20662
          }
         ]
        },
        {
         "name": "markers",
         "values": []
        },
        {
         "name": "selected",
         "on": [
          {
           "remove": true,
           "trigger": "clear"
          },
          {
           "remove": true,
           "trigger": "!shift"
          },
          {
           "insert": "clicked",
           "trigger": "!shift && clicked"
          },
          {
           "toggle": "clicked",
           "trigger": "shift && clicked"
          }
         ]
        }
       ],
       "height": 300,
       "legends": [
        {
         "encode": {
          "labels": {
           "interactive": true,
           "name": "legendLabel",
           "update": {
            "opacity": [
             {
              "test": "!length(data('selected')) || indata('selected', 'value', datum.value)",
              "value": 1
             },
             {
              "value": 0.25
             }
            ]
           }
          },
          "symbols": {
           "interactive": true,
           "name": "legendSymbol",
           "update": {
            "fill": {
             "value": "transparent"
            },
            "opacity": [
             {
              "test": "!length(data('selected')) || indata('selected', 'value', datum.value)",
              "value": 0.7
             },
             {
              "value": 0.15
             }
            ],
            "size": {
             "value": 64
            },
            "strokeWidth": {
             "value": 2
            }
           }
          }
         },
         "name": "color_legend",
         "stroke": "color"
        }
       ],
       "marks": [
        {
         "from": {
          "facet": {
           "data": "points",
           "groupby": "trajectory",
           "name": "points_split"
          }
         },
         "marks": [
          {
           "encode": {
            "hover": {
             "fillOpacity": {
              "value": 0.9
             }
            },
            "update": {
             "fill": {
              "field": "trajectory",
              "scale": "color"
             },
             "fillOpacity": [
              {
               "test": "!length(data('selected')) || indata('selected', 'value', datum.trajectory)",
               "value": 0.5
              },
              {
               "value": 0.15
              }
             ],
             "size": {
              "value": 10
             },
             "stroke": {
              "field": "trajectory",
              "scale": "color"
             },
             "strokeOpacity": [
              {
               "test": "!length(data('selected')) || indata('selected', 'value', datum.trajectory)",
               "value": 0.75
              },
              {
               "value": 0.15
              }
             ],
             "strokeWidth": {
              "value": 2
             },
             "tooltip": {
              "field": "value"
             },
             "x": {
              "field": "timepoint",
              "scale": "xscale"
             },
             "y": {
              "field": "value",
              "scale": "yscale"
             }
            }
           },
           "from": {
            "data": "points"
           },
           "name": "_points_symbol",
           "type": "symbol",
           "zindex": 3
          },
          {
           "encode": {
            "hover": {
             "fillOpacity": {
              "value": 0.9
             }
            },
            "update": {
             "interpolate": {
              "value": "linear"
             },
             "stroke": {
              "field": "trajectory",
              "scale": "color"
             },
             "strokeOpacity": [
              {
               "test": "!length(data('selected')) || indata('selected', 'value', datum.trajectory)",
               "value": 0.3
              },
              {
               "value": 0.1
              }
             ],
             "strokeWidth": {
              "value": 2
             },
             "x": {
              "field": "timepoint",
              "scale": "xscale"
             },
             "y": {
              "field": "value",
              "scale": "yscale"
             }
            }
           },
           "from": {
            "data": "points"
           },
           "name": "_points_line",
           "type": "line",
           "zindex": 3
          }
         ],
         "name": "_points",
         "type": "group",
         "zindex": 3
        },
        {
         "from": {
          "facet": {
           "data": "traces",
           "groupby": "trajectory",
           "name": "traces_split"
          }
         },
         "marks": [
          {
           "encode": {
            "hover": {
             "fillOpacity": {
              "value": 0.9
             }
            },
            "update": {
             "interpolate": {
              "value": "linear"
             },
             "stroke": {
              "field": "trajectory",
              "scale": "color"
             },
             "strokeOpacity": [
              {
               "test": "!length(data('selected')) || indata('selected', 'value', datum.trajectory)",
               "value": 0.75
              },
              {
               "value": 0.15
              }
             ],
             "strokeWidth": {
              "value": 2
             },
             "x": {
              "field": "timepoint",
              "scale": "xscale"
             },
             "y": {
              "field": "value",
              "scale": "yscale"
             }
            }
           },
           "from": {
            "data": "traces_split"
           },
           "name": "_traces_lines",
           "type": "line"
          }
         ],
         "name": "_traces",
         "type": "group",
         "zindex": 2
        },
        {
         "from": {
          "facet": {
           "data": "distributions",
           "groupby": "trajectory",
           "name": "trajectory_split"
          }
         },
         "marks": [
          {
           "encode": {
            "hover": {
             "fillOpacity": {
              "value": 0.9
             }
            },
            "update": {
             "fill": {
              "field": "trajectory",
              "scale": "color"
             },
             "fillOpacity": [
              {
               "test": "!length(data('selected')) || indata('selected', 'value', datum.trajectory)",
               "value": 0.5
              },
              {
               "value": 0.15
              }
             ],
             "interpolate": {
              "value": "linear"
             },
             "stroke": {
              "field": "trajectory",
              "scale": "color"
             },
             "strokeOpacity": [
              {
               "test": "!length(data('selected')) || indata('selected', 'value', datum.trajectory)",
               "value": 0.75
              },
              {
               "value": 0.15
              }
             ],
             "strokeWidth": {
              "value": 2
             },
             "x": {
              "field": "timepoint",
              "scale": "xscale"
             },
             "y": {
              "field": "upper",
              "scale": "yscale"
             },
             "y2": {
              "field": "lower",
              "scale": "yscale"
             }
            }
           },
           "from": {
            "data": "trajectory_split"
           },
           "type": "area"
          }
         ],
         "name": "_distributions",
         "type": "group",
         "zindex": 1
        },
        {
         "marks": [
          {
           "encode": {
            "enter": {
             "stroke": {
              "value": "lightgray"
             }
            },
            "update": {
             "opacity": {
              "value": 1
             },
             "x": {
              "field": "timepoint",
              "scale": "xscale"
             },
             "y": {
              "signal": "height"
             },
             "y2": {
              "value": 0
             }
            }
           },
           "from": {
            "data": "markers"
           },
           "name": "_marker text",
           "type": "rule"
          },
          {
           "encode": {
            "enter": {
             "fontSize": {
              "value": 8
             },
             "text": {
              "field": "datum.label"
             },
             "y": {
              "value": 0
             }
            }
           },
           "from": {
            "data": "_marker text"
           },
           "name": "_marker flags",
           "transform": [
            {
             "as": [
              "x",
              "_y",
              "opacity",
              "align",
              "baseline"
             ],
             "lineAnchor": "start",
             "offset": [
              1
             ],
             "size": {
              "signal": "[width, height]"
             },
             "type": "label"
            }
           ],
           "type": "text"
          }
         ],
         "name": "_markers",
         "type": "group"
        }
       ],
       "padding": 5,
       "scales": [
        {
         "domain": {
          "fields": [
           {
            "data": "distributions",
            "field": "timepoint"
           },
           {
            "data": "traces",
            "field": "timepoint"
           },
           {
            "data": "points",
            "field": "timepoint"
           },
           {
            "data": "markers",
            "field": "timepoint"
           }
          ]
         },
         "name": "xscale",
         "range": "width",
         "type": "linear",
         "zero": false
        },
        {
         "domain": {
          "fields": [
           {
            "data": "distributions",
            "field": "lower"
           },
           {
            "data": "distributions",
            "field": "upper"
           },
           {
            "data": "traces",
            "field": "value"
           },
           {
            "data": "points",
            "field": "value"
           }
          ]
         },
         "name": "yscale",
         "nice": true,
         "range": "height",
         "type": "linear",
         "zero": true
        },
        {
         "domain": {
          "fields": [
           {
            "data": "distributions",
            "field": "trajectory"
           },
           {
            "data": "traces",
            "field": "trajectory"
           },
           {
            "data": "points",
            "field": "trajectory"
           }
          ]
         },
         "name": "color",
         "range": "category",
         "type": "ordinal"
        }
       ],
       "signals": [
        {
         "name": "clear",
         "on": [
          {
           "events": "mouseup[!event.item]",
           "force": true,
           "update": "true"
          }
         ],
         "value": true
        },
        {
         "name": "shift",
         "on": [
          {
           "events": "@legendSymbol:click, @legendLabel:click",
           "force": true,
           "update": "event.shiftKey"
          }
         ],
         "value": false
        },
        {
         "name": "clicked",
         "on": [
          {
           "events": "@legendSymbol:click, @legendLabel:click",
           "force": true,
           "update": "{value: datum.value}"
          }
         ],
         "value": null
        }
       ],
       "width": 500
      }
     },
     "metadata": {},
     "output_type": "display_data"
    }
   ],
   "source": [
    "num_samples = 100\n",
    "model_paths = [model2_location]\n",
    "data_path = \"../../notebook/ensemble_eval_sa/NY_data1.csv\"\n",
    "weights = [1]\n",
    "solution_mappings = [{\"I\": \"I\", \"H\": \"H\", \"D\": \"D\"}]\n",
    "# solution_mappings = [{\"I\": \"infected\", \"H\": \"hospitalized\", \"D\": \"dead\"}]\n",
    "# timepoints = timepoints[0:30]\n",
    "# Run the calibration and sampling\n",
    "result1 = load_and_calibrate_and_sample_ensemble_model(\n",
    "    model_paths,\n",
    "    data_path,\n",
    "    weights,\n",
    "    solution_mappings,\n",
    "    num_samples,\n",
    "    timepoints,\n",
    "    verbose=True,\n",
    "    total_population=19340000,\n",
    "    num_iterations=250,\n",
    "    time_unit=\"days\",\n",
    "    visual_options={\"title\": \"Calibrated Ensemble\", \"subset\":\".*_sol\"}\n",
    ")\n",
    "\n",
    "# Save results\n",
    "result1[\"data\"].to_csv(\n",
    "    \"partI_ensemble_of_one_results.csv\", index=False\n",
    ")\n",
    "result1[\"quantiles\"].to_csv(\n",
    "    \"partI_ensemble_of_one_quantiles.csv\", index=False\n",
    ")\n",
    "\n",
    "# Plot results\n",
    "schema = plots.trajectories(pd.DataFrame(result1[\"data\"]), subset=\".*_sol\",\n",
    "                            points=test_data.reset_index(drop=True).rename(columns={\"I\":\"I_data\", \"H\":\"H_data\", \"D\":\"D_data\"}),\n",
    "                           )\n",
    "schema = plots.pad(schema, 5)\n",
    "plots.ipy_display(schema)"
   ]
  },
  {
   "cell_type": "code",
   "execution_count": 6,
   "id": "70115e98-10aa-4200-93cb-8bca0a1e5fd3",
   "metadata": {},
   "outputs": [
    {
     "data": {
      "text/html": [
       "<div>\n",
       "<style scoped>\n",
       "    .dataframe tbody tr th:only-of-type {\n",
       "        vertical-align: middle;\n",
       "    }\n",
       "\n",
       "    .dataframe tbody tr th {\n",
       "        vertical-align: top;\n",
       "    }\n",
       "\n",
       "    .dataframe thead th {\n",
       "        text-align: right;\n",
       "    }\n",
       "</style>\n",
       "<table border=\"1\" class=\"dataframe\">\n",
       "  <thead>\n",
       "    <tr style=\"text-align: right;\">\n",
       "      <th></th>\n",
       "      <th>I</th>\n",
       "      <th>D</th>\n",
       "    </tr>\n",
       "  </thead>\n",
       "  <tbody>\n",
       "    <tr>\n",
       "      <th>0</th>\n",
       "      <td>1.0</td>\n",
       "      <td>0.0</td>\n",
       "    </tr>\n",
       "    <tr>\n",
       "      <th>1</th>\n",
       "      <td>10.0</td>\n",
       "      <td>0.0</td>\n",
       "    </tr>\n",
       "    <tr>\n",
       "      <th>2</th>\n",
       "      <td>21.0</td>\n",
       "      <td>0.0</td>\n",
       "    </tr>\n",
       "    <tr>\n",
       "      <th>3</th>\n",
       "      <td>24.0</td>\n",
       "      <td>0.0</td>\n",
       "    </tr>\n",
       "    <tr>\n",
       "      <th>4</th>\n",
       "      <td>76.0</td>\n",
       "      <td>0.0</td>\n",
       "    </tr>\n",
       "    <tr>\n",
       "      <th>5</th>\n",
       "      <td>104.0</td>\n",
       "      <td>0.0</td>\n",
       "    </tr>\n",
       "    <tr>\n",
       "      <th>6</th>\n",
       "      <td>128.0</td>\n",
       "      <td>0.0</td>\n",
       "    </tr>\n",
       "    <tr>\n",
       "      <th>7</th>\n",
       "      <td>131.0</td>\n",
       "      <td>0.0</td>\n",
       "    </tr>\n",
       "    <tr>\n",
       "      <th>8</th>\n",
       "      <td>192.0</td>\n",
       "      <td>1.0</td>\n",
       "    </tr>\n",
       "    <tr>\n",
       "      <th>9</th>\n",
       "      <td>220.0</td>\n",
       "      <td>1.0</td>\n",
       "    </tr>\n",
       "    <tr>\n",
       "      <th>10</th>\n",
       "      <td>274.0</td>\n",
       "      <td>1.0</td>\n",
       "    </tr>\n",
       "    <tr>\n",
       "      <th>11</th>\n",
       "      <td>394.0</td>\n",
       "      <td>4.0</td>\n",
       "    </tr>\n",
       "    <tr>\n",
       "      <th>12</th>\n",
       "      <td>481.0</td>\n",
       "      <td>9.0</td>\n",
       "    </tr>\n",
       "    <tr>\n",
       "      <th>13</th>\n",
       "      <td>745.0</td>\n",
       "      <td>19.0</td>\n",
       "    </tr>\n",
       "    <tr>\n",
       "      <th>14</th>\n",
       "      <td>1111.0</td>\n",
       "      <td>30.0</td>\n",
       "    </tr>\n",
       "    <tr>\n",
       "      <th>15</th>\n",
       "      <td>2128.0</td>\n",
       "      <td>51.0</td>\n",
       "    </tr>\n",
       "    <tr>\n",
       "      <th>16</th>\n",
       "      <td>3671.0</td>\n",
       "      <td>77.0</td>\n",
       "    </tr>\n",
       "    <tr>\n",
       "      <th>17</th>\n",
       "      <td>6578.0</td>\n",
       "      <td>129.0</td>\n",
       "    </tr>\n",
       "    <tr>\n",
       "      <th>18</th>\n",
       "      <td>9449.0</td>\n",
       "      <td>175.0</td>\n",
       "    </tr>\n",
       "    <tr>\n",
       "      <th>19</th>\n",
       "      <td>13761.0</td>\n",
       "      <td>226.0</td>\n",
       "    </tr>\n",
       "    <tr>\n",
       "      <th>20</th>\n",
       "      <td>18270.0</td>\n",
       "      <td>315.0</td>\n",
       "    </tr>\n",
       "    <tr>\n",
       "      <th>21</th>\n",
       "      <td>21478.0</td>\n",
       "      <td>427.0</td>\n",
       "    </tr>\n",
       "    <tr>\n",
       "      <th>22</th>\n",
       "      <td>23630.0</td>\n",
       "      <td>565.0</td>\n",
       "    </tr>\n",
       "    <tr>\n",
       "      <th>23</th>\n",
       "      <td>26987.0</td>\n",
       "      <td>759.0</td>\n",
       "    </tr>\n",
       "    <tr>\n",
       "      <th>24</th>\n",
       "      <td>29533.0</td>\n",
       "      <td>984.0</td>\n",
       "    </tr>\n",
       "    <tr>\n",
       "      <th>25</th>\n",
       "      <td>31623.0</td>\n",
       "      <td>1285.0</td>\n",
       "    </tr>\n",
       "    <tr>\n",
       "      <th>26</th>\n",
       "      <td>33967.0</td>\n",
       "      <td>1603.0</td>\n",
       "    </tr>\n",
       "    <tr>\n",
       "      <th>27</th>\n",
       "      <td>35822.0</td>\n",
       "      <td>1930.0</td>\n",
       "    </tr>\n",
       "    <tr>\n",
       "      <th>28</th>\n",
       "      <td>38456.0</td>\n",
       "      <td>2334.0</td>\n",
       "    </tr>\n",
       "    <tr>\n",
       "      <th>29</th>\n",
       "      <td>45676.0</td>\n",
       "      <td>2859.0</td>\n",
       "    </tr>\n",
       "    <tr>\n",
       "      <th>30</th>\n",
       "      <td>48380.0</td>\n",
       "      <td>3420.0</td>\n",
       "    </tr>\n",
       "    <tr>\n",
       "      <th>31</th>\n",
       "      <td>51807.0</td>\n",
       "      <td>3989.0</td>\n",
       "    </tr>\n",
       "    <tr>\n",
       "      <th>32</th>\n",
       "      <td>55042.0</td>\n",
       "      <td>4634.0</td>\n",
       "    </tr>\n",
       "    <tr>\n",
       "      <th>33</th>\n",
       "      <td>56847.0</td>\n",
       "      <td>5384.0</td>\n",
       "    </tr>\n",
       "    <tr>\n",
       "      <th>34</th>\n",
       "      <td>52184.0</td>\n",
       "      <td>6185.0</td>\n",
       "    </tr>\n",
       "    <tr>\n",
       "      <th>35</th>\n",
       "      <td>49194.0</td>\n",
       "      <td>7241.0</td>\n",
       "    </tr>\n",
       "    <tr>\n",
       "      <th>36</th>\n",
       "      <td>48730.0</td>\n",
       "      <td>7985.0</td>\n",
       "    </tr>\n",
       "    <tr>\n",
       "      <th>37</th>\n",
       "      <td>50551.0</td>\n",
       "      <td>8846.0</td>\n",
       "    </tr>\n",
       "    <tr>\n",
       "      <th>38</th>\n",
       "      <td>51029.0</td>\n",
       "      <td>9579.0</td>\n",
       "    </tr>\n",
       "    <tr>\n",
       "      <th>39</th>\n",
       "      <td>49701.0</td>\n",
       "      <td>10345.0</td>\n",
       "    </tr>\n",
       "    <tr>\n",
       "      <th>40</th>\n",
       "      <td>50661.0</td>\n",
       "      <td>11126.0</td>\n",
       "    </tr>\n",
       "    <tr>\n",
       "      <th>41</th>\n",
       "      <td>48303.0</td>\n",
       "      <td>11930.0</td>\n",
       "    </tr>\n",
       "    <tr>\n",
       "      <th>42</th>\n",
       "      <td>43703.0</td>\n",
       "      <td>12669.0</td>\n",
       "    </tr>\n",
       "    <tr>\n",
       "      <th>43</th>\n",
       "      <td>38888.0</td>\n",
       "      <td>13332.0</td>\n",
       "    </tr>\n",
       "    <tr>\n",
       "      <th>44</th>\n",
       "      <td>38244.0</td>\n",
       "      <td>13987.0</td>\n",
       "    </tr>\n",
       "    <tr>\n",
       "      <th>45</th>\n",
       "      <td>36857.0</td>\n",
       "      <td>14371.0</td>\n",
       "    </tr>\n",
       "    <tr>\n",
       "      <th>46</th>\n",
       "      <td>35881.0</td>\n",
       "      <td>14780.0</td>\n",
       "    </tr>\n",
       "    <tr>\n",
       "      <th>47</th>\n",
       "      <td>35054.0</td>\n",
       "      <td>15225.0</td>\n",
       "    </tr>\n",
       "    <tr>\n",
       "      <th>48</th>\n",
       "      <td>34782.0</td>\n",
       "      <td>16116.0</td>\n",
       "    </tr>\n",
       "    <tr>\n",
       "      <th>49</th>\n",
       "      <td>31526.0</td>\n",
       "      <td>16639.0</td>\n",
       "    </tr>\n",
       "    <tr>\n",
       "      <th>50</th>\n",
       "      <td>28799.0</td>\n",
       "      <td>17091.0</td>\n",
       "    </tr>\n",
       "    <tr>\n",
       "      <th>51</th>\n",
       "      <td>27419.0</td>\n",
       "      <td>17647.0</td>\n",
       "    </tr>\n",
       "    <tr>\n",
       "      <th>52</th>\n",
       "      <td>27443.0</td>\n",
       "      <td>18132.0</td>\n",
       "    </tr>\n",
       "    <tr>\n",
       "      <th>53</th>\n",
       "      <td>30499.0</td>\n",
       "      <td>18523.0</td>\n",
       "    </tr>\n",
       "    <tr>\n",
       "      <th>54</th>\n",
       "      <td>31543.0</td>\n",
       "      <td>18882.0</td>\n",
       "    </tr>\n",
       "    <tr>\n",
       "      <th>55</th>\n",
       "      <td>31597.0</td>\n",
       "      <td>19292.0</td>\n",
       "    </tr>\n",
       "    <tr>\n",
       "      <th>56</th>\n",
       "      <td>29008.0</td>\n",
       "      <td>19602.0</td>\n",
       "    </tr>\n",
       "    <tr>\n",
       "      <th>57</th>\n",
       "      <td>25476.0</td>\n",
       "      <td>20000.0</td>\n",
       "    </tr>\n",
       "    <tr>\n",
       "      <th>58</th>\n",
       "      <td>20411.0</td>\n",
       "      <td>20334.0</td>\n",
       "    </tr>\n",
       "    <tr>\n",
       "      <th>59</th>\n",
       "      <td>19224.0</td>\n",
       "      <td>20662.0</td>\n",
       "    </tr>\n",
       "  </tbody>\n",
       "</table>\n",
       "</div>"
      ],
      "text/plain": [
       "          I        D\n",
       "0       1.0      0.0\n",
       "1      10.0      0.0\n",
       "2      21.0      0.0\n",
       "3      24.0      0.0\n",
       "4      76.0      0.0\n",
       "5     104.0      0.0\n",
       "6     128.0      0.0\n",
       "7     131.0      0.0\n",
       "8     192.0      1.0\n",
       "9     220.0      1.0\n",
       "10    274.0      1.0\n",
       "11    394.0      4.0\n",
       "12    481.0      9.0\n",
       "13    745.0     19.0\n",
       "14   1111.0     30.0\n",
       "15   2128.0     51.0\n",
       "16   3671.0     77.0\n",
       "17   6578.0    129.0\n",
       "18   9449.0    175.0\n",
       "19  13761.0    226.0\n",
       "20  18270.0    315.0\n",
       "21  21478.0    427.0\n",
       "22  23630.0    565.0\n",
       "23  26987.0    759.0\n",
       "24  29533.0    984.0\n",
       "25  31623.0   1285.0\n",
       "26  33967.0   1603.0\n",
       "27  35822.0   1930.0\n",
       "28  38456.0   2334.0\n",
       "29  45676.0   2859.0\n",
       "30  48380.0   3420.0\n",
       "31  51807.0   3989.0\n",
       "32  55042.0   4634.0\n",
       "33  56847.0   5384.0\n",
       "34  52184.0   6185.0\n",
       "35  49194.0   7241.0\n",
       "36  48730.0   7985.0\n",
       "37  50551.0   8846.0\n",
       "38  51029.0   9579.0\n",
       "39  49701.0  10345.0\n",
       "40  50661.0  11126.0\n",
       "41  48303.0  11930.0\n",
       "42  43703.0  12669.0\n",
       "43  38888.0  13332.0\n",
       "44  38244.0  13987.0\n",
       "45  36857.0  14371.0\n",
       "46  35881.0  14780.0\n",
       "47  35054.0  15225.0\n",
       "48  34782.0  16116.0\n",
       "49  31526.0  16639.0\n",
       "50  28799.0  17091.0\n",
       "51  27419.0  17647.0\n",
       "52  27443.0  18132.0\n",
       "53  30499.0  18523.0\n",
       "54  31543.0  18882.0\n",
       "55  31597.0  19292.0\n",
       "56  29008.0  19602.0\n",
       "57  25476.0  20000.0\n",
       "58  20411.0  20334.0\n",
       "59  19224.0  20662.0"
      ]
     },
     "metadata": {},
     "output_type": "display_data"
    },
    {
     "name": "stdout",
     "output_type": "stream",
     "text": [
      "\n"
     ]
    },
    {
     "data": {
      "application/vnd.vega.v5+json": {
       "$schema": "https://vega.github.io/schema/vega/v5.json",
       "axes": [
        {
         "name": "x_axis",
         "orient": "bottom",
         "scale": "xscale",
         "zindex": 100
        },
        {
         "name": "y_axis",
         "orient": "left",
         "scale": "yscale",
         "zindex": 100
        }
       ],
       "data": [
        {
         "name": "distributions",
         "values": [
          {
           "lower": 6.589578609828342e-23,
           "timepoint": 0,
           "trajectory": "D_sol",
           "upper": 1.6496721551060649e-21
          },
          {
           "lower": 0.007272153836674989,
           "timepoint": 1,
           "trajectory": "D_sol",
           "upper": 0.18316819816827773
          },
          {
           "lower": 0.03144845981150866,
           "timepoint": 2,
           "trajectory": "D_sol",
           "upper": 0.7948967337608337
          },
          {
           "lower": 0.07572528216987849,
           "timepoint": 3,
           "trajectory": "D_sol",
           "upper": 1.9172629356384276
          },
          {
           "lower": 0.14346397519111634,
           "timepoint": 4,
           "trajectory": "D_sol",
           "upper": 3.638047194480896
          },
          {
           "lower": 0.23873488008975985,
           "timepoint": 5,
           "trajectory": "D_sol",
           "upper": 6.073607134819031
          },
          {
           "lower": 0.3667181596159935,
           "timepoint": 6,
           "trajectory": "D_sol",
           "upper": 9.288085556030273
          },
          {
           "lower": 0.5340707540512085,
           "timepoint": 7,
           "trajectory": "D_sol",
           "upper": 13.470838642120361
          },
          {
           "lower": 0.7493162870407105,
           "timepoint": 8,
           "trajectory": "D_sol",
           "upper": 18.850276088714597
          },
          {
           "lower": 1.0232928037643434,
           "timepoint": 9,
           "trajectory": "D_sol",
           "upper": 25.67293891906738
          },
          {
           "lower": 1.3697135031223298,
           "timepoint": 10,
           "trajectory": "D_sol",
           "upper": 34.407508468627924
          },
          {
           "lower": 1.8058280944824219,
           "timepoint": 11,
           "trajectory": "D_sol",
           "upper": 45.41452007293701
          },
          {
           "lower": 2.353272384405136,
           "timepoint": 12,
           "trajectory": "D_sol",
           "upper": 59.2441759109497
          },
          {
           "lower": 3.0390653252601627,
           "timepoint": 13,
           "trajectory": "D_sol",
           "upper": 76.58437232971191
          },
          {
           "lower": 3.896831834316254,
           "timepoint": 14,
           "trajectory": "D_sol",
           "upper": 98.29203643798827
          },
          {
           "lower": 4.968183934688568,
           "timepoint": 15,
           "trajectory": "D_sol",
           "upper": 125.42968292236327
          },
          {
           "lower": 6.304273319244385,
           "timepoint": 16,
           "trajectory": "D_sol",
           "upper": 159.30503768920897
          },
          {
           "lower": 7.967221951484681,
           "timepoint": 17,
           "trajectory": "D_sol",
           "upper": 201.51089096069333
          },
          {
           "lower": 10.031205320358277,
           "timepoint": 18,
           "trajectory": "D_sol",
           "upper": 253.95521774291987
          },
          {
           "lower": 12.582322692871095,
           "timepoint": 19,
           "trajectory": "D_sol",
           "upper": 318.86564788818356
          },
          {
           "lower": 15.716536378860475,
           "timepoint": 20,
           "trajectory": "D_sol",
           "upper": 398.74416351318354
          },
          {
           "lower": 19.534157848358156,
           "timepoint": 21,
           "trajectory": "D_sol",
           "upper": 496.24327850341786
          },
          {
           "lower": 24.13110055923462,
           "timepoint": 22,
           "trajectory": "D_sol",
           "upper": 613.9568389892577
          },
          {
           "lower": 29.58702144622803,
           "timepoint": 23,
           "trajectory": "D_sol",
           "upper": 754.1331817626951
          },
          {
           "lower": 35.95404558181763,
           "timepoint": 24,
           "trajectory": "D_sol",
           "upper": 918.3911682128904
          },
          {
           "lower": 43.248518848419195,
           "timepoint": 25,
           "trajectory": "D_sol",
           "upper": 1107.5070678710936
          },
          {
           "lower": 51.448957252502446,
           "timepoint": 26,
           "trajectory": "D_sol",
           "upper": 1321.3367919921873
          },
          {
           "lower": 60.499406051635745,
           "timepoint": 27,
           "trajectory": "D_sol",
           "upper": 1558.8746887207028
          },
          {
           "lower": 70.3168447494507,
           "timepoint": 28,
           "trajectory": "D_sol",
           "upper": 1818.4124267578122
          },
          {
           "lower": 80.80041103363038,
           "timepoint": 29,
           "trajectory": "D_sol",
           "upper": 2097.752209472656
          },
          {
           "lower": 91.84031295776367,
           "timepoint": 30,
           "trajectory": "D_sol",
           "upper": 2394.395129394531
          },
          {
           "lower": 103.32480049133301,
           "timepoint": 31,
           "trajectory": "D_sol",
           "upper": 2705.758557128906
          },
          {
           "lower": 115.14639396667481,
           "timepoint": 32,
           "trajectory": "D_sol",
           "upper": 3029.2838012695306
          },
          {
           "lower": 127.2052085876465,
           "timepoint": 33,
           "trajectory": "D_sol",
           "upper": 3362.5471679687494
          },
          {
           "lower": 138.3941993713379,
           "timepoint": 34,
           "trajectory": "D_sol",
           "upper": 3703.326196289062
          },
          {
           "lower": 149.15624046325684,
           "timepoint": 35,
           "trajectory": "D_sol",
           "upper": 4049.6253417968746
          },
          {
           "lower": 159.6426036834717,
           "timepoint": 36,
           "trajectory": "D_sol",
           "upper": 4399.688696289062
          },
          {
           "lower": 169.79825019836426,
           "timepoint": 37,
           "trajectory": "D_sol",
           "upper": 4751.991870117187
          },
          {
           "lower": 179.5832000732422,
           "timepoint": 38,
           "trajectory": "D_sol",
           "upper": 5105.239990234375
          },
          {
           "lower": 188.9684181213379,
           "timepoint": 39,
           "trajectory": "D_sol",
           "upper": 5458.329052734375
          },
          {
           "lower": 197.93498840332032,
           "timepoint": 40,
           "trajectory": "D_sol",
           "upper": 5798.023706054688
          },
          {
           "lower": 206.47324295043947,
           "timepoint": 41,
           "trajectory": "D_sol",
           "upper": 6105.1529541015625
          },
          {
           "lower": 214.57936935424806,
           "timepoint": 42,
           "trajectory": "D_sol",
           "upper": 6404.45166015625
          },
          {
           "lower": 222.25633697509767,
           "timepoint": 43,
           "trajectory": "D_sol",
           "upper": 6695.546533203124
          },
          {
           "lower": 229.51086044311523,
           "timepoint": 44,
           "trajectory": "D_sol",
           "upper": 6978.195190429687
          },
          {
           "lower": 236.35335845947267,
           "timepoint": 45,
           "trajectory": "D_sol",
           "upper": 7252.244360351561
          },
          {
           "lower": 242.79721984863284,
           "timepoint": 46,
           "trajectory": "D_sol",
           "upper": 7517.632299804686
          },
          {
           "lower": 248.85598068237306,
           "timepoint": 47,
           "trajectory": "D_sol",
           "upper": 7774.381396484374
          },
          {
           "lower": 254.54717178344728,
           "timepoint": 48,
           "trajectory": "D_sol",
           "upper": 8022.548168945311
          },
          {
           "lower": 259.88699188232425,
           "timepoint": 49,
           "trajectory": "D_sol",
           "upper": 8262.241845703124
          },
          {
           "lower": 264.89292297363284,
           "timepoint": 50,
           "trajectory": "D_sol",
           "upper": 8493.624707031247
          },
          {
           "lower": 269.582453918457,
           "timepoint": 51,
           "trajectory": "D_sol",
           "upper": 8719.111621093747
          },
          {
           "lower": 273.9728256225586,
           "timepoint": 52,
           "trajectory": "D_sol",
           "upper": 8998.766503906247
          },
          {
           "lower": 278.08079223632814,
           "timepoint": 53,
           "trajectory": "D_sol",
           "upper": 9273.962939453122
          },
          {
           "lower": 281.92364196777345,
           "timepoint": 54,
           "trajectory": "D_sol",
           "upper": 9544.706005859372
          },
          {
           "lower": 285.5164260864258,
           "timepoint": 55,
           "trajectory": "D_sol",
           "upper": 9811.014990234373
          },
          {
           "lower": 288.87490463256836,
           "timepoint": 56,
           "trajectory": "D_sol",
           "upper": 10072.921972656248
          },
          {
           "lower": 292.01389465332034,
           "timepoint": 57,
           "trajectory": "D_sol",
           "upper": 10330.456249999997
          },
          {
           "lower": 294.9473358154297,
           "timepoint": 58,
           "trajectory": "D_sol",
           "upper": 10583.679833984372
          },
          {
           "lower": 297.68791046142576,
           "timepoint": 59,
           "trajectory": "D_sol",
           "upper": 10832.604541015622
          },
          {
           "lower": 6.5307983673768e-11,
           "timepoint": 0,
           "trajectory": "H_sol",
           "upper": 5.484796478105735e-10
          },
          {
           "lower": 0.7598809152841568,
           "timepoint": 1,
           "trajectory": "H_sol",
           "upper": 6.341664576530457
          },
          {
           "lower": 1.7020231783390045,
           "timepoint": 2,
           "trajectory": "H_sol",
           "upper": 14.13466181755066
          },
          {
           "lower": 2.8170644998550416,
           "timepoint": 3,
           "trajectory": "H_sol",
           "upper": 23.261983013153078
          },
          {
           "lower": 4.130424332618714,
           "timepoint": 4,
           "trajectory": "H_sol",
           "upper": 33.94461803436279
          },
          {
           "lower": 5.691891312599182,
           "timepoint": 5,
           "trajectory": "H_sol",
           "upper": 46.50318622589111
          },
          {
           "lower": 7.571918869018555,
           "timepoint": 6,
           "trajectory": "H_sol",
           "upper": 61.53390254974365
          },
          {
           "lower": 9.861812400817872,
           "timepoint": 7,
           "trajectory": "H_sol",
           "upper": 79.75184097290038
          },
          {
           "lower": 12.676581430435181,
           "timepoint": 8,
           "trajectory": "H_sol",
           "upper": 102.01681213378906
          },
          {
           "lower": 16.159757089614867,
           "timepoint": 9,
           "trajectory": "H_sol",
           "upper": 129.37133712768554
          },
          {
           "lower": 20.489990425109863,
           "timepoint": 10,
           "trajectory": "H_sol",
           "upper": 162.65666732788085
          },
          {
           "lower": 25.889514350891115,
           "timepoint": 11,
           "trajectory": "H_sol",
           "upper": 203.17920150756837
          },
          {
           "lower": 32.63422498703003,
           "timepoint": 12,
           "trajectory": "H_sol",
           "upper": 253.1209602355957
          },
          {
           "lower": 41.06554470062256,
           "timepoint": 13,
           "trajectory": "H_sol",
           "upper": 314.7668167114258
          },
          {
           "lower": 51.602885055542,
           "timepoint": 14,
           "trajectory": "H_sol",
           "upper": 390.8481384277344
          },
          {
           "lower": 64.75584201812744,
           "timepoint": 15,
           "trajectory": "H_sol",
           "upper": 484.6201858520508
          },
          {
           "lower": 81.130366897583,
           "timepoint": 16,
           "trajectory": "H_sol",
           "upper": 599.8776702880859
          },
          {
           "lower": 101.42218437194825,
           "timepoint": 17,
           "trajectory": "H_sol",
           "upper": 742.0141571044921
          },
          {
           "lower": 126.38384132385254,
           "timepoint": 18,
           "trajectory": "H_sol",
           "upper": 913.3357116699218
          },
          {
           "lower": 156.74527969360352,
           "timepoint": 19,
           "trajectory": "H_sol",
           "upper": 1118.7803588867187
          },
          {
           "lower": 193.07362594604493,
           "timepoint": 20,
           "trajectory": "H_sol",
           "upper": 1375.0294799804688
          },
          {
           "lower": 235.57607345581056,
           "timepoint": 21,
           "trajectory": "H_sol",
           "upper": 1672.0490722656248
          },
          {
           "lower": 282.8242637634277,
           "timepoint": 22,
           "trajectory": "H_sol",
           "upper": 2004.716046142578
          },
          {
           "lower": 332.24600372314455,
           "timepoint": 23,
           "trajectory": "H_sol",
           "upper": 2362.5914306640625
          },
          {
           "lower": 382.89686889648436,
           "timepoint": 24,
           "trajectory": "H_sol",
           "upper": 2730.5879272460934
          },
          {
           "lower": 432.38897399902345,
           "timepoint": 25,
           "trajectory": "H_sol",
           "upper": 3091.2151855468746
          },
          {
           "lower": 478.42071838378905,
           "timepoint": 26,
           "trajectory": "H_sol",
           "upper": 3449.9218994140624
          },
          {
           "lower": 519.0979385375977,
           "timepoint": 27,
           "trajectory": "H_sol",
           "upper": 3805.56767578125
          },
          {
           "lower": 553.1041687011718,
           "timepoint": 28,
           "trajectory": "H_sol",
           "upper": 4131.52158203125
          },
          {
           "lower": 579.7356811523438,
           "timepoint": 29,
           "trajectory": "H_sol",
           "upper": 4419.349047851562
          },
          {
           "lower": 598.8305297851563,
           "timepoint": 30,
           "trajectory": "H_sol",
           "upper": 4665.908276367187
          },
          {
           "lower": 610.6516387939453,
           "timepoint": 31,
           "trajectory": "H_sol",
           "upper": 4867.71982421875
          },
          {
           "lower": 615.7583618164062,
           "timepoint": 32,
           "trajectory": "H_sol",
           "upper": 5026.146435546875
          },
          {
           "lower": 614.8896942138672,
           "timepoint": 33,
           "trajectory": "H_sol",
           "upper": 5122.100561523437
          },
          {
           "lower": 608.8635864257812,
           "timepoint": 34,
           "trajectory": "H_sol",
           "upper": 5188.032763671875
          },
          {
           "lower": 598.52080078125,
           "timepoint": 35,
           "trajectory": "H_sol",
           "upper": 5253.397216796875
          },
          {
           "lower": 584.6645416259765,
           "timepoint": 36,
           "trajectory": "H_sol",
           "upper": 5293.697705078125
          },
          {
           "lower": 568.0363067626953,
           "timepoint": 37,
           "trajectory": "H_sol",
           "upper": 5312.463110351562
          },
          {
           "lower": 549.56796875,
           "timepoint": 38,
           "trajectory": "H_sol",
           "upper": 5283.4193359375
          },
          {
           "lower": 530.0456146240234,
           "timepoint": 39,
           "trajectory": "H_sol",
           "upper": 5214.379223632813
          },
          {
           "lower": 505.8299789428711,
           "timepoint": 40,
           "trajectory": "H_sol",
           "upper": 5158.088842773437
          },
          {
           "lower": 487.36412353515624,
           "timepoint": 41,
           "trajectory": "H_sol",
           "upper": 5129.694116210937
          },
          {
           "lower": 464.79199981689453,
           "timepoint": 42,
           "trajectory": "H_sol",
           "upper": 5092.955737304687
          },
          {
           "lower": 442.25457458496095,
           "timepoint": 43,
           "trajectory": "H_sol",
           "upper": 5049.470458984375
          },
          {
           "lower": 420.0480895996094,
           "timepoint": 44,
           "trajectory": "H_sol",
           "upper": 5000.512622070312
          },
          {
           "lower": 399.12593231201174,
           "timepoint": 45,
           "trajectory": "H_sol",
           "upper": 4943.726342773438
          },
          {
           "lower": 385.3209060668945,
           "timepoint": 46,
           "trajectory": "H_sol",
           "upper": 4866.167138671875
          },
          {
           "lower": 377.9142242431641,
           "timepoint": 47,
           "trajectory": "H_sol",
           "upper": 4786.2459716796875
          },
          {
           "lower": 368.0994812011719,
           "timepoint": 48,
           "trajectory": "H_sol",
           "upper": 4704.679223632812
          },
          {
           "lower": 351.6098098754883,
           "timepoint": 49,
           "trajectory": "H_sol",
           "upper": 4622.0474609375
          },
          {
           "lower": 342.5107818603516,
           "timepoint": 50,
           "trajectory": "H_sol",
           "upper": 4538.883740234374
          },
          {
           "lower": 333.52431640625,
           "timepoint": 51,
           "trajectory": "H_sol",
           "upper": 4455.534936523437
          },
          {
           "lower": 324.6744293212891,
           "timepoint": 52,
           "trajectory": "H_sol",
           "upper": 4372.151147460937
          },
          {
           "lower": 311.68644256591796,
           "timepoint": 53,
           "trajectory": "H_sol",
           "upper": 4288.905493164062
          },
          {
           "lower": 295.56794586181644,
           "timepoint": 54,
           "trajectory": "H_sol",
           "upper": 4206.296557617187
          },
          {
           "lower": 280.1829177856445,
           "timepoint": 55,
           "trajectory": "H_sol",
           "upper": 4124.488281249999
          },
          {
           "lower": 265.51618576049805,
           "timepoint": 56,
           "trajectory": "H_sol",
           "upper": 4043.6132446289057
          },
          {
           "lower": 251.54991302490234,
           "timepoint": 57,
           "trajectory": "H_sol",
           "upper": 3963.776696777343
          },
          {
           "lower": 238.26307907104493,
           "timepoint": 58,
           "trajectory": "H_sol",
           "upper": 3885.0577636718745
          },
          {
           "lower": 222.79839324951172,
           "timepoint": 59,
           "trajectory": "H_sol",
           "upper": 3807.5175292968743
          },
          {
           "lower": 175,
           "timepoint": 0,
           "trajectory": "I_sol",
           "upper": 175
          },
          {
           "lower": 265.12584075927737,
           "timepoint": 1,
           "trajectory": "I_sol",
           "upper": 270.89515228271483
          },
          {
           "lower": 353.6300415039062,
           "timepoint": 2,
           "trajectory": "I_sol",
           "upper": 367.51742401123045
          },
          {
           "lower": 452.92223052978517,
           "timepoint": 3,
           "trajectory": "I_sol",
           "upper": 475.9308609008789
          },
          {
           "lower": 570.5878662109375,
           "timepoint": 4,
           "trajectory": "I_sol",
           "upper": 605.0859649658203
          },
          {
           "lower": 711.9971649169922,
           "timepoint": 5,
           "trajectory": "I_sol",
           "upper": 766.2421661376953
          },
          {
           "lower": 878.5551818847656,
           "timepoint": 6,
           "trajectory": "I_sol",
           "upper": 964.6990386962891
          },
          {
           "lower": 1088.2187377929688,
           "timepoint": 7,
           "trajectory": "I_sol",
           "upper": 1212.8461669921876
          },
          {
           "lower": 1351.427667236328,
           "timepoint": 8,
           "trajectory": "I_sol",
           "upper": 1523.8406005859374
          },
          {
           "lower": 1672.3165466308594,
           "timepoint": 9,
           "trajectory": "I_sol",
           "upper": 1913.9285034179688
          },
          {
           "lower": 2074.098095703125,
           "timepoint": 10,
           "trajectory": "I_sol",
           "upper": 2403.266320800781
          },
          {
           "lower": 2571.92294921875,
           "timepoint": 11,
           "trajectory": "I_sol",
           "upper": 3016.870654296875
          },
          {
           "lower": 3188.1793212890625,
           "timepoint": 12,
           "trajectory": "I_sol",
           "upper": 3785.624621582031
          },
          {
           "lower": 3936.4517211914062,
           "timepoint": 13,
           "trajectory": "I_sol",
           "upper": 4748.50341796875
          },
          {
           "lower": 4855.49287109375,
           "timepoint": 14,
           "trajectory": "I_sol",
           "upper": 5954.0225830078125
          },
          {
           "lower": 5979.499438476562,
           "timepoint": 15,
           "trajectory": "I_sol",
           "upper": 7451.90576171875
          },
          {
           "lower": 7346.653540039062,
           "timepoint": 16,
           "trajectory": "I_sol",
           "upper": 9299.3310546875
          },
          {
           "lower": 8983.45322265625,
           "timepoint": 17,
           "trajectory": "I_sol",
           "upper": 11551.40361328125
          },
          {
           "lower": 10920.727197265625,
           "timepoint": 18,
           "trajectory": "I_sol",
           "upper": 14256.69150390625
          },
          {
           "lower": 13154.34853515625,
           "timepoint": 19,
           "trajectory": "I_sol",
           "upper": 17427.88896484375
          },
          {
           "lower": 15641.033935546875,
           "timepoint": 20,
           "trajectory": "I_sol",
           "upper": 21047.75146484375
          },
          {
           "lower": 18283.419921875,
           "timepoint": 21,
           "trajectory": "I_sol",
           "upper": 24950.5763671875
          },
          {
           "lower": 20933.773046875,
           "timepoint": 22,
           "trajectory": "I_sol",
           "upper": 28947.18017578125
          },
          {
           "lower": 23379.12509765625,
           "timepoint": 23,
           "trajectory": "I_sol",
           "upper": 32756.09912109375
          },
          {
           "lower": 25559.59189453125,
           "timepoint": 24,
           "trajectory": "I_sol",
           "upper": 36048.405859375
          },
          {
           "lower": 27341.4666015625,
           "timepoint": 25,
           "trajectory": "I_sol",
           "upper": 38985.761328125
          },
          {
           "lower": 28631.41318359375,
           "timepoint": 26,
           "trajectory": "I_sol",
           "upper": 41262.450390625
          },
          {
           "lower": 29101.8453125,
           "timepoint": 27,
           "trajectory": "I_sol",
           "upper": 42870.589062499996
          },
          {
           "lower": 29124.130078125,
           "timepoint": 28,
           "trajectory": "I_sol",
           "upper": 43962.364453124996
          },
          {
           "lower": 29121.7666015625,
           "timepoint": 29,
           "trajectory": "I_sol",
           "upper": 45108.1130859375
          },
          {
           "lower": 29347.12958984375,
           "timepoint": 30,
           "trajectory": "I_sol",
           "upper": 45909.189453125
          },
          {
           "lower": 29275.69580078125,
           "timepoint": 31,
           "trajectory": "I_sol",
           "upper": 46137.4771484375
          },
          {
           "lower": 28097.8265625,
           "timepoint": 32,
           "trajectory": "I_sol",
           "upper": 46150.1748046875
          },
          {
           "lower": 27641.891796875,
           "timepoint": 33,
           "trajectory": "I_sol",
           "upper": 46000.34765625
          },
          {
           "lower": 27160.47880859375,
           "timepoint": 34,
           "trajectory": "I_sol",
           "upper": 45713.951367187496
          },
          {
           "lower": 26120.3212890625,
           "timepoint": 35,
           "trajectory": "I_sol",
           "upper": 45331.2068359375
          },
          {
           "lower": 24557.49970703125,
           "timepoint": 36,
           "trajectory": "I_sol",
           "upper": 44890.3287109375
          },
          {
           "lower": 22942.5791015625,
           "timepoint": 37,
           "trajectory": "I_sol",
           "upper": 44410.1009765625
          },
          {
           "lower": 21368.6005859375,
           "timepoint": 38,
           "trajectory": "I_sol",
           "upper": 43676.6388671875
          },
          {
           "lower": 19872.69013671875,
           "timepoint": 39,
           "trajectory": "I_sol",
           "upper": 42868.3962890625
          },
          {
           "lower": 18462.9119140625,
           "timepoint": 40,
           "trajectory": "I_sol",
           "upper": 42057.036718749994
          },
          {
           "lower": 17139.75146484375,
           "timepoint": 41,
           "trajectory": "I_sol",
           "upper": 41339.921875
          },
          {
           "lower": 15901.784228515626,
           "timepoint": 42,
           "trajectory": "I_sol",
           "upper": 40878.7591796875
          },
          {
           "lower": 14746.30068359375,
           "timepoint": 43,
           "trajectory": "I_sol",
           "upper": 40417.32890625
          },
          {
           "lower": 13669.793212890625,
           "timepoint": 44,
           "trajectory": "I_sol",
           "upper": 39957.118359374996
          },
          {
           "lower": 12668.29296875,
           "timepoint": 45,
           "trajectory": "I_sol",
           "upper": 39499.109765625
          },
          {
           "lower": 11737.592236328124,
           "timepoint": 46,
           "trajectory": "I_sol",
           "upper": 39043.9353515625
          },
          {
           "lower": 10873.4140625,
           "timepoint": 47,
           "trajectory": "I_sol",
           "upper": 38592.0615234375
          },
          {
           "lower": 10078.116162109374,
           "timepoint": 48,
           "trajectory": "I_sol",
           "upper": 38143.7728515625
          },
          {
           "lower": 9360.5615234375,
           "timepoint": 49,
           "trajectory": "I_sol",
           "upper": 37699.349609375
          },
          {
           "lower": 8784.9681640625,
           "timepoint": 50,
           "trajectory": "I_sol",
           "upper": 37258.8365234375
          },
          {
           "lower": 8244.411694335937,
           "timepoint": 51,
           "trajectory": "I_sol",
           "upper": 36822.365625
          },
          {
           "lower": 7736.836157226562,
           "timepoint": 52,
           "trajectory": "I_sol",
           "upper": 36389.9623046875
          },
          {
           "lower": 7260.348413085938,
           "timepoint": 53,
           "trajectory": "I_sol",
           "upper": 35961.670703125
          },
          {
           "lower": 6813.0931640625,
           "timepoint": 54,
           "trajectory": "I_sol",
           "upper": 35537.473828124996
          },
          {
           "lower": 6393.315014648438,
           "timepoint": 55,
           "trajectory": "I_sol",
           "upper": 35117.4560546875
          },
          {
           "lower": 5999.357763671876,
           "timepoint": 56,
           "trajectory": "I_sol",
           "upper": 34701.525
          },
          {
           "lower": 5629.652124023438,
           "timepoint": 57,
           "trajectory": "I_sol",
           "upper": 34289.7263671875
          },
          {
           "lower": 5282.7274169921875,
           "timepoint": 58,
           "trajectory": "I_sol",
           "upper": 33881.9791015625
          },
          {
           "lower": 4957.183056640625,
           "timepoint": 59,
           "trajectory": "I_sol",
           "upper": 33478.341796875
          }
         ]
        },
        {
         "name": "traces",
         "transform": [
          {
           "expr": "isValid(datum.value)",
           "type": "filter"
          }
         ],
         "values": []
        },
        {
         "name": "points",
         "values": [
          {
           "sample_id": 0,
           "timepoint": 0,
           "trajectory": "I_data",
           "value": 1
          },
          {
           "sample_id": 0,
           "timepoint": 1,
           "trajectory": "I_data",
           "value": 10
          },
          {
           "sample_id": 0,
           "timepoint": 2,
           "trajectory": "I_data",
           "value": 21
          },
          {
           "sample_id": 0,
           "timepoint": 3,
           "trajectory": "I_data",
           "value": 24
          },
          {
           "sample_id": 0,
           "timepoint": 4,
           "trajectory": "I_data",
           "value": 76
          },
          {
           "sample_id": 0,
           "timepoint": 5,
           "trajectory": "I_data",
           "value": 104
          },
          {
           "sample_id": 0,
           "timepoint": 6,
           "trajectory": "I_data",
           "value": 128
          },
          {
           "sample_id": 0,
           "timepoint": 7,
           "trajectory": "I_data",
           "value": 131
          },
          {
           "sample_id": 0,
           "timepoint": 8,
           "trajectory": "I_data",
           "value": 192
          },
          {
           "sample_id": 0,
           "timepoint": 9,
           "trajectory": "I_data",
           "value": 220
          },
          {
           "sample_id": 0,
           "timepoint": 10,
           "trajectory": "I_data",
           "value": 274
          },
          {
           "sample_id": 0,
           "timepoint": 11,
           "trajectory": "I_data",
           "value": 394
          },
          {
           "sample_id": 0,
           "timepoint": 12,
           "trajectory": "I_data",
           "value": 481
          },
          {
           "sample_id": 0,
           "timepoint": 13,
           "trajectory": "I_data",
           "value": 745
          },
          {
           "sample_id": 0,
           "timepoint": 14,
           "trajectory": "I_data",
           "value": 1111
          },
          {
           "sample_id": 0,
           "timepoint": 15,
           "trajectory": "I_data",
           "value": 2128
          },
          {
           "sample_id": 0,
           "timepoint": 16,
           "trajectory": "I_data",
           "value": 3671
          },
          {
           "sample_id": 0,
           "timepoint": 17,
           "trajectory": "I_data",
           "value": 6578
          },
          {
           "sample_id": 0,
           "timepoint": 18,
           "trajectory": "I_data",
           "value": 9449
          },
          {
           "sample_id": 0,
           "timepoint": 19,
           "trajectory": "I_data",
           "value": 13761
          },
          {
           "sample_id": 0,
           "timepoint": 20,
           "trajectory": "I_data",
           "value": 18270
          },
          {
           "sample_id": 0,
           "timepoint": 21,
           "trajectory": "I_data",
           "value": 21478
          },
          {
           "sample_id": 0,
           "timepoint": 22,
           "trajectory": "I_data",
           "value": 23630
          },
          {
           "sample_id": 0,
           "timepoint": 23,
           "trajectory": "I_data",
           "value": 26987
          },
          {
           "sample_id": 0,
           "timepoint": 24,
           "trajectory": "I_data",
           "value": 29533
          },
          {
           "sample_id": 0,
           "timepoint": 25,
           "trajectory": "I_data",
           "value": 31623
          },
          {
           "sample_id": 0,
           "timepoint": 26,
           "trajectory": "I_data",
           "value": 33967
          },
          {
           "sample_id": 0,
           "timepoint": 27,
           "trajectory": "I_data",
           "value": 35822
          },
          {
           "sample_id": 0,
           "timepoint": 28,
           "trajectory": "I_data",
           "value": 38456
          },
          {
           "sample_id": 0,
           "timepoint": 29,
           "trajectory": "I_data",
           "value": 45676
          },
          {
           "sample_id": 0,
           "timepoint": 30,
           "trajectory": "I_data",
           "value": 48380
          },
          {
           "sample_id": 0,
           "timepoint": 31,
           "trajectory": "I_data",
           "value": 51807
          },
          {
           "sample_id": 0,
           "timepoint": 32,
           "trajectory": "I_data",
           "value": 55042
          },
          {
           "sample_id": 0,
           "timepoint": 33,
           "trajectory": "I_data",
           "value": 56847
          },
          {
           "sample_id": 0,
           "timepoint": 34,
           "trajectory": "I_data",
           "value": 52184
          },
          {
           "sample_id": 0,
           "timepoint": 35,
           "trajectory": "I_data",
           "value": 49194
          },
          {
           "sample_id": 0,
           "timepoint": 36,
           "trajectory": "I_data",
           "value": 48730
          },
          {
           "sample_id": 0,
           "timepoint": 37,
           "trajectory": "I_data",
           "value": 50551
          },
          {
           "sample_id": 0,
           "timepoint": 38,
           "trajectory": "I_data",
           "value": 51029
          },
          {
           "sample_id": 0,
           "timepoint": 39,
           "trajectory": "I_data",
           "value": 49701
          },
          {
           "sample_id": 0,
           "timepoint": 40,
           "trajectory": "I_data",
           "value": 50661
          },
          {
           "sample_id": 0,
           "timepoint": 41,
           "trajectory": "I_data",
           "value": 48303
          },
          {
           "sample_id": 0,
           "timepoint": 42,
           "trajectory": "I_data",
           "value": 43703
          },
          {
           "sample_id": 0,
           "timepoint": 43,
           "trajectory": "I_data",
           "value": 38888
          },
          {
           "sample_id": 0,
           "timepoint": 44,
           "trajectory": "I_data",
           "value": 38244
          },
          {
           "sample_id": 0,
           "timepoint": 45,
           "trajectory": "I_data",
           "value": 36857
          },
          {
           "sample_id": 0,
           "timepoint": 46,
           "trajectory": "I_data",
           "value": 35881
          },
          {
           "sample_id": 0,
           "timepoint": 47,
           "trajectory": "I_data",
           "value": 35054
          },
          {
           "sample_id": 0,
           "timepoint": 48,
           "trajectory": "I_data",
           "value": 34782
          },
          {
           "sample_id": 0,
           "timepoint": 49,
           "trajectory": "I_data",
           "value": 31526
          },
          {
           "sample_id": 0,
           "timepoint": 50,
           "trajectory": "I_data",
           "value": 28799
          },
          {
           "sample_id": 0,
           "timepoint": 51,
           "trajectory": "I_data",
           "value": 27419
          },
          {
           "sample_id": 0,
           "timepoint": 52,
           "trajectory": "I_data",
           "value": 27443
          },
          {
           "sample_id": 0,
           "timepoint": 53,
           "trajectory": "I_data",
           "value": 30499
          },
          {
           "sample_id": 0,
           "timepoint": 54,
           "trajectory": "I_data",
           "value": 31543
          },
          {
           "sample_id": 0,
           "timepoint": 55,
           "trajectory": "I_data",
           "value": 31597
          },
          {
           "sample_id": 0,
           "timepoint": 56,
           "trajectory": "I_data",
           "value": 29008
          },
          {
           "sample_id": 0,
           "timepoint": 57,
           "trajectory": "I_data",
           "value": 25476
          },
          {
           "sample_id": 0,
           "timepoint": 58,
           "trajectory": "I_data",
           "value": 20411
          },
          {
           "sample_id": 0,
           "timepoint": 59,
           "trajectory": "I_data",
           "value": 19224
          },
          {
           "sample_id": 0,
           "timepoint": 0,
           "trajectory": "D",
           "value": 0
          },
          {
           "sample_id": 0,
           "timepoint": 1,
           "trajectory": "D",
           "value": 0
          },
          {
           "sample_id": 0,
           "timepoint": 2,
           "trajectory": "D",
           "value": 0
          },
          {
           "sample_id": 0,
           "timepoint": 3,
           "trajectory": "D",
           "value": 0
          },
          {
           "sample_id": 0,
           "timepoint": 4,
           "trajectory": "D",
           "value": 0
          },
          {
           "sample_id": 0,
           "timepoint": 5,
           "trajectory": "D",
           "value": 0
          },
          {
           "sample_id": 0,
           "timepoint": 6,
           "trajectory": "D",
           "value": 0
          },
          {
           "sample_id": 0,
           "timepoint": 7,
           "trajectory": "D",
           "value": 0
          },
          {
           "sample_id": 0,
           "timepoint": 8,
           "trajectory": "D",
           "value": 1
          },
          {
           "sample_id": 0,
           "timepoint": 9,
           "trajectory": "D",
           "value": 1
          },
          {
           "sample_id": 0,
           "timepoint": 10,
           "trajectory": "D",
           "value": 1
          },
          {
           "sample_id": 0,
           "timepoint": 11,
           "trajectory": "D",
           "value": 4
          },
          {
           "sample_id": 0,
           "timepoint": 12,
           "trajectory": "D",
           "value": 9
          },
          {
           "sample_id": 0,
           "timepoint": 13,
           "trajectory": "D",
           "value": 19
          },
          {
           "sample_id": 0,
           "timepoint": 14,
           "trajectory": "D",
           "value": 30
          },
          {
           "sample_id": 0,
           "timepoint": 15,
           "trajectory": "D",
           "value": 51
          },
          {
           "sample_id": 0,
           "timepoint": 16,
           "trajectory": "D",
           "value": 77
          },
          {
           "sample_id": 0,
           "timepoint": 17,
           "trajectory": "D",
           "value": 129
          },
          {
           "sample_id": 0,
           "timepoint": 18,
           "trajectory": "D",
           "value": 175
          },
          {
           "sample_id": 0,
           "timepoint": 19,
           "trajectory": "D",
           "value": 226
          },
          {
           "sample_id": 0,
           "timepoint": 20,
           "trajectory": "D",
           "value": 315
          },
          {
           "sample_id": 0,
           "timepoint": 21,
           "trajectory": "D",
           "value": 427
          },
          {
           "sample_id": 0,
           "timepoint": 22,
           "trajectory": "D",
           "value": 565
          },
          {
           "sample_id": 0,
           "timepoint": 23,
           "trajectory": "D",
           "value": 759
          },
          {
           "sample_id": 0,
           "timepoint": 24,
           "trajectory": "D",
           "value": 984
          },
          {
           "sample_id": 0,
           "timepoint": 25,
           "trajectory": "D",
           "value": 1285
          },
          {
           "sample_id": 0,
           "timepoint": 26,
           "trajectory": "D",
           "value": 1603
          },
          {
           "sample_id": 0,
           "timepoint": 27,
           "trajectory": "D",
           "value": 1930
          },
          {
           "sample_id": 0,
           "timepoint": 28,
           "trajectory": "D",
           "value": 2334
          },
          {
           "sample_id": 0,
           "timepoint": 29,
           "trajectory": "D",
           "value": 2859
          },
          {
           "sample_id": 0,
           "timepoint": 30,
           "trajectory": "D",
           "value": 3420
          },
          {
           "sample_id": 0,
           "timepoint": 31,
           "trajectory": "D",
           "value": 3989
          },
          {
           "sample_id": 0,
           "timepoint": 32,
           "trajectory": "D",
           "value": 4634
          },
          {
           "sample_id": 0,
           "timepoint": 33,
           "trajectory": "D",
           "value": 5384
          },
          {
           "sample_id": 0,
           "timepoint": 34,
           "trajectory": "D",
           "value": 6185
          },
          {
           "sample_id": 0,
           "timepoint": 35,
           "trajectory": "D",
           "value": 7241
          },
          {
           "sample_id": 0,
           "timepoint": 36,
           "trajectory": "D",
           "value": 7985
          },
          {
           "sample_id": 0,
           "timepoint": 37,
           "trajectory": "D",
           "value": 8846
          },
          {
           "sample_id": 0,
           "timepoint": 38,
           "trajectory": "D",
           "value": 9579
          },
          {
           "sample_id": 0,
           "timepoint": 39,
           "trajectory": "D",
           "value": 10345
          },
          {
           "sample_id": 0,
           "timepoint": 40,
           "trajectory": "D",
           "value": 11126
          },
          {
           "sample_id": 0,
           "timepoint": 41,
           "trajectory": "D",
           "value": 11930
          },
          {
           "sample_id": 0,
           "timepoint": 42,
           "trajectory": "D",
           "value": 12669
          },
          {
           "sample_id": 0,
           "timepoint": 43,
           "trajectory": "D",
           "value": 13332
          },
          {
           "sample_id": 0,
           "timepoint": 44,
           "trajectory": "D",
           "value": 13987
          },
          {
           "sample_id": 0,
           "timepoint": 45,
           "trajectory": "D",
           "value": 14371
          },
          {
           "sample_id": 0,
           "timepoint": 46,
           "trajectory": "D",
           "value": 14780
          },
          {
           "sample_id": 0,
           "timepoint": 47,
           "trajectory": "D",
           "value": 15225
          },
          {
           "sample_id": 0,
           "timepoint": 48,
           "trajectory": "D",
           "value": 16116
          },
          {
           "sample_id": 0,
           "timepoint": 49,
           "trajectory": "D",
           "value": 16639
          },
          {
           "sample_id": 0,
           "timepoint": 50,
           "trajectory": "D",
           "value": 17091
          },
          {
           "sample_id": 0,
           "timepoint": 51,
           "trajectory": "D",
           "value": 17647
          },
          {
           "sample_id": 0,
           "timepoint": 52,
           "trajectory": "D",
           "value": 18132
          },
          {
           "sample_id": 0,
           "timepoint": 53,
           "trajectory": "D",
           "value": 18523
          },
          {
           "sample_id": 0,
           "timepoint": 54,
           "trajectory": "D",
           "value": 18882
          },
          {
           "sample_id": 0,
           "timepoint": 55,
           "trajectory": "D",
           "value": 19292
          },
          {
           "sample_id": 0,
           "timepoint": 56,
           "trajectory": "D",
           "value": 19602
          },
          {
           "sample_id": 0,
           "timepoint": 57,
           "trajectory": "D",
           "value": 20000
          },
          {
           "sample_id": 0,
           "timepoint": 58,
           "trajectory": "D",
           "value": 20334
          },
          {
           "sample_id": 0,
           "timepoint": 59,
           "trajectory": "D",
           "value": 20662
          }
         ]
        },
        {
         "name": "markers",
         "values": []
        },
        {
         "name": "selected",
         "on": [
          {
           "remove": true,
           "trigger": "clear"
          },
          {
           "remove": true,
           "trigger": "!shift"
          },
          {
           "insert": "clicked",
           "trigger": "!shift && clicked"
          },
          {
           "toggle": "clicked",
           "trigger": "shift && clicked"
          }
         ]
        }
       ],
       "height": 300,
       "legends": [
        {
         "encode": {
          "labels": {
           "interactive": true,
           "name": "legendLabel",
           "update": {
            "opacity": [
             {
              "test": "!length(data('selected')) || indata('selected', 'value', datum.value)",
              "value": 1
             },
             {
              "value": 0.25
             }
            ]
           }
          },
          "symbols": {
           "interactive": true,
           "name": "legendSymbol",
           "update": {
            "fill": {
             "value": "transparent"
            },
            "opacity": [
             {
              "test": "!length(data('selected')) || indata('selected', 'value', datum.value)",
              "value": 0.7
             },
             {
              "value": 0.15
             }
            ],
            "size": {
             "value": 64
            },
            "strokeWidth": {
             "value": 2
            }
           }
          }
         },
         "name": "color_legend",
         "stroke": "color"
        }
       ],
       "marks": [
        {
         "from": {
          "facet": {
           "data": "points",
           "groupby": "trajectory",
           "name": "points_split"
          }
         },
         "marks": [
          {
           "encode": {
            "hover": {
             "fillOpacity": {
              "value": 0.9
             }
            },
            "update": {
             "fill": {
              "field": "trajectory",
              "scale": "color"
             },
             "fillOpacity": [
              {
               "test": "!length(data('selected')) || indata('selected', 'value', datum.trajectory)",
               "value": 0.5
              },
              {
               "value": 0.15
              }
             ],
             "size": {
              "value": 10
             },
             "stroke": {
              "field": "trajectory",
              "scale": "color"
             },
             "strokeOpacity": [
              {
               "test": "!length(data('selected')) || indata('selected', 'value', datum.trajectory)",
               "value": 0.75
              },
              {
               "value": 0.15
              }
             ],
             "strokeWidth": {
              "value": 2
             },
             "tooltip": {
              "field": "value"
             },
             "x": {
              "field": "timepoint",
              "scale": "xscale"
             },
             "y": {
              "field": "value",
              "scale": "yscale"
             }
            }
           },
           "from": {
            "data": "points"
           },
           "name": "_points_symbol",
           "type": "symbol",
           "zindex": 3
          },
          {
           "encode": {
            "hover": {
             "fillOpacity": {
              "value": 0.9
             }
            },
            "update": {
             "interpolate": {
              "value": "linear"
             },
             "stroke": {
              "field": "trajectory",
              "scale": "color"
             },
             "strokeOpacity": [
              {
               "test": "!length(data('selected')) || indata('selected', 'value', datum.trajectory)",
               "value": 0.3
              },
              {
               "value": 0.1
              }
             ],
             "strokeWidth": {
              "value": 2
             },
             "x": {
              "field": "timepoint",
              "scale": "xscale"
             },
             "y": {
              "field": "value",
              "scale": "yscale"
             }
            }
           },
           "from": {
            "data": "points"
           },
           "name": "_points_line",
           "type": "line",
           "zindex": 3
          }
         ],
         "name": "_points",
         "type": "group",
         "zindex": 3
        },
        {
         "from": {
          "facet": {
           "data": "traces",
           "groupby": "trajectory",
           "name": "traces_split"
          }
         },
         "marks": [
          {
           "encode": {
            "hover": {
             "fillOpacity": {
              "value": 0.9
             }
            },
            "update": {
             "interpolate": {
              "value": "linear"
             },
             "stroke": {
              "field": "trajectory",
              "scale": "color"
             },
             "strokeOpacity": [
              {
               "test": "!length(data('selected')) || indata('selected', 'value', datum.trajectory)",
               "value": 0.75
              },
              {
               "value": 0.15
              }
             ],
             "strokeWidth": {
              "value": 2
             },
             "x": {
              "field": "timepoint",
              "scale": "xscale"
             },
             "y": {
              "field": "value",
              "scale": "yscale"
             }
            }
           },
           "from": {
            "data": "traces_split"
           },
           "name": "_traces_lines",
           "type": "line"
          }
         ],
         "name": "_traces",
         "type": "group",
         "zindex": 2
        },
        {
         "from": {
          "facet": {
           "data": "distributions",
           "groupby": "trajectory",
           "name": "trajectory_split"
          }
         },
         "marks": [
          {
           "encode": {
            "hover": {
             "fillOpacity": {
              "value": 0.9
             }
            },
            "update": {
             "fill": {
              "field": "trajectory",
              "scale": "color"
             },
             "fillOpacity": [
              {
               "test": "!length(data('selected')) || indata('selected', 'value', datum.trajectory)",
               "value": 0.5
              },
              {
               "value": 0.15
              }
             ],
             "interpolate": {
              "value": "linear"
             },
             "stroke": {
              "field": "trajectory",
              "scale": "color"
             },
             "strokeOpacity": [
              {
               "test": "!length(data('selected')) || indata('selected', 'value', datum.trajectory)",
               "value": 0.75
              },
              {
               "value": 0.15
              }
             ],
             "strokeWidth": {
              "value": 2
             },
             "x": {
              "field": "timepoint",
              "scale": "xscale"
             },
             "y": {
              "field": "upper",
              "scale": "yscale"
             },
             "y2": {
              "field": "lower",
              "scale": "yscale"
             }
            }
           },
           "from": {
            "data": "trajectory_split"
           },
           "type": "area"
          }
         ],
         "name": "_distributions",
         "type": "group",
         "zindex": 1
        },
        {
         "marks": [
          {
           "encode": {
            "enter": {
             "stroke": {
              "value": "lightgray"
             }
            },
            "update": {
             "opacity": {
              "value": 1
             },
             "x": {
              "field": "timepoint",
              "scale": "xscale"
             },
             "y": {
              "signal": "height"
             },
             "y2": {
              "value": 0
             }
            }
           },
           "from": {
            "data": "markers"
           },
           "name": "_marker text",
           "type": "rule"
          },
          {
           "encode": {
            "enter": {
             "fontSize": {
              "value": 8
             },
             "text": {
              "field": "datum.label"
             },
             "y": {
              "value": 0
             }
            }
           },
           "from": {
            "data": "_marker text"
           },
           "name": "_marker flags",
           "transform": [
            {
             "as": [
              "x",
              "_y",
              "opacity",
              "align",
              "baseline"
             ],
             "lineAnchor": "start",
             "offset": [
              1
             ],
             "size": {
              "signal": "[width, height]"
             },
             "type": "label"
            }
           ],
           "type": "text"
          }
         ],
         "name": "_markers",
         "type": "group"
        }
       ],
       "padding": 5,
       "scales": [
        {
         "domain": {
          "fields": [
           {
            "data": "distributions",
            "field": "timepoint"
           },
           {
            "data": "traces",
            "field": "timepoint"
           },
           {
            "data": "points",
            "field": "timepoint"
           },
           {
            "data": "markers",
            "field": "timepoint"
           }
          ]
         },
         "name": "xscale",
         "range": "width",
         "type": "linear",
         "zero": false
        },
        {
         "domain": {
          "fields": [
           {
            "data": "distributions",
            "field": "lower"
           },
           {
            "data": "distributions",
            "field": "upper"
           },
           {
            "data": "traces",
            "field": "value"
           },
           {
            "data": "points",
            "field": "value"
           }
          ]
         },
         "name": "yscale",
         "nice": true,
         "range": "height",
         "type": "linear",
         "zero": true
        },
        {
         "domain": {
          "fields": [
           {
            "data": "distributions",
            "field": "trajectory"
           },
           {
            "data": "traces",
            "field": "trajectory"
           },
           {
            "data": "points",
            "field": "trajectory"
           }
          ]
         },
         "name": "color",
         "range": "category",
         "type": "ordinal"
        }
       ],
       "signals": [
        {
         "name": "clear",
         "on": [
          {
           "events": "mouseup[!event.item]",
           "force": true,
           "update": "true"
          }
         ],
         "value": true
        },
        {
         "name": "shift",
         "on": [
          {
           "events": "@legendSymbol:click, @legendLabel:click",
           "force": true,
           "update": "event.shiftKey"
          }
         ],
         "value": false
        },
        {
         "name": "clicked",
         "on": [
          {
           "events": "@legendSymbol:click, @legendLabel:click",
           "force": true,
           "update": "{value: datum.value}"
          }
         ],
         "value": null
        }
       ],
       "width": 500
      }
     },
     "metadata": {},
     "output_type": "display_data"
    }
   ],
   "source": [
    "# Plot results\n",
    "new_data = test_data[[\"I\", \"D\"]]\n",
    "display(new_data)\n",
    "schema = plots.trajectories(pd.DataFrame(result1[\"data\"]), subset=\".*_sol\",\n",
    "                            points=new_data.rename(columns={\"I\":\"I_data\"}),\n",
    "                           )\n",
    "schema = plots.pad(schema, 5)\n",
    "plots.ipy_display(schema)"
   ]
  },
  {
   "cell_type": "code",
   "execution_count": null,
   "id": "6fa25da4-a72d-4789-969a-cfffe3c26ec1",
   "metadata": {},
   "outputs": [
    {
     "name": "stdout",
     "output_type": "stream",
     "text": [
      "iteration 0: loss = 716.8295200169086\n",
      "iteration 25: loss = 689.5009007751942\n",
      "iteration 50: loss = 652.5210690796375\n",
      "iteration 75: loss = 639.1791975796223\n"
     ]
    }
   ],
   "source": [
    "num_samples = 100\n",
    "model_paths = [model6_location]\n",
    "data_path = \"../../notebook/ensemble_eval_sa/NY_data1.csv\"\n",
    "weights = [1]\n",
    "# solution_mappings = [{\"I\": \"I\", \"H\": \"H\", \"D\": \"D\"}]\n",
    "solution_mappings = [{\"I\": \"infected\", \"H\": \"hospitalized\", \"D\": \"dead\"}]\n",
    "\n",
    "# Run the calibration and sampling\n",
    "result2 = load_and_calibrate_and_sample_ensemble_model(\n",
    "    model_paths,\n",
    "    data_path,\n",
    "    weights,\n",
    "    solution_mappings,\n",
    "    num_samples,\n",
    "    timepoints,\n",
    "    verbose=True,\n",
    "    total_population=19340000,\n",
    "    num_iterations=100,\n",
    "    time_unit=\"days\",\n",
    "    visual_options={\"title\": \"Calibrated Ensemble\", \"subset\":\".*_sol\"}\n",
    ")\n",
    "\n",
    "# # Save results\n",
    "# result2[\"data\"].to_csv(\n",
    "#     \"partI_ensemble_of_one_results.csv\", index=False\n",
    "# )\n",
    "# result2[\"quantiles\"].to_csv(\n",
    "#     \"partI_ensemble_of_one_quantiles.csv\", index=False\n",
    "# )\n",
    "\n",
    "# Plot results\n",
    "schema = plots.trajectories(pd.DataFrame(result2[\"data\"]), subset=\".*_sol\",\n",
    "                            points=test_data.reset_index(drop=True).rename(columns={\"I\":\"I_data\", \"H\":\"H_data\", \"D\":\"D_data\"}),\n",
    "                           )\n",
    "schema = plots.pad(schema, 5)\n",
    "plots.ipy_display(schema)"
   ]
  },
  {
   "cell_type": "code",
   "execution_count": 167,
   "id": "654bb2a6-f7dd-45bb-9ebe-183ac72bd67e",
   "metadata": {},
   "outputs": [
    {
     "name": "stdout",
     "output_type": "stream",
     "text": [
      "iteration 0: loss = 711.2050774395466\n",
      "iteration 25: loss = 678.063215047121\n",
      "\n"
     ]
    },
    {
     "data": {
      "application/vnd.vega.v5+json": {
       "$schema": "https://vega.github.io/schema/vega/v5.json",
       "axes": [
        {
         "name": "x_axis",
         "orient": "bottom",
         "scale": "xscale",
         "zindex": 100
        },
        {
         "name": "y_axis",
         "orient": "left",
         "scale": "yscale",
         "zindex": 100
        }
       ],
       "data": [
        {
         "name": "distributions",
         "values": [
          {
           "lower": 4.337181515955681e-22,
           "timepoint": 0,
           "trajectory": "D_sol",
           "upper": 8.801589811886034e-22
          },
          {
           "lower": 0.050729415565729144,
           "timepoint": 1,
           "trajectory": "D_sol",
           "upper": 0.10086572989821434
          },
          {
           "lower": 0.2280280500650406,
           "timepoint": 2,
           "trajectory": "D_sol",
           "upper": 0.4463400810956955
          },
          {
           "lower": 0.5683938294649125,
           "timepoint": 3,
           "trajectory": "D_sol",
           "upper": 1.0796343564987183
          },
          {
           "lower": 1.1034748435020447,
           "timepoint": 4,
           "trajectory": "D_sol",
           "upper": 2.029550576210022
          },
          {
           "lower": 1.8520472288131713,
           "timepoint": 5,
           "trajectory": "D_sol",
           "upper": 3.3121818900108337
          },
          {
           "lower": 2.8220994234085084,
           "timepoint": 6,
           "trajectory": "D_sol",
           "upper": 4.963034820556641
          },
          {
           "lower": 4.078461599349976,
           "timepoint": 7,
           "trajectory": "D_sol",
           "upper": 7.022499513626099
          },
          {
           "lower": 5.526071548461914,
           "timepoint": 8,
           "trajectory": "D_sol",
           "upper": 9.540261268615723
          },
          {
           "lower": 7.356119847297668,
           "timepoint": 9,
           "trajectory": "D_sol",
           "upper": 12.558410120010375
          },
          {
           "lower": 9.58769850730896,
           "timepoint": 10,
           "trajectory": "D_sol",
           "upper": 16.170988750457763
          },
          {
           "lower": 12.446635627746582,
           "timepoint": 11,
           "trajectory": "D_sol",
           "upper": 20.46286087036133
          },
          {
           "lower": 15.953261232376098,
           "timepoint": 12,
           "trajectory": "D_sol",
           "upper": 25.850318145751952
          },
          {
           "lower": 19.92106990814209,
           "timepoint": 13,
           "trajectory": "D_sol",
           "upper": 32.23299312591553
          },
          {
           "lower": 24.669757556915282,
           "timepoint": 14,
           "trajectory": "D_sol",
           "upper": 39.62679023742676
          },
          {
           "lower": 30.342309379577635,
           "timepoint": 15,
           "trajectory": "D_sol",
           "upper": 48.7403205871582
          },
          {
           "lower": 37.10369510650635,
           "timepoint": 16,
           "trajectory": "D_sol",
           "upper": 59.42312526702881
          },
          {
           "lower": 45.1409252166748,
           "timepoint": 17,
           "trajectory": "D_sol",
           "upper": 71.99329147338867
          },
          {
           "lower": 54.6610631942749,
           "timepoint": 18,
           "trajectory": "D_sol",
           "upper": 87.09652938842774
          },
          {
           "lower": 66.2468132019043,
           "timepoint": 19,
           "trajectory": "D_sol",
           "upper": 105.28636207580567
          },
          {
           "lower": 79.97847366333008,
           "timepoint": 20,
           "trajectory": "D_sol",
           "upper": 126.44007720947265
          },
          {
           "lower": 96.10832443237305,
           "timepoint": 21,
           "trajectory": "D_sol",
           "upper": 152.0984100341797
          },
          {
           "lower": 114.89949378967285,
           "timepoint": 22,
           "trajectory": "D_sol",
           "upper": 182.05541229248047
          },
          {
           "lower": 136.58375854492186,
           "timepoint": 23,
           "trajectory": "D_sol",
           "upper": 215.57238464355467
          },
          {
           "lower": 161.34359588623047,
           "timepoint": 24,
           "trajectory": "D_sol",
           "upper": 254.60824584960938
          },
          {
           "lower": 189.29491806030273,
           "timepoint": 25,
           "trajectory": "D_sol",
           "upper": 299.070295715332
          },
          {
           "lower": 220.4762336730957,
           "timepoint": 26,
           "trajectory": "D_sol",
           "upper": 349.85170288085936
          },
          {
           "lower": 254.00212631225585,
           "timepoint": 27,
           "trajectory": "D_sol",
           "upper": 406.2431976318359
          },
          {
           "lower": 289.29893951416017,
           "timepoint": 28,
           "trajectory": "D_sol",
           "upper": 468.1407196044922
          },
          {
           "lower": 327.06556701660156,
           "timepoint": 29,
           "trajectory": "D_sol",
           "upper": 533.9456237792969
          },
          {
           "lower": 367.0532989501953,
           "timepoint": 30,
           "trajectory": "D_sol",
           "upper": 604.1642333984375
          },
          {
           "lower": 408.9778167724609,
           "timepoint": 31,
           "trajectory": "D_sol",
           "upper": 678.7981018066406
          },
          {
           "lower": 452.5329071044922,
           "timepoint": 32,
           "trajectory": "D_sol",
           "upper": 758.5456787109375
          },
          {
           "lower": 497.4043762207031,
           "timepoint": 33,
           "trajectory": "D_sol",
           "upper": 841.7759033203125
          },
          {
           "lower": 543.2802307128907,
           "timepoint": 34,
           "trajectory": "D_sol",
           "upper": 927.9948699951171
          },
          {
           "lower": 589.8607116699219,
           "timepoint": 35,
           "trajectory": "D_sol",
           "upper": 1016.7165161132813
          },
          {
           "lower": 636.8642852783203,
           "timepoint": 36,
           "trajectory": "D_sol",
           "upper": 1107.4674682617188
          },
          {
           "lower": 684.032421875,
           "timepoint": 37,
           "trajectory": "D_sol",
           "upper": 1199.8037170410155
          },
          {
           "lower": 731.1317413330078,
           "timepoint": 38,
           "trajectory": "D_sol",
           "upper": 1293.3158752441407
          },
          {
           "lower": 777.9570922851562,
           "timepoint": 39,
           "trajectory": "D_sol",
           "upper": 1387.6290710449218
          },
          {
           "lower": 824.3279541015625,
           "timepoint": 40,
           "trajectory": "D_sol",
           "upper": 1482.4066955566407
          },
          {
           "lower": 870.0906768798828,
           "timepoint": 41,
           "trajectory": "D_sol",
           "upper": 1577.350390625
          },
          {
           "lower": 915.1149536132813,
           "timepoint": 42,
           "trajectory": "D_sol",
           "upper": 1672.1972351074219
          },
          {
           "lower": 959.2947082519531,
           "timepoint": 43,
           "trajectory": "D_sol",
           "upper": 1769.0796874999999
          },
          {
           "lower": 1002.5420593261719,
           "timepoint": 44,
           "trajectory": "D_sol",
           "upper": 1866.9408447265625
          },
          {
           "lower": 1044.7879486083984,
           "timepoint": 45,
           "trajectory": "D_sol",
           "upper": 1964.303692626953
          },
          {
           "lower": 1085.9788330078125,
           "timepoint": 46,
           "trajectory": "D_sol",
           "upper": 2055.288037109375
          },
          {
           "lower": 1126.07568359375,
           "timepoint": 47,
           "trajectory": "D_sol",
           "upper": 2144.731396484375
          },
          {
           "lower": 1165.0506225585937,
           "timepoint": 48,
           "trajectory": "D_sol",
           "upper": 2232.684887695312
          },
          {
           "lower": 1202.8876098632813,
           "timepoint": 49,
           "trajectory": "D_sol",
           "upper": 2319.407092285156
          },
          {
           "lower": 1239.57880859375,
           "timepoint": 50,
           "trajectory": "D_sol",
           "upper": 2407.7284423828123
          },
          {
           "lower": 1275.122869873047,
           "timepoint": 51,
           "trajectory": "D_sol",
           "upper": 2494.719104003906
          },
          {
           "lower": 1309.5251892089843,
           "timepoint": 52,
           "trajectory": "D_sol",
           "upper": 2584.754736328125
          },
          {
           "lower": 1342.7965576171875,
           "timepoint": 53,
           "trajectory": "D_sol",
           "upper": 2673.720166015625
          },
          {
           "lower": 1374.9521423339843,
           "timepoint": 54,
           "trajectory": "D_sol",
           "upper": 2758.904931640625
          },
          {
           "lower": 1406.0111328125,
           "timepoint": 55,
           "trajectory": "D_sol",
           "upper": 2835.5546752929686
          },
          {
           "lower": 1435.9922973632813,
           "timepoint": 56,
           "trajectory": "D_sol",
           "upper": 2910.4619018554686
          },
          {
           "lower": 1464.9244262695313,
           "timepoint": 57,
           "trajectory": "D_sol",
           "upper": 2989.4667236328123
          },
          {
           "lower": 1492.826416015625,
           "timepoint": 58,
           "trajectory": "D_sol",
           "upper": 3067.655029296875
          },
          {
           "lower": 1519.728582763672,
           "timepoint": 59,
           "trajectory": "D_sol",
           "upper": 3144.515087890625
          },
          {
           "lower": 3.0192447292298754e-10,
           "timepoint": 0,
           "trajectory": "H_sol",
           "upper": 6.380112743675781e-10
          },
          {
           "lower": 4.054540348052979,
           "timepoint": 1,
           "trajectory": "H_sol",
           "upper": 7.946286058425902
          },
          {
           "lower": 9.524333000183105,
           "timepoint": 2,
           "trajectory": "H_sol",
           "upper": 18.188780784606934
          },
          {
           "lower": 16.391007041931154,
           "timepoint": 3,
           "trajectory": "H_sol",
           "upper": 30.437926483154296
          },
          {
           "lower": 24.31391496658325,
           "timepoint": 4,
           "trajectory": "H_sol",
           "upper": 43.295078659057616
          },
          {
           "lower": 32.28910360336304,
           "timepoint": 5,
           "trajectory": "H_sol",
           "upper": 57.24016666412353
          },
          {
           "lower": 41.104553604125975,
           "timepoint": 6,
           "trajectory": "H_sol",
           "upper": 73.075089263916
          },
          {
           "lower": 50.98016510009766,
           "timepoint": 7,
           "trajectory": "H_sol",
           "upper": 91.70967330932616
          },
          {
           "lower": 62.215453147888184,
           "timepoint": 8,
           "trajectory": "H_sol",
           "upper": 114.24080467224121
          },
          {
           "lower": 75.1738842010498,
           "timepoint": 9,
           "trajectory": "H_sol",
           "upper": 140.68967361450194
          },
          {
           "lower": 91.15071678161621,
           "timepoint": 10,
           "trajectory": "H_sol",
           "upper": 169.15801696777342
          },
          {
           "lower": 110.83972473144532,
           "timepoint": 11,
           "trajectory": "H_sol",
           "upper": 202.74039764404296
          },
          {
           "lower": 134.42099304199218,
           "timepoint": 12,
           "trajectory": "H_sol",
           "upper": 243.29648895263668
          },
          {
           "lower": 162.69695281982422,
           "timepoint": 13,
           "trajectory": "H_sol",
           "upper": 295.1121704101562
          },
          {
           "lower": 196.5703353881836,
           "timepoint": 14,
           "trajectory": "H_sol",
           "upper": 357.496353149414
          },
          {
           "lower": 237.0283218383789,
           "timepoint": 15,
           "trajectory": "H_sol",
           "upper": 432.4079711914062
          },
          {
           "lower": 285.1087188720703,
           "timepoint": 16,
           "trajectory": "H_sol",
           "upper": 523.760284423828
          },
          {
           "lower": 341.83838043212893,
           "timepoint": 17,
           "trajectory": "H_sol",
           "upper": 632.97080078125
          },
          {
           "lower": 408.14011230468753,
           "timepoint": 18,
           "trajectory": "H_sol",
           "upper": 761.765512084961
          },
          {
           "lower": 480.66354980468753,
           "timepoint": 19,
           "trajectory": "H_sol",
           "upper": 911.9683959960937
          },
          {
           "lower": 560.6856506347657,
           "timepoint": 20,
           "trajectory": "H_sol",
           "upper": 1072.8395446777345
          },
          {
           "lower": 649.25244140625,
           "timepoint": 21,
           "trajectory": "H_sol",
           "upper": 1253.2431945800781
          },
          {
           "lower": 745.4081512451172,
           "timepoint": 22,
           "trajectory": "H_sol",
           "upper": 1454.94306640625
          },
          {
           "lower": 847.5929901123047,
           "timepoint": 23,
           "trajectory": "H_sol",
           "upper": 1666.4966308593748
          },
          {
           "lower": 953.6958282470704,
           "timepoint": 24,
           "trajectory": "H_sol",
           "upper": 1892.1305541992185
          },
          {
           "lower": 1061.192205810547,
           "timepoint": 25,
           "trajectory": "H_sol",
           "upper": 2139.84013671875
          },
          {
           "lower": 1167.3483154296875,
           "timepoint": 26,
           "trajectory": "H_sol",
           "upper": 2391.7543457031247
          },
          {
           "lower": 1269.4505798339844,
           "timepoint": 27,
           "trajectory": "H_sol",
           "upper": 2641.900646972656
          },
          {
           "lower": 1365.0214294433595,
           "timepoint": 28,
           "trajectory": "H_sol",
           "upper": 2884.4275512695312
          },
          {
           "lower": 1451.9790466308593,
           "timepoint": 29,
           "trajectory": "H_sol",
           "upper": 3114.7230834960938
          },
          {
           "lower": 1528.7472290039063,
           "timepoint": 30,
           "trajectory": "H_sol",
           "upper": 3332.435400390625
          },
          {
           "lower": 1594.286151123047,
           "timepoint": 31,
           "trajectory": "H_sol",
           "upper": 3523.7670043945313
          },
          {
           "lower": 1648.0753234863282,
           "timepoint": 32,
           "trajectory": "H_sol",
           "upper": 3697.879443359375
          },
          {
           "lower": 1690.2262023925782,
           "timepoint": 33,
           "trajectory": "H_sol",
           "upper": 3849.3761962890626
          },
          {
           "lower": 1721.2289306640625,
           "timepoint": 34,
           "trajectory": "H_sol",
           "upper": 3977.9598388671875
          },
          {
           "lower": 1741.4009216308593,
           "timepoint": 35,
           "trajectory": "H_sol",
           "upper": 4084.0309326171873
          },
          {
           "lower": 1751.5425415039062,
           "timepoint": 36,
           "trajectory": "H_sol",
           "upper": 4168.529760742187
          },
          {
           "lower": 1747.42978515625,
           "timepoint": 37,
           "trajectory": "H_sol",
           "upper": 4232.757006835937
          },
          {
           "lower": 1725.2833801269533,
           "timepoint": 38,
           "trajectory": "H_sol",
           "upper": 4277.524804687499
          },
          {
           "lower": 1695.49482421875,
           "timepoint": 39,
           "trajectory": "H_sol",
           "upper": 4305.25810546875
          },
          {
           "lower": 1659.2891540527344,
           "timepoint": 40,
           "trajectory": "H_sol",
           "upper": 4317.705395507813
          },
          {
           "lower": 1617.8200073242188,
           "timepoint": 41,
           "trajectory": "H_sol",
           "upper": 4316.6076171875
          },
          {
           "lower": 1572.1511352539062,
           "timepoint": 42,
           "trajectory": "H_sol",
           "upper": 4303.63056640625
          },
          {
           "lower": 1523.2426147460938,
           "timepoint": 43,
           "trajectory": "H_sol",
           "upper": 4280.343774414062
          },
          {
           "lower": 1471.9501037597656,
           "timepoint": 44,
           "trajectory": "H_sol",
           "upper": 4248.188793945313
          },
          {
           "lower": 1419.02294921875,
           "timepoint": 45,
           "trajectory": "H_sol",
           "upper": 4208.483862304687
          },
          {
           "lower": 1365.1110046386718,
           "timepoint": 46,
           "trajectory": "H_sol",
           "upper": 4162.411547851562
          },
          {
           "lower": 1329.0926147460937,
           "timepoint": 47,
           "trajectory": "H_sol",
           "upper": 4111.024853515625
          },
          {
           "lower": 1292.407000732422,
           "timepoint": 48,
           "trajectory": "H_sol",
           "upper": 4055.255822753906
          },
          {
           "lower": 1255.737890625,
           "timepoint": 49,
           "trajectory": "H_sol",
           "upper": 3995.923352050781
          },
          {
           "lower": 1219.633642578125,
           "timepoint": 50,
           "trajectory": "H_sol",
           "upper": 3933.740625
          },
          {
           "lower": 1183.5143127441406,
           "timepoint": 51,
           "trajectory": "H_sol",
           "upper": 3881.777734375
          },
          {
           "lower": 1147.5657897949218,
           "timepoint": 52,
           "trajectory": "H_sol",
           "upper": 3831.77646484375
          },
          {
           "lower": 1111.9393188476563,
           "timepoint": 53,
           "trajectory": "H_sol",
           "upper": 3772.393896484375
          },
          {
           "lower": 1076.7632690429687,
           "timepoint": 54,
           "trajectory": "H_sol",
           "upper": 3701.9917846679687
          },
          {
           "lower": 1042.1384704589843,
           "timepoint": 55,
           "trajectory": "H_sol",
           "upper": 3631.0953857421873
          },
          {
           "lower": 1008.1482971191406,
           "timepoint": 56,
           "trajectory": "H_sol",
           "upper": 3567.5165893554686
          },
          {
           "lower": 971.8587829589844,
           "timepoint": 57,
           "trajectory": "H_sol",
           "upper": 3513.8483398437497
          },
          {
           "lower": 933.6188720703125,
           "timepoint": 58,
           "trajectory": "H_sol",
           "upper": 3460.036840820312
          },
          {
           "lower": 892.8296569824219,
           "timepoint": 59,
           "trajectory": "H_sol",
           "upper": 3406.237268066406
          },
          {
           "lower": 200,
           "timepoint": 0,
           "trajectory": "I_sol",
           "upper": 200
          },
          {
           "lower": 411.21573028564455,
           "timepoint": 1,
           "trajectory": "I_sol",
           "upper": 419.3733139038086
          },
          {
           "lower": 588.85673828125,
           "timepoint": 2,
           "trajectory": "I_sol",
           "upper": 610.763052368164
          },
          {
           "lower": 760.9701263427735,
           "timepoint": 3,
           "trajectory": "I_sol",
           "upper": 802.7157470703125
          },
          {
           "lower": 945.4430053710937,
           "timepoint": 4,
           "trajectory": "I_sol",
           "upper": 1013.9698913574218
          },
          {
           "lower": 1155.1211853027344,
           "timepoint": 5,
           "trajectory": "I_sol",
           "upper": 1259.7100402832032
          },
          {
           "lower": 1400.6754089355468,
           "timepoint": 6,
           "trajectory": "I_sol",
           "upper": 1553.3718872070312
          },
          {
           "lower": 1692.2454223632812,
           "timepoint": 7,
           "trajectory": "I_sol",
           "upper": 1908.6277587890625
          },
          {
           "lower": 2040.4149536132813,
           "timepoint": 8,
           "trajectory": "I_sol",
           "upper": 2340.5045654296873
          },
          {
           "lower": 2456.8025512695312,
           "timepoint": 9,
           "trajectory": "I_sol",
           "upper": 2866.1509765625
          },
          {
           "lower": 2954.4000854492188,
           "timepoint": 10,
           "trajectory": "I_sol",
           "upper": 3505.380627441406
          },
          {
           "lower": 3547.6987426757814,
           "timepoint": 11,
           "trajectory": "I_sol",
           "upper": 4281.0057373046875
          },
          {
           "lower": 4252.578198242188,
           "timepoint": 12,
           "trajectory": "I_sol",
           "upper": 5223.834448242187
          },
          {
           "lower": 5087.661889648438,
           "timepoint": 13,
           "trajectory": "I_sol",
           "upper": 6360.1052734375
          },
          {
           "lower": 6069.289208984375,
           "timepoint": 14,
           "trajectory": "I_sol",
           "upper": 7720.9432373046875
          },
          {
           "lower": 7213.512768554688,
           "timepoint": 15,
           "trajectory": "I_sol",
           "upper": 9337.6671875
          },
          {
           "lower": 8532.968896484375,
           "timepoint": 16,
           "trajectory": "I_sol",
           "upper": 11238.6791015625
          },
          {
           "lower": 10033.8658203125,
           "timepoint": 17,
           "trajectory": "I_sol",
           "upper": 13445.043408203124
          },
          {
           "lower": 11712.392626953126,
           "timepoint": 18,
           "trajectory": "I_sol",
           "upper": 15964.866845703125
          },
          {
           "lower": 13551.760107421875,
           "timepoint": 19,
           "trajectory": "I_sol",
           "upper": 18786.99580078125
          },
          {
           "lower": 15518.78076171875,
           "timepoint": 20,
           "trajectory": "I_sol",
           "upper": 21875.564550781248
          },
          {
           "lower": 17562.4208984375,
           "timepoint": 21,
           "trajectory": "I_sol",
           "upper": 25167.158300781248
          },
          {
           "lower": 19617.72919921875,
           "timepoint": 22,
           "trajectory": "I_sol",
           "upper": 28577.0759765625
          },
          {
           "lower": 21611.08515625,
           "timepoint": 23,
           "trajectory": "I_sol",
           "upper": 32035.1064453125
          },
          {
           "lower": 23468.4162109375,
           "timepoint": 24,
           "trajectory": "I_sol",
           "upper": 35405.2248046875
          },
          {
           "lower": 25123.90224609375,
           "timepoint": 25,
           "trajectory": "I_sol",
           "upper": 38460.1357421875
          },
          {
           "lower": 26527.158203125,
           "timepoint": 26,
           "trajectory": "I_sol",
           "upper": 41162.489453124996
          },
          {
           "lower": 27651.72451171875,
           "timepoint": 27,
           "trajectory": "I_sol",
           "upper": 43555.2900390625
          },
          {
           "lower": 28514.3060546875,
           "timepoint": 28,
           "trajectory": "I_sol",
           "upper": 45550.852734374996
          },
          {
           "lower": 29003.62265625,
           "timepoint": 29,
           "trajectory": "I_sol",
           "upper": 47153.3015625
          },
          {
           "lower": 29020.6826171875,
           "timepoint": 30,
           "trajectory": "I_sol",
           "upper": 48353.652929687494
          },
          {
           "lower": 28830.59140625,
           "timepoint": 31,
           "trajectory": "I_sol",
           "upper": 49181.553515625
          },
          {
           "lower": 28430.05400390625,
           "timepoint": 32,
           "trajectory": "I_sol",
           "upper": 49676.869726562494
          },
          {
           "lower": 27860.021484375,
           "timepoint": 33,
           "trajectory": "I_sol",
           "upper": 49884.218945312496
          },
          {
           "lower": 27167.920703125,
           "timepoint": 34,
           "trajectory": "I_sol",
           "upper": 49848.876562499994
          },
          {
           "lower": 26375.1935546875,
           "timepoint": 35,
           "trajectory": "I_sol",
           "upper": 49613.84082031249
          },
          {
           "lower": 25637.06982421875,
           "timepoint": 36,
           "trajectory": "I_sol",
           "upper": 49218.069140625
          },
          {
           "lower": 24888.44521484375,
           "timepoint": 37,
           "trajectory": "I_sol",
           "upper": 48692.93242187499
          },
          {
           "lower": 24108.31748046875,
           "timepoint": 38,
           "trajectory": "I_sol",
           "upper": 48066.312109374994
          },
          {
           "lower": 23311.228515625,
           "timepoint": 39,
           "trajectory": "I_sol",
           "upper": 47366.246289062496
          },
          {
           "lower": 22508.58935546875,
           "timepoint": 40,
           "trajectory": "I_sol",
           "upper": 46612.50175781249
          },
          {
           "lower": 21709.2150390625,
           "timepoint": 41,
           "trajectory": "I_sol",
           "upper": 45821.00273437499
          },
          {
           "lower": 20769.63447265625,
           "timepoint": 42,
           "trajectory": "I_sol",
           "upper": 45004.37207031249
          },
          {
           "lower": 19733.08310546875,
           "timepoint": 43,
           "trajectory": "I_sol",
           "upper": 44170.62929687499
          },
          {
           "lower": 18734.41318359375,
           "timepoint": 44,
           "trajectory": "I_sol",
           "upper": 43317.87207031249
          },
          {
           "lower": 17775.871875,
           "timepoint": 45,
           "trajectory": "I_sol",
           "upper": 42463.852734374996
          },
          {
           "lower": 16858.5671875,
           "timepoint": 46,
           "trajectory": "I_sol",
           "upper": 41635.19960937499
          },
          {
           "lower": 16113.97939453125,
           "timepoint": 47,
           "trajectory": "I_sol",
           "upper": 40922.363867187494
          },
          {
           "lower": 15420.443896484376,
           "timepoint": 48,
           "trajectory": "I_sol",
           "upper": 40214.1302734375
          },
          {
           "lower": 14754.25400390625,
           "timepoint": 49,
           "trajectory": "I_sol",
           "upper": 39512.2078125
          },
          {
           "lower": 14117.362255859374,
           "timepoint": 50,
           "trajectory": "I_sol",
           "upper": 38817.99453125
          },
          {
           "lower": 13508.410888671875,
           "timepoint": 51,
           "trajectory": "I_sol",
           "upper": 38132.424999999996
          },
          {
           "lower": 12924.677490234375,
           "timepoint": 52,
           "trajectory": "I_sol",
           "upper": 37456.1615234375
          },
          {
           "lower": 12365.380322265624,
           "timepoint": 53,
           "trajectory": "I_sol",
           "upper": 36657.5064453125
          },
          {
           "lower": 11770.592822265626,
           "timepoint": 54,
           "trajectory": "I_sol",
           "upper": 35761.912109375
          },
          {
           "lower": 11181.47548828125,
           "timepoint": 55,
           "trajectory": "I_sol",
           "upper": 34886.654492187496
          },
          {
           "lower": 10621.418701171875,
           "timepoint": 56,
           "trajectory": "I_sol",
           "upper": 34076.773632812496
          },
          {
           "lower": 10089.113134765625,
           "timepoint": 57,
           "trajectory": "I_sol",
           "upper": 33426.73671875
          },
          {
           "lower": 9583.2390625,
           "timepoint": 58,
           "trajectory": "I_sol",
           "upper": 32788.17080078125
          },
          {
           "lower": 9102.562841796875,
           "timepoint": 59,
           "trajectory": "I_sol",
           "upper": 32160.997265624996
          }
         ]
        },
        {
         "name": "traces",
         "transform": [
          {
           "expr": "isValid(datum.value)",
           "type": "filter"
          }
         ],
         "values": []
        },
        {
         "name": "points",
         "values": [
          {
           "sample_id": 0,
           "timepoint": 0,
           "trajectory": "I_data",
           "value": 1
          },
          {
           "sample_id": 0,
           "timepoint": 1,
           "trajectory": "I_data",
           "value": 10
          },
          {
           "sample_id": 0,
           "timepoint": 2,
           "trajectory": "I_data",
           "value": 21
          },
          {
           "sample_id": 0,
           "timepoint": 3,
           "trajectory": "I_data",
           "value": 24
          },
          {
           "sample_id": 0,
           "timepoint": 4,
           "trajectory": "I_data",
           "value": 76
          },
          {
           "sample_id": 0,
           "timepoint": 5,
           "trajectory": "I_data",
           "value": 104
          },
          {
           "sample_id": 0,
           "timepoint": 6,
           "trajectory": "I_data",
           "value": 128
          },
          {
           "sample_id": 0,
           "timepoint": 7,
           "trajectory": "I_data",
           "value": 131
          },
          {
           "sample_id": 0,
           "timepoint": 8,
           "trajectory": "I_data",
           "value": 192
          },
          {
           "sample_id": 0,
           "timepoint": 9,
           "trajectory": "I_data",
           "value": 220
          },
          {
           "sample_id": 0,
           "timepoint": 10,
           "trajectory": "I_data",
           "value": 274
          },
          {
           "sample_id": 0,
           "timepoint": 11,
           "trajectory": "I_data",
           "value": 394
          },
          {
           "sample_id": 0,
           "timepoint": 12,
           "trajectory": "I_data",
           "value": 481
          },
          {
           "sample_id": 0,
           "timepoint": 13,
           "trajectory": "I_data",
           "value": 745
          },
          {
           "sample_id": 0,
           "timepoint": 14,
           "trajectory": "I_data",
           "value": 1111
          },
          {
           "sample_id": 0,
           "timepoint": 15,
           "trajectory": "I_data",
           "value": 2128
          },
          {
           "sample_id": 0,
           "timepoint": 16,
           "trajectory": "I_data",
           "value": 3671
          },
          {
           "sample_id": 0,
           "timepoint": 17,
           "trajectory": "I_data",
           "value": 6578
          },
          {
           "sample_id": 0,
           "timepoint": 18,
           "trajectory": "I_data",
           "value": 9449
          },
          {
           "sample_id": 0,
           "timepoint": 19,
           "trajectory": "I_data",
           "value": 13761
          },
          {
           "sample_id": 0,
           "timepoint": 20,
           "trajectory": "I_data",
           "value": 18270
          },
          {
           "sample_id": 0,
           "timepoint": 21,
           "trajectory": "I_data",
           "value": 21478
          },
          {
           "sample_id": 0,
           "timepoint": 22,
           "trajectory": "I_data",
           "value": 23630
          },
          {
           "sample_id": 0,
           "timepoint": 23,
           "trajectory": "I_data",
           "value": 26987
          },
          {
           "sample_id": 0,
           "timepoint": 24,
           "trajectory": "I_data",
           "value": 29533
          },
          {
           "sample_id": 0,
           "timepoint": 25,
           "trajectory": "I_data",
           "value": 31623
          },
          {
           "sample_id": 0,
           "timepoint": 26,
           "trajectory": "I_data",
           "value": 33967
          },
          {
           "sample_id": 0,
           "timepoint": 27,
           "trajectory": "I_data",
           "value": 35822
          },
          {
           "sample_id": 0,
           "timepoint": 28,
           "trajectory": "I_data",
           "value": 38456
          },
          {
           "sample_id": 0,
           "timepoint": 29,
           "trajectory": "I_data",
           "value": 45676
          },
          {
           "sample_id": 0,
           "timepoint": 30,
           "trajectory": "I_data",
           "value": 48380
          },
          {
           "sample_id": 0,
           "timepoint": 31,
           "trajectory": "I_data",
           "value": 51807
          },
          {
           "sample_id": 0,
           "timepoint": 32,
           "trajectory": "I_data",
           "value": 55042
          },
          {
           "sample_id": 0,
           "timepoint": 33,
           "trajectory": "I_data",
           "value": 56847
          },
          {
           "sample_id": 0,
           "timepoint": 34,
           "trajectory": "I_data",
           "value": 52184
          },
          {
           "sample_id": 0,
           "timepoint": 35,
           "trajectory": "I_data",
           "value": 49194
          },
          {
           "sample_id": 0,
           "timepoint": 36,
           "trajectory": "I_data",
           "value": 48730
          },
          {
           "sample_id": 0,
           "timepoint": 37,
           "trajectory": "I_data",
           "value": 50551
          },
          {
           "sample_id": 0,
           "timepoint": 38,
           "trajectory": "I_data",
           "value": 51029
          },
          {
           "sample_id": 0,
           "timepoint": 39,
           "trajectory": "I_data",
           "value": 49701
          },
          {
           "sample_id": 0,
           "timepoint": 40,
           "trajectory": "I_data",
           "value": 50661
          },
          {
           "sample_id": 0,
           "timepoint": 41,
           "trajectory": "I_data",
           "value": 48303
          },
          {
           "sample_id": 0,
           "timepoint": 42,
           "trajectory": "I_data",
           "value": 43703
          },
          {
           "sample_id": 0,
           "timepoint": 43,
           "trajectory": "I_data",
           "value": 38888
          },
          {
           "sample_id": 0,
           "timepoint": 44,
           "trajectory": "I_data",
           "value": 38244
          },
          {
           "sample_id": 0,
           "timepoint": 45,
           "trajectory": "I_data",
           "value": 36857
          },
          {
           "sample_id": 0,
           "timepoint": 46,
           "trajectory": "I_data",
           "value": 35881
          },
          {
           "sample_id": 0,
           "timepoint": 47,
           "trajectory": "I_data",
           "value": 35054
          },
          {
           "sample_id": 0,
           "timepoint": 48,
           "trajectory": "I_data",
           "value": 34782
          },
          {
           "sample_id": 0,
           "timepoint": 49,
           "trajectory": "I_data",
           "value": 31526
          },
          {
           "sample_id": 0,
           "timepoint": 50,
           "trajectory": "I_data",
           "value": 28799
          },
          {
           "sample_id": 0,
           "timepoint": 51,
           "trajectory": "I_data",
           "value": 27419
          },
          {
           "sample_id": 0,
           "timepoint": 52,
           "trajectory": "I_data",
           "value": 27443
          },
          {
           "sample_id": 0,
           "timepoint": 53,
           "trajectory": "I_data",
           "value": 30499
          },
          {
           "sample_id": 0,
           "timepoint": 54,
           "trajectory": "I_data",
           "value": 31543
          },
          {
           "sample_id": 0,
           "timepoint": 55,
           "trajectory": "I_data",
           "value": 31597
          },
          {
           "sample_id": 0,
           "timepoint": 56,
           "trajectory": "I_data",
           "value": 29008
          },
          {
           "sample_id": 0,
           "timepoint": 57,
           "trajectory": "I_data",
           "value": 25476
          },
          {
           "sample_id": 0,
           "timepoint": 58,
           "trajectory": "I_data",
           "value": 20411
          },
          {
           "sample_id": 0,
           "timepoint": 59,
           "trajectory": "I_data",
           "value": 19224
          },
          {
           "sample_id": 0,
           "timepoint": 38,
           "trajectory": "H_data",
           "value": 0
          },
          {
           "sample_id": 0,
           "timepoint": 39,
           "trajectory": "H_data",
           "value": 0
          },
          {
           "sample_id": 0,
           "timepoint": 45,
           "trajectory": "H_data",
           "value": 0
          },
          {
           "sample_id": 0,
           "timepoint": 46,
           "trajectory": "H_data",
           "value": 1
          },
          {
           "sample_id": 0,
           "timepoint": 52,
           "trajectory": "H_data",
           "value": 0
          },
          {
           "sample_id": 0,
           "timepoint": 53,
           "trajectory": "H_data",
           "value": 0
          },
          {
           "sample_id": 0,
           "timepoint": 54,
           "trajectory": "H_data",
           "value": 1
          },
          {
           "sample_id": 0,
           "timepoint": 55,
           "trajectory": "H_data",
           "value": 0
          },
          {
           "sample_id": 0,
           "timepoint": 56,
           "trajectory": "H_data",
           "value": 0
          },
          {
           "sample_id": 0,
           "timepoint": 57,
           "trajectory": "H_data",
           "value": 0
          },
          {
           "sample_id": 0,
           "timepoint": 58,
           "trajectory": "H_data",
           "value": 0
          },
          {
           "sample_id": 0,
           "timepoint": 59,
           "trajectory": "H_data",
           "value": 0
          },
          {
           "sample_id": 0,
           "timepoint": 0,
           "trajectory": "D_data",
           "value": 0
          },
          {
           "sample_id": 0,
           "timepoint": 1,
           "trajectory": "D_data",
           "value": 0
          },
          {
           "sample_id": 0,
           "timepoint": 2,
           "trajectory": "D_data",
           "value": 0
          },
          {
           "sample_id": 0,
           "timepoint": 3,
           "trajectory": "D_data",
           "value": 0
          },
          {
           "sample_id": 0,
           "timepoint": 4,
           "trajectory": "D_data",
           "value": 0
          },
          {
           "sample_id": 0,
           "timepoint": 5,
           "trajectory": "D_data",
           "value": 0
          },
          {
           "sample_id": 0,
           "timepoint": 6,
           "trajectory": "D_data",
           "value": 0
          },
          {
           "sample_id": 0,
           "timepoint": 7,
           "trajectory": "D_data",
           "value": 0
          },
          {
           "sample_id": 0,
           "timepoint": 8,
           "trajectory": "D_data",
           "value": 1
          },
          {
           "sample_id": 0,
           "timepoint": 9,
           "trajectory": "D_data",
           "value": 1
          },
          {
           "sample_id": 0,
           "timepoint": 10,
           "trajectory": "D_data",
           "value": 1
          },
          {
           "sample_id": 0,
           "timepoint": 11,
           "trajectory": "D_data",
           "value": 4
          },
          {
           "sample_id": 0,
           "timepoint": 12,
           "trajectory": "D_data",
           "value": 9
          },
          {
           "sample_id": 0,
           "timepoint": 13,
           "trajectory": "D_data",
           "value": 19
          },
          {
           "sample_id": 0,
           "timepoint": 14,
           "trajectory": "D_data",
           "value": 30
          },
          {
           "sample_id": 0,
           "timepoint": 15,
           "trajectory": "D_data",
           "value": 51
          },
          {
           "sample_id": 0,
           "timepoint": 16,
           "trajectory": "D_data",
           "value": 77
          },
          {
           "sample_id": 0,
           "timepoint": 17,
           "trajectory": "D_data",
           "value": 129
          },
          {
           "sample_id": 0,
           "timepoint": 18,
           "trajectory": "D_data",
           "value": 175
          },
          {
           "sample_id": 0,
           "timepoint": 19,
           "trajectory": "D_data",
           "value": 226
          },
          {
           "sample_id": 0,
           "timepoint": 20,
           "trajectory": "D_data",
           "value": 315
          },
          {
           "sample_id": 0,
           "timepoint": 21,
           "trajectory": "D_data",
           "value": 427
          },
          {
           "sample_id": 0,
           "timepoint": 22,
           "trajectory": "D_data",
           "value": 565
          },
          {
           "sample_id": 0,
           "timepoint": 23,
           "trajectory": "D_data",
           "value": 759
          },
          {
           "sample_id": 0,
           "timepoint": 24,
           "trajectory": "D_data",
           "value": 984
          },
          {
           "sample_id": 0,
           "timepoint": 25,
           "trajectory": "D_data",
           "value": 1285
          },
          {
           "sample_id": 0,
           "timepoint": 26,
           "trajectory": "D_data",
           "value": 1603
          },
          {
           "sample_id": 0,
           "timepoint": 27,
           "trajectory": "D_data",
           "value": 1930
          },
          {
           "sample_id": 0,
           "timepoint": 28,
           "trajectory": "D_data",
           "value": 2334
          },
          {
           "sample_id": 0,
           "timepoint": 29,
           "trajectory": "D_data",
           "value": 2859
          },
          {
           "sample_id": 0,
           "timepoint": 30,
           "trajectory": "D_data",
           "value": 3420
          },
          {
           "sample_id": 0,
           "timepoint": 31,
           "trajectory": "D_data",
           "value": 3989
          },
          {
           "sample_id": 0,
           "timepoint": 32,
           "trajectory": "D_data",
           "value": 4634
          },
          {
           "sample_id": 0,
           "timepoint": 33,
           "trajectory": "D_data",
           "value": 5384
          },
          {
           "sample_id": 0,
           "timepoint": 34,
           "trajectory": "D_data",
           "value": 6185
          },
          {
           "sample_id": 0,
           "timepoint": 35,
           "trajectory": "D_data",
           "value": 7241
          },
          {
           "sample_id": 0,
           "timepoint": 36,
           "trajectory": "D_data",
           "value": 7985
          },
          {
           "sample_id": 0,
           "timepoint": 37,
           "trajectory": "D_data",
           "value": 8846
          },
          {
           "sample_id": 0,
           "timepoint": 38,
           "trajectory": "D_data",
           "value": 9579
          },
          {
           "sample_id": 0,
           "timepoint": 39,
           "trajectory": "D_data",
           "value": 10345
          },
          {
           "sample_id": 0,
           "timepoint": 40,
           "trajectory": "D_data",
           "value": 11126
          },
          {
           "sample_id": 0,
           "timepoint": 41,
           "trajectory": "D_data",
           "value": 11930
          },
          {
           "sample_id": 0,
           "timepoint": 42,
           "trajectory": "D_data",
           "value": 12669
          },
          {
           "sample_id": 0,
           "timepoint": 43,
           "trajectory": "D_data",
           "value": 13332
          },
          {
           "sample_id": 0,
           "timepoint": 44,
           "trajectory": "D_data",
           "value": 13987
          },
          {
           "sample_id": 0,
           "timepoint": 45,
           "trajectory": "D_data",
           "value": 14371
          },
          {
           "sample_id": 0,
           "timepoint": 46,
           "trajectory": "D_data",
           "value": 14780
          },
          {
           "sample_id": 0,
           "timepoint": 47,
           "trajectory": "D_data",
           "value": 15225
          },
          {
           "sample_id": 0,
           "timepoint": 48,
           "trajectory": "D_data",
           "value": 16116
          },
          {
           "sample_id": 0,
           "timepoint": 49,
           "trajectory": "D_data",
           "value": 16639
          },
          {
           "sample_id": 0,
           "timepoint": 50,
           "trajectory": "D_data",
           "value": 17091
          },
          {
           "sample_id": 0,
           "timepoint": 51,
           "trajectory": "D_data",
           "value": 17647
          },
          {
           "sample_id": 0,
           "timepoint": 52,
           "trajectory": "D_data",
           "value": 18132
          },
          {
           "sample_id": 0,
           "timepoint": 53,
           "trajectory": "D_data",
           "value": 18523
          },
          {
           "sample_id": 0,
           "timepoint": 54,
           "trajectory": "D_data",
           "value": 18882
          },
          {
           "sample_id": 0,
           "timepoint": 55,
           "trajectory": "D_data",
           "value": 19292
          },
          {
           "sample_id": 0,
           "timepoint": 56,
           "trajectory": "D_data",
           "value": 19602
          },
          {
           "sample_id": 0,
           "timepoint": 57,
           "trajectory": "D_data",
           "value": 20000
          },
          {
           "sample_id": 0,
           "timepoint": 58,
           "trajectory": "D_data",
           "value": 20334
          },
          {
           "sample_id": 0,
           "timepoint": 59,
           "trajectory": "D_data",
           "value": 20662
          }
         ]
        },
        {
         "name": "markers",
         "values": []
        },
        {
         "name": "selected",
         "on": [
          {
           "remove": true,
           "trigger": "clear"
          },
          {
           "remove": true,
           "trigger": "!shift"
          },
          {
           "insert": "clicked",
           "trigger": "!shift && clicked"
          },
          {
           "toggle": "clicked",
           "trigger": "shift && clicked"
          }
         ]
        }
       ],
       "height": 300,
       "legends": [
        {
         "encode": {
          "labels": {
           "interactive": true,
           "name": "legendLabel",
           "update": {
            "opacity": [
             {
              "test": "!length(data('selected')) || indata('selected', 'value', datum.value)",
              "value": 1
             },
             {
              "value": 0.25
             }
            ]
           }
          },
          "symbols": {
           "interactive": true,
           "name": "legendSymbol",
           "update": {
            "fill": {
             "value": "transparent"
            },
            "opacity": [
             {
              "test": "!length(data('selected')) || indata('selected', 'value', datum.value)",
              "value": 0.7
             },
             {
              "value": 0.15
             }
            ],
            "size": {
             "value": 64
            },
            "strokeWidth": {
             "value": 2
            }
           }
          }
         },
         "name": "color_legend",
         "stroke": "color"
        }
       ],
       "marks": [
        {
         "from": {
          "facet": {
           "data": "points",
           "groupby": "trajectory",
           "name": "points_split"
          }
         },
         "marks": [
          {
           "encode": {
            "hover": {
             "fillOpacity": {
              "value": 0.9
             }
            },
            "update": {
             "fill": {
              "field": "trajectory",
              "scale": "color"
             },
             "fillOpacity": [
              {
               "test": "!length(data('selected')) || indata('selected', 'value', datum.trajectory)",
               "value": 0.5
              },
              {
               "value": 0.15
              }
             ],
             "size": {
              "value": 10
             },
             "stroke": {
              "field": "trajectory",
              "scale": "color"
             },
             "strokeOpacity": [
              {
               "test": "!length(data('selected')) || indata('selected', 'value', datum.trajectory)",
               "value": 0.75
              },
              {
               "value": 0.15
              }
             ],
             "strokeWidth": {
              "value": 2
             },
             "tooltip": {
              "field": "value"
             },
             "x": {
              "field": "timepoint",
              "scale": "xscale"
             },
             "y": {
              "field": "value",
              "scale": "yscale"
             }
            }
           },
           "from": {
            "data": "points"
           },
           "name": "_points_symbol",
           "type": "symbol",
           "zindex": 3
          },
          {
           "encode": {
            "hover": {
             "fillOpacity": {
              "value": 0.9
             }
            },
            "update": {
             "interpolate": {
              "value": "linear"
             },
             "stroke": {
              "field": "trajectory",
              "scale": "color"
             },
             "strokeOpacity": [
              {
               "test": "!length(data('selected')) || indata('selected', 'value', datum.trajectory)",
               "value": 0.3
              },
              {
               "value": 0.1
              }
             ],
             "strokeWidth": {
              "value": 2
             },
             "x": {
              "field": "timepoint",
              "scale": "xscale"
             },
             "y": {
              "field": "value",
              "scale": "yscale"
             }
            }
           },
           "from": {
            "data": "points"
           },
           "name": "_points_line",
           "type": "line",
           "zindex": 3
          }
         ],
         "name": "_points",
         "type": "group",
         "zindex": 3
        },
        {
         "from": {
          "facet": {
           "data": "traces",
           "groupby": "trajectory",
           "name": "traces_split"
          }
         },
         "marks": [
          {
           "encode": {
            "hover": {
             "fillOpacity": {
              "value": 0.9
             }
            },
            "update": {
             "interpolate": {
              "value": "linear"
             },
             "stroke": {
              "field": "trajectory",
              "scale": "color"
             },
             "strokeOpacity": [
              {
               "test": "!length(data('selected')) || indata('selected', 'value', datum.trajectory)",
               "value": 0.75
              },
              {
               "value": 0.15
              }
             ],
             "strokeWidth": {
              "value": 2
             },
             "x": {
              "field": "timepoint",
              "scale": "xscale"
             },
             "y": {
              "field": "value",
              "scale": "yscale"
             }
            }
           },
           "from": {
            "data": "traces_split"
           },
           "name": "_traces_lines",
           "type": "line"
          }
         ],
         "name": "_traces",
         "type": "group",
         "zindex": 2
        },
        {
         "from": {
          "facet": {
           "data": "distributions",
           "groupby": "trajectory",
           "name": "trajectory_split"
          }
         },
         "marks": [
          {
           "encode": {
            "hover": {
             "fillOpacity": {
              "value": 0.9
             }
            },
            "update": {
             "fill": {
              "field": "trajectory",
              "scale": "color"
             },
             "fillOpacity": [
              {
               "test": "!length(data('selected')) || indata('selected', 'value', datum.trajectory)",
               "value": 0.5
              },
              {
               "value": 0.15
              }
             ],
             "interpolate": {
              "value": "linear"
             },
             "stroke": {
              "field": "trajectory",
              "scale": "color"
             },
             "strokeOpacity": [
              {
               "test": "!length(data('selected')) || indata('selected', 'value', datum.trajectory)",
               "value": 0.75
              },
              {
               "value": 0.15
              }
             ],
             "strokeWidth": {
              "value": 2
             },
             "x": {
              "field": "timepoint",
              "scale": "xscale"
             },
             "y": {
              "field": "upper",
              "scale": "yscale"
             },
             "y2": {
              "field": "lower",
              "scale": "yscale"
             }
            }
           },
           "from": {
            "data": "trajectory_split"
           },
           "type": "area"
          }
         ],
         "name": "_distributions",
         "type": "group",
         "zindex": 1
        },
        {
         "marks": [
          {
           "encode": {
            "enter": {
             "stroke": {
              "value": "lightgray"
             }
            },
            "update": {
             "opacity": {
              "value": 1
             },
             "x": {
              "field": "timepoint",
              "scale": "xscale"
             },
             "y": {
              "signal": "height"
             },
             "y2": {
              "value": 0
             }
            }
           },
           "from": {
            "data": "markers"
           },
           "name": "_marker text",
           "type": "rule"
          },
          {
           "encode": {
            "enter": {
             "fontSize": {
              "value": 8
             },
             "text": {
              "field": "datum.label"
             },
             "y": {
              "value": 0
             }
            }
           },
           "from": {
            "data": "_marker text"
           },
           "name": "_marker flags",
           "transform": [
            {
             "as": [
              "x",
              "_y",
              "opacity",
              "align",
              "baseline"
             ],
             "lineAnchor": "start",
             "offset": [
              1
             ],
             "size": {
              "signal": "[width, height]"
             },
             "type": "label"
            }
           ],
           "type": "text"
          }
         ],
         "name": "_markers",
         "type": "group"
        }
       ],
       "padding": 5,
       "scales": [
        {
         "domain": {
          "fields": [
           {
            "data": "distributions",
            "field": "timepoint"
           },
           {
            "data": "traces",
            "field": "timepoint"
           },
           {
            "data": "points",
            "field": "timepoint"
           },
           {
            "data": "markers",
            "field": "timepoint"
           }
          ]
         },
         "name": "xscale",
         "range": "width",
         "type": "linear",
         "zero": false
        },
        {
         "domain": {
          "fields": [
           {
            "data": "distributions",
            "field": "lower"
           },
           {
            "data": "distributions",
            "field": "upper"
           },
           {
            "data": "traces",
            "field": "value"
           },
           {
            "data": "points",
            "field": "value"
           }
          ]
         },
         "name": "yscale",
         "nice": true,
         "range": "height",
         "type": "linear",
         "zero": true
        },
        {
         "domain": {
          "fields": [
           {
            "data": "distributions",
            "field": "trajectory"
           },
           {
            "data": "traces",
            "field": "trajectory"
           },
           {
            "data": "points",
            "field": "trajectory"
           }
          ]
         },
         "name": "color",
         "range": "category",
         "type": "ordinal"
        }
       ],
       "signals": [
        {
         "name": "clear",
         "on": [
          {
           "events": "mouseup[!event.item]",
           "force": true,
           "update": "true"
          }
         ],
         "value": true
        },
        {
         "name": "shift",
         "on": [
          {
           "events": "@legendSymbol:click, @legendLabel:click",
           "force": true,
           "update": "event.shiftKey"
          }
         ],
         "value": false
        },
        {
         "name": "clicked",
         "on": [
          {
           "events": "@legendSymbol:click, @legendLabel:click",
           "force": true,
           "update": "{value: datum.value}"
          }
         ],
         "value": null
        }
       ],
       "width": 500
      }
     },
     "metadata": {},
     "output_type": "display_data"
    }
   ],
   "source": [
    "num_samples = 100\n",
    "model_paths = [model7_location]\n",
    "data_path = \"../../notebook/ensemble_eval_sa/NY_data1.csv\"\n",
    "weights = [1]\n",
    "# solution_mappings = [{\"I\": \"I\", \"H\": \"H\", \"D\": \"D\"}]\n",
    "solution_mappings = [{\"I\": \"infected\", \"H\": \"hospitalized\", \"D\": \"dead\"}]\n",
    "\n",
    "# Run the calibration and sampling\n",
    "result3 = load_and_calibrate_and_sample_ensemble_model(\n",
    "    model_paths,\n",
    "    data_path,\n",
    "    weights,\n",
    "    solution_mappings,\n",
    "    num_samples,\n",
    "    timepoints,\n",
    "    verbose=True,\n",
    "    total_population=19340000,\n",
    "    num_iterations=50,\n",
    "    time_unit=\"days\",\n",
    "    visual_options={\"title\": \"Calibrated Ensemble\", \"subset\":\".*_sol\"}\n",
    ")\n",
    "\n",
    "# # Save results\n",
    "# result3[\"data\"].to_csv(\n",
    "#     \"partI_ensemble_of_one_results.csv\", index=False\n",
    "# )\n",
    "# result3[\"quantiles\"].to_csv(\n",
    "#     \"partI_ensemble_of_one_quantiles.csv\", index=False\n",
    "# )\n",
    "\n",
    "# Plot results\n",
    "schema = plots.trajectories(pd.DataFrame(result3[\"data\"]), subset=\".*_sol\",\n",
    "                            points=test_data.reset_index(drop=True).rename(columns={\"I\":\"I_data\", \"H\":\"H_data\", \"D\":\"D_data\"}),\n",
    "                           )\n",
    "schema = plots.pad(schema, 5)\n",
    "plots.ipy_display(schema)"
   ]
  },
  {
   "cell_type": "markdown",
   "id": "2ded2349-d56b-4fe5-a685-06b37cc78831",
   "metadata": {},
   "source": [
    "# Calibrate and sample an ensemble of multiple models"
   ]
  },
  {
   "cell_type": "code",
   "execution_count": 168,
   "id": "5220df5c-61a0-47ad-ac94-fc543e8cb523",
   "metadata": {},
   "outputs": [
    {
     "name": "stdout",
     "output_type": "stream",
     "text": [
      "iteration 0: loss = 768.8682887256145\n",
      "iteration 25: loss = 731.4769603908062\n",
      "iteration 50: loss = 678.9883939921856\n",
      "iteration 75: loss = 657.4421293437481\n",
      "iteration 100: loss = 654.4777183234692\n",
      "iteration 125: loss = 644.6237823665142\n",
      "iteration 150: loss = 647.8274113833904\n",
      "iteration 175: loss = 640.107507199049\n",
      "iteration 200: loss = 642.5151107013226\n",
      "iteration 225: loss = 644.8859026134014\n",
      "iteration 250: loss = 647.4060680568218\n",
      "iteration 275: loss = 642.2508830726147\n",
      "iteration 300: loss = 635.978728145361\n",
      "iteration 325: loss = 637.8785563409328\n",
      "iteration 350: loss = 639.0462138354778\n",
      "iteration 375: loss = 636.831598252058\n",
      "iteration 400: loss = 637.7531786859035\n",
      "iteration 425: loss = 639.2653596103191\n",
      "iteration 450: loss = 635.7033906877041\n",
      "iteration 475: loss = 635.7857587039471\n",
      "\n"
     ]
    },
    {
     "data": {
      "application/vnd.vega.v5+json": {
       "$schema": "https://vega.github.io/schema/vega/v5.json",
       "axes": [
        {
         "name": "x_axis",
         "orient": "bottom",
         "scale": "xscale",
         "zindex": 100
        },
        {
         "name": "y_axis",
         "orient": "left",
         "scale": "yscale",
         "zindex": 100
        }
       ],
       "data": [
        {
         "name": "distributions",
         "values": [
          {
           "lower": 9.268304498009704e-23,
           "timepoint": 0,
           "trajectory": "D_sol",
           "upper": 5.494576955784169e-22
          },
          {
           "lower": 0.010943189961835742,
           "timepoint": 1,
           "trajectory": "D_sol",
           "upper": 0.058871643431484696
          },
          {
           "lower": 0.0484584191814065,
           "timepoint": 2,
           "trajectory": "D_sol",
           "upper": 0.2470747485756874
          },
          {
           "lower": 0.1169177021831274,
           "timepoint": 3,
           "trajectory": "D_sol",
           "upper": 0.5754401534795761
          },
          {
           "lower": 0.2194935254752636,
           "timepoint": 4,
           "trajectory": "D_sol",
           "upper": 1.037118625640869
          },
          {
           "lower": 0.35920502096414564,
           "timepoint": 5,
           "trajectory": "D_sol",
           "upper": 1.6318107962608335
          },
          {
           "lower": 0.5398414939641952,
           "timepoint": 6,
           "trajectory": "D_sol",
           "upper": 2.35941731929779
          },
          {
           "lower": 0.7667172610759735,
           "timepoint": 7,
           "trajectory": "D_sol",
           "upper": 3.3757178544998165
          },
          {
           "lower": 1.047103750705719,
           "timepoint": 8,
           "trajectory": "D_sol",
           "upper": 4.61536979675293
          },
          {
           "lower": 1.3907234072685242,
           "timepoint": 9,
           "trajectory": "D_sol",
           "upper": 6.238464570045471
          },
          {
           "lower": 1.8103185772895813,
           "timepoint": 10,
           "trajectory": "D_sol",
           "upper": 8.222908782958983
          },
          {
           "lower": 2.322345960140228,
           "timepoint": 11,
           "trajectory": "D_sol",
           "upper": 10.722238636016845
          },
          {
           "lower": 2.9478286504745483,
           "timepoint": 12,
           "trajectory": "D_sol",
           "upper": 13.822227668762206
          },
          {
           "lower": 3.713421070575714,
           "timepoint": 13,
           "trajectory": "D_sol",
           "upper": 17.567011833190918
          },
          {
           "lower": 4.652700781822205,
           "timepoint": 14,
           "trajectory": "D_sol",
           "upper": 21.9987735748291
          },
          {
           "lower": 5.8077219247817995,
           "timepoint": 15,
           "trajectory": "D_sol",
           "upper": 26.14193801879882
          },
          {
           "lower": 7.230733418464661,
           "timepoint": 16,
           "trajectory": "D_sol",
           "upper": 31.86139907836913
          },
          {
           "lower": 8.900541019439697,
           "timepoint": 17,
           "trajectory": "D_sol",
           "upper": 38.8499801635742
          },
          {
           "lower": 10.851915740966797,
           "timepoint": 18,
           "trajectory": "D_sol",
           "upper": 47.41787548065183
          },
          {
           "lower": 13.227257919311523,
           "timepoint": 19,
           "trajectory": "D_sol",
           "upper": 57.94597167968746
          },
          {
           "lower": 16.12510085105896,
           "timepoint": 20,
           "trajectory": "D_sol",
           "upper": 70.87198181152338
          },
          {
           "lower": 19.648741149902342,
           "timepoint": 21,
           "trajectory": "D_sol",
           "upper": 89.16089134216303
          },
          {
           "lower": 23.945113468170167,
           "timepoint": 22,
           "trajectory": "D_sol",
           "upper": 111.9610401153564
          },
          {
           "lower": 29.114929676055908,
           "timepoint": 23,
           "trajectory": "D_sol",
           "upper": 139.74047164916988
          },
          {
           "lower": 35.38405265808105,
           "timepoint": 24,
           "trajectory": "D_sol",
           "upper": 173.07409744262694
          },
          {
           "lower": 43.28621768951416,
           "timepoint": 25,
           "trajectory": "D_sol",
           "upper": 212.40430603027343
          },
          {
           "lower": 51.472488212585446,
           "timepoint": 26,
           "trajectory": "D_sol",
           "upper": 254.5295700073242
          },
          {
           "lower": 61.20146770477295,
           "timepoint": 27,
           "trajectory": "D_sol",
           "upper": 306.1467071533203
          },
          {
           "lower": 72.25237846374512,
           "timepoint": 28,
           "trajectory": "D_sol",
           "upper": 364.2973648071289
          },
          {
           "lower": 84.40257263183594,
           "timepoint": 29,
           "trajectory": "D_sol",
           "upper": 428.91945190429686
          },
          {
           "lower": 97.58929901123047,
           "timepoint": 30,
           "trajectory": "D_sol",
           "upper": 499.8679428100586
          },
          {
           "lower": 111.72362327575684,
           "timepoint": 31,
           "trajectory": "D_sol",
           "upper": 576.9433135986328
          },
          {
           "lower": 126.72476997375489,
           "timepoint": 32,
           "trajectory": "D_sol",
           "upper": 659.9165222167968
          },
          {
           "lower": 142.51179885864258,
           "timepoint": 33,
           "trajectory": "D_sol",
           "upper": 748.5501190185547
          },
          {
           "lower": 159.00675735473632,
           "timepoint": 34,
           "trajectory": "D_sol",
           "upper": 842.6089813232421
          },
          {
           "lower": 176.13604049682618,
           "timepoint": 35,
           "trajectory": "D_sol",
           "upper": 941.8750061035156
          },
          {
           "lower": 193.83248901367188,
           "timepoint": 36,
           "trajectory": "D_sol",
           "upper": 1046.1512817382813
          },
          {
           "lower": 212.0348678588867,
           "timepoint": 37,
           "trajectory": "D_sol",
           "upper": 1140.9657470703125
          },
          {
           "lower": 230.95214462280273,
           "timepoint": 38,
           "trajectory": "D_sol",
           "upper": 1226.8867614746093
          },
          {
           "lower": 249.48006286621094,
           "timepoint": 39,
           "trajectory": "D_sol",
           "upper": 1312.5413330078122
          },
          {
           "lower": 268.4504730224609,
           "timepoint": 40,
           "trajectory": "D_sol",
           "upper": 1410.969787597656
          },
          {
           "lower": 288.1371765136719,
           "timepoint": 41,
           "trajectory": "D_sol",
           "upper": 1531.038897705078
          },
          {
           "lower": 308.2180603027344,
           "timepoint": 42,
           "trajectory": "D_sol",
           "upper": 1654.3246276855466
          },
          {
           "lower": 331.1433303833008,
           "timepoint": 43,
           "trajectory": "D_sol",
           "upper": 1781.4953369140624
          },
          {
           "lower": 357.62281799316406,
           "timepoint": 44,
           "trajectory": "D_sol",
           "upper": 1912.785284423828
          },
          {
           "lower": 385.1802474975586,
           "timepoint": 45,
           "trajectory": "D_sol",
           "upper": 2019.9082275390624
          },
          {
           "lower": 408.9391586303711,
           "timepoint": 46,
           "trajectory": "D_sol",
           "upper": 2149.534680175781
          },
          {
           "lower": 433.32284393310545,
           "timepoint": 47,
           "trajectory": "D_sol",
           "upper": 2301.703820800781
          },
          {
           "lower": 458.3473587036133,
           "timepoint": 48,
           "trajectory": "D_sol",
           "upper": 2460.548352050781
          },
          {
           "lower": 484.09607391357423,
           "timepoint": 49,
           "trajectory": "D_sol",
           "upper": 2625.5047607421875
          },
          {
           "lower": 510.64642028808595,
           "timepoint": 50,
           "trajectory": "D_sol",
           "upper": 2796.7486938476563
          },
          {
           "lower": 537.9155944824219,
           "timepoint": 51,
           "trajectory": "D_sol",
           "upper": 2969.623681640625
          },
          {
           "lower": 565.9247589111328,
           "timepoint": 52,
           "trajectory": "D_sol",
           "upper": 3140.1201416015624
          },
          {
           "lower": 591.1730804443359,
           "timepoint": 53,
           "trajectory": "D_sol",
           "upper": 3326.528845214844
          },
          {
           "lower": 610.9004516601562,
           "timepoint": 54,
           "trajectory": "D_sol",
           "upper": 3499.0763549804688
          },
          {
           "lower": 630.4370574951172,
           "timepoint": 55,
           "trajectory": "D_sol",
           "upper": 3665.5668090820313
          },
          {
           "lower": 649.7814056396485,
           "timepoint": 56,
           "trajectory": "D_sol",
           "upper": 3836.018762207031
          },
          {
           "lower": 669.2683746337891,
           "timepoint": 57,
           "trajectory": "D_sol",
           "upper": 4009.801171875
          },
          {
           "lower": 687.1305358886718,
           "timepoint": 58,
           "trajectory": "D_sol",
           "upper": 4186.945654296875
          },
          {
           "lower": 704.7451354980469,
           "timepoint": 59,
           "trajectory": "D_sol",
           "upper": 4367.49423828125
          },
          {
           "lower": 1.1608741745661177e-10,
           "timepoint": 0,
           "trajectory": "H_sol",
           "upper": 3.508576013055985e-10
          },
          {
           "lower": 1.3921280562877656,
           "timepoint": 1,
           "trajectory": "H_sol",
           "upper": 4.37433922290802
          },
          {
           "lower": 3.144524264335632,
           "timepoint": 2,
           "trajectory": "H_sol",
           "upper": 9.891697454452514
          },
          {
           "lower": 5.2391990423202515,
           "timepoint": 3,
           "trajectory": "H_sol",
           "upper": 16.350073623657227
          },
          {
           "lower": 7.509686613082886,
           "timepoint": 4,
           "trajectory": "H_sol",
           "upper": 22.976585006713865
          },
          {
           "lower": 10.130895376205444,
           "timepoint": 5,
           "trajectory": "H_sol",
           "upper": 29.736684989929195
          },
          {
           "lower": 13.193527889251708,
           "timepoint": 6,
           "trajectory": "H_sol",
           "upper": 38.05399837493896
          },
          {
           "lower": 16.813869571685792,
           "timepoint": 7,
           "trajectory": "H_sol",
           "upper": 48.85711040496826
          },
          {
           "lower": 21.16853075027466,
           "timepoint": 8,
           "trajectory": "H_sol",
           "upper": 61.93780651092529
          },
          {
           "lower": 25.873645210266112,
           "timepoint": 9,
           "trajectory": "H_sol",
           "upper": 77.42004165649413
          },
          {
           "lower": 32.20486679077148,
           "timepoint": 10,
           "trajectory": "H_sol",
           "upper": 95.51057090759276
          },
          {
           "lower": 40.11449298858643,
           "timepoint": 11,
           "trajectory": "H_sol",
           "upper": 118.18886680603026
          },
          {
           "lower": 49.08935260772705,
           "timepoint": 12,
           "trajectory": "H_sol",
           "upper": 149.06572570800782
          },
          {
           "lower": 60.409092330932616,
           "timepoint": 13,
           "trajectory": "H_sol",
           "upper": 189.26664123535156
          },
          {
           "lower": 74.71272659301758,
           "timepoint": 14,
           "trajectory": "H_sol",
           "upper": 240.76617126464845
          },
          {
           "lower": 92.81336784362793,
           "timepoint": 15,
           "trajectory": "H_sol",
           "upper": 306.17469635009763
          },
          {
           "lower": 115.62803230285644,
           "timepoint": 16,
           "trajectory": "H_sol",
           "upper": 389.0183654785156
          },
          {
           "lower": 144.2592918395996,
           "timepoint": 17,
           "trajectory": "H_sol",
           "upper": 493.7800018310547
          },
          {
           "lower": 179.95005722045897,
           "timepoint": 18,
           "trajectory": "H_sol",
           "upper": 624.8846740722656
          },
          {
           "lower": 223.99102096557618,
           "timepoint": 19,
           "trajectory": "H_sol",
           "upper": 783.0935211181641
          },
          {
           "lower": 277.5441497802734,
           "timepoint": 20,
           "trajectory": "H_sol",
           "upper": 974.9160644531249
          },
          {
           "lower": 341.37767181396487,
           "timepoint": 21,
           "trajectory": "H_sol",
           "upper": 1205.3119384765625
          },
          {
           "lower": 411.16668395996095,
           "timepoint": 22,
           "trajectory": "H_sol",
           "upper": 1475.0049255371093
          },
          {
           "lower": 488.9548278808594,
           "timepoint": 23,
           "trajectory": "H_sol",
           "upper": 1781.3739318847656
          },
          {
           "lower": 574.1788726806641,
           "timepoint": 24,
           "trajectory": "H_sol",
           "upper": 2118.480517578125
          },
          {
           "lower": 666.2568054199219,
           "timepoint": 25,
           "trajectory": "H_sol",
           "upper": 2471.0939331054688
          },
          {
           "lower": 763.9175415039062,
           "timepoint": 26,
           "trajectory": "H_sol",
           "upper": 2812.2852905273435
          },
          {
           "lower": 863.0196044921875,
           "timepoint": 27,
           "trajectory": "H_sol",
           "upper": 3142.2885986328124
          },
          {
           "lower": 961.8386596679687,
           "timepoint": 28,
           "trajectory": "H_sol",
           "upper": 3460.511010742187
          },
          {
           "lower": 1059.1004577636718,
           "timepoint": 29,
           "trajectory": "H_sol",
           "upper": 3824.4529663085937
          },
          {
           "lower": 1153.9801940917969,
           "timepoint": 30,
           "trajectory": "H_sol",
           "upper": 4049.410803222656
          },
          {
           "lower": 1232.5702270507813,
           "timepoint": 31,
           "trajectory": "H_sol",
           "upper": 4217.951855468749
          },
          {
           "lower": 1291.0874938964844,
           "timepoint": 32,
           "trajectory": "H_sol",
           "upper": 4391.033398437498
          },
          {
           "lower": 1342.5120239257812,
           "timepoint": 33,
           "trajectory": "H_sol",
           "upper": 4550.136499023435
          },
          {
           "lower": 1387.4004150390624,
           "timepoint": 34,
           "trajectory": "H_sol",
           "upper": 4769.459423828122
          },
          {
           "lower": 1392.2368103027343,
           "timepoint": 35,
           "trajectory": "H_sol",
           "upper": 5062.400097656247
          },
          {
           "lower": 1398.3696899414062,
           "timepoint": 36,
           "trajectory": "H_sol",
           "upper": 5348.971533203123
          },
          {
           "lower": 1470.2717224121095,
           "timepoint": 37,
           "trajectory": "H_sol",
           "upper": 5632.107250976561
          },
          {
           "lower": 1517.4852355957032,
           "timepoint": 38,
           "trajectory": "H_sol",
           "upper": 5916.008837890624
          },
          {
           "lower": 1485.3119323730468,
           "timepoint": 39,
           "trajectory": "H_sol",
           "upper": 6202.056347656249
          },
          {
           "lower": 1435.0899475097656,
           "timepoint": 40,
           "trajectory": "H_sol",
           "upper": 6491.542919921874
          },
          {
           "lower": 1382.171533203125,
           "timepoint": 41,
           "trajectory": "H_sol",
           "upper": 6680.062426757812
          },
          {
           "lower": 1363.171893310547,
           "timepoint": 42,
           "trajectory": "H_sol",
           "upper": 6767.1385742187485
          },
          {
           "lower": 1391.434881591797,
           "timepoint": 43,
           "trajectory": "H_sol",
           "upper": 6907.9120117187485
          },
          {
           "lower": 1423.6375061035155,
           "timepoint": 44,
           "trajectory": "H_sol",
           "upper": 7184.731884765624
          },
          {
           "lower": 1455.4835571289063,
           "timepoint": 45,
           "trajectory": "H_sol",
           "upper": 7467.534912109375
          },
          {
           "lower": 1460.5399475097656,
           "timepoint": 46,
           "trajectory": "H_sol",
           "upper": 7725.197290039062
          },
          {
           "lower": 1443.446435546875,
           "timepoint": 47,
           "trajectory": "H_sol",
           "upper": 7847.763647460937
          },
          {
           "lower": 1481.0022399902343,
           "timepoint": 48,
           "trajectory": "H_sol",
           "upper": 7979.433203125
          },
          {
           "lower": 1519.269287109375,
           "timepoint": 49,
           "trajectory": "H_sol",
           "upper": 8260.534326171875
          },
          {
           "lower": 1558.3290649414064,
           "timepoint": 50,
           "trajectory": "H_sol",
           "upper": 8471.875537109374
          },
          {
           "lower": 1598.2442443847658,
           "timepoint": 51,
           "trajectory": "H_sol",
           "upper": 8614.409814453124
          },
          {
           "lower": 1555.8416015625,
           "timepoint": 52,
           "trajectory": "H_sol",
           "upper": 8759.16962890625
          },
          {
           "lower": 1502.6201232910157,
           "timepoint": 53,
           "trajectory": "H_sol",
           "upper": 8985.51435546875
          },
          {
           "lower": 1422.3580627441406,
           "timepoint": 54,
           "trajectory": "H_sol",
           "upper": 9280.717089843749
          },
          {
           "lower": 1331.1898864746095,
           "timepoint": 55,
           "trajectory": "H_sol",
           "upper": 9584.012304687498
          },
          {
           "lower": 1245.0591796875,
           "timepoint": 56,
           "trajectory": "H_sol",
           "upper": 9895.659716796874
          },
          {
           "lower": 1163.8410888671874,
           "timepoint": 57,
           "trajectory": "H_sol",
           "upper": 10215.920898437498
          },
          {
           "lower": 1087.3773498535156,
           "timepoint": 58,
           "trajectory": "H_sol",
           "upper": 10551.784814453124
          },
          {
           "lower": 1021.9119079589843,
           "timepoint": 59,
           "trajectory": "H_sol",
           "upper": 10920.842773437498
          },
          {
           "lower": 102.6695442199707,
           "timepoint": 0,
           "trajectory": "I_sol",
           "upper": 141.40475540161134
          },
          {
           "lower": 162.33647079467772,
           "timepoint": 1,
           "trajectory": "I_sol",
           "upper": 246.23626861572262
          },
          {
           "lower": 222.02915954589844,
           "timepoint": 2,
           "trajectory": "I_sol",
           "upper": 345.7553466796875
          },
          {
           "lower": 287.1363800048828,
           "timepoint": 3,
           "trajectory": "I_sol",
           "upper": 439.6121154785156
          },
          {
           "lower": 362.3790679931641,
           "timepoint": 4,
           "trajectory": "I_sol",
           "upper": 526.937643432617
          },
          {
           "lower": 454.401432800293,
           "timepoint": 5,
           "trajectory": "I_sol",
           "upper": 633.7511596679685
          },
          {
           "lower": 565.6892974853515,
           "timepoint": 6,
           "trajectory": "I_sol",
           "upper": 803.8964538574218
          },
          {
           "lower": 707.4934600830078,
           "timepoint": 7,
           "trajectory": "I_sol",
           "upper": 1010.4920745849608
          },
          {
           "lower": 887.7881805419922,
           "timepoint": 8,
           "trajectory": "I_sol",
           "upper": 1263.6078308105468
          },
          {
           "lower": 1090.9958923339843,
           "timepoint": 9,
           "trajectory": "I_sol",
           "upper": 1591.4610534667968
          },
          {
           "lower": 1374.6579345703126,
           "timepoint": 10,
           "trajectory": "I_sol",
           "upper": 2003.5791687011717
          },
          {
           "lower": 1719.146044921875,
           "timepoint": 11,
           "trajectory": "I_sol",
           "upper": 2484.7576538085937
          },
          {
           "lower": 2160.3049194335936,
           "timepoint": 12,
           "trajectory": "I_sol",
           "upper": 3154.470288085937
          },
          {
           "lower": 2719.946179199219,
           "timepoint": 13,
           "trajectory": "I_sol",
           "upper": 4013.348498535156
          },
          {
           "lower": 3420.1748657226562,
           "timepoint": 14,
           "trajectory": "I_sol",
           "upper": 5020.765283203124
          },
          {
           "lower": 4308.241674804687,
           "timepoint": 15,
           "trajectory": "I_sol",
           "upper": 6289.132397460938
          },
          {
           "lower": 5426.798095703125,
           "timepoint": 16,
           "trajectory": "I_sol",
           "upper": 7976.38349609375
          },
          {
           "lower": 6771.778247070312,
           "timepoint": 17,
           "trajectory": "I_sol",
           "upper": 9974.405712890624
          },
          {
           "lower": 8403.682861328125,
           "timepoint": 18,
           "trajectory": "I_sol",
           "upper": 12629.40244140625
          },
          {
           "lower": 10344.7609375,
           "timepoint": 19,
           "trajectory": "I_sol",
           "upper": 15824.707177734374
          },
          {
           "lower": 12588.2212890625,
           "timepoint": 20,
           "trajectory": "I_sol",
           "upper": 19525.28203125
          },
          {
           "lower": 15086.99833984375,
           "timepoint": 21,
           "trajectory": "I_sol",
           "upper": 23603.9044921875
          },
          {
           "lower": 17751.98037109375,
           "timepoint": 22,
           "trajectory": "I_sol",
           "upper": 28013.828222656248
          },
          {
           "lower": 20359.94580078125,
           "timepoint": 23,
           "trajectory": "I_sol",
           "upper": 32400.12333984375
          },
          {
           "lower": 22488.7306640625,
           "timepoint": 24,
           "trajectory": "I_sol",
           "upper": 36278.752148437496
          },
          {
           "lower": 24604.80185546875,
           "timepoint": 25,
           "trajectory": "I_sol",
           "upper": 39640.977734374996
          },
          {
           "lower": 26931.40419921875,
           "timepoint": 26,
           "trajectory": "I_sol",
           "upper": 42375.459179687496
          },
          {
           "lower": 28731.52421875,
           "timepoint": 27,
           "trajectory": "I_sol",
           "upper": 45236.31835937499
          },
          {
           "lower": 29773.45673828125,
           "timepoint": 28,
           "trajectory": "I_sol",
           "upper": 48159.519140624994
          },
          {
           "lower": 30025.3583984375,
           "timepoint": 29,
           "trajectory": "I_sol",
           "upper": 51042.102734374996
          },
          {
           "lower": 29601.76728515625,
           "timepoint": 30,
           "trajectory": "I_sol",
           "upper": 53284.369335937496
          },
          {
           "lower": 30181.39990234375,
           "timepoint": 31,
           "trajectory": "I_sol",
           "upper": 55037.9857421875
          },
          {
           "lower": 30368.8810546875,
           "timepoint": 32,
           "trajectory": "I_sol",
           "upper": 57035.0009765625
          },
          {
           "lower": 29612.458984375,
           "timepoint": 33,
           "trajectory": "I_sol",
           "upper": 58959.3841796875
          },
          {
           "lower": 28726.30859375,
           "timepoint": 34,
           "trajectory": "I_sol",
           "upper": 60826.767187499994
          },
          {
           "lower": 27727.77890625,
           "timepoint": 35,
           "trajectory": "I_sol",
           "upper": 62665.64550781249
          },
          {
           "lower": 26276.09091796875,
           "timepoint": 36,
           "trajectory": "I_sol",
           "upper": 64729.875195312496
          },
          {
           "lower": 24856.827734375,
           "timepoint": 37,
           "trajectory": "I_sol",
           "upper": 67383.484375
          },
          {
           "lower": 23579.02080078125,
           "timepoint": 38,
           "trajectory": "I_sol",
           "upper": 70072.07109375
          },
          {
           "lower": 22704.48037109375,
           "timepoint": 39,
           "trajectory": "I_sol",
           "upper": 72408.982421875
          },
          {
           "lower": 21848.292578125,
           "timepoint": 40,
           "trajectory": "I_sol",
           "upper": 73901.858984375
          },
          {
           "lower": 21023.45029296875,
           "timepoint": 41,
           "trajectory": "I_sol",
           "upper": 76663.32421875
          },
          {
           "lower": 20254.8068359375,
           "timepoint": 42,
           "trajectory": "I_sol",
           "upper": 79515.43515625
          },
          {
           "lower": 19517.528125,
           "timepoint": 43,
           "trajectory": "I_sol",
           "upper": 82462.40078124999
          },
          {
           "lower": 18760.32021484375,
           "timepoint": 44,
           "trajectory": "I_sol",
           "upper": 85602.07148437499
          },
          {
           "lower": 18030.0470703125,
           "timepoint": 45,
           "trajectory": "I_sol",
           "upper": 89383.425390625
          },
          {
           "lower": 17326.500439453124,
           "timepoint": 46,
           "trajectory": "I_sol",
           "upper": 93317.91171875
          },
          {
           "lower": 16649.2626953125,
           "timepoint": 47,
           "trajectory": "I_sol",
           "upper": 97395.58242187499
          },
          {
           "lower": 15997.70498046875,
           "timepoint": 48,
           "trajectory": "I_sol",
           "upper": 101644.43398437499
          },
          {
           "lower": 15371.16396484375,
           "timepoint": 49,
           "trajectory": "I_sol",
           "upper": 106071.8265625
          },
          {
           "lower": 14547.362353515626,
           "timepoint": 50,
           "trajectory": "I_sol",
           "upper": 110132.68125
          },
          {
           "lower": 13765.586669921875,
           "timepoint": 51,
           "trajectory": "I_sol",
           "upper": 114251.20078125
          },
          {
           "lower": 13025.19775390625,
           "timepoint": 52,
           "trajectory": "I_sol",
           "upper": 118579.46640625
          },
          {
           "lower": 12324.188183593751,
           "timepoint": 53,
           "trajectory": "I_sol",
           "upper": 123132.98476562499
          },
          {
           "lower": 11660.581689453125,
           "timepoint": 54,
           "trajectory": "I_sol",
           "upper": 127911.008203125
          },
          {
           "lower": 11032.456982421876,
           "timepoint": 55,
           "trajectory": "I_sol",
           "upper": 132716.2421875
          },
          {
           "lower": 10438.003076171875,
           "timepoint": 56,
           "trajectory": "I_sol",
           "upper": 137265.1765625
          },
          {
           "lower": 9875.435107421876,
           "timepoint": 57,
           "trajectory": "I_sol",
           "upper": 141936.86953125
          },
          {
           "lower": 9343.107104492188,
           "timepoint": 58,
           "trajectory": "I_sol",
           "upper": 146744.1640625
          },
          {
           "lower": 8839.384228515626,
           "timepoint": 59,
           "trajectory": "I_sol",
           "upper": 151692.72734374998
          }
         ]
        },
        {
         "name": "traces",
         "transform": [
          {
           "expr": "isValid(datum.value)",
           "type": "filter"
          }
         ],
         "values": []
        },
        {
         "name": "points",
         "values": [
          {
           "sample_id": 0,
           "timepoint": 0,
           "trajectory": "I_data",
           "value": 1
          },
          {
           "sample_id": 0,
           "timepoint": 1,
           "trajectory": "I_data",
           "value": 10
          },
          {
           "sample_id": 0,
           "timepoint": 2,
           "trajectory": "I_data",
           "value": 21
          },
          {
           "sample_id": 0,
           "timepoint": 3,
           "trajectory": "I_data",
           "value": 24
          },
          {
           "sample_id": 0,
           "timepoint": 4,
           "trajectory": "I_data",
           "value": 76
          },
          {
           "sample_id": 0,
           "timepoint": 5,
           "trajectory": "I_data",
           "value": 104
          },
          {
           "sample_id": 0,
           "timepoint": 6,
           "trajectory": "I_data",
           "value": 128
          },
          {
           "sample_id": 0,
           "timepoint": 7,
           "trajectory": "I_data",
           "value": 131
          },
          {
           "sample_id": 0,
           "timepoint": 8,
           "trajectory": "I_data",
           "value": 192
          },
          {
           "sample_id": 0,
           "timepoint": 9,
           "trajectory": "I_data",
           "value": 220
          },
          {
           "sample_id": 0,
           "timepoint": 10,
           "trajectory": "I_data",
           "value": 274
          },
          {
           "sample_id": 0,
           "timepoint": 11,
           "trajectory": "I_data",
           "value": 394
          },
          {
           "sample_id": 0,
           "timepoint": 12,
           "trajectory": "I_data",
           "value": 481
          },
          {
           "sample_id": 0,
           "timepoint": 13,
           "trajectory": "I_data",
           "value": 745
          },
          {
           "sample_id": 0,
           "timepoint": 14,
           "trajectory": "I_data",
           "value": 1111
          },
          {
           "sample_id": 0,
           "timepoint": 15,
           "trajectory": "I_data",
           "value": 2128
          },
          {
           "sample_id": 0,
           "timepoint": 16,
           "trajectory": "I_data",
           "value": 3671
          },
          {
           "sample_id": 0,
           "timepoint": 17,
           "trajectory": "I_data",
           "value": 6578
          },
          {
           "sample_id": 0,
           "timepoint": 18,
           "trajectory": "I_data",
           "value": 9449
          },
          {
           "sample_id": 0,
           "timepoint": 19,
           "trajectory": "I_data",
           "value": 13761
          },
          {
           "sample_id": 0,
           "timepoint": 20,
           "trajectory": "I_data",
           "value": 18270
          },
          {
           "sample_id": 0,
           "timepoint": 21,
           "trajectory": "I_data",
           "value": 21478
          },
          {
           "sample_id": 0,
           "timepoint": 22,
           "trajectory": "I_data",
           "value": 23630
          },
          {
           "sample_id": 0,
           "timepoint": 23,
           "trajectory": "I_data",
           "value": 26987
          },
          {
           "sample_id": 0,
           "timepoint": 24,
           "trajectory": "I_data",
           "value": 29533
          },
          {
           "sample_id": 0,
           "timepoint": 25,
           "trajectory": "I_data",
           "value": 31623
          },
          {
           "sample_id": 0,
           "timepoint": 26,
           "trajectory": "I_data",
           "value": 33967
          },
          {
           "sample_id": 0,
           "timepoint": 27,
           "trajectory": "I_data",
           "value": 35822
          },
          {
           "sample_id": 0,
           "timepoint": 28,
           "trajectory": "I_data",
           "value": 38456
          },
          {
           "sample_id": 0,
           "timepoint": 29,
           "trajectory": "I_data",
           "value": 45676
          },
          {
           "sample_id": 0,
           "timepoint": 30,
           "trajectory": "I_data",
           "value": 48380
          },
          {
           "sample_id": 0,
           "timepoint": 31,
           "trajectory": "I_data",
           "value": 51807
          },
          {
           "sample_id": 0,
           "timepoint": 32,
           "trajectory": "I_data",
           "value": 55042
          },
          {
           "sample_id": 0,
           "timepoint": 33,
           "trajectory": "I_data",
           "value": 56847
          },
          {
           "sample_id": 0,
           "timepoint": 34,
           "trajectory": "I_data",
           "value": 52184
          },
          {
           "sample_id": 0,
           "timepoint": 35,
           "trajectory": "I_data",
           "value": 49194
          },
          {
           "sample_id": 0,
           "timepoint": 36,
           "trajectory": "I_data",
           "value": 48730
          },
          {
           "sample_id": 0,
           "timepoint": 37,
           "trajectory": "I_data",
           "value": 50551
          },
          {
           "sample_id": 0,
           "timepoint": 38,
           "trajectory": "I_data",
           "value": 51029
          },
          {
           "sample_id": 0,
           "timepoint": 39,
           "trajectory": "I_data",
           "value": 49701
          },
          {
           "sample_id": 0,
           "timepoint": 40,
           "trajectory": "I_data",
           "value": 50661
          },
          {
           "sample_id": 0,
           "timepoint": 41,
           "trajectory": "I_data",
           "value": 48303
          },
          {
           "sample_id": 0,
           "timepoint": 42,
           "trajectory": "I_data",
           "value": 43703
          },
          {
           "sample_id": 0,
           "timepoint": 43,
           "trajectory": "I_data",
           "value": 38888
          },
          {
           "sample_id": 0,
           "timepoint": 44,
           "trajectory": "I_data",
           "value": 38244
          },
          {
           "sample_id": 0,
           "timepoint": 45,
           "trajectory": "I_data",
           "value": 36857
          },
          {
           "sample_id": 0,
           "timepoint": 46,
           "trajectory": "I_data",
           "value": 35881
          },
          {
           "sample_id": 0,
           "timepoint": 47,
           "trajectory": "I_data",
           "value": 35054
          },
          {
           "sample_id": 0,
           "timepoint": 48,
           "trajectory": "I_data",
           "value": 34782
          },
          {
           "sample_id": 0,
           "timepoint": 49,
           "trajectory": "I_data",
           "value": 31526
          },
          {
           "sample_id": 0,
           "timepoint": 50,
           "trajectory": "I_data",
           "value": 28799
          },
          {
           "sample_id": 0,
           "timepoint": 51,
           "trajectory": "I_data",
           "value": 27419
          },
          {
           "sample_id": 0,
           "timepoint": 52,
           "trajectory": "I_data",
           "value": 27443
          },
          {
           "sample_id": 0,
           "timepoint": 53,
           "trajectory": "I_data",
           "value": 30499
          },
          {
           "sample_id": 0,
           "timepoint": 54,
           "trajectory": "I_data",
           "value": 31543
          },
          {
           "sample_id": 0,
           "timepoint": 55,
           "trajectory": "I_data",
           "value": 31597
          },
          {
           "sample_id": 0,
           "timepoint": 56,
           "trajectory": "I_data",
           "value": 29008
          },
          {
           "sample_id": 0,
           "timepoint": 57,
           "trajectory": "I_data",
           "value": 25476
          },
          {
           "sample_id": 0,
           "timepoint": 58,
           "trajectory": "I_data",
           "value": 20411
          },
          {
           "sample_id": 0,
           "timepoint": 59,
           "trajectory": "I_data",
           "value": 19224
          },
          {
           "sample_id": 0,
           "timepoint": 38,
           "trajectory": "H_data",
           "value": 0
          },
          {
           "sample_id": 0,
           "timepoint": 39,
           "trajectory": "H_data",
           "value": 0
          },
          {
           "sample_id": 0,
           "timepoint": 45,
           "trajectory": "H_data",
           "value": 0
          },
          {
           "sample_id": 0,
           "timepoint": 46,
           "trajectory": "H_data",
           "value": 1
          },
          {
           "sample_id": 0,
           "timepoint": 52,
           "trajectory": "H_data",
           "value": 0
          },
          {
           "sample_id": 0,
           "timepoint": 53,
           "trajectory": "H_data",
           "value": 0
          },
          {
           "sample_id": 0,
           "timepoint": 54,
           "trajectory": "H_data",
           "value": 1
          },
          {
           "sample_id": 0,
           "timepoint": 55,
           "trajectory": "H_data",
           "value": 0
          },
          {
           "sample_id": 0,
           "timepoint": 56,
           "trajectory": "H_data",
           "value": 0
          },
          {
           "sample_id": 0,
           "timepoint": 57,
           "trajectory": "H_data",
           "value": 0
          },
          {
           "sample_id": 0,
           "timepoint": 58,
           "trajectory": "H_data",
           "value": 0
          },
          {
           "sample_id": 0,
           "timepoint": 59,
           "trajectory": "H_data",
           "value": 0
          },
          {
           "sample_id": 0,
           "timepoint": 0,
           "trajectory": "D_data",
           "value": 0
          },
          {
           "sample_id": 0,
           "timepoint": 1,
           "trajectory": "D_data",
           "value": 0
          },
          {
           "sample_id": 0,
           "timepoint": 2,
           "trajectory": "D_data",
           "value": 0
          },
          {
           "sample_id": 0,
           "timepoint": 3,
           "trajectory": "D_data",
           "value": 0
          },
          {
           "sample_id": 0,
           "timepoint": 4,
           "trajectory": "D_data",
           "value": 0
          },
          {
           "sample_id": 0,
           "timepoint": 5,
           "trajectory": "D_data",
           "value": 0
          },
          {
           "sample_id": 0,
           "timepoint": 6,
           "trajectory": "D_data",
           "value": 0
          },
          {
           "sample_id": 0,
           "timepoint": 7,
           "trajectory": "D_data",
           "value": 0
          },
          {
           "sample_id": 0,
           "timepoint": 8,
           "trajectory": "D_data",
           "value": 1
          },
          {
           "sample_id": 0,
           "timepoint": 9,
           "trajectory": "D_data",
           "value": 1
          },
          {
           "sample_id": 0,
           "timepoint": 10,
           "trajectory": "D_data",
           "value": 1
          },
          {
           "sample_id": 0,
           "timepoint": 11,
           "trajectory": "D_data",
           "value": 4
          },
          {
           "sample_id": 0,
           "timepoint": 12,
           "trajectory": "D_data",
           "value": 9
          },
          {
           "sample_id": 0,
           "timepoint": 13,
           "trajectory": "D_data",
           "value": 19
          },
          {
           "sample_id": 0,
           "timepoint": 14,
           "trajectory": "D_data",
           "value": 30
          },
          {
           "sample_id": 0,
           "timepoint": 15,
           "trajectory": "D_data",
           "value": 51
          },
          {
           "sample_id": 0,
           "timepoint": 16,
           "trajectory": "D_data",
           "value": 77
          },
          {
           "sample_id": 0,
           "timepoint": 17,
           "trajectory": "D_data",
           "value": 129
          },
          {
           "sample_id": 0,
           "timepoint": 18,
           "trajectory": "D_data",
           "value": 175
          },
          {
           "sample_id": 0,
           "timepoint": 19,
           "trajectory": "D_data",
           "value": 226
          },
          {
           "sample_id": 0,
           "timepoint": 20,
           "trajectory": "D_data",
           "value": 315
          },
          {
           "sample_id": 0,
           "timepoint": 21,
           "trajectory": "D_data",
           "value": 427
          },
          {
           "sample_id": 0,
           "timepoint": 22,
           "trajectory": "D_data",
           "value": 565
          },
          {
           "sample_id": 0,
           "timepoint": 23,
           "trajectory": "D_data",
           "value": 759
          },
          {
           "sample_id": 0,
           "timepoint": 24,
           "trajectory": "D_data",
           "value": 984
          },
          {
           "sample_id": 0,
           "timepoint": 25,
           "trajectory": "D_data",
           "value": 1285
          },
          {
           "sample_id": 0,
           "timepoint": 26,
           "trajectory": "D_data",
           "value": 1603
          },
          {
           "sample_id": 0,
           "timepoint": 27,
           "trajectory": "D_data",
           "value": 1930
          },
          {
           "sample_id": 0,
           "timepoint": 28,
           "trajectory": "D_data",
           "value": 2334
          },
          {
           "sample_id": 0,
           "timepoint": 29,
           "trajectory": "D_data",
           "value": 2859
          },
          {
           "sample_id": 0,
           "timepoint": 30,
           "trajectory": "D_data",
           "value": 3420
          },
          {
           "sample_id": 0,
           "timepoint": 31,
           "trajectory": "D_data",
           "value": 3989
          },
          {
           "sample_id": 0,
           "timepoint": 32,
           "trajectory": "D_data",
           "value": 4634
          },
          {
           "sample_id": 0,
           "timepoint": 33,
           "trajectory": "D_data",
           "value": 5384
          },
          {
           "sample_id": 0,
           "timepoint": 34,
           "trajectory": "D_data",
           "value": 6185
          },
          {
           "sample_id": 0,
           "timepoint": 35,
           "trajectory": "D_data",
           "value": 7241
          },
          {
           "sample_id": 0,
           "timepoint": 36,
           "trajectory": "D_data",
           "value": 7985
          },
          {
           "sample_id": 0,
           "timepoint": 37,
           "trajectory": "D_data",
           "value": 8846
          },
          {
           "sample_id": 0,
           "timepoint": 38,
           "trajectory": "D_data",
           "value": 9579
          },
          {
           "sample_id": 0,
           "timepoint": 39,
           "trajectory": "D_data",
           "value": 10345
          },
          {
           "sample_id": 0,
           "timepoint": 40,
           "trajectory": "D_data",
           "value": 11126
          },
          {
           "sample_id": 0,
           "timepoint": 41,
           "trajectory": "D_data",
           "value": 11930
          },
          {
           "sample_id": 0,
           "timepoint": 42,
           "trajectory": "D_data",
           "value": 12669
          },
          {
           "sample_id": 0,
           "timepoint": 43,
           "trajectory": "D_data",
           "value": 13332
          },
          {
           "sample_id": 0,
           "timepoint": 44,
           "trajectory": "D_data",
           "value": 13987
          },
          {
           "sample_id": 0,
           "timepoint": 45,
           "trajectory": "D_data",
           "value": 14371
          },
          {
           "sample_id": 0,
           "timepoint": 46,
           "trajectory": "D_data",
           "value": 14780
          },
          {
           "sample_id": 0,
           "timepoint": 47,
           "trajectory": "D_data",
           "value": 15225
          },
          {
           "sample_id": 0,
           "timepoint": 48,
           "trajectory": "D_data",
           "value": 16116
          },
          {
           "sample_id": 0,
           "timepoint": 49,
           "trajectory": "D_data",
           "value": 16639
          },
          {
           "sample_id": 0,
           "timepoint": 50,
           "trajectory": "D_data",
           "value": 17091
          },
          {
           "sample_id": 0,
           "timepoint": 51,
           "trajectory": "D_data",
           "value": 17647
          },
          {
           "sample_id": 0,
           "timepoint": 52,
           "trajectory": "D_data",
           "value": 18132
          },
          {
           "sample_id": 0,
           "timepoint": 53,
           "trajectory": "D_data",
           "value": 18523
          },
          {
           "sample_id": 0,
           "timepoint": 54,
           "trajectory": "D_data",
           "value": 18882
          },
          {
           "sample_id": 0,
           "timepoint": 55,
           "trajectory": "D_data",
           "value": 19292
          },
          {
           "sample_id": 0,
           "timepoint": 56,
           "trajectory": "D_data",
           "value": 19602
          },
          {
           "sample_id": 0,
           "timepoint": 57,
           "trajectory": "D_data",
           "value": 20000
          },
          {
           "sample_id": 0,
           "timepoint": 58,
           "trajectory": "D_data",
           "value": 20334
          },
          {
           "sample_id": 0,
           "timepoint": 59,
           "trajectory": "D_data",
           "value": 20662
          }
         ]
        },
        {
         "name": "markers",
         "values": []
        },
        {
         "name": "selected",
         "on": [
          {
           "remove": true,
           "trigger": "clear"
          },
          {
           "remove": true,
           "trigger": "!shift"
          },
          {
           "insert": "clicked",
           "trigger": "!shift && clicked"
          },
          {
           "toggle": "clicked",
           "trigger": "shift && clicked"
          }
         ]
        }
       ],
       "height": 300,
       "legends": [
        {
         "encode": {
          "labels": {
           "interactive": true,
           "name": "legendLabel",
           "update": {
            "opacity": [
             {
              "test": "!length(data('selected')) || indata('selected', 'value', datum.value)",
              "value": 1
             },
             {
              "value": 0.25
             }
            ]
           }
          },
          "symbols": {
           "interactive": true,
           "name": "legendSymbol",
           "update": {
            "fill": {
             "value": "transparent"
            },
            "opacity": [
             {
              "test": "!length(data('selected')) || indata('selected', 'value', datum.value)",
              "value": 0.7
             },
             {
              "value": 0.15
             }
            ],
            "size": {
             "value": 64
            },
            "strokeWidth": {
             "value": 2
            }
           }
          }
         },
         "name": "color_legend",
         "stroke": "color"
        }
       ],
       "marks": [
        {
         "from": {
          "facet": {
           "data": "points",
           "groupby": "trajectory",
           "name": "points_split"
          }
         },
         "marks": [
          {
           "encode": {
            "hover": {
             "fillOpacity": {
              "value": 0.9
             }
            },
            "update": {
             "fill": {
              "field": "trajectory",
              "scale": "color"
             },
             "fillOpacity": [
              {
               "test": "!length(data('selected')) || indata('selected', 'value', datum.trajectory)",
               "value": 0.5
              },
              {
               "value": 0.15
              }
             ],
             "size": {
              "value": 10
             },
             "stroke": {
              "field": "trajectory",
              "scale": "color"
             },
             "strokeOpacity": [
              {
               "test": "!length(data('selected')) || indata('selected', 'value', datum.trajectory)",
               "value": 0.75
              },
              {
               "value": 0.15
              }
             ],
             "strokeWidth": {
              "value": 2
             },
             "tooltip": {
              "field": "value"
             },
             "x": {
              "field": "timepoint",
              "scale": "xscale"
             },
             "y": {
              "field": "value",
              "scale": "yscale"
             }
            }
           },
           "from": {
            "data": "points"
           },
           "name": "_points_symbol",
           "type": "symbol",
           "zindex": 3
          },
          {
           "encode": {
            "hover": {
             "fillOpacity": {
              "value": 0.9
             }
            },
            "update": {
             "interpolate": {
              "value": "linear"
             },
             "stroke": {
              "field": "trajectory",
              "scale": "color"
             },
             "strokeOpacity": [
              {
               "test": "!length(data('selected')) || indata('selected', 'value', datum.trajectory)",
               "value": 0.3
              },
              {
               "value": 0.1
              }
             ],
             "strokeWidth": {
              "value": 2
             },
             "x": {
              "field": "timepoint",
              "scale": "xscale"
             },
             "y": {
              "field": "value",
              "scale": "yscale"
             }
            }
           },
           "from": {
            "data": "points"
           },
           "name": "_points_line",
           "type": "line",
           "zindex": 3
          }
         ],
         "name": "_points",
         "type": "group",
         "zindex": 3
        },
        {
         "from": {
          "facet": {
           "data": "traces",
           "groupby": "trajectory",
           "name": "traces_split"
          }
         },
         "marks": [
          {
           "encode": {
            "hover": {
             "fillOpacity": {
              "value": 0.9
             }
            },
            "update": {
             "interpolate": {
              "value": "linear"
             },
             "stroke": {
              "field": "trajectory",
              "scale": "color"
             },
             "strokeOpacity": [
              {
               "test": "!length(data('selected')) || indata('selected', 'value', datum.trajectory)",
               "value": 0.75
              },
              {
               "value": 0.15
              }
             ],
             "strokeWidth": {
              "value": 2
             },
             "x": {
              "field": "timepoint",
              "scale": "xscale"
             },
             "y": {
              "field": "value",
              "scale": "yscale"
             }
            }
           },
           "from": {
            "data": "traces_split"
           },
           "name": "_traces_lines",
           "type": "line"
          }
         ],
         "name": "_traces",
         "type": "group",
         "zindex": 2
        },
        {
         "from": {
          "facet": {
           "data": "distributions",
           "groupby": "trajectory",
           "name": "trajectory_split"
          }
         },
         "marks": [
          {
           "encode": {
            "hover": {
             "fillOpacity": {
              "value": 0.9
             }
            },
            "update": {
             "fill": {
              "field": "trajectory",
              "scale": "color"
             },
             "fillOpacity": [
              {
               "test": "!length(data('selected')) || indata('selected', 'value', datum.trajectory)",
               "value": 0.5
              },
              {
               "value": 0.15
              }
             ],
             "interpolate": {
              "value": "linear"
             },
             "stroke": {
              "field": "trajectory",
              "scale": "color"
             },
             "strokeOpacity": [
              {
               "test": "!length(data('selected')) || indata('selected', 'value', datum.trajectory)",
               "value": 0.75
              },
              {
               "value": 0.15
              }
             ],
             "strokeWidth": {
              "value": 2
             },
             "x": {
              "field": "timepoint",
              "scale": "xscale"
             },
             "y": {
              "field": "upper",
              "scale": "yscale"
             },
             "y2": {
              "field": "lower",
              "scale": "yscale"
             }
            }
           },
           "from": {
            "data": "trajectory_split"
           },
           "type": "area"
          }
         ],
         "name": "_distributions",
         "type": "group",
         "zindex": 1
        },
        {
         "marks": [
          {
           "encode": {
            "enter": {
             "stroke": {
              "value": "lightgray"
             }
            },
            "update": {
             "opacity": {
              "value": 1
             },
             "x": {
              "field": "timepoint",
              "scale": "xscale"
             },
             "y": {
              "signal": "height"
             },
             "y2": {
              "value": 0
             }
            }
           },
           "from": {
            "data": "markers"
           },
           "name": "_marker text",
           "type": "rule"
          },
          {
           "encode": {
            "enter": {
             "fontSize": {
              "value": 8
             },
             "text": {
              "field": "datum.label"
             },
             "y": {
              "value": 0
             }
            }
           },
           "from": {
            "data": "_marker text"
           },
           "name": "_marker flags",
           "transform": [
            {
             "as": [
              "x",
              "_y",
              "opacity",
              "align",
              "baseline"
             ],
             "lineAnchor": "start",
             "offset": [
              1
             ],
             "size": {
              "signal": "[width, height]"
             },
             "type": "label"
            }
           ],
           "type": "text"
          }
         ],
         "name": "_markers",
         "type": "group"
        }
       ],
       "padding": 5,
       "scales": [
        {
         "domain": {
          "fields": [
           {
            "data": "distributions",
            "field": "timepoint"
           },
           {
            "data": "traces",
            "field": "timepoint"
           },
           {
            "data": "points",
            "field": "timepoint"
           },
           {
            "data": "markers",
            "field": "timepoint"
           }
          ]
         },
         "name": "xscale",
         "range": "width",
         "type": "linear",
         "zero": false
        },
        {
         "domain": {
          "fields": [
           {
            "data": "distributions",
            "field": "lower"
           },
           {
            "data": "distributions",
            "field": "upper"
           },
           {
            "data": "traces",
            "field": "value"
           },
           {
            "data": "points",
            "field": "value"
           }
          ]
         },
         "name": "yscale",
         "nice": true,
         "range": "height",
         "type": "linear",
         "zero": true
        },
        {
         "domain": {
          "fields": [
           {
            "data": "distributions",
            "field": "trajectory"
           },
           {
            "data": "traces",
            "field": "trajectory"
           },
           {
            "data": "points",
            "field": "trajectory"
           }
          ]
         },
         "name": "color",
         "range": "category",
         "type": "ordinal"
        }
       ],
       "signals": [
        {
         "name": "clear",
         "on": [
          {
           "events": "mouseup[!event.item]",
           "force": true,
           "update": "true"
          }
         ],
         "value": true
        },
        {
         "name": "shift",
         "on": [
          {
           "events": "@legendSymbol:click, @legendLabel:click",
           "force": true,
           "update": "event.shiftKey"
          }
         ],
         "value": false
        },
        {
         "name": "clicked",
         "on": [
          {
           "events": "@legendSymbol:click, @legendLabel:click",
           "force": true,
           "update": "{value: datum.value}"
          }
         ],
         "value": null
        }
       ],
       "width": 500
      }
     },
     "metadata": {},
     "output_type": "display_data"
    }
   ],
   "source": [
    "num_samples = 100\n",
    "model_paths = [model2_location, model6_location, model7_location]\n",
    "data_path = \"../../notebook/ensemble_eval_sa/NY_data1.csv\"\n",
    "weights = [1/len(model_paths) for i in model_paths]\n",
    "solution_mappings = [{\"I\": \"I\", \"H\": \"H\", \"D\": \"D\"},\n",
    "                     {\"I\": \"infected\", \"H\": \"hospitalized\", \"D\": \"dead\"}, \n",
    "                     {\"I\": \"infected\", \"H\": \"hospitalized\", \"D\": \"dead\"}\n",
    "                     ]\n",
    "\n",
    "# Run the calibration and sampling\n",
    "result4 = load_and_calibrate_and_sample_ensemble_model(\n",
    "    model_paths,\n",
    "    data_path,\n",
    "    weights,\n",
    "    solution_mappings,\n",
    "    num_samples,\n",
    "    timepoints,\n",
    "    verbose=True,\n",
    "    total_population=19340000,\n",
    "    num_iterations=500,\n",
    "    time_unit=\"days\",\n",
    "    visual_options={\"title\": \"Calibrated Ensemble\", \"subset\":\".*_sol\"}\n",
    ")\n",
    "\n",
    "# Save results\n",
    "result4[\"data\"].to_csv(\n",
    "    \"partI_ensemble_of_many_results.csv\", index=False\n",
    ")\n",
    "result4[\"quantiles\"].to_csv(\n",
    "    \"partI_ensemble_of_many_quantiles.csv\", index=False\n",
    ")\n",
    "\n",
    "# Plot results\n",
    "schema = plots.trajectories(pd.DataFrame(result4[\"data\"]), subset=\".*_sol\",\n",
    "                            points=test_data.reset_index(drop=True).rename(columns={\"I\":\"I_data\", \"H\":\"H_data\", \"D\":\"D_data\"}),\n",
    "                           )\n",
    "schema = plots.pad(schema, 5)\n",
    "plots.ipy_display(schema)"
   ]
  },
  {
   "cell_type": "code",
   "execution_count": 169,
   "id": "765e6d37-d87b-48b6-877b-067d2995179e",
   "metadata": {},
   "outputs": [
    {
     "name": "stdout",
     "output_type": "stream",
     "text": [
      "iteration 0: loss = 732.6240921020508\n",
      "iteration 25: loss = 707.3158521056175\n",
      "iteration 50: loss = 660.7171763777733\n",
      "iteration 75: loss = 651.2766153216362\n",
      "iteration 100: loss = 637.714672267437\n",
      "iteration 125: loss = 644.9947382807732\n",
      "iteration 150: loss = 645.9765561819077\n",
      "iteration 175: loss = 643.8260254263878\n",
      "iteration 200: loss = 640.565835416317\n",
      "iteration 225: loss = 635.7575448155403\n",
      "iteration 250: loss = 637.0664694905281\n",
      "iteration 275: loss = 638.3980574607849\n",
      "iteration 300: loss = 637.4650293588638\n",
      "iteration 325: loss = 636.3265872597694\n",
      "iteration 350: loss = 637.4065206646919\n",
      "iteration 375: loss = 635.2618921399117\n",
      "iteration 400: loss = 637.2882766127586\n",
      "iteration 425: loss = 637.6753106713295\n",
      "iteration 450: loss = 635.5941507816315\n",
      "iteration 475: loss = 638.0811821818352\n",
      "\n"
     ]
    },
    {
     "data": {
      "application/vnd.vega.v5+json": {
       "$schema": "https://vega.github.io/schema/vega/v5.json",
       "axes": [
        {
         "name": "x_axis",
         "orient": "bottom",
         "scale": "xscale",
         "zindex": 100
        },
        {
         "name": "y_axis",
         "orient": "left",
         "scale": "yscale",
         "zindex": 100
        }
       ],
       "data": [
        {
         "name": "distributions",
         "values": [
          {
           "lower": 1.0434959725983198e-22,
           "timepoint": 0,
           "trajectory": "D_sol",
           "upper": 1.5191352996269542e-21
          },
          {
           "lower": 0.012090023420751096,
           "timepoint": 1,
           "trajectory": "D_sol",
           "upper": 0.16941475123167035
          },
          {
           "lower": 0.05377780012786389,
           "timepoint": 2,
           "trajectory": "D_sol",
           "upper": 0.7378231823444366
          },
          {
           "lower": 0.13153665959835054,
           "timepoint": 3,
           "trajectory": "D_sol",
           "upper": 1.7853756606578823
          },
          {
           "lower": 0.251011648029089,
           "timepoint": 4,
           "trajectory": "D_sol",
           "upper": 3.393944573402404
          },
          {
           "lower": 0.41823164373636246,
           "timepoint": 5,
           "trajectory": "D_sol",
           "upper": 5.660610032081603
          },
          {
           "lower": 0.6404766201972962,
           "timepoint": 6,
           "trajectory": "D_sol",
           "upper": 8.707742023468017
          },
          {
           "lower": 0.9269865572452546,
           "timepoint": 7,
           "trajectory": "D_sol",
           "upper": 12.692048311233519
          },
          {
           "lower": 1.2896366685628893,
           "timepoint": 8,
           "trajectory": "D_sol",
           "upper": 17.8140341758728
          },
          {
           "lower": 1.7436532139778138,
           "timepoint": 9,
           "trajectory": "D_sol",
           "upper": 24.352877235412592
          },
          {
           "lower": 2.308435082435608,
           "timepoint": 10,
           "trajectory": "D_sol",
           "upper": 32.630820465087886
          },
          {
           "lower": 2.8819205522537232,
           "timepoint": 11,
           "trajectory": "D_sol",
           "upper": 43.045330238342274
          },
          {
           "lower": 3.445513939857483,
           "timepoint": 12,
           "trajectory": "D_sol",
           "upper": 56.106143951416
          },
          {
           "lower": 4.089716017246246,
           "timepoint": 13,
           "trajectory": "D_sol",
           "upper": 72.44907608032224
          },
          {
           "lower": 4.8310112953186035,
           "timepoint": 14,
           "trajectory": "D_sol",
           "upper": 92.864489364624
          },
          {
           "lower": 5.689938497543335,
           "timepoint": 15,
           "trajectory": "D_sol",
           "upper": 118.32995185852047
          },
          {
           "lower": 6.691806650161744,
           "timepoint": 16,
           "trajectory": "D_sol",
           "upper": 150.04593734741206
          },
          {
           "lower": 7.867340397834778,
           "timepoint": 17,
           "trajectory": "D_sol",
           "upper": 189.47058715820307
          },
          {
           "lower": 9.253317093849182,
           "timepoint": 18,
           "trajectory": "D_sol",
           "upper": 238.34404983520503
          },
          {
           "lower": 10.892505979537964,
           "timepoint": 19,
           "trajectory": "D_sol",
           "upper": 298.69002685546866
          },
          {
           "lower": 12.832789659500122,
           "timepoint": 20,
           "trajectory": "D_sol",
           "upper": 372.7664138793944
          },
          {
           "lower": 15.124691247940063,
           "timepoint": 21,
           "trajectory": "D_sol",
           "upper": 463.2946350097655
          },
          {
           "lower": 17.817100524902344,
           "timepoint": 22,
           "trajectory": "D_sol",
           "upper": 573.4257934570311
          },
          {
           "lower": 20.951618671417236,
           "timepoint": 23,
           "trajectory": "D_sol",
           "upper": 707.299688720703
          },
          {
           "lower": 24.556699180603026,
           "timepoint": 24,
           "trajectory": "D_sol",
           "upper": 864.3959960937498
          },
          {
           "lower": 28.643375205993653,
           "timepoint": 25,
           "trajectory": "D_sol",
           "upper": 1045.2449462890622
          },
          {
           "lower": 33.20361728668213,
           "timepoint": 26,
           "trajectory": "D_sol",
           "upper": 1249.3669433593748
          },
          {
           "lower": 38.67940692901611,
           "timepoint": 27,
           "trajectory": "D_sol",
           "upper": 1475.3422058105466
          },
          {
           "lower": 44.84027042388916,
           "timepoint": 28,
           "trajectory": "D_sol",
           "upper": 1720.9881835937497
          },
          {
           "lower": 51.470859336853025,
           "timepoint": 29,
           "trajectory": "D_sol",
           "upper": 1983.594561767578
          },
          {
           "lower": 58.55945053100586,
           "timepoint": 30,
           "trajectory": "D_sol",
           "upper": 2261.289453125
          },
          {
           "lower": 66.27031097412109,
           "timepoint": 31,
           "trajectory": "D_sol",
           "upper": 2577.6847045898435
          },
          {
           "lower": 74.35393714904785,
           "timepoint": 32,
           "trajectory": "D_sol",
           "upper": 2885.9299072265626
          },
          {
           "lower": 82.75988540649413,
           "timepoint": 33,
           "trajectory": "D_sol",
           "upper": 3169.5510498046874
          },
          {
           "lower": 91.44053955078125,
           "timepoint": 34,
           "trajectory": "D_sol",
           "upper": 3455.521398925781
          },
          {
           "lower": 100.35251960754394,
           "timepoint": 35,
           "trajectory": "D_sol",
           "upper": 3763.8713500976555
          },
          {
           "lower": 109.4565200805664,
           "timepoint": 36,
           "trajectory": "D_sol",
           "upper": 4068.8703369140617
          },
          {
           "lower": 118.7178726196289,
           "timepoint": 37,
           "trajectory": "D_sol",
           "upper": 4370.320312499999
          },
          {
           "lower": 128.1063491821289,
           "timepoint": 38,
           "trajectory": "D_sol",
           "upper": 4669.635595703124
          },
          {
           "lower": 137.59589538574218,
           "timepoint": 39,
           "trajectory": "D_sol",
           "upper": 4983.226611328124
          },
          {
           "lower": 147.16400527954102,
           "timepoint": 40,
           "trajectory": "D_sol",
           "upper": 5294.356494140624
          },
          {
           "lower": 156.7920036315918,
           "timepoint": 41,
           "trajectory": "D_sol",
           "upper": 5602.327612304686
          },
          {
           "lower": 166.4638328552246,
           "timepoint": 42,
           "trajectory": "D_sol",
           "upper": 5906.557910156249
          },
          {
           "lower": 176.16628036499023,
           "timepoint": 43,
           "trajectory": "D_sol",
           "upper": 6206.599243164062
          },
          {
           "lower": 185.88848495483398,
           "timepoint": 44,
           "trajectory": "D_sol",
           "upper": 6502.096997070312
          },
          {
           "lower": 195.6210479736328,
           "timepoint": 45,
           "trajectory": "D_sol",
           "upper": 6792.770019531249
          },
          {
           "lower": 205.35705337524413,
           "timepoint": 46,
           "trajectory": "D_sol",
           "upper": 7078.420825195312
          },
          {
           "lower": 215.08981399536134,
           "timepoint": 47,
           "trajectory": "D_sol",
           "upper": 7358.901977539062
          },
          {
           "lower": 224.8152687072754,
           "timepoint": 48,
           "trajectory": "D_sol",
           "upper": 7634.111962890624
          },
          {
           "lower": 234.5292694091797,
           "timepoint": 49,
           "trajectory": "D_sol",
           "upper": 7903.978344726562
          },
          {
           "lower": 244.22885284423828,
           "timepoint": 50,
           "trajectory": "D_sol",
           "upper": 8168.5233154296875
          },
          {
           "lower": 253.91160278320314,
           "timepoint": 51,
           "trajectory": "D_sol",
           "upper": 8427.700341796875
          },
          {
           "lower": 263.57577056884764,
           "timepoint": 52,
           "trajectory": "D_sol",
           "upper": 8681.529150390625
          },
          {
           "lower": 273.2206428527832,
           "timepoint": 53,
           "trajectory": "D_sol",
           "upper": 8905.09169921875
          },
          {
           "lower": 282.8447296142578,
           "timepoint": 54,
           "trajectory": "D_sol",
           "upper": 9110.29150390625
          },
          {
           "lower": 292.44749603271487,
           "timepoint": 55,
           "trajectory": "D_sol",
           "upper": 9308.768896484375
          },
          {
           "lower": 302.02884063720705,
           "timepoint": 56,
           "trajectory": "D_sol",
           "upper": 9498.869433593749
          },
          {
           "lower": 311.58851623535156,
           "timepoint": 57,
           "trajectory": "D_sol",
           "upper": 9680.604638671875
          },
          {
           "lower": 321.1266036987305,
           "timepoint": 58,
           "trajectory": "D_sol",
           "upper": 9856.0548828125
          },
          {
           "lower": 330.64319305419923,
           "timepoint": 59,
           "trajectory": "D_sol",
           "upper": 10025.42587890625
          },
          {
           "lower": 9.11144010934395e-11,
           "timepoint": 0,
           "trajectory": "H_sol",
           "upper": 5.272042497006523e-10
          },
          {
           "lower": 1.1072049498558045,
           "timepoint": 1,
           "trajectory": "H_sol",
           "upper": 6.090286087989806
          },
          {
           "lower": 2.5409182786941527,
           "timepoint": 2,
           "trajectory": "H_sol",
           "upper": 13.419661426544188
          },
          {
           "lower": 4.229313683509827,
           "timepoint": 3,
           "trajectory": "H_sol",
           "upper": 22.03672008514404
          },
          {
           "lower": 6.1893517732620245,
           "timepoint": 4,
           "trajectory": "H_sol",
           "upper": 31.773309898376464
          },
          {
           "lower": 8.345348215103149,
           "timepoint": 5,
           "trajectory": "H_sol",
           "upper": 42.06027317047119
          },
          {
           "lower": 10.716081380844116,
           "timepoint": 6,
           "trajectory": "H_sol",
           "upper": 54.46181659698486
          },
          {
           "lower": 13.34709520339966,
           "timepoint": 7,
           "trajectory": "H_sol",
           "upper": 69.75050659179688
          },
          {
           "lower": 16.30642080307007,
           "timepoint": 8,
           "trajectory": "H_sol",
           "upper": 87.844437789917
          },
          {
           "lower": 19.48884038925171,
           "timepoint": 9,
           "trajectory": "H_sol",
           "upper": 110.98636283874511
          },
          {
           "lower": 22.552906799316407,
           "timepoint": 10,
           "trajectory": "H_sol",
           "upper": 138.1267379760742
          },
          {
           "lower": 26.160475730895996,
           "timepoint": 11,
           "trajectory": "H_sol",
           "upper": 173.30947036743163
          },
          {
           "lower": 30.47018175125122,
           "timepoint": 12,
           "trajectory": "H_sol",
           "upper": 216.8606475830078
          },
          {
           "lower": 35.91371307373047,
           "timepoint": 13,
           "trajectory": "H_sol",
           "upper": 270.7950134277343
          },
          {
           "lower": 41.736073112487794,
           "timepoint": 14,
           "trajectory": "H_sol",
           "upper": 337.90986633300776
          },
          {
           "lower": 49.12641296386719,
           "timepoint": 15,
           "trajectory": "H_sol",
           "upper": 422.5583343505859
          },
          {
           "lower": 58.26936645507813,
           "timepoint": 16,
           "trajectory": "H_sol",
           "upper": 527.6178100585937
          },
          {
           "lower": 69.46386413574218,
           "timepoint": 17,
           "trajectory": "H_sol",
           "upper": 657.4192352294922
          },
          {
           "lower": 83.00625,
           "timepoint": 18,
           "trajectory": "H_sol",
           "upper": 817.7376861572266
          },
          {
           "lower": 99.23623733520508,
           "timepoint": 19,
           "trajectory": "H_sol",
           "upper": 1017.2897308349609
          },
          {
           "lower": 118.4034252166748,
           "timepoint": 20,
           "trajectory": "H_sol",
           "upper": 1241.6043518066406
          },
          {
           "lower": 140.57068328857423,
           "timepoint": 21,
           "trajectory": "H_sol",
           "upper": 1508.1242553710938
          },
          {
           "lower": 165.51910095214845,
           "timepoint": 22,
           "trajectory": "H_sol",
           "upper": 1810.5401611328125
          },
          {
           "lower": 192.69900283813476,
           "timepoint": 23,
           "trajectory": "H_sol",
           "upper": 2129.3107666015626
          },
          {
           "lower": 218.63524627685547,
           "timepoint": 24,
           "trajectory": "H_sol",
           "upper": 2452.763537597656
          },
          {
           "lower": 247.83748779296874,
           "timepoint": 25,
           "trajectory": "H_sol",
           "upper": 2769.155041503906
          },
          {
           "lower": 276.749934387207,
           "timepoint": 26,
           "trajectory": "H_sol",
           "upper": 3063.6598510742183
          },
          {
           "lower": 297.9874557495117,
           "timepoint": 27,
           "trajectory": "H_sol",
           "upper": 3323.894519042968
          },
          {
           "lower": 312.6516616821289,
           "timepoint": 28,
           "trajectory": "H_sol",
           "upper": 3564.3768066406246
          },
          {
           "lower": 323.4179397583008,
           "timepoint": 29,
           "trajectory": "H_sol",
           "upper": 3782.0566040039057
          },
          {
           "lower": 330.29668884277345,
           "timepoint": 30,
           "trajectory": "H_sol",
           "upper": 3957.2585571289055
          },
          {
           "lower": 333.31248779296874,
           "timepoint": 31,
           "trajectory": "H_sol",
           "upper": 4090.2510864257806
          },
          {
           "lower": 340.38209838867186,
           "timepoint": 32,
           "trajectory": "H_sol",
           "upper": 4182.990502929687
          },
          {
           "lower": 347.206037902832,
           "timepoint": 33,
           "trajectory": "H_sol",
           "upper": 4243.707958984374
          },
          {
           "lower": 351.6331161499023,
           "timepoint": 34,
           "trajectory": "H_sol",
           "upper": 4314.437841796875
          },
          {
           "lower": 354.0255126953125,
           "timepoint": 35,
           "trajectory": "H_sol",
           "upper": 4359.9349365234375
          },
          {
           "lower": 354.38972320556644,
           "timepoint": 36,
           "trajectory": "H_sol",
           "upper": 4383.689892578125
          },
          {
           "lower": 352.9802276611328,
           "timepoint": 37,
           "trajectory": "H_sol",
           "upper": 4398.705395507813
          },
          {
           "lower": 350.0477951049805,
           "timepoint": 38,
           "trajectory": "H_sol",
           "upper": 4381.82177734375
          },
          {
           "lower": 345.8319808959961,
           "timepoint": 39,
           "trajectory": "H_sol",
           "upper": 4356.953588867187
          },
          {
           "lower": 339.84314880371096,
           "timepoint": 40,
           "trajectory": "H_sol",
           "upper": 4324.261376953125
          },
          {
           "lower": 326.12539825439455,
           "timepoint": 41,
           "trajectory": "H_sol",
           "upper": 4285.163598632812
          },
          {
           "lower": 312.1410614013672,
           "timepoint": 42,
           "trajectory": "H_sol",
           "upper": 4238.450952148437
          },
          {
           "lower": 298.07629547119143,
           "timepoint": 43,
           "trajectory": "H_sol",
           "upper": 4218.960693359374
          },
          {
           "lower": 284.08524627685546,
           "timepoint": 44,
           "trajectory": "H_sol",
           "upper": 4201.781420898437
          },
          {
           "lower": 270.2900756835937,
           "timepoint": 45,
           "trajectory": "H_sol",
           "upper": 4180.534838867187
          },
          {
           "lower": 259.8573989868164,
           "timepoint": 46,
           "trajectory": "H_sol",
           "upper": 4155.454345703124
          },
          {
           "lower": 252.88037185668946,
           "timepoint": 47,
           "trajectory": "H_sol",
           "upper": 4124.994702148437
          },
          {
           "lower": 246.06898727416993,
           "timepoint": 48,
           "trajectory": "H_sol",
           "upper": 4091.363391113281
          },
          {
           "lower": 235.82309112548828,
           "timepoint": 49,
           "trajectory": "H_sol",
           "upper": 4033.006665039062
          },
          {
           "lower": 224.73382873535155,
           "timepoint": 50,
           "trajectory": "H_sol",
           "upper": 4018.3540283203124
          },
          {
           "lower": 214.00579071044922,
           "timepoint": 51,
           "trajectory": "H_sol",
           "upper": 3993.377551269531
          },
          {
           "lower": 203.65812606811522,
           "timepoint": 52,
           "trajectory": "H_sol",
           "upper": 3961.0229736328124
          },
          {
           "lower": 193.70335006713867,
           "timepoint": 53,
           "trajectory": "H_sol",
           "upper": 3928.0862792968746
          },
          {
           "lower": 185.74920425415038,
           "timepoint": 54,
           "trajectory": "H_sol",
           "upper": 3907.8211425781246
          },
          {
           "lower": 179.420556640625,
           "timepoint": 55,
           "trajectory": "H_sol",
           "upper": 3916.3254760742184
          },
          {
           "lower": 173.4256103515625,
           "timepoint": 56,
           "trajectory": "H_sol",
           "upper": 3923.901611328125
          },
          {
           "lower": 167.6240348815918,
           "timepoint": 57,
           "trajectory": "H_sol",
           "upper": 3929.918994140625
          },
          {
           "lower": 162.01401596069337,
           "timepoint": 58,
           "trajectory": "H_sol",
           "upper": 3915.5809448242185
          },
          {
           "lower": 156.9852737426758,
           "timepoint": 59,
           "trajectory": "H_sol",
           "upper": 3879.9352416992188
          },
          {
           "lower": 176.14870376586913,
           "timepoint": 0,
           "trajectory": "I_sol",
           "upper": 181.64575424194337
          },
          {
           "lower": 276.76695556640624,
           "timepoint": 1,
           "trajectory": "I_sol",
           "upper": 308.7033966064453
          },
          {
           "lower": 373.1692886352539,
           "timepoint": 2,
           "trajectory": "I_sol",
           "upper": 424.90792694091795
          },
          {
           "lower": 478.037287902832,
           "timepoint": 3,
           "trajectory": "I_sol",
           "upper": 542.3591033935547
          },
          {
           "lower": 590.779086303711,
           "timepoint": 4,
           "trajectory": "I_sol",
           "upper": 678.3822204589843
          },
          {
           "lower": 725.4058532714844,
           "timepoint": 5,
           "trajectory": "I_sol",
           "upper": 838.6675811767578
          },
          {
           "lower": 890.6497375488282,
           "timepoint": 6,
           "trajectory": "I_sol",
           "upper": 1033.77705078125
          },
          {
           "lower": 1092.7422729492187,
           "timepoint": 7,
           "trajectory": "I_sol",
           "upper": 1285.9233825683593
          },
          {
           "lower": 1339.0163696289062,
           "timepoint": 8,
           "trajectory": "I_sol",
           "upper": 1611.3589111328124
          },
          {
           "lower": 1642.8455688476563,
           "timepoint": 9,
           "trajectory": "I_sol",
           "upper": 2019.0093505859375
          },
          {
           "lower": 2020.2807678222657,
           "timepoint": 10,
           "trajectory": "I_sol",
           "upper": 2511.27890625
          },
          {
           "lower": 2471.674670410156,
           "timepoint": 11,
           "trajectory": "I_sol",
           "upper": 3110.301428222656
          },
          {
           "lower": 3039.498583984375,
           "timepoint": 12,
           "trajectory": "I_sol",
           "upper": 3884.0138916015626
          },
          {
           "lower": 3730.315966796875,
           "timepoint": 13,
           "trajectory": "I_sol",
           "upper": 4854.072509765625
          },
          {
           "lower": 4580.634912109375,
           "timepoint": 14,
           "trajectory": "I_sol",
           "upper": 6073.9478759765625
          },
          {
           "lower": 5620.396752929688,
           "timepoint": 15,
           "trajectory": "I_sol",
           "upper": 7603.297778320312
          },
          {
           "lower": 6884.703466796875,
           "timepoint": 16,
           "trajectory": "I_sol",
           "upper": 9507.709619140625
          },
          {
           "lower": 8395.998974609374,
           "timepoint": 17,
           "trajectory": "I_sol",
           "upper": 11835.9880859375
          },
          {
           "lower": 10185.82783203125,
           "timepoint": 18,
           "trajectory": "I_sol",
           "upper": 14644.67314453125
          },
          {
           "lower": 12258.17822265625,
           "timepoint": 19,
           "trajectory": "I_sol",
           "upper": 17887.31015625
          },
          {
           "lower": 14584.287841796875,
           "timepoint": 20,
           "trajectory": "I_sol",
           "upper": 21505.76171875
          },
          {
           "lower": 17090.8294921875,
           "timepoint": 21,
           "trajectory": "I_sol",
           "upper": 25393.513769531248
          },
          {
           "lower": 19661.68125,
           "timepoint": 22,
           "trajectory": "I_sol",
           "upper": 29493.949023437497
          },
          {
           "lower": 22158.22890625,
           "timepoint": 23,
           "trajectory": "I_sol",
           "upper": 33722.33046875
          },
          {
           "lower": 24451.47890625,
           "timepoint": 24,
           "trajectory": "I_sol",
           "upper": 37395.7904296875
          },
          {
           "lower": 26106.2427734375,
           "timepoint": 25,
           "trajectory": "I_sol",
           "upper": 40305.562890625
          },
          {
           "lower": 27357.41494140625,
           "timepoint": 26,
           "trajectory": "I_sol",
           "upper": 43157.33203125
          },
          {
           "lower": 28091.6251953125,
           "timepoint": 27,
           "trajectory": "I_sol",
           "upper": 45522.5587890625
          },
          {
           "lower": 28445.26806640625,
           "timepoint": 28,
           "trajectory": "I_sol",
           "upper": 47409.01953125
          },
          {
           "lower": 28507.06494140625,
           "timepoint": 29,
           "trajectory": "I_sol",
           "upper": 48872.187890625
          },
          {
           "lower": 28244.5513671875,
           "timepoint": 30,
           "trajectory": "I_sol",
           "upper": 49748.7291015625
          },
          {
           "lower": 27745.9423828125,
           "timepoint": 31,
           "trajectory": "I_sol",
           "upper": 49485.423046874996
          },
          {
           "lower": 27136.343359375,
           "timepoint": 32,
           "trajectory": "I_sol",
           "upper": 48922.7640625
          },
          {
           "lower": 26453.969921875,
           "timepoint": 33,
           "trajectory": "I_sol",
           "upper": 48145.34609374999
          },
          {
           "lower": 25504.47197265625,
           "timepoint": 34,
           "trajectory": "I_sol",
           "upper": 48172.58632812499
          },
          {
           "lower": 24620.55048828125,
           "timepoint": 35,
           "trajectory": "I_sol",
           "upper": 48151.37890624999
          },
          {
           "lower": 23341.8912109375,
           "timepoint": 36,
           "trajectory": "I_sol",
           "upper": 48067.98515625
          },
          {
           "lower": 22219.927734375,
           "timepoint": 37,
           "trajectory": "I_sol",
           "upper": 47940.0537109375
          },
          {
           "lower": 21006.33505859375,
           "timepoint": 38,
           "trajectory": "I_sol",
           "upper": 47780.467382812494
          },
          {
           "lower": 19598.44150390625,
           "timepoint": 39,
           "trajectory": "I_sol",
           "upper": 47598.5515625
          },
          {
           "lower": 18410.34013671875,
           "timepoint": 40,
           "trajectory": "I_sol",
           "upper": 47401.044140624996
          },
          {
           "lower": 17293.2078125,
           "timepoint": 41,
           "trajectory": "I_sol",
           "upper": 47192.5208984375
          },
          {
           "lower": 16234.2248046875,
           "timepoint": 42,
           "trajectory": "I_sol",
           "upper": 46976.5927734375
          },
          {
           "lower": 15237.39208984375,
           "timepoint": 43,
           "trajectory": "I_sol",
           "upper": 46641.2595703125
          },
          {
           "lower": 14299.3767578125,
           "timepoint": 44,
           "trajectory": "I_sol",
           "upper": 46549.35390625
          },
          {
           "lower": 13415.6181640625,
           "timepoint": 45,
           "trajectory": "I_sol",
           "upper": 46340.675390625
          },
          {
           "lower": 12583.993115234374,
           "timepoint": 46,
           "trajectory": "I_sol",
           "upper": 46130.281445312496
          },
          {
           "lower": 11802.20595703125,
           "timepoint": 47,
           "trajectory": "I_sol",
           "upper": 45918.7681640625
          },
          {
           "lower": 11068.023681640625,
           "timepoint": 48,
           "trajectory": "I_sol",
           "upper": 45706.386914062496
          },
          {
           "lower": 10380.1583984375,
           "timepoint": 49,
           "trajectory": "I_sol",
           "upper": 45493.5095703125
          },
          {
           "lower": 9734.620703125,
           "timepoint": 50,
           "trajectory": "I_sol",
           "upper": 45280.315039062494
          },
          {
           "lower": 9129.02138671875,
           "timepoint": 51,
           "trajectory": "I_sol",
           "upper": 45066.9330078125
          },
          {
           "lower": 8561.028759765624,
           "timepoint": 52,
           "trajectory": "I_sol",
           "upper": 44853.351757812496
          },
          {
           "lower": 8028.4188232421875,
           "timepoint": 53,
           "trajectory": "I_sol",
           "upper": 44639.748828125
          },
          {
           "lower": 7529.058544921875,
           "timepoint": 54,
           "trajectory": "I_sol",
           "upper": 44426.106640624996
          },
          {
           "lower": 7060.922900390625,
           "timepoint": 55,
           "trajectory": "I_sol",
           "upper": 44212.478124999994
          },
          {
           "lower": 6622.07490234375,
           "timepoint": 56,
           "trajectory": "I_sol",
           "upper": 43998.910742187494
          },
          {
           "lower": 6210.70888671875,
           "timepoint": 57,
           "trajectory": "I_sol",
           "upper": 43785.38378906249
          },
          {
           "lower": 5825.142626953125,
           "timepoint": 58,
           "trajectory": "I_sol",
           "upper": 43571.91484375
          },
          {
           "lower": 5433.5477294921875,
           "timepoint": 59,
           "trajectory": "I_sol",
           "upper": 43449.73632812499
          }
         ]
        },
        {
         "name": "traces",
         "transform": [
          {
           "expr": "isValid(datum.value)",
           "type": "filter"
          }
         ],
         "values": []
        },
        {
         "name": "points",
         "values": [
          {
           "sample_id": 0,
           "timepoint": 0,
           "trajectory": "I_data",
           "value": 1
          },
          {
           "sample_id": 0,
           "timepoint": 1,
           "trajectory": "I_data",
           "value": 10
          },
          {
           "sample_id": 0,
           "timepoint": 2,
           "trajectory": "I_data",
           "value": 21
          },
          {
           "sample_id": 0,
           "timepoint": 3,
           "trajectory": "I_data",
           "value": 24
          },
          {
           "sample_id": 0,
           "timepoint": 4,
           "trajectory": "I_data",
           "value": 76
          },
          {
           "sample_id": 0,
           "timepoint": 5,
           "trajectory": "I_data",
           "value": 104
          },
          {
           "sample_id": 0,
           "timepoint": 6,
           "trajectory": "I_data",
           "value": 128
          },
          {
           "sample_id": 0,
           "timepoint": 7,
           "trajectory": "I_data",
           "value": 131
          },
          {
           "sample_id": 0,
           "timepoint": 8,
           "trajectory": "I_data",
           "value": 192
          },
          {
           "sample_id": 0,
           "timepoint": 9,
           "trajectory": "I_data",
           "value": 220
          },
          {
           "sample_id": 0,
           "timepoint": 10,
           "trajectory": "I_data",
           "value": 274
          },
          {
           "sample_id": 0,
           "timepoint": 11,
           "trajectory": "I_data",
           "value": 394
          },
          {
           "sample_id": 0,
           "timepoint": 12,
           "trajectory": "I_data",
           "value": 481
          },
          {
           "sample_id": 0,
           "timepoint": 13,
           "trajectory": "I_data",
           "value": 745
          },
          {
           "sample_id": 0,
           "timepoint": 14,
           "trajectory": "I_data",
           "value": 1111
          },
          {
           "sample_id": 0,
           "timepoint": 15,
           "trajectory": "I_data",
           "value": 2128
          },
          {
           "sample_id": 0,
           "timepoint": 16,
           "trajectory": "I_data",
           "value": 3671
          },
          {
           "sample_id": 0,
           "timepoint": 17,
           "trajectory": "I_data",
           "value": 6578
          },
          {
           "sample_id": 0,
           "timepoint": 18,
           "trajectory": "I_data",
           "value": 9449
          },
          {
           "sample_id": 0,
           "timepoint": 19,
           "trajectory": "I_data",
           "value": 13761
          },
          {
           "sample_id": 0,
           "timepoint": 20,
           "trajectory": "I_data",
           "value": 18270
          },
          {
           "sample_id": 0,
           "timepoint": 21,
           "trajectory": "I_data",
           "value": 21478
          },
          {
           "sample_id": 0,
           "timepoint": 22,
           "trajectory": "I_data",
           "value": 23630
          },
          {
           "sample_id": 0,
           "timepoint": 23,
           "trajectory": "I_data",
           "value": 26987
          },
          {
           "sample_id": 0,
           "timepoint": 24,
           "trajectory": "I_data",
           "value": 29533
          },
          {
           "sample_id": 0,
           "timepoint": 25,
           "trajectory": "I_data",
           "value": 31623
          },
          {
           "sample_id": 0,
           "timepoint": 26,
           "trajectory": "I_data",
           "value": 33967
          },
          {
           "sample_id": 0,
           "timepoint": 27,
           "trajectory": "I_data",
           "value": 35822
          },
          {
           "sample_id": 0,
           "timepoint": 28,
           "trajectory": "I_data",
           "value": 38456
          },
          {
           "sample_id": 0,
           "timepoint": 29,
           "trajectory": "I_data",
           "value": 45676
          },
          {
           "sample_id": 0,
           "timepoint": 30,
           "trajectory": "I_data",
           "value": 48380
          },
          {
           "sample_id": 0,
           "timepoint": 31,
           "trajectory": "I_data",
           "value": 51807
          },
          {
           "sample_id": 0,
           "timepoint": 32,
           "trajectory": "I_data",
           "value": 55042
          },
          {
           "sample_id": 0,
           "timepoint": 33,
           "trajectory": "I_data",
           "value": 56847
          },
          {
           "sample_id": 0,
           "timepoint": 34,
           "trajectory": "I_data",
           "value": 52184
          },
          {
           "sample_id": 0,
           "timepoint": 35,
           "trajectory": "I_data",
           "value": 49194
          },
          {
           "sample_id": 0,
           "timepoint": 36,
           "trajectory": "I_data",
           "value": 48730
          },
          {
           "sample_id": 0,
           "timepoint": 37,
           "trajectory": "I_data",
           "value": 50551
          },
          {
           "sample_id": 0,
           "timepoint": 38,
           "trajectory": "I_data",
           "value": 51029
          },
          {
           "sample_id": 0,
           "timepoint": 39,
           "trajectory": "I_data",
           "value": 49701
          },
          {
           "sample_id": 0,
           "timepoint": 40,
           "trajectory": "I_data",
           "value": 50661
          },
          {
           "sample_id": 0,
           "timepoint": 41,
           "trajectory": "I_data",
           "value": 48303
          },
          {
           "sample_id": 0,
           "timepoint": 42,
           "trajectory": "I_data",
           "value": 43703
          },
          {
           "sample_id": 0,
           "timepoint": 43,
           "trajectory": "I_data",
           "value": 38888
          },
          {
           "sample_id": 0,
           "timepoint": 44,
           "trajectory": "I_data",
           "value": 38244
          },
          {
           "sample_id": 0,
           "timepoint": 45,
           "trajectory": "I_data",
           "value": 36857
          },
          {
           "sample_id": 0,
           "timepoint": 46,
           "trajectory": "I_data",
           "value": 35881
          },
          {
           "sample_id": 0,
           "timepoint": 47,
           "trajectory": "I_data",
           "value": 35054
          },
          {
           "sample_id": 0,
           "timepoint": 48,
           "trajectory": "I_data",
           "value": 34782
          },
          {
           "sample_id": 0,
           "timepoint": 49,
           "trajectory": "I_data",
           "value": 31526
          },
          {
           "sample_id": 0,
           "timepoint": 50,
           "trajectory": "I_data",
           "value": 28799
          },
          {
           "sample_id": 0,
           "timepoint": 51,
           "trajectory": "I_data",
           "value": 27419
          },
          {
           "sample_id": 0,
           "timepoint": 52,
           "trajectory": "I_data",
           "value": 27443
          },
          {
           "sample_id": 0,
           "timepoint": 53,
           "trajectory": "I_data",
           "value": 30499
          },
          {
           "sample_id": 0,
           "timepoint": 54,
           "trajectory": "I_data",
           "value": 31543
          },
          {
           "sample_id": 0,
           "timepoint": 55,
           "trajectory": "I_data",
           "value": 31597
          },
          {
           "sample_id": 0,
           "timepoint": 56,
           "trajectory": "I_data",
           "value": 29008
          },
          {
           "sample_id": 0,
           "timepoint": 57,
           "trajectory": "I_data",
           "value": 25476
          },
          {
           "sample_id": 0,
           "timepoint": 58,
           "trajectory": "I_data",
           "value": 20411
          },
          {
           "sample_id": 0,
           "timepoint": 59,
           "trajectory": "I_data",
           "value": 19224
          },
          {
           "sample_id": 0,
           "timepoint": 38,
           "trajectory": "H_data",
           "value": 0
          },
          {
           "sample_id": 0,
           "timepoint": 39,
           "trajectory": "H_data",
           "value": 0
          },
          {
           "sample_id": 0,
           "timepoint": 45,
           "trajectory": "H_data",
           "value": 0
          },
          {
           "sample_id": 0,
           "timepoint": 46,
           "trajectory": "H_data",
           "value": 1
          },
          {
           "sample_id": 0,
           "timepoint": 52,
           "trajectory": "H_data",
           "value": 0
          },
          {
           "sample_id": 0,
           "timepoint": 53,
           "trajectory": "H_data",
           "value": 0
          },
          {
           "sample_id": 0,
           "timepoint": 54,
           "trajectory": "H_data",
           "value": 1
          },
          {
           "sample_id": 0,
           "timepoint": 55,
           "trajectory": "H_data",
           "value": 0
          },
          {
           "sample_id": 0,
           "timepoint": 56,
           "trajectory": "H_data",
           "value": 0
          },
          {
           "sample_id": 0,
           "timepoint": 57,
           "trajectory": "H_data",
           "value": 0
          },
          {
           "sample_id": 0,
           "timepoint": 58,
           "trajectory": "H_data",
           "value": 0
          },
          {
           "sample_id": 0,
           "timepoint": 59,
           "trajectory": "H_data",
           "value": 0
          },
          {
           "sample_id": 0,
           "timepoint": 0,
           "trajectory": "D_data",
           "value": 0
          },
          {
           "sample_id": 0,
           "timepoint": 1,
           "trajectory": "D_data",
           "value": 0
          },
          {
           "sample_id": 0,
           "timepoint": 2,
           "trajectory": "D_data",
           "value": 0
          },
          {
           "sample_id": 0,
           "timepoint": 3,
           "trajectory": "D_data",
           "value": 0
          },
          {
           "sample_id": 0,
           "timepoint": 4,
           "trajectory": "D_data",
           "value": 0
          },
          {
           "sample_id": 0,
           "timepoint": 5,
           "trajectory": "D_data",
           "value": 0
          },
          {
           "sample_id": 0,
           "timepoint": 6,
           "trajectory": "D_data",
           "value": 0
          },
          {
           "sample_id": 0,
           "timepoint": 7,
           "trajectory": "D_data",
           "value": 0
          },
          {
           "sample_id": 0,
           "timepoint": 8,
           "trajectory": "D_data",
           "value": 1
          },
          {
           "sample_id": 0,
           "timepoint": 9,
           "trajectory": "D_data",
           "value": 1
          },
          {
           "sample_id": 0,
           "timepoint": 10,
           "trajectory": "D_data",
           "value": 1
          },
          {
           "sample_id": 0,
           "timepoint": 11,
           "trajectory": "D_data",
           "value": 4
          },
          {
           "sample_id": 0,
           "timepoint": 12,
           "trajectory": "D_data",
           "value": 9
          },
          {
           "sample_id": 0,
           "timepoint": 13,
           "trajectory": "D_data",
           "value": 19
          },
          {
           "sample_id": 0,
           "timepoint": 14,
           "trajectory": "D_data",
           "value": 30
          },
          {
           "sample_id": 0,
           "timepoint": 15,
           "trajectory": "D_data",
           "value": 51
          },
          {
           "sample_id": 0,
           "timepoint": 16,
           "trajectory": "D_data",
           "value": 77
          },
          {
           "sample_id": 0,
           "timepoint": 17,
           "trajectory": "D_data",
           "value": 129
          },
          {
           "sample_id": 0,
           "timepoint": 18,
           "trajectory": "D_data",
           "value": 175
          },
          {
           "sample_id": 0,
           "timepoint": 19,
           "trajectory": "D_data",
           "value": 226
          },
          {
           "sample_id": 0,
           "timepoint": 20,
           "trajectory": "D_data",
           "value": 315
          },
          {
           "sample_id": 0,
           "timepoint": 21,
           "trajectory": "D_data",
           "value": 427
          },
          {
           "sample_id": 0,
           "timepoint": 22,
           "trajectory": "D_data",
           "value": 565
          },
          {
           "sample_id": 0,
           "timepoint": 23,
           "trajectory": "D_data",
           "value": 759
          },
          {
           "sample_id": 0,
           "timepoint": 24,
           "trajectory": "D_data",
           "value": 984
          },
          {
           "sample_id": 0,
           "timepoint": 25,
           "trajectory": "D_data",
           "value": 1285
          },
          {
           "sample_id": 0,
           "timepoint": 26,
           "trajectory": "D_data",
           "value": 1603
          },
          {
           "sample_id": 0,
           "timepoint": 27,
           "trajectory": "D_data",
           "value": 1930
          },
          {
           "sample_id": 0,
           "timepoint": 28,
           "trajectory": "D_data",
           "value": 2334
          },
          {
           "sample_id": 0,
           "timepoint": 29,
           "trajectory": "D_data",
           "value": 2859
          },
          {
           "sample_id": 0,
           "timepoint": 30,
           "trajectory": "D_data",
           "value": 3420
          },
          {
           "sample_id": 0,
           "timepoint": 31,
           "trajectory": "D_data",
           "value": 3989
          },
          {
           "sample_id": 0,
           "timepoint": 32,
           "trajectory": "D_data",
           "value": 4634
          },
          {
           "sample_id": 0,
           "timepoint": 33,
           "trajectory": "D_data",
           "value": 5384
          },
          {
           "sample_id": 0,
           "timepoint": 34,
           "trajectory": "D_data",
           "value": 6185
          },
          {
           "sample_id": 0,
           "timepoint": 35,
           "trajectory": "D_data",
           "value": 7241
          },
          {
           "sample_id": 0,
           "timepoint": 36,
           "trajectory": "D_data",
           "value": 7985
          },
          {
           "sample_id": 0,
           "timepoint": 37,
           "trajectory": "D_data",
           "value": 8846
          },
          {
           "sample_id": 0,
           "timepoint": 38,
           "trajectory": "D_data",
           "value": 9579
          },
          {
           "sample_id": 0,
           "timepoint": 39,
           "trajectory": "D_data",
           "value": 10345
          },
          {
           "sample_id": 0,
           "timepoint": 40,
           "trajectory": "D_data",
           "value": 11126
          },
          {
           "sample_id": 0,
           "timepoint": 41,
           "trajectory": "D_data",
           "value": 11930
          },
          {
           "sample_id": 0,
           "timepoint": 42,
           "trajectory": "D_data",
           "value": 12669
          },
          {
           "sample_id": 0,
           "timepoint": 43,
           "trajectory": "D_data",
           "value": 13332
          },
          {
           "sample_id": 0,
           "timepoint": 44,
           "trajectory": "D_data",
           "value": 13987
          },
          {
           "sample_id": 0,
           "timepoint": 45,
           "trajectory": "D_data",
           "value": 14371
          },
          {
           "sample_id": 0,
           "timepoint": 46,
           "trajectory": "D_data",
           "value": 14780
          },
          {
           "sample_id": 0,
           "timepoint": 47,
           "trajectory": "D_data",
           "value": 15225
          },
          {
           "sample_id": 0,
           "timepoint": 48,
           "trajectory": "D_data",
           "value": 16116
          },
          {
           "sample_id": 0,
           "timepoint": 49,
           "trajectory": "D_data",
           "value": 16639
          },
          {
           "sample_id": 0,
           "timepoint": 50,
           "trajectory": "D_data",
           "value": 17091
          },
          {
           "sample_id": 0,
           "timepoint": 51,
           "trajectory": "D_data",
           "value": 17647
          },
          {
           "sample_id": 0,
           "timepoint": 52,
           "trajectory": "D_data",
           "value": 18132
          },
          {
           "sample_id": 0,
           "timepoint": 53,
           "trajectory": "D_data",
           "value": 18523
          },
          {
           "sample_id": 0,
           "timepoint": 54,
           "trajectory": "D_data",
           "value": 18882
          },
          {
           "sample_id": 0,
           "timepoint": 55,
           "trajectory": "D_data",
           "value": 19292
          },
          {
           "sample_id": 0,
           "timepoint": 56,
           "trajectory": "D_data",
           "value": 19602
          },
          {
           "sample_id": 0,
           "timepoint": 57,
           "trajectory": "D_data",
           "value": 20000
          },
          {
           "sample_id": 0,
           "timepoint": 58,
           "trajectory": "D_data",
           "value": 20334
          },
          {
           "sample_id": 0,
           "timepoint": 59,
           "trajectory": "D_data",
           "value": 20662
          }
         ]
        },
        {
         "name": "markers",
         "values": []
        },
        {
         "name": "selected",
         "on": [
          {
           "remove": true,
           "trigger": "clear"
          },
          {
           "remove": true,
           "trigger": "!shift"
          },
          {
           "insert": "clicked",
           "trigger": "!shift && clicked"
          },
          {
           "toggle": "clicked",
           "trigger": "shift && clicked"
          }
         ]
        }
       ],
       "height": 300,
       "legends": [
        {
         "encode": {
          "labels": {
           "interactive": true,
           "name": "legendLabel",
           "update": {
            "opacity": [
             {
              "test": "!length(data('selected')) || indata('selected', 'value', datum.value)",
              "value": 1
             },
             {
              "value": 0.25
             }
            ]
           }
          },
          "symbols": {
           "interactive": true,
           "name": "legendSymbol",
           "update": {
            "fill": {
             "value": "transparent"
            },
            "opacity": [
             {
              "test": "!length(data('selected')) || indata('selected', 'value', datum.value)",
              "value": 0.7
             },
             {
              "value": 0.15
             }
            ],
            "size": {
             "value": 64
            },
            "strokeWidth": {
             "value": 2
            }
           }
          }
         },
         "name": "color_legend",
         "stroke": "color"
        }
       ],
       "marks": [
        {
         "from": {
          "facet": {
           "data": "points",
           "groupby": "trajectory",
           "name": "points_split"
          }
         },
         "marks": [
          {
           "encode": {
            "hover": {
             "fillOpacity": {
              "value": 0.9
             }
            },
            "update": {
             "fill": {
              "field": "trajectory",
              "scale": "color"
             },
             "fillOpacity": [
              {
               "test": "!length(data('selected')) || indata('selected', 'value', datum.trajectory)",
               "value": 0.5
              },
              {
               "value": 0.15
              }
             ],
             "size": {
              "value": 10
             },
             "stroke": {
              "field": "trajectory",
              "scale": "color"
             },
             "strokeOpacity": [
              {
               "test": "!length(data('selected')) || indata('selected', 'value', datum.trajectory)",
               "value": 0.75
              },
              {
               "value": 0.15
              }
             ],
             "strokeWidth": {
              "value": 2
             },
             "tooltip": {
              "field": "value"
             },
             "x": {
              "field": "timepoint",
              "scale": "xscale"
             },
             "y": {
              "field": "value",
              "scale": "yscale"
             }
            }
           },
           "from": {
            "data": "points"
           },
           "name": "_points_symbol",
           "type": "symbol",
           "zindex": 3
          },
          {
           "encode": {
            "hover": {
             "fillOpacity": {
              "value": 0.9
             }
            },
            "update": {
             "interpolate": {
              "value": "linear"
             },
             "stroke": {
              "field": "trajectory",
              "scale": "color"
             },
             "strokeOpacity": [
              {
               "test": "!length(data('selected')) || indata('selected', 'value', datum.trajectory)",
               "value": 0.3
              },
              {
               "value": 0.1
              }
             ],
             "strokeWidth": {
              "value": 2
             },
             "x": {
              "field": "timepoint",
              "scale": "xscale"
             },
             "y": {
              "field": "value",
              "scale": "yscale"
             }
            }
           },
           "from": {
            "data": "points"
           },
           "name": "_points_line",
           "type": "line",
           "zindex": 3
          }
         ],
         "name": "_points",
         "type": "group",
         "zindex": 3
        },
        {
         "from": {
          "facet": {
           "data": "traces",
           "groupby": "trajectory",
           "name": "traces_split"
          }
         },
         "marks": [
          {
           "encode": {
            "hover": {
             "fillOpacity": {
              "value": 0.9
             }
            },
            "update": {
             "interpolate": {
              "value": "linear"
             },
             "stroke": {
              "field": "trajectory",
              "scale": "color"
             },
             "strokeOpacity": [
              {
               "test": "!length(data('selected')) || indata('selected', 'value', datum.trajectory)",
               "value": 0.75
              },
              {
               "value": 0.15
              }
             ],
             "strokeWidth": {
              "value": 2
             },
             "x": {
              "field": "timepoint",
              "scale": "xscale"
             },
             "y": {
              "field": "value",
              "scale": "yscale"
             }
            }
           },
           "from": {
            "data": "traces_split"
           },
           "name": "_traces_lines",
           "type": "line"
          }
         ],
         "name": "_traces",
         "type": "group",
         "zindex": 2
        },
        {
         "from": {
          "facet": {
           "data": "distributions",
           "groupby": "trajectory",
           "name": "trajectory_split"
          }
         },
         "marks": [
          {
           "encode": {
            "hover": {
             "fillOpacity": {
              "value": 0.9
             }
            },
            "update": {
             "fill": {
              "field": "trajectory",
              "scale": "color"
             },
             "fillOpacity": [
              {
               "test": "!length(data('selected')) || indata('selected', 'value', datum.trajectory)",
               "value": 0.5
              },
              {
               "value": 0.15
              }
             ],
             "interpolate": {
              "value": "linear"
             },
             "stroke": {
              "field": "trajectory",
              "scale": "color"
             },
             "strokeOpacity": [
              {
               "test": "!length(data('selected')) || indata('selected', 'value', datum.trajectory)",
               "value": 0.75
              },
              {
               "value": 0.15
              }
             ],
             "strokeWidth": {
              "value": 2
             },
             "x": {
              "field": "timepoint",
              "scale": "xscale"
             },
             "y": {
              "field": "upper",
              "scale": "yscale"
             },
             "y2": {
              "field": "lower",
              "scale": "yscale"
             }
            }
           },
           "from": {
            "data": "trajectory_split"
           },
           "type": "area"
          }
         ],
         "name": "_distributions",
         "type": "group",
         "zindex": 1
        },
        {
         "marks": [
          {
           "encode": {
            "enter": {
             "stroke": {
              "value": "lightgray"
             }
            },
            "update": {
             "opacity": {
              "value": 1
             },
             "x": {
              "field": "timepoint",
              "scale": "xscale"
             },
             "y": {
              "signal": "height"
             },
             "y2": {
              "value": 0
             }
            }
           },
           "from": {
            "data": "markers"
           },
           "name": "_marker text",
           "type": "rule"
          },
          {
           "encode": {
            "enter": {
             "fontSize": {
              "value": 8
             },
             "text": {
              "field": "datum.label"
             },
             "y": {
              "value": 0
             }
            }
           },
           "from": {
            "data": "_marker text"
           },
           "name": "_marker flags",
           "transform": [
            {
             "as": [
              "x",
              "_y",
              "opacity",
              "align",
              "baseline"
             ],
             "lineAnchor": "start",
             "offset": [
              1
             ],
             "size": {
              "signal": "[width, height]"
             },
             "type": "label"
            }
           ],
           "type": "text"
          }
         ],
         "name": "_markers",
         "type": "group"
        }
       ],
       "padding": 5,
       "scales": [
        {
         "domain": {
          "fields": [
           {
            "data": "distributions",
            "field": "timepoint"
           },
           {
            "data": "traces",
            "field": "timepoint"
           },
           {
            "data": "points",
            "field": "timepoint"
           },
           {
            "data": "markers",
            "field": "timepoint"
           }
          ]
         },
         "name": "xscale",
         "range": "width",
         "type": "linear",
         "zero": false
        },
        {
         "domain": {
          "fields": [
           {
            "data": "distributions",
            "field": "lower"
           },
           {
            "data": "distributions",
            "field": "upper"
           },
           {
            "data": "traces",
            "field": "value"
           },
           {
            "data": "points",
            "field": "value"
           }
          ]
         },
         "name": "yscale",
         "nice": true,
         "range": "height",
         "type": "linear",
         "zero": true
        },
        {
         "domain": {
          "fields": [
           {
            "data": "distributions",
            "field": "trajectory"
           },
           {
            "data": "traces",
            "field": "trajectory"
           },
           {
            "data": "points",
            "field": "trajectory"
           }
          ]
         },
         "name": "color",
         "range": "category",
         "type": "ordinal"
        }
       ],
       "signals": [
        {
         "name": "clear",
         "on": [
          {
           "events": "mouseup[!event.item]",
           "force": true,
           "update": "true"
          }
         ],
         "value": true
        },
        {
         "name": "shift",
         "on": [
          {
           "events": "@legendSymbol:click, @legendLabel:click",
           "force": true,
           "update": "event.shiftKey"
          }
         ],
         "value": false
        },
        {
         "name": "clicked",
         "on": [
          {
           "events": "@legendSymbol:click, @legendLabel:click",
           "force": true,
           "update": "{value: datum.value}"
          }
         ],
         "value": null
        }
       ],
       "width": 500
      }
     },
     "metadata": {},
     "output_type": "display_data"
    }
   ],
   "source": [
    "num_samples = 100\n",
    "model_paths = [model2_location, model7_location]\n",
    "data_path = \"../../notebook/ensemble_eval_sa/NY_data1.csv\"\n",
    "weights = [1/len(model_paths) for i in model_paths]\n",
    "solution_mappings = [{\"I\": \"I\", \"H\": \"H\", \"D\": \"D\"},\n",
    "                     {\"I\": \"infected\", \"H\": \"hospitalized\", \"D\": \"dead\"}\n",
    "                     ]\n",
    "\n",
    "# Run the calibration and sampling\n",
    "result4 = load_and_calibrate_and_sample_ensemble_model(\n",
    "    model_paths,\n",
    "    data_path,\n",
    "    weights,\n",
    "    solution_mappings,\n",
    "    num_samples,\n",
    "    timepoints,\n",
    "    verbose=True,\n",
    "    total_population=19340000,\n",
    "    num_iterations=500,\n",
    "    time_unit=\"days\",\n",
    "    visual_options={\"title\": \"Calibrated Ensemble\", \"subset\":\".*_sol\"}\n",
    ")\n",
    "\n",
    "# Save results\n",
    "result4[\"data\"].to_csv(\n",
    "    \"partI_ensemble_of_two_results.csv\", index=False\n",
    ")\n",
    "result4[\"quantiles\"].to_csv(\n",
    "    \"partI_ensemble_of_two_quantiles.csv\", index=False\n",
    ")\n",
    "\n",
    "# Plot results\n",
    "schema = plots.trajectories(pd.DataFrame(result4[\"data\"]), subset=\".*_sol\",\n",
    "                            points=test_data.reset_index(drop=True).rename(columns={\"I\":\"I_data\", \"H\":\"H_data\", \"D\":\"D_data\"}),\n",
    "                           )\n",
    "schema = plots.pad(schema, 5)\n",
    "plots.ipy_display(schema)"
   ]
  },
  {
   "cell_type": "code",
   "execution_count": 184,
   "id": "79bac950-7c34-47af-9fa6-d0ead7e78f88",
   "metadata": {},
   "outputs": [
    {
     "name": "stdout",
     "output_type": "stream",
     "text": [
      "iteration 0: loss = 731.6282063126564\n",
      "iteration 25: loss = 712.2264596223831\n",
      "iteration 50: loss = 643.2775917649269\n",
      "iteration 75: loss = 643.4467373490334\n",
      "iteration 100: loss = 643.8508707880974\n",
      "iteration 125: loss = 638.0158843994141\n",
      "iteration 150: loss = 639.4444034695625\n",
      "iteration 175: loss = 641.6682159304619\n",
      "iteration 200: loss = 636.3009222745895\n",
      "iteration 225: loss = 638.3280690312386\n",
      "iteration 250: loss = 638.1422500014305\n",
      "iteration 275: loss = 639.6344323754311\n",
      "iteration 300: loss = 636.7406968474388\n",
      "iteration 325: loss = 638.3488594889641\n",
      "iteration 350: loss = 638.5027226805687\n",
      "iteration 375: loss = 637.2335525155067\n",
      "iteration 400: loss = 639.5806286931038\n",
      "iteration 425: loss = 635.3791239857674\n",
      "iteration 450: loss = 633.2959784865379\n",
      "iteration 475: loss = 641.0948089957237\n",
      "\n"
     ]
    },
    {
     "data": {
      "application/vnd.vega.v5+json": {
       "$schema": "https://vega.github.io/schema/vega/v5.json",
       "axes": [
        {
         "name": "x_axis",
         "orient": "bottom",
         "scale": "xscale",
         "zindex": 100
        },
        {
         "name": "y_axis",
         "orient": "left",
         "scale": "yscale",
         "zindex": 100
        }
       ],
       "data": [
        {
         "name": "distributions",
         "values": [
          {
           "lower": 1.9403818051734033e-22,
           "timepoint": 0,
           "trajectory": "D_sol",
           "upper": 1.372229138602401e-21
          },
          {
           "lower": 0.023867120407521723,
           "timepoint": 1,
           "trajectory": "D_sol",
           "upper": 0.15880969315767288
          },
          {
           "lower": 0.1090337198227644,
           "timepoint": 2,
           "trajectory": "D_sol",
           "upper": 0.699329087138176
          },
          {
           "lower": 0.27347038984298705,
           "timepoint": 3,
           "trajectory": "D_sol",
           "upper": 1.6631782054901123
          },
          {
           "lower": 0.5351549446582794,
           "timepoint": 4,
           "trajectory": "D_sol",
           "upper": 3.1357200145721436
          },
          {
           "lower": 0.9114328414201737,
           "timepoint": 5,
           "trajectory": "D_sol",
           "upper": 5.152249884605408
          },
          {
           "lower": 1.4181448578834535,
           "timepoint": 6,
           "trajectory": "D_sol",
           "upper": 7.7811836957931515
          },
          {
           "lower": 2.0719727516174316,
           "timepoint": 7,
           "trajectory": "D_sol",
           "upper": 11.092107105255128
          },
          {
           "lower": 2.828762423992157,
           "timepoint": 8,
           "trajectory": "D_sol",
           "upper": 15.117802476882934
          },
          {
           "lower": 3.863755941390991,
           "timepoint": 9,
           "trajectory": "D_sol",
           "upper": 20.040199279785156
          },
          {
           "lower": 5.156511306762695,
           "timepoint": 10,
           "trajectory": "D_sol",
           "upper": 25.874959087371828
          },
          {
           "lower": 6.684365272521973,
           "timepoint": 11,
           "trajectory": "D_sol",
           "upper": 32.89506874084473
          },
          {
           "lower": 8.543786334991456,
           "timepoint": 12,
           "trajectory": "D_sol",
           "upper": 41.38110542297363
          },
          {
           "lower": 10.801536750793456,
           "timepoint": 13,
           "trajectory": "D_sol",
           "upper": 51.59440689086914
          },
          {
           "lower": 13.538236904144288,
           "timepoint": 14,
           "trajectory": "D_sol",
           "upper": 63.895393180847165
          },
          {
           "lower": 16.850063610076905,
           "timepoint": 15,
           "trajectory": "D_sol",
           "upper": 79.27563362121582
          },
          {
           "lower": 20.850026512145995,
           "timepoint": 16,
           "trajectory": "D_sol",
           "upper": 97.41065711975098
          },
          {
           "lower": 25.66858434677124,
           "timepoint": 17,
           "trajectory": "D_sol",
           "upper": 119.24563255310058
          },
          {
           "lower": 31.453175640106203,
           "timepoint": 18,
           "trajectory": "D_sol",
           "upper": 145.4778060913086
          },
          {
           "lower": 38.36575412750244,
           "timepoint": 19,
           "trajectory": "D_sol",
           "upper": 176.9239074707031
          },
          {
           "lower": 46.57841777801514,
           "timepoint": 20,
           "trajectory": "D_sol",
           "upper": 214.44365158081055
          },
          {
           "lower": 56.26628665924072,
           "timepoint": 21,
           "trajectory": "D_sol",
           "upper": 258.9383850097656
          },
          {
           "lower": 67.59777336120605,
           "timepoint": 22,
           "trajectory": "D_sol",
           "upper": 310.7291259765625
          },
          {
           "lower": 80.72356834411622,
           "timepoint": 23,
           "trajectory": "D_sol",
           "upper": 369.5350799560547
          },
          {
           "lower": 95.76478462219238,
           "timepoint": 24,
           "trajectory": "D_sol",
           "upper": 439.5046142578125
          },
          {
           "lower": 112.8025966644287,
           "timepoint": 25,
           "trajectory": "D_sol",
           "upper": 520.7424255371094
          },
          {
           "lower": 131.8703514099121,
           "timepoint": 26,
           "trajectory": "D_sol",
           "upper": 609.1930969238281
          },
          {
           "lower": 152.95009689331056,
           "timepoint": 27,
           "trajectory": "D_sol",
           "upper": 701.7245513916015
          },
          {
           "lower": 175.97262649536134,
           "timepoint": 28,
           "trajectory": "D_sol",
           "upper": 803.285464477539
          },
          {
           "lower": 200.8222854614258,
           "timepoint": 29,
           "trajectory": "D_sol",
           "upper": 919.7477966308593
          },
          {
           "lower": 227.34409942626954,
           "timepoint": 30,
           "trajectory": "D_sol",
           "upper": 1045.0191406249999
          },
          {
           "lower": 255.37487106323243,
           "timepoint": 31,
           "trajectory": "D_sol",
           "upper": 1178.4185913085937
          },
          {
           "lower": 284.7178131103516,
           "timepoint": 32,
           "trajectory": "D_sol",
           "upper": 1319.1589538574217
          },
          {
           "lower": 315.1309326171875,
           "timepoint": 33,
           "trajectory": "D_sol",
           "upper": 1466.3842346191404
          },
          {
           "lower": 346.39658203125,
           "timepoint": 34,
           "trajectory": "D_sol",
           "upper": 1619.2105407714841
          },
          {
           "lower": 378.2997619628906,
           "timepoint": 35,
           "trajectory": "D_sol",
           "upper": 1776.7463378906248
          },
          {
           "lower": 410.6372756958008,
           "timepoint": 36,
           "trajectory": "D_sol",
           "upper": 1938.1310302734373
          },
          {
           "lower": 443.2195388793945,
           "timepoint": 37,
           "trajectory": "D_sol",
           "upper": 2102.539562988281
          },
          {
           "lower": 475.8735382080078,
           "timepoint": 38,
           "trajectory": "D_sol",
           "upper": 2269.203271484375
          },
          {
           "lower": 508.4446823120117,
           "timepoint": 39,
           "trajectory": "D_sol",
           "upper": 2437.4148559570312
          },
          {
           "lower": 536.8068496704102,
           "timepoint": 40,
           "trajectory": "D_sol",
           "upper": 2606.5333862304688
          },
          {
           "lower": 559.071826171875,
           "timepoint": 41,
           "trajectory": "D_sol",
           "upper": 2775.9844360351562
          },
          {
           "lower": 580.4699951171875,
           "timepoint": 42,
           "trajectory": "D_sol",
           "upper": 2933.5404052734375
          },
          {
           "lower": 600.9837707519531,
           "timepoint": 43,
           "trajectory": "D_sol",
           "upper": 3087.3204467773435
          },
          {
           "lower": 620.60849609375,
           "timepoint": 44,
           "trajectory": "D_sol",
           "upper": 3238.1083374023438
          },
          {
           "lower": 639.3433380126953,
           "timepoint": 45,
           "trajectory": "D_sol",
           "upper": 3385.607641601562
          },
          {
           "lower": 659.3293090820313,
           "timepoint": 46,
           "trajectory": "D_sol",
           "upper": 3529.5846435546873
          },
          {
           "lower": 683.9718505859375,
           "timepoint": 47,
           "trajectory": "D_sol",
           "upper": 3669.8449584960936
          },
          {
           "lower": 707.9011199951171,
           "timepoint": 48,
           "trajectory": "D_sol",
           "upper": 3806.2643066406245
          },
          {
           "lower": 731.6048797607422,
           "timepoint": 49,
           "trajectory": "D_sol",
           "upper": 3938.7492309570307
          },
          {
           "lower": 754.6436706542969,
           "timepoint": 50,
           "trajectory": "D_sol",
           "upper": 4067.2449829101556
          },
          {
           "lower": 776.9748687744141,
           "timepoint": 51,
           "trajectory": "D_sol",
           "upper": 4220.734374999999
          },
          {
           "lower": 798.6025360107421,
           "timepoint": 52,
           "trajectory": "D_sol",
           "upper": 4387.609765624999
          },
          {
           "lower": 819.5344818115234,
           "timepoint": 53,
           "trajectory": "D_sol",
           "upper": 4553.5572265625
          },
          {
           "lower": 839.78017578125,
           "timepoint": 54,
           "trajectory": "D_sol",
           "upper": 4718.498974609374
          },
          {
           "lower": 859.3523742675782,
           "timepoint": 55,
           "trajectory": "D_sol",
           "upper": 4882.372119140625
          },
          {
           "lower": 878.8679779052734,
           "timepoint": 56,
           "trajectory": "D_sol",
           "upper": 5045.121044921874
          },
          {
           "lower": 900.0951080322266,
           "timepoint": 57,
           "trajectory": "D_sol",
           "upper": 5206.710009765625
          },
          {
           "lower": 919.3301727294922,
           "timepoint": 58,
           "trajectory": "D_sol",
           "upper": 5367.090795898437
          },
          {
           "lower": 931.5010589599609,
           "timepoint": 59,
           "trajectory": "D_sol",
           "upper": 5526.243115234375
          },
          {
           "lower": 194.92070922851562,
           "timepoint": 0,
           "trajectory": "I_sol",
           "upper": 199.58259124755858
          },
          {
           "lower": 380.43374786376955,
           "timepoint": 1,
           "trajectory": "I_sol",
           "upper": 414.16894683837893
          },
          {
           "lower": 539.1987609863281,
           "timepoint": 2,
           "trajectory": "I_sol",
           "upper": 600.7909606933594
          },
          {
           "lower": 697.4105651855468,
           "timepoint": 3,
           "trajectory": "I_sol",
           "upper": 789.0975921630859
          },
          {
           "lower": 856.933251953125,
           "timepoint": 4,
           "trajectory": "I_sol",
           "upper": 994.8460540771484
          },
          {
           "lower": 1031.529034423828,
           "timepoint": 5,
           "trajectory": "I_sol",
           "upper": 1235.6028625488282
          },
          {
           "lower": 1238.6449340820313,
           "timepoint": 6,
           "trajectory": "I_sol",
           "upper": 1524.1997131347657
          },
          {
           "lower": 1514.9575134277343,
           "timepoint": 7,
           "trajectory": "I_sol",
           "upper": 1877.117803955078
          },
          {
           "lower": 1853.1727294921875,
           "timepoint": 8,
           "trajectory": "I_sol",
           "upper": 2318.0461181640626
          },
          {
           "lower": 2219.9412109375,
           "timepoint": 9,
           "trajectory": "I_sol",
           "upper": 2844.0400268554686
          },
          {
           "lower": 2696.082421875,
           "timepoint": 10,
           "trajectory": "I_sol",
           "upper": 3495.977392578125
          },
          {
           "lower": 3274.358544921875,
           "timepoint": 11,
           "trajectory": "I_sol",
           "upper": 4293.8558349609375
          },
          {
           "lower": 3972.7194213867188,
           "timepoint": 12,
           "trajectory": "I_sol",
           "upper": 5259.088940429688
          },
          {
           "lower": 4812.196997070312,
           "timepoint": 13,
           "trajectory": "I_sol",
           "upper": 6423.0179443359375
          },
          {
           "lower": 5814.96220703125,
           "timepoint": 14,
           "trajectory": "I_sol",
           "upper": 7849.162915039063
          },
          {
           "lower": 7002.785400390625,
           "timepoint": 15,
           "trajectory": "I_sol",
           "upper": 9555.1419921875
          },
          {
           "lower": 8394.584814453125,
           "timepoint": 16,
           "trajectory": "I_sol",
           "upper": 11560.15224609375
          },
          {
           "lower": 9935.418115234375,
           "timepoint": 17,
           "trajectory": "I_sol",
           "upper": 13899.59033203125
          },
          {
           "lower": 11616.508935546875,
           "timepoint": 18,
           "trajectory": "I_sol",
           "upper": 16587.69150390625
          },
          {
           "lower": 13465.566015625,
           "timepoint": 19,
           "trajectory": "I_sol",
           "upper": 19616.97705078125
          },
          {
           "lower": 15574.819287109374,
           "timepoint": 20,
           "trajectory": "I_sol",
           "upper": 22952.94033203125
          },
          {
           "lower": 17642.35517578125,
           "timepoint": 21,
           "trajectory": "I_sol",
           "upper": 26528.422265625
          },
          {
           "lower": 19725.12451171875,
           "timepoint": 22,
           "trajectory": "I_sol",
           "upper": 30247.4515625
          },
          {
           "lower": 21747.81982421875,
           "timepoint": 23,
           "trajectory": "I_sol",
           "upper": 33877.398046875
          },
          {
           "lower": 23634.1509765625,
           "timepoint": 24,
           "trajectory": "I_sol",
           "upper": 37492.8162109375
          },
          {
           "lower": 25315.7560546875,
           "timepoint": 25,
           "trajectory": "I_sol",
           "upper": 40695.701171875
          },
          {
           "lower": 26739.48916015625,
           "timepoint": 26,
           "trajectory": "I_sol",
           "upper": 43797.6318359375
          },
          {
           "lower": 27885.349609375,
           "timepoint": 27,
           "trajectory": "I_sol",
           "upper": 46504.9841796875
          },
          {
           "lower": 28627.25888671875,
           "timepoint": 28,
           "trajectory": "I_sol",
           "upper": 48773.542187499996
          },
          {
           "lower": 28704.255859375,
           "timepoint": 29,
           "trajectory": "I_sol",
           "upper": 50590.21640625
          },
          {
           "lower": 28828.458984375,
           "timepoint": 30,
           "trajectory": "I_sol",
           "upper": 51967.3845703125
          },
          {
           "lower": 28973.765234375,
           "timepoint": 31,
           "trajectory": "I_sol",
           "upper": 52936.1083984375
          },
          {
           "lower": 28899.085546875,
           "timepoint": 32,
           "trajectory": "I_sol",
           "upper": 53539.23828125
          },
          {
           "lower": 28639.15107421875,
           "timepoint": 33,
           "trajectory": "I_sol",
           "upper": 53825.199414062496
          },
          {
           "lower": 28228.24580078125,
           "timepoint": 34,
           "trajectory": "I_sol",
           "upper": 53843.47734375
          },
          {
           "lower": 27525.9443359375,
           "timepoint": 35,
           "trajectory": "I_sol",
           "upper": 53641.0619140625
          },
          {
           "lower": 26442.39931640625,
           "timepoint": 36,
           "trajectory": "I_sol",
           "upper": 53260.781445312496
          },
          {
           "lower": 25155.6875,
           "timepoint": 37,
           "trajectory": "I_sol",
           "upper": 52739.91406249999
          },
          {
           "lower": 23848.6849609375,
           "timepoint": 38,
           "trajectory": "I_sol",
           "upper": 52120.494335937496
          },
          {
           "lower": 22485.3263671875,
           "timepoint": 39,
           "trajectory": "I_sol",
           "upper": 51716.236523437496
          },
          {
           "lower": 21154.30703125,
           "timepoint": 40,
           "trajectory": "I_sol",
           "upper": 51249.869921875
          },
          {
           "lower": 19867.1052734375,
           "timepoint": 41,
           "trajectory": "I_sol",
           "upper": 50736.620312499996
          },
          {
           "lower": 18631.55576171875,
           "timepoint": 42,
           "trajectory": "I_sol",
           "upper": 50188.8599609375
          },
          {
           "lower": 17452.60732421875,
           "timepoint": 43,
           "trajectory": "I_sol",
           "upper": 49616.148828125
          },
          {
           "lower": 16332.97451171875,
           "timepoint": 44,
           "trajectory": "I_sol",
           "upper": 49026.0896484375
          },
          {
           "lower": 15273.67607421875,
           "timepoint": 45,
           "trajectory": "I_sol",
           "upper": 48424.539453125
          },
          {
           "lower": 14274.469433593751,
           "timepoint": 46,
           "trajectory": "I_sol",
           "upper": 47752.0146484375
          },
          {
           "lower": 13334.20634765625,
           "timepoint": 47,
           "trajectory": "I_sol",
           "upper": 46969.3021484375
          },
          {
           "lower": 12451.09765625,
           "timepoint": 48,
           "trajectory": "I_sol",
           "upper": 46190.556640625
          },
          {
           "lower": 11622.934130859376,
           "timepoint": 49,
           "trajectory": "I_sol",
           "upper": 45417.8861328125
          },
          {
           "lower": 10847.232763671875,
           "timepoint": 50,
           "trajectory": "I_sol",
           "upper": 44652.771484375
          },
          {
           "lower": 10121.37353515625,
           "timepoint": 51,
           "trajectory": "I_sol",
           "upper": 43896.343945312496
          },
          {
           "lower": 9442.668310546875,
           "timepoint": 52,
           "trajectory": "I_sol",
           "upper": 43149.36171875
          },
          {
           "lower": 8808.427441406251,
           "timepoint": 53,
           "trajectory": "I_sol",
           "upper": 42412.3708984375
          },
          {
           "lower": 8216.044287109375,
           "timepoint": 54,
           "trajectory": "I_sol",
           "upper": 41685.826953125
          },
          {
           "lower": 7650.820385742188,
           "timepoint": 55,
           "trajectory": "I_sol",
           "upper": 40969.8548828125
          },
          {
           "lower": 7100.645922851562,
           "timepoint": 56,
           "trajectory": "I_sol",
           "upper": 40264.638281249994
          },
          {
           "lower": 6589.6090087890625,
           "timepoint": 57,
           "trajectory": "I_sol",
           "upper": 39570.21132812499
          },
          {
           "lower": 6115.049658203126,
           "timepoint": 58,
           "trajectory": "I_sol",
           "upper": 38886.605078124994
          },
          {
           "lower": 5674.441918945313,
           "timepoint": 59,
           "trajectory": "I_sol",
           "upper": 38213.74511718749
          }
         ]
        },
        {
         "name": "traces",
         "transform": [
          {
           "expr": "isValid(datum.value)",
           "type": "filter"
          }
         ],
         "values": []
        },
        {
         "name": "points",
         "values": [
          {
           "sample_id": 0,
           "timepoint": 0,
           "trajectory": "I_data",
           "value": 1
          },
          {
           "sample_id": 0,
           "timepoint": 1,
           "trajectory": "I_data",
           "value": 10
          },
          {
           "sample_id": 0,
           "timepoint": 2,
           "trajectory": "I_data",
           "value": 21
          },
          {
           "sample_id": 0,
           "timepoint": 3,
           "trajectory": "I_data",
           "value": 24
          },
          {
           "sample_id": 0,
           "timepoint": 4,
           "trajectory": "I_data",
           "value": 76
          },
          {
           "sample_id": 0,
           "timepoint": 5,
           "trajectory": "I_data",
           "value": 104
          },
          {
           "sample_id": 0,
           "timepoint": 6,
           "trajectory": "I_data",
           "value": 128
          },
          {
           "sample_id": 0,
           "timepoint": 7,
           "trajectory": "I_data",
           "value": 131
          },
          {
           "sample_id": 0,
           "timepoint": 8,
           "trajectory": "I_data",
           "value": 192
          },
          {
           "sample_id": 0,
           "timepoint": 9,
           "trajectory": "I_data",
           "value": 220
          },
          {
           "sample_id": 0,
           "timepoint": 10,
           "trajectory": "I_data",
           "value": 274
          },
          {
           "sample_id": 0,
           "timepoint": 11,
           "trajectory": "I_data",
           "value": 394
          },
          {
           "sample_id": 0,
           "timepoint": 12,
           "trajectory": "I_data",
           "value": 481
          },
          {
           "sample_id": 0,
           "timepoint": 13,
           "trajectory": "I_data",
           "value": 745
          },
          {
           "sample_id": 0,
           "timepoint": 14,
           "trajectory": "I_data",
           "value": 1111
          },
          {
           "sample_id": 0,
           "timepoint": 15,
           "trajectory": "I_data",
           "value": 2128
          },
          {
           "sample_id": 0,
           "timepoint": 16,
           "trajectory": "I_data",
           "value": 3671
          },
          {
           "sample_id": 0,
           "timepoint": 17,
           "trajectory": "I_data",
           "value": 6578
          },
          {
           "sample_id": 0,
           "timepoint": 18,
           "trajectory": "I_data",
           "value": 9449
          },
          {
           "sample_id": 0,
           "timepoint": 19,
           "trajectory": "I_data",
           "value": 13761
          },
          {
           "sample_id": 0,
           "timepoint": 20,
           "trajectory": "I_data",
           "value": 18270
          },
          {
           "sample_id": 0,
           "timepoint": 21,
           "trajectory": "I_data",
           "value": 21478
          },
          {
           "sample_id": 0,
           "timepoint": 22,
           "trajectory": "I_data",
           "value": 23630
          },
          {
           "sample_id": 0,
           "timepoint": 23,
           "trajectory": "I_data",
           "value": 26987
          },
          {
           "sample_id": 0,
           "timepoint": 24,
           "trajectory": "I_data",
           "value": 29533
          },
          {
           "sample_id": 0,
           "timepoint": 25,
           "trajectory": "I_data",
           "value": 31623
          },
          {
           "sample_id": 0,
           "timepoint": 26,
           "trajectory": "I_data",
           "value": 33967
          },
          {
           "sample_id": 0,
           "timepoint": 27,
           "trajectory": "I_data",
           "value": 35822
          },
          {
           "sample_id": 0,
           "timepoint": 28,
           "trajectory": "I_data",
           "value": 38456
          },
          {
           "sample_id": 0,
           "timepoint": 29,
           "trajectory": "I_data",
           "value": 45676
          },
          {
           "sample_id": 0,
           "timepoint": 30,
           "trajectory": "I_data",
           "value": 48380
          },
          {
           "sample_id": 0,
           "timepoint": 31,
           "trajectory": "I_data",
           "value": 51807
          },
          {
           "sample_id": 0,
           "timepoint": 32,
           "trajectory": "I_data",
           "value": 55042
          },
          {
           "sample_id": 0,
           "timepoint": 33,
           "trajectory": "I_data",
           "value": 56847
          },
          {
           "sample_id": 0,
           "timepoint": 34,
           "trajectory": "I_data",
           "value": 52184
          },
          {
           "sample_id": 0,
           "timepoint": 35,
           "trajectory": "I_data",
           "value": 49194
          },
          {
           "sample_id": 0,
           "timepoint": 36,
           "trajectory": "I_data",
           "value": 48730
          },
          {
           "sample_id": 0,
           "timepoint": 37,
           "trajectory": "I_data",
           "value": 50551
          },
          {
           "sample_id": 0,
           "timepoint": 38,
           "trajectory": "I_data",
           "value": 51029
          },
          {
           "sample_id": 0,
           "timepoint": 39,
           "trajectory": "I_data",
           "value": 49701
          },
          {
           "sample_id": 0,
           "timepoint": 40,
           "trajectory": "I_data",
           "value": 50661
          },
          {
           "sample_id": 0,
           "timepoint": 41,
           "trajectory": "I_data",
           "value": 48303
          },
          {
           "sample_id": 0,
           "timepoint": 42,
           "trajectory": "I_data",
           "value": 43703
          },
          {
           "sample_id": 0,
           "timepoint": 43,
           "trajectory": "I_data",
           "value": 38888
          },
          {
           "sample_id": 0,
           "timepoint": 44,
           "trajectory": "I_data",
           "value": 38244
          },
          {
           "sample_id": 0,
           "timepoint": 45,
           "trajectory": "I_data",
           "value": 36857
          },
          {
           "sample_id": 0,
           "timepoint": 46,
           "trajectory": "I_data",
           "value": 35881
          },
          {
           "sample_id": 0,
           "timepoint": 47,
           "trajectory": "I_data",
           "value": 35054
          },
          {
           "sample_id": 0,
           "timepoint": 48,
           "trajectory": "I_data",
           "value": 34782
          },
          {
           "sample_id": 0,
           "timepoint": 49,
           "trajectory": "I_data",
           "value": 31526
          },
          {
           "sample_id": 0,
           "timepoint": 50,
           "trajectory": "I_data",
           "value": 28799
          },
          {
           "sample_id": 0,
           "timepoint": 51,
           "trajectory": "I_data",
           "value": 27419
          },
          {
           "sample_id": 0,
           "timepoint": 52,
           "trajectory": "I_data",
           "value": 27443
          },
          {
           "sample_id": 0,
           "timepoint": 53,
           "trajectory": "I_data",
           "value": 30499
          },
          {
           "sample_id": 0,
           "timepoint": 54,
           "trajectory": "I_data",
           "value": 31543
          },
          {
           "sample_id": 0,
           "timepoint": 55,
           "trajectory": "I_data",
           "value": 31597
          },
          {
           "sample_id": 0,
           "timepoint": 56,
           "trajectory": "I_data",
           "value": 29008
          },
          {
           "sample_id": 0,
           "timepoint": 57,
           "trajectory": "I_data",
           "value": 25476
          },
          {
           "sample_id": 0,
           "timepoint": 58,
           "trajectory": "I_data",
           "value": 20411
          },
          {
           "sample_id": 0,
           "timepoint": 59,
           "trajectory": "I_data",
           "value": 19224
          },
          {
           "sample_id": 0,
           "timepoint": 38,
           "trajectory": "H_data",
           "value": 0
          },
          {
           "sample_id": 0,
           "timepoint": 39,
           "trajectory": "H_data",
           "value": 0
          },
          {
           "sample_id": 0,
           "timepoint": 45,
           "trajectory": "H_data",
           "value": 0
          },
          {
           "sample_id": 0,
           "timepoint": 46,
           "trajectory": "H_data",
           "value": 1
          },
          {
           "sample_id": 0,
           "timepoint": 52,
           "trajectory": "H_data",
           "value": 0
          },
          {
           "sample_id": 0,
           "timepoint": 53,
           "trajectory": "H_data",
           "value": 0
          },
          {
           "sample_id": 0,
           "timepoint": 54,
           "trajectory": "H_data",
           "value": 1
          },
          {
           "sample_id": 0,
           "timepoint": 55,
           "trajectory": "H_data",
           "value": 0
          },
          {
           "sample_id": 0,
           "timepoint": 56,
           "trajectory": "H_data",
           "value": 0
          },
          {
           "sample_id": 0,
           "timepoint": 57,
           "trajectory": "H_data",
           "value": 0
          },
          {
           "sample_id": 0,
           "timepoint": 58,
           "trajectory": "H_data",
           "value": 0
          },
          {
           "sample_id": 0,
           "timepoint": 59,
           "trajectory": "H_data",
           "value": 0
          },
          {
           "sample_id": 0,
           "timepoint": 0,
           "trajectory": "D_data",
           "value": 0
          },
          {
           "sample_id": 0,
           "timepoint": 1,
           "trajectory": "D_data",
           "value": 0
          },
          {
           "sample_id": 0,
           "timepoint": 2,
           "trajectory": "D_data",
           "value": 0
          },
          {
           "sample_id": 0,
           "timepoint": 3,
           "trajectory": "D_data",
           "value": 0
          },
          {
           "sample_id": 0,
           "timepoint": 4,
           "trajectory": "D_data",
           "value": 0
          },
          {
           "sample_id": 0,
           "timepoint": 5,
           "trajectory": "D_data",
           "value": 0
          },
          {
           "sample_id": 0,
           "timepoint": 6,
           "trajectory": "D_data",
           "value": 0
          },
          {
           "sample_id": 0,
           "timepoint": 7,
           "trajectory": "D_data",
           "value": 0
          },
          {
           "sample_id": 0,
           "timepoint": 8,
           "trajectory": "D_data",
           "value": 1
          },
          {
           "sample_id": 0,
           "timepoint": 9,
           "trajectory": "D_data",
           "value": 1
          },
          {
           "sample_id": 0,
           "timepoint": 10,
           "trajectory": "D_data",
           "value": 1
          },
          {
           "sample_id": 0,
           "timepoint": 11,
           "trajectory": "D_data",
           "value": 4
          },
          {
           "sample_id": 0,
           "timepoint": 12,
           "trajectory": "D_data",
           "value": 9
          },
          {
           "sample_id": 0,
           "timepoint": 13,
           "trajectory": "D_data",
           "value": 19
          },
          {
           "sample_id": 0,
           "timepoint": 14,
           "trajectory": "D_data",
           "value": 30
          },
          {
           "sample_id": 0,
           "timepoint": 15,
           "trajectory": "D_data",
           "value": 51
          },
          {
           "sample_id": 0,
           "timepoint": 16,
           "trajectory": "D_data",
           "value": 77
          },
          {
           "sample_id": 0,
           "timepoint": 17,
           "trajectory": "D_data",
           "value": 129
          },
          {
           "sample_id": 0,
           "timepoint": 18,
           "trajectory": "D_data",
           "value": 175
          },
          {
           "sample_id": 0,
           "timepoint": 19,
           "trajectory": "D_data",
           "value": 226
          },
          {
           "sample_id": 0,
           "timepoint": 20,
           "trajectory": "D_data",
           "value": 315
          },
          {
           "sample_id": 0,
           "timepoint": 21,
           "trajectory": "D_data",
           "value": 427
          },
          {
           "sample_id": 0,
           "timepoint": 22,
           "trajectory": "D_data",
           "value": 565
          },
          {
           "sample_id": 0,
           "timepoint": 23,
           "trajectory": "D_data",
           "value": 759
          },
          {
           "sample_id": 0,
           "timepoint": 24,
           "trajectory": "D_data",
           "value": 984
          },
          {
           "sample_id": 0,
           "timepoint": 25,
           "trajectory": "D_data",
           "value": 1285
          },
          {
           "sample_id": 0,
           "timepoint": 26,
           "trajectory": "D_data",
           "value": 1603
          },
          {
           "sample_id": 0,
           "timepoint": 27,
           "trajectory": "D_data",
           "value": 1930
          },
          {
           "sample_id": 0,
           "timepoint": 28,
           "trajectory": "D_data",
           "value": 2334
          },
          {
           "sample_id": 0,
           "timepoint": 29,
           "trajectory": "D_data",
           "value": 2859
          },
          {
           "sample_id": 0,
           "timepoint": 30,
           "trajectory": "D_data",
           "value": 3420
          },
          {
           "sample_id": 0,
           "timepoint": 31,
           "trajectory": "D_data",
           "value": 3989
          },
          {
           "sample_id": 0,
           "timepoint": 32,
           "trajectory": "D_data",
           "value": 4634
          },
          {
           "sample_id": 0,
           "timepoint": 33,
           "trajectory": "D_data",
           "value": 5384
          },
          {
           "sample_id": 0,
           "timepoint": 34,
           "trajectory": "D_data",
           "value": 6185
          },
          {
           "sample_id": 0,
           "timepoint": 35,
           "trajectory": "D_data",
           "value": 7241
          },
          {
           "sample_id": 0,
           "timepoint": 36,
           "trajectory": "D_data",
           "value": 7985
          },
          {
           "sample_id": 0,
           "timepoint": 37,
           "trajectory": "D_data",
           "value": 8846
          },
          {
           "sample_id": 0,
           "timepoint": 38,
           "trajectory": "D_data",
           "value": 9579
          },
          {
           "sample_id": 0,
           "timepoint": 39,
           "trajectory": "D_data",
           "value": 10345
          },
          {
           "sample_id": 0,
           "timepoint": 40,
           "trajectory": "D_data",
           "value": 11126
          },
          {
           "sample_id": 0,
           "timepoint": 41,
           "trajectory": "D_data",
           "value": 11930
          },
          {
           "sample_id": 0,
           "timepoint": 42,
           "trajectory": "D_data",
           "value": 12669
          },
          {
           "sample_id": 0,
           "timepoint": 43,
           "trajectory": "D_data",
           "value": 13332
          },
          {
           "sample_id": 0,
           "timepoint": 44,
           "trajectory": "D_data",
           "value": 13987
          },
          {
           "sample_id": 0,
           "timepoint": 45,
           "trajectory": "D_data",
           "value": 14371
          },
          {
           "sample_id": 0,
           "timepoint": 46,
           "trajectory": "D_data",
           "value": 14780
          },
          {
           "sample_id": 0,
           "timepoint": 47,
           "trajectory": "D_data",
           "value": 15225
          },
          {
           "sample_id": 0,
           "timepoint": 48,
           "trajectory": "D_data",
           "value": 16116
          },
          {
           "sample_id": 0,
           "timepoint": 49,
           "trajectory": "D_data",
           "value": 16639
          },
          {
           "sample_id": 0,
           "timepoint": 50,
           "trajectory": "D_data",
           "value": 17091
          },
          {
           "sample_id": 0,
           "timepoint": 51,
           "trajectory": "D_data",
           "value": 17647
          },
          {
           "sample_id": 0,
           "timepoint": 52,
           "trajectory": "D_data",
           "value": 18132
          },
          {
           "sample_id": 0,
           "timepoint": 53,
           "trajectory": "D_data",
           "value": 18523
          },
          {
           "sample_id": 0,
           "timepoint": 54,
           "trajectory": "D_data",
           "value": 18882
          },
          {
           "sample_id": 0,
           "timepoint": 55,
           "trajectory": "D_data",
           "value": 19292
          },
          {
           "sample_id": 0,
           "timepoint": 56,
           "trajectory": "D_data",
           "value": 19602
          },
          {
           "sample_id": 0,
           "timepoint": 57,
           "trajectory": "D_data",
           "value": 20000
          },
          {
           "sample_id": 0,
           "timepoint": 58,
           "trajectory": "D_data",
           "value": 20334
          },
          {
           "sample_id": 0,
           "timepoint": 59,
           "trajectory": "D_data",
           "value": 20662
          }
         ]
        },
        {
         "name": "markers",
         "values": []
        },
        {
         "name": "selected",
         "on": [
          {
           "remove": true,
           "trigger": "clear"
          },
          {
           "remove": true,
           "trigger": "!shift"
          },
          {
           "insert": "clicked",
           "trigger": "!shift && clicked"
          },
          {
           "toggle": "clicked",
           "trigger": "shift && clicked"
          }
         ]
        }
       ],
       "height": 300,
       "legends": [
        {
         "encode": {
          "labels": {
           "interactive": true,
           "name": "legendLabel",
           "update": {
            "opacity": [
             {
              "test": "!length(data('selected')) || indata('selected', 'value', datum.value)",
              "value": 1
             },
             {
              "value": 0.25
             }
            ]
           }
          },
          "symbols": {
           "interactive": true,
           "name": "legendSymbol",
           "update": {
            "fill": {
             "value": "transparent"
            },
            "opacity": [
             {
              "test": "!length(data('selected')) || indata('selected', 'value', datum.value)",
              "value": 0.7
             },
             {
              "value": 0.15
             }
            ],
            "size": {
             "value": 64
            },
            "strokeWidth": {
             "value": 2
            }
           }
          }
         },
         "name": "color_legend",
         "stroke": "color"
        }
       ],
       "marks": [
        {
         "from": {
          "facet": {
           "data": "points",
           "groupby": "trajectory",
           "name": "points_split"
          }
         },
         "marks": [
          {
           "encode": {
            "hover": {
             "fillOpacity": {
              "value": 0.9
             }
            },
            "update": {
             "fill": {
              "field": "trajectory",
              "scale": "color"
             },
             "fillOpacity": [
              {
               "test": "!length(data('selected')) || indata('selected', 'value', datum.trajectory)",
               "value": 0.5
              },
              {
               "value": 0.15
              }
             ],
             "size": {
              "value": 10
             },
             "stroke": {
              "field": "trajectory",
              "scale": "color"
             },
             "strokeOpacity": [
              {
               "test": "!length(data('selected')) || indata('selected', 'value', datum.trajectory)",
               "value": 0.75
              },
              {
               "value": 0.15
              }
             ],
             "strokeWidth": {
              "value": 2
             },
             "tooltip": {
              "field": "value"
             },
             "x": {
              "field": "timepoint",
              "scale": "xscale"
             },
             "y": {
              "field": "value",
              "scale": "yscale"
             }
            }
           },
           "from": {
            "data": "points"
           },
           "name": "_points_symbol",
           "type": "symbol",
           "zindex": 3
          },
          {
           "encode": {
            "hover": {
             "fillOpacity": {
              "value": 0.9
             }
            },
            "update": {
             "interpolate": {
              "value": "linear"
             },
             "stroke": {
              "field": "trajectory",
              "scale": "color"
             },
             "strokeOpacity": [
              {
               "test": "!length(data('selected')) || indata('selected', 'value', datum.trajectory)",
               "value": 0.3
              },
              {
               "value": 0.1
              }
             ],
             "strokeWidth": {
              "value": 2
             },
             "x": {
              "field": "timepoint",
              "scale": "xscale"
             },
             "y": {
              "field": "value",
              "scale": "yscale"
             }
            }
           },
           "from": {
            "data": "points"
           },
           "name": "_points_line",
           "type": "line",
           "zindex": 3
          }
         ],
         "name": "_points",
         "type": "group",
         "zindex": 3
        },
        {
         "from": {
          "facet": {
           "data": "traces",
           "groupby": "trajectory",
           "name": "traces_split"
          }
         },
         "marks": [
          {
           "encode": {
            "hover": {
             "fillOpacity": {
              "value": 0.9
             }
            },
            "update": {
             "interpolate": {
              "value": "linear"
             },
             "stroke": {
              "field": "trajectory",
              "scale": "color"
             },
             "strokeOpacity": [
              {
               "test": "!length(data('selected')) || indata('selected', 'value', datum.trajectory)",
               "value": 0.75
              },
              {
               "value": 0.15
              }
             ],
             "strokeWidth": {
              "value": 2
             },
             "x": {
              "field": "timepoint",
              "scale": "xscale"
             },
             "y": {
              "field": "value",
              "scale": "yscale"
             }
            }
           },
           "from": {
            "data": "traces_split"
           },
           "name": "_traces_lines",
           "type": "line"
          }
         ],
         "name": "_traces",
         "type": "group",
         "zindex": 2
        },
        {
         "from": {
          "facet": {
           "data": "distributions",
           "groupby": "trajectory",
           "name": "trajectory_split"
          }
         },
         "marks": [
          {
           "encode": {
            "hover": {
             "fillOpacity": {
              "value": 0.9
             }
            },
            "update": {
             "fill": {
              "field": "trajectory",
              "scale": "color"
             },
             "fillOpacity": [
              {
               "test": "!length(data('selected')) || indata('selected', 'value', datum.trajectory)",
               "value": 0.5
              },
              {
               "value": 0.15
              }
             ],
             "interpolate": {
              "value": "linear"
             },
             "stroke": {
              "field": "trajectory",
              "scale": "color"
             },
             "strokeOpacity": [
              {
               "test": "!length(data('selected')) || indata('selected', 'value', datum.trajectory)",
               "value": 0.75
              },
              {
               "value": 0.15
              }
             ],
             "strokeWidth": {
              "value": 2
             },
             "x": {
              "field": "timepoint",
              "scale": "xscale"
             },
             "y": {
              "field": "upper",
              "scale": "yscale"
             },
             "y2": {
              "field": "lower",
              "scale": "yscale"
             }
            }
           },
           "from": {
            "data": "trajectory_split"
           },
           "type": "area"
          }
         ],
         "name": "_distributions",
         "type": "group",
         "zindex": 1
        },
        {
         "marks": [
          {
           "encode": {
            "enter": {
             "stroke": {
              "value": "lightgray"
             }
            },
            "update": {
             "opacity": {
              "value": 1
             },
             "x": {
              "field": "timepoint",
              "scale": "xscale"
             },
             "y": {
              "signal": "height"
             },
             "y2": {
              "value": 0
             }
            }
           },
           "from": {
            "data": "markers"
           },
           "name": "_marker text",
           "type": "rule"
          },
          {
           "encode": {
            "enter": {
             "fontSize": {
              "value": 8
             },
             "text": {
              "field": "datum.label"
             },
             "y": {
              "value": 0
             }
            }
           },
           "from": {
            "data": "_marker text"
           },
           "name": "_marker flags",
           "transform": [
            {
             "as": [
              "x",
              "_y",
              "opacity",
              "align",
              "baseline"
             ],
             "lineAnchor": "start",
             "offset": [
              1
             ],
             "size": {
              "signal": "[width, height]"
             },
             "type": "label"
            }
           ],
           "type": "text"
          }
         ],
         "name": "_markers",
         "type": "group"
        }
       ],
       "padding": 5,
       "scales": [
        {
         "domain": {
          "fields": [
           {
            "data": "distributions",
            "field": "timepoint"
           },
           {
            "data": "traces",
            "field": "timepoint"
           },
           {
            "data": "points",
            "field": "timepoint"
           },
           {
            "data": "markers",
            "field": "timepoint"
           }
          ]
         },
         "name": "xscale",
         "range": "width",
         "type": "linear",
         "zero": false
        },
        {
         "domain": {
          "fields": [
           {
            "data": "distributions",
            "field": "lower"
           },
           {
            "data": "distributions",
            "field": "upper"
           },
           {
            "data": "traces",
            "field": "value"
           },
           {
            "data": "points",
            "field": "value"
           }
          ]
         },
         "name": "yscale",
         "nice": true,
         "range": "height",
         "type": "linear",
         "zero": true
        },
        {
         "domain": {
          "fields": [
           {
            "data": "distributions",
            "field": "trajectory"
           },
           {
            "data": "traces",
            "field": "trajectory"
           },
           {
            "data": "points",
            "field": "trajectory"
           }
          ]
         },
         "name": "color",
         "range": "category",
         "type": "ordinal"
        }
       ],
       "signals": [
        {
         "name": "clear",
         "on": [
          {
           "events": "mouseup[!event.item]",
           "force": true,
           "update": "true"
          }
         ],
         "value": true
        },
        {
         "name": "shift",
         "on": [
          {
           "events": "@legendSymbol:click, @legendLabel:click",
           "force": true,
           "update": "event.shiftKey"
          }
         ],
         "value": false
        },
        {
         "name": "clicked",
         "on": [
          {
           "events": "@legendSymbol:click, @legendLabel:click",
           "force": true,
           "update": "{value: datum.value}"
          }
         ],
         "value": null
        }
       ],
       "width": 500
      }
     },
     "metadata": {},
     "output_type": "display_data"
    }
   ],
   "source": [
    "num_samples = 100\n",
    "model_paths = [model2_location, model7_location]\n",
    "data_path = \"../../notebook/ensemble_eval_sa/NY_data1.csv\"\n",
    "weights = [1/len(model_paths) for i in model_paths]\n",
    "solution_mappings = [{\"I\": \"I\", \"D\": \"D\"},\n",
    "                     {\"I\": \"infected\", \"D\": \"dead\"}\n",
    "                     ]\n",
    "\n",
    "# Run the calibration and sampling\n",
    "result4 = load_and_calibrate_and_sample_ensemble_model(\n",
    "    model_paths,\n",
    "    data_path,\n",
    "    weights,\n",
    "    solution_mappings,\n",
    "    num_samples,\n",
    "    timepoints,\n",
    "    verbose=True,\n",
    "    total_population=19340000,\n",
    "    num_iterations=500,\n",
    "    time_unit=\"days\",\n",
    "    visual_options={\"title\": \"Calibrated Ensemble\", \"subset\":\".*_sol\"}\n",
    ")\n",
    "\n",
    "# Save results\n",
    "result4[\"data\"].to_csv(\n",
    "    \"partI_ensemble_of_two_results.csv\", index=False\n",
    ")\n",
    "result4[\"quantiles\"].to_csv(\n",
    "    \"partI_ensemble_of_two_quantiles.csv\", index=False\n",
    ")\n",
    "\n",
    "# Plot results\n",
    "schema = plots.trajectories(pd.DataFrame(result4[\"data\"]), subset=\".*_sol\",\n",
    "                            points=test_data.reset_index(drop=True).rename(columns={\"I\":\"I_data\", \"H\":\"H_data\", \"D\":\"D_data\"}),\n",
    "                           )\n",
    "schema = plots.pad(schema, 5)\n",
    "plots.ipy_display(schema)"
   ]
  },
  {
   "cell_type": "code",
   "execution_count": 185,
   "id": "b1200c83-faab-444d-8a13-c815867ad5ba",
   "metadata": {},
   "outputs": [
    {
     "name": "stdout",
     "output_type": "stream",
     "text": [
      "iteration 0: loss = 765.0988219678402\n",
      "iteration 25: loss = 727.8856188952923\n",
      "iteration 50: loss = 668.121911495924\n",
      "iteration 75: loss = 654.3243019282818\n",
      "iteration 100: loss = 641.7556810081005\n",
      "iteration 125: loss = 646.8317455947399\n",
      "iteration 150: loss = 643.6816661059856\n",
      "iteration 175: loss = 641.1758306920528\n",
      "iteration 200: loss = 649.2690155208111\n",
      "iteration 225: loss = 645.6392317712307\n",
      "iteration 250: loss = 636.9966904819012\n",
      "iteration 275: loss = 637.8782330453396\n",
      "iteration 300: loss = 639.6409922540188\n",
      "iteration 325: loss = 643.2566699683666\n",
      "iteration 350: loss = 636.4147016704082\n",
      "iteration 375: loss = 635.8384027183056\n",
      "iteration 400: loss = 636.7175833880901\n",
      "iteration 425: loss = 632.5201697051525\n",
      "iteration 450: loss = 642.9727003276348\n",
      "iteration 475: loss = 636.7774510085583\n",
      "\n"
     ]
    },
    {
     "data": {
      "application/vnd.vega.v5+json": {
       "$schema": "https://vega.github.io/schema/vega/v5.json",
       "axes": [
        {
         "name": "x_axis",
         "orient": "bottom",
         "scale": "xscale",
         "zindex": 100
        },
        {
         "name": "y_axis",
         "orient": "left",
         "scale": "yscale",
         "zindex": 100
        }
       ],
       "data": [
        {
         "name": "distributions",
         "values": [
          {
           "lower": 1.7097815751515264e-22,
           "timepoint": 0,
           "trajectory": "D_sol",
           "upper": 1.2946321099083028e-21
          },
          {
           "lower": 0.019363955687731506,
           "timepoint": 1,
           "trajectory": "D_sol",
           "upper": 0.14935019016265863
          },
          {
           "lower": 0.09186294078826904,
           "timepoint": 2,
           "trajectory": "D_sol",
           "upper": 0.6574714034795759
          },
          {
           "lower": 0.21828957572579383,
           "timepoint": 3,
           "trajectory": "D_sol",
           "upper": 1.5838350653648372
          },
          {
           "lower": 0.4185404270887375,
           "timepoint": 4,
           "trajectory": "D_sol",
           "upper": 2.968077814579009
          },
          {
           "lower": 0.7140746533870697,
           "timepoint": 5,
           "trajectory": "D_sol",
           "upper": 4.844199562072753
          },
          {
           "lower": 1.0929857283830642,
           "timepoint": 6,
           "trajectory": "D_sol",
           "upper": 7.122127604484557
          },
          {
           "lower": 1.5396604120731354,
           "timepoint": 7,
           "trajectory": "D_sol",
           "upper": 10.015109586715697
          },
          {
           "lower": 2.0841655910015104,
           "timepoint": 8,
           "trajectory": "D_sol",
           "upper": 13.691657924652098
          },
          {
           "lower": 2.7432836294174194,
           "timepoint": 9,
           "trajectory": "D_sol",
           "upper": 18.128238010406495
          },
          {
           "lower": 3.5396542310714723,
           "timepoint": 10,
           "trajectory": "D_sol",
           "upper": 22.564936447143552
          },
          {
           "lower": 4.4991223335266115,
           "timepoint": 11,
           "trajectory": "D_sol",
           "upper": 26.54079103469848
          },
          {
           "lower": 5.6523892164230345,
           "timepoint": 12,
           "trajectory": "D_sol",
           "upper": 33.263215637207026
          },
          {
           "lower": 7.038146495819092,
           "timepoint": 13,
           "trajectory": "D_sol",
           "upper": 41.808111000061025
          },
          {
           "lower": 8.805829429626465,
           "timepoint": 14,
           "trajectory": "D_sol",
           "upper": 52.13026809692382
          },
          {
           "lower": 11.02705807685852,
           "timepoint": 15,
           "trajectory": "D_sol",
           "upper": 64.58625259399415
          },
          {
           "lower": 13.727112197875977,
           "timepoint": 16,
           "trajectory": "D_sol",
           "upper": 79.29353294372558
          },
          {
           "lower": 16.99790754318237,
           "timepoint": 17,
           "trajectory": "D_sol",
           "upper": 97.49494590759278
          },
          {
           "lower": 20.943390464782716,
           "timepoint": 18,
           "trajectory": "D_sol",
           "upper": 119.30274810791016
          },
          {
           "lower": 25.677943134307863,
           "timepoint": 19,
           "trajectory": "D_sol",
           "upper": 145.30522613525392
          },
          {
           "lower": 31.323302459716796,
           "timepoint": 20,
           "trajectory": "D_sol",
           "upper": 174.75690765380858
          },
          {
           "lower": 38.00354194641113,
           "timepoint": 21,
           "trajectory": "D_sol",
           "upper": 208.3283821105957
          },
          {
           "lower": 45.838318252563475,
           "timepoint": 22,
           "trajectory": "D_sol",
           "upper": 248.96559143066403
          },
          {
           "lower": 54.934820365905765,
           "timepoint": 23,
           "trajectory": "D_sol",
           "upper": 298.5340881347656
          },
          {
           "lower": 65.37975654602052,
           "timepoint": 24,
           "trajectory": "D_sol",
           "upper": 355.4815689086914
          },
          {
           "lower": 77.23169403076172,
           "timepoint": 25,
           "trajectory": "D_sol",
           "upper": 420.0982147216797
          },
          {
           "lower": 90.51638832092286,
           "timepoint": 26,
           "trajectory": "D_sol",
           "upper": 490.79243621826174
          },
          {
           "lower": 105.22403373718262,
           "timepoint": 27,
           "trajectory": "D_sol",
           "upper": 567.2352142333984
          },
          {
           "lower": 121.30943870544434,
           "timepoint": 28,
           "trajectory": "D_sol",
           "upper": 650.0462799072266
          },
          {
           "lower": 138.4028247833252,
           "timepoint": 29,
           "trajectory": "D_sol",
           "upper": 738.6193206787109
          },
          {
           "lower": 154.78681869506838,
           "timepoint": 30,
           "trajectory": "D_sol",
           "upper": 832.1896697998046
          },
          {
           "lower": 171.70360946655273,
           "timepoint": 31,
           "trajectory": "D_sol",
           "upper": 929.9508087158202
          },
          {
           "lower": 188.98699035644532,
           "timepoint": 32,
           "trajectory": "D_sol",
           "upper": 1030.949133300781
          },
          {
           "lower": 206.4765838623047,
           "timepoint": 33,
           "trajectory": "D_sol",
           "upper": 1134.4366882324218
          },
          {
           "lower": 224.02154541015625,
           "timepoint": 34,
           "trajectory": "D_sol",
           "upper": 1249.2797058105468
          },
          {
           "lower": 241.48534317016603,
           "timepoint": 35,
           "trajectory": "D_sol",
           "upper": 1367.1097717285154
          },
          {
           "lower": 258.74875259399414,
           "timepoint": 36,
           "trajectory": "D_sol",
           "upper": 1487.247265625
          },
          {
           "lower": 275.79270935058594,
           "timepoint": 37,
           "trajectory": "D_sol",
           "upper": 1609.054748535156
          },
          {
           "lower": 292.4619201660156,
           "timepoint": 38,
           "trajectory": "D_sol",
           "upper": 1731.9443847656248
          },
          {
           "lower": 308.6882629394531,
           "timepoint": 39,
           "trajectory": "D_sol",
           "upper": 1855.382403564453
          },
          {
           "lower": 329.47107391357423,
           "timepoint": 40,
           "trajectory": "D_sol",
           "upper": 1978.8916625976562
          },
          {
           "lower": 352.180924987793,
           "timepoint": 41,
           "trajectory": "D_sol",
           "upper": 2102.051025390625
          },
          {
           "lower": 375.2703201293945,
           "timepoint": 42,
           "trajectory": "D_sol",
           "upper": 2216.673229980469
          },
          {
           "lower": 398.52764282226565,
           "timepoint": 43,
           "trajectory": "D_sol",
           "upper": 2323.7542846679685
          },
          {
           "lower": 421.90681610107424,
           "timepoint": 44,
           "trajectory": "D_sol",
           "upper": 2455.85791015625
          },
          {
           "lower": 445.3665512084961,
           "timepoint": 45,
           "trajectory": "D_sol",
           "upper": 2558.1105224609373
          },
          {
           "lower": 468.8714111328125,
           "timepoint": 46,
           "trajectory": "D_sol",
           "upper": 2681.479565429687
          },
          {
           "lower": 492.39022369384764,
           "timepoint": 47,
           "trajectory": "D_sol",
           "upper": 2807.3491088867186
          },
          {
           "lower": 515.894758605957,
           "timepoint": 48,
           "trajectory": "D_sol",
           "upper": 2931.899169921875
          },
          {
           "lower": 539.3621826171875,
           "timepoint": 49,
           "trajectory": "D_sol",
           "upper": 3049.6246826171873
          },
          {
           "lower": 562.7722625732422,
           "timepoint": 50,
           "trajectory": "D_sol",
           "upper": 3162.542370605469
          },
          {
           "lower": 586.1071472167969,
           "timepoint": 51,
           "trajectory": "D_sol",
           "upper": 3296.5568725585936
          },
          {
           "lower": 609.3520965576172,
           "timepoint": 52,
           "trajectory": "D_sol",
           "upper": 3417.1768798828125
          },
          {
           "lower": 632.4948577880859,
           "timepoint": 53,
           "trajectory": "D_sol",
           "upper": 3534.8921752929687
          },
          {
           "lower": 655.5218475341798,
           "timepoint": 54,
           "trajectory": "D_sol",
           "upper": 3650.8087280273435
          },
          {
           "lower": 678.4268768310548,
           "timepoint": 55,
           "trajectory": "D_sol",
           "upper": 3764.888928222656
          },
          {
           "lower": 701.2005798339844,
           "timepoint": 56,
           "trajectory": "D_sol",
           "upper": 3877.1019409179685
          },
          {
           "lower": 722.765869140625,
           "timepoint": 57,
           "trajectory": "D_sol",
           "upper": 3987.4275390625
          },
          {
           "lower": 738.9740142822266,
           "timepoint": 58,
           "trajectory": "D_sol",
           "upper": 4095.8574218749995
          },
          {
           "lower": 754.7433197021485,
           "timepoint": 59,
           "trajectory": "D_sol",
           "upper": 4202.373242187499
          },
          {
           "lower": 172.4550048828125,
           "timepoint": 0,
           "trajectory": "I_sol",
           "upper": 195.44719161987305
          },
          {
           "lower": 328.10669097900393,
           "timepoint": 1,
           "trajectory": "I_sol",
           "upper": 404.18412322998046
          },
          {
           "lower": 459.30306549072264,
           "timepoint": 2,
           "trajectory": "I_sol",
           "upper": 587.972201538086
          },
          {
           "lower": 586.3287384033204,
           "timepoint": 3,
           "trajectory": "I_sol",
           "upper": 772.6302185058594
          },
          {
           "lower": 718.4516662597656,
           "timepoint": 4,
           "trajectory": "I_sol",
           "upper": 976.8201751708984
          },
          {
           "lower": 869.6197357177734,
           "timepoint": 5,
           "trajectory": "I_sol",
           "upper": 1218.5058715820312
          },
          {
           "lower": 1048.7084838867188,
           "timepoint": 6,
           "trajectory": "I_sol",
           "upper": 1507.4478759765625
          },
          {
           "lower": 1264.340155029297,
           "timepoint": 7,
           "trajectory": "I_sol",
           "upper": 1855.3955078125
          },
          {
           "lower": 1528.8197082519532,
           "timepoint": 8,
           "trajectory": "I_sol",
           "upper": 2279.3423828125
          },
          {
           "lower": 1854.667041015625,
           "timepoint": 9,
           "trajectory": "I_sol",
           "upper": 2796.0433837890623
          },
          {
           "lower": 2251.0211791992188,
           "timepoint": 10,
           "trajectory": "I_sol",
           "upper": 3425.8761108398435
          },
          {
           "lower": 2732.2610473632812,
           "timepoint": 11,
           "trajectory": "I_sol",
           "upper": 4192.21474609375
          },
          {
           "lower": 3314.979541015625,
           "timepoint": 12,
           "trajectory": "I_sol",
           "upper": 5125.8724365234375
          },
          {
           "lower": 4017.6280517578125,
           "timepoint": 13,
           "trajectory": "I_sol",
           "upper": 6268.746875
          },
          {
           "lower": 4859.193139648438,
           "timepoint": 14,
           "trajectory": "I_sol",
           "upper": 7661.327075195312
          },
          {
           "lower": 5830.421899414063,
           "timepoint": 15,
           "trajectory": "I_sol",
           "upper": 9315.635546875
          },
          {
           "lower": 6991.401538085937,
           "timepoint": 16,
           "trajectory": "I_sol",
           "upper": 11265.879736328125
          },
          {
           "lower": 8356.2869140625,
           "timepoint": 17,
           "trajectory": "I_sol",
           "upper": 13535.40068359375
          },
          {
           "lower": 9831.3376953125,
           "timepoint": 18,
           "trajectory": "I_sol",
           "upper": 16130.271728515625
          },
          {
           "lower": 11444.6173828125,
           "timepoint": 19,
           "trajectory": "I_sol",
           "upper": 19041.983203125
          },
          {
           "lower": 13328.497607421876,
           "timepoint": 20,
           "trajectory": "I_sol",
           "upper": 22354.208203125
          },
          {
           "lower": 15403.579150390626,
           "timepoint": 21,
           "trajectory": "I_sol",
           "upper": 26046.7306640625
          },
          {
           "lower": 17535.93330078125,
           "timepoint": 22,
           "trajectory": "I_sol",
           "upper": 29888.3703125
          },
          {
           "lower": 19573.2162109375,
           "timepoint": 23,
           "trajectory": "I_sol",
           "upper": 33322.8427734375
          },
          {
           "lower": 21477.15078125,
           "timepoint": 24,
           "trajectory": "I_sol",
           "upper": 36412.4392578125
          },
          {
           "lower": 23215.98759765625,
           "timepoint": 25,
           "trajectory": "I_sol",
           "upper": 39544.018359375
          },
          {
           "lower": 24725.6984375,
           "timepoint": 26,
           "trajectory": "I_sol",
           "upper": 42484.6828125
          },
          {
           "lower": 25958.590234375,
           "timepoint": 27,
           "trajectory": "I_sol",
           "upper": 45030.6431640625
          },
          {
           "lower": 26531.07841796875,
           "timepoint": 28,
           "trajectory": "I_sol",
           "upper": 46958.9703125
          },
          {
           "lower": 27030.55390625,
           "timepoint": 29,
           "trajectory": "I_sol",
           "upper": 48944.1611328125
          },
          {
           "lower": 26856.726171875,
           "timepoint": 30,
           "trajectory": "I_sol",
           "upper": 50202.023046875
          },
          {
           "lower": 26422.21875,
           "timepoint": 31,
           "trajectory": "I_sol",
           "upper": 50784.80234375
          },
          {
           "lower": 26182.13740234375,
           "timepoint": 32,
           "trajectory": "I_sol",
           "upper": 51422.62421875
          },
          {
           "lower": 26245.69775390625,
           "timepoint": 33,
           "trajectory": "I_sol",
           "upper": 51879.8130859375
          },
          {
           "lower": 25333.5873046875,
           "timepoint": 34,
           "trajectory": "I_sol",
           "upper": 52199.8294921875
          },
          {
           "lower": 24152.54365234375,
           "timepoint": 35,
           "trajectory": "I_sol",
           "upper": 52562.1134765625
          },
          {
           "lower": 22909.611328125,
           "timepoint": 36,
           "trajectory": "I_sol",
           "upper": 52613.9599609375
          },
          {
           "lower": 22007.81591796875,
           "timepoint": 37,
           "trajectory": "I_sol",
           "upper": 52502.3638671875
          },
          {
           "lower": 21208.61376953125,
           "timepoint": 38,
           "trajectory": "I_sol",
           "upper": 52499.2640625
          },
          {
           "lower": 20393.45615234375,
           "timepoint": 39,
           "trajectory": "I_sol",
           "upper": 52625.1181640625
          },
          {
           "lower": 19574.55234375,
           "timepoint": 40,
           "trajectory": "I_sol",
           "upper": 52057.455078125
          },
          {
           "lower": 18776.93935546875,
           "timepoint": 41,
           "trajectory": "I_sol",
           "upper": 51183.9599609375
          },
          {
           "lower": 17845.287255859374,
           "timepoint": 42,
           "trajectory": "I_sol",
           "upper": 50712.206640624994
          },
          {
           "lower": 16850.6130859375,
           "timepoint": 43,
           "trajectory": "I_sol",
           "upper": 50212.1736328125
          },
          {
           "lower": 15892.910400390625,
           "timepoint": 44,
           "trajectory": "I_sol",
           "upper": 49691.6775390625
          },
          {
           "lower": 14975.407275390626,
           "timepoint": 45,
           "trajectory": "I_sol",
           "upper": 49156.8923828125
          },
          {
           "lower": 14099.95341796875,
           "timepoint": 46,
           "trajectory": "I_sol",
           "upper": 48612.481640624996
          },
          {
           "lower": 13087.387353515625,
           "timepoint": 47,
           "trajectory": "I_sol",
           "upper": 48062.215429687494
          },
          {
           "lower": 12314.94140625,
           "timepoint": 48,
           "trajectory": "I_sol",
           "upper": 47508.854687499996
          },
          {
           "lower": 11687.658642578124,
           "timepoint": 49,
           "trajectory": "I_sol",
           "upper": 46954.5908203125
          },
          {
           "lower": 10858.950732421876,
           "timepoint": 50,
           "trajectory": "I_sol",
           "upper": 46401.008398437494
          },
          {
           "lower": 10086.086279296875,
           "timepoint": 51,
           "trajectory": "I_sol",
           "upper": 45963.0212890625
          },
          {
           "lower": 9366.0412109375,
           "timepoint": 52,
           "trajectory": "I_sol",
           "upper": 45552.9578125
          },
          {
           "lower": 8695.775,
           "timepoint": 53,
           "trajectory": "I_sol",
           "upper": 45178.7751953125
          },
          {
           "lower": 8072.248559570313,
           "timepoint": 54,
           "trajectory": "I_sol",
           "upper": 44884.08515625
          },
          {
           "lower": 7492.519482421875,
           "timepoint": 55,
           "trajectory": "I_sol",
           "upper": 44346.8876953125
          },
          {
           "lower": 6953.746191406251,
           "timepoint": 56,
           "trajectory": "I_sol",
           "upper": 43958.1236328125
          },
          {
           "lower": 6453.206982421875,
           "timepoint": 57,
           "trajectory": "I_sol",
           "upper": 43571.3505859375
          },
          {
           "lower": 5988.321704101562,
           "timepoint": 58,
           "trajectory": "I_sol",
           "upper": 43186.5962890625
          },
          {
           "lower": 5556.649829101562,
           "timepoint": 59,
           "trajectory": "I_sol",
           "upper": 42804.0326171875
          }
         ]
        },
        {
         "name": "traces",
         "transform": [
          {
           "expr": "isValid(datum.value)",
           "type": "filter"
          }
         ],
         "values": []
        },
        {
         "name": "points",
         "values": [
          {
           "sample_id": 0,
           "timepoint": 0,
           "trajectory": "I_data",
           "value": 1
          },
          {
           "sample_id": 0,
           "timepoint": 1,
           "trajectory": "I_data",
           "value": 10
          },
          {
           "sample_id": 0,
           "timepoint": 2,
           "trajectory": "I_data",
           "value": 21
          },
          {
           "sample_id": 0,
           "timepoint": 3,
           "trajectory": "I_data",
           "value": 24
          },
          {
           "sample_id": 0,
           "timepoint": 4,
           "trajectory": "I_data",
           "value": 76
          },
          {
           "sample_id": 0,
           "timepoint": 5,
           "trajectory": "I_data",
           "value": 104
          },
          {
           "sample_id": 0,
           "timepoint": 6,
           "trajectory": "I_data",
           "value": 128
          },
          {
           "sample_id": 0,
           "timepoint": 7,
           "trajectory": "I_data",
           "value": 131
          },
          {
           "sample_id": 0,
           "timepoint": 8,
           "trajectory": "I_data",
           "value": 192
          },
          {
           "sample_id": 0,
           "timepoint": 9,
           "trajectory": "I_data",
           "value": 220
          },
          {
           "sample_id": 0,
           "timepoint": 10,
           "trajectory": "I_data",
           "value": 274
          },
          {
           "sample_id": 0,
           "timepoint": 11,
           "trajectory": "I_data",
           "value": 394
          },
          {
           "sample_id": 0,
           "timepoint": 12,
           "trajectory": "I_data",
           "value": 481
          },
          {
           "sample_id": 0,
           "timepoint": 13,
           "trajectory": "I_data",
           "value": 745
          },
          {
           "sample_id": 0,
           "timepoint": 14,
           "trajectory": "I_data",
           "value": 1111
          },
          {
           "sample_id": 0,
           "timepoint": 15,
           "trajectory": "I_data",
           "value": 2128
          },
          {
           "sample_id": 0,
           "timepoint": 16,
           "trajectory": "I_data",
           "value": 3671
          },
          {
           "sample_id": 0,
           "timepoint": 17,
           "trajectory": "I_data",
           "value": 6578
          },
          {
           "sample_id": 0,
           "timepoint": 18,
           "trajectory": "I_data",
           "value": 9449
          },
          {
           "sample_id": 0,
           "timepoint": 19,
           "trajectory": "I_data",
           "value": 13761
          },
          {
           "sample_id": 0,
           "timepoint": 20,
           "trajectory": "I_data",
           "value": 18270
          },
          {
           "sample_id": 0,
           "timepoint": 21,
           "trajectory": "I_data",
           "value": 21478
          },
          {
           "sample_id": 0,
           "timepoint": 22,
           "trajectory": "I_data",
           "value": 23630
          },
          {
           "sample_id": 0,
           "timepoint": 23,
           "trajectory": "I_data",
           "value": 26987
          },
          {
           "sample_id": 0,
           "timepoint": 24,
           "trajectory": "I_data",
           "value": 29533
          },
          {
           "sample_id": 0,
           "timepoint": 25,
           "trajectory": "I_data",
           "value": 31623
          },
          {
           "sample_id": 0,
           "timepoint": 26,
           "trajectory": "I_data",
           "value": 33967
          },
          {
           "sample_id": 0,
           "timepoint": 27,
           "trajectory": "I_data",
           "value": 35822
          },
          {
           "sample_id": 0,
           "timepoint": 28,
           "trajectory": "I_data",
           "value": 38456
          },
          {
           "sample_id": 0,
           "timepoint": 29,
           "trajectory": "I_data",
           "value": 45676
          },
          {
           "sample_id": 0,
           "timepoint": 30,
           "trajectory": "I_data",
           "value": 48380
          },
          {
           "sample_id": 0,
           "timepoint": 31,
           "trajectory": "I_data",
           "value": 51807
          },
          {
           "sample_id": 0,
           "timepoint": 32,
           "trajectory": "I_data",
           "value": 55042
          },
          {
           "sample_id": 0,
           "timepoint": 33,
           "trajectory": "I_data",
           "value": 56847
          },
          {
           "sample_id": 0,
           "timepoint": 34,
           "trajectory": "I_data",
           "value": 52184
          },
          {
           "sample_id": 0,
           "timepoint": 35,
           "trajectory": "I_data",
           "value": 49194
          },
          {
           "sample_id": 0,
           "timepoint": 36,
           "trajectory": "I_data",
           "value": 48730
          },
          {
           "sample_id": 0,
           "timepoint": 37,
           "trajectory": "I_data",
           "value": 50551
          },
          {
           "sample_id": 0,
           "timepoint": 38,
           "trajectory": "I_data",
           "value": 51029
          },
          {
           "sample_id": 0,
           "timepoint": 39,
           "trajectory": "I_data",
           "value": 49701
          },
          {
           "sample_id": 0,
           "timepoint": 40,
           "trajectory": "I_data",
           "value": 50661
          },
          {
           "sample_id": 0,
           "timepoint": 41,
           "trajectory": "I_data",
           "value": 48303
          },
          {
           "sample_id": 0,
           "timepoint": 42,
           "trajectory": "I_data",
           "value": 43703
          },
          {
           "sample_id": 0,
           "timepoint": 43,
           "trajectory": "I_data",
           "value": 38888
          },
          {
           "sample_id": 0,
           "timepoint": 44,
           "trajectory": "I_data",
           "value": 38244
          },
          {
           "sample_id": 0,
           "timepoint": 45,
           "trajectory": "I_data",
           "value": 36857
          },
          {
           "sample_id": 0,
           "timepoint": 46,
           "trajectory": "I_data",
           "value": 35881
          },
          {
           "sample_id": 0,
           "timepoint": 47,
           "trajectory": "I_data",
           "value": 35054
          },
          {
           "sample_id": 0,
           "timepoint": 48,
           "trajectory": "I_data",
           "value": 34782
          },
          {
           "sample_id": 0,
           "timepoint": 49,
           "trajectory": "I_data",
           "value": 31526
          },
          {
           "sample_id": 0,
           "timepoint": 50,
           "trajectory": "I_data",
           "value": 28799
          },
          {
           "sample_id": 0,
           "timepoint": 51,
           "trajectory": "I_data",
           "value": 27419
          },
          {
           "sample_id": 0,
           "timepoint": 52,
           "trajectory": "I_data",
           "value": 27443
          },
          {
           "sample_id": 0,
           "timepoint": 53,
           "trajectory": "I_data",
           "value": 30499
          },
          {
           "sample_id": 0,
           "timepoint": 54,
           "trajectory": "I_data",
           "value": 31543
          },
          {
           "sample_id": 0,
           "timepoint": 55,
           "trajectory": "I_data",
           "value": 31597
          },
          {
           "sample_id": 0,
           "timepoint": 56,
           "trajectory": "I_data",
           "value": 29008
          },
          {
           "sample_id": 0,
           "timepoint": 57,
           "trajectory": "I_data",
           "value": 25476
          },
          {
           "sample_id": 0,
           "timepoint": 58,
           "trajectory": "I_data",
           "value": 20411
          },
          {
           "sample_id": 0,
           "timepoint": 59,
           "trajectory": "I_data",
           "value": 19224
          },
          {
           "sample_id": 0,
           "timepoint": 38,
           "trajectory": "H_data",
           "value": 0
          },
          {
           "sample_id": 0,
           "timepoint": 39,
           "trajectory": "H_data",
           "value": 0
          },
          {
           "sample_id": 0,
           "timepoint": 45,
           "trajectory": "H_data",
           "value": 0
          },
          {
           "sample_id": 0,
           "timepoint": 46,
           "trajectory": "H_data",
           "value": 1
          },
          {
           "sample_id": 0,
           "timepoint": 52,
           "trajectory": "H_data",
           "value": 0
          },
          {
           "sample_id": 0,
           "timepoint": 53,
           "trajectory": "H_data",
           "value": 0
          },
          {
           "sample_id": 0,
           "timepoint": 54,
           "trajectory": "H_data",
           "value": 1
          },
          {
           "sample_id": 0,
           "timepoint": 55,
           "trajectory": "H_data",
           "value": 0
          },
          {
           "sample_id": 0,
           "timepoint": 56,
           "trajectory": "H_data",
           "value": 0
          },
          {
           "sample_id": 0,
           "timepoint": 57,
           "trajectory": "H_data",
           "value": 0
          },
          {
           "sample_id": 0,
           "timepoint": 58,
           "trajectory": "H_data",
           "value": 0
          },
          {
           "sample_id": 0,
           "timepoint": 59,
           "trajectory": "H_data",
           "value": 0
          },
          {
           "sample_id": 0,
           "timepoint": 0,
           "trajectory": "D_data",
           "value": 0
          },
          {
           "sample_id": 0,
           "timepoint": 1,
           "trajectory": "D_data",
           "value": 0
          },
          {
           "sample_id": 0,
           "timepoint": 2,
           "trajectory": "D_data",
           "value": 0
          },
          {
           "sample_id": 0,
           "timepoint": 3,
           "trajectory": "D_data",
           "value": 0
          },
          {
           "sample_id": 0,
           "timepoint": 4,
           "trajectory": "D_data",
           "value": 0
          },
          {
           "sample_id": 0,
           "timepoint": 5,
           "trajectory": "D_data",
           "value": 0
          },
          {
           "sample_id": 0,
           "timepoint": 6,
           "trajectory": "D_data",
           "value": 0
          },
          {
           "sample_id": 0,
           "timepoint": 7,
           "trajectory": "D_data",
           "value": 0
          },
          {
           "sample_id": 0,
           "timepoint": 8,
           "trajectory": "D_data",
           "value": 1
          },
          {
           "sample_id": 0,
           "timepoint": 9,
           "trajectory": "D_data",
           "value": 1
          },
          {
           "sample_id": 0,
           "timepoint": 10,
           "trajectory": "D_data",
           "value": 1
          },
          {
           "sample_id": 0,
           "timepoint": 11,
           "trajectory": "D_data",
           "value": 4
          },
          {
           "sample_id": 0,
           "timepoint": 12,
           "trajectory": "D_data",
           "value": 9
          },
          {
           "sample_id": 0,
           "timepoint": 13,
           "trajectory": "D_data",
           "value": 19
          },
          {
           "sample_id": 0,
           "timepoint": 14,
           "trajectory": "D_data",
           "value": 30
          },
          {
           "sample_id": 0,
           "timepoint": 15,
           "trajectory": "D_data",
           "value": 51
          },
          {
           "sample_id": 0,
           "timepoint": 16,
           "trajectory": "D_data",
           "value": 77
          },
          {
           "sample_id": 0,
           "timepoint": 17,
           "trajectory": "D_data",
           "value": 129
          },
          {
           "sample_id": 0,
           "timepoint": 18,
           "trajectory": "D_data",
           "value": 175
          },
          {
           "sample_id": 0,
           "timepoint": 19,
           "trajectory": "D_data",
           "value": 226
          },
          {
           "sample_id": 0,
           "timepoint": 20,
           "trajectory": "D_data",
           "value": 315
          },
          {
           "sample_id": 0,
           "timepoint": 21,
           "trajectory": "D_data",
           "value": 427
          },
          {
           "sample_id": 0,
           "timepoint": 22,
           "trajectory": "D_data",
           "value": 565
          },
          {
           "sample_id": 0,
           "timepoint": 23,
           "trajectory": "D_data",
           "value": 759
          },
          {
           "sample_id": 0,
           "timepoint": 24,
           "trajectory": "D_data",
           "value": 984
          },
          {
           "sample_id": 0,
           "timepoint": 25,
           "trajectory": "D_data",
           "value": 1285
          },
          {
           "sample_id": 0,
           "timepoint": 26,
           "trajectory": "D_data",
           "value": 1603
          },
          {
           "sample_id": 0,
           "timepoint": 27,
           "trajectory": "D_data",
           "value": 1930
          },
          {
           "sample_id": 0,
           "timepoint": 28,
           "trajectory": "D_data",
           "value": 2334
          },
          {
           "sample_id": 0,
           "timepoint": 29,
           "trajectory": "D_data",
           "value": 2859
          },
          {
           "sample_id": 0,
           "timepoint": 30,
           "trajectory": "D_data",
           "value": 3420
          },
          {
           "sample_id": 0,
           "timepoint": 31,
           "trajectory": "D_data",
           "value": 3989
          },
          {
           "sample_id": 0,
           "timepoint": 32,
           "trajectory": "D_data",
           "value": 4634
          },
          {
           "sample_id": 0,
           "timepoint": 33,
           "trajectory": "D_data",
           "value": 5384
          },
          {
           "sample_id": 0,
           "timepoint": 34,
           "trajectory": "D_data",
           "value": 6185
          },
          {
           "sample_id": 0,
           "timepoint": 35,
           "trajectory": "D_data",
           "value": 7241
          },
          {
           "sample_id": 0,
           "timepoint": 36,
           "trajectory": "D_data",
           "value": 7985
          },
          {
           "sample_id": 0,
           "timepoint": 37,
           "trajectory": "D_data",
           "value": 8846
          },
          {
           "sample_id": 0,
           "timepoint": 38,
           "trajectory": "D_data",
           "value": 9579
          },
          {
           "sample_id": 0,
           "timepoint": 39,
           "trajectory": "D_data",
           "value": 10345
          },
          {
           "sample_id": 0,
           "timepoint": 40,
           "trajectory": "D_data",
           "value": 11126
          },
          {
           "sample_id": 0,
           "timepoint": 41,
           "trajectory": "D_data",
           "value": 11930
          },
          {
           "sample_id": 0,
           "timepoint": 42,
           "trajectory": "D_data",
           "value": 12669
          },
          {
           "sample_id": 0,
           "timepoint": 43,
           "trajectory": "D_data",
           "value": 13332
          },
          {
           "sample_id": 0,
           "timepoint": 44,
           "trajectory": "D_data",
           "value": 13987
          },
          {
           "sample_id": 0,
           "timepoint": 45,
           "trajectory": "D_data",
           "value": 14371
          },
          {
           "sample_id": 0,
           "timepoint": 46,
           "trajectory": "D_data",
           "value": 14780
          },
          {
           "sample_id": 0,
           "timepoint": 47,
           "trajectory": "D_data",
           "value": 15225
          },
          {
           "sample_id": 0,
           "timepoint": 48,
           "trajectory": "D_data",
           "value": 16116
          },
          {
           "sample_id": 0,
           "timepoint": 49,
           "trajectory": "D_data",
           "value": 16639
          },
          {
           "sample_id": 0,
           "timepoint": 50,
           "trajectory": "D_data",
           "value": 17091
          },
          {
           "sample_id": 0,
           "timepoint": 51,
           "trajectory": "D_data",
           "value": 17647
          },
          {
           "sample_id": 0,
           "timepoint": 52,
           "trajectory": "D_data",
           "value": 18132
          },
          {
           "sample_id": 0,
           "timepoint": 53,
           "trajectory": "D_data",
           "value": 18523
          },
          {
           "sample_id": 0,
           "timepoint": 54,
           "trajectory": "D_data",
           "value": 18882
          },
          {
           "sample_id": 0,
           "timepoint": 55,
           "trajectory": "D_data",
           "value": 19292
          },
          {
           "sample_id": 0,
           "timepoint": 56,
           "trajectory": "D_data",
           "value": 19602
          },
          {
           "sample_id": 0,
           "timepoint": 57,
           "trajectory": "D_data",
           "value": 20000
          },
          {
           "sample_id": 0,
           "timepoint": 58,
           "trajectory": "D_data",
           "value": 20334
          },
          {
           "sample_id": 0,
           "timepoint": 59,
           "trajectory": "D_data",
           "value": 20662
          }
         ]
        },
        {
         "name": "markers",
         "values": []
        },
        {
         "name": "selected",
         "on": [
          {
           "remove": true,
           "trigger": "clear"
          },
          {
           "remove": true,
           "trigger": "!shift"
          },
          {
           "insert": "clicked",
           "trigger": "!shift && clicked"
          },
          {
           "toggle": "clicked",
           "trigger": "shift && clicked"
          }
         ]
        }
       ],
       "height": 300,
       "legends": [
        {
         "encode": {
          "labels": {
           "interactive": true,
           "name": "legendLabel",
           "update": {
            "opacity": [
             {
              "test": "!length(data('selected')) || indata('selected', 'value', datum.value)",
              "value": 1
             },
             {
              "value": 0.25
             }
            ]
           }
          },
          "symbols": {
           "interactive": true,
           "name": "legendSymbol",
           "update": {
            "fill": {
             "value": "transparent"
            },
            "opacity": [
             {
              "test": "!length(data('selected')) || indata('selected', 'value', datum.value)",
              "value": 0.7
             },
             {
              "value": 0.15
             }
            ],
            "size": {
             "value": 64
            },
            "strokeWidth": {
             "value": 2
            }
           }
          }
         },
         "name": "color_legend",
         "stroke": "color"
        }
       ],
       "marks": [
        {
         "from": {
          "facet": {
           "data": "points",
           "groupby": "trajectory",
           "name": "points_split"
          }
         },
         "marks": [
          {
           "encode": {
            "hover": {
             "fillOpacity": {
              "value": 0.9
             }
            },
            "update": {
             "fill": {
              "field": "trajectory",
              "scale": "color"
             },
             "fillOpacity": [
              {
               "test": "!length(data('selected')) || indata('selected', 'value', datum.trajectory)",
               "value": 0.5
              },
              {
               "value": 0.15
              }
             ],
             "size": {
              "value": 10
             },
             "stroke": {
              "field": "trajectory",
              "scale": "color"
             },
             "strokeOpacity": [
              {
               "test": "!length(data('selected')) || indata('selected', 'value', datum.trajectory)",
               "value": 0.75
              },
              {
               "value": 0.15
              }
             ],
             "strokeWidth": {
              "value": 2
             },
             "tooltip": {
              "field": "value"
             },
             "x": {
              "field": "timepoint",
              "scale": "xscale"
             },
             "y": {
              "field": "value",
              "scale": "yscale"
             }
            }
           },
           "from": {
            "data": "points"
           },
           "name": "_points_symbol",
           "type": "symbol",
           "zindex": 3
          },
          {
           "encode": {
            "hover": {
             "fillOpacity": {
              "value": 0.9
             }
            },
            "update": {
             "interpolate": {
              "value": "linear"
             },
             "stroke": {
              "field": "trajectory",
              "scale": "color"
             },
             "strokeOpacity": [
              {
               "test": "!length(data('selected')) || indata('selected', 'value', datum.trajectory)",
               "value": 0.3
              },
              {
               "value": 0.1
              }
             ],
             "strokeWidth": {
              "value": 2
             },
             "x": {
              "field": "timepoint",
              "scale": "xscale"
             },
             "y": {
              "field": "value",
              "scale": "yscale"
             }
            }
           },
           "from": {
            "data": "points"
           },
           "name": "_points_line",
           "type": "line",
           "zindex": 3
          }
         ],
         "name": "_points",
         "type": "group",
         "zindex": 3
        },
        {
         "from": {
          "facet": {
           "data": "traces",
           "groupby": "trajectory",
           "name": "traces_split"
          }
         },
         "marks": [
          {
           "encode": {
            "hover": {
             "fillOpacity": {
              "value": 0.9
             }
            },
            "update": {
             "interpolate": {
              "value": "linear"
             },
             "stroke": {
              "field": "trajectory",
              "scale": "color"
             },
             "strokeOpacity": [
              {
               "test": "!length(data('selected')) || indata('selected', 'value', datum.trajectory)",
               "value": 0.75
              },
              {
               "value": 0.15
              }
             ],
             "strokeWidth": {
              "value": 2
             },
             "x": {
              "field": "timepoint",
              "scale": "xscale"
             },
             "y": {
              "field": "value",
              "scale": "yscale"
             }
            }
           },
           "from": {
            "data": "traces_split"
           },
           "name": "_traces_lines",
           "type": "line"
          }
         ],
         "name": "_traces",
         "type": "group",
         "zindex": 2
        },
        {
         "from": {
          "facet": {
           "data": "distributions",
           "groupby": "trajectory",
           "name": "trajectory_split"
          }
         },
         "marks": [
          {
           "encode": {
            "hover": {
             "fillOpacity": {
              "value": 0.9
             }
            },
            "update": {
             "fill": {
              "field": "trajectory",
              "scale": "color"
             },
             "fillOpacity": [
              {
               "test": "!length(data('selected')) || indata('selected', 'value', datum.trajectory)",
               "value": 0.5
              },
              {
               "value": 0.15
              }
             ],
             "interpolate": {
              "value": "linear"
             },
             "stroke": {
              "field": "trajectory",
              "scale": "color"
             },
             "strokeOpacity": [
              {
               "test": "!length(data('selected')) || indata('selected', 'value', datum.trajectory)",
               "value": 0.75
              },
              {
               "value": 0.15
              }
             ],
             "strokeWidth": {
              "value": 2
             },
             "x": {
              "field": "timepoint",
              "scale": "xscale"
             },
             "y": {
              "field": "upper",
              "scale": "yscale"
             },
             "y2": {
              "field": "lower",
              "scale": "yscale"
             }
            }
           },
           "from": {
            "data": "trajectory_split"
           },
           "type": "area"
          }
         ],
         "name": "_distributions",
         "type": "group",
         "zindex": 1
        },
        {
         "marks": [
          {
           "encode": {
            "enter": {
             "stroke": {
              "value": "lightgray"
             }
            },
            "update": {
             "opacity": {
              "value": 1
             },
             "x": {
              "field": "timepoint",
              "scale": "xscale"
             },
             "y": {
              "signal": "height"
             },
             "y2": {
              "value": 0
             }
            }
           },
           "from": {
            "data": "markers"
           },
           "name": "_marker text",
           "type": "rule"
          },
          {
           "encode": {
            "enter": {
             "fontSize": {
              "value": 8
             },
             "text": {
              "field": "datum.label"
             },
             "y": {
              "value": 0
             }
            }
           },
           "from": {
            "data": "_marker text"
           },
           "name": "_marker flags",
           "transform": [
            {
             "as": [
              "x",
              "_y",
              "opacity",
              "align",
              "baseline"
             ],
             "lineAnchor": "start",
             "offset": [
              1
             ],
             "size": {
              "signal": "[width, height]"
             },
             "type": "label"
            }
           ],
           "type": "text"
          }
         ],
         "name": "_markers",
         "type": "group"
        }
       ],
       "padding": 5,
       "scales": [
        {
         "domain": {
          "fields": [
           {
            "data": "distributions",
            "field": "timepoint"
           },
           {
            "data": "traces",
            "field": "timepoint"
           },
           {
            "data": "points",
            "field": "timepoint"
           },
           {
            "data": "markers",
            "field": "timepoint"
           }
          ]
         },
         "name": "xscale",
         "range": "width",
         "type": "linear",
         "zero": false
        },
        {
         "domain": {
          "fields": [
           {
            "data": "distributions",
            "field": "lower"
           },
           {
            "data": "distributions",
            "field": "upper"
           },
           {
            "data": "traces",
            "field": "value"
           },
           {
            "data": "points",
            "field": "value"
           }
          ]
         },
         "name": "yscale",
         "nice": true,
         "range": "height",
         "type": "linear",
         "zero": true
        },
        {
         "domain": {
          "fields": [
           {
            "data": "distributions",
            "field": "trajectory"
           },
           {
            "data": "traces",
            "field": "trajectory"
           },
           {
            "data": "points",
            "field": "trajectory"
           }
          ]
         },
         "name": "color",
         "range": "category",
         "type": "ordinal"
        }
       ],
       "signals": [
        {
         "name": "clear",
         "on": [
          {
           "events": "mouseup[!event.item]",
           "force": true,
           "update": "true"
          }
         ],
         "value": true
        },
        {
         "name": "shift",
         "on": [
          {
           "events": "@legendSymbol:click, @legendLabel:click",
           "force": true,
           "update": "event.shiftKey"
          }
         ],
         "value": false
        },
        {
         "name": "clicked",
         "on": [
          {
           "events": "@legendSymbol:click, @legendLabel:click",
           "force": true,
           "update": "{value: datum.value}"
          }
         ],
         "value": null
        }
       ],
       "width": 500
      }
     },
     "metadata": {},
     "output_type": "display_data"
    }
   ],
   "source": [
    "num_samples = 100\n",
    "model_paths = [model2_location, model6_location, model7_location]\n",
    "data_path = \"../../notebook/ensemble_eval_sa/NY_data1.csv\"\n",
    "weights = [1/len(model_paths) for i in model_paths]\n",
    "solution_mappings = [{\"I\": \"I\", \"D\": \"D\"},\n",
    "                     {\"I\": \"infected\", \"D\": \"dead\"}, \n",
    "                     {\"I\": \"infected\", \"D\": \"dead\"}\n",
    "                     ]\n",
    "\n",
    "# Run the calibration and sampling\n",
    "result4 = load_and_calibrate_and_sample_ensemble_model(\n",
    "    model_paths,\n",
    "    data_path,\n",
    "    weights,\n",
    "    solution_mappings,\n",
    "    num_samples,\n",
    "    timepoints,\n",
    "    verbose=True,\n",
    "    total_population=19340000,\n",
    "    num_iterations=500,\n",
    "    time_unit=\"days\",\n",
    "    visual_options={\"title\": \"Calibrated Ensemble\", \"subset\":\".*_sol\"}\n",
    ")\n",
    "\n",
    "# Save results\n",
    "result4[\"data\"].to_csv(\n",
    "    \"partI_ensemble_of_many_results.csv\", index=False\n",
    ")\n",
    "result4[\"quantiles\"].to_csv(\n",
    "    \"partI_ensemble_of_many_quantiles.csv\", index=False\n",
    ")\n",
    "\n",
    "# Plot results\n",
    "schema = plots.trajectories(pd.DataFrame(result4[\"data\"]), subset=\".*_sol\",\n",
    "                            points=test_data.reset_index(drop=True).rename(columns={\"I\":\"I_data\", \"H\":\"H_data\", \"D\":\"D_data\"}),\n",
    "                           )\n",
    "schema = plots.pad(schema, 5)\n",
    "plots.ipy_display(schema)"
   ]
  },
  {
   "cell_type": "code",
   "execution_count": null,
   "id": "2b575a9f-909b-4eae-a74a-9745b0a74d43",
   "metadata": {},
   "outputs": [],
   "source": []
  }
 ],
 "metadata": {
  "kernelspec": {
   "display_name": "Python 3 (ipykernel)",
   "language": "python",
   "name": "python3"
  },
  "language_info": {
   "codemirror_mode": {
    "name": "ipython",
    "version": 3
   },
   "file_extension": ".py",
   "mimetype": "text/x-python",
   "name": "python",
   "nbconvert_exporter": "python",
   "pygments_lexer": "ipython3",
   "version": "3.10.9"
  }
 },
 "nbformat": 4,
 "nbformat_minor": 5
}
