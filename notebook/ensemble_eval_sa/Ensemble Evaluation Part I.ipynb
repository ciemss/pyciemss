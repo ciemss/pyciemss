{
 "cells": [
  {
   "cell_type": "markdown",
   "id": "3048df72",
   "metadata": {},
   "source": [
    "# Ensemble Evaluation: Timepoint 1\n",
    "\n",
    "Location: New York State\n",
    "\n",
    "Timepoint 1: April 3, 2020. Setting: New York State at the beginning of the pandemic when masking was the main preventative measure. No vaccines available. Reinfection not considered."
   ]
  },
  {
   "cell_type": "markdown",
   "id": "897b7ea9-d670-4345-9d7a-322d34d724c8",
   "metadata": {},
   "source": [
    "## Set up for ensemble modeling"
   ]
  },
  {
   "cell_type": "markdown",
   "id": "25ee072e-ef36-4c76-bf0a-76276a86c63b",
   "metadata": {},
   "source": [
    "### Load dependencies\n",
    "Import functionality from the pyciemss library to allow for model sampling and calibration."
   ]
  },
  {
   "cell_type": "code",
   "execution_count": 1,
   "id": "f250632a-4078-49de-a4a8-e6134c949910",
   "metadata": {},
   "outputs": [],
   "source": [
    "import os\n",
    "import pandas as pd\n",
    "import numpy as np\n",
    "from pyciemss.Ensemble.interfaces import (\n",
    "    load_and_sample_petri_ensemble, load_and_calibrate_and_sample_ensemble_model\n",
    ")\n",
    "from pyciemss.PetriNetODE.interfaces import (\n",
    "    load_and_sample_petri_model,\n",
    "    load_and_calibrate_and_sample_petri_model,\n",
    "    load_and_optimize_and_sample_petri_model,\n",
    "    load_and_calibrate_and_optimize_and_sample_petri_model\n",
    ")\n",
    "from pyciemss.visuals import plots"
   ]
  },
  {
   "cell_type": "markdown",
   "id": "2af8a7df-6527-4ba2-beb6-2e63889dcbbf",
   "metadata": {},
   "source": [
    "### Collect relevant models\n",
    "<!-- We have chosen x number of models to capture the relevant COVID-19 dynamics for this setting. \n",
    " - `model1` contains compartments SEIRHD, and is stratified by age into four groups.\n",
    " - `model2` is the same as `model1`, but allows for reinfection\n",
    " - `model3` is the same as `model1`, but with a variation in transmission rate to account for masking efficacy and compliance. -->"
   ]
  },
  {
   "cell_type": "code",
   "execution_count": 36,
   "id": "07fddb50-d73e-481d-a79d-ce0e115411b5",
   "metadata": {},
   "outputs": [],
   "source": [
    "model1_location = \"../../notebook/ensemble_eval_sa/operative_models/SEIRHD_base_model_ee.json\"\n",
    "model2_location = \"../../notebook/ensemble_eval_sa/operative_models/SEIRHD_npi1_ee.json\"\n",
    "model3_location = \"../../notebook/ensemble_eval_sa/operative_models/SEIRHD_npi1_beta_c_varying_ee.json\"\n",
    "model4_location = \"../../notebook/ensemble_eval_sa/operative_models/SEIRHD_npi1_k_varying_ee.json\"\n",
    "model5_location = \"../../notebook/ensemble_eval_sa/operative_models/SEIRHD_npi1_age_stratified_v1.json\"\n",
    "model6_location = \"../../notebook/ensemble_eval_sa/operative_models/SEIRHD_npi1_age_stratified_v2.json\"\n",
    "model7_location = \"../../notebook/ensemble_eval_sa/operative_models/SEIRHD_npi1_age_stratified_v3.json\"\n",
    "model8_location = \"../../notebook/ensemble_eval_sa/operative_models/SEIRD_ymo_age_strat.json\""
   ]
  },
  {
   "cell_type": "markdown",
   "id": "a2239aab-0478-43cb-b6ef-079497dbb6e1",
   "metadata": {},
   "source": [
    "### Gather data, and set training and forecast intervals\n",
    "For this timepoint, only case and death data is available for calibration. \n",
    "\n",
    "We take the total population of New York State to be 19,340,000. Population age-structure estimates for New York State were taken (and scaled appropriately) from [here](https://www.health.ny.gov/statistics/vital_statistics/2016/table01.htm).\n",
    "\n",
    "First recorded case in New York State: March 1, 2020.\n",
    "\n",
    "Also relevant is that a statewide stay-at-home order for non-essential workers was implemented on March 22, 2020, and masking policy was implemented on April 15, 2020. A nice list of COVID-19 policy interventions for New York City and State has been compiled [here](https://www.investopedia.com/historical-timeline-of-covid-19-in-new-york-city-5071986![image.png](attachment:d380d245-11ca-41f1-9863-e2a2dcf5ebce.png)![image.png](attachment:b30f6e31-bc7f-43a8-b7c8-b1df78db3b86.png)![image.png](attachment:b5109588-59ed-447c-9271-50eb56fe9081.png)![image.png](attachment:2c42138a-696d-4cef-9b79-4843d38ff029.png))."
   ]
  },
  {
   "cell_type": "code",
   "execution_count": 10,
   "id": "2f63b3cc-7ace-42d7-a964-f9b8103877a3",
   "metadata": {},
   "outputs": [],
   "source": [
    "url = 'https://raw.githubusercontent.com/DARPA-ASKEM/experiments/main/thin-thread-examples/milestone_12month/evaluation/ensemble_eval_SA/datasets/aabb3684-a7ea-4f60-98f1-a8e673ad6df5/dataset.csv'\n",
    "ny_data = pd.read_csv(url)\n",
    "\n",
    "# Grab test data for four-week forecast (04/03/2020 - 05/01/2020)\n",
    "test_data = ny_data[41:101].reset_index()\n",
    "test_data = test_data.drop(columns=\"timestep\")\n",
    "test_data = test_data.drop(columns=\"index\")\n",
    "\n",
    "# Select historical data from 03/01/2020 up to Timepoint 1, 04/02/2020 (the first 73 rows)\n",
    "# No hospitalization data at this point\n",
    "ny_data = ny_data[41:72].reset_index(drop=True)\n",
    "ny_data1 = ny_data.assign(timepoints=[float(i) for i in range(len(ny_data))])\n",
    "ny_data = ny_data1[[\"timepoints\", \"I\", \"H\", \"D\"]]\n",
    "ny_data[[\"I\", \"H\", \"D\"]].to_csv(\"NY_data1.csv\")\n",
    "\n",
    "# Set timepoints\n",
    "start_timepoint = 0\n",
    "stop_timepoint = len(ny_data) + 28 # simulate for four weeks after end of data\n",
    "timepoints = [float(i) for i in range(stop_timepoint + 1)]"
   ]
  },
  {
   "cell_type": "markdown",
   "id": "88df33c0-f86c-4cc4-8f98-6191d71b442b",
   "metadata": {},
   "source": [
    "# Calibrate and sample an ensemble of one model"
   ]
  },
  {
   "cell_type": "code",
   "execution_count": 156,
   "id": "7448e4a2-1903-4a0f-bf0a-916069b5b4db",
   "metadata": {},
   "outputs": [
    {
     "name": "stdout",
     "output_type": "stream",
     "text": [
      "iteration 0: loss = 700.9401803314686\n",
      "iteration 25: loss = 673.134889036417\n",
      "iteration 50: loss = 637.5662955343723\n",
      "iteration 75: loss = 634.1837383806705\n",
      "iteration 100: loss = 635.7135492861271\n",
      "iteration 125: loss = 634.2485391199589\n",
      "iteration 150: loss = 635.6275178492069\n",
      "iteration 175: loss = 634.7659775316715\n",
      "iteration 200: loss = 641.5253984034061\n",
      "iteration 225: loss = 636.9702662527561\n",
      "\n"
     ]
    },
    {
     "data": {
      "application/vnd.vega.v5+json": {
       "$schema": "https://vega.github.io/schema/vega/v5.json",
       "axes": [
        {
         "name": "x_axis",
         "orient": "bottom",
         "scale": "xscale",
         "zindex": 100
        },
        {
         "name": "y_axis",
         "orient": "left",
         "scale": "yscale",
         "zindex": 100
        }
       ],
       "data": [
        {
         "name": "distributions",
         "values": [
          {
           "lower": 6.047429850638495e-23,
           "timepoint": 0,
           "trajectory": "D_sol",
           "upper": 2.012903812722998e-21
          },
          {
           "lower": 0.006731019378639758,
           "timepoint": 1,
           "trajectory": "D_sol",
           "upper": 0.22263416647911072
          },
          {
           "lower": 0.0292966527864337,
           "timepoint": 2,
           "trajectory": "D_sol",
           "upper": 0.9644092142581939
          },
          {
           "lower": 0.0709055295214057,
           "timepoint": 3,
           "trajectory": "D_sol",
           "upper": 2.3253509402275085
          },
          {
           "lower": 0.1348980449140072,
           "timepoint": 4,
           "trajectory": "D_sol",
           "upper": 4.410385751724243
          },
          {
           "lower": 0.22527972906827928,
           "timepoint": 5,
           "trajectory": "D_sol",
           "upper": 7.346241426467895
          },
          {
           "lower": 0.347122722864151,
           "timepoint": 6,
           "trajectory": "D_sol",
           "upper": 11.294023466110229
          },
          {
           "lower": 0.5069348856806756,
           "timepoint": 7,
           "trajectory": "D_sol",
           "upper": 16.460703754425047
          },
          {
           "lower": 0.7130511254072189,
           "timepoint": 8,
           "trajectory": "D_sol",
           "upper": 23.11126260757446
          },
          {
           "lower": 0.9760865449905396,
           "timepoint": 9,
           "trajectory": "D_sol",
           "upper": 31.58292150497436
          },
          {
           "lower": 1.3094941556453705,
           "timepoint": 10,
           "trajectory": "D_sol",
           "upper": 42.30231552124023
          },
          {
           "lower": 1.730239737033844,
           "timepoint": 11,
           "trajectory": "D_sol",
           "upper": 55.80675334930419
          },
          {
           "lower": 2.2596508502960204,
           "timepoint": 12,
           "trajectory": "D_sol",
           "upper": 72.77019309997557
          },
          {
           "lower": 2.924418234825134,
           "timepoint": 13,
           "trajectory": "D_sol",
           "upper": 94.03514747619627
          },
          {
           "lower": 3.757877564430237,
           "timepoint": 14,
           "trajectory": "D_sol",
           "upper": 120.6493110656738
          },
          {
           "lower": 4.801405453681946,
           "timepoint": 15,
           "trajectory": "D_sol",
           "upper": 153.8512397766113
          },
          {
           "lower": 6.106036949157715,
           "timepoint": 16,
           "trajectory": "D_sol",
           "upper": 195.26174316406247
          },
          {
           "lower": 7.734069991111755,
           "timepoint": 17,
           "trajectory": "D_sol",
           "upper": 246.804711151123
          },
          {
           "lower": 9.760306692123413,
           "timepoint": 18,
           "trajectory": "D_sol",
           "upper": 310.7714569091796
          },
          {
           "lower": 12.272357082366943,
           "timepoint": 19,
           "trajectory": "D_sol",
           "upper": 389.8134460449218
          },
          {
           "lower": 15.369044971466064,
           "timepoint": 20,
           "trajectory": "D_sol",
           "upper": 486.8669479370116
          },
          {
           "lower": 19.155784320831298,
           "timepoint": 21,
           "trajectory": "D_sol",
           "upper": 605.7786773681639
          },
          {
           "lower": 23.736524963378905,
           "timepoint": 22,
           "trajectory": "D_sol",
           "upper": 752.4743469238281
          },
          {
           "lower": 29.203024864196777,
           "timepoint": 23,
           "trajectory": "D_sol",
           "upper": 927.5109710693358
          },
          {
           "lower": 35.70401096343994,
           "timepoint": 24,
           "trajectory": "D_sol",
           "upper": 1132.7815063476562
          },
          {
           "lower": 43.33835582733154,
           "timepoint": 25,
           "trajectory": "D_sol",
           "upper": 1368.9978332519531
          },
          {
           "lower": 51.96162090301514,
           "timepoint": 26,
           "trajectory": "D_sol",
           "upper": 1635.144842529297
          },
          {
           "lower": 61.50631332397461,
           "timepoint": 27,
           "trajectory": "D_sol",
           "upper": 1910.62353515625
          },
          {
           "lower": 71.87118339538574,
           "timepoint": 28,
           "trajectory": "D_sol",
           "upper": 2207.274914550781
          },
          {
           "lower": 82.93216857910156,
           "timepoint": 29,
           "trajectory": "D_sol",
           "upper": 2549.1775268554684
          },
          {
           "lower": 94.5533618927002,
           "timepoint": 30,
           "trajectory": "D_sol",
           "upper": 2912.992639160156
          },
          {
           "lower": 106.59635047912597,
           "timepoint": 31,
           "trajectory": "D_sol",
           "upper": 3295.727612304687
          },
          {
           "lower": 119.41906433105468,
           "timepoint": 32,
           "trajectory": "D_sol",
           "upper": 3694.403393554687
          },
          {
           "lower": 132.8706283569336,
           "timepoint": 33,
           "trajectory": "D_sol",
           "upper": 4106.198046875
          },
          {
           "lower": 146.69288864135743,
           "timepoint": 34,
           "trajectory": "D_sol",
           "upper": 4528.5201416015625
          },
          {
           "lower": 160.81100769042968,
           "timepoint": 35,
           "trajectory": "D_sol",
           "upper": 4955.703759765625
          },
          {
           "lower": 175.1587760925293,
           "timepoint": 36,
           "trajectory": "D_sol",
           "upper": 5366.43857421875
          },
          {
           "lower": 189.67938537597655,
           "timepoint": 37,
           "trajectory": "D_sol",
           "upper": 5775.647485351562
          },
          {
           "lower": 204.32236251831054,
           "timepoint": 38,
           "trajectory": "D_sol",
           "upper": 6181.632055664062
          },
          {
           "lower": 219.04702911376953,
           "timepoint": 39,
           "trajectory": "D_sol",
           "upper": 6582.971362304687
          },
          {
           "lower": 233.8167594909668,
           "timepoint": 40,
           "trajectory": "D_sol",
           "upper": 6978.553393554687
          },
          {
           "lower": 248.60226593017578,
           "timepoint": 41,
           "trajectory": "D_sol",
           "upper": 7367.446777343749
          },
          {
           "lower": 263.3788543701172,
           "timepoint": 42,
           "trajectory": "D_sol",
           "upper": 7748.957690429686
          },
          {
           "lower": 278.12621536254886,
           "timepoint": 43,
           "trajectory": "D_sol",
           "upper": 8122.544995117186
          },
          {
           "lower": 292.8276077270508,
           "timepoint": 44,
           "trajectory": "D_sol",
           "upper": 8487.817236328123
          },
          {
           "lower": 307.4692886352539,
           "timepoint": 45,
           "trajectory": "D_sol",
           "upper": 8844.485058593747
          },
          {
           "lower": 322.04019317626955,
           "timepoint": 46,
           "trajectory": "D_sol",
           "upper": 9192.388867187497
          },
          {
           "lower": 336.5318298339844,
           "timepoint": 47,
           "trajectory": "D_sol",
           "upper": 9527.288818359373
          },
          {
           "lower": 350.9369827270508,
           "timepoint": 48,
           "trajectory": "D_sol",
           "upper": 9850.006249999999
          },
          {
           "lower": 365.2487487792969,
           "timepoint": 49,
           "trajectory": "D_sol",
           "upper": 10163.390527343749
          },
          {
           "lower": 379.57401275634766,
           "timepoint": 50,
           "trajectory": "D_sol",
           "upper": 10467.541455078122
          },
          {
           "lower": 393.85391998291016,
           "timepoint": 51,
           "trajectory": "D_sol",
           "upper": 10762.571093749999
          },
          {
           "lower": 408.03922271728516,
           "timepoint": 52,
           "trajectory": "D_sol",
           "upper": 11097.946728515624
          },
          {
           "lower": 422.12684173583983,
           "timepoint": 53,
           "trajectory": "D_sol",
           "upper": 11436.34052734375
          },
          {
           "lower": 436.11572418212893,
           "timepoint": 54,
           "trajectory": "D_sol",
           "upper": 11769.416650390625
          },
          {
           "lower": 450.0027770996094,
           "timepoint": 55,
           "trajectory": "D_sol",
           "upper": 12097.21279296875
          },
          {
           "lower": 463.78838195800785,
           "timepoint": 56,
           "trajectory": "D_sol",
           "upper": 12343.07197265625
          },
          {
           "lower": 471.9337982177735,
           "timepoint": 57,
           "trajectory": "D_sol",
           "upper": 12593.784130859374
          },
          {
           "lower": 477.1206192016602,
           "timepoint": 58,
           "trajectory": "D_sol",
           "upper": 12985.852783203125
          },
          {
           "lower": 481.98475036621096,
           "timepoint": 59,
           "trajectory": "D_sol",
           "upper": 13377.133740234374
          },
          {
           "lower": 6.214720058017598e-11,
           "timepoint": 0,
           "trajectory": "H_sol",
           "upper": 5.469122876800015e-10
          },
          {
           "lower": 0.7209308296442032,
           "timepoint": 1,
           "trajectory": "H_sol",
           "upper": 6.322977375984192
          },
          {
           "lower": 1.611201161146164,
           "timepoint": 2,
           "trajectory": "H_sol",
           "upper": 14.083196449279786
          },
          {
           "lower": 2.661970841884613,
           "timepoint": 3,
           "trajectory": "H_sol",
           "upper": 23.18467483520508
          },
          {
           "lower": 3.897009885311127,
           "timepoint": 4,
           "trajectory": "H_sol",
           "upper": 33.81618156433105
          },
          {
           "lower": 5.362785816192627,
           "timepoint": 5,
           "trajectory": "H_sol",
           "upper": 46.24505958557129
          },
          {
           "lower": 7.124848198890686,
           "timepoint": 6,
           "trajectory": "H_sol",
           "upper": 61.130934143066405
          },
          {
           "lower": 9.2679612159729,
           "timepoint": 7,
           "trajectory": "H_sol",
           "upper": 79.12579956054688
          },
          {
           "lower": 11.898711490631104,
           "timepoint": 8,
           "trajectory": "H_sol",
           "upper": 101.06915130615235
          },
          {
           "lower": 15.149819040298462,
           "timepoint": 9,
           "trajectory": "H_sol",
           "upper": 128.0201686859131
          },
          {
           "lower": 19.186264991760254,
           "timepoint": 10,
           "trajectory": "H_sol",
           "upper": 161.28075561523437
          },
          {
           "lower": 24.212871742248534,
           "timepoint": 11,
           "trajectory": "H_sol",
           "upper": 202.61724929809571
          },
          {
           "lower": 30.48348960876465,
           "timepoint": 12,
           "trajectory": "H_sol",
           "upper": 254.92115936279296
          },
          {
           "lower": 38.311560249328615,
           "timepoint": 13,
           "trajectory": "H_sol",
           "upper": 318.8776824951172
          },
          {
           "lower": 48.081261444091794,
           "timepoint": 14,
           "trajectory": "H_sol",
           "upper": 398.30983581542966
          },
          {
           "lower": 60.25725326538086,
           "timepoint": 15,
           "trajectory": "H_sol",
           "upper": 496.7559844970703
          },
          {
           "lower": 75.38928565979003,
           "timepoint": 16,
           "trajectory": "H_sol",
           "upper": 618.4604522705077
          },
          {
           "lower": 94.30989608764648,
           "timepoint": 17,
           "trajectory": "H_sol",
           "upper": 768.2861328125
          },
          {
           "lower": 117.95570831298828,
           "timepoint": 18,
           "trajectory": "H_sol",
           "upper": 951.3557586669921
          },
          {
           "lower": 146.71871337890624,
           "timepoint": 19,
           "trajectory": "H_sol",
           "upper": 1172.4978332519531
          },
          {
           "lower": 181.0411491394043,
           "timepoint": 20,
           "trajectory": "H_sol",
           "upper": 1435.1765258789062
          },
          {
           "lower": 220.92880325317384,
           "timepoint": 21,
           "trajectory": "H_sol",
           "upper": 1739.7653076171873
          },
          {
           "lower": 265.7340774536133,
           "timepoint": 22,
           "trajectory": "H_sol",
           "upper": 2083.059191894531
          },
          {
           "lower": 314.0541015625,
           "timepoint": 23,
           "trajectory": "H_sol",
           "upper": 2456.8377197265627
          },
          {
           "lower": 363.84129943847654,
           "timepoint": 24,
           "trajectory": "H_sol",
           "upper": 2830.969689941406
          },
          {
           "lower": 412.71593475341797,
           "timepoint": 25,
           "trajectory": "H_sol",
           "upper": 3242.980029296875
          },
          {
           "lower": 458.35260620117185,
           "timepoint": 26,
           "trajectory": "H_sol",
           "upper": 3634.29541015625
          },
          {
           "lower": 498.8105834960937,
           "timepoint": 27,
           "trajectory": "H_sol",
           "upper": 3959.7893920898437
          },
          {
           "lower": 535.9531829833984,
           "timepoint": 28,
           "trajectory": "H_sol",
           "upper": 4241.285913085937
          },
          {
           "lower": 569.1329162597656,
           "timepoint": 29,
           "trajectory": "H_sol",
           "upper": 4569.7484130859375
          },
          {
           "lower": 596.8338653564454,
           "timepoint": 30,
           "trajectory": "H_sol",
           "upper": 4864.614428710937
          },
          {
           "lower": 618.9328430175781,
           "timepoint": 31,
           "trajectory": "H_sol",
           "upper": 5107.05048828125
          },
          {
           "lower": 640.7469909667968,
           "timepoint": 32,
           "trajectory": "H_sol",
           "upper": 5286.88330078125
          },
          {
           "lower": 660.4417907714844,
           "timepoint": 33,
           "trajectory": "H_sol",
           "upper": 5425.334497070313
          },
          {
           "lower": 669.7116638183594,
           "timepoint": 34,
           "trajectory": "H_sol",
           "upper": 5481.490649414062
          },
          {
           "lower": 662.9444274902344,
           "timepoint": 35,
           "trajectory": "H_sol",
           "upper": 5485.246020507812
          },
          {
           "lower": 653.7609436035157,
           "timepoint": 36,
           "trajectory": "H_sol",
           "upper": 5458.4632568359375
          },
          {
           "lower": 649.2343902587891,
           "timepoint": 37,
           "trajectory": "H_sol",
           "upper": 5406.809838867187
          },
          {
           "lower": 642.2854156494141,
           "timepoint": 38,
           "trajectory": "H_sol",
           "upper": 5334.741748046875
          },
          {
           "lower": 633.3641052246094,
           "timepoint": 39,
           "trajectory": "H_sol",
           "upper": 5255.242700195312
          },
          {
           "lower": 622.8666412353516,
           "timepoint": 40,
           "trajectory": "H_sol",
           "upper": 5227.9010009765625
          },
          {
           "lower": 611.1324188232422,
           "timepoint": 41,
           "trajectory": "H_sol",
           "upper": 5122.808374023437
          },
          {
           "lower": 595.0364013671875,
           "timepoint": 42,
           "trajectory": "H_sol",
           "upper": 5065.602490234374
          },
          {
           "lower": 568.1692596435547,
           "timepoint": 43,
           "trajectory": "H_sol",
           "upper": 5018.936914062499
          },
          {
           "lower": 541.4772720336914,
           "timepoint": 44,
           "trajectory": "H_sol",
           "upper": 4967.054760742187
          },
          {
           "lower": 515.5755630493164,
           "timepoint": 45,
           "trajectory": "H_sol",
           "upper": 4919.35546875
          },
          {
           "lower": 490.83231353759766,
           "timepoint": 46,
           "trajectory": "H_sol",
           "upper": 4898.822216796875
          },
          {
           "lower": 477.3979782104492,
           "timepoint": 47,
           "trajectory": "H_sol",
           "upper": 4840.193896484375
          },
          {
           "lower": 457.8023162841797,
           "timepoint": 48,
           "trajectory": "H_sol",
           "upper": 4803.376977539062
          },
          {
           "lower": 431.1783966064453,
           "timepoint": 49,
           "trajectory": "H_sol",
           "upper": 4764.791552734375
          },
          {
           "lower": 405.73370056152345,
           "timepoint": 50,
           "trajectory": "H_sol",
           "upper": 4724.796875
          },
          {
           "lower": 381.4884796142578,
           "timepoint": 51,
           "trajectory": "H_sol",
           "upper": 4683.728784179687
          },
          {
           "lower": 358.44306640625,
           "timepoint": 52,
           "trajectory": "H_sol",
           "upper": 4641.829418945312
          },
          {
           "lower": 336.5865951538086,
           "timepoint": 53,
           "trajectory": "H_sol",
           "upper": 4599.32568359375
          },
          {
           "lower": 315.8959503173828,
           "timepoint": 54,
           "trajectory": "H_sol",
           "upper": 4556.36826171875
          },
          {
           "lower": 297.05645446777345,
           "timepoint": 55,
           "trajectory": "H_sol",
           "upper": 4513.120825195312
          },
          {
           "lower": 280.07066040039064,
           "timepoint": 56,
           "trajectory": "H_sol",
           "upper": 4469.698046875
          },
          {
           "lower": 263.9761367797852,
           "timepoint": 57,
           "trajectory": "H_sol",
           "upper": 4426.190820312499
          },
          {
           "lower": 248.83884506225587,
           "timepoint": 58,
           "trajectory": "H_sol",
           "upper": 4382.6814453125
          },
          {
           "lower": 235.32111587524415,
           "timepoint": 59,
           "trajectory": "H_sol",
           "upper": 4339.234008789062
          },
          {
           "lower": 175,
           "timepoint": 0,
           "trajectory": "I_sol",
           "upper": 175
          },
          {
           "lower": 266.1368011474609,
           "timepoint": 1,
           "trajectory": "I_sol",
           "upper": 270.748583984375
          },
          {
           "lower": 356.6021926879883,
           "timepoint": 2,
           "trajectory": "I_sol",
           "upper": 368.17176361083983
          },
          {
           "lower": 457.37286376953125,
           "timepoint": 3,
           "trajectory": "I_sol",
           "upper": 478.5310775756836
          },
          {
           "lower": 576.3509063720703,
           "timepoint": 4,
           "trajectory": "I_sol",
           "upper": 611.0454498291016
          },
          {
           "lower": 720.5636779785157,
           "timepoint": 5,
           "trajectory": "I_sol",
           "upper": 775.3609832763672
          },
          {
           "lower": 897.6154083251953,
           "timepoint": 6,
           "trajectory": "I_sol",
           "upper": 978.7946868896485
          },
          {
           "lower": 1114.0626281738282,
           "timepoint": 7,
           "trajectory": "I_sol",
           "upper": 1235.7232727050782
          },
          {
           "lower": 1383.232861328125,
           "timepoint": 8,
           "trajectory": "I_sol",
           "upper": 1560.941845703125
          },
          {
           "lower": 1715.5492797851562,
           "timepoint": 9,
           "trajectory": "I_sol",
           "upper": 1971.125537109375
          },
          {
           "lower": 2127.15029296875,
           "timepoint": 10,
           "trajectory": "I_sol",
           "upper": 2488.4478759765625
          },
          {
           "lower": 2636.7906005859377,
           "timepoint": 11,
           "trajectory": "I_sol",
           "upper": 3140.558850097656
          },
          {
           "lower": 3267.26416015625,
           "timepoint": 12,
           "trajectory": "I_sol",
           "upper": 3961.724475097656
          },
          {
           "lower": 4045.97783203125,
           "timepoint": 13,
           "trajectory": "I_sol",
           "upper": 4993.9459228515625
          },
          {
           "lower": 5005.325610351562,
           "timepoint": 14,
           "trajectory": "I_sol",
           "upper": 6287.714990234374
          },
          {
           "lower": 6182.282885742187,
           "timepoint": 15,
           "trajectory": "I_sol",
           "upper": 7901.681054687499
          },
          {
           "lower": 7616.58212890625,
           "timepoint": 16,
           "trajectory": "I_sol",
           "upper": 9899.974560546874
          },
          {
           "lower": 9346.145263671875,
           "timepoint": 17,
           "trajectory": "I_sol",
           "upper": 12344.82197265625
          },
          {
           "lower": 11398.070751953124,
           "timepoint": 18,
           "trajectory": "I_sol",
           "upper": 15281.384716796874
          },
          {
           "lower": 13774.3576171875,
           "timepoint": 19,
           "trajectory": "I_sol",
           "upper": 18712.78193359375
          },
          {
           "lower": 16434.379345703124,
           "timepoint": 20,
           "trajectory": "I_sol",
           "upper": 22567.78681640625
          },
          {
           "lower": 19281.30634765625,
           "timepoint": 21,
           "trajectory": "I_sol",
           "upper": 26675.13857421875
          },
          {
           "lower": 22163.710546875,
           "timepoint": 22,
           "trajectory": "I_sol",
           "upper": 30880.096289062498
          },
          {
           "lower": 24952.033203125,
           "timepoint": 23,
           "trajectory": "I_sol",
           "upper": 35079.7216796875
          },
          {
           "lower": 27442.278125,
           "timepoint": 24,
           "trajectory": "I_sol",
           "upper": 38904.751171875
          },
          {
           "lower": 29335.5146484375,
           "timepoint": 25,
           "trajectory": "I_sol",
           "upper": 41731.663281249996
          },
          {
           "lower": 30359.9357421875,
           "timepoint": 26,
           "trajectory": "I_sol",
           "upper": 43852.420507812494
          },
          {
           "lower": 31319.2634765625,
           "timepoint": 27,
           "trajectory": "I_sol",
           "upper": 45969.389843749996
          },
          {
           "lower": 31870.48232421875,
           "timepoint": 28,
           "trajectory": "I_sol",
           "upper": 47547.8974609375
          },
          {
           "lower": 31851.4041015625,
           "timepoint": 29,
           "trajectory": "I_sol",
           "upper": 48703.3375
          },
          {
           "lower": 31624.05498046875,
           "timepoint": 30,
           "trajectory": "I_sol",
           "upper": 49406.675390625
          },
          {
           "lower": 30925.72744140625,
           "timepoint": 31,
           "trajectory": "I_sol",
           "upper": 49773.078125
          },
          {
           "lower": 30411.1505859375,
           "timepoint": 32,
           "trajectory": "I_sol",
           "upper": 49330.873828125
          },
          {
           "lower": 30009.290625,
           "timepoint": 33,
           "trajectory": "I_sol",
           "upper": 48905.437109375
          },
          {
           "lower": 28797.2376953125,
           "timepoint": 34,
           "trajectory": "I_sol",
           "upper": 48862.9142578125
          },
          {
           "lower": 27498.69697265625,
           "timepoint": 35,
           "trajectory": "I_sol",
           "upper": 48587.5166015625
          },
          {
           "lower": 26107.1796875,
           "timepoint": 36,
           "trajectory": "I_sol",
           "upper": 48064.22734375
          },
          {
           "lower": 24624.07724609375,
           "timepoint": 37,
           "trajectory": "I_sol",
           "upper": 47497.476953125
          },
          {
           "lower": 23212.96142578125,
           "timepoint": 38,
           "trajectory": "I_sol",
           "upper": 46902.4052734375
          },
          {
           "lower": 21921.362109375,
           "timepoint": 39,
           "trajectory": "I_sol",
           "upper": 46553.2185546875
          },
          {
           "lower": 20857.536328125,
           "timepoint": 40,
           "trajectory": "I_sol",
           "upper": 46320.8939453125
          },
          {
           "lower": 19668.591796875,
           "timepoint": 41,
           "trajectory": "I_sol",
           "upper": 46078.527929687494
          },
          {
           "lower": 18469.62021484375,
           "timepoint": 42,
           "trajectory": "I_sol",
           "upper": 45829.251171874996
          },
          {
           "lower": 17337.229296875,
           "timepoint": 43,
           "trajectory": "I_sol",
           "upper": 45575.2078125
          },
          {
           "lower": 16269.625390625,
           "timepoint": 44,
           "trajectory": "I_sol",
           "upper": 45318.1306640625
          },
          {
           "lower": 15264.43056640625,
           "timepoint": 45,
           "trajectory": "I_sol",
           "upper": 45058.8884765625
          },
          {
           "lower": 14318.97939453125,
           "timepoint": 46,
           "trajectory": "I_sol",
           "upper": 44798.319531249996
          },
          {
           "lower": 13430.330224609375,
           "timepoint": 47,
           "trajectory": "I_sol",
           "upper": 44536.949414062496
          },
          {
           "lower": 12595.63427734375,
           "timepoint": 48,
           "trajectory": "I_sol",
           "upper": 44275.059179687494
          },
          {
           "lower": 11811.931591796874,
           "timepoint": 49,
           "trajectory": "I_sol",
           "upper": 44013.134960937496
          },
          {
           "lower": 11076.355859375,
           "timepoint": 50,
           "trajectory": "I_sol",
           "upper": 43751.1171875
          },
          {
           "lower": 10386.127197265625,
           "timepoint": 51,
           "trajectory": "I_sol",
           "upper": 43489.290234374996
          },
          {
           "lower": 9700.750634765625,
           "timepoint": 52,
           "trajectory": "I_sol",
           "upper": 43227.634375
          },
          {
           "lower": 9039.202099609374,
           "timepoint": 53,
           "trajectory": "I_sol",
           "upper": 42966.3169921875
          },
          {
           "lower": 8438.61982421875,
           "timepoint": 54,
           "trajectory": "I_sol",
           "upper": 42705.343945312496
          },
          {
           "lower": 7911.711401367187,
           "timepoint": 55,
           "trajectory": "I_sol",
           "upper": 42444.7744140625
          },
          {
           "lower": 7417.6380615234375,
           "timepoint": 56,
           "trajectory": "I_sol",
           "upper": 42184.626171874996
          },
          {
           "lower": 6954.363671875,
           "timepoint": 57,
           "trajectory": "I_sol",
           "upper": 41924.9615234375
          },
          {
           "lower": 6519.983227539063,
           "timepoint": 58,
           "trajectory": "I_sol",
           "upper": 41665.7828125
          },
          {
           "lower": 6112.712719726563,
           "timepoint": 59,
           "trajectory": "I_sol",
           "upper": 41407.12578125
          }
         ]
        },
        {
         "name": "traces",
         "transform": [
          {
           "expr": "isValid(datum.value)",
           "type": "filter"
          }
         ],
         "values": []
        },
        {
         "name": "points",
         "values": [
          {
           "sample_id": 0,
           "timepoint": 0,
           "trajectory": "I_data",
           "value": 1
          },
          {
           "sample_id": 0,
           "timepoint": 1,
           "trajectory": "I_data",
           "value": 10
          },
          {
           "sample_id": 0,
           "timepoint": 2,
           "trajectory": "I_data",
           "value": 21
          },
          {
           "sample_id": 0,
           "timepoint": 3,
           "trajectory": "I_data",
           "value": 24
          },
          {
           "sample_id": 0,
           "timepoint": 4,
           "trajectory": "I_data",
           "value": 76
          },
          {
           "sample_id": 0,
           "timepoint": 5,
           "trajectory": "I_data",
           "value": 104
          },
          {
           "sample_id": 0,
           "timepoint": 6,
           "trajectory": "I_data",
           "value": 128
          },
          {
           "sample_id": 0,
           "timepoint": 7,
           "trajectory": "I_data",
           "value": 131
          },
          {
           "sample_id": 0,
           "timepoint": 8,
           "trajectory": "I_data",
           "value": 192
          },
          {
           "sample_id": 0,
           "timepoint": 9,
           "trajectory": "I_data",
           "value": 220
          },
          {
           "sample_id": 0,
           "timepoint": 10,
           "trajectory": "I_data",
           "value": 274
          },
          {
           "sample_id": 0,
           "timepoint": 11,
           "trajectory": "I_data",
           "value": 394
          },
          {
           "sample_id": 0,
           "timepoint": 12,
           "trajectory": "I_data",
           "value": 481
          },
          {
           "sample_id": 0,
           "timepoint": 13,
           "trajectory": "I_data",
           "value": 745
          },
          {
           "sample_id": 0,
           "timepoint": 14,
           "trajectory": "I_data",
           "value": 1111
          },
          {
           "sample_id": 0,
           "timepoint": 15,
           "trajectory": "I_data",
           "value": 2128
          },
          {
           "sample_id": 0,
           "timepoint": 16,
           "trajectory": "I_data",
           "value": 3671
          },
          {
           "sample_id": 0,
           "timepoint": 17,
           "trajectory": "I_data",
           "value": 6578
          },
          {
           "sample_id": 0,
           "timepoint": 18,
           "trajectory": "I_data",
           "value": 9449
          },
          {
           "sample_id": 0,
           "timepoint": 19,
           "trajectory": "I_data",
           "value": 13761
          },
          {
           "sample_id": 0,
           "timepoint": 20,
           "trajectory": "I_data",
           "value": 18270
          },
          {
           "sample_id": 0,
           "timepoint": 21,
           "trajectory": "I_data",
           "value": 21478
          },
          {
           "sample_id": 0,
           "timepoint": 22,
           "trajectory": "I_data",
           "value": 23630
          },
          {
           "sample_id": 0,
           "timepoint": 23,
           "trajectory": "I_data",
           "value": 26987
          },
          {
           "sample_id": 0,
           "timepoint": 24,
           "trajectory": "I_data",
           "value": 29533
          },
          {
           "sample_id": 0,
           "timepoint": 25,
           "trajectory": "I_data",
           "value": 31623
          },
          {
           "sample_id": 0,
           "timepoint": 26,
           "trajectory": "I_data",
           "value": 33967
          },
          {
           "sample_id": 0,
           "timepoint": 27,
           "trajectory": "I_data",
           "value": 35822
          },
          {
           "sample_id": 0,
           "timepoint": 28,
           "trajectory": "I_data",
           "value": 38456
          },
          {
           "sample_id": 0,
           "timepoint": 29,
           "trajectory": "I_data",
           "value": 45676
          },
          {
           "sample_id": 0,
           "timepoint": 30,
           "trajectory": "I_data",
           "value": 48380
          },
          {
           "sample_id": 0,
           "timepoint": 31,
           "trajectory": "I_data",
           "value": 51807
          },
          {
           "sample_id": 0,
           "timepoint": 32,
           "trajectory": "I_data",
           "value": 55042
          },
          {
           "sample_id": 0,
           "timepoint": 33,
           "trajectory": "I_data",
           "value": 56847
          },
          {
           "sample_id": 0,
           "timepoint": 34,
           "trajectory": "I_data",
           "value": 52184
          },
          {
           "sample_id": 0,
           "timepoint": 35,
           "trajectory": "I_data",
           "value": 49194
          },
          {
           "sample_id": 0,
           "timepoint": 36,
           "trajectory": "I_data",
           "value": 48730
          },
          {
           "sample_id": 0,
           "timepoint": 37,
           "trajectory": "I_data",
           "value": 50551
          },
          {
           "sample_id": 0,
           "timepoint": 38,
           "trajectory": "I_data",
           "value": 51029
          },
          {
           "sample_id": 0,
           "timepoint": 39,
           "trajectory": "I_data",
           "value": 49701
          },
          {
           "sample_id": 0,
           "timepoint": 40,
           "trajectory": "I_data",
           "value": 50661
          },
          {
           "sample_id": 0,
           "timepoint": 41,
           "trajectory": "I_data",
           "value": 48303
          },
          {
           "sample_id": 0,
           "timepoint": 42,
           "trajectory": "I_data",
           "value": 43703
          },
          {
           "sample_id": 0,
           "timepoint": 43,
           "trajectory": "I_data",
           "value": 38888
          },
          {
           "sample_id": 0,
           "timepoint": 44,
           "trajectory": "I_data",
           "value": 38244
          },
          {
           "sample_id": 0,
           "timepoint": 45,
           "trajectory": "I_data",
           "value": 36857
          },
          {
           "sample_id": 0,
           "timepoint": 46,
           "trajectory": "I_data",
           "value": 35881
          },
          {
           "sample_id": 0,
           "timepoint": 47,
           "trajectory": "I_data",
           "value": 35054
          },
          {
           "sample_id": 0,
           "timepoint": 48,
           "trajectory": "I_data",
           "value": 34782
          },
          {
           "sample_id": 0,
           "timepoint": 49,
           "trajectory": "I_data",
           "value": 31526
          },
          {
           "sample_id": 0,
           "timepoint": 50,
           "trajectory": "I_data",
           "value": 28799
          },
          {
           "sample_id": 0,
           "timepoint": 51,
           "trajectory": "I_data",
           "value": 27419
          },
          {
           "sample_id": 0,
           "timepoint": 52,
           "trajectory": "I_data",
           "value": 27443
          },
          {
           "sample_id": 0,
           "timepoint": 53,
           "trajectory": "I_data",
           "value": 30499
          },
          {
           "sample_id": 0,
           "timepoint": 54,
           "trajectory": "I_data",
           "value": 31543
          },
          {
           "sample_id": 0,
           "timepoint": 55,
           "trajectory": "I_data",
           "value": 31597
          },
          {
           "sample_id": 0,
           "timepoint": 56,
           "trajectory": "I_data",
           "value": 29008
          },
          {
           "sample_id": 0,
           "timepoint": 57,
           "trajectory": "I_data",
           "value": 25476
          },
          {
           "sample_id": 0,
           "timepoint": 58,
           "trajectory": "I_data",
           "value": 20411
          },
          {
           "sample_id": 0,
           "timepoint": 59,
           "trajectory": "I_data",
           "value": 19224
          },
          {
           "sample_id": 0,
           "timepoint": 38,
           "trajectory": "H_data",
           "value": 0
          },
          {
           "sample_id": 0,
           "timepoint": 39,
           "trajectory": "H_data",
           "value": 0
          },
          {
           "sample_id": 0,
           "timepoint": 45,
           "trajectory": "H_data",
           "value": 0
          },
          {
           "sample_id": 0,
           "timepoint": 46,
           "trajectory": "H_data",
           "value": 1
          },
          {
           "sample_id": 0,
           "timepoint": 52,
           "trajectory": "H_data",
           "value": 0
          },
          {
           "sample_id": 0,
           "timepoint": 53,
           "trajectory": "H_data",
           "value": 0
          },
          {
           "sample_id": 0,
           "timepoint": 54,
           "trajectory": "H_data",
           "value": 1
          },
          {
           "sample_id": 0,
           "timepoint": 55,
           "trajectory": "H_data",
           "value": 0
          },
          {
           "sample_id": 0,
           "timepoint": 56,
           "trajectory": "H_data",
           "value": 0
          },
          {
           "sample_id": 0,
           "timepoint": 57,
           "trajectory": "H_data",
           "value": 0
          },
          {
           "sample_id": 0,
           "timepoint": 58,
           "trajectory": "H_data",
           "value": 0
          },
          {
           "sample_id": 0,
           "timepoint": 59,
           "trajectory": "H_data",
           "value": 0
          },
          {
           "sample_id": 0,
           "timepoint": 0,
           "trajectory": "D_data",
           "value": 0
          },
          {
           "sample_id": 0,
           "timepoint": 1,
           "trajectory": "D_data",
           "value": 0
          },
          {
           "sample_id": 0,
           "timepoint": 2,
           "trajectory": "D_data",
           "value": 0
          },
          {
           "sample_id": 0,
           "timepoint": 3,
           "trajectory": "D_data",
           "value": 0
          },
          {
           "sample_id": 0,
           "timepoint": 4,
           "trajectory": "D_data",
           "value": 0
          },
          {
           "sample_id": 0,
           "timepoint": 5,
           "trajectory": "D_data",
           "value": 0
          },
          {
           "sample_id": 0,
           "timepoint": 6,
           "trajectory": "D_data",
           "value": 0
          },
          {
           "sample_id": 0,
           "timepoint": 7,
           "trajectory": "D_data",
           "value": 0
          },
          {
           "sample_id": 0,
           "timepoint": 8,
           "trajectory": "D_data",
           "value": 1
          },
          {
           "sample_id": 0,
           "timepoint": 9,
           "trajectory": "D_data",
           "value": 1
          },
          {
           "sample_id": 0,
           "timepoint": 10,
           "trajectory": "D_data",
           "value": 1
          },
          {
           "sample_id": 0,
           "timepoint": 11,
           "trajectory": "D_data",
           "value": 4
          },
          {
           "sample_id": 0,
           "timepoint": 12,
           "trajectory": "D_data",
           "value": 9
          },
          {
           "sample_id": 0,
           "timepoint": 13,
           "trajectory": "D_data",
           "value": 19
          },
          {
           "sample_id": 0,
           "timepoint": 14,
           "trajectory": "D_data",
           "value": 30
          },
          {
           "sample_id": 0,
           "timepoint": 15,
           "trajectory": "D_data",
           "value": 51
          },
          {
           "sample_id": 0,
           "timepoint": 16,
           "trajectory": "D_data",
           "value": 77
          },
          {
           "sample_id": 0,
           "timepoint": 17,
           "trajectory": "D_data",
           "value": 129
          },
          {
           "sample_id": 0,
           "timepoint": 18,
           "trajectory": "D_data",
           "value": 175
          },
          {
           "sample_id": 0,
           "timepoint": 19,
           "trajectory": "D_data",
           "value": 226
          },
          {
           "sample_id": 0,
           "timepoint": 20,
           "trajectory": "D_data",
           "value": 315
          },
          {
           "sample_id": 0,
           "timepoint": 21,
           "trajectory": "D_data",
           "value": 427
          },
          {
           "sample_id": 0,
           "timepoint": 22,
           "trajectory": "D_data",
           "value": 565
          },
          {
           "sample_id": 0,
           "timepoint": 23,
           "trajectory": "D_data",
           "value": 759
          },
          {
           "sample_id": 0,
           "timepoint": 24,
           "trajectory": "D_data",
           "value": 984
          },
          {
           "sample_id": 0,
           "timepoint": 25,
           "trajectory": "D_data",
           "value": 1285
          },
          {
           "sample_id": 0,
           "timepoint": 26,
           "trajectory": "D_data",
           "value": 1603
          },
          {
           "sample_id": 0,
           "timepoint": 27,
           "trajectory": "D_data",
           "value": 1930
          },
          {
           "sample_id": 0,
           "timepoint": 28,
           "trajectory": "D_data",
           "value": 2334
          },
          {
           "sample_id": 0,
           "timepoint": 29,
           "trajectory": "D_data",
           "value": 2859
          },
          {
           "sample_id": 0,
           "timepoint": 30,
           "trajectory": "D_data",
           "value": 3420
          },
          {
           "sample_id": 0,
           "timepoint": 31,
           "trajectory": "D_data",
           "value": 3989
          },
          {
           "sample_id": 0,
           "timepoint": 32,
           "trajectory": "D_data",
           "value": 4634
          },
          {
           "sample_id": 0,
           "timepoint": 33,
           "trajectory": "D_data",
           "value": 5384
          },
          {
           "sample_id": 0,
           "timepoint": 34,
           "trajectory": "D_data",
           "value": 6185
          },
          {
           "sample_id": 0,
           "timepoint": 35,
           "trajectory": "D_data",
           "value": 7241
          },
          {
           "sample_id": 0,
           "timepoint": 36,
           "trajectory": "D_data",
           "value": 7985
          },
          {
           "sample_id": 0,
           "timepoint": 37,
           "trajectory": "D_data",
           "value": 8846
          },
          {
           "sample_id": 0,
           "timepoint": 38,
           "trajectory": "D_data",
           "value": 9579
          },
          {
           "sample_id": 0,
           "timepoint": 39,
           "trajectory": "D_data",
           "value": 10345
          },
          {
           "sample_id": 0,
           "timepoint": 40,
           "trajectory": "D_data",
           "value": 11126
          },
          {
           "sample_id": 0,
           "timepoint": 41,
           "trajectory": "D_data",
           "value": 11930
          },
          {
           "sample_id": 0,
           "timepoint": 42,
           "trajectory": "D_data",
           "value": 12669
          },
          {
           "sample_id": 0,
           "timepoint": 43,
           "trajectory": "D_data",
           "value": 13332
          },
          {
           "sample_id": 0,
           "timepoint": 44,
           "trajectory": "D_data",
           "value": 13987
          },
          {
           "sample_id": 0,
           "timepoint": 45,
           "trajectory": "D_data",
           "value": 14371
          },
          {
           "sample_id": 0,
           "timepoint": 46,
           "trajectory": "D_data",
           "value": 14780
          },
          {
           "sample_id": 0,
           "timepoint": 47,
           "trajectory": "D_data",
           "value": 15225
          },
          {
           "sample_id": 0,
           "timepoint": 48,
           "trajectory": "D_data",
           "value": 16116
          },
          {
           "sample_id": 0,
           "timepoint": 49,
           "trajectory": "D_data",
           "value": 16639
          },
          {
           "sample_id": 0,
           "timepoint": 50,
           "trajectory": "D_data",
           "value": 17091
          },
          {
           "sample_id": 0,
           "timepoint": 51,
           "trajectory": "D_data",
           "value": 17647
          },
          {
           "sample_id": 0,
           "timepoint": 52,
           "trajectory": "D_data",
           "value": 18132
          },
          {
           "sample_id": 0,
           "timepoint": 53,
           "trajectory": "D_data",
           "value": 18523
          },
          {
           "sample_id": 0,
           "timepoint": 54,
           "trajectory": "D_data",
           "value": 18882
          },
          {
           "sample_id": 0,
           "timepoint": 55,
           "trajectory": "D_data",
           "value": 19292
          },
          {
           "sample_id": 0,
           "timepoint": 56,
           "trajectory": "D_data",
           "value": 19602
          },
          {
           "sample_id": 0,
           "timepoint": 57,
           "trajectory": "D_data",
           "value": 20000
          },
          {
           "sample_id": 0,
           "timepoint": 58,
           "trajectory": "D_data",
           "value": 20334
          },
          {
           "sample_id": 0,
           "timepoint": 59,
           "trajectory": "D_data",
           "value": 20662
          }
         ]
        },
        {
         "name": "markers",
         "values": []
        },
        {
         "name": "selected",
         "on": [
          {
           "remove": true,
           "trigger": "clear"
          },
          {
           "remove": true,
           "trigger": "!shift"
          },
          {
           "insert": "clicked",
           "trigger": "!shift && clicked"
          },
          {
           "toggle": "clicked",
           "trigger": "shift && clicked"
          }
         ]
        }
       ],
       "height": 300,
       "legends": [
        {
         "encode": {
          "labels": {
           "interactive": true,
           "name": "legendLabel",
           "update": {
            "opacity": [
             {
              "test": "!length(data('selected')) || indata('selected', 'value', datum.value)",
              "value": 1
             },
             {
              "value": 0.25
             }
            ]
           }
          },
          "symbols": {
           "interactive": true,
           "name": "legendSymbol",
           "update": {
            "fill": {
             "value": "transparent"
            },
            "opacity": [
             {
              "test": "!length(data('selected')) || indata('selected', 'value', datum.value)",
              "value": 0.7
             },
             {
              "value": 0.15
             }
            ],
            "size": {
             "value": 64
            },
            "strokeWidth": {
             "value": 2
            }
           }
          }
         },
         "name": "color_legend",
         "stroke": "color"
        }
       ],
       "marks": [
        {
         "from": {
          "facet": {
           "data": "points",
           "groupby": "trajectory",
           "name": "points_split"
          }
         },
         "marks": [
          {
           "encode": {
            "hover": {
             "fillOpacity": {
              "value": 0.9
             }
            },
            "update": {
             "fill": {
              "field": "trajectory",
              "scale": "color"
             },
             "fillOpacity": [
              {
               "test": "!length(data('selected')) || indata('selected', 'value', datum.trajectory)",
               "value": 0.5
              },
              {
               "value": 0.15
              }
             ],
             "size": {
              "value": 10
             },
             "stroke": {
              "field": "trajectory",
              "scale": "color"
             },
             "strokeOpacity": [
              {
               "test": "!length(data('selected')) || indata('selected', 'value', datum.trajectory)",
               "value": 0.75
              },
              {
               "value": 0.15
              }
             ],
             "strokeWidth": {
              "value": 2
             },
             "tooltip": {
              "field": "value"
             },
             "x": {
              "field": "timepoint",
              "scale": "xscale"
             },
             "y": {
              "field": "value",
              "scale": "yscale"
             }
            }
           },
           "from": {
            "data": "points"
           },
           "name": "_points_symbol",
           "type": "symbol",
           "zindex": 3
          },
          {
           "encode": {
            "hover": {
             "fillOpacity": {
              "value": 0.9
             }
            },
            "update": {
             "interpolate": {
              "value": "linear"
             },
             "stroke": {
              "field": "trajectory",
              "scale": "color"
             },
             "strokeOpacity": [
              {
               "test": "!length(data('selected')) || indata('selected', 'value', datum.trajectory)",
               "value": 0.3
              },
              {
               "value": 0.1
              }
             ],
             "strokeWidth": {
              "value": 2
             },
             "x": {
              "field": "timepoint",
              "scale": "xscale"
             },
             "y": {
              "field": "value",
              "scale": "yscale"
             }
            }
           },
           "from": {
            "data": "points"
           },
           "name": "_points_line",
           "type": "line",
           "zindex": 3
          }
         ],
         "name": "_points",
         "type": "group",
         "zindex": 3
        },
        {
         "from": {
          "facet": {
           "data": "traces",
           "groupby": "trajectory",
           "name": "traces_split"
          }
         },
         "marks": [
          {
           "encode": {
            "hover": {
             "fillOpacity": {
              "value": 0.9
             }
            },
            "update": {
             "interpolate": {
              "value": "linear"
             },
             "stroke": {
              "field": "trajectory",
              "scale": "color"
             },
             "strokeOpacity": [
              {
               "test": "!length(data('selected')) || indata('selected', 'value', datum.trajectory)",
               "value": 0.75
              },
              {
               "value": 0.15
              }
             ],
             "strokeWidth": {
              "value": 2
             },
             "x": {
              "field": "timepoint",
              "scale": "xscale"
             },
             "y": {
              "field": "value",
              "scale": "yscale"
             }
            }
           },
           "from": {
            "data": "traces_split"
           },
           "name": "_traces_lines",
           "type": "line"
          }
         ],
         "name": "_traces",
         "type": "group",
         "zindex": 2
        },
        {
         "from": {
          "facet": {
           "data": "distributions",
           "groupby": "trajectory",
           "name": "trajectory_split"
          }
         },
         "marks": [
          {
           "encode": {
            "hover": {
             "fillOpacity": {
              "value": 0.9
             }
            },
            "update": {
             "fill": {
              "field": "trajectory",
              "scale": "color"
             },
             "fillOpacity": [
              {
               "test": "!length(data('selected')) || indata('selected', 'value', datum.trajectory)",
               "value": 0.5
              },
              {
               "value": 0.15
              }
             ],
             "interpolate": {
              "value": "linear"
             },
             "stroke": {
              "field": "trajectory",
              "scale": "color"
             },
             "strokeOpacity": [
              {
               "test": "!length(data('selected')) || indata('selected', 'value', datum.trajectory)",
               "value": 0.75
              },
              {
               "value": 0.15
              }
             ],
             "strokeWidth": {
              "value": 2
             },
             "x": {
              "field": "timepoint",
              "scale": "xscale"
             },
             "y": {
              "field": "upper",
              "scale": "yscale"
             },
             "y2": {
              "field": "lower",
              "scale": "yscale"
             }
            }
           },
           "from": {
            "data": "trajectory_split"
           },
           "type": "area"
          }
         ],
         "name": "_distributions",
         "type": "group",
         "zindex": 1
        },
        {
         "marks": [
          {
           "encode": {
            "enter": {
             "stroke": {
              "value": "lightgray"
             }
            },
            "update": {
             "opacity": {
              "value": 1
             },
             "x": {
              "field": "timepoint",
              "scale": "xscale"
             },
             "y": {
              "signal": "height"
             },
             "y2": {
              "value": 0
             }
            }
           },
           "from": {
            "data": "markers"
           },
           "name": "_marker text",
           "type": "rule"
          },
          {
           "encode": {
            "enter": {
             "fontSize": {
              "value": 8
             },
             "text": {
              "field": "datum.label"
             },
             "y": {
              "value": 0
             }
            }
           },
           "from": {
            "data": "_marker text"
           },
           "name": "_marker flags",
           "transform": [
            {
             "as": [
              "x",
              "_y",
              "opacity",
              "align",
              "baseline"
             ],
             "lineAnchor": "start",
             "offset": [
              1
             ],
             "size": {
              "signal": "[width, height]"
             },
             "type": "label"
            }
           ],
           "type": "text"
          }
         ],
         "name": "_markers",
         "type": "group"
        }
       ],
       "padding": 5,
       "scales": [
        {
         "domain": {
          "fields": [
           {
            "data": "distributions",
            "field": "timepoint"
           },
           {
            "data": "traces",
            "field": "timepoint"
           },
           {
            "data": "points",
            "field": "timepoint"
           },
           {
            "data": "markers",
            "field": "timepoint"
           }
          ]
         },
         "name": "xscale",
         "range": "width",
         "type": "linear",
         "zero": false
        },
        {
         "domain": {
          "fields": [
           {
            "data": "distributions",
            "field": "lower"
           },
           {
            "data": "distributions",
            "field": "upper"
           },
           {
            "data": "traces",
            "field": "value"
           },
           {
            "data": "points",
            "field": "value"
           }
          ]
         },
         "name": "yscale",
         "nice": true,
         "range": "height",
         "type": "linear",
         "zero": true
        },
        {
         "domain": {
          "fields": [
           {
            "data": "distributions",
            "field": "trajectory"
           },
           {
            "data": "traces",
            "field": "trajectory"
           },
           {
            "data": "points",
            "field": "trajectory"
           }
          ]
         },
         "name": "color",
         "range": "category",
         "type": "ordinal"
        }
       ],
       "signals": [
        {
         "name": "clear",
         "on": [
          {
           "events": "mouseup[!event.item]",
           "force": true,
           "update": "true"
          }
         ],
         "value": true
        },
        {
         "name": "shift",
         "on": [
          {
           "events": "@legendSymbol:click, @legendLabel:click",
           "force": true,
           "update": "event.shiftKey"
          }
         ],
         "value": false
        },
        {
         "name": "clicked",
         "on": [
          {
           "events": "@legendSymbol:click, @legendLabel:click",
           "force": true,
           "update": "{value: datum.value}"
          }
         ],
         "value": null
        }
       ],
       "width": 500
      }
     },
     "metadata": {},
     "output_type": "display_data"
    }
   ],
   "source": [
    "num_samples = 100\n",
    "model_paths = [model2_location]\n",
    "data_path = \"../../notebook/ensemble_eval_sa/NY_data1.csv\"\n",
    "weights = [1]\n",
    "solution_mappings = [{\"I\": \"I\", \"H\": \"H\", \"D\": \"D\"}]\n",
    "# solution_mappings = [{\"I\": \"infected\", \"H\": \"hospitalized\", \"D\": \"dead\"}]\n",
    "# timepoints = timepoints[0:30]\n",
    "# Run the calibration and sampling\n",
    "result1 = load_and_calibrate_and_sample_ensemble_model(\n",
    "    model_paths,\n",
    "    data_path,\n",
    "    weights,\n",
    "    solution_mappings,\n",
    "    num_samples,\n",
    "    timepoints,\n",
    "    verbose=True,\n",
    "    total_population=19340000,\n",
    "    num_iterations=250,\n",
    "    time_unit=\"days\",\n",
    "    visual_options={\"title\": \"Calibrated Ensemble\", \"subset\":\".*_sol\"}\n",
    ")\n",
    "\n",
    "# Save results\n",
    "result1[\"data\"].to_csv(\n",
    "    \"partI_ensemble_of_one_results.csv\", index=False\n",
    ")\n",
    "result1[\"quantiles\"].to_csv(\n",
    "    \"partI_ensemble_of_one_quantiles.csv\", index=False\n",
    ")\n",
    "\n",
    "# Plot results\n",
    "schema = plots.trajectories(pd.DataFrame(result1[\"data\"]), subset=\".*_sol\",\n",
    "                            points=test_data.reset_index(drop=True).rename(columns={\"I\":\"I_data\", \"H\":\"H_data\", \"D\":\"D_data\"}),\n",
    "                           )\n",
    "schema = plots.pad(schema, 5)\n",
    "plots.ipy_display(schema)"
   ]
  },
  {
   "cell_type": "code",
   "execution_count": 159,
   "id": "6fa25da4-a72d-4789-969a-cfffe3c26ec1",
   "metadata": {},
   "outputs": [
    {
     "name": "stdout",
     "output_type": "stream",
     "text": [
      "iteration 0: loss = 716.8114766180515\n",
      "iteration 25: loss = 705.2775605022907\n",
      "iteration 50: loss = 676.0982182323933\n",
      "iteration 75: loss = 636.5155728161335\n",
      "\n"
     ]
    },
    {
     "data": {
      "application/vnd.vega.v5+json": {
       "$schema": "https://vega.github.io/schema/vega/v5.json",
       "axes": [
        {
         "name": "x_axis",
         "orient": "bottom",
         "scale": "xscale",
         "zindex": 100
        },
        {
         "name": "y_axis",
         "orient": "left",
         "scale": "yscale",
         "zindex": 100
        }
       ],
       "data": [
        {
         "name": "distributions",
         "values": [
          {
           "lower": 6.449196835885302e-23,
           "timepoint": 0,
           "trajectory": "D_sol",
           "upper": 2.0136743796282824e-22
          },
          {
           "lower": 0.007210139138624072,
           "timepoint": 1,
           "trajectory": "D_sol",
           "upper": 0.02283355565741658
          },
          {
           "lower": 0.03127648774534464,
           "timepoint": 2,
           "trajectory": "D_sol",
           "upper": 0.10042939819395541
          },
          {
           "lower": 0.07529899403452874,
           "timepoint": 3,
           "trajectory": "D_sol",
           "upper": 0.24430907815694808
          },
          {
           "lower": 0.14271622151136398,
           "timepoint": 4,
           "trajectory": "D_sol",
           "upper": 0.4654518142342567
          },
          {
           "lower": 0.23749344050884247,
           "timepoint": 5,
           "trajectory": "D_sol",
           "upper": 0.7764515697956085
          },
          {
           "lower": 0.3681590422987938,
           "timepoint": 6,
           "trajectory": "D_sol",
           "upper": 1.1932520151138304
          },
          {
           "lower": 0.5442440032958984,
           "timepoint": 7,
           "trajectory": "D_sol",
           "upper": 1.7367518484592437
          },
          {
           "lower": 0.7602512866258622,
           "timepoint": 8,
           "trajectory": "D_sol",
           "upper": 2.4479220509529114
          },
          {
           "lower": 1.033500748872757,
           "timepoint": 9,
           "trajectory": "D_sol",
           "upper": 3.360293471813202
          },
          {
           "lower": 1.377566784620285,
           "timepoint": 10,
           "trajectory": "D_sol",
           "upper": 4.516805362701416
          },
          {
           "lower": 1.8099633991718291,
           "timepoint": 11,
           "trajectory": "D_sol",
           "upper": 6.034837555885315
          },
          {
           "lower": 2.3602933406829836,
           "timepoint": 12,
           "trajectory": "D_sol",
           "upper": 7.984391093254089
          },
          {
           "lower": 3.0583238124847414,
           "timepoint": 13,
           "trajectory": "D_sol",
           "upper": 10.442824602127075
          },
          {
           "lower": 3.937547838687897,
           "timepoint": 14,
           "trajectory": "D_sol",
           "upper": 13.569180822372436
          },
          {
           "lower": 5.044232416152954,
           "timepoint": 15,
           "trajectory": "D_sol",
           "upper": 17.554103755950926
          },
          {
           "lower": 6.435967516899109,
           "timepoint": 16,
           "trajectory": "D_sol",
           "upper": 22.50730962753296
          },
          {
           "lower": 8.183713054656982,
           "timepoint": 17,
           "trajectory": "D_sol",
           "upper": 28.865276336669922
          },
          {
           "lower": 10.373560905456543,
           "timepoint": 18,
           "trajectory": "D_sol",
           "upper": 37.02373352050781
          },
          {
           "lower": 13.107537078857423,
           "timepoint": 19,
           "trajectory": "D_sol",
           "upper": 47.35540828704834
          },
          {
           "lower": 16.50238094329834,
           "timepoint": 20,
           "trajectory": "D_sol",
           "upper": 60.36582565307617
          },
          {
           "lower": 20.685054874420167,
           "timepoint": 21,
           "trajectory": "D_sol",
           "upper": 76.61462287902832
          },
          {
           "lower": 25.78424482345581,
           "timepoint": 22,
           "trajectory": "D_sol",
           "upper": 96.67989845275879
          },
          {
           "lower": 31.785477733612062,
           "timepoint": 23,
           "trajectory": "D_sol",
           "upper": 121.10587196350097
          },
          {
           "lower": 38.775617599487305,
           "timepoint": 24,
           "trajectory": "D_sol",
           "upper": 150.34412002563477
          },
          {
           "lower": 46.989211845397946,
           "timepoint": 25,
           "trajectory": "D_sol",
           "upper": 184.70399169921873
          },
          {
           "lower": 56.54988040924072,
           "timepoint": 26,
           "trajectory": "D_sol",
           "upper": 224.32636260986328
          },
          {
           "lower": 67.58314514160156,
           "timepoint": 27,
           "trajectory": "D_sol",
           "upper": 269.9561859130859
          },
          {
           "lower": 80.04856910705567,
           "timepoint": 28,
           "trajectory": "D_sol",
           "upper": 322.4001434326172
          },
          {
           "lower": 93.54010734558105,
           "timepoint": 29,
           "trajectory": "D_sol",
           "upper": 380.8921264648437
          },
          {
           "lower": 107.80962333679199,
           "timepoint": 30,
           "trajectory": "D_sol",
           "upper": 445.36168518066404
          },
          {
           "lower": 123.05878219604492,
           "timepoint": 31,
           "trajectory": "D_sol",
           "upper": 515.6980590820312
          },
          {
           "lower": 139.25948486328124,
           "timepoint": 32,
           "trajectory": "D_sol",
           "upper": 591.6585571289063
          },
          {
           "lower": 156.3636459350586,
           "timepoint": 33,
           "trajectory": "D_sol",
           "upper": 668.9111694335937
          },
          {
           "lower": 174.26572952270507,
           "timepoint": 34,
           "trajectory": "D_sol",
           "upper": 748.9946960449219
          },
          {
           "lower": 193.99893951416016,
           "timepoint": 35,
           "trajectory": "D_sol",
           "upper": 832.4946594238281
          },
          {
           "lower": 215.50245819091796,
           "timepoint": 36,
           "trajectory": "D_sol",
           "upper": 919.1847839355468
          },
          {
           "lower": 238.1325241088867,
           "timepoint": 37,
           "trajectory": "D_sol",
           "upper": 1008.798062133789
          },
          {
           "lower": 261.89025115966797,
           "timepoint": 38,
           "trajectory": "D_sol",
           "upper": 1107.310949707031
          },
          {
           "lower": 286.78232421875,
           "timepoint": 39,
           "trajectory": "D_sol",
           "upper": 1217.5185546875
          },
          {
           "lower": 312.8207244873047,
           "timepoint": 40,
           "trajectory": "D_sol",
           "upper": 1333.1638549804686
          },
          {
           "lower": 340.0220199584961,
           "timepoint": 41,
           "trajectory": "D_sol",
           "upper": 1454.3220581054686
          },
          {
           "lower": 368.40694427490234,
           "timepoint": 42,
           "trajectory": "D_sol",
           "upper": 1579.9789733886719
          },
          {
           "lower": 398.00191802978514,
           "timepoint": 43,
           "trajectory": "D_sol",
           "upper": 1700.3334167480468
          },
          {
           "lower": 428.8342269897461,
           "timepoint": 44,
           "trajectory": "D_sol",
           "upper": 1835.3885986328125
          },
          {
           "lower": 459.7713073730469,
           "timepoint": 45,
           "trajectory": "D_sol",
           "upper": 1965.4409545898436
          },
          {
           "lower": 486.74562072753906,
           "timepoint": 46,
           "trajectory": "D_sol",
           "upper": 2099.518896484375
          },
          {
           "lower": 507.58472900390626,
           "timepoint": 47,
           "trajectory": "D_sol",
           "upper": 2237.6599487304684
          },
          {
           "lower": 528.1316986083984,
           "timepoint": 48,
           "trajectory": "D_sol",
           "upper": 2379.9129760742185
          },
          {
           "lower": 548.3782653808594,
           "timepoint": 49,
           "trajectory": "D_sol",
           "upper": 2535.140014648437
          },
          {
           "lower": 568.3193206787109,
           "timepoint": 50,
           "trajectory": "D_sol",
           "upper": 2695.8448242187496
          },
          {
           "lower": 587.9502593994141,
           "timepoint": 51,
           "trajectory": "D_sol",
           "upper": 2867.30849609375
          },
          {
           "lower": 607.269970703125,
           "timepoint": 52,
           "trajectory": "D_sol",
           "upper": 3045.258410644531
          },
          {
           "lower": 626.2780853271485,
           "timepoint": 53,
           "trajectory": "D_sol",
           "upper": 3205.6516357421874
          },
          {
           "lower": 644.9745391845703,
           "timepoint": 54,
           "trajectory": "D_sol",
           "upper": 3389.681433105469
          },
          {
           "lower": 670.3174255371093,
           "timepoint": 55,
           "trajectory": "D_sol",
           "upper": 3580.0113647460935
          },
          {
           "lower": 698.237026977539,
           "timepoint": 56,
           "trajectory": "D_sol",
           "upper": 3776.8249389648436
          },
          {
           "lower": 726.5471893310547,
           "timepoint": 57,
           "trajectory": "D_sol",
           "upper": 3980.299426269531
          },
          {
           "lower": 755.2503692626954,
           "timepoint": 58,
           "trajectory": "D_sol",
           "upper": 4190.6318359375
          },
          {
           "lower": 784.352587890625,
           "timepoint": 59,
           "trajectory": "D_sol",
           "upper": 4408.01181640625
          },
          {
           "lower": 9.45851775374651e-11,
           "timepoint": 0,
           "trajectory": "H_sol",
           "upper": 2.1304693773038785e-10
          },
          {
           "lower": 1.1261551082134247,
           "timepoint": 1,
           "trajectory": "H_sol",
           "upper": 2.55425546169281
          },
          {
           "lower": 2.56398286819458,
           "timepoint": 2,
           "trajectory": "H_sol",
           "upper": 5.848916482925415
          },
          {
           "lower": 4.298512816429138,
           "timepoint": 3,
           "trajectory": "H_sol",
           "upper": 9.843463039398193
          },
          {
           "lower": 6.367888784408569,
           "timepoint": 4,
           "trajectory": "H_sol",
           "upper": 14.688153648376465
          },
          {
           "lower": 8.84661145210266,
           "timepoint": 5,
           "trajectory": "H_sol",
           "upper": 20.554419231414794
          },
          {
           "lower": 12.045116186141968,
           "timepoint": 6,
           "trajectory": "H_sol",
           "upper": 27.730939674377442
          },
          {
           "lower": 16.07571611404419,
           "timepoint": 7,
           "trajectory": "H_sol",
           "upper": 36.260738372802734
          },
          {
           "lower": 21.289830684661865,
           "timepoint": 8,
           "trajectory": "H_sol",
           "upper": 46.99543876647949
          },
          {
           "lower": 27.71733102798462,
           "timepoint": 9,
           "trajectory": "H_sol",
           "upper": 60.64096641540527
          },
          {
           "lower": 35.51452140808105,
           "timepoint": 10,
           "trajectory": "H_sol",
           "upper": 77.88733901977538
          },
          {
           "lower": 45.504780769348145,
           "timepoint": 11,
           "trajectory": "H_sol",
           "upper": 99.78718299865722
          },
          {
           "lower": 57.73516426086426,
           "timepoint": 12,
           "trajectory": "H_sol",
           "upper": 127.66531906127929
          },
          {
           "lower": 72.88784446716309,
           "timepoint": 13,
           "trajectory": "H_sol",
           "upper": 163.19923400878906
          },
          {
           "lower": 92.03899536132812,
           "timepoint": 14,
           "trajectory": "H_sol",
           "upper": 208.49999923706054
          },
          {
           "lower": 116.23310165405273,
           "timepoint": 15,
           "trajectory": "H_sol",
           "upper": 266.1986083984375
          },
          {
           "lower": 146.74095153808594,
           "timepoint": 16,
           "trajectory": "H_sol",
           "upper": 339.5197509765625
          },
          {
           "lower": 185.0699378967285,
           "timepoint": 17,
           "trajectory": "H_sol",
           "upper": 432.30775756835936
          },
          {
           "lower": 232.93269271850585,
           "timepoint": 18,
           "trajectory": "H_sol",
           "upper": 548.9410980224609
          },
          {
           "lower": 291.02465057373047,
           "timepoint": 19,
           "trajectory": "H_sol",
           "upper": 694.0376342773437
          },
          {
           "lower": 360.66663513183596,
           "timepoint": 20,
           "trajectory": "H_sol",
           "upper": 871.8517761230469
          },
          {
           "lower": 442.92033233642576,
           "timepoint": 21,
           "trajectory": "H_sol",
           "upper": 1082.5837158203126
          },
          {
           "lower": 537.5471221923829,
           "timepoint": 22,
           "trajectory": "H_sol",
           "upper": 1326.4488647460937
          },
          {
           "lower": 643.1279724121093,
           "timepoint": 23,
           "trajectory": "H_sol",
           "upper": 1599.9892272949219
          },
          {
           "lower": 757.1416534423828,
           "timepoint": 24,
           "trajectory": "H_sol",
           "upper": 1895.983312988281
          },
          {
           "lower": 877.2515197753906,
           "timepoint": 25,
           "trajectory": "H_sol",
           "upper": 2204.922521972656
          },
          {
           "lower": 1009.0975036621094,
           "timepoint": 26,
           "trajectory": "H_sol",
           "upper": 2515.7589233398435
          },
          {
           "lower": 1143.9288391113282,
           "timepoint": 27,
           "trajectory": "H_sol",
           "upper": 2843.52080078125
          },
          {
           "lower": 1279.6491638183593,
           "timepoint": 28,
           "trajectory": "H_sol",
           "upper": 3182.005517578125
          },
          {
           "lower": 1414.7477783203126,
           "timepoint": 29,
           "trajectory": "H_sol",
           "upper": 3515.7908447265627
          },
          {
           "lower": 1534.0420288085938,
           "timepoint": 30,
           "trajectory": "H_sol",
           "upper": 3798.065478515625
          },
          {
           "lower": 1640.33955078125,
           "timepoint": 31,
           "trajectory": "H_sol",
           "upper": 4054.863330078125
          },
          {
           "lower": 1739.5739135742188,
           "timepoint": 32,
           "trajectory": "H_sol",
           "upper": 4291.063476562499
          },
          {
           "lower": 1826.55556640625,
           "timepoint": 33,
           "trajectory": "H_sol",
           "upper": 4528.969555664062
          },
          {
           "lower": 1870.7205627441406,
           "timepoint": 34,
           "trajectory": "H_sol",
           "upper": 4834.613989257812
          },
          {
           "lower": 1952.25927734375,
           "timepoint": 35,
           "trajectory": "H_sol",
           "upper": 5124.930834960937
          },
          {
           "lower": 2019.5329223632812,
           "timepoint": 36,
           "trajectory": "H_sol",
           "upper": 5370.237280273437
          },
          {
           "lower": 2029.1586853027343,
           "timepoint": 37,
           "trajectory": "H_sol",
           "upper": 5581.914379882813
          },
          {
           "lower": 2081.4598999023438,
           "timepoint": 38,
           "trajectory": "H_sol",
           "upper": 5906.455786132812
          },
          {
           "lower": 2181.44482421875,
           "timepoint": 39,
           "trajectory": "H_sol",
           "upper": 6195.995922851563
          },
          {
           "lower": 2263.5658203125,
           "timepoint": 40,
           "trajectory": "H_sol",
           "upper": 6476.06083984375
          },
          {
           "lower": 2314.364709472656,
           "timepoint": 41,
           "trajectory": "H_sol",
           "upper": 6759.504150390625
          },
          {
           "lower": 2283.2317016601564,
           "timepoint": 42,
           "trajectory": "H_sol",
           "upper": 7067.423413085938
          },
          {
           "lower": 2273.4909912109374,
           "timepoint": 43,
           "trajectory": "H_sol",
           "upper": 7363.879956054688
          },
          {
           "lower": 2300.212683105469,
           "timepoint": 44,
           "trajectory": "H_sol",
           "upper": 7644.384301757812
          },
          {
           "lower": 2269.5798828125,
           "timepoint": 45,
           "trajectory": "H_sol",
           "upper": 7996.6619873046875
          },
          {
           "lower": 2235.8189208984377,
           "timepoint": 46,
           "trajectory": "H_sol",
           "upper": 8360.52685546875
          },
          {
           "lower": 2200.2954223632814,
           "timepoint": 47,
           "trajectory": "H_sol",
           "upper": 8736.77568359375
          },
          {
           "lower": 2163.8673828125,
           "timepoint": 48,
           "trajectory": "H_sol",
           "upper": 9115.425537109375
          },
          {
           "lower": 2126.8088134765626,
           "timepoint": 49,
           "trajectory": "H_sol",
           "upper": 9455.42109375
          },
          {
           "lower": 2089.360723876953,
           "timepoint": 50,
           "trajectory": "H_sol",
           "upper": 9790.87587890625
          },
          {
           "lower": 2051.713977050781,
           "timepoint": 51,
           "trajectory": "H_sol",
           "upper": 10130.546533203125
          },
          {
           "lower": 2014.026104736328,
           "timepoint": 52,
           "trajectory": "H_sol",
           "upper": 10478.816650390625
          },
          {
           "lower": 1980.3832763671876,
           "timepoint": 53,
           "trajectory": "H_sol",
           "upper": 10843.349169921874
          },
          {
           "lower": 1946.933819580078,
           "timepoint": 54,
           "trajectory": "H_sol",
           "upper": 11218.198388671874
          },
          {
           "lower": 1931.1706909179688,
           "timepoint": 55,
           "trajectory": "H_sol",
           "upper": 11603.75498046875
          },
          {
           "lower": 1893.6937622070313,
           "timepoint": 56,
           "trajectory": "H_sol",
           "upper": 12000.35126953125
          },
          {
           "lower": 1856.5843139648437,
           "timepoint": 57,
           "trajectory": "H_sol",
           "upper": 12408.349365234373
          },
          {
           "lower": 1819.8972473144531,
           "timepoint": 58,
           "trajectory": "H_sol",
           "upper": 12828.074707031248
          },
          {
           "lower": 1774.9859741210937,
           "timepoint": 59,
           "trajectory": "H_sol",
           "upper": 13259.834570312498
          },
          {
           "lower": 100,
           "timepoint": 0,
           "trajectory": "I_sol",
           "upper": 100
          },
          {
           "lower": 157.02057647705078,
           "timepoint": 1,
           "trajectory": "I_sol",
           "upper": 160.21850204467773
          },
          {
           "lower": 214.9441116333008,
           "timepoint": 2,
           "trajectory": "I_sol",
           "upper": 222.63043518066405
          },
          {
           "lower": 280.9792449951172,
           "timepoint": 3,
           "trajectory": "I_sol",
           "upper": 294.7439926147461
          },
          {
           "lower": 359.0148529052734,
           "timepoint": 4,
           "trajectory": "I_sol",
           "upper": 382.9905212402344
          },
          {
           "lower": 456.3251220703125,
           "timepoint": 5,
           "trajectory": "I_sol",
           "upper": 494.2030548095703
          },
          {
           "lower": 577.6654907226563,
           "timepoint": 6,
           "trajectory": "I_sol",
           "upper": 636.3516510009765
          },
          {
           "lower": 727.4000213623046,
           "timepoint": 7,
           "trajectory": "I_sol",
           "upper": 817.7945556640625
          },
          {
           "lower": 918.9771362304688,
           "timepoint": 8,
           "trajectory": "I_sol",
           "upper": 1051.2435729980468
          },
          {
           "lower": 1160.9083618164063,
           "timepoint": 9,
           "trajectory": "I_sol",
           "upper": 1350.9277099609376
          },
          {
           "lower": 1466.1916259765626,
           "timepoint": 10,
           "trajectory": "I_sol",
           "upper": 1735.6301635742188
          },
          {
           "lower": 1851.269580078125,
           "timepoint": 11,
           "trajectory": "I_sol",
           "upper": 2229.250439453125
          },
          {
           "lower": 2336.59423828125,
           "timepoint": 12,
           "trajectory": "I_sol",
           "upper": 2862.056188964844
          },
          {
           "lower": 2948.0388793945312,
           "timepoint": 13,
           "trajectory": "I_sol",
           "upper": 3672.051953125
          },
          {
           "lower": 3713.689453125,
           "timepoint": 14,
           "trajectory": "I_sol",
           "upper": 4706.249072265625
          },
          {
           "lower": 4672.157983398438,
           "timepoint": 15,
           "trajectory": "I_sol",
           "upper": 6021.327172851563
          },
          {
           "lower": 5863.83505859375,
           "timepoint": 16,
           "trajectory": "I_sol",
           "upper": 7682.6942138671875
          },
          {
           "lower": 7331.335424804687,
           "timepoint": 17,
           "trajectory": "I_sol",
           "upper": 9760.05908203125
          },
          {
           "lower": 9115.27060546875,
           "timepoint": 18,
           "trajectory": "I_sol",
           "upper": 12316.8640625
          },
          {
           "lower": 11245.75244140625,
           "timepoint": 19,
           "trajectory": "I_sol",
           "upper": 15390.9814453125
          },
          {
           "lower": 13707.771728515625,
           "timepoint": 20,
           "trajectory": "I_sol",
           "upper": 18967.662109375
          },
          {
           "lower": 16446.809814453125,
           "timepoint": 21,
           "trajectory": "I_sol",
           "upper": 22953.7341796875
          },
          {
           "lower": 19360.8201171875,
           "timepoint": 22,
           "trajectory": "I_sol",
           "upper": 27171.682226562498
          },
          {
           "lower": 22318.0806640625,
           "timepoint": 23,
           "trajectory": "I_sol",
           "upper": 31653.12294921875
          },
          {
           "lower": 25170.2939453125,
           "timepoint": 24,
           "trajectory": "I_sol",
           "upper": 35840.19453125
          },
          {
           "lower": 27437.23798828125,
           "timepoint": 25,
           "trajectory": "I_sol",
           "upper": 39654.634375
          },
          {
           "lower": 29412.4798828125,
           "timepoint": 26,
           "trajectory": "I_sol",
           "upper": 43482.8748046875
          },
          {
           "lower": 31304.21484375,
           "timepoint": 27,
           "trajectory": "I_sol",
           "upper": 47227.4625
          },
          {
           "lower": 32782.0095703125,
           "timepoint": 28,
           "trajectory": "I_sol",
           "upper": 50523.7615234375
          },
          {
           "lower": 33379.679296875,
           "timepoint": 29,
           "trajectory": "I_sol",
           "upper": 53555.146484375
          },
          {
           "lower": 33616.059375,
           "timepoint": 30,
           "trajectory": "I_sol",
           "upper": 56595.155468749996
          },
          {
           "lower": 33622.8658203125,
           "timepoint": 31,
           "trajectory": "I_sol",
           "upper": 59576.8318359375
          },
          {
           "lower": 33524.888671875,
           "timepoint": 32,
           "trajectory": "I_sol",
           "upper": 62502.746484375
          },
          {
           "lower": 33515.1978515625,
           "timepoint": 33,
           "trajectory": "I_sol",
           "upper": 65399.830078125
          },
          {
           "lower": 33415.59375,
           "timepoint": 34,
           "trajectory": "I_sol",
           "upper": 68315.65273437499
          },
          {
           "lower": 32617.744921875,
           "timepoint": 35,
           "trajectory": "I_sol",
           "upper": 71316.300390625
          },
          {
           "lower": 31792.77197265625,
           "timepoint": 36,
           "trajectory": "I_sol",
           "upper": 74501.22109375
          },
          {
           "lower": 31239.97216796875,
           "timepoint": 37,
           "trajectory": "I_sol",
           "upper": 77339.521875
          },
          {
           "lower": 31135.24833984375,
           "timepoint": 38,
           "trajectory": "I_sol",
           "upper": 80278.748828125
          },
          {
           "lower": 31503.940234375,
           "timepoint": 39,
           "trajectory": "I_sol",
           "upper": 83301.95156249999
          },
          {
           "lower": 31242.90048828125,
           "timepoint": 40,
           "trajectory": "I_sol",
           "upper": 86417.14882812499
          },
          {
           "lower": 30274.53564453125,
           "timepoint": 41,
           "trajectory": "I_sol",
           "upper": 89631.1296875
          },
          {
           "lower": 29326.13134765625,
           "timepoint": 42,
           "trajectory": "I_sol",
           "upper": 92949.67421874999
          },
          {
           "lower": 28400.17890625,
           "timepoint": 43,
           "trajectory": "I_sol",
           "upper": 96377.62265625
          },
          {
           "lower": 27498.330078125,
           "timepoint": 44,
           "trajectory": "I_sol",
           "upper": 99919.57656249999
          },
          {
           "lower": 26825.4005859375,
           "timepoint": 45,
           "trajectory": "I_sol",
           "upper": 103998.62343749999
          },
          {
           "lower": 26280.01669921875,
           "timepoint": 46,
           "trajectory": "I_sol",
           "upper": 108454.45039062499
          },
          {
           "lower": 25744.51298828125,
           "timepoint": 47,
           "trajectory": "I_sol",
           "upper": 113086.13046875
          },
          {
           "lower": 25219.0484375,
           "timepoint": 48,
           "trajectory": "I_sol",
           "upper": 117900.03203125
          },
          {
           "lower": 24703.69990234375,
           "timepoint": 49,
           "trajectory": "I_sol",
           "upper": 122902.23046875
          },
          {
           "lower": 24198.41494140625,
           "timepoint": 50,
           "trajectory": "I_sol",
           "upper": 128098.46406249999
          },
          {
           "lower": 23703.11533203125,
           "timepoint": 51,
           "trajectory": "I_sol",
           "upper": 133482.72578125
          },
          {
           "lower": 23217.714257812502,
           "timepoint": 52,
           "trajectory": "I_sol",
           "upper": 138856.85859375
          },
          {
           "lower": 22742.048730468752,
           "timepoint": 53,
           "trajectory": "I_sol",
           "upper": 143470.79453125
          },
          {
           "lower": 22275.973828125,
           "timepoint": 54,
           "trajectory": "I_sol",
           "upper": 148218.95234375
          },
          {
           "lower": 21824.611718750002,
           "timepoint": 55,
           "trajectory": "I_sol",
           "upper": 153267.58515625
          },
          {
           "lower": 21384.22265625,
           "timepoint": 56,
           "trajectory": "I_sol",
           "upper": 159421.09375
          },
          {
           "lower": 20952.506738281252,
           "timepoint": 57,
           "trajectory": "I_sol",
           "upper": 165792.534375
          },
          {
           "lower": 20529.3091796875,
           "timepoint": 58,
           "trajectory": "I_sol",
           "upper": 172387.13906249998
          },
          {
           "lower": 20114.485742187502,
           "timepoint": 59,
           "trajectory": "I_sol",
           "upper": 179209.8203125
          }
         ]
        },
        {
         "name": "traces",
         "transform": [
          {
           "expr": "isValid(datum.value)",
           "type": "filter"
          }
         ],
         "values": []
        },
        {
         "name": "points",
         "values": [
          {
           "sample_id": 0,
           "timepoint": 0,
           "trajectory": "I_data",
           "value": 1
          },
          {
           "sample_id": 0,
           "timepoint": 1,
           "trajectory": "I_data",
           "value": 10
          },
          {
           "sample_id": 0,
           "timepoint": 2,
           "trajectory": "I_data",
           "value": 21
          },
          {
           "sample_id": 0,
           "timepoint": 3,
           "trajectory": "I_data",
           "value": 24
          },
          {
           "sample_id": 0,
           "timepoint": 4,
           "trajectory": "I_data",
           "value": 76
          },
          {
           "sample_id": 0,
           "timepoint": 5,
           "trajectory": "I_data",
           "value": 104
          },
          {
           "sample_id": 0,
           "timepoint": 6,
           "trajectory": "I_data",
           "value": 128
          },
          {
           "sample_id": 0,
           "timepoint": 7,
           "trajectory": "I_data",
           "value": 131
          },
          {
           "sample_id": 0,
           "timepoint": 8,
           "trajectory": "I_data",
           "value": 192
          },
          {
           "sample_id": 0,
           "timepoint": 9,
           "trajectory": "I_data",
           "value": 220
          },
          {
           "sample_id": 0,
           "timepoint": 10,
           "trajectory": "I_data",
           "value": 274
          },
          {
           "sample_id": 0,
           "timepoint": 11,
           "trajectory": "I_data",
           "value": 394
          },
          {
           "sample_id": 0,
           "timepoint": 12,
           "trajectory": "I_data",
           "value": 481
          },
          {
           "sample_id": 0,
           "timepoint": 13,
           "trajectory": "I_data",
           "value": 745
          },
          {
           "sample_id": 0,
           "timepoint": 14,
           "trajectory": "I_data",
           "value": 1111
          },
          {
           "sample_id": 0,
           "timepoint": 15,
           "trajectory": "I_data",
           "value": 2128
          },
          {
           "sample_id": 0,
           "timepoint": 16,
           "trajectory": "I_data",
           "value": 3671
          },
          {
           "sample_id": 0,
           "timepoint": 17,
           "trajectory": "I_data",
           "value": 6578
          },
          {
           "sample_id": 0,
           "timepoint": 18,
           "trajectory": "I_data",
           "value": 9449
          },
          {
           "sample_id": 0,
           "timepoint": 19,
           "trajectory": "I_data",
           "value": 13761
          },
          {
           "sample_id": 0,
           "timepoint": 20,
           "trajectory": "I_data",
           "value": 18270
          },
          {
           "sample_id": 0,
           "timepoint": 21,
           "trajectory": "I_data",
           "value": 21478
          },
          {
           "sample_id": 0,
           "timepoint": 22,
           "trajectory": "I_data",
           "value": 23630
          },
          {
           "sample_id": 0,
           "timepoint": 23,
           "trajectory": "I_data",
           "value": 26987
          },
          {
           "sample_id": 0,
           "timepoint": 24,
           "trajectory": "I_data",
           "value": 29533
          },
          {
           "sample_id": 0,
           "timepoint": 25,
           "trajectory": "I_data",
           "value": 31623
          },
          {
           "sample_id": 0,
           "timepoint": 26,
           "trajectory": "I_data",
           "value": 33967
          },
          {
           "sample_id": 0,
           "timepoint": 27,
           "trajectory": "I_data",
           "value": 35822
          },
          {
           "sample_id": 0,
           "timepoint": 28,
           "trajectory": "I_data",
           "value": 38456
          },
          {
           "sample_id": 0,
           "timepoint": 29,
           "trajectory": "I_data",
           "value": 45676
          },
          {
           "sample_id": 0,
           "timepoint": 30,
           "trajectory": "I_data",
           "value": 48380
          },
          {
           "sample_id": 0,
           "timepoint": 31,
           "trajectory": "I_data",
           "value": 51807
          },
          {
           "sample_id": 0,
           "timepoint": 32,
           "trajectory": "I_data",
           "value": 55042
          },
          {
           "sample_id": 0,
           "timepoint": 33,
           "trajectory": "I_data",
           "value": 56847
          },
          {
           "sample_id": 0,
           "timepoint": 34,
           "trajectory": "I_data",
           "value": 52184
          },
          {
           "sample_id": 0,
           "timepoint": 35,
           "trajectory": "I_data",
           "value": 49194
          },
          {
           "sample_id": 0,
           "timepoint": 36,
           "trajectory": "I_data",
           "value": 48730
          },
          {
           "sample_id": 0,
           "timepoint": 37,
           "trajectory": "I_data",
           "value": 50551
          },
          {
           "sample_id": 0,
           "timepoint": 38,
           "trajectory": "I_data",
           "value": 51029
          },
          {
           "sample_id": 0,
           "timepoint": 39,
           "trajectory": "I_data",
           "value": 49701
          },
          {
           "sample_id": 0,
           "timepoint": 40,
           "trajectory": "I_data",
           "value": 50661
          },
          {
           "sample_id": 0,
           "timepoint": 41,
           "trajectory": "I_data",
           "value": 48303
          },
          {
           "sample_id": 0,
           "timepoint": 42,
           "trajectory": "I_data",
           "value": 43703
          },
          {
           "sample_id": 0,
           "timepoint": 43,
           "trajectory": "I_data",
           "value": 38888
          },
          {
           "sample_id": 0,
           "timepoint": 44,
           "trajectory": "I_data",
           "value": 38244
          },
          {
           "sample_id": 0,
           "timepoint": 45,
           "trajectory": "I_data",
           "value": 36857
          },
          {
           "sample_id": 0,
           "timepoint": 46,
           "trajectory": "I_data",
           "value": 35881
          },
          {
           "sample_id": 0,
           "timepoint": 47,
           "trajectory": "I_data",
           "value": 35054
          },
          {
           "sample_id": 0,
           "timepoint": 48,
           "trajectory": "I_data",
           "value": 34782
          },
          {
           "sample_id": 0,
           "timepoint": 49,
           "trajectory": "I_data",
           "value": 31526
          },
          {
           "sample_id": 0,
           "timepoint": 50,
           "trajectory": "I_data",
           "value": 28799
          },
          {
           "sample_id": 0,
           "timepoint": 51,
           "trajectory": "I_data",
           "value": 27419
          },
          {
           "sample_id": 0,
           "timepoint": 52,
           "trajectory": "I_data",
           "value": 27443
          },
          {
           "sample_id": 0,
           "timepoint": 53,
           "trajectory": "I_data",
           "value": 30499
          },
          {
           "sample_id": 0,
           "timepoint": 54,
           "trajectory": "I_data",
           "value": 31543
          },
          {
           "sample_id": 0,
           "timepoint": 55,
           "trajectory": "I_data",
           "value": 31597
          },
          {
           "sample_id": 0,
           "timepoint": 56,
           "trajectory": "I_data",
           "value": 29008
          },
          {
           "sample_id": 0,
           "timepoint": 57,
           "trajectory": "I_data",
           "value": 25476
          },
          {
           "sample_id": 0,
           "timepoint": 58,
           "trajectory": "I_data",
           "value": 20411
          },
          {
           "sample_id": 0,
           "timepoint": 59,
           "trajectory": "I_data",
           "value": 19224
          },
          {
           "sample_id": 0,
           "timepoint": 38,
           "trajectory": "H_data",
           "value": 0
          },
          {
           "sample_id": 0,
           "timepoint": 39,
           "trajectory": "H_data",
           "value": 0
          },
          {
           "sample_id": 0,
           "timepoint": 45,
           "trajectory": "H_data",
           "value": 0
          },
          {
           "sample_id": 0,
           "timepoint": 46,
           "trajectory": "H_data",
           "value": 1
          },
          {
           "sample_id": 0,
           "timepoint": 52,
           "trajectory": "H_data",
           "value": 0
          },
          {
           "sample_id": 0,
           "timepoint": 53,
           "trajectory": "H_data",
           "value": 0
          },
          {
           "sample_id": 0,
           "timepoint": 54,
           "trajectory": "H_data",
           "value": 1
          },
          {
           "sample_id": 0,
           "timepoint": 55,
           "trajectory": "H_data",
           "value": 0
          },
          {
           "sample_id": 0,
           "timepoint": 56,
           "trajectory": "H_data",
           "value": 0
          },
          {
           "sample_id": 0,
           "timepoint": 57,
           "trajectory": "H_data",
           "value": 0
          },
          {
           "sample_id": 0,
           "timepoint": 58,
           "trajectory": "H_data",
           "value": 0
          },
          {
           "sample_id": 0,
           "timepoint": 59,
           "trajectory": "H_data",
           "value": 0
          },
          {
           "sample_id": 0,
           "timepoint": 0,
           "trajectory": "D_data",
           "value": 0
          },
          {
           "sample_id": 0,
           "timepoint": 1,
           "trajectory": "D_data",
           "value": 0
          },
          {
           "sample_id": 0,
           "timepoint": 2,
           "trajectory": "D_data",
           "value": 0
          },
          {
           "sample_id": 0,
           "timepoint": 3,
           "trajectory": "D_data",
           "value": 0
          },
          {
           "sample_id": 0,
           "timepoint": 4,
           "trajectory": "D_data",
           "value": 0
          },
          {
           "sample_id": 0,
           "timepoint": 5,
           "trajectory": "D_data",
           "value": 0
          },
          {
           "sample_id": 0,
           "timepoint": 6,
           "trajectory": "D_data",
           "value": 0
          },
          {
           "sample_id": 0,
           "timepoint": 7,
           "trajectory": "D_data",
           "value": 0
          },
          {
           "sample_id": 0,
           "timepoint": 8,
           "trajectory": "D_data",
           "value": 1
          },
          {
           "sample_id": 0,
           "timepoint": 9,
           "trajectory": "D_data",
           "value": 1
          },
          {
           "sample_id": 0,
           "timepoint": 10,
           "trajectory": "D_data",
           "value": 1
          },
          {
           "sample_id": 0,
           "timepoint": 11,
           "trajectory": "D_data",
           "value": 4
          },
          {
           "sample_id": 0,
           "timepoint": 12,
           "trajectory": "D_data",
           "value": 9
          },
          {
           "sample_id": 0,
           "timepoint": 13,
           "trajectory": "D_data",
           "value": 19
          },
          {
           "sample_id": 0,
           "timepoint": 14,
           "trajectory": "D_data",
           "value": 30
          },
          {
           "sample_id": 0,
           "timepoint": 15,
           "trajectory": "D_data",
           "value": 51
          },
          {
           "sample_id": 0,
           "timepoint": 16,
           "trajectory": "D_data",
           "value": 77
          },
          {
           "sample_id": 0,
           "timepoint": 17,
           "trajectory": "D_data",
           "value": 129
          },
          {
           "sample_id": 0,
           "timepoint": 18,
           "trajectory": "D_data",
           "value": 175
          },
          {
           "sample_id": 0,
           "timepoint": 19,
           "trajectory": "D_data",
           "value": 226
          },
          {
           "sample_id": 0,
           "timepoint": 20,
           "trajectory": "D_data",
           "value": 315
          },
          {
           "sample_id": 0,
           "timepoint": 21,
           "trajectory": "D_data",
           "value": 427
          },
          {
           "sample_id": 0,
           "timepoint": 22,
           "trajectory": "D_data",
           "value": 565
          },
          {
           "sample_id": 0,
           "timepoint": 23,
           "trajectory": "D_data",
           "value": 759
          },
          {
           "sample_id": 0,
           "timepoint": 24,
           "trajectory": "D_data",
           "value": 984
          },
          {
           "sample_id": 0,
           "timepoint": 25,
           "trajectory": "D_data",
           "value": 1285
          },
          {
           "sample_id": 0,
           "timepoint": 26,
           "trajectory": "D_data",
           "value": 1603
          },
          {
           "sample_id": 0,
           "timepoint": 27,
           "trajectory": "D_data",
           "value": 1930
          },
          {
           "sample_id": 0,
           "timepoint": 28,
           "trajectory": "D_data",
           "value": 2334
          },
          {
           "sample_id": 0,
           "timepoint": 29,
           "trajectory": "D_data",
           "value": 2859
          },
          {
           "sample_id": 0,
           "timepoint": 30,
           "trajectory": "D_data",
           "value": 3420
          },
          {
           "sample_id": 0,
           "timepoint": 31,
           "trajectory": "D_data",
           "value": 3989
          },
          {
           "sample_id": 0,
           "timepoint": 32,
           "trajectory": "D_data",
           "value": 4634
          },
          {
           "sample_id": 0,
           "timepoint": 33,
           "trajectory": "D_data",
           "value": 5384
          },
          {
           "sample_id": 0,
           "timepoint": 34,
           "trajectory": "D_data",
           "value": 6185
          },
          {
           "sample_id": 0,
           "timepoint": 35,
           "trajectory": "D_data",
           "value": 7241
          },
          {
           "sample_id": 0,
           "timepoint": 36,
           "trajectory": "D_data",
           "value": 7985
          },
          {
           "sample_id": 0,
           "timepoint": 37,
           "trajectory": "D_data",
           "value": 8846
          },
          {
           "sample_id": 0,
           "timepoint": 38,
           "trajectory": "D_data",
           "value": 9579
          },
          {
           "sample_id": 0,
           "timepoint": 39,
           "trajectory": "D_data",
           "value": 10345
          },
          {
           "sample_id": 0,
           "timepoint": 40,
           "trajectory": "D_data",
           "value": 11126
          },
          {
           "sample_id": 0,
           "timepoint": 41,
           "trajectory": "D_data",
           "value": 11930
          },
          {
           "sample_id": 0,
           "timepoint": 42,
           "trajectory": "D_data",
           "value": 12669
          },
          {
           "sample_id": 0,
           "timepoint": 43,
           "trajectory": "D_data",
           "value": 13332
          },
          {
           "sample_id": 0,
           "timepoint": 44,
           "trajectory": "D_data",
           "value": 13987
          },
          {
           "sample_id": 0,
           "timepoint": 45,
           "trajectory": "D_data",
           "value": 14371
          },
          {
           "sample_id": 0,
           "timepoint": 46,
           "trajectory": "D_data",
           "value": 14780
          },
          {
           "sample_id": 0,
           "timepoint": 47,
           "trajectory": "D_data",
           "value": 15225
          },
          {
           "sample_id": 0,
           "timepoint": 48,
           "trajectory": "D_data",
           "value": 16116
          },
          {
           "sample_id": 0,
           "timepoint": 49,
           "trajectory": "D_data",
           "value": 16639
          },
          {
           "sample_id": 0,
           "timepoint": 50,
           "trajectory": "D_data",
           "value": 17091
          },
          {
           "sample_id": 0,
           "timepoint": 51,
           "trajectory": "D_data",
           "value": 17647
          },
          {
           "sample_id": 0,
           "timepoint": 52,
           "trajectory": "D_data",
           "value": 18132
          },
          {
           "sample_id": 0,
           "timepoint": 53,
           "trajectory": "D_data",
           "value": 18523
          },
          {
           "sample_id": 0,
           "timepoint": 54,
           "trajectory": "D_data",
           "value": 18882
          },
          {
           "sample_id": 0,
           "timepoint": 55,
           "trajectory": "D_data",
           "value": 19292
          },
          {
           "sample_id": 0,
           "timepoint": 56,
           "trajectory": "D_data",
           "value": 19602
          },
          {
           "sample_id": 0,
           "timepoint": 57,
           "trajectory": "D_data",
           "value": 20000
          },
          {
           "sample_id": 0,
           "timepoint": 58,
           "trajectory": "D_data",
           "value": 20334
          },
          {
           "sample_id": 0,
           "timepoint": 59,
           "trajectory": "D_data",
           "value": 20662
          }
         ]
        },
        {
         "name": "markers",
         "values": []
        },
        {
         "name": "selected",
         "on": [
          {
           "remove": true,
           "trigger": "clear"
          },
          {
           "remove": true,
           "trigger": "!shift"
          },
          {
           "insert": "clicked",
           "trigger": "!shift && clicked"
          },
          {
           "toggle": "clicked",
           "trigger": "shift && clicked"
          }
         ]
        }
       ],
       "height": 300,
       "legends": [
        {
         "encode": {
          "labels": {
           "interactive": true,
           "name": "legendLabel",
           "update": {
            "opacity": [
             {
              "test": "!length(data('selected')) || indata('selected', 'value', datum.value)",
              "value": 1
             },
             {
              "value": 0.25
             }
            ]
           }
          },
          "symbols": {
           "interactive": true,
           "name": "legendSymbol",
           "update": {
            "fill": {
             "value": "transparent"
            },
            "opacity": [
             {
              "test": "!length(data('selected')) || indata('selected', 'value', datum.value)",
              "value": 0.7
             },
             {
              "value": 0.15
             }
            ],
            "size": {
             "value": 64
            },
            "strokeWidth": {
             "value": 2
            }
           }
          }
         },
         "name": "color_legend",
         "stroke": "color"
        }
       ],
       "marks": [
        {
         "from": {
          "facet": {
           "data": "points",
           "groupby": "trajectory",
           "name": "points_split"
          }
         },
         "marks": [
          {
           "encode": {
            "hover": {
             "fillOpacity": {
              "value": 0.9
             }
            },
            "update": {
             "fill": {
              "field": "trajectory",
              "scale": "color"
             },
             "fillOpacity": [
              {
               "test": "!length(data('selected')) || indata('selected', 'value', datum.trajectory)",
               "value": 0.5
              },
              {
               "value": 0.15
              }
             ],
             "size": {
              "value": 10
             },
             "stroke": {
              "field": "trajectory",
              "scale": "color"
             },
             "strokeOpacity": [
              {
               "test": "!length(data('selected')) || indata('selected', 'value', datum.trajectory)",
               "value": 0.75
              },
              {
               "value": 0.15
              }
             ],
             "strokeWidth": {
              "value": 2
             },
             "tooltip": {
              "field": "value"
             },
             "x": {
              "field": "timepoint",
              "scale": "xscale"
             },
             "y": {
              "field": "value",
              "scale": "yscale"
             }
            }
           },
           "from": {
            "data": "points"
           },
           "name": "_points_symbol",
           "type": "symbol",
           "zindex": 3
          },
          {
           "encode": {
            "hover": {
             "fillOpacity": {
              "value": 0.9
             }
            },
            "update": {
             "interpolate": {
              "value": "linear"
             },
             "stroke": {
              "field": "trajectory",
              "scale": "color"
             },
             "strokeOpacity": [
              {
               "test": "!length(data('selected')) || indata('selected', 'value', datum.trajectory)",
               "value": 0.3
              },
              {
               "value": 0.1
              }
             ],
             "strokeWidth": {
              "value": 2
             },
             "x": {
              "field": "timepoint",
              "scale": "xscale"
             },
             "y": {
              "field": "value",
              "scale": "yscale"
             }
            }
           },
           "from": {
            "data": "points"
           },
           "name": "_points_line",
           "type": "line",
           "zindex": 3
          }
         ],
         "name": "_points",
         "type": "group",
         "zindex": 3
        },
        {
         "from": {
          "facet": {
           "data": "traces",
           "groupby": "trajectory",
           "name": "traces_split"
          }
         },
         "marks": [
          {
           "encode": {
            "hover": {
             "fillOpacity": {
              "value": 0.9
             }
            },
            "update": {
             "interpolate": {
              "value": "linear"
             },
             "stroke": {
              "field": "trajectory",
              "scale": "color"
             },
             "strokeOpacity": [
              {
               "test": "!length(data('selected')) || indata('selected', 'value', datum.trajectory)",
               "value": 0.75
              },
              {
               "value": 0.15
              }
             ],
             "strokeWidth": {
              "value": 2
             },
             "x": {
              "field": "timepoint",
              "scale": "xscale"
             },
             "y": {
              "field": "value",
              "scale": "yscale"
             }
            }
           },
           "from": {
            "data": "traces_split"
           },
           "name": "_traces_lines",
           "type": "line"
          }
         ],
         "name": "_traces",
         "type": "group",
         "zindex": 2
        },
        {
         "from": {
          "facet": {
           "data": "distributions",
           "groupby": "trajectory",
           "name": "trajectory_split"
          }
         },
         "marks": [
          {
           "encode": {
            "hover": {
             "fillOpacity": {
              "value": 0.9
             }
            },
            "update": {
             "fill": {
              "field": "trajectory",
              "scale": "color"
             },
             "fillOpacity": [
              {
               "test": "!length(data('selected')) || indata('selected', 'value', datum.trajectory)",
               "value": 0.5
              },
              {
               "value": 0.15
              }
             ],
             "interpolate": {
              "value": "linear"
             },
             "stroke": {
              "field": "trajectory",
              "scale": "color"
             },
             "strokeOpacity": [
              {
               "test": "!length(data('selected')) || indata('selected', 'value', datum.trajectory)",
               "value": 0.75
              },
              {
               "value": 0.15
              }
             ],
             "strokeWidth": {
              "value": 2
             },
             "x": {
              "field": "timepoint",
              "scale": "xscale"
             },
             "y": {
              "field": "upper",
              "scale": "yscale"
             },
             "y2": {
              "field": "lower",
              "scale": "yscale"
             }
            }
           },
           "from": {
            "data": "trajectory_split"
           },
           "type": "area"
          }
         ],
         "name": "_distributions",
         "type": "group",
         "zindex": 1
        },
        {
         "marks": [
          {
           "encode": {
            "enter": {
             "stroke": {
              "value": "lightgray"
             }
            },
            "update": {
             "opacity": {
              "value": 1
             },
             "x": {
              "field": "timepoint",
              "scale": "xscale"
             },
             "y": {
              "signal": "height"
             },
             "y2": {
              "value": 0
             }
            }
           },
           "from": {
            "data": "markers"
           },
           "name": "_marker text",
           "type": "rule"
          },
          {
           "encode": {
            "enter": {
             "fontSize": {
              "value": 8
             },
             "text": {
              "field": "datum.label"
             },
             "y": {
              "value": 0
             }
            }
           },
           "from": {
            "data": "_marker text"
           },
           "name": "_marker flags",
           "transform": [
            {
             "as": [
              "x",
              "_y",
              "opacity",
              "align",
              "baseline"
             ],
             "lineAnchor": "start",
             "offset": [
              1
             ],
             "size": {
              "signal": "[width, height]"
             },
             "type": "label"
            }
           ],
           "type": "text"
          }
         ],
         "name": "_markers",
         "type": "group"
        }
       ],
       "padding": 5,
       "scales": [
        {
         "domain": {
          "fields": [
           {
            "data": "distributions",
            "field": "timepoint"
           },
           {
            "data": "traces",
            "field": "timepoint"
           },
           {
            "data": "points",
            "field": "timepoint"
           },
           {
            "data": "markers",
            "field": "timepoint"
           }
          ]
         },
         "name": "xscale",
         "range": "width",
         "type": "linear",
         "zero": false
        },
        {
         "domain": {
          "fields": [
           {
            "data": "distributions",
            "field": "lower"
           },
           {
            "data": "distributions",
            "field": "upper"
           },
           {
            "data": "traces",
            "field": "value"
           },
           {
            "data": "points",
            "field": "value"
           }
          ]
         },
         "name": "yscale",
         "nice": true,
         "range": "height",
         "type": "linear",
         "zero": true
        },
        {
         "domain": {
          "fields": [
           {
            "data": "distributions",
            "field": "trajectory"
           },
           {
            "data": "traces",
            "field": "trajectory"
           },
           {
            "data": "points",
            "field": "trajectory"
           }
          ]
         },
         "name": "color",
         "range": "category",
         "type": "ordinal"
        }
       ],
       "signals": [
        {
         "name": "clear",
         "on": [
          {
           "events": "mouseup[!event.item]",
           "force": true,
           "update": "true"
          }
         ],
         "value": true
        },
        {
         "name": "shift",
         "on": [
          {
           "events": "@legendSymbol:click, @legendLabel:click",
           "force": true,
           "update": "event.shiftKey"
          }
         ],
         "value": false
        },
        {
         "name": "clicked",
         "on": [
          {
           "events": "@legendSymbol:click, @legendLabel:click",
           "force": true,
           "update": "{value: datum.value}"
          }
         ],
         "value": null
        }
       ],
       "width": 500
      }
     },
     "metadata": {},
     "output_type": "display_data"
    }
   ],
   "source": [
    "num_samples = 100\n",
    "model_paths = [model6_location]\n",
    "data_path = \"../../notebook/ensemble_eval_sa/NY_data1.csv\"\n",
    "weights = [1]\n",
    "# solution_mappings = [{\"I\": \"I\", \"H\": \"H\", \"D\": \"D\"}]\n",
    "solution_mappings = [{\"I\": \"infected\", \"H\": \"hospitalized\", \"D\": \"dead\"}]\n",
    "\n",
    "# Run the calibration and sampling\n",
    "result2 = load_and_calibrate_and_sample_ensemble_model(\n",
    "    model_paths,\n",
    "    data_path,\n",
    "    weights,\n",
    "    solution_mappings,\n",
    "    num_samples,\n",
    "    timepoints,\n",
    "    verbose=True,\n",
    "    total_population=19340000,\n",
    "    num_iterations=100,\n",
    "    time_unit=\"days\",\n",
    "    visual_options={\"title\": \"Calibrated Ensemble\", \"subset\":\".*_sol\"}\n",
    ")\n",
    "\n",
    "# # Save results\n",
    "# result2[\"data\"].to_csv(\n",
    "#     \"partI_ensemble_of_one_results.csv\", index=False\n",
    "# )\n",
    "# result2[\"quantiles\"].to_csv(\n",
    "#     \"partI_ensemble_of_one_quantiles.csv\", index=False\n",
    "# )\n",
    "\n",
    "# Plot results\n",
    "schema = plots.trajectories(pd.DataFrame(result2[\"data\"]), subset=\".*_sol\",\n",
    "                            points=test_data.reset_index(drop=True).rename(columns={\"I\":\"I_data\", \"H\":\"H_data\", \"D\":\"D_data\"}),\n",
    "                           )\n",
    "schema = plots.pad(schema, 5)\n",
    "plots.ipy_display(schema)"
   ]
  },
  {
   "cell_type": "code",
   "execution_count": 158,
   "id": "812f6a06-aca4-4966-95be-4a0b28960632",
   "metadata": {},
   "outputs": [
    {
     "name": "stdout",
     "output_type": "stream",
     "text": [
      "\n"
     ]
    },
    {
     "data": {
      "application/vnd.vega.v5+json": {
       "$schema": "https://vega.github.io/schema/vega/v5.json",
       "axes": [
        {
         "name": "x_axis",
         "orient": "bottom",
         "scale": "xscale",
         "zindex": 100
        },
        {
         "name": "y_axis",
         "orient": "left",
         "scale": "yscale",
         "zindex": 100
        }
       ],
       "data": [
        {
         "name": "distributions",
         "values": [
          {
           "lower": 6.610641385324361e-23,
           "timepoint": 0,
           "trajectory": "D_sol",
           "upper": 1.6658218405133169e-22
          },
          {
           "lower": 0.007504342356696725,
           "timepoint": 1,
           "trajectory": "D_sol",
           "upper": 0.019023896381258964
          },
          {
           "lower": 0.03304444858804345,
           "timepoint": 2,
           "trajectory": "D_sol",
           "upper": 0.08415568694472313
          },
          {
           "lower": 0.08047867193818092,
           "timepoint": 3,
           "trajectory": "D_sol",
           "upper": 0.20573302656412124
          },
          {
           "lower": 0.15349171459674835,
           "timepoint": 4,
           "trajectory": "D_sol",
           "upper": 0.3936999827623367
          },
          {
           "lower": 0.25627577751874925,
           "timepoint": 5,
           "trajectory": "D_sol",
           "upper": 0.6594992190599441
          },
          {
           "lower": 0.39432329684495926,
           "timepoint": 6,
           "trajectory": "D_sol",
           "upper": 1.017486435174942
          },
          {
           "lower": 0.5723511874675751,
           "timepoint": 7,
           "trajectory": "D_sol",
           "upper": 1.485752683877945
          },
          {
           "lower": 0.8001261264085769,
           "timepoint": 8,
           "trajectory": "D_sol",
           "upper": 2.0877041459083556
          },
          {
           "lower": 1.0882989645004273,
           "timepoint": 9,
           "trajectory": "D_sol",
           "upper": 2.867973220348358
          },
          {
           "lower": 1.4509763062000274,
           "timepoint": 10,
           "trajectory": "D_sol",
           "upper": 3.8612149357795715
          },
          {
           "lower": 1.9062537670135498,
           "timepoint": 11,
           "trajectory": "D_sol",
           "upper": 5.1273504257202145
          },
          {
           "lower": 2.4772407293319705,
           "timepoint": 12,
           "trajectory": "D_sol",
           "upper": 6.74050395488739
          },
          {
           "lower": 3.195584714412689,
           "timepoint": 13,
           "trajectory": "D_sol",
           "upper": 8.800432682037354
          },
          {
           "lower": 4.099937272071839,
           "timepoint": 14,
           "trajectory": "D_sol",
           "upper": 11.430050373077393
          },
          {
           "lower": 5.234695792198181,
           "timepoint": 15,
           "trajectory": "D_sol",
           "upper": 14.686110830307006
          },
          {
           "lower": 6.603590655326843,
           "timepoint": 16,
           "trajectory": "D_sol",
           "upper": 18.811977767944335
          },
          {
           "lower": 8.123843908309937,
           "timepoint": 17,
           "trajectory": "D_sol",
           "upper": 24.043848037719723
          },
          {
           "lower": 9.977514457702636,
           "timepoint": 18,
           "trajectory": "D_sol",
           "upper": 30.682512378692625
          },
          {
           "lower": 12.481521224975586,
           "timepoint": 19,
           "trajectory": "D_sol",
           "upper": 39.157920265197745
          },
          {
           "lower": 15.869789409637452,
           "timepoint": 20,
           "trajectory": "D_sol",
           "upper": 50.560144805908195
          },
          {
           "lower": 20.171558380126953,
           "timepoint": 21,
           "trajectory": "D_sol",
           "upper": 65.21971054077147
          },
          {
           "lower": 25.61789150238037,
           "timepoint": 22,
           "trajectory": "D_sol",
           "upper": 83.99883003234862
          },
          {
           "lower": 32.38847017288208,
           "timepoint": 23,
           "trajectory": "D_sol",
           "upper": 107.55521011352538
          },
          {
           "lower": 40.513858795166016,
           "timepoint": 24,
           "trajectory": "D_sol",
           "upper": 136.11787643432615
          },
          {
           "lower": 48.699842834472655,
           "timepoint": 25,
           "trajectory": "D_sol",
           "upper": 169.7809371948242
          },
          {
           "lower": 57.921101379394536,
           "timepoint": 26,
           "trajectory": "D_sol",
           "upper": 207.76377563476558
          },
          {
           "lower": 68.12788467407226,
           "timepoint": 27,
           "trajectory": "D_sol",
           "upper": 249.827815246582
          },
          {
           "lower": 79.26511993408204,
           "timepoint": 28,
           "trajectory": "D_sol",
           "upper": 296.7678100585937
          },
          {
           "lower": 91.2777687072754,
           "timepoint": 29,
           "trajectory": "D_sol",
           "upper": 347.613410949707
          },
          {
           "lower": 104.11384162902833,
           "timepoint": 30,
           "trajectory": "D_sol",
           "upper": 402.07888488769527
          },
          {
           "lower": 117.7261417388916,
           "timepoint": 31,
           "trajectory": "D_sol",
           "upper": 459.9053771972656
          },
          {
           "lower": 132.07307815551758,
           "timepoint": 32,
           "trajectory": "D_sol",
           "upper": 520.864614868164
          },
          {
           "lower": 147.21059951782226,
           "timepoint": 33,
           "trajectory": "D_sol",
           "upper": 584.759896850586
          },
          {
           "lower": 163.0571388244629,
           "timepoint": 34,
           "trajectory": "D_sol",
           "upper": 651.4227783203125
          },
          {
           "lower": 179.57866744995118,
           "timepoint": 35,
           "trajectory": "D_sol",
           "upper": 713.0974090576171
          },
          {
           "lower": 196.7567153930664,
           "timepoint": 36,
           "trajectory": "D_sol",
           "upper": 774.9166259765625
          },
          {
           "lower": 214.57611389160155,
           "timepoint": 37,
           "trajectory": "D_sol",
           "upper": 847.4305419921874
          },
          {
           "lower": 233.02697143554687,
           "timepoint": 38,
           "trajectory": "D_sol",
           "upper": 924.1880554199219
          },
          {
           "lower": 252.10013961791992,
           "timepoint": 39,
           "trajectory": "D_sol",
           "upper": 1003.5156249999999
          },
          {
           "lower": 271.79137420654297,
           "timepoint": 40,
           "trajectory": "D_sol",
           "upper": 1085.31220703125
          },
          {
           "lower": 292.09803161621096,
           "timepoint": 41,
           "trajectory": "D_sol",
           "upper": 1167.147637939453
          },
          {
           "lower": 313.0202301025391,
           "timepoint": 42,
           "trajectory": "D_sol",
           "upper": 1255.8841430664063
          },
          {
           "lower": 334.55997467041016,
           "timepoint": 43,
           "trajectory": "D_sol",
           "upper": 1346.9994384765625
          },
          {
           "lower": 356.7206756591797,
           "timepoint": 44,
           "trajectory": "D_sol",
           "upper": 1453.4356018066405
          },
          {
           "lower": 379.5079574584961,
           "timepoint": 45,
           "trajectory": "D_sol",
           "upper": 1553.690692138672
          },
          {
           "lower": 403.8274627685547,
           "timepoint": 46,
           "trajectory": "D_sol",
           "upper": 1650.8177490234375
          },
          {
           "lower": 431.23529052734375,
           "timepoint": 47,
           "trajectory": "D_sol",
           "upper": 1750.4487365722655
          },
          {
           "lower": 459.72399444580077,
           "timepoint": 48,
           "trajectory": "D_sol",
           "upper": 1856.258020019531
          },
          {
           "lower": 489.3301574707031,
           "timepoint": 49,
           "trajectory": "D_sol",
           "upper": 1989.9452148437497
          },
          {
           "lower": 520.0919540405273,
           "timepoint": 50,
           "trajectory": "D_sol",
           "upper": 2130.212658691406
          },
          {
           "lower": 552.0480895996094,
           "timepoint": 51,
           "trajectory": "D_sol",
           "upper": 2277.3821166992184
          },
          {
           "lower": 585.2396453857422,
           "timepoint": 52,
           "trajectory": "D_sol",
           "upper": 2431.768872070312
          },
          {
           "lower": 611.6071838378906,
           "timepoint": 53,
           "trajectory": "D_sol",
           "upper": 2593.695031738281
          },
          {
           "lower": 637.3504028320312,
           "timepoint": 54,
           "trajectory": "D_sol",
           "upper": 2763.4937866210935
          },
          {
           "lower": 663.3912658691406,
           "timepoint": 55,
           "trajectory": "D_sol",
           "upper": 2941.515209960937
          },
          {
           "lower": 689.7292388916015,
           "timepoint": 56,
           "trajectory": "D_sol",
           "upper": 3128.121923828125
          },
          {
           "lower": 707.5887878417968,
           "timepoint": 57,
           "trajectory": "D_sol",
           "upper": 3310.4845458984373
          },
          {
           "lower": 730.0277465820312,
           "timepoint": 58,
           "trajectory": "D_sol",
           "upper": 3496.7236328125
          },
          {
           "lower": 736.4213806152344,
           "timepoint": 59,
           "trajectory": "D_sol",
           "upper": 3690.4851928710937
          },
          {
           "lower": 9.778708329188923e-11,
           "timepoint": 0,
           "trajectory": "H_sol",
           "upper": 1.724584211548752e-10
          },
          {
           "lower": 1.1842869162559508,
           "timepoint": 1,
           "trajectory": "H_sol",
           "upper": 2.066369593143463
          },
          {
           "lower": 2.7402557253837587,
           "timepoint": 2,
           "trajectory": "H_sol",
           "upper": 4.68318293094635
          },
          {
           "lower": 4.669064259529113,
           "timepoint": 3,
           "trajectory": "H_sol",
           "upper": 7.766601276397704
          },
          {
           "lower": 6.954097938537598,
           "timepoint": 4,
           "trajectory": "H_sol",
           "upper": 11.379341745376585
          },
          {
           "lower": 9.673270511627198,
           "timepoint": 5,
           "trajectory": "H_sol",
           "upper": 15.83128547668457
          },
          {
           "lower": 12.873015594482421,
           "timepoint": 6,
           "trajectory": "H_sol",
           "upper": 21.19794044494629
          },
          {
           "lower": 16.635354709625243,
           "timepoint": 7,
           "trajectory": "H_sol",
           "upper": 27.202933692932127
          },
          {
           "lower": 21.943069839477538,
           "timepoint": 8,
           "trajectory": "H_sol",
           "upper": 35.03921985626221
          },
          {
           "lower": 28.227634239196778,
           "timepoint": 9,
           "trajectory": "H_sol",
           "upper": 44.970970916748044
          },
          {
           "lower": 35.661856460571286,
           "timepoint": 10,
           "trajectory": "H_sol",
           "upper": 57.903168487548825
          },
          {
           "lower": 44.910835647583006,
           "timepoint": 11,
           "trajectory": "H_sol",
           "upper": 74.22857933044433
          },
          {
           "lower": 56.56073627471924,
           "timepoint": 12,
           "trajectory": "H_sol",
           "upper": 94.90254058837891
          },
          {
           "lower": 72.50644989013672,
           "timepoint": 13,
           "trajectory": "H_sol",
           "upper": 121.19642944335938
          },
          {
           "lower": 92.97097511291504,
           "timepoint": 14,
           "trajectory": "H_sol",
           "upper": 154.62842025756837
          },
          {
           "lower": 116.71006698608399,
           "timepoint": 15,
           "trajectory": "H_sol",
           "upper": 197.4374252319336
          },
          {
           "lower": 145.36299743652344,
           "timepoint": 16,
           "trajectory": "H_sol",
           "upper": 252.52887268066405
          },
          {
           "lower": 181.96295013427735,
           "timepoint": 17,
           "trajectory": "H_sol",
           "upper": 323.893098449707
          },
          {
           "lower": 230.34517440795898,
           "timepoint": 18,
           "trajectory": "H_sol",
           "upper": 415.34059448242186
          },
          {
           "lower": 291.6338775634766,
           "timepoint": 19,
           "trajectory": "H_sol",
           "upper": 532.5301391601562
          },
          {
           "lower": 366.834765625,
           "timepoint": 20,
           "trajectory": "H_sol",
           "upper": 682.570669555664
          },
          {
           "lower": 449.7710296630859,
           "timepoint": 21,
           "trajectory": "H_sol",
           "upper": 874.2347869873047
          },
          {
           "lower": 547.2841156005859,
           "timepoint": 22,
           "trajectory": "H_sol",
           "upper": 1108.960028076172
          },
          {
           "lower": 656.5846618652344,
           "timepoint": 23,
           "trajectory": "H_sol",
           "upper": 1369.5416931152345
          },
          {
           "lower": 772.383740234375,
           "timepoint": 24,
           "trajectory": "H_sol",
           "upper": 1632.4916198730468
          },
          {
           "lower": 875.8513916015625,
           "timepoint": 25,
           "trajectory": "H_sol",
           "upper": 1887.5483459472657
          },
          {
           "lower": 973.7718627929687,
           "timepoint": 26,
           "trajectory": "H_sol",
           "upper": 2130.1654296875
          },
          {
           "lower": 1073.4129455566406,
           "timepoint": 27,
           "trajectory": "H_sol",
           "upper": 2352.087683105469
          },
          {
           "lower": 1171.4781311035156,
           "timepoint": 28,
           "trajectory": "H_sol",
           "upper": 2540.3828002929686
          },
          {
           "lower": 1266.5203491210937,
           "timepoint": 29,
           "trajectory": "H_sol",
           "upper": 2753.941357421875
          },
          {
           "lower": 1358.4522216796875,
           "timepoint": 30,
           "trajectory": "H_sol",
           "upper": 2954.7529296875
          },
          {
           "lower": 1447.8518371582031,
           "timepoint": 31,
           "trajectory": "H_sol",
           "upper": 3128.7059326171875
          },
          {
           "lower": 1535.4285766601563,
           "timepoint": 32,
           "trajectory": "H_sol",
           "upper": 3291.961535644531
          },
          {
           "lower": 1621.85205078125,
           "timepoint": 33,
           "trajectory": "H_sol",
           "upper": 3446.080773925781
          },
          {
           "lower": 1710.0687133789063,
           "timepoint": 34,
           "trajectory": "H_sol",
           "upper": 3592.512658691406
          },
          {
           "lower": 1792.650341796875,
           "timepoint": 35,
           "trajectory": "H_sol",
           "upper": 3732.5907470703123
          },
          {
           "lower": 1871.461328125,
           "timepoint": 36,
           "trajectory": "H_sol",
           "upper": 3867.496435546875
          },
          {
           "lower": 1885.2246948242187,
           "timepoint": 37,
           "trajectory": "H_sol",
           "upper": 3998.278088378906
          },
          {
           "lower": 1809.7814331054688,
           "timepoint": 38,
           "trajectory": "H_sol",
           "upper": 4146.386621093749
          },
          {
           "lower": 1848.1872985839843,
           "timepoint": 39,
           "trajectory": "H_sol",
           "upper": 4327.2574462890625
          },
          {
           "lower": 1834.7529357910157,
           "timepoint": 40,
           "trajectory": "H_sol",
           "upper": 4559.138208007812
          },
          {
           "lower": 1780.6359130859375,
           "timepoint": 41,
           "trajectory": "H_sol",
           "upper": 4799.892431640625
          },
          {
           "lower": 1738.0271057128907,
           "timepoint": 42,
           "trajectory": "H_sol",
           "upper": 5036.7953125
          },
          {
           "lower": 1685.584002685547,
           "timepoint": 43,
           "trajectory": "H_sol",
           "upper": 5268.309228515624
          },
          {
           "lower": 1657.0687255859375,
           "timepoint": 44,
           "trajectory": "H_sol",
           "upper": 5508.102880859375
          },
          {
           "lower": 1631.669091796875,
           "timepoint": 45,
           "trajectory": "H_sol",
           "upper": 5756.722363281249
          },
          {
           "lower": 1645.7339172363281,
           "timepoint": 46,
           "trajectory": "H_sol",
           "upper": 6014.707885742187
          },
          {
           "lower": 1599.6086547851562,
           "timepoint": 47,
           "trajectory": "H_sol",
           "upper": 6282.579345703124
          },
          {
           "lower": 1547.832208251953,
           "timepoint": 48,
           "trajectory": "H_sol",
           "upper": 6560.857128906249
          },
          {
           "lower": 1487.6114013671875,
           "timepoint": 49,
           "trajectory": "H_sol",
           "upper": 6850.050170898437
          },
          {
           "lower": 1428.6385131835937,
           "timepoint": 50,
           "trajectory": "H_sol",
           "upper": 7148.032275390624
          },
          {
           "lower": 1371.065496826172,
           "timepoint": 51,
           "trajectory": "H_sol",
           "upper": 7456.286474609374
          },
          {
           "lower": 1315.0094421386718,
           "timepoint": 52,
           "trajectory": "H_sol",
           "upper": 7776.610253906249
          },
          {
           "lower": 1260.5817932128907,
           "timepoint": 53,
           "trajectory": "H_sol",
           "upper": 8109.502661132812
          },
          {
           "lower": 1208.533544921875,
           "timepoint": 54,
           "trajectory": "H_sol",
           "upper": 8455.453027343749
          },
          {
           "lower": 1158.1321044921874,
           "timepoint": 55,
           "trajectory": "H_sol",
           "upper": 8814.998486328124
          },
          {
           "lower": 1109.4002319335937,
           "timepoint": 56,
           "trajectory": "H_sol",
           "upper": 9188.60498046875
          },
          {
           "lower": 1062.3470336914063,
           "timepoint": 57,
           "trajectory": "H_sol",
           "upper": 9576.8283203125
          },
          {
           "lower": 1016.9707946777344,
           "timepoint": 58,
           "trajectory": "H_sol",
           "upper": 9980.164404296875
          },
          {
           "lower": 973.2569793701172,
           "timepoint": 59,
           "trajectory": "H_sol",
           "upper": 10374.25673828125
          },
          {
           "lower": 100,
           "timepoint": 0,
           "trajectory": "I_sol",
           "upper": 100
          },
          {
           "lower": 158.81197662353514,
           "timepoint": 1,
           "trajectory": "I_sol",
           "upper": 161.94850387573243
          },
          {
           "lower": 216.96819076538085,
           "timepoint": 2,
           "trajectory": "I_sol",
           "upper": 226.74014739990236
          },
          {
           "lower": 281.2330383300781,
           "timepoint": 3,
           "trajectory": "I_sol",
           "upper": 302.17327575683595
          },
          {
           "lower": 357.02058563232424,
           "timepoint": 4,
           "trajectory": "I_sol",
           "upper": 394.55877990722655
          },
          {
           "lower": 449.8093780517578,
           "timepoint": 5,
           "trajectory": "I_sol",
           "upper": 511.6151779174805
          },
          {
           "lower": 565.0324249267578,
           "timepoint": 6,
           "trajectory": "I_sol",
           "upper": 661.4975341796875
          },
          {
           "lower": 708.6594543457031,
           "timepoint": 7,
           "trajectory": "I_sol",
           "upper": 854.1591735839844
          },
          {
           "lower": 888.1905487060546,
           "timepoint": 8,
           "trajectory": "I_sol",
           "upper": 1102.3221618652344
          },
          {
           "lower": 1112.8728454589843,
           "timepoint": 9,
           "trajectory": "I_sol",
           "upper": 1422.2488708496094
          },
          {
           "lower": 1394.2063598632812,
           "timepoint": 10,
           "trajectory": "I_sol",
           "upper": 1834.8351684570312
          },
          {
           "lower": 1746.5495483398438,
           "timepoint": 11,
           "trajectory": "I_sol",
           "upper": 2366.98759765625
          },
          {
           "lower": 2187.86728515625,
           "timepoint": 12,
           "trajectory": "I_sol",
           "upper": 3053.3844116210935
          },
          {
           "lower": 2740.632275390625,
           "timepoint": 13,
           "trajectory": "I_sol",
           "upper": 3938.721643066406
          },
          {
           "lower": 3432.9836181640626,
           "timepoint": 14,
           "trajectory": "I_sol",
           "upper": 5080.622949218749
          },
          {
           "lower": 4298.154467773437,
           "timepoint": 15,
           "trajectory": "I_sol",
           "upper": 6553.361474609374
          },
          {
           "lower": 5380.403369140625,
           "timepoint": 16,
           "trajectory": "I_sol",
           "upper": 8452.650048828125
          },
          {
           "lower": 6734.9520263671875,
           "timepoint": 17,
           "trajectory": "I_sol",
           "upper": 10901.801416015625
          },
          {
           "lower": 8430.201806640625,
           "timepoint": 18,
           "trajectory": "I_sol",
           "upper": 14059.618457031249
          },
          {
           "lower": 10551.659814453125,
           "timepoint": 19,
           "trajectory": "I_sol",
           "upper": 18130.49921875
          },
          {
           "lower": 13205.830859375,
           "timepoint": 20,
           "trajectory": "I_sol",
           "upper": 23380.7001953125
          },
          {
           "lower": 16469.216162109376,
           "timepoint": 21,
           "trajectory": "I_sol",
           "upper": 30029.6634765625
          },
          {
           "lower": 19606.95029296875,
           "timepoint": 22,
           "trajectory": "I_sol",
           "upper": 36622.489453125
          },
          {
           "lower": 21950.02880859375,
           "timepoint": 23,
           "trajectory": "I_sol",
           "upper": 41796.8423828125
          },
          {
           "lower": 23711.898828125,
           "timepoint": 24,
           "trajectory": "I_sol",
           "upper": 44519.147656249996
          },
          {
           "lower": 25228.10205078125,
           "timepoint": 25,
           "trajectory": "I_sol",
           "upper": 46641.0537109375
          },
          {
           "lower": 26687.20712890625,
           "timepoint": 26,
           "trajectory": "I_sol",
           "upper": 48062.71640625
          },
          {
           "lower": 28038.88408203125,
           "timepoint": 27,
           "trajectory": "I_sol",
           "upper": 49793.1263671875
          },
          {
           "lower": 28078.25341796875,
           "timepoint": 28,
           "trajectory": "I_sol",
           "upper": 51373.4193359375
          },
          {
           "lower": 28686.72509765625,
           "timepoint": 29,
           "trajectory": "I_sol",
           "upper": 52939.626953125
          },
          {
           "lower": 29429.002734375,
           "timepoint": 30,
           "trajectory": "I_sol",
           "upper": 55010.355078125
          },
          {
           "lower": 30325.21357421875,
           "timepoint": 31,
           "trajectory": "I_sol",
           "upper": 56661.114843749994
          },
          {
           "lower": 31223.26171875,
           "timepoint": 32,
           "trajectory": "I_sol",
           "upper": 58423.7265625
          },
          {
           "lower": 30709.01220703125,
           "timepoint": 33,
           "trajectory": "I_sol",
           "upper": 61104.883203125
          },
          {
           "lower": 28681.74716796875,
           "timepoint": 34,
           "trajectory": "I_sol",
           "upper": 63887.6404296875
          },
          {
           "lower": 27034.236328125,
           "timepoint": 35,
           "trajectory": "I_sol",
           "upper": 66781.37890625
          },
          {
           "lower": 25452.991015625,
           "timepoint": 36,
           "trajectory": "I_sol",
           "upper": 69794.040625
          },
          {
           "lower": 24193.748046875,
           "timepoint": 37,
           "trajectory": "I_sol",
           "upper": 72924.5453125
          },
          {
           "lower": 24160.11806640625,
           "timepoint": 38,
           "trajectory": "I_sol",
           "upper": 76165.236328125
          },
          {
           "lower": 24343.95419921875,
           "timepoint": 39,
           "trajectory": "I_sol",
           "upper": 79541.9109375
          },
          {
           "lower": 24450.83544921875,
           "timepoint": 40,
           "trajectory": "I_sol",
           "upper": 83060.425
          },
          {
           "lower": 23757.834375,
           "timepoint": 41,
           "trajectory": "I_sol",
           "upper": 86726.592578125
          },
          {
           "lower": 22584.535546875,
           "timepoint": 42,
           "trajectory": "I_sol",
           "upper": 90546.282421875
          },
          {
           "lower": 21479.15166015625,
           "timepoint": 43,
           "trajectory": "I_sol",
           "upper": 94621.4421875
          },
          {
           "lower": 20867.0966796875,
           "timepoint": 44,
           "trajectory": "I_sol",
           "upper": 98988.60703125
          },
          {
           "lower": 20398.2189453125,
           "timepoint": 45,
           "trajectory": "I_sol",
           "upper": 103387.35195312499
          },
          {
           "lower": 19940.13505859375,
           "timepoint": 46,
           "trajectory": "I_sol",
           "upper": 107971.07890625
          },
          {
           "lower": 19492.6533203125,
           "timepoint": 47,
           "trajectory": "I_sol",
           "upper": 112746.569921875
          },
          {
           "lower": 19055.653515625,
           "timepoint": 48,
           "trajectory": "I_sol",
           "upper": 117720.855078125
          },
          {
           "lower": 18430.030126953126,
           "timepoint": 49,
           "trajectory": "I_sol",
           "upper": 122901.07812499999
          },
          {
           "lower": 17583.8505859375,
           "timepoint": 50,
           "trajectory": "I_sol",
           "upper": 128294.52890625
          },
          {
           "lower": 16776.217236328124,
           "timepoint": 51,
           "trajectory": "I_sol",
           "upper": 133908.60624999998
          },
          {
           "lower": 16005.438183593751,
           "timepoint": 52,
           "trajectory": "I_sol",
           "upper": 139697.45781249998
          },
          {
           "lower": 15269.910351562501,
           "timepoint": 53,
           "trajectory": "I_sol",
           "upper": 145693.88671875
          },
          {
           "lower": 14568.053515625,
           "timepoint": 54,
           "trajectory": "I_sol",
           "upper": 151927.428125
          },
          {
           "lower": 13898.334765625,
           "timepoint": 55,
           "trajectory": "I_sol",
           "upper": 158405.62968749998
          },
          {
           "lower": 13259.3375,
           "timepoint": 56,
           "trajectory": "I_sol",
           "upper": 165136.00390625
          },
          {
           "lower": 12649.658935546875,
           "timepoint": 57,
           "trajectory": "I_sol",
           "upper": 172126.74140625
          },
          {
           "lower": 12067.960205078125,
           "timepoint": 58,
           "trajectory": "I_sol",
           "upper": 178686.45859375
          },
          {
           "lower": 11512.994335937501,
           "timepoint": 59,
           "trajectory": "I_sol",
           "upper": 186485.96796875
          }
         ]
        },
        {
         "name": "traces",
         "transform": [
          {
           "expr": "isValid(datum.value)",
           "type": "filter"
          }
         ],
         "values": []
        },
        {
         "name": "points",
         "values": [
          {
           "sample_id": 0,
           "timepoint": 0,
           "trajectory": "I_data",
           "value": 1
          },
          {
           "sample_id": 0,
           "timepoint": 1,
           "trajectory": "I_data",
           "value": 10
          },
          {
           "sample_id": 0,
           "timepoint": 2,
           "trajectory": "I_data",
           "value": 21
          },
          {
           "sample_id": 0,
           "timepoint": 3,
           "trajectory": "I_data",
           "value": 24
          },
          {
           "sample_id": 0,
           "timepoint": 4,
           "trajectory": "I_data",
           "value": 76
          },
          {
           "sample_id": 0,
           "timepoint": 5,
           "trajectory": "I_data",
           "value": 104
          },
          {
           "sample_id": 0,
           "timepoint": 6,
           "trajectory": "I_data",
           "value": 128
          },
          {
           "sample_id": 0,
           "timepoint": 7,
           "trajectory": "I_data",
           "value": 131
          },
          {
           "sample_id": 0,
           "timepoint": 8,
           "trajectory": "I_data",
           "value": 192
          },
          {
           "sample_id": 0,
           "timepoint": 9,
           "trajectory": "I_data",
           "value": 220
          },
          {
           "sample_id": 0,
           "timepoint": 10,
           "trajectory": "I_data",
           "value": 274
          },
          {
           "sample_id": 0,
           "timepoint": 11,
           "trajectory": "I_data",
           "value": 394
          },
          {
           "sample_id": 0,
           "timepoint": 12,
           "trajectory": "I_data",
           "value": 481
          },
          {
           "sample_id": 0,
           "timepoint": 13,
           "trajectory": "I_data",
           "value": 745
          },
          {
           "sample_id": 0,
           "timepoint": 14,
           "trajectory": "I_data",
           "value": 1111
          },
          {
           "sample_id": 0,
           "timepoint": 15,
           "trajectory": "I_data",
           "value": 2128
          },
          {
           "sample_id": 0,
           "timepoint": 16,
           "trajectory": "I_data",
           "value": 3671
          },
          {
           "sample_id": 0,
           "timepoint": 17,
           "trajectory": "I_data",
           "value": 6578
          },
          {
           "sample_id": 0,
           "timepoint": 18,
           "trajectory": "I_data",
           "value": 9449
          },
          {
           "sample_id": 0,
           "timepoint": 19,
           "trajectory": "I_data",
           "value": 13761
          },
          {
           "sample_id": 0,
           "timepoint": 20,
           "trajectory": "I_data",
           "value": 18270
          },
          {
           "sample_id": 0,
           "timepoint": 21,
           "trajectory": "I_data",
           "value": 21478
          },
          {
           "sample_id": 0,
           "timepoint": 22,
           "trajectory": "I_data",
           "value": 23630
          },
          {
           "sample_id": 0,
           "timepoint": 23,
           "trajectory": "I_data",
           "value": 26987
          },
          {
           "sample_id": 0,
           "timepoint": 24,
           "trajectory": "I_data",
           "value": 29533
          },
          {
           "sample_id": 0,
           "timepoint": 25,
           "trajectory": "I_data",
           "value": 31623
          },
          {
           "sample_id": 0,
           "timepoint": 26,
           "trajectory": "I_data",
           "value": 33967
          },
          {
           "sample_id": 0,
           "timepoint": 27,
           "trajectory": "I_data",
           "value": 35822
          },
          {
           "sample_id": 0,
           "timepoint": 28,
           "trajectory": "I_data",
           "value": 38456
          },
          {
           "sample_id": 0,
           "timepoint": 29,
           "trajectory": "I_data",
           "value": 45676
          },
          {
           "sample_id": 0,
           "timepoint": 30,
           "trajectory": "I_data",
           "value": 48380
          },
          {
           "sample_id": 0,
           "timepoint": 31,
           "trajectory": "I_data",
           "value": 51807
          },
          {
           "sample_id": 0,
           "timepoint": 32,
           "trajectory": "I_data",
           "value": 55042
          },
          {
           "sample_id": 0,
           "timepoint": 33,
           "trajectory": "I_data",
           "value": 56847
          },
          {
           "sample_id": 0,
           "timepoint": 34,
           "trajectory": "I_data",
           "value": 52184
          },
          {
           "sample_id": 0,
           "timepoint": 35,
           "trajectory": "I_data",
           "value": 49194
          },
          {
           "sample_id": 0,
           "timepoint": 36,
           "trajectory": "I_data",
           "value": 48730
          },
          {
           "sample_id": 0,
           "timepoint": 37,
           "trajectory": "I_data",
           "value": 50551
          },
          {
           "sample_id": 0,
           "timepoint": 38,
           "trajectory": "I_data",
           "value": 51029
          },
          {
           "sample_id": 0,
           "timepoint": 39,
           "trajectory": "I_data",
           "value": 49701
          },
          {
           "sample_id": 0,
           "timepoint": 40,
           "trajectory": "I_data",
           "value": 50661
          },
          {
           "sample_id": 0,
           "timepoint": 41,
           "trajectory": "I_data",
           "value": 48303
          },
          {
           "sample_id": 0,
           "timepoint": 42,
           "trajectory": "I_data",
           "value": 43703
          },
          {
           "sample_id": 0,
           "timepoint": 43,
           "trajectory": "I_data",
           "value": 38888
          },
          {
           "sample_id": 0,
           "timepoint": 44,
           "trajectory": "I_data",
           "value": 38244
          },
          {
           "sample_id": 0,
           "timepoint": 45,
           "trajectory": "I_data",
           "value": 36857
          },
          {
           "sample_id": 0,
           "timepoint": 46,
           "trajectory": "I_data",
           "value": 35881
          },
          {
           "sample_id": 0,
           "timepoint": 47,
           "trajectory": "I_data",
           "value": 35054
          },
          {
           "sample_id": 0,
           "timepoint": 48,
           "trajectory": "I_data",
           "value": 34782
          },
          {
           "sample_id": 0,
           "timepoint": 49,
           "trajectory": "I_data",
           "value": 31526
          },
          {
           "sample_id": 0,
           "timepoint": 50,
           "trajectory": "I_data",
           "value": 28799
          },
          {
           "sample_id": 0,
           "timepoint": 51,
           "trajectory": "I_data",
           "value": 27419
          },
          {
           "sample_id": 0,
           "timepoint": 52,
           "trajectory": "I_data",
           "value": 27443
          },
          {
           "sample_id": 0,
           "timepoint": 53,
           "trajectory": "I_data",
           "value": 30499
          },
          {
           "sample_id": 0,
           "timepoint": 54,
           "trajectory": "I_data",
           "value": 31543
          },
          {
           "sample_id": 0,
           "timepoint": 55,
           "trajectory": "I_data",
           "value": 31597
          },
          {
           "sample_id": 0,
           "timepoint": 56,
           "trajectory": "I_data",
           "value": 29008
          },
          {
           "sample_id": 0,
           "timepoint": 57,
           "trajectory": "I_data",
           "value": 25476
          },
          {
           "sample_id": 0,
           "timepoint": 58,
           "trajectory": "I_data",
           "value": 20411
          },
          {
           "sample_id": 0,
           "timepoint": 59,
           "trajectory": "I_data",
           "value": 19224
          },
          {
           "sample_id": 0,
           "timepoint": 38,
           "trajectory": "H_data",
           "value": 0
          },
          {
           "sample_id": 0,
           "timepoint": 39,
           "trajectory": "H_data",
           "value": 0
          },
          {
           "sample_id": 0,
           "timepoint": 45,
           "trajectory": "H_data",
           "value": 0
          },
          {
           "sample_id": 0,
           "timepoint": 46,
           "trajectory": "H_data",
           "value": 1
          },
          {
           "sample_id": 0,
           "timepoint": 52,
           "trajectory": "H_data",
           "value": 0
          },
          {
           "sample_id": 0,
           "timepoint": 53,
           "trajectory": "H_data",
           "value": 0
          },
          {
           "sample_id": 0,
           "timepoint": 54,
           "trajectory": "H_data",
           "value": 1
          },
          {
           "sample_id": 0,
           "timepoint": 55,
           "trajectory": "H_data",
           "value": 0
          },
          {
           "sample_id": 0,
           "timepoint": 56,
           "trajectory": "H_data",
           "value": 0
          },
          {
           "sample_id": 0,
           "timepoint": 57,
           "trajectory": "H_data",
           "value": 0
          },
          {
           "sample_id": 0,
           "timepoint": 58,
           "trajectory": "H_data",
           "value": 0
          },
          {
           "sample_id": 0,
           "timepoint": 59,
           "trajectory": "H_data",
           "value": 0
          },
          {
           "sample_id": 0,
           "timepoint": 0,
           "trajectory": "D_data",
           "value": 0
          },
          {
           "sample_id": 0,
           "timepoint": 1,
           "trajectory": "D_data",
           "value": 0
          },
          {
           "sample_id": 0,
           "timepoint": 2,
           "trajectory": "D_data",
           "value": 0
          },
          {
           "sample_id": 0,
           "timepoint": 3,
           "trajectory": "D_data",
           "value": 0
          },
          {
           "sample_id": 0,
           "timepoint": 4,
           "trajectory": "D_data",
           "value": 0
          },
          {
           "sample_id": 0,
           "timepoint": 5,
           "trajectory": "D_data",
           "value": 0
          },
          {
           "sample_id": 0,
           "timepoint": 6,
           "trajectory": "D_data",
           "value": 0
          },
          {
           "sample_id": 0,
           "timepoint": 7,
           "trajectory": "D_data",
           "value": 0
          },
          {
           "sample_id": 0,
           "timepoint": 8,
           "trajectory": "D_data",
           "value": 1
          },
          {
           "sample_id": 0,
           "timepoint": 9,
           "trajectory": "D_data",
           "value": 1
          },
          {
           "sample_id": 0,
           "timepoint": 10,
           "trajectory": "D_data",
           "value": 1
          },
          {
           "sample_id": 0,
           "timepoint": 11,
           "trajectory": "D_data",
           "value": 4
          },
          {
           "sample_id": 0,
           "timepoint": 12,
           "trajectory": "D_data",
           "value": 9
          },
          {
           "sample_id": 0,
           "timepoint": 13,
           "trajectory": "D_data",
           "value": 19
          },
          {
           "sample_id": 0,
           "timepoint": 14,
           "trajectory": "D_data",
           "value": 30
          },
          {
           "sample_id": 0,
           "timepoint": 15,
           "trajectory": "D_data",
           "value": 51
          },
          {
           "sample_id": 0,
           "timepoint": 16,
           "trajectory": "D_data",
           "value": 77
          },
          {
           "sample_id": 0,
           "timepoint": 17,
           "trajectory": "D_data",
           "value": 129
          },
          {
           "sample_id": 0,
           "timepoint": 18,
           "trajectory": "D_data",
           "value": 175
          },
          {
           "sample_id": 0,
           "timepoint": 19,
           "trajectory": "D_data",
           "value": 226
          },
          {
           "sample_id": 0,
           "timepoint": 20,
           "trajectory": "D_data",
           "value": 315
          },
          {
           "sample_id": 0,
           "timepoint": 21,
           "trajectory": "D_data",
           "value": 427
          },
          {
           "sample_id": 0,
           "timepoint": 22,
           "trajectory": "D_data",
           "value": 565
          },
          {
           "sample_id": 0,
           "timepoint": 23,
           "trajectory": "D_data",
           "value": 759
          },
          {
           "sample_id": 0,
           "timepoint": 24,
           "trajectory": "D_data",
           "value": 984
          },
          {
           "sample_id": 0,
           "timepoint": 25,
           "trajectory": "D_data",
           "value": 1285
          },
          {
           "sample_id": 0,
           "timepoint": 26,
           "trajectory": "D_data",
           "value": 1603
          },
          {
           "sample_id": 0,
           "timepoint": 27,
           "trajectory": "D_data",
           "value": 1930
          },
          {
           "sample_id": 0,
           "timepoint": 28,
           "trajectory": "D_data",
           "value": 2334
          },
          {
           "sample_id": 0,
           "timepoint": 29,
           "trajectory": "D_data",
           "value": 2859
          },
          {
           "sample_id": 0,
           "timepoint": 30,
           "trajectory": "D_data",
           "value": 3420
          },
          {
           "sample_id": 0,
           "timepoint": 31,
           "trajectory": "D_data",
           "value": 3989
          },
          {
           "sample_id": 0,
           "timepoint": 32,
           "trajectory": "D_data",
           "value": 4634
          },
          {
           "sample_id": 0,
           "timepoint": 33,
           "trajectory": "D_data",
           "value": 5384
          },
          {
           "sample_id": 0,
           "timepoint": 34,
           "trajectory": "D_data",
           "value": 6185
          },
          {
           "sample_id": 0,
           "timepoint": 35,
           "trajectory": "D_data",
           "value": 7241
          },
          {
           "sample_id": 0,
           "timepoint": 36,
           "trajectory": "D_data",
           "value": 7985
          },
          {
           "sample_id": 0,
           "timepoint": 37,
           "trajectory": "D_data",
           "value": 8846
          },
          {
           "sample_id": 0,
           "timepoint": 38,
           "trajectory": "D_data",
           "value": 9579
          },
          {
           "sample_id": 0,
           "timepoint": 39,
           "trajectory": "D_data",
           "value": 10345
          },
          {
           "sample_id": 0,
           "timepoint": 40,
           "trajectory": "D_data",
           "value": 11126
          },
          {
           "sample_id": 0,
           "timepoint": 41,
           "trajectory": "D_data",
           "value": 11930
          },
          {
           "sample_id": 0,
           "timepoint": 42,
           "trajectory": "D_data",
           "value": 12669
          },
          {
           "sample_id": 0,
           "timepoint": 43,
           "trajectory": "D_data",
           "value": 13332
          },
          {
           "sample_id": 0,
           "timepoint": 44,
           "trajectory": "D_data",
           "value": 13987
          },
          {
           "sample_id": 0,
           "timepoint": 45,
           "trajectory": "D_data",
           "value": 14371
          },
          {
           "sample_id": 0,
           "timepoint": 46,
           "trajectory": "D_data",
           "value": 14780
          },
          {
           "sample_id": 0,
           "timepoint": 47,
           "trajectory": "D_data",
           "value": 15225
          },
          {
           "sample_id": 0,
           "timepoint": 48,
           "trajectory": "D_data",
           "value": 16116
          },
          {
           "sample_id": 0,
           "timepoint": 49,
           "trajectory": "D_data",
           "value": 16639
          },
          {
           "sample_id": 0,
           "timepoint": 50,
           "trajectory": "D_data",
           "value": 17091
          },
          {
           "sample_id": 0,
           "timepoint": 51,
           "trajectory": "D_data",
           "value": 17647
          },
          {
           "sample_id": 0,
           "timepoint": 52,
           "trajectory": "D_data",
           "value": 18132
          },
          {
           "sample_id": 0,
           "timepoint": 53,
           "trajectory": "D_data",
           "value": 18523
          },
          {
           "sample_id": 0,
           "timepoint": 54,
           "trajectory": "D_data",
           "value": 18882
          },
          {
           "sample_id": 0,
           "timepoint": 55,
           "trajectory": "D_data",
           "value": 19292
          },
          {
           "sample_id": 0,
           "timepoint": 56,
           "trajectory": "D_data",
           "value": 19602
          },
          {
           "sample_id": 0,
           "timepoint": 57,
           "trajectory": "D_data",
           "value": 20000
          },
          {
           "sample_id": 0,
           "timepoint": 58,
           "trajectory": "D_data",
           "value": 20334
          },
          {
           "sample_id": 0,
           "timepoint": 59,
           "trajectory": "D_data",
           "value": 20662
          }
         ]
        },
        {
         "name": "markers",
         "values": []
        },
        {
         "name": "selected",
         "on": [
          {
           "remove": true,
           "trigger": "clear"
          },
          {
           "remove": true,
           "trigger": "!shift"
          },
          {
           "insert": "clicked",
           "trigger": "!shift && clicked"
          },
          {
           "toggle": "clicked",
           "trigger": "shift && clicked"
          }
         ]
        }
       ],
       "height": 300,
       "legends": [
        {
         "encode": {
          "labels": {
           "interactive": true,
           "name": "legendLabel",
           "update": {
            "opacity": [
             {
              "test": "!length(data('selected')) || indata('selected', 'value', datum.value)",
              "value": 1
             },
             {
              "value": 0.25
             }
            ]
           }
          },
          "symbols": {
           "interactive": true,
           "name": "legendSymbol",
           "update": {
            "fill": {
             "value": "transparent"
            },
            "opacity": [
             {
              "test": "!length(data('selected')) || indata('selected', 'value', datum.value)",
              "value": 0.7
             },
             {
              "value": 0.15
             }
            ],
            "size": {
             "value": 64
            },
            "strokeWidth": {
             "value": 2
            }
           }
          }
         },
         "name": "color_legend",
         "stroke": "color"
        }
       ],
       "marks": [
        {
         "from": {
          "facet": {
           "data": "points",
           "groupby": "trajectory",
           "name": "points_split"
          }
         },
         "marks": [
          {
           "encode": {
            "hover": {
             "fillOpacity": {
              "value": 0.9
             }
            },
            "update": {
             "fill": {
              "field": "trajectory",
              "scale": "color"
             },
             "fillOpacity": [
              {
               "test": "!length(data('selected')) || indata('selected', 'value', datum.trajectory)",
               "value": 0.5
              },
              {
               "value": 0.15
              }
             ],
             "size": {
              "value": 10
             },
             "stroke": {
              "field": "trajectory",
              "scale": "color"
             },
             "strokeOpacity": [
              {
               "test": "!length(data('selected')) || indata('selected', 'value', datum.trajectory)",
               "value": 0.75
              },
              {
               "value": 0.15
              }
             ],
             "strokeWidth": {
              "value": 2
             },
             "tooltip": {
              "field": "value"
             },
             "x": {
              "field": "timepoint",
              "scale": "xscale"
             },
             "y": {
              "field": "value",
              "scale": "yscale"
             }
            }
           },
           "from": {
            "data": "points"
           },
           "name": "_points_symbol",
           "type": "symbol",
           "zindex": 3
          },
          {
           "encode": {
            "hover": {
             "fillOpacity": {
              "value": 0.9
             }
            },
            "update": {
             "interpolate": {
              "value": "linear"
             },
             "stroke": {
              "field": "trajectory",
              "scale": "color"
             },
             "strokeOpacity": [
              {
               "test": "!length(data('selected')) || indata('selected', 'value', datum.trajectory)",
               "value": 0.3
              },
              {
               "value": 0.1
              }
             ],
             "strokeWidth": {
              "value": 2
             },
             "x": {
              "field": "timepoint",
              "scale": "xscale"
             },
             "y": {
              "field": "value",
              "scale": "yscale"
             }
            }
           },
           "from": {
            "data": "points"
           },
           "name": "_points_line",
           "type": "line",
           "zindex": 3
          }
         ],
         "name": "_points",
         "type": "group",
         "zindex": 3
        },
        {
         "from": {
          "facet": {
           "data": "traces",
           "groupby": "trajectory",
           "name": "traces_split"
          }
         },
         "marks": [
          {
           "encode": {
            "hover": {
             "fillOpacity": {
              "value": 0.9
             }
            },
            "update": {
             "interpolate": {
              "value": "linear"
             },
             "stroke": {
              "field": "trajectory",
              "scale": "color"
             },
             "strokeOpacity": [
              {
               "test": "!length(data('selected')) || indata('selected', 'value', datum.trajectory)",
               "value": 0.75
              },
              {
               "value": 0.15
              }
             ],
             "strokeWidth": {
              "value": 2
             },
             "x": {
              "field": "timepoint",
              "scale": "xscale"
             },
             "y": {
              "field": "value",
              "scale": "yscale"
             }
            }
           },
           "from": {
            "data": "traces_split"
           },
           "name": "_traces_lines",
           "type": "line"
          }
         ],
         "name": "_traces",
         "type": "group",
         "zindex": 2
        },
        {
         "from": {
          "facet": {
           "data": "distributions",
           "groupby": "trajectory",
           "name": "trajectory_split"
          }
         },
         "marks": [
          {
           "encode": {
            "hover": {
             "fillOpacity": {
              "value": 0.9
             }
            },
            "update": {
             "fill": {
              "field": "trajectory",
              "scale": "color"
             },
             "fillOpacity": [
              {
               "test": "!length(data('selected')) || indata('selected', 'value', datum.trajectory)",
               "value": 0.5
              },
              {
               "value": 0.15
              }
             ],
             "interpolate": {
              "value": "linear"
             },
             "stroke": {
              "field": "trajectory",
              "scale": "color"
             },
             "strokeOpacity": [
              {
               "test": "!length(data('selected')) || indata('selected', 'value', datum.trajectory)",
               "value": 0.75
              },
              {
               "value": 0.15
              }
             ],
             "strokeWidth": {
              "value": 2
             },
             "x": {
              "field": "timepoint",
              "scale": "xscale"
             },
             "y": {
              "field": "upper",
              "scale": "yscale"
             },
             "y2": {
              "field": "lower",
              "scale": "yscale"
             }
            }
           },
           "from": {
            "data": "trajectory_split"
           },
           "type": "area"
          }
         ],
         "name": "_distributions",
         "type": "group",
         "zindex": 1
        },
        {
         "marks": [
          {
           "encode": {
            "enter": {
             "stroke": {
              "value": "lightgray"
             }
            },
            "update": {
             "opacity": {
              "value": 1
             },
             "x": {
              "field": "timepoint",
              "scale": "xscale"
             },
             "y": {
              "signal": "height"
             },
             "y2": {
              "value": 0
             }
            }
           },
           "from": {
            "data": "markers"
           },
           "name": "_marker text",
           "type": "rule"
          },
          {
           "encode": {
            "enter": {
             "fontSize": {
              "value": 8
             },
             "text": {
              "field": "datum.label"
             },
             "y": {
              "value": 0
             }
            }
           },
           "from": {
            "data": "_marker text"
           },
           "name": "_marker flags",
           "transform": [
            {
             "as": [
              "x",
              "_y",
              "opacity",
              "align",
              "baseline"
             ],
             "lineAnchor": "start",
             "offset": [
              1
             ],
             "size": {
              "signal": "[width, height]"
             },
             "type": "label"
            }
           ],
           "type": "text"
          }
         ],
         "name": "_markers",
         "type": "group"
        }
       ],
       "padding": 5,
       "scales": [
        {
         "domain": {
          "fields": [
           {
            "data": "distributions",
            "field": "timepoint"
           },
           {
            "data": "traces",
            "field": "timepoint"
           },
           {
            "data": "points",
            "field": "timepoint"
           },
           {
            "data": "markers",
            "field": "timepoint"
           }
          ]
         },
         "name": "xscale",
         "range": "width",
         "type": "linear",
         "zero": false
        },
        {
         "domain": {
          "fields": [
           {
            "data": "distributions",
            "field": "lower"
           },
           {
            "data": "distributions",
            "field": "upper"
           },
           {
            "data": "traces",
            "field": "value"
           },
           {
            "data": "points",
            "field": "value"
           }
          ]
         },
         "name": "yscale",
         "nice": true,
         "range": "height",
         "type": "linear",
         "zero": true
        },
        {
         "domain": {
          "fields": [
           {
            "data": "distributions",
            "field": "trajectory"
           },
           {
            "data": "traces",
            "field": "trajectory"
           },
           {
            "data": "points",
            "field": "trajectory"
           }
          ]
         },
         "name": "color",
         "range": "category",
         "type": "ordinal"
        }
       ],
       "signals": [
        {
         "name": "clear",
         "on": [
          {
           "events": "mouseup[!event.item]",
           "force": true,
           "update": "true"
          }
         ],
         "value": true
        },
        {
         "name": "shift",
         "on": [
          {
           "events": "@legendSymbol:click, @legendLabel:click",
           "force": true,
           "update": "event.shiftKey"
          }
         ],
         "value": false
        },
        {
         "name": "clicked",
         "on": [
          {
           "events": "@legendSymbol:click, @legendLabel:click",
           "force": true,
           "update": "{value: datum.value}"
          }
         ],
         "value": null
        }
       ],
       "width": 500
      }
     },
     "metadata": {},
     "output_type": "display_data"
    }
   ],
   "source": [
    "schema = plots.trajectories(pd.DataFrame(result2[\"data\"]), subset=\".*_sol\",\n",
    "                            points=test_data.reset_index(drop=True).rename(columns={\"I\":\"I_data\", \"H\":\"H_data\", \"D\":\"D_data\"}),\n",
    "                           )\n",
    "schema = plots.pad(schema, 5)\n",
    "plots.ipy_display(schema)"
   ]
  },
  {
   "cell_type": "code",
   "execution_count": null,
   "id": "654bb2a6-f7dd-45bb-9ebe-183ac72bd67e",
   "metadata": {},
   "outputs": [
    {
     "name": "stdout",
     "output_type": "stream",
     "text": [
      "iteration 0: loss = 720.4351313114166\n",
      "iteration 25: loss = 698.6325839757919\n"
     ]
    }
   ],
   "source": [
    "num_samples = 100\n",
    "model_paths = [model7_location]\n",
    "data_path = \"../../notebook/ensemble_eval_sa/NY_data1.csv\"\n",
    "weights = [1]\n",
    "# solution_mappings = [{\"I\": \"I\", \"H\": \"H\", \"D\": \"D\"}]\n",
    "solution_mappings = [{\"I\": \"infected\", \"H\": \"hospitalized\", \"D\": \"dead\"}]\n",
    "\n",
    "# Run the calibration and sampling\n",
    "result3 = load_and_calibrate_and_sample_ensemble_model(\n",
    "    model_paths,\n",
    "    data_path,\n",
    "    weights,\n",
    "    solution_mappings,\n",
    "    num_samples,\n",
    "    timepoints,\n",
    "    verbose=True,\n",
    "    total_population=19340000,\n",
    "    num_iterations=50,\n",
    "    time_unit=\"days\",\n",
    "    visual_options={\"title\": \"Calibrated Ensemble\", \"subset\":\".*_sol\"}\n",
    ")\n",
    "\n",
    "# # Save results\n",
    "# result3[\"data\"].to_csv(\n",
    "#     \"partI_ensemble_of_one_results.csv\", index=False\n",
    "# )\n",
    "# result3[\"quantiles\"].to_csv(\n",
    "#     \"partI_ensemble_of_one_quantiles.csv\", index=False\n",
    "# )\n",
    "\n",
    "# Plot results\n",
    "schema = plots.trajectories(pd.DataFrame(result3[\"data\"]), subset=\".*_sol\",\n",
    "                            points=test_data.reset_index(drop=True).rename(columns={\"I\":\"I_data\", \"H\":\"H_data\", \"D\":\"D_data\"}),\n",
    "                           )\n",
    "schema = plots.pad(schema, 5)\n",
    "plots.ipy_display(schema)"
   ]
  },
  {
   "cell_type": "code",
   "execution_count": 163,
   "id": "674f59c4-ea5b-4106-8168-153fba25b74e",
   "metadata": {},
   "outputs": [
    {
     "name": "stdout",
     "output_type": "stream",
     "text": [
      "\n"
     ]
    },
    {
     "data": {
      "application/vnd.vega.v5+json": {
       "$schema": "https://vega.github.io/schema/vega/v5.json",
       "axes": [
        {
         "name": "x_axis",
         "orient": "bottom",
         "scale": "xscale",
         "zindex": 100
        },
        {
         "name": "y_axis",
         "orient": "left",
         "scale": "yscale",
         "zindex": 100
        }
       ],
       "data": [
        {
         "name": "distributions",
         "values": [
          {
           "lower": 3.955732268100678e-22,
           "timepoint": 0,
           "trajectory": "D_sol",
           "upper": 1.2730060422875692e-21
          },
          {
           "lower": 0.049607094191014764,
           "timepoint": 1,
           "trajectory": "D_sol",
           "upper": 0.14972035586833954
          },
          {
           "lower": 0.22858766540884973,
           "timepoint": 2,
           "trajectory": "D_sol",
           "upper": 0.6452212274074554
          },
          {
           "lower": 0.5689267903566361,
           "timepoint": 3,
           "trajectory": "D_sol",
           "upper": 1.5274197220802306
          },
          {
           "lower": 1.0935341835021972,
           "timepoint": 4,
           "trajectory": "D_sol",
           "upper": 2.825616669654846
          },
          {
           "lower": 1.8288659870624542,
           "timepoint": 5,
           "trajectory": "D_sol",
           "upper": 4.532638311386108
          },
          {
           "lower": 2.780697762966156,
           "timepoint": 6,
           "trajectory": "D_sol",
           "upper": 6.5993688106536865
          },
          {
           "lower": 3.9922611951828,
           "timepoint": 7,
           "trajectory": "D_sol",
           "upper": 9.22802963256836
          },
          {
           "lower": 5.4910560131073,
           "timepoint": 8,
           "trajectory": "D_sol",
           "upper": 12.313750648498536
          },
          {
           "lower": 7.3213179349899296,
           "timepoint": 9,
           "trajectory": "D_sol",
           "upper": 15.986175060272217
          },
          {
           "lower": 9.56414737701416,
           "timepoint": 10,
           "trajectory": "D_sol",
           "upper": 20.002370452880857
          },
          {
           "lower": 12.257854080200195,
           "timepoint": 11,
           "trajectory": "D_sol",
           "upper": 25.049511432647705
          },
          {
           "lower": 15.505583667755127,
           "timepoint": 12,
           "trajectory": "D_sol",
           "upper": 31.030577278137205
          },
          {
           "lower": 19.39365358352661,
           "timepoint": 13,
           "trajectory": "D_sol",
           "upper": 38.058598327636716
          },
          {
           "lower": 23.717347431182862,
           "timepoint": 14,
           "trajectory": "D_sol",
           "upper": 46.279487419128415
          },
          {
           "lower": 28.0915376663208,
           "timepoint": 15,
           "trajectory": "D_sol",
           "upper": 55.79494972229004
          },
          {
           "lower": 33.06431274414062,
           "timepoint": 16,
           "trajectory": "D_sol",
           "upper": 65.4119644165039
          },
          {
           "lower": 38.70811157226562,
           "timepoint": 17,
           "trajectory": "D_sol",
           "upper": 76.2734603881836
          },
          {
           "lower": 45.8784875869751,
           "timepoint": 18,
           "trajectory": "D_sol",
           "upper": 88.69105758666991
          },
          {
           "lower": 53.72441501617432,
           "timepoint": 19,
           "trajectory": "D_sol",
           "upper": 105.38734626770018
          },
          {
           "lower": 62.99971370697021,
           "timepoint": 20,
           "trajectory": "D_sol",
           "upper": 126.76725311279294
          },
          {
           "lower": 71.68156509399414,
           "timepoint": 21,
           "trajectory": "D_sol",
           "upper": 152.04512557983395
          },
          {
           "lower": 82.75496559143066,
           "timepoint": 22,
           "trajectory": "D_sol",
           "upper": 181.88464202880857
          },
          {
           "lower": 94.14003715515136,
           "timepoint": 23,
           "trajectory": "D_sol",
           "upper": 217.0568099975586
          },
          {
           "lower": 107.03216857910157,
           "timepoint": 24,
           "trajectory": "D_sol",
           "upper": 258.34102935791014
          },
          {
           "lower": 120.7824607849121,
           "timepoint": 25,
           "trajectory": "D_sol",
           "upper": 302.2874984741211
          },
          {
           "lower": 135.7697509765625,
           "timepoint": 26,
           "trajectory": "D_sol",
           "upper": 351.75736236572266
          },
          {
           "lower": 151.99409408569335,
           "timepoint": 27,
           "trajectory": "D_sol",
           "upper": 410.431184387207
          },
          {
           "lower": 169.4445037841797,
           "timepoint": 28,
           "trajectory": "D_sol",
           "upper": 475.24247283935546
          },
          {
           "lower": 188.22431564331055,
           "timepoint": 29,
           "trajectory": "D_sol",
           "upper": 549.3687896728516
          },
          {
           "lower": 208.26596221923828,
           "timepoint": 30,
           "trajectory": "D_sol",
           "upper": 633.5899963378906
          },
          {
           "lower": 228.89962463378907,
           "timepoint": 31,
           "trajectory": "D_sol",
           "upper": 726.6110656738281
          },
          {
           "lower": 249.14765472412108,
           "timepoint": 32,
           "trajectory": "D_sol",
           "upper": 846.7749359130859
          },
          {
           "lower": 268.5228744506836,
           "timepoint": 33,
           "trajectory": "D_sol",
           "upper": 984.4495025634765
          },
          {
           "lower": 288.6661346435547,
           "timepoint": 34,
           "trajectory": "D_sol",
           "upper": 1141.2949096679686
          },
          {
           "lower": 309.57670135498046,
           "timepoint": 35,
           "trajectory": "D_sol",
           "upper": 1319.7313537597656
          },
          {
           "lower": 331.25573272705077,
           "timepoint": 36,
           "trajectory": "D_sol",
           "upper": 1522.492102050781
          },
          {
           "lower": 353.70758666992185,
           "timepoint": 37,
           "trajectory": "D_sol",
           "upper": 1752.6571899414062
          },
          {
           "lower": 376.9394256591797,
           "timepoint": 38,
           "trajectory": "D_sol",
           "upper": 2013.6930236816406
          },
          {
           "lower": 400.96123962402345,
           "timepoint": 39,
           "trajectory": "D_sol",
           "upper": 2309.4907836914062
          },
          {
           "lower": 425.7847503662109,
           "timepoint": 40,
           "trajectory": "D_sol",
           "upper": 2644.4144409179685
          },
          {
           "lower": 451.4240661621094,
           "timepoint": 41,
           "trajectory": "D_sol",
           "upper": 3023.316198730469
          },
          {
           "lower": 477.8952102661133,
           "timepoint": 42,
           "trajectory": "D_sol",
           "upper": 3438.334680175781
          },
          {
           "lower": 505.2160446166992,
           "timepoint": 43,
           "trajectory": "D_sol",
           "upper": 3898.6248046875
          },
          {
           "lower": 533.4057312011719,
           "timepoint": 44,
           "trajectory": "D_sol",
           "upper": 4414.044262695313
          },
          {
           "lower": 562.485562133789,
           "timepoint": 45,
           "trajectory": "D_sol",
           "upper": 4990.611108398437
          },
          {
           "lower": 592.4773864746094,
           "timepoint": 46,
           "trajectory": "D_sol",
           "upper": 5634.877197265624
          },
          {
           "lower": 623.4051452636719,
           "timepoint": 47,
           "trajectory": "D_sol",
           "upper": 6353.960400390624
          },
          {
           "lower": 655.2934722900391,
           "timepoint": 48,
           "trajectory": "D_sol",
           "upper": 7155.520263671874
          },
          {
           "lower": 688.1685791015625,
           "timepoint": 49,
           "trajectory": "D_sol",
           "upper": 8047.779394531249
          },
          {
           "lower": 722.0575592041016,
           "timepoint": 50,
           "trajectory": "D_sol",
           "upper": 9039.4904296875
          },
          {
           "lower": 756.9888854980469,
           "timepoint": 51,
           "trajectory": "D_sol",
           "upper": 10139.903710937499
          },
          {
           "lower": 793.0419982910156,
           "timepoint": 52,
           "trajectory": "D_sol",
           "upper": 11358.716210937497
          },
          {
           "lower": 830.3044342041015,
           "timepoint": 53,
           "trajectory": "D_sol",
           "upper": 12705.989453124997
          },
          {
           "lower": 868.713510131836,
           "timepoint": 54,
           "trajectory": "D_sol",
           "upper": 14192.048730468747
          },
          {
           "lower": 908.3010314941406,
           "timepoint": 55,
           "trajectory": "D_sol",
           "upper": 15827.325292968746
          },
          {
           "lower": 949.1032348632813,
           "timepoint": 56,
           "trajectory": "D_sol",
           "upper": 17622.219140624995
          },
          {
           "lower": 991.15478515625,
           "timepoint": 57,
           "trajectory": "D_sol",
           "upper": 19586.918554687494
          },
          {
           "lower": 1034.4931762695312,
           "timepoint": 58,
           "trajectory": "D_sol",
           "upper": 21731.106542968744
          },
          {
           "lower": 1079.1557006835938,
           "timepoint": 59,
           "trajectory": "D_sol",
           "upper": 24063.80205078124
          },
          {
           "lower": 3.46791320660067e-10,
           "timepoint": 0,
           "trajectory": "H_sol",
           "upper": 8.914020965811176e-10
          },
          {
           "lower": 4.763631510734558,
           "timepoint": 1,
           "trajectory": "H_sol",
           "upper": 11.038995790481566
          },
          {
           "lower": 11.387455558776855,
           "timepoint": 2,
           "trajectory": "H_sol",
           "upper": 24.525598526000977
          },
          {
           "lower": 19.337975215911865,
           "timepoint": 3,
           "trajectory": "H_sol",
           "upper": 38.979363441467285
          },
          {
           "lower": 28.65137710571289,
           "timepoint": 4,
           "trajectory": "H_sol",
           "upper": 54.2723274230957
          },
          {
           "lower": 39.192642784118654,
           "timepoint": 5,
           "trajectory": "H_sol",
           "upper": 69.70443267822266
          },
          {
           "lower": 50.51379566192627,
           "timepoint": 6,
           "trajectory": "H_sol",
           "upper": 86.1160930633545
          },
          {
           "lower": 64.01210041046143,
           "timepoint": 7,
           "trajectory": "H_sol",
           "upper": 103.04875030517577
          },
          {
           "lower": 79.66730003356933,
           "timepoint": 8,
           "trajectory": "H_sol",
           "upper": 120.77569007873535
          },
          {
           "lower": 96.0766674041748,
           "timepoint": 9,
           "trajectory": "H_sol",
           "upper": 140.22520294189454
          },
          {
           "lower": 114.34717254638672,
           "timepoint": 10,
           "trajectory": "H_sol",
           "upper": 161.1930953979492
          },
          {
           "lower": 136.43461532592772,
           "timepoint": 11,
           "trajectory": "H_sol",
           "upper": 187.0623779296875
          },
          {
           "lower": 160.19836883544923,
           "timepoint": 12,
           "trajectory": "H_sol",
           "upper": 216.42978363037108
          },
          {
           "lower": 185.4340072631836,
           "timepoint": 13,
           "trajectory": "H_sol",
           "upper": 254.53531494140626
          },
          {
           "lower": 206.747216796875,
           "timepoint": 14,
           "trajectory": "H_sol",
           "upper": 298.98265380859374
          },
          {
           "lower": 236.83545532226563,
           "timepoint": 15,
           "trajectory": "H_sol",
           "upper": 356.7495574951172
          },
          {
           "lower": 266.3010452270508,
           "timepoint": 16,
           "trajectory": "H_sol",
           "upper": 424.6751403808594
          },
          {
           "lower": 294.91446685791016,
           "timepoint": 17,
           "trajectory": "H_sol",
           "upper": 510.72955017089845
          },
          {
           "lower": 331.76214904785155,
           "timepoint": 18,
           "trajectory": "H_sol",
           "upper": 610.2094299316406
          },
          {
           "lower": 372.83765411376953,
           "timepoint": 19,
           "trajectory": "H_sol",
           "upper": 727.2234558105469
          },
          {
           "lower": 418.2461837768555,
           "timepoint": 20,
           "trajectory": "H_sol",
           "upper": 863.6353515625
          },
          {
           "lower": 467.85874328613284,
           "timepoint": 21,
           "trajectory": "H_sol",
           "upper": 1023.5047637939452
          },
          {
           "lower": 521.262939453125,
           "timepoint": 22,
           "trajectory": "H_sol",
           "upper": 1220.4882080078125
          },
          {
           "lower": 577.7729904174805,
           "timepoint": 23,
           "trajectory": "H_sol",
           "upper": 1449.19365234375
          },
          {
           "lower": 636.5142791748048,
           "timepoint": 24,
           "trajectory": "H_sol",
           "upper": 1708.7027648925782
          },
          {
           "lower": 696.5609619140625,
           "timepoint": 25,
           "trajectory": "H_sol",
           "upper": 1990.8911437988281
          },
          {
           "lower": 757.0699096679688,
           "timepoint": 26,
           "trajectory": "H_sol",
           "upper": 2304.6088134765623
          },
          {
           "lower": 817.4358886718751,
           "timepoint": 27,
           "trajectory": "H_sol",
           "upper": 2652.7989501953125
          },
          {
           "lower": 877.3619201660157,
           "timepoint": 28,
           "trajectory": "H_sol",
           "upper": 3054.656164550781
          },
          {
           "lower": 936.3847747802735,
           "timepoint": 29,
           "trajectory": "H_sol",
           "upper": 3507.6891113281245
          },
          {
           "lower": 994.4280029296875,
           "timepoint": 30,
           "trajectory": "H_sol",
           "upper": 4011.2819458007807
          },
          {
           "lower": 1050.4228576660157,
           "timepoint": 31,
           "trajectory": "H_sol",
           "upper": 4571.286938476562
          },
          {
           "lower": 1104.6892211914062,
           "timepoint": 32,
           "trajectory": "H_sol",
           "upper": 5193.931542968749
          },
          {
           "lower": 1158.1221740722656,
           "timepoint": 33,
           "trajectory": "H_sol",
           "upper": 5886.602563476562
          },
          {
           "lower": 1210.9514862060548,
           "timepoint": 34,
           "trajectory": "H_sol",
           "upper": 6658.398803710937
          },
          {
           "lower": 1263.41669921875,
           "timepoint": 35,
           "trajectory": "H_sol",
           "upper": 7518.913696289062
          },
          {
           "lower": 1315.7540985107423,
           "timepoint": 36,
           "trajectory": "H_sol",
           "upper": 8478.759130859373
          },
          {
           "lower": 1368.1899139404297,
           "timepoint": 37,
           "trajectory": "H_sol",
           "upper": 9549.567431640624
          },
          {
           "lower": 1420.9344482421875,
           "timepoint": 38,
           "trajectory": "H_sol",
           "upper": 10744.098046874999
          },
          {
           "lower": 1474.1844299316408,
           "timepoint": 39,
           "trajectory": "H_sol",
           "upper": 12076.204199218748
          },
          {
           "lower": 1505.4473449707032,
           "timepoint": 40,
           "trajectory": "H_sol",
           "upper": 13577.804394531247
          },
          {
           "lower": 1510.8484924316408,
           "timepoint": 41,
           "trajectory": "H_sol",
           "upper": 15306.975195312498
          },
          {
           "lower": 1514.6652526855469,
           "timepoint": 42,
           "trajectory": "H_sol",
           "upper": 17244.4662109375
          },
          {
           "lower": 1517.1562072753907,
           "timepoint": 43,
           "trajectory": "H_sol",
           "upper": 19413.237402343748
          },
          {
           "lower": 1518.53916015625,
           "timepoint": 44,
           "trajectory": "H_sol",
           "upper": 21838.094726562496
          },
          {
           "lower": 1518.9978515625,
           "timepoint": 45,
           "trajectory": "H_sol",
           "upper": 24545.613769531246
          },
          {
           "lower": 1518.688458251953,
           "timepoint": 46,
           "trajectory": "H_sol",
           "upper": 27564.089062499996
          },
          {
           "lower": 1517.7444091796876,
           "timepoint": 47,
           "trajectory": "H_sol",
           "upper": 30923.335937499996
          },
          {
           "lower": 1516.2726013183594,
           "timepoint": 48,
           "trajectory": "H_sol",
           "upper": 34654.436718749996
          },
          {
           "lower": 1514.3730346679688,
           "timepoint": 49,
           "trajectory": "H_sol",
           "upper": 38789.349609375
          },
          {
           "lower": 1512.1205688476562,
           "timepoint": 50,
           "trajectory": "H_sol",
           "upper": 43360.3591796875
          },
          {
           "lower": 1537.8743225097655,
           "timepoint": 51,
           "trajectory": "H_sol",
           "upper": 48399.496484375
          },
          {
           "lower": 1581.258526611328,
           "timepoint": 52,
           "trajectory": "H_sol",
           "upper": 53937.5611328125
          },
          {
           "lower": 1625.793054199219,
           "timepoint": 53,
           "trajectory": "H_sol",
           "upper": 60002.998828125
          },
          {
           "lower": 1671.5261962890625,
           "timepoint": 54,
           "trajectory": "H_sol",
           "upper": 66315.176953125
          },
          {
           "lower": 1719.1655517578126,
           "timepoint": 55,
           "trajectory": "H_sol",
           "upper": 72992.43398437499
          },
          {
           "lower": 1769.6173339843751,
           "timepoint": 56,
           "trajectory": "H_sol",
           "upper": 80123.327734375
          },
          {
           "lower": 1821.5677856445313,
           "timepoint": 57,
           "trajectory": "H_sol",
           "upper": 87693.0640625
          },
          {
           "lower": 1875.26025390625,
           "timepoint": 58,
           "trajectory": "H_sol",
           "upper": 95675.42421874999
          },
          {
           "lower": 1930.4412719726563,
           "timepoint": 59,
           "trajectory": "H_sol",
           "upper": 104033.02460937499
          },
          {
           "lower": 200,
           "timepoint": 0,
           "trajectory": "I_sol",
           "upper": 200
          },
          {
           "lower": 392.6752227783203,
           "timepoint": 1,
           "trajectory": "I_sol",
           "upper": 411.43675231933594
          },
          {
           "lower": 535.7688293457031,
           "timepoint": 2,
           "trajectory": "I_sol",
           "upper": 589.6735260009766
          },
          {
           "lower": 656.15673828125,
           "timepoint": 3,
           "trajectory": "I_sol",
           "upper": 764.7177856445312
          },
          {
           "lower": 764.7731323242188,
           "timepoint": 4,
           "trajectory": "I_sol",
           "upper": 954.6041229248046
          },
          {
           "lower": 871.9938323974609,
           "timepoint": 5,
           "trajectory": "I_sol",
           "upper": 1172.8044982910155
          },
          {
           "lower": 984.4738311767578,
           "timepoint": 6,
           "trajectory": "I_sol",
           "upper": 1430.8873596191406
          },
          {
           "lower": 1109.5587951660157,
           "timepoint": 7,
           "trajectory": "I_sol",
           "upper": 1740.3256530761719
          },
          {
           "lower": 1247.6263366699218,
           "timepoint": 8,
           "trajectory": "I_sol",
           "upper": 2113.7308959960938
          },
          {
           "lower": 1401.2273742675782,
           "timepoint": 9,
           "trajectory": "I_sol",
           "upper": 2565.3443725585935
          },
          {
           "lower": 1570.3310913085938,
           "timepoint": 10,
           "trajectory": "I_sol",
           "upper": 3112.403527832031
          },
          {
           "lower": 1757.759539794922,
           "timepoint": 11,
           "trajectory": "I_sol",
           "upper": 3775.286206054687
          },
          {
           "lower": 1966.9872436523438,
           "timepoint": 12,
           "trajectory": "I_sol",
           "upper": 4578.367211914062
          },
          {
           "lower": 2200.482312011719,
           "timepoint": 13,
           "trajectory": "I_sol",
           "upper": 5550.72802734375
          },
          {
           "lower": 2460.7703125,
           "timepoint": 14,
           "trajectory": "I_sol",
           "upper": 6726.8114013671875
          },
          {
           "lower": 2750.3051635742186,
           "timepoint": 15,
           "trajectory": "I_sol",
           "upper": 8146.777587890625
          },
          {
           "lower": 3071.231884765625,
           "timepoint": 16,
           "trajectory": "I_sol",
           "upper": 9856.41796875
          },
          {
           "lower": 3424.9493408203125,
           "timepoint": 17,
           "trajectory": "I_sol",
           "upper": 11905.8673828125
          },
          {
           "lower": 3811.4661865234375,
           "timepoint": 18,
           "trajectory": "I_sol",
           "upper": 14346.685986328124
          },
          {
           "lower": 4228.58212890625,
           "timepoint": 19,
           "trajectory": "I_sol",
           "upper": 17216.72197265625
          },
          {
           "lower": 4671.15732421875,
           "timepoint": 20,
           "trajectory": "I_sol",
           "upper": 20587.634375
          },
          {
           "lower": 5131.0345703125,
           "timepoint": 21,
           "trajectory": "I_sol",
           "upper": 24452.02587890625
          },
          {
           "lower": 5598.098413085938,
           "timepoint": 22,
           "trajectory": "I_sol",
           "upper": 28825.2861328125
          },
          {
           "lower": 6062.50576171875,
           "timepoint": 23,
           "trajectory": "I_sol",
           "upper": 33707.0166015625
          },
          {
           "lower": 6516.98896484375,
           "timepoint": 24,
           "trajectory": "I_sol",
           "upper": 39103.8232421875
          },
          {
           "lower": 6958.169287109376,
           "timepoint": 25,
           "trajectory": "I_sol",
           "upper": 45012.721289062494
          },
          {
           "lower": 7386.4251953125,
           "timepoint": 26,
           "trajectory": "I_sol",
           "upper": 51501.028906249994
          },
          {
           "lower": 7804.784228515625,
           "timepoint": 27,
           "trajectory": "I_sol",
           "upper": 58643.98535156249
          },
          {
           "lower": 8217.650439453126,
           "timepoint": 28,
           "trajectory": "I_sol",
           "upper": 66537.554296875
          },
          {
           "lower": 8629.766284179688,
           "timepoint": 29,
           "trajectory": "I_sol",
           "upper": 75294.24609375
          },
          {
           "lower": 9045.602587890626,
           "timepoint": 30,
           "trajectory": "I_sol",
           "upper": 85040.409375
          },
          {
           "lower": 9469.055053710938,
           "timepoint": 31,
           "trajectory": "I_sol",
           "upper": 95914.17421874999
          },
          {
           "lower": 9903.38916015625,
           "timepoint": 32,
           "trajectory": "I_sol",
           "upper": 108065.517578125
          },
          {
           "lower": 10351.307275390625,
           "timepoint": 33,
           "trajectory": "I_sol",
           "upper": 121656.648046875
          },
          {
           "lower": 10815.02734375,
           "timepoint": 34,
           "trajectory": "I_sol",
           "upper": 136863.30078125
          },
          {
           "lower": 11296.3875,
           "timepoint": 35,
           "trajectory": "I_sol",
           "upper": 153626.2546875
          },
          {
           "lower": 11796.975830078125,
           "timepoint": 36,
           "trajectory": "I_sol",
           "upper": 173029.74921875
          },
          {
           "lower": 12318.18759765625,
           "timepoint": 37,
           "trajectory": "I_sol",
           "upper": 194455.103125
          },
          {
           "lower": 12861.306103515626,
           "timepoint": 38,
           "trajectory": "I_sol",
           "upper": 218394.38124999998
          },
          {
           "lower": 13427.52236328125,
           "timepoint": 39,
           "trajectory": "I_sol",
           "upper": 246893.97578124996
          },
          {
           "lower": 14018.00419921875,
           "timepoint": 40,
           "trajectory": "I_sol",
           "upper": 279657.12656249997
          },
          {
           "lower": 14633.89345703125,
           "timepoint": 41,
           "trajectory": "I_sol",
           "upper": 316282.75468749995
          },
          {
           "lower": 15276.35576171875,
           "timepoint": 42,
           "trajectory": "I_sol",
           "upper": 357318.43906249997
          },
          {
           "lower": 15946.553564453126,
           "timepoint": 43,
           "trajectory": "I_sol",
           "upper": 403187.609375
          },
          {
           "lower": 16301.856982421876,
           "timepoint": 44,
           "trajectory": "I_sol",
           "upper": 450397.65625
          },
          {
           "lower": 16247.27529296875,
           "timepoint": 45,
           "trajectory": "I_sol",
           "upper": 501578.49999999994
          },
          {
           "lower": 16193.06875,
           "timepoint": 46,
           "trajectory": "I_sol",
           "upper": 562179.5375
          },
          {
           "lower": 16139.32763671875,
           "timepoint": 47,
           "trajectory": "I_sol",
           "upper": 629290.296875
          },
          {
           "lower": 16086.0921875,
           "timepoint": 48,
           "trajectory": "I_sol",
           "upper": 703052.1593749999
          },
          {
           "lower": 16033.443701171875,
           "timepoint": 49,
           "trajectory": "I_sol",
           "upper": 783775.5375
          },
          {
           "lower": 15981.39072265625,
           "timepoint": 50,
           "trajectory": "I_sol",
           "upper": 871679.1906249999
          },
          {
           "lower": 15929.967431640625,
           "timepoint": 51,
           "trajectory": "I_sol",
           "upper": 966575.06875
          },
          {
           "lower": 15879.207666015625,
           "timepoint": 52,
           "trajectory": "I_sol",
           "upper": 1068748.35625
          },
          {
           "lower": 15829.137744140626,
           "timepoint": 53,
           "trajectory": "I_sol",
           "upper": 1178035.2125
          },
          {
           "lower": 15993.520263671875,
           "timepoint": 54,
           "trajectory": "I_sol",
           "upper": 1294078.3875
          },
          {
           "lower": 16434.13623046875,
           "timepoint": 55,
           "trajectory": "I_sol",
           "upper": 1416298.8625
          },
          {
           "lower": 16887.3099609375,
           "timepoint": 56,
           "trajectory": "I_sol",
           "upper": 1540944.44375
          },
          {
           "lower": 17353.37548828125,
           "timepoint": 57,
           "trajectory": "I_sol",
           "upper": 1666107.3875
          },
          {
           "lower": 17832.661279296877,
           "timepoint": 58,
           "trajectory": "I_sol",
           "upper": 1793849.89375
          },
          {
           "lower": 18325.5056640625,
           "timepoint": 59,
           "trajectory": "I_sol",
           "upper": 1922761.3499999999
          }
         ]
        },
        {
         "name": "traces",
         "transform": [
          {
           "expr": "isValid(datum.value)",
           "type": "filter"
          }
         ],
         "values": []
        },
        {
         "name": "points",
         "values": [
          {
           "sample_id": 0,
           "timepoint": 0,
           "trajectory": "I_data",
           "value": 1
          },
          {
           "sample_id": 0,
           "timepoint": 1,
           "trajectory": "I_data",
           "value": 10
          },
          {
           "sample_id": 0,
           "timepoint": 2,
           "trajectory": "I_data",
           "value": 21
          },
          {
           "sample_id": 0,
           "timepoint": 3,
           "trajectory": "I_data",
           "value": 24
          },
          {
           "sample_id": 0,
           "timepoint": 4,
           "trajectory": "I_data",
           "value": 76
          },
          {
           "sample_id": 0,
           "timepoint": 5,
           "trajectory": "I_data",
           "value": 104
          },
          {
           "sample_id": 0,
           "timepoint": 6,
           "trajectory": "I_data",
           "value": 128
          },
          {
           "sample_id": 0,
           "timepoint": 7,
           "trajectory": "I_data",
           "value": 131
          },
          {
           "sample_id": 0,
           "timepoint": 8,
           "trajectory": "I_data",
           "value": 192
          },
          {
           "sample_id": 0,
           "timepoint": 9,
           "trajectory": "I_data",
           "value": 220
          },
          {
           "sample_id": 0,
           "timepoint": 10,
           "trajectory": "I_data",
           "value": 274
          },
          {
           "sample_id": 0,
           "timepoint": 11,
           "trajectory": "I_data",
           "value": 394
          },
          {
           "sample_id": 0,
           "timepoint": 12,
           "trajectory": "I_data",
           "value": 481
          },
          {
           "sample_id": 0,
           "timepoint": 13,
           "trajectory": "I_data",
           "value": 745
          },
          {
           "sample_id": 0,
           "timepoint": 14,
           "trajectory": "I_data",
           "value": 1111
          },
          {
           "sample_id": 0,
           "timepoint": 15,
           "trajectory": "I_data",
           "value": 2128
          },
          {
           "sample_id": 0,
           "timepoint": 16,
           "trajectory": "I_data",
           "value": 3671
          },
          {
           "sample_id": 0,
           "timepoint": 17,
           "trajectory": "I_data",
           "value": 6578
          },
          {
           "sample_id": 0,
           "timepoint": 18,
           "trajectory": "I_data",
           "value": 9449
          },
          {
           "sample_id": 0,
           "timepoint": 19,
           "trajectory": "I_data",
           "value": 13761
          },
          {
           "sample_id": 0,
           "timepoint": 20,
           "trajectory": "I_data",
           "value": 18270
          },
          {
           "sample_id": 0,
           "timepoint": 21,
           "trajectory": "I_data",
           "value": 21478
          },
          {
           "sample_id": 0,
           "timepoint": 22,
           "trajectory": "I_data",
           "value": 23630
          },
          {
           "sample_id": 0,
           "timepoint": 23,
           "trajectory": "I_data",
           "value": 26987
          },
          {
           "sample_id": 0,
           "timepoint": 24,
           "trajectory": "I_data",
           "value": 29533
          },
          {
           "sample_id": 0,
           "timepoint": 25,
           "trajectory": "I_data",
           "value": 31623
          },
          {
           "sample_id": 0,
           "timepoint": 26,
           "trajectory": "I_data",
           "value": 33967
          },
          {
           "sample_id": 0,
           "timepoint": 27,
           "trajectory": "I_data",
           "value": 35822
          },
          {
           "sample_id": 0,
           "timepoint": 28,
           "trajectory": "I_data",
           "value": 38456
          },
          {
           "sample_id": 0,
           "timepoint": 29,
           "trajectory": "I_data",
           "value": 45676
          },
          {
           "sample_id": 0,
           "timepoint": 30,
           "trajectory": "I_data",
           "value": 48380
          },
          {
           "sample_id": 0,
           "timepoint": 31,
           "trajectory": "I_data",
           "value": 51807
          },
          {
           "sample_id": 0,
           "timepoint": 32,
           "trajectory": "I_data",
           "value": 55042
          },
          {
           "sample_id": 0,
           "timepoint": 33,
           "trajectory": "I_data",
           "value": 56847
          },
          {
           "sample_id": 0,
           "timepoint": 34,
           "trajectory": "I_data",
           "value": 52184
          },
          {
           "sample_id": 0,
           "timepoint": 35,
           "trajectory": "I_data",
           "value": 49194
          },
          {
           "sample_id": 0,
           "timepoint": 36,
           "trajectory": "I_data",
           "value": 48730
          },
          {
           "sample_id": 0,
           "timepoint": 37,
           "trajectory": "I_data",
           "value": 50551
          },
          {
           "sample_id": 0,
           "timepoint": 38,
           "trajectory": "I_data",
           "value": 51029
          },
          {
           "sample_id": 0,
           "timepoint": 39,
           "trajectory": "I_data",
           "value": 49701
          },
          {
           "sample_id": 0,
           "timepoint": 40,
           "trajectory": "I_data",
           "value": 50661
          },
          {
           "sample_id": 0,
           "timepoint": 41,
           "trajectory": "I_data",
           "value": 48303
          },
          {
           "sample_id": 0,
           "timepoint": 42,
           "trajectory": "I_data",
           "value": 43703
          },
          {
           "sample_id": 0,
           "timepoint": 43,
           "trajectory": "I_data",
           "value": 38888
          },
          {
           "sample_id": 0,
           "timepoint": 44,
           "trajectory": "I_data",
           "value": 38244
          },
          {
           "sample_id": 0,
           "timepoint": 45,
           "trajectory": "I_data",
           "value": 36857
          },
          {
           "sample_id": 0,
           "timepoint": 46,
           "trajectory": "I_data",
           "value": 35881
          },
          {
           "sample_id": 0,
           "timepoint": 47,
           "trajectory": "I_data",
           "value": 35054
          },
          {
           "sample_id": 0,
           "timepoint": 48,
           "trajectory": "I_data",
           "value": 34782
          },
          {
           "sample_id": 0,
           "timepoint": 49,
           "trajectory": "I_data",
           "value": 31526
          },
          {
           "sample_id": 0,
           "timepoint": 50,
           "trajectory": "I_data",
           "value": 28799
          },
          {
           "sample_id": 0,
           "timepoint": 51,
           "trajectory": "I_data",
           "value": 27419
          },
          {
           "sample_id": 0,
           "timepoint": 52,
           "trajectory": "I_data",
           "value": 27443
          },
          {
           "sample_id": 0,
           "timepoint": 53,
           "trajectory": "I_data",
           "value": 30499
          },
          {
           "sample_id": 0,
           "timepoint": 54,
           "trajectory": "I_data",
           "value": 31543
          },
          {
           "sample_id": 0,
           "timepoint": 55,
           "trajectory": "I_data",
           "value": 31597
          },
          {
           "sample_id": 0,
           "timepoint": 56,
           "trajectory": "I_data",
           "value": 29008
          },
          {
           "sample_id": 0,
           "timepoint": 57,
           "trajectory": "I_data",
           "value": 25476
          },
          {
           "sample_id": 0,
           "timepoint": 58,
           "trajectory": "I_data",
           "value": 20411
          },
          {
           "sample_id": 0,
           "timepoint": 59,
           "trajectory": "I_data",
           "value": 19224
          },
          {
           "sample_id": 0,
           "timepoint": 38,
           "trajectory": "H_data",
           "value": 0
          },
          {
           "sample_id": 0,
           "timepoint": 39,
           "trajectory": "H_data",
           "value": 0
          },
          {
           "sample_id": 0,
           "timepoint": 45,
           "trajectory": "H_data",
           "value": 0
          },
          {
           "sample_id": 0,
           "timepoint": 46,
           "trajectory": "H_data",
           "value": 1
          },
          {
           "sample_id": 0,
           "timepoint": 52,
           "trajectory": "H_data",
           "value": 0
          },
          {
           "sample_id": 0,
           "timepoint": 53,
           "trajectory": "H_data",
           "value": 0
          },
          {
           "sample_id": 0,
           "timepoint": 54,
           "trajectory": "H_data",
           "value": 1
          },
          {
           "sample_id": 0,
           "timepoint": 55,
           "trajectory": "H_data",
           "value": 0
          },
          {
           "sample_id": 0,
           "timepoint": 56,
           "trajectory": "H_data",
           "value": 0
          },
          {
           "sample_id": 0,
           "timepoint": 57,
           "trajectory": "H_data",
           "value": 0
          },
          {
           "sample_id": 0,
           "timepoint": 58,
           "trajectory": "H_data",
           "value": 0
          },
          {
           "sample_id": 0,
           "timepoint": 59,
           "trajectory": "H_data",
           "value": 0
          },
          {
           "sample_id": 0,
           "timepoint": 0,
           "trajectory": "D_data",
           "value": 0
          },
          {
           "sample_id": 0,
           "timepoint": 1,
           "trajectory": "D_data",
           "value": 0
          },
          {
           "sample_id": 0,
           "timepoint": 2,
           "trajectory": "D_data",
           "value": 0
          },
          {
           "sample_id": 0,
           "timepoint": 3,
           "trajectory": "D_data",
           "value": 0
          },
          {
           "sample_id": 0,
           "timepoint": 4,
           "trajectory": "D_data",
           "value": 0
          },
          {
           "sample_id": 0,
           "timepoint": 5,
           "trajectory": "D_data",
           "value": 0
          },
          {
           "sample_id": 0,
           "timepoint": 6,
           "trajectory": "D_data",
           "value": 0
          },
          {
           "sample_id": 0,
           "timepoint": 7,
           "trajectory": "D_data",
           "value": 0
          },
          {
           "sample_id": 0,
           "timepoint": 8,
           "trajectory": "D_data",
           "value": 1
          },
          {
           "sample_id": 0,
           "timepoint": 9,
           "trajectory": "D_data",
           "value": 1
          },
          {
           "sample_id": 0,
           "timepoint": 10,
           "trajectory": "D_data",
           "value": 1
          },
          {
           "sample_id": 0,
           "timepoint": 11,
           "trajectory": "D_data",
           "value": 4
          },
          {
           "sample_id": 0,
           "timepoint": 12,
           "trajectory": "D_data",
           "value": 9
          },
          {
           "sample_id": 0,
           "timepoint": 13,
           "trajectory": "D_data",
           "value": 19
          },
          {
           "sample_id": 0,
           "timepoint": 14,
           "trajectory": "D_data",
           "value": 30
          },
          {
           "sample_id": 0,
           "timepoint": 15,
           "trajectory": "D_data",
           "value": 51
          },
          {
           "sample_id": 0,
           "timepoint": 16,
           "trajectory": "D_data",
           "value": 77
          },
          {
           "sample_id": 0,
           "timepoint": 17,
           "trajectory": "D_data",
           "value": 129
          },
          {
           "sample_id": 0,
           "timepoint": 18,
           "trajectory": "D_data",
           "value": 175
          },
          {
           "sample_id": 0,
           "timepoint": 19,
           "trajectory": "D_data",
           "value": 226
          },
          {
           "sample_id": 0,
           "timepoint": 20,
           "trajectory": "D_data",
           "value": 315
          },
          {
           "sample_id": 0,
           "timepoint": 21,
           "trajectory": "D_data",
           "value": 427
          },
          {
           "sample_id": 0,
           "timepoint": 22,
           "trajectory": "D_data",
           "value": 565
          },
          {
           "sample_id": 0,
           "timepoint": 23,
           "trajectory": "D_data",
           "value": 759
          },
          {
           "sample_id": 0,
           "timepoint": 24,
           "trajectory": "D_data",
           "value": 984
          },
          {
           "sample_id": 0,
           "timepoint": 25,
           "trajectory": "D_data",
           "value": 1285
          },
          {
           "sample_id": 0,
           "timepoint": 26,
           "trajectory": "D_data",
           "value": 1603
          },
          {
           "sample_id": 0,
           "timepoint": 27,
           "trajectory": "D_data",
           "value": 1930
          },
          {
           "sample_id": 0,
           "timepoint": 28,
           "trajectory": "D_data",
           "value": 2334
          },
          {
           "sample_id": 0,
           "timepoint": 29,
           "trajectory": "D_data",
           "value": 2859
          },
          {
           "sample_id": 0,
           "timepoint": 30,
           "trajectory": "D_data",
           "value": 3420
          },
          {
           "sample_id": 0,
           "timepoint": 31,
           "trajectory": "D_data",
           "value": 3989
          },
          {
           "sample_id": 0,
           "timepoint": 32,
           "trajectory": "D_data",
           "value": 4634
          },
          {
           "sample_id": 0,
           "timepoint": 33,
           "trajectory": "D_data",
           "value": 5384
          },
          {
           "sample_id": 0,
           "timepoint": 34,
           "trajectory": "D_data",
           "value": 6185
          },
          {
           "sample_id": 0,
           "timepoint": 35,
           "trajectory": "D_data",
           "value": 7241
          },
          {
           "sample_id": 0,
           "timepoint": 36,
           "trajectory": "D_data",
           "value": 7985
          },
          {
           "sample_id": 0,
           "timepoint": 37,
           "trajectory": "D_data",
           "value": 8846
          },
          {
           "sample_id": 0,
           "timepoint": 38,
           "trajectory": "D_data",
           "value": 9579
          },
          {
           "sample_id": 0,
           "timepoint": 39,
           "trajectory": "D_data",
           "value": 10345
          },
          {
           "sample_id": 0,
           "timepoint": 40,
           "trajectory": "D_data",
           "value": 11126
          },
          {
           "sample_id": 0,
           "timepoint": 41,
           "trajectory": "D_data",
           "value": 11930
          },
          {
           "sample_id": 0,
           "timepoint": 42,
           "trajectory": "D_data",
           "value": 12669
          },
          {
           "sample_id": 0,
           "timepoint": 43,
           "trajectory": "D_data",
           "value": 13332
          },
          {
           "sample_id": 0,
           "timepoint": 44,
           "trajectory": "D_data",
           "value": 13987
          },
          {
           "sample_id": 0,
           "timepoint": 45,
           "trajectory": "D_data",
           "value": 14371
          },
          {
           "sample_id": 0,
           "timepoint": 46,
           "trajectory": "D_data",
           "value": 14780
          },
          {
           "sample_id": 0,
           "timepoint": 47,
           "trajectory": "D_data",
           "value": 15225
          },
          {
           "sample_id": 0,
           "timepoint": 48,
           "trajectory": "D_data",
           "value": 16116
          },
          {
           "sample_id": 0,
           "timepoint": 49,
           "trajectory": "D_data",
           "value": 16639
          },
          {
           "sample_id": 0,
           "timepoint": 50,
           "trajectory": "D_data",
           "value": 17091
          },
          {
           "sample_id": 0,
           "timepoint": 51,
           "trajectory": "D_data",
           "value": 17647
          },
          {
           "sample_id": 0,
           "timepoint": 52,
           "trajectory": "D_data",
           "value": 18132
          },
          {
           "sample_id": 0,
           "timepoint": 53,
           "trajectory": "D_data",
           "value": 18523
          },
          {
           "sample_id": 0,
           "timepoint": 54,
           "trajectory": "D_data",
           "value": 18882
          },
          {
           "sample_id": 0,
           "timepoint": 55,
           "trajectory": "D_data",
           "value": 19292
          },
          {
           "sample_id": 0,
           "timepoint": 56,
           "trajectory": "D_data",
           "value": 19602
          },
          {
           "sample_id": 0,
           "timepoint": 57,
           "trajectory": "D_data",
           "value": 20000
          },
          {
           "sample_id": 0,
           "timepoint": 58,
           "trajectory": "D_data",
           "value": 20334
          },
          {
           "sample_id": 0,
           "timepoint": 59,
           "trajectory": "D_data",
           "value": 20662
          }
         ]
        },
        {
         "name": "markers",
         "values": []
        },
        {
         "name": "selected",
         "on": [
          {
           "remove": true,
           "trigger": "clear"
          },
          {
           "remove": true,
           "trigger": "!shift"
          },
          {
           "insert": "clicked",
           "trigger": "!shift && clicked"
          },
          {
           "toggle": "clicked",
           "trigger": "shift && clicked"
          }
         ]
        }
       ],
       "height": 300,
       "legends": [
        {
         "encode": {
          "labels": {
           "interactive": true,
           "name": "legendLabel",
           "update": {
            "opacity": [
             {
              "test": "!length(data('selected')) || indata('selected', 'value', datum.value)",
              "value": 1
             },
             {
              "value": 0.25
             }
            ]
           }
          },
          "symbols": {
           "interactive": true,
           "name": "legendSymbol",
           "update": {
            "fill": {
             "value": "transparent"
            },
            "opacity": [
             {
              "test": "!length(data('selected')) || indata('selected', 'value', datum.value)",
              "value": 0.7
             },
             {
              "value": 0.15
             }
            ],
            "size": {
             "value": 64
            },
            "strokeWidth": {
             "value": 2
            }
           }
          }
         },
         "name": "color_legend",
         "stroke": "color"
        }
       ],
       "marks": [
        {
         "from": {
          "facet": {
           "data": "points",
           "groupby": "trajectory",
           "name": "points_split"
          }
         },
         "marks": [
          {
           "encode": {
            "hover": {
             "fillOpacity": {
              "value": 0.9
             }
            },
            "update": {
             "fill": {
              "field": "trajectory",
              "scale": "color"
             },
             "fillOpacity": [
              {
               "test": "!length(data('selected')) || indata('selected', 'value', datum.trajectory)",
               "value": 0.5
              },
              {
               "value": 0.15
              }
             ],
             "size": {
              "value": 10
             },
             "stroke": {
              "field": "trajectory",
              "scale": "color"
             },
             "strokeOpacity": [
              {
               "test": "!length(data('selected')) || indata('selected', 'value', datum.trajectory)",
               "value": 0.75
              },
              {
               "value": 0.15
              }
             ],
             "strokeWidth": {
              "value": 2
             },
             "tooltip": {
              "field": "value"
             },
             "x": {
              "field": "timepoint",
              "scale": "xscale"
             },
             "y": {
              "field": "value",
              "scale": "yscale"
             }
            }
           },
           "from": {
            "data": "points"
           },
           "name": "_points_symbol",
           "type": "symbol",
           "zindex": 3
          },
          {
           "encode": {
            "hover": {
             "fillOpacity": {
              "value": 0.9
             }
            },
            "update": {
             "interpolate": {
              "value": "linear"
             },
             "stroke": {
              "field": "trajectory",
              "scale": "color"
             },
             "strokeOpacity": [
              {
               "test": "!length(data('selected')) || indata('selected', 'value', datum.trajectory)",
               "value": 0.3
              },
              {
               "value": 0.1
              }
             ],
             "strokeWidth": {
              "value": 2
             },
             "x": {
              "field": "timepoint",
              "scale": "xscale"
             },
             "y": {
              "field": "value",
              "scale": "yscale"
             }
            }
           },
           "from": {
            "data": "points"
           },
           "name": "_points_line",
           "type": "line",
           "zindex": 3
          }
         ],
         "name": "_points",
         "type": "group",
         "zindex": 3
        },
        {
         "from": {
          "facet": {
           "data": "traces",
           "groupby": "trajectory",
           "name": "traces_split"
          }
         },
         "marks": [
          {
           "encode": {
            "hover": {
             "fillOpacity": {
              "value": 0.9
             }
            },
            "update": {
             "interpolate": {
              "value": "linear"
             },
             "stroke": {
              "field": "trajectory",
              "scale": "color"
             },
             "strokeOpacity": [
              {
               "test": "!length(data('selected')) || indata('selected', 'value', datum.trajectory)",
               "value": 0.75
              },
              {
               "value": 0.15
              }
             ],
             "strokeWidth": {
              "value": 2
             },
             "x": {
              "field": "timepoint",
              "scale": "xscale"
             },
             "y": {
              "field": "value",
              "scale": "yscale"
             }
            }
           },
           "from": {
            "data": "traces_split"
           },
           "name": "_traces_lines",
           "type": "line"
          }
         ],
         "name": "_traces",
         "type": "group",
         "zindex": 2
        },
        {
         "from": {
          "facet": {
           "data": "distributions",
           "groupby": "trajectory",
           "name": "trajectory_split"
          }
         },
         "marks": [
          {
           "encode": {
            "hover": {
             "fillOpacity": {
              "value": 0.9
             }
            },
            "update": {
             "fill": {
              "field": "trajectory",
              "scale": "color"
             },
             "fillOpacity": [
              {
               "test": "!length(data('selected')) || indata('selected', 'value', datum.trajectory)",
               "value": 0.5
              },
              {
               "value": 0.15
              }
             ],
             "interpolate": {
              "value": "linear"
             },
             "stroke": {
              "field": "trajectory",
              "scale": "color"
             },
             "strokeOpacity": [
              {
               "test": "!length(data('selected')) || indata('selected', 'value', datum.trajectory)",
               "value": 0.75
              },
              {
               "value": 0.15
              }
             ],
             "strokeWidth": {
              "value": 2
             },
             "x": {
              "field": "timepoint",
              "scale": "xscale"
             },
             "y": {
              "field": "upper",
              "scale": "yscale"
             },
             "y2": {
              "field": "lower",
              "scale": "yscale"
             }
            }
           },
           "from": {
            "data": "trajectory_split"
           },
           "type": "area"
          }
         ],
         "name": "_distributions",
         "type": "group",
         "zindex": 1
        },
        {
         "marks": [
          {
           "encode": {
            "enter": {
             "stroke": {
              "value": "lightgray"
             }
            },
            "update": {
             "opacity": {
              "value": 1
             },
             "x": {
              "field": "timepoint",
              "scale": "xscale"
             },
             "y": {
              "signal": "height"
             },
             "y2": {
              "value": 0
             }
            }
           },
           "from": {
            "data": "markers"
           },
           "name": "_marker text",
           "type": "rule"
          },
          {
           "encode": {
            "enter": {
             "fontSize": {
              "value": 8
             },
             "text": {
              "field": "datum.label"
             },
             "y": {
              "value": 0
             }
            }
           },
           "from": {
            "data": "_marker text"
           },
           "name": "_marker flags",
           "transform": [
            {
             "as": [
              "x",
              "_y",
              "opacity",
              "align",
              "baseline"
             ],
             "lineAnchor": "start",
             "offset": [
              1
             ],
             "size": {
              "signal": "[width, height]"
             },
             "type": "label"
            }
           ],
           "type": "text"
          }
         ],
         "name": "_markers",
         "type": "group"
        }
       ],
       "padding": 5,
       "scales": [
        {
         "domain": {
          "fields": [
           {
            "data": "distributions",
            "field": "timepoint"
           },
           {
            "data": "traces",
            "field": "timepoint"
           },
           {
            "data": "points",
            "field": "timepoint"
           },
           {
            "data": "markers",
            "field": "timepoint"
           }
          ]
         },
         "name": "xscale",
         "range": "width",
         "type": "linear",
         "zero": false
        },
        {
         "domain": {
          "fields": [
           {
            "data": "distributions",
            "field": "lower"
           },
           {
            "data": "distributions",
            "field": "upper"
           },
           {
            "data": "traces",
            "field": "value"
           },
           {
            "data": "points",
            "field": "value"
           }
          ]
         },
         "name": "yscale",
         "nice": true,
         "range": "height",
         "type": "linear",
         "zero": true
        },
        {
         "domain": {
          "fields": [
           {
            "data": "distributions",
            "field": "trajectory"
           },
           {
            "data": "traces",
            "field": "trajectory"
           },
           {
            "data": "points",
            "field": "trajectory"
           }
          ]
         },
         "name": "color",
         "range": "category",
         "type": "ordinal"
        }
       ],
       "signals": [
        {
         "name": "clear",
         "on": [
          {
           "events": "mouseup[!event.item]",
           "force": true,
           "update": "true"
          }
         ],
         "value": true
        },
        {
         "name": "shift",
         "on": [
          {
           "events": "@legendSymbol:click, @legendLabel:click",
           "force": true,
           "update": "event.shiftKey"
          }
         ],
         "value": false
        },
        {
         "name": "clicked",
         "on": [
          {
           "events": "@legendSymbol:click, @legendLabel:click",
           "force": true,
           "update": "{value: datum.value}"
          }
         ],
         "value": null
        }
       ],
       "width": 500
      }
     },
     "metadata": {},
     "output_type": "display_data"
    }
   ],
   "source": [
    "schema = plots.trajectories(pd.DataFrame(result3[\"data\"]), subset=\".*_sol\",\n",
    "                            points=test_data.reset_index(drop=True).rename(columns={\"I\":\"I_data\", \"H\":\"H_data\", \"D\":\"D_data\"}),\n",
    "                           )\n",
    "schema = plots.pad(schema, 5)\n",
    "plots.ipy_display(schema)"
   ]
  },
  {
   "cell_type": "markdown",
   "id": "2ded2349-d56b-4fe5-a685-06b37cc78831",
   "metadata": {},
   "source": [
    "# Calibrate and sample an ensemble of multiple models"
   ]
  },
  {
   "cell_type": "code",
   "execution_count": null,
   "id": "5220df5c-61a0-47ad-ac94-fc543e8cb523",
   "metadata": {},
   "outputs": [],
   "source": [
    "num_samples = 100\n",
    "model_paths = [model2_location, model6_location, model7_location]\n",
    "data_path = \"../../notebook/ensemble_eval_sa/NY_data1.csv\"\n",
    "weights = [1/len(model_paths) for i in model_paths]\n",
    "solution_mappings = [{\"I\": \"I\", \"H\": \"H\", \"D\": \"D\"},\n",
    "                     {\"I\": \"infected\", \"H\": \"hospitalized\", \"D\": \"dead\"}, \n",
    "                     {\"I\": \"infected\", \"H\": \"hospitalized\", \"D\": \"dead\"}\n",
    "                     ]\n",
    "\n",
    "# Run the calibration and sampling\n",
    "result4 = load_and_calibrate_and_sample_ensemble_model(\n",
    "    model_paths,\n",
    "    data_path,\n",
    "    weights,\n",
    "    solution_mappings,\n",
    "    num_samples,\n",
    "    timepoints,\n",
    "    verbose=True,\n",
    "    total_population=19340000,\n",
    "    num_iterations=100,\n",
    "    time_unit=\"days\",\n",
    "    visual_options={\"title\": \"Calibrated Ensemble\", \"subset\":\".*_sol\"}\n",
    ")\n",
    "\n",
    "# Save results\n",
    "result4[\"data\"].to_csv(\n",
    "    \"partI_ensemble_of_many_results.csv\", index=False\n",
    ")\n",
    "result4[\"quantiles\"].to_csv(\n",
    "    \"partI_ensemble_of_many_quantiles.csv\", index=False\n",
    ")\n",
    "\n",
    "# Plot results\n",
    "schema = plots.trajectories(pd.DataFrame(result4[\"data\"]), subset=\".*_sol\",\n",
    "                            points=test_data.reset_index(drop=True).rename(columns={\"I\":\"I_data\", \"H\":\"H_data\", \"D\":\"D_data\"}),\n",
    "                           )\n",
    "schema = plots.pad(schema, 5)\n",
    "plots.ipy_display(schema)"
   ]
  },
  {
   "cell_type": "code",
   "execution_count": null,
   "id": "765e6d37-d87b-48b6-877b-067d2995179e",
   "metadata": {},
   "outputs": [],
   "source": []
  },
  {
   "cell_type": "code",
   "execution_count": null,
   "id": "9d414f1d-1152-43d5-9298-c3f0fb8b5ec7",
   "metadata": {},
   "outputs": [],
   "source": [
    "from pyciemss.utils.interface_utils import cdc_reformatcsv\n",
    "\n",
    "q_ensemble_data = cdc_reformatcsv(filename=\"partI_ensemble_of_many_quantiles.csv\", \n",
    "                                  solution_string_mapping={\"Infected\": \"case\", \"Hospitalizations\": \"hosp.\", \"D\": \"death\"}, \n",
    "                                  forecast_start_date=\"2023-08-03\",\n",
    "                                  location=\"US\",\n",
    "                                  drop_column_names=[\"timepoint_id\", \"number_days\", \"inc_cum\", \"output\", \"Forecast_Backcast\"])\n",
    "q_ensemble_data.to_csv(os.path.join(DEMO_PATH, \"results_petri_ensemble/CDCformat_calibrated_quantile_results.csv\"), index=False)"
   ]
  },
  {
   "cell_type": "code",
   "execution_count": null,
   "id": "79bac950-7c34-47af-9fa6-d0ead7e78f88",
   "metadata": {},
   "outputs": [],
   "source": []
  }
 ],
 "metadata": {
  "kernelspec": {
   "display_name": "Python 3 (ipykernel)",
   "language": "python",
   "name": "python3"
  },
  "language_info": {
   "codemirror_mode": {
    "name": "ipython",
    "version": 3
   },
   "file_extension": ".py",
   "mimetype": "text/x-python",
   "name": "python",
   "nbconvert_exporter": "python",
   "pygments_lexer": "ipython3",
   "version": "3.10.9"
  }
 },
 "nbformat": 4,
 "nbformat_minor": 5
}
