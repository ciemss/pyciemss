{
 "cells": [
  {
   "cell_type": "markdown",
   "id": "3048df72",
   "metadata": {},
   "source": [
    "# Ensemble Evaluation: Timepoint 1\n",
    "\n",
    "Location: New York State\n",
    "\n",
    "Timepoint 1: April 3, 2020. Setting: New York State at the beginning of the pandemic when masking was the main preventative measure. No vaccines available. \n",
    "\n",
    "Using case and death data for calibration (hospitalization data not available for this timepoint). No vaccination, no variants, and reinfection is not considered."
   ]
  },
  {
   "cell_type": "markdown",
   "id": "897b7ea9-d670-4345-9d7a-322d34d724c8",
   "metadata": {},
   "source": [
    "## Set up for ensemble modeling"
   ]
  },
  {
   "cell_type": "markdown",
   "id": "25ee072e-ef36-4c76-bf0a-76276a86c63b",
   "metadata": {},
   "source": [
    "### Load dependencies\n",
    "Import functionality from the pyciemss library to allow for model sampling and calibration."
   ]
  },
  {
   "cell_type": "code",
   "execution_count": 1,
   "id": "f250632a-4078-49de-a4a8-e6134c949910",
   "metadata": {},
   "outputs": [],
   "source": [
    "import os\n",
    "import pandas as pd\n",
    "import numpy as np\n",
    "from pyciemss.Ensemble.interfaces import (\n",
    "    load_and_sample_petri_ensemble, load_and_calibrate_and_sample_ensemble_model\n",
    ")\n",
    "from pyciemss.PetriNetODE.interfaces import (\n",
    "    load_and_sample_petri_model,\n",
    "    load_and_calibrate_and_sample_petri_model,\n",
    "    load_and_optimize_and_sample_petri_model,\n",
    "    load_and_calibrate_and_optimize_and_sample_petri_model\n",
    ")\n",
    "from pyciemss.visuals import plots"
   ]
  },
  {
   "cell_type": "markdown",
   "id": "2af8a7df-6527-4ba2-beb6-2e63889dcbbf",
   "metadata": {},
   "source": [
    "### Collect relevant models\n",
    "<!-- We have chosen x number of models to capture the relevant COVID-19 dynamics for this setting. \n",
    " - `model1` contains compartments SEIRHD, and is stratified by age into four groups.\n",
    " - `model2` is the same as `model1`, but allows for reinfection\n",
    " - `model3` is the same as `model1`, but with a variation in transmission rate to account for masking efficacy and compliance. -->"
   ]
  },
  {
   "cell_type": "code",
   "execution_count": 2,
   "id": "07fddb50-d73e-481d-a79d-ce0e115411b5",
   "metadata": {},
   "outputs": [],
   "source": [
    "# model1_location = \"../../notebook/ensemble_eval_sa/operative_models/SEIRHD_base_model_ee.json\"\n",
    "model2_location = \"../../notebook/ensemble_eval_sa/operative_models/SEIRHD_npi1_ee.json\"\n",
    "# model3_location = \"../../notebook/ensemble_eval_sa/operative_models/SEIRHD_npi1_beta_c_varying_ee.json\"\n",
    "# model4_location = \"../../notebook/ensemble_eval_sa/operative_models/SEIRHD_npi1_k_varying_ee.json\"\n",
    "# model5_location = \"../../notebook/ensemble_eval_sa/operative_models/SEIRHD_npi1_age_stratified_v1.json\"\n",
    "model6_location = \"../../notebook/ensemble_eval_sa/operative_models/SEIRHD_npi1_age_stratified_v2.json\"\n",
    "model7_location = \"../../notebook/ensemble_eval_sa/operative_models/SEIRHD_npi1_age_stratified_v3.json\"\n",
    "# model8_location = \"../../notebook/ensemble_eval_sa/operative_models/SEIRD_ymo_age_strat.json\""
   ]
  },
  {
   "cell_type": "markdown",
   "id": "a2239aab-0478-43cb-b6ef-079497dbb6e1",
   "metadata": {},
   "source": [
    "### Gather data, and set training and forecast intervals\n",
    "For this timepoint, only case and death data is available for calibration. \n",
    "\n",
    "We take the total population of New York State to be 19,340,000. Population age-structure estimates for New York State were taken (and scaled appropriately) from [here](https://www.health.ny.gov/statistics/vital_statistics/2016/table01.htm).\n",
    "\n",
    "First recorded case in New York State: March 1, 2020.\n",
    "\n",
    "Also relevant is that a statewide stay-at-home order for non-essential workers was implemented on March 22, 2020, and masking policy was implemented on April 15, 2020. A nice list of COVID-19 policy interventions for New York City and State has been compiled [here](https://www.investopedia.com/historical-timeline-of-covid-19-in-new-york-city-5071986![image.png](attachment:d380d245-11ca-41f1-9863-e2a2dcf5ebce.png)![image.png](attachment:b30f6e31-bc7f-43a8-b7c8-b1df78db3b86.png)![image.png](attachment:b5109588-59ed-447c-9271-50eb56fe9081.png)![image.png](attachment:2c42138a-696d-4cef-9b79-4843d38ff029.png))."
   ]
  },
  {
   "cell_type": "code",
   "execution_count": 3,
   "id": "2f63b3cc-7ace-42d7-a964-f9b8103877a3",
   "metadata": {},
   "outputs": [],
   "source": [
    "url = 'https://raw.githubusercontent.com/DARPA-ASKEM/experiments/main/thin-thread-examples/milestone_12month/evaluation/ensemble_eval_SA/datasets/aabb3684-a7ea-4f60-98f1-a8e673ad6df5/dataset.csv'\n",
    "ny_data = pd.read_csv(url)\n",
    "\n",
    "# Grab test data for four-week forecast (04/03/2020 - 05/01/2020)\n",
    "test_data = ny_data[41:101].reset_index()\n",
    "test_data = test_data.drop(columns=\"timestep\")\n",
    "test_data = test_data.drop(columns=\"index\")\n",
    "\n",
    "# Select historical data from 03/01/2020 up to Timepoint 1, 04/02/2020 (the first 73 rows)\n",
    "# No hospitalization data at this point\n",
    "ny_data = ny_data[41:72].reset_index(drop=True)\n",
    "ny_data1 = ny_data.assign(timepoints=[float(i) for i in range(len(ny_data))])\n",
    "ny_data = ny_data1[[\"timepoints\", \"I\", \"D\"]]\n",
    "ny_data[[\"I\", \"D\"]].to_csv(\"NY_data1.csv\")\n",
    "\n",
    "# Set timepoints\n",
    "start_timepoint = 0\n",
    "stop_timepoint = len(ny_data) + 28 # simulate for four weeks after end of data\n",
    "timepoints = [float(i) for i in range(stop_timepoint + 1)]"
   ]
  },
  {
   "cell_type": "markdown",
   "id": "88df33c0-f86c-4cc4-8f98-6191d71b442b",
   "metadata": {},
   "source": [
    "# Calibrate and sample an ensemble of one model"
   ]
  },
  {
   "cell_type": "code",
   "execution_count": 12,
   "id": "7448e4a2-1903-4a0f-bf0a-916069b5b4db",
   "metadata": {},
   "outputs": [
    {
     "name": "stdout",
     "output_type": "stream",
     "text": [
      "iteration 0: loss = 703.9979826509953\n",
      "iteration 25: loss = 696.8435081541538\n",
      "iteration 50: loss = 660.5078044235706\n",
      "iteration 75: loss = 640.0858406126499\n",
      "iteration 100: loss = 637.7395190298557\n",
      "iteration 125: loss = 636.8753542006016\n",
      "iteration 150: loss = 635.3679219782352\n",
      "iteration 175: loss = 634.8731047213078\n",
      "iteration 200: loss = 636.0222593843937\n",
      "iteration 225: loss = 633.6642631590366\n",
      "\n"
     ]
    },
    {
     "data": {
      "application/vnd.vega.v5+json": {
       "$schema": "https://vega.github.io/schema/vega/v5.json",
       "axes": [
        {
         "name": "x_axis",
         "orient": "bottom",
         "scale": "xscale",
         "zindex": 100
        },
        {
         "name": "y_axis",
         "orient": "left",
         "scale": "yscale",
         "zindex": 100
        }
       ],
       "data": [
        {
         "name": "distributions",
         "values": [
          {
           "lower": 7.782905477442848e-23,
           "timepoint": 0,
           "trajectory": "D_sol",
           "upper": 1.9465042114568088e-21
          },
          {
           "lower": 0.008626837702468037,
           "timepoint": 1,
           "trajectory": "D_sol",
           "upper": 0.21571223363280295
          },
          {
           "lower": 0.03737017679959535,
           "timepoint": 2,
           "trajectory": "D_sol",
           "upper": 0.9370118886232376
          },
          {
           "lower": 0.0899598777294159,
           "timepoint": 3,
           "trajectory": "D_sol",
           "upper": 2.2671517848968508
          },
          {
           "lower": 0.17012241631746292,
           "timepoint": 4,
           "trajectory": "D_sol",
           "upper": 4.31772735118866
          },
          {
           "lower": 0.2822223827242851,
           "timepoint": 5,
           "trajectory": "D_sol",
           "upper": 7.225858068466186
          },
          {
           "lower": 0.4317154884338379,
           "timepoint": 6,
           "trajectory": "D_sol",
           "upper": 11.156271505355836
          },
          {
           "lower": 0.6255337983369827,
           "timepoint": 7,
           "trajectory": "D_sol",
           "upper": 16.303931045532227
          },
          {
           "lower": 0.8724704861640931,
           "timepoint": 8,
           "trajectory": "D_sol",
           "upper": 22.95666389465332
          },
          {
           "lower": 1.1836075365543366,
           "timepoint": 9,
           "trajectory": "D_sol",
           "upper": 31.466350555419922
          },
          {
           "lower": 1.572832179069519,
           "timepoint": 10,
           "trajectory": "D_sol",
           "upper": 42.272857093811034
          },
          {
           "lower": 2.057439738512039,
           "timepoint": 11,
           "trajectory": "D_sol",
           "upper": 55.931511878967285
          },
          {
           "lower": 2.658897113800049,
           "timepoint": 12,
           "trajectory": "D_sol",
           "upper": 73.15595207214355
          },
          {
           "lower": 3.4037257075309753,
           "timepoint": 13,
           "trajectory": "D_sol",
           "upper": 94.8336311340332
          },
          {
           "lower": 4.324540781974792,
           "timepoint": 14,
           "trajectory": "D_sol",
           "upper": 122.07451972961425
          },
          {
           "lower": 5.491364669799805,
           "timepoint": 15,
           "trajectory": "D_sol",
           "upper": 156.00637741088866
          },
          {
           "lower": 6.9767673254013065,
           "timepoint": 16,
           "trajectory": "D_sol",
           "upper": 198.15580520629882
          },
          {
           "lower": 8.828147029876709,
           "timepoint": 17,
           "trajectory": "D_sol",
           "upper": 250.67014846801757
          },
          {
           "lower": 11.129251098632812,
           "timepoint": 18,
           "trajectory": "D_sol",
           "upper": 315.9102127075195
          },
          {
           "lower": 13.977498435974121,
           "timepoint": 19,
           "trajectory": "D_sol",
           "upper": 396.6190444946289
          },
          {
           "lower": 17.481693267822266,
           "timepoint": 20,
           "trajectory": "D_sol",
           "upper": 495.84701995849605
          },
          {
           "lower": 21.756139183044432,
           "timepoint": 21,
           "trajectory": "D_sol",
           "upper": 616.7796966552734
          },
          {
           "lower": 26.910418128967287,
           "timepoint": 22,
           "trajectory": "D_sol",
           "upper": 762.4387725830078
          },
          {
           "lower": 33.03641223907471,
           "timepoint": 23,
           "trajectory": "D_sol",
           "upper": 935.3076568603515
          },
          {
           "lower": 40.19507350921631,
           "timepoint": 24,
           "trajectory": "D_sol",
           "upper": 1136.9479187011718
          },
          {
           "lower": 48.40714359283447,
           "timepoint": 25,
           "trajectory": "D_sol",
           "upper": 1367.7407104492186
          },
          {
           "lower": 57.65038356781006,
           "timepoint": 26,
           "trajectory": "D_sol",
           "upper": 1626.8104431152342
          },
          {
           "lower": 67.86288890838624,
           "timepoint": 27,
           "trajectory": "D_sol",
           "upper": 1913.9122680664059
          },
          {
           "lower": 78.9516082763672,
           "timepoint": 28,
           "trajectory": "D_sol",
           "upper": 2227.866479492187
          },
          {
           "lower": 90.80245437622071,
           "timepoint": 29,
           "trajectory": "D_sol",
           "upper": 2561.4225463867183
          },
          {
           "lower": 103.29017372131348,
           "timepoint": 30,
           "trajectory": "D_sol",
           "upper": 2910.3544311523433
          },
          {
           "lower": 116.28726921081544,
           "timepoint": 31,
           "trajectory": "D_sol",
           "upper": 3270.4407226562494
          },
          {
           "lower": 129.67010726928712,
           "timepoint": 32,
           "trajectory": "D_sol",
           "upper": 3637.627587890624
          },
          {
           "lower": 143.3237575531006,
           "timepoint": 33,
           "trajectory": "D_sol",
           "upper": 4008.21973876953
          },
          {
           "lower": 157.14415893554687,
           "timepoint": 34,
           "trajectory": "D_sol",
           "upper": 4378.936328124999
          },
          {
           "lower": 171.03960494995118,
           "timepoint": 35,
           "trajectory": "D_sol",
           "upper": 4746.9544921874985
          },
          {
           "lower": 184.93106536865236,
           "timepoint": 36,
           "trajectory": "D_sol",
           "upper": 5109.911279296873
          },
          {
           "lower": 198.75121002197267,
           "timepoint": 37,
           "trajectory": "D_sol",
           "upper": 5469.448632812498
          },
          {
           "lower": 212.44476394653321,
           "timepoint": 38,
           "trajectory": "D_sol",
           "upper": 5829.228100585935
          },
          {
           "lower": 225.9648406982422,
           "timepoint": 39,
           "trajectory": "D_sol",
           "upper": 6181.829150390622
          },
          {
           "lower": 239.27557144165038,
           "timepoint": 40,
           "trajectory": "D_sol",
           "upper": 6526.310327148433
          },
          {
           "lower": 252.34704208374023,
           "timepoint": 41,
           "trajectory": "D_sol",
           "upper": 6861.962524414058
          },
          {
           "lower": 265.15663146972656,
           "timepoint": 42,
           "trajectory": "D_sol",
           "upper": 7188.276831054683
          },
          {
           "lower": 277.6876678466797,
           "timepoint": 43,
           "trajectory": "D_sol",
           "upper": 7564.758813476557
          },
          {
           "lower": 289.92726135253906,
           "timepoint": 44,
           "trajectory": "D_sol",
           "upper": 7953.910131835933
          },
          {
           "lower": 301.8680229187012,
           "timepoint": 45,
           "trajectory": "D_sol",
           "upper": 8337.77641601562
          },
          {
           "lower": 313.5037124633789,
           "timepoint": 46,
           "trajectory": "D_sol",
           "upper": 8717.74731445312
          },
          {
           "lower": 324.8324798583985,
           "timepoint": 47,
           "trajectory": "D_sol",
           "upper": 9093.700683593745
          },
          {
           "lower": 335.8531921386719,
           "timepoint": 48,
           "trajectory": "D_sol",
           "upper": 9465.92211914062
          },
          {
           "lower": 346.5679626464844,
           "timepoint": 49,
           "trajectory": "D_sol",
           "upper": 9834.261914062494
          },
          {
           "lower": 356.9792083740235,
           "timepoint": 50,
           "trajectory": "D_sol",
           "upper": 10198.626464843745
          },
          {
           "lower": 367.09102630615234,
           "timepoint": 51,
           "trajectory": "D_sol",
           "upper": 10558.938183593744
          },
          {
           "lower": 376.9081665039063,
           "timepoint": 52,
           "trajectory": "D_sol",
           "upper": 10915.14165039062
          },
          {
           "lower": 386.43527832031253,
           "timepoint": 53,
           "trajectory": "D_sol",
           "upper": 11267.207812499995
          },
          {
           "lower": 395.67909240722656,
           "timepoint": 54,
           "trajectory": "D_sol",
           "upper": 11615.11743164062
          },
          {
           "lower": 404.64554595947266,
           "timepoint": 55,
           "trajectory": "D_sol",
           "upper": 11958.863134765621
          },
          {
           "lower": 413.3410949707031,
           "timepoint": 56,
           "trajectory": "D_sol",
           "upper": 12298.451367187496
          },
          {
           "lower": 421.7726715087891,
           "timepoint": 57,
           "trajectory": "D_sol",
           "upper": 12633.891113281246
          },
          {
           "lower": 429.94691772460936,
           "timepoint": 58,
           "trajectory": "D_sol",
           "upper": 12965.219091796871
          },
          {
           "lower": 437.8705825805664,
           "timepoint": 59,
           "trajectory": "D_sol",
           "upper": 13292.450781249996
          },
          {
           "lower": 175,
           "timepoint": 0,
           "trajectory": "I_sol",
           "upper": 175
          },
          {
           "lower": 265.44862213134763,
           "timepoint": 1,
           "trajectory": "I_sol",
           "upper": 269.7258773803711
          },
          {
           "lower": 356.61982879638674,
           "timepoint": 2,
           "trajectory": "I_sol",
           "upper": 365.4390838623047
          },
          {
           "lower": 456.85802307128904,
           "timepoint": 3,
           "trajectory": "I_sol",
           "upper": 474.2701782226562
          },
          {
           "lower": 573.8930541992188,
           "timepoint": 4,
           "trajectory": "I_sol",
           "upper": 605.6707641601563
          },
          {
           "lower": 715.7294464111328,
           "timepoint": 5,
           "trajectory": "I_sol",
           "upper": 768.4079498291015
          },
          {
           "lower": 891.2776000976562,
           "timepoint": 6,
           "trajectory": "I_sol",
           "upper": 971.1943969726562
          },
          {
           "lower": 1108.0830810546875,
           "timepoint": 7,
           "trajectory": "I_sol",
           "upper": 1224.5366760253905
          },
          {
           "lower": 1372.1630920410157,
           "timepoint": 8,
           "trajectory": "I_sol",
           "upper": 1543.0096923828125
          },
          {
           "lower": 1699.046124267578,
           "timepoint": 9,
           "trajectory": "I_sol",
           "upper": 1946.6200073242187
          },
          {
           "lower": 2110.3087646484373,
           "timepoint": 10,
           "trajectory": "I_sol",
           "upper": 2455.2110717773435
          },
          {
           "lower": 2620.3435180664064,
           "timepoint": 11,
           "trajectory": "I_sol",
           "upper": 3095.7804443359373
          },
          {
           "lower": 3252.2509033203123,
           "timepoint": 12,
           "trajectory": "I_sol",
           "upper": 3901.9642822265623
          },
          {
           "lower": 4033.8018188476562,
           "timepoint": 13,
           "trajectory": "I_sol",
           "upper": 4915.893945312499
          },
          {
           "lower": 4997.715625,
           "timepoint": 14,
           "trajectory": "I_sol",
           "upper": 6186.715502929687
          },
          {
           "lower": 6181.10634765625,
           "timepoint": 15,
           "trajectory": "I_sol",
           "upper": 7772.784326171874
          },
          {
           "lower": 7623.2972412109375,
           "timepoint": 16,
           "trajectory": "I_sol",
           "upper": 9738.92880859375
          },
          {
           "lower": 9360.568017578125,
           "timepoint": 17,
           "trajectory": "I_sol",
           "upper": 12150.290673828125
          },
          {
           "lower": 11416.0234375,
           "timepoint": 18,
           "trajectory": "I_sol",
           "upper": 15059.44052734375
          },
          {
           "lower": 13783.5041015625,
           "timepoint": 19,
           "trajectory": "I_sol",
           "upper": 18484.58232421875
          },
          {
           "lower": 16407.9177734375,
           "timepoint": 20,
           "trajectory": "I_sol",
           "upper": 22380.7998046875
          },
          {
           "lower": 19171.08251953125,
           "timepoint": 21,
           "trajectory": "I_sol",
           "upper": 26560.70400390625
          },
          {
           "lower": 21897.47265625,
           "timepoint": 22,
           "trajectory": "I_sol",
           "upper": 30845.52216796875
          },
          {
           "lower": 24387.53759765625,
           "timepoint": 23,
           "trajectory": "I_sol",
           "upper": 35010.21875
          },
          {
           "lower": 26466.80771484375,
           "timepoint": 24,
           "trajectory": "I_sol",
           "upper": 38766.4537109375
          },
          {
           "lower": 28025.25068359375,
           "timepoint": 25,
           "trajectory": "I_sol",
           "upper": 41935.188671874996
          },
          {
           "lower": 29262.19580078125,
           "timepoint": 26,
           "trajectory": "I_sol",
           "upper": 44434.0990234375
          },
          {
           "lower": 30158.58720703125,
           "timepoint": 27,
           "trajectory": "I_sol",
           "upper": 46248.4607421875
          },
          {
           "lower": 29993.32529296875,
           "timepoint": 28,
           "trajectory": "I_sol",
           "upper": 47407.2337890625
          },
          {
           "lower": 29407.8943359375,
           "timepoint": 29,
           "trajectory": "I_sol",
           "upper": 48048.4896484375
          },
          {
           "lower": 29212.476171875,
           "timepoint": 30,
           "trajectory": "I_sol",
           "upper": 48480.781640625
          },
          {
           "lower": 28172.821875,
           "timepoint": 31,
           "trajectory": "I_sol",
           "upper": 48458.4462890625
          },
          {
           "lower": 27219.52001953125,
           "timepoint": 32,
           "trajectory": "I_sol",
           "upper": 48180.4056640625
          },
          {
           "lower": 25714.27265625,
           "timepoint": 33,
           "trajectory": "I_sol",
           "upper": 47674.2978515625
          },
          {
           "lower": 24510.03505859375,
           "timepoint": 34,
           "trajectory": "I_sol",
           "upper": 46932.24609375
          },
          {
           "lower": 23392.36455078125,
           "timepoint": 35,
           "trajectory": "I_sol",
           "upper": 46519.70078125
          },
          {
           "lower": 22078.40791015625,
           "timepoint": 36,
           "trajectory": "I_sol",
           "upper": 45881.2033203125
          },
          {
           "lower": 20561.76533203125,
           "timepoint": 37,
           "trajectory": "I_sol",
           "upper": 45159.376953125
          },
          {
           "lower": 19144.941015625,
           "timepoint": 38,
           "trajectory": "I_sol",
           "upper": 44801.719140625
          },
          {
           "lower": 17795.86328125,
           "timepoint": 39,
           "trajectory": "I_sol",
           "upper": 44439.4693359375
          },
          {
           "lower": 16530.126220703125,
           "timepoint": 40,
           "trajectory": "I_sol",
           "upper": 44022.0501953125
          },
          {
           "lower": 15342.602978515624,
           "timepoint": 41,
           "trajectory": "I_sol",
           "upper": 43489.469921875
          },
          {
           "lower": 14231.896142578125,
           "timepoint": 42,
           "trajectory": "I_sol",
           "upper": 42955.2162109375
          },
          {
           "lower": 13195.487744140624,
           "timepoint": 43,
           "trajectory": "I_sol",
           "upper": 42421.3560546875
          },
          {
           "lower": 12230.157421875,
           "timepoint": 44,
           "trajectory": "I_sol",
           "upper": 41889.8392578125
          },
          {
           "lower": 11332.302734375,
           "timepoint": 45,
           "trajectory": "I_sol",
           "upper": 41361.5818359375
          },
          {
           "lower": 10498.0970703125,
           "timepoint": 46,
           "trajectory": "I_sol",
           "upper": 40837.3759765625
          },
          {
           "lower": 9723.700732421876,
           "timepoint": 47,
           "trajectory": "I_sol",
           "upper": 40316.45703125
          },
          {
           "lower": 9005.20908203125,
           "timepoint": 48,
           "trajectory": "I_sol",
           "upper": 39791.028125
          },
          {
           "lower": 8365.693603515625,
           "timepoint": 49,
           "trajectory": "I_sol",
           "upper": 39270.9359375
          },
          {
           "lower": 7771.2716064453125,
           "timepoint": 50,
           "trajectory": "I_sol",
           "upper": 38756.289453125
          },
          {
           "lower": 7218.652172851563,
           "timepoint": 51,
           "trajectory": "I_sol",
           "upper": 38247.3787109375
          },
          {
           "lower": 6674.8111572265625,
           "timepoint": 52,
           "trajectory": "I_sol",
           "upper": 37789.358593749996
          },
          {
           "lower": 6151.9188232421875,
           "timepoint": 53,
           "trajectory": "I_sol",
           "upper": 37417.964062499996
          },
          {
           "lower": 5669.811254882812,
           "timepoint": 54,
           "trajectory": "I_sol",
           "upper": 37049.357617187496
          },
          {
           "lower": 5244.404345703125,
           "timepoint": 55,
           "trajectory": "I_sol",
           "upper": 36683.5451171875
          },
          {
           "lower": 4853.02041015625,
           "timepoint": 56,
           "trajectory": "I_sol",
           "upper": 36320.55
          },
          {
           "lower": 4490.791040039063,
           "timepoint": 57,
           "trajectory": "I_sol",
           "upper": 35814.9302734375
          },
          {
           "lower": 4155.552404785156,
           "timepoint": 58,
           "trajectory": "I_sol",
           "upper": 35435.983984375
          },
          {
           "lower": 3845.30908203125,
           "timepoint": 59,
           "trajectory": "I_sol",
           "upper": 35118.2025390625
          }
         ]
        },
        {
         "name": "traces",
         "transform": [
          {
           "expr": "isValid(datum.value)",
           "type": "filter"
          }
         ],
         "values": []
        },
        {
         "name": "points",
         "values": [
          {
           "sample_id": 0,
           "timepoint": 0,
           "trajectory": "I_data",
           "value": 1
          },
          {
           "sample_id": 0,
           "timepoint": 1,
           "trajectory": "I_data",
           "value": 10
          },
          {
           "sample_id": 0,
           "timepoint": 2,
           "trajectory": "I_data",
           "value": 21
          },
          {
           "sample_id": 0,
           "timepoint": 3,
           "trajectory": "I_data",
           "value": 24
          },
          {
           "sample_id": 0,
           "timepoint": 4,
           "trajectory": "I_data",
           "value": 76
          },
          {
           "sample_id": 0,
           "timepoint": 5,
           "trajectory": "I_data",
           "value": 104
          },
          {
           "sample_id": 0,
           "timepoint": 6,
           "trajectory": "I_data",
           "value": 128
          },
          {
           "sample_id": 0,
           "timepoint": 7,
           "trajectory": "I_data",
           "value": 131
          },
          {
           "sample_id": 0,
           "timepoint": 8,
           "trajectory": "I_data",
           "value": 192
          },
          {
           "sample_id": 0,
           "timepoint": 9,
           "trajectory": "I_data",
           "value": 220
          },
          {
           "sample_id": 0,
           "timepoint": 10,
           "trajectory": "I_data",
           "value": 274
          },
          {
           "sample_id": 0,
           "timepoint": 11,
           "trajectory": "I_data",
           "value": 394
          },
          {
           "sample_id": 0,
           "timepoint": 12,
           "trajectory": "I_data",
           "value": 481
          },
          {
           "sample_id": 0,
           "timepoint": 13,
           "trajectory": "I_data",
           "value": 745
          },
          {
           "sample_id": 0,
           "timepoint": 14,
           "trajectory": "I_data",
           "value": 1111
          },
          {
           "sample_id": 0,
           "timepoint": 15,
           "trajectory": "I_data",
           "value": 2128
          },
          {
           "sample_id": 0,
           "timepoint": 16,
           "trajectory": "I_data",
           "value": 3671
          },
          {
           "sample_id": 0,
           "timepoint": 17,
           "trajectory": "I_data",
           "value": 6578
          },
          {
           "sample_id": 0,
           "timepoint": 18,
           "trajectory": "I_data",
           "value": 9449
          },
          {
           "sample_id": 0,
           "timepoint": 19,
           "trajectory": "I_data",
           "value": 13761
          },
          {
           "sample_id": 0,
           "timepoint": 20,
           "trajectory": "I_data",
           "value": 18270
          },
          {
           "sample_id": 0,
           "timepoint": 21,
           "trajectory": "I_data",
           "value": 21478
          },
          {
           "sample_id": 0,
           "timepoint": 22,
           "trajectory": "I_data",
           "value": 23630
          },
          {
           "sample_id": 0,
           "timepoint": 23,
           "trajectory": "I_data",
           "value": 26987
          },
          {
           "sample_id": 0,
           "timepoint": 24,
           "trajectory": "I_data",
           "value": 29533
          },
          {
           "sample_id": 0,
           "timepoint": 25,
           "trajectory": "I_data",
           "value": 31623
          },
          {
           "sample_id": 0,
           "timepoint": 26,
           "trajectory": "I_data",
           "value": 33967
          },
          {
           "sample_id": 0,
           "timepoint": 27,
           "trajectory": "I_data",
           "value": 35822
          },
          {
           "sample_id": 0,
           "timepoint": 28,
           "trajectory": "I_data",
           "value": 38456
          },
          {
           "sample_id": 0,
           "timepoint": 29,
           "trajectory": "I_data",
           "value": 45676
          },
          {
           "sample_id": 0,
           "timepoint": 30,
           "trajectory": "I_data",
           "value": 48380
          },
          {
           "sample_id": 0,
           "timepoint": 31,
           "trajectory": "I_data",
           "value": 51807
          },
          {
           "sample_id": 0,
           "timepoint": 32,
           "trajectory": "I_data",
           "value": 55042
          },
          {
           "sample_id": 0,
           "timepoint": 33,
           "trajectory": "I_data",
           "value": 56847
          },
          {
           "sample_id": 0,
           "timepoint": 34,
           "trajectory": "I_data",
           "value": 52184
          },
          {
           "sample_id": 0,
           "timepoint": 35,
           "trajectory": "I_data",
           "value": 49194
          },
          {
           "sample_id": 0,
           "timepoint": 36,
           "trajectory": "I_data",
           "value": 48730
          },
          {
           "sample_id": 0,
           "timepoint": 37,
           "trajectory": "I_data",
           "value": 50551
          },
          {
           "sample_id": 0,
           "timepoint": 38,
           "trajectory": "I_data",
           "value": 51029
          },
          {
           "sample_id": 0,
           "timepoint": 39,
           "trajectory": "I_data",
           "value": 49701
          },
          {
           "sample_id": 0,
           "timepoint": 40,
           "trajectory": "I_data",
           "value": 50661
          },
          {
           "sample_id": 0,
           "timepoint": 41,
           "trajectory": "I_data",
           "value": 48303
          },
          {
           "sample_id": 0,
           "timepoint": 42,
           "trajectory": "I_data",
           "value": 43703
          },
          {
           "sample_id": 0,
           "timepoint": 43,
           "trajectory": "I_data",
           "value": 38888
          },
          {
           "sample_id": 0,
           "timepoint": 44,
           "trajectory": "I_data",
           "value": 38244
          },
          {
           "sample_id": 0,
           "timepoint": 45,
           "trajectory": "I_data",
           "value": 36857
          },
          {
           "sample_id": 0,
           "timepoint": 46,
           "trajectory": "I_data",
           "value": 35881
          },
          {
           "sample_id": 0,
           "timepoint": 47,
           "trajectory": "I_data",
           "value": 35054
          },
          {
           "sample_id": 0,
           "timepoint": 48,
           "trajectory": "I_data",
           "value": 34782
          },
          {
           "sample_id": 0,
           "timepoint": 49,
           "trajectory": "I_data",
           "value": 31526
          },
          {
           "sample_id": 0,
           "timepoint": 50,
           "trajectory": "I_data",
           "value": 28799
          },
          {
           "sample_id": 0,
           "timepoint": 51,
           "trajectory": "I_data",
           "value": 27419
          },
          {
           "sample_id": 0,
           "timepoint": 52,
           "trajectory": "I_data",
           "value": 27443
          },
          {
           "sample_id": 0,
           "timepoint": 53,
           "trajectory": "I_data",
           "value": 30499
          },
          {
           "sample_id": 0,
           "timepoint": 54,
           "trajectory": "I_data",
           "value": 31543
          },
          {
           "sample_id": 0,
           "timepoint": 55,
           "trajectory": "I_data",
           "value": 31597
          },
          {
           "sample_id": 0,
           "timepoint": 56,
           "trajectory": "I_data",
           "value": 29008
          },
          {
           "sample_id": 0,
           "timepoint": 57,
           "trajectory": "I_data",
           "value": 25476
          },
          {
           "sample_id": 0,
           "timepoint": 58,
           "trajectory": "I_data",
           "value": 20411
          },
          {
           "sample_id": 0,
           "timepoint": 59,
           "trajectory": "I_data",
           "value": 19224
          },
          {
           "sample_id": 0,
           "timepoint": 38,
           "trajectory": "H_data",
           "value": 0
          },
          {
           "sample_id": 0,
           "timepoint": 39,
           "trajectory": "H_data",
           "value": 0
          },
          {
           "sample_id": 0,
           "timepoint": 45,
           "trajectory": "H_data",
           "value": 0
          },
          {
           "sample_id": 0,
           "timepoint": 46,
           "trajectory": "H_data",
           "value": 1
          },
          {
           "sample_id": 0,
           "timepoint": 52,
           "trajectory": "H_data",
           "value": 0
          },
          {
           "sample_id": 0,
           "timepoint": 53,
           "trajectory": "H_data",
           "value": 0
          },
          {
           "sample_id": 0,
           "timepoint": 54,
           "trajectory": "H_data",
           "value": 1
          },
          {
           "sample_id": 0,
           "timepoint": 55,
           "trajectory": "H_data",
           "value": 0
          },
          {
           "sample_id": 0,
           "timepoint": 56,
           "trajectory": "H_data",
           "value": 0
          },
          {
           "sample_id": 0,
           "timepoint": 57,
           "trajectory": "H_data",
           "value": 0
          },
          {
           "sample_id": 0,
           "timepoint": 58,
           "trajectory": "H_data",
           "value": 0
          },
          {
           "sample_id": 0,
           "timepoint": 59,
           "trajectory": "H_data",
           "value": 0
          },
          {
           "sample_id": 0,
           "timepoint": 0,
           "trajectory": "D_data",
           "value": 0
          },
          {
           "sample_id": 0,
           "timepoint": 1,
           "trajectory": "D_data",
           "value": 0
          },
          {
           "sample_id": 0,
           "timepoint": 2,
           "trajectory": "D_data",
           "value": 0
          },
          {
           "sample_id": 0,
           "timepoint": 3,
           "trajectory": "D_data",
           "value": 0
          },
          {
           "sample_id": 0,
           "timepoint": 4,
           "trajectory": "D_data",
           "value": 0
          },
          {
           "sample_id": 0,
           "timepoint": 5,
           "trajectory": "D_data",
           "value": 0
          },
          {
           "sample_id": 0,
           "timepoint": 6,
           "trajectory": "D_data",
           "value": 0
          },
          {
           "sample_id": 0,
           "timepoint": 7,
           "trajectory": "D_data",
           "value": 0
          },
          {
           "sample_id": 0,
           "timepoint": 8,
           "trajectory": "D_data",
           "value": 1
          },
          {
           "sample_id": 0,
           "timepoint": 9,
           "trajectory": "D_data",
           "value": 1
          },
          {
           "sample_id": 0,
           "timepoint": 10,
           "trajectory": "D_data",
           "value": 1
          },
          {
           "sample_id": 0,
           "timepoint": 11,
           "trajectory": "D_data",
           "value": 4
          },
          {
           "sample_id": 0,
           "timepoint": 12,
           "trajectory": "D_data",
           "value": 9
          },
          {
           "sample_id": 0,
           "timepoint": 13,
           "trajectory": "D_data",
           "value": 19
          },
          {
           "sample_id": 0,
           "timepoint": 14,
           "trajectory": "D_data",
           "value": 30
          },
          {
           "sample_id": 0,
           "timepoint": 15,
           "trajectory": "D_data",
           "value": 51
          },
          {
           "sample_id": 0,
           "timepoint": 16,
           "trajectory": "D_data",
           "value": 77
          },
          {
           "sample_id": 0,
           "timepoint": 17,
           "trajectory": "D_data",
           "value": 129
          },
          {
           "sample_id": 0,
           "timepoint": 18,
           "trajectory": "D_data",
           "value": 175
          },
          {
           "sample_id": 0,
           "timepoint": 19,
           "trajectory": "D_data",
           "value": 226
          },
          {
           "sample_id": 0,
           "timepoint": 20,
           "trajectory": "D_data",
           "value": 315
          },
          {
           "sample_id": 0,
           "timepoint": 21,
           "trajectory": "D_data",
           "value": 427
          },
          {
           "sample_id": 0,
           "timepoint": 22,
           "trajectory": "D_data",
           "value": 565
          },
          {
           "sample_id": 0,
           "timepoint": 23,
           "trajectory": "D_data",
           "value": 759
          },
          {
           "sample_id": 0,
           "timepoint": 24,
           "trajectory": "D_data",
           "value": 984
          },
          {
           "sample_id": 0,
           "timepoint": 25,
           "trajectory": "D_data",
           "value": 1285
          },
          {
           "sample_id": 0,
           "timepoint": 26,
           "trajectory": "D_data",
           "value": 1603
          },
          {
           "sample_id": 0,
           "timepoint": 27,
           "trajectory": "D_data",
           "value": 1930
          },
          {
           "sample_id": 0,
           "timepoint": 28,
           "trajectory": "D_data",
           "value": 2334
          },
          {
           "sample_id": 0,
           "timepoint": 29,
           "trajectory": "D_data",
           "value": 2859
          },
          {
           "sample_id": 0,
           "timepoint": 30,
           "trajectory": "D_data",
           "value": 3420
          },
          {
           "sample_id": 0,
           "timepoint": 31,
           "trajectory": "D_data",
           "value": 3989
          },
          {
           "sample_id": 0,
           "timepoint": 32,
           "trajectory": "D_data",
           "value": 4634
          },
          {
           "sample_id": 0,
           "timepoint": 33,
           "trajectory": "D_data",
           "value": 5384
          },
          {
           "sample_id": 0,
           "timepoint": 34,
           "trajectory": "D_data",
           "value": 6185
          },
          {
           "sample_id": 0,
           "timepoint": 35,
           "trajectory": "D_data",
           "value": 7241
          },
          {
           "sample_id": 0,
           "timepoint": 36,
           "trajectory": "D_data",
           "value": 7985
          },
          {
           "sample_id": 0,
           "timepoint": 37,
           "trajectory": "D_data",
           "value": 8846
          },
          {
           "sample_id": 0,
           "timepoint": 38,
           "trajectory": "D_data",
           "value": 9579
          },
          {
           "sample_id": 0,
           "timepoint": 39,
           "trajectory": "D_data",
           "value": 10345
          },
          {
           "sample_id": 0,
           "timepoint": 40,
           "trajectory": "D_data",
           "value": 11126
          },
          {
           "sample_id": 0,
           "timepoint": 41,
           "trajectory": "D_data",
           "value": 11930
          },
          {
           "sample_id": 0,
           "timepoint": 42,
           "trajectory": "D_data",
           "value": 12669
          },
          {
           "sample_id": 0,
           "timepoint": 43,
           "trajectory": "D_data",
           "value": 13332
          },
          {
           "sample_id": 0,
           "timepoint": 44,
           "trajectory": "D_data",
           "value": 13987
          },
          {
           "sample_id": 0,
           "timepoint": 45,
           "trajectory": "D_data",
           "value": 14371
          },
          {
           "sample_id": 0,
           "timepoint": 46,
           "trajectory": "D_data",
           "value": 14780
          },
          {
           "sample_id": 0,
           "timepoint": 47,
           "trajectory": "D_data",
           "value": 15225
          },
          {
           "sample_id": 0,
           "timepoint": 48,
           "trajectory": "D_data",
           "value": 16116
          },
          {
           "sample_id": 0,
           "timepoint": 49,
           "trajectory": "D_data",
           "value": 16639
          },
          {
           "sample_id": 0,
           "timepoint": 50,
           "trajectory": "D_data",
           "value": 17091
          },
          {
           "sample_id": 0,
           "timepoint": 51,
           "trajectory": "D_data",
           "value": 17647
          },
          {
           "sample_id": 0,
           "timepoint": 52,
           "trajectory": "D_data",
           "value": 18132
          },
          {
           "sample_id": 0,
           "timepoint": 53,
           "trajectory": "D_data",
           "value": 18523
          },
          {
           "sample_id": 0,
           "timepoint": 54,
           "trajectory": "D_data",
           "value": 18882
          },
          {
           "sample_id": 0,
           "timepoint": 55,
           "trajectory": "D_data",
           "value": 19292
          },
          {
           "sample_id": 0,
           "timepoint": 56,
           "trajectory": "D_data",
           "value": 19602
          },
          {
           "sample_id": 0,
           "timepoint": 57,
           "trajectory": "D_data",
           "value": 20000
          },
          {
           "sample_id": 0,
           "timepoint": 58,
           "trajectory": "D_data",
           "value": 20334
          },
          {
           "sample_id": 0,
           "timepoint": 59,
           "trajectory": "D_data",
           "value": 20662
          }
         ]
        },
        {
         "name": "markers",
         "values": []
        },
        {
         "name": "selected",
         "on": [
          {
           "remove": true,
           "trigger": "clear"
          },
          {
           "remove": true,
           "trigger": "!shift"
          },
          {
           "insert": "clicked",
           "trigger": "!shift && clicked"
          },
          {
           "toggle": "clicked",
           "trigger": "shift && clicked"
          }
         ]
        }
       ],
       "height": 300,
       "legends": [
        {
         "encode": {
          "labels": {
           "interactive": true,
           "name": "legendLabel",
           "update": {
            "opacity": [
             {
              "test": "!length(data('selected')) || indata('selected', 'value', datum.value)",
              "value": 1
             },
             {
              "value": 0.25
             }
            ]
           }
          },
          "symbols": {
           "interactive": true,
           "name": "legendSymbol",
           "update": {
            "fill": {
             "value": "transparent"
            },
            "opacity": [
             {
              "test": "!length(data('selected')) || indata('selected', 'value', datum.value)",
              "value": 0.7
             },
             {
              "value": 0.15
             }
            ],
            "size": {
             "value": 64
            },
            "strokeWidth": {
             "value": 2
            }
           }
          }
         },
         "name": "color_legend",
         "stroke": "color"
        }
       ],
       "marks": [
        {
         "from": {
          "facet": {
           "data": "points",
           "groupby": "trajectory",
           "name": "points_split"
          }
         },
         "marks": [
          {
           "encode": {
            "hover": {
             "fillOpacity": {
              "value": 0.9
             }
            },
            "update": {
             "fill": {
              "field": "trajectory",
              "scale": "color"
             },
             "fillOpacity": [
              {
               "test": "!length(data('selected')) || indata('selected', 'value', datum.trajectory)",
               "value": 0.5
              },
              {
               "value": 0.15
              }
             ],
             "size": {
              "value": 10
             },
             "stroke": {
              "field": "trajectory",
              "scale": "color"
             },
             "strokeOpacity": [
              {
               "test": "!length(data('selected')) || indata('selected', 'value', datum.trajectory)",
               "value": 0.75
              },
              {
               "value": 0.15
              }
             ],
             "strokeWidth": {
              "value": 2
             },
             "tooltip": {
              "field": "value"
             },
             "x": {
              "field": "timepoint",
              "scale": "xscale"
             },
             "y": {
              "field": "value",
              "scale": "yscale"
             }
            }
           },
           "from": {
            "data": "points"
           },
           "name": "_points_symbol",
           "type": "symbol",
           "zindex": 3
          },
          {
           "encode": {
            "hover": {
             "fillOpacity": {
              "value": 0.9
             }
            },
            "update": {
             "interpolate": {
              "value": "linear"
             },
             "stroke": {
              "field": "trajectory",
              "scale": "color"
             },
             "strokeOpacity": [
              {
               "test": "!length(data('selected')) || indata('selected', 'value', datum.trajectory)",
               "value": 0.3
              },
              {
               "value": 0.1
              }
             ],
             "strokeWidth": {
              "value": 2
             },
             "x": {
              "field": "timepoint",
              "scale": "xscale"
             },
             "y": {
              "field": "value",
              "scale": "yscale"
             }
            }
           },
           "from": {
            "data": "points"
           },
           "name": "_points_line",
           "type": "line",
           "zindex": 3
          }
         ],
         "name": "_points",
         "type": "group",
         "zindex": 3
        },
        {
         "from": {
          "facet": {
           "data": "traces",
           "groupby": "trajectory",
           "name": "traces_split"
          }
         },
         "marks": [
          {
           "encode": {
            "hover": {
             "fillOpacity": {
              "value": 0.9
             }
            },
            "update": {
             "interpolate": {
              "value": "linear"
             },
             "stroke": {
              "field": "trajectory",
              "scale": "color"
             },
             "strokeOpacity": [
              {
               "test": "!length(data('selected')) || indata('selected', 'value', datum.trajectory)",
               "value": 0.75
              },
              {
               "value": 0.15
              }
             ],
             "strokeWidth": {
              "value": 2
             },
             "x": {
              "field": "timepoint",
              "scale": "xscale"
             },
             "y": {
              "field": "value",
              "scale": "yscale"
             }
            }
           },
           "from": {
            "data": "traces_split"
           },
           "name": "_traces_lines",
           "type": "line"
          }
         ],
         "name": "_traces",
         "type": "group",
         "zindex": 2
        },
        {
         "from": {
          "facet": {
           "data": "distributions",
           "groupby": "trajectory",
           "name": "trajectory_split"
          }
         },
         "marks": [
          {
           "encode": {
            "hover": {
             "fillOpacity": {
              "value": 0.9
             }
            },
            "update": {
             "fill": {
              "field": "trajectory",
              "scale": "color"
             },
             "fillOpacity": [
              {
               "test": "!length(data('selected')) || indata('selected', 'value', datum.trajectory)",
               "value": 0.5
              },
              {
               "value": 0.15
              }
             ],
             "interpolate": {
              "value": "linear"
             },
             "stroke": {
              "field": "trajectory",
              "scale": "color"
             },
             "strokeOpacity": [
              {
               "test": "!length(data('selected')) || indata('selected', 'value', datum.trajectory)",
               "value": 0.75
              },
              {
               "value": 0.15
              }
             ],
             "strokeWidth": {
              "value": 2
             },
             "x": {
              "field": "timepoint",
              "scale": "xscale"
             },
             "y": {
              "field": "upper",
              "scale": "yscale"
             },
             "y2": {
              "field": "lower",
              "scale": "yscale"
             }
            }
           },
           "from": {
            "data": "trajectory_split"
           },
           "type": "area"
          }
         ],
         "name": "_distributions",
         "type": "group",
         "zindex": 1
        },
        {
         "marks": [
          {
           "encode": {
            "enter": {
             "stroke": {
              "value": "lightgray"
             }
            },
            "update": {
             "opacity": {
              "value": 1
             },
             "x": {
              "field": "timepoint",
              "scale": "xscale"
             },
             "y": {
              "signal": "height"
             },
             "y2": {
              "value": 0
             }
            }
           },
           "from": {
            "data": "markers"
           },
           "name": "_marker text",
           "type": "rule"
          },
          {
           "encode": {
            "enter": {
             "fontSize": {
              "value": 8
             },
             "text": {
              "field": "datum.label"
             },
             "y": {
              "value": 0
             }
            }
           },
           "from": {
            "data": "_marker text"
           },
           "name": "_marker flags",
           "transform": [
            {
             "as": [
              "x",
              "_y",
              "opacity",
              "align",
              "baseline"
             ],
             "lineAnchor": "start",
             "offset": [
              1
             ],
             "size": {
              "signal": "[width, height]"
             },
             "type": "label"
            }
           ],
           "type": "text"
          }
         ],
         "name": "_markers",
         "type": "group"
        }
       ],
       "padding": 5,
       "scales": [
        {
         "domain": {
          "fields": [
           {
            "data": "distributions",
            "field": "timepoint"
           },
           {
            "data": "traces",
            "field": "timepoint"
           },
           {
            "data": "points",
            "field": "timepoint"
           },
           {
            "data": "markers",
            "field": "timepoint"
           }
          ]
         },
         "name": "xscale",
         "range": "width",
         "type": "linear",
         "zero": false
        },
        {
         "domain": {
          "fields": [
           {
            "data": "distributions",
            "field": "lower"
           },
           {
            "data": "distributions",
            "field": "upper"
           },
           {
            "data": "traces",
            "field": "value"
           },
           {
            "data": "points",
            "field": "value"
           }
          ]
         },
         "name": "yscale",
         "nice": true,
         "range": "height",
         "type": "linear",
         "zero": true
        },
        {
         "domain": {
          "fields": [
           {
            "data": "distributions",
            "field": "trajectory"
           },
           {
            "data": "traces",
            "field": "trajectory"
           },
           {
            "data": "points",
            "field": "trajectory"
           }
          ]
         },
         "name": "color",
         "range": "category",
         "type": "ordinal"
        }
       ],
       "signals": [
        {
         "name": "clear",
         "on": [
          {
           "events": "mouseup[!event.item]",
           "force": true,
           "update": "true"
          }
         ],
         "value": true
        },
        {
         "name": "shift",
         "on": [
          {
           "events": "@legendSymbol:click, @legendLabel:click",
           "force": true,
           "update": "event.shiftKey"
          }
         ],
         "value": false
        },
        {
         "name": "clicked",
         "on": [
          {
           "events": "@legendSymbol:click, @legendLabel:click",
           "force": true,
           "update": "{value: datum.value}"
          }
         ],
         "value": null
        }
       ],
       "width": 500
      }
     },
     "metadata": {},
     "output_type": "display_data"
    }
   ],
   "source": [
    "num_samples = 100\n",
    "model_paths = [model2_location]\n",
    "data_path = \"../../notebook/ensemble_eval_sa/datasets/NY_data1.csv\"\n",
    "weights = [1]\n",
    "solution_mappings = [{\"I\": \"I\", \"D\": \"D\"}]\n",
    "\n",
    "# Run the calibration and sampling\n",
    "result1 = load_and_calibrate_and_sample_ensemble_model(\n",
    "    model_paths,\n",
    "    data_path,\n",
    "    weights,\n",
    "    solution_mappings,\n",
    "    num_samples,\n",
    "    timepoints,\n",
    "    verbose=True,\n",
    "    total_population=19340000,\n",
    "    num_iterations=250,\n",
    "    time_unit=\"days\",\n",
    "    visual_options={\"title\": \"Calibrated Ensemble\", \"subset\":\".*_sol\"}\n",
    ")\n",
    "\n",
    "# Save results\n",
    "result1[\"data\"].to_csv(\"../../notebook/ensemble_eval_sa/ensemble_results/partI_ensemble_of_one_results.csv\", index=False)\n",
    "result1[\"quantiles\"].to_csv(\"../../notebook/ensemble_eval_sa/ensemble_results/partI_ensemble_of_one_quantiles.csv\", index=False)\n",
    "\n",
    "# Plot results\n",
    "schema = plots.trajectories(pd.DataFrame(result1[\"data\"]), subset=\".*_sol\",\n",
    "                            points=test_data.reset_index(drop=True).rename(columns={\"I\":\"I_data\", \"H\":\"H_data\", \"D\":\"D_data\"}),\n",
    "                           )\n",
    "schema = plots.pad(schema, 5)\n",
    "plots.ipy_display(schema)"
   ]
  },
  {
   "cell_type": "code",
   "execution_count": 10,
   "id": "6fa25da4-a72d-4789-969a-cfffe3c26ec1",
   "metadata": {},
   "outputs": [
    {
     "name": "stdout",
     "output_type": "stream",
     "text": [
      "iteration 0: loss = 715.3255967199802\n",
      "iteration 25: loss = 675.6244948208332\n",
      "iteration 50: loss = 638.4774799644947\n",
      "iteration 75: loss = 642.9715199768543\n",
      "\n"
     ]
    },
    {
     "data": {
      "application/vnd.vega.v5+json": {
       "$schema": "https://vega.github.io/schema/vega/v5.json",
       "axes": [
        {
         "name": "x_axis",
         "orient": "bottom",
         "scale": "xscale",
         "zindex": 100
        },
        {
         "name": "y_axis",
         "orient": "left",
         "scale": "yscale",
         "zindex": 100
        }
       ],
       "data": [
        {
         "name": "distributions",
         "values": [
          {
           "lower": 8.129795984906678e-23,
           "timepoint": 0,
           "trajectory": "D_sol",
           "upper": 1.869283172802801e-22
          },
          {
           "lower": 0.009195392159745098,
           "timepoint": 1,
           "trajectory": "D_sol",
           "upper": 0.02120939418673515
          },
          {
           "lower": 0.040680609084665774,
           "timepoint": 2,
           "trajectory": "D_sol",
           "upper": 0.09310242943465709
          },
          {
           "lower": 0.10015682652592658,
           "timepoint": 3,
           "trajectory": "D_sol",
           "upper": 0.2255800440907478
          },
          {
           "lower": 0.19400064200162886,
           "timepoint": 4,
           "trajectory": "D_sol",
           "upper": 0.42731460928916926
          },
          {
           "lower": 0.33006933331489563,
           "timepoint": 5,
           "trajectory": "D_sol",
           "upper": 0.707686686515808
          },
          {
           "lower": 0.5183712989091873,
           "timepoint": 6,
           "trajectory": "D_sol",
           "upper": 1.0782492280006408
          },
          {
           "lower": 0.7717493265867233,
           "timepoint": 7,
           "trajectory": "D_sol",
           "upper": 1.5539993762969968
          },
          {
           "lower": 1.0889456152915955,
           "timepoint": 8,
           "trajectory": "D_sol",
           "upper": 2.154620778560638
          },
          {
           "lower": 1.482006949186325,
           "timepoint": 9,
           "trajectory": "D_sol",
           "upper": 2.923536205291748
          },
          {
           "lower": 1.977094930410385,
           "timepoint": 10,
           "trajectory": "D_sol",
           "upper": 3.9036143541336057
          },
          {
           "lower": 2.599220943450928,
           "timepoint": 11,
           "trajectory": "D_sol",
           "upper": 5.14719181060791
          },
          {
           "lower": 3.3803841829299928,
           "timepoint": 12,
           "trajectory": "D_sol",
           "upper": 6.723968291282653
          },
          {
           "lower": 4.361306190490723,
           "timepoint": 13,
           "trajectory": "D_sol",
           "upper": 8.656658697128295
          },
          {
           "lower": 5.62491672039032,
           "timepoint": 14,
           "trajectory": "D_sol",
           "upper": 11.132372665405272
          },
          {
           "lower": 7.147591233253479,
           "timepoint": 15,
           "trajectory": "D_sol",
           "upper": 14.241853809356689
          },
          {
           "lower": 9.18547191619873,
           "timepoint": 16,
           "trajectory": "D_sol",
           "upper": 18.235821533203126
          },
          {
           "lower": 11.75536584854126,
           "timepoint": 17,
           "trajectory": "D_sol",
           "upper": 23.298969554901124
          },
          {
           "lower": 14.987046432495116,
           "timepoint": 18,
           "trajectory": "D_sol",
           "upper": 29.41390085220337
          },
          {
           "lower": 18.906884098052977,
           "timepoint": 19,
           "trajectory": "D_sol",
           "upper": 37.12156295776367
          },
          {
           "lower": 23.37734537124634,
           "timepoint": 20,
           "trajectory": "D_sol",
           "upper": 46.986030197143556
          },
          {
           "lower": 28.991717052459716,
           "timepoint": 21,
           "trajectory": "D_sol",
           "upper": 59.391477394104
          },
          {
           "lower": 36.14739437103272,
           "timepoint": 22,
           "trajectory": "D_sol",
           "upper": 74.68933219909668
          },
          {
           "lower": 44.79570369720459,
           "timepoint": 23,
           "trajectory": "D_sol",
           "upper": 93.29035263061523
          },
          {
           "lower": 55.11869106292725,
           "timepoint": 24,
           "trajectory": "D_sol",
           "upper": 114.9139633178711
          },
          {
           "lower": 67.22755889892578,
           "timepoint": 25,
           "trajectory": "D_sol",
           "upper": 140.1325714111328
          },
          {
           "lower": 81.19499816894532,
           "timepoint": 26,
           "trajectory": "D_sol",
           "upper": 169.04078369140623
          },
          {
           "lower": 97.10609588623046,
           "timepoint": 27,
           "trajectory": "D_sol",
           "upper": 203.0480499267578
          },
          {
           "lower": 114.92138481140137,
           "timepoint": 28,
           "trajectory": "D_sol",
           "upper": 241.27918701171876
          },
          {
           "lower": 134.59198989868165,
           "timepoint": 29,
           "trajectory": "D_sol",
           "upper": 280.6748596191406
          },
          {
           "lower": 156.05046920776368,
           "timepoint": 30,
           "trajectory": "D_sol",
           "upper": 322.0866516113281
          },
          {
           "lower": 179.21392974853515,
           "timepoint": 31,
           "trajectory": "D_sol",
           "upper": 365.79180145263666
          },
          {
           "lower": 201.92758026123047,
           "timepoint": 32,
           "trajectory": "D_sol",
           "upper": 414.63554382324213
          },
          {
           "lower": 225.52768325805664,
           "timepoint": 33,
           "trajectory": "D_sol",
           "upper": 470.17890624999995
          },
          {
           "lower": 253.8099235534668,
           "timepoint": 34,
           "trajectory": "D_sol",
           "upper": 529.1396606445312
          },
          {
           "lower": 281.2460601806641,
           "timepoint": 35,
           "trajectory": "D_sol",
           "upper": 591.0264770507812
          },
          {
           "lower": 307.77574615478517,
           "timepoint": 36,
           "trajectory": "D_sol",
           "upper": 655.9956237792969
          },
          {
           "lower": 334.79797821044923,
           "timepoint": 37,
           "trajectory": "D_sol",
           "upper": 724.6000366210938
          },
          {
           "lower": 362.2222366333008,
           "timepoint": 38,
           "trajectory": "D_sol",
           "upper": 796.5212677001953
          },
          {
           "lower": 389.9698547363281,
           "timepoint": 39,
           "trajectory": "D_sol",
           "upper": 853.2063537597655
          },
          {
           "lower": 417.98401031494143,
           "timepoint": 40,
           "trajectory": "D_sol",
           "upper": 912.2487274169921
          },
          {
           "lower": 446.55190124511716,
           "timepoint": 41,
           "trajectory": "D_sol",
           "upper": 987.574395751953
          },
          {
           "lower": 475.3271743774414,
           "timepoint": 42,
           "trajectory": "D_sol",
           "upper": 1065.385186767578
          },
          {
           "lower": 504.2694610595703,
           "timepoint": 43,
           "trajectory": "D_sol",
           "upper": 1145.652325439453
          },
          {
           "lower": 533.3445037841797,
           "timepoint": 44,
           "trajectory": "D_sol",
           "upper": 1228.3644409179688
          },
          {
           "lower": 562.5238830566407,
           "timepoint": 45,
           "trajectory": "D_sol",
           "upper": 1313.5140563964844
          },
          {
           "lower": 592.0989685058594,
           "timepoint": 46,
           "trajectory": "D_sol",
           "upper": 1390.251483154297
          },
          {
           "lower": 619.8907684326172,
           "timepoint": 47,
           "trajectory": "D_sol",
           "upper": 1490.3149780273438
          },
          {
           "lower": 648.21923828125,
           "timepoint": 48,
           "trajectory": "D_sol",
           "upper": 1586.2981994628906
          },
          {
           "lower": 675.0645812988281,
           "timepoint": 49,
           "trajectory": "D_sol",
           "upper": 1682.944287109375
          },
          {
           "lower": 694.5109222412109,
           "timepoint": 50,
           "trajectory": "D_sol",
           "upper": 1782.30244140625
          },
          {
           "lower": 721.440966796875,
           "timepoint": 51,
           "trajectory": "D_sol",
           "upper": 1884.4114135742186
          },
          {
           "lower": 756.4278686523437,
           "timepoint": 52,
           "trajectory": "D_sol",
           "upper": 1989.315734863281
          },
          {
           "lower": 790.5395904541016,
           "timepoint": 53,
           "trajectory": "D_sol",
           "upper": 2097.0583007812497
          },
          {
           "lower": 818.4375305175781,
           "timepoint": 54,
           "trajectory": "D_sol",
           "upper": 2220.195861816406
          },
          {
           "lower": 846.0798370361329,
           "timepoint": 55,
           "trajectory": "D_sol",
           "upper": 2349.184619140625
          },
          {
           "lower": 862.1521728515626,
           "timepoint": 56,
           "trajectory": "D_sol",
           "upper": 2482.3800659179683
          },
          {
           "lower": 877.5572204589844,
           "timepoint": 57,
           "trajectory": "D_sol",
           "upper": 2619.8402832031247
          },
          {
           "lower": 892.3172241210938,
           "timepoint": 58,
           "trajectory": "D_sol",
           "upper": 2762.1483886718747
          },
          {
           "lower": 906.456463623047,
           "timepoint": 59,
           "trajectory": "D_sol",
           "upper": 2909.4457641601557
          },
          {
           "lower": 100,
           "timepoint": 0,
           "trajectory": "I_sol",
           "upper": 100
          },
          {
           "lower": 158.03851013183595,
           "timepoint": 1,
           "trajectory": "I_sol",
           "upper": 160.25946731567382
          },
          {
           "lower": 215.9977569580078,
           "timepoint": 2,
           "trajectory": "I_sol",
           "upper": 222.2601333618164
          },
          {
           "lower": 281.18033294677736,
           "timepoint": 3,
           "trajectory": "I_sol",
           "upper": 293.5583129882813
          },
          {
           "lower": 358.5369384765625,
           "timepoint": 4,
           "trajectory": "I_sol",
           "upper": 380.46849517822267
          },
          {
           "lower": 452.202458190918,
           "timepoint": 5,
           "trajectory": "I_sol",
           "upper": 489.2892791748047
          },
          {
           "lower": 569.1092681884766,
           "timepoint": 6,
           "trajectory": "I_sol",
           "upper": 627.2043304443359
          },
          {
           "lower": 715.4754791259766,
           "timepoint": 7,
           "trajectory": "I_sol",
           "upper": 802.8915618896484
          },
          {
           "lower": 899.0545959472656,
           "timepoint": 8,
           "trajectory": "I_sol",
           "upper": 1027.1582641601562
          },
          {
           "lower": 1127.9581237792968,
           "timepoint": 9,
           "trajectory": "I_sol",
           "upper": 1313.8645080566407
          },
          {
           "lower": 1414.4902221679688,
           "timepoint": 10,
           "trajectory": "I_sol",
           "upper": 1680.1301147460938
          },
          {
           "lower": 1773.3421875,
           "timepoint": 11,
           "trajectory": "I_sol",
           "upper": 2147.5756713867186
          },
          {
           "lower": 2222.4358520507812,
           "timepoint": 12,
           "trajectory": "I_sol",
           "upper": 2743.953466796875
          },
          {
           "lower": 2783.7064208984375,
           "timepoint": 13,
           "trajectory": "I_sol",
           "upper": 3503.684045410156
          },
          {
           "lower": 3483.6156982421876,
           "timepoint": 14,
           "trajectory": "I_sol",
           "upper": 4469.132543945312
          },
          {
           "lower": 4353.249682617187,
           "timepoint": 15,
           "trajectory": "I_sol",
           "upper": 5691.108862304687
          },
          {
           "lower": 5427.511743164063,
           "timepoint": 16,
           "trajectory": "I_sol",
           "upper": 7227.894702148437
          },
          {
           "lower": 6742.475854492188,
           "timepoint": 17,
           "trajectory": "I_sol",
           "upper": 9141.60361328125
          },
          {
           "lower": 8329.673583984375,
           "timepoint": 18,
           "trajectory": "I_sol",
           "upper": 11488.19931640625
          },
          {
           "lower": 10206.27265625,
           "timepoint": 19,
           "trajectory": "I_sol",
           "upper": 14300.702734375
          },
          {
           "lower": 12361.98720703125,
           "timepoint": 20,
           "trajectory": "I_sol",
           "upper": 17565.56708984375
          },
          {
           "lower": 14747.567578125,
           "timepoint": 21,
           "trajectory": "I_sol",
           "upper": 21216.61357421875
          },
          {
           "lower": 17276.74716796875,
           "timepoint": 22,
           "trajectory": "I_sol",
           "upper": 25090.61767578125
          },
          {
           "lower": 19836.9255859375,
           "timepoint": 23,
           "trajectory": "I_sol",
           "upper": 28985.01162109375
          },
          {
           "lower": 22315.406640625,
           "timepoint": 24,
           "trajectory": "I_sol",
           "upper": 32699.4123046875
          },
          {
           "lower": 24627.8201171875,
           "timepoint": 25,
           "trajectory": "I_sol",
           "upper": 36072.716992187496
          },
          {
           "lower": 26728.29365234375,
           "timepoint": 26,
           "trajectory": "I_sol",
           "upper": 39112.26171874999
          },
          {
           "lower": 28605.40390625,
           "timepoint": 27,
           "trajectory": "I_sol",
           "upper": 41945.07519531249
          },
          {
           "lower": 30037.173828125,
           "timepoint": 28,
           "trajectory": "I_sol",
           "upper": 44432.74218749999
          },
          {
           "lower": 30370.99345703125,
           "timepoint": 29,
           "trajectory": "I_sol",
           "upper": 46660.409374999996
          },
          {
           "lower": 30170.79970703125,
           "timepoint": 30,
           "trajectory": "I_sol",
           "upper": 49035.7322265625
          },
          {
           "lower": 29979.72783203125,
           "timepoint": 31,
           "trajectory": "I_sol",
           "upper": 51031.802734375
          },
          {
           "lower": 29823.8623046875,
           "timepoint": 32,
           "trajectory": "I_sol",
           "upper": 52998.17265625
          },
          {
           "lower": 29063.53212890625,
           "timepoint": 33,
           "trajectory": "I_sol",
           "upper": 55073.0591796875
          },
          {
           "lower": 27950.01220703125,
           "timepoint": 34,
           "trajectory": "I_sol",
           "upper": 57381.3041015625
          },
          {
           "lower": 26802.77958984375,
           "timepoint": 35,
           "trajectory": "I_sol",
           "upper": 59681.2708984375
          },
          {
           "lower": 25648.37939453125,
           "timepoint": 36,
           "trajectory": "I_sol",
           "upper": 61960.3154296875
          },
          {
           "lower": 24499.88046875,
           "timepoint": 37,
           "trajectory": "I_sol",
           "upper": 64047.7833984375
          },
          {
           "lower": 23371.0244140625,
           "timepoint": 38,
           "trajectory": "I_sol",
           "upper": 65778.048046875
          },
          {
           "lower": 22334.577734375,
           "timepoint": 39,
           "trajectory": "I_sol",
           "upper": 67871.474609375
          },
          {
           "lower": 21702.677734375,
           "timepoint": 40,
           "trajectory": "I_sol",
           "upper": 70216.90664062499
          },
          {
           "lower": 21251.7787109375,
           "timepoint": 41,
           "trajectory": "I_sol",
           "upper": 72630.112109375
          },
          {
           "lower": 20805.66875,
           "timepoint": 42,
           "trajectory": "I_sol",
           "upper": 75115.30859375
          },
          {
           "lower": 20365.8240234375,
           "timepoint": 43,
           "trajectory": "I_sol",
           "upper": 77676.215625
          },
          {
           "lower": 19933.201171875,
           "timepoint": 44,
           "trajectory": "I_sol",
           "upper": 80315.7984375
          },
          {
           "lower": 19508.419335937502,
           "timepoint": 45,
           "trajectory": "I_sol",
           "upper": 83036.955859375
          },
          {
           "lower": 18862.96357421875,
           "timepoint": 46,
           "trajectory": "I_sol",
           "upper": 85842.30468749999
          },
          {
           "lower": 18107.65244140625,
           "timepoint": 47,
           "trajectory": "I_sol",
           "upper": 88734.38124999999
          },
          {
           "lower": 17381.3630859375,
           "timepoint": 48,
           "trajectory": "I_sol",
           "upper": 91940.046484375
          },
          {
           "lower": 16683.289697265627,
           "timepoint": 49,
           "trajectory": "I_sol",
           "upper": 95663.788671875
          },
          {
           "lower": 16012.621289062501,
           "timepoint": 50,
           "trajectory": "I_sol",
           "upper": 99528.78046874999
          },
          {
           "lower": 15368.411669921876,
           "timepoint": 51,
           "trajectory": "I_sol",
           "upper": 103539.51289062499
          },
          {
           "lower": 14749.7861328125,
           "timepoint": 52,
           "trajectory": "I_sol",
           "upper": 107700.787890625
          },
          {
           "lower": 14155.80458984375,
           "timepoint": 53,
           "trajectory": "I_sol",
           "upper": 112017.36875
          },
          {
           "lower": 13585.550634765625,
           "timepoint": 54,
           "trajectory": "I_sol",
           "upper": 116493.978515625
          },
          {
           "lower": 13038.130908203126,
           "timepoint": 55,
           "trajectory": "I_sol",
           "upper": 121039.116796875
          },
          {
           "lower": 12512.652001953125,
           "timepoint": 56,
           "trajectory": "I_sol",
           "upper": 125263.69570312499
          },
          {
           "lower": 12008.2728515625,
           "timepoint": 57,
           "trajectory": "I_sol",
           "upper": 129618.938671875
          },
          {
           "lower": 11524.162744140625,
           "timepoint": 58,
           "trajectory": "I_sol",
           "upper": 134107.6171875
          },
          {
           "lower": 11059.522021484376,
           "timepoint": 59,
           "trajectory": "I_sol",
           "upper": 138732.303125
          }
         ]
        },
        {
         "name": "traces",
         "transform": [
          {
           "expr": "isValid(datum.value)",
           "type": "filter"
          }
         ],
         "values": []
        },
        {
         "name": "points",
         "values": [
          {
           "sample_id": 0,
           "timepoint": 0,
           "trajectory": "I_data",
           "value": 1
          },
          {
           "sample_id": 0,
           "timepoint": 1,
           "trajectory": "I_data",
           "value": 10
          },
          {
           "sample_id": 0,
           "timepoint": 2,
           "trajectory": "I_data",
           "value": 21
          },
          {
           "sample_id": 0,
           "timepoint": 3,
           "trajectory": "I_data",
           "value": 24
          },
          {
           "sample_id": 0,
           "timepoint": 4,
           "trajectory": "I_data",
           "value": 76
          },
          {
           "sample_id": 0,
           "timepoint": 5,
           "trajectory": "I_data",
           "value": 104
          },
          {
           "sample_id": 0,
           "timepoint": 6,
           "trajectory": "I_data",
           "value": 128
          },
          {
           "sample_id": 0,
           "timepoint": 7,
           "trajectory": "I_data",
           "value": 131
          },
          {
           "sample_id": 0,
           "timepoint": 8,
           "trajectory": "I_data",
           "value": 192
          },
          {
           "sample_id": 0,
           "timepoint": 9,
           "trajectory": "I_data",
           "value": 220
          },
          {
           "sample_id": 0,
           "timepoint": 10,
           "trajectory": "I_data",
           "value": 274
          },
          {
           "sample_id": 0,
           "timepoint": 11,
           "trajectory": "I_data",
           "value": 394
          },
          {
           "sample_id": 0,
           "timepoint": 12,
           "trajectory": "I_data",
           "value": 481
          },
          {
           "sample_id": 0,
           "timepoint": 13,
           "trajectory": "I_data",
           "value": 745
          },
          {
           "sample_id": 0,
           "timepoint": 14,
           "trajectory": "I_data",
           "value": 1111
          },
          {
           "sample_id": 0,
           "timepoint": 15,
           "trajectory": "I_data",
           "value": 2128
          },
          {
           "sample_id": 0,
           "timepoint": 16,
           "trajectory": "I_data",
           "value": 3671
          },
          {
           "sample_id": 0,
           "timepoint": 17,
           "trajectory": "I_data",
           "value": 6578
          },
          {
           "sample_id": 0,
           "timepoint": 18,
           "trajectory": "I_data",
           "value": 9449
          },
          {
           "sample_id": 0,
           "timepoint": 19,
           "trajectory": "I_data",
           "value": 13761
          },
          {
           "sample_id": 0,
           "timepoint": 20,
           "trajectory": "I_data",
           "value": 18270
          },
          {
           "sample_id": 0,
           "timepoint": 21,
           "trajectory": "I_data",
           "value": 21478
          },
          {
           "sample_id": 0,
           "timepoint": 22,
           "trajectory": "I_data",
           "value": 23630
          },
          {
           "sample_id": 0,
           "timepoint": 23,
           "trajectory": "I_data",
           "value": 26987
          },
          {
           "sample_id": 0,
           "timepoint": 24,
           "trajectory": "I_data",
           "value": 29533
          },
          {
           "sample_id": 0,
           "timepoint": 25,
           "trajectory": "I_data",
           "value": 31623
          },
          {
           "sample_id": 0,
           "timepoint": 26,
           "trajectory": "I_data",
           "value": 33967
          },
          {
           "sample_id": 0,
           "timepoint": 27,
           "trajectory": "I_data",
           "value": 35822
          },
          {
           "sample_id": 0,
           "timepoint": 28,
           "trajectory": "I_data",
           "value": 38456
          },
          {
           "sample_id": 0,
           "timepoint": 29,
           "trajectory": "I_data",
           "value": 45676
          },
          {
           "sample_id": 0,
           "timepoint": 30,
           "trajectory": "I_data",
           "value": 48380
          },
          {
           "sample_id": 0,
           "timepoint": 31,
           "trajectory": "I_data",
           "value": 51807
          },
          {
           "sample_id": 0,
           "timepoint": 32,
           "trajectory": "I_data",
           "value": 55042
          },
          {
           "sample_id": 0,
           "timepoint": 33,
           "trajectory": "I_data",
           "value": 56847
          },
          {
           "sample_id": 0,
           "timepoint": 34,
           "trajectory": "I_data",
           "value": 52184
          },
          {
           "sample_id": 0,
           "timepoint": 35,
           "trajectory": "I_data",
           "value": 49194
          },
          {
           "sample_id": 0,
           "timepoint": 36,
           "trajectory": "I_data",
           "value": 48730
          },
          {
           "sample_id": 0,
           "timepoint": 37,
           "trajectory": "I_data",
           "value": 50551
          },
          {
           "sample_id": 0,
           "timepoint": 38,
           "trajectory": "I_data",
           "value": 51029
          },
          {
           "sample_id": 0,
           "timepoint": 39,
           "trajectory": "I_data",
           "value": 49701
          },
          {
           "sample_id": 0,
           "timepoint": 40,
           "trajectory": "I_data",
           "value": 50661
          },
          {
           "sample_id": 0,
           "timepoint": 41,
           "trajectory": "I_data",
           "value": 48303
          },
          {
           "sample_id": 0,
           "timepoint": 42,
           "trajectory": "I_data",
           "value": 43703
          },
          {
           "sample_id": 0,
           "timepoint": 43,
           "trajectory": "I_data",
           "value": 38888
          },
          {
           "sample_id": 0,
           "timepoint": 44,
           "trajectory": "I_data",
           "value": 38244
          },
          {
           "sample_id": 0,
           "timepoint": 45,
           "trajectory": "I_data",
           "value": 36857
          },
          {
           "sample_id": 0,
           "timepoint": 46,
           "trajectory": "I_data",
           "value": 35881
          },
          {
           "sample_id": 0,
           "timepoint": 47,
           "trajectory": "I_data",
           "value": 35054
          },
          {
           "sample_id": 0,
           "timepoint": 48,
           "trajectory": "I_data",
           "value": 34782
          },
          {
           "sample_id": 0,
           "timepoint": 49,
           "trajectory": "I_data",
           "value": 31526
          },
          {
           "sample_id": 0,
           "timepoint": 50,
           "trajectory": "I_data",
           "value": 28799
          },
          {
           "sample_id": 0,
           "timepoint": 51,
           "trajectory": "I_data",
           "value": 27419
          },
          {
           "sample_id": 0,
           "timepoint": 52,
           "trajectory": "I_data",
           "value": 27443
          },
          {
           "sample_id": 0,
           "timepoint": 53,
           "trajectory": "I_data",
           "value": 30499
          },
          {
           "sample_id": 0,
           "timepoint": 54,
           "trajectory": "I_data",
           "value": 31543
          },
          {
           "sample_id": 0,
           "timepoint": 55,
           "trajectory": "I_data",
           "value": 31597
          },
          {
           "sample_id": 0,
           "timepoint": 56,
           "trajectory": "I_data",
           "value": 29008
          },
          {
           "sample_id": 0,
           "timepoint": 57,
           "trajectory": "I_data",
           "value": 25476
          },
          {
           "sample_id": 0,
           "timepoint": 58,
           "trajectory": "I_data",
           "value": 20411
          },
          {
           "sample_id": 0,
           "timepoint": 59,
           "trajectory": "I_data",
           "value": 19224
          },
          {
           "sample_id": 0,
           "timepoint": 38,
           "trajectory": "H_data",
           "value": 0
          },
          {
           "sample_id": 0,
           "timepoint": 39,
           "trajectory": "H_data",
           "value": 0
          },
          {
           "sample_id": 0,
           "timepoint": 45,
           "trajectory": "H_data",
           "value": 0
          },
          {
           "sample_id": 0,
           "timepoint": 46,
           "trajectory": "H_data",
           "value": 1
          },
          {
           "sample_id": 0,
           "timepoint": 52,
           "trajectory": "H_data",
           "value": 0
          },
          {
           "sample_id": 0,
           "timepoint": 53,
           "trajectory": "H_data",
           "value": 0
          },
          {
           "sample_id": 0,
           "timepoint": 54,
           "trajectory": "H_data",
           "value": 1
          },
          {
           "sample_id": 0,
           "timepoint": 55,
           "trajectory": "H_data",
           "value": 0
          },
          {
           "sample_id": 0,
           "timepoint": 56,
           "trajectory": "H_data",
           "value": 0
          },
          {
           "sample_id": 0,
           "timepoint": 57,
           "trajectory": "H_data",
           "value": 0
          },
          {
           "sample_id": 0,
           "timepoint": 58,
           "trajectory": "H_data",
           "value": 0
          },
          {
           "sample_id": 0,
           "timepoint": 59,
           "trajectory": "H_data",
           "value": 0
          },
          {
           "sample_id": 0,
           "timepoint": 0,
           "trajectory": "D_data",
           "value": 0
          },
          {
           "sample_id": 0,
           "timepoint": 1,
           "trajectory": "D_data",
           "value": 0
          },
          {
           "sample_id": 0,
           "timepoint": 2,
           "trajectory": "D_data",
           "value": 0
          },
          {
           "sample_id": 0,
           "timepoint": 3,
           "trajectory": "D_data",
           "value": 0
          },
          {
           "sample_id": 0,
           "timepoint": 4,
           "trajectory": "D_data",
           "value": 0
          },
          {
           "sample_id": 0,
           "timepoint": 5,
           "trajectory": "D_data",
           "value": 0
          },
          {
           "sample_id": 0,
           "timepoint": 6,
           "trajectory": "D_data",
           "value": 0
          },
          {
           "sample_id": 0,
           "timepoint": 7,
           "trajectory": "D_data",
           "value": 0
          },
          {
           "sample_id": 0,
           "timepoint": 8,
           "trajectory": "D_data",
           "value": 1
          },
          {
           "sample_id": 0,
           "timepoint": 9,
           "trajectory": "D_data",
           "value": 1
          },
          {
           "sample_id": 0,
           "timepoint": 10,
           "trajectory": "D_data",
           "value": 1
          },
          {
           "sample_id": 0,
           "timepoint": 11,
           "trajectory": "D_data",
           "value": 4
          },
          {
           "sample_id": 0,
           "timepoint": 12,
           "trajectory": "D_data",
           "value": 9
          },
          {
           "sample_id": 0,
           "timepoint": 13,
           "trajectory": "D_data",
           "value": 19
          },
          {
           "sample_id": 0,
           "timepoint": 14,
           "trajectory": "D_data",
           "value": 30
          },
          {
           "sample_id": 0,
           "timepoint": 15,
           "trajectory": "D_data",
           "value": 51
          },
          {
           "sample_id": 0,
           "timepoint": 16,
           "trajectory": "D_data",
           "value": 77
          },
          {
           "sample_id": 0,
           "timepoint": 17,
           "trajectory": "D_data",
           "value": 129
          },
          {
           "sample_id": 0,
           "timepoint": 18,
           "trajectory": "D_data",
           "value": 175
          },
          {
           "sample_id": 0,
           "timepoint": 19,
           "trajectory": "D_data",
           "value": 226
          },
          {
           "sample_id": 0,
           "timepoint": 20,
           "trajectory": "D_data",
           "value": 315
          },
          {
           "sample_id": 0,
           "timepoint": 21,
           "trajectory": "D_data",
           "value": 427
          },
          {
           "sample_id": 0,
           "timepoint": 22,
           "trajectory": "D_data",
           "value": 565
          },
          {
           "sample_id": 0,
           "timepoint": 23,
           "trajectory": "D_data",
           "value": 759
          },
          {
           "sample_id": 0,
           "timepoint": 24,
           "trajectory": "D_data",
           "value": 984
          },
          {
           "sample_id": 0,
           "timepoint": 25,
           "trajectory": "D_data",
           "value": 1285
          },
          {
           "sample_id": 0,
           "timepoint": 26,
           "trajectory": "D_data",
           "value": 1603
          },
          {
           "sample_id": 0,
           "timepoint": 27,
           "trajectory": "D_data",
           "value": 1930
          },
          {
           "sample_id": 0,
           "timepoint": 28,
           "trajectory": "D_data",
           "value": 2334
          },
          {
           "sample_id": 0,
           "timepoint": 29,
           "trajectory": "D_data",
           "value": 2859
          },
          {
           "sample_id": 0,
           "timepoint": 30,
           "trajectory": "D_data",
           "value": 3420
          },
          {
           "sample_id": 0,
           "timepoint": 31,
           "trajectory": "D_data",
           "value": 3989
          },
          {
           "sample_id": 0,
           "timepoint": 32,
           "trajectory": "D_data",
           "value": 4634
          },
          {
           "sample_id": 0,
           "timepoint": 33,
           "trajectory": "D_data",
           "value": 5384
          },
          {
           "sample_id": 0,
           "timepoint": 34,
           "trajectory": "D_data",
           "value": 6185
          },
          {
           "sample_id": 0,
           "timepoint": 35,
           "trajectory": "D_data",
           "value": 7241
          },
          {
           "sample_id": 0,
           "timepoint": 36,
           "trajectory": "D_data",
           "value": 7985
          },
          {
           "sample_id": 0,
           "timepoint": 37,
           "trajectory": "D_data",
           "value": 8846
          },
          {
           "sample_id": 0,
           "timepoint": 38,
           "trajectory": "D_data",
           "value": 9579
          },
          {
           "sample_id": 0,
           "timepoint": 39,
           "trajectory": "D_data",
           "value": 10345
          },
          {
           "sample_id": 0,
           "timepoint": 40,
           "trajectory": "D_data",
           "value": 11126
          },
          {
           "sample_id": 0,
           "timepoint": 41,
           "trajectory": "D_data",
           "value": 11930
          },
          {
           "sample_id": 0,
           "timepoint": 42,
           "trajectory": "D_data",
           "value": 12669
          },
          {
           "sample_id": 0,
           "timepoint": 43,
           "trajectory": "D_data",
           "value": 13332
          },
          {
           "sample_id": 0,
           "timepoint": 44,
           "trajectory": "D_data",
           "value": 13987
          },
          {
           "sample_id": 0,
           "timepoint": 45,
           "trajectory": "D_data",
           "value": 14371
          },
          {
           "sample_id": 0,
           "timepoint": 46,
           "trajectory": "D_data",
           "value": 14780
          },
          {
           "sample_id": 0,
           "timepoint": 47,
           "trajectory": "D_data",
           "value": 15225
          },
          {
           "sample_id": 0,
           "timepoint": 48,
           "trajectory": "D_data",
           "value": 16116
          },
          {
           "sample_id": 0,
           "timepoint": 49,
           "trajectory": "D_data",
           "value": 16639
          },
          {
           "sample_id": 0,
           "timepoint": 50,
           "trajectory": "D_data",
           "value": 17091
          },
          {
           "sample_id": 0,
           "timepoint": 51,
           "trajectory": "D_data",
           "value": 17647
          },
          {
           "sample_id": 0,
           "timepoint": 52,
           "trajectory": "D_data",
           "value": 18132
          },
          {
           "sample_id": 0,
           "timepoint": 53,
           "trajectory": "D_data",
           "value": 18523
          },
          {
           "sample_id": 0,
           "timepoint": 54,
           "trajectory": "D_data",
           "value": 18882
          },
          {
           "sample_id": 0,
           "timepoint": 55,
           "trajectory": "D_data",
           "value": 19292
          },
          {
           "sample_id": 0,
           "timepoint": 56,
           "trajectory": "D_data",
           "value": 19602
          },
          {
           "sample_id": 0,
           "timepoint": 57,
           "trajectory": "D_data",
           "value": 20000
          },
          {
           "sample_id": 0,
           "timepoint": 58,
           "trajectory": "D_data",
           "value": 20334
          },
          {
           "sample_id": 0,
           "timepoint": 59,
           "trajectory": "D_data",
           "value": 20662
          }
         ]
        },
        {
         "name": "markers",
         "values": []
        },
        {
         "name": "selected",
         "on": [
          {
           "remove": true,
           "trigger": "clear"
          },
          {
           "remove": true,
           "trigger": "!shift"
          },
          {
           "insert": "clicked",
           "trigger": "!shift && clicked"
          },
          {
           "toggle": "clicked",
           "trigger": "shift && clicked"
          }
         ]
        }
       ],
       "height": 300,
       "legends": [
        {
         "encode": {
          "labels": {
           "interactive": true,
           "name": "legendLabel",
           "update": {
            "opacity": [
             {
              "test": "!length(data('selected')) || indata('selected', 'value', datum.value)",
              "value": 1
             },
             {
              "value": 0.25
             }
            ]
           }
          },
          "symbols": {
           "interactive": true,
           "name": "legendSymbol",
           "update": {
            "fill": {
             "value": "transparent"
            },
            "opacity": [
             {
              "test": "!length(data('selected')) || indata('selected', 'value', datum.value)",
              "value": 0.7
             },
             {
              "value": 0.15
             }
            ],
            "size": {
             "value": 64
            },
            "strokeWidth": {
             "value": 2
            }
           }
          }
         },
         "name": "color_legend",
         "stroke": "color"
        }
       ],
       "marks": [
        {
         "from": {
          "facet": {
           "data": "points",
           "groupby": "trajectory",
           "name": "points_split"
          }
         },
         "marks": [
          {
           "encode": {
            "hover": {
             "fillOpacity": {
              "value": 0.9
             }
            },
            "update": {
             "fill": {
              "field": "trajectory",
              "scale": "color"
             },
             "fillOpacity": [
              {
               "test": "!length(data('selected')) || indata('selected', 'value', datum.trajectory)",
               "value": 0.5
              },
              {
               "value": 0.15
              }
             ],
             "size": {
              "value": 10
             },
             "stroke": {
              "field": "trajectory",
              "scale": "color"
             },
             "strokeOpacity": [
              {
               "test": "!length(data('selected')) || indata('selected', 'value', datum.trajectory)",
               "value": 0.75
              },
              {
               "value": 0.15
              }
             ],
             "strokeWidth": {
              "value": 2
             },
             "tooltip": {
              "field": "value"
             },
             "x": {
              "field": "timepoint",
              "scale": "xscale"
             },
             "y": {
              "field": "value",
              "scale": "yscale"
             }
            }
           },
           "from": {
            "data": "points"
           },
           "name": "_points_symbol",
           "type": "symbol",
           "zindex": 3
          },
          {
           "encode": {
            "hover": {
             "fillOpacity": {
              "value": 0.9
             }
            },
            "update": {
             "interpolate": {
              "value": "linear"
             },
             "stroke": {
              "field": "trajectory",
              "scale": "color"
             },
             "strokeOpacity": [
              {
               "test": "!length(data('selected')) || indata('selected', 'value', datum.trajectory)",
               "value": 0.3
              },
              {
               "value": 0.1
              }
             ],
             "strokeWidth": {
              "value": 2
             },
             "x": {
              "field": "timepoint",
              "scale": "xscale"
             },
             "y": {
              "field": "value",
              "scale": "yscale"
             }
            }
           },
           "from": {
            "data": "points"
           },
           "name": "_points_line",
           "type": "line",
           "zindex": 3
          }
         ],
         "name": "_points",
         "type": "group",
         "zindex": 3
        },
        {
         "from": {
          "facet": {
           "data": "traces",
           "groupby": "trajectory",
           "name": "traces_split"
          }
         },
         "marks": [
          {
           "encode": {
            "hover": {
             "fillOpacity": {
              "value": 0.9
             }
            },
            "update": {
             "interpolate": {
              "value": "linear"
             },
             "stroke": {
              "field": "trajectory",
              "scale": "color"
             },
             "strokeOpacity": [
              {
               "test": "!length(data('selected')) || indata('selected', 'value', datum.trajectory)",
               "value": 0.75
              },
              {
               "value": 0.15
              }
             ],
             "strokeWidth": {
              "value": 2
             },
             "x": {
              "field": "timepoint",
              "scale": "xscale"
             },
             "y": {
              "field": "value",
              "scale": "yscale"
             }
            }
           },
           "from": {
            "data": "traces_split"
           },
           "name": "_traces_lines",
           "type": "line"
          }
         ],
         "name": "_traces",
         "type": "group",
         "zindex": 2
        },
        {
         "from": {
          "facet": {
           "data": "distributions",
           "groupby": "trajectory",
           "name": "trajectory_split"
          }
         },
         "marks": [
          {
           "encode": {
            "hover": {
             "fillOpacity": {
              "value": 0.9
             }
            },
            "update": {
             "fill": {
              "field": "trajectory",
              "scale": "color"
             },
             "fillOpacity": [
              {
               "test": "!length(data('selected')) || indata('selected', 'value', datum.trajectory)",
               "value": 0.5
              },
              {
               "value": 0.15
              }
             ],
             "interpolate": {
              "value": "linear"
             },
             "stroke": {
              "field": "trajectory",
              "scale": "color"
             },
             "strokeOpacity": [
              {
               "test": "!length(data('selected')) || indata('selected', 'value', datum.trajectory)",
               "value": 0.75
              },
              {
               "value": 0.15
              }
             ],
             "strokeWidth": {
              "value": 2
             },
             "x": {
              "field": "timepoint",
              "scale": "xscale"
             },
             "y": {
              "field": "upper",
              "scale": "yscale"
             },
             "y2": {
              "field": "lower",
              "scale": "yscale"
             }
            }
           },
           "from": {
            "data": "trajectory_split"
           },
           "type": "area"
          }
         ],
         "name": "_distributions",
         "type": "group",
         "zindex": 1
        },
        {
         "marks": [
          {
           "encode": {
            "enter": {
             "stroke": {
              "value": "lightgray"
             }
            },
            "update": {
             "opacity": {
              "value": 1
             },
             "x": {
              "field": "timepoint",
              "scale": "xscale"
             },
             "y": {
              "signal": "height"
             },
             "y2": {
              "value": 0
             }
            }
           },
           "from": {
            "data": "markers"
           },
           "name": "_marker text",
           "type": "rule"
          },
          {
           "encode": {
            "enter": {
             "fontSize": {
              "value": 8
             },
             "text": {
              "field": "datum.label"
             },
             "y": {
              "value": 0
             }
            }
           },
           "from": {
            "data": "_marker text"
           },
           "name": "_marker flags",
           "transform": [
            {
             "as": [
              "x",
              "_y",
              "opacity",
              "align",
              "baseline"
             ],
             "lineAnchor": "start",
             "offset": [
              1
             ],
             "size": {
              "signal": "[width, height]"
             },
             "type": "label"
            }
           ],
           "type": "text"
          }
         ],
         "name": "_markers",
         "type": "group"
        }
       ],
       "padding": 5,
       "scales": [
        {
         "domain": {
          "fields": [
           {
            "data": "distributions",
            "field": "timepoint"
           },
           {
            "data": "traces",
            "field": "timepoint"
           },
           {
            "data": "points",
            "field": "timepoint"
           },
           {
            "data": "markers",
            "field": "timepoint"
           }
          ]
         },
         "name": "xscale",
         "range": "width",
         "type": "linear",
         "zero": false
        },
        {
         "domain": {
          "fields": [
           {
            "data": "distributions",
            "field": "lower"
           },
           {
            "data": "distributions",
            "field": "upper"
           },
           {
            "data": "traces",
            "field": "value"
           },
           {
            "data": "points",
            "field": "value"
           }
          ]
         },
         "name": "yscale",
         "nice": true,
         "range": "height",
         "type": "linear",
         "zero": true
        },
        {
         "domain": {
          "fields": [
           {
            "data": "distributions",
            "field": "trajectory"
           },
           {
            "data": "traces",
            "field": "trajectory"
           },
           {
            "data": "points",
            "field": "trajectory"
           }
          ]
         },
         "name": "color",
         "range": "category",
         "type": "ordinal"
        }
       ],
       "signals": [
        {
         "name": "clear",
         "on": [
          {
           "events": "mouseup[!event.item]",
           "force": true,
           "update": "true"
          }
         ],
         "value": true
        },
        {
         "name": "shift",
         "on": [
          {
           "events": "@legendSymbol:click, @legendLabel:click",
           "force": true,
           "update": "event.shiftKey"
          }
         ],
         "value": false
        },
        {
         "name": "clicked",
         "on": [
          {
           "events": "@legendSymbol:click, @legendLabel:click",
           "force": true,
           "update": "{value: datum.value}"
          }
         ],
         "value": null
        }
       ],
       "width": 500
      }
     },
     "metadata": {},
     "output_type": "display_data"
    }
   ],
   "source": [
    "num_samples = 100\n",
    "model_paths = [model6_location]\n",
    "data_path = \"../../notebook/ensemble_eval_sa/datasets/NY_data1.csv\"\n",
    "weights = [1]\n",
    "solution_mappings = [{\"I\": \"infected\", \"D\": \"dead\"}]\n",
    "\n",
    "# Run the calibration and sampling\n",
    "result2 = load_and_calibrate_and_sample_ensemble_model(\n",
    "    model_paths,\n",
    "    data_path,\n",
    "    weights,\n",
    "    solution_mappings,\n",
    "    num_samples,\n",
    "    timepoints,\n",
    "    verbose=True,\n",
    "    total_population=19340000,\n",
    "    num_iterations=100,\n",
    "    time_unit=\"days\",\n",
    "    visual_options={\"title\": \"Calibrated Ensemble\", \"subset\":\".*_sol\"}\n",
    ")\n",
    "\n",
    "# # Save results\n",
    "# result2[\"data\"].to_csv(\"../../notebook/ensemble_eval_sa/ensemble_results/partI_ensemble_of_one_results.csv\", index=False)\n",
    "# result2[\"quantiles\"].to_csv(\"../../notebook/ensemble_eval_sa/ensemble_results/partI_ensemble_of_one_quantiles.csv\", index=False)\n",
    "\n",
    "# Plot results\n",
    "schema = plots.trajectories(pd.DataFrame(result2[\"data\"]), subset=\".*_sol\",\n",
    "                            points=test_data.reset_index(drop=True).rename(columns={\"I\":\"I_data\", \"H\":\"H_data\", \"D\":\"D_data\"}),\n",
    "                           )\n",
    "schema = plots.pad(schema, 5)\n",
    "plots.ipy_display(schema)"
   ]
  },
  {
   "cell_type": "code",
   "execution_count": null,
   "id": "654bb2a6-f7dd-45bb-9ebe-183ac72bd67e",
   "metadata": {},
   "outputs": [],
   "source": [
    "num_samples = 100\n",
    "model_paths = [model7_location]\n",
    "data_path = \"../../notebook/ensemble_eval_sa/datasets/NY_data1.csv\"\n",
    "weights = [1]\n",
    "solution_mappings = [{\"I\": \"infected\", \"D\": \"dead\"}]\n",
    "\n",
    "# Run the calibration and sampling\n",
    "result3 = load_and_calibrate_and_sample_ensemble_model(\n",
    "    model_paths,\n",
    "    data_path,\n",
    "    weights,\n",
    "    solution_mappings,\n",
    "    num_samples,\n",
    "    timepoints,\n",
    "    verbose=True,\n",
    "    total_population=19340000,\n",
    "    num_iterations=50,\n",
    "    time_unit=\"days\",\n",
    "    visual_options={\"title\": \"Calibrated Ensemble\", \"subset\":\".*_sol\"}\n",
    ")\n",
    "\n",
    "# # Save results\n",
    "# result3[\"data\"].to_csv(\"../../notebook/ensemble_eval_sa/ensemble_results/partI_ensemble_of_one_results.csv\", index=False)\n",
    "# result3[\"quantiles\"].to_csv(\"../../notebook/ensemble_eval_sa/ensemble_results/partI_ensemble_of_one_quantiles.csv\", index=False)\n",
    "\n",
    "# Plot results\n",
    "schema = plots.trajectories(pd.DataFrame(result3[\"data\"]), subset=\".*_sol\",\n",
    "                            points=test_data.reset_index(drop=True).rename(columns={\"I\":\"I_data\", \"H\":\"H_data\", \"D\":\"D_data\"}),\n",
    "                           )\n",
    "schema = plots.pad(schema, 5)\n",
    "plots.ipy_display(schema)"
   ]
  },
  {
   "cell_type": "markdown",
   "id": "2ded2349-d56b-4fe5-a685-06b37cc78831",
   "metadata": {},
   "source": [
    "# Calibrate and sample an ensemble of multiple models"
   ]
  },
  {
   "cell_type": "code",
   "execution_count": 9,
   "id": "5220df5c-61a0-47ad-ac94-fc543e8cb523",
   "metadata": {},
   "outputs": [
    {
     "name": "stdout",
     "output_type": "stream",
     "text": [
      "iteration 0: loss = 756.1536805331707\n",
      "iteration 25: loss = 724.2042917907238\n",
      "iteration 50: loss = 668.4412952363491\n",
      "iteration 75: loss = 657.3987860381603\n",
      "iteration 100: loss = 649.1626441180706\n",
      "iteration 125: loss = 650.6445612609386\n",
      "iteration 150: loss = 644.6379594504833\n",
      "iteration 175: loss = 639.5945779979229\n",
      "iteration 200: loss = 644.4095016419888\n",
      "iteration 225: loss = 638.1881293952465\n",
      "iteration 250: loss = 638.655171841383\n",
      "iteration 275: loss = 637.6174668967724\n",
      "\n"
     ]
    },
    {
     "data": {
      "application/vnd.vega.v5+json": {
       "$schema": "https://vega.github.io/schema/vega/v5.json",
       "axes": [
        {
         "name": "x_axis",
         "orient": "bottom",
         "scale": "xscale",
         "zindex": 100
        },
        {
         "name": "y_axis",
         "orient": "left",
         "scale": "yscale",
         "zindex": 100
        }
       ],
       "data": [
        {
         "name": "distributions",
         "values": [
          {
           "lower": 1.3367667523645005e-22,
           "timepoint": 0,
           "trajectory": "D_sol",
           "upper": 1.4220779029138152e-21
          },
          {
           "lower": 0.015602968074381352,
           "timepoint": 1,
           "trajectory": "D_sol",
           "upper": 0.15806054100394246
          },
          {
           "lower": 0.0666292916983366,
           "timepoint": 2,
           "trajectory": "D_sol",
           "upper": 0.6868058741092681
          },
          {
           "lower": 0.15734474137425422,
           "timepoint": 3,
           "trajectory": "D_sol",
           "upper": 1.6591433107852933
          },
          {
           "lower": 0.29110101908445357,
           "timepoint": 4,
           "trajectory": "D_sol",
           "upper": 3.150152158737182
          },
          {
           "lower": 0.4725895285606384,
           "timepoint": 5,
           "trajectory": "D_sol",
           "upper": 5.249507665634154
          },
          {
           "lower": 0.707674327492714,
           "timepoint": 6,
           "trajectory": "D_sol",
           "upper": 8.070708894729613
          },
          {
           "lower": 1.0067350029945374,
           "timepoint": 7,
           "trajectory": "D_sol",
           "upper": 11.759383010864255
          },
          {
           "lower": 1.415411239862442,
           "timepoint": 8,
           "trajectory": "D_sol",
           "upper": 16.50198173522949
          },
          {
           "lower": 1.8946967542171478,
           "timepoint": 9,
           "trajectory": "D_sol",
           "upper": 22.535849666595453
          },
          {
           "lower": 2.4421356916427612,
           "timepoint": 10,
           "trajectory": "D_sol",
           "upper": 30.16140871047973
          },
          {
           "lower": 3.0980381608009337,
           "timepoint": 11,
           "trajectory": "D_sol",
           "upper": 39.757038688659655
          },
          {
           "lower": 3.8835126757621765,
           "timepoint": 12,
           "trajectory": "D_sol",
           "upper": 51.7974582672119
          },
          {
           "lower": 4.864050650596619,
           "timepoint": 13,
           "trajectory": "D_sol",
           "upper": 66.87619705200193
          },
          {
           "lower": 6.190563654899597,
           "timepoint": 14,
           "trajectory": "D_sol",
           "upper": 85.73223533630369
          },
          {
           "lower": 7.838933753967285,
           "timepoint": 15,
           "trajectory": "D_sol",
           "upper": 109.53887443542477
          },
          {
           "lower": 9.886374568939209,
           "timepoint": 16,
           "trajectory": "D_sol",
           "upper": 139.65141983032223
          },
          {
           "lower": 12.427143478393555,
           "timepoint": 17,
           "trajectory": "D_sol",
           "upper": 177.37472152709955
          },
          {
           "lower": 15.521905755996704,
           "timepoint": 18,
           "trajectory": "D_sol",
           "upper": 225.19735946655268
          },
          {
           "lower": 19.271149349212646,
           "timepoint": 19,
           "trajectory": "D_sol",
           "upper": 285.0309753417968
          },
          {
           "lower": 23.873136711120605,
           "timepoint": 20,
           "trajectory": "D_sol",
           "upper": 359.33933563232415
          },
          {
           "lower": 29.48377685546875,
           "timepoint": 21,
           "trajectory": "D_sol",
           "upper": 450.83714752197255
          },
          {
           "lower": 36.05797939300537,
           "timepoint": 22,
           "trajectory": "D_sol",
           "upper": 562.1998474121093
          },
          {
           "lower": 43.57565155029297,
           "timepoint": 23,
           "trajectory": "D_sol",
           "upper": 695.768307495117
          },
          {
           "lower": 52.40857639312744,
           "timepoint": 24,
           "trajectory": "D_sol",
           "upper": 853.2490081787108
          },
          {
           "lower": 62.62670421600342,
           "timepoint": 25,
           "trajectory": "D_sol",
           "upper": 1035.4584167480468
          },
          {
           "lower": 74.25390014648437,
           "timepoint": 26,
           "trajectory": "D_sol",
           "upper": 1242.250274658203
          },
          {
           "lower": 87.26957244873047,
           "timepoint": 27,
           "trajectory": "D_sol",
           "upper": 1472.5552307128905
          },
          {
           "lower": 101.61501197814941,
           "timepoint": 28,
           "trajectory": "D_sol",
           "upper": 1724.5489990234373
          },
          {
           "lower": 117.20354232788087,
           "timepoint": 29,
           "trajectory": "D_sol",
           "upper": 1995.8619506835937
          },
          {
           "lower": 133.93069190979003,
           "timepoint": 30,
           "trajectory": "D_sol",
           "upper": 2283.8183471679686
          },
          {
           "lower": 151.68292388916015,
           "timepoint": 31,
           "trajectory": "D_sol",
           "upper": 2585.6186035156247
          },
          {
           "lower": 170.3464698791504,
           "timepoint": 32,
           "trajectory": "D_sol",
           "upper": 2898.497766113281
          },
          {
           "lower": 189.81023025512695,
           "timepoint": 33,
           "trajectory": "D_sol",
           "upper": 3219.8409423828125
          },
          {
           "lower": 209.97147598266602,
           "timepoint": 34,
           "trajectory": "D_sol",
           "upper": 3547.243603515625
          },
          {
           "lower": 230.0242904663086,
           "timepoint": 35,
           "trajectory": "D_sol",
           "upper": 3879.0857055664064
          },
          {
           "lower": 249.16518936157226,
           "timepoint": 36,
           "trajectory": "D_sol",
           "upper": 4214.974169921875
          },
          {
           "lower": 268.4722129821777,
           "timepoint": 37,
           "trajectory": "D_sol",
           "upper": 4550.801098632813
          },
          {
           "lower": 287.88074340820316,
           "timepoint": 38,
           "trajectory": "D_sol",
           "upper": 4884.329125976562
          },
          {
           "lower": 307.33673095703125,
           "timepoint": 39,
           "trajectory": "D_sol",
           "upper": 5215.787841796875
          },
          {
           "lower": 326.79593353271486,
           "timepoint": 40,
           "trajectory": "D_sol",
           "upper": 5544.218188476562
          },
          {
           "lower": 346.2219436645508,
           "timepoint": 41,
           "trajectory": "D_sol",
           "upper": 5868.842700195312
          },
          {
           "lower": 365.5860137939453,
           "timepoint": 42,
           "trajectory": "D_sol",
           "upper": 6189.039819335937
          },
          {
           "lower": 384.8654983520508,
           "timepoint": 43,
           "trajectory": "D_sol",
           "upper": 6504.3109130859375
          },
          {
           "lower": 404.04263763427736,
           "timepoint": 44,
           "trajectory": "D_sol",
           "upper": 6814.273291015625
          },
          {
           "lower": 423.10449676513673,
           "timepoint": 45,
           "trajectory": "D_sol",
           "upper": 7118.619116210937
          },
          {
           "lower": 442.0411651611328,
           "timepoint": 46,
           "trajectory": "D_sol",
           "upper": 7417.15419921875
          },
          {
           "lower": 460.84601440429685,
           "timepoint": 47,
           "trajectory": "D_sol",
           "upper": 7709.716137695313
          },
          {
           "lower": 479.51427001953124,
           "timepoint": 48,
           "trajectory": "D_sol",
           "upper": 7937.204565429687
          },
          {
           "lower": 498.0434631347656,
           "timepoint": 49,
           "trajectory": "D_sol",
           "upper": 8140.007592773437
          },
          {
           "lower": 516.4328079223633,
           "timepoint": 50,
           "trajectory": "D_sol",
           "upper": 8332.633105468749
          },
          {
           "lower": 534.6817901611328,
           "timepoint": 51,
           "trajectory": "D_sol",
           "upper": 8515.676904296874
          },
          {
           "lower": 552.79248046875,
           "timepoint": 52,
           "trajectory": "D_sol",
           "upper": 8714.964257812499
          },
          {
           "lower": 570.7654754638672,
           "timepoint": 53,
           "trajectory": "D_sol",
           "upper": 9002.678173828124
          },
          {
           "lower": 588.6022094726562,
           "timepoint": 54,
           "trajectory": "D_sol",
           "upper": 9287.211328124999
          },
          {
           "lower": 606.3064544677734,
           "timepoint": 55,
           "trajectory": "D_sol",
           "upper": 9568.556494140625
          },
          {
           "lower": 623.8797973632812,
           "timepoint": 56,
           "trajectory": "D_sol",
           "upper": 9846.704394531249
          },
          {
           "lower": 641.3254119873047,
           "timepoint": 57,
           "trajectory": "D_sol",
           "upper": 10121.652783203124
          },
          {
           "lower": 661.3068908691406,
           "timepoint": 58,
           "trajectory": "D_sol",
           "upper": 10393.417529296874
          },
          {
           "lower": 681.735220336914,
           "timepoint": 59,
           "trajectory": "D_sol",
           "upper": 10662.01015625
          },
          {
           "lower": 146.10278091430663,
           "timepoint": 0,
           "trajectory": "I_sol",
           "upper": 179.73041534423828
          },
          {
           "lower": 229.74271697998046,
           "timepoint": 1,
           "trajectory": "I_sol",
           "upper": 301.6361022949219
          },
          {
           "lower": 309.5531295776367,
           "timepoint": 2,
           "trajectory": "I_sol",
           "upper": 410.99012756347656
          },
          {
           "lower": 399.47533111572267,
           "timepoint": 3,
           "trajectory": "I_sol",
           "upper": 523.2353454589844
          },
          {
           "lower": 500.51407623291016,
           "timepoint": 4,
           "trajectory": "I_sol",
           "upper": 651.8686553955079
          },
          {
           "lower": 631.1096557617187,
           "timepoint": 5,
           "trajectory": "I_sol",
           "upper": 813.7726776123047
          },
          {
           "lower": 788.9706573486328,
           "timepoint": 6,
           "trajectory": "I_sol",
           "upper": 1017.3218017578125
          },
          {
           "lower": 985.9689697265625,
           "timepoint": 7,
           "trajectory": "I_sol",
           "upper": 1265.5451599121093
          },
          {
           "lower": 1208.8255798339844,
           "timepoint": 8,
           "trajectory": "I_sol",
           "upper": 1568.1165588378906
          },
          {
           "lower": 1491.9990478515624,
           "timepoint": 9,
           "trajectory": "I_sol",
           "upper": 1964.618322753906
          },
          {
           "lower": 1871.5837524414062,
           "timepoint": 10,
           "trajectory": "I_sol",
           "upper": 2466.762170410156
          },
          {
           "lower": 2310.7666015625,
           "timepoint": 11,
           "trajectory": "I_sol",
           "upper": 3096.9954956054685
          },
          {
           "lower": 2885.982312011719,
           "timepoint": 12,
           "trajectory": "I_sol",
           "upper": 3907.969384765625
          },
          {
           "lower": 3585.3110107421876,
           "timepoint": 13,
           "trajectory": "I_sol",
           "upper": 4938.874755859375
          },
          {
           "lower": 4472.234106445312,
           "timepoint": 14,
           "trajectory": "I_sol",
           "upper": 6231.21591796875
          },
          {
           "lower": 5575.005786132812,
           "timepoint": 15,
           "trajectory": "I_sol",
           "upper": 7863.973095703125
          },
          {
           "lower": 6938.546606445312,
           "timepoint": 16,
           "trajectory": "I_sol",
           "upper": 9884.439501953126
          },
          {
           "lower": 8583.917626953125,
           "timepoint": 17,
           "trajectory": "I_sol",
           "upper": 12331.165673828125
          },
          {
           "lower": 10487.968896484375,
           "timepoint": 18,
           "trajectory": "I_sol",
           "upper": 15352.793749999999
          },
          {
           "lower": 12711.4740234375,
           "timepoint": 19,
           "trajectory": "I_sol",
           "upper": 18925.740625
          },
          {
           "lower": 15286.125439453124,
           "timepoint": 20,
           "trajectory": "I_sol",
           "upper": 22950.116796875
          },
          {
           "lower": 18032.50634765625,
           "timepoint": 21,
           "trajectory": "I_sol",
           "upper": 27508.3501953125
          },
          {
           "lower": 20776.90126953125,
           "timepoint": 22,
           "trajectory": "I_sol",
           "upper": 32168.25
          },
          {
           "lower": 23325.533984375,
           "timepoint": 23,
           "trajectory": "I_sol",
           "upper": 36717.9607421875
          },
          {
           "lower": 25697.8265625,
           "timepoint": 24,
           "trajectory": "I_sol",
           "upper": 40887.3314453125
          },
          {
           "lower": 27624.6373046875,
           "timepoint": 25,
           "trajectory": "I_sol",
           "upper": 44467.8291015625
          },
          {
           "lower": 28959.0765625,
           "timepoint": 26,
           "trajectory": "I_sol",
           "upper": 47363.915624999994
          },
          {
           "lower": 29592.88984375,
           "timepoint": 27,
           "trajectory": "I_sol",
           "upper": 49696.532421874996
          },
          {
           "lower": 29600.27021484375,
           "timepoint": 28,
           "trajectory": "I_sol",
           "upper": 52004.3314453125
          },
          {
           "lower": 29675.12744140625,
           "timepoint": 29,
           "trajectory": "I_sol",
           "upper": 53862.4751953125
          },
          {
           "lower": 29572.5509765625,
           "timepoint": 30,
           "trajectory": "I_sol",
           "upper": 55003.71796875
          },
          {
           "lower": 28376.57705078125,
           "timepoint": 31,
           "trajectory": "I_sol",
           "upper": 55368.536328124996
          },
          {
           "lower": 27051.41650390625,
           "timepoint": 32,
           "trajectory": "I_sol",
           "upper": 55455.2478515625
          },
          {
           "lower": 26050.138671875,
           "timepoint": 33,
           "trajectory": "I_sol",
           "upper": 55595.2138671875
          },
          {
           "lower": 24666.22578125,
           "timepoint": 34,
           "trajectory": "I_sol",
           "upper": 55817.0806640625
          },
          {
           "lower": 23274.68974609375,
           "timepoint": 35,
           "trajectory": "I_sol",
           "upper": 55914.88671875
          },
          {
           "lower": 21902.12001953125,
           "timepoint": 36,
           "trajectory": "I_sol",
           "upper": 55967.5267578125
          },
          {
           "lower": 20568.6021484375,
           "timepoint": 37,
           "trajectory": "I_sol",
           "upper": 55935.7884765625
          },
          {
           "lower": 19290.147265625,
           "timepoint": 38,
           "trajectory": "I_sol",
           "upper": 55853.2
          },
          {
           "lower": 18068.36123046875,
           "timepoint": 39,
           "trajectory": "I_sol",
           "upper": 55732.8984375
          },
          {
           "lower": 16907.49365234375,
           "timepoint": 40,
           "trajectory": "I_sol",
           "upper": 55584.879296875
          },
          {
           "lower": 15809.36103515625,
           "timepoint": 41,
           "trajectory": "I_sol",
           "upper": 55416.397656249996
          },
          {
           "lower": 14774.086474609376,
           "timepoint": 42,
           "trajectory": "I_sol",
           "upper": 55233.175390624994
          },
          {
           "lower": 13800.5482421875,
           "timepoint": 43,
           "trajectory": "I_sol",
           "upper": 55147.73183593749
          },
          {
           "lower": 12942.674755859374,
           "timepoint": 44,
           "trajectory": "I_sol",
           "upper": 55493.59765624999
          },
          {
           "lower": 12160.44765625,
           "timepoint": 45,
           "trajectory": "I_sol",
           "upper": 55846.7591796875
          },
          {
           "lower": 11429.26728515625,
           "timepoint": 46,
           "trajectory": "I_sol",
           "upper": 56208.216406249994
          },
          {
           "lower": 10749.44140625,
           "timepoint": 47,
           "trajectory": "I_sol",
           "upper": 56578.686132812494
          },
          {
           "lower": 10119.628369140624,
           "timepoint": 48,
           "trajectory": "I_sol",
           "upper": 56949.6689453125
          },
          {
           "lower": 9531.61376953125,
           "timepoint": 49,
           "trajectory": "I_sol",
           "upper": 57180.332421875
          },
          {
           "lower": 8982.73427734375,
           "timepoint": 50,
           "trajectory": "I_sol",
           "upper": 57012.45625
          },
          {
           "lower": 8491.043359375,
           "timepoint": 51,
           "trajectory": "I_sol",
           "upper": 56838.9822265625
          },
          {
           "lower": 8032.001782226563,
           "timepoint": 52,
           "trajectory": "I_sol",
           "upper": 56663.9873046875
          },
          {
           "lower": 7536.919360351562,
           "timepoint": 53,
           "trajectory": "I_sol",
           "upper": 56453.832421875
          },
          {
           "lower": 7112.949536132813,
           "timepoint": 54,
           "trajectory": "I_sol",
           "upper": 56217.61875
          },
          {
           "lower": 6717.531689453125,
           "timepoint": 55,
           "trajectory": "I_sol",
           "upper": 55981.9107421875
          },
          {
           "lower": 6348.681494140625,
           "timepoint": 56,
           "trajectory": "I_sol",
           "upper": 55746.6880859375
          },
          {
           "lower": 6004.521899414062,
           "timepoint": 57,
           "trajectory": "I_sol",
           "upper": 55512.0140625
          },
          {
           "lower": 5683.317041015625,
           "timepoint": 58,
           "trajectory": "I_sol",
           "upper": 55277.9154296875
          },
          {
           "lower": 5383.446801757813,
           "timepoint": 59,
           "trajectory": "I_sol",
           "upper": 55044.428125
          }
         ]
        },
        {
         "name": "traces",
         "transform": [
          {
           "expr": "isValid(datum.value)",
           "type": "filter"
          }
         ],
         "values": []
        },
        {
         "name": "points",
         "values": [
          {
           "sample_id": 0,
           "timepoint": 0,
           "trajectory": "I_data",
           "value": 1
          },
          {
           "sample_id": 0,
           "timepoint": 1,
           "trajectory": "I_data",
           "value": 10
          },
          {
           "sample_id": 0,
           "timepoint": 2,
           "trajectory": "I_data",
           "value": 21
          },
          {
           "sample_id": 0,
           "timepoint": 3,
           "trajectory": "I_data",
           "value": 24
          },
          {
           "sample_id": 0,
           "timepoint": 4,
           "trajectory": "I_data",
           "value": 76
          },
          {
           "sample_id": 0,
           "timepoint": 5,
           "trajectory": "I_data",
           "value": 104
          },
          {
           "sample_id": 0,
           "timepoint": 6,
           "trajectory": "I_data",
           "value": 128
          },
          {
           "sample_id": 0,
           "timepoint": 7,
           "trajectory": "I_data",
           "value": 131
          },
          {
           "sample_id": 0,
           "timepoint": 8,
           "trajectory": "I_data",
           "value": 192
          },
          {
           "sample_id": 0,
           "timepoint": 9,
           "trajectory": "I_data",
           "value": 220
          },
          {
           "sample_id": 0,
           "timepoint": 10,
           "trajectory": "I_data",
           "value": 274
          },
          {
           "sample_id": 0,
           "timepoint": 11,
           "trajectory": "I_data",
           "value": 394
          },
          {
           "sample_id": 0,
           "timepoint": 12,
           "trajectory": "I_data",
           "value": 481
          },
          {
           "sample_id": 0,
           "timepoint": 13,
           "trajectory": "I_data",
           "value": 745
          },
          {
           "sample_id": 0,
           "timepoint": 14,
           "trajectory": "I_data",
           "value": 1111
          },
          {
           "sample_id": 0,
           "timepoint": 15,
           "trajectory": "I_data",
           "value": 2128
          },
          {
           "sample_id": 0,
           "timepoint": 16,
           "trajectory": "I_data",
           "value": 3671
          },
          {
           "sample_id": 0,
           "timepoint": 17,
           "trajectory": "I_data",
           "value": 6578
          },
          {
           "sample_id": 0,
           "timepoint": 18,
           "trajectory": "I_data",
           "value": 9449
          },
          {
           "sample_id": 0,
           "timepoint": 19,
           "trajectory": "I_data",
           "value": 13761
          },
          {
           "sample_id": 0,
           "timepoint": 20,
           "trajectory": "I_data",
           "value": 18270
          },
          {
           "sample_id": 0,
           "timepoint": 21,
           "trajectory": "I_data",
           "value": 21478
          },
          {
           "sample_id": 0,
           "timepoint": 22,
           "trajectory": "I_data",
           "value": 23630
          },
          {
           "sample_id": 0,
           "timepoint": 23,
           "trajectory": "I_data",
           "value": 26987
          },
          {
           "sample_id": 0,
           "timepoint": 24,
           "trajectory": "I_data",
           "value": 29533
          },
          {
           "sample_id": 0,
           "timepoint": 25,
           "trajectory": "I_data",
           "value": 31623
          },
          {
           "sample_id": 0,
           "timepoint": 26,
           "trajectory": "I_data",
           "value": 33967
          },
          {
           "sample_id": 0,
           "timepoint": 27,
           "trajectory": "I_data",
           "value": 35822
          },
          {
           "sample_id": 0,
           "timepoint": 28,
           "trajectory": "I_data",
           "value": 38456
          },
          {
           "sample_id": 0,
           "timepoint": 29,
           "trajectory": "I_data",
           "value": 45676
          },
          {
           "sample_id": 0,
           "timepoint": 30,
           "trajectory": "I_data",
           "value": 48380
          },
          {
           "sample_id": 0,
           "timepoint": 31,
           "trajectory": "I_data",
           "value": 51807
          },
          {
           "sample_id": 0,
           "timepoint": 32,
           "trajectory": "I_data",
           "value": 55042
          },
          {
           "sample_id": 0,
           "timepoint": 33,
           "trajectory": "I_data",
           "value": 56847
          },
          {
           "sample_id": 0,
           "timepoint": 34,
           "trajectory": "I_data",
           "value": 52184
          },
          {
           "sample_id": 0,
           "timepoint": 35,
           "trajectory": "I_data",
           "value": 49194
          },
          {
           "sample_id": 0,
           "timepoint": 36,
           "trajectory": "I_data",
           "value": 48730
          },
          {
           "sample_id": 0,
           "timepoint": 37,
           "trajectory": "I_data",
           "value": 50551
          },
          {
           "sample_id": 0,
           "timepoint": 38,
           "trajectory": "I_data",
           "value": 51029
          },
          {
           "sample_id": 0,
           "timepoint": 39,
           "trajectory": "I_data",
           "value": 49701
          },
          {
           "sample_id": 0,
           "timepoint": 40,
           "trajectory": "I_data",
           "value": 50661
          },
          {
           "sample_id": 0,
           "timepoint": 41,
           "trajectory": "I_data",
           "value": 48303
          },
          {
           "sample_id": 0,
           "timepoint": 42,
           "trajectory": "I_data",
           "value": 43703
          },
          {
           "sample_id": 0,
           "timepoint": 43,
           "trajectory": "I_data",
           "value": 38888
          },
          {
           "sample_id": 0,
           "timepoint": 44,
           "trajectory": "I_data",
           "value": 38244
          },
          {
           "sample_id": 0,
           "timepoint": 45,
           "trajectory": "I_data",
           "value": 36857
          },
          {
           "sample_id": 0,
           "timepoint": 46,
           "trajectory": "I_data",
           "value": 35881
          },
          {
           "sample_id": 0,
           "timepoint": 47,
           "trajectory": "I_data",
           "value": 35054
          },
          {
           "sample_id": 0,
           "timepoint": 48,
           "trajectory": "I_data",
           "value": 34782
          },
          {
           "sample_id": 0,
           "timepoint": 49,
           "trajectory": "I_data",
           "value": 31526
          },
          {
           "sample_id": 0,
           "timepoint": 50,
           "trajectory": "I_data",
           "value": 28799
          },
          {
           "sample_id": 0,
           "timepoint": 51,
           "trajectory": "I_data",
           "value": 27419
          },
          {
           "sample_id": 0,
           "timepoint": 52,
           "trajectory": "I_data",
           "value": 27443
          },
          {
           "sample_id": 0,
           "timepoint": 53,
           "trajectory": "I_data",
           "value": 30499
          },
          {
           "sample_id": 0,
           "timepoint": 54,
           "trajectory": "I_data",
           "value": 31543
          },
          {
           "sample_id": 0,
           "timepoint": 55,
           "trajectory": "I_data",
           "value": 31597
          },
          {
           "sample_id": 0,
           "timepoint": 56,
           "trajectory": "I_data",
           "value": 29008
          },
          {
           "sample_id": 0,
           "timepoint": 57,
           "trajectory": "I_data",
           "value": 25476
          },
          {
           "sample_id": 0,
           "timepoint": 58,
           "trajectory": "I_data",
           "value": 20411
          },
          {
           "sample_id": 0,
           "timepoint": 59,
           "trajectory": "I_data",
           "value": 19224
          },
          {
           "sample_id": 0,
           "timepoint": 38,
           "trajectory": "H_data",
           "value": 0
          },
          {
           "sample_id": 0,
           "timepoint": 39,
           "trajectory": "H_data",
           "value": 0
          },
          {
           "sample_id": 0,
           "timepoint": 45,
           "trajectory": "H_data",
           "value": 0
          },
          {
           "sample_id": 0,
           "timepoint": 46,
           "trajectory": "H_data",
           "value": 1
          },
          {
           "sample_id": 0,
           "timepoint": 52,
           "trajectory": "H_data",
           "value": 0
          },
          {
           "sample_id": 0,
           "timepoint": 53,
           "trajectory": "H_data",
           "value": 0
          },
          {
           "sample_id": 0,
           "timepoint": 54,
           "trajectory": "H_data",
           "value": 1
          },
          {
           "sample_id": 0,
           "timepoint": 55,
           "trajectory": "H_data",
           "value": 0
          },
          {
           "sample_id": 0,
           "timepoint": 56,
           "trajectory": "H_data",
           "value": 0
          },
          {
           "sample_id": 0,
           "timepoint": 57,
           "trajectory": "H_data",
           "value": 0
          },
          {
           "sample_id": 0,
           "timepoint": 58,
           "trajectory": "H_data",
           "value": 0
          },
          {
           "sample_id": 0,
           "timepoint": 59,
           "trajectory": "H_data",
           "value": 0
          },
          {
           "sample_id": 0,
           "timepoint": 0,
           "trajectory": "D_data",
           "value": 0
          },
          {
           "sample_id": 0,
           "timepoint": 1,
           "trajectory": "D_data",
           "value": 0
          },
          {
           "sample_id": 0,
           "timepoint": 2,
           "trajectory": "D_data",
           "value": 0
          },
          {
           "sample_id": 0,
           "timepoint": 3,
           "trajectory": "D_data",
           "value": 0
          },
          {
           "sample_id": 0,
           "timepoint": 4,
           "trajectory": "D_data",
           "value": 0
          },
          {
           "sample_id": 0,
           "timepoint": 5,
           "trajectory": "D_data",
           "value": 0
          },
          {
           "sample_id": 0,
           "timepoint": 6,
           "trajectory": "D_data",
           "value": 0
          },
          {
           "sample_id": 0,
           "timepoint": 7,
           "trajectory": "D_data",
           "value": 0
          },
          {
           "sample_id": 0,
           "timepoint": 8,
           "trajectory": "D_data",
           "value": 1
          },
          {
           "sample_id": 0,
           "timepoint": 9,
           "trajectory": "D_data",
           "value": 1
          },
          {
           "sample_id": 0,
           "timepoint": 10,
           "trajectory": "D_data",
           "value": 1
          },
          {
           "sample_id": 0,
           "timepoint": 11,
           "trajectory": "D_data",
           "value": 4
          },
          {
           "sample_id": 0,
           "timepoint": 12,
           "trajectory": "D_data",
           "value": 9
          },
          {
           "sample_id": 0,
           "timepoint": 13,
           "trajectory": "D_data",
           "value": 19
          },
          {
           "sample_id": 0,
           "timepoint": 14,
           "trajectory": "D_data",
           "value": 30
          },
          {
           "sample_id": 0,
           "timepoint": 15,
           "trajectory": "D_data",
           "value": 51
          },
          {
           "sample_id": 0,
           "timepoint": 16,
           "trajectory": "D_data",
           "value": 77
          },
          {
           "sample_id": 0,
           "timepoint": 17,
           "trajectory": "D_data",
           "value": 129
          },
          {
           "sample_id": 0,
           "timepoint": 18,
           "trajectory": "D_data",
           "value": 175
          },
          {
           "sample_id": 0,
           "timepoint": 19,
           "trajectory": "D_data",
           "value": 226
          },
          {
           "sample_id": 0,
           "timepoint": 20,
           "trajectory": "D_data",
           "value": 315
          },
          {
           "sample_id": 0,
           "timepoint": 21,
           "trajectory": "D_data",
           "value": 427
          },
          {
           "sample_id": 0,
           "timepoint": 22,
           "trajectory": "D_data",
           "value": 565
          },
          {
           "sample_id": 0,
           "timepoint": 23,
           "trajectory": "D_data",
           "value": 759
          },
          {
           "sample_id": 0,
           "timepoint": 24,
           "trajectory": "D_data",
           "value": 984
          },
          {
           "sample_id": 0,
           "timepoint": 25,
           "trajectory": "D_data",
           "value": 1285
          },
          {
           "sample_id": 0,
           "timepoint": 26,
           "trajectory": "D_data",
           "value": 1603
          },
          {
           "sample_id": 0,
           "timepoint": 27,
           "trajectory": "D_data",
           "value": 1930
          },
          {
           "sample_id": 0,
           "timepoint": 28,
           "trajectory": "D_data",
           "value": 2334
          },
          {
           "sample_id": 0,
           "timepoint": 29,
           "trajectory": "D_data",
           "value": 2859
          },
          {
           "sample_id": 0,
           "timepoint": 30,
           "trajectory": "D_data",
           "value": 3420
          },
          {
           "sample_id": 0,
           "timepoint": 31,
           "trajectory": "D_data",
           "value": 3989
          },
          {
           "sample_id": 0,
           "timepoint": 32,
           "trajectory": "D_data",
           "value": 4634
          },
          {
           "sample_id": 0,
           "timepoint": 33,
           "trajectory": "D_data",
           "value": 5384
          },
          {
           "sample_id": 0,
           "timepoint": 34,
           "trajectory": "D_data",
           "value": 6185
          },
          {
           "sample_id": 0,
           "timepoint": 35,
           "trajectory": "D_data",
           "value": 7241
          },
          {
           "sample_id": 0,
           "timepoint": 36,
           "trajectory": "D_data",
           "value": 7985
          },
          {
           "sample_id": 0,
           "timepoint": 37,
           "trajectory": "D_data",
           "value": 8846
          },
          {
           "sample_id": 0,
           "timepoint": 38,
           "trajectory": "D_data",
           "value": 9579
          },
          {
           "sample_id": 0,
           "timepoint": 39,
           "trajectory": "D_data",
           "value": 10345
          },
          {
           "sample_id": 0,
           "timepoint": 40,
           "trajectory": "D_data",
           "value": 11126
          },
          {
           "sample_id": 0,
           "timepoint": 41,
           "trajectory": "D_data",
           "value": 11930
          },
          {
           "sample_id": 0,
           "timepoint": 42,
           "trajectory": "D_data",
           "value": 12669
          },
          {
           "sample_id": 0,
           "timepoint": 43,
           "trajectory": "D_data",
           "value": 13332
          },
          {
           "sample_id": 0,
           "timepoint": 44,
           "trajectory": "D_data",
           "value": 13987
          },
          {
           "sample_id": 0,
           "timepoint": 45,
           "trajectory": "D_data",
           "value": 14371
          },
          {
           "sample_id": 0,
           "timepoint": 46,
           "trajectory": "D_data",
           "value": 14780
          },
          {
           "sample_id": 0,
           "timepoint": 47,
           "trajectory": "D_data",
           "value": 15225
          },
          {
           "sample_id": 0,
           "timepoint": 48,
           "trajectory": "D_data",
           "value": 16116
          },
          {
           "sample_id": 0,
           "timepoint": 49,
           "trajectory": "D_data",
           "value": 16639
          },
          {
           "sample_id": 0,
           "timepoint": 50,
           "trajectory": "D_data",
           "value": 17091
          },
          {
           "sample_id": 0,
           "timepoint": 51,
           "trajectory": "D_data",
           "value": 17647
          },
          {
           "sample_id": 0,
           "timepoint": 52,
           "trajectory": "D_data",
           "value": 18132
          },
          {
           "sample_id": 0,
           "timepoint": 53,
           "trajectory": "D_data",
           "value": 18523
          },
          {
           "sample_id": 0,
           "timepoint": 54,
           "trajectory": "D_data",
           "value": 18882
          },
          {
           "sample_id": 0,
           "timepoint": 55,
           "trajectory": "D_data",
           "value": 19292
          },
          {
           "sample_id": 0,
           "timepoint": 56,
           "trajectory": "D_data",
           "value": 19602
          },
          {
           "sample_id": 0,
           "timepoint": 57,
           "trajectory": "D_data",
           "value": 20000
          },
          {
           "sample_id": 0,
           "timepoint": 58,
           "trajectory": "D_data",
           "value": 20334
          },
          {
           "sample_id": 0,
           "timepoint": 59,
           "trajectory": "D_data",
           "value": 20662
          }
         ]
        },
        {
         "name": "markers",
         "values": []
        },
        {
         "name": "selected",
         "on": [
          {
           "remove": true,
           "trigger": "clear"
          },
          {
           "remove": true,
           "trigger": "!shift"
          },
          {
           "insert": "clicked",
           "trigger": "!shift && clicked"
          },
          {
           "toggle": "clicked",
           "trigger": "shift && clicked"
          }
         ]
        }
       ],
       "height": 300,
       "legends": [
        {
         "encode": {
          "labels": {
           "interactive": true,
           "name": "legendLabel",
           "update": {
            "opacity": [
             {
              "test": "!length(data('selected')) || indata('selected', 'value', datum.value)",
              "value": 1
             },
             {
              "value": 0.25
             }
            ]
           }
          },
          "symbols": {
           "interactive": true,
           "name": "legendSymbol",
           "update": {
            "fill": {
             "value": "transparent"
            },
            "opacity": [
             {
              "test": "!length(data('selected')) || indata('selected', 'value', datum.value)",
              "value": 0.7
             },
             {
              "value": 0.15
             }
            ],
            "size": {
             "value": 64
            },
            "strokeWidth": {
             "value": 2
            }
           }
          }
         },
         "name": "color_legend",
         "stroke": "color"
        }
       ],
       "marks": [
        {
         "from": {
          "facet": {
           "data": "points",
           "groupby": "trajectory",
           "name": "points_split"
          }
         },
         "marks": [
          {
           "encode": {
            "hover": {
             "fillOpacity": {
              "value": 0.9
             }
            },
            "update": {
             "fill": {
              "field": "trajectory",
              "scale": "color"
             },
             "fillOpacity": [
              {
               "test": "!length(data('selected')) || indata('selected', 'value', datum.trajectory)",
               "value": 0.5
              },
              {
               "value": 0.15
              }
             ],
             "size": {
              "value": 10
             },
             "stroke": {
              "field": "trajectory",
              "scale": "color"
             },
             "strokeOpacity": [
              {
               "test": "!length(data('selected')) || indata('selected', 'value', datum.trajectory)",
               "value": 0.75
              },
              {
               "value": 0.15
              }
             ],
             "strokeWidth": {
              "value": 2
             },
             "tooltip": {
              "field": "value"
             },
             "x": {
              "field": "timepoint",
              "scale": "xscale"
             },
             "y": {
              "field": "value",
              "scale": "yscale"
             }
            }
           },
           "from": {
            "data": "points"
           },
           "name": "_points_symbol",
           "type": "symbol",
           "zindex": 3
          },
          {
           "encode": {
            "hover": {
             "fillOpacity": {
              "value": 0.9
             }
            },
            "update": {
             "interpolate": {
              "value": "linear"
             },
             "stroke": {
              "field": "trajectory",
              "scale": "color"
             },
             "strokeOpacity": [
              {
               "test": "!length(data('selected')) || indata('selected', 'value', datum.trajectory)",
               "value": 0.3
              },
              {
               "value": 0.1
              }
             ],
             "strokeWidth": {
              "value": 2
             },
             "x": {
              "field": "timepoint",
              "scale": "xscale"
             },
             "y": {
              "field": "value",
              "scale": "yscale"
             }
            }
           },
           "from": {
            "data": "points"
           },
           "name": "_points_line",
           "type": "line",
           "zindex": 3
          }
         ],
         "name": "_points",
         "type": "group",
         "zindex": 3
        },
        {
         "from": {
          "facet": {
           "data": "traces",
           "groupby": "trajectory",
           "name": "traces_split"
          }
         },
         "marks": [
          {
           "encode": {
            "hover": {
             "fillOpacity": {
              "value": 0.9
             }
            },
            "update": {
             "interpolate": {
              "value": "linear"
             },
             "stroke": {
              "field": "trajectory",
              "scale": "color"
             },
             "strokeOpacity": [
              {
               "test": "!length(data('selected')) || indata('selected', 'value', datum.trajectory)",
               "value": 0.75
              },
              {
               "value": 0.15
              }
             ],
             "strokeWidth": {
              "value": 2
             },
             "x": {
              "field": "timepoint",
              "scale": "xscale"
             },
             "y": {
              "field": "value",
              "scale": "yscale"
             }
            }
           },
           "from": {
            "data": "traces_split"
           },
           "name": "_traces_lines",
           "type": "line"
          }
         ],
         "name": "_traces",
         "type": "group",
         "zindex": 2
        },
        {
         "from": {
          "facet": {
           "data": "distributions",
           "groupby": "trajectory",
           "name": "trajectory_split"
          }
         },
         "marks": [
          {
           "encode": {
            "hover": {
             "fillOpacity": {
              "value": 0.9
             }
            },
            "update": {
             "fill": {
              "field": "trajectory",
              "scale": "color"
             },
             "fillOpacity": [
              {
               "test": "!length(data('selected')) || indata('selected', 'value', datum.trajectory)",
               "value": 0.5
              },
              {
               "value": 0.15
              }
             ],
             "interpolate": {
              "value": "linear"
             },
             "stroke": {
              "field": "trajectory",
              "scale": "color"
             },
             "strokeOpacity": [
              {
               "test": "!length(data('selected')) || indata('selected', 'value', datum.trajectory)",
               "value": 0.75
              },
              {
               "value": 0.15
              }
             ],
             "strokeWidth": {
              "value": 2
             },
             "x": {
              "field": "timepoint",
              "scale": "xscale"
             },
             "y": {
              "field": "upper",
              "scale": "yscale"
             },
             "y2": {
              "field": "lower",
              "scale": "yscale"
             }
            }
           },
           "from": {
            "data": "trajectory_split"
           },
           "type": "area"
          }
         ],
         "name": "_distributions",
         "type": "group",
         "zindex": 1
        },
        {
         "marks": [
          {
           "encode": {
            "enter": {
             "stroke": {
              "value": "lightgray"
             }
            },
            "update": {
             "opacity": {
              "value": 1
             },
             "x": {
              "field": "timepoint",
              "scale": "xscale"
             },
             "y": {
              "signal": "height"
             },
             "y2": {
              "value": 0
             }
            }
           },
           "from": {
            "data": "markers"
           },
           "name": "_marker text",
           "type": "rule"
          },
          {
           "encode": {
            "enter": {
             "fontSize": {
              "value": 8
             },
             "text": {
              "field": "datum.label"
             },
             "y": {
              "value": 0
             }
            }
           },
           "from": {
            "data": "_marker text"
           },
           "name": "_marker flags",
           "transform": [
            {
             "as": [
              "x",
              "_y",
              "opacity",
              "align",
              "baseline"
             ],
             "lineAnchor": "start",
             "offset": [
              1
             ],
             "size": {
              "signal": "[width, height]"
             },
             "type": "label"
            }
           ],
           "type": "text"
          }
         ],
         "name": "_markers",
         "type": "group"
        }
       ],
       "padding": 5,
       "scales": [
        {
         "domain": {
          "fields": [
           {
            "data": "distributions",
            "field": "timepoint"
           },
           {
            "data": "traces",
            "field": "timepoint"
           },
           {
            "data": "points",
            "field": "timepoint"
           },
           {
            "data": "markers",
            "field": "timepoint"
           }
          ]
         },
         "name": "xscale",
         "range": "width",
         "type": "linear",
         "zero": false
        },
        {
         "domain": {
          "fields": [
           {
            "data": "distributions",
            "field": "lower"
           },
           {
            "data": "distributions",
            "field": "upper"
           },
           {
            "data": "traces",
            "field": "value"
           },
           {
            "data": "points",
            "field": "value"
           }
          ]
         },
         "name": "yscale",
         "nice": true,
         "range": "height",
         "type": "linear",
         "zero": true
        },
        {
         "domain": {
          "fields": [
           {
            "data": "distributions",
            "field": "trajectory"
           },
           {
            "data": "traces",
            "field": "trajectory"
           },
           {
            "data": "points",
            "field": "trajectory"
           }
          ]
         },
         "name": "color",
         "range": "category",
         "type": "ordinal"
        }
       ],
       "signals": [
        {
         "name": "clear",
         "on": [
          {
           "events": "mouseup[!event.item]",
           "force": true,
           "update": "true"
          }
         ],
         "value": true
        },
        {
         "name": "shift",
         "on": [
          {
           "events": "@legendSymbol:click, @legendLabel:click",
           "force": true,
           "update": "event.shiftKey"
          }
         ],
         "value": false
        },
        {
         "name": "clicked",
         "on": [
          {
           "events": "@legendSymbol:click, @legendLabel:click",
           "force": true,
           "update": "{value: datum.value}"
          }
         ],
         "value": null
        }
       ],
       "width": 500
      }
     },
     "metadata": {},
     "output_type": "display_data"
    }
   ],
   "source": [
    "num_samples = 100\n",
    "model_paths = [model2_location, model6_location, model7_location]\n",
    "data_path = \"../../notebook/ensemble_eval_sa/datasets/NY_data1.csv\"\n",
    "weights = [1/len(model_paths) for i in model_paths]\n",
    "solution_mappings = [{\"I\": \"I\", \"D\": \"D\"},\n",
    "                     {\"I\": \"infected\", \"D\": \"dead\"}, \n",
    "                     {\"I\": \"infected\", \"D\": \"dead\"}\n",
    "                     ]\n",
    "\n",
    "# Run the calibration and sampling\n",
    "result4 = load_and_calibrate_and_sample_ensemble_model(\n",
    "    model_paths,\n",
    "    data_path,\n",
    "    weights,\n",
    "    solution_mappings,\n",
    "    num_samples,\n",
    "    timepoints,\n",
    "    verbose=True,\n",
    "    total_population=19340000,\n",
    "    num_iterations=300,\n",
    "    time_unit=\"days\",\n",
    "    visual_options={\"title\": \"Calibrated Ensemble\", \"subset\":\".*_sol\"}\n",
    ")\n",
    "\n",
    "# Save results\n",
    "result4[\"data\"].to_csv(\"../../notebook/ensemble_eval_sa/ensemble_results/partI_ensemble_of_many_results.csv_day0_Mar012020\", index=False)\n",
    "result4[\"quantiles\"].to_csv(\"../../notebook/ensemble_eval_sa/ensemble_results/partI_ensemble_of_many_quantiles_day0_Mar012020.csv\", index=False)\n",
    "\n",
    "# Plot results\n",
    "schema = plots.trajectories(pd.DataFrame(result4[\"data\"]), subset=\".*_sol\",\n",
    "                            points=test_data.reset_index(drop=True).rename(columns={\"I\":\"I_data\", \"H\":\"H_data\", \"D\":\"D_data\"}),\n",
    "                           )\n",
    "schema = plots.pad(schema, 5)\n",
    "plots.ipy_display(schema)"
   ]
  },
  {
   "cell_type": "code",
   "execution_count": null,
   "id": "765e6d37-d87b-48b6-877b-067d2995179e",
   "metadata": {},
   "outputs": [],
   "source": [
    "num_samples = 100\n",
    "model_paths = [model2_location, model7_location]\n",
    "data_path = \"../../notebook/ensemble_eval_sa/NY_data1.csv\"\n",
    "weights = [1/len(model_paths) for i in model_paths]\n",
    "solution_mappings = [{\"I\": \"I\", \"D\": \"D\"},\n",
    "                     {\"I\": \"infected\", \"D\": \"dead\"}\n",
    "                     ]\n",
    "\n",
    "# Run the calibration and sampling\n",
    "result5 = load_and_calibrate_and_sample_ensemble_model(\n",
    "    model_paths,\n",
    "    data_path,\n",
    "    weights,\n",
    "    solution_mappings,\n",
    "    num_samples,\n",
    "    timepoints,\n",
    "    verbose=True,\n",
    "    total_population=19340000,\n",
    "    num_iterations=500,\n",
    "    time_unit=\"days\",\n",
    "    visual_options={\"title\": \"Calibrated Ensemble\", \"subset\":\".*_sol\"}\n",
    ")\n",
    "\n",
    "# Save results\n",
    "# result5[\"data\"].to_csv(\"../../notebook/ensemble_eval_sa/ensemble_results/partI_ensemble_of_two_results.csv\", index=False)\n",
    "# result5[\"quantiles\"].to_csv(\"../../notebook/ensemble_eval_sa/ensemble_results/partI_ensemble_of_two_quantiles.csv\", index=False)\n",
    "\n",
    "# Plot results\n",
    "schema = plots.trajectories(pd.DataFrame(result4[\"data\"]), subset=\".*_sol\",\n",
    "                            points=test_data.reset_index(drop=True).rename(columns={\"I\":\"I_data\", \"H\":\"H_data\", \"D\":\"D_data\"}),\n",
    "                           )\n",
    "schema = plots.pad(schema, 5)\n",
    "plots.ipy_display(schema)"
   ]
  },
  {
   "cell_type": "code",
   "execution_count": null,
   "id": "79bac950-7c34-47af-9fa6-d0ead7e78f88",
   "metadata": {},
   "outputs": [],
   "source": [
    "num_samples = 100\n",
    "model_paths = [model2_location, model7_location]\n",
    "data_path = \"../../notebook/ensemble_eval_sa/NY_data1.csv\"\n",
    "weights = [1/len(model_paths) for i in model_paths]\n",
    "solution_mappings = [{\"I\": \"I\", \"D\": \"D\"},\n",
    "                     {\"I\": \"infected\", \"D\": \"dead\"}\n",
    "                     ]\n",
    "\n",
    "# Run the calibration and sampling\n",
    "result4 = load_and_calibrate_and_sample_ensemble_model(\n",
    "    model_paths,\n",
    "    data_path,\n",
    "    weights,\n",
    "    solution_mappings,\n",
    "    num_samples,\n",
    "    timepoints,\n",
    "    verbose=True,\n",
    "    total_population=19340000,\n",
    "    num_iterations=500,\n",
    "    time_unit=\"days\",\n",
    "    visual_options={\"title\": \"Calibrated Ensemble\", \"subset\":\".*_sol\"}\n",
    ")\n",
    "\n",
    "# Save results\n",
    "# result4[\"data\"].to_csv(\"../../notebook/ensemble_eval_sa/ensemble_results/partI_ensemble_of_many_results.csv\", index=False)\n",
    "# result4[\"quantiles\"].to_csv(\"../../notebook/ensemble_eval_sa/ensemble_results/partI_ensemble_of_many_quantiles.csv\", index=False)\n",
    "\n",
    "# Plot results\n",
    "schema = plots.trajectories(pd.DataFrame(result4[\"data\"]), subset=\".*_sol\",\n",
    "                            points=test_data.reset_index(drop=True).rename(columns={\"I\":\"I_data\", \"H\":\"H_data\", \"D\":\"D_data\"}),\n",
    "                           )\n",
    "schema = plots.pad(schema, 5)\n",
    "plots.ipy_display(schema)"
   ]
  },
  {
   "cell_type": "code",
   "execution_count": null,
   "id": "b1200c83-faab-444d-8a13-c815867ad5ba",
   "metadata": {},
   "outputs": [],
   "source": [
    "num_samples = 100\n",
    "model_paths = [model2_location, model6_location, model7_location]\n",
    "data_path = \"../../notebook/ensemble_eval_sa/NY_data1.csv\"\n",
    "weights = [1/len(model_paths) for i in model_paths]\n",
    "solution_mappings = [{\"I\": \"I\", \"D\": \"D\"},\n",
    "                     {\"I\": \"infected\", \"D\": \"dead\"}, \n",
    "                     {\"I\": \"infected\", \"D\": \"dead\"}\n",
    "                     ]\n",
    "\n",
    "# Run the calibration and sampling\n",
    "result4 = load_and_calibrate_and_sample_ensemble_model(\n",
    "    model_paths,\n",
    "    data_path,\n",
    "    weights,\n",
    "    solution_mappings,\n",
    "    num_samples,\n",
    "    timepoints,\n",
    "    verbose=True,\n",
    "    total_population=19340000,\n",
    "    num_iterations=500,\n",
    "    time_unit=\"days\",\n",
    "    visual_options={\"title\": \"Calibrated Ensemble\", \"subset\":\".*_sol\"}\n",
    ")\n",
    "\n",
    "# Save results\n",
    "# result4[\"data\"].to_csv(\"../../notebook/ensemble_eval_sa/ensemble_results/partI_ensemble_of_many_results.csv\", index=False)\n",
    "# result4[\"quantiles\"].to_csv(\"../../notebook/ensemble_eval_sa/ensemble_results/partI_ensemble_of_many_quantiles.csv\", index=False)\n",
    "\n",
    "# Plot results\n",
    "schema = plots.trajectories(pd.DataFrame(result4[\"data\"]), subset=\".*_sol\",\n",
    "                            points=test_data.reset_index(drop=True).rename(columns={\"I\":\"I_data\", \"H\":\"H_data\", \"D\":\"D_data\"}),\n",
    "                           )\n",
    "schema = plots.pad(schema, 5)\n",
    "plots.ipy_display(schema)"
   ]
  },
  {
   "cell_type": "code",
   "execution_count": null,
   "id": "2b575a9f-909b-4eae-a74a-9745b0a74d43",
   "metadata": {},
   "outputs": [],
   "source": []
  }
 ],
 "metadata": {
  "kernelspec": {
   "display_name": "Python 3 (ipykernel)",
   "language": "python",
   "name": "python3"
  },
  "language_info": {
   "codemirror_mode": {
    "name": "ipython",
    "version": 3
   },
   "file_extension": ".py",
   "mimetype": "text/x-python",
   "name": "python",
   "nbconvert_exporter": "python",
   "pygments_lexer": "ipython3",
   "version": "3.10.9"
  }
 },
 "nbformat": 4,
 "nbformat_minor": 5
}
