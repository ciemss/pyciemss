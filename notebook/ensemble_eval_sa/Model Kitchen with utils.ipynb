{
 "cells": [
  {
   "cell_type": "code",
   "execution_count": null,
   "id": "b954803a-07f8-426e-a871-05309890e4e6",
   "metadata": {},
   "outputs": [],
   "source": [
    "# Model kitchen to use with utils file.\n",
    "\n",
    "from pyciemss.utils import toronto_ensemble_challenge_utils.py"
   ]
  },
  {
   "cell_type": "code",
   "execution_count": null,
   "id": "aee9307c-5385-4ced-b89c-0488aab1763e",
   "metadata": {},
   "outputs": [],
   "source": [
    "model_dictionary = {\n",
    "    'model_id': 1,\n",
    "    'name': 'SEIRHD_V1',\n",
    "    'beta': 'something',\n",
    "    'hosp': 'blah blah blah'\n",
    "}"
   ]
  },
  {
   "cell_type": "code",
   "execution_count": null,
   "id": "b211bcb6-a8d7-480b-b275-bae38a152ad0",
   "metadata": {},
   "outputs": [],
   "source": []
  },
  {
   "cell_type": "code",
   "execution_count": null,
   "id": "5cf4c4e6-8dd2-4461-8d5c-d17e342db224",
   "metadata": {},
   "outputs": [],
   "source": []
  },
  {
   "cell_type": "code",
   "execution_count": null,
   "id": "57fefb01-0295-4775-ada4-0ce9310f0990",
   "metadata": {},
   "outputs": [],
   "source": []
  },
  {
   "cell_type": "code",
   "execution_count": null,
   "id": "cdc6965d-413d-41c0-8b07-5f5dccf1e204",
   "metadata": {},
   "outputs": [],
   "source": []
  },
  {
   "cell_type": "code",
   "execution_count": null,
   "id": "86b3ddac-e057-480c-bbd1-90f3bc8b35ba",
   "metadata": {},
   "outputs": [],
   "source": []
  }
 ],
 "metadata": {
  "kernelspec": {
   "display_name": "Python 3 (ipykernel)",
   "language": "python",
   "name": "python3"
  },
  "language_info": {
   "codemirror_mode": {
    "name": "ipython",
    "version": 3
   },
   "file_extension": ".py",
   "mimetype": "text/x-python",
   "name": "python",
   "nbconvert_exporter": "python",
   "pygments_lexer": "ipython3",
   "version": "3.10.9"
  }
 },
 "nbformat": 4,
 "nbformat_minor": 5
}
