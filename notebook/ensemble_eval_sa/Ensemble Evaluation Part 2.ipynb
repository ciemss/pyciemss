{
 "cells": [
  {
   "cell_type": "markdown",
   "id": "3048df72",
   "metadata": {},
   "source": [
    "# Ensemble Evaluation: Timepoint 2 - Summer 2021\n",
    "\n",
    "Location: New York State\n",
    "\n",
    "Timepoint 2: July 15, 2021. Setting: New York State upon the arrival of the Delta variant. Vaccines available."
   ]
  },
  {
   "cell_type": "markdown",
   "id": "897b7ea9-d670-4345-9d7a-322d34d724c8",
   "metadata": {},
   "source": [
    "## Set up for ensemble modeling"
   ]
  },
  {
   "cell_type": "markdown",
   "id": "25ee072e-ef36-4c76-bf0a-76276a86c63b",
   "metadata": {},
   "source": [
    "### Load dependencies\n",
    "Import functionality from the pyciemss library to allow for model sampling and calibration."
   ]
  },
  {
   "cell_type": "code",
   "execution_count": 1,
   "id": "f250632a-4078-49de-a4a8-e6134c949910",
   "metadata": {},
   "outputs": [],
   "source": [
    "import os\n",
    "import pandas as pd\n",
    "import numpy as np\n",
    "import matplotlib.pyplot as plt\n",
    "\n",
    "from pyciemss.Ensemble.interfaces import (\n",
    "    load_and_sample_petri_ensemble, load_and_calibrate_and_sample_ensemble_model\n",
    ")\n",
    "from pyciemss.PetriNetODE.interfaces import (\n",
    "    load_and_sample_petri_model,\n",
    "    load_and_calibrate_and_sample_petri_model,\n",
    "    load_and_optimize_and_sample_petri_model,\n",
    "    load_and_calibrate_and_optimize_and_sample_petri_model\n",
    ")\n",
    "from pyciemss.visuals import plots\n",
    "from pyciemss.utils import get_tspan\n",
    "from pyciemss.utils.interface_utils import cdc_reformatcsv"
   ]
  },
  {
   "cell_type": "markdown",
   "id": "2af8a7df-6527-4ba2-beb6-2e63889dcbbf",
   "metadata": {},
   "source": [
    "### Collect relevant models\n",
    "<!-- We have chosen x number of models to capture the relevant COVID-19 dynamics for this setting. \n",
    " - `model1` contains compartments SEIRHD, and is stratified by age into four groups.\n",
    " - `model2` is the same as `model1`, but allows for reinfection\n",
    " - `model3` is the same as `model1`, but with a variation in transmission rate to account for masking efficacy and compliance. -->"
   ]
  },
  {
   "cell_type": "code",
   "execution_count": 2,
   "id": "07fddb50-d73e-481d-a79d-ce0e115411b5",
   "metadata": {},
   "outputs": [],
   "source": [
    "# model1_location = \"../../notebook/ensemble_eval_sa/operative_models/age_vacc_var_V1.json\"\n",
    "model2_location = \"../../notebook/ensemble_eval_sa/operative_models/age_vacc_var_v2.json\"\n",
    "# model3_location = \"../../notebook/ensemble_eval_sa/operative_models/age_vacc_var_reinfection_v1.json\"\n",
    "model4_location = \"../../notebook/ensemble_eval_sa/operative_models/age_vacc_var_reinfection_v2.json\"\n",
    "model5_location = \"../../notebook/ensemble_eval_sa/operative_models/age_vacc_var_reinfection_v3.json\""
   ]
  },
  {
   "cell_type": "markdown",
   "id": "a2239aab-0478-43cb-b6ef-079497dbb6e1",
   "metadata": {},
   "source": [
    "## Get data"
   ]
  },
  {
   "cell_type": "markdown",
   "id": "491b50ab-6fbb-4a03-84e7-d99225d982de",
   "metadata": {},
   "source": [
    "### Define a function to process the source data and produce the necessary datasets for plotting and calibration"
   ]
  },
  {
   "cell_type": "code",
   "execution_count": 3,
   "id": "32f7c14d-a51d-47db-830b-745e459228e8",
   "metadata": {},
   "outputs": [],
   "source": [
    "def data_selector_function(data_df, train_start_row_num, train_end_row_num, forecast_end_row_num):\n",
    "    '''\n",
    "    This function produces three datasets: all_data, all_data1, train_data.\n",
    "    '''\n",
    "    all_data = data_df[train_start_row_num:forecast_end_row_num].reset_index()\n",
    "    all_data = all_data.drop(columns=\"timestep\")\n",
    "    all_data = all_data.drop(columns=\"index\")\n",
    "\n",
    "    all_data1 = data_df[train_end_row_num:forecast_end_row_num].reset_index()\n",
    "    all_data1 = all_data1.drop(columns=\"timestep\")\n",
    "    all_data1 = all_data1.drop(columns=\"index\")\n",
    "\n",
    "    train_data = data_df[train_start_row_num:train_end_row_num].reset_index(drop=True)\n",
    "    train_data1 = train_data.assign(timepoints=[float(i) for i in range(len(train_data))])\n",
    "    train_data = train_data1[[\"timepoints\", \"I\", \"H\", \"D\"]]\n",
    "\n",
    "    num_timepoints = (len(train_data) + len(all_data1))*10 + 1\n",
    "    simulation_timepoints = list(get_tspan(0, (len(train_data) + len(all_data1)), num_timepoints).detach().numpy())\n",
    "    \n",
    "    return all_data, all_data1, train_data, simulation_timepoints"
   ]
  },
  {
   "cell_type": "markdown",
   "id": "e7d4f4d8-abb4-4a9d-b7c9-6fc614125708",
   "metadata": {},
   "source": [
    "### Gather source data and set `DATA_PATH`, `RESULTS_PATH`"
   ]
  },
  {
   "cell_type": "code",
   "execution_count": 4,
   "id": "d9409751-8a75-4815-a329-923e20b1ca14",
   "metadata": {},
   "outputs": [],
   "source": [
    "url = 'https://raw.githubusercontent.com/DARPA-ASKEM/experiments/main/thin-thread-examples/milestone_12month/evaluation/ensemble_eval_SA/datasets/aabb3684-a7ea-4f60-98f1-a8e673ad6df5/dataset.csv'\n",
    "nys_data = pd.read_csv(url)\n",
    "DATA_PATH = \"../../notebook/ensemble_eval_sa/datasets/\"\n",
    "RESULTS_PATH = \"../../notebook/ensemble_eval_sa/ensemble_results/\""
   ]
  },
  {
   "cell_type": "markdown",
   "id": "808442fe-65a2-4545-b1d1-fb2ad8b26653",
   "metadata": {},
   "source": [
    "### Create and save datasets and simulation timepoints for each forecast"
   ]
  },
  {
   "cell_type": "code",
   "execution_count": 5,
   "id": "bf6e7144-aecd-443b-ab2a-0e492db247f2",
   "metadata": {},
   "outputs": [],
   "source": [
    "### Forecast 1: 07/15/2021 - 08/12/2021, data: 05/01/2021 - 08/11/2021\n",
    "\n",
    "# Forecast 1: 07/15/2021 (day 75, row 541) - 08/12/2021 (day 103, row 569), train data: 05/01/2021 (day 0, row 466) - 07/14/2021 (day 74, row 540)\n",
    "[all_data1, all_data11, train_data1, timepoints1] = data_selector_function(nys_data, 465, 540, 569)\n",
    "train_data1[[\"I\", \"H\", \"D\"]].to_csv(DATA_PATH + \"NYS_T2_forecast1.csv\")\n",
    "\n",
    "### Forecast 2: 07/22/2021 - 08/19/2021, data: 05/01/2021 - 07/21/2021\n",
    "\n",
    "# Forecast 2: 07/22/2021 (day 82, row 548) - 08/19/2021 (day 110, row 576), train data: 05/01/2021 (day 0, row 466) - 07/21/2021 (day 81, row 547)\n",
    "[all_data2, all_data12, train_data2, timepoints2] = data_selector_function(nys_data, 465, 547, 576)\n",
    "train_data2[[\"I\", \"H\", \"D\"]].to_csv(DATA_PATH + \"NYS_T2_forecast2.csv\")\n",
    "\n",
    "### Forecast 3: 07/29/2021 - 08/26/2021, data: 05/01/2021 - 07/28/2021\n",
    "\n",
    "# Forecast 3: 07/29/2021 (day 89, row 555) - 08/26/2021 (day 117, row 583), train data: 05/01/2021 (day 0, row 466) - 07/28/2021 (day 88, row 554)\n",
    "[all_data3, all_data13, train_data3, timepoints3] = data_selector_function(nys_data, 465, 554, 583)\n",
    "train_data3[[\"I\", \"H\", \"D\"]].to_csv(DATA_PATH + \"NYS_T2_forecast3.csv\")\n",
    "\n",
    "### Forecast 4: 08/05/2021 - 09/02/2021, data: 05/01/2021 - 08/04/2021\n",
    "\n",
    "# Forecast 3: 08/05/2021 (day 96, row 562) - 09/02/2021 (day 124, row 590), train data: 05/01/2021 (day 0, row 466) - 08/04/2021 (day 95, row 561)\n",
    "[all_data4, all_data14, train_data4, timepoints4] = data_selector_function(nys_data, 465, 561, 590)\n",
    "train_data4[[\"I\", \"H\", \"D\"]].to_csv(DATA_PATH + \"NYS_T2_forecast4.csv\")"
   ]
  },
  {
   "cell_type": "markdown",
   "id": "9a13d82b-f9b4-4f13-9e41-8e664543e8fa",
   "metadata": {},
   "source": [
    "### Plot the data"
   ]
  },
  {
   "cell_type": "code",
   "execution_count": 8,
   "id": "87729311-991d-4e25-ac23-31d706f266a1",
   "metadata": {},
   "outputs": [
    {
     "data": {
      "text/plain": [
       "Text(0.5, 1.0, 'Cumulative Deaths per 100,000')"
      ]
     },
     "execution_count": 8,
     "metadata": {},
     "output_type": "execute_result"
    },
    {
     "data": {
      "image/png": "[encoded data removed]",
      "text/plain": [
       "<Figure size 640x480 with 3 Axes>"
      ]
     },
     "metadata": {},
     "output_type": "display_data"
    }
   ],
   "source": [
    "N = 19_340_000\n",
    "\n",
    "fig, (ax1, ax2, ax3) = plt.subplots(1, 3)\n",
    "# ax1.scatter(all_data4.index, all_data4.I, color=\"red\")\n",
    "ax1.scatter(all_data4.index, 100000*(all_data4.I/N), color=\"red\")\n",
    "ax1.axvline(x = 32, color = 'darkgreen', linestyle =\"--\", label = 'begin forecast 1')\n",
    "ax1.axvline(x = 39, color = 'forestgreen', linestyle =\":\", label = 'begin forecast 2')\n",
    "ax1.axvline(x = 46, color = 'green', linestyle =\"-.\", label = 'begin forecast 3')\n",
    "ax1.axvline(x = 53, color = 'teal', label = 'begin forecast 4')\n",
    "ax1.legend(loc='lower right')\n",
    "# ax1.set_title(\"Cases\")\n",
    "ax1.set_title(\"Cases per 100,000\")\n",
    "\n",
    "# ax2.scatter(all_data4.index, all_data4.H, color=\"navy\")\n",
    "ax2.scatter(all_data4.index, 100000*(all_data4.H/N), color=\"navy\")\n",
    "ax2.axvline(x = 32, color = 'darkgreen', linestyle =\"--\", label = 'begin forecast 1')\n",
    "ax2.axvline(x = 39, color = 'forestgreen', linestyle =\":\", label = 'begin forecast 2')\n",
    "ax2.axvline(x = 46, color = 'green', linestyle =\"-.\", label = 'begin forecast 3')\n",
    "ax2.axvline(x = 53, color = 'teal', label = 'begin forecast 4')\n",
    "ax2.legend(loc='lower right')\n",
    "# ax2.set_title(\"Hospitalizations\")\n",
    "ax2.set_title(\"Hospitalizations per 100,000\")\n",
    "\n",
    "# ax3.scatter(all_data4.index, all_data4.D, color=\"blue\")\n",
    "ax3.scatter(all_data4.index, 100000*(all_data4.D/N), color=\"blue\")\n",
    "ax3.axvline(x = 32, color = 'darkgreen', linestyle =\"--\", label = 'begin forecast 1')\n",
    "ax3.axvline(x = 39, color = 'forestgreen', linestyle =\":\", label = 'begin forecast 2')\n",
    "ax3.axvline(x = 46, color = 'green', linestyle =\"-.\", label = 'begin forecast 3')\n",
    "ax3.axvline(x = 53, color = 'teal', label = 'begin forecast 4')\n",
    "ax3.legend(loc='lower right')\n",
    "# ax3.set_title(\"Cumulative Deaths\")\n",
    "ax3.set_title(\"Cumulative Deaths per 100,000\")"
   ]
  },
  {
   "cell_type": "markdown",
   "id": "88df33c0-f86c-4cc4-8f98-6191d71b442b",
   "metadata": {},
   "source": [
    "# (1) Forecast 1: 07/15/2021 - 08/12/2021"
   ]
  },
  {
   "cell_type": "markdown",
   "id": "2b425707-b887-4b7f-8e22-8fbd6fce7112",
   "metadata": {},
   "source": [
    "## (A) Calibrate and sample an ensemble of one model"
   ]
  },
  {
   "cell_type": "code",
   "execution_count": 9,
   "id": "3e5e728c-9269-4cc5-b275-e6e69f6c402b",
   "metadata": {},
   "outputs": [],
   "source": [
    "RESULTS_FILENAME = RESULTS_PATH + \"T2_ensemble_of1_results_Jul152021.csv\"\n",
    "QUANTILES_FILENAME = RESULTS_PATH + \"T2_ensemble_of1_quantiles_Jul152021.csv\"\n",
    "N_ITERATIONS = 26"
   ]
  },
  {
   "cell_type": "markdown",
   "id": "ce7c82ae-4460-4375-a3b4-1e8612c29d9b",
   "metadata": {},
   "source": [
    "### MODEL 2 - SEIRHD stratified into four age groups, vaccine status (vaccinated or unvaccinated), and variant (wild type, Delta, and Omicron)"
   ]
  },
  {
   "cell_type": "code",
   "execution_count": null,
   "id": "de7313df-f73f-4425-a021-fe90f17555ab",
   "metadata": {},
   "outputs": [
    {
     "name": "stdout",
     "output_type": "stream",
     "text": [
      "iteration 0: loss = 6028.660287201405\n",
      "iteration 25: loss = 3852.913428604603\n"
     ]
    }
   ],
   "source": [
    "num_samples = 100\n",
    "models = [model2_location]\n",
    "data_location = DATA_PATH + \"NYS_T2_forecast1.csv\"\n",
    "weights = [1]\n",
    "solution_mappings = [{\"I\": \"infected\", \"H\": \"hospitalized\", \"D\": \"dead\"}] # \"column name in data\": \"observable or state variable in model\"\n",
    "\n",
    "# Run the calibration and sampling\n",
    "result1A1 = load_and_calibrate_and_sample_ensemble_model(\n",
    "    models,\n",
    "    data_location,\n",
    "    weights,\n",
    "    solution_mappings,\n",
    "    num_samples,\n",
    "    timepoints1,\n",
    "    verbose=True,\n",
    "    total_population=19340000,\n",
    "    num_iterations=N_ITERATIONS,\n",
    "    time_unit=\"days\",\n",
    "    visual_options={\"title\": \"Calibrated Ensemble\", \"keep\":\".*_sol\"}\n",
    ")\n",
    "\n",
    "# Plot results\n",
    "schema = plots.trajectories(pd.DataFrame(result1A1[\"data\"]), keep=\".*_sol\",\n",
    "                            points=all_data1.reset_index(drop=True).rename(columns={\"I\":\"I_data\", \"H\":\"H_data\", \"D\":\"D_data\"}),\n",
    "                           )\n",
    "schema = plots.pad(schema, 5)\n",
    "plots.ipy_display(schema)"
   ]
  },
  {
   "cell_type": "markdown",
   "id": "285d18bd-95e2-4465-9825-7c9202093c56",
   "metadata": {},
   "source": [
    "### Post-process results"
   ]
  },
  {
   "cell_type": "code",
   "execution_count": null,
   "id": "a1f86b5e-9dcd-4248-92bb-18703b2b99fb",
   "metadata": {},
   "outputs": [],
   "source": [
    "# Save results\n",
    "result1A1[\"data\"]"
   ]
  },
  {
   "cell_type": "markdown",
   "id": "4ac926b7-5a5d-45a5-aed4-851cc7bb45c6",
   "metadata": {},
   "source": [
    "### MODEL 4 - SEIRHD with reinfection stratified by age, vaccination status, and variant, Model Version 2"
   ]
  },
  {
   "cell_type": "code",
   "execution_count": null,
   "id": "6fa25da4-a72d-4789-969a-cfffe3c26ec1",
   "metadata": {},
   "outputs": [],
   "source": [
    "num_samples = 100\n",
    "models = [model4_location]\n",
    "data_location = DATA_PATH + \"NYS_T2_forecast1.csv\"\n",
    "weights = [1]\n",
    "solution_mappings = [{\"I\": \"infected\", \"H\": \"hospitalized\", \"D\": \"dead\"}] # \"column name in data\": \"observable or state variable in model\"\n",
    "\n",
    "# Run the calibration and sampling\n",
    "result1A2 = load_and_calibrate_and_sample_ensemble_model(\n",
    "    models,\n",
    "    data_location,\n",
    "    weights,\n",
    "    solution_mappings,\n",
    "    num_samples,\n",
    "    timepoints1,\n",
    "    verbose=True,\n",
    "    total_population=19340000,\n",
    "    num_iterations=N_ITERATIONS,\n",
    "    # method=\"euler\",\n",
    "    time_unit=\"days\",\n",
    "    visual_options={\"title\": \"Calibrated Ensemble\", \"keep\":\".*_sol\"}\n",
    ")\n",
    "\n",
    "# # # Save results\n",
    "# result1A2[\"data\"].to_csv(RESULTS_FILENAME, index=False)\n",
    "# result1A2[\"quantiles\"].to_csv(QUANTILES_FILENAME, index=False)\n",
    "\n",
    "# Plot results\n",
    "schema = plots.trajectories(pd.DataFrame(result1A2[\"data\"]), keep=\".*_sol\",\n",
    "                            points=all_data1.reset_index(drop=True).rename(columns={\"I\":\"I_data\", \"H\":\"H_data\", \"D\":\"D_data\"}),\n",
    "                           )\n",
    "schema = plots.pad(schema, 5)\n",
    "plots.ipy_display(schema)"
   ]
  },
  {
   "cell_type": "markdown",
   "id": "723edfa9-2755-4cf0-93e6-4cb8ca435ed5",
   "metadata": {},
   "source": [
    "### Post-process results"
   ]
  },
  {
   "cell_type": "code",
   "execution_count": null,
   "id": "1e17aa35-455c-448d-b256-3a198fd72aa8",
   "metadata": {},
   "outputs": [],
   "source": [
    "result1A2[\"data\"]"
   ]
  },
  {
   "cell_type": "markdown",
   "id": "78b13909-8cab-4fe7-8b04-5e6d67125412",
   "metadata": {},
   "source": [
    "### MODEL 5 - SEIRHD with reinfection stratified by age, vaccination status, and variant, Model Version 3"
   ]
  },
  {
   "cell_type": "code",
   "execution_count": null,
   "id": "654bb2a6-f7dd-45bb-9ebe-183ac72bd67e",
   "metadata": {},
   "outputs": [],
   "source": [
    "num_samples = 100\n",
    "models = [model5_location]\n",
    "data_location = DATA_PATH + \"NYS_T2_forecast1.csv\"\n",
    "weights = [1]\n",
    "solution_mappings = [{\"I\": \"infected\", \"H\": \"hospitalized\", \"D\": \"dead\"}]\n",
    "\n",
    "# Run the calibration and sampling\n",
    "result1A3 = load_and_calibrate_and_sample_ensemble_model(\n",
    "    models,\n",
    "    data_location,\n",
    "    weights,\n",
    "    solution_mappings,\n",
    "    num_samples,\n",
    "    timepoints1,\n",
    "    verbose=True,\n",
    "    total_population=19340000,\n",
    "    num_iterations=N_ITERATIONS,\n",
    "    time_unit=\"days\",\n",
    "    visual_options={\"title\": \"Calibrated Ensemble\", \"keep\":\".*_sol\"}\n",
    ")\n",
    "\n",
    "# # Save results\n",
    "# result1A3[\"data\"].to_csv(RESULTS_FILENAME, index=False)\n",
    "# result1A3[\"quantiles\"].to_csv(QUANTILES_FILENAME, index=False)\n",
    "\n",
    "# Plot results\n",
    "schema = plots.trajectories(pd.DataFrame(result1A3[\"data\"]), keep=\".*_sol\",\n",
    "                            points=all_data1.reset_index(drop=True).rename(columns={\"I\":\"I_data\", \"H\":\"H_data\", \"D\":\"D_data\"}),\n",
    "                           )\n",
    "schema = plots.pad(schema, 5)\n",
    "plots.ipy_display(schema)"
   ]
  },
  {
   "cell_type": "markdown",
   "id": "2677099a-e0d8-4d19-9a65-217451f59b48",
   "metadata": {},
   "source": [
    "### Post-process and save results"
   ]
  },
  {
   "cell_type": "code",
   "execution_count": null,
   "id": "6fe59d66-975f-435b-959b-2efa53f85d19",
   "metadata": {},
   "outputs": [],
   "source": [
    "result1A3[\"data\"]"
   ]
  },
  {
   "cell_type": "markdown",
   "id": "2ded2349-d56b-4fe5-a685-06b37cc78831",
   "metadata": {},
   "source": [
    "## (B) Calibrate and sample an ensemble of multiple models"
   ]
  },
  {
   "cell_type": "code",
   "execution_count": 35,
   "id": "0481d2fb-da12-4cdb-a039-904d16a93361",
   "metadata": {},
   "outputs": [],
   "source": [
    "RESULTS_FILENAME = RESULTS_PATH + \"T2_ensemble_of3_results_Jul152021.csv\"\n",
    "QUANTILES_FILENAME = RESULTS_PATH + \"T2_ensemble_of3_quantiles_Jul152021.csv\"\n",
    "N_ITERATIONS = 51"
   ]
  },
  {
   "cell_type": "code",
   "execution_count": null,
   "id": "5220df5c-61a0-47ad-ac94-fc543e8cb523",
   "metadata": {},
   "outputs": [],
   "source": [
    "num_samples = 2\n",
    "models = [model2_location, model4_location, model5_location]\n",
    "data_location = DATA_PATH + \"NYS_T2_forecast1.csv\"\n",
    "weights = [0.1, 0.4, 0.5] # [1/len(models) for i in models]\n",
    "solution_mappings = [{\"I\": \"infected\", \"H\": \"hospitalized\", \"D\": \"dead\"},\n",
    "                     {\"I\": \"infected\", \"H\": \"hospitalized\", \"D\": \"dead\"}, \n",
    "                     {\"I\": \"infected\", \"H\": \"hospitalized\", \"D\": \"dead\"},\n",
    "                     ]\n",
    "\n",
    "# Run the calibration and sampling\n",
    "result1B = load_and_calibrate_and_sample_ensemble_model(\n",
    "    models,\n",
    "    data_location,\n",
    "    weights,\n",
    "    solution_mappings,\n",
    "    num_samples,\n",
    "    timepoints1,\n",
    "    verbose=True,\n",
    "    total_population=19340000,\n",
    "    num_iterations=200,\n",
    "    method=\"euler\",\n",
    "    time_unit=\"days\",\n",
    "    visual_options={\"title\": \"Calibrated Ensemble\", \"keep\":\".*_sol\"}\n",
    ")\n",
    "\n",
    "# Plot results\n",
    "schema = plots.trajectories(pd.DataFrame(result1B[\"data\"]), keep=\".*_sol\",\n",
    "                            points=all_data1.reset_index(drop=True).rename(columns={\"I\":\"I_data\", \"H\":\"H_data\", \"D\":\"D_data\"}),\n",
    "                           )\n",
    "schema = plots.pad(schema, 5)\n",
    "plots.ipy_display(schema)"
   ]
  },
  {
   "cell_type": "markdown",
   "id": "8a4b3a04-85c0-4304-b1d1-8cada3489c06",
   "metadata": {},
   "source": [
    "### Post-process and save results"
   ]
  },
  {
   "cell_type": "code",
   "execution_count": null,
   "id": "847cbfec-7202-4c00-808d-d28898bc0763",
   "metadata": {},
   "outputs": [],
   "source": [
    "# Save results\n",
    "result1B[\"data\"]"
   ]
  },
  {
   "cell_type": "markdown",
   "id": "6bb62a41-3d64-4e07-857d-cd79b1305452",
   "metadata": {},
   "source": [
    "# (2) Forecast 2: 07/22/2021 - 08/19/2021"
   ]
  },
  {
   "cell_type": "markdown",
   "id": "d4f2fbf0-ed66-4383-8808-3971a979d08e",
   "metadata": {},
   "source": [
    "## (A) Calibrate and sample an ensemble of one model"
   ]
  },
  {
   "cell_type": "code",
   "execution_count": null,
   "id": "58a1d7c7-a0d0-430f-9bd2-1069a46803a0",
   "metadata": {},
   "outputs": [],
   "source": [
    "num_samples = 100\n",
    "models = [model5_location]\n",
    "data_location = DATA_PATH + \"NYS_T2_forecast2.csv\"\n",
    "weights = [1]\n",
    "solution_mappings = [{\"I\": \"infected\", \"H\": \"hospitalized\", \"D\": \"dead\"}]\n",
    "\n",
    "# Run the calibration and sampling\n",
    "result2A = load_and_calibrate_and_sample_ensemble_model(\n",
    "    models,\n",
    "    data_location,\n",
    "    weights,\n",
    "    solution_mappings,\n",
    "    num_samples,\n",
    "    timepoints2,\n",
    "    verbose=True,\n",
    "    total_population=19340000,\n",
    "    num_iterations=N_ITERATIONS,\n",
    "    time_unit=\"days\",\n",
    "    visual_options={\"title\": \"Calibrated Ensemble\", \"keep\":\".*_sol\"}\n",
    ")\n",
    "\n",
    "# Plot results\n",
    "schema = plots.trajectories(pd.DataFrame(result2A[\"data\"]), keep=\".*_sol\",\n",
    "                            points=all_data2.reset_index(drop=True).rename(columns={\"I\":\"I_data\", \"H\":\"H_data\", \"D\":\"D_data\"}),\n",
    "                           )\n",
    "schema = plots.pad(schema, 5)\n",
    "plots.ipy_display(schema)"
   ]
  },
  {
   "cell_type": "markdown",
   "id": "80c170c6-1698-45cb-b853-c293fcfce235",
   "metadata": {},
   "source": [
    "### Post-process and save results"
   ]
  },
  {
   "cell_type": "code",
   "execution_count": null,
   "id": "bcb71041-7d51-44f2-bfb6-9fc0f99eda2f",
   "metadata": {},
   "outputs": [],
   "source": [
    "RESULTS_FILENAME = RESULTS_PATH + \"T2_ensemble_of1_results_Jul222021.csv\"\n",
    "QUANTILES_FILENAME = RESULTS_PATH + \"T2_ensemble_of1_quantiles_Jul222021.csv\"\n",
    "result2A[\"data\"]"
   ]
  },
  {
   "cell_type": "markdown",
   "id": "1fd19ee0-d988-408e-8ba7-7636d4c42026",
   "metadata": {},
   "source": [
    "## (B) Calibrate and sample an ensemble of multiple models"
   ]
  },
  {
   "cell_type": "code",
   "execution_count": null,
   "id": "baf52bf7-b85c-4a0b-9c1d-2335f38614d0",
   "metadata": {},
   "outputs": [],
   "source": [
    "num_samples = 100\n",
    "models = [model2_location, model4_location, model5_location]\n",
    "data_location = DATA_PATH + \"NYS_T2_forecast2.csv\"\n",
    "weights = [0.2, 0.3, 0.5] # [1/len(models) for i in models]\n",
    "solution_mappings = [{\"I\": \"I\", \"H\": \"H\", \"D\": \"D\"},\n",
    "                     {\"I\": \"infected\", \"H\": \"hospitalized\", \"D\": \"dead\"}, \n",
    "                     {\"I\": \"infected\", \"H\": \"hospitalized\", \"D\": \"dead\"}\n",
    "                     ]\n",
    "\n",
    "# Run the calibration and sampling\n",
    "result2B = load_and_calibrate_and_sample_ensemble_model(\n",
    "    models,\n",
    "    data_location,\n",
    "    weights,\n",
    "    solution_mappings,\n",
    "    num_samples,\n",
    "    timepoints2,\n",
    "    verbose=True,\n",
    "    total_population=19340000,\n",
    "    num_iterations=N_ITERATIONS,\n",
    "    time_unit=\"days\",\n",
    "    visual_options={\"title\": \"Calibrated Ensemble\", \"keep\":\".*_sol\"}\n",
    ")\n",
    "\n",
    "# Save results\n",
    "# result2B[\"data\"].to_csv(\"../../notebook/ensemble_eval_sa/ensemble_results/partI_ensemble_of_many_results.csv\", index=False)\n",
    "# result2B[\"quantiles\"].to_csv(\"../../notebook/ensemble_eval_sa/ensemble_results/partI_ensemble_of_many_quantiles.csv\", index=False)\n",
    "\n",
    "# Plot results\n",
    "schema = plots.trajectories(pd.DataFrame(result2B[\"data\"]), keep=\".*_sol\",\n",
    "                            points=all_data2.reset_index(drop=True).rename(columns={\"I\":\"I_data\", \"H\":\"H_data\", \"D\":\"D_data\"}),\n",
    "                           )\n",
    "schema = plots.pad(schema, 5)\n",
    "plots.ipy_display(schema)"
   ]
  },
  {
   "cell_type": "markdown",
   "id": "d5c5ee05-256f-493d-a186-1701f7cc74f3",
   "metadata": {},
   "source": [
    "### Post-process and save results"
   ]
  },
  {
   "cell_type": "code",
   "execution_count": null,
   "id": "7d30cbc4-829c-4743-a72a-9930565dec6a",
   "metadata": {},
   "outputs": [],
   "source": [
    "RESULTS_FILENAME = RESULTS_PATH + \"T2_ensemble_of3_results_Jul222021.csv\"\n",
    "QUANTILES_FILENAME = RESULTS_PATH + \"T2_ensemble_of3_quantiles_Jul222021.csv\""
   ]
  },
  {
   "cell_type": "markdown",
   "id": "660c527e-b402-47b1-a778-947de9a1738d",
   "metadata": {},
   "source": [
    "# (3) Forecast 3: 07/29/2021 - 08/26/2021"
   ]
  },
  {
   "cell_type": "markdown",
   "id": "a256ef1f-bacc-4a73-817d-3d07e34e401a",
   "metadata": {},
   "source": [
    "## (A) Calibrate and sample an ensemble of one model"
   ]
  },
  {
   "cell_type": "code",
   "execution_count": null,
   "id": "1dd2f951-9f35-4173-a59f-28b979ad2f12",
   "metadata": {},
   "outputs": [],
   "source": [
    "num_samples = 100\n",
    "models = [model5_location]\n",
    "data_location = DATA_PATH + \"NYS_T2_forecast3.csv\"\n",
    "weights = [1]\n",
    "solution_mappings = [{\"I\": \"infected\", \"H\": \"hospitalized\", \"D\": \"dead\"}]\n",
    "\n",
    "# Run the calibration and sampling\n",
    "result3A = load_and_calibrate_and_sample_ensemble_model(\n",
    "    models,\n",
    "    data_location,\n",
    "    weights,\n",
    "    solution_mappings,\n",
    "    num_samples,\n",
    "    timepoints3,\n",
    "    verbose=True,\n",
    "    total_population=19340000,\n",
    "    num_iterations=N_ITERATIONS,\n",
    "    time_unit=\"days\",\n",
    "    visual_options={\"title\": \"Calibrated Ensemble\", \"keep\":\".*_sol\"}\n",
    ")\n",
    "\n",
    "# # Save results\n",
    "# result3A[\"data\"].to_csv(\"../../notebook/ensemble_eval_sa/ensemble_results/partI_ensemble_of_one_results.csv\", index=False)\n",
    "# result3A[\"quantiles\"].to_csv(\"../../notebook/ensemble_eval_sa/ensemble_results/partI_ensemble_of_one_quantiles.csv\", index=False)\n",
    "\n",
    "# Plot results\n",
    "schema = plots.trajectories(pd.DataFrame(result3A[\"data\"]), keep=\".*_sol\",\n",
    "                            points=all_data3.reset_index(drop=True).rename(columns={\"I\":\"I_data\", \"H\":\"H_data\", \"D\":\"D_data\"}),\n",
    "                           )\n",
    "schema = plots.pad(schema, 5)\n",
    "plots.ipy_display(schema)"
   ]
  },
  {
   "cell_type": "markdown",
   "id": "4bc26036-b736-4c35-86b3-e76523f9e55c",
   "metadata": {},
   "source": [
    "### Post-process and save results"
   ]
  },
  {
   "cell_type": "code",
   "execution_count": null,
   "id": "0fd099ad-016a-4868-adbd-f8d51343e466",
   "metadata": {},
   "outputs": [],
   "source": [
    "RESULTS_FILENAME = RESULTS_PATH + \"T1_ensemble_of1_results_Jul292021.csv\"\n",
    "QUANTILES_FILENAME = RESULTS_PATH + \"T1_ensemble_of1_quantiles_Jul292021.csv\""
   ]
  },
  {
   "cell_type": "markdown",
   "id": "b7147419-20a1-48ae-958c-ae965c4bc7cb",
   "metadata": {},
   "source": [
    "## (B) Calibrate and sample an ensemble of multiple models"
   ]
  },
  {
   "cell_type": "code",
   "execution_count": null,
   "id": "b056660d-96e9-4f9f-a18d-3cc366143ee6",
   "metadata": {},
   "outputs": [],
   "source": [
    "num_samples = 100\n",
    "models = [model2_location, model4_location, model5_location]\n",
    "data_location = DATA_PATH + \"NYS_T2_forecast3.csv\"\n",
    "weights = [0.2, 0.3, 0.5] # [1/len(models) for i in models]\n",
    "solution_mappings = [{\"I\": \"I\", \"H\": \"H\", \"D\": \"D\"},\n",
    "                     {\"I\": \"infected\", \"H\": \"hospitalized\", \"D\": \"dead\"}, \n",
    "                     {\"I\": \"infected\", \"H\": \"hospitalized\", \"D\": \"dead\"}\n",
    "                     ]\n",
    "\n",
    "# Run the calibration and sampling\n",
    "result3B = load_and_calibrate_and_sample_ensemble_model(\n",
    "    models,\n",
    "    data_location,\n",
    "    weights,\n",
    "    solution_mappings,\n",
    "    num_samples,\n",
    "    timepoints3,\n",
    "    verbose=True,\n",
    "    total_population=19340000,\n",
    "    num_iterations=N_ITERATIONS,\n",
    "    time_unit=\"days\",\n",
    "    visual_options={\"title\": \"Calibrated Ensemble\", \"keep\":\".*_sol\"}\n",
    ")\n",
    "\n",
    "# Save results\n",
    "# result3B[\"data\"].to_csv(\"../../notebook/ensemble_eval_sa/ensemble_results/partI_ensemble_of_many_results.csv\", index=False)\n",
    "# result3B[\"quantiles\"].to_csv(\"../../notebook/ensemble_eval_sa/ensemble_results/partI_ensemble_of_many_quantiles.csv\", index=False)\n",
    "\n",
    "# Plot results\n",
    "schema = plots.trajectories(pd.DataFrame(result3B[\"data\"]), keep=\".*_sol\",\n",
    "                            points=all_data3.reset_index(drop=True).rename(columns={\"I\":\"I_data\", \"H\":\"H_data\", \"D\":\"D_data\"}),\n",
    "                           )\n",
    "schema = plots.pad(schema, 5)\n",
    "plots.ipy_display(schema)"
   ]
  },
  {
   "cell_type": "markdown",
   "id": "ae3021be-b865-41ae-a7fd-d2aa17589e98",
   "metadata": {},
   "source": [
    "### Post-process and save results"
   ]
  },
  {
   "cell_type": "code",
   "execution_count": null,
   "id": "3c9d7941-2613-48ab-8f3e-c15cf6f3a90d",
   "metadata": {},
   "outputs": [],
   "source": [
    "RESULTS_FILENAME = RESULTS_PATH + \"T2_ensemble_of3_results_Jul292021.csv\"\n",
    "QUANTILES_FILENAME = RESULTS_PATH + \"T2_ensemble_of3_quantiles_Jul292021.csv\""
   ]
  },
  {
   "cell_type": "markdown",
   "id": "c8b29e7f-2055-41c2-ae45-ca80c73e6abf",
   "metadata": {},
   "source": [
    "# (4) Forecast 4: 08/05/2021 - 09/02/2021"
   ]
  },
  {
   "cell_type": "markdown",
   "id": "bb248298-0c2a-44d2-aac7-4f5254710626",
   "metadata": {},
   "source": [
    "## (A) Calibrate and sample an ensemble of one model"
   ]
  },
  {
   "cell_type": "code",
   "execution_count": null,
   "id": "42a31d84-5596-47ed-bf7b-46c82ec255a9",
   "metadata": {},
   "outputs": [],
   "source": [
    "num_samples = 100\n",
    "models = [model5_location]\n",
    "data_location = DATA_PATH + \"NYS_T2_forecast4.csv\"\n",
    "weights = [1]\n",
    "solution_mappings = [{\"I\": \"infected\", \"H\": \"hospitalized\", \"D\": \"dead\"}]\n",
    "\n",
    "# Run the calibration and sampling\n",
    "result4A = load_and_calibrate_and_sample_ensemble_model(\n",
    "    models,\n",
    "    data_location,\n",
    "    weights,\n",
    "    solution_mappings,\n",
    "    num_samples,\n",
    "    timepoints4,\n",
    "    verbose=True,\n",
    "    total_population=19340000,\n",
    "    num_iterations=N_ITERATIONS,\n",
    "    time_unit=\"days\",\n",
    "    visual_options={\"title\": \"Calibrated Ensemble\", \"keep\":\".*_sol\"}\n",
    ")\n",
    "\n",
    "# # Save results\n",
    "# result4A[\"data\"].to_csv(\"../../notebook/ensemble_eval_sa/ensemble_results/partI_ensemble_of_one_results.csv\", index=False)\n",
    "# result4A[\"quantiles\"].to_csv(\"../../notebook/ensemble_eval_sa/ensemble_results/partI_ensemble_of_one_quantiles.csv\", index=False)\n",
    "\n",
    "# Plot results\n",
    "schema = plots.trajectories(pd.DataFrame(result4A[\"data\"]), keep=\".*_sol\",\n",
    "                            points=all_data4.reset_index(drop=True).rename(columns={\"I\":\"I_data\", \"H\":\"H_data\", \"D\":\"D_data\"}),\n",
    "                           )\n",
    "schema = plots.pad(schema, 5)\n",
    "plots.ipy_display(schema)"
   ]
  },
  {
   "cell_type": "markdown",
   "id": "06c8f509-6a02-43e6-8864-39ee89171c01",
   "metadata": {},
   "source": [
    "### Post-process and save results"
   ]
  },
  {
   "cell_type": "code",
   "execution_count": null,
   "id": "1e6f1fc1-4d75-402b-96f6-f36d0868abb7",
   "metadata": {},
   "outputs": [],
   "source": [
    "RESULTS_FILENAME = RESULTS_PATH + \"T1_ensemble_of1_results_Aug052021.csv\"\n",
    "QUANTILES_FILENAME = RESULTS_PATH + \"T1_ensemble_of1_quantiles_Aug052021.csv\""
   ]
  },
  {
   "cell_type": "markdown",
   "id": "eea3812e-5175-48b2-b553-e5d2057c2f6c",
   "metadata": {},
   "source": [
    "## (B) Calibrate and sample an ensemble of multiple models"
   ]
  },
  {
   "cell_type": "code",
   "execution_count": null,
   "id": "fe77b9dd-0cbe-4794-b42f-2cf3e93a7264",
   "metadata": {},
   "outputs": [],
   "source": [
    "num_samples = 100\n",
    "models = [model2_location, model4_location, model5_location]\n",
    "data_location = DATA_PATH + \"NYS_T2_forecast4.csv\"\n",
    "weights = [0.2, 0.3, 0.5] # [1/len(models) for i in models]\n",
    "solution_mappings = [{\"I\": \"I\", \"H\": \"H\", \"D\": \"D\"},\n",
    "                     {\"I\": \"infected\", \"H\": \"hospitalized\", \"D\": \"dead\"}, \n",
    "                     {\"I\": \"infected\", \"H\": \"hospitalized\", \"D\": \"dead\"}\n",
    "                     ]\n",
    "\n",
    "# Run the calibration and sampling\n",
    "result4B = load_and_calibrate_and_sample_ensemble_model(\n",
    "    models,\n",
    "    data_location,\n",
    "    weights,\n",
    "    solution_mappings,\n",
    "    num_samples,\n",
    "    timepoints4,\n",
    "    verbose=True,\n",
    "    total_population=19340000,\n",
    "    num_iterations=N_ITERATIONS,\n",
    "    time_unit=\"days\",\n",
    "    visual_options={\"title\": \"Calibrated Ensemble\", \"keep\":\".*_sol\"}\n",
    ")\n",
    "\n",
    "# Save results\n",
    "# result4B[\"data\"].to_csv(\"../../notebook/ensemble_eval_sa/ensemble_results/partI_ensemble_of_many_results.csv\", index=False)\n",
    "# result4B[\"quantiles\"].to_csv(\"../../notebook/ensemble_eval_sa/ensemble_results/partI_ensemble_of_many_quantiles.csv\", index=False)\n",
    "\n",
    "# Plot results\n",
    "schema = plots.trajectories(pd.DataFrame(result4B[\"data\"]), keep=\".*_sol\",\n",
    "                            points=all_data4.reset_index(drop=True).rename(columns={\"I\":\"I_data\", \"H\":\"H_data\", \"D\":\"D_data\"}),\n",
    "                           )\n",
    "schema = plots.pad(schema, 5)\n",
    "plots.ipy_display(schema)"
   ]
  },
  {
   "cell_type": "markdown",
   "id": "9b23d7bc-e0ca-496b-b27f-eed72e1b98ce",
   "metadata": {},
   "source": [
    "### Post-process and save results"
   ]
  },
  {
   "cell_type": "code",
   "execution_count": null,
   "id": "852ac5dd-e160-4ae9-bc87-f0baea52b299",
   "metadata": {},
   "outputs": [],
   "source": [
    "RESULTS_FILENAME = RESULTS_PATH + \"T1_ensemble_of3_results_Aug052021.csv\"\n",
    "QUANTILES_FILENAME = RESULTS_PATH + \"T1_ensemble_of3_quantiles_Aug052021.csv\""
   ]
  }
 ],
 "metadata": {
  "kernelspec": {
   "display_name": "Python 3 (ipykernel)",
   "language": "python",
   "name": "python3"
  },
  "language_info": {
   "codemirror_mode": {
    "name": "ipython",
    "version": 3
   },
   "file_extension": ".py",
   "mimetype": "text/x-python",
   "name": "python",
   "nbconvert_exporter": "python",
   "pygments_lexer": "ipython3",
   "version": "3.10.9"
  }
 },
 "nbformat": 4,
 "nbformat_minor": 5
}
