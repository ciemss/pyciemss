{
 "cells": [
  {
   "cell_type": "markdown",
   "id": "669c02c9",
   "metadata": {},
   "source": [
    "# Ensemble Challenge: Timepoint 2\n",
    "\n",
    "Goal: to capture the complexity and nuances around the evolution of the pandemic at various stages and locations.\n",
    "\n",
    "Location A: New York State\n",
    "Consider the following settings:\n",
    "Timepoint 1: April 3, 2020. Setting: New York State at the beginning of the pandemic when masking was the main preventative measure. No vaccines available.\n",
    "\n",
    "Timepoint 2: July 15, 2021. Setting: New York State upon the arrival of the Delta variant. Vaccines available.\n",
    "\n",
    "Timepoint 3: January 4, 2022. Setting: New York State coinciding with the arrival of the first Omicron wave. At-home testing widely available.\n",
    "\n",
    "BONUS: Consider the same three time points, but change the setting to Texas, which had different COVID-19 dynamics compared to the Northeastern states.\n",
    "\n",
    "...and related questions for each:\n",
    "What is the most relevant data to use for model calibration?\n",
    "What was our understanding of COVID-19 viral mechanisms at the time? For example, early in the pandemic, we didn't know if reinfection was a common occurance, or even possible.\n",
    "What are the parameters related to contagiousness/transmissibility and severity of the dominant strain at the time?\n",
    "What policies were in place for a stated location, and how can this information be incorporated into models? (See https://www.bsg.ox.ac.uk/research/covid-19-government-response-tracker for time series of interventions).\n",
    "Also--this is a good source for parameters: https://www.cdc.gov/coronavirus/2019-ncov/hcp/planning-scenarios.html\n",
    "\n",
    "For each timepoint:\n",
    "(a) Take a single model, calibrate it using any historical data prior to the given date, and create a 4-week forecast for cases, hospitalizations, and deaths beginning on the given date. (b) Evaluate the forecast using the COVID-19 Forecasting Hub Error Metrics (WIS, MAE). The single model evaluation should be done in the same way as the ensemble.\n",
    "\n",
    "Repeat (1), but with an ensemble of different models.\n",
    "\n",
    "a. It is fine to calibrate each model independently and weight naively.\n",
    "\n",
    "b. It would also be fine to calibrate the ensemble as a whole, assigning weights to the different component models, so that you minimize the error of the ensemble vs. historical data.\n",
    "\n",
    "c. Use the calibration scores and error metrics computed by the CDC Forecasting Hub. As stated on their website:\n",
    "\n",
    "“Periodically, we evaluate the accuracy and precision of the ensemble forecast and component models over recent and historical forecasting periods. Models forecasting incident hospitalizations at a national and state level are evaluated using adjusted relative weighted interval scores (WIS, a measure of distributional accuracy), and adjusted relative mean absolute error (MAE), and calibration scores. Scores are evaluated across weeks, locations, and targets. You can read a paper explaining these procedures in more detail, and look at the most recent monthly evaluation reports. The final report that includes case and death forecast evaluations is 2023-03-13.”\n",
    "\n",
    "Produce the forecast outputs in the format specified by the CDC forecasting challenge, including the specified quantiles.\n",
    "\n",
    "Data\n",
    "Use the following data sources:\n",
    "\n",
    "Cases: Johns Hopkins, Reich Lab (pulled from Johns Hopkins, but formatted)\n",
    "\n",
    "Hospitalizations: HealthData.gov\n",
    "\n",
    "Deaths: Johns Hopkins, Reich Lab"
   ]
  },
  {
   "cell_type": "markdown",
   "id": "1fda4fda-2bd7-468c-8e91-d0d4323074c2",
   "metadata": {},
   "source": [
    "### Load dependencies"
   ]
  },
  {
   "cell_type": "code",
   "execution_count": 5,
   "id": "13880386",
   "metadata": {},
   "outputs": [],
   "source": [
    "import os\n",
    "import pandas as pd\n",
    "import numpy as np\n",
    "from pyciemss.Ensemble.interfaces import (\n",
    "    load_and_sample_petri_ensemble, load_and_calibrate_and_sample_ensemble_model\n",
    ")\n",
    "from pyciemss.PetriNetODE.interfaces import (\n",
    "    load_and_sample_petri_model,\n",
    "    load_and_calibrate_and_sample_petri_model,\n",
    "    load_and_optimize_and_sample_petri_model,\n",
    "    load_and_calibrate_and_optimize_and_sample_petri_model\n",
    ")\n",
    "from pyciemss.visuals import plots"
   ]
  },
  {
   "cell_type": "markdown",
   "id": "2fab9bd4-3f9d-42e0-8fd5-e91bff3d81ba",
   "metadata": {},
   "source": [
    "## Get data"
   ]
  },
  {
   "cell_type": "code",
   "execution_count": 17,
   "id": "7a4942e1-ac95-4c72-9233-dd004cdf75c0",
   "metadata": {},
   "outputs": [],
   "source": [
    "url = 'https://raw.githubusercontent.com/DARPA-ASKEM/experiments/main/thin-thread-examples/milestone_12month/evaluation/ensemble_eval_SA/datasets/aabb3684-a7ea-4f60-98f1-a8e673ad6df5/dataset.csv'\n",
    "ny_data = pd.read_csv(url)\n",
    "\n",
    "# Grab test data for four-week forecast (07/15/2021 - 05/01/2020)\n",
    "test_data = ny_data[0:569].drop(columns=\"timestep\")\n",
    "\n",
    "# Select historical data up to Timepoint 2, 07/14/2021 (the first 541 rows)\n",
    "ny_data = ny_data[0:540]\n",
    "ny_data[[\"I\", \"H\", \"D\"]].to_csv(\"NY_data2.csv\")"
   ]
  },
  {
   "cell_type": "markdown",
   "id": "5d809e73-ddcc-409e-8378-5a4047c1b50e",
   "metadata": {},
   "source": [
    "## Set up timepoints"
   ]
  },
  {
   "cell_type": "code",
   "execution_count": 7,
   "id": "006c142f-dfea-498f-a9b2-342fbee162ea",
   "metadata": {},
   "outputs": [],
   "source": [
    "start_timepoint = 0\n",
    "stop_timepoint = 540 + 28 # simulate for four weeks after end of data\n",
    "timepoints = [float(i) for i in range(stop_timepoint + 1)]"
   ]
  },
  {
   "cell_type": "markdown",
   "id": "2ab1a51e-ccb6-4d74-8e8c-71893a1975a7",
   "metadata": {},
   "source": [
    "## Select relevant models"
   ]
  },
  {
   "cell_type": "code",
   "execution_count": 14,
   "id": "459be6a2-d0ba-457f-9d47-dbd63a2ab57d",
   "metadata": {},
   "outputs": [],
   "source": [
    "model1_location = \"../../notebook/ensemble_eval_sa/SEIRHDS_V1.json\"\n",
    "model2_location = \"../../notebook/ensemble_eval_sa/SEIRHDS_basic_config.json\"\n",
    "model3_location = \"../../notebook/ensemble_eval_sa/SIRHD_age_stratified.json\"\n",
    "model4_location = \"../../notebook/ensemble_eval_sa/SIRHD_vacc_var_V1.json\"\n",
    "model5_location = \"../../notebook/ensemble_eval_sa/SIRHD_age_vacc_var.json\"\n",
    "model6_location = \"../../notebook/ensemble_eval_sa/SIRHD_mask_V3.json\"\n",
    "model7_location = \"../../notebook/ensemble_eval_sa/SIRHD_V1C.json\"\n",
    "model8_location = \"../../notebook/ensemble_eval_sa/SEIRD_ymo_age_strat.json\""
   ]
  },
  {
   "cell_type": "markdown",
   "id": "6a860cfb-04e4-48f8-8912-c2c5565e1faa",
   "metadata": {},
   "source": [
    "## Load, calibrate and sample an ensemble of one model"
   ]
  },
  {
   "cell_type": "code",
   "execution_count": 15,
   "id": "8328b097-70b7-41fc-98fc-1d6a7a06824c",
   "metadata": {},
   "outputs": [
    {
     "name": "stdout",
     "output_type": "stream",
     "text": [
      "iteration 0: loss = 58338.33610826731\n",
      "iteration 25: loss = 29590.975372612476\n",
      "iteration 50: loss = 25451.677768051624\n",
      "iteration 75: loss = 24182.17109876871\n",
      "\n"
     ]
    },
    {
     "data": {
      "application/vnd.vega.v5+json": {
       "$schema": "https://vega.github.io/schema/vega/v5.json",
       "axes": [
        {
         "name": "x_axis",
         "orient": "bottom",
         "scale": "xscale",
         "zindex": 100
        },
        {
         "name": "y_axis",
         "orient": "left",
         "scale": "yscale",
         "zindex": 100
        }
       ],
       "data": [
        {
         "name": "distributions",
         "values": [
          {
           "lower": 5.177897185406019e-24,
           "timepoint": 0,
           "trajectory": "D_sol",
           "upper": 5.607119204392986e-24
          },
          {
           "lower": 0.000439245963934809,
           "timepoint": 1,
           "trajectory": "D_sol",
           "upper": 0.00047633976209908723
          },
          {
           "lower": 0.0015168142097536474,
           "timepoint": 2,
           "trajectory": "D_sol",
           "upper": 0.0016469387512188405
          },
          {
           "lower": 0.0029939223895780742,
           "timepoint": 3,
           "trajectory": "D_sol",
           "upper": 0.0032540537067689
          },
          {
           "lower": 0.004737281915731728,
           "timepoint": 4,
           "trajectory": "D_sol",
           "upper": 0.005152935883961618
          },
          {
           "lower": 0.006673936313018203,
           "timepoint": 5,
           "trajectory": "D_sol",
           "upper": 0.007263629185035825
          },
          {
           "lower": 0.008765296218916774,
           "timepoint": 6,
           "trajectory": "D_sol",
           "upper": 0.009543256694450974
          },
          {
           "lower": 0.010992331709712744,
           "timepoint": 7,
           "trajectory": "D_sol",
           "upper": 0.011970186326652765
          },
          {
           "lower": 0.013347211712971329,
           "timepoint": 8,
           "trajectory": "D_sol",
           "upper": 0.014534901408478618
          },
          {
           "lower": 0.015828404761850833,
           "timepoint": 9,
           "trajectory": "D_sol",
           "upper": 0.017234924994409085
          },
          {
           "lower": 0.018438031990081073,
           "timepoint": 10,
           "trajectory": "D_sol",
           "upper": 0.02007180070504546
          },
          {
           "lower": 0.021180390659719706,
           "timepoint": 11,
           "trajectory": "D_sol",
           "upper": 0.023049476277083158
          },
          {
           "lower": 0.024061065167188644,
           "timepoint": 12,
           "trajectory": "D_sol",
           "upper": 0.026173371821641922
          },
          {
           "lower": 0.027086500544101,
           "timepoint": 13,
           "trajectory": "D_sol",
           "upper": 0.029449870344251394
          },
          {
           "lower": 0.030263744201511143,
           "timepoint": 14,
           "trajectory": "D_sol",
           "upper": 0.03288603769615293
          },
          {
           "lower": 0.03360039610415697,
           "timepoint": 15,
           "trajectory": "D_sol",
           "upper": 0.03648944701999426
          },
          {
           "lower": 0.03710447642952204,
           "timepoint": 16,
           "trajectory": "D_sol",
           "upper": 0.040268279425799844
          },
          {
           "lower": 0.04078437685966492,
           "timepoint": 17,
           "trajectory": "D_sol",
           "upper": 0.04423093497753143
          },
          {
           "lower": 0.04464896898716688,
           "timepoint": 18,
           "trajectory": "D_sol",
           "upper": 0.048386449553072454
          },
          {
           "lower": 0.04870759733021259,
           "timepoint": 19,
           "trajectory": "D_sol",
           "upper": 0.052744127437472345
          },
          {
           "lower": 0.05296999718993902,
           "timepoint": 20,
           "trajectory": "D_sol",
           "upper": 0.057313925214111806
          },
          {
           "lower": 0.05744643155485392,
           "timepoint": 21,
           "trajectory": "D_sol",
           "upper": 0.06210610251873731
          },
          {
           "lower": 0.06214770711958408,
           "timepoint": 22,
           "trajectory": "D_sol",
           "upper": 0.06713152639567851
          },
          {
           "lower": 0.06708504855632783,
           "timepoint": 23,
           "trajectory": "D_sol",
           "upper": 0.07240156233310699
          },
          {
           "lower": 0.07227044589817525,
           "timepoint": 24,
           "trajectory": "D_sol",
           "upper": 0.07792817018926143
          },
          {
           "lower": 0.0777162790298462,
           "timepoint": 25,
           "trajectory": "D_sol",
           "upper": 0.08372381031513214
          },
          {
           "lower": 0.08343568220734596,
           "timepoint": 26,
           "trajectory": "D_sol",
           "upper": 0.08980159685015679
          },
          {
           "lower": 0.08944223374128342,
           "timepoint": 27,
           "trajectory": "D_sol",
           "upper": 0.09617503434419632
          },
          {
           "lower": 0.095750592648983,
           "timepoint": 28,
           "trajectory": "D_sol",
           "upper": 0.10285884886980057
          },
          {
           "lower": 0.1023757990449667,
           "timepoint": 29,
           "trajectory": "D_sol",
           "upper": 0.10986803360283375
          },
          {
           "lower": 0.10933380275964737,
           "timepoint": 30,
           "trajectory": "D_sol",
           "upper": 0.1172183707356453
          },
          {
           "lower": 0.11664129979908466,
           "timepoint": 31,
           "trajectory": "D_sol",
           "upper": 0.12492654286324978
          },
          {
           "lower": 0.12431586124002933,
           "timepoint": 32,
           "trajectory": "D_sol",
           "upper": 0.13300989978015423
          },
          {
           "lower": 0.1323758751153946,
           "timepoint": 33,
           "trajectory": "D_sol",
           "upper": 0.1414866954088211
          },
          {
           "lower": 0.14084091633558274,
           "timepoint": 34,
           "trajectory": "D_sol",
           "upper": 0.15037641078233718
          },
          {
           "lower": 0.14973109513521193,
           "timepoint": 35,
           "trajectory": "D_sol",
           "upper": 0.1596986398100853
          },
          {
           "lower": 0.1590678423643112,
           "timepoint": 36,
           "trajectory": "D_sol",
           "upper": 0.16947459876537324
          },
          {
           "lower": 0.1688735455274582,
           "timepoint": 37,
           "trajectory": "D_sol",
           "upper": 0.1797267824411392
          },
          {
           "lower": 0.17917182967066764,
           "timepoint": 38,
           "trajectory": "D_sol",
           "upper": 0.19047786369919778
          },
          {
           "lower": 0.1899874024093151,
           "timepoint": 39,
           "trajectory": "D_sol",
           "upper": 0.20175230875611305
          },
          {
           "lower": 0.2013463206589222,
           "timepoint": 40,
           "trajectory": "D_sol",
           "upper": 0.2135755442082882
          },
          {
           "lower": 0.21327580139040947,
           "timepoint": 41,
           "trajectory": "D_sol",
           "upper": 0.22597438469529152
          },
          {
           "lower": 0.22580459266901015,
           "timepoint": 42,
           "trajectory": "D_sol",
           "upper": 0.23897684067487718
          },
          {
           "lower": 0.23896284252405167,
           "timepoint": 43,
           "trajectory": "D_sol",
           "upper": 0.2526123091578484
          },
          {
           "lower": 0.2527815908193588,
           "timepoint": 44,
           "trajectory": "D_sol",
           "upper": 0.26691130697727206
          },
          {
           "lower": 0.26729465276002884,
           "timepoint": 45,
           "trajectory": "D_sol",
           "upper": 0.2819063887000084
          },
          {
           "lower": 0.2825366944074631,
           "timepoint": 46,
           "trajectory": "D_sol",
           "upper": 0.2976312547922134
          },
          {
           "lower": 0.29854495972394945,
           "timepoint": 47,
           "trajectory": "D_sol",
           "upper": 0.3141224518418312
          },
          {
           "lower": 0.31535702645778657,
           "timepoint": 48,
           "trajectory": "D_sol",
           "upper": 0.3314158946275711
          },
          {
           "lower": 0.3330137088894844,
           "timepoint": 49,
           "trajectory": "D_sol",
           "upper": 0.34955105632543565
          },
          {
           "lower": 0.35155694782733915,
           "timepoint": 50,
           "trajectory": "D_sol",
           "upper": 0.36856896579265597
          },
          {
           "lower": 0.37103203386068345,
           "timepoint": 51,
           "trajectory": "D_sol",
           "upper": 0.38851367980241774
          },
          {
           "lower": 0.39148527234792707,
           "timepoint": 52,
           "trajectory": "D_sol",
           "upper": 0.40942868739366534
          },
          {
           "lower": 0.41296602338552474,
           "timepoint": 53,
           "trajectory": "D_sol",
           "upper": 0.43136187344789506
          },
          {
           "lower": 0.4355257570743561,
           "timepoint": 54,
           "trajectory": "D_sol",
           "upper": 0.45436258912086486
          },
          {
           "lower": 0.4592187836766243,
           "timepoint": 55,
           "trajectory": "D_sol",
           "upper": 0.47848318666219714
          },
          {
           "lower": 0.48410210460424424,
           "timepoint": 56,
           "trajectory": "D_sol",
           "upper": 0.5037777975201607
          },
          {
           "lower": 0.510235172510147,
           "timepoint": 57,
           "trajectory": "D_sol",
           "upper": 0.5303042113780976
          },
          {
           "lower": 0.5376813352108002,
           "timepoint": 58,
           "trajectory": "D_sol",
           "upper": 0.5581218063831329
          },
          {
           "lower": 0.5665061742067337,
           "timepoint": 59,
           "trajectory": "D_sol",
           "upper": 0.5872937768697739
          },
          {
           "lower": 0.5967791825532913,
           "timepoint": 60,
           "trajectory": "D_sol",
           "upper": 0.6178862899541855
          },
          {
           "lower": 0.628571817278862,
           "timepoint": 61,
           "trajectory": "D_sol",
           "upper": 0.649966350197792
          },
          {
           "lower": 0.6619621753692627,
           "timepoint": 62,
           "trajectory": "D_sol",
           "upper": 0.6836091041564941
          },
          {
           "lower": 0.6970296859741211,
           "timepoint": 63,
           "trajectory": "D_sol",
           "upper": 0.7188892602920532
          },
          {
           "lower": 0.7338595479726792,
           "timepoint": 64,
           "trajectory": "D_sol",
           "upper": 0.7558881551027298
          },
          {
           "lower": 0.7725392431020737,
           "timepoint": 65,
           "trajectory": "D_sol",
           "upper": 0.7946875840425491
          },
          {
           "lower": 0.8131623029708862,
           "timepoint": 66,
           "trajectory": "D_sol",
           "upper": 0.8353759288787842
          },
          {
           "lower": 0.855824762582779,
           "timepoint": 67,
           "trajectory": "D_sol",
           "upper": 0.8780451476573944
          },
          {
           "lower": 0.9006309807300568,
           "timepoint": 68,
           "trajectory": "D_sol",
           "upper": 0.9227908551692963
          },
          {
           "lower": 0.9476877629756928,
           "timepoint": 69,
           "trajectory": "D_sol",
           "upper": 0.9697154581546783
          },
          {
           "lower": 0.9971081197261811,
           "timepoint": 70,
           "trajectory": "D_sol",
           "upper": 1.018924456834793
          },
          {
           "lower": 1.0490126848220824,
           "timepoint": 71,
           "trajectory": "D_sol",
           "upper": 1.0705287218093873
          },
          {
           "lower": 1.103523325920105,
           "timepoint": 72,
           "trajectory": "D_sol",
           "upper": 1.1246454000473023
          },
          {
           "lower": 1.1607720494270324,
           "timepoint": 73,
           "trajectory": "D_sol",
           "upper": 1.181396520137787
          },
          {
           "lower": 1.2208976447582245,
           "timepoint": 74,
           "trajectory": "D_sol",
           "upper": 1.240910679101944
          },
          {
           "lower": 1.2840433537960052,
           "timepoint": 75,
           "trajectory": "D_sol",
           "upper": 1.3033216774463654
          },
          {
           "lower": 1.3503614127635957,
           "timepoint": 76,
           "trajectory": "D_sol",
           "upper": 1.3687711298465728
          },
          {
           "lower": 1.420012402534485,
           "timepoint": 77,
           "trajectory": "D_sol",
           "upper": 1.437406849861145
          },
          {
           "lower": 1.4931567192077637,
           "timepoint": 78,
           "trajectory": "D_sol",
           "upper": 1.5093838691711425
          },
          {
           "lower": 1.5699788749217987,
           "timepoint": 79,
           "trajectory": "D_sol",
           "upper": 1.5848648130893708
          },
          {
           "lower": 1.6506605267524719,
           "timepoint": 80,
           "trajectory": "D_sol",
           "upper": 1.6640202879905701
          },
          {
           "lower": 1.7353933691978454,
           "timepoint": 81,
           "trajectory": "D_sol",
           "upper": 1.747029221057892
          },
          {
           "lower": 1.8243836641311646,
           "timepoint": 82,
           "trajectory": "D_sol",
           "upper": 1.834079098701477
          },
          {
           "lower": 1.9178445875644683,
           "timepoint": 83,
           "trajectory": "D_sol",
           "upper": 1.9253664672374726
          },
          {
           "lower": 2.015999269485474,
           "timepoint": 84,
           "trajectory": "D_sol",
           "upper": 2.0210967540740965
          },
          {
           "lower": 2.119085168838501,
           "timepoint": 85,
           "trajectory": "D_sol",
           "upper": 2.121490144729614
          },
          {
           "lower": 2.226769411563873,
           "timepoint": 86,
           "trajectory": "D_sol",
           "upper": 2.2273481249809266
          },
          {
           "lower": 2.337174618244171,
           "timepoint": 87,
           "trajectory": "D_sol",
           "upper": 2.3410492300987245
          },
          {
           "lower": 2.4529552817344666,
           "timepoint": 88,
           "trajectory": "D_sol",
           "upper": 2.4604661107063293
          },
          {
           "lower": 2.574366903305054,
           "timepoint": 89,
           "trajectory": "D_sol",
           "upper": 2.58587851524353
          },
          {
           "lower": 2.701692283153534,
           "timepoint": 90,
           "trajectory": "D_sol",
           "upper": 2.717591345310211
          },
          {
           "lower": 2.835215616226196,
           "timepoint": 91,
           "trajectory": "D_sol",
           "upper": 2.855918836593628
          },
          {
           "lower": 2.975239300727844,
           "timepoint": 92,
           "trajectory": "D_sol",
           "upper": 3.001194930076599
          },
          {
           "lower": 3.12207909822464,
           "timepoint": 93,
           "trajectory": "D_sol",
           "upper": 3.1537671446800233
          },
          {
           "lower": 3.276065301895142,
           "timepoint": 94,
           "trajectory": "D_sol",
           "upper": 3.3140016078948973
          },
          {
           "lower": 3.43754643201828,
           "timepoint": 95,
           "trajectory": "D_sol",
           "upper": 3.48229318857193
          },
          {
           "lower": 3.606895399093628,
           "timepoint": 96,
           "trajectory": "D_sol",
           "upper": 3.659032392501831
          },
          {
           "lower": 3.7844841718673705,
           "timepoint": 97,
           "trajectory": "D_sol",
           "upper": 3.8446476221084596
          },
          {
           "lower": 3.970718026161194,
           "timepoint": 98,
           "trajectory": "D_sol",
           "upper": 4.0395907163619995
          },
          {
           "lower": 4.166014504432678,
           "timepoint": 99,
           "trajectory": "D_sol",
           "upper": 4.244323420524597
          },
          {
           "lower": 4.370819616317749,
           "timepoint": 100,
           "trajectory": "D_sol",
           "upper": 4.459337663650513
          },
          {
           "lower": 4.585592555999756,
           "timepoint": 101,
           "trajectory": "D_sol",
           "upper": 4.6851527214050295
          },
          {
           "lower": 4.810819411277771,
           "timepoint": 102,
           "trajectory": "D_sol",
           "upper": 4.922309613227844
          },
          {
           "lower": 5.047012519836426,
           "timepoint": 103,
           "trajectory": "D_sol",
           "upper": 5.171376037597656
          },
          {
           "lower": 5.294700646400452,
           "timepoint": 104,
           "trajectory": "D_sol",
           "upper": 5.432948565483093
          },
          {
           "lower": 5.554445290565491,
           "timepoint": 105,
           "trajectory": "D_sol",
           "upper": 5.707670664787292
          },
          {
           "lower": 5.826832723617554,
           "timepoint": 106,
           "trajectory": "D_sol",
           "upper": 5.996184396743774
          },
          {
           "lower": 6.112477946281433,
           "timepoint": 107,
           "trajectory": "D_sol",
           "upper": 6.299188446998596
          },
          {
           "lower": 6.412026643753052,
           "timepoint": 108,
           "trajectory": "D_sol",
           "upper": 6.617406606674194
          },
          {
           "lower": 6.726154065132141,
           "timepoint": 109,
           "trajectory": "D_sol",
           "upper": 6.95160939693451
          },
          {
           "lower": 7.055571722984314,
           "timepoint": 110,
           "trajectory": "D_sol",
           "upper": 7.302595448493958
          },
          {
           "lower": 7.401021790504456,
           "timepoint": 111,
           "trajectory": "D_sol",
           "upper": 7.67120521068573
          },
          {
           "lower": 7.763285803794861,
           "timepoint": 112,
           "trajectory": "D_sol",
           "upper": 8.05833179950714
          },
          {
           "lower": 8.143180990219117,
           "timepoint": 113,
           "trajectory": "D_sol",
           "upper": 8.464894151687622
          },
          {
           "lower": 8.541564798355102,
           "timepoint": 114,
           "trajectory": "D_sol",
           "upper": 8.89187159538269
          },
          {
           "lower": 8.959335899353027,
           "timepoint": 115,
           "trajectory": "D_sol",
           "upper": 9.34029712677002
          },
          {
           "lower": 9.397437477111817,
           "timepoint": 116,
           "trajectory": "D_sol",
           "upper": 9.811234092712402
          },
          {
           "lower": 9.856860780715943,
           "timepoint": 117,
           "trajectory": "D_sol",
           "upper": 10.305817937850952
          },
          {
           "lower": 10.338638925552369,
           "timepoint": 118,
           "trajectory": "D_sol",
           "upper": 10.825241422653198
          },
          {
           "lower": 10.843855237960815,
           "timepoint": 119,
           "trajectory": "D_sol",
           "upper": 11.370741510391236
          },
          {
           "lower": 11.373678350448609,
           "timepoint": 120,
           "trajectory": "D_sol",
           "upper": 11.943631029129028
          },
          {
           "lower": 11.929268503189087,
           "timepoint": 121,
           "trajectory": "D_sol",
           "upper": 12.545286512374878
          },
          {
           "lower": 12.511890888214111,
           "timepoint": 122,
           "trajectory": "D_sol",
           "upper": 13.177138805389404
          },
          {
           "lower": 13.1228581905365,
           "timepoint": 123,
           "trajectory": "D_sol",
           "upper": 13.840714311599731
          },
          {
           "lower": 13.763571882247925,
           "timepoint": 124,
           "trajectory": "D_sol",
           "upper": 14.53759560585022
          },
          {
           "lower": 14.435447788238525,
           "timepoint": 125,
           "trajectory": "D_sol",
           "upper": 15.269483470916748
          },
          {
           "lower": 15.140014791488648,
           "timepoint": 126,
           "trajectory": "D_sol",
           "upper": 16.038098192214967
          },
          {
           "lower": 15.878851556777954,
           "timepoint": 127,
           "trajectory": "D_sol",
           "upper": 16.845299100875856
          },
          {
           "lower": 16.653633975982665,
           "timepoint": 128,
           "trajectory": "D_sol",
           "upper": 17.693024730682374
          },
          {
           "lower": 17.466106796264647,
           "timepoint": 129,
           "trajectory": "D_sol",
           "upper": 18.583251571655275
          },
          {
           "lower": 18.318109130859376,
           "timepoint": 130,
           "trajectory": "D_sol",
           "upper": 19.518186950683592
          },
          {
           "lower": 19.211549949645995,
           "timepoint": 131,
           "trajectory": "D_sol",
           "upper": 20.500043678283692
          },
          {
           "lower": 20.14845199584961,
           "timepoint": 132,
           "trajectory": "D_sol",
           "upper": 21.531170654296876
          },
          {
           "lower": 21.130931091308593,
           "timepoint": 133,
           "trajectory": "D_sol",
           "upper": 22.614037322998048
          },
          {
           "lower": 22.161163425445558,
           "timepoint": 134,
           "trajectory": "D_sol",
           "upper": 23.75123014450073
          },
          {
           "lower": 23.241512298583984,
           "timepoint": 135,
           "trajectory": "D_sol",
           "upper": 24.945491790771484
          },
          {
           "lower": 24.374400329589843,
           "timepoint": 136,
           "trajectory": "D_sol",
           "upper": 26.199662017822266
          },
          {
           "lower": 25.562383270263673,
           "timepoint": 137,
           "trajectory": "D_sol",
           "upper": 27.51674118041992
          },
          {
           "lower": 26.80812339782715,
           "timepoint": 138,
           "trajectory": "D_sol",
           "upper": 28.899899673461913
          },
          {
           "lower": 28.114439296722413,
           "timepoint": 139,
           "trajectory": "D_sol",
           "upper": 30.352428150177
          },
          {
           "lower": 29.48425645828247,
           "timepoint": 140,
           "trajectory": "D_sol",
           "upper": 31.877794551849366
          },
          {
           "lower": 30.920675373077394,
           "timepoint": 141,
           "trajectory": "D_sol",
           "upper": 33.479667568206786
          },
          {
           "lower": 32.4269344329834,
           "timepoint": 142,
           "trajectory": "D_sol",
           "upper": 35.16186408996582
          },
          {
           "lower": 34.006334114074704,
           "timepoint": 143,
           "trajectory": "D_sol",
           "upper": 36.928384971618655
          },
          {
           "lower": 35.6625337600708,
           "timepoint": 144,
           "trajectory": "D_sol",
           "upper": 38.78349208831787
          },
          {
           "lower": 37.39920196533203,
           "timepoint": 145,
           "trajectory": "D_sol",
           "upper": 40.731588745117186
          },
          {
           "lower": 39.2203067779541,
           "timepoint": 146,
           "trajectory": "D_sol",
           "upper": 42.777343368530275
          },
          {
           "lower": 41.12986679077149,
           "timepoint": 147,
           "trajectory": "D_sol",
           "upper": 44.925560760498044
          },
          {
           "lower": 43.13222961425781,
           "timepoint": 148,
           "trajectory": "D_sol",
           "upper": 47.181460571289065
          },
          {
           "lower": 45.231777572631835,
           "timepoint": 149,
           "trajectory": "D_sol",
           "upper": 49.55037269592285
          },
          {
           "lower": 47.43336296081543,
           "timepoint": 150,
           "trajectory": "D_sol",
           "upper": 52.037973403930664
          },
          {
           "lower": 49.74189701080322,
           "timepoint": 151,
           "trajectory": "D_sol",
           "upper": 54.65016613006592
          },
          {
           "lower": 52.16242733001709,
           "timepoint": 152,
           "trajectory": "D_sol",
           "upper": 57.39317951202393
          },
          {
           "lower": 54.70051822662354,
           "timepoint": 153,
           "trajectory": "D_sol",
           "upper": 60.273515129089354
          },
          {
           "lower": 57.36181240081787,
           "timepoint": 154,
           "trajectory": "D_sol",
           "upper": 63.29806537628174
          },
          {
           "lower": 60.15234851837158,
           "timepoint": 155,
           "trajectory": "D_sol",
           "upper": 66.47403621673584
          },
          {
           "lower": 63.07827892303467,
           "timepoint": 156,
           "trajectory": "D_sol",
           "upper": 69.80887088775634
          },
          {
           "lower": 66.14620590209961,
           "timepoint": 157,
           "trajectory": "D_sol",
           "upper": 73.31059646606445
          },
          {
           "lower": 69.36287536621094,
           "timepoint": 158,
           "trajectory": "D_sol",
           "upper": 76.98749694824218
          },
          {
           "lower": 72.73560066223145,
           "timepoint": 159,
           "trajectory": "D_sol",
           "upper": 80.84826927185058
          },
          {
           "lower": 76.2718391418457,
           "timepoint": 160,
           "trajectory": "D_sol",
           "upper": 84.90208053588867
          },
          {
           "lower": 79.97971458435059,
           "timepoint": 161,
           "trajectory": "D_sol",
           "upper": 89.15853767395019
          },
          {
           "lower": 83.86724510192872,
           "timepoint": 162,
           "trajectory": "D_sol",
           "upper": 93.62771186828613
          },
          {
           "lower": 87.9432472229004,
           "timepoint": 163,
           "trajectory": "D_sol",
           "upper": 98.32014999389648
          },
          {
           "lower": 92.21655464172363,
           "timepoint": 164,
           "trajectory": "D_sol",
           "upper": 103.24686241149902
          },
          {
           "lower": 96.69698562622071,
           "timepoint": 165,
           "trajectory": "D_sol",
           "upper": 108.41985092163085
          },
          {
           "lower": 101.39439888000489,
           "timepoint": 166,
           "trajectory": "D_sol",
           "upper": 113.85092430114746
          },
          {
           "lower": 106.31925048828126,
           "timepoint": 167,
           "trajectory": "D_sol",
           "upper": 119.55294189453124
          },
          {
           "lower": 111.48245010375976,
           "timepoint": 168,
           "trajectory": "D_sol",
           "upper": 125.5394157409668
          },
          {
           "lower": 116.89555015563965,
           "timepoint": 169,
           "trajectory": "D_sol",
           "upper": 131.82439765930175
          },
          {
           "lower": 122.57047233581542,
           "timepoint": 170,
           "trajectory": "D_sol",
           "upper": 138.42263832092286
          },
          {
           "lower": 128.51976585388184,
           "timepoint": 171,
           "trajectory": "D_sol",
           "upper": 145.34968757629395
          },
          {
           "lower": 134.75678939819335,
           "timepoint": 172,
           "trajectory": "D_sol",
           "upper": 152.62164382934571
          },
          {
           "lower": 141.29523773193358,
           "timepoint": 173,
           "trajectory": "D_sol",
           "upper": 160.2556350708008
          },
          {
           "lower": 148.1493995666504,
           "timepoint": 174,
           "trajectory": "D_sol",
           "upper": 168.2694999694824
          },
          {
           "lower": 155.33465423583985,
           "timepoint": 175,
           "trajectory": "D_sol",
           "upper": 176.6818862915039
          },
          {
           "lower": 162.86683502197266,
           "timepoint": 176,
           "trajectory": "D_sol",
           "upper": 185.5123764038086
          },
          {
           "lower": 170.7620391845703,
           "timepoint": 177,
           "trajectory": "D_sol",
           "upper": 194.78172302246094
          },
          {
           "lower": 179.0382858276367,
           "timepoint": 178,
           "trajectory": "D_sol",
           "upper": 204.51121368408204
          },
          {
           "lower": 187.71333389282228,
           "timepoint": 179,
           "trajectory": "D_sol",
           "upper": 214.72350997924804
          },
          {
           "lower": 196.8064407348633,
           "timepoint": 180,
           "trajectory": "D_sol",
           "upper": 225.44227752685546
          },
          {
           "lower": 206.33739547729493,
           "timepoint": 181,
           "trajectory": "D_sol",
           "upper": 236.69222183227538
          },
          {
           "lower": 216.32702255249023,
           "timepoint": 182,
           "trajectory": "D_sol",
           "upper": 248.49931716918945
          },
          {
           "lower": 226.7971389770508,
           "timepoint": 183,
           "trajectory": "D_sol",
           "upper": 260.8908187866211
          },
          {
           "lower": 237.77033004760742,
           "timepoint": 184,
           "trajectory": "D_sol",
           "upper": 273.8948463439941
          },
          {
           "lower": 249.27128219604492,
           "timepoint": 185,
           "trajectory": "D_sol",
           "upper": 287.5415382385254
          },
          {
           "lower": 261.3240570068359,
           "timepoint": 186,
           "trajectory": "D_sol",
           "upper": 301.86179504394534
          },
          {
           "lower": 273.95511322021486,
           "timepoint": 187,
           "trajectory": "D_sol",
           "upper": 316.88866729736327
          },
          {
           "lower": 287.1914993286133,
           "timepoint": 188,
           "trajectory": "D_sol",
           "upper": 332.6556991577148
          },
          {
           "lower": 301.06234588623045,
           "timepoint": 189,
           "trajectory": "D_sol",
           "upper": 349.19946441650393
          },
          {
           "lower": 315.59686279296875,
           "timepoint": 190,
           "trajectory": "D_sol",
           "upper": 366.55694580078125
          },
          {
           "lower": 330.8262603759766,
           "timepoint": 191,
           "trajectory": "D_sol",
           "upper": 384.7663299560547
          },
          {
           "lower": 346.78400268554685,
           "timepoint": 192,
           "trajectory": "D_sol",
           "upper": 403.8696228027344
          },
          {
           "lower": 363.50291595458987,
           "timepoint": 193,
           "trajectory": "D_sol",
           "upper": 423.90934600830076
          },
          {
           "lower": 381.0199859619141,
           "timepoint": 194,
           "trajectory": "D_sol",
           "upper": 444.9301483154297
          },
          {
           "lower": 399.37098541259763,
           "timepoint": 195,
           "trajectory": "D_sol",
           "upper": 466.97834930419924
          },
          {
           "lower": 418.5958282470703,
           "timepoint": 196,
           "trajectory": "D_sol",
           "upper": 490.1031463623047
          },
          {
           "lower": 438.73432006835935,
           "timepoint": 197,
           "trajectory": "D_sol",
           "upper": 514.3555236816406
          },
          {
           "lower": 459.82933349609374,
           "timepoint": 198,
           "trajectory": "D_sol",
           "upper": 539.7876098632812
          },
          {
           "lower": 481.9247482299805,
           "timepoint": 199,
           "trajectory": "D_sol",
           "upper": 566.4563858032227
          },
          {
           "lower": 505.06658630371095,
           "timepoint": 200,
           "trajectory": "D_sol",
           "upper": 594.4183380126954
          },
          {
           "lower": 529.3031158447266,
           "timepoint": 201,
           "trajectory": "D_sol",
           "upper": 623.7352752685547
          },
          {
           "lower": 554.684683227539,
           "timepoint": 202,
           "trajectory": "D_sol",
           "upper": 654.4689422607422
          },
          {
           "lower": 581.262939453125,
           "timepoint": 203,
           "trajectory": "D_sol",
           "upper": 686.685546875
          },
          {
           "lower": 609.0921966552735,
           "timepoint": 204,
           "trajectory": "D_sol",
           "upper": 720.4535186767578
          },
          {
           "lower": 638.2319213867188,
           "timepoint": 205,
           "trajectory": "D_sol",
           "upper": 755.8447387695312
          },
          {
           "lower": 668.7382232666016,
           "timepoint": 206,
           "trajectory": "D_sol",
           "upper": 792.9310272216796
          },
          {
           "lower": 700.6734100341797,
           "timepoint": 207,
           "trajectory": "D_sol",
           "upper": 831.792105102539
          },
          {
           "lower": 734.1018646240234,
           "timepoint": 208,
           "trajectory": "D_sol",
           "upper": 872.5064727783204
          },
          {
           "lower": 769.0911224365234,
           "timepoint": 209,
           "trajectory": "D_sol",
           "upper": 915.1597930908204
          },
          {
           "lower": 805.7103668212891,
           "timepoint": 210,
           "trajectory": "D_sol",
           "upper": 959.8349822998047
          },
          {
           "lower": 844.0296081542969,
           "timepoint": 211,
           "trajectory": "D_sol",
           "upper": 1006.6251770019531
          },
          {
           "lower": 884.126821899414,
           "timepoint": 212,
           "trajectory": "D_sol",
           "upper": 1055.6221405029296
          },
          {
           "lower": 926.0784240722656,
           "timepoint": 213,
           "trajectory": "D_sol",
           "upper": 1106.925360107422
          },
          {
           "lower": 969.9661346435547,
           "timepoint": 214,
           "trajectory": "D_sol",
           "upper": 1160.6318267822267
          },
          {
           "lower": 1015.8730926513672,
           "timepoint": 215,
           "trajectory": "D_sol",
           "upper": 1216.847915649414
          },
          {
           "lower": 1063.888165283203,
           "timepoint": 216,
           "trajectory": "D_sol",
           "upper": 1275.6800720214844
          },
          {
           "lower": 1114.0982788085937,
           "timepoint": 217,
           "trajectory": "D_sol",
           "upper": 1337.2396118164063
          },
          {
           "lower": 1166.599383544922,
           "timepoint": 218,
           "trajectory": "D_sol",
           "upper": 1401.6434143066406
          },
          {
           "lower": 1221.4906188964844,
           "timepoint": 219,
           "trajectory": "D_sol",
           "upper": 1469.006329345703
          },
          {
           "lower": 1278.868798828125,
           "timepoint": 220,
           "trajectory": "D_sol",
           "upper": 1539.453955078125
          },
          {
           "lower": 1338.8388793945312,
           "timepoint": 221,
           "trajectory": "D_sol",
           "upper": 1613.1127807617188
          },
          {
           "lower": 1401.5080810546874,
           "timepoint": 222,
           "trajectory": "D_sol",
           "upper": 1690.1105712890626
          },
          {
           "lower": 1466.9871826171875,
           "timepoint": 223,
           "trajectory": "D_sol",
           "upper": 1770.5833740234375
          },
          {
           "lower": 1535.390606689453,
           "timepoint": 224,
           "trajectory": "D_sol",
           "upper": 1854.6661560058594
          },
          {
           "lower": 1606.835711669922,
           "timepoint": 225,
           "trajectory": "D_sol",
           "upper": 1942.5013244628906
          },
          {
           "lower": 1681.4449645996094,
           "timepoint": 226,
           "trajectory": "D_sol",
           "upper": 2034.233868408203
          },
          {
           "lower": 1759.3441223144532,
           "timepoint": 227,
           "trajectory": "D_sol",
           "upper": 2130.0097595214843
          },
          {
           "lower": 1840.6556274414063,
           "timepoint": 228,
           "trajectory": "D_sol",
           "upper": 2229.982312011719
          },
          {
           "lower": 1925.5174499511718,
           "timepoint": 229,
           "trajectory": "D_sol",
           "upper": 2334.3010314941407
          },
          {
           "lower": 2014.0634826660157,
           "timepoint": 230,
           "trajectory": "D_sol",
           "upper": 2443.125848388672
          },
          {
           "lower": 2106.4318115234373,
           "timepoint": 231,
           "trajectory": "D_sol",
           "upper": 2556.6150634765627
          },
          {
           "lower": 2202.7641723632814,
           "timepoint": 232,
           "trajectory": "D_sol",
           "upper": 2674.9348022460936
          },
          {
           "lower": 2303.2077880859374,
           "timepoint": 233,
           "trajectory": "D_sol",
           "upper": 2798.2433837890626
          },
          {
           "lower": 2407.906604003906,
           "timepoint": 234,
           "trajectory": "D_sol",
           "upper": 2926.709362792969
          },
          {
           "lower": 2517.015246582031,
           "timepoint": 235,
           "trajectory": "D_sol",
           "upper": 3060.497692871094
          },
          {
           "lower": 2630.684228515625,
           "timepoint": 236,
           "trajectory": "D_sol",
           "upper": 3199.774267578125
          },
          {
           "lower": 2749.0744506835936,
           "timepoint": 237,
           "trajectory": "D_sol",
           "upper": 3344.7177856445314
          },
          {
           "lower": 2872.3356201171873,
           "timepoint": 238,
           "trajectory": "D_sol",
           "upper": 3495.4832275390627
          },
          {
           "lower": 3000.631945800781,
           "timepoint": 239,
           "trajectory": "D_sol",
           "upper": 3652.250622558594
          },
          {
           "lower": 3134.13408203125,
           "timepoint": 240,
           "trajectory": "D_sol",
           "upper": 3815.17744140625
          },
          {
           "lower": 3272.9917724609377,
           "timepoint": 241,
           "trajectory": "D_sol",
           "upper": 3984.4281494140623
          },
          {
           "lower": 3417.37294921875,
           "timepoint": 242,
           "trajectory": "D_sol",
           "upper": 4160.17880859375
          },
          {
           "lower": 3567.4480590820312,
           "timepoint": 243,
           "trajectory": "D_sol",
           "upper": 4342.574157714844
          },
          {
           "lower": 3723.3739990234376,
           "timepoint": 244,
           "trajectory": "D_sol",
           "upper": 4531.773950195313
          },
          {
           "lower": 3885.3177978515623,
           "timepoint": 245,
           "trajectory": "D_sol",
           "upper": 4727.932690429688
          },
          {
           "lower": 4053.441748046875,
           "timepoint": 246,
           "trajectory": "D_sol",
           "upper": 4931.193994140625
          },
          {
           "lower": 4227.907250976563,
           "timepoint": 247,
           "trajectory": "D_sol",
           "upper": 5141.697729492187
          },
          {
           "lower": 4408.874462890625,
           "timepoint": 248,
           "trajectory": "D_sol",
           "upper": 5359.568896484375
          },
          {
           "lower": 4596.497314453125,
           "timepoint": 249,
           "trajectory": "D_sol",
           "upper": 5584.937255859375
          },
          {
           "lower": 4790.930151367187,
           "timepoint": 250,
           "trajectory": "D_sol",
           "upper": 5817.922875976563
          },
          {
           "lower": 4992.323461914062,
           "timepoint": 251,
           "trajectory": "D_sol",
           "upper": 6058.607690429688
          },
          {
           "lower": 5200.8201904296875,
           "timepoint": 252,
           "trajectory": "D_sol",
           "upper": 6307.1060791015625
          },
          {
           "lower": 5416.5491943359375,
           "timepoint": 253,
           "trajectory": "D_sol",
           "upper": 6563.4844970703125
          },
          {
           "lower": 5639.663037109375,
           "timepoint": 254,
           "trajectory": "D_sol",
           "upper": 6827.829150390625
          },
          {
           "lower": 5870.2650390625,
           "timepoint": 255,
           "trajectory": "D_sol",
           "upper": 7100.16953125
          },
          {
           "lower": 6108.484545898437,
           "timepoint": 256,
           "trajectory": "D_sol",
           "upper": 7380.555004882813
          },
          {
           "lower": 6354.40654296875,
           "timepoint": 257,
           "trajectory": "D_sol",
           "upper": 7669.00068359375
          },
          {
           "lower": 6608.1466796875,
           "timepoint": 258,
           "trajectory": "D_sol",
           "upper": 7965.5154296875
          },
          {
           "lower": 6869.77998046875,
           "timepoint": 259,
           "trajectory": "D_sol",
           "upper": 8270.08330078125
          },
          {
           "lower": 7139.390551757812,
           "timepoint": 260,
           "trajectory": "D_sol",
           "upper": 8582.667553710937
          },
          {
           "lower": 7417.027099609375,
           "timepoint": 261,
           "trajectory": "D_sol",
           "upper": 8903.218017578125
          },
          {
           "lower": 7702.748559570313,
           "timepoint": 262,
           "trajectory": "D_sol",
           "upper": 9231.659155273437
          },
          {
           "lower": 7996.553515625,
           "timepoint": 263,
           "trajectory": "D_sol",
           "upper": 9567.911328125
          },
          {
           "lower": 8298.4849609375,
           "timepoint": 264,
           "trajectory": "D_sol",
           "upper": 9911.8158203125
          },
          {
           "lower": 8608.539306640625,
           "timepoint": 265,
           "trajectory": "D_sol",
           "upper": 10263.278076171875
          },
          {
           "lower": 8926.69521484375,
           "timepoint": 266,
           "trajectory": "D_sol",
           "upper": 10622.12119140625
          },
          {
           "lower": 9252.924658203125,
           "timepoint": 267,
           "trajectory": "D_sol",
           "upper": 10988.164208984375
          },
          {
           "lower": 9587.133837890626,
           "timepoint": 268,
           "trajectory": "D_sol",
           "upper": 11361.206982421874
          },
          {
           "lower": 9929.289013671874,
           "timepoint": 269,
           "trajectory": "D_sol",
           "upper": 11741.012744140626
          },
          {
           "lower": 10279.271142578125,
           "timepoint": 270,
           "trajectory": "D_sol",
           "upper": 12127.341162109375
          },
          {
           "lower": 10636.99541015625,
           "timepoint": 271,
           "trajectory": "D_sol",
           "upper": 12519.91669921875
          },
          {
           "lower": 11002.2876953125,
           "timepoint": 272,
           "trajectory": "D_sol",
           "upper": 12918.4369140625
          },
          {
           "lower": 11375.001953125,
           "timepoint": 273,
           "trajectory": "D_sol",
           "upper": 13322.640625
          },
          {
           "lower": 11754.982421875,
           "timepoint": 274,
           "trajectory": "D_sol",
           "upper": 13732.134765625
          },
          {
           "lower": 12142.004833984374,
           "timepoint": 275,
           "trajectory": "D_sol",
           "upper": 14146.613330078126
          },
          {
           "lower": 12535.836279296875,
           "timepoint": 276,
           "trajectory": "D_sol",
           "upper": 14565.676416015625
          },
          {
           "lower": 12936.2908203125,
           "timepoint": 277,
           "trajectory": "D_sol",
           "upper": 14988.9728515625
          },
          {
           "lower": 13343.054638671874,
           "timepoint": 278,
           "trajectory": "D_sol",
           "upper": 15416.112353515626
          },
          {
           "lower": 13755.86328125,
           "timepoint": 279,
           "trajectory": "D_sol",
           "upper": 15846.640625
          },
          {
           "lower": 14174.413623046876,
           "timepoint": 280,
           "trajectory": "D_sol",
           "upper": 16280.177197265624
          },
          {
           "lower": 14598.380322265624,
           "timepoint": 281,
           "trajectory": "D_sol",
           "upper": 16716.306201171876
          },
          {
           "lower": 15027.456591796876,
           "timepoint": 282,
           "trajectory": "D_sol",
           "upper": 17154.560009765624
          },
          {
           "lower": 15461.26748046875,
           "timepoint": 283,
           "trajectory": "D_sol",
           "upper": 17594.51181640625
          },
          {
           "lower": 15899.456640625,
           "timepoint": 284,
           "trajectory": "D_sol",
           "upper": 18035.719140625
          },
          {
           "lower": 16341.603125,
           "timepoint": 285,
           "trajectory": "D_sol",
           "upper": 18477.725
          },
          {
           "lower": 16787.358203125,
           "timepoint": 286,
           "trajectory": "D_sol",
           "upper": 18920.091015625
          },
          {
           "lower": 17236.31044921875,
           "timepoint": 287,
           "trajectory": "D_sol",
           "upper": 19362.34775390625
          },
          {
           "lower": 17688.02158203125,
           "timepoint": 288,
           "trajectory": "D_sol",
           "upper": 19804.11318359375
          },
          {
           "lower": 18142.1142578125,
           "timepoint": 289,
           "trajectory": "D_sol",
           "upper": 20244.8974609375
          },
          {
           "lower": 18598.07763671875,
           "timepoint": 290,
           "trajectory": "D_sol",
           "upper": 20684.27587890625
          },
          {
           "lower": 19055.57119140625,
           "timepoint": 291,
           "trajectory": "D_sol",
           "upper": 21121.86044921875
          },
          {
           "lower": 19514.0822265625,
           "timepoint": 292,
           "trajectory": "D_sol",
           "upper": 21557.2615234375
          },
          {
           "lower": 19973.22685546875,
           "timepoint": 293,
           "trajectory": "D_sol",
           "upper": 21989.93525390625
          },
          {
           "lower": 20432.5509765625,
           "timepoint": 294,
           "trajectory": "D_sol",
           "upper": 22419.6560546875
          },
          {
           "lower": 20891.61240234375,
           "timepoint": 295,
           "trajectory": "D_sol",
           "upper": 22846.00283203125
          },
          {
           "lower": 21349.989453125,
           "timepoint": 296,
           "trajectory": "D_sol",
           "upper": 23268.627734375
          },
          {
           "lower": 21807.25888671875,
           "timepoint": 297,
           "trajectory": "D_sol",
           "upper": 23687.18837890625
          },
          {
           "lower": 22263,
           "timepoint": 298,
           "trajectory": "D_sol",
           "upper": 24101.35546875
          },
          {
           "lower": 22716.839453125,
           "timepoint": 299,
           "trajectory": "D_sol",
           "upper": 24510.820703125
          },
          {
           "lower": 23168.26171875,
           "timepoint": 300,
           "trajectory": "D_sol",
           "upper": 24915.3515625
          },
          {
           "lower": 23617.02294921875,
           "timepoint": 301,
           "trajectory": "D_sol",
           "upper": 25314.63916015625
          },
          {
           "lower": 24062.66279296875,
           "timepoint": 302,
           "trajectory": "D_sol",
           "upper": 25708.44462890625
          },
          {
           "lower": 24504.89326171875,
           "timepoint": 303,
           "trajectory": "D_sol",
           "upper": 26096.53447265625
          },
          {
           "lower": 24943.25888671875,
           "timepoint": 304,
           "trajectory": "D_sol",
           "upper": 26478.72744140625
          },
          {
           "lower": 25377.5330078125,
           "timepoint": 305,
           "trajectory": "D_sol",
           "upper": 26854.8302734375
          },
          {
           "lower": 25807.36279296875,
           "timepoint": 306,
           "trajectory": "D_sol",
           "upper": 27224.67822265625
          },
          {
           "lower": 26232.465625,
           "timepoint": 307,
           "trajectory": "D_sol",
           "upper": 27588.1046875
          },
          {
           "lower": 26652.55546875,
           "timepoint": 308,
           "trajectory": "D_sol",
           "upper": 27945.01875
          },
          {
           "lower": 27067.37646484375,
           "timepoint": 309,
           "trajectory": "D_sol",
           "upper": 28295.27001953125
          },
          {
           "lower": 27476.6826171875,
           "timepoint": 310,
           "trajectory": "D_sol",
           "upper": 28638.8251953125
          },
          {
           "lower": 27880.270703125,
           "timepoint": 311,
           "trajectory": "D_sol",
           "upper": 28975.549609375
          },
          {
           "lower": 28277.871484375,
           "timepoint": 312,
           "trajectory": "D_sol",
           "upper": 29305.425390625
          },
          {
           "lower": 28669.4564453125,
           "timepoint": 313,
           "trajectory": "D_sol",
           "upper": 29628.4029296875
          },
          {
           "lower": 29054.7078125,
           "timepoint": 314,
           "trajectory": "D_sol",
           "upper": 29944.42109375
          },
          {
           "lower": 29433.53505859375,
           "timepoint": 315,
           "trajectory": "D_sol",
           "upper": 30253.55283203125
          },
          {
           "lower": 29805.800390625,
           "timepoint": 316,
           "trajectory": "D_sol",
           "upper": 30555.711328125
          },
          {
           "lower": 30171.40048828125,
           "timepoint": 317,
           "trajectory": "D_sol",
           "upper": 30850.97255859375
          },
          {
           "lower": 30530.23857421875,
           "timepoint": 318,
           "trajectory": "D_sol",
           "upper": 31139.32587890625
          },
          {
           "lower": 30882.266015625,
           "timepoint": 319,
           "trajectory": "D_sol",
           "upper": 31420.831640625
          },
          {
           "lower": 31227.32783203125,
           "timepoint": 320,
           "trajectory": "D_sol",
           "upper": 31695.53349609375
          },
          {
           "lower": 31565.42509765625,
           "timepoint": 321,
           "trajectory": "D_sol",
           "upper": 31963.45185546875
          },
          {
           "lower": 31896.65361328125,
           "timepoint": 322,
           "trajectory": "D_sol",
           "upper": 32224.78974609375
          },
          {
           "lower": 32220.850390625,
           "timepoint": 323,
           "trajectory": "D_sol",
           "upper": 32479.473828125
          },
          {
           "lower": 32538.05263671875,
           "timepoint": 324,
           "trajectory": "D_sol",
           "upper": 32727.64853515625
          },
          {
           "lower": 32848.2501953125,
           "timepoint": 325,
           "trajectory": "D_sol",
           "upper": 32969.4021484375
          },
          {
           "lower": 33151.4744140625,
           "timepoint": 326,
           "trajectory": "D_sol",
           "upper": 33204.8029296875
          },
          {
           "lower": 33434.053515625,
           "timepoint": 327,
           "trajectory": "D_sol",
           "upper": 33447.813671875
          },
          {
           "lower": 33657.205859375,
           "timepoint": 328,
           "trajectory": "D_sol",
           "upper": 33737.270703125
          },
          {
           "lower": 33874.2111328125,
           "timepoint": 329,
           "trajectory": "D_sol",
           "upper": 34019.8318359375
          },
          {
           "lower": 34085.4154296875,
           "timepoint": 330,
           "trajectory": "D_sol",
           "upper": 34295.6744140625
          },
          {
           "lower": 34290.84140625,
           "timepoint": 331,
           "trajectory": "D_sol",
           "upper": 34564.80703125
          },
          {
           "lower": 34490.6068359375,
           "timepoint": 332,
           "trajectory": "D_sol",
           "upper": 34827.2876953125
          },
          {
           "lower": 34684.8001953125,
           "timepoint": 333,
           "trajectory": "D_sol",
           "upper": 35083.2505859375
          },
          {
           "lower": 34873.684375,
           "timepoint": 334,
           "trajectory": "D_sol",
           "upper": 35332.76875
          },
          {
           "lower": 35057.26015625,
           "timepoint": 335,
           "trajectory": "D_sol",
           "upper": 35575.92734375
          },
          {
           "lower": 35235.6271484375,
           "timepoint": 336,
           "trajectory": "D_sol",
           "upper": 35812.8611328125
          },
          {
           "lower": 35409.0087890625,
           "timepoint": 337,
           "trajectory": "D_sol",
           "upper": 36043.6669921875
          },
          {
           "lower": 35577.4287109375,
           "timepoint": 338,
           "trajectory": "D_sol",
           "upper": 36268.3720703125
          },
          {
           "lower": 35741.0947265625,
           "timepoint": 339,
           "trajectory": "D_sol",
           "upper": 36487.1279296875
          },
          {
           "lower": 35900.0990234375,
           "timepoint": 340,
           "trajectory": "D_sol",
           "upper": 36700.2095703125
          },
          {
           "lower": 36054.5669921875,
           "timepoint": 341,
           "trajectory": "D_sol",
           "upper": 36907.5384765625
          },
          {
           "lower": 36204.6154296875,
           "timepoint": 342,
           "trajectory": "D_sol",
           "upper": 37109.2947265625
          },
          {
           "lower": 36350.3888671875,
           "timepoint": 343,
           "trajectory": "D_sol",
           "upper": 37305.6228515625
          },
          {
           "lower": 36491.9548828125,
           "timepoint": 344,
           "trajectory": "D_sol",
           "upper": 37496.6115234375
          },
          {
           "lower": 36629.505859375,
           "timepoint": 345,
           "trajectory": "D_sol",
           "upper": 37682.400390625
          },
          {
           "lower": 36763.0892578125,
           "timepoint": 346,
           "trajectory": "D_sol",
           "upper": 37863.1177734375
          },
          {
           "lower": 36892.8173828125,
           "timepoint": 347,
           "trajectory": "D_sol",
           "upper": 38038.8583984375
          },
          {
           "lower": 37018.905859375,
           "timepoint": 348,
           "trajectory": "D_sol",
           "upper": 38209.781640625
          },
          {
           "lower": 37141.34375,
           "timepoint": 349,
           "trajectory": "D_sol",
           "upper": 38375.9609375
          },
          {
           "lower": 37260.292578125,
           "timepoint": 350,
           "trajectory": "D_sol",
           "upper": 38537.582421875
          },
          {
           "lower": 37375.8486328125,
           "timepoint": 351,
           "trajectory": "D_sol",
           "upper": 38694.7177734375
          },
          {
           "lower": 37488.1078125,
           "timepoint": 352,
           "trajectory": "D_sol",
           "upper": 38847.5015625
          },
          {
           "lower": 37597.1873046875,
           "timepoint": 353,
           "trajectory": "D_sol",
           "upper": 38996.0509765625
          },
          {
           "lower": 37703.2013671875,
           "timepoint": 354,
           "trajectory": "D_sol",
           "upper": 39140.4978515625
          },
          {
           "lower": 37806.1453125,
           "timepoint": 355,
           "trajectory": "D_sol",
           "upper": 39280.89375
          },
          {
           "lower": 37906.230078125,
           "timepoint": 356,
           "trajectory": "D_sol",
           "upper": 39417.449609375
          },
          {
           "lower": 38003.48359375,
           "timepoint": 357,
           "trajectory": "D_sol",
           "upper": 39550.13359375
          },
          {
           "lower": 38098.022265625,
           "timepoint": 358,
           "trajectory": "D_sol",
           "upper": 39679.188671875
          },
          {
           "lower": 38189.93671875,
           "timepoint": 359,
           "trajectory": "D_sol",
           "upper": 39804.64921875
          },
          {
           "lower": 38279.291796875,
           "timepoint": 360,
           "trajectory": "D_sol",
           "upper": 39926.692578125
          },
          {
           "lower": 38366.1779296875,
           "timepoint": 361,
           "trajectory": "D_sol",
           "upper": 40045.3494140625
          },
          {
           "lower": 38450.6865234375,
           "timepoint": 362,
           "trajectory": "D_sol",
           "upper": 40160.7392578125
          },
          {
           "lower": 38532.8380859375,
           "timepoint": 363,
           "trajectory": "D_sol",
           "upper": 40272.9705078125
          },
          {
           "lower": 38612.8095703125,
           "timepoint": 364,
           "trajectory": "D_sol",
           "upper": 40382.1005859375
          },
          {
           "lower": 38690.515234375,
           "timepoint": 365,
           "trajectory": "D_sol",
           "upper": 40488.258203125
          },
          {
           "lower": 38766.09453125,
           "timepoint": 366,
           "trajectory": "D_sol",
           "upper": 40591.49140625
          },
          {
           "lower": 38839.80625,
           "timepoint": 367,
           "trajectory": "D_sol",
           "upper": 40692.00625
          },
          {
           "lower": 38911.476953125,
           "timepoint": 368,
           "trajectory": "D_sol",
           "upper": 40789.812109375
          },
          {
           "lower": 38981.2130859375,
           "timepoint": 369,
           "trajectory": "D_sol",
           "upper": 40884.8923828125
          },
          {
           "lower": 39049.09140625,
           "timepoint": 370,
           "trajectory": "D_sol",
           "upper": 40977.51015625
          },
          {
           "lower": 39115.260546875,
           "timepoint": 371,
           "trajectory": "D_sol",
           "upper": 41067.536328125
          },
          {
           "lower": 39179.6638671875,
           "timepoint": 372,
           "trajectory": "D_sol",
           "upper": 41155.2306640625
          },
          {
           "lower": 39242.405859375,
           "timepoint": 373,
           "trajectory": "D_sol",
           "upper": 41240.609765625
          },
          {
           "lower": 39303.5205078125,
           "timepoint": 374,
           "trajectory": "D_sol",
           "upper": 41323.6865234375
          },
          {
           "lower": 39363.0939453125,
           "timepoint": 375,
           "trajectory": "D_sol",
           "upper": 41404.6912109375
          },
          {
           "lower": 39421.15625,
           "timepoint": 376,
           "trajectory": "D_sol",
           "upper": 41483.5625
          },
          {
           "lower": 39477.7412109375,
           "timepoint": 377,
           "trajectory": "D_sol",
           "upper": 41560.3095703125
          },
          {
           "lower": 39532.90625,
           "timepoint": 378,
           "trajectory": "D_sol",
           "upper": 41635.0390625
          },
          {
           "lower": 39586.7248046875,
           "timepoint": 379,
           "trajectory": "D_sol",
           "upper": 41708.0212890625
          },
          {
           "lower": 39639.23671875,
           "timepoint": 380,
           "trajectory": "D_sol",
           "upper": 41779.02890625
          },
          {
           "lower": 39690.416796875,
           "timepoint": 381,
           "trajectory": "D_sol",
           "upper": 41848.286328125
          },
          {
           "lower": 39740.3939453125,
           "timepoint": 382,
           "trajectory": "D_sol",
           "upper": 41915.7818359375
          },
          {
           "lower": 39789.1421875,
           "timepoint": 383,
           "trajectory": "D_sol",
           "upper": 41981.584375
          },
          {
           "lower": 39836.7326171875,
           "timepoint": 384,
           "trajectory": "D_sol",
           "upper": 42045.7087890625
          },
          {
           "lower": 39883.216015625,
           "timepoint": 385,
           "trajectory": "D_sol",
           "upper": 42108.346484375
          },
          {
           "lower": 39928.6314453125,
           "timepoint": 386,
           "trajectory": "D_sol",
           "upper": 42169.3958984375
          },
          {
           "lower": 39972.940625,
           "timepoint": 387,
           "trajectory": "D_sol",
           "upper": 42228.9734375
          },
          {
           "lower": 40016.2509765625,
           "timepoint": 388,
           "trajectory": "D_sol",
           "upper": 42287.1513671875
          },
          {
           "lower": 40058.5802734375,
           "timepoint": 389,
           "trajectory": "D_sol",
           "upper": 42343.8455078125
          },
          {
           "lower": 40099.949609375,
           "timepoint": 390,
           "trajectory": "D_sol",
           "upper": 42399.245703125
          },
          {
           "lower": 40140.4017578125,
           "timepoint": 391,
           "trajectory": "D_sol",
           "upper": 42453.3208984375
          },
          {
           "lower": 40179.9439453125,
           "timepoint": 392,
           "trajectory": "D_sol",
           "upper": 42506.1380859375
          },
          {
           "lower": 40218.6294921875,
           "timepoint": 393,
           "trajectory": "D_sol",
           "upper": 42557.7259765625
          },
          {
           "lower": 40256.4728515625,
           "timepoint": 394,
           "trajectory": "D_sol",
           "upper": 42608.1482421875
          },
          {
           "lower": 40293.498828125,
           "timepoint": 395,
           "trajectory": "D_sol",
           "upper": 42657.383984375
          },
          {
           "lower": 40329.726953125,
           "timepoint": 396,
           "trajectory": "D_sol",
           "upper": 42705.523046875
          },
          {
           "lower": 40365.2130859375,
           "timepoint": 397,
           "trajectory": "D_sol",
           "upper": 42752.5720703125
          },
          {
           "lower": 40399.959765625,
           "timepoint": 398,
           "trajectory": "D_sol",
           "upper": 42798.579296875
          },
          {
           "lower": 40434.046875,
           "timepoint": 399,
           "trajectory": "D_sol",
           "upper": 42843.5859375
          },
          {
           "lower": 40467.296484375,
           "timepoint": 400,
           "trajectory": "D_sol",
           "upper": 42887.586328125
          },
          {
           "lower": 40499.9419921875,
           "timepoint": 401,
           "trajectory": "D_sol",
           "upper": 42930.6556640625
          },
          {
           "lower": 40531.935546875,
           "timepoint": 402,
           "trajectory": "D_sol",
           "upper": 42972.798828125
          },
          {
           "lower": 40563.2927734375,
           "timepoint": 403,
           "trajectory": "D_sol",
           "upper": 43014.0314453125
          },
          {
           "lower": 40594.06484375,
           "timepoint": 404,
           "trajectory": "D_sol",
           "upper": 43054.41171875
          },
          {
           "lower": 40624.203515625,
           "timepoint": 405,
           "trajectory": "D_sol",
           "upper": 43093.937109375
          },
          {
           "lower": 40653.815625,
           "timepoint": 406,
           "trajectory": "D_sol",
           "upper": 43132.66875
          },
          {
           "lower": 40682.8111328125,
           "timepoint": 407,
           "trajectory": "D_sol",
           "upper": 43170.5833984375
          },
          {
           "lower": 40711.3412109375,
           "timepoint": 408,
           "trajectory": "D_sol",
           "upper": 43207.7408203125
          },
          {
           "lower": 40739.348046875,
           "timepoint": 409,
           "trajectory": "D_sol",
           "upper": 43244.167578125
          },
          {
           "lower": 40766.76171875,
           "timepoint": 410,
           "trajectory": "D_sol",
           "upper": 43279.87109375
          },
          {
           "lower": 40793.655859375,
           "timepoint": 411,
           "trajectory": "D_sol",
           "upper": 43314.914453125
          },
          {
           "lower": 40820.2166015625,
           "timepoint": 412,
           "trajectory": "D_sol",
           "upper": 43349.1779296875
          },
          {
           "lower": 40846.241796875,
           "timepoint": 413,
           "trajectory": "D_sol",
           "upper": 43382.828515625
          },
          {
           "lower": 40871.8177734375,
           "timepoint": 414,
           "trajectory": "D_sol",
           "upper": 43415.8892578125
          },
          {
           "lower": 40896.966015625,
           "timepoint": 415,
           "trajectory": "D_sol",
           "upper": 43448.346484375
          },
          {
           "lower": 40921.673828125,
           "timepoint": 416,
           "trajectory": "D_sol",
           "upper": 43480.099609375
          },
          {
           "lower": 40945.919921875,
           "timepoint": 417,
           "trajectory": "D_sol",
           "upper": 43511.236328125
          },
          {
           "lower": 40969.8947265625,
           "timepoint": 418,
           "trajectory": "D_sol",
           "upper": 43541.9998046875
          },
          {
           "lower": 40993.4630859375,
           "timepoint": 419,
           "trajectory": "D_sol",
           "upper": 43572.1423828125
          },
          {
           "lower": 41016.56015625,
           "timepoint": 420,
           "trajectory": "D_sol",
           "upper": 43601.69765625
          },
          {
           "lower": 41039.3607421875,
           "timepoint": 421,
           "trajectory": "D_sol",
           "upper": 43630.7525390625
          },
          {
           "lower": 41061.785546875,
           "timepoint": 422,
           "trajectory": "D_sol",
           "upper": 43659.347265625
          },
          {
           "lower": 41083.914453125,
           "timepoint": 423,
           "trajectory": "D_sol",
           "upper": 43687.452734375
          },
          {
           "lower": 41105.634765625,
           "timepoint": 424,
           "trajectory": "D_sol",
           "upper": 43715.037109375
          },
          {
           "lower": 41127.059765625,
           "timepoint": 425,
           "trajectory": "D_sol",
           "upper": 43742.213671875
          },
          {
           "lower": 41148.2076171875,
           "timepoint": 426,
           "trajectory": "D_sol",
           "upper": 43768.9056640625
          },
          {
           "lower": 41169.0091796875,
           "timepoint": 427,
           "trajectory": "D_sol",
           "upper": 43795.2056640625
          },
          {
           "lower": 41189.560546875,
           "timepoint": 428,
           "trajectory": "D_sol",
           "upper": 43821.041015625
          },
          {
           "lower": 41209.783203125,
           "timepoint": 429,
           "trajectory": "D_sol",
           "upper": 43846.466796875
          },
          {
           "lower": 41229.7771484375,
           "timepoint": 430,
           "trajectory": "D_sol",
           "upper": 43871.5548828125
          },
          {
           "lower": 41249.473046875,
           "timepoint": 431,
           "trajectory": "D_sol",
           "upper": 43896.253515625
          },
          {
           "lower": 41268.921484375,
           "timepoint": 432,
           "trajectory": "D_sol",
           "upper": 43920.539453125
          },
          {
           "lower": 41288.117578125,
           "timepoint": 433,
           "trajectory": "D_sol",
           "upper": 43944.460546875
          },
          {
           "lower": 41307.053125,
           "timepoint": 434,
           "trajectory": "D_sol",
           "upper": 43968.071875
          },
          {
           "lower": 41325.7583984375,
           "timepoint": 435,
           "trajectory": "D_sol",
           "upper": 43991.3158203125
          },
          {
           "lower": 41344.2404296875,
           "timepoint": 436,
           "trajectory": "D_sol",
           "upper": 44014.2556640625
          },
          {
           "lower": 41362.4919921875,
           "timepoint": 437,
           "trajectory": "D_sol",
           "upper": 44036.8947265625
          },
          {
           "lower": 41380.530859375,
           "timepoint": 438,
           "trajectory": "D_sol",
           "upper": 44059.148828125
          },
          {
           "lower": 41398.360546875,
           "timepoint": 439,
           "trajectory": "D_sol",
           "upper": 44081.155078125
          },
          {
           "lower": 41415.9767578125,
           "timepoint": 440,
           "trajectory": "D_sol",
           "upper": 44102.8318359375
          },
          {
           "lower": 41433.4009765625,
           "timepoint": 441,
           "trajectory": "D_sol",
           "upper": 44124.2357421875
          },
          {
           "lower": 41450.626171875,
           "timepoint": 442,
           "trajectory": "D_sol",
           "upper": 44145.373828125
          },
          {
           "lower": 41467.6884765625,
           "timepoint": 443,
           "trajectory": "D_sol",
           "upper": 44166.2294921875
          },
          {
           "lower": 41484.6421875,
           "timepoint": 444,
           "trajectory": "D_sol",
           "upper": 44186.85
          },
          {
           "lower": 41501.2296875,
           "timepoint": 445,
           "trajectory": "D_sol",
           "upper": 44207.1921875
          },
          {
           "lower": 41517.7234375,
           "timepoint": 446,
           "trajectory": "D_sol",
           "upper": 44227.3
          },
          {
           "lower": 41534.1111328125,
           "timepoint": 447,
           "trajectory": "D_sol",
           "upper": 44247.1505859375
          },
          {
           "lower": 41550.3107421875,
           "timepoint": 448,
           "trajectory": "D_sol",
           "upper": 44266.8025390625
          },
          {
           "lower": 41566.3564453125,
           "timepoint": 449,
           "trajectory": "D_sol",
           "upper": 44286.2021484375
          },
          {
           "lower": 41582.2662109375,
           "timepoint": 450,
           "trajectory": "D_sol",
           "upper": 44305.3392578125
          },
          {
           "lower": 41598.005078125,
           "timepoint": 451,
           "trajectory": "D_sol",
           "upper": 44324.393359375
          },
          {
           "lower": 41613.623046875,
           "timepoint": 452,
           "trajectory": "D_sol",
           "upper": 44343.189453125
          },
          {
           "lower": 41629.1095703125,
           "timepoint": 453,
           "trajectory": "D_sol",
           "upper": 44361.7380859375
          },
          {
           "lower": 41644.445703125,
           "timepoint": 454,
           "trajectory": "D_sol",
           "upper": 44380.101171875
          },
          {
           "lower": 41659.677734375,
           "timepoint": 455,
           "trajectory": "D_sol",
           "upper": 44398.314453125
          },
          {
           "lower": 41674.7595703125,
           "timepoint": 456,
           "trajectory": "D_sol",
           "upper": 44416.3458984375
          },
          {
           "lower": 41689.6896484375,
           "timepoint": 457,
           "trajectory": "D_sol",
           "upper": 44434.1658203125
          },
          {
           "lower": 41704.6123046875,
           "timepoint": 458,
           "trajectory": "D_sol",
           "upper": 44451.8447265625
          },
          {
           "lower": 41719.346875,
           "timepoint": 459,
           "trajectory": "D_sol",
           "upper": 44469.325
          },
          {
           "lower": 41734.019140625,
           "timepoint": 460,
           "trajectory": "D_sol",
           "upper": 44486.676171875
          },
          {
           "lower": 41748.5673828125,
           "timepoint": 461,
           "trajectory": "D_sol",
           "upper": 44503.8505859375
          },
          {
           "lower": 41763.0232421875,
           "timepoint": 462,
           "trajectory": "D_sol",
           "upper": 44520.8869140625
          },
          {
           "lower": 41777.37109375,
           "timepoint": 463,
           "trajectory": "D_sol",
           "upper": 44537.76953125
          },
          {
           "lower": 41791.6412109375,
           "timepoint": 464,
           "trajectory": "D_sol",
           "upper": 44554.5111328125
          },
          {
           "lower": 41805.808984375,
           "timepoint": 465,
           "trajectory": "D_sol",
           "upper": 44571.136328125
          },
          {
           "lower": 41819.919921875,
           "timepoint": 466,
           "trajectory": "D_sol",
           "upper": 44587.595703125
          },
          {
           "lower": 41834.0126953125,
           "timepoint": 467,
           "trajectory": "D_sol",
           "upper": 44603.9208984375
          },
          {
           "lower": 41847.8384765625,
           "timepoint": 468,
           "trajectory": "D_sol",
           "upper": 44620.1654296875
          },
          {
           "lower": 41861.6869140625,
           "timepoint": 469,
           "trajectory": "D_sol",
           "upper": 44636.2779296875
          },
          {
           "lower": 41875.4841796875,
           "timepoint": 470,
           "trajectory": "D_sol",
           "upper": 44652.2619140625
          },
          {
           "lower": 41889.209765625,
           "timepoint": 471,
           "trajectory": "D_sol",
           "upper": 44668.149609375
          },
          {
           "lower": 41902.8728515625,
           "timepoint": 472,
           "trajectory": "D_sol",
           "upper": 44683.9748046875
          },
          {
           "lower": 41916.43515625,
           "timepoint": 473,
           "trajectory": "D_sol",
           "upper": 44699.57265625
          },
          {
           "lower": 41929.9099609375,
           "timepoint": 474,
           "trajectory": "D_sol",
           "upper": 44715.1251953125
          },
          {
           "lower": 41943.4478515625,
           "timepoint": 475,
           "trajectory": "D_sol",
           "upper": 44730.6107421875
          },
          {
           "lower": 41956.8765625,
           "timepoint": 476,
           "trajectory": "D_sol",
           "upper": 44745.990625
          },
          {
           "lower": 41970.2712890625,
           "timepoint": 477,
           "trajectory": "D_sol",
           "upper": 44761.2873046875
          },
          {
           "lower": 41983.5486328125,
           "timepoint": 478,
           "trajectory": "D_sol",
           "upper": 44776.4630859375
          },
          {
           "lower": 41996.79453125,
           "timepoint": 479,
           "trajectory": "D_sol",
           "upper": 44791.53359375
          },
          {
           "lower": 42010.06015625,
           "timepoint": 480,
           "trajectory": "D_sol",
           "upper": 44806.62734375
          },
          {
           "lower": 42023.253125,
           "timepoint": 481,
           "trajectory": "D_sol",
           "upper": 44821.60625
          },
          {
           "lower": 42036.414453125,
           "timepoint": 482,
           "trajectory": "D_sol",
           "upper": 44836.476171875
          },
          {
           "lower": 42049.5283203125,
           "timepoint": 483,
           "trajectory": "D_sol",
           "upper": 44851.2880859375
          },
          {
           "lower": 42062.602734375,
           "timepoint": 484,
           "trajectory": "D_sol",
           "upper": 44866.053515625
          },
          {
           "lower": 42075.6173828125,
           "timepoint": 485,
           "trajectory": "D_sol",
           "upper": 44880.7380859375
          },
          {
           "lower": 42088.7,
           "timepoint": 486,
           "trajectory": "D_sol",
           "upper": 44895.378125
          },
          {
           "lower": 42101.690625,
           "timepoint": 487,
           "trajectory": "D_sol",
           "upper": 44909.9578125
          },
          {
           "lower": 42114.6107421875,
           "timepoint": 488,
           "trajectory": "D_sol",
           "upper": 44924.4634765625
          },
          {
           "lower": 42127.65703125,
           "timepoint": 489,
           "trajectory": "D_sol",
           "upper": 44938.97578125
          },
          {
           "lower": 42140.603125,
           "timepoint": 490,
           "trajectory": "D_sol",
           "upper": 44953.3421875
          },
          {
           "lower": 42153.53515625,
           "timepoint": 491,
           "trajectory": "D_sol",
           "upper": 44967.72265625
          },
          {
           "lower": 42166.446875,
           "timepoint": 492,
           "trajectory": "D_sol",
           "upper": 44982.06875
          },
          {
           "lower": 42179.35,
           "timepoint": 493,
           "trajectory": "D_sol",
           "upper": 44996.321875
          },
          {
           "lower": 42192.2361328125,
           "timepoint": 494,
           "trajectory": "D_sol",
           "upper": 45010.5333984375
          },
          {
           "lower": 42205.1390625,
           "timepoint": 495,
           "trajectory": "D_sol",
           "upper": 45024.6421875
          },
          {
           "lower": 42218.0388671875,
           "timepoint": 496,
           "trajectory": "D_sol",
           "upper": 45038.9728515625
          },
          {
           "lower": 42230.92578125,
           "timepoint": 497,
           "trajectory": "D_sol",
           "upper": 45053.12890625
          },
          {
           "lower": 42243.8109375,
           "timepoint": 498,
           "trajectory": "D_sol",
           "upper": 45067.2515625
          },
          {
           "lower": 42256.705859375,
           "timepoint": 499,
           "trajectory": "D_sol",
           "upper": 45081.348828125
          },
          {
           "lower": 42269.6029296875,
           "timepoint": 500,
           "trajectory": "D_sol",
           "upper": 45095.4166015625
          },
          {
           "lower": 42282.5296875,
           "timepoint": 501,
           "trajectory": "D_sol",
           "upper": 45109.4859375
          },
          {
           "lower": 42295.425,
           "timepoint": 502,
           "trajectory": "D_sol",
           "upper": 45123.5203125
          },
          {
           "lower": 42308.35546875,
           "timepoint": 503,
           "trajectory": "D_sol",
           "upper": 45137.51953125
          },
          {
           "lower": 42321.303125,
           "timepoint": 504,
           "trajectory": "D_sol",
           "upper": 45151.5640625
          },
          {
           "lower": 42334.2705078125,
           "timepoint": 505,
           "trajectory": "D_sol",
           "upper": 45165.5615234375
          },
          {
           "lower": 42347.233984375,
           "timepoint": 506,
           "trajectory": "D_sol",
           "upper": 45179.555078125
          },
          {
           "lower": 42360.2265625,
           "timepoint": 507,
           "trajectory": "D_sol",
           "upper": 45193.5390625
          },
          {
           "lower": 42373.2271484375,
           "timepoint": 508,
           "trajectory": "D_sol",
           "upper": 45207.5345703125
          },
          {
           "lower": 42386.3005859375,
           "timepoint": 509,
           "trajectory": "D_sol",
           "upper": 45221.5080078125
          },
          {
           "lower": 42399.37265625,
           "timepoint": 510,
           "trajectory": "D_sol",
           "upper": 45235.45546875
          },
          {
           "lower": 42412.4533203125,
           "timepoint": 511,
           "trajectory": "D_sol",
           "upper": 45249.4958984375
          },
          {
           "lower": 42425.624609375,
           "timepoint": 512,
           "trajectory": "D_sol",
           "upper": 45263.500390625
          },
          {
           "lower": 42438.8001953125,
           "timepoint": 513,
           "trajectory": "D_sol",
           "upper": 45277.5162109375
          },
          {
           "lower": 42452.047265625,
           "timepoint": 514,
           "trajectory": "D_sol",
           "upper": 45291.554296875
          },
          {
           "lower": 42465.3619140625,
           "timepoint": 515,
           "trajectory": "D_sol",
           "upper": 45305.6107421875
          },
          {
           "lower": 42478.5396484375,
           "timepoint": 516,
           "trajectory": "D_sol",
           "upper": 45319.5970703125
          },
          {
           "lower": 42491.858203125,
           "timepoint": 517,
           "trajectory": "D_sol",
           "upper": 45333.657421875
          },
          {
           "lower": 42505.2513671875,
           "timepoint": 518,
           "trajectory": "D_sol",
           "upper": 45347.7291015625
          },
          {
           "lower": 42518.6771484375,
           "timepoint": 519,
           "trajectory": "D_sol",
           "upper": 45361.8580078125
          },
          {
           "lower": 42532.14765625,
           "timepoint": 520,
           "trajectory": "D_sol",
           "upper": 45375.99296875
          },
          {
           "lower": 42545.691015625,
           "timepoint": 521,
           "trajectory": "D_sol",
           "upper": 45390.176171875
          },
          {
           "lower": 42559.28125,
           "timepoint": 522,
           "trajectory": "D_sol",
           "upper": 45404.3359375
          },
          {
           "lower": 42572.926953125,
           "timepoint": 523,
           "trajectory": "D_sol",
           "upper": 45418.565234375
          },
          {
           "lower": 42586.622265625,
           "timepoint": 524,
           "trajectory": "D_sol",
           "upper": 45432.823046875
          },
          {
           "lower": 42600.381640625,
           "timepoint": 525,
           "trajectory": "D_sol",
           "upper": 45447.102734375
          },
          {
           "lower": 42614.1994140625,
           "timepoint": 526,
           "trajectory": "D_sol",
           "upper": 45461.4373046875
          },
          {
           "lower": 42628.109375,
           "timepoint": 527,
           "trajectory": "D_sol",
           "upper": 45475.8359375
          },
          {
           "lower": 42642.0775390625,
           "timepoint": 528,
           "trajectory": "D_sol",
           "upper": 45490.2154296875
          },
          {
           "lower": 42656.1203125,
           "timepoint": 529,
           "trajectory": "D_sol",
           "upper": 45504.6765625
          },
          {
           "lower": 42670.2171875,
           "timepoint": 530,
           "trajectory": "D_sol",
           "upper": 45519.18125
          },
          {
           "lower": 42684.40234375,
           "timepoint": 531,
           "trajectory": "D_sol",
           "upper": 45533.74609375
          },
          {
           "lower": 42698.6568359375,
           "timepoint": 532,
           "trajectory": "D_sol",
           "upper": 45548.3626953125
          },
          {
           "lower": 42713.0158203125,
           "timepoint": 533,
           "trajectory": "D_sol",
           "upper": 45563.0662109375
          },
          {
           "lower": 42727.4478515625,
           "timepoint": 534,
           "trajectory": "D_sol",
           "upper": 45577.7513671875
          },
          {
           "lower": 42741.963671875,
           "timepoint": 535,
           "trajectory": "D_sol",
           "upper": 45592.551953125
          },
          {
           "lower": 42756.5623046875,
           "timepoint": 536,
           "trajectory": "D_sol",
           "upper": 45607.4494140625
          },
          {
           "lower": 42771.2244140625,
           "timepoint": 537,
           "trajectory": "D_sol",
           "upper": 45622.2873046875
          },
          {
           "lower": 42786.064453125,
           "timepoint": 538,
           "trajectory": "D_sol",
           "upper": 45637.271484375
          },
          {
           "lower": 42800.9419921875,
           "timepoint": 539,
           "trajectory": "D_sol",
           "upper": 45652.3353515625
          },
          {
           "lower": 42815.9099609375,
           "timepoint": 540,
           "trajectory": "D_sol",
           "upper": 45667.4298828125
          },
          {
           "lower": 42831.0423828125,
           "timepoint": 541,
           "trajectory": "D_sol",
           "upper": 45682.6255859375
          },
          {
           "lower": 42846.2638671875,
           "timepoint": 542,
           "trajectory": "D_sol",
           "upper": 45697.8962890625
          },
          {
           "lower": 42861.54140625,
           "timepoint": 543,
           "trajectory": "D_sol",
           "upper": 45713.24765625
          },
          {
           "lower": 42876.9541015625,
           "timepoint": 544,
           "trajectory": "D_sol",
           "upper": 45728.7060546875
          },
          {
           "lower": 42892.4421875,
           "timepoint": 545,
           "trajectory": "D_sol",
           "upper": 45744.190625
          },
          {
           "lower": 42908.1408203125,
           "timepoint": 546,
           "trajectory": "D_sol",
           "upper": 45759.8083984375
          },
          {
           "lower": 42923.9185546875,
           "timepoint": 547,
           "trajectory": "D_sol",
           "upper": 45775.5228515625
          },
          {
           "lower": 42939.8580078125,
           "timepoint": 548,
           "trajectory": "D_sol",
           "upper": 45791.2865234375
          },
          {
           "lower": 42955.8111328125,
           "timepoint": 549,
           "trajectory": "D_sol",
           "upper": 45807.1693359375
          },
          {
           "lower": 42971.94921875,
           "timepoint": 550,
           "trajectory": "D_sol",
           "upper": 45823.19140625
          },
          {
           "lower": 42988.2361328125,
           "timepoint": 551,
           "trajectory": "D_sol",
           "upper": 45839.2287109375
          },
          {
           "lower": 43004.6390625,
           "timepoint": 552,
           "trajectory": "D_sol",
           "upper": 45855.43125
          },
          {
           "lower": 43021.162890625,
           "timepoint": 553,
           "trajectory": "D_sol",
           "upper": 45871.751171875
          },
          {
           "lower": 43037.88828125,
           "timepoint": 554,
           "trajectory": "D_sol",
           "upper": 45888.10390625
          },
          {
           "lower": 43054.7474609375,
           "timepoint": 555,
           "trajectory": "D_sol",
           "upper": 45904.6080078125
          },
          {
           "lower": 43071.8103515625,
           "timepoint": 556,
           "trajectory": "D_sol",
           "upper": 45921.2560546875
          },
          {
           "lower": 43088.8560546875,
           "timepoint": 557,
           "trajectory": "D_sol",
           "upper": 45937.9994140625
          },
          {
           "lower": 43106.1525390625,
           "timepoint": 558,
           "trajectory": "D_sol",
           "upper": 45954.8669921875
          },
          {
           "lower": 43123.59609375,
           "timepoint": 559,
           "trajectory": "D_sol",
           "upper": 45971.85703125
          },
          {
           "lower": 43141.2095703125,
           "timepoint": 560,
           "trajectory": "D_sol",
           "upper": 45988.9818359375
          },
          {
           "lower": 43158.980078125,
           "timepoint": 561,
           "trajectory": "D_sol",
           "upper": 46006.277734375
          },
          {
           "lower": 43176.941015625,
           "timepoint": 562,
           "trajectory": "D_sol",
           "upper": 46023.605859375
          },
          {
           "lower": 43195.0439453125,
           "timepoint": 563,
           "trajectory": "D_sol",
           "upper": 46041.1005859375
          },
          {
           "lower": 43213.3607421875,
           "timepoint": 564,
           "trajectory": "D_sol",
           "upper": 46058.7212890625
          },
          {
           "lower": 43231.841796875,
           "timepoint": 565,
           "trajectory": "D_sol",
           "upper": 46076.580078125
          },
          {
           "lower": 43250.4904296875,
           "timepoint": 566,
           "trajectory": "D_sol",
           "upper": 46094.5291015625
          },
          {
           "lower": 43269.36171875,
           "timepoint": 567,
           "trajectory": "D_sol",
           "upper": 46112.63046875
          },
          {
           "lower": 43288.4072265625,
           "timepoint": 568,
           "trajectory": "D_sol",
           "upper": 46130.8779296875
          },
          {
           "lower": 3.7144373514486075e-12,
           "timepoint": 0,
           "trajectory": "H_sol",
           "upper": 4.036073818908248e-12
          },
          {
           "lower": 0.02906000576913357,
           "timepoint": 1,
           "trajectory": "H_sol",
           "upper": 0.03164470978081226
          },
          {
           "lower": 0.046858695708215235,
           "timepoint": 2,
           "trajectory": "H_sol",
           "upper": 0.05111907292157412
          },
          {
           "lower": 0.05833319053053856,
           "timepoint": 3,
           "trajectory": "H_sol",
           "upper": 0.06372326388955116
          },
          {
           "lower": 0.06630864180624485,
           "timepoint": 4,
           "trajectory": "H_sol",
           "upper": 0.0724980067461729
          },
          {
           "lower": 0.07239796109497547,
           "timepoint": 5,
           "trajectory": "H_sol",
           "upper": 0.07918513678014279
          },
          {
           "lower": 0.07752002887427807,
           "timepoint": 6,
           "trajectory": "H_sol",
           "upper": 0.0847817275673151
          },
          {
           "lower": 0.08219692707061768,
           "timepoint": 7,
           "trajectory": "H_sol",
           "upper": 0.08985809385776519
          },
          {
           "lower": 0.08672659918665886,
           "timepoint": 8,
           "trajectory": "H_sol",
           "upper": 0.09474172368645668
          },
          {
           "lower": 0.09127924479544162,
           "timepoint": 9,
           "trajectory": "H_sol",
           "upper": 0.09962102882564068
          },
          {
           "lower": 0.09595328159630298,
           "timepoint": 10,
           "trajectory": "H_sol",
           "upper": 0.10460641644895077
          },
          {
           "lower": 0.10080798491835594,
           "timepoint": 11,
           "trajectory": "H_sol",
           "upper": 0.10976451113820077
          },
          {
           "lower": 0.10588048435747624,
           "timepoint": 12,
           "trajectory": "H_sol",
           "upper": 0.11513719670474529
          },
          {
           "lower": 0.11119631119072437,
           "timepoint": 13,
           "trajectory": "H_sol",
           "upper": 0.12075305543839931
          },
          {
           "lower": 0.11677509546279907,
           "timepoint": 14,
           "trajectory": "H_sol",
           "upper": 0.12663355469703674
          },
          {
           "lower": 0.12263316437602043,
           "timepoint": 15,
           "trajectory": "H_sol",
           "upper": 0.13279668465256692
          },
          {
           "lower": 0.12878622561693193,
           "timepoint": 16,
           "trajectory": "H_sol",
           "upper": 0.13925818651914595
          },
          {
           "lower": 0.13524965569376945,
           "timepoint": 17,
           "trajectory": "H_sol",
           "upper": 0.14603421464562416
          },
          {
           "lower": 0.1420389212667942,
           "timepoint": 18,
           "trajectory": "H_sol",
           "upper": 0.15314049050211906
          },
          {
           "lower": 0.1491702489554882,
           "timepoint": 19,
           "trajectory": "H_sol",
           "upper": 0.16059295907616616
          },
          {
           "lower": 0.15666064620018005,
           "timepoint": 20,
           "trajectory": "H_sol",
           "upper": 0.16840872168540955
          },
          {
           "lower": 0.16452781185507775,
           "timepoint": 21,
           "trajectory": "H_sol",
           "upper": 0.17660541012883185
          },
          {
           "lower": 0.17279098108410834,
           "timepoint": 22,
           "trajectory": "H_sol",
           "upper": 0.1852014146745205
          },
          {
           "lower": 0.18146933540701865,
           "timepoint": 23,
           "trajectory": "H_sol",
           "upper": 0.1942162521183491
          },
          {
           "lower": 0.19058406054973603,
           "timepoint": 24,
           "trajectory": "H_sol",
           "upper": 0.20366970002651213
          },
          {
           "lower": 0.20015672892332076,
           "timepoint": 25,
           "trajectory": "H_sol",
           "upper": 0.21358378678560258
          },
          {
           "lower": 0.2102104350924492,
           "timepoint": 26,
           "trajectory": "H_sol",
           "upper": 0.22398076206445694
          },
          {
           "lower": 0.22076914459466934,
           "timepoint": 27,
           "trajectory": "H_sol",
           "upper": 0.23488333076238632
          },
          {
           "lower": 0.23185835555195808,
           "timepoint": 28,
           "trajectory": "H_sol",
           "upper": 0.2463170312345028
          },
          {
           "lower": 0.24350462704896927,
           "timepoint": 29,
           "trajectory": "H_sol",
           "upper": 0.2583074435591698
          },
          {
           "lower": 0.2557360827922821,
           "timepoint": 30,
           "trajectory": "H_sol",
           "upper": 0.27088144421577454
          },
          {
           "lower": 0.26858188211917877,
           "timepoint": 31,
           "trajectory": "H_sol",
           "upper": 0.28406761586666107
          },
          {
           "lower": 0.2820729032158852,
           "timepoint": 32,
           "trajectory": "H_sol",
           "upper": 0.2978958174586296
          },
          {
           "lower": 0.29624130576848984,
           "timepoint": 33,
           "trajectory": "H_sol",
           "upper": 0.31239718943834305
          },
          {
           "lower": 0.3111224308609962,
           "timepoint": 34,
           "trajectory": "H_sol",
           "upper": 0.3276043102145195
          },
          {
           "lower": 0.32675051391124726,
           "timepoint": 35,
           "trajectory": "H_sol",
           "upper": 0.34355181753635405
          },
          {
           "lower": 0.34316360801458357,
           "timepoint": 36,
           "trajectory": "H_sol",
           "upper": 0.36027553826570513
          },
          {
           "lower": 0.36040143072605135,
           "timepoint": 37,
           "trajectory": "H_sol",
           "upper": 0.37781395614147184
          },
          {
           "lower": 0.37850498110055925,
           "timepoint": 38,
           "trajectory": "H_sol",
           "upper": 0.39620576351881026
          },
          {
           "lower": 0.397517965734005,
           "timepoint": 39,
           "trajectory": "H_sol",
           "upper": 0.4154928162693977
          },
          {
           "lower": 0.4174861565232277,
           "timepoint": 40,
           "trajectory": "H_sol",
           "upper": 0.435719196498394
          },
          {
           "lower": 0.43845732510089874,
           "timepoint": 41,
           "trajectory": "H_sol",
           "upper": 0.4569299668073654
          },
          {
           "lower": 0.46048186272382735,
           "timepoint": 42,
           "trajectory": "H_sol",
           "upper": 0.47917329221963884
          },
          {
           "lower": 0.4836126446723938,
           "timepoint": 43,
           "trajectory": "H_sol",
           "upper": 0.5024994730949401
          },
          {
           "lower": 0.5079060763120651,
           "timepoint": 44,
           "trajectory": "H_sol",
           "upper": 0.5269615083932877
          },
          {
           "lower": 0.5334194719791412,
           "timepoint": 45,
           "trajectory": "H_sol",
           "upper": 0.5526141107082367
          },
          {
           "lower": 0.560214614868164,
           "timepoint": 46,
           "trajectory": "H_sol",
           "upper": 0.5795153617858887
          },
          {
           "lower": 0.5883555501699448,
           "timepoint": 47,
           "trajectory": "H_sol",
           "upper": 0.6077266246080398
          },
          {
           "lower": 0.6179103165864944,
           "timepoint": 48,
           "trajectory": "H_sol",
           "upper": 0.6373111099004746
          },
          {
           "lower": 0.6489501416683197,
           "timepoint": 49,
           "trajectory": "H_sol",
           "upper": 0.6683357536792756
          },
          {
           "lower": 0.6815481722354889,
           "timepoint": 50,
           "trajectory": "H_sol",
           "upper": 0.7008706986904144
          },
          {
           "lower": 0.7157844334840775,
           "timepoint": 51,
           "trajectory": "H_sol",
           "upper": 0.7349901765584945
          },
          {
           "lower": 0.7517405241727829,
           "timepoint": 52,
           "trajectory": "H_sol",
           "upper": 0.7707704216241836
          },
          {
           "lower": 0.7895027786493302,
           "timepoint": 53,
           "trajectory": "H_sol",
           "upper": 0.8082928866147995
          },
          {
           "lower": 0.8291619539260864,
           "timepoint": 54,
           "trajectory": "H_sol",
           "upper": 0.8476404428482056
          },
          {
           "lower": 0.8708134204149246,
           "timepoint": 55,
           "trajectory": "H_sol",
           "upper": 0.8889042228460312
          },
          {
           "lower": 0.9145570784807205,
           "timepoint": 56,
           "trajectory": "H_sol",
           "upper": 0.9321766704320907
          },
          {
           "lower": 0.9604987770318985,
           "timepoint": 57,
           "trajectory": "H_sol",
           "upper": 0.9775570362806321
          },
          {
           "lower": 1.0087479293346404,
           "timepoint": 58,
           "trajectory": "H_sol",
           "upper": 1.0251457750797273
          },
          {
           "lower": 1.0594213128089904,
           "timepoint": 59,
           "trajectory": "H_sol",
           "upper": 1.0750512957572937
          },
          {
           "lower": 1.112641406059265,
           "timepoint": 60,
           "trajectory": "H_sol",
           "upper": 1.1273862600326539
          },
          {
           "lower": 1.1685314536094666,
           "timepoint": 61,
           "trajectory": "H_sol",
           "upper": 1.1822692990303039
          },
          {
           "lower": 1.2272316634654998,
           "timepoint": 62,
           "trajectory": "H_sol",
           "upper": 1.2398237764835358
          },
          {
           "lower": 1.2888819396495819,
           "timepoint": 63,
           "trajectory": "H_sol",
           "upper": 1.3001801550388337
          },
          {
           "lower": 1.3536240994930266,
           "timepoint": 64,
           "trajectory": "H_sol",
           "upper": 1.3634752094745637
          },
          {
           "lower": 1.4216218292713165,
           "timepoint": 65,
           "trajectory": "H_sol",
           "upper": 1.42985138297081
          },
          {
           "lower": 1.4930359840393066,
           "timepoint": 66,
           "trajectory": "H_sol",
           "upper": 1.4994595527648926
          },
          {
           "lower": 1.5680357813835144,
           "timepoint": 67,
           "trajectory": "H_sol",
           "upper": 1.5724571347236633
          },
          {
           "lower": 1.64680415391922,
           "timepoint": 68,
           "trajectory": "H_sol",
           "upper": 1.6490046381950378
          },
          {
           "lower": 1.7292810201644897,
           "timepoint": 69,
           "trajectory": "H_sol",
           "upper": 1.729529070854187
          },
          {
           "lower": 1.8134652078151703,
           "timepoint": 70,
           "trajectory": "H_sol",
           "upper": 1.8164086639881134
          },
          {
           "lower": 1.9017478048801422,
           "timepoint": 71,
           "trajectory": "H_sol",
           "upper": 1.9076547801494599
          },
          {
           "lower": 1.9943280935287475,
           "timepoint": 72,
           "trajectory": "H_sol",
           "upper": 2.0034832239151
          },
          {
           "lower": 2.0914157390594483,
           "timepoint": 73,
           "trajectory": "H_sol",
           "upper": 2.1041246891021728
          },
          {
           "lower": 2.193230926990509,
           "timepoint": 74,
           "trajectory": "H_sol",
           "upper": 2.2098230719566345
          },
          {
           "lower": 2.2999983191490174,
           "timepoint": 75,
           "trajectory": "H_sol",
           "upper": 2.3208300709724425
          },
          {
           "lower": 2.411966872215271,
           "timepoint": 76,
           "trajectory": "H_sol",
           "upper": 2.437412667274475
          },
          {
           "lower": 2.529386615753174,
           "timepoint": 77,
           "trajectory": "H_sol",
           "upper": 2.5598496437072753
          },
          {
           "lower": 2.652517592906952,
           "timepoint": 78,
           "trajectory": "H_sol",
           "upper": 2.6884426712989806
          },
          {
           "lower": 2.7816457390785216,
           "timepoint": 79,
           "trajectory": "H_sol",
           "upper": 2.8234918475151063
          },
          {
           "lower": 2.9170597910881044,
           "timepoint": 80,
           "trajectory": "H_sol",
           "upper": 2.9653247475624083
          },
          {
           "lower": 3.059064972400665,
           "timepoint": 81,
           "trajectory": "H_sol",
           "upper": 3.114281785488129
          },
          {
           "lower": 3.2079848527908323,
           "timepoint": 82,
           "trajectory": "H_sol",
           "upper": 3.270721507072449
          },
          {
           "lower": 3.3641523003578184,
           "timepoint": 83,
           "trajectory": "H_sol",
           "upper": 3.4350203394889833
          },
          {
           "lower": 3.5279193997383116,
           "timepoint": 84,
           "trajectory": "H_sol",
           "upper": 3.607567918300629
          },
          {
           "lower": 3.699664032459259,
           "timepoint": 85,
           "trajectory": "H_sol",
           "upper": 3.7887848258018493
          },
          {
           "lower": 3.8797658324241637,
           "timepoint": 86,
           "trajectory": "H_sol",
           "upper": 3.979103481769562
          },
          {
           "lower": 4.068633794784546,
           "timepoint": 87,
           "trajectory": "H_sol",
           "upper": 4.1789820194244385
          },
          {
           "lower": 4.266695809364319,
           "timepoint": 88,
           "trajectory": "H_sol",
           "upper": 4.388898539543152
          },
          {
           "lower": 4.474400019645691,
           "timepoint": 89,
           "trajectory": "H_sol",
           "upper": 4.609359765052796
          },
          {
           "lower": 4.692212963104248,
           "timepoint": 90,
           "trajectory": "H_sol",
           "upper": 4.840895748138427
          },
          {
           "lower": 4.920627021789551,
           "timepoint": 91,
           "trajectory": "H_sol",
           "upper": 5.0840555191040036
          },
          {
           "lower": 5.160161662101745,
           "timepoint": 92,
           "trajectory": "H_sol",
           "upper": 5.339430642127991
          },
          {
           "lower": 5.411353635787964,
           "timepoint": 93,
           "trajectory": "H_sol",
           "upper": 5.607632112503052
          },
          {
           "lower": 5.674769902229309,
           "timepoint": 94,
           "trajectory": "H_sol",
           "upper": 5.889304137229919
          },
          {
           "lower": 5.951004219055176,
           "timepoint": 95,
           "trajectory": "H_sol",
           "upper": 6.1851194381713865
          },
          {
           "lower": 6.240696716308594,
           "timepoint": 96,
           "trajectory": "H_sol",
           "upper": 6.495790672302246
          },
          {
           "lower": 6.544479131698608,
           "timepoint": 97,
           "trajectory": "H_sol",
           "upper": 6.822059869766235
          },
          {
           "lower": 6.863045573234558,
           "timepoint": 98,
           "trajectory": "H_sol",
           "upper": 7.164729714393616
          },
          {
           "lower": 7.197123312950135,
           "timepoint": 99,
           "trajectory": "H_sol",
           "upper": 7.524597859382629
          },
          {
           "lower": 7.5474557161331175,
           "timepoint": 100,
           "trajectory": "H_sol",
           "upper": 7.90253598690033
          },
          {
           "lower": 7.914836287498474,
           "timepoint": 101,
           "trajectory": "H_sol",
           "upper": 8.299458622932434
          },
          {
           "lower": 8.300092935562134,
           "timepoint": 102,
           "trajectory": "H_sol",
           "upper": 8.716307401657104
          },
          {
           "lower": 8.704110240936279,
           "timepoint": 103,
           "trajectory": "H_sol",
           "upper": 9.154087924957276
          },
          {
           "lower": 9.127780389785766,
           "timepoint": 104,
           "trajectory": "H_sol",
           "upper": 9.613847303390504
          },
          {
           "lower": 9.572060108184814,
           "timepoint": 105,
           "trajectory": "H_sol",
           "upper": 10.096700191497803
          },
          {
           "lower": 10.037974452972412,
           "timepoint": 106,
           "trajectory": "H_sol",
           "upper": 10.603789234161377
          },
          {
           "lower": 10.526552677154541,
           "timepoint": 107,
           "trajectory": "H_sol",
           "upper": 11.13633680343628
          },
          {
           "lower": 11.038905048370362,
           "timepoint": 108,
           "trajectory": "H_sol",
           "upper": 11.695628261566162
          },
          {
           "lower": 11.57618579864502,
           "timepoint": 109,
           "trajectory": "H_sol",
           "upper": 12.282994651794434
          },
          {
           "lower": 12.139610242843627,
           "timepoint": 110,
           "trajectory": "H_sol",
           "upper": 12.899846124649049
          },
          {
           "lower": 12.730445098876952,
           "timepoint": 111,
           "trajectory": "H_sol",
           "upper": 13.54765968322754
          },
          {
           "lower": 13.350021505355835,
           "timepoint": 112,
           "trajectory": "H_sol",
           "upper": 14.228003358840942
          },
          {
           "lower": 13.999749660491943,
           "timepoint": 113,
           "trajectory": "H_sol",
           "upper": 14.942488193511963
          },
          {
           "lower": 14.681082344055175,
           "timepoint": 114,
           "trajectory": "H_sol",
           "upper": 15.692830467224121
          },
          {
           "lower": 15.395561599731446,
           "timepoint": 115,
           "trajectory": "H_sol",
           "upper": 16.48084602355957
          },
          {
           "lower": 16.144797229766844,
           "timepoint": 116,
           "trajectory": "H_sol",
           "upper": 17.308402156829835
          },
          {
           "lower": 16.930462074279784,
           "timepoint": 117,
           "trajectory": "H_sol",
           "upper": 18.177482414245606
          },
          {
           "lower": 17.754354858398436,
           "timepoint": 118,
           "trajectory": "H_sol",
           "upper": 19.090196228027345
          },
          {
           "lower": 18.618327331542968,
           "timepoint": 119,
           "trajectory": "H_sol",
           "upper": 20.048699188232423
          },
          {
           "lower": 19.52429094314575,
           "timepoint": 120,
           "trajectory": "H_sol",
           "upper": 21.05528554916382
          },
          {
           "lower": 20.47432584762573,
           "timepoint": 121,
           "trajectory": "H_sol",
           "upper": 22.11236505508423
          },
          {
           "lower": 21.470553398132324,
           "timepoint": 122,
           "trajectory": "H_sol",
           "upper": 23.222512245178223
          },
          {
           "lower": 22.51521978378296,
           "timepoint": 123,
           "trajectory": "H_sol",
           "upper": 24.38833894729614
          },
          {
           "lower": 23.610713768005372,
           "timepoint": 124,
           "trajectory": "H_sol",
           "upper": 25.612659645080566
          },
          {
           "lower": 24.7594464302063,
           "timepoint": 125,
           "trajectory": "H_sol",
           "upper": 26.89833517074585
          },
          {
           "lower": 25.964034175872804,
           "timepoint": 126,
           "trajectory": "H_sol",
           "upper": 28.248522663116454
          },
          {
           "lower": 27.227158546447754,
           "timepoint": 127,
           "trajectory": "H_sol",
           "upper": 29.666415214538574
          },
          {
           "lower": 28.551683521270753,
           "timepoint": 128,
           "trajectory": "H_sol",
           "upper": 31.15541067123413
          },
          {
           "lower": 29.94057273864746,
           "timepoint": 129,
           "trajectory": "H_sol",
           "upper": 32.71904945373535
          },
          {
           "lower": 31.39700574874878,
           "timepoint": 130,
           "trajectory": "H_sol",
           "upper": 34.36106042861938
          },
          {
           "lower": 32.92418098449707,
           "timepoint": 131,
           "trajectory": "H_sol",
           "upper": 36.08532524108887
          },
          {
           "lower": 34.52556819915772,
           "timepoint": 132,
           "trajectory": "H_sol",
           "upper": 37.89621143341064
          },
          {
           "lower": 36.2047607421875,
           "timepoint": 133,
           "trajectory": "H_sol",
           "upper": 39.79775695800781
          },
          {
           "lower": 37.965523910522464,
           "timepoint": 134,
           "trajectory": "H_sol",
           "upper": 41.7946231842041
          },
          {
           "lower": 39.81180896759033,
           "timepoint": 135,
           "trajectory": "H_sol",
           "upper": 43.89136562347412
          },
          {
           "lower": 41.74777412414551,
           "timepoint": 136,
           "trajectory": "H_sol",
           "upper": 46.093244552612305
          },
          {
           "lower": 43.77772731781006,
           "timepoint": 137,
           "trajectory": "H_sol",
           "upper": 48.40541248321533
          },
          {
           "lower": 45.906280517578125,
           "timepoint": 138,
           "trajectory": "H_sol",
           "upper": 50.8333740234375
          },
          {
           "lower": 48.138186073303224,
           "timepoint": 139,
           "trajectory": "H_sol",
           "upper": 53.382897758483885
          },
          {
           "lower": 50.47833881378174,
           "timepoint": 140,
           "trajectory": "H_sol",
           "upper": 56.060056114196776
          },
          {
           "lower": 52.93212242126465,
           "timepoint": 141,
           "trajectory": "H_sol",
           "upper": 58.87121467590332
          },
          {
           "lower": 55.504973602294925,
           "timepoint": 142,
           "trajectory": "H_sol",
           "upper": 61.8230598449707
          },
          {
           "lower": 58.20268211364746,
           "timepoint": 143,
           "trajectory": "H_sol",
           "upper": 64.9226001739502
          },
          {
           "lower": 61.031232833862305,
           "timepoint": 144,
           "trajectory": "H_sol",
           "upper": 68.1771183013916
          },
          {
           "lower": 63.996979522705075,
           "timepoint": 145,
           "trajectory": "H_sol",
           "upper": 71.59445114135742
          },
          {
           "lower": 67.10651206970215,
           "timepoint": 146,
           "trajectory": "H_sol",
           "upper": 75.18266487121582
          },
          {
           "lower": 70.36678466796874,
           "timepoint": 147,
           "trajectory": "H_sol",
           "upper": 78.95015563964844
          },
          {
           "lower": 73.7850383758545,
           "timepoint": 148,
           "trajectory": "H_sol",
           "upper": 82.90596351623535
          },
          {
           "lower": 77.36908950805665,
           "timepoint": 149,
           "trajectory": "H_sol",
           "upper": 87.05934677124023
          },
          {
           "lower": 81.12668495178222,
           "timepoint": 150,
           "trajectory": "H_sol",
           "upper": 91.42030448913575
          },
          {
           "lower": 85.0662338256836,
           "timepoint": 151,
           "trajectory": "H_sol",
           "upper": 95.99892120361328
          },
          {
           "lower": 89.19666290283203,
           "timepoint": 152,
           "trajectory": "H_sol",
           "upper": 100.8060531616211
          },
          {
           "lower": 93.52699203491211,
           "timepoint": 153,
           "trajectory": "H_sol",
           "upper": 105.8530891418457
          },
          {
           "lower": 98.06687850952149,
           "timepoint": 154,
           "trajectory": "H_sol",
           "upper": 111.15185623168945
          },
          {
           "lower": 102.82639617919922,
           "timepoint": 155,
           "trajectory": "H_sol",
           "upper": 116.71481781005859
          },
          {
           "lower": 107.8161407470703,
           "timepoint": 156,
           "trajectory": "H_sol",
           "upper": 122.55501403808594
          },
          {
           "lower": 113.04715538024902,
           "timepoint": 157,
           "trajectory": "H_sol",
           "upper": 128.68615913391113
          },
          {
           "lower": 118.53088035583497,
           "timepoint": 158,
           "trajectory": "H_sol",
           "upper": 135.12250862121581
          },
          {
           "lower": 124.27966041564942,
           "timepoint": 159,
           "trajectory": "H_sol",
           "upper": 141.87957267761232
          },
          {
           "lower": 130.30608673095702,
           "timepoint": 160,
           "trajectory": "H_sol",
           "upper": 148.97259979248048
          },
          {
           "lower": 136.62331466674806,
           "timepoint": 161,
           "trajectory": "H_sol",
           "upper": 156.4180824279785
          },
          {
           "lower": 143.24546966552734,
           "timepoint": 162,
           "trajectory": "H_sol",
           "upper": 164.2343276977539
          },
          {
           "lower": 150.18693008422852,
           "timepoint": 163,
           "trajectory": "H_sol",
           "upper": 172.43854293823242
          },
          {
           "lower": 157.46334075927734,
           "timepoint": 164,
           "trajectory": "H_sol",
           "upper": 181.05030059814453
          },
          {
           "lower": 165.09015350341798,
           "timepoint": 165,
           "trajectory": "H_sol",
           "upper": 190.0885269165039
          },
          {
           "lower": 173.08439254760742,
           "timepoint": 166,
           "trajectory": "H_sol",
           "upper": 199.57538223266602
          },
          {
           "lower": 181.46343307495118,
           "timepoint": 167,
           "trajectory": "H_sol",
           "upper": 209.53227920532225
          },
          {
           "lower": 190.2456199645996,
           "timepoint": 168,
           "trajectory": "H_sol",
           "upper": 219.98230056762696
          },
          {
           "lower": 199.44998092651366,
           "timepoint": 169,
           "trajectory": "H_sol",
           "upper": 230.94941787719728
          },
          {
           "lower": 209.09665756225587,
           "timepoint": 170,
           "trajectory": "H_sol",
           "upper": 242.45844192504882
          },
          {
           "lower": 219.2065643310547,
           "timepoint": 171,
           "trajectory": "H_sol",
           "upper": 254.5362335205078
          },
          {
           "lower": 229.80160522460938,
           "timepoint": 172,
           "trajectory": "H_sol",
           "upper": 267.2100524902344
          },
          {
           "lower": 240.904638671875,
           "timepoint": 173,
           "trajectory": "H_sol",
           "upper": 280.5088134765625
          },
          {
           "lower": 252.53984680175782,
           "timepoint": 174,
           "trajectory": "H_sol",
           "upper": 294.46241149902346
          },
          {
           "lower": 264.7320892333984,
           "timepoint": 175,
           "trajectory": "H_sol",
           "upper": 309.1037261962891
          },
          {
           "lower": 277.5076370239258,
           "timepoint": 176,
           "trajectory": "H_sol",
           "upper": 324.46443939208984
          },
          {
           "lower": 290.89358673095705,
           "timepoint": 177,
           "trajectory": "H_sol",
           "upper": 340.5792831420898
          },
          {
           "lower": 304.91903228759764,
           "timepoint": 178,
           "trajectory": "H_sol",
           "upper": 357.484684753418
          },
          {
           "lower": 319.61315460205077,
           "timepoint": 179,
           "trajectory": "H_sol",
           "upper": 375.21817474365236
          },
          {
           "lower": 335.0078414916992,
           "timepoint": 180,
           "trajectory": "H_sol",
           "upper": 393.81982574462893
          },
          {
           "lower": 351.1349105834961,
           "timepoint": 181,
           "trajectory": "H_sol",
           "upper": 413.3300247192383
          },
          {
           "lower": 368.0299667358398,
           "timepoint": 182,
           "trajectory": "H_sol",
           "upper": 433.7924514770508
          },
          {
           "lower": 385.72691650390624,
           "timepoint": 183,
           "trajectory": "H_sol",
           "upper": 455.2520263671875
          },
          {
           "lower": 404.26340637207034,
           "timepoint": 184,
           "trajectory": "H_sol",
           "upper": 477.7549652099609
          },
          {
           "lower": 423.67826080322266,
           "timepoint": 185,
           "trajectory": "H_sol",
           "upper": 501.35118865966797
          },
          {
           "lower": 444.01158447265624,
           "timepoint": 186,
           "trajectory": "H_sol",
           "upper": 526.0913208007812
          },
          {
           "lower": 465.30573120117185,
           "timepoint": 187,
           "trajectory": "H_sol",
           "upper": 552.0286193847656
          },
          {
           "lower": 487.6042938232422,
           "timepoint": 188,
           "trajectory": "H_sol",
           "upper": 579.2179107666016
          },
          {
           "lower": 510.95347900390624,
           "timepoint": 189,
           "trajectory": "H_sol",
           "upper": 607.7197387695312
          },
          {
           "lower": 535.4001495361329,
           "timepoint": 190,
           "trajectory": "H_sol",
           "upper": 637.5917327880859
          },
          {
           "lower": 560.9930053710938,
           "timepoint": 191,
           "trajectory": "H_sol",
           "upper": 668.8967651367187
          },
          {
           "lower": 587.7894897460938,
           "timepoint": 192,
           "trajectory": "H_sol",
           "upper": 701.7012329101562
          },
          {
           "lower": 615.8369842529297,
           "timepoint": 193,
           "trajectory": "H_sol",
           "upper": 736.072622680664
          },
          {
           "lower": 645.1934967041016,
           "timepoint": 194,
           "trajectory": "H_sol",
           "upper": 772.0814666748047
          },
          {
           "lower": 675.9177520751953,
           "timepoint": 195,
           "trajectory": "H_sol",
           "upper": 809.8009368896485
          },
          {
           "lower": 708.06953125,
           "timepoint": 196,
           "trajectory": "H_sol",
           "upper": 849.3077880859375
          },
          {
           "lower": 741.71240234375,
           "timepoint": 197,
           "trajectory": "H_sol",
           "upper": 890.680419921875
          },
          {
           "lower": 776.9114349365234,
           "timepoint": 198,
           "trajectory": "H_sol",
           "upper": 934.0004913330079
          },
          {
           "lower": 813.7350982666015,
           "timepoint": 199,
           "trajectory": "H_sol",
           "upper": 979.3527313232422
          },
          {
           "lower": 852.252554321289,
           "timepoint": 200,
           "trajectory": "H_sol",
           "upper": 1026.8284393310546
          },
          {
           "lower": 892.53828125,
           "timepoint": 201,
           "trajectory": "H_sol",
           "upper": 1076.516650390625
          },
          {
           "lower": 934.6676879882813,
           "timepoint": 202,
           "trajectory": "H_sol",
           "upper": 1128.5054077148438
          },
          {
           "lower": 978.7161102294922,
           "timepoint": 203,
           "trajectory": "H_sol",
           "upper": 1182.898941040039
          },
          {
           "lower": 1024.7686462402344,
           "timepoint": 204,
           "trajectory": "H_sol",
           "upper": 1239.7969055175781
          },
          {
           "lower": 1072.9073425292968,
           "timepoint": 205,
           "trajectory": "H_sol",
           "upper": 1299.3002990722657
          },
          {
           "lower": 1123.21982421875,
           "timepoint": 206,
           "trajectory": "H_sol",
           "upper": 1361.517236328125
          },
          {
           "lower": 1175.7936279296875,
           "timepoint": 207,
           "trajectory": "H_sol",
           "upper": 1426.5574462890625
          },
          {
           "lower": 1230.7217224121093,
           "timepoint": 208,
           "trajectory": "H_sol",
           "upper": 1494.5283996582032
          },
          {
           "lower": 1288.102392578125,
           "timepoint": 209,
           "trajectory": "H_sol",
           "upper": 1565.55068359375
          },
          {
           "lower": 1348.0308654785156,
           "timepoint": 210,
           "trajectory": "H_sol",
           "upper": 1639.741717529297
          },
          {
           "lower": 1410.606689453125,
           "timepoint": 211,
           "trajectory": "H_sol",
           "upper": 1717.2197265625
          },
          {
           "lower": 1475.9351013183593,
           "timepoint": 212,
           "trajectory": "H_sol",
           "upper": 1798.1099426269532
          },
          {
           "lower": 1544.1241333007813,
           "timepoint": 213,
           "trajectory": "H_sol",
           "upper": 1882.5379760742187
          },
          {
           "lower": 1615.2784057617187,
           "timepoint": 214,
           "trajectory": "H_sol",
           "upper": 1970.6305297851563
          },
          {
           "lower": 1689.5170043945313,
           "timepoint": 215,
           "trajectory": "H_sol",
           "upper": 2062.5188842773437
          },
          {
           "lower": 1766.9494873046874,
           "timepoint": 216,
           "trajectory": "H_sol",
           "upper": 2158.3356689453126
          },
          {
           "lower": 1847.6879821777343,
           "timepoint": 217,
           "trajectory": "H_sol",
           "upper": 2258.205206298828
          },
          {
           "lower": 1931.8595581054688,
           "timepoint": 218,
           "trajectory": "H_sol",
           "upper": 2362.2676391601562
          },
          {
           "lower": 2019.5768798828126,
           "timepoint": 219,
           "trajectory": "H_sol",
           "upper": 2470.6618896484374
          },
          {
           "lower": 2110.968408203125,
           "timepoint": 220,
           "trajectory": "H_sol",
           "upper": 2583.514990234375
          },
          {
           "lower": 2206.1580444335937,
           "timepoint": 221,
           "trajectory": "H_sol",
           "upper": 2700.9618286132813
          },
          {
           "lower": 2305.267956542969,
           "timepoint": 222,
           "trajectory": "H_sol",
           "upper": 2823.139514160156
          },
          {
           "lower": 2408.4292602539062,
           "timepoint": 223,
           "trajectory": "H_sol",
           "upper": 2950.1749877929688
          },
          {
           "lower": 2515.764538574219,
           "timepoint": 224,
           "trajectory": "H_sol",
           "upper": 3082.200061035156
          },
          {
           "lower": 2627.4035034179688,
           "timepoint": 225,
           "trajectory": "H_sol",
           "upper": 3219.3369750976562
          },
          {
           "lower": 2743.4754028320312,
           "timepoint": 226,
           "trajectory": "H_sol",
           "upper": 3361.7211303710938
          },
          {
           "lower": 2864.1060424804687,
           "timepoint": 227,
           "trajectory": "H_sol",
           "upper": 3509.4532836914063
          },
          {
           "lower": 2989.4165893554687,
           "timepoint": 228,
           "trajectory": "H_sol",
           "upper": 3662.6515258789063
          },
          {
           "lower": 3119.5383544921874,
           "timepoint": 229,
           "trajectory": "H_sol",
           "upper": 3821.4333251953126
          },
          {
           "lower": 3254.590539550781,
           "timepoint": 230,
           "trajectory": "H_sol",
           "upper": 3985.883825683594
          },
          {
           "lower": 3394.6896728515626,
           "timepoint": 231,
           "trajectory": "H_sol",
           "upper": 4156.098901367188
          },
          {
           "lower": 3539.952001953125,
           "timepoint": 232,
           "trajectory": "H_sol",
           "upper": 4332.151513671875
          },
          {
           "lower": 3690.4931884765624,
           "timepoint": 233,
           "trajectory": "H_sol",
           "upper": 4514.116674804687
          },
          {
           "lower": 3846.411267089844,
           "timepoint": 234,
           "trajectory": "H_sol",
           "upper": 4702.050891113281
          },
          {
           "lower": 4007.8085083007813,
           "timepoint": 235,
           "trajectory": "H_sol",
           "upper": 4895.990075683594
          },
          {
           "lower": 4174.779125976563,
           "timepoint": 236,
           "trajectory": "H_sol",
           "upper": 5095.966479492187
          },
          {
           "lower": 4347.398754882813,
           "timepoint": 237,
           "trajectory": "H_sol",
           "upper": 5301.984545898437
          },
          {
           "lower": 4525.755200195313,
           "timepoint": 238,
           "trajectory": "H_sol",
           "upper": 5514.029467773437
          },
          {
           "lower": 4709.896948242187,
           "timepoint": 239,
           "trajectory": "H_sol",
           "upper": 5732.099633789063
          },
          {
           "lower": 4899.895654296875,
           "timepoint": 240,
           "trajectory": "H_sol",
           "upper": 5956.115087890625
          },
          {
           "lower": 5095.77197265625,
           "timepoint": 241,
           "trajectory": "H_sol",
           "upper": 6186.01123046875
          },
          {
           "lower": 5297.56279296875,
           "timepoint": 242,
           "trajectory": "H_sol",
           "upper": 6421.68916015625
          },
          {
           "lower": 5505.264111328125,
           "timepoint": 243,
           "trajectory": "H_sol",
           "upper": 6663.020068359375
          },
          {
           "lower": 5718.880590820312,
           "timepoint": 244,
           "trajectory": "H_sol",
           "upper": 6909.855249023438
          },
          {
           "lower": 5938.3824462890625,
           "timepoint": 245,
           "trajectory": "H_sol",
           "upper": 7162.0067138671875
          },
          {
           "lower": 6163.72568359375,
           "timepoint": 246,
           "trajectory": "H_sol",
           "upper": 7419.26259765625
          },
          {
           "lower": 6394.841235351562,
           "timepoint": 247,
           "trajectory": "H_sol",
           "upper": 7681.374096679688
          },
          {
           "lower": 6631.645532226563,
           "timepoint": 248,
           "trajectory": "H_sol",
           "upper": 7948.062963867187
          },
          {
           "lower": 6874.006372070313,
           "timepoint": 249,
           "trajectory": "H_sol",
           "upper": 8219.014624023437
          },
          {
           "lower": 7121.7880859375,
           "timepoint": 250,
           "trajectory": "H_sol",
           "upper": 8493.8837890625
          },
          {
           "lower": 7374.865380859375,
           "timepoint": 251,
           "trajectory": "H_sol",
           "upper": 8772.258642578125
          },
          {
           "lower": 7632.997998046875,
           "timepoint": 252,
           "trajectory": "H_sol",
           "upper": 9053.749072265626
          },
          {
           "lower": 7895.976806640625,
           "timepoint": 253,
           "trajectory": "H_sol",
           "upper": 9337.897216796875
          },
          {
           "lower": 8163.544604492187,
           "timepoint": 254,
           "trajectory": "H_sol",
           "upper": 9624.149243164062
          },
          {
           "lower": 8435.41640625,
           "timepoint": 255,
           "trajectory": "H_sol",
           "upper": 9912.038671875
          },
          {
           "lower": 8711.283251953126,
           "timepoint": 256,
           "trajectory": "H_sol",
           "upper": 10200.977490234374
          },
          {
           "lower": 8990.7720703125,
           "timepoint": 257,
           "trajectory": "H_sol",
           "upper": 10490.3373046875
          },
          {
           "lower": 9273.525927734376,
           "timepoint": 258,
           "trajectory": "H_sol",
           "upper": 10779.523876953124
          },
          {
           "lower": 9559.114306640626,
           "timepoint": 259,
           "trajectory": "H_sol",
           "upper": 11067.845654296874
          },
          {
           "lower": 9847.083056640626,
           "timepoint": 260,
           "trajectory": "H_sol",
           "upper": 11354.619091796874
          },
          {
           "lower": 10136.9490234375,
           "timepoint": 261,
           "trajectory": "H_sol",
           "upper": 11639.1193359375
          },
          {
           "lower": 10428.187353515625,
           "timepoint": 262,
           "trajectory": "H_sol",
           "upper": 11920.602685546875
          },
          {
           "lower": 10720.27197265625,
           "timepoint": 263,
           "trajectory": "H_sol",
           "upper": 12198.30224609375
          },
          {
           "lower": 11012.591162109375,
           "timepoint": 264,
           "trajectory": "H_sol",
           "upper": 12471.458642578125
          },
          {
           "lower": 11304.5654296875,
           "timepoint": 265,
           "trajectory": "H_sol",
           "upper": 12739.2568359375
          },
          {
           "lower": 11595.51650390625,
           "timepoint": 266,
           "trajectory": "H_sol",
           "upper": 13000.90341796875
          },
          {
           "lower": 11884.792138671875,
           "timepoint": 267,
           "trajectory": "H_sol",
           "upper": 13255.624853515625
          },
          {
           "lower": 12171.746533203124,
           "timepoint": 268,
           "trajectory": "H_sol",
           "upper": 13502.594287109376
          },
          {
           "lower": 12455.621240234375,
           "timepoint": 269,
           "trajectory": "H_sol",
           "upper": 13741.024267578125
          },
          {
           "lower": 12735.69931640625,
           "timepoint": 270,
           "trajectory": "H_sol",
           "upper": 13970.16005859375
          },
          {
           "lower": 13011.2603515625,
           "timepoint": 271,
           "trajectory": "H_sol",
           "upper": 14189.2337890625
          },
          {
           "lower": 13281.52568359375,
           "timepoint": 272,
           "trajectory": "H_sol",
           "upper": 14397.51337890625
          },
          {
           "lower": 13545.75302734375,
           "timepoint": 273,
           "trajectory": "H_sol",
           "upper": 14594.27236328125
          },
          {
           "lower": 13803.185791015625,
           "timepoint": 274,
           "trajectory": "H_sol",
           "upper": 14778.864013671875
          },
          {
           "lower": 14053.0646484375,
           "timepoint": 275,
           "trajectory": "H_sol",
           "upper": 14950.6775390625
          },
          {
           "lower": 14294.631005859375,
           "timepoint": 276,
           "trajectory": "H_sol",
           "upper": 15109.063330078125
          },
          {
           "lower": 14527.153857421876,
           "timepoint": 277,
           "trajectory": "H_sol",
           "upper": 15253.544384765624
          },
          {
           "lower": 14749.907958984375,
           "timepoint": 278,
           "trajectory": "H_sol",
           "upper": 15383.612548828125
          },
          {
           "lower": 14962.19931640625,
           "timepoint": 279,
           "trajectory": "H_sol",
           "upper": 15498.86123046875
          },
          {
           "lower": 15163.33046875,
           "timepoint": 280,
           "trajectory": "H_sol",
           "upper": 15598.88828125
          },
          {
           "lower": 15352.674560546875,
           "timepoint": 281,
           "trajectory": "H_sol",
           "upper": 15683.455322265625
          },
          {
           "lower": 15529.631005859375,
           "timepoint": 282,
           "trajectory": "H_sol",
           "upper": 15752.260595703125
          },
          {
           "lower": 15693.6140625,
           "timepoint": 283,
           "trajectory": "H_sol",
           "upper": 15805.161328125
          },
          {
           "lower": 15842.0484375,
           "timepoint": 284,
           "trajectory": "H_sol",
           "upper": 15844.098046875
          },
          {
           "lower": 15862.891259765625,
           "timepoint": 285,
           "trajectory": "H_sol",
           "upper": 15980.623388671875
          },
          {
           "lower": 15867.718212890624,
           "timepoint": 286,
           "trajectory": "H_sol",
           "upper": 16102.745654296876
          },
          {
           "lower": 15856.638720703126,
           "timepoint": 287,
           "trajectory": "H_sol",
           "upper": 16210.100537109374
          },
          {
           "lower": 15829.806396484375,
           "timepoint": 288,
           "trajectory": "H_sol",
           "upper": 16302.372314453125
          },
          {
           "lower": 15787.456640625,
           "timepoint": 289,
           "trajectory": "H_sol",
           "upper": 16379.305078125
          },
          {
           "lower": 15729.87001953125,
           "timepoint": 290,
           "trajectory": "H_sol",
           "upper": 16440.71005859375
          },
          {
           "lower": 15657.437744140625,
           "timepoint": 291,
           "trajectory": "H_sol",
           "upper": 16486.479248046875
          },
          {
           "lower": 15570.532958984375,
           "timepoint": 292,
           "trajectory": "H_sol",
           "upper": 16516.460205078125
          },
          {
           "lower": 15469.552001953125,
           "timepoint": 293,
           "trajectory": "H_sol",
           "upper": 16530.712646484375
          },
          {
           "lower": 15355.0794921875,
           "timepoint": 294,
           "trajectory": "H_sol",
           "upper": 16529.2876953125
          },
          {
           "lower": 15227.629736328125,
           "timepoint": 295,
           "trajectory": "H_sol",
           "upper": 16512.306787109374
          },
          {
           "lower": 15087.769189453125,
           "timepoint": 296,
           "trajectory": "H_sol",
           "upper": 16479.932958984376
          },
          {
           "lower": 14936.124853515625,
           "timepoint": 297,
           "trajectory": "H_sol",
           "upper": 16432.424951171874
          },
          {
           "lower": 14773.332470703124,
           "timepoint": 298,
           "trajectory": "H_sol",
           "upper": 16370.014208984376
          },
          {
           "lower": 14600.05244140625,
           "timepoint": 299,
           "trajectory": "H_sol",
           "upper": 16293.06669921875
          },
          {
           "lower": 14416.975048828124,
           "timepoint": 300,
           "trajectory": "H_sol",
           "upper": 16202.094287109376
          },
          {
           "lower": 14224.779052734375,
           "timepoint": 301,
           "trajectory": "H_sol",
           "upper": 16097.407470703125
          },
          {
           "lower": 14024.183447265625,
           "timepoint": 302,
           "trajectory": "H_sol",
           "upper": 15979.483544921875
          },
          {
           "lower": 13815.887255859376,
           "timepoint": 303,
           "trajectory": "H_sol",
           "upper": 15848.894970703124
          },
          {
           "lower": 13600.600341796875,
           "timepoint": 304,
           "trajectory": "H_sol",
           "upper": 15706.209228515625
          },
          {
           "lower": 13379.02822265625,
           "timepoint": 305,
           "trajectory": "H_sol",
           "upper": 15551.98154296875
          },
          {
           "lower": 13151.88427734375,
           "timepoint": 306,
           "trajectory": "H_sol",
           "upper": 15386.82861328125
          },
          {
           "lower": 12919.7943359375,
           "timepoint": 307,
           "trajectory": "H_sol",
           "upper": 15211.3912109375
          },
          {
           "lower": 12683.49169921875,
           "timepoint": 308,
           "trajectory": "H_sol",
           "upper": 15026.31298828125
          },
          {
           "lower": 12443.596337890625,
           "timepoint": 309,
           "trajectory": "H_sol",
           "upper": 14832.264013671875
          },
          {
           "lower": 12200.77099609375,
           "timepoint": 310,
           "trajectory": "H_sol",
           "upper": 14629.90087890625
          },
          {
           "lower": 11955.590234375,
           "timepoint": 311,
           "trajectory": "H_sol",
           "upper": 14419.92734375
          },
          {
           "lower": 11708.68662109375,
           "timepoint": 312,
           "trajectory": "H_sol",
           "upper": 14202.98916015625
          },
          {
           "lower": 11460.583642578125,
           "timepoint": 313,
           "trajectory": "H_sol",
           "upper": 13979.786474609375
          },
          {
           "lower": 11211.8408203125,
           "timepoint": 314,
           "trajectory": "H_sol",
           "upper": 13750.9658203125
          },
          {
           "lower": 10962.94091796875,
           "timepoint": 315,
           "trajectory": "H_sol",
           "upper": 13517.19189453125
          },
          {
           "lower": 10714.402490234375,
           "timepoint": 316,
           "trajectory": "H_sol",
           "upper": 13279.106298828125
          },
          {
           "lower": 10466.633544921875,
           "timepoint": 317,
           "trajectory": "H_sol",
           "upper": 13037.342041015625
          },
          {
           "lower": 10220.08115234375,
           "timepoint": 318,
           "trajectory": "H_sol",
           "upper": 12792.50087890625
          },
          {
           "lower": 9975.123193359375,
           "timepoint": 319,
           "trajectory": "H_sol",
           "upper": 12545.188330078125
          },
          {
           "lower": 9732.16845703125,
           "timepoint": 320,
           "trajectory": "H_sol",
           "upper": 12295.96435546875
          },
          {
           "lower": 9491.49580078125,
           "timepoint": 321,
           "trajectory": "H_sol",
           "upper": 12045.38115234375
          },
          {
           "lower": 9253.446875,
           "timepoint": 322,
           "trajectory": "H_sol",
           "upper": 11793.953515625
          },
          {
           "lower": 9018.293701171875,
           "timepoint": 323,
           "trajectory": "H_sol",
           "upper": 11542.191650390625
          },
          {
           "lower": 8786.28427734375,
           "timepoint": 324,
           "trajectory": "H_sol",
           "upper": 11290.55361328125
          },
          {
           "lower": 8557.645068359376,
           "timepoint": 325,
           "trajectory": "H_sol",
           "upper": 11039.492626953124
          },
          {
           "lower": 8332.592919921875,
           "timepoint": 326,
           "trajectory": "H_sol",
           "upper": 10789.419775390625
          },
          {
           "lower": 8111.2810546875,
           "timepoint": 327,
           "trajectory": "H_sol",
           "upper": 10540.7326171875
          },
          {
           "lower": 7893.882836914063,
           "timepoint": 328,
           "trajectory": "H_sol",
           "upper": 10293.798315429687
          },
          {
           "lower": 7680.5513916015625,
           "timepoint": 329,
           "trajectory": "H_sol",
           "upper": 10048.924682617188
          },
          {
           "lower": 7471.374462890625,
           "timepoint": 330,
           "trajectory": "H_sol",
           "upper": 9806.460498046876
          },
          {
           "lower": 7266.454370117188,
           "timepoint": 331,
           "trajectory": "H_sol",
           "upper": 9566.653540039062
          },
          {
           "lower": 7065.87109375,
           "timepoint": 332,
           "trajectory": "H_sol",
           "upper": 9329.79296875
          },
          {
           "lower": 6869.6785888671875,
           "timepoint": 333,
           "trajectory": "H_sol",
           "upper": 9096.095336914062
          },
          {
           "lower": 6677.936352539063,
           "timepoint": 334,
           "trajectory": "H_sol",
           "upper": 8865.785815429688
          },
          {
           "lower": 6490.663232421875,
           "timepoint": 335,
           "trajectory": "H_sol",
           "upper": 8639.029150390625
          },
          {
           "lower": 6307.866430664062,
           "timepoint": 336,
           "trajectory": "H_sol",
           "upper": 8416.023706054688
          },
          {
           "lower": 6129.5658203125,
           "timepoint": 337,
           "trajectory": "H_sol",
           "upper": 8196.9009765625
          },
          {
           "lower": 5955.746484375,
           "timepoint": 338,
           "trajectory": "H_sol",
           "upper": 7981.75546875
          },
          {
           "lower": 5786.389331054687,
           "timepoint": 339,
           "trajectory": "H_sol",
           "upper": 7770.742993164063
          },
          {
           "lower": 5621.473168945313,
           "timepoint": 340,
           "trajectory": "H_sol",
           "upper": 7563.909155273437
          },
          {
           "lower": 5460.955151367188,
           "timepoint": 341,
           "trajectory": "H_sol",
           "upper": 7361.353930664062
          },
          {
           "lower": 5304.7938232421875,
           "timepoint": 342,
           "trajectory": "H_sol",
           "upper": 7163.1246337890625
          },
          {
           "lower": 5152.936572265625,
           "timepoint": 343,
           "trajectory": "H_sol",
           "upper": 6969.267529296875
          },
          {
           "lower": 5005.325415039062,
           "timepoint": 344,
           "trajectory": "H_sol",
           "upper": 6779.805932617188
          },
          {
           "lower": 4861.902197265625,
           "timepoint": 345,
           "trajectory": "H_sol",
           "upper": 6594.751123046875
          },
          {
           "lower": 4722.5962890625,
           "timepoint": 346,
           "trajectory": "H_sol",
           "upper": 6414.1146484375
          },
          {
           "lower": 4587.336376953125,
           "timepoint": 347,
           "trajectory": "H_sol",
           "upper": 6237.886279296875
          },
          {
           "lower": 4456.048071289062,
           "timepoint": 348,
           "trajectory": "H_sol",
           "upper": 6066.050073242188
          },
          {
           "lower": 4328.651831054687,
           "timepoint": 349,
           "trajectory": "H_sol",
           "upper": 5898.580102539063
          },
          {
           "lower": 4205.069897460938,
           "timepoint": 350,
           "trajectory": "H_sol",
           "upper": 5735.440356445312
          },
          {
           "lower": 4085.2185546875,
           "timepoint": 351,
           "trajectory": "H_sol",
           "upper": 5576.5958984375
          },
          {
           "lower": 3969.0126098632813,
           "timepoint": 352,
           "trajectory": "H_sol",
           "upper": 5421.988122558594
          },
          {
           "lower": 3856.3691650390624,
           "timepoint": 353,
           "trajectory": "H_sol",
           "upper": 5271.575659179687
          },
          {
           "lower": 3747.201208496094,
           "timepoint": 354,
           "trajectory": "H_sol",
           "upper": 5125.296105957032
          },
          {
           "lower": 3641.417724609375,
           "timepoint": 355,
           "trajectory": "H_sol",
           "upper": 4983.072509765625
          },
          {
           "lower": 3538.93671875,
           "timepoint": 356,
           "trajectory": "H_sol",
           "upper": 4844.854296875
          },
          {
           "lower": 3439.6738037109376,
           "timepoint": 357,
           "trajectory": "H_sol",
           "upper": 4710.571801757813
          },
          {
           "lower": 3343.535205078125,
           "timepoint": 358,
           "trajectory": "H_sol",
           "upper": 4580.139599609375
          },
          {
           "lower": 3250.4467041015623,
           "timepoint": 359,
           "trajectory": "H_sol",
           "upper": 4453.483471679688
          },
          {
           "lower": 3160.3154296875,
           "timepoint": 360,
           "trajectory": "H_sol",
           "upper": 4330.5439453125
          },
          {
           "lower": 3073.0530639648437,
           "timepoint": 361,
           "trajectory": "H_sol",
           "upper": 4211.220617675781
          },
          {
           "lower": 2988.583605957031,
           "timepoint": 362,
           "trajectory": "H_sol",
           "upper": 4095.4317749023435
          },
          {
           "lower": 2906.8228271484377,
           "timepoint": 363,
           "trajectory": "H_sol",
           "upper": 3983.1063720703123
          },
          {
           "lower": 2827.6896850585936,
           "timepoint": 364,
           "trajectory": "H_sol",
           "upper": 3874.154797363281
          },
          {
           "lower": 2751.1087280273437,
           "timepoint": 365,
           "trajectory": "H_sol",
           "upper": 3768.4969848632813
          },
          {
           "lower": 2676.9967651367188,
           "timepoint": 366,
           "trajectory": "H_sol",
           "upper": 3666.0420532226562
          },
          {
           "lower": 2605.2816772460938,
           "timepoint": 367,
           "trajectory": "H_sol",
           "upper": 3566.7337036132812
          },
          {
           "lower": 2535.888427734375,
           "timepoint": 368,
           "trajectory": "H_sol",
           "upper": 3470.455810546875
          },
          {
           "lower": 2468.739697265625,
           "timepoint": 369,
           "trajectory": "H_sol",
           "upper": 3377.154345703125
          },
          {
           "lower": 2403.77041015625,
           "timepoint": 370,
           "trajectory": "H_sol",
           "upper": 3286.7310546875
          },
          {
           "lower": 2340.906945800781,
           "timepoint": 371,
           "trajectory": "H_sol",
           "upper": 3199.105505371094
          },
          {
           "lower": 2280.082958984375,
           "timepoint": 372,
           "trajectory": "H_sol",
           "upper": 3114.203662109375
          },
          {
           "lower": 2221.234521484375,
           "timepoint": 373,
           "trajectory": "H_sol",
           "upper": 3031.953466796875
          },
          {
           "lower": 2164.2950805664063,
           "timepoint": 374,
           "trajectory": "H_sol",
           "upper": 2952.2681518554687
          },
          {
           "lower": 2109.2027221679687,
           "timepoint": 375,
           "trajectory": "H_sol",
           "upper": 2875.0787719726563
          },
          {
           "lower": 2055.8968872070313,
           "timepoint": 376,
           "trajectory": "H_sol",
           "upper": 2800.3025756835937
          },
          {
           "lower": 2004.318426513672,
           "timepoint": 377,
           "trajectory": "H_sol",
           "upper": 2727.8857971191405
          },
          {
           "lower": 1954.4098571777345,
           "timepoint": 378,
           "trajectory": "H_sol",
           "upper": 2657.742608642578
          },
          {
           "lower": 1906.1166931152343,
           "timepoint": 379,
           "trajectory": "H_sol",
           "upper": 2589.797979736328
          },
          {
           "lower": 1859.3834045410156,
           "timepoint": 380,
           "trajectory": "H_sol",
           "upper": 2523.9944030761717
          },
          {
           "lower": 1814.1604614257812,
           "timepoint": 381,
           "trajectory": "H_sol",
           "upper": 2460.2675170898438
          },
          {
           "lower": 1770.3946838378906,
           "timepoint": 382,
           "trajectory": "H_sol",
           "upper": 2398.545135498047
          },
          {
           "lower": 1728.0384155273437,
           "timepoint": 383,
           "trajectory": "H_sol",
           "upper": 2338.7699340820313
          },
          {
           "lower": 1687.0426391601563,
           "timepoint": 384,
           "trajectory": "H_sol",
           "upper": 2280.8785034179687
          },
          {
           "lower": 1647.3649353027345,
           "timepoint": 385,
           "trajectory": "H_sol",
           "upper": 2224.807550048828
          },
          {
           "lower": 1608.9581420898437,
           "timepoint": 386,
           "trajectory": "H_sol",
           "upper": 2170.506945800781
          },
          {
           "lower": 1571.7793395996093,
           "timepoint": 387,
           "trajectory": "H_sol",
           "upper": 2117.908282470703
          },
          {
           "lower": 1535.7876220703124,
           "timepoint": 388,
           "trajectory": "H_sol",
           "upper": 2066.9682373046876
          },
          {
           "lower": 1500.9434936523437,
           "timepoint": 389,
           "trajectory": "H_sol",
           "upper": 2017.6263305664063
          },
          {
           "lower": 1467.2074768066407,
           "timepoint": 390,
           "trajectory": "H_sol",
           "upper": 1969.8334167480468
          },
          {
           "lower": 1434.5421020507813,
           "timepoint": 391,
           "trajectory": "H_sol",
           "upper": 1923.5411499023437
          },
          {
           "lower": 1402.91259765625,
           "timepoint": 392,
           "trajectory": "H_sol",
           "upper": 1878.697509765625
          },
          {
           "lower": 1372.2806091308594,
           "timepoint": 393,
           "trajectory": "H_sol",
           "upper": 1835.2571105957031
          },
          {
           "lower": 1342.615301513672,
           "timepoint": 394,
           "trajectory": "H_sol",
           "upper": 1793.1724182128905
          },
          {
           "lower": 1313.8840698242188,
           "timepoint": 395,
           "trajectory": "H_sol",
           "upper": 1752.4018188476562
          },
          {
           "lower": 1286.055419921875,
           "timepoint": 396,
           "trajectory": "H_sol",
           "upper": 1712.900634765625
          },
          {
           "lower": 1259.0969116210938,
           "timepoint": 397,
           "trajectory": "H_sol",
           "upper": 1674.6259887695312
          },
          {
           "lower": 1232.9816467285157,
           "timepoint": 398,
           "trajectory": "H_sol",
           "upper": 1637.5392272949218
          },
          {
           "lower": 1207.6781311035156,
           "timepoint": 399,
           "trajectory": "H_sol",
           "upper": 1601.6022644042969
          },
          {
           "lower": 1183.1670776367187,
           "timepoint": 400,
           "trajectory": "H_sol",
           "upper": 1566.7760375976563
          },
          {
           "lower": 1159.4134033203125,
           "timepoint": 401,
           "trajectory": "H_sol",
           "upper": 1533.0245849609375
          },
          {
           "lower": 1136.3960876464844,
           "timepoint": 402,
           "trajectory": "H_sol",
           "upper": 1500.3132629394531
          },
          {
           "lower": 1114.0875427246094,
           "timepoint": 403,
           "trajectory": "H_sol",
           "upper": 1468.605694580078
          },
          {
           "lower": 1092.47099609375,
           "timepoint": 404,
           "trajectory": "H_sol",
           "upper": 1437.871044921875
          },
          {
           "lower": 1071.5165771484376,
           "timepoint": 405,
           "trajectory": "H_sol",
           "upper": 1408.0779052734374
          },
          {
           "lower": 1051.2054931640625,
           "timepoint": 406,
           "trajectory": "H_sol",
           "upper": 1379.1944091796875
          },
          {
           "lower": 1031.5166564941405,
           "timepoint": 407,
           "trajectory": "H_sol",
           "upper": 1351.191229248047
          },
          {
           "lower": 1012.4274078369141,
           "timepoint": 408,
           "trajectory": "H_sol",
           "upper": 1324.0388397216798
          },
          {
           "lower": 993.919921875,
           "timepoint": 409,
           "trajectory": "H_sol",
           "upper": 1297.711669921875
          },
          {
           "lower": 975.9779083251954,
           "timepoint": 410,
           "trajectory": "H_sol",
           "upper": 1272.1814544677734
          },
          {
           "lower": 958.5802490234375,
           "timepoint": 411,
           "trajectory": "H_sol",
           "upper": 1247.4248779296875
          },
          {
           "lower": 941.7072509765625,
           "timepoint": 412,
           "trajectory": "H_sol",
           "upper": 1223.4094482421874
          },
          {
           "lower": 925.3443969726562,
           "timepoint": 413,
           "trajectory": "H_sol",
           "upper": 1200.1197143554687
          },
          {
           "lower": 909.4779052734375,
           "timepoint": 414,
           "trajectory": "H_sol",
           "upper": 1177.5267333984375
          },
          {
           "lower": 894.08896484375,
           "timepoint": 415,
           "trajectory": "H_sol",
           "upper": 1155.60927734375
          },
          {
           "lower": 879.1612854003906,
           "timepoint": 416,
           "trajectory": "H_sol",
           "upper": 1134.3522644042969
          },
          {
           "lower": 864.6829010009766,
           "timepoint": 417,
           "trajectory": "H_sol",
           "upper": 1113.7249969482423
          },
          {
           "lower": 850.6381072998047,
           "timepoint": 418,
           "trajectory": "H_sol",
           "upper": 1093.7147369384766
          },
          {
           "lower": 837.0145324707031,
           "timepoint": 419,
           "trajectory": "H_sol",
           "upper": 1074.2951599121093
          },
          {
           "lower": 823.7974334716797,
           "timepoint": 420,
           "trajectory": "H_sol",
           "upper": 1055.4553131103517
          },
          {
           "lower": 810.9761413574219,
           "timepoint": 421,
           "trajectory": "H_sol",
           "upper": 1037.1704650878905
          },
          {
           "lower": 798.5364807128906,
           "timepoint": 422,
           "trajectory": "H_sol",
           "upper": 1019.4272644042969
          },
          {
           "lower": 786.4678741455078,
           "timepoint": 423,
           "trajectory": "H_sol",
           "upper": 1002.2071136474609
          },
          {
           "lower": 774.7593597412109,
           "timepoint": 424,
           "trajectory": "H_sol",
           "upper": 985.4917999267578
          },
          {
           "lower": 763.3997406005859,
           "timepoint": 425,
           "trajectory": "H_sol",
           "upper": 969.2696319580078
          },
          {
           "lower": 752.3771209716797,
           "timepoint": 426,
           "trajectory": "H_sol",
           "upper": 953.5211334228516
          },
          {
           "lower": 741.6832641601562,
           "timepoint": 427,
           "trajectory": "H_sol",
           "upper": 938.2348266601563
          },
          {
           "lower": 731.3070617675781,
           "timepoint": 428,
           "trajectory": "H_sol",
           "upper": 923.3963073730469
          },
          {
           "lower": 721.2400939941406,
           "timepoint": 429,
           "trajectory": "H_sol",
           "upper": 908.9906188964844
          },
          {
           "lower": 711.4724945068359,
           "timepoint": 430,
           "trajectory": "H_sol",
           "upper": 895.0060821533203
          },
          {
           "lower": 701.9959106445312,
           "timepoint": 431,
           "trajectory": "H_sol",
           "upper": 881.4290161132812
          },
          {
           "lower": 692.801644897461,
           "timepoint": 432,
           "trajectory": "H_sol",
           "upper": 868.2468780517578
          },
          {
           "lower": 683.8814544677734,
           "timepoint": 433,
           "trajectory": "H_sol",
           "upper": 855.4480743408203
          },
          {
           "lower": 675.2285003662109,
           "timepoint": 434,
           "trajectory": "H_sol",
           "upper": 843.0224151611328
          },
          {
           "lower": 666.833871459961,
           "timepoint": 435,
           "trajectory": "H_sol",
           "upper": 830.9576934814453
          },
          {
           "lower": 658.6910339355469,
           "timepoint": 436,
           "trajectory": "H_sol",
           "upper": 819.2429260253906
          },
          {
           "lower": 650.7930603027344,
           "timepoint": 437,
           "trajectory": "H_sol",
           "upper": 807.8684387207031
          },
          {
           "lower": 643.1318420410156,
           "timepoint": 438,
           "trajectory": "H_sol",
           "upper": 796.8251892089844
          },
          {
           "lower": 635.7022644042969,
           "timepoint": 439,
           "trajectory": "H_sol",
           "upper": 786.1027893066406
          },
          {
           "lower": 628.4974853515625,
           "timepoint": 440,
           "trajectory": "H_sol",
           "upper": 775.6909912109375
          },
          {
           "lower": 621.5116302490235,
           "timepoint": 441,
           "trajectory": "H_sol",
           "upper": 765.5825469970703
          },
          {
           "lower": 614.7381896972656,
           "timepoint": 442,
           "trajectory": "H_sol",
           "upper": 755.7680358886719
          },
          {
           "lower": 608.17275390625,
           "timepoint": 443,
           "trajectory": "H_sol",
           "upper": 746.2394775390625
          },
          {
           "lower": 601.8087158203125,
           "timepoint": 444,
           "trajectory": "H_sol",
           "upper": 736.9888916015625
          },
          {
           "lower": 595.6413269042969,
           "timepoint": 445,
           "trajectory": "H_sol",
           "upper": 728.0084533691406
          },
          {
           "lower": 589.6660858154297,
           "timepoint": 446,
           "trajectory": "H_sol",
           "upper": 719.290640258789
          },
          {
           "lower": 583.8755645751953,
           "timepoint": 447,
           "trajectory": "H_sol",
           "upper": 710.8283538818359
          },
          {
           "lower": 578.2676635742188,
           "timepoint": 448,
           "trajectory": "H_sol",
           "upper": 702.6146606445312
          },
          {
           "lower": 572.8374084472656,
           "timepoint": 449,
           "trajectory": "H_sol",
           "upper": 694.6429382324219
          },
          {
           "lower": 567.580288696289,
           "timepoint": 450,
           "trajectory": "H_sol",
           "upper": 686.9065887451172
          },
          {
           "lower": 562.4908264160156,
           "timepoint": 451,
           "trajectory": "H_sol",
           "upper": 679.3993103027344
          },
          {
           "lower": 557.5662658691406,
           "timepoint": 452,
           "trajectory": "H_sol",
           "upper": 672.1148864746094
          },
          {
           "lower": 552.802603149414,
           "timepoint": 453,
           "trajectory": "H_sol",
           "upper": 665.0486541748047
          },
          {
           "lower": 548.1960388183594,
           "timepoint": 454,
           "trajectory": "H_sol",
           "upper": 658.1943420410156
          },
          {
           "lower": 543.7426177978516,
           "timepoint": 455,
           "trajectory": "H_sol",
           "upper": 651.5449188232421
          },
          {
           "lower": 539.4382110595703,
           "timepoint": 456,
           "trajectory": "H_sol",
           "upper": 645.0966400146484
          },
          {
           "lower": 535.2801391601563,
           "timepoint": 457,
           "trajectory": "H_sol",
           "upper": 638.8458374023437
          },
          {
           "lower": 531.2661346435547,
           "timepoint": 458,
           "trajectory": "H_sol",
           "upper": 632.7856842041016
          },
          {
           "lower": 527.3917938232422,
           "timepoint": 459,
           "trajectory": "H_sol",
           "upper": 626.9116119384765
          },
          {
           "lower": 523.6536071777343,
           "timepoint": 460,
           "trajectory": "H_sol",
           "upper": 621.2195617675782
          },
          {
           "lower": 520.0497375488281,
           "timepoint": 461,
           "trajectory": "H_sol",
           "upper": 615.7053894042969
          },
          {
           "lower": 516.5767120361328,
           "timepoint": 462,
           "trajectory": "H_sol",
           "upper": 610.364633178711
          },
          {
           "lower": 513.2330001831054,
           "timepoint": 463,
           "trajectory": "H_sol",
           "upper": 605.1940322875977
          },
          {
           "lower": 510.0144668579102,
           "timepoint": 464,
           "trajectory": "H_sol",
           "upper": 600.1864303588867
          },
          {
           "lower": 506.9195388793945,
           "timepoint": 465,
           "trajectory": "H_sol",
           "upper": 595.3410507202149
          },
          {
           "lower": 503.9459426879883,
           "timepoint": 466,
           "trajectory": "H_sol",
           "upper": 590.6553451538086
          },
          {
           "lower": 501.0916915893555,
           "timepoint": 467,
           "trajectory": "H_sol",
           "upper": 586.1234268188476
          },
          {
           "lower": 498.35130004882814,
           "timepoint": 468,
           "trajectory": "H_sol",
           "upper": 581.7415954589844
          },
          {
           "lower": 495.726496887207,
           "timepoint": 469,
           "trajectory": "H_sol",
           "upper": 577.5080917358398
          },
          {
           "lower": 493.21427764892576,
           "timepoint": 470,
           "trajectory": "H_sol",
           "upper": 573.4191146850586
          },
          {
           "lower": 490.8120544433594,
           "timepoint": 471,
           "trajectory": "H_sol",
           "upper": 569.4716369628907
          },
          {
           "lower": 488.5179809570312,
           "timepoint": 472,
           "trajectory": "H_sol",
           "upper": 565.6624389648438
          },
          {
           "lower": 486.33138275146484,
           "timepoint": 473,
           "trajectory": "H_sol",
           "upper": 561.9896926879883
          },
          {
           "lower": 484.24925689697267,
           "timepoint": 474,
           "trajectory": "H_sol",
           "upper": 558.4490768432618
          },
          {
           "lower": 482.27005157470705,
           "timepoint": 475,
           "trajectory": "H_sol",
           "upper": 555.0402206420898
          },
          {
           "lower": 480.39255676269534,
           "timepoint": 476,
           "trajectory": "H_sol",
           "upper": 551.7582611083984
          },
          {
           "lower": 478.61498565673827,
           "timepoint": 477,
           "trajectory": "H_sol",
           "upper": 548.6005599975585
          },
          {
           "lower": 476.93641357421876,
           "timepoint": 478,
           "trajectory": "H_sol",
           "upper": 545.5693237304688
          },
          {
           "lower": 475.35509338378904,
           "timepoint": 479,
           "trajectory": "H_sol",
           "upper": 542.6571746826172
          },
          {
           "lower": 473.86914825439453,
           "timepoint": 480,
           "trajectory": "H_sol",
           "upper": 539.8636093139648
          },
          {
           "lower": 472.47814483642577,
           "timepoint": 481,
           "trajectory": "H_sol",
           "upper": 537.1869857788085
          },
          {
           "lower": 471.18029632568357,
           "timepoint": 482,
           "trajectory": "H_sol",
           "upper": 534.6246658325196
          },
          {
           "lower": 469.9754135131836,
           "timepoint": 483,
           "trajectory": "H_sol",
           "upper": 532.1752517700195
          },
          {
           "lower": 468.8614334106445,
           "timepoint": 484,
           "trajectory": "H_sol",
           "upper": 529.8369003295899
          },
          {
           "lower": 467.83777008056643,
           "timepoint": 485,
           "trajectory": "H_sol",
           "upper": 527.6072677612304
          },
          {
           "lower": 466.9029022216797,
           "timepoint": 486,
           "trajectory": "H_sol",
           "upper": 525.485464477539
          },
          {
           "lower": 466.05662536621094,
           "timepoint": 487,
           "trajectory": "H_sol",
           "upper": 523.4698028564453
          },
          {
           "lower": 465.2975509643555,
           "timepoint": 488,
           "trajectory": "H_sol",
           "upper": 521.5569717407227
          },
          {
           "lower": 464.62513275146483,
           "timepoint": 489,
           "trajectory": "H_sol",
           "upper": 519.7475784301757
          },
          {
           "lower": 464.03887329101565,
           "timepoint": 490,
           "trajectory": "H_sol",
           "upper": 518.0398620605469
          },
          {
           "lower": 463.5381057739258,
           "timepoint": 491,
           "trajectory": "H_sol",
           "upper": 516.4315902709961
          },
          {
           "lower": 463.12007598876954,
           "timepoint": 492,
           "trajectory": "H_sol",
           "upper": 514.9215194702149
          },
          {
           "lower": 462.7869171142578,
           "timepoint": 493,
           "trajectory": "H_sol",
           "upper": 513.510629272461
          },
          {
           "lower": 462.53682708740234,
           "timepoint": 494,
           "trajectory": "H_sol",
           "upper": 512.1948928833008
          },
          {
           "lower": 462.36961669921874,
           "timepoint": 495,
           "trajectory": "H_sol",
           "upper": 510.97401123046876
          },
          {
           "lower": 462.2846160888672,
           "timepoint": 496,
           "trajectory": "H_sol",
           "upper": 509.84789123535154
          },
          {
           "lower": 462.2813446044922,
           "timepoint": 497,
           "trajectory": "H_sol",
           "upper": 508.8145416259766
          },
          {
           "lower": 462.35917205810546,
           "timepoint": 498,
           "trajectory": "H_sol",
           "upper": 507.8729751586914
          },
          {
           "lower": 462.5181365966797,
           "timepoint": 499,
           "trajectory": "H_sol",
           "upper": 507.02281799316404
          },
          {
           "lower": 462.75777130126954,
           "timepoint": 500,
           "trajectory": "H_sol",
           "upper": 506.2628890991211
          },
          {
           "lower": 463.07777252197263,
           "timepoint": 501,
           "trajectory": "H_sol",
           "upper": 505.59236297607424
          },
          {
           "lower": 463.4781997680664,
           "timepoint": 502,
           "trajectory": "H_sol",
           "upper": 505.0107223510742
          },
          {
           "lower": 463.95833282470704,
           "timepoint": 503,
           "trajectory": "H_sol",
           "upper": 504.5169174194336
          },
          {
           "lower": 464.51829833984374,
           "timepoint": 504,
           "trajectory": "H_sol",
           "upper": 504.11060791015626
          },
          {
           "lower": 465.1581466674805,
           "timepoint": 505,
           "trajectory": "H_sol",
           "upper": 503.79110260009764
          },
          {
           "lower": 465.87718811035154,
           "timepoint": 506,
           "trajectory": "H_sol",
           "upper": 503.5579315185547
          },
          {
           "lower": 466.67600402832034,
           "timepoint": 507,
           "trajectory": "H_sol",
           "upper": 503.4106048583984
          },
          {
           "lower": 467.5544097900391,
           "timepoint": 508,
           "trajectory": "H_sol",
           "upper": 503.3472625732422
          },
          {
           "lower": 468.512190246582,
           "timepoint": 509,
           "trajectory": "H_sol",
           "upper": 503.3693099975586
          },
          {
           "lower": 469.5496368408203,
           "timepoint": 510,
           "trajectory": "H_sol",
           "upper": 503.47569274902344
          },
          {
           "lower": 470.6668304443359,
           "timepoint": 511,
           "trajectory": "H_sol",
           "upper": 503.6662994384766
          },
          {
           "lower": 471.86410369873045,
           "timepoint": 512,
           "trajectory": "H_sol",
           "upper": 503.94030914306643
          },
          {
           "lower": 473.1411758422852,
           "timepoint": 513,
           "trajectory": "H_sol",
           "upper": 504.2978805541992
          },
          {
           "lower": 474.4984985351563,
           "timepoint": 514,
           "trajectory": "H_sol",
           "upper": 504.7388061523437
          },
          {
           "lower": 475.9362487792969,
           "timepoint": 515,
           "trajectory": "H_sol",
           "upper": 505.2631530761719
          },
          {
           "lower": 477.4553695678711,
           "timepoint": 516,
           "trajectory": "H_sol",
           "upper": 505.86796417236326
          },
          {
           "lower": 479.0551818847656,
           "timepoint": 517,
           "trajectory": "H_sol",
           "upper": 506.55681762695315
          },
          {
           "lower": 480.7364730834961,
           "timepoint": 518,
           "trajectory": "H_sol",
           "upper": 507.3281936645508
          },
          {
           "lower": 482.4995712280273,
           "timepoint": 519,
           "trajectory": "H_sol",
           "upper": 508.18228302001955
          },
          {
           "lower": 484.3452117919922,
           "timepoint": 520,
           "trajectory": "H_sol",
           "upper": 509.1187774658203
          },
          {
           "lower": 486.2731231689453,
           "timepoint": 521,
           "trajectory": "H_sol",
           "upper": 510.1380096435547
          },
          {
           "lower": 488.2843490600586,
           "timepoint": 522,
           "trajectory": "H_sol",
           "upper": 511.239485168457
          },
          {
           "lower": 490.37914886474607,
           "timepoint": 523,
           "trajectory": "H_sol",
           "upper": 512.4237380981446
          },
          {
           "lower": 492.5587890625,
           "timepoint": 524,
           "trajectory": "H_sol",
           "upper": 513.6912109375
          },
          {
           "lower": 494.82293395996095,
           "timepoint": 525,
           "trajectory": "H_sol",
           "upper": 515.0410186767579
          },
          {
           "lower": 497.17285919189453,
           "timepoint": 526,
           "trajectory": "H_sol",
           "upper": 516.4743270874023
          },
          {
           "lower": 499.6084259033203,
           "timepoint": 527,
           "trajectory": "H_sol",
           "upper": 517.991244506836
          },
          {
           "lower": 502.13087158203126,
           "timepoint": 528,
           "trajectory": "H_sol",
           "upper": 519.5916625976563
          },
          {
           "lower": 504.74066162109375,
           "timepoint": 529,
           "trajectory": "H_sol",
           "upper": 521.2761840820312
          },
          {
           "lower": 507.44010162353516,
           "timepoint": 530,
           "trajectory": "H_sol",
           "upper": 523.0452194213867
          },
          {
           "lower": 510.22774505615234,
           "timepoint": 531,
           "trajectory": "H_sol",
           "upper": 524.8987503051758
          },
          {
           "lower": 513.1050750732422,
           "timepoint": 532,
           "trajectory": "H_sol",
           "upper": 526.8374908447265
          },
          {
           "lower": 516.0744934082031,
           "timepoint": 533,
           "trajectory": "H_sol",
           "upper": 528.8620300292969
          },
          {
           "lower": 519.1353393554688,
           "timepoint": 534,
           "trajectory": "H_sol",
           "upper": 530.9724487304687
          },
          {
           "lower": 522.2880035400391,
           "timepoint": 535,
           "trajectory": "H_sol",
           "upper": 533.1695770263672
          },
          {
           "lower": 525.5346160888672,
           "timepoint": 536,
           "trajectory": "H_sol",
           "upper": 535.4543365478515
          },
          {
           "lower": 528.8761566162109,
           "timepoint": 537,
           "trajectory": "H_sol",
           "upper": 537.8255645751954
          },
          {
           "lower": 532.3133422851563,
           "timepoint": 538,
           "trajectory": "H_sol",
           "upper": 540.2859008789062
          },
          {
           "lower": 535.8476104736328,
           "timepoint": 539,
           "trajectory": "H_sol",
           "upper": 542.8351898193359
          },
          {
           "lower": 539.4802124023438,
           "timepoint": 540,
           "trajectory": "H_sol",
           "upper": 545.4741333007812
          },
          {
           "lower": 543.2104797363281,
           "timepoint": 541,
           "trajectory": "H_sol",
           "upper": 548.2032165527344
          },
          {
           "lower": 547.0420501708984,
           "timepoint": 542,
           "trajectory": "H_sol",
           "upper": 551.0234405517579
          },
          {
           "lower": 550.9745208740235,
           "timepoint": 543,
           "trajectory": "H_sol",
           "upper": 553.9359405517578
          },
          {
           "lower": 555.0100921630859,
           "timepoint": 544,
           "trajectory": "H_sol",
           "upper": 556.9407745361328
          },
          {
           "lower": 559.1499542236328,
           "timepoint": 545,
           "trajectory": "H_sol",
           "upper": 560.039682006836
          },
          {
           "lower": 563.2325775146485,
           "timepoint": 546,
           "trajectory": "H_sol",
           "upper": 563.3946807861328
          },
          {
           "lower": 566.5204925537109,
           "timepoint": 547,
           "trajectory": "H_sol",
           "upper": 567.7462921142578
          },
          {
           "lower": 569.905908203125,
           "timepoint": 548,
           "trajectory": "H_sol",
           "upper": 572.2057861328125
          },
          {
           "lower": 573.3880004882812,
           "timepoint": 549,
           "trajectory": "H_sol",
           "upper": 576.7761840820312
          },
          {
           "lower": 576.9682983398437,
           "timepoint": 550,
           "trajectory": "H_sol",
           "upper": 581.4568725585938
          },
          {
           "lower": 580.6481628417969,
           "timepoint": 551,
           "trajectory": "H_sol",
           "upper": 586.2506408691406
          },
          {
           "lower": 584.4283264160156,
           "timepoint": 552,
           "trajectory": "H_sol",
           "upper": 591.1582214355469
          },
          {
           "lower": 588.3092712402344,
           "timepoint": 553,
           "trajectory": "H_sol",
           "upper": 596.1810852050781
          },
          {
           "lower": 592.2951965332031,
           "timepoint": 554,
           "trajectory": "H_sol",
           "upper": 601.3232116699219
          },
          {
           "lower": 596.3843139648437,
           "timepoint": 555,
           "trajectory": "H_sol",
           "upper": 606.5835815429688
          },
          {
           "lower": 600.5777557373046,
           "timepoint": 556,
           "trajectory": "H_sol",
           "upper": 611.9650299072266
          },
          {
           "lower": 604.8777770996094,
           "timepoint": 557,
           "trajectory": "H_sol",
           "upper": 617.4686584472656
          },
          {
           "lower": 609.2855560302735,
           "timepoint": 558,
           "trajectory": "H_sol",
           "upper": 623.0970733642578
          },
          {
           "lower": 613.8035583496094,
           "timepoint": 559,
           "trajectory": "H_sol",
           "upper": 628.8520812988281
          },
          {
           "lower": 618.4311004638672,
           "timepoint": 560,
           "trajectory": "H_sol",
           "upper": 634.734976196289
          },
          {
           "lower": 623.1700653076172,
           "timepoint": 561,
           "trajectory": "H_sol",
           "upper": 640.7474761962891
          },
          {
           "lower": 628.024267578125,
           "timepoint": 562,
           "trajectory": "H_sol",
           "upper": 646.8939453125
          },
          {
           "lower": 632.9923461914062,
           "timepoint": 563,
           "trajectory": "H_sol",
           "upper": 653.1737915039063
          },
          {
           "lower": 638.0770385742187,
           "timepoint": 564,
           "trajectory": "H_sol",
           "upper": 659.5895874023438
          },
          {
           "lower": 643.2789916992188,
           "timepoint": 565,
           "trajectory": "H_sol",
           "upper": 666.1437377929688
          },
          {
           "lower": 648.6010162353516,
           "timepoint": 566,
           "trajectory": "H_sol",
           "upper": 672.8380096435546
          },
          {
           "lower": 654.04423828125,
           "timepoint": 567,
           "trajectory": "H_sol",
           "upper": 679.676220703125
          },
          {
           "lower": 659.6101776123047,
           "timepoint": 568,
           "trajectory": "H_sol",
           "upper": 686.6586822509765
          },
          {
           "lower": 4,
           "timepoint": 0,
           "trajectory": "I_sol",
           "upper": 4
          },
          {
           "lower": 3.643030107021332,
           "timepoint": 1,
           "trajectory": "I_sol",
           "upper": 3.6472089886665344
          },
          {
           "lower": 3.5010398268699645,
           "timepoint": 2,
           "trajectory": "I_sol",
           "upper": 3.5069035649299622
          },
          {
           "lower": 3.487596535682678,
           "timepoint": 3,
           "trajectory": "I_sol",
           "upper": 3.4930987119674684
          },
          {
           "lower": 3.5525145053863527,
           "timepoint": 4,
           "trajectory": "I_sol",
           "upper": 3.5560327053070067
          },
          {
           "lower": 3.6667348384857177,
           "timepoint": 5,
           "trajectory": "I_sol",
           "upper": 3.6669519901275636
          },
          {
           "lower": 3.8093680500984193,
           "timepoint": 6,
           "trajectory": "I_sol",
           "upper": 3.8135164618492126
          },
          {
           "lower": 3.9738667964935304,
           "timepoint": 7,
           "trajectory": "I_sol",
           "upper": 3.9832927227020263
          },
          {
           "lower": 4.155158352851868,
           "timepoint": 8,
           "trajectory": "I_sol",
           "upper": 4.170699286460876
          },
          {
           "lower": 4.3503858089447025,
           "timepoint": 9,
           "trajectory": "I_sol",
           "upper": 4.3728245258331295
          },
          {
           "lower": 4.558082175254822,
           "timepoint": 10,
           "trajectory": "I_sol",
           "upper": 4.588192868232727
          },
          {
           "lower": 4.777610611915589,
           "timepoint": 11,
           "trajectory": "I_sol",
           "upper": 4.816179919242859
          },
          {
           "lower": 5.0088263034820555,
           "timepoint": 12,
           "trajectory": "I_sol",
           "upper": 5.0566691875457765
          },
          {
           "lower": 5.251879334449768,
           "timepoint": 13,
           "trajectory": "I_sol",
           "upper": 5.30985152721405
          },
          {
           "lower": 5.507103896141052,
           "timepoint": 14,
           "trajectory": "I_sol",
           "upper": 5.576119923591614
          },
          {
           "lower": 5.774946999549866,
           "timepoint": 15,
           "trajectory": "I_sol",
           "upper": 5.8559509992599486
          },
          {
           "lower": 6.055948090553284,
           "timepoint": 16,
           "trajectory": "I_sol",
           "upper": 6.149972605705261
          },
          {
           "lower": 6.350695323944092,
           "timepoint": 17,
           "trajectory": "I_sol",
           "upper": 6.458836841583252
          },
          {
           "lower": 6.659835720062256,
           "timepoint": 18,
           "trajectory": "I_sol",
           "upper": 6.783258533477783
          },
          {
           "lower": 6.984039783477783,
           "timepoint": 19,
           "trajectory": "I_sol",
           "upper": 7.124003887176514
          },
          {
           "lower": 7.324045252799988,
           "timepoint": 20,
           "trajectory": "I_sol",
           "upper": 7.4818805932998655
          },
          {
           "lower": 7.680617094039917,
           "timepoint": 21,
           "trajectory": "I_sol",
           "upper": 7.857741594314575
          },
          {
           "lower": 8.054552555084229,
           "timepoint": 22,
           "trajectory": "I_sol",
           "upper": 8.252503871917725
          },
          {
           "lower": 8.446697282791138,
           "timepoint": 23,
           "trajectory": "I_sol",
           "upper": 8.667094182968139
          },
          {
           "lower": 8.857933950424194,
           "timepoint": 24,
           "trajectory": "I_sol",
           "upper": 9.102516222000123
          },
          {
           "lower": 9.289194822311401,
           "timepoint": 25,
           "trajectory": "I_sol",
           "upper": 9.559814691543579
          },
          {
           "lower": 9.741451120376587,
           "timepoint": 26,
           "trajectory": "I_sol",
           "upper": 10.040087842941285
          },
          {
           "lower": 10.21573872566223,
           "timepoint": 27,
           "trajectory": "I_sol",
           "upper": 10.544495153427125
          },
          {
           "lower": 10.7131103515625,
           "timepoint": 28,
           "trajectory": "I_sol",
           "upper": 11.074241256713867
          },
          {
           "lower": 11.234697246551514,
           "timepoint": 29,
           "trajectory": "I_sol",
           "upper": 11.630598163604736
          },
          {
           "lower": 11.781689977645874,
           "timepoint": 30,
           "trajectory": "I_sol",
           "upper": 12.21491780281067
          },
          {
           "lower": 12.355310821533203,
           "timepoint": 31,
           "trajectory": "I_sol",
           "upper": 12.828588104248047
          },
          {
           "lower": 12.956863498687744,
           "timepoint": 32,
           "trajectory": "I_sol",
           "upper": 13.473085308074952
          },
          {
           "lower": 13.587713575363159,
           "timepoint": 33,
           "trajectory": "I_sol",
           "upper": 14.149962091445923
          },
          {
           "lower": 14.24924988746643,
           "timepoint": 34,
           "trajectory": "I_sol",
           "upper": 14.860869932174683
          },
          {
           "lower": 14.943013000488282,
           "timepoint": 35,
           "trajectory": "I_sol",
           "upper": 15.607476425170898
          },
          {
           "lower": 15.670549297332764,
           "timepoint": 36,
           "trajectory": "I_sol",
           "upper": 16.391594028472902
          },
          {
           "lower": 16.433529472351076,
           "timepoint": 37,
           "trajectory": "I_sol",
           "upper": 17.215114021301268
          },
          {
           "lower": 17.2336537361145,
           "timepoint": 38,
           "trajectory": "I_sol",
           "upper": 18.08000783920288
          },
          {
           "lower": 18.072746753692627,
           "timepoint": 39,
           "trajectory": "I_sol",
           "upper": 18.988362789154053
          },
          {
           "lower": 18.95265483856201,
           "timepoint": 40,
           "trajectory": "I_sol",
           "upper": 19.942334175109863
          },
          {
           "lower": 19.875430202484132,
           "timepoint": 41,
           "trajectory": "I_sol",
           "upper": 20.94424715042114
          },
          {
           "lower": 20.843130683898927,
           "timepoint": 42,
           "trajectory": "I_sol",
           "upper": 21.996499443054198
          },
          {
           "lower": 21.857940196990967,
           "timepoint": 43,
           "trajectory": "I_sol",
           "upper": 23.10161828994751
          },
          {
           "lower": 22.922199249267578,
           "timepoint": 44,
           "trajectory": "I_sol",
           "upper": 24.262256622314453
          },
          {
           "lower": 24.03825807571411,
           "timepoint": 45,
           "trajectory": "I_sol",
           "upper": 25.481217861175537
          },
          {
           "lower": 25.20867223739624,
           "timepoint": 46,
           "trajectory": "I_sol",
           "upper": 26.761430072784425
          },
          {
           "lower": 26.4360408782959,
           "timepoint": 47,
           "trajectory": "I_sol",
           "upper": 28.105928421020508
          },
          {
           "lower": 27.72318983078003,
           "timepoint": 48,
           "trajectory": "I_sol",
           "upper": 29.518003940582275
          },
          {
           "lower": 29.073010635375976,
           "timepoint": 49,
           "trajectory": "I_sol",
           "upper": 31.00102882385254
          },
          {
           "lower": 30.48855562210083,
           "timepoint": 50,
           "trajectory": "I_sol",
           "upper": 32.55854635238647
          },
          {
           "lower": 31.97302989959717,
           "timepoint": 51,
           "trajectory": "I_sol",
           "upper": 34.19432468414307
          },
          {
           "lower": 33.52978401184082,
           "timepoint": 52,
           "trajectory": "I_sol",
           "upper": 35.9122859954834
          },
          {
           "lower": 35.16234378814697,
           "timepoint": 53,
           "trajectory": "I_sol",
           "upper": 37.716558647155765
          },
          {
           "lower": 36.87436504364014,
           "timepoint": 54,
           "trajectory": "I_sol",
           "upper": 39.61150913238525
          },
          {
           "lower": 38.669760131835936,
           "timepoint": 55,
           "trajectory": "I_sol",
           "upper": 41.60164031982422
          },
          {
           "lower": 40.55255546569824,
           "timepoint": 56,
           "trajectory": "I_sol",
           "upper": 43.69176826477051
          },
          {
           "lower": 42.527091598510744,
           "timepoint": 57,
           "trajectory": "I_sol",
           "upper": 45.886909866333006
          },
          {
           "lower": 44.5977258682251,
           "timepoint": 58,
           "trajectory": "I_sol",
           "upper": 48.19233226776123
          },
          {
           "lower": 46.769169616699216,
           "timepoint": 59,
           "trajectory": "I_sol",
           "upper": 50.61357421875
          },
          {
           "lower": 49.04631938934326,
           "timepoint": 60,
           "trajectory": "I_sol",
           "upper": 53.1564661026001
          },
          {
           "lower": 51.43446559906006,
           "timepoint": 61,
           "trajectory": "I_sol",
           "upper": 55.82718067169189
          },
          {
           "lower": 53.93883018493652,
           "timepoint": 62,
           "trajectory": "I_sol",
           "upper": 58.63203163146973
          },
          {
           "lower": 56.565148544311526,
           "timepoint": 63,
           "trajectory": "I_sol",
           "upper": 61.57781867980957
          },
          {
           "lower": 59.31926155090332,
           "timepoint": 64,
           "trajectory": "I_sol",
           "upper": 64.67156028747559
          },
          {
           "lower": 62.20753173828125,
           "timepoint": 65,
           "trajectory": "I_sol",
           "upper": 67.92077941894532
          },
          {
           "lower": 65.2364128112793,
           "timepoint": 66,
           "trajectory": "I_sol",
           "upper": 71.3332893371582
          },
          {
           "lower": 68.41272315979003,
           "timepoint": 67,
           "trajectory": "I_sol",
           "upper": 74.91710319519044
          },
          {
           "lower": 71.74384536743165,
           "timepoint": 68,
           "trajectory": "I_sol",
           "upper": 78.68106613159179
          },
          {
           "lower": 75.23708152770996,
           "timepoint": 69,
           "trajectory": "I_sol",
           "upper": 82.63414192199707
          },
          {
           "lower": 78.9004035949707,
           "timepoint": 70,
           "trajectory": "I_sol",
           "upper": 86.78579940795899
          },
          {
           "lower": 82.74207801818848,
           "timepoint": 71,
           "trajectory": "I_sol",
           "upper": 91.14602165222168
          },
          {
           "lower": 86.7708179473877,
           "timepoint": 72,
           "trajectory": "I_sol",
           "upper": 95.72531394958496
          },
          {
           "lower": 90.99567985534668,
           "timepoint": 73,
           "trajectory": "I_sol",
           "upper": 100.5346622467041
          },
          {
           "lower": 95.42623023986816,
           "timepoint": 74,
           "trajectory": "I_sol",
           "upper": 105.58567924499512
          },
          {
           "lower": 100.07262916564942,
           "timepoint": 75,
           "trajectory": "I_sol",
           "upper": 110.89040641784668
          },
          {
           "lower": 104.94516944885254,
           "timepoint": 76,
           "trajectory": "I_sol",
           "upper": 116.46162223815918
          },
          {
           "lower": 110.05496025085449,
           "timepoint": 77,
           "trajectory": "I_sol",
           "upper": 122.31264686584473
          },
          {
           "lower": 115.41355972290039,
           "timepoint": 78,
           "trajectory": "I_sol",
           "upper": 128.45791549682616
          },
          {
           "lower": 121.03303947448731,
           "timepoint": 79,
           "trajectory": "I_sol",
           "upper": 134.91173133850097
          },
          {
           "lower": 126.92610092163086,
           "timepoint": 80,
           "trajectory": "I_sol",
           "upper": 141.68978958129884
          },
          {
           "lower": 133.10605163574218,
           "timepoint": 81,
           "trajectory": "I_sol",
           "upper": 148.80831604003907
          },
          {
           "lower": 139.58700103759764,
           "timepoint": 82,
           "trajectory": "I_sol",
           "upper": 156.28448944091798
          },
          {
           "lower": 146.3833969116211,
           "timepoint": 83,
           "trajectory": "I_sol",
           "upper": 164.13628692626952
          },
          {
           "lower": 153.51072158813477,
           "timepoint": 84,
           "trajectory": "I_sol",
           "upper": 172.38239059448242
          },
          {
           "lower": 160.9850631713867,
           "timepoint": 85,
           "trajectory": "I_sol",
           "upper": 181.04282989501954
          },
          {
           "lower": 168.82330169677735,
           "timepoint": 86,
           "trajectory": "I_sol",
           "upper": 190.13839874267578
          },
          {
           "lower": 177.0431007385254,
           "timepoint": 87,
           "trajectory": "I_sol",
           "upper": 199.69104537963867
          },
          {
           "lower": 185.66297149658203,
           "timepoint": 88,
           "trajectory": "I_sol",
           "upper": 209.72289276123047
          },
          {
           "lower": 194.70274047851564,
           "timepoint": 89,
           "trajectory": "I_sol",
           "upper": 220.25908203125
          },
          {
           "lower": 204.18246688842774,
           "timepoint": 90,
           "trajectory": "I_sol",
           "upper": 231.32450637817382
          },
          {
           "lower": 214.12364044189454,
           "timepoint": 91,
           "trajectory": "I_sol",
           "upper": 242.94569549560546
          },
          {
           "lower": 224.54891357421874,
           "timepoint": 92,
           "trajectory": "I_sol",
           "upper": 255.15067138671876
          },
          {
           "lower": 235.48161392211915,
           "timepoint": 93,
           "trajectory": "I_sol",
           "upper": 267.96874923706054
          },
          {
           "lower": 246.94658203125,
           "timepoint": 94,
           "trajectory": "I_sol",
           "upper": 281.43079833984376
          },
          {
           "lower": 258.96975860595705,
           "timepoint": 95,
           "trajectory": "I_sol",
           "upper": 295.5685409545898
          },
          {
           "lower": 271.5778381347656,
           "timepoint": 96,
           "trajectory": "I_sol",
           "upper": 310.41648559570314
          },
          {
           "lower": 284.7998611450195,
           "timepoint": 97,
           "trajectory": "I_sol",
           "upper": 326.01004486083986
          },
          {
           "lower": 298.6654296875,
           "timepoint": 98,
           "trajectory": "I_sol",
           "upper": 342.3876098632812
          },
          {
           "lower": 313.2062393188477,
           "timepoint": 99,
           "trajectory": "I_sol",
           "upper": 359.58724822998045
          },
          {
           "lower": 328.4546142578125,
           "timepoint": 100,
           "trajectory": "I_sol",
           "upper": 377.650732421875
          },
          {
           "lower": 344.4452239990234,
           "timepoint": 101,
           "trajectory": "I_sol",
           "upper": 396.6209991455078
          },
          {
           "lower": 361.21403350830076,
           "timepoint": 102,
           "trajectory": "I_sol",
           "upper": 416.54417572021487
          },
          {
           "lower": 378.7991058349609,
           "timepoint": 103,
           "trajectory": "I_sol",
           "upper": 437.4678009033203
          },
          {
           "lower": 397.2400863647461,
           "timepoint": 104,
           "trajectory": "I_sol",
           "upper": 459.44201202392577
          },
          {
           "lower": 416.5786880493164,
           "timepoint": 105,
           "trajectory": "I_sol",
           "upper": 482.51997528076174
          },
          {
           "lower": 436.85804138183596,
           "timepoint": 106,
           "trajectory": "I_sol",
           "upper": 506.7565216064453
          },
          {
           "lower": 458.12460174560545,
           "timepoint": 107,
           "trajectory": "I_sol",
           "upper": 532.2097793579102
          },
          {
           "lower": 480.42614593505857,
           "timepoint": 108,
           "trajectory": "I_sol",
           "upper": 558.9415603637696
          },
          {
           "lower": 503.8131607055664,
           "timepoint": 109,
           "trajectory": "I_sol",
           "upper": 587.0151779174805
          },
          {
           "lower": 528.3374572753906,
           "timepoint": 110,
           "trajectory": "I_sol",
           "upper": 616.4982360839844
          },
          {
           "lower": 554.0556091308594,
           "timepoint": 111,
           "trajectory": "I_sol",
           "upper": 647.4614807128906
          },
          {
           "lower": 581.0253601074219,
           "timepoint": 112,
           "trajectory": "I_sol",
           "upper": 679.9786682128906
          },
          {
           "lower": 609.3066040039063,
           "timepoint": 113,
           "trajectory": "I_sol",
           "upper": 714.1286987304687
          },
          {
           "lower": 638.9642456054687,
           "timepoint": 114,
           "trajectory": "I_sol",
           "upper": 749.9933959960938
          },
          {
           "lower": 670.0645935058594,
           "timepoint": 115,
           "trajectory": "I_sol",
           "upper": 787.6559875488281
          },
          {
           "lower": 702.6777923583984,
           "timepoint": 116,
           "trajectory": "I_sol",
           "upper": 827.2099639892579
          },
          {
           "lower": 736.8781555175781,
           "timepoint": 117,
           "trajectory": "I_sol",
           "upper": 868.7489196777344
          },
          {
           "lower": 772.7417449951172,
           "timepoint": 118,
           "trajectory": "I_sol",
           "upper": 912.3733062744141
          },
          {
           "lower": 810.3499084472656,
           "timepoint": 119,
           "trajectory": "I_sol",
           "upper": 958.1862243652344
          },
          {
           "lower": 849.7868621826171,
           "timepoint": 120,
           "trajectory": "I_sol",
           "upper": 1006.2980377197266
          },
          {
           "lower": 891.141943359375,
           "timepoint": 121,
           "trajectory": "I_sol",
           "upper": 1056.82412109375
          },
          {
           "lower": 934.5076446533203,
           "timepoint": 122,
           "trajectory": "I_sol",
           "upper": 1109.8826751708984
          },
          {
           "lower": 979.9818267822266,
           "timepoint": 123,
           "trajectory": "I_sol",
           "upper": 1165.6038055419922
          },
          {
           "lower": 1027.6696228027345,
           "timepoint": 124,
           "trajectory": "I_sol",
           "upper": 1224.119561767578
          },
          {
           "lower": 1077.6752136230468,
           "timepoint": 125,
           "trajectory": "I_sol",
           "upper": 1285.5724670410157
          },
          {
           "lower": 1130.1127136230468,
           "timepoint": 126,
           "trajectory": "I_sol",
           "upper": 1350.1059143066407
          },
          {
           "lower": 1185.095166015625,
           "timepoint": 127,
           "trajectory": "I_sol",
           "upper": 1417.8748046875
          },
          {
           "lower": 1242.7531433105469,
           "timepoint": 128,
           "trajectory": "I_sol",
           "upper": 1489.0419006347656
          },
          {
           "lower": 1303.2135131835937,
           "timepoint": 129,
           "trajectory": "I_sol",
           "upper": 1563.7764770507813
          },
          {
           "lower": 1366.6104797363282,
           "timepoint": 130,
           "trajectory": "I_sol",
           "upper": 1642.2575622558593
          },
          {
           "lower": 1433.0888671875,
           "timepoint": 131,
           "trajectory": "I_sol",
           "upper": 1724.672607421875
          },
          {
           "lower": 1502.7972351074218,
           "timepoint": 132,
           "trajectory": "I_sol",
           "upper": 1811.2163146972657
          },
          {
           "lower": 1575.8912109375,
           "timepoint": 133,
           "trajectory": "I_sol",
           "upper": 1902.096826171875
          },
          {
           "lower": 1652.5395141601562,
           "timepoint": 134,
           "trajectory": "I_sol",
           "upper": 1997.5293334960938
          },
          {
           "lower": 1732.9089233398438,
           "timepoint": 135,
           "trajectory": "I_sol",
           "upper": 2097.7470825195314
          },
          {
           "lower": 1817.1810607910156,
           "timepoint": 136,
           "trajectory": "I_sol",
           "upper": 2202.981903076172
          },
          {
           "lower": 1905.5440612792968,
           "timepoint": 137,
           "trajectory": "I_sol",
           "upper": 2313.4882873535157
          },
          {
           "lower": 1998.1974060058594,
           "timepoint": 138,
           "trajectory": "I_sol",
           "upper": 2429.5209777832033
          },
          {
           "lower": 2095.3484619140627,
           "timepoint": 139,
           "trajectory": "I_sol",
           "upper": 2551.3658935546873
          },
          {
           "lower": 2197.2156372070312,
           "timepoint": 140,
           "trajectory": "I_sol",
           "upper": 2679.3099975585938
          },
          {
           "lower": 2304.02646484375,
           "timepoint": 141,
           "trajectory": "I_sol",
           "upper": 2813.65322265625
          },
          {
           "lower": 2416.0209228515623,
           "timepoint": 142,
           "trajectory": "I_sol",
           "upper": 2954.7188232421877
          },
          {
           "lower": 2533.4415283203125,
           "timepoint": 143,
           "trajectory": "I_sol",
           "upper": 3102.8387451171875
          },
          {
           "lower": 2656.560888671875,
           "timepoint": 144,
           "trajectory": "I_sol",
           "upper": 3258.367333984375
          },
          {
           "lower": 2785.64892578125,
           "timepoint": 145,
           "trajectory": "I_sol",
           "upper": 3421.66943359375
          },
          {
           "lower": 2920.9973266601564,
           "timepoint": 146,
           "trajectory": "I_sol",
           "upper": 3593.1323120117186
          },
          {
           "lower": 3062.904431152344,
           "timepoint": 147,
           "trajectory": "I_sol",
           "upper": 3773.164172363281
          },
          {
           "lower": 3211.6884887695314,
           "timepoint": 148,
           "trajectory": "I_sol",
           "upper": 3962.1867553710936
          },
          {
           "lower": 3367.6772583007814,
           "timepoint": 149,
           "trajectory": "I_sol",
           "upper": 4160.648669433594
          },
          {
           "lower": 3531.2221557617186,
           "timepoint": 150,
           "trajectory": "I_sol",
           "upper": 4369.017346191406
          },
          {
           "lower": 3702.684814453125,
           "timepoint": 151,
           "trajectory": "I_sol",
           "upper": 4587.782958984375
          },
          {
           "lower": 3882.447717285156,
           "timepoint": 152,
           "trajectory": "I_sol",
           "upper": 4817.458288574218
          },
          {
           "lower": 4070.907824707031,
           "timepoint": 153,
           "trajectory": "I_sol",
           "upper": 5058.593884277344
          },
          {
           "lower": 4268.482397460937,
           "timepoint": 154,
           "trajectory": "I_sol",
           "upper": 5311.743676757813
          },
          {
           "lower": 4475.617456054688,
           "timepoint": 155,
           "trajectory": "I_sol",
           "upper": 5577.507055664062
          },
          {
           "lower": 4692.761889648437,
           "timepoint": 156,
           "trajectory": "I_sol",
           "upper": 5856.507153320313
          },
          {
           "lower": 4920.40087890625,
           "timepoint": 157,
           "trajectory": "I_sol",
           "upper": 6149.39306640625
          },
          {
           "lower": 5159.0287109375,
           "timepoint": 158,
           "trajectory": "I_sol",
           "upper": 6456.8462890625
          },
          {
           "lower": 5409.182958984375,
           "timepoint": 159,
           "trajectory": "I_sol",
           "upper": 6779.606103515625
          },
          {
           "lower": 5671.411694335938,
           "timepoint": 160,
           "trajectory": "I_sol",
           "upper": 7118.400317382812
          },
          {
           "lower": 5946.284350585937,
           "timepoint": 161,
           "trajectory": "I_sol",
           "upper": 7474.028637695313
          },
          {
           "lower": 6234.4144287109375,
           "timepoint": 162,
           "trajectory": "I_sol",
           "upper": 7847.3018798828125
          },
          {
           "lower": 6536.428369140625,
           "timepoint": 163,
           "trajectory": "I_sol",
           "upper": 8239.109716796875
          },
          {
           "lower": 6852.9947509765625,
           "timepoint": 164,
           "trajectory": "I_sol",
           "upper": 8650.360229492188
          },
          {
           "lower": 7184.798681640625,
           "timepoint": 165,
           "trajectory": "I_sol",
           "upper": 9081.932763671875
          },
          {
           "lower": 7532.5640869140625,
           "timepoint": 166,
           "trajectory": "I_sol",
           "upper": 9534.908081054688
          },
          {
           "lower": 7897.057104492187,
           "timepoint": 167,
           "trajectory": "I_sol",
           "upper": 10010.298852539063
          },
          {
           "lower": 8279.070556640625,
           "timepoint": 168,
           "trajectory": "I_sol",
           "upper": 10509.194091796875
          },
          {
           "lower": 8679.415087890626,
           "timepoint": 169,
           "trajectory": "I_sol",
           "upper": 11032.740185546874
          },
          {
           "lower": 9098.978857421875,
           "timepoint": 170,
           "trajectory": "I_sol",
           "upper": 11582.106103515625
          },
          {
           "lower": 9538.6712890625,
           "timepoint": 171,
           "trajectory": "I_sol",
           "upper": 12158.5748046875
          },
          {
           "lower": 9999.41728515625,
           "timepoint": 172,
           "trajectory": "I_sol",
           "upper": 12763.44208984375
          },
          {
           "lower": 10482.227880859375,
           "timepoint": 173,
           "trajectory": "I_sol",
           "upper": 13398.075830078125
          },
          {
           "lower": 10988.144384765625,
           "timepoint": 174,
           "trajectory": "I_sol",
           "upper": 14063.909326171875
          },
          {
           "lower": 11518.2376953125,
           "timepoint": 175,
           "trajectory": "I_sol",
           "upper": 14762.4458984375
          },
          {
           "lower": 12073.637939453125,
           "timepoint": 176,
           "trajectory": "I_sol",
           "upper": 15495.241943359375
          },
          {
           "lower": 12655.55380859375,
           "timepoint": 177,
           "trajectory": "I_sol",
           "upper": 16263.94033203125
          },
          {
           "lower": 13265.191845703124,
           "timepoint": 178,
           "trajectory": "I_sol",
           "upper": 17070.248583984376
          },
          {
           "lower": 13903.8541015625,
           "timepoint": 179,
           "trajectory": "I_sol",
           "upper": 17915.9662109375
          },
          {
           "lower": 14572.88212890625,
           "timepoint": 180,
           "trajectory": "I_sol",
           "upper": 18802.90498046875
          },
          {
           "lower": 15273.678515625,
           "timepoint": 181,
           "trajectory": "I_sol",
           "upper": 19733.087109375
          },
          {
           "lower": 16007.7447265625,
           "timepoint": 182,
           "trajectory": "I_sol",
           "upper": 20708.4974609375
          },
          {
           "lower": 16776.57373046875,
           "timepoint": 183,
           "trajectory": "I_sol",
           "upper": 21731.27587890625
          },
          {
           "lower": 17581.77353515625,
           "timepoint": 184,
           "trajectory": "I_sol",
           "upper": 22803.63857421875
          },
          {
           "lower": 18425.02861328125,
           "timepoint": 185,
           "trajectory": "I_sol",
           "upper": 23927.88349609375
          },
          {
           "lower": 19308.055078125,
           "timepoint": 186,
           "trajectory": "I_sol",
           "upper": 25106.417578125
          },
          {
           "lower": 20232.65771484375,
           "timepoint": 187,
           "trajectory": "I_sol",
           "upper": 26341.75048828125
          },
          {
           "lower": 21200.7349609375,
           "timepoint": 188,
           "trajectory": "I_sol",
           "upper": 27636.4837890625
          },
          {
           "lower": 22214.28330078125,
           "timepoint": 189,
           "trajectory": "I_sol",
           "upper": 28993.35927734375
          },
          {
           "lower": 23275.296875,
           "timepoint": 190,
           "trajectory": "I_sol",
           "upper": 30415.1796875
          },
          {
           "lower": 24385.9123046875,
           "timepoint": 191,
           "trajectory": "I_sol",
           "upper": 31904.8884765625
          },
          {
           "lower": 25548.3970703125,
           "timepoint": 192,
           "trajectory": "I_sol",
           "upper": 33465.5599609375
          },
          {
           "lower": 26764.9962890625,
           "timepoint": 193,
           "trajectory": "I_sol",
           "upper": 35100.3357421875
          },
          {
           "lower": 28038.12529296875,
           "timepoint": 194,
           "trajectory": "I_sol",
           "upper": 36812.53291015625
          },
          {
           "lower": 29370.2607421875,
           "timepoint": 195,
           "trajectory": "I_sol",
           "upper": 38605.5791015625
          },
          {
           "lower": 30764.0251953125,
           "timepoint": 196,
           "trajectory": "I_sol",
           "upper": 40483.0021484375
          },
          {
           "lower": 32222.0759765625,
           "timepoint": 197,
           "trajectory": "I_sol",
           "upper": 42448.4982421875
          },
          {
           "lower": 33747.1685546875,
           "timepoint": 198,
           "trajectory": "I_sol",
           "upper": 44505.8353515625
          },
          {
           "lower": 35342.2193359375,
           "timepoint": 199,
           "trajectory": "I_sol",
           "upper": 46658.9564453125
          },
          {
           "lower": 37010.23125,
           "timepoint": 200,
           "trajectory": "I_sol",
           "upper": 48911.971875
          },
          {
           "lower": 38754.266015625,
           "timepoint": 201,
           "trajectory": "I_sol",
           "upper": 51269.054296875
          },
          {
           "lower": 40577.498828125,
           "timepoint": 202,
           "trajectory": "I_sol",
           "upper": 53734.493359375
          },
          {
           "lower": 42483.4203125,
           "timepoint": 203,
           "trajectory": "I_sol",
           "upper": 56312.8765625
          },
          {
           "lower": 44475.31015625,
           "timepoint": 204,
           "trajectory": "I_sol",
           "upper": 59008.58046875
          },
          {
           "lower": 46556.59296875,
           "timepoint": 205,
           "trajectory": "I_sol",
           "upper": 61826.55546875
          },
          {
           "lower": 48731.0603515625,
           "timepoint": 206,
           "trajectory": "I_sol",
           "upper": 64771.482617187496
          },
          {
           "lower": 51002.530859375,
           "timepoint": 207,
           "trajectory": "I_sol",
           "upper": 67848.414453125
          },
          {
           "lower": 53374.756640625,
           "timepoint": 208,
           "trajectory": "I_sol",
           "upper": 71062.548046875
          },
          {
           "lower": 55851.7458984375,
           "timepoint": 209,
           "trajectory": "I_sol",
           "upper": 74418.8830078125
          },
          {
           "lower": 58437.6078125,
           "timepoint": 210,
           "trajectory": "I_sol",
           "upper": 77923.0015625
          },
          {
           "lower": 61136.496484375,
           "timepoint": 211,
           "trajectory": "I_sol",
           "upper": 81580.073828125
          },
          {
           "lower": 63952.7486328125,
           "timepoint": 212,
           "trajectory": "I_sol",
           "upper": 85395.7162109375
          },
          {
           "lower": 66890.773828125,
           "timepoint": 213,
           "trajectory": "I_sol",
           "upper": 89375.452734375
          },
          {
           "lower": 69955.1,
           "timepoint": 214,
           "trajectory": "I_sol",
           "upper": 93525.0875
          },
          {
           "lower": 73150.102734375,
           "timepoint": 215,
           "trajectory": "I_sol",
           "upper": 97850.061328125
          },
          {
           "lower": 76480.70625,
           "timepoint": 216,
           "trajectory": "I_sol",
           "upper": 102356.325
          },
          {
           "lower": 79951.53671875,
           "timepoint": 217,
           "trajectory": "I_sol",
           "upper": 107049.65078125
          },
          {
           "lower": 83567.361328125,
           "timepoint": 218,
           "trajectory": "I_sol",
           "upper": 111935.537109375
          },
          {
           "lower": 87333.401953125,
           "timepoint": 219,
           "trajectory": "I_sol",
           "upper": 117020.387109375
          },
          {
           "lower": 91254.187109375,
           "timepoint": 220,
           "trajectory": "I_sol",
           "upper": 122309.242578125
          },
          {
           "lower": 95334.816015625,
           "timepoint": 221,
           "trajectory": "I_sol",
           "upper": 127808.00429687499
          },
          {
           "lower": 99580.30703125,
           "timepoint": 222,
           "trajectory": "I_sol",
           "upper": 133522.02109375
          },
          {
           "lower": 103995.66328125,
           "timepoint": 223,
           "trajectory": "I_sol",
           "upper": 139456.91484375
          },
          {
           "lower": 108585.788671875,
           "timepoint": 224,
           "trajectory": "I_sol",
           "upper": 145617.687890625
          },
          {
           "lower": 113355.808203125,
           "timepoint": 225,
           "trajectory": "I_sol",
           "upper": 152009.465234375
          },
          {
           "lower": 118310.371875,
           "timepoint": 226,
           "trajectory": "I_sol",
           "upper": 158637.065625
          },
          {
           "lower": 123454.602734375,
           "timepoint": 227,
           "trajectory": "I_sol",
           "upper": 165504.873828125
          },
          {
           "lower": 128792.97578125,
           "timepoint": 228,
           "trajectory": "I_sol",
           "upper": 172616.91484375
          },
          {
           "lower": 134330.3171875,
           "timepoint": 229,
           "trajectory": "I_sol",
           "upper": 179977.2765625
          },
          {
           "lower": 140071.03671875,
           "timepoint": 230,
           "trajectory": "I_sol",
           "upper": 187588.88515625
          },
          {
           "lower": 146019.2984375,
           "timepoint": 231,
           "trajectory": "I_sol",
           "upper": 195454.6390625
          },
          {
           "lower": 152179.309375,
           "timepoint": 232,
           "trajectory": "I_sol",
           "upper": 203576.846875
          },
          {
           "lower": 158554.71875,
           "timepoint": 233,
           "trajectory": "I_sol",
           "upper": 211957.0625
          },
          {
           "lower": 165149.1296875,
           "timepoint": 234,
           "trajectory": "I_sol",
           "upper": 220596.2453125
          },
          {
           "lower": 171965.715625,
           "timepoint": 235,
           "trajectory": "I_sol",
           "upper": 229494.503125
          },
          {
           "lower": 179007.1640625,
           "timepoint": 236,
           "trajectory": "I_sol",
           "upper": 238651.1484375
          },
          {
           "lower": 186276,
           "timepoint": 237,
           "trajectory": "I_sol",
           "upper": 248064.9375
          },
          {
           "lower": 193773.7703125,
           "timepoint": 238,
           "trajectory": "I_sol",
           "upper": 257732.6359375
          },
          {
           "lower": 201502.26171875,
           "timepoint": 239,
           "trajectory": "I_sol",
           "upper": 267652.19140625
          },
          {
           "lower": 209462.0390625,
           "timepoint": 240,
           "trajectory": "I_sol",
           "upper": 277817.7421875
          },
          {
           "lower": 217653.1296875,
           "timepoint": 241,
           "trajectory": "I_sol",
           "upper": 288223.9015625
          },
          {
           "lower": 226075.22890625,
           "timepoint": 242,
           "trajectory": "I_sol",
           "upper": 298863.19296875
          },
          {
           "lower": 234726.815625,
           "timepoint": 243,
           "trajectory": "I_sol",
           "upper": 309727.809375
          },
          {
           "lower": 243606.034375,
           "timepoint": 244,
           "trajectory": "I_sol",
           "upper": 320808.090625
          },
          {
           "lower": 252709.71875,
           "timepoint": 245,
           "trajectory": "I_sol",
           "upper": 332092.53125
          },
          {
           "lower": 262034.27421875,
           "timepoint": 246,
           "trajectory": "I_sol",
           "upper": 343568.80390625
          },
          {
           "lower": 271574.765625,
           "timepoint": 247,
           "trajectory": "I_sol",
           "upper": 355222.734375
          },
          {
           "lower": 281325.371875,
           "timepoint": 248,
           "trajectory": "I_sol",
           "upper": 367039.065625
          },
          {
           "lower": 291278.9859375,
           "timepoint": 249,
           "trajectory": "I_sol",
           "upper": 379000.0453125
          },
          {
           "lower": 301427.3,
           "timepoint": 250,
           "trajectory": "I_sol",
           "upper": 391086.7625
          },
          {
           "lower": 311762.359375,
           "timepoint": 251,
           "trajectory": "I_sol",
           "upper": 403279.703125
          },
          {
           "lower": 322272.296875,
           "timepoint": 252,
           "trajectory": "I_sol",
           "upper": 415556.453125
          },
          {
           "lower": 332946.109375,
           "timepoint": 253,
           "trajectory": "I_sol",
           "upper": 427893.578125
          },
          {
           "lower": 343770.5015625,
           "timepoint": 254,
           "trajectory": "I_sol",
           "upper": 440264.5921875
          },
          {
           "lower": 354731.2484375,
           "timepoint": 255,
           "trajectory": "I_sol",
           "upper": 452645.0328125
          },
          {
           "lower": 365813.153125,
           "timepoint": 256,
           "trajectory": "I_sol",
           "upper": 465006.034375
          },
          {
           "lower": 376998.4390625,
           "timepoint": 257,
           "trajectory": "I_sol",
           "upper": 477318.0921875
          },
          {
           "lower": 388269.390625,
           "timepoint": 258,
           "trajectory": "I_sol",
           "upper": 489551.171875
          },
          {
           "lower": 399606.4109375,
           "timepoint": 259,
           "trajectory": "I_sol",
           "upper": 501673.2453125
          },
          {
           "lower": 410988.2609375,
           "timepoint": 260,
           "trajectory": "I_sol",
           "upper": 513652.5828125
          },
          {
           "lower": 422393.2140625,
           "timepoint": 261,
           "trajectory": "I_sol",
           "upper": 525455.5046875
          },
          {
           "lower": 433797.4375,
           "timepoint": 262,
           "trajectory": "I_sol",
           "upper": 537047.6875
          },
          {
           "lower": 445176.8453125,
           "timepoint": 263,
           "trajectory": "I_sol",
           "upper": 548394.4984375
          },
          {
           "lower": 456505.678125,
           "timepoint": 264,
           "trajectory": "I_sol",
           "upper": 559463.259375
          },
          {
           "lower": 467756.934375,
           "timepoint": 265,
           "trajectory": "I_sol",
           "upper": 570217.378125
          },
          {
           "lower": 478903.478125,
           "timepoint": 266,
           "trajectory": "I_sol",
           "upper": 580622.209375
          },
          {
           "lower": 489918.2640625,
           "timepoint": 267,
           "trajectory": "I_sol",
           "upper": 590645.9546875
          },
          {
           "lower": 500768.753125,
           "timepoint": 268,
           "trajectory": "I_sol",
           "upper": 600253.684375
          },
          {
           "lower": 511429.34375,
           "timepoint": 269,
           "trajectory": "I_sol",
           "upper": 609412.90625
          },
          {
           "lower": 521868.3328125,
           "timepoint": 270,
           "trajectory": "I_sol",
           "upper": 618092.7609375
          },
          {
           "lower": 532057.05,
           "timepoint": 271,
           "trajectory": "I_sol",
           "upper": 626263.2
          },
          {
           "lower": 541964.65,
           "timepoint": 272,
           "trajectory": "I_sol",
           "upper": 633895.6
          },
          {
           "lower": 551561.83125,
           "timepoint": 273,
           "trajectory": "I_sol",
           "upper": 640964.79375
          },
          {
           "lower": 560817.996875,
           "timepoint": 274,
           "trajectory": "I_sol",
           "upper": 647445.190625
          },
          {
           "lower": 569705.725,
           "timepoint": 275,
           "trajectory": "I_sol",
           "upper": 653315.275
          },
          {
           "lower": 578196.01875,
           "timepoint": 276,
           "trajectory": "I_sol",
           "upper": 658553.98125
          },
          {
           "lower": 586262.0625,
           "timepoint": 277,
           "trajectory": "I_sol",
           "upper": 663145.6875
          },
          {
           "lower": 593877.515625,
           "timepoint": 278,
           "trajectory": "I_sol",
           "upper": 667074.796875
          },
          {
           "lower": 601017.603125,
           "timepoint": 279,
           "trajectory": "I_sol",
           "upper": 670330.709375
          },
          {
           "lower": 607659.396875,
           "timepoint": 280,
           "trajectory": "I_sol",
           "upper": 672904.165625
          },
          {
           "lower": 613780.45,
           "timepoint": 281,
           "trajectory": "I_sol",
           "upper": 674788.3
          },
          {
           "lower": 619361.90625,
           "timepoint": 282,
           "trajectory": "I_sol",
           "upper": 675981.46875
          },
          {
           "lower": 624385.6375,
           "timepoint": 283,
           "trajectory": "I_sol",
           "upper": 676483.4875
          },
          {
           "lower": 628835.690625,
           "timepoint": 284,
           "trajectory": "I_sol",
           "upper": 676297.246875
          },
          {
           "lower": 632698.821875,
           "timepoint": 285,
           "trajectory": "I_sol",
           "upper": 675428.740625
          },
          {
           "lower": 635963.490625,
           "timepoint": 286,
           "trajectory": "I_sol",
           "upper": 673887.071875
          },
          {
           "lower": 638621.159375,
           "timepoint": 287,
           "trajectory": "I_sol",
           "upper": 671683.278125
          },
          {
           "lower": 640665.671875,
           "timepoint": 288,
           "trajectory": "I_sol",
           "upper": 668832.015625
          },
          {
           "lower": 642093.846875,
           "timepoint": 289,
           "trajectory": "I_sol",
           "upper": 665349.340625
          },
          {
           "lower": 642901.940625,
           "timepoint": 290,
           "trajectory": "I_sol",
           "upper": 661254.121875
          },
          {
           "lower": 643092.571875,
           "timepoint": 291,
           "trajectory": "I_sol",
           "upper": 656567.990625
          },
          {
           "lower": 642671.8125,
           "timepoint": 292,
           "trajectory": "I_sol",
           "upper": 651312.9375
          },
          {
           "lower": 641642.128125,
           "timepoint": 293,
           "trajectory": "I_sol",
           "upper": 645514.434375
          },
          {
           "lower": 639197.815625,
           "timepoint": 294,
           "trajectory": "I_sol",
           "upper": 640013.496875
          },
          {
           "lower": 632391.171875,
           "timepoint": 295,
           "trajectory": "I_sol",
           "upper": 637796.515625
          },
          {
           "lower": 625122.234375,
           "timepoint": 296,
           "trajectory": "I_sol",
           "upper": 635003.953125
          },
          {
           "lower": 617420.85625,
           "timepoint": 297,
           "trajectory": "I_sol",
           "upper": 631650.64375
          },
          {
           "lower": 609317.109375,
           "timepoint": 298,
           "trajectory": "I_sol",
           "upper": 627753.328125
          },
          {
           "lower": 600841.753125,
           "timepoint": 299,
           "trajectory": "I_sol",
           "upper": 623329.434375
          },
          {
           "lower": 592024.053125,
           "timepoint": 300,
           "trajectory": "I_sol",
           "upper": 618402.884375
          },
          {
           "lower": 582897.925,
           "timepoint": 301,
           "trajectory": "I_sol",
           "upper": 612991.45
          },
          {
           "lower": 573488.175,
           "timepoint": 302,
           "trajectory": "I_sol",
           "upper": 607118.7
          },
          {
           "lower": 563830.784375,
           "timepoint": 303,
           "trajectory": "I_sol",
           "upper": 600810.153125
          },
          {
           "lower": 553953.3875,
           "timepoint": 304,
           "trajectory": "I_sol",
           "upper": 594086.8625
          },
          {
           "lower": 543885.48125,
           "timepoint": 305,
           "trajectory": "I_sol",
           "upper": 586978.26875
          },
          {
           "lower": 533654.771875,
           "timepoint": 306,
           "trajectory": "I_sol",
           "upper": 579509.040625
          },
          {
           "lower": 523291.83125,
           "timepoint": 307,
           "trajectory": "I_sol",
           "upper": 571705.41875
          },
          {
           "lower": 512820.2875,
           "timepoint": 308,
           "trajectory": "I_sol",
           "upper": 563594.4625
          },
          {
           "lower": 502267.396875,
           "timepoint": 309,
           "trajectory": "I_sol",
           "upper": 555202.415625
          },
          {
           "lower": 491657.1328125,
           "timepoint": 310,
           "trajectory": "I_sol",
           "upper": 546556.7109375
          },
          {
           "lower": 481013.7984375,
           "timepoint": 311,
           "trajectory": "I_sol",
           "upper": 537682.6078125
          },
          {
           "lower": 470358.740625,
           "timepoint": 312,
           "trajectory": "I_sol",
           "upper": 528606.571875
          },
          {
           "lower": 459713.884375,
           "timepoint": 313,
           "trajectory": "I_sol",
           "upper": 519355.928125
          },
          {
           "lower": 449098.7625,
           "timepoint": 314,
           "trajectory": "I_sol",
           "upper": 509953.6125
          },
          {
           "lower": 438531.9140625,
           "timepoint": 315,
           "trajectory": "I_sol",
           "upper": 500424.4921875
          },
          {
           "lower": 428031.2,
           "timepoint": 316,
           "trajectory": "I_sol",
           "upper": 490792.3625
          },
          {
           "lower": 417610.390625,
           "timepoint": 317,
           "trajectory": "I_sol",
           "upper": 481079.234375
          },
          {
           "lower": 407287.209375,
           "timepoint": 318,
           "trajectory": "I_sol",
           "upper": 471308.540625
          },
          {
           "lower": 397073.6078125,
           "timepoint": 319,
           "trajectory": "I_sol",
           "upper": 461499.7984375
          },
          {
           "lower": 386981.8734375,
           "timepoint": 320,
           "trajectory": "I_sol",
           "upper": 451672.7203125
          },
          {
           "lower": 377023.234375,
           "timepoint": 321,
           "trajectory": "I_sol",
           "upper": 441846.578125
          },
          {
           "lower": 367208.8625,
           "timepoint": 322,
           "trajectory": "I_sol",
           "upper": 432039.575
          },
          {
           "lower": 357546.1390625,
           "timepoint": 323,
           "trajectory": "I_sol",
           "upper": 422267.6421875
          },
          {
           "lower": 348043.63125,
           "timepoint": 324,
           "trajectory": "I_sol",
           "upper": 412546.74375
          },
          {
           "lower": 338708.4296875,
           "timepoint": 325,
           "trajectory": "I_sol",
           "upper": 402891.2265625
          },
          {
           "lower": 329546.01875,
           "timepoint": 326,
           "trajectory": "I_sol",
           "upper": 393314.73125
          },
          {
           "lower": 320562.1359375,
           "timepoint": 327,
           "trajectory": "I_sol",
           "upper": 383829.5203125
          },
          {
           "lower": 311761.0484375,
           "timepoint": 328,
           "trajectory": "I_sol",
           "upper": 374446.9203125
          },
          {
           "lower": 303144.3015625,
           "timepoint": 329,
           "trajectory": "I_sol",
           "upper": 365177.7296875
          },
          {
           "lower": 294716.8625,
           "timepoint": 330,
           "trajectory": "I_sol",
           "upper": 356030.825
          },
          {
           "lower": 286479.6375,
           "timepoint": 331,
           "trajectory": "I_sol",
           "upper": 347014.9875
          },
          {
           "lower": 278434.734375,
           "timepoint": 332,
           "trajectory": "I_sol",
           "upper": 338137.640625
          },
          {
           "lower": 270582.2390625,
           "timepoint": 333,
           "trajectory": "I_sol",
           "upper": 329405.4796875
          },
          {
           "lower": 262922.5078125,
           "timepoint": 334,
           "trajectory": "I_sol",
           "upper": 320824.1484375
          },
          {
           "lower": 255455.3703125,
           "timepoint": 335,
           "trajectory": "I_sol",
           "upper": 312398.8484375
          },
          {
           "lower": 248180.0234375,
           "timepoint": 336,
           "trajectory": "I_sol",
           "upper": 304134.0078125
          },
          {
           "lower": 241095.30703125,
           "timepoint": 337,
           "trajectory": "I_sol",
           "upper": 296033.17734375
          },
          {
           "lower": 234199.7359375,
           "timepoint": 338,
           "trajectory": "I_sol",
           "upper": 288098.7953125
          },
          {
           "lower": 227491.5734375,
           "timepoint": 339,
           "trajectory": "I_sol",
           "upper": 280333.5828125
          },
          {
           "lower": 220968.13828125,
           "timepoint": 340,
           "trajectory": "I_sol",
           "upper": 272739.47109375
          },
          {
           "lower": 214627.42109375,
           "timepoint": 341,
           "trajectory": "I_sol",
           "upper": 265317.65703125
          },
          {
           "lower": 208466.3140625,
           "timepoint": 342,
           "trajectory": "I_sol",
           "upper": 258067.3109375
          },
          {
           "lower": 202483.15,
           "timepoint": 343,
           "trajectory": "I_sol",
           "upper": 250990.50625
          },
          {
           "lower": 196673.71953125,
           "timepoint": 344,
           "trajectory": "I_sol",
           "upper": 244086.29609375
          },
          {
           "lower": 191034.5375,
           "timepoint": 345,
           "trajectory": "I_sol",
           "upper": 237353.99375
          },
          {
           "lower": 185563.0765625,
           "timepoint": 346,
           "trajectory": "I_sol",
           "upper": 230792.8296875
          },
          {
           "lower": 180255.65625,
           "timepoint": 347,
           "trajectory": "I_sol",
           "upper": 224401.21875
          },
          {
           "lower": 175108.328125,
           "timepoint": 348,
           "trajectory": "I_sol",
           "upper": 218177.828125
          },
          {
           "lower": 170118.00078125,
           "timepoint": 349,
           "trajectory": "I_sol",
           "upper": 212120.73359375
          },
          {
           "lower": 165280.72578125,
           "timepoint": 350,
           "trajectory": "I_sol",
           "upper": 206227.75859375
          },
          {
           "lower": 160592.85390625,
           "timepoint": 351,
           "trajectory": "I_sol",
           "upper": 200496.78671875
          },
          {
           "lower": 156050.70859375,
           "timepoint": 352,
           "trajectory": "I_sol",
           "upper": 194925.18203125
          },
          {
           "lower": 151650.48671875,
           "timepoint": 353,
           "trajectory": "I_sol",
           "upper": 189510.43515625
          },
          {
           "lower": 147388.57734375,
           "timepoint": 354,
           "trajectory": "I_sol",
           "upper": 184249.75078125
          },
          {
           "lower": 143261.04609375,
           "timepoint": 355,
           "trajectory": "I_sol",
           "upper": 179140.09453125
          },
          {
           "lower": 139264.53046875,
           "timepoint": 356,
           "trajectory": "I_sol",
           "upper": 174178.61015625
          },
          {
           "lower": 135394.88828125,
           "timepoint": 357,
           "trajectory": "I_sol",
           "upper": 169362.53359375
          },
          {
           "lower": 131649.116015625,
           "timepoint": 358,
           "trajectory": "I_sol",
           "upper": 164688.376171875
          },
          {
           "lower": 128022.9296875,
           "timepoint": 359,
           "trajectory": "I_sol",
           "upper": 160153.3515625
          },
          {
           "lower": 124513.323828125,
           "timepoint": 360,
           "trajectory": "I_sol",
           "upper": 155752.949609375
          },
          {
           "lower": 121116.683984375,
           "timepoint": 361,
           "trajectory": "I_sol",
           "upper": 151485.573828125
          },
          {
           "lower": 117829.69921875,
           "timepoint": 362,
           "trajectory": "I_sol",
           "upper": 147347.09765625
          },
          {
           "lower": 114648.746484375,
           "timepoint": 363,
           "trajectory": "I_sol",
           "upper": 143334.636328125
          },
          {
           "lower": 111570.822265625,
           "timepoint": 364,
           "trajectory": "I_sol",
           "upper": 139444.701171875
          },
          {
           "lower": 108592.61328125,
           "timepoint": 365,
           "trajectory": "I_sol",
           "upper": 135674.24609375
          },
          {
           "lower": 105710.95546875,
           "timepoint": 366,
           "trajectory": "I_sol",
           "upper": 132020.24765625
          },
          {
           "lower": 102922.890234375,
           "timepoint": 367,
           "trajectory": "I_sol",
           "upper": 128478.664453125
          },
          {
           "lower": 100225.2734375,
           "timepoint": 368,
           "trajectory": "I_sol",
           "upper": 125047.4140625
          },
          {
           "lower": 97615.41640625,
           "timepoint": 369,
           "trajectory": "I_sol",
           "upper": 121722.52109375
          },
          {
           "lower": 95090.26015625,
           "timepoint": 370,
           "trajectory": "I_sol",
           "upper": 118501.41171875
          },
          {
           "lower": 92647.158203125,
           "timepoint": 371,
           "trajectory": "I_sol",
           "upper": 115381.333984375
          },
          {
           "lower": 90283.38203125,
           "timepoint": 372,
           "trajectory": "I_sol",
           "upper": 112358.82109375
          },
          {
           "lower": 87996.345703125,
           "timepoint": 373,
           "trajectory": "I_sol",
           "upper": 109431.146484375
          },
          {
           "lower": 85783.50546875,
           "timepoint": 374,
           "trajectory": "I_sol",
           "upper": 106595.54140625
          },
          {
           "lower": 83642.381640625,
           "timepoint": 375,
           "trajectory": "I_sol",
           "upper": 103848.907421875
          },
          {
           "lower": 81570.601171875,
           "timepoint": 376,
           "trajectory": "I_sol",
           "upper": 101188.766015625
          },
          {
           "lower": 79565.87578125,
           "timepoint": 377,
           "trajectory": "I_sol",
           "upper": 98612.70234375
          },
          {
           "lower": 77625.971875,
           "timepoint": 378,
           "trajectory": "I_sol",
           "upper": 96117.79375
          },
          {
           "lower": 75748.58125,
           "timepoint": 379,
           "trajectory": "I_sol",
           "upper": 93701.3875
          },
          {
           "lower": 73931.756640625,
           "timepoint": 380,
           "trajectory": "I_sol",
           "upper": 91361.360546875
          },
          {
           "lower": 72173.376171875,
           "timepoint": 381,
           "trajectory": "I_sol",
           "upper": 89094.944140625
          },
          {
           "lower": 70471.555859375,
           "timepoint": 382,
           "trajectory": "I_sol",
           "upper": 86900.092578125
          },
          {
           "lower": 68824.21875,
           "timepoint": 383,
           "trajectory": "I_sol",
           "upper": 84774.328125
          },
          {
           "lower": 67229.68359375,
           "timepoint": 384,
           "trajectory": "I_sol",
           "upper": 82715.51953125
          },
          {
           "lower": 65686.0986328125,
           "timepoint": 385,
           "trajectory": "I_sol",
           "upper": 80721.6005859375
          },
          {
           "lower": 64191.774609375,
           "timepoint": 386,
           "trajectory": "I_sol",
           "upper": 78790.358203125
          },
          {
           "lower": 62744.9677734375,
           "timepoint": 387,
           "trajectory": "I_sol",
           "upper": 76919.7392578125
          },
          {
           "lower": 61344.1119140625,
           "timepoint": 388,
           "trajectory": "I_sol",
           "upper": 75107.7591796875
          },
          {
           "lower": 59987.7310546875,
           "timepoint": 389,
           "trajectory": "I_sol",
           "upper": 73352.7416015625
          },
          {
           "lower": 58674.2138671875,
           "timepoint": 390,
           "trajectory": "I_sol",
           "upper": 71652.6181640625
          },
          {
           "lower": 57402.165234375,
           "timepoint": 391,
           "trajectory": "I_sol",
           "upper": 70005.561328125
          },
          {
           "lower": 56170.1251953125,
           "timepoint": 392,
           "trajectory": "I_sol",
           "upper": 68409.9177734375
          },
          {
           "lower": 54976.87578125,
           "timepoint": 393,
           "trajectory": "I_sol",
           "upper": 66864.06171875
          },
          {
           "lower": 53821.00546875,
           "timepoint": 394,
           "trajectory": "I_sol",
           "upper": 65366.27578125
          },
          {
           "lower": 52701.261328125,
           "timepoint": 395,
           "trajectory": "I_sol",
           "upper": 63914.973046875
          },
          {
           "lower": 51616.4564453125,
           "timepoint": 396,
           "trajectory": "I_sol",
           "upper": 62508.6958984375
          },
          {
           "lower": 50565.431640625,
           "timepoint": 397,
           "trajectory": "I_sol",
           "upper": 61145.880859375
          },
          {
           "lower": 49547.056640625,
           "timepoint": 398,
           "trajectory": "I_sol",
           "upper": 59825.162109375
          },
          {
           "lower": 48560.3265625,
           "timepoint": 399,
           "trajectory": "I_sol",
           "upper": 58545.165625
          },
          {
           "lower": 47603.8505859375,
           "timepoint": 400,
           "trajectory": "I_sol",
           "upper": 57304.4970703125
          },
          {
           "lower": 46676.9919921875,
           "timepoint": 401,
           "trajectory": "I_sol",
           "upper": 56101.9572265625
          },
          {
           "lower": 45778.6900390625,
           "timepoint": 402,
           "trajectory": "I_sol",
           "upper": 54936.2357421875
          },
          {
           "lower": 44907.97421875,
           "timepoint": 403,
           "trajectory": "I_sol",
           "upper": 53806.11953125
          },
          {
           "lower": 44063.834375,
           "timepoint": 404,
           "trajectory": "I_sol",
           "upper": 52710.4859375
          },
          {
           "lower": 43245.476171875,
           "timepoint": 405,
           "trajectory": "I_sol",
           "upper": 51648.164453125
          },
          {
           "lower": 42452.2001953125,
           "timepoint": 406,
           "trajectory": "I_sol",
           "upper": 50618.1005859375
          },
          {
           "lower": 41682.960546875,
           "timepoint": 407,
           "trajectory": "I_sol",
           "upper": 49619.266015625
          },
          {
           "lower": 40937.1458984375,
           "timepoint": 408,
           "trajectory": "I_sol",
           "upper": 48650.5923828125
          },
          {
           "lower": 40213.8388671875,
           "timepoint": 409,
           "trajectory": "I_sol",
           "upper": 47711.1728515625
          },
          {
           "lower": 39512.5353515625,
           "timepoint": 410,
           "trajectory": "I_sol",
           "upper": 46800.0076171875
          },
          {
           "lower": 38832.296875,
           "timepoint": 411,
           "trajectory": "I_sol",
           "upper": 45916.2109375
          },
          {
           "lower": 38172.63203125,
           "timepoint": 412,
           "trajectory": "I_sol",
           "upper": 45058.88359375
          },
          {
           "lower": 37532.7810546875,
           "timepoint": 413,
           "trajectory": "I_sol",
           "upper": 44227.2306640625
          },
          {
           "lower": 36912.1359375,
           "timepoint": 414,
           "trajectory": "I_sol",
           "upper": 43420.3171875
          },
          {
           "lower": 36310.11015625,
           "timepoint": 415,
           "trajectory": "I_sol",
           "upper": 42637.47578125
          },
          {
           "lower": 35726.0986328125,
           "timepoint": 416,
           "trajectory": "I_sol",
           "upper": 41877.8974609375
          },
          {
           "lower": 35159.60625,
           "timepoint": 417,
           "trajectory": "I_sol",
           "upper": 41140.89375
          },
          {
           "lower": 34609.9279296875,
           "timepoint": 418,
           "trajectory": "I_sol",
           "upper": 40425.5837890625
          },
          {
           "lower": 34076.6673828125,
           "timepoint": 419,
           "trajectory": "I_sol",
           "upper": 39731.4693359375
          },
          {
           "lower": 33559.3791015625,
           "timepoint": 420,
           "trajectory": "I_sol",
           "upper": 39057.8201171875
          },
          {
           "lower": 33057.4619140625,
           "timepoint": 421,
           "trajectory": "I_sol",
           "upper": 38403.9716796875
          },
          {
           "lower": 32570.47548828125,
           "timepoint": 422,
           "trajectory": "I_sol",
           "upper": 37769.39755859375
          },
          {
           "lower": 32097.9865234375,
           "timepoint": 423,
           "trajectory": "I_sol",
           "upper": 37153.4236328125
          },
          {
           "lower": 31639.53896484375,
           "timepoint": 424,
           "trajectory": "I_sol",
           "upper": 36555.47080078125
          },
          {
           "lower": 31194.70859375,
           "timepoint": 425,
           "trajectory": "I_sol",
           "upper": 35975.00234375
          },
          {
           "lower": 30763.1564453125,
           "timepoint": 426,
           "trajectory": "I_sol",
           "upper": 35411.5193359375
          },
          {
           "lower": 30344.4072265625,
           "timepoint": 427,
           "trajectory": "I_sol",
           "upper": 34864.4638671875
          },
          {
           "lower": 29938.1365234375,
           "timepoint": 428,
           "trajectory": "I_sol",
           "upper": 34333.3673828125
          },
          {
           "lower": 29543.93544921875,
           "timepoint": 429,
           "trajectory": "I_sol",
           "upper": 33817.73837890625
          },
          {
           "lower": 29161.5248046875,
           "timepoint": 430,
           "trajectory": "I_sol",
           "upper": 33317.0884765625
          },
          {
           "lower": 28790.50185546875,
           "timepoint": 431,
           "trajectory": "I_sol",
           "upper": 32831.00791015625
          },
          {
           "lower": 28430.570703125,
           "timepoint": 432,
           "trajectory": "I_sol",
           "upper": 32359.042578125
          },
          {
           "lower": 28081.40439453125,
           "timepoint": 433,
           "trajectory": "I_sol",
           "upper": 31900.78115234375
          },
          {
           "lower": 27742.72392578125,
           "timepoint": 434,
           "trajectory": "I_sol",
           "upper": 31455.84443359375
          },
          {
           "lower": 27414.2125,
           "timepoint": 435,
           "trajectory": "I_sol",
           "upper": 31023.803125
          },
          {
           "lower": 27095.6015625,
           "timepoint": 436,
           "trajectory": "I_sol",
           "upper": 30604.3359375
          },
          {
           "lower": 26786.614453125,
           "timepoint": 437,
           "trajectory": "I_sol",
           "upper": 30197.037890625
          },
          {
           "lower": 26487.0001953125,
           "timepoint": 438,
           "trajectory": "I_sol",
           "upper": 29801.5701171875
          },
          {
           "lower": 26196.4998046875,
           "timepoint": 439,
           "trajectory": "I_sol",
           "upper": 29417.6173828125
          },
          {
           "lower": 25914.85703125,
           "timepoint": 440,
           "trajectory": "I_sol",
           "upper": 29044.8109375
          },
          {
           "lower": 25641.86435546875,
           "timepoint": 441,
           "trajectory": "I_sol",
           "upper": 28682.89931640625
          },
          {
           "lower": 25377.32841796875,
           "timepoint": 442,
           "trajectory": "I_sol",
           "upper": 28331.51337890625
          },
          {
           "lower": 25120.8755859375,
           "timepoint": 443,
           "trajectory": "I_sol",
           "upper": 27990.4095703125
          },
          {
           "lower": 24872.4697265625,
           "timepoint": 444,
           "trajectory": "I_sol",
           "upper": 27659.2880859375
          },
          {
           "lower": 24631.8185546875,
           "timepoint": 445,
           "trajectory": "I_sol",
           "upper": 27337.8689453125
          },
          {
           "lower": 24398.76591796875,
           "timepoint": 446,
           "trajectory": "I_sol",
           "upper": 27025.92744140625
          },
          {
           "lower": 24173.11337890625,
           "timepoint": 447,
           "trajectory": "I_sol",
           "upper": 26723.17373046875
          },
          {
           "lower": 23954.68759765625,
           "timepoint": 448,
           "trajectory": "I_sol",
           "upper": 26429.37294921875
          },
          {
           "lower": 23743.26875,
           "timepoint": 449,
           "trajectory": "I_sol",
           "upper": 26144.2859375
          },
          {
           "lower": 23538.735546875,
           "timepoint": 450,
           "trajectory": "I_sol",
           "upper": 25867.682421875
          },
          {
           "lower": 23340.90986328125,
           "timepoint": 451,
           "trajectory": "I_sol",
           "upper": 25599.37724609375
          },
          {
           "lower": 23149.63173828125,
           "timepoint": 452,
           "trajectory": "I_sol",
           "upper": 25339.10849609375
          },
          {
           "lower": 22964.738671875,
           "timepoint": 453,
           "trajectory": "I_sol",
           "upper": 25086.706640625
          },
          {
           "lower": 22786.14560546875,
           "timepoint": 454,
           "trajectory": "I_sol",
           "upper": 24841.96181640625
          },
          {
           "lower": 22613.64375,
           "timepoint": 455,
           "trajectory": "I_sol",
           "upper": 24604.66875
          },
          {
           "lower": 22447.11669921875,
           "timepoint": 456,
           "trajectory": "I_sol",
           "upper": 24374.65478515625
          },
          {
           "lower": 22286.44912109375,
           "timepoint": 457,
           "trajectory": "I_sol",
           "upper": 24151.76767578125
          },
          {
           "lower": 22131.49404296875,
           "timepoint": 458,
           "trajectory": "I_sol",
           "upper": 23935.78134765625
          },
          {
           "lower": 21982.16171875,
           "timepoint": 459,
           "trajectory": "I_sol",
           "upper": 23726.6078125
          },
          {
           "lower": 21838.29228515625,
           "timepoint": 460,
           "trajectory": "I_sol",
           "upper": 23524.02216796875
          },
          {
           "lower": 21699.80810546875,
           "timepoint": 461,
           "trajectory": "I_sol",
           "upper": 23327.88525390625
          },
          {
           "lower": 21566.57744140625,
           "timepoint": 462,
           "trajectory": "I_sol",
           "upper": 23138.04951171875
          },
          {
           "lower": 21438.5490234375,
           "timepoint": 463,
           "trajectory": "I_sol",
           "upper": 22954.3494140625
          },
          {
           "lower": 21315.57509765625,
           "timepoint": 464,
           "trajectory": "I_sol",
           "upper": 22776.75498046875
          },
          {
           "lower": 21197.5638671875,
           "timepoint": 465,
           "trajectory": "I_sol",
           "upper": 22604.9986328125
          },
          {
           "lower": 21084.4294921875,
           "timepoint": 466,
           "trajectory": "I_sol",
           "upper": 22439.0314453125
          },
          {
           "lower": 20976.06611328125,
           "timepoint": 467,
           "trajectory": "I_sol",
           "upper": 22278.70537109375
          },
          {
           "lower": 20872.46396484375,
           "timepoint": 468,
           "trajectory": "I_sol",
           "upper": 22123.87001953125
          },
          {
           "lower": 20773.454296875,
           "timepoint": 469,
           "trajectory": "I_sol",
           "upper": 21974.448046875
          },
          {
           "lower": 20679.00556640625,
           "timepoint": 470,
           "trajectory": "I_sol",
           "upper": 21830.33232421875
          },
          {
           "lower": 20589.0189453125,
           "timepoint": 471,
           "trajectory": "I_sol",
           "upper": 21691.4029296875
          },
          {
           "lower": 20503.43486328125,
           "timepoint": 472,
           "trajectory": "I_sol",
           "upper": 21557.58271484375
          },
          {
           "lower": 20422.18291015625,
           "timepoint": 473,
           "trajectory": "I_sol",
           "upper": 21428.69404296875
          },
          {
           "lower": 20345.19375,
           "timepoint": 474,
           "trajectory": "I_sol",
           "upper": 21304.7203125
          },
          {
           "lower": 20272.4248046875,
           "timepoint": 475,
           "trajectory": "I_sol",
           "upper": 21185.5556640625
          },
          {
           "lower": 20203.78017578125,
           "timepoint": 476,
           "trajectory": "I_sol",
           "upper": 21071.10068359375
          },
          {
           "lower": 20139.21044921875,
           "timepoint": 477,
           "trajectory": "I_sol",
           "upper": 20961.29541015625
          },
          {
           "lower": 20078.72919921875,
           "timepoint": 478,
           "trajectory": "I_sol",
           "upper": 20855.97587890625
          },
          {
           "lower": 20022.20380859375,
           "timepoint": 479,
           "trajectory": "I_sol",
           "upper": 20755.15361328125
          },
          {
           "lower": 19969.601171875,
           "timepoint": 480,
           "trajectory": "I_sol",
           "upper": 20658.726953125
          },
          {
           "lower": 19920.8783203125,
           "timepoint": 481,
           "trajectory": "I_sol",
           "upper": 20566.6177734375
          },
          {
           "lower": 19875.9943359375,
           "timepoint": 482,
           "trajectory": "I_sol",
           "upper": 20478.7517578125
          },
          {
           "lower": 19834.9333984375,
           "timepoint": 483,
           "trajectory": "I_sol",
           "upper": 20395.0744140625
          },
          {
           "lower": 19797.6177734375,
           "timepoint": 484,
           "trajectory": "I_sol",
           "upper": 20315.5150390625
          },
          {
           "lower": 19764.01806640625,
           "timepoint": 485,
           "trajectory": "I_sol",
           "upper": 20240.00732421875
          },
          {
           "lower": 19734.1060546875,
           "timepoint": 486,
           "trajectory": "I_sol",
           "upper": 20168.5072265625
          },
          {
           "lower": 19707.8521484375,
           "timepoint": 487,
           "trajectory": "I_sol",
           "upper": 20100.9447265625
          },
          {
           "lower": 19685.2390625,
           "timepoint": 488,
           "trajectory": "I_sol",
           "upper": 20037.27265625
          },
          {
           "lower": 19666.1572265625,
           "timepoint": 489,
           "trajectory": "I_sol",
           "upper": 19977.4482421875
          },
          {
           "lower": 19650.65771484375,
           "timepoint": 490,
           "trajectory": "I_sol",
           "upper": 19921.38720703125
          },
          {
           "lower": 19638.67158203125,
           "timepoint": 491,
           "trajectory": "I_sol",
           "upper": 19869.08037109375
          },
          {
           "lower": 19630.29638671875,
           "timepoint": 492,
           "trajectory": "I_sol",
           "upper": 19820.48291015625
          },
          {
           "lower": 19625.3701171875,
           "timepoint": 493,
           "trajectory": "I_sol",
           "upper": 19775.5400390625
          },
          {
           "lower": 19623.92802734375,
           "timepoint": 494,
           "trajectory": "I_sol",
           "upper": 19734.21845703125
          },
          {
           "lower": 19625.8943359375,
           "timepoint": 495,
           "trajectory": "I_sol",
           "upper": 19696.4845703125
          },
          {
           "lower": 19631.32705078125,
           "timepoint": 496,
           "trajectory": "I_sol",
           "upper": 19662.24521484375
          },
          {
           "lower": 19631.5486328125,
           "timepoint": 497,
           "trajectory": "I_sol",
           "upper": 19640.1935546875
          },
          {
           "lower": 19604.3248046875,
           "timepoint": 498,
           "trajectory": "I_sol",
           "upper": 19652.4642578125
          },
          {
           "lower": 19580.548046875,
           "timepoint": 499,
           "trajectory": "I_sol",
           "upper": 19668.143359375
          },
          {
           "lower": 19560.1953125,
           "timepoint": 500,
           "trajectory": "I_sol",
           "upper": 19687.21484375
          },
          {
           "lower": 19543.22763671875,
           "timepoint": 501,
           "trajectory": "I_sol",
           "upper": 19709.67666015625
          },
          {
           "lower": 19529.62763671875,
           "timepoint": 502,
           "trajectory": "I_sol",
           "upper": 19735.51494140625
          },
          {
           "lower": 19519.362109375,
           "timepoint": 503,
           "trajectory": "I_sol",
           "upper": 19764.731640625
          },
          {
           "lower": 19512.455078125,
           "timepoint": 504,
           "trajectory": "I_sol",
           "upper": 19797.326171875
          },
          {
           "lower": 19508.8337890625,
           "timepoint": 505,
           "trajectory": "I_sol",
           "upper": 19833.2873046875
          },
          {
           "lower": 19508.5083984375,
           "timepoint": 506,
           "trajectory": "I_sol",
           "upper": 19872.6322265625
          },
          {
           "lower": 19511.45615234375,
           "timepoint": 507,
           "trajectory": "I_sol",
           "upper": 19915.35048828125
          },
          {
           "lower": 19517.63037109375,
           "timepoint": 508,
           "trajectory": "I_sol",
           "upper": 19961.43408203125
          },
          {
           "lower": 19527.06875,
           "timepoint": 509,
           "trajectory": "I_sol",
           "upper": 20010.93125
          },
          {
           "lower": 19539.74521484375,
           "timepoint": 510,
           "trajectory": "I_sol",
           "upper": 20063.80361328125
          },
          {
           "lower": 19555.6296875,
           "timepoint": 511,
           "trajectory": "I_sol",
           "upper": 20120.07734375
          },
          {
           "lower": 19574.7396484375,
           "timepoint": 512,
           "trajectory": "I_sol",
           "upper": 20179.7681640625
          },
          {
           "lower": 19597.053125,
           "timepoint": 513,
           "trajectory": "I_sol",
           "upper": 20242.88046875
          },
          {
           "lower": 19622.56884765625,
           "timepoint": 514,
           "trajectory": "I_sol",
           "upper": 20309.42529296875
          },
          {
           "lower": 19651.2845703125,
           "timepoint": 515,
           "trajectory": "I_sol",
           "upper": 20379.4302734375
          },
          {
           "lower": 19683.2083984375,
           "timepoint": 516,
           "trajectory": "I_sol",
           "upper": 20452.8736328125
          },
          {
           "lower": 19718.3189453125,
           "timepoint": 517,
           "trajectory": "I_sol",
           "upper": 20529.8060546875
          },
          {
           "lower": 19756.6234375,
           "timepoint": 518,
           "trajectory": "I_sol",
           "upper": 20610.259375
          },
          {
           "lower": 19798.136328125,
           "timepoint": 519,
           "trajectory": "I_sol",
           "upper": 20694.226953125
          },
          {
           "lower": 19842.841796875,
           "timepoint": 520,
           "trajectory": "I_sol",
           "upper": 20781.759765625
          },
          {
           "lower": 19890.74619140625,
           "timepoint": 521,
           "trajectory": "I_sol",
           "upper": 20872.80263671875
          },
          {
           "lower": 19941.88896484375,
           "timepoint": 522,
           "trajectory": "I_sol",
           "upper": 20967.47236328125
          },
          {
           "lower": 19996.236328125,
           "timepoint": 523,
           "trajectory": "I_sol",
           "upper": 21065.759765625
          },
          {
           "lower": 20053.812890625,
           "timepoint": 524,
           "trajectory": "I_sol",
           "upper": 21167.675390625
          },
          {
           "lower": 20114.626953125,
           "timepoint": 525,
           "trajectory": "I_sol",
           "upper": 21273.271484375
          },
          {
           "lower": 20178.6921875,
           "timepoint": 526,
           "trajectory": "I_sol",
           "upper": 21382.56171875
          },
          {
           "lower": 20246.021484375,
           "timepoint": 527,
           "trajectory": "I_sol",
           "upper": 21495.615234375
          },
          {
           "lower": 20316.63095703125,
           "timepoint": 528,
           "trajectory": "I_sol",
           "upper": 21612.42177734375
          },
          {
           "lower": 20390.54111328125,
           "timepoint": 529,
           "trajectory": "I_sol",
           "upper": 21733.01943359375
          },
          {
           "lower": 20467.77822265625,
           "timepoint": 530,
           "trajectory": "I_sol",
           "upper": 21857.48544921875
          },
          {
           "lower": 20548.28115234375,
           "timepoint": 531,
           "trajectory": "I_sol",
           "upper": 21985.81845703125
          },
          {
           "lower": 20632.171484375,
           "timepoint": 532,
           "trajectory": "I_sol",
           "upper": 22118.078515625
          },
          {
           "lower": 20719.42685546875,
           "timepoint": 533,
           "trajectory": "I_sol",
           "upper": 22254.26259765625
          },
          {
           "lower": 20810.05908203125,
           "timepoint": 534,
           "trajectory": "I_sol",
           "upper": 22394.45458984375
          },
          {
           "lower": 20904.1138671875,
           "timepoint": 535,
           "trajectory": "I_sol",
           "upper": 22538.7142578125
          },
          {
           "lower": 21001.59013671875,
           "timepoint": 536,
           "trajectory": "I_sol",
           "upper": 22687.05634765625
          },
          {
           "lower": 21102.5693359375,
           "timepoint": 537,
           "trajectory": "I_sol",
           "upper": 22839.5517578125
          },
          {
           "lower": 21207.013671875,
           "timepoint": 538,
           "trajectory": "I_sol",
           "upper": 22996.185546875
          },
          {
           "lower": 21314.97578125,
           "timepoint": 539,
           "trajectory": "I_sol",
           "upper": 23157.07890625
          },
          {
           "lower": 21426.50361328125,
           "timepoint": 540,
           "trajectory": "I_sol",
           "upper": 23322.26396484375
          },
          {
           "lower": 21541.60458984375,
           "timepoint": 541,
           "trajectory": "I_sol",
           "upper": 23491.77626953125
          },
          {
           "lower": 21660.3171875,
           "timepoint": 542,
           "trajectory": "I_sol",
           "upper": 23665.67890625
          },
          {
           "lower": 21782.67333984375,
           "timepoint": 543,
           "trajectory": "I_sol",
           "upper": 23844.05126953125
          },
          {
           "lower": 21908.70791015625,
           "timepoint": 544,
           "trajectory": "I_sol",
           "upper": 24026.92294921875
          },
          {
           "lower": 22038.47470703125,
           "timepoint": 545,
           "trajectory": "I_sol",
           "upper": 24214.36708984375
          },
          {
           "lower": 22171.9873046875,
           "timepoint": 546,
           "trajectory": "I_sol",
           "upper": 24406.4306640625
          },
          {
           "lower": 22309.292578125,
           "timepoint": 547,
           "trajectory": "I_sol",
           "upper": 24603.195703125
          },
          {
           "lower": 22450.4517578125,
           "timepoint": 548,
           "trajectory": "I_sol",
           "upper": 24804.7357421875
          },
          {
           "lower": 22595.4734375,
           "timepoint": 549,
           "trajectory": "I_sol",
           "upper": 25011.03828125
          },
          {
           "lower": 22744.38525390625,
           "timepoint": 550,
           "trajectory": "I_sol",
           "upper": 25222.24169921875
          },
          {
           "lower": 22897.3349609375,
           "timepoint": 551,
           "trajectory": "I_sol",
           "upper": 25438.4462890625
          },
          {
           "lower": 23054.266015625,
           "timepoint": 552,
           "trajectory": "I_sol",
           "upper": 25659.667578125
          },
          {
           "lower": 23215.26318359375,
           "timepoint": 553,
           "trajectory": "I_sol",
           "upper": 25886.00439453125
          },
          {
           "lower": 23380.33466796875,
           "timepoint": 554,
           "trajectory": "I_sol",
           "upper": 26117.47197265625
          },
          {
           "lower": 23549.5833984375,
           "timepoint": 555,
           "trajectory": "I_sol",
           "upper": 26354.2330078125
          },
          {
           "lower": 23723.0427734375,
           "timepoint": 556,
           "trajectory": "I_sol",
           "upper": 26596.3595703125
          },
          {
           "lower": 23900.7650390625,
           "timepoint": 557,
           "trajectory": "I_sol",
           "upper": 26843.7896484375
          },
          {
           "lower": 24082.80263671875,
           "timepoint": 558,
           "trajectory": "I_sol",
           "upper": 27096.78134765625
          },
          {
           "lower": 24269.20869140625,
           "timepoint": 559,
           "trajectory": "I_sol",
           "upper": 27355.32451171875
          },
          {
           "lower": 24460.0544921875,
           "timepoint": 560,
           "trajectory": "I_sol",
           "upper": 27619.5431640625
          },
          {
           "lower": 24655.396484375,
           "timepoint": 561,
           "trajectory": "I_sol",
           "upper": 27889.490234375
          },
          {
           "lower": 24855.2591796875,
           "timepoint": 562,
           "trajectory": "I_sol",
           "upper": 28165.3150390625
          },
          {
           "lower": 25059.76474609375,
           "timepoint": 563,
           "trajectory": "I_sol",
           "upper": 28447.05361328125
          },
          {
           "lower": 25268.9533203125,
           "timepoint": 564,
           "trajectory": "I_sol",
           "upper": 28734.8005859375
          },
          {
           "lower": 25482.812109375,
           "timepoint": 565,
           "trajectory": "I_sol",
           "upper": 29028.664453125
          },
          {
           "lower": 25701.52548828125,
           "timepoint": 566,
           "trajectory": "I_sol",
           "upper": 29328.73818359375
          },
          {
           "lower": 25925.0935546875,
           "timepoint": 567,
           "trajectory": "I_sol",
           "upper": 29635.1291015625
          },
          {
           "lower": 26153.61376953125,
           "timepoint": 568,
           "trajectory": "I_sol",
           "upper": 29947.93115234375
          }
         ]
        },
        {
         "name": "traces",
         "transform": [
          {
           "expr": "isValid(datum.value)",
           "type": "filter"
          }
         ],
         "values": []
        },
        {
         "name": "points",
         "values": [
          {
           "sample_id": 0,
           "timepoint": 0,
           "trajectory": "timestep",
           "value": 541
          },
          {
           "sample_id": 0,
           "timepoint": 1,
           "trajectory": "timestep",
           "value": 542
          },
          {
           "sample_id": 0,
           "timepoint": 2,
           "trajectory": "timestep",
           "value": 543
          },
          {
           "sample_id": 0,
           "timepoint": 3,
           "trajectory": "timestep",
           "value": 544
          },
          {
           "sample_id": 0,
           "timepoint": 4,
           "trajectory": "timestep",
           "value": 545
          },
          {
           "sample_id": 0,
           "timepoint": 5,
           "trajectory": "timestep",
           "value": 546
          },
          {
           "sample_id": 0,
           "timepoint": 6,
           "trajectory": "timestep",
           "value": 547
          },
          {
           "sample_id": 0,
           "timepoint": 7,
           "trajectory": "timestep",
           "value": 548
          },
          {
           "sample_id": 0,
           "timepoint": 8,
           "trajectory": "timestep",
           "value": 549
          },
          {
           "sample_id": 0,
           "timepoint": 9,
           "trajectory": "timestep",
           "value": 550
          },
          {
           "sample_id": 0,
           "timepoint": 10,
           "trajectory": "timestep",
           "value": 551
          },
          {
           "sample_id": 0,
           "timepoint": 11,
           "trajectory": "timestep",
           "value": 552
          },
          {
           "sample_id": 0,
           "timepoint": 12,
           "trajectory": "timestep",
           "value": 553
          },
          {
           "sample_id": 0,
           "timepoint": 13,
           "trajectory": "timestep",
           "value": 554
          },
          {
           "sample_id": 0,
           "timepoint": 14,
           "trajectory": "timestep",
           "value": 555
          },
          {
           "sample_id": 0,
           "timepoint": 15,
           "trajectory": "timestep",
           "value": 556
          },
          {
           "sample_id": 0,
           "timepoint": 16,
           "trajectory": "timestep",
           "value": 557
          },
          {
           "sample_id": 0,
           "timepoint": 17,
           "trajectory": "timestep",
           "value": 558
          },
          {
           "sample_id": 0,
           "timepoint": 18,
           "trajectory": "timestep",
           "value": 559
          },
          {
           "sample_id": 0,
           "timepoint": 19,
           "trajectory": "timestep",
           "value": 560
          },
          {
           "sample_id": 0,
           "timepoint": 20,
           "trajectory": "timestep",
           "value": 561
          },
          {
           "sample_id": 0,
           "timepoint": 21,
           "trajectory": "timestep",
           "value": 562
          },
          {
           "sample_id": 0,
           "timepoint": 22,
           "trajectory": "timestep",
           "value": 563
          },
          {
           "sample_id": 0,
           "timepoint": 23,
           "trajectory": "timestep",
           "value": 564
          },
          {
           "sample_id": 0,
           "timepoint": 24,
           "trajectory": "timestep",
           "value": 565
          },
          {
           "sample_id": 0,
           "timepoint": 25,
           "trajectory": "timestep",
           "value": 566
          },
          {
           "sample_id": 0,
           "timepoint": 26,
           "trajectory": "timestep",
           "value": 567
          },
          {
           "sample_id": 0,
           "timepoint": 27,
           "trajectory": "timestep",
           "value": 568
          },
          {
           "sample_id": 0,
           "timepoint": 0,
           "trajectory": "I_data",
           "value": 3678
          },
          {
           "sample_id": 0,
           "timepoint": 1,
           "trajectory": "I_data",
           "value": 4414
          },
          {
           "sample_id": 0,
           "timepoint": 2,
           "trajectory": "I_data",
           "value": 4917
          },
          {
           "sample_id": 0,
           "timepoint": 3,
           "trajectory": "I_data",
           "value": 5090
          },
          {
           "sample_id": 0,
           "timepoint": 4,
           "trajectory": "I_data",
           "value": 5256
          },
          {
           "sample_id": 0,
           "timepoint": 5,
           "trajectory": "I_data",
           "value": 5730
          },
          {
           "sample_id": 0,
           "timepoint": 6,
           "trajectory": "I_data",
           "value": 5999
          },
          {
           "sample_id": 0,
           "timepoint": 7,
           "trajectory": "I_data",
           "value": 6586
          },
          {
           "sample_id": 0,
           "timepoint": 8,
           "trajectory": "I_data",
           "value": 7568
          },
          {
           "sample_id": 0,
           "timepoint": 9,
           "trajectory": "I_data",
           "value": 7323
          },
          {
           "sample_id": 0,
           "timepoint": 10,
           "trajectory": "I_data",
           "value": 8742
          },
          {
           "sample_id": 0,
           "timepoint": 11,
           "trajectory": "I_data",
           "value": 8721
          },
          {
           "sample_id": 0,
           "timepoint": 12,
           "trajectory": "I_data",
           "value": 8864
          },
          {
           "sample_id": 0,
           "timepoint": 13,
           "trajectory": "I_data",
           "value": 9581
          },
          {
           "sample_id": 0,
           "timepoint": 14,
           "trajectory": "I_data",
           "value": 11286
          },
          {
           "sample_id": 0,
           "timepoint": 15,
           "trajectory": "I_data",
           "value": 11748
          },
          {
           "sample_id": 0,
           "timepoint": 16,
           "trajectory": "I_data",
           "value": 12707
          },
          {
           "sample_id": 0,
           "timepoint": 17,
           "trajectory": "I_data",
           "value": 13226
          },
          {
           "sample_id": 0,
           "timepoint": 18,
           "trajectory": "I_data",
           "value": 13642
          },
          {
           "sample_id": 0,
           "timepoint": 19,
           "trajectory": "I_data",
           "value": 13990
          },
          {
           "sample_id": 0,
           "timepoint": 20,
           "trajectory": "I_data",
           "value": 14454
          },
          {
           "sample_id": 0,
           "timepoint": 21,
           "trajectory": "I_data",
           "value": 15621
          },
          {
           "sample_id": 0,
           "timepoint": 22,
           "trajectory": "I_data",
           "value": 17715
          },
          {
           "sample_id": 0,
           "timepoint": 23,
           "trajectory": "I_data",
           "value": 18270
          },
          {
           "sample_id": 0,
           "timepoint": 24,
           "trajectory": "I_data",
           "value": 17412
          },
          {
           "sample_id": 0,
           "timepoint": 25,
           "trajectory": "I_data",
           "value": 15849
          },
          {
           "sample_id": 0,
           "timepoint": 26,
           "trajectory": "I_data",
           "value": 18751
          },
          {
           "sample_id": 0,
           "timepoint": 27,
           "trajectory": "I_data",
           "value": 19141
          },
          {
           "sample_id": 0,
           "timepoint": 0,
           "trajectory": "H_data",
           "value": 64
          },
          {
           "sample_id": 0,
           "timepoint": 1,
           "trajectory": "H_data",
           "value": 71
          },
          {
           "sample_id": 0,
           "timepoint": 2,
           "trajectory": "H_data",
           "value": 71
          },
          {
           "sample_id": 0,
           "timepoint": 3,
           "trajectory": "H_data",
           "value": 93
          },
          {
           "sample_id": 0,
           "timepoint": 4,
           "trajectory": "H_data",
           "value": 99
          },
          {
           "sample_id": 0,
           "timepoint": 5,
           "trajectory": "H_data",
           "value": 113
          },
          {
           "sample_id": 0,
           "timepoint": 6,
           "trajectory": "H_data",
           "value": 77
          },
          {
           "sample_id": 0,
           "timepoint": 7,
           "trajectory": "H_data",
           "value": 98
          },
          {
           "sample_id": 0,
           "timepoint": 8,
           "trajectory": "H_data",
           "value": 85
          },
          {
           "sample_id": 0,
           "timepoint": 9,
           "trajectory": "H_data",
           "value": 95
          },
          {
           "sample_id": 0,
           "timepoint": 10,
           "trajectory": "H_data",
           "value": 108
          },
          {
           "sample_id": 0,
           "timepoint": 11,
           "trajectory": "H_data",
           "value": 121
          },
          {
           "sample_id": 0,
           "timepoint": 12,
           "trajectory": "H_data",
           "value": 134
          },
          {
           "sample_id": 0,
           "timepoint": 13,
           "trajectory": "H_data",
           "value": 132
          },
          {
           "sample_id": 0,
           "timepoint": 14,
           "trajectory": "H_data",
           "value": 136
          },
          {
           "sample_id": 0,
           "timepoint": 15,
           "trajectory": "H_data",
           "value": 123
          },
          {
           "sample_id": 0,
           "timepoint": 16,
           "trajectory": "H_data",
           "value": 138
          },
          {
           "sample_id": 0,
           "timepoint": 17,
           "trajectory": "H_data",
           "value": 161
          },
          {
           "sample_id": 0,
           "timepoint": 18,
           "trajectory": "H_data",
           "value": 210
          },
          {
           "sample_id": 0,
           "timepoint": 19,
           "trajectory": "H_data",
           "value": 210
          },
          {
           "sample_id": 0,
           "timepoint": 20,
           "trajectory": "H_data",
           "value": 201
          },
          {
           "sample_id": 0,
           "timepoint": 21,
           "trajectory": "H_data",
           "value": 244
          },
          {
           "sample_id": 0,
           "timepoint": 22,
           "trajectory": "H_data",
           "value": 189
          },
          {
           "sample_id": 0,
           "timepoint": 23,
           "trajectory": "H_data",
           "value": 242
          },
          {
           "sample_id": 0,
           "timepoint": 24,
           "trajectory": "H_data",
           "value": 227
          },
          {
           "sample_id": 0,
           "timepoint": 25,
           "trajectory": "H_data",
           "value": 285
          },
          {
           "sample_id": 0,
           "timepoint": 26,
           "trajectory": "H_data",
           "value": 301
          },
          {
           "sample_id": 0,
           "timepoint": 27,
           "trajectory": "H_data",
           "value": 316
          },
          {
           "sample_id": 0,
           "timepoint": 0,
           "trajectory": "D_data",
           "value": 53288
          },
          {
           "sample_id": 0,
           "timepoint": 1,
           "trajectory": "D_data",
           "value": 53296
          },
          {
           "sample_id": 0,
           "timepoint": 2,
           "trajectory": "D_data",
           "value": 53304
          },
          {
           "sample_id": 0,
           "timepoint": 3,
           "trajectory": "D_data",
           "value": 53308
          },
          {
           "sample_id": 0,
           "timepoint": 4,
           "trajectory": "D_data",
           "value": 53312
          },
          {
           "sample_id": 0,
           "timepoint": 5,
           "trajectory": "D_data",
           "value": 53318
          },
          {
           "sample_id": 0,
           "timepoint": 6,
           "trajectory": "D_data",
           "value": 53325
          },
          {
           "sample_id": 0,
           "timepoint": 7,
           "trajectory": "D_data",
           "value": 53328
          },
          {
           "sample_id": 0,
           "timepoint": 8,
           "trajectory": "D_data",
           "value": 53330
          },
          {
           "sample_id": 0,
           "timepoint": 9,
           "trajectory": "D_data",
           "value": 53339
          },
          {
           "sample_id": 0,
           "timepoint": 10,
           "trajectory": "D_data",
           "value": 53345
          },
          {
           "sample_id": 0,
           "timepoint": 11,
           "trajectory": "D_data",
           "value": 53347
          },
          {
           "sample_id": 0,
           "timepoint": 12,
           "trajectory": "D_data",
           "value": 53357
          },
          {
           "sample_id": 0,
           "timepoint": 13,
           "trajectory": "D_data",
           "value": 53361
          },
          {
           "sample_id": 0,
           "timepoint": 14,
           "trajectory": "D_data",
           "value": 53368
          },
          {
           "sample_id": 0,
           "timepoint": 15,
           "trajectory": "D_data",
           "value": 53378
          },
          {
           "sample_id": 0,
           "timepoint": 16,
           "trajectory": "D_data",
           "value": 53385
          },
          {
           "sample_id": 0,
           "timepoint": 17,
           "trajectory": "D_data",
           "value": 53392
          },
          {
           "sample_id": 0,
           "timepoint": 18,
           "trajectory": "D_data",
           "value": 53402
          },
          {
           "sample_id": 0,
           "timepoint": 19,
           "trajectory": "D_data",
           "value": 53405
          },
          {
           "sample_id": 0,
           "timepoint": 20,
           "trajectory": "D_data",
           "value": 53420
          },
          {
           "sample_id": 0,
           "timepoint": 21,
           "trajectory": "D_data",
           "value": 53428
          },
          {
           "sample_id": 0,
           "timepoint": 22,
           "trajectory": "D_data",
           "value": 53459
          },
          {
           "sample_id": 0,
           "timepoint": 23,
           "trajectory": "D_data",
           "value": 53472
          },
          {
           "sample_id": 0,
           "timepoint": 24,
           "trajectory": "D_data",
           "value": 53478
          },
          {
           "sample_id": 0,
           "timepoint": 25,
           "trajectory": "D_data",
           "value": 53488
          },
          {
           "sample_id": 0,
           "timepoint": 26,
           "trajectory": "D_data",
           "value": 53522
          },
          {
           "sample_id": 0,
           "timepoint": 27,
           "trajectory": "D_data",
           "value": 53548
          }
         ]
        },
        {
         "name": "markers",
         "values": []
        },
        {
         "name": "selected",
         "on": [
          {
           "remove": true,
           "trigger": "clear"
          },
          {
           "remove": true,
           "trigger": "!shift"
          },
          {
           "insert": "clicked",
           "trigger": "!shift && clicked"
          },
          {
           "toggle": "clicked",
           "trigger": "shift && clicked"
          }
         ]
        }
       ],
       "height": 300,
       "legends": [
        {
         "encode": {
          "labels": {
           "interactive": true,
           "name": "legendLabel",
           "update": {
            "opacity": [
             {
              "test": "!length(data('selected')) || indata('selected', 'value', datum.value)",
              "value": 1
             },
             {
              "value": 0.25
             }
            ]
           }
          },
          "symbols": {
           "interactive": true,
           "name": "legendSymbol",
           "update": {
            "fill": {
             "value": "transparent"
            },
            "opacity": [
             {
              "test": "!length(data('selected')) || indata('selected', 'value', datum.value)",
              "value": 0.7
             },
             {
              "value": 0.15
             }
            ],
            "size": {
             "value": 64
            },
            "strokeWidth": {
             "value": 2
            }
           }
          }
         },
         "name": "color_legend",
         "stroke": "color"
        }
       ],
       "marks": [
        {
         "from": {
          "facet": {
           "data": "points",
           "groupby": "trajectory",
           "name": "points_split"
          }
         },
         "marks": [
          {
           "encode": {
            "hover": {
             "fillOpacity": {
              "value": 0.9
             }
            },
            "update": {
             "fill": {
              "field": "trajectory",
              "scale": "color"
             },
             "fillOpacity": [
              {
               "test": "!length(data('selected')) || indata('selected', 'value', datum.trajectory)",
               "value": 0.5
              },
              {
               "value": 0.15
              }
             ],
             "size": {
              "value": 10
             },
             "stroke": {
              "field": "trajectory",
              "scale": "color"
             },
             "strokeOpacity": [
              {
               "test": "!length(data('selected')) || indata('selected', 'value', datum.trajectory)",
               "value": 0.75
              },
              {
               "value": 0.15
              }
             ],
             "strokeWidth": {
              "value": 2
             },
             "tooltip": {
              "field": "value"
             },
             "x": {
              "field": "timepoint",
              "scale": "xscale"
             },
             "y": {
              "field": "value",
              "scale": "yscale"
             }
            }
           },
           "from": {
            "data": "points"
           },
           "name": "_points_symbol",
           "type": "symbol",
           "zindex": 3
          },
          {
           "encode": {
            "hover": {
             "fillOpacity": {
              "value": 0.9
             }
            },
            "update": {
             "interpolate": {
              "value": "linear"
             },
             "stroke": {
              "field": "trajectory",
              "scale": "color"
             },
             "strokeOpacity": [
              {
               "test": "!length(data('selected')) || indata('selected', 'value', datum.trajectory)",
               "value": 0.3
              },
              {
               "value": 0.1
              }
             ],
             "strokeWidth": {
              "value": 2
             },
             "x": {
              "field": "timepoint",
              "scale": "xscale"
             },
             "y": {
              "field": "value",
              "scale": "yscale"
             }
            }
           },
           "from": {
            "data": "points"
           },
           "name": "_points_line",
           "type": "line",
           "zindex": 3
          }
         ],
         "name": "_points",
         "type": "group",
         "zindex": 3
        },
        {
         "from": {
          "facet": {
           "data": "traces",
           "groupby": "trajectory",
           "name": "traces_split"
          }
         },
         "marks": [
          {
           "encode": {
            "hover": {
             "fillOpacity": {
              "value": 0.9
             }
            },
            "update": {
             "interpolate": {
              "value": "linear"
             },
             "stroke": {
              "field": "trajectory",
              "scale": "color"
             },
             "strokeOpacity": [
              {
               "test": "!length(data('selected')) || indata('selected', 'value', datum.trajectory)",
               "value": 0.75
              },
              {
               "value": 0.15
              }
             ],
             "strokeWidth": {
              "value": 2
             },
             "x": {
              "field": "timepoint",
              "scale": "xscale"
             },
             "y": {
              "field": "value",
              "scale": "yscale"
             }
            }
           },
           "from": {
            "data": "traces_split"
           },
           "name": "_traces_lines",
           "type": "line"
          }
         ],
         "name": "_traces",
         "type": "group",
         "zindex": 2
        },
        {
         "from": {
          "facet": {
           "data": "distributions",
           "groupby": "trajectory",
           "name": "trajectory_split"
          }
         },
         "marks": [
          {
           "encode": {
            "hover": {
             "fillOpacity": {
              "value": 0.9
             }
            },
            "update": {
             "fill": {
              "field": "trajectory",
              "scale": "color"
             },
             "fillOpacity": [
              {
               "test": "!length(data('selected')) || indata('selected', 'value', datum.trajectory)",
               "value": 0.5
              },
              {
               "value": 0.15
              }
             ],
             "interpolate": {
              "value": "linear"
             },
             "stroke": {
              "field": "trajectory",
              "scale": "color"
             },
             "strokeOpacity": [
              {
               "test": "!length(data('selected')) || indata('selected', 'value', datum.trajectory)",
               "value": 0.75
              },
              {
               "value": 0.15
              }
             ],
             "strokeWidth": {
              "value": 2
             },
             "x": {
              "field": "timepoint",
              "scale": "xscale"
             },
             "y": {
              "field": "upper",
              "scale": "yscale"
             },
             "y2": {
              "field": "lower",
              "scale": "yscale"
             }
            }
           },
           "from": {
            "data": "trajectory_split"
           },
           "type": "area"
          }
         ],
         "name": "_distributions",
         "type": "group",
         "zindex": 1
        },
        {
         "marks": [
          {
           "encode": {
            "enter": {
             "stroke": {
              "value": "lightgray"
             }
            },
            "update": {
             "opacity": {
              "value": 1
             },
             "x": {
              "field": "timepoint",
              "scale": "xscale"
             },
             "y": {
              "signal": "height"
             },
             "y2": {
              "value": 0
             }
            }
           },
           "from": {
            "data": "markers"
           },
           "name": "_marker text",
           "type": "rule"
          },
          {
           "encode": {
            "enter": {
             "fontSize": {
              "value": 8
             },
             "text": {
              "field": "datum.label"
             },
             "y": {
              "value": 0
             }
            }
           },
           "from": {
            "data": "_marker text"
           },
           "name": "_marker flags",
           "transform": [
            {
             "as": [
              "x",
              "_y",
              "opacity",
              "align",
              "baseline"
             ],
             "lineAnchor": "start",
             "offset": [
              1
             ],
             "size": {
              "signal": "[width, height]"
             },
             "type": "label"
            }
           ],
           "type": "text"
          }
         ],
         "name": "_markers",
         "type": "group"
        }
       ],
       "padding": 5,
       "scales": [
        {
         "domain": {
          "fields": [
           {
            "data": "distributions",
            "field": "timepoint"
           },
           {
            "data": "traces",
            "field": "timepoint"
           },
           {
            "data": "points",
            "field": "timepoint"
           },
           {
            "data": "markers",
            "field": "timepoint"
           }
          ]
         },
         "name": "xscale",
         "range": "width",
         "type": "linear",
         "zero": false
        },
        {
         "domain": {
          "fields": [
           {
            "data": "distributions",
            "field": "lower"
           },
           {
            "data": "distributions",
            "field": "upper"
           },
           {
            "data": "traces",
            "field": "value"
           },
           {
            "data": "points",
            "field": "value"
           }
          ]
         },
         "name": "yscale",
         "nice": true,
         "range": "height",
         "type": "linear",
         "zero": true
        },
        {
         "domain": {
          "fields": [
           {
            "data": "distributions",
            "field": "trajectory"
           },
           {
            "data": "traces",
            "field": "trajectory"
           },
           {
            "data": "points",
            "field": "trajectory"
           }
          ]
         },
         "name": "color",
         "range": "category",
         "type": "ordinal"
        }
       ],
       "signals": [
        {
         "name": "clear",
         "on": [
          {
           "events": "mouseup[!event.item]",
           "force": true,
           "update": "true"
          }
         ],
         "value": true
        },
        {
         "name": "shift",
         "on": [
          {
           "events": "@legendSymbol:click, @legendLabel:click",
           "force": true,
           "update": "event.shiftKey"
          }
         ],
         "value": false
        },
        {
         "name": "clicked",
         "on": [
          {
           "events": "@legendSymbol:click, @legendLabel:click",
           "force": true,
           "update": "{value: datum.value}"
          }
         ],
         "value": null
        }
       ],
       "width": 500
      }
     },
     "metadata": {},
     "output_type": "display_data"
    }
   ],
   "source": [
    "num_samples = 2\n",
    "model_paths = [model1_location]\n",
    "data_path = \"../../notebook/ensemble_eval_sa/NY_data2.csv\"\n",
    "weights = [1]\n",
    "solution_mappings = [{\"I\": \"I\", \"H\": \"H\", \"D\": \"D\"}] # \"column name in data\": \"observable or state variable in model\"\n",
    "\n",
    "# Run the calibration and sampling\n",
    "result = load_and_calibrate_and_sample_ensemble_model(\n",
    "    model_paths,\n",
    "    data_path,\n",
    "    weights,\n",
    "    solution_mappings,\n",
    "    num_samples,\n",
    "    timepoints,\n",
    "    verbose=True,\n",
    "    total_population=19340000,\n",
    "    num_iterations=100,\n",
    "    time_unit=\"days\",\n",
    "    visual_options={\"title\": \"Calibrated Ensemble\", \"subset\":\".*_sol\"}\n",
    ")\n",
    "\n",
    "# # Save results\n",
    "# result[\"data\"].to_csv(\n",
    "#     os.path.join(DEMO_PATH, \"results_petri_ensemble/calibrated_sample_results.csv\"), index=False\n",
    "# )\n",
    "# result[\"quantiles\"].to_csv(\n",
    "#     os.path.join(DEMO_PATH, \"results_petri_ensemble/calibrated_quantile_results.csv\"), index=False\n",
    "# )\n",
    "\n",
    "# Plot results\n",
    "schema = plots.trajectories(pd.DataFrame(result[\"data\"]), subset=\".*_sol\",\n",
    "                            points=test_data.reset_index(drop=True).rename(columns={\"I\":\"I_data\", \"H\":\"H_data\", \"D\":\"D_data\"}),\n",
    "                           )\n",
    "schema = plots.pad(schema, 5)\n",
    "plots.ipy_display(schema)"
   ]
  },
  {
   "cell_type": "code",
   "execution_count": 18,
   "id": "df8e4d53-1f1b-40f8-82bc-fc38d8467c01",
   "metadata": {},
   "outputs": [
    {
     "name": "stdout",
     "output_type": "stream",
     "text": [
      "\n"
     ]
    },
    {
     "data": {
      "application/vnd.vega.v5+json": {
       "$schema": "https://vega.github.io/schema/vega/v5.json",
       "axes": [
        {
         "name": "x_axis",
         "orient": "bottom",
         "scale": "xscale",
         "zindex": 100
        },
        {
         "name": "y_axis",
         "orient": "left",
         "scale": "yscale",
         "zindex": 100
        }
       ],
       "data": [
        {
         "name": "distributions",
         "values": [
          {
           "lower": 5.177897185406019e-24,
           "timepoint": 0,
           "trajectory": "D_sol",
           "upper": 5.607119204392986e-24
          },
          {
           "lower": 0.000439245963934809,
           "timepoint": 1,
           "trajectory": "D_sol",
           "upper": 0.00047633976209908723
          },
          {
           "lower": 0.0015168142097536474,
           "timepoint": 2,
           "trajectory": "D_sol",
           "upper": 0.0016469387512188405
          },
          {
           "lower": 0.0029939223895780742,
           "timepoint": 3,
           "trajectory": "D_sol",
           "upper": 0.0032540537067689
          },
          {
           "lower": 0.004737281915731728,
           "timepoint": 4,
           "trajectory": "D_sol",
           "upper": 0.005152935883961618
          },
          {
           "lower": 0.006673936313018203,
           "timepoint": 5,
           "trajectory": "D_sol",
           "upper": 0.007263629185035825
          },
          {
           "lower": 0.008765296218916774,
           "timepoint": 6,
           "trajectory": "D_sol",
           "upper": 0.009543256694450974
          },
          {
           "lower": 0.010992331709712744,
           "timepoint": 7,
           "trajectory": "D_sol",
           "upper": 0.011970186326652765
          },
          {
           "lower": 0.013347211712971329,
           "timepoint": 8,
           "trajectory": "D_sol",
           "upper": 0.014534901408478618
          },
          {
           "lower": 0.015828404761850833,
           "timepoint": 9,
           "trajectory": "D_sol",
           "upper": 0.017234924994409085
          },
          {
           "lower": 0.018438031990081073,
           "timepoint": 10,
           "trajectory": "D_sol",
           "upper": 0.02007180070504546
          },
          {
           "lower": 0.021180390659719706,
           "timepoint": 11,
           "trajectory": "D_sol",
           "upper": 0.023049476277083158
          },
          {
           "lower": 0.024061065167188644,
           "timepoint": 12,
           "trajectory": "D_sol",
           "upper": 0.026173371821641922
          },
          {
           "lower": 0.027086500544101,
           "timepoint": 13,
           "trajectory": "D_sol",
           "upper": 0.029449870344251394
          },
          {
           "lower": 0.030263744201511143,
           "timepoint": 14,
           "trajectory": "D_sol",
           "upper": 0.03288603769615293
          },
          {
           "lower": 0.03360039610415697,
           "timepoint": 15,
           "trajectory": "D_sol",
           "upper": 0.03648944701999426
          },
          {
           "lower": 0.03710447642952204,
           "timepoint": 16,
           "trajectory": "D_sol",
           "upper": 0.040268279425799844
          },
          {
           "lower": 0.04078437685966492,
           "timepoint": 17,
           "trajectory": "D_sol",
           "upper": 0.04423093497753143
          },
          {
           "lower": 0.04464896898716688,
           "timepoint": 18,
           "trajectory": "D_sol",
           "upper": 0.048386449553072454
          },
          {
           "lower": 0.04870759733021259,
           "timepoint": 19,
           "trajectory": "D_sol",
           "upper": 0.052744127437472345
          },
          {
           "lower": 0.05296999718993902,
           "timepoint": 20,
           "trajectory": "D_sol",
           "upper": 0.057313925214111806
          },
          {
           "lower": 0.05744643155485392,
           "timepoint": 21,
           "trajectory": "D_sol",
           "upper": 0.06210610251873731
          },
          {
           "lower": 0.06214770711958408,
           "timepoint": 22,
           "trajectory": "D_sol",
           "upper": 0.06713152639567851
          },
          {
           "lower": 0.06708504855632783,
           "timepoint": 23,
           "trajectory": "D_sol",
           "upper": 0.07240156233310699
          },
          {
           "lower": 0.07227044589817525,
           "timepoint": 24,
           "trajectory": "D_sol",
           "upper": 0.07792817018926143
          },
          {
           "lower": 0.0777162790298462,
           "timepoint": 25,
           "trajectory": "D_sol",
           "upper": 0.08372381031513214
          },
          {
           "lower": 0.08343568220734596,
           "timepoint": 26,
           "trajectory": "D_sol",
           "upper": 0.08980159685015679
          },
          {
           "lower": 0.08944223374128342,
           "timepoint": 27,
           "trajectory": "D_sol",
           "upper": 0.09617503434419632
          },
          {
           "lower": 0.095750592648983,
           "timepoint": 28,
           "trajectory": "D_sol",
           "upper": 0.10285884886980057
          },
          {
           "lower": 0.1023757990449667,
           "timepoint": 29,
           "trajectory": "D_sol",
           "upper": 0.10986803360283375
          },
          {
           "lower": 0.10933380275964737,
           "timepoint": 30,
           "trajectory": "D_sol",
           "upper": 0.1172183707356453
          },
          {
           "lower": 0.11664129979908466,
           "timepoint": 31,
           "trajectory": "D_sol",
           "upper": 0.12492654286324978
          },
          {
           "lower": 0.12431586124002933,
           "timepoint": 32,
           "trajectory": "D_sol",
           "upper": 0.13300989978015423
          },
          {
           "lower": 0.1323758751153946,
           "timepoint": 33,
           "trajectory": "D_sol",
           "upper": 0.1414866954088211
          },
          {
           "lower": 0.14084091633558274,
           "timepoint": 34,
           "trajectory": "D_sol",
           "upper": 0.15037641078233718
          },
          {
           "lower": 0.14973109513521193,
           "timepoint": 35,
           "trajectory": "D_sol",
           "upper": 0.1596986398100853
          },
          {
           "lower": 0.1590678423643112,
           "timepoint": 36,
           "trajectory": "D_sol",
           "upper": 0.16947459876537324
          },
          {
           "lower": 0.1688735455274582,
           "timepoint": 37,
           "trajectory": "D_sol",
           "upper": 0.1797267824411392
          },
          {
           "lower": 0.17917182967066764,
           "timepoint": 38,
           "trajectory": "D_sol",
           "upper": 0.19047786369919778
          },
          {
           "lower": 0.1899874024093151,
           "timepoint": 39,
           "trajectory": "D_sol",
           "upper": 0.20175230875611305
          },
          {
           "lower": 0.2013463206589222,
           "timepoint": 40,
           "trajectory": "D_sol",
           "upper": 0.2135755442082882
          },
          {
           "lower": 0.21327580139040947,
           "timepoint": 41,
           "trajectory": "D_sol",
           "upper": 0.22597438469529152
          },
          {
           "lower": 0.22580459266901015,
           "timepoint": 42,
           "trajectory": "D_sol",
           "upper": 0.23897684067487718
          },
          {
           "lower": 0.23896284252405167,
           "timepoint": 43,
           "trajectory": "D_sol",
           "upper": 0.2526123091578484
          },
          {
           "lower": 0.2527815908193588,
           "timepoint": 44,
           "trajectory": "D_sol",
           "upper": 0.26691130697727206
          },
          {
           "lower": 0.26729465276002884,
           "timepoint": 45,
           "trajectory": "D_sol",
           "upper": 0.2819063887000084
          },
          {
           "lower": 0.2825366944074631,
           "timepoint": 46,
           "trajectory": "D_sol",
           "upper": 0.2976312547922134
          },
          {
           "lower": 0.29854495972394945,
           "timepoint": 47,
           "trajectory": "D_sol",
           "upper": 0.3141224518418312
          },
          {
           "lower": 0.31535702645778657,
           "timepoint": 48,
           "trajectory": "D_sol",
           "upper": 0.3314158946275711
          },
          {
           "lower": 0.3330137088894844,
           "timepoint": 49,
           "trajectory": "D_sol",
           "upper": 0.34955105632543565
          },
          {
           "lower": 0.35155694782733915,
           "timepoint": 50,
           "trajectory": "D_sol",
           "upper": 0.36856896579265597
          },
          {
           "lower": 0.37103203386068345,
           "timepoint": 51,
           "trajectory": "D_sol",
           "upper": 0.38851367980241774
          },
          {
           "lower": 0.39148527234792707,
           "timepoint": 52,
           "trajectory": "D_sol",
           "upper": 0.40942868739366534
          },
          {
           "lower": 0.41296602338552474,
           "timepoint": 53,
           "trajectory": "D_sol",
           "upper": 0.43136187344789506
          },
          {
           "lower": 0.4355257570743561,
           "timepoint": 54,
           "trajectory": "D_sol",
           "upper": 0.45436258912086486
          },
          {
           "lower": 0.4592187836766243,
           "timepoint": 55,
           "trajectory": "D_sol",
           "upper": 0.47848318666219714
          },
          {
           "lower": 0.48410210460424424,
           "timepoint": 56,
           "trajectory": "D_sol",
           "upper": 0.5037777975201607
          },
          {
           "lower": 0.510235172510147,
           "timepoint": 57,
           "trajectory": "D_sol",
           "upper": 0.5303042113780976
          },
          {
           "lower": 0.5376813352108002,
           "timepoint": 58,
           "trajectory": "D_sol",
           "upper": 0.5581218063831329
          },
          {
           "lower": 0.5665061742067337,
           "timepoint": 59,
           "trajectory": "D_sol",
           "upper": 0.5872937768697739
          },
          {
           "lower": 0.5967791825532913,
           "timepoint": 60,
           "trajectory": "D_sol",
           "upper": 0.6178862899541855
          },
          {
           "lower": 0.628571817278862,
           "timepoint": 61,
           "trajectory": "D_sol",
           "upper": 0.649966350197792
          },
          {
           "lower": 0.6619621753692627,
           "timepoint": 62,
           "trajectory": "D_sol",
           "upper": 0.6836091041564941
          },
          {
           "lower": 0.6970296859741211,
           "timepoint": 63,
           "trajectory": "D_sol",
           "upper": 0.7188892602920532
          },
          {
           "lower": 0.7338595479726792,
           "timepoint": 64,
           "trajectory": "D_sol",
           "upper": 0.7558881551027298
          },
          {
           "lower": 0.7725392431020737,
           "timepoint": 65,
           "trajectory": "D_sol",
           "upper": 0.7946875840425491
          },
          {
           "lower": 0.8131623029708862,
           "timepoint": 66,
           "trajectory": "D_sol",
           "upper": 0.8353759288787842
          },
          {
           "lower": 0.855824762582779,
           "timepoint": 67,
           "trajectory": "D_sol",
           "upper": 0.8780451476573944
          },
          {
           "lower": 0.9006309807300568,
           "timepoint": 68,
           "trajectory": "D_sol",
           "upper": 0.9227908551692963
          },
          {
           "lower": 0.9476877629756928,
           "timepoint": 69,
           "trajectory": "D_sol",
           "upper": 0.9697154581546783
          },
          {
           "lower": 0.9971081197261811,
           "timepoint": 70,
           "trajectory": "D_sol",
           "upper": 1.018924456834793
          },
          {
           "lower": 1.0490126848220824,
           "timepoint": 71,
           "trajectory": "D_sol",
           "upper": 1.0705287218093873
          },
          {
           "lower": 1.103523325920105,
           "timepoint": 72,
           "trajectory": "D_sol",
           "upper": 1.1246454000473023
          },
          {
           "lower": 1.1607720494270324,
           "timepoint": 73,
           "trajectory": "D_sol",
           "upper": 1.181396520137787
          },
          {
           "lower": 1.2208976447582245,
           "timepoint": 74,
           "trajectory": "D_sol",
           "upper": 1.240910679101944
          },
          {
           "lower": 1.2840433537960052,
           "timepoint": 75,
           "trajectory": "D_sol",
           "upper": 1.3033216774463654
          },
          {
           "lower": 1.3503614127635957,
           "timepoint": 76,
           "trajectory": "D_sol",
           "upper": 1.3687711298465728
          },
          {
           "lower": 1.420012402534485,
           "timepoint": 77,
           "trajectory": "D_sol",
           "upper": 1.437406849861145
          },
          {
           "lower": 1.4931567192077637,
           "timepoint": 78,
           "trajectory": "D_sol",
           "upper": 1.5093838691711425
          },
          {
           "lower": 1.5699788749217987,
           "timepoint": 79,
           "trajectory": "D_sol",
           "upper": 1.5848648130893708
          },
          {
           "lower": 1.6506605267524719,
           "timepoint": 80,
           "trajectory": "D_sol",
           "upper": 1.6640202879905701
          },
          {
           "lower": 1.7353933691978454,
           "timepoint": 81,
           "trajectory": "D_sol",
           "upper": 1.747029221057892
          },
          {
           "lower": 1.8243836641311646,
           "timepoint": 82,
           "trajectory": "D_sol",
           "upper": 1.834079098701477
          },
          {
           "lower": 1.9178445875644683,
           "timepoint": 83,
           "trajectory": "D_sol",
           "upper": 1.9253664672374726
          },
          {
           "lower": 2.015999269485474,
           "timepoint": 84,
           "trajectory": "D_sol",
           "upper": 2.0210967540740965
          },
          {
           "lower": 2.119085168838501,
           "timepoint": 85,
           "trajectory": "D_sol",
           "upper": 2.121490144729614
          },
          {
           "lower": 2.226769411563873,
           "timepoint": 86,
           "trajectory": "D_sol",
           "upper": 2.2273481249809266
          },
          {
           "lower": 2.337174618244171,
           "timepoint": 87,
           "trajectory": "D_sol",
           "upper": 2.3410492300987245
          },
          {
           "lower": 2.4529552817344666,
           "timepoint": 88,
           "trajectory": "D_sol",
           "upper": 2.4604661107063293
          },
          {
           "lower": 2.574366903305054,
           "timepoint": 89,
           "trajectory": "D_sol",
           "upper": 2.58587851524353
          },
          {
           "lower": 2.701692283153534,
           "timepoint": 90,
           "trajectory": "D_sol",
           "upper": 2.717591345310211
          },
          {
           "lower": 2.835215616226196,
           "timepoint": 91,
           "trajectory": "D_sol",
           "upper": 2.855918836593628
          },
          {
           "lower": 2.975239300727844,
           "timepoint": 92,
           "trajectory": "D_sol",
           "upper": 3.001194930076599
          },
          {
           "lower": 3.12207909822464,
           "timepoint": 93,
           "trajectory": "D_sol",
           "upper": 3.1537671446800233
          },
          {
           "lower": 3.276065301895142,
           "timepoint": 94,
           "trajectory": "D_sol",
           "upper": 3.3140016078948973
          },
          {
           "lower": 3.43754643201828,
           "timepoint": 95,
           "trajectory": "D_sol",
           "upper": 3.48229318857193
          },
          {
           "lower": 3.606895399093628,
           "timepoint": 96,
           "trajectory": "D_sol",
           "upper": 3.659032392501831
          },
          {
           "lower": 3.7844841718673705,
           "timepoint": 97,
           "trajectory": "D_sol",
           "upper": 3.8446476221084596
          },
          {
           "lower": 3.970718026161194,
           "timepoint": 98,
           "trajectory": "D_sol",
           "upper": 4.0395907163619995
          },
          {
           "lower": 4.166014504432678,
           "timepoint": 99,
           "trajectory": "D_sol",
           "upper": 4.244323420524597
          },
          {
           "lower": 4.370819616317749,
           "timepoint": 100,
           "trajectory": "D_sol",
           "upper": 4.459337663650513
          },
          {
           "lower": 4.585592555999756,
           "timepoint": 101,
           "trajectory": "D_sol",
           "upper": 4.6851527214050295
          },
          {
           "lower": 4.810819411277771,
           "timepoint": 102,
           "trajectory": "D_sol",
           "upper": 4.922309613227844
          },
          {
           "lower": 5.047012519836426,
           "timepoint": 103,
           "trajectory": "D_sol",
           "upper": 5.171376037597656
          },
          {
           "lower": 5.294700646400452,
           "timepoint": 104,
           "trajectory": "D_sol",
           "upper": 5.432948565483093
          },
          {
           "lower": 5.554445290565491,
           "timepoint": 105,
           "trajectory": "D_sol",
           "upper": 5.707670664787292
          },
          {
           "lower": 5.826832723617554,
           "timepoint": 106,
           "trajectory": "D_sol",
           "upper": 5.996184396743774
          },
          {
           "lower": 6.112477946281433,
           "timepoint": 107,
           "trajectory": "D_sol",
           "upper": 6.299188446998596
          },
          {
           "lower": 6.412026643753052,
           "timepoint": 108,
           "trajectory": "D_sol",
           "upper": 6.617406606674194
          },
          {
           "lower": 6.726154065132141,
           "timepoint": 109,
           "trajectory": "D_sol",
           "upper": 6.95160939693451
          },
          {
           "lower": 7.055571722984314,
           "timepoint": 110,
           "trajectory": "D_sol",
           "upper": 7.302595448493958
          },
          {
           "lower": 7.401021790504456,
           "timepoint": 111,
           "trajectory": "D_sol",
           "upper": 7.67120521068573
          },
          {
           "lower": 7.763285803794861,
           "timepoint": 112,
           "trajectory": "D_sol",
           "upper": 8.05833179950714
          },
          {
           "lower": 8.143180990219117,
           "timepoint": 113,
           "trajectory": "D_sol",
           "upper": 8.464894151687622
          },
          {
           "lower": 8.541564798355102,
           "timepoint": 114,
           "trajectory": "D_sol",
           "upper": 8.89187159538269
          },
          {
           "lower": 8.959335899353027,
           "timepoint": 115,
           "trajectory": "D_sol",
           "upper": 9.34029712677002
          },
          {
           "lower": 9.397437477111817,
           "timepoint": 116,
           "trajectory": "D_sol",
           "upper": 9.811234092712402
          },
          {
           "lower": 9.856860780715943,
           "timepoint": 117,
           "trajectory": "D_sol",
           "upper": 10.305817937850952
          },
          {
           "lower": 10.338638925552369,
           "timepoint": 118,
           "trajectory": "D_sol",
           "upper": 10.825241422653198
          },
          {
           "lower": 10.843855237960815,
           "timepoint": 119,
           "trajectory": "D_sol",
           "upper": 11.370741510391236
          },
          {
           "lower": 11.373678350448609,
           "timepoint": 120,
           "trajectory": "D_sol",
           "upper": 11.943631029129028
          },
          {
           "lower": 11.929268503189087,
           "timepoint": 121,
           "trajectory": "D_sol",
           "upper": 12.545286512374878
          },
          {
           "lower": 12.511890888214111,
           "timepoint": 122,
           "trajectory": "D_sol",
           "upper": 13.177138805389404
          },
          {
           "lower": 13.1228581905365,
           "timepoint": 123,
           "trajectory": "D_sol",
           "upper": 13.840714311599731
          },
          {
           "lower": 13.763571882247925,
           "timepoint": 124,
           "trajectory": "D_sol",
           "upper": 14.53759560585022
          },
          {
           "lower": 14.435447788238525,
           "timepoint": 125,
           "trajectory": "D_sol",
           "upper": 15.269483470916748
          },
          {
           "lower": 15.140014791488648,
           "timepoint": 126,
           "trajectory": "D_sol",
           "upper": 16.038098192214967
          },
          {
           "lower": 15.878851556777954,
           "timepoint": 127,
           "trajectory": "D_sol",
           "upper": 16.845299100875856
          },
          {
           "lower": 16.653633975982665,
           "timepoint": 128,
           "trajectory": "D_sol",
           "upper": 17.693024730682374
          },
          {
           "lower": 17.466106796264647,
           "timepoint": 129,
           "trajectory": "D_sol",
           "upper": 18.583251571655275
          },
          {
           "lower": 18.318109130859376,
           "timepoint": 130,
           "trajectory": "D_sol",
           "upper": 19.518186950683592
          },
          {
           "lower": 19.211549949645995,
           "timepoint": 131,
           "trajectory": "D_sol",
           "upper": 20.500043678283692
          },
          {
           "lower": 20.14845199584961,
           "timepoint": 132,
           "trajectory": "D_sol",
           "upper": 21.531170654296876
          },
          {
           "lower": 21.130931091308593,
           "timepoint": 133,
           "trajectory": "D_sol",
           "upper": 22.614037322998048
          },
          {
           "lower": 22.161163425445558,
           "timepoint": 134,
           "trajectory": "D_sol",
           "upper": 23.75123014450073
          },
          {
           "lower": 23.241512298583984,
           "timepoint": 135,
           "trajectory": "D_sol",
           "upper": 24.945491790771484
          },
          {
           "lower": 24.374400329589843,
           "timepoint": 136,
           "trajectory": "D_sol",
           "upper": 26.199662017822266
          },
          {
           "lower": 25.562383270263673,
           "timepoint": 137,
           "trajectory": "D_sol",
           "upper": 27.51674118041992
          },
          {
           "lower": 26.80812339782715,
           "timepoint": 138,
           "trajectory": "D_sol",
           "upper": 28.899899673461913
          },
          {
           "lower": 28.114439296722413,
           "timepoint": 139,
           "trajectory": "D_sol",
           "upper": 30.352428150177
          },
          {
           "lower": 29.48425645828247,
           "timepoint": 140,
           "trajectory": "D_sol",
           "upper": 31.877794551849366
          },
          {
           "lower": 30.920675373077394,
           "timepoint": 141,
           "trajectory": "D_sol",
           "upper": 33.479667568206786
          },
          {
           "lower": 32.4269344329834,
           "timepoint": 142,
           "trajectory": "D_sol",
           "upper": 35.16186408996582
          },
          {
           "lower": 34.006334114074704,
           "timepoint": 143,
           "trajectory": "D_sol",
           "upper": 36.928384971618655
          },
          {
           "lower": 35.6625337600708,
           "timepoint": 144,
           "trajectory": "D_sol",
           "upper": 38.78349208831787
          },
          {
           "lower": 37.39920196533203,
           "timepoint": 145,
           "trajectory": "D_sol",
           "upper": 40.731588745117186
          },
          {
           "lower": 39.2203067779541,
           "timepoint": 146,
           "trajectory": "D_sol",
           "upper": 42.777343368530275
          },
          {
           "lower": 41.12986679077149,
           "timepoint": 147,
           "trajectory": "D_sol",
           "upper": 44.925560760498044
          },
          {
           "lower": 43.13222961425781,
           "timepoint": 148,
           "trajectory": "D_sol",
           "upper": 47.181460571289065
          },
          {
           "lower": 45.231777572631835,
           "timepoint": 149,
           "trajectory": "D_sol",
           "upper": 49.55037269592285
          },
          {
           "lower": 47.43336296081543,
           "timepoint": 150,
           "trajectory": "D_sol",
           "upper": 52.037973403930664
          },
          {
           "lower": 49.74189701080322,
           "timepoint": 151,
           "trajectory": "D_sol",
           "upper": 54.65016613006592
          },
          {
           "lower": 52.16242733001709,
           "timepoint": 152,
           "trajectory": "D_sol",
           "upper": 57.39317951202393
          },
          {
           "lower": 54.70051822662354,
           "timepoint": 153,
           "trajectory": "D_sol",
           "upper": 60.273515129089354
          },
          {
           "lower": 57.36181240081787,
           "timepoint": 154,
           "trajectory": "D_sol",
           "upper": 63.29806537628174
          },
          {
           "lower": 60.15234851837158,
           "timepoint": 155,
           "trajectory": "D_sol",
           "upper": 66.47403621673584
          },
          {
           "lower": 63.07827892303467,
           "timepoint": 156,
           "trajectory": "D_sol",
           "upper": 69.80887088775634
          },
          {
           "lower": 66.14620590209961,
           "timepoint": 157,
           "trajectory": "D_sol",
           "upper": 73.31059646606445
          },
          {
           "lower": 69.36287536621094,
           "timepoint": 158,
           "trajectory": "D_sol",
           "upper": 76.98749694824218
          },
          {
           "lower": 72.73560066223145,
           "timepoint": 159,
           "trajectory": "D_sol",
           "upper": 80.84826927185058
          },
          {
           "lower": 76.2718391418457,
           "timepoint": 160,
           "trajectory": "D_sol",
           "upper": 84.90208053588867
          },
          {
           "lower": 79.97971458435059,
           "timepoint": 161,
           "trajectory": "D_sol",
           "upper": 89.15853767395019
          },
          {
           "lower": 83.86724510192872,
           "timepoint": 162,
           "trajectory": "D_sol",
           "upper": 93.62771186828613
          },
          {
           "lower": 87.9432472229004,
           "timepoint": 163,
           "trajectory": "D_sol",
           "upper": 98.32014999389648
          },
          {
           "lower": 92.21655464172363,
           "timepoint": 164,
           "trajectory": "D_sol",
           "upper": 103.24686241149902
          },
          {
           "lower": 96.69698562622071,
           "timepoint": 165,
           "trajectory": "D_sol",
           "upper": 108.41985092163085
          },
          {
           "lower": 101.39439888000489,
           "timepoint": 166,
           "trajectory": "D_sol",
           "upper": 113.85092430114746
          },
          {
           "lower": 106.31925048828126,
           "timepoint": 167,
           "trajectory": "D_sol",
           "upper": 119.55294189453124
          },
          {
           "lower": 111.48245010375976,
           "timepoint": 168,
           "trajectory": "D_sol",
           "upper": 125.5394157409668
          },
          {
           "lower": 116.89555015563965,
           "timepoint": 169,
           "trajectory": "D_sol",
           "upper": 131.82439765930175
          },
          {
           "lower": 122.57047233581542,
           "timepoint": 170,
           "trajectory": "D_sol",
           "upper": 138.42263832092286
          },
          {
           "lower": 128.51976585388184,
           "timepoint": 171,
           "trajectory": "D_sol",
           "upper": 145.34968757629395
          },
          {
           "lower": 134.75678939819335,
           "timepoint": 172,
           "trajectory": "D_sol",
           "upper": 152.62164382934571
          },
          {
           "lower": 141.29523773193358,
           "timepoint": 173,
           "trajectory": "D_sol",
           "upper": 160.2556350708008
          },
          {
           "lower": 148.1493995666504,
           "timepoint": 174,
           "trajectory": "D_sol",
           "upper": 168.2694999694824
          },
          {
           "lower": 155.33465423583985,
           "timepoint": 175,
           "trajectory": "D_sol",
           "upper": 176.6818862915039
          },
          {
           "lower": 162.86683502197266,
           "timepoint": 176,
           "trajectory": "D_sol",
           "upper": 185.5123764038086
          },
          {
           "lower": 170.7620391845703,
           "timepoint": 177,
           "trajectory": "D_sol",
           "upper": 194.78172302246094
          },
          {
           "lower": 179.0382858276367,
           "timepoint": 178,
           "trajectory": "D_sol",
           "upper": 204.51121368408204
          },
          {
           "lower": 187.71333389282228,
           "timepoint": 179,
           "trajectory": "D_sol",
           "upper": 214.72350997924804
          },
          {
           "lower": 196.8064407348633,
           "timepoint": 180,
           "trajectory": "D_sol",
           "upper": 225.44227752685546
          },
          {
           "lower": 206.33739547729493,
           "timepoint": 181,
           "trajectory": "D_sol",
           "upper": 236.69222183227538
          },
          {
           "lower": 216.32702255249023,
           "timepoint": 182,
           "trajectory": "D_sol",
           "upper": 248.49931716918945
          },
          {
           "lower": 226.7971389770508,
           "timepoint": 183,
           "trajectory": "D_sol",
           "upper": 260.8908187866211
          },
          {
           "lower": 237.77033004760742,
           "timepoint": 184,
           "trajectory": "D_sol",
           "upper": 273.8948463439941
          },
          {
           "lower": 249.27128219604492,
           "timepoint": 185,
           "trajectory": "D_sol",
           "upper": 287.5415382385254
          },
          {
           "lower": 261.3240570068359,
           "timepoint": 186,
           "trajectory": "D_sol",
           "upper": 301.86179504394534
          },
          {
           "lower": 273.95511322021486,
           "timepoint": 187,
           "trajectory": "D_sol",
           "upper": 316.88866729736327
          },
          {
           "lower": 287.1914993286133,
           "timepoint": 188,
           "trajectory": "D_sol",
           "upper": 332.6556991577148
          },
          {
           "lower": 301.06234588623045,
           "timepoint": 189,
           "trajectory": "D_sol",
           "upper": 349.19946441650393
          },
          {
           "lower": 315.59686279296875,
           "timepoint": 190,
           "trajectory": "D_sol",
           "upper": 366.55694580078125
          },
          {
           "lower": 330.8262603759766,
           "timepoint": 191,
           "trajectory": "D_sol",
           "upper": 384.7663299560547
          },
          {
           "lower": 346.78400268554685,
           "timepoint": 192,
           "trajectory": "D_sol",
           "upper": 403.8696228027344
          },
          {
           "lower": 363.50291595458987,
           "timepoint": 193,
           "trajectory": "D_sol",
           "upper": 423.90934600830076
          },
          {
           "lower": 381.0199859619141,
           "timepoint": 194,
           "trajectory": "D_sol",
           "upper": 444.9301483154297
          },
          {
           "lower": 399.37098541259763,
           "timepoint": 195,
           "trajectory": "D_sol",
           "upper": 466.97834930419924
          },
          {
           "lower": 418.5958282470703,
           "timepoint": 196,
           "trajectory": "D_sol",
           "upper": 490.1031463623047
          },
          {
           "lower": 438.73432006835935,
           "timepoint": 197,
           "trajectory": "D_sol",
           "upper": 514.3555236816406
          },
          {
           "lower": 459.82933349609374,
           "timepoint": 198,
           "trajectory": "D_sol",
           "upper": 539.7876098632812
          },
          {
           "lower": 481.9247482299805,
           "timepoint": 199,
           "trajectory": "D_sol",
           "upper": 566.4563858032227
          },
          {
           "lower": 505.06658630371095,
           "timepoint": 200,
           "trajectory": "D_sol",
           "upper": 594.4183380126954
          },
          {
           "lower": 529.3031158447266,
           "timepoint": 201,
           "trajectory": "D_sol",
           "upper": 623.7352752685547
          },
          {
           "lower": 554.684683227539,
           "timepoint": 202,
           "trajectory": "D_sol",
           "upper": 654.4689422607422
          },
          {
           "lower": 581.262939453125,
           "timepoint": 203,
           "trajectory": "D_sol",
           "upper": 686.685546875
          },
          {
           "lower": 609.0921966552735,
           "timepoint": 204,
           "trajectory": "D_sol",
           "upper": 720.4535186767578
          },
          {
           "lower": 638.2319213867188,
           "timepoint": 205,
           "trajectory": "D_sol",
           "upper": 755.8447387695312
          },
          {
           "lower": 668.7382232666016,
           "timepoint": 206,
           "trajectory": "D_sol",
           "upper": 792.9310272216796
          },
          {
           "lower": 700.6734100341797,
           "timepoint": 207,
           "trajectory": "D_sol",
           "upper": 831.792105102539
          },
          {
           "lower": 734.1018646240234,
           "timepoint": 208,
           "trajectory": "D_sol",
           "upper": 872.5064727783204
          },
          {
           "lower": 769.0911224365234,
           "timepoint": 209,
           "trajectory": "D_sol",
           "upper": 915.1597930908204
          },
          {
           "lower": 805.7103668212891,
           "timepoint": 210,
           "trajectory": "D_sol",
           "upper": 959.8349822998047
          },
          {
           "lower": 844.0296081542969,
           "timepoint": 211,
           "trajectory": "D_sol",
           "upper": 1006.6251770019531
          },
          {
           "lower": 884.126821899414,
           "timepoint": 212,
           "trajectory": "D_sol",
           "upper": 1055.6221405029296
          },
          {
           "lower": 926.0784240722656,
           "timepoint": 213,
           "trajectory": "D_sol",
           "upper": 1106.925360107422
          },
          {
           "lower": 969.9661346435547,
           "timepoint": 214,
           "trajectory": "D_sol",
           "upper": 1160.6318267822267
          },
          {
           "lower": 1015.8730926513672,
           "timepoint": 215,
           "trajectory": "D_sol",
           "upper": 1216.847915649414
          },
          {
           "lower": 1063.888165283203,
           "timepoint": 216,
           "trajectory": "D_sol",
           "upper": 1275.6800720214844
          },
          {
           "lower": 1114.0982788085937,
           "timepoint": 217,
           "trajectory": "D_sol",
           "upper": 1337.2396118164063
          },
          {
           "lower": 1166.599383544922,
           "timepoint": 218,
           "trajectory": "D_sol",
           "upper": 1401.6434143066406
          },
          {
           "lower": 1221.4906188964844,
           "timepoint": 219,
           "trajectory": "D_sol",
           "upper": 1469.006329345703
          },
          {
           "lower": 1278.868798828125,
           "timepoint": 220,
           "trajectory": "D_sol",
           "upper": 1539.453955078125
          },
          {
           "lower": 1338.8388793945312,
           "timepoint": 221,
           "trajectory": "D_sol",
           "upper": 1613.1127807617188
          },
          {
           "lower": 1401.5080810546874,
           "timepoint": 222,
           "trajectory": "D_sol",
           "upper": 1690.1105712890626
          },
          {
           "lower": 1466.9871826171875,
           "timepoint": 223,
           "trajectory": "D_sol",
           "upper": 1770.5833740234375
          },
          {
           "lower": 1535.390606689453,
           "timepoint": 224,
           "trajectory": "D_sol",
           "upper": 1854.6661560058594
          },
          {
           "lower": 1606.835711669922,
           "timepoint": 225,
           "trajectory": "D_sol",
           "upper": 1942.5013244628906
          },
          {
           "lower": 1681.4449645996094,
           "timepoint": 226,
           "trajectory": "D_sol",
           "upper": 2034.233868408203
          },
          {
           "lower": 1759.3441223144532,
           "timepoint": 227,
           "trajectory": "D_sol",
           "upper": 2130.0097595214843
          },
          {
           "lower": 1840.6556274414063,
           "timepoint": 228,
           "trajectory": "D_sol",
           "upper": 2229.982312011719
          },
          {
           "lower": 1925.5174499511718,
           "timepoint": 229,
           "trajectory": "D_sol",
           "upper": 2334.3010314941407
          },
          {
           "lower": 2014.0634826660157,
           "timepoint": 230,
           "trajectory": "D_sol",
           "upper": 2443.125848388672
          },
          {
           "lower": 2106.4318115234373,
           "timepoint": 231,
           "trajectory": "D_sol",
           "upper": 2556.6150634765627
          },
          {
           "lower": 2202.7641723632814,
           "timepoint": 232,
           "trajectory": "D_sol",
           "upper": 2674.9348022460936
          },
          {
           "lower": 2303.2077880859374,
           "timepoint": 233,
           "trajectory": "D_sol",
           "upper": 2798.2433837890626
          },
          {
           "lower": 2407.906604003906,
           "timepoint": 234,
           "trajectory": "D_sol",
           "upper": 2926.709362792969
          },
          {
           "lower": 2517.015246582031,
           "timepoint": 235,
           "trajectory": "D_sol",
           "upper": 3060.497692871094
          },
          {
           "lower": 2630.684228515625,
           "timepoint": 236,
           "trajectory": "D_sol",
           "upper": 3199.774267578125
          },
          {
           "lower": 2749.0744506835936,
           "timepoint": 237,
           "trajectory": "D_sol",
           "upper": 3344.7177856445314
          },
          {
           "lower": 2872.3356201171873,
           "timepoint": 238,
           "trajectory": "D_sol",
           "upper": 3495.4832275390627
          },
          {
           "lower": 3000.631945800781,
           "timepoint": 239,
           "trajectory": "D_sol",
           "upper": 3652.250622558594
          },
          {
           "lower": 3134.13408203125,
           "timepoint": 240,
           "trajectory": "D_sol",
           "upper": 3815.17744140625
          },
          {
           "lower": 3272.9917724609377,
           "timepoint": 241,
           "trajectory": "D_sol",
           "upper": 3984.4281494140623
          },
          {
           "lower": 3417.37294921875,
           "timepoint": 242,
           "trajectory": "D_sol",
           "upper": 4160.17880859375
          },
          {
           "lower": 3567.4480590820312,
           "timepoint": 243,
           "trajectory": "D_sol",
           "upper": 4342.574157714844
          },
          {
           "lower": 3723.3739990234376,
           "timepoint": 244,
           "trajectory": "D_sol",
           "upper": 4531.773950195313
          },
          {
           "lower": 3885.3177978515623,
           "timepoint": 245,
           "trajectory": "D_sol",
           "upper": 4727.932690429688
          },
          {
           "lower": 4053.441748046875,
           "timepoint": 246,
           "trajectory": "D_sol",
           "upper": 4931.193994140625
          },
          {
           "lower": 4227.907250976563,
           "timepoint": 247,
           "trajectory": "D_sol",
           "upper": 5141.697729492187
          },
          {
           "lower": 4408.874462890625,
           "timepoint": 248,
           "trajectory": "D_sol",
           "upper": 5359.568896484375
          },
          {
           "lower": 4596.497314453125,
           "timepoint": 249,
           "trajectory": "D_sol",
           "upper": 5584.937255859375
          },
          {
           "lower": 4790.930151367187,
           "timepoint": 250,
           "trajectory": "D_sol",
           "upper": 5817.922875976563
          },
          {
           "lower": 4992.323461914062,
           "timepoint": 251,
           "trajectory": "D_sol",
           "upper": 6058.607690429688
          },
          {
           "lower": 5200.8201904296875,
           "timepoint": 252,
           "trajectory": "D_sol",
           "upper": 6307.1060791015625
          },
          {
           "lower": 5416.5491943359375,
           "timepoint": 253,
           "trajectory": "D_sol",
           "upper": 6563.4844970703125
          },
          {
           "lower": 5639.663037109375,
           "timepoint": 254,
           "trajectory": "D_sol",
           "upper": 6827.829150390625
          },
          {
           "lower": 5870.2650390625,
           "timepoint": 255,
           "trajectory": "D_sol",
           "upper": 7100.16953125
          },
          {
           "lower": 6108.484545898437,
           "timepoint": 256,
           "trajectory": "D_sol",
           "upper": 7380.555004882813
          },
          {
           "lower": 6354.40654296875,
           "timepoint": 257,
           "trajectory": "D_sol",
           "upper": 7669.00068359375
          },
          {
           "lower": 6608.1466796875,
           "timepoint": 258,
           "trajectory": "D_sol",
           "upper": 7965.5154296875
          },
          {
           "lower": 6869.77998046875,
           "timepoint": 259,
           "trajectory": "D_sol",
           "upper": 8270.08330078125
          },
          {
           "lower": 7139.390551757812,
           "timepoint": 260,
           "trajectory": "D_sol",
           "upper": 8582.667553710937
          },
          {
           "lower": 7417.027099609375,
           "timepoint": 261,
           "trajectory": "D_sol",
           "upper": 8903.218017578125
          },
          {
           "lower": 7702.748559570313,
           "timepoint": 262,
           "trajectory": "D_sol",
           "upper": 9231.659155273437
          },
          {
           "lower": 7996.553515625,
           "timepoint": 263,
           "trajectory": "D_sol",
           "upper": 9567.911328125
          },
          {
           "lower": 8298.4849609375,
           "timepoint": 264,
           "trajectory": "D_sol",
           "upper": 9911.8158203125
          },
          {
           "lower": 8608.539306640625,
           "timepoint": 265,
           "trajectory": "D_sol",
           "upper": 10263.278076171875
          },
          {
           "lower": 8926.69521484375,
           "timepoint": 266,
           "trajectory": "D_sol",
           "upper": 10622.12119140625
          },
          {
           "lower": 9252.924658203125,
           "timepoint": 267,
           "trajectory": "D_sol",
           "upper": 10988.164208984375
          },
          {
           "lower": 9587.133837890626,
           "timepoint": 268,
           "trajectory": "D_sol",
           "upper": 11361.206982421874
          },
          {
           "lower": 9929.289013671874,
           "timepoint": 269,
           "trajectory": "D_sol",
           "upper": 11741.012744140626
          },
          {
           "lower": 10279.271142578125,
           "timepoint": 270,
           "trajectory": "D_sol",
           "upper": 12127.341162109375
          },
          {
           "lower": 10636.99541015625,
           "timepoint": 271,
           "trajectory": "D_sol",
           "upper": 12519.91669921875
          },
          {
           "lower": 11002.2876953125,
           "timepoint": 272,
           "trajectory": "D_sol",
           "upper": 12918.4369140625
          },
          {
           "lower": 11375.001953125,
           "timepoint": 273,
           "trajectory": "D_sol",
           "upper": 13322.640625
          },
          {
           "lower": 11754.982421875,
           "timepoint": 274,
           "trajectory": "D_sol",
           "upper": 13732.134765625
          },
          {
           "lower": 12142.004833984374,
           "timepoint": 275,
           "trajectory": "D_sol",
           "upper": 14146.613330078126
          },
          {
           "lower": 12535.836279296875,
           "timepoint": 276,
           "trajectory": "D_sol",
           "upper": 14565.676416015625
          },
          {
           "lower": 12936.2908203125,
           "timepoint": 277,
           "trajectory": "D_sol",
           "upper": 14988.9728515625
          },
          {
           "lower": 13343.054638671874,
           "timepoint": 278,
           "trajectory": "D_sol",
           "upper": 15416.112353515626
          },
          {
           "lower": 13755.86328125,
           "timepoint": 279,
           "trajectory": "D_sol",
           "upper": 15846.640625
          },
          {
           "lower": 14174.413623046876,
           "timepoint": 280,
           "trajectory": "D_sol",
           "upper": 16280.177197265624
          },
          {
           "lower": 14598.380322265624,
           "timepoint": 281,
           "trajectory": "D_sol",
           "upper": 16716.306201171876
          },
          {
           "lower": 15027.456591796876,
           "timepoint": 282,
           "trajectory": "D_sol",
           "upper": 17154.560009765624
          },
          {
           "lower": 15461.26748046875,
           "timepoint": 283,
           "trajectory": "D_sol",
           "upper": 17594.51181640625
          },
          {
           "lower": 15899.456640625,
           "timepoint": 284,
           "trajectory": "D_sol",
           "upper": 18035.719140625
          },
          {
           "lower": 16341.603125,
           "timepoint": 285,
           "trajectory": "D_sol",
           "upper": 18477.725
          },
          {
           "lower": 16787.358203125,
           "timepoint": 286,
           "trajectory": "D_sol",
           "upper": 18920.091015625
          },
          {
           "lower": 17236.31044921875,
           "timepoint": 287,
           "trajectory": "D_sol",
           "upper": 19362.34775390625
          },
          {
           "lower": 17688.02158203125,
           "timepoint": 288,
           "trajectory": "D_sol",
           "upper": 19804.11318359375
          },
          {
           "lower": 18142.1142578125,
           "timepoint": 289,
           "trajectory": "D_sol",
           "upper": 20244.8974609375
          },
          {
           "lower": 18598.07763671875,
           "timepoint": 290,
           "trajectory": "D_sol",
           "upper": 20684.27587890625
          },
          {
           "lower": 19055.57119140625,
           "timepoint": 291,
           "trajectory": "D_sol",
           "upper": 21121.86044921875
          },
          {
           "lower": 19514.0822265625,
           "timepoint": 292,
           "trajectory": "D_sol",
           "upper": 21557.2615234375
          },
          {
           "lower": 19973.22685546875,
           "timepoint": 293,
           "trajectory": "D_sol",
           "upper": 21989.93525390625
          },
          {
           "lower": 20432.5509765625,
           "timepoint": 294,
           "trajectory": "D_sol",
           "upper": 22419.6560546875
          },
          {
           "lower": 20891.61240234375,
           "timepoint": 295,
           "trajectory": "D_sol",
           "upper": 22846.00283203125
          },
          {
           "lower": 21349.989453125,
           "timepoint": 296,
           "trajectory": "D_sol",
           "upper": 23268.627734375
          },
          {
           "lower": 21807.25888671875,
           "timepoint": 297,
           "trajectory": "D_sol",
           "upper": 23687.18837890625
          },
          {
           "lower": 22263,
           "timepoint": 298,
           "trajectory": "D_sol",
           "upper": 24101.35546875
          },
          {
           "lower": 22716.839453125,
           "timepoint": 299,
           "trajectory": "D_sol",
           "upper": 24510.820703125
          },
          {
           "lower": 23168.26171875,
           "timepoint": 300,
           "trajectory": "D_sol",
           "upper": 24915.3515625
          },
          {
           "lower": 23617.02294921875,
           "timepoint": 301,
           "trajectory": "D_sol",
           "upper": 25314.63916015625
          },
          {
           "lower": 24062.66279296875,
           "timepoint": 302,
           "trajectory": "D_sol",
           "upper": 25708.44462890625
          },
          {
           "lower": 24504.89326171875,
           "timepoint": 303,
           "trajectory": "D_sol",
           "upper": 26096.53447265625
          },
          {
           "lower": 24943.25888671875,
           "timepoint": 304,
           "trajectory": "D_sol",
           "upper": 26478.72744140625
          },
          {
           "lower": 25377.5330078125,
           "timepoint": 305,
           "trajectory": "D_sol",
           "upper": 26854.8302734375
          },
          {
           "lower": 25807.36279296875,
           "timepoint": 306,
           "trajectory": "D_sol",
           "upper": 27224.67822265625
          },
          {
           "lower": 26232.465625,
           "timepoint": 307,
           "trajectory": "D_sol",
           "upper": 27588.1046875
          },
          {
           "lower": 26652.55546875,
           "timepoint": 308,
           "trajectory": "D_sol",
           "upper": 27945.01875
          },
          {
           "lower": 27067.37646484375,
           "timepoint": 309,
           "trajectory": "D_sol",
           "upper": 28295.27001953125
          },
          {
           "lower": 27476.6826171875,
           "timepoint": 310,
           "trajectory": "D_sol",
           "upper": 28638.8251953125
          },
          {
           "lower": 27880.270703125,
           "timepoint": 311,
           "trajectory": "D_sol",
           "upper": 28975.549609375
          },
          {
           "lower": 28277.871484375,
           "timepoint": 312,
           "trajectory": "D_sol",
           "upper": 29305.425390625
          },
          {
           "lower": 28669.4564453125,
           "timepoint": 313,
           "trajectory": "D_sol",
           "upper": 29628.4029296875
          },
          {
           "lower": 29054.7078125,
           "timepoint": 314,
           "trajectory": "D_sol",
           "upper": 29944.42109375
          },
          {
           "lower": 29433.53505859375,
           "timepoint": 315,
           "trajectory": "D_sol",
           "upper": 30253.55283203125
          },
          {
           "lower": 29805.800390625,
           "timepoint": 316,
           "trajectory": "D_sol",
           "upper": 30555.711328125
          },
          {
           "lower": 30171.40048828125,
           "timepoint": 317,
           "trajectory": "D_sol",
           "upper": 30850.97255859375
          },
          {
           "lower": 30530.23857421875,
           "timepoint": 318,
           "trajectory": "D_sol",
           "upper": 31139.32587890625
          },
          {
           "lower": 30882.266015625,
           "timepoint": 319,
           "trajectory": "D_sol",
           "upper": 31420.831640625
          },
          {
           "lower": 31227.32783203125,
           "timepoint": 320,
           "trajectory": "D_sol",
           "upper": 31695.53349609375
          },
          {
           "lower": 31565.42509765625,
           "timepoint": 321,
           "trajectory": "D_sol",
           "upper": 31963.45185546875
          },
          {
           "lower": 31896.65361328125,
           "timepoint": 322,
           "trajectory": "D_sol",
           "upper": 32224.78974609375
          },
          {
           "lower": 32220.850390625,
           "timepoint": 323,
           "trajectory": "D_sol",
           "upper": 32479.473828125
          },
          {
           "lower": 32538.05263671875,
           "timepoint": 324,
           "trajectory": "D_sol",
           "upper": 32727.64853515625
          },
          {
           "lower": 32848.2501953125,
           "timepoint": 325,
           "trajectory": "D_sol",
           "upper": 32969.4021484375
          },
          {
           "lower": 33151.4744140625,
           "timepoint": 326,
           "trajectory": "D_sol",
           "upper": 33204.8029296875
          },
          {
           "lower": 33434.053515625,
           "timepoint": 327,
           "trajectory": "D_sol",
           "upper": 33447.813671875
          },
          {
           "lower": 33657.205859375,
           "timepoint": 328,
           "trajectory": "D_sol",
           "upper": 33737.270703125
          },
          {
           "lower": 33874.2111328125,
           "timepoint": 329,
           "trajectory": "D_sol",
           "upper": 34019.8318359375
          },
          {
           "lower": 34085.4154296875,
           "timepoint": 330,
           "trajectory": "D_sol",
           "upper": 34295.6744140625
          },
          {
           "lower": 34290.84140625,
           "timepoint": 331,
           "trajectory": "D_sol",
           "upper": 34564.80703125
          },
          {
           "lower": 34490.6068359375,
           "timepoint": 332,
           "trajectory": "D_sol",
           "upper": 34827.2876953125
          },
          {
           "lower": 34684.8001953125,
           "timepoint": 333,
           "trajectory": "D_sol",
           "upper": 35083.2505859375
          },
          {
           "lower": 34873.684375,
           "timepoint": 334,
           "trajectory": "D_sol",
           "upper": 35332.76875
          },
          {
           "lower": 35057.26015625,
           "timepoint": 335,
           "trajectory": "D_sol",
           "upper": 35575.92734375
          },
          {
           "lower": 35235.6271484375,
           "timepoint": 336,
           "trajectory": "D_sol",
           "upper": 35812.8611328125
          },
          {
           "lower": 35409.0087890625,
           "timepoint": 337,
           "trajectory": "D_sol",
           "upper": 36043.6669921875
          },
          {
           "lower": 35577.4287109375,
           "timepoint": 338,
           "trajectory": "D_sol",
           "upper": 36268.3720703125
          },
          {
           "lower": 35741.0947265625,
           "timepoint": 339,
           "trajectory": "D_sol",
           "upper": 36487.1279296875
          },
          {
           "lower": 35900.0990234375,
           "timepoint": 340,
           "trajectory": "D_sol",
           "upper": 36700.2095703125
          },
          {
           "lower": 36054.5669921875,
           "timepoint": 341,
           "trajectory": "D_sol",
           "upper": 36907.5384765625
          },
          {
           "lower": 36204.6154296875,
           "timepoint": 342,
           "trajectory": "D_sol",
           "upper": 37109.2947265625
          },
          {
           "lower": 36350.3888671875,
           "timepoint": 343,
           "trajectory": "D_sol",
           "upper": 37305.6228515625
          },
          {
           "lower": 36491.9548828125,
           "timepoint": 344,
           "trajectory": "D_sol",
           "upper": 37496.6115234375
          },
          {
           "lower": 36629.505859375,
           "timepoint": 345,
           "trajectory": "D_sol",
           "upper": 37682.400390625
          },
          {
           "lower": 36763.0892578125,
           "timepoint": 346,
           "trajectory": "D_sol",
           "upper": 37863.1177734375
          },
          {
           "lower": 36892.8173828125,
           "timepoint": 347,
           "trajectory": "D_sol",
           "upper": 38038.8583984375
          },
          {
           "lower": 37018.905859375,
           "timepoint": 348,
           "trajectory": "D_sol",
           "upper": 38209.781640625
          },
          {
           "lower": 37141.34375,
           "timepoint": 349,
           "trajectory": "D_sol",
           "upper": 38375.9609375
          },
          {
           "lower": 37260.292578125,
           "timepoint": 350,
           "trajectory": "D_sol",
           "upper": 38537.582421875
          },
          {
           "lower": 37375.8486328125,
           "timepoint": 351,
           "trajectory": "D_sol",
           "upper": 38694.7177734375
          },
          {
           "lower": 37488.1078125,
           "timepoint": 352,
           "trajectory": "D_sol",
           "upper": 38847.5015625
          },
          {
           "lower": 37597.1873046875,
           "timepoint": 353,
           "trajectory": "D_sol",
           "upper": 38996.0509765625
          },
          {
           "lower": 37703.2013671875,
           "timepoint": 354,
           "trajectory": "D_sol",
           "upper": 39140.4978515625
          },
          {
           "lower": 37806.1453125,
           "timepoint": 355,
           "trajectory": "D_sol",
           "upper": 39280.89375
          },
          {
           "lower": 37906.230078125,
           "timepoint": 356,
           "trajectory": "D_sol",
           "upper": 39417.449609375
          },
          {
           "lower": 38003.48359375,
           "timepoint": 357,
           "trajectory": "D_sol",
           "upper": 39550.13359375
          },
          {
           "lower": 38098.022265625,
           "timepoint": 358,
           "trajectory": "D_sol",
           "upper": 39679.188671875
          },
          {
           "lower": 38189.93671875,
           "timepoint": 359,
           "trajectory": "D_sol",
           "upper": 39804.64921875
          },
          {
           "lower": 38279.291796875,
           "timepoint": 360,
           "trajectory": "D_sol",
           "upper": 39926.692578125
          },
          {
           "lower": 38366.1779296875,
           "timepoint": 361,
           "trajectory": "D_sol",
           "upper": 40045.3494140625
          },
          {
           "lower": 38450.6865234375,
           "timepoint": 362,
           "trajectory": "D_sol",
           "upper": 40160.7392578125
          },
          {
           "lower": 38532.8380859375,
           "timepoint": 363,
           "trajectory": "D_sol",
           "upper": 40272.9705078125
          },
          {
           "lower": 38612.8095703125,
           "timepoint": 364,
           "trajectory": "D_sol",
           "upper": 40382.1005859375
          },
          {
           "lower": 38690.515234375,
           "timepoint": 365,
           "trajectory": "D_sol",
           "upper": 40488.258203125
          },
          {
           "lower": 38766.09453125,
           "timepoint": 366,
           "trajectory": "D_sol",
           "upper": 40591.49140625
          },
          {
           "lower": 38839.80625,
           "timepoint": 367,
           "trajectory": "D_sol",
           "upper": 40692.00625
          },
          {
           "lower": 38911.476953125,
           "timepoint": 368,
           "trajectory": "D_sol",
           "upper": 40789.812109375
          },
          {
           "lower": 38981.2130859375,
           "timepoint": 369,
           "trajectory": "D_sol",
           "upper": 40884.8923828125
          },
          {
           "lower": 39049.09140625,
           "timepoint": 370,
           "trajectory": "D_sol",
           "upper": 40977.51015625
          },
          {
           "lower": 39115.260546875,
           "timepoint": 371,
           "trajectory": "D_sol",
           "upper": 41067.536328125
          },
          {
           "lower": 39179.6638671875,
           "timepoint": 372,
           "trajectory": "D_sol",
           "upper": 41155.2306640625
          },
          {
           "lower": 39242.405859375,
           "timepoint": 373,
           "trajectory": "D_sol",
           "upper": 41240.609765625
          },
          {
           "lower": 39303.5205078125,
           "timepoint": 374,
           "trajectory": "D_sol",
           "upper": 41323.6865234375
          },
          {
           "lower": 39363.0939453125,
           "timepoint": 375,
           "trajectory": "D_sol",
           "upper": 41404.6912109375
          },
          {
           "lower": 39421.15625,
           "timepoint": 376,
           "trajectory": "D_sol",
           "upper": 41483.5625
          },
          {
           "lower": 39477.7412109375,
           "timepoint": 377,
           "trajectory": "D_sol",
           "upper": 41560.3095703125
          },
          {
           "lower": 39532.90625,
           "timepoint": 378,
           "trajectory": "D_sol",
           "upper": 41635.0390625
          },
          {
           "lower": 39586.7248046875,
           "timepoint": 379,
           "trajectory": "D_sol",
           "upper": 41708.0212890625
          },
          {
           "lower": 39639.23671875,
           "timepoint": 380,
           "trajectory": "D_sol",
           "upper": 41779.02890625
          },
          {
           "lower": 39690.416796875,
           "timepoint": 381,
           "trajectory": "D_sol",
           "upper": 41848.286328125
          },
          {
           "lower": 39740.3939453125,
           "timepoint": 382,
           "trajectory": "D_sol",
           "upper": 41915.7818359375
          },
          {
           "lower": 39789.1421875,
           "timepoint": 383,
           "trajectory": "D_sol",
           "upper": 41981.584375
          },
          {
           "lower": 39836.7326171875,
           "timepoint": 384,
           "trajectory": "D_sol",
           "upper": 42045.7087890625
          },
          {
           "lower": 39883.216015625,
           "timepoint": 385,
           "trajectory": "D_sol",
           "upper": 42108.346484375
          },
          {
           "lower": 39928.6314453125,
           "timepoint": 386,
           "trajectory": "D_sol",
           "upper": 42169.3958984375
          },
          {
           "lower": 39972.940625,
           "timepoint": 387,
           "trajectory": "D_sol",
           "upper": 42228.9734375
          },
          {
           "lower": 40016.2509765625,
           "timepoint": 388,
           "trajectory": "D_sol",
           "upper": 42287.1513671875
          },
          {
           "lower": 40058.5802734375,
           "timepoint": 389,
           "trajectory": "D_sol",
           "upper": 42343.8455078125
          },
          {
           "lower": 40099.949609375,
           "timepoint": 390,
           "trajectory": "D_sol",
           "upper": 42399.245703125
          },
          {
           "lower": 40140.4017578125,
           "timepoint": 391,
           "trajectory": "D_sol",
           "upper": 42453.3208984375
          },
          {
           "lower": 40179.9439453125,
           "timepoint": 392,
           "trajectory": "D_sol",
           "upper": 42506.1380859375
          },
          {
           "lower": 40218.6294921875,
           "timepoint": 393,
           "trajectory": "D_sol",
           "upper": 42557.7259765625
          },
          {
           "lower": 40256.4728515625,
           "timepoint": 394,
           "trajectory": "D_sol",
           "upper": 42608.1482421875
          },
          {
           "lower": 40293.498828125,
           "timepoint": 395,
           "trajectory": "D_sol",
           "upper": 42657.383984375
          },
          {
           "lower": 40329.726953125,
           "timepoint": 396,
           "trajectory": "D_sol",
           "upper": 42705.523046875
          },
          {
           "lower": 40365.2130859375,
           "timepoint": 397,
           "trajectory": "D_sol",
           "upper": 42752.5720703125
          },
          {
           "lower": 40399.959765625,
           "timepoint": 398,
           "trajectory": "D_sol",
           "upper": 42798.579296875
          },
          {
           "lower": 40434.046875,
           "timepoint": 399,
           "trajectory": "D_sol",
           "upper": 42843.5859375
          },
          {
           "lower": 40467.296484375,
           "timepoint": 400,
           "trajectory": "D_sol",
           "upper": 42887.586328125
          },
          {
           "lower": 40499.9419921875,
           "timepoint": 401,
           "trajectory": "D_sol",
           "upper": 42930.6556640625
          },
          {
           "lower": 40531.935546875,
           "timepoint": 402,
           "trajectory": "D_sol",
           "upper": 42972.798828125
          },
          {
           "lower": 40563.2927734375,
           "timepoint": 403,
           "trajectory": "D_sol",
           "upper": 43014.0314453125
          },
          {
           "lower": 40594.06484375,
           "timepoint": 404,
           "trajectory": "D_sol",
           "upper": 43054.41171875
          },
          {
           "lower": 40624.203515625,
           "timepoint": 405,
           "trajectory": "D_sol",
           "upper": 43093.937109375
          },
          {
           "lower": 40653.815625,
           "timepoint": 406,
           "trajectory": "D_sol",
           "upper": 43132.66875
          },
          {
           "lower": 40682.8111328125,
           "timepoint": 407,
           "trajectory": "D_sol",
           "upper": 43170.5833984375
          },
          {
           "lower": 40711.3412109375,
           "timepoint": 408,
           "trajectory": "D_sol",
           "upper": 43207.7408203125
          },
          {
           "lower": 40739.348046875,
           "timepoint": 409,
           "trajectory": "D_sol",
           "upper": 43244.167578125
          },
          {
           "lower": 40766.76171875,
           "timepoint": 410,
           "trajectory": "D_sol",
           "upper": 43279.87109375
          },
          {
           "lower": 40793.655859375,
           "timepoint": 411,
           "trajectory": "D_sol",
           "upper": 43314.914453125
          },
          {
           "lower": 40820.2166015625,
           "timepoint": 412,
           "trajectory": "D_sol",
           "upper": 43349.1779296875
          },
          {
           "lower": 40846.241796875,
           "timepoint": 413,
           "trajectory": "D_sol",
           "upper": 43382.828515625
          },
          {
           "lower": 40871.8177734375,
           "timepoint": 414,
           "trajectory": "D_sol",
           "upper": 43415.8892578125
          },
          {
           "lower": 40896.966015625,
           "timepoint": 415,
           "trajectory": "D_sol",
           "upper": 43448.346484375
          },
          {
           "lower": 40921.673828125,
           "timepoint": 416,
           "trajectory": "D_sol",
           "upper": 43480.099609375
          },
          {
           "lower": 40945.919921875,
           "timepoint": 417,
           "trajectory": "D_sol",
           "upper": 43511.236328125
          },
          {
           "lower": 40969.8947265625,
           "timepoint": 418,
           "trajectory": "D_sol",
           "upper": 43541.9998046875
          },
          {
           "lower": 40993.4630859375,
           "timepoint": 419,
           "trajectory": "D_sol",
           "upper": 43572.1423828125
          },
          {
           "lower": 41016.56015625,
           "timepoint": 420,
           "trajectory": "D_sol",
           "upper": 43601.69765625
          },
          {
           "lower": 41039.3607421875,
           "timepoint": 421,
           "trajectory": "D_sol",
           "upper": 43630.7525390625
          },
          {
           "lower": 41061.785546875,
           "timepoint": 422,
           "trajectory": "D_sol",
           "upper": 43659.347265625
          },
          {
           "lower": 41083.914453125,
           "timepoint": 423,
           "trajectory": "D_sol",
           "upper": 43687.452734375
          },
          {
           "lower": 41105.634765625,
           "timepoint": 424,
           "trajectory": "D_sol",
           "upper": 43715.037109375
          },
          {
           "lower": 41127.059765625,
           "timepoint": 425,
           "trajectory": "D_sol",
           "upper": 43742.213671875
          },
          {
           "lower": 41148.2076171875,
           "timepoint": 426,
           "trajectory": "D_sol",
           "upper": 43768.9056640625
          },
          {
           "lower": 41169.0091796875,
           "timepoint": 427,
           "trajectory": "D_sol",
           "upper": 43795.2056640625
          },
          {
           "lower": 41189.560546875,
           "timepoint": 428,
           "trajectory": "D_sol",
           "upper": 43821.041015625
          },
          {
           "lower": 41209.783203125,
           "timepoint": 429,
           "trajectory": "D_sol",
           "upper": 43846.466796875
          },
          {
           "lower": 41229.7771484375,
           "timepoint": 430,
           "trajectory": "D_sol",
           "upper": 43871.5548828125
          },
          {
           "lower": 41249.473046875,
           "timepoint": 431,
           "trajectory": "D_sol",
           "upper": 43896.253515625
          },
          {
           "lower": 41268.921484375,
           "timepoint": 432,
           "trajectory": "D_sol",
           "upper": 43920.539453125
          },
          {
           "lower": 41288.117578125,
           "timepoint": 433,
           "trajectory": "D_sol",
           "upper": 43944.460546875
          },
          {
           "lower": 41307.053125,
           "timepoint": 434,
           "trajectory": "D_sol",
           "upper": 43968.071875
          },
          {
           "lower": 41325.7583984375,
           "timepoint": 435,
           "trajectory": "D_sol",
           "upper": 43991.3158203125
          },
          {
           "lower": 41344.2404296875,
           "timepoint": 436,
           "trajectory": "D_sol",
           "upper": 44014.2556640625
          },
          {
           "lower": 41362.4919921875,
           "timepoint": 437,
           "trajectory": "D_sol",
           "upper": 44036.8947265625
          },
          {
           "lower": 41380.530859375,
           "timepoint": 438,
           "trajectory": "D_sol",
           "upper": 44059.148828125
          },
          {
           "lower": 41398.360546875,
           "timepoint": 439,
           "trajectory": "D_sol",
           "upper": 44081.155078125
          },
          {
           "lower": 41415.9767578125,
           "timepoint": 440,
           "trajectory": "D_sol",
           "upper": 44102.8318359375
          },
          {
           "lower": 41433.4009765625,
           "timepoint": 441,
           "trajectory": "D_sol",
           "upper": 44124.2357421875
          },
          {
           "lower": 41450.626171875,
           "timepoint": 442,
           "trajectory": "D_sol",
           "upper": 44145.373828125
          },
          {
           "lower": 41467.6884765625,
           "timepoint": 443,
           "trajectory": "D_sol",
           "upper": 44166.2294921875
          },
          {
           "lower": 41484.6421875,
           "timepoint": 444,
           "trajectory": "D_sol",
           "upper": 44186.85
          },
          {
           "lower": 41501.2296875,
           "timepoint": 445,
           "trajectory": "D_sol",
           "upper": 44207.1921875
          },
          {
           "lower": 41517.7234375,
           "timepoint": 446,
           "trajectory": "D_sol",
           "upper": 44227.3
          },
          {
           "lower": 41534.1111328125,
           "timepoint": 447,
           "trajectory": "D_sol",
           "upper": 44247.1505859375
          },
          {
           "lower": 41550.3107421875,
           "timepoint": 448,
           "trajectory": "D_sol",
           "upper": 44266.8025390625
          },
          {
           "lower": 41566.3564453125,
           "timepoint": 449,
           "trajectory": "D_sol",
           "upper": 44286.2021484375
          },
          {
           "lower": 41582.2662109375,
           "timepoint": 450,
           "trajectory": "D_sol",
           "upper": 44305.3392578125
          },
          {
           "lower": 41598.005078125,
           "timepoint": 451,
           "trajectory": "D_sol",
           "upper": 44324.393359375
          },
          {
           "lower": 41613.623046875,
           "timepoint": 452,
           "trajectory": "D_sol",
           "upper": 44343.189453125
          },
          {
           "lower": 41629.1095703125,
           "timepoint": 453,
           "trajectory": "D_sol",
           "upper": 44361.7380859375
          },
          {
           "lower": 41644.445703125,
           "timepoint": 454,
           "trajectory": "D_sol",
           "upper": 44380.101171875
          },
          {
           "lower": 41659.677734375,
           "timepoint": 455,
           "trajectory": "D_sol",
           "upper": 44398.314453125
          },
          {
           "lower": 41674.7595703125,
           "timepoint": 456,
           "trajectory": "D_sol",
           "upper": 44416.3458984375
          },
          {
           "lower": 41689.6896484375,
           "timepoint": 457,
           "trajectory": "D_sol",
           "upper": 44434.1658203125
          },
          {
           "lower": 41704.6123046875,
           "timepoint": 458,
           "trajectory": "D_sol",
           "upper": 44451.8447265625
          },
          {
           "lower": 41719.346875,
           "timepoint": 459,
           "trajectory": "D_sol",
           "upper": 44469.325
          },
          {
           "lower": 41734.019140625,
           "timepoint": 460,
           "trajectory": "D_sol",
           "upper": 44486.676171875
          },
          {
           "lower": 41748.5673828125,
           "timepoint": 461,
           "trajectory": "D_sol",
           "upper": 44503.8505859375
          },
          {
           "lower": 41763.0232421875,
           "timepoint": 462,
           "trajectory": "D_sol",
           "upper": 44520.8869140625
          },
          {
           "lower": 41777.37109375,
           "timepoint": 463,
           "trajectory": "D_sol",
           "upper": 44537.76953125
          },
          {
           "lower": 41791.6412109375,
           "timepoint": 464,
           "trajectory": "D_sol",
           "upper": 44554.5111328125
          },
          {
           "lower": 41805.808984375,
           "timepoint": 465,
           "trajectory": "D_sol",
           "upper": 44571.136328125
          },
          {
           "lower": 41819.919921875,
           "timepoint": 466,
           "trajectory": "D_sol",
           "upper": 44587.595703125
          },
          {
           "lower": 41834.0126953125,
           "timepoint": 467,
           "trajectory": "D_sol",
           "upper": 44603.9208984375
          },
          {
           "lower": 41847.8384765625,
           "timepoint": 468,
           "trajectory": "D_sol",
           "upper": 44620.1654296875
          },
          {
           "lower": 41861.6869140625,
           "timepoint": 469,
           "trajectory": "D_sol",
           "upper": 44636.2779296875
          },
          {
           "lower": 41875.4841796875,
           "timepoint": 470,
           "trajectory": "D_sol",
           "upper": 44652.2619140625
          },
          {
           "lower": 41889.209765625,
           "timepoint": 471,
           "trajectory": "D_sol",
           "upper": 44668.149609375
          },
          {
           "lower": 41902.8728515625,
           "timepoint": 472,
           "trajectory": "D_sol",
           "upper": 44683.9748046875
          },
          {
           "lower": 41916.43515625,
           "timepoint": 473,
           "trajectory": "D_sol",
           "upper": 44699.57265625
          },
          {
           "lower": 41929.9099609375,
           "timepoint": 474,
           "trajectory": "D_sol",
           "upper": 44715.1251953125
          },
          {
           "lower": 41943.4478515625,
           "timepoint": 475,
           "trajectory": "D_sol",
           "upper": 44730.6107421875
          },
          {
           "lower": 41956.8765625,
           "timepoint": 476,
           "trajectory": "D_sol",
           "upper": 44745.990625
          },
          {
           "lower": 41970.2712890625,
           "timepoint": 477,
           "trajectory": "D_sol",
           "upper": 44761.2873046875
          },
          {
           "lower": 41983.5486328125,
           "timepoint": 478,
           "trajectory": "D_sol",
           "upper": 44776.4630859375
          },
          {
           "lower": 41996.79453125,
           "timepoint": 479,
           "trajectory": "D_sol",
           "upper": 44791.53359375
          },
          {
           "lower": 42010.06015625,
           "timepoint": 480,
           "trajectory": "D_sol",
           "upper": 44806.62734375
          },
          {
           "lower": 42023.253125,
           "timepoint": 481,
           "trajectory": "D_sol",
           "upper": 44821.60625
          },
          {
           "lower": 42036.414453125,
           "timepoint": 482,
           "trajectory": "D_sol",
           "upper": 44836.476171875
          },
          {
           "lower": 42049.5283203125,
           "timepoint": 483,
           "trajectory": "D_sol",
           "upper": 44851.2880859375
          },
          {
           "lower": 42062.602734375,
           "timepoint": 484,
           "trajectory": "D_sol",
           "upper": 44866.053515625
          },
          {
           "lower": 42075.6173828125,
           "timepoint": 485,
           "trajectory": "D_sol",
           "upper": 44880.7380859375
          },
          {
           "lower": 42088.7,
           "timepoint": 486,
           "trajectory": "D_sol",
           "upper": 44895.378125
          },
          {
           "lower": 42101.690625,
           "timepoint": 487,
           "trajectory": "D_sol",
           "upper": 44909.9578125
          },
          {
           "lower": 42114.6107421875,
           "timepoint": 488,
           "trajectory": "D_sol",
           "upper": 44924.4634765625
          },
          {
           "lower": 42127.65703125,
           "timepoint": 489,
           "trajectory": "D_sol",
           "upper": 44938.97578125
          },
          {
           "lower": 42140.603125,
           "timepoint": 490,
           "trajectory": "D_sol",
           "upper": 44953.3421875
          },
          {
           "lower": 42153.53515625,
           "timepoint": 491,
           "trajectory": "D_sol",
           "upper": 44967.72265625
          },
          {
           "lower": 42166.446875,
           "timepoint": 492,
           "trajectory": "D_sol",
           "upper": 44982.06875
          },
          {
           "lower": 42179.35,
           "timepoint": 493,
           "trajectory": "D_sol",
           "upper": 44996.321875
          },
          {
           "lower": 42192.2361328125,
           "timepoint": 494,
           "trajectory": "D_sol",
           "upper": 45010.5333984375
          },
          {
           "lower": 42205.1390625,
           "timepoint": 495,
           "trajectory": "D_sol",
           "upper": 45024.6421875
          },
          {
           "lower": 42218.0388671875,
           "timepoint": 496,
           "trajectory": "D_sol",
           "upper": 45038.9728515625
          },
          {
           "lower": 42230.92578125,
           "timepoint": 497,
           "trajectory": "D_sol",
           "upper": 45053.12890625
          },
          {
           "lower": 42243.8109375,
           "timepoint": 498,
           "trajectory": "D_sol",
           "upper": 45067.2515625
          },
          {
           "lower": 42256.705859375,
           "timepoint": 499,
           "trajectory": "D_sol",
           "upper": 45081.348828125
          },
          {
           "lower": 42269.6029296875,
           "timepoint": 500,
           "trajectory": "D_sol",
           "upper": 45095.4166015625
          },
          {
           "lower": 42282.5296875,
           "timepoint": 501,
           "trajectory": "D_sol",
           "upper": 45109.4859375
          },
          {
           "lower": 42295.425,
           "timepoint": 502,
           "trajectory": "D_sol",
           "upper": 45123.5203125
          },
          {
           "lower": 42308.35546875,
           "timepoint": 503,
           "trajectory": "D_sol",
           "upper": 45137.51953125
          },
          {
           "lower": 42321.303125,
           "timepoint": 504,
           "trajectory": "D_sol",
           "upper": 45151.5640625
          },
          {
           "lower": 42334.2705078125,
           "timepoint": 505,
           "trajectory": "D_sol",
           "upper": 45165.5615234375
          },
          {
           "lower": 42347.233984375,
           "timepoint": 506,
           "trajectory": "D_sol",
           "upper": 45179.555078125
          },
          {
           "lower": 42360.2265625,
           "timepoint": 507,
           "trajectory": "D_sol",
           "upper": 45193.5390625
          },
          {
           "lower": 42373.2271484375,
           "timepoint": 508,
           "trajectory": "D_sol",
           "upper": 45207.5345703125
          },
          {
           "lower": 42386.3005859375,
           "timepoint": 509,
           "trajectory": "D_sol",
           "upper": 45221.5080078125
          },
          {
           "lower": 42399.37265625,
           "timepoint": 510,
           "trajectory": "D_sol",
           "upper": 45235.45546875
          },
          {
           "lower": 42412.4533203125,
           "timepoint": 511,
           "trajectory": "D_sol",
           "upper": 45249.4958984375
          },
          {
           "lower": 42425.624609375,
           "timepoint": 512,
           "trajectory": "D_sol",
           "upper": 45263.500390625
          },
          {
           "lower": 42438.8001953125,
           "timepoint": 513,
           "trajectory": "D_sol",
           "upper": 45277.5162109375
          },
          {
           "lower": 42452.047265625,
           "timepoint": 514,
           "trajectory": "D_sol",
           "upper": 45291.554296875
          },
          {
           "lower": 42465.3619140625,
           "timepoint": 515,
           "trajectory": "D_sol",
           "upper": 45305.6107421875
          },
          {
           "lower": 42478.5396484375,
           "timepoint": 516,
           "trajectory": "D_sol",
           "upper": 45319.5970703125
          },
          {
           "lower": 42491.858203125,
           "timepoint": 517,
           "trajectory": "D_sol",
           "upper": 45333.657421875
          },
          {
           "lower": 42505.2513671875,
           "timepoint": 518,
           "trajectory": "D_sol",
           "upper": 45347.7291015625
          },
          {
           "lower": 42518.6771484375,
           "timepoint": 519,
           "trajectory": "D_sol",
           "upper": 45361.8580078125
          },
          {
           "lower": 42532.14765625,
           "timepoint": 520,
           "trajectory": "D_sol",
           "upper": 45375.99296875
          },
          {
           "lower": 42545.691015625,
           "timepoint": 521,
           "trajectory": "D_sol",
           "upper": 45390.176171875
          },
          {
           "lower": 42559.28125,
           "timepoint": 522,
           "trajectory": "D_sol",
           "upper": 45404.3359375
          },
          {
           "lower": 42572.926953125,
           "timepoint": 523,
           "trajectory": "D_sol",
           "upper": 45418.565234375
          },
          {
           "lower": 42586.622265625,
           "timepoint": 524,
           "trajectory": "D_sol",
           "upper": 45432.823046875
          },
          {
           "lower": 42600.381640625,
           "timepoint": 525,
           "trajectory": "D_sol",
           "upper": 45447.102734375
          },
          {
           "lower": 42614.1994140625,
           "timepoint": 526,
           "trajectory": "D_sol",
           "upper": 45461.4373046875
          },
          {
           "lower": 42628.109375,
           "timepoint": 527,
           "trajectory": "D_sol",
           "upper": 45475.8359375
          },
          {
           "lower": 42642.0775390625,
           "timepoint": 528,
           "trajectory": "D_sol",
           "upper": 45490.2154296875
          },
          {
           "lower": 42656.1203125,
           "timepoint": 529,
           "trajectory": "D_sol",
           "upper": 45504.6765625
          },
          {
           "lower": 42670.2171875,
           "timepoint": 530,
           "trajectory": "D_sol",
           "upper": 45519.18125
          },
          {
           "lower": 42684.40234375,
           "timepoint": 531,
           "trajectory": "D_sol",
           "upper": 45533.74609375
          },
          {
           "lower": 42698.6568359375,
           "timepoint": 532,
           "trajectory": "D_sol",
           "upper": 45548.3626953125
          },
          {
           "lower": 42713.0158203125,
           "timepoint": 533,
           "trajectory": "D_sol",
           "upper": 45563.0662109375
          },
          {
           "lower": 42727.4478515625,
           "timepoint": 534,
           "trajectory": "D_sol",
           "upper": 45577.7513671875
          },
          {
           "lower": 42741.963671875,
           "timepoint": 535,
           "trajectory": "D_sol",
           "upper": 45592.551953125
          },
          {
           "lower": 42756.5623046875,
           "timepoint": 536,
           "trajectory": "D_sol",
           "upper": 45607.4494140625
          },
          {
           "lower": 42771.2244140625,
           "timepoint": 537,
           "trajectory": "D_sol",
           "upper": 45622.2873046875
          },
          {
           "lower": 42786.064453125,
           "timepoint": 538,
           "trajectory": "D_sol",
           "upper": 45637.271484375
          },
          {
           "lower": 42800.9419921875,
           "timepoint": 539,
           "trajectory": "D_sol",
           "upper": 45652.3353515625
          },
          {
           "lower": 42815.9099609375,
           "timepoint": 540,
           "trajectory": "D_sol",
           "upper": 45667.4298828125
          },
          {
           "lower": 42831.0423828125,
           "timepoint": 541,
           "trajectory": "D_sol",
           "upper": 45682.6255859375
          },
          {
           "lower": 42846.2638671875,
           "timepoint": 542,
           "trajectory": "D_sol",
           "upper": 45697.8962890625
          },
          {
           "lower": 42861.54140625,
           "timepoint": 543,
           "trajectory": "D_sol",
           "upper": 45713.24765625
          },
          {
           "lower": 42876.9541015625,
           "timepoint": 544,
           "trajectory": "D_sol",
           "upper": 45728.7060546875
          },
          {
           "lower": 42892.4421875,
           "timepoint": 545,
           "trajectory": "D_sol",
           "upper": 45744.190625
          },
          {
           "lower": 42908.1408203125,
           "timepoint": 546,
           "trajectory": "D_sol",
           "upper": 45759.8083984375
          },
          {
           "lower": 42923.9185546875,
           "timepoint": 547,
           "trajectory": "D_sol",
           "upper": 45775.5228515625
          },
          {
           "lower": 42939.8580078125,
           "timepoint": 548,
           "trajectory": "D_sol",
           "upper": 45791.2865234375
          },
          {
           "lower": 42955.8111328125,
           "timepoint": 549,
           "trajectory": "D_sol",
           "upper": 45807.1693359375
          },
          {
           "lower": 42971.94921875,
           "timepoint": 550,
           "trajectory": "D_sol",
           "upper": 45823.19140625
          },
          {
           "lower": 42988.2361328125,
           "timepoint": 551,
           "trajectory": "D_sol",
           "upper": 45839.2287109375
          },
          {
           "lower": 43004.6390625,
           "timepoint": 552,
           "trajectory": "D_sol",
           "upper": 45855.43125
          },
          {
           "lower": 43021.162890625,
           "timepoint": 553,
           "trajectory": "D_sol",
           "upper": 45871.751171875
          },
          {
           "lower": 43037.88828125,
           "timepoint": 554,
           "trajectory": "D_sol",
           "upper": 45888.10390625
          },
          {
           "lower": 43054.7474609375,
           "timepoint": 555,
           "trajectory": "D_sol",
           "upper": 45904.6080078125
          },
          {
           "lower": 43071.8103515625,
           "timepoint": 556,
           "trajectory": "D_sol",
           "upper": 45921.2560546875
          },
          {
           "lower": 43088.8560546875,
           "timepoint": 557,
           "trajectory": "D_sol",
           "upper": 45937.9994140625
          },
          {
           "lower": 43106.1525390625,
           "timepoint": 558,
           "trajectory": "D_sol",
           "upper": 45954.8669921875
          },
          {
           "lower": 43123.59609375,
           "timepoint": 559,
           "trajectory": "D_sol",
           "upper": 45971.85703125
          },
          {
           "lower": 43141.2095703125,
           "timepoint": 560,
           "trajectory": "D_sol",
           "upper": 45988.9818359375
          },
          {
           "lower": 43158.980078125,
           "timepoint": 561,
           "trajectory": "D_sol",
           "upper": 46006.277734375
          },
          {
           "lower": 43176.941015625,
           "timepoint": 562,
           "trajectory": "D_sol",
           "upper": 46023.605859375
          },
          {
           "lower": 43195.0439453125,
           "timepoint": 563,
           "trajectory": "D_sol",
           "upper": 46041.1005859375
          },
          {
           "lower": 43213.3607421875,
           "timepoint": 564,
           "trajectory": "D_sol",
           "upper": 46058.7212890625
          },
          {
           "lower": 43231.841796875,
           "timepoint": 565,
           "trajectory": "D_sol",
           "upper": 46076.580078125
          },
          {
           "lower": 43250.4904296875,
           "timepoint": 566,
           "trajectory": "D_sol",
           "upper": 46094.5291015625
          },
          {
           "lower": 43269.36171875,
           "timepoint": 567,
           "trajectory": "D_sol",
           "upper": 46112.63046875
          },
          {
           "lower": 43288.4072265625,
           "timepoint": 568,
           "trajectory": "D_sol",
           "upper": 46130.8779296875
          },
          {
           "lower": 3.7144373514486075e-12,
           "timepoint": 0,
           "trajectory": "H_sol",
           "upper": 4.036073818908248e-12
          },
          {
           "lower": 0.02906000576913357,
           "timepoint": 1,
           "trajectory": "H_sol",
           "upper": 0.03164470978081226
          },
          {
           "lower": 0.046858695708215235,
           "timepoint": 2,
           "trajectory": "H_sol",
           "upper": 0.05111907292157412
          },
          {
           "lower": 0.05833319053053856,
           "timepoint": 3,
           "trajectory": "H_sol",
           "upper": 0.06372326388955116
          },
          {
           "lower": 0.06630864180624485,
           "timepoint": 4,
           "trajectory": "H_sol",
           "upper": 0.0724980067461729
          },
          {
           "lower": 0.07239796109497547,
           "timepoint": 5,
           "trajectory": "H_sol",
           "upper": 0.07918513678014279
          },
          {
           "lower": 0.07752002887427807,
           "timepoint": 6,
           "trajectory": "H_sol",
           "upper": 0.0847817275673151
          },
          {
           "lower": 0.08219692707061768,
           "timepoint": 7,
           "trajectory": "H_sol",
           "upper": 0.08985809385776519
          },
          {
           "lower": 0.08672659918665886,
           "timepoint": 8,
           "trajectory": "H_sol",
           "upper": 0.09474172368645668
          },
          {
           "lower": 0.09127924479544162,
           "timepoint": 9,
           "trajectory": "H_sol",
           "upper": 0.09962102882564068
          },
          {
           "lower": 0.09595328159630298,
           "timepoint": 10,
           "trajectory": "H_sol",
           "upper": 0.10460641644895077
          },
          {
           "lower": 0.10080798491835594,
           "timepoint": 11,
           "trajectory": "H_sol",
           "upper": 0.10976451113820077
          },
          {
           "lower": 0.10588048435747624,
           "timepoint": 12,
           "trajectory": "H_sol",
           "upper": 0.11513719670474529
          },
          {
           "lower": 0.11119631119072437,
           "timepoint": 13,
           "trajectory": "H_sol",
           "upper": 0.12075305543839931
          },
          {
           "lower": 0.11677509546279907,
           "timepoint": 14,
           "trajectory": "H_sol",
           "upper": 0.12663355469703674
          },
          {
           "lower": 0.12263316437602043,
           "timepoint": 15,
           "trajectory": "H_sol",
           "upper": 0.13279668465256692
          },
          {
           "lower": 0.12878622561693193,
           "timepoint": 16,
           "trajectory": "H_sol",
           "upper": 0.13925818651914595
          },
          {
           "lower": 0.13524965569376945,
           "timepoint": 17,
           "trajectory": "H_sol",
           "upper": 0.14603421464562416
          },
          {
           "lower": 0.1420389212667942,
           "timepoint": 18,
           "trajectory": "H_sol",
           "upper": 0.15314049050211906
          },
          {
           "lower": 0.1491702489554882,
           "timepoint": 19,
           "trajectory": "H_sol",
           "upper": 0.16059295907616616
          },
          {
           "lower": 0.15666064620018005,
           "timepoint": 20,
           "trajectory": "H_sol",
           "upper": 0.16840872168540955
          },
          {
           "lower": 0.16452781185507775,
           "timepoint": 21,
           "trajectory": "H_sol",
           "upper": 0.17660541012883185
          },
          {
           "lower": 0.17279098108410834,
           "timepoint": 22,
           "trajectory": "H_sol",
           "upper": 0.1852014146745205
          },
          {
           "lower": 0.18146933540701865,
           "timepoint": 23,
           "trajectory": "H_sol",
           "upper": 0.1942162521183491
          },
          {
           "lower": 0.19058406054973603,
           "timepoint": 24,
           "trajectory": "H_sol",
           "upper": 0.20366970002651213
          },
          {
           "lower": 0.20015672892332076,
           "timepoint": 25,
           "trajectory": "H_sol",
           "upper": 0.21358378678560258
          },
          {
           "lower": 0.2102104350924492,
           "timepoint": 26,
           "trajectory": "H_sol",
           "upper": 0.22398076206445694
          },
          {
           "lower": 0.22076914459466934,
           "timepoint": 27,
           "trajectory": "H_sol",
           "upper": 0.23488333076238632
          },
          {
           "lower": 0.23185835555195808,
           "timepoint": 28,
           "trajectory": "H_sol",
           "upper": 0.2463170312345028
          },
          {
           "lower": 0.24350462704896927,
           "timepoint": 29,
           "trajectory": "H_sol",
           "upper": 0.2583074435591698
          },
          {
           "lower": 0.2557360827922821,
           "timepoint": 30,
           "trajectory": "H_sol",
           "upper": 0.27088144421577454
          },
          {
           "lower": 0.26858188211917877,
           "timepoint": 31,
           "trajectory": "H_sol",
           "upper": 0.28406761586666107
          },
          {
           "lower": 0.2820729032158852,
           "timepoint": 32,
           "trajectory": "H_sol",
           "upper": 0.2978958174586296
          },
          {
           "lower": 0.29624130576848984,
           "timepoint": 33,
           "trajectory": "H_sol",
           "upper": 0.31239718943834305
          },
          {
           "lower": 0.3111224308609962,
           "timepoint": 34,
           "trajectory": "H_sol",
           "upper": 0.3276043102145195
          },
          {
           "lower": 0.32675051391124726,
           "timepoint": 35,
           "trajectory": "H_sol",
           "upper": 0.34355181753635405
          },
          {
           "lower": 0.34316360801458357,
           "timepoint": 36,
           "trajectory": "H_sol",
           "upper": 0.36027553826570513
          },
          {
           "lower": 0.36040143072605135,
           "timepoint": 37,
           "trajectory": "H_sol",
           "upper": 0.37781395614147184
          },
          {
           "lower": 0.37850498110055925,
           "timepoint": 38,
           "trajectory": "H_sol",
           "upper": 0.39620576351881026
          },
          {
           "lower": 0.397517965734005,
           "timepoint": 39,
           "trajectory": "H_sol",
           "upper": 0.4154928162693977
          },
          {
           "lower": 0.4174861565232277,
           "timepoint": 40,
           "trajectory": "H_sol",
           "upper": 0.435719196498394
          },
          {
           "lower": 0.43845732510089874,
           "timepoint": 41,
           "trajectory": "H_sol",
           "upper": 0.4569299668073654
          },
          {
           "lower": 0.46048186272382735,
           "timepoint": 42,
           "trajectory": "H_sol",
           "upper": 0.47917329221963884
          },
          {
           "lower": 0.4836126446723938,
           "timepoint": 43,
           "trajectory": "H_sol",
           "upper": 0.5024994730949401
          },
          {
           "lower": 0.5079060763120651,
           "timepoint": 44,
           "trajectory": "H_sol",
           "upper": 0.5269615083932877
          },
          {
           "lower": 0.5334194719791412,
           "timepoint": 45,
           "trajectory": "H_sol",
           "upper": 0.5526141107082367
          },
          {
           "lower": 0.560214614868164,
           "timepoint": 46,
           "trajectory": "H_sol",
           "upper": 0.5795153617858887
          },
          {
           "lower": 0.5883555501699448,
           "timepoint": 47,
           "trajectory": "H_sol",
           "upper": 0.6077266246080398
          },
          {
           "lower": 0.6179103165864944,
           "timepoint": 48,
           "trajectory": "H_sol",
           "upper": 0.6373111099004746
          },
          {
           "lower": 0.6489501416683197,
           "timepoint": 49,
           "trajectory": "H_sol",
           "upper": 0.6683357536792756
          },
          {
           "lower": 0.6815481722354889,
           "timepoint": 50,
           "trajectory": "H_sol",
           "upper": 0.7008706986904144
          },
          {
           "lower": 0.7157844334840775,
           "timepoint": 51,
           "trajectory": "H_sol",
           "upper": 0.7349901765584945
          },
          {
           "lower": 0.7517405241727829,
           "timepoint": 52,
           "trajectory": "H_sol",
           "upper": 0.7707704216241836
          },
          {
           "lower": 0.7895027786493302,
           "timepoint": 53,
           "trajectory": "H_sol",
           "upper": 0.8082928866147995
          },
          {
           "lower": 0.8291619539260864,
           "timepoint": 54,
           "trajectory": "H_sol",
           "upper": 0.8476404428482056
          },
          {
           "lower": 0.8708134204149246,
           "timepoint": 55,
           "trajectory": "H_sol",
           "upper": 0.8889042228460312
          },
          {
           "lower": 0.9145570784807205,
           "timepoint": 56,
           "trajectory": "H_sol",
           "upper": 0.9321766704320907
          },
          {
           "lower": 0.9604987770318985,
           "timepoint": 57,
           "trajectory": "H_sol",
           "upper": 0.9775570362806321
          },
          {
           "lower": 1.0087479293346404,
           "timepoint": 58,
           "trajectory": "H_sol",
           "upper": 1.0251457750797273
          },
          {
           "lower": 1.0594213128089904,
           "timepoint": 59,
           "trajectory": "H_sol",
           "upper": 1.0750512957572937
          },
          {
           "lower": 1.112641406059265,
           "timepoint": 60,
           "trajectory": "H_sol",
           "upper": 1.1273862600326539
          },
          {
           "lower": 1.1685314536094666,
           "timepoint": 61,
           "trajectory": "H_sol",
           "upper": 1.1822692990303039
          },
          {
           "lower": 1.2272316634654998,
           "timepoint": 62,
           "trajectory": "H_sol",
           "upper": 1.2398237764835358
          },
          {
           "lower": 1.2888819396495819,
           "timepoint": 63,
           "trajectory": "H_sol",
           "upper": 1.3001801550388337
          },
          {
           "lower": 1.3536240994930266,
           "timepoint": 64,
           "trajectory": "H_sol",
           "upper": 1.3634752094745637
          },
          {
           "lower": 1.4216218292713165,
           "timepoint": 65,
           "trajectory": "H_sol",
           "upper": 1.42985138297081
          },
          {
           "lower": 1.4930359840393066,
           "timepoint": 66,
           "trajectory": "H_sol",
           "upper": 1.4994595527648926
          },
          {
           "lower": 1.5680357813835144,
           "timepoint": 67,
           "trajectory": "H_sol",
           "upper": 1.5724571347236633
          },
          {
           "lower": 1.64680415391922,
           "timepoint": 68,
           "trajectory": "H_sol",
           "upper": 1.6490046381950378
          },
          {
           "lower": 1.7292810201644897,
           "timepoint": 69,
           "trajectory": "H_sol",
           "upper": 1.729529070854187
          },
          {
           "lower": 1.8134652078151703,
           "timepoint": 70,
           "trajectory": "H_sol",
           "upper": 1.8164086639881134
          },
          {
           "lower": 1.9017478048801422,
           "timepoint": 71,
           "trajectory": "H_sol",
           "upper": 1.9076547801494599
          },
          {
           "lower": 1.9943280935287475,
           "timepoint": 72,
           "trajectory": "H_sol",
           "upper": 2.0034832239151
          },
          {
           "lower": 2.0914157390594483,
           "timepoint": 73,
           "trajectory": "H_sol",
           "upper": 2.1041246891021728
          },
          {
           "lower": 2.193230926990509,
           "timepoint": 74,
           "trajectory": "H_sol",
           "upper": 2.2098230719566345
          },
          {
           "lower": 2.2999983191490174,
           "timepoint": 75,
           "trajectory": "H_sol",
           "upper": 2.3208300709724425
          },
          {
           "lower": 2.411966872215271,
           "timepoint": 76,
           "trajectory": "H_sol",
           "upper": 2.437412667274475
          },
          {
           "lower": 2.529386615753174,
           "timepoint": 77,
           "trajectory": "H_sol",
           "upper": 2.5598496437072753
          },
          {
           "lower": 2.652517592906952,
           "timepoint": 78,
           "trajectory": "H_sol",
           "upper": 2.6884426712989806
          },
          {
           "lower": 2.7816457390785216,
           "timepoint": 79,
           "trajectory": "H_sol",
           "upper": 2.8234918475151063
          },
          {
           "lower": 2.9170597910881044,
           "timepoint": 80,
           "trajectory": "H_sol",
           "upper": 2.9653247475624083
          },
          {
           "lower": 3.059064972400665,
           "timepoint": 81,
           "trajectory": "H_sol",
           "upper": 3.114281785488129
          },
          {
           "lower": 3.2079848527908323,
           "timepoint": 82,
           "trajectory": "H_sol",
           "upper": 3.270721507072449
          },
          {
           "lower": 3.3641523003578184,
           "timepoint": 83,
           "trajectory": "H_sol",
           "upper": 3.4350203394889833
          },
          {
           "lower": 3.5279193997383116,
           "timepoint": 84,
           "trajectory": "H_sol",
           "upper": 3.607567918300629
          },
          {
           "lower": 3.699664032459259,
           "timepoint": 85,
           "trajectory": "H_sol",
           "upper": 3.7887848258018493
          },
          {
           "lower": 3.8797658324241637,
           "timepoint": 86,
           "trajectory": "H_sol",
           "upper": 3.979103481769562
          },
          {
           "lower": 4.068633794784546,
           "timepoint": 87,
           "trajectory": "H_sol",
           "upper": 4.1789820194244385
          },
          {
           "lower": 4.266695809364319,
           "timepoint": 88,
           "trajectory": "H_sol",
           "upper": 4.388898539543152
          },
          {
           "lower": 4.474400019645691,
           "timepoint": 89,
           "trajectory": "H_sol",
           "upper": 4.609359765052796
          },
          {
           "lower": 4.692212963104248,
           "timepoint": 90,
           "trajectory": "H_sol",
           "upper": 4.840895748138427
          },
          {
           "lower": 4.920627021789551,
           "timepoint": 91,
           "trajectory": "H_sol",
           "upper": 5.0840555191040036
          },
          {
           "lower": 5.160161662101745,
           "timepoint": 92,
           "trajectory": "H_sol",
           "upper": 5.339430642127991
          },
          {
           "lower": 5.411353635787964,
           "timepoint": 93,
           "trajectory": "H_sol",
           "upper": 5.607632112503052
          },
          {
           "lower": 5.674769902229309,
           "timepoint": 94,
           "trajectory": "H_sol",
           "upper": 5.889304137229919
          },
          {
           "lower": 5.951004219055176,
           "timepoint": 95,
           "trajectory": "H_sol",
           "upper": 6.1851194381713865
          },
          {
           "lower": 6.240696716308594,
           "timepoint": 96,
           "trajectory": "H_sol",
           "upper": 6.495790672302246
          },
          {
           "lower": 6.544479131698608,
           "timepoint": 97,
           "trajectory": "H_sol",
           "upper": 6.822059869766235
          },
          {
           "lower": 6.863045573234558,
           "timepoint": 98,
           "trajectory": "H_sol",
           "upper": 7.164729714393616
          },
          {
           "lower": 7.197123312950135,
           "timepoint": 99,
           "trajectory": "H_sol",
           "upper": 7.524597859382629
          },
          {
           "lower": 7.5474557161331175,
           "timepoint": 100,
           "trajectory": "H_sol",
           "upper": 7.90253598690033
          },
          {
           "lower": 7.914836287498474,
           "timepoint": 101,
           "trajectory": "H_sol",
           "upper": 8.299458622932434
          },
          {
           "lower": 8.300092935562134,
           "timepoint": 102,
           "trajectory": "H_sol",
           "upper": 8.716307401657104
          },
          {
           "lower": 8.704110240936279,
           "timepoint": 103,
           "trajectory": "H_sol",
           "upper": 9.154087924957276
          },
          {
           "lower": 9.127780389785766,
           "timepoint": 104,
           "trajectory": "H_sol",
           "upper": 9.613847303390504
          },
          {
           "lower": 9.572060108184814,
           "timepoint": 105,
           "trajectory": "H_sol",
           "upper": 10.096700191497803
          },
          {
           "lower": 10.037974452972412,
           "timepoint": 106,
           "trajectory": "H_sol",
           "upper": 10.603789234161377
          },
          {
           "lower": 10.526552677154541,
           "timepoint": 107,
           "trajectory": "H_sol",
           "upper": 11.13633680343628
          },
          {
           "lower": 11.038905048370362,
           "timepoint": 108,
           "trajectory": "H_sol",
           "upper": 11.695628261566162
          },
          {
           "lower": 11.57618579864502,
           "timepoint": 109,
           "trajectory": "H_sol",
           "upper": 12.282994651794434
          },
          {
           "lower": 12.139610242843627,
           "timepoint": 110,
           "trajectory": "H_sol",
           "upper": 12.899846124649049
          },
          {
           "lower": 12.730445098876952,
           "timepoint": 111,
           "trajectory": "H_sol",
           "upper": 13.54765968322754
          },
          {
           "lower": 13.350021505355835,
           "timepoint": 112,
           "trajectory": "H_sol",
           "upper": 14.228003358840942
          },
          {
           "lower": 13.999749660491943,
           "timepoint": 113,
           "trajectory": "H_sol",
           "upper": 14.942488193511963
          },
          {
           "lower": 14.681082344055175,
           "timepoint": 114,
           "trajectory": "H_sol",
           "upper": 15.692830467224121
          },
          {
           "lower": 15.395561599731446,
           "timepoint": 115,
           "trajectory": "H_sol",
           "upper": 16.48084602355957
          },
          {
           "lower": 16.144797229766844,
           "timepoint": 116,
           "trajectory": "H_sol",
           "upper": 17.308402156829835
          },
          {
           "lower": 16.930462074279784,
           "timepoint": 117,
           "trajectory": "H_sol",
           "upper": 18.177482414245606
          },
          {
           "lower": 17.754354858398436,
           "timepoint": 118,
           "trajectory": "H_sol",
           "upper": 19.090196228027345
          },
          {
           "lower": 18.618327331542968,
           "timepoint": 119,
           "trajectory": "H_sol",
           "upper": 20.048699188232423
          },
          {
           "lower": 19.52429094314575,
           "timepoint": 120,
           "trajectory": "H_sol",
           "upper": 21.05528554916382
          },
          {
           "lower": 20.47432584762573,
           "timepoint": 121,
           "trajectory": "H_sol",
           "upper": 22.11236505508423
          },
          {
           "lower": 21.470553398132324,
           "timepoint": 122,
           "trajectory": "H_sol",
           "upper": 23.222512245178223
          },
          {
           "lower": 22.51521978378296,
           "timepoint": 123,
           "trajectory": "H_sol",
           "upper": 24.38833894729614
          },
          {
           "lower": 23.610713768005372,
           "timepoint": 124,
           "trajectory": "H_sol",
           "upper": 25.612659645080566
          },
          {
           "lower": 24.7594464302063,
           "timepoint": 125,
           "trajectory": "H_sol",
           "upper": 26.89833517074585
          },
          {
           "lower": 25.964034175872804,
           "timepoint": 126,
           "trajectory": "H_sol",
           "upper": 28.248522663116454
          },
          {
           "lower": 27.227158546447754,
           "timepoint": 127,
           "trajectory": "H_sol",
           "upper": 29.666415214538574
          },
          {
           "lower": 28.551683521270753,
           "timepoint": 128,
           "trajectory": "H_sol",
           "upper": 31.15541067123413
          },
          {
           "lower": 29.94057273864746,
           "timepoint": 129,
           "trajectory": "H_sol",
           "upper": 32.71904945373535
          },
          {
           "lower": 31.39700574874878,
           "timepoint": 130,
           "trajectory": "H_sol",
           "upper": 34.36106042861938
          },
          {
           "lower": 32.92418098449707,
           "timepoint": 131,
           "trajectory": "H_sol",
           "upper": 36.08532524108887
          },
          {
           "lower": 34.52556819915772,
           "timepoint": 132,
           "trajectory": "H_sol",
           "upper": 37.89621143341064
          },
          {
           "lower": 36.2047607421875,
           "timepoint": 133,
           "trajectory": "H_sol",
           "upper": 39.79775695800781
          },
          {
           "lower": 37.965523910522464,
           "timepoint": 134,
           "trajectory": "H_sol",
           "upper": 41.7946231842041
          },
          {
           "lower": 39.81180896759033,
           "timepoint": 135,
           "trajectory": "H_sol",
           "upper": 43.89136562347412
          },
          {
           "lower": 41.74777412414551,
           "timepoint": 136,
           "trajectory": "H_sol",
           "upper": 46.093244552612305
          },
          {
           "lower": 43.77772731781006,
           "timepoint": 137,
           "trajectory": "H_sol",
           "upper": 48.40541248321533
          },
          {
           "lower": 45.906280517578125,
           "timepoint": 138,
           "trajectory": "H_sol",
           "upper": 50.8333740234375
          },
          {
           "lower": 48.138186073303224,
           "timepoint": 139,
           "trajectory": "H_sol",
           "upper": 53.382897758483885
          },
          {
           "lower": 50.47833881378174,
           "timepoint": 140,
           "trajectory": "H_sol",
           "upper": 56.060056114196776
          },
          {
           "lower": 52.93212242126465,
           "timepoint": 141,
           "trajectory": "H_sol",
           "upper": 58.87121467590332
          },
          {
           "lower": 55.504973602294925,
           "timepoint": 142,
           "trajectory": "H_sol",
           "upper": 61.8230598449707
          },
          {
           "lower": 58.20268211364746,
           "timepoint": 143,
           "trajectory": "H_sol",
           "upper": 64.9226001739502
          },
          {
           "lower": 61.031232833862305,
           "timepoint": 144,
           "trajectory": "H_sol",
           "upper": 68.1771183013916
          },
          {
           "lower": 63.996979522705075,
           "timepoint": 145,
           "trajectory": "H_sol",
           "upper": 71.59445114135742
          },
          {
           "lower": 67.10651206970215,
           "timepoint": 146,
           "trajectory": "H_sol",
           "upper": 75.18266487121582
          },
          {
           "lower": 70.36678466796874,
           "timepoint": 147,
           "trajectory": "H_sol",
           "upper": 78.95015563964844
          },
          {
           "lower": 73.7850383758545,
           "timepoint": 148,
           "trajectory": "H_sol",
           "upper": 82.90596351623535
          },
          {
           "lower": 77.36908950805665,
           "timepoint": 149,
           "trajectory": "H_sol",
           "upper": 87.05934677124023
          },
          {
           "lower": 81.12668495178222,
           "timepoint": 150,
           "trajectory": "H_sol",
           "upper": 91.42030448913575
          },
          {
           "lower": 85.0662338256836,
           "timepoint": 151,
           "trajectory": "H_sol",
           "upper": 95.99892120361328
          },
          {
           "lower": 89.19666290283203,
           "timepoint": 152,
           "trajectory": "H_sol",
           "upper": 100.8060531616211
          },
          {
           "lower": 93.52699203491211,
           "timepoint": 153,
           "trajectory": "H_sol",
           "upper": 105.8530891418457
          },
          {
           "lower": 98.06687850952149,
           "timepoint": 154,
           "trajectory": "H_sol",
           "upper": 111.15185623168945
          },
          {
           "lower": 102.82639617919922,
           "timepoint": 155,
           "trajectory": "H_sol",
           "upper": 116.71481781005859
          },
          {
           "lower": 107.8161407470703,
           "timepoint": 156,
           "trajectory": "H_sol",
           "upper": 122.55501403808594
          },
          {
           "lower": 113.04715538024902,
           "timepoint": 157,
           "trajectory": "H_sol",
           "upper": 128.68615913391113
          },
          {
           "lower": 118.53088035583497,
           "timepoint": 158,
           "trajectory": "H_sol",
           "upper": 135.12250862121581
          },
          {
           "lower": 124.27966041564942,
           "timepoint": 159,
           "trajectory": "H_sol",
           "upper": 141.87957267761232
          },
          {
           "lower": 130.30608673095702,
           "timepoint": 160,
           "trajectory": "H_sol",
           "upper": 148.97259979248048
          },
          {
           "lower": 136.62331466674806,
           "timepoint": 161,
           "trajectory": "H_sol",
           "upper": 156.4180824279785
          },
          {
           "lower": 143.24546966552734,
           "timepoint": 162,
           "trajectory": "H_sol",
           "upper": 164.2343276977539
          },
          {
           "lower": 150.18693008422852,
           "timepoint": 163,
           "trajectory": "H_sol",
           "upper": 172.43854293823242
          },
          {
           "lower": 157.46334075927734,
           "timepoint": 164,
           "trajectory": "H_sol",
           "upper": 181.05030059814453
          },
          {
           "lower": 165.09015350341798,
           "timepoint": 165,
           "trajectory": "H_sol",
           "upper": 190.0885269165039
          },
          {
           "lower": 173.08439254760742,
           "timepoint": 166,
           "trajectory": "H_sol",
           "upper": 199.57538223266602
          },
          {
           "lower": 181.46343307495118,
           "timepoint": 167,
           "trajectory": "H_sol",
           "upper": 209.53227920532225
          },
          {
           "lower": 190.2456199645996,
           "timepoint": 168,
           "trajectory": "H_sol",
           "upper": 219.98230056762696
          },
          {
           "lower": 199.44998092651366,
           "timepoint": 169,
           "trajectory": "H_sol",
           "upper": 230.94941787719728
          },
          {
           "lower": 209.09665756225587,
           "timepoint": 170,
           "trajectory": "H_sol",
           "upper": 242.45844192504882
          },
          {
           "lower": 219.2065643310547,
           "timepoint": 171,
           "trajectory": "H_sol",
           "upper": 254.5362335205078
          },
          {
           "lower": 229.80160522460938,
           "timepoint": 172,
           "trajectory": "H_sol",
           "upper": 267.2100524902344
          },
          {
           "lower": 240.904638671875,
           "timepoint": 173,
           "trajectory": "H_sol",
           "upper": 280.5088134765625
          },
          {
           "lower": 252.53984680175782,
           "timepoint": 174,
           "trajectory": "H_sol",
           "upper": 294.46241149902346
          },
          {
           "lower": 264.7320892333984,
           "timepoint": 175,
           "trajectory": "H_sol",
           "upper": 309.1037261962891
          },
          {
           "lower": 277.5076370239258,
           "timepoint": 176,
           "trajectory": "H_sol",
           "upper": 324.46443939208984
          },
          {
           "lower": 290.89358673095705,
           "timepoint": 177,
           "trajectory": "H_sol",
           "upper": 340.5792831420898
          },
          {
           "lower": 304.91903228759764,
           "timepoint": 178,
           "trajectory": "H_sol",
           "upper": 357.484684753418
          },
          {
           "lower": 319.61315460205077,
           "timepoint": 179,
           "trajectory": "H_sol",
           "upper": 375.21817474365236
          },
          {
           "lower": 335.0078414916992,
           "timepoint": 180,
           "trajectory": "H_sol",
           "upper": 393.81982574462893
          },
          {
           "lower": 351.1349105834961,
           "timepoint": 181,
           "trajectory": "H_sol",
           "upper": 413.3300247192383
          },
          {
           "lower": 368.0299667358398,
           "timepoint": 182,
           "trajectory": "H_sol",
           "upper": 433.7924514770508
          },
          {
           "lower": 385.72691650390624,
           "timepoint": 183,
           "trajectory": "H_sol",
           "upper": 455.2520263671875
          },
          {
           "lower": 404.26340637207034,
           "timepoint": 184,
           "trajectory": "H_sol",
           "upper": 477.7549652099609
          },
          {
           "lower": 423.67826080322266,
           "timepoint": 185,
           "trajectory": "H_sol",
           "upper": 501.35118865966797
          },
          {
           "lower": 444.01158447265624,
           "timepoint": 186,
           "trajectory": "H_sol",
           "upper": 526.0913208007812
          },
          {
           "lower": 465.30573120117185,
           "timepoint": 187,
           "trajectory": "H_sol",
           "upper": 552.0286193847656
          },
          {
           "lower": 487.6042938232422,
           "timepoint": 188,
           "trajectory": "H_sol",
           "upper": 579.2179107666016
          },
          {
           "lower": 510.95347900390624,
           "timepoint": 189,
           "trajectory": "H_sol",
           "upper": 607.7197387695312
          },
          {
           "lower": 535.4001495361329,
           "timepoint": 190,
           "trajectory": "H_sol",
           "upper": 637.5917327880859
          },
          {
           "lower": 560.9930053710938,
           "timepoint": 191,
           "trajectory": "H_sol",
           "upper": 668.8967651367187
          },
          {
           "lower": 587.7894897460938,
           "timepoint": 192,
           "trajectory": "H_sol",
           "upper": 701.7012329101562
          },
          {
           "lower": 615.8369842529297,
           "timepoint": 193,
           "trajectory": "H_sol",
           "upper": 736.072622680664
          },
          {
           "lower": 645.1934967041016,
           "timepoint": 194,
           "trajectory": "H_sol",
           "upper": 772.0814666748047
          },
          {
           "lower": 675.9177520751953,
           "timepoint": 195,
           "trajectory": "H_sol",
           "upper": 809.8009368896485
          },
          {
           "lower": 708.06953125,
           "timepoint": 196,
           "trajectory": "H_sol",
           "upper": 849.3077880859375
          },
          {
           "lower": 741.71240234375,
           "timepoint": 197,
           "trajectory": "H_sol",
           "upper": 890.680419921875
          },
          {
           "lower": 776.9114349365234,
           "timepoint": 198,
           "trajectory": "H_sol",
           "upper": 934.0004913330079
          },
          {
           "lower": 813.7350982666015,
           "timepoint": 199,
           "trajectory": "H_sol",
           "upper": 979.3527313232422
          },
          {
           "lower": 852.252554321289,
           "timepoint": 200,
           "trajectory": "H_sol",
           "upper": 1026.8284393310546
          },
          {
           "lower": 892.53828125,
           "timepoint": 201,
           "trajectory": "H_sol",
           "upper": 1076.516650390625
          },
          {
           "lower": 934.6676879882813,
           "timepoint": 202,
           "trajectory": "H_sol",
           "upper": 1128.5054077148438
          },
          {
           "lower": 978.7161102294922,
           "timepoint": 203,
           "trajectory": "H_sol",
           "upper": 1182.898941040039
          },
          {
           "lower": 1024.7686462402344,
           "timepoint": 204,
           "trajectory": "H_sol",
           "upper": 1239.7969055175781
          },
          {
           "lower": 1072.9073425292968,
           "timepoint": 205,
           "trajectory": "H_sol",
           "upper": 1299.3002990722657
          },
          {
           "lower": 1123.21982421875,
           "timepoint": 206,
           "trajectory": "H_sol",
           "upper": 1361.517236328125
          },
          {
           "lower": 1175.7936279296875,
           "timepoint": 207,
           "trajectory": "H_sol",
           "upper": 1426.5574462890625
          },
          {
           "lower": 1230.7217224121093,
           "timepoint": 208,
           "trajectory": "H_sol",
           "upper": 1494.5283996582032
          },
          {
           "lower": 1288.102392578125,
           "timepoint": 209,
           "trajectory": "H_sol",
           "upper": 1565.55068359375
          },
          {
           "lower": 1348.0308654785156,
           "timepoint": 210,
           "trajectory": "H_sol",
           "upper": 1639.741717529297
          },
          {
           "lower": 1410.606689453125,
           "timepoint": 211,
           "trajectory": "H_sol",
           "upper": 1717.2197265625
          },
          {
           "lower": 1475.9351013183593,
           "timepoint": 212,
           "trajectory": "H_sol",
           "upper": 1798.1099426269532
          },
          {
           "lower": 1544.1241333007813,
           "timepoint": 213,
           "trajectory": "H_sol",
           "upper": 1882.5379760742187
          },
          {
           "lower": 1615.2784057617187,
           "timepoint": 214,
           "trajectory": "H_sol",
           "upper": 1970.6305297851563
          },
          {
           "lower": 1689.5170043945313,
           "timepoint": 215,
           "trajectory": "H_sol",
           "upper": 2062.5188842773437
          },
          {
           "lower": 1766.9494873046874,
           "timepoint": 216,
           "trajectory": "H_sol",
           "upper": 2158.3356689453126
          },
          {
           "lower": 1847.6879821777343,
           "timepoint": 217,
           "trajectory": "H_sol",
           "upper": 2258.205206298828
          },
          {
           "lower": 1931.8595581054688,
           "timepoint": 218,
           "trajectory": "H_sol",
           "upper": 2362.2676391601562
          },
          {
           "lower": 2019.5768798828126,
           "timepoint": 219,
           "trajectory": "H_sol",
           "upper": 2470.6618896484374
          },
          {
           "lower": 2110.968408203125,
           "timepoint": 220,
           "trajectory": "H_sol",
           "upper": 2583.514990234375
          },
          {
           "lower": 2206.1580444335937,
           "timepoint": 221,
           "trajectory": "H_sol",
           "upper": 2700.9618286132813
          },
          {
           "lower": 2305.267956542969,
           "timepoint": 222,
           "trajectory": "H_sol",
           "upper": 2823.139514160156
          },
          {
           "lower": 2408.4292602539062,
           "timepoint": 223,
           "trajectory": "H_sol",
           "upper": 2950.1749877929688
          },
          {
           "lower": 2515.764538574219,
           "timepoint": 224,
           "trajectory": "H_sol",
           "upper": 3082.200061035156
          },
          {
           "lower": 2627.4035034179688,
           "timepoint": 225,
           "trajectory": "H_sol",
           "upper": 3219.3369750976562
          },
          {
           "lower": 2743.4754028320312,
           "timepoint": 226,
           "trajectory": "H_sol",
           "upper": 3361.7211303710938
          },
          {
           "lower": 2864.1060424804687,
           "timepoint": 227,
           "trajectory": "H_sol",
           "upper": 3509.4532836914063
          },
          {
           "lower": 2989.4165893554687,
           "timepoint": 228,
           "trajectory": "H_sol",
           "upper": 3662.6515258789063
          },
          {
           "lower": 3119.5383544921874,
           "timepoint": 229,
           "trajectory": "H_sol",
           "upper": 3821.4333251953126
          },
          {
           "lower": 3254.590539550781,
           "timepoint": 230,
           "trajectory": "H_sol",
           "upper": 3985.883825683594
          },
          {
           "lower": 3394.6896728515626,
           "timepoint": 231,
           "trajectory": "H_sol",
           "upper": 4156.098901367188
          },
          {
           "lower": 3539.952001953125,
           "timepoint": 232,
           "trajectory": "H_sol",
           "upper": 4332.151513671875
          },
          {
           "lower": 3690.4931884765624,
           "timepoint": 233,
           "trajectory": "H_sol",
           "upper": 4514.116674804687
          },
          {
           "lower": 3846.411267089844,
           "timepoint": 234,
           "trajectory": "H_sol",
           "upper": 4702.050891113281
          },
          {
           "lower": 4007.8085083007813,
           "timepoint": 235,
           "trajectory": "H_sol",
           "upper": 4895.990075683594
          },
          {
           "lower": 4174.779125976563,
           "timepoint": 236,
           "trajectory": "H_sol",
           "upper": 5095.966479492187
          },
          {
           "lower": 4347.398754882813,
           "timepoint": 237,
           "trajectory": "H_sol",
           "upper": 5301.984545898437
          },
          {
           "lower": 4525.755200195313,
           "timepoint": 238,
           "trajectory": "H_sol",
           "upper": 5514.029467773437
          },
          {
           "lower": 4709.896948242187,
           "timepoint": 239,
           "trajectory": "H_sol",
           "upper": 5732.099633789063
          },
          {
           "lower": 4899.895654296875,
           "timepoint": 240,
           "trajectory": "H_sol",
           "upper": 5956.115087890625
          },
          {
           "lower": 5095.77197265625,
           "timepoint": 241,
           "trajectory": "H_sol",
           "upper": 6186.01123046875
          },
          {
           "lower": 5297.56279296875,
           "timepoint": 242,
           "trajectory": "H_sol",
           "upper": 6421.68916015625
          },
          {
           "lower": 5505.264111328125,
           "timepoint": 243,
           "trajectory": "H_sol",
           "upper": 6663.020068359375
          },
          {
           "lower": 5718.880590820312,
           "timepoint": 244,
           "trajectory": "H_sol",
           "upper": 6909.855249023438
          },
          {
           "lower": 5938.3824462890625,
           "timepoint": 245,
           "trajectory": "H_sol",
           "upper": 7162.0067138671875
          },
          {
           "lower": 6163.72568359375,
           "timepoint": 246,
           "trajectory": "H_sol",
           "upper": 7419.26259765625
          },
          {
           "lower": 6394.841235351562,
           "timepoint": 247,
           "trajectory": "H_sol",
           "upper": 7681.374096679688
          },
          {
           "lower": 6631.645532226563,
           "timepoint": 248,
           "trajectory": "H_sol",
           "upper": 7948.062963867187
          },
          {
           "lower": 6874.006372070313,
           "timepoint": 249,
           "trajectory": "H_sol",
           "upper": 8219.014624023437
          },
          {
           "lower": 7121.7880859375,
           "timepoint": 250,
           "trajectory": "H_sol",
           "upper": 8493.8837890625
          },
          {
           "lower": 7374.865380859375,
           "timepoint": 251,
           "trajectory": "H_sol",
           "upper": 8772.258642578125
          },
          {
           "lower": 7632.997998046875,
           "timepoint": 252,
           "trajectory": "H_sol",
           "upper": 9053.749072265626
          },
          {
           "lower": 7895.976806640625,
           "timepoint": 253,
           "trajectory": "H_sol",
           "upper": 9337.897216796875
          },
          {
           "lower": 8163.544604492187,
           "timepoint": 254,
           "trajectory": "H_sol",
           "upper": 9624.149243164062
          },
          {
           "lower": 8435.41640625,
           "timepoint": 255,
           "trajectory": "H_sol",
           "upper": 9912.038671875
          },
          {
           "lower": 8711.283251953126,
           "timepoint": 256,
           "trajectory": "H_sol",
           "upper": 10200.977490234374
          },
          {
           "lower": 8990.7720703125,
           "timepoint": 257,
           "trajectory": "H_sol",
           "upper": 10490.3373046875
          },
          {
           "lower": 9273.525927734376,
           "timepoint": 258,
           "trajectory": "H_sol",
           "upper": 10779.523876953124
          },
          {
           "lower": 9559.114306640626,
           "timepoint": 259,
           "trajectory": "H_sol",
           "upper": 11067.845654296874
          },
          {
           "lower": 9847.083056640626,
           "timepoint": 260,
           "trajectory": "H_sol",
           "upper": 11354.619091796874
          },
          {
           "lower": 10136.9490234375,
           "timepoint": 261,
           "trajectory": "H_sol",
           "upper": 11639.1193359375
          },
          {
           "lower": 10428.187353515625,
           "timepoint": 262,
           "trajectory": "H_sol",
           "upper": 11920.602685546875
          },
          {
           "lower": 10720.27197265625,
           "timepoint": 263,
           "trajectory": "H_sol",
           "upper": 12198.30224609375
          },
          {
           "lower": 11012.591162109375,
           "timepoint": 264,
           "trajectory": "H_sol",
           "upper": 12471.458642578125
          },
          {
           "lower": 11304.5654296875,
           "timepoint": 265,
           "trajectory": "H_sol",
           "upper": 12739.2568359375
          },
          {
           "lower": 11595.51650390625,
           "timepoint": 266,
           "trajectory": "H_sol",
           "upper": 13000.90341796875
          },
          {
           "lower": 11884.792138671875,
           "timepoint": 267,
           "trajectory": "H_sol",
           "upper": 13255.624853515625
          },
          {
           "lower": 12171.746533203124,
           "timepoint": 268,
           "trajectory": "H_sol",
           "upper": 13502.594287109376
          },
          {
           "lower": 12455.621240234375,
           "timepoint": 269,
           "trajectory": "H_sol",
           "upper": 13741.024267578125
          },
          {
           "lower": 12735.69931640625,
           "timepoint": 270,
           "trajectory": "H_sol",
           "upper": 13970.16005859375
          },
          {
           "lower": 13011.2603515625,
           "timepoint": 271,
           "trajectory": "H_sol",
           "upper": 14189.2337890625
          },
          {
           "lower": 13281.52568359375,
           "timepoint": 272,
           "trajectory": "H_sol",
           "upper": 14397.51337890625
          },
          {
           "lower": 13545.75302734375,
           "timepoint": 273,
           "trajectory": "H_sol",
           "upper": 14594.27236328125
          },
          {
           "lower": 13803.185791015625,
           "timepoint": 274,
           "trajectory": "H_sol",
           "upper": 14778.864013671875
          },
          {
           "lower": 14053.0646484375,
           "timepoint": 275,
           "trajectory": "H_sol",
           "upper": 14950.6775390625
          },
          {
           "lower": 14294.631005859375,
           "timepoint": 276,
           "trajectory": "H_sol",
           "upper": 15109.063330078125
          },
          {
           "lower": 14527.153857421876,
           "timepoint": 277,
           "trajectory": "H_sol",
           "upper": 15253.544384765624
          },
          {
           "lower": 14749.907958984375,
           "timepoint": 278,
           "trajectory": "H_sol",
           "upper": 15383.612548828125
          },
          {
           "lower": 14962.19931640625,
           "timepoint": 279,
           "trajectory": "H_sol",
           "upper": 15498.86123046875
          },
          {
           "lower": 15163.33046875,
           "timepoint": 280,
           "trajectory": "H_sol",
           "upper": 15598.88828125
          },
          {
           "lower": 15352.674560546875,
           "timepoint": 281,
           "trajectory": "H_sol",
           "upper": 15683.455322265625
          },
          {
           "lower": 15529.631005859375,
           "timepoint": 282,
           "trajectory": "H_sol",
           "upper": 15752.260595703125
          },
          {
           "lower": 15693.6140625,
           "timepoint": 283,
           "trajectory": "H_sol",
           "upper": 15805.161328125
          },
          {
           "lower": 15842.0484375,
           "timepoint": 284,
           "trajectory": "H_sol",
           "upper": 15844.098046875
          },
          {
           "lower": 15862.891259765625,
           "timepoint": 285,
           "trajectory": "H_sol",
           "upper": 15980.623388671875
          },
          {
           "lower": 15867.718212890624,
           "timepoint": 286,
           "trajectory": "H_sol",
           "upper": 16102.745654296876
          },
          {
           "lower": 15856.638720703126,
           "timepoint": 287,
           "trajectory": "H_sol",
           "upper": 16210.100537109374
          },
          {
           "lower": 15829.806396484375,
           "timepoint": 288,
           "trajectory": "H_sol",
           "upper": 16302.372314453125
          },
          {
           "lower": 15787.456640625,
           "timepoint": 289,
           "trajectory": "H_sol",
           "upper": 16379.305078125
          },
          {
           "lower": 15729.87001953125,
           "timepoint": 290,
           "trajectory": "H_sol",
           "upper": 16440.71005859375
          },
          {
           "lower": 15657.437744140625,
           "timepoint": 291,
           "trajectory": "H_sol",
           "upper": 16486.479248046875
          },
          {
           "lower": 15570.532958984375,
           "timepoint": 292,
           "trajectory": "H_sol",
           "upper": 16516.460205078125
          },
          {
           "lower": 15469.552001953125,
           "timepoint": 293,
           "trajectory": "H_sol",
           "upper": 16530.712646484375
          },
          {
           "lower": 15355.0794921875,
           "timepoint": 294,
           "trajectory": "H_sol",
           "upper": 16529.2876953125
          },
          {
           "lower": 15227.629736328125,
           "timepoint": 295,
           "trajectory": "H_sol",
           "upper": 16512.306787109374
          },
          {
           "lower": 15087.769189453125,
           "timepoint": 296,
           "trajectory": "H_sol",
           "upper": 16479.932958984376
          },
          {
           "lower": 14936.124853515625,
           "timepoint": 297,
           "trajectory": "H_sol",
           "upper": 16432.424951171874
          },
          {
           "lower": 14773.332470703124,
           "timepoint": 298,
           "trajectory": "H_sol",
           "upper": 16370.014208984376
          },
          {
           "lower": 14600.05244140625,
           "timepoint": 299,
           "trajectory": "H_sol",
           "upper": 16293.06669921875
          },
          {
           "lower": 14416.975048828124,
           "timepoint": 300,
           "trajectory": "H_sol",
           "upper": 16202.094287109376
          },
          {
           "lower": 14224.779052734375,
           "timepoint": 301,
           "trajectory": "H_sol",
           "upper": 16097.407470703125
          },
          {
           "lower": 14024.183447265625,
           "timepoint": 302,
           "trajectory": "H_sol",
           "upper": 15979.483544921875
          },
          {
           "lower": 13815.887255859376,
           "timepoint": 303,
           "trajectory": "H_sol",
           "upper": 15848.894970703124
          },
          {
           "lower": 13600.600341796875,
           "timepoint": 304,
           "trajectory": "H_sol",
           "upper": 15706.209228515625
          },
          {
           "lower": 13379.02822265625,
           "timepoint": 305,
           "trajectory": "H_sol",
           "upper": 15551.98154296875
          },
          {
           "lower": 13151.88427734375,
           "timepoint": 306,
           "trajectory": "H_sol",
           "upper": 15386.82861328125
          },
          {
           "lower": 12919.7943359375,
           "timepoint": 307,
           "trajectory": "H_sol",
           "upper": 15211.3912109375
          },
          {
           "lower": 12683.49169921875,
           "timepoint": 308,
           "trajectory": "H_sol",
           "upper": 15026.31298828125
          },
          {
           "lower": 12443.596337890625,
           "timepoint": 309,
           "trajectory": "H_sol",
           "upper": 14832.264013671875
          },
          {
           "lower": 12200.77099609375,
           "timepoint": 310,
           "trajectory": "H_sol",
           "upper": 14629.90087890625
          },
          {
           "lower": 11955.590234375,
           "timepoint": 311,
           "trajectory": "H_sol",
           "upper": 14419.92734375
          },
          {
           "lower": 11708.68662109375,
           "timepoint": 312,
           "trajectory": "H_sol",
           "upper": 14202.98916015625
          },
          {
           "lower": 11460.583642578125,
           "timepoint": 313,
           "trajectory": "H_sol",
           "upper": 13979.786474609375
          },
          {
           "lower": 11211.8408203125,
           "timepoint": 314,
           "trajectory": "H_sol",
           "upper": 13750.9658203125
          },
          {
           "lower": 10962.94091796875,
           "timepoint": 315,
           "trajectory": "H_sol",
           "upper": 13517.19189453125
          },
          {
           "lower": 10714.402490234375,
           "timepoint": 316,
           "trajectory": "H_sol",
           "upper": 13279.106298828125
          },
          {
           "lower": 10466.633544921875,
           "timepoint": 317,
           "trajectory": "H_sol",
           "upper": 13037.342041015625
          },
          {
           "lower": 10220.08115234375,
           "timepoint": 318,
           "trajectory": "H_sol",
           "upper": 12792.50087890625
          },
          {
           "lower": 9975.123193359375,
           "timepoint": 319,
           "trajectory": "H_sol",
           "upper": 12545.188330078125
          },
          {
           "lower": 9732.16845703125,
           "timepoint": 320,
           "trajectory": "H_sol",
           "upper": 12295.96435546875
          },
          {
           "lower": 9491.49580078125,
           "timepoint": 321,
           "trajectory": "H_sol",
           "upper": 12045.38115234375
          },
          {
           "lower": 9253.446875,
           "timepoint": 322,
           "trajectory": "H_sol",
           "upper": 11793.953515625
          },
          {
           "lower": 9018.293701171875,
           "timepoint": 323,
           "trajectory": "H_sol",
           "upper": 11542.191650390625
          },
          {
           "lower": 8786.28427734375,
           "timepoint": 324,
           "trajectory": "H_sol",
           "upper": 11290.55361328125
          },
          {
           "lower": 8557.645068359376,
           "timepoint": 325,
           "trajectory": "H_sol",
           "upper": 11039.492626953124
          },
          {
           "lower": 8332.592919921875,
           "timepoint": 326,
           "trajectory": "H_sol",
           "upper": 10789.419775390625
          },
          {
           "lower": 8111.2810546875,
           "timepoint": 327,
           "trajectory": "H_sol",
           "upper": 10540.7326171875
          },
          {
           "lower": 7893.882836914063,
           "timepoint": 328,
           "trajectory": "H_sol",
           "upper": 10293.798315429687
          },
          {
           "lower": 7680.5513916015625,
           "timepoint": 329,
           "trajectory": "H_sol",
           "upper": 10048.924682617188
          },
          {
           "lower": 7471.374462890625,
           "timepoint": 330,
           "trajectory": "H_sol",
           "upper": 9806.460498046876
          },
          {
           "lower": 7266.454370117188,
           "timepoint": 331,
           "trajectory": "H_sol",
           "upper": 9566.653540039062
          },
          {
           "lower": 7065.87109375,
           "timepoint": 332,
           "trajectory": "H_sol",
           "upper": 9329.79296875
          },
          {
           "lower": 6869.6785888671875,
           "timepoint": 333,
           "trajectory": "H_sol",
           "upper": 9096.095336914062
          },
          {
           "lower": 6677.936352539063,
           "timepoint": 334,
           "trajectory": "H_sol",
           "upper": 8865.785815429688
          },
          {
           "lower": 6490.663232421875,
           "timepoint": 335,
           "trajectory": "H_sol",
           "upper": 8639.029150390625
          },
          {
           "lower": 6307.866430664062,
           "timepoint": 336,
           "trajectory": "H_sol",
           "upper": 8416.023706054688
          },
          {
           "lower": 6129.5658203125,
           "timepoint": 337,
           "trajectory": "H_sol",
           "upper": 8196.9009765625
          },
          {
           "lower": 5955.746484375,
           "timepoint": 338,
           "trajectory": "H_sol",
           "upper": 7981.75546875
          },
          {
           "lower": 5786.389331054687,
           "timepoint": 339,
           "trajectory": "H_sol",
           "upper": 7770.742993164063
          },
          {
           "lower": 5621.473168945313,
           "timepoint": 340,
           "trajectory": "H_sol",
           "upper": 7563.909155273437
          },
          {
           "lower": 5460.955151367188,
           "timepoint": 341,
           "trajectory": "H_sol",
           "upper": 7361.353930664062
          },
          {
           "lower": 5304.7938232421875,
           "timepoint": 342,
           "trajectory": "H_sol",
           "upper": 7163.1246337890625
          },
          {
           "lower": 5152.936572265625,
           "timepoint": 343,
           "trajectory": "H_sol",
           "upper": 6969.267529296875
          },
          {
           "lower": 5005.325415039062,
           "timepoint": 344,
           "trajectory": "H_sol",
           "upper": 6779.805932617188
          },
          {
           "lower": 4861.902197265625,
           "timepoint": 345,
           "trajectory": "H_sol",
           "upper": 6594.751123046875
          },
          {
           "lower": 4722.5962890625,
           "timepoint": 346,
           "trajectory": "H_sol",
           "upper": 6414.1146484375
          },
          {
           "lower": 4587.336376953125,
           "timepoint": 347,
           "trajectory": "H_sol",
           "upper": 6237.886279296875
          },
          {
           "lower": 4456.048071289062,
           "timepoint": 348,
           "trajectory": "H_sol",
           "upper": 6066.050073242188
          },
          {
           "lower": 4328.651831054687,
           "timepoint": 349,
           "trajectory": "H_sol",
           "upper": 5898.580102539063
          },
          {
           "lower": 4205.069897460938,
           "timepoint": 350,
           "trajectory": "H_sol",
           "upper": 5735.440356445312
          },
          {
           "lower": 4085.2185546875,
           "timepoint": 351,
           "trajectory": "H_sol",
           "upper": 5576.5958984375
          },
          {
           "lower": 3969.0126098632813,
           "timepoint": 352,
           "trajectory": "H_sol",
           "upper": 5421.988122558594
          },
          {
           "lower": 3856.3691650390624,
           "timepoint": 353,
           "trajectory": "H_sol",
           "upper": 5271.575659179687
          },
          {
           "lower": 3747.201208496094,
           "timepoint": 354,
           "trajectory": "H_sol",
           "upper": 5125.296105957032
          },
          {
           "lower": 3641.417724609375,
           "timepoint": 355,
           "trajectory": "H_sol",
           "upper": 4983.072509765625
          },
          {
           "lower": 3538.93671875,
           "timepoint": 356,
           "trajectory": "H_sol",
           "upper": 4844.854296875
          },
          {
           "lower": 3439.6738037109376,
           "timepoint": 357,
           "trajectory": "H_sol",
           "upper": 4710.571801757813
          },
          {
           "lower": 3343.535205078125,
           "timepoint": 358,
           "trajectory": "H_sol",
           "upper": 4580.139599609375
          },
          {
           "lower": 3250.4467041015623,
           "timepoint": 359,
           "trajectory": "H_sol",
           "upper": 4453.483471679688
          },
          {
           "lower": 3160.3154296875,
           "timepoint": 360,
           "trajectory": "H_sol",
           "upper": 4330.5439453125
          },
          {
           "lower": 3073.0530639648437,
           "timepoint": 361,
           "trajectory": "H_sol",
           "upper": 4211.220617675781
          },
          {
           "lower": 2988.583605957031,
           "timepoint": 362,
           "trajectory": "H_sol",
           "upper": 4095.4317749023435
          },
          {
           "lower": 2906.8228271484377,
           "timepoint": 363,
           "trajectory": "H_sol",
           "upper": 3983.1063720703123
          },
          {
           "lower": 2827.6896850585936,
           "timepoint": 364,
           "trajectory": "H_sol",
           "upper": 3874.154797363281
          },
          {
           "lower": 2751.1087280273437,
           "timepoint": 365,
           "trajectory": "H_sol",
           "upper": 3768.4969848632813
          },
          {
           "lower": 2676.9967651367188,
           "timepoint": 366,
           "trajectory": "H_sol",
           "upper": 3666.0420532226562
          },
          {
           "lower": 2605.2816772460938,
           "timepoint": 367,
           "trajectory": "H_sol",
           "upper": 3566.7337036132812
          },
          {
           "lower": 2535.888427734375,
           "timepoint": 368,
           "trajectory": "H_sol",
           "upper": 3470.455810546875
          },
          {
           "lower": 2468.739697265625,
           "timepoint": 369,
           "trajectory": "H_sol",
           "upper": 3377.154345703125
          },
          {
           "lower": 2403.77041015625,
           "timepoint": 370,
           "trajectory": "H_sol",
           "upper": 3286.7310546875
          },
          {
           "lower": 2340.906945800781,
           "timepoint": 371,
           "trajectory": "H_sol",
           "upper": 3199.105505371094
          },
          {
           "lower": 2280.082958984375,
           "timepoint": 372,
           "trajectory": "H_sol",
           "upper": 3114.203662109375
          },
          {
           "lower": 2221.234521484375,
           "timepoint": 373,
           "trajectory": "H_sol",
           "upper": 3031.953466796875
          },
          {
           "lower": 2164.2950805664063,
           "timepoint": 374,
           "trajectory": "H_sol",
           "upper": 2952.2681518554687
          },
          {
           "lower": 2109.2027221679687,
           "timepoint": 375,
           "trajectory": "H_sol",
           "upper": 2875.0787719726563
          },
          {
           "lower": 2055.8968872070313,
           "timepoint": 376,
           "trajectory": "H_sol",
           "upper": 2800.3025756835937
          },
          {
           "lower": 2004.318426513672,
           "timepoint": 377,
           "trajectory": "H_sol",
           "upper": 2727.8857971191405
          },
          {
           "lower": 1954.4098571777345,
           "timepoint": 378,
           "trajectory": "H_sol",
           "upper": 2657.742608642578
          },
          {
           "lower": 1906.1166931152343,
           "timepoint": 379,
           "trajectory": "H_sol",
           "upper": 2589.797979736328
          },
          {
           "lower": 1859.3834045410156,
           "timepoint": 380,
           "trajectory": "H_sol",
           "upper": 2523.9944030761717
          },
          {
           "lower": 1814.1604614257812,
           "timepoint": 381,
           "trajectory": "H_sol",
           "upper": 2460.2675170898438
          },
          {
           "lower": 1770.3946838378906,
           "timepoint": 382,
           "trajectory": "H_sol",
           "upper": 2398.545135498047
          },
          {
           "lower": 1728.0384155273437,
           "timepoint": 383,
           "trajectory": "H_sol",
           "upper": 2338.7699340820313
          },
          {
           "lower": 1687.0426391601563,
           "timepoint": 384,
           "trajectory": "H_sol",
           "upper": 2280.8785034179687
          },
          {
           "lower": 1647.3649353027345,
           "timepoint": 385,
           "trajectory": "H_sol",
           "upper": 2224.807550048828
          },
          {
           "lower": 1608.9581420898437,
           "timepoint": 386,
           "trajectory": "H_sol",
           "upper": 2170.506945800781
          },
          {
           "lower": 1571.7793395996093,
           "timepoint": 387,
           "trajectory": "H_sol",
           "upper": 2117.908282470703
          },
          {
           "lower": 1535.7876220703124,
           "timepoint": 388,
           "trajectory": "H_sol",
           "upper": 2066.9682373046876
          },
          {
           "lower": 1500.9434936523437,
           "timepoint": 389,
           "trajectory": "H_sol",
           "upper": 2017.6263305664063
          },
          {
           "lower": 1467.2074768066407,
           "timepoint": 390,
           "trajectory": "H_sol",
           "upper": 1969.8334167480468
          },
          {
           "lower": 1434.5421020507813,
           "timepoint": 391,
           "trajectory": "H_sol",
           "upper": 1923.5411499023437
          },
          {
           "lower": 1402.91259765625,
           "timepoint": 392,
           "trajectory": "H_sol",
           "upper": 1878.697509765625
          },
          {
           "lower": 1372.2806091308594,
           "timepoint": 393,
           "trajectory": "H_sol",
           "upper": 1835.2571105957031
          },
          {
           "lower": 1342.615301513672,
           "timepoint": 394,
           "trajectory": "H_sol",
           "upper": 1793.1724182128905
          },
          {
           "lower": 1313.8840698242188,
           "timepoint": 395,
           "trajectory": "H_sol",
           "upper": 1752.4018188476562
          },
          {
           "lower": 1286.055419921875,
           "timepoint": 396,
           "trajectory": "H_sol",
           "upper": 1712.900634765625
          },
          {
           "lower": 1259.0969116210938,
           "timepoint": 397,
           "trajectory": "H_sol",
           "upper": 1674.6259887695312
          },
          {
           "lower": 1232.9816467285157,
           "timepoint": 398,
           "trajectory": "H_sol",
           "upper": 1637.5392272949218
          },
          {
           "lower": 1207.6781311035156,
           "timepoint": 399,
           "trajectory": "H_sol",
           "upper": 1601.6022644042969
          },
          {
           "lower": 1183.1670776367187,
           "timepoint": 400,
           "trajectory": "H_sol",
           "upper": 1566.7760375976563
          },
          {
           "lower": 1159.4134033203125,
           "timepoint": 401,
           "trajectory": "H_sol",
           "upper": 1533.0245849609375
          },
          {
           "lower": 1136.3960876464844,
           "timepoint": 402,
           "trajectory": "H_sol",
           "upper": 1500.3132629394531
          },
          {
           "lower": 1114.0875427246094,
           "timepoint": 403,
           "trajectory": "H_sol",
           "upper": 1468.605694580078
          },
          {
           "lower": 1092.47099609375,
           "timepoint": 404,
           "trajectory": "H_sol",
           "upper": 1437.871044921875
          },
          {
           "lower": 1071.5165771484376,
           "timepoint": 405,
           "trajectory": "H_sol",
           "upper": 1408.0779052734374
          },
          {
           "lower": 1051.2054931640625,
           "timepoint": 406,
           "trajectory": "H_sol",
           "upper": 1379.1944091796875
          },
          {
           "lower": 1031.5166564941405,
           "timepoint": 407,
           "trajectory": "H_sol",
           "upper": 1351.191229248047
          },
          {
           "lower": 1012.4274078369141,
           "timepoint": 408,
           "trajectory": "H_sol",
           "upper": 1324.0388397216798
          },
          {
           "lower": 993.919921875,
           "timepoint": 409,
           "trajectory": "H_sol",
           "upper": 1297.711669921875
          },
          {
           "lower": 975.9779083251954,
           "timepoint": 410,
           "trajectory": "H_sol",
           "upper": 1272.1814544677734
          },
          {
           "lower": 958.5802490234375,
           "timepoint": 411,
           "trajectory": "H_sol",
           "upper": 1247.4248779296875
          },
          {
           "lower": 941.7072509765625,
           "timepoint": 412,
           "trajectory": "H_sol",
           "upper": 1223.4094482421874
          },
          {
           "lower": 925.3443969726562,
           "timepoint": 413,
           "trajectory": "H_sol",
           "upper": 1200.1197143554687
          },
          {
           "lower": 909.4779052734375,
           "timepoint": 414,
           "trajectory": "H_sol",
           "upper": 1177.5267333984375
          },
          {
           "lower": 894.08896484375,
           "timepoint": 415,
           "trajectory": "H_sol",
           "upper": 1155.60927734375
          },
          {
           "lower": 879.1612854003906,
           "timepoint": 416,
           "trajectory": "H_sol",
           "upper": 1134.3522644042969
          },
          {
           "lower": 864.6829010009766,
           "timepoint": 417,
           "trajectory": "H_sol",
           "upper": 1113.7249969482423
          },
          {
           "lower": 850.6381072998047,
           "timepoint": 418,
           "trajectory": "H_sol",
           "upper": 1093.7147369384766
          },
          {
           "lower": 837.0145324707031,
           "timepoint": 419,
           "trajectory": "H_sol",
           "upper": 1074.2951599121093
          },
          {
           "lower": 823.7974334716797,
           "timepoint": 420,
           "trajectory": "H_sol",
           "upper": 1055.4553131103517
          },
          {
           "lower": 810.9761413574219,
           "timepoint": 421,
           "trajectory": "H_sol",
           "upper": 1037.1704650878905
          },
          {
           "lower": 798.5364807128906,
           "timepoint": 422,
           "trajectory": "H_sol",
           "upper": 1019.4272644042969
          },
          {
           "lower": 786.4678741455078,
           "timepoint": 423,
           "trajectory": "H_sol",
           "upper": 1002.2071136474609
          },
          {
           "lower": 774.7593597412109,
           "timepoint": 424,
           "trajectory": "H_sol",
           "upper": 985.4917999267578
          },
          {
           "lower": 763.3997406005859,
           "timepoint": 425,
           "trajectory": "H_sol",
           "upper": 969.2696319580078
          },
          {
           "lower": 752.3771209716797,
           "timepoint": 426,
           "trajectory": "H_sol",
           "upper": 953.5211334228516
          },
          {
           "lower": 741.6832641601562,
           "timepoint": 427,
           "trajectory": "H_sol",
           "upper": 938.2348266601563
          },
          {
           "lower": 731.3070617675781,
           "timepoint": 428,
           "trajectory": "H_sol",
           "upper": 923.3963073730469
          },
          {
           "lower": 721.2400939941406,
           "timepoint": 429,
           "trajectory": "H_sol",
           "upper": 908.9906188964844
          },
          {
           "lower": 711.4724945068359,
           "timepoint": 430,
           "trajectory": "H_sol",
           "upper": 895.0060821533203
          },
          {
           "lower": 701.9959106445312,
           "timepoint": 431,
           "trajectory": "H_sol",
           "upper": 881.4290161132812
          },
          {
           "lower": 692.801644897461,
           "timepoint": 432,
           "trajectory": "H_sol",
           "upper": 868.2468780517578
          },
          {
           "lower": 683.8814544677734,
           "timepoint": 433,
           "trajectory": "H_sol",
           "upper": 855.4480743408203
          },
          {
           "lower": 675.2285003662109,
           "timepoint": 434,
           "trajectory": "H_sol",
           "upper": 843.0224151611328
          },
          {
           "lower": 666.833871459961,
           "timepoint": 435,
           "trajectory": "H_sol",
           "upper": 830.9576934814453
          },
          {
           "lower": 658.6910339355469,
           "timepoint": 436,
           "trajectory": "H_sol",
           "upper": 819.2429260253906
          },
          {
           "lower": 650.7930603027344,
           "timepoint": 437,
           "trajectory": "H_sol",
           "upper": 807.8684387207031
          },
          {
           "lower": 643.1318420410156,
           "timepoint": 438,
           "trajectory": "H_sol",
           "upper": 796.8251892089844
          },
          {
           "lower": 635.7022644042969,
           "timepoint": 439,
           "trajectory": "H_sol",
           "upper": 786.1027893066406
          },
          {
           "lower": 628.4974853515625,
           "timepoint": 440,
           "trajectory": "H_sol",
           "upper": 775.6909912109375
          },
          {
           "lower": 621.5116302490235,
           "timepoint": 441,
           "trajectory": "H_sol",
           "upper": 765.5825469970703
          },
          {
           "lower": 614.7381896972656,
           "timepoint": 442,
           "trajectory": "H_sol",
           "upper": 755.7680358886719
          },
          {
           "lower": 608.17275390625,
           "timepoint": 443,
           "trajectory": "H_sol",
           "upper": 746.2394775390625
          },
          {
           "lower": 601.8087158203125,
           "timepoint": 444,
           "trajectory": "H_sol",
           "upper": 736.9888916015625
          },
          {
           "lower": 595.6413269042969,
           "timepoint": 445,
           "trajectory": "H_sol",
           "upper": 728.0084533691406
          },
          {
           "lower": 589.6660858154297,
           "timepoint": 446,
           "trajectory": "H_sol",
           "upper": 719.290640258789
          },
          {
           "lower": 583.8755645751953,
           "timepoint": 447,
           "trajectory": "H_sol",
           "upper": 710.8283538818359
          },
          {
           "lower": 578.2676635742188,
           "timepoint": 448,
           "trajectory": "H_sol",
           "upper": 702.6146606445312
          },
          {
           "lower": 572.8374084472656,
           "timepoint": 449,
           "trajectory": "H_sol",
           "upper": 694.6429382324219
          },
          {
           "lower": 567.580288696289,
           "timepoint": 450,
           "trajectory": "H_sol",
           "upper": 686.9065887451172
          },
          {
           "lower": 562.4908264160156,
           "timepoint": 451,
           "trajectory": "H_sol",
           "upper": 679.3993103027344
          },
          {
           "lower": 557.5662658691406,
           "timepoint": 452,
           "trajectory": "H_sol",
           "upper": 672.1148864746094
          },
          {
           "lower": 552.802603149414,
           "timepoint": 453,
           "trajectory": "H_sol",
           "upper": 665.0486541748047
          },
          {
           "lower": 548.1960388183594,
           "timepoint": 454,
           "trajectory": "H_sol",
           "upper": 658.1943420410156
          },
          {
           "lower": 543.7426177978516,
           "timepoint": 455,
           "trajectory": "H_sol",
           "upper": 651.5449188232421
          },
          {
           "lower": 539.4382110595703,
           "timepoint": 456,
           "trajectory": "H_sol",
           "upper": 645.0966400146484
          },
          {
           "lower": 535.2801391601563,
           "timepoint": 457,
           "trajectory": "H_sol",
           "upper": 638.8458374023437
          },
          {
           "lower": 531.2661346435547,
           "timepoint": 458,
           "trajectory": "H_sol",
           "upper": 632.7856842041016
          },
          {
           "lower": 527.3917938232422,
           "timepoint": 459,
           "trajectory": "H_sol",
           "upper": 626.9116119384765
          },
          {
           "lower": 523.6536071777343,
           "timepoint": 460,
           "trajectory": "H_sol",
           "upper": 621.2195617675782
          },
          {
           "lower": 520.0497375488281,
           "timepoint": 461,
           "trajectory": "H_sol",
           "upper": 615.7053894042969
          },
          {
           "lower": 516.5767120361328,
           "timepoint": 462,
           "trajectory": "H_sol",
           "upper": 610.364633178711
          },
          {
           "lower": 513.2330001831054,
           "timepoint": 463,
           "trajectory": "H_sol",
           "upper": 605.1940322875977
          },
          {
           "lower": 510.0144668579102,
           "timepoint": 464,
           "trajectory": "H_sol",
           "upper": 600.1864303588867
          },
          {
           "lower": 506.9195388793945,
           "timepoint": 465,
           "trajectory": "H_sol",
           "upper": 595.3410507202149
          },
          {
           "lower": 503.9459426879883,
           "timepoint": 466,
           "trajectory": "H_sol",
           "upper": 590.6553451538086
          },
          {
           "lower": 501.0916915893555,
           "timepoint": 467,
           "trajectory": "H_sol",
           "upper": 586.1234268188476
          },
          {
           "lower": 498.35130004882814,
           "timepoint": 468,
           "trajectory": "H_sol",
           "upper": 581.7415954589844
          },
          {
           "lower": 495.726496887207,
           "timepoint": 469,
           "trajectory": "H_sol",
           "upper": 577.5080917358398
          },
          {
           "lower": 493.21427764892576,
           "timepoint": 470,
           "trajectory": "H_sol",
           "upper": 573.4191146850586
          },
          {
           "lower": 490.8120544433594,
           "timepoint": 471,
           "trajectory": "H_sol",
           "upper": 569.4716369628907
          },
          {
           "lower": 488.5179809570312,
           "timepoint": 472,
           "trajectory": "H_sol",
           "upper": 565.6624389648438
          },
          {
           "lower": 486.33138275146484,
           "timepoint": 473,
           "trajectory": "H_sol",
           "upper": 561.9896926879883
          },
          {
           "lower": 484.24925689697267,
           "timepoint": 474,
           "trajectory": "H_sol",
           "upper": 558.4490768432618
          },
          {
           "lower": 482.27005157470705,
           "timepoint": 475,
           "trajectory": "H_sol",
           "upper": 555.0402206420898
          },
          {
           "lower": 480.39255676269534,
           "timepoint": 476,
           "trajectory": "H_sol",
           "upper": 551.7582611083984
          },
          {
           "lower": 478.61498565673827,
           "timepoint": 477,
           "trajectory": "H_sol",
           "upper": 548.6005599975585
          },
          {
           "lower": 476.93641357421876,
           "timepoint": 478,
           "trajectory": "H_sol",
           "upper": 545.5693237304688
          },
          {
           "lower": 475.35509338378904,
           "timepoint": 479,
           "trajectory": "H_sol",
           "upper": 542.6571746826172
          },
          {
           "lower": 473.86914825439453,
           "timepoint": 480,
           "trajectory": "H_sol",
           "upper": 539.8636093139648
          },
          {
           "lower": 472.47814483642577,
           "timepoint": 481,
           "trajectory": "H_sol",
           "upper": 537.1869857788085
          },
          {
           "lower": 471.18029632568357,
           "timepoint": 482,
           "trajectory": "H_sol",
           "upper": 534.6246658325196
          },
          {
           "lower": 469.9754135131836,
           "timepoint": 483,
           "trajectory": "H_sol",
           "upper": 532.1752517700195
          },
          {
           "lower": 468.8614334106445,
           "timepoint": 484,
           "trajectory": "H_sol",
           "upper": 529.8369003295899
          },
          {
           "lower": 467.83777008056643,
           "timepoint": 485,
           "trajectory": "H_sol",
           "upper": 527.6072677612304
          },
          {
           "lower": 466.9029022216797,
           "timepoint": 486,
           "trajectory": "H_sol",
           "upper": 525.485464477539
          },
          {
           "lower": 466.05662536621094,
           "timepoint": 487,
           "trajectory": "H_sol",
           "upper": 523.4698028564453
          },
          {
           "lower": 465.2975509643555,
           "timepoint": 488,
           "trajectory": "H_sol",
           "upper": 521.5569717407227
          },
          {
           "lower": 464.62513275146483,
           "timepoint": 489,
           "trajectory": "H_sol",
           "upper": 519.7475784301757
          },
          {
           "lower": 464.03887329101565,
           "timepoint": 490,
           "trajectory": "H_sol",
           "upper": 518.0398620605469
          },
          {
           "lower": 463.5381057739258,
           "timepoint": 491,
           "trajectory": "H_sol",
           "upper": 516.4315902709961
          },
          {
           "lower": 463.12007598876954,
           "timepoint": 492,
           "trajectory": "H_sol",
           "upper": 514.9215194702149
          },
          {
           "lower": 462.7869171142578,
           "timepoint": 493,
           "trajectory": "H_sol",
           "upper": 513.510629272461
          },
          {
           "lower": 462.53682708740234,
           "timepoint": 494,
           "trajectory": "H_sol",
           "upper": 512.1948928833008
          },
          {
           "lower": 462.36961669921874,
           "timepoint": 495,
           "trajectory": "H_sol",
           "upper": 510.97401123046876
          },
          {
           "lower": 462.2846160888672,
           "timepoint": 496,
           "trajectory": "H_sol",
           "upper": 509.84789123535154
          },
          {
           "lower": 462.2813446044922,
           "timepoint": 497,
           "trajectory": "H_sol",
           "upper": 508.8145416259766
          },
          {
           "lower": 462.35917205810546,
           "timepoint": 498,
           "trajectory": "H_sol",
           "upper": 507.8729751586914
          },
          {
           "lower": 462.5181365966797,
           "timepoint": 499,
           "trajectory": "H_sol",
           "upper": 507.02281799316404
          },
          {
           "lower": 462.75777130126954,
           "timepoint": 500,
           "trajectory": "H_sol",
           "upper": 506.2628890991211
          },
          {
           "lower": 463.07777252197263,
           "timepoint": 501,
           "trajectory": "H_sol",
           "upper": 505.59236297607424
          },
          {
           "lower": 463.4781997680664,
           "timepoint": 502,
           "trajectory": "H_sol",
           "upper": 505.0107223510742
          },
          {
           "lower": 463.95833282470704,
           "timepoint": 503,
           "trajectory": "H_sol",
           "upper": 504.5169174194336
          },
          {
           "lower": 464.51829833984374,
           "timepoint": 504,
           "trajectory": "H_sol",
           "upper": 504.11060791015626
          },
          {
           "lower": 465.1581466674805,
           "timepoint": 505,
           "trajectory": "H_sol",
           "upper": 503.79110260009764
          },
          {
           "lower": 465.87718811035154,
           "timepoint": 506,
           "trajectory": "H_sol",
           "upper": 503.5579315185547
          },
          {
           "lower": 466.67600402832034,
           "timepoint": 507,
           "trajectory": "H_sol",
           "upper": 503.4106048583984
          },
          {
           "lower": 467.5544097900391,
           "timepoint": 508,
           "trajectory": "H_sol",
           "upper": 503.3472625732422
          },
          {
           "lower": 468.512190246582,
           "timepoint": 509,
           "trajectory": "H_sol",
           "upper": 503.3693099975586
          },
          {
           "lower": 469.5496368408203,
           "timepoint": 510,
           "trajectory": "H_sol",
           "upper": 503.47569274902344
          },
          {
           "lower": 470.6668304443359,
           "timepoint": 511,
           "trajectory": "H_sol",
           "upper": 503.6662994384766
          },
          {
           "lower": 471.86410369873045,
           "timepoint": 512,
           "trajectory": "H_sol",
           "upper": 503.94030914306643
          },
          {
           "lower": 473.1411758422852,
           "timepoint": 513,
           "trajectory": "H_sol",
           "upper": 504.2978805541992
          },
          {
           "lower": 474.4984985351563,
           "timepoint": 514,
           "trajectory": "H_sol",
           "upper": 504.7388061523437
          },
          {
           "lower": 475.9362487792969,
           "timepoint": 515,
           "trajectory": "H_sol",
           "upper": 505.2631530761719
          },
          {
           "lower": 477.4553695678711,
           "timepoint": 516,
           "trajectory": "H_sol",
           "upper": 505.86796417236326
          },
          {
           "lower": 479.0551818847656,
           "timepoint": 517,
           "trajectory": "H_sol",
           "upper": 506.55681762695315
          },
          {
           "lower": 480.7364730834961,
           "timepoint": 518,
           "trajectory": "H_sol",
           "upper": 507.3281936645508
          },
          {
           "lower": 482.4995712280273,
           "timepoint": 519,
           "trajectory": "H_sol",
           "upper": 508.18228302001955
          },
          {
           "lower": 484.3452117919922,
           "timepoint": 520,
           "trajectory": "H_sol",
           "upper": 509.1187774658203
          },
          {
           "lower": 486.2731231689453,
           "timepoint": 521,
           "trajectory": "H_sol",
           "upper": 510.1380096435547
          },
          {
           "lower": 488.2843490600586,
           "timepoint": 522,
           "trajectory": "H_sol",
           "upper": 511.239485168457
          },
          {
           "lower": 490.37914886474607,
           "timepoint": 523,
           "trajectory": "H_sol",
           "upper": 512.4237380981446
          },
          {
           "lower": 492.5587890625,
           "timepoint": 524,
           "trajectory": "H_sol",
           "upper": 513.6912109375
          },
          {
           "lower": 494.82293395996095,
           "timepoint": 525,
           "trajectory": "H_sol",
           "upper": 515.0410186767579
          },
          {
           "lower": 497.17285919189453,
           "timepoint": 526,
           "trajectory": "H_sol",
           "upper": 516.4743270874023
          },
          {
           "lower": 499.6084259033203,
           "timepoint": 527,
           "trajectory": "H_sol",
           "upper": 517.991244506836
          },
          {
           "lower": 502.13087158203126,
           "timepoint": 528,
           "trajectory": "H_sol",
           "upper": 519.5916625976563
          },
          {
           "lower": 504.74066162109375,
           "timepoint": 529,
           "trajectory": "H_sol",
           "upper": 521.2761840820312
          },
          {
           "lower": 507.44010162353516,
           "timepoint": 530,
           "trajectory": "H_sol",
           "upper": 523.0452194213867
          },
          {
           "lower": 510.22774505615234,
           "timepoint": 531,
           "trajectory": "H_sol",
           "upper": 524.8987503051758
          },
          {
           "lower": 513.1050750732422,
           "timepoint": 532,
           "trajectory": "H_sol",
           "upper": 526.8374908447265
          },
          {
           "lower": 516.0744934082031,
           "timepoint": 533,
           "trajectory": "H_sol",
           "upper": 528.8620300292969
          },
          {
           "lower": 519.1353393554688,
           "timepoint": 534,
           "trajectory": "H_sol",
           "upper": 530.9724487304687
          },
          {
           "lower": 522.2880035400391,
           "timepoint": 535,
           "trajectory": "H_sol",
           "upper": 533.1695770263672
          },
          {
           "lower": 525.5346160888672,
           "timepoint": 536,
           "trajectory": "H_sol",
           "upper": 535.4543365478515
          },
          {
           "lower": 528.8761566162109,
           "timepoint": 537,
           "trajectory": "H_sol",
           "upper": 537.8255645751954
          },
          {
           "lower": 532.3133422851563,
           "timepoint": 538,
           "trajectory": "H_sol",
           "upper": 540.2859008789062
          },
          {
           "lower": 535.8476104736328,
           "timepoint": 539,
           "trajectory": "H_sol",
           "upper": 542.8351898193359
          },
          {
           "lower": 539.4802124023438,
           "timepoint": 540,
           "trajectory": "H_sol",
           "upper": 545.4741333007812
          },
          {
           "lower": 543.2104797363281,
           "timepoint": 541,
           "trajectory": "H_sol",
           "upper": 548.2032165527344
          },
          {
           "lower": 547.0420501708984,
           "timepoint": 542,
           "trajectory": "H_sol",
           "upper": 551.0234405517579
          },
          {
           "lower": 550.9745208740235,
           "timepoint": 543,
           "trajectory": "H_sol",
           "upper": 553.9359405517578
          },
          {
           "lower": 555.0100921630859,
           "timepoint": 544,
           "trajectory": "H_sol",
           "upper": 556.9407745361328
          },
          {
           "lower": 559.1499542236328,
           "timepoint": 545,
           "trajectory": "H_sol",
           "upper": 560.039682006836
          },
          {
           "lower": 563.2325775146485,
           "timepoint": 546,
           "trajectory": "H_sol",
           "upper": 563.3946807861328
          },
          {
           "lower": 566.5204925537109,
           "timepoint": 547,
           "trajectory": "H_sol",
           "upper": 567.7462921142578
          },
          {
           "lower": 569.905908203125,
           "timepoint": 548,
           "trajectory": "H_sol",
           "upper": 572.2057861328125
          },
          {
           "lower": 573.3880004882812,
           "timepoint": 549,
           "trajectory": "H_sol",
           "upper": 576.7761840820312
          },
          {
           "lower": 576.9682983398437,
           "timepoint": 550,
           "trajectory": "H_sol",
           "upper": 581.4568725585938
          },
          {
           "lower": 580.6481628417969,
           "timepoint": 551,
           "trajectory": "H_sol",
           "upper": 586.2506408691406
          },
          {
           "lower": 584.4283264160156,
           "timepoint": 552,
           "trajectory": "H_sol",
           "upper": 591.1582214355469
          },
          {
           "lower": 588.3092712402344,
           "timepoint": 553,
           "trajectory": "H_sol",
           "upper": 596.1810852050781
          },
          {
           "lower": 592.2951965332031,
           "timepoint": 554,
           "trajectory": "H_sol",
           "upper": 601.3232116699219
          },
          {
           "lower": 596.3843139648437,
           "timepoint": 555,
           "trajectory": "H_sol",
           "upper": 606.5835815429688
          },
          {
           "lower": 600.5777557373046,
           "timepoint": 556,
           "trajectory": "H_sol",
           "upper": 611.9650299072266
          },
          {
           "lower": 604.8777770996094,
           "timepoint": 557,
           "trajectory": "H_sol",
           "upper": 617.4686584472656
          },
          {
           "lower": 609.2855560302735,
           "timepoint": 558,
           "trajectory": "H_sol",
           "upper": 623.0970733642578
          },
          {
           "lower": 613.8035583496094,
           "timepoint": 559,
           "trajectory": "H_sol",
           "upper": 628.8520812988281
          },
          {
           "lower": 618.4311004638672,
           "timepoint": 560,
           "trajectory": "H_sol",
           "upper": 634.734976196289
          },
          {
           "lower": 623.1700653076172,
           "timepoint": 561,
           "trajectory": "H_sol",
           "upper": 640.7474761962891
          },
          {
           "lower": 628.024267578125,
           "timepoint": 562,
           "trajectory": "H_sol",
           "upper": 646.8939453125
          },
          {
           "lower": 632.9923461914062,
           "timepoint": 563,
           "trajectory": "H_sol",
           "upper": 653.1737915039063
          },
          {
           "lower": 638.0770385742187,
           "timepoint": 564,
           "trajectory": "H_sol",
           "upper": 659.5895874023438
          },
          {
           "lower": 643.2789916992188,
           "timepoint": 565,
           "trajectory": "H_sol",
           "upper": 666.1437377929688
          },
          {
           "lower": 648.6010162353516,
           "timepoint": 566,
           "trajectory": "H_sol",
           "upper": 672.8380096435546
          },
          {
           "lower": 654.04423828125,
           "timepoint": 567,
           "trajectory": "H_sol",
           "upper": 679.676220703125
          },
          {
           "lower": 659.6101776123047,
           "timepoint": 568,
           "trajectory": "H_sol",
           "upper": 686.6586822509765
          },
          {
           "lower": 4,
           "timepoint": 0,
           "trajectory": "I_sol",
           "upper": 4
          },
          {
           "lower": 3.643030107021332,
           "timepoint": 1,
           "trajectory": "I_sol",
           "upper": 3.6472089886665344
          },
          {
           "lower": 3.5010398268699645,
           "timepoint": 2,
           "trajectory": "I_sol",
           "upper": 3.5069035649299622
          },
          {
           "lower": 3.487596535682678,
           "timepoint": 3,
           "trajectory": "I_sol",
           "upper": 3.4930987119674684
          },
          {
           "lower": 3.5525145053863527,
           "timepoint": 4,
           "trajectory": "I_sol",
           "upper": 3.5560327053070067
          },
          {
           "lower": 3.6667348384857177,
           "timepoint": 5,
           "trajectory": "I_sol",
           "upper": 3.6669519901275636
          },
          {
           "lower": 3.8093680500984193,
           "timepoint": 6,
           "trajectory": "I_sol",
           "upper": 3.8135164618492126
          },
          {
           "lower": 3.9738667964935304,
           "timepoint": 7,
           "trajectory": "I_sol",
           "upper": 3.9832927227020263
          },
          {
           "lower": 4.155158352851868,
           "timepoint": 8,
           "trajectory": "I_sol",
           "upper": 4.170699286460876
          },
          {
           "lower": 4.3503858089447025,
           "timepoint": 9,
           "trajectory": "I_sol",
           "upper": 4.3728245258331295
          },
          {
           "lower": 4.558082175254822,
           "timepoint": 10,
           "trajectory": "I_sol",
           "upper": 4.588192868232727
          },
          {
           "lower": 4.777610611915589,
           "timepoint": 11,
           "trajectory": "I_sol",
           "upper": 4.816179919242859
          },
          {
           "lower": 5.0088263034820555,
           "timepoint": 12,
           "trajectory": "I_sol",
           "upper": 5.0566691875457765
          },
          {
           "lower": 5.251879334449768,
           "timepoint": 13,
           "trajectory": "I_sol",
           "upper": 5.30985152721405
          },
          {
           "lower": 5.507103896141052,
           "timepoint": 14,
           "trajectory": "I_sol",
           "upper": 5.576119923591614
          },
          {
           "lower": 5.774946999549866,
           "timepoint": 15,
           "trajectory": "I_sol",
           "upper": 5.8559509992599486
          },
          {
           "lower": 6.055948090553284,
           "timepoint": 16,
           "trajectory": "I_sol",
           "upper": 6.149972605705261
          },
          {
           "lower": 6.350695323944092,
           "timepoint": 17,
           "trajectory": "I_sol",
           "upper": 6.458836841583252
          },
          {
           "lower": 6.659835720062256,
           "timepoint": 18,
           "trajectory": "I_sol",
           "upper": 6.783258533477783
          },
          {
           "lower": 6.984039783477783,
           "timepoint": 19,
           "trajectory": "I_sol",
           "upper": 7.124003887176514
          },
          {
           "lower": 7.324045252799988,
           "timepoint": 20,
           "trajectory": "I_sol",
           "upper": 7.4818805932998655
          },
          {
           "lower": 7.680617094039917,
           "timepoint": 21,
           "trajectory": "I_sol",
           "upper": 7.857741594314575
          },
          {
           "lower": 8.054552555084229,
           "timepoint": 22,
           "trajectory": "I_sol",
           "upper": 8.252503871917725
          },
          {
           "lower": 8.446697282791138,
           "timepoint": 23,
           "trajectory": "I_sol",
           "upper": 8.667094182968139
          },
          {
           "lower": 8.857933950424194,
           "timepoint": 24,
           "trajectory": "I_sol",
           "upper": 9.102516222000123
          },
          {
           "lower": 9.289194822311401,
           "timepoint": 25,
           "trajectory": "I_sol",
           "upper": 9.559814691543579
          },
          {
           "lower": 9.741451120376587,
           "timepoint": 26,
           "trajectory": "I_sol",
           "upper": 10.040087842941285
          },
          {
           "lower": 10.21573872566223,
           "timepoint": 27,
           "trajectory": "I_sol",
           "upper": 10.544495153427125
          },
          {
           "lower": 10.7131103515625,
           "timepoint": 28,
           "trajectory": "I_sol",
           "upper": 11.074241256713867
          },
          {
           "lower": 11.234697246551514,
           "timepoint": 29,
           "trajectory": "I_sol",
           "upper": 11.630598163604736
          },
          {
           "lower": 11.781689977645874,
           "timepoint": 30,
           "trajectory": "I_sol",
           "upper": 12.21491780281067
          },
          {
           "lower": 12.355310821533203,
           "timepoint": 31,
           "trajectory": "I_sol",
           "upper": 12.828588104248047
          },
          {
           "lower": 12.956863498687744,
           "timepoint": 32,
           "trajectory": "I_sol",
           "upper": 13.473085308074952
          },
          {
           "lower": 13.587713575363159,
           "timepoint": 33,
           "trajectory": "I_sol",
           "upper": 14.149962091445923
          },
          {
           "lower": 14.24924988746643,
           "timepoint": 34,
           "trajectory": "I_sol",
           "upper": 14.860869932174683
          },
          {
           "lower": 14.943013000488282,
           "timepoint": 35,
           "trajectory": "I_sol",
           "upper": 15.607476425170898
          },
          {
           "lower": 15.670549297332764,
           "timepoint": 36,
           "trajectory": "I_sol",
           "upper": 16.391594028472902
          },
          {
           "lower": 16.433529472351076,
           "timepoint": 37,
           "trajectory": "I_sol",
           "upper": 17.215114021301268
          },
          {
           "lower": 17.2336537361145,
           "timepoint": 38,
           "trajectory": "I_sol",
           "upper": 18.08000783920288
          },
          {
           "lower": 18.072746753692627,
           "timepoint": 39,
           "trajectory": "I_sol",
           "upper": 18.988362789154053
          },
          {
           "lower": 18.95265483856201,
           "timepoint": 40,
           "trajectory": "I_sol",
           "upper": 19.942334175109863
          },
          {
           "lower": 19.875430202484132,
           "timepoint": 41,
           "trajectory": "I_sol",
           "upper": 20.94424715042114
          },
          {
           "lower": 20.843130683898927,
           "timepoint": 42,
           "trajectory": "I_sol",
           "upper": 21.996499443054198
          },
          {
           "lower": 21.857940196990967,
           "timepoint": 43,
           "trajectory": "I_sol",
           "upper": 23.10161828994751
          },
          {
           "lower": 22.922199249267578,
           "timepoint": 44,
           "trajectory": "I_sol",
           "upper": 24.262256622314453
          },
          {
           "lower": 24.03825807571411,
           "timepoint": 45,
           "trajectory": "I_sol",
           "upper": 25.481217861175537
          },
          {
           "lower": 25.20867223739624,
           "timepoint": 46,
           "trajectory": "I_sol",
           "upper": 26.761430072784425
          },
          {
           "lower": 26.4360408782959,
           "timepoint": 47,
           "trajectory": "I_sol",
           "upper": 28.105928421020508
          },
          {
           "lower": 27.72318983078003,
           "timepoint": 48,
           "trajectory": "I_sol",
           "upper": 29.518003940582275
          },
          {
           "lower": 29.073010635375976,
           "timepoint": 49,
           "trajectory": "I_sol",
           "upper": 31.00102882385254
          },
          {
           "lower": 30.48855562210083,
           "timepoint": 50,
           "trajectory": "I_sol",
           "upper": 32.55854635238647
          },
          {
           "lower": 31.97302989959717,
           "timepoint": 51,
           "trajectory": "I_sol",
           "upper": 34.19432468414307
          },
          {
           "lower": 33.52978401184082,
           "timepoint": 52,
           "trajectory": "I_sol",
           "upper": 35.9122859954834
          },
          {
           "lower": 35.16234378814697,
           "timepoint": 53,
           "trajectory": "I_sol",
           "upper": 37.716558647155765
          },
          {
           "lower": 36.87436504364014,
           "timepoint": 54,
           "trajectory": "I_sol",
           "upper": 39.61150913238525
          },
          {
           "lower": 38.669760131835936,
           "timepoint": 55,
           "trajectory": "I_sol",
           "upper": 41.60164031982422
          },
          {
           "lower": 40.55255546569824,
           "timepoint": 56,
           "trajectory": "I_sol",
           "upper": 43.69176826477051
          },
          {
           "lower": 42.527091598510744,
           "timepoint": 57,
           "trajectory": "I_sol",
           "upper": 45.886909866333006
          },
          {
           "lower": 44.5977258682251,
           "timepoint": 58,
           "trajectory": "I_sol",
           "upper": 48.19233226776123
          },
          {
           "lower": 46.769169616699216,
           "timepoint": 59,
           "trajectory": "I_sol",
           "upper": 50.61357421875
          },
          {
           "lower": 49.04631938934326,
           "timepoint": 60,
           "trajectory": "I_sol",
           "upper": 53.1564661026001
          },
          {
           "lower": 51.43446559906006,
           "timepoint": 61,
           "trajectory": "I_sol",
           "upper": 55.82718067169189
          },
          {
           "lower": 53.93883018493652,
           "timepoint": 62,
           "trajectory": "I_sol",
           "upper": 58.63203163146973
          },
          {
           "lower": 56.565148544311526,
           "timepoint": 63,
           "trajectory": "I_sol",
           "upper": 61.57781867980957
          },
          {
           "lower": 59.31926155090332,
           "timepoint": 64,
           "trajectory": "I_sol",
           "upper": 64.67156028747559
          },
          {
           "lower": 62.20753173828125,
           "timepoint": 65,
           "trajectory": "I_sol",
           "upper": 67.92077941894532
          },
          {
           "lower": 65.2364128112793,
           "timepoint": 66,
           "trajectory": "I_sol",
           "upper": 71.3332893371582
          },
          {
           "lower": 68.41272315979003,
           "timepoint": 67,
           "trajectory": "I_sol",
           "upper": 74.91710319519044
          },
          {
           "lower": 71.74384536743165,
           "timepoint": 68,
           "trajectory": "I_sol",
           "upper": 78.68106613159179
          },
          {
           "lower": 75.23708152770996,
           "timepoint": 69,
           "trajectory": "I_sol",
           "upper": 82.63414192199707
          },
          {
           "lower": 78.9004035949707,
           "timepoint": 70,
           "trajectory": "I_sol",
           "upper": 86.78579940795899
          },
          {
           "lower": 82.74207801818848,
           "timepoint": 71,
           "trajectory": "I_sol",
           "upper": 91.14602165222168
          },
          {
           "lower": 86.7708179473877,
           "timepoint": 72,
           "trajectory": "I_sol",
           "upper": 95.72531394958496
          },
          {
           "lower": 90.99567985534668,
           "timepoint": 73,
           "trajectory": "I_sol",
           "upper": 100.5346622467041
          },
          {
           "lower": 95.42623023986816,
           "timepoint": 74,
           "trajectory": "I_sol",
           "upper": 105.58567924499512
          },
          {
           "lower": 100.07262916564942,
           "timepoint": 75,
           "trajectory": "I_sol",
           "upper": 110.89040641784668
          },
          {
           "lower": 104.94516944885254,
           "timepoint": 76,
           "trajectory": "I_sol",
           "upper": 116.46162223815918
          },
          {
           "lower": 110.05496025085449,
           "timepoint": 77,
           "trajectory": "I_sol",
           "upper": 122.31264686584473
          },
          {
           "lower": 115.41355972290039,
           "timepoint": 78,
           "trajectory": "I_sol",
           "upper": 128.45791549682616
          },
          {
           "lower": 121.03303947448731,
           "timepoint": 79,
           "trajectory": "I_sol",
           "upper": 134.91173133850097
          },
          {
           "lower": 126.92610092163086,
           "timepoint": 80,
           "trajectory": "I_sol",
           "upper": 141.68978958129884
          },
          {
           "lower": 133.10605163574218,
           "timepoint": 81,
           "trajectory": "I_sol",
           "upper": 148.80831604003907
          },
          {
           "lower": 139.58700103759764,
           "timepoint": 82,
           "trajectory": "I_sol",
           "upper": 156.28448944091798
          },
          {
           "lower": 146.3833969116211,
           "timepoint": 83,
           "trajectory": "I_sol",
           "upper": 164.13628692626952
          },
          {
           "lower": 153.51072158813477,
           "timepoint": 84,
           "trajectory": "I_sol",
           "upper": 172.38239059448242
          },
          {
           "lower": 160.9850631713867,
           "timepoint": 85,
           "trajectory": "I_sol",
           "upper": 181.04282989501954
          },
          {
           "lower": 168.82330169677735,
           "timepoint": 86,
           "trajectory": "I_sol",
           "upper": 190.13839874267578
          },
          {
           "lower": 177.0431007385254,
           "timepoint": 87,
           "trajectory": "I_sol",
           "upper": 199.69104537963867
          },
          {
           "lower": 185.66297149658203,
           "timepoint": 88,
           "trajectory": "I_sol",
           "upper": 209.72289276123047
          },
          {
           "lower": 194.70274047851564,
           "timepoint": 89,
           "trajectory": "I_sol",
           "upper": 220.25908203125
          },
          {
           "lower": 204.18246688842774,
           "timepoint": 90,
           "trajectory": "I_sol",
           "upper": 231.32450637817382
          },
          {
           "lower": 214.12364044189454,
           "timepoint": 91,
           "trajectory": "I_sol",
           "upper": 242.94569549560546
          },
          {
           "lower": 224.54891357421874,
           "timepoint": 92,
           "trajectory": "I_sol",
           "upper": 255.15067138671876
          },
          {
           "lower": 235.48161392211915,
           "timepoint": 93,
           "trajectory": "I_sol",
           "upper": 267.96874923706054
          },
          {
           "lower": 246.94658203125,
           "timepoint": 94,
           "trajectory": "I_sol",
           "upper": 281.43079833984376
          },
          {
           "lower": 258.96975860595705,
           "timepoint": 95,
           "trajectory": "I_sol",
           "upper": 295.5685409545898
          },
          {
           "lower": 271.5778381347656,
           "timepoint": 96,
           "trajectory": "I_sol",
           "upper": 310.41648559570314
          },
          {
           "lower": 284.7998611450195,
           "timepoint": 97,
           "trajectory": "I_sol",
           "upper": 326.01004486083986
          },
          {
           "lower": 298.6654296875,
           "timepoint": 98,
           "trajectory": "I_sol",
           "upper": 342.3876098632812
          },
          {
           "lower": 313.2062393188477,
           "timepoint": 99,
           "trajectory": "I_sol",
           "upper": 359.58724822998045
          },
          {
           "lower": 328.4546142578125,
           "timepoint": 100,
           "trajectory": "I_sol",
           "upper": 377.650732421875
          },
          {
           "lower": 344.4452239990234,
           "timepoint": 101,
           "trajectory": "I_sol",
           "upper": 396.6209991455078
          },
          {
           "lower": 361.21403350830076,
           "timepoint": 102,
           "trajectory": "I_sol",
           "upper": 416.54417572021487
          },
          {
           "lower": 378.7991058349609,
           "timepoint": 103,
           "trajectory": "I_sol",
           "upper": 437.4678009033203
          },
          {
           "lower": 397.2400863647461,
           "timepoint": 104,
           "trajectory": "I_sol",
           "upper": 459.44201202392577
          },
          {
           "lower": 416.5786880493164,
           "timepoint": 105,
           "trajectory": "I_sol",
           "upper": 482.51997528076174
          },
          {
           "lower": 436.85804138183596,
           "timepoint": 106,
           "trajectory": "I_sol",
           "upper": 506.7565216064453
          },
          {
           "lower": 458.12460174560545,
           "timepoint": 107,
           "trajectory": "I_sol",
           "upper": 532.2097793579102
          },
          {
           "lower": 480.42614593505857,
           "timepoint": 108,
           "trajectory": "I_sol",
           "upper": 558.9415603637696
          },
          {
           "lower": 503.8131607055664,
           "timepoint": 109,
           "trajectory": "I_sol",
           "upper": 587.0151779174805
          },
          {
           "lower": 528.3374572753906,
           "timepoint": 110,
           "trajectory": "I_sol",
           "upper": 616.4982360839844
          },
          {
           "lower": 554.0556091308594,
           "timepoint": 111,
           "trajectory": "I_sol",
           "upper": 647.4614807128906
          },
          {
           "lower": 581.0253601074219,
           "timepoint": 112,
           "trajectory": "I_sol",
           "upper": 679.9786682128906
          },
          {
           "lower": 609.3066040039063,
           "timepoint": 113,
           "trajectory": "I_sol",
           "upper": 714.1286987304687
          },
          {
           "lower": 638.9642456054687,
           "timepoint": 114,
           "trajectory": "I_sol",
           "upper": 749.9933959960938
          },
          {
           "lower": 670.0645935058594,
           "timepoint": 115,
           "trajectory": "I_sol",
           "upper": 787.6559875488281
          },
          {
           "lower": 702.6777923583984,
           "timepoint": 116,
           "trajectory": "I_sol",
           "upper": 827.2099639892579
          },
          {
           "lower": 736.8781555175781,
           "timepoint": 117,
           "trajectory": "I_sol",
           "upper": 868.7489196777344
          },
          {
           "lower": 772.7417449951172,
           "timepoint": 118,
           "trajectory": "I_sol",
           "upper": 912.3733062744141
          },
          {
           "lower": 810.3499084472656,
           "timepoint": 119,
           "trajectory": "I_sol",
           "upper": 958.1862243652344
          },
          {
           "lower": 849.7868621826171,
           "timepoint": 120,
           "trajectory": "I_sol",
           "upper": 1006.2980377197266
          },
          {
           "lower": 891.141943359375,
           "timepoint": 121,
           "trajectory": "I_sol",
           "upper": 1056.82412109375
          },
          {
           "lower": 934.5076446533203,
           "timepoint": 122,
           "trajectory": "I_sol",
           "upper": 1109.8826751708984
          },
          {
           "lower": 979.9818267822266,
           "timepoint": 123,
           "trajectory": "I_sol",
           "upper": 1165.6038055419922
          },
          {
           "lower": 1027.6696228027345,
           "timepoint": 124,
           "trajectory": "I_sol",
           "upper": 1224.119561767578
          },
          {
           "lower": 1077.6752136230468,
           "timepoint": 125,
           "trajectory": "I_sol",
           "upper": 1285.5724670410157
          },
          {
           "lower": 1130.1127136230468,
           "timepoint": 126,
           "trajectory": "I_sol",
           "upper": 1350.1059143066407
          },
          {
           "lower": 1185.095166015625,
           "timepoint": 127,
           "trajectory": "I_sol",
           "upper": 1417.8748046875
          },
          {
           "lower": 1242.7531433105469,
           "timepoint": 128,
           "trajectory": "I_sol",
           "upper": 1489.0419006347656
          },
          {
           "lower": 1303.2135131835937,
           "timepoint": 129,
           "trajectory": "I_sol",
           "upper": 1563.7764770507813
          },
          {
           "lower": 1366.6104797363282,
           "timepoint": 130,
           "trajectory": "I_sol",
           "upper": 1642.2575622558593
          },
          {
           "lower": 1433.0888671875,
           "timepoint": 131,
           "trajectory": "I_sol",
           "upper": 1724.672607421875
          },
          {
           "lower": 1502.7972351074218,
           "timepoint": 132,
           "trajectory": "I_sol",
           "upper": 1811.2163146972657
          },
          {
           "lower": 1575.8912109375,
           "timepoint": 133,
           "trajectory": "I_sol",
           "upper": 1902.096826171875
          },
          {
           "lower": 1652.5395141601562,
           "timepoint": 134,
           "trajectory": "I_sol",
           "upper": 1997.5293334960938
          },
          {
           "lower": 1732.9089233398438,
           "timepoint": 135,
           "trajectory": "I_sol",
           "upper": 2097.7470825195314
          },
          {
           "lower": 1817.1810607910156,
           "timepoint": 136,
           "trajectory": "I_sol",
           "upper": 2202.981903076172
          },
          {
           "lower": 1905.5440612792968,
           "timepoint": 137,
           "trajectory": "I_sol",
           "upper": 2313.4882873535157
          },
          {
           "lower": 1998.1974060058594,
           "timepoint": 138,
           "trajectory": "I_sol",
           "upper": 2429.5209777832033
          },
          {
           "lower": 2095.3484619140627,
           "timepoint": 139,
           "trajectory": "I_sol",
           "upper": 2551.3658935546873
          },
          {
           "lower": 2197.2156372070312,
           "timepoint": 140,
           "trajectory": "I_sol",
           "upper": 2679.3099975585938
          },
          {
           "lower": 2304.02646484375,
           "timepoint": 141,
           "trajectory": "I_sol",
           "upper": 2813.65322265625
          },
          {
           "lower": 2416.0209228515623,
           "timepoint": 142,
           "trajectory": "I_sol",
           "upper": 2954.7188232421877
          },
          {
           "lower": 2533.4415283203125,
           "timepoint": 143,
           "trajectory": "I_sol",
           "upper": 3102.8387451171875
          },
          {
           "lower": 2656.560888671875,
           "timepoint": 144,
           "trajectory": "I_sol",
           "upper": 3258.367333984375
          },
          {
           "lower": 2785.64892578125,
           "timepoint": 145,
           "trajectory": "I_sol",
           "upper": 3421.66943359375
          },
          {
           "lower": 2920.9973266601564,
           "timepoint": 146,
           "trajectory": "I_sol",
           "upper": 3593.1323120117186
          },
          {
           "lower": 3062.904431152344,
           "timepoint": 147,
           "trajectory": "I_sol",
           "upper": 3773.164172363281
          },
          {
           "lower": 3211.6884887695314,
           "timepoint": 148,
           "trajectory": "I_sol",
           "upper": 3962.1867553710936
          },
          {
           "lower": 3367.6772583007814,
           "timepoint": 149,
           "trajectory": "I_sol",
           "upper": 4160.648669433594
          },
          {
           "lower": 3531.2221557617186,
           "timepoint": 150,
           "trajectory": "I_sol",
           "upper": 4369.017346191406
          },
          {
           "lower": 3702.684814453125,
           "timepoint": 151,
           "trajectory": "I_sol",
           "upper": 4587.782958984375
          },
          {
           "lower": 3882.447717285156,
           "timepoint": 152,
           "trajectory": "I_sol",
           "upper": 4817.458288574218
          },
          {
           "lower": 4070.907824707031,
           "timepoint": 153,
           "trajectory": "I_sol",
           "upper": 5058.593884277344
          },
          {
           "lower": 4268.482397460937,
           "timepoint": 154,
           "trajectory": "I_sol",
           "upper": 5311.743676757813
          },
          {
           "lower": 4475.617456054688,
           "timepoint": 155,
           "trajectory": "I_sol",
           "upper": 5577.507055664062
          },
          {
           "lower": 4692.761889648437,
           "timepoint": 156,
           "trajectory": "I_sol",
           "upper": 5856.507153320313
          },
          {
           "lower": 4920.40087890625,
           "timepoint": 157,
           "trajectory": "I_sol",
           "upper": 6149.39306640625
          },
          {
           "lower": 5159.0287109375,
           "timepoint": 158,
           "trajectory": "I_sol",
           "upper": 6456.8462890625
          },
          {
           "lower": 5409.182958984375,
           "timepoint": 159,
           "trajectory": "I_sol",
           "upper": 6779.606103515625
          },
          {
           "lower": 5671.411694335938,
           "timepoint": 160,
           "trajectory": "I_sol",
           "upper": 7118.400317382812
          },
          {
           "lower": 5946.284350585937,
           "timepoint": 161,
           "trajectory": "I_sol",
           "upper": 7474.028637695313
          },
          {
           "lower": 6234.4144287109375,
           "timepoint": 162,
           "trajectory": "I_sol",
           "upper": 7847.3018798828125
          },
          {
           "lower": 6536.428369140625,
           "timepoint": 163,
           "trajectory": "I_sol",
           "upper": 8239.109716796875
          },
          {
           "lower": 6852.9947509765625,
           "timepoint": 164,
           "trajectory": "I_sol",
           "upper": 8650.360229492188
          },
          {
           "lower": 7184.798681640625,
           "timepoint": 165,
           "trajectory": "I_sol",
           "upper": 9081.932763671875
          },
          {
           "lower": 7532.5640869140625,
           "timepoint": 166,
           "trajectory": "I_sol",
           "upper": 9534.908081054688
          },
          {
           "lower": 7897.057104492187,
           "timepoint": 167,
           "trajectory": "I_sol",
           "upper": 10010.298852539063
          },
          {
           "lower": 8279.070556640625,
           "timepoint": 168,
           "trajectory": "I_sol",
           "upper": 10509.194091796875
          },
          {
           "lower": 8679.415087890626,
           "timepoint": 169,
           "trajectory": "I_sol",
           "upper": 11032.740185546874
          },
          {
           "lower": 9098.978857421875,
           "timepoint": 170,
           "trajectory": "I_sol",
           "upper": 11582.106103515625
          },
          {
           "lower": 9538.6712890625,
           "timepoint": 171,
           "trajectory": "I_sol",
           "upper": 12158.5748046875
          },
          {
           "lower": 9999.41728515625,
           "timepoint": 172,
           "trajectory": "I_sol",
           "upper": 12763.44208984375
          },
          {
           "lower": 10482.227880859375,
           "timepoint": 173,
           "trajectory": "I_sol",
           "upper": 13398.075830078125
          },
          {
           "lower": 10988.144384765625,
           "timepoint": 174,
           "trajectory": "I_sol",
           "upper": 14063.909326171875
          },
          {
           "lower": 11518.2376953125,
           "timepoint": 175,
           "trajectory": "I_sol",
           "upper": 14762.4458984375
          },
          {
           "lower": 12073.637939453125,
           "timepoint": 176,
           "trajectory": "I_sol",
           "upper": 15495.241943359375
          },
          {
           "lower": 12655.55380859375,
           "timepoint": 177,
           "trajectory": "I_sol",
           "upper": 16263.94033203125
          },
          {
           "lower": 13265.191845703124,
           "timepoint": 178,
           "trajectory": "I_sol",
           "upper": 17070.248583984376
          },
          {
           "lower": 13903.8541015625,
           "timepoint": 179,
           "trajectory": "I_sol",
           "upper": 17915.9662109375
          },
          {
           "lower": 14572.88212890625,
           "timepoint": 180,
           "trajectory": "I_sol",
           "upper": 18802.90498046875
          },
          {
           "lower": 15273.678515625,
           "timepoint": 181,
           "trajectory": "I_sol",
           "upper": 19733.087109375
          },
          {
           "lower": 16007.7447265625,
           "timepoint": 182,
           "trajectory": "I_sol",
           "upper": 20708.4974609375
          },
          {
           "lower": 16776.57373046875,
           "timepoint": 183,
           "trajectory": "I_sol",
           "upper": 21731.27587890625
          },
          {
           "lower": 17581.77353515625,
           "timepoint": 184,
           "trajectory": "I_sol",
           "upper": 22803.63857421875
          },
          {
           "lower": 18425.02861328125,
           "timepoint": 185,
           "trajectory": "I_sol",
           "upper": 23927.88349609375
          },
          {
           "lower": 19308.055078125,
           "timepoint": 186,
           "trajectory": "I_sol",
           "upper": 25106.417578125
          },
          {
           "lower": 20232.65771484375,
           "timepoint": 187,
           "trajectory": "I_sol",
           "upper": 26341.75048828125
          },
          {
           "lower": 21200.7349609375,
           "timepoint": 188,
           "trajectory": "I_sol",
           "upper": 27636.4837890625
          },
          {
           "lower": 22214.28330078125,
           "timepoint": 189,
           "trajectory": "I_sol",
           "upper": 28993.35927734375
          },
          {
           "lower": 23275.296875,
           "timepoint": 190,
           "trajectory": "I_sol",
           "upper": 30415.1796875
          },
          {
           "lower": 24385.9123046875,
           "timepoint": 191,
           "trajectory": "I_sol",
           "upper": 31904.8884765625
          },
          {
           "lower": 25548.3970703125,
           "timepoint": 192,
           "trajectory": "I_sol",
           "upper": 33465.5599609375
          },
          {
           "lower": 26764.9962890625,
           "timepoint": 193,
           "trajectory": "I_sol",
           "upper": 35100.3357421875
          },
          {
           "lower": 28038.12529296875,
           "timepoint": 194,
           "trajectory": "I_sol",
           "upper": 36812.53291015625
          },
          {
           "lower": 29370.2607421875,
           "timepoint": 195,
           "trajectory": "I_sol",
           "upper": 38605.5791015625
          },
          {
           "lower": 30764.0251953125,
           "timepoint": 196,
           "trajectory": "I_sol",
           "upper": 40483.0021484375
          },
          {
           "lower": 32222.0759765625,
           "timepoint": 197,
           "trajectory": "I_sol",
           "upper": 42448.4982421875
          },
          {
           "lower": 33747.1685546875,
           "timepoint": 198,
           "trajectory": "I_sol",
           "upper": 44505.8353515625
          },
          {
           "lower": 35342.2193359375,
           "timepoint": 199,
           "trajectory": "I_sol",
           "upper": 46658.9564453125
          },
          {
           "lower": 37010.23125,
           "timepoint": 200,
           "trajectory": "I_sol",
           "upper": 48911.971875
          },
          {
           "lower": 38754.266015625,
           "timepoint": 201,
           "trajectory": "I_sol",
           "upper": 51269.054296875
          },
          {
           "lower": 40577.498828125,
           "timepoint": 202,
           "trajectory": "I_sol",
           "upper": 53734.493359375
          },
          {
           "lower": 42483.4203125,
           "timepoint": 203,
           "trajectory": "I_sol",
           "upper": 56312.8765625
          },
          {
           "lower": 44475.31015625,
           "timepoint": 204,
           "trajectory": "I_sol",
           "upper": 59008.58046875
          },
          {
           "lower": 46556.59296875,
           "timepoint": 205,
           "trajectory": "I_sol",
           "upper": 61826.55546875
          },
          {
           "lower": 48731.0603515625,
           "timepoint": 206,
           "trajectory": "I_sol",
           "upper": 64771.482617187496
          },
          {
           "lower": 51002.530859375,
           "timepoint": 207,
           "trajectory": "I_sol",
           "upper": 67848.414453125
          },
          {
           "lower": 53374.756640625,
           "timepoint": 208,
           "trajectory": "I_sol",
           "upper": 71062.548046875
          },
          {
           "lower": 55851.7458984375,
           "timepoint": 209,
           "trajectory": "I_sol",
           "upper": 74418.8830078125
          },
          {
           "lower": 58437.6078125,
           "timepoint": 210,
           "trajectory": "I_sol",
           "upper": 77923.0015625
          },
          {
           "lower": 61136.496484375,
           "timepoint": 211,
           "trajectory": "I_sol",
           "upper": 81580.073828125
          },
          {
           "lower": 63952.7486328125,
           "timepoint": 212,
           "trajectory": "I_sol",
           "upper": 85395.7162109375
          },
          {
           "lower": 66890.773828125,
           "timepoint": 213,
           "trajectory": "I_sol",
           "upper": 89375.452734375
          },
          {
           "lower": 69955.1,
           "timepoint": 214,
           "trajectory": "I_sol",
           "upper": 93525.0875
          },
          {
           "lower": 73150.102734375,
           "timepoint": 215,
           "trajectory": "I_sol",
           "upper": 97850.061328125
          },
          {
           "lower": 76480.70625,
           "timepoint": 216,
           "trajectory": "I_sol",
           "upper": 102356.325
          },
          {
           "lower": 79951.53671875,
           "timepoint": 217,
           "trajectory": "I_sol",
           "upper": 107049.65078125
          },
          {
           "lower": 83567.361328125,
           "timepoint": 218,
           "trajectory": "I_sol",
           "upper": 111935.537109375
          },
          {
           "lower": 87333.401953125,
           "timepoint": 219,
           "trajectory": "I_sol",
           "upper": 117020.387109375
          },
          {
           "lower": 91254.187109375,
           "timepoint": 220,
           "trajectory": "I_sol",
           "upper": 122309.242578125
          },
          {
           "lower": 95334.816015625,
           "timepoint": 221,
           "trajectory": "I_sol",
           "upper": 127808.00429687499
          },
          {
           "lower": 99580.30703125,
           "timepoint": 222,
           "trajectory": "I_sol",
           "upper": 133522.02109375
          },
          {
           "lower": 103995.66328125,
           "timepoint": 223,
           "trajectory": "I_sol",
           "upper": 139456.91484375
          },
          {
           "lower": 108585.788671875,
           "timepoint": 224,
           "trajectory": "I_sol",
           "upper": 145617.687890625
          },
          {
           "lower": 113355.808203125,
           "timepoint": 225,
           "trajectory": "I_sol",
           "upper": 152009.465234375
          },
          {
           "lower": 118310.371875,
           "timepoint": 226,
           "trajectory": "I_sol",
           "upper": 158637.065625
          },
          {
           "lower": 123454.602734375,
           "timepoint": 227,
           "trajectory": "I_sol",
           "upper": 165504.873828125
          },
          {
           "lower": 128792.97578125,
           "timepoint": 228,
           "trajectory": "I_sol",
           "upper": 172616.91484375
          },
          {
           "lower": 134330.3171875,
           "timepoint": 229,
           "trajectory": "I_sol",
           "upper": 179977.2765625
          },
          {
           "lower": 140071.03671875,
           "timepoint": 230,
           "trajectory": "I_sol",
           "upper": 187588.88515625
          },
          {
           "lower": 146019.2984375,
           "timepoint": 231,
           "trajectory": "I_sol",
           "upper": 195454.6390625
          },
          {
           "lower": 152179.309375,
           "timepoint": 232,
           "trajectory": "I_sol",
           "upper": 203576.846875
          },
          {
           "lower": 158554.71875,
           "timepoint": 233,
           "trajectory": "I_sol",
           "upper": 211957.0625
          },
          {
           "lower": 165149.1296875,
           "timepoint": 234,
           "trajectory": "I_sol",
           "upper": 220596.2453125
          },
          {
           "lower": 171965.715625,
           "timepoint": 235,
           "trajectory": "I_sol",
           "upper": 229494.503125
          },
          {
           "lower": 179007.1640625,
           "timepoint": 236,
           "trajectory": "I_sol",
           "upper": 238651.1484375
          },
          {
           "lower": 186276,
           "timepoint": 237,
           "trajectory": "I_sol",
           "upper": 248064.9375
          },
          {
           "lower": 193773.7703125,
           "timepoint": 238,
           "trajectory": "I_sol",
           "upper": 257732.6359375
          },
          {
           "lower": 201502.26171875,
           "timepoint": 239,
           "trajectory": "I_sol",
           "upper": 267652.19140625
          },
          {
           "lower": 209462.0390625,
           "timepoint": 240,
           "trajectory": "I_sol",
           "upper": 277817.7421875
          },
          {
           "lower": 217653.1296875,
           "timepoint": 241,
           "trajectory": "I_sol",
           "upper": 288223.9015625
          },
          {
           "lower": 226075.22890625,
           "timepoint": 242,
           "trajectory": "I_sol",
           "upper": 298863.19296875
          },
          {
           "lower": 234726.815625,
           "timepoint": 243,
           "trajectory": "I_sol",
           "upper": 309727.809375
          },
          {
           "lower": 243606.034375,
           "timepoint": 244,
           "trajectory": "I_sol",
           "upper": 320808.090625
          },
          {
           "lower": 252709.71875,
           "timepoint": 245,
           "trajectory": "I_sol",
           "upper": 332092.53125
          },
          {
           "lower": 262034.27421875,
           "timepoint": 246,
           "trajectory": "I_sol",
           "upper": 343568.80390625
          },
          {
           "lower": 271574.765625,
           "timepoint": 247,
           "trajectory": "I_sol",
           "upper": 355222.734375
          },
          {
           "lower": 281325.371875,
           "timepoint": 248,
           "trajectory": "I_sol",
           "upper": 367039.065625
          },
          {
           "lower": 291278.9859375,
           "timepoint": 249,
           "trajectory": "I_sol",
           "upper": 379000.0453125
          },
          {
           "lower": 301427.3,
           "timepoint": 250,
           "trajectory": "I_sol",
           "upper": 391086.7625
          },
          {
           "lower": 311762.359375,
           "timepoint": 251,
           "trajectory": "I_sol",
           "upper": 403279.703125
          },
          {
           "lower": 322272.296875,
           "timepoint": 252,
           "trajectory": "I_sol",
           "upper": 415556.453125
          },
          {
           "lower": 332946.109375,
           "timepoint": 253,
           "trajectory": "I_sol",
           "upper": 427893.578125
          },
          {
           "lower": 343770.5015625,
           "timepoint": 254,
           "trajectory": "I_sol",
           "upper": 440264.5921875
          },
          {
           "lower": 354731.2484375,
           "timepoint": 255,
           "trajectory": "I_sol",
           "upper": 452645.0328125
          },
          {
           "lower": 365813.153125,
           "timepoint": 256,
           "trajectory": "I_sol",
           "upper": 465006.034375
          },
          {
           "lower": 376998.4390625,
           "timepoint": 257,
           "trajectory": "I_sol",
           "upper": 477318.0921875
          },
          {
           "lower": 388269.390625,
           "timepoint": 258,
           "trajectory": "I_sol",
           "upper": 489551.171875
          },
          {
           "lower": 399606.4109375,
           "timepoint": 259,
           "trajectory": "I_sol",
           "upper": 501673.2453125
          },
          {
           "lower": 410988.2609375,
           "timepoint": 260,
           "trajectory": "I_sol",
           "upper": 513652.5828125
          },
          {
           "lower": 422393.2140625,
           "timepoint": 261,
           "trajectory": "I_sol",
           "upper": 525455.5046875
          },
          {
           "lower": 433797.4375,
           "timepoint": 262,
           "trajectory": "I_sol",
           "upper": 537047.6875
          },
          {
           "lower": 445176.8453125,
           "timepoint": 263,
           "trajectory": "I_sol",
           "upper": 548394.4984375
          },
          {
           "lower": 456505.678125,
           "timepoint": 264,
           "trajectory": "I_sol",
           "upper": 559463.259375
          },
          {
           "lower": 467756.934375,
           "timepoint": 265,
           "trajectory": "I_sol",
           "upper": 570217.378125
          },
          {
           "lower": 478903.478125,
           "timepoint": 266,
           "trajectory": "I_sol",
           "upper": 580622.209375
          },
          {
           "lower": 489918.2640625,
           "timepoint": 267,
           "trajectory": "I_sol",
           "upper": 590645.9546875
          },
          {
           "lower": 500768.753125,
           "timepoint": 268,
           "trajectory": "I_sol",
           "upper": 600253.684375
          },
          {
           "lower": 511429.34375,
           "timepoint": 269,
           "trajectory": "I_sol",
           "upper": 609412.90625
          },
          {
           "lower": 521868.3328125,
           "timepoint": 270,
           "trajectory": "I_sol",
           "upper": 618092.7609375
          },
          {
           "lower": 532057.05,
           "timepoint": 271,
           "trajectory": "I_sol",
           "upper": 626263.2
          },
          {
           "lower": 541964.65,
           "timepoint": 272,
           "trajectory": "I_sol",
           "upper": 633895.6
          },
          {
           "lower": 551561.83125,
           "timepoint": 273,
           "trajectory": "I_sol",
           "upper": 640964.79375
          },
          {
           "lower": 560817.996875,
           "timepoint": 274,
           "trajectory": "I_sol",
           "upper": 647445.190625
          },
          {
           "lower": 569705.725,
           "timepoint": 275,
           "trajectory": "I_sol",
           "upper": 653315.275
          },
          {
           "lower": 578196.01875,
           "timepoint": 276,
           "trajectory": "I_sol",
           "upper": 658553.98125
          },
          {
           "lower": 586262.0625,
           "timepoint": 277,
           "trajectory": "I_sol",
           "upper": 663145.6875
          },
          {
           "lower": 593877.515625,
           "timepoint": 278,
           "trajectory": "I_sol",
           "upper": 667074.796875
          },
          {
           "lower": 601017.603125,
           "timepoint": 279,
           "trajectory": "I_sol",
           "upper": 670330.709375
          },
          {
           "lower": 607659.396875,
           "timepoint": 280,
           "trajectory": "I_sol",
           "upper": 672904.165625
          },
          {
           "lower": 613780.45,
           "timepoint": 281,
           "trajectory": "I_sol",
           "upper": 674788.3
          },
          {
           "lower": 619361.90625,
           "timepoint": 282,
           "trajectory": "I_sol",
           "upper": 675981.46875
          },
          {
           "lower": 624385.6375,
           "timepoint": 283,
           "trajectory": "I_sol",
           "upper": 676483.4875
          },
          {
           "lower": 628835.690625,
           "timepoint": 284,
           "trajectory": "I_sol",
           "upper": 676297.246875
          },
          {
           "lower": 632698.821875,
           "timepoint": 285,
           "trajectory": "I_sol",
           "upper": 675428.740625
          },
          {
           "lower": 635963.490625,
           "timepoint": 286,
           "trajectory": "I_sol",
           "upper": 673887.071875
          },
          {
           "lower": 638621.159375,
           "timepoint": 287,
           "trajectory": "I_sol",
           "upper": 671683.278125
          },
          {
           "lower": 640665.671875,
           "timepoint": 288,
           "trajectory": "I_sol",
           "upper": 668832.015625
          },
          {
           "lower": 642093.846875,
           "timepoint": 289,
           "trajectory": "I_sol",
           "upper": 665349.340625
          },
          {
           "lower": 642901.940625,
           "timepoint": 290,
           "trajectory": "I_sol",
           "upper": 661254.121875
          },
          {
           "lower": 643092.571875,
           "timepoint": 291,
           "trajectory": "I_sol",
           "upper": 656567.990625
          },
          {
           "lower": 642671.8125,
           "timepoint": 292,
           "trajectory": "I_sol",
           "upper": 651312.9375
          },
          {
           "lower": 641642.128125,
           "timepoint": 293,
           "trajectory": "I_sol",
           "upper": 645514.434375
          },
          {
           "lower": 639197.815625,
           "timepoint": 294,
           "trajectory": "I_sol",
           "upper": 640013.496875
          },
          {
           "lower": 632391.171875,
           "timepoint": 295,
           "trajectory": "I_sol",
           "upper": 637796.515625
          },
          {
           "lower": 625122.234375,
           "timepoint": 296,
           "trajectory": "I_sol",
           "upper": 635003.953125
          },
          {
           "lower": 617420.85625,
           "timepoint": 297,
           "trajectory": "I_sol",
           "upper": 631650.64375
          },
          {
           "lower": 609317.109375,
           "timepoint": 298,
           "trajectory": "I_sol",
           "upper": 627753.328125
          },
          {
           "lower": 600841.753125,
           "timepoint": 299,
           "trajectory": "I_sol",
           "upper": 623329.434375
          },
          {
           "lower": 592024.053125,
           "timepoint": 300,
           "trajectory": "I_sol",
           "upper": 618402.884375
          },
          {
           "lower": 582897.925,
           "timepoint": 301,
           "trajectory": "I_sol",
           "upper": 612991.45
          },
          {
           "lower": 573488.175,
           "timepoint": 302,
           "trajectory": "I_sol",
           "upper": 607118.7
          },
          {
           "lower": 563830.784375,
           "timepoint": 303,
           "trajectory": "I_sol",
           "upper": 600810.153125
          },
          {
           "lower": 553953.3875,
           "timepoint": 304,
           "trajectory": "I_sol",
           "upper": 594086.8625
          },
          {
           "lower": 543885.48125,
           "timepoint": 305,
           "trajectory": "I_sol",
           "upper": 586978.26875
          },
          {
           "lower": 533654.771875,
           "timepoint": 306,
           "trajectory": "I_sol",
           "upper": 579509.040625
          },
          {
           "lower": 523291.83125,
           "timepoint": 307,
           "trajectory": "I_sol",
           "upper": 571705.41875
          },
          {
           "lower": 512820.2875,
           "timepoint": 308,
           "trajectory": "I_sol",
           "upper": 563594.4625
          },
          {
           "lower": 502267.396875,
           "timepoint": 309,
           "trajectory": "I_sol",
           "upper": 555202.415625
          },
          {
           "lower": 491657.1328125,
           "timepoint": 310,
           "trajectory": "I_sol",
           "upper": 546556.7109375
          },
          {
           "lower": 481013.7984375,
           "timepoint": 311,
           "trajectory": "I_sol",
           "upper": 537682.6078125
          },
          {
           "lower": 470358.740625,
           "timepoint": 312,
           "trajectory": "I_sol",
           "upper": 528606.571875
          },
          {
           "lower": 459713.884375,
           "timepoint": 313,
           "trajectory": "I_sol",
           "upper": 519355.928125
          },
          {
           "lower": 449098.7625,
           "timepoint": 314,
           "trajectory": "I_sol",
           "upper": 509953.6125
          },
          {
           "lower": 438531.9140625,
           "timepoint": 315,
           "trajectory": "I_sol",
           "upper": 500424.4921875
          },
          {
           "lower": 428031.2,
           "timepoint": 316,
           "trajectory": "I_sol",
           "upper": 490792.3625
          },
          {
           "lower": 417610.390625,
           "timepoint": 317,
           "trajectory": "I_sol",
           "upper": 481079.234375
          },
          {
           "lower": 407287.209375,
           "timepoint": 318,
           "trajectory": "I_sol",
           "upper": 471308.540625
          },
          {
           "lower": 397073.6078125,
           "timepoint": 319,
           "trajectory": "I_sol",
           "upper": 461499.7984375
          },
          {
           "lower": 386981.8734375,
           "timepoint": 320,
           "trajectory": "I_sol",
           "upper": 451672.7203125
          },
          {
           "lower": 377023.234375,
           "timepoint": 321,
           "trajectory": "I_sol",
           "upper": 441846.578125
          },
          {
           "lower": 367208.8625,
           "timepoint": 322,
           "trajectory": "I_sol",
           "upper": 432039.575
          },
          {
           "lower": 357546.1390625,
           "timepoint": 323,
           "trajectory": "I_sol",
           "upper": 422267.6421875
          },
          {
           "lower": 348043.63125,
           "timepoint": 324,
           "trajectory": "I_sol",
           "upper": 412546.74375
          },
          {
           "lower": 338708.4296875,
           "timepoint": 325,
           "trajectory": "I_sol",
           "upper": 402891.2265625
          },
          {
           "lower": 329546.01875,
           "timepoint": 326,
           "trajectory": "I_sol",
           "upper": 393314.73125
          },
          {
           "lower": 320562.1359375,
           "timepoint": 327,
           "trajectory": "I_sol",
           "upper": 383829.5203125
          },
          {
           "lower": 311761.0484375,
           "timepoint": 328,
           "trajectory": "I_sol",
           "upper": 374446.9203125
          },
          {
           "lower": 303144.3015625,
           "timepoint": 329,
           "trajectory": "I_sol",
           "upper": 365177.7296875
          },
          {
           "lower": 294716.8625,
           "timepoint": 330,
           "trajectory": "I_sol",
           "upper": 356030.825
          },
          {
           "lower": 286479.6375,
           "timepoint": 331,
           "trajectory": "I_sol",
           "upper": 347014.9875
          },
          {
           "lower": 278434.734375,
           "timepoint": 332,
           "trajectory": "I_sol",
           "upper": 338137.640625
          },
          {
           "lower": 270582.2390625,
           "timepoint": 333,
           "trajectory": "I_sol",
           "upper": 329405.4796875
          },
          {
           "lower": 262922.5078125,
           "timepoint": 334,
           "trajectory": "I_sol",
           "upper": 320824.1484375
          },
          {
           "lower": 255455.3703125,
           "timepoint": 335,
           "trajectory": "I_sol",
           "upper": 312398.8484375
          },
          {
           "lower": 248180.0234375,
           "timepoint": 336,
           "trajectory": "I_sol",
           "upper": 304134.0078125
          },
          {
           "lower": 241095.30703125,
           "timepoint": 337,
           "trajectory": "I_sol",
           "upper": 296033.17734375
          },
          {
           "lower": 234199.7359375,
           "timepoint": 338,
           "trajectory": "I_sol",
           "upper": 288098.7953125
          },
          {
           "lower": 227491.5734375,
           "timepoint": 339,
           "trajectory": "I_sol",
           "upper": 280333.5828125
          },
          {
           "lower": 220968.13828125,
           "timepoint": 340,
           "trajectory": "I_sol",
           "upper": 272739.47109375
          },
          {
           "lower": 214627.42109375,
           "timepoint": 341,
           "trajectory": "I_sol",
           "upper": 265317.65703125
          },
          {
           "lower": 208466.3140625,
           "timepoint": 342,
           "trajectory": "I_sol",
           "upper": 258067.3109375
          },
          {
           "lower": 202483.15,
           "timepoint": 343,
           "trajectory": "I_sol",
           "upper": 250990.50625
          },
          {
           "lower": 196673.71953125,
           "timepoint": 344,
           "trajectory": "I_sol",
           "upper": 244086.29609375
          },
          {
           "lower": 191034.5375,
           "timepoint": 345,
           "trajectory": "I_sol",
           "upper": 237353.99375
          },
          {
           "lower": 185563.0765625,
           "timepoint": 346,
           "trajectory": "I_sol",
           "upper": 230792.8296875
          },
          {
           "lower": 180255.65625,
           "timepoint": 347,
           "trajectory": "I_sol",
           "upper": 224401.21875
          },
          {
           "lower": 175108.328125,
           "timepoint": 348,
           "trajectory": "I_sol",
           "upper": 218177.828125
          },
          {
           "lower": 170118.00078125,
           "timepoint": 349,
           "trajectory": "I_sol",
           "upper": 212120.73359375
          },
          {
           "lower": 165280.72578125,
           "timepoint": 350,
           "trajectory": "I_sol",
           "upper": 206227.75859375
          },
          {
           "lower": 160592.85390625,
           "timepoint": 351,
           "trajectory": "I_sol",
           "upper": 200496.78671875
          },
          {
           "lower": 156050.70859375,
           "timepoint": 352,
           "trajectory": "I_sol",
           "upper": 194925.18203125
          },
          {
           "lower": 151650.48671875,
           "timepoint": 353,
           "trajectory": "I_sol",
           "upper": 189510.43515625
          },
          {
           "lower": 147388.57734375,
           "timepoint": 354,
           "trajectory": "I_sol",
           "upper": 184249.75078125
          },
          {
           "lower": 143261.04609375,
           "timepoint": 355,
           "trajectory": "I_sol",
           "upper": 179140.09453125
          },
          {
           "lower": 139264.53046875,
           "timepoint": 356,
           "trajectory": "I_sol",
           "upper": 174178.61015625
          },
          {
           "lower": 135394.88828125,
           "timepoint": 357,
           "trajectory": "I_sol",
           "upper": 169362.53359375
          },
          {
           "lower": 131649.116015625,
           "timepoint": 358,
           "trajectory": "I_sol",
           "upper": 164688.376171875
          },
          {
           "lower": 128022.9296875,
           "timepoint": 359,
           "trajectory": "I_sol",
           "upper": 160153.3515625
          },
          {
           "lower": 124513.323828125,
           "timepoint": 360,
           "trajectory": "I_sol",
           "upper": 155752.949609375
          },
          {
           "lower": 121116.683984375,
           "timepoint": 361,
           "trajectory": "I_sol",
           "upper": 151485.573828125
          },
          {
           "lower": 117829.69921875,
           "timepoint": 362,
           "trajectory": "I_sol",
           "upper": 147347.09765625
          },
          {
           "lower": 114648.746484375,
           "timepoint": 363,
           "trajectory": "I_sol",
           "upper": 143334.636328125
          },
          {
           "lower": 111570.822265625,
           "timepoint": 364,
           "trajectory": "I_sol",
           "upper": 139444.701171875
          },
          {
           "lower": 108592.61328125,
           "timepoint": 365,
           "trajectory": "I_sol",
           "upper": 135674.24609375
          },
          {
           "lower": 105710.95546875,
           "timepoint": 366,
           "trajectory": "I_sol",
           "upper": 132020.24765625
          },
          {
           "lower": 102922.890234375,
           "timepoint": 367,
           "trajectory": "I_sol",
           "upper": 128478.664453125
          },
          {
           "lower": 100225.2734375,
           "timepoint": 368,
           "trajectory": "I_sol",
           "upper": 125047.4140625
          },
          {
           "lower": 97615.41640625,
           "timepoint": 369,
           "trajectory": "I_sol",
           "upper": 121722.52109375
          },
          {
           "lower": 95090.26015625,
           "timepoint": 370,
           "trajectory": "I_sol",
           "upper": 118501.41171875
          },
          {
           "lower": 92647.158203125,
           "timepoint": 371,
           "trajectory": "I_sol",
           "upper": 115381.333984375
          },
          {
           "lower": 90283.38203125,
           "timepoint": 372,
           "trajectory": "I_sol",
           "upper": 112358.82109375
          },
          {
           "lower": 87996.345703125,
           "timepoint": 373,
           "trajectory": "I_sol",
           "upper": 109431.146484375
          },
          {
           "lower": 85783.50546875,
           "timepoint": 374,
           "trajectory": "I_sol",
           "upper": 106595.54140625
          },
          {
           "lower": 83642.381640625,
           "timepoint": 375,
           "trajectory": "I_sol",
           "upper": 103848.907421875
          },
          {
           "lower": 81570.601171875,
           "timepoint": 376,
           "trajectory": "I_sol",
           "upper": 101188.766015625
          },
          {
           "lower": 79565.87578125,
           "timepoint": 377,
           "trajectory": "I_sol",
           "upper": 98612.70234375
          },
          {
           "lower": 77625.971875,
           "timepoint": 378,
           "trajectory": "I_sol",
           "upper": 96117.79375
          },
          {
           "lower": 75748.58125,
           "timepoint": 379,
           "trajectory": "I_sol",
           "upper": 93701.3875
          },
          {
           "lower": 73931.756640625,
           "timepoint": 380,
           "trajectory": "I_sol",
           "upper": 91361.360546875
          },
          {
           "lower": 72173.376171875,
           "timepoint": 381,
           "trajectory": "I_sol",
           "upper": 89094.944140625
          },
          {
           "lower": 70471.555859375,
           "timepoint": 382,
           "trajectory": "I_sol",
           "upper": 86900.092578125
          },
          {
           "lower": 68824.21875,
           "timepoint": 383,
           "trajectory": "I_sol",
           "upper": 84774.328125
          },
          {
           "lower": 67229.68359375,
           "timepoint": 384,
           "trajectory": "I_sol",
           "upper": 82715.51953125
          },
          {
           "lower": 65686.0986328125,
           "timepoint": 385,
           "trajectory": "I_sol",
           "upper": 80721.6005859375
          },
          {
           "lower": 64191.774609375,
           "timepoint": 386,
           "trajectory": "I_sol",
           "upper": 78790.358203125
          },
          {
           "lower": 62744.9677734375,
           "timepoint": 387,
           "trajectory": "I_sol",
           "upper": 76919.7392578125
          },
          {
           "lower": 61344.1119140625,
           "timepoint": 388,
           "trajectory": "I_sol",
           "upper": 75107.7591796875
          },
          {
           "lower": 59987.7310546875,
           "timepoint": 389,
           "trajectory": "I_sol",
           "upper": 73352.7416015625
          },
          {
           "lower": 58674.2138671875,
           "timepoint": 390,
           "trajectory": "I_sol",
           "upper": 71652.6181640625
          },
          {
           "lower": 57402.165234375,
           "timepoint": 391,
           "trajectory": "I_sol",
           "upper": 70005.561328125
          },
          {
           "lower": 56170.1251953125,
           "timepoint": 392,
           "trajectory": "I_sol",
           "upper": 68409.9177734375
          },
          {
           "lower": 54976.87578125,
           "timepoint": 393,
           "trajectory": "I_sol",
           "upper": 66864.06171875
          },
          {
           "lower": 53821.00546875,
           "timepoint": 394,
           "trajectory": "I_sol",
           "upper": 65366.27578125
          },
          {
           "lower": 52701.261328125,
           "timepoint": 395,
           "trajectory": "I_sol",
           "upper": 63914.973046875
          },
          {
           "lower": 51616.4564453125,
           "timepoint": 396,
           "trajectory": "I_sol",
           "upper": 62508.6958984375
          },
          {
           "lower": 50565.431640625,
           "timepoint": 397,
           "trajectory": "I_sol",
           "upper": 61145.880859375
          },
          {
           "lower": 49547.056640625,
           "timepoint": 398,
           "trajectory": "I_sol",
           "upper": 59825.162109375
          },
          {
           "lower": 48560.3265625,
           "timepoint": 399,
           "trajectory": "I_sol",
           "upper": 58545.165625
          },
          {
           "lower": 47603.8505859375,
           "timepoint": 400,
           "trajectory": "I_sol",
           "upper": 57304.4970703125
          },
          {
           "lower": 46676.9919921875,
           "timepoint": 401,
           "trajectory": "I_sol",
           "upper": 56101.9572265625
          },
          {
           "lower": 45778.6900390625,
           "timepoint": 402,
           "trajectory": "I_sol",
           "upper": 54936.2357421875
          },
          {
           "lower": 44907.97421875,
           "timepoint": 403,
           "trajectory": "I_sol",
           "upper": 53806.11953125
          },
          {
           "lower": 44063.834375,
           "timepoint": 404,
           "trajectory": "I_sol",
           "upper": 52710.4859375
          },
          {
           "lower": 43245.476171875,
           "timepoint": 405,
           "trajectory": "I_sol",
           "upper": 51648.164453125
          },
          {
           "lower": 42452.2001953125,
           "timepoint": 406,
           "trajectory": "I_sol",
           "upper": 50618.1005859375
          },
          {
           "lower": 41682.960546875,
           "timepoint": 407,
           "trajectory": "I_sol",
           "upper": 49619.266015625
          },
          {
           "lower": 40937.1458984375,
           "timepoint": 408,
           "trajectory": "I_sol",
           "upper": 48650.5923828125
          },
          {
           "lower": 40213.8388671875,
           "timepoint": 409,
           "trajectory": "I_sol",
           "upper": 47711.1728515625
          },
          {
           "lower": 39512.5353515625,
           "timepoint": 410,
           "trajectory": "I_sol",
           "upper": 46800.0076171875
          },
          {
           "lower": 38832.296875,
           "timepoint": 411,
           "trajectory": "I_sol",
           "upper": 45916.2109375
          },
          {
           "lower": 38172.63203125,
           "timepoint": 412,
           "trajectory": "I_sol",
           "upper": 45058.88359375
          },
          {
           "lower": 37532.7810546875,
           "timepoint": 413,
           "trajectory": "I_sol",
           "upper": 44227.2306640625
          },
          {
           "lower": 36912.1359375,
           "timepoint": 414,
           "trajectory": "I_sol",
           "upper": 43420.3171875
          },
          {
           "lower": 36310.11015625,
           "timepoint": 415,
           "trajectory": "I_sol",
           "upper": 42637.47578125
          },
          {
           "lower": 35726.0986328125,
           "timepoint": 416,
           "trajectory": "I_sol",
           "upper": 41877.8974609375
          },
          {
           "lower": 35159.60625,
           "timepoint": 417,
           "trajectory": "I_sol",
           "upper": 41140.89375
          },
          {
           "lower": 34609.9279296875,
           "timepoint": 418,
           "trajectory": "I_sol",
           "upper": 40425.5837890625
          },
          {
           "lower": 34076.6673828125,
           "timepoint": 419,
           "trajectory": "I_sol",
           "upper": 39731.4693359375
          },
          {
           "lower": 33559.3791015625,
           "timepoint": 420,
           "trajectory": "I_sol",
           "upper": 39057.8201171875
          },
          {
           "lower": 33057.4619140625,
           "timepoint": 421,
           "trajectory": "I_sol",
           "upper": 38403.9716796875
          },
          {
           "lower": 32570.47548828125,
           "timepoint": 422,
           "trajectory": "I_sol",
           "upper": 37769.39755859375
          },
          {
           "lower": 32097.9865234375,
           "timepoint": 423,
           "trajectory": "I_sol",
           "upper": 37153.4236328125
          },
          {
           "lower": 31639.53896484375,
           "timepoint": 424,
           "trajectory": "I_sol",
           "upper": 36555.47080078125
          },
          {
           "lower": 31194.70859375,
           "timepoint": 425,
           "trajectory": "I_sol",
           "upper": 35975.00234375
          },
          {
           "lower": 30763.1564453125,
           "timepoint": 426,
           "trajectory": "I_sol",
           "upper": 35411.5193359375
          },
          {
           "lower": 30344.4072265625,
           "timepoint": 427,
           "trajectory": "I_sol",
           "upper": 34864.4638671875
          },
          {
           "lower": 29938.1365234375,
           "timepoint": 428,
           "trajectory": "I_sol",
           "upper": 34333.3673828125
          },
          {
           "lower": 29543.93544921875,
           "timepoint": 429,
           "trajectory": "I_sol",
           "upper": 33817.73837890625
          },
          {
           "lower": 29161.5248046875,
           "timepoint": 430,
           "trajectory": "I_sol",
           "upper": 33317.0884765625
          },
          {
           "lower": 28790.50185546875,
           "timepoint": 431,
           "trajectory": "I_sol",
           "upper": 32831.00791015625
          },
          {
           "lower": 28430.570703125,
           "timepoint": 432,
           "trajectory": "I_sol",
           "upper": 32359.042578125
          },
          {
           "lower": 28081.40439453125,
           "timepoint": 433,
           "trajectory": "I_sol",
           "upper": 31900.78115234375
          },
          {
           "lower": 27742.72392578125,
           "timepoint": 434,
           "trajectory": "I_sol",
           "upper": 31455.84443359375
          },
          {
           "lower": 27414.2125,
           "timepoint": 435,
           "trajectory": "I_sol",
           "upper": 31023.803125
          },
          {
           "lower": 27095.6015625,
           "timepoint": 436,
           "trajectory": "I_sol",
           "upper": 30604.3359375
          },
          {
           "lower": 26786.614453125,
           "timepoint": 437,
           "trajectory": "I_sol",
           "upper": 30197.037890625
          },
          {
           "lower": 26487.0001953125,
           "timepoint": 438,
           "trajectory": "I_sol",
           "upper": 29801.5701171875
          },
          {
           "lower": 26196.4998046875,
           "timepoint": 439,
           "trajectory": "I_sol",
           "upper": 29417.6173828125
          },
          {
           "lower": 25914.85703125,
           "timepoint": 440,
           "trajectory": "I_sol",
           "upper": 29044.8109375
          },
          {
           "lower": 25641.86435546875,
           "timepoint": 441,
           "trajectory": "I_sol",
           "upper": 28682.89931640625
          },
          {
           "lower": 25377.32841796875,
           "timepoint": 442,
           "trajectory": "I_sol",
           "upper": 28331.51337890625
          },
          {
           "lower": 25120.8755859375,
           "timepoint": 443,
           "trajectory": "I_sol",
           "upper": 27990.4095703125
          },
          {
           "lower": 24872.4697265625,
           "timepoint": 444,
           "trajectory": "I_sol",
           "upper": 27659.2880859375
          },
          {
           "lower": 24631.8185546875,
           "timepoint": 445,
           "trajectory": "I_sol",
           "upper": 27337.8689453125
          },
          {
           "lower": 24398.76591796875,
           "timepoint": 446,
           "trajectory": "I_sol",
           "upper": 27025.92744140625
          },
          {
           "lower": 24173.11337890625,
           "timepoint": 447,
           "trajectory": "I_sol",
           "upper": 26723.17373046875
          },
          {
           "lower": 23954.68759765625,
           "timepoint": 448,
           "trajectory": "I_sol",
           "upper": 26429.37294921875
          },
          {
           "lower": 23743.26875,
           "timepoint": 449,
           "trajectory": "I_sol",
           "upper": 26144.2859375
          },
          {
           "lower": 23538.735546875,
           "timepoint": 450,
           "trajectory": "I_sol",
           "upper": 25867.682421875
          },
          {
           "lower": 23340.90986328125,
           "timepoint": 451,
           "trajectory": "I_sol",
           "upper": 25599.37724609375
          },
          {
           "lower": 23149.63173828125,
           "timepoint": 452,
           "trajectory": "I_sol",
           "upper": 25339.10849609375
          },
          {
           "lower": 22964.738671875,
           "timepoint": 453,
           "trajectory": "I_sol",
           "upper": 25086.706640625
          },
          {
           "lower": 22786.14560546875,
           "timepoint": 454,
           "trajectory": "I_sol",
           "upper": 24841.96181640625
          },
          {
           "lower": 22613.64375,
           "timepoint": 455,
           "trajectory": "I_sol",
           "upper": 24604.66875
          },
          {
           "lower": 22447.11669921875,
           "timepoint": 456,
           "trajectory": "I_sol",
           "upper": 24374.65478515625
          },
          {
           "lower": 22286.44912109375,
           "timepoint": 457,
           "trajectory": "I_sol",
           "upper": 24151.76767578125
          },
          {
           "lower": 22131.49404296875,
           "timepoint": 458,
           "trajectory": "I_sol",
           "upper": 23935.78134765625
          },
          {
           "lower": 21982.16171875,
           "timepoint": 459,
           "trajectory": "I_sol",
           "upper": 23726.6078125
          },
          {
           "lower": 21838.29228515625,
           "timepoint": 460,
           "trajectory": "I_sol",
           "upper": 23524.02216796875
          },
          {
           "lower": 21699.80810546875,
           "timepoint": 461,
           "trajectory": "I_sol",
           "upper": 23327.88525390625
          },
          {
           "lower": 21566.57744140625,
           "timepoint": 462,
           "trajectory": "I_sol",
           "upper": 23138.04951171875
          },
          {
           "lower": 21438.5490234375,
           "timepoint": 463,
           "trajectory": "I_sol",
           "upper": 22954.3494140625
          },
          {
           "lower": 21315.57509765625,
           "timepoint": 464,
           "trajectory": "I_sol",
           "upper": 22776.75498046875
          },
          {
           "lower": 21197.5638671875,
           "timepoint": 465,
           "trajectory": "I_sol",
           "upper": 22604.9986328125
          },
          {
           "lower": 21084.4294921875,
           "timepoint": 466,
           "trajectory": "I_sol",
           "upper": 22439.0314453125
          },
          {
           "lower": 20976.06611328125,
           "timepoint": 467,
           "trajectory": "I_sol",
           "upper": 22278.70537109375
          },
          {
           "lower": 20872.46396484375,
           "timepoint": 468,
           "trajectory": "I_sol",
           "upper": 22123.87001953125
          },
          {
           "lower": 20773.454296875,
           "timepoint": 469,
           "trajectory": "I_sol",
           "upper": 21974.448046875
          },
          {
           "lower": 20679.00556640625,
           "timepoint": 470,
           "trajectory": "I_sol",
           "upper": 21830.33232421875
          },
          {
           "lower": 20589.0189453125,
           "timepoint": 471,
           "trajectory": "I_sol",
           "upper": 21691.4029296875
          },
          {
           "lower": 20503.43486328125,
           "timepoint": 472,
           "trajectory": "I_sol",
           "upper": 21557.58271484375
          },
          {
           "lower": 20422.18291015625,
           "timepoint": 473,
           "trajectory": "I_sol",
           "upper": 21428.69404296875
          },
          {
           "lower": 20345.19375,
           "timepoint": 474,
           "trajectory": "I_sol",
           "upper": 21304.7203125
          },
          {
           "lower": 20272.4248046875,
           "timepoint": 475,
           "trajectory": "I_sol",
           "upper": 21185.5556640625
          },
          {
           "lower": 20203.78017578125,
           "timepoint": 476,
           "trajectory": "I_sol",
           "upper": 21071.10068359375
          },
          {
           "lower": 20139.21044921875,
           "timepoint": 477,
           "trajectory": "I_sol",
           "upper": 20961.29541015625
          },
          {
           "lower": 20078.72919921875,
           "timepoint": 478,
           "trajectory": "I_sol",
           "upper": 20855.97587890625
          },
          {
           "lower": 20022.20380859375,
           "timepoint": 479,
           "trajectory": "I_sol",
           "upper": 20755.15361328125
          },
          {
           "lower": 19969.601171875,
           "timepoint": 480,
           "trajectory": "I_sol",
           "upper": 20658.726953125
          },
          {
           "lower": 19920.8783203125,
           "timepoint": 481,
           "trajectory": "I_sol",
           "upper": 20566.6177734375
          },
          {
           "lower": 19875.9943359375,
           "timepoint": 482,
           "trajectory": "I_sol",
           "upper": 20478.7517578125
          },
          {
           "lower": 19834.9333984375,
           "timepoint": 483,
           "trajectory": "I_sol",
           "upper": 20395.0744140625
          },
          {
           "lower": 19797.6177734375,
           "timepoint": 484,
           "trajectory": "I_sol",
           "upper": 20315.5150390625
          },
          {
           "lower": 19764.01806640625,
           "timepoint": 485,
           "trajectory": "I_sol",
           "upper": 20240.00732421875
          },
          {
           "lower": 19734.1060546875,
           "timepoint": 486,
           "trajectory": "I_sol",
           "upper": 20168.5072265625
          },
          {
           "lower": 19707.8521484375,
           "timepoint": 487,
           "trajectory": "I_sol",
           "upper": 20100.9447265625
          },
          {
           "lower": 19685.2390625,
           "timepoint": 488,
           "trajectory": "I_sol",
           "upper": 20037.27265625
          },
          {
           "lower": 19666.1572265625,
           "timepoint": 489,
           "trajectory": "I_sol",
           "upper": 19977.4482421875
          },
          {
           "lower": 19650.65771484375,
           "timepoint": 490,
           "trajectory": "I_sol",
           "upper": 19921.38720703125
          },
          {
           "lower": 19638.67158203125,
           "timepoint": 491,
           "trajectory": "I_sol",
           "upper": 19869.08037109375
          },
          {
           "lower": 19630.29638671875,
           "timepoint": 492,
           "trajectory": "I_sol",
           "upper": 19820.48291015625
          },
          {
           "lower": 19625.3701171875,
           "timepoint": 493,
           "trajectory": "I_sol",
           "upper": 19775.5400390625
          },
          {
           "lower": 19623.92802734375,
           "timepoint": 494,
           "trajectory": "I_sol",
           "upper": 19734.21845703125
          },
          {
           "lower": 19625.8943359375,
           "timepoint": 495,
           "trajectory": "I_sol",
           "upper": 19696.4845703125
          },
          {
           "lower": 19631.32705078125,
           "timepoint": 496,
           "trajectory": "I_sol",
           "upper": 19662.24521484375
          },
          {
           "lower": 19631.5486328125,
           "timepoint": 497,
           "trajectory": "I_sol",
           "upper": 19640.1935546875
          },
          {
           "lower": 19604.3248046875,
           "timepoint": 498,
           "trajectory": "I_sol",
           "upper": 19652.4642578125
          },
          {
           "lower": 19580.548046875,
           "timepoint": 499,
           "trajectory": "I_sol",
           "upper": 19668.143359375
          },
          {
           "lower": 19560.1953125,
           "timepoint": 500,
           "trajectory": "I_sol",
           "upper": 19687.21484375
          },
          {
           "lower": 19543.22763671875,
           "timepoint": 501,
           "trajectory": "I_sol",
           "upper": 19709.67666015625
          },
          {
           "lower": 19529.62763671875,
           "timepoint": 502,
           "trajectory": "I_sol",
           "upper": 19735.51494140625
          },
          {
           "lower": 19519.362109375,
           "timepoint": 503,
           "trajectory": "I_sol",
           "upper": 19764.731640625
          },
          {
           "lower": 19512.455078125,
           "timepoint": 504,
           "trajectory": "I_sol",
           "upper": 19797.326171875
          },
          {
           "lower": 19508.8337890625,
           "timepoint": 505,
           "trajectory": "I_sol",
           "upper": 19833.2873046875
          },
          {
           "lower": 19508.5083984375,
           "timepoint": 506,
           "trajectory": "I_sol",
           "upper": 19872.6322265625
          },
          {
           "lower": 19511.45615234375,
           "timepoint": 507,
           "trajectory": "I_sol",
           "upper": 19915.35048828125
          },
          {
           "lower": 19517.63037109375,
           "timepoint": 508,
           "trajectory": "I_sol",
           "upper": 19961.43408203125
          },
          {
           "lower": 19527.06875,
           "timepoint": 509,
           "trajectory": "I_sol",
           "upper": 20010.93125
          },
          {
           "lower": 19539.74521484375,
           "timepoint": 510,
           "trajectory": "I_sol",
           "upper": 20063.80361328125
          },
          {
           "lower": 19555.6296875,
           "timepoint": 511,
           "trajectory": "I_sol",
           "upper": 20120.07734375
          },
          {
           "lower": 19574.7396484375,
           "timepoint": 512,
           "trajectory": "I_sol",
           "upper": 20179.7681640625
          },
          {
           "lower": 19597.053125,
           "timepoint": 513,
           "trajectory": "I_sol",
           "upper": 20242.88046875
          },
          {
           "lower": 19622.56884765625,
           "timepoint": 514,
           "trajectory": "I_sol",
           "upper": 20309.42529296875
          },
          {
           "lower": 19651.2845703125,
           "timepoint": 515,
           "trajectory": "I_sol",
           "upper": 20379.4302734375
          },
          {
           "lower": 19683.2083984375,
           "timepoint": 516,
           "trajectory": "I_sol",
           "upper": 20452.8736328125
          },
          {
           "lower": 19718.3189453125,
           "timepoint": 517,
           "trajectory": "I_sol",
           "upper": 20529.8060546875
          },
          {
           "lower": 19756.6234375,
           "timepoint": 518,
           "trajectory": "I_sol",
           "upper": 20610.259375
          },
          {
           "lower": 19798.136328125,
           "timepoint": 519,
           "trajectory": "I_sol",
           "upper": 20694.226953125
          },
          {
           "lower": 19842.841796875,
           "timepoint": 520,
           "trajectory": "I_sol",
           "upper": 20781.759765625
          },
          {
           "lower": 19890.74619140625,
           "timepoint": 521,
           "trajectory": "I_sol",
           "upper": 20872.80263671875
          },
          {
           "lower": 19941.88896484375,
           "timepoint": 522,
           "trajectory": "I_sol",
           "upper": 20967.47236328125
          },
          {
           "lower": 19996.236328125,
           "timepoint": 523,
           "trajectory": "I_sol",
           "upper": 21065.759765625
          },
          {
           "lower": 20053.812890625,
           "timepoint": 524,
           "trajectory": "I_sol",
           "upper": 21167.675390625
          },
          {
           "lower": 20114.626953125,
           "timepoint": 525,
           "trajectory": "I_sol",
           "upper": 21273.271484375
          },
          {
           "lower": 20178.6921875,
           "timepoint": 526,
           "trajectory": "I_sol",
           "upper": 21382.56171875
          },
          {
           "lower": 20246.021484375,
           "timepoint": 527,
           "trajectory": "I_sol",
           "upper": 21495.615234375
          },
          {
           "lower": 20316.63095703125,
           "timepoint": 528,
           "trajectory": "I_sol",
           "upper": 21612.42177734375
          },
          {
           "lower": 20390.54111328125,
           "timepoint": 529,
           "trajectory": "I_sol",
           "upper": 21733.01943359375
          },
          {
           "lower": 20467.77822265625,
           "timepoint": 530,
           "trajectory": "I_sol",
           "upper": 21857.48544921875
          },
          {
           "lower": 20548.28115234375,
           "timepoint": 531,
           "trajectory": "I_sol",
           "upper": 21985.81845703125
          },
          {
           "lower": 20632.171484375,
           "timepoint": 532,
           "trajectory": "I_sol",
           "upper": 22118.078515625
          },
          {
           "lower": 20719.42685546875,
           "timepoint": 533,
           "trajectory": "I_sol",
           "upper": 22254.26259765625
          },
          {
           "lower": 20810.05908203125,
           "timepoint": 534,
           "trajectory": "I_sol",
           "upper": 22394.45458984375
          },
          {
           "lower": 20904.1138671875,
           "timepoint": 535,
           "trajectory": "I_sol",
           "upper": 22538.7142578125
          },
          {
           "lower": 21001.59013671875,
           "timepoint": 536,
           "trajectory": "I_sol",
           "upper": 22687.05634765625
          },
          {
           "lower": 21102.5693359375,
           "timepoint": 537,
           "trajectory": "I_sol",
           "upper": 22839.5517578125
          },
          {
           "lower": 21207.013671875,
           "timepoint": 538,
           "trajectory": "I_sol",
           "upper": 22996.185546875
          },
          {
           "lower": 21314.97578125,
           "timepoint": 539,
           "trajectory": "I_sol",
           "upper": 23157.07890625
          },
          {
           "lower": 21426.50361328125,
           "timepoint": 540,
           "trajectory": "I_sol",
           "upper": 23322.26396484375
          },
          {
           "lower": 21541.60458984375,
           "timepoint": 541,
           "trajectory": "I_sol",
           "upper": 23491.77626953125
          },
          {
           "lower": 21660.3171875,
           "timepoint": 542,
           "trajectory": "I_sol",
           "upper": 23665.67890625
          },
          {
           "lower": 21782.67333984375,
           "timepoint": 543,
           "trajectory": "I_sol",
           "upper": 23844.05126953125
          },
          {
           "lower": 21908.70791015625,
           "timepoint": 544,
           "trajectory": "I_sol",
           "upper": 24026.92294921875
          },
          {
           "lower": 22038.47470703125,
           "timepoint": 545,
           "trajectory": "I_sol",
           "upper": 24214.36708984375
          },
          {
           "lower": 22171.9873046875,
           "timepoint": 546,
           "trajectory": "I_sol",
           "upper": 24406.4306640625
          },
          {
           "lower": 22309.292578125,
           "timepoint": 547,
           "trajectory": "I_sol",
           "upper": 24603.195703125
          },
          {
           "lower": 22450.4517578125,
           "timepoint": 548,
           "trajectory": "I_sol",
           "upper": 24804.7357421875
          },
          {
           "lower": 22595.4734375,
           "timepoint": 549,
           "trajectory": "I_sol",
           "upper": 25011.03828125
          },
          {
           "lower": 22744.38525390625,
           "timepoint": 550,
           "trajectory": "I_sol",
           "upper": 25222.24169921875
          },
          {
           "lower": 22897.3349609375,
           "timepoint": 551,
           "trajectory": "I_sol",
           "upper": 25438.4462890625
          },
          {
           "lower": 23054.266015625,
           "timepoint": 552,
           "trajectory": "I_sol",
           "upper": 25659.667578125
          },
          {
           "lower": 23215.26318359375,
           "timepoint": 553,
           "trajectory": "I_sol",
           "upper": 25886.00439453125
          },
          {
           "lower": 23380.33466796875,
           "timepoint": 554,
           "trajectory": "I_sol",
           "upper": 26117.47197265625
          },
          {
           "lower": 23549.5833984375,
           "timepoint": 555,
           "trajectory": "I_sol",
           "upper": 26354.2330078125
          },
          {
           "lower": 23723.0427734375,
           "timepoint": 556,
           "trajectory": "I_sol",
           "upper": 26596.3595703125
          },
          {
           "lower": 23900.7650390625,
           "timepoint": 557,
           "trajectory": "I_sol",
           "upper": 26843.7896484375
          },
          {
           "lower": 24082.80263671875,
           "timepoint": 558,
           "trajectory": "I_sol",
           "upper": 27096.78134765625
          },
          {
           "lower": 24269.20869140625,
           "timepoint": 559,
           "trajectory": "I_sol",
           "upper": 27355.32451171875
          },
          {
           "lower": 24460.0544921875,
           "timepoint": 560,
           "trajectory": "I_sol",
           "upper": 27619.5431640625
          },
          {
           "lower": 24655.396484375,
           "timepoint": 561,
           "trajectory": "I_sol",
           "upper": 27889.490234375
          },
          {
           "lower": 24855.2591796875,
           "timepoint": 562,
           "trajectory": "I_sol",
           "upper": 28165.3150390625
          },
          {
           "lower": 25059.76474609375,
           "timepoint": 563,
           "trajectory": "I_sol",
           "upper": 28447.05361328125
          },
          {
           "lower": 25268.9533203125,
           "timepoint": 564,
           "trajectory": "I_sol",
           "upper": 28734.8005859375
          },
          {
           "lower": 25482.812109375,
           "timepoint": 565,
           "trajectory": "I_sol",
           "upper": 29028.664453125
          },
          {
           "lower": 25701.52548828125,
           "timepoint": 566,
           "trajectory": "I_sol",
           "upper": 29328.73818359375
          },
          {
           "lower": 25925.0935546875,
           "timepoint": 567,
           "trajectory": "I_sol",
           "upper": 29635.1291015625
          },
          {
           "lower": 26153.61376953125,
           "timepoint": 568,
           "trajectory": "I_sol",
           "upper": 29947.93115234375
          }
         ]
        },
        {
         "name": "traces",
         "transform": [
          {
           "expr": "isValid(datum.value)",
           "type": "filter"
          }
         ],
         "values": []
        },
        {
         "name": "points",
         "values": [
          {
           "sample_id": 0,
           "timepoint": 0,
           "trajectory": "I_data",
           "value": 0
          },
          {
           "sample_id": 0,
           "timepoint": 1,
           "trajectory": "I_data",
           "value": 0
          },
          {
           "sample_id": 0,
           "timepoint": 2,
           "trajectory": "I_data",
           "value": 0
          },
          {
           "sample_id": 0,
           "timepoint": 3,
           "trajectory": "I_data",
           "value": 0
          },
          {
           "sample_id": 0,
           "timepoint": 4,
           "trajectory": "I_data",
           "value": 0
          },
          {
           "sample_id": 0,
           "timepoint": 5,
           "trajectory": "I_data",
           "value": 0
          },
          {
           "sample_id": 0,
           "timepoint": 6,
           "trajectory": "I_data",
           "value": 0
          },
          {
           "sample_id": 0,
           "timepoint": 7,
           "trajectory": "I_data",
           "value": 0
          },
          {
           "sample_id": 0,
           "timepoint": 8,
           "trajectory": "I_data",
           "value": 0
          },
          {
           "sample_id": 0,
           "timepoint": 9,
           "trajectory": "I_data",
           "value": 0
          },
          {
           "sample_id": 0,
           "timepoint": 10,
           "trajectory": "I_data",
           "value": 0
          },
          {
           "sample_id": 0,
           "timepoint": 11,
           "trajectory": "I_data",
           "value": 0
          },
          {
           "sample_id": 0,
           "timepoint": 12,
           "trajectory": "I_data",
           "value": 0
          },
          {
           "sample_id": 0,
           "timepoint": 13,
           "trajectory": "I_data",
           "value": 0
          },
          {
           "sample_id": 0,
           "timepoint": 14,
           "trajectory": "I_data",
           "value": 0
          },
          {
           "sample_id": 0,
           "timepoint": 15,
           "trajectory": "I_data",
           "value": 0
          },
          {
           "sample_id": 0,
           "timepoint": 16,
           "trajectory": "I_data",
           "value": 0
          },
          {
           "sample_id": 0,
           "timepoint": 17,
           "trajectory": "I_data",
           "value": 0
          },
          {
           "sample_id": 0,
           "timepoint": 18,
           "trajectory": "I_data",
           "value": 0
          },
          {
           "sample_id": 0,
           "timepoint": 19,
           "trajectory": "I_data",
           "value": 0
          },
          {
           "sample_id": 0,
           "timepoint": 20,
           "trajectory": "I_data",
           "value": 0
          },
          {
           "sample_id": 0,
           "timepoint": 21,
           "trajectory": "I_data",
           "value": 0
          },
          {
           "sample_id": 0,
           "timepoint": 22,
           "trajectory": "I_data",
           "value": 0
          },
          {
           "sample_id": 0,
           "timepoint": 23,
           "trajectory": "I_data",
           "value": 0
          },
          {
           "sample_id": 0,
           "timepoint": 24,
           "trajectory": "I_data",
           "value": 0
          },
          {
           "sample_id": 0,
           "timepoint": 25,
           "trajectory": "I_data",
           "value": 0
          },
          {
           "sample_id": 0,
           "timepoint": 26,
           "trajectory": "I_data",
           "value": 0
          },
          {
           "sample_id": 0,
           "timepoint": 27,
           "trajectory": "I_data",
           "value": 0
          },
          {
           "sample_id": 0,
           "timepoint": 28,
           "trajectory": "I_data",
           "value": 0
          },
          {
           "sample_id": 0,
           "timepoint": 29,
           "trajectory": "I_data",
           "value": 0
          },
          {
           "sample_id": 0,
           "timepoint": 30,
           "trajectory": "I_data",
           "value": 0
          },
          {
           "sample_id": 0,
           "timepoint": 31,
           "trajectory": "I_data",
           "value": 0
          },
          {
           "sample_id": 0,
           "timepoint": 32,
           "trajectory": "I_data",
           "value": 0
          },
          {
           "sample_id": 0,
           "timepoint": 33,
           "trajectory": "I_data",
           "value": 0
          },
          {
           "sample_id": 0,
           "timepoint": 34,
           "trajectory": "I_data",
           "value": 0
          },
          {
           "sample_id": 0,
           "timepoint": 35,
           "trajectory": "I_data",
           "value": 0
          },
          {
           "sample_id": 0,
           "timepoint": 36,
           "trajectory": "I_data",
           "value": 0
          },
          {
           "sample_id": 0,
           "timepoint": 37,
           "trajectory": "I_data",
           "value": 0
          },
          {
           "sample_id": 0,
           "timepoint": 38,
           "trajectory": "I_data",
           "value": 0
          },
          {
           "sample_id": 0,
           "timepoint": 39,
           "trajectory": "I_data",
           "value": 0
          },
          {
           "sample_id": 0,
           "timepoint": 40,
           "trajectory": "I_data",
           "value": 0
          },
          {
           "sample_id": 0,
           "timepoint": 41,
           "trajectory": "I_data",
           "value": 1
          },
          {
           "sample_id": 0,
           "timepoint": 42,
           "trajectory": "I_data",
           "value": 10
          },
          {
           "sample_id": 0,
           "timepoint": 43,
           "trajectory": "I_data",
           "value": 21
          },
          {
           "sample_id": 0,
           "timepoint": 44,
           "trajectory": "I_data",
           "value": 24
          },
          {
           "sample_id": 0,
           "timepoint": 45,
           "trajectory": "I_data",
           "value": 76
          },
          {
           "sample_id": 0,
           "timepoint": 46,
           "trajectory": "I_data",
           "value": 104
          },
          {
           "sample_id": 0,
           "timepoint": 47,
           "trajectory": "I_data",
           "value": 128
          },
          {
           "sample_id": 0,
           "timepoint": 48,
           "trajectory": "I_data",
           "value": 131
          },
          {
           "sample_id": 0,
           "timepoint": 49,
           "trajectory": "I_data",
           "value": 192
          },
          {
           "sample_id": 0,
           "timepoint": 50,
           "trajectory": "I_data",
           "value": 220
          },
          {
           "sample_id": 0,
           "timepoint": 51,
           "trajectory": "I_data",
           "value": 274
          },
          {
           "sample_id": 0,
           "timepoint": 52,
           "trajectory": "I_data",
           "value": 394
          },
          {
           "sample_id": 0,
           "timepoint": 53,
           "trajectory": "I_data",
           "value": 481
          },
          {
           "sample_id": 0,
           "timepoint": 54,
           "trajectory": "I_data",
           "value": 745
          },
          {
           "sample_id": 0,
           "timepoint": 55,
           "trajectory": "I_data",
           "value": 1111
          },
          {
           "sample_id": 0,
           "timepoint": 56,
           "trajectory": "I_data",
           "value": 2128
          },
          {
           "sample_id": 0,
           "timepoint": 57,
           "trajectory": "I_data",
           "value": 3671
          },
          {
           "sample_id": 0,
           "timepoint": 58,
           "trajectory": "I_data",
           "value": 6578
          },
          {
           "sample_id": 0,
           "timepoint": 59,
           "trajectory": "I_data",
           "value": 9449
          },
          {
           "sample_id": 0,
           "timepoint": 60,
           "trajectory": "I_data",
           "value": 13761
          },
          {
           "sample_id": 0,
           "timepoint": 61,
           "trajectory": "I_data",
           "value": 18270
          },
          {
           "sample_id": 0,
           "timepoint": 62,
           "trajectory": "I_data",
           "value": 21478
          },
          {
           "sample_id": 0,
           "timepoint": 63,
           "trajectory": "I_data",
           "value": 23630
          },
          {
           "sample_id": 0,
           "timepoint": 64,
           "trajectory": "I_data",
           "value": 26987
          },
          {
           "sample_id": 0,
           "timepoint": 65,
           "trajectory": "I_data",
           "value": 29533
          },
          {
           "sample_id": 0,
           "timepoint": 66,
           "trajectory": "I_data",
           "value": 31623
          },
          {
           "sample_id": 0,
           "timepoint": 67,
           "trajectory": "I_data",
           "value": 33967
          },
          {
           "sample_id": 0,
           "timepoint": 68,
           "trajectory": "I_data",
           "value": 35822
          },
          {
           "sample_id": 0,
           "timepoint": 69,
           "trajectory": "I_data",
           "value": 38456
          },
          {
           "sample_id": 0,
           "timepoint": 70,
           "trajectory": "I_data",
           "value": 45676
          },
          {
           "sample_id": 0,
           "timepoint": 71,
           "trajectory": "I_data",
           "value": 48380
          },
          {
           "sample_id": 0,
           "timepoint": 72,
           "trajectory": "I_data",
           "value": 51807
          },
          {
           "sample_id": 0,
           "timepoint": 73,
           "trajectory": "I_data",
           "value": 55042
          },
          {
           "sample_id": 0,
           "timepoint": 74,
           "trajectory": "I_data",
           "value": 56847
          },
          {
           "sample_id": 0,
           "timepoint": 75,
           "trajectory": "I_data",
           "value": 52184
          },
          {
           "sample_id": 0,
           "timepoint": 76,
           "trajectory": "I_data",
           "value": 49194
          },
          {
           "sample_id": 0,
           "timepoint": 77,
           "trajectory": "I_data",
           "value": 48730
          },
          {
           "sample_id": 0,
           "timepoint": 78,
           "trajectory": "I_data",
           "value": 50551
          },
          {
           "sample_id": 0,
           "timepoint": 79,
           "trajectory": "I_data",
           "value": 51029
          },
          {
           "sample_id": 0,
           "timepoint": 80,
           "trajectory": "I_data",
           "value": 49701
          },
          {
           "sample_id": 0,
           "timepoint": 81,
           "trajectory": "I_data",
           "value": 50661
          },
          {
           "sample_id": 0,
           "timepoint": 82,
           "trajectory": "I_data",
           "value": 48303
          },
          {
           "sample_id": 0,
           "timepoint": 83,
           "trajectory": "I_data",
           "value": 43703
          },
          {
           "sample_id": 0,
           "timepoint": 84,
           "trajectory": "I_data",
           "value": 38888
          },
          {
           "sample_id": 0,
           "timepoint": 85,
           "trajectory": "I_data",
           "value": 38244
          },
          {
           "sample_id": 0,
           "timepoint": 86,
           "trajectory": "I_data",
           "value": 36857
          },
          {
           "sample_id": 0,
           "timepoint": 87,
           "trajectory": "I_data",
           "value": 35881
          },
          {
           "sample_id": 0,
           "timepoint": 88,
           "trajectory": "I_data",
           "value": 35054
          },
          {
           "sample_id": 0,
           "timepoint": 89,
           "trajectory": "I_data",
           "value": 34782
          },
          {
           "sample_id": 0,
           "timepoint": 90,
           "trajectory": "I_data",
           "value": 31526
          },
          {
           "sample_id": 0,
           "timepoint": 91,
           "trajectory": "I_data",
           "value": 28799
          },
          {
           "sample_id": 0,
           "timepoint": 92,
           "trajectory": "I_data",
           "value": 27419
          },
          {
           "sample_id": 0,
           "timepoint": 93,
           "trajectory": "I_data",
           "value": 27443
          },
          {
           "sample_id": 0,
           "timepoint": 94,
           "trajectory": "I_data",
           "value": 30499
          },
          {
           "sample_id": 0,
           "timepoint": 95,
           "trajectory": "I_data",
           "value": 31543
          },
          {
           "sample_id": 0,
           "timepoint": 96,
           "trajectory": "I_data",
           "value": 31597
          },
          {
           "sample_id": 0,
           "timepoint": 97,
           "trajectory": "I_data",
           "value": 29008
          },
          {
           "sample_id": 0,
           "timepoint": 98,
           "trajectory": "I_data",
           "value": 25476
          },
          {
           "sample_id": 0,
           "timepoint": 99,
           "trajectory": "I_data",
           "value": 20411
          },
          {
           "sample_id": 0,
           "timepoint": 100,
           "trajectory": "I_data",
           "value": 19224
          },
          {
           "sample_id": 0,
           "timepoint": 101,
           "trajectory": "I_data",
           "value": 19286
          },
          {
           "sample_id": 0,
           "timepoint": 102,
           "trajectory": "I_data",
           "value": 19889
          },
          {
           "sample_id": 0,
           "timepoint": 103,
           "trajectory": "I_data",
           "value": 19896
          },
          {
           "sample_id": 0,
           "timepoint": 104,
           "trajectory": "I_data",
           "value": 17625
          },
          {
           "sample_id": 0,
           "timepoint": 105,
           "trajectory": "I_data",
           "value": 15258
          },
          {
           "sample_id": 0,
           "timepoint": 106,
           "trajectory": "I_data",
           "value": 14094
          },
          {
           "sample_id": 0,
           "timepoint": 107,
           "trajectory": "I_data",
           "value": 13482
          },
          {
           "sample_id": 0,
           "timepoint": 108,
           "trajectory": "I_data",
           "value": 12974
          },
          {
           "sample_id": 0,
           "timepoint": 109,
           "trajectory": "I_data",
           "value": 13268
          },
          {
           "sample_id": 0,
           "timepoint": 110,
           "trajectory": "I_data",
           "value": 12969
          },
          {
           "sample_id": 0,
           "timepoint": 111,
           "trajectory": "I_data",
           "value": 11088
          },
          {
           "sample_id": 0,
           "timepoint": 112,
           "trajectory": "I_data",
           "value": 9707
          },
          {
           "sample_id": 0,
           "timepoint": 113,
           "trajectory": "I_data",
           "value": 9411
          },
          {
           "sample_id": 0,
           "timepoint": 114,
           "trajectory": "I_data",
           "value": 9259
          },
          {
           "sample_id": 0,
           "timepoint": 115,
           "trajectory": "I_data",
           "value": 9953
          },
          {
           "sample_id": 0,
           "timepoint": 116,
           "trajectory": "I_data",
           "value": 10646
          },
          {
           "sample_id": 0,
           "timepoint": 117,
           "trajectory": "I_data",
           "value": 10626
          },
          {
           "sample_id": 0,
           "timepoint": 118,
           "trajectory": "I_data",
           "value": 9673
          },
          {
           "sample_id": 0,
           "timepoint": 119,
           "trajectory": "I_data",
           "value": 8591
          },
          {
           "sample_id": 0,
           "timepoint": 120,
           "trajectory": "I_data",
           "value": 7939
          },
          {
           "sample_id": 0,
           "timepoint": 121,
           "trajectory": "I_data",
           "value": 7816
          },
          {
           "sample_id": 0,
           "timepoint": 122,
           "trajectory": "I_data",
           "value": 8389
          },
          {
           "sample_id": 0,
           "timepoint": 123,
           "trajectory": "I_data",
           "value": 8811
          },
          {
           "sample_id": 0,
           "timepoint": 124,
           "trajectory": "I_data",
           "value": 9336
          },
          {
           "sample_id": 0,
           "timepoint": 125,
           "trajectory": "I_data",
           "value": 8431
          },
          {
           "sample_id": 0,
           "timepoint": 126,
           "trajectory": "I_data",
           "value": 7464
          },
          {
           "sample_id": 0,
           "timepoint": 127,
           "trajectory": "I_data",
           "value": 6549
          },
          {
           "sample_id": 0,
           "timepoint": 128,
           "trajectory": "I_data",
           "value": 6404
          },
          {
           "sample_id": 0,
           "timepoint": 129,
           "trajectory": "I_data",
           "value": 6085
          },
          {
           "sample_id": 0,
           "timepoint": 130,
           "trajectory": "I_data",
           "value": 6333
          },
          {
           "sample_id": 0,
           "timepoint": 131,
           "trajectory": "I_data",
           "value": 6536
          },
          {
           "sample_id": 0,
           "timepoint": 132,
           "trajectory": "I_data",
           "value": 6449
          },
          {
           "sample_id": 0,
           "timepoint": 133,
           "trajectory": "I_data",
           "value": 5575
          },
          {
           "sample_id": 0,
           "timepoint": 134,
           "trajectory": "I_data",
           "value": 5415
          },
          {
           "sample_id": 0,
           "timepoint": 135,
           "trajectory": "I_data",
           "value": 5329
          },
          {
           "sample_id": 0,
           "timepoint": 136,
           "trajectory": "I_data",
           "value": 5248
          },
          {
           "sample_id": 0,
           "timepoint": 137,
           "trajectory": "I_data",
           "value": 5036
          },
          {
           "sample_id": 0,
           "timepoint": 138,
           "trajectory": "I_data",
           "value": 4983
          },
          {
           "sample_id": 0,
           "timepoint": 139,
           "trajectory": "I_data",
           "value": 4369
          },
          {
           "sample_id": 0,
           "timepoint": 140,
           "trajectory": "I_data",
           "value": 3707
          },
          {
           "sample_id": 0,
           "timepoint": 141,
           "trajectory": "I_data",
           "value": 3462
          },
          {
           "sample_id": 0,
           "timepoint": 142,
           "trajectory": "I_data",
           "value": 3421
          },
          {
           "sample_id": 0,
           "timepoint": 143,
           "trajectory": "I_data",
           "value": 3445
          },
          {
           "sample_id": 0,
           "timepoint": 144,
           "trajectory": "I_data",
           "value": 3540
          },
          {
           "sample_id": 0,
           "timepoint": 145,
           "trajectory": "I_data",
           "value": 3746
          },
          {
           "sample_id": 0,
           "timepoint": 146,
           "trajectory": "I_data",
           "value": 3445
          },
          {
           "sample_id": 0,
           "timepoint": 147,
           "trajectory": "I_data",
           "value": 3040
          },
          {
           "sample_id": 0,
           "timepoint": 148,
           "trajectory": "I_data",
           "value": 2979
          },
          {
           "sample_id": 0,
           "timepoint": 149,
           "trajectory": "I_data",
           "value": 3110
          },
          {
           "sample_id": 0,
           "timepoint": 150,
           "trajectory": "I_data",
           "value": 3138
          },
          {
           "sample_id": 0,
           "timepoint": 151,
           "trajectory": "I_data",
           "value": 3295
          },
          {
           "sample_id": 0,
           "timepoint": 152,
           "trajectory": "I_data",
           "value": 3526
          },
          {
           "sample_id": 0,
           "timepoint": 153,
           "trajectory": "I_data",
           "value": 3328
          },
          {
           "sample_id": 0,
           "timepoint": 154,
           "trajectory": "I_data",
           "value": 2977
          },
          {
           "sample_id": 0,
           "timepoint": 155,
           "trajectory": "I_data",
           "value": 3096
          },
          {
           "sample_id": 0,
           "timepoint": 156,
           "trajectory": "I_data",
           "value": 3259
          },
          {
           "sample_id": 0,
           "timepoint": 157,
           "trajectory": "I_data",
           "value": 3351
          },
          {
           "sample_id": 0,
           "timepoint": 158,
           "trajectory": "I_data",
           "value": 3461
          },
          {
           "sample_id": 0,
           "timepoint": 159,
           "trajectory": "I_data",
           "value": 3522
          },
          {
           "sample_id": 0,
           "timepoint": 160,
           "trajectory": "I_data",
           "value": 3211
          },
          {
           "sample_id": 0,
           "timepoint": 161,
           "trajectory": "I_data",
           "value": 2929
          },
          {
           "sample_id": 0,
           "timepoint": 162,
           "trajectory": "I_data",
           "value": 3102
          },
          {
           "sample_id": 0,
           "timepoint": 163,
           "trajectory": "I_data",
           "value": 3405
          },
          {
           "sample_id": 0,
           "timepoint": 164,
           "trajectory": "I_data",
           "value": 3648
          },
          {
           "sample_id": 0,
           "timepoint": 165,
           "trajectory": "I_data",
           "value": 3867
          },
          {
           "sample_id": 0,
           "timepoint": 166,
           "trajectory": "I_data",
           "value": 3842
          },
          {
           "sample_id": 0,
           "timepoint": 167,
           "trajectory": "I_data",
           "value": 3383
          },
          {
           "sample_id": 0,
           "timepoint": 168,
           "trajectory": "I_data",
           "value": 3037
          },
          {
           "sample_id": 0,
           "timepoint": 169,
           "trajectory": "I_data",
           "value": 3025
          },
          {
           "sample_id": 0,
           "timepoint": 170,
           "trajectory": "I_data",
           "value": 3223
          },
          {
           "sample_id": 0,
           "timepoint": 171,
           "trajectory": "I_data",
           "value": 3579
          },
          {
           "sample_id": 0,
           "timepoint": 172,
           "trajectory": "I_data",
           "value": 3878
          },
          {
           "sample_id": 0,
           "timepoint": 173,
           "trajectory": "I_data",
           "value": 3945
          },
          {
           "sample_id": 0,
           "timepoint": 174,
           "trajectory": "I_data",
           "value": 4053
          },
          {
           "sample_id": 0,
           "timepoint": 175,
           "trajectory": "I_data",
           "value": 3835
          },
          {
           "sample_id": 0,
           "timepoint": 176,
           "trajectory": "I_data",
           "value": 3847
          },
          {
           "sample_id": 0,
           "timepoint": 177,
           "trajectory": "I_data",
           "value": 3927
          },
          {
           "sample_id": 0,
           "timepoint": 178,
           "trajectory": "I_data",
           "value": 4121
          },
          {
           "sample_id": 0,
           "timepoint": 179,
           "trajectory": "I_data",
           "value": 3892
          },
          {
           "sample_id": 0,
           "timepoint": 180,
           "trajectory": "I_data",
           "value": 3864
          },
          {
           "sample_id": 0,
           "timepoint": 181,
           "trajectory": "I_data",
           "value": 3674
          },
          {
           "sample_id": 0,
           "timepoint": 182,
           "trajectory": "I_data",
           "value": 3403
          },
          {
           "sample_id": 0,
           "timepoint": 183,
           "trajectory": "I_data",
           "value": 3427
          },
          {
           "sample_id": 0,
           "timepoint": 184,
           "trajectory": "I_data",
           "value": 3533
          },
          {
           "sample_id": 0,
           "timepoint": 185,
           "trajectory": "I_data",
           "value": 3619
          },
          {
           "sample_id": 0,
           "timepoint": 186,
           "trajectory": "I_data",
           "value": 3547
          },
          {
           "sample_id": 0,
           "timepoint": 187,
           "trajectory": "I_data",
           "value": 3626
          },
          {
           "sample_id": 0,
           "timepoint": 188,
           "trajectory": "I_data",
           "value": 3278
          },
          {
           "sample_id": 0,
           "timepoint": 189,
           "trajectory": "I_data",
           "value": 3100
          },
          {
           "sample_id": 0,
           "timepoint": 190,
           "trajectory": "I_data",
           "value": 3137
          },
          {
           "sample_id": 0,
           "timepoint": 191,
           "trajectory": "I_data",
           "value": 3199
          },
          {
           "sample_id": 0,
           "timepoint": 192,
           "trajectory": "I_data",
           "value": 3319
          },
          {
           "sample_id": 0,
           "timepoint": 193,
           "trajectory": "I_data",
           "value": 3367
          },
          {
           "sample_id": 0,
           "timepoint": 194,
           "trajectory": "I_data",
           "value": 3385
          },
          {
           "sample_id": 0,
           "timepoint": 195,
           "trajectory": "I_data",
           "value": 3221
          },
          {
           "sample_id": 0,
           "timepoint": 196,
           "trajectory": "I_data",
           "value": 3015
          },
          {
           "sample_id": 0,
           "timepoint": 197,
           "trajectory": "I_data",
           "value": 3002
          },
          {
           "sample_id": 0,
           "timepoint": 198,
           "trajectory": "I_data",
           "value": 3027
          },
          {
           "sample_id": 0,
           "timepoint": 199,
           "trajectory": "I_data",
           "value": 3135
          },
          {
           "sample_id": 0,
           "timepoint": 200,
           "trajectory": "I_data",
           "value": 3076
          },
          {
           "sample_id": 0,
           "timepoint": 201,
           "trajectory": "I_data",
           "value": 3113
          },
          {
           "sample_id": 0,
           "timepoint": 202,
           "trajectory": "I_data",
           "value": 2953
          },
          {
           "sample_id": 0,
           "timepoint": 203,
           "trajectory": "I_data",
           "value": 2839
          },
          {
           "sample_id": 0,
           "timepoint": 204,
           "trajectory": "I_data",
           "value": 2783
          },
          {
           "sample_id": 0,
           "timepoint": 205,
           "trajectory": "I_data",
           "value": 2859
          },
          {
           "sample_id": 0,
           "timepoint": 206,
           "trajectory": "I_data",
           "value": 3030
          },
          {
           "sample_id": 0,
           "timepoint": 207,
           "trajectory": "I_data",
           "value": 3058
          },
          {
           "sample_id": 0,
           "timepoint": 208,
           "trajectory": "I_data",
           "value": 3067
          },
          {
           "sample_id": 0,
           "timepoint": 209,
           "trajectory": "I_data",
           "value": 2963
          },
          {
           "sample_id": 0,
           "timepoint": 210,
           "trajectory": "I_data",
           "value": 2830
          },
          {
           "sample_id": 0,
           "timepoint": 211,
           "trajectory": "I_data",
           "value": 2821
          },
          {
           "sample_id": 0,
           "timepoint": 212,
           "trajectory": "I_data",
           "value": 2948
          },
          {
           "sample_id": 0,
           "timepoint": 213,
           "trajectory": "I_data",
           "value": 3158
          },
          {
           "sample_id": 0,
           "timepoint": 214,
           "trajectory": "I_data",
           "value": 3162
          },
          {
           "sample_id": 0,
           "timepoint": 215,
           "trajectory": "I_data",
           "value": 3118
          },
          {
           "sample_id": 0,
           "timepoint": 216,
           "trajectory": "I_data",
           "value": 2990
          },
          {
           "sample_id": 0,
           "timepoint": 217,
           "trajectory": "I_data",
           "value": 2735
          },
          {
           "sample_id": 0,
           "timepoint": 218,
           "trajectory": "I_data",
           "value": 2850
          },
          {
           "sample_id": 0,
           "timepoint": 219,
           "trajectory": "I_data",
           "value": 2977
          },
          {
           "sample_id": 0,
           "timepoint": 220,
           "trajectory": "I_data",
           "value": 3198
          },
          {
           "sample_id": 0,
           "timepoint": 221,
           "trajectory": "I_data",
           "value": 3356
          },
          {
           "sample_id": 0,
           "timepoint": 222,
           "trajectory": "I_data",
           "value": 3559
          },
          {
           "sample_id": 0,
           "timepoint": 223,
           "trajectory": "I_data",
           "value": 3364
          },
          {
           "sample_id": 0,
           "timepoint": 224,
           "trajectory": "I_data",
           "value": 3343
          },
          {
           "sample_id": 0,
           "timepoint": 225,
           "trajectory": "I_data",
           "value": 3566
          },
          {
           "sample_id": 0,
           "timepoint": 226,
           "trajectory": "I_data",
           "value": 3723
          },
          {
           "sample_id": 0,
           "timepoint": 227,
           "trajectory": "I_data",
           "value": 3858
          },
          {
           "sample_id": 0,
           "timepoint": 228,
           "trajectory": "I_data",
           "value": 3991
          },
          {
           "sample_id": 0,
           "timepoint": 229,
           "trajectory": "I_data",
           "value": 3910
          },
          {
           "sample_id": 0,
           "timepoint": 230,
           "trajectory": "I_data",
           "value": 3495
          },
          {
           "sample_id": 0,
           "timepoint": 231,
           "trajectory": "I_data",
           "value": 3217
          },
          {
           "sample_id": 0,
           "timepoint": 232,
           "trajectory": "I_data",
           "value": 3059
          },
          {
           "sample_id": 0,
           "timepoint": 233,
           "trajectory": "I_data",
           "value": 3354
          },
          {
           "sample_id": 0,
           "timepoint": 234,
           "trajectory": "I_data",
           "value": 3713
          },
          {
           "sample_id": 0,
           "timepoint": 235,
           "trajectory": "I_data",
           "value": 4045
          },
          {
           "sample_id": 0,
           "timepoint": 236,
           "trajectory": "I_data",
           "value": 4115
          },
          {
           "sample_id": 0,
           "timepoint": 237,
           "trajectory": "I_data",
           "value": 4142
          },
          {
           "sample_id": 0,
           "timepoint": 238,
           "trajectory": "I_data",
           "value": 3795
          },
          {
           "sample_id": 0,
           "timepoint": 239,
           "trajectory": "I_data",
           "value": 3894
          },
          {
           "sample_id": 0,
           "timepoint": 240,
           "trajectory": "I_data",
           "value": 3891
          },
          {
           "sample_id": 0,
           "timepoint": 241,
           "trajectory": "I_data",
           "value": 4131
          },
          {
           "sample_id": 0,
           "timepoint": 242,
           "trajectory": "I_data",
           "value": 4294
          },
          {
           "sample_id": 0,
           "timepoint": 243,
           "trajectory": "I_data",
           "value": 4245
          },
          {
           "sample_id": 0,
           "timepoint": 244,
           "trajectory": "I_data",
           "value": 3808
          },
          {
           "sample_id": 0,
           "timepoint": 245,
           "trajectory": "I_data",
           "value": 3546
          },
          {
           "sample_id": 0,
           "timepoint": 246,
           "trajectory": "I_data",
           "value": 3745
          },
          {
           "sample_id": 0,
           "timepoint": 247,
           "trajectory": "I_data",
           "value": 3893
          },
          {
           "sample_id": 0,
           "timepoint": 248,
           "trajectory": "I_data",
           "value": 4431
          },
          {
           "sample_id": 0,
           "timepoint": 249,
           "trajectory": "I_data",
           "value": 4875
          },
          {
           "sample_id": 0,
           "timepoint": 250,
           "trajectory": "I_data",
           "value": 5275
          },
          {
           "sample_id": 0,
           "timepoint": 251,
           "trajectory": "I_data",
           "value": 5153
          },
          {
           "sample_id": 0,
           "timepoint": 252,
           "trajectory": "I_data",
           "value": 5137
          },
          {
           "sample_id": 0,
           "timepoint": 253,
           "trajectory": "I_data",
           "value": 5288
          },
          {
           "sample_id": 0,
           "timepoint": 254,
           "trajectory": "I_data",
           "value": 6015
          },
          {
           "sample_id": 0,
           "timepoint": 255,
           "trajectory": "I_data",
           "value": 6733
          },
          {
           "sample_id": 0,
           "timepoint": 256,
           "trajectory": "I_data",
           "value": 7140
          },
          {
           "sample_id": 0,
           "timepoint": 257,
           "trajectory": "I_data",
           "value": 7303
          },
          {
           "sample_id": 0,
           "timepoint": 258,
           "trajectory": "I_data",
           "value": 7128
          },
          {
           "sample_id": 0,
           "timepoint": 259,
           "trajectory": "I_data",
           "value": 6587
          },
          {
           "sample_id": 0,
           "timepoint": 260,
           "trajectory": "I_data",
           "value": 6978
          },
          {
           "sample_id": 0,
           "timepoint": 261,
           "trajectory": "I_data",
           "value": 7201
          },
          {
           "sample_id": 0,
           "timepoint": 262,
           "trajectory": "I_data",
           "value": 7557
          },
          {
           "sample_id": 0,
           "timepoint": 263,
           "trajectory": "I_data",
           "value": 7682
          },
          {
           "sample_id": 0,
           "timepoint": 264,
           "trajectory": "I_data",
           "value": 7718
          },
          {
           "sample_id": 0,
           "timepoint": 265,
           "trajectory": "I_data",
           "value": 6844
          },
          {
           "sample_id": 0,
           "timepoint": 266,
           "trajectory": "I_data",
           "value": 6333
          },
          {
           "sample_id": 0,
           "timepoint": 267,
           "trajectory": "I_data",
           "value": 6368
          },
          {
           "sample_id": 0,
           "timepoint": 268,
           "trajectory": "I_data",
           "value": 6841
          },
          {
           "sample_id": 0,
           "timepoint": 269,
           "trajectory": "I_data",
           "value": 7282
          },
          {
           "sample_id": 0,
           "timepoint": 270,
           "trajectory": "I_data",
           "value": 7590
          },
          {
           "sample_id": 0,
           "timepoint": 271,
           "trajectory": "I_data",
           "value": 7701
          },
          {
           "sample_id": 0,
           "timepoint": 272,
           "trajectory": "I_data",
           "value": 7401
          },
          {
           "sample_id": 0,
           "timepoint": 273,
           "trajectory": "I_data",
           "value": 7370
          },
          {
           "sample_id": 0,
           "timepoint": 274,
           "trajectory": "I_data",
           "value": 7567
          },
          {
           "sample_id": 0,
           "timepoint": 275,
           "trajectory": "I_data",
           "value": 7889
          },
          {
           "sample_id": 0,
           "timepoint": 276,
           "trajectory": "I_data",
           "value": 8804
          },
          {
           "sample_id": 0,
           "timepoint": 277,
           "trajectory": "I_data",
           "value": 9486
          },
          {
           "sample_id": 0,
           "timepoint": 278,
           "trajectory": "I_data",
           "value": 9315
          },
          {
           "sample_id": 0,
           "timepoint": 279,
           "trajectory": "I_data",
           "value": 9204
          },
          {
           "sample_id": 0,
           "timepoint": 280,
           "trajectory": "I_data",
           "value": 9081
          },
          {
           "sample_id": 0,
           "timepoint": 281,
           "trajectory": "I_data",
           "value": 9308
          },
          {
           "sample_id": 0,
           "timepoint": 282,
           "trajectory": "I_data",
           "value": 9716
          },
          {
           "sample_id": 0,
           "timepoint": 283,
           "trajectory": "I_data",
           "value": 10564
          },
          {
           "sample_id": 0,
           "timepoint": 284,
           "trajectory": "I_data",
           "value": 10905
          },
          {
           "sample_id": 0,
           "timepoint": 285,
           "trajectory": "I_data",
           "value": 11064
          },
          {
           "sample_id": 0,
           "timepoint": 286,
           "trajectory": "I_data",
           "value": 10782
          },
          {
           "sample_id": 0,
           "timepoint": 287,
           "trajectory": "I_data",
           "value": 10522
          },
          {
           "sample_id": 0,
           "timepoint": 288,
           "trajectory": "I_data",
           "value": 11346
          },
          {
           "sample_id": 0,
           "timepoint": 289,
           "trajectory": "I_data",
           "value": 12435
          },
          {
           "sample_id": 0,
           "timepoint": 290,
           "trajectory": "I_data",
           "value": 14465
          },
          {
           "sample_id": 0,
           "timepoint": 291,
           "trajectory": "I_data",
           "value": 15975
          },
          {
           "sample_id": 0,
           "timepoint": 292,
           "trajectory": "I_data",
           "value": 17353
          },
          {
           "sample_id": 0,
           "timepoint": 293,
           "trajectory": "I_data",
           "value": 18093
          },
          {
           "sample_id": 0,
           "timepoint": 294,
           "trajectory": "I_data",
           "value": 19135
          },
          {
           "sample_id": 0,
           "timepoint": 295,
           "trajectory": "I_data",
           "value": 20460
          },
          {
           "sample_id": 0,
           "timepoint": 296,
           "trajectory": "I_data",
           "value": 22547
          },
          {
           "sample_id": 0,
           "timepoint": 297,
           "trajectory": "I_data",
           "value": 24678
          },
          {
           "sample_id": 0,
           "timepoint": 298,
           "trajectory": "I_data",
           "value": 24913
          },
          {
           "sample_id": 0,
           "timepoint": 299,
           "trajectory": "I_data",
           "value": 24870
          },
          {
           "sample_id": 0,
           "timepoint": 300,
           "trajectory": "I_data",
           "value": 24257
          },
          {
           "sample_id": 0,
           "timepoint": 301,
           "trajectory": "I_data",
           "value": 23467
          },
          {
           "sample_id": 0,
           "timepoint": 302,
           "trajectory": "I_data",
           "value": 23714
          },
          {
           "sample_id": 0,
           "timepoint": 303,
           "trajectory": "I_data",
           "value": 25255
          },
          {
           "sample_id": 0,
           "timepoint": 304,
           "trajectory": "I_data",
           "value": 27357
          },
          {
           "sample_id": 0,
           "timepoint": 305,
           "trajectory": "I_data",
           "value": 28425
          },
          {
           "sample_id": 0,
           "timepoint": 306,
           "trajectory": "I_data",
           "value": 29986
          },
          {
           "sample_id": 0,
           "timepoint": 307,
           "trajectory": "I_data",
           "value": 29044
          },
          {
           "sample_id": 0,
           "timepoint": 308,
           "trajectory": "I_data",
           "value": 29344
          },
          {
           "sample_id": 0,
           "timepoint": 309,
           "trajectory": "I_data",
           "value": 30344
          },
          {
           "sample_id": 0,
           "timepoint": 310,
           "trajectory": "I_data",
           "value": 32942
          },
          {
           "sample_id": 0,
           "timepoint": 311,
           "trajectory": "I_data",
           "value": 33366
          },
          {
           "sample_id": 0,
           "timepoint": 312,
           "trajectory": "I_data",
           "value": 33962
          },
          {
           "sample_id": 0,
           "timepoint": 313,
           "trajectory": "I_data",
           "value": 35701
          },
          {
           "sample_id": 0,
           "timepoint": 314,
           "trajectory": "I_data",
           "value": 35476
          },
          {
           "sample_id": 0,
           "timepoint": 315,
           "trajectory": "I_data",
           "value": 35333
          },
          {
           "sample_id": 0,
           "timepoint": 316,
           "trajectory": "I_data",
           "value": 38620
          },
          {
           "sample_id": 0,
           "timepoint": 317,
           "trajectory": "I_data",
           "value": 44988
          },
          {
           "sample_id": 0,
           "timepoint": 318,
           "trajectory": "I_data",
           "value": 48270
          },
          {
           "sample_id": 0,
           "timepoint": 319,
           "trajectory": "I_data",
           "value": 51334
          },
          {
           "sample_id": 0,
           "timepoint": 320,
           "trajectory": "I_data",
           "value": 51652
          },
          {
           "sample_id": 0,
           "timepoint": 321,
           "trajectory": "I_data",
           "value": 49939
          },
          {
           "sample_id": 0,
           "timepoint": 322,
           "trajectory": "I_data",
           "value": 47351
          },
          {
           "sample_id": 0,
           "timepoint": 323,
           "trajectory": "I_data",
           "value": 47421
          },
          {
           "sample_id": 0,
           "timepoint": 324,
           "trajectory": "I_data",
           "value": 48394
          },
          {
           "sample_id": 0,
           "timepoint": 325,
           "trajectory": "I_data",
           "value": 50941
          },
          {
           "sample_id": 0,
           "timepoint": 326,
           "trajectory": "I_data",
           "value": 53093
          },
          {
           "sample_id": 0,
           "timepoint": 327,
           "trajectory": "I_data",
           "value": 53973
          },
          {
           "sample_id": 0,
           "timepoint": 328,
           "trajectory": "I_data",
           "value": 51813
          },
          {
           "sample_id": 0,
           "timepoint": 329,
           "trajectory": "I_data",
           "value": 50108
          },
          {
           "sample_id": 0,
           "timepoint": 330,
           "trajectory": "I_data",
           "value": 50831
          },
          {
           "sample_id": 0,
           "timepoint": 331,
           "trajectory": "I_data",
           "value": 52896
          },
          {
           "sample_id": 0,
           "timepoint": 332,
           "trajectory": "I_data",
           "value": 52825
          },
          {
           "sample_id": 0,
           "timepoint": 333,
           "trajectory": "I_data",
           "value": 53166
          },
          {
           "sample_id": 0,
           "timepoint": 334,
           "trajectory": "I_data",
           "value": 53552
          },
          {
           "sample_id": 0,
           "timepoint": 335,
           "trajectory": "I_data",
           "value": 51222
          },
          {
           "sample_id": 0,
           "timepoint": 336,
           "trajectory": "I_data",
           "value": 49102
          },
          {
           "sample_id": 0,
           "timepoint": 337,
           "trajectory": "I_data",
           "value": 52059
          },
          {
           "sample_id": 0,
           "timepoint": 338,
           "trajectory": "I_data",
           "value": 55802
          },
          {
           "sample_id": 0,
           "timepoint": 339,
           "trajectory": "I_data",
           "value": 57126
          },
          {
           "sample_id": 0,
           "timepoint": 340,
           "trajectory": "I_data",
           "value": 55741
          },
          {
           "sample_id": 0,
           "timepoint": 341,
           "trajectory": "I_data",
           "value": 53477
          },
          {
           "sample_id": 0,
           "timepoint": 342,
           "trajectory": "I_data",
           "value": 50607
          },
          {
           "sample_id": 0,
           "timepoint": 343,
           "trajectory": "I_data",
           "value": 50478
          },
          {
           "sample_id": 0,
           "timepoint": 344,
           "trajectory": "I_data",
           "value": 54737
          },
          {
           "sample_id": 0,
           "timepoint": 345,
           "trajectory": "I_data",
           "value": 63762
          },
          {
           "sample_id": 0,
           "timepoint": 346,
           "trajectory": "I_data",
           "value": 71340
          },
          {
           "sample_id": 0,
           "timepoint": 347,
           "trajectory": "I_data",
           "value": 73418
          },
          {
           "sample_id": 0,
           "timepoint": 348,
           "trajectory": "I_data",
           "value": 71741
          },
          {
           "sample_id": 0,
           "timepoint": 349,
           "trajectory": "I_data",
           "value": 69493
          },
          {
           "sample_id": 0,
           "timepoint": 350,
           "trajectory": "I_data",
           "value": 68486
          },
          {
           "sample_id": 0,
           "timepoint": 351,
           "trajectory": "I_data",
           "value": 70226
          },
          {
           "sample_id": 0,
           "timepoint": 352,
           "trajectory": "I_data",
           "value": 77552
          },
          {
           "sample_id": 0,
           "timepoint": 353,
           "trajectory": "I_data",
           "value": 84149
          },
          {
           "sample_id": 0,
           "timepoint": 354,
           "trajectory": "I_data",
           "value": 87316
          },
          {
           "sample_id": 0,
           "timepoint": 355,
           "trajectory": "I_data",
           "value": 85467
          },
          {
           "sample_id": 0,
           "timepoint": 356,
           "trajectory": "I_data",
           "value": 82676
          },
          {
           "sample_id": 0,
           "timepoint": 357,
           "trajectory": "I_data",
           "value": 77821
          },
          {
           "sample_id": 0,
           "timepoint": 358,
           "trajectory": "I_data",
           "value": 74165
          },
          {
           "sample_id": 0,
           "timepoint": 359,
           "trajectory": "I_data",
           "value": 77325
          },
          {
           "sample_id": 0,
           "timepoint": 360,
           "trajectory": "I_data",
           "value": 79091
          },
          {
           "sample_id": 0,
           "timepoint": 361,
           "trajectory": "I_data",
           "value": 77990
          },
          {
           "sample_id": 0,
           "timepoint": 362,
           "trajectory": "I_data",
           "value": 76692
          },
          {
           "sample_id": 0,
           "timepoint": 363,
           "trajectory": "I_data",
           "value": 75228
          },
          {
           "sample_id": 0,
           "timepoint": 364,
           "trajectory": "I_data",
           "value": 66873
          },
          {
           "sample_id": 0,
           "timepoint": 365,
           "trajectory": "I_data",
           "value": 64836
          },
          {
           "sample_id": 0,
           "timepoint": 366,
           "trajectory": "I_data",
           "value": 66819
          },
          {
           "sample_id": 0,
           "timepoint": 367,
           "trajectory": "I_data",
           "value": 67314
          },
          {
           "sample_id": 0,
           "timepoint": 368,
           "trajectory": "I_data",
           "value": 66971
          },
          {
           "sample_id": 0,
           "timepoint": 369,
           "trajectory": "I_data",
           "value": 67829
          },
          {
           "sample_id": 0,
           "timepoint": 370,
           "trajectory": "I_data",
           "value": 64961
          },
          {
           "sample_id": 0,
           "timepoint": 371,
           "trajectory": "I_data",
           "value": 59645
          },
          {
           "sample_id": 0,
           "timepoint": 372,
           "trajectory": "I_data",
           "value": 59526
          },
          {
           "sample_id": 0,
           "timepoint": 373,
           "trajectory": "I_data",
           "value": 60099
          },
          {
           "sample_id": 0,
           "timepoint": 374,
           "trajectory": "I_data",
           "value": 61018
          },
          {
           "sample_id": 0,
           "timepoint": 375,
           "trajectory": "I_data",
           "value": 61186
          },
          {
           "sample_id": 0,
           "timepoint": 376,
           "trajectory": "I_data",
           "value": 59755
          },
          {
           "sample_id": 0,
           "timepoint": 377,
           "trajectory": "I_data",
           "value": 53922
          },
          {
           "sample_id": 0,
           "timepoint": 378,
           "trajectory": "I_data",
           "value": 48122
          },
          {
           "sample_id": 0,
           "timepoint": 379,
           "trajectory": "I_data",
           "value": 42202
          },
          {
           "sample_id": 0,
           "timepoint": 380,
           "trajectory": "I_data",
           "value": 38889
          },
          {
           "sample_id": 0,
           "timepoint": 381,
           "trajectory": "I_data",
           "value": 41444
          },
          {
           "sample_id": 0,
           "timepoint": 382,
           "trajectory": "I_data",
           "value": 43414
          },
          {
           "sample_id": 0,
           "timepoint": 383,
           "trajectory": "I_data",
           "value": 45234
          },
          {
           "sample_id": 0,
           "timepoint": 384,
           "trajectory": "I_data",
           "value": 46391
          },
          {
           "sample_id": 0,
           "timepoint": 385,
           "trajectory": "I_data",
           "value": 45060
          },
          {
           "sample_id": 0,
           "timepoint": 386,
           "trajectory": "I_data",
           "value": 43601
          },
          {
           "sample_id": 0,
           "timepoint": 387,
           "trajectory": "I_data",
           "value": 42384
          },
          {
           "sample_id": 0,
           "timepoint": 388,
           "trajectory": "I_data",
           "value": 42170
          },
          {
           "sample_id": 0,
           "timepoint": 389,
           "trajectory": "I_data",
           "value": 42370
          },
          {
           "sample_id": 0,
           "timepoint": 390,
           "trajectory": "I_data",
           "value": 42343
          },
          {
           "sample_id": 0,
           "timepoint": 391,
           "trajectory": "I_data",
           "value": 39026
          },
          {
           "sample_id": 0,
           "timepoint": 392,
           "trajectory": "I_data",
           "value": 36249
          },
          {
           "sample_id": 0,
           "timepoint": 393,
           "trajectory": "I_data",
           "value": 37166
          },
          {
           "sample_id": 0,
           "timepoint": 394,
           "trajectory": "I_data",
           "value": 37414
          },
          {
           "sample_id": 0,
           "timepoint": 395,
           "trajectory": "I_data",
           "value": 39116
          },
          {
           "sample_id": 0,
           "timepoint": 396,
           "trajectory": "I_data",
           "value": 38642
          },
          {
           "sample_id": 0,
           "timepoint": 397,
           "trajectory": "I_data",
           "value": 39010
          },
          {
           "sample_id": 0,
           "timepoint": 398,
           "trajectory": "I_data",
           "value": 36268
          },
          {
           "sample_id": 0,
           "timepoint": 399,
           "trajectory": "I_data",
           "value": 33832
          },
          {
           "sample_id": 0,
           "timepoint": 400,
           "trajectory": "I_data",
           "value": 34486
          },
          {
           "sample_id": 0,
           "timepoint": 401,
           "trajectory": "I_data",
           "value": 36320
          },
          {
           "sample_id": 0,
           "timepoint": 402,
           "trajectory": "I_data",
           "value": 38074
          },
          {
           "sample_id": 0,
           "timepoint": 403,
           "trajectory": "I_data",
           "value": 38972
          },
          {
           "sample_id": 0,
           "timepoint": 404,
           "trajectory": "I_data",
           "value": 39268
          },
          {
           "sample_id": 0,
           "timepoint": 405,
           "trajectory": "I_data",
           "value": 36782
          },
          {
           "sample_id": 0,
           "timepoint": 406,
           "trajectory": "I_data",
           "value": 35283
          },
          {
           "sample_id": 0,
           "timepoint": 407,
           "trajectory": "I_data",
           "value": 34714
          },
          {
           "sample_id": 0,
           "timepoint": 408,
           "trajectory": "I_data",
           "value": 35048
          },
          {
           "sample_id": 0,
           "timepoint": 409,
           "trajectory": "I_data",
           "value": 36751
          },
          {
           "sample_id": 0,
           "timepoint": 410,
           "trajectory": "I_data",
           "value": 38003
          },
          {
           "sample_id": 0,
           "timepoint": 411,
           "trajectory": "I_data",
           "value": 36876
          },
          {
           "sample_id": 0,
           "timepoint": 412,
           "trajectory": "I_data",
           "value": 36229
          },
          {
           "sample_id": 0,
           "timepoint": 413,
           "trajectory": "I_data",
           "value": 34159
          },
          {
           "sample_id": 0,
           "timepoint": 414,
           "trajectory": "I_data",
           "value": 33186
          },
          {
           "sample_id": 0,
           "timepoint": 415,
           "trajectory": "I_data",
           "value": 29771
          },
          {
           "sample_id": 0,
           "timepoint": 416,
           "trajectory": "I_data",
           "value": 34585
          },
          {
           "sample_id": 0,
           "timepoint": 417,
           "trajectory": "I_data",
           "value": 34426
          },
          {
           "sample_id": 0,
           "timepoint": 418,
           "trajectory": "I_data",
           "value": 35456
          },
          {
           "sample_id": 0,
           "timepoint": 419,
           "trajectory": "I_data",
           "value": 35001
          },
          {
           "sample_id": 0,
           "timepoint": 420,
           "trajectory": "I_data",
           "value": 37347
          },
          {
           "sample_id": 0,
           "timepoint": 421,
           "trajectory": "I_data",
           "value": 32604
          },
          {
           "sample_id": 0,
           "timepoint": 422,
           "trajectory": "I_data",
           "value": 31023
          },
          {
           "sample_id": 0,
           "timepoint": 423,
           "trajectory": "I_data",
           "value": 30573
          },
          {
           "sample_id": 0,
           "timepoint": 424,
           "trajectory": "I_data",
           "value": 27599
          },
          {
           "sample_id": 0,
           "timepoint": 425,
           "trajectory": "I_data",
           "value": 23807
          },
          {
           "sample_id": 0,
           "timepoint": 426,
           "trajectory": "I_data",
           "value": 21602
          },
          {
           "sample_id": 0,
           "timepoint": 427,
           "trajectory": "I_data",
           "value": 44150
          },
          {
           "sample_id": 0,
           "timepoint": 428,
           "trajectory": "I_data",
           "value": 46028
          },
          {
           "sample_id": 0,
           "timepoint": 429,
           "trajectory": "I_data",
           "value": 50353
          },
          {
           "sample_id": 0,
           "timepoint": 430,
           "trajectory": "I_data",
           "value": 56257
          },
          {
           "sample_id": 0,
           "timepoint": 431,
           "trajectory": "I_data",
           "value": 61853
          },
          {
           "sample_id": 0,
           "timepoint": 432,
           "trajectory": "I_data",
           "value": 42970
          },
          {
           "sample_id": 0,
           "timepoint": 433,
           "trajectory": "I_data",
           "value": 40271
          },
          {
           "sample_id": 0,
           "timepoint": 434,
           "trajectory": "I_data",
           "value": 39993
          },
          {
           "sample_id": 0,
           "timepoint": 435,
           "trajectory": "I_data",
           "value": 40468
          },
          {
           "sample_id": 0,
           "timepoint": 436,
           "trajectory": "I_data",
           "value": 39603
          },
          {
           "sample_id": 0,
           "timepoint": 437,
           "trajectory": "I_data",
           "value": 38592
          },
          {
           "sample_id": 0,
           "timepoint": 438,
           "trajectory": "I_data",
           "value": 40376
          },
          {
           "sample_id": 0,
           "timepoint": 439,
           "trajectory": "I_data",
           "value": 39255
          },
          {
           "sample_id": 0,
           "timepoint": 440,
           "trajectory": "I_data",
           "value": 36129
          },
          {
           "sample_id": 0,
           "timepoint": 441,
           "trajectory": "I_data",
           "value": 34713
          },
          {
           "sample_id": 0,
           "timepoint": 442,
           "trajectory": "I_data",
           "value": 35713
          },
          {
           "sample_id": 0,
           "timepoint": 443,
           "trajectory": "I_data",
           "value": 36737
          },
          {
           "sample_id": 0,
           "timepoint": 444,
           "trajectory": "I_data",
           "value": 37584
          },
          {
           "sample_id": 0,
           "timepoint": 445,
           "trajectory": "I_data",
           "value": 38161
          },
          {
           "sample_id": 0,
           "timepoint": 446,
           "trajectory": "I_data",
           "value": 37169
          },
          {
           "sample_id": 0,
           "timepoint": 447,
           "trajectory": "I_data",
           "value": 33446
          },
          {
           "sample_id": 0,
           "timepoint": 448,
           "trajectory": "I_data",
           "value": 30828
          },
          {
           "sample_id": 0,
           "timepoint": 449,
           "trajectory": "I_data",
           "value": 30361
          },
          {
           "sample_id": 0,
           "timepoint": 450,
           "trajectory": "I_data",
           "value": 30096
          },
          {
           "sample_id": 0,
           "timepoint": 451,
           "trajectory": "I_data",
           "value": 31060
          },
          {
           "sample_id": 0,
           "timepoint": 452,
           "trajectory": "I_data",
           "value": 31686
          },
          {
           "sample_id": 0,
           "timepoint": 453,
           "trajectory": "I_data",
           "value": 30673
          },
          {
           "sample_id": 0,
           "timepoint": 454,
           "trajectory": "I_data",
           "value": 28211
          },
          {
           "sample_id": 0,
           "timepoint": 455,
           "trajectory": "I_data",
           "value": 26142
          },
          {
           "sample_id": 0,
           "timepoint": 456,
           "trajectory": "I_data",
           "value": 24777
          },
          {
           "sample_id": 0,
           "timepoint": 457,
           "trajectory": "I_data",
           "value": 23979
          },
          {
           "sample_id": 0,
           "timepoint": 458,
           "trajectory": "I_data",
           "value": 23085
          },
          {
           "sample_id": 0,
           "timepoint": 459,
           "trajectory": "I_data",
           "value": 22572
          },
          {
           "sample_id": 0,
           "timepoint": 460,
           "trajectory": "I_data",
           "value": 21283
          },
          {
           "sample_id": 0,
           "timepoint": 461,
           "trajectory": "I_data",
           "value": 19364
          },
          {
           "sample_id": 0,
           "timepoint": 462,
           "trajectory": "I_data",
           "value": 17556
          },
          {
           "sample_id": 0,
           "timepoint": 463,
           "trajectory": "I_data",
           "value": 17318
          },
          {
           "sample_id": 0,
           "timepoint": 464,
           "trajectory": "I_data",
           "value": 17063
          },
          {
           "sample_id": 0,
           "timepoint": 465,
           "trajectory": "I_data",
           "value": 17934
          },
          {
           "sample_id": 0,
           "timepoint": 466,
           "trajectory": "I_data",
           "value": 17444
          },
          {
           "sample_id": 0,
           "timepoint": 467,
           "trajectory": "I_data",
           "value": 16823
          },
          {
           "sample_id": 0,
           "timepoint": 468,
           "trajectory": "I_data",
           "value": 15133
          },
          {
           "sample_id": 0,
           "timepoint": 469,
           "trajectory": "I_data",
           "value": 13723
          },
          {
           "sample_id": 0,
           "timepoint": 470,
           "trajectory": "I_data",
           "value": 12504
          },
          {
           "sample_id": 0,
           "timepoint": 471,
           "trajectory": "I_data",
           "value": 12148
          },
          {
           "sample_id": 0,
           "timepoint": 472,
           "trajectory": "I_data",
           "value": 12802
          },
          {
           "sample_id": 0,
           "timepoint": 473,
           "trajectory": "I_data",
           "value": 12968
          },
          {
           "sample_id": 0,
           "timepoint": 474,
           "trajectory": "I_data",
           "value": 12220
          },
          {
           "sample_id": 0,
           "timepoint": 475,
           "trajectory": "I_data",
           "value": 11018
          },
          {
           "sample_id": 0,
           "timepoint": 476,
           "trajectory": "I_data",
           "value": 10567
          },
          {
           "sample_id": 0,
           "timepoint": 477,
           "trajectory": "I_data",
           "value": 9682
          },
          {
           "sample_id": 0,
           "timepoint": 478,
           "trajectory": "I_data",
           "value": 9399
          },
          {
           "sample_id": 0,
           "timepoint": 479,
           "trajectory": "I_data",
           "value": 9545
          },
          {
           "sample_id": 0,
           "timepoint": 480,
           "trajectory": "I_data",
           "value": 9953
          },
          {
           "sample_id": 0,
           "timepoint": 481,
           "trajectory": "I_data",
           "value": 9292
          },
          {
           "sample_id": 0,
           "timepoint": 482,
           "trajectory": "I_data",
           "value": 8630
          },
          {
           "sample_id": 0,
           "timepoint": 483,
           "trajectory": "I_data",
           "value": 7878
          },
          {
           "sample_id": 0,
           "timepoint": 484,
           "trajectory": "I_data",
           "value": 7726
          },
          {
           "sample_id": 0,
           "timepoint": 485,
           "trajectory": "I_data",
           "value": 7441
          },
          {
           "sample_id": 0,
           "timepoint": 486,
           "trajectory": "I_data",
           "value": 7428
          },
          {
           "sample_id": 0,
           "timepoint": 487,
           "trajectory": "I_data",
           "value": 6972
          },
          {
           "sample_id": 0,
           "timepoint": 488,
           "trajectory": "I_data",
           "value": 6593
          },
          {
           "sample_id": 0,
           "timepoint": 489,
           "trajectory": "I_data",
           "value": 5867
          },
          {
           "sample_id": 0,
           "timepoint": 490,
           "trajectory": "I_data",
           "value": 5189
          },
          {
           "sample_id": 0,
           "timepoint": 491,
           "trajectory": "I_data",
           "value": 4996
          },
          {
           "sample_id": 0,
           "timepoint": 492,
           "trajectory": "I_data",
           "value": 4860
          },
          {
           "sample_id": 0,
           "timepoint": 493,
           "trajectory": "I_data",
           "value": 4782
          },
          {
           "sample_id": 0,
           "timepoint": 494,
           "trajectory": "I_data",
           "value": 4684
          },
          {
           "sample_id": 0,
           "timepoint": 495,
           "trajectory": "I_data",
           "value": 4311
          },
          {
           "sample_id": 0,
           "timepoint": 496,
           "trajectory": "I_data",
           "value": 3627
          },
          {
           "sample_id": 0,
           "timepoint": 497,
           "trajectory": "I_data",
           "value": 3091
          },
          {
           "sample_id": 0,
           "timepoint": 498,
           "trajectory": "I_data",
           "value": 2712
          },
          {
           "sample_id": 0,
           "timepoint": 499,
           "trajectory": "I_data",
           "value": 2660
          },
          {
           "sample_id": 0,
           "timepoint": 500,
           "trajectory": "I_data",
           "value": 2975
          },
          {
           "sample_id": 0,
           "timepoint": 501,
           "trajectory": "I_data",
           "value": 3014
          },
          {
           "sample_id": 0,
           "timepoint": 502,
           "trajectory": "I_data",
           "value": 3131
          },
          {
           "sample_id": 0,
           "timepoint": 503,
           "trajectory": "I_data",
           "value": 3092
          },
          {
           "sample_id": 0,
           "timepoint": 504,
           "trajectory": "I_data",
           "value": 2758
          },
          {
           "sample_id": 0,
           "timepoint": 505,
           "trajectory": "I_data",
           "value": 2461
          },
          {
           "sample_id": 0,
           "timepoint": 506,
           "trajectory": "I_data",
           "value": 2639
          },
          {
           "sample_id": 0,
           "timepoint": 507,
           "trajectory": "I_data",
           "value": 2563
          },
          {
           "sample_id": 0,
           "timepoint": 508,
           "trajectory": "I_data",
           "value": 2464
          },
          {
           "sample_id": 0,
           "timepoint": 509,
           "trajectory": "I_data",
           "value": 2391
          },
          {
           "sample_id": 0,
           "timepoint": 510,
           "trajectory": "I_data",
           "value": 2174
          },
          {
           "sample_id": 0,
           "timepoint": 511,
           "trajectory": "I_data",
           "value": 1799
          },
          {
           "sample_id": 0,
           "timepoint": 512,
           "trajectory": "I_data",
           "value": 1792
          },
          {
           "sample_id": 0,
           "timepoint": 513,
           "trajectory": "I_data",
           "value": 1844
          },
          {
           "sample_id": 0,
           "timepoint": 514,
           "trajectory": "I_data",
           "value": 1871
          },
          {
           "sample_id": 0,
           "timepoint": 515,
           "trajectory": "I_data",
           "value": 1840
          },
          {
           "sample_id": 0,
           "timepoint": 516,
           "trajectory": "I_data",
           "value": 1817
          },
          {
           "sample_id": 0,
           "timepoint": 517,
           "trajectory": "I_data",
           "value": 1636
          },
          {
           "sample_id": 0,
           "timepoint": 518,
           "trajectory": "I_data",
           "value": 1481
          },
          {
           "sample_id": 0,
           "timepoint": 519,
           "trajectory": "I_data",
           "value": 1492
          },
          {
           "sample_id": 0,
           "timepoint": 520,
           "trajectory": "I_data",
           "value": 1552
          },
          {
           "sample_id": 0,
           "timepoint": 521,
           "trajectory": "I_data",
           "value": 1617
          },
          {
           "sample_id": 0,
           "timepoint": 522,
           "trajectory": "I_data",
           "value": 1743
          },
          {
           "sample_id": 0,
           "timepoint": 523,
           "trajectory": "I_data",
           "value": 1793
          },
          {
           "sample_id": 0,
           "timepoint": 524,
           "trajectory": "I_data",
           "value": 1646
          },
          {
           "sample_id": 0,
           "timepoint": 525,
           "trajectory": "I_data",
           "value": 1589
          },
          {
           "sample_id": 0,
           "timepoint": 526,
           "trajectory": "I_data",
           "value": 1632
          },
          {
           "sample_id": 0,
           "timepoint": 527,
           "trajectory": "I_data",
           "value": 1761
          },
          {
           "sample_id": 0,
           "timepoint": 528,
           "trajectory": "I_data",
           "value": 1737
          },
          {
           "sample_id": 0,
           "timepoint": 529,
           "trajectory": "I_data",
           "value": 1831
          },
          {
           "sample_id": 0,
           "timepoint": 530,
           "trajectory": "I_data",
           "value": 1904
          },
          {
           "sample_id": 0,
           "timepoint": 531,
           "trajectory": "I_data",
           "value": 1816
          },
          {
           "sample_id": 0,
           "timepoint": 532,
           "trajectory": "I_data",
           "value": 1671
          },
          {
           "sample_id": 0,
           "timepoint": 533,
           "trajectory": "I_data",
           "value": 2053
          },
          {
           "sample_id": 0,
           "timepoint": 534,
           "trajectory": "I_data",
           "value": 2449
          },
          {
           "sample_id": 0,
           "timepoint": 535,
           "trajectory": "I_data",
           "value": 2813
          },
          {
           "sample_id": 0,
           "timepoint": 536,
           "trajectory": "I_data",
           "value": 3304
          },
          {
           "sample_id": 0,
           "timepoint": 537,
           "trajectory": "I_data",
           "value": 3575
          },
          {
           "sample_id": 0,
           "timepoint": 538,
           "trajectory": "I_data",
           "value": 3547
          },
          {
           "sample_id": 0,
           "timepoint": 539,
           "trajectory": "I_data",
           "value": 3541
          },
          {
           "sample_id": 0,
           "timepoint": 540,
           "trajectory": "I_data",
           "value": 3756
          },
          {
           "sample_id": 0,
           "timepoint": 541,
           "trajectory": "I_data",
           "value": 3678
          },
          {
           "sample_id": 0,
           "timepoint": 542,
           "trajectory": "I_data",
           "value": 4414
          },
          {
           "sample_id": 0,
           "timepoint": 543,
           "trajectory": "I_data",
           "value": 4917
          },
          {
           "sample_id": 0,
           "timepoint": 544,
           "trajectory": "I_data",
           "value": 5090
          },
          {
           "sample_id": 0,
           "timepoint": 545,
           "trajectory": "I_data",
           "value": 5256
          },
          {
           "sample_id": 0,
           "timepoint": 546,
           "trajectory": "I_data",
           "value": 5730
          },
          {
           "sample_id": 0,
           "timepoint": 547,
           "trajectory": "I_data",
           "value": 5999
          },
          {
           "sample_id": 0,
           "timepoint": 548,
           "trajectory": "I_data",
           "value": 6586
          },
          {
           "sample_id": 0,
           "timepoint": 549,
           "trajectory": "I_data",
           "value": 7568
          },
          {
           "sample_id": 0,
           "timepoint": 550,
           "trajectory": "I_data",
           "value": 7323
          },
          {
           "sample_id": 0,
           "timepoint": 551,
           "trajectory": "I_data",
           "value": 8742
          },
          {
           "sample_id": 0,
           "timepoint": 552,
           "trajectory": "I_data",
           "value": 8721
          },
          {
           "sample_id": 0,
           "timepoint": 553,
           "trajectory": "I_data",
           "value": 8864
          },
          {
           "sample_id": 0,
           "timepoint": 554,
           "trajectory": "I_data",
           "value": 9581
          },
          {
           "sample_id": 0,
           "timepoint": 555,
           "trajectory": "I_data",
           "value": 11286
          },
          {
           "sample_id": 0,
           "timepoint": 556,
           "trajectory": "I_data",
           "value": 11748
          },
          {
           "sample_id": 0,
           "timepoint": 557,
           "trajectory": "I_data",
           "value": 12707
          },
          {
           "sample_id": 0,
           "timepoint": 558,
           "trajectory": "I_data",
           "value": 13226
          },
          {
           "sample_id": 0,
           "timepoint": 559,
           "trajectory": "I_data",
           "value": 13642
          },
          {
           "sample_id": 0,
           "timepoint": 560,
           "trajectory": "I_data",
           "value": 13990
          },
          {
           "sample_id": 0,
           "timepoint": 561,
           "trajectory": "I_data",
           "value": 14454
          },
          {
           "sample_id": 0,
           "timepoint": 562,
           "trajectory": "I_data",
           "value": 15621
          },
          {
           "sample_id": 0,
           "timepoint": 563,
           "trajectory": "I_data",
           "value": 17715
          },
          {
           "sample_id": 0,
           "timepoint": 564,
           "trajectory": "I_data",
           "value": 18270
          },
          {
           "sample_id": 0,
           "timepoint": 565,
           "trajectory": "I_data",
           "value": 17412
          },
          {
           "sample_id": 0,
           "timepoint": 566,
           "trajectory": "I_data",
           "value": 15849
          },
          {
           "sample_id": 0,
           "timepoint": 567,
           "trajectory": "I_data",
           "value": 18751
          },
          {
           "sample_id": 0,
           "timepoint": 568,
           "trajectory": "I_data",
           "value": 19141
          },
          {
           "sample_id": 0,
           "timepoint": 79,
           "trajectory": "H_data",
           "value": 0
          },
          {
           "sample_id": 0,
           "timepoint": 80,
           "trajectory": "H_data",
           "value": 0
          },
          {
           "sample_id": 0,
           "timepoint": 86,
           "trajectory": "H_data",
           "value": 0
          },
          {
           "sample_id": 0,
           "timepoint": 87,
           "trajectory": "H_data",
           "value": 1
          },
          {
           "sample_id": 0,
           "timepoint": 93,
           "trajectory": "H_data",
           "value": 0
          },
          {
           "sample_id": 0,
           "timepoint": 94,
           "trajectory": "H_data",
           "value": 0
          },
          {
           "sample_id": 0,
           "timepoint": 95,
           "trajectory": "H_data",
           "value": 1
          },
          {
           "sample_id": 0,
           "timepoint": 96,
           "trajectory": "H_data",
           "value": 0
          },
          {
           "sample_id": 0,
           "timepoint": 97,
           "trajectory": "H_data",
           "value": 0
          },
          {
           "sample_id": 0,
           "timepoint": 98,
           "trajectory": "H_data",
           "value": 0
          },
          {
           "sample_id": 0,
           "timepoint": 99,
           "trajectory": "H_data",
           "value": 0
          },
          {
           "sample_id": 0,
           "timepoint": 100,
           "trajectory": "H_data",
           "value": 0
          },
          {
           "sample_id": 0,
           "timepoint": 101,
           "trajectory": "H_data",
           "value": 0
          },
          {
           "sample_id": 0,
           "timepoint": 102,
           "trajectory": "H_data",
           "value": 0
          },
          {
           "sample_id": 0,
           "timepoint": 103,
           "trajectory": "H_data",
           "value": 0
          },
          {
           "sample_id": 0,
           "timepoint": 104,
           "trajectory": "H_data",
           "value": 0
          },
          {
           "sample_id": 0,
           "timepoint": 105,
           "trajectory": "H_data",
           "value": 1
          },
          {
           "sample_id": 0,
           "timepoint": 106,
           "trajectory": "H_data",
           "value": 0
          },
          {
           "sample_id": 0,
           "timepoint": 107,
           "trajectory": "H_data",
           "value": 0
          },
          {
           "sample_id": 0,
           "timepoint": 108,
           "trajectory": "H_data",
           "value": 0
          },
          {
           "sample_id": 0,
           "timepoint": 109,
           "trajectory": "H_data",
           "value": 1
          },
          {
           "sample_id": 0,
           "timepoint": 110,
           "trajectory": "H_data",
           "value": 0
          },
          {
           "sample_id": 0,
           "timepoint": 111,
           "trajectory": "H_data",
           "value": 0
          },
          {
           "sample_id": 0,
           "timepoint": 113,
           "trajectory": "H_data",
           "value": 0
          },
          {
           "sample_id": 0,
           "timepoint": 114,
           "trajectory": "H_data",
           "value": 0
          },
          {
           "sample_id": 0,
           "timepoint": 115,
           "trajectory": "H_data",
           "value": 0
          },
          {
           "sample_id": 0,
           "timepoint": 116,
           "trajectory": "H_data",
           "value": 1
          },
          {
           "sample_id": 0,
           "timepoint": 117,
           "trajectory": "H_data",
           "value": 1
          },
          {
           "sample_id": 0,
           "timepoint": 118,
           "trajectory": "H_data",
           "value": 1
          },
          {
           "sample_id": 0,
           "timepoint": 119,
           "trajectory": "H_data",
           "value": 1
          },
          {
           "sample_id": 0,
           "timepoint": 120,
           "trajectory": "H_data",
           "value": 0
          },
          {
           "sample_id": 0,
           "timepoint": 121,
           "trajectory": "H_data",
           "value": 1
          },
          {
           "sample_id": 0,
           "timepoint": 122,
           "trajectory": "H_data",
           "value": 0
          },
          {
           "sample_id": 0,
           "timepoint": 123,
           "trajectory": "H_data",
           "value": 0
          },
          {
           "sample_id": 0,
           "timepoint": 124,
           "trajectory": "H_data",
           "value": 1
          },
          {
           "sample_id": 0,
           "timepoint": 125,
           "trajectory": "H_data",
           "value": 0
          },
          {
           "sample_id": 0,
           "timepoint": 126,
           "trajectory": "H_data",
           "value": 0
          },
          {
           "sample_id": 0,
           "timepoint": 127,
           "trajectory": "H_data",
           "value": 0
          },
          {
           "sample_id": 0,
           "timepoint": 128,
           "trajectory": "H_data",
           "value": 0
          },
          {
           "sample_id": 0,
           "timepoint": 129,
           "trajectory": "H_data",
           "value": 0
          },
          {
           "sample_id": 0,
           "timepoint": 130,
           "trajectory": "H_data",
           "value": 0
          },
          {
           "sample_id": 0,
           "timepoint": 131,
           "trajectory": "H_data",
           "value": 0
          },
          {
           "sample_id": 0,
           "timepoint": 132,
           "trajectory": "H_data",
           "value": 2
          },
          {
           "sample_id": 0,
           "timepoint": 133,
           "trajectory": "H_data",
           "value": 0
          },
          {
           "sample_id": 0,
           "timepoint": 134,
           "trajectory": "H_data",
           "value": 1
          },
          {
           "sample_id": 0,
           "timepoint": 135,
           "trajectory": "H_data",
           "value": 0
          },
          {
           "sample_id": 0,
           "timepoint": 136,
           "trajectory": "H_data",
           "value": 0
          },
          {
           "sample_id": 0,
           "timepoint": 137,
           "trajectory": "H_data",
           "value": 0
          },
          {
           "sample_id": 0,
           "timepoint": 138,
           "trajectory": "H_data",
           "value": 0
          },
          {
           "sample_id": 0,
           "timepoint": 139,
           "trajectory": "H_data",
           "value": 0
          },
          {
           "sample_id": 0,
           "timepoint": 140,
           "trajectory": "H_data",
           "value": 1
          },
          {
           "sample_id": 0,
           "timepoint": 141,
           "trajectory": "H_data",
           "value": 0
          },
          {
           "sample_id": 0,
           "timepoint": 142,
           "trajectory": "H_data",
           "value": 0
          },
          {
           "sample_id": 0,
           "timepoint": 143,
           "trajectory": "H_data",
           "value": 0
          },
          {
           "sample_id": 0,
           "timepoint": 144,
           "trajectory": "H_data",
           "value": 0
          },
          {
           "sample_id": 0,
           "timepoint": 145,
           "trajectory": "H_data",
           "value": 0
          },
          {
           "sample_id": 0,
           "timepoint": 146,
           "trajectory": "H_data",
           "value": 0
          },
          {
           "sample_id": 0,
           "timepoint": 147,
           "trajectory": "H_data",
           "value": 0
          },
          {
           "sample_id": 0,
           "timepoint": 148,
           "trajectory": "H_data",
           "value": 0
          },
          {
           "sample_id": 0,
           "timepoint": 149,
           "trajectory": "H_data",
           "value": 0
          },
          {
           "sample_id": 0,
           "timepoint": 150,
           "trajectory": "H_data",
           "value": 0
          },
          {
           "sample_id": 0,
           "timepoint": 151,
           "trajectory": "H_data",
           "value": 0
          },
          {
           "sample_id": 0,
           "timepoint": 152,
           "trajectory": "H_data",
           "value": 0
          },
          {
           "sample_id": 0,
           "timepoint": 153,
           "trajectory": "H_data",
           "value": 0
          },
          {
           "sample_id": 0,
           "timepoint": 154,
           "trajectory": "H_data",
           "value": 0
          },
          {
           "sample_id": 0,
           "timepoint": 155,
           "trajectory": "H_data",
           "value": 0
          },
          {
           "sample_id": 0,
           "timepoint": 156,
           "trajectory": "H_data",
           "value": 0
          },
          {
           "sample_id": 0,
           "timepoint": 157,
           "trajectory": "H_data",
           "value": 0
          },
          {
           "sample_id": 0,
           "timepoint": 158,
           "trajectory": "H_data",
           "value": 0
          },
          {
           "sample_id": 0,
           "timepoint": 159,
           "trajectory": "H_data",
           "value": 0
          },
          {
           "sample_id": 0,
           "timepoint": 160,
           "trajectory": "H_data",
           "value": 0
          },
          {
           "sample_id": 0,
           "timepoint": 161,
           "trajectory": "H_data",
           "value": 0
          },
          {
           "sample_id": 0,
           "timepoint": 162,
           "trajectory": "H_data",
           "value": 0
          },
          {
           "sample_id": 0,
           "timepoint": 163,
           "trajectory": "H_data",
           "value": 0
          },
          {
           "sample_id": 0,
           "timepoint": 164,
           "trajectory": "H_data",
           "value": 0
          },
          {
           "sample_id": 0,
           "timepoint": 165,
           "trajectory": "H_data",
           "value": 0
          },
          {
           "sample_id": 0,
           "timepoint": 166,
           "trajectory": "H_data",
           "value": 0
          },
          {
           "sample_id": 0,
           "timepoint": 167,
           "trajectory": "H_data",
           "value": 0
          },
          {
           "sample_id": 0,
           "timepoint": 168,
           "trajectory": "H_data",
           "value": 0
          },
          {
           "sample_id": 0,
           "timepoint": 169,
           "trajectory": "H_data",
           "value": 0
          },
          {
           "sample_id": 0,
           "timepoint": 170,
           "trajectory": "H_data",
           "value": 0
          },
          {
           "sample_id": 0,
           "timepoint": 171,
           "trajectory": "H_data",
           "value": 0
          },
          {
           "sample_id": 0,
           "timepoint": 172,
           "trajectory": "H_data",
           "value": 0
          },
          {
           "sample_id": 0,
           "timepoint": 173,
           "trajectory": "H_data",
           "value": 0
          },
          {
           "sample_id": 0,
           "timepoint": 174,
           "trajectory": "H_data",
           "value": 54
          },
          {
           "sample_id": 0,
           "timepoint": 175,
           "trajectory": "H_data",
           "value": 68
          },
          {
           "sample_id": 0,
           "timepoint": 176,
           "trajectory": "H_data",
           "value": 68
          },
          {
           "sample_id": 0,
           "timepoint": 177,
           "trajectory": "H_data",
           "value": 55
          },
          {
           "sample_id": 0,
           "timepoint": 178,
           "trajectory": "H_data",
           "value": 25
          },
          {
           "sample_id": 0,
           "timepoint": 179,
           "trajectory": "H_data",
           "value": 45
          },
          {
           "sample_id": 0,
           "timepoint": 180,
           "trajectory": "H_data",
           "value": 113
          },
          {
           "sample_id": 0,
           "timepoint": 181,
           "trajectory": "H_data",
           "value": 145
          },
          {
           "sample_id": 0,
           "timepoint": 182,
           "trajectory": "H_data",
           "value": 60
          },
          {
           "sample_id": 0,
           "timepoint": 183,
           "trajectory": "H_data",
           "value": 62
          },
          {
           "sample_id": 0,
           "timepoint": 184,
           "trajectory": "H_data",
           "value": 78
          },
          {
           "sample_id": 0,
           "timepoint": 185,
           "trajectory": "H_data",
           "value": 72
          },
          {
           "sample_id": 0,
           "timepoint": 186,
           "trajectory": "H_data",
           "value": 73
          },
          {
           "sample_id": 0,
           "timepoint": 187,
           "trajectory": "H_data",
           "value": 68
          },
          {
           "sample_id": 0,
           "timepoint": 188,
           "trajectory": "H_data",
           "value": 78
          },
          {
           "sample_id": 0,
           "timepoint": 189,
           "trajectory": "H_data",
           "value": 89
          },
          {
           "sample_id": 0,
           "timepoint": 190,
           "trajectory": "H_data",
           "value": 73
          },
          {
           "sample_id": 0,
           "timepoint": 191,
           "trajectory": "H_data",
           "value": 74
          },
          {
           "sample_id": 0,
           "timepoint": 192,
           "trajectory": "H_data",
           "value": 69
          },
          {
           "sample_id": 0,
           "timepoint": 193,
           "trajectory": "H_data",
           "value": 88
          },
          {
           "sample_id": 0,
           "timepoint": 194,
           "trajectory": "H_data",
           "value": 76
          },
          {
           "sample_id": 0,
           "timepoint": 195,
           "trajectory": "H_data",
           "value": 73
          },
          {
           "sample_id": 0,
           "timepoint": 196,
           "trajectory": "H_data",
           "value": 86
          },
          {
           "sample_id": 0,
           "timepoint": 197,
           "trajectory": "H_data",
           "value": 79
          },
          {
           "sample_id": 0,
           "timepoint": 198,
           "trajectory": "H_data",
           "value": 68
          },
          {
           "sample_id": 0,
           "timepoint": 199,
           "trajectory": "H_data",
           "value": 56
          },
          {
           "sample_id": 0,
           "timepoint": 200,
           "trajectory": "H_data",
           "value": 66
          },
          {
           "sample_id": 0,
           "timepoint": 201,
           "trajectory": "H_data",
           "value": 90
          },
          {
           "sample_id": 0,
           "timepoint": 202,
           "trajectory": "H_data",
           "value": 72
          },
          {
           "sample_id": 0,
           "timepoint": 203,
           "trajectory": "H_data",
           "value": 79
          },
          {
           "sample_id": 0,
           "timepoint": 204,
           "trajectory": "H_data",
           "value": 75
          },
          {
           "sample_id": 0,
           "timepoint": 205,
           "trajectory": "H_data",
           "value": 75
          },
          {
           "sample_id": 0,
           "timepoint": 206,
           "trajectory": "H_data",
           "value": 63
          },
          {
           "sample_id": 0,
           "timepoint": 207,
           "trajectory": "H_data",
           "value": 55
          },
          {
           "sample_id": 0,
           "timepoint": 208,
           "trajectory": "H_data",
           "value": 89
          },
          {
           "sample_id": 0,
           "timepoint": 209,
           "trajectory": "H_data",
           "value": 72
          },
          {
           "sample_id": 0,
           "timepoint": 210,
           "trajectory": "H_data",
           "value": 74
          },
          {
           "sample_id": 0,
           "timepoint": 211,
           "trajectory": "H_data",
           "value": 69
          },
          {
           "sample_id": 0,
           "timepoint": 212,
           "trajectory": "H_data",
           "value": 455
          },
          {
           "sample_id": 0,
           "timepoint": 213,
           "trajectory": "H_data",
           "value": 73
          },
          {
           "sample_id": 0,
           "timepoint": 214,
           "trajectory": "H_data",
           "value": 62
          },
          {
           "sample_id": 0,
           "timepoint": 215,
           "trajectory": "H_data",
           "value": 78
          },
          {
           "sample_id": 0,
           "timepoint": 216,
           "trajectory": "H_data",
           "value": 80
          },
          {
           "sample_id": 0,
           "timepoint": 217,
           "trajectory": "H_data",
           "value": 84
          },
          {
           "sample_id": 0,
           "timepoint": 218,
           "trajectory": "H_data",
           "value": 81
          },
          {
           "sample_id": 0,
           "timepoint": 219,
           "trajectory": "H_data",
           "value": 66
          },
          {
           "sample_id": 0,
           "timepoint": 220,
           "trajectory": "H_data",
           "value": 56
          },
          {
           "sample_id": 0,
           "timepoint": 221,
           "trajectory": "H_data",
           "value": 62
          },
          {
           "sample_id": 0,
           "timepoint": 222,
           "trajectory": "H_data",
           "value": 90
          },
          {
           "sample_id": 0,
           "timepoint": 223,
           "trajectory": "H_data",
           "value": 60
          },
          {
           "sample_id": 0,
           "timepoint": 224,
           "trajectory": "H_data",
           "value": 73
          },
          {
           "sample_id": 0,
           "timepoint": 225,
           "trajectory": "H_data",
           "value": 83
          },
          {
           "sample_id": 0,
           "timepoint": 226,
           "trajectory": "H_data",
           "value": 74
          },
          {
           "sample_id": 0,
           "timepoint": 227,
           "trajectory": "H_data",
           "value": 67
          },
          {
           "sample_id": 0,
           "timepoint": 228,
           "trajectory": "H_data",
           "value": 78
          },
          {
           "sample_id": 0,
           "timepoint": 229,
           "trajectory": "H_data",
           "value": 83
          },
          {
           "sample_id": 0,
           "timepoint": 230,
           "trajectory": "H_data",
           "value": 103
          },
          {
           "sample_id": 0,
           "timepoint": 231,
           "trajectory": "H_data",
           "value": 94
          },
          {
           "sample_id": 0,
           "timepoint": 232,
           "trajectory": "H_data",
           "value": 82
          },
          {
           "sample_id": 0,
           "timepoint": 233,
           "trajectory": "H_data",
           "value": 89
          },
          {
           "sample_id": 0,
           "timepoint": 234,
           "trajectory": "H_data",
           "value": 75
          },
          {
           "sample_id": 0,
           "timepoint": 235,
           "trajectory": "H_data",
           "value": 85
          },
          {
           "sample_id": 0,
           "timepoint": 236,
           "trajectory": "H_data",
           "value": 78
          },
          {
           "sample_id": 0,
           "timepoint": 237,
           "trajectory": "H_data",
           "value": 92
          },
          {
           "sample_id": 0,
           "timepoint": 238,
           "trajectory": "H_data",
           "value": 94
          },
          {
           "sample_id": 0,
           "timepoint": 239,
           "trajectory": "H_data",
           "value": 84
          },
          {
           "sample_id": 0,
           "timepoint": 240,
           "trajectory": "H_data",
           "value": 107
          },
          {
           "sample_id": 0,
           "timepoint": 241,
           "trajectory": "H_data",
           "value": 67
          },
          {
           "sample_id": 0,
           "timepoint": 242,
           "trajectory": "H_data",
           "value": 78
          },
          {
           "sample_id": 0,
           "timepoint": 243,
           "trajectory": "H_data",
           "value": 91
          },
          {
           "sample_id": 0,
           "timepoint": 244,
           "trajectory": "H_data",
           "value": 103
          },
          {
           "sample_id": 0,
           "timepoint": 245,
           "trajectory": "H_data",
           "value": 118
          },
          {
           "sample_id": 0,
           "timepoint": 246,
           "trajectory": "H_data",
           "value": 118
          },
          {
           "sample_id": 0,
           "timepoint": 247,
           "trajectory": "H_data",
           "value": 109
          },
          {
           "sample_id": 0,
           "timepoint": 248,
           "trajectory": "H_data",
           "value": 91
          },
          {
           "sample_id": 0,
           "timepoint": 249,
           "trajectory": "H_data",
           "value": 227
          },
          {
           "sample_id": 0,
           "timepoint": 250,
           "trajectory": "H_data",
           "value": 115
          },
          {
           "sample_id": 0,
           "timepoint": 251,
           "trajectory": "H_data",
           "value": 106
          },
          {
           "sample_id": 0,
           "timepoint": 252,
           "trajectory": "H_data",
           "value": 132
          },
          {
           "sample_id": 0,
           "timepoint": 253,
           "trajectory": "H_data",
           "value": 98
          },
          {
           "sample_id": 0,
           "timepoint": 254,
           "trajectory": "H_data",
           "value": 104
          },
          {
           "sample_id": 0,
           "timepoint": 255,
           "trajectory": "H_data",
           "value": 85
          },
          {
           "sample_id": 0,
           "timepoint": 256,
           "trajectory": "H_data",
           "value": 113
          },
          {
           "sample_id": 0,
           "timepoint": 257,
           "trajectory": "H_data",
           "value": 138
          },
          {
           "sample_id": 0,
           "timepoint": 258,
           "trajectory": "H_data",
           "value": 115
          },
          {
           "sample_id": 0,
           "timepoint": 259,
           "trajectory": "H_data",
           "value": 133
          },
          {
           "sample_id": 0,
           "timepoint": 260,
           "trajectory": "H_data",
           "value": 157
          },
          {
           "sample_id": 0,
           "timepoint": 261,
           "trajectory": "H_data",
           "value": 150
          },
          {
           "sample_id": 0,
           "timepoint": 262,
           "trajectory": "H_data",
           "value": 149
          },
          {
           "sample_id": 0,
           "timepoint": 263,
           "trajectory": "H_data",
           "value": 141
          },
          {
           "sample_id": 0,
           "timepoint": 264,
           "trajectory": "H_data",
           "value": 156
          },
          {
           "sample_id": 0,
           "timepoint": 265,
           "trajectory": "H_data",
           "value": 161
          },
          {
           "sample_id": 0,
           "timepoint": 266,
           "trajectory": "H_data",
           "value": 150
          },
          {
           "sample_id": 0,
           "timepoint": 267,
           "trajectory": "H_data",
           "value": 146
          },
          {
           "sample_id": 0,
           "timepoint": 268,
           "trajectory": "H_data",
           "value": 163
          },
          {
           "sample_id": 0,
           "timepoint": 269,
           "trajectory": "H_data",
           "value": 109
          },
          {
           "sample_id": 0,
           "timepoint": 270,
           "trajectory": "H_data",
           "value": 114
          },
          {
           "sample_id": 0,
           "timepoint": 271,
           "trajectory": "H_data",
           "value": 141
          },
          {
           "sample_id": 0,
           "timepoint": 272,
           "trajectory": "H_data",
           "value": 176
          },
          {
           "sample_id": 0,
           "timepoint": 273,
           "trajectory": "H_data",
           "value": 157
          },
          {
           "sample_id": 0,
           "timepoint": 274,
           "trajectory": "H_data",
           "value": 165
          },
          {
           "sample_id": 0,
           "timepoint": 275,
           "trajectory": "H_data",
           "value": 146
          },
          {
           "sample_id": 0,
           "timepoint": 276,
           "trajectory": "H_data",
           "value": 137
          },
          {
           "sample_id": 0,
           "timepoint": 277,
           "trajectory": "H_data",
           "value": 114
          },
          {
           "sample_id": 0,
           "timepoint": 278,
           "trajectory": "H_data",
           "value": 157
          },
          {
           "sample_id": 0,
           "timepoint": 279,
           "trajectory": "H_data",
           "value": 167
          },
          {
           "sample_id": 0,
           "timepoint": 280,
           "trajectory": "H_data",
           "value": 151
          },
          {
           "sample_id": 0,
           "timepoint": 281,
           "trajectory": "H_data",
           "value": 163
          },
          {
           "sample_id": 0,
           "timepoint": 282,
           "trajectory": "H_data",
           "value": 140
          },
          {
           "sample_id": 0,
           "timepoint": 283,
           "trajectory": "H_data",
           "value": 126
          },
          {
           "sample_id": 0,
           "timepoint": 284,
           "trajectory": "H_data",
           "value": 144
          },
          {
           "sample_id": 0,
           "timepoint": 285,
           "trajectory": "H_data",
           "value": 201
          },
          {
           "sample_id": 0,
           "timepoint": 286,
           "trajectory": "H_data",
           "value": 260
          },
          {
           "sample_id": 0,
           "timepoint": 287,
           "trajectory": "H_data",
           "value": 288
          },
          {
           "sample_id": 0,
           "timepoint": 288,
           "trajectory": "H_data",
           "value": 315
          },
          {
           "sample_id": 0,
           "timepoint": 289,
           "trajectory": "H_data",
           "value": 298
          },
          {
           "sample_id": 0,
           "timepoint": 290,
           "trajectory": "H_data",
           "value": 293
          },
          {
           "sample_id": 0,
           "timepoint": 291,
           "trajectory": "H_data",
           "value": 206
          },
          {
           "sample_id": 0,
           "timepoint": 292,
           "trajectory": "H_data",
           "value": 363
          },
          {
           "sample_id": 0,
           "timepoint": 293,
           "trajectory": "H_data",
           "value": 425
          },
          {
           "sample_id": 0,
           "timepoint": 294,
           "trajectory": "H_data",
           "value": 452
          },
          {
           "sample_id": 0,
           "timepoint": 295,
           "trajectory": "H_data",
           "value": 450
          },
          {
           "sample_id": 0,
           "timepoint": 296,
           "trajectory": "H_data",
           "value": 403
          },
          {
           "sample_id": 0,
           "timepoint": 297,
           "trajectory": "H_data",
           "value": 386
          },
          {
           "sample_id": 0,
           "timepoint": 298,
           "trajectory": "H_data",
           "value": 316
          },
          {
           "sample_id": 0,
           "timepoint": 299,
           "trajectory": "H_data",
           "value": 380
          },
          {
           "sample_id": 0,
           "timepoint": 300,
           "trajectory": "H_data",
           "value": 452
          },
          {
           "sample_id": 0,
           "timepoint": 301,
           "trajectory": "H_data",
           "value": 471
          },
          {
           "sample_id": 0,
           "timepoint": 302,
           "trajectory": "H_data",
           "value": 500
          },
          {
           "sample_id": 0,
           "timepoint": 303,
           "trajectory": "H_data",
           "value": 534
          },
          {
           "sample_id": 0,
           "timepoint": 304,
           "trajectory": "H_data",
           "value": 462
          },
          {
           "sample_id": 0,
           "timepoint": 305,
           "trajectory": "H_data",
           "value": 476
          },
          {
           "sample_id": 0,
           "timepoint": 306,
           "trajectory": "H_data",
           "value": 580
          },
          {
           "sample_id": 0,
           "timepoint": 307,
           "trajectory": "H_data",
           "value": 578
          },
          {
           "sample_id": 0,
           "timepoint": 308,
           "trajectory": "H_data",
           "value": 567
          },
          {
           "sample_id": 0,
           "timepoint": 309,
           "trajectory": "H_data",
           "value": 540
          },
          {
           "sample_id": 0,
           "timepoint": 310,
           "trajectory": "H_data",
           "value": 625
          },
          {
           "sample_id": 0,
           "timepoint": 311,
           "trajectory": "H_data",
           "value": 569
          },
          {
           "sample_id": 0,
           "timepoint": 312,
           "trajectory": "H_data",
           "value": 521
          },
          {
           "sample_id": 0,
           "timepoint": 313,
           "trajectory": "H_data",
           "value": 609
          },
          {
           "sample_id": 0,
           "timepoint": 314,
           "trajectory": "H_data",
           "value": 734
          },
          {
           "sample_id": 0,
           "timepoint": 315,
           "trajectory": "H_data",
           "value": 677
          },
          {
           "sample_id": 0,
           "timepoint": 316,
           "trajectory": "H_data",
           "value": 751
          },
          {
           "sample_id": 0,
           "timepoint": 317,
           "trajectory": "H_data",
           "value": 747
          },
          {
           "sample_id": 0,
           "timepoint": 318,
           "trajectory": "H_data",
           "value": 678
          },
          {
           "sample_id": 0,
           "timepoint": 319,
           "trajectory": "H_data",
           "value": 607
          },
          {
           "sample_id": 0,
           "timepoint": 320,
           "trajectory": "H_data",
           "value": 759
          },
          {
           "sample_id": 0,
           "timepoint": 321,
           "trajectory": "H_data",
           "value": 888
          },
          {
           "sample_id": 0,
           "timepoint": 322,
           "trajectory": "H_data",
           "value": 891
          },
          {
           "sample_id": 0,
           "timepoint": 323,
           "trajectory": "H_data",
           "value": 865
          },
          {
           "sample_id": 0,
           "timepoint": 324,
           "trajectory": "H_data",
           "value": 896
          },
          {
           "sample_id": 0,
           "timepoint": 325,
           "trajectory": "H_data",
           "value": 796
          },
          {
           "sample_id": 0,
           "timepoint": 326,
           "trajectory": "H_data",
           "value": 766
          },
          {
           "sample_id": 0,
           "timepoint": 327,
           "trajectory": "H_data",
           "value": 876
          },
          {
           "sample_id": 0,
           "timepoint": 328,
           "trajectory": "H_data",
           "value": 940
          },
          {
           "sample_id": 0,
           "timepoint": 329,
           "trajectory": "H_data",
           "value": 830
          },
          {
           "sample_id": 0,
           "timepoint": 330,
           "trajectory": "H_data",
           "value": 885
          },
          {
           "sample_id": 0,
           "timepoint": 331,
           "trajectory": "H_data",
           "value": 1001
          },
          {
           "sample_id": 0,
           "timepoint": 332,
           "trajectory": "H_data",
           "value": 857
          },
          {
           "sample_id": 0,
           "timepoint": 333,
           "trajectory": "H_data",
           "value": 821
          },
          {
           "sample_id": 0,
           "timepoint": 334,
           "trajectory": "H_data",
           "value": 1053
          },
          {
           "sample_id": 0,
           "timepoint": 335,
           "trajectory": "H_data",
           "value": 1056
          },
          {
           "sample_id": 0,
           "timepoint": 336,
           "trajectory": "H_data",
           "value": 1000
          },
          {
           "sample_id": 0,
           "timepoint": 337,
           "trajectory": "H_data",
           "value": 1007
          },
          {
           "sample_id": 0,
           "timepoint": 338,
           "trajectory": "H_data",
           "value": 941
          },
          {
           "sample_id": 0,
           "timepoint": 339,
           "trajectory": "H_data",
           "value": 1011
          },
          {
           "sample_id": 0,
           "timepoint": 340,
           "trajectory": "H_data",
           "value": 863
          },
          {
           "sample_id": 0,
           "timepoint": 341,
           "trajectory": "H_data",
           "value": 1083
          },
          {
           "sample_id": 0,
           "timepoint": 342,
           "trajectory": "H_data",
           "value": 1133
          },
          {
           "sample_id": 0,
           "timepoint": 343,
           "trajectory": "H_data",
           "value": 1100
          },
          {
           "sample_id": 0,
           "timepoint": 344,
           "trajectory": "H_data",
           "value": 993
          },
          {
           "sample_id": 0,
           "timepoint": 345,
           "trajectory": "H_data",
           "value": 998
          },
          {
           "sample_id": 0,
           "timepoint": 346,
           "trajectory": "H_data",
           "value": 1041
          },
          {
           "sample_id": 0,
           "timepoint": 347,
           "trajectory": "H_data",
           "value": 930
          },
          {
           "sample_id": 0,
           "timepoint": 348,
           "trajectory": "H_data",
           "value": 1192
          },
          {
           "sample_id": 0,
           "timepoint": 349,
           "trajectory": "H_data",
           "value": 1174
          },
          {
           "sample_id": 0,
           "timepoint": 350,
           "trajectory": "H_data",
           "value": 1185
          },
          {
           "sample_id": 0,
           "timepoint": 351,
           "trajectory": "H_data",
           "value": 1168
          },
          {
           "sample_id": 0,
           "timepoint": 352,
           "trajectory": "H_data",
           "value": 1135
          },
          {
           "sample_id": 0,
           "timepoint": 353,
           "trajectory": "H_data",
           "value": 1026
          },
          {
           "sample_id": 0,
           "timepoint": 354,
           "trajectory": "H_data",
           "value": 950
          },
          {
           "sample_id": 0,
           "timepoint": 355,
           "trajectory": "H_data",
           "value": 1081
          },
          {
           "sample_id": 0,
           "timepoint": 356,
           "trajectory": "H_data",
           "value": 1176
          },
          {
           "sample_id": 0,
           "timepoint": 357,
           "trajectory": "H_data",
           "value": 1175
          },
          {
           "sample_id": 0,
           "timepoint": 358,
           "trajectory": "H_data",
           "value": 1190
          },
          {
           "sample_id": 0,
           "timepoint": 359,
           "trajectory": "H_data",
           "value": 1116
          },
          {
           "sample_id": 0,
           "timepoint": 360,
           "trajectory": "H_data",
           "value": 1010
          },
          {
           "sample_id": 0,
           "timepoint": 361,
           "trajectory": "H_data",
           "value": 858
          },
          {
           "sample_id": 0,
           "timepoint": 362,
           "trajectory": "H_data",
           "value": 1056
          },
          {
           "sample_id": 0,
           "timepoint": 363,
           "trajectory": "H_data",
           "value": 945
          },
          {
           "sample_id": 0,
           "timepoint": 364,
           "trajectory": "H_data",
           "value": 984
          },
          {
           "sample_id": 0,
           "timepoint": 365,
           "trajectory": "H_data",
           "value": 1004
          },
          {
           "sample_id": 0,
           "timepoint": 366,
           "trajectory": "H_data",
           "value": 982
          },
          {
           "sample_id": 0,
           "timepoint": 367,
           "trajectory": "H_data",
           "value": 800
          },
          {
           "sample_id": 0,
           "timepoint": 368,
           "trajectory": "H_data",
           "value": 778
          },
          {
           "sample_id": 0,
           "timepoint": 369,
           "trajectory": "H_data",
           "value": 970
          },
          {
           "sample_id": 0,
           "timepoint": 370,
           "trajectory": "H_data",
           "value": 893
          },
          {
           "sample_id": 0,
           "timepoint": 371,
           "trajectory": "H_data",
           "value": 961
          },
          {
           "sample_id": 0,
           "timepoint": 372,
           "trajectory": "H_data",
           "value": 829
          },
          {
           "sample_id": 0,
           "timepoint": 373,
           "trajectory": "H_data",
           "value": 863
          },
          {
           "sample_id": 0,
           "timepoint": 374,
           "trajectory": "H_data",
           "value": 693
          },
          {
           "sample_id": 0,
           "timepoint": 375,
           "trajectory": "H_data",
           "value": 699
          },
          {
           "sample_id": 0,
           "timepoint": 376,
           "trajectory": "H_data",
           "value": 653
          },
          {
           "sample_id": 0,
           "timepoint": 377,
           "trajectory": "H_data",
           "value": 873
          },
          {
           "sample_id": 0,
           "timepoint": 378,
           "trajectory": "H_data",
           "value": 962
          },
          {
           "sample_id": 0,
           "timepoint": 379,
           "trajectory": "H_data",
           "value": 895
          },
          {
           "sample_id": 0,
           "timepoint": 380,
           "trajectory": "H_data",
           "value": 817
          },
          {
           "sample_id": 0,
           "timepoint": 381,
           "trajectory": "H_data",
           "value": 724
          },
          {
           "sample_id": 0,
           "timepoint": 382,
           "trajectory": "H_data",
           "value": 664
          },
          {
           "sample_id": 0,
           "timepoint": 383,
           "trajectory": "H_data",
           "value": 781
          },
          {
           "sample_id": 0,
           "timepoint": 384,
           "trajectory": "H_data",
           "value": 805
          },
          {
           "sample_id": 0,
           "timepoint": 385,
           "trajectory": "H_data",
           "value": 703
          },
          {
           "sample_id": 0,
           "timepoint": 386,
           "trajectory": "H_data",
           "value": 695
          },
          {
           "sample_id": 0,
           "timepoint": 387,
           "trajectory": "H_data",
           "value": 666
          },
          {
           "sample_id": 0,
           "timepoint": 388,
           "trajectory": "H_data",
           "value": 576
          },
          {
           "sample_id": 0,
           "timepoint": 389,
           "trajectory": "H_data",
           "value": 557
          },
          {
           "sample_id": 0,
           "timepoint": 390,
           "trajectory": "H_data",
           "value": 635
          },
          {
           "sample_id": 0,
           "timepoint": 391,
           "trajectory": "H_data",
           "value": 679
          },
          {
           "sample_id": 0,
           "timepoint": 392,
           "trajectory": "H_data",
           "value": 613
          },
          {
           "sample_id": 0,
           "timepoint": 393,
           "trajectory": "H_data",
           "value": 556
          },
          {
           "sample_id": 0,
           "timepoint": 394,
           "trajectory": "H_data",
           "value": 582
          },
          {
           "sample_id": 0,
           "timepoint": 395,
           "trajectory": "H_data",
           "value": 530
          },
          {
           "sample_id": 0,
           "timepoint": 396,
           "trajectory": "H_data",
           "value": 576
          },
          {
           "sample_id": 0,
           "timepoint": 397,
           "trajectory": "H_data",
           "value": 611
          },
          {
           "sample_id": 0,
           "timepoint": 398,
           "trajectory": "H_data",
           "value": 639
          },
          {
           "sample_id": 0,
           "timepoint": 399,
           "trajectory": "H_data",
           "value": 678
          },
          {
           "sample_id": 0,
           "timepoint": 400,
           "trajectory": "H_data",
           "value": 596
          },
          {
           "sample_id": 0,
           "timepoint": 401,
           "trajectory": "H_data",
           "value": 598
          },
          {
           "sample_id": 0,
           "timepoint": 402,
           "trajectory": "H_data",
           "value": 536
          },
          {
           "sample_id": 0,
           "timepoint": 403,
           "trajectory": "H_data",
           "value": 480
          },
          {
           "sample_id": 0,
           "timepoint": 404,
           "trajectory": "H_data",
           "value": 620
          },
          {
           "sample_id": 0,
           "timepoint": 405,
           "trajectory": "H_data",
           "value": 587
          },
          {
           "sample_id": 0,
           "timepoint": 406,
           "trajectory": "H_data",
           "value": 571
          },
          {
           "sample_id": 0,
           "timepoint": 407,
           "trajectory": "H_data",
           "value": 553
          },
          {
           "sample_id": 0,
           "timepoint": 408,
           "trajectory": "H_data",
           "value": 518
          },
          {
           "sample_id": 0,
           "timepoint": 409,
           "trajectory": "H_data",
           "value": 476
          },
          {
           "sample_id": 0,
           "timepoint": 410,
           "trajectory": "H_data",
           "value": 479
          },
          {
           "sample_id": 0,
           "timepoint": 411,
           "trajectory": "H_data",
           "value": 531
          },
          {
           "sample_id": 0,
           "timepoint": 412,
           "trajectory": "H_data",
           "value": 584
          },
          {
           "sample_id": 0,
           "timepoint": 413,
           "trajectory": "H_data",
           "value": 554
          },
          {
           "sample_id": 0,
           "timepoint": 414,
           "trajectory": "H_data",
           "value": 596
          },
          {
           "sample_id": 0,
           "timepoint": 415,
           "trajectory": "H_data",
           "value": 523
          },
          {
           "sample_id": 0,
           "timepoint": 416,
           "trajectory": "H_data",
           "value": 453
          },
          {
           "sample_id": 0,
           "timepoint": 417,
           "trajectory": "H_data",
           "value": 504
          },
          {
           "sample_id": 0,
           "timepoint": 418,
           "trajectory": "H_data",
           "value": 536
          },
          {
           "sample_id": 0,
           "timepoint": 419,
           "trajectory": "H_data",
           "value": 555
          },
          {
           "sample_id": 0,
           "timepoint": 420,
           "trajectory": "H_data",
           "value": 606
          },
          {
           "sample_id": 0,
           "timepoint": 421,
           "trajectory": "H_data",
           "value": 571
          },
          {
           "sample_id": 0,
           "timepoint": 422,
           "trajectory": "H_data",
           "value": 531
          },
          {
           "sample_id": 0,
           "timepoint": 423,
           "trajectory": "H_data",
           "value": 493
          },
          {
           "sample_id": 0,
           "timepoint": 424,
           "trajectory": "H_data",
           "value": 534
          },
          {
           "sample_id": 0,
           "timepoint": 425,
           "trajectory": "H_data",
           "value": 584
          },
          {
           "sample_id": 0,
           "timepoint": 426,
           "trajectory": "H_data",
           "value": 570
          },
          {
           "sample_id": 0,
           "timepoint": 427,
           "trajectory": "H_data",
           "value": 612
          },
          {
           "sample_id": 0,
           "timepoint": 428,
           "trajectory": "H_data",
           "value": 595
          },
          {
           "sample_id": 0,
           "timepoint": 429,
           "trajectory": "H_data",
           "value": 624
          },
          {
           "sample_id": 0,
           "timepoint": 430,
           "trajectory": "H_data",
           "value": 505
          },
          {
           "sample_id": 0,
           "timepoint": 431,
           "trajectory": "H_data",
           "value": 489
          },
          {
           "sample_id": 0,
           "timepoint": 432,
           "trajectory": "H_data",
           "value": 580
          },
          {
           "sample_id": 0,
           "timepoint": 433,
           "trajectory": "H_data",
           "value": 584
          },
          {
           "sample_id": 0,
           "timepoint": 434,
           "trajectory": "H_data",
           "value": 559
          },
          {
           "sample_id": 0,
           "timepoint": 435,
           "trajectory": "H_data",
           "value": 555
          },
          {
           "sample_id": 0,
           "timepoint": 436,
           "trajectory": "H_data",
           "value": 497
          },
          {
           "sample_id": 0,
           "timepoint": 437,
           "trajectory": "H_data",
           "value": 498
          },
          {
           "sample_id": 0,
           "timepoint": 438,
           "trajectory": "H_data",
           "value": 493
          },
          {
           "sample_id": 0,
           "timepoint": 439,
           "trajectory": "H_data",
           "value": 579
          },
          {
           "sample_id": 0,
           "timepoint": 440,
           "trajectory": "H_data",
           "value": 556
          },
          {
           "sample_id": 0,
           "timepoint": 441,
           "trajectory": "H_data",
           "value": 520
          },
          {
           "sample_id": 0,
           "timepoint": 442,
           "trajectory": "H_data",
           "value": 494
          },
          {
           "sample_id": 0,
           "timepoint": 443,
           "trajectory": "H_data",
           "value": 486
          },
          {
           "sample_id": 0,
           "timepoint": 444,
           "trajectory": "H_data",
           "value": 445
          },
          {
           "sample_id": 0,
           "timepoint": 445,
           "trajectory": "H_data",
           "value": 415
          },
          {
           "sample_id": 0,
           "timepoint": 446,
           "trajectory": "H_data",
           "value": 482
          },
          {
           "sample_id": 0,
           "timepoint": 447,
           "trajectory": "H_data",
           "value": 456
          },
          {
           "sample_id": 0,
           "timepoint": 448,
           "trajectory": "H_data",
           "value": 493
          },
          {
           "sample_id": 0,
           "timepoint": 449,
           "trajectory": "H_data",
           "value": 516
          },
          {
           "sample_id": 0,
           "timepoint": 450,
           "trajectory": "H_data",
           "value": 485
          },
          {
           "sample_id": 0,
           "timepoint": 451,
           "trajectory": "H_data",
           "value": 421
          },
          {
           "sample_id": 0,
           "timepoint": 452,
           "trajectory": "H_data",
           "value": 381
          },
          {
           "sample_id": 0,
           "timepoint": 453,
           "trajectory": "H_data",
           "value": 473
          },
          {
           "sample_id": 0,
           "timepoint": 454,
           "trajectory": "H_data",
           "value": 393
          },
          {
           "sample_id": 0,
           "timepoint": 455,
           "trajectory": "H_data",
           "value": 375
          },
          {
           "sample_id": 0,
           "timepoint": 456,
           "trajectory": "H_data",
           "value": 404
          },
          {
           "sample_id": 0,
           "timepoint": 457,
           "trajectory": "H_data",
           "value": 404
          },
          {
           "sample_id": 0,
           "timepoint": 458,
           "trajectory": "H_data",
           "value": 325
          },
          {
           "sample_id": 0,
           "timepoint": 459,
           "trajectory": "H_data",
           "value": 280
          },
          {
           "sample_id": 0,
           "timepoint": 460,
           "trajectory": "H_data",
           "value": 374
          },
          {
           "sample_id": 0,
           "timepoint": 461,
           "trajectory": "H_data",
           "value": 310
          },
          {
           "sample_id": 0,
           "timepoint": 462,
           "trajectory": "H_data",
           "value": 350
          },
          {
           "sample_id": 0,
           "timepoint": 463,
           "trajectory": "H_data",
           "value": 303
          },
          {
           "sample_id": 0,
           "timepoint": 464,
           "trajectory": "H_data",
           "value": 273
          },
          {
           "sample_id": 0,
           "timepoint": 465,
           "trajectory": "H_data",
           "value": 232
          },
          {
           "sample_id": 0,
           "timepoint": 466,
           "trajectory": "H_data",
           "value": 261
          },
          {
           "sample_id": 0,
           "timepoint": 467,
           "trajectory": "H_data",
           "value": 296
          },
          {
           "sample_id": 0,
           "timepoint": 468,
           "trajectory": "H_data",
           "value": 293
          },
          {
           "sample_id": 0,
           "timepoint": 469,
           "trajectory": "H_data",
           "value": 264
          },
          {
           "sample_id": 0,
           "timepoint": 470,
           "trajectory": "H_data",
           "value": 250
          },
          {
           "sample_id": 0,
           "timepoint": 471,
           "trajectory": "H_data",
           "value": 215
          },
          {
           "sample_id": 0,
           "timepoint": 472,
           "trajectory": "H_data",
           "value": 211
          },
          {
           "sample_id": 0,
           "timepoint": 473,
           "trajectory": "H_data",
           "value": 194
          },
          {
           "sample_id": 0,
           "timepoint": 474,
           "trajectory": "H_data",
           "value": 215
          },
          {
           "sample_id": 0,
           "timepoint": 475,
           "trajectory": "H_data",
           "value": 224
          },
          {
           "sample_id": 0,
           "timepoint": 476,
           "trajectory": "H_data",
           "value": 214
          },
          {
           "sample_id": 0,
           "timepoint": 477,
           "trajectory": "H_data",
           "value": 186
          },
          {
           "sample_id": 0,
           "timepoint": 478,
           "trajectory": "H_data",
           "value": 208
          },
          {
           "sample_id": 0,
           "timepoint": 479,
           "trajectory": "H_data",
           "value": 160
          },
          {
           "sample_id": 0,
           "timepoint": 480,
           "trajectory": "H_data",
           "value": 156
          },
          {
           "sample_id": 0,
           "timepoint": 481,
           "trajectory": "H_data",
           "value": 204
          },
          {
           "sample_id": 0,
           "timepoint": 482,
           "trajectory": "H_data",
           "value": 200
          },
          {
           "sample_id": 0,
           "timepoint": 483,
           "trajectory": "H_data",
           "value": 175
          },
          {
           "sample_id": 0,
           "timepoint": 484,
           "trajectory": "H_data",
           "value": 168
          },
          {
           "sample_id": 0,
           "timepoint": 485,
           "trajectory": "H_data",
           "value": 161
          },
          {
           "sample_id": 0,
           "timepoint": 486,
           "trajectory": "H_data",
           "value": 135
          },
          {
           "sample_id": 0,
           "timepoint": 487,
           "trajectory": "H_data",
           "value": 143
          },
          {
           "sample_id": 0,
           "timepoint": 488,
           "trajectory": "H_data",
           "value": 146
          },
          {
           "sample_id": 0,
           "timepoint": 489,
           "trajectory": "H_data",
           "value": 145
          },
          {
           "sample_id": 0,
           "timepoint": 490,
           "trajectory": "H_data",
           "value": 156
          },
          {
           "sample_id": 0,
           "timepoint": 491,
           "trajectory": "H_data",
           "value": 137
          },
          {
           "sample_id": 0,
           "timepoint": 492,
           "trajectory": "H_data",
           "value": 134
          },
          {
           "sample_id": 0,
           "timepoint": 493,
           "trajectory": "H_data",
           "value": 90
          },
          {
           "sample_id": 0,
           "timepoint": 494,
           "trajectory": "H_data",
           "value": 108
          },
          {
           "sample_id": 0,
           "timepoint": 495,
           "trajectory": "H_data",
           "value": 91
          },
          {
           "sample_id": 0,
           "timepoint": 496,
           "trajectory": "H_data",
           "value": 113
          },
          {
           "sample_id": 0,
           "timepoint": 497,
           "trajectory": "H_data",
           "value": 106
          },
          {
           "sample_id": 0,
           "timepoint": 498,
           "trajectory": "H_data",
           "value": 121
          },
          {
           "sample_id": 0,
           "timepoint": 499,
           "trajectory": "H_data",
           "value": 90
          },
          {
           "sample_id": 0,
           "timepoint": 500,
           "trajectory": "H_data",
           "value": 70
          },
          {
           "sample_id": 0,
           "timepoint": 501,
           "trajectory": "H_data",
           "value": 79
          },
          {
           "sample_id": 0,
           "timepoint": 502,
           "trajectory": "H_data",
           "value": 94
          },
          {
           "sample_id": 0,
           "timepoint": 503,
           "trajectory": "H_data",
           "value": 112
          },
          {
           "sample_id": 0,
           "timepoint": 504,
           "trajectory": "H_data",
           "value": 80
          },
          {
           "sample_id": 0,
           "timepoint": 505,
           "trajectory": "H_data",
           "value": 95
          },
          {
           "sample_id": 0,
           "timepoint": 506,
           "trajectory": "H_data",
           "value": 79
          },
          {
           "sample_id": 0,
           "timepoint": 507,
           "trajectory": "H_data",
           "value": 49
          },
          {
           "sample_id": 0,
           "timepoint": 508,
           "trajectory": "H_data",
           "value": 86
          },
          {
           "sample_id": 0,
           "timepoint": 509,
           "trajectory": "H_data",
           "value": 78
          },
          {
           "sample_id": 0,
           "timepoint": 510,
           "trajectory": "H_data",
           "value": 67
          },
          {
           "sample_id": 0,
           "timepoint": 511,
           "trajectory": "H_data",
           "value": 65
          },
          {
           "sample_id": 0,
           "timepoint": 512,
           "trajectory": "H_data",
           "value": 72
          },
          {
           "sample_id": 0,
           "timepoint": 513,
           "trajectory": "H_data",
           "value": 49
          },
          {
           "sample_id": 0,
           "timepoint": 514,
           "trajectory": "H_data",
           "value": 54
          },
          {
           "sample_id": 0,
           "timepoint": 515,
           "trajectory": "H_data",
           "value": 66
          },
          {
           "sample_id": 0,
           "timepoint": 516,
           "trajectory": "H_data",
           "value": 68
          },
          {
           "sample_id": 0,
           "timepoint": 517,
           "trajectory": "H_data",
           "value": 61
          },
          {
           "sample_id": 0,
           "timepoint": 518,
           "trajectory": "H_data",
           "value": 70
          },
          {
           "sample_id": 0,
           "timepoint": 519,
           "trajectory": "H_data",
           "value": 55
          },
          {
           "sample_id": 0,
           "timepoint": 520,
           "trajectory": "H_data",
           "value": 43
          },
          {
           "sample_id": 0,
           "timepoint": 521,
           "trajectory": "H_data",
           "value": 53
          },
          {
           "sample_id": 0,
           "timepoint": 522,
           "trajectory": "H_data",
           "value": 50
          },
          {
           "sample_id": 0,
           "timepoint": 523,
           "trajectory": "H_data",
           "value": 60
          },
          {
           "sample_id": 0,
           "timepoint": 524,
           "trajectory": "H_data",
           "value": 58
          },
          {
           "sample_id": 0,
           "timepoint": 525,
           "trajectory": "H_data",
           "value": 51
          },
          {
           "sample_id": 0,
           "timepoint": 526,
           "trajectory": "H_data",
           "value": 55
          },
          {
           "sample_id": 0,
           "timepoint": 527,
           "trajectory": "H_data",
           "value": 58
          },
          {
           "sample_id": 0,
           "timepoint": 528,
           "trajectory": "H_data",
           "value": 46
          },
          {
           "sample_id": 0,
           "timepoint": 529,
           "trajectory": "H_data",
           "value": 57
          },
          {
           "sample_id": 0,
           "timepoint": 530,
           "trajectory": "H_data",
           "value": 61
          },
          {
           "sample_id": 0,
           "timepoint": 531,
           "trajectory": "H_data",
           "value": 66
          },
          {
           "sample_id": 0,
           "timepoint": 532,
           "trajectory": "H_data",
           "value": 49
          },
          {
           "sample_id": 0,
           "timepoint": 533,
           "trajectory": "H_data",
           "value": 51
          },
          {
           "sample_id": 0,
           "timepoint": 534,
           "trajectory": "H_data",
           "value": 52
          },
          {
           "sample_id": 0,
           "timepoint": 535,
           "trajectory": "H_data",
           "value": 48
          },
          {
           "sample_id": 0,
           "timepoint": 536,
           "trajectory": "H_data",
           "value": 57
          },
          {
           "sample_id": 0,
           "timepoint": 537,
           "trajectory": "H_data",
           "value": 54
          },
          {
           "sample_id": 0,
           "timepoint": 538,
           "trajectory": "H_data",
           "value": 58
          },
          {
           "sample_id": 0,
           "timepoint": 539,
           "trajectory": "H_data",
           "value": 88
          },
          {
           "sample_id": 0,
           "timepoint": 540,
           "trajectory": "H_data",
           "value": 76
          },
          {
           "sample_id": 0,
           "timepoint": 541,
           "trajectory": "H_data",
           "value": 64
          },
          {
           "sample_id": 0,
           "timepoint": 542,
           "trajectory": "H_data",
           "value": 71
          },
          {
           "sample_id": 0,
           "timepoint": 543,
           "trajectory": "H_data",
           "value": 71
          },
          {
           "sample_id": 0,
           "timepoint": 544,
           "trajectory": "H_data",
           "value": 93
          },
          {
           "sample_id": 0,
           "timepoint": 545,
           "trajectory": "H_data",
           "value": 99
          },
          {
           "sample_id": 0,
           "timepoint": 546,
           "trajectory": "H_data",
           "value": 113
          },
          {
           "sample_id": 0,
           "timepoint": 547,
           "trajectory": "H_data",
           "value": 77
          },
          {
           "sample_id": 0,
           "timepoint": 548,
           "trajectory": "H_data",
           "value": 98
          },
          {
           "sample_id": 0,
           "timepoint": 549,
           "trajectory": "H_data",
           "value": 85
          },
          {
           "sample_id": 0,
           "timepoint": 550,
           "trajectory": "H_data",
           "value": 95
          },
          {
           "sample_id": 0,
           "timepoint": 551,
           "trajectory": "H_data",
           "value": 108
          },
          {
           "sample_id": 0,
           "timepoint": 552,
           "trajectory": "H_data",
           "value": 121
          },
          {
           "sample_id": 0,
           "timepoint": 553,
           "trajectory": "H_data",
           "value": 134
          },
          {
           "sample_id": 0,
           "timepoint": 554,
           "trajectory": "H_data",
           "value": 132
          },
          {
           "sample_id": 0,
           "timepoint": 555,
           "trajectory": "H_data",
           "value": 136
          },
          {
           "sample_id": 0,
           "timepoint": 556,
           "trajectory": "H_data",
           "value": 123
          },
          {
           "sample_id": 0,
           "timepoint": 557,
           "trajectory": "H_data",
           "value": 138
          },
          {
           "sample_id": 0,
           "timepoint": 558,
           "trajectory": "H_data",
           "value": 161
          },
          {
           "sample_id": 0,
           "timepoint": 559,
           "trajectory": "H_data",
           "value": 210
          },
          {
           "sample_id": 0,
           "timepoint": 560,
           "trajectory": "H_data",
           "value": 210
          },
          {
           "sample_id": 0,
           "timepoint": 561,
           "trajectory": "H_data",
           "value": 201
          },
          {
           "sample_id": 0,
           "timepoint": 562,
           "trajectory": "H_data",
           "value": 244
          },
          {
           "sample_id": 0,
           "timepoint": 563,
           "trajectory": "H_data",
           "value": 189
          },
          {
           "sample_id": 0,
           "timepoint": 564,
           "trajectory": "H_data",
           "value": 242
          },
          {
           "sample_id": 0,
           "timepoint": 565,
           "trajectory": "H_data",
           "value": 227
          },
          {
           "sample_id": 0,
           "timepoint": 566,
           "trajectory": "H_data",
           "value": 285
          },
          {
           "sample_id": 0,
           "timepoint": 567,
           "trajectory": "H_data",
           "value": 301
          },
          {
           "sample_id": 0,
           "timepoint": 568,
           "trajectory": "H_data",
           "value": 316
          },
          {
           "sample_id": 0,
           "timepoint": 0,
           "trajectory": "D_data",
           "value": 0
          },
          {
           "sample_id": 0,
           "timepoint": 1,
           "trajectory": "D_data",
           "value": 0
          },
          {
           "sample_id": 0,
           "timepoint": 2,
           "trajectory": "D_data",
           "value": 0
          },
          {
           "sample_id": 0,
           "timepoint": 3,
           "trajectory": "D_data",
           "value": 0
          },
          {
           "sample_id": 0,
           "timepoint": 4,
           "trajectory": "D_data",
           "value": 0
          },
          {
           "sample_id": 0,
           "timepoint": 5,
           "trajectory": "D_data",
           "value": 0
          },
          {
           "sample_id": 0,
           "timepoint": 6,
           "trajectory": "D_data",
           "value": 0
          },
          {
           "sample_id": 0,
           "timepoint": 7,
           "trajectory": "D_data",
           "value": 0
          },
          {
           "sample_id": 0,
           "timepoint": 8,
           "trajectory": "D_data",
           "value": 0
          },
          {
           "sample_id": 0,
           "timepoint": 9,
           "trajectory": "D_data",
           "value": 0
          },
          {
           "sample_id": 0,
           "timepoint": 10,
           "trajectory": "D_data",
           "value": 0
          },
          {
           "sample_id": 0,
           "timepoint": 11,
           "trajectory": "D_data",
           "value": 0
          },
          {
           "sample_id": 0,
           "timepoint": 12,
           "trajectory": "D_data",
           "value": 0
          },
          {
           "sample_id": 0,
           "timepoint": 13,
           "trajectory": "D_data",
           "value": 0
          },
          {
           "sample_id": 0,
           "timepoint": 14,
           "trajectory": "D_data",
           "value": 0
          },
          {
           "sample_id": 0,
           "timepoint": 15,
           "trajectory": "D_data",
           "value": 0
          },
          {
           "sample_id": 0,
           "timepoint": 16,
           "trajectory": "D_data",
           "value": 0
          },
          {
           "sample_id": 0,
           "timepoint": 17,
           "trajectory": "D_data",
           "value": 0
          },
          {
           "sample_id": 0,
           "timepoint": 18,
           "trajectory": "D_data",
           "value": 0
          },
          {
           "sample_id": 0,
           "timepoint": 19,
           "trajectory": "D_data",
           "value": 0
          },
          {
           "sample_id": 0,
           "timepoint": 20,
           "trajectory": "D_data",
           "value": 0
          },
          {
           "sample_id": 0,
           "timepoint": 21,
           "trajectory": "D_data",
           "value": 0
          },
          {
           "sample_id": 0,
           "timepoint": 22,
           "trajectory": "D_data",
           "value": 0
          },
          {
           "sample_id": 0,
           "timepoint": 23,
           "trajectory": "D_data",
           "value": 0
          },
          {
           "sample_id": 0,
           "timepoint": 24,
           "trajectory": "D_data",
           "value": 0
          },
          {
           "sample_id": 0,
           "timepoint": 25,
           "trajectory": "D_data",
           "value": 0
          },
          {
           "sample_id": 0,
           "timepoint": 26,
           "trajectory": "D_data",
           "value": 0
          },
          {
           "sample_id": 0,
           "timepoint": 27,
           "trajectory": "D_data",
           "value": 0
          },
          {
           "sample_id": 0,
           "timepoint": 28,
           "trajectory": "D_data",
           "value": 0
          },
          {
           "sample_id": 0,
           "timepoint": 29,
           "trajectory": "D_data",
           "value": 0
          },
          {
           "sample_id": 0,
           "timepoint": 30,
           "trajectory": "D_data",
           "value": 0
          },
          {
           "sample_id": 0,
           "timepoint": 31,
           "trajectory": "D_data",
           "value": 0
          },
          {
           "sample_id": 0,
           "timepoint": 32,
           "trajectory": "D_data",
           "value": 0
          },
          {
           "sample_id": 0,
           "timepoint": 33,
           "trajectory": "D_data",
           "value": 0
          },
          {
           "sample_id": 0,
           "timepoint": 34,
           "trajectory": "D_data",
           "value": 0
          },
          {
           "sample_id": 0,
           "timepoint": 35,
           "trajectory": "D_data",
           "value": 0
          },
          {
           "sample_id": 0,
           "timepoint": 36,
           "trajectory": "D_data",
           "value": 0
          },
          {
           "sample_id": 0,
           "timepoint": 37,
           "trajectory": "D_data",
           "value": 0
          },
          {
           "sample_id": 0,
           "timepoint": 38,
           "trajectory": "D_data",
           "value": 0
          },
          {
           "sample_id": 0,
           "timepoint": 39,
           "trajectory": "D_data",
           "value": 0
          },
          {
           "sample_id": 0,
           "timepoint": 40,
           "trajectory": "D_data",
           "value": 0
          },
          {
           "sample_id": 0,
           "timepoint": 41,
           "trajectory": "D_data",
           "value": 0
          },
          {
           "sample_id": 0,
           "timepoint": 42,
           "trajectory": "D_data",
           "value": 0
          },
          {
           "sample_id": 0,
           "timepoint": 43,
           "trajectory": "D_data",
           "value": 0
          },
          {
           "sample_id": 0,
           "timepoint": 44,
           "trajectory": "D_data",
           "value": 0
          },
          {
           "sample_id": 0,
           "timepoint": 45,
           "trajectory": "D_data",
           "value": 0
          },
          {
           "sample_id": 0,
           "timepoint": 46,
           "trajectory": "D_data",
           "value": 0
          },
          {
           "sample_id": 0,
           "timepoint": 47,
           "trajectory": "D_data",
           "value": 0
          },
          {
           "sample_id": 0,
           "timepoint": 48,
           "trajectory": "D_data",
           "value": 0
          },
          {
           "sample_id": 0,
           "timepoint": 49,
           "trajectory": "D_data",
           "value": 1
          },
          {
           "sample_id": 0,
           "timepoint": 50,
           "trajectory": "D_data",
           "value": 1
          },
          {
           "sample_id": 0,
           "timepoint": 51,
           "trajectory": "D_data",
           "value": 1
          },
          {
           "sample_id": 0,
           "timepoint": 52,
           "trajectory": "D_data",
           "value": 4
          },
          {
           "sample_id": 0,
           "timepoint": 53,
           "trajectory": "D_data",
           "value": 9
          },
          {
           "sample_id": 0,
           "timepoint": 54,
           "trajectory": "D_data",
           "value": 19
          },
          {
           "sample_id": 0,
           "timepoint": 55,
           "trajectory": "D_data",
           "value": 30
          },
          {
           "sample_id": 0,
           "timepoint": 56,
           "trajectory": "D_data",
           "value": 51
          },
          {
           "sample_id": 0,
           "timepoint": 57,
           "trajectory": "D_data",
           "value": 77
          },
          {
           "sample_id": 0,
           "timepoint": 58,
           "trajectory": "D_data",
           "value": 129
          },
          {
           "sample_id": 0,
           "timepoint": 59,
           "trajectory": "D_data",
           "value": 175
          },
          {
           "sample_id": 0,
           "timepoint": 60,
           "trajectory": "D_data",
           "value": 226
          },
          {
           "sample_id": 0,
           "timepoint": 61,
           "trajectory": "D_data",
           "value": 315
          },
          {
           "sample_id": 0,
           "timepoint": 62,
           "trajectory": "D_data",
           "value": 427
          },
          {
           "sample_id": 0,
           "timepoint": 63,
           "trajectory": "D_data",
           "value": 565
          },
          {
           "sample_id": 0,
           "timepoint": 64,
           "trajectory": "D_data",
           "value": 759
          },
          {
           "sample_id": 0,
           "timepoint": 65,
           "trajectory": "D_data",
           "value": 984
          },
          {
           "sample_id": 0,
           "timepoint": 66,
           "trajectory": "D_data",
           "value": 1285
          },
          {
           "sample_id": 0,
           "timepoint": 67,
           "trajectory": "D_data",
           "value": 1603
          },
          {
           "sample_id": 0,
           "timepoint": 68,
           "trajectory": "D_data",
           "value": 1930
          },
          {
           "sample_id": 0,
           "timepoint": 69,
           "trajectory": "D_data",
           "value": 2334
          },
          {
           "sample_id": 0,
           "timepoint": 70,
           "trajectory": "D_data",
           "value": 2859
          },
          {
           "sample_id": 0,
           "timepoint": 71,
           "trajectory": "D_data",
           "value": 3420
          },
          {
           "sample_id": 0,
           "timepoint": 72,
           "trajectory": "D_data",
           "value": 3989
          },
          {
           "sample_id": 0,
           "timepoint": 73,
           "trajectory": "D_data",
           "value": 4634
          },
          {
           "sample_id": 0,
           "timepoint": 74,
           "trajectory": "D_data",
           "value": 5384
          },
          {
           "sample_id": 0,
           "timepoint": 75,
           "trajectory": "D_data",
           "value": 6185
          },
          {
           "sample_id": 0,
           "timepoint": 76,
           "trajectory": "D_data",
           "value": 7241
          },
          {
           "sample_id": 0,
           "timepoint": 77,
           "trajectory": "D_data",
           "value": 7985
          },
          {
           "sample_id": 0,
           "timepoint": 78,
           "trajectory": "D_data",
           "value": 8846
          },
          {
           "sample_id": 0,
           "timepoint": 79,
           "trajectory": "D_data",
           "value": 9579
          },
          {
           "sample_id": 0,
           "timepoint": 80,
           "trajectory": "D_data",
           "value": 10345
          },
          {
           "sample_id": 0,
           "timepoint": 81,
           "trajectory": "D_data",
           "value": 11126
          },
          {
           "sample_id": 0,
           "timepoint": 82,
           "trajectory": "D_data",
           "value": 11930
          },
          {
           "sample_id": 0,
           "timepoint": 83,
           "trajectory": "D_data",
           "value": 12669
          },
          {
           "sample_id": 0,
           "timepoint": 84,
           "trajectory": "D_data",
           "value": 13332
          },
          {
           "sample_id": 0,
           "timepoint": 85,
           "trajectory": "D_data",
           "value": 13987
          },
          {
           "sample_id": 0,
           "timepoint": 86,
           "trajectory": "D_data",
           "value": 14371
          },
          {
           "sample_id": 0,
           "timepoint": 87,
           "trajectory": "D_data",
           "value": 14780
          },
          {
           "sample_id": 0,
           "timepoint": 88,
           "trajectory": "D_data",
           "value": 15225
          },
          {
           "sample_id": 0,
           "timepoint": 89,
           "trajectory": "D_data",
           "value": 16116
          },
          {
           "sample_id": 0,
           "timepoint": 90,
           "trajectory": "D_data",
           "value": 16639
          },
          {
           "sample_id": 0,
           "timepoint": 91,
           "trajectory": "D_data",
           "value": 17091
          },
          {
           "sample_id": 0,
           "timepoint": 92,
           "trajectory": "D_data",
           "value": 17647
          },
          {
           "sample_id": 0,
           "timepoint": 93,
           "trajectory": "D_data",
           "value": 18132
          },
          {
           "sample_id": 0,
           "timepoint": 94,
           "trajectory": "D_data",
           "value": 18523
          },
          {
           "sample_id": 0,
           "timepoint": 95,
           "trajectory": "D_data",
           "value": 18882
          },
          {
           "sample_id": 0,
           "timepoint": 96,
           "trajectory": "D_data",
           "value": 19292
          },
          {
           "sample_id": 0,
           "timepoint": 97,
           "trajectory": "D_data",
           "value": 19602
          },
          {
           "sample_id": 0,
           "timepoint": 98,
           "trajectory": "D_data",
           "value": 20000
          },
          {
           "sample_id": 0,
           "timepoint": 99,
           "trajectory": "D_data",
           "value": 20334
          },
          {
           "sample_id": 0,
           "timepoint": 100,
           "trajectory": "D_data",
           "value": 20662
          },
          {
           "sample_id": 0,
           "timepoint": 101,
           "trajectory": "D_data",
           "value": 20923
          },
          {
           "sample_id": 0,
           "timepoint": 102,
           "trajectory": "D_data",
           "value": 21179
          },
          {
           "sample_id": 0,
           "timepoint": 103,
           "trajectory": "D_data",
           "value": 21483
          },
          {
           "sample_id": 0,
           "timepoint": 104,
           "trajectory": "D_data",
           "value": 21740
          },
          {
           "sample_id": 0,
           "timepoint": 105,
           "trajectory": "D_data",
           "value": 22296
          },
          {
           "sample_id": 0,
           "timepoint": 106,
           "trajectory": "D_data",
           "value": 22501
          },
          {
           "sample_id": 0,
           "timepoint": 107,
           "trajectory": "D_data",
           "value": 22797
          },
          {
           "sample_id": 0,
           "timepoint": 108,
           "trajectory": "D_data",
           "value": 23015
          },
          {
           "sample_id": 0,
           "timepoint": 109,
           "trajectory": "D_data",
           "value": 23180
          },
          {
           "sample_id": 0,
           "timepoint": 110,
           "trajectory": "D_data",
           "value": 23356
          },
          {
           "sample_id": 0,
           "timepoint": 111,
           "trajectory": "D_data",
           "value": 23560
          },
          {
           "sample_id": 0,
           "timepoint": 112,
           "trajectory": "D_data",
           "value": 23754
          },
          {
           "sample_id": 0,
           "timepoint": 113,
           "trajectory": "D_data",
           "value": 23893
          },
          {
           "sample_id": 0,
           "timepoint": 114,
           "trajectory": "D_data",
           "value": 24144
          },
          {
           "sample_id": 0,
           "timepoint": 115,
           "trajectory": "D_data",
           "value": 24299
          },
          {
           "sample_id": 0,
           "timepoint": 116,
           "trajectory": "D_data",
           "value": 24419
          },
          {
           "sample_id": 0,
           "timepoint": 117,
           "trajectory": "D_data",
           "value": 28867
          },
          {
           "sample_id": 0,
           "timepoint": 118,
           "trajectory": "D_data",
           "value": 29058
          },
          {
           "sample_id": 0,
           "timepoint": 119,
           "trajectory": "D_data",
           "value": 29205
          },
          {
           "sample_id": 0,
           "timepoint": 120,
           "trajectory": "D_data",
           "value": 29317
          },
          {
           "sample_id": 0,
           "timepoint": 121,
           "trajectory": "D_data",
           "value": 29420
          },
          {
           "sample_id": 0,
           "timepoint": 122,
           "trajectory": "D_data",
           "value": 29617
          },
          {
           "sample_id": 0,
           "timepoint": 123,
           "trajectory": "D_data",
           "value": 29707
          },
          {
           "sample_id": 0,
           "timepoint": 124,
           "trajectory": "D_data",
           "value": 29823
          },
          {
           "sample_id": 0,
           "timepoint": 125,
           "trajectory": "D_data",
           "value": 29857
          },
          {
           "sample_id": 0,
           "timepoint": 126,
           "trajectory": "D_data",
           "value": 30034
          },
          {
           "sample_id": 0,
           "timepoint": 127,
           "trajectory": "D_data",
           "value": 30083
          },
          {
           "sample_id": 0,
           "timepoint": 128,
           "trajectory": "D_data",
           "value": 30194
          },
          {
           "sample_id": 0,
           "timepoint": 129,
           "trajectory": "D_data",
           "value": 30289
          },
          {
           "sample_id": 0,
           "timepoint": 130,
           "trajectory": "D_data",
           "value": 30357
          },
          {
           "sample_id": 0,
           "timepoint": 131,
           "trajectory": "D_data",
           "value": 30490
          },
          {
           "sample_id": 0,
           "timepoint": 132,
           "trajectory": "D_data",
           "value": 30549
          },
          {
           "sample_id": 0,
           "timepoint": 133,
           "trajectory": "D_data",
           "value": 30615
          },
          {
           "sample_id": 0,
           "timepoint": 134,
           "trajectory": "D_data",
           "value": 30752
          },
          {
           "sample_id": 0,
           "timepoint": 135,
           "trajectory": "D_data",
           "value": 30805
          },
          {
           "sample_id": 0,
           "timepoint": 136,
           "trajectory": "D_data",
           "value": 30857
          },
          {
           "sample_id": 0,
           "timepoint": 137,
           "trajectory": "D_data",
           "value": 30946
          },
          {
           "sample_id": 0,
           "timepoint": 138,
           "trajectory": "D_data",
           "value": 31002
          },
          {
           "sample_id": 0,
           "timepoint": 139,
           "trajectory": "D_data",
           "value": 31037
          },
          {
           "sample_id": 0,
           "timepoint": 140,
           "trajectory": "D_data",
           "value": 31111
          },
          {
           "sample_id": 0,
           "timepoint": 141,
           "trajectory": "D_data",
           "value": 31138
          },
          {
           "sample_id": 0,
           "timepoint": 142,
           "trajectory": "D_data",
           "value": 31293
          },
          {
           "sample_id": 0,
           "timepoint": 143,
           "trajectory": "D_data",
           "value": 31316
          },
          {
           "sample_id": 0,
           "timepoint": 144,
           "trajectory": "D_data",
           "value": 31353
          },
          {
           "sample_id": 0,
           "timepoint": 145,
           "trajectory": "D_data",
           "value": 31387
          },
          {
           "sample_id": 0,
           "timepoint": 146,
           "trajectory": "D_data",
           "value": 31435
          },
          {
           "sample_id": 0,
           "timepoint": 147,
           "trajectory": "D_data",
           "value": 31463
          },
          {
           "sample_id": 0,
           "timepoint": 148,
           "trajectory": "D_data",
           "value": 31494
          },
          {
           "sample_id": 0,
           "timepoint": 149,
           "trajectory": "D_data",
           "value": 31520
          },
          {
           "sample_id": 0,
           "timepoint": 150,
           "trajectory": "D_data",
           "value": 31598
          },
          {
           "sample_id": 0,
           "timepoint": 151,
           "trajectory": "D_data",
           "value": 31639
          },
          {
           "sample_id": 0,
           "timepoint": 152,
           "trajectory": "D_data",
           "value": 31669
          },
          {
           "sample_id": 0,
           "timepoint": 153,
           "trajectory": "D_data",
           "value": 31730
          },
          {
           "sample_id": 0,
           "timepoint": 154,
           "trajectory": "D_data",
           "value": 31755
          },
          {
           "sample_id": 0,
           "timepoint": 155,
           "trajectory": "D_data",
           "value": 31794
          },
          {
           "sample_id": 0,
           "timepoint": 156,
           "trajectory": "D_data",
           "value": 31819
          },
          {
           "sample_id": 0,
           "timepoint": 157,
           "trajectory": "D_data",
           "value": 31847
          },
          {
           "sample_id": 0,
           "timepoint": 158,
           "trajectory": "D_data",
           "value": 31873
          },
          {
           "sample_id": 0,
           "timepoint": 159,
           "trajectory": "D_data",
           "value": 31904
          },
          {
           "sample_id": 0,
           "timepoint": 160,
           "trajectory": "D_data",
           "value": 31869
          },
          {
           "sample_id": 0,
           "timepoint": 161,
           "trajectory": "D_data",
           "value": 31883
          },
          {
           "sample_id": 0,
           "timepoint": 162,
           "trajectory": "D_data",
           "value": 31913
          },
          {
           "sample_id": 0,
           "timepoint": 163,
           "trajectory": "D_data",
           "value": 31993
          },
          {
           "sample_id": 0,
           "timepoint": 164,
           "trajectory": "D_data",
           "value": 32009
          },
          {
           "sample_id": 0,
           "timepoint": 165,
           "trajectory": "D_data",
           "value": 32045
          },
          {
           "sample_id": 0,
           "timepoint": 166,
           "trajectory": "D_data",
           "value": 32063
          },
          {
           "sample_id": 0,
           "timepoint": 167,
           "trajectory": "D_data",
           "value": 32084
          },
          {
           "sample_id": 0,
           "timepoint": 168,
           "trajectory": "D_data",
           "value": 32108
          },
          {
           "sample_id": 0,
           "timepoint": 169,
           "trajectory": "D_data",
           "value": 32130
          },
          {
           "sample_id": 0,
           "timepoint": 170,
           "trajectory": "D_data",
           "value": 32169
          },
          {
           "sample_id": 0,
           "timepoint": 171,
           "trajectory": "D_data",
           "value": 32185
          },
          {
           "sample_id": 0,
           "timepoint": 172,
           "trajectory": "D_data",
           "value": 32198
          },
          {
           "sample_id": 0,
           "timepoint": 173,
           "trajectory": "D_data",
           "value": 32217
          },
          {
           "sample_id": 0,
           "timepoint": 174,
           "trajectory": "D_data",
           "value": 32227
          },
          {
           "sample_id": 0,
           "timepoint": 175,
           "trajectory": "D_data",
           "value": 32246
          },
          {
           "sample_id": 0,
           "timepoint": 176,
           "trajectory": "D_data",
           "value": 32257
          },
          {
           "sample_id": 0,
           "timepoint": 177,
           "trajectory": "D_data",
           "value": 32283
          },
          {
           "sample_id": 0,
           "timepoint": 178,
           "trajectory": "D_data",
           "value": 32298
          },
          {
           "sample_id": 0,
           "timepoint": 179,
           "trajectory": "D_data",
           "value": 32313
          },
          {
           "sample_id": 0,
           "timepoint": 180,
           "trajectory": "D_data",
           "value": 32324
          },
          {
           "sample_id": 0,
           "timepoint": 181,
           "trajectory": "D_data",
           "value": 32337
          },
          {
           "sample_id": 0,
           "timepoint": 182,
           "trajectory": "D_data",
           "value": 32379
          },
          {
           "sample_id": 0,
           "timepoint": 183,
           "trajectory": "D_data",
           "value": 32390
          },
          {
           "sample_id": 0,
           "timepoint": 184,
           "trajectory": "D_data",
           "value": 32395
          },
          {
           "sample_id": 0,
           "timepoint": 185,
           "trajectory": "D_data",
           "value": 32407
          },
          {
           "sample_id": 0,
           "timepoint": 186,
           "trajectory": "D_data",
           "value": 32429
          },
          {
           "sample_id": 0,
           "timepoint": 187,
           "trajectory": "D_data",
           "value": 32435
          },
          {
           "sample_id": 0,
           "timepoint": 188,
           "trajectory": "D_data",
           "value": 32447
          },
          {
           "sample_id": 0,
           "timepoint": 189,
           "trajectory": "D_data",
           "value": 32452
          },
          {
           "sample_id": 0,
           "timepoint": 190,
           "trajectory": "D_data",
           "value": 32468
          },
          {
           "sample_id": 0,
           "timepoint": 191,
           "trajectory": "D_data",
           "value": 32474
          },
          {
           "sample_id": 0,
           "timepoint": 192,
           "trajectory": "D_data",
           "value": 32482
          },
          {
           "sample_id": 0,
           "timepoint": 193,
           "trajectory": "D_data",
           "value": 32498
          },
          {
           "sample_id": 0,
           "timepoint": 194,
           "trajectory": "D_data",
           "value": 32500
          },
          {
           "sample_id": 0,
           "timepoint": 195,
           "trajectory": "D_data",
           "value": 32505
          },
          {
           "sample_id": 0,
           "timepoint": 196,
           "trajectory": "D_data",
           "value": 32535
          },
          {
           "sample_id": 0,
           "timepoint": 197,
           "trajectory": "D_data",
           "value": 32542
          },
          {
           "sample_id": 0,
           "timepoint": 198,
           "trajectory": "D_data",
           "value": 32545
          },
          {
           "sample_id": 0,
           "timepoint": 199,
           "trajectory": "D_data",
           "value": 32554
          },
          {
           "sample_id": 0,
           "timepoint": 200,
           "trajectory": "D_data",
           "value": 32558
          },
          {
           "sample_id": 0,
           "timepoint": 201,
           "trajectory": "D_data",
           "value": 32566
          },
          {
           "sample_id": 0,
           "timepoint": 202,
           "trajectory": "D_data",
           "value": 32572
          },
          {
           "sample_id": 0,
           "timepoint": 203,
           "trajectory": "D_data",
           "value": 32574
          },
          {
           "sample_id": 0,
           "timepoint": 204,
           "trajectory": "D_data",
           "value": 32580
          },
          {
           "sample_id": 0,
           "timepoint": 205,
           "trajectory": "D_data",
           "value": 32601
          },
          {
           "sample_id": 0,
           "timepoint": 206,
           "trajectory": "D_data",
           "value": 32611
          },
          {
           "sample_id": 0,
           "timepoint": 207,
           "trajectory": "D_data",
           "value": 32617
          },
          {
           "sample_id": 0,
           "timepoint": 208,
           "trajectory": "D_data",
           "value": 32622
          },
          {
           "sample_id": 0,
           "timepoint": 209,
           "trajectory": "D_data",
           "value": 32629
          },
          {
           "sample_id": 0,
           "timepoint": 210,
           "trajectory": "D_data",
           "value": 32639
          },
          {
           "sample_id": 0,
           "timepoint": 211,
           "trajectory": "D_data",
           "value": 32644
          },
          {
           "sample_id": 0,
           "timepoint": 212,
           "trajectory": "D_data",
           "value": 32647
          },
          {
           "sample_id": 0,
           "timepoint": 213,
           "trajectory": "D_data",
           "value": 32654
          },
          {
           "sample_id": 0,
           "timepoint": 214,
           "trajectory": "D_data",
           "value": 32662
          },
          {
           "sample_id": 0,
           "timepoint": 215,
           "trajectory": "D_data",
           "value": 32665
          },
          {
           "sample_id": 0,
           "timepoint": 216,
           "trajectory": "D_data",
           "value": 32694
          },
          {
           "sample_id": 0,
           "timepoint": 217,
           "trajectory": "D_data",
           "value": 32699
          },
          {
           "sample_id": 0,
           "timepoint": 218,
           "trajectory": "D_data",
           "value": 32700
          },
          {
           "sample_id": 0,
           "timepoint": 219,
           "trajectory": "D_data",
           "value": 32703
          },
          {
           "sample_id": 0,
           "timepoint": 220,
           "trajectory": "D_data",
           "value": 32705
          },
          {
           "sample_id": 0,
           "timepoint": 221,
           "trajectory": "D_data",
           "value": 32722
          },
          {
           "sample_id": 0,
           "timepoint": 222,
           "trajectory": "D_data",
           "value": 32770
          },
          {
           "sample_id": 0,
           "timepoint": 223,
           "trajectory": "D_data",
           "value": 32776
          },
          {
           "sample_id": 0,
           "timepoint": 224,
           "trajectory": "D_data",
           "value": 32782
          },
          {
           "sample_id": 0,
           "timepoint": 225,
           "trajectory": "D_data",
           "value": 32790
          },
          {
           "sample_id": 0,
           "timepoint": 226,
           "trajectory": "D_data",
           "value": 32795
          },
          {
           "sample_id": 0,
           "timepoint": 227,
           "trajectory": "D_data",
           "value": 32802
          },
          {
           "sample_id": 0,
           "timepoint": 228,
           "trajectory": "D_data",
           "value": 32802
          },
          {
           "sample_id": 0,
           "timepoint": 229,
           "trajectory": "D_data",
           "value": 32813
          },
          {
           "sample_id": 0,
           "timepoint": 230,
           "trajectory": "D_data",
           "value": 32826
          },
          {
           "sample_id": 0,
           "timepoint": 231,
           "trajectory": "D_data",
           "value": 32833
          },
          {
           "sample_id": 0,
           "timepoint": 232,
           "trajectory": "D_data",
           "value": 32836
          },
          {
           "sample_id": 0,
           "timepoint": 233,
           "trajectory": "D_data",
           "value": 32839
          },
          {
           "sample_id": 0,
           "timepoint": 234,
           "trajectory": "D_data",
           "value": 32843
          },
          {
           "sample_id": 0,
           "timepoint": 235,
           "trajectory": "D_data",
           "value": 32843
          },
          {
           "sample_id": 0,
           "timepoint": 236,
           "trajectory": "D_data",
           "value": 32849
          },
          {
           "sample_id": 0,
           "timepoint": 237,
           "trajectory": "D_data",
           "value": 32856
          },
          {
           "sample_id": 0,
           "timepoint": 238,
           "trajectory": "D_data",
           "value": 32860
          },
          {
           "sample_id": 0,
           "timepoint": 239,
           "trajectory": "D_data",
           "value": 32887
          },
          {
           "sample_id": 0,
           "timepoint": 240,
           "trajectory": "D_data",
           "value": 32900
          },
          {
           "sample_id": 0,
           "timepoint": 241,
           "trajectory": "D_data",
           "value": 32899
          },
          {
           "sample_id": 0,
           "timepoint": 242,
           "trajectory": "D_data",
           "value": 32905
          },
          {
           "sample_id": 0,
           "timepoint": 243,
           "trajectory": "D_data",
           "value": 32974
          },
          {
           "sample_id": 0,
           "timepoint": 244,
           "trajectory": "D_data",
           "value": 32975
          },
          {
           "sample_id": 0,
           "timepoint": 245,
           "trajectory": "D_data",
           "value": 32976
          },
          {
           "sample_id": 0,
           "timepoint": 246,
           "trajectory": "D_data",
           "value": 32982
          },
          {
           "sample_id": 0,
           "timepoint": 247,
           "trajectory": "D_data",
           "value": 32995
          },
          {
           "sample_id": 0,
           "timepoint": 248,
           "trajectory": "D_data",
           "value": 32997
          },
          {
           "sample_id": 0,
           "timepoint": 249,
           "trajectory": "D_data",
           "value": 33003
          },
          {
           "sample_id": 0,
           "timepoint": 250,
           "trajectory": "D_data",
           "value": 33011
          },
          {
           "sample_id": 0,
           "timepoint": 251,
           "trajectory": "D_data",
           "value": 33018
          },
          {
           "sample_id": 0,
           "timepoint": 252,
           "trajectory": "D_data",
           "value": 33027
          },
          {
           "sample_id": 0,
           "timepoint": 253,
           "trajectory": "D_data",
           "value": 33037
          },
          {
           "sample_id": 0,
           "timepoint": 254,
           "trajectory": "D_data",
           "value": 33074
          },
          {
           "sample_id": 0,
           "timepoint": 255,
           "trajectory": "D_data",
           "value": 33079
          },
          {
           "sample_id": 0,
           "timepoint": 256,
           "trajectory": "D_data",
           "value": 33090
          },
          {
           "sample_id": 0,
           "timepoint": 257,
           "trajectory": "D_data",
           "value": 33100
          },
          {
           "sample_id": 0,
           "timepoint": 258,
           "trajectory": "D_data",
           "value": 33107
          },
          {
           "sample_id": 0,
           "timepoint": 259,
           "trajectory": "D_data",
           "value": 33125
          },
          {
           "sample_id": 0,
           "timepoint": 260,
           "trajectory": "D_data",
           "value": 33135
          },
          {
           "sample_id": 0,
           "timepoint": 261,
           "trajectory": "D_data",
           "value": 33164
          },
          {
           "sample_id": 0,
           "timepoint": 262,
           "trajectory": "D_data",
           "value": 33168
          },
          {
           "sample_id": 0,
           "timepoint": 263,
           "trajectory": "D_data",
           "value": 33174
          },
          {
           "sample_id": 0,
           "timepoint": 264,
           "trajectory": "D_data",
           "value": 33184
          },
          {
           "sample_id": 0,
           "timepoint": 265,
           "trajectory": "D_data",
           "value": 33194
          },
          {
           "sample_id": 0,
           "timepoint": 266,
           "trajectory": "D_data",
           "value": 33201
          },
          {
           "sample_id": 0,
           "timepoint": 267,
           "trajectory": "D_data",
           "value": 33225
          },
          {
           "sample_id": 0,
           "timepoint": 268,
           "trajectory": "D_data",
           "value": 33237
          },
          {
           "sample_id": 0,
           "timepoint": 269,
           "trajectory": "D_data",
           "value": 33246
          },
          {
           "sample_id": 0,
           "timepoint": 270,
           "trajectory": "D_data",
           "value": 33261
          },
          {
           "sample_id": 0,
           "timepoint": 271,
           "trajectory": "D_data",
           "value": 33274
          },
          {
           "sample_id": 0,
           "timepoint": 272,
           "trajectory": "D_data",
           "value": 33282
          },
          {
           "sample_id": 0,
           "timepoint": 273,
           "trajectory": "D_data",
           "value": 33287
          },
          {
           "sample_id": 0,
           "timepoint": 274,
           "trajectory": "D_data",
           "value": 33310
          },
          {
           "sample_id": 0,
           "timepoint": 275,
           "trajectory": "D_data",
           "value": 33323
          },
          {
           "sample_id": 0,
           "timepoint": 276,
           "trajectory": "D_data",
           "value": 33332
          },
          {
           "sample_id": 0,
           "timepoint": 277,
           "trajectory": "D_data",
           "value": 33339
          },
          {
           "sample_id": 0,
           "timepoint": 278,
           "trajectory": "D_data",
           "value": 33349
          },
          {
           "sample_id": 0,
           "timepoint": 279,
           "trajectory": "D_data",
           "value": 33362
          },
          {
           "sample_id": 0,
           "timepoint": 280,
           "trajectory": "D_data",
           "value": 33374
          },
          {
           "sample_id": 0,
           "timepoint": 281,
           "trajectory": "D_data",
           "value": 33395
          },
          {
           "sample_id": 0,
           "timepoint": 282,
           "trajectory": "D_data",
           "value": 33424
          },
          {
           "sample_id": 0,
           "timepoint": 283,
           "trajectory": "D_data",
           "value": 33429
          },
          {
           "sample_id": 0,
           "timepoint": 284,
           "trajectory": "D_data",
           "value": 33449
          },
          {
           "sample_id": 0,
           "timepoint": 285,
           "trajectory": "D_data",
           "value": 33461
          },
          {
           "sample_id": 0,
           "timepoint": 286,
           "trajectory": "D_data",
           "value": 33470
          },
          {
           "sample_id": 0,
           "timepoint": 287,
           "trajectory": "D_data",
           "value": 33488
          },
          {
           "sample_id": 0,
           "timepoint": 288,
           "trajectory": "D_data",
           "value": 33547
          },
          {
           "sample_id": 0,
           "timepoint": 289,
           "trajectory": "D_data",
           "value": 33564
          },
          {
           "sample_id": 0,
           "timepoint": 290,
           "trajectory": "D_data",
           "value": 33576
          },
          {
           "sample_id": 0,
           "timepoint": 291,
           "trajectory": "D_data",
           "value": 33596
          },
          {
           "sample_id": 0,
           "timepoint": 292,
           "trajectory": "D_data",
           "value": 33612
          },
          {
           "sample_id": 0,
           "timepoint": 293,
           "trajectory": "D_data",
           "value": 33631
          },
          {
           "sample_id": 0,
           "timepoint": 294,
           "trajectory": "D_data",
           "value": 33661
          },
          {
           "sample_id": 0,
           "timepoint": 295,
           "trajectory": "D_data",
           "value": 33676
          },
          {
           "sample_id": 0,
           "timepoint": 296,
           "trajectory": "D_data",
           "value": 33692
          },
          {
           "sample_id": 0,
           "timepoint": 297,
           "trajectory": "D_data",
           "value": 33712
          },
          {
           "sample_id": 0,
           "timepoint": 298,
           "trajectory": "D_data",
           "value": 33738
          },
          {
           "sample_id": 0,
           "timepoint": 299,
           "trajectory": "D_data",
           "value": 33753
          },
          {
           "sample_id": 0,
           "timepoint": 300,
           "trajectory": "D_data",
           "value": 33844
          },
          {
           "sample_id": 0,
           "timepoint": 301,
           "trajectory": "D_data",
           "value": 33868
          },
          {
           "sample_id": 0,
           "timepoint": 302,
           "trajectory": "D_data",
           "value": 33894
          },
          {
           "sample_id": 0,
           "timepoint": 303,
           "trajectory": "D_data",
           "value": 33934
          },
          {
           "sample_id": 0,
           "timepoint": 304,
           "trajectory": "D_data",
           "value": 33989
          },
          {
           "sample_id": 0,
           "timepoint": 305,
           "trajectory": "D_data",
           "value": 34015
          },
          {
           "sample_id": 0,
           "timepoint": 306,
           "trajectory": "D_data",
           "value": 34041
          },
          {
           "sample_id": 0,
           "timepoint": 307,
           "trajectory": "D_data",
           "value": 34063
          },
          {
           "sample_id": 0,
           "timepoint": 308,
           "trajectory": "D_data",
           "value": 34089
          },
          {
           "sample_id": 0,
           "timepoint": 309,
           "trajectory": "D_data",
           "value": 34138
          },
          {
           "sample_id": 0,
           "timepoint": 310,
           "trajectory": "D_data",
           "value": 34173
          },
          {
           "sample_id": 0,
           "timepoint": 311,
           "trajectory": "D_data",
           "value": 34212
          },
          {
           "sample_id": 0,
           "timepoint": 312,
           "trajectory": "D_data",
           "value": 34256
          },
          {
           "sample_id": 0,
           "timepoint": 313,
           "trajectory": "D_data",
           "value": 34300
          },
          {
           "sample_id": 0,
           "timepoint": 314,
           "trajectory": "D_data",
           "value": 34352
          },
          {
           "sample_id": 0,
           "timepoint": 315,
           "trajectory": "D_data",
           "value": 34410
          },
          {
           "sample_id": 0,
           "timepoint": 316,
           "trajectory": "D_data",
           "value": 34473
          },
          {
           "sample_id": 0,
           "timepoint": 317,
           "trajectory": "D_data",
           "value": 34529
          },
          {
           "sample_id": 0,
           "timepoint": 318,
           "trajectory": "D_data",
           "value": 34601
          },
          {
           "sample_id": 0,
           "timepoint": 319,
           "trajectory": "D_data",
           "value": 34655
          },
          {
           "sample_id": 0,
           "timepoint": 320,
           "trajectory": "D_data",
           "value": 34722
          },
          {
           "sample_id": 0,
           "timepoint": 321,
           "trajectory": "D_data",
           "value": 34803
          },
          {
           "sample_id": 0,
           "timepoint": 322,
           "trajectory": "D_data",
           "value": 34882
          },
          {
           "sample_id": 0,
           "timepoint": 323,
           "trajectory": "D_data",
           "value": 34968
          },
          {
           "sample_id": 0,
           "timepoint": 324,
           "trajectory": "D_data",
           "value": 35066
          },
          {
           "sample_id": 0,
           "timepoint": 325,
           "trajectory": "D_data",
           "value": 35160
          },
          {
           "sample_id": 0,
           "timepoint": 326,
           "trajectory": "D_data",
           "value": 35271
          },
          {
           "sample_id": 0,
           "timepoint": 327,
           "trajectory": "D_data",
           "value": 35339
          },
          {
           "sample_id": 0,
           "timepoint": 328,
           "trajectory": "D_data",
           "value": 35449
          },
          {
           "sample_id": 0,
           "timepoint": 329,
           "trajectory": "D_data",
           "value": 35566
          },
          {
           "sample_id": 0,
           "timepoint": 330,
           "trajectory": "D_data",
           "value": 35684
          },
          {
           "sample_id": 0,
           "timepoint": 331,
           "trajectory": "D_data",
           "value": 35821
          },
          {
           "sample_id": 0,
           "timepoint": 332,
           "trajectory": "D_data",
           "value": 35943
          },
          {
           "sample_id": 0,
           "timepoint": 333,
           "trajectory": "D_data",
           "value": 36049
          },
          {
           "sample_id": 0,
           "timepoint": 334,
           "trajectory": "D_data",
           "value": 36180
          },
          {
           "sample_id": 0,
           "timepoint": 335,
           "trajectory": "D_data",
           "value": 36332
          },
          {
           "sample_id": 0,
           "timepoint": 336,
           "trajectory": "D_data",
           "value": 36491
          },
          {
           "sample_id": 0,
           "timepoint": 337,
           "trajectory": "D_data",
           "value": 36630
          },
          {
           "sample_id": 0,
           "timepoint": 338,
           "trajectory": "D_data",
           "value": 36758
          },
          {
           "sample_id": 0,
           "timepoint": 339,
           "trajectory": "D_data",
           "value": 36874
          },
          {
           "sample_id": 0,
           "timepoint": 340,
           "trajectory": "D_data",
           "value": 36988
          },
          {
           "sample_id": 0,
           "timepoint": 341,
           "trajectory": "D_data",
           "value": 37118
          },
          {
           "sample_id": 0,
           "timepoint": 342,
           "trajectory": "D_data",
           "value": 37253
          },
          {
           "sample_id": 0,
           "timepoint": 343,
           "trajectory": "D_data",
           "value": 37407
          },
          {
           "sample_id": 0,
           "timepoint": 344,
           "trajectory": "D_data",
           "value": 37544
          },
          {
           "sample_id": 0,
           "timepoint": 345,
           "trajectory": "D_data",
           "value": 37732
          },
          {
           "sample_id": 0,
           "timepoint": 346,
           "trajectory": "D_data",
           "value": 37851
          },
          {
           "sample_id": 0,
           "timepoint": 347,
           "trajectory": "D_data",
           "value": 37992
          },
          {
           "sample_id": 0,
           "timepoint": 348,
           "trajectory": "D_data",
           "value": 38156
          },
          {
           "sample_id": 0,
           "timepoint": 349,
           "trajectory": "D_data",
           "value": 38304
          },
          {
           "sample_id": 0,
           "timepoint": 350,
           "trajectory": "D_data",
           "value": 38461
          },
          {
           "sample_id": 0,
           "timepoint": 351,
           "trajectory": "D_data",
           "value": 38664
          },
          {
           "sample_id": 0,
           "timepoint": 352,
           "trajectory": "D_data",
           "value": 38842
          },
          {
           "sample_id": 0,
           "timepoint": 353,
           "trajectory": "D_data",
           "value": 39027
          },
          {
           "sample_id": 0,
           "timepoint": 354,
           "trajectory": "D_data",
           "value": 39192
          },
          {
           "sample_id": 0,
           "timepoint": 355,
           "trajectory": "D_data",
           "value": 39378
          },
          {
           "sample_id": 0,
           "timepoint": 356,
           "trajectory": "D_data",
           "value": 39558
          },
          {
           "sample_id": 0,
           "timepoint": 357,
           "trajectory": "D_data",
           "value": 39755
          },
          {
           "sample_id": 0,
           "timepoint": 358,
           "trajectory": "D_data",
           "value": 39988
          },
          {
           "sample_id": 0,
           "timepoint": 359,
           "trajectory": "D_data",
           "value": 40178
          },
          {
           "sample_id": 0,
           "timepoint": 360,
           "trajectory": "D_data",
           "value": 40365
          },
          {
           "sample_id": 0,
           "timepoint": 361,
           "trajectory": "D_data",
           "value": 40544
          },
          {
           "sample_id": 0,
           "timepoint": 362,
           "trajectory": "D_data",
           "value": 40722
          },
          {
           "sample_id": 0,
           "timepoint": 363,
           "trajectory": "D_data",
           "value": 40910
          },
          {
           "sample_id": 0,
           "timepoint": 364,
           "trajectory": "D_data",
           "value": 41111
          },
          {
           "sample_id": 0,
           "timepoint": 365,
           "trajectory": "D_data",
           "value": 41315
          },
          {
           "sample_id": 0,
           "timepoint": 366,
           "trajectory": "D_data",
           "value": 41501
          },
          {
           "sample_id": 0,
           "timepoint": 367,
           "trajectory": "D_data",
           "value": 41672
          },
          {
           "sample_id": 0,
           "timepoint": 368,
           "trajectory": "D_data",
           "value": 41846
          },
          {
           "sample_id": 0,
           "timepoint": 369,
           "trajectory": "D_data",
           "value": 42032
          },
          {
           "sample_id": 0,
           "timepoint": 370,
           "trajectory": "D_data",
           "value": 42192
          },
          {
           "sample_id": 0,
           "timepoint": 371,
           "trajectory": "D_data",
           "value": 42399
          },
          {
           "sample_id": 0,
           "timepoint": 372,
           "trajectory": "D_data",
           "value": 42583
          },
          {
           "sample_id": 0,
           "timepoint": 373,
           "trajectory": "D_data",
           "value": 42770
          },
          {
           "sample_id": 0,
           "timepoint": 374,
           "trajectory": "D_data",
           "value": 42947
          },
          {
           "sample_id": 0,
           "timepoint": 375,
           "trajectory": "D_data",
           "value": 43122
          },
          {
           "sample_id": 0,
           "timepoint": 376,
           "trajectory": "D_data",
           "value": 43291
          },
          {
           "sample_id": 0,
           "timepoint": 377,
           "trajectory": "D_data",
           "value": 43455
          },
          {
           "sample_id": 0,
           "timepoint": 378,
           "trajectory": "D_data",
           "value": 43619
          },
          {
           "sample_id": 0,
           "timepoint": 379,
           "trajectory": "D_data",
           "value": 43772
          },
          {
           "sample_id": 0,
           "timepoint": 380,
           "trajectory": "D_data",
           "value": 43942
          },
          {
           "sample_id": 0,
           "timepoint": 381,
           "trajectory": "D_data",
           "value": 44138
          },
          {
           "sample_id": 0,
           "timepoint": 382,
           "trajectory": "D_data",
           "value": 44319
          },
          {
           "sample_id": 0,
           "timepoint": 383,
           "trajectory": "D_data",
           "value": 44451
          },
          {
           "sample_id": 0,
           "timepoint": 384,
           "trajectory": "D_data",
           "value": 44601
          },
          {
           "sample_id": 0,
           "timepoint": 385,
           "trajectory": "D_data",
           "value": 44786
          },
          {
           "sample_id": 0,
           "timepoint": 386,
           "trajectory": "D_data",
           "value": 44929
          },
          {
           "sample_id": 0,
           "timepoint": 387,
           "trajectory": "D_data",
           "value": 45097
          },
          {
           "sample_id": 0,
           "timepoint": 388,
           "trajectory": "D_data",
           "value": 45230
          },
          {
           "sample_id": 0,
           "timepoint": 389,
           "trajectory": "D_data",
           "value": 45383
          },
          {
           "sample_id": 0,
           "timepoint": 390,
           "trajectory": "D_data",
           "value": 45494
          },
          {
           "sample_id": 0,
           "timepoint": 391,
           "trajectory": "D_data",
           "value": 45609
          },
          {
           "sample_id": 0,
           "timepoint": 392,
           "trajectory": "D_data",
           "value": 45744
          },
          {
           "sample_id": 0,
           "timepoint": 393,
           "trajectory": "D_data",
           "value": 45899
          },
          {
           "sample_id": 0,
           "timepoint": 394,
           "trajectory": "D_data",
           "value": 46067
          },
          {
           "sample_id": 0,
           "timepoint": 395,
           "trajectory": "D_data",
           "value": 46195
          },
          {
           "sample_id": 0,
           "timepoint": 396,
           "trajectory": "D_data",
           "value": 46304
          },
          {
           "sample_id": 0,
           "timepoint": 397,
           "trajectory": "D_data",
           "value": 46401
          },
          {
           "sample_id": 0,
           "timepoint": 398,
           "trajectory": "D_data",
           "value": 46508
          },
          {
           "sample_id": 0,
           "timepoint": 399,
           "trajectory": "D_data",
           "value": 46632
          },
          {
           "sample_id": 0,
           "timepoint": 400,
           "trajectory": "D_data",
           "value": 46755
          },
          {
           "sample_id": 0,
           "timepoint": 401,
           "trajectory": "D_data",
           "value": 46881
          },
          {
           "sample_id": 0,
           "timepoint": 402,
           "trajectory": "D_data",
           "value": 46991
          },
          {
           "sample_id": 0,
           "timepoint": 403,
           "trajectory": "D_data",
           "value": 47095
          },
          {
           "sample_id": 0,
           "timepoint": 404,
           "trajectory": "D_data",
           "value": 47187
          },
          {
           "sample_id": 0,
           "timepoint": 405,
           "trajectory": "D_data",
           "value": 47293
          },
          {
           "sample_id": 0,
           "timepoint": 406,
           "trajectory": "D_data",
           "value": 47413
          },
          {
           "sample_id": 0,
           "timepoint": 407,
           "trajectory": "D_data",
           "value": 47536
          },
          {
           "sample_id": 0,
           "timepoint": 408,
           "trajectory": "D_data",
           "value": 47650
          },
          {
           "sample_id": 0,
           "timepoint": 409,
           "trajectory": "D_data",
           "value": 47752
          },
          {
           "sample_id": 0,
           "timepoint": 410,
           "trajectory": "D_data",
           "value": 47840
          },
          {
           "sample_id": 0,
           "timepoint": 411,
           "trajectory": "D_data",
           "value": 47910
          },
          {
           "sample_id": 0,
           "timepoint": 412,
           "trajectory": "D_data",
           "value": 47984
          },
          {
           "sample_id": 0,
           "timepoint": 413,
           "trajectory": "D_data",
           "value": 48062
          },
          {
           "sample_id": 0,
           "timepoint": 414,
           "trajectory": "D_data",
           "value": 48181
          },
          {
           "sample_id": 0,
           "timepoint": 415,
           "trajectory": "D_data",
           "value": 48263
          },
          {
           "sample_id": 0,
           "timepoint": 416,
           "trajectory": "D_data",
           "value": 48358
          },
          {
           "sample_id": 0,
           "timepoint": 417,
           "trajectory": "D_data",
           "value": 48449
          },
          {
           "sample_id": 0,
           "timepoint": 418,
           "trajectory": "D_data",
           "value": 48523
          },
          {
           "sample_id": 0,
           "timepoint": 419,
           "trajectory": "D_data",
           "value": 48605
          },
          {
           "sample_id": 0,
           "timepoint": 420,
           "trajectory": "D_data",
           "value": 48673
          },
          {
           "sample_id": 0,
           "timepoint": 421,
           "trajectory": "D_data",
           "value": 48764
          },
          {
           "sample_id": 0,
           "timepoint": 422,
           "trajectory": "D_data",
           "value": 48852
          },
          {
           "sample_id": 0,
           "timepoint": 423,
           "trajectory": "D_data",
           "value": 48920
          },
          {
           "sample_id": 0,
           "timepoint": 424,
           "trajectory": "D_data",
           "value": 48945
          },
          {
           "sample_id": 0,
           "timepoint": 425,
           "trajectory": "D_data",
           "value": 48963
          },
          {
           "sample_id": 0,
           "timepoint": 426,
           "trajectory": "D_data",
           "value": 48981
          },
          {
           "sample_id": 0,
           "timepoint": 427,
           "trajectory": "D_data",
           "value": 49227
          },
          {
           "sample_id": 0,
           "timepoint": 428,
           "trajectory": "D_data",
           "value": 49299
          },
          {
           "sample_id": 0,
           "timepoint": 429,
           "trajectory": "D_data",
           "value": 49359
          },
          {
           "sample_id": 0,
           "timepoint": 430,
           "trajectory": "D_data",
           "value": 49446
          },
          {
           "sample_id": 0,
           "timepoint": 431,
           "trajectory": "D_data",
           "value": 49532
          },
          {
           "sample_id": 0,
           "timepoint": 432,
           "trajectory": "D_data",
           "value": 49682
          },
          {
           "sample_id": 0,
           "timepoint": 433,
           "trajectory": "D_data",
           "value": 49712
          },
          {
           "sample_id": 0,
           "timepoint": 434,
           "trajectory": "D_data",
           "value": 49790
          },
          {
           "sample_id": 0,
           "timepoint": 435,
           "trajectory": "D_data",
           "value": 49873
          },
          {
           "sample_id": 0,
           "timepoint": 436,
           "trajectory": "D_data",
           "value": 49958
          },
          {
           "sample_id": 0,
           "timepoint": 437,
           "trajectory": "D_data",
           "value": 50044
          },
          {
           "sample_id": 0,
           "timepoint": 438,
           "trajectory": "D_data",
           "value": 50125
          },
          {
           "sample_id": 0,
           "timepoint": 439,
           "trajectory": "D_data",
           "value": 50199
          },
          {
           "sample_id": 0,
           "timepoint": 440,
           "trajectory": "D_data",
           "value": 50245
          },
          {
           "sample_id": 0,
           "timepoint": 441,
           "trajectory": "D_data",
           "value": 50317
          },
          {
           "sample_id": 0,
           "timepoint": 442,
           "trajectory": "D_data",
           "value": 50390
          },
          {
           "sample_id": 0,
           "timepoint": 443,
           "trajectory": "D_data",
           "value": 50467
          },
          {
           "sample_id": 0,
           "timepoint": 444,
           "trajectory": "D_data",
           "value": 50535
          },
          {
           "sample_id": 0,
           "timepoint": 445,
           "trajectory": "D_data",
           "value": 50611
          },
          {
           "sample_id": 0,
           "timepoint": 446,
           "trajectory": "D_data",
           "value": 50698
          },
          {
           "sample_id": 0,
           "timepoint": 447,
           "trajectory": "D_data",
           "value": 50746
          },
          {
           "sample_id": 0,
           "timepoint": 448,
           "trajectory": "D_data",
           "value": 50821
          },
          {
           "sample_id": 0,
           "timepoint": 449,
           "trajectory": "D_data",
           "value": 50901
          },
          {
           "sample_id": 0,
           "timepoint": 450,
           "trajectory": "D_data",
           "value": 50972
          },
          {
           "sample_id": 0,
           "timepoint": 451,
           "trajectory": "D_data",
           "value": 51049
          },
          {
           "sample_id": 0,
           "timepoint": 452,
           "trajectory": "D_data",
           "value": 51097
          },
          {
           "sample_id": 0,
           "timepoint": 453,
           "trajectory": "D_data",
           "value": 51144
          },
          {
           "sample_id": 0,
           "timepoint": 454,
           "trajectory": "D_data",
           "value": 51207
          },
          {
           "sample_id": 0,
           "timepoint": 455,
           "trajectory": "D_data",
           "value": 51249
          },
          {
           "sample_id": 0,
           "timepoint": 456,
           "trajectory": "D_data",
           "value": 51335
          },
          {
           "sample_id": 0,
           "timepoint": 457,
           "trajectory": "D_data",
           "value": 51398
          },
          {
           "sample_id": 0,
           "timepoint": 458,
           "trajectory": "D_data",
           "value": 51455
          },
          {
           "sample_id": 0,
           "timepoint": 459,
           "trajectory": "D_data",
           "value": 51511
          },
          {
           "sample_id": 0,
           "timepoint": 460,
           "trajectory": "D_data",
           "value": 51545
          },
          {
           "sample_id": 0,
           "timepoint": 461,
           "trajectory": "D_data",
           "value": 51615
          },
          {
           "sample_id": 0,
           "timepoint": 462,
           "trajectory": "D_data",
           "value": 51643
          },
          {
           "sample_id": 0,
           "timepoint": 463,
           "trajectory": "D_data",
           "value": 51714
          },
          {
           "sample_id": 0,
           "timepoint": 464,
           "trajectory": "D_data",
           "value": 51766
          },
          {
           "sample_id": 0,
           "timepoint": 465,
           "trajectory": "D_data",
           "value": 51819
          },
          {
           "sample_id": 0,
           "timepoint": 466,
           "trajectory": "D_data",
           "value": 51865
          },
          {
           "sample_id": 0,
           "timepoint": 467,
           "trajectory": "D_data",
           "value": 51920
          },
          {
           "sample_id": 0,
           "timepoint": 468,
           "trajectory": "D_data",
           "value": 51973
          },
          {
           "sample_id": 0,
           "timepoint": 469,
           "trajectory": "D_data",
           "value": 52027
          },
          {
           "sample_id": 0,
           "timepoint": 470,
           "trajectory": "D_data",
           "value": 52072
          },
          {
           "sample_id": 0,
           "timepoint": 471,
           "trajectory": "D_data",
           "value": 52118
          },
          {
           "sample_id": 0,
           "timepoint": 472,
           "trajectory": "D_data",
           "value": 52167
          },
          {
           "sample_id": 0,
           "timepoint": 473,
           "trajectory": "D_data",
           "value": 52201
          },
          {
           "sample_id": 0,
           "timepoint": 474,
           "trajectory": "D_data",
           "value": 52238
          },
          {
           "sample_id": 0,
           "timepoint": 475,
           "trajectory": "D_data",
           "value": 52273
          },
          {
           "sample_id": 0,
           "timepoint": 476,
           "trajectory": "D_data",
           "value": 52319
          },
          {
           "sample_id": 0,
           "timepoint": 477,
           "trajectory": "D_data",
           "value": 52363
          },
          {
           "sample_id": 0,
           "timepoint": 478,
           "trajectory": "D_data",
           "value": 52411
          },
          {
           "sample_id": 0,
           "timepoint": 479,
           "trajectory": "D_data",
           "value": 52422
          },
          {
           "sample_id": 0,
           "timepoint": 480,
           "trajectory": "D_data",
           "value": 52468
          },
          {
           "sample_id": 0,
           "timepoint": 481,
           "trajectory": "D_data",
           "value": 52495
          },
          {
           "sample_id": 0,
           "timepoint": 482,
           "trajectory": "D_data",
           "value": 52528
          },
          {
           "sample_id": 0,
           "timepoint": 483,
           "trajectory": "D_data",
           "value": 52552
          },
          {
           "sample_id": 0,
           "timepoint": 484,
           "trajectory": "D_data",
           "value": 52582
          },
          {
           "sample_id": 0,
           "timepoint": 485,
           "trajectory": "D_data",
           "value": 52609
          },
          {
           "sample_id": 0,
           "timepoint": 486,
           "trajectory": "D_data",
           "value": 52636
          },
          {
           "sample_id": 0,
           "timepoint": 487,
           "trajectory": "D_data",
           "value": 52653
          },
          {
           "sample_id": 0,
           "timepoint": 488,
           "trajectory": "D_data",
           "value": 52683
          },
          {
           "sample_id": 0,
           "timepoint": 489,
           "trajectory": "D_data",
           "value": 52702
          },
          {
           "sample_id": 0,
           "timepoint": 490,
           "trajectory": "D_data",
           "value": 52728
          },
          {
           "sample_id": 0,
           "timepoint": 491,
           "trajectory": "D_data",
           "value": 52748
          },
          {
           "sample_id": 0,
           "timepoint": 492,
           "trajectory": "D_data",
           "value": 52771
          },
          {
           "sample_id": 0,
           "timepoint": 493,
           "trajectory": "D_data",
           "value": 52795
          },
          {
           "sample_id": 0,
           "timepoint": 494,
           "trajectory": "D_data",
           "value": 52812
          },
          {
           "sample_id": 0,
           "timepoint": 495,
           "trajectory": "D_data",
           "value": 52825
          },
          {
           "sample_id": 0,
           "timepoint": 496,
           "trajectory": "D_data",
           "value": 52849
          },
          {
           "sample_id": 0,
           "timepoint": 497,
           "trajectory": "D_data",
           "value": 52858
          },
          {
           "sample_id": 0,
           "timepoint": 498,
           "trajectory": "D_data",
           "value": 52879
          },
          {
           "sample_id": 0,
           "timepoint": 499,
           "trajectory": "D_data",
           "value": 52934
          },
          {
           "sample_id": 0,
           "timepoint": 500,
           "trajectory": "D_data",
           "value": 52953
          },
          {
           "sample_id": 0,
           "timepoint": 501,
           "trajectory": "D_data",
           "value": 52981
          },
          {
           "sample_id": 0,
           "timepoint": 502,
           "trajectory": "D_data",
           "value": 52991
          },
          {
           "sample_id": 0,
           "timepoint": 503,
           "trajectory": "D_data",
           "value": 53011
          },
          {
           "sample_id": 0,
           "timepoint": 504,
           "trajectory": "D_data",
           "value": 53019
          },
          {
           "sample_id": 0,
           "timepoint": 505,
           "trajectory": "D_data",
           "value": 53031
          },
          {
           "sample_id": 0,
           "timepoint": 506,
           "trajectory": "D_data",
           "value": 53052
          },
          {
           "sample_id": 0,
           "timepoint": 507,
           "trajectory": "D_data",
           "value": 53070
          },
          {
           "sample_id": 0,
           "timepoint": 508,
           "trajectory": "D_data",
           "value": 53081
          },
          {
           "sample_id": 0,
           "timepoint": 509,
           "trajectory": "D_data",
           "value": 53089
          },
          {
           "sample_id": 0,
           "timepoint": 510,
           "trajectory": "D_data",
           "value": 53100
          },
          {
           "sample_id": 0,
           "timepoint": 511,
           "trajectory": "D_data",
           "value": 53103
          },
          {
           "sample_id": 0,
           "timepoint": 512,
           "trajectory": "D_data",
           "value": 53111
          },
          {
           "sample_id": 0,
           "timepoint": 513,
           "trajectory": "D_data",
           "value": 53121
          },
          {
           "sample_id": 0,
           "timepoint": 514,
           "trajectory": "D_data",
           "value": 53129
          },
          {
           "sample_id": 0,
           "timepoint": 515,
           "trajectory": "D_data",
           "value": 53132
          },
          {
           "sample_id": 0,
           "timepoint": 516,
           "trajectory": "D_data",
           "value": 53139
          },
          {
           "sample_id": 0,
           "timepoint": 517,
           "trajectory": "D_data",
           "value": 53151
          },
          {
           "sample_id": 0,
           "timepoint": 518,
           "trajectory": "D_data",
           "value": 53156
          },
          {
           "sample_id": 0,
           "timepoint": 519,
           "trajectory": "D_data",
           "value": 53158
          },
          {
           "sample_id": 0,
           "timepoint": 520,
           "trajectory": "D_data",
           "value": 53168
          },
          {
           "sample_id": 0,
           "timepoint": 521,
           "trajectory": "D_data",
           "value": 53178
          },
          {
           "sample_id": 0,
           "timepoint": 522,
           "trajectory": "D_data",
           "value": 53189
          },
          {
           "sample_id": 0,
           "timepoint": 523,
           "trajectory": "D_data",
           "value": 53196
          },
          {
           "sample_id": 0,
           "timepoint": 524,
           "trajectory": "D_data",
           "value": 53202
          },
          {
           "sample_id": 0,
           "timepoint": 525,
           "trajectory": "D_data",
           "value": 53204
          },
          {
           "sample_id": 0,
           "timepoint": 526,
           "trajectory": "D_data",
           "value": 53214
          },
          {
           "sample_id": 0,
           "timepoint": 527,
           "trajectory": "D_data",
           "value": 53219
          },
          {
           "sample_id": 0,
           "timepoint": 528,
           "trajectory": "D_data",
           "value": 53219
          },
          {
           "sample_id": 0,
           "timepoint": 529,
           "trajectory": "D_data",
           "value": 53227
          },
          {
           "sample_id": 0,
           "timepoint": 530,
           "trajectory": "D_data",
           "value": 53230
          },
          {
           "sample_id": 0,
           "timepoint": 531,
           "trajectory": "D_data",
           "value": 53240
          },
          {
           "sample_id": 0,
           "timepoint": 532,
           "trajectory": "D_data",
           "value": 53245
          },
          {
           "sample_id": 0,
           "timepoint": 533,
           "trajectory": "D_data",
           "value": 53250
          },
          {
           "sample_id": 0,
           "timepoint": 534,
           "trajectory": "D_data",
           "value": 53255
          },
          {
           "sample_id": 0,
           "timepoint": 535,
           "trajectory": "D_data",
           "value": 53265
          },
          {
           "sample_id": 0,
           "timepoint": 536,
           "trajectory": "D_data",
           "value": 53267
          },
          {
           "sample_id": 0,
           "timepoint": 537,
           "trajectory": "D_data",
           "value": 53269
          },
          {
           "sample_id": 0,
           "timepoint": 538,
           "trajectory": "D_data",
           "value": 53273
          },
          {
           "sample_id": 0,
           "timepoint": 539,
           "trajectory": "D_data",
           "value": 53283
          },
          {
           "sample_id": 0,
           "timepoint": 540,
           "trajectory": "D_data",
           "value": 53287
          },
          {
           "sample_id": 0,
           "timepoint": 541,
           "trajectory": "D_data",
           "value": 53288
          },
          {
           "sample_id": 0,
           "timepoint": 542,
           "trajectory": "D_data",
           "value": 53296
          },
          {
           "sample_id": 0,
           "timepoint": 543,
           "trajectory": "D_data",
           "value": 53304
          },
          {
           "sample_id": 0,
           "timepoint": 544,
           "trajectory": "D_data",
           "value": 53308
          },
          {
           "sample_id": 0,
           "timepoint": 545,
           "trajectory": "D_data",
           "value": 53312
          },
          {
           "sample_id": 0,
           "timepoint": 546,
           "trajectory": "D_data",
           "value": 53318
          },
          {
           "sample_id": 0,
           "timepoint": 547,
           "trajectory": "D_data",
           "value": 53325
          },
          {
           "sample_id": 0,
           "timepoint": 548,
           "trajectory": "D_data",
           "value": 53328
          },
          {
           "sample_id": 0,
           "timepoint": 549,
           "trajectory": "D_data",
           "value": 53330
          },
          {
           "sample_id": 0,
           "timepoint": 550,
           "trajectory": "D_data",
           "value": 53339
          },
          {
           "sample_id": 0,
           "timepoint": 551,
           "trajectory": "D_data",
           "value": 53345
          },
          {
           "sample_id": 0,
           "timepoint": 552,
           "trajectory": "D_data",
           "value": 53347
          },
          {
           "sample_id": 0,
           "timepoint": 553,
           "trajectory": "D_data",
           "value": 53357
          },
          {
           "sample_id": 0,
           "timepoint": 554,
           "trajectory": "D_data",
           "value": 53361
          },
          {
           "sample_id": 0,
           "timepoint": 555,
           "trajectory": "D_data",
           "value": 53368
          },
          {
           "sample_id": 0,
           "timepoint": 556,
           "trajectory": "D_data",
           "value": 53378
          },
          {
           "sample_id": 0,
           "timepoint": 557,
           "trajectory": "D_data",
           "value": 53385
          },
          {
           "sample_id": 0,
           "timepoint": 558,
           "trajectory": "D_data",
           "value": 53392
          },
          {
           "sample_id": 0,
           "timepoint": 559,
           "trajectory": "D_data",
           "value": 53402
          },
          {
           "sample_id": 0,
           "timepoint": 560,
           "trajectory": "D_data",
           "value": 53405
          },
          {
           "sample_id": 0,
           "timepoint": 561,
           "trajectory": "D_data",
           "value": 53420
          },
          {
           "sample_id": 0,
           "timepoint": 562,
           "trajectory": "D_data",
           "value": 53428
          },
          {
           "sample_id": 0,
           "timepoint": 563,
           "trajectory": "D_data",
           "value": 53459
          },
          {
           "sample_id": 0,
           "timepoint": 564,
           "trajectory": "D_data",
           "value": 53472
          },
          {
           "sample_id": 0,
           "timepoint": 565,
           "trajectory": "D_data",
           "value": 53478
          },
          {
           "sample_id": 0,
           "timepoint": 566,
           "trajectory": "D_data",
           "value": 53488
          },
          {
           "sample_id": 0,
           "timepoint": 567,
           "trajectory": "D_data",
           "value": 53522
          },
          {
           "sample_id": 0,
           "timepoint": 568,
           "trajectory": "D_data",
           "value": 53548
          }
         ]
        },
        {
         "name": "markers",
         "values": []
        },
        {
         "name": "selected",
         "on": [
          {
           "remove": true,
           "trigger": "clear"
          },
          {
           "remove": true,
           "trigger": "!shift"
          },
          {
           "insert": "clicked",
           "trigger": "!shift && clicked"
          },
          {
           "toggle": "clicked",
           "trigger": "shift && clicked"
          }
         ]
        }
       ],
       "height": 300,
       "legends": [
        {
         "encode": {
          "labels": {
           "interactive": true,
           "name": "legendLabel",
           "update": {
            "opacity": [
             {
              "test": "!length(data('selected')) || indata('selected', 'value', datum.value)",
              "value": 1
             },
             {
              "value": 0.25
             }
            ]
           }
          },
          "symbols": {
           "interactive": true,
           "name": "legendSymbol",
           "update": {
            "fill": {
             "value": "transparent"
            },
            "opacity": [
             {
              "test": "!length(data('selected')) || indata('selected', 'value', datum.value)",
              "value": 0.7
             },
             {
              "value": 0.15
             }
            ],
            "size": {
             "value": 64
            },
            "strokeWidth": {
             "value": 2
            }
           }
          }
         },
         "name": "color_legend",
         "stroke": "color"
        }
       ],
       "marks": [
        {
         "from": {
          "facet": {
           "data": "points",
           "groupby": "trajectory",
           "name": "points_split"
          }
         },
         "marks": [
          {
           "encode": {
            "hover": {
             "fillOpacity": {
              "value": 0.9
             }
            },
            "update": {
             "fill": {
              "field": "trajectory",
              "scale": "color"
             },
             "fillOpacity": [
              {
               "test": "!length(data('selected')) || indata('selected', 'value', datum.trajectory)",
               "value": 0.5
              },
              {
               "value": 0.15
              }
             ],
             "size": {
              "value": 10
             },
             "stroke": {
              "field": "trajectory",
              "scale": "color"
             },
             "strokeOpacity": [
              {
               "test": "!length(data('selected')) || indata('selected', 'value', datum.trajectory)",
               "value": 0.75
              },
              {
               "value": 0.15
              }
             ],
             "strokeWidth": {
              "value": 2
             },
             "tooltip": {
              "field": "value"
             },
             "x": {
              "field": "timepoint",
              "scale": "xscale"
             },
             "y": {
              "field": "value",
              "scale": "yscale"
             }
            }
           },
           "from": {
            "data": "points"
           },
           "name": "_points_symbol",
           "type": "symbol",
           "zindex": 3
          },
          {
           "encode": {
            "hover": {
             "fillOpacity": {
              "value": 0.9
             }
            },
            "update": {
             "interpolate": {
              "value": "linear"
             },
             "stroke": {
              "field": "trajectory",
              "scale": "color"
             },
             "strokeOpacity": [
              {
               "test": "!length(data('selected')) || indata('selected', 'value', datum.trajectory)",
               "value": 0.3
              },
              {
               "value": 0.1
              }
             ],
             "strokeWidth": {
              "value": 2
             },
             "x": {
              "field": "timepoint",
              "scale": "xscale"
             },
             "y": {
              "field": "value",
              "scale": "yscale"
             }
            }
           },
           "from": {
            "data": "points"
           },
           "name": "_points_line",
           "type": "line",
           "zindex": 3
          }
         ],
         "name": "_points",
         "type": "group",
         "zindex": 3
        },
        {
         "from": {
          "facet": {
           "data": "traces",
           "groupby": "trajectory",
           "name": "traces_split"
          }
         },
         "marks": [
          {
           "encode": {
            "hover": {
             "fillOpacity": {
              "value": 0.9
             }
            },
            "update": {
             "interpolate": {
              "value": "linear"
             },
             "stroke": {
              "field": "trajectory",
              "scale": "color"
             },
             "strokeOpacity": [
              {
               "test": "!length(data('selected')) || indata('selected', 'value', datum.trajectory)",
               "value": 0.75
              },
              {
               "value": 0.15
              }
             ],
             "strokeWidth": {
              "value": 2
             },
             "x": {
              "field": "timepoint",
              "scale": "xscale"
             },
             "y": {
              "field": "value",
              "scale": "yscale"
             }
            }
           },
           "from": {
            "data": "traces_split"
           },
           "name": "_traces_lines",
           "type": "line"
          }
         ],
         "name": "_traces",
         "type": "group",
         "zindex": 2
        },
        {
         "from": {
          "facet": {
           "data": "distributions",
           "groupby": "trajectory",
           "name": "trajectory_split"
          }
         },
         "marks": [
          {
           "encode": {
            "hover": {
             "fillOpacity": {
              "value": 0.9
             }
            },
            "update": {
             "fill": {
              "field": "trajectory",
              "scale": "color"
             },
             "fillOpacity": [
              {
               "test": "!length(data('selected')) || indata('selected', 'value', datum.trajectory)",
               "value": 0.5
              },
              {
               "value": 0.15
              }
             ],
             "interpolate": {
              "value": "linear"
             },
             "stroke": {
              "field": "trajectory",
              "scale": "color"
             },
             "strokeOpacity": [
              {
               "test": "!length(data('selected')) || indata('selected', 'value', datum.trajectory)",
               "value": 0.75
              },
              {
               "value": 0.15
              }
             ],
             "strokeWidth": {
              "value": 2
             },
             "x": {
              "field": "timepoint",
              "scale": "xscale"
             },
             "y": {
              "field": "upper",
              "scale": "yscale"
             },
             "y2": {
              "field": "lower",
              "scale": "yscale"
             }
            }
           },
           "from": {
            "data": "trajectory_split"
           },
           "type": "area"
          }
         ],
         "name": "_distributions",
         "type": "group",
         "zindex": 1
        },
        {
         "marks": [
          {
           "encode": {
            "enter": {
             "stroke": {
              "value": "lightgray"
             }
            },
            "update": {
             "opacity": {
              "value": 1
             },
             "x": {
              "field": "timepoint",
              "scale": "xscale"
             },
             "y": {
              "signal": "height"
             },
             "y2": {
              "value": 0
             }
            }
           },
           "from": {
            "data": "markers"
           },
           "name": "_marker text",
           "type": "rule"
          },
          {
           "encode": {
            "enter": {
             "fontSize": {
              "value": 8
             },
             "text": {
              "field": "datum.label"
             },
             "y": {
              "value": 0
             }
            }
           },
           "from": {
            "data": "_marker text"
           },
           "name": "_marker flags",
           "transform": [
            {
             "as": [
              "x",
              "_y",
              "opacity",
              "align",
              "baseline"
             ],
             "lineAnchor": "start",
             "offset": [
              1
             ],
             "size": {
              "signal": "[width, height]"
             },
             "type": "label"
            }
           ],
           "type": "text"
          }
         ],
         "name": "_markers",
         "type": "group"
        }
       ],
       "padding": 5,
       "scales": [
        {
         "domain": {
          "fields": [
           {
            "data": "distributions",
            "field": "timepoint"
           },
           {
            "data": "traces",
            "field": "timepoint"
           },
           {
            "data": "points",
            "field": "timepoint"
           },
           {
            "data": "markers",
            "field": "timepoint"
           }
          ]
         },
         "name": "xscale",
         "range": "width",
         "type": "linear",
         "zero": false
        },
        {
         "domain": {
          "fields": [
           {
            "data": "distributions",
            "field": "lower"
           },
           {
            "data": "distributions",
            "field": "upper"
           },
           {
            "data": "traces",
            "field": "value"
           },
           {
            "data": "points",
            "field": "value"
           }
          ]
         },
         "name": "yscale",
         "nice": true,
         "range": "height",
         "type": "linear",
         "zero": true
        },
        {
         "domain": {
          "fields": [
           {
            "data": "distributions",
            "field": "trajectory"
           },
           {
            "data": "traces",
            "field": "trajectory"
           },
           {
            "data": "points",
            "field": "trajectory"
           }
          ]
         },
         "name": "color",
         "range": "category",
         "type": "ordinal"
        }
       ],
       "signals": [
        {
         "name": "clear",
         "on": [
          {
           "events": "mouseup[!event.item]",
           "force": true,
           "update": "true"
          }
         ],
         "value": true
        },
        {
         "name": "shift",
         "on": [
          {
           "events": "@legendSymbol:click, @legendLabel:click",
           "force": true,
           "update": "event.shiftKey"
          }
         ],
         "value": false
        },
        {
         "name": "clicked",
         "on": [
          {
           "events": "@legendSymbol:click, @legendLabel:click",
           "force": true,
           "update": "{value: datum.value}"
          }
         ],
         "value": null
        }
       ],
       "width": 500
      }
     },
     "metadata": {},
     "output_type": "display_data"
    }
   ],
   "source": [
    "schema = plots.trajectories(pd.DataFrame(result[\"data\"]), subset=\".*_sol\",\n",
    "                            points=test_data.reset_index(drop=True).rename(columns={\"I\":\"I_data\", \"H\":\"H_data\", \"D\":\"D_data\"}),\n",
    "                           )\n",
    "schema = plots.pad(schema, 5)\n",
    "plots.ipy_display(schema)"
   ]
  },
  {
   "cell_type": "markdown",
   "id": "847f9a21-870a-4b07-804b-1c44d474c094",
   "metadata": {},
   "source": [
    "## Load, calibrate and sample an ensemble of several models"
   ]
  },
  {
   "cell_type": "code",
   "execution_count": null,
   "id": "7e10b282-a55a-4e72-afea-cb6c752f25c5",
   "metadata": {},
   "outputs": [
    {
     "name": "stdout",
     "output_type": "stream",
     "text": [
      "iteration 0: loss = 57055.510676562786\n"
     ]
    }
   ],
   "source": [
    "num_samples = 2\n",
    "model_paths = [model1_location, model4_location, model6_location]\n",
    "data_path = \"../../notebook/ensemble_eval_sa/NY_data2.csv\"\n",
    "weights = [1/3, 1/3, 1/3]\n",
    "solution_mappings = [{\"I\": \"I\", \"H\": \"H\", \"D\": \"D\"},\n",
    "                     {\"I\": \"I\", \"H\": \"H\", \"D\": \"D\"}, \n",
    "                     {\"I\": \"Cases\", \"H\": \"Hosp\", \"D\": \"Deaths\"},\n",
    "                     ]\n",
    "\n",
    "# Run the calibration and sampling\n",
    "result = load_and_calibrate_and_sample_ensemble_model(\n",
    "    model_paths,\n",
    "    data_path,\n",
    "    weights,\n",
    "    solution_mappings,\n",
    "    num_samples,\n",
    "    timepoints,\n",
    "    verbose=True,\n",
    "    total_population=19340000,\n",
    "    num_iterations=200,\n",
    "    time_unit=\"days\",\n",
    "    visual_options={\"title\": \"Calibrated Ensemble\", \"subset\":\".*_sol\"}\n",
    ")\n",
    "\n",
    "# # Save results\n",
    "# result[\"data\"].to_csv(\n",
    "#     os.path.join(DEMO_PATH, \"results_petri_ensemble/calibrated_sample_results.csv\"), index=False\n",
    "# )\n",
    "# result[\"quantiles\"].to_csv(\n",
    "#     os.path.join(DEMO_PATH, \"results_petri_ensemble/calibrated_quantile_results.csv\"), index=False\n",
    "# )\n",
    "\n",
    "# Plot results\n",
    "schema = plots.trajectories(pd.DataFrame(result[\"data\"]), subset=\".*_sol\",\n",
    "                            points=test_data.reset_index(drop=True).rename(columns={\"I\":\"I_data\", \"H\":\"H_data\", \"D\":\"D_data\"}),\n",
    "                           )\n",
    "schema = plots.pad(schema, 5)\n",
    "plots.ipy_display(schema)"
   ]
  },
  {
   "cell_type": "code",
   "execution_count": null,
   "id": "e80201a8-7542-4532-a86f-c885c2e18073",
   "metadata": {},
   "outputs": [],
   "source": []
  }
 ],
 "metadata": {
  "kernelspec": {
   "display_name": "Python 3 (ipykernel)",
   "language": "python",
   "name": "python3"
  },
  "language_info": {
   "codemirror_mode": {
    "name": "ipython",
    "version": 3
   },
   "file_extension": ".py",
   "mimetype": "text/x-python",
   "name": "python",
   "nbconvert_exporter": "python",
   "pygments_lexer": "ipython3",
   "version": "3.10.9"
  }
 },
 "nbformat": 4,
 "nbformat_minor": 5
}
