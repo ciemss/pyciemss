{
 "cells": [
  {
   "cell_type": "markdown",
   "id": "669c02c9",
   "metadata": {},
   "source": [
    "# Ensemble Challenge: Timepoint 2\n",
    "\n",
    "Goal: to capture the complexity and nuances around the evolution of the pandemic at various stages and locations.\n",
    "\n",
    "Location A: New York State\n",
    "Consider the following settings:\n",
    "Timepoint 1: April 3, 2020. Setting: New York State at the beginning of the pandemic when masking was the main preventative measure. No vaccines available.\n",
    "\n",
    "Timepoint 2: July 15, 2021. Setting: New York State upon the arrival of the Delta variant. Vaccines available.\n",
    "\n",
    "Timepoint 3: January 4, 2022. Setting: New York State coinciding with the arrival of the first Omicron wave. At-home testing widely available.\n",
    "\n",
    "BONUS: Consider the same three time points, but change the setting to Texas, which had different COVID-19 dynamics compared to the Northeastern states.\n",
    "\n",
    "...and related questions for each:\n",
    "What is the most relevant data to use for model calibration?\n",
    "What was our understanding of COVID-19 viral mechanisms at the time? For example, early in the pandemic, we didn't know if reinfection was a common occurance, or even possible.\n",
    "What are the parameters related to contagiousness/transmissibility and severity of the dominant strain at the time?\n",
    "What policies were in place for a stated location, and how can this information be incorporated into models? (See https://www.bsg.ox.ac.uk/research/covid-19-government-response-tracker for time series of interventions).\n",
    "Also--this is a good source for parameters: https://www.cdc.gov/coronavirus/2019-ncov/hcp/planning-scenarios.html\n",
    "\n",
    "For each timepoint:\n",
    "(a) Take a single model, calibrate it using any historical data prior to the given date, and create a 4-week forecast for cases, hospitalizations, and deaths beginning on the given date. (b) Evaluate the forecast using the COVID-19 Forecasting Hub Error Metrics (WIS, MAE). The single model evaluation should be done in the same way as the ensemble.\n",
    "\n",
    "Repeat (1), but with an ensemble of different models.\n",
    "\n",
    "a. It is fine to calibrate each model independently and weight naively.\n",
    "\n",
    "b. It would also be fine to calibrate the ensemble as a whole, assigning weights to the different component models, so that you minimize the error of the ensemble vs. historical data.\n",
    "\n",
    "c. Use the calibration scores and error metrics computed by the CDC Forecasting Hub. As stated on their website:\n",
    "\n",
    "“Periodically, we evaluate the accuracy and precision of the ensemble forecast and component models over recent and historical forecasting periods. Models forecasting incident hospitalizations at a national and state level are evaluated using adjusted relative weighted interval scores (WIS, a measure of distributional accuracy), and adjusted relative mean absolute error (MAE), and calibration scores. Scores are evaluated across weeks, locations, and targets. You can read a paper explaining these procedures in more detail, and look at the most recent monthly evaluation reports. The final report that includes case and death forecast evaluations is 2023-03-13.”\n",
    "\n",
    "Produce the forecast outputs in the format specified by the CDC forecasting challenge, including the specified quantiles.\n",
    "\n",
    "Data\n",
    "Use the following data sources:\n",
    "\n",
    "Cases: Johns Hopkins, Reich Lab (pulled from Johns Hopkins, but formatted)\n",
    "\n",
    "Hospitalizations: HealthData.gov\n",
    "\n",
    "Deaths: Johns Hopkins, Reich Lab"
   ]
  },
  {
   "cell_type": "markdown",
   "id": "1fda4fda-2bd7-468c-8e91-d0d4323074c2",
   "metadata": {},
   "source": [
    "### Load dependencies"
   ]
  },
  {
   "cell_type": "code",
   "execution_count": 1,
   "id": "13880386",
   "metadata": {},
   "outputs": [],
   "source": [
    "import os\n",
    "import pandas as pd\n",
    "import numpy as np\n",
    "from pyciemss.Ensemble.interfaces import (\n",
    "    load_and_sample_petri_ensemble, load_and_calibrate_and_sample_ensemble_model\n",
    ")\n",
    "from pyciemss.PetriNetODE.interfaces import (\n",
    "    load_and_sample_petri_model,\n",
    "    load_and_calibrate_and_sample_petri_model,\n",
    "    load_and_optimize_and_sample_petri_model,\n",
    "    load_and_calibrate_and_optimize_and_sample_petri_model\n",
    ")\n",
    "from pyciemss.visuals import plots"
   ]
  },
  {
   "cell_type": "markdown",
   "id": "2fab9bd4-3f9d-42e0-8fd5-e91bff3d81ba",
   "metadata": {},
   "source": [
    "## Get data"
   ]
  },
  {
   "cell_type": "code",
   "execution_count": 2,
   "id": "7a4942e1-ac95-4c72-9233-dd004cdf75c0",
   "metadata": {},
   "outputs": [],
   "source": [
    "url = 'https://raw.githubusercontent.com/DARPA-ASKEM/experiments/main/thin-thread-examples/milestone_12month/evaluation/ensemble_eval_SA/datasets/aabb3684-a7ea-4f60-98f1-a8e673ad6df5/dataset.csv'\n",
    "ny_data = pd.read_csv(url)\n",
    "\n",
    "# Grab test data for four-week forecast (07/15/2021 - 05/01/2020)\n",
    "test_data = ny_data[0:569].drop(columns=\"timestep\")\n",
    "\n",
    "# Select historical data up to Timepoint 2, 07/14/2021 (the first 541 rows)\n",
    "ny_data = ny_data[0:540]\n",
    "ny_data[[\"I\", \"H\", \"D\"]].to_csv(\"NY_data2.csv\")"
   ]
  },
  {
   "cell_type": "code",
   "execution_count": 3,
   "id": "587895e6-d1f5-4240-9457-f3632b20ddc2",
   "metadata": {},
   "outputs": [
    {
     "data": {
      "text/html": [
       "<div>\n",
       "<style scoped>\n",
       "    .dataframe tbody tr th:only-of-type {\n",
       "        vertical-align: middle;\n",
       "    }\n",
       "\n",
       "    .dataframe tbody tr th {\n",
       "        vertical-align: top;\n",
       "    }\n",
       "\n",
       "    .dataframe thead th {\n",
       "        text-align: right;\n",
       "    }\n",
       "</style>\n",
       "<table border=\"1\" class=\"dataframe\">\n",
       "  <thead>\n",
       "    <tr style=\"text-align: right;\">\n",
       "      <th></th>\n",
       "      <th>I</th>\n",
       "      <th>H</th>\n",
       "      <th>D</th>\n",
       "    </tr>\n",
       "  </thead>\n",
       "  <tbody>\n",
       "    <tr>\n",
       "      <th>0</th>\n",
       "      <td>0.0</td>\n",
       "      <td>NaN</td>\n",
       "      <td>0.0</td>\n",
       "    </tr>\n",
       "    <tr>\n",
       "      <th>1</th>\n",
       "      <td>0.0</td>\n",
       "      <td>NaN</td>\n",
       "      <td>0.0</td>\n",
       "    </tr>\n",
       "    <tr>\n",
       "      <th>2</th>\n",
       "      <td>0.0</td>\n",
       "      <td>NaN</td>\n",
       "      <td>0.0</td>\n",
       "    </tr>\n",
       "    <tr>\n",
       "      <th>3</th>\n",
       "      <td>0.0</td>\n",
       "      <td>NaN</td>\n",
       "      <td>0.0</td>\n",
       "    </tr>\n",
       "    <tr>\n",
       "      <th>4</th>\n",
       "      <td>0.0</td>\n",
       "      <td>NaN</td>\n",
       "      <td>0.0</td>\n",
       "    </tr>\n",
       "    <tr>\n",
       "      <th>...</th>\n",
       "      <td>...</td>\n",
       "      <td>...</td>\n",
       "      <td>...</td>\n",
       "    </tr>\n",
       "    <tr>\n",
       "      <th>564</th>\n",
       "      <td>18270.0</td>\n",
       "      <td>242.0</td>\n",
       "      <td>53472.0</td>\n",
       "    </tr>\n",
       "    <tr>\n",
       "      <th>565</th>\n",
       "      <td>17412.0</td>\n",
       "      <td>227.0</td>\n",
       "      <td>53478.0</td>\n",
       "    </tr>\n",
       "    <tr>\n",
       "      <th>566</th>\n",
       "      <td>15849.0</td>\n",
       "      <td>285.0</td>\n",
       "      <td>53488.0</td>\n",
       "    </tr>\n",
       "    <tr>\n",
       "      <th>567</th>\n",
       "      <td>18751.0</td>\n",
       "      <td>301.0</td>\n",
       "      <td>53522.0</td>\n",
       "    </tr>\n",
       "    <tr>\n",
       "      <th>568</th>\n",
       "      <td>19141.0</td>\n",
       "      <td>316.0</td>\n",
       "      <td>53548.0</td>\n",
       "    </tr>\n",
       "  </tbody>\n",
       "</table>\n",
       "<p>569 rows × 3 columns</p>\n",
       "</div>"
      ],
      "text/plain": [
       "           I      H        D\n",
       "0        0.0    NaN      0.0\n",
       "1        0.0    NaN      0.0\n",
       "2        0.0    NaN      0.0\n",
       "3        0.0    NaN      0.0\n",
       "4        0.0    NaN      0.0\n",
       "..       ...    ...      ...\n",
       "564  18270.0  242.0  53472.0\n",
       "565  17412.0  227.0  53478.0\n",
       "566  15849.0  285.0  53488.0\n",
       "567  18751.0  301.0  53522.0\n",
       "568  19141.0  316.0  53548.0\n",
       "\n",
       "[569 rows x 3 columns]"
      ]
     },
     "execution_count": 3,
     "metadata": {},
     "output_type": "execute_result"
    }
   ],
   "source": [
    "test_data"
   ]
  },
  {
   "cell_type": "code",
   "execution_count": 4,
   "id": "9de130b1-0ced-40f7-98f3-7db60392c1d6",
   "metadata": {},
   "outputs": [
    {
     "data": {
      "text/html": [
       "<div>\n",
       "<style scoped>\n",
       "    .dataframe tbody tr th:only-of-type {\n",
       "        vertical-align: middle;\n",
       "    }\n",
       "\n",
       "    .dataframe tbody tr th {\n",
       "        vertical-align: top;\n",
       "    }\n",
       "\n",
       "    .dataframe thead th {\n",
       "        text-align: right;\n",
       "    }\n",
       "</style>\n",
       "<table border=\"1\" class=\"dataframe\">\n",
       "  <thead>\n",
       "    <tr style=\"text-align: right;\">\n",
       "      <th></th>\n",
       "      <th>timestep</th>\n",
       "      <th>I</th>\n",
       "      <th>H</th>\n",
       "      <th>D</th>\n",
       "    </tr>\n",
       "  </thead>\n",
       "  <tbody>\n",
       "    <tr>\n",
       "      <th>0</th>\n",
       "      <td>0.0</td>\n",
       "      <td>0.0</td>\n",
       "      <td>NaN</td>\n",
       "      <td>0.0</td>\n",
       "    </tr>\n",
       "    <tr>\n",
       "      <th>1</th>\n",
       "      <td>1.0</td>\n",
       "      <td>0.0</td>\n",
       "      <td>NaN</td>\n",
       "      <td>0.0</td>\n",
       "    </tr>\n",
       "    <tr>\n",
       "      <th>2</th>\n",
       "      <td>2.0</td>\n",
       "      <td>0.0</td>\n",
       "      <td>NaN</td>\n",
       "      <td>0.0</td>\n",
       "    </tr>\n",
       "    <tr>\n",
       "      <th>3</th>\n",
       "      <td>3.0</td>\n",
       "      <td>0.0</td>\n",
       "      <td>NaN</td>\n",
       "      <td>0.0</td>\n",
       "    </tr>\n",
       "    <tr>\n",
       "      <th>4</th>\n",
       "      <td>4.0</td>\n",
       "      <td>0.0</td>\n",
       "      <td>NaN</td>\n",
       "      <td>0.0</td>\n",
       "    </tr>\n",
       "    <tr>\n",
       "      <th>...</th>\n",
       "      <td>...</td>\n",
       "      <td>...</td>\n",
       "      <td>...</td>\n",
       "      <td>...</td>\n",
       "    </tr>\n",
       "    <tr>\n",
       "      <th>535</th>\n",
       "      <td>535.0</td>\n",
       "      <td>2813.0</td>\n",
       "      <td>48.0</td>\n",
       "      <td>53265.0</td>\n",
       "    </tr>\n",
       "    <tr>\n",
       "      <th>536</th>\n",
       "      <td>536.0</td>\n",
       "      <td>3304.0</td>\n",
       "      <td>57.0</td>\n",
       "      <td>53267.0</td>\n",
       "    </tr>\n",
       "    <tr>\n",
       "      <th>537</th>\n",
       "      <td>537.0</td>\n",
       "      <td>3575.0</td>\n",
       "      <td>54.0</td>\n",
       "      <td>53269.0</td>\n",
       "    </tr>\n",
       "    <tr>\n",
       "      <th>538</th>\n",
       "      <td>538.0</td>\n",
       "      <td>3547.0</td>\n",
       "      <td>58.0</td>\n",
       "      <td>53273.0</td>\n",
       "    </tr>\n",
       "    <tr>\n",
       "      <th>539</th>\n",
       "      <td>539.0</td>\n",
       "      <td>3541.0</td>\n",
       "      <td>88.0</td>\n",
       "      <td>53283.0</td>\n",
       "    </tr>\n",
       "  </tbody>\n",
       "</table>\n",
       "<p>540 rows × 4 columns</p>\n",
       "</div>"
      ],
      "text/plain": [
       "     timestep       I     H        D\n",
       "0         0.0     0.0   NaN      0.0\n",
       "1         1.0     0.0   NaN      0.0\n",
       "2         2.0     0.0   NaN      0.0\n",
       "3         3.0     0.0   NaN      0.0\n",
       "4         4.0     0.0   NaN      0.0\n",
       "..        ...     ...   ...      ...\n",
       "535     535.0  2813.0  48.0  53265.0\n",
       "536     536.0  3304.0  57.0  53267.0\n",
       "537     537.0  3575.0  54.0  53269.0\n",
       "538     538.0  3547.0  58.0  53273.0\n",
       "539     539.0  3541.0  88.0  53283.0\n",
       "\n",
       "[540 rows x 4 columns]"
      ]
     },
     "execution_count": 4,
     "metadata": {},
     "output_type": "execute_result"
    }
   ],
   "source": [
    "ny_data"
   ]
  },
  {
   "cell_type": "markdown",
   "id": "5d809e73-ddcc-409e-8378-5a4047c1b50e",
   "metadata": {},
   "source": [
    "## Set up timepoints"
   ]
  },
  {
   "cell_type": "code",
   "execution_count": 10,
   "id": "006c142f-dfea-498f-a9b2-342fbee162ea",
   "metadata": {},
   "outputs": [],
   "source": [
    "start_timepoint = 0\n",
    "stop_timepoint = 540 + 28 # simulate for four weeks after end of data\n",
    "timepoints = [float(i) for i in range(stop_timepoint + 1)]"
   ]
  },
  {
   "cell_type": "markdown",
   "id": "2ab1a51e-ccb6-4d74-8e8c-71893a1975a7",
   "metadata": {},
   "source": [
    "## Select relevant models"
   ]
  },
  {
   "cell_type": "code",
   "execution_count": 8,
   "id": "459be6a2-d0ba-457f-9d47-dbd63a2ab57d",
   "metadata": {},
   "outputs": [],
   "source": [
    "model1_location = \"../../notebook/ensemble_eval_sa/backburner_models/SEIRHDS_V1.json\"\n",
    "model2_location = \"../../notebook/ensemble_eval_sa/SEIRHDS_basic_config.json\"\n",
    "model3_location = \"../../notebook/ensemble_eval_sa/SIRHD_age_stratified.json\"\n",
    "model4_location = \"../../notebook/ensemble_eval_sa/SIRHD_vacc_var_V1.json\"\n",
    "model5_location = \"../../notebook/ensemble_eval_sa/SIRHD_age_vacc_var.json\"\n",
    "model6_location = \"../../notebook/ensemble_eval_sa/SIRHD_mask_V3.json\"\n",
    "model7_location = \"../../notebook/ensemble_eval_sa/SIRHD_V1C.json\"\n",
    "model8_location = \"../../notebook/ensemble_eval_sa/SEIRD_ymo_age_strat.json\""
   ]
  },
  {
   "cell_type": "markdown",
   "id": "6a860cfb-04e4-48f8-8912-c2c5565e1faa",
   "metadata": {},
   "source": [
    "## Load, calibrate and sample an ensemble of one model"
   ]
  },
  {
   "cell_type": "code",
   "execution_count": 11,
   "id": "8328b097-70b7-41fc-98fc-1d6a7a06824c",
   "metadata": {},
   "outputs": [
    {
     "name": "stdout",
     "output_type": "stream",
     "text": [
      "iteration 0: loss = 54205.68991500139\n",
      "iteration 25: loss = 36810.957895338535\n",
      "iteration 50: loss = 30806.685832440853\n",
      "iteration 75: loss = 28566.004957020283\n",
      "\n"
     ]
    },
    {
     "data": {
      "application/vnd.vega.v5+json": {
       "$schema": "https://vega.github.io/schema/vega/v5.json",
       "axes": [
        {
         "name": "x_axis",
         "orient": "bottom",
         "scale": "xscale",
         "zindex": 100
        },
        {
         "name": "y_axis",
         "orient": "left",
         "scale": "yscale",
         "zindex": 100
        }
       ],
       "data": [
        {
         "name": "distributions",
         "values": [
          {
           "lower": 3.498906500104561e-24,
           "timepoint": 0,
           "trajectory": "D_sol",
           "upper": 3.7259837798756386e-24
          },
          {
           "lower": 0.00029974244826007633,
           "timepoint": 1,
           "trajectory": "D_sol",
           "upper": 0.00031986221147235484
          },
          {
           "lower": 0.001046652701916173,
           "timepoint": 2,
           "trajectory": "D_sol",
           "upper": 0.0011177883425261825
          },
          {
           "lower": 0.002090173680335283,
           "timepoint": 3,
           "trajectory": "D_sol",
           "upper": 0.0022313274443149568
          },
          {
           "lower": 0.0033462139428593217,
           "timepoint": 4,
           "trajectory": "D_sol",
           "upper": 0.0035669490578584375
          },
          {
           "lower": 0.004768149484880269,
           "timepoint": 5,
           "trajectory": "D_sol",
           "upper": 0.005070518678985536
          },
          {
           "lower": 0.006330785341560841,
           "timepoint": 6,
           "trajectory": "D_sol",
           "upper": 0.006710745394229889
          },
          {
           "lower": 0.008021353650838137,
           "timepoint": 7,
           "trajectory": "D_sol",
           "upper": 0.008469834085553884
          },
          {
           "lower": 0.00983451995998621,
           "timepoint": 8,
           "trajectory": "D_sol",
           "upper": 0.010338094644248485
          },
          {
           "lower": 0.011769514251500367,
           "timepoint": 9,
           "trajectory": "D_sol",
           "upper": 0.012310879584401847
          },
          {
           "lower": 0.013828431209549307,
           "timepoint": 10,
           "trajectory": "D_sol",
           "upper": 0.01438666512258351
          },
          {
           "lower": 0.016015323530882596,
           "timepoint": 11,
           "trajectory": "D_sol",
           "upper": 0.01656602630391717
          },
          {
           "lower": 0.01833563083782792,
           "timepoint": 12,
           "trajectory": "D_sol",
           "upper": 0.018850945215672255
          },
          {
           "lower": 0.020795816835016013,
           "timepoint": 13,
           "trajectory": "D_sol",
           "upper": 0.021244387794286012
          },
          {
           "lower": 0.023403214756399393,
           "timepoint": 14,
           "trajectory": "D_sol",
           "upper": 0.02375006629154086
          },
          {
           "lower": 0.026165849436074494,
           "timepoint": 15,
           "trajectory": "D_sol",
           "upper": 0.026372226979583503
          },
          {
           "lower": 0.02909261267632246,
           "timepoint": 16,
           "trajectory": "D_sol",
           "upper": 0.029115629382431507
          },
          {
           "lower": 0.03198542911559343,
           "timepoint": 17,
           "trajectory": "D_sol",
           "upper": 0.03219278063625097
          },
          {
           "lower": 0.034987126290798184,
           "timepoint": 18,
           "trajectory": "D_sol",
           "upper": 0.03547644168138504
          },
          {
           "lower": 0.03812660966068506,
           "timepoint": 19,
           "trajectory": "D_sol",
           "upper": 0.03895439635962248
          },
          {
           "lower": 0.04141007382422686,
           "timepoint": 20,
           "trajectory": "D_sol",
           "upper": 0.042637992464005944
          },
          {
           "lower": 0.04484393373131752,
           "timepoint": 21,
           "trajectory": "D_sol",
           "upper": 0.04653927758336067
          },
          {
           "lower": 0.04843516983091831,
           "timepoint": 22,
           "trajectory": "D_sol",
           "upper": 0.05067118667066097
          },
          {
           "lower": 0.05219091195613146,
           "timepoint": 23,
           "trajectory": "D_sol",
           "upper": 0.05504734721034765
          },
          {
           "lower": 0.05611873529851437,
           "timepoint": 24,
           "trajectory": "D_sol",
           "upper": 0.05968220420181751
          },
          {
           "lower": 0.06022653933614493,
           "timepoint": 25,
           "trajectory": "D_sol",
           "upper": 0.06459099967032671
          },
          {
           "lower": 0.06452248021960258,
           "timepoint": 26,
           "trajectory": "D_sol",
           "upper": 0.0697900302708149
          },
          {
           "lower": 0.06901536546647549,
           "timepoint": 27,
           "trajectory": "D_sol",
           "upper": 0.07529650218784809
          },
          {
           "lower": 0.07371417544782162,
           "timepoint": 28,
           "trajectory": "D_sol",
           "upper": 0.08112849183380604
          },
          {
           "lower": 0.07862849570810795,
           "timepoint": 29,
           "trajectory": "D_sol",
           "upper": 0.08730544857680797
          },
          {
           "lower": 0.08376818709075451,
           "timepoint": 30,
           "trajectory": "D_sol",
           "upper": 0.09384776093065739
          },
          {
           "lower": 0.08914364911615849,
           "timepoint": 31,
           "trajectory": "D_sol",
           "upper": 0.10077706687152385
          },
          {
           "lower": 0.09476576186716557,
           "timepoint": 32,
           "trajectory": "D_sol",
           "upper": 0.10811635665595531
          },
          {
           "lower": 0.10064595304429531,
           "timepoint": 33,
           "trajectory": "D_sol",
           "upper": 0.11588990576565265
          },
          {
           "lower": 0.10679615810513496,
           "timepoint": 34,
           "trajectory": "D_sol",
           "upper": 0.12412345632910729
          },
          {
           "lower": 0.11322883702814579,
           "timepoint": 35,
           "trajectory": "D_sol",
           "upper": 0.13284440152347088
          },
          {
           "lower": 0.11995679996907711,
           "timepoint": 36,
           "trajectory": "D_sol",
           "upper": 0.14208182580769063
          },
          {
           "lower": 0.126994027197361,
           "timepoint": 37,
           "trajectory": "D_sol",
           "upper": 0.15186531990766525
          },
          {
           "lower": 0.13435475677251815,
           "timepoint": 38,
           "trajectory": "D_sol",
           "upper": 0.16222856789827347
          },
          {
           "lower": 0.1420539416372776,
           "timepoint": 39,
           "trajectory": "D_sol",
           "upper": 0.17320529147982597
          },
          {
           "lower": 0.15010721683502198,
           "timepoint": 40,
           "trajectory": "D_sol",
           "upper": 0.18483211398124694
          },
          {
           "lower": 0.15853103175759314,
           "timepoint": 41,
           "trajectory": "D_sol",
           "upper": 0.19714745208621026
          },
          {
           "lower": 0.1673425815999508,
           "timepoint": 42,
           "trajectory": "D_sol",
           "upper": 0.21019262745976447
          },
          {
           "lower": 0.17655957415699958,
           "timepoint": 43,
           "trajectory": "D_sol",
           "upper": 0.22401038631796838
          },
          {
           "lower": 0.18620110526680947,
           "timepoint": 44,
           "trajectory": "D_sol",
           "upper": 0.2386467806994915
          },
          {
           "lower": 0.19628673195838928,
           "timepoint": 45,
           "trajectory": "D_sol",
           "upper": 0.25415045619010923
          },
          {
           "lower": 0.20683706551790237,
           "timepoint": 46,
           "trajectory": "D_sol",
           "upper": 0.2705729231238365
          },
          {
           "lower": 0.2178739458322525,
           "timepoint": 47,
           "trajectory": "D_sol",
           "upper": 0.2879689186811447
          },
          {
           "lower": 0.22941961213946344,
           "timepoint": 48,
           "trajectory": "D_sol",
           "upper": 0.3063954032957554
          },
          {
           "lower": 0.24149783328175545,
           "timepoint": 49,
           "trajectory": "D_sol",
           "upper": 0.32591452822089195
          },
          {
           "lower": 0.25413325130939485,
           "timepoint": 50,
           "trajectory": "D_sol",
           "upper": 0.3465910881757736
          },
          {
           "lower": 0.2673519626259804,
           "timepoint": 51,
           "trajectory": "D_sol",
           "upper": 0.36849283427000046
          },
          {
           "lower": 0.28118101358413694,
           "timepoint": 52,
           "trajectory": "D_sol",
           "upper": 0.3916934967041016
          },
          {
           "lower": 0.29564875811338426,
           "timepoint": 53,
           "trajectory": "D_sol",
           "upper": 0.41626938730478286
          },
          {
           "lower": 0.3107850357890129,
           "timepoint": 54,
           "trajectory": "D_sol",
           "upper": 0.44230466037988664
          },
          {
           "lower": 0.32662094235420225,
           "timepoint": 55,
           "trajectory": "D_sol",
           "upper": 0.4698831975460052
          },
          {
           "lower": 0.3431891158223152,
           "timepoint": 56,
           "trajectory": "D_sol",
           "upper": 0.49909779876470567
          },
          {
           "lower": 0.36052364110946655,
           "timepoint": 57,
           "trajectory": "D_sol",
           "upper": 0.5300446152687073
          },
          {
           "lower": 0.37866018116474154,
           "timepoint": 58,
           "trajectory": "D_sol",
           "upper": 0.5628277868032455
          },
          {
           "lower": 0.3976362839341164,
           "timepoint": 59,
           "trajectory": "D_sol",
           "upper": 0.5975566908717156
          },
          {
           "lower": 0.41749094128608705,
           "timepoint": 60,
           "trajectory": "D_sol",
           "upper": 0.6343461453914643
          },
          {
           "lower": 0.4382650747895241,
           "timepoint": 61,
           "trajectory": "D_sol",
           "upper": 0.6733192011713982
          },
          {
           "lower": 0.46000338792800904,
           "timepoint": 62,
           "trajectory": "D_sol",
           "upper": 0.7146042466163635
          },
          {
           "lower": 0.48274867832660673,
           "timepoint": 63,
           "trajectory": "D_sol",
           "upper": 0.7583401292562485
          },
          {
           "lower": 0.5065489873290062,
           "timepoint": 64,
           "trajectory": "D_sol",
           "upper": 0.8046714499592781
          },
          {
           "lower": 0.5314530819654465,
           "timepoint": 65,
           "trajectory": "D_sol",
           "upper": 0.8537549883127212
          },
          {
           "lower": 0.5575135558843612,
           "timepoint": 66,
           "trajectory": "D_sol",
           "upper": 0.9057515650987625
          },
          {
           "lower": 0.584783872961998,
           "timepoint": 67,
           "trajectory": "D_sol",
           "upper": 0.9608353167772293
          },
          {
           "lower": 0.613320779800415,
           "timepoint": 68,
           "trajectory": "D_sol",
           "upper": 1.0191896438598633
          },
          {
           "lower": 0.6431850641965866,
           "timepoint": 69,
           "trajectory": "D_sol",
           "upper": 1.0810092836618423
          },
          {
           "lower": 0.674437302350998,
           "timepoint": 70,
           "trajectory": "D_sol",
           "upper": 1.1464999735355377
          },
          {
           "lower": 0.7071432650089264,
           "timepoint": 71,
           "trajectory": "D_sol",
           "upper": 1.2158803164958953
          },
          {
           "lower": 0.7413712292909622,
           "timepoint": 72,
           "trajectory": "D_sol",
           "upper": 1.289381131529808
          },
          {
           "lower": 0.7771916955709457,
           "timepoint": 73,
           "trajectory": "D_sol",
           "upper": 1.3672475844621659
          },
          {
           "lower": 0.8146812528371811,
           "timepoint": 74,
           "trajectory": "D_sol",
           "upper": 1.449740746617317
          },
          {
           "lower": 0.8539174884557724,
           "timepoint": 75,
           "trajectory": "D_sol",
           "upper": 1.5371331483125685
          },
          {
           "lower": 0.8949824839830398,
           "timepoint": 76,
           "trajectory": "D_sol",
           "upper": 1.6297161906957627
          },
          {
           "lower": 0.9379631996154785,
           "timepoint": 77,
           "trajectory": "D_sol",
           "upper": 1.7278042316436768
          },
          {
           "lower": 0.9829491198062896,
           "timepoint": 78,
           "trajectory": "D_sol",
           "upper": 1.831717747449875
          },
          {
           "lower": 1.0300349324941636,
           "timepoint": 79,
           "trajectory": "D_sol",
           "upper": 1.9418052703142166
          },
          {
           "lower": 1.0793199717998505,
           "timepoint": 80,
           "trajectory": "D_sol",
           "upper": 2.0584360182285306
          },
          {
           "lower": 1.1309069991111755,
           "timepoint": 81,
           "trajectory": "D_sol",
           "upper": 2.1819971203804016
          },
          {
           "lower": 1.1849064826965332,
           "timepoint": 82,
           "trajectory": "D_sol",
           "upper": 2.3129019737243652
          },
          {
           "lower": 1.241432398557663,
           "timepoint": 83,
           "trajectory": "D_sol",
           "upper": 2.4515866339206696
          },
          {
           "lower": 1.3005989372730256,
           "timepoint": 84,
           "trajectory": "D_sol",
           "upper": 2.598512691259384
          },
          {
           "lower": 1.3625378847122191,
           "timepoint": 85,
           "trajectory": "D_sol",
           "upper": 2.754175639152527
          },
          {
           "lower": 1.4273776471614839,
           "timepoint": 86,
           "trajectory": "D_sol",
           "upper": 2.9190904438495635
          },
          {
           "lower": 1.495255357027054,
           "timepoint": 87,
           "trajectory": "D_sol",
           "upper": 3.0938091218471526
          },
          {
           "lower": 1.5663172006607056,
           "timepoint": 88,
           "trajectory": "D_sol",
           "upper": 3.2789119482040405
          },
          {
           "lower": 1.6407112181186676,
           "timepoint": 89,
           "trajectory": "D_sol",
           "upper": 3.475020855665207
          },
          {
           "lower": 1.7185970723628998,
           "timepoint": 90,
           "trajectory": "D_sol",
           "upper": 3.682789784669876
          },
          {
           "lower": 1.800138783454895,
           "timepoint": 91,
           "trajectory": "D_sol",
           "upper": 3.9029103994369505
          },
          {
           "lower": 1.8855121910572052,
           "timepoint": 92,
           "trajectory": "D_sol",
           "upper": 4.136120837926865
          },
          {
           "lower": 1.9748982965946198,
           "timepoint": 93,
           "trajectory": "D_sol",
           "upper": 4.383197230100632
          },
          {
           "lower": 2.0684879183769227,
           "timepoint": 94,
           "trajectory": "D_sol",
           "upper": 4.644962751865386
          },
          {
           "lower": 2.1664813995361327,
           "timepoint": 95,
           "trajectory": "D_sol",
           "upper": 4.922297096252441
          },
          {
           "lower": 2.269089162349701,
           "timepoint": 96,
           "trajectory": "D_sol",
           "upper": 5.216123402118683
          },
          {
           "lower": 2.3765316009521484,
           "timepoint": 97,
           "trajectory": "D_sol",
           "upper": 5.527419090270996
          },
          {
           "lower": 2.4890405178070067,
           "timepoint": 98,
           "trajectory": "D_sol",
           "upper": 5.857228136062622
          },
          {
           "lower": 2.6068421244621276,
           "timepoint": 99,
           "trajectory": "D_sol",
           "upper": 6.206647074222564
          },
          {
           "lower": 2.7302098274230957,
           "timepoint": 100,
           "trajectory": "D_sol",
           "upper": 6.576858043670654
          },
          {
           "lower": 2.859401226043701,
           "timepoint": 101,
           "trajectory": "D_sol",
           "upper": 6.9690775871276855
          },
          {
           "lower": 2.9946967482566835,
           "timepoint": 102,
           "trajectory": "D_sol",
           "upper": 7.384625542163849
          },
          {
           "lower": 3.1363860607147216,
           "timepoint": 103,
           "trajectory": "D_sol",
           "upper": 7.824889993667602
          },
          {
           "lower": 3.2847760796546934,
           "timepoint": 104,
           "trajectory": "D_sol",
           "upper": 8.291342151165008
          },
          {
           "lower": 3.4401883363723753,
           "timepoint": 105,
           "trajectory": "D_sol",
           "upper": 8.78554208278656
          },
          {
           "lower": 3.6029547810554505,
           "timepoint": 106,
           "trajectory": "D_sol",
           "upper": 9.309101903438568
          },
          {
           "lower": 3.7734336495399474,
           "timepoint": 107,
           "trajectory": "D_sol",
           "upper": 9.86381129026413
          },
          {
           "lower": 3.951995003223419,
           "timepoint": 108,
           "trajectory": "D_sol",
           "upper": 10.451530110836028
          },
          {
           "lower": 4.139024138450623,
           "timepoint": 109,
           "trajectory": "D_sol",
           "upper": 11.074193120002747
          },
          {
           "lower": 4.33492751121521,
           "timepoint": 110,
           "trajectory": "D_sol",
           "upper": 11.733892488479613
          },
          {
           "lower": 4.540133786201477,
           "timepoint": 111,
           "trajectory": "D_sol",
           "upper": 12.432811903953551
          },
          {
           "lower": 4.755089735984802,
           "timepoint": 112,
           "trajectory": "D_sol",
           "upper": 13.173303151130677
          },
          {
           "lower": 4.980263757705688,
           "timepoint": 113,
           "trajectory": "D_sol",
           "upper": 13.957828474044799
          },
          {
           "lower": 5.2161579608917235,
           "timepoint": 114,
           "trajectory": "D_sol",
           "upper": 14.789010000228881
          },
          {
           "lower": 5.463276481628418,
           "timepoint": 115,
           "trajectory": "D_sol",
           "upper": 15.669619941711424
          },
          {
           "lower": 5.7221650123596195,
           "timepoint": 116,
           "trajectory": "D_sol",
           "upper": 16.602593517303465
          },
          {
           "lower": 5.993388724327088,
           "timepoint": 117,
           "trajectory": "D_sol",
           "upper": 17.59102146625519
          },
          {
           "lower": 6.277550101280212,
           "timepoint": 118,
           "trajectory": "D_sol",
           "upper": 18.63823139667511
          },
          {
           "lower": 6.575271224975586,
           "timepoint": 119,
           "trajectory": "D_sol",
           "upper": 19.747700119018553
          },
          {
           "lower": 6.887209534645081,
           "timepoint": 120,
           "trajectory": "D_sol",
           "upper": 20.923121333122253
          },
          {
           "lower": 7.214047241210937,
           "timepoint": 121,
           "trajectory": "D_sol",
           "upper": 22.16841049194336
          },
          {
           "lower": 7.556513500213623,
           "timepoint": 122,
           "trajectory": "D_sol",
           "upper": 23.48773126602173
          },
          {
           "lower": 7.915359473228454,
           "timepoint": 123,
           "trajectory": "D_sol",
           "upper": 24.885450863838194
          },
          {
           "lower": 8.291380286216736,
           "timepoint": 124,
           "trajectory": "D_sol",
           "upper": 26.366222500801086
          },
          {
           "lower": 8.685433721542358,
           "timepoint": 125,
           "trajectory": "D_sol",
           "upper": 27.93503155708313
          },
          {
           "lower": 9.09836130142212,
           "timepoint": 126,
           "trajectory": "D_sol",
           "upper": 29.59701795578003
          },
          {
           "lower": 9.531095170974732,
           "timepoint": 127,
           "trajectory": "D_sol",
           "upper": 31.357747411727903
          },
          {
           "lower": 9.984593677520753,
           "timepoint": 128,
           "trajectory": "D_sol",
           "upper": 33.223068904876705
          },
          {
           "lower": 10.459871578216553,
           "timepoint": 129,
           "trajectory": "D_sol",
           "upper": 35.19916505813598
          },
          {
           "lower": 10.957986116409302,
           "timepoint": 130,
           "trajectory": "D_sol",
           "upper": 37.29259657859802
          },
          {
           "lower": 11.48004846572876,
           "timepoint": 131,
           "trajectory": "D_sol",
           "upper": 39.510313701629634
          },
          {
           "lower": 12.027248907089234,
           "timepoint": 132,
           "trajectory": "D_sol",
           "upper": 41.85972256660461
          },
          {
           "lower": 12.600782251358032,
           "timepoint": 133,
           "trajectory": "D_sol",
           "upper": 44.34857287406921
          },
          {
           "lower": 13.201945161819458,
           "timepoint": 134,
           "trajectory": "D_sol",
           "upper": 46.985038900375365
          },
          {
           "lower": 13.832091474533081,
           "timepoint": 135,
           "trajectory": "D_sol",
           "upper": 49.77795205116272
          },
          {
           "lower": 14.492631196975708,
           "timepoint": 136,
           "trajectory": "D_sol",
           "upper": 52.73649001121521
          },
          {
           "lower": 15.185054206848145,
           "timepoint": 137,
           "trajectory": "D_sol",
           "upper": 55.87050685882568
          },
          {
           "lower": 15.910925006866455,
           "timepoint": 138,
           "trajectory": "D_sol",
           "upper": 59.19026174545288
          },
          {
           "lower": 16.671879386901857,
           "timepoint": 139,
           "trajectory": "D_sol",
           "upper": 62.70680179595947
          },
          {
           "lower": 17.46963686943054,
           "timepoint": 140,
           "trajectory": "D_sol",
           "upper": 66.43166642189026
          },
          {
           "lower": 18.305966424942017,
           "timepoint": 141,
           "trajectory": "D_sol",
           "upper": 70.3771457195282
          },
          {
           "lower": 19.182808494567873,
           "timepoint": 142,
           "trajectory": "D_sol",
           "upper": 74.55617847442626
          },
          {
           "lower": 20.102143573760987,
           "timepoint": 143,
           "trajectory": "D_sol",
           "upper": 78.98260183334351
          },
          {
           "lower": 21.065999698638915,
           "timepoint": 144,
           "trajectory": "D_sol",
           "upper": 83.67076139450073
          },
          {
           "lower": 22.07662515640259,
           "timepoint": 145,
           "trajectory": "D_sol",
           "upper": 88.63614912033081
          },
          {
           "lower": 23.13630084991455,
           "timepoint": 146,
           "trajectory": "D_sol",
           "upper": 93.89521999359131
          },
          {
           "lower": 24.247447681427,
           "timepoint": 147,
           "trajectory": "D_sol",
           "upper": 99.46502904891967
          },
          {
           "lower": 25.41255235671997,
           "timepoint": 148,
           "trajectory": "D_sol",
           "upper": 105.36340093612671
          },
          {
           "lower": 26.634305477142334,
           "timepoint": 149,
           "trajectory": "D_sol",
           "upper": 111.61004304885864
          },
          {
           "lower": 27.915466690063475,
           "timepoint": 150,
           "trajectory": "D_sol",
           "upper": 118.22515068054199
          },
          {
           "lower": 29.258979701995848,
           "timepoint": 151,
           "trajectory": "D_sol",
           "upper": 125.23028764724731
          },
          {
           "lower": 30.66788034439087,
           "timepoint": 152,
           "trajectory": "D_sol",
           "upper": 132.64787549972533
          },
          {
           "lower": 32.14538421630859,
           "timepoint": 153,
           "trajectory": "D_sol",
           "upper": 140.50213775634765
          },
          {
           "lower": 33.69496116638184,
           "timepoint": 154,
           "trajectory": "D_sol",
           "upper": 148.81862678527833
          },
          {
           "lower": 35.32002248764038,
           "timepoint": 155,
           "trajectory": "D_sol",
           "upper": 157.62377367019653
          },
          {
           "lower": 37.02433414459229,
           "timepoint": 156,
           "trajectory": "D_sol",
           "upper": 166.94618206024168
          },
          {
           "lower": 38.811847400665286,
           "timepoint": 157,
           "trajectory": "D_sol",
           "upper": 176.81560735702513
          },
          {
           "lower": 40.68654613494873,
           "timepoint": 158,
           "trajectory": "D_sol",
           "upper": 187.2634546279907
          },
          {
           "lower": 42.652819061279295,
           "timepoint": 159,
           "trajectory": "D_sol",
           "upper": 198.32336196899413
          },
          {
           "lower": 44.71508979797363,
           "timepoint": 160,
           "trajectory": "D_sol",
           "upper": 210.0301113128662
          },
          {
           "lower": 46.87812099456787,
           "timepoint": 161,
           "trajectory": "D_sol",
           "upper": 222.42132129669187
          },
          {
           "lower": 49.14681415557861,
           "timepoint": 162,
           "trajectory": "D_sol",
           "upper": 235.53532619476317
          },
          {
           "lower": 51.526383590698245,
           "timepoint": 163,
           "trajectory": "D_sol",
           "upper": 249.41393165588377
          },
          {
           "lower": 54.022280883789065,
           "timepoint": 164,
           "trajectory": "D_sol",
           "upper": 264.1007049560547
          },
          {
           "lower": 56.64019584655762,
           "timepoint": 165,
           "trajectory": "D_sol",
           "upper": 279.6410617828369
          },
          {
           "lower": 59.38611373901367,
           "timepoint": 166,
           "trajectory": "D_sol",
           "upper": 296.0841773986816
          },
          {
           "lower": 62.266233253479,
           "timepoint": 167,
           "trajectory": "D_sol",
           "upper": 313.47964305877684
          },
          {
           "lower": 65.28722743988037,
           "timepoint": 168,
           "trajectory": "D_sol",
           "upper": 331.8818742752075
          },
          {
           "lower": 68.45586528778077,
           "timepoint": 169,
           "trajectory": "D_sol",
           "upper": 351.34676609039303
          },
          {
           "lower": 71.77939796447754,
           "timepoint": 170,
           "trajectory": "D_sol",
           "upper": 371.93388175964355
          },
          {
           "lower": 75.2653434753418,
           "timepoint": 171,
           "trajectory": "D_sol",
           "upper": 393.705313873291
          },
          {
           "lower": 78.92162284851074,
           "timepoint": 172,
           "trajectory": "D_sol",
           "upper": 416.7267612457275
          },
          {
           "lower": 82.75644493103027,
           "timepoint": 173,
           "trajectory": "D_sol",
           "upper": 441.0667133331299
          },
          {
           "lower": 86.77849960327148,
           "timepoint": 174,
           "trajectory": "D_sol",
           "upper": 466.7974433898926
          },
          {
           "lower": 90.99688568115235,
           "timepoint": 175,
           "trajectory": "D_sol",
           "upper": 493.99459991455075
          },
          {
           "lower": 95.42086334228516,
           "timepoint": 176,
           "trajectory": "D_sol",
           "upper": 522.7384078979492
          },
          {
           "lower": 100.06054649353027,
           "timepoint": 177,
           "trajectory": "D_sol",
           "upper": 553.1118549346924
          },
          {
           "lower": 104.9260986328125,
           "timepoint": 178,
           "trajectory": "D_sol",
           "upper": 585.2002441406249
          },
          {
           "lower": 110.02853164672851,
           "timepoint": 179,
           "trajectory": "D_sol",
           "upper": 619.0973075866699
          },
          {
           "lower": 115.37899322509766,
           "timepoint": 180,
           "trajectory": "D_sol",
           "upper": 654.8977096557617
          },
          {
           "lower": 120.98918762207032,
           "timepoint": 181,
           "trajectory": "D_sol",
           "upper": 692.6999603271485
          },
          {
           "lower": 126.87152290344238,
           "timepoint": 182,
           "trajectory": "D_sol",
           "upper": 732.6094875335693
          },
          {
           "lower": 133.03874168395996,
           "timepoint": 183,
           "trajectory": "D_sol",
           "upper": 774.7338184356689
          },
          {
           "lower": 139.50445709228515,
           "timepoint": 184,
           "trajectory": "D_sol",
           "upper": 819.1874069213867
          },
          {
           "lower": 146.28233489990234,
           "timepoint": 185,
           "trajectory": "D_sol",
           "upper": 866.0859817504883
          },
          {
           "lower": 153.38693084716797,
           "timepoint": 186,
           "trajectory": "D_sol",
           "upper": 915.5535293579101
          },
          {
           "lower": 160.83337936401367,
           "timepoint": 187,
           "trajectory": "D_sol",
           "upper": 967.7152809143066
          },
          {
           "lower": 168.63740921020508,
           "timepoint": 188,
           "trajectory": "D_sol",
           "upper": 1022.7041893005371
          },
          {
           "lower": 176.81542053222657,
           "timepoint": 189,
           "trajectory": "D_sol",
           "upper": 1080.657174682617
          },
          {
           "lower": 185.38413925170897,
           "timepoint": 190,
           "trajectory": "D_sol",
           "upper": 1141.7126777648925
          },
          {
           "lower": 194.3616584777832,
           "timepoint": 191,
           "trajectory": "D_sol",
           "upper": 1206.0186363220214
          },
          {
           "lower": 203.76597061157227,
           "timepoint": 192,
           "trajectory": "D_sol",
           "upper": 1273.724370574951
          },
          {
           "lower": 213.61580505371094,
           "timepoint": 193,
           "trajectory": "D_sol",
           "upper": 1344.9838653564452
          },
          {
           "lower": 223.93109359741212,
           "timepoint": 194,
           "trajectory": "D_sol",
           "upper": 1419.9563728332519
          },
          {
           "lower": 234.73190155029297,
           "timepoint": 195,
           "trajectory": "D_sol",
           "upper": 1498.80450592041
          },
          {
           "lower": 246.0399169921875,
           "timepoint": 196,
           "trajectory": "D_sol",
           "upper": 1581.6917724609375
          },
          {
           "lower": 257.87599029541013,
           "timepoint": 197,
           "trajectory": "D_sol",
           "upper": 1668.7893844604491
          },
          {
           "lower": 270.2628532409668,
           "timepoint": 198,
           "trajectory": "D_sol",
           "upper": 1760.2696937561034
          },
          {
           "lower": 283.223486328125,
           "timepoint": 199,
           "trajectory": "D_sol",
           "upper": 1856.30703125
          },
          {
           "lower": 296.78168869018555,
           "timepoint": 200,
           "trajectory": "D_sol",
           "upper": 1957.0772743225098
          },
          {
           "lower": 310.96181869506836,
           "timepoint": 201,
           "trajectory": "D_sol",
           "upper": 2062.7606086730957
          },
          {
           "lower": 325.7890510559082,
           "timepoint": 202,
           "trajectory": "D_sol",
           "upper": 2173.5324058532715
          },
          {
           "lower": 341.2890998840332,
           "timepoint": 203,
           "trajectory": "D_sol",
           "upper": 2289.575814056396
          },
          {
           "lower": 357.4879623413086,
           "timepoint": 204,
           "trajectory": "D_sol",
           "upper": 2411.061506652832
          },
          {
           "lower": 374.41294860839844,
           "timepoint": 205,
           "trajectory": "D_sol",
           "upper": 2538.171096801758
          },
          {
           "lower": 392.09163665771484,
           "timepoint": 206,
           "trajectory": "D_sol",
           "upper": 2671.076728820801
          },
          {
           "lower": 410.5513519287109,
           "timepoint": 207,
           "trajectory": "D_sol",
           "upper": 2809.948220825195
          },
          {
           "lower": 429.8214675903321,
           "timepoint": 208,
           "trajectory": "D_sol",
           "upper": 2954.9492538452146
          },
          {
           "lower": 449.93071899414065,
           "timepoint": 209,
           "trajectory": "D_sol",
           "upper": 3106.2390808105465
          },
          {
           "lower": 470.90824737548826,
           "timepoint": 210,
           "trajectory": "D_sol",
           "upper": 3263.9681869506835
          },
          {
           "lower": 492.785173034668,
           "timepoint": 211,
           "trajectory": "D_sol",
           "upper": 3428.283460998535
          },
          {
           "lower": 515.5902648925781,
           "timepoint": 212,
           "trajectory": "D_sol",
           "upper": 3599.308538818359
          },
          {
           "lower": 539.3546783447266,
           "timepoint": 213,
           "trajectory": "D_sol",
           "upper": 3777.175045776367
          },
          {
           "lower": 564.1090835571289,
           "timepoint": 214,
           "trajectory": "D_sol",
           "upper": 3961.9845138549804
          },
          {
           "lower": 589.8848403930664,
           "timepoint": 215,
           "trajectory": "D_sol",
           "upper": 4153.836198425292
          },
          {
           "lower": 616.7124298095703,
           "timepoint": 216,
           "trajectory": "D_sol",
           "upper": 4352.799472045898
          },
          {
           "lower": 644.6236587524414,
           "timepoint": 217,
           "trajectory": "D_sol",
           "upper": 4558.943083190918
          },
          {
           "lower": 673.6497375488282,
           "timepoint": 218,
           "trajectory": "D_sol",
           "upper": 4772.30521850586
          },
          {
           "lower": 703.8214950561523,
           "timepoint": 219,
           "trajectory": "D_sol",
           "upper": 4992.906929016113
          },
          {
           "lower": 735.1704116821289,
           "timepoint": 220,
           "trajectory": "D_sol",
           "upper": 5220.75033416748
          },
          {
           "lower": 767.7290679931641,
           "timepoint": 221,
           "trajectory": "D_sol",
           "upper": 5455.80846862793
          },
          {
           "lower": 801.5270385742188,
           "timepoint": 222,
           "trajectory": "D_sol",
           "upper": 5698.035705566406
          },
          {
           "lower": 836.5950408935547,
           "timepoint": 223,
           "trajectory": "D_sol",
           "upper": 5947.355947875976
          },
          {
           "lower": 872.9654113769532,
           "timepoint": 224,
           "trajectory": "D_sol",
           "upper": 6203.676068115234
          },
          {
           "lower": 910.6675384521484,
           "timepoint": 225,
           "trajectory": "D_sol",
           "upper": 6466.866702270508
          },
          {
           "lower": 949.732211303711,
           "timepoint": 226,
           "trajectory": "D_sol",
           "upper": 6736.771267700195
          },
          {
           "lower": 990.1897949218751,
           "timepoint": 227,
           "trajectory": "D_sol",
           "upper": 7013.208642578124
          },
          {
           "lower": 1032.0717681884767,
           "timepoint": 228,
           "trajectory": "D_sol",
           "upper": 7295.984811401367
          },
          {
           "lower": 1075.406268310547,
           "timepoint": 229,
           "trajectory": "D_sol",
           "upper": 7584.838970947265
          },
          {
           "lower": 1120.2248321533202,
           "timepoint": 230,
           "trajectory": "D_sol",
           "upper": 7879.524374389648
          },
          {
           "lower": 1166.5572448730468,
           "timepoint": 231,
           "trajectory": "D_sol",
           "upper": 8179.745611572265
          },
          {
           "lower": 1214.432305908203,
           "timepoint": 232,
           "trajectory": "D_sol",
           "upper": 8485.180853271484
          },
          {
           "lower": 1263.8813079833985,
           "timepoint": 233,
           "trajectory": "D_sol",
           "upper": 8795.499612426758
          },
          {
           "lower": 1314.9362670898438,
           "timepoint": 234,
           "trajectory": "D_sol",
           "upper": 9110.33350830078
          },
          {
           "lower": 1367.6244171142578,
           "timepoint": 235,
           "trajectory": "D_sol",
           "upper": 9429.28152770996
          },
          {
           "lower": 1421.979833984375,
           "timepoint": 236,
           "trajectory": "D_sol",
           "upper": 9751.978173828125
          },
          {
           "lower": 1478.034442138672,
           "timepoint": 237,
           "trajectory": "D_sol",
           "upper": 10077.97642211914
          },
          {
           "lower": 1535.8183532714843,
           "timepoint": 238,
           "trajectory": "D_sol",
           "upper": 10406.836553955078
          },
          {
           "lower": 1595.3660034179688,
           "timepoint": 239,
           "trajectory": "D_sol",
           "upper": 10738.109826660157
          },
          {
           "lower": 1656.7129333496096,
           "timepoint": 240,
           "trajectory": "D_sol",
           "upper": 11071.353106689452
          },
          {
           "lower": 1719.8904296875,
           "timepoint": 241,
           "trajectory": "D_sol",
           "upper": 11406.0841796875
          },
          {
           "lower": 1784.9371337890625,
           "timepoint": 242,
           "trajectory": "D_sol",
           "upper": 11741.839721679688
          },
          {
           "lower": 1851.8905883789062,
           "timepoint": 243,
           "trajectory": "D_sol",
           "upper": 12078.144323730468
          },
          {
           "lower": 1920.7888061523438,
           "timepoint": 244,
           "trajectory": "D_sol",
           "upper": 12414.53370361328
          },
          {
           "lower": 1991.6726928710937,
           "timepoint": 245,
           "trajectory": "D_sol",
           "upper": 12750.53262939453
          },
          {
           "lower": 2064.5837280273436,
           "timepoint": 246,
           "trajectory": "D_sol",
           "upper": 13085.68995361328
          },
          {
           "lower": 2139.5645263671877,
           "timepoint": 247,
           "trajectory": "D_sol",
           "upper": 13419.545336914061
          },
          {
           "lower": 2216.6625549316404,
           "timepoint": 248,
           "trajectory": "D_sol",
           "upper": 13751.658123779296
          },
          {
           "lower": 2295.91826171875,
           "timepoint": 249,
           "trajectory": "D_sol",
           "upper": 14081.63447265625
          },
          {
           "lower": 2377.387371826172,
           "timepoint": 250,
           "trajectory": "D_sol",
           "upper": 14409.02583618164
          },
          {
           "lower": 2461.116619873047,
           "timepoint": 251,
           "trajectory": "D_sol",
           "upper": 14733.465533447265
          },
          {
           "lower": 2547.1562622070314,
           "timepoint": 252,
           "trajectory": "D_sol",
           "upper": 15054.559313964843
          },
          {
           "lower": 2635.562286376953,
           "timepoint": 253,
           "trajectory": "D_sol",
           "upper": 15371.984466552734
          },
          {
           "lower": 2726.3877075195314,
           "timepoint": 254,
           "trajectory": "D_sol",
           "upper": 15685.407946777343
          },
          {
           "lower": 2819.689587402344,
           "timepoint": 255,
           "trajectory": "D_sol",
           "upper": 15994.49229736328
          },
          {
           "lower": 2915.5246459960936,
           "timepoint": 256,
           "trajectory": "D_sol",
           "upper": 16298.99903564453
          },
          {
           "lower": 3013.9524780273437,
           "timepoint": 257,
           "trajectory": "D_sol",
           "upper": 16598.66300048828
          },
          {
           "lower": 3115.0298583984377,
           "timepoint": 258,
           "trajectory": "D_sol",
           "upper": 16893.222583007813
          },
          {
           "lower": 3218.818212890625,
           "timepoint": 259,
           "trajectory": "D_sol",
           "upper": 17182.508935546874
          },
          {
           "lower": 3325.3822631835938,
           "timepoint": 260,
           "trajectory": "D_sol",
           "upper": 17466.33673095703
          },
          {
           "lower": 3434.778186035156,
           "timepoint": 261,
           "trajectory": "D_sol",
           "upper": 17744.516491699218
          },
          {
           "lower": 3547.066857910156,
           "timepoint": 262,
           "trajectory": "D_sol",
           "upper": 18016.934851074217
          },
          {
           "lower": 3662.310900878906,
           "timepoint": 263,
           "trajectory": "D_sol",
           "upper": 18283.489636230468
          },
          {
           "lower": 3780.567626953125,
           "timepoint": 264,
           "trajectory": "D_sol",
           "upper": 18544.087646484375
          },
          {
           "lower": 3901.8974853515624,
           "timepoint": 265,
           "trajectory": "D_sol",
           "upper": 18798.646948242185
          },
          {
           "lower": 4026.3576171875,
           "timepoint": 266,
           "trajectory": "D_sol",
           "upper": 19047.1501953125
          },
          {
           "lower": 4154.001843261719,
           "timepoint": 267,
           "trajectory": "D_sol",
           "upper": 19289.552111816407
          },
          {
           "lower": 4284.884777832031,
           "timepoint": 268,
           "trajectory": "D_sol",
           "upper": 19525.844470214844
          },
          {
           "lower": 4419.058984375,
           "timepoint": 269,
           "trajectory": "D_sol",
           "upper": 19756.050390624998
          },
          {
           "lower": 4556.5701171875,
           "timepoint": 270,
           "trajectory": "D_sol",
           "upper": 19980.1759765625
          },
          {
           "lower": 4697.463342285157,
           "timepoint": 271,
           "trajectory": "D_sol",
           "upper": 20198.288366699217
          },
          {
           "lower": 4841.778479003906,
           "timepoint": 272,
           "trajectory": "D_sol",
           "upper": 20410.397058105467
          },
          {
           "lower": 4989.55068359375,
           "timepoint": 273,
           "trajectory": "D_sol",
           "upper": 20616.607519531248
          },
          {
           "lower": 5140.815185546875,
           "timepoint": 274,
           "trajectory": "D_sol",
           "upper": 20816.982666015625
          },
          {
           "lower": 5295.594262695313,
           "timepoint": 275,
           "trajectory": "D_sol",
           "upper": 21011.616186523435
          },
          {
           "lower": 5453.916528320313,
           "timepoint": 276,
           "trajectory": "D_sol",
           "upper": 21200.594702148435
          },
          {
           "lower": 5615.7896728515625,
           "timepoint": 277,
           "trajectory": "D_sol",
           "upper": 21384.020385742188
          },
          {
           "lower": 5781.221899414062,
           "timepoint": 278,
           "trajectory": "D_sol",
           "upper": 21562.013940429686
          },
          {
           "lower": 5950.22841796875,
           "timepoint": 279,
           "trajectory": "D_sol",
           "upper": 21734.679785156248
          },
          {
           "lower": 6122.7876953125,
           "timepoint": 280,
           "trajectory": "D_sol",
           "upper": 21902.1537109375
          },
          {
           "lower": 6298.894189453125,
           "timepoint": 281,
           "trajectory": "D_sol",
           "upper": 22064.550146484373
          },
          {
           "lower": 6478.534399414062,
           "timepoint": 282,
           "trajectory": "D_sol",
           "upper": 22221.990502929686
          },
          {
           "lower": 6661.679736328125,
           "timepoint": 283,
           "trajectory": "D_sol",
           "upper": 22374.608349609374
          },
          {
           "lower": 6848.29169921875,
           "timepoint": 284,
           "trajectory": "D_sol",
           "upper": 22522.54228515625
          },
          {
           "lower": 7038.317358398437,
           "timepoint": 285,
           "trajectory": "D_sol",
           "upper": 22665.91164550781
          },
          {
           "lower": 7231.713037109375,
           "timepoint": 286,
           "trajectory": "D_sol",
           "upper": 22804.827001953123
          },
          {
           "lower": 7428.4232421875,
           "timepoint": 287,
           "trajectory": "D_sol",
           "upper": 22939.525976562498
          },
          {
           "lower": 7628.371264648437,
           "timepoint": 288,
           "trajectory": "D_sol",
           "upper": 23070.01008300781
          },
          {
           "lower": 7831.479150390625,
           "timepoint": 289,
           "trajectory": "D_sol",
           "upper": 23196.476904296873
          },
          {
           "lower": 8037.658764648438,
           "timepoint": 290,
           "trajectory": "D_sol",
           "upper": 23319.027270507813
          },
          {
           "lower": 8246.812353515625,
           "timepoint": 291,
           "trajectory": "D_sol",
           "upper": 23437.807763671874
          },
          {
           "lower": 8458.847241210937,
           "timepoint": 292,
           "trajectory": "D_sol",
           "upper": 23552.920825195313
          },
          {
           "lower": 8673.636743164063,
           "timepoint": 293,
           "trajectory": "D_sol",
           "upper": 23664.481909179685
          },
          {
           "lower": 8891.072290039063,
           "timepoint": 294,
           "trajectory": "D_sol",
           "upper": 23772.686987304685
          },
          {
           "lower": 9111.004833984374,
           "timepoint": 295,
           "trajectory": "D_sol",
           "upper": 23877.578173828126
          },
          {
           "lower": 9333.318603515625,
           "timepoint": 296,
           "trajectory": "D_sol",
           "upper": 23979.258544921875
          },
          {
           "lower": 9557.854248046875,
           "timepoint": 297,
           "trajectory": "D_sol",
           "upper": 24077.873291015625
          },
          {
           "lower": 9784.478369140625,
           "timepoint": 298,
           "trajectory": "D_sol",
           "upper": 24173.524560546874
          },
          {
           "lower": 10013.013671875,
           "timepoint": 299,
           "trajectory": "D_sol",
           "upper": 24266.306640625
          },
          {
           "lower": 10243.303466796875,
           "timepoint": 300,
           "trajectory": "D_sol",
           "upper": 24356.318603515625
          },
          {
           "lower": 10475.18828125,
           "timepoint": 301,
           "trajectory": "D_sol",
           "upper": 24443.659375
          },
          {
           "lower": 10708.478759765625,
           "timepoint": 302,
           "trajectory": "D_sol",
           "upper": 24528.352294921875
          },
          {
           "lower": 10943.0150390625,
           "timepoint": 303,
           "trajectory": "D_sol",
           "upper": 24610.734960937498
          },
          {
           "lower": 11178.60126953125,
           "timepoint": 304,
           "trajectory": "D_sol",
           "upper": 24690.61943359375
          },
          {
           "lower": 11415.04580078125,
           "timepoint": 305,
           "trajectory": "D_sol",
           "upper": 24768.178808593748
          },
          {
           "lower": 11652.192626953125,
           "timepoint": 306,
           "trajectory": "D_sol",
           "upper": 24843.525146484375
          },
          {
           "lower": 11889.8140625,
           "timepoint": 307,
           "trajectory": "D_sol",
           "upper": 24916.67421875
          },
          {
           "lower": 12127.7587890625,
           "timepoint": 308,
           "trajectory": "D_sol",
           "upper": 24987.7919921875
          },
          {
           "lower": 12365.796533203125,
           "timepoint": 309,
           "trajectory": "D_sol",
           "upper": 25056.897802734373
          },
          {
           "lower": 12603.78076171875,
           "timepoint": 310,
           "trajectory": "D_sol",
           "upper": 25124.00244140625
          },
          {
           "lower": 12841.494140625,
           "timepoint": 311,
           "trajectory": "D_sol",
           "upper": 25189.283203125
          },
          {
           "lower": 13078.741064453125,
           "timepoint": 312,
           "trajectory": "D_sol",
           "upper": 25252.679833984374
          },
          {
           "lower": 13315.363525390625,
           "timepoint": 313,
           "trajectory": "D_sol",
           "upper": 25314.354248046875
          },
          {
           "lower": 13551.15419921875,
           "timepoint": 314,
           "trajectory": "D_sol",
           "upper": 25374.304785156248
          },
          {
           "lower": 13785.95498046875,
           "timepoint": 315,
           "trajectory": "D_sol",
           "upper": 25432.656347656248
          },
          {
           "lower": 14019.58681640625,
           "timepoint": 316,
           "trajectory": "D_sol",
           "upper": 25489.399511718748
          },
          {
           "lower": 14251.871728515625,
           "timepoint": 317,
           "trajectory": "D_sol",
           "upper": 25544.580419921873
          },
          {
           "lower": 14482.6544921875,
           "timepoint": 318,
           "trajectory": "D_sol",
           "upper": 25598.2908203125
          },
          {
           "lower": 14711.761572265625,
           "timepoint": 319,
           "trajectory": "D_sol",
           "upper": 25650.538232421874
          },
          {
           "lower": 14939.06748046875,
           "timepoint": 320,
           "trajectory": "D_sol",
           "upper": 25701.39931640625
          },
          {
           "lower": 15164.397119140625,
           "timepoint": 321,
           "trajectory": "D_sol",
           "upper": 25750.851904296873
          },
          {
           "lower": 15387.6275390625,
           "timepoint": 322,
           "trajectory": "D_sol",
           "upper": 25799.0912109375
          },
          {
           "lower": 15608.6181640625,
           "timepoint": 323,
           "trajectory": "D_sol",
           "upper": 25845.9951171875
          },
          {
           "lower": 15827.248779296875,
           "timepoint": 324,
           "trajectory": "D_sol",
           "upper": 25891.670166015625
          },
          {
           "lower": 16043.386328125,
           "timepoint": 325,
           "trajectory": "D_sol",
           "upper": 25936.137109375
          },
          {
           "lower": 16256.9095703125,
           "timepoint": 326,
           "trajectory": "D_sol",
           "upper": 25979.465429687498
          },
          {
           "lower": 16467.784521484376,
           "timepoint": 327,
           "trajectory": "D_sol",
           "upper": 26021.607080078124
          },
          {
           "lower": 16675.844091796876,
           "timepoint": 328,
           "trajectory": "D_sol",
           "upper": 26062.692041015624
          },
          {
           "lower": 16881.01962890625,
           "timepoint": 329,
           "trajectory": "D_sol",
           "upper": 26102.68154296875
          },
          {
           "lower": 17083.23720703125,
           "timepoint": 330,
           "trajectory": "D_sol",
           "upper": 26141.682714843748
          },
          {
           "lower": 17282.4248046875,
           "timepoint": 331,
           "trajectory": "D_sol",
           "upper": 26179.6806640625
          },
          {
           "lower": 17478.5091796875,
           "timepoint": 332,
           "trajectory": "D_sol",
           "upper": 26216.654882812498
          },
          {
           "lower": 17671.43076171875,
           "timepoint": 333,
           "trajectory": "D_sol",
           "upper": 26252.70400390625
          },
          {
           "lower": 17861.1505859375,
           "timepoint": 334,
           "trajectory": "D_sol",
           "upper": 26287.8259765625
          },
          {
           "lower": 18047.62470703125,
           "timepoint": 335,
           "trajectory": "D_sol",
           "upper": 26322.06474609375
          },
          {
           "lower": 18230.78623046875,
           "timepoint": 336,
           "trajectory": "D_sol",
           "upper": 26355.41494140625
          },
          {
           "lower": 18410.70244140625,
           "timepoint": 337,
           "trajectory": "D_sol",
           "upper": 26387.95966796875
          },
          {
           "lower": 18587.2251953125,
           "timepoint": 338,
           "trajectory": "D_sol",
           "upper": 26419.6615234375
          },
          {
           "lower": 18760.41572265625,
           "timepoint": 339,
           "trajectory": "D_sol",
           "upper": 26450.55888671875
          },
          {
           "lower": 18930.2283203125,
           "timepoint": 340,
           "trajectory": "D_sol",
           "upper": 26480.6974609375
          },
          {
           "lower": 19096.68271484375,
           "timepoint": 341,
           "trajectory": "D_sol",
           "upper": 26510.06533203125
          },
          {
           "lower": 19259.76748046875,
           "timepoint": 342,
           "trajectory": "D_sol",
           "upper": 26538.72666015625
          },
          {
           "lower": 19419.494921875,
           "timepoint": 343,
           "trajectory": "D_sol",
           "upper": 26566.669140625
          },
          {
           "lower": 19575.90546875,
           "timepoint": 344,
           "trajectory": "D_sol",
           "upper": 26593.92265625
          },
          {
           "lower": 19728.91455078125,
           "timepoint": 345,
           "trajectory": "D_sol",
           "upper": 26620.49755859375
          },
          {
           "lower": 19878.640234375,
           "timepoint": 346,
           "trajectory": "D_sol",
           "upper": 26646.422265625
          },
          {
           "lower": 20025.0693359375,
           "timepoint": 347,
           "trajectory": "D_sol",
           "upper": 26671.7275390625
          },
          {
           "lower": 20168.257421875,
           "timepoint": 348,
           "trajectory": "D_sol",
           "upper": 26696.414453125
          },
          {
           "lower": 20308.19423828125,
           "timepoint": 349,
           "trajectory": "D_sol",
           "upper": 26720.49912109375
          },
          {
           "lower": 20444.94736328125,
           "timepoint": 350,
           "trajectory": "D_sol",
           "upper": 26743.99990234375
          },
          {
           "lower": 20578.53115234375,
           "timepoint": 351,
           "trajectory": "D_sol",
           "upper": 26766.94345703125
          },
          {
           "lower": 20708.97958984375,
           "timepoint": 352,
           "trajectory": "D_sol",
           "upper": 26789.34267578125
          },
          {
           "lower": 20836.39658203125,
           "timepoint": 353,
           "trajectory": "D_sol",
           "upper": 26811.20302734375
          },
          {
           "lower": 20960.730859375,
           "timepoint": 354,
           "trajectory": "D_sol",
           "upper": 26832.569921875
          },
          {
           "lower": 21082.1419921875,
           "timepoint": 355,
           "trajectory": "D_sol",
           "upper": 26853.4166015625
          },
          {
           "lower": 21200.5783203125,
           "timepoint": 356,
           "trajectory": "D_sol",
           "upper": 26873.7810546875
          },
          {
           "lower": 21316.12421875,
           "timepoint": 357,
           "trajectory": "D_sol",
           "upper": 26893.684375
          },
          {
           "lower": 21428.84951171875,
           "timepoint": 358,
           "trajectory": "D_sol",
           "upper": 26913.11728515625
          },
          {
           "lower": 21538.77626953125,
           "timepoint": 359,
           "trajectory": "D_sol",
           "upper": 26932.11240234375
          },
          {
           "lower": 21645.98857421875,
           "timepoint": 360,
           "trajectory": "D_sol",
           "upper": 26950.68525390625
          },
          {
           "lower": 21750.50859375,
           "timepoint": 361,
           "trajectory": "D_sol",
           "upper": 26968.83515625
          },
          {
           "lower": 21852.4146484375,
           "timepoint": 362,
           "trajectory": "D_sol",
           "upper": 26986.5736328125
          },
          {
           "lower": 21951.699609375,
           "timepoint": 363,
           "trajectory": "D_sol",
           "upper": 27003.905859375
          },
          {
           "lower": 22048.57734375,
           "timepoint": 364,
           "trajectory": "D_sol",
           "upper": 27020.8875
          },
          {
           "lower": 22142.9484375,
           "timepoint": 365,
           "trajectory": "D_sol",
           "upper": 27037.49296875
          },
          {
           "lower": 22234.89775390625,
           "timepoint": 366,
           "trajectory": "D_sol",
           "upper": 27053.71748046875
          },
          {
           "lower": 22324.515625,
           "timepoint": 367,
           "trajectory": "D_sol",
           "upper": 27069.625
          },
          {
           "lower": 22411.83212890625,
           "timepoint": 368,
           "trajectory": "D_sol",
           "upper": 27085.18935546875
          },
          {
           "lower": 22496.90556640625,
           "timepoint": 369,
           "trajectory": "D_sol",
           "upper": 27100.39326171875
          },
          {
           "lower": 22579.808203125,
           "timepoint": 370,
           "trajectory": "D_sol",
           "upper": 27115.308984375
          },
          {
           "lower": 22660.56982421875,
           "timepoint": 371,
           "trajectory": "D_sol",
           "upper": 27129.90478515625
          },
          {
           "lower": 22739.26240234375,
           "timepoint": 372,
           "trajectory": "D_sol",
           "upper": 27144.21220703125
          },
          {
           "lower": 22815.9177734375,
           "timepoint": 373,
           "trajectory": "D_sol",
           "upper": 27158.2033203125
          },
          {
           "lower": 22890.5970703125,
           "timepoint": 374,
           "trajectory": "D_sol",
           "upper": 27171.9498046875
          },
          {
           "lower": 22963.37578125,
           "timepoint": 375,
           "trajectory": "D_sol",
           "upper": 27185.409375
          },
          {
           "lower": 23034.2630859375,
           "timepoint": 376,
           "trajectory": "D_sol",
           "upper": 27198.6158203125
          },
          {
           "lower": 23103.32099609375,
           "timepoint": 377,
           "trajectory": "D_sol",
           "upper": 27211.55205078125
          },
          {
           "lower": 23170.63134765625,
           "timepoint": 378,
           "trajectory": "D_sol",
           "upper": 27224.26123046875
          },
          {
           "lower": 23236.175,
           "timepoint": 379,
           "trajectory": "D_sol",
           "upper": 27236.69609375
          },
          {
           "lower": 23300.09267578125,
           "timepoint": 380,
           "trajectory": "D_sol",
           "upper": 27248.92880859375
          },
          {
           "lower": 23362.33740234375,
           "timepoint": 381,
           "trajectory": "D_sol",
           "upper": 27260.91064453125
          },
          {
           "lower": 23423.01171875,
           "timepoint": 382,
           "trajectory": "D_sol",
           "upper": 27272.65625
          },
          {
           "lower": 23482.13349609375,
           "timepoint": 383,
           "trajectory": "D_sol",
           "upper": 27284.25908203125
          },
          {
           "lower": 23539.75751953125,
           "timepoint": 384,
           "trajectory": "D_sol",
           "upper": 27295.67021484375
          },
          {
           "lower": 23595.92236328125,
           "timepoint": 385,
           "trajectory": "D_sol",
           "upper": 27306.77880859375
          },
          {
           "lower": 23650.656640625,
           "timepoint": 386,
           "trajectory": "D_sol",
           "upper": 27317.741796875
          },
          {
           "lower": 23704.0216796875,
           "timepoint": 387,
           "trajectory": "D_sol",
           "upper": 27328.5291015625
          },
          {
           "lower": 23756.04619140625,
           "timepoint": 388,
           "trajectory": "D_sol",
           "upper": 27339.12373046875
          },
          {
           "lower": 23806.77421875,
           "timepoint": 389,
           "trajectory": "D_sol",
           "upper": 27349.55390625
          },
          {
           "lower": 23856.25126953125,
           "timepoint": 390,
           "trajectory": "D_sol",
           "upper": 27359.80537109375
          },
          {
           "lower": 23904.4658203125,
           "timepoint": 391,
           "trajectory": "D_sol",
           "upper": 27369.9052734375
          },
          {
           "lower": 23951.466796875,
           "timepoint": 392,
           "trajectory": "D_sol",
           "upper": 27379.833984375
          },
          {
           "lower": 23997.40693359375,
           "timepoint": 393,
           "trajectory": "D_sol",
           "upper": 27389.61064453125
          },
          {
           "lower": 24042.19609375,
           "timepoint": 394,
           "trajectory": "D_sol",
           "upper": 27399.2453125
          },
          {
           "lower": 24085.83759765625,
           "timepoint": 395,
           "trajectory": "D_sol",
           "upper": 27408.69560546875
          },
          {
           "lower": 24128.4599609375,
           "timepoint": 396,
           "trajectory": "D_sol",
           "upper": 27418.0830078125
          },
          {
           "lower": 24170.048046875,
           "timepoint": 397,
           "trajectory": "D_sol",
           "upper": 27427.295703125
          },
          {
           "lower": 24210.64111328125,
           "timepoint": 398,
           "trajectory": "D_sol",
           "upper": 27436.37646484375
          },
          {
           "lower": 24250.25595703125,
           "timepoint": 399,
           "trajectory": "D_sol",
           "upper": 27445.32802734375
          },
          {
           "lower": 24288.946875,
           "timepoint": 400,
           "trajectory": "D_sol",
           "upper": 27454.1625
          },
          {
           "lower": 24326.7158203125,
           "timepoint": 401,
           "trajectory": "D_sol",
           "upper": 27462.8818359375
          },
          {
           "lower": 24363.6052734375,
           "timepoint": 402,
           "trajectory": "D_sol",
           "upper": 27471.4845703125
          },
          {
           "lower": 24399.63759765625,
           "timepoint": 403,
           "trajectory": "D_sol",
           "upper": 27479.97373046875
          },
          {
           "lower": 24434.82451171875,
           "timepoint": 404,
           "trajectory": "D_sol",
           "upper": 27488.36103515625
          },
          {
           "lower": 24469.21552734375,
           "timepoint": 405,
           "trajectory": "D_sol",
           "upper": 27496.63798828125
          },
          {
           "lower": 24502.808203125,
           "timepoint": 406,
           "trajectory": "D_sol",
           "upper": 27504.828515625
          },
          {
           "lower": 24535.647265625,
           "timepoint": 407,
           "trajectory": "D_sol",
           "upper": 27512.903515625
          },
          {
           "lower": 24567.73837890625,
           "timepoint": 408,
           "trajectory": "D_sol",
           "upper": 27520.90029296875
          },
          {
           "lower": 24599.09697265625,
           "timepoint": 409,
           "trajectory": "D_sol",
           "upper": 27528.79560546875
          },
          {
           "lower": 24629.79794921875,
           "timepoint": 410,
           "trajectory": "D_sol",
           "upper": 27536.60634765625
          },
          {
           "lower": 24659.8251953125,
           "timepoint": 411,
           "trajectory": "D_sol",
           "upper": 27544.3427734375
          },
          {
           "lower": 24689.15244140625,
           "timepoint": 412,
           "trajectory": "D_sol",
           "upper": 27551.99794921875
          },
          {
           "lower": 24717.85693359375,
           "timepoint": 413,
           "trajectory": "D_sol",
           "upper": 27559.59814453125
          },
          {
           "lower": 24745.9546875,
           "timepoint": 414,
           "trajectory": "D_sol",
           "upper": 27567.0609375
          },
          {
           "lower": 24773.43818359375,
           "timepoint": 415,
           "trajectory": "D_sol",
           "upper": 27574.48955078125
          },
          {
           "lower": 24800.3572265625,
           "timepoint": 416,
           "trajectory": "D_sol",
           "upper": 27581.8458984375
          },
          {
           "lower": 24826.728515625,
           "timepoint": 417,
           "trajectory": "D_sol",
           "upper": 27589.166015625
          },
          {
           "lower": 24852.4876953125,
           "timepoint": 418,
           "trajectory": "D_sol",
           "upper": 27596.3521484375
          },
          {
           "lower": 24877.707421875,
           "timepoint": 419,
           "trajectory": "D_sol",
           "upper": 27603.483984375
          },
          {
           "lower": 24902.4943359375,
           "timepoint": 420,
           "trajectory": "D_sol",
           "upper": 27610.6189453125
          },
          {
           "lower": 24926.76943359375,
           "timepoint": 421,
           "trajectory": "D_sol",
           "upper": 27617.66220703125
          },
          {
           "lower": 24950.48125,
           "timepoint": 422,
           "trajectory": "D_sol",
           "upper": 27624.65546875
          },
          {
           "lower": 24973.74453125,
           "timepoint": 423,
           "trajectory": "D_sol",
           "upper": 27631.59921875
          },
          {
           "lower": 24996.57724609375,
           "timepoint": 424,
           "trajectory": "D_sol",
           "upper": 27638.48330078125
          },
          {
           "lower": 25018.93720703125,
           "timepoint": 425,
           "trajectory": "D_sol",
           "upper": 27645.31474609375
          },
          {
           "lower": 25040.88251953125,
           "timepoint": 426,
           "trajectory": "D_sol",
           "upper": 27652.07255859375
          },
          {
           "lower": 25062.4228515625,
           "timepoint": 427,
           "trajectory": "D_sol",
           "upper": 27658.8701171875
          },
          {
           "lower": 25083.50546875,
           "timepoint": 428,
           "trajectory": "D_sol",
           "upper": 27665.584375
          },
          {
           "lower": 25104.20048828125,
           "timepoint": 429,
           "trajectory": "D_sol",
           "upper": 27672.24677734375
          },
          {
           "lower": 25124.54287109375,
           "timepoint": 430,
           "trajectory": "D_sol",
           "upper": 27678.88876953125
          },
          {
           "lower": 25144.5140625,
           "timepoint": 431,
           "trajectory": "D_sol",
           "upper": 27685.47421875
          },
          {
           "lower": 25164.0658203125,
           "timepoint": 432,
           "trajectory": "D_sol",
           "upper": 27692.0357421875
          },
          {
           "lower": 25183.29521484375,
           "timepoint": 433,
           "trajectory": "D_sol",
           "upper": 27698.58955078125
          },
          {
           "lower": 25202.17802734375,
           "timepoint": 434,
           "trajectory": "D_sol",
           "upper": 27705.06220703125
          },
          {
           "lower": 25220.7271484375,
           "timepoint": 435,
           "trajectory": "D_sol",
           "upper": 27711.5228515625
          },
          {
           "lower": 25238.96142578125,
           "timepoint": 436,
           "trajectory": "D_sol",
           "upper": 27717.97802734375
          },
          {
           "lower": 25256.864453125,
           "timepoint": 437,
           "trajectory": "D_sol",
           "upper": 27724.397265625
          },
          {
           "lower": 25274.47255859375,
           "timepoint": 438,
           "trajectory": "D_sol",
           "upper": 27730.80283203125
          },
          {
           "lower": 25291.775,
           "timepoint": 439,
           "trajectory": "D_sol",
           "upper": 27737.16640625
          },
          {
           "lower": 25308.7939453125,
           "timepoint": 440,
           "trajectory": "D_sol",
           "upper": 27743.5224609375
          },
          {
           "lower": 25325.52734375,
           "timepoint": 441,
           "trajectory": "D_sol",
           "upper": 27749.8671875
          },
          {
           "lower": 25341.9794921875,
           "timepoint": 442,
           "trajectory": "D_sol",
           "upper": 27756.1767578125
          },
          {
           "lower": 25358.18349609375,
           "timepoint": 443,
           "trajectory": "D_sol",
           "upper": 27762.48251953125
          },
          {
           "lower": 25374.11474609375,
           "timepoint": 444,
           "trajectory": "D_sol",
           "upper": 27768.77392578125
          },
          {
           "lower": 25389.8103515625,
           "timepoint": 445,
           "trajectory": "D_sol",
           "upper": 27775.0529296875
          },
          {
           "lower": 25405.2388671875,
           "timepoint": 446,
           "trajectory": "D_sol",
           "upper": 27781.3197265625
          },
          {
           "lower": 25420.455859375,
           "timepoint": 447,
           "trajectory": "D_sol",
           "upper": 27787.575390625
          },
          {
           "lower": 25435.42783203125,
           "timepoint": 448,
           "trajectory": "D_sol",
           "upper": 27793.81630859375
          },
          {
           "lower": 25450.18671875,
           "timepoint": 449,
           "trajectory": "D_sol",
           "upper": 27800.08671875
          },
          {
           "lower": 25464.73388671875,
           "timepoint": 450,
           "trajectory": "D_sol",
           "upper": 27806.34228515625
          },
          {
           "lower": 25479.0369140625,
           "timepoint": 451,
           "trajectory": "D_sol",
           "upper": 27812.5998046875
          },
          {
           "lower": 25493.11171875,
           "timepoint": 452,
           "trajectory": "D_sol",
           "upper": 27818.81015625
          },
          {
           "lower": 25507.0740234375,
           "timepoint": 453,
           "trajectory": "D_sol",
           "upper": 27825.0626953125
          },
          {
           "lower": 25520.815234375,
           "timepoint": 454,
           "trajectory": "D_sol",
           "upper": 27831.298046875
          },
          {
           "lower": 25534.32548828125,
           "timepoint": 455,
           "trajectory": "D_sol",
           "upper": 27837.53974609375
          },
          {
           "lower": 25547.654296875,
           "timepoint": 456,
           "trajectory": "D_sol",
           "upper": 27843.779296875
          },
          {
           "lower": 25560.8458984375,
           "timepoint": 457,
           "trajectory": "D_sol",
           "upper": 27850.0486328125
          },
          {
           "lower": 25573.87998046875,
           "timepoint": 458,
           "trajectory": "D_sol",
           "upper": 27856.31337890625
          },
          {
           "lower": 25586.669140625,
           "timepoint": 459,
           "trajectory": "D_sol",
           "upper": 27862.565234375
          },
          {
           "lower": 25599.34853515625,
           "timepoint": 460,
           "trajectory": "D_sol",
           "upper": 27868.87607421875
          },
          {
           "lower": 25611.8349609375,
           "timepoint": 461,
           "trajectory": "D_sol",
           "upper": 27875.1767578125
          },
          {
           "lower": 25624.18818359375,
           "timepoint": 462,
           "trajectory": "D_sol",
           "upper": 27881.47783203125
          },
          {
           "lower": 25636.3779296875,
           "timepoint": 463,
           "trajectory": "D_sol",
           "upper": 27887.8017578125
          },
          {
           "lower": 25648.44423828125,
           "timepoint": 464,
           "trajectory": "D_sol",
           "upper": 27894.13583984375
          },
          {
           "lower": 25660.34560546875,
           "timepoint": 465,
           "trajectory": "D_sol",
           "upper": 27900.50009765625
          },
          {
           "lower": 25672.1658203125,
           "timepoint": 466,
           "trajectory": "D_sol",
           "upper": 27906.8693359375
          },
          {
           "lower": 25683.74091796875,
           "timepoint": 467,
           "trajectory": "D_sol",
           "upper": 27913.22197265625
          },
          {
           "lower": 25695.20966796875,
           "timepoint": 468,
           "trajectory": "D_sol",
           "upper": 27919.69853515625
          },
          {
           "lower": 25706.63466796875,
           "timepoint": 469,
           "trajectory": "D_sol",
           "upper": 27926.15244140625
          },
          {
           "lower": 25717.921484375,
           "timepoint": 470,
           "trajectory": "D_sol",
           "upper": 27932.617578125
          },
          {
           "lower": 25729.019140625,
           "timepoint": 471,
           "trajectory": "D_sol",
           "upper": 27939.109765625
          },
          {
           "lower": 25740.0076171875,
           "timepoint": 472,
           "trajectory": "D_sol",
           "upper": 27945.6369140625
          },
          {
           "lower": 25750.949609375,
           "timepoint": 473,
           "trajectory": "D_sol",
           "upper": 27952.194921875
          },
          {
           "lower": 25761.7251953125,
           "timepoint": 474,
           "trajectory": "D_sol",
           "upper": 27958.7904296875
          },
          {
           "lower": 25772.4345703125,
           "timepoint": 475,
           "trajectory": "D_sol",
           "upper": 27965.3935546875
          },
          {
           "lower": 25783.02568359375,
           "timepoint": 476,
           "trajectory": "D_sol",
           "upper": 27972.03486328125
          },
          {
           "lower": 25793.51259765625,
           "timepoint": 477,
           "trajectory": "D_sol",
           "upper": 27978.73544921875
          },
          {
           "lower": 25803.90458984375,
           "timepoint": 478,
           "trajectory": "D_sol",
           "upper": 27985.46064453125
          },
          {
           "lower": 25814.19697265625,
           "timepoint": 479,
           "trajectory": "D_sol",
           "upper": 27992.22685546875
          },
          {
           "lower": 25824.3951171875,
           "timepoint": 480,
           "trajectory": "D_sol",
           "upper": 27999.0306640625
          },
          {
           "lower": 25834.5173828125,
           "timepoint": 481,
           "trajectory": "D_sol",
           "upper": 28005.8693359375
          },
          {
           "lower": 25844.5541015625,
           "timepoint": 482,
           "trajectory": "D_sol",
           "upper": 28012.7701171875
          },
          {
           "lower": 25854.48671875,
           "timepoint": 483,
           "trajectory": "D_sol",
           "upper": 28019.696875
          },
          {
           "lower": 25864.34326171875,
           "timepoint": 484,
           "trajectory": "D_sol",
           "upper": 28026.68994140625
          },
          {
           "lower": 25874.13720703125,
           "timepoint": 485,
           "trajectory": "D_sol",
           "upper": 28033.72412109375
          },
          {
           "lower": 25883.8337890625,
           "timepoint": 486,
           "trajectory": "D_sol",
           "upper": 28040.8068359375
          },
          {
           "lower": 25893.48330078125,
           "timepoint": 487,
           "trajectory": "D_sol",
           "upper": 28047.94443359375
          },
          {
           "lower": 25903.047265625,
           "timepoint": 488,
           "trajectory": "D_sol",
           "upper": 28055.144140625
          },
          {
           "lower": 25912.54658203125,
           "timepoint": 489,
           "trajectory": "D_sol",
           "upper": 28062.38115234375
          },
          {
           "lower": 25921.97353515625,
           "timepoint": 490,
           "trajectory": "D_sol",
           "upper": 28069.68466796875
          },
          {
           "lower": 25931.31455078125,
           "timepoint": 491,
           "trajectory": "D_sol",
           "upper": 28077.04287109375
          },
          {
           "lower": 25940.6427734375,
           "timepoint": 492,
           "trajectory": "D_sol",
           "upper": 28084.4744140625
          },
          {
           "lower": 25949.87998046875,
           "timepoint": 493,
           "trajectory": "D_sol",
           "upper": 28092.00478515625
          },
          {
           "lower": 25959.0767578125,
           "timepoint": 494,
           "trajectory": "D_sol",
           "upper": 28099.5052734375
          },
          {
           "lower": 25968.2201171875,
           "timepoint": 495,
           "trajectory": "D_sol",
           "upper": 28107.1158203125
          },
          {
           "lower": 25977.28310546875,
           "timepoint": 496,
           "trajectory": "D_sol",
           "upper": 28114.81650390625
          },
          {
           "lower": 25986.3166015625,
           "timepoint": 497,
           "trajectory": "D_sol",
           "upper": 28122.5896484375
          },
          {
           "lower": 25995.28388671875,
           "timepoint": 498,
           "trajectory": "D_sol",
           "upper": 28130.40556640625
          },
          {
           "lower": 26004.20361328125,
           "timepoint": 499,
           "trajectory": "D_sol",
           "upper": 28138.30224609375
          },
          {
           "lower": 26013.075,
           "timepoint": 500,
           "trajectory": "D_sol",
           "upper": 28146.3
          },
          {
           "lower": 26021.93203125,
           "timepoint": 501,
           "trajectory": "D_sol",
           "upper": 28154.3765625
          },
          {
           "lower": 26030.729296875,
           "timepoint": 502,
           "trajectory": "D_sol",
           "upper": 28162.512890625
          },
          {
           "lower": 26039.48544921875,
           "timepoint": 503,
           "trajectory": "D_sol",
           "upper": 28170.74697265625
          },
          {
           "lower": 26048.21435546875,
           "timepoint": 504,
           "trajectory": "D_sol",
           "upper": 28179.06103515625
          },
          {
           "lower": 26056.88310546875,
           "timepoint": 505,
           "trajectory": "D_sol",
           "upper": 28187.46259765625
          },
          {
           "lower": 26065.51923828125,
           "timepoint": 506,
           "trajectory": "D_sol",
           "upper": 28195.94755859375
          },
          {
           "lower": 26074.109765625,
           "timepoint": 507,
           "trajectory": "D_sol",
           "upper": 28204.550390625
          },
          {
           "lower": 26082.72138671875,
           "timepoint": 508,
           "trajectory": "D_sol",
           "upper": 28213.23759765625
          },
          {
           "lower": 26091.2640625,
           "timepoint": 509,
           "trajectory": "D_sol",
           "upper": 28222.02109375
          },
          {
           "lower": 26099.7939453125,
           "timepoint": 510,
           "trajectory": "D_sol",
           "upper": 28230.9130859375
          },
          {
           "lower": 26108.29140625,
           "timepoint": 511,
           "trajectory": "D_sol",
           "upper": 28239.8921875
          },
          {
           "lower": 26116.78330078125,
           "timepoint": 512,
           "trajectory": "D_sol",
           "upper": 28248.97646484375
          },
          {
           "lower": 26125.209765625,
           "timepoint": 513,
           "trajectory": "D_sol",
           "upper": 28258.188671875
          },
          {
           "lower": 26133.6427734375,
           "timepoint": 514,
           "trajectory": "D_sol",
           "upper": 28267.4900390625
          },
          {
           "lower": 26142.0328125,
           "timepoint": 515,
           "trajectory": "D_sol",
           "upper": 28276.8890625
          },
          {
           "lower": 26150.41787109375,
           "timepoint": 516,
           "trajectory": "D_sol",
           "upper": 28286.47470703125
          },
          {
           "lower": 26158.77939453125,
           "timepoint": 517,
           "trajectory": "D_sol",
           "upper": 28296.14052734375
          },
          {
           "lower": 26167.14150390625,
           "timepoint": 518,
           "trajectory": "D_sol",
           "upper": 28305.92294921875
          },
          {
           "lower": 26175.4830078125,
           "timepoint": 519,
           "trajectory": "D_sol",
           "upper": 28315.8060546875
          },
          {
           "lower": 26183.8033203125,
           "timepoint": 520,
           "trajectory": "D_sol",
           "upper": 28325.8841796875
          },
          {
           "lower": 26192.11708984375,
           "timepoint": 521,
           "trajectory": "D_sol",
           "upper": 28336.04892578125
          },
          {
           "lower": 26200.42236328125,
           "timepoint": 522,
           "trajectory": "D_sol",
           "upper": 28346.36865234375
          },
          {
           "lower": 26208.7138671875,
           "timepoint": 523,
           "trajectory": "D_sol",
           "upper": 28356.8134765625
          },
          {
           "lower": 26216.99482421875,
           "timepoint": 524,
           "trajectory": "D_sol",
           "upper": 28367.40947265625
          },
          {
           "lower": 26225.26123046875,
           "timepoint": 525,
           "trajectory": "D_sol",
           "upper": 28378.15087890625
          },
          {
           "lower": 26233.5638671875,
           "timepoint": 526,
           "trajectory": "D_sol",
           "upper": 28389.0533203125
          },
          {
           "lower": 26241.83359375,
           "timepoint": 527,
           "trajectory": "D_sol",
           "upper": 28400.06875
          },
          {
           "lower": 26250.09716796875,
           "timepoint": 528,
           "trajectory": "D_sol",
           "upper": 28411.24853515625
          },
          {
           "lower": 26258.3822265625,
           "timepoint": 529,
           "trajectory": "D_sol",
           "upper": 28422.6255859375
          },
          {
           "lower": 26266.65185546875,
           "timepoint": 530,
           "trajectory": "D_sol",
           "upper": 28434.16650390625
          },
          {
           "lower": 26274.91494140625,
           "timepoint": 531,
           "trajectory": "D_sol",
           "upper": 28445.82919921875
          },
          {
           "lower": 26283.21845703125,
           "timepoint": 532,
           "trajectory": "D_sol",
           "upper": 28457.69755859375
          },
          {
           "lower": 26291.51171875,
           "timepoint": 533,
           "trajectory": "D_sol",
           "upper": 28469.72265625
          },
          {
           "lower": 26299.827734375,
           "timepoint": 534,
           "trajectory": "D_sol",
           "upper": 28481.933984375
          },
          {
           "lower": 26308.1017578125,
           "timepoint": 535,
           "trajectory": "D_sol",
           "upper": 28494.3318359375
          },
          {
           "lower": 26316.4099609375,
           "timepoint": 536,
           "trajectory": "D_sol",
           "upper": 28506.9220703125
          },
          {
           "lower": 26324.719921875,
           "timepoint": 537,
           "trajectory": "D_sol",
           "upper": 28519.721484375
          },
          {
           "lower": 26333.025,
           "timepoint": 538,
           "trajectory": "D_sol",
           "upper": 28532.67421875
          },
          {
           "lower": 26341.42197265625,
           "timepoint": 539,
           "trajectory": "D_sol",
           "upper": 28545.86123046875
          },
          {
           "lower": 26349.78818359375,
           "timepoint": 540,
           "trajectory": "D_sol",
           "upper": 28559.23720703125
          },
          {
           "lower": 26358.16826171875,
           "timepoint": 541,
           "trajectory": "D_sol",
           "upper": 28572.84150390625
          },
          {
           "lower": 26366.5642578125,
           "timepoint": 542,
           "trajectory": "D_sol",
           "upper": 28586.6427734375
          },
          {
           "lower": 26374.980859375,
           "timepoint": 543,
           "trajectory": "D_sol",
           "upper": 28600.659765625
          },
          {
           "lower": 26383.4185546875,
           "timepoint": 544,
           "trajectory": "D_sol",
           "upper": 28614.9369140625
          },
          {
           "lower": 26391.8845703125,
           "timepoint": 545,
           "trajectory": "D_sol",
           "upper": 28629.4357421875
          },
          {
           "lower": 26400.3720703125,
           "timepoint": 546,
           "trajectory": "D_sol",
           "upper": 28644.2021484375
          },
          {
           "lower": 26408.8955078125,
           "timepoint": 547,
           "trajectory": "D_sol",
           "upper": 28659.1240234375
          },
          {
           "lower": 26417.4146484375,
           "timepoint": 548,
           "trajectory": "D_sol",
           "upper": 28674.3509765625
          },
          {
           "lower": 26425.973828125,
           "timepoint": 549,
           "trajectory": "D_sol",
           "upper": 28689.811328125
          },
          {
           "lower": 26434.55380859375,
           "timepoint": 550,
           "trajectory": "D_sol",
           "upper": 28705.56142578125
          },
          {
           "lower": 26443.19521484375,
           "timepoint": 551,
           "trajectory": "D_sol",
           "upper": 28721.52939453125
          },
          {
           "lower": 26451.8490234375,
           "timepoint": 552,
           "trajectory": "D_sol",
           "upper": 28737.8033203125
          },
          {
           "lower": 26460.52724609375,
           "timepoint": 553,
           "trajectory": "D_sol",
           "upper": 28754.33017578125
          },
          {
           "lower": 26469.26396484375,
           "timepoint": 554,
           "trajectory": "D_sol",
           "upper": 28771.15986328125
          },
          {
           "lower": 26478.03193359375,
           "timepoint": 555,
           "trajectory": "D_sol",
           "upper": 28788.26689453125
          },
          {
           "lower": 26486.85859375,
           "timepoint": 556,
           "trajectory": "D_sol",
           "upper": 28805.68046875
          },
          {
           "lower": 26495.6607421875,
           "timepoint": 557,
           "trajectory": "D_sol",
           "upper": 28823.4017578125
          },
          {
           "lower": 26504.5369140625,
           "timepoint": 558,
           "trajectory": "D_sol",
           "upper": 28841.4044921875
          },
          {
           "lower": 26513.44921875,
           "timepoint": 559,
           "trajectory": "D_sol",
           "upper": 28859.70703125
          },
          {
           "lower": 26522.4228515625,
           "timepoint": 560,
           "trajectory": "D_sol",
           "upper": 28878.4013671875
          },
          {
           "lower": 26531.4373046875,
           "timepoint": 561,
           "trajectory": "D_sol",
           "upper": 28897.3791015625
          },
          {
           "lower": 26540.51708984375,
           "timepoint": 562,
           "trajectory": "D_sol",
           "upper": 28916.71923828125
          },
          {
           "lower": 26549.59833984375,
           "timepoint": 563,
           "trajectory": "D_sol",
           "upper": 28936.40361328125
          },
          {
           "lower": 26558.760546875,
           "timepoint": 564,
           "trajectory": "D_sol",
           "upper": 28956.501171875
          },
          {
           "lower": 26567.98115234375,
           "timepoint": 565,
           "trajectory": "D_sol",
           "upper": 28976.79423828125
          },
          {
           "lower": 26577.22421875,
           "timepoint": 566,
           "trajectory": "D_sol",
           "upper": 28997.5140625
          },
          {
           "lower": 26586.560546875,
           "timepoint": 567,
           "trajectory": "D_sol",
           "upper": 29018.669921875
          },
          {
           "lower": 26595.9091796875,
           "timepoint": 568,
           "trajectory": "D_sol",
           "upper": 29040.1650390625
          },
          {
           "lower": 2.1903973860398773e-12,
           "timepoint": 0,
           "trajectory": "H_sol",
           "upper": 2.2057249689927394e-12
          },
          {
           "lower": 0.017454679124057293,
           "timepoint": 1,
           "trajectory": "H_sol",
           "upper": 0.01752664614468813
          },
          {
           "lower": 0.028681528102606536,
           "timepoint": 2,
           "trajectory": "H_sol",
           "upper": 0.02879354888573289
          },
          {
           "lower": 0.03633546382188797,
           "timepoint": 3,
           "trajectory": "H_sol",
           "upper": 0.03656256645917892
          },
          {
           "lower": 0.04192506261169911,
           "timepoint": 4,
           "trajectory": "H_sol",
           "upper": 0.042382332310080525
          },
          {
           "lower": 0.04631916843354702,
           "timepoint": 5,
           "trajectory": "H_sol",
           "upper": 0.04713181741535664
          },
          {
           "lower": 0.050026241689920425,
           "timepoint": 6,
           "trajectory": "H_sol",
           "upper": 0.05131819471716881
          },
          {
           "lower": 0.05334944538772106,
           "timepoint": 7,
           "trajectory": "H_sol",
           "upper": 0.05523944385349751
          },
          {
           "lower": 0.05647359024733305,
           "timepoint": 8,
           "trajectory": "H_sol",
           "upper": 0.05907579902559519
          },
          {
           "lower": 0.05951436311006546,
           "timepoint": 9,
           "trajectory": "H_sol",
           "upper": 0.06294002681970597
          },
          {
           "lower": 0.06254584323614835,
           "timepoint": 10,
           "trajectory": "H_sol",
           "upper": 0.06690556947141886
          },
          {
           "lower": 0.0656177993863821,
           "timepoint": 11,
           "trajectory": "H_sol",
           "upper": 0.07102311439812184
          },
          {
           "lower": 0.0687644548714161,
           "timepoint": 12,
           "trajectory": "H_sol",
           "upper": 0.07533008679747581
          },
          {
           "lower": 0.0720106016844511,
           "timepoint": 13,
           "trajectory": "H_sol",
           "upper": 0.07985584177076817
          },
          {
           "lower": 0.07537494227290154,
           "timepoint": 14,
           "trajectory": "H_sol",
           "upper": 0.08462527766823769
          },
          {
           "lower": 0.07887308299541473,
           "timepoint": 15,
           "trajectory": "H_sol",
           "upper": 0.08966079354286194
          },
          {
           "lower": 0.0825171373784542,
           "timepoint": 16,
           "trajectory": "H_sol",
           "upper": 0.09498306587338448
          },
          {
           "lower": 0.08631871156394481,
           "timepoint": 17,
           "trajectory": "H_sol",
           "upper": 0.1006130550056696
          },
          {
           "lower": 0.09028807692229748,
           "timepoint": 18,
           "trajectory": "H_sol",
           "upper": 0.1065711710602045
          },
          {
           "lower": 0.0944352988153696,
           "timepoint": 19,
           "trajectory": "H_sol",
           "upper": 0.11287873797118664
          },
          {
           "lower": 0.09877002574503421,
           "timepoint": 20,
           "trajectory": "H_sol",
           "upper": 0.11955747418105603
          },
          {
           "lower": 0.10330203287303448,
           "timepoint": 21,
           "trajectory": "H_sol",
           "upper": 0.12663016356527806
          },
          {
           "lower": 0.10804113149642944,
           "timepoint": 22,
           "trajectory": "H_sol",
           "upper": 0.13412094712257386
          },
          {
           "lower": 0.11299772076308727,
           "timepoint": 23,
           "trajectory": "H_sol",
           "upper": 0.1420546744018793
          },
          {
           "lower": 0.1181820124387741,
           "timepoint": 24,
           "trajectory": "H_sol",
           "upper": 0.15045826733112336
          },
          {
           "lower": 0.12360494956374168,
           "timepoint": 25,
           "trajectory": "H_sol",
           "upper": 0.15935953333973885
          },
          {
           "lower": 0.12927772849798203,
           "timepoint": 26,
           "trajectory": "H_sol",
           "upper": 0.16878841072320938
          },
          {
           "lower": 0.13521223813295363,
           "timepoint": 27,
           "trajectory": "H_sol",
           "upper": 0.17877632826566697
          },
          {
           "lower": 0.1414206475019455,
           "timepoint": 28,
           "trajectory": "H_sol",
           "upper": 0.1893560141324997
          },
          {
           "lower": 0.14791568070650102,
           "timepoint": 29,
           "trajectory": "H_sol",
           "upper": 0.20056323260068892
          },
          {
           "lower": 0.15471088960766793,
           "timepoint": 30,
           "trajectory": "H_sol",
           "upper": 0.21243499144911765
          },
          {
           "lower": 0.16182023286819458,
           "timepoint": 31,
           "trajectory": "H_sol",
           "upper": 0.22501146793365479
          },
          {
           "lower": 0.16925863102078437,
           "timepoint": 32,
           "trajectory": "H_sol",
           "upper": 0.2383336804807186
          },
          {
           "lower": 0.17704106718301774,
           "timepoint": 33,
           "trajectory": "H_sol",
           "upper": 0.25244625061750414
          },
          {
           "lower": 0.18518373742699623,
           "timepoint": 34,
           "trajectory": "H_sol",
           "upper": 0.2673964612185955
          },
          {
           "lower": 0.19370342493057252,
           "timepoint": 35,
           "trajectory": "H_sol",
           "upper": 0.28323363065719603
          },
          {
           "lower": 0.2026181273162365,
           "timepoint": 36,
           "trajectory": "H_sol",
           "upper": 0.30001057162880895
          },
          {
           "lower": 0.21194587424397468,
           "timepoint": 37,
           "trajectory": "H_sol",
           "upper": 0.31778365597128866
          },
          {
           "lower": 0.22170615270733834,
           "timepoint": 38,
           "trajectory": "H_sol",
           "upper": 0.33661173209547995
          },
          {
           "lower": 0.23191890269517898,
           "timepoint": 39,
           "trajectory": "H_sol",
           "upper": 0.3565568909049034
          },
          {
           "lower": 0.24260572865605354,
           "timepoint": 40,
           "trajectory": "H_sol",
           "upper": 0.37768656238913534
          },
          {
           "lower": 0.2537885636091232,
           "timepoint": 41,
           "trajectory": "H_sol",
           "upper": 0.40007093250751496
          },
          {
           "lower": 0.26549058109521867,
           "timepoint": 42,
           "trajectory": "H_sol",
           "upper": 0.423783640563488
          },
          {
           "lower": 0.27773688435554506,
           "timepoint": 43,
           "trajectory": "H_sol",
           "upper": 0.448904949426651
          },
          {
           "lower": 0.2905520498752594,
           "timepoint": 44,
           "trajectory": "H_sol",
           "upper": 0.47551825642585754
          },
          {
           "lower": 0.30396302342414855,
           "timepoint": 45,
           "trajectory": "H_sol",
           "upper": 0.5037117421627044
          },
          {
           "lower": 0.31799781918525694,
           "timepoint": 46,
           "trajectory": "H_sol",
           "upper": 0.5335799396038056
          },
          {
           "lower": 0.33268628269433975,
           "timepoint": 47,
           "trajectory": "H_sol",
           "upper": 0.5652221366763115
          },
          {
           "lower": 0.34805824160575866,
           "timepoint": 48,
           "trajectory": "H_sol",
           "upper": 0.5987442553043365
          },
          {
           "lower": 0.36414635479450225,
           "timepoint": 49,
           "trajectory": "H_sol",
           "upper": 0.6342577308416366
          },
          {
           "lower": 0.38098430037498476,
           "timepoint": 50,
           "trajectory": "H_sol",
           "upper": 0.6718815624713897
          },
          {
           "lower": 0.39860706925392153,
           "timepoint": 51,
           "trajectory": "H_sol",
           "upper": 0.711739844083786
          },
          {
           "lower": 0.4170518398284912,
           "timepoint": 52,
           "trajectory": "H_sol",
           "upper": 0.7539671182632446
          },
          {
           "lower": 0.43635743111371994,
           "timepoint": 53,
           "trajectory": "H_sol",
           "upper": 0.7987038865685463
          },
          {
           "lower": 0.4565645486116409,
           "timepoint": 54,
           "trajectory": "H_sol",
           "upper": 0.8460985988378524
          },
          {
           "lower": 0.47771530151367186,
           "timepoint": 55,
           "trajectory": "H_sol",
           "upper": 0.89631028175354
          },
          {
           "lower": 0.49985442161560056,
           "timepoint": 56,
           "trajectory": "H_sol",
           "upper": 0.9495059490203858
          },
          {
           "lower": 0.5230286166071891,
           "timepoint": 57,
           "trajectory": "H_sol",
           "upper": 1.0058644071221352
          },
          {
           "lower": 0.5472869008779526,
           "timepoint": 58,
           "trajectory": "H_sol",
           "upper": 1.0655728846788406
          },
          {
           "lower": 0.5726803332567215,
           "timepoint": 59,
           "trajectory": "H_sol",
           "upper": 1.1288295596837996
          },
          {
           "lower": 0.5992625147104264,
           "timepoint": 60,
           "trajectory": "H_sol",
           "upper": 1.195847651362419
          },
          {
           "lower": 0.6270896196365356,
           "timepoint": 61,
           "trajectory": "H_sol",
           "upper": 1.2668501138687134
          },
          {
           "lower": 0.6562226712703705,
           "timepoint": 62,
           "trajectory": "H_sol",
           "upper": 1.3420737087726593
          },
          {
           "lower": 0.6867205977439881,
           "timepoint": 63,
           "trajectory": "H_sol",
           "upper": 1.4217701077461242
          },
          {
           "lower": 0.7186493813991547,
           "timepoint": 64,
           "trajectory": "H_sol",
           "upper": 1.5062059223651885
          },
          {
           "lower": 0.752077379822731,
           "timepoint": 65,
           "trajectory": "H_sol",
           "upper": 1.5956617802381514
          },
          {
           "lower": 0.7870751023292542,
           "timepoint": 66,
           "trajectory": "H_sol",
           "upper": 1.6904377341270447
          },
          {
           "lower": 0.8237170398235321,
           "timepoint": 67,
           "trajectory": "H_sol",
           "upper": 1.790849405527115
          },
          {
           "lower": 0.8620815008878708,
           "timepoint": 68,
           "trajectory": "H_sol",
           "upper": 1.8972345262765884
          },
          {
           "lower": 0.9022516459226608,
           "timepoint": 69,
           "trajectory": "H_sol",
           "upper": 2.0099457651376724
          },
          {
           "lower": 0.9443118035793304,
           "timepoint": 70,
           "trajectory": "H_sol",
           "upper": 2.1293601334095
          },
          {
           "lower": 0.9883529037237168,
           "timepoint": 71,
           "trajectory": "H_sol",
           "upper": 2.2558802872896195
          },
          {
           "lower": 1.034469187259674,
           "timepoint": 72,
           "trajectory": "H_sol",
           "upper": 2.3899256587028503
          },
          {
           "lower": 1.0827588617801667,
           "timepoint": 73,
           "trajectory": "H_sol",
           "upper": 2.5319470584392545
          },
          {
           "lower": 1.1333262741565704,
           "timepoint": 74,
           "trajectory": "H_sol",
           "upper": 2.682408946752548
          },
          {
           "lower": 1.1862804114818573,
           "timepoint": 75,
           "trajectory": "H_sol",
           "upper": 2.841826397180557
          },
          {
           "lower": 1.2417349934577941,
           "timepoint": 76,
           "trajectory": "H_sol",
           "upper": 3.0107271552085875
          },
          {
           "lower": 1.2998111248016357,
           "timepoint": 77,
           "trajectory": "H_sol",
           "upper": 3.189678430557251
          },
          {
           "lower": 1.3606319725513458,
           "timepoint": 78,
           "trajectory": "H_sol",
           "upper": 3.3792737424373627
          },
          {
           "lower": 1.4243300676345825,
           "timepoint": 79,
           "trajectory": "H_sol",
           "upper": 3.5801450490951536
          },
          {
           "lower": 1.491043794155121,
           "timepoint": 80,
           "trajectory": "H_sol",
           "upper": 3.792984020709991
          },
          {
           "lower": 1.560916256904602,
           "timepoint": 81,
           "trajectory": "H_sol",
           "upper": 4.018477606773376
          },
          {
           "lower": 1.634100717306137,
           "timepoint": 82,
           "trajectory": "H_sol",
           "upper": 4.257389861345291
          },
          {
           "lower": 1.710756278038025,
           "timepoint": 83,
           "trajectory": "H_sol",
           "upper": 4.51051857471466
          },
          {
           "lower": 1.7910453617572784,
           "timepoint": 84,
           "trajectory": "H_sol",
           "upper": 4.778713887929916
          },
          {
           "lower": 1.8751479983329773,
           "timepoint": 85,
           "trajectory": "H_sol",
           "upper": 5.062855780124664
          },
          {
           "lower": 1.9632462203502654,
           "timepoint": 86,
           "trajectory": "H_sol",
           "upper": 5.363913780450821
          },
          {
           "lower": 2.0555318117141725,
           "timepoint": 87,
           "trajectory": "H_sol",
           "upper": 5.682888197898865
          },
          {
           "lower": 2.152207612991333,
           "timepoint": 88,
           "trajectory": "H_sol",
           "upper": 6.020841360092163
          },
          {
           "lower": 2.253484034538269,
           "timepoint": 89,
           "trajectory": "H_sol",
           "upper": 6.378906464576721
          },
          {
           "lower": 2.359582817554474,
           "timepoint": 90,
           "trajectory": "H_sol",
           "upper": 6.758279645442962
          },
          {
           "lower": 2.4707395315170286,
           "timepoint": 91,
           "trajectory": "H_sol",
           "upper": 7.160230946540833
          },
          {
           "lower": 2.5871959567070006,
           "timepoint": 92,
           "trajectory": "H_sol",
           "upper": 7.58610121011734
          },
          {
           "lower": 2.7092099666595457,
           "timepoint": 93,
           "trajectory": "H_sol",
           "upper": 8.037313890457153
          },
          {
           "lower": 2.8370513677597047,
           "timepoint": 94,
           "trajectory": "H_sol",
           "upper": 8.51537754535675
          },
          {
           "lower": 2.9709935426712035,
           "timepoint": 95,
           "trajectory": "H_sol",
           "upper": 9.021885848045349
          },
          {
           "lower": 3.111343705654144,
           "timepoint": 96,
           "trajectory": "H_sol",
           "upper": 9.55853453874588
          },
          {
           "lower": 3.258408510684967,
           "timepoint": 97,
           "trajectory": "H_sol",
           "upper": 10.127133166790008
          },
          {
           "lower": 3.412511932849884,
           "timepoint": 98,
           "trajectory": "H_sol",
           "upper": 10.72955001592636
          },
          {
           "lower": 3.5740015387535093,
           "timepoint": 99,
           "trajectory": "H_sol",
           "upper": 11.36780549287796
          },
          {
           "lower": 3.7432311296463014,
           "timepoint": 100,
           "trajectory": "H_sol",
           "upper": 12.04406850337982
          },
          {
           "lower": 3.920576512813568,
           "timepoint": 101,
           "trajectory": "H_sol",
           "upper": 12.760556995868683
          },
          {
           "lower": 4.106438004970551,
           "timepoint": 102,
           "trajectory": "H_sol",
           "upper": 13.519679939746856
          },
          {
           "lower": 4.301224589347839,
           "timepoint": 103,
           "trajectory": "H_sol",
           "upper": 14.323938012123108
          },
          {
           "lower": 4.505374836921692,
           "timepoint": 104,
           "trajectory": "H_sol",
           "upper": 15.176059317588805
          },
          {
           "lower": 4.719343209266663,
           "timepoint": 105,
           "trajectory": "H_sol",
           "upper": 16.078872179985044
          },
          {
           "lower": 4.94361183643341,
           "timepoint": 106,
           "trajectory": "H_sol",
           "upper": 17.03539159297943
          },
          {
           "lower": 5.178682208061218,
           "timepoint": 107,
           "trajectory": "H_sol",
           "upper": 18.048811554908752
          },
          {
           "lower": 5.425079965591431,
           "timepoint": 108,
           "trajectory": "H_sol",
           "upper": 19.12248454093933
          },
          {
           "lower": 5.683360433578491,
           "timepoint": 109,
           "trajectory": "H_sol",
           "upper": 20.260026597976683
          },
          {
           "lower": 5.954122686386109,
           "timepoint": 110,
           "trajectory": "H_sol",
           "upper": 21.465224123001097
          },
          {
           "lower": 6.237952089309692,
           "timepoint": 111,
           "trajectory": "H_sol",
           "upper": 22.742057943344115
          },
          {
           "lower": 6.535500240325928,
           "timepoint": 112,
           "trajectory": "H_sol",
           "upper": 24.094823169708253
          },
          {
           "lower": 6.847438716888428,
           "timepoint": 113,
           "trajectory": "H_sol",
           "upper": 25.528005695343015
          },
          {
           "lower": 7.174481606483459,
           "timepoint": 114,
           "trajectory": "H_sol",
           "upper": 27.04637553691864
          },
          {
           "lower": 7.517359972000122,
           "timepoint": 115,
           "trajectory": "H_sol",
           "upper": 28.654990911483765
          },
          {
           "lower": 7.876854825019836,
           "timepoint": 116,
           "trajectory": "H_sol",
           "upper": 30.35919816493988
          },
          {
           "lower": 8.253793215751648,
           "timepoint": 117,
           "trajectory": "H_sol",
           "upper": 32.16466047763824
          },
          {
           "lower": 8.649023532867432,
           "timepoint": 118,
           "trajectory": "H_sol",
           "upper": 34.07736921310425
          },
          {
           "lower": 9.063450479507447,
           "timepoint": 119,
           "trajectory": "H_sol",
           "upper": 36.10371623039246
          },
          {
           "lower": 9.498019552230835,
           "timepoint": 120,
           "trajectory": "H_sol",
           "upper": 38.25037922859192
          },
          {
           "lower": 9.953728342056275,
           "timepoint": 121,
           "trajectory": "H_sol",
           "upper": 40.524450635910036
          },
          {
           "lower": 10.43162007331848,
           "timepoint": 122,
           "trajectory": "H_sol",
           "upper": 42.93363242149353
          },
          {
           "lower": 10.932787561416626,
           "timepoint": 123,
           "trajectory": "H_sol",
           "upper": 45.48574481010437
          },
          {
           "lower": 11.45838122367859,
           "timepoint": 124,
           "trajectory": "H_sol",
           "upper": 48.18929047584533
          },
          {
           "lower": 12.00959882736206,
           "timepoint": 125,
           "trajectory": "H_sol",
           "upper": 51.05313959121704
          },
          {
           "lower": 12.587726068496703,
           "timepoint": 126,
           "trajectory": "H_sol",
           "upper": 54.08687167167663
          },
          {
           "lower": 13.194090414047242,
           "timepoint": 127,
           "trajectory": "H_sol",
           "upper": 57.300447893142696
          },
          {
           "lower": 13.830074977874755,
           "timepoint": 128,
           "trajectory": "H_sol",
           "upper": 60.70445756912231
          },
          {
           "lower": 14.497164726257324,
           "timepoint": 129,
           "trajectory": "H_sol",
           "upper": 64.31012058258057
          },
          {
           "lower": 15.196899032592773,
           "timepoint": 130,
           "trajectory": "H_sol",
           "upper": 68.12943305969237
          },
          {
           "lower": 15.930881977081299,
           "timepoint": 131,
           "trajectory": "H_sol",
           "upper": 72.17467641830444
          },
          {
           "lower": 16.700863361358643,
           "timepoint": 132,
           "trajectory": "H_sol",
           "upper": 76.45959615707397
          },
          {
           "lower": 17.508568286895752,
           "timepoint": 133,
           "trajectory": "H_sol",
           "upper": 80.99777746200562
          },
          {
           "lower": 18.35589470863342,
           "timepoint": 134,
           "trajectory": "H_sol",
           "upper": 85.80439028739929
          },
          {
           "lower": 19.244822359085084,
           "timepoint": 135,
           "trajectory": "H_sol",
           "upper": 90.89504256248473
          },
          {
           "lower": 20.17740578651428,
           "timepoint": 136,
           "trajectory": "H_sol",
           "upper": 96.2864375591278
          },
          {
           "lower": 21.155804443359376,
           "timepoint": 137,
           "trajectory": "H_sol",
           "upper": 101.99589843749999
          },
          {
           "lower": 22.18229970932007,
           "timepoint": 138,
           "trajectory": "H_sol",
           "upper": 108.04225816726684
          },
          {
           "lower": 23.259303283691406,
           "timepoint": 139,
           "trajectory": "H_sol",
           "upper": 114.44533233642578
          },
          {
           "lower": 24.389291191101073,
           "timepoint": 140,
           "trajectory": "H_sol",
           "upper": 121.22562656402587
          },
          {
           "lower": 25.574982357025146,
           "timepoint": 141,
           "trajectory": "H_sol",
           "upper": 128.4052060127258
          },
          {
           "lower": 26.81904411315918,
           "timepoint": 142,
           "trajectory": "H_sol",
           "upper": 136.00704383850098
          },
          {
           "lower": 28.124428081512452,
           "timepoint": 143,
           "trajectory": "H_sol",
           "upper": 144.05584115982055
          },
          {
           "lower": 29.494171333312988,
           "timepoint": 144,
           "trajectory": "H_sol",
           "upper": 152.57764797210692
          },
          {
           "lower": 30.931476020812987,
           "timepoint": 145,
           "trajectory": "H_sol",
           "upper": 161.5994192123413
          },
          {
           "lower": 32.439706802368164,
           "timepoint": 146,
           "trajectory": "H_sol",
           "upper": 171.1503734588623
          },
          {
           "lower": 34.02240076065063,
           "timepoint": 147,
           "trajectory": "H_sol",
           "upper": 181.26080808639526
          },
          {
           "lower": 35.683218002319336,
           "timepoint": 148,
           "trajectory": "H_sol",
           "upper": 191.96260261535645
          },
          {
           "lower": 37.42606544494629,
           "timepoint": 149,
           "trajectory": "H_sol",
           "upper": 203.28999137878418
          },
          {
           "lower": 39.25500755310058,
           "timepoint": 150,
           "trajectory": "H_sol",
           "upper": 215.27869148254393
          },
          {
           "lower": 41.17431983947754,
           "timepoint": 151,
           "trajectory": "H_sol",
           "upper": 227.9665416717529
          },
          {
           "lower": 43.188436317443845,
           "timepoint": 152,
           "trajectory": "H_sol",
           "upper": 241.39267559051513
          },
          {
           "lower": 45.30206832885742,
           "timepoint": 153,
           "trajectory": "H_sol",
           "upper": 255.59943618774412
          },
          {
           "lower": 47.520242309570314,
           "timepoint": 154,
           "trajectory": "H_sol",
           "upper": 270.6313079833984
          },
          {
           "lower": 49.847944831848146,
           "timepoint": 155,
           "trajectory": "H_sol",
           "upper": 286.53414669036863
          },
          {
           "lower": 52.29063873291015,
           "timepoint": 156,
           "trajectory": "H_sol",
           "upper": 303.3571578979492
          },
          {
           "lower": 54.85418148040772,
           "timepoint": 157,
           "trajectory": "H_sol",
           "upper": 321.1516206741333
          },
          {
           "lower": 57.54425277709961,
           "timepoint": 158,
           "trajectory": "H_sol",
           "upper": 339.9717536926269
          },
          {
           "lower": 60.36712379455567,
           "timepoint": 159,
           "trajectory": "H_sol",
           "upper": 359.8742931365967
          },
          {
           "lower": 63.32936840057373,
           "timepoint": 160,
           "trajectory": "H_sol",
           "upper": 380.9194604873657
          },
          {
           "lower": 66.43771724700927,
           "timepoint": 161,
           "trajectory": "H_sol",
           "upper": 403.169220161438
          },
          {
           "lower": 69.69946899414063,
           "timepoint": 162,
           "trajectory": "H_sol",
           "upper": 426.69042358398434
          },
          {
           "lower": 73.12192344665527,
           "timepoint": 163,
           "trajectory": "H_sol",
           "upper": 451.5514545440674
          },
          {
           "lower": 76.71288356781005,
           "timepoint": 164,
           "trajectory": "H_sol",
           "upper": 477.8246263504028
          },
          {
           "lower": 80.48054542541504,
           "timepoint": 165,
           "trajectory": "H_sol",
           "upper": 505.5853954315185
          },
          {
           "lower": 84.4335241317749,
           "timepoint": 166,
           "trajectory": "H_sol",
           "upper": 534.9156007766724
          },
          {
           "lower": 88.58055763244629,
           "timepoint": 167,
           "trajectory": "H_sol",
           "upper": 565.8952953338622
          },
          {
           "lower": 92.93105239868164,
           "timepoint": 168,
           "trajectory": "H_sol",
           "upper": 598.6126335144043
          },
          {
           "lower": 97.49458312988281,
           "timepoint": 169,
           "trajectory": "H_sol",
           "upper": 633.1574554443359
          },
          {
           "lower": 102.28127975463867,
           "timepoint": 170,
           "trajectory": "H_sol",
           "upper": 669.6254127502441
          },
          {
           "lower": 107.30209159851074,
           "timepoint": 171,
           "trajectory": "H_sol",
           "upper": 708.1128940582275
          },
          {
           "lower": 112.56750450134277,
           "timepoint": 172,
           "trajectory": "H_sol",
           "upper": 748.7235492706299
          },
          {
           "lower": 118.08907775878907,
           "timepoint": 173,
           "trajectory": "H_sol",
           "upper": 791.5646697998046
          },
          {
           "lower": 123.87877502441407,
           "timepoint": 174,
           "trajectory": "H_sol",
           "upper": 836.7451873779296
          },
          {
           "lower": 129.94894218444824,
           "timepoint": 175,
           "trajectory": "H_sol",
           "upper": 884.3804721832275
          },
          {
           "lower": 136.3125114440918,
           "timepoint": 176,
           "trajectory": "H_sol",
           "upper": 934.587833404541
          },
          {
           "lower": 142.9826972961426,
           "timepoint": 177,
           "trajectory": "H_sol",
           "upper": 987.4904930114745
          },
          {
           "lower": 149.9733600616455,
           "timepoint": 178,
           "trajectory": "H_sol",
           "upper": 1043.2152919769287
          },
          {
           "lower": 157.29902305603028,
           "timepoint": 179,
           "trajectory": "H_sol",
           "upper": 1101.8909564971923
          },
          {
           "lower": 164.97423934936523,
           "timepoint": 180,
           "trajectory": "H_sol",
           "upper": 1163.6508979797363
          },
          {
           "lower": 173.01452522277833,
           "timepoint": 181,
           "trajectory": "H_sol",
           "upper": 1228.6337825775147
          },
          {
           "lower": 181.43563423156738,
           "timepoint": 182,
           "trajectory": "H_sol",
           "upper": 1296.9770168304442
          },
          {
           "lower": 190.25391426086426,
           "timepoint": 183,
           "trajectory": "H_sol",
           "upper": 1368.8246303558349
          },
          {
           "lower": 199.48625259399415,
           "timepoint": 184,
           "trajectory": "H_sol",
           "upper": 1444.3196403503416
          },
          {
           "lower": 209.149853515625,
           "timepoint": 185,
           "trajectory": "H_sol",
           "upper": 1523.6104003906248
          },
          {
           "lower": 219.26252059936525,
           "timepoint": 186,
           "trajectory": "H_sol",
           "upper": 1606.8433296203611
          },
          {
           "lower": 229.8425064086914,
           "timepoint": 187,
           "trajectory": "H_sol",
           "upper": 1694.168571472168
          },
          {
           "lower": 240.90824661254885,
           "timepoint": 188,
           "trajectory": "H_sol",
           "upper": 1785.7331565856932
          },
          {
           "lower": 252.4791603088379,
           "timepoint": 189,
           "trajectory": "H_sol",
           "upper": 1881.686595916748
          },
          {
           "lower": 264.57415237426756,
           "timepoint": 190,
           "trajectory": "H_sol",
           "upper": 1982.1702781677245
          },
          {
           "lower": 277.21320114135744,
           "timepoint": 191,
           "trajectory": "H_sol",
           "upper": 2087.3314308166505
          },
          {
           "lower": 290.4162963867187,
           "timepoint": 192,
           "trajectory": "H_sol",
           "upper": 2197.309533691406
          },
          {
           "lower": 304.2034858703613,
           "timepoint": 193,
           "trajectory": "H_sol",
           "upper": 2312.2330833435058
          },
          {
           "lower": 318.5953994750977,
           "timepoint": 194,
           "trajectory": "H_sol",
           "upper": 2432.234770202637
          },
          {
           "lower": 333.6126403808594,
           "timepoint": 195,
           "trajectory": "H_sol",
           "upper": 2557.433868408203
          },
          {
           "lower": 349.2752975463867,
           "timepoint": 196,
           "trajectory": "H_sol",
           "upper": 2687.9371353149413
          },
          {
           "lower": 365.6042114257813,
           "timepoint": 197,
           "trajectory": "H_sol",
           "upper": 2823.842810058594
          },
          {
           "lower": 382.6200065612793,
           "timepoint": 198,
           "trajectory": "H_sol",
           "upper": 2965.238712310791
          },
          {
           "lower": 400.3428215026855,
           "timepoint": 199,
           "trajectory": "H_sol",
           "upper": 3112.1943641662597
          },
          {
           "lower": 418.7922317504883,
           "timepoint": 200,
           "trajectory": "H_sol",
           "upper": 3264.7570541381833
          },
          {
           "lower": 437.9885452270508,
           "timepoint": 201,
           "trajectory": "H_sol",
           "upper": 3422.966014099121
          },
          {
           "lower": 457.9500396728516,
           "timepoint": 202,
           "trajectory": "H_sol",
           "upper": 3586.828219604492
          },
          {
           "lower": 478.69545593261716,
           "timepoint": 203,
           "trajectory": "H_sol",
           "upper": 3756.327310180664
          },
          {
           "lower": 500.24351959228517,
           "timepoint": 204,
           "trajectory": "H_sol",
           "upper": 3931.436747741699
          },
          {
           "lower": 522.6099197387696,
           "timepoint": 205,
           "trajectory": "H_sol",
           "upper": 4112.0690048217775
          },
          {
           "lower": 545.8114395141602,
           "timepoint": 206,
           "trajectory": "H_sol",
           "upper": 4298.131523132324
          },
          {
           "lower": 569.8622955322265,
           "timepoint": 207,
           "trajectory": "H_sol",
           "upper": 4489.486276245117
          },
          {
           "lower": 594.7772109985351,
           "timepoint": 208,
           "trajectory": "H_sol",
           "upper": 4685.967509460449
          },
          {
           "lower": 620.5684387207032,
           "timepoint": 209,
           "trajectory": "H_sol",
           "upper": 4887.354290771485
          },
          {
           "lower": 647.2469711303711,
           "timepoint": 210,
           "trajectory": "H_sol",
           "upper": 5093.4006423950195
          },
          {
           "lower": 674.8225708007812,
           "timepoint": 211,
           "trajectory": "H_sol",
           "upper": 5303.803161621094
          },
          {
           "lower": 703.3047119140625,
           "timepoint": 212,
           "trajectory": "H_sol",
           "upper": 5518.243627929687
          },
          {
           "lower": 732.6977935791016,
           "timepoint": 213,
           "trajectory": "H_sol",
           "upper": 5736.312887573242
          },
          {
           "lower": 763.0084091186524,
           "timepoint": 214,
           "trajectory": "H_sol",
           "upper": 5957.585249328613
          },
          {
           "lower": 794.2396041870118,
           "timepoint": 215,
           "trajectory": "H_sol",
           "upper": 6181.580250549316
          },
          {
           "lower": 826.3928588867188,
           "timepoint": 216,
           "trajectory": "H_sol",
           "upper": 6407.773400878906
          },
          {
           "lower": 859.4692413330079,
           "timepoint": 217,
           "trajectory": "H_sol",
           "upper": 6635.58514099121
          },
          {
           "lower": 893.4661285400391,
           "timepoint": 218,
           "trajectory": "H_sol",
           "upper": 6864.392697143554
          },
          {
           "lower": 928.3815002441406,
           "timepoint": 219,
           "trajectory": "H_sol",
           "upper": 7093.535858154297
          },
          {
           "lower": 964.210516357422,
           "timepoint": 220,
           "trajectory": "H_sol",
           "upper": 7322.29644165039
          },
          {
           "lower": 1000.9469635009766,
           "timepoint": 221,
           "trajectory": "H_sol",
           "upper": 7549.9279754638665
          },
          {
           "lower": 1038.5853942871095,
           "timepoint": 222,
           "trajectory": "H_sol",
           "upper": 7775.653497314453
          },
          {
           "lower": 1077.1194885253906,
           "timepoint": 223,
           "trajectory": "H_sol",
           "upper": 7998.664080810547
          },
          {
           "lower": 1116.5386871337892,
           "timepoint": 224,
           "trajectory": "H_sol",
           "upper": 8218.086740112305
          },
          {
           "lower": 1156.8370391845704,
           "timepoint": 225,
           "trajectory": "H_sol",
           "upper": 8433.107479858398
          },
          {
           "lower": 1198.0054473876953,
           "timepoint": 226,
           "trajectory": "H_sol",
           "upper": 8642.822860717773
          },
          {
           "lower": 1240.03623046875,
           "timepoint": 227,
           "trajectory": "H_sol",
           "upper": 8846.35634765625
          },
          {
           "lower": 1282.9234802246094,
           "timepoint": 228,
           "trajectory": "H_sol",
           "upper": 9042.839825439452
          },
          {
           "lower": 1326.6596649169921,
           "timepoint": 229,
           "trajectory": "H_sol",
           "upper": 9231.387515258788
          },
          {
           "lower": 1371.2413421630858,
           "timepoint": 230,
           "trajectory": "H_sol",
           "upper": 9411.15178527832
          },
          {
           "lower": 1416.6651763916016,
           "timepoint": 231,
           "trajectory": "H_sol",
           "upper": 9581.285934448242
          },
          {
           "lower": 1462.9316314697267,
           "timepoint": 232,
           "trajectory": "H_sol",
           "upper": 9741.051705932618
          },
          {
           "lower": 1510.0408630371094,
           "timepoint": 233,
           "trajectory": "H_sol",
           "upper": 9889.642364501953
          },
          {
           "lower": 1558.0024169921876,
           "timepoint": 234,
           "trajectory": "H_sol",
           "upper": 10026.369165039063
          },
          {
           "lower": 1606.8203063964843,
           "timepoint": 235,
           "trajectory": "H_sol",
           "upper": 10150.604132080078
          },
          {
           "lower": 1656.5056945800782,
           "timepoint": 236,
           "trajectory": "H_sol",
           "upper": 10261.717816162109
          },
          {
           "lower": 1707.0761962890624,
           "timepoint": 237,
           "trajectory": "H_sol",
           "upper": 10359.249487304687
          },
          {
           "lower": 1758.54912109375,
           "timepoint": 238,
           "trajectory": "H_sol",
           "upper": 10442.74580078125
          },
          {
           "lower": 1810.9495849609375,
           "timepoint": 239,
           "trajectory": "H_sol",
           "upper": 10511.855590820312
          },
          {
           "lower": 1864.2997253417968,
           "timepoint": 240,
           "trajectory": "H_sol",
           "upper": 10566.311724853515
          },
          {
           "lower": 1918.6390502929687,
           "timepoint": 241,
           "trajectory": "H_sol",
           "upper": 10605.926623535155
          },
          {
           "lower": 1973.9932800292968,
           "timepoint": 242,
           "trajectory": "H_sol",
           "upper": 10630.622076416015
          },
          {
           "lower": 2030.402410888672,
           "timepoint": 243,
           "trajectory": "H_sol",
           "upper": 10640.360406494141
          },
          {
           "lower": 2087.9090942382813,
           "timepoint": 244,
           "trajectory": "H_sol",
           "upper": 10635.257653808594
          },
          {
           "lower": 2146.557165527344,
           "timepoint": 245,
           "trajectory": "H_sol",
           "upper": 10615.474328613282
          },
          {
           "lower": 2206.3927368164063,
           "timepoint": 246,
           "trajectory": "H_sol",
           "upper": 10581.26912841797
          },
          {
           "lower": 2267.465252685547,
           "timepoint": 247,
           "trajectory": "H_sol",
           "upper": 10532.950885009765
          },
          {
           "lower": 2329.8257080078124,
           "timepoint": 248,
           "trajectory": "H_sol",
           "upper": 10470.958959960937
          },
          {
           "lower": 2393.520831298828,
           "timepoint": 249,
           "trajectory": "H_sol",
           "upper": 10395.741741943359
          },
          {
           "lower": 2458.6077514648437,
           "timepoint": 250,
           "trajectory": "H_sol",
           "upper": 10307.85733642578
          },
          {
           "lower": 2525.1312866210938,
           "timepoint": 251,
           "trajectory": "H_sol",
           "upper": 10207.900207519531
          },
          {
           "lower": 2593.1542724609376,
           "timepoint": 252,
           "trajectory": "H_sol",
           "upper": 10096.508325195313
          },
          {
           "lower": 2662.710498046875,
           "timepoint": 253,
           "trajectory": "H_sol",
           "upper": 9974.376416015624
          },
          {
           "lower": 2733.8516235351562,
           "timepoint": 254,
           "trajectory": "H_sol",
           "upper": 9842.204772949219
          },
          {
           "lower": 2806.6201782226562,
           "timepoint": 255,
           "trajectory": "H_sol",
           "upper": 9700.801452636719
          },
          {
           "lower": 2881.0525756835937,
           "timepoint": 256,
           "trajectory": "H_sol",
           "upper": 9550.87149658203
          },
          {
           "lower": 2957.1838256835936,
           "timepoint": 257,
           "trajectory": "H_sol",
           "upper": 9393.22071533203
          },
          {
           "lower": 3035.0361328125,
           "timepoint": 258,
           "trajectory": "H_sol",
           "upper": 9228.6357421875
          },
          {
           "lower": 3114.626953125,
           "timepoint": 259,
           "trajectory": "H_sol",
           "upper": 9057.896484375
          },
          {
           "lower": 3195.993029785156,
           "timepoint": 260,
           "trajectory": "H_sol",
           "upper": 8881.797741699218
          },
          {
           "lower": 3279.1143798828125,
           "timepoint": 261,
           "trajectory": "H_sol",
           "upper": 8701.062866210938
          },
          {
           "lower": 3363.9955810546876,
           "timepoint": 262,
           "trajectory": "H_sol",
           "upper": 8516.477563476563
          },
          {
           "lower": 3450.6240844726562,
           "timepoint": 263,
           "trajectory": "H_sol",
           "upper": 8328.752624511719
          },
          {
           "lower": 3538.977893066406,
           "timepoint": 264,
           "trajectory": "H_sol",
           "upper": 8138.568737792969
          },
          {
           "lower": 3629.0272583007813,
           "timepoint": 265,
           "trajectory": "H_sol",
           "upper": 7946.648278808593
          },
          {
           "lower": 3720.7217529296877,
           "timepoint": 266,
           "trajectory": "H_sol",
           "upper": 7753.566821289062
          },
          {
           "lower": 3814.009326171875,
           "timepoint": 267,
           "trajectory": "H_sol",
           "upper": 7559.943798828125
          },
          {
           "lower": 3908.8259155273436,
           "timepoint": 268,
           "trajectory": "H_sol",
           "upper": 7366.354992675781
          },
          {
           "lower": 4005.087438964844,
           "timepoint": 269,
           "trajectory": "H_sol",
           "upper": 7173.303430175781
          },
          {
           "lower": 4102.705407714844,
           "timepoint": 270,
           "trajectory": "H_sol",
           "upper": 6981.291906738281
          },
          {
           "lower": 4201.579919433594,
           "timepoint": 271,
           "trajectory": "H_sol",
           "upper": 6790.760168457031
          },
          {
           "lower": 4301.585375976562,
           "timepoint": 272,
           "trajectory": "H_sol",
           "upper": 6602.129956054688
          },
          {
           "lower": 4402.602783203125,
           "timepoint": 273,
           "trajectory": "H_sol",
           "upper": 6415.759521484375
          },
          {
           "lower": 4504.484130859375,
           "timepoint": 274,
           "trajectory": "H_sol",
           "upper": 6231.987548828125
          },
          {
           "lower": 4607.077880859375,
           "timepoint": 275,
           "trajectory": "H_sol",
           "upper": 6051.107666015625
          },
          {
           "lower": 4710.2264404296875,
           "timepoint": 276,
           "trajectory": "H_sol",
           "upper": 5873.3863525390625
          },
          {
           "lower": 4813.744580078125,
           "timepoint": 277,
           "trajectory": "H_sol",
           "upper": 5699.048388671875
          },
          {
           "lower": 4917.452709960938,
           "timepoint": 278,
           "trajectory": "H_sol",
           "upper": 5528.285083007812
          },
          {
           "lower": 5021.130590820312,
           "timepoint": 279,
           "trajectory": "H_sol",
           "upper": 5361.271264648438
          },
          {
           "lower": 5124.591040039062,
           "timepoint": 280,
           "trajectory": "H_sol",
           "upper": 5198.133081054688
          },
          {
           "lower": 5038.9781494140625,
           "timepoint": 281,
           "trajectory": "H_sol",
           "upper": 5227.6199951171875
          },
          {
           "lower": 4883.899438476563,
           "timepoint": 282,
           "trajectory": "H_sol",
           "upper": 5329.953588867187
          },
          {
           "lower": 4732.9478759765625,
           "timepoint": 283,
           "trajectory": "H_sol",
           "upper": 5431.3992919921875
          },
          {
           "lower": 4586.166943359375,
           "timepoint": 284,
           "trajectory": "H_sol",
           "upper": 5531.702197265625
          },
          {
           "lower": 4443.566333007812,
           "timepoint": 285,
           "trajectory": "H_sol",
           "upper": 5630.598217773438
          },
          {
           "lower": 4305.1546875,
           "timepoint": 286,
           "trajectory": "H_sol",
           "upper": 5727.86484375
          },
          {
           "lower": 4170.914379882813,
           "timepoint": 287,
           "trajectory": "H_sol",
           "upper": 5823.228686523437
          },
          {
           "lower": 4040.816540527344,
           "timepoint": 288,
           "trajectory": "H_sol",
           "upper": 5916.435656738281
          },
          {
           "lower": 3914.810888671875,
           "timepoint": 289,
           "trajectory": "H_sol",
           "upper": 6007.237939453124
          },
          {
           "lower": 3792.85185546875,
           "timepoint": 290,
           "trajectory": "H_sol",
           "upper": 6095.37177734375
          },
          {
           "lower": 3674.862829589844,
           "timepoint": 291,
           "trajectory": "H_sol",
           "upper": 6180.585656738281
          },
          {
           "lower": 3560.7832275390624,
           "timepoint": 292,
           "trajectory": "H_sol",
           "upper": 6262.629370117187
          },
          {
           "lower": 3450.521032714844,
           "timepoint": 293,
           "trajectory": "H_sol",
           "upper": 6341.257531738281
          },
          {
           "lower": 3343.9892456054686,
           "timepoint": 294,
           "trajectory": "H_sol",
           "upper": 6416.236584472656
          },
          {
           "lower": 3241.097802734375,
           "timepoint": 295,
           "trajectory": "H_sol",
           "upper": 6487.331884765625
          },
          {
           "lower": 3141.7517333984374,
           "timepoint": 296,
           "trajectory": "H_sol",
           "upper": 6554.329809570312
          },
          {
           "lower": 3045.846789550781,
           "timepoint": 297,
           "trajectory": "H_sol",
           "upper": 6617.016247558594
          },
          {
           "lower": 2953.2805053710936,
           "timepoint": 298,
           "trajectory": "H_sol",
           "upper": 6675.202160644531
          },
          {
           "lower": 2863.949182128906,
           "timepoint": 299,
           "trajectory": "H_sol",
           "upper": 6728.697058105468
          },
          {
           "lower": 2777.7429321289064,
           "timepoint": 300,
           "trajectory": "H_sol",
           "upper": 6777.337878417969
          },
          {
           "lower": 2694.570654296875,
           "timepoint": 301,
           "trajectory": "H_sol",
           "upper": 6820.971337890624
          },
          {
           "lower": 2614.3150268554687,
           "timepoint": 302,
           "trajectory": "H_sol",
           "upper": 6859.455725097656
          },
          {
           "lower": 2536.8670288085937,
           "timepoint": 303,
           "trajectory": "H_sol",
           "upper": 6892.701574707031
          },
          {
           "lower": 2462.130810546875,
           "timepoint": 304,
           "trajectory": "H_sol",
           "upper": 6920.575244140625
          },
          {
           "lower": 2390.0051879882812,
           "timepoint": 305,
           "trajectory": "H_sol",
           "upper": 6943.013122558594
          },
          {
           "lower": 2320.388049316406,
           "timepoint": 306,
           "trajectory": "H_sol",
           "upper": 6959.960339355469
          },
          {
           "lower": 2253.1828491210936,
           "timepoint": 307,
           "trajectory": "H_sol",
           "upper": 6971.371105957031
          },
          {
           "lower": 2188.2940673828125,
           "timepoint": 308,
           "trajectory": "H_sol",
           "upper": 6977.2191162109375
          },
          {
           "lower": 2125.6283447265623,
           "timepoint": 309,
           "trajectory": "H_sol",
           "upper": 6977.514721679688
          },
          {
           "lower": 2065.101922607422,
           "timepoint": 310,
           "trajectory": "H_sol",
           "upper": 6972.26831665039
          },
          {
           "lower": 2006.620361328125,
           "timepoint": 311,
           "trajectory": "H_sol",
           "upper": 6961.529052734375
          },
          {
           "lower": 1950.1098327636719,
           "timepoint": 312,
           "trajectory": "H_sol",
           "upper": 6945.344390869141
          },
          {
           "lower": 1895.48173828125,
           "timepoint": 313,
           "trajectory": "H_sol",
           "upper": 6923.797558593749
          },
          {
           "lower": 1842.6628723144531,
           "timepoint": 314,
           "trajectory": "H_sol",
           "upper": 6896.978607177734
          },
          {
           "lower": 1791.5794311523437,
           "timepoint": 315,
           "trajectory": "H_sol",
           "upper": 6864.996984863281
          },
          {
           "lower": 1742.16279296875,
           "timepoint": 316,
           "trajectory": "H_sol",
           "upper": 6827.99248046875
          },
          {
           "lower": 1694.3385803222657,
           "timepoint": 317,
           "trajectory": "H_sol",
           "upper": 6786.094403076171
          },
          {
           "lower": 1648.050714111328,
           "timepoint": 318,
           "trajectory": "H_sol",
           "upper": 6739.458929443359
          },
          {
           "lower": 1603.234063720703,
           "timepoint": 319,
           "trajectory": "H_sol",
           "upper": 6688.257025146484
          },
          {
           "lower": 1559.8317932128907,
           "timepoint": 320,
           "trajectory": "H_sol",
           "upper": 6632.674432373046
          },
          {
           "lower": 1517.7854614257812,
           "timepoint": 321,
           "trajectory": "H_sol",
           "upper": 6572.903747558594
          },
          {
           "lower": 1477.0501831054687,
           "timepoint": 322,
           "trajectory": "H_sol",
           "upper": 6509.116076660156
          },
          {
           "lower": 1437.5676879882812,
           "timepoint": 323,
           "trajectory": "H_sol",
           "upper": 6441.551208496094
          },
          {
           "lower": 1399.29365234375,
           "timepoint": 324,
           "trajectory": "H_sol",
           "upper": 6370.40849609375
          },
          {
           "lower": 1362.1846313476562,
           "timepoint": 325,
           "trajectory": "H_sol",
           "upper": 6295.912780761719
          },
          {
           "lower": 1326.19775390625,
           "timepoint": 326,
           "trajectory": "H_sol",
           "upper": 6218.28662109375
          },
          {
           "lower": 1291.2882171630858,
           "timepoint": 327,
           "trajectory": "H_sol",
           "upper": 6137.73674621582
          },
          {
           "lower": 1257.42236328125,
           "timepoint": 328,
           "trajectory": "H_sol",
           "upper": 6054.51025390625
          },
          {
           "lower": 1224.563510131836,
           "timepoint": 329,
           "trajectory": "H_sol",
           "upper": 5968.8286407470705
          },
          {
           "lower": 1192.675360107422,
           "timepoint": 330,
           "trajectory": "H_sol",
           "upper": 5880.90972290039
          },
          {
           "lower": 1161.7248992919922,
           "timepoint": 331,
           "trajectory": "H_sol",
           "upper": 5790.976577758789
          },
          {
           "lower": 1131.6862670898438,
           "timepoint": 332,
           "trajectory": "H_sol",
           "upper": 5699.273937988281
          },
          {
           "lower": 1102.524185180664,
           "timepoint": 333,
           "trajectory": "H_sol",
           "upper": 5605.99284362793
          },
          {
           "lower": 1074.2127380371094,
           "timepoint": 334,
           "trajectory": "H_sol",
           "upper": 5511.357208251953
          },
          {
           "lower": 1046.724560546875,
           "timepoint": 335,
           "trajectory": "H_sol",
           "upper": 5415.564501953125
          },
          {
           "lower": 1020.035043334961,
           "timepoint": 336,
           "trajectory": "H_sol",
           "upper": 5318.832693481445
          },
          {
           "lower": 994.1186614990235,
           "timepoint": 337,
           "trajectory": "H_sol",
           "upper": 5221.331594848632
          },
          {
           "lower": 968.9534454345703,
           "timepoint": 338,
           "trajectory": "H_sol",
           "upper": 5123.273300170898
          },
          {
           "lower": 944.5169616699219,
           "timepoint": 339,
           "trajectory": "H_sol",
           "upper": 5024.82593383789
          },
          {
           "lower": 920.7863342285157,
           "timepoint": 340,
           "trajectory": "H_sol",
           "upper": 4926.170086669922
          },
          {
           "lower": 897.742807006836,
           "timepoint": 341,
           "trajectory": "H_sol",
           "upper": 4827.46575012207
          },
          {
           "lower": 875.3668701171875,
           "timepoint": 342,
           "trajectory": "H_sol",
           "upper": 4728.872875976563
          },
          {
           "lower": 853.637841796875,
           "timepoint": 343,
           "trajectory": "H_sol",
           "upper": 4630.529150390625
          },
          {
           "lower": 832.5391876220704,
           "timepoint": 344,
           "trajectory": "H_sol",
           "upper": 4532.592831420899
          },
          {
           "lower": 812.0519500732422,
           "timepoint": 345,
           "trajectory": "H_sol",
           "upper": 4435.165151977539
          },
          {
           "lower": 792.161166381836,
           "timepoint": 346,
           "trajectory": "H_sol",
           "upper": 4338.3979766845705
          },
          {
           "lower": 772.8471740722656,
           "timepoint": 347,
           "trajectory": "H_sol",
           "upper": 4242.393426513671
          },
          {
           "lower": 754.097689819336,
           "timepoint": 348,
           "trajectory": "H_sol",
           "upper": 4147.2553985595705
          },
          {
           "lower": 735.8938110351562,
           "timepoint": 349,
           "trajectory": "H_sol",
           "upper": 4053.0883666992186
          },
          {
           "lower": 718.2232940673828,
           "timepoint": 350,
           "trajectory": "H_sol",
           "upper": 3959.9805023193358
          },
          {
           "lower": 701.07001953125,
           "timepoint": 351,
           "trajectory": "H_sol",
           "upper": 3868.00126953125
          },
          {
           "lower": 684.4206420898438,
           "timepoint": 352,
           "trajectory": "H_sol",
           "upper": 3777.234387207031
          },
          {
           "lower": 668.262094116211,
           "timepoint": 353,
           "trajectory": "H_sol",
           "upper": 3687.754568481445
          },
          {
           "lower": 652.5783050537109,
           "timepoint": 354,
           "trajectory": "H_sol",
           "upper": 3599.605838012695
          },
          {
           "lower": 637.3592086791992,
           "timepoint": 355,
           "trajectory": "H_sol",
           "upper": 3512.8556655883785
          },
          {
           "lower": 622.5910827636719,
           "timepoint": 356,
           "trajectory": "H_sol",
           "upper": 3427.5394104003904
          },
          {
           "lower": 608.2603256225586,
           "timepoint": 357,
           "trajectory": "H_sol",
           "upper": 3343.7007644653318
          },
          {
           "lower": 594.3562042236329,
           "timepoint": 358,
           "trajectory": "H_sol",
           "upper": 3261.3764007568357
          },
          {
           "lower": 580.8675415039063,
           "timepoint": 359,
           "trajectory": "H_sol",
           "upper": 3180.5951049804685
          },
          {
           "lower": 567.7811386108399,
           "timepoint": 360,
           "trajectory": "H_sol",
           "upper": 3101.3730667114255
          },
          {
           "lower": 555.0866577148438,
           "timepoint": 361,
           "trajectory": "H_sol",
           "upper": 3023.736340332031
          },
          {
           "lower": 542.7737915039063,
           "timepoint": 362,
           "trajectory": "H_sol",
           "upper": 2947.7005737304685
          },
          {
           "lower": 530.8312896728515,
           "timepoint": 363,
           "trajectory": "H_sol",
           "upper": 2873.275582885742
          },
          {
           "lower": 519.2477874755859,
           "timepoint": 364,
           "trajectory": "H_sol",
           "upper": 2800.4519805908203
          },
          {
           "lower": 508.014909362793,
           "timepoint": 365,
           "trajectory": "H_sol",
           "upper": 2729.2524551391602
          },
          {
           "lower": 497.12149200439455,
           "timepoint": 366,
           "trajectory": "H_sol",
           "upper": 2659.6604598999024
          },
          {
           "lower": 486.5585662841797,
           "timepoint": 367,
           "trajectory": "H_sol",
           "upper": 2591.6780670166013
          },
          {
           "lower": 476.3165649414062,
           "timepoint": 368,
           "trajectory": "H_sol",
           "upper": 2525.3003784179687
          },
          {
           "lower": 466.38635711669923,
           "timepoint": 369,
           "trajectory": "H_sol",
           "upper": 2460.5121109008787
          },
          {
           "lower": 456.75879821777346,
           "timepoint": 370,
           "trajectory": "H_sol",
           "upper": 2397.299368286133
          },
          {
           "lower": 447.4252670288086,
           "timepoint": 371,
           "trajectory": "H_sol",
           "upper": 2335.651057434082
          },
          {
           "lower": 438.37754821777344,
           "timepoint": 372,
           "trajectory": "H_sol",
           "upper": 2275.547317504883
          },
          {
           "lower": 429.60684356689455,
           "timepoint": 373,
           "trajectory": "H_sol",
           "upper": 2216.9714950561524
          },
          {
           "lower": 421.10596618652346,
           "timepoint": 374,
           "trajectory": "H_sol",
           "upper": 2159.902395629883
          },
          {
           "lower": 412.865983581543,
           "timepoint": 375,
           "trajectory": "H_sol",
           "upper": 2104.3164199829102
          },
          {
           "lower": 404.8805130004883,
           "timepoint": 376,
           "trajectory": "H_sol",
           "upper": 2050.1917221069334
          },
          {
           "lower": 397.14088287353513,
           "timepoint": 377,
           "trajectory": "H_sol",
           "upper": 1997.5003219604491
          },
          {
           "lower": 389.6412872314453,
           "timepoint": 378,
           "trajectory": "H_sol",
           "upper": 1946.2324310302733
          },
          {
           "lower": 382.37342681884763,
           "timepoint": 379,
           "trajectory": "H_sol",
           "upper": 1896.3429733276366
          },
          {
           "lower": 375.33142242431643,
           "timepoint": 380,
           "trajectory": "H_sol",
           "upper": 1847.8163742065428
          },
          {
           "lower": 368.5078323364258,
           "timepoint": 381,
           "trajectory": "H_sol",
           "upper": 1800.620555114746
          },
          {
           "lower": 361.8969207763672,
           "timepoint": 382,
           "trajectory": "H_sol",
           "upper": 1754.730581665039
          },
          {
           "lower": 355.4922622680664,
           "timepoint": 383,
           "trajectory": "H_sol",
           "upper": 1710.1172042846679
          },
          {
           "lower": 349.2877914428711,
           "timepoint": 384,
           "trajectory": "H_sol",
           "upper": 1666.7536209106445
          },
          {
           "lower": 343.277326965332,
           "timepoint": 385,
           "trajectory": "H_sol",
           "upper": 1624.6108261108398
          },
          {
           "lower": 337.45574951171875,
           "timepoint": 386,
           "trajectory": "H_sol",
           "upper": 1583.6602172851562
          },
          {
           "lower": 331.8171142578125,
           "timepoint": 387,
           "trajectory": "H_sol",
           "upper": 1543.8745361328124
          },
          {
           "lower": 326.3562866210938,
           "timepoint": 388,
           "trajectory": "H_sol",
           "upper": 1505.223791503906
          },
          {
           "lower": 321.06812286376953,
           "timepoint": 389,
           "trajectory": "H_sol",
           "upper": 1467.6833114624023
          },
          {
           "lower": 315.9471664428711,
           "timepoint": 390,
           "trajectory": "H_sol",
           "upper": 1431.2219314575195
          },
          {
           "lower": 310.9889457702637,
           "timepoint": 391,
           "trajectory": "H_sol",
           "upper": 1395.8137428283692
          },
          {
           "lower": 306.1887031555176,
           "timepoint": 392,
           "trajectory": "H_sol",
           "upper": 1361.4309715270995
          },
          {
           "lower": 301.5416595458984,
           "timepoint": 393,
           "trajectory": "H_sol",
           "upper": 1328.0465362548828
          },
          {
           "lower": 297.04382705688477,
           "timepoint": 394,
           "trajectory": "H_sol",
           "upper": 1295.6354789733887
          },
          {
           "lower": 292.69051361083984,
           "timepoint": 395,
           "trajectory": "H_sol",
           "upper": 1264.1663284301758
          },
          {
           "lower": 288.47741622924804,
           "timepoint": 396,
           "trajectory": "H_sol",
           "upper": 1233.6188514709472
          },
          {
           "lower": 284.4012962341309,
           "timepoint": 397,
           "trajectory": "H_sol",
           "upper": 1203.966394805908
          },
          {
           "lower": 280.45715255737304,
           "timepoint": 398,
           "trajectory": "H_sol",
           "upper": 1175.1823280334472
          },
          {
           "lower": 276.6422424316406,
           "timepoint": 399,
           "trajectory": "H_sol",
           "upper": 1147.2433776855469
          },
          {
           "lower": 272.9524749755859,
           "timepoint": 400,
           "trajectory": "H_sol",
           "upper": 1120.1261993408202
          },
          {
           "lower": 269.38452835083007,
           "timepoint": 401,
           "trajectory": "H_sol",
           "upper": 1093.806679534912
          },
          {
           "lower": 265.93495178222656,
           "timepoint": 402,
           "trajectory": "H_sol",
           "upper": 1068.2612762451172
          },
          {
           "lower": 262.600439453125,
           "timepoint": 403,
           "trajectory": "H_sol",
           "upper": 1043.46865234375
          },
          {
           "lower": 259.3778839111328,
           "timepoint": 404,
           "trajectory": "H_sol",
           "upper": 1019.4057464599609
          },
          {
           "lower": 256.2642311096191,
           "timepoint": 405,
           "trajectory": "H_sol",
           "upper": 996.0521598815917
          },
          {
           "lower": 253.25659408569337,
           "timepoint": 406,
           "trajectory": "H_sol",
           "upper": 973.3859992980956
          },
          {
           "lower": 250.35195846557616,
           "timepoint": 407,
           "trajectory": "H_sol",
           "upper": 951.3876197814941
          },
          {
           "lower": 247.54784622192383,
           "timepoint": 408,
           "trajectory": "H_sol",
           "upper": 930.0374046325683
          },
          {
           "lower": 244.8413879394531,
           "timepoint": 409,
           "trajectory": "H_sol",
           "upper": 909.3157165527343
          },
          {
           "lower": 242.23013229370116,
           "timepoint": 410,
           "trajectory": "H_sol",
           "upper": 889.2031715393066
          },
          {
           "lower": 239.71165161132814,
           "timepoint": 411,
           "trajectory": "H_sol",
           "upper": 869.6816589355468
          },
          {
           "lower": 237.283699798584,
           "timepoint": 412,
           "trajectory": "H_sol",
           "upper": 850.734870147705
          },
          {
           "lower": 234.9439842224121,
           "timepoint": 413,
           "trajectory": "H_sol",
           "upper": 832.3431404113769
          },
          {
           "lower": 232.6896659851074,
           "timepoint": 414,
           "trajectory": "H_sol",
           "upper": 814.4918067932128
          },
          {
           "lower": 230.51958312988282,
           "timepoint": 415,
           "trajectory": "H_sol",
           "upper": 797.163461303711
          },
          {
           "lower": 228.4310043334961,
           "timepoint": 416,
           "trajectory": "H_sol",
           "upper": 780.3413650512695
          },
          {
           "lower": 226.4225814819336,
           "timepoint": 417,
           "trajectory": "H_sol",
           "upper": 764.0122634887695
          },
          {
           "lower": 224.49163513183595,
           "timepoint": 418,
           "trajectory": "H_sol",
           "upper": 748.1582061767577
          },
          {
           "lower": 222.6371162414551,
           "timepoint": 419,
           "trajectory": "H_sol",
           "upper": 732.767226409912
          },
          {
           "lower": 220.85688705444335,
           "timepoint": 420,
           "trajectory": "H_sol",
           "upper": 717.8245246887207
          },
          {
           "lower": 219.14925689697264,
           "timepoint": 421,
           "trajectory": "H_sol",
           "upper": 703.3155563354492
          },
          {
           "lower": 217.5130485534668,
           "timepoint": 422,
           "trajectory": "H_sol",
           "upper": 689.2292152404785
          },
          {
           "lower": 215.94625244140624,
           "timepoint": 423,
           "trajectory": "H_sol",
           "upper": 675.5498413085937
          },
          {
           "lower": 214.44751892089843,
           "timepoint": 424,
           "trajectory": "H_sol",
           "upper": 662.2679962158203
          },
          {
           "lower": 213.0155014038086,
           "timepoint": 425,
           "trajectory": "H_sol",
           "upper": 649.369905090332
          },
          {
           "lower": 211.64853897094727,
           "timepoint": 426,
           "trajectory": "H_sol",
           "upper": 636.8424125671387
          },
          {
           "lower": 210.34600524902345,
           "timepoint": 427,
           "trajectory": "H_sol",
           "upper": 624.6766387939452
          },
          {
           "lower": 209.10596084594727,
           "timepoint": 428,
           "trajectory": "H_sol",
           "upper": 612.8604545593262
          },
          {
           "lower": 207.92758026123047,
           "timepoint": 429,
           "trajectory": "H_sol",
           "upper": 601.3831192016602
          },
          {
           "lower": 206.80967330932617,
           "timepoint": 430,
           "trajectory": "H_sol",
           "upper": 590.2363014221191
          },
          {
           "lower": 205.75102005004882,
           "timepoint": 431,
           "trajectory": "H_sol",
           "upper": 579.4080833435058
          },
          {
           "lower": 204.7506462097168,
           "timepoint": 432,
           "trajectory": "H_sol",
           "upper": 568.888468170166
          },
          {
           "lower": 203.80745162963868,
           "timepoint": 433,
           "trajectory": "H_sol",
           "upper": 558.6691871643067
          },
          {
           "lower": 202.92090454101563,
           "timepoint": 434,
           "trajectory": "H_sol",
           "upper": 548.7409606933594
          },
          {
           "lower": 202.08962860107422,
           "timepoint": 435,
           "trajectory": "H_sol",
           "upper": 539.0952163696289
          },
          {
           "lower": 201.3130859375,
           "timepoint": 436,
           "trajectory": "H_sol",
           "upper": 529.7236572265625
          },
          {
           "lower": 200.59024887084962,
           "timepoint": 437,
           "trajectory": "H_sol",
           "upper": 520.6169197082519
          },
          {
           "lower": 199.92050170898438,
           "timepoint": 438,
           "trajectory": "H_sol",
           "upper": 511.7679748535156
          },
          {
           "lower": 199.30295944213867,
           "timepoint": 439,
           "trajectory": "H_sol",
           "upper": 503.16989517211914
          },
          {
           "lower": 198.73711318969725,
           "timepoint": 440,
           "trajectory": "H_sol",
           "upper": 494.8143852233887
          },
          {
           "lower": 198.2222152709961,
           "timepoint": 441,
           "trajectory": "H_sol",
           "upper": 486.693830871582
          },
          {
           "lower": 197.75767364501954,
           "timepoint": 442,
           "trajectory": "H_sol",
           "upper": 478.80192718505856
          },
          {
           "lower": 197.3429801940918,
           "timepoint": 443,
           "trajectory": "H_sol",
           "upper": 471.132315826416
          },
          {
           "lower": 196.97759780883788,
           "timepoint": 444,
           "trajectory": "H_sol",
           "upper": 463.6780876159668
          },
          {
           "lower": 196.66077117919923,
           "timepoint": 445,
           "trajectory": "H_sol",
           "upper": 456.43258209228514
          },
          {
           "lower": 196.392325592041,
           "timepoint": 446,
           "trajectory": "H_sol",
           "upper": 449.39000778198243
          },
          {
           "lower": 196.17182312011718,
           "timepoint": 447,
           "trajectory": "H_sol",
           "upper": 442.5453399658203
          },
          {
           "lower": 195.99886779785157,
           "timepoint": 448,
           "trajectory": "H_sol",
           "upper": 435.8918792724609
          },
          {
           "lower": 195.87294845581056,
           "timepoint": 449,
           "trajectory": "H_sol",
           "upper": 429.424308013916
          },
          {
           "lower": 195.79400024414062,
           "timepoint": 450,
           "trajectory": "H_sol",
           "upper": 423.13727416992185
          },
          {
           "lower": 195.76195068359374,
           "timepoint": 451,
           "trajectory": "H_sol",
           "upper": 417.02637939453126
          },
          {
           "lower": 195.7748580932617,
           "timepoint": 452,
           "trajectory": "H_sol",
           "upper": 411.0857681274414
          },
          {
           "lower": 195.83445739746094,
           "timepoint": 453,
           "trajectory": "H_sol",
           "upper": 405.31105041503906
          },
          {
           "lower": 195.94005813598633,
           "timepoint": 454,
           "trajectory": "H_sol",
           "upper": 399.6976219177246
          },
          {
           "lower": 196.09118270874023,
           "timepoint": 455,
           "trajectory": "H_sol",
           "upper": 394.2408027648926
          },
          {
           "lower": 196.2879440307617,
           "timepoint": 456,
           "trajectory": "H_sol",
           "upper": 388.9366958618164
          },
          {
           "lower": 196.52985458374025,
           "timepoint": 457,
           "trajectory": "H_sol",
           "upper": 383.78015823364257
          },
          {
           "lower": 196.8172462463379,
           "timepoint": 458,
           "trajectory": "H_sol",
           "upper": 378.76843185424804
          },
          {
           "lower": 197.14988021850587,
           "timepoint": 459,
           "trajectory": "H_sol",
           "upper": 373.8961555480957
          },
          {
           "lower": 197.5277244567871,
           "timepoint": 460,
           "trajectory": "H_sol",
           "upper": 369.16052322387696
          },
          {
           "lower": 197.95083084106446,
           "timepoint": 461,
           "trajectory": "H_sol",
           "upper": 364.5581260681152
          },
          {
           "lower": 198.41928405761718,
           "timepoint": 462,
           "trajectory": "H_sol",
           "upper": 360.0853546142578
          },
          {
           "lower": 198.93301391601562,
           "timepoint": 463,
           "trajectory": "H_sol",
           "upper": 355.7370300292969
          },
          {
           "lower": 199.49238357543945,
           "timepoint": 464,
           "trajectory": "H_sol",
           "upper": 351.51236190795896
          },
          {
           "lower": 200.09688873291014,
           "timepoint": 465,
           "trajectory": "H_sol",
           "upper": 347.40588836669923
          },
          {
           "lower": 200.7473602294922,
           "timepoint": 466,
           "trajectory": "H_sol",
           "upper": 343.41664123535156
          },
          {
           "lower": 201.44369049072264,
           "timepoint": 467,
           "trajectory": "H_sol",
           "upper": 339.53955535888673
          },
          {
           "lower": 202.18586044311525,
           "timepoint": 468,
           "trajectory": "H_sol",
           "upper": 335.7728950500488
          },
          {
           "lower": 202.97432022094728,
           "timepoint": 469,
           "trajectory": "H_sol",
           "upper": 332.11477584838866
          },
          {
           "lower": 203.80977325439454,
           "timepoint": 470,
           "trajectory": "H_sol",
           "upper": 328.56153411865233
          },
          {
           "lower": 204.69186401367188,
           "timepoint": 471,
           "trajectory": "H_sol",
           "upper": 325.1091613769531
          },
          {
           "lower": 205.62087173461913,
           "timepoint": 472,
           "trajectory": "H_sol",
           "upper": 321.7569206237793
          },
          {
           "lower": 206.59740600585937,
           "timepoint": 473,
           "trajectory": "H_sol",
           "upper": 318.50238647460935
          },
          {
           "lower": 207.6216262817383,
           "timepoint": 474,
           "trajectory": "H_sol",
           "upper": 315.34227142333987
          },
          {
           "lower": 208.6946014404297,
           "timepoint": 475,
           "trajectory": "H_sol",
           "upper": 312.2751861572266
          },
          {
           "lower": 209.8159652709961,
           "timepoint": 476,
           "trajectory": "H_sol",
           "upper": 309.29801788330076
          },
          {
           "lower": 210.98625411987305,
           "timepoint": 477,
           "trajectory": "H_sol",
           "upper": 306.4096961975098
          },
          {
           "lower": 212.20611114501952,
           "timepoint": 478,
           "trajectory": "H_sol",
           "upper": 303.60733489990236
          },
          {
           "lower": 213.4761505126953,
           "timepoint": 479,
           "trajectory": "H_sol",
           "upper": 300.88914489746094
          },
          {
           "lower": 214.79666442871093,
           "timepoint": 480,
           "trajectory": "H_sol",
           "upper": 298.2532623291016
          },
          {
           "lower": 216.16829452514648,
           "timepoint": 481,
           "trajectory": "H_sol",
           "upper": 295.6978706359863
          },
          {
           "lower": 217.59176788330078,
           "timepoint": 482,
           "trajectory": "H_sol",
           "upper": 293.2211288452148
          },
          {
           "lower": 219.06744689941405,
           "timepoint": 483,
           "trajectory": "H_sol",
           "upper": 290.8214080810547
          },
          {
           "lower": 220.59627990722657,
           "timepoint": 484,
           "trajectory": "H_sol",
           "upper": 288.4966766357422
          },
          {
           "lower": 222.17871704101563,
           "timepoint": 485,
           "trajectory": "H_sol",
           "upper": 286.24614868164065
          },
          {
           "lower": 223.81535949707032,
           "timepoint": 486,
           "trajectory": "H_sol",
           "upper": 284.06751403808596
          },
          {
           "lower": 225.50710067749023,
           "timepoint": 487,
           "trajectory": "H_sol",
           "upper": 281.9593452453613
          },
          {
           "lower": 227.25458526611328,
           "timepoint": 488,
           "trajectory": "H_sol",
           "upper": 279.9204330444336
          },
          {
           "lower": 229.05899353027343,
           "timepoint": 489,
           "trajectory": "H_sol",
           "upper": 277.9493072509766
          },
          {
           "lower": 230.92076110839844,
           "timepoint": 490,
           "trajectory": "H_sol",
           "upper": 276.0446319580078
          },
          {
           "lower": 232.84069290161133,
           "timepoint": 491,
           "trajectory": "H_sol",
           "upper": 274.20494613647463
          },
          {
           "lower": 234.81990966796874,
           "timepoint": 492,
           "trajectory": "H_sol",
           "upper": 272.429296875
          },
          {
           "lower": 236.85933837890624,
           "timepoint": 493,
           "trajectory": "H_sol",
           "upper": 270.7163452148437
          },
          {
           "lower": 238.95947265625,
           "timepoint": 494,
           "trajectory": "H_sol",
           "upper": 269.06475830078125
          },
          {
           "lower": 241.1219169616699,
           "timepoint": 495,
           "trajectory": "H_sol",
           "upper": 267.47343521118165
          },
          {
           "lower": 243.34719161987306,
           "timepoint": 496,
           "trajectory": "H_sol",
           "upper": 265.94182510375975
          },
          {
           "lower": 245.6367301940918,
           "timepoint": 497,
           "trajectory": "H_sol",
           "upper": 264.4683265686035
          },
          {
           "lower": 247.99128112792968,
           "timepoint": 498,
           "trajectory": "H_sol",
           "upper": 263.0520538330078
          },
          {
           "lower": 250.41225814819336,
           "timepoint": 499,
           "trajectory": "H_sol",
           "upper": 261.6921272277832
          },
          {
           "lower": 252.90055313110352,
           "timepoint": 500,
           "trajectory": "H_sol",
           "upper": 260.38763961791994
          },
          {
           "lower": 255.45754623413086,
           "timepoint": 501,
           "trajectory": "H_sol",
           "upper": 259.13762283325195
          },
          {
           "lower": 257.9413818359375,
           "timepoint": 502,
           "trajectory": "H_sol",
           "upper": 258.0843139648438
          },
          {
           "lower": 256.79777069091796,
           "timepoint": 503,
           "trajectory": "H_sol",
           "upper": 260.7821548461914
          },
          {
           "lower": 255.7063316345215,
           "timepoint": 504,
           "trajectory": "H_sol",
           "upper": 263.55253372192385
          },
          {
           "lower": 254.6662384033203,
           "timepoint": 505,
           "trajectory": "H_sol",
           "upper": 266.39650573730466
          },
          {
           "lower": 253.67674026489257,
           "timepoint": 506,
           "trajectory": "H_sol",
           "upper": 269.3157371520996
          },
          {
           "lower": 252.73717346191407,
           "timepoint": 507,
           "trajectory": "H_sol",
           "upper": 272.3113494873047
          },
          {
           "lower": 251.8467872619629,
           "timepoint": 508,
           "trajectory": "H_sol",
           "upper": 275.38500900268554
          },
          {
           "lower": 251.00498657226564,
           "timepoint": 509,
           "trajectory": "H_sol",
           "upper": 278.5380432128906
          },
          {
           "lower": 250.21143493652343,
           "timepoint": 510,
           "trajectory": "H_sol",
           "upper": 281.7720245361328
          },
          {
           "lower": 249.4652313232422,
           "timepoint": 511,
           "trajectory": "H_sol",
           "upper": 285.0887847900391
          },
          {
           "lower": 248.76588973999023,
           "timepoint": 512,
           "trajectory": "H_sol",
           "upper": 288.48980178833006
          },
          {
           "lower": 248.11309890747071,
           "timepoint": 513,
           "trajectory": "H_sol",
           "upper": 291.9763023376465
          },
          {
           "lower": 247.5060806274414,
           "timepoint": 514,
           "trajectory": "H_sol",
           "upper": 295.55052947998047
          },
          {
           "lower": 246.94468307495117,
           "timepoint": 515,
           "trajectory": "H_sol",
           "upper": 299.2142677307129
          },
          {
           "lower": 246.4281784057617,
           "timepoint": 516,
           "trajectory": "H_sol",
           "upper": 302.96851959228513
          },
          {
           "lower": 245.95615005493164,
           "timepoint": 517,
           "trajectory": "H_sol",
           "upper": 306.81525802612305
          },
          {
           "lower": 245.52867965698243,
           "timepoint": 518,
           "trajectory": "H_sol",
           "upper": 310.7585060119629
          },
          {
           "lower": 245.14495010375975,
           "timepoint": 519,
           "trajectory": "H_sol",
           "upper": 314.7972953796387
          },
          {
           "lower": 244.80462493896485,
           "timepoint": 520,
           "trajectory": "H_sol",
           "upper": 318.9353958129883
          },
          {
           "lower": 244.50754623413087,
           "timepoint": 521,
           "trajectory": "H_sol",
           "upper": 323.17392654418944
          },
          {
           "lower": 244.25339584350587,
           "timepoint": 522,
           "trajectory": "H_sol",
           "upper": 327.51535720825194
          },
          {
           "lower": 244.04180679321288,
           "timepoint": 523,
           "trajectory": "H_sol",
           "upper": 331.9617790222168
          },
          {
           "lower": 243.87253799438477,
           "timepoint": 524,
           "trajectory": "H_sol",
           "upper": 336.51520309448244
          },
          {
           "lower": 243.74514389038086,
           "timepoint": 525,
           "trajectory": "H_sol",
           "upper": 341.17815017700195
          },
          {
           "lower": 243.66049880981444,
           "timepoint": 526,
           "trajectory": "H_sol",
           "upper": 345.9534996032715
          },
          {
           "lower": 243.61709899902343,
           "timepoint": 527,
           "trajectory": "H_sol",
           "upper": 350.8409698486328
          },
          {
           "lower": 243.6153190612793,
           "timepoint": 528,
           "trajectory": "H_sol",
           "upper": 355.84575576782225
          },
          {
           "lower": 243.65492401123046,
           "timepoint": 529,
           "trajectory": "H_sol",
           "upper": 360.9694351196289
          },
          {
           "lower": 243.73586349487306,
           "timepoint": 530,
           "trajectory": "H_sol",
           "upper": 366.214347076416
          },
          {
           "lower": 243.8579429626465,
           "timepoint": 531,
           "trajectory": "H_sol",
           "upper": 371.58311233520504
          },
          {
           "lower": 244.0211395263672,
           "timepoint": 532,
           "trajectory": "H_sol",
           "upper": 377.078042602539
          },
          {
           "lower": 244.2254638671875,
           "timepoint": 533,
           "trajectory": "H_sol",
           "upper": 382.70263671875
          },
          {
           "lower": 244.47091827392578,
           "timepoint": 534,
           "trajectory": "H_sol",
           "upper": 388.45886077880857
          },
          {
           "lower": 244.7566940307617,
           "timepoint": 535,
           "trajectory": "H_sol",
           "upper": 394.34947662353517
          },
          {
           "lower": 245.08370971679688,
           "timepoint": 536,
           "trajectory": "H_sol",
           "upper": 400.3776550292969
          },
          {
           "lower": 245.45158004760742,
           "timepoint": 537,
           "trajectory": "H_sol",
           "upper": 406.54623794555664
          },
          {
           "lower": 245.86028289794922,
           "timepoint": 538,
           "trajectory": "H_sol",
           "upper": 412.85782623291016
          },
          {
           "lower": 246.31041946411133,
           "timepoint": 539,
           "trajectory": "H_sol",
           "upper": 419.3156028747558
          },
          {
           "lower": 246.80131988525392,
           "timepoint": 540,
           "trajectory": "H_sol",
           "upper": 425.9233200073242
          },
          {
           "lower": 247.33330917358398,
           "timepoint": 541,
           "trajectory": "H_sol",
           "upper": 432.6833076477051
          },
          {
           "lower": 247.9064910888672,
           "timepoint": 542,
           "trajectory": "H_sol",
           "upper": 439.5986358642578
          },
          {
           "lower": 248.5209701538086,
           "timepoint": 543,
           "trajectory": "H_sol",
           "upper": 446.67321319580077
          },
          {
           "lower": 249.17689514160156,
           "timepoint": 544,
           "trajectory": "H_sol",
           "upper": 453.9095916748047
          },
          {
           "lower": 249.87422256469728,
           "timepoint": 545,
           "trajectory": "H_sol",
           "upper": 461.3116142272949
          },
          {
           "lower": 250.6133056640625,
           "timepoint": 546,
           "trajectory": "H_sol",
           "upper": 468.882421875
          },
          {
           "lower": 251.39439086914064,
           "timepoint": 547,
           "trajectory": "H_sol",
           "upper": 476.6264221191406
          },
          {
           "lower": 252.2174057006836,
           "timepoint": 548,
           "trajectory": "H_sol",
           "upper": 484.54635772705075
          },
          {
           "lower": 253.08265762329103,
           "timepoint": 549,
           "trajectory": "H_sol",
           "upper": 492.64504928588866
          },
          {
           "lower": 253.99035415649413,
           "timepoint": 550,
           "trajectory": "H_sol",
           "upper": 500.9269889831543
          },
          {
           "lower": 254.94097747802735,
           "timepoint": 551,
           "trajectory": "H_sol",
           "upper": 509.39694366455075
          },
          {
           "lower": 255.93442153930664,
           "timepoint": 552,
           "trajectory": "H_sol",
           "upper": 518.0570182800293
          },
          {
           "lower": 256.9710983276367,
           "timepoint": 553,
           "trajectory": "H_sol",
           "upper": 526.9117446899414
          },
          {
           "lower": 258.05133361816405,
           "timepoint": 554,
           "trajectory": "H_sol",
           "upper": 535.9648406982421
          },
          {
           "lower": 259.1753120422363,
           "timepoint": 555,
           "trajectory": "H_sol",
           "upper": 545.2203636169434
          },
          {
           "lower": 260.3434494018555,
           "timepoint": 556,
           "trajectory": "H_sol",
           "upper": 554.6820938110351
          },
          {
           "lower": 261.5559677124023,
           "timepoint": 557,
           "trajectory": "H_sol",
           "upper": 564.3539749145508
          },
          {
           "lower": 262.8133186340332,
           "timepoint": 558,
           "trajectory": "H_sol",
           "upper": 574.2412925720215
          },
          {
           "lower": 264.11574783325193,
           "timepoint": 559,
           "trajectory": "H_sol",
           "upper": 584.3470664978028
          },
          {
           "lower": 265.4637283325195,
           "timepoint": 560,
           "trajectory": "H_sol",
           "upper": 594.6747909545899
          },
          {
           "lower": 266.8575805664062,
           "timepoint": 561,
           "trajectory": "H_sol",
           "upper": 605.2294555664063
          },
          {
           "lower": 268.2977828979492,
           "timepoint": 562,
           "trajectory": "H_sol",
           "upper": 616.0165786743164
          },
          {
           "lower": 269.78455963134763,
           "timepoint": 563,
           "trajectory": "H_sol",
           "upper": 627.0387741088867
          },
          {
           "lower": 271.3185302734375,
           "timepoint": 564,
           "trajectory": "H_sol",
           "upper": 638.301220703125
          },
          {
           "lower": 272.90002212524416,
           "timepoint": 565,
           "trajectory": "H_sol",
           "upper": 649.8071159362793
          },
          {
           "lower": 274.5294563293457,
           "timepoint": 566,
           "trajectory": "H_sol",
           "upper": 661.5622642517089
          },
          {
           "lower": 276.20748672485354,
           "timepoint": 567,
           "trajectory": "H_sol",
           "upper": 673.5705741882324
          },
          {
           "lower": 277.9343132019043,
           "timepoint": 568,
           "trajectory": "H_sol",
           "upper": 685.8363929748535
          },
          {
           "lower": 4,
           "timepoint": 0,
           "trajectory": "I_sol",
           "upper": 4
          },
          {
           "lower": 3.6238969802856444,
           "timepoint": 1,
           "trajectory": "I_sol",
           "upper": 3.6363707542419434
          },
          {
           "lower": 3.4885686159133913,
           "timepoint": 2,
           "trajectory": "I_sol",
           "upper": 3.5290819883346556
          },
          {
           "lower": 3.485947835445404,
           "timepoint": 3,
           "trajectory": "I_sol",
           "upper": 3.564572823047638
          },
          {
           "lower": 3.557996678352356,
           "timepoint": 4,
           "trajectory": "I_sol",
           "upper": 3.6822095632553102
          },
          {
           "lower": 3.673617398738861,
           "timepoint": 5,
           "trajectory": "I_sol",
           "upper": 3.8497511982917785
          },
          {
           "lower": 3.8162244319915772,
           "timepoint": 6,
           "trajectory": "I_sol",
           "upper": 4.050282144546509
          },
          {
           "lower": 3.977054500579834,
           "timepoint": 7,
           "trajectory": "I_sol",
           "upper": 4.275048351287841
          },
          {
           "lower": 4.151557374000549,
           "timepoint": 8,
           "trajectory": "I_sol",
           "upper": 4.519761157035828
          },
          {
           "lower": 4.3374614238739015,
           "timepoint": 9,
           "trajectory": "I_sol",
           "upper": 4.782535600662231
          },
          {
           "lower": 4.533741188049317,
           "timepoint": 10,
           "trajectory": "I_sol",
           "upper": 5.062779235839844
          },
          {
           "lower": 4.740025353431702,
           "timepoint": 11,
           "trajectory": "I_sol",
           "upper": 5.360646891593933
          },
          {
           "lower": 4.956326484680176,
           "timepoint": 12,
           "trajectory": "I_sol",
           "upper": 5.676703453063965
          },
          {
           "lower": 5.182867240905762,
           "timepoint": 13,
           "trajectory": "I_sol",
           "upper": 6.011780548095703
          },
          {
           "lower": 5.419992685317993,
           "timepoint": 14,
           "trajectory": "I_sol",
           "upper": 6.366863965988159
          },
          {
           "lower": 5.6681136131286625,
           "timepoint": 15,
           "trajectory": "I_sol",
           "upper": 6.743072605133056
          },
          {
           "lower": 5.927706885337829,
           "timepoint": 16,
           "trajectory": "I_sol",
           "upper": 7.14161331653595
          },
          {
           "lower": 6.199290800094604,
           "timepoint": 17,
           "trajectory": "I_sol",
           "upper": 7.563802194595337
          },
          {
           "lower": 6.483403849601745,
           "timepoint": 18,
           "trajectory": "I_sol",
           "upper": 8.011021447181701
          },
          {
           "lower": 6.780624985694885,
           "timepoint": 19,
           "trajectory": "I_sol",
           "upper": 8.484761118888855
          },
          {
           "lower": 7.091561388969422,
           "timepoint": 20,
           "trajectory": "I_sol",
           "upper": 8.98659269809723
          },
          {
           "lower": 7.4168401718139645,
           "timepoint": 21,
           "trajectory": "I_sol",
           "upper": 9.518157386779786
          },
          {
           "lower": 7.757138657569885,
           "timepoint": 22,
           "trajectory": "I_sol",
           "upper": 10.081243586540221
          },
          {
           "lower": 8.113145780563354,
           "timepoint": 23,
           "trajectory": "I_sol",
           "upper": 10.677731561660767
          },
          {
           "lower": 8.48559637069702,
           "timepoint": 24,
           "trajectory": "I_sol",
           "upper": 11.309592533111573
          },
          {
           "lower": 8.875250577926636,
           "timepoint": 25,
           "trajectory": "I_sol",
           "upper": 11.978918313980103
          },
          {
           "lower": 9.28293194770813,
           "timepoint": 26,
           "trajectory": "I_sol",
           "upper": 12.687949514389038
          },
          {
           "lower": 9.709448337554932,
           "timepoint": 27,
           "trajectory": "I_sol",
           "upper": 13.439040660858154
          },
          {
           "lower": 10.155682516098022,
           "timepoint": 28,
           "trajectory": "I_sol",
           "upper": 14.234682130813598
          },
          {
           "lower": 10.622602176666259,
           "timepoint": 29,
           "trajectory": "I_sol",
           "upper": 15.077535915374755
          },
          {
           "lower": 11.111111783981324,
           "timepoint": 30,
           "trajectory": "I_sol",
           "upper": 15.970401620864868
          },
          {
           "lower": 11.622240257263183,
           "timepoint": 31,
           "trajectory": "I_sol",
           "upper": 16.916246223449708
          },
          {
           "lower": 12.15705976486206,
           "timepoint": 32,
           "trajectory": "I_sol",
           "upper": 17.918240451812743
          },
          {
           "lower": 12.7166579246521,
           "timepoint": 33,
           "trajectory": "I_sol",
           "upper": 18.979728412628173
          },
          {
           "lower": 13.302192544937133,
           "timepoint": 34,
           "trajectory": "I_sol",
           "upper": 20.1041175365448
          },
          {
           "lower": 13.914880847930908,
           "timepoint": 35,
           "trajectory": "I_sol",
           "upper": 21.295291805267333
          },
          {
           "lower": 14.556002616882324,
           "timepoint": 36,
           "trajectory": "I_sol",
           "upper": 22.557156562805176
          },
          {
           "lower": 15.226885271072387,
           "timepoint": 37,
           "trajectory": "I_sol",
           "upper": 23.894058752059937
          },
          {
           "lower": 15.928918075561523,
           "timepoint": 38,
           "trajectory": "I_sol",
           "upper": 25.31026725769043
          },
          {
           "lower": 16.66356439590454,
           "timepoint": 39,
           "trajectory": "I_sol",
           "upper": 26.810566234588624
          },
          {
           "lower": 17.43234815597534,
           "timepoint": 40,
           "trajectory": "I_sol",
           "upper": 28.39996347427368
          },
          {
           "lower": 18.23687982559204,
           "timepoint": 41,
           "trajectory": "I_sol",
           "upper": 30.083755016326904
          },
          {
           "lower": 19.078841972351075,
           "timepoint": 42,
           "trajectory": "I_sol",
           "upper": 31.867542457580566
          },
          {
           "lower": 19.959955883026122,
           "timepoint": 43,
           "trajectory": "I_sol",
           "upper": 33.75728540420532
          },
          {
           "lower": 20.882104873657227,
           "timepoint": 44,
           "trajectory": "I_sol",
           "upper": 35.75927543640137
          },
          {
           "lower": 21.847206783294677,
           "timepoint": 45,
           "trajectory": "I_sol",
           "upper": 37.88021974563598
          },
          {
           "lower": 22.857291603088377,
           "timepoint": 46,
           "trajectory": "I_sol",
           "upper": 40.12717113494873
          },
          {
           "lower": 23.914413738250733,
           "timepoint": 47,
           "trajectory": "I_sol",
           "upper": 42.507646274566646
          },
          {
           "lower": 25.020862674713136,
           "timepoint": 48,
           "trajectory": "I_sol",
           "upper": 45.02947416305542
          },
          {
           "lower": 26.178938484191896,
           "timepoint": 49,
           "trajectory": "I_sol",
           "upper": 47.7011999130249
          },
          {
           "lower": 27.39105920791626,
           "timepoint": 50,
           "trajectory": "I_sol",
           "upper": 50.53165311813354
          },
          {
           "lower": 28.659806537628175,
           "timepoint": 51,
           "trajectory": "I_sol",
           "upper": 53.53043813705444
          },
          {
           "lower": 29.987829780578615,
           "timepoint": 52,
           "trajectory": "I_sol",
           "upper": 56.70737972259521
          },
          {
           "lower": 31.37793321609497,
           "timepoint": 53,
           "trajectory": "I_sol",
           "upper": 60.07315282821655
          },
          {
           "lower": 32.833034420013426,
           "timepoint": 54,
           "trajectory": "I_sol",
           "upper": 63.639005756378175
          },
          {
           "lower": 34.356235885620116,
           "timepoint": 55,
           "trajectory": "I_sol",
           "upper": 67.41678199768066
          },
          {
           "lower": 35.95075454711914,
           "timepoint": 56,
           "trajectory": "I_sol",
           "upper": 71.4190574645996
          },
          {
           "lower": 37.61999359130859,
           "timepoint": 57,
           "trajectory": "I_sol",
           "upper": 75.65957794189453
          },
          {
           "lower": 39.367325973510745,
           "timepoint": 58,
           "trajectory": "I_sol",
           "upper": 80.15202980041504
          },
          {
           "lower": 41.19665870666504,
           "timepoint": 59,
           "trajectory": "I_sol",
           "upper": 84.91159477233886
          },
          {
           "lower": 43.111816215515134,
           "timepoint": 60,
           "trajectory": "I_sol",
           "upper": 89.95415134429932
          },
          {
           "lower": 45.11688385009766,
           "timepoint": 61,
           "trajectory": "I_sol",
           "upper": 95.29655303955077
          },
          {
           "lower": 47.21598243713379,
           "timepoint": 62,
           "trajectory": "I_sol",
           "upper": 100.95673942565918
          },
          {
           "lower": 49.413772392272946,
           "timepoint": 63,
           "trajectory": "I_sol",
           "upper": 106.95349521636963
          },
          {
           "lower": 51.71488780975342,
           "timepoint": 64,
           "trajectory": "I_sol",
           "upper": 113.30689029693603
          },
          {
           "lower": 54.124202728271484,
           "timepoint": 65,
           "trajectory": "I_sol",
           "upper": 120.03812026977539
          },
          {
           "lower": 56.64689559936524,
           "timepoint": 66,
           "trajectory": "I_sol",
           "upper": 127.16977005004883
          },
          {
           "lower": 59.28836231231689,
           "timepoint": 67,
           "trajectory": "I_sol",
           "upper": 134.72553462982177
          },
          {
           "lower": 62.05425624847412,
           "timepoint": 68,
           "trajectory": "I_sol",
           "upper": 142.73084278106688
          },
          {
           "lower": 64.95055751800537,
           "timepoint": 69,
           "trajectory": "I_sol",
           "upper": 151.212318611145
          },
          {
           "lower": 67.9834197998047,
           "timepoint": 70,
           "trajectory": "I_sol",
           "upper": 160.19837341308593
          },
          {
           "lower": 71.1594066619873,
           "timepoint": 71,
           "trajectory": "I_sol",
           "upper": 169.71895790100098
          },
          {
           "lower": 74.48540649414062,
           "timepoint": 72,
           "trajectory": "I_sol",
           "upper": 179.806005859375
          },
          {
           "lower": 77.9683666229248,
           "timepoint": 73,
           "trajectory": "I_sol",
           "upper": 190.49318885803223
          },
          {
           "lower": 81.61605186462403,
           "timepoint": 74,
           "trajectory": "I_sol",
           "upper": 201.81611518859862
          },
          {
           "lower": 85.43625946044922,
           "timepoint": 75,
           "trajectory": "I_sol",
           "upper": 213.8127944946289
          },
          {
           "lower": 89.43722610473633,
           "timepoint": 76,
           "trajectory": "I_sol",
           "upper": 226.52326889038085
          },
          {
           "lower": 93.62767944335937,
           "timepoint": 77,
           "trajectory": "I_sol",
           "upper": 239.99017944335938
          },
          {
           "lower": 98.0166862487793,
           "timepoint": 78,
           "trajectory": "I_sol",
           "upper": 254.25835342407225
          },
          {
           "lower": 102.61376571655273,
           "timepoint": 79,
           "trajectory": "I_sol",
           "upper": 269.3754463195801
          },
          {
           "lower": 107.42894973754883,
           "timepoint": 80,
           "trajectory": "I_sol",
           "upper": 285.3922630310058
          },
          {
           "lower": 112.47248115539551,
           "timepoint": 81,
           "trajectory": "I_sol",
           "upper": 302.3621059417724
          },
          {
           "lower": 117.75569801330566,
           "timepoint": 82,
           "trajectory": "I_sol",
           "upper": 320.34192008972167
          },
          {
           "lower": 123.28997688293457,
           "timepoint": 83,
           "trajectory": "I_sol",
           "upper": 339.39171714782714
          },
          {
           "lower": 129.0875129699707,
           "timepoint": 84,
           "trajectory": "I_sol",
           "upper": 359.575252532959
          },
          {
           "lower": 135.16084785461425,
           "timepoint": 85,
           "trajectory": "I_sol",
           "upper": 380.9595668792725
          },
          {
           "lower": 141.5233699798584,
           "timepoint": 86,
           "trajectory": "I_sol",
           "upper": 403.61680488586427
          },
          {
           "lower": 148.18906784057617,
           "timepoint": 87,
           "trajectory": "I_sol",
           "upper": 427.62240982055664
          },
          {
           "lower": 155.17249145507813,
           "timepoint": 88,
           "trajectory": "I_sol",
           "upper": 453.0564514160156
          },
          {
           "lower": 162.48905563354492,
           "timepoint": 89,
           "trajectory": "I_sol",
           "upper": 480.0043067932129
          },
          {
           "lower": 170.1548728942871,
           "timepoint": 90,
           "trajectory": "I_sol",
           "upper": 508.55595779418945
          },
          {
           "lower": 178.1870086669922,
           "timepoint": 91,
           "trajectory": "I_sol",
           "upper": 538.8065826416015
          },
          {
           "lower": 186.6029960632324,
           "timepoint": 92,
           "trajectory": "I_sol",
           "upper": 570.8577735900878
          },
          {
           "lower": 195.42148132324218,
           "timepoint": 93,
           "trajectory": "I_sol",
           "upper": 604.816616821289
          },
          {
           "lower": 204.6619529724121,
           "timepoint": 94,
           "trajectory": "I_sol",
           "upper": 640.7952156066895
          },
          {
           "lower": 214.34532623291017,
           "timepoint": 95,
           "trajectory": "I_sol",
           "upper": 678.9157516479492
          },
          {
           "lower": 224.4926445007324,
           "timepoint": 96,
           "trajectory": "I_sol",
           "upper": 719.3050392150878
          },
          {
           "lower": 235.12660369873046,
           "timepoint": 97,
           "trajectory": "I_sol",
           "upper": 762.0965713500976
          },
          {
           "lower": 246.27105712890625,
           "timepoint": 98,
           "trajectory": "I_sol",
           "upper": 807.4351196289062
          },
          {
           "lower": 257.95025939941405,
           "timepoint": 99,
           "trajectory": "I_sol",
           "upper": 855.4714324951171
          },
          {
           "lower": 270.19102630615237,
           "timepoint": 100,
           "trajectory": "I_sol",
           "upper": 906.3656448364258
          },
          {
           "lower": 283.0204399108887,
           "timepoint": 101,
           "trajectory": "I_sol",
           "upper": 960.2876197814941
          },
          {
           "lower": 296.46717071533203,
           "timepoint": 102,
           "trajectory": "I_sol",
           "upper": 1017.4170761108398
          },
          {
           "lower": 310.5616973876953,
           "timepoint": 103,
           "trajectory": "I_sol",
           "upper": 1077.9477630615233
          },
          {
           "lower": 325.3354125976563,
           "timepoint": 104,
           "trajectory": "I_sol",
           "upper": 1142.0781616210936
          },
          {
           "lower": 340.8218170166016,
           "timepoint": 105,
           "trajectory": "I_sol",
           "upper": 1210.024557495117
          },
          {
           "lower": 357.0547241210937,
           "timepoint": 106,
           "trajectory": "I_sol",
           "upper": 1282.0075317382812
          },
          {
           "lower": 374.0721466064453,
           "timepoint": 107,
           "trajectory": "I_sol",
           "upper": 1358.2747161865234
          },
          {
           "lower": 391.9121398925781,
           "timepoint": 108,
           "trajectory": "I_sol",
           "upper": 1439.0767517089844
          },
          {
           "lower": 410.6152282714844,
           "timepoint": 109,
           "trajectory": "I_sol",
           "upper": 1524.683721923828
          },
          {
           "lower": 430.22171783447266,
           "timepoint": 110,
           "trajectory": "I_sol",
           "upper": 1615.3796920776367
          },
          {
           "lower": 450.7788619995117,
           "timepoint": 111,
           "trajectory": "I_sol",
           "upper": 1711.4692153930664
          },
          {
           "lower": 472.33212127685545,
           "timepoint": 112,
           "trajectory": "I_sol",
           "upper": 1813.2694717407226
          },
          {
           "lower": 494.93052673339844,
           "timepoint": 113,
           "trajectory": "I_sol",
           "upper": 1921.1193389892578
          },
          {
           "lower": 518.6262588500977,
           "timepoint": 114,
           "trajectory": "I_sol",
           "upper": 2035.3801803588867
          },
          {
           "lower": 543.4724105834961,
           "timepoint": 115,
           "trajectory": "I_sol",
           "upper": 2156.4295974731444
          },
          {
           "lower": 569.5262619018555,
           "timepoint": 116,
           "trajectory": "I_sol",
           "upper": 2284.6742080688477
          },
          {
           "lower": 596.8467819213868,
           "timepoint": 117,
           "trajectory": "I_sol",
           "upper": 2420.525807189941
          },
          {
           "lower": 625.4971984863281,
           "timepoint": 118,
           "trajectory": "I_sol",
           "upper": 2564.4523864746093
          },
          {
           "lower": 655.5425964355469,
           "timepoint": 119,
           "trajectory": "I_sol",
           "upper": 2716.9204162597657
          },
          {
           "lower": 687.0520782470703,
           "timepoint": 120,
           "trajectory": "I_sol",
           "upper": 2878.4402923583984
          },
          {
           "lower": 720.0992858886718,
           "timepoint": 121,
           "trajectory": "I_sol",
           "upper": 3049.5443908691404
          },
          {
           "lower": 754.7588623046875,
           "timepoint": 122,
           "trajectory": "I_sol",
           "upper": 3230.8060791015623
          },
          {
           "lower": 791.1108551025391,
           "timepoint": 123,
           "trajectory": "I_sol",
           "upper": 3422.8168182373047
          },
          {
           "lower": 829.2395568847656,
           "timepoint": 124,
           "trajectory": "I_sol",
           "upper": 3626.2168640136715
          },
          {
           "lower": 869.232455444336,
           "timepoint": 125,
           "trajectory": "I_sol",
           "upper": 3841.66653137207
          },
          {
           "lower": 911.1824462890625,
           "timepoint": 126,
           "trajectory": "I_sol",
           "upper": 4069.8893310546873
          },
          {
           "lower": 955.1866729736328,
           "timepoint": 127,
           "trajectory": "I_sol",
           "upper": 4311.632357788086
          },
          {
           "lower": 1001.3470123291015,
           "timepoint": 128,
           "trajectory": "I_sol",
           "upper": 4567.691989135742
          },
          {
           "lower": 1049.7703796386718,
           "timepoint": 129,
           "trajectory": "I_sol",
           "upper": 4838.90650024414
          },
          {
           "lower": 1100.569512939453,
           "timepoint": 130,
           "trajectory": "I_sol",
           "upper": 5126.176458740234
          },
          {
           "lower": 1153.8619323730468,
           "timepoint": 131,
           "trajectory": "I_sol",
           "upper": 5430.435064697265
          },
          {
           "lower": 1209.7732635498046,
           "timepoint": 132,
           "trajectory": "I_sol",
           "upper": 5752.681631469726
          },
          {
           "lower": 1268.4322967529297,
           "timepoint": 133,
           "trajectory": "I_sol",
           "upper": 6093.967910766602
          },
          {
           "lower": 1329.977099609375,
           "timepoint": 134,
           "trajectory": "I_sol",
           "upper": 6455.416455078124
          },
          {
           "lower": 1394.5468139648438,
           "timepoint": 135,
           "trajectory": "I_sol",
           "upper": 6838.196594238281
          },
          {
           "lower": 1462.2970458984375,
           "timepoint": 136,
           "trajectory": "I_sol",
           "upper": 7243.552075195312
          },
          {
           "lower": 1533.3859558105469,
           "timepoint": 137,
           "trajectory": "I_sol",
           "upper": 7672.820220947266
          },
          {
           "lower": 1607.9760314941407,
           "timepoint": 138,
           "trajectory": "I_sol",
           "upper": 8127.370037841796
          },
          {
           "lower": 1686.245135498047,
           "timepoint": 139,
           "trajectory": "I_sol",
           "upper": 8608.684674072265
          },
          {
           "lower": 1768.3744750976562,
           "timepoint": 140,
           "trajectory": "I_sol",
           "upper": 9118.310827636718
          },
          {
           "lower": 1854.5578979492188,
           "timepoint": 141,
           "trajectory": "I_sol",
           "upper": 9657.892541503907
          },
          {
           "lower": 1944.9961181640624,
           "timepoint": 142,
           "trajectory": "I_sol",
           "upper": 10229.171362304687
          },
          {
           "lower": 2039.901678466797,
           "timepoint": 143,
           "trajectory": "I_sol",
           "upper": 10833.977349853516
          },
          {
           "lower": 2139.4947509765625,
           "timepoint": 144,
           "trajectory": "I_sol",
           "upper": 11474.219604492188
          },
          {
           "lower": 2244.0109008789063,
           "timepoint": 145,
           "trajectory": "I_sol",
           "upper": 12151.963464355467
          },
          {
           "lower": 2353.694195556641,
           "timepoint": 146,
           "trajectory": "I_sol",
           "upper": 12869.358905029296
          },
          {
           "lower": 2468.8004760742188,
           "timepoint": 147,
           "trajectory": "I_sol",
           "upper": 13628.667541503906
          },
          {
           "lower": 2589.6007080078125,
           "timepoint": 148,
           "trajectory": "I_sol",
           "upper": 14432.293334960938
          },
          {
           "lower": 2716.378283691406,
           "timepoint": 149,
           "trajectory": "I_sol",
           "upper": 15282.762097167968
          },
          {
           "lower": 2849.4235229492188,
           "timepoint": 150,
           "trajectory": "I_sol",
           "upper": 16182.720275878906
          },
          {
           "lower": 2989.05380859375,
           "timepoint": 151,
           "trajectory": "I_sol",
           "upper": 17134.99892578125
          },
          {
           "lower": 3135.590954589844,
           "timepoint": 152,
           "trajectory": "I_sol",
           "upper": 18142.508898925782
          },
          {
           "lower": 3289.3787109375,
           "timepoint": 153,
           "trajectory": "I_sol",
           "upper": 19208.4064453125
          },
          {
           "lower": 3450.776086425781,
           "timepoint": 154,
           "trajectory": "I_sol",
           "upper": 20335.93558349609
          },
          {
           "lower": 3620.1566650390623,
           "timepoint": 155,
           "trajectory": "I_sol",
           "upper": 21528.555737304687
          },
          {
           "lower": 3797.9158203125,
           "timepoint": 156,
           "trajectory": "I_sol",
           "upper": 22789.8810546875
          },
          {
           "lower": 3984.4499633789064,
           "timepoint": 157,
           "trajectory": "I_sol",
           "upper": 24123.725573730466
          },
          {
           "lower": 4180.209631347656,
           "timepoint": 158,
           "trajectory": "I_sol",
           "upper": 25534.061608886717
          },
          {
           "lower": 4385.636633300781,
           "timepoint": 159,
           "trajectory": "I_sol",
           "upper": 27025.121911621092
          },
          {
           "lower": 4601.203063964844,
           "timepoint": 160,
           "trajectory": "I_sol",
           "upper": 28601.27960205078
          },
          {
           "lower": 4827.400646972656,
           "timepoint": 161,
           "trajectory": "I_sol",
           "upper": 30267.140124511716
          },
          {
           "lower": 5064.757238769531,
           "timepoint": 162,
           "trajectory": "I_sol",
           "upper": 32027.643884277342
          },
          {
           "lower": 5313.798962402344,
           "timepoint": 163,
           "trajectory": "I_sol",
           "upper": 33887.74229736328
          },
          {
           "lower": 5575.096813964844,
           "timepoint": 164,
           "trajectory": "I_sol",
           "upper": 35852.79991455078
          },
          {
           "lower": 5849.229162597656,
           "timepoint": 165,
           "trajectory": "I_sol",
           "upper": 37928.33895263672
          },
          {
           "lower": 6136.821923828125,
           "timepoint": 166,
           "trajectory": "I_sol",
           "upper": 40120.16538085938
          },
          {
           "lower": 6438.512622070312,
           "timepoint": 167,
           "trajectory": "I_sol",
           "upper": 42434.31892089843
          },
          {
           "lower": 6754.971508789063,
           "timepoint": 168,
           "trajectory": "I_sol",
           "upper": 44877.096362304685
          },
          {
           "lower": 7086.892260742188,
           "timepoint": 169,
           "trajectory": "I_sol",
           "upper": 47455.07697753906
          },
          {
           "lower": 7435.004565429688,
           "timepoint": 170,
           "trajectory": "I_sol",
           "upper": 50175.09357910156
          },
          {
           "lower": 7800.06123046875,
           "timepoint": 171,
           "trajectory": "I_sol",
           "upper": 53044.19853515625
          },
          {
           "lower": 8182.856103515625,
           "timepoint": 172,
           "trajectory": "I_sol",
           "upper": 56069.84604492187
          },
          {
           "lower": 8584.185278320312,
           "timepoint": 173,
           "trajectory": "I_sol",
           "upper": 59259.497827148436
          },
          {
           "lower": 9004.91787109375,
           "timepoint": 174,
           "trajectory": "I_sol",
           "upper": 62621.185644531244
          },
          {
           "lower": 9445.924658203125,
           "timepoint": 175,
           "trajectory": "I_sol",
           "upper": 66162.93764648437
          },
          {
           "lower": 9908.12861328125,
           "timepoint": 176,
           "trajectory": "I_sol",
           "upper": 69893.36943359375
          },
          {
           "lower": 10392.462158203125,
           "timepoint": 177,
           "trajectory": "I_sol",
           "upper": 73820.91577148438
          },
          {
           "lower": 10899.900952148437,
           "timepoint": 178,
           "trajectory": "I_sol",
           "upper": 77954.47258300781
          },
          {
           "lower": 11431.486767578124,
           "timepoint": 179,
           "trajectory": "I_sol",
           "upper": 82303.10209960937
          },
          {
           "lower": 11988.22998046875,
           "timepoint": 180,
           "trajectory": "I_sol",
           "upper": 86876.13134765625
          },
          {
           "lower": 12571.2013671875,
           "timepoint": 181,
           "trajectory": "I_sol",
           "upper": 91682.9275390625
          },
          {
           "lower": 13181.5236328125,
           "timepoint": 182,
           "trajectory": "I_sol",
           "upper": 96733.0974609375
          },
          {
           "lower": 13820.325927734375,
           "timepoint": 183,
           "trajectory": "I_sol",
           "upper": 102036.30004882812
          },
          {
           "lower": 14488.792626953125,
           "timepoint": 184,
           "trajectory": "I_sol",
           "upper": 107602.38217773437
          },
          {
           "lower": 15188.094091796876,
           "timepoint": 185,
           "trajectory": "I_sol",
           "upper": 113441.01235351562
          },
          {
           "lower": 15919.462353515624,
           "timepoint": 186,
           "trajectory": "I_sol",
           "upper": 119561.95854492187
          },
          {
           "lower": 16684.1388671875,
           "timepoint": 187,
           "trajectory": "I_sol",
           "upper": 125974.9744140625
          },
          {
           "lower": 17483.3978515625,
           "timepoint": 188,
           "trajectory": "I_sol",
           "upper": 132689.5044921875
          },
          {
           "lower": 18318.51630859375,
           "timepoint": 189,
           "trajectory": "I_sol",
           "upper": 139714.85283203123
          },
          {
           "lower": 19190.815576171874,
           "timepoint": 190,
           "trajectory": "I_sol",
           "upper": 147060.25180664062
          },
          {
           "lower": 20101.59755859375,
           "timepoint": 191,
           "trajectory": "I_sol",
           "upper": 154734.17783203124
          },
          {
           "lower": 21052.205029296874,
           "timepoint": 192,
           "trajectory": "I_sol",
           "upper": 162744.9170410156
          },
          {
           "lower": 22043.939794921876,
           "timepoint": 193,
           "trajectory": "I_sol",
           "upper": 171099.92446289063
          },
          {
           "lower": 23078.162060546878,
           "timepoint": 194,
           "trajectory": "I_sol",
           "upper": 179806.2881347656
          },
          {
           "lower": 24156.183300781253,
           "timepoint": 195,
           "trajectory": "I_sol",
           "upper": 188869.92412109373
          },
          {
           "lower": 25279.348876953125,
           "timepoint": 196,
           "trajectory": "I_sol",
           "upper": 198296.51342773438
          },
          {
           "lower": 26448.948681640628,
           "timepoint": 197,
           "trajectory": "I_sol",
           "upper": 208089.83940429686
          },
          {
           "lower": 27666.2203125,
           "timepoint": 198,
           "trajectory": "I_sol",
           "upper": 218252.77968749998
          },
          {
           "lower": 28932.472265625,
           "timepoint": 199,
           "trajectory": "I_sol",
           "upper": 228786.95742187498
          },
          {
           "lower": 30248.858203125,
           "timepoint": 200,
           "trajectory": "I_sol",
           "upper": 239692.477734375
          },
          {
           "lower": 31616.60009765625,
           "timepoint": 201,
           "trajectory": "I_sol",
           "upper": 250967.70263671875
          },
          {
           "lower": 33036.77607421875,
           "timepoint": 202,
           "trajectory": "I_sol",
           "upper": 262608.92900390626
          },
          {
           "lower": 34510.4673828125,
           "timepoint": 203,
           "trajectory": "I_sol",
           "upper": 274611.1068359375
          },
          {
           "lower": 36038.644921875,
           "timepoint": 204,
           "trajectory": "I_sol",
           "upper": 286965.61289062497
          },
          {
           "lower": 37622.25224609375,
           "timepoint": 205,
           "trajectory": "I_sol",
           "upper": 299663.58564453124
          },
          {
           "lower": 39262.08603515625,
           "timepoint": 206,
           "trajectory": "I_sol",
           "upper": 312691.6854492187
          },
          {
           "lower": 40958.95166015625,
           "timepoint": 207,
           "trajectory": "I_sol",
           "upper": 326035.50732421875
          },
          {
           "lower": 42713.40048828125,
           "timepoint": 208,
           "trajectory": "I_sol",
           "upper": 339675.3631835937
          },
          {
           "lower": 44526.04501953125,
           "timepoint": 209,
           "trajectory": "I_sol",
           "upper": 353591.9530273437
          },
          {
           "lower": 46397.3359375,
           "timepoint": 210,
           "trajectory": "I_sol",
           "upper": 367760.7578125
          },
          {
           "lower": 48327.59228515625,
           "timepoint": 211,
           "trajectory": "I_sol",
           "upper": 382155.17919921875
          },
          {
           "lower": 50316.95703125,
           "timepoint": 212,
           "trajectory": "I_sol",
           "upper": 396743.33984375
          },
          {
           "lower": 52365.70380859375,
           "timepoint": 213,
           "trajectory": "I_sol",
           "upper": 411493.6653320312
          },
          {
           "lower": 54473.708398437506,
           "timepoint": 214,
           "trajectory": "I_sol",
           "upper": 426368.63925781247
          },
          {
           "lower": 56640.88359375,
           "timepoint": 215,
           "trajectory": "I_sol",
           "upper": 441328.88203125
          },
          {
           "lower": 58867.007421875,
           "timepoint": 216,
           "trajectory": "I_sol",
           "upper": 456330.625390625
          },
          {
           "lower": 61151.7013671875,
           "timepoint": 217,
           "trajectory": "I_sol",
           "upper": 471328.84941406245
          },
          {
           "lower": 63494.640234375,
           "timepoint": 218,
           "trajectory": "I_sol",
           "upper": 486274.836328125
          },
          {
           "lower": 65895.3548828125,
           "timepoint": 219,
           "trajectory": "I_sol",
           "upper": 501117.90683593747
          },
          {
           "lower": 68353.18984375,
           "timepoint": 220,
           "trajectory": "I_sol",
           "upper": 515803.70078124997
          },
          {
           "lower": 70867.63203125,
           "timepoint": 221,
           "trajectory": "I_sol",
           "upper": 530277.53984375
          },
          {
           "lower": 73438.0626953125,
           "timepoint": 222,
           "trajectory": "I_sol",
           "upper": 544482.6677734375
          },
          {
           "lower": 76063.6966796875,
           "timepoint": 223,
           "trajectory": "I_sol",
           "upper": 558361.1353515625
          },
          {
           "lower": 78744.037890625,
           "timepoint": 224,
           "trajectory": "I_sol",
           "upper": 571854.2980468749
          },
          {
           "lower": 81478.49375,
           "timepoint": 225,
           "trajectory": "I_sol",
           "upper": 584903.50625
          },
          {
           "lower": 84266.4802734375,
           "timepoint": 226,
           "trajectory": "I_sol",
           "upper": 597449.9923828124
          },
          {
           "lower": 87107.5083984375,
           "timepoint": 227,
           "trajectory": "I_sol",
           "upper": 609435.5267578125
          },
          {
           "lower": 90001.3845703125,
           "timepoint": 228,
           "trajectory": "I_sol",
           "upper": 620806.1583984374
          },
          {
           "lower": 92947.7408203125,
           "timepoint": 229,
           "trajectory": "I_sol",
           "upper": 631505.6771484375
          },
          {
           "lower": 95946.642578125,
           "timepoint": 230,
           "trajectory": "I_sol",
           "upper": 641483.224609375
          },
          {
           "lower": 98998.092578125,
           "timepoint": 231,
           "trajectory": "I_sol",
           "upper": 650690.8996093749
          },
          {
           "lower": 102102.725,
           "timepoint": 232,
           "trajectory": "I_sol",
           "upper": 659083.025
          },
          {
           "lower": 105260.91640625,
           "timepoint": 233,
           "trajectory": "I_sol",
           "upper": 666620.06796875
          },
          {
           "lower": 108473.4078125,
           "timepoint": 234,
           "trajectory": "I_sol",
           "upper": 673266.1859375
          },
          {
           "lower": 111741.32734375,
           "timepoint": 235,
           "trajectory": "I_sol",
           "upper": 678988.81328125
          },
          {
           "lower": 115066.257421875,
           "timepoint": 236,
           "trajectory": "I_sol",
           "upper": 683767.250390625
          },
          {
           "lower": 118449.4484375,
           "timepoint": 237,
           "trajectory": "I_sol",
           "upper": 687576.4578125
          },
          {
           "lower": 121892.957421875,
           "timepoint": 238,
           "trajectory": "I_sol",
           "upper": 690405.175390625
          },
          {
           "lower": 125398.96640625,
           "timepoint": 239,
           "trajectory": "I_sol",
           "upper": 692245.64296875
          },
          {
           "lower": 128969.75,
           "timepoint": 240,
           "trajectory": "I_sol",
           "upper": 693094.25
          },
          {
           "lower": 132607.878125,
           "timepoint": 241,
           "trajectory": "I_sol",
           "upper": 692956.934375
          },
          {
           "lower": 136316.42578125,
           "timepoint": 242,
           "trajectory": "I_sol",
           "upper": 691843.74609375
          },
          {
           "lower": 140097.99765625,
           "timepoint": 243,
           "trajectory": "I_sol",
           "upper": 689768.73671875
          },
          {
           "lower": 143956.446484375,
           "timepoint": 244,
           "trajectory": "I_sol",
           "upper": 686754.905078125
          },
          {
           "lower": 147894.528125,
           "timepoint": 245,
           "trajectory": "I_sol",
           "upper": 682828.0343749999
          },
          {
           "lower": 151915.848046875,
           "timepoint": 246,
           "trajectory": "I_sol",
           "upper": 678020.347265625
          },
          {
           "lower": 156023.73359375,
           "timepoint": 247,
           "trajectory": "I_sol",
           "upper": 672364.40703125
          },
          {
           "lower": 160221.6796875,
           "timepoint": 248,
           "trajectory": "I_sol",
           "upper": 665901.7265625
          },
          {
           "lower": 164513.34765625,
           "timepoint": 249,
           "trajectory": "I_sol",
           "upper": 658677.26171875
          },
          {
           "lower": 168901.54765625,
           "timepoint": 250,
           "trajectory": "I_sol",
           "upper": 650733.4367187499
          },
          {
           "lower": 173389.66796875,
           "timepoint": 251,
           "trajectory": "I_sol",
           "upper": 642120.28515625
          },
          {
           "lower": 177980.946875,
           "timepoint": 252,
           "trajectory": "I_sol",
           "upper": 632887.240625
          },
          {
           "lower": 182677.603125,
           "timepoint": 253,
           "trajectory": "I_sol",
           "upper": 623085.459375
          },
          {
           "lower": 187482.31875,
           "timepoint": 254,
           "trajectory": "I_sol",
           "upper": 612768.43125
          },
          {
           "lower": 192396.84765625,
           "timepoint": 255,
           "trajectory": "I_sol",
           "upper": 601987.76171875
          },
          {
           "lower": 197423.05859375,
           "timepoint": 256,
           "trajectory": "I_sol",
           "upper": 590796.95703125
          },
          {
           "lower": 202562.02421875,
           "timepoint": 257,
           "trajectory": "I_sol",
           "upper": 579248.1789062499
          },
          {
           "lower": 207814.38125,
           "timepoint": 258,
           "trajectory": "I_sol",
           "upper": 567391.49375
          },
          {
           "lower": 213180.25078125,
           "timepoint": 259,
           "trajectory": "I_sol",
           "upper": 555278.4210937499
          },
          {
           "lower": 218658.93203125,
           "timepoint": 260,
           "trajectory": "I_sol",
           "upper": 542956.11484375
          },
          {
           "lower": 224249.846875,
           "timepoint": 261,
           "trajectory": "I_sol",
           "upper": 530473.215625
          },
          {
           "lower": 229950.7796875,
           "timepoint": 262,
           "trajectory": "I_sol",
           "upper": 517873.12656249997
          },
          {
           "lower": 235759.05625,
           "timepoint": 263,
           "trajectory": "I_sol",
           "upper": 505198.13125
          },
          {
           "lower": 241671.7890625,
           "timepoint": 264,
           "trajectory": "I_sol",
           "upper": 492488.4296875
          },
          {
           "lower": 247684.79453125,
           "timepoint": 265,
           "trajectory": "I_sol",
           "upper": 479782.37734375
          },
          {
           "lower": 253793.584375,
           "timepoint": 266,
           "trajectory": "I_sol",
           "upper": 467113.66562499997
          },
          {
           "lower": 259992.1671875,
           "timepoint": 267,
           "trajectory": "I_sol",
           "upper": 454515.5515625
          },
          {
           "lower": 266274.35859375,
           "timepoint": 268,
           "trajectory": "I_sol",
           "upper": 442017.34453125
          },
          {
           "lower": 272633.284375,
           "timepoint": 269,
           "trajectory": "I_sol",
           "upper": 429646.778125
          },
          {
           "lower": 279060.2140625,
           "timepoint": 270,
           "trajectory": "I_sol",
           "upper": 417427.8171875
          },
          {
           "lower": 285546.59375,
           "timepoint": 271,
           "trajectory": "I_sol",
           "upper": 405382.71875
          },
          {
           "lower": 292083.8609375,
           "timepoint": 272,
           "trajectory": "I_sol",
           "upper": 393530.4828125
          },
          {
           "lower": 298659.7046875,
           "timepoint": 273,
           "trajectory": "I_sol",
           "upper": 381889.2015625
          },
          {
           "lower": 305264.246875,
           "timepoint": 274,
           "trajectory": "I_sol",
           "upper": 370473.128125
          },
          {
           "lower": 311885.3078125,
           "timepoint": 275,
           "trajectory": "I_sol",
           "upper": 359294.9734375
          },
          {
           "lower": 318509.875,
           "timepoint": 276,
           "trajectory": "I_sol",
           "upper": 348365.6875
          },
          {
           "lower": 325124.9578125,
           "timepoint": 277,
           "trajectory": "I_sol",
           "upper": 337693.8234375
          },
          {
           "lower": 327286.1640625,
           "timepoint": 278,
           "trajectory": "I_sol",
           "upper": 331715.9921875
          },
          {
           "lower": 317148.6171875,
           "timepoint": 279,
           "trajectory": "I_sol",
           "upper": 338270.3515625
          },
          {
           "lower": 307284.0921875,
           "timepoint": 280,
           "trajectory": "I_sol",
           "upper": 344770.7515625
          },
          {
           "lower": 297695.3578125,
           "timepoint": 281,
           "trajectory": "I_sol",
           "upper": 351202.2984375
          },
          {
           "lower": 288383.2390625,
           "timepoint": 282,
           "trajectory": "I_sol",
           "upper": 357550.2921875
          },
          {
           "lower": 279347.6296875,
           "timepoint": 283,
           "trajectory": "I_sol",
           "upper": 363796.9640625
          },
          {
           "lower": 270587.4046875,
           "timepoint": 284,
           "trajectory": "I_sol",
           "upper": 369926.5640625
          },
          {
           "lower": 262099.75703125,
           "timepoint": 285,
           "trajectory": "I_sol",
           "upper": 375922.60234375
          },
          {
           "lower": 253882.6671875,
           "timepoint": 286,
           "trajectory": "I_sol",
           "upper": 381768.3640625
          },
          {
           "lower": 245930.8890625,
           "timepoint": 287,
           "trajectory": "I_sol",
           "upper": 387447.14218749997
          },
          {
           "lower": 238241.0125,
           "timepoint": 288,
           "trajectory": "I_sol",
           "upper": 392942.2375
          },
          {
           "lower": 230807.796875,
           "timepoint": 289,
           "trajectory": "I_sol",
           "upper": 398237.890625
          },
          {
           "lower": 223625.7109375,
           "timepoint": 290,
           "trajectory": "I_sol",
           "upper": 403317.8828125
          },
          {
           "lower": 216688.76875,
           "timepoint": 291,
           "trajectory": "I_sol",
           "upper": 408166.35625
          },
          {
           "lower": 209990.703125,
           "timepoint": 292,
           "trajectory": "I_sol",
           "upper": 412768.859375
          },
          {
           "lower": 203524.86171875,
           "timepoint": 293,
           "trajectory": "I_sol",
           "upper": 417110.65390624997
          },
          {
           "lower": 197285.11796875,
           "timepoint": 294,
           "trajectory": "I_sol",
           "upper": 421177.71015625
          },
          {
           "lower": 191263.95390625,
           "timepoint": 295,
           "trajectory": "I_sol",
           "upper": 424957.96796875
          },
          {
           "lower": 185454.83828125,
           "timepoint": 296,
           "trajectory": "I_sol",
           "upper": 428438.70859374997
          },
          {
           "lower": 179850.521875,
           "timepoint": 297,
           "trajectory": "I_sol",
           "upper": 431609.04062499997
          },
          {
           "lower": 174443.996875,
           "timepoint": 298,
           "trajectory": "I_sol",
           "upper": 434458.440625
          },
          {
           "lower": 169228.36484375,
           "timepoint": 299,
           "trajectory": "I_sol",
           "upper": 436978.46328125
          },
          {
           "lower": 164196.559375,
           "timepoint": 300,
           "trajectory": "I_sol",
           "upper": 439161.128125
          },
          {
           "lower": 159342.21484375,
           "timepoint": 301,
           "trajectory": "I_sol",
           "upper": 440999.67578125
          },
          {
           "lower": 154658.13671875,
           "timepoint": 302,
           "trajectory": "I_sol",
           "upper": 442488.75390625
          },
          {
           "lower": 150137.64296875,
           "timepoint": 303,
           "trajectory": "I_sol",
           "upper": 443624.31015624997
          },
          {
           "lower": 145774.782421875,
           "timepoint": 304,
           "trajectory": "I_sol",
           "upper": 444403.662890625
          },
          {
           "lower": 141562.943359375,
           "timepoint": 305,
           "trajectory": "I_sol",
           "upper": 444825.220703125
          },
          {
           "lower": 137496.3203125,
           "timepoint": 306,
           "trajectory": "I_sol",
           "upper": 444888.0859375
          },
          {
           "lower": 133568.83828125,
           "timepoint": 307,
           "trajectory": "I_sol",
           "upper": 444593.83359374997
          },
          {
           "lower": 129774.858203125,
           "timepoint": 308,
           "trajectory": "I_sol",
           "upper": 443945.571484375
          },
          {
           "lower": 126108.966796875,
           "timepoint": 309,
           "trajectory": "I_sol",
           "upper": 442945.916015625
          },
          {
           "lower": 122565.917578125,
           "timepoint": 310,
           "trajectory": "I_sol",
           "upper": 441599.949609375
          },
          {
           "lower": 119140.7140625,
           "timepoint": 311,
           "trajectory": "I_sol",
           "upper": 439914.12968749995
          },
          {
           "lower": 115828.30859375,
           "timepoint": 312,
           "trajectory": "I_sol",
           "upper": 437894.08203125
          },
          {
           "lower": 112624.301171875,
           "timepoint": 313,
           "trajectory": "I_sol",
           "upper": 435549.58164062497
          },
          {
           "lower": 109524.277734375,
           "timepoint": 314,
           "trajectory": "I_sol",
           "upper": 432889.01132812497
          },
          {
           "lower": 106523.887109375,
           "timepoint": 315,
           "trajectory": "I_sol",
           "upper": 429922.65195312497
          },
          {
           "lower": 103619.275390625,
           "timepoint": 316,
           "trajectory": "I_sol",
           "upper": 426661.373046875
          },
          {
           "lower": 100806.578125,
           "timepoint": 317,
           "trajectory": "I_sol",
           "upper": 423116.546875
          },
          {
           "lower": 98082.25,
           "timepoint": 318,
           "trajectory": "I_sol",
           "upper": 419301.25
          },
          {
           "lower": 95442.8234375,
           "timepoint": 319,
           "trajectory": "I_sol",
           "upper": 415227.64531249995
          },
          {
           "lower": 92884.934375,
           "timepoint": 320,
           "trajectory": "I_sol",
           "upper": 410909.440625
          },
          {
           "lower": 90405.7453125,
           "timepoint": 321,
           "trajectory": "I_sol",
           "upper": 406360.7859375
          },
          {
           "lower": 88001.964453125,
           "timepoint": 322,
           "trajectory": "I_sol",
           "upper": 401594.652734375
          },
          {
           "lower": 85671.06796875,
           "timepoint": 323,
           "trajectory": "I_sol",
           "upper": 396627.07265625
          },
          {
           "lower": 83410.43828125,
           "timepoint": 324,
           "trajectory": "I_sol",
           "upper": 391471.73359375
          },
          {
           "lower": 81217.512890625,
           "timepoint": 325,
           "trajectory": "I_sol",
           "upper": 386143.510546875
          },
          {
           "lower": 79090.037109375,
           "timepoint": 326,
           "trajectory": "I_sol",
           "upper": 380656.376953125
          },
          {
           "lower": 77025.5095703125,
           "timepoint": 327,
           "trajectory": "I_sol",
           "upper": 375027.2833984375
          },
          {
           "lower": 75022.0501953125,
           "timepoint": 328,
           "trajectory": "I_sol",
           "upper": 369268.18027343747
          },
          {
           "lower": 73077.5318359375,
           "timepoint": 329,
           "trajectory": "I_sol",
           "upper": 363394.4095703125
          },
          {
           "lower": 71190.1380859375,
           "timepoint": 330,
           "trajectory": "I_sol",
           "upper": 357420.11582031247
          },
          {
           "lower": 69357.8982421875,
           "timepoint": 331,
           "trajectory": "I_sol",
           "upper": 351358.3400390625
          },
          {
           "lower": 67579.2404296875,
           "timepoint": 332,
           "trajectory": "I_sol",
           "upper": 345224.2166015625
          },
          {
           "lower": 65852.3408203125,
           "timepoint": 333,
           "trajectory": "I_sol",
           "upper": 339029.0771484375
          },
          {
           "lower": 64175.7095703125,
           "timepoint": 334,
           "trajectory": "I_sol",
           "upper": 332785.9583984375
          },
          {
           "lower": 62547.8041015625,
           "timepoint": 335,
           "trajectory": "I_sol",
           "upper": 326507.59824218747
          },
          {
           "lower": 60967.2572265625,
           "timepoint": 336,
           "trajectory": "I_sol",
           "upper": 320205.70761718747
          },
          {
           "lower": 59432.46015625,
           "timepoint": 337,
           "trajectory": "I_sol",
           "upper": 313889.58671875
          },
          {
           "lower": 57942.310546875,
           "timepoint": 338,
           "trajectory": "I_sol",
           "upper": 307571.759765625
          },
          {
           "lower": 56495.4205078125,
           "timepoint": 339,
           "trajectory": "I_sol",
           "upper": 301261.7162109375
          },
          {
           "lower": 55090.6318359375,
           "timepoint": 340,
           "trajectory": "I_sol",
           "upper": 294969.3720703125
          },
          {
           "lower": 53726.694921875,
           "timepoint": 341,
           "trajectory": "I_sol",
           "upper": 288703.187890625
          },
          {
           "lower": 52402.4443359375,
           "timepoint": 342,
           "trajectory": "I_sol",
           "upper": 282471.7470703125
          },
          {
           "lower": 51116.8419921875,
           "timepoint": 343,
           "trajectory": "I_sol",
           "upper": 276282.9587890625
          },
          {
           "lower": 49868.7673828125,
           "timepoint": 344,
           "trajectory": "I_sol",
           "upper": 270143.8693359375
          },
          {
           "lower": 48657.201953125,
           "timepoint": 345,
           "trajectory": "I_sol",
           "upper": 264061.915234375
          },
          {
           "lower": 47481.1052734375,
           "timepoint": 346,
           "trajectory": "I_sol",
           "upper": 258042.4298828125
          },
          {
           "lower": 46339.5517578125,
           "timepoint": 347,
           "trajectory": "I_sol",
           "upper": 252091.5224609375
          },
          {
           "lower": 45231.6279296875,
           "timepoint": 348,
           "trajectory": "I_sol",
           "upper": 246214.8291015625
          },
          {
           "lower": 44156.2767578125,
           "timepoint": 349,
           "trajectory": "I_sol",
           "upper": 240416.4537109375
          },
          {
           "lower": 43112.6806640625,
           "timepoint": 350,
           "trajectory": "I_sol",
           "upper": 234700.6904296875
          },
          {
           "lower": 42100.02265625,
           "timepoint": 351,
           "trajectory": "I_sol",
           "upper": 229071.77421874998
          },
          {
           "lower": 41117.33486328125,
           "timepoint": 352,
           "trajectory": "I_sol",
           "upper": 223532.58505859374
          },
          {
           "lower": 40163.8623046875,
           "timepoint": 353,
           "trajectory": "I_sol",
           "upper": 218086.2509765625
          },
          {
           "lower": 39238.84033203125,
           "timepoint": 354,
           "trajectory": "I_sol",
           "upper": 212735.18896484375
          },
          {
           "lower": 38341.398828125,
           "timepoint": 355,
           "trajectory": "I_sol",
           "upper": 207481.780859375
          },
          {
           "lower": 37470.8072265625,
           "timepoint": 356,
           "trajectory": "I_sol",
           "upper": 202327.43886718748
          },
          {
           "lower": 36626.2955078125,
           "timepoint": 357,
           "trajectory": "I_sol",
           "upper": 197273.80996093748
          },
          {
           "lower": 35807.1609375,
           "timepoint": 358,
           "trajectory": "I_sol",
           "upper": 192322.3078125
          },
          {
           "lower": 35012.70166015625,
           "timepoint": 359,
           "trajectory": "I_sol",
           "upper": 187473.41357421875
          },
          {
           "lower": 34242.1970703125,
           "timepoint": 360,
           "trajectory": "I_sol",
           "upper": 182727.8146484375
          },
          {
           "lower": 33494.99775390625,
           "timepoint": 361,
           "trajectory": "I_sol",
           "upper": 178085.75810546873
          },
          {
           "lower": 32770.3814453125,
           "timepoint": 362,
           "trajectory": "I_sol",
           "upper": 173547.4427734375
          },
          {
           "lower": 32067.758203125,
           "timepoint": 363,
           "trajectory": "I_sol",
           "upper": 169112.452734375
          },
          {
           "lower": 31386.5310546875,
           "timepoint": 364,
           "trajectory": "I_sol",
           "upper": 164781.0822265625
          },
          {
           "lower": 30726.04150390625,
           "timepoint": 365,
           "trajectory": "I_sol",
           "upper": 160552.52685546875
          },
          {
           "lower": 30085.65478515625,
           "timepoint": 366,
           "trajectory": "I_sol",
           "upper": 156424.99169921875
          },
          {
           "lower": 29464.86962890625,
           "timepoint": 367,
           "trajectory": "I_sol",
           "upper": 152399.04248046875
          },
          {
           "lower": 28863.07734375,
           "timepoint": 368,
           "trajectory": "I_sol",
           "upper": 148473.06328124998
          },
          {
           "lower": 28279.74384765625,
           "timepoint": 369,
           "trajectory": "I_sol",
           "upper": 144646.15263671873
          },
          {
           "lower": 27714.32265625,
           "timepoint": 370,
           "trajectory": "I_sol",
           "upper": 140916.78671875
          },
          {
           "lower": 27166.3041015625,
           "timepoint": 371,
           "trajectory": "I_sol",
           "upper": 137283.7544921875
          },
          {
           "lower": 26635.15625,
           "timepoint": 372,
           "trajectory": "I_sol",
           "upper": 133745.84375
          },
          {
           "lower": 26120.43203125,
           "timepoint": 373,
           "trajectory": "I_sol",
           "upper": 130301.23984375
          },
          {
           "lower": 25621.56435546875,
           "timepoint": 374,
           "trajectory": "I_sol",
           "upper": 126948.34384765624
          },
          {
           "lower": 25138.17431640625,
           "timepoint": 375,
           "trajectory": "I_sol",
           "upper": 123686.00341796875
          },
          {
           "lower": 24669.78125,
           "timepoint": 376,
           "trajectory": "I_sol",
           "upper": 120512.046875
          },
          {
           "lower": 24215.94609375,
           "timepoint": 377,
           "trajectory": "I_sol",
           "upper": 117425.02265624999
          },
          {
           "lower": 23776.21640625,
           "timepoint": 378,
           "trajectory": "I_sol",
           "upper": 114422.76796874999
          },
          {
           "lower": 23350.19169921875,
           "timepoint": 379,
           "trajectory": "I_sol",
           "upper": 111503.96650390624
          },
          {
           "lower": 22937.4953125,
           "timepoint": 380,
           "trajectory": "I_sol",
           "upper": 108666.6296875
          },
          {
           "lower": 22537.65791015625,
           "timepoint": 381,
           "trajectory": "I_sol",
           "upper": 105908.94169921875
          },
          {
           "lower": 22150.39189453125,
           "timepoint": 382,
           "trajectory": "I_sol",
           "upper": 103229.19990234374
          },
          {
           "lower": 21775.26728515625,
           "timepoint": 383,
           "trajectory": "I_sol",
           "upper": 100625.45732421875
          },
          {
           "lower": 21411.9369140625,
           "timepoint": 384,
           "trajectory": "I_sol",
           "upper": 98095.9341796875
          },
          {
           "lower": 21060.11669921875,
           "timepoint": 385,
           "trajectory": "I_sol",
           "upper": 95638.85400390625
          },
          {
           "lower": 20719.3734375,
           "timepoint": 386,
           "trajectory": "I_sol",
           "upper": 93252.3140625
          },
          {
           "lower": 20389.4470703125,
           "timepoint": 387,
           "trajectory": "I_sol",
           "upper": 90934.6427734375
          },
          {
           "lower": 20069.996044921874,
           "timepoint": 388,
           "trajectory": "I_sol",
           "upper": 88684.14946289062
          },
          {
           "lower": 19760.71318359375,
           "timepoint": 389,
           "trajectory": "I_sol",
           "upper": 86498.67158203125
          },
          {
           "lower": 19461.319580078125,
           "timepoint": 390,
           "trajectory": "I_sol",
           "upper": 84376.84741210938
          },
          {
           "lower": 19171.53017578125,
           "timepoint": 391,
           "trajectory": "I_sol",
           "upper": 82317.09287109374
          },
          {
           "lower": 18891.056298828124,
           "timepoint": 392,
           "trajectory": "I_sol",
           "upper": 80317.43881835937
          },
          {
           "lower": 18619.628271484376,
           "timepoint": 393,
           "trajectory": "I_sol",
           "upper": 78376.29458007812
          },
          {
           "lower": 18357.012890625,
           "timepoint": 394,
           "trajectory": "I_sol",
           "upper": 76492.182421875
          },
          {
           "lower": 18102.928125,
           "timepoint": 395,
           "trajectory": "I_sol",
           "upper": 74663.11875
          },
          {
           "lower": 17857.1375,
           "timepoint": 396,
           "trajectory": "I_sol",
           "upper": 72888.003125
          },
          {
           "lower": 17619.437890625,
           "timepoint": 397,
           "trajectory": "I_sol",
           "upper": 71165.085546875
          },
          {
           "lower": 17389.54794921875,
           "timepoint": 398,
           "trajectory": "I_sol",
           "upper": 69492.92275390624
          },
          {
           "lower": 17167.28896484375,
           "timepoint": 399,
           "trajectory": "I_sol",
           "upper": 67870.01767578124
          },
          {
           "lower": 16952.4712890625,
           "timepoint": 400,
           "trajectory": "I_sol",
           "upper": 66294.94667968749
          },
          {
           "lower": 16744.844287109376,
           "timepoint": 401,
           "trajectory": "I_sol",
           "upper": 64766.30512695312
          },
          {
           "lower": 16544.23017578125,
           "timepoint": 402,
           "trajectory": "I_sol",
           "upper": 63282.73662109375
          },
          {
           "lower": 16350.449951171875,
           "timepoint": 403,
           "trajectory": "I_sol",
           "upper": 61842.914306640625
          },
          {
           "lower": 16163.30517578125,
           "timepoint": 404,
           "trajectory": "I_sol",
           "upper": 60445.52880859375
          },
          {
           "lower": 15982.629296875,
           "timepoint": 405,
           "trajectory": "I_sol",
           "upper": 59089.331640624994
          },
          {
           "lower": 15808.248876953125,
           "timepoint": 406,
           "trajectory": "I_sol",
           "upper": 57773.06655273437
          },
          {
           "lower": 15639.99755859375,
           "timepoint": 407,
           "trajectory": "I_sol",
           "upper": 56495.55908203125
          },
          {
           "lower": 15477.723046875,
           "timepoint": 408,
           "trajectory": "I_sol",
           "upper": 55255.620703124994
          },
          {
           "lower": 15321.263330078125,
           "timepoint": 409,
           "trajectory": "I_sol",
           "upper": 54052.10678710938
          },
          {
           "lower": 15170.48046875,
           "timepoint": 410,
           "trajectory": "I_sol",
           "upper": 52883.99609375
          },
          {
           "lower": 15025.23623046875,
           "timepoint": 411,
           "trajectory": "I_sol",
           "upper": 51750.15634765625
          },
          {
           "lower": 14885.387451171875,
           "timepoint": 412,
           "trajectory": "I_sol",
           "upper": 50649.484619140625
          },
          {
           "lower": 14750.82587890625,
           "timepoint": 413,
           "trajectory": "I_sol",
           "upper": 49581.03154296875
          },
          {
           "lower": 14621.350439453125,
           "timepoint": 414,
           "trajectory": "I_sol",
           "upper": 48543.89467773437
          },
          {
           "lower": 14496.920458984376,
           "timepoint": 415,
           "trajectory": "I_sol",
           "upper": 47537.00239257812
          },
          {
           "lower": 14377.40302734375,
           "timepoint": 416,
           "trajectory": "I_sol",
           "upper": 46559.48173828125
          },
          {
           "lower": 14262.680126953124,
           "timepoint": 417,
           "trajectory": "I_sol",
           "upper": 45610.47905273437
          },
          {
           "lower": 14152.615087890625,
           "timepoint": 418,
           "trajectory": "I_sol",
           "upper": 44688.96206054687
          },
          {
           "lower": 14047.147314453125,
           "timepoint": 419,
           "trajectory": "I_sol",
           "upper": 43794.25405273437
          },
          {
           "lower": 13946.151904296876,
           "timepoint": 420,
           "trajectory": "I_sol",
           "upper": 42925.49360351562
          },
          {
           "lower": 13849.5533203125,
           "timepoint": 421,
           "trajectory": "I_sol",
           "upper": 42081.8958984375
          },
          {
           "lower": 13757.229736328125,
           "timepoint": 422,
           "trajectory": "I_sol",
           "upper": 41262.640380859375
          },
          {
           "lower": 13669.114990234375,
           "timepoint": 423,
           "trajectory": "I_sol",
           "upper": 40467.050048828125
          },
          {
           "lower": 13585.1326171875,
           "timepoint": 424,
           "trajectory": "I_sol",
           "upper": 39694.340039062496
          },
          {
           "lower": 13505.1888671875,
           "timepoint": 425,
           "trajectory": "I_sol",
           "upper": 38943.8541015625
          },
          {
           "lower": 13429.216064453125,
           "timepoint": 426,
           "trajectory": "I_sol",
           "upper": 38214.974365234375
          },
          {
           "lower": 13357.120361328125,
           "timepoint": 427,
           "trajectory": "I_sol",
           "upper": 37506.937255859375
          },
          {
           "lower": 13288.856884765624,
           "timepoint": 428,
           "trajectory": "I_sol",
           "upper": 36819.18901367187
          },
          {
           "lower": 13224.3439453125,
           "timepoint": 429,
           "trajectory": "I_sol",
           "upper": 36151.1443359375
          },
          {
           "lower": 13163.512109375,
           "timepoint": 430,
           "trajectory": "I_sol",
           "upper": 35502.011328125
          },
          {
           "lower": 13106.32666015625,
           "timepoint": 431,
           "trajectory": "I_sol",
           "upper": 34871.42919921875
          },
          {
           "lower": 13052.708203125,
           "timepoint": 432,
           "trajectory": "I_sol",
           "upper": 34258.768359375
          },
          {
           "lower": 13002.62294921875,
           "timepoint": 433,
           "trajectory": "I_sol",
           "upper": 33663.52744140625
          },
          {
           "lower": 12955.96376953125,
           "timepoint": 434,
           "trajectory": "I_sol",
           "upper": 33085.11240234375
          },
          {
           "lower": 12912.74033203125,
           "timepoint": 435,
           "trajectory": "I_sol",
           "upper": 32523.10927734375
          },
          {
           "lower": 12872.89052734375,
           "timepoint": 436,
           "trajectory": "I_sol",
           "upper": 31976.970800781248
          },
          {
           "lower": 12836.359033203125,
           "timepoint": 437,
           "trajectory": "I_sol",
           "upper": 31446.225927734373
          },
          {
           "lower": 12803.105322265625,
           "timepoint": 438,
           "trajectory": "I_sol",
           "upper": 30930.456201171874
          },
          {
           "lower": 12773.11328125,
           "timepoint": 439,
           "trajectory": "I_sol",
           "upper": 30429.1796875
          },
          {
           "lower": 12746.319921875,
           "timepoint": 440,
           "trajectory": "I_sol",
           "upper": 29942.008203125
          },
          {
           "lower": 12722.701171875,
           "timepoint": 441,
           "trajectory": "I_sol",
           "upper": 29468.501953125
          },
          {
           "lower": 12702.219677734374,
           "timepoint": 442,
           "trajectory": "I_sol",
           "upper": 29008.285205078126
          },
          {
           "lower": 12684.84970703125,
           "timepoint": 443,
           "trajectory": "I_sol",
           "upper": 28560.95693359375
          },
          {
           "lower": 12670.558984375,
           "timepoint": 444,
           "trajectory": "I_sol",
           "upper": 28126.167578124998
          },
          {
           "lower": 12659.340869140626,
           "timepoint": 445,
           "trajectory": "I_sol",
           "upper": 27703.509716796874
          },
          {
           "lower": 12651.153857421876,
           "timepoint": 446,
           "trajectory": "I_sol",
           "upper": 27292.686962890624
          },
          {
           "lower": 12645.98173828125,
           "timepoint": 447,
           "trajectory": "I_sol",
           "upper": 26893.32099609375
          },
          {
           "lower": 12643.8056640625,
           "timepoint": 448,
           "trajectory": "I_sol",
           "upper": 26505.0888671875
          },
          {
           "lower": 12644.5970703125,
           "timepoint": 449,
           "trajectory": "I_sol",
           "upper": 26127.746679687498
          },
          {
           "lower": 12648.361572265625,
           "timepoint": 450,
           "trajectory": "I_sol",
           "upper": 25760.891357421875
          },
          {
           "lower": 12655.0869140625,
           "timepoint": 451,
           "trajectory": "I_sol",
           "upper": 25404.3076171875
          },
          {
           "lower": 12664.734375,
           "timepoint": 452,
           "trajectory": "I_sol",
           "upper": 25057.6640625
          },
          {
           "lower": 12677.324560546875,
           "timepoint": 453,
           "trajectory": "I_sol",
           "upper": 24720.684228515624
          },
          {
           "lower": 12692.83056640625,
           "timepoint": 454,
           "trajectory": "I_sol",
           "upper": 24393.12060546875
          },
          {
           "lower": 12711.2615234375,
           "timepoint": 455,
           "trajectory": "I_sol",
           "upper": 24074.7072265625
          },
          {
           "lower": 12732.606982421876,
           "timepoint": 456,
           "trajectory": "I_sol",
           "upper": 23765.175244140624
          },
          {
           "lower": 12756.867529296875,
           "timepoint": 457,
           "trajectory": "I_sol",
           "upper": 23464.360009765624
          },
          {
           "lower": 12784.040576171876,
           "timepoint": 458,
           "trajectory": "I_sol",
           "upper": 23171.948681640624
          },
          {
           "lower": 12814.117431640625,
           "timepoint": 459,
           "trajectory": "I_sol",
           "upper": 22887.740966796875
          },
          {
           "lower": 12847.14912109375,
           "timepoint": 460,
           "trajectory": "I_sol",
           "upper": 22611.52861328125
          },
          {
           "lower": 12883.095263671876,
           "timepoint": 461,
           "trajectory": "I_sol",
           "upper": 22343.089306640624
          },
          {
           "lower": 12921.9603515625,
           "timepoint": 462,
           "trajectory": "I_sol",
           "upper": 22082.227148437498
          },
          {
           "lower": 12963.777734375,
           "timepoint": 463,
           "trajectory": "I_sol",
           "upper": 21828.749609374998
          },
          {
           "lower": 13008.543798828125,
           "timepoint": 464,
           "trajectory": "I_sol",
           "upper": 21582.447412109374
          },
          {
           "lower": 13056.283642578124,
           "timepoint": 465,
           "trajectory": "I_sol",
           "upper": 21343.164599609376
          },
          {
           "lower": 13106.998681640625,
           "timepoint": 466,
           "trajectory": "I_sol",
           "upper": 21110.734716796873
          },
          {
           "lower": 13160.695849609376,
           "timepoint": 467,
           "trajectory": "I_sol",
           "upper": 20884.902783203124
          },
          {
           "lower": 13217.45625,
           "timepoint": 468,
           "trajectory": "I_sol",
           "upper": 20665.61015625
          },
          {
           "lower": 13277.2376953125,
           "timepoint": 469,
           "trajectory": "I_sol",
           "upper": 20452.6177734375
          },
          {
           "lower": 13340.051953125,
           "timepoint": 470,
           "trajectory": "I_sol",
           "upper": 20245.850390625
          },
          {
           "lower": 13405.9583984375,
           "timepoint": 471,
           "trajectory": "I_sol",
           "upper": 20045.0298828125
          },
          {
           "lower": 13474.96552734375,
           "timepoint": 472,
           "trajectory": "I_sol",
           "upper": 19850.14189453125
          },
          {
           "lower": 13547.104150390625,
           "timepoint": 473,
           "trajectory": "I_sol",
           "upper": 19660.980810546876
          },
          {
           "lower": 13622.3841796875,
           "timepoint": 474,
           "trajectory": "I_sol",
           "upper": 19477.4361328125
          },
          {
           "lower": 13700.910888671875,
           "timepoint": 475,
           "trajectory": "I_sol",
           "upper": 19299.363525390625
          },
          {
           "lower": 13782.634326171876,
           "timepoint": 476,
           "trajectory": "I_sol",
           "upper": 19126.640087890624
          },
          {
           "lower": 13867.6078125,
           "timepoint": 477,
           "trajectory": "I_sol",
           "upper": 18959.15390625
          },
          {
           "lower": 13955.88251953125,
           "timepoint": 478,
           "trajectory": "I_sol",
           "upper": 18796.75224609375
          },
          {
           "lower": 14047.478564453126,
           "timepoint": 479,
           "trajectory": "I_sol",
           "upper": 18639.395458984374
          },
          {
           "lower": 14142.445361328126,
           "timepoint": 480,
           "trajectory": "I_sol",
           "upper": 18486.897412109374
          },
          {
           "lower": 14240.80888671875,
           "timepoint": 481,
           "trajectory": "I_sol",
           "upper": 18339.18916015625
          },
          {
           "lower": 14342.66962890625,
           "timepoint": 482,
           "trajectory": "I_sol",
           "upper": 18196.14091796875
          },
          {
           "lower": 14448.0169921875,
           "timepoint": 483,
           "trajectory": "I_sol",
           "upper": 18057.7095703125
          },
          {
           "lower": 14556.88720703125,
           "timepoint": 484,
           "trajectory": "I_sol",
           "upper": 17923.73974609375
          },
          {
           "lower": 14669.3646484375,
           "timepoint": 485,
           "trajectory": "I_sol",
           "upper": 17794.1822265625
          },
          {
           "lower": 14785.490478515625,
           "timepoint": 486,
           "trajectory": "I_sol",
           "upper": 17668.922607421875
          },
          {
           "lower": 14905.321435546875,
           "timepoint": 487,
           "trajectory": "I_sol",
           "upper": 17547.878759765626
          },
          {
           "lower": 15028.9259765625,
           "timepoint": 488,
           "trajectory": "I_sol",
           "upper": 17430.9802734375
          },
          {
           "lower": 15156.28046875,
           "timepoint": 489,
           "trajectory": "I_sol",
           "upper": 17318.1296875
          },
          {
           "lower": 15287.54560546875,
           "timepoint": 490,
           "trajectory": "I_sol",
           "upper": 17209.26884765625
          },
          {
           "lower": 15422.725048828124,
           "timepoint": 491,
           "trajectory": "I_sol",
           "upper": 17104.309130859376
          },
          {
           "lower": 15561.904541015625,
           "timepoint": 492,
           "trajectory": "I_sol",
           "upper": 17003.192138671875
          },
          {
           "lower": 15705.13369140625,
           "timepoint": 493,
           "trajectory": "I_sol",
           "upper": 16905.84091796875
          },
          {
           "lower": 15852.510595703125,
           "timepoint": 494,
           "trajectory": "I_sol",
           "upper": 16812.203271484374
          },
          {
           "lower": 16004.057177734376,
           "timepoint": 495,
           "trajectory": "I_sol",
           "upper": 16722.185986328124
          },
          {
           "lower": 16159.90595703125,
           "timepoint": 496,
           "trajectory": "I_sol",
           "upper": 16635.77568359375
          },
          {
           "lower": 16320.079833984375,
           "timepoint": 497,
           "trajectory": "I_sol",
           "upper": 16552.862548828125
          },
          {
           "lower": 16473.43095703125,
           "timepoint": 498,
           "trajectory": "I_sol",
           "upper": 16484.66865234375
          },
          {
           "lower": 16397.40625,
           "timepoint": 499,
           "trajectory": "I_sol",
           "upper": 16653.765625
          },
          {
           "lower": 16324.752880859374,
           "timepoint": 500,
           "trajectory": "I_sol",
           "upper": 16827.416064453126
          },
          {
           "lower": 16255.367822265625,
           "timepoint": 501,
           "trajectory": "I_sol",
           "upper": 17005.736669921876
          },
          {
           "lower": 16189.253515625,
           "timepoint": 502,
           "trajectory": "I_sol",
           "upper": 17188.808984375
          },
          {
           "lower": 16126.38505859375,
           "timepoint": 503,
           "trajectory": "I_sol",
           "upper": 17376.72236328125
          },
          {
           "lower": 16066.668115234375,
           "timepoint": 504,
           "trajectory": "I_sol",
           "upper": 17569.547705078126
          },
          {
           "lower": 16010.0951171875,
           "timepoint": 505,
           "trajectory": "I_sol",
           "upper": 17767.4048828125
          },
          {
           "lower": 15956.606689453125,
           "timepoint": 506,
           "trajectory": "I_sol",
           "upper": 17970.396240234375
          },
          {
           "lower": 15906.181494140625,
           "timepoint": 507,
           "trajectory": "I_sol",
           "upper": 18178.555810546874
          },
          {
           "lower": 15858.751953125,
           "timepoint": 508,
           "trajectory": "I_sol",
           "upper": 18392.076171875
          },
          {
           "lower": 15814.310302734375,
           "timepoint": 509,
           "trajectory": "I_sol",
           "upper": 18610.968017578125
          },
          {
           "lower": 15772.830517578124,
           "timepoint": 510,
           "trajectory": "I_sol",
           "upper": 18835.422412109376
          },
          {
           "lower": 15734.265234375,
           "timepoint": 511,
           "trajectory": "I_sol",
           "upper": 19065.488671875
          },
          {
           "lower": 15698.605517578126,
           "timepoint": 512,
           "trajectory": "I_sol",
           "upper": 19301.331005859374
          },
          {
           "lower": 15665.771484375,
           "timepoint": 513,
           "trajectory": "I_sol",
           "upper": 19543.013671875
          },
          {
           "lower": 15635.784326171875,
           "timepoint": 514,
           "trajectory": "I_sol",
           "upper": 19790.693212890626
          },
          {
           "lower": 15608.62744140625,
           "timepoint": 515,
           "trajectory": "I_sol",
           "upper": 20044.47607421875
          },
          {
           "lower": 15584.24892578125,
           "timepoint": 516,
           "trajectory": "I_sol",
           "upper": 20304.48349609375
          },
          {
           "lower": 15562.642919921875,
           "timepoint": 517,
           "trajectory": "I_sol",
           "upper": 20570.850244140624
          },
          {
           "lower": 15543.771533203126,
           "timepoint": 518,
           "trajectory": "I_sol",
           "upper": 20843.700146484374
          },
          {
           "lower": 15527.6359375,
           "timepoint": 519,
           "trajectory": "I_sol",
           "upper": 21123.19609375
          },
          {
           "lower": 15514.205224609375,
           "timepoint": 520,
           "trajectory": "I_sol",
           "upper": 21409.401220703126
          },
          {
           "lower": 15503.475537109374,
           "timepoint": 521,
           "trajectory": "I_sol",
           "upper": 21702.541064453126
          },
          {
           "lower": 15495.43623046875,
           "timepoint": 522,
           "trajectory": "I_sol",
           "upper": 22002.69462890625
          },
          {
           "lower": 15490.03203125,
           "timepoint": 523,
           "trajectory": "I_sol",
           "upper": 22310.0421875
          },
          {
           "lower": 15487.297509765625,
           "timepoint": 524,
           "trajectory": "I_sol",
           "upper": 22624.748388671876
          },
          {
           "lower": 15487.19912109375,
           "timepoint": 525,
           "trajectory": "I_sol",
           "upper": 22946.93173828125
          },
          {
           "lower": 15489.757861328126,
           "timepoint": 526,
           "trajectory": "I_sol",
           "upper": 23276.745068359374
          },
          {
           "lower": 15494.938720703125,
           "timepoint": 527,
           "trajectory": "I_sol",
           "upper": 23614.419677734375
          },
          {
           "lower": 15502.75107421875,
           "timepoint": 528,
           "trajectory": "I_sol",
           "upper": 23960.02822265625
          },
          {
           "lower": 15513.130419921876,
           "timepoint": 529,
           "trajectory": "I_sol",
           "upper": 24313.804150390624
          },
          {
           "lower": 15526.14619140625,
           "timepoint": 530,
           "trajectory": "I_sol",
           "upper": 24675.87138671875
          },
          {
           "lower": 15541.774951171876,
           "timepoint": 531,
           "trajectory": "I_sol",
           "upper": 25046.452587890624
          },
          {
           "lower": 15559.991943359375,
           "timepoint": 532,
           "trajectory": "I_sol",
           "upper": 25425.692626953125
          },
          {
           "lower": 15580.818701171875,
           "timepoint": 533,
           "trajectory": "I_sol",
           "upper": 25813.772119140624
          },
          {
           "lower": 15604.25244140625,
           "timepoint": 534,
           "trajectory": "I_sol",
           "upper": 26210.90185546875
          },
          {
           "lower": 15630.287109375,
           "timepoint": 535,
           "trajectory": "I_sol",
           "upper": 26617.248046875
          },
          {
           "lower": 15658.925390625,
           "timepoint": 536,
           "trajectory": "I_sol",
           "upper": 27033.019921875
          },
          {
           "lower": 15690.169677734375,
           "timepoint": 537,
           "trajectory": "I_sol",
           "upper": 27458.385986328125
          },
          {
           "lower": 15724.0205078125,
           "timepoint": 538,
           "trajectory": "I_sol",
           "upper": 27893.6201171875
          },
          {
           "lower": 15760.53486328125,
           "timepoint": 539,
           "trajectory": "I_sol",
           "upper": 28338.83818359375
          },
          {
           "lower": 15799.65146484375,
           "timepoint": 540,
           "trajectory": "I_sol",
           "upper": 28794.33486328125
          },
          {
           "lower": 15841.403564453125,
           "timepoint": 541,
           "trajectory": "I_sol",
           "upper": 29260.267333984375
          },
          {
           "lower": 15885.796337890624,
           "timepoint": 542,
           "trajectory": "I_sol",
           "upper": 29736.839404296876
          },
          {
           "lower": 15932.845849609375,
           "timepoint": 543,
           "trajectory": "I_sol",
           "upper": 30224.303564453123
          },
          {
           "lower": 15982.56748046875,
           "timepoint": 544,
           "trajectory": "I_sol",
           "upper": 30722.89931640625
          },
          {
           "lower": 16034.946728515624,
           "timepoint": 545,
           "trajectory": "I_sol",
           "upper": 31232.825732421876
          },
          {
           "lower": 16090.025244140625,
           "timepoint": 546,
           "trajectory": "I_sol",
           "upper": 31754.294091796874
          },
          {
           "lower": 16147.8087890625,
           "timepoint": 547,
           "trajectory": "I_sol",
           "upper": 32287.6248046875
          },
          {
           "lower": 16208.309326171875,
           "timepoint": 548,
           "trajectory": "I_sol",
           "upper": 32832.922119140625
          },
          {
           "lower": 16271.55048828125,
           "timepoint": 549,
           "trajectory": "I_sol",
           "upper": 33390.63505859375
          },
          {
           "lower": 16337.537841796875,
           "timepoint": 550,
           "trajectory": "I_sol",
           "upper": 33960.834228515625
          },
          {
           "lower": 16406.298095703125,
           "timepoint": 551,
           "trajectory": "I_sol",
           "upper": 34543.798583984375
          },
          {
           "lower": 16477.84794921875,
           "timepoint": 552,
           "trajectory": "I_sol",
           "upper": 35139.810253906246
          },
          {
           "lower": 16552.208349609376,
           "timepoint": 553,
           "trajectory": "I_sol",
           "upper": 35749.14418945312
          },
          {
           "lower": 16629.385498046875,
           "timepoint": 554,
           "trajectory": "I_sol",
           "upper": 36372.041259765625
          },
          {
           "lower": 16709.42421875,
           "timepoint": 555,
           "trajectory": "I_sol",
           "upper": 37008.75546875
          },
          {
           "lower": 16792.3302734375,
           "timepoint": 556,
           "trajectory": "I_sol",
           "upper": 37659.5720703125
          },
          {
           "lower": 16878.139306640624,
           "timepoint": 557,
           "trajectory": "I_sol",
           "upper": 38324.71127929688
          },
          {
           "lower": 16966.874658203124,
           "timepoint": 558,
           "trajectory": "I_sol",
           "upper": 39004.58139648438
          },
          {
           "lower": 17058.56005859375,
           "timepoint": 559,
           "trajectory": "I_sol",
           "upper": 39699.31689453125
          },
          {
           "lower": 17153.1986328125,
           "timepoint": 560,
           "trajectory": "I_sol",
           "upper": 40409.2583984375
          },
          {
           "lower": 17250.856982421876,
           "timepoint": 561,
           "trajectory": "I_sol",
           "upper": 41134.68696289062
          },
          {
           "lower": 17351.544677734375,
           "timepoint": 562,
           "trajectory": "I_sol",
           "upper": 41875.854736328125
          },
          {
           "lower": 17455.270751953125,
           "timepoint": 563,
           "trajectory": "I_sol",
           "upper": 42633.091552734375
          },
          {
           "lower": 17562.099560546874,
           "timepoint": 564,
           "trajectory": "I_sol",
           "upper": 43406.67094726562
          },
          {
           "lower": 17672.03525390625,
           "timepoint": 565,
           "trajectory": "I_sol",
           "upper": 44196.82998046875
          },
          {
           "lower": 17785.1375,
           "timepoint": 566,
           "trajectory": "I_sol",
           "upper": 45003.964062499996
          },
          {
           "lower": 17901.423779296874,
           "timepoint": 567,
           "trajectory": "I_sol",
           "upper": 45828.22954101562
          },
          {
           "lower": 18020.89658203125,
           "timepoint": 568,
           "trajectory": "I_sol",
           "upper": 46670.00771484375
          }
         ]
        },
        {
         "name": "traces",
         "transform": [
          {
           "expr": "isValid(datum.value)",
           "type": "filter"
          }
         ],
         "values": []
        },
        {
         "name": "points",
         "values": [
          {
           "sample_id": 0,
           "timepoint": 0,
           "trajectory": "I_data",
           "value": 0
          },
          {
           "sample_id": 0,
           "timepoint": 1,
           "trajectory": "I_data",
           "value": 0
          },
          {
           "sample_id": 0,
           "timepoint": 2,
           "trajectory": "I_data",
           "value": 0
          },
          {
           "sample_id": 0,
           "timepoint": 3,
           "trajectory": "I_data",
           "value": 0
          },
          {
           "sample_id": 0,
           "timepoint": 4,
           "trajectory": "I_data",
           "value": 0
          },
          {
           "sample_id": 0,
           "timepoint": 5,
           "trajectory": "I_data",
           "value": 0
          },
          {
           "sample_id": 0,
           "timepoint": 6,
           "trajectory": "I_data",
           "value": 0
          },
          {
           "sample_id": 0,
           "timepoint": 7,
           "trajectory": "I_data",
           "value": 0
          },
          {
           "sample_id": 0,
           "timepoint": 8,
           "trajectory": "I_data",
           "value": 0
          },
          {
           "sample_id": 0,
           "timepoint": 9,
           "trajectory": "I_data",
           "value": 0
          },
          {
           "sample_id": 0,
           "timepoint": 10,
           "trajectory": "I_data",
           "value": 0
          },
          {
           "sample_id": 0,
           "timepoint": 11,
           "trajectory": "I_data",
           "value": 0
          },
          {
           "sample_id": 0,
           "timepoint": 12,
           "trajectory": "I_data",
           "value": 0
          },
          {
           "sample_id": 0,
           "timepoint": 13,
           "trajectory": "I_data",
           "value": 0
          },
          {
           "sample_id": 0,
           "timepoint": 14,
           "trajectory": "I_data",
           "value": 0
          },
          {
           "sample_id": 0,
           "timepoint": 15,
           "trajectory": "I_data",
           "value": 0
          },
          {
           "sample_id": 0,
           "timepoint": 16,
           "trajectory": "I_data",
           "value": 0
          },
          {
           "sample_id": 0,
           "timepoint": 17,
           "trajectory": "I_data",
           "value": 0
          },
          {
           "sample_id": 0,
           "timepoint": 18,
           "trajectory": "I_data",
           "value": 0
          },
          {
           "sample_id": 0,
           "timepoint": 19,
           "trajectory": "I_data",
           "value": 0
          },
          {
           "sample_id": 0,
           "timepoint": 20,
           "trajectory": "I_data",
           "value": 0
          },
          {
           "sample_id": 0,
           "timepoint": 21,
           "trajectory": "I_data",
           "value": 0
          },
          {
           "sample_id": 0,
           "timepoint": 22,
           "trajectory": "I_data",
           "value": 0
          },
          {
           "sample_id": 0,
           "timepoint": 23,
           "trajectory": "I_data",
           "value": 0
          },
          {
           "sample_id": 0,
           "timepoint": 24,
           "trajectory": "I_data",
           "value": 0
          },
          {
           "sample_id": 0,
           "timepoint": 25,
           "trajectory": "I_data",
           "value": 0
          },
          {
           "sample_id": 0,
           "timepoint": 26,
           "trajectory": "I_data",
           "value": 0
          },
          {
           "sample_id": 0,
           "timepoint": 27,
           "trajectory": "I_data",
           "value": 0
          },
          {
           "sample_id": 0,
           "timepoint": 28,
           "trajectory": "I_data",
           "value": 0
          },
          {
           "sample_id": 0,
           "timepoint": 29,
           "trajectory": "I_data",
           "value": 0
          },
          {
           "sample_id": 0,
           "timepoint": 30,
           "trajectory": "I_data",
           "value": 0
          },
          {
           "sample_id": 0,
           "timepoint": 31,
           "trajectory": "I_data",
           "value": 0
          },
          {
           "sample_id": 0,
           "timepoint": 32,
           "trajectory": "I_data",
           "value": 0
          },
          {
           "sample_id": 0,
           "timepoint": 33,
           "trajectory": "I_data",
           "value": 0
          },
          {
           "sample_id": 0,
           "timepoint": 34,
           "trajectory": "I_data",
           "value": 0
          },
          {
           "sample_id": 0,
           "timepoint": 35,
           "trajectory": "I_data",
           "value": 0
          },
          {
           "sample_id": 0,
           "timepoint": 36,
           "trajectory": "I_data",
           "value": 0
          },
          {
           "sample_id": 0,
           "timepoint": 37,
           "trajectory": "I_data",
           "value": 0
          },
          {
           "sample_id": 0,
           "timepoint": 38,
           "trajectory": "I_data",
           "value": 0
          },
          {
           "sample_id": 0,
           "timepoint": 39,
           "trajectory": "I_data",
           "value": 0
          },
          {
           "sample_id": 0,
           "timepoint": 40,
           "trajectory": "I_data",
           "value": 0
          },
          {
           "sample_id": 0,
           "timepoint": 41,
           "trajectory": "I_data",
           "value": 1
          },
          {
           "sample_id": 0,
           "timepoint": 42,
           "trajectory": "I_data",
           "value": 10
          },
          {
           "sample_id": 0,
           "timepoint": 43,
           "trajectory": "I_data",
           "value": 21
          },
          {
           "sample_id": 0,
           "timepoint": 44,
           "trajectory": "I_data",
           "value": 24
          },
          {
           "sample_id": 0,
           "timepoint": 45,
           "trajectory": "I_data",
           "value": 76
          },
          {
           "sample_id": 0,
           "timepoint": 46,
           "trajectory": "I_data",
           "value": 104
          },
          {
           "sample_id": 0,
           "timepoint": 47,
           "trajectory": "I_data",
           "value": 128
          },
          {
           "sample_id": 0,
           "timepoint": 48,
           "trajectory": "I_data",
           "value": 131
          },
          {
           "sample_id": 0,
           "timepoint": 49,
           "trajectory": "I_data",
           "value": 192
          },
          {
           "sample_id": 0,
           "timepoint": 50,
           "trajectory": "I_data",
           "value": 220
          },
          {
           "sample_id": 0,
           "timepoint": 51,
           "trajectory": "I_data",
           "value": 274
          },
          {
           "sample_id": 0,
           "timepoint": 52,
           "trajectory": "I_data",
           "value": 394
          },
          {
           "sample_id": 0,
           "timepoint": 53,
           "trajectory": "I_data",
           "value": 481
          },
          {
           "sample_id": 0,
           "timepoint": 54,
           "trajectory": "I_data",
           "value": 745
          },
          {
           "sample_id": 0,
           "timepoint": 55,
           "trajectory": "I_data",
           "value": 1111
          },
          {
           "sample_id": 0,
           "timepoint": 56,
           "trajectory": "I_data",
           "value": 2128
          },
          {
           "sample_id": 0,
           "timepoint": 57,
           "trajectory": "I_data",
           "value": 3671
          },
          {
           "sample_id": 0,
           "timepoint": 58,
           "trajectory": "I_data",
           "value": 6578
          },
          {
           "sample_id": 0,
           "timepoint": 59,
           "trajectory": "I_data",
           "value": 9449
          },
          {
           "sample_id": 0,
           "timepoint": 60,
           "trajectory": "I_data",
           "value": 13761
          },
          {
           "sample_id": 0,
           "timepoint": 61,
           "trajectory": "I_data",
           "value": 18270
          },
          {
           "sample_id": 0,
           "timepoint": 62,
           "trajectory": "I_data",
           "value": 21478
          },
          {
           "sample_id": 0,
           "timepoint": 63,
           "trajectory": "I_data",
           "value": 23630
          },
          {
           "sample_id": 0,
           "timepoint": 64,
           "trajectory": "I_data",
           "value": 26987
          },
          {
           "sample_id": 0,
           "timepoint": 65,
           "trajectory": "I_data",
           "value": 29533
          },
          {
           "sample_id": 0,
           "timepoint": 66,
           "trajectory": "I_data",
           "value": 31623
          },
          {
           "sample_id": 0,
           "timepoint": 67,
           "trajectory": "I_data",
           "value": 33967
          },
          {
           "sample_id": 0,
           "timepoint": 68,
           "trajectory": "I_data",
           "value": 35822
          },
          {
           "sample_id": 0,
           "timepoint": 69,
           "trajectory": "I_data",
           "value": 38456
          },
          {
           "sample_id": 0,
           "timepoint": 70,
           "trajectory": "I_data",
           "value": 45676
          },
          {
           "sample_id": 0,
           "timepoint": 71,
           "trajectory": "I_data",
           "value": 48380
          },
          {
           "sample_id": 0,
           "timepoint": 72,
           "trajectory": "I_data",
           "value": 51807
          },
          {
           "sample_id": 0,
           "timepoint": 73,
           "trajectory": "I_data",
           "value": 55042
          },
          {
           "sample_id": 0,
           "timepoint": 74,
           "trajectory": "I_data",
           "value": 56847
          },
          {
           "sample_id": 0,
           "timepoint": 75,
           "trajectory": "I_data",
           "value": 52184
          },
          {
           "sample_id": 0,
           "timepoint": 76,
           "trajectory": "I_data",
           "value": 49194
          },
          {
           "sample_id": 0,
           "timepoint": 77,
           "trajectory": "I_data",
           "value": 48730
          },
          {
           "sample_id": 0,
           "timepoint": 78,
           "trajectory": "I_data",
           "value": 50551
          },
          {
           "sample_id": 0,
           "timepoint": 79,
           "trajectory": "I_data",
           "value": 51029
          },
          {
           "sample_id": 0,
           "timepoint": 80,
           "trajectory": "I_data",
           "value": 49701
          },
          {
           "sample_id": 0,
           "timepoint": 81,
           "trajectory": "I_data",
           "value": 50661
          },
          {
           "sample_id": 0,
           "timepoint": 82,
           "trajectory": "I_data",
           "value": 48303
          },
          {
           "sample_id": 0,
           "timepoint": 83,
           "trajectory": "I_data",
           "value": 43703
          },
          {
           "sample_id": 0,
           "timepoint": 84,
           "trajectory": "I_data",
           "value": 38888
          },
          {
           "sample_id": 0,
           "timepoint": 85,
           "trajectory": "I_data",
           "value": 38244
          },
          {
           "sample_id": 0,
           "timepoint": 86,
           "trajectory": "I_data",
           "value": 36857
          },
          {
           "sample_id": 0,
           "timepoint": 87,
           "trajectory": "I_data",
           "value": 35881
          },
          {
           "sample_id": 0,
           "timepoint": 88,
           "trajectory": "I_data",
           "value": 35054
          },
          {
           "sample_id": 0,
           "timepoint": 89,
           "trajectory": "I_data",
           "value": 34782
          },
          {
           "sample_id": 0,
           "timepoint": 90,
           "trajectory": "I_data",
           "value": 31526
          },
          {
           "sample_id": 0,
           "timepoint": 91,
           "trajectory": "I_data",
           "value": 28799
          },
          {
           "sample_id": 0,
           "timepoint": 92,
           "trajectory": "I_data",
           "value": 27419
          },
          {
           "sample_id": 0,
           "timepoint": 93,
           "trajectory": "I_data",
           "value": 27443
          },
          {
           "sample_id": 0,
           "timepoint": 94,
           "trajectory": "I_data",
           "value": 30499
          },
          {
           "sample_id": 0,
           "timepoint": 95,
           "trajectory": "I_data",
           "value": 31543
          },
          {
           "sample_id": 0,
           "timepoint": 96,
           "trajectory": "I_data",
           "value": 31597
          },
          {
           "sample_id": 0,
           "timepoint": 97,
           "trajectory": "I_data",
           "value": 29008
          },
          {
           "sample_id": 0,
           "timepoint": 98,
           "trajectory": "I_data",
           "value": 25476
          },
          {
           "sample_id": 0,
           "timepoint": 99,
           "trajectory": "I_data",
           "value": 20411
          },
          {
           "sample_id": 0,
           "timepoint": 100,
           "trajectory": "I_data",
           "value": 19224
          },
          {
           "sample_id": 0,
           "timepoint": 101,
           "trajectory": "I_data",
           "value": 19286
          },
          {
           "sample_id": 0,
           "timepoint": 102,
           "trajectory": "I_data",
           "value": 19889
          },
          {
           "sample_id": 0,
           "timepoint": 103,
           "trajectory": "I_data",
           "value": 19896
          },
          {
           "sample_id": 0,
           "timepoint": 104,
           "trajectory": "I_data",
           "value": 17625
          },
          {
           "sample_id": 0,
           "timepoint": 105,
           "trajectory": "I_data",
           "value": 15258
          },
          {
           "sample_id": 0,
           "timepoint": 106,
           "trajectory": "I_data",
           "value": 14094
          },
          {
           "sample_id": 0,
           "timepoint": 107,
           "trajectory": "I_data",
           "value": 13482
          },
          {
           "sample_id": 0,
           "timepoint": 108,
           "trajectory": "I_data",
           "value": 12974
          },
          {
           "sample_id": 0,
           "timepoint": 109,
           "trajectory": "I_data",
           "value": 13268
          },
          {
           "sample_id": 0,
           "timepoint": 110,
           "trajectory": "I_data",
           "value": 12969
          },
          {
           "sample_id": 0,
           "timepoint": 111,
           "trajectory": "I_data",
           "value": 11088
          },
          {
           "sample_id": 0,
           "timepoint": 112,
           "trajectory": "I_data",
           "value": 9707
          },
          {
           "sample_id": 0,
           "timepoint": 113,
           "trajectory": "I_data",
           "value": 9411
          },
          {
           "sample_id": 0,
           "timepoint": 114,
           "trajectory": "I_data",
           "value": 9259
          },
          {
           "sample_id": 0,
           "timepoint": 115,
           "trajectory": "I_data",
           "value": 9953
          },
          {
           "sample_id": 0,
           "timepoint": 116,
           "trajectory": "I_data",
           "value": 10646
          },
          {
           "sample_id": 0,
           "timepoint": 117,
           "trajectory": "I_data",
           "value": 10626
          },
          {
           "sample_id": 0,
           "timepoint": 118,
           "trajectory": "I_data",
           "value": 9673
          },
          {
           "sample_id": 0,
           "timepoint": 119,
           "trajectory": "I_data",
           "value": 8591
          },
          {
           "sample_id": 0,
           "timepoint": 120,
           "trajectory": "I_data",
           "value": 7939
          },
          {
           "sample_id": 0,
           "timepoint": 121,
           "trajectory": "I_data",
           "value": 7816
          },
          {
           "sample_id": 0,
           "timepoint": 122,
           "trajectory": "I_data",
           "value": 8389
          },
          {
           "sample_id": 0,
           "timepoint": 123,
           "trajectory": "I_data",
           "value": 8811
          },
          {
           "sample_id": 0,
           "timepoint": 124,
           "trajectory": "I_data",
           "value": 9336
          },
          {
           "sample_id": 0,
           "timepoint": 125,
           "trajectory": "I_data",
           "value": 8431
          },
          {
           "sample_id": 0,
           "timepoint": 126,
           "trajectory": "I_data",
           "value": 7464
          },
          {
           "sample_id": 0,
           "timepoint": 127,
           "trajectory": "I_data",
           "value": 6549
          },
          {
           "sample_id": 0,
           "timepoint": 128,
           "trajectory": "I_data",
           "value": 6404
          },
          {
           "sample_id": 0,
           "timepoint": 129,
           "trajectory": "I_data",
           "value": 6085
          },
          {
           "sample_id": 0,
           "timepoint": 130,
           "trajectory": "I_data",
           "value": 6333
          },
          {
           "sample_id": 0,
           "timepoint": 131,
           "trajectory": "I_data",
           "value": 6536
          },
          {
           "sample_id": 0,
           "timepoint": 132,
           "trajectory": "I_data",
           "value": 6449
          },
          {
           "sample_id": 0,
           "timepoint": 133,
           "trajectory": "I_data",
           "value": 5575
          },
          {
           "sample_id": 0,
           "timepoint": 134,
           "trajectory": "I_data",
           "value": 5415
          },
          {
           "sample_id": 0,
           "timepoint": 135,
           "trajectory": "I_data",
           "value": 5329
          },
          {
           "sample_id": 0,
           "timepoint": 136,
           "trajectory": "I_data",
           "value": 5248
          },
          {
           "sample_id": 0,
           "timepoint": 137,
           "trajectory": "I_data",
           "value": 5036
          },
          {
           "sample_id": 0,
           "timepoint": 138,
           "trajectory": "I_data",
           "value": 4983
          },
          {
           "sample_id": 0,
           "timepoint": 139,
           "trajectory": "I_data",
           "value": 4369
          },
          {
           "sample_id": 0,
           "timepoint": 140,
           "trajectory": "I_data",
           "value": 3707
          },
          {
           "sample_id": 0,
           "timepoint": 141,
           "trajectory": "I_data",
           "value": 3462
          },
          {
           "sample_id": 0,
           "timepoint": 142,
           "trajectory": "I_data",
           "value": 3421
          },
          {
           "sample_id": 0,
           "timepoint": 143,
           "trajectory": "I_data",
           "value": 3445
          },
          {
           "sample_id": 0,
           "timepoint": 144,
           "trajectory": "I_data",
           "value": 3540
          },
          {
           "sample_id": 0,
           "timepoint": 145,
           "trajectory": "I_data",
           "value": 3746
          },
          {
           "sample_id": 0,
           "timepoint": 146,
           "trajectory": "I_data",
           "value": 3445
          },
          {
           "sample_id": 0,
           "timepoint": 147,
           "trajectory": "I_data",
           "value": 3040
          },
          {
           "sample_id": 0,
           "timepoint": 148,
           "trajectory": "I_data",
           "value": 2979
          },
          {
           "sample_id": 0,
           "timepoint": 149,
           "trajectory": "I_data",
           "value": 3110
          },
          {
           "sample_id": 0,
           "timepoint": 150,
           "trajectory": "I_data",
           "value": 3138
          },
          {
           "sample_id": 0,
           "timepoint": 151,
           "trajectory": "I_data",
           "value": 3295
          },
          {
           "sample_id": 0,
           "timepoint": 152,
           "trajectory": "I_data",
           "value": 3526
          },
          {
           "sample_id": 0,
           "timepoint": 153,
           "trajectory": "I_data",
           "value": 3328
          },
          {
           "sample_id": 0,
           "timepoint": 154,
           "trajectory": "I_data",
           "value": 2977
          },
          {
           "sample_id": 0,
           "timepoint": 155,
           "trajectory": "I_data",
           "value": 3096
          },
          {
           "sample_id": 0,
           "timepoint": 156,
           "trajectory": "I_data",
           "value": 3259
          },
          {
           "sample_id": 0,
           "timepoint": 157,
           "trajectory": "I_data",
           "value": 3351
          },
          {
           "sample_id": 0,
           "timepoint": 158,
           "trajectory": "I_data",
           "value": 3461
          },
          {
           "sample_id": 0,
           "timepoint": 159,
           "trajectory": "I_data",
           "value": 3522
          },
          {
           "sample_id": 0,
           "timepoint": 160,
           "trajectory": "I_data",
           "value": 3211
          },
          {
           "sample_id": 0,
           "timepoint": 161,
           "trajectory": "I_data",
           "value": 2929
          },
          {
           "sample_id": 0,
           "timepoint": 162,
           "trajectory": "I_data",
           "value": 3102
          },
          {
           "sample_id": 0,
           "timepoint": 163,
           "trajectory": "I_data",
           "value": 3405
          },
          {
           "sample_id": 0,
           "timepoint": 164,
           "trajectory": "I_data",
           "value": 3648
          },
          {
           "sample_id": 0,
           "timepoint": 165,
           "trajectory": "I_data",
           "value": 3867
          },
          {
           "sample_id": 0,
           "timepoint": 166,
           "trajectory": "I_data",
           "value": 3842
          },
          {
           "sample_id": 0,
           "timepoint": 167,
           "trajectory": "I_data",
           "value": 3383
          },
          {
           "sample_id": 0,
           "timepoint": 168,
           "trajectory": "I_data",
           "value": 3037
          },
          {
           "sample_id": 0,
           "timepoint": 169,
           "trajectory": "I_data",
           "value": 3025
          },
          {
           "sample_id": 0,
           "timepoint": 170,
           "trajectory": "I_data",
           "value": 3223
          },
          {
           "sample_id": 0,
           "timepoint": 171,
           "trajectory": "I_data",
           "value": 3579
          },
          {
           "sample_id": 0,
           "timepoint": 172,
           "trajectory": "I_data",
           "value": 3878
          },
          {
           "sample_id": 0,
           "timepoint": 173,
           "trajectory": "I_data",
           "value": 3945
          },
          {
           "sample_id": 0,
           "timepoint": 174,
           "trajectory": "I_data",
           "value": 4053
          },
          {
           "sample_id": 0,
           "timepoint": 175,
           "trajectory": "I_data",
           "value": 3835
          },
          {
           "sample_id": 0,
           "timepoint": 176,
           "trajectory": "I_data",
           "value": 3847
          },
          {
           "sample_id": 0,
           "timepoint": 177,
           "trajectory": "I_data",
           "value": 3927
          },
          {
           "sample_id": 0,
           "timepoint": 178,
           "trajectory": "I_data",
           "value": 4121
          },
          {
           "sample_id": 0,
           "timepoint": 179,
           "trajectory": "I_data",
           "value": 3892
          },
          {
           "sample_id": 0,
           "timepoint": 180,
           "trajectory": "I_data",
           "value": 3864
          },
          {
           "sample_id": 0,
           "timepoint": 181,
           "trajectory": "I_data",
           "value": 3674
          },
          {
           "sample_id": 0,
           "timepoint": 182,
           "trajectory": "I_data",
           "value": 3403
          },
          {
           "sample_id": 0,
           "timepoint": 183,
           "trajectory": "I_data",
           "value": 3427
          },
          {
           "sample_id": 0,
           "timepoint": 184,
           "trajectory": "I_data",
           "value": 3533
          },
          {
           "sample_id": 0,
           "timepoint": 185,
           "trajectory": "I_data",
           "value": 3619
          },
          {
           "sample_id": 0,
           "timepoint": 186,
           "trajectory": "I_data",
           "value": 3547
          },
          {
           "sample_id": 0,
           "timepoint": 187,
           "trajectory": "I_data",
           "value": 3626
          },
          {
           "sample_id": 0,
           "timepoint": 188,
           "trajectory": "I_data",
           "value": 3278
          },
          {
           "sample_id": 0,
           "timepoint": 189,
           "trajectory": "I_data",
           "value": 3100
          },
          {
           "sample_id": 0,
           "timepoint": 190,
           "trajectory": "I_data",
           "value": 3137
          },
          {
           "sample_id": 0,
           "timepoint": 191,
           "trajectory": "I_data",
           "value": 3199
          },
          {
           "sample_id": 0,
           "timepoint": 192,
           "trajectory": "I_data",
           "value": 3319
          },
          {
           "sample_id": 0,
           "timepoint": 193,
           "trajectory": "I_data",
           "value": 3367
          },
          {
           "sample_id": 0,
           "timepoint": 194,
           "trajectory": "I_data",
           "value": 3385
          },
          {
           "sample_id": 0,
           "timepoint": 195,
           "trajectory": "I_data",
           "value": 3221
          },
          {
           "sample_id": 0,
           "timepoint": 196,
           "trajectory": "I_data",
           "value": 3015
          },
          {
           "sample_id": 0,
           "timepoint": 197,
           "trajectory": "I_data",
           "value": 3002
          },
          {
           "sample_id": 0,
           "timepoint": 198,
           "trajectory": "I_data",
           "value": 3027
          },
          {
           "sample_id": 0,
           "timepoint": 199,
           "trajectory": "I_data",
           "value": 3135
          },
          {
           "sample_id": 0,
           "timepoint": 200,
           "trajectory": "I_data",
           "value": 3076
          },
          {
           "sample_id": 0,
           "timepoint": 201,
           "trajectory": "I_data",
           "value": 3113
          },
          {
           "sample_id": 0,
           "timepoint": 202,
           "trajectory": "I_data",
           "value": 2953
          },
          {
           "sample_id": 0,
           "timepoint": 203,
           "trajectory": "I_data",
           "value": 2839
          },
          {
           "sample_id": 0,
           "timepoint": 204,
           "trajectory": "I_data",
           "value": 2783
          },
          {
           "sample_id": 0,
           "timepoint": 205,
           "trajectory": "I_data",
           "value": 2859
          },
          {
           "sample_id": 0,
           "timepoint": 206,
           "trajectory": "I_data",
           "value": 3030
          },
          {
           "sample_id": 0,
           "timepoint": 207,
           "trajectory": "I_data",
           "value": 3058
          },
          {
           "sample_id": 0,
           "timepoint": 208,
           "trajectory": "I_data",
           "value": 3067
          },
          {
           "sample_id": 0,
           "timepoint": 209,
           "trajectory": "I_data",
           "value": 2963
          },
          {
           "sample_id": 0,
           "timepoint": 210,
           "trajectory": "I_data",
           "value": 2830
          },
          {
           "sample_id": 0,
           "timepoint": 211,
           "trajectory": "I_data",
           "value": 2821
          },
          {
           "sample_id": 0,
           "timepoint": 212,
           "trajectory": "I_data",
           "value": 2948
          },
          {
           "sample_id": 0,
           "timepoint": 213,
           "trajectory": "I_data",
           "value": 3158
          },
          {
           "sample_id": 0,
           "timepoint": 214,
           "trajectory": "I_data",
           "value": 3162
          },
          {
           "sample_id": 0,
           "timepoint": 215,
           "trajectory": "I_data",
           "value": 3118
          },
          {
           "sample_id": 0,
           "timepoint": 216,
           "trajectory": "I_data",
           "value": 2990
          },
          {
           "sample_id": 0,
           "timepoint": 217,
           "trajectory": "I_data",
           "value": 2735
          },
          {
           "sample_id": 0,
           "timepoint": 218,
           "trajectory": "I_data",
           "value": 2850
          },
          {
           "sample_id": 0,
           "timepoint": 219,
           "trajectory": "I_data",
           "value": 2977
          },
          {
           "sample_id": 0,
           "timepoint": 220,
           "trajectory": "I_data",
           "value": 3198
          },
          {
           "sample_id": 0,
           "timepoint": 221,
           "trajectory": "I_data",
           "value": 3356
          },
          {
           "sample_id": 0,
           "timepoint": 222,
           "trajectory": "I_data",
           "value": 3559
          },
          {
           "sample_id": 0,
           "timepoint": 223,
           "trajectory": "I_data",
           "value": 3364
          },
          {
           "sample_id": 0,
           "timepoint": 224,
           "trajectory": "I_data",
           "value": 3343
          },
          {
           "sample_id": 0,
           "timepoint": 225,
           "trajectory": "I_data",
           "value": 3566
          },
          {
           "sample_id": 0,
           "timepoint": 226,
           "trajectory": "I_data",
           "value": 3723
          },
          {
           "sample_id": 0,
           "timepoint": 227,
           "trajectory": "I_data",
           "value": 3858
          },
          {
           "sample_id": 0,
           "timepoint": 228,
           "trajectory": "I_data",
           "value": 3991
          },
          {
           "sample_id": 0,
           "timepoint": 229,
           "trajectory": "I_data",
           "value": 3910
          },
          {
           "sample_id": 0,
           "timepoint": 230,
           "trajectory": "I_data",
           "value": 3495
          },
          {
           "sample_id": 0,
           "timepoint": 231,
           "trajectory": "I_data",
           "value": 3217
          },
          {
           "sample_id": 0,
           "timepoint": 232,
           "trajectory": "I_data",
           "value": 3059
          },
          {
           "sample_id": 0,
           "timepoint": 233,
           "trajectory": "I_data",
           "value": 3354
          },
          {
           "sample_id": 0,
           "timepoint": 234,
           "trajectory": "I_data",
           "value": 3713
          },
          {
           "sample_id": 0,
           "timepoint": 235,
           "trajectory": "I_data",
           "value": 4045
          },
          {
           "sample_id": 0,
           "timepoint": 236,
           "trajectory": "I_data",
           "value": 4115
          },
          {
           "sample_id": 0,
           "timepoint": 237,
           "trajectory": "I_data",
           "value": 4142
          },
          {
           "sample_id": 0,
           "timepoint": 238,
           "trajectory": "I_data",
           "value": 3795
          },
          {
           "sample_id": 0,
           "timepoint": 239,
           "trajectory": "I_data",
           "value": 3894
          },
          {
           "sample_id": 0,
           "timepoint": 240,
           "trajectory": "I_data",
           "value": 3891
          },
          {
           "sample_id": 0,
           "timepoint": 241,
           "trajectory": "I_data",
           "value": 4131
          },
          {
           "sample_id": 0,
           "timepoint": 242,
           "trajectory": "I_data",
           "value": 4294
          },
          {
           "sample_id": 0,
           "timepoint": 243,
           "trajectory": "I_data",
           "value": 4245
          },
          {
           "sample_id": 0,
           "timepoint": 244,
           "trajectory": "I_data",
           "value": 3808
          },
          {
           "sample_id": 0,
           "timepoint": 245,
           "trajectory": "I_data",
           "value": 3546
          },
          {
           "sample_id": 0,
           "timepoint": 246,
           "trajectory": "I_data",
           "value": 3745
          },
          {
           "sample_id": 0,
           "timepoint": 247,
           "trajectory": "I_data",
           "value": 3893
          },
          {
           "sample_id": 0,
           "timepoint": 248,
           "trajectory": "I_data",
           "value": 4431
          },
          {
           "sample_id": 0,
           "timepoint": 249,
           "trajectory": "I_data",
           "value": 4875
          },
          {
           "sample_id": 0,
           "timepoint": 250,
           "trajectory": "I_data",
           "value": 5275
          },
          {
           "sample_id": 0,
           "timepoint": 251,
           "trajectory": "I_data",
           "value": 5153
          },
          {
           "sample_id": 0,
           "timepoint": 252,
           "trajectory": "I_data",
           "value": 5137
          },
          {
           "sample_id": 0,
           "timepoint": 253,
           "trajectory": "I_data",
           "value": 5288
          },
          {
           "sample_id": 0,
           "timepoint": 254,
           "trajectory": "I_data",
           "value": 6015
          },
          {
           "sample_id": 0,
           "timepoint": 255,
           "trajectory": "I_data",
           "value": 6733
          },
          {
           "sample_id": 0,
           "timepoint": 256,
           "trajectory": "I_data",
           "value": 7140
          },
          {
           "sample_id": 0,
           "timepoint": 257,
           "trajectory": "I_data",
           "value": 7303
          },
          {
           "sample_id": 0,
           "timepoint": 258,
           "trajectory": "I_data",
           "value": 7128
          },
          {
           "sample_id": 0,
           "timepoint": 259,
           "trajectory": "I_data",
           "value": 6587
          },
          {
           "sample_id": 0,
           "timepoint": 260,
           "trajectory": "I_data",
           "value": 6978
          },
          {
           "sample_id": 0,
           "timepoint": 261,
           "trajectory": "I_data",
           "value": 7201
          },
          {
           "sample_id": 0,
           "timepoint": 262,
           "trajectory": "I_data",
           "value": 7557
          },
          {
           "sample_id": 0,
           "timepoint": 263,
           "trajectory": "I_data",
           "value": 7682
          },
          {
           "sample_id": 0,
           "timepoint": 264,
           "trajectory": "I_data",
           "value": 7718
          },
          {
           "sample_id": 0,
           "timepoint": 265,
           "trajectory": "I_data",
           "value": 6844
          },
          {
           "sample_id": 0,
           "timepoint": 266,
           "trajectory": "I_data",
           "value": 6333
          },
          {
           "sample_id": 0,
           "timepoint": 267,
           "trajectory": "I_data",
           "value": 6368
          },
          {
           "sample_id": 0,
           "timepoint": 268,
           "trajectory": "I_data",
           "value": 6841
          },
          {
           "sample_id": 0,
           "timepoint": 269,
           "trajectory": "I_data",
           "value": 7282
          },
          {
           "sample_id": 0,
           "timepoint": 270,
           "trajectory": "I_data",
           "value": 7590
          },
          {
           "sample_id": 0,
           "timepoint": 271,
           "trajectory": "I_data",
           "value": 7701
          },
          {
           "sample_id": 0,
           "timepoint": 272,
           "trajectory": "I_data",
           "value": 7401
          },
          {
           "sample_id": 0,
           "timepoint": 273,
           "trajectory": "I_data",
           "value": 7370
          },
          {
           "sample_id": 0,
           "timepoint": 274,
           "trajectory": "I_data",
           "value": 7567
          },
          {
           "sample_id": 0,
           "timepoint": 275,
           "trajectory": "I_data",
           "value": 7889
          },
          {
           "sample_id": 0,
           "timepoint": 276,
           "trajectory": "I_data",
           "value": 8804
          },
          {
           "sample_id": 0,
           "timepoint": 277,
           "trajectory": "I_data",
           "value": 9486
          },
          {
           "sample_id": 0,
           "timepoint": 278,
           "trajectory": "I_data",
           "value": 9315
          },
          {
           "sample_id": 0,
           "timepoint": 279,
           "trajectory": "I_data",
           "value": 9204
          },
          {
           "sample_id": 0,
           "timepoint": 280,
           "trajectory": "I_data",
           "value": 9081
          },
          {
           "sample_id": 0,
           "timepoint": 281,
           "trajectory": "I_data",
           "value": 9308
          },
          {
           "sample_id": 0,
           "timepoint": 282,
           "trajectory": "I_data",
           "value": 9716
          },
          {
           "sample_id": 0,
           "timepoint": 283,
           "trajectory": "I_data",
           "value": 10564
          },
          {
           "sample_id": 0,
           "timepoint": 284,
           "trajectory": "I_data",
           "value": 10905
          },
          {
           "sample_id": 0,
           "timepoint": 285,
           "trajectory": "I_data",
           "value": 11064
          },
          {
           "sample_id": 0,
           "timepoint": 286,
           "trajectory": "I_data",
           "value": 10782
          },
          {
           "sample_id": 0,
           "timepoint": 287,
           "trajectory": "I_data",
           "value": 10522
          },
          {
           "sample_id": 0,
           "timepoint": 288,
           "trajectory": "I_data",
           "value": 11346
          },
          {
           "sample_id": 0,
           "timepoint": 289,
           "trajectory": "I_data",
           "value": 12435
          },
          {
           "sample_id": 0,
           "timepoint": 290,
           "trajectory": "I_data",
           "value": 14465
          },
          {
           "sample_id": 0,
           "timepoint": 291,
           "trajectory": "I_data",
           "value": 15975
          },
          {
           "sample_id": 0,
           "timepoint": 292,
           "trajectory": "I_data",
           "value": 17353
          },
          {
           "sample_id": 0,
           "timepoint": 293,
           "trajectory": "I_data",
           "value": 18093
          },
          {
           "sample_id": 0,
           "timepoint": 294,
           "trajectory": "I_data",
           "value": 19135
          },
          {
           "sample_id": 0,
           "timepoint": 295,
           "trajectory": "I_data",
           "value": 20460
          },
          {
           "sample_id": 0,
           "timepoint": 296,
           "trajectory": "I_data",
           "value": 22547
          },
          {
           "sample_id": 0,
           "timepoint": 297,
           "trajectory": "I_data",
           "value": 24678
          },
          {
           "sample_id": 0,
           "timepoint": 298,
           "trajectory": "I_data",
           "value": 24913
          },
          {
           "sample_id": 0,
           "timepoint": 299,
           "trajectory": "I_data",
           "value": 24870
          },
          {
           "sample_id": 0,
           "timepoint": 300,
           "trajectory": "I_data",
           "value": 24257
          },
          {
           "sample_id": 0,
           "timepoint": 301,
           "trajectory": "I_data",
           "value": 23467
          },
          {
           "sample_id": 0,
           "timepoint": 302,
           "trajectory": "I_data",
           "value": 23714
          },
          {
           "sample_id": 0,
           "timepoint": 303,
           "trajectory": "I_data",
           "value": 25255
          },
          {
           "sample_id": 0,
           "timepoint": 304,
           "trajectory": "I_data",
           "value": 27357
          },
          {
           "sample_id": 0,
           "timepoint": 305,
           "trajectory": "I_data",
           "value": 28425
          },
          {
           "sample_id": 0,
           "timepoint": 306,
           "trajectory": "I_data",
           "value": 29986
          },
          {
           "sample_id": 0,
           "timepoint": 307,
           "trajectory": "I_data",
           "value": 29044
          },
          {
           "sample_id": 0,
           "timepoint": 308,
           "trajectory": "I_data",
           "value": 29344
          },
          {
           "sample_id": 0,
           "timepoint": 309,
           "trajectory": "I_data",
           "value": 30344
          },
          {
           "sample_id": 0,
           "timepoint": 310,
           "trajectory": "I_data",
           "value": 32942
          },
          {
           "sample_id": 0,
           "timepoint": 311,
           "trajectory": "I_data",
           "value": 33366
          },
          {
           "sample_id": 0,
           "timepoint": 312,
           "trajectory": "I_data",
           "value": 33962
          },
          {
           "sample_id": 0,
           "timepoint": 313,
           "trajectory": "I_data",
           "value": 35701
          },
          {
           "sample_id": 0,
           "timepoint": 314,
           "trajectory": "I_data",
           "value": 35476
          },
          {
           "sample_id": 0,
           "timepoint": 315,
           "trajectory": "I_data",
           "value": 35333
          },
          {
           "sample_id": 0,
           "timepoint": 316,
           "trajectory": "I_data",
           "value": 38620
          },
          {
           "sample_id": 0,
           "timepoint": 317,
           "trajectory": "I_data",
           "value": 44988
          },
          {
           "sample_id": 0,
           "timepoint": 318,
           "trajectory": "I_data",
           "value": 48270
          },
          {
           "sample_id": 0,
           "timepoint": 319,
           "trajectory": "I_data",
           "value": 51334
          },
          {
           "sample_id": 0,
           "timepoint": 320,
           "trajectory": "I_data",
           "value": 51652
          },
          {
           "sample_id": 0,
           "timepoint": 321,
           "trajectory": "I_data",
           "value": 49939
          },
          {
           "sample_id": 0,
           "timepoint": 322,
           "trajectory": "I_data",
           "value": 47351
          },
          {
           "sample_id": 0,
           "timepoint": 323,
           "trajectory": "I_data",
           "value": 47421
          },
          {
           "sample_id": 0,
           "timepoint": 324,
           "trajectory": "I_data",
           "value": 48394
          },
          {
           "sample_id": 0,
           "timepoint": 325,
           "trajectory": "I_data",
           "value": 50941
          },
          {
           "sample_id": 0,
           "timepoint": 326,
           "trajectory": "I_data",
           "value": 53093
          },
          {
           "sample_id": 0,
           "timepoint": 327,
           "trajectory": "I_data",
           "value": 53973
          },
          {
           "sample_id": 0,
           "timepoint": 328,
           "trajectory": "I_data",
           "value": 51813
          },
          {
           "sample_id": 0,
           "timepoint": 329,
           "trajectory": "I_data",
           "value": 50108
          },
          {
           "sample_id": 0,
           "timepoint": 330,
           "trajectory": "I_data",
           "value": 50831
          },
          {
           "sample_id": 0,
           "timepoint": 331,
           "trajectory": "I_data",
           "value": 52896
          },
          {
           "sample_id": 0,
           "timepoint": 332,
           "trajectory": "I_data",
           "value": 52825
          },
          {
           "sample_id": 0,
           "timepoint": 333,
           "trajectory": "I_data",
           "value": 53166
          },
          {
           "sample_id": 0,
           "timepoint": 334,
           "trajectory": "I_data",
           "value": 53552
          },
          {
           "sample_id": 0,
           "timepoint": 335,
           "trajectory": "I_data",
           "value": 51222
          },
          {
           "sample_id": 0,
           "timepoint": 336,
           "trajectory": "I_data",
           "value": 49102
          },
          {
           "sample_id": 0,
           "timepoint": 337,
           "trajectory": "I_data",
           "value": 52059
          },
          {
           "sample_id": 0,
           "timepoint": 338,
           "trajectory": "I_data",
           "value": 55802
          },
          {
           "sample_id": 0,
           "timepoint": 339,
           "trajectory": "I_data",
           "value": 57126
          },
          {
           "sample_id": 0,
           "timepoint": 340,
           "trajectory": "I_data",
           "value": 55741
          },
          {
           "sample_id": 0,
           "timepoint": 341,
           "trajectory": "I_data",
           "value": 53477
          },
          {
           "sample_id": 0,
           "timepoint": 342,
           "trajectory": "I_data",
           "value": 50607
          },
          {
           "sample_id": 0,
           "timepoint": 343,
           "trajectory": "I_data",
           "value": 50478
          },
          {
           "sample_id": 0,
           "timepoint": 344,
           "trajectory": "I_data",
           "value": 54737
          },
          {
           "sample_id": 0,
           "timepoint": 345,
           "trajectory": "I_data",
           "value": 63762
          },
          {
           "sample_id": 0,
           "timepoint": 346,
           "trajectory": "I_data",
           "value": 71340
          },
          {
           "sample_id": 0,
           "timepoint": 347,
           "trajectory": "I_data",
           "value": 73418
          },
          {
           "sample_id": 0,
           "timepoint": 348,
           "trajectory": "I_data",
           "value": 71741
          },
          {
           "sample_id": 0,
           "timepoint": 349,
           "trajectory": "I_data",
           "value": 69493
          },
          {
           "sample_id": 0,
           "timepoint": 350,
           "trajectory": "I_data",
           "value": 68486
          },
          {
           "sample_id": 0,
           "timepoint": 351,
           "trajectory": "I_data",
           "value": 70226
          },
          {
           "sample_id": 0,
           "timepoint": 352,
           "trajectory": "I_data",
           "value": 77552
          },
          {
           "sample_id": 0,
           "timepoint": 353,
           "trajectory": "I_data",
           "value": 84149
          },
          {
           "sample_id": 0,
           "timepoint": 354,
           "trajectory": "I_data",
           "value": 87316
          },
          {
           "sample_id": 0,
           "timepoint": 355,
           "trajectory": "I_data",
           "value": 85467
          },
          {
           "sample_id": 0,
           "timepoint": 356,
           "trajectory": "I_data",
           "value": 82676
          },
          {
           "sample_id": 0,
           "timepoint": 357,
           "trajectory": "I_data",
           "value": 77821
          },
          {
           "sample_id": 0,
           "timepoint": 358,
           "trajectory": "I_data",
           "value": 74165
          },
          {
           "sample_id": 0,
           "timepoint": 359,
           "trajectory": "I_data",
           "value": 77325
          },
          {
           "sample_id": 0,
           "timepoint": 360,
           "trajectory": "I_data",
           "value": 79091
          },
          {
           "sample_id": 0,
           "timepoint": 361,
           "trajectory": "I_data",
           "value": 77990
          },
          {
           "sample_id": 0,
           "timepoint": 362,
           "trajectory": "I_data",
           "value": 76692
          },
          {
           "sample_id": 0,
           "timepoint": 363,
           "trajectory": "I_data",
           "value": 75228
          },
          {
           "sample_id": 0,
           "timepoint": 364,
           "trajectory": "I_data",
           "value": 66873
          },
          {
           "sample_id": 0,
           "timepoint": 365,
           "trajectory": "I_data",
           "value": 64836
          },
          {
           "sample_id": 0,
           "timepoint": 366,
           "trajectory": "I_data",
           "value": 66819
          },
          {
           "sample_id": 0,
           "timepoint": 367,
           "trajectory": "I_data",
           "value": 67314
          },
          {
           "sample_id": 0,
           "timepoint": 368,
           "trajectory": "I_data",
           "value": 66971
          },
          {
           "sample_id": 0,
           "timepoint": 369,
           "trajectory": "I_data",
           "value": 67829
          },
          {
           "sample_id": 0,
           "timepoint": 370,
           "trajectory": "I_data",
           "value": 64961
          },
          {
           "sample_id": 0,
           "timepoint": 371,
           "trajectory": "I_data",
           "value": 59645
          },
          {
           "sample_id": 0,
           "timepoint": 372,
           "trajectory": "I_data",
           "value": 59526
          },
          {
           "sample_id": 0,
           "timepoint": 373,
           "trajectory": "I_data",
           "value": 60099
          },
          {
           "sample_id": 0,
           "timepoint": 374,
           "trajectory": "I_data",
           "value": 61018
          },
          {
           "sample_id": 0,
           "timepoint": 375,
           "trajectory": "I_data",
           "value": 61186
          },
          {
           "sample_id": 0,
           "timepoint": 376,
           "trajectory": "I_data",
           "value": 59755
          },
          {
           "sample_id": 0,
           "timepoint": 377,
           "trajectory": "I_data",
           "value": 53922
          },
          {
           "sample_id": 0,
           "timepoint": 378,
           "trajectory": "I_data",
           "value": 48122
          },
          {
           "sample_id": 0,
           "timepoint": 379,
           "trajectory": "I_data",
           "value": 42202
          },
          {
           "sample_id": 0,
           "timepoint": 380,
           "trajectory": "I_data",
           "value": 38889
          },
          {
           "sample_id": 0,
           "timepoint": 381,
           "trajectory": "I_data",
           "value": 41444
          },
          {
           "sample_id": 0,
           "timepoint": 382,
           "trajectory": "I_data",
           "value": 43414
          },
          {
           "sample_id": 0,
           "timepoint": 383,
           "trajectory": "I_data",
           "value": 45234
          },
          {
           "sample_id": 0,
           "timepoint": 384,
           "trajectory": "I_data",
           "value": 46391
          },
          {
           "sample_id": 0,
           "timepoint": 385,
           "trajectory": "I_data",
           "value": 45060
          },
          {
           "sample_id": 0,
           "timepoint": 386,
           "trajectory": "I_data",
           "value": 43601
          },
          {
           "sample_id": 0,
           "timepoint": 387,
           "trajectory": "I_data",
           "value": 42384
          },
          {
           "sample_id": 0,
           "timepoint": 388,
           "trajectory": "I_data",
           "value": 42170
          },
          {
           "sample_id": 0,
           "timepoint": 389,
           "trajectory": "I_data",
           "value": 42370
          },
          {
           "sample_id": 0,
           "timepoint": 390,
           "trajectory": "I_data",
           "value": 42343
          },
          {
           "sample_id": 0,
           "timepoint": 391,
           "trajectory": "I_data",
           "value": 39026
          },
          {
           "sample_id": 0,
           "timepoint": 392,
           "trajectory": "I_data",
           "value": 36249
          },
          {
           "sample_id": 0,
           "timepoint": 393,
           "trajectory": "I_data",
           "value": 37166
          },
          {
           "sample_id": 0,
           "timepoint": 394,
           "trajectory": "I_data",
           "value": 37414
          },
          {
           "sample_id": 0,
           "timepoint": 395,
           "trajectory": "I_data",
           "value": 39116
          },
          {
           "sample_id": 0,
           "timepoint": 396,
           "trajectory": "I_data",
           "value": 38642
          },
          {
           "sample_id": 0,
           "timepoint": 397,
           "trajectory": "I_data",
           "value": 39010
          },
          {
           "sample_id": 0,
           "timepoint": 398,
           "trajectory": "I_data",
           "value": 36268
          },
          {
           "sample_id": 0,
           "timepoint": 399,
           "trajectory": "I_data",
           "value": 33832
          },
          {
           "sample_id": 0,
           "timepoint": 400,
           "trajectory": "I_data",
           "value": 34486
          },
          {
           "sample_id": 0,
           "timepoint": 401,
           "trajectory": "I_data",
           "value": 36320
          },
          {
           "sample_id": 0,
           "timepoint": 402,
           "trajectory": "I_data",
           "value": 38074
          },
          {
           "sample_id": 0,
           "timepoint": 403,
           "trajectory": "I_data",
           "value": 38972
          },
          {
           "sample_id": 0,
           "timepoint": 404,
           "trajectory": "I_data",
           "value": 39268
          },
          {
           "sample_id": 0,
           "timepoint": 405,
           "trajectory": "I_data",
           "value": 36782
          },
          {
           "sample_id": 0,
           "timepoint": 406,
           "trajectory": "I_data",
           "value": 35283
          },
          {
           "sample_id": 0,
           "timepoint": 407,
           "trajectory": "I_data",
           "value": 34714
          },
          {
           "sample_id": 0,
           "timepoint": 408,
           "trajectory": "I_data",
           "value": 35048
          },
          {
           "sample_id": 0,
           "timepoint": 409,
           "trajectory": "I_data",
           "value": 36751
          },
          {
           "sample_id": 0,
           "timepoint": 410,
           "trajectory": "I_data",
           "value": 38003
          },
          {
           "sample_id": 0,
           "timepoint": 411,
           "trajectory": "I_data",
           "value": 36876
          },
          {
           "sample_id": 0,
           "timepoint": 412,
           "trajectory": "I_data",
           "value": 36229
          },
          {
           "sample_id": 0,
           "timepoint": 413,
           "trajectory": "I_data",
           "value": 34159
          },
          {
           "sample_id": 0,
           "timepoint": 414,
           "trajectory": "I_data",
           "value": 33186
          },
          {
           "sample_id": 0,
           "timepoint": 415,
           "trajectory": "I_data",
           "value": 29771
          },
          {
           "sample_id": 0,
           "timepoint": 416,
           "trajectory": "I_data",
           "value": 34585
          },
          {
           "sample_id": 0,
           "timepoint": 417,
           "trajectory": "I_data",
           "value": 34426
          },
          {
           "sample_id": 0,
           "timepoint": 418,
           "trajectory": "I_data",
           "value": 35456
          },
          {
           "sample_id": 0,
           "timepoint": 419,
           "trajectory": "I_data",
           "value": 35001
          },
          {
           "sample_id": 0,
           "timepoint": 420,
           "trajectory": "I_data",
           "value": 37347
          },
          {
           "sample_id": 0,
           "timepoint": 421,
           "trajectory": "I_data",
           "value": 32604
          },
          {
           "sample_id": 0,
           "timepoint": 422,
           "trajectory": "I_data",
           "value": 31023
          },
          {
           "sample_id": 0,
           "timepoint": 423,
           "trajectory": "I_data",
           "value": 30573
          },
          {
           "sample_id": 0,
           "timepoint": 424,
           "trajectory": "I_data",
           "value": 27599
          },
          {
           "sample_id": 0,
           "timepoint": 425,
           "trajectory": "I_data",
           "value": 23807
          },
          {
           "sample_id": 0,
           "timepoint": 426,
           "trajectory": "I_data",
           "value": 21602
          },
          {
           "sample_id": 0,
           "timepoint": 427,
           "trajectory": "I_data",
           "value": 44150
          },
          {
           "sample_id": 0,
           "timepoint": 428,
           "trajectory": "I_data",
           "value": 46028
          },
          {
           "sample_id": 0,
           "timepoint": 429,
           "trajectory": "I_data",
           "value": 50353
          },
          {
           "sample_id": 0,
           "timepoint": 430,
           "trajectory": "I_data",
           "value": 56257
          },
          {
           "sample_id": 0,
           "timepoint": 431,
           "trajectory": "I_data",
           "value": 61853
          },
          {
           "sample_id": 0,
           "timepoint": 432,
           "trajectory": "I_data",
           "value": 42970
          },
          {
           "sample_id": 0,
           "timepoint": 433,
           "trajectory": "I_data",
           "value": 40271
          },
          {
           "sample_id": 0,
           "timepoint": 434,
           "trajectory": "I_data",
           "value": 39993
          },
          {
           "sample_id": 0,
           "timepoint": 435,
           "trajectory": "I_data",
           "value": 40468
          },
          {
           "sample_id": 0,
           "timepoint": 436,
           "trajectory": "I_data",
           "value": 39603
          },
          {
           "sample_id": 0,
           "timepoint": 437,
           "trajectory": "I_data",
           "value": 38592
          },
          {
           "sample_id": 0,
           "timepoint": 438,
           "trajectory": "I_data",
           "value": 40376
          },
          {
           "sample_id": 0,
           "timepoint": 439,
           "trajectory": "I_data",
           "value": 39255
          },
          {
           "sample_id": 0,
           "timepoint": 440,
           "trajectory": "I_data",
           "value": 36129
          },
          {
           "sample_id": 0,
           "timepoint": 441,
           "trajectory": "I_data",
           "value": 34713
          },
          {
           "sample_id": 0,
           "timepoint": 442,
           "trajectory": "I_data",
           "value": 35713
          },
          {
           "sample_id": 0,
           "timepoint": 443,
           "trajectory": "I_data",
           "value": 36737
          },
          {
           "sample_id": 0,
           "timepoint": 444,
           "trajectory": "I_data",
           "value": 37584
          },
          {
           "sample_id": 0,
           "timepoint": 445,
           "trajectory": "I_data",
           "value": 38161
          },
          {
           "sample_id": 0,
           "timepoint": 446,
           "trajectory": "I_data",
           "value": 37169
          },
          {
           "sample_id": 0,
           "timepoint": 447,
           "trajectory": "I_data",
           "value": 33446
          },
          {
           "sample_id": 0,
           "timepoint": 448,
           "trajectory": "I_data",
           "value": 30828
          },
          {
           "sample_id": 0,
           "timepoint": 449,
           "trajectory": "I_data",
           "value": 30361
          },
          {
           "sample_id": 0,
           "timepoint": 450,
           "trajectory": "I_data",
           "value": 30096
          },
          {
           "sample_id": 0,
           "timepoint": 451,
           "trajectory": "I_data",
           "value": 31060
          },
          {
           "sample_id": 0,
           "timepoint": 452,
           "trajectory": "I_data",
           "value": 31686
          },
          {
           "sample_id": 0,
           "timepoint": 453,
           "trajectory": "I_data",
           "value": 30673
          },
          {
           "sample_id": 0,
           "timepoint": 454,
           "trajectory": "I_data",
           "value": 28211
          },
          {
           "sample_id": 0,
           "timepoint": 455,
           "trajectory": "I_data",
           "value": 26142
          },
          {
           "sample_id": 0,
           "timepoint": 456,
           "trajectory": "I_data",
           "value": 24777
          },
          {
           "sample_id": 0,
           "timepoint": 457,
           "trajectory": "I_data",
           "value": 23979
          },
          {
           "sample_id": 0,
           "timepoint": 458,
           "trajectory": "I_data",
           "value": 23085
          },
          {
           "sample_id": 0,
           "timepoint": 459,
           "trajectory": "I_data",
           "value": 22572
          },
          {
           "sample_id": 0,
           "timepoint": 460,
           "trajectory": "I_data",
           "value": 21283
          },
          {
           "sample_id": 0,
           "timepoint": 461,
           "trajectory": "I_data",
           "value": 19364
          },
          {
           "sample_id": 0,
           "timepoint": 462,
           "trajectory": "I_data",
           "value": 17556
          },
          {
           "sample_id": 0,
           "timepoint": 463,
           "trajectory": "I_data",
           "value": 17318
          },
          {
           "sample_id": 0,
           "timepoint": 464,
           "trajectory": "I_data",
           "value": 17063
          },
          {
           "sample_id": 0,
           "timepoint": 465,
           "trajectory": "I_data",
           "value": 17934
          },
          {
           "sample_id": 0,
           "timepoint": 466,
           "trajectory": "I_data",
           "value": 17444
          },
          {
           "sample_id": 0,
           "timepoint": 467,
           "trajectory": "I_data",
           "value": 16823
          },
          {
           "sample_id": 0,
           "timepoint": 468,
           "trajectory": "I_data",
           "value": 15133
          },
          {
           "sample_id": 0,
           "timepoint": 469,
           "trajectory": "I_data",
           "value": 13723
          },
          {
           "sample_id": 0,
           "timepoint": 470,
           "trajectory": "I_data",
           "value": 12504
          },
          {
           "sample_id": 0,
           "timepoint": 471,
           "trajectory": "I_data",
           "value": 12148
          },
          {
           "sample_id": 0,
           "timepoint": 472,
           "trajectory": "I_data",
           "value": 12802
          },
          {
           "sample_id": 0,
           "timepoint": 473,
           "trajectory": "I_data",
           "value": 12968
          },
          {
           "sample_id": 0,
           "timepoint": 474,
           "trajectory": "I_data",
           "value": 12220
          },
          {
           "sample_id": 0,
           "timepoint": 475,
           "trajectory": "I_data",
           "value": 11018
          },
          {
           "sample_id": 0,
           "timepoint": 476,
           "trajectory": "I_data",
           "value": 10567
          },
          {
           "sample_id": 0,
           "timepoint": 477,
           "trajectory": "I_data",
           "value": 9682
          },
          {
           "sample_id": 0,
           "timepoint": 478,
           "trajectory": "I_data",
           "value": 9399
          },
          {
           "sample_id": 0,
           "timepoint": 479,
           "trajectory": "I_data",
           "value": 9545
          },
          {
           "sample_id": 0,
           "timepoint": 480,
           "trajectory": "I_data",
           "value": 9953
          },
          {
           "sample_id": 0,
           "timepoint": 481,
           "trajectory": "I_data",
           "value": 9292
          },
          {
           "sample_id": 0,
           "timepoint": 482,
           "trajectory": "I_data",
           "value": 8630
          },
          {
           "sample_id": 0,
           "timepoint": 483,
           "trajectory": "I_data",
           "value": 7878
          },
          {
           "sample_id": 0,
           "timepoint": 484,
           "trajectory": "I_data",
           "value": 7726
          },
          {
           "sample_id": 0,
           "timepoint": 485,
           "trajectory": "I_data",
           "value": 7441
          },
          {
           "sample_id": 0,
           "timepoint": 486,
           "trajectory": "I_data",
           "value": 7428
          },
          {
           "sample_id": 0,
           "timepoint": 487,
           "trajectory": "I_data",
           "value": 6972
          },
          {
           "sample_id": 0,
           "timepoint": 488,
           "trajectory": "I_data",
           "value": 6593
          },
          {
           "sample_id": 0,
           "timepoint": 489,
           "trajectory": "I_data",
           "value": 5867
          },
          {
           "sample_id": 0,
           "timepoint": 490,
           "trajectory": "I_data",
           "value": 5189
          },
          {
           "sample_id": 0,
           "timepoint": 491,
           "trajectory": "I_data",
           "value": 4996
          },
          {
           "sample_id": 0,
           "timepoint": 492,
           "trajectory": "I_data",
           "value": 4860
          },
          {
           "sample_id": 0,
           "timepoint": 493,
           "trajectory": "I_data",
           "value": 4782
          },
          {
           "sample_id": 0,
           "timepoint": 494,
           "trajectory": "I_data",
           "value": 4684
          },
          {
           "sample_id": 0,
           "timepoint": 495,
           "trajectory": "I_data",
           "value": 4311
          },
          {
           "sample_id": 0,
           "timepoint": 496,
           "trajectory": "I_data",
           "value": 3627
          },
          {
           "sample_id": 0,
           "timepoint": 497,
           "trajectory": "I_data",
           "value": 3091
          },
          {
           "sample_id": 0,
           "timepoint": 498,
           "trajectory": "I_data",
           "value": 2712
          },
          {
           "sample_id": 0,
           "timepoint": 499,
           "trajectory": "I_data",
           "value": 2660
          },
          {
           "sample_id": 0,
           "timepoint": 500,
           "trajectory": "I_data",
           "value": 2975
          },
          {
           "sample_id": 0,
           "timepoint": 501,
           "trajectory": "I_data",
           "value": 3014
          },
          {
           "sample_id": 0,
           "timepoint": 502,
           "trajectory": "I_data",
           "value": 3131
          },
          {
           "sample_id": 0,
           "timepoint": 503,
           "trajectory": "I_data",
           "value": 3092
          },
          {
           "sample_id": 0,
           "timepoint": 504,
           "trajectory": "I_data",
           "value": 2758
          },
          {
           "sample_id": 0,
           "timepoint": 505,
           "trajectory": "I_data",
           "value": 2461
          },
          {
           "sample_id": 0,
           "timepoint": 506,
           "trajectory": "I_data",
           "value": 2639
          },
          {
           "sample_id": 0,
           "timepoint": 507,
           "trajectory": "I_data",
           "value": 2563
          },
          {
           "sample_id": 0,
           "timepoint": 508,
           "trajectory": "I_data",
           "value": 2464
          },
          {
           "sample_id": 0,
           "timepoint": 509,
           "trajectory": "I_data",
           "value": 2391
          },
          {
           "sample_id": 0,
           "timepoint": 510,
           "trajectory": "I_data",
           "value": 2174
          },
          {
           "sample_id": 0,
           "timepoint": 511,
           "trajectory": "I_data",
           "value": 1799
          },
          {
           "sample_id": 0,
           "timepoint": 512,
           "trajectory": "I_data",
           "value": 1792
          },
          {
           "sample_id": 0,
           "timepoint": 513,
           "trajectory": "I_data",
           "value": 1844
          },
          {
           "sample_id": 0,
           "timepoint": 514,
           "trajectory": "I_data",
           "value": 1871
          },
          {
           "sample_id": 0,
           "timepoint": 515,
           "trajectory": "I_data",
           "value": 1840
          },
          {
           "sample_id": 0,
           "timepoint": 516,
           "trajectory": "I_data",
           "value": 1817
          },
          {
           "sample_id": 0,
           "timepoint": 517,
           "trajectory": "I_data",
           "value": 1636
          },
          {
           "sample_id": 0,
           "timepoint": 518,
           "trajectory": "I_data",
           "value": 1481
          },
          {
           "sample_id": 0,
           "timepoint": 519,
           "trajectory": "I_data",
           "value": 1492
          },
          {
           "sample_id": 0,
           "timepoint": 520,
           "trajectory": "I_data",
           "value": 1552
          },
          {
           "sample_id": 0,
           "timepoint": 521,
           "trajectory": "I_data",
           "value": 1617
          },
          {
           "sample_id": 0,
           "timepoint": 522,
           "trajectory": "I_data",
           "value": 1743
          },
          {
           "sample_id": 0,
           "timepoint": 523,
           "trajectory": "I_data",
           "value": 1793
          },
          {
           "sample_id": 0,
           "timepoint": 524,
           "trajectory": "I_data",
           "value": 1646
          },
          {
           "sample_id": 0,
           "timepoint": 525,
           "trajectory": "I_data",
           "value": 1589
          },
          {
           "sample_id": 0,
           "timepoint": 526,
           "trajectory": "I_data",
           "value": 1632
          },
          {
           "sample_id": 0,
           "timepoint": 527,
           "trajectory": "I_data",
           "value": 1761
          },
          {
           "sample_id": 0,
           "timepoint": 528,
           "trajectory": "I_data",
           "value": 1737
          },
          {
           "sample_id": 0,
           "timepoint": 529,
           "trajectory": "I_data",
           "value": 1831
          },
          {
           "sample_id": 0,
           "timepoint": 530,
           "trajectory": "I_data",
           "value": 1904
          },
          {
           "sample_id": 0,
           "timepoint": 531,
           "trajectory": "I_data",
           "value": 1816
          },
          {
           "sample_id": 0,
           "timepoint": 532,
           "trajectory": "I_data",
           "value": 1671
          },
          {
           "sample_id": 0,
           "timepoint": 533,
           "trajectory": "I_data",
           "value": 2053
          },
          {
           "sample_id": 0,
           "timepoint": 534,
           "trajectory": "I_data",
           "value": 2449
          },
          {
           "sample_id": 0,
           "timepoint": 535,
           "trajectory": "I_data",
           "value": 2813
          },
          {
           "sample_id": 0,
           "timepoint": 536,
           "trajectory": "I_data",
           "value": 3304
          },
          {
           "sample_id": 0,
           "timepoint": 537,
           "trajectory": "I_data",
           "value": 3575
          },
          {
           "sample_id": 0,
           "timepoint": 538,
           "trajectory": "I_data",
           "value": 3547
          },
          {
           "sample_id": 0,
           "timepoint": 539,
           "trajectory": "I_data",
           "value": 3541
          },
          {
           "sample_id": 0,
           "timepoint": 540,
           "trajectory": "I_data",
           "value": 3756
          },
          {
           "sample_id": 0,
           "timepoint": 541,
           "trajectory": "I_data",
           "value": 3678
          },
          {
           "sample_id": 0,
           "timepoint": 542,
           "trajectory": "I_data",
           "value": 4414
          },
          {
           "sample_id": 0,
           "timepoint": 543,
           "trajectory": "I_data",
           "value": 4917
          },
          {
           "sample_id": 0,
           "timepoint": 544,
           "trajectory": "I_data",
           "value": 5090
          },
          {
           "sample_id": 0,
           "timepoint": 545,
           "trajectory": "I_data",
           "value": 5256
          },
          {
           "sample_id": 0,
           "timepoint": 546,
           "trajectory": "I_data",
           "value": 5730
          },
          {
           "sample_id": 0,
           "timepoint": 547,
           "trajectory": "I_data",
           "value": 5999
          },
          {
           "sample_id": 0,
           "timepoint": 548,
           "trajectory": "I_data",
           "value": 6586
          },
          {
           "sample_id": 0,
           "timepoint": 549,
           "trajectory": "I_data",
           "value": 7568
          },
          {
           "sample_id": 0,
           "timepoint": 550,
           "trajectory": "I_data",
           "value": 7323
          },
          {
           "sample_id": 0,
           "timepoint": 551,
           "trajectory": "I_data",
           "value": 8742
          },
          {
           "sample_id": 0,
           "timepoint": 552,
           "trajectory": "I_data",
           "value": 8721
          },
          {
           "sample_id": 0,
           "timepoint": 553,
           "trajectory": "I_data",
           "value": 8864
          },
          {
           "sample_id": 0,
           "timepoint": 554,
           "trajectory": "I_data",
           "value": 9581
          },
          {
           "sample_id": 0,
           "timepoint": 555,
           "trajectory": "I_data",
           "value": 11286
          },
          {
           "sample_id": 0,
           "timepoint": 556,
           "trajectory": "I_data",
           "value": 11748
          },
          {
           "sample_id": 0,
           "timepoint": 557,
           "trajectory": "I_data",
           "value": 12707
          },
          {
           "sample_id": 0,
           "timepoint": 558,
           "trajectory": "I_data",
           "value": 13226
          },
          {
           "sample_id": 0,
           "timepoint": 559,
           "trajectory": "I_data",
           "value": 13642
          },
          {
           "sample_id": 0,
           "timepoint": 560,
           "trajectory": "I_data",
           "value": 13990
          },
          {
           "sample_id": 0,
           "timepoint": 561,
           "trajectory": "I_data",
           "value": 14454
          },
          {
           "sample_id": 0,
           "timepoint": 562,
           "trajectory": "I_data",
           "value": 15621
          },
          {
           "sample_id": 0,
           "timepoint": 563,
           "trajectory": "I_data",
           "value": 17715
          },
          {
           "sample_id": 0,
           "timepoint": 564,
           "trajectory": "I_data",
           "value": 18270
          },
          {
           "sample_id": 0,
           "timepoint": 565,
           "trajectory": "I_data",
           "value": 17412
          },
          {
           "sample_id": 0,
           "timepoint": 566,
           "trajectory": "I_data",
           "value": 15849
          },
          {
           "sample_id": 0,
           "timepoint": 567,
           "trajectory": "I_data",
           "value": 18751
          },
          {
           "sample_id": 0,
           "timepoint": 568,
           "trajectory": "I_data",
           "value": 19141
          },
          {
           "sample_id": 0,
           "timepoint": 79,
           "trajectory": "H_data",
           "value": 0
          },
          {
           "sample_id": 0,
           "timepoint": 80,
           "trajectory": "H_data",
           "value": 0
          },
          {
           "sample_id": 0,
           "timepoint": 86,
           "trajectory": "H_data",
           "value": 0
          },
          {
           "sample_id": 0,
           "timepoint": 87,
           "trajectory": "H_data",
           "value": 1
          },
          {
           "sample_id": 0,
           "timepoint": 93,
           "trajectory": "H_data",
           "value": 0
          },
          {
           "sample_id": 0,
           "timepoint": 94,
           "trajectory": "H_data",
           "value": 0
          },
          {
           "sample_id": 0,
           "timepoint": 95,
           "trajectory": "H_data",
           "value": 1
          },
          {
           "sample_id": 0,
           "timepoint": 96,
           "trajectory": "H_data",
           "value": 0
          },
          {
           "sample_id": 0,
           "timepoint": 97,
           "trajectory": "H_data",
           "value": 0
          },
          {
           "sample_id": 0,
           "timepoint": 98,
           "trajectory": "H_data",
           "value": 0
          },
          {
           "sample_id": 0,
           "timepoint": 99,
           "trajectory": "H_data",
           "value": 0
          },
          {
           "sample_id": 0,
           "timepoint": 100,
           "trajectory": "H_data",
           "value": 0
          },
          {
           "sample_id": 0,
           "timepoint": 101,
           "trajectory": "H_data",
           "value": 0
          },
          {
           "sample_id": 0,
           "timepoint": 102,
           "trajectory": "H_data",
           "value": 0
          },
          {
           "sample_id": 0,
           "timepoint": 103,
           "trajectory": "H_data",
           "value": 0
          },
          {
           "sample_id": 0,
           "timepoint": 104,
           "trajectory": "H_data",
           "value": 0
          },
          {
           "sample_id": 0,
           "timepoint": 105,
           "trajectory": "H_data",
           "value": 1
          },
          {
           "sample_id": 0,
           "timepoint": 106,
           "trajectory": "H_data",
           "value": 0
          },
          {
           "sample_id": 0,
           "timepoint": 107,
           "trajectory": "H_data",
           "value": 0
          },
          {
           "sample_id": 0,
           "timepoint": 108,
           "trajectory": "H_data",
           "value": 0
          },
          {
           "sample_id": 0,
           "timepoint": 109,
           "trajectory": "H_data",
           "value": 1
          },
          {
           "sample_id": 0,
           "timepoint": 110,
           "trajectory": "H_data",
           "value": 0
          },
          {
           "sample_id": 0,
           "timepoint": 111,
           "trajectory": "H_data",
           "value": 0
          },
          {
           "sample_id": 0,
           "timepoint": 113,
           "trajectory": "H_data",
           "value": 0
          },
          {
           "sample_id": 0,
           "timepoint": 114,
           "trajectory": "H_data",
           "value": 0
          },
          {
           "sample_id": 0,
           "timepoint": 115,
           "trajectory": "H_data",
           "value": 0
          },
          {
           "sample_id": 0,
           "timepoint": 116,
           "trajectory": "H_data",
           "value": 1
          },
          {
           "sample_id": 0,
           "timepoint": 117,
           "trajectory": "H_data",
           "value": 1
          },
          {
           "sample_id": 0,
           "timepoint": 118,
           "trajectory": "H_data",
           "value": 1
          },
          {
           "sample_id": 0,
           "timepoint": 119,
           "trajectory": "H_data",
           "value": 1
          },
          {
           "sample_id": 0,
           "timepoint": 120,
           "trajectory": "H_data",
           "value": 0
          },
          {
           "sample_id": 0,
           "timepoint": 121,
           "trajectory": "H_data",
           "value": 1
          },
          {
           "sample_id": 0,
           "timepoint": 122,
           "trajectory": "H_data",
           "value": 0
          },
          {
           "sample_id": 0,
           "timepoint": 123,
           "trajectory": "H_data",
           "value": 0
          },
          {
           "sample_id": 0,
           "timepoint": 124,
           "trajectory": "H_data",
           "value": 1
          },
          {
           "sample_id": 0,
           "timepoint": 125,
           "trajectory": "H_data",
           "value": 0
          },
          {
           "sample_id": 0,
           "timepoint": 126,
           "trajectory": "H_data",
           "value": 0
          },
          {
           "sample_id": 0,
           "timepoint": 127,
           "trajectory": "H_data",
           "value": 0
          },
          {
           "sample_id": 0,
           "timepoint": 128,
           "trajectory": "H_data",
           "value": 0
          },
          {
           "sample_id": 0,
           "timepoint": 129,
           "trajectory": "H_data",
           "value": 0
          },
          {
           "sample_id": 0,
           "timepoint": 130,
           "trajectory": "H_data",
           "value": 0
          },
          {
           "sample_id": 0,
           "timepoint": 131,
           "trajectory": "H_data",
           "value": 0
          },
          {
           "sample_id": 0,
           "timepoint": 132,
           "trajectory": "H_data",
           "value": 2
          },
          {
           "sample_id": 0,
           "timepoint": 133,
           "trajectory": "H_data",
           "value": 0
          },
          {
           "sample_id": 0,
           "timepoint": 134,
           "trajectory": "H_data",
           "value": 1
          },
          {
           "sample_id": 0,
           "timepoint": 135,
           "trajectory": "H_data",
           "value": 0
          },
          {
           "sample_id": 0,
           "timepoint": 136,
           "trajectory": "H_data",
           "value": 0
          },
          {
           "sample_id": 0,
           "timepoint": 137,
           "trajectory": "H_data",
           "value": 0
          },
          {
           "sample_id": 0,
           "timepoint": 138,
           "trajectory": "H_data",
           "value": 0
          },
          {
           "sample_id": 0,
           "timepoint": 139,
           "trajectory": "H_data",
           "value": 0
          },
          {
           "sample_id": 0,
           "timepoint": 140,
           "trajectory": "H_data",
           "value": 1
          },
          {
           "sample_id": 0,
           "timepoint": 141,
           "trajectory": "H_data",
           "value": 0
          },
          {
           "sample_id": 0,
           "timepoint": 142,
           "trajectory": "H_data",
           "value": 0
          },
          {
           "sample_id": 0,
           "timepoint": 143,
           "trajectory": "H_data",
           "value": 0
          },
          {
           "sample_id": 0,
           "timepoint": 144,
           "trajectory": "H_data",
           "value": 0
          },
          {
           "sample_id": 0,
           "timepoint": 145,
           "trajectory": "H_data",
           "value": 0
          },
          {
           "sample_id": 0,
           "timepoint": 146,
           "trajectory": "H_data",
           "value": 0
          },
          {
           "sample_id": 0,
           "timepoint": 147,
           "trajectory": "H_data",
           "value": 0
          },
          {
           "sample_id": 0,
           "timepoint": 148,
           "trajectory": "H_data",
           "value": 0
          },
          {
           "sample_id": 0,
           "timepoint": 149,
           "trajectory": "H_data",
           "value": 0
          },
          {
           "sample_id": 0,
           "timepoint": 150,
           "trajectory": "H_data",
           "value": 0
          },
          {
           "sample_id": 0,
           "timepoint": 151,
           "trajectory": "H_data",
           "value": 0
          },
          {
           "sample_id": 0,
           "timepoint": 152,
           "trajectory": "H_data",
           "value": 0
          },
          {
           "sample_id": 0,
           "timepoint": 153,
           "trajectory": "H_data",
           "value": 0
          },
          {
           "sample_id": 0,
           "timepoint": 154,
           "trajectory": "H_data",
           "value": 0
          },
          {
           "sample_id": 0,
           "timepoint": 155,
           "trajectory": "H_data",
           "value": 0
          },
          {
           "sample_id": 0,
           "timepoint": 156,
           "trajectory": "H_data",
           "value": 0
          },
          {
           "sample_id": 0,
           "timepoint": 157,
           "trajectory": "H_data",
           "value": 0
          },
          {
           "sample_id": 0,
           "timepoint": 158,
           "trajectory": "H_data",
           "value": 0
          },
          {
           "sample_id": 0,
           "timepoint": 159,
           "trajectory": "H_data",
           "value": 0
          },
          {
           "sample_id": 0,
           "timepoint": 160,
           "trajectory": "H_data",
           "value": 0
          },
          {
           "sample_id": 0,
           "timepoint": 161,
           "trajectory": "H_data",
           "value": 0
          },
          {
           "sample_id": 0,
           "timepoint": 162,
           "trajectory": "H_data",
           "value": 0
          },
          {
           "sample_id": 0,
           "timepoint": 163,
           "trajectory": "H_data",
           "value": 0
          },
          {
           "sample_id": 0,
           "timepoint": 164,
           "trajectory": "H_data",
           "value": 0
          },
          {
           "sample_id": 0,
           "timepoint": 165,
           "trajectory": "H_data",
           "value": 0
          },
          {
           "sample_id": 0,
           "timepoint": 166,
           "trajectory": "H_data",
           "value": 0
          },
          {
           "sample_id": 0,
           "timepoint": 167,
           "trajectory": "H_data",
           "value": 0
          },
          {
           "sample_id": 0,
           "timepoint": 168,
           "trajectory": "H_data",
           "value": 0
          },
          {
           "sample_id": 0,
           "timepoint": 169,
           "trajectory": "H_data",
           "value": 0
          },
          {
           "sample_id": 0,
           "timepoint": 170,
           "trajectory": "H_data",
           "value": 0
          },
          {
           "sample_id": 0,
           "timepoint": 171,
           "trajectory": "H_data",
           "value": 0
          },
          {
           "sample_id": 0,
           "timepoint": 172,
           "trajectory": "H_data",
           "value": 0
          },
          {
           "sample_id": 0,
           "timepoint": 173,
           "trajectory": "H_data",
           "value": 0
          },
          {
           "sample_id": 0,
           "timepoint": 174,
           "trajectory": "H_data",
           "value": 54
          },
          {
           "sample_id": 0,
           "timepoint": 175,
           "trajectory": "H_data",
           "value": 68
          },
          {
           "sample_id": 0,
           "timepoint": 176,
           "trajectory": "H_data",
           "value": 68
          },
          {
           "sample_id": 0,
           "timepoint": 177,
           "trajectory": "H_data",
           "value": 55
          },
          {
           "sample_id": 0,
           "timepoint": 178,
           "trajectory": "H_data",
           "value": 25
          },
          {
           "sample_id": 0,
           "timepoint": 179,
           "trajectory": "H_data",
           "value": 45
          },
          {
           "sample_id": 0,
           "timepoint": 180,
           "trajectory": "H_data",
           "value": 113
          },
          {
           "sample_id": 0,
           "timepoint": 181,
           "trajectory": "H_data",
           "value": 145
          },
          {
           "sample_id": 0,
           "timepoint": 182,
           "trajectory": "H_data",
           "value": 60
          },
          {
           "sample_id": 0,
           "timepoint": 183,
           "trajectory": "H_data",
           "value": 62
          },
          {
           "sample_id": 0,
           "timepoint": 184,
           "trajectory": "H_data",
           "value": 78
          },
          {
           "sample_id": 0,
           "timepoint": 185,
           "trajectory": "H_data",
           "value": 72
          },
          {
           "sample_id": 0,
           "timepoint": 186,
           "trajectory": "H_data",
           "value": 73
          },
          {
           "sample_id": 0,
           "timepoint": 187,
           "trajectory": "H_data",
           "value": 68
          },
          {
           "sample_id": 0,
           "timepoint": 188,
           "trajectory": "H_data",
           "value": 78
          },
          {
           "sample_id": 0,
           "timepoint": 189,
           "trajectory": "H_data",
           "value": 89
          },
          {
           "sample_id": 0,
           "timepoint": 190,
           "trajectory": "H_data",
           "value": 73
          },
          {
           "sample_id": 0,
           "timepoint": 191,
           "trajectory": "H_data",
           "value": 74
          },
          {
           "sample_id": 0,
           "timepoint": 192,
           "trajectory": "H_data",
           "value": 69
          },
          {
           "sample_id": 0,
           "timepoint": 193,
           "trajectory": "H_data",
           "value": 88
          },
          {
           "sample_id": 0,
           "timepoint": 194,
           "trajectory": "H_data",
           "value": 76
          },
          {
           "sample_id": 0,
           "timepoint": 195,
           "trajectory": "H_data",
           "value": 73
          },
          {
           "sample_id": 0,
           "timepoint": 196,
           "trajectory": "H_data",
           "value": 86
          },
          {
           "sample_id": 0,
           "timepoint": 197,
           "trajectory": "H_data",
           "value": 79
          },
          {
           "sample_id": 0,
           "timepoint": 198,
           "trajectory": "H_data",
           "value": 68
          },
          {
           "sample_id": 0,
           "timepoint": 199,
           "trajectory": "H_data",
           "value": 56
          },
          {
           "sample_id": 0,
           "timepoint": 200,
           "trajectory": "H_data",
           "value": 66
          },
          {
           "sample_id": 0,
           "timepoint": 201,
           "trajectory": "H_data",
           "value": 90
          },
          {
           "sample_id": 0,
           "timepoint": 202,
           "trajectory": "H_data",
           "value": 72
          },
          {
           "sample_id": 0,
           "timepoint": 203,
           "trajectory": "H_data",
           "value": 79
          },
          {
           "sample_id": 0,
           "timepoint": 204,
           "trajectory": "H_data",
           "value": 75
          },
          {
           "sample_id": 0,
           "timepoint": 205,
           "trajectory": "H_data",
           "value": 75
          },
          {
           "sample_id": 0,
           "timepoint": 206,
           "trajectory": "H_data",
           "value": 63
          },
          {
           "sample_id": 0,
           "timepoint": 207,
           "trajectory": "H_data",
           "value": 55
          },
          {
           "sample_id": 0,
           "timepoint": 208,
           "trajectory": "H_data",
           "value": 89
          },
          {
           "sample_id": 0,
           "timepoint": 209,
           "trajectory": "H_data",
           "value": 72
          },
          {
           "sample_id": 0,
           "timepoint": 210,
           "trajectory": "H_data",
           "value": 74
          },
          {
           "sample_id": 0,
           "timepoint": 211,
           "trajectory": "H_data",
           "value": 69
          },
          {
           "sample_id": 0,
           "timepoint": 212,
           "trajectory": "H_data",
           "value": 455
          },
          {
           "sample_id": 0,
           "timepoint": 213,
           "trajectory": "H_data",
           "value": 73
          },
          {
           "sample_id": 0,
           "timepoint": 214,
           "trajectory": "H_data",
           "value": 62
          },
          {
           "sample_id": 0,
           "timepoint": 215,
           "trajectory": "H_data",
           "value": 78
          },
          {
           "sample_id": 0,
           "timepoint": 216,
           "trajectory": "H_data",
           "value": 80
          },
          {
           "sample_id": 0,
           "timepoint": 217,
           "trajectory": "H_data",
           "value": 84
          },
          {
           "sample_id": 0,
           "timepoint": 218,
           "trajectory": "H_data",
           "value": 81
          },
          {
           "sample_id": 0,
           "timepoint": 219,
           "trajectory": "H_data",
           "value": 66
          },
          {
           "sample_id": 0,
           "timepoint": 220,
           "trajectory": "H_data",
           "value": 56
          },
          {
           "sample_id": 0,
           "timepoint": 221,
           "trajectory": "H_data",
           "value": 62
          },
          {
           "sample_id": 0,
           "timepoint": 222,
           "trajectory": "H_data",
           "value": 90
          },
          {
           "sample_id": 0,
           "timepoint": 223,
           "trajectory": "H_data",
           "value": 60
          },
          {
           "sample_id": 0,
           "timepoint": 224,
           "trajectory": "H_data",
           "value": 73
          },
          {
           "sample_id": 0,
           "timepoint": 225,
           "trajectory": "H_data",
           "value": 83
          },
          {
           "sample_id": 0,
           "timepoint": 226,
           "trajectory": "H_data",
           "value": 74
          },
          {
           "sample_id": 0,
           "timepoint": 227,
           "trajectory": "H_data",
           "value": 67
          },
          {
           "sample_id": 0,
           "timepoint": 228,
           "trajectory": "H_data",
           "value": 78
          },
          {
           "sample_id": 0,
           "timepoint": 229,
           "trajectory": "H_data",
           "value": 83
          },
          {
           "sample_id": 0,
           "timepoint": 230,
           "trajectory": "H_data",
           "value": 103
          },
          {
           "sample_id": 0,
           "timepoint": 231,
           "trajectory": "H_data",
           "value": 94
          },
          {
           "sample_id": 0,
           "timepoint": 232,
           "trajectory": "H_data",
           "value": 82
          },
          {
           "sample_id": 0,
           "timepoint": 233,
           "trajectory": "H_data",
           "value": 89
          },
          {
           "sample_id": 0,
           "timepoint": 234,
           "trajectory": "H_data",
           "value": 75
          },
          {
           "sample_id": 0,
           "timepoint": 235,
           "trajectory": "H_data",
           "value": 85
          },
          {
           "sample_id": 0,
           "timepoint": 236,
           "trajectory": "H_data",
           "value": 78
          },
          {
           "sample_id": 0,
           "timepoint": 237,
           "trajectory": "H_data",
           "value": 92
          },
          {
           "sample_id": 0,
           "timepoint": 238,
           "trajectory": "H_data",
           "value": 94
          },
          {
           "sample_id": 0,
           "timepoint": 239,
           "trajectory": "H_data",
           "value": 84
          },
          {
           "sample_id": 0,
           "timepoint": 240,
           "trajectory": "H_data",
           "value": 107
          },
          {
           "sample_id": 0,
           "timepoint": 241,
           "trajectory": "H_data",
           "value": 67
          },
          {
           "sample_id": 0,
           "timepoint": 242,
           "trajectory": "H_data",
           "value": 78
          },
          {
           "sample_id": 0,
           "timepoint": 243,
           "trajectory": "H_data",
           "value": 91
          },
          {
           "sample_id": 0,
           "timepoint": 244,
           "trajectory": "H_data",
           "value": 103
          },
          {
           "sample_id": 0,
           "timepoint": 245,
           "trajectory": "H_data",
           "value": 118
          },
          {
           "sample_id": 0,
           "timepoint": 246,
           "trajectory": "H_data",
           "value": 118
          },
          {
           "sample_id": 0,
           "timepoint": 247,
           "trajectory": "H_data",
           "value": 109
          },
          {
           "sample_id": 0,
           "timepoint": 248,
           "trajectory": "H_data",
           "value": 91
          },
          {
           "sample_id": 0,
           "timepoint": 249,
           "trajectory": "H_data",
           "value": 227
          },
          {
           "sample_id": 0,
           "timepoint": 250,
           "trajectory": "H_data",
           "value": 115
          },
          {
           "sample_id": 0,
           "timepoint": 251,
           "trajectory": "H_data",
           "value": 106
          },
          {
           "sample_id": 0,
           "timepoint": 252,
           "trajectory": "H_data",
           "value": 132
          },
          {
           "sample_id": 0,
           "timepoint": 253,
           "trajectory": "H_data",
           "value": 98
          },
          {
           "sample_id": 0,
           "timepoint": 254,
           "trajectory": "H_data",
           "value": 104
          },
          {
           "sample_id": 0,
           "timepoint": 255,
           "trajectory": "H_data",
           "value": 85
          },
          {
           "sample_id": 0,
           "timepoint": 256,
           "trajectory": "H_data",
           "value": 113
          },
          {
           "sample_id": 0,
           "timepoint": 257,
           "trajectory": "H_data",
           "value": 138
          },
          {
           "sample_id": 0,
           "timepoint": 258,
           "trajectory": "H_data",
           "value": 115
          },
          {
           "sample_id": 0,
           "timepoint": 259,
           "trajectory": "H_data",
           "value": 133
          },
          {
           "sample_id": 0,
           "timepoint": 260,
           "trajectory": "H_data",
           "value": 157
          },
          {
           "sample_id": 0,
           "timepoint": 261,
           "trajectory": "H_data",
           "value": 150
          },
          {
           "sample_id": 0,
           "timepoint": 262,
           "trajectory": "H_data",
           "value": 149
          },
          {
           "sample_id": 0,
           "timepoint": 263,
           "trajectory": "H_data",
           "value": 141
          },
          {
           "sample_id": 0,
           "timepoint": 264,
           "trajectory": "H_data",
           "value": 156
          },
          {
           "sample_id": 0,
           "timepoint": 265,
           "trajectory": "H_data",
           "value": 161
          },
          {
           "sample_id": 0,
           "timepoint": 266,
           "trajectory": "H_data",
           "value": 150
          },
          {
           "sample_id": 0,
           "timepoint": 267,
           "trajectory": "H_data",
           "value": 146
          },
          {
           "sample_id": 0,
           "timepoint": 268,
           "trajectory": "H_data",
           "value": 163
          },
          {
           "sample_id": 0,
           "timepoint": 269,
           "trajectory": "H_data",
           "value": 109
          },
          {
           "sample_id": 0,
           "timepoint": 270,
           "trajectory": "H_data",
           "value": 114
          },
          {
           "sample_id": 0,
           "timepoint": 271,
           "trajectory": "H_data",
           "value": 141
          },
          {
           "sample_id": 0,
           "timepoint": 272,
           "trajectory": "H_data",
           "value": 176
          },
          {
           "sample_id": 0,
           "timepoint": 273,
           "trajectory": "H_data",
           "value": 157
          },
          {
           "sample_id": 0,
           "timepoint": 274,
           "trajectory": "H_data",
           "value": 165
          },
          {
           "sample_id": 0,
           "timepoint": 275,
           "trajectory": "H_data",
           "value": 146
          },
          {
           "sample_id": 0,
           "timepoint": 276,
           "trajectory": "H_data",
           "value": 137
          },
          {
           "sample_id": 0,
           "timepoint": 277,
           "trajectory": "H_data",
           "value": 114
          },
          {
           "sample_id": 0,
           "timepoint": 278,
           "trajectory": "H_data",
           "value": 157
          },
          {
           "sample_id": 0,
           "timepoint": 279,
           "trajectory": "H_data",
           "value": 167
          },
          {
           "sample_id": 0,
           "timepoint": 280,
           "trajectory": "H_data",
           "value": 151
          },
          {
           "sample_id": 0,
           "timepoint": 281,
           "trajectory": "H_data",
           "value": 163
          },
          {
           "sample_id": 0,
           "timepoint": 282,
           "trajectory": "H_data",
           "value": 140
          },
          {
           "sample_id": 0,
           "timepoint": 283,
           "trajectory": "H_data",
           "value": 126
          },
          {
           "sample_id": 0,
           "timepoint": 284,
           "trajectory": "H_data",
           "value": 144
          },
          {
           "sample_id": 0,
           "timepoint": 285,
           "trajectory": "H_data",
           "value": 201
          },
          {
           "sample_id": 0,
           "timepoint": 286,
           "trajectory": "H_data",
           "value": 260
          },
          {
           "sample_id": 0,
           "timepoint": 287,
           "trajectory": "H_data",
           "value": 288
          },
          {
           "sample_id": 0,
           "timepoint": 288,
           "trajectory": "H_data",
           "value": 315
          },
          {
           "sample_id": 0,
           "timepoint": 289,
           "trajectory": "H_data",
           "value": 298
          },
          {
           "sample_id": 0,
           "timepoint": 290,
           "trajectory": "H_data",
           "value": 293
          },
          {
           "sample_id": 0,
           "timepoint": 291,
           "trajectory": "H_data",
           "value": 206
          },
          {
           "sample_id": 0,
           "timepoint": 292,
           "trajectory": "H_data",
           "value": 363
          },
          {
           "sample_id": 0,
           "timepoint": 293,
           "trajectory": "H_data",
           "value": 425
          },
          {
           "sample_id": 0,
           "timepoint": 294,
           "trajectory": "H_data",
           "value": 452
          },
          {
           "sample_id": 0,
           "timepoint": 295,
           "trajectory": "H_data",
           "value": 450
          },
          {
           "sample_id": 0,
           "timepoint": 296,
           "trajectory": "H_data",
           "value": 403
          },
          {
           "sample_id": 0,
           "timepoint": 297,
           "trajectory": "H_data",
           "value": 386
          },
          {
           "sample_id": 0,
           "timepoint": 298,
           "trajectory": "H_data",
           "value": 316
          },
          {
           "sample_id": 0,
           "timepoint": 299,
           "trajectory": "H_data",
           "value": 380
          },
          {
           "sample_id": 0,
           "timepoint": 300,
           "trajectory": "H_data",
           "value": 452
          },
          {
           "sample_id": 0,
           "timepoint": 301,
           "trajectory": "H_data",
           "value": 471
          },
          {
           "sample_id": 0,
           "timepoint": 302,
           "trajectory": "H_data",
           "value": 500
          },
          {
           "sample_id": 0,
           "timepoint": 303,
           "trajectory": "H_data",
           "value": 534
          },
          {
           "sample_id": 0,
           "timepoint": 304,
           "trajectory": "H_data",
           "value": 462
          },
          {
           "sample_id": 0,
           "timepoint": 305,
           "trajectory": "H_data",
           "value": 476
          },
          {
           "sample_id": 0,
           "timepoint": 306,
           "trajectory": "H_data",
           "value": 580
          },
          {
           "sample_id": 0,
           "timepoint": 307,
           "trajectory": "H_data",
           "value": 578
          },
          {
           "sample_id": 0,
           "timepoint": 308,
           "trajectory": "H_data",
           "value": 567
          },
          {
           "sample_id": 0,
           "timepoint": 309,
           "trajectory": "H_data",
           "value": 540
          },
          {
           "sample_id": 0,
           "timepoint": 310,
           "trajectory": "H_data",
           "value": 625
          },
          {
           "sample_id": 0,
           "timepoint": 311,
           "trajectory": "H_data",
           "value": 569
          },
          {
           "sample_id": 0,
           "timepoint": 312,
           "trajectory": "H_data",
           "value": 521
          },
          {
           "sample_id": 0,
           "timepoint": 313,
           "trajectory": "H_data",
           "value": 609
          },
          {
           "sample_id": 0,
           "timepoint": 314,
           "trajectory": "H_data",
           "value": 734
          },
          {
           "sample_id": 0,
           "timepoint": 315,
           "trajectory": "H_data",
           "value": 677
          },
          {
           "sample_id": 0,
           "timepoint": 316,
           "trajectory": "H_data",
           "value": 751
          },
          {
           "sample_id": 0,
           "timepoint": 317,
           "trajectory": "H_data",
           "value": 747
          },
          {
           "sample_id": 0,
           "timepoint": 318,
           "trajectory": "H_data",
           "value": 678
          },
          {
           "sample_id": 0,
           "timepoint": 319,
           "trajectory": "H_data",
           "value": 607
          },
          {
           "sample_id": 0,
           "timepoint": 320,
           "trajectory": "H_data",
           "value": 759
          },
          {
           "sample_id": 0,
           "timepoint": 321,
           "trajectory": "H_data",
           "value": 888
          },
          {
           "sample_id": 0,
           "timepoint": 322,
           "trajectory": "H_data",
           "value": 891
          },
          {
           "sample_id": 0,
           "timepoint": 323,
           "trajectory": "H_data",
           "value": 865
          },
          {
           "sample_id": 0,
           "timepoint": 324,
           "trajectory": "H_data",
           "value": 896
          },
          {
           "sample_id": 0,
           "timepoint": 325,
           "trajectory": "H_data",
           "value": 796
          },
          {
           "sample_id": 0,
           "timepoint": 326,
           "trajectory": "H_data",
           "value": 766
          },
          {
           "sample_id": 0,
           "timepoint": 327,
           "trajectory": "H_data",
           "value": 876
          },
          {
           "sample_id": 0,
           "timepoint": 328,
           "trajectory": "H_data",
           "value": 940
          },
          {
           "sample_id": 0,
           "timepoint": 329,
           "trajectory": "H_data",
           "value": 830
          },
          {
           "sample_id": 0,
           "timepoint": 330,
           "trajectory": "H_data",
           "value": 885
          },
          {
           "sample_id": 0,
           "timepoint": 331,
           "trajectory": "H_data",
           "value": 1001
          },
          {
           "sample_id": 0,
           "timepoint": 332,
           "trajectory": "H_data",
           "value": 857
          },
          {
           "sample_id": 0,
           "timepoint": 333,
           "trajectory": "H_data",
           "value": 821
          },
          {
           "sample_id": 0,
           "timepoint": 334,
           "trajectory": "H_data",
           "value": 1053
          },
          {
           "sample_id": 0,
           "timepoint": 335,
           "trajectory": "H_data",
           "value": 1056
          },
          {
           "sample_id": 0,
           "timepoint": 336,
           "trajectory": "H_data",
           "value": 1000
          },
          {
           "sample_id": 0,
           "timepoint": 337,
           "trajectory": "H_data",
           "value": 1007
          },
          {
           "sample_id": 0,
           "timepoint": 338,
           "trajectory": "H_data",
           "value": 941
          },
          {
           "sample_id": 0,
           "timepoint": 339,
           "trajectory": "H_data",
           "value": 1011
          },
          {
           "sample_id": 0,
           "timepoint": 340,
           "trajectory": "H_data",
           "value": 863
          },
          {
           "sample_id": 0,
           "timepoint": 341,
           "trajectory": "H_data",
           "value": 1083
          },
          {
           "sample_id": 0,
           "timepoint": 342,
           "trajectory": "H_data",
           "value": 1133
          },
          {
           "sample_id": 0,
           "timepoint": 343,
           "trajectory": "H_data",
           "value": 1100
          },
          {
           "sample_id": 0,
           "timepoint": 344,
           "trajectory": "H_data",
           "value": 993
          },
          {
           "sample_id": 0,
           "timepoint": 345,
           "trajectory": "H_data",
           "value": 998
          },
          {
           "sample_id": 0,
           "timepoint": 346,
           "trajectory": "H_data",
           "value": 1041
          },
          {
           "sample_id": 0,
           "timepoint": 347,
           "trajectory": "H_data",
           "value": 930
          },
          {
           "sample_id": 0,
           "timepoint": 348,
           "trajectory": "H_data",
           "value": 1192
          },
          {
           "sample_id": 0,
           "timepoint": 349,
           "trajectory": "H_data",
           "value": 1174
          },
          {
           "sample_id": 0,
           "timepoint": 350,
           "trajectory": "H_data",
           "value": 1185
          },
          {
           "sample_id": 0,
           "timepoint": 351,
           "trajectory": "H_data",
           "value": 1168
          },
          {
           "sample_id": 0,
           "timepoint": 352,
           "trajectory": "H_data",
           "value": 1135
          },
          {
           "sample_id": 0,
           "timepoint": 353,
           "trajectory": "H_data",
           "value": 1026
          },
          {
           "sample_id": 0,
           "timepoint": 354,
           "trajectory": "H_data",
           "value": 950
          },
          {
           "sample_id": 0,
           "timepoint": 355,
           "trajectory": "H_data",
           "value": 1081
          },
          {
           "sample_id": 0,
           "timepoint": 356,
           "trajectory": "H_data",
           "value": 1176
          },
          {
           "sample_id": 0,
           "timepoint": 357,
           "trajectory": "H_data",
           "value": 1175
          },
          {
           "sample_id": 0,
           "timepoint": 358,
           "trajectory": "H_data",
           "value": 1190
          },
          {
           "sample_id": 0,
           "timepoint": 359,
           "trajectory": "H_data",
           "value": 1116
          },
          {
           "sample_id": 0,
           "timepoint": 360,
           "trajectory": "H_data",
           "value": 1010
          },
          {
           "sample_id": 0,
           "timepoint": 361,
           "trajectory": "H_data",
           "value": 858
          },
          {
           "sample_id": 0,
           "timepoint": 362,
           "trajectory": "H_data",
           "value": 1056
          },
          {
           "sample_id": 0,
           "timepoint": 363,
           "trajectory": "H_data",
           "value": 945
          },
          {
           "sample_id": 0,
           "timepoint": 364,
           "trajectory": "H_data",
           "value": 984
          },
          {
           "sample_id": 0,
           "timepoint": 365,
           "trajectory": "H_data",
           "value": 1004
          },
          {
           "sample_id": 0,
           "timepoint": 366,
           "trajectory": "H_data",
           "value": 982
          },
          {
           "sample_id": 0,
           "timepoint": 367,
           "trajectory": "H_data",
           "value": 800
          },
          {
           "sample_id": 0,
           "timepoint": 368,
           "trajectory": "H_data",
           "value": 778
          },
          {
           "sample_id": 0,
           "timepoint": 369,
           "trajectory": "H_data",
           "value": 970
          },
          {
           "sample_id": 0,
           "timepoint": 370,
           "trajectory": "H_data",
           "value": 893
          },
          {
           "sample_id": 0,
           "timepoint": 371,
           "trajectory": "H_data",
           "value": 961
          },
          {
           "sample_id": 0,
           "timepoint": 372,
           "trajectory": "H_data",
           "value": 829
          },
          {
           "sample_id": 0,
           "timepoint": 373,
           "trajectory": "H_data",
           "value": 863
          },
          {
           "sample_id": 0,
           "timepoint": 374,
           "trajectory": "H_data",
           "value": 693
          },
          {
           "sample_id": 0,
           "timepoint": 375,
           "trajectory": "H_data",
           "value": 699
          },
          {
           "sample_id": 0,
           "timepoint": 376,
           "trajectory": "H_data",
           "value": 653
          },
          {
           "sample_id": 0,
           "timepoint": 377,
           "trajectory": "H_data",
           "value": 873
          },
          {
           "sample_id": 0,
           "timepoint": 378,
           "trajectory": "H_data",
           "value": 962
          },
          {
           "sample_id": 0,
           "timepoint": 379,
           "trajectory": "H_data",
           "value": 895
          },
          {
           "sample_id": 0,
           "timepoint": 380,
           "trajectory": "H_data",
           "value": 817
          },
          {
           "sample_id": 0,
           "timepoint": 381,
           "trajectory": "H_data",
           "value": 724
          },
          {
           "sample_id": 0,
           "timepoint": 382,
           "trajectory": "H_data",
           "value": 664
          },
          {
           "sample_id": 0,
           "timepoint": 383,
           "trajectory": "H_data",
           "value": 781
          },
          {
           "sample_id": 0,
           "timepoint": 384,
           "trajectory": "H_data",
           "value": 805
          },
          {
           "sample_id": 0,
           "timepoint": 385,
           "trajectory": "H_data",
           "value": 703
          },
          {
           "sample_id": 0,
           "timepoint": 386,
           "trajectory": "H_data",
           "value": 695
          },
          {
           "sample_id": 0,
           "timepoint": 387,
           "trajectory": "H_data",
           "value": 666
          },
          {
           "sample_id": 0,
           "timepoint": 388,
           "trajectory": "H_data",
           "value": 576
          },
          {
           "sample_id": 0,
           "timepoint": 389,
           "trajectory": "H_data",
           "value": 557
          },
          {
           "sample_id": 0,
           "timepoint": 390,
           "trajectory": "H_data",
           "value": 635
          },
          {
           "sample_id": 0,
           "timepoint": 391,
           "trajectory": "H_data",
           "value": 679
          },
          {
           "sample_id": 0,
           "timepoint": 392,
           "trajectory": "H_data",
           "value": 613
          },
          {
           "sample_id": 0,
           "timepoint": 393,
           "trajectory": "H_data",
           "value": 556
          },
          {
           "sample_id": 0,
           "timepoint": 394,
           "trajectory": "H_data",
           "value": 582
          },
          {
           "sample_id": 0,
           "timepoint": 395,
           "trajectory": "H_data",
           "value": 530
          },
          {
           "sample_id": 0,
           "timepoint": 396,
           "trajectory": "H_data",
           "value": 576
          },
          {
           "sample_id": 0,
           "timepoint": 397,
           "trajectory": "H_data",
           "value": 611
          },
          {
           "sample_id": 0,
           "timepoint": 398,
           "trajectory": "H_data",
           "value": 639
          },
          {
           "sample_id": 0,
           "timepoint": 399,
           "trajectory": "H_data",
           "value": 678
          },
          {
           "sample_id": 0,
           "timepoint": 400,
           "trajectory": "H_data",
           "value": 596
          },
          {
           "sample_id": 0,
           "timepoint": 401,
           "trajectory": "H_data",
           "value": 598
          },
          {
           "sample_id": 0,
           "timepoint": 402,
           "trajectory": "H_data",
           "value": 536
          },
          {
           "sample_id": 0,
           "timepoint": 403,
           "trajectory": "H_data",
           "value": 480
          },
          {
           "sample_id": 0,
           "timepoint": 404,
           "trajectory": "H_data",
           "value": 620
          },
          {
           "sample_id": 0,
           "timepoint": 405,
           "trajectory": "H_data",
           "value": 587
          },
          {
           "sample_id": 0,
           "timepoint": 406,
           "trajectory": "H_data",
           "value": 571
          },
          {
           "sample_id": 0,
           "timepoint": 407,
           "trajectory": "H_data",
           "value": 553
          },
          {
           "sample_id": 0,
           "timepoint": 408,
           "trajectory": "H_data",
           "value": 518
          },
          {
           "sample_id": 0,
           "timepoint": 409,
           "trajectory": "H_data",
           "value": 476
          },
          {
           "sample_id": 0,
           "timepoint": 410,
           "trajectory": "H_data",
           "value": 479
          },
          {
           "sample_id": 0,
           "timepoint": 411,
           "trajectory": "H_data",
           "value": 531
          },
          {
           "sample_id": 0,
           "timepoint": 412,
           "trajectory": "H_data",
           "value": 584
          },
          {
           "sample_id": 0,
           "timepoint": 413,
           "trajectory": "H_data",
           "value": 554
          },
          {
           "sample_id": 0,
           "timepoint": 414,
           "trajectory": "H_data",
           "value": 596
          },
          {
           "sample_id": 0,
           "timepoint": 415,
           "trajectory": "H_data",
           "value": 523
          },
          {
           "sample_id": 0,
           "timepoint": 416,
           "trajectory": "H_data",
           "value": 453
          },
          {
           "sample_id": 0,
           "timepoint": 417,
           "trajectory": "H_data",
           "value": 504
          },
          {
           "sample_id": 0,
           "timepoint": 418,
           "trajectory": "H_data",
           "value": 536
          },
          {
           "sample_id": 0,
           "timepoint": 419,
           "trajectory": "H_data",
           "value": 555
          },
          {
           "sample_id": 0,
           "timepoint": 420,
           "trajectory": "H_data",
           "value": 606
          },
          {
           "sample_id": 0,
           "timepoint": 421,
           "trajectory": "H_data",
           "value": 571
          },
          {
           "sample_id": 0,
           "timepoint": 422,
           "trajectory": "H_data",
           "value": 531
          },
          {
           "sample_id": 0,
           "timepoint": 423,
           "trajectory": "H_data",
           "value": 493
          },
          {
           "sample_id": 0,
           "timepoint": 424,
           "trajectory": "H_data",
           "value": 534
          },
          {
           "sample_id": 0,
           "timepoint": 425,
           "trajectory": "H_data",
           "value": 584
          },
          {
           "sample_id": 0,
           "timepoint": 426,
           "trajectory": "H_data",
           "value": 570
          },
          {
           "sample_id": 0,
           "timepoint": 427,
           "trajectory": "H_data",
           "value": 612
          },
          {
           "sample_id": 0,
           "timepoint": 428,
           "trajectory": "H_data",
           "value": 595
          },
          {
           "sample_id": 0,
           "timepoint": 429,
           "trajectory": "H_data",
           "value": 624
          },
          {
           "sample_id": 0,
           "timepoint": 430,
           "trajectory": "H_data",
           "value": 505
          },
          {
           "sample_id": 0,
           "timepoint": 431,
           "trajectory": "H_data",
           "value": 489
          },
          {
           "sample_id": 0,
           "timepoint": 432,
           "trajectory": "H_data",
           "value": 580
          },
          {
           "sample_id": 0,
           "timepoint": 433,
           "trajectory": "H_data",
           "value": 584
          },
          {
           "sample_id": 0,
           "timepoint": 434,
           "trajectory": "H_data",
           "value": 559
          },
          {
           "sample_id": 0,
           "timepoint": 435,
           "trajectory": "H_data",
           "value": 555
          },
          {
           "sample_id": 0,
           "timepoint": 436,
           "trajectory": "H_data",
           "value": 497
          },
          {
           "sample_id": 0,
           "timepoint": 437,
           "trajectory": "H_data",
           "value": 498
          },
          {
           "sample_id": 0,
           "timepoint": 438,
           "trajectory": "H_data",
           "value": 493
          },
          {
           "sample_id": 0,
           "timepoint": 439,
           "trajectory": "H_data",
           "value": 579
          },
          {
           "sample_id": 0,
           "timepoint": 440,
           "trajectory": "H_data",
           "value": 556
          },
          {
           "sample_id": 0,
           "timepoint": 441,
           "trajectory": "H_data",
           "value": 520
          },
          {
           "sample_id": 0,
           "timepoint": 442,
           "trajectory": "H_data",
           "value": 494
          },
          {
           "sample_id": 0,
           "timepoint": 443,
           "trajectory": "H_data",
           "value": 486
          },
          {
           "sample_id": 0,
           "timepoint": 444,
           "trajectory": "H_data",
           "value": 445
          },
          {
           "sample_id": 0,
           "timepoint": 445,
           "trajectory": "H_data",
           "value": 415
          },
          {
           "sample_id": 0,
           "timepoint": 446,
           "trajectory": "H_data",
           "value": 482
          },
          {
           "sample_id": 0,
           "timepoint": 447,
           "trajectory": "H_data",
           "value": 456
          },
          {
           "sample_id": 0,
           "timepoint": 448,
           "trajectory": "H_data",
           "value": 493
          },
          {
           "sample_id": 0,
           "timepoint": 449,
           "trajectory": "H_data",
           "value": 516
          },
          {
           "sample_id": 0,
           "timepoint": 450,
           "trajectory": "H_data",
           "value": 485
          },
          {
           "sample_id": 0,
           "timepoint": 451,
           "trajectory": "H_data",
           "value": 421
          },
          {
           "sample_id": 0,
           "timepoint": 452,
           "trajectory": "H_data",
           "value": 381
          },
          {
           "sample_id": 0,
           "timepoint": 453,
           "trajectory": "H_data",
           "value": 473
          },
          {
           "sample_id": 0,
           "timepoint": 454,
           "trajectory": "H_data",
           "value": 393
          },
          {
           "sample_id": 0,
           "timepoint": 455,
           "trajectory": "H_data",
           "value": 375
          },
          {
           "sample_id": 0,
           "timepoint": 456,
           "trajectory": "H_data",
           "value": 404
          },
          {
           "sample_id": 0,
           "timepoint": 457,
           "trajectory": "H_data",
           "value": 404
          },
          {
           "sample_id": 0,
           "timepoint": 458,
           "trajectory": "H_data",
           "value": 325
          },
          {
           "sample_id": 0,
           "timepoint": 459,
           "trajectory": "H_data",
           "value": 280
          },
          {
           "sample_id": 0,
           "timepoint": 460,
           "trajectory": "H_data",
           "value": 374
          },
          {
           "sample_id": 0,
           "timepoint": 461,
           "trajectory": "H_data",
           "value": 310
          },
          {
           "sample_id": 0,
           "timepoint": 462,
           "trajectory": "H_data",
           "value": 350
          },
          {
           "sample_id": 0,
           "timepoint": 463,
           "trajectory": "H_data",
           "value": 303
          },
          {
           "sample_id": 0,
           "timepoint": 464,
           "trajectory": "H_data",
           "value": 273
          },
          {
           "sample_id": 0,
           "timepoint": 465,
           "trajectory": "H_data",
           "value": 232
          },
          {
           "sample_id": 0,
           "timepoint": 466,
           "trajectory": "H_data",
           "value": 261
          },
          {
           "sample_id": 0,
           "timepoint": 467,
           "trajectory": "H_data",
           "value": 296
          },
          {
           "sample_id": 0,
           "timepoint": 468,
           "trajectory": "H_data",
           "value": 293
          },
          {
           "sample_id": 0,
           "timepoint": 469,
           "trajectory": "H_data",
           "value": 264
          },
          {
           "sample_id": 0,
           "timepoint": 470,
           "trajectory": "H_data",
           "value": 250
          },
          {
           "sample_id": 0,
           "timepoint": 471,
           "trajectory": "H_data",
           "value": 215
          },
          {
           "sample_id": 0,
           "timepoint": 472,
           "trajectory": "H_data",
           "value": 211
          },
          {
           "sample_id": 0,
           "timepoint": 473,
           "trajectory": "H_data",
           "value": 194
          },
          {
           "sample_id": 0,
           "timepoint": 474,
           "trajectory": "H_data",
           "value": 215
          },
          {
           "sample_id": 0,
           "timepoint": 475,
           "trajectory": "H_data",
           "value": 224
          },
          {
           "sample_id": 0,
           "timepoint": 476,
           "trajectory": "H_data",
           "value": 214
          },
          {
           "sample_id": 0,
           "timepoint": 477,
           "trajectory": "H_data",
           "value": 186
          },
          {
           "sample_id": 0,
           "timepoint": 478,
           "trajectory": "H_data",
           "value": 208
          },
          {
           "sample_id": 0,
           "timepoint": 479,
           "trajectory": "H_data",
           "value": 160
          },
          {
           "sample_id": 0,
           "timepoint": 480,
           "trajectory": "H_data",
           "value": 156
          },
          {
           "sample_id": 0,
           "timepoint": 481,
           "trajectory": "H_data",
           "value": 204
          },
          {
           "sample_id": 0,
           "timepoint": 482,
           "trajectory": "H_data",
           "value": 200
          },
          {
           "sample_id": 0,
           "timepoint": 483,
           "trajectory": "H_data",
           "value": 175
          },
          {
           "sample_id": 0,
           "timepoint": 484,
           "trajectory": "H_data",
           "value": 168
          },
          {
           "sample_id": 0,
           "timepoint": 485,
           "trajectory": "H_data",
           "value": 161
          },
          {
           "sample_id": 0,
           "timepoint": 486,
           "trajectory": "H_data",
           "value": 135
          },
          {
           "sample_id": 0,
           "timepoint": 487,
           "trajectory": "H_data",
           "value": 143
          },
          {
           "sample_id": 0,
           "timepoint": 488,
           "trajectory": "H_data",
           "value": 146
          },
          {
           "sample_id": 0,
           "timepoint": 489,
           "trajectory": "H_data",
           "value": 145
          },
          {
           "sample_id": 0,
           "timepoint": 490,
           "trajectory": "H_data",
           "value": 156
          },
          {
           "sample_id": 0,
           "timepoint": 491,
           "trajectory": "H_data",
           "value": 137
          },
          {
           "sample_id": 0,
           "timepoint": 492,
           "trajectory": "H_data",
           "value": 134
          },
          {
           "sample_id": 0,
           "timepoint": 493,
           "trajectory": "H_data",
           "value": 90
          },
          {
           "sample_id": 0,
           "timepoint": 494,
           "trajectory": "H_data",
           "value": 108
          },
          {
           "sample_id": 0,
           "timepoint": 495,
           "trajectory": "H_data",
           "value": 91
          },
          {
           "sample_id": 0,
           "timepoint": 496,
           "trajectory": "H_data",
           "value": 113
          },
          {
           "sample_id": 0,
           "timepoint": 497,
           "trajectory": "H_data",
           "value": 106
          },
          {
           "sample_id": 0,
           "timepoint": 498,
           "trajectory": "H_data",
           "value": 121
          },
          {
           "sample_id": 0,
           "timepoint": 499,
           "trajectory": "H_data",
           "value": 90
          },
          {
           "sample_id": 0,
           "timepoint": 500,
           "trajectory": "H_data",
           "value": 70
          },
          {
           "sample_id": 0,
           "timepoint": 501,
           "trajectory": "H_data",
           "value": 79
          },
          {
           "sample_id": 0,
           "timepoint": 502,
           "trajectory": "H_data",
           "value": 94
          },
          {
           "sample_id": 0,
           "timepoint": 503,
           "trajectory": "H_data",
           "value": 112
          },
          {
           "sample_id": 0,
           "timepoint": 504,
           "trajectory": "H_data",
           "value": 80
          },
          {
           "sample_id": 0,
           "timepoint": 505,
           "trajectory": "H_data",
           "value": 95
          },
          {
           "sample_id": 0,
           "timepoint": 506,
           "trajectory": "H_data",
           "value": 79
          },
          {
           "sample_id": 0,
           "timepoint": 507,
           "trajectory": "H_data",
           "value": 49
          },
          {
           "sample_id": 0,
           "timepoint": 508,
           "trajectory": "H_data",
           "value": 86
          },
          {
           "sample_id": 0,
           "timepoint": 509,
           "trajectory": "H_data",
           "value": 78
          },
          {
           "sample_id": 0,
           "timepoint": 510,
           "trajectory": "H_data",
           "value": 67
          },
          {
           "sample_id": 0,
           "timepoint": 511,
           "trajectory": "H_data",
           "value": 65
          },
          {
           "sample_id": 0,
           "timepoint": 512,
           "trajectory": "H_data",
           "value": 72
          },
          {
           "sample_id": 0,
           "timepoint": 513,
           "trajectory": "H_data",
           "value": 49
          },
          {
           "sample_id": 0,
           "timepoint": 514,
           "trajectory": "H_data",
           "value": 54
          },
          {
           "sample_id": 0,
           "timepoint": 515,
           "trajectory": "H_data",
           "value": 66
          },
          {
           "sample_id": 0,
           "timepoint": 516,
           "trajectory": "H_data",
           "value": 68
          },
          {
           "sample_id": 0,
           "timepoint": 517,
           "trajectory": "H_data",
           "value": 61
          },
          {
           "sample_id": 0,
           "timepoint": 518,
           "trajectory": "H_data",
           "value": 70
          },
          {
           "sample_id": 0,
           "timepoint": 519,
           "trajectory": "H_data",
           "value": 55
          },
          {
           "sample_id": 0,
           "timepoint": 520,
           "trajectory": "H_data",
           "value": 43
          },
          {
           "sample_id": 0,
           "timepoint": 521,
           "trajectory": "H_data",
           "value": 53
          },
          {
           "sample_id": 0,
           "timepoint": 522,
           "trajectory": "H_data",
           "value": 50
          },
          {
           "sample_id": 0,
           "timepoint": 523,
           "trajectory": "H_data",
           "value": 60
          },
          {
           "sample_id": 0,
           "timepoint": 524,
           "trajectory": "H_data",
           "value": 58
          },
          {
           "sample_id": 0,
           "timepoint": 525,
           "trajectory": "H_data",
           "value": 51
          },
          {
           "sample_id": 0,
           "timepoint": 526,
           "trajectory": "H_data",
           "value": 55
          },
          {
           "sample_id": 0,
           "timepoint": 527,
           "trajectory": "H_data",
           "value": 58
          },
          {
           "sample_id": 0,
           "timepoint": 528,
           "trajectory": "H_data",
           "value": 46
          },
          {
           "sample_id": 0,
           "timepoint": 529,
           "trajectory": "H_data",
           "value": 57
          },
          {
           "sample_id": 0,
           "timepoint": 530,
           "trajectory": "H_data",
           "value": 61
          },
          {
           "sample_id": 0,
           "timepoint": 531,
           "trajectory": "H_data",
           "value": 66
          },
          {
           "sample_id": 0,
           "timepoint": 532,
           "trajectory": "H_data",
           "value": 49
          },
          {
           "sample_id": 0,
           "timepoint": 533,
           "trajectory": "H_data",
           "value": 51
          },
          {
           "sample_id": 0,
           "timepoint": 534,
           "trajectory": "H_data",
           "value": 52
          },
          {
           "sample_id": 0,
           "timepoint": 535,
           "trajectory": "H_data",
           "value": 48
          },
          {
           "sample_id": 0,
           "timepoint": 536,
           "trajectory": "H_data",
           "value": 57
          },
          {
           "sample_id": 0,
           "timepoint": 537,
           "trajectory": "H_data",
           "value": 54
          },
          {
           "sample_id": 0,
           "timepoint": 538,
           "trajectory": "H_data",
           "value": 58
          },
          {
           "sample_id": 0,
           "timepoint": 539,
           "trajectory": "H_data",
           "value": 88
          },
          {
           "sample_id": 0,
           "timepoint": 540,
           "trajectory": "H_data",
           "value": 76
          },
          {
           "sample_id": 0,
           "timepoint": 541,
           "trajectory": "H_data",
           "value": 64
          },
          {
           "sample_id": 0,
           "timepoint": 542,
           "trajectory": "H_data",
           "value": 71
          },
          {
           "sample_id": 0,
           "timepoint": 543,
           "trajectory": "H_data",
           "value": 71
          },
          {
           "sample_id": 0,
           "timepoint": 544,
           "trajectory": "H_data",
           "value": 93
          },
          {
           "sample_id": 0,
           "timepoint": 545,
           "trajectory": "H_data",
           "value": 99
          },
          {
           "sample_id": 0,
           "timepoint": 546,
           "trajectory": "H_data",
           "value": 113
          },
          {
           "sample_id": 0,
           "timepoint": 547,
           "trajectory": "H_data",
           "value": 77
          },
          {
           "sample_id": 0,
           "timepoint": 548,
           "trajectory": "H_data",
           "value": 98
          },
          {
           "sample_id": 0,
           "timepoint": 549,
           "trajectory": "H_data",
           "value": 85
          },
          {
           "sample_id": 0,
           "timepoint": 550,
           "trajectory": "H_data",
           "value": 95
          },
          {
           "sample_id": 0,
           "timepoint": 551,
           "trajectory": "H_data",
           "value": 108
          },
          {
           "sample_id": 0,
           "timepoint": 552,
           "trajectory": "H_data",
           "value": 121
          },
          {
           "sample_id": 0,
           "timepoint": 553,
           "trajectory": "H_data",
           "value": 134
          },
          {
           "sample_id": 0,
           "timepoint": 554,
           "trajectory": "H_data",
           "value": 132
          },
          {
           "sample_id": 0,
           "timepoint": 555,
           "trajectory": "H_data",
           "value": 136
          },
          {
           "sample_id": 0,
           "timepoint": 556,
           "trajectory": "H_data",
           "value": 123
          },
          {
           "sample_id": 0,
           "timepoint": 557,
           "trajectory": "H_data",
           "value": 138
          },
          {
           "sample_id": 0,
           "timepoint": 558,
           "trajectory": "H_data",
           "value": 161
          },
          {
           "sample_id": 0,
           "timepoint": 559,
           "trajectory": "H_data",
           "value": 210
          },
          {
           "sample_id": 0,
           "timepoint": 560,
           "trajectory": "H_data",
           "value": 210
          },
          {
           "sample_id": 0,
           "timepoint": 561,
           "trajectory": "H_data",
           "value": 201
          },
          {
           "sample_id": 0,
           "timepoint": 562,
           "trajectory": "H_data",
           "value": 244
          },
          {
           "sample_id": 0,
           "timepoint": 563,
           "trajectory": "H_data",
           "value": 189
          },
          {
           "sample_id": 0,
           "timepoint": 564,
           "trajectory": "H_data",
           "value": 242
          },
          {
           "sample_id": 0,
           "timepoint": 565,
           "trajectory": "H_data",
           "value": 227
          },
          {
           "sample_id": 0,
           "timepoint": 566,
           "trajectory": "H_data",
           "value": 285
          },
          {
           "sample_id": 0,
           "timepoint": 567,
           "trajectory": "H_data",
           "value": 301
          },
          {
           "sample_id": 0,
           "timepoint": 568,
           "trajectory": "H_data",
           "value": 316
          },
          {
           "sample_id": 0,
           "timepoint": 0,
           "trajectory": "D_data",
           "value": 0
          },
          {
           "sample_id": 0,
           "timepoint": 1,
           "trajectory": "D_data",
           "value": 0
          },
          {
           "sample_id": 0,
           "timepoint": 2,
           "trajectory": "D_data",
           "value": 0
          },
          {
           "sample_id": 0,
           "timepoint": 3,
           "trajectory": "D_data",
           "value": 0
          },
          {
           "sample_id": 0,
           "timepoint": 4,
           "trajectory": "D_data",
           "value": 0
          },
          {
           "sample_id": 0,
           "timepoint": 5,
           "trajectory": "D_data",
           "value": 0
          },
          {
           "sample_id": 0,
           "timepoint": 6,
           "trajectory": "D_data",
           "value": 0
          },
          {
           "sample_id": 0,
           "timepoint": 7,
           "trajectory": "D_data",
           "value": 0
          },
          {
           "sample_id": 0,
           "timepoint": 8,
           "trajectory": "D_data",
           "value": 0
          },
          {
           "sample_id": 0,
           "timepoint": 9,
           "trajectory": "D_data",
           "value": 0
          },
          {
           "sample_id": 0,
           "timepoint": 10,
           "trajectory": "D_data",
           "value": 0
          },
          {
           "sample_id": 0,
           "timepoint": 11,
           "trajectory": "D_data",
           "value": 0
          },
          {
           "sample_id": 0,
           "timepoint": 12,
           "trajectory": "D_data",
           "value": 0
          },
          {
           "sample_id": 0,
           "timepoint": 13,
           "trajectory": "D_data",
           "value": 0
          },
          {
           "sample_id": 0,
           "timepoint": 14,
           "trajectory": "D_data",
           "value": 0
          },
          {
           "sample_id": 0,
           "timepoint": 15,
           "trajectory": "D_data",
           "value": 0
          },
          {
           "sample_id": 0,
           "timepoint": 16,
           "trajectory": "D_data",
           "value": 0
          },
          {
           "sample_id": 0,
           "timepoint": 17,
           "trajectory": "D_data",
           "value": 0
          },
          {
           "sample_id": 0,
           "timepoint": 18,
           "trajectory": "D_data",
           "value": 0
          },
          {
           "sample_id": 0,
           "timepoint": 19,
           "trajectory": "D_data",
           "value": 0
          },
          {
           "sample_id": 0,
           "timepoint": 20,
           "trajectory": "D_data",
           "value": 0
          },
          {
           "sample_id": 0,
           "timepoint": 21,
           "trajectory": "D_data",
           "value": 0
          },
          {
           "sample_id": 0,
           "timepoint": 22,
           "trajectory": "D_data",
           "value": 0
          },
          {
           "sample_id": 0,
           "timepoint": 23,
           "trajectory": "D_data",
           "value": 0
          },
          {
           "sample_id": 0,
           "timepoint": 24,
           "trajectory": "D_data",
           "value": 0
          },
          {
           "sample_id": 0,
           "timepoint": 25,
           "trajectory": "D_data",
           "value": 0
          },
          {
           "sample_id": 0,
           "timepoint": 26,
           "trajectory": "D_data",
           "value": 0
          },
          {
           "sample_id": 0,
           "timepoint": 27,
           "trajectory": "D_data",
           "value": 0
          },
          {
           "sample_id": 0,
           "timepoint": 28,
           "trajectory": "D_data",
           "value": 0
          },
          {
           "sample_id": 0,
           "timepoint": 29,
           "trajectory": "D_data",
           "value": 0
          },
          {
           "sample_id": 0,
           "timepoint": 30,
           "trajectory": "D_data",
           "value": 0
          },
          {
           "sample_id": 0,
           "timepoint": 31,
           "trajectory": "D_data",
           "value": 0
          },
          {
           "sample_id": 0,
           "timepoint": 32,
           "trajectory": "D_data",
           "value": 0
          },
          {
           "sample_id": 0,
           "timepoint": 33,
           "trajectory": "D_data",
           "value": 0
          },
          {
           "sample_id": 0,
           "timepoint": 34,
           "trajectory": "D_data",
           "value": 0
          },
          {
           "sample_id": 0,
           "timepoint": 35,
           "trajectory": "D_data",
           "value": 0
          },
          {
           "sample_id": 0,
           "timepoint": 36,
           "trajectory": "D_data",
           "value": 0
          },
          {
           "sample_id": 0,
           "timepoint": 37,
           "trajectory": "D_data",
           "value": 0
          },
          {
           "sample_id": 0,
           "timepoint": 38,
           "trajectory": "D_data",
           "value": 0
          },
          {
           "sample_id": 0,
           "timepoint": 39,
           "trajectory": "D_data",
           "value": 0
          },
          {
           "sample_id": 0,
           "timepoint": 40,
           "trajectory": "D_data",
           "value": 0
          },
          {
           "sample_id": 0,
           "timepoint": 41,
           "trajectory": "D_data",
           "value": 0
          },
          {
           "sample_id": 0,
           "timepoint": 42,
           "trajectory": "D_data",
           "value": 0
          },
          {
           "sample_id": 0,
           "timepoint": 43,
           "trajectory": "D_data",
           "value": 0
          },
          {
           "sample_id": 0,
           "timepoint": 44,
           "trajectory": "D_data",
           "value": 0
          },
          {
           "sample_id": 0,
           "timepoint": 45,
           "trajectory": "D_data",
           "value": 0
          },
          {
           "sample_id": 0,
           "timepoint": 46,
           "trajectory": "D_data",
           "value": 0
          },
          {
           "sample_id": 0,
           "timepoint": 47,
           "trajectory": "D_data",
           "value": 0
          },
          {
           "sample_id": 0,
           "timepoint": 48,
           "trajectory": "D_data",
           "value": 0
          },
          {
           "sample_id": 0,
           "timepoint": 49,
           "trajectory": "D_data",
           "value": 1
          },
          {
           "sample_id": 0,
           "timepoint": 50,
           "trajectory": "D_data",
           "value": 1
          },
          {
           "sample_id": 0,
           "timepoint": 51,
           "trajectory": "D_data",
           "value": 1
          },
          {
           "sample_id": 0,
           "timepoint": 52,
           "trajectory": "D_data",
           "value": 4
          },
          {
           "sample_id": 0,
           "timepoint": 53,
           "trajectory": "D_data",
           "value": 9
          },
          {
           "sample_id": 0,
           "timepoint": 54,
           "trajectory": "D_data",
           "value": 19
          },
          {
           "sample_id": 0,
           "timepoint": 55,
           "trajectory": "D_data",
           "value": 30
          },
          {
           "sample_id": 0,
           "timepoint": 56,
           "trajectory": "D_data",
           "value": 51
          },
          {
           "sample_id": 0,
           "timepoint": 57,
           "trajectory": "D_data",
           "value": 77
          },
          {
           "sample_id": 0,
           "timepoint": 58,
           "trajectory": "D_data",
           "value": 129
          },
          {
           "sample_id": 0,
           "timepoint": 59,
           "trajectory": "D_data",
           "value": 175
          },
          {
           "sample_id": 0,
           "timepoint": 60,
           "trajectory": "D_data",
           "value": 226
          },
          {
           "sample_id": 0,
           "timepoint": 61,
           "trajectory": "D_data",
           "value": 315
          },
          {
           "sample_id": 0,
           "timepoint": 62,
           "trajectory": "D_data",
           "value": 427
          },
          {
           "sample_id": 0,
           "timepoint": 63,
           "trajectory": "D_data",
           "value": 565
          },
          {
           "sample_id": 0,
           "timepoint": 64,
           "trajectory": "D_data",
           "value": 759
          },
          {
           "sample_id": 0,
           "timepoint": 65,
           "trajectory": "D_data",
           "value": 984
          },
          {
           "sample_id": 0,
           "timepoint": 66,
           "trajectory": "D_data",
           "value": 1285
          },
          {
           "sample_id": 0,
           "timepoint": 67,
           "trajectory": "D_data",
           "value": 1603
          },
          {
           "sample_id": 0,
           "timepoint": 68,
           "trajectory": "D_data",
           "value": 1930
          },
          {
           "sample_id": 0,
           "timepoint": 69,
           "trajectory": "D_data",
           "value": 2334
          },
          {
           "sample_id": 0,
           "timepoint": 70,
           "trajectory": "D_data",
           "value": 2859
          },
          {
           "sample_id": 0,
           "timepoint": 71,
           "trajectory": "D_data",
           "value": 3420
          },
          {
           "sample_id": 0,
           "timepoint": 72,
           "trajectory": "D_data",
           "value": 3989
          },
          {
           "sample_id": 0,
           "timepoint": 73,
           "trajectory": "D_data",
           "value": 4634
          },
          {
           "sample_id": 0,
           "timepoint": 74,
           "trajectory": "D_data",
           "value": 5384
          },
          {
           "sample_id": 0,
           "timepoint": 75,
           "trajectory": "D_data",
           "value": 6185
          },
          {
           "sample_id": 0,
           "timepoint": 76,
           "trajectory": "D_data",
           "value": 7241
          },
          {
           "sample_id": 0,
           "timepoint": 77,
           "trajectory": "D_data",
           "value": 7985
          },
          {
           "sample_id": 0,
           "timepoint": 78,
           "trajectory": "D_data",
           "value": 8846
          },
          {
           "sample_id": 0,
           "timepoint": 79,
           "trajectory": "D_data",
           "value": 9579
          },
          {
           "sample_id": 0,
           "timepoint": 80,
           "trajectory": "D_data",
           "value": 10345
          },
          {
           "sample_id": 0,
           "timepoint": 81,
           "trajectory": "D_data",
           "value": 11126
          },
          {
           "sample_id": 0,
           "timepoint": 82,
           "trajectory": "D_data",
           "value": 11930
          },
          {
           "sample_id": 0,
           "timepoint": 83,
           "trajectory": "D_data",
           "value": 12669
          },
          {
           "sample_id": 0,
           "timepoint": 84,
           "trajectory": "D_data",
           "value": 13332
          },
          {
           "sample_id": 0,
           "timepoint": 85,
           "trajectory": "D_data",
           "value": 13987
          },
          {
           "sample_id": 0,
           "timepoint": 86,
           "trajectory": "D_data",
           "value": 14371
          },
          {
           "sample_id": 0,
           "timepoint": 87,
           "trajectory": "D_data",
           "value": 14780
          },
          {
           "sample_id": 0,
           "timepoint": 88,
           "trajectory": "D_data",
           "value": 15225
          },
          {
           "sample_id": 0,
           "timepoint": 89,
           "trajectory": "D_data",
           "value": 16116
          },
          {
           "sample_id": 0,
           "timepoint": 90,
           "trajectory": "D_data",
           "value": 16639
          },
          {
           "sample_id": 0,
           "timepoint": 91,
           "trajectory": "D_data",
           "value": 17091
          },
          {
           "sample_id": 0,
           "timepoint": 92,
           "trajectory": "D_data",
           "value": 17647
          },
          {
           "sample_id": 0,
           "timepoint": 93,
           "trajectory": "D_data",
           "value": 18132
          },
          {
           "sample_id": 0,
           "timepoint": 94,
           "trajectory": "D_data",
           "value": 18523
          },
          {
           "sample_id": 0,
           "timepoint": 95,
           "trajectory": "D_data",
           "value": 18882
          },
          {
           "sample_id": 0,
           "timepoint": 96,
           "trajectory": "D_data",
           "value": 19292
          },
          {
           "sample_id": 0,
           "timepoint": 97,
           "trajectory": "D_data",
           "value": 19602
          },
          {
           "sample_id": 0,
           "timepoint": 98,
           "trajectory": "D_data",
           "value": 20000
          },
          {
           "sample_id": 0,
           "timepoint": 99,
           "trajectory": "D_data",
           "value": 20334
          },
          {
           "sample_id": 0,
           "timepoint": 100,
           "trajectory": "D_data",
           "value": 20662
          },
          {
           "sample_id": 0,
           "timepoint": 101,
           "trajectory": "D_data",
           "value": 20923
          },
          {
           "sample_id": 0,
           "timepoint": 102,
           "trajectory": "D_data",
           "value": 21179
          },
          {
           "sample_id": 0,
           "timepoint": 103,
           "trajectory": "D_data",
           "value": 21483
          },
          {
           "sample_id": 0,
           "timepoint": 104,
           "trajectory": "D_data",
           "value": 21740
          },
          {
           "sample_id": 0,
           "timepoint": 105,
           "trajectory": "D_data",
           "value": 22296
          },
          {
           "sample_id": 0,
           "timepoint": 106,
           "trajectory": "D_data",
           "value": 22501
          },
          {
           "sample_id": 0,
           "timepoint": 107,
           "trajectory": "D_data",
           "value": 22797
          },
          {
           "sample_id": 0,
           "timepoint": 108,
           "trajectory": "D_data",
           "value": 23015
          },
          {
           "sample_id": 0,
           "timepoint": 109,
           "trajectory": "D_data",
           "value": 23180
          },
          {
           "sample_id": 0,
           "timepoint": 110,
           "trajectory": "D_data",
           "value": 23356
          },
          {
           "sample_id": 0,
           "timepoint": 111,
           "trajectory": "D_data",
           "value": 23560
          },
          {
           "sample_id": 0,
           "timepoint": 112,
           "trajectory": "D_data",
           "value": 23754
          },
          {
           "sample_id": 0,
           "timepoint": 113,
           "trajectory": "D_data",
           "value": 23893
          },
          {
           "sample_id": 0,
           "timepoint": 114,
           "trajectory": "D_data",
           "value": 24144
          },
          {
           "sample_id": 0,
           "timepoint": 115,
           "trajectory": "D_data",
           "value": 24299
          },
          {
           "sample_id": 0,
           "timepoint": 116,
           "trajectory": "D_data",
           "value": 24419
          },
          {
           "sample_id": 0,
           "timepoint": 117,
           "trajectory": "D_data",
           "value": 28867
          },
          {
           "sample_id": 0,
           "timepoint": 118,
           "trajectory": "D_data",
           "value": 29058
          },
          {
           "sample_id": 0,
           "timepoint": 119,
           "trajectory": "D_data",
           "value": 29205
          },
          {
           "sample_id": 0,
           "timepoint": 120,
           "trajectory": "D_data",
           "value": 29317
          },
          {
           "sample_id": 0,
           "timepoint": 121,
           "trajectory": "D_data",
           "value": 29420
          },
          {
           "sample_id": 0,
           "timepoint": 122,
           "trajectory": "D_data",
           "value": 29617
          },
          {
           "sample_id": 0,
           "timepoint": 123,
           "trajectory": "D_data",
           "value": 29707
          },
          {
           "sample_id": 0,
           "timepoint": 124,
           "trajectory": "D_data",
           "value": 29823
          },
          {
           "sample_id": 0,
           "timepoint": 125,
           "trajectory": "D_data",
           "value": 29857
          },
          {
           "sample_id": 0,
           "timepoint": 126,
           "trajectory": "D_data",
           "value": 30034
          },
          {
           "sample_id": 0,
           "timepoint": 127,
           "trajectory": "D_data",
           "value": 30083
          },
          {
           "sample_id": 0,
           "timepoint": 128,
           "trajectory": "D_data",
           "value": 30194
          },
          {
           "sample_id": 0,
           "timepoint": 129,
           "trajectory": "D_data",
           "value": 30289
          },
          {
           "sample_id": 0,
           "timepoint": 130,
           "trajectory": "D_data",
           "value": 30357
          },
          {
           "sample_id": 0,
           "timepoint": 131,
           "trajectory": "D_data",
           "value": 30490
          },
          {
           "sample_id": 0,
           "timepoint": 132,
           "trajectory": "D_data",
           "value": 30549
          },
          {
           "sample_id": 0,
           "timepoint": 133,
           "trajectory": "D_data",
           "value": 30615
          },
          {
           "sample_id": 0,
           "timepoint": 134,
           "trajectory": "D_data",
           "value": 30752
          },
          {
           "sample_id": 0,
           "timepoint": 135,
           "trajectory": "D_data",
           "value": 30805
          },
          {
           "sample_id": 0,
           "timepoint": 136,
           "trajectory": "D_data",
           "value": 30857
          },
          {
           "sample_id": 0,
           "timepoint": 137,
           "trajectory": "D_data",
           "value": 30946
          },
          {
           "sample_id": 0,
           "timepoint": 138,
           "trajectory": "D_data",
           "value": 31002
          },
          {
           "sample_id": 0,
           "timepoint": 139,
           "trajectory": "D_data",
           "value": 31037
          },
          {
           "sample_id": 0,
           "timepoint": 140,
           "trajectory": "D_data",
           "value": 31111
          },
          {
           "sample_id": 0,
           "timepoint": 141,
           "trajectory": "D_data",
           "value": 31138
          },
          {
           "sample_id": 0,
           "timepoint": 142,
           "trajectory": "D_data",
           "value": 31293
          },
          {
           "sample_id": 0,
           "timepoint": 143,
           "trajectory": "D_data",
           "value": 31316
          },
          {
           "sample_id": 0,
           "timepoint": 144,
           "trajectory": "D_data",
           "value": 31353
          },
          {
           "sample_id": 0,
           "timepoint": 145,
           "trajectory": "D_data",
           "value": 31387
          },
          {
           "sample_id": 0,
           "timepoint": 146,
           "trajectory": "D_data",
           "value": 31435
          },
          {
           "sample_id": 0,
           "timepoint": 147,
           "trajectory": "D_data",
           "value": 31463
          },
          {
           "sample_id": 0,
           "timepoint": 148,
           "trajectory": "D_data",
           "value": 31494
          },
          {
           "sample_id": 0,
           "timepoint": 149,
           "trajectory": "D_data",
           "value": 31520
          },
          {
           "sample_id": 0,
           "timepoint": 150,
           "trajectory": "D_data",
           "value": 31598
          },
          {
           "sample_id": 0,
           "timepoint": 151,
           "trajectory": "D_data",
           "value": 31639
          },
          {
           "sample_id": 0,
           "timepoint": 152,
           "trajectory": "D_data",
           "value": 31669
          },
          {
           "sample_id": 0,
           "timepoint": 153,
           "trajectory": "D_data",
           "value": 31730
          },
          {
           "sample_id": 0,
           "timepoint": 154,
           "trajectory": "D_data",
           "value": 31755
          },
          {
           "sample_id": 0,
           "timepoint": 155,
           "trajectory": "D_data",
           "value": 31794
          },
          {
           "sample_id": 0,
           "timepoint": 156,
           "trajectory": "D_data",
           "value": 31819
          },
          {
           "sample_id": 0,
           "timepoint": 157,
           "trajectory": "D_data",
           "value": 31847
          },
          {
           "sample_id": 0,
           "timepoint": 158,
           "trajectory": "D_data",
           "value": 31873
          },
          {
           "sample_id": 0,
           "timepoint": 159,
           "trajectory": "D_data",
           "value": 31904
          },
          {
           "sample_id": 0,
           "timepoint": 160,
           "trajectory": "D_data",
           "value": 31869
          },
          {
           "sample_id": 0,
           "timepoint": 161,
           "trajectory": "D_data",
           "value": 31883
          },
          {
           "sample_id": 0,
           "timepoint": 162,
           "trajectory": "D_data",
           "value": 31913
          },
          {
           "sample_id": 0,
           "timepoint": 163,
           "trajectory": "D_data",
           "value": 31993
          },
          {
           "sample_id": 0,
           "timepoint": 164,
           "trajectory": "D_data",
           "value": 32009
          },
          {
           "sample_id": 0,
           "timepoint": 165,
           "trajectory": "D_data",
           "value": 32045
          },
          {
           "sample_id": 0,
           "timepoint": 166,
           "trajectory": "D_data",
           "value": 32063
          },
          {
           "sample_id": 0,
           "timepoint": 167,
           "trajectory": "D_data",
           "value": 32084
          },
          {
           "sample_id": 0,
           "timepoint": 168,
           "trajectory": "D_data",
           "value": 32108
          },
          {
           "sample_id": 0,
           "timepoint": 169,
           "trajectory": "D_data",
           "value": 32130
          },
          {
           "sample_id": 0,
           "timepoint": 170,
           "trajectory": "D_data",
           "value": 32169
          },
          {
           "sample_id": 0,
           "timepoint": 171,
           "trajectory": "D_data",
           "value": 32185
          },
          {
           "sample_id": 0,
           "timepoint": 172,
           "trajectory": "D_data",
           "value": 32198
          },
          {
           "sample_id": 0,
           "timepoint": 173,
           "trajectory": "D_data",
           "value": 32217
          },
          {
           "sample_id": 0,
           "timepoint": 174,
           "trajectory": "D_data",
           "value": 32227
          },
          {
           "sample_id": 0,
           "timepoint": 175,
           "trajectory": "D_data",
           "value": 32246
          },
          {
           "sample_id": 0,
           "timepoint": 176,
           "trajectory": "D_data",
           "value": 32257
          },
          {
           "sample_id": 0,
           "timepoint": 177,
           "trajectory": "D_data",
           "value": 32283
          },
          {
           "sample_id": 0,
           "timepoint": 178,
           "trajectory": "D_data",
           "value": 32298
          },
          {
           "sample_id": 0,
           "timepoint": 179,
           "trajectory": "D_data",
           "value": 32313
          },
          {
           "sample_id": 0,
           "timepoint": 180,
           "trajectory": "D_data",
           "value": 32324
          },
          {
           "sample_id": 0,
           "timepoint": 181,
           "trajectory": "D_data",
           "value": 32337
          },
          {
           "sample_id": 0,
           "timepoint": 182,
           "trajectory": "D_data",
           "value": 32379
          },
          {
           "sample_id": 0,
           "timepoint": 183,
           "trajectory": "D_data",
           "value": 32390
          },
          {
           "sample_id": 0,
           "timepoint": 184,
           "trajectory": "D_data",
           "value": 32395
          },
          {
           "sample_id": 0,
           "timepoint": 185,
           "trajectory": "D_data",
           "value": 32407
          },
          {
           "sample_id": 0,
           "timepoint": 186,
           "trajectory": "D_data",
           "value": 32429
          },
          {
           "sample_id": 0,
           "timepoint": 187,
           "trajectory": "D_data",
           "value": 32435
          },
          {
           "sample_id": 0,
           "timepoint": 188,
           "trajectory": "D_data",
           "value": 32447
          },
          {
           "sample_id": 0,
           "timepoint": 189,
           "trajectory": "D_data",
           "value": 32452
          },
          {
           "sample_id": 0,
           "timepoint": 190,
           "trajectory": "D_data",
           "value": 32468
          },
          {
           "sample_id": 0,
           "timepoint": 191,
           "trajectory": "D_data",
           "value": 32474
          },
          {
           "sample_id": 0,
           "timepoint": 192,
           "trajectory": "D_data",
           "value": 32482
          },
          {
           "sample_id": 0,
           "timepoint": 193,
           "trajectory": "D_data",
           "value": 32498
          },
          {
           "sample_id": 0,
           "timepoint": 194,
           "trajectory": "D_data",
           "value": 32500
          },
          {
           "sample_id": 0,
           "timepoint": 195,
           "trajectory": "D_data",
           "value": 32505
          },
          {
           "sample_id": 0,
           "timepoint": 196,
           "trajectory": "D_data",
           "value": 32535
          },
          {
           "sample_id": 0,
           "timepoint": 197,
           "trajectory": "D_data",
           "value": 32542
          },
          {
           "sample_id": 0,
           "timepoint": 198,
           "trajectory": "D_data",
           "value": 32545
          },
          {
           "sample_id": 0,
           "timepoint": 199,
           "trajectory": "D_data",
           "value": 32554
          },
          {
           "sample_id": 0,
           "timepoint": 200,
           "trajectory": "D_data",
           "value": 32558
          },
          {
           "sample_id": 0,
           "timepoint": 201,
           "trajectory": "D_data",
           "value": 32566
          },
          {
           "sample_id": 0,
           "timepoint": 202,
           "trajectory": "D_data",
           "value": 32572
          },
          {
           "sample_id": 0,
           "timepoint": 203,
           "trajectory": "D_data",
           "value": 32574
          },
          {
           "sample_id": 0,
           "timepoint": 204,
           "trajectory": "D_data",
           "value": 32580
          },
          {
           "sample_id": 0,
           "timepoint": 205,
           "trajectory": "D_data",
           "value": 32601
          },
          {
           "sample_id": 0,
           "timepoint": 206,
           "trajectory": "D_data",
           "value": 32611
          },
          {
           "sample_id": 0,
           "timepoint": 207,
           "trajectory": "D_data",
           "value": 32617
          },
          {
           "sample_id": 0,
           "timepoint": 208,
           "trajectory": "D_data",
           "value": 32622
          },
          {
           "sample_id": 0,
           "timepoint": 209,
           "trajectory": "D_data",
           "value": 32629
          },
          {
           "sample_id": 0,
           "timepoint": 210,
           "trajectory": "D_data",
           "value": 32639
          },
          {
           "sample_id": 0,
           "timepoint": 211,
           "trajectory": "D_data",
           "value": 32644
          },
          {
           "sample_id": 0,
           "timepoint": 212,
           "trajectory": "D_data",
           "value": 32647
          },
          {
           "sample_id": 0,
           "timepoint": 213,
           "trajectory": "D_data",
           "value": 32654
          },
          {
           "sample_id": 0,
           "timepoint": 214,
           "trajectory": "D_data",
           "value": 32662
          },
          {
           "sample_id": 0,
           "timepoint": 215,
           "trajectory": "D_data",
           "value": 32665
          },
          {
           "sample_id": 0,
           "timepoint": 216,
           "trajectory": "D_data",
           "value": 32694
          },
          {
           "sample_id": 0,
           "timepoint": 217,
           "trajectory": "D_data",
           "value": 32699
          },
          {
           "sample_id": 0,
           "timepoint": 218,
           "trajectory": "D_data",
           "value": 32700
          },
          {
           "sample_id": 0,
           "timepoint": 219,
           "trajectory": "D_data",
           "value": 32703
          },
          {
           "sample_id": 0,
           "timepoint": 220,
           "trajectory": "D_data",
           "value": 32705
          },
          {
           "sample_id": 0,
           "timepoint": 221,
           "trajectory": "D_data",
           "value": 32722
          },
          {
           "sample_id": 0,
           "timepoint": 222,
           "trajectory": "D_data",
           "value": 32770
          },
          {
           "sample_id": 0,
           "timepoint": 223,
           "trajectory": "D_data",
           "value": 32776
          },
          {
           "sample_id": 0,
           "timepoint": 224,
           "trajectory": "D_data",
           "value": 32782
          },
          {
           "sample_id": 0,
           "timepoint": 225,
           "trajectory": "D_data",
           "value": 32790
          },
          {
           "sample_id": 0,
           "timepoint": 226,
           "trajectory": "D_data",
           "value": 32795
          },
          {
           "sample_id": 0,
           "timepoint": 227,
           "trajectory": "D_data",
           "value": 32802
          },
          {
           "sample_id": 0,
           "timepoint": 228,
           "trajectory": "D_data",
           "value": 32802
          },
          {
           "sample_id": 0,
           "timepoint": 229,
           "trajectory": "D_data",
           "value": 32813
          },
          {
           "sample_id": 0,
           "timepoint": 230,
           "trajectory": "D_data",
           "value": 32826
          },
          {
           "sample_id": 0,
           "timepoint": 231,
           "trajectory": "D_data",
           "value": 32833
          },
          {
           "sample_id": 0,
           "timepoint": 232,
           "trajectory": "D_data",
           "value": 32836
          },
          {
           "sample_id": 0,
           "timepoint": 233,
           "trajectory": "D_data",
           "value": 32839
          },
          {
           "sample_id": 0,
           "timepoint": 234,
           "trajectory": "D_data",
           "value": 32843
          },
          {
           "sample_id": 0,
           "timepoint": 235,
           "trajectory": "D_data",
           "value": 32843
          },
          {
           "sample_id": 0,
           "timepoint": 236,
           "trajectory": "D_data",
           "value": 32849
          },
          {
           "sample_id": 0,
           "timepoint": 237,
           "trajectory": "D_data",
           "value": 32856
          },
          {
           "sample_id": 0,
           "timepoint": 238,
           "trajectory": "D_data",
           "value": 32860
          },
          {
           "sample_id": 0,
           "timepoint": 239,
           "trajectory": "D_data",
           "value": 32887
          },
          {
           "sample_id": 0,
           "timepoint": 240,
           "trajectory": "D_data",
           "value": 32900
          },
          {
           "sample_id": 0,
           "timepoint": 241,
           "trajectory": "D_data",
           "value": 32899
          },
          {
           "sample_id": 0,
           "timepoint": 242,
           "trajectory": "D_data",
           "value": 32905
          },
          {
           "sample_id": 0,
           "timepoint": 243,
           "trajectory": "D_data",
           "value": 32974
          },
          {
           "sample_id": 0,
           "timepoint": 244,
           "trajectory": "D_data",
           "value": 32975
          },
          {
           "sample_id": 0,
           "timepoint": 245,
           "trajectory": "D_data",
           "value": 32976
          },
          {
           "sample_id": 0,
           "timepoint": 246,
           "trajectory": "D_data",
           "value": 32982
          },
          {
           "sample_id": 0,
           "timepoint": 247,
           "trajectory": "D_data",
           "value": 32995
          },
          {
           "sample_id": 0,
           "timepoint": 248,
           "trajectory": "D_data",
           "value": 32997
          },
          {
           "sample_id": 0,
           "timepoint": 249,
           "trajectory": "D_data",
           "value": 33003
          },
          {
           "sample_id": 0,
           "timepoint": 250,
           "trajectory": "D_data",
           "value": 33011
          },
          {
           "sample_id": 0,
           "timepoint": 251,
           "trajectory": "D_data",
           "value": 33018
          },
          {
           "sample_id": 0,
           "timepoint": 252,
           "trajectory": "D_data",
           "value": 33027
          },
          {
           "sample_id": 0,
           "timepoint": 253,
           "trajectory": "D_data",
           "value": 33037
          },
          {
           "sample_id": 0,
           "timepoint": 254,
           "trajectory": "D_data",
           "value": 33074
          },
          {
           "sample_id": 0,
           "timepoint": 255,
           "trajectory": "D_data",
           "value": 33079
          },
          {
           "sample_id": 0,
           "timepoint": 256,
           "trajectory": "D_data",
           "value": 33090
          },
          {
           "sample_id": 0,
           "timepoint": 257,
           "trajectory": "D_data",
           "value": 33100
          },
          {
           "sample_id": 0,
           "timepoint": 258,
           "trajectory": "D_data",
           "value": 33107
          },
          {
           "sample_id": 0,
           "timepoint": 259,
           "trajectory": "D_data",
           "value": 33125
          },
          {
           "sample_id": 0,
           "timepoint": 260,
           "trajectory": "D_data",
           "value": 33135
          },
          {
           "sample_id": 0,
           "timepoint": 261,
           "trajectory": "D_data",
           "value": 33164
          },
          {
           "sample_id": 0,
           "timepoint": 262,
           "trajectory": "D_data",
           "value": 33168
          },
          {
           "sample_id": 0,
           "timepoint": 263,
           "trajectory": "D_data",
           "value": 33174
          },
          {
           "sample_id": 0,
           "timepoint": 264,
           "trajectory": "D_data",
           "value": 33184
          },
          {
           "sample_id": 0,
           "timepoint": 265,
           "trajectory": "D_data",
           "value": 33194
          },
          {
           "sample_id": 0,
           "timepoint": 266,
           "trajectory": "D_data",
           "value": 33201
          },
          {
           "sample_id": 0,
           "timepoint": 267,
           "trajectory": "D_data",
           "value": 33225
          },
          {
           "sample_id": 0,
           "timepoint": 268,
           "trajectory": "D_data",
           "value": 33237
          },
          {
           "sample_id": 0,
           "timepoint": 269,
           "trajectory": "D_data",
           "value": 33246
          },
          {
           "sample_id": 0,
           "timepoint": 270,
           "trajectory": "D_data",
           "value": 33261
          },
          {
           "sample_id": 0,
           "timepoint": 271,
           "trajectory": "D_data",
           "value": 33274
          },
          {
           "sample_id": 0,
           "timepoint": 272,
           "trajectory": "D_data",
           "value": 33282
          },
          {
           "sample_id": 0,
           "timepoint": 273,
           "trajectory": "D_data",
           "value": 33287
          },
          {
           "sample_id": 0,
           "timepoint": 274,
           "trajectory": "D_data",
           "value": 33310
          },
          {
           "sample_id": 0,
           "timepoint": 275,
           "trajectory": "D_data",
           "value": 33323
          },
          {
           "sample_id": 0,
           "timepoint": 276,
           "trajectory": "D_data",
           "value": 33332
          },
          {
           "sample_id": 0,
           "timepoint": 277,
           "trajectory": "D_data",
           "value": 33339
          },
          {
           "sample_id": 0,
           "timepoint": 278,
           "trajectory": "D_data",
           "value": 33349
          },
          {
           "sample_id": 0,
           "timepoint": 279,
           "trajectory": "D_data",
           "value": 33362
          },
          {
           "sample_id": 0,
           "timepoint": 280,
           "trajectory": "D_data",
           "value": 33374
          },
          {
           "sample_id": 0,
           "timepoint": 281,
           "trajectory": "D_data",
           "value": 33395
          },
          {
           "sample_id": 0,
           "timepoint": 282,
           "trajectory": "D_data",
           "value": 33424
          },
          {
           "sample_id": 0,
           "timepoint": 283,
           "trajectory": "D_data",
           "value": 33429
          },
          {
           "sample_id": 0,
           "timepoint": 284,
           "trajectory": "D_data",
           "value": 33449
          },
          {
           "sample_id": 0,
           "timepoint": 285,
           "trajectory": "D_data",
           "value": 33461
          },
          {
           "sample_id": 0,
           "timepoint": 286,
           "trajectory": "D_data",
           "value": 33470
          },
          {
           "sample_id": 0,
           "timepoint": 287,
           "trajectory": "D_data",
           "value": 33488
          },
          {
           "sample_id": 0,
           "timepoint": 288,
           "trajectory": "D_data",
           "value": 33547
          },
          {
           "sample_id": 0,
           "timepoint": 289,
           "trajectory": "D_data",
           "value": 33564
          },
          {
           "sample_id": 0,
           "timepoint": 290,
           "trajectory": "D_data",
           "value": 33576
          },
          {
           "sample_id": 0,
           "timepoint": 291,
           "trajectory": "D_data",
           "value": 33596
          },
          {
           "sample_id": 0,
           "timepoint": 292,
           "trajectory": "D_data",
           "value": 33612
          },
          {
           "sample_id": 0,
           "timepoint": 293,
           "trajectory": "D_data",
           "value": 33631
          },
          {
           "sample_id": 0,
           "timepoint": 294,
           "trajectory": "D_data",
           "value": 33661
          },
          {
           "sample_id": 0,
           "timepoint": 295,
           "trajectory": "D_data",
           "value": 33676
          },
          {
           "sample_id": 0,
           "timepoint": 296,
           "trajectory": "D_data",
           "value": 33692
          },
          {
           "sample_id": 0,
           "timepoint": 297,
           "trajectory": "D_data",
           "value": 33712
          },
          {
           "sample_id": 0,
           "timepoint": 298,
           "trajectory": "D_data",
           "value": 33738
          },
          {
           "sample_id": 0,
           "timepoint": 299,
           "trajectory": "D_data",
           "value": 33753
          },
          {
           "sample_id": 0,
           "timepoint": 300,
           "trajectory": "D_data",
           "value": 33844
          },
          {
           "sample_id": 0,
           "timepoint": 301,
           "trajectory": "D_data",
           "value": 33868
          },
          {
           "sample_id": 0,
           "timepoint": 302,
           "trajectory": "D_data",
           "value": 33894
          },
          {
           "sample_id": 0,
           "timepoint": 303,
           "trajectory": "D_data",
           "value": 33934
          },
          {
           "sample_id": 0,
           "timepoint": 304,
           "trajectory": "D_data",
           "value": 33989
          },
          {
           "sample_id": 0,
           "timepoint": 305,
           "trajectory": "D_data",
           "value": 34015
          },
          {
           "sample_id": 0,
           "timepoint": 306,
           "trajectory": "D_data",
           "value": 34041
          },
          {
           "sample_id": 0,
           "timepoint": 307,
           "trajectory": "D_data",
           "value": 34063
          },
          {
           "sample_id": 0,
           "timepoint": 308,
           "trajectory": "D_data",
           "value": 34089
          },
          {
           "sample_id": 0,
           "timepoint": 309,
           "trajectory": "D_data",
           "value": 34138
          },
          {
           "sample_id": 0,
           "timepoint": 310,
           "trajectory": "D_data",
           "value": 34173
          },
          {
           "sample_id": 0,
           "timepoint": 311,
           "trajectory": "D_data",
           "value": 34212
          },
          {
           "sample_id": 0,
           "timepoint": 312,
           "trajectory": "D_data",
           "value": 34256
          },
          {
           "sample_id": 0,
           "timepoint": 313,
           "trajectory": "D_data",
           "value": 34300
          },
          {
           "sample_id": 0,
           "timepoint": 314,
           "trajectory": "D_data",
           "value": 34352
          },
          {
           "sample_id": 0,
           "timepoint": 315,
           "trajectory": "D_data",
           "value": 34410
          },
          {
           "sample_id": 0,
           "timepoint": 316,
           "trajectory": "D_data",
           "value": 34473
          },
          {
           "sample_id": 0,
           "timepoint": 317,
           "trajectory": "D_data",
           "value": 34529
          },
          {
           "sample_id": 0,
           "timepoint": 318,
           "trajectory": "D_data",
           "value": 34601
          },
          {
           "sample_id": 0,
           "timepoint": 319,
           "trajectory": "D_data",
           "value": 34655
          },
          {
           "sample_id": 0,
           "timepoint": 320,
           "trajectory": "D_data",
           "value": 34722
          },
          {
           "sample_id": 0,
           "timepoint": 321,
           "trajectory": "D_data",
           "value": 34803
          },
          {
           "sample_id": 0,
           "timepoint": 322,
           "trajectory": "D_data",
           "value": 34882
          },
          {
           "sample_id": 0,
           "timepoint": 323,
           "trajectory": "D_data",
           "value": 34968
          },
          {
           "sample_id": 0,
           "timepoint": 324,
           "trajectory": "D_data",
           "value": 35066
          },
          {
           "sample_id": 0,
           "timepoint": 325,
           "trajectory": "D_data",
           "value": 35160
          },
          {
           "sample_id": 0,
           "timepoint": 326,
           "trajectory": "D_data",
           "value": 35271
          },
          {
           "sample_id": 0,
           "timepoint": 327,
           "trajectory": "D_data",
           "value": 35339
          },
          {
           "sample_id": 0,
           "timepoint": 328,
           "trajectory": "D_data",
           "value": 35449
          },
          {
           "sample_id": 0,
           "timepoint": 329,
           "trajectory": "D_data",
           "value": 35566
          },
          {
           "sample_id": 0,
           "timepoint": 330,
           "trajectory": "D_data",
           "value": 35684
          },
          {
           "sample_id": 0,
           "timepoint": 331,
           "trajectory": "D_data",
           "value": 35821
          },
          {
           "sample_id": 0,
           "timepoint": 332,
           "trajectory": "D_data",
           "value": 35943
          },
          {
           "sample_id": 0,
           "timepoint": 333,
           "trajectory": "D_data",
           "value": 36049
          },
          {
           "sample_id": 0,
           "timepoint": 334,
           "trajectory": "D_data",
           "value": 36180
          },
          {
           "sample_id": 0,
           "timepoint": 335,
           "trajectory": "D_data",
           "value": 36332
          },
          {
           "sample_id": 0,
           "timepoint": 336,
           "trajectory": "D_data",
           "value": 36491
          },
          {
           "sample_id": 0,
           "timepoint": 337,
           "trajectory": "D_data",
           "value": 36630
          },
          {
           "sample_id": 0,
           "timepoint": 338,
           "trajectory": "D_data",
           "value": 36758
          },
          {
           "sample_id": 0,
           "timepoint": 339,
           "trajectory": "D_data",
           "value": 36874
          },
          {
           "sample_id": 0,
           "timepoint": 340,
           "trajectory": "D_data",
           "value": 36988
          },
          {
           "sample_id": 0,
           "timepoint": 341,
           "trajectory": "D_data",
           "value": 37118
          },
          {
           "sample_id": 0,
           "timepoint": 342,
           "trajectory": "D_data",
           "value": 37253
          },
          {
           "sample_id": 0,
           "timepoint": 343,
           "trajectory": "D_data",
           "value": 37407
          },
          {
           "sample_id": 0,
           "timepoint": 344,
           "trajectory": "D_data",
           "value": 37544
          },
          {
           "sample_id": 0,
           "timepoint": 345,
           "trajectory": "D_data",
           "value": 37732
          },
          {
           "sample_id": 0,
           "timepoint": 346,
           "trajectory": "D_data",
           "value": 37851
          },
          {
           "sample_id": 0,
           "timepoint": 347,
           "trajectory": "D_data",
           "value": 37992
          },
          {
           "sample_id": 0,
           "timepoint": 348,
           "trajectory": "D_data",
           "value": 38156
          },
          {
           "sample_id": 0,
           "timepoint": 349,
           "trajectory": "D_data",
           "value": 38304
          },
          {
           "sample_id": 0,
           "timepoint": 350,
           "trajectory": "D_data",
           "value": 38461
          },
          {
           "sample_id": 0,
           "timepoint": 351,
           "trajectory": "D_data",
           "value": 38664
          },
          {
           "sample_id": 0,
           "timepoint": 352,
           "trajectory": "D_data",
           "value": 38842
          },
          {
           "sample_id": 0,
           "timepoint": 353,
           "trajectory": "D_data",
           "value": 39027
          },
          {
           "sample_id": 0,
           "timepoint": 354,
           "trajectory": "D_data",
           "value": 39192
          },
          {
           "sample_id": 0,
           "timepoint": 355,
           "trajectory": "D_data",
           "value": 39378
          },
          {
           "sample_id": 0,
           "timepoint": 356,
           "trajectory": "D_data",
           "value": 39558
          },
          {
           "sample_id": 0,
           "timepoint": 357,
           "trajectory": "D_data",
           "value": 39755
          },
          {
           "sample_id": 0,
           "timepoint": 358,
           "trajectory": "D_data",
           "value": 39988
          },
          {
           "sample_id": 0,
           "timepoint": 359,
           "trajectory": "D_data",
           "value": 40178
          },
          {
           "sample_id": 0,
           "timepoint": 360,
           "trajectory": "D_data",
           "value": 40365
          },
          {
           "sample_id": 0,
           "timepoint": 361,
           "trajectory": "D_data",
           "value": 40544
          },
          {
           "sample_id": 0,
           "timepoint": 362,
           "trajectory": "D_data",
           "value": 40722
          },
          {
           "sample_id": 0,
           "timepoint": 363,
           "trajectory": "D_data",
           "value": 40910
          },
          {
           "sample_id": 0,
           "timepoint": 364,
           "trajectory": "D_data",
           "value": 41111
          },
          {
           "sample_id": 0,
           "timepoint": 365,
           "trajectory": "D_data",
           "value": 41315
          },
          {
           "sample_id": 0,
           "timepoint": 366,
           "trajectory": "D_data",
           "value": 41501
          },
          {
           "sample_id": 0,
           "timepoint": 367,
           "trajectory": "D_data",
           "value": 41672
          },
          {
           "sample_id": 0,
           "timepoint": 368,
           "trajectory": "D_data",
           "value": 41846
          },
          {
           "sample_id": 0,
           "timepoint": 369,
           "trajectory": "D_data",
           "value": 42032
          },
          {
           "sample_id": 0,
           "timepoint": 370,
           "trajectory": "D_data",
           "value": 42192
          },
          {
           "sample_id": 0,
           "timepoint": 371,
           "trajectory": "D_data",
           "value": 42399
          },
          {
           "sample_id": 0,
           "timepoint": 372,
           "trajectory": "D_data",
           "value": 42583
          },
          {
           "sample_id": 0,
           "timepoint": 373,
           "trajectory": "D_data",
           "value": 42770
          },
          {
           "sample_id": 0,
           "timepoint": 374,
           "trajectory": "D_data",
           "value": 42947
          },
          {
           "sample_id": 0,
           "timepoint": 375,
           "trajectory": "D_data",
           "value": 43122
          },
          {
           "sample_id": 0,
           "timepoint": 376,
           "trajectory": "D_data",
           "value": 43291
          },
          {
           "sample_id": 0,
           "timepoint": 377,
           "trajectory": "D_data",
           "value": 43455
          },
          {
           "sample_id": 0,
           "timepoint": 378,
           "trajectory": "D_data",
           "value": 43619
          },
          {
           "sample_id": 0,
           "timepoint": 379,
           "trajectory": "D_data",
           "value": 43772
          },
          {
           "sample_id": 0,
           "timepoint": 380,
           "trajectory": "D_data",
           "value": 43942
          },
          {
           "sample_id": 0,
           "timepoint": 381,
           "trajectory": "D_data",
           "value": 44138
          },
          {
           "sample_id": 0,
           "timepoint": 382,
           "trajectory": "D_data",
           "value": 44319
          },
          {
           "sample_id": 0,
           "timepoint": 383,
           "trajectory": "D_data",
           "value": 44451
          },
          {
           "sample_id": 0,
           "timepoint": 384,
           "trajectory": "D_data",
           "value": 44601
          },
          {
           "sample_id": 0,
           "timepoint": 385,
           "trajectory": "D_data",
           "value": 44786
          },
          {
           "sample_id": 0,
           "timepoint": 386,
           "trajectory": "D_data",
           "value": 44929
          },
          {
           "sample_id": 0,
           "timepoint": 387,
           "trajectory": "D_data",
           "value": 45097
          },
          {
           "sample_id": 0,
           "timepoint": 388,
           "trajectory": "D_data",
           "value": 45230
          },
          {
           "sample_id": 0,
           "timepoint": 389,
           "trajectory": "D_data",
           "value": 45383
          },
          {
           "sample_id": 0,
           "timepoint": 390,
           "trajectory": "D_data",
           "value": 45494
          },
          {
           "sample_id": 0,
           "timepoint": 391,
           "trajectory": "D_data",
           "value": 45609
          },
          {
           "sample_id": 0,
           "timepoint": 392,
           "trajectory": "D_data",
           "value": 45744
          },
          {
           "sample_id": 0,
           "timepoint": 393,
           "trajectory": "D_data",
           "value": 45899
          },
          {
           "sample_id": 0,
           "timepoint": 394,
           "trajectory": "D_data",
           "value": 46067
          },
          {
           "sample_id": 0,
           "timepoint": 395,
           "trajectory": "D_data",
           "value": 46195
          },
          {
           "sample_id": 0,
           "timepoint": 396,
           "trajectory": "D_data",
           "value": 46304
          },
          {
           "sample_id": 0,
           "timepoint": 397,
           "trajectory": "D_data",
           "value": 46401
          },
          {
           "sample_id": 0,
           "timepoint": 398,
           "trajectory": "D_data",
           "value": 46508
          },
          {
           "sample_id": 0,
           "timepoint": 399,
           "trajectory": "D_data",
           "value": 46632
          },
          {
           "sample_id": 0,
           "timepoint": 400,
           "trajectory": "D_data",
           "value": 46755
          },
          {
           "sample_id": 0,
           "timepoint": 401,
           "trajectory": "D_data",
           "value": 46881
          },
          {
           "sample_id": 0,
           "timepoint": 402,
           "trajectory": "D_data",
           "value": 46991
          },
          {
           "sample_id": 0,
           "timepoint": 403,
           "trajectory": "D_data",
           "value": 47095
          },
          {
           "sample_id": 0,
           "timepoint": 404,
           "trajectory": "D_data",
           "value": 47187
          },
          {
           "sample_id": 0,
           "timepoint": 405,
           "trajectory": "D_data",
           "value": 47293
          },
          {
           "sample_id": 0,
           "timepoint": 406,
           "trajectory": "D_data",
           "value": 47413
          },
          {
           "sample_id": 0,
           "timepoint": 407,
           "trajectory": "D_data",
           "value": 47536
          },
          {
           "sample_id": 0,
           "timepoint": 408,
           "trajectory": "D_data",
           "value": 47650
          },
          {
           "sample_id": 0,
           "timepoint": 409,
           "trajectory": "D_data",
           "value": 47752
          },
          {
           "sample_id": 0,
           "timepoint": 410,
           "trajectory": "D_data",
           "value": 47840
          },
          {
           "sample_id": 0,
           "timepoint": 411,
           "trajectory": "D_data",
           "value": 47910
          },
          {
           "sample_id": 0,
           "timepoint": 412,
           "trajectory": "D_data",
           "value": 47984
          },
          {
           "sample_id": 0,
           "timepoint": 413,
           "trajectory": "D_data",
           "value": 48062
          },
          {
           "sample_id": 0,
           "timepoint": 414,
           "trajectory": "D_data",
           "value": 48181
          },
          {
           "sample_id": 0,
           "timepoint": 415,
           "trajectory": "D_data",
           "value": 48263
          },
          {
           "sample_id": 0,
           "timepoint": 416,
           "trajectory": "D_data",
           "value": 48358
          },
          {
           "sample_id": 0,
           "timepoint": 417,
           "trajectory": "D_data",
           "value": 48449
          },
          {
           "sample_id": 0,
           "timepoint": 418,
           "trajectory": "D_data",
           "value": 48523
          },
          {
           "sample_id": 0,
           "timepoint": 419,
           "trajectory": "D_data",
           "value": 48605
          },
          {
           "sample_id": 0,
           "timepoint": 420,
           "trajectory": "D_data",
           "value": 48673
          },
          {
           "sample_id": 0,
           "timepoint": 421,
           "trajectory": "D_data",
           "value": 48764
          },
          {
           "sample_id": 0,
           "timepoint": 422,
           "trajectory": "D_data",
           "value": 48852
          },
          {
           "sample_id": 0,
           "timepoint": 423,
           "trajectory": "D_data",
           "value": 48920
          },
          {
           "sample_id": 0,
           "timepoint": 424,
           "trajectory": "D_data",
           "value": 48945
          },
          {
           "sample_id": 0,
           "timepoint": 425,
           "trajectory": "D_data",
           "value": 48963
          },
          {
           "sample_id": 0,
           "timepoint": 426,
           "trajectory": "D_data",
           "value": 48981
          },
          {
           "sample_id": 0,
           "timepoint": 427,
           "trajectory": "D_data",
           "value": 49227
          },
          {
           "sample_id": 0,
           "timepoint": 428,
           "trajectory": "D_data",
           "value": 49299
          },
          {
           "sample_id": 0,
           "timepoint": 429,
           "trajectory": "D_data",
           "value": 49359
          },
          {
           "sample_id": 0,
           "timepoint": 430,
           "trajectory": "D_data",
           "value": 49446
          },
          {
           "sample_id": 0,
           "timepoint": 431,
           "trajectory": "D_data",
           "value": 49532
          },
          {
           "sample_id": 0,
           "timepoint": 432,
           "trajectory": "D_data",
           "value": 49682
          },
          {
           "sample_id": 0,
           "timepoint": 433,
           "trajectory": "D_data",
           "value": 49712
          },
          {
           "sample_id": 0,
           "timepoint": 434,
           "trajectory": "D_data",
           "value": 49790
          },
          {
           "sample_id": 0,
           "timepoint": 435,
           "trajectory": "D_data",
           "value": 49873
          },
          {
           "sample_id": 0,
           "timepoint": 436,
           "trajectory": "D_data",
           "value": 49958
          },
          {
           "sample_id": 0,
           "timepoint": 437,
           "trajectory": "D_data",
           "value": 50044
          },
          {
           "sample_id": 0,
           "timepoint": 438,
           "trajectory": "D_data",
           "value": 50125
          },
          {
           "sample_id": 0,
           "timepoint": 439,
           "trajectory": "D_data",
           "value": 50199
          },
          {
           "sample_id": 0,
           "timepoint": 440,
           "trajectory": "D_data",
           "value": 50245
          },
          {
           "sample_id": 0,
           "timepoint": 441,
           "trajectory": "D_data",
           "value": 50317
          },
          {
           "sample_id": 0,
           "timepoint": 442,
           "trajectory": "D_data",
           "value": 50390
          },
          {
           "sample_id": 0,
           "timepoint": 443,
           "trajectory": "D_data",
           "value": 50467
          },
          {
           "sample_id": 0,
           "timepoint": 444,
           "trajectory": "D_data",
           "value": 50535
          },
          {
           "sample_id": 0,
           "timepoint": 445,
           "trajectory": "D_data",
           "value": 50611
          },
          {
           "sample_id": 0,
           "timepoint": 446,
           "trajectory": "D_data",
           "value": 50698
          },
          {
           "sample_id": 0,
           "timepoint": 447,
           "trajectory": "D_data",
           "value": 50746
          },
          {
           "sample_id": 0,
           "timepoint": 448,
           "trajectory": "D_data",
           "value": 50821
          },
          {
           "sample_id": 0,
           "timepoint": 449,
           "trajectory": "D_data",
           "value": 50901
          },
          {
           "sample_id": 0,
           "timepoint": 450,
           "trajectory": "D_data",
           "value": 50972
          },
          {
           "sample_id": 0,
           "timepoint": 451,
           "trajectory": "D_data",
           "value": 51049
          },
          {
           "sample_id": 0,
           "timepoint": 452,
           "trajectory": "D_data",
           "value": 51097
          },
          {
           "sample_id": 0,
           "timepoint": 453,
           "trajectory": "D_data",
           "value": 51144
          },
          {
           "sample_id": 0,
           "timepoint": 454,
           "trajectory": "D_data",
           "value": 51207
          },
          {
           "sample_id": 0,
           "timepoint": 455,
           "trajectory": "D_data",
           "value": 51249
          },
          {
           "sample_id": 0,
           "timepoint": 456,
           "trajectory": "D_data",
           "value": 51335
          },
          {
           "sample_id": 0,
           "timepoint": 457,
           "trajectory": "D_data",
           "value": 51398
          },
          {
           "sample_id": 0,
           "timepoint": 458,
           "trajectory": "D_data",
           "value": 51455
          },
          {
           "sample_id": 0,
           "timepoint": 459,
           "trajectory": "D_data",
           "value": 51511
          },
          {
           "sample_id": 0,
           "timepoint": 460,
           "trajectory": "D_data",
           "value": 51545
          },
          {
           "sample_id": 0,
           "timepoint": 461,
           "trajectory": "D_data",
           "value": 51615
          },
          {
           "sample_id": 0,
           "timepoint": 462,
           "trajectory": "D_data",
           "value": 51643
          },
          {
           "sample_id": 0,
           "timepoint": 463,
           "trajectory": "D_data",
           "value": 51714
          },
          {
           "sample_id": 0,
           "timepoint": 464,
           "trajectory": "D_data",
           "value": 51766
          },
          {
           "sample_id": 0,
           "timepoint": 465,
           "trajectory": "D_data",
           "value": 51819
          },
          {
           "sample_id": 0,
           "timepoint": 466,
           "trajectory": "D_data",
           "value": 51865
          },
          {
           "sample_id": 0,
           "timepoint": 467,
           "trajectory": "D_data",
           "value": 51920
          },
          {
           "sample_id": 0,
           "timepoint": 468,
           "trajectory": "D_data",
           "value": 51973
          },
          {
           "sample_id": 0,
           "timepoint": 469,
           "trajectory": "D_data",
           "value": 52027
          },
          {
           "sample_id": 0,
           "timepoint": 470,
           "trajectory": "D_data",
           "value": 52072
          },
          {
           "sample_id": 0,
           "timepoint": 471,
           "trajectory": "D_data",
           "value": 52118
          },
          {
           "sample_id": 0,
           "timepoint": 472,
           "trajectory": "D_data",
           "value": 52167
          },
          {
           "sample_id": 0,
           "timepoint": 473,
           "trajectory": "D_data",
           "value": 52201
          },
          {
           "sample_id": 0,
           "timepoint": 474,
           "trajectory": "D_data",
           "value": 52238
          },
          {
           "sample_id": 0,
           "timepoint": 475,
           "trajectory": "D_data",
           "value": 52273
          },
          {
           "sample_id": 0,
           "timepoint": 476,
           "trajectory": "D_data",
           "value": 52319
          },
          {
           "sample_id": 0,
           "timepoint": 477,
           "trajectory": "D_data",
           "value": 52363
          },
          {
           "sample_id": 0,
           "timepoint": 478,
           "trajectory": "D_data",
           "value": 52411
          },
          {
           "sample_id": 0,
           "timepoint": 479,
           "trajectory": "D_data",
           "value": 52422
          },
          {
           "sample_id": 0,
           "timepoint": 480,
           "trajectory": "D_data",
           "value": 52468
          },
          {
           "sample_id": 0,
           "timepoint": 481,
           "trajectory": "D_data",
           "value": 52495
          },
          {
           "sample_id": 0,
           "timepoint": 482,
           "trajectory": "D_data",
           "value": 52528
          },
          {
           "sample_id": 0,
           "timepoint": 483,
           "trajectory": "D_data",
           "value": 52552
          },
          {
           "sample_id": 0,
           "timepoint": 484,
           "trajectory": "D_data",
           "value": 52582
          },
          {
           "sample_id": 0,
           "timepoint": 485,
           "trajectory": "D_data",
           "value": 52609
          },
          {
           "sample_id": 0,
           "timepoint": 486,
           "trajectory": "D_data",
           "value": 52636
          },
          {
           "sample_id": 0,
           "timepoint": 487,
           "trajectory": "D_data",
           "value": 52653
          },
          {
           "sample_id": 0,
           "timepoint": 488,
           "trajectory": "D_data",
           "value": 52683
          },
          {
           "sample_id": 0,
           "timepoint": 489,
           "trajectory": "D_data",
           "value": 52702
          },
          {
           "sample_id": 0,
           "timepoint": 490,
           "trajectory": "D_data",
           "value": 52728
          },
          {
           "sample_id": 0,
           "timepoint": 491,
           "trajectory": "D_data",
           "value": 52748
          },
          {
           "sample_id": 0,
           "timepoint": 492,
           "trajectory": "D_data",
           "value": 52771
          },
          {
           "sample_id": 0,
           "timepoint": 493,
           "trajectory": "D_data",
           "value": 52795
          },
          {
           "sample_id": 0,
           "timepoint": 494,
           "trajectory": "D_data",
           "value": 52812
          },
          {
           "sample_id": 0,
           "timepoint": 495,
           "trajectory": "D_data",
           "value": 52825
          },
          {
           "sample_id": 0,
           "timepoint": 496,
           "trajectory": "D_data",
           "value": 52849
          },
          {
           "sample_id": 0,
           "timepoint": 497,
           "trajectory": "D_data",
           "value": 52858
          },
          {
           "sample_id": 0,
           "timepoint": 498,
           "trajectory": "D_data",
           "value": 52879
          },
          {
           "sample_id": 0,
           "timepoint": 499,
           "trajectory": "D_data",
           "value": 52934
          },
          {
           "sample_id": 0,
           "timepoint": 500,
           "trajectory": "D_data",
           "value": 52953
          },
          {
           "sample_id": 0,
           "timepoint": 501,
           "trajectory": "D_data",
           "value": 52981
          },
          {
           "sample_id": 0,
           "timepoint": 502,
           "trajectory": "D_data",
           "value": 52991
          },
          {
           "sample_id": 0,
           "timepoint": 503,
           "trajectory": "D_data",
           "value": 53011
          },
          {
           "sample_id": 0,
           "timepoint": 504,
           "trajectory": "D_data",
           "value": 53019
          },
          {
           "sample_id": 0,
           "timepoint": 505,
           "trajectory": "D_data",
           "value": 53031
          },
          {
           "sample_id": 0,
           "timepoint": 506,
           "trajectory": "D_data",
           "value": 53052
          },
          {
           "sample_id": 0,
           "timepoint": 507,
           "trajectory": "D_data",
           "value": 53070
          },
          {
           "sample_id": 0,
           "timepoint": 508,
           "trajectory": "D_data",
           "value": 53081
          },
          {
           "sample_id": 0,
           "timepoint": 509,
           "trajectory": "D_data",
           "value": 53089
          },
          {
           "sample_id": 0,
           "timepoint": 510,
           "trajectory": "D_data",
           "value": 53100
          },
          {
           "sample_id": 0,
           "timepoint": 511,
           "trajectory": "D_data",
           "value": 53103
          },
          {
           "sample_id": 0,
           "timepoint": 512,
           "trajectory": "D_data",
           "value": 53111
          },
          {
           "sample_id": 0,
           "timepoint": 513,
           "trajectory": "D_data",
           "value": 53121
          },
          {
           "sample_id": 0,
           "timepoint": 514,
           "trajectory": "D_data",
           "value": 53129
          },
          {
           "sample_id": 0,
           "timepoint": 515,
           "trajectory": "D_data",
           "value": 53132
          },
          {
           "sample_id": 0,
           "timepoint": 516,
           "trajectory": "D_data",
           "value": 53139
          },
          {
           "sample_id": 0,
           "timepoint": 517,
           "trajectory": "D_data",
           "value": 53151
          },
          {
           "sample_id": 0,
           "timepoint": 518,
           "trajectory": "D_data",
           "value": 53156
          },
          {
           "sample_id": 0,
           "timepoint": 519,
           "trajectory": "D_data",
           "value": 53158
          },
          {
           "sample_id": 0,
           "timepoint": 520,
           "trajectory": "D_data",
           "value": 53168
          },
          {
           "sample_id": 0,
           "timepoint": 521,
           "trajectory": "D_data",
           "value": 53178
          },
          {
           "sample_id": 0,
           "timepoint": 522,
           "trajectory": "D_data",
           "value": 53189
          },
          {
           "sample_id": 0,
           "timepoint": 523,
           "trajectory": "D_data",
           "value": 53196
          },
          {
           "sample_id": 0,
           "timepoint": 524,
           "trajectory": "D_data",
           "value": 53202
          },
          {
           "sample_id": 0,
           "timepoint": 525,
           "trajectory": "D_data",
           "value": 53204
          },
          {
           "sample_id": 0,
           "timepoint": 526,
           "trajectory": "D_data",
           "value": 53214
          },
          {
           "sample_id": 0,
           "timepoint": 527,
           "trajectory": "D_data",
           "value": 53219
          },
          {
           "sample_id": 0,
           "timepoint": 528,
           "trajectory": "D_data",
           "value": 53219
          },
          {
           "sample_id": 0,
           "timepoint": 529,
           "trajectory": "D_data",
           "value": 53227
          },
          {
           "sample_id": 0,
           "timepoint": 530,
           "trajectory": "D_data",
           "value": 53230
          },
          {
           "sample_id": 0,
           "timepoint": 531,
           "trajectory": "D_data",
           "value": 53240
          },
          {
           "sample_id": 0,
           "timepoint": 532,
           "trajectory": "D_data",
           "value": 53245
          },
          {
           "sample_id": 0,
           "timepoint": 533,
           "trajectory": "D_data",
           "value": 53250
          },
          {
           "sample_id": 0,
           "timepoint": 534,
           "trajectory": "D_data",
           "value": 53255
          },
          {
           "sample_id": 0,
           "timepoint": 535,
           "trajectory": "D_data",
           "value": 53265
          },
          {
           "sample_id": 0,
           "timepoint": 536,
           "trajectory": "D_data",
           "value": 53267
          },
          {
           "sample_id": 0,
           "timepoint": 537,
           "trajectory": "D_data",
           "value": 53269
          },
          {
           "sample_id": 0,
           "timepoint": 538,
           "trajectory": "D_data",
           "value": 53273
          },
          {
           "sample_id": 0,
           "timepoint": 539,
           "trajectory": "D_data",
           "value": 53283
          },
          {
           "sample_id": 0,
           "timepoint": 540,
           "trajectory": "D_data",
           "value": 53287
          },
          {
           "sample_id": 0,
           "timepoint": 541,
           "trajectory": "D_data",
           "value": 53288
          },
          {
           "sample_id": 0,
           "timepoint": 542,
           "trajectory": "D_data",
           "value": 53296
          },
          {
           "sample_id": 0,
           "timepoint": 543,
           "trajectory": "D_data",
           "value": 53304
          },
          {
           "sample_id": 0,
           "timepoint": 544,
           "trajectory": "D_data",
           "value": 53308
          },
          {
           "sample_id": 0,
           "timepoint": 545,
           "trajectory": "D_data",
           "value": 53312
          },
          {
           "sample_id": 0,
           "timepoint": 546,
           "trajectory": "D_data",
           "value": 53318
          },
          {
           "sample_id": 0,
           "timepoint": 547,
           "trajectory": "D_data",
           "value": 53325
          },
          {
           "sample_id": 0,
           "timepoint": 548,
           "trajectory": "D_data",
           "value": 53328
          },
          {
           "sample_id": 0,
           "timepoint": 549,
           "trajectory": "D_data",
           "value": 53330
          },
          {
           "sample_id": 0,
           "timepoint": 550,
           "trajectory": "D_data",
           "value": 53339
          },
          {
           "sample_id": 0,
           "timepoint": 551,
           "trajectory": "D_data",
           "value": 53345
          },
          {
           "sample_id": 0,
           "timepoint": 552,
           "trajectory": "D_data",
           "value": 53347
          },
          {
           "sample_id": 0,
           "timepoint": 553,
           "trajectory": "D_data",
           "value": 53357
          },
          {
           "sample_id": 0,
           "timepoint": 554,
           "trajectory": "D_data",
           "value": 53361
          },
          {
           "sample_id": 0,
           "timepoint": 555,
           "trajectory": "D_data",
           "value": 53368
          },
          {
           "sample_id": 0,
           "timepoint": 556,
           "trajectory": "D_data",
           "value": 53378
          },
          {
           "sample_id": 0,
           "timepoint": 557,
           "trajectory": "D_data",
           "value": 53385
          },
          {
           "sample_id": 0,
           "timepoint": 558,
           "trajectory": "D_data",
           "value": 53392
          },
          {
           "sample_id": 0,
           "timepoint": 559,
           "trajectory": "D_data",
           "value": 53402
          },
          {
           "sample_id": 0,
           "timepoint": 560,
           "trajectory": "D_data",
           "value": 53405
          },
          {
           "sample_id": 0,
           "timepoint": 561,
           "trajectory": "D_data",
           "value": 53420
          },
          {
           "sample_id": 0,
           "timepoint": 562,
           "trajectory": "D_data",
           "value": 53428
          },
          {
           "sample_id": 0,
           "timepoint": 563,
           "trajectory": "D_data",
           "value": 53459
          },
          {
           "sample_id": 0,
           "timepoint": 564,
           "trajectory": "D_data",
           "value": 53472
          },
          {
           "sample_id": 0,
           "timepoint": 565,
           "trajectory": "D_data",
           "value": 53478
          },
          {
           "sample_id": 0,
           "timepoint": 566,
           "trajectory": "D_data",
           "value": 53488
          },
          {
           "sample_id": 0,
           "timepoint": 567,
           "trajectory": "D_data",
           "value": 53522
          },
          {
           "sample_id": 0,
           "timepoint": 568,
           "trajectory": "D_data",
           "value": 53548
          }
         ]
        },
        {
         "name": "markers",
         "values": []
        },
        {
         "name": "selected",
         "on": [
          {
           "remove": true,
           "trigger": "clear"
          },
          {
           "remove": true,
           "trigger": "!shift"
          },
          {
           "insert": "clicked",
           "trigger": "!shift && clicked"
          },
          {
           "toggle": "clicked",
           "trigger": "shift && clicked"
          }
         ]
        }
       ],
       "height": 300,
       "legends": [
        {
         "encode": {
          "labels": {
           "interactive": true,
           "name": "legendLabel",
           "update": {
            "opacity": [
             {
              "test": "!length(data('selected')) || indata('selected', 'value', datum.value)",
              "value": 1
             },
             {
              "value": 0.25
             }
            ]
           }
          },
          "symbols": {
           "interactive": true,
           "name": "legendSymbol",
           "update": {
            "fill": {
             "value": "transparent"
            },
            "opacity": [
             {
              "test": "!length(data('selected')) || indata('selected', 'value', datum.value)",
              "value": 0.7
             },
             {
              "value": 0.15
             }
            ],
            "size": {
             "value": 64
            },
            "strokeWidth": {
             "value": 2
            }
           }
          }
         },
         "name": "color_legend",
         "stroke": "color"
        }
       ],
       "marks": [
        {
         "from": {
          "facet": {
           "data": "points",
           "groupby": "trajectory",
           "name": "points_split"
          }
         },
         "marks": [
          {
           "encode": {
            "hover": {
             "fillOpacity": {
              "value": 0.9
             }
            },
            "update": {
             "fill": {
              "field": "trajectory",
              "scale": "color"
             },
             "fillOpacity": [
              {
               "test": "!length(data('selected')) || indata('selected', 'value', datum.trajectory)",
               "value": 0.5
              },
              {
               "value": 0.15
              }
             ],
             "size": {
              "value": 10
             },
             "stroke": {
              "field": "trajectory",
              "scale": "color"
             },
             "strokeOpacity": [
              {
               "test": "!length(data('selected')) || indata('selected', 'value', datum.trajectory)",
               "value": 0.75
              },
              {
               "value": 0.15
              }
             ],
             "strokeWidth": {
              "value": 2
             },
             "tooltip": {
              "field": "value"
             },
             "x": {
              "field": "timepoint",
              "scale": "xscale"
             },
             "y": {
              "field": "value",
              "scale": "yscale"
             }
            }
           },
           "from": {
            "data": "points"
           },
           "name": "_points_symbol",
           "type": "symbol",
           "zindex": 3
          },
          {
           "encode": {
            "hover": {
             "fillOpacity": {
              "value": 0.9
             }
            },
            "update": {
             "interpolate": {
              "value": "linear"
             },
             "stroke": {
              "field": "trajectory",
              "scale": "color"
             },
             "strokeOpacity": [
              {
               "test": "!length(data('selected')) || indata('selected', 'value', datum.trajectory)",
               "value": 0.3
              },
              {
               "value": 0.1
              }
             ],
             "strokeWidth": {
              "value": 2
             },
             "x": {
              "field": "timepoint",
              "scale": "xscale"
             },
             "y": {
              "field": "value",
              "scale": "yscale"
             }
            }
           },
           "from": {
            "data": "points"
           },
           "name": "_points_line",
           "type": "line",
           "zindex": 3
          }
         ],
         "name": "_points",
         "type": "group",
         "zindex": 3
        },
        {
         "from": {
          "facet": {
           "data": "traces",
           "groupby": "trajectory",
           "name": "traces_split"
          }
         },
         "marks": [
          {
           "encode": {
            "hover": {
             "fillOpacity": {
              "value": 0.9
             }
            },
            "update": {
             "interpolate": {
              "value": "linear"
             },
             "stroke": {
              "field": "trajectory",
              "scale": "color"
             },
             "strokeOpacity": [
              {
               "test": "!length(data('selected')) || indata('selected', 'value', datum.trajectory)",
               "value": 0.75
              },
              {
               "value": 0.15
              }
             ],
             "strokeWidth": {
              "value": 2
             },
             "x": {
              "field": "timepoint",
              "scale": "xscale"
             },
             "y": {
              "field": "value",
              "scale": "yscale"
             }
            }
           },
           "from": {
            "data": "traces_split"
           },
           "name": "_traces_lines",
           "type": "line"
          }
         ],
         "name": "_traces",
         "type": "group",
         "zindex": 2
        },
        {
         "from": {
          "facet": {
           "data": "distributions",
           "groupby": "trajectory",
           "name": "trajectory_split"
          }
         },
         "marks": [
          {
           "encode": {
            "hover": {
             "fillOpacity": {
              "value": 0.9
             }
            },
            "update": {
             "fill": {
              "field": "trajectory",
              "scale": "color"
             },
             "fillOpacity": [
              {
               "test": "!length(data('selected')) || indata('selected', 'value', datum.trajectory)",
               "value": 0.5
              },
              {
               "value": 0.15
              }
             ],
             "interpolate": {
              "value": "linear"
             },
             "stroke": {
              "field": "trajectory",
              "scale": "color"
             },
             "strokeOpacity": [
              {
               "test": "!length(data('selected')) || indata('selected', 'value', datum.trajectory)",
               "value": 0.75
              },
              {
               "value": 0.15
              }
             ],
             "strokeWidth": {
              "value": 2
             },
             "x": {
              "field": "timepoint",
              "scale": "xscale"
             },
             "y": {
              "field": "upper",
              "scale": "yscale"
             },
             "y2": {
              "field": "lower",
              "scale": "yscale"
             }
            }
           },
           "from": {
            "data": "trajectory_split"
           },
           "type": "area"
          }
         ],
         "name": "_distributions",
         "type": "group",
         "zindex": 1
        },
        {
         "marks": [
          {
           "encode": {
            "enter": {
             "stroke": {
              "value": "lightgray"
             }
            },
            "update": {
             "opacity": {
              "value": 1
             },
             "x": {
              "field": "timepoint",
              "scale": "xscale"
             },
             "y": {
              "signal": "height"
             },
             "y2": {
              "value": 0
             }
            }
           },
           "from": {
            "data": "markers"
           },
           "name": "_marker text",
           "type": "rule"
          },
          {
           "encode": {
            "enter": {
             "fontSize": {
              "value": 8
             },
             "text": {
              "field": "datum.label"
             },
             "y": {
              "value": 0
             }
            }
           },
           "from": {
            "data": "_marker text"
           },
           "name": "_marker flags",
           "transform": [
            {
             "as": [
              "x",
              "_y",
              "opacity",
              "align",
              "baseline"
             ],
             "lineAnchor": "start",
             "offset": [
              1
             ],
             "size": {
              "signal": "[width, height]"
             },
             "type": "label"
            }
           ],
           "type": "text"
          }
         ],
         "name": "_markers",
         "type": "group"
        }
       ],
       "padding": 5,
       "scales": [
        {
         "domain": {
          "fields": [
           {
            "data": "distributions",
            "field": "timepoint"
           },
           {
            "data": "traces",
            "field": "timepoint"
           },
           {
            "data": "points",
            "field": "timepoint"
           },
           {
            "data": "markers",
            "field": "timepoint"
           }
          ]
         },
         "name": "xscale",
         "range": "width",
         "type": "linear",
         "zero": false
        },
        {
         "domain": {
          "fields": [
           {
            "data": "distributions",
            "field": "lower"
           },
           {
            "data": "distributions",
            "field": "upper"
           },
           {
            "data": "traces",
            "field": "value"
           },
           {
            "data": "points",
            "field": "value"
           }
          ]
         },
         "name": "yscale",
         "nice": true,
         "range": "height",
         "type": "linear",
         "zero": true
        },
        {
         "domain": {
          "fields": [
           {
            "data": "distributions",
            "field": "trajectory"
           },
           {
            "data": "traces",
            "field": "trajectory"
           },
           {
            "data": "points",
            "field": "trajectory"
           }
          ]
         },
         "name": "color",
         "range": "category",
         "type": "ordinal"
        }
       ],
       "signals": [
        {
         "name": "clear",
         "on": [
          {
           "events": "mouseup[!event.item]",
           "force": true,
           "update": "true"
          }
         ],
         "value": true
        },
        {
         "name": "shift",
         "on": [
          {
           "events": "@legendSymbol:click, @legendLabel:click",
           "force": true,
           "update": "event.shiftKey"
          }
         ],
         "value": false
        },
        {
         "name": "clicked",
         "on": [
          {
           "events": "@legendSymbol:click, @legendLabel:click",
           "force": true,
           "update": "{value: datum.value}"
          }
         ],
         "value": null
        }
       ],
       "width": 500
      }
     },
     "metadata": {},
     "output_type": "display_data"
    }
   ],
   "source": [
    "num_samples = 2\n",
    "model_paths = [model1_location]\n",
    "data_path = \"../../notebook/ensemble_eval_sa/NY_data2.csv\"\n",
    "weights = [1]\n",
    "solution_mappings = [{\"I\": \"I\", \"H\": \"H\", \"D\": \"D\"}] # \"column name in data\": \"observable or state variable in model\"\n",
    "\n",
    "# Run the calibration and sampling\n",
    "result = load_and_calibrate_and_sample_ensemble_model(\n",
    "    model_paths,\n",
    "    data_path,\n",
    "    weights,\n",
    "    solution_mappings,\n",
    "    num_samples,\n",
    "    timepoints,\n",
    "    verbose=True,\n",
    "    total_population=19340000,\n",
    "    num_iterations=100,\n",
    "    time_unit=\"days\",\n",
    "    visual_options={\"title\": \"Calibrated Ensemble\", \"subset\":\".*_sol\"}\n",
    ")\n",
    "\n",
    "# # Save results\n",
    "# result[\"data\"].to_csv(\n",
    "#     os.path.join(DEMO_PATH, \"results_petri_ensemble/calibrated_sample_results.csv\"), index=False\n",
    "# )\n",
    "# result[\"quantiles\"].to_csv(\n",
    "#     os.path.join(DEMO_PATH, \"results_petri_ensemble/calibrated_quantile_results.csv\"), index=False\n",
    "# )\n",
    "\n",
    "# Plot results\n",
    "schema = plots.trajectories(pd.DataFrame(result[\"data\"]), subset=\".*_sol\",\n",
    "                            points=test_data.reset_index(drop=True).rename(columns={\"I\":\"I_data\", \"H\":\"H_data\", \"D\":\"D_data\"}),\n",
    "                           )\n",
    "schema = plots.pad(schema, 5)\n",
    "plots.ipy_display(schema)"
   ]
  },
  {
   "cell_type": "markdown",
   "id": "847f9a21-870a-4b07-804b-1c44d474c094",
   "metadata": {},
   "source": [
    "## Load, calibrate and sample an ensemble of several models"
   ]
  },
  {
   "cell_type": "code",
   "execution_count": 6,
   "id": "7e10b282-a55a-4e72-afea-cb6c752f25c5",
   "metadata": {},
   "outputs": [
    {
     "name": "stderr",
     "output_type": "stream",
     "text": [
      "ERROR:root:\n",
      "                ###############################\n",
      "\n",
      "                There was an exception in pyciemss\n",
      "                \n",
      "                Error occured in function: load_and_calibrate_and_sample_ensemble_model\n",
      "\n",
      "                Function docs : \n",
      "    Load a collection petri net from a file, compile them into an ensemble probabilistic program, calibrate it on data,\n",
      "    and sample from the calibrated model.\n",
      "\n",
      "    Args:\n",
      "        petri_model_or_paths: Iterable[Union[str, mira.metamodel.TemplateModel, mira.modeling.Model]\n",
      "            - Each element of the iterable is a path to a petri net file, or a petri net object.\n",
      "            - This path can be a URL or a local path to a mira model or AMR model.\n",
      "            - Alternatively, this can be a mira template model directly.\n",
      "        data_path: str\n",
      "            - The path to the data to calibrate the model to. See notebook/integration_demo/data.csv\n",
      "              for an example of the format.\n",
      "            - The data should be a csv with one column for \"time\" and remaining columns for each state variable.\n",
      "            - Each state variable must exactly align with the state variables in the shared ensemble representation.\n",
      "              (See `solution_mappings` for more details.)\n",
      "        weights: Iterable[float]\n",
      "            - Weights representing prior belief about which models are more likely to be correct.\n",
      "            - By convention these weights should sum to 1.0.\n",
      "        solution_mappings: Iterable[Callable]\n",
      "            - A list of functions that map the output of the model to the output of the shared state space.\n",
      "            - Each element of the iterable is a function that takes in a model output and returns a dict of\n",
      "              the form {variable_name: value}.\n",
      "            - The order of the functions should match the order of the models.\n",
      "        num_samples: int\n",
      "            - The number of samples to draw from the model.\n",
      "        timepoints: [Iterable[float]]\n",
      "            - The timepoints to simulate the model from. Backcasting and/or forecasting is reflected\n",
      "              in the choice of timepoints.\n",
      "        start_states: Optional[Iterable[dict[str, float]]]\n",
      "            - Each element of the iterable is the initial state of the component model.\n",
      "            - If None, the initial state is taken from each of the mira models.\n",
      "            - Note: Currently users must specify the initial state for all or none of the models.\n",
      "        total_population: float > 0.0\n",
      "            - The total population of the model. This is used to scale the model to the correct population.\n",
      "        pseudocount: float > 0.0\n",
      "            - The pseudocount to use for adding uncertainty to the observations.\n",
      "            - Larger values of pseudocount correspond to more certainty about the observations.\n",
      "        dirichlet_concentration: float > 0.0\n",
      "            - The concentration parameter for the dirichlet distribution used to sample the ensemble mixture weights.\n",
      "            - Larger values of dirichlet_concentration correspond to more certainty about the weights.\n",
      "        start_time: float\n",
      "            - The start time of the model. This is used to align the `start_state` with the `timepoints`.\n",
      "            - By default we set the `start_time` to be a small negative number to avoid numerical issues\n",
      "              w/ collision with the `timepoints` which typically start at 0.\n",
      "        num_iterations: int\n",
      "            - The number of iterations to run the calibration for.\n",
      "        lr: float\n",
      "            - The learning rate to use for the calibration.\n",
      "        verbose: bool\n",
      "            - Whether to print out the calibration progress. This will include summaries of the evidence lower\n",
      "              bound (ELBO) and the parameters.\n",
      "        verbose_every: int\n",
      "            - How often to print out the loss during calibration.\n",
      "        num_particles: int\n",
      "            - The number of particles to use for the calibration. Increasing this value will result in lower variance\n",
      "              gradient estimates, but will also increase the computational cost per gradient step.\n",
      "        autoguide: pyro.infer.autoguide.AutoGuide\n",
      "            - The autoguide to use for the calibration.\n",
      "        method: str\n",
      "            - The method to use for the ODE solver. See `torchdiffeq.odeint` for more details.\n",
      "            - If performance is incredibly slow, we suggest using `euler` to debug. If using `euler` results\n",
      "              in faster simulation, the issue is likely that the model is stiff.\n",
      "        time_unit: str\n",
      "            - Time unit (used for labeling outputs)\n",
      "        visual_options: None, bool, dict[str, any]\n",
      "            - True output a visual\n",
      "            - False do not output a visual\n",
      "            - dict output a visual with the dictionary passed to the visualization as kwargs\n",
      "        alpha_qs: Optional[Iterable[float]]\n",
      "            - The quantiles required for estimating weighted interval score to test ensemble forecasting accuracy.\n",
      "        stacking_order: Optional[str]\n",
      "            - The stacking order requested for the ensemble quantiles to keep the selected quantity together for each state.\n",
      "            - Options: \"timepoints\" or \"quantiles\"\n",
      "\n",
      "    Returns:\n",
      "        result: dict\n",
      "            - Dictionary of outputs with following attribute:\n",
      "                * data: The samples from the calibrated model as a pandas DataFrame.\n",
      "                * quantiles: The quantiles for ensemble score calculation after calibration as a pandas DataFrames.\n",
      "                * visual: Visualization. (If visual_options is truthy)\n",
      "    \n",
      "\n",
      "                ################################\n",
      "            \n",
      "Traceback (most recent call last):\n",
      "  File \"/Users/altu809/Projects/pyciemss/src/pyciemss/custom_decorators.py\", line 9, in wrapped\n",
      "    result = function(*args, **kwargs)\n",
      "  File \"/Users/altu809/Projects/pyciemss/src/pyciemss/Ensemble/interfaces.py\", line 289, in load_and_calibrate_and_sample_ensemble_model\n",
      "    models = [\n",
      "  File \"/Users/altu809/Projects/pyciemss/src/pyciemss/Ensemble/interfaces.py\", line 290, in <listcomp>\n",
      "    load_petri_model(\n",
      "  File \"/Users/altu809/Projects/pyciemss/src/pyciemss/PetriNetODE/interfaces.py\", line 767, in load_petri_model\n",
      "    return ScaledNormalNoisePetriNetODESystem.from_askenet(\n",
      "  File \"/Users/altu809/.pyenv/versions/3.10.9/lib/python3.10/functools.py\", line 926, in _method\n",
      "    return method.__get__(obj, cls)(*args, **kwargs)\n",
      "  File \"/Users/altu809/Projects/pyciemss/src/pyciemss/PetriNetODE/base.py\", line 464, in _from_path\n",
      "    raise ValueError(f\"Model file not found: {model_json_path}\")\n",
      "ValueError: Model file not found: ../../notebook/ensemble_eval_sa/SIRHD_vacc_var_V1.json\n"
     ]
    },
    {
     "ename": "ValueError",
     "evalue": "Model file not found: ../../notebook/ensemble_eval_sa/SIRHD_vacc_var_V1.json",
     "output_type": "error",
     "traceback": [
      "\u001b[0;31m---------------------------------------------------------------------------\u001b[0m",
      "\u001b[0;31mValueError\u001b[0m                                Traceback (most recent call last)",
      "Cell \u001b[0;32mIn[6], line 11\u001b[0m\n\u001b[1;32m      5\u001b[0m solution_mappings \u001b[38;5;241m=\u001b[39m [{\u001b[38;5;124m\"\u001b[39m\u001b[38;5;124mI\u001b[39m\u001b[38;5;124m\"\u001b[39m: \u001b[38;5;124m\"\u001b[39m\u001b[38;5;124mI\u001b[39m\u001b[38;5;124m\"\u001b[39m, \u001b[38;5;124m\"\u001b[39m\u001b[38;5;124mH\u001b[39m\u001b[38;5;124m\"\u001b[39m: \u001b[38;5;124m\"\u001b[39m\u001b[38;5;124mH\u001b[39m\u001b[38;5;124m\"\u001b[39m, \u001b[38;5;124m\"\u001b[39m\u001b[38;5;124mD\u001b[39m\u001b[38;5;124m\"\u001b[39m: \u001b[38;5;124m\"\u001b[39m\u001b[38;5;124mD\u001b[39m\u001b[38;5;124m\"\u001b[39m},\n\u001b[1;32m      6\u001b[0m                      {\u001b[38;5;124m\"\u001b[39m\u001b[38;5;124mI\u001b[39m\u001b[38;5;124m\"\u001b[39m: \u001b[38;5;124m\"\u001b[39m\u001b[38;5;124mI\u001b[39m\u001b[38;5;124m\"\u001b[39m, \u001b[38;5;124m\"\u001b[39m\u001b[38;5;124mH\u001b[39m\u001b[38;5;124m\"\u001b[39m: \u001b[38;5;124m\"\u001b[39m\u001b[38;5;124mH\u001b[39m\u001b[38;5;124m\"\u001b[39m, \u001b[38;5;124m\"\u001b[39m\u001b[38;5;124mD\u001b[39m\u001b[38;5;124m\"\u001b[39m: \u001b[38;5;124m\"\u001b[39m\u001b[38;5;124mD\u001b[39m\u001b[38;5;124m\"\u001b[39m}, \n\u001b[1;32m      7\u001b[0m                      {\u001b[38;5;124m\"\u001b[39m\u001b[38;5;124mI\u001b[39m\u001b[38;5;124m\"\u001b[39m: \u001b[38;5;124m\"\u001b[39m\u001b[38;5;124mCases\u001b[39m\u001b[38;5;124m\"\u001b[39m, \u001b[38;5;124m\"\u001b[39m\u001b[38;5;124mH\u001b[39m\u001b[38;5;124m\"\u001b[39m: \u001b[38;5;124m\"\u001b[39m\u001b[38;5;124mHosp\u001b[39m\u001b[38;5;124m\"\u001b[39m, \u001b[38;5;124m\"\u001b[39m\u001b[38;5;124mD\u001b[39m\u001b[38;5;124m\"\u001b[39m: \u001b[38;5;124m\"\u001b[39m\u001b[38;5;124mDeaths\u001b[39m\u001b[38;5;124m\"\u001b[39m},\n\u001b[1;32m      8\u001b[0m                      ]\n\u001b[1;32m     10\u001b[0m \u001b[38;5;66;03m# Run the calibration and sampling\u001b[39;00m\n\u001b[0;32m---> 11\u001b[0m result \u001b[38;5;241m=\u001b[39m \u001b[43mload_and_calibrate_and_sample_ensemble_model\u001b[49m\u001b[43m(\u001b[49m\n\u001b[1;32m     12\u001b[0m \u001b[43m    \u001b[49m\u001b[43mmodel_paths\u001b[49m\u001b[43m,\u001b[49m\n\u001b[1;32m     13\u001b[0m \u001b[43m    \u001b[49m\u001b[43mdata_path\u001b[49m\u001b[43m,\u001b[49m\n\u001b[1;32m     14\u001b[0m \u001b[43m    \u001b[49m\u001b[43mweights\u001b[49m\u001b[43m,\u001b[49m\n\u001b[1;32m     15\u001b[0m \u001b[43m    \u001b[49m\u001b[43msolution_mappings\u001b[49m\u001b[43m,\u001b[49m\n\u001b[1;32m     16\u001b[0m \u001b[43m    \u001b[49m\u001b[43mnum_samples\u001b[49m\u001b[43m,\u001b[49m\n\u001b[1;32m     17\u001b[0m \u001b[43m    \u001b[49m\u001b[43mtimepoints\u001b[49m\u001b[43m,\u001b[49m\n\u001b[1;32m     18\u001b[0m \u001b[43m    \u001b[49m\u001b[43mverbose\u001b[49m\u001b[38;5;241;43m=\u001b[39;49m\u001b[38;5;28;43;01mTrue\u001b[39;49;00m\u001b[43m,\u001b[49m\n\u001b[1;32m     19\u001b[0m \u001b[43m    \u001b[49m\u001b[43mtotal_population\u001b[49m\u001b[38;5;241;43m=\u001b[39;49m\u001b[38;5;241;43m19340000\u001b[39;49m\u001b[43m,\u001b[49m\n\u001b[1;32m     20\u001b[0m \u001b[43m    \u001b[49m\u001b[43mnum_iterations\u001b[49m\u001b[38;5;241;43m=\u001b[39;49m\u001b[38;5;241;43m200\u001b[39;49m\u001b[43m,\u001b[49m\n\u001b[1;32m     21\u001b[0m \u001b[43m    \u001b[49m\u001b[43mtime_unit\u001b[49m\u001b[38;5;241;43m=\u001b[39;49m\u001b[38;5;124;43m\"\u001b[39;49m\u001b[38;5;124;43mdays\u001b[39;49m\u001b[38;5;124;43m\"\u001b[39;49m\u001b[43m,\u001b[49m\n\u001b[1;32m     22\u001b[0m \u001b[43m    \u001b[49m\u001b[43mvisual_options\u001b[49m\u001b[38;5;241;43m=\u001b[39;49m\u001b[43m{\u001b[49m\u001b[38;5;124;43m\"\u001b[39;49m\u001b[38;5;124;43mtitle\u001b[39;49m\u001b[38;5;124;43m\"\u001b[39;49m\u001b[43m:\u001b[49m\u001b[43m \u001b[49m\u001b[38;5;124;43m\"\u001b[39;49m\u001b[38;5;124;43mCalibrated Ensemble\u001b[39;49m\u001b[38;5;124;43m\"\u001b[39;49m\u001b[43m,\u001b[49m\u001b[43m \u001b[49m\u001b[38;5;124;43m\"\u001b[39;49m\u001b[38;5;124;43msubset\u001b[39;49m\u001b[38;5;124;43m\"\u001b[39;49m\u001b[43m:\u001b[49m\u001b[38;5;124;43m\"\u001b[39;49m\u001b[38;5;124;43m.*_sol\u001b[39;49m\u001b[38;5;124;43m\"\u001b[39;49m\u001b[43m}\u001b[49m\n\u001b[1;32m     23\u001b[0m \u001b[43m)\u001b[49m\n\u001b[1;32m     25\u001b[0m \u001b[38;5;66;03m# # Save results\u001b[39;00m\n\u001b[1;32m     26\u001b[0m \u001b[38;5;66;03m# result[\"data\"].to_csv(\u001b[39;00m\n\u001b[1;32m     27\u001b[0m \u001b[38;5;66;03m#     os.path.join(DEMO_PATH, \"results_petri_ensemble/calibrated_sample_results.csv\"), index=False\u001b[39;00m\n\u001b[0;32m   (...)\u001b[0m\n\u001b[1;32m     32\u001b[0m \n\u001b[1;32m     33\u001b[0m \u001b[38;5;66;03m# Plot results\u001b[39;00m\n\u001b[1;32m     34\u001b[0m schema \u001b[38;5;241m=\u001b[39m plots\u001b[38;5;241m.\u001b[39mtrajectories(pd\u001b[38;5;241m.\u001b[39mDataFrame(result[\u001b[38;5;124m\"\u001b[39m\u001b[38;5;124mdata\u001b[39m\u001b[38;5;124m\"\u001b[39m]), subset\u001b[38;5;241m=\u001b[39m\u001b[38;5;124m\"\u001b[39m\u001b[38;5;124m.*_sol\u001b[39m\u001b[38;5;124m\"\u001b[39m,\n\u001b[1;32m     35\u001b[0m                             points\u001b[38;5;241m=\u001b[39mtest_data\u001b[38;5;241m.\u001b[39mreset_index(drop\u001b[38;5;241m=\u001b[39m\u001b[38;5;28;01mTrue\u001b[39;00m)\u001b[38;5;241m.\u001b[39mrename(columns\u001b[38;5;241m=\u001b[39m{\u001b[38;5;124m\"\u001b[39m\u001b[38;5;124mI\u001b[39m\u001b[38;5;124m\"\u001b[39m:\u001b[38;5;124m\"\u001b[39m\u001b[38;5;124mI_data\u001b[39m\u001b[38;5;124m\"\u001b[39m, \u001b[38;5;124m\"\u001b[39m\u001b[38;5;124mH\u001b[39m\u001b[38;5;124m\"\u001b[39m:\u001b[38;5;124m\"\u001b[39m\u001b[38;5;124mH_data\u001b[39m\u001b[38;5;124m\"\u001b[39m, \u001b[38;5;124m\"\u001b[39m\u001b[38;5;124mD\u001b[39m\u001b[38;5;124m\"\u001b[39m:\u001b[38;5;124m\"\u001b[39m\u001b[38;5;124mD_data\u001b[39m\u001b[38;5;124m\"\u001b[39m}),\n\u001b[1;32m     36\u001b[0m                            )\n",
      "File \u001b[0;32m~/Projects/pyciemss/src/pyciemss/custom_decorators.py:30\u001b[0m, in \u001b[0;36mpyciemss_logging_wrapper.<locals>.wrapped\u001b[0;34m(*args, **kwargs)\u001b[0m\n\u001b[1;32m     18\u001b[0m log_message \u001b[38;5;241m=\u001b[39m \u001b[38;5;124m\"\"\"\u001b[39m\n\u001b[1;32m     19\u001b[0m \u001b[38;5;124m    ###############################\u001b[39m\n\u001b[1;32m     20\u001b[0m \n\u001b[0;32m   (...)\u001b[0m\n\u001b[1;32m     27\u001b[0m \u001b[38;5;124m    ################################\u001b[39m\n\u001b[1;32m     28\u001b[0m \u001b[38;5;124m\u001b[39m\u001b[38;5;124m\"\"\"\u001b[39m\n\u001b[1;32m     29\u001b[0m logging\u001b[38;5;241m.\u001b[39mexception(log_message, function\u001b[38;5;241m.\u001b[39m\u001b[38;5;18m__name__\u001b[39m, function\u001b[38;5;241m.\u001b[39m\u001b[38;5;18m__doc__\u001b[39m)\n\u001b[0;32m---> 30\u001b[0m \u001b[38;5;28;01mraise\u001b[39;00m e\n",
      "File \u001b[0;32m~/Projects/pyciemss/src/pyciemss/custom_decorators.py:9\u001b[0m, in \u001b[0;36mpyciemss_logging_wrapper.<locals>.wrapped\u001b[0;34m(*args, **kwargs)\u001b[0m\n\u001b[1;32m      7\u001b[0m \u001b[38;5;28;01mtry\u001b[39;00m:\n\u001b[1;32m      8\u001b[0m     start_time \u001b[38;5;241m=\u001b[39m time\u001b[38;5;241m.\u001b[39mperf_counter()\n\u001b[0;32m----> 9\u001b[0m     result \u001b[38;5;241m=\u001b[39m \u001b[43mfunction\u001b[49m\u001b[43m(\u001b[49m\u001b[38;5;241;43m*\u001b[39;49m\u001b[43margs\u001b[49m\u001b[43m,\u001b[49m\u001b[43m \u001b[49m\u001b[38;5;241;43m*\u001b[39;49m\u001b[38;5;241;43m*\u001b[39;49m\u001b[43mkwargs\u001b[49m\u001b[43m)\u001b[49m\n\u001b[1;32m     10\u001b[0m     end_time \u001b[38;5;241m=\u001b[39m time\u001b[38;5;241m.\u001b[39mperf_counter()\n\u001b[1;32m     11\u001b[0m     logging\u001b[38;5;241m.\u001b[39minfo(\n\u001b[1;32m     12\u001b[0m         \u001b[38;5;124m\"\u001b[39m\u001b[38;5;124mElapsed time for \u001b[39m\u001b[38;5;132;01m%s\u001b[39;00m\u001b[38;5;124m: \u001b[39m\u001b[38;5;132;01m%f\u001b[39;00m\u001b[38;5;124m\"\u001b[39m,\n\u001b[1;32m     13\u001b[0m         function\u001b[38;5;241m.\u001b[39m\u001b[38;5;18m__name__\u001b[39m, end_time \u001b[38;5;241m-\u001b[39m start_time\n\u001b[1;32m     14\u001b[0m     )\n",
      "File \u001b[0;32m~/Projects/pyciemss/src/pyciemss/Ensemble/interfaces.py:289\u001b[0m, in \u001b[0;36mload_and_calibrate_and_sample_ensemble_model\u001b[0;34m(petri_model_or_paths, data_path, weights, solution_mappings, num_samples, timepoints, start_states, total_population, noise_model, noise_scale, dirichlet_concentration, start_time, num_iterations, lr, verbose, verbose_every, num_particles, autoguide, compile_rate_law_p, method, time_unit, visual_options, alpha_qs, stacking_order)\u001b[0m\n\u001b[1;32m    205\u001b[0m \u001b[38;5;250m\u001b[39m\u001b[38;5;124;03m\"\"\"\u001b[39;00m\n\u001b[1;32m    206\u001b[0m \u001b[38;5;124;03mLoad a collection petri net from a file, compile them into an ensemble probabilistic program, calibrate it on data,\u001b[39;00m\n\u001b[1;32m    207\u001b[0m \u001b[38;5;124;03mand sample from the calibrated model.\u001b[39;00m\n\u001b[0;32m   (...)\u001b[0m\n\u001b[1;32m    284\u001b[0m \u001b[38;5;124;03m            * visual: Visualization. (If visual_options is truthy)\u001b[39;00m\n\u001b[1;32m    285\u001b[0m \u001b[38;5;124;03m\"\"\"\u001b[39;00m\n\u001b[1;32m    287\u001b[0m data \u001b[38;5;241m=\u001b[39m csv_to_list(data_path)\n\u001b[0;32m--> 289\u001b[0m models \u001b[38;5;241m=\u001b[39m [\n\u001b[1;32m    290\u001b[0m     load_petri_model(\n\u001b[1;32m    291\u001b[0m         petri_model_or_path\u001b[38;5;241m=\u001b[39mpmop,\n\u001b[1;32m    292\u001b[0m         add_uncertainty\u001b[38;5;241m=\u001b[39m\u001b[38;5;28;01mFalse\u001b[39;00m,\n\u001b[1;32m    293\u001b[0m         compile_rate_law_p\u001b[38;5;241m=\u001b[39mcompile_rate_law_p,\n\u001b[1;32m    294\u001b[0m         compile_observables_p\u001b[38;5;241m=\u001b[39m\u001b[38;5;28;01mTrue\u001b[39;00m,\n\u001b[1;32m    295\u001b[0m     )\n\u001b[1;32m    296\u001b[0m     \u001b[38;5;28;01mfor\u001b[39;00m pmop \u001b[38;5;129;01min\u001b[39;00m petri_model_or_paths\n\u001b[1;32m    297\u001b[0m ]\n\u001b[1;32m    299\u001b[0m \u001b[38;5;66;03m# If the user doesn't override the start state, use the initial values from the model.\u001b[39;00m\n\u001b[1;32m    300\u001b[0m \u001b[38;5;28;01mif\u001b[39;00m start_states \u001b[38;5;129;01mis\u001b[39;00m \u001b[38;5;28;01mNone\u001b[39;00m:\n",
      "File \u001b[0;32m~/Projects/pyciemss/src/pyciemss/Ensemble/interfaces.py:290\u001b[0m, in \u001b[0;36m<listcomp>\u001b[0;34m(.0)\u001b[0m\n\u001b[1;32m    205\u001b[0m \u001b[38;5;250m\u001b[39m\u001b[38;5;124;03m\"\"\"\u001b[39;00m\n\u001b[1;32m    206\u001b[0m \u001b[38;5;124;03mLoad a collection petri net from a file, compile them into an ensemble probabilistic program, calibrate it on data,\u001b[39;00m\n\u001b[1;32m    207\u001b[0m \u001b[38;5;124;03mand sample from the calibrated model.\u001b[39;00m\n\u001b[0;32m   (...)\u001b[0m\n\u001b[1;32m    284\u001b[0m \u001b[38;5;124;03m            * visual: Visualization. (If visual_options is truthy)\u001b[39;00m\n\u001b[1;32m    285\u001b[0m \u001b[38;5;124;03m\"\"\"\u001b[39;00m\n\u001b[1;32m    287\u001b[0m data \u001b[38;5;241m=\u001b[39m csv_to_list(data_path)\n\u001b[1;32m    289\u001b[0m models \u001b[38;5;241m=\u001b[39m [\n\u001b[0;32m--> 290\u001b[0m     \u001b[43mload_petri_model\u001b[49m\u001b[43m(\u001b[49m\n\u001b[1;32m    291\u001b[0m \u001b[43m        \u001b[49m\u001b[43mpetri_model_or_path\u001b[49m\u001b[38;5;241;43m=\u001b[39;49m\u001b[43mpmop\u001b[49m\u001b[43m,\u001b[49m\n\u001b[1;32m    292\u001b[0m \u001b[43m        \u001b[49m\u001b[43madd_uncertainty\u001b[49m\u001b[38;5;241;43m=\u001b[39;49m\u001b[38;5;28;43;01mFalse\u001b[39;49;00m\u001b[43m,\u001b[49m\n\u001b[1;32m    293\u001b[0m \u001b[43m        \u001b[49m\u001b[43mcompile_rate_law_p\u001b[49m\u001b[38;5;241;43m=\u001b[39;49m\u001b[43mcompile_rate_law_p\u001b[49m\u001b[43m,\u001b[49m\n\u001b[1;32m    294\u001b[0m \u001b[43m        \u001b[49m\u001b[43mcompile_observables_p\u001b[49m\u001b[38;5;241;43m=\u001b[39;49m\u001b[38;5;28;43;01mTrue\u001b[39;49;00m\u001b[43m,\u001b[49m\n\u001b[1;32m    295\u001b[0m \u001b[43m    \u001b[49m\u001b[43m)\u001b[49m\n\u001b[1;32m    296\u001b[0m     \u001b[38;5;28;01mfor\u001b[39;00m pmop \u001b[38;5;129;01min\u001b[39;00m petri_model_or_paths\n\u001b[1;32m    297\u001b[0m ]\n\u001b[1;32m    299\u001b[0m \u001b[38;5;66;03m# If the user doesn't override the start state, use the initial values from the model.\u001b[39;00m\n\u001b[1;32m    300\u001b[0m \u001b[38;5;28;01mif\u001b[39;00m start_states \u001b[38;5;129;01mis\u001b[39;00m \u001b[38;5;28;01mNone\u001b[39;00m:\n",
      "File \u001b[0;32m~/Projects/pyciemss/src/pyciemss/PetriNetODE/interfaces.py:767\u001b[0m, in \u001b[0;36mload_petri_model\u001b[0;34m(petri_model_or_path, add_uncertainty, noise_model, noise_scale, compile_observables_p, compile_rate_law_p)\u001b[0m\n\u001b[1;32m    763\u001b[0m     \u001b[38;5;28;01mreturn\u001b[39;00m ScaledBetaNoisePetriNetODESystem\u001b[38;5;241m.\u001b[39mfrom_askenet(\n\u001b[1;32m    764\u001b[0m         petri_model_or_path, noise_scale\u001b[38;5;241m=\u001b[39mnoise_scale, compile_rate_law_p\u001b[38;5;241m=\u001b[39mcompile_rate_law_p, compile_observables_p\u001b[38;5;241m=\u001b[39mcompile_observables_p, add_uncertainty\u001b[38;5;241m=\u001b[39madd_uncertainty\n\u001b[1;32m    765\u001b[0m     )\n\u001b[1;32m    766\u001b[0m \u001b[38;5;28;01melif\u001b[39;00m noise_model \u001b[38;5;241m==\u001b[39m \u001b[38;5;124m\"\u001b[39m\u001b[38;5;124mscaled_normal\u001b[39m\u001b[38;5;124m\"\u001b[39m:\n\u001b[0;32m--> 767\u001b[0m     \u001b[38;5;28;01mreturn\u001b[39;00m \u001b[43mScaledNormalNoisePetriNetODESystem\u001b[49m\u001b[38;5;241;43m.\u001b[39;49m\u001b[43mfrom_askenet\u001b[49m\u001b[43m(\u001b[49m\n\u001b[1;32m    768\u001b[0m \u001b[43m        \u001b[49m\u001b[43mpetri_model_or_path\u001b[49m\u001b[43m,\u001b[49m\u001b[43m \u001b[49m\u001b[43mnoise_scale\u001b[49m\u001b[38;5;241;43m=\u001b[39;49m\u001b[43mnoise_scale\u001b[49m\u001b[43m,\u001b[49m\u001b[43m \u001b[49m\u001b[43mcompile_rate_law_p\u001b[49m\u001b[38;5;241;43m=\u001b[39;49m\u001b[43mcompile_rate_law_p\u001b[49m\u001b[43m,\u001b[49m\u001b[43m \u001b[49m\u001b[43mcompile_observables_p\u001b[49m\u001b[38;5;241;43m=\u001b[39;49m\u001b[43mcompile_observables_p\u001b[49m\u001b[43m,\u001b[49m\u001b[43m \u001b[49m\u001b[43madd_uncertainty\u001b[49m\u001b[38;5;241;43m=\u001b[39;49m\u001b[43madd_uncertainty\u001b[49m\n\u001b[1;32m    769\u001b[0m \u001b[43m    \u001b[49m\u001b[43m)\u001b[49m\n\u001b[1;32m    770\u001b[0m \u001b[38;5;28;01melse\u001b[39;00m:\n\u001b[1;32m    771\u001b[0m     \u001b[38;5;28;01mraise\u001b[39;00m \u001b[38;5;167;01mValueError\u001b[39;00m(\u001b[38;5;124mf\u001b[39m\u001b[38;5;124m\"\u001b[39m\u001b[38;5;124mUnknown noise model \u001b[39m\u001b[38;5;132;01m{\u001b[39;00mnoise_model\u001b[38;5;132;01m}\u001b[39;00m\u001b[38;5;124m. Please select from either \u001b[39m\u001b[38;5;124m'\u001b[39m\u001b[38;5;124mscaled_beta\u001b[39m\u001b[38;5;124m'\u001b[39m\u001b[38;5;124m or \u001b[39m\u001b[38;5;124m'\u001b[39m\u001b[38;5;124mscaled_normal\u001b[39m\u001b[38;5;124m'\u001b[39m\u001b[38;5;124m.\u001b[39m\u001b[38;5;124m\"\u001b[39m)\n",
      "File \u001b[0;32m~/.pyenv/versions/3.10.9/lib/python3.10/functools.py:926\u001b[0m, in \u001b[0;36msingledispatchmethod.__get__.<locals>._method\u001b[0;34m(*args, **kwargs)\u001b[0m\n\u001b[1;32m    924\u001b[0m \u001b[38;5;28;01mdef\u001b[39;00m \u001b[38;5;21m_method\u001b[39m(\u001b[38;5;241m*\u001b[39margs, \u001b[38;5;241m*\u001b[39m\u001b[38;5;241m*\u001b[39mkwargs):\n\u001b[1;32m    925\u001b[0m     method \u001b[38;5;241m=\u001b[39m \u001b[38;5;28mself\u001b[39m\u001b[38;5;241m.\u001b[39mdispatcher\u001b[38;5;241m.\u001b[39mdispatch(args[\u001b[38;5;241m0\u001b[39m]\u001b[38;5;241m.\u001b[39m\u001b[38;5;18m__class__\u001b[39m)\n\u001b[0;32m--> 926\u001b[0m     \u001b[38;5;28;01mreturn\u001b[39;00m \u001b[43mmethod\u001b[49m\u001b[38;5;241;43m.\u001b[39;49m\u001b[38;5;21;43m__get__\u001b[39;49m\u001b[43m(\u001b[49m\u001b[43mobj\u001b[49m\u001b[43m,\u001b[49m\u001b[43m \u001b[49m\u001b[38;5;28;43mcls\u001b[39;49m\u001b[43m)\u001b[49m\u001b[43m(\u001b[49m\u001b[38;5;241;43m*\u001b[39;49m\u001b[43margs\u001b[49m\u001b[43m,\u001b[49m\u001b[43m \u001b[49m\u001b[38;5;241;43m*\u001b[39;49m\u001b[38;5;241;43m*\u001b[39;49m\u001b[43mkwargs\u001b[49m\u001b[43m)\u001b[49m\n",
      "File \u001b[0;32m~/Projects/pyciemss/src/pyciemss/PetriNetODE/base.py:464\u001b[0m, in \u001b[0;36mMiraPetriNetODESystem._from_path\u001b[0;34m(cls, model_json_path, **kwargs)\u001b[0m\n\u001b[1;32m    462\u001b[0m \u001b[38;5;28;01melse\u001b[39;00m:\n\u001b[1;32m    463\u001b[0m     \u001b[38;5;28;01mif\u001b[39;00m \u001b[38;5;129;01mnot\u001b[39;00m os\u001b[38;5;241m.\u001b[39mpath\u001b[38;5;241m.\u001b[39mexists(model_json_path):\n\u001b[0;32m--> 464\u001b[0m         \u001b[38;5;28;01mraise\u001b[39;00m \u001b[38;5;167;01mValueError\u001b[39;00m(\u001b[38;5;124mf\u001b[39m\u001b[38;5;124m\"\u001b[39m\u001b[38;5;124mModel file not found: \u001b[39m\u001b[38;5;132;01m{\u001b[39;00mmodel_json_path\u001b[38;5;132;01m}\u001b[39;00m\u001b[38;5;124m\"\u001b[39m)\n\u001b[1;32m    465\u001b[0m     \u001b[38;5;28;01mwith\u001b[39;00m \u001b[38;5;28mopen\u001b[39m(model_json_path) \u001b[38;5;28;01mas\u001b[39;00m fh:\n\u001b[1;32m    466\u001b[0m         model_json \u001b[38;5;241m=\u001b[39m json\u001b[38;5;241m.\u001b[39mload(fh)\n",
      "\u001b[0;31mValueError\u001b[0m: Model file not found: ../../notebook/ensemble_eval_sa/SIRHD_vacc_var_V1.json"
     ]
    }
   ],
   "source": [
    "num_samples = 2\n",
    "model_paths = [model1_location, model4_location, model6_location]\n",
    "data_path = \"../../notebook/ensemble_eval_sa/NY_data2.csv\"\n",
    "weights = [1/3, 1/3, 1/3]\n",
    "solution_mappings = [{\"I\": \"I\", \"H\": \"H\", \"D\": \"D\"},\n",
    "                     {\"I\": \"I\", \"H\": \"H\", \"D\": \"D\"}, \n",
    "                     {\"I\": \"Cases\", \"H\": \"Hosp\", \"D\": \"Deaths\"},\n",
    "                     ]\n",
    "\n",
    "# Run the calibration and sampling\n",
    "result = load_and_calibrate_and_sample_ensemble_model(\n",
    "    model_paths,\n",
    "    data_path,\n",
    "    weights,\n",
    "    solution_mappings,\n",
    "    num_samples,\n",
    "    timepoints,\n",
    "    verbose=True,\n",
    "    total_population=19340000,\n",
    "    num_iterations=200,\n",
    "    time_unit=\"days\",\n",
    "    visual_options={\"title\": \"Calibrated Ensemble\", \"subset\":\".*_sol\"}\n",
    ")\n",
    "\n",
    "# # Save results\n",
    "# result[\"data\"].to_csv(\n",
    "#     os.path.join(DEMO_PATH, \"results_petri_ensemble/calibrated_sample_results.csv\"), index=False\n",
    "# )\n",
    "# result[\"quantiles\"].to_csv(\n",
    "#     os.path.join(DEMO_PATH, \"results_petri_ensemble/calibrated_quantile_results.csv\"), index=False\n",
    "# )\n",
    "\n",
    "# Plot results\n",
    "schema = plots.trajectories(pd.DataFrame(result[\"data\"]), subset=\".*_sol\",\n",
    "                            points=test_data.reset_index(drop=True).rename(columns={\"I\":\"I_data\", \"H\":\"H_data\", \"D\":\"D_data\"}),\n",
    "                           )\n",
    "schema = plots.pad(schema, 5)\n",
    "plots.ipy_display(schema)"
   ]
  },
  {
   "cell_type": "code",
   "execution_count": null,
   "id": "e80201a8-7542-4532-a86f-c885c2e18073",
   "metadata": {},
   "outputs": [],
   "source": []
  }
 ],
 "metadata": {
  "kernelspec": {
   "display_name": "Python 3 (ipykernel)",
   "language": "python",
   "name": "python3"
  },
  "language_info": {
   "codemirror_mode": {
    "name": "ipython",
    "version": 3
   },
   "file_extension": ".py",
   "mimetype": "text/x-python",
   "name": "python",
   "nbconvert_exporter": "python",
   "pygments_lexer": "ipython3",
   "version": "3.10.9"
  }
 },
 "nbformat": 4,
 "nbformat_minor": 5
}
