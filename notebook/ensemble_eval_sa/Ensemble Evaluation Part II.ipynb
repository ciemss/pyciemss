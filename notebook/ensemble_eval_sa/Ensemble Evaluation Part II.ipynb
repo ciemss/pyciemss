{
 "cells": [
  {
   "cell_type": "markdown",
   "id": "669c02c9",
   "metadata": {},
   "source": [
    "# Ensemble Challenge: Timepoint 2\n",
    "\n",
    "Goal: to capture the complexity and nuances around the evolution of the pandemic at various stages and locations.\n",
    "\n",
    "Location A: New York State\n",
    "Consider the following settings:\n",
    "Timepoint 1: April 3, 2020. Setting: New York State at the beginning of the pandemic when masking was the main preventative measure. No vaccines available.\n",
    "\n",
    "Timepoint 2: July 15, 2021. Setting: New York State upon the arrival of the Delta variant. Vaccines available.\n",
    "\n",
    "Timepoint 3: January 4, 2022. Setting: New York State coinciding with the arrival of the first Omicron wave. At-home testing widely available.\n",
    "\n",
    "BONUS: Consider the same three time points, but change the setting to Texas, which had different COVID-19 dynamics compared to the Northeastern states.\n",
    "\n",
    "...and related questions for each:\n",
    "What is the most relevant data to use for model calibration?\n",
    "What was our understanding of COVID-19 viral mechanisms at the time? For example, early in the pandemic, we didn't know if reinfection was a common occurance, or even possible.\n",
    "What are the parameters related to contagiousness/transmissibility and severity of the dominant strain at the time?\n",
    "What policies were in place for a stated location, and how can this information be incorporated into models? (See https://www.bsg.ox.ac.uk/research/covid-19-government-response-tracker for time series of interventions).\n",
    "Also--this is a good source for parameters: https://www.cdc.gov/coronavirus/2019-ncov/hcp/planning-scenarios.html\n",
    "\n",
    "For each timepoint:\n",
    "(a) Take a single model, calibrate it using any historical data prior to the given date, and create a 4-week forecast for cases, hospitalizations, and deaths beginning on the given date. (b) Evaluate the forecast using the COVID-19 Forecasting Hub Error Metrics (WIS, MAE). The single model evaluation should be done in the same way as the ensemble.\n",
    "\n",
    "Repeat (1), but with an ensemble of different models.\n",
    "\n",
    "a. It is fine to calibrate each model independently and weight naively.\n",
    "\n",
    "b. It would also be fine to calibrate the ensemble as a whole, assigning weights to the different component models, so that you minimize the error of the ensemble vs. historical data.\n",
    "\n",
    "c. Use the calibration scores and error metrics computed by the CDC Forecasting Hub. As stated on their website:\n",
    "\n",
    "“Periodically, we evaluate the accuracy and precision of the ensemble forecast and component models over recent and historical forecasting periods. Models forecasting incident hospitalizations at a national and state level are evaluated using adjusted relative weighted interval scores (WIS, a measure of distributional accuracy), and adjusted relative mean absolute error (MAE), and calibration scores. Scores are evaluated across weeks, locations, and targets. You can read a paper explaining these procedures in more detail, and look at the most recent monthly evaluation reports. The final report that includes case and death forecast evaluations is 2023-03-13.”\n",
    "\n",
    "Produce the forecast outputs in the format specified by the CDC forecasting challenge, including the specified quantiles.\n",
    "\n",
    "Data\n",
    "Use the following data sources:\n",
    "\n",
    "Cases: Johns Hopkins, Reich Lab (pulled from Johns Hopkins, but formatted)\n",
    "\n",
    "Hospitalizations: HealthData.gov\n",
    "\n",
    "Deaths: Johns Hopkins, Reich Lab"
   ]
  },
  {
   "cell_type": "markdown",
   "id": "1fda4fda-2bd7-468c-8e91-d0d4323074c2",
   "metadata": {},
   "source": [
    "### Load dependencies"
   ]
  },
  {
   "cell_type": "code",
   "execution_count": 1,
   "id": "13880386",
   "metadata": {},
   "outputs": [],
   "source": [
    "import os\n",
    "import pandas as pd\n",
    "import numpy as np\n",
    "from pyciemss.Ensemble.interfaces import (\n",
    "    load_and_sample_petri_ensemble, load_and_calibrate_and_sample_ensemble_model\n",
    ")\n",
    "from pyciemss.PetriNetODE.interfaces import (\n",
    "    load_and_sample_petri_model,\n",
    "    load_and_calibrate_and_sample_petri_model,\n",
    "    load_and_optimize_and_sample_petri_model,\n",
    "    load_and_calibrate_and_optimize_and_sample_petri_model\n",
    ")\n",
    "from pyciemss.visuals import plots"
   ]
  },
  {
   "cell_type": "markdown",
   "id": "2fab9bd4-3f9d-42e0-8fd5-e91bff3d81ba",
   "metadata": {},
   "source": [
    "## Get data"
   ]
  },
  {
   "cell_type": "code",
   "execution_count": 2,
   "id": "7a4942e1-ac95-4c72-9233-dd004cdf75c0",
   "metadata": {},
   "outputs": [],
   "source": [
    "url = 'https://raw.githubusercontent.com/DARPA-ASKEM/experiments/main/thin-thread-examples/milestone_12month/evaluation/ensemble_eval_SA/datasets/aabb3684-a7ea-4f60-98f1-a8e673ad6df5/dataset.csv'\n",
    "ny_data = pd.read_csv(url)\n",
    "\n",
    "# Grab test data for four-week forecast (07/15/2021 - 05/01/2020)\n",
    "test_data = ny_data[0:569].drop(columns=\"timestep\")\n",
    "\n",
    "# Select historical data up to Timepoint 2, 07/14/2021 (the first 541 rows)\n",
    "ny_data = ny_data[0:540]\n",
    "ny_data[[\"I\", \"H\", \"D\"]].to_csv(\"NY_data2.csv\")"
   ]
  },
  {
   "cell_type": "markdown",
   "id": "5d809e73-ddcc-409e-8378-5a4047c1b50e",
   "metadata": {},
   "source": [
    "## Set up timepoints"
   ]
  },
  {
   "cell_type": "code",
   "execution_count": 3,
   "id": "006c142f-dfea-498f-a9b2-342fbee162ea",
   "metadata": {},
   "outputs": [],
   "source": [
    "start_timepoint = 0\n",
    "stop_timepoint = 540 + 28 # simulate for four weeks after end of data\n",
    "timepoints = [float(i) for i in range(stop_timepoint + 1)]"
   ]
  },
  {
   "cell_type": "markdown",
   "id": "2ab1a51e-ccb6-4d74-8e8c-71893a1975a7",
   "metadata": {},
   "source": [
    "## Select relevant models"
   ]
  },
  {
   "cell_type": "code",
   "execution_count": 4,
   "id": "459be6a2-d0ba-457f-9d47-dbd63a2ab57d",
   "metadata": {},
   "outputs": [],
   "source": [
    "model1_location = \"../../notebook/ensemble_eval_sa/SEIRHDS_V1.json\"\n",
    "model2_location = \"../../notebook/ensemble_eval_sa/SEIRHDS_basic_config.json\"\n",
    "model3_location = \"../../notebook/ensemble_eval_sa/SIRHD_age_stratified.json\"\n",
    "model4_location = \"../../notebook/ensemble_eval_sa/SIRHD_vacc_var_V1.json\"\n",
    "model5_location = \"../../notebook/ensemble_eval_sa/SIRHD_age_vacc_var.json\"\n",
    "model6_location = \"../../notebook/ensemble_eval_sa/SIRHD_mask_V3.json\"\n",
    "model7_location = \"../../notebook/ensemble_eval_sa/SIRHD_V1C.json\"\n",
    "model8_location = \"../../notebook/ensemble_eval_sa/SEIRD_ymo_age_strat.json\""
   ]
  },
  {
   "cell_type": "markdown",
   "id": "6a860cfb-04e4-48f8-8912-c2c5565e1faa",
   "metadata": {},
   "source": [
    "## Load, calibrate and sample an ensemble of one model"
   ]
  },
  {
   "cell_type": "code",
   "execution_count": 5,
   "id": "8328b097-70b7-41fc-98fc-1d6a7a06824c",
   "metadata": {},
   "outputs": [
    {
     "name": "stdout",
     "output_type": "stream",
     "text": [
      "iteration 0: loss = 45751.34715896845\n",
      "iteration 25: loss = 28361.542366564274\n",
      "iteration 50: loss = 24309.46016174555\n",
      "iteration 75: loss = 24229.12921744585\n",
      "\n"
     ]
    },
    {
     "data": {
      "application/vnd.vega.v5+json": {
       "$schema": "https://vega.github.io/schema/vega/v5.json",
       "axes": [
        {
         "name": "x_axis",
         "orient": "bottom",
         "scale": "xscale",
         "zindex": 100
        },
        {
         "name": "y_axis",
         "orient": "left",
         "scale": "yscale",
         "zindex": 100
        }
       ],
       "data": [
        {
         "name": "distributions",
         "values": [
          {
           "lower": 4.5543093845895494e-24,
           "timepoint": 0,
           "trajectory": "D_sol",
           "upper": 5.475161273737737e-24
          },
          {
           "lower": 0.0003916520523489453,
           "timepoint": 1,
           "trajectory": "D_sol",
           "upper": 0.0004718391268397681
          },
          {
           "lower": 0.0013691153784748168,
           "timepoint": 2,
           "trajectory": "D_sol",
           "upper": 0.0016528711945284157
          },
          {
           "lower": 0.0027316643157973886,
           "timepoint": 3,
           "trajectory": "D_sol",
           "upper": 0.003304504114203155
          },
          {
           "lower": 0.004362835874781012,
           "timepoint": 4,
           "trajectory": "D_sol",
           "upper": 0.005288069741800428
          },
          {
           "lower": 0.0061956138350069525,
           "timepoint": 5,
           "trajectory": "D_sol",
           "upper": 0.007523637544363737
          },
          {
           "lower": 0.008192106336355209,
           "timepoint": 6,
           "trajectory": "D_sol",
           "upper": 0.009966005384922028
          },
          {
           "lower": 0.010331707261502742,
           "timepoint": 7,
           "trajectory": "D_sol",
           "upper": 0.012590650282800198
          },
          {
           "lower": 0.01260415012948215,
           "timepoint": 8,
           "trajectory": "D_sol",
           "upper": 0.01538551957346499
          },
          {
           "lower": 0.015005451254546642,
           "timepoint": 9,
           "trajectory": "D_sol",
           "upper": 0.018346152640879153
          },
          {
           "lower": 0.017535441275686025,
           "timepoint": 10,
           "trajectory": "D_sol",
           "upper": 0.021472801733762027
          },
          {
           "lower": 0.02019643634557724,
           "timepoint": 11,
           "trajectory": "D_sol",
           "upper": 0.02476887181401253
          },
          {
           "lower": 0.022992351837456227,
           "timepoint": 12,
           "trajectory": "D_sol",
           "upper": 0.028239688090980052
          },
          {
           "lower": 0.025928195007145403,
           "timepoint": 13,
           "trajectory": "D_sol",
           "upper": 0.03189207669347525
          },
          {
           "lower": 0.02900980431586504,
           "timepoint": 14,
           "trajectory": "D_sol",
           "upper": 0.035733971558511254
          },
          {
           "lower": 0.032243671268224715,
           "timepoint": 15,
           "trajectory": "D_sol",
           "upper": 0.039774080365896226
          },
          {
           "lower": 0.03563681934028864,
           "timepoint": 16,
           "trajectory": "D_sol",
           "upper": 0.044021998159587385
          },
          {
           "lower": 0.039196785725653174,
           "timepoint": 17,
           "trajectory": "D_sol",
           "upper": 0.048487894050776956
          },
          {
           "lower": 0.04293152336031199,
           "timepoint": 18,
           "trajectory": "D_sol",
           "upper": 0.05318259429186582
          },
          {
           "lower": 0.046849480085074904,
           "timepoint": 19,
           "trajectory": "D_sol",
           "upper": 0.05811767820268869
          },
          {
           "lower": 0.0509595226496458,
           "timepoint": 20,
           "trajectory": "D_sol",
           "upper": 0.06330524124205113
          },
          {
           "lower": 0.05527103543281555,
           "timepoint": 21,
           "trajectory": "D_sol",
           "upper": 0.06875822842121124
          },
          {
           "lower": 0.05979380328208208,
           "timepoint": 22,
           "trajectory": "D_sol",
           "upper": 0.07448975052684545
          },
          {
           "lower": 0.06453820280730724,
           "timepoint": 23,
           "trajectory": "D_sol",
           "upper": 0.08051437176764012
          },
          {
           "lower": 0.06951509527862072,
           "timepoint": 24,
           "trajectory": "D_sol",
           "upper": 0.08684701360762119
          },
          {
           "lower": 0.07473560981452465,
           "timepoint": 25,
           "trajectory": "D_sol",
           "upper": 0.09350326098501682
          },
          {
           "lower": 0.08021196089684964,
           "timepoint": 26,
           "trajectory": "D_sol",
           "upper": 0.10049967356026172
          },
          {
           "lower": 0.08595659025013447,
           "timepoint": 27,
           "trajectory": "D_sol",
           "upper": 0.10785364173352718
          },
          {
           "lower": 0.09198260046541691,
           "timepoint": 28,
           "trajectory": "D_sol",
           "upper": 0.11558344475924968
          },
          {
           "lower": 0.09830384850502014,
           "timepoint": 29,
           "trajectory": "D_sol",
           "upper": 0.1237082839012146
          },
          {
           "lower": 0.10493482127785683,
           "timepoint": 30,
           "trajectory": "D_sol",
           "upper": 0.1322481982409954
          },
          {
           "lower": 0.1118902686983347,
           "timepoint": 31,
           "trajectory": "D_sol",
           "upper": 0.14122460298240186
          },
          {
           "lower": 0.11918658688664437,
           "timepoint": 32,
           "trajectory": "D_sol",
           "upper": 0.15065974816679956
          },
          {
           "lower": 0.1268402311950922,
           "timepoint": 33,
           "trajectory": "D_sol",
           "upper": 0.16057687513530255
          },
          {
           "lower": 0.13486905619502068,
           "timepoint": 34,
           "trajectory": "D_sol",
           "upper": 0.17100086584687232
          },
          {
           "lower": 0.14329102635383606,
           "timepoint": 35,
           "trajectory": "D_sol",
           "upper": 0.18195748329162598
          },
          {
           "lower": 0.1521255388855934,
           "timepoint": 36,
           "trajectory": "D_sol",
           "upper": 0.19347423166036606
          },
          {
           "lower": 0.16139281615614892,
           "timepoint": 37,
           "trajectory": "D_sol",
           "upper": 0.20557940676808356
          },
          {
           "lower": 0.17111405730247498,
           "timepoint": 38,
           "trajectory": "D_sol",
           "upper": 0.21830323338508606
          },
          {
           "lower": 0.18131143748760223,
           "timepoint": 39,
           "trajectory": "D_sol",
           "upper": 0.23167704641819
          },
          {
           "lower": 0.19200827926397324,
           "timepoint": 40,
           "trajectory": "D_sol",
           "upper": 0.24573440104722977
          },
          {
           "lower": 0.20322943553328515,
           "timepoint": 41,
           "trajectory": "D_sol",
           "upper": 0.2605100341141224
          },
          {
           "lower": 0.21500011831521987,
           "timepoint": 42,
           "trajectory": "D_sol",
           "upper": 0.2760406777262688
          },
          {
           "lower": 0.22734740301966666,
           "timepoint": 43,
           "trajectory": "D_sol",
           "upper": 0.29236547723412515
          },
          {
           "lower": 0.24029951617121698,
           "timepoint": 44,
           "trajectory": "D_sol",
           "upper": 0.30952425971627234
          },
          {
           "lower": 0.2538861855864525,
           "timepoint": 45,
           "trajectory": "D_sol",
           "upper": 0.3275598958134651
          },
          {
           "lower": 0.2681385025382042,
           "timepoint": 46,
           "trajectory": "D_sol",
           "upper": 0.3465170219540596
          },
          {
           "lower": 0.2830891251564026,
           "timepoint": 47,
           "trajectory": "D_sol",
           "upper": 0.36644295454025266
          },
          {
           "lower": 0.29877150505781175,
           "timepoint": 48,
           "trajectory": "D_sol",
           "upper": 0.38738694339990615
          },
          {
           "lower": 0.3152226522564888,
           "timepoint": 49,
           "trajectory": "D_sol",
           "upper": 0.40940201133489607
          },
          {
           "lower": 0.33247980326414106,
           "timepoint": 50,
           "trajectory": "D_sol",
           "upper": 0.4325417295098305
          },
          {
           "lower": 0.35058196932077407,
           "timepoint": 51,
           "trajectory": "D_sol",
           "upper": 0.4568638846278191
          },
          {
           "lower": 0.36957127749919894,
           "timepoint": 52,
           "trajectory": "D_sol",
           "upper": 0.48242913782596586
          },
          {
           "lower": 0.3894908592104912,
           "timepoint": 53,
           "trajectory": "D_sol",
           "upper": 0.5093006029725075
          },
          {
           "lower": 0.4103863909840584,
           "timepoint": 54,
           "trajectory": "D_sol",
           "upper": 0.5375452265143394
          },
          {
           "lower": 0.43230509757995605,
           "timepoint": 55,
           "trajectory": "D_sol",
           "upper": 0.5672330856323242
          },
          {
           "lower": 0.455297914147377,
           "timepoint": 56,
           "trajectory": "D_sol",
           "upper": 0.598439309000969
          },
          {
           "lower": 0.47941686660051347,
           "timepoint": 57,
           "trajectory": "D_sol",
           "upper": 0.631239365041256
          },
          {
           "lower": 0.5047182589769363,
           "timepoint": 58,
           "trajectory": "D_sol",
           "upper": 0.6657154411077499
          },
          {
           "lower": 0.5312587589025497,
           "timepoint": 59,
           "trajectory": "D_sol",
           "upper": 0.7019544869661332
          },
          {
           "lower": 0.5590994536876679,
           "timepoint": 60,
           "trajectory": "D_sol",
           "upper": 0.7400448143482208
          },
          {
           "lower": 0.5883042514324188,
           "timepoint": 61,
           "trajectory": "D_sol",
           "upper": 0.7800816595554352
          },
          {
           "lower": 0.6189397543668747,
           "timepoint": 62,
           "trajectory": "D_sol",
           "upper": 0.8221642404794693
          },
          {
           "lower": 0.6510760843753814,
           "timepoint": 63,
           "trajectory": "D_sol",
           "upper": 0.8663985669612885
          },
          {
           "lower": 0.6847866952419281,
           "timepoint": 64,
           "trajectory": "D_sol",
           "upper": 0.9128928005695343
          },
          {
           "lower": 0.7201495856046677,
           "timepoint": 65,
           "trajectory": "D_sol",
           "upper": 0.961763134598732
          },
          {
           "lower": 0.7572446644306183,
           "timepoint": 66,
           "trajectory": "D_sol",
           "upper": 1.0131309449672699
          },
          {
           "lower": 0.796157369017601,
           "timepoint": 67,
           "trajectory": "D_sol",
           "upper": 1.0671239405870439
          },
          {
           "lower": 0.8369764804840087,
           "timepoint": 68,
           "trajectory": "D_sol",
           "upper": 1.1238754272460938
          },
          {
           "lower": 0.8797946512699127,
           "timepoint": 69,
           "trajectory": "D_sol",
           "upper": 1.1835289657115937
          },
          {
           "lower": 0.924711349606514,
           "timepoint": 70,
           "trajectory": "D_sol",
           "upper": 1.2462299436330795
          },
          {
           "lower": 0.971828892827034,
           "timepoint": 71,
           "trajectory": "D_sol",
           "upper": 1.3121349662542343
          },
          {
           "lower": 1.0212541222572327,
           "timepoint": 72,
           "trajectory": "D_sol",
           "upper": 1.3814072012901306
          },
          {
           "lower": 1.0731013715267181,
           "timepoint": 73,
           "trajectory": "D_sol",
           "upper": 1.4542234241962433
          },
          {
           "lower": 1.127488660812378,
           "timepoint": 74,
           "trajectory": "D_sol",
           "upper": 1.5307585716247558
          },
          {
           "lower": 1.184540069103241,
           "timepoint": 75,
           "trajectory": "D_sol",
           "upper": 1.6112050652503966
          },
          {
           "lower": 1.2443889796733856,
           "timepoint": 76,
           "trajectory": "D_sol",
           "upper": 1.6957625925540925
          },
          {
           "lower": 1.307169210910797,
           "timepoint": 77,
           "trajectory": "D_sol",
           "upper": 1.7846412539482117
          },
          {
           "lower": 1.373025757074356,
           "timepoint": 78,
           "trajectory": "D_sol",
           "upper": 1.8780617892742157
          },
          {
           "lower": 1.4421070098876954,
           "timepoint": 79,
           "trajectory": "D_sol",
           "upper": 1.9762579917907714
          },
          {
           "lower": 1.5145742297172546,
           "timepoint": 80,
           "trajectory": "D_sol",
           "upper": 2.0794721245765686
          },
          {
           "lower": 1.5905917644500733,
           "timepoint": 81,
           "trajectory": "D_sol",
           "upper": 2.187962198257446
          },
          {
           "lower": 1.6703340709209442,
           "timepoint": 82,
           "trajectory": "D_sol",
           "upper": 2.301998049020767
          },
          {
           "lower": 1.7539838254451752,
           "timepoint": 83,
           "trajectory": "D_sol",
           "upper": 2.421853333711624
          },
          {
           "lower": 1.8417321145534515,
           "timepoint": 84,
           "trajectory": "D_sol",
           "upper": 2.547839194536209
          },
          {
           "lower": 1.933779925107956,
           "timepoint": 85,
           "trajectory": "D_sol",
           "upper": 2.6802639067173004
          },
          {
           "lower": 2.030336230993271,
           "timepoint": 86,
           "trajectory": "D_sol",
           "upper": 2.819454461336136
          },
          {
           "lower": 2.1316241025924683,
           "timepoint": 87,
           "trajectory": "D_sol",
           "upper": 2.9657589197158813
          },
          {
           "lower": 2.2378740668296815,
           "timepoint": 88,
           "trajectory": "D_sol",
           "upper": 3.1195404171943664
          },
          {
           "lower": 2.3493290066719057,
           "timepoint": 89,
           "trajectory": "D_sol",
           "upper": 3.281180131435394
          },
          {
           "lower": 2.466250002384186,
           "timepoint": 90,
           "trajectory": "D_sol",
           "upper": 3.4510809779167175
          },
          {
           "lower": 2.5888956904411318,
           "timepoint": 91,
           "trajectory": "D_sol",
           "upper": 3.629663813114166
          },
          {
           "lower": 2.7175501108169557,
           "timepoint": 92,
           "trajectory": "D_sol",
           "upper": 3.817372965812683
          },
          {
           "lower": 2.8525110602378847,
           "timepoint": 93,
           "trajectory": "D_sol",
           "upper": 4.014673817157745
          },
          {
           "lower": 2.994082987308502,
           "timepoint": 94,
           "trajectory": "D_sol",
           "upper": 4.222059428691864
          },
          {
           "lower": 3.142591142654419,
           "timepoint": 95,
           "trajectory": "D_sol",
           "upper": 4.440044736862182
          },
          {
           "lower": 3.2983748078346253,
           "timepoint": 96,
           "trajectory": "D_sol",
           "upper": 4.669158065319062
          },
          {
           "lower": 3.4617926478385925,
           "timepoint": 97,
           "trajectory": "D_sol",
           "upper": 4.909987032413483
          },
          {
           "lower": 3.6332165598869324,
           "timepoint": 98,
           "trajectory": "D_sol",
           "upper": 5.16312175989151
          },
          {
           "lower": 3.813039040565491,
           "timepoint": 99,
           "trajectory": "D_sol",
           "upper": 5.429191851615906
          },
          {
           "lower": 4.001673340797424,
           "timepoint": 100,
           "trajectory": "D_sol",
           "upper": 5.708856463432312
          },
          {
           "lower": 4.199549412727356,
           "timepoint": 101,
           "trajectory": "D_sol",
           "upper": 6.002813124656678
          },
          {
           "lower": 4.40711932182312,
           "timepoint": 102,
           "trajectory": "D_sol",
           "upper": 6.3117889881134035
          },
          {
           "lower": 4.624857759475708,
           "timepoint": 103,
           "trajectory": "D_sol",
           "upper": 6.636554861068725
          },
          {
           "lower": 4.853268647193909,
           "timepoint": 104,
           "trajectory": "D_sol",
           "upper": 6.977913355827331
          },
          {
           "lower": 5.09286675453186,
           "timepoint": 105,
           "trajectory": "D_sol",
           "upper": 7.336710119247436
          },
          {
           "lower": 5.344202852249145,
           "timepoint": 106,
           "trajectory": "D_sol",
           "upper": 7.713848257064819
          },
          {
           "lower": 5.607857298851013,
           "timepoint": 107,
           "trajectory": "D_sol",
           "upper": 8.11025230884552
          },
          {
           "lower": 5.884426569938659,
           "timepoint": 108,
           "trajectory": "D_sol",
           "upper": 8.526912713050843
          },
          {
           "lower": 6.174546790122986,
           "timepoint": 109,
           "trajectory": "D_sol",
           "upper": 8.964852261543275
          },
          {
           "lower": 6.478884816169739,
           "timepoint": 110,
           "trajectory": "D_sol",
           "upper": 9.425171256065369
          },
          {
           "lower": 6.798117017745971,
           "timepoint": 111,
           "trajectory": "D_sol",
           "upper": 9.909004831314087
          },
          {
           "lower": 7.132996892929077,
           "timepoint": 112,
           "trajectory": "D_sol",
           "upper": 10.41755452156067
          },
          {
           "lower": 7.484280276298523,
           "timepoint": 113,
           "trajectory": "D_sol",
           "upper": 10.952100586891174
          },
          {
           "lower": 7.852779269218445,
           "timepoint": 114,
           "trajectory": "D_sol",
           "upper": 11.51394522190094
          },
          {
           "lower": 8.239326333999633,
           "timepoint": 115,
           "trajectory": "D_sol",
           "upper": 12.104485654830933
          },
          {
           "lower": 8.644808149337768,
           "timepoint": 116,
           "trajectory": "D_sol",
           "upper": 12.725205087661744
          },
          {
           "lower": 9.070149183273315,
           "timepoint": 117,
           "trajectory": "D_sol",
           "upper": 13.377626657485962
          },
          {
           "lower": 9.516337585449218,
           "timepoint": 118,
           "trajectory": "D_sol",
           "upper": 14.063376235961913
          },
          {
           "lower": 9.984371423721313,
           "timepoint": 119,
           "trajectory": "D_sol",
           "upper": 14.78414797782898
          },
          {
           "lower": 10.475326442718506,
           "timepoint": 120,
           "trajectory": "D_sol",
           "upper": 15.541738605499267
          },
          {
           "lower": 10.990350198745727,
           "timepoint": 121,
           "trajectory": "D_sol",
           "upper": 16.338021802902222
          },
          {
           "lower": 11.53058819770813,
           "timepoint": 122,
           "trajectory": "D_sol",
           "upper": 17.17496962547302
          },
          {
           "lower": 12.09729061126709,
           "timepoint": 123,
           "trajectory": "D_sol",
           "upper": 18.054671669006346
          },
          {
           "lower": 12.691737699508668,
           "timepoint": 124,
           "trajectory": "D_sol",
           "upper": 18.97929139137268
          },
          {
           "lower": 13.315303468704224,
           "timepoint": 125,
           "trajectory": "D_sol",
           "upper": 19.95112547874451
          },
          {
           "lower": 13.9694073677063,
           "timepoint": 126,
           "trajectory": "D_sol",
           "upper": 20.97259588241577
          },
          {
           "lower": 14.655541467666627,
           "timepoint": 127,
           "trajectory": "D_sol",
           "upper": 22.046216917037963
          },
          {
           "lower": 15.37528944015503,
           "timepoint": 128,
           "trajectory": "D_sol",
           "upper": 23.174646854400635
          },
          {
           "lower": 16.13028016090393,
           "timepoint": 129,
           "trajectory": "D_sol",
           "upper": 24.360716199874876
          },
          {
           "lower": 16.922249221801756,
           "timepoint": 130,
           "trajectory": "D_sol",
           "upper": 25.60732612609863
          },
          {
           "lower": 17.752960300445558,
           "timepoint": 131,
           "trajectory": "D_sol",
           "upper": 26.91758527755737
          },
          {
           "lower": 18.624359035491942,
           "timepoint": 132,
           "trajectory": "D_sol",
           "upper": 28.294694995880125
          },
          {
           "lower": 19.53841438293457,
           "timepoint": 133,
           "trajectory": "D_sol",
           "upper": 29.74211082458496
          },
          {
           "lower": 20.497257804870607,
           "timepoint": 134,
           "trajectory": "D_sol",
           "upper": 31.263389015197752
          },
          {
           "lower": 21.50302906036377,
           "timepoint": 135,
           "trajectory": "D_sol",
           "upper": 32.862346458435056
          },
          {
           "lower": 22.558052730560302,
           "timepoint": 136,
           "trajectory": "D_sol",
           "upper": 34.54287843704223
          },
          {
           "lower": 23.664645957946778,
           "timepoint": 137,
           "trajectory": "D_sol",
           "upper": 36.30915088653565
          },
          {
           "lower": 24.825441360473633,
           "timepoint": 138,
           "trajectory": "D_sol",
           "upper": 38.16555595397949
          },
          {
           "lower": 26.043033790588378,
           "timepoint": 139,
           "trajectory": "D_sol",
           "upper": 40.11666088104248
          },
          {
           "lower": 27.32025604248047,
           "timepoint": 140,
           "trajectory": "D_sol",
           "upper": 42.16726226806641
          },
          {
           "lower": 28.659957695007325,
           "timepoint": 141,
           "trajectory": "D_sol",
           "upper": 44.32254428863525
          },
          {
           "lower": 30.065203952789307,
           "timepoint": 142,
           "trajectory": "D_sol",
           "upper": 46.58770246505737
          },
          {
           "lower": 31.539218044281007,
           "timepoint": 143,
           "trajectory": "D_sol",
           "upper": 48.96835985183716
          },
          {
           "lower": 33.085335922241214,
           "timepoint": 144,
           "trajectory": "D_sol",
           "upper": 51.47042732238769
          },
          {
           "lower": 34.707082748413086,
           "timepoint": 145,
           "trajectory": "D_sol",
           "upper": 54.100046157836914
          },
          {
           "lower": 36.40814266204834,
           "timepoint": 146,
           "trajectory": "D_sol",
           "upper": 56.86373462677002
          },
          {
           "lower": 38.19244384765625,
           "timepoint": 147,
           "trajectory": "D_sol",
           "upper": 59.768218994140625
          },
          {
           "lower": 40.06398582458496,
           "timepoint": 148,
           "trajectory": "D_sol",
           "upper": 62.820756912231445
          },
          {
           "lower": 42.02708778381348,
           "timepoint": 149,
           "trajectory": "D_sol",
           "upper": 66.02884330749512
          },
          {
           "lower": 44.0860258102417,
           "timepoint": 150,
           "trajectory": "D_sol",
           "upper": 69.40032138824463
          },
          {
           "lower": 46.245693397521975,
           "timepoint": 151,
           "trajectory": "D_sol",
           "upper": 72.94357280731201
          },
          {
           "lower": 48.51091136932373,
           "timepoint": 152,
           "trajectory": "D_sol",
           "upper": 76.66731510162353
          },
          {
           "lower": 50.88685474395752,
           "timepoint": 153,
           "trajectory": "D_sol",
           "upper": 80.58047237396241
          },
          {
           "lower": 53.37888736724854,
           "timepoint": 154,
           "trajectory": "D_sol",
           "upper": 84.69294719696045
          },
          {
           "lower": 55.99266510009765,
           "timepoint": 155,
           "trajectory": "D_sol",
           "upper": 89.01476593017578
          },
          {
           "lower": 58.73411846160889,
           "timepoint": 156,
           "trajectory": "D_sol",
           "upper": 93.55636692047119
          },
          {
           "lower": 61.609477806091306,
           "timepoint": 157,
           "trajectory": "D_sol",
           "upper": 98.32907886505127
          },
          {
           "lower": 64.62523365020752,
           "timepoint": 158,
           "trajectory": "D_sol",
           "upper": 103.34450435638428
          },
          {
           "lower": 67.7882236480713,
           "timepoint": 159,
           "trajectory": "D_sol",
           "upper": 108.61493644714355
          },
          {
           "lower": 71.10565338134765,
           "timepoint": 160,
           "trajectory": "D_sol",
           "upper": 114.1532730102539
          },
          {
           "lower": 74.58485336303711,
           "timepoint": 161,
           "trajectory": "D_sol",
           "upper": 119.97306900024414
          },
          {
           "lower": 78.2338695526123,
           "timepoint": 162,
           "trajectory": "D_sol",
           "upper": 126.0884952545166
          },
          {
           "lower": 82.0609375,
           "timepoint": 163,
           "trajectory": "D_sol",
           "upper": 132.51444091796876
          },
          {
           "lower": 86.07451362609864,
           "timepoint": 164,
           "trajectory": "D_sol",
           "upper": 139.26669578552247
          },
          {
           "lower": 90.28387298583985,
           "timepoint": 165,
           "trajectory": "D_sol",
           "upper": 146.36163482666015
          },
          {
           "lower": 94.69842224121093,
           "timepoint": 166,
           "trajectory": "D_sol",
           "upper": 153.81662292480468
          },
          {
           "lower": 99.32790412902833,
           "timepoint": 167,
           "trajectory": "D_sol",
           "upper": 161.64923057556152
          },
          {
           "lower": 104.18297500610352,
           "timepoint": 168,
           "trajectory": "D_sol",
           "upper": 169.8791435241699
          },
          {
           "lower": 109.2744213104248,
           "timepoint": 169,
           "trajectory": "D_sol",
           "upper": 178.52590980529786
          },
          {
           "lower": 114.61392135620117,
           "timepoint": 170,
           "trajectory": "D_sol",
           "upper": 187.61064224243162
          },
          {
           "lower": 120.21309890747071,
           "timepoint": 171,
           "trajectory": "D_sol",
           "upper": 197.15520248413085
          },
          {
           "lower": 126.08474235534668,
           "timepoint": 172,
           "trajectory": "D_sol",
           "upper": 207.18284339904784
          },
          {
           "lower": 132.24185485839843,
           "timepoint": 173,
           "trajectory": "D_sol",
           "upper": 217.71746520996092
          },
          {
           "lower": 138.6982521057129,
           "timepoint": 174,
           "trajectory": "D_sol",
           "upper": 228.78439865112304
          },
          {
           "lower": 145.46834487915038,
           "timepoint": 175,
           "trajectory": "D_sol",
           "upper": 240.4103935241699
          },
          {
           "lower": 152.56728286743163,
           "timepoint": 176,
           "trajectory": "D_sol",
           "upper": 252.62319259643553
          },
          {
           "lower": 160.01090621948242,
           "timepoint": 177,
           "trajectory": "D_sol",
           "upper": 265.45212173461914
          },
          {
           "lower": 167.81534118652343,
           "timepoint": 178,
           "trajectory": "D_sol",
           "upper": 278.9278228759766
          },
          {
           "lower": 175.99859924316405,
           "timepoint": 179,
           "trajectory": "D_sol",
           "upper": 293.0821502685547
          },
          {
           "lower": 184.57805709838868,
           "timepoint": 180,
           "trajectory": "D_sol",
           "upper": 307.94863052368163
          },
          {
           "lower": 193.573331451416,
           "timepoint": 181,
           "trajectory": "D_sol",
           "upper": 323.56379928588865
          },
          {
           "lower": 203.0038749694824,
           "timepoint": 182,
           "trajectory": "D_sol",
           "upper": 339.96354751586915
          },
          {
           "lower": 212.89116973876952,
           "timepoint": 183,
           "trajectory": "D_sol",
           "upper": 357.18607025146486
          },
          {
           "lower": 223.25620956420897,
           "timepoint": 184,
           "trajectory": "D_sol",
           "upper": 375.27291946411134
          },
          {
           "lower": 234.12206802368163,
           "timepoint": 185,
           "trajectory": "D_sol",
           "upper": 394.2661613464355
          },
          {
           "lower": 245.51252822875978,
           "timepoint": 186,
           "trajectory": "D_sol",
           "upper": 414.21035690307616
          },
          {
           "lower": 257.4524726867676,
           "timepoint": 187,
           "trajectory": "D_sol",
           "upper": 435.15200424194336
          },
          {
           "lower": 269.96795654296875,
           "timepoint": 188,
           "trajectory": "D_sol",
           "upper": 457.13983154296875
          },
          {
           "lower": 283.0862609863281,
           "timepoint": 189,
           "trajectory": "D_sol",
           "upper": 480.22471313476564
          },
          {
           "lower": 296.83594970703126,
           "timepoint": 190,
           "trajectory": "D_sol",
           "upper": 504.46019287109374
          },
          {
           "lower": 311.24692993164064,
           "timepoint": 191,
           "trajectory": "D_sol",
           "upper": 529.9019958496094
          },
          {
           "lower": 326.34950561523436,
           "timepoint": 192,
           "trajectory": "D_sol",
           "upper": 556.6078918457031
          },
          {
           "lower": 342.1770767211914,
           "timepoint": 193,
           "trajectory": "D_sol",
           "upper": 584.6395431518555
          },
          {
           "lower": 358.76315155029295,
           "timepoint": 194,
           "trajectory": "D_sol",
           "upper": 614.0601211547852
          },
          {
           "lower": 376.1433853149414,
           "timepoint": 195,
           "trajectory": "D_sol",
           "upper": 644.936784362793
          },
          {
           "lower": 394.35444793701174,
           "timepoint": 196,
           "trajectory": "D_sol",
           "upper": 677.3378433227539
          },
          {
           "lower": 413.4360809326172,
           "timepoint": 197,
           "trajectory": "D_sol",
           "upper": 711.3366851806641
          },
          {
           "lower": 433.4275863647461,
           "timepoint": 198,
           "trajectory": "D_sol",
           "upper": 747.0093338012695
          },
          {
           "lower": 454.3713943481445,
           "timepoint": 199,
           "trajectory": "D_sol",
           "upper": 784.4341171264648
          },
          {
           "lower": 476.31165618896483,
           "timepoint": 200,
           "trajectory": "D_sol",
           "upper": 823.6935012817382
          },
          {
           "lower": 499.29358673095703,
           "timepoint": 201,
           "trajectory": "D_sol",
           "upper": 864.8731307983398
          },
          {
           "lower": 523.3657485961915,
           "timepoint": 202,
           "trajectory": "D_sol",
           "upper": 908.0629318237304
          },
          {
           "lower": 548.5774536132812,
           "timepoint": 203,
           "trajectory": "D_sol",
           "upper": 953.3555297851562
          },
          {
           "lower": 574.9805969238281,
           "timepoint": 204,
           "trajectory": "D_sol",
           "upper": 1000.8481384277344
          },
          {
           "lower": 602.6298645019531,
           "timepoint": 205,
           "trajectory": "D_sol",
           "upper": 1050.6410095214844
          },
          {
           "lower": 631.5809875488281,
           "timepoint": 206,
           "trajectory": "D_sol",
           "upper": 1102.8405212402345
          },
          {
           "lower": 661.8926025390625,
           "timepoint": 207,
           "trajectory": "D_sol",
           "upper": 1157.5544189453126
          },
          {
           "lower": 693.6254913330079,
           "timepoint": 208,
           "trajectory": "D_sol",
           "upper": 1214.894955444336
          },
          {
           "lower": 726.8439239501953,
           "timepoint": 209,
           "trajectory": "D_sol",
           "upper": 1274.9802337646483
          },
          {
           "lower": 761.6131469726563,
           "timepoint": 210,
           "trajectory": "D_sol",
           "upper": 1337.9359252929687
          },
          {
           "lower": 798.0014709472656,
           "timepoint": 211,
           "trajectory": "D_sol",
           "upper": 1403.8821960449218
          },
          {
           "lower": 836.0803283691406,
           "timepoint": 212,
           "trajectory": "D_sol",
           "upper": 1472.9534851074218
          },
          {
           "lower": 875.9238983154297,
           "timepoint": 213,
           "trajectory": "D_sol",
           "upper": 1545.2836822509764
          },
          {
           "lower": 917.6083465576172,
           "timepoint": 214,
           "trajectory": "D_sol",
           "upper": 1621.012564086914
          },
          {
           "lower": 961.2132110595703,
           "timepoint": 215,
           "trajectory": "D_sol",
           "upper": 1700.2879486083984
          },
          {
           "lower": 1006.8212310791016,
           "timepoint": 216,
           "trajectory": "D_sol",
           "upper": 1783.2536590576171
          },
          {
           "lower": 1054.5170043945313,
           "timepoint": 217,
           "trajectory": "D_sol",
           "upper": 1870.0701538085937
          },
          {
           "lower": 1104.3901245117188,
           "timepoint": 218,
           "trajectory": "D_sol",
           "upper": 1960.8906372070312
          },
          {
           "lower": 1156.5293579101562,
           "timepoint": 219,
           "trajectory": "D_sol",
           "upper": 2055.8800659179688
          },
          {
           "lower": 1211.0309509277345,
           "timepoint": 220,
           "trajectory": "D_sol",
           "upper": 2155.205987548828
          },
          {
           "lower": 1267.9935974121095,
           "timepoint": 221,
           "trajectory": "D_sol",
           "upper": 2259.040704345703
          },
          {
           "lower": 1327.5158203125,
           "timepoint": 222,
           "trajectory": "D_sol",
           "upper": 2367.55986328125
          },
          {
           "lower": 1389.702001953125,
           "timepoint": 223,
           "trajectory": "D_sol",
           "upper": 2480.944970703125
          },
          {
           "lower": 1454.6583068847656,
           "timepoint": 224,
           "trajectory": "D_sol",
           "upper": 2599.3806335449217
          },
          {
           "lower": 1522.4950439453125,
           "timepoint": 225,
           "trajectory": "D_sol",
           "upper": 2723.053295898437
          },
          {
           "lower": 1593.3272277832032,
           "timepoint": 226,
           "trajectory": "D_sol",
           "upper": 2852.161907958984
          },
          {
           "lower": 1667.2682983398438,
           "timepoint": 227,
           "trajectory": "D_sol",
           "upper": 2986.884289550781
          },
          {
           "lower": 1744.437548828125,
           "timepoint": 228,
           "trajectory": "D_sol",
           "upper": 3127.4369628906247
          },
          {
           "lower": 1824.9559020996094,
           "timepoint": 229,
           "trajectory": "D_sol",
           "upper": 3274.012481689453
          },
          {
           "lower": 1908.9554382324218,
           "timepoint": 230,
           "trajectory": "D_sol",
           "upper": 3426.8132385253907
          },
          {
           "lower": 1996.5557739257813,
           "timepoint": 231,
           "trajectory": "D_sol",
           "upper": 3586.0421264648435
          },
          {
           "lower": 2087.890869140625,
           "timepoint": 232,
           "trajectory": "D_sol",
           "upper": 3751.910888671875
          },
          {
           "lower": 2183.0911865234375,
           "timepoint": 233,
           "trajectory": "D_sol",
           "upper": 3924.6197509765625
          },
          {
           "lower": 2282.2910766601562,
           "timepoint": 234,
           "trajectory": "D_sol",
           "upper": 4104.374694824219
          },
          {
           "lower": 2385.6350341796874,
           "timepoint": 235,
           "trajectory": "D_sol",
           "upper": 4291.381079101562
          },
          {
           "lower": 2493.253283691406,
           "timepoint": 236,
           "trajectory": "D_sol",
           "upper": 4485.841198730469
          },
          {
           "lower": 2605.29248046875,
           "timepoint": 237,
           "trajectory": "D_sol",
           "upper": 4687.95751953125
          },
          {
           "lower": 2721.8905029296875,
           "timepoint": 238,
           "trajectory": "D_sol",
           "upper": 4897.9283447265625
          },
          {
           "lower": 2843.191516113281,
           "timepoint": 239,
           "trajectory": "D_sol",
           "upper": 5115.943981933594
          },
          {
           "lower": 2969.34287109375,
           "timepoint": 240,
           "trajectory": "D_sol",
           "upper": 5342.198144531249
          },
          {
           "lower": 3100.4848388671876,
           "timepoint": 241,
           "trajectory": "D_sol",
           "upper": 5576.864282226562
          },
          {
           "lower": 3236.7650390625,
           "timepoint": 242,
           "trajectory": "D_sol",
           "upper": 5820.1236328125
          },
          {
           "lower": 3378.3201416015627,
           "timepoint": 243,
           "trajectory": "D_sol",
           "upper": 6072.147143554687
          },
          {
           "lower": 3525.2995361328126,
           "timepoint": 244,
           "trajectory": "D_sol",
           "upper": 6333.074975585937
          },
          {
           "lower": 3677.8430908203127,
           "timepoint": 245,
           "trajectory": "D_sol",
           "upper": 6603.068530273437
          },
          {
           "lower": 3836.087512207031,
           "timepoint": 246,
           "trajectory": "D_sol",
           "upper": 6882.251110839844
          },
          {
           "lower": 4000.177001953125,
           "timepoint": 247,
           "trajectory": "D_sol",
           "upper": 7170.765380859375
          },
          {
           "lower": 4170.2293701171875,
           "timepoint": 248,
           "trajectory": "D_sol",
           "upper": 7468.6920166015625
          },
          {
           "lower": 4346.38837890625,
           "timepoint": 249,
           "trajectory": "D_sol",
           "upper": 7776.13896484375
          },
          {
           "lower": 4528.767041015625,
           "timepoint": 250,
           "trajectory": "D_sol",
           "upper": 8093.161669921875
          },
          {
           "lower": 4717.505200195313,
           "timepoint": 251,
           "trajectory": "D_sol",
           "upper": 8419.824389648438
          },
          {
           "lower": 4912.6943359375,
           "timepoint": 252,
           "trajectory": "D_sol",
           "upper": 8756.1689453125
          },
          {
           "lower": 5114.447900390625,
           "timepoint": 253,
           "trajectory": "D_sol",
           "upper": 9102.197607421875
          },
          {
           "lower": 5322.876049804688,
           "timepoint": 254,
           "trajectory": "D_sol",
           "upper": 9457.911547851561
          },
          {
           "lower": 5538.053002929688,
           "timepoint": 255,
           "trajectory": "D_sol",
           "upper": 9823.279516601562
          },
          {
           "lower": 5760.069262695312,
           "timepoint": 256,
           "trajectory": "D_sol",
           "upper": 10198.236889648437
          },
          {
           "lower": 5988.99833984375,
           "timepoint": 257,
           "trajectory": "D_sol",
           "upper": 10582.71259765625
          },
          {
           "lower": 6224.894677734375,
           "timepoint": 258,
           "trajectory": "D_sol",
           "upper": 10976.598486328125
          },
          {
           "lower": 6467.813671875,
           "timepoint": 259,
           "trajectory": "D_sol",
           "upper": 11379.760546874999
          },
          {
           "lower": 6717.7884521484375,
           "timepoint": 260,
           "trajectory": "D_sol",
           "upper": 11792.046020507812
          },
          {
           "lower": 6974.8435546875,
           "timepoint": 261,
           "trajectory": "D_sol",
           "upper": 12213.2619140625
          },
          {
           "lower": 7238.988598632813,
           "timepoint": 262,
           "trajectory": "D_sol",
           "upper": 12643.186694335936
          },
          {
           "lower": 7510.222021484375,
           "timepoint": 263,
           "trajectory": "D_sol",
           "upper": 13081.597314453125
          },
          {
           "lower": 7788.514794921875,
           "timepoint": 264,
           "trajectory": "D_sol",
           "upper": 13528.197119140625
          },
          {
           "lower": 8073.8419189453125,
           "timepoint": 265,
           "trajectory": "D_sol",
           "upper": 13982.722045898438
          },
          {
           "lower": 8366.144482421874,
           "timepoint": 266,
           "trajectory": "D_sol",
           "upper": 14444.835009765624
          },
          {
           "lower": 8665.3509765625,
           "timepoint": 267,
           "trajectory": "D_sol",
           "upper": 14914.1880859375
          },
          {
           "lower": 8971.37529296875,
           "timepoint": 268,
           "trajectory": "D_sol",
           "upper": 15390.38447265625
          },
          {
           "lower": 9284.11220703125,
           "timepoint": 269,
           "trajectory": "D_sol",
           "upper": 15873.04208984375
          },
          {
           "lower": 9603.422998046875,
           "timepoint": 270,
           "trajectory": "D_sol",
           "upper": 16361.757666015625
          },
          {
           "lower": 9929.205859375,
           "timepoint": 271,
           "trajectory": "D_sol",
           "upper": 16856.055859375
          },
          {
           "lower": 10261.26005859375,
           "timepoint": 272,
           "trajectory": "D_sol",
           "upper": 17355.48017578125
          },
          {
           "lower": 10599.42294921875,
           "timepoint": 273,
           "trajectory": "D_sol",
           "upper": 17859.55947265625
          },
          {
           "lower": 10943.488818359376,
           "timepoint": 274,
           "trajectory": "D_sol",
           "upper": 18367.812939453124
          },
          {
           "lower": 11293.248681640625,
           "timepoint": 275,
           "trajectory": "D_sol",
           "upper": 18879.680029296876
          },
          {
           "lower": 11648.471533203125,
           "timepoint": 276,
           "trajectory": "D_sol",
           "upper": 19394.726708984374
          },
          {
           "lower": 12008.896728515625,
           "timepoint": 277,
           "trajectory": "D_sol",
           "upper": 19912.324951171875
          },
          {
           "lower": 12374.2529296875,
           "timepoint": 278,
           "trajectory": "D_sol",
           "upper": 20431.9775390625
          },
          {
           "lower": 12744.29326171875,
           "timepoint": 279,
           "trajectory": "D_sol",
           "upper": 20953.14228515625
          },
          {
           "lower": 13118.673828125,
           "timepoint": 280,
           "trajectory": "D_sol",
           "upper": 21475.244140625
          },
          {
           "lower": 13497.09501953125,
           "timepoint": 281,
           "trajectory": "D_sol",
           "upper": 21997.79365234375
          },
          {
           "lower": 13879.26123046875,
           "timepoint": 282,
           "trajectory": "D_sol",
           "upper": 22520.20166015625
          },
          {
           "lower": 14264.7974609375,
           "timepoint": 283,
           "trajectory": "D_sol",
           "upper": 23041.9173828125
          },
          {
           "lower": 14653.371875,
           "timepoint": 284,
           "trajectory": "D_sol",
           "upper": 23562.43671875
          },
          {
           "lower": 15044.620458984375,
           "timepoint": 285,
           "trajectory": "D_sol",
           "upper": 24081.224267578124
          },
          {
           "lower": 15438.1859375,
           "timepoint": 286,
           "trajectory": "D_sol",
           "upper": 24597.767187499998
          },
          {
           "lower": 15833.6853515625,
           "timepoint": 287,
           "trajectory": "D_sol",
           "upper": 25111.5919921875
          },
          {
           "lower": 16230.755126953125,
           "timepoint": 288,
           "trajectory": "D_sol",
           "upper": 25622.118896484375
          },
          {
           "lower": 16628.987548828125,
           "timepoint": 289,
           "trajectory": "D_sol",
           "upper": 26128.984130859375
          },
          {
           "lower": 17028.02734375,
           "timepoint": 290,
           "trajectory": "D_sol",
           "upper": 26631.6953125
          },
          {
           "lower": 17427.47451171875,
           "timepoint": 291,
           "trajectory": "D_sol",
           "upper": 27129.824316406248
          },
          {
           "lower": 17826.9640625,
           "timepoint": 292,
           "trajectory": "D_sol",
           "upper": 27622.99296875
          },
          {
           "lower": 18226.09130859375,
           "timepoint": 293,
           "trajectory": "D_sol",
           "upper": 28110.71923828125
          },
          {
           "lower": 18624.4703125,
           "timepoint": 294,
           "trajectory": "D_sol",
           "upper": 28592.73671875
          },
          {
           "lower": 19021.7994140625,
           "timepoint": 295,
           "trajectory": "D_sol",
           "upper": 29068.6576171875
          },
          {
           "lower": 19417.63037109375,
           "timepoint": 296,
           "trajectory": "D_sol",
           "upper": 29538.15673828125
          },
          {
           "lower": 19811.66005859375,
           "timepoint": 297,
           "trajectory": "D_sol",
           "upper": 30000.959082031248
          },
          {
           "lower": 20203.51962890625,
           "timepoint": 298,
           "trajectory": "D_sol",
           "upper": 30456.80654296875
          },
          {
           "lower": 20592.85302734375,
           "timepoint": 299,
           "trajectory": "D_sol",
           "upper": 30905.40283203125
          },
          {
           "lower": 20979.38671875,
           "timepoint": 300,
           "trajectory": "D_sol",
           "upper": 31346.61328125
          },
          {
           "lower": 21362.730859375,
           "timepoint": 301,
           "trajectory": "D_sol",
           "upper": 31780.167578124998
          },
          {
           "lower": 21742.64521484375,
           "timepoint": 302,
           "trajectory": "D_sol",
           "upper": 32205.89580078125
          },
          {
           "lower": 22118.85498046875,
           "timepoint": 303,
           "trajectory": "D_sol",
           "upper": 32623.70947265625
          },
          {
           "lower": 22491.0568359375,
           "timepoint": 304,
           "trajectory": "D_sol",
           "upper": 33033.4705078125
          },
          {
           "lower": 22858.99619140625,
           "timepoint": 305,
           "trajectory": "D_sol",
           "upper": 33434.94716796875
          },
          {
           "lower": 23222.447265625,
           "timepoint": 306,
           "trajectory": "D_sol",
           "upper": 33828.208984375
          },
          {
           "lower": 23581.185546875,
           "timepoint": 307,
           "trajectory": "D_sol",
           "upper": 34213.103515625
          },
          {
           "lower": 23934.987109375,
           "timepoint": 308,
           "trajectory": "D_sol",
           "upper": 34589.700390625
          },
          {
           "lower": 24283.66142578125,
           "timepoint": 309,
           "trajectory": "D_sol",
           "upper": 34957.86005859375
          },
          {
           "lower": 24627.08525390625,
           "timepoint": 310,
           "trajectory": "D_sol",
           "upper": 35317.63154296875
          },
          {
           "lower": 24965.03447265625,
           "timepoint": 311,
           "trajectory": "D_sol",
           "upper": 35669.01044921875
          },
          {
           "lower": 25297.427734375,
           "timepoint": 312,
           "trajectory": "D_sol",
           "upper": 36012.033203125
          },
          {
           "lower": 25624.0955078125,
           "timepoint": 313,
           "trajectory": "D_sol",
           "upper": 36346.7130859375
          },
          {
           "lower": 25944.93212890625,
           "timepoint": 314,
           "trajectory": "D_sol",
           "upper": 36673.15185546875
          },
          {
           "lower": 26259.87568359375,
           "timepoint": 315,
           "trajectory": "D_sol",
           "upper": 36991.36845703125
          },
          {
           "lower": 26568.77158203125,
           "timepoint": 316,
           "trajectory": "D_sol",
           "upper": 37301.48427734375
          },
          {
           "lower": 26871.71552734375,
           "timepoint": 317,
           "trajectory": "D_sol",
           "upper": 37603.55986328125
          },
          {
           "lower": 27168.51455078125,
           "timepoint": 318,
           "trajectory": "D_sol",
           "upper": 37897.72568359375
          },
          {
           "lower": 27459.17412109375,
           "timepoint": 319,
           "trajectory": "D_sol",
           "upper": 38184.01533203125
          },
          {
           "lower": 27743.66953125,
           "timepoint": 320,
           "trajectory": "D_sol",
           "upper": 38462.69765625
          },
          {
           "lower": 28021.9783203125,
           "timepoint": 321,
           "trajectory": "D_sol",
           "upper": 38733.7677734375
          },
          {
           "lower": 28294.169921875,
           "timepoint": 322,
           "trajectory": "D_sol",
           "upper": 38997.384765625
          },
          {
           "lower": 28560.17587890625,
           "timepoint": 323,
           "trajectory": "D_sol",
           "upper": 39253.68935546875
          },
          {
           "lower": 28820.0482421875,
           "timepoint": 324,
           "trajectory": "D_sol",
           "upper": 39502.7916015625
          },
          {
           "lower": 29073.838671875,
           "timepoint": 325,
           "trajectory": "D_sol",
           "upper": 39744.934765625
          },
          {
           "lower": 29321.59619140625,
           "timepoint": 326,
           "trajectory": "D_sol",
           "upper": 39980.20654296875
          },
          {
           "lower": 29563.284765625,
           "timepoint": 327,
           "trajectory": "D_sol",
           "upper": 40208.660546875
          },
          {
           "lower": 29799.0640625,
           "timepoint": 328,
           "trajectory": "D_sol",
           "upper": 40430.6234375
          },
          {
           "lower": 30028.93720703125,
           "timepoint": 329,
           "trajectory": "D_sol",
           "upper": 40646.08427734375
          },
          {
           "lower": 30253.0482421875,
           "timepoint": 330,
           "trajectory": "D_sol",
           "upper": 40855.3541015625
          },
          {
           "lower": 30471.420703125,
           "timepoint": 331,
           "trajectory": "D_sol",
           "upper": 41058.423046875
          },
          {
           "lower": 30684.11748046875,
           "timepoint": 332,
           "trajectory": "D_sol",
           "upper": 41255.57197265625
          },
          {
           "lower": 30891.264453125,
           "timepoint": 333,
           "trajectory": "D_sol",
           "upper": 41446.907421875
          },
          {
           "lower": 31092.9412109375,
           "timepoint": 334,
           "trajectory": "D_sol",
           "upper": 41632.5705078125
          },
          {
           "lower": 31289.262109375,
           "timepoint": 335,
           "trajectory": "D_sol",
           "upper": 41812.800390625
          },
          {
           "lower": 31480.295703125,
           "timepoint": 336,
           "trajectory": "D_sol",
           "upper": 41987.633984375
          },
          {
           "lower": 31666.17392578125,
           "timepoint": 337,
           "trajectory": "D_sol",
           "upper": 42157.29287109375
          },
          {
           "lower": 31846.9453125,
           "timepoint": 338,
           "trajectory": "D_sol",
           "upper": 42321.890625
          },
          {
           "lower": 32022.830078125,
           "timepoint": 339,
           "trajectory": "D_sol",
           "upper": 42481.568359375
          },
          {
           "lower": 32193.876953125,
           "timepoint": 340,
           "trajectory": "D_sol",
           "upper": 42636.513671875
          },
          {
           "lower": 32360.0609375,
           "timepoint": 341,
           "trajectory": "D_sol",
           "upper": 42786.8140625
          },
          {
           "lower": 32521.64033203125,
           "timepoint": 342,
           "trajectory": "D_sol",
           "upper": 42932.63115234375
          },
          {
           "lower": 32678.754296875,
           "timepoint": 343,
           "trajectory": "D_sol",
           "upper": 43074.112890625
          },
          {
           "lower": 32831.41875,
           "timepoint": 344,
           "trajectory": "D_sol",
           "upper": 43211.3859375
          },
          {
           "lower": 32979.7779296875,
           "timepoint": 345,
           "trajectory": "D_sol",
           "upper": 43344.5541015625
          },
          {
           "lower": 33123.93525390625,
           "timepoint": 346,
           "trajectory": "D_sol",
           "upper": 43473.78935546875
          },
          {
           "lower": 33263.999609375,
           "timepoint": 347,
           "trajectory": "D_sol",
           "upper": 43599.156640625
          },
          {
           "lower": 33400.089453125,
           "timepoint": 348,
           "trajectory": "D_sol",
           "upper": 43720.832421875
          },
          {
           "lower": 33532.28515625,
           "timepoint": 349,
           "trajectory": "D_sol",
           "upper": 43838.90234375
          },
          {
           "lower": 33660.7302734375,
           "timepoint": 350,
           "trajectory": "D_sol",
           "upper": 43953.4923828125
          },
          {
           "lower": 33785.5287109375,
           "timepoint": 351,
           "trajectory": "D_sol",
           "upper": 44064.6783203125
          },
          {
           "lower": 33906.678125,
           "timepoint": 352,
           "trajectory": "D_sol",
           "upper": 44172.696875
          },
          {
           "lower": 34024.409375,
           "timepoint": 353,
           "trajectory": "D_sol",
           "upper": 44277.5046875
          },
          {
           "lower": 34138.7728515625,
           "timepoint": 354,
           "trajectory": "D_sol",
           "upper": 44379.2857421875
          },
          {
           "lower": 34249.8677734375,
           "timepoint": 355,
           "trajectory": "D_sol",
           "upper": 44478.0267578125
          },
          {
           "lower": 34357.8306640625,
           "timepoint": 356,
           "trajectory": "D_sol",
           "upper": 44574.0716796875
          },
          {
           "lower": 34462.628515625,
           "timepoint": 357,
           "trajectory": "D_sol",
           "upper": 44667.285546875
          },
          {
           "lower": 34564.4611328125,
           "timepoint": 358,
           "trajectory": "D_sol",
           "upper": 44757.8083984375
          },
          {
           "lower": 34663.433984375,
           "timepoint": 359,
           "trajectory": "D_sol",
           "upper": 44845.745703125
          },
          {
           "lower": 34759.5609375,
           "timepoint": 360,
           "trajectory": "D_sol",
           "upper": 44931.2203125
          },
          {
           "lower": 34852.9029296875,
           "timepoint": 361,
           "trajectory": "D_sol",
           "upper": 45014.2650390625
          },
          {
           "lower": 34943.76171875,
           "timepoint": 362,
           "trajectory": "D_sol",
           "upper": 45094.98828125
          },
          {
           "lower": 35031.9828125,
           "timepoint": 363,
           "trajectory": "D_sol",
           "upper": 45173.478125
          },
          {
           "lower": 35117.691796875,
           "timepoint": 364,
           "trajectory": "D_sol",
           "upper": 45249.730078125
          },
          {
           "lower": 35201.03671875,
           "timepoint": 365,
           "trajectory": "D_sol",
           "upper": 45323.88515625
          },
          {
           "lower": 35281.99375,
           "timepoint": 366,
           "trajectory": "D_sol",
           "upper": 45396.053125
          },
          {
           "lower": 35360.7462890625,
           "timepoint": 367,
           "trajectory": "D_sol",
           "upper": 45466.2732421875
          },
          {
           "lower": 35437.2693359375,
           "timepoint": 368,
           "trajectory": "D_sol",
           "upper": 45534.4923828125
          },
          {
           "lower": 35511.70234375,
           "timepoint": 369,
           "trajectory": "D_sol",
           "upper": 45600.89921875
          },
          {
           "lower": 35584.098046875,
           "timepoint": 370,
           "trajectory": "D_sol",
           "upper": 45665.581640625
          },
          {
           "lower": 35654.4677734375,
           "timepoint": 371,
           "trajectory": "D_sol",
           "upper": 45728.4736328125
          },
          {
           "lower": 35723.01953125,
           "timepoint": 372,
           "trajectory": "D_sol",
           "upper": 45789.80078125
          },
          {
           "lower": 35789.5330078125,
           "timepoint": 373,
           "trajectory": "D_sol",
           "upper": 45849.4552734375
          },
          {
           "lower": 35854.3484375,
           "timepoint": 374,
           "trajectory": "D_sol",
           "upper": 45907.5734375
          },
          {
           "lower": 35917.398046875,
           "timepoint": 375,
           "trajectory": "D_sol",
           "upper": 45964.203515625
          },
          {
           "lower": 35978.7458984375,
           "timepoint": 376,
           "trajectory": "D_sol",
           "upper": 46019.3673828125
          },
          {
           "lower": 36038.4953125,
           "timepoint": 377,
           "trajectory": "D_sol",
           "upper": 46073.1296875
          },
          {
           "lower": 36096.6115234375,
           "timepoint": 378,
           "trajectory": "D_sol",
           "upper": 46125.5330078125
          },
          {
           "lower": 36153.2859375,
           "timepoint": 379,
           "trajectory": "D_sol",
           "upper": 46176.628125
          },
          {
           "lower": 36208.4615234375,
           "timepoint": 380,
           "trajectory": "D_sol",
           "upper": 46226.4564453125
          },
          {
           "lower": 36262.136328125,
           "timepoint": 381,
           "trajectory": "D_sol",
           "upper": 46275.051171875
          },
          {
           "lower": 36314.4400390625,
           "timepoint": 382,
           "trajectory": "D_sol",
           "upper": 46322.4857421875
          },
          {
           "lower": 36365.430078125,
           "timepoint": 383,
           "trajectory": "D_sol",
           "upper": 46368.726171875
          },
          {
           "lower": 36415.089453125,
           "timepoint": 384,
           "trajectory": "D_sol",
           "upper": 46413.871484375
          },
          {
           "lower": 36463.5125,
           "timepoint": 385,
           "trajectory": "D_sol",
           "upper": 46457.95625
          },
          {
           "lower": 36510.783203125,
           "timepoint": 386,
           "trajectory": "D_sol",
           "upper": 46500.958984375
          },
          {
           "lower": 36556.7208984375,
           "timepoint": 387,
           "trajectory": "D_sol",
           "upper": 46543.0330078125
          },
          {
           "lower": 36601.61171875,
           "timepoint": 388,
           "trajectory": "D_sol",
           "upper": 46584.13046875
          },
          {
           "lower": 36645.357421875,
           "timepoint": 389,
           "trajectory": "D_sol",
           "upper": 46624.212890625
          },
          {
           "lower": 36688.015234375,
           "timepoint": 390,
           "trajectory": "D_sol",
           "upper": 46663.383203125
          },
          {
           "lower": 36729.71328125,
           "timepoint": 391,
           "trajectory": "D_sol",
           "upper": 46701.75546875
          },
          {
           "lower": 36770.403515625,
           "timepoint": 392,
           "trajectory": "D_sol",
           "upper": 46739.260546875
          },
          {
           "lower": 36810.04765625,
           "timepoint": 393,
           "trajectory": "D_sol",
           "upper": 46775.87421875
          },
          {
           "lower": 36848.786328125,
           "timepoint": 394,
           "trajectory": "D_sol",
           "upper": 46811.737109375
          },
          {
           "lower": 36886.6130859375,
           "timepoint": 395,
           "trajectory": "D_sol",
           "upper": 46846.7970703125
          },
          {
           "lower": 36923.5576171875,
           "timepoint": 396,
           "trajectory": "D_sol",
           "upper": 46881.1259765625
          },
          {
           "lower": 36959.6640625,
           "timepoint": 397,
           "trajectory": "D_sol",
           "upper": 46914.71875
          },
          {
           "lower": 36994.9697265625,
           "timepoint": 398,
           "trajectory": "D_sol",
           "upper": 46947.6513671875
          },
          {
           "lower": 37029.39140625,
           "timepoint": 399,
           "trajectory": "D_sol",
           "upper": 46979.81953125
          },
          {
           "lower": 37063.1283203125,
           "timepoint": 400,
           "trajectory": "D_sol",
           "upper": 47011.3521484375
          },
          {
           "lower": 37096.0109375,
           "timepoint": 401,
           "trajectory": "D_sol",
           "upper": 47042.2625
          },
          {
           "lower": 37128.2029296875,
           "timepoint": 402,
           "trajectory": "D_sol",
           "upper": 47072.4259765625
          },
          {
           "lower": 37159.715234375,
           "timepoint": 403,
           "trajectory": "D_sol",
           "upper": 47102.261328125
          },
          {
           "lower": 37190.576171875,
           "timepoint": 404,
           "trajectory": "D_sol",
           "upper": 47131.392578125
          },
          {
           "lower": 37220.6830078125,
           "timepoint": 405,
           "trajectory": "D_sol",
           "upper": 47159.9068359375
          },
          {
           "lower": 37250.2615234375,
           "timepoint": 406,
           "trajectory": "D_sol",
           "upper": 47187.9455078125
          },
          {
           "lower": 37279.066796875,
           "timepoint": 407,
           "trajectory": "D_sol",
           "upper": 47215.425390625
          },
          {
           "lower": 37307.3373046875,
           "timepoint": 408,
           "trajectory": "D_sol",
           "upper": 47242.3775390625
          },
          {
           "lower": 37335.0390625,
           "timepoint": 409,
           "trajectory": "D_sol",
           "upper": 47268.859375
          },
          {
           "lower": 37362.1509765625,
           "timepoint": 410,
           "trajectory": "D_sol",
           "upper": 47294.8216796875
          },
          {
           "lower": 37388.751171875,
           "timepoint": 411,
           "trajectory": "D_sol",
           "upper": 47320.342578125
          },
          {
           "lower": 37414.8681640625,
           "timepoint": 412,
           "trajectory": "D_sol",
           "upper": 47345.4013671875
          },
          {
           "lower": 37440.3130859375,
           "timepoint": 413,
           "trajectory": "D_sol",
           "upper": 47369.9955078125
          },
          {
           "lower": 37465.37578125,
           "timepoint": 414,
           "trajectory": "D_sol",
           "upper": 47394.21796875
          },
          {
           "lower": 37489.8669921875,
           "timepoint": 415,
           "trajectory": "D_sol",
           "upper": 47417.9884765625
          },
          {
           "lower": 37513.9126953125,
           "timepoint": 416,
           "trajectory": "D_sol",
           "upper": 47441.3802734375
          },
          {
           "lower": 37537.5501953125,
           "timepoint": 417,
           "trajectory": "D_sol",
           "upper": 47464.3990234375
          },
          {
           "lower": 37560.7470703125,
           "timepoint": 418,
           "trajectory": "D_sol",
           "upper": 47486.9912109375
          },
          {
           "lower": 37583.4380859375,
           "timepoint": 419,
           "trajectory": "D_sol",
           "upper": 47509.2533203125
          },
          {
           "lower": 37605.7390625,
           "timepoint": 420,
           "trajectory": "D_sol",
           "upper": 47531.1359375
          },
          {
           "lower": 37627.659765625,
           "timepoint": 421,
           "trajectory": "D_sol",
           "upper": 47552.683984375
          },
          {
           "lower": 37649.1375,
           "timepoint": 422,
           "trajectory": "D_sol",
           "upper": 47573.9015625
          },
          {
           "lower": 37670.313671875,
           "timepoint": 423,
           "trajectory": "D_sol",
           "upper": 47594.803515625
          },
          {
           "lower": 37691.0765625,
           "timepoint": 424,
           "trajectory": "D_sol",
           "upper": 47615.3765625
          },
          {
           "lower": 37711.475390625,
           "timepoint": 425,
           "trajectory": "D_sol",
           "upper": 47635.641796875
          },
          {
           "lower": 37731.567578125,
           "timepoint": 426,
           "trajectory": "D_sol",
           "upper": 47655.635546875
          },
          {
           "lower": 37751.2390625,
           "timepoint": 427,
           "trajectory": "D_sol",
           "upper": 47675.3
          },
          {
           "lower": 37770.6359375,
           "timepoint": 428,
           "trajectory": "D_sol",
           "upper": 47694.7390625
          },
          {
           "lower": 37789.689453125,
           "timepoint": 429,
           "trajectory": "D_sol",
           "upper": 47713.912109375
          },
          {
           "lower": 37808.4224609375,
           "timepoint": 430,
           "trajectory": "D_sol",
           "upper": 47732.7611328125
          },
          {
           "lower": 37826.900390625,
           "timepoint": 431,
           "trajectory": "D_sol",
           "upper": 47751.404296875
          },
          {
           "lower": 37845.04921875,
           "timepoint": 432,
           "trajectory": "D_sol",
           "upper": 47769.77109375
          },
          {
           "lower": 37862.9400390625,
           "timepoint": 433,
           "trajectory": "D_sol",
           "upper": 47787.9466796875
          },
          {
           "lower": 37880.5412109375,
           "timepoint": 434,
           "trajectory": "D_sol",
           "upper": 47805.8220703125
          },
          {
           "lower": 37897.8720703125,
           "timepoint": 435,
           "trajectory": "D_sol",
           "upper": 47823.4833984375
          },
          {
           "lower": 37914.9345703125,
           "timepoint": 436,
           "trajectory": "D_sol",
           "upper": 47840.9677734375
          },
          {
           "lower": 37931.766796875,
           "timepoint": 437,
           "trajectory": "D_sol",
           "upper": 47858.225390625
          },
          {
           "lower": 37948.359765625,
           "timepoint": 438,
           "trajectory": "D_sol",
           "upper": 47875.296484375
          },
          {
           "lower": 37964.6841796875,
           "timepoint": 439,
           "trajectory": "D_sol",
           "upper": 47892.1166015625
          },
          {
           "lower": 37980.7720703125,
           "timepoint": 440,
           "trajectory": "D_sol",
           "upper": 47908.7318359375
          },
          {
           "lower": 37996.6763671875,
           "timepoint": 441,
           "trajectory": "D_sol",
           "upper": 47925.2337890625
          },
          {
           "lower": 38012.3388671875,
           "timepoint": 442,
           "trajectory": "D_sol",
           "upper": 47941.5712890625
          },
          {
           "lower": 38027.79375,
           "timepoint": 443,
           "trajectory": "D_sol",
           "upper": 47957.6203125
          },
          {
           "lower": 38043.0248046875,
           "timepoint": 444,
           "trajectory": "D_sol",
           "upper": 47973.4947265625
          },
          {
           "lower": 38058.0873046875,
           "timepoint": 445,
           "trajectory": "D_sol",
           "upper": 47989.3306640625
          },
          {
           "lower": 38072.9578125,
           "timepoint": 446,
           "trajectory": "D_sol",
           "upper": 48004.9640625
          },
          {
           "lower": 38087.6994140625,
           "timepoint": 447,
           "trajectory": "D_sol",
           "upper": 48020.3982421875
          },
          {
           "lower": 38102.0818359375,
           "timepoint": 448,
           "trajectory": "D_sol",
           "upper": 48035.6876953125
          },
          {
           "lower": 38116.361328125,
           "timepoint": 449,
           "trajectory": "D_sol",
           "upper": 48050.849609375
          },
          {
           "lower": 38130.519140625,
           "timepoint": 450,
           "trajectory": "D_sol",
           "upper": 48065.879296875
          },
          {
           "lower": 38144.453515625,
           "timepoint": 451,
           "trajectory": "D_sol",
           "upper": 48080.812109375
          },
          {
           "lower": 38158.2853515625,
           "timepoint": 452,
           "trajectory": "D_sol",
           "upper": 48095.4841796875
          },
          {
           "lower": 38171.927734375,
           "timepoint": 453,
           "trajectory": "D_sol",
           "upper": 48110.072265625
          },
          {
           "lower": 38185.4150390625,
           "timepoint": 454,
           "trajectory": "D_sol",
           "upper": 48124.5966796875
          },
          {
           "lower": 38198.7505859375,
           "timepoint": 455,
           "trajectory": "D_sol",
           "upper": 48138.9798828125
          },
          {
           "lower": 38211.9529296875,
           "timepoint": 456,
           "trajectory": "D_sol",
           "upper": 48153.2228515625
          },
          {
           "lower": 38224.982421875,
           "timepoint": 457,
           "trajectory": "D_sol",
           "upper": 48167.345703125
          },
          {
           "lower": 38237.919140625,
           "timepoint": 458,
           "trajectory": "D_sol",
           "upper": 48181.323046875
          },
          {
           "lower": 38250.7279296875,
           "timepoint": 459,
           "trajectory": "D_sol",
           "upper": 48195.3306640625
          },
          {
           "lower": 38263.4263671875,
           "timepoint": 460,
           "trajectory": "D_sol",
           "upper": 48209.1400390625
          },
          {
           "lower": 38275.8998046875,
           "timepoint": 461,
           "trajectory": "D_sol",
           "upper": 48222.8931640625
          },
          {
           "lower": 38288.3013671875,
           "timepoint": 462,
           "trajectory": "D_sol",
           "upper": 48236.5462890625
          },
          {
           "lower": 38300.615234375,
           "timepoint": 463,
           "trajectory": "D_sol",
           "upper": 48250.080078125
          },
          {
           "lower": 38312.81328125,
           "timepoint": 464,
           "trajectory": "D_sol",
           "upper": 48263.52265625
          },
          {
           "lower": 38324.85859375,
           "timepoint": 465,
           "trajectory": "D_sol",
           "upper": 48276.80546875
          },
          {
           "lower": 38336.83984375,
           "timepoint": 466,
           "trajectory": "D_sol",
           "upper": 48290.20703125
          },
          {
           "lower": 38348.688671875,
           "timepoint": 467,
           "trajectory": "D_sol",
           "upper": 48303.412890625
          },
          {
           "lower": 38360.4423828125,
           "timepoint": 468,
           "trajectory": "D_sol",
           "upper": 48316.5693359375
          },
          {
           "lower": 38372.07734375,
           "timepoint": 469,
           "trajectory": "D_sol",
           "upper": 48329.64921875
          },
          {
           "lower": 38383.678125,
           "timepoint": 470,
           "trajectory": "D_sol",
           "upper": 48342.6421875
          },
          {
           "lower": 38395.168359375,
           "timepoint": 471,
           "trajectory": "D_sol",
           "upper": 48355.573828125
          },
          {
           "lower": 38406.554296875,
           "timepoint": 472,
           "trajectory": "D_sol",
           "upper": 48368.422265625
          },
          {
           "lower": 38417.836328125,
           "timepoint": 473,
           "trajectory": "D_sol",
           "upper": 48381.265234375
          },
          {
           "lower": 38429.0880859375,
           "timepoint": 474,
           "trajectory": "D_sol",
           "upper": 48394.0251953125
          },
          {
           "lower": 38440.2255859375,
           "timepoint": 475,
           "trajectory": "D_sol",
           "upper": 48406.7236328125
          },
          {
           "lower": 38451.271875,
           "timepoint": 476,
           "trajectory": "D_sol",
           "upper": 48419.3765625
          },
          {
           "lower": 38462.2908203125,
           "timepoint": 477,
           "trajectory": "D_sol",
           "upper": 48432.0021484375
          },
          {
           "lower": 38473.1529296875,
           "timepoint": 478,
           "trajectory": "D_sol",
           "upper": 48444.5306640625
          },
          {
           "lower": 38484.0701171875,
           "timepoint": 479,
           "trajectory": "D_sol",
           "upper": 48457.0509765625
          },
          {
           "lower": 38494.8931640625,
           "timepoint": 480,
           "trajectory": "D_sol",
           "upper": 48469.5404296875
          },
          {
           "lower": 38505.5748046875,
           "timepoint": 481,
           "trajectory": "D_sol",
           "upper": 48481.9447265625
          },
          {
           "lower": 38516.2228515625,
           "timepoint": 482,
           "trajectory": "D_sol",
           "upper": 48494.3435546875
          },
          {
           "lower": 38526.785546875,
           "timepoint": 483,
           "trajectory": "D_sol",
           "upper": 48506.737890625
          },
          {
           "lower": 38537.3796875,
           "timepoint": 484,
           "trajectory": "D_sol",
           "upper": 48519.0265625
          },
          {
           "lower": 38547.885546875,
           "timepoint": 485,
           "trajectory": "D_sol",
           "upper": 48531.325390625
          },
          {
           "lower": 38558.30078125,
           "timepoint": 486,
           "trajectory": "D_sol",
           "upper": 48543.58984375
          },
          {
           "lower": 38568.6822265625,
           "timepoint": 487,
           "trajectory": "D_sol",
           "upper": 48555.8451171875
          },
          {
           "lower": 38579.0103515625,
           "timepoint": 488,
           "trajectory": "D_sol",
           "upper": 48568.0716796875
          },
          {
           "lower": 38589.31640625,
           "timepoint": 489,
           "trajectory": "D_sol",
           "upper": 48580.30078125
          },
          {
           "lower": 38599.548828125,
           "timepoint": 490,
           "trajectory": "D_sol",
           "upper": 48592.466796875
          },
          {
           "lower": 38609.766015625,
           "timepoint": 491,
           "trajectory": "D_sol",
           "upper": 48604.624609375
          },
          {
           "lower": 38619.9337890625,
           "timepoint": 492,
           "trajectory": "D_sol",
           "upper": 48616.7576171875
          },
          {
           "lower": 38630.071484375,
           "timepoint": 493,
           "trajectory": "D_sol",
           "upper": 48628.951953125
          },
          {
           "lower": 38640.150390625,
           "timepoint": 494,
           "trajectory": "D_sol",
           "upper": 48641.083984375
          },
          {
           "lower": 38650.2103515625,
           "timepoint": 495,
           "trajectory": "D_sol",
           "upper": 48653.2076171875
          },
          {
           "lower": 38660.2345703125,
           "timepoint": 496,
           "trajectory": "D_sol",
           "upper": 48665.3552734375
          },
          {
           "lower": 38670.2318359375,
           "timepoint": 497,
           "trajectory": "D_sol",
           "upper": 48677.4830078125
          },
          {
           "lower": 38680.1697265625,
           "timepoint": 498,
           "trajectory": "D_sol",
           "upper": 48689.6076171875
          },
          {
           "lower": 38690.0185546875,
           "timepoint": 499,
           "trajectory": "D_sol",
           "upper": 48701.7275390625
          },
          {
           "lower": 38700.053515625,
           "timepoint": 500,
           "trajectory": "D_sol",
           "upper": 48713.868359375
          },
          {
           "lower": 38709.93671875,
           "timepoint": 501,
           "trajectory": "D_sol",
           "upper": 48726.00859375
          },
          {
           "lower": 38719.8173828125,
           "timepoint": 502,
           "trajectory": "D_sol",
           "upper": 48738.1708984375
          },
          {
           "lower": 38729.6703125,
           "timepoint": 503,
           "trajectory": "D_sol",
           "upper": 48750.36875
          },
          {
           "lower": 38739.52265625,
           "timepoint": 504,
           "trajectory": "D_sol",
           "upper": 48762.48515625
          },
          {
           "lower": 38749.3228515625,
           "timepoint": 505,
           "trajectory": "D_sol",
           "upper": 48774.6654296875
          },
          {
           "lower": 38759.1271484375,
           "timepoint": 506,
           "trajectory": "D_sol",
           "upper": 48786.8533203125
          },
          {
           "lower": 38768.9193359375,
           "timepoint": 507,
           "trajectory": "D_sol",
           "upper": 48799.0923828125
          },
          {
           "lower": 38778.6970703125,
           "timepoint": 508,
           "trajectory": "D_sol",
           "upper": 48811.3380859375
          },
          {
           "lower": 38788.46484375,
           "timepoint": 509,
           "trajectory": "D_sol",
           "upper": 48823.60546875
          },
          {
           "lower": 38798.2076171875,
           "timepoint": 510,
           "trajectory": "D_sol",
           "upper": 48835.8900390625
          },
          {
           "lower": 38807.9337890625,
           "timepoint": 511,
           "trajectory": "D_sol",
           "upper": 48848.2107421875
          },
          {
           "lower": 38817.7474609375,
           "timepoint": 512,
           "trajectory": "D_sol",
           "upper": 48860.5767578125
          },
          {
           "lower": 38827.5048828125,
           "timepoint": 513,
           "trajectory": "D_sol",
           "upper": 48872.9287109375
          },
          {
           "lower": 38837.2833984375,
           "timepoint": 514,
           "trajectory": "D_sol",
           "upper": 48885.3298828125
          },
          {
           "lower": 38846.9927734375,
           "timepoint": 515,
           "trajectory": "D_sol",
           "upper": 48897.7533203125
          },
          {
           "lower": 38856.74765625,
           "timepoint": 516,
           "trajectory": "D_sol",
           "upper": 48910.26796875
          },
          {
           "lower": 38866.5099609375,
           "timepoint": 517,
           "trajectory": "D_sol",
           "upper": 48922.7830078125
          },
          {
           "lower": 38876.298828125,
           "timepoint": 518,
           "trajectory": "D_sol",
           "upper": 48935.310546875
          },
          {
           "lower": 38886.035546875,
           "timepoint": 519,
           "trajectory": "D_sol",
           "upper": 48947.972265625
          },
          {
           "lower": 38895.813671875,
           "timepoint": 520,
           "trajectory": "D_sol",
           "upper": 48960.647265625
          },
          {
           "lower": 38905.6076171875,
           "timepoint": 521,
           "trajectory": "D_sol",
           "upper": 48973.4119140625
          },
          {
           "lower": 38915.4041015625,
           "timepoint": 522,
           "trajectory": "D_sol",
           "upper": 48986.0841796875
          },
          {
           "lower": 38925.20703125,
           "timepoint": 523,
           "trajectory": "D_sol",
           "upper": 48998.87890625
          },
          {
           "lower": 38935.034765625,
           "timepoint": 524,
           "trajectory": "D_sol",
           "upper": 49011.723046875
          },
          {
           "lower": 38944.8716796875,
           "timepoint": 525,
           "trajectory": "D_sol",
           "upper": 49024.6712890625
          },
          {
           "lower": 38954.7404296875,
           "timepoint": 526,
           "trajectory": "D_sol",
           "upper": 49037.6619140625
          },
          {
           "lower": 38964.62890625,
           "timepoint": 527,
           "trajectory": "D_sol",
           "upper": 49050.74609375
          },
          {
           "lower": 38974.5306640625,
           "timepoint": 528,
           "trajectory": "D_sol",
           "upper": 49063.8013671875
          },
          {
           "lower": 38984.4462890625,
           "timepoint": 529,
           "trajectory": "D_sol",
           "upper": 49076.9794921875
          },
          {
           "lower": 38994.390625,
           "timepoint": 530,
           "trajectory": "D_sol",
           "upper": 49090.2109375
          },
          {
           "lower": 39004.343359375,
           "timepoint": 531,
           "trajectory": "D_sol",
           "upper": 49103.531640625
          },
          {
           "lower": 39014.274609375,
           "timepoint": 532,
           "trajectory": "D_sol",
           "upper": 49116.936328125
          },
          {
           "lower": 39024.39609375,
           "timepoint": 533,
           "trajectory": "D_sol",
           "upper": 49130.36953125
          },
          {
           "lower": 39034.441015625,
           "timepoint": 534,
           "trajectory": "D_sol",
           "upper": 49143.894921875
          },
          {
           "lower": 39044.4962890625,
           "timepoint": 535,
           "trajectory": "D_sol",
           "upper": 49157.4763671875
          },
          {
           "lower": 39054.6865234375,
           "timepoint": 536,
           "trajectory": "D_sol",
           "upper": 49171.2314453125
          },
          {
           "lower": 39064.8599609375,
           "timepoint": 537,
           "trajectory": "D_sol",
           "upper": 49185.0189453125
          },
          {
           "lower": 39075.099609375,
           "timepoint": 538,
           "trajectory": "D_sol",
           "upper": 49198.869140625
          },
          {
           "lower": 39085.2912109375,
           "timepoint": 539,
           "trajectory": "D_sol",
           "upper": 49212.8611328125
          },
          {
           "lower": 39095.5638671875,
           "timepoint": 540,
           "trajectory": "D_sol",
           "upper": 49226.9166015625
          },
          {
           "lower": 39105.87890625,
           "timepoint": 541,
           "trajectory": "D_sol",
           "upper": 49241.07421875
          },
          {
           "lower": 39116.262109375,
           "timepoint": 542,
           "trajectory": "D_sol",
           "upper": 49255.331640625
          },
          {
           "lower": 39126.6806640625,
           "timepoint": 543,
           "trajectory": "D_sol",
           "upper": 49269.6982421875
          },
          {
           "lower": 39137.1478515625,
           "timepoint": 544,
           "trajectory": "D_sol",
           "upper": 49284.1451171875
          },
          {
           "lower": 39147.6392578125,
           "timepoint": 545,
           "trajectory": "D_sol",
           "upper": 49298.7005859375
          },
          {
           "lower": 39158.2009765625,
           "timepoint": 546,
           "trajectory": "D_sol",
           "upper": 49313.3263671875
          },
          {
           "lower": 39168.8666015625,
           "timepoint": 547,
           "trajectory": "D_sol",
           "upper": 49328.1685546875
          },
          {
           "lower": 39179.4681640625,
           "timepoint": 548,
           "trajectory": "D_sol",
           "upper": 49343.0591796875
          },
          {
           "lower": 39190.1841796875,
           "timepoint": 549,
           "trajectory": "D_sol",
           "upper": 49358.0853515625
          },
          {
           "lower": 39200.9650390625,
           "timepoint": 550,
           "trajectory": "D_sol",
           "upper": 49373.2185546875
          },
          {
           "lower": 39211.8029296875,
           "timepoint": 551,
           "trajectory": "D_sol",
           "upper": 49388.4509765625
          },
          {
           "lower": 39222.71796875,
           "timepoint": 552,
           "trajectory": "D_sol",
           "upper": 49403.88359375
          },
          {
           "lower": 39233.6607421875,
           "timepoint": 553,
           "trajectory": "D_sol",
           "upper": 49419.4212890625
          },
          {
           "lower": 39244.6861328125,
           "timepoint": 554,
           "trajectory": "D_sol",
           "upper": 49435.0521484375
          },
          {
           "lower": 39255.7564453125,
           "timepoint": 555,
           "trajectory": "D_sol",
           "upper": 49450.8333984375
          },
          {
           "lower": 39266.937109375,
           "timepoint": 556,
           "trajectory": "D_sol",
           "upper": 49466.742578125
          },
          {
           "lower": 39278.172265625,
           "timepoint": 557,
           "trajectory": "D_sol",
           "upper": 49482.843359375
          },
          {
           "lower": 39289.521484375,
           "timepoint": 558,
           "trajectory": "D_sol",
           "upper": 49499.072265625
          },
          {
           "lower": 39300.8607421875,
           "timepoint": 559,
           "trajectory": "D_sol",
           "upper": 49515.4634765625
          },
          {
           "lower": 39312.3376953125,
           "timepoint": 560,
           "trajectory": "D_sol",
           "upper": 49531.9396484375
          },
          {
           "lower": 39323.844140625,
           "timepoint": 561,
           "trajectory": "D_sol",
           "upper": 49548.624609375
          },
          {
           "lower": 39335.450390625,
           "timepoint": 562,
           "trajectory": "D_sol",
           "upper": 49565.448046875
          },
          {
           "lower": 39347.1322265625,
           "timepoint": 563,
           "trajectory": "D_sol",
           "upper": 49582.4419921875
          },
          {
           "lower": 39358.9337890625,
           "timepoint": 564,
           "trajectory": "D_sol",
           "upper": 49599.6013671875
          },
          {
           "lower": 39370.808203125,
           "timepoint": 565,
           "trajectory": "D_sol",
           "upper": 49616.949609375
          },
          {
           "lower": 39382.7875,
           "timepoint": 566,
           "trajectory": "D_sol",
           "upper": 49634.4625
          },
          {
           "lower": 39394.8052734375,
           "timepoint": 567,
           "trajectory": "D_sol",
           "upper": 49652.1439453125
          },
          {
           "lower": 39406.9443359375,
           "timepoint": 568,
           "trajectory": "D_sol",
           "upper": 49670.0205078125
          },
          {
           "lower": 2.90265545974111e-12,
           "timepoint": 0,
           "trajectory": "H_sol",
           "upper": 3.317755445375603e-12
          },
          {
           "lower": 0.023182246927171947,
           "timepoint": 1,
           "trajectory": "H_sol",
           "upper": 0.026583759021013974
          },
          {
           "lower": 0.03807894755154848,
           "timepoint": 2,
           "trajectory": "H_sol",
           "upper": 0.04381107296794653
          },
          {
           "lower": 0.04815871473401785,
           "timepoint": 3,
           "trajectory": "H_sol",
           "upper": 0.055589677579700944
          },
          {
           "lower": 0.05545299928635359,
           "timepoint": 4,
           "trajectory": "H_sol",
           "upper": 0.06421189699321986
          },
          {
           "lower": 0.06115632373839617,
           "timepoint": 5,
           "trajectory": "H_sol",
           "upper": 0.07102917637676001
          },
          {
           "lower": 0.06597487032413482,
           "timepoint": 6,
           "trajectory": "H_sol",
           "upper": 0.07684334218502045
          },
          {
           "lower": 0.07032913900911808,
           "timepoint": 7,
           "trajectory": "H_sol",
           "upper": 0.08213437907397747
          },
          {
           "lower": 0.07447220161557197,
           "timepoint": 8,
           "trajectory": "H_sol",
           "upper": 0.08719374462962151
          },
          {
           "lower": 0.07855870500206948,
           "timepoint": 9,
           "trajectory": "H_sol",
           "upper": 0.09220067486166954
          },
          {
           "lower": 0.0826852809637785,
           "timepoint": 10,
           "trajectory": "H_sol",
           "upper": 0.09726892746984958
          },
          {
           "lower": 0.08691424131393433,
           "timepoint": 11,
           "trajectory": "H_sol",
           "upper": 0.1024729311466217
          },
          {
           "lower": 0.0912874024361372,
           "timepoint": 12,
           "trajectory": "H_sol",
           "upper": 0.10786395706236362
          },
          {
           "lower": 0.09583470225334167,
           "timepoint": 13,
           "trajectory": "H_sol",
           "upper": 0.11347934603691101
          },
          {
           "lower": 0.10057894922792912,
           "timepoint": 14,
           "trajectory": "H_sol",
           "upper": 0.11934784762561321
          },
          {
           "lower": 0.1055387280881405,
           "timepoint": 15,
           "trajectory": "H_sol",
           "upper": 0.125494135171175
          },
          {
           "lower": 0.11073032580316067,
           "timepoint": 16,
           "trajectory": "H_sol",
           "upper": 0.13193932361900806
          },
          {
           "lower": 0.11616884581744671,
           "timepoint": 17,
           "trajectory": "H_sol",
           "upper": 0.13870363272726535
          },
          {
           "lower": 0.12186880186200141,
           "timepoint": 18,
           "trajectory": "H_sol",
           "upper": 0.145806672424078
          },
          {
           "lower": 0.12784459739923476,
           "timepoint": 19,
           "trajectory": "H_sol",
           "upper": 0.15326783508062364
          },
          {
           "lower": 0.13411066457629203,
           "timepoint": 20,
           "trajectory": "H_sol",
           "upper": 0.16110692396759987
          },
          {
           "lower": 0.14068215861916541,
           "timepoint": 21,
           "trajectory": "H_sol",
           "upper": 0.16934447214007378
          },
          {
           "lower": 0.14757430106401442,
           "timepoint": 22,
           "trajectory": "H_sol",
           "upper": 0.17800066322088243
          },
          {
           "lower": 0.15480334609746932,
           "timepoint": 23,
           "trajectory": "H_sol",
           "upper": 0.18709840327501298
          },
          {
           "lower": 0.16238577365875245,
           "timepoint": 24,
           "trajectory": "H_sol",
           "upper": 0.19666005969047545
          },
          {
           "lower": 0.1703394703567028,
           "timepoint": 25,
           "trajectory": "H_sol",
           "upper": 0.2067097820341587
          },
          {
           "lower": 0.17868237122893332,
           "timepoint": 26,
           "trajectory": "H_sol",
           "upper": 0.21727237179875375
          },
          {
           "lower": 0.18743382170796394,
           "timepoint": 27,
           "trajectory": "H_sol",
           "upper": 0.22837501987814904
          },
          {
           "lower": 0.1966135784983635,
           "timepoint": 28,
           "trajectory": "H_sol",
           "upper": 0.24004441648721694
          },
          {
           "lower": 0.20624300539493562,
           "timepoint": 29,
           "trajectory": "H_sol",
           "upper": 0.25230989158153533
          },
          {
           "lower": 0.2163440205156803,
           "timepoint": 30,
           "trajectory": "H_sol",
           "upper": 0.26520218774676324
          },
          {
           "lower": 0.22693971246480943,
           "timepoint": 31,
           "trajectory": "H_sol",
           "upper": 0.27875309735536574
          },
          {
           "lower": 0.23805439323186875,
           "timepoint": 32,
           "trajectory": "H_sol",
           "upper": 0.2929961994290352
          },
          {
           "lower": 0.24971352219581605,
           "timepoint": 33,
           "trajectory": "H_sol",
           "upper": 0.30796756148338317
          },
          {
           "lower": 0.2619436353445053,
           "timepoint": 34,
           "trajectory": "H_sol",
           "upper": 0.3237035900354385
          },
          {
           "lower": 0.27477280497550965,
           "timepoint": 35,
           "trajectory": "H_sol",
           "upper": 0.34024359583854674
          },
          {
           "lower": 0.28823032677173616,
           "timepoint": 36,
           "trajectory": "H_sol",
           "upper": 0.3576292127370834
          },
          {
           "lower": 0.3023471847176552,
           "timepoint": 37,
           "trajectory": "H_sol",
           "upper": 0.3759030386805534
          },
          {
           "lower": 0.31715542525053025,
           "timepoint": 38,
           "trajectory": "H_sol",
           "upper": 0.3951106920838356
          },
          {
           "lower": 0.33268890976905824,
           "timepoint": 39,
           "trajectory": "H_sol",
           "upper": 0.4152995526790619
          },
          {
           "lower": 0.3489831119775772,
           "timepoint": 40,
           "trajectory": "H_sol",
           "upper": 0.4365202754735947
          },
          {
           "lower": 0.3660763740539551,
           "timepoint": 41,
           "trajectory": "H_sol",
           "upper": 0.4588254451751709
          },
          {
           "lower": 0.38400639593601227,
           "timepoint": 42,
           "trajectory": "H_sol",
           "upper": 0.4822704643011093
          },
          {
           "lower": 0.40281468629837036,
           "timepoint": 43,
           "trajectory": "H_sol",
           "upper": 0.5069133639335632
          },
          {
           "lower": 0.42254422008991244,
           "timepoint": 44,
           "trajectory": "H_sol",
           "upper": 0.5328158944845199
          },
          {
           "lower": 0.44324035495519637,
           "timepoint": 45,
           "trajectory": "H_sol",
           "upper": 0.5600426986813545
          },
          {
           "lower": 0.4649501547217369,
           "timepoint": 46,
           "trajectory": "H_sol",
           "upper": 0.5886586502194404
          },
          {
           "lower": 0.4877233773469925,
           "timepoint": 47,
           "trajectory": "H_sol",
           "upper": 0.6187379688024521
          },
          {
           "lower": 0.5116123229265213,
           "timepoint": 48,
           "trajectory": "H_sol",
           "upper": 0.6503538221120835
          },
          {
           "lower": 0.5366713643074036,
           "timepoint": 49,
           "trajectory": "H_sol",
           "upper": 0.683587110042572
          },
          {
           "lower": 0.5629573285579681,
           "timepoint": 50,
           "trajectory": "H_sol",
           "upper": 0.7185176193714142
          },
          {
           "lower": 0.5905326038599015,
           "timepoint": 51,
           "trajectory": "H_sol",
           "upper": 0.7552331656217575
          },
          {
           "lower": 0.6194576025009155,
           "timepoint": 52,
           "trajectory": "H_sol",
           "upper": 0.7938247919082642
          },
          {
           "lower": 0.6497993350028992,
           "timepoint": 53,
           "trajectory": "H_sol",
           "upper": 0.8343887448310852
          },
          {
           "lower": 0.6816269487142563,
           "timepoint": 54,
           "trajectory": "H_sol",
           "upper": 0.8770253926515579
          },
          {
           "lower": 0.7150161117315292,
           "timepoint": 55,
           "trajectory": "H_sol",
           "upper": 0.9218409806489944
          },
          {
           "lower": 0.7500393718481064,
           "timepoint": 56,
           "trajectory": "H_sol",
           "upper": 0.9689468413591384
          },
          {
           "lower": 0.7867783784866333,
           "timepoint": 57,
           "trajectory": "H_sol",
           "upper": 1.0184598684310913
          },
          {
           "lower": 0.8253171443939209,
           "timepoint": 58,
           "trajectory": "H_sol",
           "upper": 1.0705032348632812
          },
          {
           "lower": 0.8657440841197968,
           "timepoint": 59,
           "trajectory": "H_sol",
           "upper": 1.1252054274082184
          },
          {
           "lower": 0.9081515610218048,
           "timepoint": 60,
           "trajectory": "H_sol",
           "upper": 1.1827034413814546
          },
          {
           "lower": 0.952636769413948,
           "timepoint": 61,
           "trajectory": "H_sol",
           "upper": 1.2431391566991805
          },
          {
           "lower": 0.9992994666099548,
           "timepoint": 62,
           "trajectory": "H_sol",
           "upper": 1.306662380695343
          },
          {
           "lower": 1.0482488751411438,
           "timepoint": 63,
           "trajectory": "H_sol",
           "upper": 1.373435389995575
          },
          {
           "lower": 1.099595594406128,
           "timepoint": 64,
           "trajectory": "H_sol",
           "upper": 1.4436187267303466
          },
          {
           "lower": 1.1534608602523804,
           "timepoint": 65,
           "trajectory": "H_sol",
           "upper": 1.5173894166946411
          },
          {
           "lower": 1.2099626541137696,
           "timepoint": 66,
           "trajectory": "H_sol",
           "upper": 1.5949270248413085
          },
          {
           "lower": 1.2692324101924897,
           "timepoint": 67,
           "trajectory": "H_sol",
           "upper": 1.6764285385608673
          },
          {
           "lower": 1.331405508518219,
           "timepoint": 68,
           "trajectory": "H_sol",
           "upper": 1.7620951056480407
          },
          {
           "lower": 1.3966260254383087,
           "timepoint": 69,
           "trajectory": "H_sol",
           "upper": 1.8521386086940765
          },
          {
           "lower": 1.4650407671928405,
           "timepoint": 70,
           "trajectory": "H_sol",
           "upper": 1.9467841744422913
          },
          {
           "lower": 1.5368064224720002,
           "timepoint": 71,
           "trajectory": "H_sol",
           "upper": 2.0462665975093843
          },
          {
           "lower": 1.6120892107486724,
           "timepoint": 72,
           "trajectory": "H_sol",
           "upper": 2.1508343875408173
          },
          {
           "lower": 1.6910593211650848,
           "timepoint": 73,
           "trajectory": "H_sol",
           "upper": 2.2607406675815582
          },
          {
           "lower": 1.7738981902599336,
           "timepoint": 74,
           "trajectory": "H_sol",
           "upper": 2.3762655794620513
          },
          {
           "lower": 1.860795134305954,
           "timepoint": 75,
           "trajectory": "H_sol",
           "upper": 2.497693067789078
          },
          {
           "lower": 1.9519488871097566,
           "timepoint": 76,
           "trajectory": "H_sol",
           "upper": 2.6253272235393523
          },
          {
           "lower": 2.047568118572235,
           "timepoint": 77,
           "trajectory": "H_sol",
           "upper": 2.7594828248023986
          },
          {
           "lower": 2.147870671749115,
           "timepoint": 78,
           "trajectory": "H_sol",
           "upper": 2.9004922986030577
          },
          {
           "lower": 2.253090560436249,
           "timepoint": 79,
           "trajectory": "H_sol",
           "upper": 3.0487099289894104
          },
          {
           "lower": 2.363463342189789,
           "timepoint": 80,
           "trajectory": "H_sol",
           "upper": 3.2045000195503235
          },
          {
           "lower": 2.4792436480522158,
           "timepoint": 81,
           "trajectory": "H_sol",
           "upper": 3.368250238895416
          },
          {
           "lower": 2.600698006153107,
           "timepoint": 82,
           "trajectory": "H_sol",
           "upper": 3.54036830663681
          },
          {
           "lower": 2.728095555305481,
           "timepoint": 83,
           "trajectory": "H_sol",
           "upper": 3.7212815046310426
          },
          {
           "lower": 2.86173700094223,
           "timepoint": 84,
           "trajectory": "H_sol",
           "upper": 3.9114375233650205
          },
          {
           "lower": 3.001925253868103,
           "timepoint": 85,
           "trajectory": "H_sol",
           "upper": 4.1113087892532345
          },
          {
           "lower": 3.148983931541443,
           "timepoint": 86,
           "trajectory": "H_sol",
           "upper": 4.321396374702454
          },
          {
           "lower": 3.3032456278800963,
           "timepoint": 87,
           "trajectory": "H_sol",
           "upper": 4.542217409610748
          },
          {
           "lower": 3.4650643825531007,
           "timepoint": 88,
           "trajectory": "H_sol",
           "upper": 4.774323129653931
          },
          {
           "lower": 3.6348099946975707,
           "timepoint": 89,
           "trajectory": "H_sol",
           "upper": 5.018280959129333
          },
          {
           "lower": 3.812868428230286,
           "timepoint": 90,
           "trajectory": "H_sol",
           "upper": 5.274707961082458
          },
          {
           "lower": 3.999651515483856,
           "timepoint": 91,
           "trajectory": "H_sol",
           "upper": 5.544232046604156
          },
          {
           "lower": 4.195585894584656,
           "timepoint": 92,
           "trajectory": "H_sol",
           "upper": 5.827522110939026
          },
          {
           "lower": 4.401114964485169,
           "timepoint": 93,
           "trajectory": "H_sol",
           "upper": 6.125308012962341
          },
          {
           "lower": 4.616713237762451,
           "timepoint": 94,
           "trajectory": "H_sol",
           "upper": 6.438292789459228
          },
          {
           "lower": 4.84287314414978,
           "timepoint": 95,
           "trajectory": "H_sol",
           "upper": 6.767266702651978
          },
          {
           "lower": 5.080111145973206,
           "timepoint": 96,
           "trajectory": "H_sol",
           "upper": 7.113056063652039
          },
          {
           "lower": 5.328971314430237,
           "timepoint": 97,
           "trajectory": "H_sol",
           "upper": 7.4765053510665895
          },
          {
           "lower": 5.590019083023071,
           "timepoint": 98,
           "trajectory": "H_sol",
           "upper": 7.858521604537963
          },
          {
           "lower": 5.8638521194458,
           "timepoint": 99,
           "trajectory": "H_sol",
           "upper": 8.2600492477417
          },
          {
           "lower": 6.151102924346924,
           "timepoint": 100,
           "trajectory": "H_sol",
           "upper": 8.682093715667724
          },
          {
           "lower": 6.452419900894165,
           "timepoint": 101,
           "trajectory": "H_sol",
           "upper": 9.125696516036987
          },
          {
           "lower": 6.768492341041565,
           "timepoint": 102,
           "trajectory": "H_sol",
           "upper": 9.591963648796082
          },
          {
           "lower": 7.1000395059585575,
           "timepoint": 103,
           "trajectory": "H_sol",
           "upper": 10.082029795646667
          },
          {
           "lower": 7.447849464416504,
           "timepoint": 104,
           "trajectory": "H_sol",
           "upper": 10.59713535308838
          },
          {
           "lower": 7.812676358222961,
           "timepoint": 105,
           "trajectory": "H_sol",
           "upper": 11.138537001609802
          },
          {
           "lower": 8.195372343063354,
           "timepoint": 106,
           "trajectory": "H_sol",
           "upper": 11.70762848854065
          },
          {
           "lower": 8.596815919876098,
           "timepoint": 107,
           "trajectory": "H_sol",
           "upper": 12.305763387680054
          },
          {
           "lower": 9.01791491508484,
           "timepoint": 108,
           "trajectory": "H_sol",
           "upper": 12.934440469741821
          },
          {
           "lower": 9.459628582000732,
           "timepoint": 109,
           "trajectory": "H_sol",
           "upper": 13.595234394073486
          },
          {
           "lower": 9.922970151901245,
           "timepoint": 110,
           "trajectory": "H_sol",
           "upper": 14.289766931533814
          },
          {
           "lower": 10.409028053283691,
           "timepoint": 111,
           "trajectory": "H_sol",
           "upper": 15.019766807556152
          },
          {
           "lower": 10.91887035369873,
           "timepoint": 112,
           "trajectory": "H_sol",
           "upper": 15.787039375305175
          },
          {
           "lower": 11.453674840927125,
           "timepoint": 113,
           "trajectory": "H_sol",
           "upper": 16.593483400344848
          },
          {
           "lower": 12.014662742614746,
           "timepoint": 114,
           "trajectory": "H_sol",
           "upper": 17.441102027893066
          },
          {
           "lower": 12.603119564056396,
           "timepoint": 115,
           "trajectory": "H_sol",
           "upper": 18.331986713409425
          },
          {
           "lower": 13.220390176773071,
           "timepoint": 116,
           "trajectory": "H_sol",
           "upper": 19.26837840080261
          },
          {
           "lower": 13.867880153656007,
           "timepoint": 117,
           "trajectory": "H_sol",
           "upper": 20.252555561065673
          },
          {
           "lower": 14.547059297561646,
           "timepoint": 118,
           "trajectory": "H_sol",
           "upper": 21.286969900131226
          },
          {
           "lower": 15.25949206352234,
           "timepoint": 119,
           "trajectory": "H_sol",
           "upper": 22.374172067642213
          },
          {
           "lower": 16.00679831504822,
           "timepoint": 120,
           "trajectory": "H_sol",
           "upper": 23.5168728351593
          },
          {
           "lower": 16.790668201446532,
           "timepoint": 121,
           "trajectory": "H_sol",
           "upper": 24.717882442474366
          },
          {
           "lower": 17.612920570373536,
           "timepoint": 122,
           "trajectory": "H_sol",
           "upper": 25.980173301696777
          },
          {
           "lower": 18.475423717498778,
           "timepoint": 123,
           "trajectory": "H_sol",
           "upper": 27.30688486099243
          },
          {
           "lower": 19.380096435546875,
           "timepoint": 124,
           "trajectory": "H_sol",
           "upper": 28.701274871826172
          },
          {
           "lower": 20.329057502746583,
           "timepoint": 125,
           "trajectory": "H_sol",
           "upper": 30.166795921325683
          },
          {
           "lower": 21.324444007873534,
           "timepoint": 126,
           "trajectory": "H_sol",
           "upper": 31.707076835632325
          },
          {
           "lower": 22.368511867523193,
           "timepoint": 127,
           "trajectory": "H_sol",
           "upper": 33.32590990066528
          },
          {
           "lower": 23.46372537612915,
           "timepoint": 128,
           "trajectory": "H_sol",
           "upper": 35.027270030975345
          },
          {
           "lower": 24.612473678588866,
           "timepoint": 129,
           "trajectory": "H_sol",
           "upper": 36.81548957824707
          },
          {
           "lower": 25.81740245819092,
           "timepoint": 130,
           "trajectory": "H_sol",
           "upper": 38.69483127593994
          },
          {
           "lower": 27.081284713745116,
           "timepoint": 131,
           "trajectory": "H_sol",
           "upper": 40.670019912719724
          },
          {
           "lower": 28.406953239440917,
           "timepoint": 132,
           "trajectory": "H_sol",
           "upper": 42.74578342437744
          },
          {
           "lower": 29.79743413925171,
           "timepoint": 133,
           "trajectory": "H_sol",
           "upper": 44.92739839553833
          },
          {
           "lower": 31.2559383392334,
           "timepoint": 134,
           "trajectory": "H_sol",
           "upper": 47.22015113830566
          },
          {
           "lower": 32.785726165771486,
           "timepoint": 135,
           "trajectory": "H_sol",
           "upper": 49.62978591918945
          },
          {
           "lower": 34.39028739929199,
           "timepoint": 136,
           "trajectory": "H_sol",
           "upper": 52.16214942932129
          },
          {
           "lower": 36.073262214660645,
           "timepoint": 137,
           "trajectory": "H_sol",
           "upper": 54.82350826263428
          },
          {
           "lower": 37.83848972320557,
           "timepoint": 138,
           "trajectory": "H_sol",
           "upper": 57.62033824920654
          },
          {
           "lower": 39.68994998931885,
           "timepoint": 139,
           "trajectory": "H_sol",
           "upper": 60.55959606170654
          },
          {
           "lower": 41.63187084197998,
           "timepoint": 140,
           "trajectory": "H_sol",
           "upper": 63.648482704162596
          },
          {
           "lower": 43.66863899230957,
           "timepoint": 141,
           "trajectory": "H_sol",
           "upper": 66.89454002380371
          },
          {
           "lower": 45.804857635498045,
           "timepoint": 142,
           "trajectory": "H_sol",
           "upper": 70.30578384399413
          },
          {
           "lower": 48.0454345703125,
           "timepoint": 143,
           "trajectory": "H_sol",
           "upper": 73.8905242919922
          },
          {
           "lower": 50.39536266326904,
           "timepoint": 144,
           "trajectory": "H_sol",
           "upper": 77.6575891494751
          },
          {
           "lower": 52.8599739074707,
           "timepoint": 145,
           "trajectory": "H_sol",
           "upper": 81.61620712280273
          },
          {
           "lower": 55.44482841491699,
           "timepoint": 146,
           "trajectory": "H_sol",
           "upper": 85.77609596252441
          },
          {
           "lower": 58.15589771270752,
           "timepoint": 147,
           "trajectory": "H_sol",
           "upper": 90.14716854095458
          },
          {
           "lower": 60.999151420593265,
           "timepoint": 148,
           "trajectory": "H_sol",
           "upper": 94.74040012359619
          },
          {
           "lower": 63.981081199646,
           "timepoint": 149,
           "trajectory": "H_sol",
           "upper": 99.56686573028564
          },
          {
           "lower": 67.10830421447754,
           "timepoint": 150,
           "trajectory": "H_sol",
           "upper": 104.63837699890136
          },
          {
           "lower": 70.38802909851074,
           "timepoint": 151,
           "trajectory": "H_sol",
           "upper": 109.96720314025879
          },
          {
           "lower": 73.8276180267334,
           "timepoint": 152,
           "trajectory": "H_sol",
           "upper": 115.56626472473144
          },
          {
           "lower": 77.43452796936035,
           "timepoint": 153,
           "trajectory": "H_sol",
           "upper": 121.44952812194823
          },
          {
           "lower": 81.21720085144042,
           "timepoint": 154,
           "trajectory": "H_sol",
           "upper": 127.63085975646972
          },
          {
           "lower": 85.18397483825683,
           "timepoint": 155,
           "trajectory": "H_sol",
           "upper": 134.12545051574708
          },
          {
           "lower": 89.34392013549805,
           "timepoint": 156,
           "trajectory": "H_sol",
           "upper": 140.94866714477538
          },
          {
           "lower": 93.70613899230958,
           "timepoint": 157,
           "trajectory": "H_sol",
           "upper": 148.11730918884277
          },
          {
           "lower": 98.28046951293945,
           "timepoint": 158,
           "trajectory": "H_sol",
           "upper": 155.648836517334
          },
          {
           "lower": 103.0772689819336,
           "timepoint": 159,
           "trajectory": "H_sol",
           "upper": 163.56109771728515
          },
          {
           "lower": 108.10706253051758,
           "timepoint": 160,
           "trajectory": "H_sol",
           "upper": 171.8732078552246
          },
          {
           "lower": 113.38112831115723,
           "timepoint": 161,
           "trajectory": "H_sol",
           "upper": 180.605131149292
          },
          {
           "lower": 118.91122970581054,
           "timepoint": 162,
           "trajectory": "H_sol",
           "upper": 189.77781143188477
          },
          {
           "lower": 124.7096061706543,
           "timepoint": 163,
           "trajectory": "H_sol",
           "upper": 199.4129981994629
          },
          {
           "lower": 130.78935203552246,
           "timepoint": 164,
           "trajectory": "H_sol",
           "upper": 209.53426399230958
          },
          {
           "lower": 137.16367111206054,
           "timepoint": 165,
           "trajectory": "H_sol",
           "upper": 220.16520156860352
          },
          {
           "lower": 143.84671478271486,
           "timepoint": 166,
           "trajectory": "H_sol",
           "upper": 231.3312026977539
          },
          {
           "lower": 150.85358963012695,
           "timepoint": 167,
           "trajectory": "H_sol",
           "upper": 243.05877914428712
          },
          {
           "lower": 158.1992919921875,
           "timepoint": 168,
           "trajectory": "H_sol",
           "upper": 255.37578125
          },
          {
           "lower": 165.8999465942383,
           "timepoint": 169,
           "trajectory": "H_sol",
           "upper": 268.31089935302737
          },
          {
           "lower": 173.97345046997071,
           "timepoint": 170,
           "trajectory": "H_sol",
           "upper": 281.8951866149902
          },
          {
           "lower": 182.4365364074707,
           "timepoint": 171,
           "trajectory": "H_sol",
           "upper": 296.1603721618652
          },
          {
           "lower": 191.30764923095703,
           "timepoint": 172,
           "trajectory": "H_sol",
           "upper": 311.1388534545898
          },
          {
           "lower": 200.60663452148438,
           "timepoint": 173,
           "trajectory": "H_sol",
           "upper": 326.86657104492184
          },
          {
           "lower": 210.3535011291504,
           "timepoint": 174,
           "trajectory": "H_sol",
           "upper": 343.38037033081054
          },
          {
           "lower": 220.56977157592775,
           "timepoint": 175,
           "trajectory": "H_sol",
           "upper": 360.7178413391113
          },
          {
           "lower": 231.27717361450195,
           "timepoint": 176,
           "trajectory": "H_sol",
           "upper": 378.91910018920896
          },
          {
           "lower": 242.49894332885742,
           "timepoint": 177,
           "trajectory": "H_sol",
           "upper": 398.0262794494629
          },
          {
           "lower": 254.25944900512695,
           "timepoint": 178,
           "trajectory": "H_sol",
           "upper": 418.08324813842773
          },
          {
           "lower": 266.58367919921875,
           "timepoint": 179,
           "trajectory": "H_sol",
           "upper": 439.1343994140625
          },
          {
           "lower": 279.4981414794922,
           "timepoint": 180,
           "trajectory": "H_sol",
           "upper": 461.2290924072266
          },
          {
           "lower": 293.0302459716797,
           "timepoint": 181,
           "trajectory": "H_sol",
           "upper": 484.4165313720703
          },
          {
           "lower": 307.2085189819336,
           "timepoint": 182,
           "trajectory": "H_sol",
           "upper": 508.74927520751953
          },
          {
           "lower": 322.0645050048828,
           "timepoint": 183,
           "trajectory": "H_sol",
           "upper": 534.280648803711
          },
          {
           "lower": 337.62776336669924,
           "timepoint": 184,
           "trajectory": "H_sol",
           "upper": 561.0685562133789
          },
          {
           "lower": 353.93135223388674,
           "timepoint": 185,
           "trajectory": "H_sol",
           "upper": 589.1714614868164
          },
          {
           "lower": 371.0098678588867,
           "timepoint": 186,
           "trajectory": "H_sol",
           "upper": 618.6517837524414
          },
          {
           "lower": 388.898616027832,
           "timepoint": 187,
           "trajectory": "H_sol",
           "upper": 649.5727890014648
          },
          {
           "lower": 407.63402862548827,
           "timepoint": 188,
           "trajectory": "H_sol",
           "upper": 682.0026596069335
          },
          {
           "lower": 427.2554138183594,
           "timepoint": 189,
           "trajectory": "H_sol",
           "upper": 716.009844970703
          },
          {
           "lower": 447.8032760620117,
           "timepoint": 190,
           "trajectory": "H_sol",
           "upper": 751.6679458618164
          },
          {
           "lower": 469.3186325073242,
           "timepoint": 191,
           "trajectory": "H_sol",
           "upper": 789.0515151977539
          },
          {
           "lower": 491.84571533203126,
           "timepoint": 192,
           "trajectory": "H_sol",
           "upper": 828.2396118164062
          },
          {
           "lower": 515.429524230957,
           "timepoint": 193,
           "trajectory": "H_sol",
           "upper": 869.3132431030273
          },
          {
           "lower": 540.1170135498047,
           "timepoint": 194,
           "trajectory": "H_sol",
           "upper": 912.357046508789
          },
          {
           "lower": 565.9575073242188,
           "timepoint": 195,
           "trajectory": "H_sol",
           "upper": 957.4594848632812
          },
          {
           "lower": 593.0012298583985,
           "timepoint": 196,
           "trajectory": "H_sol",
           "upper": 1004.7085479736328
          },
          {
           "lower": 621.3028747558594,
           "timepoint": 197,
           "trajectory": "H_sol",
           "upper": 1054.201885986328
          },
          {
           "lower": 650.9156127929688,
           "timepoint": 198,
           "trajectory": "H_sol",
           "upper": 1106.0345825195313
          },
          {
           "lower": 681.8964172363281,
           "timepoint": 199,
           "trajectory": "H_sol",
           "upper": 1160.3080505371095
          },
          {
           "lower": 714.3048828125,
           "timepoint": 200,
           "trajectory": "H_sol",
           "upper": 1217.12626953125
          },
          {
           "lower": 748.2017211914062,
           "timepoint": 201,
           "trajectory": "H_sol",
           "upper": 1276.5968627929688
          },
          {
           "lower": 783.650180053711,
           "timepoint": 202,
           "trajectory": "H_sol",
           "upper": 1338.8283966064453
          },
          {
           "lower": 820.7162445068359,
           "timepoint": 203,
           "trajectory": "H_sol",
           "upper": 1403.9364044189454
          },
          {
           "lower": 859.4670043945313,
           "timepoint": 204,
           "trajectory": "H_sol",
           "upper": 1472.0376342773436
          },
          {
           "lower": 899.9726654052735,
           "timepoint": 205,
           "trajectory": "H_sol",
           "upper": 1543.2520050048827
          },
          {
           "lower": 942.305142211914,
           "timepoint": 206,
           "trajectory": "H_sol",
           "upper": 1617.7011444091797
          },
          {
           "lower": 986.5386474609375,
           "timepoint": 207,
           "trajectory": "H_sol",
           "upper": 1695.5118896484375
          },
          {
           "lower": 1032.749966430664,
           "timepoint": 208,
           "trajectory": "H_sol",
           "upper": 1776.8149139404297
          },
          {
           "lower": 1081.0182067871094,
           "timepoint": 209,
           "trajectory": "H_sol",
           "upper": 1861.739971923828
          },
          {
           "lower": 1131.424072265625,
           "timepoint": 210,
           "trajectory": "H_sol",
           "upper": 1950.41748046875
          },
          {
           "lower": 1184.0501281738282,
           "timepoint": 211,
           "trajectory": "H_sol",
           "upper": 2042.9868591308593
          },
          {
           "lower": 1238.9815185546875,
           "timepoint": 212,
           "trajectory": "H_sol",
           "upper": 2139.5848876953123
          },
          {
           "lower": 1296.3078979492188,
           "timepoint": 213,
           "trajectory": "H_sol",
           "upper": 2240.350549316406
          },
          {
           "lower": 1356.1171325683595,
           "timepoint": 214,
           "trajectory": "H_sol",
           "upper": 2345.424005126953
          },
          {
           "lower": 1418.4973266601562,
           "timepoint": 215,
           "trajectory": "H_sol",
           "upper": 2454.9433471679686
          },
          {
           "lower": 1483.5448181152344,
           "timepoint": 216,
           "trajectory": "H_sol",
           "upper": 2569.051495361328
          },
          {
           "lower": 1551.3535095214843,
           "timepoint": 217,
           "trajectory": "H_sol",
           "upper": 2687.891241455078
          },
          {
           "lower": 1622.019140625,
           "timepoint": 218,
           "trajectory": "H_sol",
           "upper": 2811.6029296875
          },
          {
           "lower": 1695.6372314453124,
           "timepoint": 219,
           "trajectory": "H_sol",
           "upper": 2940.3139404296876
          },
          {
           "lower": 1772.306689453125,
           "timepoint": 220,
           "trajectory": "H_sol",
           "upper": 3074.1698730468747
          },
          {
           "lower": 1852.1288696289062,
           "timepoint": 221,
           "trajectory": "H_sol",
           "upper": 3213.303503417969
          },
          {
           "lower": 1935.1995422363282,
           "timepoint": 222,
           "trajectory": "H_sol",
           "upper": 3357.835980224609
          },
          {
           "lower": 2021.6207763671875,
           "timepoint": 223,
           "trajectory": "H_sol",
           "upper": 3507.898266601562
          },
          {
           "lower": 2111.490588378906,
           "timepoint": 224,
           "trajectory": "H_sol",
           "upper": 3663.6058471679685
          },
          {
           "lower": 2204.9105590820313,
           "timepoint": 225,
           "trajectory": "H_sol",
           "upper": 3825.0672241210937
          },
          {
           "lower": 2301.973583984375,
           "timepoint": 226,
           "trajectory": "H_sol",
           "upper": 3992.390673828125
          },
          {
           "lower": 2402.778698730469,
           "timepoint": 227,
           "trajectory": "H_sol",
           "upper": 4165.656115722656
          },
          {
           "lower": 2507.4264404296873,
           "timepoint": 228,
           "trajectory": "H_sol",
           "upper": 4344.958813476563
          },
          {
           "lower": 2616.0023193359375,
           "timepoint": 229,
           "trajectory": "H_sol",
           "upper": 4530.3634033203125
          },
          {
           "lower": 2728.596472167969,
           "timepoint": 230,
           "trajectory": "H_sol",
           "upper": 4721.930139160156
          },
          {
           "lower": 2845.29970703125,
           "timepoint": 231,
           "trajectory": "H_sol",
           "upper": 4919.70126953125
          },
          {
           "lower": 2966.191796875,
           "timepoint": 232,
           "trajectory": "H_sol",
           "upper": 5123.68515625
          },
          {
           "lower": 3091.341174316406,
           "timepoint": 233,
           "trajectory": "H_sol",
           "upper": 5333.907604980469
          },
          {
           "lower": 3220.8304809570313,
           "timepoint": 234,
           "trajectory": "H_sol",
           "upper": 5550.347985839843
          },
          {
           "lower": 3354.7160400390626,
           "timepoint": 235,
           "trajectory": "H_sol",
           "upper": 5772.969018554687
          },
          {
           "lower": 3493.0537719726562,
           "timepoint": 236,
           "trajectory": "H_sol",
           "upper": 6001.712585449219
          },
          {
           "lower": 3635.909777832031,
           "timepoint": 237,
           "trajectory": "H_sol",
           "upper": 6236.494274902344
          },
          {
           "lower": 3783.29990234375,
           "timepoint": 238,
           "trajectory": "H_sol",
           "upper": 6477.202050781249
          },
          {
           "lower": 3935.2639404296874,
           "timepoint": 239,
           "trajectory": "H_sol",
           "upper": 6723.695532226562
          },
          {
           "lower": 4091.8196411132812,
           "timepoint": 240,
           "trajectory": "H_sol",
           "upper": 6975.802185058594
          },
          {
           "lower": 4252.971264648438,
           "timepoint": 241,
           "trajectory": "H_sol",
           "upper": 7233.326098632812
          },
          {
           "lower": 4418.7113037109375,
           "timepoint": 242,
           "trajectory": "H_sol",
           "upper": 7496.0235595703125
          },
          {
           "lower": 4589.014111328125,
           "timepoint": 243,
           "trajectory": "H_sol",
           "upper": 7763.622607421875
          },
          {
           "lower": 4763.84296875,
           "timepoint": 244,
           "trajectory": "H_sol",
           "upper": 8035.82109375
          },
          {
           "lower": 4943.151538085937,
           "timepoint": 245,
           "trajectory": "H_sol",
           "upper": 8312.274731445312
          },
          {
           "lower": 5126.843725585937,
           "timepoint": 246,
           "trajectory": "H_sol",
           "upper": 8592.607934570313
          },
          {
           "lower": 5314.8390625,
           "timepoint": 247,
           "trajectory": "H_sol",
           "upper": 8876.3640625
          },
          {
           "lower": 5507.050634765625,
           "timepoint": 248,
           "trajectory": "H_sol",
           "upper": 9163.122216796875
          },
          {
           "lower": 5703.308374023438,
           "timepoint": 249,
           "trajectory": "H_sol",
           "upper": 9452.375708007812
          },
          {
           "lower": 5903.475927734375,
           "timepoint": 250,
           "trajectory": "H_sol",
           "upper": 9743.564111328125
          },
          {
           "lower": 6107.363208007812,
           "timepoint": 251,
           "trajectory": "H_sol",
           "upper": 10036.134350585937
          },
          {
           "lower": 6314.781518554688,
           "timepoint": 252,
           "trajectory": "H_sol",
           "upper": 10329.480688476562
          },
          {
           "lower": 6525.4884033203125,
           "timepoint": 253,
           "trajectory": "H_sol",
           "upper": 10622.907592773438
          },
          {
           "lower": 6739.254321289062,
           "timepoint": 254,
           "trajectory": "H_sol",
           "upper": 10915.780346679687
          },
          {
           "lower": 6955.780859375,
           "timepoint": 255,
           "trajectory": "H_sol",
           "upper": 11207.359765625
          },
          {
           "lower": 7174.77294921875,
           "timepoint": 256,
           "trajectory": "H_sol",
           "upper": 11496.92626953125
          },
          {
           "lower": 7395.8984375,
           "timepoint": 257,
           "trajectory": "H_sol",
           "upper": 11783.6796875
          },
          {
           "lower": 7618.803247070313,
           "timepoint": 258,
           "trajectory": "H_sol",
           "upper": 12066.860327148437
          },
          {
           "lower": 7843.099609375,
           "timepoint": 259,
           "trajectory": "H_sol",
           "upper": 12345.61328125
          },
          {
           "lower": 8068.391821289062,
           "timepoint": 260,
           "trajectory": "H_sol",
           "upper": 12619.152612304688
          },
          {
           "lower": 8294.249731445312,
           "timepoint": 261,
           "trajectory": "H_sol",
           "upper": 12886.644311523438
          },
          {
           "lower": 8520.188818359375,
           "timepoint": 262,
           "trajectory": "H_sol",
           "upper": 13147.214501953125
          },
          {
           "lower": 8745.749072265626,
           "timepoint": 263,
           "trajectory": "H_sol",
           "upper": 13400.068310546874
          },
          {
           "lower": 8970.4193359375,
           "timepoint": 264,
           "trajectory": "H_sol",
           "upper": 13644.3619140625
          },
          {
           "lower": 9193.733740234375,
           "timepoint": 265,
           "trajectory": "H_sol",
           "upper": 13879.259423828125
          },
          {
           "lower": 9415.0802734375,
           "timepoint": 266,
           "trajectory": "H_sol",
           "upper": 14103.978320312499
          },
          {
           "lower": 9633.9302734375,
           "timepoint": 267,
           "trajectory": "H_sol",
           "upper": 14317.7376953125
          },
          {
           "lower": 9849.749609375,
           "timepoint": 268,
           "trajectory": "H_sol",
           "upper": 14519.793359375
          },
          {
           "lower": 10061.926123046875,
           "timepoint": 269,
           "trajectory": "H_sol",
           "upper": 14709.430322265625
          },
          {
           "lower": 10269.885888671875,
           "timepoint": 270,
           "trajectory": "H_sol",
           "upper": 14885.956884765625
          },
          {
           "lower": 10473.03525390625,
           "timepoint": 271,
           "trajectory": "H_sol",
           "upper": 15048.81630859375
          },
          {
           "lower": 10670.7931640625,
           "timepoint": 272,
           "trajectory": "H_sol",
           "upper": 15197.374804687499
          },
          {
           "lower": 10862.56298828125,
           "timepoint": 273,
           "trajectory": "H_sol",
           "upper": 15331.12451171875
          },
          {
           "lower": 11047.77939453125,
           "timepoint": 274,
           "trajectory": "H_sol",
           "upper": 15449.62490234375
          },
          {
           "lower": 11225.851171875,
           "timepoint": 275,
           "trajectory": "H_sol",
           "upper": 15552.47109375
          },
          {
           "lower": 11396.22265625,
           "timepoint": 276,
           "trajectory": "H_sol",
           "upper": 15639.3359375
          },
          {
           "lower": 11558.376806640625,
           "timepoint": 277,
           "trajectory": "H_sol",
           "upper": 15709.975732421875
          },
          {
           "lower": 11711.78681640625,
           "timepoint": 278,
           "trajectory": "H_sol",
           "upper": 15764.189746093749
          },
          {
           "lower": 11855.89921875,
           "timepoint": 279,
           "trajectory": "H_sol",
           "upper": 15801.868359375
          },
          {
           "lower": 11990.3140625,
           "timepoint": 280,
           "trajectory": "H_sol",
           "upper": 15822.97109375
          },
          {
           "lower": 12114.57470703125,
           "timepoint": 281,
           "trajectory": "H_sol",
           "upper": 15827.52294921875
          },
          {
           "lower": 12228.266748046875,
           "timepoint": 282,
           "trajectory": "H_sol",
           "upper": 15815.630712890625
          },
          {
           "lower": 12331.047607421875,
           "timepoint": 283,
           "trajectory": "H_sol",
           "upper": 15787.465087890625
          },
          {
           "lower": 12422.582861328125,
           "timepoint": 284,
           "trajectory": "H_sol",
           "upper": 15743.263818359375
          },
          {
           "lower": 12502.57568359375,
           "timepoint": 285,
           "trajectory": "H_sol",
           "upper": 15683.32861328125
          },
          {
           "lower": 12570.816650390625,
           "timepoint": 286,
           "trajectory": "H_sol",
           "upper": 15608.022216796875
          },
          {
           "lower": 12627.08447265625,
           "timepoint": 287,
           "trajectory": "H_sol",
           "upper": 15517.76318359375
          },
          {
           "lower": 12671.25595703125,
           "timepoint": 288,
           "trajectory": "H_sol",
           "upper": 15413.07607421875
          },
          {
           "lower": 12703.246630859376,
           "timepoint": 289,
           "trajectory": "H_sol",
           "upper": 15294.430126953124
          },
          {
           "lower": 12722.98583984375,
           "timepoint": 290,
           "trajectory": "H_sol",
           "upper": 15162.41650390625
          },
          {
           "lower": 12730.483447265626,
           "timepoint": 291,
           "trajectory": "H_sol",
           "upper": 15017.644482421874
          },
          {
           "lower": 12725.81044921875,
           "timepoint": 292,
           "trajectory": "H_sol",
           "upper": 14860.77744140625
          },
          {
           "lower": 12709.0423828125,
           "timepoint": 293,
           "trajectory": "H_sol",
           "upper": 14692.4419921875
          },
          {
           "lower": 12680.340478515625,
           "timepoint": 294,
           "trajectory": "H_sol",
           "upper": 14513.381201171875
          },
          {
           "lower": 12639.878271484375,
           "timepoint": 295,
           "trajectory": "H_sol",
           "upper": 14324.308251953125
          },
          {
           "lower": 12587.898046875,
           "timepoint": 296,
           "trajectory": "H_sol",
           "upper": 14125.941796875
          },
          {
           "lower": 12524.6998046875,
           "timepoint": 297,
           "trajectory": "H_sol",
           "upper": 13919.0248046875
          },
          {
           "lower": 12450.579052734374,
           "timepoint": 298,
           "trajectory": "H_sol",
           "upper": 13704.302783203126
          },
          {
           "lower": 12365.85654296875,
           "timepoint": 299,
           "trajectory": "H_sol",
           "upper": 13482.52626953125
          },
          {
           "lower": 12270.948828125,
           "timepoint": 300,
           "trajectory": "H_sol",
           "upper": 13254.402734375
          },
          {
           "lower": 12166.266064453124,
           "timepoint": 301,
           "trajectory": "H_sol",
           "upper": 13020.693896484376
          },
          {
           "lower": 12052.217138671875,
           "timepoint": 302,
           "trajectory": "H_sol",
           "upper": 12782.102197265625
          },
          {
           "lower": 11929.338134765625,
           "timepoint": 303,
           "trajectory": "H_sol",
           "upper": 12539.338623046875
          },
          {
           "lower": 11798.032861328125,
           "timepoint": 304,
           "trajectory": "H_sol",
           "upper": 12293.097021484375
          },
          {
           "lower": 11658.828271484375,
           "timepoint": 305,
           "trajectory": "H_sol",
           "upper": 12043.967626953125
          },
          {
           "lower": 11512.22626953125,
           "timepoint": 306,
           "trajectory": "H_sol",
           "upper": 11792.66240234375
          },
          {
           "lower": 11358.756103515625,
           "timepoint": 307,
           "trajectory": "H_sol",
           "upper": 11539.762451171875
          },
          {
           "lower": 11198.941259765625,
           "timepoint": 308,
           "trajectory": "H_sol",
           "upper": 11285.862451171875
          },
          {
           "lower": 11031.5236328125,
           "timepoint": 309,
           "trajectory": "H_sol",
           "upper": 11033.3025390625
          },
          {
           "lower": 10777.218359375,
           "timepoint": 310,
           "trajectory": "H_sol",
           "upper": 10862.394921875
          },
          {
           "lower": 10523.49775390625,
           "timepoint": 311,
           "trajectory": "H_sol",
           "upper": 10686.72294921875
          },
          {
           "lower": 10270.8021484375,
           "timepoint": 312,
           "trajectory": "H_sol",
           "upper": 10506.7955078125
          },
          {
           "lower": 10019.570751953124,
           "timepoint": 313,
           "trajectory": "H_sol",
           "upper": 10323.152880859376
          },
          {
           "lower": 9770.206005859374,
           "timepoint": 314,
           "trajectory": "H_sol",
           "upper": 10136.287158203126
          },
          {
           "lower": 9523.055322265625,
           "timepoint": 315,
           "trajectory": "H_sol",
           "upper": 9946.681982421875
          },
          {
           "lower": 9278.491064453125,
           "timepoint": 316,
           "trajectory": "H_sol",
           "upper": 9754.855615234375
          },
          {
           "lower": 9036.79912109375,
           "timepoint": 317,
           "trajectory": "H_sol",
           "upper": 9561.15986328125
          },
          {
           "lower": 8798.28271484375,
           "timepoint": 318,
           "trajectory": "H_sol",
           "upper": 9366.15283203125
          },
          {
           "lower": 8563.17978515625,
           "timepoint": 319,
           "trajectory": "H_sol",
           "upper": 9170.20693359375
          },
          {
           "lower": 8331.7208984375,
           "timepoint": 320,
           "trajectory": "H_sol",
           "upper": 8973.7478515625
          },
          {
           "lower": 8104.105883789062,
           "timepoint": 321,
           "trajectory": "H_sol",
           "upper": 8777.135815429687
          },
          {
           "lower": 7880.516845703125,
           "timepoint": 322,
           "trajectory": "H_sol",
           "upper": 8580.781005859375
          },
          {
           "lower": 7661.093286132813,
           "timepoint": 323,
           "trajectory": "H_sol",
           "upper": 8384.978491210937
          },
          {
           "lower": 7445.972875976562,
           "timepoint": 324,
           "trajectory": "H_sol",
           "upper": 8190.067651367188
          },
          {
           "lower": 7235.26787109375,
           "timepoint": 325,
           "trajectory": "H_sol",
           "upper": 7996.36201171875
          },
          {
           "lower": 7029.060400390625,
           "timepoint": 326,
           "trajectory": "H_sol",
           "upper": 7804.138818359375
          },
          {
           "lower": 6827.4236328125,
           "timepoint": 327,
           "trajectory": "H_sol",
           "upper": 7613.628125
          },
          {
           "lower": 6630.408740234375,
           "timepoint": 328,
           "trajectory": "H_sol",
           "upper": 7425.099072265625
          },
          {
           "lower": 6438.049145507813,
           "timepoint": 329,
           "trajectory": "H_sol",
           "upper": 7238.764819335937
          },
          {
           "lower": 6250.376879882812,
           "timepoint": 330,
           "trajectory": "H_sol",
           "upper": 7054.812084960938
          },
          {
           "lower": 6067.378735351563,
           "timepoint": 331,
           "trajectory": "H_sol",
           "upper": 6873.429370117187
          },
          {
           "lower": 5889.069116210938,
           "timepoint": 332,
           "trajectory": "H_sol",
           "upper": 6694.776098632812
          },
          {
           "lower": 5715.423071289062,
           "timepoint": 333,
           "trajectory": "H_sol",
           "upper": 6518.993432617188
          },
          {
           "lower": 5546.410571289062,
           "timepoint": 334,
           "trajectory": "H_sol",
           "upper": 6346.205151367188
          },
          {
           "lower": 5382.008618164063,
           "timepoint": 335,
           "trajectory": "H_sol",
           "upper": 6176.519213867187
          },
          {
           "lower": 5222.1571044921875,
           "timepoint": 336,
           "trajectory": "H_sol",
           "upper": 6010.0328369140625
          },
          {
           "lower": 5066.80859375,
           "timepoint": 337,
           "trajectory": "H_sol",
           "upper": 5846.8203125
          },
          {
           "lower": 4915.9022216796875,
           "timepoint": 338,
           "trajectory": "H_sol",
           "upper": 5686.9468994140625
          },
          {
           "lower": 4769.3703125,
           "timepoint": 339,
           "trajectory": "H_sol",
           "upper": 5530.471484375
          },
          {
           "lower": 4627.148120117187,
           "timepoint": 340,
           "trajectory": "H_sol",
           "upper": 5377.429516601563
          },
          {
           "lower": 4489.152563476562,
           "timepoint": 341,
           "trajectory": "H_sol",
           "upper": 5227.842065429688
          },
          {
           "lower": 4355.306860351562,
           "timepoint": 342,
           "trajectory": "H_sol",
           "upper": 5081.735620117188
          },
          {
           "lower": 4225.531298828125,
           "timepoint": 343,
           "trajectory": "H_sol",
           "upper": 4939.116162109375
          },
          {
           "lower": 4099.739404296875,
           "timepoint": 344,
           "trajectory": "H_sol",
           "upper": 4799.984228515625
          },
          {
           "lower": 3977.8311401367187,
           "timepoint": 345,
           "trajectory": "H_sol",
           "upper": 4664.324377441406
          },
          {
           "lower": 3859.7341186523436,
           "timepoint": 346,
           "trajectory": "H_sol",
           "upper": 4532.123547363281
          },
          {
           "lower": 3745.3464233398436,
           "timepoint": 347,
           "trajectory": "H_sol",
           "upper": 4403.365734863281
          },
          {
           "lower": 3634.5834716796876,
           "timepoint": 348,
           "trajectory": "H_sol",
           "upper": 4278.012719726563
          },
          {
           "lower": 3527.3474609375,
           "timepoint": 349,
           "trajectory": "H_sol",
           "upper": 4156.0255859375
          },
          {
           "lower": 3423.5503051757814,
           "timepoint": 350,
           "trajectory": "H_sol",
           "upper": 4037.3698608398436
          },
          {
           "lower": 3323.0968505859373,
           "timepoint": 351,
           "trajectory": "H_sol",
           "upper": 3921.9954345703127
          },
          {
           "lower": 3225.893798828125,
           "timepoint": 352,
           "trajectory": "H_sol",
           "upper": 3809.869873046875
          },
          {
           "lower": 3131.8552368164064,
           "timepoint": 353,
           "trajectory": "H_sol",
           "upper": 3700.9208862304686
          },
          {
           "lower": 3040.882775878906,
           "timepoint": 354,
           "trajectory": "H_sol",
           "upper": 3595.102819824219
          },
          {
           "lower": 2952.8920776367186,
           "timepoint": 355,
           "trajectory": "H_sol",
           "upper": 3492.3557250976564
          },
          {
           "lower": 2867.7955322265625,
           "timepoint": 356,
           "trajectory": "H_sol",
           "upper": 3392.6190185546875
          },
          {
           "lower": 2785.5046142578126,
           "timepoint": 357,
           "trajectory": "H_sol",
           "upper": 3295.8322998046874
          },
          {
           "lower": 2705.9294677734374,
           "timepoint": 358,
           "trajectory": "H_sol",
           "upper": 3201.9318603515626
          },
          {
           "lower": 2628.9915161132812,
           "timepoint": 359,
           "trajectory": "H_sol",
           "upper": 3110.8529663085938
          },
          {
           "lower": 2554.6060424804687,
           "timepoint": 360,
           "trajectory": "H_sol",
           "upper": 3022.5328735351563
          },
          {
           "lower": 2482.6941162109374,
           "timepoint": 361,
           "trajectory": "H_sol",
           "upper": 2936.9045166015626
          },
          {
           "lower": 2413.1721313476564,
           "timepoint": 362,
           "trajectory": "H_sol",
           "upper": 2853.8954956054686
          },
          {
           "lower": 2345.9672973632814,
           "timepoint": 363,
           "trajectory": "H_sol",
           "upper": 2773.4455444335936
          },
          {
           "lower": 2281.0019653320314,
           "timepoint": 364,
           "trajectory": "H_sol",
           "upper": 2695.4943725585936
          },
          {
           "lower": 2218.2034301757812,
           "timepoint": 365,
           "trajectory": "H_sol",
           "upper": 2619.9657592773438
          },
          {
           "lower": 2157.5011962890626,
           "timepoint": 366,
           "trajectory": "H_sol",
           "upper": 2546.7990966796874
          },
          {
           "lower": 2098.8237915039062,
           "timepoint": 367,
           "trajectory": "H_sol",
           "upper": 2475.9284057617188
          },
          {
           "lower": 2042.1038391113282,
           "timepoint": 368,
           "trajectory": "H_sol",
           "upper": 2407.2886169433596
          },
          {
           "lower": 1987.274884033203,
           "timepoint": 369,
           "trajectory": "H_sol",
           "upper": 2340.816790771484
          },
          {
           "lower": 1934.275927734375,
           "timepoint": 370,
           "trajectory": "H_sol",
           "upper": 2276.448193359375
          },
          {
           "lower": 1883.0411071777344,
           "timepoint": 371,
           "trajectory": "H_sol",
           "upper": 2214.128936767578
          },
          {
           "lower": 1833.5128662109375,
           "timepoint": 372,
           "trajectory": "H_sol",
           "upper": 2153.7893798828127
          },
          {
           "lower": 1785.6285400390625,
           "timepoint": 373,
           "trajectory": "H_sol",
           "upper": 2095.3748779296875
          },
          {
           "lower": 1739.341082763672,
           "timepoint": 374,
           "trajectory": "H_sol",
           "upper": 2038.8265197753906
          },
          {
           "lower": 1694.5861938476562,
           "timepoint": 375,
           "trajectory": "H_sol",
           "upper": 1984.0827514648438
          },
          {
           "lower": 1651.3139587402343,
           "timepoint": 376,
           "trajectory": "H_sol",
           "upper": 1931.0938781738282
          },
          {
           "lower": 1609.4739074707031,
           "timepoint": 377,
           "trajectory": "H_sol",
           "upper": 1879.7996520996094
          },
          {
           "lower": 1569.0154541015625,
           "timepoint": 378,
           "trajectory": "H_sol",
           "upper": 1830.1508056640625
          },
          {
           "lower": 1529.8911987304687,
           "timepoint": 379,
           "trajectory": "H_sol",
           "upper": 1782.0948852539063
          },
          {
           "lower": 1492.0551025390625,
           "timepoint": 380,
           "trajectory": "H_sol",
           "upper": 1735.5811279296875
          },
          {
           "lower": 1455.461004638672,
           "timepoint": 381,
           "trajectory": "H_sol",
           "upper": 1690.5564514160155
          },
          {
           "lower": 1420.0673706054688,
           "timepoint": 382,
           "trajectory": "H_sol",
           "upper": 1646.9765747070312
          },
          {
           "lower": 1385.8306762695313,
           "timepoint": 383,
           "trajectory": "H_sol",
           "upper": 1604.7945678710937
          },
          {
           "lower": 1352.7130126953125,
           "timepoint": 384,
           "trajectory": "H_sol",
           "upper": 1563.9625244140625
          },
          {
           "lower": 1320.6718872070312,
           "timepoint": 385,
           "trajectory": "H_sol",
           "upper": 1524.4399291992188
          },
          {
           "lower": 1289.6725463867188,
           "timepoint": 386,
           "trajectory": "H_sol",
           "upper": 1486.1795043945312
          },
          {
           "lower": 1259.6787231445312,
           "timepoint": 387,
           "trajectory": "H_sol",
           "upper": 1449.1447631835938
          },
          {
           "lower": 1230.6543029785157,
           "timepoint": 388,
           "trajectory": "H_sol",
           "upper": 1413.2911315917968
          },
          {
           "lower": 1202.566015625,
           "timepoint": 389,
           "trajectory": "H_sol",
           "upper": 1378.579736328125
          },
          {
           "lower": 1175.3817749023438,
           "timepoint": 390,
           "trajectory": "H_sol",
           "upper": 1344.9722290039062
          },
          {
           "lower": 1149.0694519042968,
           "timepoint": 391,
           "trajectory": "H_sol",
           "upper": 1312.4382385253907
          },
          {
           "lower": 1123.5972290039062,
           "timepoint": 392,
           "trajectory": "H_sol",
           "upper": 1280.9335327148438
          },
          {
           "lower": 1098.9429077148438,
           "timepoint": 393,
           "trajectory": "H_sol",
           "upper": 1250.4296508789062
          },
          {
           "lower": 1075.071630859375,
           "timepoint": 394,
           "trajectory": "H_sol",
           "upper": 1220.89052734375
          },
          {
           "lower": 1051.9567565917969,
           "timepoint": 395,
           "trajectory": "H_sol",
           "upper": 1192.2823791503906
          },
          {
           "lower": 1029.5743621826173,
           "timepoint": 396,
           "trajectory": "H_sol",
           "upper": 1164.575845336914
          },
          {
           "lower": 1007.8993591308594,
           "timepoint": 397,
           "trajectory": "H_sol",
           "upper": 1137.743585205078
          },
          {
           "lower": 986.9070678710938,
           "timepoint": 398,
           "trajectory": "H_sol",
           "upper": 1111.7506469726563
          },
          {
           "lower": 966.5729766845703,
           "timepoint": 399,
           "trajectory": "H_sol",
           "upper": 1086.5751556396485
          },
          {
           "lower": 946.8752166748047,
           "timepoint": 400,
           "trajectory": "H_sol",
           "upper": 1062.1839263916015
          },
          {
           "lower": 927.7950225830078,
           "timepoint": 401,
           "trajectory": "H_sol",
           "upper": 1038.555502319336
          },
          {
           "lower": 909.3076232910156,
           "timepoint": 402,
           "trajectory": "H_sol",
           "upper": 1015.6608825683594
          },
          {
           "lower": 891.3958251953125,
           "timepoint": 403,
           "trajectory": "H_sol",
           "upper": 993.4777099609375
          },
          {
           "lower": 874.0382232666016,
           "timepoint": 404,
           "trajectory": "H_sol",
           "upper": 971.9816131591797
          },
          {
           "lower": 857.2171234130859,
           "timepoint": 405,
           "trajectory": "H_sol",
           "upper": 951.1484161376953
          },
          {
           "lower": 840.914682006836,
           "timepoint": 406,
           "trajectory": "H_sol",
           "upper": 930.9587921142578
          },
          {
           "lower": 825.1135101318359,
           "timepoint": 407,
           "trajectory": "H_sol",
           "upper": 911.3877716064453
          },
          {
           "lower": 809.7965576171875,
           "timepoint": 408,
           "trajectory": "H_sol",
           "upper": 892.417919921875
          },
          {
           "lower": 794.9483123779297,
           "timepoint": 409,
           "trajectory": "H_sol",
           "upper": 874.0280670166015
          },
          {
           "lower": 780.5535736083984,
           "timepoint": 410,
           "trajectory": "H_sol",
           "upper": 856.1996612548828
          },
          {
           "lower": 766.5967864990234,
           "timepoint": 411,
           "trajectory": "H_sol",
           "upper": 838.9129180908203
          },
          {
           "lower": 753.0643432617187,
           "timepoint": 412,
           "trajectory": "H_sol",
           "upper": 822.1509887695313
          },
          {
           "lower": 739.9418823242188,
           "timepoint": 413,
           "trajectory": "H_sol",
           "upper": 805.8969848632812
          },
          {
           "lower": 727.2165924072266,
           "timepoint": 414,
           "trajectory": "H_sol",
           "upper": 790.1338104248047
          },
          {
           "lower": 714.8754699707031,
           "timepoint": 415,
           "trajectory": "H_sol",
           "upper": 774.8451110839844
          },
          {
           "lower": 702.9060089111329,
           "timepoint": 416,
           "trajectory": "H_sol",
           "upper": 760.0162933349609
          },
          {
           "lower": 691.2965240478516,
           "timepoint": 417,
           "trajectory": "H_sol",
           "upper": 745.6307830810547
          },
          {
           "lower": 680.0356018066407,
           "timepoint": 418,
           "trajectory": "H_sol",
           "upper": 731.6749694824218
          },
          {
           "lower": 669.1123931884765,
           "timepoint": 419,
           "trajectory": "H_sol",
           "upper": 718.1371795654297
          },
          {
           "lower": 658.5158111572266,
           "timepoint": 420,
           "trajectory": "H_sol",
           "upper": 705.0012176513671
          },
          {
           "lower": 648.236605834961,
           "timepoint": 421,
           "trajectory": "H_sol",
           "upper": 692.2550323486328
          },
          {
           "lower": 638.2631286621094,
           "timepoint": 422,
           "trajectory": "H_sol",
           "upper": 679.8860412597656
          },
          {
           "lower": 628.5878387451172,
           "timepoint": 423,
           "trajectory": "H_sol",
           "upper": 667.8828033447265
          },
          {
           "lower": 619.2002899169922,
           "timepoint": 424,
           "trajectory": "H_sol",
           "upper": 656.233609008789
          },
          {
           "lower": 610.0923095703125,
           "timepoint": 425,
           "trajectory": "H_sol",
           "upper": 644.9260009765625
          },
          {
           "lower": 601.2554107666016,
           "timepoint": 426,
           "trajectory": "H_sol",
           "upper": 633.9514373779297
          },
          {
           "lower": 592.6809295654297,
           "timepoint": 427,
           "trajectory": "H_sol",
           "upper": 623.2969146728516
          },
          {
           "lower": 584.361669921875,
           "timepoint": 428,
           "trajectory": "H_sol",
           "upper": 612.954248046875
          },
          {
           "lower": 576.2893157958985,
           "timepoint": 429,
           "trajectory": "H_sol",
           "upper": 602.9137481689453
          },
          {
           "lower": 568.4572204589844,
           "timepoint": 430,
           "trajectory": "H_sol",
           "upper": 593.1655822753906
          },
          {
           "lower": 560.8575500488281,
           "timepoint": 431,
           "trajectory": "H_sol",
           "upper": 583.7004333496094
          },
          {
           "lower": 553.4844818115234,
           "timepoint": 432,
           "trajectory": "H_sol",
           "upper": 574.5098419189453
          },
          {
           "lower": 546.3303924560547,
           "timepoint": 433,
           "trajectory": "H_sol",
           "upper": 565.586294555664
          },
          {
           "lower": 539.3900207519531,
           "timepoint": 434,
           "trajectory": "H_sol",
           "upper": 556.9210144042969
          },
          {
           "lower": 532.6566711425781,
           "timepoint": 435,
           "trajectory": "H_sol",
           "upper": 548.5054382324219
          },
          {
           "lower": 526.1240905761719,
           "timepoint": 436,
           "trajectory": "H_sol",
           "upper": 540.3328186035156
          },
          {
           "lower": 519.7871856689453,
           "timepoint": 437,
           "trajectory": "H_sol",
           "upper": 532.3964691162109
          },
          {
           "lower": 513.6396301269531,
           "timepoint": 438,
           "trajectory": "H_sol",
           "upper": 524.6882507324219
          },
          {
           "lower": 507.67868957519534,
           "timepoint": 439,
           "trajectory": "H_sol",
           "upper": 517.2023529052734
          },
          {
           "lower": 501.8971145629883,
           "timepoint": 440,
           "trajectory": "H_sol",
           "upper": 509.93177337646483
          },
          {
           "lower": 496.28929595947267,
           "timepoint": 441,
           "trajectory": "H_sol",
           "upper": 502.86991424560546
          },
          {
           "lower": 490.8522644042969,
           "timepoint": 442,
           "trajectory": "H_sol",
           "upper": 496.0114440917969
          },
          {
           "lower": 485.58067321777344,
           "timepoint": 443,
           "trajectory": "H_sol",
           "upper": 489.3498077392578
          },
          {
           "lower": 480.47057952880857,
           "timepoint": 444,
           "trajectory": "H_sol",
           "upper": 482.8798538208008
          },
          {
           "lower": 475.5170608520508,
           "timepoint": 445,
           "trajectory": "H_sol",
           "upper": 476.59594573974607
          },
          {
           "lower": 470.4929656982422,
           "timepoint": 446,
           "trajectory": "H_sol",
           "upper": 470.71681213378906
          },
          {
           "lower": 464.5658477783203,
           "timepoint": 447,
           "trajectory": "H_sol",
           "upper": 466.06531677246096
          },
          {
           "lower": 458.80882568359374,
           "timepoint": 448,
           "trajectory": "H_sol",
           "upper": 461.559033203125
          },
          {
           "lower": 453.2185394287109,
           "timepoint": 449,
           "trajectory": "H_sol",
           "upper": 457.1945465087891
          },
          {
           "lower": 447.7892120361328,
           "timepoint": 450,
           "trajectory": "H_sol",
           "upper": 452.9681121826172
          },
          {
           "lower": 442.5174850463867,
           "timepoint": 451,
           "trajectory": "H_sol",
           "upper": 448.8768936157227
          },
          {
           "lower": 437.3980194091797,
           "timepoint": 452,
           "trajectory": "H_sol",
           "upper": 444.9155792236328
          },
          {
           "lower": 432.4275604248047,
           "timepoint": 453,
           "trajectory": "H_sol",
           "upper": 441.0833038330078
          },
          {
           "lower": 427.60191955566404,
           "timepoint": 454,
           "trajectory": "H_sol",
           "upper": 437.3762908935547
          },
          {
           "lower": 422.916926574707,
           "timepoint": 455,
           "trajectory": "H_sol",
           "upper": 433.79166107177736
          },
          {
           "lower": 418.3696350097656,
           "timepoint": 456,
           "trajectory": "H_sol",
           "upper": 430.3261657714844
          },
          {
           "lower": 413.9555892944336,
           "timepoint": 457,
           "trajectory": "H_sol",
           "upper": 426.97754669189453
          },
          {
           "lower": 409.67211761474607,
           "timepoint": 458,
           "trajectory": "H_sol",
           "upper": 423.74282989501955
          },
          {
           "lower": 405.5154052734375,
           "timepoint": 459,
           "trajectory": "H_sol",
           "upper": 420.6203979492187
          },
          {
           "lower": 401.48231353759763,
           "timepoint": 460,
           "trajectory": "H_sol",
           "upper": 417.607194519043
          },
          {
           "lower": 397.5698959350586,
           "timepoint": 461,
           "trajectory": "H_sol",
           "upper": 414.6999710083008
          },
          {
           "lower": 393.77546844482424,
           "timepoint": 462,
           "trajectory": "H_sol",
           "upper": 411.89771881103513
          },
          {
           "lower": 390.09480438232424,
           "timepoint": 463,
           "trajectory": "H_sol",
           "upper": 409.19813385009763
          },
          {
           "lower": 386.5265914916992,
           "timepoint": 464,
           "trajectory": "H_sol",
           "upper": 406.5988052368164
          },
          {
           "lower": 383.06754913330076,
           "timepoint": 465,
           "trajectory": "H_sol",
           "upper": 404.0978256225586
          },
          {
           "lower": 379.71546630859376,
           "timepoint": 466,
           "trajectory": "H_sol",
           "upper": 401.6932861328125
          },
          {
           "lower": 376.4669128417969,
           "timepoint": 467,
           "trajectory": "H_sol",
           "upper": 399.3831848144531
          },
          {
           "lower": 373.32034454345705,
           "timepoint": 468,
           "trajectory": "H_sol",
           "upper": 397.1661972045898
          },
          {
           "lower": 370.27281646728517,
           "timepoint": 469,
           "trajectory": "H_sol",
           "upper": 395.04020233154296
          },
          {
           "lower": 367.3234039306641,
           "timepoint": 470,
           "trajectory": "H_sol",
           "upper": 393.00356140136716
          },
          {
           "lower": 364.4686218261719,
           "timepoint": 471,
           "trajectory": "H_sol",
           "upper": 391.05487670898435
          },
          {
           "lower": 361.7062713623047,
           "timepoint": 472,
           "trajectory": "H_sol",
           "upper": 389.1924713134766
          },
          {
           "lower": 359.0349853515625,
           "timepoint": 473,
           "trajectory": "H_sol",
           "upper": 387.415087890625
          },
          {
           "lower": 356.45272064208984,
           "timepoint": 474,
           "trajectory": "H_sol",
           "upper": 385.7212600708008
          },
          {
           "lower": 353.957453918457,
           "timepoint": 475,
           "trajectory": "H_sol",
           "upper": 384.10989837646486
          },
          {
           "lower": 351.5473358154297,
           "timepoint": 476,
           "trajectory": "H_sol",
           "upper": 382.5788238525391
          },
          {
           "lower": 349.2208847045898,
           "timepoint": 477,
           "trajectory": "H_sol",
           "upper": 381.1279006958008
          },
          {
           "lower": 346.9760345458984,
           "timepoint": 478,
           "trajectory": "H_sol",
           "upper": 379.75522766113284
          },
          {
           "lower": 344.81153411865233,
           "timepoint": 479,
           "trajectory": "H_sol",
           "upper": 378.4601028442383
          },
          {
           "lower": 342.72557067871094,
           "timepoint": 480,
           "trajectory": "H_sol",
           "upper": 377.2410430908203
          },
          {
           "lower": 340.716845703125,
           "timepoint": 481,
           "trajectory": "H_sol",
           "upper": 376.098095703125
          },
          {
           "lower": 338.7837173461914,
           "timepoint": 482,
           "trajectory": "H_sol",
           "upper": 375.02917938232423
          },
          {
           "lower": 336.9246597290039,
           "timepoint": 483,
           "trajectory": "H_sol",
           "upper": 374.0338668823242
          },
          {
           "lower": 335.13905029296876,
           "timepoint": 484,
           "trajectory": "H_sol",
           "upper": 373.1107666015625
          },
          {
           "lower": 333.42491607666017,
           "timepoint": 485,
           "trajectory": "H_sol",
           "upper": 372.2597457885742
          },
          {
           "lower": 331.78106384277345,
           "timepoint": 486,
           "trajectory": "H_sol",
           "upper": 371.4801055908203
          },
          {
           "lower": 330.206477355957,
           "timepoint": 487,
           "trajectory": "H_sol",
           "upper": 370.76956634521486
          },
          {
           "lower": 328.699967956543,
           "timepoint": 488,
           "trajectory": "H_sol",
           "upper": 370.12916412353513
          },
          {
           "lower": 327.2604095458984,
           "timepoint": 489,
           "trajectory": "H_sol",
           "upper": 369.5572784423828
          },
          {
           "lower": 325.88683013916017,
           "timepoint": 490,
           "trajectory": "H_sol",
           "upper": 369.0546676635742
          },
          {
           "lower": 324.5782196044922,
           "timepoint": 491,
           "trajectory": "H_sol",
           "upper": 368.6191680908203
          },
          {
           "lower": 323.33347473144534,
           "timepoint": 492,
           "trajectory": "H_sol",
           "upper": 368.2506927490234
          },
          {
           "lower": 322.15164337158205,
           "timepoint": 493,
           "trajectory": "H_sol",
           "upper": 367.9492782592773
          },
          {
           "lower": 321.0322631835937,
           "timepoint": 494,
           "trajectory": "H_sol",
           "upper": 367.7138305664063
          },
          {
           "lower": 319.97387847900393,
           "timepoint": 495,
           "trajectory": "H_sol",
           "upper": 367.54415740966795
          },
          {
           "lower": 318.9754577636719,
           "timepoint": 496,
           "trajectory": "H_sol",
           "upper": 367.43988647460935
          },
          {
           "lower": 318.0380798339844,
           "timepoint": 497,
           "trajectory": "H_sol",
           "upper": 367.4006408691406
          },
          {
           "lower": 317.15903625488284,
           "timepoint": 498,
           "trajectory": "H_sol",
           "upper": 367.42604675292966
          },
          {
           "lower": 316.3384552001953,
           "timepoint": 499,
           "trajectory": "H_sol",
           "upper": 367.5157928466797
          },
          {
           "lower": 315.57457733154297,
           "timepoint": 500,
           "trajectory": "H_sol",
           "upper": 367.66996002197266
          },
          {
           "lower": 314.8681137084961,
           "timepoint": 501,
           "trajectory": "H_sol",
           "upper": 367.88777618408204
          },
          {
           "lower": 314.2180572509766,
           "timepoint": 502,
           "trajectory": "H_sol",
           "upper": 368.16933288574216
          },
          {
           "lower": 313.62372436523435,
           "timepoint": 503,
           "trajectory": "H_sol",
           "upper": 368.5142761230469
          },
          {
           "lower": 313.0846710205078,
           "timepoint": 504,
           "trajectory": "H_sol",
           "upper": 368.9235076904297
          },
          {
           "lower": 312.60020751953124,
           "timepoint": 505,
           "trajectory": "H_sol",
           "upper": 369.395458984375
          },
          {
           "lower": 312.170068359375,
           "timepoint": 506,
           "trajectory": "H_sol",
           "upper": 369.9305786132812
          },
          {
           "lower": 311.7938293457031,
           "timepoint": 507,
           "trajectory": "H_sol",
           "upper": 370.52959594726565
          },
          {
           "lower": 311.47048034667966,
           "timepoint": 508,
           "trajectory": "H_sol",
           "upper": 371.1914459228516
          },
          {
           "lower": 311.2003448486328,
           "timepoint": 509,
           "trajectory": "H_sol",
           "upper": 371.9167816162109
          },
          {
           "lower": 310.9827590942383,
           "timepoint": 510,
           "trajectory": "H_sol",
           "upper": 372.70507659912107
          },
          {
           "lower": 310.817236328125,
           "timepoint": 511,
           "trajectory": "H_sol",
           "upper": 373.5569702148438
          },
          {
           "lower": 310.70400390625,
           "timepoint": 512,
           "trajectory": "H_sol",
           "upper": 374.4723876953125
          },
          {
           "lower": 310.6422088623047,
           "timepoint": 513,
           "trajectory": "H_sol",
           "upper": 375.45160217285155
          },
          {
           "lower": 310.6315643310547,
           "timepoint": 514,
           "trajectory": "H_sol",
           "upper": 376.4946563720703
          },
          {
           "lower": 310.672607421875,
           "timepoint": 515,
           "trajectory": "H_sol",
           "upper": 377.60186767578125
          },
          {
           "lower": 310.7642318725586,
           "timepoint": 516,
           "trajectory": "H_sol",
           "upper": 378.7730911254883
          },
          {
           "lower": 310.90668029785155,
           "timepoint": 517,
           "trajectory": "H_sol",
           "upper": 380.00909118652345
          },
          {
           "lower": 311.099853515625,
           "timepoint": 518,
           "trajectory": "H_sol",
           "upper": 381.3101806640625
          },
          {
           "lower": 311.34290313720703,
           "timepoint": 519,
           "trajectory": "H_sol",
           "upper": 382.67562103271484
          },
          {
           "lower": 311.6364288330078,
           "timepoint": 520,
           "trajectory": "H_sol",
           "upper": 384.10691833496094
          },
          {
           "lower": 311.9801879882813,
           "timepoint": 521,
           "trajectory": "H_sol",
           "upper": 385.603857421875
          },
          {
           "lower": 312.3740798950195,
           "timepoint": 522,
           "trajectory": "H_sol",
           "upper": 387.1678207397461
          },
          {
           "lower": 312.8186492919922,
           "timepoint": 523,
           "trajectory": "H_sol",
           "upper": 388.7981719970703
          },
          {
           "lower": 313.31285552978517,
           "timepoint": 524,
           "trajectory": "H_sol",
           "upper": 390.49601287841796
          },
          {
           "lower": 313.8570922851562,
           "timepoint": 525,
           "trajectory": "H_sol",
           "upper": 392.2605834960938
          },
          {
           "lower": 314.4514892578125,
           "timepoint": 526,
           "trajectory": "H_sol",
           "upper": 394.093798828125
          },
          {
           "lower": 315.09595947265626,
           "timepoint": 527,
           "trajectory": "H_sol",
           "upper": 395.995654296875
          },
          {
           "lower": 315.79065856933596,
           "timepoint": 528,
           "trajectory": "H_sol",
           "upper": 397.96690979003904
          },
          {
           "lower": 316.5356811523437,
           "timepoint": 529,
           "trajectory": "H_sol",
           "upper": 400.00771484375
          },
          {
           "lower": 317.33111572265625,
           "timepoint": 530,
           "trajectory": "H_sol",
           "upper": 402.1197509765625
          },
          {
           "lower": 318.1772003173828,
           "timepoint": 531,
           "trajectory": "H_sol",
           "upper": 404.30259704589844
          },
          {
           "lower": 319.0741790771484,
           "timepoint": 532,
           "trajectory": "H_sol",
           "upper": 406.55759582519534
          },
          {
           "lower": 320.02093505859375,
           "timepoint": 533,
           "trajectory": "H_sol",
           "upper": 408.8843994140625
          },
          {
           "lower": 321.0193267822266,
           "timepoint": 534,
           "trajectory": "H_sol",
           "upper": 411.28481140136716
          },
          {
           "lower": 322.06900177001955,
           "timepoint": 535,
           "trajectory": "H_sol",
           "upper": 413.75927581787107
          },
          {
           "lower": 323.17017822265626,
           "timepoint": 536,
           "trajectory": "H_sol",
           "upper": 416.30919189453124
          },
          {
           "lower": 324.3229385375977,
           "timepoint": 537,
           "trajectory": "H_sol",
           "upper": 418.9344772338867
          },
          {
           "lower": 325.5274688720703,
           "timepoint": 538,
           "trajectory": "H_sol",
           "upper": 421.6364715576172
          },
          {
           "lower": 326.78519134521486,
           "timepoint": 539,
           "trajectory": "H_sol",
           "upper": 424.4158279418945
          },
          {
           "lower": 328.0949203491211,
           "timepoint": 540,
           "trajectory": "H_sol",
           "upper": 427.27364044189454
          },
          {
           "lower": 329.4575790405273,
           "timepoint": 541,
           "trajectory": "H_sol",
           "upper": 430.21096954345705
          },
          {
           "lower": 330.87390289306643,
           "timepoint": 542,
           "trajectory": "H_sol",
           "upper": 433.22860565185545
          },
          {
           "lower": 332.34364318847656,
           "timepoint": 543,
           "trajectory": "H_sol",
           "upper": 436.32786560058594
          },
          {
           "lower": 333.86731109619143,
           "timepoint": 544,
           "trajectory": "H_sol",
           "upper": 439.50912322998045
          },
          {
           "lower": 335.446044921875,
           "timepoint": 545,
           "trajectory": "H_sol",
           "upper": 442.77423095703125
          },
          {
           "lower": 337.0795272827148,
           "timepoint": 546,
           "trajectory": "H_sol",
           "upper": 446.12429962158205
          },
          {
           "lower": 338.7682876586914,
           "timepoint": 547,
           "trajectory": "H_sol",
           "upper": 449.5595016479492
          },
          {
           "lower": 340.5130111694336,
           "timepoint": 548,
           "trajectory": "H_sol",
           "upper": 453.08186798095704
          },
          {
           "lower": 342.3141174316406,
           "timepoint": 549,
           "trajectory": "H_sol",
           "upper": 456.6927795410156
          },
          {
           "lower": 344.17230834960935,
           "timepoint": 550,
           "trajectory": "H_sol",
           "upper": 460.3929382324219
          },
          {
           "lower": 346.08791198730466,
           "timepoint": 551,
           "trajectory": "H_sol",
           "upper": 464.1836334228516
          },
          {
           "lower": 348.0617141723633,
           "timepoint": 552,
           "trajectory": "H_sol",
           "upper": 468.0671615600586
          },
          {
           "lower": 350.09405822753905,
           "timepoint": 553,
           "trajectory": "H_sol",
           "upper": 472.04400329589845
          },
          {
           "lower": 352.1855972290039,
           "timepoint": 554,
           "trajectory": "H_sol",
           "upper": 476.11503143310546
          },
          {
           "lower": 354.33699798583984,
           "timepoint": 555,
           "trajectory": "H_sol",
           "upper": 480.28247833251953
          },
          {
           "lower": 356.54942321777344,
           "timepoint": 556,
           "trajectory": "H_sol",
           "upper": 484.5475616455078
          },
          {
           "lower": 358.8228454589844,
           "timepoint": 557,
           "trajectory": "H_sol",
           "upper": 488.9125061035156
          },
          {
           "lower": 361.1581726074219,
           "timepoint": 558,
           "trajectory": "H_sol",
           "upper": 493.3775329589844
          },
          {
           "lower": 363.5563430786133,
           "timepoint": 559,
           "trajectory": "H_sol",
           "upper": 497.94454193115234
          },
          {
           "lower": 366.01808471679686,
           "timepoint": 560,
           "trajectory": "H_sol",
           "upper": 502.61692504882814
          },
          {
           "lower": 368.54371490478513,
           "timepoint": 561,
           "trajectory": "H_sol",
           "upper": 507.3941207885742
          },
          {
           "lower": 371.13451690673827,
           "timepoint": 562,
           "trajectory": "H_sol",
           "upper": 512.2785385131835
          },
          {
           "lower": 373.7913192749023,
           "timepoint": 563,
           "trajectory": "H_sol",
           "upper": 517.2721878051758
          },
          {
           "lower": 376.5144638061523,
           "timepoint": 564,
           "trajectory": "H_sol",
           "upper": 522.3771682739258
          },
          {
           "lower": 379.3051696777344,
           "timepoint": 565,
           "trajectory": "H_sol",
           "upper": 527.5930236816406
          },
          {
           "lower": 382.16419677734376,
           "timepoint": 566,
           "trajectory": "H_sol",
           "upper": 532.9243041992188
          },
          {
           "lower": 385.09314727783203,
           "timepoint": 567,
           "trajectory": "H_sol",
           "upper": 538.3717880249023
          },
          {
           "lower": 388.09207305908205,
           "timepoint": 568,
           "trajectory": "H_sol",
           "upper": 543.9375595092773
          },
          {
           "lower": 4,
           "timepoint": 0,
           "trajectory": "I_sol",
           "upper": 4
          },
          {
           "lower": 3.595628893375397,
           "timepoint": 1,
           "trajectory": "I_sol",
           "upper": 3.5968976855278014
          },
          {
           "lower": 3.4272788166999817,
           "timepoint": 2,
           "trajectory": "I_sol",
           "upper": 3.4284772276878357
          },
          {
           "lower": 3.3955119848251343,
           "timepoint": 3,
           "trajectory": "I_sol",
           "upper": 3.401406407356262
          },
          {
           "lower": 3.446552562713623,
           "timepoint": 4,
           "trajectory": "I_sol",
           "upper": 3.458612632751465
          },
          {
           "lower": 3.54878488779068,
           "timepoint": 5,
           "trajectory": "I_sol",
           "upper": 3.5681038737297057
          },
          {
           "lower": 3.6841211199760435,
           "timepoint": 6,
           "trajectory": "I_sol",
           "upper": 3.7116382241249086
          },
          {
           "lower": 3.8423102617263796,
           "timepoint": 7,
           "trajectory": "I_sol",
           "upper": 3.878905463218689
          },
          {
           "lower": 4.017607998847962,
           "timepoint": 8,
           "trajectory": "I_sol",
           "upper": 4.064159560203552
          },
          {
           "lower": 4.20688636302948,
           "timepoint": 9,
           "trajectory": "I_sol",
           "upper": 4.264325547218323
          },
          {
           "lower": 4.408551836013794,
           "timepoint": 10,
           "trajectory": "I_sol",
           "upper": 4.4778541088104244
          },
          {
           "lower": 4.621888828277588,
           "timepoint": 11,
           "trajectory": "I_sol",
           "upper": 4.704092311859131
          },
          {
           "lower": 4.846713066101074,
           "timepoint": 12,
           "trajectory": "I_sol",
           "upper": 4.942937850952148
          },
          {
           "lower": 5.083145380020142,
           "timepoint": 13,
           "trajectory": "I_sol",
           "upper": 5.194592237472534
          },
          {
           "lower": 5.331494641304016,
           "timepoint": 14,
           "trajectory": "I_sol",
           "upper": 5.459439444541931
          },
          {
           "lower": 5.592202830314636,
           "timepoint": 15,
           "trajectory": "I_sol",
           "upper": 5.7380150079727175
          },
          {
           "lower": 5.865793824195862,
           "timepoint": 16,
           "trajectory": "I_sol",
           "upper": 6.03093421459198
          },
          {
           "lower": 6.152832293510437,
           "timepoint": 17,
           "trajectory": "I_sol",
           "upper": 6.3388836145401
          },
          {
           "lower": 6.453973746299743,
           "timepoint": 18,
           "trajectory": "I_sol",
           "upper": 6.662601971626282
          },
          {
           "lower": 6.769874382019043,
           "timepoint": 19,
           "trajectory": "I_sol",
           "upper": 7.002875518798828
          },
          {
           "lower": 7.10125880241394,
           "timepoint": 20,
           "trajectory": "I_sol",
           "upper": 7.360545587539673
          },
          {
           "lower": 7.448869681358337,
           "timepoint": 21,
           "trajectory": "I_sol",
           "upper": 7.736487889289856
          },
          {
           "lower": 7.813505363464356,
           "timepoint": 22,
           "trajectory": "I_sol",
           "upper": 8.131648826599122
          },
          {
           "lower": 8.195992755889893,
           "timepoint": 23,
           "trajectory": "I_sol",
           "upper": 8.546993923187255
          },
          {
           "lower": 8.597201061248779,
           "timepoint": 24,
           "trajectory": "I_sol",
           "upper": 8.98355417251587
          },
          {
           "lower": 9.01807188987732,
           "timepoint": 25,
           "trajectory": "I_sol",
           "upper": 9.44241452217102
          },
          {
           "lower": 9.459532403945923,
           "timepoint": 26,
           "trajectory": "I_sol",
           "upper": 9.924711561203003
          },
          {
           "lower": 9.922601652145385,
           "timepoint": 27,
           "trajectory": "I_sol",
           "upper": 10.431662607192994
          },
          {
           "lower": 10.408367156982422,
           "timepoint": 28,
           "trajectory": "I_sol",
           "upper": 10.964498519897461
          },
          {
           "lower": 10.917900991439819,
           "timepoint": 29,
           "trajectory": "I_sol",
           "upper": 11.524551439285279
          },
          {
           "lower": 11.452391147613525,
           "timepoint": 30,
           "trajectory": "I_sol",
           "upper": 12.113227367401123
          },
          {
           "lower": 12.013027143478393,
           "timepoint": 31,
           "trajectory": "I_sol",
           "upper": 12.731961297988892
          },
          {
           "lower": 12.601118183135986,
           "timepoint": 32,
           "trajectory": "I_sol",
           "upper": 13.382299327850342
          },
          {
           "lower": 13.217991876602174,
           "timepoint": 33,
           "trajectory": "I_sol",
           "upper": 14.065879774093627
          },
          {
           "lower": 13.86510739326477,
           "timepoint": 34,
           "trajectory": "I_sol",
           "upper": 14.784368658065796
          },
          {
           "lower": 14.543881702423096,
           "timepoint": 35,
           "trajectory": "I_sol",
           "upper": 15.53955717086792
          },
          {
           "lower": 15.255886697769165,
           "timepoint": 36,
           "trajectory": "I_sol",
           "upper": 16.333330488204957
          },
          {
           "lower": 16.00275993347168,
           "timepoint": 37,
           "trajectory": "I_sol",
           "upper": 17.167654037475586
          },
          {
           "lower": 16.786198711395265,
           "timepoint": 38,
           "trajectory": "I_sol",
           "upper": 18.044598484039305
          },
          {
           "lower": 17.608000373840333,
           "timepoint": 39,
           "trajectory": "I_sol",
           "upper": 18.966332817077635
          },
          {
           "lower": 18.47004814147949,
           "timepoint": 40,
           "trajectory": "I_sol",
           "upper": 19.93516426086426
          },
          {
           "lower": 19.374260807037352,
           "timepoint": 41,
           "trajectory": "I_sol",
           "upper": 20.95349225997925
          },
          {
           "lower": 20.32277641296387,
           "timepoint": 42,
           "trajectory": "I_sol",
           "upper": 22.023865127563475
          },
          {
           "lower": 21.317729949951172,
           "timepoint": 43,
           "trajectory": "I_sol",
           "upper": 23.148841857910156
          },
          {
           "lower": 22.36139440536499,
           "timepoint": 44,
           "trajectory": "I_sol",
           "upper": 24.331337451934814
          },
          {
           "lower": 23.45616273880005,
           "timepoint": 45,
           "trajectory": "I_sol",
           "upper": 25.57424612045288
          },
          {
           "lower": 24.604536056518555,
           "timepoint": 46,
           "trajectory": "I_sol",
           "upper": 26.88062858581543
          },
          {
           "lower": 25.809142303466796,
           "timepoint": 47,
           "trajectory": "I_sol",
           "upper": 28.253758239746094
          },
          {
           "lower": 27.072707176208496,
           "timepoint": 48,
           "trajectory": "I_sol",
           "upper": 29.697014808654785
          },
          {
           "lower": 28.398150062561037,
           "timepoint": 49,
           "trajectory": "I_sol",
           "upper": 31.214059257507323
          },
          {
           "lower": 29.788481616973876,
           "timepoint": 50,
           "trajectory": "I_sol",
           "upper": 32.80857000350952
          },
          {
           "lower": 31.246931171417238,
           "timepoint": 51,
           "trajectory": "I_sol",
           "upper": 34.48453512191772
          },
          {
           "lower": 32.776766777038574,
           "timepoint": 52,
           "trajectory": "I_sol",
           "upper": 36.246094703674316
          },
          {
           "lower": 34.38150177001953,
           "timepoint": 53,
           "trajectory": "I_sol",
           "upper": 38.097723388671874
          },
          {
           "lower": 36.06477375030518,
           "timepoint": 54,
           "trajectory": "I_sol",
           "upper": 40.04388790130615
          },
          {
           "lower": 37.83055534362793,
           "timepoint": 55,
           "trajectory": "I_sol",
           "upper": 42.08948097229004
          },
          {
           "lower": 39.68274993896485,
           "timepoint": 56,
           "trajectory": "I_sol",
           "upper": 44.23959045410156
          },
          {
           "lower": 41.625634765625,
           "timepoint": 57,
           "trajectory": "I_sol",
           "upper": 46.49954071044922
          },
          {
           "lower": 43.66366844177246,
           "timepoint": 58,
           "trajectory": "I_sol",
           "upper": 48.8749439239502
          },
          {
           "lower": 45.80148620605469,
           "timepoint": 59,
           "trajectory": "I_sol",
           "upper": 51.37167816162109
          },
          {
           "lower": 48.04399929046631,
           "timepoint": 60,
           "trajectory": "I_sol",
           "upper": 53.99599018096924
          },
          {
           "lower": 50.39636001586914,
           "timepoint": 61,
           "trajectory": "I_sol",
           "upper": 56.754381561279295
          },
          {
           "lower": 52.863732719421385,
           "timepoint": 62,
           "trajectory": "I_sol",
           "upper": 59.65371952056885
          },
          {
           "lower": 55.452015495300294,
           "timepoint": 63,
           "trajectory": "I_sol",
           "upper": 62.70101108551025
          },
          {
           "lower": 58.167046546936035,
           "timepoint": 64,
           "trajectory": "I_sol",
           "upper": 65.9041166305542
          },
          {
           "lower": 61.015031242370604,
           "timepoint": 65,
           "trajectory": "I_sol",
           "upper": 69.27093753814697
          },
          {
           "lower": 64.00245189666748,
           "timepoint": 66,
           "trajectory": "I_sol",
           "upper": 72.80948734283447
          },
          {
           "lower": 67.13617973327636,
           "timepoint": 67,
           "trajectory": "I_sol",
           "upper": 76.52898902893067
          },
          {
           "lower": 70.42336463928223,
           "timepoint": 68,
           "trajectory": "I_sol",
           "upper": 80.43853569030762
          },
          {
           "lower": 73.87140159606933,
           "timepoint": 69,
           "trajectory": "I_sol",
           "upper": 84.54768867492676
          },
          {
           "lower": 77.4883529663086,
           "timepoint": 70,
           "trajectory": "I_sol",
           "upper": 88.86681060791015
          },
          {
           "lower": 81.2824863433838,
           "timepoint": 71,
           "trajectory": "I_sol",
           "upper": 93.40659294128417
          },
          {
           "lower": 85.26217689514161,
           "timepoint": 72,
           "trajectory": "I_sol",
           "upper": 98.17826042175292
          },
          {
           "lower": 89.4368797302246,
           "timepoint": 73,
           "trajectory": "I_sol",
           "upper": 103.19378128051758
          },
          {
           "lower": 93.81597328186035,
           "timepoint": 74,
           "trajectory": "I_sol",
           "upper": 108.46545219421387
          },
          {
           "lower": 98.4094367980957,
           "timepoint": 75,
           "trajectory": "I_sol",
           "upper": 114.00641098022462
          },
          {
           "lower": 103.2279655456543,
           "timepoint": 76,
           "trajectory": "I_sol",
           "upper": 119.83049087524414
          },
          {
           "lower": 108.28236770629883,
           "timepoint": 77,
           "trajectory": "I_sol",
           "upper": 125.95202255249023
          },
          {
           "lower": 113.58426399230957,
           "timepoint": 78,
           "trajectory": "I_sol",
           "upper": 132.38621788024903
          },
          {
           "lower": 119.14567413330079,
           "timepoint": 79,
           "trajectory": "I_sol",
           "upper": 139.14927825927734
          },
          {
           "lower": 124.97945137023926,
           "timepoint": 80,
           "trajectory": "I_sol",
           "upper": 146.25772361755372
          },
          {
           "lower": 131.09884490966797,
           "timepoint": 81,
           "trajectory": "I_sol",
           "upper": 153.72928009033203
          },
          {
           "lower": 137.51784591674806,
           "timepoint": 82,
           "trajectory": "I_sol",
           "upper": 161.58245010375975
          },
          {
           "lower": 144.25129928588868,
           "timepoint": 83,
           "trajectory": "I_sol",
           "upper": 169.83685073852538
          },
          {
           "lower": 151.31435928344726,
           "timepoint": 84,
           "trajectory": "I_sol",
           "upper": 178.51289596557618
          },
          {
           "lower": 158.72331008911132,
           "timepoint": 85,
           "trajectory": "I_sol",
           "upper": 187.63214340209962
          },
          {
           "lower": 166.49484634399414,
           "timepoint": 86,
           "trajectory": "I_sol",
           "upper": 197.21708297729492
          },
          {
           "lower": 174.6469856262207,
           "timepoint": 87,
           "trajectory": "I_sol",
           "upper": 207.29171981811524
          },
          {
           "lower": 183.19822692871094,
           "timepoint": 88,
           "trajectory": "I_sol",
           "upper": 217.88096618652344
          },
          {
           "lower": 192.16813049316406,
           "timepoint": 89,
           "trajectory": "I_sol",
           "upper": 229.01094665527344
          },
          {
           "lower": 201.57740478515626,
           "timepoint": 90,
           "trajectory": "I_sol",
           "upper": 240.7095520019531
          },
          {
           "lower": 211.44728927612306,
           "timepoint": 91,
           "trajectory": "I_sol",
           "upper": 253.00569839477538
          },
          {
           "lower": 221.80050811767578,
           "timepoint": 92,
           "trajectory": "I_sol",
           "upper": 265.9298690795898
          },
          {
           "lower": 232.66015014648437,
           "timepoint": 93,
           "trajectory": "I_sol",
           "upper": 279.51398315429685
          },
          {
           "lower": 244.05175094604493,
           "timepoint": 94,
           "trajectory": "I_sol",
           "upper": 293.7919532775879
          },
          {
           "lower": 256.0010536193848,
           "timepoint": 95,
           "trajectory": "I_sol",
           "upper": 308.7991630554199
          },
          {
           "lower": 268.5353744506836,
           "timepoint": 96,
           "trajectory": "I_sol",
           "upper": 324.57287139892577
          },
          {
           "lower": 281.68333435058594,
           "timepoint": 97,
           "trajectory": "I_sol",
           "upper": 341.1520538330078
          },
          {
           "lower": 295.4748077392578,
           "timepoint": 98,
           "trajectory": "I_sol",
           "upper": 358.5778045654297
          },
          {
           "lower": 309.9412414550781,
           "timepoint": 99,
           "trajectory": "I_sol",
           "upper": 376.89390258789064
          },
          {
           "lower": 325.1166458129883,
           "timepoint": 100,
           "trajectory": "I_sol",
           "upper": 396.1450424194336
          },
          {
           "lower": 341.03442535400393,
           "timepoint": 101,
           "trajectory": "I_sol",
           "upper": 416.37924041748045
          },
          {
           "lower": 357.7315170288086,
           "timepoint": 102,
           "trajectory": "I_sol",
           "upper": 437.64680938720704
          },
          {
           "lower": 375.24608917236327,
           "timepoint": 103,
           "trajectory": "I_sol",
           "upper": 460.00003509521486
          },
          {
           "lower": 393.6173065185547,
           "timepoint": 104,
           "trajectory": "I_sol",
           "upper": 483.4947540283203
          },
          {
           "lower": 412.88822479248046,
           "timepoint": 105,
           "trajectory": "I_sol",
           "upper": 508.18932037353517
          },
          {
           "lower": 433.1024993896484,
           "timepoint": 106,
           "trajectory": "I_sol",
           "upper": 534.1441436767578
          },
          {
           "lower": 454.3057327270508,
           "timepoint": 107,
           "trajectory": "I_sol",
           "upper": 561.4242172241211
          },
          {
           "lower": 476.5469177246094,
           "timepoint": 108,
           "trajectory": "I_sol",
           "upper": 590.0968811035157
          },
          {
           "lower": 499.8766128540039,
           "timepoint": 109,
           "trajectory": "I_sol",
           "upper": 620.2339523315429
          },
          {
           "lower": 524.3479553222656,
           "timepoint": 110,
           "trajectory": "I_sol",
           "upper": 651.9090026855469
          },
          {
           "lower": 550.0171508789062,
           "timepoint": 111,
           "trajectory": "I_sol",
           "upper": 685.2006225585938
          },
          {
           "lower": 576.9423889160156,
           "timepoint": 112,
           "trajectory": "I_sol",
           "upper": 720.1910339355469
          },
          {
           "lower": 605.1852844238281,
           "timepoint": 113,
           "trajectory": "I_sol",
           "upper": 756.9687683105469
          },
          {
           "lower": 634.8097259521485,
           "timepoint": 114,
           "trajectory": "I_sol",
           "upper": 795.6227081298828
          },
          {
           "lower": 665.8839324951172,
           "timepoint": 115,
           "trajectory": "I_sol",
           "upper": 836.2493072509766
          },
          {
           "lower": 698.4784057617187,
           "timepoint": 116,
           "trajectory": "I_sol",
           "upper": 878.9488403320313
          },
          {
           "lower": 732.6677001953125,
           "timepoint": 117,
           "trajectory": "I_sol",
           "upper": 923.8271728515625
          },
          {
           "lower": 768.5290588378906,
           "timepoint": 118,
           "trajectory": "I_sol",
           "upper": 970.9951110839844
          },
          {
           "lower": 806.144921875,
           "timepoint": 119,
           "trajectory": "I_sol",
           "upper": 1020.569921875
          },
          {
           "lower": 845.6005645751953,
           "timepoint": 120,
           "trajectory": "I_sol",
           "upper": 1072.6733001708985
          },
          {
           "lower": 886.9870391845703,
           "timepoint": 121,
           "trajectory": "I_sol",
           "upper": 1127.4345306396485
          },
          {
           "lower": 930.3970092773437,
           "timepoint": 122,
           "trajectory": "I_sol",
           "upper": 1184.9882446289062
          },
          {
           "lower": 975.930044555664,
           "timepoint": 123,
           "trajectory": "I_sol",
           "upper": 1245.4783416748046
          },
          {
           "lower": 1023.6894927978516,
           "timepoint": 124,
           "trajectory": "I_sol",
           "upper": 1309.0523895263673
          },
          {
           "lower": 1073.7842712402344,
           "timepoint": 125,
           "trajectory": "I_sol",
           "upper": 1375.8681945800781
          },
          {
           "lower": 1126.328271484375,
           "timepoint": 126,
           "trajectory": "I_sol",
           "upper": 1446.090185546875
          },
          {
           "lower": 1181.4399963378905,
           "timepoint": 127,
           "trajectory": "I_sol",
           "upper": 1519.892401123047
          },
          {
           "lower": 1239.248388671875,
           "timepoint": 128,
           "trajectory": "I_sol",
           "upper": 1597.457177734375
          },
          {
           "lower": 1299.8809204101562,
           "timepoint": 129,
           "trajectory": "I_sol",
           "upper": 1678.9718627929688
          },
          {
           "lower": 1363.47666015625,
           "timepoint": 130,
           "trajectory": "I_sol",
           "upper": 1764.6419921875
          },
          {
           "lower": 1430.1809326171874,
           "timepoint": 131,
           "trajectory": "I_sol",
           "upper": 1854.6777099609376
          },
          {
           "lower": 1500.1440856933593,
           "timepoint": 132,
           "trajectory": "I_sol",
           "upper": 1949.2989074707032
          },
          {
           "lower": 1573.526141357422,
           "timepoint": 133,
           "trajectory": "I_sol",
           "upper": 2048.740093994141
          },
          {
           "lower": 1650.49111328125,
           "timepoint": 134,
           "trajectory": "I_sol",
           "upper": 2153.245703125
          },
          {
           "lower": 1731.216534423828,
           "timepoint": 135,
           "trajectory": "I_sol",
           "upper": 2263.070941162109
          },
          {
           "lower": 1815.8849670410157,
           "timepoint": 136,
           "trajectory": "I_sol",
           "upper": 2378.487469482422
          },
          {
           "lower": 1904.685809326172,
           "timepoint": 137,
           "trajectory": "I_sol",
           "upper": 2499.778179931641
          },
          {
           "lower": 1997.8236206054687,
           "timepoint": 138,
           "trajectory": "I_sol",
           "upper": 2627.241564941406
          },
          {
           "lower": 2095.509069824219,
           "timepoint": 139,
           "trajectory": "I_sol",
           "upper": 2761.188928222656
          },
          {
           "lower": 2197.9581909179688,
           "timepoint": 140,
           "trajectory": "I_sol",
           "upper": 2901.9478149414062
          },
          {
           "lower": 2305.4081909179686,
           "timepoint": 141,
           "trajectory": "I_sol",
           "upper": 3049.8679321289064
          },
          {
           "lower": 2418.0987182617187,
           "timepoint": 142,
           "trajectory": "I_sol",
           "upper": 3205.3058227539063
          },
          {
           "lower": 2536.2906982421873,
           "timepoint": 143,
           "trajectory": "I_sol",
           "upper": 3368.6443603515627
          },
          {
           "lower": 2660.2437133789062,
           "timepoint": 144,
           "trajectory": "I_sol",
           "upper": 3540.2804565429688
          },
          {
           "lower": 2790.240576171875,
           "timepoint": 145,
           "trajectory": "I_sol",
           "upper": 3720.634912109375
          },
          {
           "lower": 2926.5734252929688,
           "timepoint": 146,
           "trajectory": "I_sol",
           "upper": 3910.1475219726562
          },
          {
           "lower": 3069.5505126953126,
           "timepoint": 147,
           "trajectory": "I_sol",
           "upper": 4109.282983398438
          },
          {
           "lower": 3219.4910522460937,
           "timepoint": 148,
           "trajectory": "I_sol",
           "upper": 4318.520910644531
          },
          {
           "lower": 3376.7313842773438,
           "timepoint": 149,
           "trajectory": "I_sol",
           "upper": 4538.376281738281
          },
          {
           "lower": 3541.642541503906,
           "timepoint": 150,
           "trajectory": "I_sol",
           "upper": 4769.372839355468
          },
          {
           "lower": 3714.5719360351563,
           "timepoint": 151,
           "trajectory": "I_sol",
           "upper": 5012.082116699219
          },
          {
           "lower": 3895.9166015625,
           "timepoint": 152,
           "trajectory": "I_sol",
           "upper": 5267.0912109375
          },
          {
           "lower": 4086.0833129882812,
           "timepoint": 153,
           "trajectory": "I_sol",
           "upper": 5535.005310058594
          },
          {
           "lower": 4285.4954833984375,
           "timepoint": 154,
           "trajectory": "I_sol",
           "upper": 5816.4864501953125
          },
          {
           "lower": 4494.598803710937,
           "timepoint": 155,
           "trajectory": "I_sol",
           "upper": 6112.211254882813
          },
          {
           "lower": 4713.876049804688,
           "timepoint": 156,
           "trajectory": "I_sol",
           "upper": 6422.884204101562
          },
          {
           "lower": 4943.79453125,
           "timepoint": 157,
           "trajectory": "I_sol",
           "upper": 6749.2630859375
          },
          {
           "lower": 5184.8734130859375,
           "timepoint": 158,
           "trajectory": "I_sol",
           "upper": 7092.1241455078125
          },
          {
           "lower": 5437.661840820312,
           "timepoint": 159,
           "trajectory": "I_sol",
           "upper": 7452.294702148437
          },
          {
           "lower": 5702.702807617187,
           "timepoint": 160,
           "trajectory": "I_sol",
           "upper": 7830.634594726563
          },
          {
           "lower": 5980.603833007813,
           "timepoint": 161,
           "trajectory": "I_sol",
           "upper": 8228.051928710938
          },
          {
           "lower": 6271.966284179687,
           "timepoint": 162,
           "trajectory": "I_sol",
           "upper": 8645.487329101563
          },
          {
           "lower": 6577.440380859375,
           "timepoint": 163,
           "trajectory": "I_sol",
           "upper": 9083.939501953126
          },
          {
           "lower": 6897.701928710938,
           "timepoint": 164,
           "trajectory": "I_sol",
           "upper": 9544.445043945312
          },
          {
           "lower": 7233.45693359375,
           "timepoint": 165,
           "trajectory": "I_sol",
           "upper": 10028.09580078125
          },
          {
           "lower": 7585.448388671875,
           "timepoint": 166,
           "trajectory": "I_sol",
           "upper": 10536.027197265625
          },
          {
           "lower": 7954.436328125,
           "timepoint": 167,
           "trajectory": "I_sol",
           "upper": 11069.469921875
          },
          {
           "lower": 8341.244921875,
           "timepoint": 168,
           "trajectory": "I_sol",
           "upper": 11629.633984375
          },
          {
           "lower": 8746.716015625,
           "timepoint": 169,
           "trajectory": "I_sol",
           "upper": 12217.854296875
          },
          {
           "lower": 9171.73271484375,
           "timepoint": 170,
           "trajectory": "I_sol",
           "upper": 12835.49384765625
          },
          {
           "lower": 9617.218017578125,
           "timepoint": 171,
           "trajectory": "I_sol",
           "upper": 13483.988037109375
          },
          {
           "lower": 10084.1576171875,
           "timepoint": 172,
           "trajectory": "I_sol",
           "upper": 14164.8736328125
          },
          {
           "lower": 10573.543701171875,
           "timepoint": 173,
           "trajectory": "I_sol",
           "upper": 14879.687744140625
          },
          {
           "lower": 11086.4349609375,
           "timepoint": 174,
           "trajectory": "I_sol",
           "upper": 15630.0884765625
          },
          {
           "lower": 11623.96044921875,
           "timepoint": 175,
           "trajectory": "I_sol",
           "upper": 16417.78759765625
          },
          {
           "lower": 12187.252587890625,
           "timepoint": 176,
           "trajectory": "I_sol",
           "upper": 17244.613623046876
          },
          {
           "lower": 12777.53681640625,
           "timepoint": 177,
           "trajectory": "I_sol",
           "upper": 18112.42216796875
          },
          {
           "lower": 13396.027392578126,
           "timepoint": 178,
           "trajectory": "I_sol",
           "upper": 19023.190380859374
          },
          {
           "lower": 14044.083935546874,
           "timepoint": 179,
           "trajectory": "I_sol",
           "upper": 19978.932666015626
          },
          {
           "lower": 14723.083642578125,
           "timepoint": 180,
           "trajectory": "I_sol",
           "upper": 20981.821630859376
          },
          {
           "lower": 15434.440771484375,
           "timepoint": 181,
           "trajectory": "I_sol",
           "upper": 22034.118798828124
          },
          {
           "lower": 16179.6564453125,
           "timepoint": 182,
           "trajectory": "I_sol",
           "upper": 23138.1013671875
          },
          {
           "lower": 16960.28935546875,
           "timepoint": 183,
           "trajectory": "I_sol",
           "upper": 24296.24384765625
          },
          {
           "lower": 17777.97275390625,
           "timepoint": 184,
           "trajectory": "I_sol",
           "upper": 25511.04873046875
          },
          {
           "lower": 18634.4046875,
           "timepoint": 185,
           "trajectory": "I_sol",
           "upper": 26785.177343749998
          },
          {
           "lower": 19531.33662109375,
           "timepoint": 186,
           "trajectory": "I_sol",
           "upper": 28121.35673828125
          },
          {
           "lower": 20470.60751953125,
           "timepoint": 187,
           "trajectory": "I_sol",
           "upper": 29522.49990234375
          },
          {
           "lower": 21454.19501953125,
           "timepoint": 188,
           "trajectory": "I_sol",
           "upper": 30991.44755859375
          },
          {
           "lower": 22484.009765625,
           "timepoint": 189,
           "trajectory": "I_sol",
           "upper": 32531.419921875
          },
          {
           "lower": 23562.2140625,
           "timepoint": 190,
           "trajectory": "I_sol",
           "upper": 34145.6375
          },
          {
           "lower": 24690.9041015625,
           "timepoint": 191,
           "trajectory": "I_sol",
           "upper": 35837.3654296875
          },
          {
           "lower": 25872.3552734375,
           "timepoint": 192,
           "trajectory": "I_sol",
           "upper": 37610.1095703125
          },
          {
           "lower": 27108.89931640625,
           "timepoint": 193,
           "trajectory": "I_sol",
           "upper": 39467.42685546875
          },
          {
           "lower": 28402.95458984375,
           "timepoint": 194,
           "trajectory": "I_sol",
           "upper": 41413.07861328125
          },
          {
           "lower": 29757.0419921875,
           "timepoint": 195,
           "trajectory": "I_sol",
           "upper": 43450.8759765625
          },
          {
           "lower": 31173.77197265625,
           "timepoint": 196,
           "trajectory": "I_sol",
           "upper": 45584.81982421875
          },
          {
           "lower": 32655.90458984375,
           "timepoint": 197,
           "trajectory": "I_sol",
           "upper": 47819.01142578125
          },
          {
           "lower": 34206.180859375,
           "timepoint": 198,
           "trajectory": "I_sol",
           "upper": 50157.717578125
          },
          {
           "lower": 35827.542578125,
           "timepoint": 199,
           "trajectory": "I_sol",
           "upper": 52605.293359375
          },
          {
           "lower": 37522.99765625,
           "timepoint": 200,
           "trajectory": "I_sol",
           "upper": 55166.26015625
          },
          {
           "lower": 39295.6494140625,
           "timepoint": 201,
           "trajectory": "I_sol",
           "upper": 57845.2294921875
          },
          {
           "lower": 41148.7458984375,
           "timepoint": 202,
           "trajectory": "I_sol",
           "upper": 60647.031445312496
          },
          {
           "lower": 43085.5412109375,
           "timepoint": 203,
           "trajectory": "I_sol",
           "upper": 63576.4705078125
          },
          {
           "lower": 45109.5404296875,
           "timepoint": 204,
           "trajectory": "I_sol",
           "upper": 66638.6197265625
          },
          {
           "lower": 47224.228515625,
           "timepoint": 205,
           "trajectory": "I_sol",
           "upper": 69838.591796875
          },
          {
           "lower": 49433.2802734375,
           "timepoint": 206,
           "trajectory": "I_sol",
           "upper": 73181.5205078125
          },
          {
           "lower": 51740.373046875,
           "timepoint": 207,
           "trajectory": "I_sol",
           "upper": 76672.869140625
          },
          {
           "lower": 54149.3810546875,
           "timepoint": 208,
           "trajectory": "I_sol",
           "upper": 80317.9041015625
          },
          {
           "lower": 56664.3103515625,
           "timepoint": 209,
           "trajectory": "I_sol",
           "upper": 84122.2169921875
          },
          {
           "lower": 59289.09765625,
           "timepoint": 210,
           "trajectory": "I_sol",
           "upper": 88091.41796875
          },
          {
           "lower": 62027.9716796875,
           "timepoint": 211,
           "trajectory": "I_sol",
           "upper": 92230.9697265625
          },
          {
           "lower": 64885.105078125,
           "timepoint": 212,
           "trajectory": "I_sol",
           "upper": 96546.605859375
          },
          {
           "lower": 67864.763671875,
           "timepoint": 213,
           "trajectory": "I_sol",
           "upper": 101043.931640625
          },
          {
           "lower": 70971.396484375,
           "timepoint": 214,
           "trajectory": "I_sol",
           "upper": 105728.658203125
          },
          {
           "lower": 74209.4765625,
           "timepoint": 215,
           "trajectory": "I_sol",
           "upper": 110606.3203125
          },
          {
           "lower": 77583.449609375,
           "timepoint": 216,
           "trajectory": "I_sol",
           "upper": 115682.495703125
          },
          {
           "lower": 81098.022265625,
           "timepoint": 217,
           "trajectory": "I_sol",
           "upper": 120962.938671875
          },
          {
           "lower": 84757.70390625,
           "timepoint": 218,
           "trajectory": "I_sol",
           "upper": 126452.88984375
          },
          {
           "lower": 88567.145703125,
           "timepoint": 219,
           "trajectory": "I_sol",
           "upper": 132157.190234375
          },
          {
           "lower": 92531.08203125,
           "timepoint": 220,
           "trajectory": "I_sol",
           "upper": 138081.27734375
          },
          {
           "lower": 96654.15859375,
           "timepoint": 221,
           "trajectory": "I_sol",
           "upper": 144229.88828125
          },
          {
           "lower": 100941.08828125,
           "timepoint": 222,
           "trajectory": "I_sol",
           "upper": 150607.77109375
          },
          {
           "lower": 105396.3609375,
           "timepoint": 223,
           "trajectory": "I_sol",
           "upper": 157218.9515625
          },
          {
           "lower": 110024.676171875,
           "timepoint": 224,
           "trajectory": "I_sol",
           "upper": 164067.362890625
          },
          {
           "lower": 114830.47578125,
           "timepoint": 225,
           "trajectory": "I_sol",
           "upper": 171156.53984375
          },
          {
           "lower": 119818.281640625,
           "timepoint": 226,
           "trajectory": "I_sol",
           "upper": 178489.429296875
          },
          {
           "lower": 124992.370703125,
           "timepoint": 227,
           "trajectory": "I_sol",
           "upper": 186068.683984375
          },
          {
           "lower": 130356.539453125,
           "timepoint": 228,
           "trajectory": "I_sol",
           "upper": 193895.983984375
          },
          {
           "lower": 135915.1609375,
           "timepoint": 229,
           "trajectory": "I_sol",
           "upper": 201972.7140625
          },
          {
           "lower": 141671.6921875,
           "timepoint": 230,
           "trajectory": "I_sol",
           "upper": 210299.3078125
          },
          {
           "lower": 147629.76484375,
           "timepoint": 231,
           "trajectory": "I_sol",
           "upper": 218875.71953124998
          },
          {
           "lower": 153792.52578125,
           "timepoint": 232,
           "trajectory": "I_sol",
           "upper": 227700.42734375
          },
          {
           "lower": 160162.76640625,
           "timepoint": 233,
           "trajectory": "I_sol",
           "upper": 236771.90546875
          },
          {
           "lower": 166743.08515625,
           "timepoint": 234,
           "trajectory": "I_sol",
           "upper": 246086.93046874998
          },
          {
           "lower": 173535.39765625,
           "timepoint": 235,
           "trajectory": "I_sol",
           "upper": 255641.11796874998
          },
          {
           "lower": 180541.48984375,
           "timepoint": 236,
           "trajectory": "I_sol",
           "upper": 265429.58828125
          },
          {
           "lower": 187762.46875,
           "timepoint": 237,
           "trajectory": "I_sol",
           "upper": 275446.09375
          },
          {
           "lower": 195198.76171875,
           "timepoint": 238,
           "trajectory": "I_sol",
           "upper": 285681.87890625
          },
          {
           "lower": 202850.67890625,
           "timepoint": 239,
           "trajectory": "I_sol",
           "upper": 296129.05546875
          },
          {
           "lower": 210716.55546875,
           "timepoint": 240,
           "trajectory": "I_sol",
           "upper": 306776.52265625
          },
          {
           "lower": 218795.9390625,
           "timepoint": 241,
           "trajectory": "I_sol",
           "upper": 317612.5921875
          },
          {
           "lower": 227086.1671875,
           "timepoint": 242,
           "trajectory": "I_sol",
           "upper": 328623.8015625
          },
          {
           "lower": 235584.54296875,
           "timepoint": 243,
           "trajectory": "I_sol",
           "upper": 339795.47265625
          },
          {
           "lower": 244286.82890625,
           "timepoint": 244,
           "trajectory": "I_sol",
           "upper": 351110.09296875
          },
          {
           "lower": 253188.3640625,
           "timepoint": 245,
           "trajectory": "I_sol",
           "upper": 362550.5421875
          },
          {
           "lower": 262283.34921875,
           "timepoint": 246,
           "trajectory": "I_sol",
           "upper": 374096.91640625
          },
          {
           "lower": 271565.259375,
           "timepoint": 247,
           "trajectory": "I_sol",
           "upper": 385727.615625
          },
          {
           "lower": 281025.0203125,
           "timepoint": 248,
           "trajectory": "I_sol",
           "upper": 397420.1359375
          },
          {
           "lower": 290655.040625,
           "timepoint": 249,
           "trajectory": "I_sol",
           "upper": 409149.771875
          },
          {
           "lower": 300444.9546875,
           "timepoint": 250,
           "trajectory": "I_sol",
           "upper": 420891.1390625
          },
          {
           "lower": 310382.0203125,
           "timepoint": 251,
           "trajectory": "I_sol",
           "upper": 432616.4484375
          },
          {
           "lower": 320455.340625,
           "timepoint": 252,
           "trajectory": "I_sol",
           "upper": 444296.971875
          },
          {
           "lower": 330650.1359375,
           "timepoint": 253,
           "trajectory": "I_sol",
           "upper": 455903.8953125
          },
          {
           "lower": 340952.2578125,
           "timepoint": 254,
           "trajectory": "I_sol",
           "upper": 467405.2109375
          },
          {
           "lower": 351344.5515625,
           "timepoint": 255,
           "trajectory": "I_sol",
           "upper": 478769.1671875
          },
          {
           "lower": 361810.0546875,
           "timepoint": 256,
           "trajectory": "I_sol",
           "upper": 489963.7265625
          },
          {
           "lower": 372329.2234375,
           "timepoint": 257,
           "trajectory": "I_sol",
           "upper": 500955.0578125
          },
          {
           "lower": 382882.871875,
           "timepoint": 258,
           "trajectory": "I_sol",
           "upper": 511708.815625
          },
          {
           "lower": 393449.7359375,
           "timepoint": 259,
           "trajectory": "I_sol",
           "upper": 522192.7953125
          },
          {
           "lower": 404007.2296875,
           "timepoint": 260,
           "trajectory": "I_sol",
           "upper": 532371.0515625
          },
          {
           "lower": 414532.496875,
           "timepoint": 261,
           "trajectory": "I_sol",
           "upper": 542209.815625
          },
          {
           "lower": 425000.6203125,
           "timepoint": 262,
           "trajectory": "I_sol",
           "upper": 551678.3484375
          },
          {
           "lower": 435387.20625,
           "timepoint": 263,
           "trajectory": "I_sol",
           "upper": 560740.66875
          },
          {
           "lower": 445666.2078125,
           "timepoint": 264,
           "trajectory": "I_sol",
           "upper": 569366.5109375
          },
          {
           "lower": 455809.7875,
           "timepoint": 265,
           "trajectory": "I_sol",
           "upper": 577525.3375
          },
          {
           "lower": 465792.0359375,
           "timepoint": 266,
           "trajectory": "I_sol",
           "upper": 585187.2453125
          },
          {
           "lower": 475584.921875,
           "timepoint": 267,
           "trajectory": "I_sol",
           "upper": 592324.765625
          },
          {
           "lower": 485160.55625,
           "timepoint": 268,
           "trajectory": "I_sol",
           "upper": 598913.69375
          },
          {
           "lower": 494490.9484375,
           "timepoint": 269,
           "trajectory": "I_sol",
           "upper": 604928.4578125
          },
          {
           "lower": 503547.353125,
           "timepoint": 270,
           "trajectory": "I_sol",
           "upper": 610348.834375
          },
          {
           "lower": 512304,
           "timepoint": 271,
           "trajectory": "I_sol",
           "upper": 615154.875
          },
          {
           "lower": 520731.734375,
           "timepoint": 272,
           "trajectory": "I_sol",
           "upper": 619330.953125
          },
          {
           "lower": 528804.0359375,
           "timepoint": 273,
           "trajectory": "I_sol",
           "upper": 622863.1203125
          },
          {
           "lower": 536495.425,
           "timepoint": 274,
           "trajectory": "I_sol",
           "upper": 625741.45
          },
          {
           "lower": 543780.278125,
           "timepoint": 275,
           "trajectory": "I_sol",
           "upper": 627956.659375
          },
          {
           "lower": 550634.703125,
           "timepoint": 276,
           "trajectory": "I_sol",
           "upper": 629505.359375
          },
          {
           "lower": 557036.646875,
           "timepoint": 277,
           "trajectory": "I_sol",
           "upper": 630384.790625
          },
          {
           "lower": 562965,
           "timepoint": 278,
           "trajectory": "I_sol",
           "upper": 630595.5
          },
          {
           "lower": 568397.534375,
           "timepoint": 279,
           "trajectory": "I_sol",
           "upper": 630142.653125
          },
          {
           "lower": 573319.571875,
           "timepoint": 280,
           "trajectory": "I_sol",
           "upper": 629031.990625
          },
          {
           "lower": 577712.771875,
           "timepoint": 281,
           "trajectory": "I_sol",
           "upper": 627273.915625
          },
          {
           "lower": 581566.86875,
           "timepoint": 282,
           "trajectory": "I_sol",
           "upper": 624880.38125
          },
          {
           "lower": 584866.371875,
           "timepoint": 283,
           "trajectory": "I_sol",
           "upper": 621866.440625
          },
          {
           "lower": 587603,
           "timepoint": 284,
           "trajectory": "I_sol",
           "upper": 618249.125
          },
          {
           "lower": 589769.390625,
           "timepoint": 285,
           "trajectory": "I_sol",
           "upper": 614048.296875
          },
          {
           "lower": 591361.459375,
           "timepoint": 286,
           "trajectory": "I_sol",
           "upper": 609285.353125
          },
          {
           "lower": 592374.015625,
           "timepoint": 287,
           "trajectory": "I_sol",
           "upper": 603984.296875
          },
          {
           "lower": 592808.215625,
           "timepoint": 288,
           "trajectory": "I_sol",
           "upper": 598167.096875
          },
          {
           "lower": 591863.434375,
           "timepoint": 289,
           "trajectory": "I_sol",
           "upper": 592668.878125
          },
          {
           "lower": 585099.640625,
           "timepoint": 290,
           "trajectory": "I_sol",
           "upper": 591956.796875
          },
          {
           "lower": 577904.834375,
           "timepoint": 291,
           "trajectory": "I_sol",
           "upper": 590679.603125
          },
          {
           "lower": 570307.68125,
           "timepoint": 292,
           "trajectory": "I_sol",
           "upper": 588846.44375
          },
          {
           "lower": 562337.878125,
           "timepoint": 293,
           "trajectory": "I_sol",
           "upper": 586468.059375
          },
          {
           "lower": 554026.45625,
           "timepoint": 294,
           "trajectory": "I_sol",
           "upper": 583558.04375
          },
          {
           "lower": 545401.934375,
           "timepoint": 295,
           "trajectory": "I_sol",
           "upper": 580129.503125
          },
          {
           "lower": 536496.453125,
           "timepoint": 296,
           "trajectory": "I_sol",
           "upper": 576201.359375
          },
          {
           "lower": 527339.34375,
           "timepoint": 297,
           "trajectory": "I_sol",
           "upper": 571788.65625
          },
          {
           "lower": 517959.7140625,
           "timepoint": 298,
           "trajectory": "I_sol",
           "upper": 566912.8796875
          },
          {
           "lower": 508387.4046875,
           "timepoint": 299,
           "trajectory": "I_sol",
           "upper": 561596.5015625
          },
          {
           "lower": 498649.990625,
           "timepoint": 300,
           "trajectory": "I_sol",
           "upper": 555858.321875
          },
          {
           "lower": 488775.88125,
           "timepoint": 301,
           "trajectory": "I_sol",
           "upper": 549723.99375
          },
          {
           "lower": 478791.33125,
           "timepoint": 302,
           "trajectory": "I_sol",
           "upper": 543214.79375
          },
          {
           "lower": 468722.0125,
           "timepoint": 303,
           "trajectory": "I_sol",
           "upper": 536357.2375
          },
          {
           "lower": 458592.4453125,
           "timepoint": 304,
           "trajectory": "I_sol",
           "upper": 529174.5234375
          },
          {
           "lower": 448426.5265625,
           "timepoint": 305,
           "trajectory": "I_sol",
           "upper": 521692.0671875
          },
          {
           "lower": 438246.0875,
           "timepoint": 306,
           "trajectory": "I_sol",
           "upper": 513935.975
          },
          {
           "lower": 428072.3671875,
           "timepoint": 307,
           "trajectory": "I_sol",
           "upper": 505930.6640625
          },
          {
           "lower": 417925.03125,
           "timepoint": 308,
           "trajectory": "I_sol",
           "upper": 497701.03125
          },
          {
           "lower": 407822.9625,
           "timepoint": 309,
           "trajectory": "I_sol",
           "upper": 489272.85
          },
          {
           "lower": 397782.5828125,
           "timepoint": 310,
           "trajectory": "I_sol",
           "upper": 480669.0109375
          },
          {
           "lower": 387820.5765625,
           "timepoint": 311,
           "trajectory": "I_sol",
           "upper": 471914.0171875
          },
          {
           "lower": 377951.809375,
           "timepoint": 312,
           "trajectory": "I_sol",
           "upper": 463033.253125
          },
          {
           "lower": 368188.8359375,
           "timepoint": 313,
           "trajectory": "I_sol",
           "upper": 454046.4453125
          },
          {
           "lower": 358544.384375,
           "timepoint": 314,
           "trajectory": "I_sol",
           "upper": 444977.178125
          },
          {
           "lower": 349030.5453125,
           "timepoint": 315,
           "trajectory": "I_sol",
           "upper": 435844.7984375
          },
          {
           "lower": 339656.0140625,
           "timepoint": 316,
           "trajectory": "I_sol",
           "upper": 426671.0796875
          },
          {
           "lower": 330429.69375,
           "timepoint": 317,
           "trajectory": "I_sol",
           "upper": 417474.43125
          },
          {
           "lower": 321360.6125,
           "timepoint": 318,
           "trajectory": "I_sol",
           "upper": 408273.3875
          },
          {
           "lower": 312455.1734375,
           "timepoint": 319,
           "trajectory": "I_sol",
           "upper": 399084.9828125
          },
          {
           "lower": 303717.1875,
           "timepoint": 320,
           "trajectory": "I_sol",
           "upper": 389925.375
          },
          {
           "lower": 295154.3390625,
           "timepoint": 321,
           "trajectory": "I_sol",
           "upper": 380810.0671875
          },
          {
           "lower": 286769.8234375,
           "timepoint": 322,
           "trajectory": "I_sol",
           "upper": 371752.5203125
          },
          {
           "lower": 278566.55,
           "timepoint": 323,
           "trajectory": "I_sol",
           "upper": 362766.3875
          },
          {
           "lower": 270547.4890625,
           "timepoint": 324,
           "trajectory": "I_sol",
           "upper": 353863.6671875
          },
          {
           "lower": 262714.9,
           "timepoint": 325,
           "trajectory": "I_sol",
           "upper": 345055.7875
          },
          {
           "lower": 255069.68046875,
           "timepoint": 326,
           "trajectory": "I_sol",
           "upper": 336352.77265625
          },
          {
           "lower": 247612.08046875,
           "timepoint": 327,
           "trajectory": "I_sol",
           "upper": 327762.74765625
          },
          {
           "lower": 240342.7375,
           "timepoint": 328,
           "trajectory": "I_sol",
           "upper": 319295.575
          },
          {
           "lower": 233261.40625,
           "timepoint": 329,
           "trajectory": "I_sol",
           "upper": 310957.84375
          },
          {
           "lower": 226366.67578125,
           "timepoint": 330,
           "trajectory": "I_sol",
           "upper": 302756.49609375
          },
          {
           "lower": 219658.31875,
           "timepoint": 331,
           "trajectory": "I_sol",
           "upper": 294697.05625
          },
          {
           "lower": 213133.68515625,
           "timepoint": 332,
           "trajectory": "I_sol",
           "upper": 286784.29921875
          },
          {
           "lower": 206791.3046875,
           "timepoint": 333,
           "trajectory": "I_sol",
           "upper": 279022.9140625
          },
          {
           "lower": 200628.92890625,
           "timepoint": 334,
           "trajectory": "I_sol",
           "upper": 271416.30546875
          },
          {
           "lower": 194643.75078125,
           "timepoint": 335,
           "trajectory": "I_sol",
           "upper": 263967.10859375
          },
          {
           "lower": 188833.40234375,
           "timepoint": 336,
           "trajectory": "I_sol",
           "upper": 256677.86328125
          },
          {
           "lower": 183194.8078125,
           "timepoint": 337,
           "trajectory": "I_sol",
           "upper": 249550.59843749998
          },
          {
           "lower": 177724.8609375,
           "timepoint": 338,
           "trajectory": "I_sol",
           "upper": 242586.2015625
          },
          {
           "lower": 172420.35390625,
           "timepoint": 339,
           "trajectory": "I_sol",
           "upper": 235785.03671875
          },
          {
           "lower": 167277.6859375,
           "timepoint": 340,
           "trajectory": "I_sol",
           "upper": 229147.5953125
          },
          {
           "lower": 162293.67734375,
           "timepoint": 341,
           "trajectory": "I_sol",
           "upper": 222674.49453125
          },
          {
           "lower": 157464.6296875,
           "timepoint": 342,
           "trajectory": "I_sol",
           "upper": 216364.0890625
          },
          {
           "lower": 152786.78984375,
           "timepoint": 343,
           "trajectory": "I_sol",
           "upper": 210216.22578125
          },
          {
           "lower": 148256.528125,
           "timepoint": 344,
           "trajectory": "I_sol",
           "upper": 204229.440625
          },
          {
           "lower": 143870.515625,
           "timepoint": 345,
           "trajectory": "I_sol",
           "upper": 198401.796875
          },
          {
           "lower": 139624.584375,
           "timepoint": 346,
           "trajectory": "I_sol",
           "upper": 192732.009375
          },
          {
           "lower": 135515.1390625,
           "timepoint": 347,
           "trajectory": "I_sol",
           "upper": 187218.4234375
          },
          {
           "lower": 131538.48359375,
           "timepoint": 348,
           "trajectory": "I_sol",
           "upper": 181858.31328125
          },
          {
           "lower": 127690.925390625,
           "timepoint": 349,
           "trajectory": "I_sol",
           "upper": 176649.441796875
          },
          {
           "lower": 123968.77734375,
           "timepoint": 350,
           "trajectory": "I_sol",
           "upper": 171589.39453125
          },
          {
           "lower": 120368.372265625,
           "timepoint": 351,
           "trajectory": "I_sol",
           "upper": 166675.432421875
          },
          {
           "lower": 116886.438671875,
           "timepoint": 352,
           "trajectory": "I_sol",
           "upper": 161904.881640625
          },
          {
           "lower": 113519.1375,
           "timepoint": 353,
           "trajectory": "I_sol",
           "upper": 157274.83125
          },
          {
           "lower": 110262.842578125,
           "timepoint": 354,
           "trajectory": "I_sol",
           "upper": 152782.337109375
          },
          {
           "lower": 107114.5546875,
           "timepoint": 355,
           "trajectory": "I_sol",
           "upper": 148424.4140625
          },
          {
           "lower": 104070.424609375,
           "timepoint": 356,
           "trajectory": "I_sol",
           "upper": 144197.958203125
          },
          {
           "lower": 101127.569921875,
           "timepoint": 357,
           "trajectory": "I_sol",
           "upper": 140100.094140625
          },
          {
           "lower": 98282.643359375,
           "timepoint": 358,
           "trajectory": "I_sol",
           "upper": 136127.551953125
          },
          {
           "lower": 95532.50546875,
           "timepoint": 359,
           "trajectory": "I_sol",
           "upper": 132277.07265625
          },
          {
           "lower": 92873.990625,
           "timepoint": 360,
           "trajectory": "I_sol",
           "upper": 128545.74375
          },
          {
           "lower": 90304.21015625,
           "timepoint": 361,
           "trajectory": "I_sol",
           "upper": 124930.43046875
          },
          {
           "lower": 87820.2046875,
           "timepoint": 362,
           "trajectory": "I_sol",
           "upper": 121427.92031249999
          },
          {
           "lower": 85419.132421875,
           "timepoint": 363,
           "trajectory": "I_sol",
           "upper": 118035.26601562499
          },
          {
           "lower": 83098.19140625,
           "timepoint": 364,
           "trajectory": "I_sol",
           "upper": 114749.29296875
          },
          {
           "lower": 80854.664453125,
           "timepoint": 365,
           "trajectory": "I_sol",
           "upper": 111567.030859375
          },
          {
           "lower": 78686.144140625,
           "timepoint": 366,
           "trajectory": "I_sol",
           "upper": 108485.629296875
          },
          {
           "lower": 76589.873046875,
           "timepoint": 367,
           "trajectory": "I_sol",
           "upper": 105501.916015625
          },
          {
           "lower": 74563.433984375,
           "timepoint": 368,
           "trajectory": "I_sol",
           "upper": 102613.276953125
          },
          {
           "lower": 72604.4890625,
           "timepoint": 369,
           "trajectory": "I_sol",
           "upper": 99816.6359375
          },
          {
           "lower": 70710.672265625,
           "timepoint": 370,
           "trajectory": "I_sol",
           "upper": 97109.366796875
          },
          {
           "lower": 68879.693359375,
           "timepoint": 371,
           "trajectory": "I_sol",
           "upper": 94488.595703125
          },
          {
           "lower": 67109.589453125,
           "timepoint": 372,
           "trajectory": "I_sol",
           "upper": 91951.621484375
          },
          {
           "lower": 65397.9876953125,
           "timepoint": 373,
           "trajectory": "I_sol",
           "upper": 89496.3208984375
          },
          {
           "lower": 63743.1873046875,
           "timepoint": 374,
           "trajectory": "I_sol",
           "upper": 87119.6291015625
          },
          {
           "lower": 62142.9337890625,
           "timepoint": 375,
           "trajectory": "I_sol",
           "upper": 84819.1404296875
          },
          {
           "lower": 60595.42421875,
           "timepoint": 376,
           "trajectory": "I_sol",
           "upper": 82592.59140625
          },
          {
           "lower": 59098.80703125,
           "timepoint": 377,
           "trajectory": "I_sol",
           "upper": 80437.42734375
          },
          {
           "lower": 57651.333203125,
           "timepoint": 378,
           "trajectory": "I_sol",
           "upper": 78351.565234375
          },
          {
           "lower": 56251.299609375,
           "timepoint": 379,
           "trajectory": "I_sol",
           "upper": 76332.458203125
          },
          {
           "lower": 54897.02109375,
           "timepoint": 380,
           "trajectory": "I_sol",
           "upper": 74378.18203125
          },
          {
           "lower": 53586.9408203125,
           "timepoint": 381,
           "trajectory": "I_sol",
           "upper": 72486.6490234375
          },
          {
           "lower": 52319.480859375,
           "timepoint": 382,
           "trajectory": "I_sol",
           "upper": 70655.651953125
          },
          {
           "lower": 51093.19921875,
           "timepoint": 383,
           "trajectory": "I_sol",
           "upper": 68883.31640625
          },
          {
           "lower": 49906.6201171875,
           "timepoint": 384,
           "trajectory": "I_sol",
           "upper": 67167.7587890625
          },
          {
           "lower": 48758.384375,
           "timepoint": 385,
           "trajectory": "I_sol",
           "upper": 65506.709375
          },
          {
           "lower": 47647.2099609375,
           "timepoint": 386,
           "trajectory": "I_sol",
           "upper": 63898.8720703125
          },
          {
           "lower": 46571.6447265625,
           "timepoint": 387,
           "trajectory": "I_sol",
           "upper": 62342.0388671875
          },
          {
           "lower": 45530.6033203125,
           "timepoint": 388,
           "trajectory": "I_sol",
           "upper": 60834.7833984375
          },
          {
           "lower": 44522.889453125,
           "timepoint": 389,
           "trajectory": "I_sol",
           "upper": 59375.469921875
          },
          {
           "lower": 43547.294140625,
           "timepoint": 390,
           "trajectory": "I_sol",
           "upper": 57962.291796875
          },
          {
           "lower": 42602.7265625,
           "timepoint": 391,
           "trajectory": "I_sol",
           "upper": 56594
          },
          {
           "lower": 41688.126171875,
           "timepoint": 392,
           "trajectory": "I_sol",
           "upper": 55268.866015625
          },
          {
           "lower": 40802.453125,
           "timepoint": 393,
           "trajectory": "I_sol",
           "upper": 53985.4140625
          },
          {
           "lower": 39944.742578125,
           "timepoint": 394,
           "trajectory": "I_sol",
           "upper": 52742.398046875
          },
          {
           "lower": 39113.96875,
           "timepoint": 395,
           "trajectory": "I_sol",
           "upper": 51538.328125
          },
          {
           "lower": 38309.3400390625,
           "timepoint": 396,
           "trajectory": "I_sol",
           "upper": 50372.0154296875
          },
          {
           "lower": 37529.780078125,
           "timepoint": 397,
           "trajectory": "I_sol",
           "upper": 49242.133984375
          },
          {
           "lower": 36774.603125,
           "timepoint": 398,
           "trajectory": "I_sol",
           "upper": 48147.4671875
          },
          {
           "lower": 36042.894140625,
           "timepoint": 399,
           "trajectory": "I_sol",
           "upper": 47086.871484375
          },
          {
           "lower": 35333.8666015625,
           "timepoint": 400,
           "trajectory": "I_sol",
           "upper": 46059.1841796875
          },
          {
           "lower": 34646.8951171875,
           "timepoint": 401,
           "trajectory": "I_sol",
           "upper": 45063.2806640625
          },
          {
           "lower": 33981.141796875,
           "timepoint": 402,
           "trajectory": "I_sol",
           "upper": 44098.147265625
          },
          {
           "lower": 33335.74375,
           "timepoint": 403,
           "trajectory": "I_sol",
           "upper": 43162.7171875
          },
          {
           "lower": 32710.23466796875,
           "timepoint": 404,
           "trajectory": "I_sol",
           "upper": 42256.04072265625
          },
          {
           "lower": 32103.8919921875,
           "timepoint": 405,
           "trajectory": "I_sol",
           "upper": 41377.1509765625
          },
          {
           "lower": 31516.0751953125,
           "timepoint": 406,
           "trajectory": "I_sol",
           "upper": 40525.0927734375
          },
          {
           "lower": 30946.19873046875,
           "timepoint": 407,
           "trajectory": "I_sol",
           "upper": 39699.07666015625
          },
          {
           "lower": 30393.6234375,
           "timepoint": 408,
           "trajectory": "I_sol",
           "upper": 38898.1734375
          },
          {
           "lower": 29857.83623046875,
           "timepoint": 409,
           "trajectory": "I_sol",
           "upper": 38121.49384765625
          },
          {
           "lower": 29338.2544921875,
           "timepoint": 410,
           "trajectory": "I_sol",
           "upper": 37368.3744140625
          },
          {
           "lower": 28834.37958984375,
           "timepoint": 411,
           "trajectory": "I_sol",
           "upper": 36637.91923828125
          },
          {
           "lower": 28345.70322265625,
           "timepoint": 412,
           "trajectory": "I_sol",
           "upper": 35929.50576171875
          },
          {
           "lower": 27871.71708984375,
           "timepoint": 413,
           "trajectory": "I_sol",
           "upper": 35242.30048828125
          },
          {
           "lower": 27411.991796875,
           "timepoint": 414,
           "trajectory": "I_sol",
           "upper": 34575.703515625
          },
          {
           "lower": 26966.0318359375,
           "timepoint": 415,
           "trajectory": "I_sol",
           "upper": 33929.0189453125
          },
          {
           "lower": 26533.44296875,
           "timepoint": 416,
           "trajectory": "I_sol",
           "upper": 33301.54140625
          },
          {
           "lower": 26113.7912109375,
           "timepoint": 417,
           "trajectory": "I_sol",
           "upper": 32692.8298828125
          },
          {
           "lower": 25706.63662109375,
           "timepoint": 418,
           "trajectory": "I_sol",
           "upper": 32102.11923828125
          },
          {
           "lower": 25311.60986328125,
           "timepoint": 419,
           "trajectory": "I_sol",
           "upper": 31528.86083984375
          },
          {
           "lower": 24928.39560546875,
           "timepoint": 420,
           "trajectory": "I_sol",
           "upper": 30972.54775390625
          },
          {
           "lower": 24556.56474609375,
           "timepoint": 421,
           "trajectory": "I_sol",
           "upper": 30432.58564453125
          },
          {
           "lower": 24195.77646484375,
           "timepoint": 422,
           "trajectory": "I_sol",
           "upper": 29908.51064453125
          },
          {
           "lower": 23845.70244140625,
           "timepoint": 423,
           "trajectory": "I_sol",
           "upper": 29399.77998046875
          },
          {
           "lower": 23506.04228515625,
           "timepoint": 424,
           "trajectory": "I_sol",
           "upper": 28905.92451171875
          },
          {
           "lower": 23176.450390625,
           "timepoint": 425,
           "trajectory": "I_sol",
           "upper": 28426.530078125
          },
          {
           "lower": 22856.6537109375,
           "timepoint": 426,
           "trajectory": "I_sol",
           "upper": 27961.0845703125
          },
          {
           "lower": 22546.358984375,
           "timepoint": 427,
           "trajectory": "I_sol",
           "upper": 27509.183984375
          },
          {
           "lower": 22245.244921875,
           "timepoint": 428,
           "trajectory": "I_sol",
           "upper": 27070.383984375
          },
          {
           "lower": 21953.07890625,
           "timepoint": 429,
           "trajectory": "I_sol",
           "upper": 26644.34296875
          },
          {
           "lower": 21669.63564453125,
           "timepoint": 430,
           "trajectory": "I_sol",
           "upper": 26230.61240234375
          },
          {
           "lower": 21394.6212890625,
           "timepoint": 431,
           "trajectory": "I_sol",
           "upper": 25828.8474609375
          },
          {
           "lower": 21127.77548828125,
           "timepoint": 432,
           "trajectory": "I_sol",
           "upper": 25438.67177734375
          },
          {
           "lower": 20868.905078125,
           "timepoint": 433,
           "trajectory": "I_sol",
           "upper": 25059.755078125
          },
          {
           "lower": 20617.78291015625,
           "timepoint": 434,
           "trajectory": "I_sol",
           "upper": 24691.75419921875
          },
          {
           "lower": 20374.17490234375,
           "timepoint": 435,
           "trajectory": "I_sol",
           "upper": 24334.33486328125
          },
          {
           "lower": 20137.88984375,
           "timepoint": 436,
           "trajectory": "I_sol",
           "upper": 23987.20390625
          },
          {
           "lower": 19908.71416015625,
           "timepoint": 437,
           "trajectory": "I_sol",
           "upper": 23650.02998046875
          },
          {
           "lower": 19686.4748046875,
           "timepoint": 438,
           "trajectory": "I_sol",
           "upper": 23322.5486328125
          },
          {
           "lower": 19470.94951171875,
           "timepoint": 439,
           "trajectory": "I_sol",
           "upper": 23004.47431640625
          },
          {
           "lower": 19261.9810546875,
           "timepoint": 440,
           "trajectory": "I_sol",
           "upper": 22695.5267578125
          },
          {
           "lower": 19059.4119140625,
           "timepoint": 441,
           "trajectory": "I_sol",
           "upper": 22395.4552734375
          },
          {
           "lower": 18863.0298828125,
           "timepoint": 442,
           "trajectory": "I_sol",
           "upper": 22103.9896484375
          },
          {
           "lower": 18672.7404296875,
           "timepoint": 443,
           "trajectory": "I_sol",
           "upper": 21820.9158203125
          },
          {
           "lower": 18488.32421875,
           "timepoint": 444,
           "trajectory": "I_sol",
           "upper": 21545.96875
          },
          {
           "lower": 18309.673828125,
           "timepoint": 445,
           "trajectory": "I_sol",
           "upper": 21278.935546875
          },
          {
           "lower": 18136.60732421875,
           "timepoint": 446,
           "trajectory": "I_sol",
           "upper": 21019.59384765625
          },
          {
           "lower": 17969.0298828125,
           "timepoint": 447,
           "trajectory": "I_sol",
           "upper": 20767.7240234375
          },
          {
           "lower": 17806.7712890625,
           "timepoint": 448,
           "trajectory": "I_sol",
           "upper": 20523.1505859375
          },
          {
           "lower": 17649.72119140625,
           "timepoint": 449,
           "trajectory": "I_sol",
           "upper": 20285.67529296875
          },
          {
           "lower": 17497.74482421875,
           "timepoint": 450,
           "trajectory": "I_sol",
           "upper": 20055.02275390625
          },
          {
           "lower": 17350.741796875,
           "timepoint": 451,
           "trajectory": "I_sol",
           "upper": 19831.078515625
          },
          {
           "lower": 17208.54736328125,
           "timepoint": 452,
           "trajectory": "I_sol",
           "upper": 19613.73583984375
          },
          {
           "lower": 17071.10673828125,
           "timepoint": 453,
           "trajectory": "I_sol",
           "upper": 19402.69208984375
          },
          {
           "lower": 16938.27744140625,
           "timepoint": 454,
           "trajectory": "I_sol",
           "upper": 19197.87685546875
          },
          {
           "lower": 16809.96455078125,
           "timepoint": 455,
           "trajectory": "I_sol",
           "upper": 18999.06865234375
          },
          {
           "lower": 16686.0935546875,
           "timepoint": 456,
           "trajectory": "I_sol",
           "upper": 18806.1525390625
          },
          {
           "lower": 16566.54287109375,
           "timepoint": 457,
           "trajectory": "I_sol",
           "upper": 18618.96298828125
          },
          {
           "lower": 16451.2271484375,
           "timepoint": 458,
           "trajectory": "I_sol",
           "upper": 18437.3548828125
          },
          {
           "lower": 16340.027001953125,
           "timepoint": 459,
           "trajectory": "I_sol",
           "upper": 18261.186865234376
          },
          {
           "lower": 16232.89443359375,
           "timepoint": 460,
           "trajectory": "I_sol",
           "upper": 18090.30283203125
          },
          {
           "lower": 16129.7560546875,
           "timepoint": 461,
           "trajectory": "I_sol",
           "upper": 17924.6970703125
          },
          {
           "lower": 16030.504541015625,
           "timepoint": 462,
           "trajectory": "I_sol",
           "upper": 17764.123388671876
          },
          {
           "lower": 15935.069287109374,
           "timepoint": 463,
           "trajectory": "I_sol",
           "upper": 17608.435595703126
          },
          {
           "lower": 15843.37939453125,
           "timepoint": 464,
           "trajectory": "I_sol",
           "upper": 17457.58740234375
          },
          {
           "lower": 15755.367626953124,
           "timepoint": 465,
           "trajectory": "I_sol",
           "upper": 17311.479052734376
          },
          {
           "lower": 15670.96474609375,
           "timepoint": 466,
           "trajectory": "I_sol",
           "upper": 17169.95517578125
          },
          {
           "lower": 15590.09404296875,
           "timepoint": 467,
           "trajectory": "I_sol",
           "upper": 17032.94697265625
          },
          {
           "lower": 15512.730322265625,
           "timepoint": 468,
           "trajectory": "I_sol",
           "upper": 16900.327294921874
          },
          {
           "lower": 15438.77578125,
           "timepoint": 469,
           "trajectory": "I_sol",
           "upper": 16772.01328125
          },
          {
           "lower": 15368.177685546874,
           "timepoint": 470,
           "trajectory": "I_sol",
           "upper": 16647.917041015626
          },
          {
           "lower": 15300.89189453125,
           "timepoint": 471,
           "trajectory": "I_sol",
           "upper": 16527.93818359375
          },
          {
           "lower": 15236.8548828125,
           "timepoint": 472,
           "trajectory": "I_sol",
           "upper": 16411.9771484375
          },
          {
           "lower": 15176.040625,
           "timepoint": 473,
           "trajectory": "I_sol",
           "upper": 16299.961328125
          },
          {
           "lower": 15118.38251953125,
           "timepoint": 474,
           "trajectory": "I_sol",
           "upper": 16191.83818359375
          },
          {
           "lower": 15063.85517578125,
           "timepoint": 475,
           "trajectory": "I_sol",
           "upper": 16087.49443359375
          },
          {
           "lower": 15012.3337890625,
           "timepoint": 476,
           "trajectory": "I_sol",
           "upper": 15986.8615234375
          },
          {
           "lower": 14963.868310546875,
           "timepoint": 477,
           "trajectory": "I_sol",
           "upper": 15889.868994140625
          },
          {
           "lower": 14918.39248046875,
           "timepoint": 478,
           "trajectory": "I_sol",
           "upper": 15796.45322265625
          },
          {
           "lower": 14875.859814453124,
           "timepoint": 479,
           "trajectory": "I_sol",
           "upper": 15706.539599609376
          },
          {
           "lower": 14836.240380859375,
           "timepoint": 480,
           "trajectory": "I_sol",
           "upper": 15620.069189453125
          },
          {
           "lower": 14799.495556640624,
           "timepoint": 481,
           "trajectory": "I_sol",
           "upper": 15536.976123046876
          },
          {
           "lower": 14765.595556640625,
           "timepoint": 482,
           "trajectory": "I_sol",
           "upper": 15457.204248046875
          },
          {
           "lower": 14734.515673828126,
           "timepoint": 483,
           "trajectory": "I_sol",
           "upper": 15380.706005859374
          },
          {
           "lower": 14706.194287109374,
           "timepoint": 484,
           "trajectory": "I_sol",
           "upper": 15307.382861328126
          },
          {
           "lower": 14680.636572265625,
           "timepoint": 485,
           "trajectory": "I_sol",
           "upper": 15237.227685546875
          },
          {
           "lower": 14657.799560546875,
           "timepoint": 486,
           "trajectory": "I_sol",
           "upper": 15170.179931640625
          },
          {
           "lower": 14637.698876953125,
           "timepoint": 487,
           "trajectory": "I_sol",
           "upper": 15106.184912109375
          },
          {
           "lower": 14620.25634765625,
           "timepoint": 488,
           "trajectory": "I_sol",
           "upper": 15045.19873046875
          },
          {
           "lower": 14605.4623046875,
           "timepoint": 489,
           "trajectory": "I_sol",
           "upper": 14987.1607421875
          },
          {
           "lower": 14593.347021484375,
           "timepoint": 490,
           "trajectory": "I_sol",
           "upper": 14932.048486328125
          },
          {
           "lower": 14583.835009765626,
           "timepoint": 491,
           "trajectory": "I_sol",
           "upper": 14879.816357421874
          },
          {
           "lower": 14576.933154296876,
           "timepoint": 492,
           "trajectory": "I_sol",
           "upper": 14830.419384765624
          },
          {
           "lower": 14572.6015625,
           "timepoint": 493,
           "trajectory": "I_sol",
           "upper": 14783.8203125
          },
          {
           "lower": 14570.850390625,
           "timepoint": 494,
           "trajectory": "I_sol",
           "upper": 14739.98359375
          },
          {
           "lower": 14571.65185546875,
           "timepoint": 495,
           "trajectory": "I_sol",
           "upper": 14698.87353515625
          },
          {
           "lower": 14575.04208984375,
           "timepoint": 496,
           "trajectory": "I_sol",
           "upper": 14660.45595703125
          },
          {
           "lower": 14580.950390625,
           "timepoint": 497,
           "trajectory": "I_sol",
           "upper": 14624.7234375
          },
          {
           "lower": 14589.3921875,
           "timepoint": 498,
           "trajectory": "I_sol",
           "upper": 14591.617578125
          },
          {
           "lower": 14561.125,
           "timepoint": 499,
           "trajectory": "I_sol",
           "upper": 14600.359375
          },
          {
           "lower": 14533.19208984375,
           "timepoint": 500,
           "trajectory": "I_sol",
           "upper": 14613.83525390625
          },
          {
           "lower": 14507.82578125,
           "timepoint": 501,
           "trajectory": "I_sol",
           "upper": 14629.828515625
          },
          {
           "lower": 14484.99033203125,
           "timepoint": 502,
           "trajectory": "I_sol",
           "upper": 14648.32802734375
          },
          {
           "lower": 14464.6673828125,
           "timepoint": 503,
           "trajectory": "I_sol",
           "upper": 14669.3365234375
          },
          {
           "lower": 14446.84052734375,
           "timepoint": 504,
           "trajectory": "I_sol",
           "upper": 14692.85869140625
          },
          {
           "lower": 14431.456689453125,
           "timepoint": 505,
           "trajectory": "I_sol",
           "upper": 14718.870458984375
          },
          {
           "lower": 14418.5330078125,
           "timepoint": 506,
           "trajectory": "I_sol",
           "upper": 14747.3810546875
          },
          {
           "lower": 14408.03759765625,
           "timepoint": 507,
           "trajectory": "I_sol",
           "upper": 14778.43505859375
          },
          {
           "lower": 14399.97685546875,
           "timepoint": 508,
           "trajectory": "I_sol",
           "upper": 14811.97822265625
          },
          {
           "lower": 14394.3056640625,
           "timepoint": 509,
           "trajectory": "I_sol",
           "upper": 14848.0322265625
          },
          {
           "lower": 14391.02060546875,
           "timepoint": 510,
           "trajectory": "I_sol",
           "upper": 14886.62001953125
          },
          {
           "lower": 14390.11025390625,
           "timepoint": 511,
           "trajectory": "I_sol",
           "upper": 14927.73544921875
          },
          {
           "lower": 14391.581103515626,
           "timepoint": 512,
           "trajectory": "I_sol",
           "upper": 14971.396435546874
          },
          {
           "lower": 14395.398779296875,
           "timepoint": 513,
           "trajectory": "I_sol",
           "upper": 15017.565087890625
          },
          {
           "lower": 14401.577099609374,
           "timepoint": 514,
           "trajectory": "I_sol",
           "upper": 15066.310595703126
          },
          {
           "lower": 14410.04912109375,
           "timepoint": 515,
           "trajectory": "I_sol",
           "upper": 15117.60908203125
          },
          {
           "lower": 14420.882470703125,
           "timepoint": 516,
           "trajectory": "I_sol",
           "upper": 15171.514990234375
          },
          {
           "lower": 14434.0453125,
           "timepoint": 517,
           "trajectory": "I_sol",
           "upper": 15228.003515625
          },
          {
           "lower": 14449.54375,
           "timepoint": 518,
           "trajectory": "I_sol",
           "upper": 15287.102734375
          },
          {
           "lower": 14467.30244140625,
           "timepoint": 519,
           "trajectory": "I_sol",
           "upper": 15348.80498046875
          },
          {
           "lower": 14487.410888671875,
           "timepoint": 520,
           "trajectory": "I_sol",
           "upper": 15413.158447265625
          },
          {
           "lower": 14509.833984375,
           "timepoint": 521,
           "trajectory": "I_sol",
           "upper": 15480.1640625
          },
          {
           "lower": 14534.568359375,
           "timepoint": 522,
           "trajectory": "I_sol",
           "upper": 15549.86328125
          },
          {
           "lower": 14561.625048828126,
           "timepoint": 523,
           "trajectory": "I_sol",
           "upper": 15622.254833984374
          },
          {
           "lower": 14590.993505859375,
           "timepoint": 524,
           "trajectory": "I_sol",
           "upper": 15697.366845703125
          },
          {
           "lower": 14622.675927734375,
           "timepoint": 525,
           "trajectory": "I_sol",
           "upper": 15775.205908203125
          },
          {
           "lower": 14656.69306640625,
           "timepoint": 526,
           "trajectory": "I_sol",
           "upper": 15855.81474609375
          },
          {
           "lower": 14693.034423828125,
           "timepoint": 527,
           "trajectory": "I_sol",
           "upper": 15939.204833984375
          },
          {
           "lower": 14731.71015625,
           "timepoint": 528,
           "trajectory": "I_sol",
           "upper": 16025.44609375
          },
          {
           "lower": 14772.716650390625,
           "timepoint": 529,
           "trajectory": "I_sol",
           "upper": 16114.505029296875
          },
          {
           "lower": 14816.07958984375,
           "timepoint": 530,
           "trajectory": "I_sol",
           "upper": 16206.44775390625
          },
          {
           "lower": 14861.798583984375,
           "timepoint": 531,
           "trajectory": "I_sol",
           "upper": 16301.284423828125
          },
          {
           "lower": 14909.87958984375,
           "timepoint": 532,
           "trajectory": "I_sol",
           "upper": 16399.04033203125
          },
          {
           "lower": 14960.342236328124,
           "timepoint": 533,
           "trajectory": "I_sol",
           "upper": 16499.789599609376
          },
          {
           "lower": 15013.18603515625,
           "timepoint": 534,
           "trajectory": "I_sol",
           "upper": 16603.52294921875
          },
          {
           "lower": 15068.428662109374,
           "timepoint": 535,
           "trajectory": "I_sol",
           "upper": 16710.294970703126
          },
          {
           "lower": 15126.108349609374,
           "timepoint": 536,
           "trajectory": "I_sol",
           "upper": 16820.111376953126
          },
          {
           "lower": 15186.20693359375,
           "timepoint": 537,
           "trajectory": "I_sol",
           "upper": 16933.04892578125
          },
          {
           "lower": 15248.7615234375,
           "timepoint": 538,
           "trajectory": "I_sol",
           "upper": 17049.1447265625
          },
          {
           "lower": 15313.741796875,
           "timepoint": 539,
           "trajectory": "I_sol",
           "upper": 17168.367578125
          },
          {
           "lower": 15381.223193359376,
           "timepoint": 540,
           "trajectory": "I_sol",
           "upper": 17290.832470703124
          },
          {
           "lower": 15451.203955078125,
           "timepoint": 541,
           "trajectory": "I_sol",
           "upper": 17416.576318359374
          },
          {
           "lower": 15523.685888671875,
           "timepoint": 542,
           "trajectory": "I_sol",
           "upper": 17545.615869140624
          },
          {
           "lower": 15598.714013671875,
           "timepoint": 543,
           "trajectory": "I_sol",
           "upper": 17677.997900390626
          },
          {
           "lower": 15676.29638671875,
           "timepoint": 544,
           "trajectory": "I_sol",
           "upper": 17813.78759765625
          },
          {
           "lower": 15756.46396484375,
           "timepoint": 545,
           "trajectory": "I_sol",
           "upper": 17953.01064453125
          },
          {
           "lower": 15839.227880859375,
           "timepoint": 546,
           "trajectory": "I_sol",
           "upper": 18095.702783203124
          },
          {
           "lower": 15924.612744140624,
           "timepoint": 547,
           "trajectory": "I_sol",
           "upper": 18241.980029296876
          },
          {
           "lower": 16012.67548828125,
           "timepoint": 548,
           "trajectory": "I_sol",
           "upper": 18391.79912109375
          },
          {
           "lower": 16103.401123046875,
           "timepoint": 549,
           "trajectory": "I_sol",
           "upper": 18545.314697265625
          },
          {
           "lower": 16196.83603515625,
           "timepoint": 550,
           "trajectory": "I_sol",
           "upper": 18702.49404296875
          },
          {
           "lower": 16293.001513671876,
           "timepoint": 551,
           "trajectory": "I_sol",
           "upper": 18863.425244140624
          },
          {
           "lower": 16391.92470703125,
           "timepoint": 552,
           "trajectory": "I_sol",
           "upper": 19028.16708984375
          },
          {
           "lower": 16493.65693359375,
           "timepoint": 553,
           "trajectory": "I_sol",
           "upper": 19196.76298828125
          },
          {
           "lower": 16598.20390625,
           "timepoint": 554,
           "trajectory": "I_sol",
           "upper": 19369.30390625
          },
          {
           "lower": 16705.59658203125,
           "timepoint": 555,
           "trajectory": "I_sol",
           "upper": 19545.81552734375
          },
          {
           "lower": 16815.9109375,
           "timepoint": 556,
           "trajectory": "I_sol",
           "upper": 19726.3703125
          },
          {
           "lower": 16929.145703125,
           "timepoint": 557,
           "trajectory": "I_sol",
           "upper": 19911.049609375
          },
          {
           "lower": 17045.347265625,
           "timepoint": 558,
           "trajectory": "I_sol",
           "upper": 20099.891015625
          },
          {
           "lower": 17164.49453125,
           "timepoint": 559,
           "trajectory": "I_sol",
           "upper": 20292.95078125
          },
          {
           "lower": 17286.69970703125,
           "timepoint": 560,
           "trajectory": "I_sol",
           "upper": 20490.39208984375
          },
          {
           "lower": 17411.99775390625,
           "timepoint": 561,
           "trajectory": "I_sol",
           "upper": 20692.17607421875
          },
          {
           "lower": 17540.40166015625,
           "timepoint": 562,
           "trajectory": "I_sol",
           "upper": 20898.40888671875
          },
          {
           "lower": 17671.9544921875,
           "timepoint": 563,
           "trajectory": "I_sol",
           "upper": 21109.1705078125
          },
          {
           "lower": 17806.712890625,
           "timepoint": 564,
           "trajectory": "I_sol",
           "upper": 21324.517578125
          },
          {
           "lower": 17944.71083984375,
           "timepoint": 565,
           "trajectory": "I_sol",
           "upper": 21544.56845703125
          },
          {
           "lower": 18085.9947265625,
           "timepoint": 566,
           "trajectory": "I_sol",
           "upper": 21769.3607421875
          },
          {
           "lower": 18230.58984375,
           "timepoint": 567,
           "trajectory": "I_sol",
           "upper": 21998.98828125
          },
          {
           "lower": 18378.57109375,
           "timepoint": 568,
           "trajectory": "I_sol",
           "upper": 22233.53828125
          }
         ]
        },
        {
         "name": "traces",
         "transform": [
          {
           "expr": "isValid(datum.value)",
           "type": "filter"
          }
         ],
         "values": []
        },
        {
         "name": "points",
         "values": [
          {
           "sample_id": 0,
           "timepoint": 0,
           "trajectory": "I_data",
           "value": 0
          },
          {
           "sample_id": 0,
           "timepoint": 1,
           "trajectory": "I_data",
           "value": 0
          },
          {
           "sample_id": 0,
           "timepoint": 2,
           "trajectory": "I_data",
           "value": 0
          },
          {
           "sample_id": 0,
           "timepoint": 3,
           "trajectory": "I_data",
           "value": 0
          },
          {
           "sample_id": 0,
           "timepoint": 4,
           "trajectory": "I_data",
           "value": 0
          },
          {
           "sample_id": 0,
           "timepoint": 5,
           "trajectory": "I_data",
           "value": 0
          },
          {
           "sample_id": 0,
           "timepoint": 6,
           "trajectory": "I_data",
           "value": 0
          },
          {
           "sample_id": 0,
           "timepoint": 7,
           "trajectory": "I_data",
           "value": 0
          },
          {
           "sample_id": 0,
           "timepoint": 8,
           "trajectory": "I_data",
           "value": 0
          },
          {
           "sample_id": 0,
           "timepoint": 9,
           "trajectory": "I_data",
           "value": 0
          },
          {
           "sample_id": 0,
           "timepoint": 10,
           "trajectory": "I_data",
           "value": 0
          },
          {
           "sample_id": 0,
           "timepoint": 11,
           "trajectory": "I_data",
           "value": 0
          },
          {
           "sample_id": 0,
           "timepoint": 12,
           "trajectory": "I_data",
           "value": 0
          },
          {
           "sample_id": 0,
           "timepoint": 13,
           "trajectory": "I_data",
           "value": 0
          },
          {
           "sample_id": 0,
           "timepoint": 14,
           "trajectory": "I_data",
           "value": 0
          },
          {
           "sample_id": 0,
           "timepoint": 15,
           "trajectory": "I_data",
           "value": 0
          },
          {
           "sample_id": 0,
           "timepoint": 16,
           "trajectory": "I_data",
           "value": 0
          },
          {
           "sample_id": 0,
           "timepoint": 17,
           "trajectory": "I_data",
           "value": 0
          },
          {
           "sample_id": 0,
           "timepoint": 18,
           "trajectory": "I_data",
           "value": 0
          },
          {
           "sample_id": 0,
           "timepoint": 19,
           "trajectory": "I_data",
           "value": 0
          },
          {
           "sample_id": 0,
           "timepoint": 20,
           "trajectory": "I_data",
           "value": 0
          },
          {
           "sample_id": 0,
           "timepoint": 21,
           "trajectory": "I_data",
           "value": 0
          },
          {
           "sample_id": 0,
           "timepoint": 22,
           "trajectory": "I_data",
           "value": 0
          },
          {
           "sample_id": 0,
           "timepoint": 23,
           "trajectory": "I_data",
           "value": 0
          },
          {
           "sample_id": 0,
           "timepoint": 24,
           "trajectory": "I_data",
           "value": 0
          },
          {
           "sample_id": 0,
           "timepoint": 25,
           "trajectory": "I_data",
           "value": 0
          },
          {
           "sample_id": 0,
           "timepoint": 26,
           "trajectory": "I_data",
           "value": 0
          },
          {
           "sample_id": 0,
           "timepoint": 27,
           "trajectory": "I_data",
           "value": 0
          },
          {
           "sample_id": 0,
           "timepoint": 28,
           "trajectory": "I_data",
           "value": 0
          },
          {
           "sample_id": 0,
           "timepoint": 29,
           "trajectory": "I_data",
           "value": 0
          },
          {
           "sample_id": 0,
           "timepoint": 30,
           "trajectory": "I_data",
           "value": 0
          },
          {
           "sample_id": 0,
           "timepoint": 31,
           "trajectory": "I_data",
           "value": 0
          },
          {
           "sample_id": 0,
           "timepoint": 32,
           "trajectory": "I_data",
           "value": 0
          },
          {
           "sample_id": 0,
           "timepoint": 33,
           "trajectory": "I_data",
           "value": 0
          },
          {
           "sample_id": 0,
           "timepoint": 34,
           "trajectory": "I_data",
           "value": 0
          },
          {
           "sample_id": 0,
           "timepoint": 35,
           "trajectory": "I_data",
           "value": 0
          },
          {
           "sample_id": 0,
           "timepoint": 36,
           "trajectory": "I_data",
           "value": 0
          },
          {
           "sample_id": 0,
           "timepoint": 37,
           "trajectory": "I_data",
           "value": 0
          },
          {
           "sample_id": 0,
           "timepoint": 38,
           "trajectory": "I_data",
           "value": 0
          },
          {
           "sample_id": 0,
           "timepoint": 39,
           "trajectory": "I_data",
           "value": 0
          },
          {
           "sample_id": 0,
           "timepoint": 40,
           "trajectory": "I_data",
           "value": 0
          },
          {
           "sample_id": 0,
           "timepoint": 41,
           "trajectory": "I_data",
           "value": 1
          },
          {
           "sample_id": 0,
           "timepoint": 42,
           "trajectory": "I_data",
           "value": 10
          },
          {
           "sample_id": 0,
           "timepoint": 43,
           "trajectory": "I_data",
           "value": 21
          },
          {
           "sample_id": 0,
           "timepoint": 44,
           "trajectory": "I_data",
           "value": 24
          },
          {
           "sample_id": 0,
           "timepoint": 45,
           "trajectory": "I_data",
           "value": 76
          },
          {
           "sample_id": 0,
           "timepoint": 46,
           "trajectory": "I_data",
           "value": 104
          },
          {
           "sample_id": 0,
           "timepoint": 47,
           "trajectory": "I_data",
           "value": 128
          },
          {
           "sample_id": 0,
           "timepoint": 48,
           "trajectory": "I_data",
           "value": 131
          },
          {
           "sample_id": 0,
           "timepoint": 49,
           "trajectory": "I_data",
           "value": 192
          },
          {
           "sample_id": 0,
           "timepoint": 50,
           "trajectory": "I_data",
           "value": 220
          },
          {
           "sample_id": 0,
           "timepoint": 51,
           "trajectory": "I_data",
           "value": 274
          },
          {
           "sample_id": 0,
           "timepoint": 52,
           "trajectory": "I_data",
           "value": 394
          },
          {
           "sample_id": 0,
           "timepoint": 53,
           "trajectory": "I_data",
           "value": 481
          },
          {
           "sample_id": 0,
           "timepoint": 54,
           "trajectory": "I_data",
           "value": 745
          },
          {
           "sample_id": 0,
           "timepoint": 55,
           "trajectory": "I_data",
           "value": 1111
          },
          {
           "sample_id": 0,
           "timepoint": 56,
           "trajectory": "I_data",
           "value": 2128
          },
          {
           "sample_id": 0,
           "timepoint": 57,
           "trajectory": "I_data",
           "value": 3671
          },
          {
           "sample_id": 0,
           "timepoint": 58,
           "trajectory": "I_data",
           "value": 6578
          },
          {
           "sample_id": 0,
           "timepoint": 59,
           "trajectory": "I_data",
           "value": 9449
          },
          {
           "sample_id": 0,
           "timepoint": 60,
           "trajectory": "I_data",
           "value": 13761
          },
          {
           "sample_id": 0,
           "timepoint": 61,
           "trajectory": "I_data",
           "value": 18270
          },
          {
           "sample_id": 0,
           "timepoint": 62,
           "trajectory": "I_data",
           "value": 21478
          },
          {
           "sample_id": 0,
           "timepoint": 63,
           "trajectory": "I_data",
           "value": 23630
          },
          {
           "sample_id": 0,
           "timepoint": 64,
           "trajectory": "I_data",
           "value": 26987
          },
          {
           "sample_id": 0,
           "timepoint": 65,
           "trajectory": "I_data",
           "value": 29533
          },
          {
           "sample_id": 0,
           "timepoint": 66,
           "trajectory": "I_data",
           "value": 31623
          },
          {
           "sample_id": 0,
           "timepoint": 67,
           "trajectory": "I_data",
           "value": 33967
          },
          {
           "sample_id": 0,
           "timepoint": 68,
           "trajectory": "I_data",
           "value": 35822
          },
          {
           "sample_id": 0,
           "timepoint": 69,
           "trajectory": "I_data",
           "value": 38456
          },
          {
           "sample_id": 0,
           "timepoint": 70,
           "trajectory": "I_data",
           "value": 45676
          },
          {
           "sample_id": 0,
           "timepoint": 71,
           "trajectory": "I_data",
           "value": 48380
          },
          {
           "sample_id": 0,
           "timepoint": 72,
           "trajectory": "I_data",
           "value": 51807
          },
          {
           "sample_id": 0,
           "timepoint": 73,
           "trajectory": "I_data",
           "value": 55042
          },
          {
           "sample_id": 0,
           "timepoint": 74,
           "trajectory": "I_data",
           "value": 56847
          },
          {
           "sample_id": 0,
           "timepoint": 75,
           "trajectory": "I_data",
           "value": 52184
          },
          {
           "sample_id": 0,
           "timepoint": 76,
           "trajectory": "I_data",
           "value": 49194
          },
          {
           "sample_id": 0,
           "timepoint": 77,
           "trajectory": "I_data",
           "value": 48730
          },
          {
           "sample_id": 0,
           "timepoint": 78,
           "trajectory": "I_data",
           "value": 50551
          },
          {
           "sample_id": 0,
           "timepoint": 79,
           "trajectory": "I_data",
           "value": 51029
          },
          {
           "sample_id": 0,
           "timepoint": 80,
           "trajectory": "I_data",
           "value": 49701
          },
          {
           "sample_id": 0,
           "timepoint": 81,
           "trajectory": "I_data",
           "value": 50661
          },
          {
           "sample_id": 0,
           "timepoint": 82,
           "trajectory": "I_data",
           "value": 48303
          },
          {
           "sample_id": 0,
           "timepoint": 83,
           "trajectory": "I_data",
           "value": 43703
          },
          {
           "sample_id": 0,
           "timepoint": 84,
           "trajectory": "I_data",
           "value": 38888
          },
          {
           "sample_id": 0,
           "timepoint": 85,
           "trajectory": "I_data",
           "value": 38244
          },
          {
           "sample_id": 0,
           "timepoint": 86,
           "trajectory": "I_data",
           "value": 36857
          },
          {
           "sample_id": 0,
           "timepoint": 87,
           "trajectory": "I_data",
           "value": 35881
          },
          {
           "sample_id": 0,
           "timepoint": 88,
           "trajectory": "I_data",
           "value": 35054
          },
          {
           "sample_id": 0,
           "timepoint": 89,
           "trajectory": "I_data",
           "value": 34782
          },
          {
           "sample_id": 0,
           "timepoint": 90,
           "trajectory": "I_data",
           "value": 31526
          },
          {
           "sample_id": 0,
           "timepoint": 91,
           "trajectory": "I_data",
           "value": 28799
          },
          {
           "sample_id": 0,
           "timepoint": 92,
           "trajectory": "I_data",
           "value": 27419
          },
          {
           "sample_id": 0,
           "timepoint": 93,
           "trajectory": "I_data",
           "value": 27443
          },
          {
           "sample_id": 0,
           "timepoint": 94,
           "trajectory": "I_data",
           "value": 30499
          },
          {
           "sample_id": 0,
           "timepoint": 95,
           "trajectory": "I_data",
           "value": 31543
          },
          {
           "sample_id": 0,
           "timepoint": 96,
           "trajectory": "I_data",
           "value": 31597
          },
          {
           "sample_id": 0,
           "timepoint": 97,
           "trajectory": "I_data",
           "value": 29008
          },
          {
           "sample_id": 0,
           "timepoint": 98,
           "trajectory": "I_data",
           "value": 25476
          },
          {
           "sample_id": 0,
           "timepoint": 99,
           "trajectory": "I_data",
           "value": 20411
          },
          {
           "sample_id": 0,
           "timepoint": 100,
           "trajectory": "I_data",
           "value": 19224
          },
          {
           "sample_id": 0,
           "timepoint": 101,
           "trajectory": "I_data",
           "value": 19286
          },
          {
           "sample_id": 0,
           "timepoint": 102,
           "trajectory": "I_data",
           "value": 19889
          },
          {
           "sample_id": 0,
           "timepoint": 103,
           "trajectory": "I_data",
           "value": 19896
          },
          {
           "sample_id": 0,
           "timepoint": 104,
           "trajectory": "I_data",
           "value": 17625
          },
          {
           "sample_id": 0,
           "timepoint": 105,
           "trajectory": "I_data",
           "value": 15258
          },
          {
           "sample_id": 0,
           "timepoint": 106,
           "trajectory": "I_data",
           "value": 14094
          },
          {
           "sample_id": 0,
           "timepoint": 107,
           "trajectory": "I_data",
           "value": 13482
          },
          {
           "sample_id": 0,
           "timepoint": 108,
           "trajectory": "I_data",
           "value": 12974
          },
          {
           "sample_id": 0,
           "timepoint": 109,
           "trajectory": "I_data",
           "value": 13268
          },
          {
           "sample_id": 0,
           "timepoint": 110,
           "trajectory": "I_data",
           "value": 12969
          },
          {
           "sample_id": 0,
           "timepoint": 111,
           "trajectory": "I_data",
           "value": 11088
          },
          {
           "sample_id": 0,
           "timepoint": 112,
           "trajectory": "I_data",
           "value": 9707
          },
          {
           "sample_id": 0,
           "timepoint": 113,
           "trajectory": "I_data",
           "value": 9411
          },
          {
           "sample_id": 0,
           "timepoint": 114,
           "trajectory": "I_data",
           "value": 9259
          },
          {
           "sample_id": 0,
           "timepoint": 115,
           "trajectory": "I_data",
           "value": 9953
          },
          {
           "sample_id": 0,
           "timepoint": 116,
           "trajectory": "I_data",
           "value": 10646
          },
          {
           "sample_id": 0,
           "timepoint": 117,
           "trajectory": "I_data",
           "value": 10626
          },
          {
           "sample_id": 0,
           "timepoint": 118,
           "trajectory": "I_data",
           "value": 9673
          },
          {
           "sample_id": 0,
           "timepoint": 119,
           "trajectory": "I_data",
           "value": 8591
          },
          {
           "sample_id": 0,
           "timepoint": 120,
           "trajectory": "I_data",
           "value": 7939
          },
          {
           "sample_id": 0,
           "timepoint": 121,
           "trajectory": "I_data",
           "value": 7816
          },
          {
           "sample_id": 0,
           "timepoint": 122,
           "trajectory": "I_data",
           "value": 8389
          },
          {
           "sample_id": 0,
           "timepoint": 123,
           "trajectory": "I_data",
           "value": 8811
          },
          {
           "sample_id": 0,
           "timepoint": 124,
           "trajectory": "I_data",
           "value": 9336
          },
          {
           "sample_id": 0,
           "timepoint": 125,
           "trajectory": "I_data",
           "value": 8431
          },
          {
           "sample_id": 0,
           "timepoint": 126,
           "trajectory": "I_data",
           "value": 7464
          },
          {
           "sample_id": 0,
           "timepoint": 127,
           "trajectory": "I_data",
           "value": 6549
          },
          {
           "sample_id": 0,
           "timepoint": 128,
           "trajectory": "I_data",
           "value": 6404
          },
          {
           "sample_id": 0,
           "timepoint": 129,
           "trajectory": "I_data",
           "value": 6085
          },
          {
           "sample_id": 0,
           "timepoint": 130,
           "trajectory": "I_data",
           "value": 6333
          },
          {
           "sample_id": 0,
           "timepoint": 131,
           "trajectory": "I_data",
           "value": 6536
          },
          {
           "sample_id": 0,
           "timepoint": 132,
           "trajectory": "I_data",
           "value": 6449
          },
          {
           "sample_id": 0,
           "timepoint": 133,
           "trajectory": "I_data",
           "value": 5575
          },
          {
           "sample_id": 0,
           "timepoint": 134,
           "trajectory": "I_data",
           "value": 5415
          },
          {
           "sample_id": 0,
           "timepoint": 135,
           "trajectory": "I_data",
           "value": 5329
          },
          {
           "sample_id": 0,
           "timepoint": 136,
           "trajectory": "I_data",
           "value": 5248
          },
          {
           "sample_id": 0,
           "timepoint": 137,
           "trajectory": "I_data",
           "value": 5036
          },
          {
           "sample_id": 0,
           "timepoint": 138,
           "trajectory": "I_data",
           "value": 4983
          },
          {
           "sample_id": 0,
           "timepoint": 139,
           "trajectory": "I_data",
           "value": 4369
          },
          {
           "sample_id": 0,
           "timepoint": 140,
           "trajectory": "I_data",
           "value": 3707
          },
          {
           "sample_id": 0,
           "timepoint": 141,
           "trajectory": "I_data",
           "value": 3462
          },
          {
           "sample_id": 0,
           "timepoint": 142,
           "trajectory": "I_data",
           "value": 3421
          },
          {
           "sample_id": 0,
           "timepoint": 143,
           "trajectory": "I_data",
           "value": 3445
          },
          {
           "sample_id": 0,
           "timepoint": 144,
           "trajectory": "I_data",
           "value": 3540
          },
          {
           "sample_id": 0,
           "timepoint": 145,
           "trajectory": "I_data",
           "value": 3746
          },
          {
           "sample_id": 0,
           "timepoint": 146,
           "trajectory": "I_data",
           "value": 3445
          },
          {
           "sample_id": 0,
           "timepoint": 147,
           "trajectory": "I_data",
           "value": 3040
          },
          {
           "sample_id": 0,
           "timepoint": 148,
           "trajectory": "I_data",
           "value": 2979
          },
          {
           "sample_id": 0,
           "timepoint": 149,
           "trajectory": "I_data",
           "value": 3110
          },
          {
           "sample_id": 0,
           "timepoint": 150,
           "trajectory": "I_data",
           "value": 3138
          },
          {
           "sample_id": 0,
           "timepoint": 151,
           "trajectory": "I_data",
           "value": 3295
          },
          {
           "sample_id": 0,
           "timepoint": 152,
           "trajectory": "I_data",
           "value": 3526
          },
          {
           "sample_id": 0,
           "timepoint": 153,
           "trajectory": "I_data",
           "value": 3328
          },
          {
           "sample_id": 0,
           "timepoint": 154,
           "trajectory": "I_data",
           "value": 2977
          },
          {
           "sample_id": 0,
           "timepoint": 155,
           "trajectory": "I_data",
           "value": 3096
          },
          {
           "sample_id": 0,
           "timepoint": 156,
           "trajectory": "I_data",
           "value": 3259
          },
          {
           "sample_id": 0,
           "timepoint": 157,
           "trajectory": "I_data",
           "value": 3351
          },
          {
           "sample_id": 0,
           "timepoint": 158,
           "trajectory": "I_data",
           "value": 3461
          },
          {
           "sample_id": 0,
           "timepoint": 159,
           "trajectory": "I_data",
           "value": 3522
          },
          {
           "sample_id": 0,
           "timepoint": 160,
           "trajectory": "I_data",
           "value": 3211
          },
          {
           "sample_id": 0,
           "timepoint": 161,
           "trajectory": "I_data",
           "value": 2929
          },
          {
           "sample_id": 0,
           "timepoint": 162,
           "trajectory": "I_data",
           "value": 3102
          },
          {
           "sample_id": 0,
           "timepoint": 163,
           "trajectory": "I_data",
           "value": 3405
          },
          {
           "sample_id": 0,
           "timepoint": 164,
           "trajectory": "I_data",
           "value": 3648
          },
          {
           "sample_id": 0,
           "timepoint": 165,
           "trajectory": "I_data",
           "value": 3867
          },
          {
           "sample_id": 0,
           "timepoint": 166,
           "trajectory": "I_data",
           "value": 3842
          },
          {
           "sample_id": 0,
           "timepoint": 167,
           "trajectory": "I_data",
           "value": 3383
          },
          {
           "sample_id": 0,
           "timepoint": 168,
           "trajectory": "I_data",
           "value": 3037
          },
          {
           "sample_id": 0,
           "timepoint": 169,
           "trajectory": "I_data",
           "value": 3025
          },
          {
           "sample_id": 0,
           "timepoint": 170,
           "trajectory": "I_data",
           "value": 3223
          },
          {
           "sample_id": 0,
           "timepoint": 171,
           "trajectory": "I_data",
           "value": 3579
          },
          {
           "sample_id": 0,
           "timepoint": 172,
           "trajectory": "I_data",
           "value": 3878
          },
          {
           "sample_id": 0,
           "timepoint": 173,
           "trajectory": "I_data",
           "value": 3945
          },
          {
           "sample_id": 0,
           "timepoint": 174,
           "trajectory": "I_data",
           "value": 4053
          },
          {
           "sample_id": 0,
           "timepoint": 175,
           "trajectory": "I_data",
           "value": 3835
          },
          {
           "sample_id": 0,
           "timepoint": 176,
           "trajectory": "I_data",
           "value": 3847
          },
          {
           "sample_id": 0,
           "timepoint": 177,
           "trajectory": "I_data",
           "value": 3927
          },
          {
           "sample_id": 0,
           "timepoint": 178,
           "trajectory": "I_data",
           "value": 4121
          },
          {
           "sample_id": 0,
           "timepoint": 179,
           "trajectory": "I_data",
           "value": 3892
          },
          {
           "sample_id": 0,
           "timepoint": 180,
           "trajectory": "I_data",
           "value": 3864
          },
          {
           "sample_id": 0,
           "timepoint": 181,
           "trajectory": "I_data",
           "value": 3674
          },
          {
           "sample_id": 0,
           "timepoint": 182,
           "trajectory": "I_data",
           "value": 3403
          },
          {
           "sample_id": 0,
           "timepoint": 183,
           "trajectory": "I_data",
           "value": 3427
          },
          {
           "sample_id": 0,
           "timepoint": 184,
           "trajectory": "I_data",
           "value": 3533
          },
          {
           "sample_id": 0,
           "timepoint": 185,
           "trajectory": "I_data",
           "value": 3619
          },
          {
           "sample_id": 0,
           "timepoint": 186,
           "trajectory": "I_data",
           "value": 3547
          },
          {
           "sample_id": 0,
           "timepoint": 187,
           "trajectory": "I_data",
           "value": 3626
          },
          {
           "sample_id": 0,
           "timepoint": 188,
           "trajectory": "I_data",
           "value": 3278
          },
          {
           "sample_id": 0,
           "timepoint": 189,
           "trajectory": "I_data",
           "value": 3100
          },
          {
           "sample_id": 0,
           "timepoint": 190,
           "trajectory": "I_data",
           "value": 3137
          },
          {
           "sample_id": 0,
           "timepoint": 191,
           "trajectory": "I_data",
           "value": 3199
          },
          {
           "sample_id": 0,
           "timepoint": 192,
           "trajectory": "I_data",
           "value": 3319
          },
          {
           "sample_id": 0,
           "timepoint": 193,
           "trajectory": "I_data",
           "value": 3367
          },
          {
           "sample_id": 0,
           "timepoint": 194,
           "trajectory": "I_data",
           "value": 3385
          },
          {
           "sample_id": 0,
           "timepoint": 195,
           "trajectory": "I_data",
           "value": 3221
          },
          {
           "sample_id": 0,
           "timepoint": 196,
           "trajectory": "I_data",
           "value": 3015
          },
          {
           "sample_id": 0,
           "timepoint": 197,
           "trajectory": "I_data",
           "value": 3002
          },
          {
           "sample_id": 0,
           "timepoint": 198,
           "trajectory": "I_data",
           "value": 3027
          },
          {
           "sample_id": 0,
           "timepoint": 199,
           "trajectory": "I_data",
           "value": 3135
          },
          {
           "sample_id": 0,
           "timepoint": 200,
           "trajectory": "I_data",
           "value": 3076
          },
          {
           "sample_id": 0,
           "timepoint": 201,
           "trajectory": "I_data",
           "value": 3113
          },
          {
           "sample_id": 0,
           "timepoint": 202,
           "trajectory": "I_data",
           "value": 2953
          },
          {
           "sample_id": 0,
           "timepoint": 203,
           "trajectory": "I_data",
           "value": 2839
          },
          {
           "sample_id": 0,
           "timepoint": 204,
           "trajectory": "I_data",
           "value": 2783
          },
          {
           "sample_id": 0,
           "timepoint": 205,
           "trajectory": "I_data",
           "value": 2859
          },
          {
           "sample_id": 0,
           "timepoint": 206,
           "trajectory": "I_data",
           "value": 3030
          },
          {
           "sample_id": 0,
           "timepoint": 207,
           "trajectory": "I_data",
           "value": 3058
          },
          {
           "sample_id": 0,
           "timepoint": 208,
           "trajectory": "I_data",
           "value": 3067
          },
          {
           "sample_id": 0,
           "timepoint": 209,
           "trajectory": "I_data",
           "value": 2963
          },
          {
           "sample_id": 0,
           "timepoint": 210,
           "trajectory": "I_data",
           "value": 2830
          },
          {
           "sample_id": 0,
           "timepoint": 211,
           "trajectory": "I_data",
           "value": 2821
          },
          {
           "sample_id": 0,
           "timepoint": 212,
           "trajectory": "I_data",
           "value": 2948
          },
          {
           "sample_id": 0,
           "timepoint": 213,
           "trajectory": "I_data",
           "value": 3158
          },
          {
           "sample_id": 0,
           "timepoint": 214,
           "trajectory": "I_data",
           "value": 3162
          },
          {
           "sample_id": 0,
           "timepoint": 215,
           "trajectory": "I_data",
           "value": 3118
          },
          {
           "sample_id": 0,
           "timepoint": 216,
           "trajectory": "I_data",
           "value": 2990
          },
          {
           "sample_id": 0,
           "timepoint": 217,
           "trajectory": "I_data",
           "value": 2735
          },
          {
           "sample_id": 0,
           "timepoint": 218,
           "trajectory": "I_data",
           "value": 2850
          },
          {
           "sample_id": 0,
           "timepoint": 219,
           "trajectory": "I_data",
           "value": 2977
          },
          {
           "sample_id": 0,
           "timepoint": 220,
           "trajectory": "I_data",
           "value": 3198
          },
          {
           "sample_id": 0,
           "timepoint": 221,
           "trajectory": "I_data",
           "value": 3356
          },
          {
           "sample_id": 0,
           "timepoint": 222,
           "trajectory": "I_data",
           "value": 3559
          },
          {
           "sample_id": 0,
           "timepoint": 223,
           "trajectory": "I_data",
           "value": 3364
          },
          {
           "sample_id": 0,
           "timepoint": 224,
           "trajectory": "I_data",
           "value": 3343
          },
          {
           "sample_id": 0,
           "timepoint": 225,
           "trajectory": "I_data",
           "value": 3566
          },
          {
           "sample_id": 0,
           "timepoint": 226,
           "trajectory": "I_data",
           "value": 3723
          },
          {
           "sample_id": 0,
           "timepoint": 227,
           "trajectory": "I_data",
           "value": 3858
          },
          {
           "sample_id": 0,
           "timepoint": 228,
           "trajectory": "I_data",
           "value": 3991
          },
          {
           "sample_id": 0,
           "timepoint": 229,
           "trajectory": "I_data",
           "value": 3910
          },
          {
           "sample_id": 0,
           "timepoint": 230,
           "trajectory": "I_data",
           "value": 3495
          },
          {
           "sample_id": 0,
           "timepoint": 231,
           "trajectory": "I_data",
           "value": 3217
          },
          {
           "sample_id": 0,
           "timepoint": 232,
           "trajectory": "I_data",
           "value": 3059
          },
          {
           "sample_id": 0,
           "timepoint": 233,
           "trajectory": "I_data",
           "value": 3354
          },
          {
           "sample_id": 0,
           "timepoint": 234,
           "trajectory": "I_data",
           "value": 3713
          },
          {
           "sample_id": 0,
           "timepoint": 235,
           "trajectory": "I_data",
           "value": 4045
          },
          {
           "sample_id": 0,
           "timepoint": 236,
           "trajectory": "I_data",
           "value": 4115
          },
          {
           "sample_id": 0,
           "timepoint": 237,
           "trajectory": "I_data",
           "value": 4142
          },
          {
           "sample_id": 0,
           "timepoint": 238,
           "trajectory": "I_data",
           "value": 3795
          },
          {
           "sample_id": 0,
           "timepoint": 239,
           "trajectory": "I_data",
           "value": 3894
          },
          {
           "sample_id": 0,
           "timepoint": 240,
           "trajectory": "I_data",
           "value": 3891
          },
          {
           "sample_id": 0,
           "timepoint": 241,
           "trajectory": "I_data",
           "value": 4131
          },
          {
           "sample_id": 0,
           "timepoint": 242,
           "trajectory": "I_data",
           "value": 4294
          },
          {
           "sample_id": 0,
           "timepoint": 243,
           "trajectory": "I_data",
           "value": 4245
          },
          {
           "sample_id": 0,
           "timepoint": 244,
           "trajectory": "I_data",
           "value": 3808
          },
          {
           "sample_id": 0,
           "timepoint": 245,
           "trajectory": "I_data",
           "value": 3546
          },
          {
           "sample_id": 0,
           "timepoint": 246,
           "trajectory": "I_data",
           "value": 3745
          },
          {
           "sample_id": 0,
           "timepoint": 247,
           "trajectory": "I_data",
           "value": 3893
          },
          {
           "sample_id": 0,
           "timepoint": 248,
           "trajectory": "I_data",
           "value": 4431
          },
          {
           "sample_id": 0,
           "timepoint": 249,
           "trajectory": "I_data",
           "value": 4875
          },
          {
           "sample_id": 0,
           "timepoint": 250,
           "trajectory": "I_data",
           "value": 5275
          },
          {
           "sample_id": 0,
           "timepoint": 251,
           "trajectory": "I_data",
           "value": 5153
          },
          {
           "sample_id": 0,
           "timepoint": 252,
           "trajectory": "I_data",
           "value": 5137
          },
          {
           "sample_id": 0,
           "timepoint": 253,
           "trajectory": "I_data",
           "value": 5288
          },
          {
           "sample_id": 0,
           "timepoint": 254,
           "trajectory": "I_data",
           "value": 6015
          },
          {
           "sample_id": 0,
           "timepoint": 255,
           "trajectory": "I_data",
           "value": 6733
          },
          {
           "sample_id": 0,
           "timepoint": 256,
           "trajectory": "I_data",
           "value": 7140
          },
          {
           "sample_id": 0,
           "timepoint": 257,
           "trajectory": "I_data",
           "value": 7303
          },
          {
           "sample_id": 0,
           "timepoint": 258,
           "trajectory": "I_data",
           "value": 7128
          },
          {
           "sample_id": 0,
           "timepoint": 259,
           "trajectory": "I_data",
           "value": 6587
          },
          {
           "sample_id": 0,
           "timepoint": 260,
           "trajectory": "I_data",
           "value": 6978
          },
          {
           "sample_id": 0,
           "timepoint": 261,
           "trajectory": "I_data",
           "value": 7201
          },
          {
           "sample_id": 0,
           "timepoint": 262,
           "trajectory": "I_data",
           "value": 7557
          },
          {
           "sample_id": 0,
           "timepoint": 263,
           "trajectory": "I_data",
           "value": 7682
          },
          {
           "sample_id": 0,
           "timepoint": 264,
           "trajectory": "I_data",
           "value": 7718
          },
          {
           "sample_id": 0,
           "timepoint": 265,
           "trajectory": "I_data",
           "value": 6844
          },
          {
           "sample_id": 0,
           "timepoint": 266,
           "trajectory": "I_data",
           "value": 6333
          },
          {
           "sample_id": 0,
           "timepoint": 267,
           "trajectory": "I_data",
           "value": 6368
          },
          {
           "sample_id": 0,
           "timepoint": 268,
           "trajectory": "I_data",
           "value": 6841
          },
          {
           "sample_id": 0,
           "timepoint": 269,
           "trajectory": "I_data",
           "value": 7282
          },
          {
           "sample_id": 0,
           "timepoint": 270,
           "trajectory": "I_data",
           "value": 7590
          },
          {
           "sample_id": 0,
           "timepoint": 271,
           "trajectory": "I_data",
           "value": 7701
          },
          {
           "sample_id": 0,
           "timepoint": 272,
           "trajectory": "I_data",
           "value": 7401
          },
          {
           "sample_id": 0,
           "timepoint": 273,
           "trajectory": "I_data",
           "value": 7370
          },
          {
           "sample_id": 0,
           "timepoint": 274,
           "trajectory": "I_data",
           "value": 7567
          },
          {
           "sample_id": 0,
           "timepoint": 275,
           "trajectory": "I_data",
           "value": 7889
          },
          {
           "sample_id": 0,
           "timepoint": 276,
           "trajectory": "I_data",
           "value": 8804
          },
          {
           "sample_id": 0,
           "timepoint": 277,
           "trajectory": "I_data",
           "value": 9486
          },
          {
           "sample_id": 0,
           "timepoint": 278,
           "trajectory": "I_data",
           "value": 9315
          },
          {
           "sample_id": 0,
           "timepoint": 279,
           "trajectory": "I_data",
           "value": 9204
          },
          {
           "sample_id": 0,
           "timepoint": 280,
           "trajectory": "I_data",
           "value": 9081
          },
          {
           "sample_id": 0,
           "timepoint": 281,
           "trajectory": "I_data",
           "value": 9308
          },
          {
           "sample_id": 0,
           "timepoint": 282,
           "trajectory": "I_data",
           "value": 9716
          },
          {
           "sample_id": 0,
           "timepoint": 283,
           "trajectory": "I_data",
           "value": 10564
          },
          {
           "sample_id": 0,
           "timepoint": 284,
           "trajectory": "I_data",
           "value": 10905
          },
          {
           "sample_id": 0,
           "timepoint": 285,
           "trajectory": "I_data",
           "value": 11064
          },
          {
           "sample_id": 0,
           "timepoint": 286,
           "trajectory": "I_data",
           "value": 10782
          },
          {
           "sample_id": 0,
           "timepoint": 287,
           "trajectory": "I_data",
           "value": 10522
          },
          {
           "sample_id": 0,
           "timepoint": 288,
           "trajectory": "I_data",
           "value": 11346
          },
          {
           "sample_id": 0,
           "timepoint": 289,
           "trajectory": "I_data",
           "value": 12435
          },
          {
           "sample_id": 0,
           "timepoint": 290,
           "trajectory": "I_data",
           "value": 14465
          },
          {
           "sample_id": 0,
           "timepoint": 291,
           "trajectory": "I_data",
           "value": 15975
          },
          {
           "sample_id": 0,
           "timepoint": 292,
           "trajectory": "I_data",
           "value": 17353
          },
          {
           "sample_id": 0,
           "timepoint": 293,
           "trajectory": "I_data",
           "value": 18093
          },
          {
           "sample_id": 0,
           "timepoint": 294,
           "trajectory": "I_data",
           "value": 19135
          },
          {
           "sample_id": 0,
           "timepoint": 295,
           "trajectory": "I_data",
           "value": 20460
          },
          {
           "sample_id": 0,
           "timepoint": 296,
           "trajectory": "I_data",
           "value": 22547
          },
          {
           "sample_id": 0,
           "timepoint": 297,
           "trajectory": "I_data",
           "value": 24678
          },
          {
           "sample_id": 0,
           "timepoint": 298,
           "trajectory": "I_data",
           "value": 24913
          },
          {
           "sample_id": 0,
           "timepoint": 299,
           "trajectory": "I_data",
           "value": 24870
          },
          {
           "sample_id": 0,
           "timepoint": 300,
           "trajectory": "I_data",
           "value": 24257
          },
          {
           "sample_id": 0,
           "timepoint": 301,
           "trajectory": "I_data",
           "value": 23467
          },
          {
           "sample_id": 0,
           "timepoint": 302,
           "trajectory": "I_data",
           "value": 23714
          },
          {
           "sample_id": 0,
           "timepoint": 303,
           "trajectory": "I_data",
           "value": 25255
          },
          {
           "sample_id": 0,
           "timepoint": 304,
           "trajectory": "I_data",
           "value": 27357
          },
          {
           "sample_id": 0,
           "timepoint": 305,
           "trajectory": "I_data",
           "value": 28425
          },
          {
           "sample_id": 0,
           "timepoint": 306,
           "trajectory": "I_data",
           "value": 29986
          },
          {
           "sample_id": 0,
           "timepoint": 307,
           "trajectory": "I_data",
           "value": 29044
          },
          {
           "sample_id": 0,
           "timepoint": 308,
           "trajectory": "I_data",
           "value": 29344
          },
          {
           "sample_id": 0,
           "timepoint": 309,
           "trajectory": "I_data",
           "value": 30344
          },
          {
           "sample_id": 0,
           "timepoint": 310,
           "trajectory": "I_data",
           "value": 32942
          },
          {
           "sample_id": 0,
           "timepoint": 311,
           "trajectory": "I_data",
           "value": 33366
          },
          {
           "sample_id": 0,
           "timepoint": 312,
           "trajectory": "I_data",
           "value": 33962
          },
          {
           "sample_id": 0,
           "timepoint": 313,
           "trajectory": "I_data",
           "value": 35701
          },
          {
           "sample_id": 0,
           "timepoint": 314,
           "trajectory": "I_data",
           "value": 35476
          },
          {
           "sample_id": 0,
           "timepoint": 315,
           "trajectory": "I_data",
           "value": 35333
          },
          {
           "sample_id": 0,
           "timepoint": 316,
           "trajectory": "I_data",
           "value": 38620
          },
          {
           "sample_id": 0,
           "timepoint": 317,
           "trajectory": "I_data",
           "value": 44988
          },
          {
           "sample_id": 0,
           "timepoint": 318,
           "trajectory": "I_data",
           "value": 48270
          },
          {
           "sample_id": 0,
           "timepoint": 319,
           "trajectory": "I_data",
           "value": 51334
          },
          {
           "sample_id": 0,
           "timepoint": 320,
           "trajectory": "I_data",
           "value": 51652
          },
          {
           "sample_id": 0,
           "timepoint": 321,
           "trajectory": "I_data",
           "value": 49939
          },
          {
           "sample_id": 0,
           "timepoint": 322,
           "trajectory": "I_data",
           "value": 47351
          },
          {
           "sample_id": 0,
           "timepoint": 323,
           "trajectory": "I_data",
           "value": 47421
          },
          {
           "sample_id": 0,
           "timepoint": 324,
           "trajectory": "I_data",
           "value": 48394
          },
          {
           "sample_id": 0,
           "timepoint": 325,
           "trajectory": "I_data",
           "value": 50941
          },
          {
           "sample_id": 0,
           "timepoint": 326,
           "trajectory": "I_data",
           "value": 53093
          },
          {
           "sample_id": 0,
           "timepoint": 327,
           "trajectory": "I_data",
           "value": 53973
          },
          {
           "sample_id": 0,
           "timepoint": 328,
           "trajectory": "I_data",
           "value": 51813
          },
          {
           "sample_id": 0,
           "timepoint": 329,
           "trajectory": "I_data",
           "value": 50108
          },
          {
           "sample_id": 0,
           "timepoint": 330,
           "trajectory": "I_data",
           "value": 50831
          },
          {
           "sample_id": 0,
           "timepoint": 331,
           "trajectory": "I_data",
           "value": 52896
          },
          {
           "sample_id": 0,
           "timepoint": 332,
           "trajectory": "I_data",
           "value": 52825
          },
          {
           "sample_id": 0,
           "timepoint": 333,
           "trajectory": "I_data",
           "value": 53166
          },
          {
           "sample_id": 0,
           "timepoint": 334,
           "trajectory": "I_data",
           "value": 53552
          },
          {
           "sample_id": 0,
           "timepoint": 335,
           "trajectory": "I_data",
           "value": 51222
          },
          {
           "sample_id": 0,
           "timepoint": 336,
           "trajectory": "I_data",
           "value": 49102
          },
          {
           "sample_id": 0,
           "timepoint": 337,
           "trajectory": "I_data",
           "value": 52059
          },
          {
           "sample_id": 0,
           "timepoint": 338,
           "trajectory": "I_data",
           "value": 55802
          },
          {
           "sample_id": 0,
           "timepoint": 339,
           "trajectory": "I_data",
           "value": 57126
          },
          {
           "sample_id": 0,
           "timepoint": 340,
           "trajectory": "I_data",
           "value": 55741
          },
          {
           "sample_id": 0,
           "timepoint": 341,
           "trajectory": "I_data",
           "value": 53477
          },
          {
           "sample_id": 0,
           "timepoint": 342,
           "trajectory": "I_data",
           "value": 50607
          },
          {
           "sample_id": 0,
           "timepoint": 343,
           "trajectory": "I_data",
           "value": 50478
          },
          {
           "sample_id": 0,
           "timepoint": 344,
           "trajectory": "I_data",
           "value": 54737
          },
          {
           "sample_id": 0,
           "timepoint": 345,
           "trajectory": "I_data",
           "value": 63762
          },
          {
           "sample_id": 0,
           "timepoint": 346,
           "trajectory": "I_data",
           "value": 71340
          },
          {
           "sample_id": 0,
           "timepoint": 347,
           "trajectory": "I_data",
           "value": 73418
          },
          {
           "sample_id": 0,
           "timepoint": 348,
           "trajectory": "I_data",
           "value": 71741
          },
          {
           "sample_id": 0,
           "timepoint": 349,
           "trajectory": "I_data",
           "value": 69493
          },
          {
           "sample_id": 0,
           "timepoint": 350,
           "trajectory": "I_data",
           "value": 68486
          },
          {
           "sample_id": 0,
           "timepoint": 351,
           "trajectory": "I_data",
           "value": 70226
          },
          {
           "sample_id": 0,
           "timepoint": 352,
           "trajectory": "I_data",
           "value": 77552
          },
          {
           "sample_id": 0,
           "timepoint": 353,
           "trajectory": "I_data",
           "value": 84149
          },
          {
           "sample_id": 0,
           "timepoint": 354,
           "trajectory": "I_data",
           "value": 87316
          },
          {
           "sample_id": 0,
           "timepoint": 355,
           "trajectory": "I_data",
           "value": 85467
          },
          {
           "sample_id": 0,
           "timepoint": 356,
           "trajectory": "I_data",
           "value": 82676
          },
          {
           "sample_id": 0,
           "timepoint": 357,
           "trajectory": "I_data",
           "value": 77821
          },
          {
           "sample_id": 0,
           "timepoint": 358,
           "trajectory": "I_data",
           "value": 74165
          },
          {
           "sample_id": 0,
           "timepoint": 359,
           "trajectory": "I_data",
           "value": 77325
          },
          {
           "sample_id": 0,
           "timepoint": 360,
           "trajectory": "I_data",
           "value": 79091
          },
          {
           "sample_id": 0,
           "timepoint": 361,
           "trajectory": "I_data",
           "value": 77990
          },
          {
           "sample_id": 0,
           "timepoint": 362,
           "trajectory": "I_data",
           "value": 76692
          },
          {
           "sample_id": 0,
           "timepoint": 363,
           "trajectory": "I_data",
           "value": 75228
          },
          {
           "sample_id": 0,
           "timepoint": 364,
           "trajectory": "I_data",
           "value": 66873
          },
          {
           "sample_id": 0,
           "timepoint": 365,
           "trajectory": "I_data",
           "value": 64836
          },
          {
           "sample_id": 0,
           "timepoint": 366,
           "trajectory": "I_data",
           "value": 66819
          },
          {
           "sample_id": 0,
           "timepoint": 367,
           "trajectory": "I_data",
           "value": 67314
          },
          {
           "sample_id": 0,
           "timepoint": 368,
           "trajectory": "I_data",
           "value": 66971
          },
          {
           "sample_id": 0,
           "timepoint": 369,
           "trajectory": "I_data",
           "value": 67829
          },
          {
           "sample_id": 0,
           "timepoint": 370,
           "trajectory": "I_data",
           "value": 64961
          },
          {
           "sample_id": 0,
           "timepoint": 371,
           "trajectory": "I_data",
           "value": 59645
          },
          {
           "sample_id": 0,
           "timepoint": 372,
           "trajectory": "I_data",
           "value": 59526
          },
          {
           "sample_id": 0,
           "timepoint": 373,
           "trajectory": "I_data",
           "value": 60099
          },
          {
           "sample_id": 0,
           "timepoint": 374,
           "trajectory": "I_data",
           "value": 61018
          },
          {
           "sample_id": 0,
           "timepoint": 375,
           "trajectory": "I_data",
           "value": 61186
          },
          {
           "sample_id": 0,
           "timepoint": 376,
           "trajectory": "I_data",
           "value": 59755
          },
          {
           "sample_id": 0,
           "timepoint": 377,
           "trajectory": "I_data",
           "value": 53922
          },
          {
           "sample_id": 0,
           "timepoint": 378,
           "trajectory": "I_data",
           "value": 48122
          },
          {
           "sample_id": 0,
           "timepoint": 379,
           "trajectory": "I_data",
           "value": 42202
          },
          {
           "sample_id": 0,
           "timepoint": 380,
           "trajectory": "I_data",
           "value": 38889
          },
          {
           "sample_id": 0,
           "timepoint": 381,
           "trajectory": "I_data",
           "value": 41444
          },
          {
           "sample_id": 0,
           "timepoint": 382,
           "trajectory": "I_data",
           "value": 43414
          },
          {
           "sample_id": 0,
           "timepoint": 383,
           "trajectory": "I_data",
           "value": 45234
          },
          {
           "sample_id": 0,
           "timepoint": 384,
           "trajectory": "I_data",
           "value": 46391
          },
          {
           "sample_id": 0,
           "timepoint": 385,
           "trajectory": "I_data",
           "value": 45060
          },
          {
           "sample_id": 0,
           "timepoint": 386,
           "trajectory": "I_data",
           "value": 43601
          },
          {
           "sample_id": 0,
           "timepoint": 387,
           "trajectory": "I_data",
           "value": 42384
          },
          {
           "sample_id": 0,
           "timepoint": 388,
           "trajectory": "I_data",
           "value": 42170
          },
          {
           "sample_id": 0,
           "timepoint": 389,
           "trajectory": "I_data",
           "value": 42370
          },
          {
           "sample_id": 0,
           "timepoint": 390,
           "trajectory": "I_data",
           "value": 42343
          },
          {
           "sample_id": 0,
           "timepoint": 391,
           "trajectory": "I_data",
           "value": 39026
          },
          {
           "sample_id": 0,
           "timepoint": 392,
           "trajectory": "I_data",
           "value": 36249
          },
          {
           "sample_id": 0,
           "timepoint": 393,
           "trajectory": "I_data",
           "value": 37166
          },
          {
           "sample_id": 0,
           "timepoint": 394,
           "trajectory": "I_data",
           "value": 37414
          },
          {
           "sample_id": 0,
           "timepoint": 395,
           "trajectory": "I_data",
           "value": 39116
          },
          {
           "sample_id": 0,
           "timepoint": 396,
           "trajectory": "I_data",
           "value": 38642
          },
          {
           "sample_id": 0,
           "timepoint": 397,
           "trajectory": "I_data",
           "value": 39010
          },
          {
           "sample_id": 0,
           "timepoint": 398,
           "trajectory": "I_data",
           "value": 36268
          },
          {
           "sample_id": 0,
           "timepoint": 399,
           "trajectory": "I_data",
           "value": 33832
          },
          {
           "sample_id": 0,
           "timepoint": 400,
           "trajectory": "I_data",
           "value": 34486
          },
          {
           "sample_id": 0,
           "timepoint": 401,
           "trajectory": "I_data",
           "value": 36320
          },
          {
           "sample_id": 0,
           "timepoint": 402,
           "trajectory": "I_data",
           "value": 38074
          },
          {
           "sample_id": 0,
           "timepoint": 403,
           "trajectory": "I_data",
           "value": 38972
          },
          {
           "sample_id": 0,
           "timepoint": 404,
           "trajectory": "I_data",
           "value": 39268
          },
          {
           "sample_id": 0,
           "timepoint": 405,
           "trajectory": "I_data",
           "value": 36782
          },
          {
           "sample_id": 0,
           "timepoint": 406,
           "trajectory": "I_data",
           "value": 35283
          },
          {
           "sample_id": 0,
           "timepoint": 407,
           "trajectory": "I_data",
           "value": 34714
          },
          {
           "sample_id": 0,
           "timepoint": 408,
           "trajectory": "I_data",
           "value": 35048
          },
          {
           "sample_id": 0,
           "timepoint": 409,
           "trajectory": "I_data",
           "value": 36751
          },
          {
           "sample_id": 0,
           "timepoint": 410,
           "trajectory": "I_data",
           "value": 38003
          },
          {
           "sample_id": 0,
           "timepoint": 411,
           "trajectory": "I_data",
           "value": 36876
          },
          {
           "sample_id": 0,
           "timepoint": 412,
           "trajectory": "I_data",
           "value": 36229
          },
          {
           "sample_id": 0,
           "timepoint": 413,
           "trajectory": "I_data",
           "value": 34159
          },
          {
           "sample_id": 0,
           "timepoint": 414,
           "trajectory": "I_data",
           "value": 33186
          },
          {
           "sample_id": 0,
           "timepoint": 415,
           "trajectory": "I_data",
           "value": 29771
          },
          {
           "sample_id": 0,
           "timepoint": 416,
           "trajectory": "I_data",
           "value": 34585
          },
          {
           "sample_id": 0,
           "timepoint": 417,
           "trajectory": "I_data",
           "value": 34426
          },
          {
           "sample_id": 0,
           "timepoint": 418,
           "trajectory": "I_data",
           "value": 35456
          },
          {
           "sample_id": 0,
           "timepoint": 419,
           "trajectory": "I_data",
           "value": 35001
          },
          {
           "sample_id": 0,
           "timepoint": 420,
           "trajectory": "I_data",
           "value": 37347
          },
          {
           "sample_id": 0,
           "timepoint": 421,
           "trajectory": "I_data",
           "value": 32604
          },
          {
           "sample_id": 0,
           "timepoint": 422,
           "trajectory": "I_data",
           "value": 31023
          },
          {
           "sample_id": 0,
           "timepoint": 423,
           "trajectory": "I_data",
           "value": 30573
          },
          {
           "sample_id": 0,
           "timepoint": 424,
           "trajectory": "I_data",
           "value": 27599
          },
          {
           "sample_id": 0,
           "timepoint": 425,
           "trajectory": "I_data",
           "value": 23807
          },
          {
           "sample_id": 0,
           "timepoint": 426,
           "trajectory": "I_data",
           "value": 21602
          },
          {
           "sample_id": 0,
           "timepoint": 427,
           "trajectory": "I_data",
           "value": 44150
          },
          {
           "sample_id": 0,
           "timepoint": 428,
           "trajectory": "I_data",
           "value": 46028
          },
          {
           "sample_id": 0,
           "timepoint": 429,
           "trajectory": "I_data",
           "value": 50353
          },
          {
           "sample_id": 0,
           "timepoint": 430,
           "trajectory": "I_data",
           "value": 56257
          },
          {
           "sample_id": 0,
           "timepoint": 431,
           "trajectory": "I_data",
           "value": 61853
          },
          {
           "sample_id": 0,
           "timepoint": 432,
           "trajectory": "I_data",
           "value": 42970
          },
          {
           "sample_id": 0,
           "timepoint": 433,
           "trajectory": "I_data",
           "value": 40271
          },
          {
           "sample_id": 0,
           "timepoint": 434,
           "trajectory": "I_data",
           "value": 39993
          },
          {
           "sample_id": 0,
           "timepoint": 435,
           "trajectory": "I_data",
           "value": 40468
          },
          {
           "sample_id": 0,
           "timepoint": 436,
           "trajectory": "I_data",
           "value": 39603
          },
          {
           "sample_id": 0,
           "timepoint": 437,
           "trajectory": "I_data",
           "value": 38592
          },
          {
           "sample_id": 0,
           "timepoint": 438,
           "trajectory": "I_data",
           "value": 40376
          },
          {
           "sample_id": 0,
           "timepoint": 439,
           "trajectory": "I_data",
           "value": 39255
          },
          {
           "sample_id": 0,
           "timepoint": 440,
           "trajectory": "I_data",
           "value": 36129
          },
          {
           "sample_id": 0,
           "timepoint": 441,
           "trajectory": "I_data",
           "value": 34713
          },
          {
           "sample_id": 0,
           "timepoint": 442,
           "trajectory": "I_data",
           "value": 35713
          },
          {
           "sample_id": 0,
           "timepoint": 443,
           "trajectory": "I_data",
           "value": 36737
          },
          {
           "sample_id": 0,
           "timepoint": 444,
           "trajectory": "I_data",
           "value": 37584
          },
          {
           "sample_id": 0,
           "timepoint": 445,
           "trajectory": "I_data",
           "value": 38161
          },
          {
           "sample_id": 0,
           "timepoint": 446,
           "trajectory": "I_data",
           "value": 37169
          },
          {
           "sample_id": 0,
           "timepoint": 447,
           "trajectory": "I_data",
           "value": 33446
          },
          {
           "sample_id": 0,
           "timepoint": 448,
           "trajectory": "I_data",
           "value": 30828
          },
          {
           "sample_id": 0,
           "timepoint": 449,
           "trajectory": "I_data",
           "value": 30361
          },
          {
           "sample_id": 0,
           "timepoint": 450,
           "trajectory": "I_data",
           "value": 30096
          },
          {
           "sample_id": 0,
           "timepoint": 451,
           "trajectory": "I_data",
           "value": 31060
          },
          {
           "sample_id": 0,
           "timepoint": 452,
           "trajectory": "I_data",
           "value": 31686
          },
          {
           "sample_id": 0,
           "timepoint": 453,
           "trajectory": "I_data",
           "value": 30673
          },
          {
           "sample_id": 0,
           "timepoint": 454,
           "trajectory": "I_data",
           "value": 28211
          },
          {
           "sample_id": 0,
           "timepoint": 455,
           "trajectory": "I_data",
           "value": 26142
          },
          {
           "sample_id": 0,
           "timepoint": 456,
           "trajectory": "I_data",
           "value": 24777
          },
          {
           "sample_id": 0,
           "timepoint": 457,
           "trajectory": "I_data",
           "value": 23979
          },
          {
           "sample_id": 0,
           "timepoint": 458,
           "trajectory": "I_data",
           "value": 23085
          },
          {
           "sample_id": 0,
           "timepoint": 459,
           "trajectory": "I_data",
           "value": 22572
          },
          {
           "sample_id": 0,
           "timepoint": 460,
           "trajectory": "I_data",
           "value": 21283
          },
          {
           "sample_id": 0,
           "timepoint": 461,
           "trajectory": "I_data",
           "value": 19364
          },
          {
           "sample_id": 0,
           "timepoint": 462,
           "trajectory": "I_data",
           "value": 17556
          },
          {
           "sample_id": 0,
           "timepoint": 463,
           "trajectory": "I_data",
           "value": 17318
          },
          {
           "sample_id": 0,
           "timepoint": 464,
           "trajectory": "I_data",
           "value": 17063
          },
          {
           "sample_id": 0,
           "timepoint": 465,
           "trajectory": "I_data",
           "value": 17934
          },
          {
           "sample_id": 0,
           "timepoint": 466,
           "trajectory": "I_data",
           "value": 17444
          },
          {
           "sample_id": 0,
           "timepoint": 467,
           "trajectory": "I_data",
           "value": 16823
          },
          {
           "sample_id": 0,
           "timepoint": 468,
           "trajectory": "I_data",
           "value": 15133
          },
          {
           "sample_id": 0,
           "timepoint": 469,
           "trajectory": "I_data",
           "value": 13723
          },
          {
           "sample_id": 0,
           "timepoint": 470,
           "trajectory": "I_data",
           "value": 12504
          },
          {
           "sample_id": 0,
           "timepoint": 471,
           "trajectory": "I_data",
           "value": 12148
          },
          {
           "sample_id": 0,
           "timepoint": 472,
           "trajectory": "I_data",
           "value": 12802
          },
          {
           "sample_id": 0,
           "timepoint": 473,
           "trajectory": "I_data",
           "value": 12968
          },
          {
           "sample_id": 0,
           "timepoint": 474,
           "trajectory": "I_data",
           "value": 12220
          },
          {
           "sample_id": 0,
           "timepoint": 475,
           "trajectory": "I_data",
           "value": 11018
          },
          {
           "sample_id": 0,
           "timepoint": 476,
           "trajectory": "I_data",
           "value": 10567
          },
          {
           "sample_id": 0,
           "timepoint": 477,
           "trajectory": "I_data",
           "value": 9682
          },
          {
           "sample_id": 0,
           "timepoint": 478,
           "trajectory": "I_data",
           "value": 9399
          },
          {
           "sample_id": 0,
           "timepoint": 479,
           "trajectory": "I_data",
           "value": 9545
          },
          {
           "sample_id": 0,
           "timepoint": 480,
           "trajectory": "I_data",
           "value": 9953
          },
          {
           "sample_id": 0,
           "timepoint": 481,
           "trajectory": "I_data",
           "value": 9292
          },
          {
           "sample_id": 0,
           "timepoint": 482,
           "trajectory": "I_data",
           "value": 8630
          },
          {
           "sample_id": 0,
           "timepoint": 483,
           "trajectory": "I_data",
           "value": 7878
          },
          {
           "sample_id": 0,
           "timepoint": 484,
           "trajectory": "I_data",
           "value": 7726
          },
          {
           "sample_id": 0,
           "timepoint": 485,
           "trajectory": "I_data",
           "value": 7441
          },
          {
           "sample_id": 0,
           "timepoint": 486,
           "trajectory": "I_data",
           "value": 7428
          },
          {
           "sample_id": 0,
           "timepoint": 487,
           "trajectory": "I_data",
           "value": 6972
          },
          {
           "sample_id": 0,
           "timepoint": 488,
           "trajectory": "I_data",
           "value": 6593
          },
          {
           "sample_id": 0,
           "timepoint": 489,
           "trajectory": "I_data",
           "value": 5867
          },
          {
           "sample_id": 0,
           "timepoint": 490,
           "trajectory": "I_data",
           "value": 5189
          },
          {
           "sample_id": 0,
           "timepoint": 491,
           "trajectory": "I_data",
           "value": 4996
          },
          {
           "sample_id": 0,
           "timepoint": 492,
           "trajectory": "I_data",
           "value": 4860
          },
          {
           "sample_id": 0,
           "timepoint": 493,
           "trajectory": "I_data",
           "value": 4782
          },
          {
           "sample_id": 0,
           "timepoint": 494,
           "trajectory": "I_data",
           "value": 4684
          },
          {
           "sample_id": 0,
           "timepoint": 495,
           "trajectory": "I_data",
           "value": 4311
          },
          {
           "sample_id": 0,
           "timepoint": 496,
           "trajectory": "I_data",
           "value": 3627
          },
          {
           "sample_id": 0,
           "timepoint": 497,
           "trajectory": "I_data",
           "value": 3091
          },
          {
           "sample_id": 0,
           "timepoint": 498,
           "trajectory": "I_data",
           "value": 2712
          },
          {
           "sample_id": 0,
           "timepoint": 499,
           "trajectory": "I_data",
           "value": 2660
          },
          {
           "sample_id": 0,
           "timepoint": 500,
           "trajectory": "I_data",
           "value": 2975
          },
          {
           "sample_id": 0,
           "timepoint": 501,
           "trajectory": "I_data",
           "value": 3014
          },
          {
           "sample_id": 0,
           "timepoint": 502,
           "trajectory": "I_data",
           "value": 3131
          },
          {
           "sample_id": 0,
           "timepoint": 503,
           "trajectory": "I_data",
           "value": 3092
          },
          {
           "sample_id": 0,
           "timepoint": 504,
           "trajectory": "I_data",
           "value": 2758
          },
          {
           "sample_id": 0,
           "timepoint": 505,
           "trajectory": "I_data",
           "value": 2461
          },
          {
           "sample_id": 0,
           "timepoint": 506,
           "trajectory": "I_data",
           "value": 2639
          },
          {
           "sample_id": 0,
           "timepoint": 507,
           "trajectory": "I_data",
           "value": 2563
          },
          {
           "sample_id": 0,
           "timepoint": 508,
           "trajectory": "I_data",
           "value": 2464
          },
          {
           "sample_id": 0,
           "timepoint": 509,
           "trajectory": "I_data",
           "value": 2391
          },
          {
           "sample_id": 0,
           "timepoint": 510,
           "trajectory": "I_data",
           "value": 2174
          },
          {
           "sample_id": 0,
           "timepoint": 511,
           "trajectory": "I_data",
           "value": 1799
          },
          {
           "sample_id": 0,
           "timepoint": 512,
           "trajectory": "I_data",
           "value": 1792
          },
          {
           "sample_id": 0,
           "timepoint": 513,
           "trajectory": "I_data",
           "value": 1844
          },
          {
           "sample_id": 0,
           "timepoint": 514,
           "trajectory": "I_data",
           "value": 1871
          },
          {
           "sample_id": 0,
           "timepoint": 515,
           "trajectory": "I_data",
           "value": 1840
          },
          {
           "sample_id": 0,
           "timepoint": 516,
           "trajectory": "I_data",
           "value": 1817
          },
          {
           "sample_id": 0,
           "timepoint": 517,
           "trajectory": "I_data",
           "value": 1636
          },
          {
           "sample_id": 0,
           "timepoint": 518,
           "trajectory": "I_data",
           "value": 1481
          },
          {
           "sample_id": 0,
           "timepoint": 519,
           "trajectory": "I_data",
           "value": 1492
          },
          {
           "sample_id": 0,
           "timepoint": 520,
           "trajectory": "I_data",
           "value": 1552
          },
          {
           "sample_id": 0,
           "timepoint": 521,
           "trajectory": "I_data",
           "value": 1617
          },
          {
           "sample_id": 0,
           "timepoint": 522,
           "trajectory": "I_data",
           "value": 1743
          },
          {
           "sample_id": 0,
           "timepoint": 523,
           "trajectory": "I_data",
           "value": 1793
          },
          {
           "sample_id": 0,
           "timepoint": 524,
           "trajectory": "I_data",
           "value": 1646
          },
          {
           "sample_id": 0,
           "timepoint": 525,
           "trajectory": "I_data",
           "value": 1589
          },
          {
           "sample_id": 0,
           "timepoint": 526,
           "trajectory": "I_data",
           "value": 1632
          },
          {
           "sample_id": 0,
           "timepoint": 527,
           "trajectory": "I_data",
           "value": 1761
          },
          {
           "sample_id": 0,
           "timepoint": 528,
           "trajectory": "I_data",
           "value": 1737
          },
          {
           "sample_id": 0,
           "timepoint": 529,
           "trajectory": "I_data",
           "value": 1831
          },
          {
           "sample_id": 0,
           "timepoint": 530,
           "trajectory": "I_data",
           "value": 1904
          },
          {
           "sample_id": 0,
           "timepoint": 531,
           "trajectory": "I_data",
           "value": 1816
          },
          {
           "sample_id": 0,
           "timepoint": 532,
           "trajectory": "I_data",
           "value": 1671
          },
          {
           "sample_id": 0,
           "timepoint": 533,
           "trajectory": "I_data",
           "value": 2053
          },
          {
           "sample_id": 0,
           "timepoint": 534,
           "trajectory": "I_data",
           "value": 2449
          },
          {
           "sample_id": 0,
           "timepoint": 535,
           "trajectory": "I_data",
           "value": 2813
          },
          {
           "sample_id": 0,
           "timepoint": 536,
           "trajectory": "I_data",
           "value": 3304
          },
          {
           "sample_id": 0,
           "timepoint": 537,
           "trajectory": "I_data",
           "value": 3575
          },
          {
           "sample_id": 0,
           "timepoint": 538,
           "trajectory": "I_data",
           "value": 3547
          },
          {
           "sample_id": 0,
           "timepoint": 539,
           "trajectory": "I_data",
           "value": 3541
          },
          {
           "sample_id": 0,
           "timepoint": 540,
           "trajectory": "I_data",
           "value": 3756
          },
          {
           "sample_id": 0,
           "timepoint": 541,
           "trajectory": "I_data",
           "value": 3678
          },
          {
           "sample_id": 0,
           "timepoint": 542,
           "trajectory": "I_data",
           "value": 4414
          },
          {
           "sample_id": 0,
           "timepoint": 543,
           "trajectory": "I_data",
           "value": 4917
          },
          {
           "sample_id": 0,
           "timepoint": 544,
           "trajectory": "I_data",
           "value": 5090
          },
          {
           "sample_id": 0,
           "timepoint": 545,
           "trajectory": "I_data",
           "value": 5256
          },
          {
           "sample_id": 0,
           "timepoint": 546,
           "trajectory": "I_data",
           "value": 5730
          },
          {
           "sample_id": 0,
           "timepoint": 547,
           "trajectory": "I_data",
           "value": 5999
          },
          {
           "sample_id": 0,
           "timepoint": 548,
           "trajectory": "I_data",
           "value": 6586
          },
          {
           "sample_id": 0,
           "timepoint": 549,
           "trajectory": "I_data",
           "value": 7568
          },
          {
           "sample_id": 0,
           "timepoint": 550,
           "trajectory": "I_data",
           "value": 7323
          },
          {
           "sample_id": 0,
           "timepoint": 551,
           "trajectory": "I_data",
           "value": 8742
          },
          {
           "sample_id": 0,
           "timepoint": 552,
           "trajectory": "I_data",
           "value": 8721
          },
          {
           "sample_id": 0,
           "timepoint": 553,
           "trajectory": "I_data",
           "value": 8864
          },
          {
           "sample_id": 0,
           "timepoint": 554,
           "trajectory": "I_data",
           "value": 9581
          },
          {
           "sample_id": 0,
           "timepoint": 555,
           "trajectory": "I_data",
           "value": 11286
          },
          {
           "sample_id": 0,
           "timepoint": 556,
           "trajectory": "I_data",
           "value": 11748
          },
          {
           "sample_id": 0,
           "timepoint": 557,
           "trajectory": "I_data",
           "value": 12707
          },
          {
           "sample_id": 0,
           "timepoint": 558,
           "trajectory": "I_data",
           "value": 13226
          },
          {
           "sample_id": 0,
           "timepoint": 559,
           "trajectory": "I_data",
           "value": 13642
          },
          {
           "sample_id": 0,
           "timepoint": 560,
           "trajectory": "I_data",
           "value": 13990
          },
          {
           "sample_id": 0,
           "timepoint": 561,
           "trajectory": "I_data",
           "value": 14454
          },
          {
           "sample_id": 0,
           "timepoint": 562,
           "trajectory": "I_data",
           "value": 15621
          },
          {
           "sample_id": 0,
           "timepoint": 563,
           "trajectory": "I_data",
           "value": 17715
          },
          {
           "sample_id": 0,
           "timepoint": 564,
           "trajectory": "I_data",
           "value": 18270
          },
          {
           "sample_id": 0,
           "timepoint": 565,
           "trajectory": "I_data",
           "value": 17412
          },
          {
           "sample_id": 0,
           "timepoint": 566,
           "trajectory": "I_data",
           "value": 15849
          },
          {
           "sample_id": 0,
           "timepoint": 567,
           "trajectory": "I_data",
           "value": 18751
          },
          {
           "sample_id": 0,
           "timepoint": 568,
           "trajectory": "I_data",
           "value": 19141
          },
          {
           "sample_id": 0,
           "timepoint": 79,
           "trajectory": "H_data",
           "value": 0
          },
          {
           "sample_id": 0,
           "timepoint": 80,
           "trajectory": "H_data",
           "value": 0
          },
          {
           "sample_id": 0,
           "timepoint": 86,
           "trajectory": "H_data",
           "value": 0
          },
          {
           "sample_id": 0,
           "timepoint": 87,
           "trajectory": "H_data",
           "value": 1
          },
          {
           "sample_id": 0,
           "timepoint": 93,
           "trajectory": "H_data",
           "value": 0
          },
          {
           "sample_id": 0,
           "timepoint": 94,
           "trajectory": "H_data",
           "value": 0
          },
          {
           "sample_id": 0,
           "timepoint": 95,
           "trajectory": "H_data",
           "value": 1
          },
          {
           "sample_id": 0,
           "timepoint": 96,
           "trajectory": "H_data",
           "value": 0
          },
          {
           "sample_id": 0,
           "timepoint": 97,
           "trajectory": "H_data",
           "value": 0
          },
          {
           "sample_id": 0,
           "timepoint": 98,
           "trajectory": "H_data",
           "value": 0
          },
          {
           "sample_id": 0,
           "timepoint": 99,
           "trajectory": "H_data",
           "value": 0
          },
          {
           "sample_id": 0,
           "timepoint": 100,
           "trajectory": "H_data",
           "value": 0
          },
          {
           "sample_id": 0,
           "timepoint": 101,
           "trajectory": "H_data",
           "value": 0
          },
          {
           "sample_id": 0,
           "timepoint": 102,
           "trajectory": "H_data",
           "value": 0
          },
          {
           "sample_id": 0,
           "timepoint": 103,
           "trajectory": "H_data",
           "value": 0
          },
          {
           "sample_id": 0,
           "timepoint": 104,
           "trajectory": "H_data",
           "value": 0
          },
          {
           "sample_id": 0,
           "timepoint": 105,
           "trajectory": "H_data",
           "value": 1
          },
          {
           "sample_id": 0,
           "timepoint": 106,
           "trajectory": "H_data",
           "value": 0
          },
          {
           "sample_id": 0,
           "timepoint": 107,
           "trajectory": "H_data",
           "value": 0
          },
          {
           "sample_id": 0,
           "timepoint": 108,
           "trajectory": "H_data",
           "value": 0
          },
          {
           "sample_id": 0,
           "timepoint": 109,
           "trajectory": "H_data",
           "value": 1
          },
          {
           "sample_id": 0,
           "timepoint": 110,
           "trajectory": "H_data",
           "value": 0
          },
          {
           "sample_id": 0,
           "timepoint": 111,
           "trajectory": "H_data",
           "value": 0
          },
          {
           "sample_id": 0,
           "timepoint": 113,
           "trajectory": "H_data",
           "value": 0
          },
          {
           "sample_id": 0,
           "timepoint": 114,
           "trajectory": "H_data",
           "value": 0
          },
          {
           "sample_id": 0,
           "timepoint": 115,
           "trajectory": "H_data",
           "value": 0
          },
          {
           "sample_id": 0,
           "timepoint": 116,
           "trajectory": "H_data",
           "value": 1
          },
          {
           "sample_id": 0,
           "timepoint": 117,
           "trajectory": "H_data",
           "value": 1
          },
          {
           "sample_id": 0,
           "timepoint": 118,
           "trajectory": "H_data",
           "value": 1
          },
          {
           "sample_id": 0,
           "timepoint": 119,
           "trajectory": "H_data",
           "value": 1
          },
          {
           "sample_id": 0,
           "timepoint": 120,
           "trajectory": "H_data",
           "value": 0
          },
          {
           "sample_id": 0,
           "timepoint": 121,
           "trajectory": "H_data",
           "value": 1
          },
          {
           "sample_id": 0,
           "timepoint": 122,
           "trajectory": "H_data",
           "value": 0
          },
          {
           "sample_id": 0,
           "timepoint": 123,
           "trajectory": "H_data",
           "value": 0
          },
          {
           "sample_id": 0,
           "timepoint": 124,
           "trajectory": "H_data",
           "value": 1
          },
          {
           "sample_id": 0,
           "timepoint": 125,
           "trajectory": "H_data",
           "value": 0
          },
          {
           "sample_id": 0,
           "timepoint": 126,
           "trajectory": "H_data",
           "value": 0
          },
          {
           "sample_id": 0,
           "timepoint": 127,
           "trajectory": "H_data",
           "value": 0
          },
          {
           "sample_id": 0,
           "timepoint": 128,
           "trajectory": "H_data",
           "value": 0
          },
          {
           "sample_id": 0,
           "timepoint": 129,
           "trajectory": "H_data",
           "value": 0
          },
          {
           "sample_id": 0,
           "timepoint": 130,
           "trajectory": "H_data",
           "value": 0
          },
          {
           "sample_id": 0,
           "timepoint": 131,
           "trajectory": "H_data",
           "value": 0
          },
          {
           "sample_id": 0,
           "timepoint": 132,
           "trajectory": "H_data",
           "value": 2
          },
          {
           "sample_id": 0,
           "timepoint": 133,
           "trajectory": "H_data",
           "value": 0
          },
          {
           "sample_id": 0,
           "timepoint": 134,
           "trajectory": "H_data",
           "value": 1
          },
          {
           "sample_id": 0,
           "timepoint": 135,
           "trajectory": "H_data",
           "value": 0
          },
          {
           "sample_id": 0,
           "timepoint": 136,
           "trajectory": "H_data",
           "value": 0
          },
          {
           "sample_id": 0,
           "timepoint": 137,
           "trajectory": "H_data",
           "value": 0
          },
          {
           "sample_id": 0,
           "timepoint": 138,
           "trajectory": "H_data",
           "value": 0
          },
          {
           "sample_id": 0,
           "timepoint": 139,
           "trajectory": "H_data",
           "value": 0
          },
          {
           "sample_id": 0,
           "timepoint": 140,
           "trajectory": "H_data",
           "value": 1
          },
          {
           "sample_id": 0,
           "timepoint": 141,
           "trajectory": "H_data",
           "value": 0
          },
          {
           "sample_id": 0,
           "timepoint": 142,
           "trajectory": "H_data",
           "value": 0
          },
          {
           "sample_id": 0,
           "timepoint": 143,
           "trajectory": "H_data",
           "value": 0
          },
          {
           "sample_id": 0,
           "timepoint": 144,
           "trajectory": "H_data",
           "value": 0
          },
          {
           "sample_id": 0,
           "timepoint": 145,
           "trajectory": "H_data",
           "value": 0
          },
          {
           "sample_id": 0,
           "timepoint": 146,
           "trajectory": "H_data",
           "value": 0
          },
          {
           "sample_id": 0,
           "timepoint": 147,
           "trajectory": "H_data",
           "value": 0
          },
          {
           "sample_id": 0,
           "timepoint": 148,
           "trajectory": "H_data",
           "value": 0
          },
          {
           "sample_id": 0,
           "timepoint": 149,
           "trajectory": "H_data",
           "value": 0
          },
          {
           "sample_id": 0,
           "timepoint": 150,
           "trajectory": "H_data",
           "value": 0
          },
          {
           "sample_id": 0,
           "timepoint": 151,
           "trajectory": "H_data",
           "value": 0
          },
          {
           "sample_id": 0,
           "timepoint": 152,
           "trajectory": "H_data",
           "value": 0
          },
          {
           "sample_id": 0,
           "timepoint": 153,
           "trajectory": "H_data",
           "value": 0
          },
          {
           "sample_id": 0,
           "timepoint": 154,
           "trajectory": "H_data",
           "value": 0
          },
          {
           "sample_id": 0,
           "timepoint": 155,
           "trajectory": "H_data",
           "value": 0
          },
          {
           "sample_id": 0,
           "timepoint": 156,
           "trajectory": "H_data",
           "value": 0
          },
          {
           "sample_id": 0,
           "timepoint": 157,
           "trajectory": "H_data",
           "value": 0
          },
          {
           "sample_id": 0,
           "timepoint": 158,
           "trajectory": "H_data",
           "value": 0
          },
          {
           "sample_id": 0,
           "timepoint": 159,
           "trajectory": "H_data",
           "value": 0
          },
          {
           "sample_id": 0,
           "timepoint": 160,
           "trajectory": "H_data",
           "value": 0
          },
          {
           "sample_id": 0,
           "timepoint": 161,
           "trajectory": "H_data",
           "value": 0
          },
          {
           "sample_id": 0,
           "timepoint": 162,
           "trajectory": "H_data",
           "value": 0
          },
          {
           "sample_id": 0,
           "timepoint": 163,
           "trajectory": "H_data",
           "value": 0
          },
          {
           "sample_id": 0,
           "timepoint": 164,
           "trajectory": "H_data",
           "value": 0
          },
          {
           "sample_id": 0,
           "timepoint": 165,
           "trajectory": "H_data",
           "value": 0
          },
          {
           "sample_id": 0,
           "timepoint": 166,
           "trajectory": "H_data",
           "value": 0
          },
          {
           "sample_id": 0,
           "timepoint": 167,
           "trajectory": "H_data",
           "value": 0
          },
          {
           "sample_id": 0,
           "timepoint": 168,
           "trajectory": "H_data",
           "value": 0
          },
          {
           "sample_id": 0,
           "timepoint": 169,
           "trajectory": "H_data",
           "value": 0
          },
          {
           "sample_id": 0,
           "timepoint": 170,
           "trajectory": "H_data",
           "value": 0
          },
          {
           "sample_id": 0,
           "timepoint": 171,
           "trajectory": "H_data",
           "value": 0
          },
          {
           "sample_id": 0,
           "timepoint": 172,
           "trajectory": "H_data",
           "value": 0
          },
          {
           "sample_id": 0,
           "timepoint": 173,
           "trajectory": "H_data",
           "value": 0
          },
          {
           "sample_id": 0,
           "timepoint": 174,
           "trajectory": "H_data",
           "value": 54
          },
          {
           "sample_id": 0,
           "timepoint": 175,
           "trajectory": "H_data",
           "value": 68
          },
          {
           "sample_id": 0,
           "timepoint": 176,
           "trajectory": "H_data",
           "value": 68
          },
          {
           "sample_id": 0,
           "timepoint": 177,
           "trajectory": "H_data",
           "value": 55
          },
          {
           "sample_id": 0,
           "timepoint": 178,
           "trajectory": "H_data",
           "value": 25
          },
          {
           "sample_id": 0,
           "timepoint": 179,
           "trajectory": "H_data",
           "value": 45
          },
          {
           "sample_id": 0,
           "timepoint": 180,
           "trajectory": "H_data",
           "value": 113
          },
          {
           "sample_id": 0,
           "timepoint": 181,
           "trajectory": "H_data",
           "value": 145
          },
          {
           "sample_id": 0,
           "timepoint": 182,
           "trajectory": "H_data",
           "value": 60
          },
          {
           "sample_id": 0,
           "timepoint": 183,
           "trajectory": "H_data",
           "value": 62
          },
          {
           "sample_id": 0,
           "timepoint": 184,
           "trajectory": "H_data",
           "value": 78
          },
          {
           "sample_id": 0,
           "timepoint": 185,
           "trajectory": "H_data",
           "value": 72
          },
          {
           "sample_id": 0,
           "timepoint": 186,
           "trajectory": "H_data",
           "value": 73
          },
          {
           "sample_id": 0,
           "timepoint": 187,
           "trajectory": "H_data",
           "value": 68
          },
          {
           "sample_id": 0,
           "timepoint": 188,
           "trajectory": "H_data",
           "value": 78
          },
          {
           "sample_id": 0,
           "timepoint": 189,
           "trajectory": "H_data",
           "value": 89
          },
          {
           "sample_id": 0,
           "timepoint": 190,
           "trajectory": "H_data",
           "value": 73
          },
          {
           "sample_id": 0,
           "timepoint": 191,
           "trajectory": "H_data",
           "value": 74
          },
          {
           "sample_id": 0,
           "timepoint": 192,
           "trajectory": "H_data",
           "value": 69
          },
          {
           "sample_id": 0,
           "timepoint": 193,
           "trajectory": "H_data",
           "value": 88
          },
          {
           "sample_id": 0,
           "timepoint": 194,
           "trajectory": "H_data",
           "value": 76
          },
          {
           "sample_id": 0,
           "timepoint": 195,
           "trajectory": "H_data",
           "value": 73
          },
          {
           "sample_id": 0,
           "timepoint": 196,
           "trajectory": "H_data",
           "value": 86
          },
          {
           "sample_id": 0,
           "timepoint": 197,
           "trajectory": "H_data",
           "value": 79
          },
          {
           "sample_id": 0,
           "timepoint": 198,
           "trajectory": "H_data",
           "value": 68
          },
          {
           "sample_id": 0,
           "timepoint": 199,
           "trajectory": "H_data",
           "value": 56
          },
          {
           "sample_id": 0,
           "timepoint": 200,
           "trajectory": "H_data",
           "value": 66
          },
          {
           "sample_id": 0,
           "timepoint": 201,
           "trajectory": "H_data",
           "value": 90
          },
          {
           "sample_id": 0,
           "timepoint": 202,
           "trajectory": "H_data",
           "value": 72
          },
          {
           "sample_id": 0,
           "timepoint": 203,
           "trajectory": "H_data",
           "value": 79
          },
          {
           "sample_id": 0,
           "timepoint": 204,
           "trajectory": "H_data",
           "value": 75
          },
          {
           "sample_id": 0,
           "timepoint": 205,
           "trajectory": "H_data",
           "value": 75
          },
          {
           "sample_id": 0,
           "timepoint": 206,
           "trajectory": "H_data",
           "value": 63
          },
          {
           "sample_id": 0,
           "timepoint": 207,
           "trajectory": "H_data",
           "value": 55
          },
          {
           "sample_id": 0,
           "timepoint": 208,
           "trajectory": "H_data",
           "value": 89
          },
          {
           "sample_id": 0,
           "timepoint": 209,
           "trajectory": "H_data",
           "value": 72
          },
          {
           "sample_id": 0,
           "timepoint": 210,
           "trajectory": "H_data",
           "value": 74
          },
          {
           "sample_id": 0,
           "timepoint": 211,
           "trajectory": "H_data",
           "value": 69
          },
          {
           "sample_id": 0,
           "timepoint": 212,
           "trajectory": "H_data",
           "value": 455
          },
          {
           "sample_id": 0,
           "timepoint": 213,
           "trajectory": "H_data",
           "value": 73
          },
          {
           "sample_id": 0,
           "timepoint": 214,
           "trajectory": "H_data",
           "value": 62
          },
          {
           "sample_id": 0,
           "timepoint": 215,
           "trajectory": "H_data",
           "value": 78
          },
          {
           "sample_id": 0,
           "timepoint": 216,
           "trajectory": "H_data",
           "value": 80
          },
          {
           "sample_id": 0,
           "timepoint": 217,
           "trajectory": "H_data",
           "value": 84
          },
          {
           "sample_id": 0,
           "timepoint": 218,
           "trajectory": "H_data",
           "value": 81
          },
          {
           "sample_id": 0,
           "timepoint": 219,
           "trajectory": "H_data",
           "value": 66
          },
          {
           "sample_id": 0,
           "timepoint": 220,
           "trajectory": "H_data",
           "value": 56
          },
          {
           "sample_id": 0,
           "timepoint": 221,
           "trajectory": "H_data",
           "value": 62
          },
          {
           "sample_id": 0,
           "timepoint": 222,
           "trajectory": "H_data",
           "value": 90
          },
          {
           "sample_id": 0,
           "timepoint": 223,
           "trajectory": "H_data",
           "value": 60
          },
          {
           "sample_id": 0,
           "timepoint": 224,
           "trajectory": "H_data",
           "value": 73
          },
          {
           "sample_id": 0,
           "timepoint": 225,
           "trajectory": "H_data",
           "value": 83
          },
          {
           "sample_id": 0,
           "timepoint": 226,
           "trajectory": "H_data",
           "value": 74
          },
          {
           "sample_id": 0,
           "timepoint": 227,
           "trajectory": "H_data",
           "value": 67
          },
          {
           "sample_id": 0,
           "timepoint": 228,
           "trajectory": "H_data",
           "value": 78
          },
          {
           "sample_id": 0,
           "timepoint": 229,
           "trajectory": "H_data",
           "value": 83
          },
          {
           "sample_id": 0,
           "timepoint": 230,
           "trajectory": "H_data",
           "value": 103
          },
          {
           "sample_id": 0,
           "timepoint": 231,
           "trajectory": "H_data",
           "value": 94
          },
          {
           "sample_id": 0,
           "timepoint": 232,
           "trajectory": "H_data",
           "value": 82
          },
          {
           "sample_id": 0,
           "timepoint": 233,
           "trajectory": "H_data",
           "value": 89
          },
          {
           "sample_id": 0,
           "timepoint": 234,
           "trajectory": "H_data",
           "value": 75
          },
          {
           "sample_id": 0,
           "timepoint": 235,
           "trajectory": "H_data",
           "value": 85
          },
          {
           "sample_id": 0,
           "timepoint": 236,
           "trajectory": "H_data",
           "value": 78
          },
          {
           "sample_id": 0,
           "timepoint": 237,
           "trajectory": "H_data",
           "value": 92
          },
          {
           "sample_id": 0,
           "timepoint": 238,
           "trajectory": "H_data",
           "value": 94
          },
          {
           "sample_id": 0,
           "timepoint": 239,
           "trajectory": "H_data",
           "value": 84
          },
          {
           "sample_id": 0,
           "timepoint": 240,
           "trajectory": "H_data",
           "value": 107
          },
          {
           "sample_id": 0,
           "timepoint": 241,
           "trajectory": "H_data",
           "value": 67
          },
          {
           "sample_id": 0,
           "timepoint": 242,
           "trajectory": "H_data",
           "value": 78
          },
          {
           "sample_id": 0,
           "timepoint": 243,
           "trajectory": "H_data",
           "value": 91
          },
          {
           "sample_id": 0,
           "timepoint": 244,
           "trajectory": "H_data",
           "value": 103
          },
          {
           "sample_id": 0,
           "timepoint": 245,
           "trajectory": "H_data",
           "value": 118
          },
          {
           "sample_id": 0,
           "timepoint": 246,
           "trajectory": "H_data",
           "value": 118
          },
          {
           "sample_id": 0,
           "timepoint": 247,
           "trajectory": "H_data",
           "value": 109
          },
          {
           "sample_id": 0,
           "timepoint": 248,
           "trajectory": "H_data",
           "value": 91
          },
          {
           "sample_id": 0,
           "timepoint": 249,
           "trajectory": "H_data",
           "value": 227
          },
          {
           "sample_id": 0,
           "timepoint": 250,
           "trajectory": "H_data",
           "value": 115
          },
          {
           "sample_id": 0,
           "timepoint": 251,
           "trajectory": "H_data",
           "value": 106
          },
          {
           "sample_id": 0,
           "timepoint": 252,
           "trajectory": "H_data",
           "value": 132
          },
          {
           "sample_id": 0,
           "timepoint": 253,
           "trajectory": "H_data",
           "value": 98
          },
          {
           "sample_id": 0,
           "timepoint": 254,
           "trajectory": "H_data",
           "value": 104
          },
          {
           "sample_id": 0,
           "timepoint": 255,
           "trajectory": "H_data",
           "value": 85
          },
          {
           "sample_id": 0,
           "timepoint": 256,
           "trajectory": "H_data",
           "value": 113
          },
          {
           "sample_id": 0,
           "timepoint": 257,
           "trajectory": "H_data",
           "value": 138
          },
          {
           "sample_id": 0,
           "timepoint": 258,
           "trajectory": "H_data",
           "value": 115
          },
          {
           "sample_id": 0,
           "timepoint": 259,
           "trajectory": "H_data",
           "value": 133
          },
          {
           "sample_id": 0,
           "timepoint": 260,
           "trajectory": "H_data",
           "value": 157
          },
          {
           "sample_id": 0,
           "timepoint": 261,
           "trajectory": "H_data",
           "value": 150
          },
          {
           "sample_id": 0,
           "timepoint": 262,
           "trajectory": "H_data",
           "value": 149
          },
          {
           "sample_id": 0,
           "timepoint": 263,
           "trajectory": "H_data",
           "value": 141
          },
          {
           "sample_id": 0,
           "timepoint": 264,
           "trajectory": "H_data",
           "value": 156
          },
          {
           "sample_id": 0,
           "timepoint": 265,
           "trajectory": "H_data",
           "value": 161
          },
          {
           "sample_id": 0,
           "timepoint": 266,
           "trajectory": "H_data",
           "value": 150
          },
          {
           "sample_id": 0,
           "timepoint": 267,
           "trajectory": "H_data",
           "value": 146
          },
          {
           "sample_id": 0,
           "timepoint": 268,
           "trajectory": "H_data",
           "value": 163
          },
          {
           "sample_id": 0,
           "timepoint": 269,
           "trajectory": "H_data",
           "value": 109
          },
          {
           "sample_id": 0,
           "timepoint": 270,
           "trajectory": "H_data",
           "value": 114
          },
          {
           "sample_id": 0,
           "timepoint": 271,
           "trajectory": "H_data",
           "value": 141
          },
          {
           "sample_id": 0,
           "timepoint": 272,
           "trajectory": "H_data",
           "value": 176
          },
          {
           "sample_id": 0,
           "timepoint": 273,
           "trajectory": "H_data",
           "value": 157
          },
          {
           "sample_id": 0,
           "timepoint": 274,
           "trajectory": "H_data",
           "value": 165
          },
          {
           "sample_id": 0,
           "timepoint": 275,
           "trajectory": "H_data",
           "value": 146
          },
          {
           "sample_id": 0,
           "timepoint": 276,
           "trajectory": "H_data",
           "value": 137
          },
          {
           "sample_id": 0,
           "timepoint": 277,
           "trajectory": "H_data",
           "value": 114
          },
          {
           "sample_id": 0,
           "timepoint": 278,
           "trajectory": "H_data",
           "value": 157
          },
          {
           "sample_id": 0,
           "timepoint": 279,
           "trajectory": "H_data",
           "value": 167
          },
          {
           "sample_id": 0,
           "timepoint": 280,
           "trajectory": "H_data",
           "value": 151
          },
          {
           "sample_id": 0,
           "timepoint": 281,
           "trajectory": "H_data",
           "value": 163
          },
          {
           "sample_id": 0,
           "timepoint": 282,
           "trajectory": "H_data",
           "value": 140
          },
          {
           "sample_id": 0,
           "timepoint": 283,
           "trajectory": "H_data",
           "value": 126
          },
          {
           "sample_id": 0,
           "timepoint": 284,
           "trajectory": "H_data",
           "value": 144
          },
          {
           "sample_id": 0,
           "timepoint": 285,
           "trajectory": "H_data",
           "value": 201
          },
          {
           "sample_id": 0,
           "timepoint": 286,
           "trajectory": "H_data",
           "value": 260
          },
          {
           "sample_id": 0,
           "timepoint": 287,
           "trajectory": "H_data",
           "value": 288
          },
          {
           "sample_id": 0,
           "timepoint": 288,
           "trajectory": "H_data",
           "value": 315
          },
          {
           "sample_id": 0,
           "timepoint": 289,
           "trajectory": "H_data",
           "value": 298
          },
          {
           "sample_id": 0,
           "timepoint": 290,
           "trajectory": "H_data",
           "value": 293
          },
          {
           "sample_id": 0,
           "timepoint": 291,
           "trajectory": "H_data",
           "value": 206
          },
          {
           "sample_id": 0,
           "timepoint": 292,
           "trajectory": "H_data",
           "value": 363
          },
          {
           "sample_id": 0,
           "timepoint": 293,
           "trajectory": "H_data",
           "value": 425
          },
          {
           "sample_id": 0,
           "timepoint": 294,
           "trajectory": "H_data",
           "value": 452
          },
          {
           "sample_id": 0,
           "timepoint": 295,
           "trajectory": "H_data",
           "value": 450
          },
          {
           "sample_id": 0,
           "timepoint": 296,
           "trajectory": "H_data",
           "value": 403
          },
          {
           "sample_id": 0,
           "timepoint": 297,
           "trajectory": "H_data",
           "value": 386
          },
          {
           "sample_id": 0,
           "timepoint": 298,
           "trajectory": "H_data",
           "value": 316
          },
          {
           "sample_id": 0,
           "timepoint": 299,
           "trajectory": "H_data",
           "value": 380
          },
          {
           "sample_id": 0,
           "timepoint": 300,
           "trajectory": "H_data",
           "value": 452
          },
          {
           "sample_id": 0,
           "timepoint": 301,
           "trajectory": "H_data",
           "value": 471
          },
          {
           "sample_id": 0,
           "timepoint": 302,
           "trajectory": "H_data",
           "value": 500
          },
          {
           "sample_id": 0,
           "timepoint": 303,
           "trajectory": "H_data",
           "value": 534
          },
          {
           "sample_id": 0,
           "timepoint": 304,
           "trajectory": "H_data",
           "value": 462
          },
          {
           "sample_id": 0,
           "timepoint": 305,
           "trajectory": "H_data",
           "value": 476
          },
          {
           "sample_id": 0,
           "timepoint": 306,
           "trajectory": "H_data",
           "value": 580
          },
          {
           "sample_id": 0,
           "timepoint": 307,
           "trajectory": "H_data",
           "value": 578
          },
          {
           "sample_id": 0,
           "timepoint": 308,
           "trajectory": "H_data",
           "value": 567
          },
          {
           "sample_id": 0,
           "timepoint": 309,
           "trajectory": "H_data",
           "value": 540
          },
          {
           "sample_id": 0,
           "timepoint": 310,
           "trajectory": "H_data",
           "value": 625
          },
          {
           "sample_id": 0,
           "timepoint": 311,
           "trajectory": "H_data",
           "value": 569
          },
          {
           "sample_id": 0,
           "timepoint": 312,
           "trajectory": "H_data",
           "value": 521
          },
          {
           "sample_id": 0,
           "timepoint": 313,
           "trajectory": "H_data",
           "value": 609
          },
          {
           "sample_id": 0,
           "timepoint": 314,
           "trajectory": "H_data",
           "value": 734
          },
          {
           "sample_id": 0,
           "timepoint": 315,
           "trajectory": "H_data",
           "value": 677
          },
          {
           "sample_id": 0,
           "timepoint": 316,
           "trajectory": "H_data",
           "value": 751
          },
          {
           "sample_id": 0,
           "timepoint": 317,
           "trajectory": "H_data",
           "value": 747
          },
          {
           "sample_id": 0,
           "timepoint": 318,
           "trajectory": "H_data",
           "value": 678
          },
          {
           "sample_id": 0,
           "timepoint": 319,
           "trajectory": "H_data",
           "value": 607
          },
          {
           "sample_id": 0,
           "timepoint": 320,
           "trajectory": "H_data",
           "value": 759
          },
          {
           "sample_id": 0,
           "timepoint": 321,
           "trajectory": "H_data",
           "value": 888
          },
          {
           "sample_id": 0,
           "timepoint": 322,
           "trajectory": "H_data",
           "value": 891
          },
          {
           "sample_id": 0,
           "timepoint": 323,
           "trajectory": "H_data",
           "value": 865
          },
          {
           "sample_id": 0,
           "timepoint": 324,
           "trajectory": "H_data",
           "value": 896
          },
          {
           "sample_id": 0,
           "timepoint": 325,
           "trajectory": "H_data",
           "value": 796
          },
          {
           "sample_id": 0,
           "timepoint": 326,
           "trajectory": "H_data",
           "value": 766
          },
          {
           "sample_id": 0,
           "timepoint": 327,
           "trajectory": "H_data",
           "value": 876
          },
          {
           "sample_id": 0,
           "timepoint": 328,
           "trajectory": "H_data",
           "value": 940
          },
          {
           "sample_id": 0,
           "timepoint": 329,
           "trajectory": "H_data",
           "value": 830
          },
          {
           "sample_id": 0,
           "timepoint": 330,
           "trajectory": "H_data",
           "value": 885
          },
          {
           "sample_id": 0,
           "timepoint": 331,
           "trajectory": "H_data",
           "value": 1001
          },
          {
           "sample_id": 0,
           "timepoint": 332,
           "trajectory": "H_data",
           "value": 857
          },
          {
           "sample_id": 0,
           "timepoint": 333,
           "trajectory": "H_data",
           "value": 821
          },
          {
           "sample_id": 0,
           "timepoint": 334,
           "trajectory": "H_data",
           "value": 1053
          },
          {
           "sample_id": 0,
           "timepoint": 335,
           "trajectory": "H_data",
           "value": 1056
          },
          {
           "sample_id": 0,
           "timepoint": 336,
           "trajectory": "H_data",
           "value": 1000
          },
          {
           "sample_id": 0,
           "timepoint": 337,
           "trajectory": "H_data",
           "value": 1007
          },
          {
           "sample_id": 0,
           "timepoint": 338,
           "trajectory": "H_data",
           "value": 941
          },
          {
           "sample_id": 0,
           "timepoint": 339,
           "trajectory": "H_data",
           "value": 1011
          },
          {
           "sample_id": 0,
           "timepoint": 340,
           "trajectory": "H_data",
           "value": 863
          },
          {
           "sample_id": 0,
           "timepoint": 341,
           "trajectory": "H_data",
           "value": 1083
          },
          {
           "sample_id": 0,
           "timepoint": 342,
           "trajectory": "H_data",
           "value": 1133
          },
          {
           "sample_id": 0,
           "timepoint": 343,
           "trajectory": "H_data",
           "value": 1100
          },
          {
           "sample_id": 0,
           "timepoint": 344,
           "trajectory": "H_data",
           "value": 993
          },
          {
           "sample_id": 0,
           "timepoint": 345,
           "trajectory": "H_data",
           "value": 998
          },
          {
           "sample_id": 0,
           "timepoint": 346,
           "trajectory": "H_data",
           "value": 1041
          },
          {
           "sample_id": 0,
           "timepoint": 347,
           "trajectory": "H_data",
           "value": 930
          },
          {
           "sample_id": 0,
           "timepoint": 348,
           "trajectory": "H_data",
           "value": 1192
          },
          {
           "sample_id": 0,
           "timepoint": 349,
           "trajectory": "H_data",
           "value": 1174
          },
          {
           "sample_id": 0,
           "timepoint": 350,
           "trajectory": "H_data",
           "value": 1185
          },
          {
           "sample_id": 0,
           "timepoint": 351,
           "trajectory": "H_data",
           "value": 1168
          },
          {
           "sample_id": 0,
           "timepoint": 352,
           "trajectory": "H_data",
           "value": 1135
          },
          {
           "sample_id": 0,
           "timepoint": 353,
           "trajectory": "H_data",
           "value": 1026
          },
          {
           "sample_id": 0,
           "timepoint": 354,
           "trajectory": "H_data",
           "value": 950
          },
          {
           "sample_id": 0,
           "timepoint": 355,
           "trajectory": "H_data",
           "value": 1081
          },
          {
           "sample_id": 0,
           "timepoint": 356,
           "trajectory": "H_data",
           "value": 1176
          },
          {
           "sample_id": 0,
           "timepoint": 357,
           "trajectory": "H_data",
           "value": 1175
          },
          {
           "sample_id": 0,
           "timepoint": 358,
           "trajectory": "H_data",
           "value": 1190
          },
          {
           "sample_id": 0,
           "timepoint": 359,
           "trajectory": "H_data",
           "value": 1116
          },
          {
           "sample_id": 0,
           "timepoint": 360,
           "trajectory": "H_data",
           "value": 1010
          },
          {
           "sample_id": 0,
           "timepoint": 361,
           "trajectory": "H_data",
           "value": 858
          },
          {
           "sample_id": 0,
           "timepoint": 362,
           "trajectory": "H_data",
           "value": 1056
          },
          {
           "sample_id": 0,
           "timepoint": 363,
           "trajectory": "H_data",
           "value": 945
          },
          {
           "sample_id": 0,
           "timepoint": 364,
           "trajectory": "H_data",
           "value": 984
          },
          {
           "sample_id": 0,
           "timepoint": 365,
           "trajectory": "H_data",
           "value": 1004
          },
          {
           "sample_id": 0,
           "timepoint": 366,
           "trajectory": "H_data",
           "value": 982
          },
          {
           "sample_id": 0,
           "timepoint": 367,
           "trajectory": "H_data",
           "value": 800
          },
          {
           "sample_id": 0,
           "timepoint": 368,
           "trajectory": "H_data",
           "value": 778
          },
          {
           "sample_id": 0,
           "timepoint": 369,
           "trajectory": "H_data",
           "value": 970
          },
          {
           "sample_id": 0,
           "timepoint": 370,
           "trajectory": "H_data",
           "value": 893
          },
          {
           "sample_id": 0,
           "timepoint": 371,
           "trajectory": "H_data",
           "value": 961
          },
          {
           "sample_id": 0,
           "timepoint": 372,
           "trajectory": "H_data",
           "value": 829
          },
          {
           "sample_id": 0,
           "timepoint": 373,
           "trajectory": "H_data",
           "value": 863
          },
          {
           "sample_id": 0,
           "timepoint": 374,
           "trajectory": "H_data",
           "value": 693
          },
          {
           "sample_id": 0,
           "timepoint": 375,
           "trajectory": "H_data",
           "value": 699
          },
          {
           "sample_id": 0,
           "timepoint": 376,
           "trajectory": "H_data",
           "value": 653
          },
          {
           "sample_id": 0,
           "timepoint": 377,
           "trajectory": "H_data",
           "value": 873
          },
          {
           "sample_id": 0,
           "timepoint": 378,
           "trajectory": "H_data",
           "value": 962
          },
          {
           "sample_id": 0,
           "timepoint": 379,
           "trajectory": "H_data",
           "value": 895
          },
          {
           "sample_id": 0,
           "timepoint": 380,
           "trajectory": "H_data",
           "value": 817
          },
          {
           "sample_id": 0,
           "timepoint": 381,
           "trajectory": "H_data",
           "value": 724
          },
          {
           "sample_id": 0,
           "timepoint": 382,
           "trajectory": "H_data",
           "value": 664
          },
          {
           "sample_id": 0,
           "timepoint": 383,
           "trajectory": "H_data",
           "value": 781
          },
          {
           "sample_id": 0,
           "timepoint": 384,
           "trajectory": "H_data",
           "value": 805
          },
          {
           "sample_id": 0,
           "timepoint": 385,
           "trajectory": "H_data",
           "value": 703
          },
          {
           "sample_id": 0,
           "timepoint": 386,
           "trajectory": "H_data",
           "value": 695
          },
          {
           "sample_id": 0,
           "timepoint": 387,
           "trajectory": "H_data",
           "value": 666
          },
          {
           "sample_id": 0,
           "timepoint": 388,
           "trajectory": "H_data",
           "value": 576
          },
          {
           "sample_id": 0,
           "timepoint": 389,
           "trajectory": "H_data",
           "value": 557
          },
          {
           "sample_id": 0,
           "timepoint": 390,
           "trajectory": "H_data",
           "value": 635
          },
          {
           "sample_id": 0,
           "timepoint": 391,
           "trajectory": "H_data",
           "value": 679
          },
          {
           "sample_id": 0,
           "timepoint": 392,
           "trajectory": "H_data",
           "value": 613
          },
          {
           "sample_id": 0,
           "timepoint": 393,
           "trajectory": "H_data",
           "value": 556
          },
          {
           "sample_id": 0,
           "timepoint": 394,
           "trajectory": "H_data",
           "value": 582
          },
          {
           "sample_id": 0,
           "timepoint": 395,
           "trajectory": "H_data",
           "value": 530
          },
          {
           "sample_id": 0,
           "timepoint": 396,
           "trajectory": "H_data",
           "value": 576
          },
          {
           "sample_id": 0,
           "timepoint": 397,
           "trajectory": "H_data",
           "value": 611
          },
          {
           "sample_id": 0,
           "timepoint": 398,
           "trajectory": "H_data",
           "value": 639
          },
          {
           "sample_id": 0,
           "timepoint": 399,
           "trajectory": "H_data",
           "value": 678
          },
          {
           "sample_id": 0,
           "timepoint": 400,
           "trajectory": "H_data",
           "value": 596
          },
          {
           "sample_id": 0,
           "timepoint": 401,
           "trajectory": "H_data",
           "value": 598
          },
          {
           "sample_id": 0,
           "timepoint": 402,
           "trajectory": "H_data",
           "value": 536
          },
          {
           "sample_id": 0,
           "timepoint": 403,
           "trajectory": "H_data",
           "value": 480
          },
          {
           "sample_id": 0,
           "timepoint": 404,
           "trajectory": "H_data",
           "value": 620
          },
          {
           "sample_id": 0,
           "timepoint": 405,
           "trajectory": "H_data",
           "value": 587
          },
          {
           "sample_id": 0,
           "timepoint": 406,
           "trajectory": "H_data",
           "value": 571
          },
          {
           "sample_id": 0,
           "timepoint": 407,
           "trajectory": "H_data",
           "value": 553
          },
          {
           "sample_id": 0,
           "timepoint": 408,
           "trajectory": "H_data",
           "value": 518
          },
          {
           "sample_id": 0,
           "timepoint": 409,
           "trajectory": "H_data",
           "value": 476
          },
          {
           "sample_id": 0,
           "timepoint": 410,
           "trajectory": "H_data",
           "value": 479
          },
          {
           "sample_id": 0,
           "timepoint": 411,
           "trajectory": "H_data",
           "value": 531
          },
          {
           "sample_id": 0,
           "timepoint": 412,
           "trajectory": "H_data",
           "value": 584
          },
          {
           "sample_id": 0,
           "timepoint": 413,
           "trajectory": "H_data",
           "value": 554
          },
          {
           "sample_id": 0,
           "timepoint": 414,
           "trajectory": "H_data",
           "value": 596
          },
          {
           "sample_id": 0,
           "timepoint": 415,
           "trajectory": "H_data",
           "value": 523
          },
          {
           "sample_id": 0,
           "timepoint": 416,
           "trajectory": "H_data",
           "value": 453
          },
          {
           "sample_id": 0,
           "timepoint": 417,
           "trajectory": "H_data",
           "value": 504
          },
          {
           "sample_id": 0,
           "timepoint": 418,
           "trajectory": "H_data",
           "value": 536
          },
          {
           "sample_id": 0,
           "timepoint": 419,
           "trajectory": "H_data",
           "value": 555
          },
          {
           "sample_id": 0,
           "timepoint": 420,
           "trajectory": "H_data",
           "value": 606
          },
          {
           "sample_id": 0,
           "timepoint": 421,
           "trajectory": "H_data",
           "value": 571
          },
          {
           "sample_id": 0,
           "timepoint": 422,
           "trajectory": "H_data",
           "value": 531
          },
          {
           "sample_id": 0,
           "timepoint": 423,
           "trajectory": "H_data",
           "value": 493
          },
          {
           "sample_id": 0,
           "timepoint": 424,
           "trajectory": "H_data",
           "value": 534
          },
          {
           "sample_id": 0,
           "timepoint": 425,
           "trajectory": "H_data",
           "value": 584
          },
          {
           "sample_id": 0,
           "timepoint": 426,
           "trajectory": "H_data",
           "value": 570
          },
          {
           "sample_id": 0,
           "timepoint": 427,
           "trajectory": "H_data",
           "value": 612
          },
          {
           "sample_id": 0,
           "timepoint": 428,
           "trajectory": "H_data",
           "value": 595
          },
          {
           "sample_id": 0,
           "timepoint": 429,
           "trajectory": "H_data",
           "value": 624
          },
          {
           "sample_id": 0,
           "timepoint": 430,
           "trajectory": "H_data",
           "value": 505
          },
          {
           "sample_id": 0,
           "timepoint": 431,
           "trajectory": "H_data",
           "value": 489
          },
          {
           "sample_id": 0,
           "timepoint": 432,
           "trajectory": "H_data",
           "value": 580
          },
          {
           "sample_id": 0,
           "timepoint": 433,
           "trajectory": "H_data",
           "value": 584
          },
          {
           "sample_id": 0,
           "timepoint": 434,
           "trajectory": "H_data",
           "value": 559
          },
          {
           "sample_id": 0,
           "timepoint": 435,
           "trajectory": "H_data",
           "value": 555
          },
          {
           "sample_id": 0,
           "timepoint": 436,
           "trajectory": "H_data",
           "value": 497
          },
          {
           "sample_id": 0,
           "timepoint": 437,
           "trajectory": "H_data",
           "value": 498
          },
          {
           "sample_id": 0,
           "timepoint": 438,
           "trajectory": "H_data",
           "value": 493
          },
          {
           "sample_id": 0,
           "timepoint": 439,
           "trajectory": "H_data",
           "value": 579
          },
          {
           "sample_id": 0,
           "timepoint": 440,
           "trajectory": "H_data",
           "value": 556
          },
          {
           "sample_id": 0,
           "timepoint": 441,
           "trajectory": "H_data",
           "value": 520
          },
          {
           "sample_id": 0,
           "timepoint": 442,
           "trajectory": "H_data",
           "value": 494
          },
          {
           "sample_id": 0,
           "timepoint": 443,
           "trajectory": "H_data",
           "value": 486
          },
          {
           "sample_id": 0,
           "timepoint": 444,
           "trajectory": "H_data",
           "value": 445
          },
          {
           "sample_id": 0,
           "timepoint": 445,
           "trajectory": "H_data",
           "value": 415
          },
          {
           "sample_id": 0,
           "timepoint": 446,
           "trajectory": "H_data",
           "value": 482
          },
          {
           "sample_id": 0,
           "timepoint": 447,
           "trajectory": "H_data",
           "value": 456
          },
          {
           "sample_id": 0,
           "timepoint": 448,
           "trajectory": "H_data",
           "value": 493
          },
          {
           "sample_id": 0,
           "timepoint": 449,
           "trajectory": "H_data",
           "value": 516
          },
          {
           "sample_id": 0,
           "timepoint": 450,
           "trajectory": "H_data",
           "value": 485
          },
          {
           "sample_id": 0,
           "timepoint": 451,
           "trajectory": "H_data",
           "value": 421
          },
          {
           "sample_id": 0,
           "timepoint": 452,
           "trajectory": "H_data",
           "value": 381
          },
          {
           "sample_id": 0,
           "timepoint": 453,
           "trajectory": "H_data",
           "value": 473
          },
          {
           "sample_id": 0,
           "timepoint": 454,
           "trajectory": "H_data",
           "value": 393
          },
          {
           "sample_id": 0,
           "timepoint": 455,
           "trajectory": "H_data",
           "value": 375
          },
          {
           "sample_id": 0,
           "timepoint": 456,
           "trajectory": "H_data",
           "value": 404
          },
          {
           "sample_id": 0,
           "timepoint": 457,
           "trajectory": "H_data",
           "value": 404
          },
          {
           "sample_id": 0,
           "timepoint": 458,
           "trajectory": "H_data",
           "value": 325
          },
          {
           "sample_id": 0,
           "timepoint": 459,
           "trajectory": "H_data",
           "value": 280
          },
          {
           "sample_id": 0,
           "timepoint": 460,
           "trajectory": "H_data",
           "value": 374
          },
          {
           "sample_id": 0,
           "timepoint": 461,
           "trajectory": "H_data",
           "value": 310
          },
          {
           "sample_id": 0,
           "timepoint": 462,
           "trajectory": "H_data",
           "value": 350
          },
          {
           "sample_id": 0,
           "timepoint": 463,
           "trajectory": "H_data",
           "value": 303
          },
          {
           "sample_id": 0,
           "timepoint": 464,
           "trajectory": "H_data",
           "value": 273
          },
          {
           "sample_id": 0,
           "timepoint": 465,
           "trajectory": "H_data",
           "value": 232
          },
          {
           "sample_id": 0,
           "timepoint": 466,
           "trajectory": "H_data",
           "value": 261
          },
          {
           "sample_id": 0,
           "timepoint": 467,
           "trajectory": "H_data",
           "value": 296
          },
          {
           "sample_id": 0,
           "timepoint": 468,
           "trajectory": "H_data",
           "value": 293
          },
          {
           "sample_id": 0,
           "timepoint": 469,
           "trajectory": "H_data",
           "value": 264
          },
          {
           "sample_id": 0,
           "timepoint": 470,
           "trajectory": "H_data",
           "value": 250
          },
          {
           "sample_id": 0,
           "timepoint": 471,
           "trajectory": "H_data",
           "value": 215
          },
          {
           "sample_id": 0,
           "timepoint": 472,
           "trajectory": "H_data",
           "value": 211
          },
          {
           "sample_id": 0,
           "timepoint": 473,
           "trajectory": "H_data",
           "value": 194
          },
          {
           "sample_id": 0,
           "timepoint": 474,
           "trajectory": "H_data",
           "value": 215
          },
          {
           "sample_id": 0,
           "timepoint": 475,
           "trajectory": "H_data",
           "value": 224
          },
          {
           "sample_id": 0,
           "timepoint": 476,
           "trajectory": "H_data",
           "value": 214
          },
          {
           "sample_id": 0,
           "timepoint": 477,
           "trajectory": "H_data",
           "value": 186
          },
          {
           "sample_id": 0,
           "timepoint": 478,
           "trajectory": "H_data",
           "value": 208
          },
          {
           "sample_id": 0,
           "timepoint": 479,
           "trajectory": "H_data",
           "value": 160
          },
          {
           "sample_id": 0,
           "timepoint": 480,
           "trajectory": "H_data",
           "value": 156
          },
          {
           "sample_id": 0,
           "timepoint": 481,
           "trajectory": "H_data",
           "value": 204
          },
          {
           "sample_id": 0,
           "timepoint": 482,
           "trajectory": "H_data",
           "value": 200
          },
          {
           "sample_id": 0,
           "timepoint": 483,
           "trajectory": "H_data",
           "value": 175
          },
          {
           "sample_id": 0,
           "timepoint": 484,
           "trajectory": "H_data",
           "value": 168
          },
          {
           "sample_id": 0,
           "timepoint": 485,
           "trajectory": "H_data",
           "value": 161
          },
          {
           "sample_id": 0,
           "timepoint": 486,
           "trajectory": "H_data",
           "value": 135
          },
          {
           "sample_id": 0,
           "timepoint": 487,
           "trajectory": "H_data",
           "value": 143
          },
          {
           "sample_id": 0,
           "timepoint": 488,
           "trajectory": "H_data",
           "value": 146
          },
          {
           "sample_id": 0,
           "timepoint": 489,
           "trajectory": "H_data",
           "value": 145
          },
          {
           "sample_id": 0,
           "timepoint": 490,
           "trajectory": "H_data",
           "value": 156
          },
          {
           "sample_id": 0,
           "timepoint": 491,
           "trajectory": "H_data",
           "value": 137
          },
          {
           "sample_id": 0,
           "timepoint": 492,
           "trajectory": "H_data",
           "value": 134
          },
          {
           "sample_id": 0,
           "timepoint": 493,
           "trajectory": "H_data",
           "value": 90
          },
          {
           "sample_id": 0,
           "timepoint": 494,
           "trajectory": "H_data",
           "value": 108
          },
          {
           "sample_id": 0,
           "timepoint": 495,
           "trajectory": "H_data",
           "value": 91
          },
          {
           "sample_id": 0,
           "timepoint": 496,
           "trajectory": "H_data",
           "value": 113
          },
          {
           "sample_id": 0,
           "timepoint": 497,
           "trajectory": "H_data",
           "value": 106
          },
          {
           "sample_id": 0,
           "timepoint": 498,
           "trajectory": "H_data",
           "value": 121
          },
          {
           "sample_id": 0,
           "timepoint": 499,
           "trajectory": "H_data",
           "value": 90
          },
          {
           "sample_id": 0,
           "timepoint": 500,
           "trajectory": "H_data",
           "value": 70
          },
          {
           "sample_id": 0,
           "timepoint": 501,
           "trajectory": "H_data",
           "value": 79
          },
          {
           "sample_id": 0,
           "timepoint": 502,
           "trajectory": "H_data",
           "value": 94
          },
          {
           "sample_id": 0,
           "timepoint": 503,
           "trajectory": "H_data",
           "value": 112
          },
          {
           "sample_id": 0,
           "timepoint": 504,
           "trajectory": "H_data",
           "value": 80
          },
          {
           "sample_id": 0,
           "timepoint": 505,
           "trajectory": "H_data",
           "value": 95
          },
          {
           "sample_id": 0,
           "timepoint": 506,
           "trajectory": "H_data",
           "value": 79
          },
          {
           "sample_id": 0,
           "timepoint": 507,
           "trajectory": "H_data",
           "value": 49
          },
          {
           "sample_id": 0,
           "timepoint": 508,
           "trajectory": "H_data",
           "value": 86
          },
          {
           "sample_id": 0,
           "timepoint": 509,
           "trajectory": "H_data",
           "value": 78
          },
          {
           "sample_id": 0,
           "timepoint": 510,
           "trajectory": "H_data",
           "value": 67
          },
          {
           "sample_id": 0,
           "timepoint": 511,
           "trajectory": "H_data",
           "value": 65
          },
          {
           "sample_id": 0,
           "timepoint": 512,
           "trajectory": "H_data",
           "value": 72
          },
          {
           "sample_id": 0,
           "timepoint": 513,
           "trajectory": "H_data",
           "value": 49
          },
          {
           "sample_id": 0,
           "timepoint": 514,
           "trajectory": "H_data",
           "value": 54
          },
          {
           "sample_id": 0,
           "timepoint": 515,
           "trajectory": "H_data",
           "value": 66
          },
          {
           "sample_id": 0,
           "timepoint": 516,
           "trajectory": "H_data",
           "value": 68
          },
          {
           "sample_id": 0,
           "timepoint": 517,
           "trajectory": "H_data",
           "value": 61
          },
          {
           "sample_id": 0,
           "timepoint": 518,
           "trajectory": "H_data",
           "value": 70
          },
          {
           "sample_id": 0,
           "timepoint": 519,
           "trajectory": "H_data",
           "value": 55
          },
          {
           "sample_id": 0,
           "timepoint": 520,
           "trajectory": "H_data",
           "value": 43
          },
          {
           "sample_id": 0,
           "timepoint": 521,
           "trajectory": "H_data",
           "value": 53
          },
          {
           "sample_id": 0,
           "timepoint": 522,
           "trajectory": "H_data",
           "value": 50
          },
          {
           "sample_id": 0,
           "timepoint": 523,
           "trajectory": "H_data",
           "value": 60
          },
          {
           "sample_id": 0,
           "timepoint": 524,
           "trajectory": "H_data",
           "value": 58
          },
          {
           "sample_id": 0,
           "timepoint": 525,
           "trajectory": "H_data",
           "value": 51
          },
          {
           "sample_id": 0,
           "timepoint": 526,
           "trajectory": "H_data",
           "value": 55
          },
          {
           "sample_id": 0,
           "timepoint": 527,
           "trajectory": "H_data",
           "value": 58
          },
          {
           "sample_id": 0,
           "timepoint": 528,
           "trajectory": "H_data",
           "value": 46
          },
          {
           "sample_id": 0,
           "timepoint": 529,
           "trajectory": "H_data",
           "value": 57
          },
          {
           "sample_id": 0,
           "timepoint": 530,
           "trajectory": "H_data",
           "value": 61
          },
          {
           "sample_id": 0,
           "timepoint": 531,
           "trajectory": "H_data",
           "value": 66
          },
          {
           "sample_id": 0,
           "timepoint": 532,
           "trajectory": "H_data",
           "value": 49
          },
          {
           "sample_id": 0,
           "timepoint": 533,
           "trajectory": "H_data",
           "value": 51
          },
          {
           "sample_id": 0,
           "timepoint": 534,
           "trajectory": "H_data",
           "value": 52
          },
          {
           "sample_id": 0,
           "timepoint": 535,
           "trajectory": "H_data",
           "value": 48
          },
          {
           "sample_id": 0,
           "timepoint": 536,
           "trajectory": "H_data",
           "value": 57
          },
          {
           "sample_id": 0,
           "timepoint": 537,
           "trajectory": "H_data",
           "value": 54
          },
          {
           "sample_id": 0,
           "timepoint": 538,
           "trajectory": "H_data",
           "value": 58
          },
          {
           "sample_id": 0,
           "timepoint": 539,
           "trajectory": "H_data",
           "value": 88
          },
          {
           "sample_id": 0,
           "timepoint": 540,
           "trajectory": "H_data",
           "value": 76
          },
          {
           "sample_id": 0,
           "timepoint": 541,
           "trajectory": "H_data",
           "value": 64
          },
          {
           "sample_id": 0,
           "timepoint": 542,
           "trajectory": "H_data",
           "value": 71
          },
          {
           "sample_id": 0,
           "timepoint": 543,
           "trajectory": "H_data",
           "value": 71
          },
          {
           "sample_id": 0,
           "timepoint": 544,
           "trajectory": "H_data",
           "value": 93
          },
          {
           "sample_id": 0,
           "timepoint": 545,
           "trajectory": "H_data",
           "value": 99
          },
          {
           "sample_id": 0,
           "timepoint": 546,
           "trajectory": "H_data",
           "value": 113
          },
          {
           "sample_id": 0,
           "timepoint": 547,
           "trajectory": "H_data",
           "value": 77
          },
          {
           "sample_id": 0,
           "timepoint": 548,
           "trajectory": "H_data",
           "value": 98
          },
          {
           "sample_id": 0,
           "timepoint": 549,
           "trajectory": "H_data",
           "value": 85
          },
          {
           "sample_id": 0,
           "timepoint": 550,
           "trajectory": "H_data",
           "value": 95
          },
          {
           "sample_id": 0,
           "timepoint": 551,
           "trajectory": "H_data",
           "value": 108
          },
          {
           "sample_id": 0,
           "timepoint": 552,
           "trajectory": "H_data",
           "value": 121
          },
          {
           "sample_id": 0,
           "timepoint": 553,
           "trajectory": "H_data",
           "value": 134
          },
          {
           "sample_id": 0,
           "timepoint": 554,
           "trajectory": "H_data",
           "value": 132
          },
          {
           "sample_id": 0,
           "timepoint": 555,
           "trajectory": "H_data",
           "value": 136
          },
          {
           "sample_id": 0,
           "timepoint": 556,
           "trajectory": "H_data",
           "value": 123
          },
          {
           "sample_id": 0,
           "timepoint": 557,
           "trajectory": "H_data",
           "value": 138
          },
          {
           "sample_id": 0,
           "timepoint": 558,
           "trajectory": "H_data",
           "value": 161
          },
          {
           "sample_id": 0,
           "timepoint": 559,
           "trajectory": "H_data",
           "value": 210
          },
          {
           "sample_id": 0,
           "timepoint": 560,
           "trajectory": "H_data",
           "value": 210
          },
          {
           "sample_id": 0,
           "timepoint": 561,
           "trajectory": "H_data",
           "value": 201
          },
          {
           "sample_id": 0,
           "timepoint": 562,
           "trajectory": "H_data",
           "value": 244
          },
          {
           "sample_id": 0,
           "timepoint": 563,
           "trajectory": "H_data",
           "value": 189
          },
          {
           "sample_id": 0,
           "timepoint": 564,
           "trajectory": "H_data",
           "value": 242
          },
          {
           "sample_id": 0,
           "timepoint": 565,
           "trajectory": "H_data",
           "value": 227
          },
          {
           "sample_id": 0,
           "timepoint": 566,
           "trajectory": "H_data",
           "value": 285
          },
          {
           "sample_id": 0,
           "timepoint": 567,
           "trajectory": "H_data",
           "value": 301
          },
          {
           "sample_id": 0,
           "timepoint": 568,
           "trajectory": "H_data",
           "value": 316
          },
          {
           "sample_id": 0,
           "timepoint": 0,
           "trajectory": "D_data",
           "value": 0
          },
          {
           "sample_id": 0,
           "timepoint": 1,
           "trajectory": "D_data",
           "value": 0
          },
          {
           "sample_id": 0,
           "timepoint": 2,
           "trajectory": "D_data",
           "value": 0
          },
          {
           "sample_id": 0,
           "timepoint": 3,
           "trajectory": "D_data",
           "value": 0
          },
          {
           "sample_id": 0,
           "timepoint": 4,
           "trajectory": "D_data",
           "value": 0
          },
          {
           "sample_id": 0,
           "timepoint": 5,
           "trajectory": "D_data",
           "value": 0
          },
          {
           "sample_id": 0,
           "timepoint": 6,
           "trajectory": "D_data",
           "value": 0
          },
          {
           "sample_id": 0,
           "timepoint": 7,
           "trajectory": "D_data",
           "value": 0
          },
          {
           "sample_id": 0,
           "timepoint": 8,
           "trajectory": "D_data",
           "value": 0
          },
          {
           "sample_id": 0,
           "timepoint": 9,
           "trajectory": "D_data",
           "value": 0
          },
          {
           "sample_id": 0,
           "timepoint": 10,
           "trajectory": "D_data",
           "value": 0
          },
          {
           "sample_id": 0,
           "timepoint": 11,
           "trajectory": "D_data",
           "value": 0
          },
          {
           "sample_id": 0,
           "timepoint": 12,
           "trajectory": "D_data",
           "value": 0
          },
          {
           "sample_id": 0,
           "timepoint": 13,
           "trajectory": "D_data",
           "value": 0
          },
          {
           "sample_id": 0,
           "timepoint": 14,
           "trajectory": "D_data",
           "value": 0
          },
          {
           "sample_id": 0,
           "timepoint": 15,
           "trajectory": "D_data",
           "value": 0
          },
          {
           "sample_id": 0,
           "timepoint": 16,
           "trajectory": "D_data",
           "value": 0
          },
          {
           "sample_id": 0,
           "timepoint": 17,
           "trajectory": "D_data",
           "value": 0
          },
          {
           "sample_id": 0,
           "timepoint": 18,
           "trajectory": "D_data",
           "value": 0
          },
          {
           "sample_id": 0,
           "timepoint": 19,
           "trajectory": "D_data",
           "value": 0
          },
          {
           "sample_id": 0,
           "timepoint": 20,
           "trajectory": "D_data",
           "value": 0
          },
          {
           "sample_id": 0,
           "timepoint": 21,
           "trajectory": "D_data",
           "value": 0
          },
          {
           "sample_id": 0,
           "timepoint": 22,
           "trajectory": "D_data",
           "value": 0
          },
          {
           "sample_id": 0,
           "timepoint": 23,
           "trajectory": "D_data",
           "value": 0
          },
          {
           "sample_id": 0,
           "timepoint": 24,
           "trajectory": "D_data",
           "value": 0
          },
          {
           "sample_id": 0,
           "timepoint": 25,
           "trajectory": "D_data",
           "value": 0
          },
          {
           "sample_id": 0,
           "timepoint": 26,
           "trajectory": "D_data",
           "value": 0
          },
          {
           "sample_id": 0,
           "timepoint": 27,
           "trajectory": "D_data",
           "value": 0
          },
          {
           "sample_id": 0,
           "timepoint": 28,
           "trajectory": "D_data",
           "value": 0
          },
          {
           "sample_id": 0,
           "timepoint": 29,
           "trajectory": "D_data",
           "value": 0
          },
          {
           "sample_id": 0,
           "timepoint": 30,
           "trajectory": "D_data",
           "value": 0
          },
          {
           "sample_id": 0,
           "timepoint": 31,
           "trajectory": "D_data",
           "value": 0
          },
          {
           "sample_id": 0,
           "timepoint": 32,
           "trajectory": "D_data",
           "value": 0
          },
          {
           "sample_id": 0,
           "timepoint": 33,
           "trajectory": "D_data",
           "value": 0
          },
          {
           "sample_id": 0,
           "timepoint": 34,
           "trajectory": "D_data",
           "value": 0
          },
          {
           "sample_id": 0,
           "timepoint": 35,
           "trajectory": "D_data",
           "value": 0
          },
          {
           "sample_id": 0,
           "timepoint": 36,
           "trajectory": "D_data",
           "value": 0
          },
          {
           "sample_id": 0,
           "timepoint": 37,
           "trajectory": "D_data",
           "value": 0
          },
          {
           "sample_id": 0,
           "timepoint": 38,
           "trajectory": "D_data",
           "value": 0
          },
          {
           "sample_id": 0,
           "timepoint": 39,
           "trajectory": "D_data",
           "value": 0
          },
          {
           "sample_id": 0,
           "timepoint": 40,
           "trajectory": "D_data",
           "value": 0
          },
          {
           "sample_id": 0,
           "timepoint": 41,
           "trajectory": "D_data",
           "value": 0
          },
          {
           "sample_id": 0,
           "timepoint": 42,
           "trajectory": "D_data",
           "value": 0
          },
          {
           "sample_id": 0,
           "timepoint": 43,
           "trajectory": "D_data",
           "value": 0
          },
          {
           "sample_id": 0,
           "timepoint": 44,
           "trajectory": "D_data",
           "value": 0
          },
          {
           "sample_id": 0,
           "timepoint": 45,
           "trajectory": "D_data",
           "value": 0
          },
          {
           "sample_id": 0,
           "timepoint": 46,
           "trajectory": "D_data",
           "value": 0
          },
          {
           "sample_id": 0,
           "timepoint": 47,
           "trajectory": "D_data",
           "value": 0
          },
          {
           "sample_id": 0,
           "timepoint": 48,
           "trajectory": "D_data",
           "value": 0
          },
          {
           "sample_id": 0,
           "timepoint": 49,
           "trajectory": "D_data",
           "value": 1
          },
          {
           "sample_id": 0,
           "timepoint": 50,
           "trajectory": "D_data",
           "value": 1
          },
          {
           "sample_id": 0,
           "timepoint": 51,
           "trajectory": "D_data",
           "value": 1
          },
          {
           "sample_id": 0,
           "timepoint": 52,
           "trajectory": "D_data",
           "value": 4
          },
          {
           "sample_id": 0,
           "timepoint": 53,
           "trajectory": "D_data",
           "value": 9
          },
          {
           "sample_id": 0,
           "timepoint": 54,
           "trajectory": "D_data",
           "value": 19
          },
          {
           "sample_id": 0,
           "timepoint": 55,
           "trajectory": "D_data",
           "value": 30
          },
          {
           "sample_id": 0,
           "timepoint": 56,
           "trajectory": "D_data",
           "value": 51
          },
          {
           "sample_id": 0,
           "timepoint": 57,
           "trajectory": "D_data",
           "value": 77
          },
          {
           "sample_id": 0,
           "timepoint": 58,
           "trajectory": "D_data",
           "value": 129
          },
          {
           "sample_id": 0,
           "timepoint": 59,
           "trajectory": "D_data",
           "value": 175
          },
          {
           "sample_id": 0,
           "timepoint": 60,
           "trajectory": "D_data",
           "value": 226
          },
          {
           "sample_id": 0,
           "timepoint": 61,
           "trajectory": "D_data",
           "value": 315
          },
          {
           "sample_id": 0,
           "timepoint": 62,
           "trajectory": "D_data",
           "value": 427
          },
          {
           "sample_id": 0,
           "timepoint": 63,
           "trajectory": "D_data",
           "value": 565
          },
          {
           "sample_id": 0,
           "timepoint": 64,
           "trajectory": "D_data",
           "value": 759
          },
          {
           "sample_id": 0,
           "timepoint": 65,
           "trajectory": "D_data",
           "value": 984
          },
          {
           "sample_id": 0,
           "timepoint": 66,
           "trajectory": "D_data",
           "value": 1285
          },
          {
           "sample_id": 0,
           "timepoint": 67,
           "trajectory": "D_data",
           "value": 1603
          },
          {
           "sample_id": 0,
           "timepoint": 68,
           "trajectory": "D_data",
           "value": 1930
          },
          {
           "sample_id": 0,
           "timepoint": 69,
           "trajectory": "D_data",
           "value": 2334
          },
          {
           "sample_id": 0,
           "timepoint": 70,
           "trajectory": "D_data",
           "value": 2859
          },
          {
           "sample_id": 0,
           "timepoint": 71,
           "trajectory": "D_data",
           "value": 3420
          },
          {
           "sample_id": 0,
           "timepoint": 72,
           "trajectory": "D_data",
           "value": 3989
          },
          {
           "sample_id": 0,
           "timepoint": 73,
           "trajectory": "D_data",
           "value": 4634
          },
          {
           "sample_id": 0,
           "timepoint": 74,
           "trajectory": "D_data",
           "value": 5384
          },
          {
           "sample_id": 0,
           "timepoint": 75,
           "trajectory": "D_data",
           "value": 6185
          },
          {
           "sample_id": 0,
           "timepoint": 76,
           "trajectory": "D_data",
           "value": 7241
          },
          {
           "sample_id": 0,
           "timepoint": 77,
           "trajectory": "D_data",
           "value": 7985
          },
          {
           "sample_id": 0,
           "timepoint": 78,
           "trajectory": "D_data",
           "value": 8846
          },
          {
           "sample_id": 0,
           "timepoint": 79,
           "trajectory": "D_data",
           "value": 9579
          },
          {
           "sample_id": 0,
           "timepoint": 80,
           "trajectory": "D_data",
           "value": 10345
          },
          {
           "sample_id": 0,
           "timepoint": 81,
           "trajectory": "D_data",
           "value": 11126
          },
          {
           "sample_id": 0,
           "timepoint": 82,
           "trajectory": "D_data",
           "value": 11930
          },
          {
           "sample_id": 0,
           "timepoint": 83,
           "trajectory": "D_data",
           "value": 12669
          },
          {
           "sample_id": 0,
           "timepoint": 84,
           "trajectory": "D_data",
           "value": 13332
          },
          {
           "sample_id": 0,
           "timepoint": 85,
           "trajectory": "D_data",
           "value": 13987
          },
          {
           "sample_id": 0,
           "timepoint": 86,
           "trajectory": "D_data",
           "value": 14371
          },
          {
           "sample_id": 0,
           "timepoint": 87,
           "trajectory": "D_data",
           "value": 14780
          },
          {
           "sample_id": 0,
           "timepoint": 88,
           "trajectory": "D_data",
           "value": 15225
          },
          {
           "sample_id": 0,
           "timepoint": 89,
           "trajectory": "D_data",
           "value": 16116
          },
          {
           "sample_id": 0,
           "timepoint": 90,
           "trajectory": "D_data",
           "value": 16639
          },
          {
           "sample_id": 0,
           "timepoint": 91,
           "trajectory": "D_data",
           "value": 17091
          },
          {
           "sample_id": 0,
           "timepoint": 92,
           "trajectory": "D_data",
           "value": 17647
          },
          {
           "sample_id": 0,
           "timepoint": 93,
           "trajectory": "D_data",
           "value": 18132
          },
          {
           "sample_id": 0,
           "timepoint": 94,
           "trajectory": "D_data",
           "value": 18523
          },
          {
           "sample_id": 0,
           "timepoint": 95,
           "trajectory": "D_data",
           "value": 18882
          },
          {
           "sample_id": 0,
           "timepoint": 96,
           "trajectory": "D_data",
           "value": 19292
          },
          {
           "sample_id": 0,
           "timepoint": 97,
           "trajectory": "D_data",
           "value": 19602
          },
          {
           "sample_id": 0,
           "timepoint": 98,
           "trajectory": "D_data",
           "value": 20000
          },
          {
           "sample_id": 0,
           "timepoint": 99,
           "trajectory": "D_data",
           "value": 20334
          },
          {
           "sample_id": 0,
           "timepoint": 100,
           "trajectory": "D_data",
           "value": 20662
          },
          {
           "sample_id": 0,
           "timepoint": 101,
           "trajectory": "D_data",
           "value": 20923
          },
          {
           "sample_id": 0,
           "timepoint": 102,
           "trajectory": "D_data",
           "value": 21179
          },
          {
           "sample_id": 0,
           "timepoint": 103,
           "trajectory": "D_data",
           "value": 21483
          },
          {
           "sample_id": 0,
           "timepoint": 104,
           "trajectory": "D_data",
           "value": 21740
          },
          {
           "sample_id": 0,
           "timepoint": 105,
           "trajectory": "D_data",
           "value": 22296
          },
          {
           "sample_id": 0,
           "timepoint": 106,
           "trajectory": "D_data",
           "value": 22501
          },
          {
           "sample_id": 0,
           "timepoint": 107,
           "trajectory": "D_data",
           "value": 22797
          },
          {
           "sample_id": 0,
           "timepoint": 108,
           "trajectory": "D_data",
           "value": 23015
          },
          {
           "sample_id": 0,
           "timepoint": 109,
           "trajectory": "D_data",
           "value": 23180
          },
          {
           "sample_id": 0,
           "timepoint": 110,
           "trajectory": "D_data",
           "value": 23356
          },
          {
           "sample_id": 0,
           "timepoint": 111,
           "trajectory": "D_data",
           "value": 23560
          },
          {
           "sample_id": 0,
           "timepoint": 112,
           "trajectory": "D_data",
           "value": 23754
          },
          {
           "sample_id": 0,
           "timepoint": 113,
           "trajectory": "D_data",
           "value": 23893
          },
          {
           "sample_id": 0,
           "timepoint": 114,
           "trajectory": "D_data",
           "value": 24144
          },
          {
           "sample_id": 0,
           "timepoint": 115,
           "trajectory": "D_data",
           "value": 24299
          },
          {
           "sample_id": 0,
           "timepoint": 116,
           "trajectory": "D_data",
           "value": 24419
          },
          {
           "sample_id": 0,
           "timepoint": 117,
           "trajectory": "D_data",
           "value": 28867
          },
          {
           "sample_id": 0,
           "timepoint": 118,
           "trajectory": "D_data",
           "value": 29058
          },
          {
           "sample_id": 0,
           "timepoint": 119,
           "trajectory": "D_data",
           "value": 29205
          },
          {
           "sample_id": 0,
           "timepoint": 120,
           "trajectory": "D_data",
           "value": 29317
          },
          {
           "sample_id": 0,
           "timepoint": 121,
           "trajectory": "D_data",
           "value": 29420
          },
          {
           "sample_id": 0,
           "timepoint": 122,
           "trajectory": "D_data",
           "value": 29617
          },
          {
           "sample_id": 0,
           "timepoint": 123,
           "trajectory": "D_data",
           "value": 29707
          },
          {
           "sample_id": 0,
           "timepoint": 124,
           "trajectory": "D_data",
           "value": 29823
          },
          {
           "sample_id": 0,
           "timepoint": 125,
           "trajectory": "D_data",
           "value": 29857
          },
          {
           "sample_id": 0,
           "timepoint": 126,
           "trajectory": "D_data",
           "value": 30034
          },
          {
           "sample_id": 0,
           "timepoint": 127,
           "trajectory": "D_data",
           "value": 30083
          },
          {
           "sample_id": 0,
           "timepoint": 128,
           "trajectory": "D_data",
           "value": 30194
          },
          {
           "sample_id": 0,
           "timepoint": 129,
           "trajectory": "D_data",
           "value": 30289
          },
          {
           "sample_id": 0,
           "timepoint": 130,
           "trajectory": "D_data",
           "value": 30357
          },
          {
           "sample_id": 0,
           "timepoint": 131,
           "trajectory": "D_data",
           "value": 30490
          },
          {
           "sample_id": 0,
           "timepoint": 132,
           "trajectory": "D_data",
           "value": 30549
          },
          {
           "sample_id": 0,
           "timepoint": 133,
           "trajectory": "D_data",
           "value": 30615
          },
          {
           "sample_id": 0,
           "timepoint": 134,
           "trajectory": "D_data",
           "value": 30752
          },
          {
           "sample_id": 0,
           "timepoint": 135,
           "trajectory": "D_data",
           "value": 30805
          },
          {
           "sample_id": 0,
           "timepoint": 136,
           "trajectory": "D_data",
           "value": 30857
          },
          {
           "sample_id": 0,
           "timepoint": 137,
           "trajectory": "D_data",
           "value": 30946
          },
          {
           "sample_id": 0,
           "timepoint": 138,
           "trajectory": "D_data",
           "value": 31002
          },
          {
           "sample_id": 0,
           "timepoint": 139,
           "trajectory": "D_data",
           "value": 31037
          },
          {
           "sample_id": 0,
           "timepoint": 140,
           "trajectory": "D_data",
           "value": 31111
          },
          {
           "sample_id": 0,
           "timepoint": 141,
           "trajectory": "D_data",
           "value": 31138
          },
          {
           "sample_id": 0,
           "timepoint": 142,
           "trajectory": "D_data",
           "value": 31293
          },
          {
           "sample_id": 0,
           "timepoint": 143,
           "trajectory": "D_data",
           "value": 31316
          },
          {
           "sample_id": 0,
           "timepoint": 144,
           "trajectory": "D_data",
           "value": 31353
          },
          {
           "sample_id": 0,
           "timepoint": 145,
           "trajectory": "D_data",
           "value": 31387
          },
          {
           "sample_id": 0,
           "timepoint": 146,
           "trajectory": "D_data",
           "value": 31435
          },
          {
           "sample_id": 0,
           "timepoint": 147,
           "trajectory": "D_data",
           "value": 31463
          },
          {
           "sample_id": 0,
           "timepoint": 148,
           "trajectory": "D_data",
           "value": 31494
          },
          {
           "sample_id": 0,
           "timepoint": 149,
           "trajectory": "D_data",
           "value": 31520
          },
          {
           "sample_id": 0,
           "timepoint": 150,
           "trajectory": "D_data",
           "value": 31598
          },
          {
           "sample_id": 0,
           "timepoint": 151,
           "trajectory": "D_data",
           "value": 31639
          },
          {
           "sample_id": 0,
           "timepoint": 152,
           "trajectory": "D_data",
           "value": 31669
          },
          {
           "sample_id": 0,
           "timepoint": 153,
           "trajectory": "D_data",
           "value": 31730
          },
          {
           "sample_id": 0,
           "timepoint": 154,
           "trajectory": "D_data",
           "value": 31755
          },
          {
           "sample_id": 0,
           "timepoint": 155,
           "trajectory": "D_data",
           "value": 31794
          },
          {
           "sample_id": 0,
           "timepoint": 156,
           "trajectory": "D_data",
           "value": 31819
          },
          {
           "sample_id": 0,
           "timepoint": 157,
           "trajectory": "D_data",
           "value": 31847
          },
          {
           "sample_id": 0,
           "timepoint": 158,
           "trajectory": "D_data",
           "value": 31873
          },
          {
           "sample_id": 0,
           "timepoint": 159,
           "trajectory": "D_data",
           "value": 31904
          },
          {
           "sample_id": 0,
           "timepoint": 160,
           "trajectory": "D_data",
           "value": 31869
          },
          {
           "sample_id": 0,
           "timepoint": 161,
           "trajectory": "D_data",
           "value": 31883
          },
          {
           "sample_id": 0,
           "timepoint": 162,
           "trajectory": "D_data",
           "value": 31913
          },
          {
           "sample_id": 0,
           "timepoint": 163,
           "trajectory": "D_data",
           "value": 31993
          },
          {
           "sample_id": 0,
           "timepoint": 164,
           "trajectory": "D_data",
           "value": 32009
          },
          {
           "sample_id": 0,
           "timepoint": 165,
           "trajectory": "D_data",
           "value": 32045
          },
          {
           "sample_id": 0,
           "timepoint": 166,
           "trajectory": "D_data",
           "value": 32063
          },
          {
           "sample_id": 0,
           "timepoint": 167,
           "trajectory": "D_data",
           "value": 32084
          },
          {
           "sample_id": 0,
           "timepoint": 168,
           "trajectory": "D_data",
           "value": 32108
          },
          {
           "sample_id": 0,
           "timepoint": 169,
           "trajectory": "D_data",
           "value": 32130
          },
          {
           "sample_id": 0,
           "timepoint": 170,
           "trajectory": "D_data",
           "value": 32169
          },
          {
           "sample_id": 0,
           "timepoint": 171,
           "trajectory": "D_data",
           "value": 32185
          },
          {
           "sample_id": 0,
           "timepoint": 172,
           "trajectory": "D_data",
           "value": 32198
          },
          {
           "sample_id": 0,
           "timepoint": 173,
           "trajectory": "D_data",
           "value": 32217
          },
          {
           "sample_id": 0,
           "timepoint": 174,
           "trajectory": "D_data",
           "value": 32227
          },
          {
           "sample_id": 0,
           "timepoint": 175,
           "trajectory": "D_data",
           "value": 32246
          },
          {
           "sample_id": 0,
           "timepoint": 176,
           "trajectory": "D_data",
           "value": 32257
          },
          {
           "sample_id": 0,
           "timepoint": 177,
           "trajectory": "D_data",
           "value": 32283
          },
          {
           "sample_id": 0,
           "timepoint": 178,
           "trajectory": "D_data",
           "value": 32298
          },
          {
           "sample_id": 0,
           "timepoint": 179,
           "trajectory": "D_data",
           "value": 32313
          },
          {
           "sample_id": 0,
           "timepoint": 180,
           "trajectory": "D_data",
           "value": 32324
          },
          {
           "sample_id": 0,
           "timepoint": 181,
           "trajectory": "D_data",
           "value": 32337
          },
          {
           "sample_id": 0,
           "timepoint": 182,
           "trajectory": "D_data",
           "value": 32379
          },
          {
           "sample_id": 0,
           "timepoint": 183,
           "trajectory": "D_data",
           "value": 32390
          },
          {
           "sample_id": 0,
           "timepoint": 184,
           "trajectory": "D_data",
           "value": 32395
          },
          {
           "sample_id": 0,
           "timepoint": 185,
           "trajectory": "D_data",
           "value": 32407
          },
          {
           "sample_id": 0,
           "timepoint": 186,
           "trajectory": "D_data",
           "value": 32429
          },
          {
           "sample_id": 0,
           "timepoint": 187,
           "trajectory": "D_data",
           "value": 32435
          },
          {
           "sample_id": 0,
           "timepoint": 188,
           "trajectory": "D_data",
           "value": 32447
          },
          {
           "sample_id": 0,
           "timepoint": 189,
           "trajectory": "D_data",
           "value": 32452
          },
          {
           "sample_id": 0,
           "timepoint": 190,
           "trajectory": "D_data",
           "value": 32468
          },
          {
           "sample_id": 0,
           "timepoint": 191,
           "trajectory": "D_data",
           "value": 32474
          },
          {
           "sample_id": 0,
           "timepoint": 192,
           "trajectory": "D_data",
           "value": 32482
          },
          {
           "sample_id": 0,
           "timepoint": 193,
           "trajectory": "D_data",
           "value": 32498
          },
          {
           "sample_id": 0,
           "timepoint": 194,
           "trajectory": "D_data",
           "value": 32500
          },
          {
           "sample_id": 0,
           "timepoint": 195,
           "trajectory": "D_data",
           "value": 32505
          },
          {
           "sample_id": 0,
           "timepoint": 196,
           "trajectory": "D_data",
           "value": 32535
          },
          {
           "sample_id": 0,
           "timepoint": 197,
           "trajectory": "D_data",
           "value": 32542
          },
          {
           "sample_id": 0,
           "timepoint": 198,
           "trajectory": "D_data",
           "value": 32545
          },
          {
           "sample_id": 0,
           "timepoint": 199,
           "trajectory": "D_data",
           "value": 32554
          },
          {
           "sample_id": 0,
           "timepoint": 200,
           "trajectory": "D_data",
           "value": 32558
          },
          {
           "sample_id": 0,
           "timepoint": 201,
           "trajectory": "D_data",
           "value": 32566
          },
          {
           "sample_id": 0,
           "timepoint": 202,
           "trajectory": "D_data",
           "value": 32572
          },
          {
           "sample_id": 0,
           "timepoint": 203,
           "trajectory": "D_data",
           "value": 32574
          },
          {
           "sample_id": 0,
           "timepoint": 204,
           "trajectory": "D_data",
           "value": 32580
          },
          {
           "sample_id": 0,
           "timepoint": 205,
           "trajectory": "D_data",
           "value": 32601
          },
          {
           "sample_id": 0,
           "timepoint": 206,
           "trajectory": "D_data",
           "value": 32611
          },
          {
           "sample_id": 0,
           "timepoint": 207,
           "trajectory": "D_data",
           "value": 32617
          },
          {
           "sample_id": 0,
           "timepoint": 208,
           "trajectory": "D_data",
           "value": 32622
          },
          {
           "sample_id": 0,
           "timepoint": 209,
           "trajectory": "D_data",
           "value": 32629
          },
          {
           "sample_id": 0,
           "timepoint": 210,
           "trajectory": "D_data",
           "value": 32639
          },
          {
           "sample_id": 0,
           "timepoint": 211,
           "trajectory": "D_data",
           "value": 32644
          },
          {
           "sample_id": 0,
           "timepoint": 212,
           "trajectory": "D_data",
           "value": 32647
          },
          {
           "sample_id": 0,
           "timepoint": 213,
           "trajectory": "D_data",
           "value": 32654
          },
          {
           "sample_id": 0,
           "timepoint": 214,
           "trajectory": "D_data",
           "value": 32662
          },
          {
           "sample_id": 0,
           "timepoint": 215,
           "trajectory": "D_data",
           "value": 32665
          },
          {
           "sample_id": 0,
           "timepoint": 216,
           "trajectory": "D_data",
           "value": 32694
          },
          {
           "sample_id": 0,
           "timepoint": 217,
           "trajectory": "D_data",
           "value": 32699
          },
          {
           "sample_id": 0,
           "timepoint": 218,
           "trajectory": "D_data",
           "value": 32700
          },
          {
           "sample_id": 0,
           "timepoint": 219,
           "trajectory": "D_data",
           "value": 32703
          },
          {
           "sample_id": 0,
           "timepoint": 220,
           "trajectory": "D_data",
           "value": 32705
          },
          {
           "sample_id": 0,
           "timepoint": 221,
           "trajectory": "D_data",
           "value": 32722
          },
          {
           "sample_id": 0,
           "timepoint": 222,
           "trajectory": "D_data",
           "value": 32770
          },
          {
           "sample_id": 0,
           "timepoint": 223,
           "trajectory": "D_data",
           "value": 32776
          },
          {
           "sample_id": 0,
           "timepoint": 224,
           "trajectory": "D_data",
           "value": 32782
          },
          {
           "sample_id": 0,
           "timepoint": 225,
           "trajectory": "D_data",
           "value": 32790
          },
          {
           "sample_id": 0,
           "timepoint": 226,
           "trajectory": "D_data",
           "value": 32795
          },
          {
           "sample_id": 0,
           "timepoint": 227,
           "trajectory": "D_data",
           "value": 32802
          },
          {
           "sample_id": 0,
           "timepoint": 228,
           "trajectory": "D_data",
           "value": 32802
          },
          {
           "sample_id": 0,
           "timepoint": 229,
           "trajectory": "D_data",
           "value": 32813
          },
          {
           "sample_id": 0,
           "timepoint": 230,
           "trajectory": "D_data",
           "value": 32826
          },
          {
           "sample_id": 0,
           "timepoint": 231,
           "trajectory": "D_data",
           "value": 32833
          },
          {
           "sample_id": 0,
           "timepoint": 232,
           "trajectory": "D_data",
           "value": 32836
          },
          {
           "sample_id": 0,
           "timepoint": 233,
           "trajectory": "D_data",
           "value": 32839
          },
          {
           "sample_id": 0,
           "timepoint": 234,
           "trajectory": "D_data",
           "value": 32843
          },
          {
           "sample_id": 0,
           "timepoint": 235,
           "trajectory": "D_data",
           "value": 32843
          },
          {
           "sample_id": 0,
           "timepoint": 236,
           "trajectory": "D_data",
           "value": 32849
          },
          {
           "sample_id": 0,
           "timepoint": 237,
           "trajectory": "D_data",
           "value": 32856
          },
          {
           "sample_id": 0,
           "timepoint": 238,
           "trajectory": "D_data",
           "value": 32860
          },
          {
           "sample_id": 0,
           "timepoint": 239,
           "trajectory": "D_data",
           "value": 32887
          },
          {
           "sample_id": 0,
           "timepoint": 240,
           "trajectory": "D_data",
           "value": 32900
          },
          {
           "sample_id": 0,
           "timepoint": 241,
           "trajectory": "D_data",
           "value": 32899
          },
          {
           "sample_id": 0,
           "timepoint": 242,
           "trajectory": "D_data",
           "value": 32905
          },
          {
           "sample_id": 0,
           "timepoint": 243,
           "trajectory": "D_data",
           "value": 32974
          },
          {
           "sample_id": 0,
           "timepoint": 244,
           "trajectory": "D_data",
           "value": 32975
          },
          {
           "sample_id": 0,
           "timepoint": 245,
           "trajectory": "D_data",
           "value": 32976
          },
          {
           "sample_id": 0,
           "timepoint": 246,
           "trajectory": "D_data",
           "value": 32982
          },
          {
           "sample_id": 0,
           "timepoint": 247,
           "trajectory": "D_data",
           "value": 32995
          },
          {
           "sample_id": 0,
           "timepoint": 248,
           "trajectory": "D_data",
           "value": 32997
          },
          {
           "sample_id": 0,
           "timepoint": 249,
           "trajectory": "D_data",
           "value": 33003
          },
          {
           "sample_id": 0,
           "timepoint": 250,
           "trajectory": "D_data",
           "value": 33011
          },
          {
           "sample_id": 0,
           "timepoint": 251,
           "trajectory": "D_data",
           "value": 33018
          },
          {
           "sample_id": 0,
           "timepoint": 252,
           "trajectory": "D_data",
           "value": 33027
          },
          {
           "sample_id": 0,
           "timepoint": 253,
           "trajectory": "D_data",
           "value": 33037
          },
          {
           "sample_id": 0,
           "timepoint": 254,
           "trajectory": "D_data",
           "value": 33074
          },
          {
           "sample_id": 0,
           "timepoint": 255,
           "trajectory": "D_data",
           "value": 33079
          },
          {
           "sample_id": 0,
           "timepoint": 256,
           "trajectory": "D_data",
           "value": 33090
          },
          {
           "sample_id": 0,
           "timepoint": 257,
           "trajectory": "D_data",
           "value": 33100
          },
          {
           "sample_id": 0,
           "timepoint": 258,
           "trajectory": "D_data",
           "value": 33107
          },
          {
           "sample_id": 0,
           "timepoint": 259,
           "trajectory": "D_data",
           "value": 33125
          },
          {
           "sample_id": 0,
           "timepoint": 260,
           "trajectory": "D_data",
           "value": 33135
          },
          {
           "sample_id": 0,
           "timepoint": 261,
           "trajectory": "D_data",
           "value": 33164
          },
          {
           "sample_id": 0,
           "timepoint": 262,
           "trajectory": "D_data",
           "value": 33168
          },
          {
           "sample_id": 0,
           "timepoint": 263,
           "trajectory": "D_data",
           "value": 33174
          },
          {
           "sample_id": 0,
           "timepoint": 264,
           "trajectory": "D_data",
           "value": 33184
          },
          {
           "sample_id": 0,
           "timepoint": 265,
           "trajectory": "D_data",
           "value": 33194
          },
          {
           "sample_id": 0,
           "timepoint": 266,
           "trajectory": "D_data",
           "value": 33201
          },
          {
           "sample_id": 0,
           "timepoint": 267,
           "trajectory": "D_data",
           "value": 33225
          },
          {
           "sample_id": 0,
           "timepoint": 268,
           "trajectory": "D_data",
           "value": 33237
          },
          {
           "sample_id": 0,
           "timepoint": 269,
           "trajectory": "D_data",
           "value": 33246
          },
          {
           "sample_id": 0,
           "timepoint": 270,
           "trajectory": "D_data",
           "value": 33261
          },
          {
           "sample_id": 0,
           "timepoint": 271,
           "trajectory": "D_data",
           "value": 33274
          },
          {
           "sample_id": 0,
           "timepoint": 272,
           "trajectory": "D_data",
           "value": 33282
          },
          {
           "sample_id": 0,
           "timepoint": 273,
           "trajectory": "D_data",
           "value": 33287
          },
          {
           "sample_id": 0,
           "timepoint": 274,
           "trajectory": "D_data",
           "value": 33310
          },
          {
           "sample_id": 0,
           "timepoint": 275,
           "trajectory": "D_data",
           "value": 33323
          },
          {
           "sample_id": 0,
           "timepoint": 276,
           "trajectory": "D_data",
           "value": 33332
          },
          {
           "sample_id": 0,
           "timepoint": 277,
           "trajectory": "D_data",
           "value": 33339
          },
          {
           "sample_id": 0,
           "timepoint": 278,
           "trajectory": "D_data",
           "value": 33349
          },
          {
           "sample_id": 0,
           "timepoint": 279,
           "trajectory": "D_data",
           "value": 33362
          },
          {
           "sample_id": 0,
           "timepoint": 280,
           "trajectory": "D_data",
           "value": 33374
          },
          {
           "sample_id": 0,
           "timepoint": 281,
           "trajectory": "D_data",
           "value": 33395
          },
          {
           "sample_id": 0,
           "timepoint": 282,
           "trajectory": "D_data",
           "value": 33424
          },
          {
           "sample_id": 0,
           "timepoint": 283,
           "trajectory": "D_data",
           "value": 33429
          },
          {
           "sample_id": 0,
           "timepoint": 284,
           "trajectory": "D_data",
           "value": 33449
          },
          {
           "sample_id": 0,
           "timepoint": 285,
           "trajectory": "D_data",
           "value": 33461
          },
          {
           "sample_id": 0,
           "timepoint": 286,
           "trajectory": "D_data",
           "value": 33470
          },
          {
           "sample_id": 0,
           "timepoint": 287,
           "trajectory": "D_data",
           "value": 33488
          },
          {
           "sample_id": 0,
           "timepoint": 288,
           "trajectory": "D_data",
           "value": 33547
          },
          {
           "sample_id": 0,
           "timepoint": 289,
           "trajectory": "D_data",
           "value": 33564
          },
          {
           "sample_id": 0,
           "timepoint": 290,
           "trajectory": "D_data",
           "value": 33576
          },
          {
           "sample_id": 0,
           "timepoint": 291,
           "trajectory": "D_data",
           "value": 33596
          },
          {
           "sample_id": 0,
           "timepoint": 292,
           "trajectory": "D_data",
           "value": 33612
          },
          {
           "sample_id": 0,
           "timepoint": 293,
           "trajectory": "D_data",
           "value": 33631
          },
          {
           "sample_id": 0,
           "timepoint": 294,
           "trajectory": "D_data",
           "value": 33661
          },
          {
           "sample_id": 0,
           "timepoint": 295,
           "trajectory": "D_data",
           "value": 33676
          },
          {
           "sample_id": 0,
           "timepoint": 296,
           "trajectory": "D_data",
           "value": 33692
          },
          {
           "sample_id": 0,
           "timepoint": 297,
           "trajectory": "D_data",
           "value": 33712
          },
          {
           "sample_id": 0,
           "timepoint": 298,
           "trajectory": "D_data",
           "value": 33738
          },
          {
           "sample_id": 0,
           "timepoint": 299,
           "trajectory": "D_data",
           "value": 33753
          },
          {
           "sample_id": 0,
           "timepoint": 300,
           "trajectory": "D_data",
           "value": 33844
          },
          {
           "sample_id": 0,
           "timepoint": 301,
           "trajectory": "D_data",
           "value": 33868
          },
          {
           "sample_id": 0,
           "timepoint": 302,
           "trajectory": "D_data",
           "value": 33894
          },
          {
           "sample_id": 0,
           "timepoint": 303,
           "trajectory": "D_data",
           "value": 33934
          },
          {
           "sample_id": 0,
           "timepoint": 304,
           "trajectory": "D_data",
           "value": 33989
          },
          {
           "sample_id": 0,
           "timepoint": 305,
           "trajectory": "D_data",
           "value": 34015
          },
          {
           "sample_id": 0,
           "timepoint": 306,
           "trajectory": "D_data",
           "value": 34041
          },
          {
           "sample_id": 0,
           "timepoint": 307,
           "trajectory": "D_data",
           "value": 34063
          },
          {
           "sample_id": 0,
           "timepoint": 308,
           "trajectory": "D_data",
           "value": 34089
          },
          {
           "sample_id": 0,
           "timepoint": 309,
           "trajectory": "D_data",
           "value": 34138
          },
          {
           "sample_id": 0,
           "timepoint": 310,
           "trajectory": "D_data",
           "value": 34173
          },
          {
           "sample_id": 0,
           "timepoint": 311,
           "trajectory": "D_data",
           "value": 34212
          },
          {
           "sample_id": 0,
           "timepoint": 312,
           "trajectory": "D_data",
           "value": 34256
          },
          {
           "sample_id": 0,
           "timepoint": 313,
           "trajectory": "D_data",
           "value": 34300
          },
          {
           "sample_id": 0,
           "timepoint": 314,
           "trajectory": "D_data",
           "value": 34352
          },
          {
           "sample_id": 0,
           "timepoint": 315,
           "trajectory": "D_data",
           "value": 34410
          },
          {
           "sample_id": 0,
           "timepoint": 316,
           "trajectory": "D_data",
           "value": 34473
          },
          {
           "sample_id": 0,
           "timepoint": 317,
           "trajectory": "D_data",
           "value": 34529
          },
          {
           "sample_id": 0,
           "timepoint": 318,
           "trajectory": "D_data",
           "value": 34601
          },
          {
           "sample_id": 0,
           "timepoint": 319,
           "trajectory": "D_data",
           "value": 34655
          },
          {
           "sample_id": 0,
           "timepoint": 320,
           "trajectory": "D_data",
           "value": 34722
          },
          {
           "sample_id": 0,
           "timepoint": 321,
           "trajectory": "D_data",
           "value": 34803
          },
          {
           "sample_id": 0,
           "timepoint": 322,
           "trajectory": "D_data",
           "value": 34882
          },
          {
           "sample_id": 0,
           "timepoint": 323,
           "trajectory": "D_data",
           "value": 34968
          },
          {
           "sample_id": 0,
           "timepoint": 324,
           "trajectory": "D_data",
           "value": 35066
          },
          {
           "sample_id": 0,
           "timepoint": 325,
           "trajectory": "D_data",
           "value": 35160
          },
          {
           "sample_id": 0,
           "timepoint": 326,
           "trajectory": "D_data",
           "value": 35271
          },
          {
           "sample_id": 0,
           "timepoint": 327,
           "trajectory": "D_data",
           "value": 35339
          },
          {
           "sample_id": 0,
           "timepoint": 328,
           "trajectory": "D_data",
           "value": 35449
          },
          {
           "sample_id": 0,
           "timepoint": 329,
           "trajectory": "D_data",
           "value": 35566
          },
          {
           "sample_id": 0,
           "timepoint": 330,
           "trajectory": "D_data",
           "value": 35684
          },
          {
           "sample_id": 0,
           "timepoint": 331,
           "trajectory": "D_data",
           "value": 35821
          },
          {
           "sample_id": 0,
           "timepoint": 332,
           "trajectory": "D_data",
           "value": 35943
          },
          {
           "sample_id": 0,
           "timepoint": 333,
           "trajectory": "D_data",
           "value": 36049
          },
          {
           "sample_id": 0,
           "timepoint": 334,
           "trajectory": "D_data",
           "value": 36180
          },
          {
           "sample_id": 0,
           "timepoint": 335,
           "trajectory": "D_data",
           "value": 36332
          },
          {
           "sample_id": 0,
           "timepoint": 336,
           "trajectory": "D_data",
           "value": 36491
          },
          {
           "sample_id": 0,
           "timepoint": 337,
           "trajectory": "D_data",
           "value": 36630
          },
          {
           "sample_id": 0,
           "timepoint": 338,
           "trajectory": "D_data",
           "value": 36758
          },
          {
           "sample_id": 0,
           "timepoint": 339,
           "trajectory": "D_data",
           "value": 36874
          },
          {
           "sample_id": 0,
           "timepoint": 340,
           "trajectory": "D_data",
           "value": 36988
          },
          {
           "sample_id": 0,
           "timepoint": 341,
           "trajectory": "D_data",
           "value": 37118
          },
          {
           "sample_id": 0,
           "timepoint": 342,
           "trajectory": "D_data",
           "value": 37253
          },
          {
           "sample_id": 0,
           "timepoint": 343,
           "trajectory": "D_data",
           "value": 37407
          },
          {
           "sample_id": 0,
           "timepoint": 344,
           "trajectory": "D_data",
           "value": 37544
          },
          {
           "sample_id": 0,
           "timepoint": 345,
           "trajectory": "D_data",
           "value": 37732
          },
          {
           "sample_id": 0,
           "timepoint": 346,
           "trajectory": "D_data",
           "value": 37851
          },
          {
           "sample_id": 0,
           "timepoint": 347,
           "trajectory": "D_data",
           "value": 37992
          },
          {
           "sample_id": 0,
           "timepoint": 348,
           "trajectory": "D_data",
           "value": 38156
          },
          {
           "sample_id": 0,
           "timepoint": 349,
           "trajectory": "D_data",
           "value": 38304
          },
          {
           "sample_id": 0,
           "timepoint": 350,
           "trajectory": "D_data",
           "value": 38461
          },
          {
           "sample_id": 0,
           "timepoint": 351,
           "trajectory": "D_data",
           "value": 38664
          },
          {
           "sample_id": 0,
           "timepoint": 352,
           "trajectory": "D_data",
           "value": 38842
          },
          {
           "sample_id": 0,
           "timepoint": 353,
           "trajectory": "D_data",
           "value": 39027
          },
          {
           "sample_id": 0,
           "timepoint": 354,
           "trajectory": "D_data",
           "value": 39192
          },
          {
           "sample_id": 0,
           "timepoint": 355,
           "trajectory": "D_data",
           "value": 39378
          },
          {
           "sample_id": 0,
           "timepoint": 356,
           "trajectory": "D_data",
           "value": 39558
          },
          {
           "sample_id": 0,
           "timepoint": 357,
           "trajectory": "D_data",
           "value": 39755
          },
          {
           "sample_id": 0,
           "timepoint": 358,
           "trajectory": "D_data",
           "value": 39988
          },
          {
           "sample_id": 0,
           "timepoint": 359,
           "trajectory": "D_data",
           "value": 40178
          },
          {
           "sample_id": 0,
           "timepoint": 360,
           "trajectory": "D_data",
           "value": 40365
          },
          {
           "sample_id": 0,
           "timepoint": 361,
           "trajectory": "D_data",
           "value": 40544
          },
          {
           "sample_id": 0,
           "timepoint": 362,
           "trajectory": "D_data",
           "value": 40722
          },
          {
           "sample_id": 0,
           "timepoint": 363,
           "trajectory": "D_data",
           "value": 40910
          },
          {
           "sample_id": 0,
           "timepoint": 364,
           "trajectory": "D_data",
           "value": 41111
          },
          {
           "sample_id": 0,
           "timepoint": 365,
           "trajectory": "D_data",
           "value": 41315
          },
          {
           "sample_id": 0,
           "timepoint": 366,
           "trajectory": "D_data",
           "value": 41501
          },
          {
           "sample_id": 0,
           "timepoint": 367,
           "trajectory": "D_data",
           "value": 41672
          },
          {
           "sample_id": 0,
           "timepoint": 368,
           "trajectory": "D_data",
           "value": 41846
          },
          {
           "sample_id": 0,
           "timepoint": 369,
           "trajectory": "D_data",
           "value": 42032
          },
          {
           "sample_id": 0,
           "timepoint": 370,
           "trajectory": "D_data",
           "value": 42192
          },
          {
           "sample_id": 0,
           "timepoint": 371,
           "trajectory": "D_data",
           "value": 42399
          },
          {
           "sample_id": 0,
           "timepoint": 372,
           "trajectory": "D_data",
           "value": 42583
          },
          {
           "sample_id": 0,
           "timepoint": 373,
           "trajectory": "D_data",
           "value": 42770
          },
          {
           "sample_id": 0,
           "timepoint": 374,
           "trajectory": "D_data",
           "value": 42947
          },
          {
           "sample_id": 0,
           "timepoint": 375,
           "trajectory": "D_data",
           "value": 43122
          },
          {
           "sample_id": 0,
           "timepoint": 376,
           "trajectory": "D_data",
           "value": 43291
          },
          {
           "sample_id": 0,
           "timepoint": 377,
           "trajectory": "D_data",
           "value": 43455
          },
          {
           "sample_id": 0,
           "timepoint": 378,
           "trajectory": "D_data",
           "value": 43619
          },
          {
           "sample_id": 0,
           "timepoint": 379,
           "trajectory": "D_data",
           "value": 43772
          },
          {
           "sample_id": 0,
           "timepoint": 380,
           "trajectory": "D_data",
           "value": 43942
          },
          {
           "sample_id": 0,
           "timepoint": 381,
           "trajectory": "D_data",
           "value": 44138
          },
          {
           "sample_id": 0,
           "timepoint": 382,
           "trajectory": "D_data",
           "value": 44319
          },
          {
           "sample_id": 0,
           "timepoint": 383,
           "trajectory": "D_data",
           "value": 44451
          },
          {
           "sample_id": 0,
           "timepoint": 384,
           "trajectory": "D_data",
           "value": 44601
          },
          {
           "sample_id": 0,
           "timepoint": 385,
           "trajectory": "D_data",
           "value": 44786
          },
          {
           "sample_id": 0,
           "timepoint": 386,
           "trajectory": "D_data",
           "value": 44929
          },
          {
           "sample_id": 0,
           "timepoint": 387,
           "trajectory": "D_data",
           "value": 45097
          },
          {
           "sample_id": 0,
           "timepoint": 388,
           "trajectory": "D_data",
           "value": 45230
          },
          {
           "sample_id": 0,
           "timepoint": 389,
           "trajectory": "D_data",
           "value": 45383
          },
          {
           "sample_id": 0,
           "timepoint": 390,
           "trajectory": "D_data",
           "value": 45494
          },
          {
           "sample_id": 0,
           "timepoint": 391,
           "trajectory": "D_data",
           "value": 45609
          },
          {
           "sample_id": 0,
           "timepoint": 392,
           "trajectory": "D_data",
           "value": 45744
          },
          {
           "sample_id": 0,
           "timepoint": 393,
           "trajectory": "D_data",
           "value": 45899
          },
          {
           "sample_id": 0,
           "timepoint": 394,
           "trajectory": "D_data",
           "value": 46067
          },
          {
           "sample_id": 0,
           "timepoint": 395,
           "trajectory": "D_data",
           "value": 46195
          },
          {
           "sample_id": 0,
           "timepoint": 396,
           "trajectory": "D_data",
           "value": 46304
          },
          {
           "sample_id": 0,
           "timepoint": 397,
           "trajectory": "D_data",
           "value": 46401
          },
          {
           "sample_id": 0,
           "timepoint": 398,
           "trajectory": "D_data",
           "value": 46508
          },
          {
           "sample_id": 0,
           "timepoint": 399,
           "trajectory": "D_data",
           "value": 46632
          },
          {
           "sample_id": 0,
           "timepoint": 400,
           "trajectory": "D_data",
           "value": 46755
          },
          {
           "sample_id": 0,
           "timepoint": 401,
           "trajectory": "D_data",
           "value": 46881
          },
          {
           "sample_id": 0,
           "timepoint": 402,
           "trajectory": "D_data",
           "value": 46991
          },
          {
           "sample_id": 0,
           "timepoint": 403,
           "trajectory": "D_data",
           "value": 47095
          },
          {
           "sample_id": 0,
           "timepoint": 404,
           "trajectory": "D_data",
           "value": 47187
          },
          {
           "sample_id": 0,
           "timepoint": 405,
           "trajectory": "D_data",
           "value": 47293
          },
          {
           "sample_id": 0,
           "timepoint": 406,
           "trajectory": "D_data",
           "value": 47413
          },
          {
           "sample_id": 0,
           "timepoint": 407,
           "trajectory": "D_data",
           "value": 47536
          },
          {
           "sample_id": 0,
           "timepoint": 408,
           "trajectory": "D_data",
           "value": 47650
          },
          {
           "sample_id": 0,
           "timepoint": 409,
           "trajectory": "D_data",
           "value": 47752
          },
          {
           "sample_id": 0,
           "timepoint": 410,
           "trajectory": "D_data",
           "value": 47840
          },
          {
           "sample_id": 0,
           "timepoint": 411,
           "trajectory": "D_data",
           "value": 47910
          },
          {
           "sample_id": 0,
           "timepoint": 412,
           "trajectory": "D_data",
           "value": 47984
          },
          {
           "sample_id": 0,
           "timepoint": 413,
           "trajectory": "D_data",
           "value": 48062
          },
          {
           "sample_id": 0,
           "timepoint": 414,
           "trajectory": "D_data",
           "value": 48181
          },
          {
           "sample_id": 0,
           "timepoint": 415,
           "trajectory": "D_data",
           "value": 48263
          },
          {
           "sample_id": 0,
           "timepoint": 416,
           "trajectory": "D_data",
           "value": 48358
          },
          {
           "sample_id": 0,
           "timepoint": 417,
           "trajectory": "D_data",
           "value": 48449
          },
          {
           "sample_id": 0,
           "timepoint": 418,
           "trajectory": "D_data",
           "value": 48523
          },
          {
           "sample_id": 0,
           "timepoint": 419,
           "trajectory": "D_data",
           "value": 48605
          },
          {
           "sample_id": 0,
           "timepoint": 420,
           "trajectory": "D_data",
           "value": 48673
          },
          {
           "sample_id": 0,
           "timepoint": 421,
           "trajectory": "D_data",
           "value": 48764
          },
          {
           "sample_id": 0,
           "timepoint": 422,
           "trajectory": "D_data",
           "value": 48852
          },
          {
           "sample_id": 0,
           "timepoint": 423,
           "trajectory": "D_data",
           "value": 48920
          },
          {
           "sample_id": 0,
           "timepoint": 424,
           "trajectory": "D_data",
           "value": 48945
          },
          {
           "sample_id": 0,
           "timepoint": 425,
           "trajectory": "D_data",
           "value": 48963
          },
          {
           "sample_id": 0,
           "timepoint": 426,
           "trajectory": "D_data",
           "value": 48981
          },
          {
           "sample_id": 0,
           "timepoint": 427,
           "trajectory": "D_data",
           "value": 49227
          },
          {
           "sample_id": 0,
           "timepoint": 428,
           "trajectory": "D_data",
           "value": 49299
          },
          {
           "sample_id": 0,
           "timepoint": 429,
           "trajectory": "D_data",
           "value": 49359
          },
          {
           "sample_id": 0,
           "timepoint": 430,
           "trajectory": "D_data",
           "value": 49446
          },
          {
           "sample_id": 0,
           "timepoint": 431,
           "trajectory": "D_data",
           "value": 49532
          },
          {
           "sample_id": 0,
           "timepoint": 432,
           "trajectory": "D_data",
           "value": 49682
          },
          {
           "sample_id": 0,
           "timepoint": 433,
           "trajectory": "D_data",
           "value": 49712
          },
          {
           "sample_id": 0,
           "timepoint": 434,
           "trajectory": "D_data",
           "value": 49790
          },
          {
           "sample_id": 0,
           "timepoint": 435,
           "trajectory": "D_data",
           "value": 49873
          },
          {
           "sample_id": 0,
           "timepoint": 436,
           "trajectory": "D_data",
           "value": 49958
          },
          {
           "sample_id": 0,
           "timepoint": 437,
           "trajectory": "D_data",
           "value": 50044
          },
          {
           "sample_id": 0,
           "timepoint": 438,
           "trajectory": "D_data",
           "value": 50125
          },
          {
           "sample_id": 0,
           "timepoint": 439,
           "trajectory": "D_data",
           "value": 50199
          },
          {
           "sample_id": 0,
           "timepoint": 440,
           "trajectory": "D_data",
           "value": 50245
          },
          {
           "sample_id": 0,
           "timepoint": 441,
           "trajectory": "D_data",
           "value": 50317
          },
          {
           "sample_id": 0,
           "timepoint": 442,
           "trajectory": "D_data",
           "value": 50390
          },
          {
           "sample_id": 0,
           "timepoint": 443,
           "trajectory": "D_data",
           "value": 50467
          },
          {
           "sample_id": 0,
           "timepoint": 444,
           "trajectory": "D_data",
           "value": 50535
          },
          {
           "sample_id": 0,
           "timepoint": 445,
           "trajectory": "D_data",
           "value": 50611
          },
          {
           "sample_id": 0,
           "timepoint": 446,
           "trajectory": "D_data",
           "value": 50698
          },
          {
           "sample_id": 0,
           "timepoint": 447,
           "trajectory": "D_data",
           "value": 50746
          },
          {
           "sample_id": 0,
           "timepoint": 448,
           "trajectory": "D_data",
           "value": 50821
          },
          {
           "sample_id": 0,
           "timepoint": 449,
           "trajectory": "D_data",
           "value": 50901
          },
          {
           "sample_id": 0,
           "timepoint": 450,
           "trajectory": "D_data",
           "value": 50972
          },
          {
           "sample_id": 0,
           "timepoint": 451,
           "trajectory": "D_data",
           "value": 51049
          },
          {
           "sample_id": 0,
           "timepoint": 452,
           "trajectory": "D_data",
           "value": 51097
          },
          {
           "sample_id": 0,
           "timepoint": 453,
           "trajectory": "D_data",
           "value": 51144
          },
          {
           "sample_id": 0,
           "timepoint": 454,
           "trajectory": "D_data",
           "value": 51207
          },
          {
           "sample_id": 0,
           "timepoint": 455,
           "trajectory": "D_data",
           "value": 51249
          },
          {
           "sample_id": 0,
           "timepoint": 456,
           "trajectory": "D_data",
           "value": 51335
          },
          {
           "sample_id": 0,
           "timepoint": 457,
           "trajectory": "D_data",
           "value": 51398
          },
          {
           "sample_id": 0,
           "timepoint": 458,
           "trajectory": "D_data",
           "value": 51455
          },
          {
           "sample_id": 0,
           "timepoint": 459,
           "trajectory": "D_data",
           "value": 51511
          },
          {
           "sample_id": 0,
           "timepoint": 460,
           "trajectory": "D_data",
           "value": 51545
          },
          {
           "sample_id": 0,
           "timepoint": 461,
           "trajectory": "D_data",
           "value": 51615
          },
          {
           "sample_id": 0,
           "timepoint": 462,
           "trajectory": "D_data",
           "value": 51643
          },
          {
           "sample_id": 0,
           "timepoint": 463,
           "trajectory": "D_data",
           "value": 51714
          },
          {
           "sample_id": 0,
           "timepoint": 464,
           "trajectory": "D_data",
           "value": 51766
          },
          {
           "sample_id": 0,
           "timepoint": 465,
           "trajectory": "D_data",
           "value": 51819
          },
          {
           "sample_id": 0,
           "timepoint": 466,
           "trajectory": "D_data",
           "value": 51865
          },
          {
           "sample_id": 0,
           "timepoint": 467,
           "trajectory": "D_data",
           "value": 51920
          },
          {
           "sample_id": 0,
           "timepoint": 468,
           "trajectory": "D_data",
           "value": 51973
          },
          {
           "sample_id": 0,
           "timepoint": 469,
           "trajectory": "D_data",
           "value": 52027
          },
          {
           "sample_id": 0,
           "timepoint": 470,
           "trajectory": "D_data",
           "value": 52072
          },
          {
           "sample_id": 0,
           "timepoint": 471,
           "trajectory": "D_data",
           "value": 52118
          },
          {
           "sample_id": 0,
           "timepoint": 472,
           "trajectory": "D_data",
           "value": 52167
          },
          {
           "sample_id": 0,
           "timepoint": 473,
           "trajectory": "D_data",
           "value": 52201
          },
          {
           "sample_id": 0,
           "timepoint": 474,
           "trajectory": "D_data",
           "value": 52238
          },
          {
           "sample_id": 0,
           "timepoint": 475,
           "trajectory": "D_data",
           "value": 52273
          },
          {
           "sample_id": 0,
           "timepoint": 476,
           "trajectory": "D_data",
           "value": 52319
          },
          {
           "sample_id": 0,
           "timepoint": 477,
           "trajectory": "D_data",
           "value": 52363
          },
          {
           "sample_id": 0,
           "timepoint": 478,
           "trajectory": "D_data",
           "value": 52411
          },
          {
           "sample_id": 0,
           "timepoint": 479,
           "trajectory": "D_data",
           "value": 52422
          },
          {
           "sample_id": 0,
           "timepoint": 480,
           "trajectory": "D_data",
           "value": 52468
          },
          {
           "sample_id": 0,
           "timepoint": 481,
           "trajectory": "D_data",
           "value": 52495
          },
          {
           "sample_id": 0,
           "timepoint": 482,
           "trajectory": "D_data",
           "value": 52528
          },
          {
           "sample_id": 0,
           "timepoint": 483,
           "trajectory": "D_data",
           "value": 52552
          },
          {
           "sample_id": 0,
           "timepoint": 484,
           "trajectory": "D_data",
           "value": 52582
          },
          {
           "sample_id": 0,
           "timepoint": 485,
           "trajectory": "D_data",
           "value": 52609
          },
          {
           "sample_id": 0,
           "timepoint": 486,
           "trajectory": "D_data",
           "value": 52636
          },
          {
           "sample_id": 0,
           "timepoint": 487,
           "trajectory": "D_data",
           "value": 52653
          },
          {
           "sample_id": 0,
           "timepoint": 488,
           "trajectory": "D_data",
           "value": 52683
          },
          {
           "sample_id": 0,
           "timepoint": 489,
           "trajectory": "D_data",
           "value": 52702
          },
          {
           "sample_id": 0,
           "timepoint": 490,
           "trajectory": "D_data",
           "value": 52728
          },
          {
           "sample_id": 0,
           "timepoint": 491,
           "trajectory": "D_data",
           "value": 52748
          },
          {
           "sample_id": 0,
           "timepoint": 492,
           "trajectory": "D_data",
           "value": 52771
          },
          {
           "sample_id": 0,
           "timepoint": 493,
           "trajectory": "D_data",
           "value": 52795
          },
          {
           "sample_id": 0,
           "timepoint": 494,
           "trajectory": "D_data",
           "value": 52812
          },
          {
           "sample_id": 0,
           "timepoint": 495,
           "trajectory": "D_data",
           "value": 52825
          },
          {
           "sample_id": 0,
           "timepoint": 496,
           "trajectory": "D_data",
           "value": 52849
          },
          {
           "sample_id": 0,
           "timepoint": 497,
           "trajectory": "D_data",
           "value": 52858
          },
          {
           "sample_id": 0,
           "timepoint": 498,
           "trajectory": "D_data",
           "value": 52879
          },
          {
           "sample_id": 0,
           "timepoint": 499,
           "trajectory": "D_data",
           "value": 52934
          },
          {
           "sample_id": 0,
           "timepoint": 500,
           "trajectory": "D_data",
           "value": 52953
          },
          {
           "sample_id": 0,
           "timepoint": 501,
           "trajectory": "D_data",
           "value": 52981
          },
          {
           "sample_id": 0,
           "timepoint": 502,
           "trajectory": "D_data",
           "value": 52991
          },
          {
           "sample_id": 0,
           "timepoint": 503,
           "trajectory": "D_data",
           "value": 53011
          },
          {
           "sample_id": 0,
           "timepoint": 504,
           "trajectory": "D_data",
           "value": 53019
          },
          {
           "sample_id": 0,
           "timepoint": 505,
           "trajectory": "D_data",
           "value": 53031
          },
          {
           "sample_id": 0,
           "timepoint": 506,
           "trajectory": "D_data",
           "value": 53052
          },
          {
           "sample_id": 0,
           "timepoint": 507,
           "trajectory": "D_data",
           "value": 53070
          },
          {
           "sample_id": 0,
           "timepoint": 508,
           "trajectory": "D_data",
           "value": 53081
          },
          {
           "sample_id": 0,
           "timepoint": 509,
           "trajectory": "D_data",
           "value": 53089
          },
          {
           "sample_id": 0,
           "timepoint": 510,
           "trajectory": "D_data",
           "value": 53100
          },
          {
           "sample_id": 0,
           "timepoint": 511,
           "trajectory": "D_data",
           "value": 53103
          },
          {
           "sample_id": 0,
           "timepoint": 512,
           "trajectory": "D_data",
           "value": 53111
          },
          {
           "sample_id": 0,
           "timepoint": 513,
           "trajectory": "D_data",
           "value": 53121
          },
          {
           "sample_id": 0,
           "timepoint": 514,
           "trajectory": "D_data",
           "value": 53129
          },
          {
           "sample_id": 0,
           "timepoint": 515,
           "trajectory": "D_data",
           "value": 53132
          },
          {
           "sample_id": 0,
           "timepoint": 516,
           "trajectory": "D_data",
           "value": 53139
          },
          {
           "sample_id": 0,
           "timepoint": 517,
           "trajectory": "D_data",
           "value": 53151
          },
          {
           "sample_id": 0,
           "timepoint": 518,
           "trajectory": "D_data",
           "value": 53156
          },
          {
           "sample_id": 0,
           "timepoint": 519,
           "trajectory": "D_data",
           "value": 53158
          },
          {
           "sample_id": 0,
           "timepoint": 520,
           "trajectory": "D_data",
           "value": 53168
          },
          {
           "sample_id": 0,
           "timepoint": 521,
           "trajectory": "D_data",
           "value": 53178
          },
          {
           "sample_id": 0,
           "timepoint": 522,
           "trajectory": "D_data",
           "value": 53189
          },
          {
           "sample_id": 0,
           "timepoint": 523,
           "trajectory": "D_data",
           "value": 53196
          },
          {
           "sample_id": 0,
           "timepoint": 524,
           "trajectory": "D_data",
           "value": 53202
          },
          {
           "sample_id": 0,
           "timepoint": 525,
           "trajectory": "D_data",
           "value": 53204
          },
          {
           "sample_id": 0,
           "timepoint": 526,
           "trajectory": "D_data",
           "value": 53214
          },
          {
           "sample_id": 0,
           "timepoint": 527,
           "trajectory": "D_data",
           "value": 53219
          },
          {
           "sample_id": 0,
           "timepoint": 528,
           "trajectory": "D_data",
           "value": 53219
          },
          {
           "sample_id": 0,
           "timepoint": 529,
           "trajectory": "D_data",
           "value": 53227
          },
          {
           "sample_id": 0,
           "timepoint": 530,
           "trajectory": "D_data",
           "value": 53230
          },
          {
           "sample_id": 0,
           "timepoint": 531,
           "trajectory": "D_data",
           "value": 53240
          },
          {
           "sample_id": 0,
           "timepoint": 532,
           "trajectory": "D_data",
           "value": 53245
          },
          {
           "sample_id": 0,
           "timepoint": 533,
           "trajectory": "D_data",
           "value": 53250
          },
          {
           "sample_id": 0,
           "timepoint": 534,
           "trajectory": "D_data",
           "value": 53255
          },
          {
           "sample_id": 0,
           "timepoint": 535,
           "trajectory": "D_data",
           "value": 53265
          },
          {
           "sample_id": 0,
           "timepoint": 536,
           "trajectory": "D_data",
           "value": 53267
          },
          {
           "sample_id": 0,
           "timepoint": 537,
           "trajectory": "D_data",
           "value": 53269
          },
          {
           "sample_id": 0,
           "timepoint": 538,
           "trajectory": "D_data",
           "value": 53273
          },
          {
           "sample_id": 0,
           "timepoint": 539,
           "trajectory": "D_data",
           "value": 53283
          },
          {
           "sample_id": 0,
           "timepoint": 540,
           "trajectory": "D_data",
           "value": 53287
          },
          {
           "sample_id": 0,
           "timepoint": 541,
           "trajectory": "D_data",
           "value": 53288
          },
          {
           "sample_id": 0,
           "timepoint": 542,
           "trajectory": "D_data",
           "value": 53296
          },
          {
           "sample_id": 0,
           "timepoint": 543,
           "trajectory": "D_data",
           "value": 53304
          },
          {
           "sample_id": 0,
           "timepoint": 544,
           "trajectory": "D_data",
           "value": 53308
          },
          {
           "sample_id": 0,
           "timepoint": 545,
           "trajectory": "D_data",
           "value": 53312
          },
          {
           "sample_id": 0,
           "timepoint": 546,
           "trajectory": "D_data",
           "value": 53318
          },
          {
           "sample_id": 0,
           "timepoint": 547,
           "trajectory": "D_data",
           "value": 53325
          },
          {
           "sample_id": 0,
           "timepoint": 548,
           "trajectory": "D_data",
           "value": 53328
          },
          {
           "sample_id": 0,
           "timepoint": 549,
           "trajectory": "D_data",
           "value": 53330
          },
          {
           "sample_id": 0,
           "timepoint": 550,
           "trajectory": "D_data",
           "value": 53339
          },
          {
           "sample_id": 0,
           "timepoint": 551,
           "trajectory": "D_data",
           "value": 53345
          },
          {
           "sample_id": 0,
           "timepoint": 552,
           "trajectory": "D_data",
           "value": 53347
          },
          {
           "sample_id": 0,
           "timepoint": 553,
           "trajectory": "D_data",
           "value": 53357
          },
          {
           "sample_id": 0,
           "timepoint": 554,
           "trajectory": "D_data",
           "value": 53361
          },
          {
           "sample_id": 0,
           "timepoint": 555,
           "trajectory": "D_data",
           "value": 53368
          },
          {
           "sample_id": 0,
           "timepoint": 556,
           "trajectory": "D_data",
           "value": 53378
          },
          {
           "sample_id": 0,
           "timepoint": 557,
           "trajectory": "D_data",
           "value": 53385
          },
          {
           "sample_id": 0,
           "timepoint": 558,
           "trajectory": "D_data",
           "value": 53392
          },
          {
           "sample_id": 0,
           "timepoint": 559,
           "trajectory": "D_data",
           "value": 53402
          },
          {
           "sample_id": 0,
           "timepoint": 560,
           "trajectory": "D_data",
           "value": 53405
          },
          {
           "sample_id": 0,
           "timepoint": 561,
           "trajectory": "D_data",
           "value": 53420
          },
          {
           "sample_id": 0,
           "timepoint": 562,
           "trajectory": "D_data",
           "value": 53428
          },
          {
           "sample_id": 0,
           "timepoint": 563,
           "trajectory": "D_data",
           "value": 53459
          },
          {
           "sample_id": 0,
           "timepoint": 564,
           "trajectory": "D_data",
           "value": 53472
          },
          {
           "sample_id": 0,
           "timepoint": 565,
           "trajectory": "D_data",
           "value": 53478
          },
          {
           "sample_id": 0,
           "timepoint": 566,
           "trajectory": "D_data",
           "value": 53488
          },
          {
           "sample_id": 0,
           "timepoint": 567,
           "trajectory": "D_data",
           "value": 53522
          },
          {
           "sample_id": 0,
           "timepoint": 568,
           "trajectory": "D_data",
           "value": 53548
          }
         ]
        },
        {
         "name": "markers",
         "values": []
        },
        {
         "name": "selected",
         "on": [
          {
           "remove": true,
           "trigger": "clear"
          },
          {
           "remove": true,
           "trigger": "!shift"
          },
          {
           "insert": "clicked",
           "trigger": "!shift && clicked"
          },
          {
           "toggle": "clicked",
           "trigger": "shift && clicked"
          }
         ]
        }
       ],
       "height": 300,
       "legends": [
        {
         "encode": {
          "labels": {
           "interactive": true,
           "name": "legendLabel",
           "update": {
            "opacity": [
             {
              "test": "!length(data('selected')) || indata('selected', 'value', datum.value)",
              "value": 1
             },
             {
              "value": 0.25
             }
            ]
           }
          },
          "symbols": {
           "interactive": true,
           "name": "legendSymbol",
           "update": {
            "fill": {
             "value": "transparent"
            },
            "opacity": [
             {
              "test": "!length(data('selected')) || indata('selected', 'value', datum.value)",
              "value": 0.7
             },
             {
              "value": 0.15
             }
            ],
            "size": {
             "value": 64
            },
            "strokeWidth": {
             "value": 2
            }
           }
          }
         },
         "name": "color_legend",
         "stroke": "color"
        }
       ],
       "marks": [
        {
         "from": {
          "facet": {
           "data": "points",
           "groupby": "trajectory",
           "name": "points_split"
          }
         },
         "marks": [
          {
           "encode": {
            "hover": {
             "fillOpacity": {
              "value": 0.9
             }
            },
            "update": {
             "fill": {
              "field": "trajectory",
              "scale": "color"
             },
             "fillOpacity": [
              {
               "test": "!length(data('selected')) || indata('selected', 'value', datum.trajectory)",
               "value": 0.5
              },
              {
               "value": 0.15
              }
             ],
             "size": {
              "value": 10
             },
             "stroke": {
              "field": "trajectory",
              "scale": "color"
             },
             "strokeOpacity": [
              {
               "test": "!length(data('selected')) || indata('selected', 'value', datum.trajectory)",
               "value": 0.75
              },
              {
               "value": 0.15
              }
             ],
             "strokeWidth": {
              "value": 2
             },
             "tooltip": {
              "field": "value"
             },
             "x": {
              "field": "timepoint",
              "scale": "xscale"
             },
             "y": {
              "field": "value",
              "scale": "yscale"
             }
            }
           },
           "from": {
            "data": "points"
           },
           "name": "_points_symbol",
           "type": "symbol",
           "zindex": 3
          },
          {
           "encode": {
            "hover": {
             "fillOpacity": {
              "value": 0.9
             }
            },
            "update": {
             "interpolate": {
              "value": "linear"
             },
             "stroke": {
              "field": "trajectory",
              "scale": "color"
             },
             "strokeOpacity": [
              {
               "test": "!length(data('selected')) || indata('selected', 'value', datum.trajectory)",
               "value": 0.3
              },
              {
               "value": 0.1
              }
             ],
             "strokeWidth": {
              "value": 2
             },
             "x": {
              "field": "timepoint",
              "scale": "xscale"
             },
             "y": {
              "field": "value",
              "scale": "yscale"
             }
            }
           },
           "from": {
            "data": "points"
           },
           "name": "_points_line",
           "type": "line",
           "zindex": 3
          }
         ],
         "name": "_points",
         "type": "group",
         "zindex": 3
        },
        {
         "from": {
          "facet": {
           "data": "traces",
           "groupby": "trajectory",
           "name": "traces_split"
          }
         },
         "marks": [
          {
           "encode": {
            "hover": {
             "fillOpacity": {
              "value": 0.9
             }
            },
            "update": {
             "interpolate": {
              "value": "linear"
             },
             "stroke": {
              "field": "trajectory",
              "scale": "color"
             },
             "strokeOpacity": [
              {
               "test": "!length(data('selected')) || indata('selected', 'value', datum.trajectory)",
               "value": 0.75
              },
              {
               "value": 0.15
              }
             ],
             "strokeWidth": {
              "value": 2
             },
             "x": {
              "field": "timepoint",
              "scale": "xscale"
             },
             "y": {
              "field": "value",
              "scale": "yscale"
             }
            }
           },
           "from": {
            "data": "traces_split"
           },
           "name": "_traces_lines",
           "type": "line"
          }
         ],
         "name": "_traces",
         "type": "group",
         "zindex": 2
        },
        {
         "from": {
          "facet": {
           "data": "distributions",
           "groupby": "trajectory",
           "name": "trajectory_split"
          }
         },
         "marks": [
          {
           "encode": {
            "hover": {
             "fillOpacity": {
              "value": 0.9
             }
            },
            "update": {
             "fill": {
              "field": "trajectory",
              "scale": "color"
             },
             "fillOpacity": [
              {
               "test": "!length(data('selected')) || indata('selected', 'value', datum.trajectory)",
               "value": 0.5
              },
              {
               "value": 0.15
              }
             ],
             "interpolate": {
              "value": "linear"
             },
             "stroke": {
              "field": "trajectory",
              "scale": "color"
             },
             "strokeOpacity": [
              {
               "test": "!length(data('selected')) || indata('selected', 'value', datum.trajectory)",
               "value": 0.75
              },
              {
               "value": 0.15
              }
             ],
             "strokeWidth": {
              "value": 2
             },
             "x": {
              "field": "timepoint",
              "scale": "xscale"
             },
             "y": {
              "field": "upper",
              "scale": "yscale"
             },
             "y2": {
              "field": "lower",
              "scale": "yscale"
             }
            }
           },
           "from": {
            "data": "trajectory_split"
           },
           "type": "area"
          }
         ],
         "name": "_distributions",
         "type": "group",
         "zindex": 1
        },
        {
         "marks": [
          {
           "encode": {
            "enter": {
             "stroke": {
              "value": "lightgray"
             }
            },
            "update": {
             "opacity": {
              "value": 1
             },
             "x": {
              "field": "timepoint",
              "scale": "xscale"
             },
             "y": {
              "signal": "height"
             },
             "y2": {
              "value": 0
             }
            }
           },
           "from": {
            "data": "markers"
           },
           "name": "_marker text",
           "type": "rule"
          },
          {
           "encode": {
            "enter": {
             "fontSize": {
              "value": 8
             },
             "text": {
              "field": "datum.label"
             },
             "y": {
              "value": 0
             }
            }
           },
           "from": {
            "data": "_marker text"
           },
           "name": "_marker flags",
           "transform": [
            {
             "as": [
              "x",
              "_y",
              "opacity",
              "align",
              "baseline"
             ],
             "lineAnchor": "start",
             "offset": [
              1
             ],
             "size": {
              "signal": "[width, height]"
             },
             "type": "label"
            }
           ],
           "type": "text"
          }
         ],
         "name": "_markers",
         "type": "group"
        }
       ],
       "padding": 5,
       "scales": [
        {
         "domain": {
          "fields": [
           {
            "data": "distributions",
            "field": "timepoint"
           },
           {
            "data": "traces",
            "field": "timepoint"
           },
           {
            "data": "points",
            "field": "timepoint"
           },
           {
            "data": "markers",
            "field": "timepoint"
           }
          ]
         },
         "name": "xscale",
         "range": "width",
         "type": "linear",
         "zero": false
        },
        {
         "domain": {
          "fields": [
           {
            "data": "distributions",
            "field": "lower"
           },
           {
            "data": "distributions",
            "field": "upper"
           },
           {
            "data": "traces",
            "field": "value"
           },
           {
            "data": "points",
            "field": "value"
           }
          ]
         },
         "name": "yscale",
         "nice": true,
         "range": "height",
         "type": "linear",
         "zero": true
        },
        {
         "domain": {
          "fields": [
           {
            "data": "distributions",
            "field": "trajectory"
           },
           {
            "data": "traces",
            "field": "trajectory"
           },
           {
            "data": "points",
            "field": "trajectory"
           }
          ]
         },
         "name": "color",
         "range": "category",
         "type": "ordinal"
        }
       ],
       "signals": [
        {
         "name": "clear",
         "on": [
          {
           "events": "mouseup[!event.item]",
           "force": true,
           "update": "true"
          }
         ],
         "value": true
        },
        {
         "name": "shift",
         "on": [
          {
           "events": "@legendSymbol:click, @legendLabel:click",
           "force": true,
           "update": "event.shiftKey"
          }
         ],
         "value": false
        },
        {
         "name": "clicked",
         "on": [
          {
           "events": "@legendSymbol:click, @legendLabel:click",
           "force": true,
           "update": "{value: datum.value}"
          }
         ],
         "value": null
        }
       ],
       "width": 500
      }
     },
     "metadata": {},
     "output_type": "display_data"
    }
   ],
   "source": [
    "num_samples = 2\n",
    "model_paths = [model1_location]\n",
    "data_path = \"../../notebook/ensemble_eval_sa/NY_data2.csv\"\n",
    "weights = [1]\n",
    "solution_mappings = [{\"I\": \"I\", \"H\": \"H\", \"D\": \"D\"}] # \"column name in data\": \"observable or state variable in model\"\n",
    "\n",
    "# Run the calibration and sampling\n",
    "result = load_and_calibrate_and_sample_ensemble_model(\n",
    "    model_paths,\n",
    "    data_path,\n",
    "    weights,\n",
    "    solution_mappings,\n",
    "    num_samples,\n",
    "    timepoints,\n",
    "    verbose=True,\n",
    "    total_population=19340000,\n",
    "    num_iterations=100,\n",
    "    time_unit=\"days\",\n",
    "    visual_options={\"title\": \"Calibrated Ensemble\", \"subset\":\".*_sol\"}\n",
    ")\n",
    "\n",
    "# # Save results\n",
    "# result[\"data\"].to_csv(\n",
    "#     os.path.join(DEMO_PATH, \"results_petri_ensemble/calibrated_sample_results.csv\"), index=False\n",
    "# )\n",
    "# result[\"quantiles\"].to_csv(\n",
    "#     os.path.join(DEMO_PATH, \"results_petri_ensemble/calibrated_quantile_results.csv\"), index=False\n",
    "# )\n",
    "\n",
    "# Plot results\n",
    "schema = plots.trajectories(pd.DataFrame(result[\"data\"]), subset=\".*_sol\",\n",
    "                            points=test_data.reset_index(drop=True).rename(columns={\"I\":\"I_data\", \"H\":\"H_data\", \"D\":\"D_data\"}),\n",
    "                           )\n",
    "schema = plots.pad(schema, 5)\n",
    "plots.ipy_display(schema)"
   ]
  },
  {
   "cell_type": "markdown",
   "id": "847f9a21-870a-4b07-804b-1c44d474c094",
   "metadata": {},
   "source": [
    "## Load, calibrate and sample an ensemble of several models"
   ]
  },
  {
   "cell_type": "code",
   "execution_count": 6,
   "id": "7e10b282-a55a-4e72-afea-cb6c752f25c5",
   "metadata": {},
   "outputs": [
    {
     "name": "stderr",
     "output_type": "stream",
     "text": [
      "ERROR:root:\n",
      "                ###############################\n",
      "\n",
      "                There was an exception in pyciemss\n",
      "                \n",
      "                Error occured in function: load_and_calibrate_and_sample_ensemble_model\n",
      "\n",
      "                Function docs : \n",
      "    Load a collection petri net from a file, compile them into an ensemble probabilistic program, calibrate it on data,\n",
      "    and sample from the calibrated model.\n",
      "\n",
      "    Args:\n",
      "        petri_model_or_paths: Iterable[Union[str, mira.metamodel.TemplateModel, mira.modeling.Model]\n",
      "            - Each element of the iterable is a path to a petri net file, or a petri net object.\n",
      "            - This path can be a URL or a local path to a mira model or AMR model.\n",
      "            - Alternatively, this can be a mira template model directly.\n",
      "        data_path: str\n",
      "            - The path to the data to calibrate the model to. See notebook/integration_demo/data.csv\n",
      "              for an example of the format.\n",
      "            - The data should be a csv with one column for \"time\" and remaining columns for each state variable.\n",
      "            - Each state variable must exactly align with the state variables in the shared ensemble representation.\n",
      "              (See `solution_mappings` for more details.)\n",
      "        weights: Iterable[float]\n",
      "            - Weights representing prior belief about which models are more likely to be correct.\n",
      "            - By convention these weights should sum to 1.0.\n",
      "        solution_mappings: Iterable[Callable]\n",
      "            - A list of functions that map the output of the model to the output of the shared state space.\n",
      "            - Each element of the iterable is a function that takes in a model output and returns a dict of\n",
      "              the form {variable_name: value}.\n",
      "            - The order of the functions should match the order of the models.\n",
      "        num_samples: int\n",
      "            - The number of samples to draw from the model.\n",
      "        timepoints: [Iterable[float]]\n",
      "            - The timepoints to simulate the model from. Backcasting and/or forecasting is reflected\n",
      "              in the choice of timepoints.\n",
      "        start_states: Optional[Iterable[dict[str, float]]]\n",
      "            - Each element of the iterable is the initial state of the component model.\n",
      "            - If None, the initial state is taken from each of the mira models.\n",
      "            - Note: Currently users must specify the initial state for all or none of the models.\n",
      "        total_population: float > 0.0\n",
      "            - The total population of the model. This is used to scale the model to the correct population.\n",
      "        pseudocount: float > 0.0\n",
      "            - The pseudocount to use for adding uncertainty to the observations.\n",
      "            - Larger values of pseudocount correspond to more certainty about the observations.\n",
      "        dirichlet_concentration: float > 0.0\n",
      "            - The concentration parameter for the dirichlet distribution used to sample the ensemble mixture weights.\n",
      "            - Larger values of dirichlet_concentration correspond to more certainty about the weights.\n",
      "        start_time: float\n",
      "            - The start time of the model. This is used to align the `start_state` with the `timepoints`.\n",
      "            - By default we set the `start_time` to be a small negative number to avoid numerical issues\n",
      "              w/ collision with the `timepoints` which typically start at 0.\n",
      "        num_iterations: int\n",
      "            - The number of iterations to run the calibration for.\n",
      "        lr: float\n",
      "            - The learning rate to use for the calibration.\n",
      "        verbose: bool\n",
      "            - Whether to print out the calibration progress. This will include summaries of the evidence lower\n",
      "              bound (ELBO) and the parameters.\n",
      "        verbose_every: int\n",
      "            - How often to print out the loss during calibration.\n",
      "        num_particles: int\n",
      "            - The number of particles to use for the calibration. Increasing this value will result in lower variance\n",
      "              gradient estimates, but will also increase the computational cost per gradient step.\n",
      "        autoguide: pyro.infer.autoguide.AutoGuide\n",
      "            - The autoguide to use for the calibration.\n",
      "        method: str\n",
      "            - The method to use for the ODE solver. See `torchdiffeq.odeint` for more details.\n",
      "            - If performance is incredibly slow, we suggest using `euler` to debug. If using `euler` results\n",
      "              in faster simulation, the issue is likely that the model is stiff.\n",
      "        time_unit: str\n",
      "            - Time unit (used for labeling outputs)\n",
      "        visual_options: None, bool, dict[str, any]\n",
      "            - True output a visual\n",
      "            - False do not output a visual\n",
      "            - dict output a visual with the dictionary passed to the visualization as kwargs\n",
      "        alpha_qs: Optional[Iterable[float]]\n",
      "            - The quantiles required for estimating weighted interval score to test ensemble forecasting accuracy.\n",
      "        stacking_order: Optional[str]\n",
      "            - The stacking order requested for the ensemble quantiles to keep the selected quantity together for each state.\n",
      "            - Options: \"timepoints\" or \"quantiles\"\n",
      "\n",
      "    Returns:\n",
      "        result: dict\n",
      "            - Dictionary of outputs with following attribute:\n",
      "                * data: The samples from the calibrated model as a pandas DataFrame.\n",
      "                * quantiles: The quantiles for ensemble score calculation after calibration as a pandas DataFrames.\n",
      "                * visual: Visualization. (If visual_options is truthy)\n",
      "    \n",
      "\n",
      "                ################################\n",
      "            \n",
      "Traceback (most recent call last):\n",
      "  File \"/Users/altu809/Projects/pyciemss/src/pyciemss/custom_decorators.py\", line 9, in wrapped\n",
      "    result = function(*args, **kwargs)\n",
      "  File \"/Users/altu809/Projects/pyciemss/src/pyciemss/Ensemble/interfaces.py\", line 289, in load_and_calibrate_and_sample_ensemble_model\n",
      "    models = [\n",
      "  File \"/Users/altu809/Projects/pyciemss/src/pyciemss/Ensemble/interfaces.py\", line 290, in <listcomp>\n",
      "    load_petri_model(\n",
      "  File \"/Users/altu809/Projects/pyciemss/src/pyciemss/PetriNetODE/interfaces.py\", line 767, in load_petri_model\n",
      "    return ScaledNormalNoisePetriNetODESystem.from_askenet(\n",
      "  File \"/Users/altu809/.pyenv/versions/3.10.9/lib/python3.10/functools.py\", line 926, in _method\n",
      "    return method.__get__(obj, cls)(*args, **kwargs)\n",
      "  File \"/Users/altu809/Projects/pyciemss/src/pyciemss/PetriNetODE/base.py\", line 464, in _from_path\n",
      "    raise ValueError(f\"Model file not found: {model_json_path}\")\n",
      "ValueError: Model file not found: ../../notebook/ensemble_eval_sa/SIRHD_vacc_var_V1.json\n"
     ]
    },
    {
     "ename": "ValueError",
     "evalue": "Model file not found: ../../notebook/ensemble_eval_sa/SIRHD_vacc_var_V1.json",
     "output_type": "error",
     "traceback": [
      "\u001b[0;31m---------------------------------------------------------------------------\u001b[0m",
      "\u001b[0;31mValueError\u001b[0m                                Traceback (most recent call last)",
      "Cell \u001b[0;32mIn[6], line 11\u001b[0m\n\u001b[1;32m      5\u001b[0m solution_mappings \u001b[38;5;241m=\u001b[39m [{\u001b[38;5;124m\"\u001b[39m\u001b[38;5;124mI\u001b[39m\u001b[38;5;124m\"\u001b[39m: \u001b[38;5;124m\"\u001b[39m\u001b[38;5;124mI\u001b[39m\u001b[38;5;124m\"\u001b[39m, \u001b[38;5;124m\"\u001b[39m\u001b[38;5;124mH\u001b[39m\u001b[38;5;124m\"\u001b[39m: \u001b[38;5;124m\"\u001b[39m\u001b[38;5;124mH\u001b[39m\u001b[38;5;124m\"\u001b[39m, \u001b[38;5;124m\"\u001b[39m\u001b[38;5;124mD\u001b[39m\u001b[38;5;124m\"\u001b[39m: \u001b[38;5;124m\"\u001b[39m\u001b[38;5;124mD\u001b[39m\u001b[38;5;124m\"\u001b[39m},\n\u001b[1;32m      6\u001b[0m                      {\u001b[38;5;124m\"\u001b[39m\u001b[38;5;124mI\u001b[39m\u001b[38;5;124m\"\u001b[39m: \u001b[38;5;124m\"\u001b[39m\u001b[38;5;124mI\u001b[39m\u001b[38;5;124m\"\u001b[39m, \u001b[38;5;124m\"\u001b[39m\u001b[38;5;124mH\u001b[39m\u001b[38;5;124m\"\u001b[39m: \u001b[38;5;124m\"\u001b[39m\u001b[38;5;124mH\u001b[39m\u001b[38;5;124m\"\u001b[39m, \u001b[38;5;124m\"\u001b[39m\u001b[38;5;124mD\u001b[39m\u001b[38;5;124m\"\u001b[39m: \u001b[38;5;124m\"\u001b[39m\u001b[38;5;124mD\u001b[39m\u001b[38;5;124m\"\u001b[39m}, \n\u001b[1;32m      7\u001b[0m                      {\u001b[38;5;124m\"\u001b[39m\u001b[38;5;124mI\u001b[39m\u001b[38;5;124m\"\u001b[39m: \u001b[38;5;124m\"\u001b[39m\u001b[38;5;124mCases\u001b[39m\u001b[38;5;124m\"\u001b[39m, \u001b[38;5;124m\"\u001b[39m\u001b[38;5;124mH\u001b[39m\u001b[38;5;124m\"\u001b[39m: \u001b[38;5;124m\"\u001b[39m\u001b[38;5;124mHosp\u001b[39m\u001b[38;5;124m\"\u001b[39m, \u001b[38;5;124m\"\u001b[39m\u001b[38;5;124mD\u001b[39m\u001b[38;5;124m\"\u001b[39m: \u001b[38;5;124m\"\u001b[39m\u001b[38;5;124mDeaths\u001b[39m\u001b[38;5;124m\"\u001b[39m},\n\u001b[1;32m      8\u001b[0m                      ]\n\u001b[1;32m     10\u001b[0m \u001b[38;5;66;03m# Run the calibration and sampling\u001b[39;00m\n\u001b[0;32m---> 11\u001b[0m result \u001b[38;5;241m=\u001b[39m \u001b[43mload_and_calibrate_and_sample_ensemble_model\u001b[49m\u001b[43m(\u001b[49m\n\u001b[1;32m     12\u001b[0m \u001b[43m    \u001b[49m\u001b[43mmodel_paths\u001b[49m\u001b[43m,\u001b[49m\n\u001b[1;32m     13\u001b[0m \u001b[43m    \u001b[49m\u001b[43mdata_path\u001b[49m\u001b[43m,\u001b[49m\n\u001b[1;32m     14\u001b[0m \u001b[43m    \u001b[49m\u001b[43mweights\u001b[49m\u001b[43m,\u001b[49m\n\u001b[1;32m     15\u001b[0m \u001b[43m    \u001b[49m\u001b[43msolution_mappings\u001b[49m\u001b[43m,\u001b[49m\n\u001b[1;32m     16\u001b[0m \u001b[43m    \u001b[49m\u001b[43mnum_samples\u001b[49m\u001b[43m,\u001b[49m\n\u001b[1;32m     17\u001b[0m \u001b[43m    \u001b[49m\u001b[43mtimepoints\u001b[49m\u001b[43m,\u001b[49m\n\u001b[1;32m     18\u001b[0m \u001b[43m    \u001b[49m\u001b[43mverbose\u001b[49m\u001b[38;5;241;43m=\u001b[39;49m\u001b[38;5;28;43;01mTrue\u001b[39;49;00m\u001b[43m,\u001b[49m\n\u001b[1;32m     19\u001b[0m \u001b[43m    \u001b[49m\u001b[43mtotal_population\u001b[49m\u001b[38;5;241;43m=\u001b[39;49m\u001b[38;5;241;43m19340000\u001b[39;49m\u001b[43m,\u001b[49m\n\u001b[1;32m     20\u001b[0m \u001b[43m    \u001b[49m\u001b[43mnum_iterations\u001b[49m\u001b[38;5;241;43m=\u001b[39;49m\u001b[38;5;241;43m200\u001b[39;49m\u001b[43m,\u001b[49m\n\u001b[1;32m     21\u001b[0m \u001b[43m    \u001b[49m\u001b[43mtime_unit\u001b[49m\u001b[38;5;241;43m=\u001b[39;49m\u001b[38;5;124;43m\"\u001b[39;49m\u001b[38;5;124;43mdays\u001b[39;49m\u001b[38;5;124;43m\"\u001b[39;49m\u001b[43m,\u001b[49m\n\u001b[1;32m     22\u001b[0m \u001b[43m    \u001b[49m\u001b[43mvisual_options\u001b[49m\u001b[38;5;241;43m=\u001b[39;49m\u001b[43m{\u001b[49m\u001b[38;5;124;43m\"\u001b[39;49m\u001b[38;5;124;43mtitle\u001b[39;49m\u001b[38;5;124;43m\"\u001b[39;49m\u001b[43m:\u001b[49m\u001b[43m \u001b[49m\u001b[38;5;124;43m\"\u001b[39;49m\u001b[38;5;124;43mCalibrated Ensemble\u001b[39;49m\u001b[38;5;124;43m\"\u001b[39;49m\u001b[43m,\u001b[49m\u001b[43m \u001b[49m\u001b[38;5;124;43m\"\u001b[39;49m\u001b[38;5;124;43msubset\u001b[39;49m\u001b[38;5;124;43m\"\u001b[39;49m\u001b[43m:\u001b[49m\u001b[38;5;124;43m\"\u001b[39;49m\u001b[38;5;124;43m.*_sol\u001b[39;49m\u001b[38;5;124;43m\"\u001b[39;49m\u001b[43m}\u001b[49m\n\u001b[1;32m     23\u001b[0m \u001b[43m)\u001b[49m\n\u001b[1;32m     25\u001b[0m \u001b[38;5;66;03m# # Save results\u001b[39;00m\n\u001b[1;32m     26\u001b[0m \u001b[38;5;66;03m# result[\"data\"].to_csv(\u001b[39;00m\n\u001b[1;32m     27\u001b[0m \u001b[38;5;66;03m#     os.path.join(DEMO_PATH, \"results_petri_ensemble/calibrated_sample_results.csv\"), index=False\u001b[39;00m\n\u001b[0;32m   (...)\u001b[0m\n\u001b[1;32m     32\u001b[0m \n\u001b[1;32m     33\u001b[0m \u001b[38;5;66;03m# Plot results\u001b[39;00m\n\u001b[1;32m     34\u001b[0m schema \u001b[38;5;241m=\u001b[39m plots\u001b[38;5;241m.\u001b[39mtrajectories(pd\u001b[38;5;241m.\u001b[39mDataFrame(result[\u001b[38;5;124m\"\u001b[39m\u001b[38;5;124mdata\u001b[39m\u001b[38;5;124m\"\u001b[39m]), subset\u001b[38;5;241m=\u001b[39m\u001b[38;5;124m\"\u001b[39m\u001b[38;5;124m.*_sol\u001b[39m\u001b[38;5;124m\"\u001b[39m,\n\u001b[1;32m     35\u001b[0m                             points\u001b[38;5;241m=\u001b[39mtest_data\u001b[38;5;241m.\u001b[39mreset_index(drop\u001b[38;5;241m=\u001b[39m\u001b[38;5;28;01mTrue\u001b[39;00m)\u001b[38;5;241m.\u001b[39mrename(columns\u001b[38;5;241m=\u001b[39m{\u001b[38;5;124m\"\u001b[39m\u001b[38;5;124mI\u001b[39m\u001b[38;5;124m\"\u001b[39m:\u001b[38;5;124m\"\u001b[39m\u001b[38;5;124mI_data\u001b[39m\u001b[38;5;124m\"\u001b[39m, \u001b[38;5;124m\"\u001b[39m\u001b[38;5;124mH\u001b[39m\u001b[38;5;124m\"\u001b[39m:\u001b[38;5;124m\"\u001b[39m\u001b[38;5;124mH_data\u001b[39m\u001b[38;5;124m\"\u001b[39m, \u001b[38;5;124m\"\u001b[39m\u001b[38;5;124mD\u001b[39m\u001b[38;5;124m\"\u001b[39m:\u001b[38;5;124m\"\u001b[39m\u001b[38;5;124mD_data\u001b[39m\u001b[38;5;124m\"\u001b[39m}),\n\u001b[1;32m     36\u001b[0m                            )\n",
      "File \u001b[0;32m~/Projects/pyciemss/src/pyciemss/custom_decorators.py:30\u001b[0m, in \u001b[0;36mpyciemss_logging_wrapper.<locals>.wrapped\u001b[0;34m(*args, **kwargs)\u001b[0m\n\u001b[1;32m     18\u001b[0m log_message \u001b[38;5;241m=\u001b[39m \u001b[38;5;124m\"\"\"\u001b[39m\n\u001b[1;32m     19\u001b[0m \u001b[38;5;124m    ###############################\u001b[39m\n\u001b[1;32m     20\u001b[0m \n\u001b[0;32m   (...)\u001b[0m\n\u001b[1;32m     27\u001b[0m \u001b[38;5;124m    ################################\u001b[39m\n\u001b[1;32m     28\u001b[0m \u001b[38;5;124m\u001b[39m\u001b[38;5;124m\"\"\"\u001b[39m\n\u001b[1;32m     29\u001b[0m logging\u001b[38;5;241m.\u001b[39mexception(log_message, function\u001b[38;5;241m.\u001b[39m\u001b[38;5;18m__name__\u001b[39m, function\u001b[38;5;241m.\u001b[39m\u001b[38;5;18m__doc__\u001b[39m)\n\u001b[0;32m---> 30\u001b[0m \u001b[38;5;28;01mraise\u001b[39;00m e\n",
      "File \u001b[0;32m~/Projects/pyciemss/src/pyciemss/custom_decorators.py:9\u001b[0m, in \u001b[0;36mpyciemss_logging_wrapper.<locals>.wrapped\u001b[0;34m(*args, **kwargs)\u001b[0m\n\u001b[1;32m      7\u001b[0m \u001b[38;5;28;01mtry\u001b[39;00m:\n\u001b[1;32m      8\u001b[0m     start_time \u001b[38;5;241m=\u001b[39m time\u001b[38;5;241m.\u001b[39mperf_counter()\n\u001b[0;32m----> 9\u001b[0m     result \u001b[38;5;241m=\u001b[39m \u001b[43mfunction\u001b[49m\u001b[43m(\u001b[49m\u001b[38;5;241;43m*\u001b[39;49m\u001b[43margs\u001b[49m\u001b[43m,\u001b[49m\u001b[43m \u001b[49m\u001b[38;5;241;43m*\u001b[39;49m\u001b[38;5;241;43m*\u001b[39;49m\u001b[43mkwargs\u001b[49m\u001b[43m)\u001b[49m\n\u001b[1;32m     10\u001b[0m     end_time \u001b[38;5;241m=\u001b[39m time\u001b[38;5;241m.\u001b[39mperf_counter()\n\u001b[1;32m     11\u001b[0m     logging\u001b[38;5;241m.\u001b[39minfo(\n\u001b[1;32m     12\u001b[0m         \u001b[38;5;124m\"\u001b[39m\u001b[38;5;124mElapsed time for \u001b[39m\u001b[38;5;132;01m%s\u001b[39;00m\u001b[38;5;124m: \u001b[39m\u001b[38;5;132;01m%f\u001b[39;00m\u001b[38;5;124m\"\u001b[39m,\n\u001b[1;32m     13\u001b[0m         function\u001b[38;5;241m.\u001b[39m\u001b[38;5;18m__name__\u001b[39m, end_time \u001b[38;5;241m-\u001b[39m start_time\n\u001b[1;32m     14\u001b[0m     )\n",
      "File \u001b[0;32m~/Projects/pyciemss/src/pyciemss/Ensemble/interfaces.py:289\u001b[0m, in \u001b[0;36mload_and_calibrate_and_sample_ensemble_model\u001b[0;34m(petri_model_or_paths, data_path, weights, solution_mappings, num_samples, timepoints, start_states, total_population, noise_model, noise_scale, dirichlet_concentration, start_time, num_iterations, lr, verbose, verbose_every, num_particles, autoguide, compile_rate_law_p, method, time_unit, visual_options, alpha_qs, stacking_order)\u001b[0m\n\u001b[1;32m    205\u001b[0m \u001b[38;5;250m\u001b[39m\u001b[38;5;124;03m\"\"\"\u001b[39;00m\n\u001b[1;32m    206\u001b[0m \u001b[38;5;124;03mLoad a collection petri net from a file, compile them into an ensemble probabilistic program, calibrate it on data,\u001b[39;00m\n\u001b[1;32m    207\u001b[0m \u001b[38;5;124;03mand sample from the calibrated model.\u001b[39;00m\n\u001b[0;32m   (...)\u001b[0m\n\u001b[1;32m    284\u001b[0m \u001b[38;5;124;03m            * visual: Visualization. (If visual_options is truthy)\u001b[39;00m\n\u001b[1;32m    285\u001b[0m \u001b[38;5;124;03m\"\"\"\u001b[39;00m\n\u001b[1;32m    287\u001b[0m data \u001b[38;5;241m=\u001b[39m csv_to_list(data_path)\n\u001b[0;32m--> 289\u001b[0m models \u001b[38;5;241m=\u001b[39m [\n\u001b[1;32m    290\u001b[0m     load_petri_model(\n\u001b[1;32m    291\u001b[0m         petri_model_or_path\u001b[38;5;241m=\u001b[39mpmop,\n\u001b[1;32m    292\u001b[0m         add_uncertainty\u001b[38;5;241m=\u001b[39m\u001b[38;5;28;01mFalse\u001b[39;00m,\n\u001b[1;32m    293\u001b[0m         compile_rate_law_p\u001b[38;5;241m=\u001b[39mcompile_rate_law_p,\n\u001b[1;32m    294\u001b[0m         compile_observables_p\u001b[38;5;241m=\u001b[39m\u001b[38;5;28;01mTrue\u001b[39;00m,\n\u001b[1;32m    295\u001b[0m     )\n\u001b[1;32m    296\u001b[0m     \u001b[38;5;28;01mfor\u001b[39;00m pmop \u001b[38;5;129;01min\u001b[39;00m petri_model_or_paths\n\u001b[1;32m    297\u001b[0m ]\n\u001b[1;32m    299\u001b[0m \u001b[38;5;66;03m# If the user doesn't override the start state, use the initial values from the model.\u001b[39;00m\n\u001b[1;32m    300\u001b[0m \u001b[38;5;28;01mif\u001b[39;00m start_states \u001b[38;5;129;01mis\u001b[39;00m \u001b[38;5;28;01mNone\u001b[39;00m:\n",
      "File \u001b[0;32m~/Projects/pyciemss/src/pyciemss/Ensemble/interfaces.py:290\u001b[0m, in \u001b[0;36m<listcomp>\u001b[0;34m(.0)\u001b[0m\n\u001b[1;32m    205\u001b[0m \u001b[38;5;250m\u001b[39m\u001b[38;5;124;03m\"\"\"\u001b[39;00m\n\u001b[1;32m    206\u001b[0m \u001b[38;5;124;03mLoad a collection petri net from a file, compile them into an ensemble probabilistic program, calibrate it on data,\u001b[39;00m\n\u001b[1;32m    207\u001b[0m \u001b[38;5;124;03mand sample from the calibrated model.\u001b[39;00m\n\u001b[0;32m   (...)\u001b[0m\n\u001b[1;32m    284\u001b[0m \u001b[38;5;124;03m            * visual: Visualization. (If visual_options is truthy)\u001b[39;00m\n\u001b[1;32m    285\u001b[0m \u001b[38;5;124;03m\"\"\"\u001b[39;00m\n\u001b[1;32m    287\u001b[0m data \u001b[38;5;241m=\u001b[39m csv_to_list(data_path)\n\u001b[1;32m    289\u001b[0m models \u001b[38;5;241m=\u001b[39m [\n\u001b[0;32m--> 290\u001b[0m     \u001b[43mload_petri_model\u001b[49m\u001b[43m(\u001b[49m\n\u001b[1;32m    291\u001b[0m \u001b[43m        \u001b[49m\u001b[43mpetri_model_or_path\u001b[49m\u001b[38;5;241;43m=\u001b[39;49m\u001b[43mpmop\u001b[49m\u001b[43m,\u001b[49m\n\u001b[1;32m    292\u001b[0m \u001b[43m        \u001b[49m\u001b[43madd_uncertainty\u001b[49m\u001b[38;5;241;43m=\u001b[39;49m\u001b[38;5;28;43;01mFalse\u001b[39;49;00m\u001b[43m,\u001b[49m\n\u001b[1;32m    293\u001b[0m \u001b[43m        \u001b[49m\u001b[43mcompile_rate_law_p\u001b[49m\u001b[38;5;241;43m=\u001b[39;49m\u001b[43mcompile_rate_law_p\u001b[49m\u001b[43m,\u001b[49m\n\u001b[1;32m    294\u001b[0m \u001b[43m        \u001b[49m\u001b[43mcompile_observables_p\u001b[49m\u001b[38;5;241;43m=\u001b[39;49m\u001b[38;5;28;43;01mTrue\u001b[39;49;00m\u001b[43m,\u001b[49m\n\u001b[1;32m    295\u001b[0m \u001b[43m    \u001b[49m\u001b[43m)\u001b[49m\n\u001b[1;32m    296\u001b[0m     \u001b[38;5;28;01mfor\u001b[39;00m pmop \u001b[38;5;129;01min\u001b[39;00m petri_model_or_paths\n\u001b[1;32m    297\u001b[0m ]\n\u001b[1;32m    299\u001b[0m \u001b[38;5;66;03m# If the user doesn't override the start state, use the initial values from the model.\u001b[39;00m\n\u001b[1;32m    300\u001b[0m \u001b[38;5;28;01mif\u001b[39;00m start_states \u001b[38;5;129;01mis\u001b[39;00m \u001b[38;5;28;01mNone\u001b[39;00m:\n",
      "File \u001b[0;32m~/Projects/pyciemss/src/pyciemss/PetriNetODE/interfaces.py:767\u001b[0m, in \u001b[0;36mload_petri_model\u001b[0;34m(petri_model_or_path, add_uncertainty, noise_model, noise_scale, compile_observables_p, compile_rate_law_p)\u001b[0m\n\u001b[1;32m    763\u001b[0m     \u001b[38;5;28;01mreturn\u001b[39;00m ScaledBetaNoisePetriNetODESystem\u001b[38;5;241m.\u001b[39mfrom_askenet(\n\u001b[1;32m    764\u001b[0m         petri_model_or_path, noise_scale\u001b[38;5;241m=\u001b[39mnoise_scale, compile_rate_law_p\u001b[38;5;241m=\u001b[39mcompile_rate_law_p, compile_observables_p\u001b[38;5;241m=\u001b[39mcompile_observables_p, add_uncertainty\u001b[38;5;241m=\u001b[39madd_uncertainty\n\u001b[1;32m    765\u001b[0m     )\n\u001b[1;32m    766\u001b[0m \u001b[38;5;28;01melif\u001b[39;00m noise_model \u001b[38;5;241m==\u001b[39m \u001b[38;5;124m\"\u001b[39m\u001b[38;5;124mscaled_normal\u001b[39m\u001b[38;5;124m\"\u001b[39m:\n\u001b[0;32m--> 767\u001b[0m     \u001b[38;5;28;01mreturn\u001b[39;00m \u001b[43mScaledNormalNoisePetriNetODESystem\u001b[49m\u001b[38;5;241;43m.\u001b[39;49m\u001b[43mfrom_askenet\u001b[49m\u001b[43m(\u001b[49m\n\u001b[1;32m    768\u001b[0m \u001b[43m        \u001b[49m\u001b[43mpetri_model_or_path\u001b[49m\u001b[43m,\u001b[49m\u001b[43m \u001b[49m\u001b[43mnoise_scale\u001b[49m\u001b[38;5;241;43m=\u001b[39;49m\u001b[43mnoise_scale\u001b[49m\u001b[43m,\u001b[49m\u001b[43m \u001b[49m\u001b[43mcompile_rate_law_p\u001b[49m\u001b[38;5;241;43m=\u001b[39;49m\u001b[43mcompile_rate_law_p\u001b[49m\u001b[43m,\u001b[49m\u001b[43m \u001b[49m\u001b[43mcompile_observables_p\u001b[49m\u001b[38;5;241;43m=\u001b[39;49m\u001b[43mcompile_observables_p\u001b[49m\u001b[43m,\u001b[49m\u001b[43m \u001b[49m\u001b[43madd_uncertainty\u001b[49m\u001b[38;5;241;43m=\u001b[39;49m\u001b[43madd_uncertainty\u001b[49m\n\u001b[1;32m    769\u001b[0m \u001b[43m    \u001b[49m\u001b[43m)\u001b[49m\n\u001b[1;32m    770\u001b[0m \u001b[38;5;28;01melse\u001b[39;00m:\n\u001b[1;32m    771\u001b[0m     \u001b[38;5;28;01mraise\u001b[39;00m \u001b[38;5;167;01mValueError\u001b[39;00m(\u001b[38;5;124mf\u001b[39m\u001b[38;5;124m\"\u001b[39m\u001b[38;5;124mUnknown noise model \u001b[39m\u001b[38;5;132;01m{\u001b[39;00mnoise_model\u001b[38;5;132;01m}\u001b[39;00m\u001b[38;5;124m. Please select from either \u001b[39m\u001b[38;5;124m'\u001b[39m\u001b[38;5;124mscaled_beta\u001b[39m\u001b[38;5;124m'\u001b[39m\u001b[38;5;124m or \u001b[39m\u001b[38;5;124m'\u001b[39m\u001b[38;5;124mscaled_normal\u001b[39m\u001b[38;5;124m'\u001b[39m\u001b[38;5;124m.\u001b[39m\u001b[38;5;124m\"\u001b[39m)\n",
      "File \u001b[0;32m~/.pyenv/versions/3.10.9/lib/python3.10/functools.py:926\u001b[0m, in \u001b[0;36msingledispatchmethod.__get__.<locals>._method\u001b[0;34m(*args, **kwargs)\u001b[0m\n\u001b[1;32m    924\u001b[0m \u001b[38;5;28;01mdef\u001b[39;00m \u001b[38;5;21m_method\u001b[39m(\u001b[38;5;241m*\u001b[39margs, \u001b[38;5;241m*\u001b[39m\u001b[38;5;241m*\u001b[39mkwargs):\n\u001b[1;32m    925\u001b[0m     method \u001b[38;5;241m=\u001b[39m \u001b[38;5;28mself\u001b[39m\u001b[38;5;241m.\u001b[39mdispatcher\u001b[38;5;241m.\u001b[39mdispatch(args[\u001b[38;5;241m0\u001b[39m]\u001b[38;5;241m.\u001b[39m\u001b[38;5;18m__class__\u001b[39m)\n\u001b[0;32m--> 926\u001b[0m     \u001b[38;5;28;01mreturn\u001b[39;00m \u001b[43mmethod\u001b[49m\u001b[38;5;241;43m.\u001b[39;49m\u001b[38;5;21;43m__get__\u001b[39;49m\u001b[43m(\u001b[49m\u001b[43mobj\u001b[49m\u001b[43m,\u001b[49m\u001b[43m \u001b[49m\u001b[38;5;28;43mcls\u001b[39;49m\u001b[43m)\u001b[49m\u001b[43m(\u001b[49m\u001b[38;5;241;43m*\u001b[39;49m\u001b[43margs\u001b[49m\u001b[43m,\u001b[49m\u001b[43m \u001b[49m\u001b[38;5;241;43m*\u001b[39;49m\u001b[38;5;241;43m*\u001b[39;49m\u001b[43mkwargs\u001b[49m\u001b[43m)\u001b[49m\n",
      "File \u001b[0;32m~/Projects/pyciemss/src/pyciemss/PetriNetODE/base.py:464\u001b[0m, in \u001b[0;36mMiraPetriNetODESystem._from_path\u001b[0;34m(cls, model_json_path, **kwargs)\u001b[0m\n\u001b[1;32m    462\u001b[0m \u001b[38;5;28;01melse\u001b[39;00m:\n\u001b[1;32m    463\u001b[0m     \u001b[38;5;28;01mif\u001b[39;00m \u001b[38;5;129;01mnot\u001b[39;00m os\u001b[38;5;241m.\u001b[39mpath\u001b[38;5;241m.\u001b[39mexists(model_json_path):\n\u001b[0;32m--> 464\u001b[0m         \u001b[38;5;28;01mraise\u001b[39;00m \u001b[38;5;167;01mValueError\u001b[39;00m(\u001b[38;5;124mf\u001b[39m\u001b[38;5;124m\"\u001b[39m\u001b[38;5;124mModel file not found: \u001b[39m\u001b[38;5;132;01m{\u001b[39;00mmodel_json_path\u001b[38;5;132;01m}\u001b[39;00m\u001b[38;5;124m\"\u001b[39m)\n\u001b[1;32m    465\u001b[0m     \u001b[38;5;28;01mwith\u001b[39;00m \u001b[38;5;28mopen\u001b[39m(model_json_path) \u001b[38;5;28;01mas\u001b[39;00m fh:\n\u001b[1;32m    466\u001b[0m         model_json \u001b[38;5;241m=\u001b[39m json\u001b[38;5;241m.\u001b[39mload(fh)\n",
      "\u001b[0;31mValueError\u001b[0m: Model file not found: ../../notebook/ensemble_eval_sa/SIRHD_vacc_var_V1.json"
     ]
    }
   ],
   "source": [
    "num_samples = 2\n",
    "model_paths = [model1_location, model4_location, model6_location]\n",
    "data_path = \"../../notebook/ensemble_eval_sa/NY_data2.csv\"\n",
    "weights = [1/3, 1/3, 1/3]\n",
    "solution_mappings = [{\"I\": \"I\", \"H\": \"H\", \"D\": \"D\"},\n",
    "                     {\"I\": \"I\", \"H\": \"H\", \"D\": \"D\"}, \n",
    "                     {\"I\": \"Cases\", \"H\": \"Hosp\", \"D\": \"Deaths\"},\n",
    "                     ]\n",
    "\n",
    "# Run the calibration and sampling\n",
    "result = load_and_calibrate_and_sample_ensemble_model(\n",
    "    model_paths,\n",
    "    data_path,\n",
    "    weights,\n",
    "    solution_mappings,\n",
    "    num_samples,\n",
    "    timepoints,\n",
    "    verbose=True,\n",
    "    total_population=19340000,\n",
    "    num_iterations=200,\n",
    "    time_unit=\"days\",\n",
    "    visual_options={\"title\": \"Calibrated Ensemble\", \"subset\":\".*_sol\"}\n",
    ")\n",
    "\n",
    "# # Save results\n",
    "# result[\"data\"].to_csv(\n",
    "#     os.path.join(DEMO_PATH, \"results_petri_ensemble/calibrated_sample_results.csv\"), index=False\n",
    "# )\n",
    "# result[\"quantiles\"].to_csv(\n",
    "#     os.path.join(DEMO_PATH, \"results_petri_ensemble/calibrated_quantile_results.csv\"), index=False\n",
    "# )\n",
    "\n",
    "# Plot results\n",
    "schema = plots.trajectories(pd.DataFrame(result[\"data\"]), subset=\".*_sol\",\n",
    "                            points=test_data.reset_index(drop=True).rename(columns={\"I\":\"I_data\", \"H\":\"H_data\", \"D\":\"D_data\"}),\n",
    "                           )\n",
    "schema = plots.pad(schema, 5)\n",
    "plots.ipy_display(schema)"
   ]
  },
  {
   "cell_type": "code",
   "execution_count": null,
   "id": "e80201a8-7542-4532-a86f-c885c2e18073",
   "metadata": {},
   "outputs": [],
   "source": []
  }
 ],
 "metadata": {
  "kernelspec": {
   "display_name": "Python 3 (ipykernel)",
   "language": "python",
   "name": "python3"
  },
  "language_info": {
   "codemirror_mode": {
    "name": "ipython",
    "version": 3
   },
   "file_extension": ".py",
   "mimetype": "text/x-python",
   "name": "python",
   "nbconvert_exporter": "python",
   "pygments_lexer": "ipython3",
   "version": "3.10.9"
  }
 },
 "nbformat": 4,
 "nbformat_minor": 5
}
