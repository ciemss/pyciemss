{
 "cells": [
  {
   "cell_type": "markdown",
   "id": "669c02c9",
   "metadata": {},
   "source": [
    "# Ensemble Challenge: Timepoint 2\n",
    "\n",
    "Goal: to capture the complexity and nuances around the evolution of the pandemic at various stages and locations.\n",
    "\n",
    "Location A: New York State\n",
    "\n",
    "Timepoint 2: July 15, 2021. Setting: New York State upon the arrival of the Delta variant. Vaccines available."
   ]
  },
  {
   "cell_type": "markdown",
   "id": "1fda4fda-2bd7-468c-8e91-d0d4323074c2",
   "metadata": {},
   "source": [
    "### Load dependencies"
   ]
  },
  {
   "cell_type": "code",
   "execution_count": 5,
   "id": "13880386",
   "metadata": {},
   "outputs": [],
   "source": [
    "import os\n",
    "import pandas as pd\n",
    "import numpy as np\n",
    "import copy\n",
    "from pyciemss.Ensemble.interfaces import (\n",
    "    load_and_sample_petri_ensemble, load_and_calibrate_and_sample_ensemble_model\n",
    ")\n",
    "from pyciemss.PetriNetODE.interfaces import (\n",
    "    load_and_sample_petri_model,\n",
    "    load_and_calibrate_and_sample_petri_model,\n",
    "    load_and_optimize_and_sample_petri_model,\n",
    "    load_and_calibrate_and_optimize_and_sample_petri_model\n",
    ")\n",
    "from pyciemss.visuals import plots\n",
    "from pyciemss.utils.interface_utils import cdc_reformatcsv"
   ]
  },
  {
   "cell_type": "markdown",
   "id": "2fab9bd4-3f9d-42e0-8fd5-e91bff3d81ba",
   "metadata": {},
   "source": [
    "## Get data"
   ]
  },
  {
   "cell_type": "code",
   "execution_count": 2,
   "id": "7a4942e1-ac95-4c72-9233-dd004cdf75c0",
   "metadata": {},
   "outputs": [],
   "source": [
    "url = 'https://raw.githubusercontent.com/DARPA-ASKEM/experiments/main/thin-thread-examples/milestone_12month/evaluation/ensemble_eval_SA/datasets/aabb3684-a7ea-4f60-98f1-a8e673ad6df5/dataset.csv'\n",
    "ny_data = pd.read_csv(url)\n",
    "ny_data\n",
    "\n",
    "# Grab test data for four-week forecast (07/15/2021 - 05/01/2020)\n",
    "test_data = ny_data[500:569].reset_index()\n",
    "test_data = test_data.drop(columns=\"timestep\")\n",
    "test_data = test_data.drop(columns=\"index\")\n",
    "\n",
    "# Select historical data up to Timepoint 2, 07/14/2021 (the first 542 rows)\n",
    "ny_data = ny_data[500:541].reset_index(drop=True)\n",
    "ny_data1 = ny_data.assign(timepoints=[float(i) for i in range(len(ny_data))])\n",
    "ny_data = ny_data1[[\"timepoints\", \"I\", \"H\", \"D\"]].copy()\n",
    "ny_data[[\"timepoints\", \"I\", \"H\", \"D\"]].to_csv(\"../../notebook/ensemble_eval_sa/datasets/NY_data2.csv\", index=False)"
   ]
  },
  {
   "cell_type": "markdown",
   "id": "5d809e73-ddcc-409e-8378-5a4047c1b50e",
   "metadata": {},
   "source": [
    "## Set up timepoints"
   ]
  },
  {
   "cell_type": "code",
   "execution_count": 3,
   "id": "006c142f-dfea-498f-a9b2-342fbee162ea",
   "metadata": {},
   "outputs": [],
   "source": [
    "start_timepoint = 0\n",
    "stop_timepoint = 41 + 28 # simulate for four weeks after end of data\n",
    "timepoints = [float(i) for i in range(stop_timepoint + 1)]"
   ]
  },
  {
   "cell_type": "markdown",
   "id": "2ab1a51e-ccb6-4d74-8e8c-71893a1975a7",
   "metadata": {},
   "source": [
    "## Select relevant models"
   ]
  },
  {
   "cell_type": "code",
   "execution_count": 4,
   "id": "459be6a2-d0ba-457f-9d47-dbd63a2ab57d",
   "metadata": {},
   "outputs": [],
   "source": [
    "# model1_location = \"../../notebook/ensemble_eval_sa/operative_models/age_vacc_var_V1.json\"\n",
    "model2_location = \"../../notebook/ensemble_eval_sa/operative_models/age_vacc_var_v2.json\"\n",
    "# model3_location = \"../../notebook/ensemble_eval_sa/operative_models/age_vacc_var_reinfection_v1.json\"\n",
    "model4_location = \"../../notebook/ensemble_eval_sa/operative_models/age_vacc_var_reinfection_v2.json\"\n",
    "model5_location = \"../../notebook/ensemble_eval_sa/operative_models/age_vacc_var_reinfection_v3.json\""
   ]
  },
  {
   "cell_type": "markdown",
   "id": "6a860cfb-04e4-48f8-8912-c2c5565e1faa",
   "metadata": {},
   "source": [
    "## Load, calibrate and sample an ensemble of one model"
   ]
  },
  {
   "cell_type": "code",
   "execution_count": null,
   "id": "74a3c58f-3cf3-4f84-852f-abe19ebecf11",
   "metadata": {},
   "outputs": [],
   "source": [
    "num_samples=2\n",
    "prior_samples = load_and_sample_petri_model(model2_location, num_samples, timepoints=timepoints, method=\"euler\",\n",
    "                                            visual_options={\"title\": \"Prior Distributions\", \"subset\":\".*_sol\"}, \n",
    "                                            time_unit=\"days\")\n",
    "#display(prior_samples)\n",
    "\n",
    "schema = plots.trajectories(pd.DataFrame(prior_samples[\"data\"]), subset=\".*_sol\",\n",
    "                            points=test_data.reset_index(drop=True).rename(columns={\"I\":\"I_data\", \"H\":\"H_data\", \"D\":\"D_data\"}))\n",
    "schema = plots.pad(schema, 5)\n",
    "plots.ipy_display(schema)"
   ]
  },
  {
   "cell_type": "code",
   "execution_count": null,
   "id": "8328b097-70b7-41fc-98fc-1d6a7a06824c",
   "metadata": {},
   "outputs": [],
   "source": [
    "num_samples = 100\n",
    "model_paths = [model2_location]\n",
    "data_path = \"../../notebook/ensemble_eval_sa/datasets/NY_data2.csv\"\n",
    "weights = [1]\n",
    "solution_mappings = [{\"I\": \"infected\", \"H\": \"hospitalized\", \"D\": \"dead\"}] # \"column name in data\": \"observable or state variable in model\"\n",
    "# solution_mappings = [{\"I\": \"I\", \"H\": \"H\", \"D\": \"D\"}]\n",
    "\n",
    "# Run the calibration and sampling\n",
    "result = load_and_calibrate_and_sample_ensemble_model(\n",
    "    model_paths,\n",
    "    data_path,\n",
    "    weights,\n",
    "    solution_mappings,\n",
    "    num_samples,\n",
    "    timepoints,\n",
    "    verbose=True,\n",
    "    total_population=19340000,\n",
    "    num_iterations=200,\n",
    "    method=\"euler\",\n",
    "    time_unit=\"days\",\n",
    "    visual_options={\"title\": \"Calibrated Ensemble\", \"subset\":\".*_sol\"}\n",
    ")\n",
    "\n",
    "# Save results\n",
    "# result[\"data\"].to_csv(\"../../notebook/ensemble_eval_sa/ensemble_results/partII_ensemble_of_one_results_day0_Jun032021.csv\", index=False)\n",
    "# result[\"quantiles\"].to_csv(\"../../notebook/ensemble_eval_sa/ensemble_results/partII_ensemble_of_one_quantiles_day0_Jun032021.csv\", index=False)\n",
    "\n",
    "# q_ensemble_data = cdc_reformatcsv(filename=\"../../notebook/ensemble_eval_sa/ensemble_results/partII_ensemble_of_one_quantiles_day0_Jun032021.csv\", \n",
    "#                                   solution_string_mapping={\"I\": \"cases\", \"H\": \"hospitalizations\", \"D\": \"deaths\"}, \n",
    "#                                   forecast_start_date=\"2021-07-14\",\n",
    "#                                   location=\"New York State\",\n",
    "#                                   drop_column_names=[\"timepoint_id\", \"number_days\", \"inc_cum\", \"output\", \"Forecast_Backcast\"])\n",
    "# q_ensemble_data.to_csv(\"../../notebook/ensemble_eval_sa/ensemble_results/partII_ensemble_of_one_forecast_quantiles_Jul152021.csv\")\n",
    "\n",
    "# Plot results\n",
    "schema = plots.trajectories(pd.DataFrame(result[\"data\"]), subset=\".*_sol\",\n",
    "                            points=test_data.reset_index(drop=True).rename(columns={\"I\":\"I_data\", \"H\":\"H_data\", \"D\":\"D_data\"}),\n",
    "                           )\n",
    "schema = plots.pad(schema, 5)\n",
    "plots.ipy_display(schema)"
   ]
  },
  {
   "cell_type": "code",
   "execution_count": 6,
   "id": "acbecc1b-8081-487b-a0ed-06c40ce1cd0e",
   "metadata": {},
   "outputs": [
    {
     "name": "stdout",
     "output_type": "stream",
     "text": [
      "iteration 0: loss = 1509.5168316960335\n",
      "iteration 25: loss = 1312.2123957276344\n",
      "iteration 50: loss = 1294.554027378559\n",
      "iteration 75: loss = 1275.190992295742\n",
      "iteration 100: loss = 1259.2022492289543\n",
      "iteration 125: loss = 1258.4049859642982\n"
     ]
    },
    {
     "ename": "NameError",
     "evalue": "name 'result' is not defined",
     "output_type": "error",
     "traceback": [
      "\u001b[0;31m---------------------------------------------------------------------------\u001b[0m",
      "\u001b[0;31mNameError\u001b[0m                                 Traceback (most recent call last)",
      "Cell \u001b[0;32mIn[6], line 35\u001b[0m\n\u001b[1;32m     32\u001b[0m q_ensemble_data\u001b[38;5;241m.\u001b[39mto_csv(\u001b[38;5;124m\"\u001b[39m\u001b[38;5;124m../../notebook/ensemble_eval_sa/ensemble_results/partII_ensemble_of_one_forecast_quantiles_Jul152021.csv\u001b[39m\u001b[38;5;124m\"\u001b[39m)\n\u001b[1;32m     34\u001b[0m \u001b[38;5;66;03m# Plot results\u001b[39;00m\n\u001b[0;32m---> 35\u001b[0m schema \u001b[38;5;241m=\u001b[39m plots\u001b[38;5;241m.\u001b[39mtrajectories(pd\u001b[38;5;241m.\u001b[39mDataFrame(\u001b[43mresult\u001b[49m[\u001b[38;5;124m\"\u001b[39m\u001b[38;5;124mdata\u001b[39m\u001b[38;5;124m\"\u001b[39m]), subset\u001b[38;5;241m=\u001b[39m\u001b[38;5;124m\"\u001b[39m\u001b[38;5;124m.*_sol\u001b[39m\u001b[38;5;124m\"\u001b[39m,\n\u001b[1;32m     36\u001b[0m                             points\u001b[38;5;241m=\u001b[39mtest_data\u001b[38;5;241m.\u001b[39mreset_index(drop\u001b[38;5;241m=\u001b[39m\u001b[38;5;28;01mTrue\u001b[39;00m)\u001b[38;5;241m.\u001b[39mrename(columns\u001b[38;5;241m=\u001b[39m{\u001b[38;5;124m\"\u001b[39m\u001b[38;5;124mI\u001b[39m\u001b[38;5;124m\"\u001b[39m:\u001b[38;5;124m\"\u001b[39m\u001b[38;5;124mI_data\u001b[39m\u001b[38;5;124m\"\u001b[39m, \u001b[38;5;124m\"\u001b[39m\u001b[38;5;124mH\u001b[39m\u001b[38;5;124m\"\u001b[39m:\u001b[38;5;124m\"\u001b[39m\u001b[38;5;124mH_data\u001b[39m\u001b[38;5;124m\"\u001b[39m, \u001b[38;5;124m\"\u001b[39m\u001b[38;5;124mD\u001b[39m\u001b[38;5;124m\"\u001b[39m:\u001b[38;5;124m\"\u001b[39m\u001b[38;5;124mD_data\u001b[39m\u001b[38;5;124m\"\u001b[39m}),\n\u001b[1;32m     37\u001b[0m                            )\n\u001b[1;32m     38\u001b[0m schema \u001b[38;5;241m=\u001b[39m plots\u001b[38;5;241m.\u001b[39mpad(schema, \u001b[38;5;241m5\u001b[39m)\n\u001b[1;32m     39\u001b[0m plots\u001b[38;5;241m.\u001b[39mipy_display(schema)\n",
      "\u001b[0;31mNameError\u001b[0m: name 'result' is not defined"
     ]
    }
   ],
   "source": [
    "num_samples = 100\n",
    "model_paths = [model4_location]\n",
    "data_path = \"../../notebook/ensemble_eval_sa/datasets/NY_data2.csv\"\n",
    "weights = [1]\n",
    "solution_mappings = [{\"I\": \"infected\", \"H\": \"hospitalized\", \"D\": \"dead\"}] # \"column name in data\": \"observable or state variable in model\"\n",
    "\n",
    "# Run the calibration and sampling\n",
    "result1 = load_and_calibrate_and_sample_ensemble_model(\n",
    "    model_paths,\n",
    "    data_path,\n",
    "    weights,\n",
    "    solution_mappings,\n",
    "    num_samples,\n",
    "    timepoints,\n",
    "    verbose=True,\n",
    "    total_population=19340000,\n",
    "    num_iterations=150,\n",
    "    method=\"euler\",\n",
    "    time_unit=\"days\",\n",
    "    visual_options={\"title\": \"Calibrated Ensemble\", \"subset\":\".*_sol\"}\n",
    ")\n",
    "\n",
    "# # Save results\n",
    "result1[\"data\"].to_csv(\"../../notebook/ensemble_eval_sa/ensemble_results/partII_ensemble_of_one_results.csv\", index=False)\n",
    "result1[\"quantiles\"].to_csv(\"../../notebook/ensemble_eval_sa/ensemble_results/partII_ensemble_of_one_quantiles.csv\", index=False)\n",
    "\n",
    "q_ensemble_data = cdc_reformatcsv(filename=\"../../notebook/ensemble_eval_sa/ensemble_results/partII_ensemble_of_one_quantiles.csv\", \n",
    "                                  solution_string_mapping={\"I\": \"cases\", \"H\": \"hospitalizations\", \"D\": \"deaths\"}, \n",
    "                                  forecast_start_date=\"2021-07-14\",\n",
    "                                  location=\"New York State\",\n",
    "                                  drop_column_names=[\"timepoint_id\", \"number_days\", \"inc_cum\", \"output\", \"Forecast_Backcast\"])\n",
    "q_ensemble_data.to_csv(\"../../notebook/ensemble_eval_sa/ensemble_results/partII_ensemble_of_one_forecast_quantiles_Jul152021.csv\")\n",
    "\n",
    "# Plot results\n",
    "schema = plots.trajectories(pd.DataFrame(result[\"data\"]), subset=\".*_sol\",\n",
    "                            points=test_data.reset_index(drop=True).rename(columns={\"I\":\"I_data\", \"H\":\"H_data\", \"D\":\"D_data\"}),\n",
    "                           )\n",
    "schema = plots.pad(schema, 5)\n",
    "plots.ipy_display(schema)"
   ]
  },
  {
   "cell_type": "code",
   "execution_count": null,
   "id": "01b6811f-24a0-4b9e-80a9-29ffa8598d90",
   "metadata": {},
   "outputs": [],
   "source": [
    "num_samples = 100\n",
    "model_paths = [model5_location]\n",
    "data_path = \"../../notebook/ensemble_eval_sa/datasets/NY_data2.csv\"\n",
    "weights = [1]\n",
    "solution_mappings = [{\"I\": \"infected\", \"H\": \"hospitalized\", \"D\": \"dead\"}] # \"column name in data\": \"observable or state variable in model\"\n",
    "\n",
    "# Run the calibration and sampling\n",
    "result2 = load_and_calibrate_and_sample_ensemble_model(\n",
    "    model_paths,\n",
    "    data_path,\n",
    "    weights,\n",
    "    solution_mappings,\n",
    "    num_samples,\n",
    "    timepoints,\n",
    "    verbose=True,\n",
    "    total_population=19340000,\n",
    "    num_iterations=26,\n",
    "    method=\"euler\",\n",
    "    time_unit=\"days\",\n",
    "    visual_options={\"title\": \"Calibrated Ensemble\", \"subset\":\".*_sol\"}\n",
    ")\n",
    "\n",
    "# # Save results\n",
    "# result2[\"data\"].to_csv(\"../../notebook/ensemble_eval_sa/ensemble_results/partII_ensemble_of_one_results_day0_Jun032021.csv\", index=False)\n",
    "# result2[\"quantiles\"].to_csv(\"../../notebook/ensemble_eval_sa/ensemble_results/partII_ensemble_of_one_quantiles_day0_Jun032021.csv\", index=False)\n",
    "\n",
    "# Plot results\n",
    "schema = plots.trajectories(pd.DataFrame(result[\"data\"]), subset=\".*_sol\",\n",
    "                            points=test_data.reset_index(drop=True).rename(columns={\"I\":\"I_data\", \"H\":\"H_data\", \"D\":\"D_data\"}),\n",
    "                           )\n",
    "schema = plots.pad(schema, 5)\n",
    "plots.ipy_display(schema)"
   ]
  },
  {
   "cell_type": "code",
   "execution_count": null,
   "id": "fd4b341b-6e07-495c-a18b-8cd0c669efae",
   "metadata": {},
   "outputs": [],
   "source": []
  },
  {
   "cell_type": "markdown",
   "id": "847f9a21-870a-4b07-804b-1c44d474c094",
   "metadata": {},
   "source": [
    "## Load, calibrate and sample an ensemble of several models"
   ]
  },
  {
   "cell_type": "code",
   "execution_count": null,
   "id": "7e10b282-a55a-4e72-afea-cb6c752f25c5",
   "metadata": {},
   "outputs": [],
   "source": [
    "num_samples = 2\n",
    "model_paths = [model2_location, model4_location, model5_location]\n",
    "data_path = \"../../notebook/ensemble_eval_sa/datasets/NY_data2.csv\"\n",
    "weights = [0.1, 0.4, 0.5] #[1/len(model_paths) for i in model_paths]\n",
    "solution_mappings = [{\"I\": \"infected\", \"H\": \"hospitalized\", \"D\": \"dead\"},\n",
    "                     {\"I\": \"infected\", \"H\": \"hospitalized\", \"D\": \"dead\"}, \n",
    "                     {\"I\": \"infected\", \"H\": \"hospitalized\", \"D\": \"dead\"},\n",
    "                     ]\n",
    "\n",
    "# Run the calibration and sampling\n",
    "result3 = load_and_calibrate_and_sample_ensemble_model(\n",
    "    model_paths,\n",
    "    data_path,\n",
    "    weights,\n",
    "    solution_mappings,\n",
    "    num_samples,\n",
    "    timepoints,\n",
    "    verbose=True,\n",
    "    total_population=19340000,\n",
    "    num_iterations=200,\n",
    "    method=\"euler\",\n",
    "    time_unit=\"days\",\n",
    "    visual_options={\"title\": \"Calibrated Ensemble\", \"subset\":\".*_sol\"}\n",
    ")\n",
    "\n",
    "# Save results\n",
    "result3[\"data\"].to_csv(\"../../notebook/ensemble_eval_sa/ensemble_results/partII_ensemble_of_many_results_day0_Jun032021.csv\", index=False)\n",
    "result3[\"quantiles\"].to_csv(\"../../notebook/ensemble_eval_sa/ensemble_results/partII_ensemble_of_many_quantiles_day0_Jun032021.csv\", index=False)\n",
    "\n",
    "# Plot results\n",
    "schema = plots.trajectories(pd.DataFrame(result[\"data\"]), subset=\".*_sol\",\n",
    "                            points=test_data.reset_index(drop=True).rename(columns={\"I\":\"I_data\", \"H\":\"H_data\", \"D\":\"D_data\"}),\n",
    "                           )\n",
    "schema = plots.pad(schema, 5)\n",
    "plots.ipy_display(schema)"
   ]
  },
  {
   "cell_type": "code",
   "execution_count": null,
   "id": "e80201a8-7542-4532-a86f-c885c2e18073",
   "metadata": {},
   "outputs": [],
   "source": [
    "q_ensemble_data = cdc_reformatcsv(filename=\"../../notebook/ensemble_eval_sa/ensemble_results/partII_ensemble_of_many_quantiles_day0_Jun032021.csv\", \n",
    "                                  solution_string_mapping={\"I\": \"cases\", \"H\": \"hospitalizations\", \"D\": \"deaths\"}, \n",
    "                                  forecast_start_date=\"2021-07-14\",\n",
    "                                  location=\"New York State\",\n",
    "                                  drop_column_names=[\"timepoint_id\", \"number_days\", \"inc_cum\", \"output\", \"Forecast_Backcast\"])\n",
    "q_ensemble_data.to_csv(\"../../notebook/ensemble_eval_sa/ensemble_results/partII_ensemble_of_many_forecast_quantiles_Jul152021.csv\")"
   ]
  },
  {
   "cell_type": "code",
   "execution_count": null,
   "id": "3cd9d4d3-d6d3-4164-a793-cb5bfe914e67",
   "metadata": {},
   "outputs": [],
   "source": []
  }
 ],
 "metadata": {
  "kernelspec": {
   "display_name": "Python 3 (ipykernel)",
   "language": "python",
   "name": "python3"
  },
  "language_info": {
   "codemirror_mode": {
    "name": "ipython",
    "version": 3
   },
   "file_extension": ".py",
   "mimetype": "text/x-python",
   "name": "python",
   "nbconvert_exporter": "python",
   "pygments_lexer": "ipython3",
   "version": "3.10.9"
  }
 },
 "nbformat": 4,
 "nbformat_minor": 5
}
