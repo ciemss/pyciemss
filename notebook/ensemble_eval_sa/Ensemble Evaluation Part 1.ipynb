{
 "cells": [
  {
   "cell_type": "markdown",
   "id": "3048df72",
   "metadata": {},
   "source": [
    "# Ensemble Evaluation: Timepoint 1 - Spring 2020\n",
    "\n",
    "Location: New York State\n",
    "\n",
    "Timepoint 1: April 3, 2020. Setting: New York State at the beginning of the pandemic when masking was the main preventative measure. No vaccines available. \n",
    "\n",
    "Using case and death data for calibration (hospitalization data not available for this timepoint). No vaccination, no variants, and reinfection is not considered.\n",
    "\n",
    "T1 28-day forecasts:"
   ]
  },
  {
   "cell_type": "markdown",
   "id": "897b7ea9-d670-4345-9d7a-322d34d724c8",
   "metadata": {},
   "source": [
    "## Set up for ensemble modeling"
   ]
  },
  {
   "cell_type": "markdown",
   "id": "25ee072e-ef36-4c76-bf0a-76276a86c63b",
   "metadata": {},
   "source": [
    "### Load dependencies\n",
    "Import functionality from the pyciemss library to allow for model sampling and calibration."
   ]
  },
  {
   "cell_type": "code",
   "execution_count": 130,
   "id": "f250632a-4078-49de-a4a8-e6134c949910",
   "metadata": {},
   "outputs": [],
   "source": [
    "import os\n",
    "import pandas as pd\n",
    "import numpy as np\n",
    "import matplotlib.pyplot as plt\n",
    "\n",
    "from pyciemss.Ensemble.interfaces import (\n",
    "    load_and_sample_petri_ensemble, load_and_calibrate_and_sample_ensemble_model\n",
    ")\n",
    "from pyciemss.PetriNetODE.interfaces import (\n",
    "    load_and_sample_petri_model,\n",
    "    load_and_calibrate_and_sample_petri_model,\n",
    "    load_and_optimize_and_sample_petri_model,\n",
    "    load_and_calibrate_and_optimize_and_sample_petri_model\n",
    ")\n",
    "from pyciemss.visuals import plots\n",
    "from pyciemss.utils import get_tspan\n",
    "from pyciemss.utils.interface_utils import cdc_reformatcsv"
   ]
  },
  {
   "cell_type": "markdown",
   "id": "2af8a7df-6527-4ba2-beb6-2e63889dcbbf",
   "metadata": {},
   "source": [
    "### Collect relevant models\n",
    "<!-- We have chosen x number of models to capture the relevant COVID-19 dynamics for this setting. \n",
    " - `model1` contains compartments SEIRHD, and is stratified by age into four groups.\n",
    " - `model2` is the same as `model1`, but allows for reinfection\n",
    " - `model3` is the same as `model1`, but with a variation in transmission rate to account for masking efficacy and compliance. -->"
   ]
  },
  {
   "cell_type": "code",
   "execution_count": 131,
   "id": "07fddb50-d73e-481d-a79d-ce0e115411b5",
   "metadata": {},
   "outputs": [],
   "source": [
    "# model1_location = \"../../notebook/ensemble_eval_sa/operative_models/SEIRHD_base_model_ee.json\"\n",
    "model2_location = \"../../notebook/ensemble_eval_sa/operative_models/SEIRHD_npi1_ee.json\"\n",
    "# model3_location = \"../../notebook/ensemble_eval_sa/operative_models/SEIRHD_npi1_beta_c_varying_ee.json\"\n",
    "# model4_location = \"../../notebook/ensemble_eval_sa/operative_models/SEIRHD_npi1_k_varying_ee.json\"\n",
    "# model5_location = \"../../notebook/ensemble_eval_sa/operative_models/SEIRHD_npi1_age_stratified_v1.json\"\n",
    "model6_location = \"../../notebook/ensemble_eval_sa/operative_models/SEIRHD_npi1_age_stratified_v2.json\"\n",
    "model7_location = \"../../notebook/ensemble_eval_sa/operative_models/SEIRHD_npi1_age_stratified_v3.json\"\n",
    "# model8_location = \"../../notebook/ensemble_eval_sa/operative_models/SEIRD_ymo_age_strat.json\""
   ]
  },
  {
   "cell_type": "markdown",
   "id": "a2239aab-0478-43cb-b6ef-079497dbb6e1",
   "metadata": {},
   "source": [
    "### Gather data, and set training and forecast intervals\n",
    "For this timepoint, only case and death data is available for calibration. \n",
    "\n",
    "We take the total population of New York State to be 19,340,000. Population age-structure estimates for New York State were taken (and scaled appropriately) from [here](https://www.health.ny.gov/statistics/vital_statistics/2016/table01.htm).\n",
    "\n",
    "First recorded case in New York State: March 1, 2020.\n",
    "\n",
    "Also relevant is that a statewide stay-at-home order for non-essential workers was implemented on March 22, 2020, and masking policy was implemented on April 15, 2020. A nice list of COVID-19 policy interventions for New York City and State has been compiled [here](https://www.investopedia.com/historical-timeline-of-covid-19-in-new-york-city-5071986![image.png](attachment:d380d245-11ca-41f1-9863-e2a2dcf5ebce.png)![image.png](attachment:b30f6e31-bc7f-43a8-b7c8-b1df78db3b86.png)![image.png](attachment:b5109588-59ed-447c-9271-50eb56fe9081.png)![image.png](attachment:2c42138a-696d-4cef-9b79-4843d38ff029.png))."
   ]
  },
  {
   "cell_type": "markdown",
   "id": "491b50ab-6fbb-4a03-84e7-d99225d982de",
   "metadata": {},
   "source": [
    "### Define a function to process the source data and produce the necessary datasets for plotting and calibration"
   ]
  },
  {
   "cell_type": "code",
   "execution_count": 132,
   "id": "32f7c14d-a51d-47db-830b-745e459228e8",
   "metadata": {},
   "outputs": [],
   "source": [
    "def data_selector_function(data_df, train_start_row_num, train_end_row_num, forecast_end_row_num):\n",
    "    '''\n",
    "    This function produces three datasets: all_data, test_data, train_data.\n",
    "    '''\n",
    "    all_data = data_df[train_start_row_num:forecast_end_row_num].reset_index()\n",
    "    all_data = all_data.drop(columns=\"timestep\")\n",
    "    all_data = all_data.drop(columns=\"index\")\n",
    "\n",
    "    test_data = data_df[train_end_row_num:forecast_end_row_num].reset_index()\n",
    "    test_data = test_data.drop(columns=\"timestep\")\n",
    "    test_data = test_data.drop(columns=\"index\")\n",
    "\n",
    "    train_data = data_df[train_start_row_num:train_end_row_num].reset_index(drop=True)\n",
    "    train_data1 = train_data.assign(timepoints=[float(i) for i in range(len(train_data))])\n",
    "    train_data = train_data1[[\"timepoints\", \"I\", \"H\", \"D\"]]\n",
    "\n",
    "    num_timepoints = (len(train_data) + len(test_data))*10 + 1\n",
    "    simulation_timepoints = list(get_tspan(0, (len(train_data) + len(test_data)), num_timepoints).detach().numpy())\n",
    "    \n",
    "    return all_data, test_data, train_data, simulation_timepoints"
   ]
  },
  {
   "cell_type": "markdown",
   "id": "e7d4f4d8-abb4-4a9d-b7c9-6fc614125708",
   "metadata": {},
   "source": [
    "### Gather source data and set `DATA_PATH`"
   ]
  },
  {
   "cell_type": "code",
   "execution_count": 133,
   "id": "d9409751-8a75-4815-a329-923e20b1ca14",
   "metadata": {},
   "outputs": [],
   "source": [
    "url = 'https://raw.githubusercontent.com/DARPA-ASKEM/experiments/main/thin-thread-examples/milestone_12month/evaluation/ensemble_eval_SA/datasets/aabb3684-a7ea-4f60-98f1-a8e673ad6df5/dataset.csv'\n",
    "nys_data = pd.read_csv(url)\n",
    "DATA_PATH = \"../../notebook/ensemble_eval_sa/datasets/\""
   ]
  },
  {
   "cell_type": "markdown",
   "id": "808442fe-65a2-4545-b1d1-fb2ad8b26653",
   "metadata": {},
   "source": [
    "### Create and save datasets and simulation timepoints for each forecast"
   ]
  },
  {
   "cell_type": "code",
   "execution_count": 134,
   "id": "bf6e7144-aecd-443b-ab2a-0e492db247f2",
   "metadata": {},
   "outputs": [],
   "source": [
    "### Forecast 1: 04/03/2020 - 05/01/2020, data: 03/01/2020 - 04/02/2020\n",
    "\n",
    "# Forecast 1: 04/03/2020 (day 32, row 73) - 05/01/2020 (day 60, row 101), train data: 03/01/2020 (day 0, row 40) - 04/02/2020 (day 31, row 72)\n",
    "[all_data1, test_data1, train_data1, timepoints1] = data_selector_function(nys_data, 39, 72, 101)\n",
    "train_data1[[\"I\", \"H\", \"D\"]].to_csv(DATA_PATH + \"NYS_T1_forecast1.csv\")\n",
    "\n",
    "### Forecast 2: 04/10/2020 - 05/08/2020, data: 03/01/2020 - 04/09/2020\n",
    "\n",
    "# Forecast 2: 04/10/2020 (day 39, row 80) - 05/08/2020 (day 67, row 108), train data: 03/01/2020 (day 0, row 40) - 04/09/2020 (day 38, row 79)\n",
    "[all_data2, test_data2, train_data2, timepoints2] = data_selector_function(nys_data, 39, 79, 108)\n",
    "train_data2[[\"I\", \"H\", \"D\"]].to_csv(DATA_PATH + \"NYS_T1_forecast2.csv\")\n",
    "\n",
    "### Forecast 3: 04/17/2020 - 05/15/2020, data: 03/01/2020 - 04/16/2020\n",
    "\n",
    "# Forecast 3: 04/17/2020 (day 46, row 87) - 05/15/2020 (day 74, row 115), train data: 03/01/2020 (day 0, row 40) - 04/16/2020 (day 45, row 86)\n",
    "[all_data3, test_data3, train_data3, timepoints3] = data_selector_function(nys_data, 39, 86, 115)\n",
    "train_data3[[\"I\", \"H\", \"D\"]].to_csv(DATA_PATH + \"NYS_T1_forecast3.csv\")\n",
    "\n",
    "### Forecast 4: 04/24/2020 - 05/22/2020, data: 03/01/2020 - 04/23/2020\n",
    "\n",
    "# Forecast 3: 04/24/2020 (day 53, row 94) - 05/22/2020 (day 81, row 122), train data: 03/01/2020 (day 0, row 40) - 04/23/2020 (day 52, row 93)\n",
    "[all_data4, test_data4, train_data4, timepoints4] = data_selector_function(nys_data, 39, 93, 122)\n",
    "train_data4[[\"I\", \"H\", \"D\"]].to_csv(DATA_PATH + \"NYS_T1_forecast4.csv\")"
   ]
  },
  {
   "cell_type": "markdown",
   "id": "9a13d82b-f9b4-4f13-9e41-8e664543e8fa",
   "metadata": {},
   "source": [
    "### Plot the data"
   ]
  },
  {
   "cell_type": "code",
   "execution_count": 135,
   "id": "87729311-991d-4e25-ac23-31d706f266a1",
   "metadata": {},
   "outputs": [
    {
     "data": {
      "image/png": "[encoded data removed]",
      "text/plain": [
       "<Figure size 1000x500 with 1 Axes>"
      ]
     },
     "metadata": {},
     "output_type": "display_data"
    }
   ],
   "source": [
    "# specifying the plot size\n",
    "plt.figure(figsize = (10, 5))\n",
    "plt.scatter(all_data4.index, all_data4.I, color=\"navy\")\n",
    "# only one line may be specified; full height\n",
    "plt.axvline(x = 32, color = 'darkgreen', linestyle =\"--\", label = 'begin forecast 1')\n",
    "plt.axvline(x = 39, color = 'forestgreen', linestyle =\":\", label = 'begin forecast 2')\n",
    "plt.axvline(x = 46, color = 'green', linestyle =\"-.\", label = 'begin forecast 3')\n",
    "plt.axvline(x = 53, color = 'teal', label = 'begin forecast 4')\n",
    "plt.legend()\n",
    "# rendering plot\n",
    "plt.show()"
   ]
  },
  {
   "cell_type": "markdown",
   "id": "88df33c0-f86c-4cc4-8f98-6191d71b442b",
   "metadata": {},
   "source": [
    "# Calibrate and sample an ensemble of one model"
   ]
  },
  {
   "cell_type": "code",
   "execution_count": 5,
   "id": "7448e4a2-1903-4a0f-bf0a-916069b5b4db",
   "metadata": {},
   "outputs": [
    {
     "name": "stdout",
     "output_type": "stream",
     "text": [
      "iteration 0: loss = 705.1689611971378\n",
      "iteration 25: loss = 674.1464045345783\n",
      "iteration 50: loss = 635.3301707804203\n",
      "iteration 75: loss = 643.626866966486\n",
      "iteration 100: loss = 635.1334017813206\n",
      "iteration 125: loss = 634.3467024862766\n",
      "iteration 150: loss = 636.3414644300938\n",
      "iteration 175: loss = 634.7123180925846\n",
      "\n"
     ]
    },
    {
     "data": {
      "application/vnd.vega.v5+json": {
       "$schema": "https://vega.github.io/schema/vega/v5.json",
       "axes": [
        {
         "name": "x_axis",
         "orient": "bottom",
         "scale": "xscale",
         "zindex": 100
        },
        {
         "name": "y_axis",
         "orient": "left",
         "scale": "yscale",
         "zindex": 100
        }
       ],
       "data": [
        {
         "name": "distributions",
         "values": [
          {
           "lower": 1.7597970920365302e-23,
           "timepoint": 0,
           "trajectory": "D_sol",
           "upper": 2.1061890356217285e-21
          },
          {
           "lower": 0.001961037836736068,
           "timepoint": 1,
           "trajectory": "D_sol",
           "upper": 0.2346017777919769
          },
          {
           "lower": 0.008547658612951637,
           "timepoint": 2,
           "trajectory": "D_sol",
           "upper": 1.0217660009860992
          },
          {
           "lower": 0.020722307730466127,
           "timepoint": 3,
           "trajectory": "D_sol",
           "upper": 2.4744179487228393
          },
          {
           "lower": 0.03949969615787268,
           "timepoint": 4,
           "trajectory": "D_sol",
           "upper": 4.710282683372498
          },
          {
           "lower": 0.06610551178455353,
           "timepoint": 5,
           "trajectory": "D_sol",
           "upper": 7.870565724372863
          },
          {
           "lower": 0.10209884010255336,
           "timepoint": 6,
           "trajectory": "D_sol",
           "upper": 12.134149551391602
          },
          {
           "lower": 0.14948683679103852,
           "timepoint": 7,
           "trajectory": "D_sol",
           "upper": 17.7305908203125
          },
          {
           "lower": 0.21084863543510438,
           "timepoint": 8,
           "trajectory": "D_sol",
           "upper": 24.95390796661377
          },
          {
           "lower": 0.2894807763397694,
           "timepoint": 9,
           "trajectory": "D_sol",
           "upper": 34.1694595336914
          },
          {
           "lower": 0.3895765274763107,
           "timepoint": 10,
           "trajectory": "D_sol",
           "upper": 45.85472164154053
          },
          {
           "lower": 0.5164450541138649,
           "timepoint": 11,
           "trajectory": "D_sol",
           "upper": 60.36864891052246
          },
          {
           "lower": 0.6767866581678391,
           "timepoint": 12,
           "trajectory": "D_sol",
           "upper": 78.28470344543457
          },
          {
           "lower": 0.8790266871452332,
           "timepoint": 13,
           "trajectory": "D_sol",
           "upper": 101.05520057678223
          },
          {
           "lower": 1.1337210059165954,
           "timepoint": 14,
           "trajectory": "D_sol",
           "upper": 129.6846839904785
          },
          {
           "lower": 1.454030239582062,
           "timepoint": 15,
           "trajectory": "D_sol",
           "upper": 165.59632339477537
          },
          {
           "lower": 1.8562443137168885,
           "timepoint": 16,
           "trajectory": "D_sol",
           "upper": 210.81961212158203
          },
          {
           "lower": 2.360312795639038,
           "timepoint": 17,
           "trajectory": "D_sol",
           "upper": 267.31221466064454
          },
          {
           "lower": 2.9902358770370485,
           "timepoint": 18,
           "trajectory": "D_sol",
           "upper": 337.68214111328126
          },
          {
           "lower": 3.7741505384445193,
           "timepoint": 19,
           "trajectory": "D_sol",
           "upper": 424.96285552978514
          },
          {
           "lower": 4.743729972839356,
           "timepoint": 20,
           "trajectory": "D_sol",
           "upper": 532.6239562988281
          },
          {
           "lower": 5.932568526268006,
           "timepoint": 21,
           "trajectory": "D_sol",
           "upper": 664.3253936767578
          },
          {
           "lower": 7.373334383964539,
           "timepoint": 22,
           "trajectory": "D_sol",
           "upper": 823.6599822998047
          },
          {
           "lower": 9.093987774848939,
           "timepoint": 23,
           "trajectory": "D_sol",
           "upper": 1013.7486206054688
          },
          {
           "lower": 11.113906526565552,
           "timepoint": 24,
           "trajectory": "D_sol",
           "upper": 1233.9659301757813
          },
          {
           "lower": 13.440988111495972,
           "timepoint": 25,
           "trajectory": "D_sol",
           "upper": 1486.3449645996093
          },
          {
           "lower": 16.070693397521975,
           "timepoint": 26,
           "trajectory": "D_sol",
           "upper": 1773.6390136718749
          },
          {
           "lower": 18.98677740097046,
           "timepoint": 27,
           "trajectory": "D_sol",
           "upper": 2089.7891845703125
          },
          {
           "lower": 22.16347990036011,
           "timepoint": 28,
           "trajectory": "D_sol",
           "upper": 2431.491174316406
          },
          {
           "lower": 25.568649673461916,
           "timepoint": 29,
           "trajectory": "D_sol",
           "upper": 2788.2162109375
          },
          {
           "lower": 29.1663369178772,
           "timepoint": 30,
           "trajectory": "D_sol",
           "upper": 3159.471484375
          },
          {
           "lower": 32.91951551437378,
           "timepoint": 31,
           "trajectory": "D_sol",
           "upper": 3541.7748779296876
          },
          {
           "lower": 36.791864013671876,
           "timepoint": 32,
           "trajectory": "D_sol",
           "upper": 3947.239636230469
          },
          {
           "lower": 40.749559593200686,
           "timepoint": 33,
           "trajectory": "D_sol",
           "upper": 4321.5401611328125
          },
          {
           "lower": 44.76145648956299,
           "timepoint": 34,
           "trajectory": "D_sol",
           "upper": 4721.199169921875
          },
          {
           "lower": 48.80011882781983,
           "timepoint": 35,
           "trajectory": "D_sol",
           "upper": 5134.881762695312
          },
          {
           "lower": 52.841616058349615,
           "timepoint": 36,
           "trajectory": "D_sol",
           "upper": 5559.788842773438
          },
          {
           "lower": 56.86565227508545,
           "timepoint": 37,
           "trajectory": "D_sol",
           "upper": 5945.5496826171875
          },
          {
           "lower": 60.85492706298828,
           "timepoint": 38,
           "trajectory": "D_sol",
           "upper": 6321.360498046874
          },
          {
           "lower": 64.79563083648682,
           "timepoint": 39,
           "trajectory": "D_sol",
           "upper": 6732.513085937499
          },
          {
           "lower": 68.67624359130859,
           "timepoint": 40,
           "trajectory": "D_sol",
           "upper": 7164.507348632812
          },
          {
           "lower": 72.48771629333497,
           "timepoint": 41,
           "trajectory": "D_sol",
           "upper": 7590.0826416015625
          },
          {
           "lower": 76.22305564880371,
           "timepoint": 42,
           "trajectory": "D_sol",
           "upper": 8011.9615478515625
          },
          {
           "lower": 79.87669925689697,
           "timepoint": 43,
           "trajectory": "D_sol",
           "upper": 8389.77783203125
          },
          {
           "lower": 83.44486598968506,
           "timepoint": 44,
           "trajectory": "D_sol",
           "upper": 8710.485986328125
          },
          {
           "lower": 86.924853515625,
           "timepoint": 45,
           "trajectory": "D_sol",
           "upper": 9017.813867187499
          },
          {
           "lower": 90.31491203308106,
           "timepoint": 46,
           "trajectory": "D_sol",
           "upper": 9311.9630859375
          },
          {
           "lower": 93.61430892944337,
           "timepoint": 47,
           "trajectory": "D_sol",
           "upper": 9593.129296874999
          },
          {
           "lower": 96.82272911071777,
           "timepoint": 48,
           "trajectory": "D_sol",
           "upper": 9861.618798828124
          },
          {
           "lower": 99.94049949645996,
           "timepoint": 49,
           "trajectory": "D_sol",
           "upper": 10117.762207031248
          },
          {
           "lower": 102.96850891113282,
           "timepoint": 50,
           "trajectory": "D_sol",
           "upper": 10361.974267578122
          },
          {
           "lower": 105.9078727722168,
           "timepoint": 51,
           "trajectory": "D_sol",
           "upper": 10594.650537109372
          },
          {
           "lower": 108.75981140136719,
           "timepoint": 52,
           "trajectory": "D_sol",
           "upper": 10814.022900390622
          },
          {
           "lower": 111.52621459960938,
           "timepoint": 53,
           "trajectory": "D_sol",
           "upper": 11020.048046874996
          },
          {
           "lower": 114.20857543945313,
           "timepoint": 54,
           "trajectory": "D_sol",
           "upper": 11272.088281249997
          },
          {
           "lower": 116.80887985229492,
           "timepoint": 55,
           "trajectory": "D_sol",
           "upper": 11587.756103515621
          },
          {
           "lower": 119.32935180664063,
           "timepoint": 56,
           "trajectory": "D_sol",
           "upper": 11898.426708984372
          },
          {
           "lower": 121.77156906127931,
           "timepoint": 57,
           "trajectory": "D_sol",
           "upper": 12204.143554687496
          },
          {
           "lower": 124.13811569213868,
           "timepoint": 58,
           "trajectory": "D_sol",
           "upper": 12504.955712890622
          },
          {
           "lower": 126.43055686950684,
           "timepoint": 59,
           "trajectory": "D_sol",
           "upper": 12800.915332031247
          },
          {
           "lower": 175,
           "timepoint": 0,
           "trajectory": "I_sol",
           "upper": 175
          },
          {
           "lower": 268.6929992675781,
           "timepoint": 1,
           "trajectory": "I_sol",
           "upper": 273.14232635498047
          },
          {
           "lower": 360.8017776489258,
           "timepoint": 2,
           "trajectory": "I_sol",
           "upper": 372.08541412353514
          },
          {
           "lower": 462.655534362793,
           "timepoint": 3,
           "trajectory": "I_sol",
           "upper": 483.010319519043
          },
          {
           "lower": 582.4261779785156,
           "timepoint": 4,
           "trajectory": "I_sol",
           "upper": 615.0513732910156
          },
          {
           "lower": 727.5149444580078,
           "timepoint": 5,
           "trajectory": "I_sol",
           "upper": 776.9555053710938
          },
          {
           "lower": 905.0450653076172,
           "timepoint": 6,
           "trajectory": "I_sol",
           "upper": 977.99375
          },
          {
           "lower": 1121.8947021484375,
           "timepoint": 7,
           "trajectory": "I_sol",
           "upper": 1230.5357849121094
          },
          {
           "lower": 1389.650372314453,
           "timepoint": 8,
           "trajectory": "I_sol",
           "upper": 1548.9076721191407
          },
          {
           "lower": 1720.6822082519532,
           "timepoint": 9,
           "trajectory": "I_sol",
           "upper": 1948.9743347167969
          },
          {
           "lower": 2130.011926269531,
           "timepoint": 10,
           "trajectory": "I_sol",
           "upper": 2450.925646972656
          },
          {
           "lower": 2635.9704833984374,
           "timepoint": 11,
           "trajectory": "I_sol",
           "upper": 3077.693981933594
          },
          {
           "lower": 3260.837365722656,
           "timepoint": 12,
           "trajectory": "I_sol",
           "upper": 3863.140246582031
          },
          {
           "lower": 4031.4061889648438,
           "timepoint": 13,
           "trajectory": "I_sol",
           "upper": 4845.885766601563
          },
          {
           "lower": 4979.2806396484375,
           "timepoint": 14,
           "trajectory": "I_sol",
           "upper": 6072.30322265625
          },
          {
           "lower": 6140.530078125,
           "timepoint": 15,
           "trajectory": "I_sol",
           "upper": 7596.424072265625
          },
          {
           "lower": 7553.96201171875,
           "timepoint": 16,
           "trajectory": "I_sol",
           "upper": 9477.76552734375
          },
          {
           "lower": 9256.760009765625,
           "timepoint": 17,
           "trajectory": "I_sol",
           "upper": 11775.53037109375
          },
          {
           "lower": 11275.940869140624,
           "timepoint": 18,
           "trajectory": "I_sol",
           "upper": 14536.292041015624
          },
          {
           "lower": 13593.66318359375,
           "timepoint": 19,
           "trajectory": "I_sol",
           "upper": 17773.66376953125
          },
          {
           "lower": 16162.29599609375,
           "timepoint": 20,
           "trajectory": "I_sol",
           "upper": 21441.511816406248
          },
          {
           "lower": 18878.68046875,
           "timepoint": 21,
           "trajectory": "I_sol",
           "upper": 25411.83515625
          },
          {
           "lower": 21580.56552734375,
           "timepoint": 22,
           "trajectory": "I_sol",
           "upper": 29530.901953124998
          },
          {
           "lower": 24095.126953125,
           "timepoint": 23,
           "trajectory": "I_sol",
           "upper": 33558.503515625
          },
          {
           "lower": 26455.372265625,
           "timepoint": 24,
           "trajectory": "I_sol",
           "upper": 36879.7728515625
          },
          {
           "lower": 28230.04169921875,
           "timepoint": 25,
           "trajectory": "I_sol",
           "upper": 39801.6740234375
          },
          {
           "lower": 29186.6810546875,
           "timepoint": 26,
           "trajectory": "I_sol",
           "upper": 42160.284375
          },
          {
           "lower": 30243.12705078125,
           "timepoint": 27,
           "trajectory": "I_sol",
           "upper": 43718.559375
          },
          {
           "lower": 30944.546875,
           "timepoint": 28,
           "trajectory": "I_sol",
           "upper": 44728.410351562496
          },
          {
           "lower": 30668.9591796875,
           "timepoint": 29,
           "trajectory": "I_sol",
           "upper": 45312.4994140625
          },
          {
           "lower": 29623.6513671875,
           "timepoint": 30,
           "trajectory": "I_sol",
           "upper": 45320.598046875
          },
          {
           "lower": 28349.44931640625,
           "timepoint": 31,
           "trajectory": "I_sol",
           "upper": 45082.6615234375
          },
          {
           "lower": 28041.2953125,
           "timepoint": 32,
           "trajectory": "I_sol",
           "upper": 44612.5076171875
          },
          {
           "lower": 27813.37802734375,
           "timepoint": 33,
           "trajectory": "I_sol",
           "upper": 44465.074609375
          },
          {
           "lower": 27014.84384765625,
           "timepoint": 34,
           "trajectory": "I_sol",
           "upper": 44329.7720703125
          },
          {
           "lower": 25475.4287109375,
           "timepoint": 35,
           "trajectory": "I_sol",
           "upper": 43749.3447265625
          },
          {
           "lower": 23927.5490234375,
           "timepoint": 36,
           "trajectory": "I_sol",
           "upper": 43240.643359375
          },
          {
           "lower": 22424.079296875,
           "timepoint": 37,
           "trajectory": "I_sol",
           "upper": 42810.523632812496
          },
          {
           "lower": 21177.44052734375,
           "timepoint": 38,
           "trajectory": "I_sol",
           "upper": 42354.07265625
          },
          {
           "lower": 19905.81875,
           "timepoint": 39,
           "trajectory": "I_sol",
           "upper": 41880.60625
          },
          {
           "lower": 18621.9435546875,
           "timepoint": 40,
           "trajectory": "I_sol",
           "upper": 41396.7435546875
          },
          {
           "lower": 17406.45693359375,
           "timepoint": 41,
           "trajectory": "I_sol",
           "upper": 40907.407421874996
          },
          {
           "lower": 16259.744677734376,
           "timepoint": 42,
           "trajectory": "I_sol",
           "upper": 40415.69140624999
          },
          {
           "lower": 15180.845068359375,
           "timepoint": 43,
           "trajectory": "I_sol",
           "upper": 39924.026562499996
          },
          {
           "lower": 14167.878125,
           "timepoint": 44,
           "trajectory": "I_sol",
           "upper": 39433.9896484375
          },
          {
           "lower": 13218.36396484375,
           "timepoint": 45,
           "trajectory": "I_sol",
           "upper": 38946.776953124994
          },
          {
           "lower": 12329.442333984374,
           "timepoint": 46,
           "trajectory": "I_sol",
           "upper": 38463.113476562496
          },
          {
           "lower": 11498.12431640625,
           "timepoint": 47,
           "trajectory": "I_sol",
           "upper": 37983.510937499996
          },
          {
           "lower": 10721.209375,
           "timepoint": 48,
           "trajectory": "I_sol",
           "upper": 37503.24999999999
          },
          {
           "lower": 9995.613671875,
           "timepoint": 49,
           "trajectory": "I_sol",
           "upper": 37014.11464843749
          },
          {
           "lower": 9318.25654296875,
           "timepoint": 50,
           "trajectory": "I_sol",
           "upper": 36530.25097656249
          },
          {
           "lower": 8686.1837890625,
           "timepoint": 51,
           "trajectory": "I_sol",
           "upper": 36141.198828124994
          },
          {
           "lower": 8096.4876953125,
           "timepoint": 52,
           "trajectory": "I_sol",
           "upper": 35908.595898437496
          },
          {
           "lower": 7546.50068359375,
           "timepoint": 53,
           "trajectory": "I_sol",
           "upper": 35676.9341796875
          },
          {
           "lower": 7033.6275634765625,
           "timepoint": 54,
           "trajectory": "I_sol",
           "upper": 35325.4787109375
          },
          {
           "lower": 6555.421655273438,
           "timepoint": 55,
           "trajectory": "I_sol",
           "upper": 34685.8548828125
          },
          {
           "lower": 6109.60126953125,
           "timepoint": 56,
           "trajectory": "I_sol",
           "upper": 34057.5673828125
          },
          {
           "lower": 5693.990454101562,
           "timepoint": 57,
           "trajectory": "I_sol",
           "upper": 33675.7240234375
          },
          {
           "lower": 5306.58779296875,
           "timepoint": 58,
           "trajectory": "I_sol",
           "upper": 33373.582226562496
          },
          {
           "lower": 4945.491528320313,
           "timepoint": 59,
           "trajectory": "I_sol",
           "upper": 33073.4583984375
          }
         ]
        },
        {
         "name": "traces",
         "transform": [
          {
           "expr": "isValid(datum.value)",
           "type": "filter"
          }
         ],
         "values": []
        },
        {
         "name": "points",
         "values": [
          {
           "sample_id": 0,
           "timepoint": 0,
           "trajectory": "I_data",
           "value": 1
          },
          {
           "sample_id": 0,
           "timepoint": 1,
           "trajectory": "I_data",
           "value": 10
          },
          {
           "sample_id": 0,
           "timepoint": 2,
           "trajectory": "I_data",
           "value": 21
          },
          {
           "sample_id": 0,
           "timepoint": 3,
           "trajectory": "I_data",
           "value": 24
          },
          {
           "sample_id": 0,
           "timepoint": 4,
           "trajectory": "I_data",
           "value": 76
          },
          {
           "sample_id": 0,
           "timepoint": 5,
           "trajectory": "I_data",
           "value": 104
          },
          {
           "sample_id": 0,
           "timepoint": 6,
           "trajectory": "I_data",
           "value": 128
          },
          {
           "sample_id": 0,
           "timepoint": 7,
           "trajectory": "I_data",
           "value": 131
          },
          {
           "sample_id": 0,
           "timepoint": 8,
           "trajectory": "I_data",
           "value": 192
          },
          {
           "sample_id": 0,
           "timepoint": 9,
           "trajectory": "I_data",
           "value": 220
          },
          {
           "sample_id": 0,
           "timepoint": 10,
           "trajectory": "I_data",
           "value": 274
          },
          {
           "sample_id": 0,
           "timepoint": 11,
           "trajectory": "I_data",
           "value": 394
          },
          {
           "sample_id": 0,
           "timepoint": 12,
           "trajectory": "I_data",
           "value": 481
          },
          {
           "sample_id": 0,
           "timepoint": 13,
           "trajectory": "I_data",
           "value": 745
          },
          {
           "sample_id": 0,
           "timepoint": 14,
           "trajectory": "I_data",
           "value": 1111
          },
          {
           "sample_id": 0,
           "timepoint": 15,
           "trajectory": "I_data",
           "value": 2128
          },
          {
           "sample_id": 0,
           "timepoint": 16,
           "trajectory": "I_data",
           "value": 3671
          },
          {
           "sample_id": 0,
           "timepoint": 17,
           "trajectory": "I_data",
           "value": 6578
          },
          {
           "sample_id": 0,
           "timepoint": 18,
           "trajectory": "I_data",
           "value": 9449
          },
          {
           "sample_id": 0,
           "timepoint": 19,
           "trajectory": "I_data",
           "value": 13761
          },
          {
           "sample_id": 0,
           "timepoint": 20,
           "trajectory": "I_data",
           "value": 18270
          },
          {
           "sample_id": 0,
           "timepoint": 21,
           "trajectory": "I_data",
           "value": 21478
          },
          {
           "sample_id": 0,
           "timepoint": 22,
           "trajectory": "I_data",
           "value": 23630
          },
          {
           "sample_id": 0,
           "timepoint": 23,
           "trajectory": "I_data",
           "value": 26987
          },
          {
           "sample_id": 0,
           "timepoint": 24,
           "trajectory": "I_data",
           "value": 29533
          },
          {
           "sample_id": 0,
           "timepoint": 25,
           "trajectory": "I_data",
           "value": 31623
          },
          {
           "sample_id": 0,
           "timepoint": 26,
           "trajectory": "I_data",
           "value": 33967
          },
          {
           "sample_id": 0,
           "timepoint": 27,
           "trajectory": "I_data",
           "value": 35822
          },
          {
           "sample_id": 0,
           "timepoint": 28,
           "trajectory": "I_data",
           "value": 38456
          },
          {
           "sample_id": 0,
           "timepoint": 29,
           "trajectory": "I_data",
           "value": 45676
          },
          {
           "sample_id": 0,
           "timepoint": 30,
           "trajectory": "I_data",
           "value": 48380
          },
          {
           "sample_id": 0,
           "timepoint": 31,
           "trajectory": "I_data",
           "value": 51807
          },
          {
           "sample_id": 0,
           "timepoint": 32,
           "trajectory": "I_data",
           "value": 55042
          },
          {
           "sample_id": 0,
           "timepoint": 33,
           "trajectory": "I_data",
           "value": 56847
          },
          {
           "sample_id": 0,
           "timepoint": 34,
           "trajectory": "I_data",
           "value": 52184
          },
          {
           "sample_id": 0,
           "timepoint": 35,
           "trajectory": "I_data",
           "value": 49194
          },
          {
           "sample_id": 0,
           "timepoint": 36,
           "trajectory": "I_data",
           "value": 48730
          },
          {
           "sample_id": 0,
           "timepoint": 37,
           "trajectory": "I_data",
           "value": 50551
          },
          {
           "sample_id": 0,
           "timepoint": 38,
           "trajectory": "I_data",
           "value": 51029
          },
          {
           "sample_id": 0,
           "timepoint": 39,
           "trajectory": "I_data",
           "value": 49701
          },
          {
           "sample_id": 0,
           "timepoint": 40,
           "trajectory": "I_data",
           "value": 50661
          },
          {
           "sample_id": 0,
           "timepoint": 41,
           "trajectory": "I_data",
           "value": 48303
          },
          {
           "sample_id": 0,
           "timepoint": 42,
           "trajectory": "I_data",
           "value": 43703
          },
          {
           "sample_id": 0,
           "timepoint": 43,
           "trajectory": "I_data",
           "value": 38888
          },
          {
           "sample_id": 0,
           "timepoint": 44,
           "trajectory": "I_data",
           "value": 38244
          },
          {
           "sample_id": 0,
           "timepoint": 45,
           "trajectory": "I_data",
           "value": 36857
          },
          {
           "sample_id": 0,
           "timepoint": 46,
           "trajectory": "I_data",
           "value": 35881
          },
          {
           "sample_id": 0,
           "timepoint": 47,
           "trajectory": "I_data",
           "value": 35054
          },
          {
           "sample_id": 0,
           "timepoint": 48,
           "trajectory": "I_data",
           "value": 34782
          },
          {
           "sample_id": 0,
           "timepoint": 49,
           "trajectory": "I_data",
           "value": 31526
          },
          {
           "sample_id": 0,
           "timepoint": 50,
           "trajectory": "I_data",
           "value": 28799
          },
          {
           "sample_id": 0,
           "timepoint": 51,
           "trajectory": "I_data",
           "value": 27419
          },
          {
           "sample_id": 0,
           "timepoint": 52,
           "trajectory": "I_data",
           "value": 27443
          },
          {
           "sample_id": 0,
           "timepoint": 53,
           "trajectory": "I_data",
           "value": 30499
          },
          {
           "sample_id": 0,
           "timepoint": 54,
           "trajectory": "I_data",
           "value": 31543
          },
          {
           "sample_id": 0,
           "timepoint": 55,
           "trajectory": "I_data",
           "value": 31597
          },
          {
           "sample_id": 0,
           "timepoint": 56,
           "trajectory": "I_data",
           "value": 29008
          },
          {
           "sample_id": 0,
           "timepoint": 57,
           "trajectory": "I_data",
           "value": 25476
          },
          {
           "sample_id": 0,
           "timepoint": 58,
           "trajectory": "I_data",
           "value": 20411
          },
          {
           "sample_id": 0,
           "timepoint": 59,
           "trajectory": "I_data",
           "value": 19224
          },
          {
           "sample_id": 0,
           "timepoint": 38,
           "trajectory": "H_data",
           "value": 0
          },
          {
           "sample_id": 0,
           "timepoint": 39,
           "trajectory": "H_data",
           "value": 0
          },
          {
           "sample_id": 0,
           "timepoint": 45,
           "trajectory": "H_data",
           "value": 0
          },
          {
           "sample_id": 0,
           "timepoint": 46,
           "trajectory": "H_data",
           "value": 1
          },
          {
           "sample_id": 0,
           "timepoint": 52,
           "trajectory": "H_data",
           "value": 0
          },
          {
           "sample_id": 0,
           "timepoint": 53,
           "trajectory": "H_data",
           "value": 0
          },
          {
           "sample_id": 0,
           "timepoint": 54,
           "trajectory": "H_data",
           "value": 1
          },
          {
           "sample_id": 0,
           "timepoint": 55,
           "trajectory": "H_data",
           "value": 0
          },
          {
           "sample_id": 0,
           "timepoint": 56,
           "trajectory": "H_data",
           "value": 0
          },
          {
           "sample_id": 0,
           "timepoint": 57,
           "trajectory": "H_data",
           "value": 0
          },
          {
           "sample_id": 0,
           "timepoint": 58,
           "trajectory": "H_data",
           "value": 0
          },
          {
           "sample_id": 0,
           "timepoint": 59,
           "trajectory": "H_data",
           "value": 0
          },
          {
           "sample_id": 0,
           "timepoint": 0,
           "trajectory": "D_data",
           "value": 0
          },
          {
           "sample_id": 0,
           "timepoint": 1,
           "trajectory": "D_data",
           "value": 0
          },
          {
           "sample_id": 0,
           "timepoint": 2,
           "trajectory": "D_data",
           "value": 0
          },
          {
           "sample_id": 0,
           "timepoint": 3,
           "trajectory": "D_data",
           "value": 0
          },
          {
           "sample_id": 0,
           "timepoint": 4,
           "trajectory": "D_data",
           "value": 0
          },
          {
           "sample_id": 0,
           "timepoint": 5,
           "trajectory": "D_data",
           "value": 0
          },
          {
           "sample_id": 0,
           "timepoint": 6,
           "trajectory": "D_data",
           "value": 0
          },
          {
           "sample_id": 0,
           "timepoint": 7,
           "trajectory": "D_data",
           "value": 0
          },
          {
           "sample_id": 0,
           "timepoint": 8,
           "trajectory": "D_data",
           "value": 1
          },
          {
           "sample_id": 0,
           "timepoint": 9,
           "trajectory": "D_data",
           "value": 1
          },
          {
           "sample_id": 0,
           "timepoint": 10,
           "trajectory": "D_data",
           "value": 1
          },
          {
           "sample_id": 0,
           "timepoint": 11,
           "trajectory": "D_data",
           "value": 4
          },
          {
           "sample_id": 0,
           "timepoint": 12,
           "trajectory": "D_data",
           "value": 9
          },
          {
           "sample_id": 0,
           "timepoint": 13,
           "trajectory": "D_data",
           "value": 19
          },
          {
           "sample_id": 0,
           "timepoint": 14,
           "trajectory": "D_data",
           "value": 30
          },
          {
           "sample_id": 0,
           "timepoint": 15,
           "trajectory": "D_data",
           "value": 51
          },
          {
           "sample_id": 0,
           "timepoint": 16,
           "trajectory": "D_data",
           "value": 77
          },
          {
           "sample_id": 0,
           "timepoint": 17,
           "trajectory": "D_data",
           "value": 129
          },
          {
           "sample_id": 0,
           "timepoint": 18,
           "trajectory": "D_data",
           "value": 175
          },
          {
           "sample_id": 0,
           "timepoint": 19,
           "trajectory": "D_data",
           "value": 226
          },
          {
           "sample_id": 0,
           "timepoint": 20,
           "trajectory": "D_data",
           "value": 315
          },
          {
           "sample_id": 0,
           "timepoint": 21,
           "trajectory": "D_data",
           "value": 427
          },
          {
           "sample_id": 0,
           "timepoint": 22,
           "trajectory": "D_data",
           "value": 565
          },
          {
           "sample_id": 0,
           "timepoint": 23,
           "trajectory": "D_data",
           "value": 759
          },
          {
           "sample_id": 0,
           "timepoint": 24,
           "trajectory": "D_data",
           "value": 984
          },
          {
           "sample_id": 0,
           "timepoint": 25,
           "trajectory": "D_data",
           "value": 1285
          },
          {
           "sample_id": 0,
           "timepoint": 26,
           "trajectory": "D_data",
           "value": 1603
          },
          {
           "sample_id": 0,
           "timepoint": 27,
           "trajectory": "D_data",
           "value": 1930
          },
          {
           "sample_id": 0,
           "timepoint": 28,
           "trajectory": "D_data",
           "value": 2334
          },
          {
           "sample_id": 0,
           "timepoint": 29,
           "trajectory": "D_data",
           "value": 2859
          },
          {
           "sample_id": 0,
           "timepoint": 30,
           "trajectory": "D_data",
           "value": 3420
          },
          {
           "sample_id": 0,
           "timepoint": 31,
           "trajectory": "D_data",
           "value": 3989
          },
          {
           "sample_id": 0,
           "timepoint": 32,
           "trajectory": "D_data",
           "value": 4634
          },
          {
           "sample_id": 0,
           "timepoint": 33,
           "trajectory": "D_data",
           "value": 5384
          },
          {
           "sample_id": 0,
           "timepoint": 34,
           "trajectory": "D_data",
           "value": 6185
          },
          {
           "sample_id": 0,
           "timepoint": 35,
           "trajectory": "D_data",
           "value": 7241
          },
          {
           "sample_id": 0,
           "timepoint": 36,
           "trajectory": "D_data",
           "value": 7985
          },
          {
           "sample_id": 0,
           "timepoint": 37,
           "trajectory": "D_data",
           "value": 8846
          },
          {
           "sample_id": 0,
           "timepoint": 38,
           "trajectory": "D_data",
           "value": 9579
          },
          {
           "sample_id": 0,
           "timepoint": 39,
           "trajectory": "D_data",
           "value": 10345
          },
          {
           "sample_id": 0,
           "timepoint": 40,
           "trajectory": "D_data",
           "value": 11126
          },
          {
           "sample_id": 0,
           "timepoint": 41,
           "trajectory": "D_data",
           "value": 11930
          },
          {
           "sample_id": 0,
           "timepoint": 42,
           "trajectory": "D_data",
           "value": 12669
          },
          {
           "sample_id": 0,
           "timepoint": 43,
           "trajectory": "D_data",
           "value": 13332
          },
          {
           "sample_id": 0,
           "timepoint": 44,
           "trajectory": "D_data",
           "value": 13987
          },
          {
           "sample_id": 0,
           "timepoint": 45,
           "trajectory": "D_data",
           "value": 14371
          },
          {
           "sample_id": 0,
           "timepoint": 46,
           "trajectory": "D_data",
           "value": 14780
          },
          {
           "sample_id": 0,
           "timepoint": 47,
           "trajectory": "D_data",
           "value": 15225
          },
          {
           "sample_id": 0,
           "timepoint": 48,
           "trajectory": "D_data",
           "value": 16116
          },
          {
           "sample_id": 0,
           "timepoint": 49,
           "trajectory": "D_data",
           "value": 16639
          },
          {
           "sample_id": 0,
           "timepoint": 50,
           "trajectory": "D_data",
           "value": 17091
          },
          {
           "sample_id": 0,
           "timepoint": 51,
           "trajectory": "D_data",
           "value": 17647
          },
          {
           "sample_id": 0,
           "timepoint": 52,
           "trajectory": "D_data",
           "value": 18132
          },
          {
           "sample_id": 0,
           "timepoint": 53,
           "trajectory": "D_data",
           "value": 18523
          },
          {
           "sample_id": 0,
           "timepoint": 54,
           "trajectory": "D_data",
           "value": 18882
          },
          {
           "sample_id": 0,
           "timepoint": 55,
           "trajectory": "D_data",
           "value": 19292
          },
          {
           "sample_id": 0,
           "timepoint": 56,
           "trajectory": "D_data",
           "value": 19602
          },
          {
           "sample_id": 0,
           "timepoint": 57,
           "trajectory": "D_data",
           "value": 20000
          },
          {
           "sample_id": 0,
           "timepoint": 58,
           "trajectory": "D_data",
           "value": 20334
          },
          {
           "sample_id": 0,
           "timepoint": 59,
           "trajectory": "D_data",
           "value": 20662
          }
         ]
        },
        {
         "name": "markers",
         "values": []
        },
        {
         "name": "selected",
         "on": [
          {
           "remove": true,
           "trigger": "clear"
          },
          {
           "remove": true,
           "trigger": "!shift"
          },
          {
           "insert": "clicked",
           "trigger": "!shift && clicked"
          },
          {
           "toggle": "clicked",
           "trigger": "shift && clicked"
          }
         ]
        }
       ],
       "height": 300,
       "legends": [
        {
         "encode": {
          "labels": {
           "interactive": true,
           "name": "legendLabel",
           "update": {
            "opacity": [
             {
              "test": "!length(data('selected')) || indata('selected', 'value', datum.value)",
              "value": 1
             },
             {
              "value": 0.25
             }
            ]
           }
          },
          "symbols": {
           "interactive": true,
           "name": "legendSymbol",
           "update": {
            "fill": {
             "value": "transparent"
            },
            "opacity": [
             {
              "test": "!length(data('selected')) || indata('selected', 'value', datum.value)",
              "value": 0.7
             },
             {
              "value": 0.15
             }
            ],
            "size": {
             "value": 64
            },
            "strokeWidth": {
             "value": 2
            }
           }
          }
         },
         "name": "color_legend",
         "stroke": "color"
        }
       ],
       "marks": [
        {
         "from": {
          "facet": {
           "data": "points",
           "groupby": "trajectory",
           "name": "points_split"
          }
         },
         "marks": [
          {
           "encode": {
            "hover": {
             "fillOpacity": {
              "value": 0.9
             }
            },
            "update": {
             "fill": {
              "field": "trajectory",
              "scale": "color"
             },
             "fillOpacity": [
              {
               "test": "!length(data('selected')) || indata('selected', 'value', datum.trajectory)",
               "value": 0.5
              },
              {
               "value": 0.15
              }
             ],
             "size": {
              "value": 10
             },
             "stroke": {
              "field": "trajectory",
              "scale": "color"
             },
             "strokeOpacity": [
              {
               "test": "!length(data('selected')) || indata('selected', 'value', datum.trajectory)",
               "value": 0.75
              },
              {
               "value": 0.15
              }
             ],
             "strokeWidth": {
              "value": 2
             },
             "tooltip": {
              "field": "value"
             },
             "x": {
              "field": "timepoint",
              "scale": "xscale"
             },
             "y": {
              "field": "value",
              "scale": "yscale"
             }
            }
           },
           "from": {
            "data": "points"
           },
           "name": "_points_symbol",
           "type": "symbol",
           "zindex": 3
          },
          {
           "encode": {
            "hover": {
             "fillOpacity": {
              "value": 0.9
             }
            },
            "update": {
             "interpolate": {
              "value": "linear"
             },
             "stroke": {
              "field": "trajectory",
              "scale": "color"
             },
             "strokeOpacity": [
              {
               "test": "!length(data('selected')) || indata('selected', 'value', datum.trajectory)",
               "value": 0.3
              },
              {
               "value": 0.1
              }
             ],
             "strokeWidth": {
              "value": 2
             },
             "x": {
              "field": "timepoint",
              "scale": "xscale"
             },
             "y": {
              "field": "value",
              "scale": "yscale"
             }
            }
           },
           "from": {
            "data": "points"
           },
           "name": "_points_line",
           "type": "line",
           "zindex": 3
          }
         ],
         "name": "_points",
         "type": "group",
         "zindex": 3
        },
        {
         "from": {
          "facet": {
           "data": "traces",
           "groupby": "trajectory",
           "name": "traces_split"
          }
         },
         "marks": [
          {
           "encode": {
            "hover": {
             "fillOpacity": {
              "value": 0.9
             }
            },
            "update": {
             "interpolate": {
              "value": "linear"
             },
             "stroke": {
              "field": "trajectory",
              "scale": "color"
             },
             "strokeOpacity": [
              {
               "test": "!length(data('selected')) || indata('selected', 'value', datum.trajectory)",
               "value": 0.75
              },
              {
               "value": 0.15
              }
             ],
             "strokeWidth": {
              "value": 2
             },
             "x": {
              "field": "timepoint",
              "scale": "xscale"
             },
             "y": {
              "field": "value",
              "scale": "yscale"
             }
            }
           },
           "from": {
            "data": "traces_split"
           },
           "name": "_traces_lines",
           "type": "line"
          }
         ],
         "name": "_traces",
         "type": "group",
         "zindex": 2
        },
        {
         "from": {
          "facet": {
           "data": "distributions",
           "groupby": "trajectory",
           "name": "trajectory_split"
          }
         },
         "marks": [
          {
           "encode": {
            "hover": {
             "fillOpacity": {
              "value": 0.9
             }
            },
            "update": {
             "fill": {
              "field": "trajectory",
              "scale": "color"
             },
             "fillOpacity": [
              {
               "test": "!length(data('selected')) || indata('selected', 'value', datum.trajectory)",
               "value": 0.5
              },
              {
               "value": 0.15
              }
             ],
             "interpolate": {
              "value": "linear"
             },
             "stroke": {
              "field": "trajectory",
              "scale": "color"
             },
             "strokeOpacity": [
              {
               "test": "!length(data('selected')) || indata('selected', 'value', datum.trajectory)",
               "value": 0.75
              },
              {
               "value": 0.15
              }
             ],
             "strokeWidth": {
              "value": 2
             },
             "x": {
              "field": "timepoint",
              "scale": "xscale"
             },
             "y": {
              "field": "upper",
              "scale": "yscale"
             },
             "y2": {
              "field": "lower",
              "scale": "yscale"
             }
            }
           },
           "from": {
            "data": "trajectory_split"
           },
           "type": "area"
          }
         ],
         "name": "_distributions",
         "type": "group",
         "zindex": 1
        },
        {
         "marks": [
          {
           "encode": {
            "enter": {
             "stroke": {
              "value": "lightgray"
             }
            },
            "update": {
             "opacity": {
              "value": 1
             },
             "x": {
              "field": "timepoint",
              "scale": "xscale"
             },
             "y": {
              "signal": "height"
             },
             "y2": {
              "value": 0
             }
            }
           },
           "from": {
            "data": "markers"
           },
           "name": "_marker text",
           "type": "rule"
          },
          {
           "encode": {
            "enter": {
             "fontSize": {
              "value": 8
             },
             "text": {
              "field": "datum.label"
             },
             "y": {
              "value": 0
             }
            }
           },
           "from": {
            "data": "_marker text"
           },
           "name": "_marker flags",
           "transform": [
            {
             "as": [
              "x",
              "_y",
              "opacity",
              "align",
              "baseline"
             ],
             "lineAnchor": "start",
             "offset": [
              1
             ],
             "size": {
              "signal": "[width, height]"
             },
             "type": "label"
            }
           ],
           "type": "text"
          }
         ],
         "name": "_markers",
         "type": "group"
        }
       ],
       "padding": 5,
       "scales": [
        {
         "domain": {
          "fields": [
           {
            "data": "distributions",
            "field": "timepoint"
           },
           {
            "data": "traces",
            "field": "timepoint"
           },
           {
            "data": "points",
            "field": "timepoint"
           },
           {
            "data": "markers",
            "field": "timepoint"
           }
          ]
         },
         "name": "xscale",
         "range": "width",
         "type": "linear",
         "zero": false
        },
        {
         "domain": {
          "fields": [
           {
            "data": "distributions",
            "field": "lower"
           },
           {
            "data": "distributions",
            "field": "upper"
           },
           {
            "data": "traces",
            "field": "value"
           },
           {
            "data": "points",
            "field": "value"
           }
          ]
         },
         "name": "yscale",
         "nice": true,
         "range": "height",
         "type": "linear",
         "zero": true
        },
        {
         "domain": {
          "fields": [
           {
            "data": "distributions",
            "field": "trajectory"
           },
           {
            "data": "traces",
            "field": "trajectory"
           },
           {
            "data": "points",
            "field": "trajectory"
           }
          ]
         },
         "name": "color",
         "range": "category",
         "type": "ordinal"
        }
       ],
       "signals": [
        {
         "name": "clear",
         "on": [
          {
           "events": "mouseup[!event.item]",
           "force": true,
           "update": "true"
          }
         ],
         "value": true
        },
        {
         "name": "shift",
         "on": [
          {
           "events": "@legendSymbol:click, @legendLabel:click",
           "force": true,
           "update": "event.shiftKey"
          }
         ],
         "value": false
        },
        {
         "name": "clicked",
         "on": [
          {
           "events": "@legendSymbol:click, @legendLabel:click",
           "force": true,
           "update": "{value: datum.value}"
          }
         ],
         "value": null
        }
       ],
       "width": 500
      }
     },
     "metadata": {},
     "output_type": "display_data"
    }
   ],
   "source": [
    "num_samples = 100\n",
    "model_paths = [model2_location]\n",
    "data_path = \"../../notebook/ensemble_eval_sa/datasets/NY_data1.csv\"\n",
    "weights = [1]\n",
    "solution_mappings = [{\"I\": \"I\", \"D\": \"D\"}]\n",
    "\n",
    "# Run the calibration and sampling\n",
    "result1 = load_and_calibrate_and_sample_ensemble_model(\n",
    "    model_paths,\n",
    "    data_path,\n",
    "    weights,\n",
    "    solution_mappings,\n",
    "    num_samples,\n",
    "    timepoints,\n",
    "    verbose=True,\n",
    "    total_population=19340000,\n",
    "    num_iterations=200,\n",
    "    time_unit=\"days\",\n",
    "    visual_options={\"title\": \"Calibrated Ensemble\", \"subset\":\".*_sol\"}\n",
    ")\n",
    "\n",
    "# Save results\n",
    "result1[\"data\"].to_csv(\"../../notebook/ensemble_eval_sa/ensemble_results/partI_ensemble_of_one_results.csv\", index=False)\n",
    "result1[\"quantiles\"].to_csv(\"../../notebook/ensemble_eval_sa/ensemble_results/partI_ensemble_of_one_quantiles.csv\", index=False)\n",
    "\n",
    "q_ensemble_data = cdc_reformatcsv(filename=\"../../notebook/ensemble_eval_sa/ensemble_results/partI_ensemble_of_one_quantiles.csv\", \n",
    "                                  solution_string_mapping={\"I\": \"cases\", \"D\": \"deaths\"}, \n",
    "                                  forecast_start_date=\"2020-04-03\",\n",
    "                                  location=\"New York State\",\n",
    "                                  drop_column_names=[\"timepoint_id\", \"number_days\", \"inc_cum\", \"output\", \"Forecast_Backcast\"])\n",
    "q_ensemble_data.to_csv(\"../../notebook/ensemble_eval_sa/ensemble_results/partI_ensemble1_quantiles_Apr032020.csv\")\n",
    "\n",
    "# Plot results\n",
    "schema = plots.trajectories(pd.DataFrame(result1[\"data\"]), subset=\".*_sol\",\n",
    "                            points=test_data.reset_index(drop=True).rename(columns={\"I\":\"I_data\", \"H\":\"H_data\", \"D\":\"D_data\"}),\n",
    "                           )\n",
    "schema = plots.pad(schema, 5)\n",
    "plots.ipy_display(schema)"
   ]
  },
  {
   "cell_type": "code",
   "execution_count": 10,
   "id": "6fa25da4-a72d-4789-969a-cfffe3c26ec1",
   "metadata": {},
   "outputs": [
    {
     "name": "stdout",
     "output_type": "stream",
     "text": [
      "iteration 0: loss = 715.3255967199802\n",
      "iteration 25: loss = 675.6244948208332\n",
      "iteration 50: loss = 638.4774799644947\n",
      "iteration 75: loss = 642.9715199768543\n",
      "\n"
     ]
    },
    {
     "data": {
      "application/vnd.vega.v5+json": {
       "$schema": "https://vega.github.io/schema/vega/v5.json",
       "axes": [
        {
         "name": "x_axis",
         "orient": "bottom",
         "scale": "xscale",
         "zindex": 100
        },
        {
         "name": "y_axis",
         "orient": "left",
         "scale": "yscale",
         "zindex": 100
        }
       ],
       "data": [
        {
         "name": "distributions",
         "values": [
          {
           "lower": 8.129795984906678e-23,
           "timepoint": 0,
           "trajectory": "D_sol",
           "upper": 1.869283172802801e-22
          },
          {
           "lower": 0.009195392159745098,
           "timepoint": 1,
           "trajectory": "D_sol",
           "upper": 0.02120939418673515
          },
          {
           "lower": 0.040680609084665774,
           "timepoint": 2,
           "trajectory": "D_sol",
           "upper": 0.09310242943465709
          },
          {
           "lower": 0.10015682652592658,
           "timepoint": 3,
           "trajectory": "D_sol",
           "upper": 0.2255800440907478
          },
          {
           "lower": 0.19400064200162886,
           "timepoint": 4,
           "trajectory": "D_sol",
           "upper": 0.42731460928916926
          },
          {
           "lower": 0.33006933331489563,
           "timepoint": 5,
           "trajectory": "D_sol",
           "upper": 0.707686686515808
          },
          {
           "lower": 0.5183712989091873,
           "timepoint": 6,
           "trajectory": "D_sol",
           "upper": 1.0782492280006408
          },
          {
           "lower": 0.7717493265867233,
           "timepoint": 7,
           "trajectory": "D_sol",
           "upper": 1.5539993762969968
          },
          {
           "lower": 1.0889456152915955,
           "timepoint": 8,
           "trajectory": "D_sol",
           "upper": 2.154620778560638
          },
          {
           "lower": 1.482006949186325,
           "timepoint": 9,
           "trajectory": "D_sol",
           "upper": 2.923536205291748
          },
          {
           "lower": 1.977094930410385,
           "timepoint": 10,
           "trajectory": "D_sol",
           "upper": 3.9036143541336057
          },
          {
           "lower": 2.599220943450928,
           "timepoint": 11,
           "trajectory": "D_sol",
           "upper": 5.14719181060791
          },
          {
           "lower": 3.3803841829299928,
           "timepoint": 12,
           "trajectory": "D_sol",
           "upper": 6.723968291282653
          },
          {
           "lower": 4.361306190490723,
           "timepoint": 13,
           "trajectory": "D_sol",
           "upper": 8.656658697128295
          },
          {
           "lower": 5.62491672039032,
           "timepoint": 14,
           "trajectory": "D_sol",
           "upper": 11.132372665405272
          },
          {
           "lower": 7.147591233253479,
           "timepoint": 15,
           "trajectory": "D_sol",
           "upper": 14.241853809356689
          },
          {
           "lower": 9.18547191619873,
           "timepoint": 16,
           "trajectory": "D_sol",
           "upper": 18.235821533203126
          },
          {
           "lower": 11.75536584854126,
           "timepoint": 17,
           "trajectory": "D_sol",
           "upper": 23.298969554901124
          },
          {
           "lower": 14.987046432495116,
           "timepoint": 18,
           "trajectory": "D_sol",
           "upper": 29.41390085220337
          },
          {
           "lower": 18.906884098052977,
           "timepoint": 19,
           "trajectory": "D_sol",
           "upper": 37.12156295776367
          },
          {
           "lower": 23.37734537124634,
           "timepoint": 20,
           "trajectory": "D_sol",
           "upper": 46.986030197143556
          },
          {
           "lower": 28.991717052459716,
           "timepoint": 21,
           "trajectory": "D_sol",
           "upper": 59.391477394104
          },
          {
           "lower": 36.14739437103272,
           "timepoint": 22,
           "trajectory": "D_sol",
           "upper": 74.68933219909668
          },
          {
           "lower": 44.79570369720459,
           "timepoint": 23,
           "trajectory": "D_sol",
           "upper": 93.29035263061523
          },
          {
           "lower": 55.11869106292725,
           "timepoint": 24,
           "trajectory": "D_sol",
           "upper": 114.9139633178711
          },
          {
           "lower": 67.22755889892578,
           "timepoint": 25,
           "trajectory": "D_sol",
           "upper": 140.1325714111328
          },
          {
           "lower": 81.19499816894532,
           "timepoint": 26,
           "trajectory": "D_sol",
           "upper": 169.04078369140623
          },
          {
           "lower": 97.10609588623046,
           "timepoint": 27,
           "trajectory": "D_sol",
           "upper": 203.0480499267578
          },
          {
           "lower": 114.92138481140137,
           "timepoint": 28,
           "trajectory": "D_sol",
           "upper": 241.27918701171876
          },
          {
           "lower": 134.59198989868165,
           "timepoint": 29,
           "trajectory": "D_sol",
           "upper": 280.6748596191406
          },
          {
           "lower": 156.05046920776368,
           "timepoint": 30,
           "trajectory": "D_sol",
           "upper": 322.0866516113281
          },
          {
           "lower": 179.21392974853515,
           "timepoint": 31,
           "trajectory": "D_sol",
           "upper": 365.79180145263666
          },
          {
           "lower": 201.92758026123047,
           "timepoint": 32,
           "trajectory": "D_sol",
           "upper": 414.63554382324213
          },
          {
           "lower": 225.52768325805664,
           "timepoint": 33,
           "trajectory": "D_sol",
           "upper": 470.17890624999995
          },
          {
           "lower": 253.8099235534668,
           "timepoint": 34,
           "trajectory": "D_sol",
           "upper": 529.1396606445312
          },
          {
           "lower": 281.2460601806641,
           "timepoint": 35,
           "trajectory": "D_sol",
           "upper": 591.0264770507812
          },
          {
           "lower": 307.77574615478517,
           "timepoint": 36,
           "trajectory": "D_sol",
           "upper": 655.9956237792969
          },
          {
           "lower": 334.79797821044923,
           "timepoint": 37,
           "trajectory": "D_sol",
           "upper": 724.6000366210938
          },
          {
           "lower": 362.2222366333008,
           "timepoint": 38,
           "trajectory": "D_sol",
           "upper": 796.5212677001953
          },
          {
           "lower": 389.9698547363281,
           "timepoint": 39,
           "trajectory": "D_sol",
           "upper": 853.2063537597655
          },
          {
           "lower": 417.98401031494143,
           "timepoint": 40,
           "trajectory": "D_sol",
           "upper": 912.2487274169921
          },
          {
           "lower": 446.55190124511716,
           "timepoint": 41,
           "trajectory": "D_sol",
           "upper": 987.574395751953
          },
          {
           "lower": 475.3271743774414,
           "timepoint": 42,
           "trajectory": "D_sol",
           "upper": 1065.385186767578
          },
          {
           "lower": 504.2694610595703,
           "timepoint": 43,
           "trajectory": "D_sol",
           "upper": 1145.652325439453
          },
          {
           "lower": 533.3445037841797,
           "timepoint": 44,
           "trajectory": "D_sol",
           "upper": 1228.3644409179688
          },
          {
           "lower": 562.5238830566407,
           "timepoint": 45,
           "trajectory": "D_sol",
           "upper": 1313.5140563964844
          },
          {
           "lower": 592.0989685058594,
           "timepoint": 46,
           "trajectory": "D_sol",
           "upper": 1390.251483154297
          },
          {
           "lower": 619.8907684326172,
           "timepoint": 47,
           "trajectory": "D_sol",
           "upper": 1490.3149780273438
          },
          {
           "lower": 648.21923828125,
           "timepoint": 48,
           "trajectory": "D_sol",
           "upper": 1586.2981994628906
          },
          {
           "lower": 675.0645812988281,
           "timepoint": 49,
           "trajectory": "D_sol",
           "upper": 1682.944287109375
          },
          {
           "lower": 694.5109222412109,
           "timepoint": 50,
           "trajectory": "D_sol",
           "upper": 1782.30244140625
          },
          {
           "lower": 721.440966796875,
           "timepoint": 51,
           "trajectory": "D_sol",
           "upper": 1884.4114135742186
          },
          {
           "lower": 756.4278686523437,
           "timepoint": 52,
           "trajectory": "D_sol",
           "upper": 1989.315734863281
          },
          {
           "lower": 790.5395904541016,
           "timepoint": 53,
           "trajectory": "D_sol",
           "upper": 2097.0583007812497
          },
          {
           "lower": 818.4375305175781,
           "timepoint": 54,
           "trajectory": "D_sol",
           "upper": 2220.195861816406
          },
          {
           "lower": 846.0798370361329,
           "timepoint": 55,
           "trajectory": "D_sol",
           "upper": 2349.184619140625
          },
          {
           "lower": 862.1521728515626,
           "timepoint": 56,
           "trajectory": "D_sol",
           "upper": 2482.3800659179683
          },
          {
           "lower": 877.5572204589844,
           "timepoint": 57,
           "trajectory": "D_sol",
           "upper": 2619.8402832031247
          },
          {
           "lower": 892.3172241210938,
           "timepoint": 58,
           "trajectory": "D_sol",
           "upper": 2762.1483886718747
          },
          {
           "lower": 906.456463623047,
           "timepoint": 59,
           "trajectory": "D_sol",
           "upper": 2909.4457641601557
          },
          {
           "lower": 100,
           "timepoint": 0,
           "trajectory": "I_sol",
           "upper": 100
          },
          {
           "lower": 158.03851013183595,
           "timepoint": 1,
           "trajectory": "I_sol",
           "upper": 160.25946731567382
          },
          {
           "lower": 215.9977569580078,
           "timepoint": 2,
           "trajectory": "I_sol",
           "upper": 222.2601333618164
          },
          {
           "lower": 281.18033294677736,
           "timepoint": 3,
           "trajectory": "I_sol",
           "upper": 293.5583129882813
          },
          {
           "lower": 358.5369384765625,
           "timepoint": 4,
           "trajectory": "I_sol",
           "upper": 380.46849517822267
          },
          {
           "lower": 452.202458190918,
           "timepoint": 5,
           "trajectory": "I_sol",
           "upper": 489.2892791748047
          },
          {
           "lower": 569.1092681884766,
           "timepoint": 6,
           "trajectory": "I_sol",
           "upper": 627.2043304443359
          },
          {
           "lower": 715.4754791259766,
           "timepoint": 7,
           "trajectory": "I_sol",
           "upper": 802.8915618896484
          },
          {
           "lower": 899.0545959472656,
           "timepoint": 8,
           "trajectory": "I_sol",
           "upper": 1027.1582641601562
          },
          {
           "lower": 1127.9581237792968,
           "timepoint": 9,
           "trajectory": "I_sol",
           "upper": 1313.8645080566407
          },
          {
           "lower": 1414.4902221679688,
           "timepoint": 10,
           "trajectory": "I_sol",
           "upper": 1680.1301147460938
          },
          {
           "lower": 1773.3421875,
           "timepoint": 11,
           "trajectory": "I_sol",
           "upper": 2147.5756713867186
          },
          {
           "lower": 2222.4358520507812,
           "timepoint": 12,
           "trajectory": "I_sol",
           "upper": 2743.953466796875
          },
          {
           "lower": 2783.7064208984375,
           "timepoint": 13,
           "trajectory": "I_sol",
           "upper": 3503.684045410156
          },
          {
           "lower": 3483.6156982421876,
           "timepoint": 14,
           "trajectory": "I_sol",
           "upper": 4469.132543945312
          },
          {
           "lower": 4353.249682617187,
           "timepoint": 15,
           "trajectory": "I_sol",
           "upper": 5691.108862304687
          },
          {
           "lower": 5427.511743164063,
           "timepoint": 16,
           "trajectory": "I_sol",
           "upper": 7227.894702148437
          },
          {
           "lower": 6742.475854492188,
           "timepoint": 17,
           "trajectory": "I_sol",
           "upper": 9141.60361328125
          },
          {
           "lower": 8329.673583984375,
           "timepoint": 18,
           "trajectory": "I_sol",
           "upper": 11488.19931640625
          },
          {
           "lower": 10206.27265625,
           "timepoint": 19,
           "trajectory": "I_sol",
           "upper": 14300.702734375
          },
          {
           "lower": 12361.98720703125,
           "timepoint": 20,
           "trajectory": "I_sol",
           "upper": 17565.56708984375
          },
          {
           "lower": 14747.567578125,
           "timepoint": 21,
           "trajectory": "I_sol",
           "upper": 21216.61357421875
          },
          {
           "lower": 17276.74716796875,
           "timepoint": 22,
           "trajectory": "I_sol",
           "upper": 25090.61767578125
          },
          {
           "lower": 19836.9255859375,
           "timepoint": 23,
           "trajectory": "I_sol",
           "upper": 28985.01162109375
          },
          {
           "lower": 22315.406640625,
           "timepoint": 24,
           "trajectory": "I_sol",
           "upper": 32699.4123046875
          },
          {
           "lower": 24627.8201171875,
           "timepoint": 25,
           "trajectory": "I_sol",
           "upper": 36072.716992187496
          },
          {
           "lower": 26728.29365234375,
           "timepoint": 26,
           "trajectory": "I_sol",
           "upper": 39112.26171874999
          },
          {
           "lower": 28605.40390625,
           "timepoint": 27,
           "trajectory": "I_sol",
           "upper": 41945.07519531249
          },
          {
           "lower": 30037.173828125,
           "timepoint": 28,
           "trajectory": "I_sol",
           "upper": 44432.74218749999
          },
          {
           "lower": 30370.99345703125,
           "timepoint": 29,
           "trajectory": "I_sol",
           "upper": 46660.409374999996
          },
          {
           "lower": 30170.79970703125,
           "timepoint": 30,
           "trajectory": "I_sol",
           "upper": 49035.7322265625
          },
          {
           "lower": 29979.72783203125,
           "timepoint": 31,
           "trajectory": "I_sol",
           "upper": 51031.802734375
          },
          {
           "lower": 29823.8623046875,
           "timepoint": 32,
           "trajectory": "I_sol",
           "upper": 52998.17265625
          },
          {
           "lower": 29063.53212890625,
           "timepoint": 33,
           "trajectory": "I_sol",
           "upper": 55073.0591796875
          },
          {
           "lower": 27950.01220703125,
           "timepoint": 34,
           "trajectory": "I_sol",
           "upper": 57381.3041015625
          },
          {
           "lower": 26802.77958984375,
           "timepoint": 35,
           "trajectory": "I_sol",
           "upper": 59681.2708984375
          },
          {
           "lower": 25648.37939453125,
           "timepoint": 36,
           "trajectory": "I_sol",
           "upper": 61960.3154296875
          },
          {
           "lower": 24499.88046875,
           "timepoint": 37,
           "trajectory": "I_sol",
           "upper": 64047.7833984375
          },
          {
           "lower": 23371.0244140625,
           "timepoint": 38,
           "trajectory": "I_sol",
           "upper": 65778.048046875
          },
          {
           "lower": 22334.577734375,
           "timepoint": 39,
           "trajectory": "I_sol",
           "upper": 67871.474609375
          },
          {
           "lower": 21702.677734375,
           "timepoint": 40,
           "trajectory": "I_sol",
           "upper": 70216.90664062499
          },
          {
           "lower": 21251.7787109375,
           "timepoint": 41,
           "trajectory": "I_sol",
           "upper": 72630.112109375
          },
          {
           "lower": 20805.66875,
           "timepoint": 42,
           "trajectory": "I_sol",
           "upper": 75115.30859375
          },
          {
           "lower": 20365.8240234375,
           "timepoint": 43,
           "trajectory": "I_sol",
           "upper": 77676.215625
          },
          {
           "lower": 19933.201171875,
           "timepoint": 44,
           "trajectory": "I_sol",
           "upper": 80315.7984375
          },
          {
           "lower": 19508.419335937502,
           "timepoint": 45,
           "trajectory": "I_sol",
           "upper": 83036.955859375
          },
          {
           "lower": 18862.96357421875,
           "timepoint": 46,
           "trajectory": "I_sol",
           "upper": 85842.30468749999
          },
          {
           "lower": 18107.65244140625,
           "timepoint": 47,
           "trajectory": "I_sol",
           "upper": 88734.38124999999
          },
          {
           "lower": 17381.3630859375,
           "timepoint": 48,
           "trajectory": "I_sol",
           "upper": 91940.046484375
          },
          {
           "lower": 16683.289697265627,
           "timepoint": 49,
           "trajectory": "I_sol",
           "upper": 95663.788671875
          },
          {
           "lower": 16012.621289062501,
           "timepoint": 50,
           "trajectory": "I_sol",
           "upper": 99528.78046874999
          },
          {
           "lower": 15368.411669921876,
           "timepoint": 51,
           "trajectory": "I_sol",
           "upper": 103539.51289062499
          },
          {
           "lower": 14749.7861328125,
           "timepoint": 52,
           "trajectory": "I_sol",
           "upper": 107700.787890625
          },
          {
           "lower": 14155.80458984375,
           "timepoint": 53,
           "trajectory": "I_sol",
           "upper": 112017.36875
          },
          {
           "lower": 13585.550634765625,
           "timepoint": 54,
           "trajectory": "I_sol",
           "upper": 116493.978515625
          },
          {
           "lower": 13038.130908203126,
           "timepoint": 55,
           "trajectory": "I_sol",
           "upper": 121039.116796875
          },
          {
           "lower": 12512.652001953125,
           "timepoint": 56,
           "trajectory": "I_sol",
           "upper": 125263.69570312499
          },
          {
           "lower": 12008.2728515625,
           "timepoint": 57,
           "trajectory": "I_sol",
           "upper": 129618.938671875
          },
          {
           "lower": 11524.162744140625,
           "timepoint": 58,
           "trajectory": "I_sol",
           "upper": 134107.6171875
          },
          {
           "lower": 11059.522021484376,
           "timepoint": 59,
           "trajectory": "I_sol",
           "upper": 138732.303125
          }
         ]
        },
        {
         "name": "traces",
         "transform": [
          {
           "expr": "isValid(datum.value)",
           "type": "filter"
          }
         ],
         "values": []
        },
        {
         "name": "points",
         "values": [
          {
           "sample_id": 0,
           "timepoint": 0,
           "trajectory": "I_data",
           "value": 1
          },
          {
           "sample_id": 0,
           "timepoint": 1,
           "trajectory": "I_data",
           "value": 10
          },
          {
           "sample_id": 0,
           "timepoint": 2,
           "trajectory": "I_data",
           "value": 21
          },
          {
           "sample_id": 0,
           "timepoint": 3,
           "trajectory": "I_data",
           "value": 24
          },
          {
           "sample_id": 0,
           "timepoint": 4,
           "trajectory": "I_data",
           "value": 76
          },
          {
           "sample_id": 0,
           "timepoint": 5,
           "trajectory": "I_data",
           "value": 104
          },
          {
           "sample_id": 0,
           "timepoint": 6,
           "trajectory": "I_data",
           "value": 128
          },
          {
           "sample_id": 0,
           "timepoint": 7,
           "trajectory": "I_data",
           "value": 131
          },
          {
           "sample_id": 0,
           "timepoint": 8,
           "trajectory": "I_data",
           "value": 192
          },
          {
           "sample_id": 0,
           "timepoint": 9,
           "trajectory": "I_data",
           "value": 220
          },
          {
           "sample_id": 0,
           "timepoint": 10,
           "trajectory": "I_data",
           "value": 274
          },
          {
           "sample_id": 0,
           "timepoint": 11,
           "trajectory": "I_data",
           "value": 394
          },
          {
           "sample_id": 0,
           "timepoint": 12,
           "trajectory": "I_data",
           "value": 481
          },
          {
           "sample_id": 0,
           "timepoint": 13,
           "trajectory": "I_data",
           "value": 745
          },
          {
           "sample_id": 0,
           "timepoint": 14,
           "trajectory": "I_data",
           "value": 1111
          },
          {
           "sample_id": 0,
           "timepoint": 15,
           "trajectory": "I_data",
           "value": 2128
          },
          {
           "sample_id": 0,
           "timepoint": 16,
           "trajectory": "I_data",
           "value": 3671
          },
          {
           "sample_id": 0,
           "timepoint": 17,
           "trajectory": "I_data",
           "value": 6578
          },
          {
           "sample_id": 0,
           "timepoint": 18,
           "trajectory": "I_data",
           "value": 9449
          },
          {
           "sample_id": 0,
           "timepoint": 19,
           "trajectory": "I_data",
           "value": 13761
          },
          {
           "sample_id": 0,
           "timepoint": 20,
           "trajectory": "I_data",
           "value": 18270
          },
          {
           "sample_id": 0,
           "timepoint": 21,
           "trajectory": "I_data",
           "value": 21478
          },
          {
           "sample_id": 0,
           "timepoint": 22,
           "trajectory": "I_data",
           "value": 23630
          },
          {
           "sample_id": 0,
           "timepoint": 23,
           "trajectory": "I_data",
           "value": 26987
          },
          {
           "sample_id": 0,
           "timepoint": 24,
           "trajectory": "I_data",
           "value": 29533
          },
          {
           "sample_id": 0,
           "timepoint": 25,
           "trajectory": "I_data",
           "value": 31623
          },
          {
           "sample_id": 0,
           "timepoint": 26,
           "trajectory": "I_data",
           "value": 33967
          },
          {
           "sample_id": 0,
           "timepoint": 27,
           "trajectory": "I_data",
           "value": 35822
          },
          {
           "sample_id": 0,
           "timepoint": 28,
           "trajectory": "I_data",
           "value": 38456
          },
          {
           "sample_id": 0,
           "timepoint": 29,
           "trajectory": "I_data",
           "value": 45676
          },
          {
           "sample_id": 0,
           "timepoint": 30,
           "trajectory": "I_data",
           "value": 48380
          },
          {
           "sample_id": 0,
           "timepoint": 31,
           "trajectory": "I_data",
           "value": 51807
          },
          {
           "sample_id": 0,
           "timepoint": 32,
           "trajectory": "I_data",
           "value": 55042
          },
          {
           "sample_id": 0,
           "timepoint": 33,
           "trajectory": "I_data",
           "value": 56847
          },
          {
           "sample_id": 0,
           "timepoint": 34,
           "trajectory": "I_data",
           "value": 52184
          },
          {
           "sample_id": 0,
           "timepoint": 35,
           "trajectory": "I_data",
           "value": 49194
          },
          {
           "sample_id": 0,
           "timepoint": 36,
           "trajectory": "I_data",
           "value": 48730
          },
          {
           "sample_id": 0,
           "timepoint": 37,
           "trajectory": "I_data",
           "value": 50551
          },
          {
           "sample_id": 0,
           "timepoint": 38,
           "trajectory": "I_data",
           "value": 51029
          },
          {
           "sample_id": 0,
           "timepoint": 39,
           "trajectory": "I_data",
           "value": 49701
          },
          {
           "sample_id": 0,
           "timepoint": 40,
           "trajectory": "I_data",
           "value": 50661
          },
          {
           "sample_id": 0,
           "timepoint": 41,
           "trajectory": "I_data",
           "value": 48303
          },
          {
           "sample_id": 0,
           "timepoint": 42,
           "trajectory": "I_data",
           "value": 43703
          },
          {
           "sample_id": 0,
           "timepoint": 43,
           "trajectory": "I_data",
           "value": 38888
          },
          {
           "sample_id": 0,
           "timepoint": 44,
           "trajectory": "I_data",
           "value": 38244
          },
          {
           "sample_id": 0,
           "timepoint": 45,
           "trajectory": "I_data",
           "value": 36857
          },
          {
           "sample_id": 0,
           "timepoint": 46,
           "trajectory": "I_data",
           "value": 35881
          },
          {
           "sample_id": 0,
           "timepoint": 47,
           "trajectory": "I_data",
           "value": 35054
          },
          {
           "sample_id": 0,
           "timepoint": 48,
           "trajectory": "I_data",
           "value": 34782
          },
          {
           "sample_id": 0,
           "timepoint": 49,
           "trajectory": "I_data",
           "value": 31526
          },
          {
           "sample_id": 0,
           "timepoint": 50,
           "trajectory": "I_data",
           "value": 28799
          },
          {
           "sample_id": 0,
           "timepoint": 51,
           "trajectory": "I_data",
           "value": 27419
          },
          {
           "sample_id": 0,
           "timepoint": 52,
           "trajectory": "I_data",
           "value": 27443
          },
          {
           "sample_id": 0,
           "timepoint": 53,
           "trajectory": "I_data",
           "value": 30499
          },
          {
           "sample_id": 0,
           "timepoint": 54,
           "trajectory": "I_data",
           "value": 31543
          },
          {
           "sample_id": 0,
           "timepoint": 55,
           "trajectory": "I_data",
           "value": 31597
          },
          {
           "sample_id": 0,
           "timepoint": 56,
           "trajectory": "I_data",
           "value": 29008
          },
          {
           "sample_id": 0,
           "timepoint": 57,
           "trajectory": "I_data",
           "value": 25476
          },
          {
           "sample_id": 0,
           "timepoint": 58,
           "trajectory": "I_data",
           "value": 20411
          },
          {
           "sample_id": 0,
           "timepoint": 59,
           "trajectory": "I_data",
           "value": 19224
          },
          {
           "sample_id": 0,
           "timepoint": 38,
           "trajectory": "H_data",
           "value": 0
          },
          {
           "sample_id": 0,
           "timepoint": 39,
           "trajectory": "H_data",
           "value": 0
          },
          {
           "sample_id": 0,
           "timepoint": 45,
           "trajectory": "H_data",
           "value": 0
          },
          {
           "sample_id": 0,
           "timepoint": 46,
           "trajectory": "H_data",
           "value": 1
          },
          {
           "sample_id": 0,
           "timepoint": 52,
           "trajectory": "H_data",
           "value": 0
          },
          {
           "sample_id": 0,
           "timepoint": 53,
           "trajectory": "H_data",
           "value": 0
          },
          {
           "sample_id": 0,
           "timepoint": 54,
           "trajectory": "H_data",
           "value": 1
          },
          {
           "sample_id": 0,
           "timepoint": 55,
           "trajectory": "H_data",
           "value": 0
          },
          {
           "sample_id": 0,
           "timepoint": 56,
           "trajectory": "H_data",
           "value": 0
          },
          {
           "sample_id": 0,
           "timepoint": 57,
           "trajectory": "H_data",
           "value": 0
          },
          {
           "sample_id": 0,
           "timepoint": 58,
           "trajectory": "H_data",
           "value": 0
          },
          {
           "sample_id": 0,
           "timepoint": 59,
           "trajectory": "H_data",
           "value": 0
          },
          {
           "sample_id": 0,
           "timepoint": 0,
           "trajectory": "D_data",
           "value": 0
          },
          {
           "sample_id": 0,
           "timepoint": 1,
           "trajectory": "D_data",
           "value": 0
          },
          {
           "sample_id": 0,
           "timepoint": 2,
           "trajectory": "D_data",
           "value": 0
          },
          {
           "sample_id": 0,
           "timepoint": 3,
           "trajectory": "D_data",
           "value": 0
          },
          {
           "sample_id": 0,
           "timepoint": 4,
           "trajectory": "D_data",
           "value": 0
          },
          {
           "sample_id": 0,
           "timepoint": 5,
           "trajectory": "D_data",
           "value": 0
          },
          {
           "sample_id": 0,
           "timepoint": 6,
           "trajectory": "D_data",
           "value": 0
          },
          {
           "sample_id": 0,
           "timepoint": 7,
           "trajectory": "D_data",
           "value": 0
          },
          {
           "sample_id": 0,
           "timepoint": 8,
           "trajectory": "D_data",
           "value": 1
          },
          {
           "sample_id": 0,
           "timepoint": 9,
           "trajectory": "D_data",
           "value": 1
          },
          {
           "sample_id": 0,
           "timepoint": 10,
           "trajectory": "D_data",
           "value": 1
          },
          {
           "sample_id": 0,
           "timepoint": 11,
           "trajectory": "D_data",
           "value": 4
          },
          {
           "sample_id": 0,
           "timepoint": 12,
           "trajectory": "D_data",
           "value": 9
          },
          {
           "sample_id": 0,
           "timepoint": 13,
           "trajectory": "D_data",
           "value": 19
          },
          {
           "sample_id": 0,
           "timepoint": 14,
           "trajectory": "D_data",
           "value": 30
          },
          {
           "sample_id": 0,
           "timepoint": 15,
           "trajectory": "D_data",
           "value": 51
          },
          {
           "sample_id": 0,
           "timepoint": 16,
           "trajectory": "D_data",
           "value": 77
          },
          {
           "sample_id": 0,
           "timepoint": 17,
           "trajectory": "D_data",
           "value": 129
          },
          {
           "sample_id": 0,
           "timepoint": 18,
           "trajectory": "D_data",
           "value": 175
          },
          {
           "sample_id": 0,
           "timepoint": 19,
           "trajectory": "D_data",
           "value": 226
          },
          {
           "sample_id": 0,
           "timepoint": 20,
           "trajectory": "D_data",
           "value": 315
          },
          {
           "sample_id": 0,
           "timepoint": 21,
           "trajectory": "D_data",
           "value": 427
          },
          {
           "sample_id": 0,
           "timepoint": 22,
           "trajectory": "D_data",
           "value": 565
          },
          {
           "sample_id": 0,
           "timepoint": 23,
           "trajectory": "D_data",
           "value": 759
          },
          {
           "sample_id": 0,
           "timepoint": 24,
           "trajectory": "D_data",
           "value": 984
          },
          {
           "sample_id": 0,
           "timepoint": 25,
           "trajectory": "D_data",
           "value": 1285
          },
          {
           "sample_id": 0,
           "timepoint": 26,
           "trajectory": "D_data",
           "value": 1603
          },
          {
           "sample_id": 0,
           "timepoint": 27,
           "trajectory": "D_data",
           "value": 1930
          },
          {
           "sample_id": 0,
           "timepoint": 28,
           "trajectory": "D_data",
           "value": 2334
          },
          {
           "sample_id": 0,
           "timepoint": 29,
           "trajectory": "D_data",
           "value": 2859
          },
          {
           "sample_id": 0,
           "timepoint": 30,
           "trajectory": "D_data",
           "value": 3420
          },
          {
           "sample_id": 0,
           "timepoint": 31,
           "trajectory": "D_data",
           "value": 3989
          },
          {
           "sample_id": 0,
           "timepoint": 32,
           "trajectory": "D_data",
           "value": 4634
          },
          {
           "sample_id": 0,
           "timepoint": 33,
           "trajectory": "D_data",
           "value": 5384
          },
          {
           "sample_id": 0,
           "timepoint": 34,
           "trajectory": "D_data",
           "value": 6185
          },
          {
           "sample_id": 0,
           "timepoint": 35,
           "trajectory": "D_data",
           "value": 7241
          },
          {
           "sample_id": 0,
           "timepoint": 36,
           "trajectory": "D_data",
           "value": 7985
          },
          {
           "sample_id": 0,
           "timepoint": 37,
           "trajectory": "D_data",
           "value": 8846
          },
          {
           "sample_id": 0,
           "timepoint": 38,
           "trajectory": "D_data",
           "value": 9579
          },
          {
           "sample_id": 0,
           "timepoint": 39,
           "trajectory": "D_data",
           "value": 10345
          },
          {
           "sample_id": 0,
           "timepoint": 40,
           "trajectory": "D_data",
           "value": 11126
          },
          {
           "sample_id": 0,
           "timepoint": 41,
           "trajectory": "D_data",
           "value": 11930
          },
          {
           "sample_id": 0,
           "timepoint": 42,
           "trajectory": "D_data",
           "value": 12669
          },
          {
           "sample_id": 0,
           "timepoint": 43,
           "trajectory": "D_data",
           "value": 13332
          },
          {
           "sample_id": 0,
           "timepoint": 44,
           "trajectory": "D_data",
           "value": 13987
          },
          {
           "sample_id": 0,
           "timepoint": 45,
           "trajectory": "D_data",
           "value": 14371
          },
          {
           "sample_id": 0,
           "timepoint": 46,
           "trajectory": "D_data",
           "value": 14780
          },
          {
           "sample_id": 0,
           "timepoint": 47,
           "trajectory": "D_data",
           "value": 15225
          },
          {
           "sample_id": 0,
           "timepoint": 48,
           "trajectory": "D_data",
           "value": 16116
          },
          {
           "sample_id": 0,
           "timepoint": 49,
           "trajectory": "D_data",
           "value": 16639
          },
          {
           "sample_id": 0,
           "timepoint": 50,
           "trajectory": "D_data",
           "value": 17091
          },
          {
           "sample_id": 0,
           "timepoint": 51,
           "trajectory": "D_data",
           "value": 17647
          },
          {
           "sample_id": 0,
           "timepoint": 52,
           "trajectory": "D_data",
           "value": 18132
          },
          {
           "sample_id": 0,
           "timepoint": 53,
           "trajectory": "D_data",
           "value": 18523
          },
          {
           "sample_id": 0,
           "timepoint": 54,
           "trajectory": "D_data",
           "value": 18882
          },
          {
           "sample_id": 0,
           "timepoint": 55,
           "trajectory": "D_data",
           "value": 19292
          },
          {
           "sample_id": 0,
           "timepoint": 56,
           "trajectory": "D_data",
           "value": 19602
          },
          {
           "sample_id": 0,
           "timepoint": 57,
           "trajectory": "D_data",
           "value": 20000
          },
          {
           "sample_id": 0,
           "timepoint": 58,
           "trajectory": "D_data",
           "value": 20334
          },
          {
           "sample_id": 0,
           "timepoint": 59,
           "trajectory": "D_data",
           "value": 20662
          }
         ]
        },
        {
         "name": "markers",
         "values": []
        },
        {
         "name": "selected",
         "on": [
          {
           "remove": true,
           "trigger": "clear"
          },
          {
           "remove": true,
           "trigger": "!shift"
          },
          {
           "insert": "clicked",
           "trigger": "!shift && clicked"
          },
          {
           "toggle": "clicked",
           "trigger": "shift && clicked"
          }
         ]
        }
       ],
       "height": 300,
       "legends": [
        {
         "encode": {
          "labels": {
           "interactive": true,
           "name": "legendLabel",
           "update": {
            "opacity": [
             {
              "test": "!length(data('selected')) || indata('selected', 'value', datum.value)",
              "value": 1
             },
             {
              "value": 0.25
             }
            ]
           }
          },
          "symbols": {
           "interactive": true,
           "name": "legendSymbol",
           "update": {
            "fill": {
             "value": "transparent"
            },
            "opacity": [
             {
              "test": "!length(data('selected')) || indata('selected', 'value', datum.value)",
              "value": 0.7
             },
             {
              "value": 0.15
             }
            ],
            "size": {
             "value": 64
            },
            "strokeWidth": {
             "value": 2
            }
           }
          }
         },
         "name": "color_legend",
         "stroke": "color"
        }
       ],
       "marks": [
        {
         "from": {
          "facet": {
           "data": "points",
           "groupby": "trajectory",
           "name": "points_split"
          }
         },
         "marks": [
          {
           "encode": {
            "hover": {
             "fillOpacity": {
              "value": 0.9
             }
            },
            "update": {
             "fill": {
              "field": "trajectory",
              "scale": "color"
             },
             "fillOpacity": [
              {
               "test": "!length(data('selected')) || indata('selected', 'value', datum.trajectory)",
               "value": 0.5
              },
              {
               "value": 0.15
              }
             ],
             "size": {
              "value": 10
             },
             "stroke": {
              "field": "trajectory",
              "scale": "color"
             },
             "strokeOpacity": [
              {
               "test": "!length(data('selected')) || indata('selected', 'value', datum.trajectory)",
               "value": 0.75
              },
              {
               "value": 0.15
              }
             ],
             "strokeWidth": {
              "value": 2
             },
             "tooltip": {
              "field": "value"
             },
             "x": {
              "field": "timepoint",
              "scale": "xscale"
             },
             "y": {
              "field": "value",
              "scale": "yscale"
             }
            }
           },
           "from": {
            "data": "points"
           },
           "name": "_points_symbol",
           "type": "symbol",
           "zindex": 3
          },
          {
           "encode": {
            "hover": {
             "fillOpacity": {
              "value": 0.9
             }
            },
            "update": {
             "interpolate": {
              "value": "linear"
             },
             "stroke": {
              "field": "trajectory",
              "scale": "color"
             },
             "strokeOpacity": [
              {
               "test": "!length(data('selected')) || indata('selected', 'value', datum.trajectory)",
               "value": 0.3
              },
              {
               "value": 0.1
              }
             ],
             "strokeWidth": {
              "value": 2
             },
             "x": {
              "field": "timepoint",
              "scale": "xscale"
             },
             "y": {
              "field": "value",
              "scale": "yscale"
             }
            }
           },
           "from": {
            "data": "points"
           },
           "name": "_points_line",
           "type": "line",
           "zindex": 3
          }
         ],
         "name": "_points",
         "type": "group",
         "zindex": 3
        },
        {
         "from": {
          "facet": {
           "data": "traces",
           "groupby": "trajectory",
           "name": "traces_split"
          }
         },
         "marks": [
          {
           "encode": {
            "hover": {
             "fillOpacity": {
              "value": 0.9
             }
            },
            "update": {
             "interpolate": {
              "value": "linear"
             },
             "stroke": {
              "field": "trajectory",
              "scale": "color"
             },
             "strokeOpacity": [
              {
               "test": "!length(data('selected')) || indata('selected', 'value', datum.trajectory)",
               "value": 0.75
              },
              {
               "value": 0.15
              }
             ],
             "strokeWidth": {
              "value": 2
             },
             "x": {
              "field": "timepoint",
              "scale": "xscale"
             },
             "y": {
              "field": "value",
              "scale": "yscale"
             }
            }
           },
           "from": {
            "data": "traces_split"
           },
           "name": "_traces_lines",
           "type": "line"
          }
         ],
         "name": "_traces",
         "type": "group",
         "zindex": 2
        },
        {
         "from": {
          "facet": {
           "data": "distributions",
           "groupby": "trajectory",
           "name": "trajectory_split"
          }
         },
         "marks": [
          {
           "encode": {
            "hover": {
             "fillOpacity": {
              "value": 0.9
             }
            },
            "update": {
             "fill": {
              "field": "trajectory",
              "scale": "color"
             },
             "fillOpacity": [
              {
               "test": "!length(data('selected')) || indata('selected', 'value', datum.trajectory)",
               "value": 0.5
              },
              {
               "value": 0.15
              }
             ],
             "interpolate": {
              "value": "linear"
             },
             "stroke": {
              "field": "trajectory",
              "scale": "color"
             },
             "strokeOpacity": [
              {
               "test": "!length(data('selected')) || indata('selected', 'value', datum.trajectory)",
               "value": 0.75
              },
              {
               "value": 0.15
              }
             ],
             "strokeWidth": {
              "value": 2
             },
             "x": {
              "field": "timepoint",
              "scale": "xscale"
             },
             "y": {
              "field": "upper",
              "scale": "yscale"
             },
             "y2": {
              "field": "lower",
              "scale": "yscale"
             }
            }
           },
           "from": {
            "data": "trajectory_split"
           },
           "type": "area"
          }
         ],
         "name": "_distributions",
         "type": "group",
         "zindex": 1
        },
        {
         "marks": [
          {
           "encode": {
            "enter": {
             "stroke": {
              "value": "lightgray"
             }
            },
            "update": {
             "opacity": {
              "value": 1
             },
             "x": {
              "field": "timepoint",
              "scale": "xscale"
             },
             "y": {
              "signal": "height"
             },
             "y2": {
              "value": 0
             }
            }
           },
           "from": {
            "data": "markers"
           },
           "name": "_marker text",
           "type": "rule"
          },
          {
           "encode": {
            "enter": {
             "fontSize": {
              "value": 8
             },
             "text": {
              "field": "datum.label"
             },
             "y": {
              "value": 0
             }
            }
           },
           "from": {
            "data": "_marker text"
           },
           "name": "_marker flags",
           "transform": [
            {
             "as": [
              "x",
              "_y",
              "opacity",
              "align",
              "baseline"
             ],
             "lineAnchor": "start",
             "offset": [
              1
             ],
             "size": {
              "signal": "[width, height]"
             },
             "type": "label"
            }
           ],
           "type": "text"
          }
         ],
         "name": "_markers",
         "type": "group"
        }
       ],
       "padding": 5,
       "scales": [
        {
         "domain": {
          "fields": [
           {
            "data": "distributions",
            "field": "timepoint"
           },
           {
            "data": "traces",
            "field": "timepoint"
           },
           {
            "data": "points",
            "field": "timepoint"
           },
           {
            "data": "markers",
            "field": "timepoint"
           }
          ]
         },
         "name": "xscale",
         "range": "width",
         "type": "linear",
         "zero": false
        },
        {
         "domain": {
          "fields": [
           {
            "data": "distributions",
            "field": "lower"
           },
           {
            "data": "distributions",
            "field": "upper"
           },
           {
            "data": "traces",
            "field": "value"
           },
           {
            "data": "points",
            "field": "value"
           }
          ]
         },
         "name": "yscale",
         "nice": true,
         "range": "height",
         "type": "linear",
         "zero": true
        },
        {
         "domain": {
          "fields": [
           {
            "data": "distributions",
            "field": "trajectory"
           },
           {
            "data": "traces",
            "field": "trajectory"
           },
           {
            "data": "points",
            "field": "trajectory"
           }
          ]
         },
         "name": "color",
         "range": "category",
         "type": "ordinal"
        }
       ],
       "signals": [
        {
         "name": "clear",
         "on": [
          {
           "events": "mouseup[!event.item]",
           "force": true,
           "update": "true"
          }
         ],
         "value": true
        },
        {
         "name": "shift",
         "on": [
          {
           "events": "@legendSymbol:click, @legendLabel:click",
           "force": true,
           "update": "event.shiftKey"
          }
         ],
         "value": false
        },
        {
         "name": "clicked",
         "on": [
          {
           "events": "@legendSymbol:click, @legendLabel:click",
           "force": true,
           "update": "{value: datum.value}"
          }
         ],
         "value": null
        }
       ],
       "width": 500
      }
     },
     "metadata": {},
     "output_type": "display_data"
    }
   ],
   "source": [
    "num_samples = 100\n",
    "model_paths = [model6_location]\n",
    "data_path = \"../../notebook/ensemble_eval_sa/datasets/NY_data1.csv\"\n",
    "weights = [1]\n",
    "solution_mappings = [{\"I\": \"infected\", \"D\": \"dead\"}]\n",
    "\n",
    "# Run the calibration and sampling\n",
    "result2 = load_and_calibrate_and_sample_ensemble_model(\n",
    "    model_paths,\n",
    "    data_path,\n",
    "    weights,\n",
    "    solution_mappings,\n",
    "    num_samples,\n",
    "    timepoints,\n",
    "    verbose=True,\n",
    "    total_population=19340000,\n",
    "    num_iterations=100,\n",
    "    time_unit=\"days\",\n",
    "    visual_options={\"title\": \"Calibrated Ensemble\", \"subset\":\".*_sol\"}\n",
    ")\n",
    "\n",
    "# # Save results\n",
    "# result2[\"data\"].to_csv(\"../../notebook/ensemble_eval_sa/ensemble_results/partI_ensemble_of_one_results.csv\", index=False)\n",
    "# result2[\"quantiles\"].to_csv(\"../../notebook/ensemble_eval_sa/ensemble_results/partI_ensemble_of_one_quantiles.csv\", index=False)\n",
    "\n",
    "# Plot results\n",
    "schema = plots.trajectories(pd.DataFrame(result2[\"data\"]), subset=\".*_sol\",\n",
    "                            points=test_data.reset_index(drop=True).rename(columns={\"I\":\"I_data\", \"H\":\"H_data\", \"D\":\"D_data\"}),\n",
    "                           )\n",
    "schema = plots.pad(schema, 5)\n",
    "plots.ipy_display(schema)"
   ]
  },
  {
   "cell_type": "code",
   "execution_count": null,
   "id": "654bb2a6-f7dd-45bb-9ebe-183ac72bd67e",
   "metadata": {},
   "outputs": [],
   "source": [
    "num_samples = 100\n",
    "model_paths = [model7_location]\n",
    "data_path = \"../../notebook/ensemble_eval_sa/datasets/NY_data1.csv\"\n",
    "weights = [1]\n",
    "solution_mappings = [{\"I\": \"infected\", \"D\": \"dead\"}]\n",
    "\n",
    "# Run the calibration and sampling\n",
    "result3 = load_and_calibrate_and_sample_ensemble_model(\n",
    "    model_paths,\n",
    "    data_path,\n",
    "    weights,\n",
    "    solution_mappings,\n",
    "    num_samples,\n",
    "    timepoints,\n",
    "    verbose=True,\n",
    "    total_population=19340000,\n",
    "    num_iterations=50,\n",
    "    time_unit=\"days\",\n",
    "    visual_options={\"title\": \"Calibrated Ensemble\", \"subset\":\".*_sol\"}\n",
    ")\n",
    "\n",
    "# # Save results\n",
    "# result3[\"data\"].to_csv(\"../../notebook/ensemble_eval_sa/ensemble_results/partI_ensemble_of_one_results.csv\", index=False)\n",
    "# result3[\"quantiles\"].to_csv(\"../../notebook/ensemble_eval_sa/ensemble_results/partI_ensemble_of_one_quantiles.csv\", index=False)\n",
    "\n",
    "# Plot results\n",
    "schema = plots.trajectories(pd.DataFrame(result3[\"data\"]), subset=\".*_sol\",\n",
    "                            points=test_data.reset_index(drop=True).rename(columns={\"I\":\"I_data\", \"H\":\"H_data\", \"D\":\"D_data\"}),\n",
    "                           )\n",
    "schema = plots.pad(schema, 5)\n",
    "plots.ipy_display(schema)"
   ]
  },
  {
   "cell_type": "markdown",
   "id": "2ded2349-d56b-4fe5-a685-06b37cc78831",
   "metadata": {},
   "source": [
    "# Calibrate and sample an ensemble of multiple models"
   ]
  },
  {
   "cell_type": "code",
   "execution_count": 6,
   "id": "5220df5c-61a0-47ad-ac94-fc543e8cb523",
   "metadata": {},
   "outputs": [
    {
     "name": "stdout",
     "output_type": "stream",
     "text": [
      "iteration 0: loss = 770.0332576930523\n",
      "iteration 25: loss = 725.9352768361568\n",
      "iteration 50: loss = 683.1315333545208\n",
      "iteration 75: loss = 657.1365496814251\n",
      "iteration 100: loss = 639.9664190709591\n",
      "iteration 125: loss = 651.2667129933834\n",
      "iteration 150: loss = 644.3884951770306\n",
      "iteration 175: loss = 640.9029484689236\n",
      "iteration 200: loss = 642.0637594163418\n",
      "iteration 225: loss = 641.8007166087627\n",
      "iteration 250: loss = 635.0509063899517\n",
      "iteration 275: loss = 638.1880713403225\n",
      "\n"
     ]
    },
    {
     "data": {
      "application/vnd.vega.v5+json": {
       "$schema": "https://vega.github.io/schema/vega/v5.json",
       "axes": [
        {
         "name": "x_axis",
         "orient": "bottom",
         "scale": "xscale",
         "zindex": 100
        },
        {
         "name": "y_axis",
         "orient": "left",
         "scale": "yscale",
         "zindex": 100
        }
       ],
       "data": [
        {
         "name": "distributions",
         "values": [
          {
           "lower": 1.3788892867524356e-22,
           "timepoint": 0,
           "trajectory": "D_sol",
           "upper": 1.4788771603645961e-21
          },
          {
           "lower": 0.015571758896112443,
           "timepoint": 1,
           "trajectory": "D_sol",
           "upper": 0.16467077061533925
          },
          {
           "lower": 0.06728563643991947,
           "timepoint": 2,
           "trajectory": "D_sol",
           "upper": 0.7132410407066344
          },
          {
           "lower": 0.1590779773890972,
           "timepoint": 3,
           "trajectory": "D_sol",
           "upper": 1.712014693021774
          },
          {
           "lower": 0.29498758912086487,
           "timepoint": 4,
           "trajectory": "D_sol",
           "upper": 3.2450815439224234
          },
          {
           "lower": 0.47959406673908234,
           "timepoint": 5,
           "trajectory": "D_sol",
           "upper": 5.409969687461852
          },
          {
           "lower": 0.7052746593952179,
           "timepoint": 6,
           "trajectory": "D_sol",
           "upper": 8.31236639022827
          },
          {
           "lower": 1.0187936097383499,
           "timepoint": 7,
           "trajectory": "D_sol",
           "upper": 12.101821184158323
          },
          {
           "lower": 1.395495480298996,
           "timepoint": 8,
           "trajectory": "D_sol",
           "upper": 16.965930747985837
          },
          {
           "lower": 1.8625698804855346,
           "timepoint": 9,
           "trajectory": "D_sol",
           "upper": 23.142825126647946
          },
          {
           "lower": 2.4369964599609375,
           "timepoint": 10,
           "trajectory": "D_sol",
           "upper": 30.933204174041744
          },
          {
           "lower": 3.1416057705879212,
           "timepoint": 11,
           "trajectory": "D_sol",
           "upper": 40.92545948028564
          },
          {
           "lower": 3.9929160356521605,
           "timepoint": 12,
           "trajectory": "D_sol",
           "upper": 53.71313705444336
          },
          {
           "lower": 4.979491209983825,
           "timepoint": 13,
           "trajectory": "D_sol",
           "upper": 69.88090591430664
          },
          {
           "lower": 6.0277299880981445,
           "timepoint": 14,
           "trajectory": "D_sol",
           "upper": 90.11974334716797
          },
          {
           "lower": 7.278481531143188,
           "timepoint": 15,
           "trajectory": "D_sol",
           "upper": 114.75595817565917
          },
          {
           "lower": 8.778244876861573,
           "timepoint": 16,
           "trajectory": "D_sol",
           "upper": 145.54678268432616
          },
          {
           "lower": 10.583905220031738,
           "timepoint": 17,
           "trajectory": "D_sol",
           "upper": 183.9781455993652
          },
          {
           "lower": 12.76381974220276,
           "timepoint": 18,
           "trajectory": "D_sol",
           "upper": 232.36010818481444
          },
          {
           "lower": 14.730609703063966,
           "timepoint": 19,
           "trajectory": "D_sol",
           "upper": 296.1513687133789
          },
          {
           "lower": 16.73634281158447,
           "timepoint": 20,
           "trajectory": "D_sol",
           "upper": 376.0281768798828
          },
          {
           "lower": 19.594811630249023,
           "timepoint": 21,
           "trajectory": "D_sol",
           "upper": 475.2377258300781
          },
          {
           "lower": 23.461267471313477,
           "timepoint": 22,
           "trajectory": "D_sol",
           "upper": 597.1167755126953
          },
          {
           "lower": 28.008223247528075,
           "timepoint": 23,
           "trajectory": "D_sol",
           "upper": 743.0920959472656
          },
          {
           "lower": 33.29061279296875,
           "timepoint": 24,
           "trajectory": "D_sol",
           "upper": 911.2735382080078
          },
          {
           "lower": 39.340917396545414,
           "timepoint": 25,
           "trajectory": "D_sol",
           "upper": 1112.599981689453
          },
          {
           "lower": 46.28167839050293,
           "timepoint": 26,
           "trajectory": "D_sol",
           "upper": 1344.2442260742187
          },
          {
           "lower": 54.03440265655517,
           "timepoint": 27,
           "trajectory": "D_sol",
           "upper": 1605.0061645507812
          },
          {
           "lower": 62.547339248657224,
           "timepoint": 28,
           "trajectory": "D_sol",
           "upper": 1893.6345642089843
          },
          {
           "lower": 73.15018692016602,
           "timepoint": 29,
           "trajectory": "D_sol",
           "upper": 2208.255346679687
          },
          {
           "lower": 85.5645881652832,
           "timepoint": 30,
           "trajectory": "D_sol",
           "upper": 2546.6058471679685
          },
          {
           "lower": 99.09108810424804,
           "timepoint": 31,
           "trajectory": "D_sol",
           "upper": 2906.210119628906
          },
          {
           "lower": 113.69817390441895,
           "timepoint": 32,
           "trajectory": "D_sol",
           "upper": 3283.7881225585934
          },
          {
           "lower": 127.04596481323243,
           "timepoint": 33,
           "trajectory": "D_sol",
           "upper": 3677.0342163085934
          },
          {
           "lower": 138.6239978790283,
           "timepoint": 34,
           "trajectory": "D_sol",
           "upper": 4084.023107910156
          },
          {
           "lower": 150.18417510986328,
           "timepoint": 35,
           "trajectory": "D_sol",
           "upper": 4502.6690673828125
          },
          {
           "lower": 161.65412368774415,
           "timepoint": 36,
           "trajectory": "D_sol",
           "upper": 4931.066333007812
          },
          {
           "lower": 172.9730239868164,
           "timepoint": 37,
           "trajectory": "D_sol",
           "upper": 5367.572973632812
          },
          {
           "lower": 184.09160919189452,
           "timepoint": 38,
           "trajectory": "D_sol",
           "upper": 5810.736596679687
          },
          {
           "lower": 194.9705383300781,
           "timepoint": 39,
           "trajectory": "D_sol",
           "upper": 6259.31884765625
          },
          {
           "lower": 205.57933502197267,
           "timepoint": 40,
           "trajectory": "D_sol",
           "upper": 6712.226025390624
          },
          {
           "lower": 215.89532623291015,
           "timepoint": 41,
           "trajectory": "D_sol",
           "upper": 7168.583666992187
          },
          {
           "lower": 226.01192626953124,
           "timepoint": 42,
           "trajectory": "D_sol",
           "upper": 7625.294384765625
          },
          {
           "lower": 239.0012405395508,
           "timepoint": 43,
           "trajectory": "D_sol",
           "upper": 8083.397412109375
          },
          {
           "lower": 252.04011306762695,
           "timepoint": 44,
           "trajectory": "D_sol",
           "upper": 8510.242578125
          },
          {
           "lower": 263.8496223449707,
           "timepoint": 45,
           "trajectory": "D_sol",
           "upper": 8905.07470703125
          },
          {
           "lower": 273.75651397705076,
           "timepoint": 46,
           "trajectory": "D_sol",
           "upper": 9293.920361328124
          },
          {
           "lower": 283.4583221435547,
           "timepoint": 47,
           "trajectory": "D_sol",
           "upper": 9676.556005859375
          },
          {
           "lower": 292.9578033447266,
           "timepoint": 48,
           "trajectory": "D_sol",
           "upper": 10052.828173828124
          },
          {
           "lower": 302.2587142944336,
           "timepoint": 49,
           "trajectory": "D_sol",
           "upper": 10422.629492187498
          },
          {
           "lower": 311.3659378051758,
           "timepoint": 50,
           "trajectory": "D_sol",
           "upper": 10785.910937499999
          },
          {
           "lower": 320.28419189453126,
           "timepoint": 51,
           "trajectory": "D_sol",
           "upper": 11142.629199218749
          },
          {
           "lower": 329.0187713623047,
           "timepoint": 52,
           "trajectory": "D_sol",
           "upper": 11492.858691406247
          },
          {
           "lower": 337.57525024414065,
           "timepoint": 53,
           "trajectory": "D_sol",
           "upper": 11836.566894531248
          },
          {
           "lower": 345.95838317871096,
           "timepoint": 54,
           "trajectory": "D_sol",
           "upper": 12173.842529296871
          },
          {
           "lower": 354.1739471435547,
           "timepoint": 55,
           "trajectory": "D_sol",
           "upper": 12504.750830078121
          },
          {
           "lower": 362.22739868164064,
           "timepoint": 56,
           "trajectory": "D_sol",
           "upper": 12829.379980468746
          },
          {
           "lower": 370.1233383178711,
           "timepoint": 57,
           "trajectory": "D_sol",
           "upper": 13147.831835937495
          },
          {
           "lower": 377.86678314208984,
           "timepoint": 58,
           "trajectory": "D_sol",
           "upper": 13460.18706054687
          },
          {
           "lower": 385.4627166748047,
           "timepoint": 59,
           "trajectory": "D_sol",
           "upper": 13766.57026367187
          },
          {
           "lower": 149.80305709838868,
           "timepoint": 0,
           "trajectory": "I_sol",
           "upper": 180.16375350952148
          },
          {
           "lower": 233.31519622802733,
           "timepoint": 1,
           "trajectory": "I_sol",
           "upper": 300.56779327392576
          },
          {
           "lower": 313.64667358398435,
           "timepoint": 2,
           "trajectory": "I_sol",
           "upper": 411.7489532470703
          },
          {
           "lower": 405.0315139770508,
           "timepoint": 3,
           "trajectory": "I_sol",
           "upper": 528.0813720703125
          },
          {
           "lower": 508.87916259765626,
           "timepoint": 4,
           "trajectory": "I_sol",
           "upper": 658.9223754882812
          },
          {
           "lower": 622.8372680664063,
           "timepoint": 5,
           "trajectory": "I_sol",
           "upper": 821.6862762451171
          },
          {
           "lower": 774.1077911376954,
           "timepoint": 6,
           "trajectory": "I_sol",
           "upper": 1016.0207092285156
          },
          {
           "lower": 955.5665008544922,
           "timepoint": 7,
           "trajectory": "I_sol",
           "upper": 1268.9402954101563
          },
          {
           "lower": 1181.3120971679687,
           "timepoint": 8,
           "trajectory": "I_sol",
           "upper": 1609.9193298339844
          },
          {
           "lower": 1465.0802734375,
           "timepoint": 9,
           "trajectory": "I_sol",
           "upper": 2012.7630920410156
          },
          {
           "lower": 1820.6603271484375,
           "timepoint": 10,
           "trajectory": "I_sol",
           "upper": 2519.680676269531
          },
          {
           "lower": 2251.9130004882813,
           "timepoint": 11,
           "trajectory": "I_sol",
           "upper": 3175.7650634765623
          },
          {
           "lower": 2784.6941528320312,
           "timepoint": 12,
           "trajectory": "I_sol",
           "upper": 3986.5710205078126
          },
          {
           "lower": 3455.2562744140623,
           "timepoint": 13,
           "trajectory": "I_sol",
           "upper": 5061.5671875
          },
          {
           "lower": 4280.115063476563,
           "timepoint": 14,
           "trajectory": "I_sol",
           "upper": 6413.52353515625
          },
          {
           "lower": 5247.158203125,
           "timepoint": 15,
           "trajectory": "I_sol",
           "upper": 8109.10751953125
          },
          {
           "lower": 6420.935473632812,
           "timepoint": 16,
           "trajectory": "I_sol",
           "upper": 10222.83515625
          },
          {
           "lower": 8008.842749023437,
           "timepoint": 17,
           "trajectory": "I_sol",
           "upper": 12760.669726562499
          },
          {
           "lower": 9964.61328125,
           "timepoint": 18,
           "trajectory": "I_sol",
           "upper": 15925.838134765625
          },
          {
           "lower": 12128.9173828125,
           "timepoint": 19,
           "trajectory": "I_sol",
           "upper": 19671.29306640625
          },
          {
           "lower": 14577.10849609375,
           "timepoint": 20,
           "trajectory": "I_sol",
           "upper": 23946.89697265625
          },
          {
           "lower": 17322.2486328125,
           "timepoint": 21,
           "trajectory": "I_sol",
           "upper": 28600.90546875
          },
          {
           "lower": 20217.11943359375,
           "timepoint": 22,
           "trajectory": "I_sol",
           "upper": 33375.421875
          },
          {
           "lower": 23056.40732421875,
           "timepoint": 23,
           "trajectory": "I_sol",
           "upper": 37950.1197265625
          },
          {
           "lower": 25679.5818359375,
           "timepoint": 24,
           "trajectory": "I_sol",
           "upper": 42017.4458984375
          },
          {
           "lower": 27968.44130859375,
           "timepoint": 25,
           "trajectory": "I_sol",
           "upper": 45352.61796875
          },
          {
           "lower": 29272.2869140625,
           "timepoint": 26,
           "trajectory": "I_sol",
           "upper": 48378.6064453125
          },
          {
           "lower": 30172.35146484375,
           "timepoint": 27,
           "trajectory": "I_sol",
           "upper": 50855.6990234375
          },
          {
           "lower": 30917.061328125,
           "timepoint": 28,
           "trajectory": "I_sol",
           "upper": 52812.0806640625
          },
          {
           "lower": 30900.1501953125,
           "timepoint": 29,
           "trajectory": "I_sol",
           "upper": 54314.7005859375
          },
          {
           "lower": 30573.1197265625,
           "timepoint": 30,
           "trajectory": "I_sol",
           "upper": 55418.0986328125
          },
          {
           "lower": 29986.951953125,
           "timepoint": 31,
           "trajectory": "I_sol",
           "upper": 56164.3294921875
          },
          {
           "lower": 29202.09541015625,
           "timepoint": 32,
           "trajectory": "I_sol",
           "upper": 56238.70859375
          },
          {
           "lower": 27956.03701171875,
           "timepoint": 33,
           "trajectory": "I_sol",
           "upper": 55791.3298828125
          },
          {
           "lower": 26655.95009765625,
           "timepoint": 34,
           "trajectory": "I_sol",
           "upper": 55158.74550781249
          },
          {
           "lower": 25522.55419921875,
           "timepoint": 35,
           "trajectory": "I_sol",
           "upper": 55146.10839843749
          },
          {
           "lower": 24522.236328125,
           "timepoint": 36,
           "trajectory": "I_sol",
           "upper": 55359.180273437494
          },
          {
           "lower": 23526.51513671875,
           "timepoint": 37,
           "trajectory": "I_sol",
           "upper": 55525.8875
          },
          {
           "lower": 22567.62509765625,
           "timepoint": 38,
           "trajectory": "I_sol",
           "upper": 55660.59179687499
          },
          {
           "lower": 21664.28525390625,
           "timepoint": 39,
           "trajectory": "I_sol",
           "upper": 55773.71289062499
          },
          {
           "lower": 20737.43583984375,
           "timepoint": 40,
           "trajectory": "I_sol",
           "upper": 55872.727148437494
          },
          {
           "lower": 19839.5263671875,
           "timepoint": 41,
           "trajectory": "I_sol",
           "upper": 55962.8388671875
          },
          {
           "lower": 18974.2341796875,
           "timepoint": 42,
           "trajectory": "I_sol",
           "upper": 56047.834179687496
          },
          {
           "lower": 18142.27646484375,
           "timepoint": 43,
           "trajectory": "I_sol",
           "upper": 56130.147265625
          },
          {
           "lower": 17343.815625,
           "timepoint": 44,
           "trajectory": "I_sol",
           "upper": 56211.548828125
          },
          {
           "lower": 16392.517822265625,
           "timepoint": 45,
           "trajectory": "I_sol",
           "upper": 56293.0787109375
          },
          {
           "lower": 15421.433056640624,
           "timepoint": 46,
           "trajectory": "I_sol",
           "upper": 56375.534375
          },
          {
           "lower": 14505.363623046875,
           "timepoint": 47,
           "trajectory": "I_sol",
           "upper": 56459.201171875
          },
          {
           "lower": 13641.85009765625,
           "timepoint": 48,
           "trajectory": "I_sol",
           "upper": 56399.4703125
          },
          {
           "lower": 12828.44111328125,
           "timepoint": 49,
           "trajectory": "I_sol",
           "upper": 56298.325
          },
          {
           "lower": 12062.51494140625,
           "timepoint": 50,
           "trajectory": "I_sol",
           "upper": 56195.355664062496
          },
          {
           "lower": 11341.594140625,
           "timepoint": 51,
           "trajectory": "I_sol",
           "upper": 56090.8396484375
          },
          {
           "lower": 10663.2392578125,
           "timepoint": 52,
           "trajectory": "I_sol",
           "upper": 55984.834179687496
          },
          {
           "lower": 10025.04404296875,
           "timepoint": 53,
           "trajectory": "I_sol",
           "upper": 55877.4560546875
          },
          {
           "lower": 9424.76650390625,
           "timepoint": 54,
           "trajectory": "I_sol",
           "upper": 55768.758007812496
          },
          {
           "lower": 8860.215576171875,
           "timepoint": 55,
           "trajectory": "I_sol",
           "upper": 55658.7771484375
          },
          {
           "lower": 8329.339453125,
           "timepoint": 56,
           "trajectory": "I_sol",
           "upper": 55547.5798828125
          },
          {
           "lower": 7830.152758789062,
           "timepoint": 57,
           "trajectory": "I_sol",
           "upper": 55435.174999999996
          },
          {
           "lower": 7360.792626953125,
           "timepoint": 58,
           "trajectory": "I_sol",
           "upper": 55400.41406249999
          },
          {
           "lower": 6919.503271484375,
           "timepoint": 59,
           "trajectory": "I_sol",
           "upper": 55465.351757812496
          }
         ]
        },
        {
         "name": "traces",
         "transform": [
          {
           "expr": "isValid(datum.value)",
           "type": "filter"
          }
         ],
         "values": []
        },
        {
         "name": "points",
         "values": [
          {
           "sample_id": 0,
           "timepoint": 0,
           "trajectory": "I_data",
           "value": 1
          },
          {
           "sample_id": 0,
           "timepoint": 1,
           "trajectory": "I_data",
           "value": 10
          },
          {
           "sample_id": 0,
           "timepoint": 2,
           "trajectory": "I_data",
           "value": 21
          },
          {
           "sample_id": 0,
           "timepoint": 3,
           "trajectory": "I_data",
           "value": 24
          },
          {
           "sample_id": 0,
           "timepoint": 4,
           "trajectory": "I_data",
           "value": 76
          },
          {
           "sample_id": 0,
           "timepoint": 5,
           "trajectory": "I_data",
           "value": 104
          },
          {
           "sample_id": 0,
           "timepoint": 6,
           "trajectory": "I_data",
           "value": 128
          },
          {
           "sample_id": 0,
           "timepoint": 7,
           "trajectory": "I_data",
           "value": 131
          },
          {
           "sample_id": 0,
           "timepoint": 8,
           "trajectory": "I_data",
           "value": 192
          },
          {
           "sample_id": 0,
           "timepoint": 9,
           "trajectory": "I_data",
           "value": 220
          },
          {
           "sample_id": 0,
           "timepoint": 10,
           "trajectory": "I_data",
           "value": 274
          },
          {
           "sample_id": 0,
           "timepoint": 11,
           "trajectory": "I_data",
           "value": 394
          },
          {
           "sample_id": 0,
           "timepoint": 12,
           "trajectory": "I_data",
           "value": 481
          },
          {
           "sample_id": 0,
           "timepoint": 13,
           "trajectory": "I_data",
           "value": 745
          },
          {
           "sample_id": 0,
           "timepoint": 14,
           "trajectory": "I_data",
           "value": 1111
          },
          {
           "sample_id": 0,
           "timepoint": 15,
           "trajectory": "I_data",
           "value": 2128
          },
          {
           "sample_id": 0,
           "timepoint": 16,
           "trajectory": "I_data",
           "value": 3671
          },
          {
           "sample_id": 0,
           "timepoint": 17,
           "trajectory": "I_data",
           "value": 6578
          },
          {
           "sample_id": 0,
           "timepoint": 18,
           "trajectory": "I_data",
           "value": 9449
          },
          {
           "sample_id": 0,
           "timepoint": 19,
           "trajectory": "I_data",
           "value": 13761
          },
          {
           "sample_id": 0,
           "timepoint": 20,
           "trajectory": "I_data",
           "value": 18270
          },
          {
           "sample_id": 0,
           "timepoint": 21,
           "trajectory": "I_data",
           "value": 21478
          },
          {
           "sample_id": 0,
           "timepoint": 22,
           "trajectory": "I_data",
           "value": 23630
          },
          {
           "sample_id": 0,
           "timepoint": 23,
           "trajectory": "I_data",
           "value": 26987
          },
          {
           "sample_id": 0,
           "timepoint": 24,
           "trajectory": "I_data",
           "value": 29533
          },
          {
           "sample_id": 0,
           "timepoint": 25,
           "trajectory": "I_data",
           "value": 31623
          },
          {
           "sample_id": 0,
           "timepoint": 26,
           "trajectory": "I_data",
           "value": 33967
          },
          {
           "sample_id": 0,
           "timepoint": 27,
           "trajectory": "I_data",
           "value": 35822
          },
          {
           "sample_id": 0,
           "timepoint": 28,
           "trajectory": "I_data",
           "value": 38456
          },
          {
           "sample_id": 0,
           "timepoint": 29,
           "trajectory": "I_data",
           "value": 45676
          },
          {
           "sample_id": 0,
           "timepoint": 30,
           "trajectory": "I_data",
           "value": 48380
          },
          {
           "sample_id": 0,
           "timepoint": 31,
           "trajectory": "I_data",
           "value": 51807
          },
          {
           "sample_id": 0,
           "timepoint": 32,
           "trajectory": "I_data",
           "value": 55042
          },
          {
           "sample_id": 0,
           "timepoint": 33,
           "trajectory": "I_data",
           "value": 56847
          },
          {
           "sample_id": 0,
           "timepoint": 34,
           "trajectory": "I_data",
           "value": 52184
          },
          {
           "sample_id": 0,
           "timepoint": 35,
           "trajectory": "I_data",
           "value": 49194
          },
          {
           "sample_id": 0,
           "timepoint": 36,
           "trajectory": "I_data",
           "value": 48730
          },
          {
           "sample_id": 0,
           "timepoint": 37,
           "trajectory": "I_data",
           "value": 50551
          },
          {
           "sample_id": 0,
           "timepoint": 38,
           "trajectory": "I_data",
           "value": 51029
          },
          {
           "sample_id": 0,
           "timepoint": 39,
           "trajectory": "I_data",
           "value": 49701
          },
          {
           "sample_id": 0,
           "timepoint": 40,
           "trajectory": "I_data",
           "value": 50661
          },
          {
           "sample_id": 0,
           "timepoint": 41,
           "trajectory": "I_data",
           "value": 48303
          },
          {
           "sample_id": 0,
           "timepoint": 42,
           "trajectory": "I_data",
           "value": 43703
          },
          {
           "sample_id": 0,
           "timepoint": 43,
           "trajectory": "I_data",
           "value": 38888
          },
          {
           "sample_id": 0,
           "timepoint": 44,
           "trajectory": "I_data",
           "value": 38244
          },
          {
           "sample_id": 0,
           "timepoint": 45,
           "trajectory": "I_data",
           "value": 36857
          },
          {
           "sample_id": 0,
           "timepoint": 46,
           "trajectory": "I_data",
           "value": 35881
          },
          {
           "sample_id": 0,
           "timepoint": 47,
           "trajectory": "I_data",
           "value": 35054
          },
          {
           "sample_id": 0,
           "timepoint": 48,
           "trajectory": "I_data",
           "value": 34782
          },
          {
           "sample_id": 0,
           "timepoint": 49,
           "trajectory": "I_data",
           "value": 31526
          },
          {
           "sample_id": 0,
           "timepoint": 50,
           "trajectory": "I_data",
           "value": 28799
          },
          {
           "sample_id": 0,
           "timepoint": 51,
           "trajectory": "I_data",
           "value": 27419
          },
          {
           "sample_id": 0,
           "timepoint": 52,
           "trajectory": "I_data",
           "value": 27443
          },
          {
           "sample_id": 0,
           "timepoint": 53,
           "trajectory": "I_data",
           "value": 30499
          },
          {
           "sample_id": 0,
           "timepoint": 54,
           "trajectory": "I_data",
           "value": 31543
          },
          {
           "sample_id": 0,
           "timepoint": 55,
           "trajectory": "I_data",
           "value": 31597
          },
          {
           "sample_id": 0,
           "timepoint": 56,
           "trajectory": "I_data",
           "value": 29008
          },
          {
           "sample_id": 0,
           "timepoint": 57,
           "trajectory": "I_data",
           "value": 25476
          },
          {
           "sample_id": 0,
           "timepoint": 58,
           "trajectory": "I_data",
           "value": 20411
          },
          {
           "sample_id": 0,
           "timepoint": 59,
           "trajectory": "I_data",
           "value": 19224
          },
          {
           "sample_id": 0,
           "timepoint": 38,
           "trajectory": "H_data",
           "value": 0
          },
          {
           "sample_id": 0,
           "timepoint": 39,
           "trajectory": "H_data",
           "value": 0
          },
          {
           "sample_id": 0,
           "timepoint": 45,
           "trajectory": "H_data",
           "value": 0
          },
          {
           "sample_id": 0,
           "timepoint": 46,
           "trajectory": "H_data",
           "value": 1
          },
          {
           "sample_id": 0,
           "timepoint": 52,
           "trajectory": "H_data",
           "value": 0
          },
          {
           "sample_id": 0,
           "timepoint": 53,
           "trajectory": "H_data",
           "value": 0
          },
          {
           "sample_id": 0,
           "timepoint": 54,
           "trajectory": "H_data",
           "value": 1
          },
          {
           "sample_id": 0,
           "timepoint": 55,
           "trajectory": "H_data",
           "value": 0
          },
          {
           "sample_id": 0,
           "timepoint": 56,
           "trajectory": "H_data",
           "value": 0
          },
          {
           "sample_id": 0,
           "timepoint": 57,
           "trajectory": "H_data",
           "value": 0
          },
          {
           "sample_id": 0,
           "timepoint": 58,
           "trajectory": "H_data",
           "value": 0
          },
          {
           "sample_id": 0,
           "timepoint": 59,
           "trajectory": "H_data",
           "value": 0
          },
          {
           "sample_id": 0,
           "timepoint": 0,
           "trajectory": "D_data",
           "value": 0
          },
          {
           "sample_id": 0,
           "timepoint": 1,
           "trajectory": "D_data",
           "value": 0
          },
          {
           "sample_id": 0,
           "timepoint": 2,
           "trajectory": "D_data",
           "value": 0
          },
          {
           "sample_id": 0,
           "timepoint": 3,
           "trajectory": "D_data",
           "value": 0
          },
          {
           "sample_id": 0,
           "timepoint": 4,
           "trajectory": "D_data",
           "value": 0
          },
          {
           "sample_id": 0,
           "timepoint": 5,
           "trajectory": "D_data",
           "value": 0
          },
          {
           "sample_id": 0,
           "timepoint": 6,
           "trajectory": "D_data",
           "value": 0
          },
          {
           "sample_id": 0,
           "timepoint": 7,
           "trajectory": "D_data",
           "value": 0
          },
          {
           "sample_id": 0,
           "timepoint": 8,
           "trajectory": "D_data",
           "value": 1
          },
          {
           "sample_id": 0,
           "timepoint": 9,
           "trajectory": "D_data",
           "value": 1
          },
          {
           "sample_id": 0,
           "timepoint": 10,
           "trajectory": "D_data",
           "value": 1
          },
          {
           "sample_id": 0,
           "timepoint": 11,
           "trajectory": "D_data",
           "value": 4
          },
          {
           "sample_id": 0,
           "timepoint": 12,
           "trajectory": "D_data",
           "value": 9
          },
          {
           "sample_id": 0,
           "timepoint": 13,
           "trajectory": "D_data",
           "value": 19
          },
          {
           "sample_id": 0,
           "timepoint": 14,
           "trajectory": "D_data",
           "value": 30
          },
          {
           "sample_id": 0,
           "timepoint": 15,
           "trajectory": "D_data",
           "value": 51
          },
          {
           "sample_id": 0,
           "timepoint": 16,
           "trajectory": "D_data",
           "value": 77
          },
          {
           "sample_id": 0,
           "timepoint": 17,
           "trajectory": "D_data",
           "value": 129
          },
          {
           "sample_id": 0,
           "timepoint": 18,
           "trajectory": "D_data",
           "value": 175
          },
          {
           "sample_id": 0,
           "timepoint": 19,
           "trajectory": "D_data",
           "value": 226
          },
          {
           "sample_id": 0,
           "timepoint": 20,
           "trajectory": "D_data",
           "value": 315
          },
          {
           "sample_id": 0,
           "timepoint": 21,
           "trajectory": "D_data",
           "value": 427
          },
          {
           "sample_id": 0,
           "timepoint": 22,
           "trajectory": "D_data",
           "value": 565
          },
          {
           "sample_id": 0,
           "timepoint": 23,
           "trajectory": "D_data",
           "value": 759
          },
          {
           "sample_id": 0,
           "timepoint": 24,
           "trajectory": "D_data",
           "value": 984
          },
          {
           "sample_id": 0,
           "timepoint": 25,
           "trajectory": "D_data",
           "value": 1285
          },
          {
           "sample_id": 0,
           "timepoint": 26,
           "trajectory": "D_data",
           "value": 1603
          },
          {
           "sample_id": 0,
           "timepoint": 27,
           "trajectory": "D_data",
           "value": 1930
          },
          {
           "sample_id": 0,
           "timepoint": 28,
           "trajectory": "D_data",
           "value": 2334
          },
          {
           "sample_id": 0,
           "timepoint": 29,
           "trajectory": "D_data",
           "value": 2859
          },
          {
           "sample_id": 0,
           "timepoint": 30,
           "trajectory": "D_data",
           "value": 3420
          },
          {
           "sample_id": 0,
           "timepoint": 31,
           "trajectory": "D_data",
           "value": 3989
          },
          {
           "sample_id": 0,
           "timepoint": 32,
           "trajectory": "D_data",
           "value": 4634
          },
          {
           "sample_id": 0,
           "timepoint": 33,
           "trajectory": "D_data",
           "value": 5384
          },
          {
           "sample_id": 0,
           "timepoint": 34,
           "trajectory": "D_data",
           "value": 6185
          },
          {
           "sample_id": 0,
           "timepoint": 35,
           "trajectory": "D_data",
           "value": 7241
          },
          {
           "sample_id": 0,
           "timepoint": 36,
           "trajectory": "D_data",
           "value": 7985
          },
          {
           "sample_id": 0,
           "timepoint": 37,
           "trajectory": "D_data",
           "value": 8846
          },
          {
           "sample_id": 0,
           "timepoint": 38,
           "trajectory": "D_data",
           "value": 9579
          },
          {
           "sample_id": 0,
           "timepoint": 39,
           "trajectory": "D_data",
           "value": 10345
          },
          {
           "sample_id": 0,
           "timepoint": 40,
           "trajectory": "D_data",
           "value": 11126
          },
          {
           "sample_id": 0,
           "timepoint": 41,
           "trajectory": "D_data",
           "value": 11930
          },
          {
           "sample_id": 0,
           "timepoint": 42,
           "trajectory": "D_data",
           "value": 12669
          },
          {
           "sample_id": 0,
           "timepoint": 43,
           "trajectory": "D_data",
           "value": 13332
          },
          {
           "sample_id": 0,
           "timepoint": 44,
           "trajectory": "D_data",
           "value": 13987
          },
          {
           "sample_id": 0,
           "timepoint": 45,
           "trajectory": "D_data",
           "value": 14371
          },
          {
           "sample_id": 0,
           "timepoint": 46,
           "trajectory": "D_data",
           "value": 14780
          },
          {
           "sample_id": 0,
           "timepoint": 47,
           "trajectory": "D_data",
           "value": 15225
          },
          {
           "sample_id": 0,
           "timepoint": 48,
           "trajectory": "D_data",
           "value": 16116
          },
          {
           "sample_id": 0,
           "timepoint": 49,
           "trajectory": "D_data",
           "value": 16639
          },
          {
           "sample_id": 0,
           "timepoint": 50,
           "trajectory": "D_data",
           "value": 17091
          },
          {
           "sample_id": 0,
           "timepoint": 51,
           "trajectory": "D_data",
           "value": 17647
          },
          {
           "sample_id": 0,
           "timepoint": 52,
           "trajectory": "D_data",
           "value": 18132
          },
          {
           "sample_id": 0,
           "timepoint": 53,
           "trajectory": "D_data",
           "value": 18523
          },
          {
           "sample_id": 0,
           "timepoint": 54,
           "trajectory": "D_data",
           "value": 18882
          },
          {
           "sample_id": 0,
           "timepoint": 55,
           "trajectory": "D_data",
           "value": 19292
          },
          {
           "sample_id": 0,
           "timepoint": 56,
           "trajectory": "D_data",
           "value": 19602
          },
          {
           "sample_id": 0,
           "timepoint": 57,
           "trajectory": "D_data",
           "value": 20000
          },
          {
           "sample_id": 0,
           "timepoint": 58,
           "trajectory": "D_data",
           "value": 20334
          },
          {
           "sample_id": 0,
           "timepoint": 59,
           "trajectory": "D_data",
           "value": 20662
          }
         ]
        },
        {
         "name": "markers",
         "values": []
        },
        {
         "name": "selected",
         "on": [
          {
           "remove": true,
           "trigger": "clear"
          },
          {
           "remove": true,
           "trigger": "!shift"
          },
          {
           "insert": "clicked",
           "trigger": "!shift && clicked"
          },
          {
           "toggle": "clicked",
           "trigger": "shift && clicked"
          }
         ]
        }
       ],
       "height": 300,
       "legends": [
        {
         "encode": {
          "labels": {
           "interactive": true,
           "name": "legendLabel",
           "update": {
            "opacity": [
             {
              "test": "!length(data('selected')) || indata('selected', 'value', datum.value)",
              "value": 1
             },
             {
              "value": 0.25
             }
            ]
           }
          },
          "symbols": {
           "interactive": true,
           "name": "legendSymbol",
           "update": {
            "fill": {
             "value": "transparent"
            },
            "opacity": [
             {
              "test": "!length(data('selected')) || indata('selected', 'value', datum.value)",
              "value": 0.7
             },
             {
              "value": 0.15
             }
            ],
            "size": {
             "value": 64
            },
            "strokeWidth": {
             "value": 2
            }
           }
          }
         },
         "name": "color_legend",
         "stroke": "color"
        }
       ],
       "marks": [
        {
         "from": {
          "facet": {
           "data": "points",
           "groupby": "trajectory",
           "name": "points_split"
          }
         },
         "marks": [
          {
           "encode": {
            "hover": {
             "fillOpacity": {
              "value": 0.9
             }
            },
            "update": {
             "fill": {
              "field": "trajectory",
              "scale": "color"
             },
             "fillOpacity": [
              {
               "test": "!length(data('selected')) || indata('selected', 'value', datum.trajectory)",
               "value": 0.5
              },
              {
               "value": 0.15
              }
             ],
             "size": {
              "value": 10
             },
             "stroke": {
              "field": "trajectory",
              "scale": "color"
             },
             "strokeOpacity": [
              {
               "test": "!length(data('selected')) || indata('selected', 'value', datum.trajectory)",
               "value": 0.75
              },
              {
               "value": 0.15
              }
             ],
             "strokeWidth": {
              "value": 2
             },
             "tooltip": {
              "field": "value"
             },
             "x": {
              "field": "timepoint",
              "scale": "xscale"
             },
             "y": {
              "field": "value",
              "scale": "yscale"
             }
            }
           },
           "from": {
            "data": "points"
           },
           "name": "_points_symbol",
           "type": "symbol",
           "zindex": 3
          },
          {
           "encode": {
            "hover": {
             "fillOpacity": {
              "value": 0.9
             }
            },
            "update": {
             "interpolate": {
              "value": "linear"
             },
             "stroke": {
              "field": "trajectory",
              "scale": "color"
             },
             "strokeOpacity": [
              {
               "test": "!length(data('selected')) || indata('selected', 'value', datum.trajectory)",
               "value": 0.3
              },
              {
               "value": 0.1
              }
             ],
             "strokeWidth": {
              "value": 2
             },
             "x": {
              "field": "timepoint",
              "scale": "xscale"
             },
             "y": {
              "field": "value",
              "scale": "yscale"
             }
            }
           },
           "from": {
            "data": "points"
           },
           "name": "_points_line",
           "type": "line",
           "zindex": 3
          }
         ],
         "name": "_points",
         "type": "group",
         "zindex": 3
        },
        {
         "from": {
          "facet": {
           "data": "traces",
           "groupby": "trajectory",
           "name": "traces_split"
          }
         },
         "marks": [
          {
           "encode": {
            "hover": {
             "fillOpacity": {
              "value": 0.9
             }
            },
            "update": {
             "interpolate": {
              "value": "linear"
             },
             "stroke": {
              "field": "trajectory",
              "scale": "color"
             },
             "strokeOpacity": [
              {
               "test": "!length(data('selected')) || indata('selected', 'value', datum.trajectory)",
               "value": 0.75
              },
              {
               "value": 0.15
              }
             ],
             "strokeWidth": {
              "value": 2
             },
             "x": {
              "field": "timepoint",
              "scale": "xscale"
             },
             "y": {
              "field": "value",
              "scale": "yscale"
             }
            }
           },
           "from": {
            "data": "traces_split"
           },
           "name": "_traces_lines",
           "type": "line"
          }
         ],
         "name": "_traces",
         "type": "group",
         "zindex": 2
        },
        {
         "from": {
          "facet": {
           "data": "distributions",
           "groupby": "trajectory",
           "name": "trajectory_split"
          }
         },
         "marks": [
          {
           "encode": {
            "hover": {
             "fillOpacity": {
              "value": 0.9
             }
            },
            "update": {
             "fill": {
              "field": "trajectory",
              "scale": "color"
             },
             "fillOpacity": [
              {
               "test": "!length(data('selected')) || indata('selected', 'value', datum.trajectory)",
               "value": 0.5
              },
              {
               "value": 0.15
              }
             ],
             "interpolate": {
              "value": "linear"
             },
             "stroke": {
              "field": "trajectory",
              "scale": "color"
             },
             "strokeOpacity": [
              {
               "test": "!length(data('selected')) || indata('selected', 'value', datum.trajectory)",
               "value": 0.75
              },
              {
               "value": 0.15
              }
             ],
             "strokeWidth": {
              "value": 2
             },
             "x": {
              "field": "timepoint",
              "scale": "xscale"
             },
             "y": {
              "field": "upper",
              "scale": "yscale"
             },
             "y2": {
              "field": "lower",
              "scale": "yscale"
             }
            }
           },
           "from": {
            "data": "trajectory_split"
           },
           "type": "area"
          }
         ],
         "name": "_distributions",
         "type": "group",
         "zindex": 1
        },
        {
         "marks": [
          {
           "encode": {
            "enter": {
             "stroke": {
              "value": "lightgray"
             }
            },
            "update": {
             "opacity": {
              "value": 1
             },
             "x": {
              "field": "timepoint",
              "scale": "xscale"
             },
             "y": {
              "signal": "height"
             },
             "y2": {
              "value": 0
             }
            }
           },
           "from": {
            "data": "markers"
           },
           "name": "_marker text",
           "type": "rule"
          },
          {
           "encode": {
            "enter": {
             "fontSize": {
              "value": 8
             },
             "text": {
              "field": "datum.label"
             },
             "y": {
              "value": 0
             }
            }
           },
           "from": {
            "data": "_marker text"
           },
           "name": "_marker flags",
           "transform": [
            {
             "as": [
              "x",
              "_y",
              "opacity",
              "align",
              "baseline"
             ],
             "lineAnchor": "start",
             "offset": [
              1
             ],
             "size": {
              "signal": "[width, height]"
             },
             "type": "label"
            }
           ],
           "type": "text"
          }
         ],
         "name": "_markers",
         "type": "group"
        }
       ],
       "padding": 5,
       "scales": [
        {
         "domain": {
          "fields": [
           {
            "data": "distributions",
            "field": "timepoint"
           },
           {
            "data": "traces",
            "field": "timepoint"
           },
           {
            "data": "points",
            "field": "timepoint"
           },
           {
            "data": "markers",
            "field": "timepoint"
           }
          ]
         },
         "name": "xscale",
         "range": "width",
         "type": "linear",
         "zero": false
        },
        {
         "domain": {
          "fields": [
           {
            "data": "distributions",
            "field": "lower"
           },
           {
            "data": "distributions",
            "field": "upper"
           },
           {
            "data": "traces",
            "field": "value"
           },
           {
            "data": "points",
            "field": "value"
           }
          ]
         },
         "name": "yscale",
         "nice": true,
         "range": "height",
         "type": "linear",
         "zero": true
        },
        {
         "domain": {
          "fields": [
           {
            "data": "distributions",
            "field": "trajectory"
           },
           {
            "data": "traces",
            "field": "trajectory"
           },
           {
            "data": "points",
            "field": "trajectory"
           }
          ]
         },
         "name": "color",
         "range": "category",
         "type": "ordinal"
        }
       ],
       "signals": [
        {
         "name": "clear",
         "on": [
          {
           "events": "mouseup[!event.item]",
           "force": true,
           "update": "true"
          }
         ],
         "value": true
        },
        {
         "name": "shift",
         "on": [
          {
           "events": "@legendSymbol:click, @legendLabel:click",
           "force": true,
           "update": "event.shiftKey"
          }
         ],
         "value": false
        },
        {
         "name": "clicked",
         "on": [
          {
           "events": "@legendSymbol:click, @legendLabel:click",
           "force": true,
           "update": "{value: datum.value}"
          }
         ],
         "value": null
        }
       ],
       "width": 500
      }
     },
     "metadata": {},
     "output_type": "display_data"
    }
   ],
   "source": [
    "num_samples = 100\n",
    "model_paths = [model2_location, model6_location, model7_location]\n",
    "data_path = \"../../notebook/ensemble_eval_sa/datasets/NY_data1.csv\"\n",
    "weights = [1/len(model_paths) for i in model_paths]\n",
    "solution_mappings = [{\"I\": \"I\", \"D\": \"D\"},\n",
    "                     {\"I\": \"infected\", \"D\": \"dead\"}, \n",
    "                     {\"I\": \"infected\", \"D\": \"dead\"}\n",
    "                     ]\n",
    "\n",
    "# Run the calibration and sampling\n",
    "result4 = load_and_calibrate_and_sample_ensemble_model(\n",
    "    model_paths,\n",
    "    data_path,\n",
    "    weights,\n",
    "    solution_mappings,\n",
    "    num_samples,\n",
    "    timepoints,\n",
    "    verbose=True,\n",
    "    total_population=19340000,\n",
    "    num_iterations=300,\n",
    "    time_unit=\"days\",\n",
    "    visual_options={\"title\": \"Calibrated Ensemble\", \"subset\":\".*_sol\"}\n",
    ")\n",
    "\n",
    "# Save results\n",
    "result4[\"data\"].to_csv(\"../../notebook/ensemble_eval_sa/ensemble_results/partI_ensemble_of_many_results.csv\", index=False)\n",
    "result4[\"quantiles\"].to_csv(\"../../notebook/ensemble_eval_sa/ensemble_results/partI_ensemble_of_many_quantiles.csv\", index=False)\n",
    "\n",
    "q_ensemble_data = cdc_reformatcsv(filename=\"../../notebook/ensemble_eval_sa/ensemble_results/partI_ensemble_of_many_quantiles.csv\", \n",
    "                                  solution_string_mapping={\"I\": \"cases\", \"D\": \"deaths\"}, \n",
    "                                  forecast_start_date=\"2020-04-02\",\n",
    "                                  location=\"New York State\",\n",
    "                                  drop_column_names=[\"timepoint_id\", \"number_days\", \"inc_cum\", \"output\", \"Forecast_Backcast\"])\n",
    "q_ensemble_data.to_csv(\"../../notebook/ensemble_eval_sa/ensemble_results/partI_ensemble_of_many_forecast_quantiles_Apr032020.csv\")\n",
    "\n",
    "# Plot results\n",
    "schema = plots.trajectories(pd.DataFrame(result4[\"data\"]), subset=\".*_sol\",\n",
    "                            points=test_data.reset_index(drop=True).rename(columns={\"I\":\"I_data\", \"H\":\"H_data\", \"D\":\"D_data\"}),\n",
    "                           )\n",
    "schema = plots.pad(schema, 5)\n",
    "plots.ipy_display(schema)"
   ]
  },
  {
   "cell_type": "code",
   "execution_count": null,
   "id": "765e6d37-d87b-48b6-877b-067d2995179e",
   "metadata": {},
   "outputs": [],
   "source": [
    "num_samples = 100\n",
    "model_paths = [model2_location, model7_location]\n",
    "data_path = \"../../notebook/ensemble_eval_sa/NY_data1.csv\"\n",
    "weights = [1/len(model_paths) for i in model_paths]\n",
    "solution_mappings = [{\"I\": \"I\", \"D\": \"D\"},\n",
    "                     {\"I\": \"infected\", \"D\": \"dead\"}\n",
    "                     ]\n",
    "\n",
    "# Run the calibration and sampling\n",
    "result5 = load_and_calibrate_and_sample_ensemble_model(\n",
    "    model_paths,\n",
    "    data_path,\n",
    "    weights,\n",
    "    solution_mappings,\n",
    "    num_samples,\n",
    "    timepoints,\n",
    "    verbose=True,\n",
    "    total_population=19340000,\n",
    "    num_iterations=500,\n",
    "    time_unit=\"days\",\n",
    "    visual_options={\"title\": \"Calibrated Ensemble\", \"subset\":\".*_sol\"}\n",
    ")\n",
    "\n",
    "# Save results\n",
    "# result5[\"data\"].to_csv(\"../../notebook/ensemble_eval_sa/ensemble_results/partI_ensemble_of_two_results.csv\", index=False)\n",
    "# result5[\"quantiles\"].to_csv(\"../../notebook/ensemble_eval_sa/ensemble_results/partI_ensemble_of_two_quantiles.csv\", index=False)\n",
    "\n",
    "# Plot results\n",
    "schema = plots.trajectories(pd.DataFrame(result4[\"data\"]), subset=\".*_sol\",\n",
    "                            points=test_data.reset_index(drop=True).rename(columns={\"I\":\"I_data\", \"H\":\"H_data\", \"D\":\"D_data\"}),\n",
    "                           )\n",
    "schema = plots.pad(schema, 5)\n",
    "plots.ipy_display(schema)"
   ]
  },
  {
   "cell_type": "code",
   "execution_count": null,
   "id": "79bac950-7c34-47af-9fa6-d0ead7e78f88",
   "metadata": {},
   "outputs": [],
   "source": [
    "num_samples = 100\n",
    "model_paths = [model2_location, model7_location]\n",
    "data_path = \"../../notebook/ensemble_eval_sa/NY_data1.csv\"\n",
    "weights = [1/len(model_paths) for i in model_paths]\n",
    "solution_mappings = [{\"I\": \"I\", \"D\": \"D\"},\n",
    "                     {\"I\": \"infected\", \"D\": \"dead\"}\n",
    "                     ]\n",
    "\n",
    "# Run the calibration and sampling\n",
    "result4 = load_and_calibrate_and_sample_ensemble_model(\n",
    "    model_paths,\n",
    "    data_path,\n",
    "    weights,\n",
    "    solution_mappings,\n",
    "    num_samples,\n",
    "    timepoints,\n",
    "    verbose=True,\n",
    "    total_population=19340000,\n",
    "    num_iterations=500,\n",
    "    time_unit=\"days\",\n",
    "    visual_options={\"title\": \"Calibrated Ensemble\", \"subset\":\".*_sol\"}\n",
    ")\n",
    "\n",
    "# Save results\n",
    "# result4[\"data\"].to_csv(\"../../notebook/ensemble_eval_sa/ensemble_results/partI_ensemble_of_many_results.csv\", index=False)\n",
    "# result4[\"quantiles\"].to_csv(\"../../notebook/ensemble_eval_sa/ensemble_results/partI_ensemble_of_many_quantiles.csv\", index=False)\n",
    "\n",
    "# Plot results\n",
    "schema = plots.trajectories(pd.DataFrame(result4[\"data\"]), subset=\".*_sol\",\n",
    "                            points=test_data.reset_index(drop=True).rename(columns={\"I\":\"I_data\", \"H\":\"H_data\", \"D\":\"D_data\"}),\n",
    "                           )\n",
    "schema = plots.pad(schema, 5)\n",
    "plots.ipy_display(schema)"
   ]
  },
  {
   "cell_type": "code",
   "execution_count": null,
   "id": "b1200c83-faab-444d-8a13-c815867ad5ba",
   "metadata": {},
   "outputs": [],
   "source": [
    "num_samples = 100\n",
    "model_paths = [model2_location, model6_location, model7_location]\n",
    "data_path = \"../../notebook/ensemble_eval_sa/NY_data1.csv\"\n",
    "weights = [1/len(model_paths) for i in model_paths]\n",
    "solution_mappings = [{\"I\": \"I\", \"D\": \"D\"},\n",
    "                     {\"I\": \"infected\", \"D\": \"dead\"}, \n",
    "                     {\"I\": \"infected\", \"D\": \"dead\"}\n",
    "                     ]\n",
    "\n",
    "# Run the calibration and sampling\n",
    "result4 = load_and_calibrate_and_sample_ensemble_model(\n",
    "    model_paths,\n",
    "    data_path,\n",
    "    weights,\n",
    "    solution_mappings,\n",
    "    num_samples,\n",
    "    timepoints,\n",
    "    verbose=True,\n",
    "    total_population=19340000,\n",
    "    num_iterations=500,\n",
    "    time_unit=\"days\",\n",
    "    visual_options={\"title\": \"Calibrated Ensemble\", \"subset\":\".*_sol\"}\n",
    ")\n",
    "\n",
    "# Save results\n",
    "# result4[\"data\"].to_csv(\"../../notebook/ensemble_eval_sa/ensemble_results/partI_ensemble_of_many_results.csv\", index=False)\n",
    "# result4[\"quantiles\"].to_csv(\"../../notebook/ensemble_eval_sa/ensemble_results/partI_ensemble_of_many_quantiles.csv\", index=False)\n",
    "\n",
    "# Plot results\n",
    "schema = plots.trajectories(pd.DataFrame(result4[\"data\"]), subset=\".*_sol\",\n",
    "                            points=test_data.reset_index(drop=True).rename(columns={\"I\":\"I_data\", \"H\":\"H_data\", \"D\":\"D_data\"}),\n",
    "                           )\n",
    "schema = plots.pad(schema, 5)\n",
    "plots.ipy_display(schema)"
   ]
  },
  {
   "cell_type": "code",
   "execution_count": null,
   "id": "2b575a9f-909b-4eae-a74a-9745b0a74d43",
   "metadata": {},
   "outputs": [],
   "source": []
  }
 ],
 "metadata": {
  "kernelspec": {
   "display_name": "Python 3 (ipykernel)",
   "language": "python",
   "name": "python3"
  },
  "language_info": {
   "codemirror_mode": {
    "name": "ipython",
    "version": 3
   },
   "file_extension": ".py",
   "mimetype": "text/x-python",
   "name": "python",
   "nbconvert_exporter": "python",
   "pygments_lexer": "ipython3",
   "version": "3.10.9"
  }
 },
 "nbformat": 4,
 "nbformat_minor": 5
}
