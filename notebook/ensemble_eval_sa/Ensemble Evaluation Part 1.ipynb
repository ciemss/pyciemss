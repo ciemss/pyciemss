{
 "cells": [
  {
   "cell_type": "markdown",
   "id": "3048df72",
   "metadata": {},
   "source": [
    "# Ensemble Evaluation: Timepoint 1 - Spring 2020\n",
    "\n",
    "Location: New York State\n",
    "\n",
    "Timepoint 1: April 3, 2020. Setting: New York State at the beginning of the pandemic when masking was the main preventative measure. No vaccines available. \n",
    "\n",
    "Using case and death data for calibration (hospitalization data not available for this timepoint). No vaccination, no variants, and reinfection is not considered."
   ]
  },
  {
   "cell_type": "markdown",
   "id": "897b7ea9-d670-4345-9d7a-322d34d724c8",
   "metadata": {},
   "source": [
    "## Set up for ensemble modeling"
   ]
  },
  {
   "cell_type": "markdown",
   "id": "25ee072e-ef36-4c76-bf0a-76276a86c63b",
   "metadata": {},
   "source": [
    "### Load dependencies\n",
    "Import functionality from the pyciemss library to allow for model sampling and calibration."
   ]
  },
  {
   "cell_type": "code",
   "execution_count": 1,
   "id": "f250632a-4078-49de-a4a8-e6134c949910",
   "metadata": {},
   "outputs": [],
   "source": [
    "import os\n",
    "import torch\n",
    "import pandas as pd\n",
    "import numpy as np\n",
    "import matplotlib.pyplot as plt\n",
    "\n",
    "from pyciemss.Ensemble.interfaces import (\n",
    "    load_and_sample_petri_ensemble, load_and_calibrate_and_sample_ensemble_model\n",
    ")\n",
    "from pyciemss.PetriNetODE.interfaces import (\n",
    "    load_and_sample_petri_model,\n",
    "    load_and_calibrate_and_sample_petri_model,\n",
    "    load_and_optimize_and_sample_petri_model,\n",
    "    load_and_calibrate_and_optimize_and_sample_petri_model\n",
    ")\n",
    "from pyciemss.visuals import plots\n",
    "from pyciemss.utils.interface_utils import cdc_reformatcsv, make_quantiles, convert_to_output_format"
   ]
  },
  {
   "cell_type": "markdown",
   "id": "2af8a7df-6527-4ba2-beb6-2e63889dcbbf",
   "metadata": {},
   "source": [
    "### Collect relevant models\n",
    "<!-- We have chosen x number of models to capture the relevant COVID-19 dynamics for this setting. \n",
    " - `model1` contains compartments SEIRHD, and is stratified by age into four groups.\n",
    " - `model2` is the same as `model1`, but allows for reinfection\n",
    " - `model3` is the same as `model1`, but with a variation in transmission rate to account for masking efficacy and compliance. -->"
   ]
  },
  {
   "cell_type": "code",
   "execution_count": 2,
   "id": "07fddb50-d73e-481d-a79d-ce0e115411b5",
   "metadata": {},
   "outputs": [],
   "source": [
    "from mira.sources.askenet import model_from_url\n",
    "model1 = model_from_url('https://raw.githubusercontent.com/ciemss/pyciemss/sa-ensemble-eval/notebook/ensemble_eval_sa/operative_models/SEIRHD_npi1_ee.json')\n",
    "model2 = model_from_url('https://raw.githubusercontent.com/ciemss/pyciemss/sa-ensemble-eval/notebook/ensemble_eval_sa/operative_models/SEIRHD_npi1_age_stratified_v2.json')\n",
    "model3 = model_from_url('https://raw.githubusercontent.com/ciemss/pyciemss/sa-ensemble-eval/notebook/ensemble_eval_sa/operative_models/SEIRHD_npi1_age_stratified_v3.json')"
   ]
  },
  {
   "cell_type": "markdown",
   "id": "a2239aab-0478-43cb-b6ef-079497dbb6e1",
   "metadata": {},
   "source": [
    "### Gather data, and set training and forecast intervals\n",
    "For this timepoint, only case and death data is available for calibration. \n",
    "\n",
    "We take the total population of New York State to be 19,340,000. Population age-structure estimates for New York State were taken (and scaled appropriately) from [here](https://www.health.ny.gov/statistics/vital_statistics/2016/table01.htm).\n",
    "\n",
    "First recorded case in New York State: March 1, 2020.\n",
    "\n",
    "Also relevant is that a statewide stay-at-home order for non-essential workers was implemented on March 22, 2020, and masking policy was implemented on April 15, 2020. A nice list of COVID-19 policy interventions for New York City and State has been compiled [here](https://www.investopedia.com/historical-timeline-of-covid-19-in-new-york-city-5071986![image.png](attachment:d380d245-11ca-41f1-9863-e2a2dcf5ebce.png)![image.png](attachment:b30f6e31-bc7f-43a8-b7c8-b1df78db3b86.png)![image.png](attachment:b5109588-59ed-447c-9271-50eb56fe9081.png)![image.png](attachment:2c42138a-696d-4cef-9b79-4843d38ff029.png))."
   ]
  },
  {
   "cell_type": "markdown",
   "id": "491b50ab-6fbb-4a03-84e7-d99225d982de",
   "metadata": {},
   "source": [
    "### Define a function to process the source data and produce the necessary datasets for plotting and calibration"
   ]
  },
  {
   "cell_type": "code",
   "execution_count": 3,
   "id": "32f7c14d-a51d-47db-830b-745e459228e8",
   "metadata": {},
   "outputs": [],
   "source": [
    "def data_selector_function(data_df, train_start_row_num, train_end_row_num, forecast_end_row_num):\n",
    "    '''\n",
    "    This function produces two datasets: all_data and train_data, and a list timepoints for simulation\n",
    "    '''\n",
    "    all_data = data_df[train_start_row_num:forecast_end_row_num].reset_index()\n",
    "    all_data = all_data.drop(columns=\"timestep\")\n",
    "    all_data = all_data.drop(columns=\"index\")\n",
    "\n",
    "    train_data = data_df[train_start_row_num:train_end_row_num].reset_index(drop=True)\n",
    "    train_data1 = train_data.assign(timepoints=[float(i) for i in range(len(train_data))])\n",
    "    train_data = train_data1[[\"timepoints\", \"I\", \"E\", \"H\", \"D\"]]\n",
    "\n",
    "    num_timepoints = (len(all_data) - 1)*10 + 1\n",
    "    simulation_timepoints = [round(i * 0.1, 1) for i in range(0, num_timepoints)]\n",
    "    \n",
    "    return all_data, train_data, simulation_timepoints"
   ]
  },
  {
   "cell_type": "markdown",
   "id": "e7d4f4d8-abb4-4a9d-b7c9-6fc614125708",
   "metadata": {},
   "source": [
    "### Gather source data and set `DATA_PATH`, `RESULTS_PATH`"
   ]
  },
  {
   "cell_type": "code",
   "execution_count": 4,
   "id": "d9409751-8a75-4815-a329-923e20b1ca14",
   "metadata": {},
   "outputs": [],
   "source": [
    "url = 'https://raw.githubusercontent.com/DARPA-ASKEM/experiments/main/thin-thread-examples/milestone_12month/evaluation/ensemble_eval_SA/datasets/aabb3684-a7ea-4f60-98f1-a8e673ad6df5/dataset.csv'\n",
    "nys_data = pd.read_csv(url)\n",
    "nys_data[\"E\"] = np.nan # Add empty \"E\" column so that \"exposed\" may be used to post-process results\n",
    "\n",
    "DATA_PATH = \"../../notebook/ensemble_eval_sa/datasets/\"\n",
    "RESULTS_PATH = \"../../notebook/ensemble_eval_sa/ensemble_results/\""
   ]
  },
  {
   "cell_type": "markdown",
   "id": "808442fe-65a2-4545-b1d1-fb2ad8b26653",
   "metadata": {},
   "source": [
    "### Create and save datasets and simulation timepoints for each forecast"
   ]
  },
  {
   "cell_type": "code",
   "execution_count": 5,
   "id": "bf6e7144-aecd-443b-ab2a-0e492db247f2",
   "metadata": {},
   "outputs": [],
   "source": [
    "### Forecast 1: 04/03/2020 - 05/01/2020, data: 03/01/2020 - 04/02/2020\n",
    "\n",
    "# Forecast 1: 04/03/2020 (day 32, row 73) - 05/01/2020 (day 60, row 101), train data: 03/01/2020 (day 0, row 40) - 04/02/2020 (day 31, row 72)\n",
    "[all_data1, train_data1, timepoints1] = data_selector_function(nys_data, 39, 72, 101)\n",
    "train_data1[[\"I\", \"E\", \"H\", \"D\"]].to_csv(DATA_PATH + \"NYS_T1_forecast1.csv\")\n",
    "\n",
    "### Forecast 2: 04/10/2020 - 05/08/2020, data: 03/01/2020 - 04/09/2020\n",
    "\n",
    "# Forecast 2: 04/10/2020 (day 39, row 80) - 05/08/2020 (day 67, row 108), train data: 03/01/2020 (day 0, row 40) - 04/09/2020 (day 38, row 79)\n",
    "[all_data2, train_data2, timepoints2] = data_selector_function(nys_data, 39, 79, 108)\n",
    "train_data2[[\"I\", \"E\", \"H\", \"D\"]].to_csv(DATA_PATH + \"NYS_T1_forecast2.csv\")\n",
    "\n",
    "### Forecast 3: 04/17/2020 - 05/15/2020, data: 03/01/2020 - 04/16/2020\n",
    "\n",
    "# Forecast 3: 04/17/2020 (day 46, row 87) - 05/15/2020 (day 74, row 115), train data: 03/01/2020 (day 0, row 40) - 04/16/2020 (day 45, row 86)\n",
    "[all_data3, train_data3, timepoints3] = data_selector_function(nys_data, 39, 86, 115)\n",
    "train_data3[[\"I\", \"E\", \"H\", \"D\"]].to_csv(DATA_PATH + \"NYS_T1_forecast3.csv\")\n",
    "\n",
    "### Forecast 4: 04/24/2020 - 05/22/2020, data: 03/01/2020 - 04/23/2020\n",
    "\n",
    "# Forecast 3: 04/24/2020 (day 53, row 94) - 05/22/2020 (day 81, row 122), train data: 03/01/2020 (day 0, row 40) - 04/23/2020 (day 52, row 93)\n",
    "[all_data4, train_data4, timepoints4] = data_selector_function(nys_data, 39, 93, 122)\n",
    "train_data4[[\"I\", \"E\", \"H\", \"D\"]].to_csv(DATA_PATH + \"NYS_T1_forecast4.csv\")"
   ]
  },
  {
   "cell_type": "markdown",
   "id": "9a13d82b-f9b4-4f13-9e41-8e664543e8fa",
   "metadata": {},
   "source": [
    "### Plot the data"
   ]
  },
  {
   "cell_type": "code",
   "execution_count": 6,
   "id": "87729311-991d-4e25-ac23-31d706f266a1",
   "metadata": {},
   "outputs": [
    {
     "data": {
      "text/plain": [
       "Text(0.5, 1.0, 'Cumulative Deaths per 100,000')"
      ]
     },
     "execution_count": 6,
     "metadata": {},
     "output_type": "execute_result"
    },
    {
     "data": {
      "image/png": "[encoded data removed]",
      "text/plain": [
       "<Figure size 640x480 with 3 Axes>"
      ]
     },
     "metadata": {},
     "output_type": "display_data"
    }
   ],
   "source": [
    "N = 19_340_000\n",
    "\n",
    "fig, (ax1, ax2, ax3) = plt.subplots(1, 3)\n",
    "# ax1.scatter(all_data4.index, all_data4.I, color=\"red\")\n",
    "ax1.scatter(all_data4.index, 100000*(all_data4.I/N), color=\"red\")\n",
    "ax1.axvline(x = 32, color = 'darkgreen', linestyle =\"--\", label = 'begin forecast 1')\n",
    "ax1.axvline(x = 39, color = 'forestgreen', linestyle =\":\", label = 'begin forecast 2')\n",
    "ax1.axvline(x = 46, color = 'green', linestyle =\"-.\", label = 'begin forecast 3')\n",
    "ax1.axvline(x = 53, color = 'teal', label = 'begin forecast 4')\n",
    "ax1.legend(loc='lower right')\n",
    "# ax1.set_title(\"Cases\")\n",
    "ax1.set_title(\"Cases per 100,000\")\n",
    "\n",
    "# ax2.scatter(all_data4.index, all_data4.H, color=\"navy\")\n",
    "ax2.scatter(all_data4.index, 100000*(all_data4.H/N), color=\"navy\")\n",
    "ax2.axvline(x = 32, color = 'darkgreen', linestyle =\"--\", label = 'begin forecast 1')\n",
    "ax2.axvline(x = 39, color = 'forestgreen', linestyle =\":\", label = 'begin forecast 2')\n",
    "ax2.axvline(x = 46, color = 'green', linestyle =\"-.\", label = 'begin forecast 3')\n",
    "ax2.axvline(x = 53, color = 'teal', label = 'begin forecast 4')\n",
    "ax2.legend(loc='lower right')\n",
    "# ax2.set_title(\"Hospitalizations\")\n",
    "ax2.set_title(\"Hospitalizations per 100,000\")\n",
    "\n",
    "# ax3.scatter(all_data4.index, all_data4.D, color=\"blue\")\n",
    "ax3.scatter(all_data4.index, 100000*(all_data4.D/N), color=\"blue\")\n",
    "ax3.axvline(x = 32, color = 'darkgreen', linestyle =\"--\", label = 'begin forecast 1')\n",
    "ax3.axvline(x = 39, color = 'forestgreen', linestyle =\":\", label = 'begin forecast 2')\n",
    "ax3.axvline(x = 46, color = 'green', linestyle =\"-.\", label = 'begin forecast 3')\n",
    "ax3.axvline(x = 53, color = 'teal', label = 'begin forecast 4')\n",
    "ax3.legend(loc='lower right')\n",
    "# ax3.set_title(\"Cumulative Deaths\")\n",
    "ax3.set_title(\"Cumulative Deaths per 100,000\")"
   ]
  },
  {
   "cell_type": "markdown",
   "id": "88df33c0-f86c-4cc4-8f98-6191d71b442b",
   "metadata": {},
   "source": [
    "# (1) Forecast 1: 04/03/2020 - 05/01/2020"
   ]
  },
  {
   "cell_type": "markdown",
   "id": "2b425707-b887-4b7f-8e22-8fbd6fce7112",
   "metadata": {},
   "source": [
    "## (A) Calibrate and sample an ensemble of one model"
   ]
  },
  {
   "cell_type": "code",
   "execution_count": 7,
   "id": "3e5e728c-9269-4cc5-b275-e6e69f6c402b",
   "metadata": {},
   "outputs": [],
   "source": [
    "RESULTS_FILENAME = RESULTS_PATH + \"T1_ensemble_of1_results_Apr032020.csv\"\n",
    "QUANTILES_FILENAME = RESULTS_PATH + \"T1_ensemble_of1_quantiles_Apr032020.csv\"\n",
    "N_ITERATIONS = 26"
   ]
  },
  {
   "cell_type": "markdown",
   "id": "ce7c82ae-4460-4375-a3b4-1e8612c29d9b",
   "metadata": {},
   "source": [
    "### MODEL 1 - SEIRHD with NPI of Type 1"
   ]
  },
  {
   "cell_type": "code",
   "execution_count": 8,
   "id": "de7313df-f73f-4425-a021-fe90f17555ab",
   "metadata": {},
   "outputs": [
    {
     "name": "stdout",
     "output_type": "stream",
     "text": [
      "iteration 0: loss = 732.1358387470245\n",
      "iteration 25: loss = 697.6491184234619\n",
      "\n"
     ]
    },
    {
     "data": {
      "application/vnd.vega.v5+json": {
       "$schema": "https://vega.github.io/schema/vega/v5.json",
       "axes": [
        {
         "name": "x_axis",
         "orient": "bottom",
         "scale": "xscale",
         "zindex": 100
        },
        {
         "name": "y_axis",
         "orient": "left",
         "scale": "yscale",
         "zindex": 100
        }
       ],
       "data": [
        {
         "name": "distributions",
         "values": [
          {
           "lower": 7.992415018914436e-22,
           "timepoint": 0,
           "trajectory": "D_sol",
           "upper": 1.4048148192249346e-21
          },
          {
           "lower": 0.0007996274711331352,
           "timepoint": 0.1,
           "trajectory": "D_sol",
           "upper": 0.00140475892694667
          },
          {
           "lower": 0.0032003514119423927,
           "timepoint": 0.2,
           "trajectory": "D_sol",
           "upper": 0.0056193162687122825
          },
          {
           "lower": 0.0072056068107485775,
           "timepoint": 0.3,
           "trajectory": "D_sol",
           "upper": 0.012645209627225994
          },
          {
           "lower": 0.01281972392462194,
           "timepoint": 0.4,
           "trajectory": "D_sol",
           "upper": 0.022485449630767106
          },
          {
           "lower": 0.020047926902770997,
           "timepoint": 0.5,
           "trajectory": "D_sol",
           "upper": 0.035144518874585626
          },
          {
           "lower": 0.02889630775898695,
           "timepoint": 0.6,
           "trajectory": "D_sol",
           "upper": 0.050628413818776606
          },
          {
           "lower": 0.03937184549868107,
           "timepoint": 0.7,
           "trajectory": "D_sol",
           "upper": 0.06894441843032836
          },
          {
           "lower": 0.05148242320865393,
           "timepoint": 0.8,
           "trajectory": "D_sol",
           "upper": 0.09010139107704163
          },
          {
           "lower": 0.0652367476373911,
           "timepoint": 0.9,
           "trajectory": "D_sol",
           "upper": 0.11410960666835308
          },
          {
           "lower": 0.08064445815980434,
           "timepoint": 1,
           "trajectory": "D_sol",
           "upper": 0.14098066836595535
          },
          {
           "lower": 0.09771605134010315,
           "timepoint": 1.1,
           "trajectory": "D_sol",
           "upper": 0.1707276538014412
          },
          {
           "lower": 0.11647023744881153,
           "timepoint": 1.2,
           "trajectory": "D_sol",
           "upper": 0.2033651016652584
          },
          {
           "lower": 0.13694265484809875,
           "timepoint": 1.3,
           "trajectory": "D_sol",
           "upper": 0.23890850916504858
          },
          {
           "lower": 0.15912766829133035,
           "timepoint": 1.4,
           "trajectory": "D_sol",
           "upper": 0.27737556099891664
          },
          {
           "lower": 0.18304037153720856,
           "timepoint": 1.5,
           "trajectory": "D_sol",
           "upper": 0.31878482103347777
          },
          {
           "lower": 0.20869743153452874,
           "timepoint": 1.6,
           "trajectory": "D_sol",
           "upper": 0.3631563976407051
          },
          {
           "lower": 0.23611583262681962,
           "timepoint": 1.7,
           "trajectory": "D_sol",
           "upper": 0.41051170974969864
          },
          {
           "lower": 0.2653136432170868,
           "timepoint": 1.8,
           "trajectory": "D_sol",
           "upper": 0.4608738288283348
          },
          {
           "lower": 0.2963101610541344,
           "timepoint": 1.9,
           "trajectory": "D_sol",
           "upper": 0.5142668694257736
          },
          {
           "lower": 0.32912524193525317,
           "timepoint": 2,
           "trajectory": "D_sol",
           "upper": 0.5707167088985443
          },
          {
           "lower": 0.3637797549366951,
           "timepoint": 2.1,
           "trajectory": "D_sol",
           "upper": 0.6302503108978271
          },
          {
           "lower": 0.4002957344055176,
           "timepoint": 2.2,
           "trajectory": "D_sol",
           "upper": 0.692896807193756
          },
          {
           "lower": 0.4386959135532379,
           "timepoint": 2.3,
           "trajectory": "D_sol",
           "upper": 0.7586846768856048
          },
          {
           "lower": 0.4790042877197266,
           "timepoint": 2.4,
           "trajectory": "D_sol",
           "upper": 0.8276473999023437
          },
          {
           "lower": 0.5212459027767181,
           "timepoint": 2.5,
           "trajectory": "D_sol",
           "upper": 0.8998169809579849
          },
          {
           "lower": 0.5654463410377503,
           "timepoint": 2.6,
           "trajectory": "D_sol",
           "upper": 0.9752279967069625
          },
          {
           "lower": 0.6116327792406082,
           "timepoint": 2.7,
           "trajectory": "D_sol",
           "upper": 1.0539167463779449
          },
          {
           "lower": 0.6598327279090881,
           "timepoint": 2.8,
           "trajectory": "D_sol",
           "upper": 1.1359200954437254
          },
          {
           "lower": 0.7100754797458648,
           "timepoint": 2.9,
           "trajectory": "D_sol",
           "upper": 1.2212759673595428
          },
          {
           "lower": 0.7623911142349243,
           "timepoint": 3,
           "trajectory": "D_sol",
           "upper": 1.3100269019603727
          },
          {
           "lower": 0.8168112725019455,
           "timepoint": 3.1,
           "trajectory": "D_sol",
           "upper": 1.40221409201622
          },
          {
           "lower": 0.8733675420284271,
           "timepoint": 3.2,
           "trajectory": "D_sol",
           "upper": 1.4978812515735624
          },
          {
           "lower": 0.9320934653282166,
           "timepoint": 3.3,
           "trajectory": "D_sol",
           "upper": 1.597073084115982
          },
          {
           "lower": 0.9930235087871552,
           "timepoint": 3.4,
           "trajectory": "D_sol",
           "upper": 1.699836802482605
          },
          {
           "lower": 1.0561931610107422,
           "timepoint": 3.5,
           "trajectory": "D_sol",
           "upper": 1.8062214970588684
          },
          {
           "lower": 1.1216395258903504,
           "timepoint": 3.6,
           "trajectory": "D_sol",
           "upper": 1.9162758231163024
          },
          {
           "lower": 1.1894023895263672,
           "timepoint": 3.7,
           "trajectory": "D_sol",
           "upper": 2.030052387714386
          },
          {
           "lower": 1.259518212080002,
           "timepoint": 3.8,
           "trajectory": "D_sol",
           "upper": 2.1476040601730344
          },
          {
           "lower": 1.3320287942886353,
           "timepoint": 3.9,
           "trajectory": "D_sol",
           "upper": 2.268987262248993
          },
          {
           "lower": 1.4069753408432006,
           "timepoint": 4,
           "trajectory": "D_sol",
           "upper": 2.3942571878433228
          },
          {
           "lower": 1.4844014346599579,
           "timepoint": 4.1,
           "trajectory": "D_sol",
           "upper": 2.5234736084938048
          },
          {
           "lower": 1.5643511712551117,
           "timepoint": 4.2,
           "trajectory": "D_sol",
           "upper": 2.6566950678825374
          },
          {
           "lower": 1.646874988079071,
           "timepoint": 4.3,
           "trajectory": "D_sol",
           "upper": 2.7939867377281185
          },
          {
           "lower": 1.7320123970508576,
           "timepoint": 4.4,
           "trajectory": "D_sol",
           "upper": 2.9354105353355404
          },
          {
           "lower": 1.8198150932788848,
           "timepoint": 4.5,
           "trajectory": "D_sol",
           "upper": 3.0810332298278804
          },
          {
           "lower": 1.9103331565856934,
           "timepoint": 4.6,
           "trajectory": "D_sol",
           "upper": 3.2309226274490355
          },
          {
           "lower": 2.00361750125885,
           "timepoint": 4.7,
           "trajectory": "D_sol",
           "upper": 3.385148191452026
          },
          {
           "lower": 2.099722135066986,
           "timepoint": 4.8,
           "trajectory": "D_sol",
           "upper": 3.543783414363861
          },
          {
           "lower": 2.198699939250946,
           "timepoint": 4.9,
           "trajectory": "D_sol",
           "upper": 3.706896805763244
          },
          {
           "lower": 2.300607216358185,
           "timepoint": 5,
           "trajectory": "D_sol",
           "upper": 3.8745695710182186
          },
          {
           "lower": 2.4055014729499815,
           "timepoint": 5.1,
           "trajectory": "D_sol",
           "upper": 4.046877694129943
          },
          {
           "lower": 2.5134416103363035,
           "timepoint": 5.2,
           "trajectory": "D_sol",
           "upper": 4.223900890350341
          },
          {
           "lower": 2.6244892716407775,
           "timepoint": 5.3,
           "trajectory": "D_sol",
           "upper": 4.405722904205322
          },
          {
           "lower": 2.738705241680145,
           "timepoint": 5.4,
           "trajectory": "D_sol",
           "upper": 4.592424654960632
          },
          {
           "lower": 2.856153893470764,
           "timepoint": 5.5,
           "trajectory": "D_sol",
           "upper": 4.784095048904418
          },
          {
           "lower": 2.9769015073776246,
           "timepoint": 5.6,
           "trajectory": "D_sol",
           "upper": 4.980825161933899
          },
          {
           "lower": 3.101015305519104,
           "timepoint": 5.7,
           "trajectory": "D_sol",
           "upper": 5.18270034790039
          },
          {
           "lower": 3.2285649299621584,
           "timepoint": 5.8,
           "trajectory": "D_sol",
           "upper": 5.389817810058593
          },
          {
           "lower": 3.3596208572387694,
           "timepoint": 5.9,
           "trajectory": "D_sol",
           "upper": 5.602270793914794
          },
          {
           "lower": 3.4942566037178038,
           "timepoint": 6,
           "trajectory": "D_sol",
           "upper": 5.823357820510863
          },
          {
           "lower": 3.6325471997261047,
           "timepoint": 6.1,
           "trajectory": "D_sol",
           "upper": 6.05150511264801
          },
          {
           "lower": 3.7745641708374023,
           "timepoint": 6.2,
           "trajectory": "D_sol",
           "upper": 6.285661816596984
          },
          {
           "lower": 3.9203957319259644,
           "timepoint": 6.3,
           "trajectory": "D_sol",
           "upper": 6.525952434539795
          },
          {
           "lower": 4.0701176404953,
           "timepoint": 6.4,
           "trajectory": "D_sol",
           "upper": 6.77249584197998
          },
          {
           "lower": 4.223814845085144,
           "timepoint": 6.5,
           "trajectory": "D_sol",
           "upper": 7.025429916381835
          },
          {
           "lower": 4.381571054458618,
           "timepoint": 6.6,
           "trajectory": "D_sol",
           "upper": 7.284874105453491
          },
          {
           "lower": 4.543474841117859,
           "timepoint": 6.7,
           "trajectory": "D_sol",
           "upper": 7.550966048240661
          },
          {
           "lower": 4.709609413146973,
           "timepoint": 6.8,
           "trajectory": "D_sol",
           "upper": 7.823846364021301
          },
          {
           "lower": 4.880075860023498,
           "timepoint": 6.9,
           "trajectory": "D_sol",
           "upper": 8.10365195274353
          },
          {
           "lower": 5.054964661598206,
           "timepoint": 7,
           "trajectory": "D_sol",
           "upper": 8.390528488159179
          },
          {
           "lower": 5.234370517730713,
           "timepoint": 7.1,
           "trajectory": "D_sol",
           "upper": 8.684625673294066
          },
          {
           "lower": 5.418393993377686,
           "timepoint": 7.2,
           "trajectory": "D_sol",
           "upper": 8.98609800338745
          },
          {
           "lower": 5.607137155532837,
           "timepoint": 7.3,
           "trajectory": "D_sol",
           "upper": 9.295094251632689
          },
          {
           "lower": 5.800700640678405,
           "timepoint": 7.4,
           "trajectory": "D_sol",
           "upper": 9.611778926849365
          },
          {
           "lower": 5.99920928478241,
           "timepoint": 7.5,
           "trajectory": "D_sol",
           "upper": 9.936110687255859
          },
          {
           "lower": 6.202747392654419,
           "timepoint": 7.6,
           "trajectory": "D_sol",
           "upper": 10.26832456588745
          },
          {
           "lower": 6.411437010765075,
           "timepoint": 7.7,
           "trajectory": "D_sol",
           "upper": 10.608703327178954
          },
          {
           "lower": 6.625394082069397,
           "timepoint": 7.8,
           "trajectory": "D_sol",
           "upper": 10.95742344856262
          },
          {
           "lower": 6.844735383987427,
           "timepoint": 7.9,
           "trajectory": "D_sol",
           "upper": 11.314629411697387
          },
          {
           "lower": 7.06958041191101,
           "timepoint": 8,
           "trajectory": "D_sol",
           "upper": 11.680554437637328
          },
          {
           "lower": 7.30005578994751,
           "timepoint": 8.1,
           "trajectory": "D_sol",
           "upper": 12.055368185043333
          },
          {
           "lower": 7.536276721954346,
           "timepoint": 8.2,
           "trajectory": "D_sol",
           "upper": 12.439256238937377
          },
          {
           "lower": 7.778390836715698,
           "timepoint": 8.3,
           "trajectory": "D_sol",
           "upper": 12.832422637939452
          },
          {
           "lower": 8.02651948928833,
           "timepoint": 8.4,
           "trajectory": "D_sol",
           "upper": 13.235058546066282
          },
          {
           "lower": 8.28080382347107,
           "timepoint": 8.5,
           "trajectory": "D_sol",
           "upper": 13.647379159927366
          },
          {
           "lower": 8.541381216049194,
           "timepoint": 8.6,
           "trajectory": "D_sol",
           "upper": 14.069587564468383
          },
          {
           "lower": 8.808393812179565,
           "timepoint": 8.7,
           "trajectory": "D_sol",
           "upper": 14.501900768280029
          },
          {
           "lower": 9.081985425949096,
           "timepoint": 8.8,
           "trajectory": "D_sol",
           "upper": 14.944545650482176
          },
          {
           "lower": 9.362310457229615,
           "timepoint": 8.9,
           "trajectory": "D_sol",
           "upper": 15.39773859977722
          },
          {
           "lower": 9.649525690078736,
           "timepoint": 9,
           "trajectory": "D_sol",
           "upper": 15.861722373962401
          },
          {
           "lower": 9.943784236907959,
           "timepoint": 9.1,
           "trajectory": "D_sol",
           "upper": 16.33672704696655
          },
          {
           "lower": 10.245244455337524,
           "timepoint": 9.2,
           "trajectory": "D_sol",
           "upper": 16.822987937927245
          },
          {
           "lower": 10.554110193252564,
           "timepoint": 9.3,
           "trajectory": "D_sol",
           "upper": 17.32076120376587
          },
          {
           "lower": 10.87107710838318,
           "timepoint": 9.4,
           "trajectory": "D_sol",
           "upper": 17.830301856994627
          },
          {
           "lower": 11.195784044265746,
           "timepoint": 9.5,
           "trajectory": "D_sol",
           "upper": 18.351870727539062
          },
          {
           "lower": 11.52842960357666,
           "timepoint": 9.6,
           "trajectory": "D_sol",
           "upper": 18.885729026794433
          },
          {
           "lower": 11.869183874130249,
           "timepoint": 9.7,
           "trajectory": "D_sol",
           "upper": 19.432154273986814
          },
          {
           "lower": 12.21824140548706,
           "timepoint": 9.8,
           "trajectory": "D_sol",
           "upper": 19.99142551422119
          },
          {
           "lower": 12.57422423362732,
           "timepoint": 9.9,
           "trajectory": "D_sol",
           "upper": 20.56381855010986
          },
          {
           "lower": 12.936608934402466,
           "timepoint": 10,
           "trajectory": "D_sol",
           "upper": 21.149585914611816
          },
          {
           "lower": 13.307651376724243,
           "timepoint": 10.1,
           "trajectory": "D_sol",
           "upper": 21.749106502532957
          },
          {
           "lower": 13.687544822692871,
           "timepoint": 10.2,
           "trajectory": "D_sol",
           "upper": 22.362639999389646
          },
          {
           "lower": 14.076498699188232,
           "timepoint": 10.3,
           "trajectory": "D_sol",
           "upper": 22.990514183044432
          },
          {
           "lower": 14.474740028381348,
           "timepoint": 10.4,
           "trajectory": "D_sol",
           "upper": 23.633030986785887
          },
          {
           "lower": 14.882444381713867,
           "timepoint": 10.5,
           "trajectory": "D_sol",
           "upper": 24.290537357330322
          },
          {
           "lower": 15.2998441696167,
           "timepoint": 10.6,
           "trajectory": "D_sol",
           "upper": 24.963352966308594
          },
          {
           "lower": 15.727156162261963,
           "timepoint": 10.7,
           "trajectory": "D_sol",
           "upper": 25.65182771682739
          },
          {
           "lower": 16.16461682319641,
           "timepoint": 10.8,
           "trajectory": "D_sol",
           "upper": 26.356314659118652
          },
          {
           "lower": 16.612453365325926,
           "timepoint": 10.9,
           "trajectory": "D_sol",
           "upper": 27.077160453796385
          },
          {
           "lower": 17.070913982391357,
           "timepoint": 11,
           "trajectory": "D_sol",
           "upper": 27.81474962234497
          },
          {
           "lower": 17.540186214447022,
           "timepoint": 11.1,
           "trajectory": "D_sol",
           "upper": 28.569449520111082
          },
          {
           "lower": 18.02059268951416,
           "timepoint": 11.2,
           "trajectory": "D_sol",
           "upper": 29.341631603240966
          },
          {
           "lower": 18.512373161315917,
           "timepoint": 11.3,
           "trajectory": "D_sol",
           "upper": 30.131712436676025
          },
          {
           "lower": 19.015766525268553,
           "timepoint": 11.4,
           "trajectory": "D_sol",
           "upper": 30.940004062652587
          },
          {
           "lower": 19.53105993270874,
           "timepoint": 11.5,
           "trajectory": "D_sol",
           "upper": 31.767050552368165
          },
          {
           "lower": 20.058525371551514,
           "timepoint": 11.6,
           "trajectory": "D_sol",
           "upper": 32.61322135925293
          },
          {
           "lower": 20.598428821563722,
           "timepoint": 11.7,
           "trajectory": "D_sol",
           "upper": 33.4774206161499
          },
          {
           "lower": 21.151041507720947,
           "timepoint": 11.8,
           "trajectory": "D_sol",
           "upper": 34.333360481262204
          },
          {
           "lower": 21.716698551177977,
           "timepoint": 11.9,
           "trajectory": "D_sol",
           "upper": 35.20806999206543
          },
          {
           "lower": 22.314247798919677,
           "timepoint": 12,
           "trajectory": "D_sol",
           "upper": 36.10200748443604
          },
          {
           "lower": 22.930143451690675,
           "timepoint": 12.1,
           "trajectory": "D_sol",
           "upper": 37.01551742553711
          },
          {
           "lower": 23.536855125427245,
           "timepoint": 12.2,
           "trajectory": "D_sol",
           "upper": 37.94903793334961
          },
          {
           "lower": 24.157801342010497,
           "timepoint": 12.3,
           "trajectory": "D_sol",
           "upper": 38.90300121307373
          },
          {
           "lower": 24.79330759048462,
           "timepoint": 12.4,
           "trajectory": "D_sol",
           "upper": 39.91176090240479
          },
          {
           "lower": 25.443722438812255,
           "timepoint": 12.5,
           "trajectory": "D_sol",
           "upper": 40.99932079315185
          },
          {
           "lower": 26.10937919616699,
           "timepoint": 12.6,
           "trajectory": "D_sol",
           "upper": 42.1137134552002
          },
          {
           "lower": 26.790626049041748,
           "timepoint": 12.7,
           "trajectory": "D_sol",
           "upper": 43.25558967590332
          },
          {
           "lower": 27.487834644317626,
           "timepoint": 12.8,
           "trajectory": "D_sol",
           "upper": 44.42563896179199
          },
          {
           "lower": 28.201376056671144,
           "timepoint": 12.9,
           "trajectory": "D_sol",
           "upper": 45.59145565032959
          },
          {
           "lower": 28.931616020202636,
           "timepoint": 13,
           "trajectory": "D_sol",
           "upper": 46.76148872375488
          },
          {
           "lower": 29.678940963745116,
           "timepoint": 13.1,
           "trajectory": "D_sol",
           "upper": 47.958565902709964
          },
          {
           "lower": 30.44374551773071,
           "timepoint": 13.2,
           "trajectory": "D_sol",
           "upper": 49.18328380584717
          },
          {
           "lower": 31.226436424255372,
           "timepoint": 13.3,
           "trajectory": "D_sol",
           "upper": 50.4362979888916
          },
          {
           "lower": 32.027424049377444,
           "timepoint": 13.4,
           "trajectory": "D_sol",
           "upper": 51.71823024749756
          },
          {
           "lower": 32.84714412689209,
           "timepoint": 13.5,
           "trajectory": "D_sol",
           "upper": 53.02975940704346
          },
          {
           "lower": 33.68597812652588,
           "timepoint": 13.6,
           "trajectory": "D_sol",
           "upper": 54.371549415588376
          },
          {
           "lower": 34.54442672729492,
           "timepoint": 13.7,
           "trajectory": "D_sol",
           "upper": 55.744277763366696
          },
          {
           "lower": 35.42293701171875,
           "timepoint": 13.8,
           "trajectory": "D_sol",
           "upper": 57.148685646057125
          },
          {
           "lower": 36.32195148468018,
           "timepoint": 13.9,
           "trajectory": "D_sol",
           "upper": 58.58546447753906
          },
          {
           "lower": 37.241953659057614,
           "timepoint": 14,
           "trajectory": "D_sol",
           "upper": 60.05537528991699
          },
          {
           "lower": 38.18343639373779,
           "timepoint": 14.1,
           "trajectory": "D_sol",
           "upper": 61.559177780151366
          },
          {
           "lower": 39.146883964538574,
           "timepoint": 14.2,
           "trajectory": "D_sol",
           "upper": 63.09762134552002
          },
          {
           "lower": 40.132826232910155,
           "timepoint": 14.3,
           "trajectory": "D_sol",
           "upper": 64.67145233154297
          },
          {
           "lower": 41.14218101501465,
           "timepoint": 14.4,
           "trajectory": "D_sol",
           "upper": 66.28157386779785
          },
          {
           "lower": 42.177721214294436,
           "timepoint": 14.5,
           "trajectory": "D_sol",
           "upper": 67.92880325317383
          },
          {
           "lower": 43.26542415618896,
           "timepoint": 14.6,
           "trajectory": "D_sol",
           "upper": 69.60840339660643
          },
          {
           "lower": 44.408834838867186,
           "timepoint": 14.7,
           "trajectory": "D_sol",
           "upper": 71.32614784240722
          },
          {
           "lower": 45.58069667816162,
           "timepoint": 14.8,
           "trajectory": "D_sol",
           "upper": 73.08329315185546
          },
          {
           "lower": 46.78177757263184,
           "timepoint": 14.9,
           "trajectory": "D_sol",
           "upper": 74.88069534301758
          },
          {
           "lower": 48.01282920837402,
           "timepoint": 15,
           "trajectory": "D_sol",
           "upper": 76.71911010742187
          },
          {
           "lower": 49.27458248138428,
           "timepoint": 15.1,
           "trajectory": "D_sol",
           "upper": 78.5997402191162
          },
          {
           "lower": 50.56777992248535,
           "timepoint": 15.2,
           "trajectory": "D_sol",
           "upper": 80.52341918945312
          },
          {
           "lower": 51.89323463439941,
           "timepoint": 15.3,
           "trajectory": "D_sol",
           "upper": 82.49116630554198
          },
          {
           "lower": 53.25179748535156,
           "timepoint": 15.4,
           "trajectory": "D_sol",
           "upper": 84.5039291381836
          },
          {
           "lower": 54.64418106079101,
           "timepoint": 15.5,
           "trajectory": "D_sol",
           "upper": 86.56277503967284
          },
          {
           "lower": 56.07126636505127,
           "timepoint": 15.6,
           "trajectory": "D_sol",
           "upper": 88.66874771118164
          },
          {
           "lower": 57.5339075088501,
           "timepoint": 15.7,
           "trajectory": "D_sol",
           "upper": 90.82286338806152
          },
          {
           "lower": 58.97327651977539,
           "timepoint": 15.8,
           "trajectory": "D_sol",
           "upper": 93.02638816833496
          },
          {
           "lower": 60.44225730895996,
           "timepoint": 15.9,
           "trajectory": "D_sol",
           "upper": 95.28024368286133
          },
          {
           "lower": 61.94593734741211,
           "timepoint": 16,
           "trajectory": "D_sol",
           "upper": 97.58566436767578
          },
          {
           "lower": 63.48517742156982,
           "timepoint": 16.1,
           "trajectory": "D_sol",
           "upper": 99.94384536743163
          },
          {
           "lower": 65.0608102798462,
           "timepoint": 16.2,
           "trajectory": "D_sol",
           "upper": 102.3559471130371
          },
          {
           "lower": 66.67367210388184,
           "timepoint": 16.3,
           "trajectory": "D_sol",
           "upper": 104.82317352294922
          },
          {
           "lower": 68.32468795776367,
           "timepoint": 16.4,
           "trajectory": "D_sol",
           "upper": 107.34688835144043
          },
          {
           "lower": 70.0147045135498,
           "timepoint": 16.5,
           "trajectory": "D_sol",
           "upper": 109.92819099426269
          },
          {
           "lower": 71.74499130249023,
           "timepoint": 16.6,
           "trajectory": "D_sol",
           "upper": 112.56858558654784
          },
          {
           "lower": 73.51595878601074,
           "timepoint": 16.7,
           "trajectory": "D_sol",
           "upper": 115.26935081481933
          },
          {
           "lower": 75.32875213623046,
           "timepoint": 16.8,
           "trajectory": "D_sol",
           "upper": 118.03178939819335
          },
          {
           "lower": 77.18443565368652,
           "timepoint": 16.9,
           "trajectory": "D_sol",
           "upper": 120.85742645263672
          },
          {
           "lower": 79.08397483825684,
           "timepoint": 17,
           "trajectory": "D_sol",
           "upper": 123.74762001037597
          },
          {
           "lower": 81.02839736938476,
           "timepoint": 17.1,
           "trajectory": "D_sol",
           "upper": 126.70386924743651
          },
          {
           "lower": 83.01876678466797,
           "timepoint": 17.2,
           "trajectory": "D_sol",
           "upper": 129.7276840209961
          },
          {
           "lower": 85.05624885559082,
           "timepoint": 17.3,
           "trajectory": "D_sol",
           "upper": 132.82053756713867
          },
          {
           "lower": 87.14183082580567,
           "timepoint": 17.4,
           "trajectory": "D_sol",
           "upper": 135.98410339355468
          },
          {
           "lower": 89.20254287719726,
           "timepoint": 17.5,
           "trajectory": "D_sol",
           "upper": 139.21999130249023
          },
          {
           "lower": 91.25782089233398,
           "timepoint": 17.6,
           "trajectory": "D_sol",
           "upper": 142.5297752380371
          },
          {
           "lower": 93.35829391479493,
           "timepoint": 17.7,
           "trajectory": "D_sol",
           "upper": 145.91520462036132
          },
          {
           "lower": 95.5049835205078,
           "timepoint": 17.8,
           "trajectory": "D_sol",
           "upper": 149.37792739868163
          },
          {
           "lower": 97.69900817871094,
           "timepoint": 17.9,
           "trajectory": "D_sol",
           "upper": 152.9198028564453
          },
          {
           "lower": 99.94135971069336,
           "timepoint": 18,
           "trajectory": "D_sol",
           "upper": 156.5422248840332
          },
          {
           "lower": 102.23308448791504,
           "timepoint": 18.1,
           "trajectory": "D_sol",
           "upper": 160.24765701293944
          },
          {
           "lower": 104.57528266906738,
           "timepoint": 18.2,
           "trajectory": "D_sol",
           "upper": 164.03770446777344
          },
          {
           "lower": 106.96912384033203,
           "timepoint": 18.3,
           "trajectory": "D_sol",
           "upper": 167.91426696777344
          },
          {
           "lower": 109.41563568115234,
           "timepoint": 18.4,
           "trajectory": "D_sol",
           "upper": 171.87945175170898
          },
          {
           "lower": 111.91605377197266,
           "timepoint": 18.5,
           "trajectory": "D_sol",
           "upper": 175.93492126464844
          },
          {
           "lower": 114.47154731750489,
           "timepoint": 18.6,
           "trajectory": "D_sol",
           "upper": 180.08311233520507
          },
          {
           "lower": 117.08321723937988,
           "timepoint": 18.7,
           "trajectory": "D_sol",
           "upper": 184.3260383605957
          },
          {
           "lower": 119.75237197875977,
           "timepoint": 18.8,
           "trajectory": "D_sol",
           "upper": 188.6657585144043
          },
          {
           "lower": 122.48033905029297,
           "timepoint": 18.9,
           "trajectory": "D_sol",
           "upper": 193.10457916259764
          },
          {
           "lower": 125.26843070983887,
           "timepoint": 19,
           "trajectory": "D_sol",
           "upper": 197.64472427368165
          },
          {
           "lower": 128.11784820556642,
           "timepoint": 19.1,
           "trajectory": "D_sol",
           "upper": 202.28839569091795
          },
          {
           "lower": 131.02997512817382,
           "timepoint": 19.2,
           "trajectory": "D_sol",
           "upper": 207.03828659057618
          },
          {
           "lower": 134.0061294555664,
           "timepoint": 19.3,
           "trajectory": "D_sol",
           "upper": 211.89636306762694
          },
          {
           "lower": 137.04782485961914,
           "timepoint": 19.4,
           "trajectory": "D_sol",
           "upper": 216.86525192260743
          },
          {
           "lower": 140.20341415405272,
           "timepoint": 19.5,
           "trajectory": "D_sol",
           "upper": 221.947590637207
          },
          {
           "lower": 143.53055267333986,
           "timepoint": 19.6,
           "trajectory": "D_sol",
           "upper": 227.14570007324218
          },
          {
           "lower": 146.93474960327148,
           "timepoint": 19.7,
           "trajectory": "D_sol",
           "upper": 232.4624183654785
          },
          {
           "lower": 150.42229156494142,
           "timepoint": 19.8,
           "trajectory": "D_sol",
           "upper": 237.90033950805665
          },
          {
           "lower": 153.9942855834961,
           "timepoint": 19.9,
           "trajectory": "D_sol",
           "upper": 243.46130447387694
          },
          {
           "lower": 157.6490165710449,
           "timepoint": 20,
           "trajectory": "D_sol",
           "upper": 249.14875030517578
          },
          {
           "lower": 161.39083938598634,
           "timepoint": 20.1,
           "trajectory": "D_sol",
           "upper": 254.96515274047852
          },
          {
           "lower": 165.22131958007813,
           "timepoint": 20.2,
           "trajectory": "D_sol",
           "upper": 260.912776184082
          },
          {
           "lower": 169.13872680664062,
           "timepoint": 20.3,
           "trajectory": "D_sol",
           "upper": 266.99318847656247
          },
          {
           "lower": 173.14545745849608,
           "timepoint": 20.4,
           "trajectory": "D_sol",
           "upper": 273.2094482421875
          },
          {
           "lower": 177.24242706298827,
           "timepoint": 20.5,
           "trajectory": "D_sol",
           "upper": 279.5629348754883
          },
          {
           "lower": 181.51311340332032,
           "timepoint": 20.6,
           "trajectory": "D_sol",
           "upper": 286.055647277832
          },
          {
           "lower": 185.9079162597656,
           "timepoint": 20.7,
           "trajectory": "D_sol",
           "upper": 292.6884094238281
          },
          {
           "lower": 190.4008026123047,
           "timepoint": 20.8,
           "trajectory": "D_sol",
           "upper": 299.46286163330075
          },
          {
           "lower": 194.9937255859375,
           "timepoint": 20.9,
           "trajectory": "D_sol",
           "upper": 306.3802795410156
          },
          {
           "lower": 199.68642349243163,
           "timepoint": 21,
           "trajectory": "D_sol",
           "upper": 313.44063568115234
          },
          {
           "lower": 204.47982177734374,
           "timepoint": 21.1,
           "trajectory": "D_sol",
           "upper": 320.645246887207
          },
          {
           "lower": 209.37407836914062,
           "timepoint": 21.2,
           "trajectory": "D_sol",
           "upper": 327.99403991699216
          },
          {
           "lower": 214.3697395324707,
           "timepoint": 21.3,
           "trajectory": "D_sol",
           "upper": 335.4877532958984
          },
          {
           "lower": 219.4670669555664,
           "timepoint": 21.4,
           "trajectory": "D_sol",
           "upper": 343.1259307861328
          },
          {
           "lower": 224.6659927368164,
           "timepoint": 21.5,
           "trajectory": "D_sol",
           "upper": 350.90856323242184
          },
          {
           "lower": 229.9670196533203,
           "timepoint": 21.6,
           "trajectory": "D_sol",
           "upper": 358.8352325439453
          },
          {
           "lower": 235.36950302124023,
           "timepoint": 21.7,
           "trajectory": "D_sol",
           "upper": 366.9067779541015
          },
          {
           "lower": 240.87330169677733,
           "timepoint": 21.8,
           "trajectory": "D_sol",
           "upper": 375.1208267211914
          },
          {
           "lower": 246.4784034729004,
           "timepoint": 21.9,
           "trajectory": "D_sol",
           "upper": 383.47766571044923
          },
          {
           "lower": 252.18429260253907,
           "timepoint": 22,
           "trajectory": "D_sol",
           "upper": 391.9762924194336
          },
          {
           "lower": 257.99073028564453,
           "timepoint": 22.1,
           "trajectory": "D_sol",
           "upper": 400.61618194580075
          },
          {
           "lower": 263.897233581543,
           "timepoint": 22.2,
           "trajectory": "D_sol",
           "upper": 409.39586639404297
          },
          {
           "lower": 269.9031265258789,
           "timepoint": 22.3,
           "trajectory": "D_sol",
           "upper": 418.3142654418945
          },
          {
           "lower": 276.00821685791016,
           "timepoint": 22.4,
           "trajectory": "D_sol",
           "upper": 427.37059020996094
          },
          {
           "lower": 282.2101455688477,
           "timepoint": 22.5,
           "trajectory": "D_sol",
           "upper": 436.5633209228516
          },
          {
           "lower": 288.5104232788086,
           "timepoint": 22.6,
           "trajectory": "D_sol",
           "upper": 445.89115753173826
          },
          {
           "lower": 294.90752563476565,
           "timepoint": 22.7,
           "trajectory": "D_sol",
           "upper": 455.35279083251953
          },
          {
           "lower": 301.40037994384767,
           "timepoint": 22.8,
           "trajectory": "D_sol",
           "upper": 464.9464813232422
          },
          {
           "lower": 307.98852386474607,
           "timepoint": 22.9,
           "trajectory": "D_sol",
           "upper": 474.6710723876953
          },
          {
           "lower": 314.59632720947263,
           "timepoint": 23,
           "trajectory": "D_sol",
           "upper": 484.5248565673828
          },
          {
           "lower": 320.7741958618164,
           "timepoint": 23.1,
           "trajectory": "D_sol",
           "upper": 494.50660247802733
          },
          {
           "lower": 327.02318420410154,
           "timepoint": 23.2,
           "trajectory": "D_sol",
           "upper": 504.68369140625
          },
          {
           "lower": 333.3418563842773,
           "timepoint": 23.3,
           "trajectory": "D_sol",
           "upper": 515.3854705810547
          },
          {
           "lower": 339.7292175292969,
           "timepoint": 23.4,
           "trajectory": "D_sol",
           "upper": 526.2270324707031
          },
          {
           "lower": 346.184309387207,
           "timepoint": 23.5,
           "trajectory": "D_sol",
           "upper": 537.2064453125
          },
          {
           "lower": 352.7053482055664,
           "timepoint": 23.6,
           "trajectory": "D_sol",
           "upper": 547.8856506347656
          },
          {
           "lower": 359.2911544799805,
           "timepoint": 23.7,
           "trajectory": "D_sol",
           "upper": 558.5903503417969
          },
          {
           "lower": 365.9403839111328,
           "timepoint": 23.8,
           "trajectory": "D_sol",
           "upper": 569.4115203857422
          },
          {
           "lower": 372.6519470214844,
           "timepoint": 23.9,
           "trajectory": "D_sol",
           "upper": 580.3480041503906
          },
          {
           "lower": 379.4243667602539,
           "timepoint": 24,
           "trajectory": "D_sol",
           "upper": 591.3977142333985
          },
          {
           "lower": 386.2565719604492,
           "timepoint": 24.1,
           "trajectory": "D_sol",
           "upper": 602.5589477539063
          },
          {
           "lower": 393.28424682617185,
           "timepoint": 24.2,
           "trajectory": "D_sol",
           "upper": 613.8297546386718
          },
          {
           "lower": 400.7047317504883,
           "timepoint": 24.3,
           "trajectory": "D_sol",
           "upper": 625.2084197998047
          },
          {
           "lower": 408.19662017822264,
           "timepoint": 24.4,
           "trajectory": "D_sol",
           "upper": 636.6933471679687
          },
          {
           "lower": 415.75855560302733,
           "timepoint": 24.5,
           "trajectory": "D_sol",
           "upper": 648.2825012207031
          },
          {
           "lower": 423.40137481689453,
           "timepoint": 24.6,
           "trajectory": "D_sol",
           "upper": 659.9742309570312
          },
          {
           "lower": 431.12598571777346,
           "timepoint": 24.7,
           "trajectory": "D_sol",
           "upper": 671.7667114257812
          },
          {
           "lower": 438.91797943115233,
           "timepoint": 24.8,
           "trajectory": "D_sol",
           "upper": 683.6576934814453
          },
          {
           "lower": 446.7764373779297,
           "timepoint": 24.9,
           "trajectory": "D_sol",
           "upper": 696.2157897949219
          },
          {
           "lower": 454.7000900268555,
           "timepoint": 25,
           "trajectory": "D_sol",
           "upper": 708.8920776367187
          },
          {
           "lower": 462.6877243041992,
           "timepoint": 25.1,
           "trajectory": "D_sol",
           "upper": 721.6756622314452
          },
          {
           "lower": 470.73828582763673,
           "timepoint": 25.2,
           "trajectory": "D_sol",
           "upper": 734.5650695800781
          },
          {
           "lower": 478.8501998901367,
           "timepoint": 25.3,
           "trajectory": "D_sol",
           "upper": 747.5580017089843
          },
          {
           "lower": 487.023046875,
           "timepoint": 25.4,
           "trajectory": "D_sol",
           "upper": 760.6533508300781
          },
          {
           "lower": 495.2554016113281,
           "timepoint": 25.5,
           "trajectory": "D_sol",
           "upper": 773.8489868164062
          },
          {
           "lower": 503.5462448120117,
           "timepoint": 25.6,
           "trajectory": "D_sol",
           "upper": 787.1432342529297
          },
          {
           "lower": 511.8944259643555,
           "timepoint": 25.7,
           "trajectory": "D_sol",
           "upper": 800.5344665527343
          },
          {
           "lower": 520.298715209961,
           "timepoint": 25.8,
           "trajectory": "D_sol",
           "upper": 814.0206115722656
          },
          {
           "lower": 528.7583526611328,
           "timepoint": 25.9,
           "trajectory": "D_sol",
           "upper": 827.6005676269531
          },
          {
           "lower": 536.8845489501953,
           "timepoint": 26,
           "trajectory": "D_sol",
           "upper": 841.2708770751952
          },
          {
           "lower": 544.8531158447265,
           "timepoint": 26.1,
           "trajectory": "D_sol",
           "upper": 855.0321472167968
          },
          {
           "lower": 552.85703125,
           "timepoint": 26.2,
           "trajectory": "D_sol",
           "upper": 868.8816192626953
          },
          {
           "lower": 560.8952941894531,
           "timepoint": 26.3,
           "trajectory": "D_sol",
           "upper": 882.8175994873046
          },
          {
           "lower": 568.9670623779297,
           "timepoint": 26.4,
           "trajectory": "D_sol",
           "upper": 896.838800048828
          },
          {
           "lower": 577.0701934814454,
           "timepoint": 26.5,
           "trajectory": "D_sol",
           "upper": 910.9433380126952
          },
          {
           "lower": 585.5787658691406,
           "timepoint": 26.6,
           "trajectory": "D_sol",
           "upper": 925.1296844482422
          },
          {
           "lower": 594.2417083740235,
           "timepoint": 26.7,
           "trajectory": "D_sol",
           "upper": 939.395620727539
          },
          {
           "lower": 602.5083404541016,
           "timepoint": 26.8,
           "trajectory": "D_sol",
           "upper": 953.7159454345702
          },
          {
           "lower": 610.8053680419922,
           "timepoint": 26.9,
           "trajectory": "D_sol",
           "upper": 968.0997039794921
          },
          {
           "lower": 619.1316345214843,
           "timepoint": 27,
           "trajectory": "D_sol",
           "upper": 982.5575927734375
          },
          {
           "lower": 627.4861053466797,
           "timepoint": 27.1,
           "trajectory": "D_sol",
           "upper": 997.0884735107421
          },
          {
           "lower": 635.8678771972657,
           "timepoint": 27.2,
           "trajectory": "D_sol",
           "upper": 1011.6906616210937
          },
          {
           "lower": 644.2751159667969,
           "timepoint": 27.3,
           "trajectory": "D_sol",
           "upper": 1026.3622436523438
          },
          {
           "lower": 652.7079803466797,
           "timepoint": 27.4,
           "trajectory": "D_sol",
           "upper": 1041.1052795410155
          },
          {
           "lower": 661.1650207519531,
           "timepoint": 27.5,
           "trajectory": "D_sol",
           "upper": 1055.9132385253906
          },
          {
           "lower": 669.6451995849609,
           "timepoint": 27.6,
           "trajectory": "D_sol",
           "upper": 1070.7867370605468
          },
          {
           "lower": 678.1477722167969,
           "timepoint": 27.7,
           "trajectory": "D_sol",
           "upper": 1085.7241516113281
          },
          {
           "lower": 686.6714172363281,
           "timepoint": 27.8,
           "trajectory": "D_sol",
           "upper": 1100.7236328125
          },
          {
           "lower": 695.2156616210938,
           "timepoint": 27.9,
           "trajectory": "D_sol",
           "upper": 1115.7846374511719
          },
          {
           "lower": 703.7806732177735,
           "timepoint": 28,
           "trajectory": "D_sol",
           "upper": 1130.9050903320312
          },
          {
           "lower": 712.3633758544922,
           "timepoint": 28.1,
           "trajectory": "D_sol",
           "upper": 1146.0872741699218
          },
          {
           "lower": 720.9639526367188,
           "timepoint": 28.2,
           "trajectory": "D_sol",
           "upper": 1161.3244934082031
          },
          {
           "lower": 729.58125,
           "timepoint": 28.3,
           "trajectory": "D_sol",
           "upper": 1176.6172729492187
          },
          {
           "lower": 738.2149017333984,
           "timepoint": 28.4,
           "trajectory": "D_sol",
           "upper": 1191.9649047851562
          },
          {
           "lower": 746.863916015625,
           "timepoint": 28.5,
           "trajectory": "D_sol",
           "upper": 1207.3659790039062
          },
          {
           "lower": 755.5273956298828,
           "timepoint": 28.6,
           "trajectory": "D_sol",
           "upper": 1222.8190612792969
          },
          {
           "lower": 764.2046844482422,
           "timepoint": 28.7,
           "trajectory": "D_sol",
           "upper": 1238.3230102539062
          },
          {
           "lower": 772.8935424804688,
           "timepoint": 28.8,
           "trajectory": "D_sol",
           "upper": 1253.8762756347655
          },
          {
           "lower": 781.5954193115234,
           "timepoint": 28.9,
           "trajectory": "D_sol",
           "upper": 1269.4763610839843
          },
          {
           "lower": 790.3086975097656,
           "timepoint": 29,
           "trajectory": "D_sol",
           "upper": 1285.1249450683595
          },
          {
           "lower": 799.0323638916016,
           "timepoint": 29.1,
           "trajectory": "D_sol",
           "upper": 1300.819403076172
          },
          {
           "lower": 807.7658538818359,
           "timepoint": 29.2,
           "trajectory": "D_sol",
           "upper": 1316.5588684082031
          },
          {
           "lower": 816.5081939697266,
           "timepoint": 29.3,
           "trajectory": "D_sol",
           "upper": 1331.7614685058593
          },
          {
           "lower": 825.2590209960938,
           "timepoint": 29.4,
           "trajectory": "D_sol",
           "upper": 1346.9159301757813
          },
          {
           "lower": 834.0172912597657,
           "timepoint": 29.5,
           "trajectory": "D_sol",
           "upper": 1362.1009155273437
          },
          {
           "lower": 842.7843719482422,
           "timepoint": 29.6,
           "trajectory": "D_sol",
           "upper": 1377.3146179199218
          },
          {
           "lower": 851.5565185546875,
           "timepoint": 29.7,
           "trajectory": "D_sol",
           "upper": 1392.5564270019531
          },
          {
           "lower": 860.3343353271484,
           "timepoint": 29.8,
           "trajectory": "D_sol",
           "upper": 1407.8250915527344
          },
          {
           "lower": 869.1172760009765,
           "timepoint": 29.9,
           "trajectory": "D_sol",
           "upper": 1423.1198852539062
          },
          {
           "lower": 877.9047302246094,
           "timepoint": 30,
           "trajectory": "D_sol",
           "upper": 1438.4398315429687
          },
          {
           "lower": 886.6958526611328,
           "timepoint": 30.1,
           "trajectory": "D_sol",
           "upper": 1453.7833740234375
          },
          {
           "lower": 895.4903289794922,
           "timepoint": 30.2,
           "trajectory": "D_sol",
           "upper": 1469.1499816894532
          },
          {
           "lower": 904.2870391845703,
           "timepoint": 30.3,
           "trajectory": "D_sol",
           "upper": 1484.5383361816405
          },
          {
           "lower": 913.085595703125,
           "timepoint": 30.4,
           "trajectory": "D_sol",
           "upper": 1499.9480712890625
          },
          {
           "lower": 921.8859069824218,
           "timepoint": 30.5,
           "trajectory": "D_sol",
           "upper": 1515.3777221679686
          },
          {
           "lower": 930.6870666503906,
           "timepoint": 30.6,
           "trajectory": "D_sol",
           "upper": 1530.8264587402343
          },
          {
           "lower": 939.4885864257812,
           "timepoint": 30.7,
           "trajectory": "D_sol",
           "upper": 1546.2938537597656
          },
          {
           "lower": 948.2896179199219,
           "timepoint": 30.8,
           "trajectory": "D_sol",
           "upper": 1561.7777587890625
          },
          {
           "lower": 957.0900970458985,
           "timepoint": 30.9,
           "trajectory": "D_sol",
           "upper": 1577.278759765625
          },
          {
           "lower": 965.8894622802734,
           "timepoint": 31,
           "trajectory": "D_sol",
           "upper": 1592.7976013183593
          },
          {
           "lower": 974.6869995117188,
           "timepoint": 31.1,
           "trajectory": "D_sol",
           "upper": 1608.329718017578
          },
          {
           "lower": 983.4822296142578,
           "timepoint": 31.2,
           "trajectory": "D_sol",
           "upper": 1623.875994873047
          },
          {
           "lower": 992.2737091064453,
           "timepoint": 31.3,
           "trajectory": "D_sol",
           "upper": 1639.4353454589843
          },
          {
           "lower": 1001.0626556396485,
           "timepoint": 31.4,
           "trajectory": "D_sol",
           "upper": 1655.0075134277342
          },
          {
           "lower": 1009.8479400634766,
           "timepoint": 31.5,
           "trajectory": "D_sol",
           "upper": 1670.5916381835937
          },
          {
           "lower": 1018.6289581298828,
           "timepoint": 31.6,
           "trajectory": "D_sol",
           "upper": 1686.186437988281
          },
          {
           "lower": 1027.4052856445312,
           "timepoint": 31.7,
           "trajectory": "D_sol",
           "upper": 1701.7919372558592
          },
          {
           "lower": 1036.1763000488281,
           "timepoint": 31.8,
           "trajectory": "D_sol",
           "upper": 1717.4064819335938
          },
          {
           "lower": 1044.9419067382812,
           "timepoint": 31.9,
           "trajectory": "D_sol",
           "upper": 1733.0301818847656
          },
          {
           "lower": 1053.7014709472655,
           "timepoint": 32,
           "trajectory": "D_sol",
           "upper": 1748.660089111328
          },
          {
           "lower": 1062.4544006347655,
           "timepoint": 32.1,
           "trajectory": "D_sol",
           "upper": 1764.298712158203
          },
          {
           "lower": 1071.2006591796876,
           "timepoint": 32.2,
           "trajectory": "D_sol",
           "upper": 1779.9447692871092
          },
          {
           "lower": 1079.942449951172,
           "timepoint": 32.3,
           "trajectory": "D_sol",
           "upper": 1795.5963317871092
          },
          {
           "lower": 1088.6749084472656,
           "timepoint": 32.4,
           "trajectory": "D_sol",
           "upper": 1811.2540039062499
          },
          {
           "lower": 1097.4165832519532,
           "timepoint": 32.5,
           "trajectory": "D_sol",
           "upper": 1826.915704345703
          },
          {
           "lower": 1106.1746215820312,
           "timepoint": 32.6,
           "trajectory": "D_sol",
           "upper": 1842.5814697265623
          },
          {
           "lower": 1114.9251586914063,
           "timepoint": 32.7,
           "trajectory": "D_sol",
           "upper": 1858.2515380859375
          },
          {
           "lower": 1123.6668701171875,
           "timepoint": 32.8,
           "trajectory": "D_sol",
           "upper": 1873.924267578125
          },
          {
           "lower": 1132.4002380371094,
           "timepoint": 32.9,
           "trajectory": "D_sol",
           "upper": 1889.5996948242187
          },
          {
           "lower": 1141.1240356445312,
           "timepoint": 33,
           "trajectory": "D_sol",
           "upper": 1905.2756286621093
          },
          {
           "lower": 1149.6492492675782,
           "timepoint": 33.1,
           "trajectory": "D_sol",
           "upper": 1920.9534851074218
          },
          {
           "lower": 1157.7559020996093,
           "timepoint": 33.2,
           "trajectory": "D_sol",
           "upper": 1936.632678222656
          },
          {
           "lower": 1165.8442443847657,
           "timepoint": 33.3,
           "trajectory": "D_sol",
           "upper": 1952.3112426757812
          },
          {
           "lower": 1173.9154418945313,
           "timepoint": 33.4,
           "trajectory": "D_sol",
           "upper": 1967.9904052734373
          },
          {
           "lower": 1181.9666076660155,
           "timepoint": 33.5,
           "trajectory": "D_sol",
           "upper": 1983.6680908203123
          },
          {
           "lower": 1189.9987060546875,
           "timepoint": 33.6,
           "trajectory": "D_sol",
           "upper": 1999.3441833496092
          },
          {
           "lower": 1198.0115600585937,
           "timepoint": 33.7,
           "trajectory": "D_sol",
           "upper": 2015.0191162109375
          },
          {
           "lower": 1206.0048583984376,
           "timepoint": 33.8,
           "trajectory": "D_sol",
           "upper": 2030.6911987304686
          },
          {
           "lower": 1214.402813720703,
           "timepoint": 33.9,
           "trajectory": "D_sol",
           "upper": 2046.361065673828
          },
          {
           "lower": 1223.565362548828,
           "timepoint": 34,
           "trajectory": "D_sol",
           "upper": 2062.0271362304684
          },
          {
           "lower": 1232.7229125976562,
           "timepoint": 34.1,
           "trajectory": "D_sol",
           "upper": 2077.689501953125
          },
          {
           "lower": 1241.8757080078126,
           "timepoint": 34.2,
           "trajectory": "D_sol",
           "upper": 2093.343908691406
          },
          {
           "lower": 1251.0228759765625,
           "timepoint": 34.3,
           "trajectory": "D_sol",
           "upper": 2108.996484375
          },
          {
           "lower": 1260.1648010253907,
           "timepoint": 34.4,
           "trajectory": "D_sol",
           "upper": 2124.6445556640624
          },
          {
           "lower": 1269.3007751464843,
           "timepoint": 34.5,
           "trajectory": "D_sol",
           "upper": 2140.2866088867186
          },
          {
           "lower": 1278.4305297851563,
           "timepoint": 34.6,
           "trajectory": "D_sol",
           "upper": 2155.92265625
          },
          {
           "lower": 1287.1770812988282,
           "timepoint": 34.7,
           "trajectory": "D_sol",
           "upper": 2171.552941894531
          },
          {
           "lower": 1295.6150634765625,
           "timepoint": 34.8,
           "trajectory": "D_sol",
           "upper": 2187.176232910156
          },
          {
           "lower": 1304.0384948730468,
           "timepoint": 34.9,
           "trajectory": "D_sol",
           "upper": 2202.7920776367187
          },
          {
           "lower": 1312.44638671875,
           "timepoint": 35,
           "trajectory": "D_sol",
           "upper": 2218.400598144531
          },
          {
           "lower": 1320.8388732910157,
           "timepoint": 35.1,
           "trajectory": "D_sol",
           "upper": 2234.001123046875
          },
          {
           "lower": 1329.2160705566407,
           "timepoint": 35.2,
           "trajectory": "D_sol",
           "upper": 2249.5941772460938
          },
          {
           "lower": 1337.577130126953,
           "timepoint": 35.3,
           "trajectory": "D_sol",
           "upper": 2265.1777954101562
          },
          {
           "lower": 1345.9225463867188,
           "timepoint": 35.4,
           "trajectory": "D_sol",
           "upper": 2280.748779296875
          },
          {
           "lower": 1354.2515930175782,
           "timepoint": 35.5,
           "trajectory": "D_sol",
           "upper": 2296.3133178710937
          },
          {
           "lower": 1362.5642639160155,
           "timepoint": 35.6,
           "trajectory": "D_sol",
           "upper": 2311.8683959960936
          },
          {
           "lower": 1370.8629028320313,
           "timepoint": 35.7,
           "trajectory": "D_sol",
           "upper": 2327.4138061523436
          },
          {
           "lower": 1379.1431396484375,
           "timepoint": 35.8,
           "trajectory": "D_sol",
           "upper": 2342.9482788085934
          },
          {
           "lower": 1387.4067810058593,
           "timepoint": 35.9,
           "trajectory": "D_sol",
           "upper": 2358.4730712890623
          },
          {
           "lower": 1395.6531799316406,
           "timepoint": 36,
           "trajectory": "D_sol",
           "upper": 2373.985754394531
          },
          {
           "lower": 1403.882501220703,
           "timepoint": 36.1,
           "trajectory": "D_sol",
           "upper": 2389.487756347656
          },
          {
           "lower": 1412.0951843261719,
           "timepoint": 36.2,
           "trajectory": "D_sol",
           "upper": 2404.9783569335937
          },
          {
           "lower": 1420.2901672363282,
           "timepoint": 36.3,
           "trajectory": "D_sol",
           "upper": 2420.4564941406247
          },
          {
           "lower": 1428.467822265625,
           "timepoint": 36.4,
           "trajectory": "D_sol",
           "upper": 2435.9232910156247
          },
          {
           "lower": 1436.6278930664062,
           "timepoint": 36.5,
           "trajectory": "D_sol",
           "upper": 2451.376721191406
          },
          {
           "lower": 1444.7702575683593,
           "timepoint": 36.6,
           "trajectory": "D_sol",
           "upper": 2466.817993164062
          },
          {
           "lower": 1452.8949401855468,
           "timepoint": 36.7,
           "trajectory": "D_sol",
           "upper": 2482.246643066406
          },
          {
           "lower": 1461.0015502929687,
           "timepoint": 36.8,
           "trajectory": "D_sol",
           "upper": 2497.663305664062
          },
          {
           "lower": 1469.0903442382812,
           "timepoint": 36.9,
           "trajectory": "D_sol",
           "upper": 2513.0652221679684
          },
          {
           "lower": 1477.1606506347657,
           "timepoint": 37,
           "trajectory": "D_sol",
           "upper": 2528.4532592773435
          },
          {
           "lower": 1485.2143432617188,
           "timepoint": 37.1,
           "trajectory": "D_sol",
           "upper": 2543.8276245117186
          },
          {
           "lower": 1493.2719665527343,
           "timepoint": 37.2,
           "trajectory": "D_sol",
           "upper": 2559.1877319335936
          },
          {
           "lower": 1501.3111389160156,
           "timepoint": 37.3,
           "trajectory": "D_sol",
           "upper": 2574.533422851562
          },
          {
           "lower": 1509.3321166992187,
           "timepoint": 37.4,
           "trajectory": "D_sol",
           "upper": 2589.865246582031
          },
          {
           "lower": 1517.3341735839845,
           "timepoint": 37.5,
           "trajectory": "D_sol",
           "upper": 2605.1810058593746
          },
          {
           "lower": 1525.3179016113281,
           "timepoint": 37.6,
           "trajectory": "D_sol",
           "upper": 2620.4816894531245
          },
          {
           "lower": 1533.2831909179688,
           "timepoint": 37.7,
           "trajectory": "D_sol",
           "upper": 2635.768078613281
          },
          {
           "lower": 1541.229425048828,
           "timepoint": 37.8,
           "trajectory": "D_sol",
           "upper": 2651.0379272460937
          },
          {
           "lower": 1549.1571044921875,
           "timepoint": 37.9,
           "trajectory": "D_sol",
           "upper": 2666.292883300781
          },
          {
           "lower": 1557.065496826172,
           "timepoint": 38,
           "trajectory": "D_sol",
           "upper": 2681.5310913085937
          },
          {
           "lower": 1564.9549621582032,
           "timepoint": 38.1,
           "trajectory": "D_sol",
           "upper": 2696.7532104492184
          },
          {
           "lower": 1572.8257385253905,
           "timepoint": 38.2,
           "trajectory": "D_sol",
           "upper": 2711.959741210937
          },
          {
           "lower": 1580.6772583007812,
           "timepoint": 38.3,
           "trajectory": "D_sol",
           "upper": 2727.154321289062
          },
          {
           "lower": 1588.5094787597657,
           "timepoint": 38.4,
           "trajectory": "D_sol",
           "upper": 2742.328918457031
          },
          {
           "lower": 1596.3218139648438,
           "timepoint": 38.5,
           "trajectory": "D_sol",
           "upper": 2757.4861816406246
          },
          {
           "lower": 1604.11533203125,
           "timepoint": 38.6,
           "trajectory": "D_sol",
           "upper": 2772.6261840820307
          },
          {
           "lower": 1611.8895690917968,
           "timepoint": 38.7,
           "trajectory": "D_sol",
           "upper": 2787.7498535156246
          },
          {
           "lower": 1619.6440307617188,
           "timepoint": 38.8,
           "trajectory": "D_sol",
           "upper": 2802.855493164062
          },
          {
           "lower": 1627.3794494628905,
           "timepoint": 38.9,
           "trajectory": "D_sol",
           "upper": 2817.944555664062
          },
          {
           "lower": 1635.0948608398437,
           "timepoint": 39,
           "trajectory": "D_sol",
           "upper": 2833.0153686523436
          },
          {
           "lower": 1642.7907409667969,
           "timepoint": 39.1,
           "trajectory": "D_sol",
           "upper": 2848.0685913085936
          },
          {
           "lower": 1650.4670959472655,
           "timepoint": 39.2,
           "trajectory": "D_sol",
           "upper": 2863.10478515625
          },
          {
           "lower": 1658.123553466797,
           "timepoint": 39.3,
           "trajectory": "D_sol",
           "upper": 2878.1217163085935
          },
          {
           "lower": 1665.7604919433593,
           "timepoint": 39.4,
           "trajectory": "D_sol",
           "upper": 2893.1217651367183
          },
          {
           "lower": 1673.3774108886719,
           "timepoint": 39.5,
           "trajectory": "D_sol",
           "upper": 2908.102319335937
          },
          {
           "lower": 1680.9743347167969,
           "timepoint": 39.6,
           "trajectory": "D_sol",
           "upper": 2923.064819335937
          },
          {
           "lower": 1688.5519104003906,
           "timepoint": 39.7,
           "trajectory": "D_sol",
           "upper": 2938.0092773437495
          },
          {
           "lower": 1696.109326171875,
           "timepoint": 39.8,
           "trajectory": "D_sol",
           "upper": 2952.934448242187
          },
          {
           "lower": 1703.6468627929687,
           "timepoint": 39.9,
           "trajectory": "D_sol",
           "upper": 2967.8429687499997
          },
          {
           "lower": 1711.1661254882813,
           "timepoint": 40,
           "trajectory": "D_sol",
           "upper": 2982.730798339843
          },
          {
           "lower": 1718.6637634277345,
           "timepoint": 40.1,
           "trajectory": "D_sol",
           "upper": 2997.600073242187
          },
          {
           "lower": 1726.1415161132813,
           "timepoint": 40.2,
           "trajectory": "D_sol",
           "upper": 3012.450109863281
          },
          {
           "lower": 1733.5989135742188,
           "timepoint": 40.3,
           "trajectory": "D_sol",
           "upper": 3027.2808105468744
          },
          {
           "lower": 1741.0367858886718,
           "timepoint": 40.4,
           "trajectory": "D_sol",
           "upper": 3042.0929809570307
          },
          {
           "lower": 1748.4540466308595,
           "timepoint": 40.5,
           "trajectory": "D_sol",
           "upper": 3056.8848754882806
          },
          {
           "lower": 1755.8513122558593,
           "timepoint": 40.6,
           "trajectory": "D_sol",
           "upper": 3071.6572631835934
          },
          {
           "lower": 1763.2284606933595,
           "timepoint": 40.7,
           "trajectory": "D_sol",
           "upper": 3086.4105957031247
          },
          {
           "lower": 1770.5854858398438,
           "timepoint": 40.8,
           "trajectory": "D_sol",
           "upper": 3101.144128417968
          },
          {
           "lower": 1777.9223999023438,
           "timepoint": 40.9,
           "trajectory": "D_sol",
           "upper": 3115.858166503906
          },
          {
           "lower": 1785.2388244628905,
           "timepoint": 41,
           "trajectory": "D_sol",
           "upper": 3130.5519531249997
          },
          {
           "lower": 1792.4857299804687,
           "timepoint": 41.1,
           "trajectory": "D_sol",
           "upper": 3145.2254516601556
          },
          {
           "lower": 1798.8867492675781,
           "timepoint": 41.2,
           "trajectory": "D_sol",
           "upper": 3159.8796752929684
          },
          {
           "lower": 1805.2610290527343,
           "timepoint": 41.3,
           "trajectory": "D_sol",
           "upper": 3174.5131225585933
          },
          {
           "lower": 1811.6089416503905,
           "timepoint": 41.4,
           "trajectory": "D_sol",
           "upper": 3189.126110839843
          },
          {
           "lower": 1817.9299926757812,
           "timepoint": 41.5,
           "trajectory": "D_sol",
           "upper": 3203.719018554687
          },
          {
           "lower": 1824.224786376953,
           "timepoint": 41.6,
           "trajectory": "D_sol",
           "upper": 3218.2916503906245
          },
          {
           "lower": 1830.4935668945313,
           "timepoint": 41.7,
           "trajectory": "D_sol",
           "upper": 3232.8442504882805
          },
          {
           "lower": 1836.7354797363282,
           "timepoint": 41.8,
           "trajectory": "D_sol",
           "upper": 3247.3758422851556
          },
          {
           "lower": 1842.9526733398438,
           "timepoint": 41.9,
           "trajectory": "D_sol",
           "upper": 3261.8874023437493
          },
          {
           "lower": 1849.1424133300782,
           "timepoint": 42,
           "trajectory": "D_sol",
           "upper": 3276.3781738281245
          },
          {
           "lower": 1855.3060180664063,
           "timepoint": 42.1,
           "trajectory": "D_sol",
           "upper": 3290.847717285156
          },
          {
           "lower": 1861.4437316894532,
           "timepoint": 42.2,
           "trajectory": "D_sol",
           "upper": 3305.297448730468
          },
          {
           "lower": 1867.5551818847657,
           "timepoint": 42.3,
           "trajectory": "D_sol",
           "upper": 3319.7261230468744
          },
          {
           "lower": 1873.6408386230469,
           "timepoint": 42.4,
           "trajectory": "D_sol",
           "upper": 3334.133813476562
          },
          {
           "lower": 1879.7004638671874,
           "timepoint": 42.5,
           "trajectory": "D_sol",
           "upper": 3348.5204711914057
          },
          {
           "lower": 1885.73408203125,
           "timepoint": 42.6,
           "trajectory": "D_sol",
           "upper": 3362.886254882812
          },
          {
           "lower": 1891.7422607421875,
           "timepoint": 42.7,
           "trajectory": "D_sol",
           "upper": 3377.231579589843
          },
          {
           "lower": 1897.7244079589843,
           "timepoint": 42.8,
           "trajectory": "D_sol",
           "upper": 3391.5553588867183
          },
          {
           "lower": 1903.6810241699218,
           "timepoint": 42.9,
           "trajectory": "D_sol",
           "upper": 3405.8586181640617
          },
          {
           "lower": 1909.6119506835937,
           "timepoint": 43,
           "trajectory": "D_sol",
           "upper": 3420.140124511718
          },
          {
           "lower": 1915.5173278808593,
           "timepoint": 43.1,
           "trajectory": "D_sol",
           "upper": 3434.3961547851554
          },
          {
           "lower": 1921.397393798828,
           "timepoint": 43.2,
           "trajectory": "D_sol",
           "upper": 3448.6351196289056
          },
          {
           "lower": 1927.2516723632812,
           "timepoint": 43.3,
           "trajectory": "D_sol",
           "upper": 3462.8523071289055
          },
          {
           "lower": 1933.080078125,
           "timepoint": 43.4,
           "trajectory": "D_sol",
           "upper": 3477.0484985351554
          },
          {
           "lower": 1938.8837280273438,
           "timepoint": 43.5,
           "trajectory": "D_sol",
           "upper": 3491.2231201171867
          },
          {
           "lower": 1944.6619445800782,
           "timepoint": 43.6,
           "trajectory": "D_sol",
           "upper": 3505.3759887695305
          },
          {
           "lower": 1950.4154479980468,
           "timepoint": 43.7,
           "trajectory": "D_sol",
           "upper": 3519.5078247070305
          },
          {
           "lower": 1956.1434020996094,
           "timepoint": 43.8,
           "trajectory": "D_sol",
           "upper": 3533.6178710937493
          },
          {
           "lower": 1961.8467590332032,
           "timepoint": 43.9,
           "trajectory": "D_sol",
           "upper": 3547.706872558593
          },
          {
           "lower": 1967.5247863769532,
           "timepoint": 44,
           "trajectory": "D_sol",
           "upper": 3561.773852539062
          },
          {
           "lower": 1973.1779846191407,
           "timepoint": 44.1,
           "trajectory": "D_sol",
           "upper": 3575.8190673828117
          },
          {
           "lower": 1978.806787109375,
           "timepoint": 44.2,
           "trajectory": "D_sol",
           "upper": 3589.8429809570307
          },
          {
           "lower": 1984.410577392578,
           "timepoint": 44.3,
           "trajectory": "D_sol",
           "upper": 3603.844860839843
          },
          {
           "lower": 1989.9897766113281,
           "timepoint": 44.4,
           "trajectory": "D_sol",
           "upper": 3617.825781249999
          },
          {
           "lower": 1995.544140625,
           "timepoint": 44.5,
           "trajectory": "D_sol",
           "upper": 3631.7841308593743
          },
          {
           "lower": 2001.0741333007813,
           "timepoint": 44.6,
           "trajectory": "D_sol",
           "upper": 3645.7208984374993
          },
          {
           "lower": 2006.580010986328,
           "timepoint": 44.7,
           "trajectory": "D_sol",
           "upper": 3659.6359374999993
          },
          {
           "lower": 2012.0609436035156,
           "timepoint": 44.8,
           "trajectory": "D_sol",
           "upper": 3673.529150390624
          },
          {
           "lower": 2017.5182312011718,
           "timepoint": 44.9,
           "trajectory": "D_sol",
           "upper": 3687.404321289062
          },
          {
           "lower": 2022.94951171875,
           "timepoint": 45,
           "trajectory": "D_sol",
           "upper": 3701.254174804687
          },
          {
           "lower": 2028.3580810546875,
           "timepoint": 45.1,
           "trajectory": "D_sol",
           "upper": 3715.0822509765617
          },
          {
           "lower": 2033.7423034667968,
           "timepoint": 45.2,
           "trajectory": "D_sol",
           "upper": 3728.8887817382806
          },
          {
           "lower": 2039.1026306152344,
           "timepoint": 45.3,
           "trajectory": "D_sol",
           "upper": 3742.673474121093
          },
          {
           "lower": 2044.4390930175782,
           "timepoint": 45.4,
           "trajectory": "D_sol",
           "upper": 3756.4366333007806
          },
          {
           "lower": 2049.7517639160155,
           "timepoint": 45.5,
           "trajectory": "D_sol",
           "upper": 3770.1772583007805
          },
          {
           "lower": 2055.04033203125,
           "timepoint": 45.6,
           "trajectory": "D_sol",
           "upper": 3783.8963256835927
          },
          {
           "lower": 2060.305389404297,
           "timepoint": 45.7,
           "trajectory": "D_sol",
           "upper": 3797.5935913085927
          },
          {
           "lower": 2065.546905517578,
           "timepoint": 45.8,
           "trajectory": "D_sol",
           "upper": 3811.2683349609365
          },
          {
           "lower": 2070.7650146484375,
           "timepoint": 45.9,
           "trajectory": "D_sol",
           "upper": 3824.9222290039056
          },
          {
           "lower": 2075.9597290039064,
           "timepoint": 46,
           "trajectory": "D_sol",
           "upper": 3838.5533447265616
          },
          {
           "lower": 2081.1309326171877,
           "timepoint": 46.1,
           "trajectory": "D_sol",
           "upper": 3852.162634277343
          },
          {
           "lower": 2086.278857421875,
           "timepoint": 46.2,
           "trajectory": "D_sol",
           "upper": 3865.7501586914054
          },
          {
           "lower": 2091.403515625,
           "timepoint": 46.3,
           "trajectory": "D_sol",
           "upper": 3879.3157348632803
          },
          {
           "lower": 2096.5051147460936,
           "timepoint": 46.4,
           "trajectory": "D_sol",
           "upper": 3892.859863281249
          },
          {
           "lower": 2101.5836669921873,
           "timepoint": 46.5,
           "trajectory": "D_sol",
           "upper": 3906.381201171874
          },
          {
           "lower": 2106.6398803710936,
           "timepoint": 46.6,
           "trajectory": "D_sol",
           "upper": 3919.8807250976556
          },
          {
           "lower": 2111.6723510742186,
           "timepoint": 46.7,
           "trajectory": "D_sol",
           "upper": 3933.359851074218
          },
          {
           "lower": 2116.682470703125,
           "timepoint": 46.8,
           "trajectory": "D_sol",
           "upper": 3946.8157226562494
          },
          {
           "lower": 2121.669812011719,
           "timepoint": 46.9,
           "trajectory": "D_sol",
           "upper": 3960.249804687499
          },
          {
           "lower": 2126.6341064453127,
           "timepoint": 47,
           "trajectory": "D_sol",
           "upper": 3973.6617919921864
          },
          {
           "lower": 2131.576062011719,
           "timepoint": 47.1,
           "trajectory": "D_sol",
           "upper": 3987.0515014648427
          },
          {
           "lower": 2136.495703125,
           "timepoint": 47.2,
           "trajectory": "D_sol",
           "upper": 4000.420300292968
          },
          {
           "lower": 2141.39296875,
           "timepoint": 47.3,
           "trajectory": "D_sol",
           "upper": 4013.7660766601552
          },
          {
           "lower": 2146.2681884765625,
           "timepoint": 47.4,
           "trajectory": "D_sol",
           "upper": 4027.0907836914052
          },
          {
           "lower": 2151.1205932617186,
           "timepoint": 47.5,
           "trajectory": "D_sol",
           "upper": 4040.3931396484368
          },
          {
           "lower": 2155.95166015625,
           "timepoint": 47.6,
           "trajectory": "D_sol",
           "upper": 4053.6734252929677
          },
          {
           "lower": 2160.760400390625,
           "timepoint": 47.7,
           "trajectory": "D_sol",
           "upper": 4066.9321533203115
          },
          {
           "lower": 2165.5470703125,
           "timepoint": 47.8,
           "trajectory": "D_sol",
           "upper": 4080.169042968749
          },
          {
           "lower": 2170.312121582031,
           "timepoint": 47.9,
           "trajectory": "D_sol",
           "upper": 4093.3843017578115
          },
          {
           "lower": 2175.055554199219,
           "timepoint": 48,
           "trajectory": "D_sol",
           "upper": 4106.577233886718
          },
          {
           "lower": 2179.7769165039062,
           "timepoint": 48.1,
           "trajectory": "D_sol",
           "upper": 4119.748120117187
          },
          {
           "lower": 2184.4743530273436,
           "timepoint": 48.2,
           "trajectory": "D_sol",
           "upper": 4132.898095703124
          },
          {
           "lower": 2189.1520385742188,
           "timepoint": 48.3,
           "trajectory": "D_sol",
           "upper": 4146.025537109374
          },
          {
           "lower": 2193.8086059570314,
           "timepoint": 48.4,
           "trajectory": "D_sol",
           "upper": 4159.131347656249
          },
          {
           "lower": 2198.4433349609376,
           "timepoint": 48.5,
           "trajectory": "D_sol",
           "upper": 4172.215087890624
          },
          {
           "lower": 2203.0569091796874,
           "timepoint": 48.6,
           "trajectory": "D_sol",
           "upper": 4185.270727539061
          },
          {
           "lower": 2207.649621582031,
           "timepoint": 48.7,
           "trajectory": "D_sol",
           "upper": 4198.310327148436
          },
          {
           "lower": 2212.220947265625,
           "timepoint": 48.8,
           "trajectory": "D_sol",
           "upper": 4211.327832031249
          },
          {
           "lower": 2216.7711669921873,
           "timepoint": 48.9,
           "trajectory": "D_sol",
           "upper": 4224.323754882811
          },
          {
           "lower": 2221.300500488281,
           "timepoint": 49,
           "trajectory": "D_sol",
           "upper": 4237.297070312499
          },
          {
           "lower": 2225.808703613281,
           "timepoint": 49.1,
           "trajectory": "D_sol",
           "upper": 4250.249731445311
          },
          {
           "lower": 2230.296728515625,
           "timepoint": 49.2,
           "trajectory": "D_sol",
           "upper": 4263.179882812499
          },
          {
           "lower": 2234.763391113281,
           "timepoint": 49.3,
           "trajectory": "D_sol",
           "upper": 4276.088378906249
          },
          {
           "lower": 2239.2096557617188,
           "timepoint": 49.4,
           "trajectory": "D_sol",
           "upper": 4288.975268554686
          },
          {
           "lower": 2243.635290527344,
           "timepoint": 49.5,
           "trajectory": "D_sol",
           "upper": 4301.840502929686
          },
          {
           "lower": 2248.040734863281,
           "timepoint": 49.6,
           "trajectory": "D_sol",
           "upper": 4314.683666992187
          },
          {
           "lower": 2252.4255493164064,
           "timepoint": 49.7,
           "trajectory": "D_sol",
           "upper": 4327.505249023437
          },
          {
           "lower": 2256.790185546875,
           "timepoint": 49.8,
           "trajectory": "D_sol",
           "upper": 4340.305615234374
          },
          {
           "lower": 2261.1344360351563,
           "timepoint": 49.9,
           "trajectory": "D_sol",
           "upper": 4353.084399414061
          },
          {
           "lower": 2265.4573364257812,
           "timepoint": 50,
           "trajectory": "D_sol",
           "upper": 4365.840624999999
          },
          {
           "lower": 2269.7612548828124,
           "timepoint": 50.1,
           "trajectory": "D_sol",
           "upper": 4378.5765624999985
          },
          {
           "lower": 2274.045458984375,
           "timepoint": 50.2,
           "trajectory": "D_sol",
           "upper": 4391.2909179687485
          },
          {
           "lower": 2278.309533691406,
           "timepoint": 50.3,
           "trajectory": "D_sol",
           "upper": 4403.983178710936
          },
          {
           "lower": 2282.5538940429688,
           "timepoint": 50.4,
           "trajectory": "D_sol",
           "upper": 4416.654272460936
          },
          {
           "lower": 2286.778125,
           "timepoint": 50.5,
           "trajectory": "D_sol",
           "upper": 4429.304052734374
          },
          {
           "lower": 2290.9826416015626,
           "timepoint": 50.6,
           "trajectory": "D_sol",
           "upper": 4441.932885742186
          },
          {
           "lower": 2295.1682006835936,
           "timepoint": 50.7,
           "trajectory": "D_sol",
           "upper": 4454.531738281249
          },
          {
           "lower": 2299.6913208007813,
           "timepoint": 50.8,
           "trajectory": "D_sol",
           "upper": 4467.115454101561
          },
          {
           "lower": 2304.4435546875,
           "timepoint": 50.9,
           "trajectory": "D_sol",
           "upper": 4479.678002929686
          },
          {
           "lower": 2309.1774047851563,
           "timepoint": 51,
           "trajectory": "D_sol",
           "upper": 4492.218481445311
          },
          {
           "lower": 2313.893359375,
           "timepoint": 51.1,
           "trajectory": "D_sol",
           "upper": 4504.7386718749985
          },
          {
           "lower": 2318.5926025390627,
           "timepoint": 51.2,
           "trajectory": "D_sol",
           "upper": 4517.236376953124
          },
          {
           "lower": 2323.273474121094,
           "timepoint": 51.3,
           "trajectory": "D_sol",
           "upper": 4529.712841796873
          },
          {
           "lower": 2327.939013671875,
           "timepoint": 51.4,
           "trajectory": "D_sol",
           "upper": 4542.168261718749
          },
          {
           "lower": 2332.5850341796877,
           "timepoint": 51.5,
           "trajectory": "D_sol",
           "upper": 4556.399414062499
          },
          {
           "lower": 2337.2136474609374,
           "timepoint": 51.6,
           "trajectory": "D_sol",
           "upper": 4570.886840820312
          },
          {
           "lower": 2341.8248657226563,
           "timepoint": 51.7,
           "trajectory": "D_sol",
           "upper": 4585.363769531249
          },
          {
           "lower": 2346.4189331054686,
           "timepoint": 51.8,
           "trajectory": "D_sol",
           "upper": 4599.830664062499
          },
          {
           "lower": 2350.9953369140626,
           "timepoint": 51.9,
           "trajectory": "D_sol",
           "upper": 4614.287060546873
          },
          {
           "lower": 2355.5548095703125,
           "timepoint": 52,
           "trajectory": "D_sol",
           "upper": 4628.732958984374
          },
          {
           "lower": 2360.096887207031,
           "timepoint": 52.1,
           "trajectory": "D_sol",
           "upper": 4643.167895507811
          },
          {
           "lower": 2364.622265625,
           "timepoint": 52.2,
           "trajectory": "D_sol",
           "upper": 4657.593749999999
          },
          {
           "lower": 2369.130261230469,
           "timepoint": 52.3,
           "trajectory": "D_sol",
           "upper": 4672.007690429687
          },
          {
           "lower": 2373.621337890625,
           "timepoint": 52.4,
           "trajectory": "D_sol",
           "upper": 4686.411596679686
          },
          {
           "lower": 2378.0954833984374,
           "timepoint": 52.5,
           "trajectory": "D_sol",
           "upper": 4700.805444335936
          },
          {
           "lower": 2382.5525024414064,
           "timepoint": 52.6,
           "trajectory": "D_sol",
           "upper": 4715.1883789062485
          },
          {
           "lower": 2386.9930786132813,
           "timepoint": 52.7,
           "trajectory": "D_sol",
           "upper": 4729.561450195311
          },
          {
           "lower": 2391.416748046875,
           "timepoint": 52.8,
           "trajectory": "D_sol",
           "upper": 4743.923876953124
          },
          {
           "lower": 2395.8237548828124,
           "timepoint": 52.9,
           "trajectory": "D_sol",
           "upper": 4758.275854492186
          },
          {
           "lower": 2400.2138671875,
           "timepoint": 53,
           "trajectory": "D_sol",
           "upper": 4772.6173339843735
          },
          {
           "lower": 2404.5875244140625,
           "timepoint": 53.1,
           "trajectory": "D_sol",
           "upper": 4786.947338867186
          },
          {
           "lower": 2408.9445556640626,
           "timepoint": 53.2,
           "trajectory": "D_sol",
           "upper": 4801.267846679686
          },
          {
           "lower": 2413.2851318359376,
           "timepoint": 53.3,
           "trajectory": "D_sol",
           "upper": 4815.577832031248
          },
          {
           "lower": 2417.61025390625,
           "timepoint": 53.4,
           "trajectory": "D_sol",
           "upper": 4829.876904296873
          },
          {
           "lower": 2421.91826171875,
           "timepoint": 53.5,
           "trajectory": "D_sol",
           "upper": 4844.166333007811
          },
          {
           "lower": 2426.209606933594,
           "timepoint": 53.6,
           "trajectory": "D_sol",
           "upper": 4858.443945312499
          },
          {
           "lower": 2430.48525390625,
           "timepoint": 53.7,
           "trajectory": "D_sol",
           "upper": 4872.712426757811
          },
          {
           "lower": 2434.7448120117188,
           "timepoint": 53.8,
           "trajectory": "D_sol",
           "upper": 4886.969970703124
          },
          {
           "lower": 2439.0442138671874,
           "timepoint": 53.9,
           "trajectory": "D_sol",
           "upper": 4901.217480468748
          },
          {
           "lower": 2443.342907714844,
           "timepoint": 54,
           "trajectory": "D_sol",
           "upper": 4915.454028320311
          },
          {
           "lower": 2447.6253662109375,
           "timepoint": 54.1,
           "trajectory": "D_sol",
           "upper": 4929.679638671873
          },
          {
           "lower": 2451.8922729492188,
           "timepoint": 54.2,
           "trajectory": "D_sol",
           "upper": 4943.896118164062
          },
          {
           "lower": 2456.1431518554687,
           "timepoint": 54.3,
           "trajectory": "D_sol",
           "upper": 4958.087768554687
          },
          {
           "lower": 2460.3787475585937,
           "timepoint": 54.4,
           "trajectory": "D_sol",
           "upper": 4972.280981445311
          },
          {
           "lower": 2464.5985473632813,
           "timepoint": 54.5,
           "trajectory": "D_sol",
           "upper": 4986.463696289061
          },
          {
           "lower": 2468.8023315429687,
           "timepoint": 54.6,
           "trajectory": "D_sol",
           "upper": 5000.635424804686
          },
          {
           "lower": 2472.9910522460937,
           "timepoint": 54.7,
           "trajectory": "D_sol",
           "upper": 5014.796728515624
          },
          {
           "lower": 2477.164208984375,
           "timepoint": 54.8,
           "trajectory": "D_sol",
           "upper": 5028.947509765624
          },
          {
           "lower": 2481.3218627929687,
           "timepoint": 54.9,
           "trajectory": "D_sol",
           "upper": 5043.088305664061
          },
          {
           "lower": 2485.4639526367187,
           "timepoint": 55,
           "trajectory": "D_sol",
           "upper": 5057.217626953124
          },
          {
           "lower": 2489.5905029296873,
           "timepoint": 55.1,
           "trajectory": "D_sol",
           "upper": 5071.336035156249
          },
          {
           "lower": 2493.70224609375,
           "timepoint": 55.2,
           "trajectory": "D_sol",
           "upper": 5085.444311523436
          },
          {
           "lower": 2497.7984252929687,
           "timepoint": 55.3,
           "trajectory": "D_sol",
           "upper": 5099.5421386718735
          },
          {
           "lower": 2501.87978515625,
           "timepoint": 55.4,
           "trajectory": "D_sol",
           "upper": 5113.629028320312
          },
          {
           "lower": 2505.946081542969,
           "timepoint": 55.5,
           "trajectory": "D_sol",
           "upper": 5127.705834960936
          },
          {
           "lower": 2509.9956909179687,
           "timepoint": 55.6,
           "trajectory": "D_sol",
           "upper": 5141.771728515624
          },
          {
           "lower": 2514.031628417969,
           "timepoint": 55.7,
           "trajectory": "D_sol",
           "upper": 5155.827636718749
          },
          {
           "lower": 2518.05263671875,
           "timepoint": 55.8,
           "trajectory": "D_sol",
           "upper": 5169.871582031249
          },
          {
           "lower": 2522.058483886719,
           "timepoint": 55.9,
           "trajectory": "D_sol",
           "upper": 5183.906518554686
          },
          {
           "lower": 2526.0494995117188,
           "timepoint": 56,
           "trajectory": "D_sol",
           "upper": 5197.929980468749
          },
          {
           "lower": 2530.025927734375,
           "timepoint": 56.1,
           "trajectory": "D_sol",
           "upper": 5211.942504882812
          },
          {
           "lower": 2533.9873168945314,
           "timepoint": 56.2,
           "trajectory": "D_sol",
           "upper": 5225.945019531248
          },
          {
           "lower": 2537.9343383789064,
           "timepoint": 56.3,
           "trajectory": "D_sol",
           "upper": 5239.937011718749
          },
          {
           "lower": 2541.866552734375,
           "timepoint": 56.4,
           "trajectory": "D_sol",
           "upper": 5253.918554687499
          },
          {
           "lower": 2545.783935546875,
           "timepoint": 56.5,
           "trajectory": "D_sol",
           "upper": 5267.889086914061
          },
          {
           "lower": 2549.686767578125,
           "timepoint": 56.6,
           "trajectory": "D_sol",
           "upper": 5281.848730468749
          },
          {
           "lower": 2553.575476074219,
           "timepoint": 56.7,
           "trajectory": "D_sol",
           "upper": 5295.798803710936
          },
          {
           "lower": 2557.9839721679687,
           "timepoint": 56.8,
           "trajectory": "D_sol",
           "upper": 5309.737426757812
          },
          {
           "lower": 2562.5279907226563,
           "timepoint": 56.9,
           "trajectory": "D_sol",
           "upper": 5323.665624999999
          },
          {
           "lower": 2567.0587524414063,
           "timepoint": 57,
           "trajectory": "D_sol",
           "upper": 5337.579125976561
          },
          {
           "lower": 2571.5760498046875,
           "timepoint": 57.1,
           "trajectory": "D_sol",
           "upper": 5351.485815429686
          },
          {
           "lower": 2576.0810302734376,
           "timepoint": 57.2,
           "trajectory": "D_sol",
           "upper": 5365.382080078124
          },
          {
           "lower": 2580.572546386719,
           "timepoint": 57.3,
           "trajectory": "D_sol",
           "upper": 5379.266894531249
          },
          {
           "lower": 2585.051513671875,
           "timepoint": 57.4,
           "trajectory": "D_sol",
           "upper": 5393.141723632812
          },
          {
           "lower": 2589.5172485351563,
           "timepoint": 57.5,
           "trajectory": "D_sol",
           "upper": 5407.006030273436
          },
          {
           "lower": 2593.9699951171874,
           "timepoint": 57.6,
           "trajectory": "D_sol",
           "upper": 5420.858911132811
          },
          {
           "lower": 2598.4097412109377,
           "timepoint": 57.7,
           "trajectory": "D_sol",
           "upper": 5434.701367187498
          },
          {
           "lower": 2602.836962890625,
           "timepoint": 57.8,
           "trajectory": "D_sol",
           "upper": 5448.533740234374
          },
          {
           "lower": 2607.2514404296876,
           "timepoint": 57.9,
           "trajectory": "D_sol",
           "upper": 5462.355224609374
          },
          {
           "lower": 2611.652941894531,
           "timepoint": 58,
           "trajectory": "D_sol",
           "upper": 5476.166015624999
          },
          {
           "lower": 2616.041650390625,
           "timepoint": 58.1,
           "trajectory": "D_sol",
           "upper": 5489.966064453124
          },
          {
           "lower": 2620.417834472656,
           "timepoint": 58.2,
           "trajectory": "D_sol",
           "upper": 5503.755688476561
          },
          {
           "lower": 2624.769909667969,
           "timepoint": 58.3,
           "trajectory": "D_sol",
           "upper": 5517.534301757812
          },
          {
           "lower": 2629.1194458007812,
           "timepoint": 58.4,
           "trajectory": "D_sol",
           "upper": 5531.302954101561
          },
          {
           "lower": 2633.4562255859373,
           "timepoint": 58.5,
           "trajectory": "D_sol",
           "upper": 5545.0597167968735
          },
          {
           "lower": 2637.7802734375,
           "timepoint": 58.6,
           "trajectory": "D_sol",
           "upper": 5558.806420898436
          },
          {
           "lower": 2642.092041015625,
           "timepoint": 58.7,
           "trajectory": "D_sol",
           "upper": 5572.543164062498
          },
          {
           "lower": 2646.3908569335936,
           "timepoint": 58.8,
           "trajectory": "D_sol",
           "upper": 5586.268041992186
          },
          {
           "lower": 2650.6771606445313,
           "timepoint": 58.9,
           "trajectory": "D_sol",
           "upper": 5599.982885742186
          },
          {
           "lower": 2654.951171875,
           "timepoint": 59,
           "trajectory": "D_sol",
           "upper": 5613.686328124999
          },
          {
           "lower": 2659.2124877929687,
           "timepoint": 59.1,
           "trajectory": "D_sol",
           "upper": 5627.380200195311
          },
          {
           "lower": 2663.4617553710937,
           "timepoint": 59.2,
           "trajectory": "D_sol",
           "upper": 5641.062719726561
          },
          {
           "lower": 2667.6980834960937,
           "timepoint": 59.3,
           "trajectory": "D_sol",
           "upper": 5654.734252929687
          },
          {
           "lower": 2671.9221435546874,
           "timepoint": 59.4,
           "trajectory": "D_sol",
           "upper": 5668.396313476561
          },
          {
           "lower": 2676.1337036132813,
           "timepoint": 59.5,
           "trajectory": "D_sol",
           "upper": 5682.046459960936
          },
          {
           "lower": 2680.333251953125,
           "timepoint": 59.6,
           "trajectory": "D_sol",
           "upper": 5695.686108398436
          },
          {
           "lower": 2684.5207641601564,
           "timepoint": 59.7,
           "trajectory": "D_sol",
           "upper": 5709.315771484374
          },
          {
           "lower": 2688.695593261719,
           "timepoint": 59.8,
           "trajectory": "D_sol",
           "upper": 5722.933593749999
          },
          {
           "lower": 2692.8581665039064,
           "timepoint": 59.9,
           "trajectory": "D_sol",
           "upper": 5736.847094726561
          },
          {
           "lower": 2697.0089599609373,
           "timepoint": 60,
           "trajectory": "D_sol",
           "upper": 5752.953491210937
          },
          {
           "lower": 2701.1472778320312,
           "timepoint": 60.1,
           "trajectory": "D_sol",
           "upper": 5769.061889648437
          },
          {
           "lower": 2705.2738037109375,
           "timepoint": 60.2,
           "trajectory": "D_sol",
           "upper": 5785.173803710936
          },
          {
           "lower": 2709.3876342773438,
           "timepoint": 60.3,
           "trajectory": "D_sol",
           "upper": 5801.286816406248
          },
          {
           "lower": 2713.48994140625,
           "timepoint": 60.4,
           "trajectory": "D_sol",
           "upper": 5817.401416015624
          },
          {
           "lower": 2717.5798950195312,
           "timepoint": 60.5,
           "trajectory": "D_sol",
           "upper": 5833.519018554686
          },
          {
           "lower": 2721.6579711914064,
           "timepoint": 60.6,
           "trajectory": "D_sol",
           "upper": 5849.637719726561
          },
          {
           "lower": 2725.7243041992188,
           "timepoint": 60.7,
           "trajectory": "D_sol",
           "upper": 5865.760375976562
          },
          {
           "lower": 2729.7783813476562,
           "timepoint": 60.8,
           "trajectory": "D_sol",
           "upper": 5881.8832031249985
          },
          {
           "lower": 2733.8253662109373,
           "timepoint": 60.9,
           "trajectory": "D_sol",
           "upper": 5898.008544921874
          },
          {
           "lower": 2737.8561767578126,
           "timepoint": 61,
           "trajectory": "D_sol",
           "upper": 5914.135961914061
          },
          {
           "lower": 300,
           "timepoint": 0,
           "trajectory": "E_sol",
           "upper": 300
          },
          {
           "lower": 306.8390426635742,
           "timepoint": 0.1,
           "trajectory": "E_sol",
           "upper": 307.6732543945312
          },
          {
           "lower": 313.8075241088867,
           "timepoint": 0.2,
           "trajectory": "E_sol",
           "upper": 315.4884292602539
          },
          {
           "lower": 320.90659484863284,
           "timepoint": 0.3,
           "trajectory": "E_sol",
           "upper": 323.451155090332
          },
          {
           "lower": 328.14391937255857,
           "timepoint": 0.4,
           "trajectory": "E_sol",
           "upper": 331.56750335693357
          },
          {
           "lower": 335.5298370361328,
           "timepoint": 0.5,
           "trajectory": "E_sol",
           "upper": 339.89717254638674
          },
          {
           "lower": 343.07762908935547,
           "timepoint": 0.6,
           "trajectory": "E_sol",
           "upper": 348.43141021728513
          },
          {
           "lower": 350.75319213867186,
           "timepoint": 0.7,
           "trajectory": "E_sol",
           "upper": 357.1632415771484
          },
          {
           "lower": 358.5822555541992,
           "timepoint": 0.8,
           "trajectory": "E_sol",
           "upper": 366.09841003417966
          },
          {
           "lower": 366.56871032714844,
           "timepoint": 0.9,
           "trajectory": "E_sol",
           "upper": 375.24300079345704
          },
          {
           "lower": 374.78504180908203,
           "timepoint": 1,
           "trajectory": "E_sol",
           "upper": 384.6023696899414
          },
          {
           "lower": 383.2481994628906,
           "timepoint": 1.1,
           "trajectory": "E_sol",
           "upper": 394.1825973510742
          },
          {
           "lower": 391.90870971679686,
           "timepoint": 1.2,
           "trajectory": "E_sol",
           "upper": 403.9893142700195
          },
          {
           "lower": 400.7200958251953,
           "timepoint": 1.3,
           "trajectory": "E_sol",
           "upper": 414.0285903930664
          },
          {
           "lower": 409.59681549072263,
           "timepoint": 1.4,
           "trajectory": "E_sol",
           "upper": 424.3075897216797
          },
          {
           "lower": 418.7340805053711,
           "timepoint": 1.5,
           "trajectory": "E_sol",
           "upper": 434.8319152832031
          },
          {
           "lower": 428.13682861328124,
           "timepoint": 1.6,
           "trajectory": "E_sol",
           "upper": 445.60838470458987
          },
          {
           "lower": 437.710986328125,
           "timepoint": 1.7,
           "trajectory": "E_sol",
           "upper": 456.64366760253904
          },
          {
           "lower": 447.35166015625,
           "timepoint": 1.8,
           "trajectory": "E_sol",
           "upper": 467.9445205688477
          },
          {
           "lower": 457.1425552368164,
           "timepoint": 1.9,
           "trajectory": "E_sol",
           "upper": 479.5166732788086
          },
          {
           "lower": 467.1365478515625,
           "timepoint": 2,
           "trajectory": "E_sol",
           "upper": 491.3428253173828
          },
          {
           "lower": 477.3364547729492,
           "timepoint": 2.1,
           "trajectory": "E_sol",
           "upper": 503.39209442138673
          },
          {
           "lower": 487.74743499755857,
           "timepoint": 2.2,
           "trajectory": "E_sol",
           "upper": 515.7270477294921
          },
          {
           "lower": 498.3759002685547,
           "timepoint": 2.3,
           "trajectory": "E_sol",
           "upper": 528.3526763916016
          },
          {
           "lower": 509.22511596679686,
           "timepoint": 2.4,
           "trajectory": "E_sol",
           "upper": 541.2772247314454
          },
          {
           "lower": 520.3011108398438,
           "timepoint": 2.5,
           "trajectory": "E_sol",
           "upper": 554.5098754882813
          },
          {
           "lower": 531.6092559814454,
           "timepoint": 2.6,
           "trajectory": "E_sol",
           "upper": 568.0578735351562
          },
          {
           "lower": 543.1550262451171,
           "timepoint": 2.7,
           "trajectory": "E_sol",
           "upper": 581.9302673339844
          },
          {
           "lower": 554.943716430664,
           "timepoint": 2.8,
           "trajectory": "E_sol",
           "upper": 596.1349456787109
          },
          {
           "lower": 566.981640625,
           "timepoint": 2.9,
           "trajectory": "E_sol",
           "upper": 610.6800933837891
          },
          {
           "lower": 579.2738433837891,
           "timepoint": 3,
           "trajectory": "E_sol",
           "upper": 625.574609375
          },
          {
           "lower": 591.8262573242188,
           "timepoint": 3.1,
           "trajectory": "E_sol",
           "upper": 640.8269409179687
          },
          {
           "lower": 604.6449127197266,
           "timepoint": 3.2,
           "trajectory": "E_sol",
           "upper": 656.4461608886719
          },
          {
           "lower": 617.7357940673828,
           "timepoint": 3.3,
           "trajectory": "E_sol",
           "upper": 672.4413146972656
          },
          {
           "lower": 631.1049346923828,
           "timepoint": 3.4,
           "trajectory": "E_sol",
           "upper": 688.8222229003907
          },
          {
           "lower": 644.7594970703125,
           "timepoint": 3.5,
           "trajectory": "E_sol",
           "upper": 705.5979370117187
          },
          {
           "lower": 658.7045227050781,
           "timepoint": 3.6,
           "trajectory": "E_sol",
           "upper": 722.7785369873047
          },
          {
           "lower": 673.0545989990235,
           "timepoint": 3.7,
           "trajectory": "E_sol",
           "upper": 740.3742156982422
          },
          {
           "lower": 687.7261505126953,
           "timepoint": 3.8,
           "trajectory": "E_sol",
           "upper": 758.3934875488281
          },
          {
           "lower": 702.7155670166015,
           "timepoint": 3.9,
           "trajectory": "E_sol",
           "upper": 776.849169921875
          },
          {
           "lower": 718.0285186767578,
           "timepoint": 4,
           "trajectory": "E_sol",
           "upper": 795.7509704589844
          },
          {
           "lower": 733.6738922119141,
           "timepoint": 4.1,
           "trajectory": "E_sol",
           "upper": 815.1099700927734
          },
          {
           "lower": 749.6583831787109,
           "timepoint": 4.2,
           "trajectory": "E_sol",
           "upper": 834.9371368408204
          },
          {
           "lower": 765.9895629882812,
           "timepoint": 4.3,
           "trajectory": "E_sol",
           "upper": 855.2452941894531
          },
          {
           "lower": 782.6747650146484,
           "timepoint": 4.4,
           "trajectory": "E_sol",
           "upper": 876.0445251464844
          },
          {
           "lower": 799.7219787597656,
           "timepoint": 4.5,
           "trajectory": "E_sol",
           "upper": 897.3475708007812
          },
          {
           "lower": 817.1391510009765,
           "timepoint": 4.6,
           "trajectory": "E_sol",
           "upper": 919.1667510986329
          },
          {
           "lower": 834.9340667724609,
           "timepoint": 4.7,
           "trajectory": "E_sol",
           "upper": 941.5147491455078
          },
          {
           "lower": 853.1034790039063,
           "timepoint": 4.8,
           "trajectory": "E_sol",
           "upper": 964.4044891357422
          },
          {
           "lower": 871.6704498291016,
           "timepoint": 4.9,
           "trajectory": "E_sol",
           "upper": 987.8480560302735
          },
          {
           "lower": 890.6352172851563,
           "timepoint": 5,
           "trajectory": "E_sol",
           "upper": 1011.8607543945312
          },
          {
           "lower": 909.8214080810546,
           "timepoint": 5.1,
           "trajectory": "E_sol",
           "upper": 1036.455810546875
          },
          {
           "lower": 929.4191741943359,
           "timepoint": 5.2,
           "trajectory": "E_sol",
           "upper": 1061.6474243164062
          },
          {
           "lower": 949.4376678466797,
           "timepoint": 5.3,
           "trajectory": "E_sol",
           "upper": 1087.4499877929688
          },
          {
           "lower": 969.8857025146484,
           "timepoint": 5.4,
           "trajectory": "E_sol",
           "upper": 1113.8783264160156
          },
          {
           "lower": 990.7725677490234,
           "timepoint": 5.5,
           "trajectory": "E_sol",
           "upper": 1140.948065185547
          },
          {
           "lower": 1012.1078491210938,
           "timepoint": 5.6,
           "trajectory": "E_sol",
           "upper": 1168.6746215820312
          },
          {
           "lower": 1033.9014282226562,
           "timepoint": 5.7,
           "trajectory": "E_sol",
           "upper": 1197.0738525390625
          },
          {
           "lower": 1056.1632568359375,
           "timepoint": 5.8,
           "trajectory": "E_sol",
           "upper": 1226.1623107910157
          },
          {
           "lower": 1078.9029724121094,
           "timepoint": 5.9,
           "trajectory": "E_sol",
           "upper": 1255.9568298339843
          },
          {
           "lower": 1102.130615234375,
           "timepoint": 6,
           "trajectory": "E_sol",
           "upper": 1286.4742431640625
          },
          {
           "lower": 1125.8580261230468,
           "timepoint": 6.1,
           "trajectory": "E_sol",
           "upper": 1317.7324829101562
          },
          {
           "lower": 1150.0951904296876,
           "timepoint": 6.2,
           "trajectory": "E_sol",
           "upper": 1349.7499633789062
          },
          {
           "lower": 1174.8533996582032,
           "timepoint": 6.3,
           "trajectory": "E_sol",
           "upper": 1382.5445678710937
          },
          {
           "lower": 1200.1438842773437,
           "timepoint": 6.4,
           "trajectory": "E_sol",
           "upper": 1416.134942626953
          },
          {
           "lower": 1225.9780029296876,
           "timepoint": 6.5,
           "trajectory": "E_sol",
           "upper": 1450.540966796875
          },
          {
           "lower": 1252.3678100585937,
           "timepoint": 6.6,
           "trajectory": "E_sol",
           "upper": 1485.7823608398437
          },
          {
           "lower": 1279.3248596191406,
           "timepoint": 6.7,
           "trajectory": "E_sol",
           "upper": 1521.8795043945313
          },
          {
           "lower": 1306.8688537597657,
           "timepoint": 6.8,
           "trajectory": "E_sol",
           "upper": 1558.8520202636719
          },
          {
           "lower": 1335.0051330566407,
           "timepoint": 6.9,
           "trajectory": "E_sol",
           "upper": 1596.7227600097656
          },
          {
           "lower": 1363.7464721679687,
           "timepoint": 7,
           "trajectory": "E_sol",
           "upper": 1635.5130920410156
          },
          {
           "lower": 1393.1060668945313,
           "timepoint": 7.1,
           "trajectory": "E_sol",
           "upper": 1675.2450866699219
          },
          {
           "lower": 1423.0973571777345,
           "timepoint": 7.2,
           "trajectory": "E_sol",
           "upper": 1715.941827392578
          },
          {
           "lower": 1453.7338928222657,
           "timepoint": 7.3,
           "trajectory": "E_sol",
           "upper": 1757.6266540527345
          },
          {
           "lower": 1485.0284240722656,
           "timepoint": 7.4,
           "trajectory": "E_sol",
           "upper": 1800.3231323242187
          },
          {
           "lower": 1516.996844482422,
           "timepoint": 7.5,
           "trajectory": "E_sol",
           "upper": 1844.0584045410155
          },
          {
           "lower": 1549.6533569335938,
           "timepoint": 7.6,
           "trajectory": "E_sol",
           "upper": 1888.8544982910155
          },
          {
           "lower": 1583.012188720703,
           "timepoint": 7.7,
           "trajectory": "E_sol",
           "upper": 1934.7382263183592
          },
          {
           "lower": 1617.089208984375,
           "timepoint": 7.8,
           "trajectory": "E_sol",
           "upper": 1981.7362915039062
          },
          {
           "lower": 1651.8992553710937,
           "timepoint": 7.9,
           "trajectory": "E_sol",
           "upper": 2029.8755798339844
          },
          {
           "lower": 1687.4584106445313,
           "timepoint": 8,
           "trajectory": "E_sol",
           "upper": 2079.183837890625
          },
          {
           "lower": 1723.7793518066405,
           "timepoint": 8.1,
           "trajectory": "E_sol",
           "upper": 2129.6865234375
          },
          {
           "lower": 1760.8839538574218,
           "timepoint": 8.2,
           "trajectory": "E_sol",
           "upper": 2181.417578125
          },
          {
           "lower": 1798.787255859375,
           "timepoint": 8.3,
           "trajectory": "E_sol",
           "upper": 2234.4049560546873
          },
          {
           "lower": 1837.5054504394532,
           "timepoint": 8.4,
           "trajectory": "E_sol",
           "upper": 2288.67900390625
          },
          {
           "lower": 1877.0568115234375,
           "timepoint": 8.5,
           "trajectory": "E_sol",
           "upper": 2344.2720336914062
          },
          {
           "lower": 1917.4590087890624,
           "timepoint": 8.6,
           "trajectory": "E_sol",
           "upper": 2401.214978027344
          },
          {
           "lower": 1958.7297241210938,
           "timepoint": 8.7,
           "trajectory": "E_sol",
           "upper": 2459.540966796875
          },
          {
           "lower": 2000.888623046875,
           "timepoint": 8.8,
           "trajectory": "E_sol",
           "upper": 2519.276123046875
          },
          {
           "lower": 2043.9580505371093,
           "timepoint": 8.9,
           "trajectory": "E_sol",
           "upper": 2580.466418457031
          },
          {
           "lower": 2087.9515625,
           "timepoint": 9,
           "trajectory": "E_sol",
           "upper": 2643.1431396484377
          },
          {
           "lower": 2132.8915771484376,
           "timepoint": 9.1,
           "trajectory": "E_sol",
           "upper": 2707.3416137695312
          },
          {
           "lower": 2178.7982543945313,
           "timepoint": 9.2,
           "trajectory": "E_sol",
           "upper": 2773.09931640625
          },
          {
           "lower": 2225.69248046875,
           "timepoint": 9.3,
           "trajectory": "E_sol",
           "upper": 2840.4541625976562
          },
          {
           "lower": 2273.5954467773436,
           "timepoint": 9.4,
           "trajectory": "E_sol",
           "upper": 2909.4384643554686
          },
          {
           "lower": 2322.5287353515623,
           "timepoint": 9.5,
           "trajectory": "E_sol",
           "upper": 2980.1020263671876
          },
          {
           "lower": 2372.516357421875,
           "timepoint": 9.6,
           "trajectory": "E_sol",
           "upper": 3052.481237792969
          },
          {
           "lower": 2423.577746582031,
           "timepoint": 9.7,
           "trajectory": "E_sol",
           "upper": 3126.617150878906
          },
          {
           "lower": 2475.7384765625,
           "timepoint": 9.8,
           "trajectory": "E_sol",
           "upper": 3202.554211425781
          },
          {
           "lower": 2529.02158203125,
           "timepoint": 9.9,
           "trajectory": "E_sol",
           "upper": 3280.3344116210938
          },
          {
           "lower": 2583.4509399414064,
           "timepoint": 10,
           "trajectory": "E_sol",
           "upper": 3360.003771972656
          },
          {
           "lower": 2639.0516723632813,
           "timepoint": 10.1,
           "trajectory": "E_sol",
           "upper": 3441.5997680664063
          },
          {
           "lower": 2695.848193359375,
           "timepoint": 10.2,
           "trajectory": "E_sol",
           "upper": 3525.1813720703126
          },
          {
           "lower": 2753.867822265625,
           "timepoint": 10.3,
           "trajectory": "E_sol",
           "upper": 3610.7927490234374
          },
          {
           "lower": 2813.129016113281,
           "timepoint": 10.4,
           "trajectory": "E_sol",
           "upper": 3698.481689453125
          },
          {
           "lower": 2873.66953125,
           "timepoint": 10.5,
           "trajectory": "E_sol",
           "upper": 3788.29970703125
          },
          {
           "lower": 2935.512561035156,
           "timepoint": 10.6,
           "trajectory": "E_sol",
           "upper": 3880.2980834960936
          },
          {
           "lower": 2998.6847290039063,
           "timepoint": 10.7,
           "trajectory": "E_sol",
           "upper": 3974.5286499023437
          },
          {
           "lower": 3063.21630859375,
           "timepoint": 10.8,
           "trajectory": "E_sol",
           "upper": 4071.045263671875
          },
          {
           "lower": 3129.134875488281,
           "timepoint": 10.9,
           "trajectory": "E_sol",
           "upper": 4169.905346679688
          },
          {
           "lower": 3196.471923828125,
           "timepoint": 11,
           "trajectory": "E_sol",
           "upper": 4271.165942382812
          },
          {
           "lower": 3265.2623291015625,
           "timepoint": 11.1,
           "trajectory": "E_sol",
           "upper": 4374.8837890625
          },
          {
           "lower": 3335.52783203125,
           "timepoint": 11.2,
           "trajectory": "E_sol",
           "upper": 4481.117993164063
          },
          {
           "lower": 3407.305773925781,
           "timepoint": 11.3,
           "trajectory": "E_sol",
           "upper": 4589.931542968749
          },
          {
           "lower": 3480.6267578125,
           "timepoint": 11.4,
           "trajectory": "E_sol",
           "upper": 4701.385546875
          },
          {
           "lower": 3555.525842285156,
           "timepoint": 11.5,
           "trajectory": "E_sol",
           "upper": 4815.540307617187
          },
          {
           "lower": 3632.036022949219,
           "timepoint": 11.6,
           "trajectory": "E_sol",
           "upper": 4932.46923828125
          },
          {
           "lower": 3710.1910034179687,
           "timepoint": 11.7,
           "trajectory": "E_sol",
           "upper": 5052.233471679688
          },
          {
           "lower": 3790.0281005859374,
           "timepoint": 11.8,
           "trajectory": "E_sol",
           "upper": 5174.905297851562
          },
          {
           "lower": 3871.5731567382813,
           "timepoint": 11.9,
           "trajectory": "E_sol",
           "upper": 5300.5513916015625
          },
          {
           "lower": 3954.87890625,
           "timepoint": 12,
           "trajectory": "E_sol",
           "upper": 5429.24658203125
          },
          {
           "lower": 4039.9763916015627,
           "timepoint": 12.1,
           "trajectory": "E_sol",
           "upper": 5561.071557617187
          },
          {
           "lower": 4126.902807617187,
           "timepoint": 12.2,
           "trajectory": "E_sol",
           "upper": 5696.0884765625
          },
          {
           "lower": 4215.699926757812,
           "timepoint": 12.3,
           "trajectory": "E_sol",
           "upper": 5834.382568359375
          },
          {
           "lower": 4306.40537109375,
           "timepoint": 12.4,
           "trajectory": "E_sol",
           "upper": 5976.0308837890625
          },
          {
           "lower": 4399.062060546875,
           "timepoint": 12.5,
           "trajectory": "E_sol",
           "upper": 6121.117504882813
          },
          {
           "lower": 4493.712377929687,
           "timepoint": 12.6,
           "trajectory": "E_sol",
           "upper": 6269.723852539062
          },
          {
           "lower": 4590.39287109375,
           "timepoint": 12.7,
           "trajectory": "E_sol",
           "upper": 6421.933349609375
          },
          {
           "lower": 4689.155786132813,
           "timepoint": 12.8,
           "trajectory": "E_sol",
           "upper": 6577.830517578125
          },
          {
           "lower": 4790.040942382812,
           "timepoint": 12.9,
           "trajectory": "E_sol",
           "upper": 6737.51201171875
          },
          {
           "lower": 4893.095434570312,
           "timepoint": 13,
           "trajectory": "E_sol",
           "upper": 6901.068383789062
          },
          {
           "lower": 4998.36533203125,
           "timepoint": 13.1,
           "trajectory": "E_sol",
           "upper": 7068.590625
          },
          {
           "lower": 5105.898022460938,
           "timepoint": 13.2,
           "trajectory": "E_sol",
           "upper": 7240.1732177734375
          },
          {
           "lower": 5215.742333984375,
           "timepoint": 13.3,
           "trajectory": "E_sol",
           "upper": 7415.917236328125
          },
          {
           "lower": 5327.9490234375,
           "timepoint": 13.4,
           "trajectory": "E_sol",
           "upper": 7595.920385742187
          },
          {
           "lower": 5442.56748046875,
           "timepoint": 13.5,
           "trajectory": "E_sol",
           "upper": 7780.307397460937
          },
          {
           "lower": 5559.650439453125,
           "timepoint": 13.6,
           "trajectory": "E_sol",
           "upper": 7969.153051757812
          },
          {
           "lower": 5679.247802734375,
           "timepoint": 13.7,
           "trajectory": "E_sol",
           "upper": 8162.57646484375
          },
          {
           "lower": 5801.417724609375,
           "timepoint": 13.8,
           "trajectory": "E_sol",
           "upper": 8360.690380859374
          },
          {
           "lower": 5926.212329101562,
           "timepoint": 13.9,
           "trajectory": "E_sol",
           "upper": 8563.60556640625
          },
          {
           "lower": 6053.689697265625,
           "timepoint": 14,
           "trajectory": "E_sol",
           "upper": 8771.442529296875
          },
          {
           "lower": 6183.907885742187,
           "timepoint": 14.1,
           "trajectory": "E_sol",
           "upper": 8984.317675781249
          },
          {
           "lower": 6316.921215820313,
           "timepoint": 14.2,
           "trajectory": "E_sol",
           "upper": 9202.353173828125
          },
          {
           "lower": 6452.7955078125,
           "timepoint": 14.3,
           "trajectory": "E_sol",
           "upper": 9425.675244140624
          },
          {
           "lower": 6591.588891601563,
           "timepoint": 14.4,
           "trajectory": "E_sol",
           "upper": 9654.40380859375
          },
          {
           "lower": 6733.365502929688,
           "timepoint": 14.5,
           "trajectory": "E_sol",
           "upper": 9888.680615234374
          },
          {
           "lower": 6878.190258789063,
           "timepoint": 14.6,
           "trajectory": "E_sol",
           "upper": 10128.633105468749
          },
          {
           "lower": 7026.1251220703125,
           "timepoint": 14.7,
           "trajectory": "E_sol",
           "upper": 10374.397802734375
          },
          {
           "lower": 7177.23984375,
           "timepoint": 14.8,
           "trajectory": "E_sol",
           "upper": 10626.118603515624
          },
          {
           "lower": 7331.59990234375,
           "timepoint": 14.9,
           "trajectory": "E_sol",
           "upper": 10883.954736328125
          },
          {
           "lower": 7489.268286132812,
           "timepoint": 15,
           "trajectory": "E_sol",
           "upper": 11148.027978515625
          },
          {
           "lower": 7650.331079101563,
           "timepoint": 15.1,
           "trajectory": "E_sol",
           "upper": 11418.497802734375
          },
          {
           "lower": 7814.8531494140625,
           "timepoint": 15.2,
           "trajectory": "E_sol",
           "upper": 11695.519384765625
          },
          {
           "lower": 7982.9083984375,
           "timepoint": 15.3,
           "trajectory": "E_sol",
           "upper": 11979.25732421875
          },
          {
           "lower": 8154.572680664062,
           "timepoint": 15.4,
           "trajectory": "E_sol",
           "upper": 12269.86435546875
          },
          {
           "lower": 8329.924267578124,
           "timepoint": 15.5,
           "trajectory": "E_sol",
           "upper": 12567.514208984374
          },
          {
           "lower": 8509.0421875,
           "timepoint": 15.6,
           "trajectory": "E_sol",
           "upper": 12872.354736328125
          },
          {
           "lower": 8692.007763671874,
           "timepoint": 15.7,
           "trajectory": "E_sol",
           "upper": 13184.5884765625
          },
          {
           "lower": 8878.908837890625,
           "timepoint": 15.8,
           "trajectory": "E_sol",
           "upper": 13504.38642578125
          },
          {
           "lower": 9069.8171875,
           "timepoint": 15.9,
           "trajectory": "E_sol",
           "upper": 13831.92529296875
          },
          {
           "lower": 9264.824365234375,
           "timepoint": 16,
           "trajectory": "E_sol",
           "upper": 14167.395703125
          },
          {
           "lower": 9464.018798828125,
           "timepoint": 16.1,
           "trajectory": "E_sol",
           "upper": 14510.988330078124
          },
          {
           "lower": 9667.488037109375,
           "timepoint": 16.2,
           "trajectory": "E_sol",
           "upper": 14862.898583984375
          },
          {
           "lower": 9875.320849609376,
           "timepoint": 16.3,
           "trajectory": "E_sol",
           "upper": 15223.31357421875
          },
          {
           "lower": 10087.61611328125,
           "timepoint": 16.4,
           "trajectory": "E_sol",
           "upper": 15592.462451171874
          },
          {
           "lower": 10304.468310546876,
           "timepoint": 16.5,
           "trajectory": "E_sol",
           "upper": 15970.54677734375
          },
          {
           "lower": 10526.010400390625,
           "timepoint": 16.6,
           "trajectory": "E_sol",
           "upper": 16357.777197265625
          },
          {
           "lower": 10752.280810546876,
           "timepoint": 16.7,
           "trajectory": "E_sol",
           "upper": 16754.37919921875
          },
          {
           "lower": 10983.404052734375,
           "timepoint": 16.8,
           "trajectory": "E_sol",
           "upper": 17160.56318359375
          },
          {
           "lower": 11219.4923828125,
           "timepoint": 16.9,
           "trajectory": "E_sol",
           "upper": 17576.58369140625
          },
          {
           "lower": 11460.64755859375,
           "timepoint": 17,
           "trajectory": "E_sol",
           "upper": 18002.680859375
          },
          {
           "lower": 11706.976953125,
           "timepoint": 17.1,
           "trajectory": "E_sol",
           "upper": 18439.070898437498
          },
          {
           "lower": 11958.59462890625,
           "timepoint": 17.2,
           "trajectory": "E_sol",
           "upper": 18886.01103515625
          },
          {
           "lower": 12215.58310546875,
           "timepoint": 17.3,
           "trajectory": "E_sol",
           "upper": 19343.75087890625
          },
          {
           "lower": 12478.106298828125,
           "timepoint": 17.4,
           "trajectory": "E_sol",
           "upper": 19812.56181640625
          },
          {
           "lower": 12746.258935546875,
           "timepoint": 17.5,
           "trajectory": "E_sol",
           "upper": 20292.70146484375
          },
          {
           "lower": 13020.164794921875,
           "timepoint": 17.6,
           "trajectory": "E_sol",
           "upper": 20784.440039062498
          },
          {
           "lower": 13299.943212890625,
           "timepoint": 17.7,
           "trajectory": "E_sol",
           "upper": 21288.10908203125
          },
          {
           "lower": 13585.713427734376,
           "timepoint": 17.8,
           "trajectory": "E_sol",
           "upper": 21803.900488281248
          },
          {
           "lower": 13877.611328125,
           "timepoint": 17.9,
           "trajectory": "E_sol",
           "upper": 22332.1595703125
          },
          {
           "lower": 14175.759912109375,
           "timepoint": 18,
           "trajectory": "E_sol",
           "upper": 22873.176855468748
          },
          {
           "lower": 14480.2982421875,
           "timepoint": 18.1,
           "trajectory": "E_sol",
           "upper": 23427.24365234375
          },
          {
           "lower": 14791.33837890625,
           "timepoint": 18.2,
           "trajectory": "E_sol",
           "upper": 23994.6591796875
          },
          {
           "lower": 15109.005517578125,
           "timepoint": 18.3,
           "trajectory": "E_sol",
           "upper": 24575.7068359375
          },
          {
           "lower": 15433.432373046875,
           "timepoint": 18.4,
           "trajectory": "E_sol",
           "upper": 25170.64892578125
          },
          {
           "lower": 15764.711181640625,
           "timepoint": 18.5,
           "trajectory": "E_sol",
           "upper": 25779.82685546875
          },
          {
           "lower": 16102.935791015625,
           "timepoint": 18.6,
           "trajectory": "E_sol",
           "upper": 26403.4349609375
          },
          {
           "lower": 16448.12822265625,
           "timepoint": 18.7,
           "trajectory": "E_sol",
           "upper": 27041.61083984375
          },
          {
           "lower": 16800.29853515625,
           "timepoint": 18.8,
           "trajectory": "E_sol",
           "upper": 27694.49951171875
          },
          {
           "lower": 17159.5318359375,
           "timepoint": 18.9,
           "trajectory": "E_sol",
           "upper": 28361.79853515625
          },
          {
           "lower": 17525.17568359375,
           "timepoint": 19,
           "trajectory": "E_sol",
           "upper": 29043.00576171875
          },
          {
           "lower": 17896.51767578125,
           "timepoint": 19.1,
           "trajectory": "E_sol",
           "upper": 29736.98212890625
          },
          {
           "lower": 18272.2306640625,
           "timepoint": 19.2,
           "trajectory": "E_sol",
           "upper": 30441.561328124997
          },
          {
           "lower": 18650.03955078125,
           "timepoint": 19.3,
           "trajectory": "E_sol",
           "upper": 31152.8841796875
          },
          {
           "lower": 19026.18330078125,
           "timepoint": 19.4,
           "trajectory": "E_sol",
           "upper": 31864.65087890625
          },
          {
           "lower": 19394.58603515625,
           "timepoint": 19.5,
           "trajectory": "E_sol",
           "upper": 32566.406640625
          },
          {
           "lower": 19745.9962890625,
           "timepoint": 19.6,
           "trajectory": "E_sol",
           "upper": 33241.929882812496
          },
          {
           "lower": 20067.05771484375,
           "timepoint": 19.7,
           "trajectory": "E_sol",
           "upper": 33868.214062499996
          },
          {
           "lower": 20340.6310546875,
           "timepoint": 19.8,
           "trajectory": "E_sol",
           "upper": 34415.194531249996
          },
          {
           "lower": 20547.766796875,
           "timepoint": 19.9,
           "trajectory": "E_sol",
           "upper": 34849.4888671875
          },
          {
           "lower": 20672.49697265625,
           "timepoint": 20,
           "trajectory": "E_sol",
           "upper": 35142.616406249996
          },
          {
           "lower": 20707.39873046875,
           "timepoint": 20.1,
           "trajectory": "E_sol",
           "upper": 35280.843945312496
          },
          {
           "lower": 20656.62646484375,
           "timepoint": 20.2,
           "trajectory": "E_sol",
           "upper": 35270.570703125
          },
          {
           "lower": 20534.13759765625,
           "timepoint": 20.3,
           "trajectory": "E_sol",
           "upper": 35135.5140625
          },
          {
           "lower": 20358.15205078125,
           "timepoint": 20.4,
           "trajectory": "E_sol",
           "upper": 34906.9759765625
          },
          {
           "lower": 20146.47685546875,
           "timepoint": 20.5,
           "trajectory": "E_sol",
           "upper": 34615.8955078125
          },
          {
           "lower": 19913.51904296875,
           "timepoint": 20.6,
           "trajectory": "E_sol",
           "upper": 34287.449414062496
          },
          {
           "lower": 19669.7783203125,
           "timepoint": 20.7,
           "trajectory": "E_sol",
           "upper": 33939.87265625
          },
          {
           "lower": 19422.61748046875,
           "timepoint": 20.8,
           "trajectory": "E_sol",
           "upper": 33585.6978515625
          },
          {
           "lower": 19177.2046875,
           "timepoint": 20.9,
           "trajectory": "E_sol",
           "upper": 33232.832421875
          },
          {
           "lower": 18935.4181640625,
           "timepoint": 21,
           "trajectory": "E_sol",
           "upper": 32886.2123046875
          },
          {
           "lower": 18698.9376953125,
           "timepoint": 21.1,
           "trajectory": "E_sol",
           "upper": 32548.71728515625
          },
          {
           "lower": 18468.5927734375,
           "timepoint": 21.2,
           "trajectory": "E_sol",
           "upper": 32221.91484375
          },
          {
           "lower": 18244.8265625,
           "timepoint": 21.3,
           "trajectory": "E_sol",
           "upper": 31906.53837890625
          },
          {
           "lower": 18027.7916015625,
           "timepoint": 21.4,
           "trajectory": "E_sol",
           "upper": 31602.86943359375
          },
          {
           "lower": 17817.5056640625,
           "timepoint": 21.5,
           "trajectory": "E_sol",
           "upper": 31310.9408203125
          },
          {
           "lower": 17621.15849609375,
           "timepoint": 21.6,
           "trajectory": "E_sol",
           "upper": 31030.41259765625
          },
          {
           "lower": 17434.3130859375,
           "timepoint": 21.7,
           "trajectory": "E_sol",
           "upper": 30746.44375
          },
          {
           "lower": 17253.63935546875,
           "timepoint": 21.8,
           "trajectory": "E_sol",
           "upper": 30462.01328125
          },
          {
           "lower": 17078.837890625,
           "timepoint": 21.9,
           "trajectory": "E_sol",
           "upper": 30188.25419921875
          },
          {
           "lower": 16909.712890625,
           "timepoint": 22,
           "trajectory": "E_sol",
           "upper": 29924.725390625
          },
          {
           "lower": 16746.0396484375,
           "timepoint": 22.1,
           "trajectory": "E_sol",
           "upper": 29671.0482421875
          },
          {
           "lower": 16587.60712890625,
           "timepoint": 22.2,
           "trajectory": "E_sol",
           "upper": 29426.81328125
          },
          {
           "lower": 16434.18623046875,
           "timepoint": 22.3,
           "trajectory": "E_sol",
           "upper": 29191.6337890625
          },
          {
           "lower": 16285.576416015625,
           "timepoint": 22.4,
           "trajectory": "E_sol",
           "upper": 28965.10595703125
          },
          {
           "lower": 16141.57529296875,
           "timepoint": 22.5,
           "trajectory": "E_sol",
           "upper": 28746.886816406248
          },
          {
           "lower": 16001.98876953125,
           "timepoint": 22.6,
           "trajectory": "E_sol",
           "upper": 28536.61689453125
          },
          {
           "lower": 15866.64970703125,
           "timepoint": 22.7,
           "trajectory": "E_sol",
           "upper": 28333.95498046875
          },
          {
           "lower": 15735.362451171875,
           "timepoint": 22.8,
           "trajectory": "E_sol",
           "upper": 28138.58466796875
          },
          {
           "lower": 15607.962548828125,
           "timepoint": 22.9,
           "trajectory": "E_sol",
           "upper": 27950.235937499998
          },
          {
           "lower": 15484.28994140625,
           "timepoint": 23,
           "trajectory": "E_sol",
           "upper": 27768.5443359375
          },
          {
           "lower": 15364.18759765625,
           "timepoint": 23.1,
           "trajectory": "E_sol",
           "upper": 27593.261816406248
          },
          {
           "lower": 15247.522607421875,
           "timepoint": 23.2,
           "trajectory": "E_sol",
           "upper": 27424.113378906248
          },
          {
           "lower": 15134.13408203125,
           "timepoint": 23.3,
           "trajectory": "E_sol",
           "upper": 27260.8447265625
          },
          {
           "lower": 15023.890185546876,
           "timepoint": 23.4,
           "trajectory": "E_sol",
           "upper": 27103.14404296875
          },
          {
           "lower": 14916.66162109375,
           "timepoint": 23.5,
           "trajectory": "E_sol",
           "upper": 26950.858496093748
          },
          {
           "lower": 14812.319970703125,
           "timepoint": 23.6,
           "trajectory": "E_sol",
           "upper": 26803.72431640625
          },
          {
           "lower": 14693.797119140625,
           "timepoint": 23.7,
           "trajectory": "E_sol",
           "upper": 26661.52685546875
          },
          {
           "lower": 14575.3634765625,
           "timepoint": 23.8,
           "trajectory": "E_sol",
           "upper": 26524.0537109375
          },
          {
           "lower": 14459.73447265625,
           "timepoint": 23.9,
           "trajectory": "E_sol",
           "upper": 26391.115332031248
          },
          {
           "lower": 14346.799658203125,
           "timepoint": 24,
           "trajectory": "E_sol",
           "upper": 26262.50244140625
          },
          {
           "lower": 14236.47705078125,
           "timepoint": 24.1,
           "trajectory": "E_sol",
           "upper": 26138.0345703125
          },
          {
           "lower": 14128.633056640625,
           "timepoint": 24.2,
           "trajectory": "E_sol",
           "upper": 26017.536328125
          },
          {
           "lower": 14023.185009765624,
           "timepoint": 24.3,
           "trajectory": "E_sol",
           "upper": 25900.839941406248
          },
          {
           "lower": 13920.040771484375,
           "timepoint": 24.4,
           "trajectory": "E_sol",
           "upper": 25811.856933593746
          },
          {
           "lower": 13819.109912109376,
           "timepoint": 24.5,
           "trajectory": "E_sol",
           "upper": 25738.56005859375
          },
          {
           "lower": 13720.301708984374,
           "timepoint": 24.6,
           "trajectory": "E_sol",
           "upper": 25668.231640625
          },
          {
           "lower": 13623.54462890625,
           "timepoint": 24.7,
           "trajectory": "E_sol",
           "upper": 25600.766699218748
          },
          {
           "lower": 13528.758935546875,
           "timepoint": 24.8,
           "trajectory": "E_sol",
           "upper": 25535.998828124997
          },
          {
           "lower": 13435.8697265625,
           "timepoint": 24.9,
           "trajectory": "E_sol",
           "upper": 25473.8294921875
          },
          {
           "lower": 13344.806005859375,
           "timepoint": 25,
           "trajectory": "E_sol",
           "upper": 25414.14150390625
          },
          {
           "lower": 13255.501318359375,
           "timepoint": 25.1,
           "trajectory": "E_sol",
           "upper": 25356.8234375
          },
          {
           "lower": 13167.860693359375,
           "timepoint": 25.2,
           "trajectory": "E_sol",
           "upper": 25301.7708984375
          },
          {
           "lower": 13081.86376953125,
           "timepoint": 25.3,
           "trajectory": "E_sol",
           "upper": 25248.93984375
          },
          {
           "lower": 12997.43212890625,
           "timepoint": 25.4,
           "trajectory": "E_sol",
           "upper": 25198.152636718747
          },
          {
           "lower": 12914.510302734376,
           "timepoint": 25.5,
           "trajectory": "E_sol",
           "upper": 25149.352636718748
          },
          {
           "lower": 12833.041064453126,
           "timepoint": 25.6,
           "trajectory": "E_sol",
           "upper": 25102.44599609375
          },
          {
           "lower": 12752.973779296875,
           "timepoint": 25.7,
           "trajectory": "E_sol",
           "upper": 25057.36083984375
          },
          {
           "lower": 12674.257666015625,
           "timepoint": 25.8,
           "trajectory": "E_sol",
           "upper": 25014.008203125
          },
          {
           "lower": 12596.8486328125,
           "timepoint": 25.9,
           "trajectory": "E_sol",
           "upper": 24972.32490234375
          },
          {
           "lower": 12520.68974609375,
           "timepoint": 26,
           "trajectory": "E_sol",
           "upper": 24932.225390624997
          },
          {
           "lower": 12445.739892578125,
           "timepoint": 26.1,
           "trajectory": "E_sol",
           "upper": 24893.64306640625
          },
          {
           "lower": 12371.958740234375,
           "timepoint": 26.2,
           "trajectory": "E_sol",
           "upper": 24856.5130859375
          },
          {
           "lower": 12301.64521484375,
           "timepoint": 26.3,
           "trajectory": "E_sol",
           "upper": 24820.7712890625
          },
          {
           "lower": 12236.0875,
           "timepoint": 26.4,
           "trajectory": "E_sol",
           "upper": 24786.351660156248
          },
          {
           "lower": 12171.48798828125,
           "timepoint": 26.5,
           "trajectory": "E_sol",
           "upper": 24753.196484375
          },
          {
           "lower": 12107.813623046875,
           "timepoint": 26.6,
           "trajectory": "E_sol",
           "upper": 24721.28984375
          },
          {
           "lower": 12045.0271484375,
           "timepoint": 26.7,
           "trajectory": "E_sol",
           "upper": 24690.51943359375
          },
          {
           "lower": 11983.082373046875,
           "timepoint": 26.8,
           "trajectory": "E_sol",
           "upper": 24660.86396484375
          },
          {
           "lower": 11921.978564453126,
           "timepoint": 26.9,
           "trajectory": "E_sol",
           "upper": 24632.2708984375
          },
          {
           "lower": 11861.67890625,
           "timepoint": 27,
           "trajectory": "E_sol",
           "upper": 24604.69453125
          },
          {
           "lower": 11802.1541015625,
           "timepoint": 27.1,
           "trajectory": "E_sol",
           "upper": 24578.091015625
          },
          {
           "lower": 11743.37958984375,
           "timepoint": 27.2,
           "trajectory": "E_sol",
           "upper": 24552.42236328125
          },
          {
           "lower": 11685.32958984375,
           "timepoint": 27.3,
           "trajectory": "E_sol",
           "upper": 24527.584375
          },
          {
           "lower": 11627.980029296876,
           "timepoint": 27.4,
           "trajectory": "E_sol",
           "upper": 24503.63056640625
          },
          {
           "lower": 11571.27685546875,
           "timepoint": 27.5,
           "trajectory": "E_sol",
           "upper": 24480.4884765625
          },
          {
           "lower": 11515.2466796875,
           "timepoint": 27.6,
           "trajectory": "E_sol",
           "upper": 24458.1193359375
          },
          {
           "lower": 11459.84951171875,
           "timepoint": 27.7,
           "trajectory": "E_sol",
           "upper": 24436.4857421875
          },
          {
           "lower": 11405.0666015625,
           "timepoint": 27.8,
           "trajectory": "E_sol",
           "upper": 24415.56123046875
          },
          {
           "lower": 11350.8728515625,
           "timepoint": 27.9,
           "trajectory": "E_sol",
           "upper": 24395.313085937498
          },
          {
           "lower": 11297.254541015625,
           "timepoint": 28,
           "trajectory": "E_sol",
           "upper": 24375.7046875
          },
          {
           "lower": 11244.19365234375,
           "timepoint": 28.1,
           "trajectory": "E_sol",
           "upper": 24356.776953125
          },
          {
           "lower": 11191.682666015626,
           "timepoint": 28.2,
           "trajectory": "E_sol",
           "upper": 24338.39697265625
          },
          {
           "lower": 11139.688427734374,
           "timepoint": 28.3,
           "trajectory": "E_sol",
           "upper": 24320.5779296875
          },
          {
           "lower": 11088.199658203124,
           "timepoint": 28.4,
           "trajectory": "E_sol",
           "upper": 24303.30361328125
          },
          {
           "lower": 11037.2064453125,
           "timepoint": 28.5,
           "trajectory": "E_sol",
           "upper": 24286.5494140625
          },
          {
           "lower": 10986.692138671875,
           "timepoint": 28.6,
           "trajectory": "E_sol",
           "upper": 24270.28076171875
          },
          {
           "lower": 10936.64453125,
           "timepoint": 28.7,
           "trajectory": "E_sol",
           "upper": 24254.48857421875
          },
          {
           "lower": 10887.050244140624,
           "timepoint": 28.8,
           "trajectory": "E_sol",
           "upper": 24239.14765625
          },
          {
           "lower": 10837.896484375,
           "timepoint": 28.9,
           "trajectory": "E_sol",
           "upper": 24224.23642578125
          },
          {
           "lower": 10789.141796875,
           "timepoint": 29,
           "trajectory": "E_sol",
           "upper": 24200.92705078125
          },
          {
           "lower": 10740.822607421875,
           "timepoint": 29.1,
           "trajectory": "E_sol",
           "upper": 24175.1607421875
          },
          {
           "lower": 10692.90595703125,
           "timepoint": 29.2,
           "trajectory": "E_sol",
           "upper": 24149.80283203125
          },
          {
           "lower": 10645.38369140625,
           "timepoint": 29.3,
           "trajectory": "E_sol",
           "upper": 24124.85986328125
          },
          {
           "lower": 10598.24296875,
           "timepoint": 29.4,
           "trajectory": "E_sol",
           "upper": 24100.27158203125
          },
          {
           "lower": 10551.473583984374,
           "timepoint": 29.5,
           "trajectory": "E_sol",
           "upper": 24076.0447265625
          },
          {
           "lower": 10505.06806640625,
           "timepoint": 29.6,
           "trajectory": "E_sol",
           "upper": 24052.003125
          },
          {
           "lower": 10459.014111328124,
           "timepoint": 29.7,
           "trajectory": "E_sol",
           "upper": 24027.4474609375
          },
          {
           "lower": 10413.33251953125,
           "timepoint": 29.8,
           "trajectory": "E_sol",
           "upper": 24003.2189453125
          },
          {
           "lower": 10367.968896484375,
           "timepoint": 29.9,
           "trajectory": "E_sol",
           "upper": 23979.2943359375
          },
          {
           "lower": 10322.93310546875,
           "timepoint": 30,
           "trajectory": "E_sol",
           "upper": 23955.66923828125
          },
          {
           "lower": 10278.2208984375,
           "timepoint": 30.1,
           "trajectory": "E_sol",
           "upper": 23932.25498046875
          },
          {
           "lower": 10233.8240234375,
           "timepoint": 30.2,
           "trajectory": "E_sol",
           "upper": 23909.1619140625
          },
          {
           "lower": 10189.736083984375,
           "timepoint": 30.3,
           "trajectory": "E_sol",
           "upper": 23886.32158203125
          },
          {
           "lower": 10145.947509765625,
           "timepoint": 30.4,
           "trajectory": "E_sol",
           "upper": 23863.730078125
          },
          {
           "lower": 10102.45322265625,
           "timepoint": 30.5,
           "trajectory": "E_sol",
           "upper": 23841.37529296875
          },
          {
           "lower": 10059.2482421875,
           "timepoint": 30.6,
           "trajectory": "E_sol",
           "upper": 23819.2439453125
          },
          {
           "lower": 10016.312841796875,
           "timepoint": 30.7,
           "trajectory": "E_sol",
           "upper": 23797.331640625
          },
          {
           "lower": 9973.66142578125,
           "timepoint": 30.8,
           "trajectory": "E_sol",
           "upper": 23775.63076171875
          },
          {
           "lower": 9931.28173828125,
           "timepoint": 30.9,
           "trajectory": "E_sol",
           "upper": 23748.372265625
          },
          {
           "lower": 9889.165869140625,
           "timepoint": 31,
           "trajectory": "E_sol",
           "upper": 23721.13671875
          },
          {
           "lower": 9847.313330078125,
           "timepoint": 31.1,
           "trajectory": "E_sol",
           "upper": 23694.0765625
          },
          {
           "lower": 9805.715380859376,
           "timepoint": 31.2,
           "trajectory": "E_sol",
           "upper": 23667.26259765625
          },
          {
           "lower": 9764.367626953124,
           "timepoint": 31.3,
           "trajectory": "E_sol",
           "upper": 23640.6515625
          },
          {
           "lower": 9723.266064453124,
           "timepoint": 31.4,
           "trajectory": "E_sol",
           "upper": 23614.2359375
          },
          {
           "lower": 9682.40849609375,
           "timepoint": 31.5,
           "trajectory": "E_sol",
           "upper": 23588.00234375
          },
          {
           "lower": 9641.758642578125,
           "timepoint": 31.6,
           "trajectory": "E_sol",
           "upper": 23561.95380859375
          },
          {
           "lower": 9601.36259765625,
           "timepoint": 31.7,
           "trajectory": "E_sol",
           "upper": 23536.07177734375
          },
          {
           "lower": 9561.1970703125,
           "timepoint": 31.8,
           "trajectory": "E_sol",
           "upper": 23510.359765625
          },
          {
           "lower": 9521.25419921875,
           "timepoint": 31.9,
           "trajectory": "E_sol",
           "upper": 23484.80595703125
          },
          {
           "lower": 9480.930078125,
           "timepoint": 32,
           "trajectory": "E_sol",
           "upper": 23459.44189453125
          },
          {
           "lower": 9439.12001953125,
           "timepoint": 32.1,
           "trajectory": "E_sol",
           "upper": 23434.19658203125
          },
          {
           "lower": 9397.543212890625,
           "timepoint": 32.2,
           "trajectory": "E_sol",
           "upper": 23409.09296875
          },
          {
           "lower": 9356.198583984375,
           "timepoint": 32.3,
           "trajectory": "E_sol",
           "upper": 23384.12822265625
          },
          {
           "lower": 9315.079443359375,
           "timepoint": 32.4,
           "trajectory": "E_sol",
           "upper": 23359.296875
          },
          {
           "lower": 9274.18466796875,
           "timepoint": 32.5,
           "trajectory": "E_sol",
           "upper": 23334.5927734375
          },
          {
           "lower": 9233.5123046875,
           "timepoint": 32.6,
           "trajectory": "E_sol",
           "upper": 23310.010546875
          },
          {
           "lower": 9193.0564453125,
           "timepoint": 32.7,
           "trajectory": "E_sol",
           "upper": 23285.549609375
          },
          {
           "lower": 9152.816259765625,
           "timepoint": 32.8,
           "trajectory": "E_sol",
           "upper": 23261.20068359375
          },
          {
           "lower": 9112.78857421875,
           "timepoint": 32.9,
           "trajectory": "E_sol",
           "upper": 23236.96357421875
          },
          {
           "lower": 9072.959521484376,
           "timepoint": 33,
           "trajectory": "E_sol",
           "upper": 23212.83837890625
          },
          {
           "lower": 9033.346875,
           "timepoint": 33.1,
           "trajectory": "E_sol",
           "upper": 23188.7412109375
          },
          {
           "lower": 8993.93681640625,
           "timepoint": 33.2,
           "trajectory": "E_sol",
           "upper": 23164.79755859375
          },
          {
           "lower": 8954.728564453126,
           "timepoint": 33.3,
           "trajectory": "E_sol",
           "upper": 23140.94619140625
          },
          {
           "lower": 8915.720263671876,
           "timepoint": 33.4,
           "trajectory": "E_sol",
           "upper": 23117.18388671875
          },
          {
           "lower": 8876.91064453125,
           "timepoint": 33.5,
           "trajectory": "E_sol",
           "upper": 23093.51015625
          },
          {
           "lower": 8838.29609375,
           "timepoint": 33.6,
           "trajectory": "E_sol",
           "upper": 23069.923046875
          },
          {
           "lower": 8799.874560546876,
           "timepoint": 33.7,
           "trajectory": "E_sol",
           "upper": 23046.41142578125
          },
          {
           "lower": 8761.645849609375,
           "timepoint": 33.8,
           "trajectory": "E_sol",
           "upper": 23022.980566406248
          },
          {
           "lower": 8723.604296875,
           "timepoint": 33.9,
           "trajectory": "E_sol",
           "upper": 22999.62685546875
          },
          {
           "lower": 8685.75361328125,
           "timepoint": 34,
           "trajectory": "E_sol",
           "upper": 22976.34267578125
          },
          {
           "lower": 8648.069189453125,
           "timepoint": 34.1,
           "trajectory": "E_sol",
           "upper": 22953.131640625
          },
          {
           "lower": 8610.58046875,
           "timepoint": 34.2,
           "trajectory": "E_sol",
           "upper": 22930.00078125
          },
          {
           "lower": 8573.274853515624,
           "timepoint": 34.3,
           "trajectory": "E_sol",
           "upper": 22906.923437499998
          },
          {
           "lower": 8536.147607421875,
           "timepoint": 34.4,
           "trajectory": "E_sol",
           "upper": 22883.908300781248
          },
          {
           "lower": 8499.19970703125,
           "timepoint": 34.5,
           "trajectory": "E_sol",
           "upper": 22860.95830078125
          },
          {
           "lower": 8462.428955078125,
           "timepoint": 34.6,
           "trajectory": "E_sol",
           "upper": 22838.067968749998
          },
          {
           "lower": 8425.830712890625,
           "timepoint": 34.7,
           "trajectory": "E_sol",
           "upper": 22815.233496093748
          },
          {
           "lower": 8389.408715820313,
           "timepoint": 34.8,
           "trajectory": "E_sol",
           "upper": 22792.45673828125
          },
          {
           "lower": 8353.15625,
           "timepoint": 34.9,
           "trajectory": "E_sol",
           "upper": 22769.733496093748
          },
          {
           "lower": 8317.138159179687,
           "timepoint": 35,
           "trajectory": "E_sol",
           "upper": 22747.0642578125
          },
          {
           "lower": 8281.305639648437,
           "timepoint": 35.1,
           "trajectory": "E_sol",
           "upper": 22724.444921874998
          },
          {
           "lower": 8245.636962890625,
           "timepoint": 35.2,
           "trajectory": "E_sol",
           "upper": 22701.875585937498
          },
          {
           "lower": 8210.132177734375,
           "timepoint": 35.3,
           "trajectory": "E_sol",
           "upper": 22679.35400390625
          },
          {
           "lower": 8174.79296875,
           "timepoint": 35.4,
           "trajectory": "E_sol",
           "upper": 22656.87861328125
          },
          {
           "lower": 8139.61796875,
           "timepoint": 35.5,
           "trajectory": "E_sol",
           "upper": 22634.4306640625
          },
          {
           "lower": 8104.605737304688,
           "timepoint": 35.6,
           "trajectory": "E_sol",
           "upper": 22612.04375
          },
          {
           "lower": 8069.751928710937,
           "timepoint": 35.7,
           "trajectory": "E_sol",
           "upper": 22589.69326171875
          },
          {
           "lower": 8035.058837890625,
           "timepoint": 35.8,
           "trajectory": "E_sol",
           "upper": 22567.388671875
          },
          {
           "lower": 8000.524487304688,
           "timepoint": 35.9,
           "trajectory": "E_sol",
           "upper": 22545.12255859375
          },
          {
           "lower": 7966.147143554687,
           "timepoint": 36,
           "trajectory": "E_sol",
           "upper": 22522.898535156248
          },
          {
           "lower": 7931.9266357421875,
           "timepoint": 36.1,
           "trajectory": "E_sol",
           "upper": 22500.71083984375
          },
          {
           "lower": 7897.860571289062,
           "timepoint": 36.2,
           "trajectory": "E_sol",
           "upper": 22478.561621093748
          },
          {
           "lower": 7863.95,
           "timepoint": 36.3,
           "trajectory": "E_sol",
           "upper": 22456.44853515625
          },
          {
           "lower": 7830.190991210938,
           "timepoint": 36.4,
           "trajectory": "E_sol",
           "upper": 22434.36640625
          },
          {
           "lower": 7796.585888671875,
           "timepoint": 36.5,
           "trajectory": "E_sol",
           "upper": 22412.3205078125
          },
          {
           "lower": 7763.105908203125,
           "timepoint": 36.6,
           "trajectory": "E_sol",
           "upper": 22390.309179687498
          },
          {
           "lower": 7729.795874023437,
           "timepoint": 36.7,
           "trajectory": "E_sol",
           "upper": 22368.3283203125
          },
          {
           "lower": 7696.635473632812,
           "timepoint": 36.8,
           "trajectory": "E_sol",
           "upper": 22346.380078125
          },
          {
           "lower": 7663.621337890625,
           "timepoint": 36.9,
           "trajectory": "E_sol",
           "upper": 22324.4642578125
          },
          {
           "lower": 7630.75537109375,
           "timepoint": 37,
           "trajectory": "E_sol",
           "upper": 22302.57939453125
          },
          {
           "lower": 7598.03603515625,
           "timepoint": 37.1,
           "trajectory": "E_sol",
           "upper": 22280.72294921875
          },
          {
           "lower": 7565.460229492188,
           "timepoint": 37.2,
           "trajectory": "E_sol",
           "upper": 22258.89521484375
          },
          {
           "lower": 7533.02939453125,
           "timepoint": 37.3,
           "trajectory": "E_sol",
           "upper": 22237.09794921875
          },
          {
           "lower": 7500.741381835937,
           "timepoint": 37.4,
           "trajectory": "E_sol",
           "upper": 22215.329296875
          },
          {
           "lower": 7468.597119140625,
           "timepoint": 37.5,
           "trajectory": "E_sol",
           "upper": 22193.5857421875
          },
          {
           "lower": 7436.593774414063,
           "timepoint": 37.6,
           "trajectory": "E_sol",
           "upper": 22171.8724609375
          },
          {
           "lower": 7404.7302734375,
           "timepoint": 37.7,
           "trajectory": "E_sol",
           "upper": 22150.186132812498
          },
          {
           "lower": 7373.008081054688,
           "timepoint": 37.8,
           "trajectory": "E_sol",
           "upper": 22128.5263671875
          },
          {
           "lower": 7341.423828125,
           "timepoint": 37.9,
           "trajectory": "E_sol",
           "upper": 22106.893359374997
          },
          {
           "lower": 7309.9859375,
           "timepoint": 38,
           "trajectory": "E_sol",
           "upper": 22085.2833984375
          },
          {
           "lower": 7278.67900390625,
           "timepoint": 38.1,
           "trajectory": "E_sol",
           "upper": 22063.7001953125
          },
          {
           "lower": 7247.5093994140625,
           "timepoint": 38.2,
           "trajectory": "E_sol",
           "upper": 22042.1435546875
          },
          {
           "lower": 7216.477221679687,
           "timepoint": 38.3,
           "trajectory": "E_sol",
           "upper": 22020.609960937498
          },
          {
           "lower": 7185.578588867187,
           "timepoint": 38.4,
           "trajectory": "E_sol",
           "upper": 21999.0509765625
          },
          {
           "lower": 7154.817626953125,
           "timepoint": 38.5,
           "trajectory": "E_sol",
           "upper": 21977.55390625
          },
          {
           "lower": 7124.1896484375,
           "timepoint": 38.6,
           "trajectory": "E_sol",
           "upper": 21956.076269531248
          },
          {
           "lower": 7093.694653320313,
           "timepoint": 38.7,
           "trajectory": "E_sol",
           "upper": 21934.626171875
          },
          {
           "lower": 7063.333251953125,
           "timepoint": 38.8,
           "trajectory": "E_sol",
           "upper": 21913.19892578125
          },
          {
           "lower": 7033.1033935546875,
           "timepoint": 38.9,
           "trajectory": "E_sol",
           "upper": 21891.787207031248
          },
          {
           "lower": 7003.006103515625,
           "timepoint": 39,
           "trajectory": "E_sol",
           "upper": 21870.40185546875
          },
          {
           "lower": 6973.0404296875,
           "timepoint": 39.1,
           "trajectory": "E_sol",
           "upper": 21849.03564453125
          },
          {
           "lower": 6943.202905273438,
           "timepoint": 39.2,
           "trajectory": "E_sol",
           "upper": 21827.690234374997
          },
          {
           "lower": 6913.497900390625,
           "timepoint": 39.3,
           "trajectory": "E_sol",
           "upper": 21806.365820312498
          },
          {
           "lower": 6883.905737304687,
           "timepoint": 39.4,
           "trajectory": "E_sol",
           "upper": 21785.06044921875
          },
          {
           "lower": 6854.453393554688,
           "timepoint": 39.5,
           "trajectory": "E_sol",
           "upper": 21763.776171874997
          },
          {
           "lower": 6825.129223632813,
           "timepoint": 39.6,
           "trajectory": "E_sol",
           "upper": 21742.5087890625
          },
          {
           "lower": 6795.930810546875,
           "timepoint": 39.7,
           "trajectory": "E_sol",
           "upper": 21721.26611328125
          },
          {
           "lower": 6766.859155273438,
           "timepoint": 39.8,
           "trajectory": "E_sol",
           "upper": 21700.03876953125
          },
          {
           "lower": 6737.912109375,
           "timepoint": 39.9,
           "trajectory": "E_sol",
           "upper": 21678.82861328125
          },
          {
           "lower": 6709.0914306640625,
           "timepoint": 40,
           "trajectory": "E_sol",
           "upper": 21657.6595703125
          },
          {
           "lower": 6680.394555664063,
           "timepoint": 40.1,
           "trajectory": "E_sol",
           "upper": 21636.49111328125
          },
          {
           "lower": 6651.820483398437,
           "timepoint": 40.2,
           "trajectory": "E_sol",
           "upper": 21615.34248046875
          },
          {
           "lower": 6623.369799804687,
           "timepoint": 40.3,
           "trajectory": "E_sol",
           "upper": 21594.212011718748
          },
          {
           "lower": 6595.04091796875,
           "timepoint": 40.4,
           "trajectory": "E_sol",
           "upper": 21573.098730468748
          },
          {
           "lower": 6566.834936523437,
           "timepoint": 40.5,
           "trajectory": "E_sol",
           "upper": 21552.00634765625
          },
          {
           "lower": 6538.749853515625,
           "timepoint": 40.6,
           "trajectory": "E_sol",
           "upper": 21530.9291015625
          },
          {
           "lower": 6510.785083007812,
           "timepoint": 40.7,
           "trajectory": "E_sol",
           "upper": 21509.869140625
          },
          {
           "lower": 6482.947290039063,
           "timepoint": 40.8,
           "trajectory": "E_sol",
           "upper": 21488.829882812497
          },
          {
           "lower": 6455.2232666015625,
           "timepoint": 40.9,
           "trajectory": "E_sol",
           "upper": 21467.8041015625
          },
          {
           "lower": 6427.619677734375,
           "timepoint": 41,
           "trajectory": "E_sol",
           "upper": 21446.7990234375
          },
          {
           "lower": 6400.135009765625,
           "timepoint": 41.1,
           "trajectory": "E_sol",
           "upper": 21425.811328124997
          },
          {
           "lower": 6372.766845703125,
           "timepoint": 41.2,
           "trajectory": "E_sol",
           "upper": 21404.84052734375
          },
          {
           "lower": 6345.517626953125,
           "timepoint": 41.3,
           "trajectory": "E_sol",
           "upper": 21383.8869140625
          },
          {
           "lower": 6318.3848876953125,
           "timepoint": 41.4,
           "trajectory": "E_sol",
           "upper": 21362.950390625
          },
          {
           "lower": 6291.369091796875,
           "timepoint": 41.5,
           "trajectory": "E_sol",
           "upper": 21342.02724609375
          },
          {
           "lower": 6264.469311523438,
           "timepoint": 41.6,
           "trajectory": "E_sol",
           "upper": 21321.12880859375
          },
          {
           "lower": 6237.684106445313,
           "timepoint": 41.7,
           "trajectory": "E_sol",
           "upper": 21300.24365234375
          },
          {
           "lower": 6211.015795898437,
           "timepoint": 41.8,
           "trajectory": "E_sol",
           "upper": 21279.371484375
          },
          {
           "lower": 6184.459716796875,
           "timepoint": 41.9,
           "trajectory": "E_sol",
           "upper": 21258.51826171875
          },
          {
           "lower": 6158.018627929688,
           "timepoint": 42,
           "trajectory": "E_sol",
           "upper": 21237.680273437498
          },
          {
           "lower": 6131.691552734375,
           "timepoint": 42.1,
           "trajectory": "E_sol",
           "upper": 21216.861328125
          },
          {
           "lower": 6105.466845703125,
           "timepoint": 42.2,
           "trajectory": "E_sol",
           "upper": 21196.05556640625
          },
          {
           "lower": 6079.3631591796875,
           "timepoint": 42.3,
           "trajectory": "E_sol",
           "upper": 21175.27236328125
          },
          {
           "lower": 6053.371020507812,
           "timepoint": 42.4,
           "trajectory": "E_sol",
           "upper": 21154.49892578125
          },
          {
           "lower": 6027.4901123046875,
           "timepoint": 42.5,
           "trajectory": "E_sol",
           "upper": 21133.7462890625
          },
          {
           "lower": 6001.72080078125,
           "timepoint": 42.6,
           "trajectory": "E_sol",
           "upper": 21113.0087890625
          },
          {
           "lower": 5976.0611328125,
           "timepoint": 42.7,
           "trajectory": "E_sol",
           "upper": 21092.288378906247
          },
          {
           "lower": 5950.511645507812,
           "timepoint": 42.8,
           "trajectory": "E_sol",
           "upper": 21071.58125
          },
          {
           "lower": 5925.069287109375,
           "timepoint": 42.9,
           "trajectory": "E_sol",
           "upper": 21050.894824218747
          },
          {
           "lower": 5899.738110351563,
           "timepoint": 43,
           "trajectory": "E_sol",
           "upper": 21030.223632812496
          },
          {
           "lower": 5874.515112304687,
           "timepoint": 43.1,
           "trajectory": "E_sol",
           "upper": 21009.5658203125
          },
          {
           "lower": 5849.39892578125,
           "timepoint": 43.2,
           "trajectory": "E_sol",
           "upper": 20988.928710937496
          },
          {
           "lower": 5824.39091796875,
           "timepoint": 43.3,
           "trajectory": "E_sol",
           "upper": 20968.276953124998
          },
          {
           "lower": 5799.489184570312,
           "timepoint": 43.4,
           "trajectory": "E_sol",
           "upper": 20947.66279296875
          },
          {
           "lower": 5774.694677734375,
           "timepoint": 43.5,
           "trajectory": "E_sol",
           "upper": 20927.067382812496
          },
          {
           "lower": 5750.0059814453125,
           "timepoint": 43.6,
           "trajectory": "E_sol",
           "upper": 20906.487792968746
          },
          {
           "lower": 5725.421606445312,
           "timepoint": 43.7,
           "trajectory": "E_sol",
           "upper": 20885.922949218748
          },
          {
           "lower": 5700.947192382812,
           "timepoint": 43.8,
           "trajectory": "E_sol",
           "upper": 20865.3732421875
          },
          {
           "lower": 5676.5723876953125,
           "timepoint": 43.9,
           "trajectory": "E_sol",
           "upper": 20844.83876953125
          },
          {
           "lower": 5652.3038330078125,
           "timepoint": 44,
           "trajectory": "E_sol",
           "upper": 20824.319433593748
          },
          {
           "lower": 5628.138598632812,
           "timepoint": 44.1,
           "trajectory": "E_sol",
           "upper": 20803.818945312498
          },
          {
           "lower": 5604.076220703125,
           "timepoint": 44.2,
           "trajectory": "E_sol",
           "upper": 20783.33193359375
          },
          {
           "lower": 5580.116235351563,
           "timepoint": 44.3,
           "trajectory": "E_sol",
           "upper": 20762.859960937498
          },
          {
           "lower": 5556.25849609375,
           "timepoint": 44.4,
           "trajectory": "E_sol",
           "upper": 20742.40322265625
          },
          {
           "lower": 5532.504150390625,
           "timepoint": 44.5,
           "trajectory": "E_sol",
           "upper": 20721.961523437498
          },
          {
           "lower": 5508.850732421875,
           "timepoint": 44.6,
           "trajectory": "E_sol",
           "upper": 20701.538867187497
          },
          {
           "lower": 5485.297265625,
           "timepoint": 44.7,
           "trajectory": "E_sol",
           "upper": 20681.12763671875
          },
          {
           "lower": 5461.845629882812,
           "timepoint": 44.8,
           "trajectory": "E_sol",
           "upper": 20660.735351562496
          },
          {
           "lower": 5438.493432617188,
           "timepoint": 44.9,
           "trajectory": "E_sol",
           "upper": 20640.35634765625
          },
          {
           "lower": 5415.24072265625,
           "timepoint": 45,
           "trajectory": "E_sol",
           "upper": 20619.996191406248
          },
          {
           "lower": 5392.0888671875,
           "timepoint": 45.1,
           "trajectory": "E_sol",
           "upper": 20599.629003906248
          },
          {
           "lower": 5369.033544921875,
           "timepoint": 45.2,
           "trajectory": "E_sol",
           "upper": 20579.29365234375
          },
          {
           "lower": 5346.078173828125,
           "timepoint": 45.3,
           "trajectory": "E_sol",
           "upper": 20558.975390624997
          },
          {
           "lower": 5323.221655273437,
           "timepoint": 45.4,
           "trajectory": "E_sol",
           "upper": 20538.668554687498
          },
          {
           "lower": 5300.462182617188,
           "timepoint": 45.5,
           "trajectory": "E_sol",
           "upper": 20524.510742187496
          },
          {
           "lower": 5277.79970703125,
           "timepoint": 45.6,
           "trajectory": "E_sol",
           "upper": 20511.372265625
          },
          {
           "lower": 5255.233715820313,
           "timepoint": 45.7,
           "trajectory": "E_sol",
           "upper": 20498.23408203125
          },
          {
           "lower": 5232.7638671875,
           "timepoint": 45.8,
           "trajectory": "E_sol",
           "upper": 20485.098144531246
          },
          {
           "lower": 5210.389477539063,
           "timepoint": 45.9,
           "trajectory": "E_sol",
           "upper": 20472.008789062496
          },
          {
           "lower": 5188.11171875,
           "timepoint": 46,
           "trajectory": "E_sol",
           "upper": 20458.884570312497
          },
          {
           "lower": 5165.928930664062,
           "timepoint": 46.1,
           "trajectory": "E_sol",
           "upper": 20445.76630859375
          },
          {
           "lower": 5143.8397216796875,
           "timepoint": 46.2,
           "trajectory": "E_sol",
           "upper": 20432.646484374996
          },
          {
           "lower": 5121.846508789063,
           "timepoint": 46.3,
           "trajectory": "E_sol",
           "upper": 20419.532519531247
          },
          {
           "lower": 5099.945947265625,
           "timepoint": 46.4,
           "trajectory": "E_sol",
           "upper": 20406.42080078125
          },
          {
           "lower": 5078.139453125,
           "timepoint": 46.5,
           "trajectory": "E_sol",
           "upper": 20393.31318359375
          },
          {
           "lower": 5056.425122070313,
           "timepoint": 46.6,
           "trajectory": "E_sol",
           "upper": 20380.20771484375
          },
          {
           "lower": 5034.804296875,
           "timepoint": 46.7,
           "trajectory": "E_sol",
           "upper": 20367.10615234375
          },
          {
           "lower": 5013.276147460938,
           "timepoint": 46.8,
           "trajectory": "E_sol",
           "upper": 20354.006933593748
          },
          {
           "lower": 4991.839135742188,
           "timepoint": 46.9,
           "trajectory": "E_sol",
           "upper": 20340.90986328125
          },
          {
           "lower": 4970.49423828125,
           "timepoint": 47,
           "trajectory": "E_sol",
           "upper": 20327.820605468747
          },
          {
           "lower": 4949.240966796875,
           "timepoint": 47.1,
           "trajectory": "E_sol",
           "upper": 20314.729785156247
          },
          {
           "lower": 4928.076928710938,
           "timepoint": 47.2,
           "trajectory": "E_sol",
           "upper": 20301.644824218747
          },
          {
           "lower": 4907.003588867187,
           "timepoint": 47.3,
           "trajectory": "E_sol",
           "upper": 20288.562109374998
          },
          {
           "lower": 4886.020849609375,
           "timepoint": 47.4,
           "trajectory": "E_sol",
           "upper": 20275.480078124998
          },
          {
           "lower": 4865.12685546875,
           "timepoint": 47.5,
           "trajectory": "E_sol",
           "upper": 20262.407226562496
          },
          {
           "lower": 4844.322583007813,
           "timepoint": 47.6,
           "trajectory": "E_sol",
           "upper": 20249.334570312498
          },
          {
           "lower": 4823.606469726563,
           "timepoint": 47.7,
           "trajectory": "E_sol",
           "upper": 20236.264160156246
          },
          {
           "lower": 4802.979565429688,
           "timepoint": 47.8,
           "trajectory": "E_sol",
           "upper": 20223.2015625
          },
          {
           "lower": 4782.439965820313,
           "timepoint": 47.9,
           "trajectory": "E_sol",
           "upper": 20210.111328124996
          },
          {
           "lower": 4761.989013671875,
           "timepoint": 48,
           "trajectory": "E_sol",
           "upper": 20197.04951171875
          },
          {
           "lower": 4741.6244140625,
           "timepoint": 48.1,
           "trajectory": "E_sol",
           "upper": 20183.9896484375
          },
          {
           "lower": 4721.346997070313,
           "timepoint": 48.2,
           "trajectory": "E_sol",
           "upper": 20170.933886718747
          },
          {
           "lower": 4701.1568603515625,
           "timepoint": 48.3,
           "trajectory": "E_sol",
           "upper": 20157.878515624998
          },
          {
           "lower": 4681.0511474609375,
           "timepoint": 48.4,
           "trajectory": "E_sol",
           "upper": 20144.828906249997
          },
          {
           "lower": 4661.032568359375,
           "timepoint": 48.5,
           "trajectory": "E_sol",
           "upper": 20131.779882812498
          },
          {
           "lower": 4641.098901367188,
           "timepoint": 48.6,
           "trajectory": "E_sol",
           "upper": 20118.736621093747
          },
          {
           "lower": 4621.249975585937,
           "timepoint": 48.7,
           "trajectory": "E_sol",
           "upper": 20105.693652343747
          },
          {
           "lower": 4601.488305664063,
           "timepoint": 48.8,
           "trajectory": "E_sol",
           "upper": 20092.656542968747
          },
          {
           "lower": 4581.808544921875,
           "timepoint": 48.9,
           "trajectory": "E_sol",
           "upper": 20079.61982421875
          },
          {
           "lower": 4562.213110351562,
           "timepoint": 49,
           "trajectory": "E_sol",
           "upper": 20066.5873046875
          },
          {
           "lower": 4542.702001953125,
           "timepoint": 49.1,
           "trajectory": "E_sol",
           "upper": 20053.5568359375
          },
          {
           "lower": 4523.273779296875,
           "timepoint": 49.2,
           "trajectory": "E_sol",
           "upper": 20040.530371093748
          },
          {
           "lower": 4503.927978515625,
           "timepoint": 49.3,
           "trajectory": "E_sol",
           "upper": 20027.506152343747
          },
          {
           "lower": 4484.665014648437,
           "timepoint": 49.4,
           "trajectory": "E_sol",
           "upper": 20014.485937499998
          },
          {
           "lower": 4465.4842529296875,
           "timepoint": 49.5,
           "trajectory": "E_sol",
           "upper": 20001.469921875
          },
          {
           "lower": 4446.385546875,
           "timepoint": 49.6,
           "trajectory": "E_sol",
           "upper": 19988.452929687497
          },
          {
           "lower": 4427.367724609375,
           "timepoint": 49.7,
           "trajectory": "E_sol",
           "upper": 19975.44111328125
          },
          {
           "lower": 4408.431372070312,
           "timepoint": 49.8,
           "trajectory": "E_sol",
           "upper": 19962.43154296875
          },
          {
           "lower": 4389.575390625,
           "timepoint": 49.9,
           "trajectory": "E_sol",
           "upper": 19949.427734375
          },
          {
           "lower": 4370.800366210938,
           "timepoint": 50,
           "trajectory": "E_sol",
           "upper": 19936.42431640625
          },
          {
           "lower": 4352.1052734375,
           "timepoint": 50.1,
           "trajectory": "E_sol",
           "upper": 19923.4455078125
          },
          {
           "lower": 4333.488696289062,
           "timepoint": 50.2,
           "trajectory": "E_sol",
           "upper": 19910.451953124997
          },
          {
           "lower": 4314.9530029296875,
           "timepoint": 50.3,
           "trajectory": "E_sol",
           "upper": 19897.46064453125
          },
          {
           "lower": 4296.494848632812,
           "timepoint": 50.4,
           "trajectory": "E_sol",
           "upper": 19884.47158203125
          },
          {
           "lower": 4278.116137695312,
           "timepoint": 50.5,
           "trajectory": "E_sol",
           "upper": 19871.486621093747
          },
          {
           "lower": 4259.815478515625,
           "timepoint": 50.6,
           "trajectory": "E_sol",
           "upper": 19858.505664062497
          },
          {
           "lower": 4241.604321289063,
           "timepoint": 50.7,
           "trajectory": "E_sol",
           "upper": 19845.5287109375
          },
          {
           "lower": 4223.460998535156,
           "timepoint": 50.8,
           "trajectory": "E_sol",
           "upper": 19832.55390625
          },
          {
           "lower": 4205.3951416015625,
           "timepoint": 50.9,
           "trajectory": "E_sol",
           "upper": 19819.58154296875
          },
          {
           "lower": 4187.407263183593,
           "timepoint": 51,
           "trajectory": "E_sol",
           "upper": 19806.613085937497
          },
          {
           "lower": 4169.495446777344,
           "timepoint": 51.1,
           "trajectory": "E_sol",
           "upper": 19793.6486328125
          },
          {
           "lower": 4151.659655761719,
           "timepoint": 51.2,
           "trajectory": "E_sol",
           "upper": 19780.688281249997
          },
          {
           "lower": 4133.900390625,
           "timepoint": 51.3,
           "trajectory": "E_sol",
           "upper": 19767.72998046875
          },
          {
           "lower": 4116.217028808594,
           "timepoint": 51.4,
           "trajectory": "E_sol",
           "upper": 19754.774023437498
          },
          {
           "lower": 4098.608947753906,
           "timepoint": 51.5,
           "trajectory": "E_sol",
           "upper": 19741.824023437497
          },
          {
           "lower": 4081.0766357421876,
           "timepoint": 51.6,
           "trajectory": "E_sol",
           "upper": 19728.876171875
          },
          {
           "lower": 4063.618408203125,
           "timepoint": 51.7,
           "trajectory": "E_sol",
           "upper": 19715.932226562498
          },
          {
           "lower": 4046.2350219726563,
           "timepoint": 51.8,
           "trajectory": "E_sol",
           "upper": 19702.992285156248
          },
          {
           "lower": 4028.925256347656,
           "timepoint": 51.9,
           "trajectory": "E_sol",
           "upper": 19690.05458984375
          },
          {
           "lower": 4011.6900634765625,
           "timepoint": 52,
           "trajectory": "E_sol",
           "upper": 19677.123046875
          },
          {
           "lower": 3994.528698730469,
           "timepoint": 52.1,
           "trajectory": "E_sol",
           "upper": 19664.193457031248
          },
          {
           "lower": 3977.4395263671877,
           "timepoint": 52.2,
           "trajectory": "E_sol",
           "upper": 19651.26611328125
          },
          {
           "lower": 3960.423693847656,
           "timepoint": 52.3,
           "trajectory": "E_sol",
           "upper": 19638.344824218748
          },
          {
           "lower": 3943.48046875,
           "timepoint": 52.4,
           "trajectory": "E_sol",
           "upper": 19625.401464843748
          },
          {
           "lower": 3926.60966796875,
           "timepoint": 52.5,
           "trajectory": "E_sol",
           "upper": 19612.4826171875
          },
          {
           "lower": 3909.81611328125,
           "timepoint": 52.6,
           "trajectory": "E_sol",
           "upper": 19599.567968749998
          },
          {
           "lower": 3893.089074707031,
           "timepoint": 52.7,
           "trajectory": "E_sol",
           "upper": 19586.6552734375
          },
          {
           "lower": 3876.4341796875,
           "timepoint": 52.8,
           "trajectory": "E_sol",
           "upper": 19573.74482421875
          },
          {
           "lower": 3859.849719238281,
           "timepoint": 52.9,
           "trajectory": "E_sol",
           "upper": 19560.840234375
          },
          {
           "lower": 3843.3366821289064,
           "timepoint": 53,
           "trajectory": "E_sol",
           "upper": 19547.938085937498
          },
          {
           "lower": 3826.8945556640624,
           "timepoint": 53.1,
           "trajectory": "E_sol",
           "upper": 19535.03974609375
          },
          {
           "lower": 3810.5214233398438,
           "timepoint": 53.2,
           "trajectory": "E_sol",
           "upper": 19522.143652343748
          },
          {
           "lower": 3794.21943359375,
           "timepoint": 53.3,
           "trajectory": "E_sol",
           "upper": 19509.25166015625
          },
          {
           "lower": 3777.9859008789062,
           "timepoint": 53.4,
           "trajectory": "E_sol",
           "upper": 19496.36181640625
          },
          {
           "lower": 3761.8225952148437,
           "timepoint": 53.5,
           "trajectory": "E_sol",
           "upper": 19483.477832031247
          },
          {
           "lower": 3745.7284912109376,
           "timepoint": 53.6,
           "trajectory": "E_sol",
           "upper": 19470.59423828125
          },
          {
           "lower": 3729.7021606445314,
           "timepoint": 53.7,
           "trajectory": "E_sol",
           "upper": 19457.714648437497
          },
          {
           "lower": 3713.745495605469,
           "timepoint": 53.8,
           "trajectory": "E_sol",
           "upper": 19444.8408203125
          },
          {
           "lower": 3697.8558837890623,
           "timepoint": 53.9,
           "trajectory": "E_sol",
           "upper": 19431.96748046875
          },
          {
           "lower": 3682.0352294921877,
           "timepoint": 54,
           "trajectory": "E_sol",
           "upper": 19419.1
          },
          {
           "lower": 3666.282092285156,
           "timepoint": 54.1,
           "trajectory": "E_sol",
           "upper": 19406.2328125
          },
          {
           "lower": 3650.5957153320314,
           "timepoint": 54.2,
           "trajectory": "E_sol",
           "upper": 19393.36962890625
          },
          {
           "lower": 3634.97685546875,
           "timepoint": 54.3,
           "trajectory": "E_sol",
           "upper": 19380.514746093748
          },
          {
           "lower": 3619.4244995117188,
           "timepoint": 54.4,
           "trajectory": "E_sol",
           "upper": 19367.658203125
          },
          {
           "lower": 3603.939172363281,
           "timepoint": 54.5,
           "trajectory": "E_sol",
           "upper": 19354.80556640625
          },
          {
           "lower": 3588.5205932617187,
           "timepoint": 54.6,
           "trajectory": "E_sol",
           "upper": 19341.958984375
          },
          {
           "lower": 3573.15966796875,
           "timepoint": 54.7,
           "trajectory": "E_sol",
           "upper": 19329.11279296875
          },
          {
           "lower": 3557.8710815429686,
           "timepoint": 54.8,
           "trajectory": "E_sol",
           "upper": 19316.270605468748
          },
          {
           "lower": 3542.6470703125,
           "timepoint": 54.9,
           "trajectory": "E_sol",
           "upper": 19303.45654296875
          },
          {
           "lower": 3527.4888305664062,
           "timepoint": 55,
           "trajectory": "E_sol",
           "upper": 19290.624316406247
          },
          {
           "lower": 3512.3949584960938,
           "timepoint": 55.1,
           "trajectory": "E_sol",
           "upper": 19277.796191406247
          },
          {
           "lower": 3497.365197753906,
           "timepoint": 55.2,
           "trajectory": "E_sol",
           "upper": 19264.97021484375
          },
          {
           "lower": 3482.4007080078127,
           "timepoint": 55.3,
           "trajectory": "E_sol",
           "upper": 19252.14833984375
          },
          {
           "lower": 3467.498889160156,
           "timepoint": 55.4,
           "trajectory": "E_sol",
           "upper": 19239.330371093747
          },
          {
           "lower": 3452.6620361328123,
           "timepoint": 55.5,
           "trajectory": "E_sol",
           "upper": 19226.514746093748
          },
          {
           "lower": 3437.88798828125,
           "timepoint": 55.6,
           "trajectory": "E_sol",
           "upper": 19213.705078125
          },
          {
           "lower": 3423.176550292969,
           "timepoint": 55.7,
           "trajectory": "E_sol",
           "upper": 19200.897558593748
          },
          {
           "lower": 3408.5282592773438,
           "timepoint": 55.8,
           "trajectory": "E_sol",
           "upper": 19188.094042968747
          },
          {
           "lower": 3393.941857910156,
           "timepoint": 55.9,
           "trajectory": "E_sol",
           "upper": 19175.292773437497
          },
          {
           "lower": 3379.418591308594,
           "timepoint": 56,
           "trajectory": "E_sol",
           "upper": 19162.49560546875
          },
          {
           "lower": 3364.957470703125,
           "timepoint": 56.1,
           "trajectory": "E_sol",
           "upper": 19149.704199218748
          },
          {
           "lower": 3350.5572875976563,
           "timepoint": 56.2,
           "trajectory": "E_sol",
           "upper": 19136.9150390625
          },
          {
           "lower": 3336.2188110351562,
           "timepoint": 56.3,
           "trajectory": "E_sol",
           "upper": 19124.129980468748
          },
          {
           "lower": 3321.9414672851562,
           "timepoint": 56.4,
           "trajectory": "E_sol",
           "upper": 19111.3470703125
          },
          {
           "lower": 3307.7257690429688,
           "timepoint": 56.5,
           "trajectory": "E_sol",
           "upper": 19098.57001953125
          },
          {
           "lower": 3293.5700927734374,
           "timepoint": 56.6,
           "trajectory": "E_sol",
           "upper": 19085.795214843747
          },
          {
           "lower": 3279.4745849609376,
           "timepoint": 56.7,
           "trajectory": "E_sol",
           "upper": 19073.0244140625
          },
          {
           "lower": 3265.4397827148437,
           "timepoint": 56.8,
           "trajectory": "E_sol",
           "upper": 19060.25771484375
          },
          {
           "lower": 3251.469775390625,
           "timepoint": 56.9,
           "trajectory": "E_sol",
           "upper": 19047.49501953125
          },
          {
           "lower": 3237.555322265625,
           "timepoint": 57,
           "trajectory": "E_sol",
           "upper": 19034.73916015625
          },
          {
           "lower": 3223.7003540039063,
           "timepoint": 57.1,
           "trajectory": "E_sol",
           "upper": 19021.98310546875
          },
          {
           "lower": 3209.9041259765627,
           "timepoint": 57.2,
           "trajectory": "E_sol",
           "upper": 19009.234765625
          },
          {
           "lower": 3196.1673583984375,
           "timepoint": 57.3,
           "trajectory": "E_sol",
           "upper": 18996.48681640625
          },
          {
           "lower": 3182.4883666992187,
           "timepoint": 57.4,
           "trajectory": "E_sol",
           "upper": 18983.744726562498
          },
          {
           "lower": 3168.868615722656,
           "timepoint": 57.5,
           "trajectory": "E_sol",
           "upper": 18971.0048828125
          },
          {
           "lower": 3155.307092285156,
           "timepoint": 57.6,
           "trajectory": "E_sol",
           "upper": 18958.27099609375
          },
          {
           "lower": 3141.803112792969,
           "timepoint": 57.7,
           "trajectory": "E_sol",
           "upper": 18945.515234374998
          },
          {
           "lower": 3128.3569580078124,
           "timepoint": 57.8,
           "trajectory": "E_sol",
           "upper": 18932.78388671875
          },
          {
           "lower": 3114.967980957031,
           "timepoint": 57.9,
           "trajectory": "E_sol",
           "upper": 18920.0583984375
          },
          {
           "lower": 3101.636755371094,
           "timepoint": 58,
           "trajectory": "E_sol",
           "upper": 18907.3353515625
          },
          {
           "lower": 3088.362353515625,
           "timepoint": 58.1,
           "trajectory": "E_sol",
           "upper": 18894.6162109375
          },
          {
           "lower": 3075.144006347656,
           "timepoint": 58.2,
           "trajectory": "E_sol",
           "upper": 18881.90126953125
          },
          {
           "lower": 3061.9826782226564,
           "timepoint": 58.3,
           "trajectory": "E_sol",
           "upper": 18869.18837890625
          },
          {
           "lower": 3048.8776245117188,
           "timepoint": 58.4,
           "trajectory": "E_sol",
           "upper": 18856.48330078125
          },
          {
           "lower": 3035.8281982421877,
           "timepoint": 58.5,
           "trajectory": "E_sol",
           "upper": 18843.7787109375
          },
          {
           "lower": 3022.8350463867187,
           "timepoint": 58.6,
           "trajectory": "E_sol",
           "upper": 18831.07998046875
          },
          {
           "lower": 3009.896728515625,
           "timepoint": 58.7,
           "trajectory": "E_sol",
           "upper": 18818.96796875
          },
          {
           "lower": 2997.014013671875,
           "timepoint": 58.8,
           "trajectory": "E_sol",
           "upper": 18809.0234375
          },
          {
           "lower": 2984.1861083984377,
           "timepoint": 58.9,
           "trajectory": "E_sol",
           "upper": 18799.081152343748
          },
          {
           "lower": 2971.4133056640626,
           "timepoint": 59,
           "trajectory": "E_sol",
           "upper": 18789.141210937498
          },
          {
           "lower": 2958.6950805664064,
           "timepoint": 59.1,
           "trajectory": "E_sol",
           "upper": 18779.197851562498
          },
          {
           "lower": 2946.0305053710936,
           "timepoint": 59.2,
           "trajectory": "E_sol",
           "upper": 18769.25478515625
          },
          {
           "lower": 2933.4249267578125,
           "timepoint": 59.3,
           "trajectory": "E_sol",
           "upper": 18759.3177734375
          },
          {
           "lower": 2920.869006347656,
           "timepoint": 59.4,
           "trajectory": "E_sol",
           "upper": 18749.37548828125
          },
          {
           "lower": 2908.3671997070314,
           "timepoint": 59.5,
           "trajectory": "E_sol",
           "upper": 18739.43916015625
          },
          {
           "lower": 2895.9185546875,
           "timepoint": 59.6,
           "trajectory": "E_sol",
           "upper": 18729.50146484375
          },
          {
           "lower": 2883.5230102539062,
           "timepoint": 59.7,
           "trajectory": "E_sol",
           "upper": 18719.56220703125
          },
          {
           "lower": 2871.1810668945313,
           "timepoint": 59.8,
           "trajectory": "E_sol",
           "upper": 18709.626953125
          },
          {
           "lower": 2858.891064453125,
           "timepoint": 59.9,
           "trajectory": "E_sol",
           "upper": 18699.69033203125
          },
          {
           "lower": 2846.6539672851563,
           "timepoint": 60,
           "trajectory": "E_sol",
           "upper": 18689.7552734375
          },
          {
           "lower": 2834.469482421875,
           "timepoint": 60.1,
           "trajectory": "E_sol",
           "upper": 18679.82119140625
          },
          {
           "lower": 2822.3366943359374,
           "timepoint": 60.2,
           "trajectory": "E_sol",
           "upper": 18669.88916015625
          },
          {
           "lower": 2810.256201171875,
           "timepoint": 60.3,
           "trajectory": "E_sol",
           "upper": 18659.957617187498
          },
          {
           "lower": 2798.2262573242188,
           "timepoint": 60.4,
           "trajectory": "E_sol",
           "upper": 18650.0263671875
          },
          {
           "lower": 2786.2487060546873,
           "timepoint": 60.5,
           "trajectory": "E_sol",
           "upper": 18640.09560546875
          },
          {
           "lower": 2774.3225708007812,
           "timepoint": 60.6,
           "trajectory": "E_sol",
           "upper": 18630.1650390625
          },
          {
           "lower": 2762.4464111328125,
           "timepoint": 60.7,
           "trajectory": "E_sol",
           "upper": 18620.234960937498
          },
          {
           "lower": 2750.6219116210937,
           "timepoint": 60.8,
           "trajectory": "E_sol",
           "upper": 18610.308984375
          },
          {
           "lower": 2738.8471557617186,
           "timepoint": 60.9,
           "trajectory": "E_sol",
           "upper": 18600.38154296875
          },
          {
           "lower": 2727.1231079101562,
           "timepoint": 61,
           "trajectory": "E_sol",
           "upper": 18590.454296875
          },
          {
           "lower": 3.5187146946169534e-10,
           "timepoint": 0,
           "trajectory": "H_sol",
           "upper": 4.597771344205803e-10
          },
          {
           "lower": 0.35244626402854917,
           "timepoint": 0.1,
           "trajectory": "H_sol",
           "upper": 0.45989387333393095
          },
          {
           "lower": 0.7061576992273331,
           "timepoint": 0.2,
           "trajectory": "H_sol",
           "upper": 0.920194125175476
          },
          {
           "lower": 1.0613057136535644,
           "timepoint": 0.3,
           "trajectory": "H_sol",
           "upper": 1.3811583995819092
          },
          {
           "lower": 1.4180653870105744,
           "timepoint": 0.4,
           "trajectory": "H_sol",
           "upper": 1.8430395007133482
          },
          {
           "lower": 1.7766123771667481,
           "timepoint": 0.5,
           "trajectory": "H_sol",
           "upper": 2.3060913920402526
          },
          {
           "lower": 2.137122690677643,
           "timepoint": 0.6,
           "trajectory": "H_sol",
           "upper": 2.7705639958381654
          },
          {
           "lower": 2.4997738003730774,
           "timepoint": 0.7,
           "trajectory": "H_sol",
           "upper": 3.2381194829940796
          },
          {
           "lower": 2.8647387504577635,
           "timepoint": 0.8,
           "trajectory": "H_sol",
           "upper": 3.7080805897712708
          },
          {
           "lower": 3.230662155151367,
           "timepoint": 0.9,
           "trajectory": "H_sol",
           "upper": 4.1806336641311646
          },
          {
           "lower": 3.5987536549568175,
           "timepoint": 1,
           "trajectory": "H_sol",
           "upper": 4.656027579307556
          },
          {
           "lower": 3.9693532824516295,
           "timepoint": 1.1,
           "trajectory": "H_sol",
           "upper": 5.134511590003967
          },
          {
           "lower": 4.342647814750672,
           "timepoint": 1.2,
           "trajectory": "H_sol",
           "upper": 5.616333746910095
          },
          {
           "lower": 4.71882996559143,
           "timepoint": 1.3,
           "trajectory": "H_sol",
           "upper": 6.1017517089843745
          },
          {
           "lower": 5.098086047172546,
           "timepoint": 1.4,
           "trajectory": "H_sol",
           "upper": 6.591007971763611
          },
          {
           "lower": 5.480609512329101,
           "timepoint": 1.5,
           "trajectory": "H_sol",
           "upper": 7.084357953071594
          },
          {
           "lower": 5.866590452194214,
           "timepoint": 1.6,
           "trajectory": "H_sol",
           "upper": 7.58205623626709
          },
          {
           "lower": 6.256227993965149,
           "timepoint": 1.7,
           "trajectory": "H_sol",
           "upper": 8.084358072280883
          },
          {
           "lower": 6.649704456329346,
           "timepoint": 1.8,
           "trajectory": "H_sol",
           "upper": 8.591510438919068
          },
          {
           "lower": 7.047234106063843,
           "timepoint": 1.9,
           "trajectory": "H_sol",
           "upper": 9.098482084274291
          },
          {
           "lower": 7.449009680747986,
           "timepoint": 2,
           "trajectory": "H_sol",
           "upper": 9.606454753875733
          },
          {
           "lower": 7.8552322626113895,
           "timepoint": 2.1,
           "trajectory": "H_sol",
           "upper": 10.118999481201172
          },
          {
           "lower": 8.266107416152954,
           "timepoint": 2.2,
           "trajectory": "H_sol",
           "upper": 10.636373472213744
          },
          {
           "lower": 8.68184037208557,
           "timepoint": 2.3,
           "trajectory": "H_sol",
           "upper": 11.15880994796753
          },
          {
           "lower": 9.102639102935791,
           "timepoint": 2.4,
           "trajectory": "H_sol",
           "upper": 11.686556339263916
          },
          {
           "lower": 9.528714847564697,
           "timepoint": 2.5,
           "trajectory": "H_sol",
           "upper": 12.219854164123534
          },
          {
           "lower": 9.960281610488892,
           "timepoint": 2.6,
           "trajectory": "H_sol",
           "upper": 12.758952951431274
          },
          {
           "lower": 10.397555589675903,
           "timepoint": 2.7,
           "trajectory": "H_sol",
           "upper": 13.304116153717041
          },
          {
           "lower": 10.840752267837525,
           "timepoint": 2.8,
           "trajectory": "H_sol",
           "upper": 13.85557346343994
          },
          {
           "lower": 11.290096330642701,
           "timepoint": 2.9,
           "trajectory": "H_sol",
           "upper": 14.421364593505858
          },
          {
           "lower": 11.745859527587891,
           "timepoint": 3,
           "trajectory": "H_sol",
           "upper": 14.999790954589843
          },
          {
           "lower": 12.208199501037598,
           "timepoint": 3.1,
           "trajectory": "H_sol",
           "upper": 15.58690104484558
          },
          {
           "lower": 12.677379703521728,
           "timepoint": 3.2,
           "trajectory": "H_sol",
           "upper": 16.18246202468872
          },
          {
           "lower": 13.15363278388977,
           "timepoint": 3.3,
           "trajectory": "H_sol",
           "upper": 16.786766529083252
          },
          {
           "lower": 13.637204551696778,
           "timepoint": 3.4,
           "trajectory": "H_sol",
           "upper": 17.40011177062988
          },
          {
           "lower": 14.128334951400756,
           "timepoint": 3.5,
           "trajectory": "H_sol",
           "upper": 18.021854209899903
          },
          {
           "lower": 14.627262496948243,
           "timepoint": 3.6,
           "trajectory": "H_sol",
           "upper": 18.65297451019287
          },
          {
           "lower": 15.134259176254272,
           "timepoint": 3.7,
           "trajectory": "H_sol",
           "upper": 19.30067729949951
          },
          {
           "lower": 15.649568796157837,
           "timepoint": 3.8,
           "trajectory": "H_sol",
           "upper": 19.969890594482422
          },
          {
           "lower": 16.1734561920166,
           "timepoint": 3.9,
           "trajectory": "H_sol",
           "upper": 20.650909233093262
          },
          {
           "lower": 16.70618906021118,
           "timepoint": 4,
           "trajectory": "H_sol",
           "upper": 21.344150924682616
          },
          {
           "lower": 17.248031234741212,
           "timepoint": 4.1,
           "trajectory": "H_sol",
           "upper": 22.04992084503174
          },
          {
           "lower": 17.799224281311034,
           "timepoint": 4.2,
           "trajectory": "H_sol",
           "upper": 22.73714780807495
          },
          {
           "lower": 18.360110569000245,
           "timepoint": 4.3,
           "trajectory": "H_sol",
           "upper": 23.439591217041016
          },
          {
           "lower": 18.93094301223755,
           "timepoint": 4.4,
           "trajectory": "H_sol",
           "upper": 24.176318836212157
          },
          {
           "lower": 19.512015724182127,
           "timepoint": 4.5,
           "trajectory": "H_sol",
           "upper": 24.926732349395753
          },
          {
           "lower": 20.103620624542238,
           "timepoint": 4.6,
           "trajectory": "H_sol",
           "upper": 25.691229343414307
          },
          {
           "lower": 20.70605936050415,
           "timepoint": 4.7,
           "trajectory": "H_sol",
           "upper": 26.470213985443117
          },
          {
           "lower": 21.319660472869874,
           "timepoint": 4.8,
           "trajectory": "H_sol",
           "upper": 27.264106273651123
          },
          {
           "lower": 21.94469995498657,
           "timepoint": 4.9,
           "trajectory": "H_sol",
           "upper": 28.07331418991089
          },
          {
           "lower": 22.581514739990233,
           "timepoint": 5,
           "trajectory": "H_sol",
           "upper": 28.89828042984009
          },
          {
           "lower": 23.230425453186037,
           "timepoint": 5.1,
           "trajectory": "H_sol",
           "upper": 29.739434337615965
          },
          {
           "lower": 23.891764163970947,
           "timepoint": 5.2,
           "trajectory": "H_sol",
           "upper": 30.59723081588745
          },
          {
           "lower": 24.565870761871338,
           "timepoint": 5.3,
           "trajectory": "H_sol",
           "upper": 31.472124290466308
          },
          {
           "lower": 25.253105258941652,
           "timepoint": 5.4,
           "trajectory": "H_sol",
           "upper": 32.36297950744629
          },
          {
           "lower": 25.95379047393799,
           "timepoint": 5.5,
           "trajectory": "H_sol",
           "upper": 33.26946601867676
          },
          {
           "lower": 26.66829776763916,
           "timepoint": 5.6,
           "trajectory": "H_sol",
           "upper": 34.194213485717775
          },
          {
           "lower": 27.39699535369873,
           "timepoint": 5.7,
           "trajectory": "H_sol",
           "upper": 35.13774089813232
          },
          {
           "lower": 28.140255069732667,
           "timepoint": 5.8,
           "trajectory": "H_sol",
           "upper": 36.049913597106936
          },
          {
           "lower": 28.89367847442627,
           "timepoint": 5.9,
           "trajectory": "H_sol",
           "upper": 36.96761608123779
          },
          {
           "lower": 29.660095500946046,
           "timepoint": 6,
           "trajectory": "H_sol",
           "upper": 37.997948265075685
          },
          {
           "lower": 30.44178400039673,
           "timepoint": 6.1,
           "trajectory": "H_sol",
           "upper": 39.01378002166748
          },
          {
           "lower": 31.23912105560303,
           "timepoint": 6.2,
           "trajectory": "H_sol",
           "upper": 40.00017261505127
          },
          {
           "lower": 32.05251379013062,
           "timepoint": 6.3,
           "trajectory": "H_sol",
           "upper": 41.00522689819336
          },
          {
           "lower": 32.88235454559326,
           "timepoint": 6.4,
           "trajectory": "H_sol",
           "upper": 42.0566686630249
          },
          {
           "lower": 33.729070854187015,
           "timepoint": 6.5,
           "trajectory": "H_sol",
           "upper": 43.166259384155275
          },
          {
           "lower": 34.5930835723877,
           "timepoint": 6.6,
           "trajectory": "H_sol",
           "upper": 44.2995662689209
          },
          {
           "lower": 35.474802780151364,
           "timepoint": 6.7,
           "trajectory": "H_sol",
           "upper": 45.45720748901367
          },
          {
           "lower": 36.37470531463623,
           "timepoint": 6.8,
           "trajectory": "H_sol",
           "upper": 46.63978290557861
          },
          {
           "lower": 37.29320945739746,
           "timepoint": 6.9,
           "trajectory": "H_sol",
           "upper": 47.847937393188474
          },
          {
           "lower": 38.23079204559326,
           "timepoint": 7,
           "trajectory": "H_sol",
           "upper": 49.09246196746826
          },
          {
           "lower": 39.18790187835693,
           "timepoint": 7.1,
           "trajectory": "H_sol",
           "upper": 50.399149322509764
          },
          {
           "lower": 40.165035247802734,
           "timepoint": 7.2,
           "trajectory": "H_sol",
           "upper": 51.73587436676025
          },
          {
           "lower": 41.162663269042966,
           "timepoint": 7.3,
           "trajectory": "H_sol",
           "upper": 53.1028938293457
          },
          {
           "lower": 42.18145065307617,
           "timepoint": 7.4,
           "trajectory": "H_sol",
           "upper": 54.500931930541995
          },
          {
           "lower": 43.22165946960449,
           "timepoint": 7.5,
           "trajectory": "H_sol",
           "upper": 55.9313383102417
          },
          {
           "lower": 44.28391513824463,
           "timepoint": 7.6,
           "trajectory": "H_sol",
           "upper": 57.394942092895505
          },
          {
           "lower": 45.368760871887204,
           "timepoint": 7.7,
           "trajectory": "H_sol",
           "upper": 58.82250576019287
          },
          {
           "lower": 46.476728439331055,
           "timepoint": 7.8,
           "trajectory": "H_sol",
           "upper": 60.27894668579101
          },
          {
           "lower": 47.60838394165039,
           "timepoint": 7.9,
           "trajectory": "H_sol",
           "upper": 61.76570491790771
          },
          {
           "lower": 48.76429347991943,
           "timepoint": 8,
           "trajectory": "H_sol",
           "upper": 63.284970092773435
          },
          {
           "lower": 49.95033893585205,
           "timepoint": 8.1,
           "trajectory": "H_sol",
           "upper": 64.83755493164062
          },
          {
           "lower": 51.17594184875488,
           "timepoint": 8.2,
           "trajectory": "H_sol",
           "upper": 66.42421112060546
          },
          {
           "lower": 52.38041305541992,
           "timepoint": 8.3,
           "trajectory": "H_sol",
           "upper": 68.04580955505371
          },
          {
           "lower": 53.635360145568846,
           "timepoint": 8.4,
           "trajectory": "H_sol",
           "upper": 69.70314865112304
          },
          {
           "lower": 54.91740493774414,
           "timepoint": 8.5,
           "trajectory": "H_sol",
           "upper": 71.39713058471679
          },
          {
           "lower": 56.22717704772949,
           "timepoint": 8.6,
           "trajectory": "H_sol",
           "upper": 73.12860679626465
          },
          {
           "lower": 57.549530792236325,
           "timepoint": 8.7,
           "trajectory": "H_sol",
           "upper": 74.89845695495606
          },
          {
           "lower": 58.88486595153809,
           "timepoint": 8.8,
           "trajectory": "H_sol",
           "upper": 76.70782623291015
          },
          {
           "lower": 60.2484052658081,
           "timepoint": 8.9,
           "trajectory": "H_sol",
           "upper": 78.55730323791504
          },
          {
           "lower": 61.64082412719726,
           "timepoint": 9,
           "trajectory": "H_sol",
           "upper": 80.44805183410644
          },
          {
           "lower": 63.06268882751465,
           "timepoint": 9.1,
           "trajectory": "H_sol",
           "upper": 82.3810001373291
          },
          {
           "lower": 64.51479911804199,
           "timepoint": 9.2,
           "trajectory": "H_sol",
           "upper": 84.38164024353027
          },
          {
           "lower": 65.99778289794922,
           "timepoint": 9.3,
           "trajectory": "H_sol",
           "upper": 86.4352653503418
          },
          {
           "lower": 67.51236076354981,
           "timepoint": 9.4,
           "trajectory": "H_sol",
           "upper": 88.5359634399414
          },
          {
           "lower": 69.05924911499024,
           "timepoint": 9.5,
           "trajectory": "H_sol",
           "upper": 90.68466491699219
          },
          {
           "lower": 70.63918914794922,
           "timepoint": 9.6,
           "trajectory": "H_sol",
           "upper": 92.9124137878418
          },
          {
           "lower": 72.25568351745605,
           "timepoint": 9.7,
           "trajectory": "H_sol",
           "upper": 95.22589149475097
          },
          {
           "lower": 73.90893630981445,
           "timepoint": 9.8,
           "trajectory": "H_sol",
           "upper": 97.5943058013916
          },
          {
           "lower": 75.59775848388672,
           "timepoint": 9.9,
           "trajectory": "H_sol",
           "upper": 100.01895065307617
          },
          {
           "lower": 77.31426734924317,
           "timepoint": 10,
           "trajectory": "H_sol",
           "upper": 102.50126075744629
          },
          {
           "lower": 79.06783485412598,
           "timepoint": 10.1,
           "trajectory": "H_sol",
           "upper": 105.04267158508301
          },
          {
           "lower": 80.85907897949218,
           "timepoint": 10.2,
           "trajectory": "H_sol",
           "upper": 107.64455795288086
          },
          {
           "lower": 82.73091506958008,
           "timepoint": 10.3,
           "trajectory": "H_sol",
           "upper": 110.30846138000489
          },
          {
           "lower": 84.60578765869141,
           "timepoint": 10.4,
           "trajectory": "H_sol",
           "upper": 113.03586654663086
          },
          {
           "lower": 86.52446403503419,
           "timepoint": 10.5,
           "trajectory": "H_sol",
           "upper": 115.8283763885498
          },
          {
           "lower": 88.55069541931152,
           "timepoint": 10.6,
           "trajectory": "H_sol",
           "upper": 118.68752822875976
          },
          {
           "lower": 90.63070793151856,
           "timepoint": 10.7,
           "trajectory": "H_sol",
           "upper": 121.59725952148438
          },
          {
           "lower": 92.75781021118163,
           "timepoint": 10.8,
           "trajectory": "H_sol",
           "upper": 124.51620063781738
          },
          {
           "lower": 94.93307151794434,
           "timepoint": 10.9,
           "trajectory": "H_sol",
           "upper": 127.5030128479004
          },
          {
           "lower": 97.15768089294434,
           "timepoint": 11,
           "trajectory": "H_sol",
           "upper": 130.55923614501953
          },
          {
           "lower": 99.43276901245117,
           "timepoint": 11.1,
           "trajectory": "H_sol",
           "upper": 133.68657608032225
          },
          {
           "lower": 101.75945854187012,
           "timepoint": 11.2,
           "trajectory": "H_sol",
           "upper": 136.88666610717775
          },
          {
           "lower": 104.09863662719727,
           "timepoint": 11.3,
           "trajectory": "H_sol",
           "upper": 140.1613021850586
          },
          {
           "lower": 106.4017448425293,
           "timepoint": 11.4,
           "trajectory": "H_sol",
           "upper": 143.50762786865235
          },
          {
           "lower": 108.75417671203613,
           "timepoint": 11.5,
           "trajectory": "H_sol",
           "upper": 146.92598571777344
          },
          {
           "lower": 111.15700340270996,
           "timepoint": 11.6,
           "trajectory": "H_sol",
           "upper": 150.42404708862304
          },
          {
           "lower": 113.61131744384765,
           "timepoint": 11.7,
           "trajectory": "H_sol",
           "upper": 154.00328674316407
          },
          {
           "lower": 116.11826820373535,
           "timepoint": 11.8,
           "trajectory": "H_sol",
           "upper": 157.6658447265625
          },
          {
           "lower": 118.67899208068847,
           "timepoint": 11.9,
           "trajectory": "H_sol",
           "upper": 161.41362762451172
          },
          {
           "lower": 121.29467964172363,
           "timepoint": 12,
           "trajectory": "H_sol",
           "upper": 165.24870681762695
          },
          {
           "lower": 123.96657905578613,
           "timepoint": 12.1,
           "trajectory": "H_sol",
           "upper": 169.117626953125
          },
          {
           "lower": 126.70009384155273,
           "timepoint": 12.2,
           "trajectory": "H_sol",
           "upper": 173.20989837646485
          },
          {
           "lower": 129.4933723449707,
           "timepoint": 12.3,
           "trajectory": "H_sol",
           "upper": 177.33847198486328
          },
          {
           "lower": 132.34685440063475,
           "timepoint": 12.4,
           "trajectory": "H_sol",
           "upper": 181.56382369995117
          },
          {
           "lower": 135.33550949096679,
           "timepoint": 12.5,
           "trajectory": "H_sol",
           "upper": 185.88826675415038
          },
          {
           "lower": 138.3594657897949,
           "timepoint": 12.6,
           "trajectory": "H_sol",
           "upper": 190.31408386230467
          },
          {
           "lower": 141.4009216308594,
           "timepoint": 12.7,
           "trajectory": "H_sol",
           "upper": 194.84365921020506
          },
          {
           "lower": 144.50799102783202,
           "timepoint": 12.8,
           "trajectory": "H_sol",
           "upper": 199.47950286865233
          },
          {
           "lower": 147.68201904296876,
           "timepoint": 12.9,
           "trajectory": "H_sol",
           "upper": 204.22405548095702
          },
          {
           "lower": 150.9245277404785,
           "timepoint": 13,
           "trajectory": "H_sol",
           "upper": 209.0800003051758
          },
          {
           "lower": 154.23699798583985,
           "timepoint": 13.1,
           "trajectory": "H_sol",
           "upper": 214.05080947875976
          },
          {
           "lower": 157.62132110595704,
           "timepoint": 13.2,
           "trajectory": "H_sol",
           "upper": 219.13768768310547
          },
          {
           "lower": 161.08517837524414,
           "timepoint": 13.3,
           "trajectory": "H_sol",
           "upper": 224.34412155151367
          },
          {
           "lower": 164.74338760375977,
           "timepoint": 13.4,
           "trajectory": "H_sol",
           "upper": 229.67280502319335
          },
          {
           "lower": 168.53887863159179,
           "timepoint": 13.5,
           "trajectory": "H_sol",
           "upper": 235.12679138183591
          },
          {
           "lower": 172.42182998657228,
           "timepoint": 13.6,
           "trajectory": "H_sol",
           "upper": 240.708984375
          },
          {
           "lower": 176.39491577148436,
           "timepoint": 13.7,
           "trajectory": "H_sol",
           "upper": 246.41955413818357
          },
          {
           "lower": 180.4585968017578,
           "timepoint": 13.8,
           "trajectory": "H_sol",
           "upper": 252.25864257812498
          },
          {
           "lower": 184.6148796081543,
           "timepoint": 13.9,
           "trajectory": "H_sol",
           "upper": 258.23480529785155
          },
          {
           "lower": 188.86596221923827,
           "timepoint": 14,
           "trajectory": "H_sol",
           "upper": 264.3513778686523
          },
          {
           "lower": 193.21395568847657,
           "timepoint": 14.1,
           "trajectory": "H_sol",
           "upper": 270.6116088867187
          },
          {
           "lower": 197.6616683959961,
           "timepoint": 14.2,
           "trajectory": "H_sol",
           "upper": 277.0188247680664
          },
          {
           "lower": 202.21051025390625,
           "timepoint": 14.3,
           "trajectory": "H_sol",
           "upper": 283.57665252685547
          },
          {
           "lower": 206.86308059692382,
           "timepoint": 14.4,
           "trajectory": "H_sol",
           "upper": 290.28854827880855
          },
          {
           "lower": 211.62189102172852,
           "timepoint": 14.5,
           "trajectory": "H_sol",
           "upper": 297.15788421630856
          },
          {
           "lower": 216.48930816650392,
           "timepoint": 14.6,
           "trajectory": "H_sol",
           "upper": 304.1888961791992
          },
          {
           "lower": 221.4678062438965,
           "timepoint": 14.7,
           "trajectory": "H_sol",
           "upper": 311.38509674072264
          },
          {
           "lower": 226.56003799438477,
           "timepoint": 14.8,
           "trajectory": "H_sol",
           "upper": 318.750537109375
          },
          {
           "lower": 231.76849288940429,
           "timepoint": 14.9,
           "trajectory": "H_sol",
           "upper": 326.2889999389648
          },
          {
           "lower": 237.05290985107422,
           "timepoint": 15,
           "trajectory": "H_sol",
           "upper": 334.0047927856445
          },
          {
           "lower": 242.17559738159179,
           "timepoint": 15.1,
           "trajectory": "H_sol",
           "upper": 341.90204467773435
          },
          {
           "lower": 247.4080696105957,
           "timepoint": 15.2,
           "trajectory": "H_sol",
           "upper": 349.9846237182617
          },
          {
           "lower": 252.75273361206055,
           "timepoint": 15.3,
           "trajectory": "H_sol",
           "upper": 358.25756378173827
          },
          {
           "lower": 258.2119766235352,
           "timepoint": 15.4,
           "trajectory": "H_sol",
           "upper": 366.724934387207
          },
          {
           "lower": 263.78831481933594,
           "timepoint": 15.5,
           "trajectory": "H_sol",
           "upper": 375.39155273437495
          },
          {
           "lower": 269.48421173095704,
           "timepoint": 15.6,
           "trajectory": "H_sol",
           "upper": 384.26200561523433
          },
          {
           "lower": 275.30221099853514,
           "timepoint": 15.7,
           "trajectory": "H_sol",
           "upper": 393.3409942626953
          },
          {
           "lower": 281.2459350585938,
           "timepoint": 15.8,
           "trajectory": "H_sol",
           "upper": 402.63364715576165
          },
          {
           "lower": 287.316423034668,
           "timepoint": 15.9,
           "trajectory": "H_sol",
           "upper": 412.14458160400386
          },
          {
           "lower": 293.51727600097655,
           "timepoint": 16,
           "trajectory": "H_sol",
           "upper": 421.8794921875
          },
          {
           "lower": 299.8511657714844,
           "timepoint": 16.1,
           "trajectory": "H_sol",
           "upper": 431.8434020996093
          },
          {
           "lower": 306.3209686279297,
           "timepoint": 16.2,
           "trajectory": "H_sol",
           "upper": 442.0416885375976
          },
          {
           "lower": 312.9295318603516,
           "timepoint": 16.3,
           "trajectory": "H_sol",
           "upper": 452.4796279907226
          },
          {
           "lower": 319.6799835205078,
           "timepoint": 16.4,
           "trajectory": "H_sol",
           "upper": 463.1633346557617
          },
          {
           "lower": 326.5757568359375,
           "timepoint": 16.5,
           "trajectory": "H_sol",
           "upper": 474.09828948974604
          },
          {
           "lower": 333.61927032470703,
           "timepoint": 16.6,
           "trajectory": "H_sol",
           "upper": 485.2911468505859
          },
          {
           "lower": 340.81394958496094,
           "timepoint": 16.7,
           "trajectory": "H_sol",
           "upper": 496.7469207763671
          },
          {
           "lower": 348.1629837036133,
           "timepoint": 16.8,
           "trajectory": "H_sol",
           "upper": 508.47192077636714
          },
          {
           "lower": 355.6699279785156,
           "timepoint": 16.9,
           "trajectory": "H_sol",
           "upper": 520.4730224609374
          },
          {
           "lower": 363.33809051513674,
           "timepoint": 17,
           "trajectory": "H_sol",
           "upper": 532.7563903808593
          },
          {
           "lower": 371.1709671020508,
           "timepoint": 17.1,
           "trajectory": "H_sol",
           "upper": 545.3286590576171
          },
          {
           "lower": 379.1719909667969,
           "timepoint": 17.2,
           "trajectory": "H_sol",
           "upper": 558.1967041015624
          },
          {
           "lower": 387.3444519042969,
           "timepoint": 17.3,
           "trajectory": "H_sol",
           "upper": 571.3671752929687
          },
          {
           "lower": 395.6927200317383,
           "timepoint": 17.4,
           "trajectory": "H_sol",
           "upper": 584.84931640625
          },
          {
           "lower": 404.31195373535155,
           "timepoint": 17.5,
           "trajectory": "H_sol",
           "upper": 598.647476196289
          },
          {
           "lower": 413.242138671875,
           "timepoint": 17.6,
           "trajectory": "H_sol",
           "upper": 612.7703094482421
          },
          {
           "lower": 422.36890716552733,
           "timepoint": 17.7,
           "trajectory": "H_sol",
           "upper": 627.2255004882811
          },
          {
           "lower": 431.6963348388672,
           "timepoint": 17.8,
           "trajectory": "H_sol",
           "upper": 642.0204437255859
          },
          {
           "lower": 441.22930908203125,
           "timepoint": 17.9,
           "trajectory": "H_sol",
           "upper": 657.1637390136718
          },
          {
           "lower": 450.97203063964844,
           "timepoint": 18,
           "trajectory": "H_sol",
           "upper": 672.6634857177734
          },
          {
           "lower": 460.92924346923826,
           "timepoint": 18.1,
           "trajectory": "H_sol",
           "upper": 688.5271362304686
          },
          {
           "lower": 471.10734405517576,
           "timepoint": 18.2,
           "trajectory": "H_sol",
           "upper": 704.7645050048827
          },
          {
           "lower": 481.508154296875,
           "timepoint": 18.3,
           "trajectory": "H_sol",
           "upper": 721.383560180664
          },
          {
           "lower": 492.138249206543,
           "timepoint": 18.4,
           "trajectory": "H_sol",
           "upper": 738.7688812255858
          },
          {
           "lower": 503.0025436401367,
           "timepoint": 18.5,
           "trajectory": "H_sol",
           "upper": 756.6139495849608
          },
          {
           "lower": 514.1047592163086,
           "timepoint": 18.6,
           "trajectory": "H_sol",
           "upper": 774.889141845703
          },
          {
           "lower": 525.4521423339844,
           "timepoint": 18.7,
           "trajectory": "H_sol",
           "upper": 793.6048187255858
          },
          {
           "lower": 537.0489074707032,
           "timepoint": 18.8,
           "trajectory": "H_sol",
           "upper": 812.7701049804687
          },
          {
           "lower": 548.9010040283204,
           "timepoint": 18.9,
           "trajectory": "H_sol",
           "upper": 832.397735595703
          },
          {
           "lower": 561.0143035888672,
           "timepoint": 19,
           "trajectory": "H_sol",
           "upper": 852.4980194091795
          },
          {
           "lower": 573.3934692382812,
           "timepoint": 19.1,
           "trajectory": "H_sol",
           "upper": 873.081704711914
          },
          {
           "lower": 586.0444580078125,
           "timepoint": 19.2,
           "trajectory": "H_sol",
           "upper": 894.1602386474608
          },
          {
           "lower": 598.9722595214844,
           "timepoint": 19.3,
           "trajectory": "H_sol",
           "upper": 915.7442443847655
          },
          {
           "lower": 612.1822784423828,
           "timepoint": 19.4,
           "trajectory": "H_sol",
           "upper": 937.8448577880857
          },
          {
           "lower": 625.6814575195312,
           "timepoint": 19.5,
           "trajectory": "H_sol",
           "upper": 960.4726989746092
          },
          {
           "lower": 639.4711853027344,
           "timepoint": 19.6,
           "trajectory": "H_sol",
           "upper": 983.635949707031
          },
          {
           "lower": 653.5549957275391,
           "timepoint": 19.7,
           "trajectory": "H_sol",
           "upper": 1007.3417083740233
          },
          {
           "lower": 667.9338409423829,
           "timepoint": 19.8,
           "trajectory": "H_sol",
           "upper": 1031.5942321777343
          },
          {
           "lower": 682.6059204101563,
           "timepoint": 19.9,
           "trajectory": "H_sol",
           "upper": 1056.3930419921874
          },
          {
           "lower": 697.5678649902344,
           "timepoint": 20,
           "trajectory": "H_sol",
           "upper": 1081.7287963867186
          },
          {
           "lower": 712.8196502685547,
           "timepoint": 20.1,
           "trajectory": "H_sol",
           "upper": 1107.5884765624999
          },
          {
           "lower": 728.3323425292969,
           "timepoint": 20.2,
           "trajectory": "H_sol",
           "upper": 1133.9486267089842
          },
          {
           "lower": 744.0894592285156,
           "timepoint": 20.3,
           "trajectory": "H_sol",
           "upper": 1160.7788452148436
          },
          {
           "lower": 760.0651550292969,
           "timepoint": 20.4,
           "trajectory": "H_sol",
           "upper": 1188.0424499511716
          },
          {
           "lower": 776.2353210449219,
           "timepoint": 20.5,
           "trajectory": "H_sol",
           "upper": 1215.6902709960937
          },
          {
           "lower": 792.5737365722656,
           "timepoint": 20.6,
           "trajectory": "H_sol",
           "upper": 1243.6818603515624
          },
          {
           "lower": 809.0526672363281,
           "timepoint": 20.7,
           "trajectory": "H_sol",
           "upper": 1271.982336425781
          },
          {
           "lower": 825.6468933105468,
           "timepoint": 20.8,
           "trajectory": "H_sol",
           "upper": 1300.5487792968747
          },
          {
           "lower": 842.3309844970703,
           "timepoint": 20.9,
           "trajectory": "H_sol",
           "upper": 1329.3413757324217
          },
          {
           "lower": 859.0808776855469,
           "timepoint": 21,
           "trajectory": "H_sol",
           "upper": 1358.3195068359373
          },
          {
           "lower": 875.8727661132813,
           "timepoint": 21.1,
           "trajectory": "H_sol",
           "upper": 1387.4445373535154
          },
          {
           "lower": 892.6849548339844,
           "timepoint": 21.2,
           "trajectory": "H_sol",
           "upper": 1416.6865722656248
          },
          {
           "lower": 909.4961944580078,
           "timepoint": 21.3,
           "trajectory": "H_sol",
           "upper": 1446.004309082031
          },
          {
           "lower": 926.2878570556641,
           "timepoint": 21.4,
           "trajectory": "H_sol",
           "upper": 1475.369543457031
          },
          {
           "lower": 943.0409362792968,
           "timepoint": 21.5,
           "trajectory": "H_sol",
           "upper": 1504.7492126464842
          },
          {
           "lower": 959.7382965087891,
           "timepoint": 21.6,
           "trajectory": "H_sol",
           "upper": 1534.1177124023436
          },
          {
           "lower": 976.3662078857421,
           "timepoint": 21.7,
           "trajectory": "H_sol",
           "upper": 1563.447473144531
          },
          {
           "lower": 992.9062866210937,
           "timepoint": 21.8,
           "trajectory": "H_sol",
           "upper": 1592.712921142578
          },
          {
           "lower": 1009.3464904785156,
           "timepoint": 21.9,
           "trajectory": "H_sol",
           "upper": 1621.8917175292966
          },
          {
           "lower": 1025.6732696533204,
           "timepoint": 22,
           "trajectory": "H_sol",
           "upper": 1650.9614929199215
          },
          {
           "lower": 1041.8747192382812,
           "timepoint": 22.1,
           "trajectory": "H_sol",
           "upper": 1679.9013366699216
          },
          {
           "lower": 1057.939276123047,
           "timepoint": 22.2,
           "trajectory": "H_sol",
           "upper": 1708.6924499511715
          },
          {
           "lower": 1073.856866455078,
           "timepoint": 22.3,
           "trajectory": "H_sol",
           "upper": 1737.316174316406
          },
          {
           "lower": 1089.6180053710937,
           "timepoint": 22.4,
           "trajectory": "H_sol",
           "upper": 1765.7566589355465
          },
          {
           "lower": 1105.2139526367187,
           "timepoint": 22.5,
           "trajectory": "H_sol",
           "upper": 1793.998724365234
          },
          {
           "lower": 1120.6355102539062,
           "timepoint": 22.6,
           "trajectory": "H_sol",
           "upper": 1822.0274902343747
          },
          {
           "lower": 1135.8761901855469,
           "timepoint": 22.7,
           "trajectory": "H_sol",
           "upper": 1849.8294799804685
          },
          {
           "lower": 1150.928485107422,
           "timepoint": 22.8,
           "trajectory": "H_sol",
           "upper": 1877.3922912597654
          },
          {
           "lower": 1165.786474609375,
           "timepoint": 22.9,
           "trajectory": "H_sol",
           "upper": 1904.705316162109
          },
          {
           "lower": 1180.4445251464845,
           "timepoint": 23,
           "trajectory": "H_sol",
           "upper": 1931.7577941894529
          },
          {
           "lower": 1194.8988403320313,
           "timepoint": 23.1,
           "trajectory": "H_sol",
           "upper": 1958.5399047851558
          },
          {
           "lower": 1209.1421936035156,
           "timepoint": 23.2,
           "trajectory": "H_sol",
           "upper": 1985.0431457519528
          },
          {
           "lower": 1223.1713928222657,
           "timepoint": 23.3,
           "trajectory": "H_sol",
           "upper": 2011.2589538574216
          },
          {
           "lower": 1236.98330078125,
           "timepoint": 23.4,
           "trajectory": "H_sol",
           "upper": 2037.183148193359
          },
          {
           "lower": 1250.5743713378906,
           "timepoint": 23.5,
           "trajectory": "H_sol",
           "upper": 2062.8051269531247
          },
          {
           "lower": 1263.9410888671875,
           "timepoint": 23.6,
           "trajectory": "H_sol",
           "upper": 2088.120129394531
          },
          {
           "lower": 1277.0814697265625,
           "timepoint": 23.7,
           "trajectory": "H_sol",
           "upper": 2113.1232543945307
          },
          {
           "lower": 1289.9931518554688,
           "timepoint": 23.8,
           "trajectory": "H_sol",
           "upper": 2137.8093139648436
          },
          {
           "lower": 1302.674737548828,
           "timepoint": 23.9,
           "trajectory": "H_sol",
           "upper": 2162.174609375
          },
          {
           "lower": 1315.1243225097655,
           "timepoint": 24,
           "trajectory": "H_sol",
           "upper": 2186.217297363281
          },
          {
           "lower": 1327.3403564453124,
           "timepoint": 24.1,
           "trajectory": "H_sol",
           "upper": 2209.9314453125
          },
          {
           "lower": 1339.3248962402345,
           "timepoint": 24.2,
           "trajectory": "H_sol",
           "upper": 2233.3154663085934
          },
          {
           "lower": 1351.0731384277344,
           "timepoint": 24.3,
           "trajectory": "H_sol",
           "upper": 2256.3672241210934
          },
          {
           "lower": 1362.5868041992187,
           "timepoint": 24.4,
           "trajectory": "H_sol",
           "upper": 2279.085021972656
          },
          {
           "lower": 1373.86533203125,
           "timepoint": 24.5,
           "trajectory": "H_sol",
           "upper": 2301.463891601562
          },
          {
           "lower": 1384.9085205078125,
           "timepoint": 24.6,
           "trajectory": "H_sol",
           "upper": 2323.5084350585935
          },
          {
           "lower": 1395.7188232421875,
           "timepoint": 24.7,
           "trajectory": "H_sol",
           "upper": 2345.2158569335934
          },
          {
           "lower": 1406.293719482422,
           "timepoint": 24.8,
           "trajectory": "H_sol",
           "upper": 2366.5863525390623
          },
          {
           "lower": 1416.6354675292969,
           "timepoint": 24.9,
           "trajectory": "H_sol",
           "upper": 2387.620385742187
          },
          {
           "lower": 1426.4162231445312,
           "timepoint": 25,
           "trajectory": "H_sol",
           "upper": 2408.317541503906
          },
          {
           "lower": 1435.391845703125,
           "timepoint": 25.1,
           "trajectory": "H_sol",
           "upper": 2428.66484375
          },
          {
           "lower": 1444.1219421386718,
           "timepoint": 25.2,
           "trajectory": "H_sol",
           "upper": 2448.684594726562
          },
          {
           "lower": 1452.6080993652345,
           "timepoint": 25.3,
           "trajectory": "H_sol",
           "upper": 2468.3689331054684
          },
          {
           "lower": 1460.8522521972657,
           "timepoint": 25.4,
           "trajectory": "H_sol",
           "upper": 2487.7190307617184
          },
          {
           "lower": 1468.8574157714843,
           "timepoint": 25.5,
           "trajectory": "H_sol",
           "upper": 2506.73662109375
          },
          {
           "lower": 1476.6239624023438,
           "timepoint": 25.6,
           "trajectory": "H_sol",
           "upper": 2525.4223632812495
          },
          {
           "lower": 1484.1545654296874,
           "timepoint": 25.7,
           "trajectory": "H_sol",
           "upper": 2543.7779663085935
          },
          {
           "lower": 1491.451397705078,
           "timepoint": 25.8,
           "trajectory": "H_sol",
           "upper": 2561.806518554687
          },
          {
           "lower": 1498.5172546386718,
           "timepoint": 25.9,
           "trajectory": "H_sol",
           "upper": 2579.509826660156
          },
          {
           "lower": 1505.3539428710938,
           "timepoint": 26,
           "trajectory": "H_sol",
           "upper": 2596.8898193359373
          },
          {
           "lower": 1511.9640258789063,
           "timepoint": 26.1,
           "trajectory": "H_sol",
           "upper": 2613.9488647460935
          },
          {
           "lower": 1518.351739501953,
           "timepoint": 26.2,
           "trajectory": "H_sol",
           "upper": 2630.689514160156
          },
          {
           "lower": 1524.51689453125,
           "timepoint": 26.3,
           "trajectory": "H_sol",
           "upper": 2647.1140014648436
          },
          {
           "lower": 1530.4634521484375,
           "timepoint": 26.4,
           "trajectory": "H_sol",
           "upper": 2663.227307128906
          },
          {
           "lower": 1536.1937377929687,
           "timepoint": 26.5,
           "trajectory": "H_sol",
           "upper": 2679.029382324218
          },
          {
           "lower": 1541.71064453125,
           "timepoint": 26.6,
           "trajectory": "H_sol",
           "upper": 2694.5243041992185
          },
          {
           "lower": 1547.0166259765624,
           "timepoint": 26.7,
           "trajectory": "H_sol",
           "upper": 2709.7145874023436
          },
          {
           "lower": 1552.117724609375,
           "timepoint": 26.8,
           "trajectory": "H_sol",
           "upper": 2724.603381347656
          },
          {
           "lower": 1557.0120178222655,
           "timepoint": 26.9,
           "trajectory": "H_sol",
           "upper": 2739.1943725585934
          },
          {
           "lower": 1561.7042297363282,
           "timepoint": 27,
           "trajectory": "H_sol",
           "upper": 2753.490258789062
          },
          {
           "lower": 1566.1971740722656,
           "timepoint": 27.1,
           "trajectory": "H_sol",
           "upper": 2767.498901367187
          },
          {
           "lower": 1570.4937438964844,
           "timepoint": 27.2,
           "trajectory": "H_sol",
           "upper": 2781.216040039062
          },
          {
           "lower": 1574.5967590332032,
           "timepoint": 27.3,
           "trajectory": "H_sol",
           "upper": 2794.6481567382807
          },
          {
           "lower": 1578.5092529296876,
           "timepoint": 27.4,
           "trajectory": "H_sol",
           "upper": 2807.799084472656
          },
          {
           "lower": 1582.2347351074218,
           "timepoint": 27.5,
           "trajectory": "H_sol",
           "upper": 2820.6726074218745
          },
          {
           "lower": 1585.7749877929687,
           "timepoint": 27.6,
           "trajectory": "H_sol",
           "upper": 2833.271545410156
          },
          {
           "lower": 1589.1334533691406,
           "timepoint": 27.7,
           "trajectory": "H_sol",
           "upper": 2845.6000610351557
          },
          {
           "lower": 1592.3128051757812,
           "timepoint": 27.8,
           "trajectory": "H_sol",
           "upper": 2857.6513549804686
          },
          {
           "lower": 1595.3163024902344,
           "timepoint": 27.9,
           "trajectory": "H_sol",
           "upper": 2869.4451049804684
          },
          {
           "lower": 1598.1466369628906,
           "timepoint": 28,
           "trajectory": "H_sol",
           "upper": 2880.978247070312
          },
          {
           "lower": 1600.8065979003907,
           "timepoint": 28.1,
           "trajectory": "H_sol",
           "upper": 2892.2534179687495
          },
          {
           "lower": 1603.2993225097657,
           "timepoint": 28.2,
           "trajectory": "H_sol",
           "upper": 2903.274987792968
          },
          {
           "lower": 1605.6274658203124,
           "timepoint": 28.3,
           "trajectory": "H_sol",
           "upper": 2914.0457885742185
          },
          {
           "lower": 1607.7937377929688,
           "timepoint": 28.4,
           "trajectory": "H_sol",
           "upper": 2924.5697143554685
          },
          {
           "lower": 1609.8010681152343,
           "timepoint": 28.5,
           "trajectory": "H_sol",
           "upper": 2934.850915527343
          },
          {
           "lower": 1611.6522644042968,
           "timepoint": 28.6,
           "trajectory": "H_sol",
           "upper": 2944.893957519531
          },
          {
           "lower": 1613.3501037597657,
           "timepoint": 28.7,
           "trajectory": "H_sol",
           "upper": 2954.698559570312
          },
          {
           "lower": 1614.89716796875,
           "timepoint": 28.8,
           "trajectory": "H_sol",
           "upper": 2964.270239257812
          },
          {
           "lower": 1616.2963500976562,
           "timepoint": 28.9,
           "trajectory": "H_sol",
           "upper": 2973.612609863281
          },
          {
           "lower": 1617.5519958496093,
           "timepoint": 29,
           "trajectory": "H_sol",
           "upper": 2982.728979492187
          },
          {
           "lower": 1618.6642333984375,
           "timepoint": 29.1,
           "trajectory": "H_sol",
           "upper": 2991.6229370117185
          },
          {
           "lower": 1619.6366149902344,
           "timepoint": 29.2,
           "trajectory": "H_sol",
           "upper": 3000.297912597656
          },
          {
           "lower": 1620.4718078613282,
           "timepoint": 29.3,
           "trajectory": "H_sol",
           "upper": 3008.756860351562
          },
          {
           "lower": 1621.1723693847657,
           "timepoint": 29.4,
           "trajectory": "H_sol",
           "upper": 3016.9988159179684
          },
          {
           "lower": 1621.7413146972656,
           "timepoint": 29.5,
           "trajectory": "H_sol",
           "upper": 3025.0350463867185
          },
          {
           "lower": 1622.1808471679688,
           "timepoint": 29.6,
           "trajectory": "H_sol",
           "upper": 3032.865063476562
          },
          {
           "lower": 1622.4935119628906,
           "timepoint": 29.7,
           "trajectory": "H_sol",
           "upper": 3040.492492675781
          },
          {
           "lower": 1622.6822143554687,
           "timepoint": 29.8,
           "trajectory": "H_sol",
           "upper": 3047.9196777343745
          },
          {
           "lower": 1622.74912109375,
           "timepoint": 29.9,
           "trajectory": "H_sol",
           "upper": 3055.150854492187
          },
          {
           "lower": 1622.6964477539063,
           "timepoint": 30,
           "trajectory": "H_sol",
           "upper": 3062.188806152343
          },
          {
           "lower": 1622.526873779297,
           "timepoint": 30.1,
           "trajectory": "H_sol",
           "upper": 3069.0366699218744
          },
          {
           "lower": 1622.6215270996095,
           "timepoint": 30.2,
           "trajectory": "H_sol",
           "upper": 3075.7008911132807
          },
          {
           "lower": 1623.0019470214843,
           "timepoint": 30.3,
           "trajectory": "H_sol",
           "upper": 3082.178625488281
          },
          {
           "lower": 1623.275164794922,
           "timepoint": 30.4,
           "trajectory": "H_sol",
           "upper": 3088.4758300781245
          },
          {
           "lower": 1623.4433715820312,
           "timepoint": 30.5,
           "trajectory": "H_sol",
           "upper": 3094.594982910156
          },
          {
           "lower": 1623.5084350585937,
           "timepoint": 30.6,
           "trajectory": "H_sol",
           "upper": 3100.539562988281
          },
          {
           "lower": 1623.4735046386718,
           "timepoint": 30.7,
           "trajectory": "H_sol",
           "upper": 3106.312280273437
          },
          {
           "lower": 1623.3388732910157,
           "timepoint": 30.8,
           "trajectory": "H_sol",
           "upper": 3111.915991210937
          },
          {
           "lower": 1623.1074523925781,
           "timepoint": 30.9,
           "trajectory": "H_sol",
           "upper": 3117.353601074218
          },
          {
           "lower": 1622.7808532714844,
           "timepoint": 31,
           "trajectory": "H_sol",
           "upper": 3122.6282836914056
          },
          {
           "lower": 1622.3196411132812,
           "timepoint": 31.1,
           "trajectory": "H_sol",
           "upper": 3127.7445922851557
          },
          {
           "lower": 1620.540020751953,
           "timepoint": 31.2,
           "trajectory": "H_sol",
           "upper": 3132.701733398437
          },
          {
           "lower": 1618.6675048828124,
           "timepoint": 31.3,
           "trajectory": "H_sol",
           "upper": 3138.7571777343746
          },
          {
           "lower": 1616.7044067382812,
           "timepoint": 31.4,
           "trajectory": "H_sol",
           "upper": 3145.099975585937
          },
          {
           "lower": 1614.6529052734375,
           "timepoint": 31.5,
           "trajectory": "H_sol",
           "upper": 3151.308166503906
          },
          {
           "lower": 1612.5147094726562,
           "timepoint": 31.6,
           "trajectory": "H_sol",
           "upper": 3157.387036132812
          },
          {
           "lower": 1610.2920654296875,
           "timepoint": 31.7,
           "trajectory": "H_sol",
           "upper": 3163.334350585937
          },
          {
           "lower": 1607.986993408203,
           "timepoint": 31.8,
           "trajectory": "H_sol",
           "upper": 3169.154418945312
          },
          {
           "lower": 1605.646142578125,
           "timepoint": 31.9,
           "trajectory": "H_sol",
           "upper": 3174.849682617187
          },
          {
           "lower": 1603.2284790039062,
           "timepoint": 32,
           "trajectory": "H_sol",
           "upper": 3180.4221557617184
          },
          {
           "lower": 1600.7353210449219,
           "timepoint": 32.1,
           "trajectory": "H_sol",
           "upper": 3185.8740234374995
          },
          {
           "lower": 1598.656512451172,
           "timepoint": 32.2,
           "trajectory": "H_sol",
           "upper": 3191.2075073242186
          },
          {
           "lower": 1597.2817138671876,
           "timepoint": 32.3,
           "trajectory": "H_sol",
           "upper": 3196.4250366210936
          },
          {
           "lower": 1595.836444091797,
           "timepoint": 32.4,
           "trajectory": "H_sol",
           "upper": 3201.528405761718
          },
          {
           "lower": 1594.3231201171875,
           "timepoint": 32.5,
           "trajectory": "H_sol",
           "upper": 3206.5197631835936
          },
          {
           "lower": 1592.7432189941405,
           "timepoint": 32.6,
           "trajectory": "H_sol",
           "upper": 3211.3949218749995
          },
          {
           "lower": 1591.098321533203,
           "timepoint": 32.7,
           "trajectory": "H_sol",
           "upper": 3216.1661499023435
          },
          {
           "lower": 1589.3900512695313,
           "timepoint": 32.8,
           "trajectory": "H_sol",
           "upper": 3220.831079101562
          },
          {
           "lower": 1587.2600708007812,
           "timepoint": 32.9,
           "trajectory": "H_sol",
           "upper": 3225.391442871093
          },
          {
           "lower": 1583.6919189453124,
           "timepoint": 33,
           "trajectory": "H_sol",
           "upper": 3229.849206542968
          },
          {
           "lower": 1580.0665710449218,
           "timepoint": 33.1,
           "trajectory": "H_sol",
           "upper": 3234.206079101562
          },
          {
           "lower": 1576.3851196289063,
           "timepoint": 33.2,
           "trajectory": "H_sol",
           "upper": 3238.4643066406247
          },
          {
           "lower": 1572.649884033203,
           "timepoint": 33.3,
           "trajectory": "H_sol",
           "upper": 3242.6250854492187
          },
          {
           "lower": 1568.861834716797,
           "timepoint": 33.4,
           "trajectory": "H_sol",
           "upper": 3246.6901855468745
          },
          {
           "lower": 1565.0233825683595,
           "timepoint": 33.5,
           "trajectory": "H_sol",
           "upper": 3250.6615600585933
          },
          {
           "lower": 1561.13515625,
           "timepoint": 33.6,
           "trajectory": "H_sol",
           "upper": 3254.5411499023435
          },
          {
           "lower": 1557.1987548828124,
           "timepoint": 33.7,
           "trajectory": "H_sol",
           "upper": 3258.3307983398436
          },
          {
           "lower": 1553.2160583496093,
           "timepoint": 33.8,
           "trajectory": "H_sol",
           "upper": 3262.0369628906246
          },
          {
           "lower": 1549.1883117675782,
           "timepoint": 33.9,
           "trajectory": "H_sol",
           "upper": 3265.6521362304684
          },
          {
           "lower": 1545.3135375976562,
           "timepoint": 34,
           "trajectory": "H_sol",
           "upper": 3269.181469726562
          },
          {
           "lower": 1542.0098693847656,
           "timepoint": 34.1,
           "trajectory": "H_sol",
           "upper": 3272.6274291992186
          },
          {
           "lower": 1538.6626403808593,
           "timepoint": 34.2,
           "trajectory": "H_sol",
           "upper": 3275.991467285156
          },
          {
           "lower": 1535.2735534667968,
           "timepoint": 34.3,
           "trajectory": "H_sol",
           "upper": 3279.2743652343747
          },
          {
           "lower": 1531.843243408203,
           "timepoint": 34.4,
           "trajectory": "H_sol",
           "upper": 3282.4785400390624
          },
          {
           "lower": 1528.373272705078,
           "timepoint": 34.5,
           "trajectory": "H_sol",
           "upper": 3285.6047729492184
          },
          {
           "lower": 1524.8646240234375,
           "timepoint": 34.6,
           "trajectory": "H_sol",
           "upper": 3288.654760742187
          },
          {
           "lower": 1521.3182861328125,
           "timepoint": 34.7,
           "trajectory": "H_sol",
           "upper": 3291.6302246093746
          },
          {
           "lower": 1517.7388671875,
           "timepoint": 34.8,
           "trajectory": "H_sol",
           "upper": 3294.5323974609373
          },
          {
           "lower": 1514.1216430664062,
           "timepoint": 34.9,
           "trajectory": "H_sol",
           "upper": 3297.362353515625
          },
          {
           "lower": 1510.4704040527345,
           "timepoint": 35,
           "trajectory": "H_sol",
           "upper": 3300.1172729492187
          },
          {
           "lower": 1506.7861206054688,
           "timepoint": 35.1,
           "trajectory": "H_sol",
           "upper": 3302.806359863281
          },
          {
           "lower": 1503.0697875976562,
           "timepoint": 35.2,
           "trajectory": "H_sol",
           "upper": 3305.4275756835937
          },
          {
           "lower": 1499.3230529785155,
           "timepoint": 35.3,
           "trajectory": "H_sol",
           "upper": 3307.9812255859374
          },
          {
           "lower": 1495.564923095703,
           "timepoint": 35.4,
           "trajectory": "H_sol",
           "upper": 3310.469934082031
          },
          {
           "lower": 1491.7779113769532,
           "timepoint": 35.5,
           "trajectory": "H_sol",
           "upper": 3312.894250488281
          },
          {
           "lower": 1487.962646484375,
           "timepoint": 35.6,
           "trajectory": "H_sol",
           "upper": 3315.2549438476562
          },
          {
           "lower": 1484.1197448730468,
           "timepoint": 35.7,
           "trajectory": "H_sol",
           "upper": 3317.5541503906247
          },
          {
           "lower": 1480.25078125,
           "timepoint": 35.8,
           "trajectory": "H_sol",
           "upper": 3319.7924316406247
          },
          {
           "lower": 1476.35625,
           "timepoint": 35.9,
           "trajectory": "H_sol",
           "upper": 3321.970751953125
          },
          {
           "lower": 1472.4370178222657,
           "timepoint": 36,
           "trajectory": "H_sol",
           "upper": 3324.0908447265624
          },
          {
           "lower": 1468.4942932128906,
           "timepoint": 36.1,
           "trajectory": "H_sol",
           "upper": 3326.1529296875
          },
          {
           "lower": 1464.5284545898437,
           "timepoint": 36.2,
           "trajectory": "H_sol",
           "upper": 3328.1587768554687
          },
          {
           "lower": 1460.5408508300782,
           "timepoint": 36.3,
           "trajectory": "H_sol",
           "upper": 3330.109655761719
          },
          {
           "lower": 1456.5319519042969,
           "timepoint": 36.4,
           "trajectory": "H_sol",
           "upper": 3332.0061279296874
          },
          {
           "lower": 1452.5026916503907,
           "timepoint": 36.5,
           "trajectory": "H_sol",
           "upper": 3333.8493041992188
          },
          {
           "lower": 1448.4539306640625,
           "timepoint": 36.6,
           "trajectory": "H_sol",
           "upper": 3335.64013671875
          },
          {
           "lower": 1444.3859802246093,
           "timepoint": 36.7,
           "trajectory": "H_sol",
           "upper": 3337.379431152344
          },
          {
           "lower": 1440.3001708984375,
           "timepoint": 36.8,
           "trajectory": "H_sol",
           "upper": 3339.0690673828126
          },
          {
           "lower": 1436.196875,
           "timepoint": 36.9,
           "trajectory": "H_sol",
           "upper": 3340.70908203125
          },
          {
           "lower": 1432.077294921875,
           "timepoint": 37,
           "trajectory": "H_sol",
           "upper": 3342.3009643554688
          },
          {
           "lower": 1427.941583251953,
           "timepoint": 37.1,
           "trajectory": "H_sol",
           "upper": 3343.8447509765624
          },
          {
           "lower": 1423.7905822753905,
           "timepoint": 37.2,
           "trajectory": "H_sol",
           "upper": 3345.3430419921874
          },
          {
           "lower": 1419.6251586914063,
           "timepoint": 37.3,
           "trajectory": "H_sol",
           "upper": 3346.7947387695312
          },
          {
           "lower": 1415.4426574707031,
           "timepoint": 37.4,
           "trajectory": "H_sol",
           "upper": 3348.201953125
          },
          {
           "lower": 1411.2493896484375,
           "timepoint": 37.5,
           "trajectory": "H_sol",
           "upper": 3349.565466308594
          },
          {
           "lower": 1407.04365234375,
           "timepoint": 37.6,
           "trajectory": "H_sol",
           "upper": 3350.885986328125
          },
          {
           "lower": 1402.8254638671874,
           "timepoint": 37.7,
           "trajectory": "H_sol",
           "upper": 3352.1644897460938
          },
          {
           "lower": 1398.596258544922,
           "timepoint": 37.8,
           "trajectory": "H_sol",
           "upper": 3353.4013427734376
          },
          {
           "lower": 1394.355645751953,
           "timepoint": 37.9,
           "trajectory": "H_sol",
           "upper": 3354.5923583984377
          },
          {
           "lower": 1390.1051513671875,
           "timepoint": 38,
           "trajectory": "H_sol",
           "upper": 3355.7473266601564
          },
          {
           "lower": 1385.8447692871093,
           "timepoint": 38.1,
           "trajectory": "H_sol",
           "upper": 3356.7487915039064
          },
          {
           "lower": 1381.5753295898437,
           "timepoint": 38.2,
           "trajectory": "H_sol",
           "upper": 3355.6208374023436
          },
          {
           "lower": 1377.2972106933594,
           "timepoint": 38.3,
           "trajectory": "H_sol",
           "upper": 3354.4517822265625
          },
          {
           "lower": 1373.0111450195313,
           "timepoint": 38.4,
           "trajectory": "H_sol",
           "upper": 3353.2421875
          },
          {
           "lower": 1368.7175048828126,
           "timepoint": 38.5,
           "trajectory": "H_sol",
           "upper": 3351.9931884765624
          },
          {
           "lower": 1364.4169067382813,
           "timepoint": 38.6,
           "trajectory": "H_sol",
           "upper": 3350.705773925781
          },
          {
           "lower": 1360.109686279297,
           "timepoint": 38.7,
           "trajectory": "H_sol",
           "upper": 3349.3804321289062
          },
          {
           "lower": 1355.7971984863282,
           "timepoint": 38.8,
           "trajectory": "H_sol",
           "upper": 3348.017895507812
          },
          {
           "lower": 1351.4782653808593,
           "timepoint": 38.9,
           "trajectory": "H_sol",
           "upper": 3346.618908691406
          },
          {
           "lower": 1347.1545532226562,
           "timepoint": 39,
           "trajectory": "H_sol",
           "upper": 3345.1844116210937
          },
          {
           "lower": 1342.8260925292968,
           "timepoint": 39.1,
           "trajectory": "H_sol",
           "upper": 3343.7146606445312
          },
          {
           "lower": 1338.493231201172,
           "timepoint": 39.2,
           "trajectory": "H_sol",
           "upper": 3342.2108642578123
          },
          {
           "lower": 1334.1567749023438,
           "timepoint": 39.3,
           "trajectory": "H_sol",
           "upper": 3340.6823242187497
          },
          {
           "lower": 1329.816717529297,
           "timepoint": 39.4,
           "trajectory": "H_sol",
           "upper": 3339.1140014648436
          },
          {
           "lower": 1325.4739807128906,
           "timepoint": 39.5,
           "trajectory": "H_sol",
           "upper": 3337.51396484375
          },
          {
           "lower": 1321.128564453125,
           "timepoint": 39.6,
           "trajectory": "H_sol",
           "upper": 3335.882824707031
          },
          {
           "lower": 1316.78095703125,
           "timepoint": 39.7,
           "trajectory": "H_sol",
           "upper": 3334.220568847656
          },
          {
           "lower": 1312.4314086914062,
           "timepoint": 39.8,
           "trajectory": "H_sol",
           "upper": 3332.5288330078124
          },
          {
           "lower": 1308.0806213378905,
           "timepoint": 39.9,
           "trajectory": "H_sol",
           "upper": 3330.807653808594
          },
          {
           "lower": 1303.728759765625,
           "timepoint": 40,
           "trajectory": "H_sol",
           "upper": 3329.05751953125
          },
          {
           "lower": 1299.376287841797,
           "timepoint": 40.1,
           "trajectory": "H_sol",
           "upper": 3327.2798461914062
          },
          {
           "lower": 1294.5630615234375,
           "timepoint": 40.2,
           "trajectory": "H_sol",
           "upper": 3325.4737304687496
          },
          {
           "lower": 1289.4542541503906,
           "timepoint": 40.3,
           "trajectory": "H_sol",
           "upper": 3323.6415283203123
          },
          {
           "lower": 1284.3499877929687,
           "timepoint": 40.4,
           "trajectory": "H_sol",
           "upper": 3321.7825317382812
          },
          {
           "lower": 1279.2513244628906,
           "timepoint": 40.5,
           "trajectory": "H_sol",
           "upper": 3319.8979736328124
          },
          {
           "lower": 1274.1560913085937,
           "timepoint": 40.6,
           "trajectory": "H_sol",
           "upper": 3317.9880981445312
          },
          {
           "lower": 1269.0993896484374,
           "timepoint": 40.7,
           "trajectory": "H_sol",
           "upper": 3316.053381347656
          },
          {
           "lower": 1264.052801513672,
           "timepoint": 40.8,
           "trajectory": "H_sol",
           "upper": 3314.0947509765624
          },
          {
           "lower": 1259.0124206542969,
           "timepoint": 40.9,
           "trajectory": "H_sol",
           "upper": 3312.112756347656
          },
          {
           "lower": 1253.97880859375,
           "timepoint": 41,
           "trajectory": "H_sol",
           "upper": 3310.107568359375
          },
          {
           "lower": 1248.951885986328,
           "timepoint": 41.1,
           "trajectory": "H_sol",
           "upper": 3308.0795288085938
          },
          {
           "lower": 1243.9324096679688,
           "timepoint": 41.2,
           "trajectory": "H_sol",
           "upper": 3306.0284545898435
          },
          {
           "lower": 1238.920233154297,
           "timepoint": 41.3,
           "trajectory": "H_sol",
           "upper": 3303.9568725585937
          },
          {
           "lower": 1233.9158020019531,
           "timepoint": 41.4,
           "trajectory": "H_sol",
           "upper": 3301.8633789062496
          },
          {
           "lower": 1228.9196044921875,
           "timepoint": 41.5,
           "trajectory": "H_sol",
           "upper": 3299.749633789062
          },
          {
           "lower": 1223.9318786621093,
           "timepoint": 41.6,
           "trajectory": "H_sol",
           "upper": 3297.6151611328123
          },
          {
           "lower": 1218.952294921875,
           "timepoint": 41.7,
           "trajectory": "H_sol",
           "upper": 3295.460900878906
          },
          {
           "lower": 1213.9817993164063,
           "timepoint": 41.8,
           "trajectory": "H_sol",
           "upper": 3293.2871337890624
          },
          {
           "lower": 1209.0200439453124,
           "timepoint": 41.9,
           "trajectory": "H_sol",
           "upper": 3291.094555664062
          },
          {
           "lower": 1204.0705200195312,
           "timepoint": 42,
           "trajectory": "H_sol",
           "upper": 3288.8836425781246
          },
          {
           "lower": 1199.128369140625,
           "timepoint": 42.1,
           "trajectory": "H_sol",
           "upper": 3286.65419921875
          },
          {
           "lower": 1194.1955810546874,
           "timepoint": 42.2,
           "trajectory": "H_sol",
           "upper": 3284.4066894531247
          },
          {
           "lower": 1189.273193359375,
           "timepoint": 42.3,
           "trajectory": "H_sol",
           "upper": 3282.142065429687
          },
          {
           "lower": 1184.3608825683593,
           "timepoint": 42.4,
           "trajectory": "H_sol",
           "upper": 3279.8598632812495
          },
          {
           "lower": 1179.4587707519531,
           "timepoint": 42.5,
           "trajectory": "H_sol",
           "upper": 3277.5615234374995
          },
          {
           "lower": 1174.5674560546875,
           "timepoint": 42.6,
           "trajectory": "H_sol",
           "upper": 3275.2512084960936
          },
          {
           "lower": 1169.6867065429688,
           "timepoint": 42.7,
           "trajectory": "H_sol",
           "upper": 3272.921508789062
          },
          {
           "lower": 1164.8172241210937,
           "timepoint": 42.8,
           "trajectory": "H_sol",
           "upper": 3270.5761718749995
          },
          {
           "lower": 1159.9586547851563,
           "timepoint": 42.9,
           "trajectory": "H_sol",
           "upper": 3268.215649414062
          },
          {
           "lower": 1155.1113830566405,
           "timepoint": 43,
           "trajectory": "H_sol",
           "upper": 3265.8406738281246
          },
          {
           "lower": 1150.2759887695313,
           "timepoint": 43.1,
           "trajectory": "H_sol",
           "upper": 3263.450842285156
          },
          {
           "lower": 1145.4517700195313,
           "timepoint": 43.2,
           "trajectory": "H_sol",
           "upper": 3261.0470458984373
          },
          {
           "lower": 1140.6396789550781,
           "timepoint": 43.3,
           "trajectory": "H_sol",
           "upper": 3258.6295288085935
          },
          {
           "lower": 1135.8397216796875,
           "timepoint": 43.4,
           "trajectory": "H_sol",
           "upper": 3256.198315429687
          },
          {
           "lower": 1131.0509765625,
           "timepoint": 43.5,
           "trajectory": "H_sol",
           "upper": 3253.7540893554683
          },
          {
           "lower": 1126.5615966796875,
           "timepoint": 43.6,
           "trajectory": "H_sol",
           "upper": 3251.2964233398434
          },
          {
           "lower": 1122.635791015625,
           "timepoint": 43.7,
           "trajectory": "H_sol",
           "upper": 3248.826733398437
          },
          {
           "lower": 1118.71689453125,
           "timepoint": 43.8,
           "trajectory": "H_sol",
           "upper": 3246.344299316406
          },
          {
           "lower": 1114.8050109863282,
           "timepoint": 43.9,
           "trajectory": "H_sol",
           "upper": 3243.8500976562495
          },
          {
           "lower": 1110.9005249023437,
           "timepoint": 44,
           "trajectory": "H_sol",
           "upper": 3241.3441040039056
          },
          {
           "lower": 1107.0034240722657,
           "timepoint": 44.1,
           "trajectory": "H_sol",
           "upper": 3238.826831054687
          },
          {
           "lower": 1103.1113891601562,
           "timepoint": 44.2,
           "trajectory": "H_sol",
           "upper": 3236.2980346679683
          },
          {
           "lower": 1099.2288513183594,
           "timepoint": 44.3,
           "trajectory": "H_sol",
           "upper": 3233.758422851562
          },
          {
           "lower": 1095.3539489746095,
           "timepoint": 44.4,
           "trajectory": "H_sol",
           "upper": 3231.2117187499994
          },
          {
           "lower": 1091.4870544433593,
           "timepoint": 44.5,
           "trajectory": "H_sol",
           "upper": 3228.651696777343
          },
          {
           "lower": 1087.6279052734376,
           "timepoint": 44.6,
           "trajectory": "H_sol",
           "upper": 3226.081604003906
          },
          {
           "lower": 1083.7766357421874,
           "timepoint": 44.7,
           "trajectory": "H_sol",
           "upper": 3223.5014282226557
          },
          {
           "lower": 1079.9336242675781,
           "timepoint": 44.8,
           "trajectory": "H_sol",
           "upper": 3220.911682128906
          },
          {
           "lower": 1076.0986083984376,
           "timepoint": 44.9,
           "trajectory": "H_sol",
           "upper": 3218.312512207031
          },
          {
           "lower": 1072.2720825195313,
           "timepoint": 45,
           "trajectory": "H_sol",
           "upper": 3215.704467773437
          },
          {
           "lower": 1068.4538024902345,
           "timepoint": 45.1,
           "trajectory": "H_sol",
           "upper": 3213.0875488281245
          },
          {
           "lower": 1064.6438720703125,
           "timepoint": 45.2,
           "trajectory": "H_sol",
           "upper": 3210.4617675781246
          },
          {
           "lower": 1060.8427856445312,
           "timepoint": 45.3,
           "trajectory": "H_sol",
           "upper": 3207.827368164062
          },
          {
           "lower": 1057.0501892089844,
           "timepoint": 45.4,
           "trajectory": "H_sol",
           "upper": 3205.1848144531245
          },
          {
           "lower": 1053.2665588378907,
           "timepoint": 45.5,
           "trajectory": "H_sol",
           "upper": 3202.534582519531
          },
          {
           "lower": 1049.4916687011719,
           "timepoint": 45.6,
           "trajectory": "H_sol",
           "upper": 3199.8762207031245
          },
          {
           "lower": 1045.7254943847656,
           "timepoint": 45.7,
           "trajectory": "H_sol",
           "upper": 3197.210437011718
          },
          {
           "lower": 1041.968423461914,
           "timepoint": 45.8,
           "trajectory": "H_sol",
           "upper": 3194.497045898437
          },
          {
           "lower": 1038.220895385742,
           "timepoint": 45.9,
           "trajectory": "H_sol",
           "upper": 3191.732751464843
          },
          {
           "lower": 1034.482241821289,
           "timepoint": 46,
           "trajectory": "H_sol",
           "upper": 3188.9608032226556
          },
          {
           "lower": 1030.7525665283204,
           "timepoint": 46.1,
           "trajectory": "H_sol",
           "upper": 3186.182922363281
          },
          {
           "lower": 1027.032211303711,
           "timepoint": 46.2,
           "trajectory": "H_sol",
           "upper": 3183.3976684570307
          },
          {
           "lower": 1023.3214324951172,
           "timepoint": 46.3,
           "trajectory": "H_sol",
           "upper": 3180.5999633789056
          },
          {
           "lower": 1019.6196899414062,
           "timepoint": 46.4,
           "trajectory": "H_sol",
           "upper": 3177.801159667968
          },
          {
           "lower": 1015.9277038574219,
           "timepoint": 46.5,
           "trajectory": "H_sol",
           "upper": 3174.9966552734368
          },
          {
           "lower": 1012.2450561523438,
           "timepoint": 46.6,
           "trajectory": "H_sol",
           "upper": 3172.1862182617183
          },
          {
           "lower": 1008.5718933105469,
           "timepoint": 46.7,
           "trajectory": "H_sol",
           "upper": 3169.369360351562
          },
          {
           "lower": 1004.9085632324219,
           "timepoint": 46.8,
           "trajectory": "H_sol",
           "upper": 3166.5473144531243
          },
          {
           "lower": 1001.2546875,
           "timepoint": 46.9,
           "trajectory": "H_sol",
           "upper": 3163.7193359374996
          },
          {
           "lower": 997.6107421875,
           "timepoint": 47,
           "trajectory": "H_sol",
           "upper": 3160.886401367187
          },
          {
           "lower": 993.9764953613281,
           "timepoint": 47.1,
           "trajectory": "H_sol",
           "upper": 3158.6677368164055
          },
          {
           "lower": 990.3519927978516,
           "timepoint": 47.2,
           "trajectory": "H_sol",
           "upper": 3157.4924804687494
          },
          {
           "lower": 986.737435913086,
           "timepoint": 47.3,
           "trajectory": "H_sol",
           "upper": 3156.3108642578118
          },
          {
           "lower": 983.132681274414,
           "timepoint": 47.4,
           "trajectory": "H_sol",
           "upper": 3155.122680664062
          },
          {
           "lower": 979.5379852294922,
           "timepoint": 47.5,
           "trajectory": "H_sol",
           "upper": 3153.9286132812495
          },
          {
           "lower": 975.9533447265625,
           "timepoint": 47.6,
           "trajectory": "H_sol",
           "upper": 3152.7282348632807
          },
          {
           "lower": 972.3785125732422,
           "timepoint": 47.7,
           "trajectory": "H_sol",
           "upper": 3151.5220092773434
          },
          {
           "lower": 968.8139739990235,
           "timepoint": 47.8,
           "trajectory": "H_sol",
           "upper": 3150.3099121093746
          },
          {
           "lower": 965.2593627929688,
           "timepoint": 47.9,
           "trajectory": "H_sol",
           "upper": 3149.0917602539057
          },
          {
           "lower": 961.7150451660157,
           "timepoint": 48,
           "trajectory": "H_sol",
           "upper": 3147.868249511718
          },
          {
           "lower": 958.1807830810546,
           "timepoint": 48.1,
           "trajectory": "H_sol",
           "upper": 3146.6391113281243
          },
          {
           "lower": 954.6566833496094,
           "timepoint": 48.2,
           "trajectory": "H_sol",
           "upper": 3145.4064941406245
          },
          {
           "lower": 951.1427642822266,
           "timepoint": 48.3,
           "trajectory": "H_sol",
           "upper": 3144.167114257812
          },
          {
           "lower": 947.6389892578125,
           "timepoint": 48.4,
           "trajectory": "H_sol",
           "upper": 3142.922180175781
          },
          {
           "lower": 944.1456909179688,
           "timepoint": 48.5,
           "trajectory": "H_sol",
           "upper": 3141.672338867187
          },
          {
           "lower": 940.6626739501953,
           "timepoint": 48.6,
           "trajectory": "H_sol",
           "upper": 3140.417895507812
          },
          {
           "lower": 937.189828491211,
           "timepoint": 48.7,
           "trajectory": "H_sol",
           "upper": 3139.1578613281245
          },
          {
           "lower": 933.7273345947266,
           "timepoint": 48.8,
           "trajectory": "H_sol",
           "upper": 3137.893200683593
          },
          {
           "lower": 930.2752868652344,
           "timepoint": 48.9,
           "trajectory": "H_sol",
           "upper": 3136.624157714843
          },
          {
           "lower": 926.8335998535156,
           "timepoint": 49,
           "trajectory": "H_sol",
           "upper": 3135.350024414062
          },
          {
           "lower": 923.4023071289063,
           "timepoint": 49.1,
           "trajectory": "H_sol",
           "upper": 3134.0715454101555
          },
          {
           "lower": 919.9813598632812,
           "timepoint": 49.2,
           "trajectory": "H_sol",
           "upper": 3132.7886474609368
          },
          {
           "lower": 916.5709869384766,
           "timepoint": 49.3,
           "trajectory": "H_sol",
           "upper": 3131.5014038085933
          },
          {
           "lower": 913.1708374023438,
           "timepoint": 49.4,
           "trajectory": "H_sol",
           "upper": 3130.2095458984368
          },
          {
           "lower": 909.78173828125,
           "timepoint": 49.5,
           "trajectory": "H_sol",
           "upper": 3128.913562011718
          },
          {
           "lower": 906.4026824951172,
           "timepoint": 49.6,
           "trajectory": "H_sol",
           "upper": 3127.6135620117184
          },
          {
           "lower": 903.0339660644531,
           "timepoint": 49.7,
           "trajectory": "H_sol",
           "upper": 3126.309069824218
          },
          {
           "lower": 899.6758911132813,
           "timepoint": 49.8,
           "trajectory": "H_sol",
           "upper": 3125.000964355468
          },
          {
           "lower": 896.3281982421875,
           "timepoint": 49.9,
           "trajectory": "H_sol",
           "upper": 3123.688488769531
          },
          {
           "lower": 892.9909729003906,
           "timepoint": 50,
           "trajectory": "H_sol",
           "upper": 3122.3723632812494
          },
          {
           "lower": 889.6644317626954,
           "timepoint": 50.1,
           "trajectory": "H_sol",
           "upper": 3121.052612304687
          },
          {
           "lower": 886.3481689453125,
           "timepoint": 50.2,
           "trajectory": "H_sol",
           "upper": 3119.7285156249995
          },
          {
           "lower": 883.0425964355469,
           "timepoint": 50.3,
           "trajectory": "H_sol",
           "upper": 3118.401037597656
          },
          {
           "lower": 879.7541656494141,
           "timepoint": 50.4,
           "trajectory": "H_sol",
           "upper": 3117.0780273437495
          },
          {
           "lower": 876.4801849365234,
           "timepoint": 50.5,
           "trajectory": "H_sol",
           "upper": 3115.744689941406
          },
          {
           "lower": 873.2165618896485,
           "timepoint": 50.6,
           "trajectory": "H_sol",
           "upper": 3114.4079223632807
          },
          {
           "lower": 869.9632934570312,
           "timepoint": 50.7,
           "trajectory": "H_sol",
           "upper": 3113.0682617187495
          },
          {
           "lower": 866.7205627441406,
           "timepoint": 50.8,
           "trajectory": "H_sol",
           "upper": 3111.7249877929685
          },
          {
           "lower": 863.4881286621094,
           "timepoint": 50.9,
           "trajectory": "H_sol",
           "upper": 3110.3787719726556
          },
          {
           "lower": 860.2663421630859,
           "timepoint": 51,
           "trajectory": "H_sol",
           "upper": 3109.028979492187
          },
          {
           "lower": 857.0549774169922,
           "timepoint": 51.1,
           "trajectory": "H_sol",
           "upper": 3107.6765136718745
          },
          {
           "lower": 853.8538421630859,
           "timepoint": 51.2,
           "trajectory": "H_sol",
           "upper": 3106.320642089843
          },
          {
           "lower": 850.6633575439453,
           "timepoint": 51.3,
           "trajectory": "H_sol",
           "upper": 3104.9623657226557
          },
          {
           "lower": 847.4836791992187,
           "timepoint": 51.4,
           "trajectory": "H_sol",
           "upper": 3103.601159667968
          },
          {
           "lower": 844.314077758789,
           "timepoint": 51.5,
           "trajectory": "H_sol",
           "upper": 3102.2368652343744
          },
          {
           "lower": 841.1548248291016,
           "timepoint": 51.6,
           "trajectory": "H_sol",
           "upper": 3100.8696655273434
          },
          {
           "lower": 838.005859375,
           "timepoint": 51.7,
           "trajectory": "H_sol",
           "upper": 3099.500012207031
          },
          {
           "lower": 834.8675354003906,
           "timepoint": 51.8,
           "trajectory": "H_sol",
           "upper": 3098.128088378906
          },
          {
           "lower": 831.7394348144531,
           "timepoint": 51.9,
           "trajectory": "H_sol",
           "upper": 3096.7531738281245
          },
          {
           "lower": 828.6218627929687,
           "timepoint": 52,
           "trajectory": "H_sol",
           "upper": 3095.375402832031
          },
          {
           "lower": 825.5146392822265,
           "timepoint": 52.1,
           "trajectory": "H_sol",
           "upper": 3093.9952270507806
          },
          {
           "lower": 822.4176940917969,
           "timepoint": 52.2,
           "trajectory": "H_sol",
           "upper": 3092.612634277343
          },
          {
           "lower": 819.3312164306641,
           "timepoint": 52.3,
           "trajectory": "H_sol",
           "upper": 3091.227856445312
          },
          {
           "lower": 816.2550872802734,
           "timepoint": 52.4,
           "trajectory": "H_sol",
           "upper": 3089.8404418945306
          },
          {
           "lower": 813.1893646240235,
           "timepoint": 52.5,
           "trajectory": "H_sol",
           "upper": 3088.451086425781
          },
          {
           "lower": 810.1339752197266,
           "timepoint": 52.6,
           "trajectory": "H_sol",
           "upper": 3087.0591308593744
          },
          {
           "lower": 807.0888061523438,
           "timepoint": 52.7,
           "trajectory": "H_sol",
           "upper": 3085.663586425781
          },
          {
           "lower": 804.0540374755859,
           "timepoint": 52.8,
           "trajectory": "H_sol",
           "upper": 3084.267065429687
          },
          {
           "lower": 801.0295440673829,
           "timepoint": 52.9,
           "trajectory": "H_sol",
           "upper": 3082.8683715820307
          },
          {
           "lower": 798.0152709960937,
           "timepoint": 53,
           "trajectory": "H_sol",
           "upper": 3081.467749023437
          },
          {
           "lower": 795.0114501953125,
           "timepoint": 53.1,
           "trajectory": "H_sol",
           "upper": 3080.065197753906
          },
          {
           "lower": 792.0177185058594,
           "timepoint": 53.2,
           "trajectory": "H_sol",
           "upper": 3078.660278320312
          },
          {
           "lower": 789.0343322753906,
           "timepoint": 53.3,
           "trajectory": "H_sol",
           "upper": 3077.253442382812
          },
          {
           "lower": 786.0606262207032,
           "timepoint": 53.4,
           "trajectory": "H_sol",
           "upper": 3075.8444335937497
          },
          {
           "lower": 783.0976623535156,
           "timepoint": 53.5,
           "trajectory": "H_sol",
           "upper": 3074.433752441406
          },
          {
           "lower": 780.1449005126954,
           "timepoint": 53.6,
           "trajectory": "H_sol",
           "upper": 3073.0214111328123
          },
          {
           "lower": 777.2021759033203,
           "timepoint": 53.7,
           "trajectory": "H_sol",
           "upper": 3071.6068847656247
          },
          {
           "lower": 774.269775390625,
           "timepoint": 53.8,
           "trajectory": "H_sol",
           "upper": 3070.190698242187
          },
          {
           "lower": 771.3474609375,
           "timepoint": 53.9,
           "trajectory": "H_sol",
           "upper": 3068.7726318359373
          },
          {
           "lower": 768.4353607177734,
           "timepoint": 54,
           "trajectory": "H_sol",
           "upper": 3067.352624511718
          },
          {
           "lower": 765.5333404541016,
           "timepoint": 54.1,
           "trajectory": "H_sol",
           "upper": 3065.9311889648434
          },
          {
           "lower": 762.6414031982422,
           "timepoint": 54.2,
           "trajectory": "H_sol",
           "upper": 3064.508312988281
          },
          {
           "lower": 759.7596099853515,
           "timepoint": 54.3,
           "trajectory": "H_sol",
           "upper": 3063.0832153320307
          },
          {
           "lower": 756.8876922607421,
           "timepoint": 54.4,
           "trajectory": "H_sol",
           "upper": 3061.6570190429684
          },
          {
           "lower": 754.0260589599609,
           "timepoint": 54.5,
           "trajectory": "H_sol",
           "upper": 3060.2289550781247
          },
          {
           "lower": 751.1743835449219,
           "timepoint": 54.6,
           "trajectory": "H_sol",
           "upper": 3058.7994506835935
          },
          {
           "lower": 748.3327209472657,
           "timepoint": 54.7,
           "trajectory": "H_sol",
           "upper": 3057.3680664062495
          },
          {
           "lower": 745.4344024658203,
           "timepoint": 54.8,
           "trajectory": "H_sol",
           "upper": 3055.9354736328123
          },
          {
           "lower": 742.4723358154297,
           "timepoint": 54.9,
           "trajectory": "H_sol",
           "upper": 3054.501684570312
          },
          {
           "lower": 739.5214447021484,
           "timepoint": 55,
           "trajectory": "H_sol",
           "upper": 3053.0662597656246
          },
          {
           "lower": 736.5814361572266,
           "timepoint": 55.1,
           "trajectory": "H_sol",
           "upper": 3051.629174804687
          },
          {
           "lower": 733.6523559570312,
           "timepoint": 55.2,
           "trajectory": "H_sol",
           "upper": 3050.190893554687
          },
          {
           "lower": 730.73427734375,
           "timepoint": 55.3,
           "trajectory": "H_sol",
           "upper": 3048.7563110351557
          },
          {
           "lower": 727.8269470214843,
           "timepoint": 55.4,
           "trajectory": "H_sol",
           "upper": 3047.3156616210936
          },
          {
           "lower": 724.9305603027344,
           "timepoint": 55.5,
           "trajectory": "H_sol",
           "upper": 3045.873852539062
          },
          {
           "lower": 722.0450958251953,
           "timepoint": 55.6,
           "trajectory": "H_sol",
           "upper": 3044.4308471679683
          },
          {
           "lower": 719.1702697753906,
           "timepoint": 55.7,
           "trajectory": "H_sol",
           "upper": 3042.986413574218
          },
          {
           "lower": 716.3063720703125,
           "timepoint": 55.8,
           "trajectory": "H_sol",
           "upper": 3041.541040039062
          },
          {
           "lower": 713.4531005859375,
           "timepoint": 55.9,
           "trajectory": "H_sol",
           "upper": 3040.0942749023434
          },
          {
           "lower": 710.6106414794922,
           "timepoint": 56,
           "trajectory": "H_sol",
           "upper": 3038.646313476562
          },
          {
           "lower": 707.7789855957031,
           "timepoint": 56.1,
           "trajectory": "H_sol",
           "upper": 3037.1973999023435
          },
          {
           "lower": 704.9570281982421,
           "timepoint": 56.2,
           "trajectory": "H_sol",
           "upper": 3035.747338867187
          },
          {
           "lower": 702.1465698242188,
           "timepoint": 56.3,
           "trajectory": "H_sol",
           "upper": 3034.295874023437
          },
          {
           "lower": 699.3466125488281,
           "timepoint": 56.4,
           "trajectory": "H_sol",
           "upper": 3032.843896484375
          },
          {
           "lower": 696.5573455810547,
           "timepoint": 56.5,
           "trajectory": "H_sol",
           "upper": 3031.3905517578123
          },
          {
           "lower": 693.7786468505859,
           "timepoint": 56.6,
           "trajectory": "H_sol",
           "upper": 3029.936242675781
          },
          {
           "lower": 691.010385131836,
           "timepoint": 56.7,
           "trajectory": "H_sol",
           "upper": 3028.481018066406
          },
          {
           "lower": 688.2526947021485,
           "timepoint": 56.8,
           "trajectory": "H_sol",
           "upper": 3027.0248535156247
          },
          {
           "lower": 685.5053741455079,
           "timepoint": 56.9,
           "trajectory": "H_sol",
           "upper": 3025.5675170898435
          },
          {
           "lower": 682.7686187744141,
           "timepoint": 57,
           "trajectory": "H_sol",
           "upper": 3024.109448242187
          },
          {
           "lower": 680.0422454833985,
           "timepoint": 57.1,
           "trajectory": "H_sol",
           "upper": 3022.650500488281
          },
          {
           "lower": 677.3260650634766,
           "timepoint": 57.2,
           "trajectory": "H_sol",
           "upper": 3021.190405273437
          },
          {
           "lower": 674.6204437255859,
           "timepoint": 57.3,
           "trajectory": "H_sol",
           "upper": 3019.7300781249996
          },
          {
           "lower": 671.9250122070313,
           "timepoint": 57.4,
           "trajectory": "H_sol",
           "upper": 3018.2683471679684
          },
          {
           "lower": 669.2400207519531,
           "timepoint": 57.5,
           "trajectory": "H_sol",
           "upper": 3016.805920410156
          },
          {
           "lower": 666.5480590820313,
           "timepoint": 57.6,
           "trajectory": "H_sol",
           "upper": 3015.342578125
          },
          {
           "lower": 663.7236450195312,
           "timepoint": 57.7,
           "trajectory": "H_sol",
           "upper": 3013.878771972656
          },
          {
           "lower": 660.9080932617187,
           "timepoint": 57.8,
           "trajectory": "H_sol",
           "upper": 3012.4140502929686
          },
          {
           "lower": 658.1063842773438,
           "timepoint": 57.9,
           "trajectory": "H_sol",
           "upper": 3010.9486206054685
          },
          {
           "lower": 655.3160797119141,
           "timepoint": 58,
           "trajectory": "H_sol",
           "upper": 3009.4822753906246
          },
          {
           "lower": 652.537240600586,
           "timepoint": 58.1,
           "trajectory": "H_sol",
           "upper": 3008.008520507812
          },
          {
           "lower": 649.769564819336,
           "timepoint": 58.2,
           "trajectory": "H_sol",
           "upper": 3006.540112304687
          },
          {
           "lower": 647.0133544921875,
           "timepoint": 58.3,
           "trajectory": "H_sol",
           "upper": 3005.071008300781
          },
          {
           "lower": 644.2682403564453,
           "timepoint": 58.4,
           "trajectory": "H_sol",
           "upper": 3003.6012084960935
          },
          {
           "lower": 641.5344757080078,
           "timepoint": 58.5,
           "trajectory": "H_sol",
           "upper": 3002.130969238281
          },
          {
           "lower": 638.8119842529297,
           "timepoint": 58.6,
           "trajectory": "H_sol",
           "upper": 3000.6595947265623
          },
          {
           "lower": 636.1004760742187,
           "timepoint": 58.7,
           "trajectory": "H_sol",
           "upper": 2999.1790893554685
          },
          {
           "lower": 633.400244140625,
           "timepoint": 58.8,
           "trajectory": "H_sol",
           "upper": 2997.670483398437
          },
          {
           "lower": 630.7109313964844,
           "timepoint": 58.9,
           "trajectory": "H_sol",
           "upper": 2996.1610595703123
          },
          {
           "lower": 628.0327850341797,
           "timepoint": 59,
           "trajectory": "H_sol",
           "upper": 2994.6512084960937
          },
          {
           "lower": 625.3655578613282,
           "timepoint": 59.1,
           "trajectory": "H_sol",
           "upper": 2993.1408691406245
          },
          {
           "lower": 622.7093048095703,
           "timepoint": 59.2,
           "trajectory": "H_sol",
           "upper": 2991.6298095703123
          },
          {
           "lower": 620.0640289306641,
           "timepoint": 59.3,
           "trajectory": "H_sol",
           "upper": 2990.1183593749997
          },
          {
           "lower": 617.4295501708984,
           "timepoint": 59.4,
           "trajectory": "H_sol",
           "upper": 2988.6058471679685
          },
          {
           "lower": 614.8059844970703,
           "timepoint": 59.5,
           "trajectory": "H_sol",
           "upper": 2987.093408203125
          },
          {
           "lower": 612.1932708740235,
           "timepoint": 59.6,
           "trajectory": "H_sol",
           "upper": 2985.5803588867184
          },
          {
           "lower": 609.5912322998047,
           "timepoint": 59.7,
           "trajectory": "H_sol",
           "upper": 2984.0669189453124
          },
          {
           "lower": 607.0000427246093,
           "timepoint": 59.8,
           "trajectory": "H_sol",
           "upper": 2982.552648925781
          },
          {
           "lower": 604.4194122314453,
           "timepoint": 59.9,
           "trajectory": "H_sol",
           "upper": 2981.0382080078125
          },
          {
           "lower": 601.8494506835938,
           "timepoint": 60,
           "trajectory": "H_sol",
           "upper": 2979.5234252929686
          },
          {
           "lower": 599.2902191162109,
           "timepoint": 60.1,
           "trajectory": "H_sol",
           "upper": 2978.007788085937
          },
          {
           "lower": 596.7415283203125,
           "timepoint": 60.2,
           "trajectory": "H_sol",
           "upper": 2976.4919921875
          },
          {
           "lower": 594.2036865234375,
           "timepoint": 60.3,
           "trajectory": "H_sol",
           "upper": 2974.975598144531
          },
          {
           "lower": 591.6759246826172,
           "timepoint": 60.4,
           "trajectory": "H_sol",
           "upper": 2973.459057617187
          },
          {
           "lower": 589.1588256835937,
           "timepoint": 60.5,
           "trajectory": "H_sol",
           "upper": 2971.942150878906
          },
          {
           "lower": 586.6521545410156,
           "timepoint": 60.6,
           "trajectory": "H_sol",
           "upper": 2970.424853515625
          },
          {
           "lower": 584.1556732177735,
           "timepoint": 60.7,
           "trajectory": "H_sol",
           "upper": 2968.9069702148436
          },
          {
           "lower": 581.6697326660156,
           "timepoint": 60.8,
           "trajectory": "H_sol",
           "upper": 2967.388928222656
          },
          {
           "lower": 579.193978881836,
           "timepoint": 60.9,
           "trajectory": "H_sol",
           "upper": 2965.8705078125
          },
          {
           "lower": 576.7286499023437,
           "timepoint": 61,
           "trajectory": "H_sol",
           "upper": 2964.3514892578123
          },
          {
           "lower": 175,
           "timepoint": 0,
           "trajectory": "I_sol",
           "upper": 175
          },
          {
           "lower": 178.481005859375,
           "timepoint": 0.1,
           "trajectory": "I_sol",
           "upper": 179.15409317016602
          },
          {
           "lower": 182.05658264160155,
           "timepoint": 0.2,
           "trajectory": "I_sol",
           "upper": 183.413134765625
          },
          {
           "lower": 185.7272834777832,
           "timepoint": 0.3,
           "trajectory": "I_sol",
           "upper": 187.77925567626954
          },
          {
           "lower": 189.49407272338868,
           "timepoint": 0.4,
           "trajectory": "I_sol",
           "upper": 192.25505905151368
          },
          {
           "lower": 193.35786056518555,
           "timepoint": 0.5,
           "trajectory": "I_sol",
           "upper": 196.84264450073243
          },
          {
           "lower": 197.31944274902344,
           "timepoint": 0.6,
           "trajectory": "I_sol",
           "upper": 201.54452667236328
          },
          {
           "lower": 201.3802947998047,
           "timepoint": 0.7,
           "trajectory": "I_sol",
           "upper": 206.36313018798828
          },
          {
           "lower": 205.54156188964845,
           "timepoint": 0.8,
           "trajectory": "I_sol",
           "upper": 211.30127639770507
          },
          {
           "lower": 209.80406799316407,
           "timepoint": 0.9,
           "trajectory": "I_sol",
           "upper": 216.36159896850586
          },
          {
           "lower": 214.1704528808594,
           "timepoint": 1,
           "trajectory": "I_sol",
           "upper": 221.5467628479004
          },
          {
           "lower": 218.6415916442871,
           "timepoint": 1.1,
           "trajectory": "I_sol",
           "upper": 226.8562240600586
          },
          {
           "lower": 223.21887893676757,
           "timepoint": 1.2,
           "trajectory": "I_sol",
           "upper": 232.29551391601564
          },
          {
           "lower": 227.9041976928711,
           "timepoint": 1.3,
           "trajectory": "I_sol",
           "upper": 237.90824203491212
          },
          {
           "lower": 232.698876953125,
           "timepoint": 1.4,
           "trajectory": "I_sol",
           "upper": 243.68767242431642
          },
          {
           "lower": 237.6048797607422,
           "timepoint": 1.5,
           "trajectory": "I_sol",
           "upper": 249.61563949584962
          },
          {
           "lower": 242.6240562438965,
           "timepoint": 1.6,
           "trajectory": "I_sol",
           "upper": 255.69538116455078
          },
          {
           "lower": 247.75833892822266,
           "timepoint": 1.7,
           "trajectory": "I_sol",
           "upper": 261.9305725097656
          },
          {
           "lower": 253.00969467163085,
           "timepoint": 1.8,
           "trajectory": "I_sol",
           "upper": 268.3242156982422
          },
          {
           "lower": 258.3803024291992,
           "timepoint": 1.9,
           "trajectory": "I_sol",
           "upper": 274.7691925048828
          },
          {
           "lower": 263.8722778320313,
           "timepoint": 2,
           "trajectory": "I_sol",
           "upper": 281.3430709838867
          },
          {
           "lower": 269.48793334960936,
           "timepoint": 2.1,
           "trajectory": "I_sol",
           "upper": 288.06764831542966
          },
          {
           "lower": 275.22960510253904,
           "timepoint": 2.2,
           "trajectory": "I_sol",
           "upper": 294.9514587402344
          },
          {
           "lower": 281.09937286376953,
           "timepoint": 2.3,
           "trajectory": "I_sol",
           "upper": 301.9983169555664
          },
          {
           "lower": 287.1000503540039,
           "timepoint": 2.4,
           "trajectory": "I_sol",
           "upper": 309.21222534179685
          },
          {
           "lower": 293.2340576171875,
           "timepoint": 2.5,
           "trajectory": "I_sol",
           "upper": 316.5972396850586
          },
          {
           "lower": 299.50398712158204,
           "timepoint": 2.6,
           "trajectory": "I_sol",
           "upper": 324.1571670532227
          },
          {
           "lower": 305.9125228881836,
           "timepoint": 2.7,
           "trajectory": "I_sol",
           "upper": 331.89672088623047
          },
          {
           "lower": 312.4622772216797,
           "timepoint": 2.8,
           "trajectory": "I_sol",
           "upper": 339.82008361816406
          },
          {
           "lower": 319.1562957763672,
           "timepoint": 2.9,
           "trajectory": "I_sol",
           "upper": 347.93165893554686
          },
          {
           "lower": 325.9974670410156,
           "timepoint": 3,
           "trajectory": "I_sol",
           "upper": 356.31009063720705
          },
          {
           "lower": 332.98866577148436,
           "timepoint": 3.1,
           "trajectory": "I_sol",
           "upper": 364.89307708740233
          },
          {
           "lower": 340.1330368041992,
           "timepoint": 3.2,
           "trajectory": "I_sol",
           "upper": 373.74070892333987
          },
          {
           "lower": 347.43372039794923,
           "timepoint": 3.3,
           "trajectory": "I_sol",
           "upper": 382.8633499145508
          },
          {
           "lower": 354.893815612793,
           "timepoint": 3.4,
           "trajectory": "I_sol",
           "upper": 392.21121673583986
          },
          {
           "lower": 362.51661529541013,
           "timepoint": 3.5,
           "trajectory": "I_sol",
           "upper": 401.78961486816405
          },
          {
           "lower": 370.30567779541013,
           "timepoint": 3.6,
           "trajectory": "I_sol",
           "upper": 411.60406494140625
          },
          {
           "lower": 378.29727630615236,
           "timepoint": 3.7,
           "trajectory": "I_sol",
           "upper": 421.5109298706055
          },
          {
           "lower": 386.4862991333008,
           "timepoint": 3.8,
           "trajectory": "I_sol",
           "upper": 431.63878936767577
          },
          {
           "lower": 394.85523223876953,
           "timepoint": 3.9,
           "trajectory": "I_sol",
           "upper": 442.0358200073242
          },
          {
           "lower": 403.4071578979492,
           "timepoint": 4,
           "trajectory": "I_sol",
           "upper": 452.7975021362305
          },
          {
           "lower": 412.14696807861327,
           "timepoint": 4.1,
           "trajectory": "I_sol",
           "upper": 463.82172241210935
          },
          {
           "lower": 421.07820892333984,
           "timepoint": 4.2,
           "trajectory": "I_sol",
           "upper": 475.11553344726565
          },
          {
           "lower": 430.2050384521484,
           "timepoint": 4.3,
           "trajectory": "I_sol",
           "upper": 486.68556518554686
          },
          {
           "lower": 439.531477355957,
           "timepoint": 4.4,
           "trajectory": "I_sol",
           "upper": 498.5382583618164
          },
          {
           "lower": 449.0618194580078,
           "timepoint": 4.5,
           "trajectory": "I_sol",
           "upper": 510.6807205200195
          },
          {
           "lower": 458.80042877197263,
           "timepoint": 4.6,
           "trajectory": "I_sol",
           "upper": 523.119107055664
          },
          {
           "lower": 468.7511444091797,
           "timepoint": 4.7,
           "trajectory": "I_sol",
           "upper": 535.8617248535156
          },
          {
           "lower": 478.91955718994143,
           "timepoint": 4.8,
           "trajectory": "I_sol",
           "upper": 548.915673828125
          },
          {
           "lower": 489.3096099853516,
           "timepoint": 4.9,
           "trajectory": "I_sol",
           "upper": 562.2881958007813
          },
          {
           "lower": 499.92627868652346,
           "timepoint": 5,
           "trajectory": "I_sol",
           "upper": 575.9839874267578
          },
          {
           "lower": 510.77435302734375,
           "timepoint": 5.1,
           "trajectory": "I_sol",
           "upper": 590.0077270507812
          },
          {
           "lower": 521.8587707519531,
           "timepoint": 5.2,
           "trajectory": "I_sol",
           "upper": 604.37314453125
          },
          {
           "lower": 533.178598022461,
           "timepoint": 5.3,
           "trajectory": "I_sol",
           "upper": 619.0890502929688
          },
          {
           "lower": 544.6403564453125,
           "timepoint": 5.4,
           "trajectory": "I_sol",
           "upper": 634.1638031005859
          },
          {
           "lower": 556.3490814208984,
           "timepoint": 5.5,
           "trajectory": "I_sol",
           "upper": 649.6059448242188
          },
          {
           "lower": 568.31005859375,
           "timepoint": 5.6,
           "trajectory": "I_sol",
           "upper": 665.4246887207031
          },
          {
           "lower": 580.5286682128906,
           "timepoint": 5.7,
           "trajectory": "I_sol",
           "upper": 681.6289520263672
          },
          {
           "lower": 593.0106506347656,
           "timepoint": 5.8,
           "trajectory": "I_sol",
           "upper": 698.2278259277343
          },
          {
           "lower": 605.761441040039,
           "timepoint": 5.9,
           "trajectory": "I_sol",
           "upper": 715.2314453125
          },
          {
           "lower": 618.7835906982422,
           "timepoint": 6,
           "trajectory": "I_sol",
           "upper": 732.6494110107421
          },
          {
           "lower": 632.0882995605468,
           "timepoint": 6.1,
           "trajectory": "I_sol",
           "upper": 750.4917816162109
          },
          {
           "lower": 645.6792846679688,
           "timepoint": 6.2,
           "trajectory": "I_sol",
           "upper": 768.7689239501954
          },
          {
           "lower": 659.5640991210937,
           "timepoint": 6.3,
           "trajectory": "I_sol",
           "upper": 787.4913940429688
          },
          {
           "lower": 673.7495025634765,
           "timepoint": 6.4,
           "trajectory": "I_sol",
           "upper": 806.5592559814453
          },
          {
           "lower": 688.2400268554687,
           "timepoint": 6.5,
           "trajectory": "I_sol",
           "upper": 826.0564666748047
          },
          {
           "lower": 703.0422637939453,
           "timepoint": 6.6,
           "trajectory": "I_sol",
           "upper": 846.0250793457031
          },
          {
           "lower": 718.1652038574218,
           "timepoint": 6.7,
           "trajectory": "I_sol",
           "upper": 866.4763488769531
          },
          {
           "lower": 733.6120574951171,
           "timepoint": 6.8,
           "trajectory": "I_sol",
           "upper": 887.4221282958985
          },
          {
           "lower": 749.3912017822265,
           "timepoint": 6.9,
           "trajectory": "I_sol",
           "upper": 908.8734527587891
          },
          {
           "lower": 765.5099578857422,
           "timepoint": 7,
           "trajectory": "I_sol",
           "upper": 930.8437927246093
          },
          {
           "lower": 781.9754211425782,
           "timepoint": 7.1,
           "trajectory": "I_sol",
           "upper": 953.3451934814453
          },
          {
           "lower": 798.7951599121094,
           "timepoint": 7.2,
           "trajectory": "I_sol",
           "upper": 976.3905517578125
          },
          {
           "lower": 815.9768127441406,
           "timepoint": 7.3,
           "trajectory": "I_sol",
           "upper": 999.9931732177735
          },
          {
           "lower": 833.5282989501953,
           "timepoint": 7.4,
           "trajectory": "I_sol",
           "upper": 1024.1661071777344
          },
          {
           "lower": 851.4572570800781,
           "timepoint": 7.5,
           "trajectory": "I_sol",
           "upper": 1048.9218811035157
          },
          {
           "lower": 869.7720092773437,
           "timepoint": 7.6,
           "trajectory": "I_sol",
           "upper": 1074.2770568847657
          },
          {
           "lower": 888.4805786132813,
           "timepoint": 7.7,
           "trajectory": "I_sol",
           "upper": 1100.2451049804688
          },
          {
           "lower": 907.5919189453125,
           "timepoint": 7.8,
           "trajectory": "I_sol",
           "upper": 1126.8407470703125
          },
          {
           "lower": 927.1142456054688,
           "timepoint": 7.9,
           "trajectory": "I_sol",
           "upper": 1154.0788818359374
          },
          {
           "lower": 947.0565826416016,
           "timepoint": 8,
           "trajectory": "I_sol",
           "upper": 1181.9752685546875
          },
          {
           "lower": 967.5320709228515,
           "timepoint": 8.1,
           "trajectory": "I_sol",
           "upper": 1210.545458984375
          },
          {
           "lower": 988.4685424804687,
           "timepoint": 8.2,
           "trajectory": "I_sol",
           "upper": 1239.8087219238282
          },
          {
           "lower": 1009.8583709716797,
           "timepoint": 8.3,
           "trajectory": "I_sol",
           "upper": 1269.7777587890625
          },
          {
           "lower": 1031.7110107421875,
           "timepoint": 8.4,
           "trajectory": "I_sol",
           "upper": 1300.4707397460938
          },
          {
           "lower": 1054.0367126464844,
           "timepoint": 8.5,
           "trajectory": "I_sol",
           "upper": 1331.9059936523438
          },
          {
           "lower": 1076.8457092285157,
           "timepoint": 8.6,
           "trajectory": "I_sol",
           "upper": 1364.1015502929688
          },
          {
           "lower": 1100.1481079101563,
           "timepoint": 8.7,
           "trajectory": "I_sol",
           "upper": 1397.0753601074218
          },
          {
           "lower": 1123.9533935546874,
           "timepoint": 8.8,
           "trajectory": "I_sol",
           "upper": 1430.8467590332032
          },
          {
           "lower": 1148.27490234375,
           "timepoint": 8.9,
           "trajectory": "I_sol",
           "upper": 1465.4271240234375
          },
          {
           "lower": 1173.1226440429687,
           "timepoint": 9,
           "trajectory": "I_sol",
           "upper": 1500.8485717773438
          },
          {
           "lower": 1198.508203125,
           "timepoint": 9.1,
           "trajectory": "I_sol",
           "upper": 1537.126123046875
          },
          {
           "lower": 1224.4425476074218,
           "timepoint": 9.2,
           "trajectory": "I_sol",
           "upper": 1574.2797973632812
          },
          {
           "lower": 1250.9381408691406,
           "timepoint": 9.3,
           "trajectory": "I_sol",
           "upper": 1612.331475830078
          },
          {
           "lower": 1278.0064331054687,
           "timepoint": 9.4,
           "trajectory": "I_sol",
           "upper": 1651.3024291992188
          },
          {
           "lower": 1305.6605895996095,
           "timepoint": 9.5,
           "trajectory": "I_sol",
           "upper": 1691.2166687011718
          },
          {
           "lower": 1333.9155517578124,
           "timepoint": 9.6,
           "trajectory": "I_sol",
           "upper": 1732.094500732422
          },
          {
           "lower": 1362.7798156738281,
           "timepoint": 9.7,
           "trajectory": "I_sol",
           "upper": 1773.9598022460937
          },
          {
           "lower": 1392.268731689453,
           "timepoint": 9.8,
           "trajectory": "I_sol",
           "upper": 1816.8372131347655
          },
          {
           "lower": 1422.3953369140625,
           "timepoint": 9.9,
           "trajectory": "I_sol",
           "upper": 1860.7504089355468
          },
          {
           "lower": 1453.1739135742187,
           "timepoint": 10,
           "trajectory": "I_sol",
           "upper": 1905.7252807617188
          },
          {
           "lower": 1484.6183532714845,
           "timepoint": 10.1,
           "trajectory": "I_sol",
           "upper": 1951.7871643066405
          },
          {
           "lower": 1516.742333984375,
           "timepoint": 10.2,
           "trajectory": "I_sol",
           "upper": 1998.9596252441406
          },
          {
           "lower": 1549.5629760742188,
           "timepoint": 10.3,
           "trajectory": "I_sol",
           "upper": 2047.2736511230469
          },
          {
           "lower": 1583.0922790527343,
           "timepoint": 10.4,
           "trajectory": "I_sol",
           "upper": 2096.7550048828125
          },
          {
           "lower": 1617.3474975585937,
           "timepoint": 10.5,
           "trajectory": "I_sol",
           "upper": 2147.4323120117188
          },
          {
           "lower": 1652.3435607910155,
           "timepoint": 10.6,
           "trajectory": "I_sol",
           "upper": 2199.3345581054687
          },
          {
           "lower": 1688.0963195800782,
           "timepoint": 10.7,
           "trajectory": "I_sol",
           "upper": 2252.491003417969
          },
          {
           "lower": 1724.6228271484374,
           "timepoint": 10.8,
           "trajectory": "I_sol",
           "upper": 2306.9325439453123
          },
          {
           "lower": 1761.93896484375,
           "timepoint": 10.9,
           "trajectory": "I_sol",
           "upper": 2362.6834716796875
          },
          {
           "lower": 1800.0625244140624,
           "timepoint": 11,
           "trajectory": "I_sol",
           "upper": 2419.785498046875
          },
          {
           "lower": 1839.0116455078125,
           "timepoint": 11.1,
           "trajectory": "I_sol",
           "upper": 2478.2675048828123
          },
          {
           "lower": 1878.8024475097657,
           "timepoint": 11.2,
           "trajectory": "I_sol",
           "upper": 2538.161340332031
          },
          {
           "lower": 1919.4541809082032,
           "timepoint": 11.3,
           "trajectory": "I_sol",
           "upper": 2599.75615234375
          },
          {
           "lower": 1960.9846618652343,
           "timepoint": 11.4,
           "trajectory": "I_sol",
           "upper": 2662.896936035156
          },
          {
           "lower": 2003.4137573242188,
           "timepoint": 11.5,
           "trajectory": "I_sol",
           "upper": 2727.5700195312497
          },
          {
           "lower": 2046.7607299804688,
           "timepoint": 11.6,
           "trajectory": "I_sol",
           "upper": 2793.814208984375
          },
          {
           "lower": 2091.044714355469,
           "timepoint": 11.7,
           "trajectory": "I_sol",
           "upper": 2861.665771484375
          },
          {
           "lower": 2136.287744140625,
           "timepoint": 11.8,
           "trajectory": "I_sol",
           "upper": 2931.1664306640623
          },
          {
           "lower": 2182.508190917969,
           "timepoint": 11.9,
           "trajectory": "I_sol",
           "upper": 3002.353771972656
          },
          {
           "lower": 2229.7286743164063,
           "timepoint": 12,
           "trajectory": "I_sol",
           "upper": 3075.271240234375
          },
          {
           "lower": 2277.970666503906,
           "timepoint": 12.1,
           "trajectory": "I_sol",
           "upper": 3149.948767089844
          },
          {
           "lower": 2327.2553466796876,
           "timepoint": 12.2,
           "trajectory": "I_sol",
           "upper": 3226.445568847656
          },
          {
           "lower": 2377.6061767578126,
           "timepoint": 12.3,
           "trajectory": "I_sol",
           "upper": 3304.799658203125
          },
          {
           "lower": 2429.049658203125,
           "timepoint": 12.4,
           "trajectory": "I_sol",
           "upper": 3385.0546264648438
          },
          {
           "lower": 2481.606884765625,
           "timepoint": 12.5,
           "trajectory": "I_sol",
           "upper": 3467.258447265625
          },
          {
           "lower": 2535.300891113281,
           "timepoint": 12.6,
           "trajectory": "I_sol",
           "upper": 3551.4569580078123
          },
          {
           "lower": 2590.155871582031,
           "timepoint": 12.7,
           "trajectory": "I_sol",
           "upper": 3637.697998046875
          },
          {
           "lower": 2646.197644042969,
           "timepoint": 12.8,
           "trajectory": "I_sol",
           "upper": 3726.0370849609376
          },
          {
           "lower": 2703.4510986328123,
           "timepoint": 12.9,
           "trajectory": "I_sol",
           "upper": 3816.5166015625
          },
          {
           "lower": 2761.9428466796876,
           "timepoint": 13,
           "trajectory": "I_sol",
           "upper": 3909.1933471679686
          },
          {
           "lower": 2821.699914550781,
           "timepoint": 13.1,
           "trajectory": "I_sol",
           "upper": 4004.1189453125
          },
          {
           "lower": 2882.748669433594,
           "timepoint": 13.2,
           "trajectory": "I_sol",
           "upper": 4101.347729492188
          },
          {
           "lower": 2945.118127441406,
           "timepoint": 13.3,
           "trajectory": "I_sol",
           "upper": 4200.937939453125
          },
          {
           "lower": 3008.8342163085936,
           "timepoint": 13.4,
           "trajectory": "I_sol",
           "upper": 4302.943823242187
          },
          {
           "lower": 3073.929479980469,
           "timepoint": 13.5,
           "trajectory": "I_sol",
           "upper": 4407.419140625
          },
          {
           "lower": 3140.4327392578125,
           "timepoint": 13.6,
           "trajectory": "I_sol",
           "upper": 4514.434545898437
          },
          {
           "lower": 3208.3733520507812,
           "timepoint": 13.7,
           "trajectory": "I_sol",
           "upper": 4624.0460205078125
          },
          {
           "lower": 3277.7838745117188,
           "timepoint": 13.8,
           "trajectory": "I_sol",
           "upper": 4736.317407226562
          },
          {
           "lower": 3348.6945922851564,
           "timepoint": 13.9,
           "trajectory": "I_sol",
           "upper": 4851.3107421875
          },
          {
           "lower": 3421.1398803710936,
           "timepoint": 14,
           "trajectory": "I_sol",
           "upper": 4969.095190429687
          },
          {
           "lower": 3495.152136230469,
           "timepoint": 14.1,
           "trajectory": "I_sol",
           "upper": 5089.73583984375
          },
          {
           "lower": 3570.7575927734374,
           "timepoint": 14.2,
           "trajectory": "I_sol",
           "upper": 5213.312280273437
          },
          {
           "lower": 3648.002294921875,
           "timepoint": 14.3,
           "trajectory": "I_sol",
           "upper": 5339.880151367187
          },
          {
           "lower": 3726.9162109375,
           "timepoint": 14.4,
           "trajectory": "I_sol",
           "upper": 5469.5171875
          },
          {
           "lower": 3807.5366821289062,
           "timepoint": 14.5,
           "trajectory": "I_sol",
           "upper": 5602.300732421875
          },
          {
           "lower": 3889.9002319335937,
           "timepoint": 14.6,
           "trajectory": "I_sol",
           "upper": 5738.304614257812
          },
          {
           "lower": 3974.0432250976564,
           "timepoint": 14.7,
           "trajectory": "I_sol",
           "upper": 5877.605078125
          },
          {
           "lower": 4060.0063720703124,
           "timepoint": 14.8,
           "trajectory": "I_sol",
           "upper": 6020.286206054688
          },
          {
           "lower": 4147.827709960938,
           "timepoint": 14.9,
           "trajectory": "I_sol",
           "upper": 6166.432177734375
          },
          {
           "lower": 4237.5467529296875,
           "timepoint": 15,
           "trajectory": "I_sol",
           "upper": 6316.11943359375
          },
          {
           "lower": 4329.205493164062,
           "timepoint": 15.1,
           "trajectory": "I_sol",
           "upper": 6469.436254882812
          },
          {
           "lower": 4422.844775390625,
           "timepoint": 15.2,
           "trajectory": "I_sol",
           "upper": 6626.470239257812
          },
          {
           "lower": 4518.508715820312,
           "timepoint": 15.3,
           "trajectory": "I_sol",
           "upper": 6787.313549804688
          },
          {
           "lower": 4616.239990234375,
           "timepoint": 15.4,
           "trajectory": "I_sol",
           "upper": 6952.05517578125
          },
          {
           "lower": 4716.0845947265625,
           "timepoint": 15.5,
           "trajectory": "I_sol",
           "upper": 7120.791918945312
          },
          {
           "lower": 4818.087353515625,
           "timepoint": 15.6,
           "trajectory": "I_sol",
           "upper": 7293.624682617187
          },
          {
           "lower": 4922.284326171875,
           "timepoint": 15.7,
           "trajectory": "I_sol",
           "upper": 7470.64287109375
          },
          {
           "lower": 5028.74111328125,
           "timepoint": 15.8,
           "trajectory": "I_sol",
           "upper": 7651.955249023437
          },
          {
           "lower": 5137.4970703125,
           "timepoint": 15.9,
           "trajectory": "I_sol",
           "upper": 7837.660620117187
          },
          {
           "lower": 5248.603002929687,
           "timepoint": 16,
           "trajectory": "I_sol",
           "upper": 8027.8699951171875
          },
          {
           "lower": 5362.108544921875,
           "timepoint": 16.1,
           "trajectory": "I_sol",
           "upper": 8222.689404296874
          },
          {
           "lower": 5478.066625976562,
           "timepoint": 16.2,
           "trajectory": "I_sol",
           "upper": 8422.231249999999
          },
          {
           "lower": 5596.527124023438,
           "timepoint": 16.3,
           "trajectory": "I_sol",
           "upper": 8626.603271484375
          },
          {
           "lower": 5717.548681640625,
           "timepoint": 16.4,
           "trajectory": "I_sol",
           "upper": 8835.935302734375
          },
          {
           "lower": 5841.195068359375,
           "timepoint": 16.5,
           "trajectory": "I_sol",
           "upper": 9050.339404296874
          },
          {
           "lower": 5967.504248046875,
           "timepoint": 16.6,
           "trajectory": "I_sol",
           "upper": 9269.939404296874
          },
          {
           "lower": 6096.541723632812,
           "timepoint": 16.7,
           "trajectory": "I_sol",
           "upper": 9494.860302734374
          },
          {
           "lower": 6228.36494140625,
           "timepoint": 16.8,
           "trajectory": "I_sol",
           "upper": 9725.22890625
          },
          {
           "lower": 6363.0376953125,
           "timepoint": 16.9,
           "trajectory": "I_sol",
           "upper": 9961.183203125
          },
          {
           "lower": 6500.618627929687,
           "timepoint": 17,
           "trajectory": "I_sol",
           "upper": 10202.8439453125
          },
          {
           "lower": 6641.171630859375,
           "timepoint": 17.1,
           "trajectory": "I_sol",
           "upper": 10450.366650390624
          },
          {
           "lower": 6784.759716796875,
           "timepoint": 17.2,
           "trajectory": "I_sol",
           "upper": 10703.886083984375
          },
          {
           "lower": 6931.44248046875,
           "timepoint": 17.3,
           "trajectory": "I_sol",
           "upper": 10963.540869140625
          },
          {
           "lower": 7081.297680664063,
           "timepoint": 17.4,
           "trajectory": "I_sol",
           "upper": 11229.49287109375
          },
          {
           "lower": 7234.387890625,
           "timepoint": 17.5,
           "trajectory": "I_sol",
           "upper": 11501.887255859374
          },
          {
           "lower": 7390.785205078125,
           "timepoint": 17.6,
           "trajectory": "I_sol",
           "upper": 11780.880908203124
          },
          {
           "lower": 7550.557885742188,
           "timepoint": 17.7,
           "trajectory": "I_sol",
           "upper": 12066.594580078125
          },
          {
           "lower": 7713.777416992188,
           "timepoint": 17.8,
           "trajectory": "I_sol",
           "upper": 12359.245654296874
          },
          {
           "lower": 7880.522607421875,
           "timepoint": 17.9,
           "trajectory": "I_sol",
           "upper": 12658.986669921875
          },
          {
           "lower": 8050.8675537109375,
           "timepoint": 18,
           "trajectory": "I_sol",
           "upper": 12965.981347656249
          },
          {
           "lower": 8224.887963867188,
           "timepoint": 18.1,
           "trajectory": "I_sol",
           "upper": 13280.406787109374
          },
          {
           "lower": 8402.66279296875,
           "timepoint": 18.2,
           "trajectory": "I_sol",
           "upper": 13602.438037109374
          },
          {
           "lower": 8584.270263671875,
           "timepoint": 18.3,
           "trajectory": "I_sol",
           "upper": 13932.25302734375
          },
          {
           "lower": 8769.793896484374,
           "timepoint": 18.4,
           "trajectory": "I_sol",
           "upper": 14270.063232421875
          },
          {
           "lower": 8959.314453125,
           "timepoint": 18.5,
           "trajectory": "I_sol",
           "upper": 14616.031884765624
          },
          {
           "lower": 9152.93623046875,
           "timepoint": 18.6,
           "trajectory": "I_sol",
           "upper": 14970.355810546875
          },
          {
           "lower": 9350.7078125,
           "timepoint": 18.7,
           "trajectory": "I_sol",
           "upper": 15333.22802734375
          },
          {
           "lower": 9552.721484375,
           "timepoint": 18.8,
           "trajectory": "I_sol",
           "upper": 15704.846044921875
          },
          {
           "lower": 9759.0642578125,
           "timepoint": 18.9,
           "trajectory": "I_sol",
           "upper": 16085.391796875
          },
          {
           "lower": 9969.796533203125,
           "timepoint": 19,
           "trajectory": "I_sol",
           "upper": 16475.03291015625
          },
          {
           "lower": 10184.97470703125,
           "timepoint": 19.1,
           "trajectory": "I_sol",
           "upper": 16873.94287109375
          },
          {
           "lower": 10404.61435546875,
           "timepoint": 19.2,
           "trajectory": "I_sol",
           "upper": 17282.2091796875
          },
          {
           "lower": 10628.704345703125,
           "timepoint": 19.3,
           "trajectory": "I_sol",
           "upper": 17699.85869140625
          },
          {
           "lower": 10857.15361328125,
           "timepoint": 19.4,
           "trajectory": "I_sol",
           "upper": 18126.795996093748
          },
          {
           "lower": 11089.74423828125,
           "timepoint": 19.5,
           "trajectory": "I_sol",
           "upper": 18562.750097656248
          },
          {
           "lower": 11326.069140625,
           "timepoint": 19.6,
           "trajectory": "I_sol",
           "upper": 19007.0998046875
          },
          {
           "lower": 11565.458935546874,
           "timepoint": 19.7,
           "trajectory": "I_sol",
           "upper": 19458.7587890625
          },
          {
           "lower": 11806.841796875,
           "timepoint": 19.8,
           "trajectory": "I_sol",
           "upper": 19915.97138671875
          },
          {
           "lower": 12048.727880859375,
           "timepoint": 19.9,
           "trajectory": "I_sol",
           "upper": 20376.29091796875
          },
          {
           "lower": 12289.198828125,
           "timepoint": 20,
           "trajectory": "I_sol",
           "upper": 20836.46865234375
          },
          {
           "lower": 12526.07060546875,
           "timepoint": 20.1,
           "trajectory": "I_sol",
           "upper": 21292.840429687498
          },
          {
           "lower": 12757.171923828126,
           "timepoint": 20.2,
           "trajectory": "I_sol",
           "upper": 21741.60595703125
          },
          {
           "lower": 12980.5904296875,
           "timepoint": 20.3,
           "trajectory": "I_sol",
           "upper": 22179.59296875
          },
          {
           "lower": 13194.933837890625,
           "timepoint": 20.4,
           "trajectory": "I_sol",
           "upper": 22604.2451171875
          },
          {
           "lower": 13399.29990234375,
           "timepoint": 20.5,
           "trajectory": "I_sol",
           "upper": 23013.9591796875
          },
          {
           "lower": 13593.18017578125,
           "timepoint": 20.6,
           "trajectory": "I_sol",
           "upper": 23407.7927734375
          },
          {
           "lower": 13776.409375,
           "timepoint": 20.7,
           "trajectory": "I_sol",
           "upper": 23785.378222656247
          },
          {
           "lower": 13949.07451171875,
           "timepoint": 20.8,
           "trajectory": "I_sol",
           "upper": 24146.72255859375
          },
          {
           "lower": 14111.384130859375,
           "timepoint": 20.9,
           "trajectory": "I_sol",
           "upper": 24492.092578124997
          },
          {
           "lower": 14263.66728515625,
           "timepoint": 21,
           "trajectory": "I_sol",
           "upper": 24821.92529296875
          },
          {
           "lower": 14406.239599609375,
           "timepoint": 21.1,
           "trajectory": "I_sol",
           "upper": 25136.70478515625
          },
          {
           "lower": 14539.481787109375,
           "timepoint": 21.2,
           "trajectory": "I_sol",
           "upper": 25436.98623046875
          },
          {
           "lower": 14663.7744140625,
           "timepoint": 21.3,
           "trajectory": "I_sol",
           "upper": 25723.33642578125
          },
          {
           "lower": 14779.500439453124,
           "timepoint": 21.4,
           "trajectory": "I_sol",
           "upper": 25996.340429687498
          },
          {
           "lower": 14887.0314453125,
           "timepoint": 21.5,
           "trajectory": "I_sol",
           "upper": 26256.47607421875
          },
          {
           "lower": 14986.724951171875,
           "timepoint": 21.6,
           "trajectory": "I_sol",
           "upper": 26504.364550781247
          },
          {
           "lower": 15078.941259765625,
           "timepoint": 21.7,
           "trajectory": "I_sol",
           "upper": 26740.497265625
          },
          {
           "lower": 15163.998681640625,
           "timepoint": 21.8,
           "trajectory": "I_sol",
           "upper": 26965.365527343747
          },
          {
           "lower": 15242.225146484376,
           "timepoint": 21.9,
           "trajectory": "I_sol",
           "upper": 27179.5666015625
          },
          {
           "lower": 15313.933544921874,
           "timepoint": 22,
           "trajectory": "I_sol",
           "upper": 27383.425
          },
          {
           "lower": 15379.41103515625,
           "timepoint": 22.1,
           "trajectory": "I_sol",
           "upper": 27577.4376953125
          },
          {
           "lower": 15438.95244140625,
           "timepoint": 22.2,
           "trajectory": "I_sol",
           "upper": 27762.02880859375
          },
          {
           "lower": 15492.822509765625,
           "timepoint": 22.3,
           "trajectory": "I_sol",
           "upper": 27937.61103515625
          },
          {
           "lower": 15541.28876953125,
           "timepoint": 22.4,
           "trajectory": "I_sol",
           "upper": 28104.58681640625
          },
          {
           "lower": 15584.600390625,
           "timepoint": 22.5,
           "trajectory": "I_sol",
           "upper": 28263.316796875
          },
          {
           "lower": 15622.928369140625,
           "timepoint": 22.6,
           "trajectory": "I_sol",
           "upper": 28414.161718749998
          },
          {
           "lower": 15656.5947265625,
           "timepoint": 22.7,
           "trajectory": "I_sol",
           "upper": 28557.4626953125
          },
          {
           "lower": 15685.774658203125,
           "timepoint": 22.8,
           "trajectory": "I_sol",
           "upper": 28693.54462890625
          },
          {
           "lower": 15710.678466796875,
           "timepoint": 22.9,
           "trajectory": "I_sol",
           "upper": 28822.74462890625
          },
          {
           "lower": 15731.50986328125,
           "timepoint": 23,
           "trajectory": "I_sol",
           "upper": 28945.339941406248
          },
          {
           "lower": 15748.454296875,
           "timepoint": 23.1,
           "trajectory": "I_sol",
           "upper": 29061.625585937498
          },
          {
           "lower": 15761.689599609375,
           "timepoint": 23.2,
           "trajectory": "I_sol",
           "upper": 29171.878027343748
          },
          {
           "lower": 15771.393603515626,
           "timepoint": 23.3,
           "trajectory": "I_sol",
           "upper": 29276.36279296875
          },
          {
           "lower": 15777.728125,
           "timepoint": 23.4,
           "trajectory": "I_sol",
           "upper": 29375.26630859375
          },
          {
           "lower": 15780.859716796875,
           "timepoint": 23.5,
           "trajectory": "I_sol",
           "upper": 29468.92470703125
          },
          {
           "lower": 15780.9349609375,
           "timepoint": 23.6,
           "trajectory": "I_sol",
           "upper": 29557.52177734375
          },
          {
           "lower": 15778.09609375,
           "timepoint": 23.7,
           "trajectory": "I_sol",
           "upper": 29641.282324218748
          },
          {
           "lower": 15772.48984375,
           "timepoint": 23.8,
           "trajectory": "I_sol",
           "upper": 29720.40859375
          },
          {
           "lower": 15764.2421875,
           "timepoint": 23.9,
           "trajectory": "I_sol",
           "upper": 29795.18876953125
          },
          {
           "lower": 15753.482080078125,
           "timepoint": 24,
           "trajectory": "I_sol",
           "upper": 29865.69091796875
          },
          {
           "lower": 15740.32490234375,
           "timepoint": 24.1,
           "trajectory": "I_sol",
           "upper": 29932.144140624998
          },
          {
           "lower": 15724.896826171875,
           "timepoint": 24.2,
           "trajectory": "I_sol",
           "upper": 29994.726660156248
          },
          {
           "lower": 15707.303466796875,
           "timepoint": 24.3,
           "trajectory": "I_sol",
           "upper": 30053.608496093748
          },
          {
           "lower": 15687.652490234375,
           "timepoint": 24.4,
           "trajectory": "I_sol",
           "upper": 30108.95791015625
          },
          {
           "lower": 15666.041650390625,
           "timepoint": 24.5,
           "trajectory": "I_sol",
           "upper": 30160.91728515625
          },
          {
           "lower": 15642.575244140626,
           "timepoint": 24.6,
           "trajectory": "I_sol",
           "upper": 30209.6365234375
          },
          {
           "lower": 15617.338427734376,
           "timepoint": 24.7,
           "trajectory": "I_sol",
           "upper": 30255.25703125
          },
          {
           "lower": 15590.420751953125,
           "timepoint": 24.8,
           "trajectory": "I_sol",
           "upper": 30297.915625
          },
          {
           "lower": 15561.90947265625,
           "timepoint": 24.9,
           "trajectory": "I_sol",
           "upper": 30337.74169921875
          },
          {
           "lower": 15531.884423828125,
           "timepoint": 25,
           "trajectory": "I_sol",
           "upper": 30374.8677734375
          },
          {
           "lower": 15500.42041015625,
           "timepoint": 25.1,
           "trajectory": "I_sol",
           "upper": 30409.398046875
          },
          {
           "lower": 15467.60478515625,
           "timepoint": 25.2,
           "trajectory": "I_sol",
           "upper": 30441.44609375
          },
          {
           "lower": 15433.49111328125,
           "timepoint": 25.3,
           "trajectory": "I_sol",
           "upper": 30468.3306640625
          },
          {
           "lower": 15398.152978515625,
           "timepoint": 25.4,
           "trajectory": "I_sol",
           "upper": 30481.36171875
          },
          {
           "lower": 15361.656591796875,
           "timepoint": 25.5,
           "trajectory": "I_sol",
           "upper": 30492.0765625
          },
          {
           "lower": 15324.05908203125,
           "timepoint": 25.6,
           "trajectory": "I_sol",
           "upper": 30500.58486328125
          },
          {
           "lower": 15285.425244140624,
           "timepoint": 25.7,
           "trajectory": "I_sol",
           "upper": 30506.99716796875
          },
          {
           "lower": 15245.807177734376,
           "timepoint": 25.8,
           "trajectory": "I_sol",
           "upper": 30511.37412109375
          },
          {
           "lower": 15205.2630859375,
           "timepoint": 25.9,
           "trajectory": "I_sol",
           "upper": 30513.81630859375
          },
          {
           "lower": 15163.84091796875,
           "timepoint": 26,
           "trajectory": "I_sol",
           "upper": 30514.40732421875
          },
          {
           "lower": 15121.59150390625,
           "timepoint": 26.1,
           "trajectory": "I_sol",
           "upper": 30513.227148437498
          },
          {
           "lower": 15078.55673828125,
           "timepoint": 26.2,
           "trajectory": "I_sol",
           "upper": 30510.358984374998
          },
          {
           "lower": 15034.787646484376,
           "timepoint": 26.3,
           "trajectory": "I_sol",
           "upper": 30505.903125
          },
          {
           "lower": 14990.32294921875,
           "timepoint": 26.4,
           "trajectory": "I_sol",
           "upper": 30499.88154296875
          },
          {
           "lower": 14945.22294921875,
           "timepoint": 26.5,
           "trajectory": "I_sol",
           "upper": 30492.38427734375
          },
          {
           "lower": 14899.499072265626,
           "timepoint": 26.6,
           "trajectory": "I_sol",
           "upper": 30483.475390625
          },
          {
           "lower": 14853.1984375,
           "timepoint": 26.7,
           "trajectory": "I_sol",
           "upper": 30473.219140625
          },
          {
           "lower": 14806.356396484374,
           "timepoint": 26.8,
           "trajectory": "I_sol",
           "upper": 30461.67568359375
          },
          {
           "lower": 14759.0056640625,
           "timepoint": 26.9,
           "trajectory": "I_sol",
           "upper": 30448.90322265625
          },
          {
           "lower": 14711.1806640625,
           "timepoint": 27,
           "trajectory": "I_sol",
           "upper": 30434.918066406248
          },
          {
           "lower": 14662.9478515625,
           "timepoint": 27.1,
           "trajectory": "I_sol",
           "upper": 30419.830664062498
          },
          {
           "lower": 14614.280859375,
           "timepoint": 27.2,
           "trajectory": "I_sol",
           "upper": 30403.66826171875
          },
          {
           "lower": 14565.229345703125,
           "timepoint": 27.3,
           "trajectory": "I_sol",
           "upper": 30386.48173828125
          },
          {
           "lower": 14515.822412109375,
           "timepoint": 27.4,
           "trajectory": "I_sol",
           "upper": 30391.19013671875
          },
          {
           "lower": 14466.085791015625,
           "timepoint": 27.5,
           "trajectory": "I_sol",
           "upper": 30403.13896484375
          },
          {
           "lower": 14418.841552734375,
           "timepoint": 27.6,
           "trajectory": "I_sol",
           "upper": 30414.2904296875
          },
          {
           "lower": 14371.7396484375,
           "timepoint": 27.7,
           "trajectory": "I_sol",
           "upper": 30424.67607421875
          },
          {
           "lower": 14324.363427734375,
           "timepoint": 27.8,
           "trajectory": "I_sol",
           "upper": 30434.32451171875
          },
          {
           "lower": 14276.731298828125,
           "timepoint": 27.9,
           "trajectory": "I_sol",
           "upper": 30443.26787109375
          },
          {
           "lower": 14228.865625,
           "timepoint": 28,
           "trajectory": "I_sol",
           "upper": 30451.53779296875
          },
          {
           "lower": 14180.784326171875,
           "timepoint": 28.1,
           "trajectory": "I_sol",
           "upper": 30459.28212890625
          },
          {
           "lower": 14132.48720703125,
           "timepoint": 28.2,
           "trajectory": "I_sol",
           "upper": 30466.333593749998
          },
          {
           "lower": 14084.024462890626,
           "timepoint": 28.3,
           "trajectory": "I_sol",
           "upper": 30472.79580078125
          },
          {
           "lower": 14035.3986328125,
           "timepoint": 28.4,
           "trajectory": "I_sol",
           "upper": 30478.699804687498
          },
          {
           "lower": 13986.62646484375,
           "timepoint": 28.5,
           "trajectory": "I_sol",
           "upper": 30484.0720703125
          },
          {
           "lower": 13937.7216796875,
           "timepoint": 28.6,
           "trajectory": "I_sol",
           "upper": 30488.93115234375
          },
          {
           "lower": 13888.6998046875,
           "timepoint": 28.7,
           "trajectory": "I_sol",
           "upper": 30493.305859375
          },
          {
           "lower": 13839.574609375,
           "timepoint": 28.8,
           "trajectory": "I_sol",
           "upper": 30497.1640625
          },
          {
           "lower": 13790.359619140625,
           "timepoint": 28.9,
           "trajectory": "I_sol",
           "upper": 30500.60498046875
          },
          {
           "lower": 13741.066748046875,
           "timepoint": 29,
           "trajectory": "I_sol",
           "upper": 30503.61494140625
          },
          {
           "lower": 13691.709375,
           "timepoint": 29.1,
           "trajectory": "I_sol",
           "upper": 30506.21162109375
          },
          {
           "lower": 13642.2984375,
           "timepoint": 29.2,
           "trajectory": "I_sol",
           "upper": 30508.416015625
          },
          {
           "lower": 13592.846533203125,
           "timepoint": 29.3,
           "trajectory": "I_sol",
           "upper": 30510.2447265625
          },
          {
           "lower": 13543.3646484375,
           "timepoint": 29.4,
           "trajectory": "I_sol",
           "upper": 30511.71240234375
          },
          {
           "lower": 13493.85712890625,
           "timepoint": 29.5,
           "trajectory": "I_sol",
           "upper": 30512.83359375
          },
          {
           "lower": 13444.33994140625,
           "timepoint": 29.6,
           "trajectory": "I_sol",
           "upper": 30513.627734375
          },
          {
           "lower": 13394.819091796875,
           "timepoint": 29.7,
           "trajectory": "I_sol",
           "upper": 30509.30732421875
          },
          {
           "lower": 13345.30244140625,
           "timepoint": 29.8,
           "trajectory": "I_sol",
           "upper": 30495.72890625
          },
          {
           "lower": 13295.80068359375,
           "timepoint": 29.9,
           "trajectory": "I_sol",
           "upper": 30481.85009765625
          },
          {
           "lower": 13246.321533203125,
           "timepoint": 30,
           "trajectory": "I_sol",
           "upper": 30467.68095703125
          },
          {
           "lower": 13196.870947265625,
           "timepoint": 30.1,
           "trajectory": "I_sol",
           "upper": 30453.2626953125
          },
          {
           "lower": 13147.458935546874,
           "timepoint": 30.2,
           "trajectory": "I_sol",
           "upper": 30438.5625
          },
          {
           "lower": 13098.08876953125,
           "timepoint": 30.3,
           "trajectory": "I_sol",
           "upper": 30423.6140625
          },
          {
           "lower": 13048.769482421874,
           "timepoint": 30.4,
           "trajectory": "I_sol",
           "upper": 30408.4201171875
          },
          {
           "lower": 12999.50791015625,
           "timepoint": 30.5,
           "trajectory": "I_sol",
           "upper": 30393.003125
          },
          {
           "lower": 12950.30712890625,
           "timepoint": 30.6,
           "trajectory": "I_sol",
           "upper": 30377.3689453125
          },
          {
           "lower": 12901.15712890625,
           "timepoint": 30.7,
           "trajectory": "I_sol",
           "upper": 30361.51982421875
          },
          {
           "lower": 12852.09453125,
           "timepoint": 30.8,
           "trajectory": "I_sol",
           "upper": 30345.4734375
          },
          {
           "lower": 12803.108251953125,
           "timepoint": 30.9,
           "trajectory": "I_sol",
           "upper": 30329.239453125
          },
          {
           "lower": 12754.20234375,
           "timepoint": 31,
           "trajectory": "I_sol",
           "upper": 30312.82021484375
          },
          {
           "lower": 12705.38466796875,
           "timepoint": 31.1,
           "trajectory": "I_sol",
           "upper": 30296.20654296875
          },
          {
           "lower": 12656.6572265625,
           "timepoint": 31.2,
           "trajectory": "I_sol",
           "upper": 30279.4435546875
          },
          {
           "lower": 12608.0265625,
           "timepoint": 31.3,
           "trajectory": "I_sol",
           "upper": 30262.52421875
          },
          {
           "lower": 12559.49384765625,
           "timepoint": 31.4,
           "trajectory": "I_sol",
           "upper": 30245.44677734375
          },
          {
           "lower": 12511.060986328124,
           "timepoint": 31.5,
           "trajectory": "I_sol",
           "upper": 30228.226660156248
          },
          {
           "lower": 12462.757080078125,
           "timepoint": 31.6,
           "trajectory": "I_sol",
           "upper": 30210.86328125
          },
          {
           "lower": 12414.547021484375,
           "timepoint": 31.7,
           "trajectory": "I_sol",
           "upper": 30193.36943359375
          },
          {
           "lower": 12366.451318359375,
           "timepoint": 31.8,
           "trajectory": "I_sol",
           "upper": 30175.74677734375
          },
          {
           "lower": 12318.4701171875,
           "timepoint": 31.9,
           "trajectory": "I_sol",
           "upper": 30158.00078125
          },
          {
           "lower": 12270.60830078125,
           "timepoint": 32,
           "trajectory": "I_sol",
           "upper": 30140.139453125
          },
          {
           "lower": 12222.868701171876,
           "timepoint": 32.1,
           "trajectory": "I_sol",
           "upper": 30122.198339843748
          },
          {
           "lower": 12175.252197265625,
           "timepoint": 32.2,
           "trajectory": "I_sol",
           "upper": 30104.130957031248
          },
          {
           "lower": 12127.762939453125,
           "timepoint": 32.3,
           "trajectory": "I_sol",
           "upper": 30085.962011718748
          },
          {
           "lower": 12080.401611328125,
           "timepoint": 32.4,
           "trajectory": "I_sol",
           "upper": 30067.69677734375
          },
          {
           "lower": 12033.172412109376,
           "timepoint": 32.5,
           "trajectory": "I_sol",
           "upper": 30049.33974609375
          },
          {
           "lower": 11986.072412109375,
           "timepoint": 32.6,
           "trajectory": "I_sol",
           "upper": 30030.8947265625
          },
          {
           "lower": 11939.108154296875,
           "timepoint": 32.7,
           "trajectory": "I_sol",
           "upper": 30012.36494140625
          },
          {
           "lower": 11891.76689453125,
           "timepoint": 32.8,
           "trajectory": "I_sol",
           "upper": 29993.76220703125
          },
          {
           "lower": 11840.293994140626,
           "timepoint": 32.9,
           "trajectory": "I_sol",
           "upper": 29975.0810546875
          },
          {
           "lower": 11788.997607421876,
           "timepoint": 33,
           "trajectory": "I_sol",
           "upper": 29956.33271484375
          },
          {
           "lower": 11737.86552734375,
           "timepoint": 33.1,
           "trajectory": "I_sol",
           "upper": 29937.497265625
          },
          {
           "lower": 11686.918701171875,
           "timepoint": 33.2,
           "trajectory": "I_sol",
           "upper": 29918.6095703125
          },
          {
           "lower": 11636.152783203124,
           "timepoint": 33.3,
           "trajectory": "I_sol",
           "upper": 29899.657421875
          },
          {
           "lower": 11585.56474609375,
           "timepoint": 33.4,
           "trajectory": "I_sol",
           "upper": 29880.644140624998
          },
          {
           "lower": 11535.161572265624,
           "timepoint": 33.5,
           "trajectory": "I_sol",
           "upper": 29861.5775390625
          },
          {
           "lower": 11484.93916015625,
           "timepoint": 33.6,
           "trajectory": "I_sol",
           "upper": 29842.455664062498
          },
          {
           "lower": 11434.89873046875,
           "timepoint": 33.7,
           "trajectory": "I_sol",
           "upper": 29823.2806640625
          },
          {
           "lower": 11385.044970703126,
           "timepoint": 33.8,
           "trajectory": "I_sol",
           "upper": 29804.058203124998
          },
          {
           "lower": 11335.37587890625,
           "timepoint": 33.9,
           "trajectory": "I_sol",
           "upper": 29784.786621093746
          },
          {
           "lower": 11285.892626953126,
           "timepoint": 34,
           "trajectory": "I_sol",
           "upper": 29765.47158203125
          },
          {
           "lower": 11236.569287109374,
           "timepoint": 34.1,
           "trajectory": "I_sol",
           "upper": 29746.11298828125
          },
          {
           "lower": 11187.451708984376,
           "timepoint": 34.2,
           "trajectory": "I_sol",
           "upper": 29726.711035156248
          },
          {
           "lower": 11138.522900390624,
           "timepoint": 34.3,
           "trajectory": "I_sol",
           "upper": 29707.2806640625
          },
          {
           "lower": 11089.77978515625,
           "timepoint": 34.4,
           "trajectory": "I_sol",
           "upper": 29687.810839843747
          },
          {
           "lower": 11041.225390625,
           "timepoint": 34.5,
           "trajectory": "I_sol",
           "upper": 29668.30361328125
          },
          {
           "lower": 10992.860498046875,
           "timepoint": 34.6,
           "trajectory": "I_sol",
           "upper": 29648.76435546875
          },
          {
           "lower": 10944.680615234374,
           "timepoint": 34.7,
           "trajectory": "I_sol",
           "upper": 29629.19501953125
          },
          {
           "lower": 10896.691259765625,
           "timepoint": 34.8,
           "trajectory": "I_sol",
           "upper": 29609.594042968747
          },
          {
           "lower": 10848.8896484375,
           "timepoint": 34.9,
           "trajectory": "I_sol",
           "upper": 29589.968749999996
          },
          {
           "lower": 10801.27783203125,
           "timepoint": 35,
           "trajectory": "I_sol",
           "upper": 29570.31826171875
          },
          {
           "lower": 10753.85654296875,
           "timepoint": 35.1,
           "trajectory": "I_sol",
           "upper": 29550.643066406246
          },
          {
           "lower": 10706.620263671875,
           "timepoint": 35.2,
           "trajectory": "I_sol",
           "upper": 29530.943945312498
          },
          {
           "lower": 10659.585302734375,
           "timepoint": 35.3,
           "trajectory": "I_sol",
           "upper": 29511.22626953125
          },
          {
           "lower": 10612.729736328125,
           "timepoint": 35.4,
           "trajectory": "I_sol",
           "upper": 29491.484667968747
          },
          {
           "lower": 10566.066748046875,
           "timepoint": 35.5,
           "trajectory": "I_sol",
           "upper": 29471.7287109375
          },
          {
           "lower": 10519.590478515625,
           "timepoint": 35.6,
           "trajectory": "I_sol",
           "upper": 29451.89296875
          },
          {
           "lower": 10473.30380859375,
           "timepoint": 35.7,
           "trajectory": "I_sol",
           "upper": 29432.083691406246
          },
          {
           "lower": 10427.205859375,
           "timepoint": 35.8,
           "trajectory": "I_sol",
           "upper": 29412.263671874996
          },
          {
           "lower": 10381.296435546876,
           "timepoint": 35.9,
           "trajectory": "I_sol",
           "upper": 29392.42373046875
          },
          {
           "lower": 10335.576708984376,
           "timepoint": 36,
           "trajectory": "I_sol",
           "upper": 29372.571289062496
          },
          {
           "lower": 10290.044677734375,
           "timepoint": 36.1,
           "trajectory": "I_sol",
           "upper": 29352.7044921875
          },
          {
           "lower": 10244.69931640625,
           "timepoint": 36.2,
           "trajectory": "I_sol",
           "upper": 29332.823535156247
          },
          {
           "lower": 10199.54453125,
           "timepoint": 36.3,
           "trajectory": "I_sol",
           "upper": 29312.933886718747
          },
          {
           "lower": 10154.574560546875,
           "timepoint": 36.4,
           "trajectory": "I_sol",
           "upper": 29293.032226562496
          },
          {
           "lower": 10109.78583984375,
           "timepoint": 36.5,
           "trajectory": "I_sol",
           "upper": 29273.115820312498
          },
          {
           "lower": 10065.19228515625,
           "timepoint": 36.6,
           "trajectory": "I_sol",
           "upper": 29253.194531249996
          },
          {
           "lower": 10020.782666015624,
           "timepoint": 36.7,
           "trajectory": "I_sol",
           "upper": 29233.264746093748
          },
          {
           "lower": 9976.560693359375,
           "timepoint": 36.8,
           "trajectory": "I_sol",
           "upper": 29213.326367187496
          },
          {
           "lower": 9932.522607421875,
           "timepoint": 36.9,
           "trajectory": "I_sol",
           "upper": 29193.381347656246
          },
          {
           "lower": 9888.669384765624,
           "timepoint": 37,
           "trajectory": "I_sol",
           "upper": 29173.3685546875
          },
          {
           "lower": 9845.003759765625,
           "timepoint": 37.1,
           "trajectory": "I_sol",
           "upper": 29153.39736328125
          },
          {
           "lower": 9801.518115234376,
           "timepoint": 37.2,
           "trajectory": "I_sol",
           "upper": 29133.421484374998
          },
          {
           "lower": 9758.21923828125,
           "timepoint": 37.3,
           "trajectory": "I_sol",
           "upper": 29113.439062499998
          },
          {
           "lower": 9715.100341796875,
           "timepoint": 37.4,
           "trajectory": "I_sol",
           "upper": 29093.451855468746
          },
          {
           "lower": 9672.1662109375,
           "timepoint": 37.5,
           "trajectory": "I_sol",
           "upper": 29073.458300781247
          },
          {
           "lower": 9629.412109375,
           "timepoint": 37.6,
           "trajectory": "I_sol",
           "upper": 29053.242480468747
          },
          {
           "lower": 9586.838916015626,
           "timepoint": 37.7,
           "trajectory": "I_sol",
           "upper": 29032.099707031248
          },
          {
           "lower": 9544.446728515624,
           "timepoint": 37.8,
           "trajectory": "I_sol",
           "upper": 29010.961132812496
          },
          {
           "lower": 9502.26962890625,
           "timepoint": 37.9,
           "trajectory": "I_sol",
           "upper": 28989.817480468748
          },
          {
           "lower": 9460.247607421876,
           "timepoint": 38,
           "trajectory": "I_sol",
           "upper": 28968.668749999997
          },
          {
           "lower": 9418.40361328125,
           "timepoint": 38.1,
           "trajectory": "I_sol",
           "upper": 28947.520312499997
          },
          {
           "lower": 9376.737646484375,
           "timepoint": 38.2,
           "trajectory": "I_sol",
           "upper": 28926.3744140625
          },
          {
           "lower": 9335.253466796876,
           "timepoint": 38.3,
           "trajectory": "I_sol",
           "upper": 28905.221484374997
          },
          {
           "lower": 9293.9453125,
           "timepoint": 38.4,
           "trajectory": "I_sol",
           "upper": 28884.069335937496
          },
          {
           "lower": 9252.816259765625,
           "timepoint": 38.5,
           "trajectory": "I_sol",
           "upper": 28862.918945312496
          },
          {
           "lower": 9211.865087890625,
           "timepoint": 38.6,
           "trajectory": "I_sol",
           "upper": 28841.78603515625
          },
          {
           "lower": 9171.087109375,
           "timepoint": 38.7,
           "trajectory": "I_sol",
           "upper": 28820.638671874996
          },
          {
           "lower": 9130.487158203125,
           "timepoint": 38.8,
           "trajectory": "I_sol",
           "upper": 28799.491992187497
          },
          {
           "lower": 9090.061279296875,
           "timepoint": 38.9,
           "trajectory": "I_sol",
           "upper": 28778.345703124996
          },
          {
           "lower": 9049.810546875,
           "timepoint": 39,
           "trajectory": "I_sol",
           "upper": 28757.20205078125
          },
          {
           "lower": 9009.733056640625,
           "timepoint": 39.1,
           "trajectory": "I_sol",
           "upper": 28736.058984375
          },
          {
           "lower": 8969.82861328125,
           "timepoint": 39.2,
           "trajectory": "I_sol",
           "upper": 28714.918359375
          },
          {
           "lower": 8930.110400390626,
           "timepoint": 39.3,
           "trajectory": "I_sol",
           "upper": 28693.780273437496
          },
          {
           "lower": 8890.55283203125,
           "timepoint": 39.4,
           "trajectory": "I_sol",
           "upper": 28672.640820312496
          },
          {
           "lower": 8851.16953125,
           "timepoint": 39.5,
           "trajectory": "I_sol",
           "upper": 28651.507519531246
          },
          {
           "lower": 8811.9583984375,
           "timepoint": 39.6,
           "trajectory": "I_sol",
           "upper": 28630.377050781248
          },
          {
           "lower": 8772.913720703125,
           "timepoint": 39.7,
           "trajectory": "I_sol",
           "upper": 28609.24501953125
          },
          {
           "lower": 8734.042041015626,
           "timepoint": 39.8,
           "trajectory": "I_sol",
           "upper": 28588.119335937496
          },
          {
           "lower": 8695.337744140625,
           "timepoint": 39.9,
           "trajectory": "I_sol",
           "upper": 28566.992578125
          },
          {
           "lower": 8656.80361328125,
           "timepoint": 40,
           "trajectory": "I_sol",
           "upper": 28545.875585937498
          },
          {
           "lower": 8618.437841796875,
           "timepoint": 40.1,
           "trajectory": "I_sol",
           "upper": 28524.756152343747
          },
          {
           "lower": 8580.23544921875,
           "timepoint": 40.2,
           "trajectory": "I_sol",
           "upper": 28503.676367187498
          },
          {
           "lower": 8542.20322265625,
           "timepoint": 40.3,
           "trajectory": "I_sol",
           "upper": 28482.571582031247
          },
          {
           "lower": 8504.335400390624,
           "timepoint": 40.4,
           "trajectory": "I_sol",
           "upper": 28461.471191406246
          },
          {
           "lower": 8467.4109375,
           "timepoint": 40.5,
           "trajectory": "I_sol",
           "upper": 28440.375390625
          },
          {
           "lower": 8431.22734375,
           "timepoint": 40.6,
           "trajectory": "I_sol",
           "upper": 28419.282031249997
          },
          {
           "lower": 8395.19501953125,
           "timepoint": 40.7,
           "trajectory": "I_sol",
           "upper": 28398.193359374996
          },
          {
           "lower": 8359.32763671875,
           "timepoint": 40.8,
           "trajectory": "I_sol",
           "upper": 28377.109179687497
          },
          {
           "lower": 8323.6009765625,
           "timepoint": 40.9,
           "trajectory": "I_sol",
           "upper": 28356.031347656248
          },
          {
           "lower": 8288.026318359374,
           "timepoint": 41,
           "trajectory": "I_sol",
           "upper": 28334.958105468748
          },
          {
           "lower": 8252.601806640625,
           "timepoint": 41.1,
           "trajectory": "I_sol",
           "upper": 28313.891308593746
          },
          {
           "lower": 8217.32529296875,
           "timepoint": 41.2,
           "trajectory": "I_sol",
           "upper": 28292.827148437496
          },
          {
           "lower": 8182.2003173828125,
           "timepoint": 41.3,
           "trajectory": "I_sol",
           "upper": 28271.769531249996
          },
          {
           "lower": 8147.221948242188,
           "timepoint": 41.4,
           "trajectory": "I_sol",
           "upper": 28250.716308593746
          },
          {
           "lower": 8112.39267578125,
           "timepoint": 41.5,
           "trajectory": "I_sol",
           "upper": 28229.67158203125
          },
          {
           "lower": 8077.7100830078125,
           "timepoint": 41.6,
           "trajectory": "I_sol",
           "upper": 28208.628906249996
          },
          {
           "lower": 8043.173559570312,
           "timepoint": 41.7,
           "trajectory": "I_sol",
           "upper": 28187.594824218748
          },
          {
           "lower": 8008.7841796875,
           "timepoint": 41.8,
           "trajectory": "I_sol",
           "upper": 28166.567187499997
          },
          {
           "lower": 7974.538989257812,
           "timepoint": 41.9,
           "trajectory": "I_sol",
           "upper": 28145.5421875
          },
          {
           "lower": 7940.440405273437,
           "timepoint": 42,
           "trajectory": "I_sol",
           "upper": 28124.527441406248
          },
          {
           "lower": 7906.485986328125,
           "timepoint": 42.1,
           "trajectory": "I_sol",
           "upper": 28103.513671874996
          },
          {
           "lower": 7872.68115234375,
           "timepoint": 42.2,
           "trajectory": "I_sol",
           "upper": 28082.5080078125
          },
          {
           "lower": 7839.015283203125,
           "timepoint": 42.3,
           "trajectory": "I_sol",
           "upper": 28061.509082031247
          },
          {
           "lower": 7805.490649414062,
           "timepoint": 42.4,
           "trajectory": "I_sol",
           "upper": 28040.51455078125
          },
          {
           "lower": 7772.109155273438,
           "timepoint": 42.5,
           "trajectory": "I_sol",
           "upper": 28019.5265625
          },
          {
           "lower": 7738.86982421875,
           "timepoint": 42.6,
           "trajectory": "I_sol",
           "upper": 27998.545214843747
          },
          {
           "lower": 7705.77021484375,
           "timepoint": 42.7,
           "trajectory": "I_sol",
           "upper": 27977.57021484375
          },
          {
           "lower": 7672.811865234375,
           "timepoint": 42.8,
           "trajectory": "I_sol",
           "upper": 27956.603613281248
          },
          {
           "lower": 7639.992236328125,
           "timepoint": 42.9,
           "trajectory": "I_sol",
           "upper": 27935.641796875
          },
          {
           "lower": 7607.313305664063,
           "timepoint": 43,
           "trajectory": "I_sol",
           "upper": 27914.686328124997
          },
          {
           "lower": 7574.773583984375,
           "timepoint": 43.1,
           "trajectory": "I_sol",
           "upper": 27893.741210937496
          },
          {
           "lower": 7542.370166015625,
           "timepoint": 43.2,
           "trajectory": "I_sol",
           "upper": 27872.7970703125
          },
          {
           "lower": 7510.1064453125,
           "timepoint": 43.3,
           "trajectory": "I_sol",
           "upper": 27851.861328124996
          },
          {
           "lower": 7477.978125,
           "timepoint": 43.4,
           "trajectory": "I_sol",
           "upper": 27830.93154296875
          },
          {
           "lower": 7445.987451171875,
           "timepoint": 43.5,
           "trajectory": "I_sol",
           "upper": 27810.011816406248
          },
          {
           "lower": 7414.132666015625,
           "timepoint": 43.6,
           "trajectory": "I_sol",
           "upper": 27789.089355468746
          },
          {
           "lower": 7382.411596679687,
           "timepoint": 43.7,
           "trajectory": "I_sol",
           "upper": 27768.180859375
          },
          {
           "lower": 7350.826928710938,
           "timepoint": 43.8,
           "trajectory": "I_sol",
           "upper": 27747.282421875
          },
          {
           "lower": 7319.3759765625,
           "timepoint": 43.9,
           "trajectory": "I_sol",
           "upper": 27726.385058593747
          },
          {
           "lower": 7288.059887695313,
           "timepoint": 44,
           "trajectory": "I_sol",
           "upper": 27705.499609374998
          },
          {
           "lower": 7256.876635742187,
           "timepoint": 44.1,
           "trajectory": "I_sol",
           "upper": 27684.620703124998
          },
          {
           "lower": 7225.825732421875,
           "timepoint": 44.2,
           "trajectory": "I_sol",
           "upper": 27663.746484375
          },
          {
           "lower": 7194.907202148437,
           "timepoint": 44.3,
           "trajectory": "I_sol",
           "upper": 27642.88056640625
          },
          {
           "lower": 7164.12001953125,
           "timepoint": 44.4,
           "trajectory": "I_sol",
           "upper": 27622.023046874998
          },
          {
           "lower": 7133.465161132813,
           "timepoint": 44.5,
           "trajectory": "I_sol",
           "upper": 27601.171972656248
          },
          {
           "lower": 7102.94072265625,
           "timepoint": 44.6,
           "trajectory": "I_sol",
           "upper": 27580.329199218748
          },
          {
           "lower": 7072.545166015625,
           "timepoint": 44.7,
           "trajectory": "I_sol",
           "upper": 27559.492968749997
          },
          {
           "lower": 7042.280517578125,
           "timepoint": 44.8,
           "trajectory": "I_sol",
           "upper": 27538.668749999997
          },
          {
           "lower": 7012.143774414062,
           "timepoint": 44.9,
           "trajectory": "I_sol",
           "upper": 27517.84560546875
          },
          {
           "lower": 6982.136499023438,
           "timepoint": 45,
           "trajectory": "I_sol",
           "upper": 27497.0341796875
          },
          {
           "lower": 6952.256665039063,
           "timepoint": 45.1,
           "trajectory": "I_sol",
           "upper": 27476.2296875
          },
          {
           "lower": 6922.503393554687,
           "timepoint": 45.2,
           "trajectory": "I_sol",
           "upper": 27455.43349609375
          },
          {
           "lower": 6892.8783203125,
           "timepoint": 45.3,
           "trajectory": "I_sol",
           "upper": 27434.6439453125
          },
          {
           "lower": 6863.362451171875,
           "timepoint": 45.4,
           "trajectory": "I_sol",
           "upper": 27413.86279296875
          },
          {
           "lower": 6833.986987304687,
           "timepoint": 45.5,
           "trajectory": "I_sol",
           "upper": 27393.04921875
          },
          {
           "lower": 6804.736499023437,
           "timepoint": 45.6,
           "trajectory": "I_sol",
           "upper": 27372.27919921875
          },
          {
           "lower": 6775.610034179687,
           "timepoint": 45.7,
           "trajectory": "I_sol",
           "upper": 27351.515625
          },
          {
           "lower": 6746.6085205078125,
           "timepoint": 45.8,
           "trajectory": "I_sol",
           "upper": 27330.760546874997
          },
          {
           "lower": 6717.7291015625,
           "timepoint": 45.9,
           "trajectory": "I_sol",
           "upper": 27310.010058593747
          },
          {
           "lower": 6688.974145507813,
           "timepoint": 46,
           "trajectory": "I_sol",
           "upper": 27289.2736328125
          },
          {
           "lower": 6660.3412109375,
           "timepoint": 46.1,
           "trajectory": "I_sol",
           "upper": 27268.541796874997
          },
          {
           "lower": 6631.829858398438,
           "timepoint": 46.2,
           "trajectory": "I_sol",
           "upper": 27247.81640625
          },
          {
           "lower": 6603.440502929688,
           "timepoint": 46.3,
           "trajectory": "I_sol",
           "upper": 27227.09951171875
          },
          {
           "lower": 6575.170825195312,
           "timepoint": 46.4,
           "trajectory": "I_sol",
           "upper": 27206.392675781248
          },
          {
           "lower": 6547.02353515625,
           "timepoint": 46.5,
           "trajectory": "I_sol",
           "upper": 27185.692480468748
          },
          {
           "lower": 6518.995922851563,
           "timepoint": 46.6,
           "trajectory": "I_sol",
           "upper": 27164.998828124997
          },
          {
           "lower": 6491.085913085937,
           "timepoint": 46.7,
           "trajectory": "I_sol",
           "upper": 27144.31533203125
          },
          {
           "lower": 6463.29697265625,
           "timepoint": 46.8,
           "trajectory": "I_sol",
           "upper": 27123.638476562497
          },
          {
           "lower": 6435.62587890625,
           "timepoint": 46.9,
           "trajectory": "I_sol",
           "upper": 27102.96796875
          },
          {
           "lower": 6408.072705078125,
           "timepoint": 47,
           "trajectory": "I_sol",
           "upper": 27082.307714843748
          },
          {
           "lower": 6380.645483398437,
           "timepoint": 47.1,
           "trajectory": "I_sol",
           "upper": 27061.657031249997
          },
          {
           "lower": 6353.326977539063,
           "timepoint": 47.2,
           "trajectory": "I_sol",
           "upper": 27041.008203125
          },
          {
           "lower": 6326.12607421875,
           "timepoint": 47.3,
           "trajectory": "I_sol",
           "upper": 27020.371484375
          },
          {
           "lower": 6299.039868164063,
           "timepoint": 47.4,
           "trajectory": "I_sol",
           "upper": 27003.463476562498
          },
          {
           "lower": 6272.070263671875,
           "timepoint": 47.5,
           "trajectory": "I_sol",
           "upper": 26990.0576171875
          },
          {
           "lower": 6245.215869140625,
           "timepoint": 47.6,
           "trajectory": "I_sol",
           "upper": 26976.64912109375
          },
          {
           "lower": 6218.47509765625,
           "timepoint": 47.7,
           "trajectory": "I_sol",
           "upper": 26963.243261718748
          },
          {
           "lower": 6191.849047851562,
           "timepoint": 47.8,
           "trajectory": "I_sol",
           "upper": 26949.8330078125
          },
          {
           "lower": 6165.335668945312,
           "timepoint": 47.9,
           "trajectory": "I_sol",
           "upper": 26936.423632812497
          },
          {
           "lower": 6138.936499023437,
           "timepoint": 48,
           "trajectory": "I_sol",
           "upper": 26923.01728515625
          },
          {
           "lower": 6112.650927734375,
           "timepoint": 48.1,
           "trajectory": "I_sol",
           "upper": 26909.608007812498
          },
          {
           "lower": 6086.4751953125,
           "timepoint": 48.2,
           "trajectory": "I_sol",
           "upper": 26896.17568359375
          },
          {
           "lower": 6060.4130859375,
           "timepoint": 48.3,
           "trajectory": "I_sol",
           "upper": 26882.762792968748
          },
          {
           "lower": 6034.461254882813,
           "timepoint": 48.4,
           "trajectory": "I_sol",
           "upper": 26869.35107421875
          },
          {
           "lower": 6008.620654296875,
           "timepoint": 48.5,
           "trajectory": "I_sol",
           "upper": 26855.9365234375
          },
          {
           "lower": 5982.891040039062,
           "timepoint": 48.6,
           "trajectory": "I_sol",
           "upper": 26842.52685546875
          },
          {
           "lower": 5957.269970703125,
           "timepoint": 48.7,
           "trajectory": "I_sol",
           "upper": 26829.112402343748
          },
          {
           "lower": 5931.757299804687,
           "timepoint": 48.8,
           "trajectory": "I_sol",
           "upper": 26815.69912109375
          },
          {
           "lower": 5906.354272460938,
           "timepoint": 48.9,
           "trajectory": "I_sol",
           "upper": 26802.28486328125
          },
          {
           "lower": 5881.060571289063,
           "timepoint": 49,
           "trajectory": "I_sol",
           "upper": 26788.869921875
          },
          {
           "lower": 5855.8746337890625,
           "timepoint": 49.1,
           "trajectory": "I_sol",
           "upper": 26775.45048828125
          },
          {
           "lower": 5830.7955078125,
           "timepoint": 49.2,
           "trajectory": "I_sol",
           "upper": 26762.03515625
          },
          {
           "lower": 5805.82373046875,
           "timepoint": 49.3,
           "trajectory": "I_sol",
           "upper": 26748.622656249998
          },
          {
           "lower": 5780.95869140625,
           "timepoint": 49.4,
           "trajectory": "I_sol",
           "upper": 26735.20380859375
          },
          {
           "lower": 5756.200024414063,
           "timepoint": 49.5,
           "trajectory": "I_sol",
           "upper": 26721.78759765625
          },
          {
           "lower": 5731.547192382813,
           "timepoint": 49.6,
           "trajectory": "I_sol",
           "upper": 26708.370703124998
          },
          {
           "lower": 5706.998266601562,
           "timepoint": 49.7,
           "trajectory": "I_sol",
           "upper": 26694.952734374998
          },
          {
           "lower": 5682.555126953125,
           "timepoint": 49.8,
           "trajectory": "I_sol",
           "upper": 26681.53212890625
          },
          {
           "lower": 5658.215844726563,
           "timepoint": 49.9,
           "trajectory": "I_sol",
           "upper": 26668.11240234375
          },
          {
           "lower": 5633.98095703125,
           "timepoint": 50,
           "trajectory": "I_sol",
           "upper": 26654.69384765625
          },
          {
           "lower": 5609.848974609375,
           "timepoint": 50.1,
           "trajectory": "I_sol",
           "upper": 26641.2724609375
          },
          {
           "lower": 5585.819360351563,
           "timepoint": 50.2,
           "trajectory": "I_sol",
           "upper": 26627.85009765625
          },
          {
           "lower": 5561.893212890625,
           "timepoint": 50.3,
           "trajectory": "I_sol",
           "upper": 26614.425
          },
          {
           "lower": 5538.0677734375,
           "timepoint": 50.4,
           "trajectory": "I_sol",
           "upper": 26601.0546875
          },
          {
           "lower": 5514.3458251953125,
           "timepoint": 50.5,
           "trajectory": "I_sol",
           "upper": 26587.637109375
          },
          {
           "lower": 5490.724365234375,
           "timepoint": 50.6,
           "trajectory": "I_sol",
           "upper": 26574.22060546875
          },
          {
           "lower": 5467.2130126953125,
           "timepoint": 50.7,
           "trajectory": "I_sol",
           "upper": 26551.84541015625
          },
          {
           "lower": 5443.794287109375,
           "timepoint": 50.8,
           "trajectory": "I_sol",
           "upper": 26526.00810546875
          },
          {
           "lower": 5420.474536132812,
           "timepoint": 50.9,
           "trajectory": "I_sol",
           "upper": 26500.19130859375
          },
          {
           "lower": 5397.2556640625,
           "timepoint": 51,
           "trajectory": "I_sol",
           "upper": 26474.3947265625
          },
          {
           "lower": 5374.136254882813,
           "timepoint": 51.1,
           "trajectory": "I_sol",
           "upper": 26448.61474609375
          },
          {
           "lower": 5351.114306640625,
           "timepoint": 51.2,
           "trajectory": "I_sol",
           "upper": 26422.8515625
          },
          {
           "lower": 5328.191845703125,
           "timepoint": 51.3,
           "trajectory": "I_sol",
           "upper": 26397.1419921875
          },
          {
           "lower": 5305.366357421875,
           "timepoint": 51.4,
           "trajectory": "I_sol",
           "upper": 26371.417578125
          },
          {
           "lower": 5282.639819335937,
           "timepoint": 51.5,
           "trajectory": "I_sol",
           "upper": 26345.71728515625
          },
          {
           "lower": 5260.010205078125,
           "timepoint": 51.6,
           "trajectory": "I_sol",
           "upper": 26320.031835937498
          },
          {
           "lower": 5237.4766845703125,
           "timepoint": 51.7,
           "trajectory": "I_sol",
           "upper": 26294.364843749998
          },
          {
           "lower": 5215.04013671875,
           "timepoint": 51.8,
           "trajectory": "I_sol",
           "upper": 26268.7201171875
          },
          {
           "lower": 5192.699072265625,
           "timepoint": 51.9,
           "trajectory": "I_sol",
           "upper": 26243.08642578125
          },
          {
           "lower": 5170.454052734375,
           "timepoint": 52,
           "trajectory": "I_sol",
           "upper": 26217.4787109375
          },
          {
           "lower": 5148.304516601563,
           "timepoint": 52.1,
           "trajectory": "I_sol",
           "upper": 26191.8876953125
          },
          {
           "lower": 5126.249462890625,
           "timepoint": 52.2,
           "trajectory": "I_sol",
           "upper": 26166.3095703125
          },
          {
           "lower": 5104.288989257812,
           "timepoint": 52.3,
           "trajectory": "I_sol",
           "upper": 26140.7556640625
          },
          {
           "lower": 5082.421630859375,
           "timepoint": 52.4,
           "trajectory": "I_sol",
           "upper": 26115.21650390625
          },
          {
           "lower": 5060.649169921875,
           "timepoint": 52.5,
           "trajectory": "I_sol",
           "upper": 26089.69951171875
          },
          {
           "lower": 5038.954443359375,
           "timepoint": 52.6,
           "trajectory": "I_sol",
           "upper": 26064.19921875
          },
          {
           "lower": 5017.364819335938,
           "timepoint": 52.7,
           "trajectory": "I_sol",
           "upper": 26038.7146484375
          },
          {
           "lower": 4995.867749023438,
           "timepoint": 52.8,
           "trajectory": "I_sol",
           "upper": 26013.25126953125
          },
          {
           "lower": 4974.4622802734375,
           "timepoint": 52.9,
           "trajectory": "I_sol",
           "upper": 25987.802734375
          },
          {
           "lower": 4953.148876953125,
           "timepoint": 53,
           "trajectory": "I_sol",
           "upper": 25962.3763671875
          },
          {
           "lower": 4931.92705078125,
           "timepoint": 53.1,
           "trajectory": "I_sol",
           "upper": 25936.966796875
          },
          {
           "lower": 4910.79443359375,
           "timepoint": 53.2,
           "trajectory": "I_sol",
           "upper": 25911.571874999998
          },
          {
           "lower": 4889.7533203125,
           "timepoint": 53.3,
           "trajectory": "I_sol",
           "upper": 25886.20107421875
          },
          {
           "lower": 4868.800927734375,
           "timepoint": 53.4,
           "trajectory": "I_sol",
           "upper": 25860.84130859375
          },
          {
           "lower": 4847.9395751953125,
           "timepoint": 53.5,
           "trajectory": "I_sol",
           "upper": 25835.505859375
          },
          {
           "lower": 4827.1668701171875,
           "timepoint": 53.6,
           "trajectory": "I_sol",
           "upper": 25810.1849609375
          },
          {
           "lower": 4806.481884765625,
           "timepoint": 53.7,
           "trajectory": "I_sol",
           "upper": 25784.953125
          },
          {
           "lower": 4785.88740234375,
           "timepoint": 53.8,
           "trajectory": "I_sol",
           "upper": 25763.764453124997
          },
          {
           "lower": 4765.37919921875,
           "timepoint": 53.9,
           "trajectory": "I_sol",
           "upper": 25746.1455078125
          },
          {
           "lower": 4744.9595703125,
           "timepoint": 54,
           "trajectory": "I_sol",
           "upper": 25728.530371093748
          },
          {
           "lower": 4724.6271484375,
           "timepoint": 54.1,
           "trajectory": "I_sol",
           "upper": 25710.920703124997
          },
          {
           "lower": 4704.381420898438,
           "timepoint": 54.2,
           "trajectory": "I_sol",
           "upper": 25693.3166015625
          },
          {
           "lower": 4684.222314453125,
           "timepoint": 54.3,
           "trajectory": "I_sol",
           "upper": 25675.716015625
          },
          {
           "lower": 4664.149145507812,
           "timepoint": 54.4,
           "trajectory": "I_sol",
           "upper": 25658.14716796875
          },
          {
           "lower": 4644.1624755859375,
           "timepoint": 54.5,
           "trajectory": "I_sol",
           "upper": 25640.563281249997
          },
          {
           "lower": 4624.260595703125,
           "timepoint": 54.6,
           "trajectory": "I_sol",
           "upper": 25622.98310546875
          },
          {
           "lower": 4604.444287109375,
           "timepoint": 54.7,
           "trajectory": "I_sol",
           "upper": 25605.406640625
          },
          {
           "lower": 4584.71279296875,
           "timepoint": 54.8,
           "trajectory": "I_sol",
           "upper": 25587.837499999998
          },
          {
           "lower": 4565.0650390625,
           "timepoint": 54.9,
           "trajectory": "I_sol",
           "upper": 25570.27021484375
          },
          {
           "lower": 4545.50146484375,
           "timepoint": 55,
           "trajectory": "I_sol",
           "upper": 25552.713964843748
          },
          {
           "lower": 4526.0216796875,
           "timepoint": 55.1,
           "trajectory": "I_sol",
           "upper": 25535.161425781247
          },
          {
           "lower": 4506.62509765625,
           "timepoint": 55.2,
           "trajectory": "I_sol",
           "upper": 25517.612597656247
          },
          {
           "lower": 4487.311743164062,
           "timepoint": 55.3,
           "trajectory": "I_sol",
           "upper": 25500.0703125
          },
          {
           "lower": 4468.080224609375,
           "timepoint": 55.4,
           "trajectory": "I_sol",
           "upper": 25482.5326171875
          },
          {
           "lower": 4448.931884765625,
           "timepoint": 55.5,
           "trajectory": "I_sol",
           "upper": 25465.00234375
          },
          {
           "lower": 4429.864404296875,
           "timepoint": 55.6,
           "trajectory": "I_sol",
           "upper": 25447.47578125
          },
          {
           "lower": 4410.878662109375,
           "timepoint": 55.7,
           "trajectory": "I_sol",
           "upper": 25429.956640624998
          },
          {
           "lower": 4391.975146484375,
           "timepoint": 55.8,
           "trajectory": "I_sol",
           "upper": 25412.441210937497
          },
          {
           "lower": 4373.149584960937,
           "timepoint": 55.9,
           "trajectory": "I_sol",
           "upper": 25394.92939453125
          },
          {
           "lower": 4354.407641601562,
           "timepoint": 56,
           "trajectory": "I_sol",
           "upper": 25377.426953125
          },
          {
           "lower": 4335.744580078125,
           "timepoint": 56.1,
           "trajectory": "I_sol",
           "upper": 25359.929980468747
          },
          {
           "lower": 4317.160327148437,
           "timepoint": 56.2,
           "trajectory": "I_sol",
           "upper": 25342.436621093748
          },
          {
           "lower": 4298.655932617187,
           "timepoint": 56.3,
           "trajectory": "I_sol",
           "upper": 25324.949023437497
          },
          {
           "lower": 4280.230786132813,
           "timepoint": 56.4,
           "trajectory": "I_sol",
           "upper": 25307.464941406248
          },
          {
           "lower": 4261.884936523437,
           "timepoint": 56.5,
           "trajectory": "I_sol",
           "upper": 25289.990234375
          },
          {
           "lower": 4243.617724609375,
           "timepoint": 56.6,
           "trajectory": "I_sol",
           "upper": 25272.51923828125
          },
          {
           "lower": 4225.427221679687,
           "timepoint": 56.7,
           "trajectory": "I_sol",
           "upper": 25255.0537109375
          },
          {
           "lower": 4207.315087890625,
           "timepoint": 56.8,
           "trajectory": "I_sol",
           "upper": 25237.59375
          },
          {
           "lower": 4189.290014648437,
           "timepoint": 56.9,
           "trajectory": "I_sol",
           "upper": 25220.137499999997
          },
          {
           "lower": 4171.334448242187,
           "timepoint": 57,
           "trajectory": "I_sol",
           "upper": 25202.690527343748
          },
          {
           "lower": 4153.454809570312,
           "timepoint": 57.1,
           "trajectory": "I_sol",
           "upper": 25185.249121093748
          },
          {
           "lower": 4135.651513671875,
           "timepoint": 57.2,
           "trajectory": "I_sol",
           "upper": 25167.8095703125
          },
          {
           "lower": 4117.92509765625,
           "timepoint": 57.3,
           "trajectory": "I_sol",
           "upper": 25150.377539062498
          },
          {
           "lower": 4100.273120117187,
           "timepoint": 57.4,
           "trajectory": "I_sol",
           "upper": 25132.95263671875
          },
          {
           "lower": 4082.69775390625,
           "timepoint": 57.5,
           "trajectory": "I_sol",
           "upper": 25115.531542968747
          },
          {
           "lower": 4065.1977661132814,
           "timepoint": 57.6,
           "trajectory": "I_sol",
           "upper": 25098.119921874997
          },
          {
           "lower": 4047.771936035156,
           "timepoint": 57.7,
           "trajectory": "I_sol",
           "upper": 25080.7099609375
          },
          {
           "lower": 4030.421276855469,
           "timepoint": 57.8,
           "trajectory": "I_sol",
           "upper": 25063.3056640625
          },
          {
           "lower": 4013.1442749023436,
           "timepoint": 57.9,
           "trajectory": "I_sol",
           "upper": 25045.908789062498
          },
          {
           "lower": 3995.94169921875,
           "timepoint": 58,
           "trajectory": "I_sol",
           "upper": 25028.51728515625
          },
          {
           "lower": 3978.813037109375,
           "timepoint": 58.1,
           "trajectory": "I_sol",
           "upper": 25011.130859375
          },
          {
           "lower": 3961.7568115234376,
           "timepoint": 58.2,
           "trajectory": "I_sol",
           "upper": 24993.748632812498
          },
          {
           "lower": 3944.774035644531,
           "timepoint": 58.3,
           "trajectory": "I_sol",
           "upper": 24976.375585937498
          },
          {
           "lower": 3927.8637084960938,
           "timepoint": 58.4,
           "trajectory": "I_sol",
           "upper": 24959.006152343747
          },
          {
           "lower": 3911.0262939453123,
           "timepoint": 58.5,
           "trajectory": "I_sol",
           "upper": 24941.64248046875
          },
          {
           "lower": 3894.2611083984375,
           "timepoint": 58.6,
           "trajectory": "I_sol",
           "upper": 24924.28603515625
          },
          {
           "lower": 3877.5668823242186,
           "timepoint": 58.7,
           "trajectory": "I_sol",
           "upper": 24906.933398437497
          },
          {
           "lower": 3860.944860839844,
           "timepoint": 58.8,
           "trajectory": "I_sol",
           "upper": 24889.588183593747
          },
          {
           "lower": 3844.3933959960937,
           "timepoint": 58.9,
           "trajectory": "I_sol",
           "upper": 24872.246679687498
          },
          {
           "lower": 3827.9133422851564,
           "timepoint": 59,
           "trajectory": "I_sol",
           "upper": 24854.914355468747
          },
          {
           "lower": 3811.5040283203125,
           "timepoint": 59.1,
           "trajectory": "I_sol",
           "upper": 24837.58759765625
          },
          {
           "lower": 3795.164196777344,
           "timepoint": 59.2,
           "trajectory": "I_sol",
           "upper": 24820.26455078125
          },
          {
           "lower": 3778.8883666992188,
           "timepoint": 59.3,
           "trajectory": "I_sol",
           "upper": 24802.945312499996
          },
          {
           "lower": 3762.68759765625,
           "timepoint": 59.4,
           "trajectory": "I_sol",
           "upper": 24785.635351562498
          },
          {
           "lower": 3746.556591796875,
           "timepoint": 59.5,
           "trajectory": "I_sol",
           "upper": 24768.332812499997
          },
          {
           "lower": 3730.4943725585936,
           "timepoint": 59.6,
           "trajectory": "I_sol",
           "upper": 24751.03388671875
          },
          {
           "lower": 3714.5006469726563,
           "timepoint": 59.7,
           "trajectory": "I_sol",
           "upper": 24733.738574218747
          },
          {
           "lower": 3698.5757080078124,
           "timepoint": 59.8,
           "trajectory": "I_sol",
           "upper": 24716.452734374998
          },
          {
           "lower": 3682.718786621094,
           "timepoint": 59.9,
           "trajectory": "I_sol",
           "upper": 24699.172460937498
          },
          {
           "lower": 3666.9296875,
           "timepoint": 60,
           "trajectory": "I_sol",
           "upper": 24681.89765625
          },
          {
           "lower": 3651.2088256835937,
           "timepoint": 60.1,
           "trajectory": "I_sol",
           "upper": 24664.624804687497
          },
          {
           "lower": 3635.553857421875,
           "timepoint": 60.2,
           "trajectory": "I_sol",
           "upper": 24647.361132812497
          },
          {
           "lower": 3619.9666381835937,
           "timepoint": 60.3,
           "trajectory": "I_sol",
           "upper": 24630.104980468746
          },
          {
           "lower": 3604.4459716796873,
           "timepoint": 60.4,
           "trajectory": "I_sol",
           "upper": 24612.852539062496
          },
          {
           "lower": 3588.9918823242188,
           "timepoint": 60.5,
           "trajectory": "I_sol",
           "upper": 24595.6056640625
          },
          {
           "lower": 3573.603894042969,
           "timepoint": 60.6,
           "trajectory": "I_sol",
           "upper": 24578.36806640625
          },
          {
           "lower": 3558.281213378906,
           "timepoint": 60.7,
           "trajectory": "I_sol",
           "upper": 24561.1341796875
          },
          {
           "lower": 3543.024853515625,
           "timepoint": 60.8,
           "trajectory": "I_sol",
           "upper": 24543.907812499998
          },
          {
           "lower": 3527.832873535156,
           "timepoint": 60.9,
           "trajectory": "I_sol",
           "upper": 24526.685058593746
          },
          {
           "lower": 3512.7067016601563,
           "timepoint": 61,
           "trajectory": "I_sol",
           "upper": 24509.467871093748
          }
         ]
        },
        {
         "name": "traces",
         "transform": [
          {
           "expr": "isValid(datum.value)",
           "type": "filter"
          }
         ],
         "values": []
        },
        {
         "name": "points",
         "values": [
          {
           "sample_id": 0,
           "timepoint": 0,
           "trajectory": "I_data",
           "value": 0
          },
          {
           "sample_id": 0,
           "timepoint": 1,
           "trajectory": "I_data",
           "value": 0
          },
          {
           "sample_id": 0,
           "timepoint": 2,
           "trajectory": "I_data",
           "value": 1
          },
          {
           "sample_id": 0,
           "timepoint": 3,
           "trajectory": "I_data",
           "value": 10
          },
          {
           "sample_id": 0,
           "timepoint": 4,
           "trajectory": "I_data",
           "value": 21
          },
          {
           "sample_id": 0,
           "timepoint": 5,
           "trajectory": "I_data",
           "value": 24
          },
          {
           "sample_id": 0,
           "timepoint": 6,
           "trajectory": "I_data",
           "value": 76
          },
          {
           "sample_id": 0,
           "timepoint": 7,
           "trajectory": "I_data",
           "value": 104
          },
          {
           "sample_id": 0,
           "timepoint": 8,
           "trajectory": "I_data",
           "value": 128
          },
          {
           "sample_id": 0,
           "timepoint": 9,
           "trajectory": "I_data",
           "value": 131
          },
          {
           "sample_id": 0,
           "timepoint": 10,
           "trajectory": "I_data",
           "value": 192
          },
          {
           "sample_id": 0,
           "timepoint": 11,
           "trajectory": "I_data",
           "value": 220
          },
          {
           "sample_id": 0,
           "timepoint": 12,
           "trajectory": "I_data",
           "value": 274
          },
          {
           "sample_id": 0,
           "timepoint": 13,
           "trajectory": "I_data",
           "value": 394
          },
          {
           "sample_id": 0,
           "timepoint": 14,
           "trajectory": "I_data",
           "value": 481
          },
          {
           "sample_id": 0,
           "timepoint": 15,
           "trajectory": "I_data",
           "value": 745
          },
          {
           "sample_id": 0,
           "timepoint": 16,
           "trajectory": "I_data",
           "value": 1111
          },
          {
           "sample_id": 0,
           "timepoint": 17,
           "trajectory": "I_data",
           "value": 2128
          },
          {
           "sample_id": 0,
           "timepoint": 18,
           "trajectory": "I_data",
           "value": 3671
          },
          {
           "sample_id": 0,
           "timepoint": 19,
           "trajectory": "I_data",
           "value": 6578
          },
          {
           "sample_id": 0,
           "timepoint": 20,
           "trajectory": "I_data",
           "value": 9449
          },
          {
           "sample_id": 0,
           "timepoint": 21,
           "trajectory": "I_data",
           "value": 13761
          },
          {
           "sample_id": 0,
           "timepoint": 22,
           "trajectory": "I_data",
           "value": 18270
          },
          {
           "sample_id": 0,
           "timepoint": 23,
           "trajectory": "I_data",
           "value": 21478
          },
          {
           "sample_id": 0,
           "timepoint": 24,
           "trajectory": "I_data",
           "value": 23630
          },
          {
           "sample_id": 0,
           "timepoint": 25,
           "trajectory": "I_data",
           "value": 26987
          },
          {
           "sample_id": 0,
           "timepoint": 26,
           "trajectory": "I_data",
           "value": 29533
          },
          {
           "sample_id": 0,
           "timepoint": 27,
           "trajectory": "I_data",
           "value": 31623
          },
          {
           "sample_id": 0,
           "timepoint": 28,
           "trajectory": "I_data",
           "value": 33967
          },
          {
           "sample_id": 0,
           "timepoint": 29,
           "trajectory": "I_data",
           "value": 35822
          },
          {
           "sample_id": 0,
           "timepoint": 30,
           "trajectory": "I_data",
           "value": 38456
          },
          {
           "sample_id": 0,
           "timepoint": 31,
           "trajectory": "I_data",
           "value": 45676
          },
          {
           "sample_id": 0,
           "timepoint": 32,
           "trajectory": "I_data",
           "value": 48380
          },
          {
           "sample_id": 0,
           "timepoint": 33,
           "trajectory": "I_data",
           "value": 51807
          },
          {
           "sample_id": 0,
           "timepoint": 34,
           "trajectory": "I_data",
           "value": 55042
          },
          {
           "sample_id": 0,
           "timepoint": 35,
           "trajectory": "I_data",
           "value": 56847
          },
          {
           "sample_id": 0,
           "timepoint": 36,
           "trajectory": "I_data",
           "value": 52184
          },
          {
           "sample_id": 0,
           "timepoint": 37,
           "trajectory": "I_data",
           "value": 49194
          },
          {
           "sample_id": 0,
           "timepoint": 38,
           "trajectory": "I_data",
           "value": 48730
          },
          {
           "sample_id": 0,
           "timepoint": 39,
           "trajectory": "I_data",
           "value": 50551
          },
          {
           "sample_id": 0,
           "timepoint": 40,
           "trajectory": "I_data",
           "value": 51029
          },
          {
           "sample_id": 0,
           "timepoint": 41,
           "trajectory": "I_data",
           "value": 49701
          },
          {
           "sample_id": 0,
           "timepoint": 42,
           "trajectory": "I_data",
           "value": 50661
          },
          {
           "sample_id": 0,
           "timepoint": 43,
           "trajectory": "I_data",
           "value": 48303
          },
          {
           "sample_id": 0,
           "timepoint": 44,
           "trajectory": "I_data",
           "value": 43703
          },
          {
           "sample_id": 0,
           "timepoint": 45,
           "trajectory": "I_data",
           "value": 38888
          },
          {
           "sample_id": 0,
           "timepoint": 46,
           "trajectory": "I_data",
           "value": 38244
          },
          {
           "sample_id": 0,
           "timepoint": 47,
           "trajectory": "I_data",
           "value": 36857
          },
          {
           "sample_id": 0,
           "timepoint": 48,
           "trajectory": "I_data",
           "value": 35881
          },
          {
           "sample_id": 0,
           "timepoint": 49,
           "trajectory": "I_data",
           "value": 35054
          },
          {
           "sample_id": 0,
           "timepoint": 50,
           "trajectory": "I_data",
           "value": 34782
          },
          {
           "sample_id": 0,
           "timepoint": 51,
           "trajectory": "I_data",
           "value": 31526
          },
          {
           "sample_id": 0,
           "timepoint": 52,
           "trajectory": "I_data",
           "value": 28799
          },
          {
           "sample_id": 0,
           "timepoint": 53,
           "trajectory": "I_data",
           "value": 27419
          },
          {
           "sample_id": 0,
           "timepoint": 54,
           "trajectory": "I_data",
           "value": 27443
          },
          {
           "sample_id": 0,
           "timepoint": 55,
           "trajectory": "I_data",
           "value": 30499
          },
          {
           "sample_id": 0,
           "timepoint": 56,
           "trajectory": "I_data",
           "value": 31543
          },
          {
           "sample_id": 0,
           "timepoint": 57,
           "trajectory": "I_data",
           "value": 31597
          },
          {
           "sample_id": 0,
           "timepoint": 58,
           "trajectory": "I_data",
           "value": 29008
          },
          {
           "sample_id": 0,
           "timepoint": 59,
           "trajectory": "I_data",
           "value": 25476
          },
          {
           "sample_id": 0,
           "timepoint": 60,
           "trajectory": "I_data",
           "value": 20411
          },
          {
           "sample_id": 0,
           "timepoint": 61,
           "trajectory": "I_data",
           "value": 19224
          },
          {
           "sample_id": 0,
           "timepoint": 40,
           "trajectory": "H_data",
           "value": 0
          },
          {
           "sample_id": 0,
           "timepoint": 41,
           "trajectory": "H_data",
           "value": 0
          },
          {
           "sample_id": 0,
           "timepoint": 47,
           "trajectory": "H_data",
           "value": 0
          },
          {
           "sample_id": 0,
           "timepoint": 48,
           "trajectory": "H_data",
           "value": 1
          },
          {
           "sample_id": 0,
           "timepoint": 54,
           "trajectory": "H_data",
           "value": 0
          },
          {
           "sample_id": 0,
           "timepoint": 55,
           "trajectory": "H_data",
           "value": 0
          },
          {
           "sample_id": 0,
           "timepoint": 56,
           "trajectory": "H_data",
           "value": 1
          },
          {
           "sample_id": 0,
           "timepoint": 57,
           "trajectory": "H_data",
           "value": 0
          },
          {
           "sample_id": 0,
           "timepoint": 58,
           "trajectory": "H_data",
           "value": 0
          },
          {
           "sample_id": 0,
           "timepoint": 59,
           "trajectory": "H_data",
           "value": 0
          },
          {
           "sample_id": 0,
           "timepoint": 60,
           "trajectory": "H_data",
           "value": 0
          },
          {
           "sample_id": 0,
           "timepoint": 61,
           "trajectory": "H_data",
           "value": 0
          },
          {
           "sample_id": 0,
           "timepoint": 0,
           "trajectory": "D_data",
           "value": 0
          },
          {
           "sample_id": 0,
           "timepoint": 1,
           "trajectory": "D_data",
           "value": 0
          },
          {
           "sample_id": 0,
           "timepoint": 2,
           "trajectory": "D_data",
           "value": 0
          },
          {
           "sample_id": 0,
           "timepoint": 3,
           "trajectory": "D_data",
           "value": 0
          },
          {
           "sample_id": 0,
           "timepoint": 4,
           "trajectory": "D_data",
           "value": 0
          },
          {
           "sample_id": 0,
           "timepoint": 5,
           "trajectory": "D_data",
           "value": 0
          },
          {
           "sample_id": 0,
           "timepoint": 6,
           "trajectory": "D_data",
           "value": 0
          },
          {
           "sample_id": 0,
           "timepoint": 7,
           "trajectory": "D_data",
           "value": 0
          },
          {
           "sample_id": 0,
           "timepoint": 8,
           "trajectory": "D_data",
           "value": 0
          },
          {
           "sample_id": 0,
           "timepoint": 9,
           "trajectory": "D_data",
           "value": 0
          },
          {
           "sample_id": 0,
           "timepoint": 10,
           "trajectory": "D_data",
           "value": 1
          },
          {
           "sample_id": 0,
           "timepoint": 11,
           "trajectory": "D_data",
           "value": 1
          },
          {
           "sample_id": 0,
           "timepoint": 12,
           "trajectory": "D_data",
           "value": 1
          },
          {
           "sample_id": 0,
           "timepoint": 13,
           "trajectory": "D_data",
           "value": 4
          },
          {
           "sample_id": 0,
           "timepoint": 14,
           "trajectory": "D_data",
           "value": 9
          },
          {
           "sample_id": 0,
           "timepoint": 15,
           "trajectory": "D_data",
           "value": 19
          },
          {
           "sample_id": 0,
           "timepoint": 16,
           "trajectory": "D_data",
           "value": 30
          },
          {
           "sample_id": 0,
           "timepoint": 17,
           "trajectory": "D_data",
           "value": 51
          },
          {
           "sample_id": 0,
           "timepoint": 18,
           "trajectory": "D_data",
           "value": 77
          },
          {
           "sample_id": 0,
           "timepoint": 19,
           "trajectory": "D_data",
           "value": 129
          },
          {
           "sample_id": 0,
           "timepoint": 20,
           "trajectory": "D_data",
           "value": 175
          },
          {
           "sample_id": 0,
           "timepoint": 21,
           "trajectory": "D_data",
           "value": 226
          },
          {
           "sample_id": 0,
           "timepoint": 22,
           "trajectory": "D_data",
           "value": 315
          },
          {
           "sample_id": 0,
           "timepoint": 23,
           "trajectory": "D_data",
           "value": 427
          },
          {
           "sample_id": 0,
           "timepoint": 24,
           "trajectory": "D_data",
           "value": 565
          },
          {
           "sample_id": 0,
           "timepoint": 25,
           "trajectory": "D_data",
           "value": 759
          },
          {
           "sample_id": 0,
           "timepoint": 26,
           "trajectory": "D_data",
           "value": 984
          },
          {
           "sample_id": 0,
           "timepoint": 27,
           "trajectory": "D_data",
           "value": 1285
          },
          {
           "sample_id": 0,
           "timepoint": 28,
           "trajectory": "D_data",
           "value": 1603
          },
          {
           "sample_id": 0,
           "timepoint": 29,
           "trajectory": "D_data",
           "value": 1930
          },
          {
           "sample_id": 0,
           "timepoint": 30,
           "trajectory": "D_data",
           "value": 2334
          },
          {
           "sample_id": 0,
           "timepoint": 31,
           "trajectory": "D_data",
           "value": 2859
          },
          {
           "sample_id": 0,
           "timepoint": 32,
           "trajectory": "D_data",
           "value": 3420
          },
          {
           "sample_id": 0,
           "timepoint": 33,
           "trajectory": "D_data",
           "value": 3989
          },
          {
           "sample_id": 0,
           "timepoint": 34,
           "trajectory": "D_data",
           "value": 4634
          },
          {
           "sample_id": 0,
           "timepoint": 35,
           "trajectory": "D_data",
           "value": 5384
          },
          {
           "sample_id": 0,
           "timepoint": 36,
           "trajectory": "D_data",
           "value": 6185
          },
          {
           "sample_id": 0,
           "timepoint": 37,
           "trajectory": "D_data",
           "value": 7241
          },
          {
           "sample_id": 0,
           "timepoint": 38,
           "trajectory": "D_data",
           "value": 7985
          },
          {
           "sample_id": 0,
           "timepoint": 39,
           "trajectory": "D_data",
           "value": 8846
          },
          {
           "sample_id": 0,
           "timepoint": 40,
           "trajectory": "D_data",
           "value": 9579
          },
          {
           "sample_id": 0,
           "timepoint": 41,
           "trajectory": "D_data",
           "value": 10345
          },
          {
           "sample_id": 0,
           "timepoint": 42,
           "trajectory": "D_data",
           "value": 11126
          },
          {
           "sample_id": 0,
           "timepoint": 43,
           "trajectory": "D_data",
           "value": 11930
          },
          {
           "sample_id": 0,
           "timepoint": 44,
           "trajectory": "D_data",
           "value": 12669
          },
          {
           "sample_id": 0,
           "timepoint": 45,
           "trajectory": "D_data",
           "value": 13332
          },
          {
           "sample_id": 0,
           "timepoint": 46,
           "trajectory": "D_data",
           "value": 13987
          },
          {
           "sample_id": 0,
           "timepoint": 47,
           "trajectory": "D_data",
           "value": 14371
          },
          {
           "sample_id": 0,
           "timepoint": 48,
           "trajectory": "D_data",
           "value": 14780
          },
          {
           "sample_id": 0,
           "timepoint": 49,
           "trajectory": "D_data",
           "value": 15225
          },
          {
           "sample_id": 0,
           "timepoint": 50,
           "trajectory": "D_data",
           "value": 16116
          },
          {
           "sample_id": 0,
           "timepoint": 51,
           "trajectory": "D_data",
           "value": 16639
          },
          {
           "sample_id": 0,
           "timepoint": 52,
           "trajectory": "D_data",
           "value": 17091
          },
          {
           "sample_id": 0,
           "timepoint": 53,
           "trajectory": "D_data",
           "value": 17647
          },
          {
           "sample_id": 0,
           "timepoint": 54,
           "trajectory": "D_data",
           "value": 18132
          },
          {
           "sample_id": 0,
           "timepoint": 55,
           "trajectory": "D_data",
           "value": 18523
          },
          {
           "sample_id": 0,
           "timepoint": 56,
           "trajectory": "D_data",
           "value": 18882
          },
          {
           "sample_id": 0,
           "timepoint": 57,
           "trajectory": "D_data",
           "value": 19292
          },
          {
           "sample_id": 0,
           "timepoint": 58,
           "trajectory": "D_data",
           "value": 19602
          },
          {
           "sample_id": 0,
           "timepoint": 59,
           "trajectory": "D_data",
           "value": 20000
          },
          {
           "sample_id": 0,
           "timepoint": 60,
           "trajectory": "D_data",
           "value": 20334
          },
          {
           "sample_id": 0,
           "timepoint": 61,
           "trajectory": "D_data",
           "value": 20662
          }
         ]
        },
        {
         "name": "markers",
         "values": []
        },
        {
         "name": "selected",
         "on": [
          {
           "remove": true,
           "trigger": "clear"
          },
          {
           "remove": true,
           "trigger": "!shift"
          },
          {
           "insert": "clicked",
           "trigger": "!shift && clicked"
          },
          {
           "toggle": "clicked",
           "trigger": "shift && clicked"
          }
         ]
        }
       ],
       "height": 300,
       "legends": [
        {
         "encode": {
          "labels": {
           "interactive": true,
           "name": "legendLabel",
           "update": {
            "opacity": [
             {
              "test": "!length(data('selected')) || indata('selected', 'value', datum.value)",
              "value": 1
             },
             {
              "value": 0.25
             }
            ]
           }
          },
          "symbols": {
           "interactive": true,
           "name": "legendSymbol",
           "update": {
            "fill": {
             "value": "transparent"
            },
            "opacity": [
             {
              "test": "!length(data('selected')) || indata('selected', 'value', datum.value)",
              "value": 0.7
             },
             {
              "value": 0.15
             }
            ],
            "size": {
             "value": 64
            },
            "strokeWidth": {
             "value": 2
            }
           }
          }
         },
         "name": "color_legend",
         "stroke": "color"
        }
       ],
       "marks": [
        {
         "from": {
          "facet": {
           "data": "points",
           "groupby": "trajectory",
           "name": "points_split"
          }
         },
         "marks": [
          {
           "encode": {
            "hover": {
             "fillOpacity": {
              "value": 0.9
             }
            },
            "update": {
             "fill": {
              "field": "trajectory",
              "scale": "color"
             },
             "fillOpacity": [
              {
               "test": "!length(data('selected')) || indata('selected', 'value', datum.trajectory)",
               "value": 0.5
              },
              {
               "value": 0.15
              }
             ],
             "size": {
              "value": 10
             },
             "stroke": {
              "field": "trajectory",
              "scale": "color"
             },
             "strokeOpacity": [
              {
               "test": "!length(data('selected')) || indata('selected', 'value', datum.trajectory)",
               "value": 0.75
              },
              {
               "value": 0.15
              }
             ],
             "strokeWidth": {
              "value": 2
             },
             "tooltip": {
              "field": "value"
             },
             "x": {
              "field": "timepoint",
              "scale": "xscale"
             },
             "y": {
              "field": "value",
              "scale": "yscale"
             }
            }
           },
           "from": {
            "data": "points_split"
           },
           "name": "_points_symbol",
           "type": "symbol",
           "zindex": 3
          },
          {
           "encode": {
            "hover": {
             "fillOpacity": {
              "value": 0.9
             }
            },
            "update": {
             "interpolate": {
              "value": "linear"
             },
             "stroke": {
              "field": "trajectory",
              "scale": "color"
             },
             "strokeOpacity": [
              {
               "test": "!length(data('selected')) || indata('selected', 'value', datum.trajectory)",
               "value": 0.3
              },
              {
               "value": 0.1
              }
             ],
             "strokeWidth": {
              "value": 2
             },
             "x": {
              "field": "timepoint",
              "scale": "xscale"
             },
             "y": {
              "field": "value",
              "scale": "yscale"
             }
            }
           },
           "from": {
            "data": "points_split"
           },
           "name": "_points_line",
           "type": "line",
           "zindex": 3
          }
         ],
         "name": "_points",
         "type": "group",
         "zindex": 3
        },
        {
         "from": {
          "facet": {
           "data": "traces",
           "groupby": "trajectory",
           "name": "traces_split"
          }
         },
         "marks": [
          {
           "encode": {
            "hover": {
             "fillOpacity": {
              "value": 0.9
             }
            },
            "update": {
             "interpolate": {
              "value": "linear"
             },
             "stroke": {
              "field": "trajectory",
              "scale": "color"
             },
             "strokeOpacity": [
              {
               "test": "!length(data('selected')) || indata('selected', 'value', datum.trajectory)",
               "value": 0.75
              },
              {
               "value": 0.15
              }
             ],
             "strokeWidth": {
              "value": 2
             },
             "x": {
              "field": "timepoint",
              "scale": "xscale"
             },
             "y": {
              "field": "value",
              "scale": "yscale"
             }
            }
           },
           "from": {
            "data": "traces_split"
           },
           "name": "_traces_lines",
           "type": "line"
          }
         ],
         "name": "_traces",
         "type": "group",
         "zindex": 2
        },
        {
         "from": {
          "facet": {
           "data": "distributions",
           "groupby": "trajectory",
           "name": "trajectory_split"
          }
         },
         "marks": [
          {
           "encode": {
            "hover": {
             "fillOpacity": {
              "value": 0.9
             }
            },
            "update": {
             "fill": {
              "field": "trajectory",
              "scale": "color"
             },
             "fillOpacity": [
              {
               "test": "!length(data('selected')) || indata('selected', 'value', datum.trajectory)",
               "value": 0.5
              },
              {
               "value": 0.15
              }
             ],
             "interpolate": {
              "value": "linear"
             },
             "stroke": {
              "field": "trajectory",
              "scale": "color"
             },
             "strokeOpacity": [
              {
               "test": "!length(data('selected')) || indata('selected', 'value', datum.trajectory)",
               "value": 0.75
              },
              {
               "value": 0.15
              }
             ],
             "strokeWidth": {
              "value": 2
             },
             "x": {
              "field": "timepoint",
              "scale": "xscale"
             },
             "y": {
              "field": "upper",
              "scale": "yscale"
             },
             "y2": {
              "field": "lower",
              "scale": "yscale"
             }
            }
           },
           "from": {
            "data": "trajectory_split"
           },
           "type": "area"
          }
         ],
         "name": "_distributions",
         "type": "group",
         "zindex": 1
        },
        {
         "marks": [
          {
           "encode": {
            "enter": {
             "stroke": {
              "value": "lightgray"
             }
            },
            "update": {
             "opacity": {
              "value": 1
             },
             "x": {
              "field": "timepoint",
              "scale": "xscale"
             },
             "y": {
              "signal": "height"
             },
             "y2": {
              "value": 0
             }
            }
           },
           "from": {
            "data": "markers"
           },
           "name": "_marker text",
           "type": "rule"
          },
          {
           "encode": {
            "enter": {
             "fontSize": {
              "value": 8
             },
             "text": {
              "field": "datum.label"
             },
             "y": {
              "value": 0
             }
            }
           },
           "from": {
            "data": "_marker text"
           },
           "name": "_marker flags",
           "transform": [
            {
             "as": [
              "x",
              "_y",
              "opacity",
              "align",
              "baseline"
             ],
             "lineAnchor": "start",
             "offset": [
              1
             ],
             "size": {
              "signal": "[width, height]"
             },
             "type": "label"
            }
           ],
           "type": "text"
          }
         ],
         "name": "_markers",
         "type": "group"
        }
       ],
       "padding": 5,
       "scales": [
        {
         "domain": {
          "fields": [
           {
            "data": "distributions",
            "field": "timepoint"
           },
           {
            "data": "traces",
            "field": "timepoint"
           },
           {
            "data": "points",
            "field": "timepoint"
           },
           {
            "data": "markers",
            "field": "timepoint"
           }
          ]
         },
         "name": "xscale",
         "range": "width",
         "type": "linear",
         "zero": false
        },
        {
         "domain": {
          "fields": [
           {
            "data": "distributions",
            "field": "lower"
           },
           {
            "data": "distributions",
            "field": "upper"
           },
           {
            "data": "traces",
            "field": "value"
           },
           {
            "data": "points",
            "field": "value"
           }
          ]
         },
         "name": "yscale",
         "nice": true,
         "range": "height",
         "type": "linear",
         "zero": true
        },
        {
         "domain": {
          "fields": [
           {
            "data": "distributions",
            "field": "trajectory"
           },
           {
            "data": "traces",
            "field": "trajectory"
           },
           {
            "data": "points",
            "field": "trajectory"
           }
          ]
         },
         "name": "color",
         "range": "category",
         "type": "ordinal"
        }
       ],
       "signals": [
        {
         "name": "clear",
         "on": [
          {
           "events": "mouseup[!event.item]",
           "force": true,
           "update": "true"
          }
         ],
         "value": true
        },
        {
         "name": "shift",
         "on": [
          {
           "events": "@legendSymbol:click, @legendLabel:click",
           "force": true,
           "update": "event.shiftKey"
          }
         ],
         "value": false
        },
        {
         "name": "clicked",
         "on": [
          {
           "events": "@legendSymbol:click, @legendLabel:click",
           "force": true,
           "update": "{value: datum.value}"
          }
         ],
         "value": null
        }
       ],
       "width": 500
      }
     },
     "metadata": {},
     "output_type": "display_data"
    }
   ],
   "source": [
    "num_samples = 100\n",
    "models = [model1]\n",
    "data_location = DATA_PATH + \"NYS_T1_forecast1.csv\"\n",
    "weights = [1]\n",
    "solution_mappings = [{\"I\": \"I\", \"E\": \"E\", \"H\": \"H\", \"D\": \"D\"}]\n",
    "\n",
    "# Run the calibration and sampling\n",
    "result1A1 = load_and_calibrate_and_sample_ensemble_model(\n",
    "    models,\n",
    "    data_location,\n",
    "    weights,\n",
    "    solution_mappings,\n",
    "    num_samples,\n",
    "    timepoints1,\n",
    "    verbose=True,\n",
    "    total_population=19340000,\n",
    "    num_iterations=N_ITERATIONS,\n",
    "    time_unit=\"days\",\n",
    "    visual_options={\"title\": \"Calibrated Ensemble\", \"keep\":\".*_sol\"}\n",
    ")\n",
    "\n",
    "# Plot results\n",
    "schema = plots.trajectories(pd.DataFrame(result1A1[\"data\"]), keep=\".*_sol\",\n",
    "                            points=all_data1.reset_index(drop=True).rename(columns={\"I\":\"I_data\", \"H\":\"H_data\", \"D\":\"D_data\"}),\n",
    "                           )\n",
    "schema = plots.pad(schema, 5)\n",
    "plots.ipy_display(schema)"
   ]
  },
  {
   "cell_type": "markdown",
   "id": "285d18bd-95e2-4465-9825-7c9202093c56",
   "metadata": {},
   "source": [
    "### Post-process and save results"
   ]
  },
  {
   "cell_type": "code",
   "execution_count": 9,
   "id": "fc23b2e1-9122-4342-bd95-2397c6057f5f",
   "metadata": {},
   "outputs": [],
   "source": [
    "# Define functions to get incident cases, hospitalizations, and deaths\n",
    "def get_incident_cases(delta, exposed): # delta * Exposed\n",
    "    return delta * exposed\n",
    "\n",
    "def get_incident_hosp(eta, gamma, infectious): # eta * gamma * Infectious\n",
    "    return eta * gamma * infectious\n",
    "\n",
    "def get_incident_deaths(mu, los, hospitalized): # (mu/los) * Hospitalized\n",
    "    return (mu/los) * hospitalized\n",
    "\n",
    "results_df = result1A1[\"data\"]\n",
    "results_df[\"Incident_Cases_sol\"] = results_df.apply(lambda row: get_incident_cases(row['model_0/delta_param'], row['E_sol']), axis=1)\n",
    "results_df[\"Incident_Hosp_sol\"] = results_df.apply(lambda row: get_incident_hosp(row['model_0/eta_param'], row['model_0/gamma_param'], row['I_sol']), axis=1)\n",
    "results_df[\"Incident_Deaths_sol\"] = results_df.apply(lambda row: get_incident_deaths(row['model_0/mu_param'], row['model_0/los_param'], row['H_sol']), axis=1)\n",
    "\n",
    "# Save processed results\n",
    "results_df.to_csv(RESULTS_FILENAME, index=False)"
   ]
  },
  {
   "cell_type": "markdown",
   "id": "340be69d-5ec8-4e6c-a6f1-231befa383db",
   "metadata": {},
   "source": [
    "### Post-process and save quantiles"
   ]
  },
  {
   "cell_type": "code",
   "execution_count": 10,
   "id": "7a998e8b-6b20-48f7-9e36-2cda2a66fb23",
   "metadata": {},
   "outputs": [],
   "source": [
    "def reshape_multiindex_df_to_tensor(df: pd.DataFrame, indices=[ 'sample_id', 'timepoint_id']) -> dict[str, torch.tensor]:\n",
    "    \"\"\"Reshape a multiindex dataframe to a dictionary of tensors.\"\"\"\n",
    "    result = {}\n",
    "    if not isinstance(df.index, pd.MultiIndex):\n",
    "        df = df.set_index(indices)\n",
    "    for col in df.columns:\n",
    "        if '_sol' in col:\n",
    "            values = df[col].values\n",
    "            shape = [len(df.index.get_level_values(level).unique()) for level in df.index.names]\n",
    "            tensor_values = torch.tensor(values).reshape(*shape)\n",
    "            result[col] = tensor_values\n",
    "    return result\n",
    "\n",
    "# def outputs_to_samples(df: pd.DataFrame) -> dict[str,torch.tensor]:\n",
    "#     return {\n",
    "#         column.replace('_param',''): torch.from_numpy(df[column].values)\n",
    "#         for column in df.columns\n",
    "#     }\n",
    "# results_dict = outputs_to_samples(results_df)\n",
    "# results_dict\n",
    "\n",
    "\n",
    "results_dict = reshape_multiindex_df_to_tensor(results_df)\n",
    "quantiles_df = make_quantiles({'states': results_dict},timepoints1)"
   ]
  },
  {
   "cell_type": "code",
   "execution_count": 11,
   "id": "2975b97c-bad6-421d-9f13-c50c6bdec82d",
   "metadata": {},
   "outputs": [
    {
     "data": {
      "text/html": [
       "<div>\n",
       "<style scoped>\n",
       "    .dataframe tbody tr th:only-of-type {\n",
       "        vertical-align: middle;\n",
       "    }\n",
       "\n",
       "    .dataframe tbody tr th {\n",
       "        vertical-align: top;\n",
       "    }\n",
       "\n",
       "    .dataframe thead th {\n",
       "        text-align: right;\n",
       "    }\n",
       "</style>\n",
       "<table border=\"1\" class=\"dataframe\">\n",
       "  <thead>\n",
       "    <tr style=\"text-align: right;\">\n",
       "      <th></th>\n",
       "      <th>timepoint_id</th>\n",
       "      <th>number_days</th>\n",
       "      <th>inc_cum</th>\n",
       "      <th>output</th>\n",
       "      <th>type</th>\n",
       "      <th>quantile</th>\n",
       "      <th>value</th>\n",
       "      <th>Forecast_Backcast</th>\n",
       "    </tr>\n",
       "  </thead>\n",
       "  <tbody>\n",
       "    <tr>\n",
       "      <th>42159</th>\n",
       "      <td>0</td>\n",
       "      <td>0.0</td>\n",
       "      <td>inc</td>\n",
       "      <td>D</td>\n",
       "      <td>quantile</td>\n",
       "      <td>0.010</td>\n",
       "      <td>7.311332e-22</td>\n",
       "      <td>Backcast</td>\n",
       "    </tr>\n",
       "    <tr>\n",
       "      <th>42160</th>\n",
       "      <td>0</td>\n",
       "      <td>0.0</td>\n",
       "      <td>inc</td>\n",
       "      <td>D</td>\n",
       "      <td>quantile</td>\n",
       "      <td>0.025</td>\n",
       "      <td>7.645939e-22</td>\n",
       "      <td>Backcast</td>\n",
       "    </tr>\n",
       "    <tr>\n",
       "      <th>42161</th>\n",
       "      <td>0</td>\n",
       "      <td>0.0</td>\n",
       "      <td>inc</td>\n",
       "      <td>D</td>\n",
       "      <td>quantile</td>\n",
       "      <td>0.050</td>\n",
       "      <td>7.992415e-22</td>\n",
       "      <td>Backcast</td>\n",
       "    </tr>\n",
       "    <tr>\n",
       "      <th>42162</th>\n",
       "      <td>0</td>\n",
       "      <td>0.0</td>\n",
       "      <td>inc</td>\n",
       "      <td>D</td>\n",
       "      <td>quantile</td>\n",
       "      <td>0.100</td>\n",
       "      <td>8.370486e-22</td>\n",
       "      <td>Backcast</td>\n",
       "    </tr>\n",
       "    <tr>\n",
       "      <th>42163</th>\n",
       "      <td>0</td>\n",
       "      <td>0.0</td>\n",
       "      <td>inc</td>\n",
       "      <td>D</td>\n",
       "      <td>quantile</td>\n",
       "      <td>0.150</td>\n",
       "      <td>8.934827e-22</td>\n",
       "      <td>Backcast</td>\n",
       "    </tr>\n",
       "    <tr>\n",
       "      <th>...</th>\n",
       "      <td>...</td>\n",
       "      <td>...</td>\n",
       "      <td>...</td>\n",
       "      <td>...</td>\n",
       "      <td>...</td>\n",
       "      <td>...</td>\n",
       "      <td>...</td>\n",
       "      <td>...</td>\n",
       "    </tr>\n",
       "    <tr>\n",
       "      <th>98366</th>\n",
       "      <td>610</td>\n",
       "      <td>61.0</td>\n",
       "      <td>inc</td>\n",
       "      <td>Incident_Deaths</td>\n",
       "      <td>quantile</td>\n",
       "      <td>0.850</td>\n",
       "      <td>1.037675e+02</td>\n",
       "      <td>Forecast</td>\n",
       "    </tr>\n",
       "    <tr>\n",
       "      <th>98367</th>\n",
       "      <td>610</td>\n",
       "      <td>61.0</td>\n",
       "      <td>inc</td>\n",
       "      <td>Incident_Deaths</td>\n",
       "      <td>quantile</td>\n",
       "      <td>0.900</td>\n",
       "      <td>1.229437e+02</td>\n",
       "      <td>Forecast</td>\n",
       "    </tr>\n",
       "    <tr>\n",
       "      <th>98368</th>\n",
       "      <td>610</td>\n",
       "      <td>61.0</td>\n",
       "      <td>inc</td>\n",
       "      <td>Incident_Deaths</td>\n",
       "      <td>quantile</td>\n",
       "      <td>0.950</td>\n",
       "      <td>1.396585e+02</td>\n",
       "      <td>Forecast</td>\n",
       "    </tr>\n",
       "    <tr>\n",
       "      <th>98369</th>\n",
       "      <td>610</td>\n",
       "      <td>61.0</td>\n",
       "      <td>inc</td>\n",
       "      <td>Incident_Deaths</td>\n",
       "      <td>quantile</td>\n",
       "      <td>0.975</td>\n",
       "      <td>1.605700e+02</td>\n",
       "      <td>Forecast</td>\n",
       "    </tr>\n",
       "    <tr>\n",
       "      <th>98370</th>\n",
       "      <td>610</td>\n",
       "      <td>61.0</td>\n",
       "      <td>inc</td>\n",
       "      <td>Incident_Deaths</td>\n",
       "      <td>quantile</td>\n",
       "      <td>0.990</td>\n",
       "      <td>1.712917e+02</td>\n",
       "      <td>Forecast</td>\n",
       "    </tr>\n",
       "  </tbody>\n",
       "</table>\n",
       "<p>5704 rows × 8 columns</p>\n",
       "</div>"
      ],
      "text/plain": [
       "       timepoint_id  number_days inc_cum           output      type  quantile   \n",
       "42159             0          0.0     inc                D  quantile     0.010  \\\n",
       "42160             0          0.0     inc                D  quantile     0.025   \n",
       "42161             0          0.0     inc                D  quantile     0.050   \n",
       "42162             0          0.0     inc                D  quantile     0.100   \n",
       "42163             0          0.0     inc                D  quantile     0.150   \n",
       "...             ...          ...     ...              ...       ...       ...   \n",
       "98366           610         61.0     inc  Incident_Deaths  quantile     0.850   \n",
       "98367           610         61.0     inc  Incident_Deaths  quantile     0.900   \n",
       "98368           610         61.0     inc  Incident_Deaths  quantile     0.950   \n",
       "98369           610         61.0     inc  Incident_Deaths  quantile     0.975   \n",
       "98370           610         61.0     inc  Incident_Deaths  quantile     0.990   \n",
       "\n",
       "              value Forecast_Backcast  \n",
       "42159  7.311332e-22          Backcast  \n",
       "42160  7.645939e-22          Backcast  \n",
       "42161  7.992415e-22          Backcast  \n",
       "42162  8.370486e-22          Backcast  \n",
       "42163  8.934827e-22          Backcast  \n",
       "...             ...               ...  \n",
       "98366  1.037675e+02          Forecast  \n",
       "98367  1.229437e+02          Forecast  \n",
       "98368  1.396585e+02          Forecast  \n",
       "98369  1.605700e+02          Forecast  \n",
       "98370  1.712917e+02          Forecast  \n",
       "\n",
       "[5704 rows x 8 columns]"
      ]
     },
     "execution_count": 11,
     "metadata": {},
     "output_type": "execute_result"
    }
   ],
   "source": [
    "quantiles_df.rename(columns={'number_(unknown)': 'number_days'}, inplace=True)\n",
    "quantiles_df.loc[quantiles_df['number_days'] < len(train_data1), 'Forecast_Backcast'] = \"Backcast\"\n",
    "quantiles_df = quantiles_df[quantiles_df['number_days'] % 1 == 0]\n",
    "quantiles_df = quantiles_df[(quantiles_df['output'] == \"Incident_Cases\") | (quantiles_df['output'] == \"Incident_Hosp\") | (quantiles_df['output'] == \"Incident_Deaths\") | (quantiles_df['output'] == \"D\")]\n",
    "quantiles_df"
   ]
  },
  {
   "cell_type": "code",
   "execution_count": 12,
   "id": "69afa53a-8c98-45c4-bde8-f4fb39e44bdb",
   "metadata": {},
   "outputs": [],
   "source": [
    "quantiles_df.to_csv(QUANTILES_FILENAME, index=False)\n",
    "\n",
    "q_ensemble_data = cdc_reformatcsv(filename=QUANTILES_FILENAME, \n",
    "                                  solution_string_mapping={\"D\": \"cum death\", \"Incident_Cases\": \"inc case\", \"Incident_Hosp\": \"inc hosp\", \"Incident_Deaths\": \"inc death\"}, \n",
    "                                  forecast_start_date=\"2020-04-02\",\n",
    "                                  location=\"New York State\",\n",
    "                                  drop_column_names=[\"timepoint_id\", \"number_days\", \"inc_cum\", \"output\", \"Forecast_Backcast\"])\n",
    "q_ensemble_data.to_csv(QUANTILES_FILENAME)"
   ]
  },
  {
   "cell_type": "markdown",
   "id": "4ac926b7-5a5d-45a5-aed4-851cc7bb45c6",
   "metadata": {},
   "source": [
    "### MODEL 2 - Age-Structured SEIRHD with NPI of Type I, Model Version 2"
   ]
  },
  {
   "cell_type": "code",
   "execution_count": null,
   "id": "6fa25da4-a72d-4789-969a-cfffe3c26ec1",
   "metadata": {},
   "outputs": [],
   "source": [
    "num_samples = 100\n",
    "models = [model2]\n",
    "data_location = DATA_PATH + \"NYS_T1_forecast1.csv\"\n",
    "weights = [1]\n",
    "solution_mappings = [{\"I\": \"infected\", \"H\": \"hospitalized\", \"D\": \"dead\"}]\n",
    "\n",
    "# Run the calibration and sampling\n",
    "result1A2 = load_and_calibrate_and_sample_ensemble_model(\n",
    "    models,\n",
    "    data_location,\n",
    "    weights,\n",
    "    solution_mappings,\n",
    "    num_samples,\n",
    "    timepoints1,\n",
    "    verbose=True,\n",
    "    total_population=19340000,\n",
    "    num_iterations=N_ITERATIONS,\n",
    "    time_unit=\"days\",\n",
    "    visual_options={\"title\": \"Calibrated Ensemble\", \"keep\":\".*_sol\"}\n",
    ")\n",
    "\n",
    "# # Save results\n",
    "# result1A2[\"data\"].to_csv(\"../../notebook/ensemble_eval_sa/ensemble_results/partI_ensemble_of_one_results.csv\", index=False)\n",
    "# result1A2[\"quantiles\"].to_csv(\"../../notebook/ensemble_eval_sa/ensemble_results/partI_ensemble_of_one_quantiles.csv\", index=False)\n",
    "\n",
    "# Plot results\n",
    "schema = plots.trajectories(pd.DataFrame(result1A2[\"data\"]), keep=\".*_sol\",\n",
    "                            points=all_data1.reset_index(drop=True).rename(columns={\"I\":\"I_data\", \"H\":\"H_data\", \"D\":\"D_data\"}),\n",
    "                           )\n",
    "schema = plots.pad(schema, 5)\n",
    "plots.ipy_display(schema)"
   ]
  },
  {
   "cell_type": "markdown",
   "id": "723edfa9-2755-4cf0-93e6-4cb8ca435ed5",
   "metadata": {},
   "source": [
    "### Post-process results"
   ]
  },
  {
   "cell_type": "code",
   "execution_count": null,
   "id": "1e17aa35-455c-448d-b256-3a198fd72aa8",
   "metadata": {},
   "outputs": [],
   "source": [
    "result1A2[\"data\"]"
   ]
  },
  {
   "cell_type": "markdown",
   "id": "78b13909-8cab-4fe7-8b04-5e6d67125412",
   "metadata": {},
   "source": [
    "### MODEL 3 - Age-Structured SEIRHD with NPI of Type I, Model Version 3"
   ]
  },
  {
   "cell_type": "code",
   "execution_count": null,
   "id": "654bb2a6-f7dd-45bb-9ebe-183ac72bd67e",
   "metadata": {},
   "outputs": [],
   "source": [
    "num_samples = 100\n",
    "models = [model3]\n",
    "data_location = DATA_PATH + \"NYS_T1_forecast1.csv\"\n",
    "weights = [1]\n",
    "solution_mappings = [{\"I\": \"infected\", \"H\": \"hospitalized\", \"D\": \"dead\"}]\n",
    "\n",
    "# Run the calibration and sampling\n",
    "result1A3 = load_and_calibrate_and_sample_ensemble_model(\n",
    "    models,\n",
    "    data_location,\n",
    "    weights,\n",
    "    solution_mappings,\n",
    "    num_samples,\n",
    "    timepoints1,\n",
    "    verbose=True,\n",
    "    total_population=19340000,\n",
    "    num_iterations=N_ITERATIONS,\n",
    "    time_unit=\"days\",\n",
    "    visual_options={\"title\": \"Calibrated Ensemble\", \"keep\":\".*_sol\"}\n",
    ")\n",
    "\n",
    "# # Save results\n",
    "# result1A3[\"data\"].to_csv(\"../../notebook/ensemble_eval_sa/ensemble_results/partI_ensemble_of_one_results.csv\", index=False)\n",
    "# result1A3[\"quantiles\"].to_csv(\"../../notebook/ensemble_eval_sa/ensemble_results/partI_ensemble_of_one_quantiles.csv\", index=False)\n",
    "\n",
    "# Plot results\n",
    "schema = plots.trajectories(pd.DataFrame(result1A3[\"data\"]), keep=\".*_sol\",\n",
    "                            points=all_data1.reset_index(drop=True).rename(columns={\"I\":\"I_data\", \"H\":\"H_data\", \"D\":\"D_data\"}),\n",
    "                           )\n",
    "schema = plots.pad(schema, 5)\n",
    "plots.ipy_display(schema)"
   ]
  },
  {
   "cell_type": "markdown",
   "id": "2677099a-e0d8-4d19-9a65-217451f59b48",
   "metadata": {},
   "source": [
    "### Post-process and save results"
   ]
  },
  {
   "cell_type": "code",
   "execution_count": null,
   "id": "6fe59d66-975f-435b-959b-2efa53f85d19",
   "metadata": {},
   "outputs": [],
   "source": [
    "result1A3[\"data\"]"
   ]
  },
  {
   "cell_type": "markdown",
   "id": "2ded2349-d56b-4fe5-a685-06b37cc78831",
   "metadata": {},
   "source": [
    "## (B) Calibrate and sample an ensemble of multiple models"
   ]
  },
  {
   "cell_type": "code",
   "execution_count": null,
   "id": "0481d2fb-da12-4cdb-a039-904d16a93361",
   "metadata": {},
   "outputs": [],
   "source": [
    "RESULTS_FILENAME = RESULTS_PATH + \"T1_ensemble_of3_results_Apr042020.csv\"\n",
    "QUANTILES_FILENAME = RESULTS_PATH + \"T1_ensemble_of3_quantiles_Apr042020.csv\"\n",
    "N_ITERATIONS = 400"
   ]
  },
  {
   "cell_type": "code",
   "execution_count": null,
   "id": "5220df5c-61a0-47ad-ac94-fc543e8cb523",
   "metadata": {},
   "outputs": [],
   "source": [
    "num_samples = 100\n",
    "models = [model1, model2, model3]\n",
    "data_location = DATA_PATH + \"NYS_T1_forecast1.csv\"\n",
    "weights = [1/len(models) for i in models]\n",
    "solution_mappings = [{\"I\": \"I\", \"H\": \"H\", \"D\": \"D\"},\n",
    "                     {\"I\": \"infected\", \"H\": \"hospitalized\", \"D\": \"dead\"}, \n",
    "                     {\"I\": \"infected\", \"H\": \"hospitalized\", \"D\": \"dead\"}\n",
    "                     ]\n",
    "\n",
    "# Run the calibration and sampling\n",
    "result1B1 = load_and_calibrate_and_sample_ensemble_model(\n",
    "    models,\n",
    "    data_location,\n",
    "    weights,\n",
    "    solution_mappings,\n",
    "    num_samples,\n",
    "    timepoints1,\n",
    "    verbose=True,\n",
    "    total_population=19340000,\n",
    "    num_iterations=N_ITERATIONS,\n",
    "    time_unit=\"days\",\n",
    "    visual_options={\"title\": \"Calibrated Ensemble\", \"keep\":\".*_sol\"}\n",
    ")\n",
    "\n",
    "# Save results\n",
    "# result1B1[\"data\"].to_csv(\"../../notebook/ensemble_eval_sa/ensemble_results/partI_ensemble_of_many_results.csv\", index=False)\n",
    "# result1B1[\"quantiles\"].to_csv(\"../../notebook/ensemble_eval_sa/ensemble_results/partI_ensemble_of_many_quantiles.csv\", index=False)\n",
    "\n",
    "# q_ensemble_data = cdc_reformatcsv(filename=\"../../notebook/ensemble_eval_sa/ensemble_results/partI_ensemble_of_many_quantiles.csv\", \n",
    "#                                   solution_string_mapping={\"I\": \"cases\", \"D\": \"deaths\"}, \n",
    "#                                   forecast_start_date=\"2020-04-02\",\n",
    "#                                   location=\"New York State\",\n",
    "#                                   drop_column_names=[\"timepoint_id\", \"number_days\", \"inc_cum\", \"output\", \"Forecast_Backcast\"])\n",
    "# q_ensemble_data.to_csv(\"../../notebook/ensemble_eval_sa/ensemble_results/partI_ensemble_of_many_forecast_quantiles_Apr032020.csv\")\n",
    "\n",
    "# Plot results\n",
    "schema = plots.trajectories(pd.DataFrame(result1B1[\"data\"]), keep=\".*_sol\",\n",
    "                            points=all_data1.reset_index(drop=True).rename(columns={\"I\":\"I_data\", \"H\":\"H_data\", \"D\":\"D_data\"}),\n",
    "                           )\n",
    "schema = plots.pad(schema, 5)\n",
    "plots.ipy_display(schema)"
   ]
  },
  {
   "cell_type": "code",
   "execution_count": null,
   "id": "765e6d37-d87b-48b6-877b-067d2995179e",
   "metadata": {},
   "outputs": [],
   "source": [
    "num_samples = 100\n",
    "models = [model1, model3]\n",
    "data_location = DATA_PATH + \"NYS_T1_forecast1.csv\"\n",
    "weights = [1/len(models) for i in models]\n",
    "solution_mappings = [{\"I\": \"I\", \"H\": \"H\", \"D\": \"D\"},\n",
    "                     {\"I\": \"infected\", \"H\": \"hospitalized\", \"D\": \"dead\"}\n",
    "                     ]\n",
    "\n",
    "# Run the calibration and sampling\n",
    "result1B2 = load_and_calibrate_and_sample_ensemble_model(\n",
    "    models,\n",
    "    data_location,\n",
    "    weights,\n",
    "    solution_mappings,\n",
    "    num_samples,\n",
    "    timepoints1,\n",
    "    verbose=True,\n",
    "    total_population=19340000,\n",
    "    num_iterations=N_ITERATIONS,\n",
    "    time_unit=\"days\",\n",
    "    visual_options={\"title\": \"Calibrated Ensemble\", \"keep\":\".*_sol\"}\n",
    ")\n",
    "\n",
    "# Save results\n",
    "# result1B2[\"data\"].to_csv(\"../../notebook/ensemble_eval_sa/ensemble_results/partI_ensemble_of_two_results.csv\", index=False)\n",
    "# result1B2[\"quantiles\"].to_csv(\"../../notebook/ensemble_eval_sa/ensemble_results/partI_ensemble_of_two_quantiles.csv\", index=False)\n",
    "\n",
    "# Plot results\n",
    "schema = plots.trajectories(pd.DataFrame(result1B2[\"data\"]), keep=\".*_sol\",\n",
    "                            points=all_data1.reset_index(drop=True).rename(columns={\"I\":\"I_data\", \"H\":\"H_data\", \"D\":\"D_data\"}),\n",
    "                           )\n",
    "schema = plots.pad(schema, 5)\n",
    "plots.ipy_display(schema)"
   ]
  },
  {
   "cell_type": "code",
   "execution_count": null,
   "id": "b1200c83-faab-444d-8a13-c815867ad5ba",
   "metadata": {},
   "outputs": [],
   "source": [
    "num_samples = 100\n",
    "models = [model1, model2, model3]\n",
    "data_location = DATA_PATH + \"NYS_T1_forecast1.csv\"\n",
    "weights = [0.1, 0.4, 0.5] # [1/len(models) for i in models]\n",
    "solution_mappings = [{\"I\": \"I\", \"H\": \"H\", \"D\": \"D\"},\n",
    "                     {\"I\": \"infected\", \"H\": \"hospitalized\", \"D\": \"dead\"}, \n",
    "                     {\"I\": \"infected\", \"H\": \"hospitalized\", \"D\": \"dead\"}\n",
    "                     ]\n",
    "\n",
    "# Run the calibration and sampling\n",
    "result1B3 = load_and_calibrate_and_sample_ensemble_model(\n",
    "    models,\n",
    "    data_location,\n",
    "    weights,\n",
    "    solution_mappings,\n",
    "    num_samples,\n",
    "    timepoints1,\n",
    "    verbose=True,\n",
    "    total_population=19340000,\n",
    "    num_iterations=N_ITERATIONS,\n",
    "    time_unit=\"days\",\n",
    "    visual_options={\"title\": \"Calibrated Ensemble\", \"keep\":\".*_sol\"}\n",
    ")\n",
    "\n",
    "# Save results\n",
    "# result1B3[\"data\"].to_csv(\"../../notebook/ensemble_eval_sa/ensemble_results/partI_ensemble_of_many_results.csv\", index=False)\n",
    "# result1B3[\"quantiles\"].to_csv(\"../../notebook/ensemble_eval_sa/ensemble_results/partI_ensemble_of_many_quantiles.csv\", index=False)\n",
    "\n",
    "# Plot results\n",
    "schema = plots.trajectories(pd.DataFrame(result1B3[\"data\"]), keep=\".*_sol\",\n",
    "                            points=all_data1.reset_index(drop=True).rename(columns={\"I\":\"I_data\", \"H\":\"H_data\", \"D\":\"D_data\"}),\n",
    "                           )\n",
    "schema = plots.pad(schema, 5)\n",
    "plots.ipy_display(schema)"
   ]
  },
  {
   "cell_type": "code",
   "execution_count": null,
   "id": "87dc7805-b9df-4d36-9646-463530a5aca4",
   "metadata": {},
   "outputs": [],
   "source": [
    "num_samples = 100\n",
    "models = [model1, model2, model3]\n",
    "data_location = DATA_PATH + \"NYS_T1_forecast1.csv\"\n",
    "weights = [0.2, 0.3, 0.5] # [1/len(models) for i in models]\n",
    "solution_mappings = [{\"I\": \"I\", \"H\": \"H\", \"D\": \"D\"},\n",
    "                     {\"I\": \"infected\", \"H\": \"hospitalized\", \"D\": \"dead\"}, \n",
    "                     {\"I\": \"infected\", \"H\": \"hospitalized\", \"D\": \"dead\"}\n",
    "                     ]\n",
    "\n",
    "# Run the calibration and sampling\n",
    "result1B4 = load_and_calibrate_and_sample_ensemble_model(\n",
    "    models,\n",
    "    data_location,\n",
    "    weights,\n",
    "    solution_mappings,\n",
    "    num_samples,\n",
    "    timepoints1,\n",
    "    verbose=True,\n",
    "    total_population=19340000,\n",
    "    num_iterations=N_ITERATIONS,\n",
    "    time_unit=\"days\",\n",
    "    visual_options={\"title\": \"Calibrated Ensemble\", \"keep\":\".*_sol\"}\n",
    ")\n",
    "\n",
    "# Save results\n",
    "# result1B4[\"data\"].to_csv(\"../../notebook/ensemble_eval_sa/ensemble_results/partI_ensemble_of_many_results.csv\", index=False)\n",
    "# result1B4[\"quantiles\"].to_csv(\"../../notebook/ensemble_eval_sa/ensemble_results/partI_ensemble_of_many_quantiles.csv\", index=False)\n",
    "\n",
    "# Plot results\n",
    "schema = plots.trajectories(pd.DataFrame(result1B4[\"data\"]), keep=\".*_sol\",\n",
    "                            points=all_data1.reset_index(drop=True).rename(columns={\"I\":\"I_data\", \"H\":\"H_data\", \"D\":\"D_data\"}),\n",
    "                           )\n",
    "schema = plots.pad(schema, 5)\n",
    "plots.ipy_display(schema)"
   ]
  },
  {
   "cell_type": "code",
   "execution_count": null,
   "id": "adf3f44f-2491-4ed0-8c1e-19d60fe271f0",
   "metadata": {},
   "outputs": [],
   "source": []
  },
  {
   "cell_type": "markdown",
   "id": "6bb62a41-3d64-4e07-857d-cd79b1305452",
   "metadata": {},
   "source": [
    "# (2) Forecast 2: 04/10/2020 - 05/08/2020"
   ]
  },
  {
   "cell_type": "markdown",
   "id": "d4f2fbf0-ed66-4383-8808-3971a979d08e",
   "metadata": {},
   "source": [
    "## (A) Calibrate and sample an ensemble of one model"
   ]
  },
  {
   "cell_type": "code",
   "execution_count": null,
   "id": "58a1d7c7-a0d0-430f-9bd2-1069a46803a0",
   "metadata": {},
   "outputs": [],
   "source": [
    "num_samples = 100\n",
    "models = [model3]\n",
    "data_location = DATA_PATH + \"NYS_T1_forecast2.csv\"\n",
    "weights = [1]\n",
    "solution_mappings = [{\"I\": \"infected\", \"H\": \"hospitalized\", \"D\": \"dead\"}]\n",
    "\n",
    "# Run the calibration and sampling\n",
    "result2A = load_and_calibrate_and_sample_ensemble_model(\n",
    "    models,\n",
    "    data_location,\n",
    "    weights,\n",
    "    solution_mappings,\n",
    "    num_samples,\n",
    "    timepoints2,\n",
    "    verbose=True,\n",
    "    total_population=19340000,\n",
    "    num_iterations=N_ITERATIONS,\n",
    "    time_unit=\"days\",\n",
    "    visual_options={\"title\": \"Calibrated Ensemble\", \"keep\":\".*_sol\"}\n",
    ")\n",
    "\n",
    "# # Save results\n",
    "# result2A[\"data\"].to_csv(\"../../notebook/ensemble_eval_sa/ensemble_results/partI_ensemble_of_one_results.csv\", index=False)\n",
    "# result2A[\"quantiles\"].to_csv(\"../../notebook/ensemble_eval_sa/ensemble_results/partI_ensemble_of_one_quantiles.csv\", index=False)\n",
    "\n",
    "# Plot results\n",
    "schema = plots.trajectories(pd.DataFrame(result2A[\"data\"]), keep=\".*_sol\",\n",
    "                            points=all_data2.reset_index(drop=True).rename(columns={\"I\":\"I_data\", \"H\":\"H_data\", \"D\":\"D_data\"}),\n",
    "                           )\n",
    "schema = plots.pad(schema, 5)\n",
    "plots.ipy_display(schema)"
   ]
  },
  {
   "cell_type": "markdown",
   "id": "80c170c6-1698-45cb-b853-c293fcfce235",
   "metadata": {},
   "source": [
    "### Post-process and save results"
   ]
  },
  {
   "cell_type": "code",
   "execution_count": null,
   "id": "bcb71041-7d51-44f2-bfb6-9fc0f99eda2f",
   "metadata": {},
   "outputs": [],
   "source": [
    "RESULTS_FILENAME = RESULTS_PATH + \"T1_ensemble_of1_results_Apr102020.csv\"\n",
    "QUANTILES_FILENAME = RESULTS_PATH + \"T1_ensemble_of1_quantiles_Apr102020.csv\""
   ]
  },
  {
   "cell_type": "markdown",
   "id": "1fd19ee0-d988-408e-8ba7-7636d4c42026",
   "metadata": {},
   "source": [
    "## (B) Calibrate and sample an ensemble of multiple models"
   ]
  },
  {
   "cell_type": "code",
   "execution_count": null,
   "id": "baf52bf7-b85c-4a0b-9c1d-2335f38614d0",
   "metadata": {},
   "outputs": [],
   "source": [
    "num_samples = 100\n",
    "models = [model1, model2, model3]\n",
    "data_location = DATA_PATH + \"NYS_T1_forecast2.csv\"\n",
    "weights = [0.2, 0.3, 0.5] # [1/len(models) for i in models]\n",
    "solution_mappings = [{\"I\": \"I\", \"H\": \"H\", \"D\": \"D\"},\n",
    "                     {\"I\": \"infected\", \"H\": \"hospitalized\", \"D\": \"dead\"}, \n",
    "                     {\"I\": \"infected\", \"H\": \"hospitalized\", \"D\": \"dead\"}\n",
    "                     ]\n",
    "\n",
    "# Run the calibration and sampling\n",
    "result2B = load_and_calibrate_and_sample_ensemble_model(\n",
    "    models,\n",
    "    data_location,\n",
    "    weights,\n",
    "    solution_mappings,\n",
    "    num_samples,\n",
    "    timepoints2,\n",
    "    verbose=True,\n",
    "    total_population=19340000,\n",
    "    num_iterations=N_ITERATIONS,\n",
    "    time_unit=\"days\",\n",
    "    visual_options={\"title\": \"Calibrated Ensemble\", \"keep\":\".*_sol\"}\n",
    ")\n",
    "\n",
    "# Save results\n",
    "# result2B[\"data\"].to_csv(\"../../notebook/ensemble_eval_sa/ensemble_results/partI_ensemble_of_many_results.csv\", index=False)\n",
    "# result2B[\"quantiles\"].to_csv(\"../../notebook/ensemble_eval_sa/ensemble_results/partI_ensemble_of_many_quantiles.csv\", index=False)\n",
    "\n",
    "# Plot results\n",
    "schema = plots.trajectories(pd.DataFrame(result2B[\"data\"]), keep=\".*_sol\",\n",
    "                            points=all_data2.reset_index(drop=True).rename(columns={\"I\":\"I_data\", \"H\":\"H_data\", \"D\":\"D_data\"}),\n",
    "                           )\n",
    "schema = plots.pad(schema, 5)\n",
    "plots.ipy_display(schema)"
   ]
  },
  {
   "cell_type": "markdown",
   "id": "d5c5ee05-256f-493d-a186-1701f7cc74f3",
   "metadata": {},
   "source": [
    "### Post-process and save results"
   ]
  },
  {
   "cell_type": "code",
   "execution_count": null,
   "id": "7d30cbc4-829c-4743-a72a-9930565dec6a",
   "metadata": {},
   "outputs": [],
   "source": [
    "RESULTS_FILENAME = RESULTS_PATH + \"T1_ensemble_of3_results_Apr102020.csv\"\n",
    "QUANTILES_FILENAME = RESULTS_PATH + \"T1_ensemble_of3_quantiles_Apr102020.csv\""
   ]
  },
  {
   "cell_type": "markdown",
   "id": "660c527e-b402-47b1-a778-947de9a1738d",
   "metadata": {},
   "source": [
    "# (3) Forecast 3: 04/17/2020 - 05/15/2020"
   ]
  },
  {
   "cell_type": "markdown",
   "id": "a256ef1f-bacc-4a73-817d-3d07e34e401a",
   "metadata": {},
   "source": [
    "## (A) Calibrate and sample an ensemble of one model"
   ]
  },
  {
   "cell_type": "code",
   "execution_count": null,
   "id": "1dd2f951-9f35-4173-a59f-28b979ad2f12",
   "metadata": {},
   "outputs": [],
   "source": [
    "num_samples = 100\n",
    "models = [model3]\n",
    "data_location = DATA_PATH + \"NYS_T1_forecast3.csv\"\n",
    "weights = [1]\n",
    "solution_mappings = [{\"I\": \"infected\", \"H\": \"hospitalized\", \"D\": \"dead\"}]\n",
    "\n",
    "# Run the calibration and sampling\n",
    "result3A = load_and_calibrate_and_sample_ensemble_model(\n",
    "    models,\n",
    "    data_location,\n",
    "    weights,\n",
    "    solution_mappings,\n",
    "    num_samples,\n",
    "    timepoints3,\n",
    "    verbose=True,\n",
    "    total_population=19340000,\n",
    "    num_iterations=N_ITERATIONS,\n",
    "    time_unit=\"days\",\n",
    "    visual_options={\"title\": \"Calibrated Ensemble\", \"keep\":\".*_sol\"}\n",
    ")\n",
    "\n",
    "# # Save results\n",
    "# result3A[\"data\"].to_csv(\"../../notebook/ensemble_eval_sa/ensemble_results/partI_ensemble_of_one_results.csv\", index=False)\n",
    "# result3A[\"quantiles\"].to_csv(\"../../notebook/ensemble_eval_sa/ensemble_results/partI_ensemble_of_one_quantiles.csv\", index=False)\n",
    "\n",
    "# Plot results\n",
    "schema = plots.trajectories(pd.DataFrame(result3A[\"data\"]), keep=\".*_sol\",\n",
    "                            points=all_data3.reset_index(drop=True).rename(columns={\"I\":\"I_data\", \"H\":\"H_data\", \"D\":\"D_data\"}),\n",
    "                           )\n",
    "schema = plots.pad(schema, 5)\n",
    "plots.ipy_display(schema)"
   ]
  },
  {
   "cell_type": "markdown",
   "id": "4bc26036-b736-4c35-86b3-e76523f9e55c",
   "metadata": {},
   "source": [
    "### Post-process and save results"
   ]
  },
  {
   "cell_type": "code",
   "execution_count": null,
   "id": "0fd099ad-016a-4868-adbd-f8d51343e466",
   "metadata": {},
   "outputs": [],
   "source": [
    "RESULTS_FILENAME = RESULTS_PATH + \"T1_ensemble_of1_results_Apr172020.csv\"\n",
    "QUANTILES_FILENAME = RESULTS_PATH + \"T1_ensemble_of1_quantiles_Apr172020.csv\""
   ]
  },
  {
   "cell_type": "markdown",
   "id": "b7147419-20a1-48ae-958c-ae965c4bc7cb",
   "metadata": {},
   "source": [
    "## (B) Calibrate and sample an ensemble of multiple models"
   ]
  },
  {
   "cell_type": "code",
   "execution_count": null,
   "id": "b056660d-96e9-4f9f-a18d-3cc366143ee6",
   "metadata": {},
   "outputs": [],
   "source": [
    "num_samples = 100\n",
    "models = [model1, model2, model3]\n",
    "data_location = DATA_PATH + \"NYS_T1_forecast3.csv\"\n",
    "weights = [0.2, 0.3, 0.5] # [1/len(models) for i in models]\n",
    "solution_mappings = [{\"I\": \"I\", \"H\": \"H\", \"D\": \"D\"},\n",
    "                     {\"I\": \"infected\", \"H\": \"hospitalized\", \"D\": \"dead\"}, \n",
    "                     {\"I\": \"infected\", \"H\": \"hospitalized\", \"D\": \"dead\"}\n",
    "                     ]\n",
    "\n",
    "# Run the calibration and sampling\n",
    "result3B = load_and_calibrate_and_sample_ensemble_model(\n",
    "    models,\n",
    "    data_location,\n",
    "    weights,\n",
    "    solution_mappings,\n",
    "    num_samples,\n",
    "    timepoints3,\n",
    "    verbose=True,\n",
    "    total_population=19340000,\n",
    "    num_iterations=N_ITERATIONS,\n",
    "    time_unit=\"days\",\n",
    "    visual_options={\"title\": \"Calibrated Ensemble\", \"keep\":\".*_sol\"}\n",
    ")\n",
    "\n",
    "# Save results\n",
    "# result3B[\"data\"].to_csv(\"../../notebook/ensemble_eval_sa/ensemble_results/partI_ensemble_of_many_results.csv\", index=False)\n",
    "# result3B[\"quantiles\"].to_csv(\"../../notebook/ensemble_eval_sa/ensemble_results/partI_ensemble_of_many_quantiles.csv\", index=False)\n",
    "\n",
    "# Plot results\n",
    "schema = plots.trajectories(pd.DataFrame(result3B[\"data\"]), keep=\".*_sol\",\n",
    "                            points=all_data3.reset_index(drop=True).rename(columns={\"I\":\"I_data\", \"H\":\"H_data\", \"D\":\"D_data\"}),\n",
    "                           )\n",
    "schema = plots.pad(schema, 5)\n",
    "plots.ipy_display(schema)"
   ]
  },
  {
   "cell_type": "markdown",
   "id": "ae3021be-b865-41ae-a7fd-d2aa17589e98",
   "metadata": {},
   "source": [
    "### Post-process and save results"
   ]
  },
  {
   "cell_type": "code",
   "execution_count": null,
   "id": "3c9d7941-2613-48ab-8f3e-c15cf6f3a90d",
   "metadata": {},
   "outputs": [],
   "source": [
    "RESULTS_FILENAME = RESULTS_PATH + \"T1_ensemble_of3_results_Apr172020.csv\"\n",
    "QUANTILES_FILENAME = RESULTS_PATH + \"T1_ensemble_of3_quantiles_Apr172020.csv\""
   ]
  },
  {
   "cell_type": "markdown",
   "id": "c8b29e7f-2055-41c2-ae45-ca80c73e6abf",
   "metadata": {},
   "source": [
    "# (4) Forecast 4: 04/24/2020 - 05/22/2020"
   ]
  },
  {
   "cell_type": "markdown",
   "id": "bb248298-0c2a-44d2-aac7-4f5254710626",
   "metadata": {},
   "source": [
    "## (A) Calibrate and sample an ensemble of one model"
   ]
  },
  {
   "cell_type": "code",
   "execution_count": null,
   "id": "42a31d84-5596-47ed-bf7b-46c82ec255a9",
   "metadata": {},
   "outputs": [],
   "source": [
    "num_samples = 100\n",
    "models = [model3]\n",
    "data_location = DATA_PATH + \"NYS_T1_forecast4.csv\"\n",
    "weights = [1]\n",
    "solution_mappings = [{\"I\": \"infected\", \"H\": \"hospitalized\", \"D\": \"dead\"}]\n",
    "\n",
    "# Run the calibration and sampling\n",
    "result4A = load_and_calibrate_and_sample_ensemble_model(\n",
    "    models,\n",
    "    data_location,\n",
    "    weights,\n",
    "    solution_mappings,\n",
    "    num_samples,\n",
    "    timepoints4,\n",
    "    verbose=True,\n",
    "    total_population=19340000,\n",
    "    num_iterations=N_ITERATIONS,\n",
    "    time_unit=\"days\",\n",
    "    visual_options={\"title\": \"Calibrated Ensemble\", \"keep\":\".*_sol\"}\n",
    ")\n",
    "\n",
    "# # Save results\n",
    "# result4A[\"data\"].to_csv(\"../../notebook/ensemble_eval_sa/ensemble_results/partI_ensemble_of_one_results.csv\", index=False)\n",
    "# result4A[\"quantiles\"].to_csv(\"../../notebook/ensemble_eval_sa/ensemble_results/partI_ensemble_of_one_quantiles.csv\", index=False)\n",
    "\n",
    "# Plot results\n",
    "schema = plots.trajectories(pd.DataFrame(result4A[\"data\"]), keep=\".*_sol\",\n",
    "                            points=all_data4.reset_index(drop=True).rename(columns={\"I\":\"I_data\", \"H\":\"H_data\", \"D\":\"D_data\"}),\n",
    "                           )\n",
    "schema = plots.pad(schema, 5)\n",
    "plots.ipy_display(schema)"
   ]
  },
  {
   "cell_type": "markdown",
   "id": "06c8f509-6a02-43e6-8864-39ee89171c01",
   "metadata": {},
   "source": [
    "### Post-process and save results"
   ]
  },
  {
   "cell_type": "code",
   "execution_count": null,
   "id": "1e6f1fc1-4d75-402b-96f6-f36d0868abb7",
   "metadata": {},
   "outputs": [],
   "source": [
    "RESULTS_FILENAME = RESULTS_PATH + \"T1_ensemble_of1_results_Apr242020.csv\"\n",
    "QUANTILES_FILENAME = RESULTS_PATH + \"T1_ensemble_of1_quantiles_Apr242020.csv\""
   ]
  },
  {
   "cell_type": "markdown",
   "id": "eea3812e-5175-48b2-b553-e5d2057c2f6c",
   "metadata": {},
   "source": [
    "## (B) Calibrate and sample an ensemble of multiple models"
   ]
  },
  {
   "cell_type": "code",
   "execution_count": null,
   "id": "fe77b9dd-0cbe-4794-b42f-2cf3e93a7264",
   "metadata": {},
   "outputs": [],
   "source": [
    "num_samples = 100\n",
    "models = [model1, model2, model3]\n",
    "data_location = DATA_PATH + \"NYS_T1_forecast4.csv\"\n",
    "weights = [0.2, 0.3, 0.5] # [1/len(models) for i in models]\n",
    "solution_mappings = [{\"I\": \"I\", \"H\": \"H\", \"D\": \"D\"},\n",
    "                     {\"I\": \"infected\", \"H\": \"hospitalized\", \"D\": \"dead\"}, \n",
    "                     {\"I\": \"infected\", \"H\": \"hospitalized\", \"D\": \"dead\"}\n",
    "                     ]\n",
    "\n",
    "# Run the calibration and sampling\n",
    "result4B = load_and_calibrate_and_sample_ensemble_model(\n",
    "    models,\n",
    "    data_location,\n",
    "    weights,\n",
    "    solution_mappings,\n",
    "    num_samples,\n",
    "    timepoints4,\n",
    "    verbose=True,\n",
    "    total_population=19340000,\n",
    "    num_iterations=N_ITERATIONS,\n",
    "    time_unit=\"days\",\n",
    "    visual_options={\"title\": \"Calibrated Ensemble\", \"keep\":\".*_sol\"}\n",
    ")\n",
    "\n",
    "# Save results\n",
    "# result4B[\"data\"].to_csv(\"../../notebook/ensemble_eval_sa/ensemble_results/partI_ensemble_of_many_results.csv\", index=False)\n",
    "# result4B[\"quantiles\"].to_csv(\"../../notebook/ensemble_eval_sa/ensemble_results/partI_ensemble_of_many_quantiles.csv\", index=False)\n",
    "\n",
    "# Plot results\n",
    "schema = plots.trajectories(pd.DataFrame(result4B[\"data\"]), keep=\".*_sol\",\n",
    "                            points=all_data4.reset_index(drop=True).rename(columns={\"I\":\"I_data\", \"H\":\"H_data\", \"D\":\"D_data\"}),\n",
    "                           )\n",
    "schema = plots.pad(schema, 5)\n",
    "plots.ipy_display(schema)"
   ]
  },
  {
   "cell_type": "markdown",
   "id": "9b23d7bc-e0ca-496b-b27f-eed72e1b98ce",
   "metadata": {},
   "source": [
    "### Post-process and save results"
   ]
  },
  {
   "cell_type": "code",
   "execution_count": null,
   "id": "852ac5dd-e160-4ae9-bc87-f0baea52b299",
   "metadata": {},
   "outputs": [],
   "source": [
    "RESULTS_FILENAME = RESULTS_PATH + \"T1_ensemble_of3_results_Apr242020.csv\"\n",
    "QUANTILES_FILENAME = RESULTS_PATH + \"T1_ensemble_of3_quantiles_Apr242020.csv\""
   ]
  }
 ],
 "metadata": {
  "kernelspec": {
   "display_name": "Python 3 (ipykernel)",
   "language": "python",
   "name": "python3"
  },
  "language_info": {
   "codemirror_mode": {
    "name": "ipython",
    "version": 3
   },
   "file_extension": ".py",
   "mimetype": "text/x-python",
   "name": "python",
   "nbconvert_exporter": "python",
   "pygments_lexer": "ipython3",
   "version": "3.10.9"
  }
 },
 "nbformat": 4,
 "nbformat_minor": 5
}
